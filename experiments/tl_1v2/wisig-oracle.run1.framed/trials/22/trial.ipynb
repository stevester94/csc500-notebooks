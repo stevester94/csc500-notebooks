{
 "cells": [
  {
   "cell_type": "markdown",
   "id": "9fea5f46",
   "metadata": {
    "papermill": {
     "duration": 0.02883,
     "end_time": "2022-03-21T15:39:34.691567",
     "exception": false,
     "start_time": "2022-03-21T15:39:34.662737",
     "status": "completed"
    },
    "tags": []
   },
   "source": [
    "# Transfer Learning Template"
   ]
  },
  {
   "cell_type": "code",
   "execution_count": 1,
   "id": "0902182a",
   "metadata": {
    "execution": {
     "iopub.execute_input": "2022-03-21T15:39:34.758077Z",
     "iopub.status.busy": "2022-03-21T15:39:34.757217Z",
     "iopub.status.idle": "2022-03-21T15:39:36.628697Z",
     "shell.execute_reply": "2022-03-21T15:39:36.629017Z"
    },
    "papermill": {
     "duration": 1.913863,
     "end_time": "2022-03-21T15:39:36.629212",
     "exception": false,
     "start_time": "2022-03-21T15:39:34.715349",
     "status": "completed"
    },
    "tags": []
   },
   "outputs": [],
   "source": [
    "%load_ext autoreload\n",
    "%autoreload 2\n",
    "%matplotlib inline\n",
    "\n",
    "    \n",
    "import os, json, sys, time, random\n",
    "import numpy as np\n",
    "import torch\n",
    "from torch.optim import Adam\n",
    "from  easydict import EasyDict\n",
    "import matplotlib.pyplot as plt\n",
    "\n",
    "from steves_models.steves_ptn import Steves_Prototypical_Network\n",
    "\n",
    "from steves_utils.lazy_iterable_wrapper import Lazy_Iterable_Wrapper\n",
    "from steves_utils.iterable_aggregator import Iterable_Aggregator\n",
    "from steves_utils.ptn_train_eval_test_jig import  PTN_Train_Eval_Test_Jig\n",
    "from steves_utils.torch_sequential_builder import build_sequential\n",
    "from steves_utils.torch_utils import get_dataset_metrics, ptn_confusion_by_domain_over_dataloader\n",
    "from steves_utils.utils_v2 import (per_domain_accuracy_from_confusion, get_datasets_base_path)\n",
    "from steves_utils.PTN.utils import independent_accuracy_assesment\n",
    "\n",
    "from torch.utils.data import DataLoader\n",
    "\n",
    "from steves_utils.stratified_dataset.episodic_accessor import Episodic_Accessor_Factory\n",
    "\n",
    "from steves_utils.ptn_do_report import (\n",
    "    get_loss_curve,\n",
    "    get_results_table,\n",
    "    get_parameters_table,\n",
    "    get_domain_accuracies,\n",
    ")\n",
    "\n",
    "from steves_utils.transforms import get_chained_transform"
   ]
  },
  {
   "cell_type": "markdown",
   "id": "41c840b4",
   "metadata": {
    "papermill": {
     "duration": 0.019404,
     "end_time": "2022-03-21T15:39:36.673214",
     "exception": false,
     "start_time": "2022-03-21T15:39:36.653810",
     "status": "completed"
    },
    "tags": []
   },
   "source": [
    "# Allowed Parameters\n",
    "These are allowed parameters, not defaults\n",
    "Each of these values need to be present in the injected parameters (the notebook will raise an exception if they are not present)\n",
    "\n",
    "Papermill uses the cell tag \"parameters\" to inject the real parameters below this cell.\n",
    "Enable tags to see what I mean"
   ]
  },
  {
   "cell_type": "code",
   "execution_count": 2,
   "id": "fd44eb83",
   "metadata": {
    "execution": {
     "iopub.execute_input": "2022-03-21T15:39:36.718125Z",
     "iopub.status.busy": "2022-03-21T15:39:36.717533Z",
     "iopub.status.idle": "2022-03-21T15:39:36.742235Z",
     "shell.execute_reply": "2022-03-21T15:39:36.741410Z"
    },
    "papermill": {
     "duration": 0.049722,
     "end_time": "2022-03-21T15:39:36.742402",
     "exception": false,
     "start_time": "2022-03-21T15:39:36.692680",
     "status": "completed"
    },
    "tags": []
   },
   "outputs": [],
   "source": [
    "required_parameters = {\n",
    "    \"experiment_name\",\n",
    "    \"lr\",\n",
    "    \"device\",\n",
    "    \"seed\",\n",
    "    \"dataset_seed\",\n",
    "    \"n_shot\",\n",
    "    \"n_query\",\n",
    "    \"n_way\",\n",
    "    \"train_k_factor\",\n",
    "    \"val_k_factor\",\n",
    "    \"test_k_factor\",\n",
    "    \"n_epoch\",\n",
    "    \"patience\",\n",
    "    \"criteria_for_best\",\n",
    "    \"x_net\",\n",
    "    \"datasets\",\n",
    "    \"torch_default_dtype\",\n",
    "    \"NUM_LOGS_PER_EPOCH\",\n",
    "    \"BEST_MODEL_PATH\",\n",
    "    \"x_shape\",\n",
    "}"
   ]
  },
  {
   "cell_type": "code",
   "execution_count": 3,
   "id": "fa3f0049",
   "metadata": {
    "execution": {
     "iopub.execute_input": "2022-03-21T15:39:36.802211Z",
     "iopub.status.busy": "2022-03-21T15:39:36.801291Z",
     "iopub.status.idle": "2022-03-21T15:39:36.824642Z",
     "shell.execute_reply": "2022-03-21T15:39:36.823827Z"
    },
    "papermill": {
     "duration": 0.05709,
     "end_time": "2022-03-21T15:39:36.824813",
     "exception": false,
     "start_time": "2022-03-21T15:39:36.767723",
     "status": "completed"
    },
    "tags": [
     "parameters"
    ]
   },
   "outputs": [],
   "source": [
    "from steves_utils.CORES.utils import (\n",
    "    ALL_NODES,\n",
    "    ALL_NODES_MINIMUM_1000_EXAMPLES,\n",
    "    ALL_DAYS\n",
    ")\n",
    "\n",
    "from steves_utils.ORACLE.utils_v2 import (\n",
    "    ALL_DISTANCES_FEET_NARROWED,\n",
    "    ALL_RUNS,\n",
    "    ALL_SERIAL_NUMBERS,\n",
    ")\n",
    "\n",
    "standalone_parameters = {}\n",
    "standalone_parameters[\"experiment_name\"] = \"STANDALONE PTN\"\n",
    "standalone_parameters[\"lr\"] = 0.001\n",
    "standalone_parameters[\"device\"] = \"cuda\"\n",
    "\n",
    "standalone_parameters[\"seed\"] = 1337\n",
    "standalone_parameters[\"dataset_seed\"] = 1337\n",
    "\n",
    "standalone_parameters[\"n_way\"] = 8\n",
    "standalone_parameters[\"n_shot\"] = 3\n",
    "standalone_parameters[\"n_query\"]  = 2\n",
    "standalone_parameters[\"train_k_factor\"] = 1\n",
    "standalone_parameters[\"val_k_factor\"] = 2\n",
    "standalone_parameters[\"test_k_factor\"] = 2\n",
    "\n",
    "\n",
    "standalone_parameters[\"n_epoch\"] = 50\n",
    "\n",
    "standalone_parameters[\"patience\"] = 10\n",
    "standalone_parameters[\"criteria_for_best\"] = \"source_loss\"\n",
    "\n",
    "standalone_parameters[\"datasets\"] = [\n",
    "    {\n",
    "        \"labels\": ALL_SERIAL_NUMBERS,\n",
    "        \"domains\": ALL_DISTANCES_FEET_NARROWED,\n",
    "        \"num_examples_per_domain_per_label\": 100,\n",
    "        \"pickle_path\": os.path.join(get_datasets_base_path(), \"oracle.Run1_framed_2000Examples_stratified_ds.2022A.pkl\"),\n",
    "        \"source_or_target_dataset\": \"source\",\n",
    "        \"x_transforms\": [\"unit_mag\", \"minus_two\"],\n",
    "        \"episode_transforms\": [],\n",
    "        \"domain_prefix\": \"ORACLE_\"\n",
    "    },\n",
    "    {\n",
    "        \"labels\": ALL_NODES,\n",
    "        \"domains\": ALL_DAYS,\n",
    "        \"num_examples_per_domain_per_label\": 100,\n",
    "        \"pickle_path\": os.path.join(get_datasets_base_path(), \"cores.stratified_ds.2022A.pkl\"),\n",
    "        \"source_or_target_dataset\": \"target\",\n",
    "        \"x_transforms\": [\"unit_power\", \"times_zero\"],\n",
    "        \"episode_transforms\": [],\n",
    "        \"domain_prefix\": \"CORES_\"\n",
    "    }   \n",
    "]\n",
    "\n",
    "standalone_parameters[\"torch_default_dtype\"] = \"torch.float32\" \n",
    "\n",
    "\n",
    "\n",
    "standalone_parameters[\"x_net\"] =     [\n",
    "    {\"class\": \"nnReshape\", \"kargs\": {\"shape\":[-1, 1, 2, 256]}},\n",
    "    {\"class\": \"Conv2d\", \"kargs\": { \"in_channels\":1, \"out_channels\":256, \"kernel_size\":(1,7), \"bias\":False, \"padding\":(0,3), },},\n",
    "    {\"class\": \"ReLU\", \"kargs\": {\"inplace\": True}},\n",
    "    {\"class\": \"BatchNorm2d\", \"kargs\": {\"num_features\":256}},\n",
    "\n",
    "    {\"class\": \"Conv2d\", \"kargs\": { \"in_channels\":256, \"out_channels\":80, \"kernel_size\":(2,7), \"bias\":True, \"padding\":(0,3), },},\n",
    "    {\"class\": \"ReLU\", \"kargs\": {\"inplace\": True}},\n",
    "    {\"class\": \"BatchNorm2d\", \"kargs\": {\"num_features\":80}},\n",
    "    {\"class\": \"Flatten\", \"kargs\": {}},\n",
    "\n",
    "    {\"class\": \"Linear\", \"kargs\": {\"in_features\": 80*256, \"out_features\": 256}}, # 80 units per IQ pair\n",
    "    {\"class\": \"ReLU\", \"kargs\": {\"inplace\": True}},\n",
    "    {\"class\": \"BatchNorm1d\", \"kargs\": {\"num_features\":256}},\n",
    "\n",
    "    {\"class\": \"Linear\", \"kargs\": {\"in_features\": 256, \"out_features\": 256}},\n",
    "]\n",
    "\n",
    "# Parameters relevant to results\n",
    "# These parameters will basically never need to change\n",
    "standalone_parameters[\"NUM_LOGS_PER_EPOCH\"] = 10\n",
    "standalone_parameters[\"BEST_MODEL_PATH\"] = \"./best_model.pth\"\n",
    "\n",
    "\n",
    "\n",
    "\n"
   ]
  },
  {
   "cell_type": "code",
   "execution_count": 4,
   "id": "1bd75b1e",
   "metadata": {
    "execution": {
     "iopub.execute_input": "2022-03-21T15:39:36.890231Z",
     "iopub.status.busy": "2022-03-21T15:39:36.889251Z",
     "iopub.status.idle": "2022-03-21T15:39:36.912534Z",
     "shell.execute_reply": "2022-03-21T15:39:36.911724Z"
    },
    "papermill": {
     "duration": 0.061328,
     "end_time": "2022-03-21T15:39:36.912700",
     "exception": false,
     "start_time": "2022-03-21T15:39:36.851372",
     "status": "completed"
    },
    "tags": [
     "injected-parameters"
    ]
   },
   "outputs": [],
   "source": [
    "# Parameters\n",
    "parameters = {\n",
    "    \"experiment_name\": \"tl_1v2:wisig-oracle.run1.framed\",\n",
    "    \"device\": \"cuda\",\n",
    "    \"lr\": 0.0001,\n",
    "    \"n_shot\": 3,\n",
    "    \"n_query\": 2,\n",
    "    \"train_k_factor\": 3,\n",
    "    \"val_k_factor\": 2,\n",
    "    \"test_k_factor\": 2,\n",
    "    \"torch_default_dtype\": \"torch.float32\",\n",
    "    \"n_epoch\": 50,\n",
    "    \"patience\": 3,\n",
    "    \"criteria_for_best\": \"target_accuracy\",\n",
    "    \"x_net\": [\n",
    "        {\"class\": \"nnReshape\", \"kargs\": {\"shape\": [-1, 1, 2, 256]}},\n",
    "        {\n",
    "            \"class\": \"Conv2d\",\n",
    "            \"kargs\": {\n",
    "                \"in_channels\": 1,\n",
    "                \"out_channels\": 256,\n",
    "                \"kernel_size\": [1, 7],\n",
    "                \"bias\": False,\n",
    "                \"padding\": [0, 3],\n",
    "            },\n",
    "        },\n",
    "        {\"class\": \"ReLU\", \"kargs\": {\"inplace\": True}},\n",
    "        {\"class\": \"BatchNorm2d\", \"kargs\": {\"num_features\": 256}},\n",
    "        {\n",
    "            \"class\": \"Conv2d\",\n",
    "            \"kargs\": {\n",
    "                \"in_channels\": 256,\n",
    "                \"out_channels\": 80,\n",
    "                \"kernel_size\": [2, 7],\n",
    "                \"bias\": True,\n",
    "                \"padding\": [0, 3],\n",
    "            },\n",
    "        },\n",
    "        {\"class\": \"ReLU\", \"kargs\": {\"inplace\": True}},\n",
    "        {\"class\": \"BatchNorm2d\", \"kargs\": {\"num_features\": 80}},\n",
    "        {\"class\": \"Flatten\", \"kargs\": {}},\n",
    "        {\"class\": \"Linear\", \"kargs\": {\"in_features\": 20480, \"out_features\": 256}},\n",
    "        {\"class\": \"ReLU\", \"kargs\": {\"inplace\": True}},\n",
    "        {\"class\": \"BatchNorm1d\", \"kargs\": {\"num_features\": 256}},\n",
    "        {\"class\": \"Linear\", \"kargs\": {\"in_features\": 256, \"out_features\": 256}},\n",
    "    ],\n",
    "    \"NUM_LOGS_PER_EPOCH\": 10,\n",
    "    \"BEST_MODEL_PATH\": \"./best_model.pth\",\n",
    "    \"n_way\": 16,\n",
    "    \"datasets\": [\n",
    "        {\n",
    "            \"labels\": [\n",
    "                \"1-10\",\n",
    "                \"1-12\",\n",
    "                \"1-14\",\n",
    "                \"1-16\",\n",
    "                \"1-18\",\n",
    "                \"1-19\",\n",
    "                \"1-8\",\n",
    "                \"10-11\",\n",
    "                \"10-17\",\n",
    "                \"10-4\",\n",
    "                \"10-7\",\n",
    "                \"11-1\",\n",
    "                \"11-10\",\n",
    "                \"11-19\",\n",
    "                \"11-20\",\n",
    "                \"11-4\",\n",
    "                \"11-7\",\n",
    "                \"12-19\",\n",
    "                \"12-20\",\n",
    "                \"12-7\",\n",
    "                \"13-14\",\n",
    "                \"13-18\",\n",
    "                \"13-19\",\n",
    "                \"13-20\",\n",
    "                \"13-3\",\n",
    "                \"13-7\",\n",
    "                \"14-10\",\n",
    "                \"14-11\",\n",
    "                \"14-12\",\n",
    "                \"14-13\",\n",
    "                \"14-14\",\n",
    "                \"14-19\",\n",
    "                \"14-20\",\n",
    "                \"14-7\",\n",
    "                \"14-8\",\n",
    "                \"14-9\",\n",
    "                \"15-1\",\n",
    "                \"15-19\",\n",
    "                \"15-6\",\n",
    "                \"16-1\",\n",
    "                \"16-16\",\n",
    "                \"16-19\",\n",
    "                \"16-20\",\n",
    "                \"17-10\",\n",
    "                \"17-11\",\n",
    "                \"18-1\",\n",
    "                \"18-10\",\n",
    "                \"18-11\",\n",
    "                \"18-12\",\n",
    "                \"18-13\",\n",
    "                \"18-14\",\n",
    "                \"18-15\",\n",
    "                \"18-16\",\n",
    "                \"18-17\",\n",
    "                \"18-19\",\n",
    "                \"18-2\",\n",
    "                \"18-20\",\n",
    "                \"18-4\",\n",
    "                \"18-5\",\n",
    "                \"18-7\",\n",
    "                \"18-8\",\n",
    "                \"18-9\",\n",
    "                \"19-1\",\n",
    "                \"19-10\",\n",
    "                \"19-11\",\n",
    "                \"19-12\",\n",
    "                \"19-13\",\n",
    "                \"19-14\",\n",
    "                \"19-15\",\n",
    "                \"19-19\",\n",
    "                \"19-2\",\n",
    "                \"19-20\",\n",
    "                \"19-3\",\n",
    "                \"19-4\",\n",
    "                \"19-6\",\n",
    "                \"19-7\",\n",
    "                \"19-8\",\n",
    "                \"19-9\",\n",
    "                \"2-1\",\n",
    "                \"2-13\",\n",
    "                \"2-15\",\n",
    "                \"2-3\",\n",
    "                \"2-4\",\n",
    "                \"2-5\",\n",
    "                \"2-6\",\n",
    "                \"2-7\",\n",
    "                \"2-8\",\n",
    "                \"20-1\",\n",
    "                \"20-12\",\n",
    "                \"20-14\",\n",
    "                \"20-15\",\n",
    "                \"20-16\",\n",
    "                \"20-18\",\n",
    "                \"20-19\",\n",
    "                \"20-20\",\n",
    "                \"20-3\",\n",
    "                \"20-4\",\n",
    "                \"20-5\",\n",
    "                \"20-7\",\n",
    "                \"20-8\",\n",
    "                \"3-1\",\n",
    "                \"3-13\",\n",
    "                \"3-18\",\n",
    "                \"3-2\",\n",
    "                \"3-8\",\n",
    "                \"4-1\",\n",
    "                \"4-10\",\n",
    "                \"4-11\",\n",
    "                \"5-1\",\n",
    "                \"5-5\",\n",
    "                \"6-1\",\n",
    "                \"6-15\",\n",
    "                \"6-6\",\n",
    "                \"7-10\",\n",
    "                \"7-11\",\n",
    "                \"7-12\",\n",
    "                \"7-13\",\n",
    "                \"7-14\",\n",
    "                \"7-7\",\n",
    "                \"7-8\",\n",
    "                \"7-9\",\n",
    "                \"8-1\",\n",
    "                \"8-13\",\n",
    "                \"8-14\",\n",
    "                \"8-18\",\n",
    "                \"8-20\",\n",
    "                \"8-3\",\n",
    "                \"8-8\",\n",
    "                \"9-1\",\n",
    "                \"9-7\",\n",
    "            ],\n",
    "            \"domains\": [1, 2, 3, 4],\n",
    "            \"num_examples_per_domain_per_label\": -1,\n",
    "            \"pickle_path\": \"/root/csc500-main/datasets/wisig.node3-19.stratified_ds.2022A.pkl\",\n",
    "            \"source_or_target_dataset\": \"target\",\n",
    "            \"x_transforms\": [\"unit_mag\"],\n",
    "            \"episode_transforms\": [],\n",
    "            \"domain_prefix\": \"Wisig_\",\n",
    "        },\n",
    "        {\n",
    "            \"labels\": [\n",
    "                \"3123D52\",\n",
    "                \"3123D65\",\n",
    "                \"3123D79\",\n",
    "                \"3123D80\",\n",
    "                \"3123D54\",\n",
    "                \"3123D70\",\n",
    "                \"3123D7B\",\n",
    "                \"3123D89\",\n",
    "                \"3123D58\",\n",
    "                \"3123D76\",\n",
    "                \"3123D7D\",\n",
    "                \"3123EFE\",\n",
    "                \"3123D64\",\n",
    "                \"3123D78\",\n",
    "                \"3123D7E\",\n",
    "                \"3124E4A\",\n",
    "            ],\n",
    "            \"domains\": [32, 38, 8, 44, 14, 50, 20, 26],\n",
    "            \"num_examples_per_domain_per_label\": 2000,\n",
    "            \"pickle_path\": \"/root/csc500-main/datasets/oracle.Run1_framed_2000Examples_stratified_ds.2022A.pkl\",\n",
    "            \"source_or_target_dataset\": \"source\",\n",
    "            \"x_transforms\": [\"unit_mag\"],\n",
    "            \"episode_transforms\": [],\n",
    "            \"domain_prefix\": \"ORACLE.run1\",\n",
    "        },\n",
    "    ],\n",
    "    \"dataset_seed\": 7,\n",
    "    \"seed\": 7,\n",
    "}\n"
   ]
  },
  {
   "cell_type": "code",
   "execution_count": 5,
   "id": "8fa1cc33",
   "metadata": {
    "execution": {
     "iopub.execute_input": "2022-03-21T15:39:36.969055Z",
     "iopub.status.busy": "2022-03-21T15:39:36.964249Z",
     "iopub.status.idle": "2022-03-21T15:39:36.992321Z",
     "shell.execute_reply": "2022-03-21T15:39:36.991463Z"
    },
    "papermill": {
     "duration": 0.05037,
     "end_time": "2022-03-21T15:39:36.992488",
     "exception": false,
     "start_time": "2022-03-21T15:39:36.942118",
     "status": "completed"
    },
    "tags": []
   },
   "outputs": [],
   "source": [
    "# Set this to True if you want to run this template directly\n",
    "STANDALONE = False\n",
    "if STANDALONE:\n",
    "    print(\"parameters not injected, running with standalone_parameters\")\n",
    "    parameters = standalone_parameters\n",
    "\n",
    "if not 'parameters' in locals() and not 'parameters' in globals():\n",
    "    raise Exception(\"Parameter injection failed\")\n",
    "\n",
    "#Use an easy dict for all the parameters\n",
    "p = EasyDict(parameters)\n",
    "\n",
    "if \"x_shape\" not in p:\n",
    "    p.x_shape = [2,256] # Default to this if we dont supply x_shape\n",
    "\n",
    "\n",
    "supplied_keys = set(p.keys())\n",
    "\n",
    "if  supplied_keys != required_parameters:\n",
    "    print(\"Parameters are incorrect\")\n",
    "    if len(supplied_keys - required_parameters)>0: print(\"Shouldn't have:\", str(supplied_keys - required_parameters))\n",
    "    if len(required_parameters - supplied_keys)>0: print(\"Need to have:\", str(required_parameters - supplied_keys))\n",
    "    raise RuntimeError(\"Parameters are incorrect\")"
   ]
  },
  {
   "cell_type": "code",
   "execution_count": 6,
   "id": "3a028d58",
   "metadata": {
    "execution": {
     "iopub.execute_input": "2022-03-21T15:39:37.043499Z",
     "iopub.status.busy": "2022-03-21T15:39:37.042235Z",
     "iopub.status.idle": "2022-03-21T15:39:37.066297Z",
     "shell.execute_reply": "2022-03-21T15:39:37.065472Z"
    },
    "papermill": {
     "duration": 0.047231,
     "end_time": "2022-03-21T15:39:37.066464",
     "exception": false,
     "start_time": "2022-03-21T15:39:37.019233",
     "status": "completed"
    },
    "tags": []
   },
   "outputs": [],
   "source": [
    "###################################\n",
    "# Set the RNGs and make it all deterministic\n",
    "###################################\n",
    "np.random.seed(p.seed)\n",
    "random.seed(p.seed)\n",
    "torch.manual_seed(p.seed)\n",
    "\n",
    "torch.use_deterministic_algorithms(True) "
   ]
  },
  {
   "cell_type": "code",
   "execution_count": 7,
   "id": "b691acf6",
   "metadata": {
    "execution": {
     "iopub.execute_input": "2022-03-21T15:39:37.116104Z",
     "iopub.status.busy": "2022-03-21T15:39:37.115527Z",
     "iopub.status.idle": "2022-03-21T15:39:37.140881Z",
     "shell.execute_reply": "2022-03-21T15:39:37.140058Z"
    },
    "papermill": {
     "duration": 0.048576,
     "end_time": "2022-03-21T15:39:37.141043",
     "exception": false,
     "start_time": "2022-03-21T15:39:37.092467",
     "status": "completed"
    },
    "tags": []
   },
   "outputs": [],
   "source": [
    "###########################################\n",
    "# The stratified datasets honor this\n",
    "###########################################\n",
    "torch.set_default_dtype(eval(p.torch_default_dtype))"
   ]
  },
  {
   "cell_type": "code",
   "execution_count": 8,
   "id": "b5fba671",
   "metadata": {
    "execution": {
     "iopub.execute_input": "2022-03-21T15:39:37.191429Z",
     "iopub.status.busy": "2022-03-21T15:39:37.191055Z",
     "iopub.status.idle": "2022-03-21T15:39:37.249916Z",
     "shell.execute_reply": "2022-03-21T15:39:37.249059Z"
    },
    "papermill": {
     "duration": 0.082368,
     "end_time": "2022-03-21T15:39:37.250098",
     "exception": false,
     "start_time": "2022-03-21T15:39:37.167730",
     "status": "completed"
    },
    "tags": []
   },
   "outputs": [],
   "source": [
    "###################################\n",
    "# Build the network(s)\n",
    "# Note: It's critical to do this AFTER setting the RNG\n",
    "###################################\n",
    "x_net = build_sequential(p.x_net)"
   ]
  },
  {
   "cell_type": "code",
   "execution_count": 9,
   "id": "5d7e61cc",
   "metadata": {
    "execution": {
     "iopub.execute_input": "2022-03-21T15:39:37.301769Z",
     "iopub.status.busy": "2022-03-21T15:39:37.301203Z",
     "iopub.status.idle": "2022-03-21T15:39:37.324432Z",
     "shell.execute_reply": "2022-03-21T15:39:37.323601Z"
    },
    "papermill": {
     "duration": 0.047824,
     "end_time": "2022-03-21T15:39:37.324599",
     "exception": false,
     "start_time": "2022-03-21T15:39:37.276775",
     "status": "completed"
    },
    "tags": []
   },
   "outputs": [],
   "source": [
    "start_time_secs = time.time()"
   ]
  },
  {
   "cell_type": "code",
   "execution_count": 10,
   "id": "c6b67dfd",
   "metadata": {
    "execution": {
     "iopub.execute_input": "2022-03-21T15:39:37.379187Z",
     "iopub.status.busy": "2022-03-21T15:39:37.378626Z",
     "iopub.status.idle": "2022-03-21T15:39:37.402168Z",
     "shell.execute_reply": "2022-03-21T15:39:37.401346Z"
    },
    "papermill": {
     "duration": 0.048598,
     "end_time": "2022-03-21T15:39:37.402331",
     "exception": false,
     "start_time": "2022-03-21T15:39:37.353733",
     "status": "completed"
    },
    "tags": []
   },
   "outputs": [],
   "source": [
    "p.domains_source = []\n",
    "p.domains_target = []\n",
    "\n",
    "\n",
    "train_original_source = []\n",
    "val_original_source   = []\n",
    "test_original_source  = []\n",
    "\n",
    "train_original_target = []\n",
    "val_original_target   = []\n",
    "test_original_target  = []"
   ]
  },
  {
   "cell_type": "code",
   "execution_count": 11,
   "id": "e3d9c3d3",
   "metadata": {
    "execution": {
     "iopub.execute_input": "2022-03-21T15:39:37.454455Z",
     "iopub.status.busy": "2022-03-21T15:39:37.453829Z",
     "iopub.status.idle": "2022-03-21T15:39:37.476912Z",
     "shell.execute_reply": "2022-03-21T15:39:37.476089Z"
    },
    "papermill": {
     "duration": 0.04684,
     "end_time": "2022-03-21T15:39:37.477075",
     "exception": false,
     "start_time": "2022-03-21T15:39:37.430235",
     "status": "completed"
    },
    "tags": []
   },
   "outputs": [],
   "source": [
    "# global_x_transform_func = lambda x: normalize(x.to(torch.get_default_dtype()), \"unit_power\") # unit_power, unit_mag\n",
    "# global_x_transform_func = lambda x: normalize(x, \"unit_power\") # unit_power, unit_mag"
   ]
  },
  {
   "cell_type": "code",
   "execution_count": 12,
   "id": "acb78fd2",
   "metadata": {
    "execution": {
     "iopub.execute_input": "2022-03-21T15:39:37.538839Z",
     "iopub.status.busy": "2022-03-21T15:39:37.537998Z",
     "iopub.status.idle": "2022-03-21T15:39:37.558465Z",
     "shell.execute_reply": "2022-03-21T15:39:37.559140Z"
    },
    "papermill": {
     "duration": 0.054465,
     "end_time": "2022-03-21T15:39:37.559339",
     "exception": false,
     "start_time": "2022-03-21T15:39:37.504874",
     "status": "completed"
    },
    "tags": []
   },
   "outputs": [],
   "source": [
    "def add_dataset(\n",
    "    labels,\n",
    "    domains,\n",
    "    pickle_path,\n",
    "    x_transforms,\n",
    "    episode_transforms,\n",
    "    domain_prefix,\n",
    "    num_examples_per_domain_per_label,\n",
    "    source_or_target_dataset:str,\n",
    "    iterator_seed=p.seed,\n",
    "    dataset_seed=p.dataset_seed,\n",
    "    n_shot=p.n_shot,\n",
    "    n_way=p.n_way,\n",
    "    n_query=p.n_query,\n",
    "    train_val_test_k_factors=(p.train_k_factor,p.val_k_factor,p.test_k_factor),\n",
    "):\n",
    "   \n",
    "    if x_transforms == []: x_transform = None\n",
    "    else: x_transform = get_chained_transform(x_transforms)\n",
    "    \n",
    "    if episode_transforms == []: episode_transform = None\n",
    "    else: raise Exception(\"episode_transforms not implemented\")\n",
    "    \n",
    "    episode_transform = lambda tup, _prefix=domain_prefix: (_prefix + str(tup[0]), tup[1])\n",
    "\n",
    "\n",
    "    eaf = Episodic_Accessor_Factory(\n",
    "        labels=labels,\n",
    "        domains=domains,\n",
    "        num_examples_per_domain_per_label=num_examples_per_domain_per_label,\n",
    "        iterator_seed=iterator_seed,\n",
    "        dataset_seed=dataset_seed,\n",
    "        n_shot=n_shot,\n",
    "        n_way=n_way,\n",
    "        n_query=n_query,\n",
    "        train_val_test_k_factors=train_val_test_k_factors,\n",
    "        pickle_path=pickle_path,\n",
    "        x_transform_func=x_transform,\n",
    "    )\n",
    "\n",
    "    train, val, test = eaf.get_train(), eaf.get_val(), eaf.get_test()\n",
    "    train = Lazy_Iterable_Wrapper(train, episode_transform)\n",
    "    val = Lazy_Iterable_Wrapper(val, episode_transform)\n",
    "    test = Lazy_Iterable_Wrapper(test, episode_transform)\n",
    "\n",
    "    if source_or_target_dataset==\"source\":\n",
    "        train_original_source.append(train)\n",
    "        val_original_source.append(val)\n",
    "        test_original_source.append(test)\n",
    "\n",
    "        p.domains_source.extend(\n",
    "            [domain_prefix + str(u) for u in domains]\n",
    "        )\n",
    "    elif source_or_target_dataset==\"target\":\n",
    "        train_original_target.append(train)\n",
    "        val_original_target.append(val)\n",
    "        test_original_target.append(test)\n",
    "        p.domains_target.extend(\n",
    "            [domain_prefix + str(u) for u in domains]\n",
    "        )\n",
    "    else:\n",
    "        raise Exception(f\"invalid source_or_target_dataset: {source_or_target_dataset}\")\n",
    "    "
   ]
  },
  {
   "cell_type": "code",
   "execution_count": 13,
   "id": "fe266617",
   "metadata": {
    "execution": {
     "iopub.execute_input": "2022-03-21T15:39:37.614040Z",
     "iopub.status.busy": "2022-03-21T15:39:37.613669Z",
     "iopub.status.idle": "2022-03-21T15:40:20.462492Z",
     "shell.execute_reply": "2022-03-21T15:40:20.461707Z"
    },
    "papermill": {
     "duration": 42.872104,
     "end_time": "2022-03-21T15:40:20.462682",
     "exception": false,
     "start_time": "2022-03-21T15:39:37.590578",
     "status": "completed"
    },
    "tags": []
   },
   "outputs": [],
   "source": [
    "for ds in p.datasets:\n",
    "    add_dataset(**ds)"
   ]
  },
  {
   "cell_type": "code",
   "execution_count": 14,
   "id": "b90d65ac",
   "metadata": {
    "execution": {
     "iopub.execute_input": "2022-03-21T15:40:20.517972Z",
     "iopub.status.busy": "2022-03-21T15:40:20.517357Z",
     "iopub.status.idle": "2022-03-21T15:40:20.542476Z",
     "shell.execute_reply": "2022-03-21T15:40:20.541710Z"
    },
    "papermill": {
     "duration": 0.050757,
     "end_time": "2022-03-21T15:40:20.542655",
     "exception": false,
     "start_time": "2022-03-21T15:40:20.491898",
     "status": "completed"
    },
    "tags": []
   },
   "outputs": [],
   "source": [
    "# from steves_utils.CORES.utils import (\n",
    "#     ALL_NODES,\n",
    "#     ALL_NODES_MINIMUM_1000_EXAMPLES,\n",
    "#     ALL_DAYS\n",
    "# )\n",
    "\n",
    "# add_dataset(\n",
    "#     labels=ALL_NODES,\n",
    "#     domains = ALL_DAYS,\n",
    "#     num_examples_per_domain_per_label=100,\n",
    "#     pickle_path=os.path.join(get_datasets_base_path(), \"cores.stratified_ds.2022A.pkl\"),\n",
    "#     source_or_target_dataset=\"target\",\n",
    "#     x_transform_func=global_x_transform_func,\n",
    "#     domain_modifier=lambda u: f\"cores_{u}\"\n",
    "# )"
   ]
  },
  {
   "cell_type": "code",
   "execution_count": 15,
   "id": "76db484d",
   "metadata": {
    "execution": {
     "iopub.execute_input": "2022-03-21T15:40:20.597006Z",
     "iopub.status.busy": "2022-03-21T15:40:20.596139Z",
     "iopub.status.idle": "2022-03-21T15:40:20.619203Z",
     "shell.execute_reply": "2022-03-21T15:40:20.618364Z"
    },
    "papermill": {
     "duration": 0.047984,
     "end_time": "2022-03-21T15:40:20.619380",
     "exception": false,
     "start_time": "2022-03-21T15:40:20.571396",
     "status": "completed"
    },
    "tags": []
   },
   "outputs": [],
   "source": [
    "# from steves_utils.ORACLE.utils_v2 import (\n",
    "#     ALL_DISTANCES_FEET,\n",
    "#     ALL_RUNS,\n",
    "#     ALL_SERIAL_NUMBERS,\n",
    "# )\n",
    "\n",
    "\n",
    "# add_dataset(\n",
    "#     labels=ALL_SERIAL_NUMBERS,\n",
    "#     domains = list(set(ALL_DISTANCES_FEET) - {2,62}),\n",
    "#     num_examples_per_domain_per_label=100,\n",
    "#     pickle_path=os.path.join(get_datasets_base_path(), \"oracle.Run2_framed_2000Examples_stratified_ds.2022A.pkl\"),\n",
    "#     source_or_target_dataset=\"source\",\n",
    "#     x_transform_func=global_x_transform_func,\n",
    "#     domain_modifier=lambda u: f\"oracle1_{u}\"\n",
    "# )\n"
   ]
  },
  {
   "cell_type": "code",
   "execution_count": 16,
   "id": "97dea9d2",
   "metadata": {
    "execution": {
     "iopub.execute_input": "2022-03-21T15:40:20.675335Z",
     "iopub.status.busy": "2022-03-21T15:40:20.674952Z",
     "iopub.status.idle": "2022-03-21T15:40:20.699393Z",
     "shell.execute_reply": "2022-03-21T15:40:20.698612Z"
    },
    "papermill": {
     "duration": 0.049668,
     "end_time": "2022-03-21T15:40:20.699611",
     "exception": false,
     "start_time": "2022-03-21T15:40:20.649943",
     "status": "completed"
    },
    "tags": []
   },
   "outputs": [],
   "source": [
    "# from steves_utils.ORACLE.utils_v2 import (\n",
    "#     ALL_DISTANCES_FEET,\n",
    "#     ALL_RUNS,\n",
    "#     ALL_SERIAL_NUMBERS,\n",
    "# )\n",
    "\n",
    "\n",
    "# add_dataset(\n",
    "#     labels=ALL_SERIAL_NUMBERS,\n",
    "#     domains = list(set(ALL_DISTANCES_FEET) - {2,62,56}),\n",
    "#     num_examples_per_domain_per_label=100,\n",
    "#     pickle_path=os.path.join(get_datasets_base_path(), \"oracle.Run2_framed_2000Examples_stratified_ds.2022A.pkl\"),\n",
    "#     source_or_target_dataset=\"source\",\n",
    "#     x_transform_func=global_x_transform_func,\n",
    "#     domain_modifier=lambda u: f\"oracle2_{u}\"\n",
    "# )"
   ]
  },
  {
   "cell_type": "code",
   "execution_count": 17,
   "id": "6f289866",
   "metadata": {
    "execution": {
     "iopub.execute_input": "2022-03-21T15:40:20.754007Z",
     "iopub.status.busy": "2022-03-21T15:40:20.753026Z",
     "iopub.status.idle": "2022-03-21T15:40:20.776062Z",
     "shell.execute_reply": "2022-03-21T15:40:20.775299Z"
    },
    "papermill": {
     "duration": 0.048147,
     "end_time": "2022-03-21T15:40:20.776237",
     "exception": false,
     "start_time": "2022-03-21T15:40:20.728090",
     "status": "completed"
    },
    "tags": []
   },
   "outputs": [],
   "source": [
    "# add_dataset(\n",
    "#     labels=list(range(19)),\n",
    "#     domains = [0,1,2],\n",
    "#     num_examples_per_domain_per_label=100,\n",
    "#     pickle_path=os.path.join(get_datasets_base_path(), \"metehan.stratified_ds.2022A.pkl\"),\n",
    "#     source_or_target_dataset=\"target\",\n",
    "#     x_transform_func=global_x_transform_func,\n",
    "#     domain_modifier=lambda u: f\"met_{u}\"\n",
    "# )"
   ]
  },
  {
   "cell_type": "code",
   "execution_count": 18,
   "id": "86a863c3",
   "metadata": {
    "execution": {
     "iopub.execute_input": "2022-03-21T15:40:20.830745Z",
     "iopub.status.busy": "2022-03-21T15:40:20.830363Z",
     "iopub.status.idle": "2022-03-21T15:40:20.846757Z",
     "shell.execute_reply": "2022-03-21T15:40:20.846028Z"
    },
    "papermill": {
     "duration": 0.040525,
     "end_time": "2022-03-21T15:40:20.846927",
     "exception": false,
     "start_time": "2022-03-21T15:40:20.806402",
     "status": "completed"
    },
    "tags": []
   },
   "outputs": [],
   "source": [
    "# # from steves_utils.wisig.utils import (\n",
    "# #     ALL_NODES_MINIMUM_100_EXAMPLES,\n",
    "# #     ALL_NODES_MINIMUM_500_EXAMPLES,\n",
    "# #     ALL_NODES_MINIMUM_1000_EXAMPLES,\n",
    "# #     ALL_DAYS\n",
    "# # )\n",
    "\n",
    "# import steves_utils.wisig.utils as wisig\n",
    "\n",
    "\n",
    "# add_dataset(\n",
    "#     labels=wisig.ALL_NODES_MINIMUM_100_EXAMPLES,\n",
    "#     domains = wisig.ALL_DAYS,\n",
    "#     num_examples_per_domain_per_label=100,\n",
    "#     pickle_path=os.path.join(get_datasets_base_path(), \"wisig.node3-19.stratified_ds.2022A.pkl\"),\n",
    "#     source_or_target_dataset=\"target\",\n",
    "#     x_transform_func=global_x_transform_func,\n",
    "#     domain_modifier=lambda u: f\"wisig_{u}\"\n",
    "# )"
   ]
  },
  {
   "cell_type": "code",
   "execution_count": 19,
   "id": "fd5442bc",
   "metadata": {
    "execution": {
     "iopub.execute_input": "2022-03-21T15:40:20.904450Z",
     "iopub.status.busy": "2022-03-21T15:40:20.903858Z",
     "iopub.status.idle": "2022-03-21T15:40:20.923341Z",
     "shell.execute_reply": "2022-03-21T15:40:20.922617Z"
    },
    "papermill": {
     "duration": 0.047717,
     "end_time": "2022-03-21T15:40:20.923510",
     "exception": false,
     "start_time": "2022-03-21T15:40:20.875793",
     "status": "completed"
    },
    "tags": []
   },
   "outputs": [],
   "source": [
    "###################################\n",
    "# Build the dataset\n",
    "###################################\n",
    "train_original_source = Iterable_Aggregator(train_original_source, p.seed)\n",
    "val_original_source = Iterable_Aggregator(val_original_source, p.seed)\n",
    "test_original_source = Iterable_Aggregator(test_original_source, p.seed)\n",
    "\n",
    "\n",
    "train_original_target = Iterable_Aggregator(train_original_target, p.seed)\n",
    "val_original_target = Iterable_Aggregator(val_original_target, p.seed)\n",
    "test_original_target = Iterable_Aggregator(test_original_target, p.seed)\n",
    "\n",
    "# For CNN We only use X and Y. And we only train on the source.\n",
    "# Properly form the data using a transform lambda and Lazy_Iterable_Wrapper. Finally wrap them in a dataloader\n",
    "\n",
    "transform_lambda = lambda ex: ex[1] # Original is (<domain>, <episode>) so we strip down to episode only\n",
    "\n",
    "train_processed_source = Lazy_Iterable_Wrapper(train_original_source, transform_lambda)\n",
    "val_processed_source   = Lazy_Iterable_Wrapper(val_original_source, transform_lambda)\n",
    "test_processed_source  = Lazy_Iterable_Wrapper(test_original_source, transform_lambda)\n",
    "\n",
    "train_processed_target = Lazy_Iterable_Wrapper(train_original_target, transform_lambda)\n",
    "val_processed_target   = Lazy_Iterable_Wrapper(val_original_target, transform_lambda)\n",
    "test_processed_target  = Lazy_Iterable_Wrapper(test_original_target, transform_lambda)\n",
    "\n",
    "datasets = EasyDict({\n",
    "    \"source\": {\n",
    "        \"original\": {\"train\":train_original_source, \"val\":val_original_source, \"test\":test_original_source},\n",
    "        \"processed\": {\"train\":train_processed_source, \"val\":val_processed_source, \"test\":test_processed_source}\n",
    "    },\n",
    "    \"target\": {\n",
    "        \"original\": {\"train\":train_original_target, \"val\":val_original_target, \"test\":test_original_target},\n",
    "        \"processed\": {\"train\":train_processed_target, \"val\":val_processed_target, \"test\":test_processed_target}\n",
    "    },\n",
    "})"
   ]
  },
  {
   "cell_type": "code",
   "execution_count": 20,
   "id": "5b3c01fc",
   "metadata": {
    "execution": {
     "iopub.execute_input": "2022-03-21T15:40:20.978452Z",
     "iopub.status.busy": "2022-03-21T15:40:20.978070Z",
     "iopub.status.idle": "2022-03-21T15:40:36.934384Z",
     "shell.execute_reply": "2022-03-21T15:40:36.933332Z"
    },
    "papermill": {
     "duration": 15.98174,
     "end_time": "2022-03-21T15:40:36.934621",
     "exception": false,
     "start_time": "2022-03-21T15:40:20.952881",
     "status": "completed"
    },
    "tags": []
   },
   "outputs": [
    {
     "name": "stdout",
     "output_type": "stream",
     "text": [
      "{'ORACLE.run144', 'ORACLE.run138', 'ORACLE.run114', 'ORACLE.run18', 'ORACLE.run132', 'ORACLE.run120', 'ORACLE.run126', 'ORACLE.run150'}\n"
     ]
    },
    {
     "name": "stdout",
     "output_type": "stream",
     "text": [
      "{'Wisig_2', 'Wisig_3', 'Wisig_4', 'Wisig_1'}\n"
     ]
    },
    {
     "name": "stdout",
     "output_type": "stream",
     "text": [
      "tensor([[[ 0.8950,  0.6777, -0.8950,  ..., -0.7472,  0.0087, -1.2251],\n",
      "         [-0.5648,  0.4431,  0.9210,  ..., -0.7646, -1.3555, -0.0348]],\n",
      "\n",
      "        [[ 0.4454,  1.0655, -0.7162,  ..., -0.7773,  0.8996, -0.0262],\n",
      "         [-0.3756,  0.6376,  0.3406,  ..., -0.5153, -1.0044, -0.9607]],\n",
      "\n",
      "        [[-0.3479, -0.6871,  0.8698,  ...,  0.7393, -1.0872, -0.3740],\n",
      "         [ 0.2609, -0.9307, -0.1913,  ...,  0.7828,  0.7045,  0.8089]],\n",
      "\n",
      "        ...,\n",
      "\n",
      "        [[-0.4380, -1.0049,  0.4294,  ...,  1.0049,  0.4208,  1.1165],\n",
      "         [ 1.0392,  0.0687, -1.1938,  ...,  0.0601,  1.2454, -0.2748]],\n",
      "\n",
      "        [[ 0.5300,  0.0085, -0.7608,  ..., -0.0769,  1.2823,  0.7779],\n",
      "         [ 0.0000,  1.1455, -0.4274,  ..., -0.9062,  0.1539, -0.5984]],\n",
      "\n",
      "        [[ 0.9548,  0.4978, -1.0283,  ..., -0.6774,  0.0082, -1.3711],\n",
      "         [-0.5386,  0.5141,  0.7671,  ..., -0.8406, -1.1997,  0.1306]]])\n"
     ]
    }
   ],
   "source": [
    "from steves_utils.transforms import get_average_magnitude, get_average_power\n",
    "\n",
    "print(set([u for u,_ in val_original_source]))\n",
    "print(set([u for u,_ in val_original_target]))\n",
    "\n",
    "s_x, s_y, q_x, q_y, _ = next(iter(train_processed_source))\n",
    "print(s_x)\n",
    "\n",
    "# for ds in [\n",
    "#     train_processed_source,\n",
    "#     val_processed_source,\n",
    "#     test_processed_source,\n",
    "#     train_processed_target,\n",
    "#     val_processed_target,\n",
    "#     test_processed_target\n",
    "# ]:\n",
    "#     for s_x, s_y, q_x, q_y, _ in ds:\n",
    "#         for X in (s_x, q_x):\n",
    "#             for x in X:\n",
    "#                 assert np.isclose(get_average_magnitude(x.numpy()), 1.0)\n",
    "#                 assert np.isclose(get_average_power(x.numpy()), 1.0)\n",
    "                "
   ]
  },
  {
   "cell_type": "code",
   "execution_count": 21,
   "id": "bbdacba1",
   "metadata": {
    "execution": {
     "iopub.execute_input": "2022-03-21T15:40:36.994637Z",
     "iopub.status.busy": "2022-03-21T15:40:36.993974Z",
     "iopub.status.idle": "2022-03-21T15:40:37.248335Z",
     "shell.execute_reply": "2022-03-21T15:40:37.247958Z"
    },
    "papermill": {
     "duration": 0.283815,
     "end_time": "2022-03-21T15:40:37.248456",
     "exception": false,
     "start_time": "2022-03-21T15:40:36.964641",
     "status": "completed"
    },
    "tags": []
   },
   "outputs": [
    {
     "name": "stdout",
     "output_type": "stream",
     "text": [
      "(2, 256)\n"
     ]
    }
   ],
   "source": [
    "###################################\n",
    "# Build the model\n",
    "###################################\n",
    "# easfsl only wants a tuple for the shape\n",
    "model = Steves_Prototypical_Network(x_net, device=p.device, x_shape=tuple(p.x_shape))\n",
    "optimizer = Adam(params=model.parameters(), lr=p.lr)"
   ]
  },
  {
   "cell_type": "code",
   "execution_count": 22,
   "id": "22b39ac5",
   "metadata": {
    "execution": {
     "iopub.execute_input": "2022-03-21T15:40:37.299351Z",
     "iopub.status.busy": "2022-03-21T15:40:37.298935Z",
     "iopub.status.idle": "2022-03-21T16:11:55.412003Z",
     "shell.execute_reply": "2022-03-21T16:11:55.411646Z"
    },
    "papermill": {
     "duration": 1878.140138,
     "end_time": "2022-03-21T16:11:55.412095",
     "exception": false,
     "start_time": "2022-03-21T15:40:37.271957",
     "status": "completed"
    },
    "tags": []
   },
   "outputs": [
    {
     "name": "stdout",
     "output_type": "stream",
     "text": [
      "epoch: 1, [batch: 1 / 6720], examples_per_second: 33.1248, train_label_loss: 3.1039, \n"
     ]
    },
    {
     "name": "stdout",
     "output_type": "stream",
     "text": [
      "epoch: 1, [batch: 672 / 6720], examples_per_second: 2305.6758, train_label_loss: 1.7134, \n"
     ]
    },
    {
     "name": "stdout",
     "output_type": "stream",
     "text": [
      "epoch: 1, [batch: 1344 / 6720], examples_per_second: 2306.6625, train_label_loss: 0.7895, \n"
     ]
    },
    {
     "name": "stdout",
     "output_type": "stream",
     "text": [
      "epoch: 1, [batch: 2016 / 6720], examples_per_second: 2288.0168, train_label_loss: 0.7717, \n"
     ]
    },
    {
     "name": "stdout",
     "output_type": "stream",
     "text": [
      "epoch: 1, [batch: 2688 / 6720], examples_per_second: 2299.9239, train_label_loss: 0.7008, \n"
     ]
    },
    {
     "name": "stdout",
     "output_type": "stream",
     "text": [
      "epoch: 1, [batch: 3360 / 6720], examples_per_second: 2296.9027, train_label_loss: 0.5699, \n"
     ]
    },
    {
     "name": "stdout",
     "output_type": "stream",
     "text": [
      "epoch: 1, [batch: 4032 / 6720], examples_per_second: 2300.5193, train_label_loss: 0.6911, \n"
     ]
    },
    {
     "name": "stdout",
     "output_type": "stream",
     "text": [
      "epoch: 1, [batch: 4704 / 6720], examples_per_second: 2566.3511, train_label_loss: 0.8038, \n"
     ]
    },
    {
     "name": "stdout",
     "output_type": "stream",
     "text": [
      "epoch: 1, [batch: 5376 / 6720], examples_per_second: 2965.9971, train_label_loss: 0.9670, \n"
     ]
    },
    {
     "name": "stdout",
     "output_type": "stream",
     "text": [
      "epoch: 1, [batch: 6048 / 6720], examples_per_second: 3071.8298, train_label_loss: 0.4413, \n"
     ]
    },
    {
     "name": "stdout",
     "output_type": "stream",
     "text": [
      "=============================================================\n",
      "epoch: 1, source_val_acc_label: 0.7740, target_val_acc_label: 0.4991, source_val_label_loss: 8.6561, target_val_label_loss: 957.6351, \n",
      "=============================================================\n"
     ]
    },
    {
     "name": "stdout",
     "output_type": "stream",
     "text": [
      "New best\n"
     ]
    },
    {
     "name": "stdout",
     "output_type": "stream",
     "text": [
      "epoch: 2, [batch: 1 / 6720], examples_per_second: 2.0423, train_label_loss: 0.8748, \n"
     ]
    },
    {
     "name": "stdout",
     "output_type": "stream",
     "text": [
      "epoch: 2, [batch: 672 / 6720], examples_per_second: 2326.4872, train_label_loss: 0.7547, \n"
     ]
    },
    {
     "name": "stdout",
     "output_type": "stream",
     "text": [
      "epoch: 2, [batch: 1344 / 6720], examples_per_second: 2339.4794, train_label_loss: 0.8802, \n"
     ]
    },
    {
     "name": "stdout",
     "output_type": "stream",
     "text": [
      "epoch: 2, [batch: 2016 / 6720], examples_per_second: 2316.9633, train_label_loss: 0.3665, \n"
     ]
    },
    {
     "name": "stdout",
     "output_type": "stream",
     "text": [
      "epoch: 2, [batch: 2688 / 6720], examples_per_second: 2297.2104, train_label_loss: 0.8273, \n"
     ]
    },
    {
     "name": "stdout",
     "output_type": "stream",
     "text": [
      "epoch: 2, [batch: 3360 / 6720], examples_per_second: 2339.4948, train_label_loss: 0.5219, \n"
     ]
    },
    {
     "name": "stdout",
     "output_type": "stream",
     "text": [
      "epoch: 2, [batch: 4032 / 6720], examples_per_second: 2324.6652, train_label_loss: 0.3693, \n"
     ]
    },
    {
     "name": "stdout",
     "output_type": "stream",
     "text": [
      "epoch: 2, [batch: 4704 / 6720], examples_per_second: 2634.6358, train_label_loss: 0.4625, \n"
     ]
    },
    {
     "name": "stdout",
     "output_type": "stream",
     "text": [
      "epoch: 2, [batch: 5376 / 6720], examples_per_second: 2992.3400, train_label_loss: 0.0929, \n"
     ]
    },
    {
     "name": "stdout",
     "output_type": "stream",
     "text": [
      "epoch: 2, [batch: 6048 / 6720], examples_per_second: 3059.5712, train_label_loss: 0.4184, \n"
     ]
    },
    {
     "name": "stdout",
     "output_type": "stream",
     "text": [
      "=============================================================\n",
      "epoch: 2, source_val_acc_label: 0.8114, target_val_acc_label: 0.5918, source_val_label_loss: 0.5258, target_val_label_loss: 322.7882, \n",
      "=============================================================\n"
     ]
    },
    {
     "name": "stdout",
     "output_type": "stream",
     "text": [
      "New best\n"
     ]
    },
    {
     "name": "stdout",
     "output_type": "stream",
     "text": [
      "epoch: 3, [batch: 1 / 6720], examples_per_second: 2.0413, train_label_loss: 0.1514, \n"
     ]
    },
    {
     "name": "stdout",
     "output_type": "stream",
     "text": [
      "epoch: 3, [batch: 672 / 6720], examples_per_second: 2327.9343, train_label_loss: 0.4995, \n"
     ]
    },
    {
     "name": "stdout",
     "output_type": "stream",
     "text": [
      "epoch: 3, [batch: 1344 / 6720], examples_per_second: 2323.5263, train_label_loss: 0.2954, \n"
     ]
    },
    {
     "name": "stdout",
     "output_type": "stream",
     "text": [
      "epoch: 3, [batch: 2016 / 6720], examples_per_second: 2300.6038, train_label_loss: 0.6068, \n"
     ]
    },
    {
     "name": "stdout",
     "output_type": "stream",
     "text": [
      "epoch: 3, [batch: 2688 / 6720], examples_per_second: 2314.8068, train_label_loss: 0.3940, \n"
     ]
    },
    {
     "name": "stdout",
     "output_type": "stream",
     "text": [
      "epoch: 3, [batch: 3360 / 6720], examples_per_second: 2324.1287, train_label_loss: 0.5689, \n"
     ]
    },
    {
     "name": "stdout",
     "output_type": "stream",
     "text": [
      "epoch: 3, [batch: 4032 / 6720], examples_per_second: 2299.4279, train_label_loss: 0.3219, \n"
     ]
    },
    {
     "name": "stdout",
     "output_type": "stream",
     "text": [
      "epoch: 3, [batch: 4704 / 6720], examples_per_second: 2749.8043, train_label_loss: 0.3178, \n"
     ]
    },
    {
     "name": "stdout",
     "output_type": "stream",
     "text": [
      "epoch: 3, [batch: 5376 / 6720], examples_per_second: 2996.3191, train_label_loss: 0.5885, \n"
     ]
    },
    {
     "name": "stdout",
     "output_type": "stream",
     "text": [
      "epoch: 3, [batch: 6048 / 6720], examples_per_second: 3054.9806, train_label_loss: 0.5471, \n"
     ]
    },
    {
     "name": "stdout",
     "output_type": "stream",
     "text": [
      "=============================================================\n",
      "epoch: 3, source_val_acc_label: 0.8394, target_val_acc_label: 0.6116, source_val_label_loss: 0.4423, target_val_label_loss: 385.8820, \n",
      "=============================================================\n"
     ]
    },
    {
     "name": "stdout",
     "output_type": "stream",
     "text": [
      "New best\n"
     ]
    },
    {
     "name": "stdout",
     "output_type": "stream",
     "text": [
      "epoch: 4, [batch: 1 / 6720], examples_per_second: 2.2412, train_label_loss: 0.3949, \n"
     ]
    },
    {
     "name": "stdout",
     "output_type": "stream",
     "text": [
      "epoch: 4, [batch: 672 / 6720], examples_per_second: 2590.9966, train_label_loss: 0.2123, \n"
     ]
    },
    {
     "name": "stdout",
     "output_type": "stream",
     "text": [
      "epoch: 4, [batch: 1344 / 6720], examples_per_second: 2619.1422, train_label_loss: 0.4815, \n"
     ]
    },
    {
     "name": "stdout",
     "output_type": "stream",
     "text": [
      "epoch: 4, [batch: 2016 / 6720], examples_per_second: 2613.7638, train_label_loss: 0.3247, \n"
     ]
    },
    {
     "name": "stdout",
     "output_type": "stream",
     "text": [
      "epoch: 4, [batch: 2688 / 6720], examples_per_second: 2678.8268, train_label_loss: 0.2644, \n"
     ]
    },
    {
     "name": "stdout",
     "output_type": "stream",
     "text": [
      "epoch: 4, [batch: 3360 / 6720], examples_per_second: 2920.5322, train_label_loss: 0.3496, \n"
     ]
    },
    {
     "name": "stdout",
     "output_type": "stream",
     "text": [
      "epoch: 4, [batch: 4032 / 6720], examples_per_second: 2731.6108, train_label_loss: 0.1967, \n"
     ]
    },
    {
     "name": "stdout",
     "output_type": "stream",
     "text": [
      "epoch: 4, [batch: 4704 / 6720], examples_per_second: 2720.1917, train_label_loss: 0.8688, \n"
     ]
    },
    {
     "name": "stdout",
     "output_type": "stream",
     "text": [
      "epoch: 4, [batch: 5376 / 6720], examples_per_second: 2982.1952, train_label_loss: 0.2100, \n"
     ]
    },
    {
     "name": "stdout",
     "output_type": "stream",
     "text": [
      "epoch: 4, [batch: 6048 / 6720], examples_per_second: 3090.6080, train_label_loss: 0.2076, \n"
     ]
    },
    {
     "name": "stdout",
     "output_type": "stream",
     "text": [
      "=============================================================\n",
      "epoch: 4, source_val_acc_label: 0.8795, target_val_acc_label: 0.6087, source_val_label_loss: 0.3379, target_val_label_loss: 444.9405, \n",
      "=============================================================\n"
     ]
    },
    {
     "name": "stdout",
     "output_type": "stream",
     "text": [
      "epoch: 5, [batch: 1 / 6720], examples_per_second: 2.0320, train_label_loss: 0.6245, \n"
     ]
    },
    {
     "name": "stdout",
     "output_type": "stream",
     "text": [
      "epoch: 5, [batch: 672 / 6720], examples_per_second: 2304.6439, train_label_loss: 0.3745, \n"
     ]
    },
    {
     "name": "stdout",
     "output_type": "stream",
     "text": [
      "epoch: 5, [batch: 1344 / 6720], examples_per_second: 2317.6135, train_label_loss: 0.2354, \n"
     ]
    },
    {
     "name": "stdout",
     "output_type": "stream",
     "text": [
      "epoch: 5, [batch: 2016 / 6720], examples_per_second: 2338.9716, train_label_loss: 0.2657, \n"
     ]
    },
    {
     "name": "stdout",
     "output_type": "stream",
     "text": [
      "epoch: 5, [batch: 2688 / 6720], examples_per_second: 2327.3538, train_label_loss: 0.1491, \n"
     ]
    },
    {
     "name": "stdout",
     "output_type": "stream",
     "text": [
      "epoch: 5, [batch: 3360 / 6720], examples_per_second: 2314.2793, train_label_loss: 0.3591, \n"
     ]
    },
    {
     "name": "stdout",
     "output_type": "stream",
     "text": [
      "epoch: 5, [batch: 4032 / 6720], examples_per_second: 2338.7969, train_label_loss: 0.4537, \n"
     ]
    },
    {
     "name": "stdout",
     "output_type": "stream",
     "text": [
      "epoch: 5, [batch: 4704 / 6720], examples_per_second: 2762.3549, train_label_loss: 0.2485, \n"
     ]
    },
    {
     "name": "stdout",
     "output_type": "stream",
     "text": [
      "epoch: 5, [batch: 5376 / 6720], examples_per_second: 2996.9148, train_label_loss: 0.1755, \n"
     ]
    },
    {
     "name": "stdout",
     "output_type": "stream",
     "text": [
      "epoch: 5, [batch: 6048 / 6720], examples_per_second: 3031.8069, train_label_loss: 0.0625, \n"
     ]
    },
    {
     "name": "stdout",
     "output_type": "stream",
     "text": [
      "=============================================================\n",
      "epoch: 5, source_val_acc_label: 0.8844, target_val_acc_label: 0.5951, source_val_label_loss: 0.3258, target_val_label_loss: 501.4463, \n",
      "=============================================================\n"
     ]
    },
    {
     "name": "stdout",
     "output_type": "stream",
     "text": [
      "epoch: 6, [batch: 1 / 6720], examples_per_second: 2.0144, train_label_loss: 0.2601, \n"
     ]
    },
    {
     "name": "stdout",
     "output_type": "stream",
     "text": [
      "epoch: 6, [batch: 672 / 6720], examples_per_second: 2313.5855, train_label_loss: 0.3940, \n"
     ]
    },
    {
     "name": "stdout",
     "output_type": "stream",
     "text": [
      "epoch: 6, [batch: 1344 / 6720], examples_per_second: 2324.2859, train_label_loss: 0.1998, \n"
     ]
    },
    {
     "name": "stdout",
     "output_type": "stream",
     "text": [
      "epoch: 6, [batch: 2016 / 6720], examples_per_second: 2318.8739, train_label_loss: 0.1993, \n"
     ]
    },
    {
     "name": "stdout",
     "output_type": "stream",
     "text": [
      "epoch: 6, [batch: 2688 / 6720], examples_per_second: 2332.5469, train_label_loss: 0.0556, \n"
     ]
    },
    {
     "name": "stdout",
     "output_type": "stream",
     "text": [
      "epoch: 6, [batch: 3360 / 6720], examples_per_second: 2328.5681, train_label_loss: 0.2784, \n"
     ]
    },
    {
     "name": "stdout",
     "output_type": "stream",
     "text": [
      "epoch: 6, [batch: 4032 / 6720], examples_per_second: 2365.3132, train_label_loss: 0.0849, \n"
     ]
    },
    {
     "name": "stdout",
     "output_type": "stream",
     "text": [
      "epoch: 6, [batch: 4704 / 6720], examples_per_second: 2805.1427, train_label_loss: 0.2565, \n"
     ]
    },
    {
     "name": "stdout",
     "output_type": "stream",
     "text": [
      "epoch: 6, [batch: 5376 / 6720], examples_per_second: 2973.9399, train_label_loss: 0.3348, \n"
     ]
    },
    {
     "name": "stdout",
     "output_type": "stream",
     "text": [
      "epoch: 6, [batch: 6048 / 6720], examples_per_second: 3050.1217, train_label_loss: 0.2793, \n"
     ]
    },
    {
     "name": "stdout",
     "output_type": "stream",
     "text": [
      "=============================================================\n",
      "epoch: 6, source_val_acc_label: 0.8732, target_val_acc_label: 0.5740, source_val_label_loss: 0.3575, target_val_label_loss: 1276.3165, \n",
      "=============================================================\n"
     ]
    },
    {
     "name": "stdout",
     "output_type": "stream",
     "text": [
      "epoch: 7, [batch: 1 / 6720], examples_per_second: 1.9995, train_label_loss: 0.0313, \n"
     ]
    },
    {
     "name": "stdout",
     "output_type": "stream",
     "text": [
      "epoch: 7, [batch: 672 / 6720], examples_per_second: 2321.7606, train_label_loss: 0.2611, \n"
     ]
    },
    {
     "name": "stdout",
     "output_type": "stream",
     "text": [
      "epoch: 7, [batch: 1344 / 6720], examples_per_second: 2323.2500, train_label_loss: 0.6763, \n"
     ]
    },
    {
     "name": "stdout",
     "output_type": "stream",
     "text": [
      "epoch: 7, [batch: 2016 / 6720], examples_per_second: 2337.9421, train_label_loss: 0.2924, \n"
     ]
    },
    {
     "name": "stdout",
     "output_type": "stream",
     "text": [
      "epoch: 7, [batch: 2688 / 6720], examples_per_second: 2327.3030, train_label_loss: 0.0226, \n"
     ]
    },
    {
     "name": "stdout",
     "output_type": "stream",
     "text": [
      "epoch: 7, [batch: 3360 / 6720], examples_per_second: 2334.6178, train_label_loss: 0.3804, \n"
     ]
    },
    {
     "name": "stdout",
     "output_type": "stream",
     "text": [
      "epoch: 7, [batch: 4032 / 6720], examples_per_second: 2417.0168, train_label_loss: 0.1718, \n"
     ]
    },
    {
     "name": "stdout",
     "output_type": "stream",
     "text": [
      "epoch: 7, [batch: 4704 / 6720], examples_per_second: 2855.6494, train_label_loss: 0.2251, \n"
     ]
    },
    {
     "name": "stdout",
     "output_type": "stream",
     "text": [
      "epoch: 7, [batch: 5376 / 6720], examples_per_second: 2943.2726, train_label_loss: 0.2842, \n"
     ]
    },
    {
     "name": "stdout",
     "output_type": "stream",
     "text": [
      "epoch: 7, [batch: 6048 / 6720], examples_per_second: 2874.0688, train_label_loss: 0.3165, \n"
     ]
    },
    {
     "name": "stdout",
     "output_type": "stream",
     "text": [
      "=============================================================\n",
      "epoch: 7, source_val_acc_label: 0.8943, target_val_acc_label: 0.4894, source_val_label_loss: 0.3584, target_val_label_loss: 3937.3103, \n",
      "=============================================================\n"
     ]
    },
    {
     "name": "stdout",
     "output_type": "stream",
     "text": [
      "Patience (3) exhausted\n"
     ]
    }
   ],
   "source": [
    "###################################\n",
    "# train\n",
    "###################################\n",
    "jig = PTN_Train_Eval_Test_Jig(model, p.BEST_MODEL_PATH, p.device)\n",
    "\n",
    "jig.train(\n",
    "    train_iterable=datasets.source.processed.train,\n",
    "    source_val_iterable=datasets.source.processed.val,\n",
    "    target_val_iterable=datasets.target.processed.val,\n",
    "    num_epochs=p.n_epoch,\n",
    "    num_logs_per_epoch=p.NUM_LOGS_PER_EPOCH,\n",
    "    patience=p.patience,\n",
    "    optimizer=optimizer,\n",
    "    criteria_for_best=p.criteria_for_best,\n",
    ")"
   ]
  },
  {
   "cell_type": "code",
   "execution_count": 23,
   "id": "31e8fabf",
   "metadata": {
    "execution": {
     "iopub.execute_input": "2022-03-21T16:11:55.507445Z",
     "iopub.status.busy": "2022-03-21T16:11:55.506867Z",
     "iopub.status.idle": "2022-03-21T16:11:55.539354Z",
     "shell.execute_reply": "2022-03-21T16:11:55.538626Z"
    },
    "papermill": {
     "duration": 0.082725,
     "end_time": "2022-03-21T16:11:55.539562",
     "exception": false,
     "start_time": "2022-03-21T16:11:55.456837",
     "status": "completed"
    },
    "tags": []
   },
   "outputs": [],
   "source": [
    "total_experiment_time_secs = time.time() - start_time_secs"
   ]
  },
  {
   "cell_type": "code",
   "execution_count": 24,
   "id": "87b9595b",
   "metadata": {
    "execution": {
     "iopub.execute_input": "2022-03-21T16:11:55.642559Z",
     "iopub.status.busy": "2022-03-21T16:11:55.642155Z",
     "iopub.status.idle": "2022-03-21T16:15:45.143069Z",
     "shell.execute_reply": "2022-03-21T16:15:45.142334Z"
    },
    "papermill": {
     "duration": 229.552878,
     "end_time": "2022-03-21T16:15:45.143261",
     "exception": false,
     "start_time": "2022-03-21T16:11:55.590383",
     "status": "completed"
    },
    "tags": []
   },
   "outputs": [],
   "source": [
    "###################################\n",
    "# Evaluate the model\n",
    "###################################\n",
    "source_test_label_accuracy, source_test_label_loss = jig.test(datasets.source.processed.test)\n",
    "target_test_label_accuracy, target_test_label_loss = jig.test(datasets.target.processed.test)\n",
    "\n",
    "source_val_label_accuracy, source_val_label_loss = jig.test(datasets.source.processed.val)\n",
    "target_val_label_accuracy, target_val_label_loss = jig.test(datasets.target.processed.val)\n",
    "\n",
    "history = jig.get_history()\n",
    "\n",
    "total_epochs_trained = len(history[\"epoch_indices\"])\n",
    "\n",
    "val_dl = Iterable_Aggregator((datasets.source.original.val,datasets.target.original.val))\n",
    "\n",
    "confusion = ptn_confusion_by_domain_over_dataloader(model, p.device, val_dl)\n",
    "per_domain_accuracy = per_domain_accuracy_from_confusion(confusion)\n",
    "\n",
    "# Add a key to per_domain_accuracy for if it was a source domain\n",
    "for domain, accuracy in per_domain_accuracy.items():\n",
    "    per_domain_accuracy[domain] = {\n",
    "        \"accuracy\": accuracy,\n",
    "        \"source?\": domain in p.domains_source\n",
    "    }\n",
    "\n",
    "# Do an independent accuracy assesment JUST TO BE SURE!\n",
    "# _source_test_label_accuracy = independent_accuracy_assesment(model, datasets.source.processed.test, p.device)\n",
    "# _target_test_label_accuracy = independent_accuracy_assesment(model, datasets.target.processed.test, p.device)\n",
    "# _source_val_label_accuracy = independent_accuracy_assesment(model, datasets.source.processed.val, p.device)\n",
    "# _target_val_label_accuracy = independent_accuracy_assesment(model, datasets.target.processed.val, p.device)\n",
    "\n",
    "# assert(_source_test_label_accuracy == source_test_label_accuracy)\n",
    "# assert(_target_test_label_accuracy == target_test_label_accuracy)\n",
    "# assert(_source_val_label_accuracy == source_val_label_accuracy)\n",
    "# assert(_target_val_label_accuracy == target_val_label_accuracy)\n",
    "\n",
    "experiment = {\n",
    "    \"experiment_name\": p.experiment_name,\n",
    "    \"parameters\": dict(p),\n",
    "    \"results\": {\n",
    "        \"source_test_label_accuracy\": source_test_label_accuracy,\n",
    "        \"source_test_label_loss\": source_test_label_loss,\n",
    "        \"target_test_label_accuracy\": target_test_label_accuracy,\n",
    "        \"target_test_label_loss\": target_test_label_loss,\n",
    "        \"source_val_label_accuracy\": source_val_label_accuracy,\n",
    "        \"source_val_label_loss\": source_val_label_loss,\n",
    "        \"target_val_label_accuracy\": target_val_label_accuracy,\n",
    "        \"target_val_label_loss\": target_val_label_loss,\n",
    "        \"total_epochs_trained\": total_epochs_trained,\n",
    "        \"total_experiment_time_secs\": total_experiment_time_secs,\n",
    "        \"confusion\": confusion,\n",
    "        \"per_domain_accuracy\": per_domain_accuracy,\n",
    "    },\n",
    "    \"history\": history,\n",
    "    \"dataset_metrics\": get_dataset_metrics(datasets, \"ptn\"),\n",
    "}"
   ]
  },
  {
   "cell_type": "code",
   "execution_count": 25,
   "id": "54a21829",
   "metadata": {
    "execution": {
     "iopub.execute_input": "2022-03-21T16:15:45.254434Z",
     "iopub.status.busy": "2022-03-21T16:15:45.254050Z",
     "iopub.status.idle": "2022-03-21T16:15:45.481394Z",
     "shell.execute_reply": "2022-03-21T16:15:45.482095Z"
    },
    "papermill": {
     "duration": 0.277091,
     "end_time": "2022-03-21T16:15:45.482294",
     "exception": false,
     "start_time": "2022-03-21T16:15:45.205203",
     "status": "completed"
    },
    "tags": []
   },
   "outputs": [
    {
     "data": {
      "image/png": "[encoded data removed]",
      "text/plain": [
       "<Figure size 1080x504 with 1 Axes>"
      ]
     },
     "metadata": {
      "needs_background": "light"
     },
     "output_type": "display_data"
    }
   ],
   "source": [
    "ax = get_loss_curve(experiment)\n",
    "plt.show()"
   ]
  },
  {
   "cell_type": "code",
   "execution_count": 26,
   "id": "fd8a0f60",
   "metadata": {
    "execution": {
     "iopub.execute_input": "2022-03-21T16:15:45.582036Z",
     "iopub.status.busy": "2022-03-21T16:15:45.581470Z",
     "iopub.status.idle": "2022-03-21T16:15:45.933108Z",
     "shell.execute_reply": "2022-03-21T16:15:45.933419Z"
    },
    "papermill": {
     "duration": 0.40198,
     "end_time": "2022-03-21T16:15:45.933507",
     "exception": false,
     "start_time": "2022-03-21T16:15:45.531527",
     "status": "completed"
    },
    "tags": []
   },
   "outputs": [
    {
     "data": {
      "text/plain": [
       "<AxesSubplot:title={'center':'Results'}>"
      ]
     },
     "execution_count": 26,
     "metadata": {},
     "output_type": "execute_result"
    },
    {
     "data": {
      "image/png": "[encoded data removed]",
      "text/plain": [
       "<Figure size 1080x504 with 1 Axes>"
      ]
     },
     "metadata": {
      "needs_background": "light"
     },
     "output_type": "display_data"
    }
   ],
   "source": [
    "get_results_table(experiment)"
   ]
  },
  {
   "cell_type": "code",
   "execution_count": 27,
   "id": "cf8dc689",
   "metadata": {
    "execution": {
     "iopub.execute_input": "2022-03-21T16:15:46.031593Z",
     "iopub.status.busy": "2022-03-21T16:15:46.031199Z",
     "iopub.status.idle": "2022-03-21T16:15:46.278861Z",
     "shell.execute_reply": "2022-03-21T16:15:46.278479Z"
    },
    "papermill": {
     "duration": 0.297722,
     "end_time": "2022-03-21T16:15:46.278935",
     "exception": false,
     "start_time": "2022-03-21T16:15:45.981213",
     "status": "completed"
    },
    "tags": []
   },
   "outputs": [
    {
     "data": {
      "text/plain": [
       "<AxesSubplot:title={'center':'Per Domain Validation Accuracy'}, xlabel='domain'>"
      ]
     },
     "execution_count": 27,
     "metadata": {},
     "output_type": "execute_result"
    },
    {
     "data": {
      "image/png": "[encoded data removed]",
      "text/plain": [
       "<Figure size 1080x504 with 1 Axes>"
      ]
     },
     "metadata": {
      "needs_background": "light"
     },
     "output_type": "display_data"
    }
   ],
   "source": [
    "get_domain_accuracies(experiment)"
   ]
  },
  {
   "cell_type": "code",
   "execution_count": 28,
   "id": "a74ae082",
   "metadata": {
    "execution": {
     "iopub.execute_input": "2022-03-21T16:15:46.381514Z",
     "iopub.status.busy": "2022-03-21T16:15:46.381132Z",
     "iopub.status.idle": "2022-03-21T16:15:46.408401Z",
     "shell.execute_reply": "2022-03-21T16:15:46.408023Z"
    },
    "papermill": {
     "duration": 0.080701,
     "end_time": "2022-03-21T16:15:46.408474",
     "exception": false,
     "start_time": "2022-03-21T16:15:46.327773",
     "status": "completed"
    },
    "tags": []
   },
   "outputs": [
    {
     "name": "stdout",
     "output_type": "stream",
     "text": [
      "Source Test Label Accuracy: 0.8408203125 Target Test Label Accuracy: 0.6142285861713106\n",
      "Source Val Label Accuracy: 0.83935546875 Target Val Label Accuracy: 0.6115694297782471\n"
     ]
    }
   ],
   "source": [
    "print(\"Source Test Label Accuracy:\", experiment[\"results\"][\"source_test_label_accuracy\"], \"Target Test Label Accuracy:\", experiment[\"results\"][\"target_test_label_accuracy\"])\n",
    "print(\"Source Val Label Accuracy:\", experiment[\"results\"][\"source_val_label_accuracy\"], \"Target Val Label Accuracy:\", experiment[\"results\"][\"target_val_label_accuracy\"])"
   ]
  },
  {
   "cell_type": "code",
   "execution_count": 29,
   "id": "dacca602",
   "metadata": {
    "execution": {
     "iopub.execute_input": "2022-03-21T16:15:46.511877Z",
     "iopub.status.busy": "2022-03-21T16:15:46.511486Z",
     "iopub.status.idle": "2022-03-21T16:15:46.544577Z",
     "shell.execute_reply": "2022-03-21T16:15:46.545256Z"
    },
    "papermill": {
     "duration": 0.087558,
     "end_time": "2022-03-21T16:15:46.545442",
     "exception": false,
     "start_time": "2022-03-21T16:15:46.457884",
     "status": "completed"
    },
    "tags": [
     "experiment_json"
    ]
   },
   "outputs": [
    {
     "data": {
      "text/plain": [
       "'{\"experiment_name\": \"tl_1v2:wisig-oracle.run1.framed\", \"parameters\": {\"experiment_name\": \"tl_1v2:wisig-oracle.run1.framed\", \"device\": \"cuda\", \"lr\": 0.0001, \"n_shot\": 3, \"n_query\": 2, \"train_k_factor\": 3, \"val_k_factor\": 2, \"test_k_factor\": 2, \"torch_default_dtype\": \"torch.float32\", \"n_epoch\": 50, \"patience\": 3, \"criteria_for_best\": \"target_accuracy\", \"x_net\": [{\"class\": \"nnReshape\", \"kargs\": {\"shape\": [-1, 1, 2, 256]}}, {\"class\": \"Conv2d\", \"kargs\": {\"in_channels\": 1, \"out_channels\": 256, \"kernel_size\": [1, 7], \"bias\": false, \"padding\": [0, 3]}}, {\"class\": \"ReLU\", \"kargs\": {\"inplace\": true}}, {\"class\": \"BatchNorm2d\", \"kargs\": {\"num_features\": 256}}, {\"class\": \"Conv2d\", \"kargs\": {\"in_channels\": 256, \"out_channels\": 80, \"kernel_size\": [2, 7], \"bias\": true, \"padding\": [0, 3]}}, {\"class\": \"ReLU\", \"kargs\": {\"inplace\": true}}, {\"class\": \"BatchNorm2d\", \"kargs\": {\"num_features\": 80}}, {\"class\": \"Flatten\", \"kargs\": {}}, {\"class\": \"Linear\", \"kargs\": {\"in_features\": 20480, \"out_features\": 256}}, {\"class\": \"ReLU\", \"kargs\": {\"inplace\": true}}, {\"class\": \"BatchNorm1d\", \"kargs\": {\"num_features\": 256}}, {\"class\": \"Linear\", \"kargs\": {\"in_features\": 256, \"out_features\": 256}}], \"NUM_LOGS_PER_EPOCH\": 10, \"BEST_MODEL_PATH\": \"./best_model.pth\", \"n_way\": 16, \"datasets\": [{\"labels\": [\"1-10\", \"1-12\", \"1-14\", \"1-16\", \"1-18\", \"1-19\", \"1-8\", \"10-11\", \"10-17\", \"10-4\", \"10-7\", \"11-1\", \"11-10\", \"11-19\", \"11-20\", \"11-4\", \"11-7\", \"12-19\", \"12-20\", \"12-7\", \"13-14\", \"13-18\", \"13-19\", \"13-20\", \"13-3\", \"13-7\", \"14-10\", \"14-11\", \"14-12\", \"14-13\", \"14-14\", \"14-19\", \"14-20\", \"14-7\", \"14-8\", \"14-9\", \"15-1\", \"15-19\", \"15-6\", \"16-1\", \"16-16\", \"16-19\", \"16-20\", \"17-10\", \"17-11\", \"18-1\", \"18-10\", \"18-11\", \"18-12\", \"18-13\", \"18-14\", \"18-15\", \"18-16\", \"18-17\", \"18-19\", \"18-2\", \"18-20\", \"18-4\", \"18-5\", \"18-7\", \"18-8\", \"18-9\", \"19-1\", \"19-10\", \"19-11\", \"19-12\", \"19-13\", \"19-14\", \"19-15\", \"19-19\", \"19-2\", \"19-20\", \"19-3\", \"19-4\", \"19-6\", \"19-7\", \"19-8\", \"19-9\", \"2-1\", \"2-13\", \"2-15\", \"2-3\", \"2-4\", \"2-5\", \"2-6\", \"2-7\", \"2-8\", \"20-1\", \"20-12\", \"20-14\", \"20-15\", \"20-16\", \"20-18\", \"20-19\", \"20-20\", \"20-3\", \"20-4\", \"20-5\", \"20-7\", \"20-8\", \"3-1\", \"3-13\", \"3-18\", \"3-2\", \"3-8\", \"4-1\", \"4-10\", \"4-11\", \"5-1\", \"5-5\", \"6-1\", \"6-15\", \"6-6\", \"7-10\", \"7-11\", \"7-12\", \"7-13\", \"7-14\", \"7-7\", \"7-8\", \"7-9\", \"8-1\", \"8-13\", \"8-14\", \"8-18\", \"8-20\", \"8-3\", \"8-8\", \"9-1\", \"9-7\"], \"domains\": [1, 2, 3, 4], \"num_examples_per_domain_per_label\": -1, \"pickle_path\": \"/root/csc500-main/datasets/wisig.node3-19.stratified_ds.2022A.pkl\", \"source_or_target_dataset\": \"target\", \"x_transforms\": [\"unit_mag\"], \"episode_transforms\": [], \"domain_prefix\": \"Wisig_\"}, {\"labels\": [\"3123D52\", \"3123D65\", \"3123D79\", \"3123D80\", \"3123D54\", \"3123D70\", \"3123D7B\", \"3123D89\", \"3123D58\", \"3123D76\", \"3123D7D\", \"3123EFE\", \"3123D64\", \"3123D78\", \"3123D7E\", \"3124E4A\"], \"domains\": [32, 38, 8, 44, 14, 50, 20, 26], \"num_examples_per_domain_per_label\": 2000, \"pickle_path\": \"/root/csc500-main/datasets/oracle.Run1_framed_2000Examples_stratified_ds.2022A.pkl\", \"source_or_target_dataset\": \"source\", \"x_transforms\": [\"unit_mag\"], \"episode_transforms\": [], \"domain_prefix\": \"ORACLE.run1\"}], \"dataset_seed\": 7, \"seed\": 7, \"x_shape\": [2, 256], \"domains_source\": [\"ORACLE.run132\", \"ORACLE.run138\", \"ORACLE.run18\", \"ORACLE.run144\", \"ORACLE.run114\", \"ORACLE.run150\", \"ORACLE.run120\", \"ORACLE.run126\"], \"domains_target\": [\"Wisig_1\", \"Wisig_2\", \"Wisig_3\", \"Wisig_4\"]}, \"results\": {\"source_test_label_accuracy\": 0.8408203125, \"source_test_label_loss\": 0.4364907145500183, \"target_test_label_accuracy\": 0.6142285861713106, \"target_test_label_loss\": 384.29254150390625, \"source_val_label_accuracy\": 0.83935546875, \"source_val_label_loss\": 0.4422517418861389, \"target_val_label_accuracy\": 0.6115694297782471, \"target_val_label_loss\": 385.8819885253906, \"total_epochs_trained\": 7, \"total_experiment_time_secs\": 1938.214952468872, \"confusion\": {\"ORACLE.run126\": {\"0\": {\"0\": 88, \"10\": 65, \"8\": 23, \"4\": 25, \"14\": 35, \"7\": 2, \"1\": 1, \"6\": 1}, \"4\": {\"4\": 142, \"14\": 48, \"1\": 15, \"7\": 6, \"8\": 17, \"0\": 10, \"10\": 2}, \"14\": {\"14\": 121, \"4\": 57, \"0\": 37, \"10\": 5, \"1\": 19, \"8\": 1}, \"12\": {\"12\": 240}, \"8\": {\"8\": 121, \"14\": 6, \"4\": 24, \"0\": 20, \"10\": 35, \"7\": 23, \"15\": 6, \"13\": 2, \"6\": 1, \"9\": 1, \"5\": 1}, \"7\": {\"8\": 9, \"7\": 173, \"4\": 22, \"3\": 21, \"2\": 13, \"9\": 1, \"1\": 1}, \"13\": {\"13\": 185, \"5\": 38, \"9\": 6, \"15\": 7, \"2\": 4}, \"5\": {\"5\": 199, \"13\": 14, \"2\": 16, \"15\": 8, \"9\": 2, \"8\": 1}, \"15\": {\"15\": 162, \"13\": 4, \"2\": 2, \"9\": 52, \"5\": 2, \"8\": 10, \"6\": 8}, \"10\": {\"0\": 73, \"14\": 14, \"10\": 113, \"8\": 30, \"1\": 4, \"4\": 1, \"15\": 1, \"6\": 4}, \"3\": {\"3\": 176, \"7\": 25, \"2\": 39}, \"9\": {\"9\": 173, \"15\": 48, \"6\": 13, \"13\": 6}, \"6\": {\"6\": 218, \"9\": 18, \"15\": 1, \"10\": 3}, \"1\": {\"1\": 210, \"4\": 12, \"14\": 14, \"7\": 3, \"3\": 1}, \"11\": {\"11\": 240}, \"2\": {\"2\": 115, \"7\": 23, \"5\": 31, \"3\": 56, \"15\": 6, \"13\": 4, \"8\": 5}}, \"ORACLE.run144\": {\"1\": {\"1\": 188, \"12\": 29, \"3\": 11, \"10\": 6, \"7\": 1, \"2\": 5}, \"11\": {\"11\": 239, \"13\": 1}, \"3\": {\"3\": 235, \"1\": 5}, \"6\": {\"9\": 12, \"6\": 186, \"13\": 39, \"7\": 3}, \"7\": {\"9\": 30, \"7\": 183, \"2\": 23, \"6\": 4}, \"5\": {\"5\": 210, \"8\": 5, \"14\": 11, \"15\": 7, \"0\": 7}, \"2\": {\"2\": 202, \"10\": 6, \"7\": 24, \"1\": 5, \"3\": 1, \"9\": 2}, \"15\": {\"15\": 200, \"0\": 15, \"5\": 5, \"14\": 19, \"8\": 1}, \"10\": {\"10\": 200, \"1\": 26, \"2\": 11, \"12\": 3}, \"13\": {\"13\": 179, \"6\": 44, \"11\": 1, \"9\": 16}, \"8\": {\"0\": 83, \"8\": 149, \"5\": 3, \"15\": 5}, \"4\": {\"4\": 183, \"14\": 56, \"15\": 1}, \"9\": {\"13\": 35, \"11\": 1, \"9\": 137, \"7\": 50, \"6\": 17}, \"14\": {\"14\": 143, \"4\": 76, \"5\": 8, \"15\": 13}, \"0\": {\"8\": 71, \"0\": 153, \"5\": 12, \"15\": 4}, \"12\": {\"12\": 205, \"10\": 2, \"1\": 31, \"3\": 2}}, \"ORACLE.run150\": {\"15\": {\"15\": 215, \"4\": 4, \"1\": 20, \"11\": 1}, \"4\": {\"4\": 154, \"1\": 19, \"5\": 40, \"15\": 23, \"7\": 2, \"13\": 1, \"6\": 1}, \"6\": {\"6\": 216, \"4\": 1, \"7\": 3, \"13\": 13, \"15\": 3, \"1\": 3, \"5\": 1}, \"2\": {\"2\": 222, \"0\": 18}, \"5\": {\"5\": 143, \"4\": 40, \"7\": 12, \"13\": 27, \"1\": 16, \"6\": 1, \"10\": 1}, \"9\": {\"9\": 236, \"11\": 3, \"12\": 1}, \"8\": {\"8\": 237, \"10\": 3}, \"12\": {\"12\": 238, \"9\": 2}, \"10\": {\"10\": 233, \"0\": 3, \"7\": 2, \"13\": 2}, \"1\": {\"1\": 187, \"5\": 1, \"6\": 7, \"4\": 10, \"15\": 35}, \"0\": {\"0\": 220, \"2\": 15, \"10\": 5}, \"3\": {\"3\": 240}, \"13\": {\"13\": 211, \"5\": 13, \"6\": 6, \"10\": 2, \"7\": 8}, \"11\": {\"11\": 225, \"12\": 5, \"15\": 6, \"9\": 2, \"4\": 1, \"14\": 1}, \"7\": {\"13\": 13, \"7\": 212, \"5\": 10, \"6\": 4, \"10\": 1}, \"14\": {\"14\": 240}}, \"ORACLE.run138\": {\"15\": {\"8\": 9, \"15\": 219, \"13\": 5, \"5\": 2, \"1\": 5}, \"11\": {\"11\": 236, \"14\": 3, \"10\": 1}, \"10\": {\"10\": 222, \"14\": 1, \"13\": 11, \"5\": 3, \"2\": 1, \"0\": 1, \"7\": 1}, \"14\": {\"14\": 233, \"2\": 6, \"11\": 1}, \"6\": {\"6\": 233, \"9\": 7}, \"4\": {\"4\": 240}, \"13\": {\"13\": 217, \"15\": 5, \"2\": 5, \"10\": 8, \"8\": 4, \"1\": 1}, \"3\": {\"3\": 234, \"0\": 3, \"9\": 3}, \"7\": {\"7\": 213, \"5\": 17, \"8\": 5, \"0\": 5}, \"8\": {\"8\": 189, \"7\": 7, \"5\": 28, \"0\": 13, \"13\": 1, \"15\": 2}, \"1\": {\"1\": 235, \"15\": 5}, \"5\": {\"5\": 137, \"8\": 60, \"7\": 28, \"0\": 3, \"15\": 7, \"9\": 3, \"6\": 2}, \"0\": {\"0\": 188, \"7\": 15, \"10\": 5, \"3\": 10, \"5\": 2, \"8\": 19, \"12\": 1}, \"2\": {\"2\": 230, \"14\": 6, \"13\": 4}, \"12\": {\"12\": 240}, \"9\": {\"9\": 233, \"6\": 7}}, \"ORACLE.run120\": {\"10\": {\"10\": 239, \"14\": 1}, \"7\": {\"7\": 208, \"8\": 3, \"2\": 23, \"4\": 1, \"9\": 2, \"3\": 2, \"13\": 1}, \"4\": {\"4\": 230, \"8\": 8, \"3\": 2}, \"13\": {\"13\": 233, \"2\": 3, \"12\": 1, \"9\": 1, \"15\": 1, \"7\": 1}, \"1\": {\"1\": 166, \"3\": 3, \"12\": 56, \"15\": 8, \"5\": 6, \"2\": 1}, \"0\": {\"15\": 21, \"0\": 180, \"5\": 36, \"8\": 2, \"13\": 1}, \"12\": {\"3\": 26, \"1\": 35, \"2\": 9, \"12\": 151, \"9\": 8, \"5\": 11}, \"5\": {\"1\": 14, \"5\": 186, \"0\": 26, \"15\": 11, \"12\": 2, \"3\": 1}, \"6\": {\"6\": 229, \"14\": 11}, \"2\": {\"3\": 9, \"2\": 148, \"7\": 25, \"9\": 44, \"12\": 11, \"13\": 3}, \"8\": {\"8\": 226, \"4\": 12, \"7\": 1, \"3\": 1}, \"11\": {\"11\": 240}, \"9\": {\"9\": 157, \"2\": 49, \"3\": 21, \"12\": 10, \"7\": 3}, \"14\": {\"14\": 221, \"6\": 18, \"8\": 1}, \"15\": {\"15\": 190, \"5\": 19, \"1\": 11, \"0\": 18, \"13\": 1, \"12\": 1}, \"3\": {\"3\": 152, \"4\": 4, \"1\": 2, \"2\": 15, \"9\": 29, \"12\": 37, \"7\": 1}}, \"ORACLE.run114\": {\"14\": {\"14\": 210, \"2\": 17, \"13\": 12, \"6\": 1}, \"0\": {\"0\": 236, \"10\": 2, \"3\": 1, \"11\": 1}, \"4\": {\"4\": 203, \"5\": 30, \"3\": 2, \"1\": 5}, \"11\": {\"11\": 234, \"9\": 4, \"0\": 2}, \"13\": {\"13\": 110, \"14\": 23, \"6\": 82, \"2\": 17, \"5\": 4, \"4\": 4}, \"9\": {\"9\": 240}, \"3\": {\"3\": 230, \"2\": 6, \"4\": 3, \"5\": 1}, \"6\": {\"6\": 190, \"13\": 48, \"14\": 1, \"2\": 1}, \"1\": {\"1\": 227, \"4\": 5, \"5\": 8}, \"5\": {\"5\": 184, \"4\": 40, \"2\": 5, \"1\": 10, \"3\": 1}, \"12\": {\"12\": 239, \"9\": 1}, \"10\": {\"10\": 240}, \"8\": {\"8\": 240}, \"7\": {\"7\": 239, \"5\": 1}, \"15\": {\"15\": 240}, \"2\": {\"2\": 151, \"6\": 12, \"14\": 38, \"5\": 22, \"3\": 5, \"15\": 1, \"13\": 9, \"4\": 1, \"1\": 1}}, \"ORACLE.run132\": {\"11\": {\"11\": 218, \"14\": 20, \"13\": 2}, \"1\": {\"1\": 240}, \"2\": {\"2\": 186, \"4\": 51, \"7\": 3}, \"0\": {\"0\": 201, \"5\": 2, \"7\": 5, \"8\": 18, \"14\": 12, \"13\": 2}, \"3\": {\"3\": 238, \"14\": 1, \"8\": 1}, \"8\": {\"13\": 2, \"8\": 217, \"0\": 18, \"14\": 1, \"3\": 1, \"5\": 1}, \"12\": {\"12\": 240}, \"5\": {\"5\": 143, \"7\": 50, \"13\": 20, \"4\": 15, \"14\": 1, \"3\": 5, \"8\": 4, \"11\": 1, \"0\": 1}, \"15\": {\"15\": 240}, \"7\": {\"7\": 161, \"5\": 41, \"4\": 20, \"11\": 1, \"14\": 6, \"2\": 2, \"13\": 6, \"0\": 2, \"8\": 1}, \"4\": {\"2\": 27, \"4\": 194, \"5\": 9, \"13\": 4, \"7\": 6}, \"14\": {\"14\": 156, \"0\": 24, \"11\": 50, \"7\": 8, \"3\": 1, \"5\": 1}, \"10\": {\"10\": 240}, \"6\": {\"6\": 240}, \"13\": {\"13\": 210, \"5\": 16, \"3\": 7, \"4\": 5, \"8\": 1, \"7\": 1}, \"9\": {\"9\": 240}}, \"ORACLE.run18\": {\"9\": {\"9\": 240}, \"11\": {\"11\": 230, \"1\": 10}, \"8\": {\"8\": 240}, \"4\": {\"4\": 199, \"14\": 12, \"13\": 21, \"0\": 1, \"6\": 6, \"10\": 1}, \"13\": {\"13\": 109, \"6\": 12, \"4\": 36, \"10\": 14, \"14\": 5, \"0\": 63, \"7\": 1}, \"14\": {\"14\": 181, \"10\": 33, \"1\": 6, \"4\": 16, \"13\": 3, \"5\": 1}, \"2\": {\"2\": 225, \"15\": 1, \"7\": 7, \"12\": 2, \"3\": 3, \"6\": 1, \"8\": 1}, \"3\": {\"3\": 234, \"12\": 5, \"2\": 1}, \"1\": {\"1\": 234, \"11\": 6}, \"0\": {\"13\": 30, \"0\": 197, \"7\": 9, \"4\": 3, \"6\": 1}, \"5\": {\"5\": 218, \"1\": 11, \"10\": 9, \"14\": 2}, \"15\": {\"12\": 49, \"15\": 190, \"8\": 1}, \"10\": {\"14\": 18, \"10\": 218, \"13\": 4}, \"12\": {\"12\": 157, \"15\": 73, \"3\": 7, \"8\": 3}, \"6\": {\"6\": 190, \"0\": 3, \"4\": 9, \"7\": 33, \"13\": 5}, \"7\": {\"7\": 194, \"6\": 40, \"11\": 1, \"0\": 5}}, \"Wisig_4\": {\"71\": {\"71\": 85, \"7\": 3, \"42\": 1, \"1\": 4, \"124\": 2, \"4\": 1, \"27\": 1, \"105\": 1, \"114\": 1, \"84\": 1, \"106\": 1, \"108\": 2, \"40\": 1}, \"17\": {\"17\": 15, \"104\": 1, \"3\": 2, \"34\": 2}, \"105\": {\"105\": 44, \"1\": 7, \"82\": 1, \"114\": 4, \"39\": 3, \"26\": 1, \"107\": 1, \"118\": 1, \"109\": 1, \"87\": 5, \"0\": 1, \"8\": 1, \"40\": 5, \"3\": 6, \"71\": 3, \"111\": 1, \"7\": 2, \"70\": 2, \"113\": 2, \"51\": 1, \"104\": 1, \"4\": 1, \"126\": 3, \"120\": 1, \"88\": 1, \"10\": 1}, \"92\": {\"92\": 20, \"102\": 1, \"64\": 1, \"72\": 1, \"23\": 1, \"45\": 2, \"11\": 1, \"105\": 1}, \"100\": {\"114\": 2, \"100\": 11, \"7\": 1, \"46\": 2, \"49\": 1, \"107\": 1, \"105\": 1, \"43\": 1}, \"6\": {\"36\": 2, \"6\": 20, \"94\": 2}, \"36\": {\"6\": 4, \"54\": 3, \"127\": 3, \"36\": 52, \"9\": 2, \"111\": 7, \"24\": 6, \"97\": 2, \"94\": 8, \"0\": 5, \"15\": 8, \"12\": 5, \"30\": 3, \"125\": 9, \"114\": 1, \"8\": 2, \"10\": 1, \"90\": 1, \"106\": 1, \"103\": 1, \"4\": 3, \"109\": 1}, \"35\": {\"63\": 1, \"35\": 8, \"23\": 1, \"92\": 1, \"90\": 1}, \"63\": {\"63\": 16}, \"104\": {\"104\": 10, \"87\": 3, \"71\": 1, \"105\": 1, \"17\": 1}, \"114\": {\"114\": 93, \"0\": 1, \"71\": 6, \"7\": 3, \"73\": 1, \"42\": 1, \"106\": 2, \"94\": 1, \"98\": 2, \"124\": 5, \"3\": 4, \"107\": 2, \"83\": 1, \"88\": 1, \"93\": 1, \"105\": 1, \"24\": 1, \"118\": 1, \"1\": 1}, \"68\": {\"68\": 14, \"15\": 1, \"95\": 1}, \"109\": {\"109\": 65, \"79\": 1, \"122\": 6, \"21\": 3, \"118\": 6, \"69\": 5, \"43\": 2, \"93\": 4, \"44\": 1, \"90\": 5, \"113\": 2, \"88\": 2, \"84\": 5, \"96\": 1, \"14\": 1, \"62\": 1, \"110\": 3, \"39\": 1, \"126\": 2}, \"27\": {\"0\": 6, \"101\": 3, \"71\": 3, \"29\": 2, \"127\": 8, \"81\": 1, \"10\": 4, \"19\": 2, \"30\": 2, \"12\": 1, \"105\": 2, \"27\": 18, \"78\": 1, \"88\": 6, \"8\": 2, \"15\": 5, \"111\": 4, \"108\": 2, \"4\": 4, \"1\": 4, \"7\": 2, \"70\": 2, \"3\": 1, \"68\": 2, \"46\": 1, \"84\": 1, \"73\": 1, \"86\": 1, \"87\": 2, \"40\": 2, \"36\": 1, \"113\": 2, \"114\": 1, \"107\": 1}, \"79\": {\"79\": 10, \"28\": 1, \"83\": 1, \"73\": 1, \"115\": 2, \"50\": 1}, \"0\": {\"0\": 56, \"27\": 2, \"29\": 3, \"53\": 2, \"105\": 3, \"3\": 1, \"70\": 2, \"127\": 2, \"7\": 2, \"111\": 1, \"10\": 5, \"101\": 7, \"8\": 5, \"117\": 1, \"93\": 1, \"118\": 1, \"89\": 1, \"4\": 4, \"81\": 1, \"71\": 1, \"113\": 1, \"128\": 1, \"107\": 1, \"39\": 1, \"26\": 1}, \"28\": {\"28\": 14, \"64\": 2, \"79\": 2, \"98\": 1, \"84\": 1}, \"4\": {\"4\": 78, \"112\": 2, \"114\": 2, \"8\": 1, \"29\": 2, \"117\": 1, \"71\": 4, \"15\": 1, \"27\": 1, \"109\": 1, \"101\": 1, \"66\": 1, \"95\": 2, \"0\": 3, \"70\": 1, \"24\": 2, \"14\": 1}, \"106\": {\"106\": 61, \"35\": 1, \"12\": 13, \"30\": 2, \"111\": 3, \"127\": 1, \"27\": 1, \"90\": 1, \"10\": 3, \"41\": 1, \"103\": 1, \"125\": 4, \"15\": 2, \"108\": 1, \"98\": 2, \"24\": 2, \"0\": 1, \"36\": 1, \"117\": 1}, \"40\": {\"40\": 87, \"7\": 3, \"46\": 1, \"115\": 2, \"14\": 1, \"105\": 6, \"16\": 1, \"71\": 2, \"43\": 3, \"87\": 4, \"70\": 2, \"88\": 1, \"114\": 1, \"107\": 8, \"1\": 6, \"19\": 1, \"3\": 2, \"113\": 2, \"33\": 1}, \"127\": {\"127\": 84, \"68\": 2, \"38\": 1, \"8\": 6, \"4\": 3, \"33\": 1, \"85\": 1, \"95\": 1, \"30\": 1, \"101\": 4, \"27\": 1, \"12\": 1, \"111\": 2}, \"57\": {\"57\": 11, \"51\": 1, \"16\": 2, \"78\": 1, \"47\": 1}, \"60\": {\"4\": 2, \"84\": 1, \"15\": 1, \"118\": 1, \"60\": 8, \"27\": 1, \"129\": 1, \"70\": 1, \"69\": 1, \"40\": 1, \"7\": 2, \"105\": 2, \"44\": 2, \"5\": 1, \"89\": 1, \"20\": 1, \"93\": 1, \"43\": 1, \"99\": 1, \"62\": 1, \"33\": 1}, \"69\": {\"69\": 97, \"84\": 5, \"102\": 8, \"90\": 3, \"118\": 4, \"113\": 1, \"44\": 3, \"108\": 1, \"39\": 1, \"11\": 1}, \"84\": {\"84\": 88, \"35\": 1, \"102\": 10, \"78\": 1, \"69\": 14, \"90\": 4, \"44\": 1, \"43\": 2, \"109\": 2, \"70\": 1, \"118\": 1, \"57\": 1, \"99\": 1, \"116\": 1, \"122\": 1, \"126\": 1, \"93\": 1, \"5\": 1}, \"24\": {\"7\": 2, \"94\": 6, \"37\": 1, \"24\": 36, \"25\": 1, \"62\": 1, \"70\": 2, \"36\": 4, \"4\": 3, \"40\": 1, \"10\": 5, \"21\": 1, \"41\": 1, \"90\": 2, \"27\": 5, \"82\": 1, \"105\": 2, \"8\": 1, \"101\": 3, \"88\": 1, \"12\": 2, \"71\": 4, \"93\": 1, \"125\": 5, \"113\": 1, \"111\": 5, \"114\": 2, \"1\": 1, \"0\": 3, \"98\": 1, \"75\": 1, \"51\": 1, \"107\": 2, \"100\": 1, \"6\": 1, \"106\": 2, \"15\": 2, \"84\": 2, \"108\": 1, \"110\": 1, \"124\": 1, \"14\": 1}, \"94\": {\"96\": 1, \"24\": 4, \"94\": 46, \"6\": 2, \"127\": 1, \"34\": 1, \"36\": 10, \"0\": 1, \"30\": 3, \"111\": 1, \"4\": 1, \"15\": 4, \"9\": 1, \"52\": 1, \"59\": 1, \"125\": 6, \"12\": 2, \"109\": 1, \"26\": 1}, \"7\": {\"4\": 1, \"96\": 1, \"7\": 68, \"114\": 3, \"82\": 2, \"1\": 4, \"27\": 2, \"70\": 6, \"8\": 2, \"105\": 1, \"3\": 3, \"40\": 4, \"87\": 5, \"71\": 4, \"109\": 2, \"88\": 2, \"0\": 1, \"104\": 1, \"17\": 1, \"80\": 1, \"14\": 2, \"128\": 1, \"107\": 1, \"118\": 1, \"127\": 1}, \"96\": {\"84\": 2, \"96\": 7, \"109\": 2, \"59\": 1, \"15\": 1, \"2\": 1, \"31\": 2, \"12\": 1, \"21\": 2, \"73\": 1}, \"116\": {\"28\": 1, \"116\": 15, \"67\": 1, \"50\": 1, \"118\": 1, \"48\": 1, \"11\": 1, \"90\": 2, \"69\": 2, \"102\": 1, \"99\": 1, \"109\": 1}, \"47\": {\"47\": 7, \"60\": 1, \"127\": 2, \"65\": 1, \"110\": 1}, \"119\": {\"119\": 12, \"25\": 1, \"88\": 1, \"95\": 1, \"70\": 1}, \"74\": {\"102\": 2, \"74\": 10, \"84\": 1, \"121\": 1, \"11\": 1, \"5\": 1}, \"93\": {\"93\": 88, \"96\": 1, \"20\": 1, \"122\": 7, \"110\": 18, \"21\": 1, \"118\": 4, \"5\": 5, \"44\": 1, \"27\": 1, \"109\": 1, \"90\": 3, \"39\": 1, \"43\": 2, \"99\": 2, \"4\": 1, \"78\": 2, \"62\": 1, \"69\": 1, \"121\": 1, \"33\": 1, \"108\": 2, \"14\": 1, \"40\": 1, \"107\": 1, \"88\": 1, \"3\": 2, \"70\": 1}, \"2\": {\"109\": 2, \"84\": 2, \"2\": 12, \"102\": 1, \"16\": 1, \"69\": 1, \"66\": 2, \"96\": 2, \"39\": 2, \"90\": 1, \"26\": 2}, \"37\": {\"104\": 2, \"37\": 7, \"51\": 1, \"88\": 1, \"89\": 3, \"41\": 1, \"128\": 1}, \"15\": {\"24\": 6, \"15\": 60, \"68\": 2, \"111\": 5, \"125\": 5, \"9\": 2, \"26\": 1, \"10\": 6, \"12\": 5, \"36\": 4, \"30\": 3, \"94\": 4, \"8\": 6, \"106\": 5, \"27\": 1, \"0\": 1, \"98\": 1, \"101\": 1, \"34\": 1, \"91\": 1, \"6\": 1, \"127\": 5, \"102\": 1, \"126\": 1}, \"102\": {\"102\": 110, \"67\": 1, \"40\": 1, \"69\": 3, \"90\": 1, \"11\": 2, \"33\": 3, \"44\": 2, \"84\": 8, \"74\": 1, \"122\": 1, \"99\": 1, \"93\": 1, \"5\": 1}, \"87\": {\"87\": 41, \"32\": 2, \"40\": 9, \"113\": 1, \"128\": 1, \"105\": 6, \"129\": 2, \"3\": 7, \"62\": 2, \"1\": 7, \"71\": 6, \"14\": 1, \"84\": 1, \"70\": 3, \"88\": 4, \"114\": 4, \"126\": 1, \"7\": 3, \"43\": 2, \"107\": 5, \"104\": 1, \"120\": 1, \"108\": 2, \"39\": 1, \"93\": 2, \"110\": 4, \"124\": 1, \"127\": 1, \"0\": 1}, \"107\": {\"107\": 87, \"60\": 2, \"124\": 3, \"27\": 2, \"49\": 1, \"100\": 1, \"122\": 1, \"43\": 6, \"3\": 5, \"88\": 2, \"40\": 11, \"87\": 6, \"33\": 2, \"39\": 1, \"70\": 1, \"73\": 2, \"46\": 2, \"105\": 1, \"108\": 2, \"1\": 1, \"14\": 2, \"5\": 2, \"114\": 1}, \"61\": {\"61\": 11, \"96\": 1, \"65\": 1, \"21\": 1, \"123\": 1, \"2\": 1}, \"78\": {\"93\": 1, \"104\": 1, \"14\": 1, \"43\": 2, \"84\": 1, \"63\": 1, \"70\": 1, \"99\": 1, \"107\": 1, \"122\": 1, \"88\": 2, \"8\": 1, \"114\": 1, \"78\": 7, \"40\": 1, \"105\": 1, \"120\": 1, \"126\": 1, \"119\": 1, \"100\": 1, \"73\": 1, \"46\": 1, \"62\": 2, \"127\": 1, \"57\": 1, \"81\": 1, \"118\": 1}, \"9\": {\"9\": 22, \"94\": 1, \"111\": 1, \"58\": 2, \"106\": 1, \"15\": 1}, \"32\": {\"32\": 8, \"102\": 1, \"128\": 1, \"84\": 1, \"28\": 1, \"129\": 2, \"69\": 2, \"44\": 1, \"55\": 1, \"31\": 1, \"17\": 1, \"45\": 1, \"87\": 2, \"82\": 2, \"3\": 1, \"10\": 1, \"14\": 1}, \"14\": {\"14\": 83, \"119\": 1, \"122\": 1, \"78\": 1, \"62\": 2, \"22\": 3, \"40\": 1, \"118\": 1, \"87\": 3, \"110\": 4, \"108\": 2, \"32\": 1, \"33\": 1, \"70\": 1, \"88\": 3, \"43\": 2, \"93\": 2}, \"62\": {\"62\": 36, \"14\": 4, \"43\": 3, \"22\": 3, \"33\": 1, \"81\": 1, \"88\": 3, \"87\": 1, \"32\": 1, \"108\": 1, \"122\": 1, \"109\": 1, \"102\": 1, \"117\": 1, \"118\": 2}, \"1\": {\"25\": 1, \"119\": 1, \"1\": 50, \"40\": 8, \"105\": 8, \"49\": 2, \"3\": 6, \"71\": 5, \"27\": 1, \"0\": 2, \"87\": 6, \"12\": 1, \"107\": 3, \"114\": 4, \"7\": 1, \"88\": 1, \"14\": 1, \"36\": 1}, \"23\": {\"62\": 1, \"92\": 1, \"103\": 1, \"66\": 2, \"82\": 1, \"112\": 1, \"48\": 1, \"23\": 1, \"63\": 1, \"117\": 1, \"70\": 1, \"113\": 2, \"86\": 1, \"49\": 1}, \"95\": {\"95\": 19, \"127\": 1, \"4\": 5, \"85\": 2, \"56\": 1, \"103\": 2, \"76\": 1, \"70\": 1}, \"56\": {\"95\": 1, \"56\": 8, \"71\": 2, \"17\": 1}, \"91\": {\"68\": 2, \"91\": 12, \"29\": 2, \"101\": 1, \"82\": 1, \"86\": 2, \"112\": 1, \"95\": 1, \"127\": 2}, \"34\": {\"25\": 1, \"119\": 1, \"8\": 3, \"34\": 8, \"120\": 1, \"91\": 2, \"10\": 2, \"3\": 1, \"125\": 1, \"70\": 1, \"94\": 5, \"37\": 1, \"54\": 1, \"128\": 1, \"105\": 1, \"42\": 1, \"82\": 1}, \"25\": {\"25\": 16}, \"33\": {\"33\": 113, \"122\": 3, \"108\": 1, \"125\": 1, \"93\": 1, \"5\": 3, \"110\": 1, \"69\": 1}, \"16\": {\"26\": 1, \"16\": 86, \"18\": 3, \"2\": 2, \"117\": 11, \"69\": 2, \"39\": 2, \"113\": 10, \"109\": 1, \"90\": 5, \"122\": 1}, \"26\": {\"26\": 99, \"21\": 1, \"16\": 2, \"18\": 7, \"39\": 5, \"126\": 4, \"90\": 1, \"84\": 1, \"113\": 1, \"117\": 3, \"83\": 1, \"109\": 1}, \"5\": {\"5\": 104, \"16\": 1, \"22\": 1, \"33\": 8, \"118\": 3, \"93\": 2, \"40\": 4, \"108\": 1, \"114\": 1, \"3\": 1, \"90\": 1, \"102\": 2, \"113\": 1, \"44\": 1, \"110\": 2, \"43\": 1, \"109\": 1, \"107\": 1}, \"123\": {\"123\": 11, \"125\": 1, \"61\": 2, \"63\": 2}, \"8\": {\"127\": 5, \"8\": 76, \"85\": 1, \"88\": 1, \"19\": 2, \"70\": 3, \"71\": 1, \"4\": 2, \"0\": 9, \"101\": 10, \"111\": 4, \"27\": 3, \"10\": 1}, \"83\": {\"83\": 11, \"119\": 1, \"89\": 1, \"34\": 1, \"31\": 2, \"95\": 1, \"38\": 1, \"93\": 1, \"114\": 1, \"76\": 1, \"0\": 1, \"60\": 2, \"107\": 2, \"7\": 1, \"11\": 1}, \"125\": {\"125\": 102, \"25\": 1, \"36\": 10, \"94\": 9, \"24\": 6, \"15\": 1, \"6\": 2, \"106\": 1, \"98\": 2}, \"51\": {\"111\": 2, \"59\": 1, \"51\": 3, \"61\": 1, \"127\": 1, \"11\": 1, \"98\": 2, \"75\": 1, \"9\": 1, \"25\": 1, \"62\": 1, \"94\": 1}, \"22\": {\"22\": 11, \"10\": 1, \"120\": 1, \"19\": 2, \"14\": 1}, \"54\": {\"54\": 16}, \"66\": {\"66\": 10, \"93\": 2, \"99\": 1, \"63\": 1, \"31\": 1, \"64\": 1}, \"59\": {\"111\": 1, \"51\": 1, \"34\": 1, \"59\": 6, \"6\": 2, \"122\": 1}, \"111\": {\"103\": 1, \"111\": 100, \"127\": 6, \"12\": 4, \"15\": 2, \"24\": 4, \"10\": 1, \"125\": 1, \"5\": 1, \"36\": 1, \"101\": 1, \"1\": 1, \"68\": 2, \"95\": 1, \"41\": 1, \"126\": 1}, \"77\": {\"77\": 12}, \"103\": {\"103\": 14, \"112\": 2}, \"20\": {\"20\": 12, \"43\": 1, \"102\": 1, \"44\": 2}, \"124\": {\"124\": 76, \"95\": 1, \"129\": 1, \"105\": 2, \"71\": 8, \"73\": 1, \"107\": 3, \"10\": 1, \"4\": 2, \"18\": 2, \"98\": 4, \"1\": 1, \"27\": 1, \"114\": 3, \"3\": 2, \"106\": 2, \"7\": 2, \"15\": 1, \"104\": 1, \"36\": 1, \"108\": 2, \"88\": 1, \"87\": 1, \"70\": 1}, \"99\": {\"99\": 30, \"78\": 1, \"90\": 1, \"122\": 2, \"110\": 2, \"62\": 1, \"88\": 1, \"118\": 1, \"81\": 1}, \"120\": {\"61\": 1, \"120\": 17, \"100\": 1, \"121\": 1}, \"76\": {\"76\": 10, \"31\": 2, \"65\": 1, \"14\": 1, \"43\": 1, \"45\": 1}, \"110\": {\"76\": 1, \"96\": 1, \"110\": 37, \"108\": 4, \"19\": 1, \"33\": 3, \"72\": 1, \"14\": 13, \"122\": 3, \"109\": 3, \"3\": 2, \"93\": 11, \"113\": 1, \"43\": 10, \"88\": 4, \"39\": 1, \"40\": 2, \"90\": 4, \"129\": 1, \"62\": 2, \"32\": 1, \"118\": 2, \"126\": 1, \"69\": 2, \"87\": 1, \"5\": 3, \"107\": 1}, \"29\": {\"29\": 28, \"8\": 1, \"117\": 1, \"82\": 1, \"4\": 1}, \"118\": {\"96\": 1, \"118\": 40, \"93\": 11, \"43\": 6, \"108\": 5, \"69\": 4, \"73\": 2, \"109\": 5, \"44\": 2, \"90\": 3, \"16\": 1, \"33\": 9, \"122\": 6, \"110\": 2, \"126\": 1, \"21\": 1, \"113\": 2, \"99\": 2, \"107\": 1, \"62\": 2, \"88\": 2, \"5\": 1, \"14\": 3}, \"58\": {\"58\": 13, \"15\": 1, \"84\": 1, \"38\": 1}, \"13\": {\"92\": 1, \"13\": 12, \"113\": 2, \"94\": 1}, \"89\": {\"101\": 1, \"89\": 28, \"70\": 1, \"1\": 1, \"60\": 1}, \"31\": {\"31\": 12, \"33\": 2, \"80\": 1, \"38\": 1}, \"64\": {\"64\": 15, \"57\": 1}, \"65\": {\"65\": 12}, \"101\": {\"91\": 1, \"101\": 70, \"127\": 8, \"18\": 1, \"85\": 2, \"8\": 17, \"82\": 2, \"40\": 1, \"29\": 2, \"88\": 1, \"70\": 3, \"111\": 6, \"0\": 5, \"10\": 4, \"110\": 1, \"86\": 2, \"95\": 1, \"12\": 2, \"128\": 1, \"26\": 1, \"15\": 1}, \"126\": {\"126\": 53, \"63\": 2, \"26\": 7, \"121\": 1, \"118\": 7, \"21\": 4, \"43\": 3, \"117\": 7, \"84\": 3, \"16\": 1, \"110\": 5, \"18\": 4, \"3\": 1, \"88\": 3, \"108\": 2, \"113\": 5, \"122\": 1, \"39\": 2, \"109\": 6, \"90\": 1}, \"108\": {\"5\": 4, \"21\": 2, \"70\": 2, \"108\": 18, \"107\": 2, \"99\": 1, \"33\": 7, \"23\": 1, \"84\": 1, \"90\": 4, \"62\": 4, \"73\": 1, \"44\": 1, \"109\": 7, \"93\": 4, \"14\": 4, \"126\": 1, \"94\": 1, \"12\": 1, \"88\": 5, \"122\": 1, \"113\": 1, \"110\": 3, \"87\": 2, \"40\": 2, \"118\": 2, \"72\": 1, \"102\": 3, \"129\": 2, \"32\": 1, \"30\": 1, \"116\": 1, \"7\": 1}, \"45\": {\"74\": 1, \"45\": 14, \"69\": 1}, \"21\": {\"21\": 25, \"109\": 2, \"44\": 1, \"90\": 1, \"122\": 4, \"69\": 1, \"43\": 1, \"35\": 1, \"63\": 1, \"78\": 1, \"88\": 1, \"39\": 1}, \"30\": {\"106\": 1, \"108\": 2, \"91\": 1, \"30\": 34, \"85\": 1, \"12\": 2, \"8\": 2, \"19\": 1, \"53\": 1, \"41\": 2, \"98\": 1, \"126\": 1, \"0\": 3, \"24\": 1, \"101\": 5, \"127\": 5, \"10\": 2, \"15\": 4, \"58\": 1, \"14\": 1, \"77\": 1, \"6\": 1, \"111\": 1, \"36\": 2}, \"82\": {\"82\": 24, \"85\": 1, \"55\": 1, \"12\": 1, \"89\": 1, \"27\": 2, \"29\": 1, \"105\": 1}, \"85\": {\"95\": 3, \"85\": 14, \"112\": 2, \"4\": 2, \"7\": 1, \"86\": 1, \"41\": 1, \"8\": 1, \"77\": 2, \"34\": 1}, \"88\": {\"88\": 25, \"85\": 1, \"122\": 6, \"14\": 2, \"109\": 11, \"60\": 2, \"27\": 1, \"42\": 2, \"53\": 1, \"78\": 2, \"70\": 2, \"0\": 3, \"120\": 1, \"10\": 2, \"21\": 4, \"43\": 4, \"62\": 1, \"8\": 2, \"39\": 4, \"118\": 5, \"98\": 1, \"124\": 3, \"87\": 5, \"3\": 3, \"105\": 5, \"113\": 2, \"110\": 7, \"7\": 4, \"90\": 2, \"93\": 2, \"16\": 1, \"97\": 1, \"1\": 1, \"119\": 1, \"99\": 2, \"89\": 1, \"19\": 1, \"108\": 3, \"44\": 1, \"100\": 1, \"4\": 1, \"71\": 1, \"107\": 1, \"126\": 1}, \"41\": {\"68\": 3, \"85\": 1, \"98\": 2, \"111\": 2, \"41\": 4, \"88\": 1, \"106\": 1, \"52\": 1, \"46\": 1}, \"128\": {\"89\": 1, \"32\": 1, \"115\": 1, \"87\": 1, \"129\": 1, \"22\": 1, \"37\": 3, \"7\": 3, \"128\": 4, \"107\": 2, \"82\": 1, \"3\": 1, \"101\": 1, \"70\": 1, \"105\": 1, \"27\": 1}, \"39\": {\"18\": 7, \"39\": 31, \"44\": 1, \"113\": 10, \"26\": 9, \"90\": 1, \"16\": 2, \"11\": 1, \"117\": 8, \"108\": 2, \"109\": 4, \"118\": 5, \"110\": 2, \"126\": 6, \"93\": 1, \"62\": 3, \"21\": 1, \"88\": 1, \"72\": 1, \"43\": 1, \"84\": 3}, \"18\": {\"18\": 89, \"61\": 1, \"113\": 5, \"126\": 2, \"26\": 14, \"5\": 1, \"39\": 2, \"108\": 1, \"16\": 2, \"102\": 1, \"90\": 1, \"117\": 1}, \"113\": {\"113\": 65, \"96\": 2, \"67\": 1, \"26\": 4, \"81\": 7, \"109\": 2, \"110\": 2, \"80\": 1, \"16\": 9, \"88\": 2, \"84\": 1, \"39\": 3, \"118\": 1, \"117\": 9, \"18\": 4, \"126\": 6, \"3\": 1, \"90\": 2, \"102\": 3, \"92\": 1, \"93\": 1, \"108\": 1}, \"11\": {\"11\": 89, \"32\": 1, \"45\": 1, \"80\": 1, \"46\": 1, \"98\": 1, \"102\": 12, \"43\": 1, \"27\": 1, \"110\": 1, \"33\": 3, \"69\": 6, \"5\": 4, \"114\": 1, \"40\": 2, \"84\": 1, \"70\": 1, \"118\": 1, \"28\": 1, \"99\": 1, \"116\": 3, \"126\": 2, \"44\": 1, \"107\": 1, \"39\": 1}, \"43\": {\"32\": 3, \"3\": 5, \"62\": 1, \"43\": 27, \"78\": 2, \"14\": 2, \"49\": 4, \"110\": 6, \"105\": 2, \"122\": 5, \"93\": 3, \"5\": 8, \"40\": 7, \"107\": 7, \"87\": 2, \"70\": 2, \"88\": 5, \"118\": 2, \"109\": 8, \"90\": 2, \"10\": 1, \"102\": 1, \"115\": 1, \"129\": 1, \"22\": 1, \"100\": 1, \"19\": 1, \"99\": 1, \"108\": 2, \"33\": 5, \"126\": 1, \"1\": 1}, \"12\": {\"85\": 2, \"116\": 1, \"12\": 63, \"15\": 6, \"111\": 10, \"127\": 3, \"24\": 2, \"106\": 4, \"94\": 1, \"10\": 2, \"68\": 1, \"6\": 1, \"101\": 1, \"27\": 1, \"109\": 1, \"113\": 1}, \"122\": {\"14\": 3, \"122\": 25, \"73\": 1, \"43\": 1, \"115\": 2, \"60\": 1, \"33\": 9, \"107\": 1, \"88\": 3, \"108\": 3, \"87\": 1, \"5\": 6, \"62\": 1, \"93\": 5, \"109\": 6, \"118\": 5, \"113\": 1, \"78\": 1, \"44\": 2, \"32\": 1, \"90\": 1, \"110\": 1, \"99\": 2, \"126\": 1, \"69\": 1}, \"52\": {\"127\": 4, \"52\": 11, \"29\": 2, \"9\": 1, \"58\": 1, \"70\": 1}, \"44\": {\"102\": 7, \"44\": 35, \"90\": 3, \"93\": 2, \"69\": 8, \"72\": 1, \"118\": 1, \"122\": 6, \"5\": 1}, \"90\": {\"90\": 95, \"69\": 6, \"44\": 5, \"93\": 5, \"109\": 4, \"72\": 1, \"5\": 1, \"102\": 5, \"118\": 5, \"1\": 1, \"84\": 2, \"33\": 1, \"116\": 1, \"122\": 1, \"18\": 1}, \"112\": {\"112\": 14, \"15\": 1, \"4\": 1}, \"86\": {\"86\": 23, \"0\": 2, \"29\": 1, \"53\": 1, \"49\": 1}, \"3\": {\"3\": 68, \"84\": 1, \"88\": 2, \"124\": 2, \"71\": 4, \"40\": 5, \"114\": 8, \"1\": 6, \"14\": 4, \"107\": 3, \"105\": 3, \"7\": 4, \"70\": 4, \"111\": 1, \"90\": 1}, \"38\": {\"38\": 12, \"80\": 2, \"84\": 1, \"116\": 1}, \"121\": {\"38\": 2, \"113\": 4, \"116\": 1, \"45\": 1, \"121\": 7, \"126\": 4, \"44\": 5, \"129\": 1, \"31\": 1, \"84\": 2, \"39\": 1, \"26\": 2, \"90\": 1}, \"46\": {\"104\": 1, \"70\": 1, \"1\": 1, \"100\": 1, \"46\": 11, \"105\": 1, \"107\": 2, \"115\": 1, \"71\": 1}, \"70\": {\"87\": 4, \"59\": 1, \"99\": 1, \"4\": 7, \"8\": 5, \"86\": 1, \"62\": 1, \"71\": 4, \"70\": 28, \"122\": 4, \"32\": 1, \"88\": 2, \"27\": 4, \"7\": 4, \"110\": 4, \"94\": 2, \"114\": 5, \"111\": 5, \"0\": 4, \"30\": 1, \"16\": 2, \"12\": 1, \"109\": 3, \"24\": 2, \"14\": 2, \"3\": 2, \"10\": 1, \"43\": 1, \"101\": 2, \"124\": 4, \"90\": 1, \"89\": 1, \"78\": 1, \"118\": 2, \"46\": 1, \"52\": 2, \"22\": 1, \"103\": 1, \"93\": 2, \"40\": 1, \"127\": 1, \"98\": 1, \"5\": 1}, \"67\": {\"108\": 1, \"67\": 4, \"65\": 1, \"117\": 2, \"18\": 1, \"16\": 1, \"83\": 1, \"63\": 1, \"102\": 1, \"123\": 1, \"57\": 2}, \"53\": {\"53\": 14, \"4\": 1, \"86\": 1}, \"49\": {\"107\": 1, \"14\": 1, \"49\": 3, \"127\": 2, \"4\": 2, \"11\": 1, \"103\": 1, \"22\": 1, \"102\": 2, \"86\": 2, \"6\": 1, \"73\": 4, \"46\": 2, \"44\": 1, \"50\": 1, \"115\": 1, \"91\": 1, \"10\": 1, \"34\": 2, \"101\": 2}, \"42\": {\"42\": 10, \"127\": 1, \"40\": 1, \"129\": 1, \"52\": 1, \"1\": 2, \"105\": 1, \"124\": 1, \"8\": 1, \"98\": 1, \"49\": 1, \"114\": 1, \"37\": 1, \"3\": 2, \"71\": 1, \"87\": 1, \"12\": 1}, \"10\": {\"53\": 1, \"42\": 2, \"70\": 3, \"99\": 1, \"85\": 1, \"95\": 1, \"75\": 2, \"10\": 27, \"129\": 1, \"82\": 3, \"12\": 5, \"24\": 7, \"27\": 2, \"8\": 3, \"36\": 4, \"7\": 8, \"88\": 1, \"30\": 3, \"15\": 9, \"94\": 1, \"108\": 4, \"98\": 1, \"4\": 3, \"87\": 2, \"43\": 1, \"106\": 3, \"128\": 1, \"89\": 1, \"125\": 1, \"107\": 1, \"39\": 1, \"101\": 4, \"114\": 1, \"111\": 1, \"0\": 5, \"40\": 1, \"105\": 1, \"5\": 1}, \"50\": {\"50\": 14, \"33\": 1, \"46\": 1}, \"73\": {\"73\": 19, \"33\": 2, \"5\": 1, \"24\": 1, \"115\": 1}, \"115\": {\"33\": 2, \"88\": 1, \"40\": 3, \"115\": 5, \"85\": 1, \"66\": 1, \"109\": 1, \"49\": 1, \"102\": 1}, \"80\": {\"80\": 11, \"106\": 1, \"23\": 1, \"66\": 2, \"16\": 1}, \"19\": {\"19\": 5, \"82\": 3, \"71\": 1, \"8\": 1, \"129\": 1, \"10\": 4, \"113\": 1, \"5\": 1, \"44\": 1, \"118\": 1, \"7\": 2, \"93\": 2, \"33\": 1, \"4\": 1, \"90\": 1, \"127\": 1, \"126\": 1}, \"55\": {\"55\": 14, \"29\": 2}, \"72\": {\"72\": 13, \"106\": 1, \"105\": 1, \"33\": 4, \"40\": 1, \"5\": 3, \"78\": 1, \"115\": 1, \"122\": 2, \"93\": 1, \"27\": 1, \"108\": 1, \"3\": 2}, \"117\": {\"117\": 90, \"81\": 4, \"126\": 3, \"113\": 5, \"26\": 3, \"18\": 3, \"84\": 1, \"39\": 3, \"11\": 1, \"2\": 1, \"16\": 2}, \"81\": {\"81\": 28, \"117\": 2, \"108\": 1, \"69\": 1, \"16\": 1, \"113\": 2, \"21\": 1}, \"75\": {\"75\": 16}, \"98\": {\"98\": 94, \"41\": 2, \"24\": 1, \"114\": 2, \"36\": 1, \"71\": 1, \"1\": 1, \"111\": 1, \"27\": 2, \"10\": 1, \"25\": 2, \"52\": 3, \"12\": 1, \"106\": 3, \"15\": 2, \"124\": 3}, \"48\": {\"48\": 14, \"18\": 2}, \"129\": {\"8\": 2, \"129\": 5, \"7\": 3, \"72\": 1, \"33\": 2, \"93\": 2, \"19\": 1, \"107\": 2, \"27\": 1, \"90\": 1, \"127\": 2, \"10\": 1, \"98\": 1, \"44\": 1, \"4\": 1, \"5\": 2}, \"97\": {\"111\": 2, \"12\": 1, \"19\": 1, \"24\": 2, \"15\": 1, \"97\": 5, \"4\": 1, \"94\": 1, \"47\": 2, \"8\": 1, \"25\": 1, \"30\": 1, \"86\": 1}}, \"Wisig_1\": {\"105\": {\"105\": 55, \"12\": 1, \"43\": 1, \"40\": 7, \"7\": 1, \"84\": 7, \"14\": 1, \"87\": 3, \"1\": 2, \"70\": 1, \"8\": 1, \"108\": 1, \"17\": 1, \"5\": 2}, \"100\": {\"100\": 14, \"82\": 2}, \"112\": {\"112\": 12, \"12\": 1, \"127\": 2, \"53\": 1}, \"123\": {\"123\": 14, \"95\": 1, \"2\": 1}, \"13\": {\"95\": 1, \"13\": 9, \"26\": 3, \"11\": 2, \"2\": 1}, \"81\": {\"81\": 23, \"87\": 1, \"1\": 1, \"67\": 1, \"33\": 2}, \"124\": {\"86\": 2, \"124\": 89, \"1\": 1, \"114\": 8, \"70\": 3, \"24\": 1, \"15\": 1, \"5\": 2, \"102\": 1, \"117\": 1, \"12\": 1, \"40\": 7, \"45\": 1, \"96\": 1, \"17\": 1}, \"122\": {\"122\": 49, \"1\": 3, \"14\": 8, \"46\": 1, \"43\": 6, \"61\": 2, \"62\": 1, \"7\": 4, \"129\": 2, \"70\": 2, \"84\": 3, \"126\": 1, \"64\": 1, \"19\": 1, \"87\": 3, \"44\": 1}, \"111\": {\"112\": 1, \"111\": 93, \"15\": 5, \"12\": 3, \"3\": 1, \"10\": 1, \"110\": 1, \"94\": 2, \"53\": 1, \"32\": 1, \"92\": 1, \"106\": 4, \"127\": 3, \"71\": 1, \"98\": 1, \"109\": 1}, \"93\": {\"93\": 74, \"105\": 1, \"48\": 1, \"5\": 9, \"107\": 7, \"91\": 1, \"44\": 1, \"72\": 2, \"85\": 1, \"4\": 8, \"8\": 8, \"10\": 5, \"21\": 1, \"0\": 1, \"87\": 6, \"122\": 2, \"101\": 7, \"127\": 1, \"110\": 6, \"70\": 3, \"7\": 1, \"114\": 1, \"84\": 2, \"126\": 1, \"55\": 1, \"32\": 1, \"41\": 1, \"12\": 1, \"108\": 2, \"40\": 2}, \"106\": {\"93\": 1, \"106\": 84, \"47\": 1, \"107\": 6, \"17\": 2, \"111\": 5, \"88\": 3, \"127\": 3, \"71\": 1, \"4\": 1, \"5\": 1, \"32\": 1, \"68\": 2, \"103\": 1, \"98\": 4, \"39\": 2}, \"113\": {\"113\": 96, \"2\": 3, \"65\": 2, \"18\": 6, \"16\": 5, \"26\": 4, \"39\": 1, \"109\": 1, \"102\": 1, \"118\": 1, \"63\": 1, \"95\": 1, \"11\": 2}, \"95\": {\"95\": 23, \"2\": 1, \"63\": 3, \"26\": 2, \"39\": 3, \"118\": 1, \"121\": 1, \"18\": 1, \"11\": 1}, \"87\": {\"105\": 8, \"122\": 2, \"17\": 2, \"7\": 5, \"62\": 1, \"84\": 5, \"44\": 4, \"70\": 4, \"40\": 9, \"87\": 35, \"93\": 3, \"8\": 7, \"21\": 2, \"5\": 2, \"114\": 3, \"43\": 6, \"64\": 1, \"126\": 3, \"1\": 2, \"10\": 1, \"107\": 1, \"18\": 1, \"14\": 1}, \"86\": {\"93\": 4, \"86\": 17, \"124\": 1, \"72\": 1, \"77\": 1, \"79\": 1, \"27\": 1, \"106\": 1, \"4\": 2, \"70\": 1, \"31\": 1, \"32\": 1, \"108\": 1, \"5\": 2, \"88\": 1}, \"67\": {\"67\": 15, \"69\": 1}, \"85\": {\"0\": 1, \"85\": 30, \"55\": 1}, \"82\": {\"82\": 27, \"81\": 2, \"102\": 3, \"33\": 4}, \"115\": {\"115\": 11, \"7\": 1}, \"7\": {\"7\": 102, \"1\": 4, \"87\": 7, \"128\": 1, \"8\": 4, \"84\": 8, \"43\": 5, \"126\": 3, \"105\": 2, \"93\": 1, \"110\": 1, \"40\": 2, \"5\": 2}, \"44\": {\"7\": 1, \"44\": 47, \"105\": 2, \"122\": 2, \"10\": 1, \"128\": 1, \"8\": 2, \"23\": 1, \"126\": 4, \"84\": 2, \"43\": 2, \"114\": 2, \"70\": 2, \"64\": 1, \"9\": 1, \"1\": 2, \"93\": 1, \"87\": 1, \"21\": 1}, \"65\": {\"129\": 1, \"76\": 1, \"65\": 2, \"80\": 1, \"95\": 2, \"74\": 1, \"50\": 2, \"11\": 1, \"28\": 1}, \"129\": {\"82\": 2, \"128\": 2, \"105\": 4, \"129\": 5, \"18\": 1, \"23\": 1, \"94\": 1, \"69\": 3, \"99\": 2, \"116\": 1, \"1\": 1, \"93\": 1, \"11\": 1, \"92\": 1, \"118\": 1, \"110\": 1}, \"42\": {\"42\": 4, \"115\": 1, \"9\": 1, \"56\": 1, \"81\": 1, \"60\": 1, \"126\": 3, \"73\": 2, \"1\": 1, \"102\": 1, \"69\": 1, \"14\": 1, \"84\": 1, \"19\": 1, \"39\": 1, \"40\": 1, \"20\": 1, \"129\": 1, \"114\": 2, \"82\": 2}, \"28\": {\"129\": 1, \"28\": 15, \"74\": 2, \"64\": 1, \"11\": 1}, \"0\": {\"85\": 5, \"0\": 59, \"39\": 1, \"35\": 1, \"30\": 2, \"93\": 5, \"107\": 2, \"70\": 1, \"10\": 2, \"110\": 4, \"91\": 1, \"28\": 1}, \"10\": {\"10\": 96, \"0\": 6, \"57\": 2, \"122\": 3, \"8\": 3, \"1\": 1, \"93\": 2, \"7\": 1, \"101\": 2, \"85\": 1, \"32\": 1, \"87\": 1, \"21\": 1}, \"76\": {\"76\": 13, \"3\": 1, \"21\": 2}, \"88\": {\"88\": 39, \"71\": 1, \"98\": 5, \"127\": 4, \"40\": 1, \"125\": 13, \"27\": 8, \"10\": 2, \"94\": 4, \"106\": 4, \"12\": 3, \"110\": 7, \"36\": 8, \"0\": 1, \"93\": 3, \"111\": 2, \"87\": 1, \"101\": 7, \"107\": 4, \"24\": 4, \"30\": 1, \"15\": 2, \"29\": 1, \"108\": 1}, \"29\": {\"85\": 1, \"29\": 20, \"77\": 1, \"9\": 1, \"5\": 1, \"34\": 2, \"108\": 2}, \"16\": {\"82\": 1, \"16\": 72, \"113\": 5, \"26\": 7, \"95\": 1, \"118\": 6, \"18\": 5, \"39\": 2, \"69\": 2, \"109\": 1, \"90\": 1, \"61\": 1, \"121\": 1, \"3\": 1, \"102\": 1, \"11\": 1}, \"41\": {\"93\": 1, \"41\": 9, \"128\": 1, \"72\": 2, \"29\": 1, \"4\": 1, \"107\": 1}, \"27\": {\"27\": 53, \"51\": 1, \"71\": 6, \"94\": 4, \"88\": 1, \"98\": 2, \"36\": 2, \"15\": 6, \"12\": 2, \"110\": 2, \"127\": 2, \"125\": 5, \"97\": 1, \"101\": 1, \"24\": 2, \"111\": 1, \"107\": 1}, \"33\": {\"33\": 112, \"3\": 2, \"102\": 2, \"67\": 1, \"2\": 1, \"69\": 1, \"62\": 1}, \"75\": {\"75\": 16}, \"48\": {\"48\": 12}, \"56\": {\"9\": 2, \"56\": 4, \"27\": 1, \"94\": 1, \"72\": 1, \"98\": 1, \"91\": 2}, \"9\": {\"9\": 17, \"93\": 1, \"84\": 1, \"103\": 1, \"54\": 1, \"23\": 1, \"128\": 1, \"56\": 1, \"5\": 1, \"24\": 2, \"102\": 1, \"29\": 1, \"107\": 2, \"40\": 1}, \"1\": {\"1\": 92, \"7\": 3, \"115\": 2, \"114\": 7, \"126\": 4, \"87\": 2, \"8\": 3, \"84\": 3, \"40\": 1, \"19\": 2, \"104\": 1, \"122\": 1, \"109\": 1, \"43\": 4}, \"39\": {\"39\": 31, \"65\": 2, \"117\": 14, \"2\": 2, \"18\": 13, \"70\": 1, \"23\": 1, \"69\": 2, \"3\": 2, \"26\": 10, \"90\": 2, \"118\": 3, \"16\": 5, \"43\": 1, \"109\": 4, \"87\": 1, \"102\": 2, \"60\": 1, \"50\": 1, \"121\": 1, \"122\": 1, \"62\": 2, \"113\": 1, \"33\": 1}, \"50\": {\"39\": 2, \"33\": 1, \"50\": 10, \"91\": 1, \"10\": 1, \"65\": 1}, \"99\": {\"42\": 2, \"99\": 14, \"100\": 1, \"78\": 1, \"39\": 1, \"25\": 1, \"69\": 1, \"11\": 2, \"82\": 1}, \"90\": {\"90\": 102, \"81\": 3, \"43\": 1, \"70\": 1, \"61\": 1, \"34\": 1, \"122\": 1, \"62\": 5, \"21\": 1, \"1\": 3, \"109\": 3}, \"45\": {\"7\": 1, \"67\": 1, \"112\": 1, \"28\": 1, \"45\": 1, \"60\": 2, \"124\": 1, \"13\": 1, \"48\": 2, \"21\": 1}, \"5\": {\"5\": 63, \"108\": 2, \"40\": 8, \"4\": 6, \"87\": 4, \"107\": 2, \"86\": 1, \"93\": 1, \"12\": 1}, \"128\": {\"5\": 1, \"41\": 1, \"19\": 2, \"28\": 1, \"128\": 7, \"1\": 1, \"84\": 3, \"23\": 1, \"14\": 2, \"0\": 1, \"57\": 1, \"81\": 1, \"34\": 1, \"107\": 1}, \"2\": {\"90\": 1, \"45\": 1, \"67\": 1, \"118\": 3, \"96\": 2, \"2\": 9, \"82\": 2, \"60\": 2, \"16\": 3, \"121\": 1, \"7\": 1, \"50\": 1, \"117\": 1, \"102\": 1, \"1\": 1, \"100\": 1, \"33\": 1}, \"53\": {\"53\": 19, \"52\": 1}, \"104\": {\"104\": 13, \"97\": 1, \"34\": 1, \"78\": 1}, \"32\": {\"32\": 14, \"4\": 2, \"27\": 1, \"111\": 2, \"56\": 1, \"127\": 1, \"37\": 3, \"91\": 2, \"58\": 1, \"30\": 1, \"110\": 1, \"101\": 1, \"9\": 2}, \"92\": {\"92\": 27, \"15\": 1}, \"78\": {\"123\": 1, \"78\": 3, \"64\": 1, \"19\": 2, \"118\": 2, \"1\": 4, \"21\": 1, \"122\": 1, \"90\": 1}, \"19\": {\"19\": 16, \"115\": 2, \"105\": 1, \"14\": 2, \"41\": 1, \"104\": 1, \"44\": 1, \"128\": 1, \"84\": 2, \"129\": 1}, \"120\": {\"120\": 19, \"121\": 1}, \"43\": {\"64\": 2, \"40\": 8, \"34\": 1, \"43\": 62, \"122\": 7, \"84\": 9, \"8\": 3, \"87\": 12, \"114\": 1, \"14\": 3, \"105\": 2, \"39\": 4, \"1\": 2, \"109\": 1, \"70\": 4, \"7\": 3, \"11\": 1, \"93\": 1, \"10\": 1, \"90\": 1}, \"74\": {\"74\": 15, \"28\": 1}, \"11\": {\"11\": 96, \"81\": 1, \"13\": 1, \"115\": 1, \"69\": 3, \"82\": 1, \"33\": 10, \"18\": 1, \"1\": 1, \"102\": 6, \"62\": 1, \"114\": 1, \"90\": 2, \"26\": 2, \"2\": 1, \"28\": 1, \"117\": 1}, \"26\": {\"26\": 117, \"118\": 4, \"95\": 1, \"117\": 2, \"90\": 2, \"69\": 1, \"16\": 3, \"113\": 2}, \"125\": {\"125\": 98, \"51\": 1, \"88\": 9, \"36\": 15, \"27\": 5, \"15\": 1, \"59\": 1, \"71\": 1, \"94\": 1}, \"64\": {\"64\": 14, \"122\": 2}, \"127\": {\"127\": 82, \"92\": 2, \"36\": 1, \"71\": 4, \"12\": 6, \"111\": 4, \"101\": 2, \"15\": 1, \"97\": 2, \"91\": 1, \"69\": 1, \"110\": 1, \"125\": 1}, \"83\": {\"83\": 14, \"115\": 1, \"114\": 2, \"40\": 1, \"118\": 1, \"73\": 1, \"87\": 1, \"7\": 1, \"23\": 1, \"124\": 2, \"104\": 1, \"108\": 2}, \"118\": {\"118\": 47, \"67\": 1, \"2\": 2, \"66\": 1, \"16\": 8, \"18\": 8, \"62\": 2, \"102\": 1, \"117\": 3, \"39\": 3, \"26\": 5, \"33\": 1, \"90\": 2}, \"103\": {\"103\": 11, \"97\": 1, \"34\": 1, \"9\": 1, \"36\": 2}, \"55\": {\"55\": 11, \"93\": 1}, \"110\": {\"110\": 100, \"10\": 1, \"127\": 3, \"101\": 5, \"107\": 4, \"93\": 3, \"40\": 1, \"0\": 3, \"41\": 1, \"24\": 2, \"85\": 1, \"5\": 2}, \"30\": {\"6\": 2, \"30\": 14, \"112\": 2, \"32\": 4, \"71\": 1, \"53\": 2, \"91\": 2, \"15\": 3, \"88\": 1, \"49\": 2, \"106\": 1, \"27\": 2, \"43\": 1, \"59\": 2, \"75\": 1, \"127\": 1, \"111\": 4, \"101\": 2, \"7\": 1, \"52\": 2, \"129\": 1, \"92\": 1}, \"51\": {\"51\": 16}, \"6\": {\"30\": 1, \"6\": 17, \"111\": 4, \"52\": 1, \"15\": 1, \"94\": 2, \"71\": 1, \"12\": 3, \"92\": 1, \"127\": 1}, \"96\": {\"1\": 2, \"122\": 2, \"114\": 1, \"70\": 2, \"81\": 1, \"108\": 1, \"42\": 1, \"96\": 3, \"18\": 1, \"102\": 1, \"83\": 1, \"90\": 2, \"76\": 2}, \"114\": {\"114\": 128, \"121\": 1, \"40\": 2, \"1\": 3, \"23\": 1, \"106\": 1, \"7\": 2, \"124\": 2, \"73\": 1, \"96\": 1, \"39\": 1, \"108\": 1}, \"69\": {\"69\": 84, \"82\": 3, \"39\": 2, \"102\": 7, \"109\": 2, \"90\": 3, \"3\": 4, \"118\": 1, \"126\": 1, \"33\": 1}, \"60\": {\"60\": 2, \"69\": 1, \"34\": 1, \"118\": 1, \"113\": 1, \"72\": 1, \"108\": 1, \"57\": 1, \"121\": 1, \"42\": 1, \"2\": 1, \"95\": 1, \"70\": 1, \"26\": 1, \"87\": 1}, \"94\": {\"27\": 3, \"111\": 7, \"94\": 43, \"12\": 4, \"103\": 1, \"59\": 2, \"15\": 3, \"52\": 1, \"88\": 3, \"127\": 4, \"125\": 3, \"110\": 2, \"36\": 3, \"71\": 2, \"51\": 2, \"6\": 2, \"30\": 2, \"92\": 1, \"0\": 1, \"101\": 1, \"117\": 1, \"98\": 1}, \"79\": {\"79\": 11, \"54\": 1}, \"126\": {\"126\": 43, \"41\": 1, \"73\": 1, \"29\": 1, \"12\": 1, \"22\": 1, \"128\": 2, \"14\": 5, \"82\": 1, \"34\": 1, \"38\": 1, \"107\": 3, \"8\": 8, \"1\": 4, \"3\": 4, \"122\": 5, \"124\": 2, \"24\": 2, \"33\": 1, \"84\": 7, \"43\": 4, \"40\": 8, \"93\": 3, \"109\": 2, \"70\": 2, \"108\": 3, \"87\": 4, \"60\": 1, \"31\": 1, \"83\": 1, \"19\": 1, \"5\": 2, \"105\": 3, \"44\": 1, \"81\": 1, \"62\": 1, \"114\": 1, \"90\": 1}, \"68\": {\"68\": 11, \"111\": 3, \"12\": 1, \"127\": 1}, \"72\": {\"41\": 2, \"72\": 26, \"4\": 1, \"93\": 1, \"29\": 1, \"86\": 1}, \"63\": {\"63\": 16}, \"22\": {\"22\": 10, \"38\": 1, \"20\": 1, \"33\": 2, \"6\": 1, \"108\": 1}, \"121\": {\"121\": 10, \"63\": 2, \"66\": 4, \"39\": 2, \"61\": 1, \"123\": 1, \"119\": 3, \"122\": 1, \"90\": 2, \"50\": 2, \"78\": 1, \"88\": 1, \"118\": 2}, \"71\": {\"6\": 2, \"88\": 3, \"71\": 57, \"27\": 3, \"66\": 1, \"53\": 2, \"111\": 13, \"56\": 1, \"30\": 2, \"12\": 5, \"94\": 1, \"24\": 2, \"33\": 1, \"98\": 1, \"127\": 3, \"15\": 4, \"43\": 1, \"101\": 1, \"52\": 1, \"36\": 1, \"90\": 1, \"110\": 1, \"109\": 1}, \"54\": {\"54\": 14, \"1\": 1, \"32\": 1}, \"102\": {\"102\": 91, \"39\": 1, \"62\": 2, \"33\": 11, \"69\": 10, \"129\": 1, \"2\": 1, \"11\": 1, \"82\": 1, \"3\": 1}, \"73\": {\"73\": 12, \"6\": 1, \"29\": 1, \"127\": 1, \"86\": 1, \"126\": 1, \"40\": 2, \"68\": 1}, \"38\": {\"38\": 15, \"120\": 1}, \"4\": {\"4\": 67, \"40\": 4, \"85\": 1, \"93\": 5, \"70\": 1, \"105\": 5, \"110\": 2, \"3\": 1, \"5\": 5, \"101\": 1, \"97\": 1, \"12\": 1, \"48\": 1, \"91\": 1, \"88\": 1, \"118\": 2, \"107\": 1}, \"52\": {\"52\": 17, \"6\": 1, \"30\": 1, \"88\": 1}, \"70\": {\"72\": 3, \"64\": 2, \"65\": 1, \"74\": 1, \"89\": 2, \"34\": 1, \"83\": 1, \"40\": 4, \"23\": 2, \"110\": 2, \"70\": 17, \"97\": 1, \"87\": 2, \"84\": 2, \"21\": 1, \"106\": 3, \"126\": 2, \"124\": 4, \"24\": 2, \"122\": 5, \"3\": 1, \"107\": 8, \"105\": 3, \"43\": 6, \"90\": 4, \"14\": 2, \"0\": 2, \"109\": 5, \"111\": 2, \"4\": 5, \"93\": 7, \"7\": 1, \"108\": 8, \"47\": 1, \"103\": 1, \"8\": 2, \"129\": 1, \"11\": 1, \"114\": 3, \"9\": 1, \"62\": 1, \"86\": 2, \"27\": 1, \"1\": 1, \"101\": 1}, \"91\": {\"91\": 14, \"0\": 2, \"53\": 1, \"88\": 1, \"30\": 1, \"127\": 3, \"110\": 1, \"15\": 1, \"72\": 1, \"107\": 1, \"58\": 1, \"101\": 1}, \"77\": {\"77\": 13, \"61\": 1, \"124\": 1, \"9\": 1}, \"20\": {\"20\": 15, \"90\": 1}, \"59\": {\"59\": 12}, \"40\": {\"5\": 4, \"40\": 94, \"87\": 5, \"109\": 2, \"4\": 6, \"105\": 4, \"84\": 7, \"14\": 1, \"93\": 3, \"114\": 3, \"70\": 2, \"35\": 1, \"9\": 1, \"98\": 1, \"12\": 1, \"7\": 1}, \"98\": {\"46\": 1, \"98\": 96, \"24\": 3, \"106\": 2, \"56\": 1, \"9\": 1, \"111\": 3, \"71\": 1}, \"46\": {\"115\": 1, \"46\": 2, \"94\": 1, \"23\": 1, \"3\": 1, \"111\": 1, \"59\": 1, \"30\": 1, \"53\": 1, \"54\": 1, \"32\": 1}, \"34\": {\"34\": 6, \"71\": 1, \"77\": 2, \"103\": 2, \"51\": 2, \"68\": 2, \"70\": 1, \"7\": 2, \"98\": 1, \"28\": 1, \"111\": 1, \"23\": 1, \"60\": 1, \"30\": 1, \"10\": 1, \"84\": 1, \"14\": 1, \"128\": 1, \"93\": 1, \"112\": 1, \"43\": 1, \"125\": 1}, \"24\": {\"52\": 2, \"71\": 5, \"107\": 4, \"32\": 1, \"66\": 1, \"94\": 2, \"4\": 1, \"111\": 6, \"24\": 21, \"110\": 1, \"98\": 5, \"27\": 5, \"114\": 2, \"70\": 2, \"106\": 3, \"125\": 1, \"15\": 5, \"124\": 1, \"12\": 7, \"88\": 2, \"45\": 1, \"126\": 1, \"104\": 1, \"101\": 1, \"72\": 1, \"103\": 1, \"127\": 2, \"96\": 1, \"49\": 1, \"0\": 1, \"93\": 2, \"3\": 1, \"39\": 1}, \"62\": {\"62\": 102, \"66\": 1, \"3\": 2, \"43\": 1, \"90\": 1, \"33\": 4, \"126\": 1, \"69\": 1, \"38\": 1, \"125\": 1, \"122\": 1, \"109\": 2, \"7\": 1, \"84\": 1}, \"14\": {\"14\": 85, \"7\": 1, \"43\": 3, \"122\": 2, \"84\": 1, \"8\": 1, \"87\": 3}, \"12\": {\"112\": 2, \"12\": 52, \"27\": 4, \"6\": 1, \"109\": 1, \"111\": 6, \"127\": 6, \"71\": 6, \"106\": 1, \"88\": 1, \"15\": 3, \"110\": 1, \"24\": 8, \"101\": 1, \"37\": 1, \"47\": 1, \"30\": 2, \"66\": 1, \"91\": 1, \"11\": 1, \"94\": 1, \"0\": 1, \"39\": 1, \"69\": 1}, \"84\": {\"84\": 83, \"19\": 1, \"1\": 2, \"40\": 11, \"129\": 1, \"23\": 1, \"87\": 5, \"105\": 7, \"126\": 2, \"43\": 4, \"14\": 3, \"117\": 1, \"7\": 4, \"108\": 1, \"12\": 1, \"2\": 1, \"21\": 1, \"122\": 1, \"114\": 3, \"39\": 1}, \"37\": {\"37\": 14, \"12\": 1, \"56\": 1}, \"97\": {\"32\": 1, \"27\": 2, \"12\": 2, \"30\": 1, \"24\": 1, \"15\": 1, \"97\": 3, \"101\": 1, \"128\": 2, \"68\": 1, \"127\": 2, \"49\": 1, \"106\": 1, \"70\": 1}, \"57\": {\"57\": 11, \"18\": 1}, \"49\": {\"32\": 1, \"49\": 8, \"127\": 2, \"6\": 1, \"9\": 2, \"4\": 1, \"124\": 1, \"73\": 2, \"54\": 1, \"0\": 1}, \"17\": {\"114\": 1, \"49\": 2, \"9\": 2, \"105\": 1, \"17\": 7, \"73\": 1, \"102\": 1, \"27\": 1}, \"109\": {\"109\": 58, \"39\": 2, \"122\": 1, \"33\": 2, \"3\": 6, \"12\": 1, \"21\": 4, \"90\": 7, \"1\": 2, \"70\": 3, \"43\": 3, \"102\": 1, \"62\": 5, \"8\": 1, \"126\": 2, \"69\": 3, \"74\": 1, \"14\": 1, \"116\": 1, \"7\": 2}, \"80\": {\"80\": 16}, \"66\": {\"66\": 16}, \"101\": {\"101\": 113, \"93\": 2, \"0\": 1, \"24\": 1, \"110\": 3, \"85\": 2, \"97\": 1, \"33\": 1}, \"89\": {\"89\": 21, \"66\": 1, \"111\": 1, \"4\": 1, \"106\": 2, \"98\": 1, \"24\": 1, \"105\": 1, \"30\": 1, \"76\": 1, \"47\": 2, \"124\": 1, \"86\": 1, \"127\": 1}, \"31\": {\"71\": 1, \"31\": 10, \"1\": 1, \"17\": 1, \"49\": 2, \"86\": 1}, \"21\": {\"43\": 4, \"76\": 2, \"21\": 18, \"14\": 1, \"8\": 1, \"87\": 1, \"7\": 1, \"0\": 1, \"70\": 1, \"18\": 1, \"84\": 2, \"60\": 1, \"113\": 1, \"109\": 2, \"62\": 1, \"44\": 1, \"122\": 1}, \"23\": {\"23\": 3, \"129\": 1, \"93\": 1, \"18\": 1, \"110\": 1, \"128\": 1, \"1\": 1, \"107\": 2, \"109\": 1, \"0\": 2, \"55\": 3, \"33\": 1, \"41\": 1, \"111\": 1, \"56\": 1, \"66\": 1, \"82\": 1, \"101\": 1}, \"25\": {\"25\": 6, \"82\": 1, \"42\": 2, \"99\": 2, \"102\": 1, \"100\": 2, \"90\": 1, \"115\": 1}, \"107\": {\"107\": 82, \"4\": 5, \"106\": 3, \"110\": 5, \"87\": 2, \"117\": 1, \"108\": 2, \"24\": 1, \"93\": 2, \"5\": 4, \"70\": 1, \"49\": 1, \"125\": 1, \"114\": 1, \"84\": 1}, \"3\": {\"45\": 2, \"3\": 79, \"6\": 1, \"122\": 1, \"33\": 2, \"125\": 1, \"88\": 1, \"82\": 1}, \"61\": {\"61\": 8, \"109\": 1, \"90\": 1, \"66\": 1, \"27\": 1}, \"117\": {\"117\": 104, \"121\": 1, \"18\": 8, \"16\": 3, \"26\": 3, \"62\": 1, \"39\": 4, \"118\": 1, \"113\": 1}, \"119\": {\"119\": 13, \"16\": 2, \"0\": 1}, \"58\": {\"58\": 9, \"37\": 1, \"101\": 2}, \"47\": {\"47\": 9, \"107\": 1, \"24\": 2}, \"116\": {\"116\": 15, \"119\": 1, \"99\": 2, \"33\": 2, \"69\": 2, \"82\": 2, \"118\": 1, \"50\": 1, \"67\": 2, \"16\": 2, \"11\": 1, \"3\": 1}, \"18\": {\"18\": 60, \"16\": 15, \"109\": 3, \"118\": 7, \"21\": 3, \"117\": 10, \"26\": 10, \"3\": 1, \"39\": 6, \"69\": 2, \"90\": 1, \"113\": 3, \"78\": 1, \"121\": 1, \"2\": 1}, \"36\": {\"36\": 79, \"109\": 1, \"92\": 1, \"6\": 4, \"71\": 3, \"24\": 1, \"88\": 8, \"94\": 2, \"27\": 4, \"39\": 1, \"15\": 1, \"125\": 9, \"111\": 2, \"106\": 1, \"59\": 1, \"68\": 1, \"97\": 1, \"12\": 1, \"18\": 1}, \"108\": {\"17\": 3, \"9\": 2, \"88\": 1, \"108\": 23, \"93\": 5, \"5\": 5, \"44\": 1, \"124\": 2, \"111\": 7, \"107\": 6, \"70\": 1, \"126\": 1, \"102\": 1, \"114\": 3, \"1\": 2, \"7\": 2, \"105\": 3, \"8\": 5, \"101\": 7, \"125\": 2, \"106\": 5, \"4\": 1, \"110\": 1, \"40\": 2, \"33\": 2, \"12\": 2, \"47\": 2, \"84\": 1, \"42\": 1, \"73\": 1, \"54\": 1, \"53\": 1, \"14\": 1, \"98\": 3, \"127\": 2, \"24\": 3, \"69\": 1}, \"15\": {\"15\": 38, \"111\": 5, \"127\": 8, \"91\": 4, \"30\": 2, \"6\": 2, \"27\": 6, \"36\": 4, \"88\": 3, \"93\": 1, \"71\": 5, \"106\": 2, \"101\": 2, \"125\": 3, \"0\": 3, \"12\": 3, \"24\": 3, \"112\": 1, \"59\": 1, \"94\": 5, \"110\": 1, \"92\": 1, \"33\": 1}, \"8\": {\"8\": 68, \"34\": 1, \"84\": 5, \"126\": 6, \"7\": 3, \"21\": 1, \"14\": 4, \"43\": 8, \"10\": 1, \"87\": 4, \"107\": 1, \"1\": 1, \"70\": 1, \"108\": 2, \"35\": 1, \"17\": 1, \"93\": 2, \"122\": 3, \"40\": 1}, \"35\": {\"35\": 9, \"10\": 1, \"93\": 1, \"43\": 1}}, \"Wisig_2\": {\"3\": {\"3\": 84, \"128\": 1, \"107\": 2, \"24\": 2, \"8\": 3, \"129\": 2, \"105\": 7, \"7\": 4, \"40\": 2, \"5\": 4, \"71\": 4, \"4\": 3, \"30\": 1, \"15\": 1, \"111\": 1, \"93\": 1, \"112\": 1, \"95\": 1, \"39\": 2, \"11\": 1, \"122\": 2, \"110\": 1, \"70\": 1, \"16\": 1}, \"127\": {\"127\": 97, \"2\": 1, \"41\": 1, \"12\": 4, \"111\": 11, \"0\": 4, \"97\": 1, \"30\": 1}, \"58\": {\"58\": 17, \"15\": 2, \"101\": 1}, \"114\": {\"127\": 1, \"86\": 1, \"114\": 79, \"11\": 1, \"5\": 3, \"95\": 1, \"124\": 4, \"71\": 10, \"4\": 1, \"12\": 1, \"111\": 1, \"3\": 1, \"108\": 3, \"120\": 1, \"69\": 1, \"94\": 1, \"8\": 2}, \"111\": {\"111\": 116, \"34\": 1, \"127\": 11, \"4\": 1, \"94\": 2, \"30\": 4, \"0\": 1, \"101\": 1, \"24\": 1, \"91\": 1, \"120\": 1, \"12\": 2, \"93\": 1, \"98\": 1}, \"105\": {\"86\": 1, \"105\": 85, \"55\": 1, \"3\": 8, \"40\": 9, \"128\": 1, \"110\": 1, \"32\": 3, \"122\": 8, \"7\": 1, \"107\": 3, \"16\": 1, \"22\": 1, \"95\": 1, \"78\": 1, \"71\": 1, \"43\": 3, \"62\": 2, \"5\": 1}, \"118\": {\"20\": 1, \"118\": 30, \"92\": 1, \"83\": 1, \"33\": 5, \"84\": 5, \"70\": 3, \"88\": 5, \"90\": 4, \"23\": 1, \"78\": 2, \"46\": 1, \"109\": 2, \"96\": 3, \"87\": 1, \"119\": 1, \"2\": 1, \"72\": 1}, \"23\": {\"3\": 3, \"99\": 1, \"112\": 1, \"117\": 4, \"113\": 5, \"74\": 2, \"122\": 4, \"4\": 2, \"23\": 6, \"2\": 1, \"18\": 3, \"8\": 4, \"39\": 1, \"26\": 2, \"118\": 1, \"82\": 1, \"65\": 2, \"71\": 1}, \"21\": {\"20\": 2, \"118\": 2, \"2\": 1, \"21\": 27, \"109\": 2, \"87\": 2, \"126\": 1, \"88\": 4, \"120\": 2, \"63\": 1, \"119\": 1, \"117\": 1, \"78\": 2}, \"20\": {\"20\": 15, \"21\": 1}, \"75\": {\"75\": 13, \"15\": 2, \"50\": 1}, \"86\": {\"86\": 28, \"71\": 1, \"114\": 1, \"40\": 1, \"129\": 1}, \"60\": {\"99\": 1, \"14\": 2, \"116\": 3, \"78\": 1, \"60\": 10, \"83\": 1, \"44\": 2, \"62\": 1, \"105\": 1, \"129\": 1, \"38\": 1, \"89\": 1, \"33\": 1, \"20\": 1, \"64\": 1}, \"69\": {\"69\": 116, \"102\": 4, \"71\": 1, \"16\": 5, \"39\": 6, \"109\": 1, \"88\": 2, \"82\": 2, \"93\": 1, \"62\": 1, \"90\": 1}, \"99\": {\"23\": 2, \"99\": 25, \"16\": 1, \"65\": 1, \"26\": 1, \"121\": 2}, \"14\": {\"14\": 18, \"22\": 2, \"55\": 2, \"78\": 2, \"116\": 1, \"113\": 2, \"1\": 3, \"127\": 1, \"62\": 6, \"96\": 1, \"67\": 1, \"66\": 2, \"90\": 1, \"88\": 1, \"105\": 1, \"70\": 2, \"69\": 1, \"11\": 1}, \"25\": {\"25\": 14, \"106\": 1, \"36\": 1}, \"52\": {\"103\": 1, \"52\": 13, \"8\": 2, \"68\": 1, \"49\": 2, \"34\": 1}, \"47\": {\"47\": 8, \"49\": 3, \"78\": 1}, \"48\": {\"48\": 16, \"125\": 1, \"117\": 1, \"26\": 2}, \"27\": {\"27\": 28, \"20\": 1, \"34\": 1, \"97\": 2, \"87\": 1, \"125\": 4, \"15\": 3, \"101\": 1, \"127\": 2, \"6\": 4, \"16\": 1, \"12\": 1, \"84\": 1, \"93\": 1, \"36\": 2, \"94\": 5, \"24\": 4, \"106\": 1, \"18\": 1, \"58\": 1, \"113\": 1, \"23\": 1, \"111\": 1}, \"78\": {\"120\": 1, \"47\": 1, \"78\": 6, \"119\": 1, \"126\": 2, \"62\": 2, \"110\": 2, \"109\": 2, \"63\": 4, \"61\": 1, \"44\": 1, \"1\": 3, \"43\": 2, \"40\": 1, \"23\": 1, \"129\": 2, \"38\": 1, \"122\": 2, \"55\": 1, \"115\": 1, \"123\": 1, \"5\": 2, \"42\": 1, \"105\": 2, \"21\": 1, \"70\": 2, \"3\": 1, \"12\": 1}, \"8\": {\"8\": 65, \"41\": 1, \"129\": 1, \"86\": 1, \"108\": 2, \"29\": 1, \"128\": 1, \"107\": 2, \"124\": 3, \"4\": 4, \"101\": 1, \"11\": 3, \"105\": 6, \"7\": 5, \"40\": 2, \"71\": 2, \"122\": 6, \"30\": 1, \"114\": 8, \"3\": 2, \"95\": 2, \"106\": 1, \"5\": 1, \"90\": 1}, \"90\": {\"90\": 121, \"118\": 2, \"1\": 2, \"39\": 1, \"69\": 2, \"87\": 6, \"93\": 4, \"33\": 5, \"126\": 2, \"84\": 1, \"88\": 2, \"70\": 3, \"102\": 2, \"21\": 1, \"116\": 1, \"83\": 3, \"82\": 1, \"117\": 1}, \"103\": {\"103\": 15, \"59\": 1}, \"120\": {\"120\": 18, \"96\": 1, \"31\": 1}, \"96\": {\"20\": 1, \"90\": 1, \"96\": 6, \"13\": 5, \"102\": 1, \"44\": 1, \"89\": 2, \"93\": 1, \"118\": 2}, \"30\": {\"30\": 49, \"51\": 2, \"101\": 6, \"127\": 8, \"111\": 5, \"0\": 4, \"98\": 1, \"108\": 3, \"15\": 3, \"7\": 3, \"40\": 1, \"105\": 1, \"77\": 1, \"24\": 3, \"49\": 3, \"93\": 1, \"6\": 2, \"54\": 1, \"34\": 2, \"1\": 1, \"36\": 3, \"3\": 1}, \"33\": {\"33\": 134, \"84\": 6, \"90\": 1, \"118\": 1, \"60\": 1, \"43\": 2, \"87\": 1}, \"35\": {\"35\": 8, \"30\": 1, \"103\": 2, \"6\": 1}, \"108\": {\"108\": 40, \"54\": 2, \"11\": 4, \"49\": 1, \"112\": 2, \"110\": 1, \"3\": 4, \"111\": 5, \"98\": 11, \"17\": 1, \"127\": 7, \"122\": 3, \"94\": 4, \"12\": 4, \"4\": 1, \"7\": 4, \"71\": 1, \"30\": 2, \"5\": 1, \"124\": 6, \"0\": 1, \"114\": 5, \"128\": 1, \"10\": 1, \"36\": 1, \"8\": 1, \"24\": 1, \"105\": 1}, \"112\": {\"112\": 9, \"56\": 1, \"129\": 1, \"86\": 1, \"11\": 1, \"8\": 1, \"104\": 1, \"24\": 1}, \"40\": {\"40\": 65, \"86\": 2, \"5\": 10, \"95\": 5, \"71\": 1, \"107\": 4, \"3\": 5, \"42\": 1, \"21\": 1, \"122\": 3, \"19\": 1, \"90\": 1, \"8\": 6, \"114\": 1, \"11\": 1, \"39\": 2, \"93\": 2, \"111\": 1, \"105\": 13, \"16\": 1, \"30\": 1, \"1\": 2, \"129\": 1, \"43\": 1, \"32\": 1, \"4\": 1, \"69\": 1, \"33\": 2, \"84\": 1, \"109\": 1, \"127\": 1, \"70\": 1}, \"102\": {\"102\": 93, \"82\": 1, \"69\": 7, \"87\": 4, \"93\": 4, \"90\": 2, \"16\": 2, \"33\": 2, \"70\": 1}, \"56\": {\"56\": 9, \"129\": 1, \"42\": 1, \"104\": 1}, \"93\": {\"93\": 106, \"31\": 2, \"21\": 1, \"83\": 1, \"16\": 6, \"118\": 1, \"126\": 1, \"109\": 2, \"39\": 2, \"69\": 2, \"43\": 1, \"90\": 5, \"96\": 2, \"33\": 1, \"88\": 1, \"102\": 2}, \"68\": {\"68\": 12, \"0\": 2, \"91\": 1, \"92\": 1}, \"70\": {\"93\": 4, \"105\": 4, \"70\": 32, \"50\": 3, \"129\": 1, \"61\": 1, \"23\": 1, \"86\": 1, \"84\": 3, \"88\": 9, \"3\": 4, \"44\": 3, \"0\": 1, \"73\": 2, \"107\": 2, \"43\": 9, \"109\": 7, \"1\": 8, \"32\": 1, \"40\": 7, \"87\": 2, \"121\": 1, \"90\": 3, \"16\": 1, \"78\": 2, \"63\": 2, \"95\": 1, \"14\": 1, \"11\": 1, \"102\": 1, \"33\": 3, \"114\": 2, \"122\": 1}, \"7\": {\"7\": 77, \"112\": 1, \"17\": 1, \"3\": 9, \"108\": 4, \"122\": 9, \"8\": 3, \"0\": 1, \"127\": 2, \"71\": 4, \"4\": 6, \"109\": 1, \"107\": 1, \"11\": 3, \"105\": 2}, \"87\": {\"93\": 6, \"42\": 1, \"37\": 1, \"87\": 27, \"101\": 1, \"88\": 9, \"116\": 2, \"44\": 2, \"83\": 1, \"1\": 4, \"70\": 2, \"100\": 1, \"2\": 1, \"16\": 2, \"33\": 10, \"40\": 1, \"84\": 9, \"126\": 5, \"109\": 8, \"102\": 5, \"90\": 3, \"69\": 4, \"46\": 1, \"89\": 1, \"63\": 1, \"82\": 1, \"113\": 1, \"21\": 1, \"39\": 1}, \"54\": {\"40\": 1, \"54\": 18, \"34\": 1}, \"71\": {\"71\": 62, \"114\": 8, \"107\": 2, \"11\": 2, \"12\": 1, \"5\": 4, \"3\": 2, \"4\": 5, \"111\": 1, \"88\": 1, \"36\": 1, \"7\": 1, \"108\": 1, \"93\": 1, \"122\": 4, \"42\": 1, \"2\": 1, \"124\": 1, \"39\": 1}, \"80\": {\"80\": 14, \"33\": 1, \"14\": 1}, \"18\": {\"18\": 92, \"26\": 7, \"126\": 1, \"113\": 2, \"117\": 15, \"16\": 1, \"93\": 2, \"39\": 1, \"69\": 1}, \"101\": {\"101\": 104, \"35\": 1, \"83\": 1, \"15\": 5, \"6\": 1, \"11\": 1, \"106\": 1, \"7\": 2, \"30\": 2, \"111\": 2, \"0\": 1, \"127\": 1}, \"92\": {\"92\": 22, \"28\": 1, \"102\": 1, \"65\": 1, \"70\": 1, \"118\": 1, \"13\": 1}, \"32\": {\"105\": 2, \"32\": 15, \"42\": 1, \"68\": 1, \"61\": 1, \"122\": 4, \"14\": 2, \"5\": 1, \"123\": 1, \"29\": 1, \"90\": 1, \"74\": 1, \"45\": 1, \"37\": 1, \"66\": 1, \"3\": 1, \"15\": 1}, \"128\": {\"30\": 4, \"128\": 6, \"14\": 1, \"1\": 1, \"107\": 1, \"3\": 1, \"105\": 1, \"114\": 1, \"104\": 1, \"56\": 1, \"35\": 1, \"19\": 1, \"126\": 1, \"11\": 1, \"129\": 1, \"32\": 1}, \"6\": {\"6\": 23, \"15\": 1, \"94\": 2, \"49\": 1, \"106\": 1, \"75\": 1, \"51\": 1, \"101\": 2}, \"51\": {\"6\": 1, \"30\": 2, \"15\": 2, \"9\": 1, \"29\": 1, \"51\": 6, \"36\": 2, \"35\": 2, \"0\": 1, \"83\": 1, \"129\": 1}, \"85\": {\"85\": 23, \"83\": 1, \"124\": 1, \"114\": 2, \"28\": 1, \"45\": 2, \"73\": 2}, \"46\": {\"46\": 11, \"102\": 1, \"118\": 1, \"42\": 2, \"33\": 1}, \"22\": {\"105\": 2, \"22\": 15, \"122\": 1, \"44\": 1, \"19\": 1}, \"1\": {\"23\": 1, \"37\": 1, \"60\": 2, \"1\": 92, \"40\": 1, \"14\": 2, \"78\": 1, \"33\": 4, \"43\": 3, \"109\": 1, \"62\": 1, \"44\": 1, \"84\": 4, \"50\": 1, \"105\": 1, \"95\": 1, \"114\": 1, \"16\": 1, \"87\": 2, \"69\": 1}, \"37\": {\"37\": 11, \"104\": 2, \"55\": 1, \"1\": 1, \"32\": 1}, \"44\": {\"44\": 69, \"118\": 2, \"37\": 1, \"60\": 1, \"109\": 1, \"23\": 1, \"50\": 3, \"61\": 1, \"24\": 1, \"78\": 1, \"84\": 2, \"88\": 2, \"90\": 1, \"38\": 2, \"70\": 2, \"126\": 2, \"62\": 2, \"33\": 2, \"40\": 2, \"3\": 1, \"105\": 1}, \"24\": {\"23\": 2, \"9\": 4, \"15\": 9, \"106\": 12, \"98\": 1, \"5\": 1, \"3\": 3, \"2\": 1, \"27\": 3, \"110\": 1, \"36\": 9, \"17\": 2, \"125\": 5, \"101\": 1, \"6\": 1, \"105\": 6, \"0\": 1, \"113\": 1, \"108\": 1, \"40\": 3, \"88\": 1, \"24\": 14, \"12\": 1, \"8\": 1, \"127\": 3, \"93\": 2, \"7\": 4, \"30\": 2, \"20\": 1, \"51\": 1, \"25\": 1, \"35\": 1, \"34\": 1, \"21\": 1, \"95\": 1, \"11\": 1, \"107\": 1, \"124\": 1, \"39\": 1, \"94\": 1, \"111\": 2, \"122\": 2, \"69\": 1}, \"9\": {\"9\": 30, \"94\": 1, \"36\": 1}, \"116\": {\"60\": 2, \"116\": 11, \"16\": 2, \"100\": 2, \"93\": 1, \"82\": 2, \"32\": 1, \"102\": 1, \"64\": 2, \"89\": 1, \"118\": 1, \"33\": 1, \"126\": 1}, \"64\": {\"64\": 15, \"67\": 1}, \"129\": {\"129\": 16, \"112\": 1, \"8\": 1, \"70\": 2, \"86\": 3, \"5\": 4, \"17\": 1, \"114\": 1, \"3\": 2, \"32\": 1}, \"42\": {\"47\": 1, \"1\": 2, \"42\": 9, \"91\": 1, \"120\": 2, \"22\": 1, \"107\": 4, \"73\": 1, \"44\": 1, \"5\": 1, \"56\": 1, \"55\": 1, \"71\": 2, \"96\": 1}, \"117\": {\"117\": 97, \"113\": 5, \"26\": 8, \"39\": 2, \"93\": 1, \"18\": 7}, \"88\": {\"88\": 57, \"31\": 2, \"109\": 10, \"62\": 3, \"63\": 1, \"126\": 6, \"118\": 3, \"120\": 1, \"90\": 8, \"78\": 1, \"23\": 1, \"70\": 5, \"12\": 1, \"16\": 3, \"18\": 1, \"87\": 4, \"43\": 1, \"93\": 7, \"42\": 1, \"67\": 1, \"39\": 1, \"21\": 3, \"10\": 1, \"44\": 2}, \"31\": {\"31\": 18, \"14\": 1, \"93\": 1}, \"113\": {\"113\": 51, \"117\": 5, \"18\": 5, \"121\": 2, \"109\": 1, \"12\": 1, \"26\": 2, \"20\": 1, \"87\": 1, \"21\": 2, \"126\": 1}, \"38\": {\"47\": 1, \"38\": 15}, \"83\": {\"88\": 1, \"25\": 1, \"85\": 1, \"78\": 1, \"83\": 25, \"118\": 4, \"43\": 1, \"21\": 1, \"10\": 1, \"93\": 1, \"16\": 1, \"90\": 1, \"36\": 1}, \"49\": {\"97\": 2, \"127\": 3, \"51\": 1, \"129\": 2, \"49\": 4, \"71\": 1, \"5\": 1, \"124\": 2, \"30\": 2, \"41\": 1, \"91\": 1, \"0\": 1, \"3\": 1, \"39\": 1, \"128\": 1}, \"97\": {\"101\": 2, \"15\": 1, \"97\": 11, \"98\": 1, \"0\": 1, \"127\": 4}, \"76\": {\"76\": 10, \"83\": 1, \"45\": 1, \"64\": 1, \"52\": 1, \"62\": 1, \"60\": 1}, \"29\": {\"29\": 23, \"49\": 1, \"4\": 2, \"77\": 1, \"111\": 1, \"12\": 1, \"3\": 1, \"7\": 2}, \"61\": {\"38\": 2, \"61\": 14, \"123\": 1, \"127\": 1, \"3\": 2}, \"125\": {\"125\": 115, \"27\": 4, \"106\": 7, \"109\": 1, \"36\": 12, \"24\": 1, \"59\": 1, \"9\": 1, \"15\": 5, \"94\": 1}, \"126\": {\"63\": 2, \"90\": 5, \"126\": 40, \"83\": 2, \"23\": 2, \"78\": 1, \"96\": 3, \"33\": 6, \"84\": 9, \"21\": 1, \"88\": 7, \"109\": 4, \"87\": 6, \"40\": 3, \"16\": 3, \"70\": 5, \"1\": 5, \"44\": 2, \"60\": 1, \"93\": 2, \"66\": 1, \"37\": 1, \"28\": 1, \"105\": 1, \"73\": 1, \"14\": 1, \"118\": 2, \"102\": 2, \"3\": 1}, \"55\": {\"55\": 16}, \"0\": {\"97\": 3, \"29\": 2, \"119\": 1, \"79\": 2, \"0\": 58, \"101\": 7, \"71\": 1, \"122\": 2, \"24\": 1, \"111\": 7, \"30\": 7, \"127\": 7, \"15\": 1, \"4\": 2, \"7\": 2, \"68\": 1, \"96\": 1, \"58\": 1, \"21\": 1, \"18\": 1}, \"15\": {\"25\": 1, \"15\": 58, \"125\": 6, \"103\": 1, \"77\": 1, \"59\": 1, \"16\": 1, \"106\": 9, \"98\": 2, \"41\": 1, \"6\": 1, \"27\": 2, \"94\": 3, \"44\": 1, \"0\": 2, \"36\": 6, \"39\": 1, \"4\": 1, \"111\": 6, \"24\": 3, \"30\": 4, \"68\": 1, \"97\": 1, \"58\": 1, \"101\": 6}, \"26\": {\"39\": 3, \"26\": 108, \"87\": 2, \"2\": 3, \"117\": 11, \"93\": 3, \"18\": 2, \"109\": 2, \"90\": 1, \"65\": 1, \"113\": 1, \"126\": 1}, \"63\": {\"63\": 20}, \"57\": {\"57\": 18, \"48\": 2}, \"39\": {\"90\": 3, \"63\": 3, \"39\": 40, \"96\": 1, \"13\": 1, \"88\": 6, \"93\": 8, \"21\": 1, \"26\": 9, \"109\": 3, \"69\": 12, \"87\": 2, \"62\": 2, \"70\": 4, \"18\": 5, \"43\": 2, \"16\": 3, \"113\": 1, \"65\": 1, \"72\": 1, \"2\": 1, \"44\": 1, \"102\": 2}, \"62\": {\"62\": 107, \"55\": 4, \"110\": 1, \"88\": 1, \"44\": 2, \"43\": 4, \"40\": 2, \"70\": 3, \"102\": 1, \"84\": 1, \"105\": 1, \"69\": 1, \"123\": 1, \"20\": 1, \"19\": 1, \"100\": 1, \"14\": 4, \"10\": 1, \"26\": 1, \"122\": 1, \"90\": 1}, \"82\": {\"82\": 28, \"16\": 1, \"38\": 1, \"102\": 1, \"78\": 1, \"2\": 1, \"60\": 1, \"116\": 1, \"113\": 1}, \"11\": {\"11\": 28, \"49\": 2, \"128\": 2, \"126\": 1, \"129\": 1, \"114\": 1, \"108\": 4, \"122\": 2, \"95\": 2, \"41\": 2, \"12\": 3, \"23\": 1, \"30\": 1, \"127\": 4, \"24\": 1, \"4\": 7, \"101\": 1, \"8\": 3, \"34\": 1, \"0\": 1, \"59\": 1, \"17\": 1, \"3\": 2, \"29\": 2, \"19\": 1, \"110\": 1, \"43\": 1, \"84\": 1, \"69\": 1, \"7\": 1}, \"4\": {\"4\": 61, \"129\": 1, \"71\": 5, \"122\": 2, \"11\": 1, \"5\": 3, \"107\": 1, \"3\": 4, \"7\": 6, \"87\": 1, \"34\": 1, \"8\": 2}, \"41\": {\"54\": 1, \"41\": 12, \"103\": 2, \"98\": 1, \"34\": 1, \"59\": 1, \"91\": 1, \"56\": 1}, \"72\": {\"72\": 17, \"16\": 2, \"83\": 1, \"99\": 2, \"14\": 1, \"69\": 2, \"117\": 2, \"102\": 1}, \"16\": {\"82\": 4, \"16\": 76, \"69\": 16, \"93\": 7, \"102\": 7, \"87\": 1, \"88\": 1, \"126\": 2, \"39\": 2, \"90\": 3, \"67\": 1, \"26\": 1, \"72\": 2, \"118\": 1}, \"81\": {\"81\": 20, \"113\": 1, \"0\": 1, \"54\": 1, \"16\": 1}, \"67\": {\"67\": 9, \"78\": 1, \"84\": 1, \"118\": 1, \"33\": 2, \"42\": 2}, \"123\": {\"123\": 14, \"28\": 1, \"38\": 1}, \"66\": {\"22\": 1, \"66\": 13, \"46\": 1, \"60\": 2, \"14\": 2, \"29\": 1}, \"36\": {\"36\": 59, \"1\": 1, \"51\": 1, \"52\": 1, \"9\": 2, \"15\": 11, \"125\": 12, \"127\": 1, \"44\": 1, \"113\": 1, \"24\": 9, \"111\": 4, \"27\": 1, \"106\": 6, \"6\": 3, \"94\": 4, \"121\": 2, \"98\": 2, \"30\": 2, \"75\": 1, \"117\": 1, \"18\": 1, \"126\": 1, \"88\": 1}, \"115\": {\"115\": 6, \"5\": 1, \"108\": 1, \"95\": 2, \"8\": 1, \"82\": 1}, \"77\": {\"77\": 6, \"101\": 1, \"71\": 1, \"91\": 1, \"29\": 2, \"103\": 2, \"68\": 1, \"0\": 2}, \"119\": {\"119\": 17, \"44\": 1, \"90\": 2}, \"65\": {\"26\": 2, \"65\": 17, \"126\": 1}, \"34\": {\"55\": 1, \"42\": 1, \"34\": 9, \"91\": 1, \"15\": 1, \"41\": 1, \"12\": 4, \"114\": 1, \"94\": 1, \"107\": 3, \"106\": 1, \"8\": 1, \"29\": 1, \"54\": 1, \"86\": 1, \"122\": 1, \"73\": 1, \"98\": 1, \"30\": 1}, \"107\": {\"42\": 2, \"107\": 42, \"65\": 1, \"8\": 1, \"71\": 2, \"93\": 1, \"5\": 4, \"40\": 3, \"4\": 1, \"122\": 2, \"32\": 1, \"17\": 1, \"113\": 1, \"108\": 1, \"111\": 1}, \"13\": {\"13\": 8, \"2\": 4, \"72\": 2, \"81\": 1, \"118\": 1}, \"110\": {\"25\": 1, \"110\": 11, \"105\": 4, \"86\": 2, \"107\": 2, \"0\": 1, \"21\": 1, \"3\": 4, \"5\": 2, \"19\": 1, \"122\": 2, \"4\": 3, \"104\": 1, \"129\": 1, \"120\": 1, \"10\": 2, \"30\": 1}, \"106\": {\"106\": 85, \"25\": 1, \"15\": 6, \"24\": 4, \"101\": 2, \"27\": 1, \"6\": 1, \"36\": 3, \"125\": 4, \"30\": 1, \"18\": 1, \"98\": 1, \"51\": 2, \"108\": 1, \"111\": 3, \"39\": 1, \"26\": 1}, \"89\": {\"89\": 25, \"33\": 1, \"69\": 1, \"99\": 2, \"93\": 1, \"118\": 1, \"96\": 1, \"16\": 1, \"81\": 1, \"70\": 1, \"82\": 1}, \"94\": {\"98\": 3, \"51\": 2, \"29\": 1, \"69\": 2, \"94\": 20, \"58\": 1, \"87\": 1, \"9\": 1, \"36\": 4, \"27\": 1, \"111\": 2, \"109\": 1, \"125\": 5, \"101\": 3, \"108\": 1, \"16\": 1, \"24\": 4, \"88\": 2, \"100\": 1, \"81\": 1, \"15\": 4, \"106\": 1, \"127\": 1, \"12\": 1}, \"98\": {\"98\": 83, \"94\": 1, \"115\": 1, \"83\": 2, \"121\": 1, \"111\": 4, \"108\": 3, \"30\": 3, \"125\": 1, \"114\": 5, \"90\": 1, \"93\": 1, \"21\": 1, \"49\": 1, \"126\": 1, \"127\": 1, \"24\": 2}, \"91\": {\"91\": 16, \"103\": 1, \"105\": 1, \"98\": 1, \"30\": 2, \"128\": 1, \"59\": 1, \"111\": 1, \"41\": 1, \"68\": 1, \"17\": 1, \"54\": 1}, \"84\": {\"84\": 56, \"118\": 2, \"90\": 2, \"33\": 10, \"70\": 1, \"1\": 9, \"126\": 2, \"40\": 2, \"88\": 2, \"44\": 1, \"78\": 1, \"122\": 2, \"87\": 2}, \"73\": {\"9\": 1, \"73\": 24, \"107\": 1, \"126\": 1, \"95\": 1}, \"104\": {\"104\": 12, \"86\": 1, \"16\": 1, \"105\": 1, \"122\": 1, \"118\": 1, \"113\": 1, \"37\": 1, \"129\": 1}, \"59\": {\"91\": 1, \"59\": 4, \"30\": 1, \"68\": 1, \"11\": 2, \"128\": 3, \"115\": 2, \"0\": 2}, \"74\": {\"74\": 16}, \"28\": {\"28\": 18, \"116\": 1, \"42\": 1}, \"95\": {\"4\": 2, \"119\": 1, \"95\": 24, \"12\": 1, \"5\": 3, \"122\": 1, \"40\": 2, \"71\": 1, \"36\": 1}, \"2\": {\"2\": 26, \"72\": 2, \"26\": 2, \"113\": 1, \"117\": 1}, \"5\": {\"115\": 2, \"5\": 91, \"105\": 2, \"11\": 1, \"114\": 3, \"113\": 1, \"107\": 3, \"4\": 1, \"40\": 1, \"3\": 2, \"7\": 1, \"8\": 1, \"122\": 1, \"88\": 1, \"39\": 1}, \"50\": {\"50\": 13, \"69\": 1, \"62\": 1, \"14\": 1}, \"109\": {\"87\": 6, \"70\": 9, \"109\": 48, \"6\": 1, \"21\": 7, \"88\": 11, \"93\": 7, \"18\": 1, \"16\": 1, \"90\": 5, \"118\": 2, \"33\": 1, \"102\": 1}, \"10\": {\"10\": 42, \"77\": 1, \"107\": 1, \"23\": 1, \"7\": 2, \"113\": 1, \"62\": 2, \"70\": 1, \"59\": 2, \"93\": 1, \"74\": 1, \"61\": 1, \"88\": 1, \"43\": 1, \"105\": 2}, \"45\": {\"45\": 13, \"55\": 1, \"22\": 1, \"119\": 1}, \"121\": {\"65\": 2, \"121\": 9, \"90\": 4, \"109\": 4, \"21\": 1, \"93\": 1, \"18\": 6, \"16\": 4, \"120\": 1, \"118\": 1, \"99\": 2, \"72\": 1}, \"124\": {\"85\": 1, \"124\": 85, \"86\": 1, \"5\": 3, \"30\": 2, \"114\": 2, \"15\": 1, \"51\": 1, \"95\": 1, \"11\": 2, \"71\": 2, \"72\": 1, \"108\": 5, \"4\": 1, \"12\": 1, \"40\": 1}, \"53\": {\"124\": 1, \"53\": 10, \"110\": 2, \"88\": 1, \"125\": 1, \"61\": 1}, \"79\": {\"79\": 16}, \"43\": {\"43\": 39, \"60\": 1, \"70\": 10, \"87\": 2, \"62\": 9, \"1\": 5, \"92\": 2, \"40\": 11, \"78\": 1, \"110\": 2, \"107\": 1, \"17\": 1, \"126\": 2, \"10\": 2, \"109\": 3, \"84\": 1, \"105\": 5, \"122\": 3, \"5\": 2, \"115\": 1, \"19\": 1, \"32\": 1, \"88\": 2, \"24\": 1, \"33\": 1, \"18\": 1, \"15\": 1, \"3\": 1, \"16\": 1, \"69\": 1}, \"122\": {\"42\": 1, \"122\": 51, \"4\": 5, \"107\": 4, \"95\": 1, \"120\": 1, \"43\": 5, \"32\": 1, \"124\": 2, \"110\": 2, \"127\": 2, \"19\": 1, \"11\": 3, \"21\": 1, \"17\": 1, \"71\": 5, \"10\": 1, \"105\": 8, \"5\": 6, \"40\": 3, \"3\": 7, \"18\": 1, \"30\": 1, \"39\": 1, \"62\": 6, \"8\": 7, \"7\": 3, \"15\": 2, \"123\": 1, \"12\": 2, \"88\": 1, \"108\": 1, \"111\": 1}, \"100\": {\"100\": 13, \"45\": 1, \"118\": 1, \"117\": 1}, \"19\": {\"122\": 2, \"19\": 19, \"78\": 2, \"126\": 1, \"22\": 1, \"1\": 1, \"71\": 1, \"105\": 1}, \"12\": {\"110\": 2, \"111\": 11, \"95\": 1, \"30\": 1, \"7\": 3, \"12\": 40, \"127\": 8, \"98\": 4, \"75\": 2, \"108\": 3, \"11\": 1, \"122\": 2, \"88\": 1, \"0\": 2, \"114\": 2, \"109\": 1, \"5\": 1, \"124\": 1, \"26\": 1, \"90\": 1}, \"17\": {\"17\": 8, \"110\": 3, \"4\": 2, \"20\": 1, \"107\": 2}}, \"Wisig_3\": {\"38\": {\"38\": 15, \"107\": 1}, \"88\": {\"3\": 1, \"38\": 1, \"107\": 6, \"92\": 3, \"88\": 23, \"9\": 1, \"94\": 1, \"21\": 7, \"70\": 4, \"1\": 1, \"102\": 1, \"39\": 2, \"86\": 1, \"126\": 3, \"109\": 1, \"14\": 1, \"124\": 2, \"108\": 3, \"40\": 6, \"44\": 2, \"122\": 3, \"33\": 2, \"84\": 4, \"114\": 5, \"87\": 5, \"12\": 2, \"110\": 5, \"105\": 1, \"113\": 2, \"48\": 1, \"82\": 1, \"28\": 1, \"10\": 1, \"4\": 2, \"0\": 1, \"43\": 1, \"128\": 1, \"11\": 1, \"93\": 1, \"5\": 1, \"117\": 1}, \"104\": {\"104\": 16}, \"11\": {\"109\": 10, \"16\": 12, \"120\": 2, \"92\": 3, \"43\": 1, \"116\": 1, \"11\": 50, \"93\": 5, \"102\": 14, \"88\": 4, \"128\": 1, \"62\": 3, \"69\": 3, \"26\": 1, \"126\": 2, \"107\": 1, \"33\": 10, \"117\": 2, \"90\": 6, \"80\": 1, \"39\": 1, \"118\": 4, \"44\": 2, \"84\": 1}, \"103\": {\"3\": 1, \"103\": 10, \"28\": 1, \"34\": 1, \"5\": 1, \"52\": 2}, \"124\": {\"124\": 80, \"85\": 1, \"47\": 1, \"56\": 1, \"71\": 1, \"12\": 2, \"24\": 2, \"98\": 3, \"4\": 4, \"8\": 1, \"111\": 5, \"5\": 3, \"127\": 3, \"34\": 2, \"108\": 3, \"70\": 1, \"3\": 2, \"88\": 1}, \"3\": {\"124\": 2, \"3\": 71, \"128\": 1, \"43\": 1, \"7\": 7, \"5\": 8, \"127\": 11, \"11\": 1, \"4\": 7, \"27\": 1, \"108\": 1, \"101\": 1, \"71\": 1, \"93\": 1, \"105\": 1, \"8\": 1}, \"74\": {\"74\": 13, \"109\": 2, \"25\": 1}, \"126\": {\"126\": 51, \"109\": 7, \"64\": 1, \"96\": 2, \"113\": 6, \"118\": 3, \"81\": 1, \"117\": 14, \"93\": 6, \"18\": 6, \"26\": 5, \"88\": 2, \"16\": 1, \"39\": 6, \"62\": 1, \"90\": 2, \"33\": 1, \"121\": 1, \"21\": 1, \"43\": 1, \"87\": 2, \"102\": 2}, \"123\": {\"123\": 15, \"61\": 1}, \"51\": {\"51\": 10, \"124\": 1, \"6\": 1, \"58\": 1, \"95\": 1, \"77\": 1, \"30\": 1}, \"14\": {\"14\": 65, \"84\": 1, \"62\": 7, \"87\": 3, \"28\": 1, \"80\": 1, \"90\": 1, \"1\": 1}, \"16\": {\"16\": 71, \"11\": 9, \"31\": 2, \"33\": 6, \"93\": 4, \"109\": 3, \"90\": 1, \"102\": 7, \"118\": 3, \"69\": 3, \"87\": 1, \"113\": 2, \"43\": 1, \"70\": 1, \"44\": 1, \"88\": 1}, \"22\": {\"14\": 1, \"22\": 15}, \"109\": {\"74\": 2, \"109\": 50, \"120\": 2, \"43\": 3, \"13\": 2, \"62\": 3, \"118\": 5, \"11\": 3, \"88\": 4, \"92\": 2, \"33\": 5, \"69\": 5, \"102\": 3, \"16\": 9, \"93\": 14, \"113\": 3, \"126\": 1, \"50\": 1, \"96\": 1, \"21\": 2, \"84\": 1, \"90\": 1}, \"27\": {\"124\": 3, \"27\": 37, \"94\": 2, \"72\": 1, \"56\": 1, \"73\": 4, \"106\": 9, \"15\": 8, \"0\": 2, \"125\": 4, \"98\": 4, \"5\": 1, \"12\": 4, \"114\": 1, \"36\": 1, \"54\": 1, \"101\": 1, \"111\": 2, \"9\": 1, \"108\": 3, \"30\": 1, \"85\": 1, \"24\": 1, \"113\": 1, \"127\": 2}, \"75\": {\"75\": 15, \"24\": 1}, \"66\": {\"50\": 1, \"23\": 1, \"66\": 11, \"19\": 1, \"70\": 1, \"41\": 1}, \"48\": {\"53\": 1, \"55\": 1, \"86\": 2, \"127\": 2, \"48\": 1, \"20\": 1, \"68\": 2, \"49\": 1, \"18\": 1, \"96\": 2, \"65\": 2}, \"6\": {\"6\": 24, \"25\": 2, \"15\": 2, \"59\": 1, \"97\": 1, \"36\": 1, \"73\": 1}, \"10\": {\"55\": 1, \"10\": 90, \"95\": 3, \"34\": 1, \"30\": 1, \"0\": 3, \"110\": 2, \"8\": 1, \"108\": 1, \"7\": 1, \"4\": 1, \"16\": 1, \"127\": 1, \"50\": 1, \"101\": 1, \"118\": 1, \"105\": 2}, \"99\": {\"99\": 33, \"54\": 1, \"5\": 2}, \"50\": {\"50\": 14, \"84\": 2}, \"54\": {\"54\": 15, \"75\": 1}, \"55\": {\"55\": 14, \"5\": 1, \"128\": 1}, \"53\": {\"53\": 16, \"107\": 1, \"87\": 1, \"20\": 2}, \"72\": {\"72\": 18, \"111\": 2, \"106\": 2, \"124\": 1, \"15\": 1, \"112\": 1, \"83\": 2, \"52\": 1}, \"64\": {\"64\": 19, \"120\": 1}, \"115\": {\"126\": 1, \"115\": 9, \"38\": 1, \"19\": 2, \"87\": 2, \"14\": 1}, \"23\": {\"126\": 2, \"23\": 6, \"121\": 3, \"46\": 1, \"63\": 1, \"26\": 1, \"2\": 1, \"89\": 1, \"93\": 1, \"70\": 1, \"105\": 1, \"39\": 2, \"8\": 2, \"48\": 1, \"87\": 1, \"42\": 1, \"95\": 1, \"15\": 2, \"86\": 1, \"118\": 1, \"9\": 1}, \"32\": {\"23\": 1, \"57\": 1, \"128\": 2, \"32\": 4, \"102\": 3, \"69\": 2, \"9\": 1, \"34\": 1, \"115\": 1, \"82\": 3, \"70\": 2, \"76\": 1, \"78\": 1, \"50\": 2, \"20\": 1, \"22\": 1, \"33\": 2, \"11\": 2, \"101\": 1}, \"15\": {\"15\": 55, \"94\": 5, \"95\": 1, \"6\": 3, \"12\": 5, \"92\": 1, \"106\": 6, \"101\": 1, \"125\": 2, \"27\": 5, \"0\": 1, \"111\": 5, \"8\": 1, \"113\": 1, \"36\": 3, \"64\": 1, \"77\": 1, \"58\": 1, \"97\": 2, \"24\": 3, \"127\": 1}, \"43\": {\"64\": 1, \"13\": 1, \"69\": 3, \"93\": 3, \"102\": 3, \"43\": 16, \"16\": 2, \"62\": 1, \"116\": 2, \"21\": 4, \"109\": 4, \"110\": 1, \"118\": 4, \"33\": 1, \"92\": 2, \"80\": 1, \"120\": 2, \"11\": 2, \"39\": 2, \"26\": 1}, \"114\": {\"114\": 102, \"104\": 1, \"1\": 2, \"46\": 1, \"122\": 1, \"18\": 1, \"4\": 2, \"126\": 1, \"30\": 1, \"40\": 3, \"5\": 4, \"23\": 1, \"107\": 1, \"3\": 1, \"88\": 1, \"110\": 1}, \"121\": {\"64\": 2, \"121\": 15, \"93\": 1, \"89\": 1, \"43\": 1, \"39\": 2, \"18\": 1, \"81\": 1, \"117\": 1, \"126\": 1, \"21\": 1, \"92\": 1, \"80\": 1, \"123\": 1, \"96\": 2}, \"79\": {\"79\": 12}, \"81\": {\"81\": 32}, \"8\": {\"8\": 56, \"86\": 1, \"112\": 1, \"98\": 8, \"108\": 4, \"19\": 1, \"127\": 6, \"73\": 1, \"71\": 1, \"111\": 4, \"105\": 1, \"4\": 6, \"0\": 2, \"124\": 10, \"3\": 4, \"12\": 5, \"7\": 5, \"114\": 1, \"68\": 2, \"72\": 1, \"78\": 1, \"15\": 1, \"94\": 1, \"36\": 1, \"24\": 1, \"10\": 2, \"30\": 1}, \"13\": {\"81\": 1, \"43\": 1, \"96\": 2, \"120\": 1, \"18\": 1, \"109\": 2, \"116\": 1, \"90\": 1, \"13\": 1, \"69\": 1, \"118\": 1, \"61\": 1, \"113\": 2}, \"90\": {\"32\": 1, \"90\": 108, \"33\": 1, \"116\": 1, \"84\": 9, \"60\": 1, \"87\": 4, \"14\": 3, \"62\": 6, \"107\": 9, \"11\": 2, \"28\": 1, \"88\": 1, \"129\": 1, \"43\": 1, \"44\": 2, \"29\": 2, \"40\": 2, \"16\": 1}, \"41\": {\"43\": 1, \"41\": 12, \"19\": 1, \"42\": 2}, \"107\": {\"107\": 106, \"90\": 1, \"88\": 1, \"100\": 2, \"14\": 1, \"40\": 15, \"5\": 1, \"87\": 4, \"38\": 1, \"44\": 2, \"84\": 2}, \"57\": {\"57\": 20}, \"33\": {\"33\": 107, \"69\": 5, \"93\": 3, \"44\": 1, \"16\": 1, \"11\": 1, \"102\": 2}, \"35\": {\"86\": 1, \"35\": 9, \"0\": 1, \"55\": 1}, \"29\": {\"29\": 19, \"33\": 2, \"84\": 1, \"62\": 1, \"44\": 2, \"107\": 2, \"113\": 1, \"40\": 1, \"90\": 3}, \"70\": {\"42\": 1, \"93\": 1, \"50\": 1, \"14\": 1, \"40\": 1, \"86\": 4, \"110\": 2, \"120\": 1, \"4\": 6, \"39\": 1, \"70\": 14, \"30\": 1, \"21\": 2, \"105\": 4, \"98\": 3, \"128\": 1, \"3\": 2, \"71\": 2, \"88\": 3, \"8\": 2, \"108\": 2, \"127\": 3, \"78\": 1, \"55\": 1, \"19\": 2, \"60\": 1, \"5\": 4, \"113\": 1, \"87\": 1, \"126\": 1, \"124\": 2}, \"42\": {\"33\": 1, \"42\": 10, \"83\": 1, \"71\": 1, \"15\": 2, \"99\": 1, \"97\": 1, \"72\": 1, \"19\": 1, \"94\": 3, \"73\": 2, \"117\": 1, \"124\": 2, \"91\": 1}, \"93\": {\"33\": 5, \"93\": 88, \"28\": 1, \"88\": 6, \"16\": 5, \"21\": 1, \"92\": 2, \"128\": 1, \"109\": 8, \"118\": 2, \"87\": 1, \"126\": 1, \"11\": 2, \"110\": 1, \"62\": 1, \"102\": 1}, \"86\": {\"86\": 21, \"7\": 2, \"68\": 1, \"30\": 1, \"70\": 1, \"23\": 1, \"3\": 1}, \"28\": {\"28\": 15, \"122\": 1}, \"1\": {\"1\": 76, \"129\": 4, \"108\": 1, \"5\": 1, \"114\": 4, \"4\": 1, \"40\": 5, \"105\": 3, \"102\": 1, \"127\": 2, \"71\": 1, \"19\": 1, \"101\": 1, \"88\": 2, \"110\": 2, \"87\": 1, \"126\": 1, \"7\": 1}, \"125\": {\"125\": 103, \"36\": 5, \"44\": 1, \"106\": 4, \"94\": 2, \"25\": 1, \"75\": 2, \"27\": 4, \"11\": 1, \"98\": 1}, \"69\": {\"69\": 67, \"33\": 2, \"82\": 3, \"21\": 1, \"113\": 1, \"102\": 4, \"118\": 1, \"11\": 2, \"16\": 2, \"39\": 1}, \"97\": {\"97\": 16, \"106\": 2, \"0\": 2}, \"117\": {\"113\": 7, \"117\": 96, \"39\": 5, \"126\": 1, \"2\": 3}, \"68\": {\"68\": 14, \"12\": 2}, \"30\": {\"68\": 1, \"30\": 25, \"58\": 1, \"3\": 1, \"12\": 4, \"101\": 2, \"59\": 1, \"95\": 1, \"111\": 7, \"7\": 5, \"36\": 4, \"71\": 1, \"8\": 3, \"0\": 7, \"108\": 1, \"10\": 1, \"98\": 2, \"124\": 1, \"15\": 4, \"39\": 1, \"97\": 2, \"37\": 2, \"91\": 1, \"109\": 1, \"24\": 1, \"106\": 2, \"127\": 1, \"126\": 1}, \"111\": {\"68\": 1, \"111\": 113, \"59\": 1, \"0\": 1, \"30\": 2, \"101\": 1, \"73\": 2, \"12\": 5, \"15\": 1, \"72\": 1, \"51\": 1, \"6\": 1, \"24\": 2}, \"47\": {\"111\": 1, \"47\": 10, \"58\": 1}, \"102\": {\"102\": 106, \"11\": 3, \"69\": 7, \"118\": 1, \"16\": 2, \"89\": 1, \"43\": 1, \"33\": 3}, \"65\": {\"65\": 10, \"10\": 1, \"77\": 1}, \"113\": {\"113\": 62, \"81\": 1, \"39\": 8, \"116\": 1, \"118\": 10, \"2\": 4, \"21\": 1, \"106\": 1, \"117\": 8, \"26\": 7, \"93\": 4, \"109\": 3, \"126\": 2, \"84\": 1, \"80\": 1, \"73\": 1, \"18\": 1, \"11\": 2, \"62\": 1, \"33\": 1}, \"36\": {\"68\": 1, \"36\": 47, \"106\": 3, \"94\": 11, \"95\": 1, \"30\": 3, \"6\": 1, \"15\": 6, \"12\": 8, \"73\": 3, \"127\": 1, \"111\": 6, \"3\": 1, \"7\": 2, \"125\": 4, \"27\": 7, \"8\": 1, \"54\": 2, \"97\": 1, \"0\": 3, \"93\": 1, \"98\": 1}, \"119\": {\"102\": 1, \"119\": 11, \"63\": 2, \"18\": 2}, \"46\": {\"46\": 15, \"110\": 1}, \"49\": {\"23\": 2, \"90\": 1, \"101\": 1, \"93\": 2, \"12\": 1, \"91\": 1, \"7\": 1, \"49\": 2, \"95\": 2, \"125\": 2, \"87\": 2, \"51\": 1, \"80\": 1, \"58\": 1, \"14\": 1, \"109\": 1, \"107\": 1, \"1\": 1}, \"0\": {\"72\": 1, \"0\": 62, \"83\": 4, \"68\": 1, \"73\": 4, \"37\": 1, \"101\": 2, \"95\": 2, \"111\": 3, \"30\": 7, \"127\": 3, \"7\": 4, \"8\": 4, \"36\": 2, \"113\": 1, \"3\": 1, \"35\": 2, \"65\": 1, \"15\": 4, \"12\": 4, \"19\": 1, \"86\": 1, \"71\": 1}, \"58\": {\"0\": 1, \"58\": 14, \"15\": 1}, \"63\": {\"63\": 11, \"119\": 1, \"18\": 2, \"61\": 2}, \"94\": {\"72\": 3, \"94\": 62, \"59\": 1, \"36\": 5, \"106\": 3, \"122\": 1, \"27\": 1, \"15\": 4, \"125\": 3, \"111\": 1}, \"17\": {\"49\": 1, \"17\": 3, \"39\": 1, \"81\": 1, \"120\": 1, \"113\": 1, \"127\": 1, \"101\": 1, \"89\": 1, \"116\": 1, \"126\": 2, \"86\": 1, \"121\": 1}, \"9\": {\"105\": 7, \"9\": 19, \"128\": 1, \"110\": 2, \"3\": 1, \"84\": 1, \"86\": 1}, \"87\": {\"87\": 47, \"80\": 2, \"71\": 1, \"122\": 3, \"100\": 2, \"114\": 4, \"40\": 3, \"32\": 1, \"88\": 4, \"14\": 5, \"1\": 6, \"107\": 8, \"60\": 1, \"84\": 9, \"90\": 6, \"33\": 2, \"62\": 4, \"108\": 1, \"109\": 2, \"10\": 1, \"118\": 1, \"115\": 2, \"23\": 1, \"22\": 1, \"129\": 1, \"9\": 1, \"44\": 1}, \"59\": {\"59\": 10, \"73\": 1, \"0\": 1}, \"105\": {\"105\": 89, \"114\": 4, \"3\": 4, \"4\": 7, \"5\": 8, \"108\": 2, \"8\": 1, \"23\": 1, \"101\": 2, \"122\": 1, \"7\": 1}, \"80\": {\"80\": 8, \"33\": 1, \"102\": 1, \"16\": 1, \"31\": 2, \"116\": 1, \"11\": 2}, \"120\": {\"78\": 2, \"120\": 15, \"118\": 1, \"92\": 1, \"57\": 1}, \"18\": {\"81\": 2, \"18\": 123, \"121\": 1, \"126\": 3, \"117\": 1, \"43\": 1, \"88\": 1}, \"78\": {\"78\": 5, \"109\": 1, \"4\": 1, \"21\": 1, \"28\": 1, \"68\": 1, \"42\": 1, \"17\": 1, \"32\": 1, \"66\": 1, \"96\": 1, \"90\": 1}, \"25\": {\"25\": 15, \"75\": 1}, \"19\": {\"19\": 13, \"72\": 1, \"5\": 1, \"7\": 1, \"56\": 3, \"50\": 2, \"0\": 1, \"8\": 2, \"14\": 1, \"42\": 1, \"124\": 1, \"110\": 1, \"1\": 2, \"71\": 1, \"86\": 1}, \"122\": {\"19\": 1, \"104\": 1, \"17\": 1, \"57\": 1, \"122\": 25, \"40\": 3, \"107\": 1, \"29\": 1, \"92\": 1, \"110\": 2, \"10\": 2, \"1\": 4, \"114\": 1, \"129\": 2, \"30\": 1, \"88\": 3, \"87\": 1, \"50\": 1, \"74\": 1, \"21\": 1, \"108\": 1, \"113\": 2, \"128\": 1, \"105\": 2}, \"39\": {\"120\": 1, \"39\": 28, \"81\": 2, \"122\": 3, \"80\": 1, \"113\": 14, \"17\": 1, \"121\": 1, \"33\": 2, \"21\": 1, \"70\": 1, \"26\": 5, \"118\": 4, \"126\": 6, \"16\": 1, \"93\": 6, \"117\": 8, \"109\": 7, \"88\": 7, \"18\": 2, \"62\": 2, \"43\": 3, \"11\": 2}, \"76\": {\"76\": 14, \"90\": 1, \"120\": 1}, \"89\": {\"89\": 25, \"67\": 1, \"11\": 1, \"118\": 1}, \"129\": {\"129\": 6, \"19\": 1, \"14\": 3, \"107\": 3, \"127\": 1, \"5\": 2, \"88\": 1, \"114\": 2, \"70\": 2, \"105\": 3, \"87\": 3, \"90\": 1, \"104\": 1, \"110\": 1, \"9\": 1, \"1\": 1}, \"26\": {\"80\": 1, \"26\": 80, \"81\": 1, \"117\": 6, \"102\": 1, \"113\": 4, \"126\": 1, \"109\": 1, \"50\": 1, \"70\": 1, \"118\": 3}, \"85\": {\"85\": 31, \"24\": 1, \"46\": 1, \"114\": 1, \"36\": 1, \"124\": 1}, \"71\": {\"71\": 51, \"124\": 4, \"129\": 1, \"114\": 3, \"118\": 1, \"7\": 2, \"108\": 2, \"3\": 1, \"113\": 1, \"5\": 2}, \"77\": {\"77\": 13, \"35\": 1, \"48\": 1, \"8\": 1}, \"128\": {\"128\": 18, \"10\": 1, \"7\": 2, \"23\": 2, \"32\": 1, \"122\": 1, \"86\": 4, \"105\": 1, \"4\": 1, \"3\": 1}, \"2\": {\"2\": 20, \"26\": 3, \"18\": 1, \"117\": 3, \"118\": 1}, \"56\": {\"56\": 7, \"129\": 1, \"124\": 1, \"86\": 1, \"78\": 1, \"99\": 1}, \"24\": {\"54\": 2, \"75\": 2, \"7\": 3, \"24\": 11, \"58\": 1, \"108\": 2, \"106\": 2, \"111\": 2, \"30\": 2, \"94\": 2, \"12\": 3, \"27\": 4, \"3\": 1, \"73\": 2, \"68\": 1, \"101\": 1, \"8\": 1, \"124\": 1, \"125\": 1, \"15\": 3, \"5\": 1}, \"101\": {\"29\": 1, \"101\": 29, \"58\": 3, \"2\": 1, \"0\": 5, \"12\": 3, \"91\": 1, \"10\": 1, \"3\": 1, \"117\": 1, \"97\": 1, \"30\": 2, \"111\": 1, \"24\": 1, \"127\": 1}, \"52\": {\"52\": 12, \"72\": 1, \"42\": 2, \"15\": 1}, \"84\": {\"50\": 1, \"84\": 67, \"31\": 1, \"129\": 2, \"107\": 11, \"100\": 1, \"14\": 4, \"90\": 5, \"44\": 2, \"117\": 1, \"62\": 3, \"115\": 2, \"40\": 1, \"122\": 1, \"110\": 1, \"109\": 1, \"87\": 3, \"88\": 1}, \"7\": {\"7\": 90, \"105\": 1, \"127\": 7, \"3\": 6, \"39\": 1, \"108\": 1, \"0\": 1, \"8\": 1, \"126\": 1, \"121\": 1, \"4\": 1, \"5\": 1}, \"82\": {\"69\": 1, \"82\": 20, \"118\": 2, \"102\": 2, \"33\": 2, \"70\": 1}, \"60\": {\"60\": 13, \"122\": 2, \"62\": 1, \"31\": 1, \"107\": 2, \"90\": 2, \"40\": 3, \"29\": 1, \"70\": 1, \"9\": 1, \"44\": 1}, \"45\": {\"64\": 1, \"45\": 12, \"118\": 1, \"87\": 1, \"117\": 1}, \"40\": {\"40\": 79, \"1\": 12, \"87\": 9, \"9\": 1, \"114\": 4, \"107\": 10, \"122\": 3, \"14\": 1, \"4\": 1, \"124\": 1, \"84\": 1, \"29\": 1, \"110\": 1}, \"20\": {\"20\": 15, \"53\": 1}, \"4\": {\"9\": 2, \"71\": 4, \"101\": 1, \"4\": 60, \"108\": 2, \"7\": 2, \"105\": 12, \"3\": 6, \"127\": 4, \"78\": 1, \"30\": 1, \"5\": 1}, \"116\": {\"64\": 2, \"90\": 1, \"116\": 11, \"45\": 1, \"92\": 3, \"93\": 2, \"17\": 3, \"119\": 3, \"53\": 1, \"14\": 1}, \"61\": {\"61\": 13, \"18\": 1, \"123\": 2}, \"5\": {\"5\": 91, \"19\": 1, \"105\": 7, \"3\": 3, \"71\": 2, \"114\": 1, \"127\": 2, \"34\": 1, \"118\": 1, \"108\": 2, \"126\": 1}, \"106\": {\"42\": 1, \"106\": 84, \"102\": 1, \"15\": 3, \"124\": 1, \"27\": 2, \"73\": 2, \"125\": 2, \"36\": 2, \"97\": 1, \"30\": 1}, \"12\": {\"12\": 73, \"8\": 7, \"108\": 1, \"127\": 1, \"30\": 3, \"111\": 11, \"0\": 3, \"52\": 1, \"34\": 1, \"24\": 1, \"3\": 1, \"98\": 1}, \"62\": {\"62\": 95, \"84\": 4, \"14\": 7, \"88\": 4, \"21\": 1, \"70\": 1, \"122\": 1, \"109\": 1, \"110\": 3, \"87\": 1, \"113\": 1, \"90\": 1}, \"34\": {\"28\": 1, \"27\": 1, \"19\": 1, \"106\": 2, \"122\": 4, \"107\": 1, \"88\": 1, \"6\": 2, \"34\": 2, \"110\": 1, \"14\": 2, \"1\": 2, \"125\": 1, \"73\": 5, \"62\": 1, \"50\": 1, \"36\": 1, \"99\": 1, \"129\": 2}, \"91\": {\"47\": 2, \"91\": 8, \"49\": 1, \"101\": 1, \"99\": 2, \"95\": 2, \"127\": 2, \"4\": 1, \"48\": 1, \"108\": 2, \"105\": 1, \"9\": 1}, \"112\": {\"112\": 8, \"3\": 1, \"92\": 1, \"8\": 1, \"68\": 1, \"56\": 2, \"47\": 1, \"52\": 1}, \"92\": {\"92\": 23, \"118\": 1, \"109\": 3, \"93\": 1, \"120\": 1, \"64\": 1, \"16\": 1, \"43\": 1}, \"95\": {\"35\": 1, \"95\": 31}, \"96\": {\"64\": 2, \"118\": 1, \"96\": 15, \"2\": 2}, \"127\": {\"127\": 79, \"126\": 2, \"4\": 5, \"7\": 8, \"109\": 1, \"3\": 2, \"5\": 3, \"72\": 1, \"86\": 1, \"34\": 1, \"95\": 1, \"71\": 1, \"91\": 1, \"113\": 1, \"8\": 1}, \"67\": {\"67\": 11, \"81\": 1, \"89\": 1, \"18\": 2, \"114\": 1}, \"83\": {\"83\": 8, \"12\": 2, \"42\": 1, \"86\": 1, \"98\": 1, \"51\": 1, \"111\": 1, \"37\": 1, \"30\": 2, \"97\": 1, \"0\": 1, \"106\": 1, \"24\": 2, \"85\": 1}, \"21\": {\"43\": 2, \"21\": 30, \"117\": 1, \"106\": 1, \"121\": 2, \"93\": 2, \"126\": 4, \"94\": 2, \"74\": 2, \"59\": 1, \"50\": 1}, \"98\": {\"83\": 1, \"98\": 93, \"125\": 4, \"15\": 1, \"12\": 4, \"124\": 7, \"24\": 2, \"111\": 5, \"8\": 1, \"44\": 1, \"114\": 2, \"106\": 2, \"27\": 1}, \"108\": {\"98\": 5, \"108\": 49, \"86\": 1, \"99\": 2, \"19\": 1, \"7\": 1, \"3\": 4, \"4\": 5, \"105\": 3, \"70\": 1, \"124\": 15, \"87\": 1, \"8\": 7, \"5\": 4, \"110\": 3, \"114\": 3, \"125\": 1, \"127\": 3, \"12\": 1, \"40\": 2, \"107\": 3, \"34\": 1, \"119\": 1, \"22\": 1, \"42\": 2, \"66\": 1, \"38\": 1, \"94\": 1, \"1\": 3, \"71\": 2, \"16\": 1, \"36\": 1, \"88\": 1, \"102\": 1}, \"31\": {\"31\": 13, \"16\": 1, \"20\": 1, \"11\": 1, \"82\": 1, \"33\": 1, \"28\": 1, \"40\": 1}, \"118\": {\"92\": 1, \"118\": 42, \"69\": 6, \"26\": 1, \"2\": 2, \"11\": 3, \"62\": 2, \"89\": 1, \"39\": 1, \"113\": 6, \"126\": 1, \"102\": 5, \"88\": 4, \"16\": 4, \"109\": 4, \"117\": 3, \"70\": 2, \"64\": 1, \"17\": 2, \"80\": 1, \"121\": 1, \"13\": 1, \"43\": 1, \"33\": 1, \"93\": 3, \"21\": 1}, \"110\": {\"110\": 40, \"128\": 1, \"114\": 4, \"129\": 2, \"4\": 2, \"70\": 2, \"105\": 9, \"109\": 1, \"71\": 2, \"9\": 2, \"122\": 3, \"40\": 6, \"1\": 2, \"90\": 1, \"62\": 1, \"5\": 1, \"87\": 2, \"19\": 1, \"46\": 1, \"104\": 1, \"88\": 4, \"107\": 1, \"8\": 2, \"7\": 1}, \"73\": {\"73\": 35, \"49\": 1, \"111\": 3, \"59\": 1}, \"44\": {\"1\": 3, \"44\": 50, \"43\": 1, \"29\": 2, \"107\": 4, \"14\": 1, \"40\": 2, \"84\": 2, \"87\": 1, \"117\": 1, \"90\": 1, \"26\": 1, \"118\": 1, \"16\": 1, \"114\": 1}, \"37\": {\"37\": 13, \"15\": 2, \"64\": 1}, \"100\": {\"87\": 1, \"100\": 13, \"32\": 2}}}, \"per_domain_accuracy\": {\"ORACLE.run126\": {\"accuracy\": 0.696875, \"source?\": true}, \"ORACLE.run144\": {\"accuracy\": 0.7791666666666667, \"source?\": true}, \"ORACLE.run150\": {\"accuracy\": 0.89296875, \"source?\": true}, \"ORACLE.run138\": {\"accuracy\": 0.9111979166666667, \"source?\": true}, \"ORACLE.run120\": {\"accuracy\": 0.821875, \"source?\": true}, \"ORACLE.run114\": {\"accuracy\": 0.8888020833333333, \"source?\": true}, \"ORACLE.run132\": {\"accuracy\": 0.8760416666666667, \"source?\": true}, \"ORACLE.run18\": {\"accuracy\": 0.8479166666666667, \"source?\": true}, \"Wisig_4\": {\"accuracy\": 0.5706018518518519, \"source?\": false}, \"Wisig_1\": {\"accuracy\": 0.634666313559322, \"source?\": false}, \"Wisig_2\": {\"accuracy\": 0.6117939330543933, \"source?\": false}, \"Wisig_3\": {\"accuracy\": 0.631004366812227, \"source?\": false}}}, \"history\": {\"epoch_indices\": [1, 2, 3, 4, 5, 6, 7], \"train_label_loss\": [0.7676461587393922, 0.7406607760415812, 0.44302708289081544, 0.36758631899914085, 0.32430232474615056, 0.29321146788106056, 0.2750259125495047], \"source_val_label_loss\": [8.656149864196777, 0.525822103023529, 0.4422517418861389, 0.33787792921066284, 0.32575470209121704, 0.3574952185153961, 0.3583695888519287], \"target_val_label_loss\": [957.6350708007812, 322.7881774902344, 385.8819885253906, 444.9404602050781, 501.4462585449219, 1276.3165283203125, 3937.310302734375], \"source_val_acc_label\": [0.7740234375, 0.8113606770833334, 0.83935546875, 0.8794921875, 0.884375, 0.8731770833333333, 0.8942708333333333], \"target_val_acc_label\": [0.4991090285110876, 0.5918360612460402, 0.6115694297782471, 0.6086655227032735, 0.5951029567053854, 0.5740496304118268, 0.4894403379091869]}, \"dataset_metrics\": {\"source\": {\"train\": {\"n_unique_x\": 179200, \"n_unique_y\": 16, \"n_batch/episode\": 6720}, \"val\": {\"n_unique_x\": 38400, \"n_unique_y\": 16, \"n_batch/episode\": 960}, \"test\": {\"n_unique_x\": 38400, \"n_unique_y\": 16, \"n_batch/episode\": 960}}, \"target\": {\"train\": {\"n_unique_x\": 189001, \"n_unique_y\": 130, \"n_batch/episode\": 6847}, \"val\": {\"n_unique_x\": 40070, \"n_unique_y\": 130, \"n_batch/episode\": 947}, \"test\": {\"n_unique_x\": 40812, \"n_unique_y\": 130, \"n_batch/episode\": 969}}}}'"
      ]
     },
     "execution_count": 29,
     "metadata": {},
     "output_type": "execute_result"
    }
   ],
   "source": [
    "json.dumps(experiment)"
   ]
  }
 ],
 "metadata": {
  "celltoolbar": "Tags",
  "kernelspec": {
   "display_name": "Python 3 (ipykernel)",
   "language": "python",
   "name": "python3"
  },
  "language_info": {
   "codemirror_mode": {
    "name": "ipython",
    "version": 3
   },
   "file_extension": ".py",
   "mimetype": "text/x-python",
   "name": "python",
   "nbconvert_exporter": "python",
   "pygments_lexer": "ipython3",
   "version": "3.8.12"
  },
  "papermill": {
   "default_parameters": {},
   "duration": 2176.011965,
   "end_time": "2022-03-21T16:15:49.840275",
   "environment_variables": {},
   "exception": null,
   "input_path": "/root/csc500-main/csc500-notebooks/templates/tl_ptn_template.ipynb",
   "output_path": "trial.ipynb",
   "parameters": {
    "parameters": {
     "BEST_MODEL_PATH": "./best_model.pth",
     "NUM_LOGS_PER_EPOCH": 10,
     "criteria_for_best": "target_accuracy",
     "dataset_seed": 7,
     "datasets": [
      {
       "domain_prefix": "Wisig_",
       "domains": [
        1,
        2,
        3,
        4
       ],
       "episode_transforms": [],
       "labels": [
        "1-10",
        "1-12",
        "1-14",
        "1-16",
        "1-18",
        "1-19",
        "1-8",
        "10-11",
        "10-17",
        "10-4",
        "10-7",
        "11-1",
        "11-10",
        "11-19",
        "11-20",
        "11-4",
        "11-7",
        "12-19",
        "12-20",
        "12-7",
        "13-14",
        "13-18",
        "13-19",
        "13-20",
        "13-3",
        "13-7",
        "14-10",
        "14-11",
        "14-12",
        "14-13",
        "14-14",
        "14-19",
        "14-20",
        "14-7",
        "14-8",
        "14-9",
        "15-1",
        "15-19",
        "15-6",
        "16-1",
        "16-16",
        "16-19",
        "16-20",
        "17-10",
        "17-11",
        "18-1",
        "18-10",
        "18-11",
        "18-12",
        "18-13",
        "18-14",
        "18-15",
        "18-16",
        "18-17",
        "18-19",
        "18-2",
        "18-20",
        "18-4",
        "18-5",
        "18-7",
        "18-8",
        "18-9",
        "19-1",
        "19-10",
        "19-11",
        "19-12",
        "19-13",
        "19-14",
        "19-15",
        "19-19",
        "19-2",
        "19-20",
        "19-3",
        "19-4",
        "19-6",
        "19-7",
        "19-8",
        "19-9",
        "2-1",
        "2-13",
        "2-15",
        "2-3",
        "2-4",
        "2-5",
        "2-6",
        "2-7",
        "2-8",
        "20-1",
        "20-12",
        "20-14",
        "20-15",
        "20-16",
        "20-18",
        "20-19",
        "20-20",
        "20-3",
        "20-4",
        "20-5",
        "20-7",
        "20-8",
        "3-1",
        "3-13",
        "3-18",
        "3-2",
        "3-8",
        "4-1",
        "4-10",
        "4-11",
        "5-1",
        "5-5",
        "6-1",
        "6-15",
        "6-6",
        "7-10",
        "7-11",
        "7-12",
        "7-13",
        "7-14",
        "7-7",
        "7-8",
        "7-9",
        "8-1",
        "8-13",
        "8-14",
        "8-18",
        "8-20",
        "8-3",
        "8-8",
        "9-1",
        "9-7"
       ],
       "num_examples_per_domain_per_label": -1,
       "pickle_path": "/root/csc500-main/datasets/wisig.node3-19.stratified_ds.2022A.pkl",
       "source_or_target_dataset": "target",
       "x_transforms": [
        "unit_mag"
       ]
      },
      {
       "domain_prefix": "ORACLE.run1",
       "domains": [
        32,
        38,
        8,
        44,
        14,
        50,
        20,
        26
       ],
       "episode_transforms": [],
       "labels": [
        "3123D52",
        "3123D65",
        "3123D79",
        "3123D80",
        "3123D54",
        "3123D70",
        "3123D7B",
        "3123D89",
        "3123D58",
        "3123D76",
        "3123D7D",
        "3123EFE",
        "3123D64",
        "3123D78",
        "3123D7E",
        "3124E4A"
       ],
       "num_examples_per_domain_per_label": 2000,
       "pickle_path": "/root/csc500-main/datasets/oracle.Run1_framed_2000Examples_stratified_ds.2022A.pkl",
       "source_or_target_dataset": "source",
       "x_transforms": [
        "unit_mag"
       ]
      }
     ],
     "device": "cuda",
     "experiment_name": "tl_1v2:wisig-oracle.run1.framed",
     "lr": 0.0001,
     "n_epoch": 50,
     "n_query": 2,
     "n_shot": 3,
     "n_way": 16,
     "patience": 3,
     "seed": 7,
     "test_k_factor": 2,
     "torch_default_dtype": "torch.float32",
     "train_k_factor": 3,
     "val_k_factor": 2,
     "x_net": [
      {
       "class": "nnReshape",
       "kargs": {
        "shape": [
         -1,
         1,
         2,
         256
        ]
       }
      },
      {
       "class": "Conv2d",
       "kargs": {
        "bias": false,
        "in_channels": 1,
        "kernel_size": [
         1,
         7
        ],
        "out_channels": 256,
        "padding": [
         0,
         3
        ]
       }
      },
      {
       "class": "ReLU",
       "kargs": {
        "inplace": true
       }
      },
      {
       "class": "BatchNorm2d",
       "kargs": {
        "num_features": 256
       }
      },
      {
       "class": "Conv2d",
       "kargs": {
        "bias": true,
        "in_channels": 256,
        "kernel_size": [
         2,
         7
        ],
        "out_channels": 80,
        "padding": [
         0,
         3
        ]
       }
      },
      {
       "class": "ReLU",
       "kargs": {
        "inplace": true
       }
      },
      {
       "class": "BatchNorm2d",
       "kargs": {
        "num_features": 80
       }
      },
      {
       "class": "Flatten",
       "kargs": {}
      },
      {
       "class": "Linear",
       "kargs": {
        "in_features": 20480,
        "out_features": 256
       }
      },
      {
       "class": "ReLU",
       "kargs": {
        "inplace": true
       }
      },
      {
       "class": "BatchNorm1d",
       "kargs": {
        "num_features": 256
       }
      },
      {
       "class": "Linear",
       "kargs": {
        "in_features": 256,
        "out_features": 256
       }
      }
     ]
    }
   },
   "start_time": "2022-03-21T15:39:33.828310",
   "version": "2.3.4"
  }
 },
 "nbformat": 4,
 "nbformat_minor": 5
}