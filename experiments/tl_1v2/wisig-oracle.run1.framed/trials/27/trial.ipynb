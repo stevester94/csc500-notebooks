{
 "cells": [
  {
   "cell_type": "markdown",
   "id": "9fea5f46",
   "metadata": {
    "papermill": {
     "duration": 0.074156,
     "end_time": "2022-03-21T18:20:19.185543",
     "exception": false,
     "start_time": "2022-03-21T18:20:19.111387",
     "status": "completed"
    },
    "tags": []
   },
   "source": [
    "# Transfer Learning Template"
   ]
  },
  {
   "cell_type": "code",
   "execution_count": 1,
   "id": "0902182a",
   "metadata": {
    "execution": {
     "iopub.execute_input": "2022-03-21T18:20:19.249840Z",
     "iopub.status.busy": "2022-03-21T18:20:19.243866Z",
     "iopub.status.idle": "2022-03-21T18:20:21.216993Z",
     "shell.execute_reply": "2022-03-21T18:20:21.216155Z"
    },
    "papermill": {
     "duration": 2.007505,
     "end_time": "2022-03-21T18:20:21.217187",
     "exception": false,
     "start_time": "2022-03-21T18:20:19.209682",
     "status": "completed"
    },
    "tags": []
   },
   "outputs": [],
   "source": [
    "%load_ext autoreload\n",
    "%autoreload 2\n",
    "%matplotlib inline\n",
    "\n",
    "    \n",
    "import os, json, sys, time, random\n",
    "import numpy as np\n",
    "import torch\n",
    "from torch.optim import Adam\n",
    "from  easydict import EasyDict\n",
    "import matplotlib.pyplot as plt\n",
    "\n",
    "from steves_models.steves_ptn import Steves_Prototypical_Network\n",
    "\n",
    "from steves_utils.lazy_iterable_wrapper import Lazy_Iterable_Wrapper\n",
    "from steves_utils.iterable_aggregator import Iterable_Aggregator\n",
    "from steves_utils.ptn_train_eval_test_jig import  PTN_Train_Eval_Test_Jig\n",
    "from steves_utils.torch_sequential_builder import build_sequential\n",
    "from steves_utils.torch_utils import get_dataset_metrics, ptn_confusion_by_domain_over_dataloader\n",
    "from steves_utils.utils_v2 import (per_domain_accuracy_from_confusion, get_datasets_base_path)\n",
    "from steves_utils.PTN.utils import independent_accuracy_assesment\n",
    "\n",
    "from torch.utils.data import DataLoader\n",
    "\n",
    "from steves_utils.stratified_dataset.episodic_accessor import Episodic_Accessor_Factory\n",
    "\n",
    "from steves_utils.ptn_do_report import (\n",
    "    get_loss_curve,\n",
    "    get_results_table,\n",
    "    get_parameters_table,\n",
    "    get_domain_accuracies,\n",
    ")\n",
    "\n",
    "from steves_utils.transforms import get_chained_transform"
   ]
  },
  {
   "cell_type": "markdown",
   "id": "41c840b4",
   "metadata": {
    "papermill": {
     "duration": 0.019881,
     "end_time": "2022-03-21T18:20:21.262159",
     "exception": false,
     "start_time": "2022-03-21T18:20:21.242278",
     "status": "completed"
    },
    "tags": []
   },
   "source": [
    "# Allowed Parameters\n",
    "These are allowed parameters, not defaults\n",
    "Each of these values need to be present in the injected parameters (the notebook will raise an exception if they are not present)\n",
    "\n",
    "Papermill uses the cell tag \"parameters\" to inject the real parameters below this cell.\n",
    "Enable tags to see what I mean"
   ]
  },
  {
   "cell_type": "code",
   "execution_count": 2,
   "id": "fd44eb83",
   "metadata": {
    "execution": {
     "iopub.execute_input": "2022-03-21T18:20:21.307742Z",
     "iopub.status.busy": "2022-03-21T18:20:21.307062Z",
     "iopub.status.idle": "2022-03-21T18:20:21.331648Z",
     "shell.execute_reply": "2022-03-21T18:20:21.332333Z"
    },
    "papermill": {
     "duration": 0.050699,
     "end_time": "2022-03-21T18:20:21.332514",
     "exception": false,
     "start_time": "2022-03-21T18:20:21.281815",
     "status": "completed"
    },
    "tags": []
   },
   "outputs": [],
   "source": [
    "required_parameters = {\n",
    "    \"experiment_name\",\n",
    "    \"lr\",\n",
    "    \"device\",\n",
    "    \"seed\",\n",
    "    \"dataset_seed\",\n",
    "    \"n_shot\",\n",
    "    \"n_query\",\n",
    "    \"n_way\",\n",
    "    \"train_k_factor\",\n",
    "    \"val_k_factor\",\n",
    "    \"test_k_factor\",\n",
    "    \"n_epoch\",\n",
    "    \"patience\",\n",
    "    \"criteria_for_best\",\n",
    "    \"x_net\",\n",
    "    \"datasets\",\n",
    "    \"torch_default_dtype\",\n",
    "    \"NUM_LOGS_PER_EPOCH\",\n",
    "    \"BEST_MODEL_PATH\",\n",
    "    \"x_shape\",\n",
    "}"
   ]
  },
  {
   "cell_type": "code",
   "execution_count": 3,
   "id": "fa3f0049",
   "metadata": {
    "execution": {
     "iopub.execute_input": "2022-03-21T18:20:21.395601Z",
     "iopub.status.busy": "2022-03-21T18:20:21.386864Z",
     "iopub.status.idle": "2022-03-21T18:20:21.419521Z",
     "shell.execute_reply": "2022-03-21T18:20:21.420264Z"
    },
    "papermill": {
     "duration": 0.061064,
     "end_time": "2022-03-21T18:20:21.420449",
     "exception": false,
     "start_time": "2022-03-21T18:20:21.359385",
     "status": "completed"
    },
    "tags": [
     "parameters"
    ]
   },
   "outputs": [],
   "source": [
    "from steves_utils.CORES.utils import (\n",
    "    ALL_NODES,\n",
    "    ALL_NODES_MINIMUM_1000_EXAMPLES,\n",
    "    ALL_DAYS\n",
    ")\n",
    "\n",
    "from steves_utils.ORACLE.utils_v2 import (\n",
    "    ALL_DISTANCES_FEET_NARROWED,\n",
    "    ALL_RUNS,\n",
    "    ALL_SERIAL_NUMBERS,\n",
    ")\n",
    "\n",
    "standalone_parameters = {}\n",
    "standalone_parameters[\"experiment_name\"] = \"STANDALONE PTN\"\n",
    "standalone_parameters[\"lr\"] = 0.001\n",
    "standalone_parameters[\"device\"] = \"cuda\"\n",
    "\n",
    "standalone_parameters[\"seed\"] = 1337\n",
    "standalone_parameters[\"dataset_seed\"] = 1337\n",
    "\n",
    "standalone_parameters[\"n_way\"] = 8\n",
    "standalone_parameters[\"n_shot\"] = 3\n",
    "standalone_parameters[\"n_query\"]  = 2\n",
    "standalone_parameters[\"train_k_factor\"] = 1\n",
    "standalone_parameters[\"val_k_factor\"] = 2\n",
    "standalone_parameters[\"test_k_factor\"] = 2\n",
    "\n",
    "\n",
    "standalone_parameters[\"n_epoch\"] = 50\n",
    "\n",
    "standalone_parameters[\"patience\"] = 10\n",
    "standalone_parameters[\"criteria_for_best\"] = \"source_loss\"\n",
    "\n",
    "standalone_parameters[\"datasets\"] = [\n",
    "    {\n",
    "        \"labels\": ALL_SERIAL_NUMBERS,\n",
    "        \"domains\": ALL_DISTANCES_FEET_NARROWED,\n",
    "        \"num_examples_per_domain_per_label\": 100,\n",
    "        \"pickle_path\": os.path.join(get_datasets_base_path(), \"oracle.Run1_framed_2000Examples_stratified_ds.2022A.pkl\"),\n",
    "        \"source_or_target_dataset\": \"source\",\n",
    "        \"x_transforms\": [\"unit_mag\", \"minus_two\"],\n",
    "        \"episode_transforms\": [],\n",
    "        \"domain_prefix\": \"ORACLE_\"\n",
    "    },\n",
    "    {\n",
    "        \"labels\": ALL_NODES,\n",
    "        \"domains\": ALL_DAYS,\n",
    "        \"num_examples_per_domain_per_label\": 100,\n",
    "        \"pickle_path\": os.path.join(get_datasets_base_path(), \"cores.stratified_ds.2022A.pkl\"),\n",
    "        \"source_or_target_dataset\": \"target\",\n",
    "        \"x_transforms\": [\"unit_power\", \"times_zero\"],\n",
    "        \"episode_transforms\": [],\n",
    "        \"domain_prefix\": \"CORES_\"\n",
    "    }   \n",
    "]\n",
    "\n",
    "standalone_parameters[\"torch_default_dtype\"] = \"torch.float32\" \n",
    "\n",
    "\n",
    "\n",
    "standalone_parameters[\"x_net\"] =     [\n",
    "    {\"class\": \"nnReshape\", \"kargs\": {\"shape\":[-1, 1, 2, 256]}},\n",
    "    {\"class\": \"Conv2d\", \"kargs\": { \"in_channels\":1, \"out_channels\":256, \"kernel_size\":(1,7), \"bias\":False, \"padding\":(0,3), },},\n",
    "    {\"class\": \"ReLU\", \"kargs\": {\"inplace\": True}},\n",
    "    {\"class\": \"BatchNorm2d\", \"kargs\": {\"num_features\":256}},\n",
    "\n",
    "    {\"class\": \"Conv2d\", \"kargs\": { \"in_channels\":256, \"out_channels\":80, \"kernel_size\":(2,7), \"bias\":True, \"padding\":(0,3), },},\n",
    "    {\"class\": \"ReLU\", \"kargs\": {\"inplace\": True}},\n",
    "    {\"class\": \"BatchNorm2d\", \"kargs\": {\"num_features\":80}},\n",
    "    {\"class\": \"Flatten\", \"kargs\": {}},\n",
    "\n",
    "    {\"class\": \"Linear\", \"kargs\": {\"in_features\": 80*256, \"out_features\": 256}}, # 80 units per IQ pair\n",
    "    {\"class\": \"ReLU\", \"kargs\": {\"inplace\": True}},\n",
    "    {\"class\": \"BatchNorm1d\", \"kargs\": {\"num_features\":256}},\n",
    "\n",
    "    {\"class\": \"Linear\", \"kargs\": {\"in_features\": 256, \"out_features\": 256}},\n",
    "]\n",
    "\n",
    "# Parameters relevant to results\n",
    "# These parameters will basically never need to change\n",
    "standalone_parameters[\"NUM_LOGS_PER_EPOCH\"] = 10\n",
    "standalone_parameters[\"BEST_MODEL_PATH\"] = \"./best_model.pth\"\n",
    "\n",
    "\n",
    "\n",
    "\n"
   ]
  },
  {
   "cell_type": "code",
   "execution_count": 4,
   "id": "58f80117",
   "metadata": {
    "execution": {
     "iopub.execute_input": "2022-03-21T18:20:21.487078Z",
     "iopub.status.busy": "2022-03-21T18:20:21.485955Z",
     "iopub.status.idle": "2022-03-21T18:20:21.508529Z",
     "shell.execute_reply": "2022-03-21T18:20:21.507685Z"
    },
    "papermill": {
     "duration": 0.061131,
     "end_time": "2022-03-21T18:20:21.508715",
     "exception": false,
     "start_time": "2022-03-21T18:20:21.447584",
     "status": "completed"
    },
    "tags": [
     "injected-parameters"
    ]
   },
   "outputs": [],
   "source": [
    "# Parameters\n",
    "parameters = {\n",
    "    \"experiment_name\": \"tl_1v2:wisig-oracle.run1.framed\",\n",
    "    \"device\": \"cuda\",\n",
    "    \"lr\": 0.0001,\n",
    "    \"n_shot\": 3,\n",
    "    \"n_query\": 2,\n",
    "    \"train_k_factor\": 3,\n",
    "    \"val_k_factor\": 2,\n",
    "    \"test_k_factor\": 2,\n",
    "    \"torch_default_dtype\": \"torch.float32\",\n",
    "    \"n_epoch\": 50,\n",
    "    \"patience\": 3,\n",
    "    \"criteria_for_best\": \"target_accuracy\",\n",
    "    \"x_net\": [\n",
    "        {\"class\": \"nnReshape\", \"kargs\": {\"shape\": [-1, 1, 2, 256]}},\n",
    "        {\n",
    "            \"class\": \"Conv2d\",\n",
    "            \"kargs\": {\n",
    "                \"in_channels\": 1,\n",
    "                \"out_channels\": 256,\n",
    "                \"kernel_size\": [1, 7],\n",
    "                \"bias\": False,\n",
    "                \"padding\": [0, 3],\n",
    "            },\n",
    "        },\n",
    "        {\"class\": \"ReLU\", \"kargs\": {\"inplace\": True}},\n",
    "        {\"class\": \"BatchNorm2d\", \"kargs\": {\"num_features\": 256}},\n",
    "        {\n",
    "            \"class\": \"Conv2d\",\n",
    "            \"kargs\": {\n",
    "                \"in_channels\": 256,\n",
    "                \"out_channels\": 80,\n",
    "                \"kernel_size\": [2, 7],\n",
    "                \"bias\": True,\n",
    "                \"padding\": [0, 3],\n",
    "            },\n",
    "        },\n",
    "        {\"class\": \"ReLU\", \"kargs\": {\"inplace\": True}},\n",
    "        {\"class\": \"BatchNorm2d\", \"kargs\": {\"num_features\": 80}},\n",
    "        {\"class\": \"Flatten\", \"kargs\": {}},\n",
    "        {\"class\": \"Linear\", \"kargs\": {\"in_features\": 20480, \"out_features\": 256}},\n",
    "        {\"class\": \"ReLU\", \"kargs\": {\"inplace\": True}},\n",
    "        {\"class\": \"BatchNorm1d\", \"kargs\": {\"num_features\": 256}},\n",
    "        {\"class\": \"Linear\", \"kargs\": {\"in_features\": 256, \"out_features\": 256}},\n",
    "    ],\n",
    "    \"NUM_LOGS_PER_EPOCH\": 10,\n",
    "    \"BEST_MODEL_PATH\": \"./best_model.pth\",\n",
    "    \"n_way\": 16,\n",
    "    \"datasets\": [\n",
    "        {\n",
    "            \"labels\": [\n",
    "                \"1-10\",\n",
    "                \"1-12\",\n",
    "                \"1-14\",\n",
    "                \"1-16\",\n",
    "                \"1-18\",\n",
    "                \"1-19\",\n",
    "                \"1-8\",\n",
    "                \"10-11\",\n",
    "                \"10-17\",\n",
    "                \"10-4\",\n",
    "                \"10-7\",\n",
    "                \"11-1\",\n",
    "                \"11-10\",\n",
    "                \"11-19\",\n",
    "                \"11-20\",\n",
    "                \"11-4\",\n",
    "                \"11-7\",\n",
    "                \"12-19\",\n",
    "                \"12-20\",\n",
    "                \"12-7\",\n",
    "                \"13-14\",\n",
    "                \"13-18\",\n",
    "                \"13-19\",\n",
    "                \"13-20\",\n",
    "                \"13-3\",\n",
    "                \"13-7\",\n",
    "                \"14-10\",\n",
    "                \"14-11\",\n",
    "                \"14-12\",\n",
    "                \"14-13\",\n",
    "                \"14-14\",\n",
    "                \"14-19\",\n",
    "                \"14-20\",\n",
    "                \"14-7\",\n",
    "                \"14-8\",\n",
    "                \"14-9\",\n",
    "                \"15-1\",\n",
    "                \"15-19\",\n",
    "                \"15-6\",\n",
    "                \"16-1\",\n",
    "                \"16-16\",\n",
    "                \"16-19\",\n",
    "                \"16-20\",\n",
    "                \"17-10\",\n",
    "                \"17-11\",\n",
    "                \"18-1\",\n",
    "                \"18-10\",\n",
    "                \"18-11\",\n",
    "                \"18-12\",\n",
    "                \"18-13\",\n",
    "                \"18-14\",\n",
    "                \"18-15\",\n",
    "                \"18-16\",\n",
    "                \"18-17\",\n",
    "                \"18-19\",\n",
    "                \"18-2\",\n",
    "                \"18-20\",\n",
    "                \"18-4\",\n",
    "                \"18-5\",\n",
    "                \"18-7\",\n",
    "                \"18-8\",\n",
    "                \"18-9\",\n",
    "                \"19-1\",\n",
    "                \"19-10\",\n",
    "                \"19-11\",\n",
    "                \"19-12\",\n",
    "                \"19-13\",\n",
    "                \"19-14\",\n",
    "                \"19-15\",\n",
    "                \"19-19\",\n",
    "                \"19-2\",\n",
    "                \"19-20\",\n",
    "                \"19-3\",\n",
    "                \"19-4\",\n",
    "                \"19-6\",\n",
    "                \"19-7\",\n",
    "                \"19-8\",\n",
    "                \"19-9\",\n",
    "                \"2-1\",\n",
    "                \"2-13\",\n",
    "                \"2-15\",\n",
    "                \"2-3\",\n",
    "                \"2-4\",\n",
    "                \"2-5\",\n",
    "                \"2-6\",\n",
    "                \"2-7\",\n",
    "                \"2-8\",\n",
    "                \"20-1\",\n",
    "                \"20-12\",\n",
    "                \"20-14\",\n",
    "                \"20-15\",\n",
    "                \"20-16\",\n",
    "                \"20-18\",\n",
    "                \"20-19\",\n",
    "                \"20-20\",\n",
    "                \"20-3\",\n",
    "                \"20-4\",\n",
    "                \"20-5\",\n",
    "                \"20-7\",\n",
    "                \"20-8\",\n",
    "                \"3-1\",\n",
    "                \"3-13\",\n",
    "                \"3-18\",\n",
    "                \"3-2\",\n",
    "                \"3-8\",\n",
    "                \"4-1\",\n",
    "                \"4-10\",\n",
    "                \"4-11\",\n",
    "                \"5-1\",\n",
    "                \"5-5\",\n",
    "                \"6-1\",\n",
    "                \"6-15\",\n",
    "                \"6-6\",\n",
    "                \"7-10\",\n",
    "                \"7-11\",\n",
    "                \"7-12\",\n",
    "                \"7-13\",\n",
    "                \"7-14\",\n",
    "                \"7-7\",\n",
    "                \"7-8\",\n",
    "                \"7-9\",\n",
    "                \"8-1\",\n",
    "                \"8-13\",\n",
    "                \"8-14\",\n",
    "                \"8-18\",\n",
    "                \"8-20\",\n",
    "                \"8-3\",\n",
    "                \"8-8\",\n",
    "                \"9-1\",\n",
    "                \"9-7\",\n",
    "            ],\n",
    "            \"domains\": [1, 2, 3, 4],\n",
    "            \"num_examples_per_domain_per_label\": -1,\n",
    "            \"pickle_path\": \"/root/csc500-main/datasets/wisig.node3-19.stratified_ds.2022A.pkl\",\n",
    "            \"source_or_target_dataset\": \"target\",\n",
    "            \"x_transforms\": [\"unit_power\"],\n",
    "            \"episode_transforms\": [],\n",
    "            \"domain_prefix\": \"Wisig_\",\n",
    "        },\n",
    "        {\n",
    "            \"labels\": [\n",
    "                \"3123D52\",\n",
    "                \"3123D65\",\n",
    "                \"3123D79\",\n",
    "                \"3123D80\",\n",
    "                \"3123D54\",\n",
    "                \"3123D70\",\n",
    "                \"3123D7B\",\n",
    "                \"3123D89\",\n",
    "                \"3123D58\",\n",
    "                \"3123D76\",\n",
    "                \"3123D7D\",\n",
    "                \"3123EFE\",\n",
    "                \"3123D64\",\n",
    "                \"3123D78\",\n",
    "                \"3123D7E\",\n",
    "                \"3124E4A\",\n",
    "            ],\n",
    "            \"domains\": [32, 38, 8, 44, 14, 50, 20, 26],\n",
    "            \"num_examples_per_domain_per_label\": 2000,\n",
    "            \"pickle_path\": \"/root/csc500-main/datasets/oracle.Run1_framed_2000Examples_stratified_ds.2022A.pkl\",\n",
    "            \"source_or_target_dataset\": \"source\",\n",
    "            \"x_transforms\": [\"unit_power\"],\n",
    "            \"episode_transforms\": [],\n",
    "            \"domain_prefix\": \"ORACLE.run1\",\n",
    "        },\n",
    "    ],\n",
    "    \"dataset_seed\": 500,\n",
    "    \"seed\": 500,\n",
    "}\n"
   ]
  },
  {
   "cell_type": "code",
   "execution_count": 5,
   "id": "8fa1cc33",
   "metadata": {
    "execution": {
     "iopub.execute_input": "2022-03-21T18:20:21.572206Z",
     "iopub.status.busy": "2022-03-21T18:20:21.571616Z",
     "iopub.status.idle": "2022-03-21T18:20:21.595510Z",
     "shell.execute_reply": "2022-03-21T18:20:21.594735Z"
    },
    "papermill": {
     "duration": 0.051602,
     "end_time": "2022-03-21T18:20:21.595698",
     "exception": false,
     "start_time": "2022-03-21T18:20:21.544096",
     "status": "completed"
    },
    "tags": []
   },
   "outputs": [],
   "source": [
    "# Set this to True if you want to run this template directly\n",
    "STANDALONE = False\n",
    "if STANDALONE:\n",
    "    print(\"parameters not injected, running with standalone_parameters\")\n",
    "    parameters = standalone_parameters\n",
    "\n",
    "if not 'parameters' in locals() and not 'parameters' in globals():\n",
    "    raise Exception(\"Parameter injection failed\")\n",
    "\n",
    "#Use an easy dict for all the parameters\n",
    "p = EasyDict(parameters)\n",
    "\n",
    "if \"x_shape\" not in p:\n",
    "    p.x_shape = [2,256] # Default to this if we dont supply x_shape\n",
    "\n",
    "\n",
    "supplied_keys = set(p.keys())\n",
    "\n",
    "if  supplied_keys != required_parameters:\n",
    "    print(\"Parameters are incorrect\")\n",
    "    if len(supplied_keys - required_parameters)>0: print(\"Shouldn't have:\", str(supplied_keys - required_parameters))\n",
    "    if len(required_parameters - supplied_keys)>0: print(\"Need to have:\", str(required_parameters - supplied_keys))\n",
    "    raise RuntimeError(\"Parameters are incorrect\")"
   ]
  },
  {
   "cell_type": "code",
   "execution_count": 6,
   "id": "3a028d58",
   "metadata": {
    "execution": {
     "iopub.execute_input": "2022-03-21T18:20:21.645857Z",
     "iopub.status.busy": "2022-03-21T18:20:21.645292Z",
     "iopub.status.idle": "2022-03-21T18:20:21.667063Z",
     "shell.execute_reply": "2022-03-21T18:20:21.666347Z"
    },
    "papermill": {
     "duration": 0.046318,
     "end_time": "2022-03-21T18:20:21.667221",
     "exception": false,
     "start_time": "2022-03-21T18:20:21.620903",
     "status": "completed"
    },
    "tags": []
   },
   "outputs": [],
   "source": [
    "###################################\n",
    "# Set the RNGs and make it all deterministic\n",
    "###################################\n",
    "np.random.seed(p.seed)\n",
    "random.seed(p.seed)\n",
    "torch.manual_seed(p.seed)\n",
    "\n",
    "torch.use_deterministic_algorithms(True) "
   ]
  },
  {
   "cell_type": "code",
   "execution_count": 7,
   "id": "b691acf6",
   "metadata": {
    "execution": {
     "iopub.execute_input": "2022-03-21T18:20:21.721475Z",
     "iopub.status.busy": "2022-03-21T18:20:21.720911Z",
     "iopub.status.idle": "2022-03-21T18:20:21.741536Z",
     "shell.execute_reply": "2022-03-21T18:20:21.742227Z"
    },
    "papermill": {
     "duration": 0.045322,
     "end_time": "2022-03-21T18:20:21.742414",
     "exception": false,
     "start_time": "2022-03-21T18:20:21.697092",
     "status": "completed"
    },
    "tags": []
   },
   "outputs": [],
   "source": [
    "###########################################\n",
    "# The stratified datasets honor this\n",
    "###########################################\n",
    "torch.set_default_dtype(eval(p.torch_default_dtype))"
   ]
  },
  {
   "cell_type": "code",
   "execution_count": 8,
   "id": "b5fba671",
   "metadata": {
    "execution": {
     "iopub.execute_input": "2022-03-21T18:20:21.791578Z",
     "iopub.status.busy": "2022-03-21T18:20:21.791180Z",
     "iopub.status.idle": "2022-03-21T18:20:21.847915Z",
     "shell.execute_reply": "2022-03-21T18:20:21.847155Z"
    },
    "papermill": {
     "duration": 0.079919,
     "end_time": "2022-03-21T18:20:21.848076",
     "exception": false,
     "start_time": "2022-03-21T18:20:21.768157",
     "status": "completed"
    },
    "tags": []
   },
   "outputs": [],
   "source": [
    "###################################\n",
    "# Build the network(s)\n",
    "# Note: It's critical to do this AFTER setting the RNG\n",
    "###################################\n",
    "x_net = build_sequential(p.x_net)"
   ]
  },
  {
   "cell_type": "code",
   "execution_count": 9,
   "id": "5d7e61cc",
   "metadata": {
    "execution": {
     "iopub.execute_input": "2022-03-21T18:20:21.901295Z",
     "iopub.status.busy": "2022-03-21T18:20:21.900894Z",
     "iopub.status.idle": "2022-03-21T18:20:21.923425Z",
     "shell.execute_reply": "2022-03-21T18:20:21.922710Z"
    },
    "papermill": {
     "duration": 0.045957,
     "end_time": "2022-03-21T18:20:21.923623",
     "exception": false,
     "start_time": "2022-03-21T18:20:21.877666",
     "status": "completed"
    },
    "tags": []
   },
   "outputs": [],
   "source": [
    "start_time_secs = time.time()"
   ]
  },
  {
   "cell_type": "code",
   "execution_count": 10,
   "id": "c6b67dfd",
   "metadata": {
    "execution": {
     "iopub.execute_input": "2022-03-21T18:20:21.978056Z",
     "iopub.status.busy": "2022-03-21T18:20:21.977418Z",
     "iopub.status.idle": "2022-03-21T18:20:21.998643Z",
     "shell.execute_reply": "2022-03-21T18:20:21.999345Z"
    },
    "papermill": {
     "duration": 0.048168,
     "end_time": "2022-03-21T18:20:21.999573",
     "exception": false,
     "start_time": "2022-03-21T18:20:21.951405",
     "status": "completed"
    },
    "tags": []
   },
   "outputs": [],
   "source": [
    "p.domains_source = []\n",
    "p.domains_target = []\n",
    "\n",
    "\n",
    "train_original_source = []\n",
    "val_original_source   = []\n",
    "test_original_source  = []\n",
    "\n",
    "train_original_target = []\n",
    "val_original_target   = []\n",
    "test_original_target  = []"
   ]
  },
  {
   "cell_type": "code",
   "execution_count": 11,
   "id": "e3d9c3d3",
   "metadata": {
    "execution": {
     "iopub.execute_input": "2022-03-21T18:20:22.053249Z",
     "iopub.status.busy": "2022-03-21T18:20:22.052672Z",
     "iopub.status.idle": "2022-03-21T18:20:22.074190Z",
     "shell.execute_reply": "2022-03-21T18:20:22.074868Z"
    },
    "papermill": {
     "duration": 0.045754,
     "end_time": "2022-03-21T18:20:22.075051",
     "exception": false,
     "start_time": "2022-03-21T18:20:22.029297",
     "status": "completed"
    },
    "tags": []
   },
   "outputs": [],
   "source": [
    "# global_x_transform_func = lambda x: normalize(x.to(torch.get_default_dtype()), \"unit_power\") # unit_power, unit_mag\n",
    "# global_x_transform_func = lambda x: normalize(x, \"unit_power\") # unit_power, unit_mag"
   ]
  },
  {
   "cell_type": "code",
   "execution_count": 12,
   "id": "acb78fd2",
   "metadata": {
    "execution": {
     "iopub.execute_input": "2022-03-21T18:20:22.133737Z",
     "iopub.status.busy": "2022-03-21T18:20:22.132895Z",
     "iopub.status.idle": "2022-03-21T18:20:22.151726Z",
     "shell.execute_reply": "2022-03-21T18:20:22.150983Z"
    },
    "papermill": {
     "duration": 0.051483,
     "end_time": "2022-03-21T18:20:22.151882",
     "exception": false,
     "start_time": "2022-03-21T18:20:22.100399",
     "status": "completed"
    },
    "tags": []
   },
   "outputs": [],
   "source": [
    "def add_dataset(\n",
    "    labels,\n",
    "    domains,\n",
    "    pickle_path,\n",
    "    x_transforms,\n",
    "    episode_transforms,\n",
    "    domain_prefix,\n",
    "    num_examples_per_domain_per_label,\n",
    "    source_or_target_dataset:str,\n",
    "    iterator_seed=p.seed,\n",
    "    dataset_seed=p.dataset_seed,\n",
    "    n_shot=p.n_shot,\n",
    "    n_way=p.n_way,\n",
    "    n_query=p.n_query,\n",
    "    train_val_test_k_factors=(p.train_k_factor,p.val_k_factor,p.test_k_factor),\n",
    "):\n",
    "   \n",
    "    if x_transforms == []: x_transform = None\n",
    "    else: x_transform = get_chained_transform(x_transforms)\n",
    "    \n",
    "    if episode_transforms == []: episode_transform = None\n",
    "    else: raise Exception(\"episode_transforms not implemented\")\n",
    "    \n",
    "    episode_transform = lambda tup, _prefix=domain_prefix: (_prefix + str(tup[0]), tup[1])\n",
    "\n",
    "\n",
    "    eaf = Episodic_Accessor_Factory(\n",
    "        labels=labels,\n",
    "        domains=domains,\n",
    "        num_examples_per_domain_per_label=num_examples_per_domain_per_label,\n",
    "        iterator_seed=iterator_seed,\n",
    "        dataset_seed=dataset_seed,\n",
    "        n_shot=n_shot,\n",
    "        n_way=n_way,\n",
    "        n_query=n_query,\n",
    "        train_val_test_k_factors=train_val_test_k_factors,\n",
    "        pickle_path=pickle_path,\n",
    "        x_transform_func=x_transform,\n",
    "    )\n",
    "\n",
    "    train, val, test = eaf.get_train(), eaf.get_val(), eaf.get_test()\n",
    "    train = Lazy_Iterable_Wrapper(train, episode_transform)\n",
    "    val = Lazy_Iterable_Wrapper(val, episode_transform)\n",
    "    test = Lazy_Iterable_Wrapper(test, episode_transform)\n",
    "\n",
    "    if source_or_target_dataset==\"source\":\n",
    "        train_original_source.append(train)\n",
    "        val_original_source.append(val)\n",
    "        test_original_source.append(test)\n",
    "\n",
    "        p.domains_source.extend(\n",
    "            [domain_prefix + str(u) for u in domains]\n",
    "        )\n",
    "    elif source_or_target_dataset==\"target\":\n",
    "        train_original_target.append(train)\n",
    "        val_original_target.append(val)\n",
    "        test_original_target.append(test)\n",
    "        p.domains_target.extend(\n",
    "            [domain_prefix + str(u) for u in domains]\n",
    "        )\n",
    "    else:\n",
    "        raise Exception(f\"invalid source_or_target_dataset: {source_or_target_dataset}\")\n",
    "    "
   ]
  },
  {
   "cell_type": "code",
   "execution_count": 13,
   "id": "fe266617",
   "metadata": {
    "execution": {
     "iopub.execute_input": "2022-03-21T18:20:22.201816Z",
     "iopub.status.busy": "2022-03-21T18:20:22.201447Z",
     "iopub.status.idle": "2022-03-21T18:21:05.854384Z",
     "shell.execute_reply": "2022-03-21T18:21:05.853610Z"
    },
    "papermill": {
     "duration": 43.675765,
     "end_time": "2022-03-21T18:21:05.854567",
     "exception": false,
     "start_time": "2022-03-21T18:20:22.178802",
     "status": "completed"
    },
    "tags": []
   },
   "outputs": [],
   "source": [
    "for ds in p.datasets:\n",
    "    add_dataset(**ds)"
   ]
  },
  {
   "cell_type": "code",
   "execution_count": 14,
   "id": "b90d65ac",
   "metadata": {
    "execution": {
     "iopub.execute_input": "2022-03-21T18:21:05.905796Z",
     "iopub.status.busy": "2022-03-21T18:21:05.905223Z",
     "iopub.status.idle": "2022-03-21T18:21:05.932773Z",
     "shell.execute_reply": "2022-03-21T18:21:05.933470Z"
    },
    "papermill": {
     "duration": 0.05221,
     "end_time": "2022-03-21T18:21:05.933656",
     "exception": false,
     "start_time": "2022-03-21T18:21:05.881446",
     "status": "completed"
    },
    "tags": []
   },
   "outputs": [],
   "source": [
    "# from steves_utils.CORES.utils import (\n",
    "#     ALL_NODES,\n",
    "#     ALL_NODES_MINIMUM_1000_EXAMPLES,\n",
    "#     ALL_DAYS\n",
    "# )\n",
    "\n",
    "# add_dataset(\n",
    "#     labels=ALL_NODES,\n",
    "#     domains = ALL_DAYS,\n",
    "#     num_examples_per_domain_per_label=100,\n",
    "#     pickle_path=os.path.join(get_datasets_base_path(), \"cores.stratified_ds.2022A.pkl\"),\n",
    "#     source_or_target_dataset=\"target\",\n",
    "#     x_transform_func=global_x_transform_func,\n",
    "#     domain_modifier=lambda u: f\"cores_{u}\"\n",
    "# )"
   ]
  },
  {
   "cell_type": "code",
   "execution_count": 15,
   "id": "76db484d",
   "metadata": {
    "execution": {
     "iopub.execute_input": "2022-03-21T18:21:05.986074Z",
     "iopub.status.busy": "2022-03-21T18:21:05.985491Z",
     "iopub.status.idle": "2022-03-21T18:21:06.011147Z",
     "shell.execute_reply": "2022-03-21T18:21:06.011846Z"
    },
    "papermill": {
     "duration": 0.05117,
     "end_time": "2022-03-21T18:21:06.012050",
     "exception": false,
     "start_time": "2022-03-21T18:21:05.960880",
     "status": "completed"
    },
    "tags": []
   },
   "outputs": [],
   "source": [
    "# from steves_utils.ORACLE.utils_v2 import (\n",
    "#     ALL_DISTANCES_FEET,\n",
    "#     ALL_RUNS,\n",
    "#     ALL_SERIAL_NUMBERS,\n",
    "# )\n",
    "\n",
    "\n",
    "# add_dataset(\n",
    "#     labels=ALL_SERIAL_NUMBERS,\n",
    "#     domains = list(set(ALL_DISTANCES_FEET) - {2,62}),\n",
    "#     num_examples_per_domain_per_label=100,\n",
    "#     pickle_path=os.path.join(get_datasets_base_path(), \"oracle.Run2_framed_2000Examples_stratified_ds.2022A.pkl\"),\n",
    "#     source_or_target_dataset=\"source\",\n",
    "#     x_transform_func=global_x_transform_func,\n",
    "#     domain_modifier=lambda u: f\"oracle1_{u}\"\n",
    "# )\n"
   ]
  },
  {
   "cell_type": "code",
   "execution_count": 16,
   "id": "97dea9d2",
   "metadata": {
    "execution": {
     "iopub.execute_input": "2022-03-21T18:21:06.062418Z",
     "iopub.status.busy": "2022-03-21T18:21:06.062045Z",
     "iopub.status.idle": "2022-03-21T18:21:06.087314Z",
     "shell.execute_reply": "2022-03-21T18:21:06.086606Z"
    },
    "papermill": {
     "duration": 0.049472,
     "end_time": "2022-03-21T18:21:06.087469",
     "exception": false,
     "start_time": "2022-03-21T18:21:06.037997",
     "status": "completed"
    },
    "tags": []
   },
   "outputs": [],
   "source": [
    "# from steves_utils.ORACLE.utils_v2 import (\n",
    "#     ALL_DISTANCES_FEET,\n",
    "#     ALL_RUNS,\n",
    "#     ALL_SERIAL_NUMBERS,\n",
    "# )\n",
    "\n",
    "\n",
    "# add_dataset(\n",
    "#     labels=ALL_SERIAL_NUMBERS,\n",
    "#     domains = list(set(ALL_DISTANCES_FEET) - {2,62,56}),\n",
    "#     num_examples_per_domain_per_label=100,\n",
    "#     pickle_path=os.path.join(get_datasets_base_path(), \"oracle.Run2_framed_2000Examples_stratified_ds.2022A.pkl\"),\n",
    "#     source_or_target_dataset=\"source\",\n",
    "#     x_transform_func=global_x_transform_func,\n",
    "#     domain_modifier=lambda u: f\"oracle2_{u}\"\n",
    "# )"
   ]
  },
  {
   "cell_type": "code",
   "execution_count": 17,
   "id": "6f289866",
   "metadata": {
    "execution": {
     "iopub.execute_input": "2022-03-21T18:21:06.140423Z",
     "iopub.status.busy": "2022-03-21T18:21:06.139931Z",
     "iopub.status.idle": "2022-03-21T18:21:06.156961Z",
     "shell.execute_reply": "2022-03-21T18:21:06.156239Z"
    },
    "papermill": {
     "duration": 0.039973,
     "end_time": "2022-03-21T18:21:06.157156",
     "exception": false,
     "start_time": "2022-03-21T18:21:06.117183",
     "status": "completed"
    },
    "tags": []
   },
   "outputs": [],
   "source": [
    "# add_dataset(\n",
    "#     labels=list(range(19)),\n",
    "#     domains = [0,1,2],\n",
    "#     num_examples_per_domain_per_label=100,\n",
    "#     pickle_path=os.path.join(get_datasets_base_path(), \"metehan.stratified_ds.2022A.pkl\"),\n",
    "#     source_or_target_dataset=\"target\",\n",
    "#     x_transform_func=global_x_transform_func,\n",
    "#     domain_modifier=lambda u: f\"met_{u}\"\n",
    "# )"
   ]
  },
  {
   "cell_type": "code",
   "execution_count": 18,
   "id": "86a863c3",
   "metadata": {
    "execution": {
     "iopub.execute_input": "2022-03-21T18:21:06.207798Z",
     "iopub.status.busy": "2022-03-21T18:21:06.207407Z",
     "iopub.status.idle": "2022-03-21T18:21:06.226500Z",
     "shell.execute_reply": "2022-03-21T18:21:06.227175Z"
    },
    "papermill": {
     "duration": 0.043517,
     "end_time": "2022-03-21T18:21:06.227362",
     "exception": false,
     "start_time": "2022-03-21T18:21:06.183845",
     "status": "completed"
    },
    "tags": []
   },
   "outputs": [],
   "source": [
    "# # from steves_utils.wisig.utils import (\n",
    "# #     ALL_NODES_MINIMUM_100_EXAMPLES,\n",
    "# #     ALL_NODES_MINIMUM_500_EXAMPLES,\n",
    "# #     ALL_NODES_MINIMUM_1000_EXAMPLES,\n",
    "# #     ALL_DAYS\n",
    "# # )\n",
    "\n",
    "# import steves_utils.wisig.utils as wisig\n",
    "\n",
    "\n",
    "# add_dataset(\n",
    "#     labels=wisig.ALL_NODES_MINIMUM_100_EXAMPLES,\n",
    "#     domains = wisig.ALL_DAYS,\n",
    "#     num_examples_per_domain_per_label=100,\n",
    "#     pickle_path=os.path.join(get_datasets_base_path(), \"wisig.node3-19.stratified_ds.2022A.pkl\"),\n",
    "#     source_or_target_dataset=\"target\",\n",
    "#     x_transform_func=global_x_transform_func,\n",
    "#     domain_modifier=lambda u: f\"wisig_{u}\"\n",
    "# )"
   ]
  },
  {
   "cell_type": "code",
   "execution_count": 19,
   "id": "fd5442bc",
   "metadata": {
    "execution": {
     "iopub.execute_input": "2022-03-21T18:21:06.284295Z",
     "iopub.status.busy": "2022-03-21T18:21:06.283909Z",
     "iopub.status.idle": "2022-03-21T18:21:06.304445Z",
     "shell.execute_reply": "2022-03-21T18:21:06.303630Z"
    },
    "papermill": {
     "duration": 0.049172,
     "end_time": "2022-03-21T18:21:06.304599",
     "exception": false,
     "start_time": "2022-03-21T18:21:06.255427",
     "status": "completed"
    },
    "tags": []
   },
   "outputs": [],
   "source": [
    "###################################\n",
    "# Build the dataset\n",
    "###################################\n",
    "train_original_source = Iterable_Aggregator(train_original_source, p.seed)\n",
    "val_original_source = Iterable_Aggregator(val_original_source, p.seed)\n",
    "test_original_source = Iterable_Aggregator(test_original_source, p.seed)\n",
    "\n",
    "\n",
    "train_original_target = Iterable_Aggregator(train_original_target, p.seed)\n",
    "val_original_target = Iterable_Aggregator(val_original_target, p.seed)\n",
    "test_original_target = Iterable_Aggregator(test_original_target, p.seed)\n",
    "\n",
    "# For CNN We only use X and Y. And we only train on the source.\n",
    "# Properly form the data using a transform lambda and Lazy_Iterable_Wrapper. Finally wrap them in a dataloader\n",
    "\n",
    "transform_lambda = lambda ex: ex[1] # Original is (<domain>, <episode>) so we strip down to episode only\n",
    "\n",
    "train_processed_source = Lazy_Iterable_Wrapper(train_original_source, transform_lambda)\n",
    "val_processed_source   = Lazy_Iterable_Wrapper(val_original_source, transform_lambda)\n",
    "test_processed_source  = Lazy_Iterable_Wrapper(test_original_source, transform_lambda)\n",
    "\n",
    "train_processed_target = Lazy_Iterable_Wrapper(train_original_target, transform_lambda)\n",
    "val_processed_target   = Lazy_Iterable_Wrapper(val_original_target, transform_lambda)\n",
    "test_processed_target  = Lazy_Iterable_Wrapper(test_original_target, transform_lambda)\n",
    "\n",
    "datasets = EasyDict({\n",
    "    \"source\": {\n",
    "        \"original\": {\"train\":train_original_source, \"val\":val_original_source, \"test\":test_original_source},\n",
    "        \"processed\": {\"train\":train_processed_source, \"val\":val_processed_source, \"test\":test_processed_source}\n",
    "    },\n",
    "    \"target\": {\n",
    "        \"original\": {\"train\":train_original_target, \"val\":val_original_target, \"test\":test_original_target},\n",
    "        \"processed\": {\"train\":train_processed_target, \"val\":val_processed_target, \"test\":test_processed_target}\n",
    "    },\n",
    "})"
   ]
  },
  {
   "cell_type": "code",
   "execution_count": 20,
   "id": "5b3c01fc",
   "metadata": {
    "execution": {
     "iopub.execute_input": "2022-03-21T18:21:06.356376Z",
     "iopub.status.busy": "2022-03-21T18:21:06.356005Z",
     "iopub.status.idle": "2022-03-21T18:21:22.002091Z",
     "shell.execute_reply": "2022-03-21T18:21:22.002831Z"
    },
    "papermill": {
     "duration": 15.67122,
     "end_time": "2022-03-21T18:21:22.003045",
     "exception": false,
     "start_time": "2022-03-21T18:21:06.331825",
     "status": "completed"
    },
    "tags": []
   },
   "outputs": [
    {
     "name": "stdout",
     "output_type": "stream",
     "text": [
      "{'ORACLE.run150', 'ORACLE.run126', 'ORACLE.run138', 'ORACLE.run120', 'ORACLE.run144', 'ORACLE.run114', 'ORACLE.run18', 'ORACLE.run132'}\n"
     ]
    },
    {
     "name": "stdout",
     "output_type": "stream",
     "text": [
      "{'Wisig_2', 'Wisig_3', 'Wisig_4', 'Wisig_1'}\n"
     ]
    },
    {
     "name": "stdout",
     "output_type": "stream",
     "text": [
      "tensor([[[ 0.5241,  0.9130, -0.9299,  ..., -0.7101,  0.4903, -0.7777],\n",
      "         [-0.4058,  0.3719,  0.1183,  ..., -0.4058, -1.0989, -0.8961]],\n",
      "\n",
      "        [[ 0.1035,  1.1901, -0.4657,  ..., -0.9142,  0.3450, -0.9487],\n",
      "         [-0.6554,  0.0862,  0.5692,  ..., -0.1035, -1.0349, -0.5865]],\n",
      "\n",
      "        [[-0.9837,  0.4315,  1.3634,  ..., -0.4832,  0.1898,  1.2081],\n",
      "         [-0.2934, -0.2416,  0.0345,  ...,  1.1218,  1.0010,  0.1726]],\n",
      "\n",
      "        ...,\n",
      "\n",
      "        [[-0.3340,  0.2733,  0.3644,  ..., -0.4251, -1.3816, -0.9869],\n",
      "         [-0.2733, -1.0932,  0.5769,  ...,  0.9413, -0.5466,  0.3492]],\n",
      "\n",
      "        [[ 0.5510, -0.4765, -0.5808,  ...,  0.2681,  1.2956,  0.6255],\n",
      "         [ 0.8786,  0.8935, -1.0126,  ..., -0.7446,  0.4021, -0.9233]],\n",
      "\n",
      "        [[ 0.4354, -0.7207, -0.5405,  ...,  0.8558,  1.0360,  0.3754],\n",
      "         [ 1.0210,  0.7658, -1.1111,  ..., -0.4655,  0.4504, -1.1561]]])\n"
     ]
    }
   ],
   "source": [
    "from steves_utils.transforms import get_average_magnitude, get_average_power\n",
    "\n",
    "print(set([u for u,_ in val_original_source]))\n",
    "print(set([u for u,_ in val_original_target]))\n",
    "\n",
    "s_x, s_y, q_x, q_y, _ = next(iter(train_processed_source))\n",
    "print(s_x)\n",
    "\n",
    "# for ds in [\n",
    "#     train_processed_source,\n",
    "#     val_processed_source,\n",
    "#     test_processed_source,\n",
    "#     train_processed_target,\n",
    "#     val_processed_target,\n",
    "#     test_processed_target\n",
    "# ]:\n",
    "#     for s_x, s_y, q_x, q_y, _ in ds:\n",
    "#         for X in (s_x, q_x):\n",
    "#             for x in X:\n",
    "#                 assert np.isclose(get_average_magnitude(x.numpy()), 1.0)\n",
    "#                 assert np.isclose(get_average_power(x.numpy()), 1.0)\n",
    "                "
   ]
  },
  {
   "cell_type": "code",
   "execution_count": 21,
   "id": "bbdacba1",
   "metadata": {
    "execution": {
     "iopub.execute_input": "2022-03-21T18:21:22.061956Z",
     "iopub.status.busy": "2022-03-21T18:21:22.061391Z",
     "iopub.status.idle": "2022-03-21T18:21:22.282952Z",
     "shell.execute_reply": "2022-03-21T18:21:22.282566Z"
    },
    "papermill": {
     "duration": 0.249453,
     "end_time": "2022-03-21T18:21:22.283061",
     "exception": false,
     "start_time": "2022-03-21T18:21:22.033608",
     "status": "completed"
    },
    "tags": []
   },
   "outputs": [
    {
     "name": "stdout",
     "output_type": "stream",
     "text": [
      "(2, 256)\n"
     ]
    }
   ],
   "source": [
    "###################################\n",
    "# Build the model\n",
    "###################################\n",
    "# easfsl only wants a tuple for the shape\n",
    "model = Steves_Prototypical_Network(x_net, device=p.device, x_shape=tuple(p.x_shape))\n",
    "optimizer = Adam(params=model.parameters(), lr=p.lr)"
   ]
  },
  {
   "cell_type": "code",
   "execution_count": 22,
   "id": "22b39ac5",
   "metadata": {
    "execution": {
     "iopub.execute_input": "2022-03-21T18:21:22.340479Z",
     "iopub.status.busy": "2022-03-21T18:21:22.340105Z",
     "iopub.status.idle": "2022-03-21T18:44:32.177815Z",
     "shell.execute_reply": "2022-03-21T18:44:32.177429Z"
    },
    "papermill": {
     "duration": 1389.871893,
     "end_time": "2022-03-21T18:44:32.177899",
     "exception": false,
     "start_time": "2022-03-21T18:21:22.306006",
     "status": "completed"
    },
    "tags": []
   },
   "outputs": [
    {
     "name": "stdout",
     "output_type": "stream",
     "text": [
      "epoch: 1, [batch: 1 / 6720], examples_per_second: 33.3417, train_label_loss: 2.9158, \n"
     ]
    },
    {
     "name": "stdout",
     "output_type": "stream",
     "text": [
      "epoch: 1, [batch: 672 / 6720], examples_per_second: 2297.8291, train_label_loss: 1.6906, \n"
     ]
    },
    {
     "name": "stdout",
     "output_type": "stream",
     "text": [
      "epoch: 1, [batch: 1344 / 6720], examples_per_second: 2296.3791, train_label_loss: 0.7525, \n"
     ]
    },
    {
     "name": "stdout",
     "output_type": "stream",
     "text": [
      "epoch: 1, [batch: 2016 / 6720], examples_per_second: 2326.8188, train_label_loss: 0.7658, \n"
     ]
    },
    {
     "name": "stdout",
     "output_type": "stream",
     "text": [
      "epoch: 1, [batch: 2688 / 6720], examples_per_second: 2396.8179, train_label_loss: 0.5707, \n"
     ]
    },
    {
     "name": "stdout",
     "output_type": "stream",
     "text": [
      "epoch: 1, [batch: 3360 / 6720], examples_per_second: 2560.9330, train_label_loss: 0.4608, \n"
     ]
    },
    {
     "name": "stdout",
     "output_type": "stream",
     "text": [
      "epoch: 1, [batch: 4032 / 6720], examples_per_second: 2614.5370, train_label_loss: 0.6100, \n"
     ]
    },
    {
     "name": "stdout",
     "output_type": "stream",
     "text": [
      "epoch: 1, [batch: 4704 / 6720], examples_per_second: 2535.9797, train_label_loss: 0.4145, \n"
     ]
    },
    {
     "name": "stdout",
     "output_type": "stream",
     "text": [
      "epoch: 1, [batch: 5376 / 6720], examples_per_second: 2609.7107, train_label_loss: 0.6067, \n"
     ]
    },
    {
     "name": "stdout",
     "output_type": "stream",
     "text": [
      "epoch: 1, [batch: 6048 / 6720], examples_per_second: 2654.9425, train_label_loss: 0.6282, \n"
     ]
    },
    {
     "name": "stdout",
     "output_type": "stream",
     "text": [
      "=============================================================\n",
      "epoch: 1, source_val_acc_label: 0.7371, target_val_acc_label: 0.5216, source_val_label_loss: 0.8605, target_val_label_loss: 11.7445, \n",
      "=============================================================\n"
     ]
    },
    {
     "name": "stdout",
     "output_type": "stream",
     "text": [
      "New best\n"
     ]
    },
    {
     "name": "stdout",
     "output_type": "stream",
     "text": [
      "epoch: 2, [batch: 1 / 6720], examples_per_second: 2.0115, train_label_loss: 0.8821, \n"
     ]
    },
    {
     "name": "stdout",
     "output_type": "stream",
     "text": [
      "epoch: 2, [batch: 672 / 6720], examples_per_second: 2561.0569, train_label_loss: 0.7944, \n"
     ]
    },
    {
     "name": "stdout",
     "output_type": "stream",
     "text": [
      "epoch: 2, [batch: 1344 / 6720], examples_per_second: 2612.9492, train_label_loss: 0.4800, \n"
     ]
    },
    {
     "name": "stdout",
     "output_type": "stream",
     "text": [
      "epoch: 2, [batch: 2016 / 6720], examples_per_second: 2648.5279, train_label_loss: 0.5196, \n"
     ]
    },
    {
     "name": "stdout",
     "output_type": "stream",
     "text": [
      "epoch: 2, [batch: 2688 / 6720], examples_per_second: 2868.7209, train_label_loss: 0.5800, \n"
     ]
    },
    {
     "name": "stdout",
     "output_type": "stream",
     "text": [
      "epoch: 2, [batch: 3360 / 6720], examples_per_second: 2878.9945, train_label_loss: 0.2681, \n"
     ]
    },
    {
     "name": "stdout",
     "output_type": "stream",
     "text": [
      "epoch: 2, [batch: 4032 / 6720], examples_per_second: 2893.8930, train_label_loss: 0.5249, \n"
     ]
    },
    {
     "name": "stdout",
     "output_type": "stream",
     "text": [
      "epoch: 2, [batch: 4704 / 6720], examples_per_second: 3203.3213, train_label_loss: 0.4382, \n"
     ]
    },
    {
     "name": "stdout",
     "output_type": "stream",
     "text": [
      "epoch: 2, [batch: 5376 / 6720], examples_per_second: 3266.0219, train_label_loss: 0.8692, \n"
     ]
    },
    {
     "name": "stdout",
     "output_type": "stream",
     "text": [
      "epoch: 2, [batch: 6048 / 6720], examples_per_second: 3361.9639, train_label_loss: 0.1643, \n"
     ]
    },
    {
     "name": "stdout",
     "output_type": "stream",
     "text": [
      "=============================================================\n",
      "epoch: 2, source_val_acc_label: 0.8493, target_val_acc_label: 0.6173, source_val_label_loss: 0.4192, target_val_label_loss: 9.1356, \n",
      "=============================================================\n"
     ]
    },
    {
     "name": "stdout",
     "output_type": "stream",
     "text": [
      "New best\n"
     ]
    },
    {
     "name": "stdout",
     "output_type": "stream",
     "text": [
      "epoch: 3, [batch: 1 / 6720], examples_per_second: 2.6197, train_label_loss: 0.7303, \n"
     ]
    },
    {
     "name": "stdout",
     "output_type": "stream",
     "text": [
      "epoch: 3, [batch: 672 / 6720], examples_per_second: 3007.0477, train_label_loss: 0.3095, \n"
     ]
    },
    {
     "name": "stdout",
     "output_type": "stream",
     "text": [
      "epoch: 3, [batch: 1344 / 6720], examples_per_second: 3434.6556, train_label_loss: 0.1463, \n"
     ]
    },
    {
     "name": "stdout",
     "output_type": "stream",
     "text": [
      "epoch: 3, [batch: 2016 / 6720], examples_per_second: 3374.9570, train_label_loss: 0.1486, \n"
     ]
    },
    {
     "name": "stdout",
     "output_type": "stream",
     "text": [
      "epoch: 3, [batch: 2688 / 6720], examples_per_second: 3321.1984, train_label_loss: 0.5604, \n"
     ]
    },
    {
     "name": "stdout",
     "output_type": "stream",
     "text": [
      "epoch: 3, [batch: 3360 / 6720], examples_per_second: 3376.5204, train_label_loss: 0.3632, \n"
     ]
    },
    {
     "name": "stdout",
     "output_type": "stream",
     "text": [
      "epoch: 3, [batch: 4032 / 6720], examples_per_second: 3402.5339, train_label_loss: 0.3847, \n"
     ]
    },
    {
     "name": "stdout",
     "output_type": "stream",
     "text": [
      "epoch: 3, [batch: 4704 / 6720], examples_per_second: 3676.8078, train_label_loss: 0.5121, \n"
     ]
    },
    {
     "name": "stdout",
     "output_type": "stream",
     "text": [
      "epoch: 3, [batch: 5376 / 6720], examples_per_second: 3839.3743, train_label_loss: 0.4388, \n"
     ]
    },
    {
     "name": "stdout",
     "output_type": "stream",
     "text": [
      "epoch: 3, [batch: 6048 / 6720], examples_per_second: 3738.3686, train_label_loss: 0.5540, \n"
     ]
    },
    {
     "name": "stdout",
     "output_type": "stream",
     "text": [
      "=============================================================\n",
      "epoch: 3, source_val_acc_label: 0.8705, target_val_acc_label: 0.5728, source_val_label_loss: 0.3597, target_val_label_loss: 11.1860, \n",
      "=============================================================\n"
     ]
    },
    {
     "name": "stdout",
     "output_type": "stream",
     "text": [
      "epoch: 4, [batch: 1 / 6720], examples_per_second: 2.7637, train_label_loss: 0.3347, \n"
     ]
    },
    {
     "name": "stdout",
     "output_type": "stream",
     "text": [
      "epoch: 4, [batch: 672 / 6720], examples_per_second: 2570.9336, train_label_loss: 0.2674, \n"
     ]
    },
    {
     "name": "stdout",
     "output_type": "stream",
     "text": [
      "epoch: 4, [batch: 1344 / 6720], examples_per_second: 2595.7450, train_label_loss: 0.4443, \n"
     ]
    },
    {
     "name": "stdout",
     "output_type": "stream",
     "text": [
      "epoch: 4, [batch: 2016 / 6720], examples_per_second: 2622.8481, train_label_loss: 0.2160, \n"
     ]
    },
    {
     "name": "stdout",
     "output_type": "stream",
     "text": [
      "epoch: 4, [batch: 2688 / 6720], examples_per_second: 2575.7067, train_label_loss: 0.2914, \n"
     ]
    },
    {
     "name": "stdout",
     "output_type": "stream",
     "text": [
      "epoch: 4, [batch: 3360 / 6720], examples_per_second: 2543.0661, train_label_loss: 0.5004, \n"
     ]
    },
    {
     "name": "stdout",
     "output_type": "stream",
     "text": [
      "epoch: 4, [batch: 4032 / 6720], examples_per_second: 2605.3840, train_label_loss: 0.2522, \n"
     ]
    },
    {
     "name": "stdout",
     "output_type": "stream",
     "text": [
      "epoch: 4, [batch: 4704 / 6720], examples_per_second: 2886.7049, train_label_loss: 0.7549, \n"
     ]
    },
    {
     "name": "stdout",
     "output_type": "stream",
     "text": [
      "epoch: 4, [batch: 5376 / 6720], examples_per_second: 3075.7921, train_label_loss: 0.4467, \n"
     ]
    },
    {
     "name": "stdout",
     "output_type": "stream",
     "text": [
      "epoch: 4, [batch: 6048 / 6720], examples_per_second: 3580.4307, train_label_loss: 0.2767, \n"
     ]
    },
    {
     "name": "stdout",
     "output_type": "stream",
     "text": [
      "=============================================================\n",
      "epoch: 4, source_val_acc_label: 0.8868, target_val_acc_label: 0.5611, source_val_label_loss: 0.3174, target_val_label_loss: 11.5241, \n",
      "=============================================================\n"
     ]
    },
    {
     "name": "stdout",
     "output_type": "stream",
     "text": [
      "epoch: 5, [batch: 1 / 6720], examples_per_second: 3.0919, train_label_loss: 0.2611, \n"
     ]
    },
    {
     "name": "stdout",
     "output_type": "stream",
     "text": [
      "epoch: 5, [batch: 672 / 6720], examples_per_second: 2969.3786, train_label_loss: 0.3036, \n"
     ]
    },
    {
     "name": "stdout",
     "output_type": "stream",
     "text": [
      "epoch: 5, [batch: 1344 / 6720], examples_per_second: 2977.0414, train_label_loss: 0.3091, \n"
     ]
    },
    {
     "name": "stdout",
     "output_type": "stream",
     "text": [
      "epoch: 5, [batch: 2016 / 6720], examples_per_second: 2959.7261, train_label_loss: 0.0568, \n"
     ]
    },
    {
     "name": "stdout",
     "output_type": "stream",
     "text": [
      "epoch: 5, [batch: 2688 / 6720], examples_per_second: 2996.8142, train_label_loss: 0.3404, \n"
     ]
    },
    {
     "name": "stdout",
     "output_type": "stream",
     "text": [
      "epoch: 5, [batch: 3360 / 6720], examples_per_second: 2991.6144, train_label_loss: 0.1583, \n"
     ]
    },
    {
     "name": "stdout",
     "output_type": "stream",
     "text": [
      "epoch: 5, [batch: 4032 / 6720], examples_per_second: 2988.8542, train_label_loss: 0.1846, \n"
     ]
    },
    {
     "name": "stdout",
     "output_type": "stream",
     "text": [
      "epoch: 5, [batch: 4704 / 6720], examples_per_second: 3338.2398, train_label_loss: 0.2212, \n"
     ]
    },
    {
     "name": "stdout",
     "output_type": "stream",
     "text": [
      "epoch: 5, [batch: 5376 / 6720], examples_per_second: 3452.7550, train_label_loss: 0.1144, \n"
     ]
    },
    {
     "name": "stdout",
     "output_type": "stream",
     "text": [
      "epoch: 5, [batch: 6048 / 6720], examples_per_second: 3607.1721, train_label_loss: 0.2895, \n"
     ]
    },
    {
     "name": "stdout",
     "output_type": "stream",
     "text": [
      "=============================================================\n",
      "epoch: 5, source_val_acc_label: 0.8902, target_val_acc_label: 0.5311, source_val_label_loss: 0.3055, target_val_label_loss: 17.1122, \n",
      "=============================================================\n"
     ]
    },
    {
     "name": "stdout",
     "output_type": "stream",
     "text": [
      "epoch: 6, [batch: 1 / 6720], examples_per_second: 3.0639, train_label_loss: 0.4987, \n"
     ]
    },
    {
     "name": "stdout",
     "output_type": "stream",
     "text": [
      "epoch: 6, [batch: 672 / 6720], examples_per_second: 2941.2335, train_label_loss: 0.3811, \n"
     ]
    },
    {
     "name": "stdout",
     "output_type": "stream",
     "text": [
      "epoch: 6, [batch: 1344 / 6720], examples_per_second: 2968.9767, train_label_loss: 0.2110, \n"
     ]
    },
    {
     "name": "stdout",
     "output_type": "stream",
     "text": [
      "epoch: 6, [batch: 2016 / 6720], examples_per_second: 2973.7862, train_label_loss: 0.2234, \n"
     ]
    },
    {
     "name": "stdout",
     "output_type": "stream",
     "text": [
      "epoch: 6, [batch: 2688 / 6720], examples_per_second: 2732.3386, train_label_loss: 0.2814, \n"
     ]
    },
    {
     "name": "stdout",
     "output_type": "stream",
     "text": [
      "epoch: 6, [batch: 3360 / 6720], examples_per_second: 2321.1135, train_label_loss: 0.2072, \n"
     ]
    },
    {
     "name": "stdout",
     "output_type": "stream",
     "text": [
      "epoch: 6, [batch: 4032 / 6720], examples_per_second: 2320.1650, train_label_loss: 0.3780, \n"
     ]
    },
    {
     "name": "stdout",
     "output_type": "stream",
     "text": [
      "epoch: 6, [batch: 4704 / 6720], examples_per_second: 2524.7819, train_label_loss: 0.3745, \n"
     ]
    },
    {
     "name": "stdout",
     "output_type": "stream",
     "text": [
      "epoch: 6, [batch: 5376 / 6720], examples_per_second: 2582.4406, train_label_loss: 0.0484, \n"
     ]
    },
    {
     "name": "stdout",
     "output_type": "stream",
     "text": [
      "epoch: 6, [batch: 6048 / 6720], examples_per_second: 2792.4178, train_label_loss: 0.6538, \n"
     ]
    },
    {
     "name": "stdout",
     "output_type": "stream",
     "text": [
      "=============================================================\n",
      "epoch: 6, source_val_acc_label: 0.8889, target_val_acc_label: 0.5113, source_val_label_loss: 0.3091, target_val_label_loss: 19.1759, \n",
      "=============================================================\n"
     ]
    },
    {
     "name": "stdout",
     "output_type": "stream",
     "text": [
      "Patience (3) exhausted\n"
     ]
    }
   ],
   "source": [
    "###################################\n",
    "# train\n",
    "###################################\n",
    "jig = PTN_Train_Eval_Test_Jig(model, p.BEST_MODEL_PATH, p.device)\n",
    "\n",
    "jig.train(\n",
    "    train_iterable=datasets.source.processed.train,\n",
    "    source_val_iterable=datasets.source.processed.val,\n",
    "    target_val_iterable=datasets.target.processed.val,\n",
    "    num_epochs=p.n_epoch,\n",
    "    num_logs_per_epoch=p.NUM_LOGS_PER_EPOCH,\n",
    "    patience=p.patience,\n",
    "    optimizer=optimizer,\n",
    "    criteria_for_best=p.criteria_for_best,\n",
    ")"
   ]
  },
  {
   "cell_type": "code",
   "execution_count": 23,
   "id": "31e8fabf",
   "metadata": {
    "execution": {
     "iopub.execute_input": "2022-03-21T18:44:32.271426Z",
     "iopub.status.busy": "2022-03-21T18:44:32.270860Z",
     "iopub.status.idle": "2022-03-21T18:44:32.301327Z",
     "shell.execute_reply": "2022-03-21T18:44:32.300517Z"
    },
    "papermill": {
     "duration": 0.077722,
     "end_time": "2022-03-21T18:44:32.301484",
     "exception": false,
     "start_time": "2022-03-21T18:44:32.223762",
     "status": "completed"
    },
    "tags": []
   },
   "outputs": [],
   "source": [
    "total_experiment_time_secs = time.time() - start_time_secs"
   ]
  },
  {
   "cell_type": "code",
   "execution_count": 24,
   "id": "87b9595b",
   "metadata": {
    "execution": {
     "iopub.execute_input": "2022-03-21T18:44:32.401920Z",
     "iopub.status.busy": "2022-03-21T18:44:32.401205Z",
     "iopub.status.idle": "2022-03-21T18:49:08.457359Z",
     "shell.execute_reply": "2022-03-21T18:49:08.456612Z"
    },
    "papermill": {
     "duration": 276.107252,
     "end_time": "2022-03-21T18:49:08.457546",
     "exception": false,
     "start_time": "2022-03-21T18:44:32.350294",
     "status": "completed"
    },
    "tags": []
   },
   "outputs": [],
   "source": [
    "###################################\n",
    "# Evaluate the model\n",
    "###################################\n",
    "source_test_label_accuracy, source_test_label_loss = jig.test(datasets.source.processed.test)\n",
    "target_test_label_accuracy, target_test_label_loss = jig.test(datasets.target.processed.test)\n",
    "\n",
    "source_val_label_accuracy, source_val_label_loss = jig.test(datasets.source.processed.val)\n",
    "target_val_label_accuracy, target_val_label_loss = jig.test(datasets.target.processed.val)\n",
    "\n",
    "history = jig.get_history()\n",
    "\n",
    "total_epochs_trained = len(history[\"epoch_indices\"])\n",
    "\n",
    "val_dl = Iterable_Aggregator((datasets.source.original.val,datasets.target.original.val))\n",
    "\n",
    "confusion = ptn_confusion_by_domain_over_dataloader(model, p.device, val_dl)\n",
    "per_domain_accuracy = per_domain_accuracy_from_confusion(confusion)\n",
    "\n",
    "# Add a key to per_domain_accuracy for if it was a source domain\n",
    "for domain, accuracy in per_domain_accuracy.items():\n",
    "    per_domain_accuracy[domain] = {\n",
    "        \"accuracy\": accuracy,\n",
    "        \"source?\": domain in p.domains_source\n",
    "    }\n",
    "\n",
    "# Do an independent accuracy assesment JUST TO BE SURE!\n",
    "# _source_test_label_accuracy = independent_accuracy_assesment(model, datasets.source.processed.test, p.device)\n",
    "# _target_test_label_accuracy = independent_accuracy_assesment(model, datasets.target.processed.test, p.device)\n",
    "# _source_val_label_accuracy = independent_accuracy_assesment(model, datasets.source.processed.val, p.device)\n",
    "# _target_val_label_accuracy = independent_accuracy_assesment(model, datasets.target.processed.val, p.device)\n",
    "\n",
    "# assert(_source_test_label_accuracy == source_test_label_accuracy)\n",
    "# assert(_target_test_label_accuracy == target_test_label_accuracy)\n",
    "# assert(_source_val_label_accuracy == source_val_label_accuracy)\n",
    "# assert(_target_val_label_accuracy == target_val_label_accuracy)\n",
    "\n",
    "experiment = {\n",
    "    \"experiment_name\": p.experiment_name,\n",
    "    \"parameters\": dict(p),\n",
    "    \"results\": {\n",
    "        \"source_test_label_accuracy\": source_test_label_accuracy,\n",
    "        \"source_test_label_loss\": source_test_label_loss,\n",
    "        \"target_test_label_accuracy\": target_test_label_accuracy,\n",
    "        \"target_test_label_loss\": target_test_label_loss,\n",
    "        \"source_val_label_accuracy\": source_val_label_accuracy,\n",
    "        \"source_val_label_loss\": source_val_label_loss,\n",
    "        \"target_val_label_accuracy\": target_val_label_accuracy,\n",
    "        \"target_val_label_loss\": target_val_label_loss,\n",
    "        \"total_epochs_trained\": total_epochs_trained,\n",
    "        \"total_experiment_time_secs\": total_experiment_time_secs,\n",
    "        \"confusion\": confusion,\n",
    "        \"per_domain_accuracy\": per_domain_accuracy,\n",
    "    },\n",
    "    \"history\": history,\n",
    "    \"dataset_metrics\": get_dataset_metrics(datasets, \"ptn\"),\n",
    "}"
   ]
  },
  {
   "cell_type": "code",
   "execution_count": 25,
   "id": "54a21829",
   "metadata": {
    "execution": {
     "iopub.execute_input": "2022-03-21T18:49:08.551968Z",
     "iopub.status.busy": "2022-03-21T18:49:08.551257Z",
     "iopub.status.idle": "2022-03-21T18:49:08.781861Z",
     "shell.execute_reply": "2022-03-21T18:49:08.782556Z"
    },
    "papermill": {
     "duration": 0.27943,
     "end_time": "2022-03-21T18:49:08.782776",
     "exception": false,
     "start_time": "2022-03-21T18:49:08.503346",
     "status": "completed"
    },
    "tags": []
   },
   "outputs": [
    {
     "data": {
      "image/png": "[encoded data removed]",
      "text/plain": [
       "<Figure size 1080x504 with 1 Axes>"
      ]
     },
     "metadata": {
      "needs_background": "light"
     },
     "output_type": "display_data"
    }
   ],
   "source": [
    "ax = get_loss_curve(experiment)\n",
    "plt.show()"
   ]
  },
  {
   "cell_type": "code",
   "execution_count": 26,
   "id": "fd8a0f60",
   "metadata": {
    "execution": {
     "iopub.execute_input": "2022-03-21T18:49:08.878210Z",
     "iopub.status.busy": "2022-03-21T18:49:08.877826Z",
     "iopub.status.idle": "2022-03-21T18:49:09.213734Z",
     "shell.execute_reply": "2022-03-21T18:49:09.214428Z"
    },
    "papermill": {
     "duration": 0.384459,
     "end_time": "2022-03-21T18:49:09.214647",
     "exception": false,
     "start_time": "2022-03-21T18:49:08.830188",
     "status": "completed"
    },
    "tags": []
   },
   "outputs": [
    {
     "data": {
      "text/plain": [
       "<AxesSubplot:title={'center':'Results'}>"
      ]
     },
     "execution_count": 26,
     "metadata": {},
     "output_type": "execute_result"
    },
    {
     "data": {
      "image/png": "[encoded data removed]",
      "text/plain": [
       "<Figure size 1080x504 with 1 Axes>"
      ]
     },
     "metadata": {
      "needs_background": "light"
     },
     "output_type": "display_data"
    }
   ],
   "source": [
    "get_results_table(experiment)"
   ]
  },
  {
   "cell_type": "code",
   "execution_count": 27,
   "id": "cf8dc689",
   "metadata": {
    "execution": {
     "iopub.execute_input": "2022-03-21T18:49:09.314588Z",
     "iopub.status.busy": "2022-03-21T18:49:09.314205Z",
     "iopub.status.idle": "2022-03-21T18:49:09.568027Z",
     "shell.execute_reply": "2022-03-21T18:49:09.568616Z"
    },
    "papermill": {
     "duration": 0.303859,
     "end_time": "2022-03-21T18:49:09.568793",
     "exception": false,
     "start_time": "2022-03-21T18:49:09.264934",
     "status": "completed"
    },
    "tags": []
   },
   "outputs": [
    {
     "data": {
      "text/plain": [
       "<AxesSubplot:title={'center':'Per Domain Validation Accuracy'}, xlabel='domain'>"
      ]
     },
     "execution_count": 27,
     "metadata": {},
     "output_type": "execute_result"
    },
    {
     "data": {
      "image/png": "[encoded data removed]",
      "text/plain": [
       "<Figure size 1080x504 with 1 Axes>"
      ]
     },
     "metadata": {
      "needs_background": "light"
     },
     "output_type": "display_data"
    }
   ],
   "source": [
    "get_domain_accuracies(experiment)"
   ]
  },
  {
   "cell_type": "code",
   "execution_count": 28,
   "id": "a74ae082",
   "metadata": {
    "execution": {
     "iopub.execute_input": "2022-03-21T18:49:09.669571Z",
     "iopub.status.busy": "2022-03-21T18:49:09.669180Z",
     "iopub.status.idle": "2022-03-21T18:49:09.697871Z",
     "shell.execute_reply": "2022-03-21T18:49:09.697118Z"
    },
    "papermill": {
     "duration": 0.078925,
     "end_time": "2022-03-21T18:49:09.698056",
     "exception": false,
     "start_time": "2022-03-21T18:49:09.619131",
     "status": "completed"
    },
    "tags": []
   },
   "outputs": [
    {
     "name": "stdout",
     "output_type": "stream",
     "text": [
      "Source Test Label Accuracy: 0.8516927083333333 Target Test Label Accuracy: 0.6106838159255429\n",
      "Source Val Label Accuracy: 0.8493489583333333 Target Val Label Accuracy: 0.6173193565400844\n"
     ]
    }
   ],
   "source": [
    "print(\"Source Test Label Accuracy:\", experiment[\"results\"][\"source_test_label_accuracy\"], \"Target Test Label Accuracy:\", experiment[\"results\"][\"target_test_label_accuracy\"])\n",
    "print(\"Source Val Label Accuracy:\", experiment[\"results\"][\"source_val_label_accuracy\"], \"Target Val Label Accuracy:\", experiment[\"results\"][\"target_val_label_accuracy\"])"
   ]
  },
  {
   "cell_type": "code",
   "execution_count": 29,
   "id": "dacca602",
   "metadata": {
    "execution": {
     "iopub.execute_input": "2022-03-21T18:49:09.798559Z",
     "iopub.status.busy": "2022-03-21T18:49:09.798184Z",
     "iopub.status.idle": "2022-03-21T18:49:09.832217Z",
     "shell.execute_reply": "2022-03-21T18:49:09.832896Z"
    },
    "papermill": {
     "duration": 0.08341,
     "end_time": "2022-03-21T18:49:09.833126",
     "exception": false,
     "start_time": "2022-03-21T18:49:09.749716",
     "status": "completed"
    },
    "tags": [
     "experiment_json"
    ]
   },
   "outputs": [
    {
     "data": {
      "text/plain": [
       "'{\"experiment_name\": \"tl_1v2:wisig-oracle.run1.framed\", \"parameters\": {\"experiment_name\": \"tl_1v2:wisig-oracle.run1.framed\", \"device\": \"cuda\", \"lr\": 0.0001, \"n_shot\": 3, \"n_query\": 2, \"train_k_factor\": 3, \"val_k_factor\": 2, \"test_k_factor\": 2, \"torch_default_dtype\": \"torch.float32\", \"n_epoch\": 50, \"patience\": 3, \"criteria_for_best\": \"target_accuracy\", \"x_net\": [{\"class\": \"nnReshape\", \"kargs\": {\"shape\": [-1, 1, 2, 256]}}, {\"class\": \"Conv2d\", \"kargs\": {\"in_channels\": 1, \"out_channels\": 256, \"kernel_size\": [1, 7], \"bias\": false, \"padding\": [0, 3]}}, {\"class\": \"ReLU\", \"kargs\": {\"inplace\": true}}, {\"class\": \"BatchNorm2d\", \"kargs\": {\"num_features\": 256}}, {\"class\": \"Conv2d\", \"kargs\": {\"in_channels\": 256, \"out_channels\": 80, \"kernel_size\": [2, 7], \"bias\": true, \"padding\": [0, 3]}}, {\"class\": \"ReLU\", \"kargs\": {\"inplace\": true}}, {\"class\": \"BatchNorm2d\", \"kargs\": {\"num_features\": 80}}, {\"class\": \"Flatten\", \"kargs\": {}}, {\"class\": \"Linear\", \"kargs\": {\"in_features\": 20480, \"out_features\": 256}}, {\"class\": \"ReLU\", \"kargs\": {\"inplace\": true}}, {\"class\": \"BatchNorm1d\", \"kargs\": {\"num_features\": 256}}, {\"class\": \"Linear\", \"kargs\": {\"in_features\": 256, \"out_features\": 256}}], \"NUM_LOGS_PER_EPOCH\": 10, \"BEST_MODEL_PATH\": \"./best_model.pth\", \"n_way\": 16, \"datasets\": [{\"labels\": [\"1-10\", \"1-12\", \"1-14\", \"1-16\", \"1-18\", \"1-19\", \"1-8\", \"10-11\", \"10-17\", \"10-4\", \"10-7\", \"11-1\", \"11-10\", \"11-19\", \"11-20\", \"11-4\", \"11-7\", \"12-19\", \"12-20\", \"12-7\", \"13-14\", \"13-18\", \"13-19\", \"13-20\", \"13-3\", \"13-7\", \"14-10\", \"14-11\", \"14-12\", \"14-13\", \"14-14\", \"14-19\", \"14-20\", \"14-7\", \"14-8\", \"14-9\", \"15-1\", \"15-19\", \"15-6\", \"16-1\", \"16-16\", \"16-19\", \"16-20\", \"17-10\", \"17-11\", \"18-1\", \"18-10\", \"18-11\", \"18-12\", \"18-13\", \"18-14\", \"18-15\", \"18-16\", \"18-17\", \"18-19\", \"18-2\", \"18-20\", \"18-4\", \"18-5\", \"18-7\", \"18-8\", \"18-9\", \"19-1\", \"19-10\", \"19-11\", \"19-12\", \"19-13\", \"19-14\", \"19-15\", \"19-19\", \"19-2\", \"19-20\", \"19-3\", \"19-4\", \"19-6\", \"19-7\", \"19-8\", \"19-9\", \"2-1\", \"2-13\", \"2-15\", \"2-3\", \"2-4\", \"2-5\", \"2-6\", \"2-7\", \"2-8\", \"20-1\", \"20-12\", \"20-14\", \"20-15\", \"20-16\", \"20-18\", \"20-19\", \"20-20\", \"20-3\", \"20-4\", \"20-5\", \"20-7\", \"20-8\", \"3-1\", \"3-13\", \"3-18\", \"3-2\", \"3-8\", \"4-1\", \"4-10\", \"4-11\", \"5-1\", \"5-5\", \"6-1\", \"6-15\", \"6-6\", \"7-10\", \"7-11\", \"7-12\", \"7-13\", \"7-14\", \"7-7\", \"7-8\", \"7-9\", \"8-1\", \"8-13\", \"8-14\", \"8-18\", \"8-20\", \"8-3\", \"8-8\", \"9-1\", \"9-7\"], \"domains\": [1, 2, 3, 4], \"num_examples_per_domain_per_label\": -1, \"pickle_path\": \"/root/csc500-main/datasets/wisig.node3-19.stratified_ds.2022A.pkl\", \"source_or_target_dataset\": \"target\", \"x_transforms\": [\"unit_power\"], \"episode_transforms\": [], \"domain_prefix\": \"Wisig_\"}, {\"labels\": [\"3123D52\", \"3123D65\", \"3123D79\", \"3123D80\", \"3123D54\", \"3123D70\", \"3123D7B\", \"3123D89\", \"3123D58\", \"3123D76\", \"3123D7D\", \"3123EFE\", \"3123D64\", \"3123D78\", \"3123D7E\", \"3124E4A\"], \"domains\": [32, 38, 8, 44, 14, 50, 20, 26], \"num_examples_per_domain_per_label\": 2000, \"pickle_path\": \"/root/csc500-main/datasets/oracle.Run1_framed_2000Examples_stratified_ds.2022A.pkl\", \"source_or_target_dataset\": \"source\", \"x_transforms\": [\"unit_power\"], \"episode_transforms\": [], \"domain_prefix\": \"ORACLE.run1\"}], \"dataset_seed\": 500, \"seed\": 500, \"x_shape\": [2, 256], \"domains_source\": [\"ORACLE.run132\", \"ORACLE.run138\", \"ORACLE.run18\", \"ORACLE.run144\", \"ORACLE.run114\", \"ORACLE.run150\", \"ORACLE.run120\", \"ORACLE.run126\"], \"domains_target\": [\"Wisig_1\", \"Wisig_2\", \"Wisig_3\", \"Wisig_4\"]}, \"results\": {\"source_test_label_accuracy\": 0.8516927083333333, \"source_test_label_loss\": 0.4173485338687897, \"target_test_label_accuracy\": 0.6106838159255429, \"target_test_label_loss\": 9.04699420928955, \"source_val_label_accuracy\": 0.8493489583333333, \"source_val_label_loss\": 0.4192086458206177, \"target_val_label_accuracy\": 0.6173193565400844, \"target_val_label_loss\": 9.135643005371094, \"total_epochs_trained\": 6, \"total_experiment_time_secs\": 1450.3772234916687, \"confusion\": {\"ORACLE.run150\": {\"7\": {\"13\": 27, \"7\": 195, \"5\": 10, \"10\": 4, \"6\": 4}, \"10\": {\"10\": 236, \"13\": 1, \"8\": 1, \"0\": 2}, \"0\": {\"0\": 220, \"2\": 16, \"10\": 4}, \"11\": {\"11\": 229, \"15\": 9, \"9\": 2}, \"2\": {\"2\": 224, \"0\": 16}, \"14\": {\"14\": 240}, \"9\": {\"9\": 229, \"11\": 8, \"12\": 3}, \"13\": {\"7\": 11, \"13\": 202, \"5\": 13, \"10\": 3, \"6\": 9, \"0\": 1, \"4\": 1}, \"8\": {\"8\": 240}, \"15\": {\"15\": 213, \"1\": 17, \"4\": 7, \"6\": 2, \"11\": 1}, \"4\": {\"4\": 144, \"5\": 42, \"15\": 16, \"1\": 27, \"13\": 5, \"6\": 4, \"7\": 1, \"11\": 1}, \"5\": {\"4\": 35, \"13\": 36, \"5\": 139, \"6\": 2, \"7\": 17, \"1\": 9, \"15\": 1, \"10\": 1}, \"3\": {\"3\": 240}, \"1\": {\"1\": 178, \"4\": 20, \"15\": 31, \"5\": 4, \"13\": 1, \"6\": 5, \"11\": 1}, \"6\": {\"1\": 4, \"6\": 223, \"13\": 7, \"7\": 2, \"4\": 2, \"5\": 2}, \"12\": {\"12\": 231, \"11\": 6, \"9\": 2, \"14\": 1}}, \"ORACLE.run114\": {\"14\": {\"14\": 223, \"2\": 15, \"13\": 2}, \"6\": {\"6\": 187, \"13\": 48, \"2\": 3, \"14\": 2}, \"5\": {\"5\": 191, \"4\": 28, \"2\": 5, \"1\": 15, \"3\": 1}, \"15\": {\"15\": 240}, \"11\": {\"11\": 227, \"9\": 12, \"0\": 1}, \"8\": {\"8\": 240}, \"12\": {\"12\": 240}, \"1\": {\"1\": 229, \"5\": 8, \"4\": 3}, \"2\": {\"2\": 159, \"14\": 45, \"6\": 12, \"13\": 3, \"5\": 16, \"3\": 3, \"4\": 2}, \"13\": {\"13\": 132, \"6\": 76, \"4\": 3, \"2\": 11, \"3\": 2, \"14\": 14, \"5\": 2}, \"3\": {\"3\": 234, \"2\": 2, \"4\": 3, \"14\": 1}, \"0\": {\"0\": 237, \"14\": 1, \"3\": 1, \"10\": 1}, \"9\": {\"9\": 240}, \"4\": {\"4\": 216, \"3\": 2, \"5\": 21, \"1\": 1}, \"7\": {\"7\": 240}, \"10\": {\"10\": 240}}, \"ORACLE.run132\": {\"4\": {\"4\": 192, \"5\": 9, \"13\": 4, \"2\": 27, \"7\": 8}, \"14\": {\"14\": 153, \"11\": 60, \"7\": 7, \"5\": 3, \"0\": 16, \"13\": 1}, \"5\": {\"5\": 136, \"4\": 14, \"13\": 26, \"7\": 45, \"2\": 2, \"3\": 10, \"8\": 3, \"14\": 2, \"0\": 2}, \"10\": {\"10\": 240}, \"13\": {\"7\": 6, \"13\": 186, \"5\": 12, \"8\": 10, \"3\": 12, \"4\": 9, \"0\": 5}, \"9\": {\"9\": 240}, \"6\": {\"6\": 240}, \"3\": {\"3\": 232, \"13\": 4, \"5\": 1, \"8\": 3}, \"15\": {\"15\": 240}, \"7\": {\"7\": 183, \"4\": 14, \"5\": 27, \"13\": 2, \"14\": 8, \"2\": 3, \"11\": 1, \"0\": 2}, \"12\": {\"12\": 240}, \"8\": {\"8\": 206, \"13\": 17, \"0\": 11, \"14\": 2, \"5\": 3, \"3\": 1}, \"11\": {\"14\": 31, \"11\": 209}, \"2\": {\"2\": 184, \"4\": 52, \"5\": 1, \"7\": 3}, \"1\": {\"1\": 240}, \"0\": {\"0\": 212, \"8\": 16, \"13\": 3, \"14\": 6, \"7\": 3}}, \"ORACLE.run144\": {\"8\": {\"0\": 74, \"8\": 160, \"5\": 3, \"15\": 3}, \"11\": {\"11\": 237, \"13\": 3}, \"14\": {\"14\": 185, \"4\": 49, \"5\": 1, \"15\": 5}, \"10\": {\"10\": 208, \"1\": 16, \"2\": 13, \"12\": 3}, \"3\": {\"3\": 234, \"1\": 5, \"12\": 1}, \"15\": {\"15\": 206, \"8\": 3, \"14\": 12, \"0\": 15, \"5\": 4}, \"2\": {\"2\": 197, \"7\": 33, \"10\": 8, \"3\": 1, \"1\": 1}, \"12\": {\"12\": 220, \"1\": 20}, \"4\": {\"14\": 67, \"4\": 173}, \"1\": {\"1\": 162, \"12\": 45, \"10\": 15, \"3\": 13, \"2\": 5}, \"0\": {\"0\": 172, \"8\": 56, \"15\": 9, \"5\": 3}, \"9\": {\"6\": 12, \"7\": 70, \"9\": 132, \"13\": 26}, \"5\": {\"5\": 200, \"0\": 17, \"14\": 9, \"8\": 5, \"15\": 8, \"4\": 1}, \"6\": {\"6\": 183, \"13\": 37, \"9\": 16, \"7\": 4}, \"7\": {\"7\": 168, \"9\": 44, \"6\": 5, \"2\": 22, \"1\": 1}, \"13\": {\"13\": 160, \"9\": 28, \"6\": 48, \"11\": 2, \"4\": 1, \"7\": 1}}, \"ORACLE.run18\": {\"13\": {\"13\": 130, \"4\": 28, \"0\": 45, \"10\": 22, \"14\": 7, \"6\": 7, \"7\": 1}, \"3\": {\"3\": 240}, \"15\": {\"12\": 18, \"15\": 222}, \"4\": {\"4\": 198, \"6\": 9, \"13\": 22, \"14\": 11}, \"7\": {\"7\": 199, \"6\": 39, \"13\": 1, \"0\": 1}, \"2\": {\"2\": 228, \"3\": 8, \"7\": 4}, \"1\": {\"1\": 237, \"14\": 2, \"11\": 1}, \"0\": {\"0\": 219, \"13\": 18, \"10\": 1, \"6\": 1, \"7\": 1}, \"12\": {\"15\": 54, \"12\": 178, \"3\": 5, \"8\": 3}, \"6\": {\"6\": 188, \"7\": 33, \"4\": 16, \"13\": 3}, \"11\": {\"11\": 230, \"1\": 10}, \"9\": {\"9\": 240}, \"5\": {\"5\": 225, \"1\": 3, \"10\": 7, \"14\": 5}, \"10\": {\"10\": 215, \"4\": 3, \"5\": 1, \"14\": 10, \"13\": 11}, \"14\": {\"14\": 192, \"4\": 23, \"10\": 16, \"13\": 6, \"1\": 3}, \"8\": {\"8\": 237, \"15\": 3}}, \"ORACLE.run120\": {\"6\": {\"6\": 227, \"14\": 12, \"8\": 1}, \"11\": {\"11\": 240}, \"5\": {\"5\": 208, \"0\": 14, \"15\": 12, \"1\": 2, \"12\": 3, \"4\": 1}, \"14\": {\"14\": 231, \"6\": 7, \"8\": 2}, \"2\": {\"2\": 178, \"9\": 37, \"12\": 11, \"3\": 4, \"7\": 6, \"13\": 2, \"1\": 2}, \"7\": {\"7\": 229, \"2\": 10, \"8\": 1}, \"3\": {\"3\": 161, \"12\": 38, \"2\": 13, \"9\": 23, \"4\": 3, \"7\": 1, \"5\": 1}, \"4\": {\"4\": 237, \"8\": 3}, \"9\": {\"9\": 180, \"12\": 7, \"2\": 27, \"3\": 26}, \"12\": {\"12\": 142, \"1\": 37, \"3\": 38, \"2\": 11, \"5\": 3, \"9\": 9}, \"0\": {\"5\": 30, \"0\": 193, \"15\": 17}, \"10\": {\"10\": 238, \"14\": 1, \"4\": 1}, \"8\": {\"8\": 233, \"14\": 1, \"4\": 6}, \"13\": {\"13\": 235, \"2\": 4, \"15\": 1}, \"1\": {\"1\": 189, \"12\": 32, \"15\": 12, \"0\": 1, \"5\": 3, \"2\": 2, \"3\": 1}, \"15\": {\"13\": 5, \"15\": 203, \"5\": 11, \"0\": 9, \"1\": 11, \"12\": 1}}, \"ORACLE.run138\": {\"3\": {\"3\": 235, \"0\": 2, \"9\": 3}, \"8\": {\"5\": 32, \"8\": 183, \"0\": 14, \"7\": 7, \"15\": 2, \"10\": 2}, \"0\": {\"0\": 162, \"7\": 24, \"8\": 36, \"10\": 4, \"3\": 10, \"5\": 4}, \"2\": {\"2\": 226, \"14\": 11, \"13\": 3}, \"4\": {\"4\": 239, \"12\": 1}, \"7\": {\"7\": 218, \"8\": 11, \"5\": 8, \"0\": 3}, \"12\": {\"12\": 239, \"4\": 1}, \"6\": {\"6\": 233, \"9\": 6, \"5\": 1}, \"15\": {\"15\": 205, \"1\": 20, \"10\": 1, \"5\": 3, \"13\": 8, \"8\": 3}, \"11\": {\"11\": 223, \"14\": 14, \"10\": 1, \"0\": 1, \"4\": 1}, \"9\": {\"9\": 224, \"6\": 16}, \"14\": {\"14\": 234, \"11\": 3, \"2\": 3}, \"10\": {\"10\": 218, \"8\": 7, \"13\": 8, \"14\": 2, \"0\": 1, \"11\": 1, \"7\": 2, \"4\": 1}, \"5\": {\"5\": 145, \"8\": 43, \"7\": 29, \"6\": 6, \"15\": 8, \"0\": 3, \"9\": 6}, \"1\": {\"1\": 238, \"15\": 2}, \"13\": {\"10\": 8, \"13\": 206, \"8\": 1, \"15\": 13, \"1\": 2, \"2\": 6, \"0\": 3, \"5\": 1}}, \"ORACLE.run126\": {\"5\": {\"5\": 204, \"2\": 11, \"15\": 1, \"13\": 22, \"3\": 1, \"9\": 1}, \"8\": {\"4\": 14, \"0\": 14, \"8\": 147, \"7\": 16, \"10\": 45, \"14\": 1, \"15\": 1, \"2\": 2}, \"4\": {\"14\": 71, \"0\": 21, \"4\": 120, \"10\": 11, \"8\": 9, \"1\": 2, \"7\": 6}, \"12\": {\"12\": 240}, \"6\": {\"6\": 212, \"15\": 4, \"10\": 10, \"9\": 11, \"0\": 3}, \"7\": {\"7\": 194, \"2\": 9, \"8\": 8, \"3\": 19, \"4\": 7, \"1\": 2, \"0\": 1}, \"10\": {\"10\": 120, \"14\": 9, \"8\": 28, \"15\": 1, \"0\": 68, \"4\": 10, \"6\": 4}, \"0\": {\"0\": 108, \"4\": 28, \"14\": 29, \"10\": 58, \"8\": 15, \"7\": 2}, \"15\": {\"15\": 155, \"9\": 69, \"6\": 8, \"7\": 1, \"13\": 4, \"2\": 1, \"8\": 2}, \"9\": {\"9\": 165, \"15\": 50, \"6\": 16, \"10\": 3, \"13\": 3, \"8\": 2, \"5\": 1}, \"11\": {\"11\": 240}, \"14\": {\"4\": 61, \"14\": 140, \"7\": 1, \"0\": 24, \"8\": 2, \"1\": 8, \"10\": 4}, \"2\": {\"2\": 119, \"3\": 80, \"15\": 14, \"7\": 10, \"8\": 4, \"5\": 12, \"13\": 1}, \"13\": {\"13\": 192, \"5\": 42, \"2\": 1, \"15\": 4, \"9\": 1}, \"3\": {\"3\": 196, \"7\": 12, \"2\": 32}, \"1\": {\"14\": 11, \"1\": 222, \"4\": 6, \"8\": 1}}, \"Wisig_3\": {\"99\": {\"99\": 30, \"25\": 1, \"128\": 1, \"97\": 1, \"7\": 1, \"127\": 2}, \"8\": {\"8\": 65, \"49\": 1, \"42\": 1, \"127\": 5, \"10\": 2, \"98\": 12, \"12\": 14, \"108\": 2, \"124\": 3, \"7\": 4, \"111\": 6, \"72\": 1, \"35\": 1, \"128\": 1, \"6\": 1, \"52\": 2, \"3\": 1, \"15\": 1, \"0\": 1}, \"65\": {\"18\": 1, \"65\": 8, \"48\": 1, \"7\": 2}, \"117\": {\"117\": 100, \"18\": 2, \"39\": 2, \"126\": 1, \"113\": 2, \"26\": 5}, \"18\": {\"18\": 105, \"33\": 1, \"113\": 4, \"39\": 5, \"126\": 2, \"81\": 2, \"26\": 2, \"93\": 2, \"117\": 1}, \"39\": {\"18\": 13, \"39\": 33, \"123\": 1, \"121\": 1, \"2\": 3, \"11\": 2, \"21\": 3, \"126\": 3, \"67\": 2, \"84\": 2, \"102\": 2, \"117\": 11, \"33\": 3, \"118\": 3, \"109\": 6, \"16\": 2, \"64\": 1, \"113\": 5, \"31\": 1, \"87\": 1, \"93\": 3, \"62\": 2, \"88\": 1, \"26\": 2, \"90\": 2}, \"102\": {\"102\": 107, \"118\": 5, \"16\": 1, \"93\": 5, \"69\": 2, \"33\": 2, \"39\": 1, \"89\": 1}, \"76\": {\"76\": 13, \"29\": 1, \"50\": 2}, \"101\": {\"101\": 34, \"58\": 1, \"59\": 2, \"73\": 2, \"12\": 2, \"111\": 1, \"18\": 1, \"37\": 2, \"51\": 2, \"10\": 2, \"117\": 1, \"30\": 2}, \"57\": {\"57\": 20}, \"86\": {\"86\": 21, \"110\": 2, \"9\": 1, \"99\": 1, \"66\": 1, \"48\": 1, \"26\": 1}, \"11\": {\"102\": 4, \"11\": 38, \"84\": 7, \"107\": 7, \"69\": 6, \"80\": 1, \"50\": 1, \"43\": 1, \"62\": 16, \"33\": 12, \"14\": 2, \"90\": 4, \"44\": 4, \"109\": 4, \"129\": 1, \"87\": 4, \"16\": 9, \"118\": 2, \"93\": 3, \"88\": 2, \"26\": 1, \"120\": 1, \"67\": 1, \"40\": 1}, \"98\": {\"98\": 72, \"30\": 3, \"112\": 1, \"72\": 3, \"56\": 1, \"59\": 2, \"68\": 3, \"8\": 12, \"12\": 12, \"0\": 4, \"6\": 1, \"62\": 1, \"124\": 3, \"111\": 3, \"127\": 1, \"36\": 1, \"83\": 1, \"95\": 1, \"52\": 1, \"15\": 1, \"90\": 1}, \"42\": {\"49\": 1, \"42\": 8, \"24\": 1, \"15\": 1, \"108\": 2, \"127\": 2, \"75\": 1, \"106\": 2, \"97\": 1, \"19\": 1, \"85\": 1, \"83\": 1, \"104\": 1, \"111\": 1, \"71\": 1, \"7\": 1, \"88\": 1, \"70\": 1}, \"47\": {\"49\": 1, \"8\": 1, \"98\": 1, \"47\": 8, \"71\": 1}, \"49\": {\"76\": 2, \"35\": 2, \"20\": 2, \"49\": 4, \"127\": 2, \"87\": 1, \"70\": 1, \"41\": 1, \"50\": 1, \"60\": 1, \"83\": 1, \"68\": 1, \"62\": 1, \"7\": 1, \"78\": 1, \"0\": 1, \"88\": 1}, \"111\": {\"111\": 110, \"12\": 4, \"30\": 5, \"0\": 1, \"8\": 2, \"26\": 1, \"24\": 1, \"97\": 1, \"52\": 1, \"98\": 1, \"15\": 3, \"106\": 2}, \"36\": {\"36\": 61, \"51\": 2, \"24\": 3, \"0\": 3, \"106\": 9, \"30\": 2, \"15\": 4, \"111\": 14, \"94\": 4, \"12\": 1, \"98\": 2, \"125\": 5, \"73\": 1, \"27\": 5}, \"124\": {\"124\": 90, \"112\": 2, \"11\": 1, \"108\": 3, \"3\": 3, \"42\": 2, \"71\": 1, \"5\": 2, \"93\": 1, \"111\": 1}, \"122\": {\"122\": 32, \"129\": 1, \"61\": 1, \"71\": 1, \"9\": 1, \"1\": 2, \"114\": 7, \"110\": 1, \"18\": 2, \"3\": 2, \"60\": 1, \"55\": 2, \"34\": 2, \"62\": 2, \"126\": 1, \"5\": 1, \"26\": 1}, \"93\": {\"89\": 6, \"93\": 74, \"13\": 1, \"33\": 19, \"62\": 7, \"69\": 7, \"118\": 4, \"84\": 2, \"102\": 9, \"109\": 1, \"120\": 1, \"16\": 6, \"88\": 2, \"11\": 2, \"90\": 1}, \"89\": {\"89\": 13, \"69\": 3, \"43\": 1, \"96\": 1, \"93\": 6, \"102\": 1, \"26\": 1, \"92\": 1, \"33\": 1}, \"51\": {\"51\": 16}, \"73\": {\"111\": 2, \"73\": 29, \"42\": 1, \"15\": 2, \"30\": 1, \"8\": 1, \"0\": 1, \"72\": 1, \"24\": 1, \"21\": 1}, \"45\": {\"45\": 12, \"82\": 1, \"14\": 1, \"107\": 1, \"90\": 1}, \"5\": {\"5\": 76, \"18\": 2, \"124\": 4, \"71\": 8, \"105\": 5, \"113\": 2, \"3\": 6, \"126\": 1, \"42\": 1, \"104\": 1, \"4\": 4, \"108\": 2}, \"69\": {\"69\": 60, \"33\": 8, \"16\": 3, \"102\": 4, \"18\": 1, \"118\": 5, \"126\": 1, \"92\": 1, \"44\": 1}, \"26\": {\"26\": 110, \"121\": 1, \"117\": 5, \"2\": 3, \"67\": 1, \"118\": 2, \"113\": 6, \"39\": 1, \"102\": 1}, \"1\": {\"1\": 72, \"114\": 10, \"20\": 2, \"129\": 1, \"22\": 1, \"122\": 2, \"105\": 2, \"110\": 7, \"88\": 1, \"55\": 1, \"5\": 2, \"38\": 1, \"40\": 1, \"60\": 1, \"32\": 2, \"39\": 1, \"87\": 1}, \"92\": {\"93\": 4, \"92\": 12, \"33\": 2, \"82\": 1, \"16\": 2, \"69\": 2, \"39\": 1, \"62\": 2, \"118\": 1, \"64\": 1, \"80\": 1, \"116\": 1, \"11\": 1, \"89\": 1}, \"96\": {\"81\": 1, \"33\": 2, \"96\": 7, \"117\": 3, \"119\": 1, \"21\": 1, \"80\": 1, \"118\": 1, \"26\": 1, \"113\": 1, \"92\": 1}, \"85\": {\"85\": 33, \"124\": 1, \"4\": 1, \"8\": 1}, \"114\": {\"1\": 13, \"114\": 95, \"110\": 4, \"49\": 1, \"16\": 1, \"40\": 2, \"5\": 2, \"20\": 1, \"129\": 1, \"121\": 1, \"4\": 1, \"88\": 1, \"3\": 1, \"108\": 1, \"124\": 1}, \"50\": {\"50\": 15, \"115\": 1}, \"81\": {\"81\": 29, \"63\": 1, \"26\": 1, \"18\": 1}, \"2\": {\"2\": 21, \"92\": 1, \"96\": 2, \"69\": 1, \"117\": 3}, \"33\": {\"33\": 109, \"118\": 3, \"102\": 4, \"93\": 11, \"69\": 10, \"90\": 2, \"16\": 3, \"82\": 2, \"26\": 1, \"39\": 1}, \"31\": {\"116\": 1, \"33\": 2, \"31\": 11, \"80\": 2, \"11\": 1, \"62\": 1, \"14\": 1, \"45\": 1}, \"90\": {\"116\": 1, \"90\": 87, \"62\": 2, \"93\": 2, \"84\": 3, \"87\": 6, \"14\": 1, \"107\": 5, \"26\": 1, \"69\": 2, \"44\": 5, \"33\": 2, \"88\": 1}, \"17\": {\"47\": 2, \"120\": 2, \"43\": 3, \"17\": 2, \"113\": 1, \"105\": 1, \"93\": 2, \"99\": 1, \"21\": 1, \"7\": 1}, \"116\": {\"33\": 4, \"1\": 2, \"116\": 11, \"84\": 1, \"109\": 2, \"113\": 1, \"62\": 2, \"40\": 1, \"69\": 1, \"29\": 1, \"45\": 1, \"82\": 1}, \"91\": {\"91\": 19, \"37\": 1, \"68\": 2, \"31\": 1, \"30\": 1}, \"120\": {\"120\": 20}, \"128\": {\"74\": 2, \"91\": 1, \"128\": 9, \"68\": 1, \"48\": 2, \"22\": 1, \"110\": 2, \"4\": 1, \"127\": 2, \"55\": 3, \"1\": 1, \"95\": 1, \"99\": 2, \"70\": 2, \"10\": 1, \"108\": 1}, \"78\": {\"74\": 1, \"17\": 1, \"78\": 3, \"40\": 1, \"113\": 3, \"87\": 1, \"32\": 2, \"64\": 1, \"116\": 1, \"39\": 1, \"49\": 1}, \"58\": {\"58\": 12, \"30\": 2, \"35\": 2}, \"23\": {\"9\": 1, \"11\": 1, \"68\": 2, \"120\": 1, \"42\": 1, \"19\": 1, \"91\": 1, \"121\": 1, \"7\": 3, \"117\": 3, \"126\": 3, \"81\": 1, \"109\": 1, \"127\": 2, \"123\": 2, \"13\": 1, \"43\": 2, \"105\": 1, \"112\": 1, \"118\": 1, \"71\": 1, \"93\": 1}, \"15\": {\"97\": 2, \"15\": 60, \"123\": 1, \"128\": 1, \"72\": 2, \"58\": 1, \"12\": 6, \"36\": 4, \"24\": 1, \"125\": 2, \"30\": 1, \"94\": 8, \"98\": 3, \"111\": 5, \"106\": 1, \"52\": 1, \"73\": 1, \"6\": 2, \"101\": 1, \"26\": 1}, \"74\": {\"74\": 16}, \"34\": {\"128\": 1, \"97\": 4, \"20\": 1, \"51\": 1, \"34\": 7, \"101\": 1, \"6\": 5, \"60\": 1, \"106\": 2, \"74\": 1, \"110\": 2, \"62\": 1, \"15\": 2, \"23\": 1, \"114\": 1, \"94\": 1}, \"103\": {\"103\": 11, \"9\": 1, \"46\": 1, \"19\": 1, \"71\": 1, \"86\": 1}, \"106\": {\"106\": 70, \"27\": 5, \"73\": 4, \"125\": 3, \"111\": 5, \"30\": 3, \"15\": 3, \"36\": 2, \"97\": 2, \"72\": 1, \"108\": 2}, \"44\": {\"44\": 54, \"80\": 1, \"29\": 2, \"82\": 1, \"64\": 1, \"90\": 2, \"62\": 2, \"107\": 3, \"40\": 2, \"50\": 1, \"32\": 1, \"118\": 1, \"69\": 1}, \"9\": {\"9\": 20, \"128\": 1, \"105\": 4, \"101\": 1, \"122\": 1, \"127\": 2, \"80\": 1, \"86\": 1, \"55\": 1}, \"97\": {\"97\": 17, \"15\": 1, \"37\": 1, \"59\": 1}, \"123\": {\"43\": 2, \"123\": 10, \"106\": 1, \"61\": 1, \"18\": 1, \"83\": 1}, \"6\": {\"6\": 27, \"90\": 1, \"98\": 2, \"111\": 1, \"125\": 1}, \"68\": {\"68\": 15, \"30\": 1}, \"24\": {\"68\": 1, \"15\": 4, \"56\": 1, \"24\": 13, \"42\": 1, \"7\": 1, \"12\": 6, \"83\": 2, \"127\": 3, \"98\": 2, \"8\": 1, \"36\": 3, \"97\": 1, \"34\": 1, \"37\": 1, \"25\": 1, \"73\": 1, \"30\": 1, \"35\": 1, \"94\": 2, \"111\": 1}, \"21\": {\"21\": 26, \"11\": 4, \"39\": 1, \"41\": 1, \"81\": 1, \"93\": 1, \"109\": 2, \"113\": 1, \"126\": 1, \"43\": 1, \"116\": 1, \"64\": 2, \"31\": 1, \"118\": 1, \"15\": 1, \"18\": 1, \"26\": 1, \"16\": 1}, \"83\": {\"83\": 20, \"118\": 1, \"106\": 1, \"61\": 1, \"47\": 1}, \"60\": {\"60\": 8, \"48\": 1, \"38\": 1, \"87\": 1, \"105\": 3, \"32\": 1, \"3\": 1, \"115\": 1, \"1\": 2, \"34\": 2, \"114\": 2, \"22\": 1, \"50\": 1, \"28\": 1, \"90\": 1, \"40\": 1}, \"87\": {\"60\": 1, \"87\": 54, \"20\": 1, \"14\": 6, \"62\": 2, \"44\": 3, \"107\": 14, \"40\": 10, \"88\": 5, \"90\": 9, \"32\": 1, \"1\": 3, \"11\": 3, \"84\": 2, \"78\": 2, \"28\": 1, \"29\": 1, \"114\": 1, \"105\": 1}, \"30\": {\"15\": 7, \"68\": 1, \"42\": 1, \"30\": 37, \"99\": 1, \"98\": 1, \"18\": 1, \"39\": 1, \"94\": 1, \"7\": 5, \"111\": 10, \"8\": 1, \"0\": 2, \"106\": 1, \"17\": 1, \"12\": 3, \"91\": 2, \"101\": 1, \"26\": 1, \"73\": 1, \"6\": 1, \"5\": 1, \"127\": 1, \"10\": 2}, \"43\": {\"43\": 27, \"118\": 2, \"80\": 1, \"89\": 3, \"96\": 1, \"31\": 1, \"16\": 2, \"21\": 3, \"102\": 2, \"26\": 2, \"11\": 2, \"33\": 2, \"121\": 1, \"120\": 1, \"113\": 1, \"109\": 3, \"117\": 1, \"93\": 1}, \"115\": {\"115\": 13, \"44\": 1, \"43\": 1, \"1\": 1}, \"40\": {\"40\": 86, \"20\": 1, \"62\": 1, \"103\": 1, \"1\": 2, \"107\": 7, \"114\": 4, \"129\": 1, \"87\": 7, \"126\": 1, \"88\": 2, \"116\": 2, \"50\": 2, \"60\": 1, \"32\": 1, \"44\": 1}, \"112\": {\"112\": 7, \"47\": 1, \"83\": 1, \"59\": 1, \"41\": 1, \"19\": 2, \"12\": 1, \"97\": 1, \"56\": 1}, \"66\": {\"66\": 14, \"34\": 1, \"55\": 1}, \"110\": {\"3\": 3, \"110\": 42, \"112\": 1, \"122\": 2, \"129\": 1, \"114\": 8, \"28\": 1, \"19\": 3, \"70\": 4, \"5\": 1, \"89\": 1, \"4\": 9, \"128\": 1, \"105\": 4, \"71\": 2, \"74\": 1, \"1\": 4, \"43\": 1, \"101\": 1, \"90\": 1, \"111\": 1}, \"3\": {\"66\": 1, \"3\": 73, \"70\": 2, \"101\": 1, \"5\": 9, \"4\": 3, \"71\": 8, \"108\": 6, \"127\": 1, \"106\": 1, \"125\": 1, \"105\": 2, \"67\": 1, \"88\": 1, \"19\": 2, \"111\": 2}, \"20\": {\"20\": 9, \"34\": 1, \"60\": 2, \"44\": 1, \"107\": 1, \"1\": 1, \"40\": 1}, \"28\": {\"28\": 16}, \"84\": {\"84\": 79, \"33\": 4, \"29\": 1, \"67\": 1, \"93\": 2, \"109\": 4, \"126\": 1, \"16\": 1, \"102\": 2, \"107\": 1, \"87\": 1, \"69\": 3, \"11\": 1, \"44\": 1, \"90\": 2, \"14\": 3, \"26\": 1}, \"79\": {\"79\": 10, \"84\": 1, \"100\": 1}, \"118\": {\"118\": 38, \"92\": 1, \"33\": 3, \"43\": 2, \"69\": 7, \"102\": 8, \"64\": 2, \"93\": 6, \"26\": 7, \"109\": 5, \"124\": 1, \"16\": 4, \"117\": 2, \"90\": 1, \"62\": 2, \"39\": 1, \"96\": 1, \"67\": 1, \"31\": 1, \"115\": 1, \"21\": 1, \"113\": 3, \"11\": 1, \"126\": 1}, \"56\": {\"56\": 9, \"36\": 1, \"128\": 1, \"125\": 1}, \"48\": {\"14\": 1, \"63\": 3, \"80\": 1, \"48\": 1, \"99\": 1, \"26\": 1, \"43\": 1, \"95\": 1, \"67\": 1, \"37\": 1, \"65\": 1, \"96\": 1, \"119\": 2}, \"77\": {\"77\": 15, \"35\": 1}, \"14\": {\"14\": 73, \"62\": 3, \"88\": 2, \"87\": 1, \"107\": 1}, \"64\": {\"64\": 19, \"96\": 1}, \"67\": {\"67\": 14, \"122\": 1, \"113\": 1}, \"62\": {\"62\": 109, \"87\": 2, \"109\": 4, \"11\": 3, \"90\": 3, \"118\": 1, \"44\": 1, \"84\": 1}, \"75\": {\"75\": 14, \"97\": 1, \"15\": 1}, \"63\": {\"63\": 12, \"109\": 1, \"83\": 1, \"81\": 1, \"116\": 1}, \"7\": {\"7\": 102, \"8\": 2, \"10\": 3, \"30\": 1, \"91\": 2, \"127\": 2}, \"125\": {\"125\": 76, \"106\": 3, \"73\": 1, \"24\": 1, \"94\": 2, \"27\": 5, \"18\": 1, \"36\": 9, \"8\": 1, \"31\": 1, \"62\": 1, \"15\": 1, \"124\": 2}, \"37\": {\"37\": 16}, \"121\": {\"121\": 14, \"120\": 1, \"92\": 1, \"13\": 1, \"82\": 1, \"27\": 1, \"26\": 1, \"81\": 1, \"126\": 2, \"43\": 1, \"113\": 1, \"102\": 3, \"21\": 2, \"117\": 2}, \"16\": {\"16\": 53, \"33\": 12, \"92\": 1, \"102\": 9, \"93\": 2, \"40\": 2, \"44\": 1, \"109\": 1, \"84\": 1, \"69\": 7, \"118\": 7, \"113\": 1, \"21\": 1, \"87\": 2, \"11\": 2, \"117\": 1, \"18\": 1}, \"35\": {\"35\": 9, \"0\": 1, \"51\": 1, \"114\": 1}, \"32\": {\"76\": 1, \"23\": 1, \"32\": 16, \"70\": 2, \"129\": 1, \"11\": 2, \"105\": 1, \"1\": 1, \"22\": 1, \"93\": 1, \"45\": 1, \"84\": 1, \"128\": 1, \"87\": 1, \"88\": 1}, \"46\": {\"46\": 13, \"5\": 1, \"114\": 1, \"1\": 1}, \"70\": {\"3\": 5, \"70\": 15, \"128\": 4, \"55\": 3, \"127\": 3, \"108\": 6, \"66\": 1, \"87\": 1, \"124\": 1, \"4\": 5, \"105\": 4, \"40\": 3, \"113\": 1, \"9\": 1, \"46\": 1, \"67\": 1, \"71\": 3, \"57\": 1, \"60\": 1, \"81\": 1, \"88\": 3, \"122\": 1, \"5\": 3, \"19\": 1, \"12\": 1, \"110\": 2}, \"129\": {\"129\": 12, \"121\": 1, \"110\": 1, \"82\": 1, \"100\": 1, \"114\": 4, \"62\": 2, \"1\": 2, \"5\": 2, \"11\": 1, \"85\": 1, \"107\": 2, \"17\": 1, \"44\": 1}, \"95\": {\"95\": 28, \"64\": 1, \"10\": 1, \"0\": 2}, \"72\": {\"72\": 24, \"12\": 2, \"30\": 1, \"24\": 1}, \"19\": {\"129\": 1, \"70\": 1, \"19\": 16, \"20\": 1, \"127\": 5, \"50\": 1, \"124\": 1, \"8\": 2, \"34\": 1, \"32\": 1, \"3\": 1, \"71\": 1}, \"52\": {\"52\": 9, \"106\": 1, \"51\": 1, \"98\": 2, \"12\": 1, \"73\": 1, \"8\": 1}, \"100\": {\"100\": 10, \"44\": 1, \"40\": 1, \"33\": 1, \"107\": 1, \"79\": 2}, \"104\": {\"34\": 1, \"104\": 12, \"127\": 1, \"105\": 1, \"5\": 1}, \"59\": {\"97\": 3, \"59\": 9}, \"109\": {\"43\": 2, \"109\": 74, \"118\": 4, \"33\": 16, \"88\": 1, \"69\": 4, \"84\": 4, \"93\": 5, \"62\": 7, \"14\": 1, \"16\": 2, \"11\": 2, \"76\": 1, \"89\": 1, \"21\": 1, \"102\": 1}, \"88\": {\"96\": 2, \"112\": 1, \"17\": 1, \"105\": 4, \"80\": 1, \"114\": 7, \"88\": 11, \"71\": 1, \"120\": 2, \"5\": 8, \"121\": 2, \"85\": 1, \"109\": 11, \"4\": 4, \"33\": 1, \"44\": 1, \"118\": 3, \"62\": 7, \"106\": 1, \"3\": 6, \"1\": 1, \"10\": 1, \"8\": 2, \"113\": 1, \"127\": 2, \"108\": 5, \"48\": 1, \"60\": 1, \"39\": 1, \"99\": 1, \"49\": 1, \"81\": 1, \"70\": 1, \"69\": 1, \"7\": 1, \"93\": 2, \"87\": 2, \"110\": 2, \"90\": 1, \"16\": 1, \"11\": 1, \"126\": 1, \"107\": 2}, \"27\": {\"27\": 47, \"106\": 5, \"49\": 1, \"51\": 1, \"6\": 1, \"72\": 1, \"24\": 4, \"111\": 4, \"125\": 2, \"73\": 1, \"15\": 2, \"67\": 1, \"98\": 6, \"36\": 5, \"94\": 3, \"117\": 1, \"30\": 2, \"26\": 1, \"25\": 1, \"58\": 1, \"5\": 1, \"126\": 1, \"108\": 1, \"8\": 1}, \"113\": {\"96\": 1, \"123\": 1, \"113\": 61, \"26\": 10, \"67\": 1, \"117\": 10, \"16\": 1, \"33\": 3, \"39\": 4, \"118\": 2, \"18\": 9, \"93\": 3, \"11\": 2, \"109\": 4, \"61\": 1, \"64\": 1, \"89\": 1, \"62\": 1, \"121\": 2, \"126\": 2}, \"105\": {\"105\": 103, \"71\": 2, \"92\": 1, \"60\": 2, \"48\": 1, \"110\": 1, \"5\": 1, \"7\": 1, \"4\": 4, \"70\": 2, \"55\": 1, \"128\": 1, \"3\": 1, \"107\": 1, \"88\": 2}, \"71\": {\"105\": 6, \"20\": 1, \"71\": 43, \"4\": 2, \"5\": 4, \"85\": 1, \"125\": 2, \"3\": 4, \"65\": 1, \"86\": 1, \"6\": 1, \"126\": 1, \"40\": 1}, \"108\": {\"41\": 1, \"108\": 43, \"71\": 8, \"127\": 10, \"105\": 7, \"62\": 1, \"98\": 4, \"124\": 9, \"3\": 7, \"73\": 1, \"4\": 6, \"128\": 1, \"70\": 1, \"7\": 1, \"5\": 6, \"90\": 1, \"8\": 6, \"10\": 2, \"9\": 2, \"24\": 1, \"19\": 1, \"87\": 1, \"0\": 1, \"88\": 2, \"109\": 1}, \"41\": {\"41\": 14, \"128\": 2}, \"80\": {\"16\": 1, \"80\": 10, \"31\": 1, \"33\": 2, \"92\": 2}, \"13\": {\"44\": 1, \"13\": 4, \"33\": 2, \"84\": 1, \"117\": 2, \"118\": 1, \"62\": 1, \"43\": 1, \"120\": 1, \"96\": 1, \"93\": 1}, \"55\": {\"55\": 16}, \"0\": {\"0\": 71, \"7\": 2, \"52\": 1, \"51\": 5, \"39\": 1, \"6\": 2, \"12\": 1, \"94\": 1, \"111\": 11, \"36\": 1, \"109\": 1, \"98\": 2, \"30\": 2, \"101\": 1, \"62\": 1, \"15\": 1, \"10\": 2}, \"25\": {\"25\": 16}, \"53\": {\"112\": 2, \"53\": 13, \"107\": 2, \"44\": 1, \"122\": 1, \"114\": 1}, \"61\": {\"61\": 11, \"81\": 1, \"2\": 1, \"123\": 1, \"113\": 1, \"63\": 1}, \"38\": {\"38\": 14, \"88\": 2}, \"127\": {\"127\": 107, \"113\": 2, \"42\": 1, \"7\": 2, \"3\": 4, \"12\": 4, \"111\": 1, \"126\": 2, \"128\": 2, \"4\": 2, \"8\": 1}, \"4\": {\"71\": 4, \"4\": 70, \"5\": 9, \"114\": 1, \"110\": 2, \"105\": 4, \"104\": 1, \"88\": 1, \"18\": 1, \"39\": 1, \"3\": 1, \"109\": 1}, \"12\": {\"68\": 1, \"12\": 65, \"73\": 2, \"8\": 15, \"98\": 7, \"124\": 1, \"30\": 1, \"111\": 5, \"127\": 1, \"24\": 1, \"66\": 1, \"41\": 1, \"42\": 1, \"7\": 2}, \"126\": {\"18\": 9, \"39\": 6, \"2\": 2, \"126\": 57, \"121\": 4, \"26\": 7, \"21\": 3, \"23\": 1, \"117\": 3, \"81\": 3, \"113\": 8, \"67\": 1, \"93\": 3, \"118\": 2, \"109\": 3, \"16\": 2, \"11\": 2, \"88\": 1, \"123\": 1, \"13\": 2, \"120\": 1, \"15\": 1, \"33\": 1, \"102\": 1}, \"29\": {\"29\": 15, \"110\": 1, \"50\": 3, \"122\": 1, \"45\": 1, \"14\": 1, \"62\": 2, \"116\": 1, \"100\": 1, \"107\": 1, \"44\": 2, \"49\": 1, \"87\": 1, \"115\": 1}, \"107\": {\"107\": 113, \"87\": 3, \"32\": 2, \"1\": 2, \"40\": 4, \"114\": 2, \"100\": 1, \"29\": 1, \"76\": 1, \"129\": 1, \"17\": 1, \"14\": 2, \"122\": 1, \"84\": 1, \"62\": 1}, \"82\": {\"82\": 24, \"69\": 1, \"45\": 1, \"79\": 1, \"33\": 1}, \"94\": {\"24\": 1, \"94\": 52, \"15\": 12, \"111\": 2, \"0\": 2, \"125\": 6, \"36\": 4, \"106\": 2, \"30\": 1, \"27\": 1, \"18\": 1}, \"54\": {\"54\": 15, \"25\": 1}, \"10\": {\"0\": 2, \"7\": 9, \"10\": 96, \"106\": 1, \"95\": 2, \"98\": 1, \"110\": 1, \"26\": 1, \"105\": 1, \"91\": 2, \"99\": 1, \"77\": 1, \"9\": 1, \"127\": 3, \"57\": 1, \"30\": 2, \"101\": 2, \"88\": 1}, \"22\": {\"122\": 1, \"22\": 13, \"110\": 1, \"28\": 1}, \"119\": {\"119\": 13, \"26\": 1, \"102\": 2}}, \"Wisig_2\": {\"73\": {\"73\": 17, \"85\": 1, \"115\": 2, \"23\": 1, \"76\": 1, \"19\": 1, \"96\": 1, \"84\": 1, \"86\": 1, \"15\": 1, \"107\": 1}, \"40\": {\"40\": 85, \"107\": 3, \"105\": 8, \"86\": 1, \"69\": 1, \"43\": 7, \"19\": 3, \"129\": 1, \"72\": 2, \"1\": 5, \"4\": 1, \"5\": 2, \"88\": 1, \"70\": 3, \"76\": 1, \"32\": 1, \"12\": 1, \"93\": 2, \"3\": 2, \"39\": 1, \"117\": 1}, \"99\": {\"99\": 14, \"57\": 1, \"90\": 1, \"121\": 2, \"21\": 1, \"69\": 3, \"26\": 1, \"48\": 1, \"82\": 2, \"23\": 1, \"109\": 1, \"18\": 1, \"117\": 1, \"39\": 2}, \"5\": {\"5\": 75, \"47\": 1, \"114\": 5, \"23\": 1, \"3\": 10, \"71\": 2, \"12\": 2, \"39\": 1, \"124\": 1, \"105\": 1, \"69\": 1, \"26\": 1, \"24\": 1, \"4\": 3, \"88\": 1, \"0\": 1, \"95\": 2, \"11\": 1, \"93\": 1, \"40\": 1}, \"108\": {\"128\": 2, \"91\": 1, \"108\": 63, \"12\": 7, \"106\": 4, \"0\": 2, \"8\": 8, \"94\": 1, \"24\": 3, \"111\": 5, \"122\": 10, \"98\": 7, \"114\": 2, \"124\": 4, \"7\": 4, \"11\": 2, \"127\": 2, \"1\": 1, \"54\": 1, \"4\": 1, \"30\": 1, \"5\": 1}, \"128\": {\"44\": 1, \"58\": 1, \"64\": 3, \"105\": 3, \"3\": 1, \"7\": 2, \"91\": 1, \"22\": 1, \"14\": 1, \"47\": 1, \"128\": 1, \"19\": 1, \"21\": 1, \"37\": 1, \"0\": 1, \"108\": 2, \"127\": 2}, \"89\": {\"89\": 19, \"55\": 2, \"92\": 2, \"16\": 1, \"31\": 2, \"33\": 3, \"46\": 1, \"60\": 1, \"100\": 1, \"81\": 1, \"40\": 1, \"87\": 1, \"82\": 1}, \"107\": {\"107\": 30, \"58\": 1, \"105\": 4, \"95\": 1, \"4\": 2, \"86\": 2, \"40\": 1, \"8\": 3, \"16\": 1, \"122\": 1, \"93\": 3, \"88\": 1, \"2\": 1, \"70\": 1, \"106\": 1, \"42\": 1, \"59\": 1, \"5\": 1, \"76\": 1, \"110\": 2, \"87\": 1, \"66\": 1, \"117\": 1, \"15\": 1, \"125\": 1}, \"2\": {\"2\": 27, \"117\": 1, \"89\": 2, \"97\": 1, \"121\": 1}, \"78\": {\"78\": 11, \"63\": 1, \"19\": 1, \"129\": 2, \"95\": 2, \"32\": 2, \"22\": 1, \"44\": 3, \"60\": 2, \"126\": 1, \"16\": 1, \"40\": 4, \"3\": 2, \"107\": 1, \"7\": 1, \"70\": 4, \"23\": 1, \"43\": 3, \"105\": 2, \"11\": 1, \"90\": 1, \"26\": 1}, \"85\": {\"85\": 21, \"47\": 1, \"86\": 1, \"4\": 1, \"24\": 1, \"71\": 1, \"110\": 1, \"28\": 2, \"112\": 1, \"73\": 1, \"5\": 1}, \"44\": {\"44\": 73, \"50\": 2, \"17\": 1, \"70\": 3, \"60\": 3, \"107\": 4, \"8\": 1, \"40\": 2, \"12\": 1, \"122\": 1, \"43\": 1, \"3\": 2, \"61\": 1, \"62\": 1, \"105\": 3, \"78\": 1}, \"58\": {\"58\": 14, \"15\": 2, \"97\": 1, \"6\": 2, \"51\": 1}, \"57\": {\"57\": 12, \"102\": 1, \"69\": 2, \"48\": 1, \"82\": 2, \"13\": 2}, \"41\": {\"41\": 17, \"13\": 1, \"91\": 2}, \"53\": {\"53\": 14, \"56\": 1, \"35\": 1}, \"14\": {\"43\": 5, \"70\": 1, \"93\": 1, \"14\": 27, \"69\": 1, \"50\": 1, \"129\": 1, \"62\": 2, \"126\": 1, \"21\": 1, \"89\": 1, \"100\": 1, \"38\": 1, \"26\": 1, \"99\": 1, \"16\": 1, \"18\": 1}, \"83\": {\"118\": 1, \"9\": 1, \"83\": 19, \"55\": 1, \"80\": 1, \"45\": 1, \"50\": 1, \"105\": 2, \"90\": 2, \"62\": 1, \"88\": 2, \"126\": 1, \"16\": 1, \"39\": 1, \"1\": 2, \"127\": 1, \"78\": 1, \"110\": 1}, \"119\": {\"119\": 20}, \"95\": {\"5\": 2, \"95\": 24, \"114\": 1, \"115\": 1, \"49\": 1, \"105\": 1, \"71\": 2, \"8\": 1, \"4\": 1, \"110\": 1, \"87\": 1}, \"28\": {\"28\": 13, \"19\": 1, \"71\": 1, \"129\": 1, \"85\": 1, \"34\": 1, \"3\": 2}, \"19\": {\"19\": 16, \"43\": 2, \"86\": 2, \"17\": 2, \"64\": 1, \"37\": 1, \"129\": 2, \"32\": 2}, \"69\": {\"69\": 99, \"82\": 3, \"16\": 7, \"93\": 6, \"26\": 1, \"102\": 9, \"117\": 2, \"13\": 1, \"87\": 1, \"109\": 2, \"18\": 1}, \"93\": {\"93\": 70, \"90\": 5, \"69\": 17, \"96\": 1, \"62\": 1, \"82\": 1, \"109\": 3, \"102\": 16, \"16\": 7, \"18\": 1, \"88\": 4, \"39\": 4, \"72\": 1, \"26\": 1, \"87\": 1, \"84\": 1}, \"9\": {\"9\": 29, \"6\": 2, \"15\": 1}, \"118\": {\"93\": 4, \"118\": 30, \"16\": 6, \"69\": 1, \"96\": 1, \"88\": 1, \"90\": 1, \"78\": 1, \"87\": 2, \"62\": 4, \"109\": 4, \"33\": 1, \"39\": 1, \"119\": 1, \"116\": 1, \"82\": 3, \"102\": 1, \"84\": 2, \"43\": 1, \"70\": 1, \"26\": 1}, \"43\": {\"43\": 47, \"90\": 2, \"40\": 6, \"81\": 1, \"126\": 2, \"1\": 12, \"11\": 1, \"105\": 7, \"107\": 1, \"5\": 4, \"44\": 5, \"2\": 1, \"62\": 5, \"3\": 7, \"70\": 6, \"109\": 2, \"38\": 1, \"14\": 2, \"78\": 2, \"108\": 1, \"88\": 1}, \"47\": {\"47\": 9, \"95\": 1, \"85\": 1, \"105\": 1}, \"125\": {\"125\": 104, \"36\": 18, \"94\": 5, \"51\": 1, \"27\": 4, \"24\": 2, \"106\": 3, \"15\": 4, \"101\": 2, \"18\": 1}, \"29\": {\"29\": 26, \"91\": 3, \"97\": 1, \"30\": 1, \"59\": 1}, \"122\": {\"41\": 2, \"86\": 1, \"95\": 1, \"122\": 59, \"115\": 1, \"12\": 6, \"66\": 1, \"56\": 2, \"128\": 1, \"10\": 3, \"71\": 3, \"98\": 2, \"114\": 5, \"4\": 2, \"8\": 9, \"105\": 3, \"107\": 2, \"127\": 2, \"3\": 2, \"108\": 4, \"0\": 1, \"7\": 8, \"11\": 2, \"30\": 3, \"102\": 1, \"58\": 1, \"29\": 1, \"126\": 2, \"110\": 2, \"49\": 1, \"109\": 1, \"93\": 1, \"90\": 1, \"5\": 1, \"40\": 2, \"18\": 1}, \"46\": {\"70\": 1, \"19\": 1, \"46\": 11, \"126\": 1, \"1\": 2}, \"86\": {\"122\": 1, \"86\": 23, \"71\": 3, \"11\": 1, \"42\": 1, \"19\": 1, \"110\": 1, \"107\": 1}, \"70\": {\"70\": 27, \"55\": 1, \"115\": 1, \"76\": 1, \"31\": 1, \"23\": 1, \"113\": 2, \"90\": 6, \"60\": 3, \"43\": 8, \"14\": 2, \"109\": 5, \"40\": 5, \"126\": 5, \"7\": 1, \"93\": 1, \"62\": 10, \"21\": 3, \"78\": 3, \"1\": 9, \"88\": 6, \"114\": 1, \"18\": 2, \"105\": 1, \"38\": 1, \"80\": 1, \"33\": 1, \"17\": 1, \"16\": 1, \"50\": 1, \"107\": 1, \"39\": 2, \"3\": 3, \"63\": 2, \"45\": 1, \"118\": 1, \"71\": 1, \"117\": 1, \"84\": 1}, \"51\": {\"51\": 13, \"38\": 1, \"6\": 1, \"24\": 1, \"94\": 2, \"52\": 1, \"70\": 1}, \"23\": {\"41\": 1, \"57\": 2, \"8\": 1, \"121\": 2, \"49\": 1, \"56\": 2, \"127\": 4, \"77\": 1, \"69\": 1, \"7\": 3, \"29\": 3, \"91\": 3, \"12\": 4, \"109\": 1, \"4\": 2, \"101\": 2, \"65\": 1, \"26\": 1, \"53\": 1, \"13\": 1, \"0\": 1, \"2\": 1, \"39\": 1, \"108\": 1, \"117\": 1, \"104\": 1, \"99\": 1}, \"121\": {\"21\": 1, \"57\": 2, \"121\": 18, \"113\": 3, \"84\": 2, \"99\": 2, \"120\": 1, \"65\": 2, \"26\": 2, \"39\": 1, \"16\": 2}, \"63\": {\"21\": 1, \"63\": 18, \"39\": 1}, \"102\": {\"102\": 99, \"82\": 1, \"69\": 10, \"16\": 4, \"39\": 1, \"84\": 1, \"99\": 1, \"93\": 5}, \"21\": {\"21\": 32, \"57\": 1, \"121\": 1, \"118\": 1, \"69\": 2, \"90\": 1, \"26\": 1, \"88\": 2, \"16\": 2, \"81\": 1, \"39\": 1, \"117\": 1, \"99\": 2}, \"55\": {\"70\": 1, \"19\": 1, \"55\": 10, \"33\": 1, \"80\": 1, \"116\": 1, \"5\": 1}, \"54\": {\"54\": 17, \"41\": 1, \"12\": 1, \"127\": 1}, \"6\": {\"6\": 26, \"75\": 2, \"15\": 1, \"51\": 1, \"97\": 2}, \"109\": {\"20\": 2, \"63\": 1, \"90\": 6, \"109\": 50, \"84\": 3, \"87\": 5, \"88\": 14, \"126\": 4, \"62\": 1, \"93\": 3, \"119\": 1, \"120\": 1, \"117\": 1, \"72\": 1, \"78\": 1, \"99\": 1, \"16\": 1, \"8\": 1, \"21\": 2, \"26\": 1}, \"64\": {\"113\": 1, \"64\": 11, \"71\": 1, \"129\": 1, \"14\": 2}, \"20\": {\"20\": 16}, \"98\": {\"54\": 2, \"68\": 1, \"34\": 1, \"98\": 61, \"13\": 1, \"111\": 13, \"12\": 4, \"30\": 6, \"24\": 3, \"106\": 3, \"127\": 9, \"108\": 5, \"87\": 1, \"0\": 2, \"69\": 1, \"101\": 1}, \"92\": {\"92\": 20, \"118\": 2, \"23\": 2, \"33\": 1, \"57\": 1, \"84\": 2}, \"35\": {\"35\": 5, \"128\": 1, \"97\": 1, \"123\": 1, \"111\": 1, \"53\": 1, \"91\": 2}, \"113\": {\"113\": 57, \"48\": 1, \"93\": 1, \"65\": 4, \"117\": 3, \"23\": 1, \"87\": 1, \"18\": 1, \"39\": 1, \"21\": 1, \"118\": 1}, \"71\": {\"95\": 3, \"71\": 55, \"114\": 4, \"115\": 1, \"121\": 2, \"4\": 7, \"52\": 1, \"86\": 2, \"0\": 1, \"11\": 3, \"16\": 1, \"5\": 3, \"110\": 5, \"107\": 3, \"7\": 1, \"3\": 2, \"104\": 1, \"18\": 1, \"105\": 1, \"24\": 1, \"109\": 1, \"111\": 1}, \"94\": {\"52\": 1, \"20\": 2, \"101\": 3, \"51\": 2, \"106\": 4, \"36\": 2, \"87\": 2, \"94\": 22, \"25\": 1, \"99\": 2, \"113\": 2, \"6\": 2, \"89\": 1, \"27\": 2, \"34\": 1, \"24\": 2, \"125\": 5, \"77\": 3, \"65\": 1, \"9\": 1, \"0\": 1, \"88\": 1, \"111\": 1}, \"52\": {\"91\": 2, \"52\": 15, \"103\": 2, \"26\": 1}, \"116\": {\"89\": 2, \"87\": 1, \"93\": 1, \"116\": 10, \"72\": 4, \"16\": 1, \"69\": 1, \"90\": 1, \"92\": 1, \"109\": 1, \"62\": 1, \"31\": 1, \"83\": 1, \"82\": 1, \"55\": 1}, \"87\": {\"89\": 3, \"116\": 1, \"72\": 2, \"87\": 28, \"118\": 5, \"93\": 6, \"70\": 1, \"82\": 3, \"113\": 1, \"90\": 6, \"13\": 1, \"84\": 9, \"18\": 3, \"117\": 2, \"126\": 5, \"69\": 3, \"62\": 4, \"1\": 1, \"33\": 8, \"88\": 6, \"16\": 1, \"109\": 4, \"102\": 2, \"20\": 1, \"96\": 1, \"14\": 1, \"119\": 1, \"63\": 2, \"40\": 1}, \"90\": {\"87\": 2, \"20\": 1, \"90\": 104, \"60\": 1, \"116\": 1, \"84\": 1, \"96\": 2, \"88\": 6, \"126\": 4, \"118\": 3, \"40\": 1, \"62\": 5, \"93\": 4, \"70\": 1, \"102\": 1, \"109\": 1, \"39\": 2, \"33\": 5, \"31\": 1, \"1\": 1, \"69\": 1}, \"91\": {\"91\": 26, \"29\": 1, \"77\": 1}, \"84\": {\"33\": 15, \"83\": 1, \"121\": 1, \"62\": 1, \"84\": 64, \"117\": 1, \"126\": 1, \"3\": 1, \"82\": 1, \"89\": 1, \"45\": 1, \"113\": 1, \"87\": 1, \"90\": 1, \"26\": 1}, \"24\": {\"55\": 1, \"122\": 5, \"36\": 6, \"111\": 7, \"8\": 2, \"24\": 14, \"95\": 1, \"51\": 1, \"25\": 2, \"65\": 1, \"124\": 1, \"66\": 1, \"12\": 1, \"93\": 2, \"4\": 3, \"10\": 1, \"125\": 9, \"27\": 2, \"39\": 2, \"90\": 1, \"43\": 2, \"106\": 5, \"101\": 4, \"15\": 9, \"18\": 2, \"7\": 2, \"127\": 2, \"56\": 2, \"97\": 1, \"103\": 1, \"63\": 1, \"9\": 1, \"105\": 3, \"11\": 2, \"94\": 2, \"71\": 2, \"0\": 3, \"108\": 1, \"5\": 1, \"117\": 2, \"114\": 1}, \"33\": {\"33\": 118, \"118\": 2, \"69\": 1, \"1\": 2, \"87\": 1, \"84\": 5, \"117\": 1, \"88\": 2, \"43\": 1, \"26\": 1}, \"81\": {\"81\": 19, \"16\": 1, \"113\": 1, \"18\": 1, \"97\": 1, \"121\": 1}, \"115\": {\"115\": 5, \"122\": 2, \"70\": 1, \"4\": 1, \"98\": 1, \"5\": 1, \"71\": 1}, \"77\": {\"77\": 14, \"79\": 1, \"29\": 1}, \"106\": {\"106\": 89, \"94\": 6, \"36\": 3, \"72\": 1, \"27\": 1, \"15\": 3, \"125\": 7, \"16\": 1, \"101\": 1, \"24\": 1, \"111\": 3, \"7\": 1, \"0\": 2, \"127\": 1}, \"42\": {\"28\": 1, \"42\": 3, \"56\": 2, \"30\": 2, \"77\": 1, \"59\": 1, \"34\": 1, \"81\": 1, \"91\": 1, \"93\": 1, \"101\": 1, \"105\": 1, \"120\": 1, \"3\": 1, \"98\": 2, \"23\": 1, \"127\": 3, \"117\": 1, \"128\": 1, \"114\": 1, \"107\": 1}, \"38\": {\"38\": 16}, \"36\": {\"36\": 56, \"121\": 1, \"15\": 8, \"27\": 7, \"14\": 1, \"2\": 1, \"106\": 8, \"127\": 1, \"117\": 2, \"111\": 3, \"26\": 1, \"101\": 6, \"125\": 12, \"113\": 1, \"9\": 1, \"0\": 1, \"24\": 3, \"16\": 1}, \"79\": {\"79\": 15, \"77\": 1}, \"60\": {\"38\": 3, \"80\": 1, \"60\": 7, \"115\": 1, \"92\": 1, \"67\": 1, \"127\": 1, \"66\": 1, \"98\": 1, \"23\": 1, \"44\": 2, \"43\": 2, \"89\": 1, \"84\": 1, \"78\": 1, \"107\": 2, \"119\": 1}, \"80\": {\"80\": 5, \"116\": 1, \"87\": 1, \"1\": 4, \"109\": 1, \"70\": 1, \"45\": 1, \"88\": 1, \"14\": 1}, \"32\": {\"76\": 2, \"32\": 29, \"14\": 1, \"71\": 1, \"105\": 1, \"70\": 1, \"3\": 1}, \"0\": {\"0\": 76, \"111\": 12, \"103\": 1, \"126\": 1, \"10\": 1, \"30\": 11, \"8\": 1, \"101\": 2, \"108\": 3, \"127\": 1, \"54\": 2, \"98\": 3, \"34\": 1, \"11\": 1}, \"127\": {\"127\": 101, \"111\": 9, \"98\": 3, \"26\": 1, \"112\": 2, \"75\": 1, \"54\": 1, \"79\": 1, \"8\": 1, \"12\": 1, \"30\": 2, \"0\": 1}, \"114\": {\"114\": 86, \"56\": 2, \"5\": 2, \"90\": 1, \"71\": 6, \"124\": 6, \"15\": 2, \"8\": 1, \"86\": 3, \"4\": 1, \"108\": 1, \"109\": 1, \"3\": 1, \"122\": 3}, \"62\": {\"62\": 127, \"88\": 2, \"90\": 1, \"126\": 2, \"26\": 1, \"87\": 1, \"43\": 2, \"78\": 1, \"1\": 1, \"70\": 1, \"44\": 1}, \"129\": {\"129\": 13, \"95\": 1, \"73\": 1, \"64\": 4, \"23\": 1, \"5\": 1, \"105\": 1, \"19\": 1, \"86\": 2, \"124\": 2, \"40\": 1, \"37\": 2, \"3\": 2}, \"56\": {\"56\": 11, \"11\": 1}, \"76\": {\"76\": 12, \"42\": 2, \"73\": 1, \"14\": 1}, \"72\": {\"72\": 17, \"89\": 2, \"21\": 1, \"88\": 1, \"93\": 4, \"9\": 1, \"96\": 1, \"16\": 1}, \"88\": {\"90\": 11, \"99\": 1, \"39\": 7, \"88\": 39, \"87\": 9, \"21\": 2, \"118\": 6, \"3\": 2, \"84\": 3, \"126\": 9, \"33\": 5, \"16\": 3, \"62\": 13, \"43\": 2, \"109\": 3, \"70\": 2, \"93\": 1, \"120\": 2, \"116\": 1, \"83\": 1, \"1\": 1, \"69\": 1}, \"68\": {\"68\": 10, \"54\": 1, \"56\": 1, \"45\": 1, \"8\": 1, \"97\": 1, \"90\": 1}, \"67\": {\"67\": 9, \"82\": 1, \"21\": 1, \"80\": 2, \"96\": 1, \"46\": 2}, \"100\": {\"60\": 1, \"100\": 8, \"96\": 1, \"48\": 1, \"16\": 1, \"89\": 2, \"93\": 2}, \"34\": {\"34\": 6, \"68\": 1, \"71\": 5, \"127\": 1, \"86\": 1, \"91\": 1, \"42\": 1, \"21\": 1, \"111\": 2, \"24\": 1, \"49\": 1, \"13\": 1, \"122\": 1, \"54\": 2, \"66\": 1, \"98\": 1, \"3\": 1, \"108\": 1, \"101\": 1, \"0\": 2}, \"16\": {\"16\": 67, \"100\": 1, \"82\": 1, \"39\": 10, \"93\": 3, \"102\": 12, \"69\": 17, \"88\": 2, \"70\": 1, \"57\": 1, \"72\": 3, \"13\": 1, \"118\": 1, \"33\": 2, \"26\": 1, \"126\": 1}, \"126\": {\"67\": 1, \"126\": 40, \"119\": 2, \"46\": 2, \"78\": 3, \"83\": 4, \"14\": 1, \"96\": 1, \"62\": 8, \"88\": 9, \"2\": 1, \"21\": 1, \"33\": 5, \"1\": 10, \"43\": 3, \"84\": 6, \"40\": 1, \"70\": 3, \"109\": 4, \"44\": 3, \"90\": 3, \"87\": 1, \"28\": 1, \"118\": 1, \"116\": 1, \"45\": 1, \"73\": 1, \"4\": 2, \"11\": 1}, \"4\": {\"4\": 59, \"95\": 3, \"5\": 2, \"71\": 6, \"120\": 1, \"14\": 1, \"66\": 1, \"3\": 3, \"26\": 1, \"110\": 3, \"0\": 1, \"122\": 1, \"8\": 1, \"12\": 1, \"86\": 1, \"107\": 2, \"11\": 1}, \"101\": {\"101\": 143, \"0\": 1, \"30\": 1, \"111\": 1}, \"104\": {\"4\": 2, \"104\": 10, \"105\": 1, \"112\": 1, \"74\": 1, \"114\": 1, \"71\": 2, \"15\": 1, \"102\": 1}, \"30\": {\"67\": 1, \"127\": 4, \"30\": 54, \"15\": 2, \"91\": 1, \"29\": 1, \"111\": 12, \"0\": 7, \"58\": 1, \"106\": 4, \"98\": 4, \"11\": 1, \"70\": 1, \"101\": 9, \"79\": 1, \"122\": 1, \"18\": 1, \"24\": 2, \"69\": 1, \"108\": 2}, \"8\": {\"127\": 3, \"8\": 82, \"12\": 3, \"68\": 1, \"11\": 4, \"122\": 6, \"4\": 5, \"24\": 2, \"7\": 6, \"114\": 2, \"108\": 6, \"93\": 1, \"49\": 2, \"34\": 2, \"10\": 1, \"111\": 1, \"105\": 1}, \"82\": {\"82\": 31, \"16\": 1, \"93\": 1, \"69\": 2, \"117\": 1}, \"26\": {\"26\": 100, \"121\": 1, \"87\": 2, \"113\": 2, \"69\": 4, \"117\": 16, \"118\": 1, \"39\": 1, \"18\": 6, \"102\": 1, \"2\": 1, \"99\": 1, \"93\": 1, \"16\": 1}, \"96\": {\"67\": 2, \"96\": 10, \"126\": 1, \"33\": 1, \"90\": 1, \"16\": 1, \"57\": 1, \"87\": 1, \"31\": 2}, \"3\": {\"129\": 2, \"3\": 80, \"35\": 1, \"5\": 15, \"128\": 1, \"107\": 2, \"4\": 3, \"114\": 7, \"40\": 3, \"11\": 1, \"8\": 1, \"30\": 3, \"122\": 3, \"19\": 1, \"59\": 2, \"39\": 1, \"86\": 1, \"105\": 2, \"71\": 3, \"24\": 1, \"102\": 1, \"124\": 1, \"70\": 1}, \"25\": {\"25\": 12, \"118\": 1, \"99\": 1, \"6\": 2}, \"13\": {\"13\": 8, \"21\": 1, \"69\": 2, \"125\": 1, \"119\": 1, \"109\": 1, \"113\": 1, \"16\": 1}, \"37\": {\"95\": 1, \"129\": 1, \"37\": 8, \"40\": 2, \"128\": 1, \"16\": 1, \"3\": 1, \"50\": 1}, \"49\": {\"115\": 1, \"49\": 3, \"113\": 1, \"111\": 1, \"4\": 3, \"54\": 1, \"11\": 1, \"92\": 1, \"71\": 1, \"8\": 1, \"127\": 2, \"12\": 1, \"5\": 1, \"26\": 1, \"39\": 1, \"124\": 1, \"98\": 1, \"122\": 2}, \"111\": {\"111\": 111, \"98\": 6, \"0\": 3, \"127\": 7, \"30\": 1, \"108\": 4, \"51\": 1, \"106\": 1, \"8\": 1, \"101\": 1}, \"105\": {\"105\": 119, \"40\": 3, \"3\": 2, \"66\": 1, \"86\": 1, \"113\": 1, \"95\": 1, \"43\": 3, \"30\": 1}, \"17\": {\"123\": 2, \"56\": 3, \"121\": 1, \"87\": 1, \"19\": 1, \"17\": 3, \"26\": 1, \"11\": 1, \"7\": 1, \"25\": 1, \"128\": 1}, \"65\": {\"65\": 14, \"57\": 1, \"81\": 1, \"18\": 1, \"117\": 2, \"102\": 1}, \"123\": {\"35\": 2, \"123\": 11, \"7\": 2, \"6\": 1}, \"74\": {\"35\": 2, \"126\": 1, \"74\": 9, \"81\": 1, \"10\": 1, \"8\": 2}, \"97\": {\"97\": 11, \"15\": 1, \"78\": 1, \"58\": 2, \"109\": 1, \"101\": 1, \"77\": 2, \"90\": 1}, \"112\": {\"112\": 8, \"24\": 1, \"54\": 1, \"47\": 2, \"95\": 2, \"122\": 1, \"94\": 1}, \"120\": {\"120\": 17, \"121\": 1, \"20\": 2}, \"50\": {\"14\": 4, \"50\": 10, \"125\": 1, \"37\": 1}, \"59\": {\"0\": 2, \"20\": 1, \"91\": 2, \"59\": 5, \"77\": 1, \"112\": 2, \"29\": 2, \"68\": 1}, \"10\": {\"10\": 44, \"61\": 2, \"104\": 1, \"81\": 1, \"122\": 2, \"113\": 1, \"53\": 1, \"29\": 2, \"39\": 1, \"127\": 1, \"7\": 2, \"11\": 2}, \"45\": {\"45\": 12, \"1\": 2, \"88\": 1, \"84\": 1}, \"12\": {\"12\": 52, \"111\": 3, \"21\": 1, \"24\": 4, \"8\": 3, \"93\": 1, \"127\": 7, \"117\": 1, \"4\": 2, \"114\": 2, \"68\": 1, \"110\": 2, \"41\": 2, \"108\": 1, \"7\": 1, \"30\": 1, \"94\": 1, \"122\": 2, \"98\": 1}, \"75\": {\"51\": 1, \"101\": 3, \"75\": 7, \"124\": 1, \"15\": 2, \"9\": 1, \"6\": 1}, \"48\": {\"48\": 17, \"26\": 1, \"102\": 1, \"82\": 1}, \"61\": {\"61\": 15, \"120\": 2, \"93\": 1, \"8\": 2}, \"124\": {\"124\": 95, \"5\": 7, \"73\": 1, \"85\": 1, \"129\": 1, \"108\": 2, \"8\": 1, \"114\": 5, \"3\": 3, \"34\": 1, \"15\": 1, \"11\": 3, \"16\": 1, \"24\": 2}, \"11\": {\"108\": 4, \"124\": 3, \"11\": 32, \"122\": 3, \"7\": 3, \"86\": 1, \"4\": 2, \"71\": 9, \"12\": 1, \"117\": 1, \"114\": 6, \"39\": 1, \"3\": 3, \"98\": 2, \"0\": 1, \"8\": 1, \"129\": 1, \"106\": 1, \"95\": 2, \"24\": 2, \"18\": 1}, \"103\": {\"103\": 12, \"97\": 1, \"1\": 1, \"109\": 1, \"34\": 1}, \"7\": {\"7\": 104, \"54\": 1, \"10\": 2, \"12\": 2, \"109\": 2, \"110\": 1, \"114\": 1, \"122\": 8, \"26\": 1, \"8\": 3, \"121\": 1, \"127\": 5, \"71\": 1}, \"18\": {\"18\": 101, \"117\": 10, \"121\": 1, \"109\": 1, \"26\": 4, \"113\": 1, \"69\": 2}, \"31\": {\"31\": 13, \"69\": 2, \"118\": 1, \"72\": 1, \"62\": 2, \"126\": 1}, \"15\": {\"6\": 4, \"36\": 5, \"15\": 62, \"25\": 2, \"51\": 2, \"0\": 1, \"101\": 12, \"117\": 2, \"125\": 7, \"106\": 5, \"30\": 6, \"111\": 1, \"75\": 1, \"9\": 2, \"127\": 4, \"98\": 1, \"24\": 1}, \"1\": {\"1\": 100, \"99\": 1, \"93\": 1, \"43\": 1, \"40\": 9, \"62\": 1, \"3\": 2, \"33\": 1, \"65\": 1, \"55\": 2, \"44\": 1, \"126\": 2}, \"66\": {\"66\": 15, \"129\": 1, \"124\": 1, \"44\": 1, \"128\": 1, \"5\": 1}, \"110\": {\"66\": 1, \"4\": 4, \"81\": 1, \"71\": 4, \"110\": 16, \"7\": 1, \"65\": 1, \"93\": 1, \"122\": 1, \"40\": 2, \"26\": 1, \"61\": 1, \"57\": 1, \"74\": 1, \"121\": 1, \"128\": 1, \"113\": 1, \"107\": 1}, \"27\": {\"9\": 2, \"79\": 1, \"27\": 24, \"25\": 2, \"103\": 2, \"36\": 5, \"117\": 3, \"69\": 1, \"24\": 2, \"2\": 1, \"101\": 2, \"106\": 5, \"94\": 1, \"125\": 6, \"127\": 1, \"51\": 1, \"15\": 3, \"18\": 1, \"111\": 2, \"102\": 1, \"113\": 1, \"118\": 1}, \"22\": {\"22\": 18, \"125\": 1, \"27\": 1}, \"117\": {\"117\": 104, \"113\": 7, \"18\": 5, \"93\": 1, \"65\": 2, \"26\": 1}, \"39\": {\"120\": 3, \"31\": 1, \"14\": 1, \"126\": 1, \"26\": 12, \"113\": 1, \"39\": 37, \"118\": 2, \"62\": 2, \"102\": 6, \"109\": 5, \"69\": 5, \"70\": 1, \"93\": 3, \"18\": 3, \"88\": 5, \"90\": 6, \"16\": 4, \"20\": 1, \"2\": 1, \"63\": 1, \"82\": 1, \"21\": 4, \"87\": 2}}, \"Wisig_1\": {\"60\": {\"44\": 2, \"38\": 1, \"32\": 1, \"34\": 2, \"33\": 1, \"8\": 1, \"4\": 1, \"80\": 1, \"109\": 1, \"60\": 2, \"104\": 1, \"26\": 1, \"13\": 1}, \"59\": {\"62\": 1, \"59\": 7, \"27\": 3, \"67\": 1}, \"107\": {\"107\": 102, \"70\": 1, \"72\": 2, \"49\": 1, \"5\": 2, \"4\": 2, \"108\": 6, \"101\": 1, \"93\": 3, \"106\": 2, \"90\": 1, \"98\": 1}, \"113\": {\"62\": 1, \"113\": 108, \"16\": 2, \"118\": 1, \"18\": 3, \"33\": 2, \"117\": 4, \"121\": 1, \"102\": 1, \"69\": 1}, \"6\": {\"6\": 13, \"59\": 1, \"98\": 1, \"18\": 1, \"27\": 2, \"56\": 1, \"0\": 1, \"94\": 1, \"112\": 1, \"95\": 1, \"71\": 2, \"69\": 1, \"51\": 1, \"88\": 2, \"15\": 1, \"127\": 2}, \"24\": {\"24\": 37, \"49\": 1, \"70\": 1, \"94\": 4, \"98\": 6, \"30\": 2, \"97\": 1, \"111\": 4, \"127\": 4, \"12\": 4, \"41\": 1, \"108\": 3, \"27\": 3, \"101\": 4, \"15\": 4, \"89\": 3, \"0\": 2, \"125\": 2, \"110\": 2, \"5\": 1, \"36\": 1, \"117\": 1, \"106\": 1}, \"50\": {\"50\": 11, \"62\": 1, \"23\": 2, \"82\": 1, \"110\": 1}, \"62\": {\"62\": 111, \"109\": 2, \"33\": 6, \"1\": 1}, \"48\": {\"48\": 11, \"28\": 1}, \"104\": {\"60\": 1, \"105\": 1, \"14\": 1, \"104\": 10, \"31\": 1, \"34\": 1, \"43\": 1}, \"105\": {\"104\": 1, \"105\": 60, \"40\": 9, \"87\": 4, \"5\": 1, \"126\": 2, \"4\": 1, \"26\": 1, \"8\": 1, \"84\": 2, \"7\": 1, \"15\": 1}, \"44\": {\"44\": 63, \"107\": 4, \"83\": 1, \"94\": 1, \"108\": 3, \"34\": 1, \"86\": 1, \"8\": 1, \"93\": 1}, \"49\": {\"107\": 1, \"6\": 2, \"29\": 1, \"56\": 1, \"49\": 6, \"46\": 1, \"77\": 2, \"110\": 2, \"51\": 1, \"127\": 2, \"43\": 1}, \"55\": {\"55\": 12}, \"4\": {\"107\": 2, \"96\": 1, \"38\": 1, \"4\": 84, \"34\": 1, \"40\": 3, \"108\": 1, \"70\": 2, \"8\": 2, \"93\": 1, \"17\": 1, \"105\": 1}, \"76\": {\"76\": 14, \"66\": 1, \"61\": 1}, \"85\": {\"85\": 25, \"0\": 3, \"32\": 1, \"71\": 1, \"10\": 1, \"12\": 1}, \"89\": {\"89\": 26, \"73\": 1, \"9\": 3, \"70\": 1, \"94\": 1, \"54\": 1, \"107\": 2, \"29\": 1}, \"74\": {\"74\": 16}, \"112\": {\"32\": 1, \"30\": 1, \"112\": 8, \"58\": 2, \"37\": 1, \"53\": 1, \"15\": 2}, \"79\": {\"84\": 2, \"79\": 9, \"124\": 1}, \"0\": {\"0\": 62, \"118\": 1, \"85\": 3, \"110\": 6, \"41\": 1, \"93\": 4, \"98\": 3, \"55\": 2, \"101\": 1, \"10\": 1}, \"91\": {\"91\": 22, \"32\": 1, \"127\": 1, \"71\": 1, \"101\": 1, \"37\": 1, \"30\": 1}, \"118\": {\"118\": 50, \"95\": 1, \"69\": 4, \"18\": 5, \"26\": 7, \"39\": 6, \"117\": 4, \"16\": 3, \"50\": 1, \"113\": 1, \"27\": 1, \"33\": 1}, \"80\": {\"80\": 14, \"120\": 1, \"115\": 1}, \"64\": {\"64\": 14, \"74\": 1, \"23\": 1}, \"97\": {\"30\": 2, \"89\": 1, \"97\": 11, \"27\": 1, \"6\": 1, \"94\": 1, \"71\": 2, \"9\": 1}, \"84\": {\"84\": 88, \"14\": 4, \"64\": 2, \"40\": 3, \"7\": 2, \"43\": 3, \"1\": 7, \"105\": 3, \"114\": 8, \"42\": 1, \"19\": 1, \"44\": 1, \"126\": 1}, \"38\": {\"64\": 1, \"38\": 10, \"107\": 2, \"43\": 1, \"105\": 1, \"96\": 1}, \"30\": {\"30\": 25, \"112\": 1, \"127\": 5, \"27\": 2, \"94\": 3, \"98\": 2, \"15\": 3, \"59\": 2, \"75\": 2, \"91\": 2, \"101\": 2, \"10\": 1, \"88\": 1, \"12\": 1}, \"32\": {\"32\": 18, \"16\": 1, \"23\": 1, \"110\": 4, \"86\": 1, \"92\": 1, \"98\": 2, \"127\": 2, \"113\": 1, \"121\": 1}, \"72\": {\"72\": 21, \"68\": 1, \"73\": 2, \"0\": 1, \"106\": 2, \"77\": 1, \"5\": 1, \"107\": 2, \"4\": 1}, \"33\": {\"33\": 118, \"65\": 1, \"116\": 1, \"62\": 3, \"96\": 1, \"102\": 3, \"11\": 1, \"3\": 2, \"99\": 1, \"118\": 1}, \"34\": {\"24\": 1, \"107\": 1, \"126\": 2, \"88\": 1, \"27\": 1, \"15\": 1, \"68\": 1, \"44\": 3, \"43\": 1, \"77\": 1, \"111\": 3, \"7\": 1, \"10\": 1, \"53\": 1, \"6\": 1, \"34\": 3, \"83\": 1, \"9\": 2, \"87\": 1, \"70\": 1, \"71\": 1, \"42\": 1, \"98\": 1, \"128\": 1}, \"28\": {\"107\": 2, \"28\": 16, \"21\": 2}, \"123\": {\"123\": 10, \"44\": 1, \"119\": 2, \"95\": 2, \"2\": 1}, \"2\": {\"33\": 3, \"2\": 7, \"11\": 3, \"16\": 3, \"121\": 2, \"3\": 1, \"82\": 2, \"118\": 1, \"117\": 1, \"113\": 2, \"95\": 2, \"13\": 1, \"123\": 1, \"116\": 2, \"109\": 1}, \"70\": {\"34\": 3, \"70\": 27, \"126\": 3, \"104\": 1, \"5\": 7, \"84\": 5, \"128\": 1, \"44\": 6, \"7\": 3, \"108\": 6, \"107\": 11, \"4\": 4, \"86\": 1, \"93\": 4, \"88\": 1, \"39\": 2, \"26\": 1, \"105\": 1, \"109\": 1, \"106\": 8, \"101\": 1, \"122\": 1, \"8\": 6, \"10\": 2, \"43\": 3, \"110\": 1, \"72\": 2, \"87\": 2, \"28\": 1, \"45\": 2, \"83\": 1, \"114\": 1, \"40\": 1, \"90\": 1, \"98\": 1, \"33\": 1, \"14\": 1}, \"127\": {\"127\": 83, \"53\": 1, \"15\": 1, \"78\": 1, \"30\": 1, \"24\": 2, \"98\": 6, \"111\": 4, \"101\": 2, \"94\": 2, \"10\": 1, \"12\": 2, \"71\": 1, \"88\": 1}, \"110\": {\"110\": 95, \"0\": 7, \"32\": 2, \"108\": 1, \"98\": 4, \"127\": 3, \"10\": 1, \"117\": 2, \"71\": 1, \"101\": 5, \"113\": 1, \"30\": 1, \"91\": 1, \"93\": 2, \"111\": 1, \"69\": 1}, \"126\": {\"126\": 45, \"64\": 1, \"46\": 1, \"17\": 1, \"105\": 6, \"114\": 8, \"77\": 1, \"118\": 1, \"19\": 2, \"8\": 6, \"4\": 3, \"90\": 2, \"87\": 6, \"122\": 2, \"84\": 5, \"70\": 3, \"40\": 6, \"124\": 5, \"43\": 8, \"14\": 3, \"1\": 3, \"7\": 11, \"120\": 1, \"72\": 1, \"44\": 1, \"5\": 1, \"93\": 1, \"107\": 1, \"106\": 1}, \"13\": {\"13\": 13, \"16\": 2, \"118\": 1}, \"15\": {\"15\": 50, \"127\": 3, \"111\": 5, \"24\": 1, \"27\": 5, \"94\": 6, \"101\": 2, \"71\": 6, \"12\": 2, \"106\": 2, \"36\": 8, \"125\": 9, \"97\": 2, \"6\": 1, \"30\": 1, \"110\": 1}, \"29\": {\"29\": 25, \"106\": 1, \"83\": 1, \"111\": 1}, \"18\": {\"18\": 95, \"26\": 5, \"39\": 2, \"69\": 2, \"117\": 8, \"118\": 4, \"2\": 2, \"16\": 1, \"62\": 1}, \"7\": {\"7\": 121, \"19\": 1, \"1\": 1, \"5\": 1, \"122\": 2, \"126\": 5, \"43\": 5, \"87\": 1, \"83\": 1, \"40\": 1, \"105\": 1, \"84\": 2}, \"56\": {\"6\": 2, \"56\": 5, \"111\": 2, \"30\": 2, \"71\": 1}, \"98\": {\"98\": 65, \"56\": 1, \"101\": 4, \"24\": 2, \"127\": 11, \"12\": 7, \"106\": 3, \"110\": 5, \"71\": 2, \"111\": 3, \"85\": 1, \"34\": 1, \"53\": 1, \"32\": 1, \"27\": 1}, \"99\": {\"99\": 7, \"84\": 1, \"65\": 1, \"109\": 1, \"126\": 1, \"14\": 1, \"42\": 2, \"80\": 1, \"25\": 3, \"2\": 1, \"3\": 1, \"17\": 2, \"114\": 2}, \"77\": {\"77\": 8, \"17\": 2, \"71\": 2, \"26\": 1, \"72\": 3}, \"103\": {\"15\": 1, \"103\": 13, \"94\": 1, \"111\": 1}, \"128\": {\"128\": 2, \"99\": 1, \"108\": 3, \"80\": 1, \"109\": 4, \"68\": 1, \"72\": 1, \"29\": 1, \"7\": 1, \"81\": 2, \"116\": 1, \"106\": 1, \"89\": 1, \"42\": 2, \"120\": 1, \"43\": 1}, \"3\": {\"3\": 59, \"81\": 2, \"33\": 3, \"69\": 2, \"118\": 1, \"102\": 8, \"125\": 1, \"88\": 1, \"82\": 1, \"11\": 5, \"109\": 2, \"94\": 1, \"36\": 1, \"62\": 1}, \"121\": {\"117\": 2, \"113\": 1, \"121\": 15, \"65\": 2, \"39\": 2, \"62\": 2, \"18\": 2, \"63\": 1, \"102\": 1, \"16\": 1, \"119\": 1, \"69\": 1, \"42\": 1}, \"42\": {\"42\": 3, \"99\": 1, \"69\": 3, \"0\": 1, \"81\": 1, \"116\": 4, \"61\": 1, \"86\": 1, \"102\": 4, \"4\": 1, \"82\": 2, \"50\": 1, \"55\": 1, \"128\": 1, \"32\": 1, \"129\": 2}, \"90\": {\"90\": 109, \"109\": 8, \"62\": 2, \"43\": 1}, \"37\": {\"37\": 12, \"58\": 3, \"75\": 1}, \"120\": {\"121\": 1, \"120\": 16, \"87\": 1, \"66\": 1, \"39\": 1}, \"117\": {\"117\": 101, \"118\": 3, \"26\": 8, \"16\": 3, \"18\": 3}, \"9\": {\"9\": 28, \"89\": 1, \"105\": 1, \"108\": 1, \"34\": 1}, \"108\": {\"108\": 42, \"107\": 13, \"47\": 1, \"44\": 1, \"89\": 3, \"0\": 1, \"71\": 1, \"87\": 2, \"86\": 2, \"124\": 1, \"101\": 5, \"93\": 8, \"24\": 3, \"127\": 1, \"98\": 5, \"8\": 2, \"106\": 9, \"70\": 5, \"12\": 3, \"110\": 1, \"105\": 1, \"5\": 3, \"29\": 2, \"53\": 1, \"49\": 1, \"125\": 1, \"1\": 1, \"90\": 1, \"111\": 4}, \"83\": {\"104\": 2, \"83\": 16, \"73\": 2, \"105\": 2, \"8\": 1, \"34\": 1, \"107\": 1, \"4\": 1, \"93\": 1, \"44\": 1}, \"14\": {\"14\": 77, \"8\": 1, \"121\": 1, \"122\": 8, \"84\": 2, \"109\": 2, \"126\": 2, \"43\": 2, \"38\": 1}, \"63\": {\"63\": 15, \"13\": 1}, \"11\": {\"11\": 62, \"22\": 1, \"19\": 1, \"2\": 2, \"3\": 6, \"102\": 9, \"82\": 2, \"26\": 5, \"109\": 3, \"62\": 3, \"33\": 11, \"69\": 2, \"1\": 3, \"114\": 1, \"7\": 1, \"66\": 1, \"23\": 1, \"14\": 2, \"87\": 1, \"90\": 1}, \"95\": {\"69\": 1, \"95\": 25, \"121\": 1, \"18\": 4, \"26\": 2, \"2\": 2, \"39\": 1}, \"26\": {\"26\": 103, \"117\": 12, \"18\": 3, \"69\": 1, \"118\": 1, \"102\": 1, \"16\": 5, \"36\": 1, \"51\": 1, \"39\": 2}, \"22\": {\"22\": 7, \"84\": 2, \"96\": 1, \"123\": 1, \"80\": 1, \"19\": 1, \"109\": 1, \"14\": 2}, \"102\": {\"102\": 103, \"67\": 2, \"100\": 1, \"3\": 2, \"33\": 2, \"118\": 3, \"69\": 5, \"11\": 1, \"26\": 1}, \"69\": {\"69\": 77, \"102\": 7, \"39\": 7, \"118\": 2, \"62\": 4, \"113\": 2, \"18\": 1, \"33\": 1, \"3\": 1, \"90\": 1, \"26\": 3}, \"1\": {\"1\": 94, \"126\": 5, \"105\": 1, \"114\": 13, \"43\": 1, \"124\": 3, \"84\": 4, \"70\": 1, \"79\": 1, \"25\": 1, \"19\": 1, \"7\": 2, \"40\": 1, \"87\": 1, \"14\": 1}, \"67\": {\"67\": 14, \"82\": 2}, \"57\": {\"57\": 12}, \"8\": {\"8\": 69, \"83\": 1, \"44\": 2, \"94\": 1, \"40\": 10, \"18\": 1, \"87\": 9, \"84\": 4, \"4\": 2, \"108\": 4, \"107\": 5, \"105\": 1, \"126\": 1, \"93\": 8, \"5\": 4, \"70\": 7, \"100\": 1, \"86\": 1, \"7\": 1, \"88\": 1, \"10\": 1}, \"109\": {\"129\": 1, \"64\": 1, \"109\": 61, \"120\": 1, \"116\": 1, \"84\": 4, \"19\": 3, \"39\": 3, \"118\": 1, \"62\": 5, \"117\": 1, \"7\": 2, \"21\": 6, \"18\": 2, \"1\": 4, \"90\": 13, \"122\": 2, \"45\": 2, \"81\": 1, \"96\": 1, \"11\": 2, \"33\": 1, \"14\": 3, \"114\": 1, \"43\": 1, \"69\": 1}, \"129\": {\"128\": 3, \"45\": 1, \"102\": 3, \"26\": 2, \"2\": 3, \"129\": 6, \"116\": 1, \"96\": 1, \"63\": 1, \"118\": 1, \"87\": 1, \"13\": 1, \"83\": 1, \"69\": 1, \"84\": 2}, \"111\": {\"111\": 85, \"24\": 3, \"112\": 2, \"71\": 5, \"98\": 4, \"12\": 3, \"88\": 4, \"127\": 5, \"101\": 1, \"106\": 2, \"125\": 1, \"15\": 3, \"94\": 2}, \"71\": {\"111\": 5, \"102\": 1, \"71\": 65, \"12\": 6, \"52\": 2, \"53\": 2, \"30\": 3, \"69\": 1, \"88\": 4, \"27\": 1, \"98\": 3, \"127\": 7, \"113\": 2, \"103\": 1, \"51\": 1, \"24\": 1, \"117\": 1, \"26\": 1, \"62\": 1}, \"47\": {\"47\": 7, \"29\": 3, \"108\": 1, \"34\": 1}, \"82\": {\"82\": 23, \"81\": 2, \"3\": 1, \"62\": 2, \"11\": 1, \"50\": 2, \"128\": 1, \"67\": 3, \"116\": 1}, \"27\": {\"71\": 7, \"27\": 41, \"30\": 2, \"24\": 7, \"125\": 6, \"94\": 5, \"88\": 5, \"12\": 4, \"15\": 6, \"36\": 4, \"111\": 4, \"6\": 1}, \"19\": {\"120\": 2, \"19\": 15, \"83\": 1, \"115\": 1, \"114\": 2, \"126\": 2, \"43\": 1, \"40\": 2, \"84\": 1, \"96\": 1}, \"122\": {\"63\": 1, \"122\": 41, \"109\": 3, \"7\": 3, \"28\": 1, \"44\": 1, \"14\": 14, \"117\": 1, \"84\": 6, \"90\": 3, \"87\": 1, \"114\": 2, \"1\": 3, \"99\": 2, \"43\": 4, \"38\": 1, \"110\": 1}, \"53\": {\"71\": 1, \"27\": 1, \"88\": 1, \"53\": 13, \"32\": 1, \"6\": 1, \"112\": 1, \"30\": 1}, \"87\": {\"104\": 1, \"76\": 1, \"5\": 4, \"87\": 39, \"10\": 2, \"4\": 5, \"79\": 1, \"107\": 1, \"44\": 5, \"40\": 9, \"73\": 2, \"1\": 1, \"28\": 2, \"14\": 2, \"43\": 6, \"89\": 1, \"93\": 2, \"114\": 5, \"105\": 2, \"126\": 4, \"84\": 4, \"7\": 3, \"57\": 1, \"37\": 1, \"34\": 1, \"8\": 2, \"70\": 1}, \"100\": {\"11\": 1, \"82\": 4, \"129\": 1, \"102\": 1, \"3\": 3, \"100\": 5, \"33\": 1}, \"66\": {\"66\": 12, \"90\": 2, \"80\": 2}, \"31\": {\"31\": 14, \"49\": 1, \"108\": 1}, \"58\": {\"58\": 11, \"92\": 1}, \"68\": {\"68\": 13, \"97\": 1, \"101\": 1, \"12\": 1}, \"88\": {\"97\": 3, \"127\": 7, \"27\": 6, \"46\": 1, \"88\": 21, \"49\": 1, \"111\": 9, \"12\": 5, \"125\": 17, \"110\": 6, \"36\": 6, \"16\": 1, \"101\": 8, \"71\": 1, \"106\": 5, \"15\": 6, \"94\": 1, \"108\": 1, \"98\": 1, \"113\": 1, \"6\": 1, \"32\": 2, \"4\": 1, \"93\": 1, \"0\": 1, \"24\": 1}, \"45\": {\"128\": 1, \"129\": 1, \"44\": 1, \"122\": 1, \"3\": 2, \"45\": 2, \"11\": 3, \"36\": 1}, \"114\": {\"114\": 100, \"124\": 2, \"43\": 2, \"1\": 9, \"84\": 7, \"105\": 1, \"122\": 1, \"126\": 2, \"5\": 2, \"22\": 1, \"40\": 1}, \"23\": {\"70\": 1, \"126\": 1, \"85\": 1, \"99\": 1, \"80\": 1, \"23\": 3, \"60\": 3, \"90\": 3, \"62\": 1, \"97\": 2, \"129\": 1, \"0\": 1, \"11\": 1, \"1\": 2, \"106\": 2}, \"65\": {\"58\": 1, \"102\": 1, \"43\": 1, \"16\": 1, \"8\": 2, \"74\": 1, \"51\": 1, \"63\": 1, \"65\": 1, \"18\": 2}, \"124\": {\"124\": 96, \"46\": 1, \"126\": 4, \"72\": 1, \"40\": 2, \"83\": 1, \"1\": 4, \"5\": 1, \"8\": 1, \"87\": 1, \"14\": 1, \"114\": 4, \"88\": 1}, \"10\": {\"10\": 79, \"85\": 6, \"58\": 1, \"110\": 8, \"41\": 1, \"44\": 2, \"0\": 8, \"15\": 1, \"39\": 2, \"71\": 1, \"98\": 2, \"8\": 1, \"108\": 1, \"4\": 1, \"117\": 1, \"70\": 3, \"93\": 1, \"43\": 1}, \"92\": {\"92\": 24, \"30\": 1, \"58\": 2, \"85\": 1}, \"40\": {\"40\": 98, \"17\": 2, \"87\": 2, \"77\": 1, \"84\": 6, \"19\": 2, \"21\": 1, \"72\": 1, \"8\": 4, \"126\": 4, \"114\": 3, \"105\": 8, \"107\": 4, \"26\": 1, \"4\": 2, \"104\": 1, \"1\": 1, \"5\": 2, \"16\": 1}, \"73\": {\"73\": 14, \"64\": 2, \"46\": 1, \"40\": 1, \"5\": 1, \"87\": 1}, \"94\": {\"94\": 33, \"27\": 9, \"36\": 8, \"24\": 4, \"52\": 1, \"127\": 1, \"15\": 10, \"71\": 6, \"30\": 2, \"12\": 6, \"88\": 5, \"111\": 3, \"59\": 1, \"98\": 1, \"125\": 1, \"118\": 1}, \"81\": {\"81\": 27, \"11\": 1}, \"101\": {\"101\": 104, \"88\": 1, \"62\": 1, \"110\": 1, \"0\": 1, \"93\": 1, \"33\": 1}, \"86\": {\"86\": 27, \"71\": 1, \"108\": 1, \"0\": 1, \"110\": 1, \"111\": 1, \"4\": 2, \"24\": 1, \"107\": 1}, \"78\": {\"78\": 3, \"38\": 1, \"126\": 2, \"96\": 1, \"23\": 1, \"115\": 1, \"87\": 1, \"64\": 2, \"120\": 1, \"109\": 1, \"40\": 1, \"99\": 1}, \"96\": {\"22\": 1, \"38\": 1, \"90\": 1, \"60\": 1, \"99\": 1, \"40\": 3, \"25\": 1, \"129\": 1, \"96\": 5, \"42\": 1, \"14\": 1, \"109\": 2, \"87\": 1}, \"5\": {\"5\": 62, \"107\": 8, \"89\": 2, \"105\": 3, \"87\": 1, \"4\": 5, \"70\": 2, \"109\": 1, \"50\": 1, \"104\": 1, \"128\": 1, \"33\": 1}, \"16\": {\"16\": 72, \"117\": 13, \"26\": 9, \"62\": 1, \"69\": 2, \"121\": 2, \"18\": 3, \"33\": 3, \"39\": 1, \"118\": 1, \"113\": 1}, \"35\": {\"35\": 11, \"42\": 1}, \"51\": {\"51\": 12, \"71\": 2, \"15\": 2}, \"46\": {\"46\": 6, \"25\": 1, \"88\": 1, \"6\": 1, \"5\": 1, \"126\": 1, \"71\": 1}, \"20\": {\"20\": 11, \"14\": 3, \"105\": 1, \"114\": 1}, \"116\": {\"102\": 1, \"116\": 19, \"109\": 2, \"21\": 1, \"62\": 3, \"11\": 1, \"100\": 1, \"82\": 1, \"114\": 1, \"50\": 1, \"15\": 1}, \"75\": {\"75\": 16}, \"43\": {\"84\": 14, \"7\": 12, \"80\": 1, \"43\": 54, \"87\": 5, \"109\": 3, \"105\": 1, \"1\": 5, \"90\": 1, \"21\": 1, \"14\": 8, \"5\": 1, \"44\": 3, \"26\": 1, \"126\": 2, \"122\": 5, \"40\": 1, \"114\": 1, \"115\": 1, \"61\": 1, \"38\": 1, \"120\": 1, \"17\": 1, \"19\": 1, \"4\": 1, \"117\": 1, \"8\": 1}, \"17\": {\"107\": 1, \"17\": 10, \"54\": 3, \"98\": 1, \"108\": 1}, \"12\": {\"12\": 67, \"110\": 1, \"106\": 3, \"24\": 2, \"71\": 4, \"111\": 6, \"127\": 1, \"82\": 1, \"0\": 2, \"98\": 5, \"101\": 7, \"88\": 1, \"51\": 1, \"15\": 2, \"108\": 1}, \"25\": {\"25\": 13, \"42\": 1, \"99\": 1, \"3\": 1}, \"54\": {\"54\": 12, \"89\": 1, \"73\": 1, \"92\": 1, \"129\": 1}, \"36\": {\"36\": 87, \"94\": 5, \"26\": 1, \"125\": 10, \"113\": 1, \"27\": 2, \"88\": 5, \"18\": 1}, \"52\": {\"52\": 20}, \"61\": {\"61\": 9, \"109\": 2, \"76\": 1}, \"106\": {\"106\": 107, \"47\": 1, \"12\": 2, \"98\": 3, \"107\": 1, \"108\": 2, \"111\": 2, \"101\": 1, \"77\": 1}, \"39\": {\"39\": 46, \"66\": 1, \"16\": 8, \"61\": 1, \"121\": 2, \"117\": 14, \"26\": 8, \"102\": 2, \"118\": 2, \"18\": 2, \"62\": 4, \"33\": 6, \"69\": 4, \"3\": 1, \"90\": 1, \"113\": 2}, \"119\": {\"119\": 15, \"95\": 1}, \"125\": {\"125\": 105, \"24\": 2, \"94\": 5, \"27\": 6, \"36\": 13, \"15\": 2, \"88\": 12, \"111\": 2, \"51\": 1}, \"93\": {\"93\": 82, \"29\": 1, \"0\": 4, \"44\": 4, \"106\": 3, \"8\": 6, \"5\": 4, \"110\": 2, \"107\": 8, \"108\": 11, \"40\": 1, \"70\": 7, \"17\": 2, \"10\": 4, \"89\": 1, \"87\": 3, \"121\": 1, \"85\": 1, \"122\": 1, \"4\": 1, \"126\": 1}, \"115\": {\"115\": 9, \"114\": 1, \"1\": 2}, \"21\": {\"69\": 1, \"21\": 10, \"96\": 2, \"7\": 1, \"4\": 1, \"105\": 2, \"90\": 3, \"39\": 2, \"94\": 1, \"118\": 1, \"33\": 2, \"128\": 2, \"66\": 2, \"127\": 1, \"2\": 1, \"108\": 1, \"87\": 2, \"109\": 4, \"113\": 1}, \"41\": {\"41\": 15, \"108\": 1}}, \"Wisig_4\": {\"55\": {\"55\": 16}, \"9\": {\"59\": 1, \"9\": 19, \"10\": 1, \"68\": 1, \"51\": 1, \"53\": 1, \"15\": 1, \"77\": 1, \"24\": 2}, \"70\": {\"56\": 1, \"70\": 38, \"23\": 1, \"32\": 1, \"128\": 1, \"85\": 3, \"127\": 4, \"99\": 1, \"22\": 1, \"27\": 5, \"4\": 7, \"0\": 3, \"71\": 3, \"108\": 2, \"88\": 2, \"111\": 2, \"114\": 3, \"109\": 2, \"106\": 3, \"110\": 1, \"39\": 1, \"7\": 6, \"124\": 7, \"98\": 3, \"87\": 5, \"8\": 2, \"101\": 1, \"34\": 1, \"82\": 2, \"83\": 1, \"86\": 1, \"112\": 1, \"43\": 1, \"10\": 1, \"117\": 1, \"90\": 2, \"1\": 1, \"125\": 1}, \"112\": {\"112\": 10, \"56\": 1, \"114\": 2, \"83\": 1, \"98\": 1, \"71\": 1}, \"115\": {\"115\": 9, \"36\": 1, \"18\": 2, \"129\": 1, \"78\": 1, \"40\": 2}, \"56\": {\"56\": 8, \"43\": 1, \"128\": 1, \"127\": 1, \"0\": 1}, \"108\": {\"108\": 16, \"83\": 1, \"107\": 9, \"60\": 1, \"25\": 1, \"115\": 1, \"109\": 4, \"43\": 7, \"50\": 1, \"19\": 1, \"57\": 1, \"105\": 3, \"14\": 4, \"99\": 1, \"33\": 3, \"87\": 4, \"69\": 1, \"62\": 2, \"10\": 1, \"88\": 1, \"16\": 1, \"118\": 1, \"5\": 5, \"122\": 5, \"15\": 1, \"32\": 2, \"11\": 4, \"71\": 1, \"78\": 1, \"39\": 1, \"94\": 1, \"114\": 2, \"36\": 1, \"93\": 2, \"40\": 1}, \"117\": {\"117\": 103, \"81\": 3, \"39\": 3, \"113\": 8, \"26\": 2, \"40\": 1, \"22\": 1, \"67\": 1, \"16\": 1, \"18\": 1}, \"111\": {\"9\": 2, \"111\": 85, \"103\": 3, \"127\": 7, \"6\": 1, \"15\": 1, \"106\": 11, \"27\": 3, \"12\": 4, \"98\": 2, \"125\": 1, \"0\": 2, \"36\": 2, \"68\": 1, \"42\": 1, \"10\": 1, \"101\": 2, \"8\": 2, \"113\": 1}, \"71\": {\"71\": 70, \"63\": 1, \"70\": 3, \"4\": 5, \"83\": 1, \"114\": 4, \"15\": 1, \"7\": 2, \"1\": 2, \"87\": 2, \"100\": 1, \"129\": 1, \"124\": 1, \"9\": 1, \"82\": 1, \"49\": 1, \"36\": 1, \"105\": 1, \"126\": 4, \"3\": 1}, \"59\": {\"59\": 7, \"25\": 1, \"6\": 4}, \"10\": {\"59\": 1, \"10\": 35, \"37\": 2, \"25\": 1, \"9\": 2, \"24\": 6, \"111\": 2, \"6\": 4, \"41\": 1, \"30\": 3, \"4\": 3, \"15\": 11, \"7\": 3, \"70\": 4, \"88\": 1, \"27\": 2, \"127\": 3, \"94\": 3, \"0\": 10, \"87\": 1, \"106\": 1, \"101\": 2, \"34\": 1, \"32\": 1, \"110\": 1, \"125\": 6, \"14\": 1, \"1\": 1, \"42\": 1, \"36\": 8, \"12\": 1, \"126\": 1, \"108\": 1}, \"83\": {\"115\": 1, \"83\": 12, \"40\": 1, \"114\": 1, \"72\": 1, \"128\": 1, \"71\": 1, \"106\": 1, \"129\": 1, \"60\": 1, \"46\": 1, \"124\": 1, \"104\": 1, \"1\": 3, \"88\": 1}, \"116\": {\"116\": 13, \"66\": 1, \"45\": 1, \"90\": 1, \"96\": 1, \"69\": 3, \"115\": 1, \"44\": 1, \"5\": 2, \"93\": 1, \"3\": 1, \"102\": 1, \"11\": 1}, \"13\": {\"13\": 12, \"109\": 1, \"67\": 1, \"84\": 2}, \"4\": {\"71\": 4, \"56\": 1, \"4\": 79, \"49\": 1, \"95\": 1, \"27\": 3, \"70\": 6, \"7\": 2, \"88\": 2, \"98\": 2, \"105\": 1, \"1\": 1, \"126\": 1}, \"125\": {\"75\": 1, \"125\": 86, \"94\": 3, \"106\": 2, \"54\": 1, \"24\": 5, \"117\": 1, \"10\": 2, \"36\": 3, \"98\": 1, \"113\": 1}, \"102\": {\"102\": 106, \"31\": 1, \"5\": 2, \"84\": 7, \"90\": 2, \"93\": 2, \"44\": 1, \"69\": 2, \"18\": 1}, \"47\": {\"58\": 1, \"47\": 11}, \"28\": {\"28\": 15, \"79\": 3, \"1\": 1, \"129\": 1}, \"82\": {\"82\": 29, \"108\": 1, \"4\": 1, \"78\": 1}, \"60\": {\"108\": 1, \"17\": 3, \"19\": 2, \"5\": 1, \"110\": 2, \"7\": 1, \"72\": 1, \"8\": 1, \"99\": 2, \"100\": 2, \"116\": 1, \"60\": 7, \"78\": 1, \"32\": 1, \"129\": 1, \"112\": 2, \"114\": 1, \"66\": 1, \"70\": 1}, \"107\": {\"14\": 4, \"95\": 1, \"107\": 94, \"40\": 8, \"115\": 1, \"79\": 1, \"78\": 1, \"114\": 2, \"105\": 3, \"1\": 1, \"11\": 4, \"5\": 1, \"33\": 3, \"3\": 6, \"43\": 1, \"129\": 1, \"108\": 1, \"44\": 1}, \"75\": {\"47\": 1, \"75\": 13, \"34\": 2}, \"31\": {\"31\": 11, \"45\": 1, \"107\": 1, \"5\": 2, \"20\": 1}, \"92\": {\"102\": 4, \"92\": 19, \"33\": 1, \"80\": 1, \"69\": 2, \"45\": 1}, \"58\": {\"58\": 15, \"15\": 1}, \"113\": {\"113\": 51, \"117\": 16, \"62\": 1, \"84\": 1, \"38\": 2, \"18\": 7, \"26\": 9, \"69\": 2, \"90\": 11, \"81\": 1, \"39\": 6, \"126\": 4, \"16\": 6, \"109\": 6, \"33\": 1, \"93\": 2, \"67\": 1, \"44\": 1}, \"95\": {\"17\": 2, \"95\": 22, \"101\": 2, \"112\": 2, \"85\": 1, \"98\": 2, \"68\": 1}, \"14\": {\"14\": 87, \"126\": 1, \"22\": 1, \"110\": 5, \"43\": 4, \"40\": 4, \"107\": 1, \"16\": 1, \"87\": 1, \"115\": 1, \"33\": 3, \"117\": 1, \"88\": 1, \"62\": 1}, \"17\": {\"17\": 15, \"82\": 1, \"128\": 2, \"4\": 1, \"19\": 1}, \"104\": {\"104\": 10, \"71\": 1, \"60\": 1, \"105\": 2, \"107\": 2}, \"72\": {\"72\": 14, \"17\": 2, \"110\": 1, \"87\": 1, \"99\": 2, \"98\": 1, \"62\": 1, \"60\": 1, \"78\": 1, \"7\": 1, \"32\": 2, \"76\": 1, \"115\": 1, \"82\": 1, \"43\": 1, \"40\": 1}, \"69\": {\"69\": 104, \"16\": 1, \"90\": 3, \"109\": 2, \"84\": 2, \"102\": 8, \"44\": 1, \"108\": 1, \"118\": 2, \"116\": 1, \"122\": 1, \"18\": 1, \"93\": 1}, \"63\": {\"63\": 12, \"26\": 1, \"117\": 1, \"81\": 2}, \"12\": {\"12\": 52, \"8\": 9, \"106\": 8, \"103\": 1, \"111\": 6, \"41\": 1, \"10\": 4, \"101\": 1, \"98\": 6, \"7\": 1, \"127\": 4, \"88\": 1, \"82\": 1, \"24\": 1, \"0\": 3, \"117\": 1}, \"25\": {\"25\": 15, \"10\": 1}, \"67\": {\"63\": 1, \"50\": 1, \"109\": 1, \"26\": 1, \"44\": 2, \"74\": 2, \"3\": 2, \"67\": 3, \"113\": 1, \"39\": 1, \"33\": 1}, \"50\": {\"43\": 2, \"50\": 10, \"74\": 1, \"5\": 1, \"33\": 1, \"64\": 1}, \"43\": {\"108\": 5, \"43\": 34, \"31\": 1, \"79\": 1, \"110\": 6, \"26\": 1, \"72\": 1, \"20\": 3, \"40\": 12, \"60\": 1, \"32\": 1, \"70\": 3, \"22\": 1, \"117\": 1, \"33\": 9, \"122\": 4, \"14\": 4, \"3\": 2, \"107\": 6, \"11\": 2, \"44\": 1, \"5\": 4, \"1\": 2, \"93\": 2, \"78\": 1, \"23\": 1, \"99\": 2, \"55\": 1, \"50\": 1, \"84\": 1, \"49\": 1, \"87\": 2, \"118\": 1, \"88\": 1, \"71\": 1}, \"96\": {\"69\": 2, \"67\": 1, \"96\": 8, \"62\": 1, \"39\": 1, \"93\": 1, \"90\": 1, \"80\": 2, \"84\": 2, \"13\": 1}, \"128\": {\"128\": 14, \"17\": 1, \"70\": 1, \"86\": 1, \"71\": 2, \"76\": 1, \"89\": 1, \"72\": 1, \"4\": 1, \"88\": 1}, \"77\": {\"77\": 12}, \"54\": {\"54\": 16}, \"118\": {\"118\": 52, \"122\": 6, \"69\": 12, \"123\": 1, \"109\": 6, \"11\": 1, \"39\": 1, \"62\": 6, \"113\": 1, \"81\": 1, \"33\": 5, \"43\": 2, \"26\": 2, \"110\": 4, \"93\": 4, \"14\": 1, \"84\": 1, \"90\": 1, \"88\": 2, \"96\": 1, \"102\": 1, \"108\": 1}, \"30\": {\"30\": 31, \"111\": 2, \"29\": 5, \"109\": 1, \"8\": 2, \"15\": 10, \"91\": 2, \"101\": 3, \"12\": 3, \"10\": 5, \"127\": 3, \"27\": 3, \"9\": 1, \"103\": 1, \"0\": 2, \"125\": 1, \"69\": 1}, \"51\": {\"30\": 2, \"111\": 4, \"34\": 2, \"51\": 3, \"15\": 1, \"97\": 2, \"9\": 1, \"94\": 1}, \"122\": {\"118\": 8, \"122\": 27, \"67\": 1, \"110\": 2, \"62\": 2, \"38\": 2, \"14\": 2, \"43\": 3, \"107\": 1, \"66\": 1, \"93\": 5, \"40\": 1, \"69\": 2, \"11\": 2, \"90\": 1, \"5\": 1, \"39\": 1, \"33\": 8, \"114\": 1, \"74\": 1, \"102\": 1, \"44\": 3, \"88\": 1, \"109\": 3, \"108\": 1, \"15\": 1, \"84\": 1, \"18\": 1}, \"46\": {\"46\": 13, \"105\": 1, \"63\": 1, \"83\": 1, \"111\": 1, \"79\": 2, \"56\": 1}, \"79\": {\"79\": 7, \"46\": 1, \"115\": 1, \"107\": 3, \"112\": 1, \"11\": 1, \"28\": 1, \"3\": 1}, \"103\": {\"103\": 11, \"111\": 2, \"12\": 2, \"106\": 1}, \"74\": {\"43\": 1, \"74\": 7, \"115\": 1, \"49\": 2, \"40\": 1, \"33\": 2, \"28\": 1, \"45\": 1}, \"90\": {\"90\": 94, \"118\": 6, \"78\": 1, \"33\": 5, \"110\": 2, \"44\": 6, \"109\": 8, \"69\": 4, \"122\": 3, \"84\": 2, \"16\": 1, \"93\": 5, \"102\": 4, \"38\": 2, \"121\": 2, \"43\": 1}, \"8\": {\"8\": 71, \"30\": 3, \"12\": 5, \"111\": 11, \"127\": 10, \"98\": 1, \"117\": 1, \"91\": 3, \"101\": 24, \"106\": 6, \"0\": 2, \"15\": 1, \"24\": 1, \"59\": 1, \"26\": 1, \"16\": 1}, \"94\": {\"94\": 34, \"125\": 9, \"9\": 3, \"71\": 1, \"24\": 5, \"75\": 1, \"111\": 6, \"36\": 4, \"15\": 9, \"106\": 7, \"10\": 1, \"107\": 2, \"54\": 1, \"25\": 1, \"126\": 2, \"16\": 1, \"7\": 1}, \"7\": {\"7\": 93, \"17\": 3, \"4\": 2, \"36\": 1, \"90\": 1, \"70\": 4, \"114\": 2, \"27\": 1, \"126\": 1, \"88\": 2, \"91\": 1, \"128\": 2, \"55\": 1, \"82\": 1, \"112\": 1, \"71\": 5, \"43\": 1}, \"61\": {\"61\": 8, \"117\": 2, \"26\": 1, \"18\": 2, \"121\": 1, \"81\": 1, \"39\": 1}, \"26\": {\"26\": 81, \"109\": 1, \"18\": 10, \"35\": 1, \"39\": 3, \"63\": 2, \"57\": 1, \"61\": 1, \"113\": 6, \"126\": 4, \"117\": 4, \"123\": 1, \"81\": 2, \"84\": 2, \"69\": 1}, \"127\": {\"127\": 80, \"37\": 1, \"101\": 3, \"111\": 4, \"12\": 2, \"106\": 2, \"30\": 1, \"27\": 3, \"8\": 2, \"98\": 4, \"26\": 1, \"103\": 2, \"10\": 3}, \"23\": {\"7\": 1, \"61\": 1, \"21\": 1, \"126\": 1, \"52\": 1, \"26\": 3, \"65\": 2, \"123\": 1, \"16\": 1, \"81\": 1, \"55\": 2, \"85\": 1}, \"1\": {\"1\": 54, \"19\": 2, \"82\": 1, \"71\": 10, \"107\": 2, \"105\": 7, \"114\": 10, \"7\": 2, \"87\": 6, \"3\": 5, \"40\": 1, \"18\": 1, \"13\": 1, \"5\": 1, \"49\": 1, \"88\": 1, \"70\": 1, \"125\": 1, \"98\": 1}, \"93\": {\"93\": 63, \"90\": 4, \"69\": 4, \"44\": 4, \"14\": 3, \"33\": 16, \"96\": 2, \"5\": 6, \"110\": 10, \"40\": 1, \"3\": 1, \"107\": 2, \"109\": 3, \"88\": 2, \"31\": 1, \"118\": 2, \"83\": 1, \"116\": 1, \"122\": 5, \"43\": 1, \"11\": 2}, \"106\": {\"106\": 70, \"12\": 5, \"123\": 1, \"103\": 2, \"18\": 3, \"24\": 3, \"97\": 4, \"34\": 1, \"15\": 3, \"117\": 1, \"10\": 3, \"111\": 8, \"113\": 1, \"81\": 2, \"47\": 1, \"27\": 1, \"30\": 1, \"0\": 1, \"67\": 1, \"9\": 1, \"16\": 1, \"62\": 1, \"8\": 1}, \"110\": {\"43\": 4, \"93\": 11, \"110\": 33, \"122\": 3, \"5\": 8, \"62\": 5, \"99\": 1, \"118\": 3, \"82\": 1, \"78\": 2, \"40\": 4, \"116\": 1, \"14\": 7, \"107\": 2, \"44\": 3, \"33\": 15, \"88\": 6, \"18\": 1, \"109\": 1, \"87\": 2, \"49\": 1, \"108\": 3, \"11\": 1}, \"76\": {\"76\": 7, \"115\": 1, \"46\": 3, \"20\": 1, \"40\": 1, \"72\": 1, \"82\": 1, \"110\": 1}, \"36\": {\"36\": 64, \"24\": 7, \"106\": 1, \"6\": 3, \"94\": 4, \"15\": 6, \"10\": 8, \"12\": 2, \"27\": 2, \"8\": 1, \"111\": 5, \"125\": 7, \"9\": 1, \"30\": 7, \"54\": 1, \"113\": 1}, \"21\": {\"26\": 1, \"109\": 1, \"126\": 4, \"113\": 1, \"123\": 1, \"21\": 17, \"81\": 3, \"2\": 3, \"78\": 2, \"63\": 1, \"117\": 1, \"84\": 1, \"62\": 2, \"122\": 2}, \"37\": {\"37\": 10, \"91\": 1, \"127\": 1, \"70\": 1, \"52\": 1, \"10\": 2}, \"11\": {\"74\": 2, \"76\": 1, \"14\": 8, \"49\": 1, \"11\": 47, \"33\": 12, \"107\": 6, \"40\": 6, \"3\": 8, \"5\": 13, \"105\": 1, \"93\": 3, \"109\": 1, \"110\": 3, \"99\": 1, \"79\": 1, \"43\": 3, \"20\": 1, \"12\": 1, \"124\": 1}, \"109\": {\"109\": 65, \"69\": 10, \"108\": 3, \"88\": 1, \"90\": 10, \"102\": 8, \"44\": 2, \"118\": 8, \"113\": 1, \"87\": 1, \"5\": 1, \"16\": 2, \"66\": 1, \"122\": 1, \"99\": 1, \"93\": 1}, \"62\": {\"21\": 1, \"62\": 29, \"108\": 2, \"126\": 1, \"72\": 2, \"118\": 4, \"66\": 1, \"88\": 3, \"109\": 2, \"78\": 2, \"96\": 1, \"26\": 2, \"43\": 1, \"110\": 1, \"117\": 1, \"122\": 2, \"69\": 2, \"33\": 1, \"93\": 2}, \"89\": {\"89\": 19, \"119\": 1, \"120\": 2, \"48\": 1, \"105\": 1, \"83\": 1, \"60\": 1, \"7\": 2, \"99\": 1, \"71\": 1, \"78\": 2}, \"126\": {\"65\": 2, \"117\": 4, \"126\": 54, \"18\": 12, \"44\": 1, \"16\": 3, \"113\": 7, \"84\": 2, \"109\": 4, \"21\": 2, \"81\": 3, \"26\": 9, \"39\": 5, \"90\": 4, \"96\": 1, \"62\": 1, \"38\": 1, \"2\": 1, \"121\": 2, \"118\": 1, \"33\": 3, \"102\": 2}, \"101\": {\"101\": 80, \"127\": 6, \"53\": 2, \"98\": 4, \"8\": 20, \"0\": 1, \"113\": 1, \"27\": 2, \"10\": 3, \"126\": 1, \"12\": 1, \"87\": 1, \"106\": 1, \"86\": 1, \"117\": 1, \"18\": 1, \"84\": 1, \"125\": 1}, \"65\": {\"65\": 12}, \"19\": {\"5\": 1, \"89\": 2, \"19\": 6, \"128\": 1, \"99\": 1, \"1\": 2, \"106\": 2, \"11\": 1, \"71\": 1, \"7\": 1, \"129\": 1, \"17\": 2, \"66\": 1, \"74\": 1, \"107\": 1, \"64\": 1, \"20\": 1, \"98\": 1, \"116\": 1}, \"27\": {\"101\": 3, \"95\": 2, \"27\": 39, \"68\": 1, \"85\": 1, \"34\": 1, \"42\": 2, \"8\": 3, \"121\": 1, \"41\": 2, \"106\": 5, \"4\": 3, \"10\": 6, \"127\": 6, \"12\": 2, \"24\": 2, \"0\": 2, \"59\": 1, \"9\": 1, \"128\": 2, \"86\": 2, \"103\": 1, \"111\": 4, \"98\": 3, \"105\": 1, \"88\": 1, \"126\": 1, \"87\": 1, \"70\": 1}, \"5\": {\"5\": 94, \"126\": 1, \"33\": 11, \"93\": 5, \"45\": 1, \"3\": 3, \"108\": 2, \"107\": 3, \"118\": 2, \"109\": 2, \"40\": 4, \"73\": 1, \"19\": 1, \"49\": 2, \"110\": 1, \"11\": 3}, \"73\": {\"5\": 4, \"19\": 2, \"3\": 2, \"73\": 10, \"50\": 1, \"47\": 1, \"116\": 1, \"14\": 1, \"107\": 2}, \"6\": {\"6\": 16, \"30\": 2, \"9\": 1, \"58\": 2, \"24\": 1, \"15\": 2}, \"29\": {\"29\": 31, \"8\": 1}, \"114\": {\"114\": 96, \"70\": 1, \"129\": 1, \"71\": 6, \"87\": 2, \"1\": 4, \"124\": 3, \"105\": 2, \"7\": 1, \"3\": 5, \"76\": 1, \"83\": 1, \"117\": 1, \"88\": 2, \"4\": 2}, \"49\": {\"49\": 6, \"19\": 1, \"74\": 2, \"32\": 1, \"62\": 1, \"127\": 3, \"0\": 2, \"41\": 1, \"12\": 3, \"53\": 2, \"38\": 1, \"3\": 2, \"45\": 1, \"106\": 1, \"122\": 1, \"11\": 2, \"24\": 2}, \"16\": {\"16\": 92, \"39\": 2, \"121\": 1, \"96\": 1, \"84\": 3, \"117\": 5, \"33\": 1, \"109\": 2, \"113\": 2, \"2\": 1, \"13\": 1, \"118\": 1, \"69\": 1, \"26\": 2, \"126\": 2, \"88\": 1}, \"68\": {\"68\": 11, \"52\": 1, \"8\": 2, \"111\": 2}, \"98\": {\"98\": 63, \"58\": 1, \"27\": 6, \"9\": 1, \"101\": 6, \"4\": 1, \"68\": 1, \"18\": 1, \"10\": 2, \"69\": 1, \"127\": 9, \"0\": 2, \"8\": 6, \"24\": 1, \"90\": 1, \"41\": 2, \"53\": 2, \"30\": 1, \"111\": 9, \"85\": 2, \"15\": 1, \"106\": 1}, \"64\": {\"64\": 16}, \"121\": {\"90\": 2, \"121\": 13, \"48\": 2, \"57\": 2, \"113\": 3, \"38\": 1, \"109\": 2, \"39\": 2, \"63\": 1, \"81\": 1, \"118\": 1, \"102\": 2}, \"124\": {\"124\": 100, \"3\": 2, \"1\": 2, \"71\": 2, \"4\": 1, \"8\": 1, \"7\": 1, \"107\": 1, \"114\": 2, \"24\": 1, \"88\": 1}, \"97\": {\"94\": 2, \"49\": 1, \"42\": 1, \"36\": 2, \"97\": 5, \"34\": 1, \"0\": 1, \"128\": 1, \"125\": 1, \"9\": 1, \"95\": 2, \"75\": 2}, \"40\": {\"40\": 92, \"107\": 16, \"129\": 1, \"64\": 1, \"43\": 2, \"14\": 7, \"33\": 3, \"114\": 3, \"105\": 2, \"87\": 1, \"3\": 3, \"72\": 1, \"99\": 1, \"82\": 1, \"88\": 2}, \"119\": {\"89\": 2, \"119\": 12, \"4\": 1, \"78\": 1}, \"100\": {\"83\": 1, \"124\": 1, \"42\": 2, \"72\": 1, \"89\": 2, \"71\": 3, \"100\": 7, \"34\": 1, \"46\": 1, \"88\": 1}, \"87\": {\"87\": 52, \"119\": 1, \"46\": 1, \"40\": 7, \"99\": 2, \"71\": 2, \"14\": 1, \"105\": 11, \"107\": 4, \"88\": 4, \"1\": 4, \"122\": 1, \"4\": 2, \"114\": 6, \"3\": 7, \"70\": 6, \"7\": 2, \"50\": 1, \"72\": 1, \"78\": 1}, \"88\": {\"83\": 1, \"80\": 1, \"88\": 18, \"8\": 1, \"19\": 4, \"120\": 1, \"4\": 7, \"118\": 6, \"122\": 8, \"60\": 1, \"101\": 3, \"62\": 2, \"105\": 3, \"86\": 1, \"109\": 10, \"26\": 1, \"7\": 5, \"33\": 2, \"70\": 6, \"0\": 3, \"90\": 2, \"71\": 2, \"1\": 3, \"126\": 4, \"3\": 3, \"87\": 4, \"14\": 2, \"110\": 2, \"102\": 1, \"56\": 1, \"21\": 2, \"17\": 1, \"66\": 1, \"43\": 1, \"85\": 1, \"95\": 1, \"82\": 1, \"108\": 1, \"20\": 1, \"78\": 1, \"10\": 1, \"18\": 1, \"124\": 1, \"93\": 2, \"113\": 1, \"114\": 1, \"12\": 1, \"84\": 1}, \"52\": {\"29\": 1, \"52\": 7, \"91\": 1, \"47\": 1, \"68\": 1, \"9\": 1, \"41\": 1, \"30\": 2, \"77\": 1, \"120\": 1, \"37\": 1, \"85\": 2}, \"80\": {\"80\": 11, \"13\": 1, \"90\": 1, \"44\": 1, \"92\": 1, \"36\": 1}, \"105\": {\"46\": 2, \"101\": 2, \"105\": 64, \"88\": 6, \"89\": 1, \"87\": 3, \"98\": 1, \"1\": 1, \"26\": 2, \"71\": 2, \"7\": 2, \"14\": 1, \"114\": 4, \"70\": 1, \"56\": 1, \"129\": 1, \"82\": 1, \"40\": 1, \"3\": 1, \"117\": 2, \"126\": 1}, \"32\": {\"32\": 13, \"14\": 3, \"107\": 2, \"108\": 3, \"43\": 1, \"33\": 1, \"72\": 1, \"118\": 2, \"119\": 1, \"116\": 1}, \"35\": {\"109\": 1, \"18\": 1, \"35\": 7, \"13\": 1, \"23\": 1, \"26\": 1}, \"99\": {\"72\": 2, \"19\": 1, \"99\": 24, \"60\": 1, \"88\": 1, \"62\": 1, \"110\": 1, \"43\": 2, \"32\": 3, \"78\": 1, \"87\": 1, \"82\": 1, \"40\": 1}, \"18\": {\"18\": 99, \"39\": 3, \"81\": 2, \"123\": 2, \"26\": 5, \"109\": 1, \"117\": 4, \"126\": 3, \"16\": 1}, \"24\": {\"85\": 5, \"70\": 3, \"127\": 6, \"24\": 32, \"8\": 3, \"101\": 6, \"36\": 6, \"27\": 8, \"12\": 2, \"94\": 4, \"4\": 1, \"10\": 9, \"98\": 3, \"125\": 13, \"111\": 2, \"15\": 2, \"0\": 2, \"88\": 1, \"25\": 1, \"86\": 1, \"9\": 1, \"106\": 1}, \"85\": {\"85\": 23, \"26\": 1, \"0\": 3, \"68\": 1}, \"39\": {\"39\": 25, \"26\": 8, \"126\": 8, \"16\": 2, \"2\": 1, \"118\": 5, \"18\": 7, \"117\": 13, \"109\": 5, \"113\": 6, \"69\": 2, \"93\": 1, \"122\": 3, \"33\": 1, \"110\": 1, \"61\": 1, \"81\": 1, \"96\": 2, \"65\": 2, \"80\": 1, \"123\": 1, \"21\": 3, \"121\": 1}, \"123\": {\"63\": 2, \"123\": 11, \"113\": 2, \"13\": 1}, \"91\": {\"91\": 12, \"47\": 1, \"95\": 2, \"30\": 1, \"58\": 2, \"8\": 2, \"53\": 1, \"77\": 1, \"37\": 1, \"98\": 1}, \"78\": {\"16\": 2, \"19\": 3, \"78\": 5, \"72\": 2, \"62\": 3, \"53\": 1, \"100\": 1, \"98\": 1, \"40\": 2, \"21\": 1, \"4\": 2, \"43\": 1, \"96\": 1, \"39\": 1, \"13\": 1, \"95\": 1, \"109\": 3, \"15\": 1, \"113\": 1, \"26\": 1, \"107\": 1, \"88\": 1}, \"38\": {\"38\": 12, \"122\": 1, \"109\": 3}, \"15\": {\"111\": 7, \"15\": 73, \"12\": 5, \"9\": 2, \"94\": 6, \"30\": 3, \"10\": 5, \"81\": 1, \"18\": 2, \"125\": 4, \"8\": 6, \"58\": 2, \"51\": 1, \"106\": 2, \"6\": 2, \"26\": 1, \"36\": 2, \"98\": 2, \"24\": 2}, \"48\": {\"48\": 13, \"116\": 2, \"80\": 1}, \"45\": {\"67\": 1, \"45\": 13, \"92\": 1, \"74\": 1}, \"120\": {\"120\": 17, \"42\": 1, \"76\": 2}, \"44\": {\"45\": 1, \"102\": 6, \"44\": 43, \"80\": 1, \"69\": 1, \"43\": 1, \"90\": 2, \"84\": 1, \"5\": 2, \"116\": 1, \"93\": 2, \"109\": 1, \"117\": 1, \"122\": 1}, \"86\": {\"86\": 21, \"65\": 1, \"128\": 1, \"91\": 1, \"127\": 1, \"70\": 1, \"21\": 1, \"52\": 1}, \"20\": {\"33\": 2, \"20\": 7, \"96\": 1, \"40\": 1, \"31\": 1, \"83\": 2, \"14\": 1, \"64\": 1}, \"33\": {\"33\": 117, \"11\": 4, \"5\": 3, \"113\": 1, \"3\": 1, \"69\": 2, \"108\": 1, \"110\": 2, \"87\": 1, \"93\": 3, \"118\": 2, \"1\": 1, \"43\": 2, \"107\": 4, \"40\": 1, \"21\": 1, \"50\": 1, \"14\": 2, \"126\": 1}, \"129\": {\"34\": 1, \"107\": 1, \"73\": 1, \"86\": 1, \"32\": 1, \"71\": 4, \"109\": 2, \"83\": 1, \"110\": 1, \"69\": 3, \"50\": 1, \"19\": 1, \"39\": 1, \"129\": 2, \"60\": 1, \"118\": 1, \"66\": 1, \"33\": 1, \"1\": 1, \"106\": 1, \"93\": 1}, \"34\": {\"9\": 4, \"34\": 4, \"41\": 1, \"75\": 1, \"0\": 1, \"49\": 2, \"70\": 4, \"10\": 3, \"89\": 3, \"15\": 1, \"88\": 2, \"125\": 1, \"7\": 1, \"97\": 1, \"120\": 2, \"1\": 1}, \"81\": {\"81\": 29, \"117\": 4, \"39\": 1, \"18\": 1, \"63\": 1}, \"57\": {\"109\": 1, \"35\": 1, \"57\": 10, \"24\": 1, \"39\": 1, \"90\": 1, \"93\": 1}, \"0\": {\"0\": 65, \"85\": 2, \"10\": 2, \"41\": 2, \"27\": 5, \"101\": 3, \"127\": 1, \"98\": 9, \"26\": 1, \"111\": 3, \"7\": 3, \"16\": 1, \"59\": 1, \"37\": 1, \"86\": 2, \"55\": 1, \"63\": 1, \"42\": 1, \"103\": 1, \"12\": 2, \"4\": 2, \"8\": 6, \"70\": 1}, \"2\": {\"2\": 21, \"113\": 1, \"117\": 4, \"16\": 2}, \"42\": {\"103\": 1, \"4\": 1, \"34\": 1, \"42\": 5, \"106\": 1, \"100\": 1, \"114\": 1, \"87\": 1, \"1\": 4, \"101\": 2, \"12\": 3, \"27\": 1, \"76\": 1, \"37\": 1, \"75\": 1, \"82\": 1, \"8\": 1, \"98\": 1}, \"84\": {\"69\": 9, \"84\": 85, \"57\": 1, \"2\": 1, \"113\": 2, \"102\": 13, \"16\": 8, \"121\": 1, \"90\": 4, \"44\": 1, \"18\": 1, \"39\": 1, \"126\": 1, \"13\": 1, \"118\": 1, \"26\": 1, \"93\": 1}, \"3\": {\"3\": 79, \"79\": 2, \"129\": 2, \"21\": 1, \"40\": 6, \"14\": 1, \"1\": 3, \"114\": 5, \"43\": 2, \"18\": 2, \"105\": 1, \"107\": 2, \"70\": 3, \"108\": 1, \"7\": 1, \"49\": 3, \"87\": 4, \"38\": 1, \"39\": 1, \"124\": 1, \"71\": 2, \"24\": 1, \"110\": 1, \"93\": 1}, \"41\": {\"86\": 1, \"127\": 1, \"52\": 2, \"27\": 1, \"41\": 5, \"12\": 1, \"0\": 1, \"37\": 2, \"42\": 1, \"48\": 1}, \"53\": {\"53\": 10, \"34\": 1, \"113\": 1, \"8\": 2, \"30\": 1, \"55\": 1}, \"66\": {\"116\": 2, \"66\": 8, \"110\": 1, \"62\": 1, \"33\": 1, \"14\": 1, \"31\": 2}, \"22\": {\"99\": 3, \"22\": 9, \"88\": 2, \"60\": 2}}}, \"per_domain_accuracy\": {\"ORACLE.run150\": {\"accuracy\": 0.8809895833333333, \"source?\": true}, \"ORACLE.run114\": {\"accuracy\": 0.9049479166666666, \"source?\": true}, \"ORACLE.run132\": {\"accuracy\": 0.86796875, \"source?\": true}, \"ORACLE.run144\": {\"accuracy\": 0.78046875, \"source?\": true}, \"ORACLE.run18\": {\"accuracy\": 0.8796875, \"source?\": true}, \"ORACLE.run120\": {\"accuracy\": 0.865625, \"source?\": true}, \"ORACLE.run138\": {\"accuracy\": 0.8927083333333333, \"source?\": true}, \"ORACLE.run126\": {\"accuracy\": 0.7223958333333333, \"source?\": true}, \"Wisig_3\": {\"accuracy\": 0.6394650655021834, \"source?\": false}, \"Wisig_2\": {\"accuracy\": 0.6162760416666667, \"source?\": false}, \"Wisig_1\": {\"accuracy\": 0.6481726694915254, \"source?\": false}, \"Wisig_4\": {\"accuracy\": 0.5675154320987654, \"source?\": false}}}, \"history\": {\"epoch_indices\": [1, 2, 3, 4, 5, 6], \"train_label_loss\": [0.7876654366031289, 0.48083027662276956, 0.3847535903490747, 0.33062082959901695, 0.2936192553193818, 0.2640758523039126], \"source_val_label_loss\": [0.8605479001998901, 0.4192086458206177, 0.3597303032875061, 0.31742408871650696, 0.30548232793807983, 0.30907145142555237], \"target_val_label_loss\": [11.74445629119873, 9.135643005371094, 11.186043739318848, 11.524147987365723, 17.11217498779297, 19.17593002319336], \"source_val_acc_label\": [0.7371419270833334, 0.8493489583333333, 0.8705078125, 0.8868489583333333, 0.890234375, 0.8888997395833333], \"target_val_acc_label\": [0.5215585443037974, 0.6173193565400844, 0.5727848101265823, 0.5610825421940928, 0.5310851793248945, 0.5113396624472574]}, \"dataset_metrics\": {\"source\": {\"train\": {\"n_unique_x\": 179200, \"n_unique_y\": 16, \"n_batch/episode\": 6720}, \"val\": {\"n_unique_x\": 38400, \"n_unique_y\": 16, \"n_batch/episode\": 960}, \"test\": {\"n_unique_x\": 38400, \"n_unique_y\": 16, \"n_batch/episode\": 960}}, \"target\": {\"train\": {\"n_unique_x\": 189008, \"n_unique_y\": 130, \"n_batch/episode\": 6831}, \"val\": {\"n_unique_x\": 40070, \"n_unique_y\": 130, \"n_batch/episode\": 948}, \"test\": {\"n_unique_x\": 40836, \"n_unique_y\": 130, \"n_batch/episode\": 967}}}}'"
      ]
     },
     "execution_count": 29,
     "metadata": {},
     "output_type": "execute_result"
    }
   ],
   "source": [
    "json.dumps(experiment)"
   ]
  }
 ],
 "metadata": {
  "celltoolbar": "Tags",
  "kernelspec": {
   "display_name": "Python 3 (ipykernel)",
   "language": "python",
   "name": "python3"
  },
  "language_info": {
   "codemirror_mode": {
    "name": "ipython",
    "version": 3
   },
   "file_extension": ".py",
   "mimetype": "text/x-python",
   "name": "python",
   "nbconvert_exporter": "python",
   "pygments_lexer": "ipython3",
   "version": "3.8.12"
  },
  "papermill": {
   "default_parameters": {},
   "duration": 1734.322514,
   "end_time": "2022-03-21T18:49:12.494906",
   "environment_variables": {},
   "exception": null,
   "input_path": "/root/csc500-main/csc500-notebooks/templates/tl_ptn_template.ipynb",
   "output_path": "trial.ipynb",
   "parameters": {
    "parameters": {
     "BEST_MODEL_PATH": "./best_model.pth",
     "NUM_LOGS_PER_EPOCH": 10,
     "criteria_for_best": "target_accuracy",
     "dataset_seed": 500,
     "datasets": [
      {
       "domain_prefix": "Wisig_",
       "domains": [
        1,
        2,
        3,
        4
       ],
       "episode_transforms": [],
       "labels": [
        "1-10",
        "1-12",
        "1-14",
        "1-16",
        "1-18",
        "1-19",
        "1-8",
        "10-11",
        "10-17",
        "10-4",
        "10-7",
        "11-1",
        "11-10",
        "11-19",
        "11-20",
        "11-4",
        "11-7",
        "12-19",
        "12-20",
        "12-7",
        "13-14",
        "13-18",
        "13-19",
        "13-20",
        "13-3",
        "13-7",
        "14-10",
        "14-11",
        "14-12",
        "14-13",
        "14-14",
        "14-19",
        "14-20",
        "14-7",
        "14-8",
        "14-9",
        "15-1",
        "15-19",
        "15-6",
        "16-1",
        "16-16",
        "16-19",
        "16-20",
        "17-10",
        "17-11",
        "18-1",
        "18-10",
        "18-11",
        "18-12",
        "18-13",
        "18-14",
        "18-15",
        "18-16",
        "18-17",
        "18-19",
        "18-2",
        "18-20",
        "18-4",
        "18-5",
        "18-7",
        "18-8",
        "18-9",
        "19-1",
        "19-10",
        "19-11",
        "19-12",
        "19-13",
        "19-14",
        "19-15",
        "19-19",
        "19-2",
        "19-20",
        "19-3",
        "19-4",
        "19-6",
        "19-7",
        "19-8",
        "19-9",
        "2-1",
        "2-13",
        "2-15",
        "2-3",
        "2-4",
        "2-5",
        "2-6",
        "2-7",
        "2-8",
        "20-1",
        "20-12",
        "20-14",
        "20-15",
        "20-16",
        "20-18",
        "20-19",
        "20-20",
        "20-3",
        "20-4",
        "20-5",
        "20-7",
        "20-8",
        "3-1",
        "3-13",
        "3-18",
        "3-2",
        "3-8",
        "4-1",
        "4-10",
        "4-11",
        "5-1",
        "5-5",
        "6-1",
        "6-15",
        "6-6",
        "7-10",
        "7-11",
        "7-12",
        "7-13",
        "7-14",
        "7-7",
        "7-8",
        "7-9",
        "8-1",
        "8-13",
        "8-14",
        "8-18",
        "8-20",
        "8-3",
        "8-8",
        "9-1",
        "9-7"
       ],
       "num_examples_per_domain_per_label": -1,
       "pickle_path": "/root/csc500-main/datasets/wisig.node3-19.stratified_ds.2022A.pkl",
       "source_or_target_dataset": "target",
       "x_transforms": [
        "unit_power"
       ]
      },
      {
       "domain_prefix": "ORACLE.run1",
       "domains": [
        32,
        38,
        8,
        44,
        14,
        50,
        20,
        26
       ],
       "episode_transforms": [],
       "labels": [
        "3123D52",
        "3123D65",
        "3123D79",
        "3123D80",
        "3123D54",
        "3123D70",
        "3123D7B",
        "3123D89",
        "3123D58",
        "3123D76",
        "3123D7D",
        "3123EFE",
        "3123D64",
        "3123D78",
        "3123D7E",
        "3124E4A"
       ],
       "num_examples_per_domain_per_label": 2000,
       "pickle_path": "/root/csc500-main/datasets/oracle.Run1_framed_2000Examples_stratified_ds.2022A.pkl",
       "source_or_target_dataset": "source",
       "x_transforms": [
        "unit_power"
       ]
      }
     ],
     "device": "cuda",
     "experiment_name": "tl_1v2:wisig-oracle.run1.framed",
     "lr": 0.0001,
     "n_epoch": 50,
     "n_query": 2,
     "n_shot": 3,
     "n_way": 16,
     "patience": 3,
     "seed": 500,
     "test_k_factor": 2,
     "torch_default_dtype": "torch.float32",
     "train_k_factor": 3,
     "val_k_factor": 2,
     "x_net": [
      {
       "class": "nnReshape",
       "kargs": {
        "shape": [
         -1,
         1,
         2,
         256
        ]
       }
      },
      {
       "class": "Conv2d",
       "kargs": {
        "bias": false,
        "in_channels": 1,
        "kernel_size": [
         1,
         7
        ],
        "out_channels": 256,
        "padding": [
         0,
         3
        ]
       }
      },
      {
       "class": "ReLU",
       "kargs": {
        "inplace": true
       }
      },
      {
       "class": "BatchNorm2d",
       "kargs": {
        "num_features": 256
       }
      },
      {
       "class": "Conv2d",
       "kargs": {
        "bias": true,
        "in_channels": 256,
        "kernel_size": [
         2,
         7
        ],
        "out_channels": 80,
        "padding": [
         0,
         3
        ]
       }
      },
      {
       "class": "ReLU",
       "kargs": {
        "inplace": true
       }
      },
      {
       "class": "BatchNorm2d",
       "kargs": {
        "num_features": 80
       }
      },
      {
       "class": "Flatten",
       "kargs": {}
      },
      {
       "class": "Linear",
       "kargs": {
        "in_features": 20480,
        "out_features": 256
       }
      },
      {
       "class": "ReLU",
       "kargs": {
        "inplace": true
       }
      },
      {
       "class": "BatchNorm1d",
       "kargs": {
        "num_features": 256
       }
      },
      {
       "class": "Linear",
       "kargs": {
        "in_features": 256,
        "out_features": 256
       }
      }
     ]
    }
   },
   "start_time": "2022-03-21T18:20:18.172392",
   "version": "2.3.4"
  }
 },
 "nbformat": 4,
 "nbformat_minor": 5
}