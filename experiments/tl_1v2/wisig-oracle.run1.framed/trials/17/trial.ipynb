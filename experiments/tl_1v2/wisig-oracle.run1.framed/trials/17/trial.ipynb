{
 "cells": [
  {
   "cell_type": "markdown",
   "id": "9fea5f46",
   "metadata": {
    "papermill": {
     "duration": 0.03017,
     "end_time": "2022-03-21T13:20:39.370607",
     "exception": false,
     "start_time": "2022-03-21T13:20:39.340437",
     "status": "completed"
    },
    "tags": []
   },
   "source": [
    "# Transfer Learning Template"
   ]
  },
  {
   "cell_type": "code",
   "execution_count": 1,
   "id": "0902182a",
   "metadata": {
    "execution": {
     "iopub.execute_input": "2022-03-21T13:20:39.437715Z",
     "iopub.status.busy": "2022-03-21T13:20:39.436850Z",
     "iopub.status.idle": "2022-03-21T13:20:41.419033Z",
     "shell.execute_reply": "2022-03-21T13:20:41.418271Z"
    },
    "papermill": {
     "duration": 2.021391,
     "end_time": "2022-03-21T13:20:41.419206",
     "exception": false,
     "start_time": "2022-03-21T13:20:39.397815",
     "status": "completed"
    },
    "tags": []
   },
   "outputs": [],
   "source": [
    "%load_ext autoreload\n",
    "%autoreload 2\n",
    "%matplotlib inline\n",
    "\n",
    "    \n",
    "import os, json, sys, time, random\n",
    "import numpy as np\n",
    "import torch\n",
    "from torch.optim import Adam\n",
    "from  easydict import EasyDict\n",
    "import matplotlib.pyplot as plt\n",
    "\n",
    "from steves_models.steves_ptn import Steves_Prototypical_Network\n",
    "\n",
    "from steves_utils.lazy_iterable_wrapper import Lazy_Iterable_Wrapper\n",
    "from steves_utils.iterable_aggregator import Iterable_Aggregator\n",
    "from steves_utils.ptn_train_eval_test_jig import  PTN_Train_Eval_Test_Jig\n",
    "from steves_utils.torch_sequential_builder import build_sequential\n",
    "from steves_utils.torch_utils import get_dataset_metrics, ptn_confusion_by_domain_over_dataloader\n",
    "from steves_utils.utils_v2 import (per_domain_accuracy_from_confusion, get_datasets_base_path)\n",
    "from steves_utils.PTN.utils import independent_accuracy_assesment\n",
    "\n",
    "from torch.utils.data import DataLoader\n",
    "\n",
    "from steves_utils.stratified_dataset.episodic_accessor import Episodic_Accessor_Factory\n",
    "\n",
    "from steves_utils.ptn_do_report import (\n",
    "    get_loss_curve,\n",
    "    get_results_table,\n",
    "    get_parameters_table,\n",
    "    get_domain_accuracies,\n",
    ")\n",
    "\n",
    "from steves_utils.transforms import get_chained_transform"
   ]
  },
  {
   "cell_type": "markdown",
   "id": "41c840b4",
   "metadata": {
    "papermill": {
     "duration": 0.020001,
     "end_time": "2022-03-21T13:20:41.464451",
     "exception": false,
     "start_time": "2022-03-21T13:20:41.444450",
     "status": "completed"
    },
    "tags": []
   },
   "source": [
    "# Allowed Parameters\n",
    "These are allowed parameters, not defaults\n",
    "Each of these values need to be present in the injected parameters (the notebook will raise an exception if they are not present)\n",
    "\n",
    "Papermill uses the cell tag \"parameters\" to inject the real parameters below this cell.\n",
    "Enable tags to see what I mean"
   ]
  },
  {
   "cell_type": "code",
   "execution_count": 2,
   "id": "fd44eb83",
   "metadata": {
    "execution": {
     "iopub.execute_input": "2022-03-21T13:20:41.510846Z",
     "iopub.status.busy": "2022-03-21T13:20:41.510371Z",
     "iopub.status.idle": "2022-03-21T13:20:41.534481Z",
     "shell.execute_reply": "2022-03-21T13:20:41.533726Z"
    },
    "papermill": {
     "duration": 0.049278,
     "end_time": "2022-03-21T13:20:41.534668",
     "exception": false,
     "start_time": "2022-03-21T13:20:41.485390",
     "status": "completed"
    },
    "tags": []
   },
   "outputs": [],
   "source": [
    "required_parameters = {\n",
    "    \"experiment_name\",\n",
    "    \"lr\",\n",
    "    \"device\",\n",
    "    \"seed\",\n",
    "    \"dataset_seed\",\n",
    "    \"n_shot\",\n",
    "    \"n_query\",\n",
    "    \"n_way\",\n",
    "    \"train_k_factor\",\n",
    "    \"val_k_factor\",\n",
    "    \"test_k_factor\",\n",
    "    \"n_epoch\",\n",
    "    \"patience\",\n",
    "    \"criteria_for_best\",\n",
    "    \"x_net\",\n",
    "    \"datasets\",\n",
    "    \"torch_default_dtype\",\n",
    "    \"NUM_LOGS_PER_EPOCH\",\n",
    "    \"BEST_MODEL_PATH\",\n",
    "    \"x_shape\",\n",
    "}"
   ]
  },
  {
   "cell_type": "code",
   "execution_count": 3,
   "id": "fa3f0049",
   "metadata": {
    "execution": {
     "iopub.execute_input": "2022-03-21T13:20:41.594271Z",
     "iopub.status.busy": "2022-03-21T13:20:41.593190Z",
     "iopub.status.idle": "2022-03-21T13:20:41.618489Z",
     "shell.execute_reply": "2022-03-21T13:20:41.617689Z"
    },
    "papermill": {
     "duration": 0.057093,
     "end_time": "2022-03-21T13:20:41.618677",
     "exception": false,
     "start_time": "2022-03-21T13:20:41.561584",
     "status": "completed"
    },
    "tags": [
     "parameters"
    ]
   },
   "outputs": [],
   "source": [
    "from steves_utils.CORES.utils import (\n",
    "    ALL_NODES,\n",
    "    ALL_NODES_MINIMUM_1000_EXAMPLES,\n",
    "    ALL_DAYS\n",
    ")\n",
    "\n",
    "from steves_utils.ORACLE.utils_v2 import (\n",
    "    ALL_DISTANCES_FEET_NARROWED,\n",
    "    ALL_RUNS,\n",
    "    ALL_SERIAL_NUMBERS,\n",
    ")\n",
    "\n",
    "standalone_parameters = {}\n",
    "standalone_parameters[\"experiment_name\"] = \"STANDALONE PTN\"\n",
    "standalone_parameters[\"lr\"] = 0.001\n",
    "standalone_parameters[\"device\"] = \"cuda\"\n",
    "\n",
    "standalone_parameters[\"seed\"] = 1337\n",
    "standalone_parameters[\"dataset_seed\"] = 1337\n",
    "\n",
    "standalone_parameters[\"n_way\"] = 8\n",
    "standalone_parameters[\"n_shot\"] = 3\n",
    "standalone_parameters[\"n_query\"]  = 2\n",
    "standalone_parameters[\"train_k_factor\"] = 1\n",
    "standalone_parameters[\"val_k_factor\"] = 2\n",
    "standalone_parameters[\"test_k_factor\"] = 2\n",
    "\n",
    "\n",
    "standalone_parameters[\"n_epoch\"] = 50\n",
    "\n",
    "standalone_parameters[\"patience\"] = 10\n",
    "standalone_parameters[\"criteria_for_best\"] = \"source_loss\"\n",
    "\n",
    "standalone_parameters[\"datasets\"] = [\n",
    "    {\n",
    "        \"labels\": ALL_SERIAL_NUMBERS,\n",
    "        \"domains\": ALL_DISTANCES_FEET_NARROWED,\n",
    "        \"num_examples_per_domain_per_label\": 100,\n",
    "        \"pickle_path\": os.path.join(get_datasets_base_path(), \"oracle.Run1_framed_2000Examples_stratified_ds.2022A.pkl\"),\n",
    "        \"source_or_target_dataset\": \"source\",\n",
    "        \"x_transforms\": [\"unit_mag\", \"minus_two\"],\n",
    "        \"episode_transforms\": [],\n",
    "        \"domain_prefix\": \"ORACLE_\"\n",
    "    },\n",
    "    {\n",
    "        \"labels\": ALL_NODES,\n",
    "        \"domains\": ALL_DAYS,\n",
    "        \"num_examples_per_domain_per_label\": 100,\n",
    "        \"pickle_path\": os.path.join(get_datasets_base_path(), \"cores.stratified_ds.2022A.pkl\"),\n",
    "        \"source_or_target_dataset\": \"target\",\n",
    "        \"x_transforms\": [\"unit_power\", \"times_zero\"],\n",
    "        \"episode_transforms\": [],\n",
    "        \"domain_prefix\": \"CORES_\"\n",
    "    }   \n",
    "]\n",
    "\n",
    "standalone_parameters[\"torch_default_dtype\"] = \"torch.float32\" \n",
    "\n",
    "\n",
    "\n",
    "standalone_parameters[\"x_net\"] =     [\n",
    "    {\"class\": \"nnReshape\", \"kargs\": {\"shape\":[-1, 1, 2, 256]}},\n",
    "    {\"class\": \"Conv2d\", \"kargs\": { \"in_channels\":1, \"out_channels\":256, \"kernel_size\":(1,7), \"bias\":False, \"padding\":(0,3), },},\n",
    "    {\"class\": \"ReLU\", \"kargs\": {\"inplace\": True}},\n",
    "    {\"class\": \"BatchNorm2d\", \"kargs\": {\"num_features\":256}},\n",
    "\n",
    "    {\"class\": \"Conv2d\", \"kargs\": { \"in_channels\":256, \"out_channels\":80, \"kernel_size\":(2,7), \"bias\":True, \"padding\":(0,3), },},\n",
    "    {\"class\": \"ReLU\", \"kargs\": {\"inplace\": True}},\n",
    "    {\"class\": \"BatchNorm2d\", \"kargs\": {\"num_features\":80}},\n",
    "    {\"class\": \"Flatten\", \"kargs\": {}},\n",
    "\n",
    "    {\"class\": \"Linear\", \"kargs\": {\"in_features\": 80*256, \"out_features\": 256}}, # 80 units per IQ pair\n",
    "    {\"class\": \"ReLU\", \"kargs\": {\"inplace\": True}},\n",
    "    {\"class\": \"BatchNorm1d\", \"kargs\": {\"num_features\":256}},\n",
    "\n",
    "    {\"class\": \"Linear\", \"kargs\": {\"in_features\": 256, \"out_features\": 256}},\n",
    "]\n",
    "\n",
    "# Parameters relevant to results\n",
    "# These parameters will basically never need to change\n",
    "standalone_parameters[\"NUM_LOGS_PER_EPOCH\"] = 10\n",
    "standalone_parameters[\"BEST_MODEL_PATH\"] = \"./best_model.pth\"\n",
    "\n",
    "\n",
    "\n",
    "\n"
   ]
  },
  {
   "cell_type": "code",
   "execution_count": 4,
   "id": "09dca807",
   "metadata": {
    "execution": {
     "iopub.execute_input": "2022-03-21T13:20:41.690903Z",
     "iopub.status.busy": "2022-03-21T13:20:41.689851Z",
     "iopub.status.idle": "2022-03-21T13:20:41.712883Z",
     "shell.execute_reply": "2022-03-21T13:20:41.712310Z"
    },
    "papermill": {
     "duration": 0.060617,
     "end_time": "2022-03-21T13:20:41.713027",
     "exception": false,
     "start_time": "2022-03-21T13:20:41.652410",
     "status": "completed"
    },
    "tags": [
     "injected-parameters"
    ]
   },
   "outputs": [],
   "source": [
    "# Parameters\n",
    "parameters = {\n",
    "    \"experiment_name\": \"tl_1v2:wisig-oracle.run1.framed\",\n",
    "    \"device\": \"cuda\",\n",
    "    \"lr\": 0.0001,\n",
    "    \"n_shot\": 3,\n",
    "    \"n_query\": 2,\n",
    "    \"train_k_factor\": 3,\n",
    "    \"val_k_factor\": 2,\n",
    "    \"test_k_factor\": 2,\n",
    "    \"torch_default_dtype\": \"torch.float32\",\n",
    "    \"n_epoch\": 50,\n",
    "    \"patience\": 3,\n",
    "    \"criteria_for_best\": \"target_accuracy\",\n",
    "    \"x_net\": [\n",
    "        {\"class\": \"nnReshape\", \"kargs\": {\"shape\": [-1, 1, 2, 256]}},\n",
    "        {\n",
    "            \"class\": \"Conv2d\",\n",
    "            \"kargs\": {\n",
    "                \"in_channels\": 1,\n",
    "                \"out_channels\": 256,\n",
    "                \"kernel_size\": [1, 7],\n",
    "                \"bias\": False,\n",
    "                \"padding\": [0, 3],\n",
    "            },\n",
    "        },\n",
    "        {\"class\": \"ReLU\", \"kargs\": {\"inplace\": True}},\n",
    "        {\"class\": \"BatchNorm2d\", \"kargs\": {\"num_features\": 256}},\n",
    "        {\n",
    "            \"class\": \"Conv2d\",\n",
    "            \"kargs\": {\n",
    "                \"in_channels\": 256,\n",
    "                \"out_channels\": 80,\n",
    "                \"kernel_size\": [2, 7],\n",
    "                \"bias\": True,\n",
    "                \"padding\": [0, 3],\n",
    "            },\n",
    "        },\n",
    "        {\"class\": \"ReLU\", \"kargs\": {\"inplace\": True}},\n",
    "        {\"class\": \"BatchNorm2d\", \"kargs\": {\"num_features\": 80}},\n",
    "        {\"class\": \"Flatten\", \"kargs\": {}},\n",
    "        {\"class\": \"Linear\", \"kargs\": {\"in_features\": 20480, \"out_features\": 256}},\n",
    "        {\"class\": \"ReLU\", \"kargs\": {\"inplace\": True}},\n",
    "        {\"class\": \"BatchNorm1d\", \"kargs\": {\"num_features\": 256}},\n",
    "        {\"class\": \"Linear\", \"kargs\": {\"in_features\": 256, \"out_features\": 256}},\n",
    "    ],\n",
    "    \"NUM_LOGS_PER_EPOCH\": 10,\n",
    "    \"BEST_MODEL_PATH\": \"./best_model.pth\",\n",
    "    \"n_way\": 16,\n",
    "    \"datasets\": [\n",
    "        {\n",
    "            \"labels\": [\n",
    "                \"1-10\",\n",
    "                \"1-12\",\n",
    "                \"1-14\",\n",
    "                \"1-16\",\n",
    "                \"1-18\",\n",
    "                \"1-19\",\n",
    "                \"1-8\",\n",
    "                \"10-11\",\n",
    "                \"10-17\",\n",
    "                \"10-4\",\n",
    "                \"10-7\",\n",
    "                \"11-1\",\n",
    "                \"11-10\",\n",
    "                \"11-19\",\n",
    "                \"11-20\",\n",
    "                \"11-4\",\n",
    "                \"11-7\",\n",
    "                \"12-19\",\n",
    "                \"12-20\",\n",
    "                \"12-7\",\n",
    "                \"13-14\",\n",
    "                \"13-18\",\n",
    "                \"13-19\",\n",
    "                \"13-20\",\n",
    "                \"13-3\",\n",
    "                \"13-7\",\n",
    "                \"14-10\",\n",
    "                \"14-11\",\n",
    "                \"14-12\",\n",
    "                \"14-13\",\n",
    "                \"14-14\",\n",
    "                \"14-19\",\n",
    "                \"14-20\",\n",
    "                \"14-7\",\n",
    "                \"14-8\",\n",
    "                \"14-9\",\n",
    "                \"15-1\",\n",
    "                \"15-19\",\n",
    "                \"15-6\",\n",
    "                \"16-1\",\n",
    "                \"16-16\",\n",
    "                \"16-19\",\n",
    "                \"16-20\",\n",
    "                \"17-10\",\n",
    "                \"17-11\",\n",
    "                \"18-1\",\n",
    "                \"18-10\",\n",
    "                \"18-11\",\n",
    "                \"18-12\",\n",
    "                \"18-13\",\n",
    "                \"18-14\",\n",
    "                \"18-15\",\n",
    "                \"18-16\",\n",
    "                \"18-17\",\n",
    "                \"18-19\",\n",
    "                \"18-2\",\n",
    "                \"18-20\",\n",
    "                \"18-4\",\n",
    "                \"18-5\",\n",
    "                \"18-7\",\n",
    "                \"18-8\",\n",
    "                \"18-9\",\n",
    "                \"19-1\",\n",
    "                \"19-10\",\n",
    "                \"19-11\",\n",
    "                \"19-12\",\n",
    "                \"19-13\",\n",
    "                \"19-14\",\n",
    "                \"19-15\",\n",
    "                \"19-19\",\n",
    "                \"19-2\",\n",
    "                \"19-20\",\n",
    "                \"19-3\",\n",
    "                \"19-4\",\n",
    "                \"19-6\",\n",
    "                \"19-7\",\n",
    "                \"19-8\",\n",
    "                \"19-9\",\n",
    "                \"2-1\",\n",
    "                \"2-13\",\n",
    "                \"2-15\",\n",
    "                \"2-3\",\n",
    "                \"2-4\",\n",
    "                \"2-5\",\n",
    "                \"2-6\",\n",
    "                \"2-7\",\n",
    "                \"2-8\",\n",
    "                \"20-1\",\n",
    "                \"20-12\",\n",
    "                \"20-14\",\n",
    "                \"20-15\",\n",
    "                \"20-16\",\n",
    "                \"20-18\",\n",
    "                \"20-19\",\n",
    "                \"20-20\",\n",
    "                \"20-3\",\n",
    "                \"20-4\",\n",
    "                \"20-5\",\n",
    "                \"20-7\",\n",
    "                \"20-8\",\n",
    "                \"3-1\",\n",
    "                \"3-13\",\n",
    "                \"3-18\",\n",
    "                \"3-2\",\n",
    "                \"3-8\",\n",
    "                \"4-1\",\n",
    "                \"4-10\",\n",
    "                \"4-11\",\n",
    "                \"5-1\",\n",
    "                \"5-5\",\n",
    "                \"6-1\",\n",
    "                \"6-15\",\n",
    "                \"6-6\",\n",
    "                \"7-10\",\n",
    "                \"7-11\",\n",
    "                \"7-12\",\n",
    "                \"7-13\",\n",
    "                \"7-14\",\n",
    "                \"7-7\",\n",
    "                \"7-8\",\n",
    "                \"7-9\",\n",
    "                \"8-1\",\n",
    "                \"8-13\",\n",
    "                \"8-14\",\n",
    "                \"8-18\",\n",
    "                \"8-20\",\n",
    "                \"8-3\",\n",
    "                \"8-8\",\n",
    "                \"9-1\",\n",
    "                \"9-7\",\n",
    "            ],\n",
    "            \"domains\": [1, 2, 3, 4],\n",
    "            \"num_examples_per_domain_per_label\": -1,\n",
    "            \"pickle_path\": \"/root/csc500-main/datasets/wisig.node3-19.stratified_ds.2022A.pkl\",\n",
    "            \"source_or_target_dataset\": \"target\",\n",
    "            \"x_transforms\": [],\n",
    "            \"episode_transforms\": [],\n",
    "            \"domain_prefix\": \"Wisig_\",\n",
    "        },\n",
    "        {\n",
    "            \"labels\": [\n",
    "                \"3123D52\",\n",
    "                \"3123D65\",\n",
    "                \"3123D79\",\n",
    "                \"3123D80\",\n",
    "                \"3123D54\",\n",
    "                \"3123D70\",\n",
    "                \"3123D7B\",\n",
    "                \"3123D89\",\n",
    "                \"3123D58\",\n",
    "                \"3123D76\",\n",
    "                \"3123D7D\",\n",
    "                \"3123EFE\",\n",
    "                \"3123D64\",\n",
    "                \"3123D78\",\n",
    "                \"3123D7E\",\n",
    "                \"3124E4A\",\n",
    "            ],\n",
    "            \"domains\": [32, 38, 8, 44, 14, 50, 20, 26],\n",
    "            \"num_examples_per_domain_per_label\": 2000,\n",
    "            \"pickle_path\": \"/root/csc500-main/datasets/oracle.Run1_framed_2000Examples_stratified_ds.2022A.pkl\",\n",
    "            \"source_or_target_dataset\": \"source\",\n",
    "            \"x_transforms\": [],\n",
    "            \"episode_transforms\": [],\n",
    "            \"domain_prefix\": \"ORACLE.run1\",\n",
    "        },\n",
    "    ],\n",
    "    \"dataset_seed\": 154325,\n",
    "    \"seed\": 154325,\n",
    "}\n"
   ]
  },
  {
   "cell_type": "code",
   "execution_count": 5,
   "id": "8fa1cc33",
   "metadata": {
    "execution": {
     "iopub.execute_input": "2022-03-21T13:20:41.768592Z",
     "iopub.status.busy": "2022-03-21T13:20:41.767777Z",
     "iopub.status.idle": "2022-03-21T13:20:41.790524Z",
     "shell.execute_reply": "2022-03-21T13:20:41.789636Z"
    },
    "papermill": {
     "duration": 0.049334,
     "end_time": "2022-03-21T13:20:41.790717",
     "exception": false,
     "start_time": "2022-03-21T13:20:41.741383",
     "status": "completed"
    },
    "tags": []
   },
   "outputs": [],
   "source": [
    "# Set this to True if you want to run this template directly\n",
    "STANDALONE = False\n",
    "if STANDALONE:\n",
    "    print(\"parameters not injected, running with standalone_parameters\")\n",
    "    parameters = standalone_parameters\n",
    "\n",
    "if not 'parameters' in locals() and not 'parameters' in globals():\n",
    "    raise Exception(\"Parameter injection failed\")\n",
    "\n",
    "#Use an easy dict for all the parameters\n",
    "p = EasyDict(parameters)\n",
    "\n",
    "if \"x_shape\" not in p:\n",
    "    p.x_shape = [2,256] # Default to this if we dont supply x_shape\n",
    "\n",
    "\n",
    "supplied_keys = set(p.keys())\n",
    "\n",
    "if  supplied_keys != required_parameters:\n",
    "    print(\"Parameters are incorrect\")\n",
    "    if len(supplied_keys - required_parameters)>0: print(\"Shouldn't have:\", str(supplied_keys - required_parameters))\n",
    "    if len(required_parameters - supplied_keys)>0: print(\"Need to have:\", str(required_parameters - supplied_keys))\n",
    "    raise RuntimeError(\"Parameters are incorrect\")"
   ]
  },
  {
   "cell_type": "code",
   "execution_count": 6,
   "id": "3a028d58",
   "metadata": {
    "execution": {
     "iopub.execute_input": "2022-03-21T13:20:41.843854Z",
     "iopub.status.busy": "2022-03-21T13:20:41.842993Z",
     "iopub.status.idle": "2022-03-21T13:20:41.863922Z",
     "shell.execute_reply": "2022-03-21T13:20:41.863009Z"
    },
    "papermill": {
     "duration": 0.046569,
     "end_time": "2022-03-21T13:20:41.864112",
     "exception": false,
     "start_time": "2022-03-21T13:20:41.817543",
     "status": "completed"
    },
    "tags": []
   },
   "outputs": [],
   "source": [
    "###################################\n",
    "# Set the RNGs and make it all deterministic\n",
    "###################################\n",
    "np.random.seed(p.seed)\n",
    "random.seed(p.seed)\n",
    "torch.manual_seed(p.seed)\n",
    "\n",
    "torch.use_deterministic_algorithms(True) "
   ]
  },
  {
   "cell_type": "code",
   "execution_count": 7,
   "id": "b691acf6",
   "metadata": {
    "execution": {
     "iopub.execute_input": "2022-03-21T13:20:41.921633Z",
     "iopub.status.busy": "2022-03-21T13:20:41.916265Z",
     "iopub.status.idle": "2022-03-21T13:20:41.939430Z",
     "shell.execute_reply": "2022-03-21T13:20:41.938588Z"
    },
    "papermill": {
     "duration": 0.047988,
     "end_time": "2022-03-21T13:20:41.939640",
     "exception": false,
     "start_time": "2022-03-21T13:20:41.891652",
     "status": "completed"
    },
    "tags": []
   },
   "outputs": [],
   "source": [
    "###########################################\n",
    "# The stratified datasets honor this\n",
    "###########################################\n",
    "torch.set_default_dtype(eval(p.torch_default_dtype))"
   ]
  },
  {
   "cell_type": "code",
   "execution_count": 8,
   "id": "b5fba671",
   "metadata": {
    "execution": {
     "iopub.execute_input": "2022-03-21T13:20:41.993690Z",
     "iopub.status.busy": "2022-03-21T13:20:41.993113Z",
     "iopub.status.idle": "2022-03-21T13:20:42.049271Z",
     "shell.execute_reply": "2022-03-21T13:20:42.048716Z"
    },
    "papermill": {
     "duration": 0.080608,
     "end_time": "2022-03-21T13:20:42.049419",
     "exception": false,
     "start_time": "2022-03-21T13:20:41.968811",
     "status": "completed"
    },
    "tags": []
   },
   "outputs": [],
   "source": [
    "###################################\n",
    "# Build the network(s)\n",
    "# Note: It's critical to do this AFTER setting the RNG\n",
    "###################################\n",
    "x_net = build_sequential(p.x_net)"
   ]
  },
  {
   "cell_type": "code",
   "execution_count": 9,
   "id": "5d7e61cc",
   "metadata": {
    "execution": {
     "iopub.execute_input": "2022-03-21T13:20:42.099884Z",
     "iopub.status.busy": "2022-03-21T13:20:42.098622Z",
     "iopub.status.idle": "2022-03-21T13:20:42.123694Z",
     "shell.execute_reply": "2022-03-21T13:20:42.122782Z"
    },
    "papermill": {
     "duration": 0.049866,
     "end_time": "2022-03-21T13:20:42.123887",
     "exception": false,
     "start_time": "2022-03-21T13:20:42.074021",
     "status": "completed"
    },
    "tags": []
   },
   "outputs": [],
   "source": [
    "start_time_secs = time.time()"
   ]
  },
  {
   "cell_type": "code",
   "execution_count": 10,
   "id": "c6b67dfd",
   "metadata": {
    "execution": {
     "iopub.execute_input": "2022-03-21T13:20:42.175939Z",
     "iopub.status.busy": "2022-03-21T13:20:42.175554Z",
     "iopub.status.idle": "2022-03-21T13:20:42.200322Z",
     "shell.execute_reply": "2022-03-21T13:20:42.199482Z"
    },
    "papermill": {
     "duration": 0.049514,
     "end_time": "2022-03-21T13:20:42.200521",
     "exception": false,
     "start_time": "2022-03-21T13:20:42.151007",
     "status": "completed"
    },
    "tags": []
   },
   "outputs": [],
   "source": [
    "p.domains_source = []\n",
    "p.domains_target = []\n",
    "\n",
    "\n",
    "train_original_source = []\n",
    "val_original_source   = []\n",
    "test_original_source  = []\n",
    "\n",
    "train_original_target = []\n",
    "val_original_target   = []\n",
    "test_original_target  = []"
   ]
  },
  {
   "cell_type": "code",
   "execution_count": 11,
   "id": "e3d9c3d3",
   "metadata": {
    "execution": {
     "iopub.execute_input": "2022-03-21T13:20:42.254881Z",
     "iopub.status.busy": "2022-03-21T13:20:42.253924Z",
     "iopub.status.idle": "2022-03-21T13:20:42.281050Z",
     "shell.execute_reply": "2022-03-21T13:20:42.280224Z"
    },
    "papermill": {
     "duration": 0.053337,
     "end_time": "2022-03-21T13:20:42.281248",
     "exception": false,
     "start_time": "2022-03-21T13:20:42.227911",
     "status": "completed"
    },
    "tags": []
   },
   "outputs": [],
   "source": [
    "# global_x_transform_func = lambda x: normalize(x.to(torch.get_default_dtype()), \"unit_power\") # unit_power, unit_mag\n",
    "# global_x_transform_func = lambda x: normalize(x, \"unit_power\") # unit_power, unit_mag"
   ]
  },
  {
   "cell_type": "code",
   "execution_count": 12,
   "id": "acb78fd2",
   "metadata": {
    "execution": {
     "iopub.execute_input": "2022-03-21T13:20:42.340270Z",
     "iopub.status.busy": "2022-03-21T13:20:42.339329Z",
     "iopub.status.idle": "2022-03-21T13:20:42.362772Z",
     "shell.execute_reply": "2022-03-21T13:20:42.361908Z"
    },
    "papermill": {
     "duration": 0.054807,
     "end_time": "2022-03-21T13:20:42.362959",
     "exception": false,
     "start_time": "2022-03-21T13:20:42.308152",
     "status": "completed"
    },
    "tags": []
   },
   "outputs": [],
   "source": [
    "def add_dataset(\n",
    "    labels,\n",
    "    domains,\n",
    "    pickle_path,\n",
    "    x_transforms,\n",
    "    episode_transforms,\n",
    "    domain_prefix,\n",
    "    num_examples_per_domain_per_label,\n",
    "    source_or_target_dataset:str,\n",
    "    iterator_seed=p.seed,\n",
    "    dataset_seed=p.dataset_seed,\n",
    "    n_shot=p.n_shot,\n",
    "    n_way=p.n_way,\n",
    "    n_query=p.n_query,\n",
    "    train_val_test_k_factors=(p.train_k_factor,p.val_k_factor,p.test_k_factor),\n",
    "):\n",
    "   \n",
    "    if x_transforms == []: x_transform = None\n",
    "    else: x_transform = get_chained_transform(x_transforms)\n",
    "    \n",
    "    if episode_transforms == []: episode_transform = None\n",
    "    else: raise Exception(\"episode_transforms not implemented\")\n",
    "    \n",
    "    episode_transform = lambda tup, _prefix=domain_prefix: (_prefix + str(tup[0]), tup[1])\n",
    "\n",
    "\n",
    "    eaf = Episodic_Accessor_Factory(\n",
    "        labels=labels,\n",
    "        domains=domains,\n",
    "        num_examples_per_domain_per_label=num_examples_per_domain_per_label,\n",
    "        iterator_seed=iterator_seed,\n",
    "        dataset_seed=dataset_seed,\n",
    "        n_shot=n_shot,\n",
    "        n_way=n_way,\n",
    "        n_query=n_query,\n",
    "        train_val_test_k_factors=train_val_test_k_factors,\n",
    "        pickle_path=pickle_path,\n",
    "        x_transform_func=x_transform,\n",
    "    )\n",
    "\n",
    "    train, val, test = eaf.get_train(), eaf.get_val(), eaf.get_test()\n",
    "    train = Lazy_Iterable_Wrapper(train, episode_transform)\n",
    "    val = Lazy_Iterable_Wrapper(val, episode_transform)\n",
    "    test = Lazy_Iterable_Wrapper(test, episode_transform)\n",
    "\n",
    "    if source_or_target_dataset==\"source\":\n",
    "        train_original_source.append(train)\n",
    "        val_original_source.append(val)\n",
    "        test_original_source.append(test)\n",
    "\n",
    "        p.domains_source.extend(\n",
    "            [domain_prefix + str(u) for u in domains]\n",
    "        )\n",
    "    elif source_or_target_dataset==\"target\":\n",
    "        train_original_target.append(train)\n",
    "        val_original_target.append(val)\n",
    "        test_original_target.append(test)\n",
    "        p.domains_target.extend(\n",
    "            [domain_prefix + str(u) for u in domains]\n",
    "        )\n",
    "    else:\n",
    "        raise Exception(f\"invalid source_or_target_dataset: {source_or_target_dataset}\")\n",
    "    "
   ]
  },
  {
   "cell_type": "code",
   "execution_count": 13,
   "id": "fe266617",
   "metadata": {
    "execution": {
     "iopub.execute_input": "2022-03-21T13:20:42.417311Z",
     "iopub.status.busy": "2022-03-21T13:20:42.416306Z",
     "iopub.status.idle": "2022-03-21T13:20:46.326882Z",
     "shell.execute_reply": "2022-03-21T13:20:46.326133Z"
    },
    "papermill": {
     "duration": 3.935144,
     "end_time": "2022-03-21T13:20:46.327076",
     "exception": false,
     "start_time": "2022-03-21T13:20:42.391932",
     "status": "completed"
    },
    "tags": []
   },
   "outputs": [],
   "source": [
    "for ds in p.datasets:\n",
    "    add_dataset(**ds)"
   ]
  },
  {
   "cell_type": "code",
   "execution_count": 14,
   "id": "b90d65ac",
   "metadata": {
    "execution": {
     "iopub.execute_input": "2022-03-21T13:20:46.378238Z",
     "iopub.status.busy": "2022-03-21T13:20:46.377664Z",
     "iopub.status.idle": "2022-03-21T13:20:46.399630Z",
     "shell.execute_reply": "2022-03-21T13:20:46.398781Z"
    },
    "papermill": {
     "duration": 0.046255,
     "end_time": "2022-03-21T13:20:46.399792",
     "exception": false,
     "start_time": "2022-03-21T13:20:46.353537",
     "status": "completed"
    },
    "tags": []
   },
   "outputs": [],
   "source": [
    "# from steves_utils.CORES.utils import (\n",
    "#     ALL_NODES,\n",
    "#     ALL_NODES_MINIMUM_1000_EXAMPLES,\n",
    "#     ALL_DAYS\n",
    "# )\n",
    "\n",
    "# add_dataset(\n",
    "#     labels=ALL_NODES,\n",
    "#     domains = ALL_DAYS,\n",
    "#     num_examples_per_domain_per_label=100,\n",
    "#     pickle_path=os.path.join(get_datasets_base_path(), \"cores.stratified_ds.2022A.pkl\"),\n",
    "#     source_or_target_dataset=\"target\",\n",
    "#     x_transform_func=global_x_transform_func,\n",
    "#     domain_modifier=lambda u: f\"cores_{u}\"\n",
    "# )"
   ]
  },
  {
   "cell_type": "code",
   "execution_count": 15,
   "id": "76db484d",
   "metadata": {
    "execution": {
     "iopub.execute_input": "2022-03-21T13:20:46.449282Z",
     "iopub.status.busy": "2022-03-21T13:20:46.448906Z",
     "iopub.status.idle": "2022-03-21T13:20:46.465498Z",
     "shell.execute_reply": "2022-03-21T13:20:46.464669Z"
    },
    "papermill": {
     "duration": 0.039956,
     "end_time": "2022-03-21T13:20:46.465659",
     "exception": false,
     "start_time": "2022-03-21T13:20:46.425703",
     "status": "completed"
    },
    "tags": []
   },
   "outputs": [],
   "source": [
    "# from steves_utils.ORACLE.utils_v2 import (\n",
    "#     ALL_DISTANCES_FEET,\n",
    "#     ALL_RUNS,\n",
    "#     ALL_SERIAL_NUMBERS,\n",
    "# )\n",
    "\n",
    "\n",
    "# add_dataset(\n",
    "#     labels=ALL_SERIAL_NUMBERS,\n",
    "#     domains = list(set(ALL_DISTANCES_FEET) - {2,62}),\n",
    "#     num_examples_per_domain_per_label=100,\n",
    "#     pickle_path=os.path.join(get_datasets_base_path(), \"oracle.Run2_framed_2000Examples_stratified_ds.2022A.pkl\"),\n",
    "#     source_or_target_dataset=\"source\",\n",
    "#     x_transform_func=global_x_transform_func,\n",
    "#     domain_modifier=lambda u: f\"oracle1_{u}\"\n",
    "# )\n"
   ]
  },
  {
   "cell_type": "code",
   "execution_count": 16,
   "id": "97dea9d2",
   "metadata": {
    "execution": {
     "iopub.execute_input": "2022-03-21T13:20:46.516245Z",
     "iopub.status.busy": "2022-03-21T13:20:46.515868Z",
     "iopub.status.idle": "2022-03-21T13:20:46.532113Z",
     "shell.execute_reply": "2022-03-21T13:20:46.531267Z"
    },
    "papermill": {
     "duration": 0.039868,
     "end_time": "2022-03-21T13:20:46.532270",
     "exception": false,
     "start_time": "2022-03-21T13:20:46.492402",
     "status": "completed"
    },
    "tags": []
   },
   "outputs": [],
   "source": [
    "# from steves_utils.ORACLE.utils_v2 import (\n",
    "#     ALL_DISTANCES_FEET,\n",
    "#     ALL_RUNS,\n",
    "#     ALL_SERIAL_NUMBERS,\n",
    "# )\n",
    "\n",
    "\n",
    "# add_dataset(\n",
    "#     labels=ALL_SERIAL_NUMBERS,\n",
    "#     domains = list(set(ALL_DISTANCES_FEET) - {2,62,56}),\n",
    "#     num_examples_per_domain_per_label=100,\n",
    "#     pickle_path=os.path.join(get_datasets_base_path(), \"oracle.Run2_framed_2000Examples_stratified_ds.2022A.pkl\"),\n",
    "#     source_or_target_dataset=\"source\",\n",
    "#     x_transform_func=global_x_transform_func,\n",
    "#     domain_modifier=lambda u: f\"oracle2_{u}\"\n",
    "# )"
   ]
  },
  {
   "cell_type": "code",
   "execution_count": 17,
   "id": "6f289866",
   "metadata": {
    "execution": {
     "iopub.execute_input": "2022-03-21T13:20:46.581763Z",
     "iopub.status.busy": "2022-03-21T13:20:46.581116Z",
     "iopub.status.idle": "2022-03-21T13:20:46.597841Z",
     "shell.execute_reply": "2022-03-21T13:20:46.597011Z"
    },
    "papermill": {
     "duration": 0.040051,
     "end_time": "2022-03-21T13:20:46.598001",
     "exception": false,
     "start_time": "2022-03-21T13:20:46.557950",
     "status": "completed"
    },
    "tags": []
   },
   "outputs": [],
   "source": [
    "# add_dataset(\n",
    "#     labels=list(range(19)),\n",
    "#     domains = [0,1,2],\n",
    "#     num_examples_per_domain_per_label=100,\n",
    "#     pickle_path=os.path.join(get_datasets_base_path(), \"metehan.stratified_ds.2022A.pkl\"),\n",
    "#     source_or_target_dataset=\"target\",\n",
    "#     x_transform_func=global_x_transform_func,\n",
    "#     domain_modifier=lambda u: f\"met_{u}\"\n",
    "# )"
   ]
  },
  {
   "cell_type": "code",
   "execution_count": 18,
   "id": "86a863c3",
   "metadata": {
    "execution": {
     "iopub.execute_input": "2022-03-21T13:20:46.648598Z",
     "iopub.status.busy": "2022-03-21T13:20:46.648222Z",
     "iopub.status.idle": "2022-03-21T13:20:46.664829Z",
     "shell.execute_reply": "2022-03-21T13:20:46.664005Z"
    },
    "papermill": {
     "duration": 0.040435,
     "end_time": "2022-03-21T13:20:46.664986",
     "exception": false,
     "start_time": "2022-03-21T13:20:46.624551",
     "status": "completed"
    },
    "tags": []
   },
   "outputs": [],
   "source": [
    "# # from steves_utils.wisig.utils import (\n",
    "# #     ALL_NODES_MINIMUM_100_EXAMPLES,\n",
    "# #     ALL_NODES_MINIMUM_500_EXAMPLES,\n",
    "# #     ALL_NODES_MINIMUM_1000_EXAMPLES,\n",
    "# #     ALL_DAYS\n",
    "# # )\n",
    "\n",
    "# import steves_utils.wisig.utils as wisig\n",
    "\n",
    "\n",
    "# add_dataset(\n",
    "#     labels=wisig.ALL_NODES_MINIMUM_100_EXAMPLES,\n",
    "#     domains = wisig.ALL_DAYS,\n",
    "#     num_examples_per_domain_per_label=100,\n",
    "#     pickle_path=os.path.join(get_datasets_base_path(), \"wisig.node3-19.stratified_ds.2022A.pkl\"),\n",
    "#     source_or_target_dataset=\"target\",\n",
    "#     x_transform_func=global_x_transform_func,\n",
    "#     domain_modifier=lambda u: f\"wisig_{u}\"\n",
    "# )"
   ]
  },
  {
   "cell_type": "code",
   "execution_count": 19,
   "id": "fd5442bc",
   "metadata": {
    "execution": {
     "iopub.execute_input": "2022-03-21T13:20:46.719788Z",
     "iopub.status.busy": "2022-03-21T13:20:46.719188Z",
     "iopub.status.idle": "2022-03-21T13:20:46.737012Z",
     "shell.execute_reply": "2022-03-21T13:20:46.736192Z"
    },
    "papermill": {
     "duration": 0.044496,
     "end_time": "2022-03-21T13:20:46.737168",
     "exception": false,
     "start_time": "2022-03-21T13:20:46.692672",
     "status": "completed"
    },
    "tags": []
   },
   "outputs": [],
   "source": [
    "###################################\n",
    "# Build the dataset\n",
    "###################################\n",
    "train_original_source = Iterable_Aggregator(train_original_source, p.seed)\n",
    "val_original_source = Iterable_Aggregator(val_original_source, p.seed)\n",
    "test_original_source = Iterable_Aggregator(test_original_source, p.seed)\n",
    "\n",
    "\n",
    "train_original_target = Iterable_Aggregator(train_original_target, p.seed)\n",
    "val_original_target = Iterable_Aggregator(val_original_target, p.seed)\n",
    "test_original_target = Iterable_Aggregator(test_original_target, p.seed)\n",
    "\n",
    "# For CNN We only use X and Y. And we only train on the source.\n",
    "# Properly form the data using a transform lambda and Lazy_Iterable_Wrapper. Finally wrap them in a dataloader\n",
    "\n",
    "transform_lambda = lambda ex: ex[1] # Original is (<domain>, <episode>) so we strip down to episode only\n",
    "\n",
    "train_processed_source = Lazy_Iterable_Wrapper(train_original_source, transform_lambda)\n",
    "val_processed_source   = Lazy_Iterable_Wrapper(val_original_source, transform_lambda)\n",
    "test_processed_source  = Lazy_Iterable_Wrapper(test_original_source, transform_lambda)\n",
    "\n",
    "train_processed_target = Lazy_Iterable_Wrapper(train_original_target, transform_lambda)\n",
    "val_processed_target   = Lazy_Iterable_Wrapper(val_original_target, transform_lambda)\n",
    "test_processed_target  = Lazy_Iterable_Wrapper(test_original_target, transform_lambda)\n",
    "\n",
    "datasets = EasyDict({\n",
    "    \"source\": {\n",
    "        \"original\": {\"train\":train_original_source, \"val\":val_original_source, \"test\":test_original_source},\n",
    "        \"processed\": {\"train\":train_processed_source, \"val\":val_processed_source, \"test\":test_processed_source}\n",
    "    },\n",
    "    \"target\": {\n",
    "        \"original\": {\"train\":train_original_target, \"val\":val_original_target, \"test\":test_original_target},\n",
    "        \"processed\": {\"train\":train_processed_target, \"val\":val_processed_target, \"test\":test_processed_target}\n",
    "    },\n",
    "})"
   ]
  },
  {
   "cell_type": "code",
   "execution_count": 20,
   "id": "5b3c01fc",
   "metadata": {
    "execution": {
     "iopub.execute_input": "2022-03-21T13:20:46.791097Z",
     "iopub.status.busy": "2022-03-21T13:20:46.790725Z",
     "iopub.status.idle": "2022-03-21T13:21:01.942489Z",
     "shell.execute_reply": "2022-03-21T13:21:01.941724Z"
    },
    "papermill": {
     "duration": 15.175751,
     "end_time": "2022-03-21T13:21:01.942675",
     "exception": false,
     "start_time": "2022-03-21T13:20:46.766924",
     "status": "completed"
    },
    "tags": []
   },
   "outputs": [
    {
     "name": "stdout",
     "output_type": "stream",
     "text": [
      "{'ORACLE.run138', 'ORACLE.run18', 'ORACLE.run132', 'ORACLE.run144', 'ORACLE.run114', 'ORACLE.run126', 'ORACLE.run150', 'ORACLE.run120'}\n"
     ]
    },
    {
     "name": "stdout",
     "output_type": "stream",
     "text": [
      "{'Wisig_4', 'Wisig_3', 'Wisig_2', 'Wisig_1'}\n"
     ]
    },
    {
     "name": "stdout",
     "output_type": "stream",
     "text": [
      "tensor([[[-0.0013,  0.0068, -0.0012,  ..., -0.0069,  0.0031,  0.0037],\n",
      "         [-0.0027,  0.0023,  0.0033,  ..., -0.0003, -0.0062, -0.0068]],\n",
      "\n",
      "        [[ 0.0003,  0.0075, -0.0019,  ..., -0.0059, -0.0003, -0.0047],\n",
      "         [-0.0026, -0.0019,  0.0040,  ...,  0.0021, -0.0082, -0.0054]],\n",
      "\n",
      "        [[-0.0045, -0.0010,  0.0059,  ..., -0.0004, -0.0087,  0.0002],\n",
      "         [-0.0027, -0.0060,  0.0040,  ...,  0.0053,  0.0020,  0.0089]],\n",
      "\n",
      "        ...,\n",
      "\n",
      "        [[ 0.0006,  0.0037, -0.0006,  ..., -0.0046, -0.0049, -0.0058],\n",
      "         [-0.0050, -0.0015,  0.0073,  ...,  0.0005, -0.0057,  0.0046]],\n",
      "\n",
      "        [[-0.0014,  0.0061,  0.0001,  ..., -0.0058,  0.0011,  0.0016],\n",
      "         [-0.0027,  0.0002,  0.0035,  ...,  0.0014, -0.0059, -0.0058]],\n",
      "\n",
      "        [[-0.0042, -0.0043,  0.0056,  ...,  0.0034, -0.0011,  0.0072],\n",
      "         [ 0.0029, -0.0009, -0.0042,  ...,  0.0030,  0.0071,  0.0013]]])\n"
     ]
    }
   ],
   "source": [
    "from steves_utils.transforms import get_average_magnitude, get_average_power\n",
    "\n",
    "print(set([u for u,_ in val_original_source]))\n",
    "print(set([u for u,_ in val_original_target]))\n",
    "\n",
    "s_x, s_y, q_x, q_y, _ = next(iter(train_processed_source))\n",
    "print(s_x)\n",
    "\n",
    "# for ds in [\n",
    "#     train_processed_source,\n",
    "#     val_processed_source,\n",
    "#     test_processed_source,\n",
    "#     train_processed_target,\n",
    "#     val_processed_target,\n",
    "#     test_processed_target\n",
    "# ]:\n",
    "#     for s_x, s_y, q_x, q_y, _ in ds:\n",
    "#         for X in (s_x, q_x):\n",
    "#             for x in X:\n",
    "#                 assert np.isclose(get_average_magnitude(x.numpy()), 1.0)\n",
    "#                 assert np.isclose(get_average_power(x.numpy()), 1.0)\n",
    "                "
   ]
  },
  {
   "cell_type": "code",
   "execution_count": 21,
   "id": "bbdacba1",
   "metadata": {
    "execution": {
     "iopub.execute_input": "2022-03-21T13:21:01.999670Z",
     "iopub.status.busy": "2022-03-21T13:21:01.998775Z",
     "iopub.status.idle": "2022-03-21T13:21:02.282471Z",
     "shell.execute_reply": "2022-03-21T13:21:02.283153Z"
    },
    "papermill": {
     "duration": 0.312499,
     "end_time": "2022-03-21T13:21:02.283390",
     "exception": false,
     "start_time": "2022-03-21T13:21:01.970891",
     "status": "completed"
    },
    "tags": []
   },
   "outputs": [
    {
     "name": "stdout",
     "output_type": "stream",
     "text": [
      "(2, 256)\n"
     ]
    }
   ],
   "source": [
    "###################################\n",
    "# Build the model\n",
    "###################################\n",
    "# easfsl only wants a tuple for the shape\n",
    "model = Steves_Prototypical_Network(x_net, device=p.device, x_shape=tuple(p.x_shape))\n",
    "optimizer = Adam(params=model.parameters(), lr=p.lr)"
   ]
  },
  {
   "cell_type": "code",
   "execution_count": 22,
   "id": "22b39ac5",
   "metadata": {
    "execution": {
     "iopub.execute_input": "2022-03-21T13:21:02.354471Z",
     "iopub.status.busy": "2022-03-21T13:21:02.354080Z",
     "iopub.status.idle": "2022-03-21T13:42:13.040665Z",
     "shell.execute_reply": "2022-03-21T13:42:13.040185Z"
    },
    "papermill": {
     "duration": 1270.728467,
     "end_time": "2022-03-21T13:42:13.040786",
     "exception": false,
     "start_time": "2022-03-21T13:21:02.312319",
     "status": "completed"
    },
    "tags": []
   },
   "outputs": [
    {
     "name": "stdout",
     "output_type": "stream",
     "text": [
      "epoch: 1, [batch: 1 / 6720], examples_per_second: 32.4389, train_label_loss: 2.8349, \n"
     ]
    },
    {
     "name": "stdout",
     "output_type": "stream",
     "text": [
      "epoch: 1, [batch: 672 / 6720], examples_per_second: 3095.6756, train_label_loss: 0.4085, \n"
     ]
    },
    {
     "name": "stdout",
     "output_type": "stream",
     "text": [
      "epoch: 1, [batch: 1344 / 6720], examples_per_second: 3411.2087, train_label_loss: 0.5268, \n"
     ]
    },
    {
     "name": "stdout",
     "output_type": "stream",
     "text": [
      "epoch: 1, [batch: 2016 / 6720], examples_per_second: 2835.8080, train_label_loss: 0.8909, \n"
     ]
    },
    {
     "name": "stdout",
     "output_type": "stream",
     "text": [
      "epoch: 1, [batch: 2688 / 6720], examples_per_second: 2581.0767, train_label_loss: 0.5310, \n"
     ]
    },
    {
     "name": "stdout",
     "output_type": "stream",
     "text": [
      "epoch: 1, [batch: 3360 / 6720], examples_per_second: 2580.9412, train_label_loss: 0.3633, \n"
     ]
    },
    {
     "name": "stdout",
     "output_type": "stream",
     "text": [
      "epoch: 1, [batch: 4032 / 6720], examples_per_second: 2728.2542, train_label_loss: 0.3697, \n"
     ]
    },
    {
     "name": "stdout",
     "output_type": "stream",
     "text": [
      "epoch: 1, [batch: 4704 / 6720], examples_per_second: 3038.6865, train_label_loss: 0.2710, \n"
     ]
    },
    {
     "name": "stdout",
     "output_type": "stream",
     "text": [
      "epoch: 1, [batch: 5376 / 6720], examples_per_second: 3467.0975, train_label_loss: 0.2769, \n"
     ]
    },
    {
     "name": "stdout",
     "output_type": "stream",
     "text": [
      "epoch: 1, [batch: 6048 / 6720], examples_per_second: 3059.4708, train_label_loss: 0.1586, \n"
     ]
    },
    {
     "name": "stdout",
     "output_type": "stream",
     "text": [
      "=============================================================\n",
      "epoch: 1, source_val_acc_label: 0.6668, target_val_acc_label: 0.7900, source_val_label_loss: 122.8557, target_val_label_loss: 9832.0420, \n",
      "=============================================================\n"
     ]
    },
    {
     "name": "stdout",
     "output_type": "stream",
     "text": [
      "New best\n"
     ]
    },
    {
     "name": "stdout",
     "output_type": "stream",
     "text": [
      "epoch: 2, [batch: 1 / 6720], examples_per_second: 2.8100, train_label_loss: 214.2908, \n"
     ]
    },
    {
     "name": "stdout",
     "output_type": "stream",
     "text": [
      "epoch: 2, [batch: 672 / 6720], examples_per_second: 3026.6242, train_label_loss: 0.3093, \n"
     ]
    },
    {
     "name": "stdout",
     "output_type": "stream",
     "text": [
      "epoch: 2, [batch: 1344 / 6720], examples_per_second: 2977.6989, train_label_loss: 1.8583, \n"
     ]
    },
    {
     "name": "stdout",
     "output_type": "stream",
     "text": [
      "epoch: 2, [batch: 2016 / 6720], examples_per_second: 2924.1420, train_label_loss: 0.1642, \n"
     ]
    },
    {
     "name": "stdout",
     "output_type": "stream",
     "text": [
      "epoch: 2, [batch: 2688 / 6720], examples_per_second: 2611.8765, train_label_loss: 0.4955, \n"
     ]
    },
    {
     "name": "stdout",
     "output_type": "stream",
     "text": [
      "epoch: 2, [batch: 3360 / 6720], examples_per_second: 2325.0136, train_label_loss: 0.3284, \n"
     ]
    },
    {
     "name": "stdout",
     "output_type": "stream",
     "text": [
      "epoch: 2, [batch: 4032 / 6720], examples_per_second: 2423.5080, train_label_loss: 1.0646, \n"
     ]
    },
    {
     "name": "stdout",
     "output_type": "stream",
     "text": [
      "epoch: 2, [batch: 4704 / 6720], examples_per_second: 2624.6680, train_label_loss: 0.3331, \n"
     ]
    },
    {
     "name": "stdout",
     "output_type": "stream",
     "text": [
      "epoch: 2, [batch: 5376 / 6720], examples_per_second: 2621.6477, train_label_loss: 0.2466, \n"
     ]
    },
    {
     "name": "stdout",
     "output_type": "stream",
     "text": [
      "epoch: 2, [batch: 6048 / 6720], examples_per_second: 2525.8875, train_label_loss: 0.1791, \n"
     ]
    },
    {
     "name": "stdout",
     "output_type": "stream",
     "text": [
      "=============================================================\n",
      "epoch: 2, source_val_acc_label: 0.9051, target_val_acc_label: 0.5668, source_val_label_loss: 0.2747, target_val_label_loss: 713.8217, \n",
      "=============================================================\n"
     ]
    },
    {
     "name": "stdout",
     "output_type": "stream",
     "text": [
      "epoch: 3, [batch: 1 / 6720], examples_per_second: 2.0246, train_label_loss: 0.5473, \n"
     ]
    },
    {
     "name": "stdout",
     "output_type": "stream",
     "text": [
      "epoch: 3, [batch: 672 / 6720], examples_per_second: 2508.4926, train_label_loss: 0.0300, \n"
     ]
    },
    {
     "name": "stdout",
     "output_type": "stream",
     "text": [
      "epoch: 3, [batch: 1344 / 6720], examples_per_second: 2620.4056, train_label_loss: 0.1654, \n"
     ]
    },
    {
     "name": "stdout",
     "output_type": "stream",
     "text": [
      "epoch: 3, [batch: 2016 / 6720], examples_per_second: 2672.7726, train_label_loss: 0.5376, \n"
     ]
    },
    {
     "name": "stdout",
     "output_type": "stream",
     "text": [
      "epoch: 3, [batch: 2688 / 6720], examples_per_second: 2268.3467, train_label_loss: 0.2225, \n"
     ]
    },
    {
     "name": "stdout",
     "output_type": "stream",
     "text": [
      "epoch: 3, [batch: 3360 / 6720], examples_per_second: 2311.9410, train_label_loss: 0.0472, \n"
     ]
    },
    {
     "name": "stdout",
     "output_type": "stream",
     "text": [
      "epoch: 3, [batch: 4032 / 6720], examples_per_second: 2407.1881, train_label_loss: 0.1705, \n"
     ]
    },
    {
     "name": "stdout",
     "output_type": "stream",
     "text": [
      "epoch: 3, [batch: 4704 / 6720], examples_per_second: 2590.2956, train_label_loss: 0.2236, \n"
     ]
    },
    {
     "name": "stdout",
     "output_type": "stream",
     "text": [
      "epoch: 3, [batch: 5376 / 6720], examples_per_second: 2544.8149, train_label_loss: 0.1600, \n"
     ]
    },
    {
     "name": "stdout",
     "output_type": "stream",
     "text": [
      "epoch: 3, [batch: 6048 / 6720], examples_per_second: 2502.1472, train_label_loss: 0.2473, \n"
     ]
    },
    {
     "name": "stdout",
     "output_type": "stream",
     "text": [
      "=============================================================\n",
      "epoch: 3, source_val_acc_label: 0.9220, target_val_acc_label: 0.5587, source_val_label_loss: 0.2344, target_val_label_loss: 543.3353, \n",
      "=============================================================\n"
     ]
    },
    {
     "name": "stdout",
     "output_type": "stream",
     "text": [
      "epoch: 4, [batch: 1 / 6720], examples_per_second: 2.0388, train_label_loss: 0.0639, \n"
     ]
    },
    {
     "name": "stdout",
     "output_type": "stream",
     "text": [
      "epoch: 4, [batch: 672 / 6720], examples_per_second: 2561.7198, train_label_loss: 0.0924, \n"
     ]
    },
    {
     "name": "stdout",
     "output_type": "stream",
     "text": [
      "epoch: 4, [batch: 1344 / 6720], examples_per_second: 2670.7750, train_label_loss: 0.5554, \n"
     ]
    },
    {
     "name": "stdout",
     "output_type": "stream",
     "text": [
      "epoch: 4, [batch: 2016 / 6720], examples_per_second: 2365.8979, train_label_loss: 0.0896, \n"
     ]
    },
    {
     "name": "stdout",
     "output_type": "stream",
     "text": [
      "epoch: 4, [batch: 2688 / 6720], examples_per_second: 2283.8480, train_label_loss: 0.2816, \n"
     ]
    },
    {
     "name": "stdout",
     "output_type": "stream",
     "text": [
      "epoch: 4, [batch: 3360 / 6720], examples_per_second: 2292.0547, train_label_loss: 0.0456, \n"
     ]
    },
    {
     "name": "stdout",
     "output_type": "stream",
     "text": [
      "epoch: 4, [batch: 4032 / 6720], examples_per_second: 2453.9682, train_label_loss: 0.1056, \n"
     ]
    },
    {
     "name": "stdout",
     "output_type": "stream",
     "text": [
      "epoch: 4, [batch: 4704 / 6720], examples_per_second: 2618.3364, train_label_loss: 0.1730, \n"
     ]
    },
    {
     "name": "stdout",
     "output_type": "stream",
     "text": [
      "epoch: 4, [batch: 5376 / 6720], examples_per_second: 2589.9774, train_label_loss: 0.1309, \n"
     ]
    },
    {
     "name": "stdout",
     "output_type": "stream",
     "text": [
      "epoch: 4, [batch: 6048 / 6720], examples_per_second: 2457.8727, train_label_loss: 0.2826, \n"
     ]
    },
    {
     "name": "stdout",
     "output_type": "stream",
     "text": [
      "=============================================================\n",
      "epoch: 4, source_val_acc_label: 0.9349, target_val_acc_label: 0.6317, source_val_label_loss: 0.1909, target_val_label_loss: 411.9921, \n",
      "=============================================================\n"
     ]
    },
    {
     "name": "stdout",
     "output_type": "stream",
     "text": [
      "epoch: 5, [batch: 1 / 6720], examples_per_second: 2.1033, train_label_loss: 0.1586, \n"
     ]
    },
    {
     "name": "stdout",
     "output_type": "stream",
     "text": [
      "epoch: 5, [batch: 672 / 6720], examples_per_second: 2617.1723, train_label_loss: 0.4679, \n"
     ]
    },
    {
     "name": "stdout",
     "output_type": "stream",
     "text": [
      "epoch: 5, [batch: 1344 / 6720], examples_per_second: 2609.9345, train_label_loss: 0.3476, \n"
     ]
    },
    {
     "name": "stdout",
     "output_type": "stream",
     "text": [
      "epoch: 5, [batch: 2016 / 6720], examples_per_second: 2640.1910, train_label_loss: 0.2909, \n"
     ]
    },
    {
     "name": "stdout",
     "output_type": "stream",
     "text": [
      "epoch: 5, [batch: 2688 / 6720], examples_per_second: 2578.4501, train_label_loss: 0.0775, \n"
     ]
    },
    {
     "name": "stdout",
     "output_type": "stream",
     "text": [
      "epoch: 5, [batch: 3360 / 6720], examples_per_second: 2606.8171, train_label_loss: 0.2844, \n"
     ]
    },
    {
     "name": "stdout",
     "output_type": "stream",
     "text": [
      "epoch: 5, [batch: 4032 / 6720], examples_per_second: 2731.2482, train_label_loss: 0.0980, \n"
     ]
    },
    {
     "name": "stdout",
     "output_type": "stream",
     "text": [
      "epoch: 5, [batch: 4704 / 6720], examples_per_second: 2911.2015, train_label_loss: 0.1781, \n"
     ]
    },
    {
     "name": "stdout",
     "output_type": "stream",
     "text": [
      "epoch: 5, [batch: 5376 / 6720], examples_per_second: 3033.2098, train_label_loss: 0.0574, \n"
     ]
    },
    {
     "name": "stdout",
     "output_type": "stream",
     "text": [
      "epoch: 5, [batch: 6048 / 6720], examples_per_second: 2933.7309, train_label_loss: 0.2944, \n"
     ]
    },
    {
     "name": "stdout",
     "output_type": "stream",
     "text": [
      "=============================================================\n",
      "epoch: 5, source_val_acc_label: 0.9224, target_val_acc_label: 0.6546, source_val_label_loss: 0.2169, target_val_label_loss: 436.5900, \n",
      "=============================================================\n"
     ]
    },
    {
     "name": "stdout",
     "output_type": "stream",
     "text": [
      "Patience (3) exhausted\n"
     ]
    }
   ],
   "source": [
    "###################################\n",
    "# train\n",
    "###################################\n",
    "jig = PTN_Train_Eval_Test_Jig(model, p.BEST_MODEL_PATH, p.device)\n",
    "\n",
    "jig.train(\n",
    "    train_iterable=datasets.source.processed.train,\n",
    "    source_val_iterable=datasets.source.processed.val,\n",
    "    target_val_iterable=datasets.target.processed.val,\n",
    "    num_epochs=p.n_epoch,\n",
    "    num_logs_per_epoch=p.NUM_LOGS_PER_EPOCH,\n",
    "    patience=p.patience,\n",
    "    optimizer=optimizer,\n",
    "    criteria_for_best=p.criteria_for_best,\n",
    ")"
   ]
  },
  {
   "cell_type": "code",
   "execution_count": 23,
   "id": "31e8fabf",
   "metadata": {
    "execution": {
     "iopub.execute_input": "2022-03-21T13:42:13.126676Z",
     "iopub.status.busy": "2022-03-21T13:42:13.126296Z",
     "iopub.status.idle": "2022-03-21T13:42:13.159676Z",
     "shell.execute_reply": "2022-03-21T13:42:13.158463Z"
    },
    "papermill": {
     "duration": 0.077582,
     "end_time": "2022-03-21T13:42:13.159872",
     "exception": false,
     "start_time": "2022-03-21T13:42:13.082290",
     "status": "completed"
    },
    "tags": []
   },
   "outputs": [],
   "source": [
    "total_experiment_time_secs = time.time() - start_time_secs"
   ]
  },
  {
   "cell_type": "code",
   "execution_count": 24,
   "id": "87b9595b",
   "metadata": {
    "execution": {
     "iopub.execute_input": "2022-03-21T13:42:13.252630Z",
     "iopub.status.busy": "2022-03-21T13:42:13.251741Z",
     "iopub.status.idle": "2022-03-21T13:46:46.495460Z",
     "shell.execute_reply": "2022-03-21T13:46:46.496234Z"
    },
    "papermill": {
     "duration": 273.292178,
     "end_time": "2022-03-21T13:46:46.496465",
     "exception": false,
     "start_time": "2022-03-21T13:42:13.204287",
     "status": "completed"
    },
    "tags": []
   },
   "outputs": [],
   "source": [
    "###################################\n",
    "# Evaluate the model\n",
    "###################################\n",
    "source_test_label_accuracy, source_test_label_loss = jig.test(datasets.source.processed.test)\n",
    "target_test_label_accuracy, target_test_label_loss = jig.test(datasets.target.processed.test)\n",
    "\n",
    "source_val_label_accuracy, source_val_label_loss = jig.test(datasets.source.processed.val)\n",
    "target_val_label_accuracy, target_val_label_loss = jig.test(datasets.target.processed.val)\n",
    "\n",
    "history = jig.get_history()\n",
    "\n",
    "total_epochs_trained = len(history[\"epoch_indices\"])\n",
    "\n",
    "val_dl = Iterable_Aggregator((datasets.source.original.val,datasets.target.original.val))\n",
    "\n",
    "confusion = ptn_confusion_by_domain_over_dataloader(model, p.device, val_dl)\n",
    "per_domain_accuracy = per_domain_accuracy_from_confusion(confusion)\n",
    "\n",
    "# Add a key to per_domain_accuracy for if it was a source domain\n",
    "for domain, accuracy in per_domain_accuracy.items():\n",
    "    per_domain_accuracy[domain] = {\n",
    "        \"accuracy\": accuracy,\n",
    "        \"source?\": domain in p.domains_source\n",
    "    }\n",
    "\n",
    "# Do an independent accuracy assesment JUST TO BE SURE!\n",
    "# _source_test_label_accuracy = independent_accuracy_assesment(model, datasets.source.processed.test, p.device)\n",
    "# _target_test_label_accuracy = independent_accuracy_assesment(model, datasets.target.processed.test, p.device)\n",
    "# _source_val_label_accuracy = independent_accuracy_assesment(model, datasets.source.processed.val, p.device)\n",
    "# _target_val_label_accuracy = independent_accuracy_assesment(model, datasets.target.processed.val, p.device)\n",
    "\n",
    "# assert(_source_test_label_accuracy == source_test_label_accuracy)\n",
    "# assert(_target_test_label_accuracy == target_test_label_accuracy)\n",
    "# assert(_source_val_label_accuracy == source_val_label_accuracy)\n",
    "# assert(_target_val_label_accuracy == target_val_label_accuracy)\n",
    "\n",
    "experiment = {\n",
    "    \"experiment_name\": p.experiment_name,\n",
    "    \"parameters\": dict(p),\n",
    "    \"results\": {\n",
    "        \"source_test_label_accuracy\": source_test_label_accuracy,\n",
    "        \"source_test_label_loss\": source_test_label_loss,\n",
    "        \"target_test_label_accuracy\": target_test_label_accuracy,\n",
    "        \"target_test_label_loss\": target_test_label_loss,\n",
    "        \"source_val_label_accuracy\": source_val_label_accuracy,\n",
    "        \"source_val_label_loss\": source_val_label_loss,\n",
    "        \"target_val_label_accuracy\": target_val_label_accuracy,\n",
    "        \"target_val_label_loss\": target_val_label_loss,\n",
    "        \"total_epochs_trained\": total_epochs_trained,\n",
    "        \"total_experiment_time_secs\": total_experiment_time_secs,\n",
    "        \"confusion\": confusion,\n",
    "        \"per_domain_accuracy\": per_domain_accuracy,\n",
    "    },\n",
    "    \"history\": history,\n",
    "    \"dataset_metrics\": get_dataset_metrics(datasets, \"ptn\"),\n",
    "}"
   ]
  },
  {
   "cell_type": "code",
   "execution_count": 25,
   "id": "54a21829",
   "metadata": {
    "execution": {
     "iopub.execute_input": "2022-03-21T13:46:46.581687Z",
     "iopub.status.busy": "2022-03-21T13:46:46.581094Z",
     "iopub.status.idle": "2022-03-21T13:46:46.793295Z",
     "shell.execute_reply": "2022-03-21T13:46:46.793642Z"
    },
    "papermill": {
     "duration": 0.254515,
     "end_time": "2022-03-21T13:46:46.793773",
     "exception": false,
     "start_time": "2022-03-21T13:46:46.539258",
     "status": "completed"
    },
    "tags": []
   },
   "outputs": [
    {
     "data": {
      "image/png": "[encoded data removed]",
      "text/plain": [
       "<Figure size 1080x504 with 1 Axes>"
      ]
     },
     "metadata": {
      "needs_background": "light"
     },
     "output_type": "display_data"
    }
   ],
   "source": [
    "ax = get_loss_curve(experiment)\n",
    "plt.show()"
   ]
  },
  {
   "cell_type": "code",
   "execution_count": 26,
   "id": "fd8a0f60",
   "metadata": {
    "execution": {
     "iopub.execute_input": "2022-03-21T13:46:46.881240Z",
     "iopub.status.busy": "2022-03-21T13:46:46.880656Z",
     "iopub.status.idle": "2022-03-21T13:46:47.216815Z",
     "shell.execute_reply": "2022-03-21T13:46:47.217147Z"
    },
    "papermill": {
     "duration": 0.379652,
     "end_time": "2022-03-21T13:46:47.217278",
     "exception": false,
     "start_time": "2022-03-21T13:46:46.837626",
     "status": "completed"
    },
    "tags": []
   },
   "outputs": [
    {
     "data": {
      "text/plain": [
       "<AxesSubplot:title={'center':'Results'}>"
      ]
     },
     "execution_count": 26,
     "metadata": {},
     "output_type": "execute_result"
    },
    {
     "data": {
      "image/png": "[encoded data removed]",
      "text/plain": [
       "<Figure size 1080x504 with 1 Axes>"
      ]
     },
     "metadata": {
      "needs_background": "light"
     },
     "output_type": "display_data"
    }
   ],
   "source": [
    "get_results_table(experiment)"
   ]
  },
  {
   "cell_type": "code",
   "execution_count": 27,
   "id": "cf8dc689",
   "metadata": {
    "execution": {
     "iopub.execute_input": "2022-03-21T13:46:47.311690Z",
     "iopub.status.busy": "2022-03-21T13:46:47.311279Z",
     "iopub.status.idle": "2022-03-21T13:46:47.565848Z",
     "shell.execute_reply": "2022-03-21T13:46:47.566536Z"
    },
    "papermill": {
     "duration": 0.306048,
     "end_time": "2022-03-21T13:46:47.566755",
     "exception": false,
     "start_time": "2022-03-21T13:46:47.260707",
     "status": "completed"
    },
    "tags": []
   },
   "outputs": [
    {
     "data": {
      "text/plain": [
       "<AxesSubplot:title={'center':'Per Domain Validation Accuracy'}, xlabel='domain'>"
      ]
     },
     "execution_count": 27,
     "metadata": {},
     "output_type": "execute_result"
    },
    {
     "data": {
      "image/png": "[encoded data removed]",
      "text/plain": [
       "<Figure size 1080x504 with 1 Axes>"
      ]
     },
     "metadata": {
      "needs_background": "light"
     },
     "output_type": "display_data"
    }
   ],
   "source": [
    "get_domain_accuracies(experiment)"
   ]
  },
  {
   "cell_type": "code",
   "execution_count": 28,
   "id": "a74ae082",
   "metadata": {
    "execution": {
     "iopub.execute_input": "2022-03-21T13:46:47.657693Z",
     "iopub.status.busy": "2022-03-21T13:46:47.657297Z",
     "iopub.status.idle": "2022-03-21T13:46:47.682028Z",
     "shell.execute_reply": "2022-03-21T13:46:47.682733Z"
    },
    "papermill": {
     "duration": 0.07114,
     "end_time": "2022-03-21T13:46:47.682953",
     "exception": false,
     "start_time": "2022-03-21T13:46:47.611813",
     "status": "completed"
    },
    "tags": []
   },
   "outputs": [
    {
     "name": "stdout",
     "output_type": "stream",
     "text": [
      "Source Test Label Accuracy: 0.6644205729166667 Target Test Label Accuracy: 0.7905598958333333\n",
      "Source Val Label Accuracy: 0.666796875 Target Val Label Accuracy: 0.7899655355249204\n"
     ]
    }
   ],
   "source": [
    "print(\"Source Test Label Accuracy:\", experiment[\"results\"][\"source_test_label_accuracy\"], \"Target Test Label Accuracy:\", experiment[\"results\"][\"target_test_label_accuracy\"])\n",
    "print(\"Source Val Label Accuracy:\", experiment[\"results\"][\"source_val_label_accuracy\"], \"Target Val Label Accuracy:\", experiment[\"results\"][\"target_val_label_accuracy\"])"
   ]
  },
  {
   "cell_type": "code",
   "execution_count": 29,
   "id": "dacca602",
   "metadata": {
    "execution": {
     "iopub.execute_input": "2022-03-21T13:46:47.777732Z",
     "iopub.status.busy": "2022-03-21T13:46:47.777341Z",
     "iopub.status.idle": "2022-03-21T13:46:47.807133Z",
     "shell.execute_reply": "2022-03-21T13:46:47.807866Z"
    },
    "papermill": {
     "duration": 0.07657,
     "end_time": "2022-03-21T13:46:47.808080",
     "exception": false,
     "start_time": "2022-03-21T13:46:47.731510",
     "status": "completed"
    },
    "tags": [
     "experiment_json"
    ]
   },
   "outputs": [
    {
     "data": {
      "text/plain": [
       "'{\"experiment_name\": \"tl_1v2:wisig-oracle.run1.framed\", \"parameters\": {\"experiment_name\": \"tl_1v2:wisig-oracle.run1.framed\", \"device\": \"cuda\", \"lr\": 0.0001, \"n_shot\": 3, \"n_query\": 2, \"train_k_factor\": 3, \"val_k_factor\": 2, \"test_k_factor\": 2, \"torch_default_dtype\": \"torch.float32\", \"n_epoch\": 50, \"patience\": 3, \"criteria_for_best\": \"target_accuracy\", \"x_net\": [{\"class\": \"nnReshape\", \"kargs\": {\"shape\": [-1, 1, 2, 256]}}, {\"class\": \"Conv2d\", \"kargs\": {\"in_channels\": 1, \"out_channels\": 256, \"kernel_size\": [1, 7], \"bias\": false, \"padding\": [0, 3]}}, {\"class\": \"ReLU\", \"kargs\": {\"inplace\": true}}, {\"class\": \"BatchNorm2d\", \"kargs\": {\"num_features\": 256}}, {\"class\": \"Conv2d\", \"kargs\": {\"in_channels\": 256, \"out_channels\": 80, \"kernel_size\": [2, 7], \"bias\": true, \"padding\": [0, 3]}}, {\"class\": \"ReLU\", \"kargs\": {\"inplace\": true}}, {\"class\": \"BatchNorm2d\", \"kargs\": {\"num_features\": 80}}, {\"class\": \"Flatten\", \"kargs\": {}}, {\"class\": \"Linear\", \"kargs\": {\"in_features\": 20480, \"out_features\": 256}}, {\"class\": \"ReLU\", \"kargs\": {\"inplace\": true}}, {\"class\": \"BatchNorm1d\", \"kargs\": {\"num_features\": 256}}, {\"class\": \"Linear\", \"kargs\": {\"in_features\": 256, \"out_features\": 256}}], \"NUM_LOGS_PER_EPOCH\": 10, \"BEST_MODEL_PATH\": \"./best_model.pth\", \"n_way\": 16, \"datasets\": [{\"labels\": [\"1-10\", \"1-12\", \"1-14\", \"1-16\", \"1-18\", \"1-19\", \"1-8\", \"10-11\", \"10-17\", \"10-4\", \"10-7\", \"11-1\", \"11-10\", \"11-19\", \"11-20\", \"11-4\", \"11-7\", \"12-19\", \"12-20\", \"12-7\", \"13-14\", \"13-18\", \"13-19\", \"13-20\", \"13-3\", \"13-7\", \"14-10\", \"14-11\", \"14-12\", \"14-13\", \"14-14\", \"14-19\", \"14-20\", \"14-7\", \"14-8\", \"14-9\", \"15-1\", \"15-19\", \"15-6\", \"16-1\", \"16-16\", \"16-19\", \"16-20\", \"17-10\", \"17-11\", \"18-1\", \"18-10\", \"18-11\", \"18-12\", \"18-13\", \"18-14\", \"18-15\", \"18-16\", \"18-17\", \"18-19\", \"18-2\", \"18-20\", \"18-4\", \"18-5\", \"18-7\", \"18-8\", \"18-9\", \"19-1\", \"19-10\", \"19-11\", \"19-12\", \"19-13\", \"19-14\", \"19-15\", \"19-19\", \"19-2\", \"19-20\", \"19-3\", \"19-4\", \"19-6\", \"19-7\", \"19-8\", \"19-9\", \"2-1\", \"2-13\", \"2-15\", \"2-3\", \"2-4\", \"2-5\", \"2-6\", \"2-7\", \"2-8\", \"20-1\", \"20-12\", \"20-14\", \"20-15\", \"20-16\", \"20-18\", \"20-19\", \"20-20\", \"20-3\", \"20-4\", \"20-5\", \"20-7\", \"20-8\", \"3-1\", \"3-13\", \"3-18\", \"3-2\", \"3-8\", \"4-1\", \"4-10\", \"4-11\", \"5-1\", \"5-5\", \"6-1\", \"6-15\", \"6-6\", \"7-10\", \"7-11\", \"7-12\", \"7-13\", \"7-14\", \"7-7\", \"7-8\", \"7-9\", \"8-1\", \"8-13\", \"8-14\", \"8-18\", \"8-20\", \"8-3\", \"8-8\", \"9-1\", \"9-7\"], \"domains\": [1, 2, 3, 4], \"num_examples_per_domain_per_label\": -1, \"pickle_path\": \"/root/csc500-main/datasets/wisig.node3-19.stratified_ds.2022A.pkl\", \"source_or_target_dataset\": \"target\", \"x_transforms\": [], \"episode_transforms\": [], \"domain_prefix\": \"Wisig_\"}, {\"labels\": [\"3123D52\", \"3123D65\", \"3123D79\", \"3123D80\", \"3123D54\", \"3123D70\", \"3123D7B\", \"3123D89\", \"3123D58\", \"3123D76\", \"3123D7D\", \"3123EFE\", \"3123D64\", \"3123D78\", \"3123D7E\", \"3124E4A\"], \"domains\": [32, 38, 8, 44, 14, 50, 20, 26], \"num_examples_per_domain_per_label\": 2000, \"pickle_path\": \"/root/csc500-main/datasets/oracle.Run1_framed_2000Examples_stratified_ds.2022A.pkl\", \"source_or_target_dataset\": \"source\", \"x_transforms\": [], \"episode_transforms\": [], \"domain_prefix\": \"ORACLE.run1\"}], \"dataset_seed\": 154325, \"seed\": 154325, \"x_shape\": [2, 256], \"domains_source\": [\"ORACLE.run132\", \"ORACLE.run138\", \"ORACLE.run18\", \"ORACLE.run144\", \"ORACLE.run114\", \"ORACLE.run150\", \"ORACLE.run120\", \"ORACLE.run126\"], \"domains_target\": [\"Wisig_1\", \"Wisig_2\", \"Wisig_3\", \"Wisig_4\"]}, \"results\": {\"source_test_label_accuracy\": 0.6644205729166667, \"source_test_label_loss\": 121.91546630859375, \"target_test_label_accuracy\": 0.7905598958333333, \"target_test_label_loss\": 10761.4697265625, \"source_val_label_accuracy\": 0.666796875, \"source_val_label_loss\": 122.85566711425781, \"target_val_label_accuracy\": 0.7899655355249204, \"target_val_label_loss\": 9832.0419921875, \"total_epochs_trained\": 5, \"total_experiment_time_secs\": 1291.0355672836304, \"confusion\": {\"ORACLE.run18\": {\"13\": {\"6\": 29, \"13\": 74, \"5\": 26, \"4\": 13, \"10\": 48, \"1\": 3, \"14\": 1, \"7\": 42, \"8\": 1, \"11\": 3}, \"9\": {\"9\": 226, \"3\": 7, \"2\": 6, \"15\": 1}, \"15\": {\"15\": 100, \"12\": 92, \"3\": 14, \"2\": 34}, \"2\": {\"2\": 111, \"3\": 62, \"15\": 37, \"12\": 26, \"9\": 4}, \"3\": {\"3\": 205, \"12\": 3, \"2\": 28, \"15\": 4}, \"8\": {\"11\": 26, \"8\": 158, \"6\": 8, \"7\": 8, \"1\": 30, \"4\": 4, \"14\": 5, \"5\": 1}, \"5\": {\"4\": 20, \"1\": 35, \"5\": 81, \"10\": 50, \"13\": 29, \"14\": 3, \"11\": 13, \"6\": 6, \"7\": 3}, \"14\": {\"14\": 137, \"6\": 8, \"4\": 71, \"11\": 7, \"13\": 2, \"10\": 5, \"0\": 7, \"5\": 2, \"7\": 1}, \"1\": {\"11\": 59, \"13\": 10, \"1\": 79, \"4\": 8, \"5\": 43, \"7\": 9, \"8\": 7, \"10\": 9, \"14\": 5, \"12\": 1, \"6\": 10}, \"0\": {\"0\": 226, \"14\": 14}, \"10\": {\"10\": 63, \"4\": 23, \"6\": 22, \"5\": 27, \"13\": 55, \"14\": 9, \"1\": 9, \"11\": 11, \"7\": 21}, \"6\": {\"6\": 47, \"10\": 35, \"7\": 37, \"4\": 33, \"13\": 42, \"5\": 6, \"1\": 14, \"11\": 12, \"14\": 11, \"8\": 3}, \"11\": {\"11\": 71, \"1\": 63, \"4\": 11, \"14\": 15, \"10\": 13, \"0\": 2, \"13\": 10, \"5\": 33, \"8\": 13, \"6\": 7, \"7\": 2}, \"7\": {\"13\": 65, \"10\": 20, \"7\": 57, \"6\": 56, \"1\": 9, \"5\": 3, \"4\": 18, \"11\": 5, \"14\": 6, \"8\": 1}, \"4\": {\"4\": 85, \"14\": 62, \"13\": 14, \"6\": 26, \"0\": 1, \"5\": 2, \"1\": 2, \"11\": 8, \"7\": 22, \"10\": 18}, \"12\": {\"12\": 110, \"15\": 96, \"13\": 1, \"3\": 12, \"2\": 19, \"11\": 1, \"7\": 1}}, \"ORACLE.run138\": {\"13\": {\"13\": 231, \"10\": 4, \"0\": 4, \"2\": 1}, \"12\": {\"12\": 240}, \"2\": {\"2\": 232, \"14\": 8}, \"9\": {\"9\": 240}, \"15\": {\"15\": 237, \"1\": 2, \"5\": 1}, \"5\": {\"5\": 137, \"8\": 63, \"7\": 21, \"9\": 12, \"0\": 2, \"15\": 3, \"13\": 2}, \"14\": {\"14\": 234, \"2\": 6}, \"0\": {\"7\": 24, \"0\": 108, \"10\": 73, \"13\": 29, \"8\": 5, \"5\": 1}, \"3\": {\"0\": 16, \"3\": 208, \"10\": 15, \"11\": 1}, \"1\": {\"1\": 240}, \"11\": {\"11\": 162, \"3\": 76, \"10\": 2}, \"7\": {\"7\": 233, \"8\": 6, \"5\": 1}, \"8\": {\"8\": 148, \"5\": 52, \"13\": 8, \"7\": 22, \"0\": 3, \"15\": 7}, \"4\": {\"4\": 240}, \"10\": {\"10\": 202, \"0\": 30, \"13\": 7, \"4\": 1}, \"6\": {\"6\": 240}}, \"ORACLE.run126\": {\"10\": {\"10\": 158, \"14\": 49, \"6\": 3, \"0\": 25, \"15\": 5}, \"12\": {\"9\": 50, \"12\": 152, \"7\": 4, \"8\": 12, \"4\": 6, \"13\": 10, \"3\": 6}, \"1\": {\"1\": 189, \"2\": 1, \"14\": 37, \"6\": 7, \"10\": 5, \"3\": 1}, \"0\": {\"0\": 158, \"10\": 42, \"14\": 27, \"8\": 13}, \"15\": {\"5\": 26, \"15\": 183, \"10\": 5, \"6\": 23, \"1\": 1, \"0\": 1, \"14\": 1}, \"13\": {\"13\": 122, \"3\": 20, \"4\": 24, \"12\": 4, \"9\": 47, \"2\": 13, \"8\": 2, \"7\": 8}, \"8\": {\"8\": 149, \"9\": 31, \"7\": 34, \"0\": 6, \"2\": 18, \"13\": 1, \"3\": 1}, \"3\": {\"3\": 126, \"7\": 56, \"12\": 7, \"9\": 12, \"4\": 15, \"2\": 7, \"13\": 15, \"8\": 2}, \"11\": {\"11\": 240}, \"4\": {\"3\": 63, \"13\": 58, \"4\": 81, \"12\": 3, \"9\": 16, \"7\": 14, \"14\": 4, \"8\": 1}, \"6\": {\"6\": 227, \"15\": 11, \"10\": 2}, \"7\": {\"7\": 130, \"2\": 31, \"9\": 18, \"13\": 3, \"3\": 12, \"8\": 40, \"4\": 6}, \"14\": {\"1\": 11, \"14\": 172, \"10\": 46, \"0\": 10, \"15\": 1}, \"2\": {\"2\": 135, \"7\": 41, \"0\": 9, \"3\": 9, \"8\": 20, \"9\": 18, \"12\": 2, \"15\": 1, \"4\": 2, \"13\": 3}, \"5\": {\"5\": 220, \"15\": 19, \"6\": 1}, \"9\": {\"9\": 118, \"8\": 54, \"2\": 18, \"7\": 20, \"13\": 21, \"3\": 6, \"0\": 1, \"4\": 1, \"12\": 1}}, \"ORACLE.run120\": {\"5\": {\"12\": 13, \"5\": 42, \"13\": 5, \"0\": 24, \"15\": 14, \"9\": 17, \"7\": 22, \"1\": 34, \"3\": 24, \"6\": 8, \"14\": 1, \"8\": 9, \"2\": 9, \"11\": 11, \"4\": 7}, \"15\": {\"15\": 52, \"13\": 60, \"1\": 25, \"5\": 15, \"7\": 17, \"9\": 15, \"2\": 19, \"12\": 31, \"3\": 4, \"10\": 1, \"4\": 1}, \"9\": {\"11\": 6, \"4\": 6, \"3\": 28, \"12\": 19, \"1\": 29, \"5\": 21, \"6\": 7, \"9\": 21, \"8\": 10, \"13\": 11, \"7\": 30, \"0\": 9, \"15\": 22, \"2\": 20, \"10\": 1}, \"7\": {\"5\": 23, \"6\": 18, \"1\": 23, \"3\": 20, \"2\": 21, \"12\": 17, \"8\": 6, \"15\": 11, \"9\": 29, \"0\": 7, \"7\": 29, \"13\": 14, \"11\": 4, \"10\": 4, \"4\": 14}, \"3\": {\"3\": 38, \"5\": 29, \"9\": 18, \"4\": 13, \"6\": 21, \"8\": 24, \"0\": 18, \"12\": 9, \"2\": 14, \"15\": 8, \"1\": 18, \"7\": 13, \"11\": 12, \"14\": 4, \"13\": 1}, \"8\": {\"5\": 9, \"6\": 21, \"8\": 80, \"9\": 3, \"11\": 32, \"3\": 24, \"0\": 28, \"14\": 26, \"1\": 3, \"4\": 8, \"7\": 5, \"2\": 1}, \"4\": {\"10\": 37, \"4\": 73, \"3\": 19, \"15\": 5, \"7\": 18, \"2\": 16, \"1\": 7, \"5\": 13, \"9\": 10, \"6\": 19, \"12\": 10, \"8\": 9, \"14\": 3, \"13\": 1}, \"6\": {\"6\": 56, \"10\": 31, \"8\": 35, \"4\": 28, \"3\": 12, \"13\": 1, \"11\": 5, \"14\": 24, \"1\": 9, \"7\": 14, \"0\": 2, \"2\": 8, \"9\": 8, \"5\": 3, \"12\": 4}, \"2\": {\"9\": 25, \"15\": 23, \"5\": 19, \"7\": 26, \"2\": 31, \"1\": 19, \"12\": 32, \"6\": 6, \"3\": 14, \"13\": 22, \"4\": 13, \"8\": 3, \"0\": 3, \"10\": 2, \"11\": 2}, \"12\": {\"7\": 23, \"9\": 20, \"12\": 44, \"5\": 20, \"1\": 20, \"2\": 27, \"13\": 26, \"15\": 28, \"4\": 10, \"0\": 1, \"3\": 15, \"10\": 3, \"11\": 1, \"6\": 1, \"8\": 1}, \"0\": {\"8\": 24, \"0\": 109, \"11\": 61, \"3\": 18, \"7\": 6, \"5\": 7, \"6\": 3, \"1\": 6, \"4\": 2, \"9\": 2, \"14\": 1, \"2\": 1}, \"13\": {\"9\": 11, \"13\": 86, \"2\": 22, \"12\": 31, \"15\": 68, \"7\": 10, \"4\": 1, \"1\": 7, \"5\": 3, \"3\": 1}, \"10\": {\"10\": 147, \"4\": 31, \"15\": 1, \"6\": 35, \"8\": 4, \"14\": 13, \"12\": 2, \"7\": 4, \"13\": 2, \"3\": 1}, \"11\": {\"8\": 16, \"3\": 6, \"11\": 154, \"0\": 46, \"2\": 2, \"9\": 2, \"14\": 3, \"5\": 7, \"1\": 3, \"7\": 1}, \"14\": {\"14\": 99, \"8\": 57, \"6\": 27, \"11\": 28, \"4\": 12, \"10\": 14, \"0\": 2, \"7\": 1}, \"1\": {\"1\": 35, \"5\": 37, \"4\": 2, \"12\": 23, \"2\": 27, \"15\": 23, \"13\": 10, \"3\": 23, \"9\": 18, \"7\": 20, \"6\": 5, \"11\": 4, \"8\": 2, \"0\": 11}}, \"ORACLE.run150\": {\"1\": {\"1\": 240}, \"2\": {\"2\": 237, \"0\": 3}, \"8\": {\"8\": 239, \"10\": 1}, \"7\": {\"7\": 232, \"5\": 7, \"4\": 1}, \"14\": {\"14\": 240}, \"6\": {\"6\": 199, \"5\": 40, \"15\": 1}, \"3\": {\"3\": 240}, \"4\": {\"4\": 206, \"7\": 15, \"5\": 14, \"15\": 5}, \"12\": {\"12\": 236, \"9\": 4}, \"15\": {\"15\": 232, \"6\": 4, \"5\": 3, \"11\": 1}, \"11\": {\"11\": 236, \"15\": 1, \"12\": 2, \"9\": 1}, \"0\": {\"0\": 232, \"2\": 8}, \"9\": {\"11\": 2, \"9\": 221, \"12\": 17}, \"10\": {\"10\": 236, \"0\": 1, \"8\": 3}, \"5\": {\"6\": 38, \"1\": 4, \"4\": 13, \"7\": 65, \"5\": 104, \"13\": 10, \"15\": 6}, \"13\": {\"13\": 240}}, \"ORACLE.run132\": {\"2\": {\"2\": 214, \"4\": 26}, \"6\": {\"6\": 196, \"12\": 21, \"10\": 22, \"9\": 1}, \"5\": {\"5\": 120, \"14\": 8, \"0\": 60, \"7\": 29, \"8\": 23}, \"12\": {\"12\": 240}, \"13\": {\"4\": 23, \"13\": 197, \"3\": 18, \"11\": 2}, \"9\": {\"9\": 239, \"12\": 1}, \"11\": {\"11\": 240}, \"1\": {\"1\": 233, \"10\": 7}, \"3\": {\"3\": 237, \"13\": 3}, \"7\": {\"7\": 162, \"5\": 20, \"0\": 42, \"14\": 15, \"8\": 1}, \"14\": {\"14\": 162, \"7\": 56, \"0\": 6, \"8\": 1, \"5\": 9, \"2\": 1, \"4\": 3, \"3\": 1, \"13\": 1}, \"8\": {\"8\": 214, \"0\": 13, \"5\": 9, \"14\": 2, \"7\": 2}, \"4\": {\"4\": 216, \"2\": 24}, \"0\": {\"0\": 170, \"5\": 14, \"7\": 40, \"8\": 10, \"2\": 2, \"4\": 1, \"14\": 3}, \"10\": {\"10\": 226, \"12\": 13, \"1\": 1}, \"15\": {\"15\": 240}}, \"ORACLE.run144\": {\"13\": {\"13\": 198, \"6\": 34, \"9\": 8}, \"4\": {\"4\": 156, \"14\": 82, \"15\": 2}, \"6\": {\"6\": 177, \"13\": 50, \"9\": 12, \"7\": 1}, \"0\": {\"0\": 226, \"8\": 14}, \"10\": {\"10\": 236, \"1\": 2, \"7\": 1, \"2\": 1}, \"7\": {\"7\": 213, \"9\": 22, \"6\": 2, \"10\": 1, \"2\": 2}, \"14\": {\"14\": 179, \"4\": 52, \"5\": 4, \"15\": 5}, \"15\": {\"14\": 8, \"15\": 221, \"0\": 3, \"5\": 4, \"8\": 4}, \"5\": {\"5\": 227, \"15\": 8, \"14\": 4, \"8\": 1}, \"2\": {\"2\": 234, \"1\": 4, \"7\": 1, \"10\": 1}, \"9\": {\"9\": 137, \"13\": 19, \"7\": 57, \"6\": 27}, \"12\": {\"12\": 238, \"3\": 2}, \"8\": {\"8\": 163, \"0\": 69, \"15\": 4, \"5\": 4}, \"3\": {\"3\": 240}, \"1\": {\"1\": 234, \"2\": 5, \"10\": 1}, \"11\": {\"11\": 240}}, \"ORACLE.run114\": {\"1\": {\"1\": 172, \"10\": 18, \"9\": 7, \"4\": 40, \"7\": 2, \"2\": 1}, \"15\": {\"15\": 240}, \"10\": {\"5\": 33, \"7\": 18, \"4\": 45, \"10\": 81, \"2\": 10, \"1\": 37, \"8\": 1, \"9\": 9, \"13\": 2, \"0\": 1, \"12\": 1, \"14\": 1, \"3\": 1}, \"2\": {\"7\": 36, \"15\": 13, \"6\": 11, \"13\": 10, \"2\": 35, \"4\": 24, \"5\": 41, \"3\": 8, \"14\": 16, \"0\": 16, \"8\": 15, \"10\": 15}, \"9\": {\"9\": 178, \"10\": 16, \"1\": 11, \"12\": 31, \"11\": 1, \"8\": 2, \"4\": 1}, \"5\": {\"5\": 62, \"7\": 48, \"6\": 11, \"10\": 11, \"0\": 6, \"4\": 43, \"8\": 11, \"2\": 21, \"3\": 6, \"14\": 15, \"13\": 4, \"1\": 2}, \"7\": {\"5\": 49, \"7\": 55, \"4\": 37, \"13\": 7, \"0\": 17, \"10\": 10, \"2\": 29, \"8\": 8, \"3\": 8, \"6\": 7, \"14\": 10, \"1\": 2, \"15\": 1}, \"13\": {\"13\": 20, \"15\": 70, \"0\": 18, \"3\": 27, \"5\": 12, \"7\": 19, \"14\": 19, \"4\": 4, \"6\": 24, \"10\": 3, \"8\": 10, \"2\": 14}, \"8\": {\"2\": 15, \"13\": 11, \"4\": 18, \"6\": 15, \"0\": 26, \"15\": 14, \"5\": 22, \"14\": 17, \"12\": 16, \"3\": 29, \"8\": 34, \"7\": 17, \"10\": 4, \"1\": 1, \"9\": 1}, \"6\": {\"15\": 62, \"6\": 23, \"13\": 24, \"2\": 14, \"0\": 25, \"14\": 11, \"7\": 15, \"3\": 46, \"8\": 8, \"5\": 11, \"10\": 1}, \"3\": {\"2\": 10, \"15\": 81, \"14\": 10, \"0\": 29, \"5\": 10, \"13\": 20, \"3\": 43, \"6\": 18, \"8\": 10, \"7\": 7, \"4\": 2}, \"12\": {\"12\": 163, \"10\": 8, \"8\": 24, \"14\": 5, \"7\": 2, \"9\": 22, \"6\": 2, \"3\": 3, \"13\": 1, \"0\": 8, \"2\": 1, \"1\": 1}, \"0\": {\"6\": 21, \"14\": 11, \"3\": 48, \"0\": 31, \"7\": 15, \"5\": 11, \"15\": 50, \"13\": 24, \"4\": 5, \"8\": 10, \"2\": 10, \"12\": 2, \"10\": 2}, \"4\": {\"10\": 31, \"4\": 79, \"5\": 39, \"7\": 41, \"2\": 16, \"1\": 24, \"12\": 1, \"8\": 4, \"9\": 3, \"14\": 1, \"6\": 1}, \"14\": {\"7\": 27, \"5\": 9, \"2\": 28, \"0\": 26, \"13\": 23, \"3\": 20, \"4\": 5, \"6\": 42, \"14\": 24, \"8\": 12, \"15\": 21, \"10\": 3}, \"11\": {\"11\": 231, \"9\": 6, \"1\": 2, \"10\": 1}}, \"Wisig_2\": {\"56\": {\"56\": 9, \"9\": 1, \"34\": 1, \"68\": 1}, \"12\": {\"12\": 60, \"97\": 2, \"3\": 1, \"36\": 1, \"105\": 2, \"0\": 5, \"106\": 5, \"88\": 2, \"7\": 5, \"74\": 2, \"40\": 1, \"109\": 1, \"70\": 1}, \"15\": {\"15\": 96, \"113\": 1, \"97\": 1, \"105\": 3, \"106\": 1, \"94\": 2, \"0\": 8, \"78\": 1, \"70\": 1, \"122\": 1, \"39\": 1}, \"26\": {\"26\": 106, \"31\": 1, \"16\": 1, \"69\": 7, \"93\": 5, \"24\": 1, \"18\": 5, \"21\": 1, \"88\": 1, \"113\": 1, \"70\": 2, \"39\": 1}, \"82\": {\"82\": 25, \"73\": 2, \"45\": 3, \"46\": 1, \"89\": 1, \"53\": 1, \"92\": 2, \"90\": 1}, \"9\": {\"9\": 29, \"58\": 2, \"51\": 1}, \"49\": {\"9\": 1, \"49\": 17, \"76\": 1, \"29\": 1, \"61\": 1, \"71\": 1, \"128\": 2}, \"55\": {\"47\": 1, \"55\": 11, \"56\": 1, \"50\": 1, \"82\": 2}, \"102\": {\"102\": 122, \"48\": 2}, \"85\": {\"85\": 18, \"73\": 1, \"37\": 4, \"98\": 1, \"19\": 1, \"83\": 1, \"54\": 1, \"29\": 1, \"91\": 1, \"42\": 2, \"75\": 1}, \"73\": {\"73\": 19, \"28\": 1, \"112\": 3, \"54\": 1, \"17\": 1, \"68\": 1, \"46\": 1, \"52\": 1}, \"47\": {\"49\": 3, \"47\": 6, \"27\": 1, \"53\": 1, \"107\": 1}, \"20\": {\"20\": 11, \"26\": 1, \"18\": 2, \"88\": 1, \"72\": 1}, \"117\": {\"117\": 109, \"21\": 2, \"44\": 2, \"39\": 1, \"90\": 2}, \"122\": {\"122\": 97, \"21\": 1, \"36\": 7, \"94\": 1, \"43\": 3, \"30\": 7, \"88\": 1, \"0\": 1, \"11\": 5, \"8\": 9, \"70\": 1, \"15\": 1, \"108\": 2, \"39\": 1, \"105\": 1, \"24\": 2}, \"113\": {\"113\": 63, \"118\": 2, \"26\": 3, \"90\": 1, \"121\": 1, \"126\": 2}, \"87\": {\"87\": 89, \"118\": 3, \"126\": 5, \"109\": 3, \"39\": 1, \"1\": 1, \"88\": 1, \"11\": 2, \"27\": 1, \"21\": 1, \"43\": 4, \"93\": 1}, \"21\": {\"21\": 48}, \"106\": {\"106\": 102, \"0\": 2, \"10\": 1, \"127\": 5, \"70\": 2, \"101\": 5, \"24\": 1, \"21\": 1, \"7\": 1}, \"3\": {\"3\": 112, \"71\": 5, \"14\": 1, \"88\": 1, \"1\": 8, \"33\": 1, \"127\": 3, \"39\": 3, \"62\": 2}, \"126\": {\"87\": 5, \"126\": 94, \"10\": 4, \"70\": 2, \"43\": 1, \"27\": 1, \"88\": 3, \"39\": 4, \"118\": 2, \"109\": 3, \"24\": 1}, \"41\": {\"41\": 11, \"37\": 2, \"66\": 1, \"103\": 1, \"90\": 1, \"6\": 1, \"5\": 1, \"124\": 1, \"91\": 1}, \"76\": {\"3\": 1, \"76\": 10, \"53\": 1, \"61\": 1, \"28\": 1, \"71\": 1, \"98\": 1}, \"60\": {\"60\": 21, \"84\": 1, \"110\": 1, \"62\": 2, \"94\": 1, \"23\": 1, \"16\": 1}, \"94\": {\"94\": 29, \"122\": 4, \"88\": 1, \"109\": 1, \"108\": 1, \"43\": 1, \"11\": 1, \"105\": 2, \"24\": 2, \"36\": 3, \"15\": 4, \"8\": 5, \"30\": 2, \"0\": 3, \"126\": 1, \"86\": 1, \"106\": 1, \"110\": 1, \"12\": 1}, \"50\": {\"50\": 11, \"92\": 1, \"38\": 1, \"67\": 1, \"91\": 2}, \"97\": {\"97\": 15, \"94\": 1, \"7\": 1, \"15\": 1, \"106\": 1, \"12\": 1}, \"115\": {\"115\": 12}, \"38\": {\"38\": 15, \"92\": 1}, \"43\": {\"43\": 97, \"70\": 1, \"122\": 1, \"126\": 4, \"27\": 1, \"39\": 1, \"87\": 5, \"108\": 6, \"88\": 1, \"118\": 2, \"109\": 2, \"30\": 1, \"15\": 2}, \"67\": {\"67\": 7, \"45\": 1, \"63\": 1, \"102\": 1, \"5\": 1, \"123\": 1, \"112\": 2, \"22\": 2}, \"18\": {\"18\": 101, \"72\": 2, \"21\": 2, \"69\": 11, \"10\": 2, \"26\": 6, \"39\": 1, \"113\": 1, \"109\": 1, \"88\": 1}, \"23\": {\"15\": 2, \"16\": 2, \"23\": 17, \"93\": 1, \"26\": 2, \"122\": 2, \"69\": 2, \"11\": 2, \"105\": 2, \"0\": 3, \"36\": 1, \"84\": 2, \"20\": 1, \"72\": 1, \"43\": 1, \"24\": 1, \"94\": 2}, \"63\": {\"63\": 15, \"20\": 2, \"99\": 1, \"83\": 1, \"82\": 1}, \"127\": {\"127\": 103, \"126\": 1, \"101\": 7, \"3\": 1, \"7\": 3, \"40\": 4, \"90\": 1, \"121\": 1, \"71\": 1, \"88\": 1, \"111\": 1}, \"72\": {\"72\": 20, \"69\": 1, \"26\": 2, \"33\": 3, \"43\": 1, \"111\": 1}, \"128\": {\"47\": 2, \"128\": 12, \"53\": 1, \"9\": 1, \"49\": 3, \"54\": 2, \"74\": 1, \"89\": 1, \"109\": 1}, \"7\": {\"7\": 116, \"88\": 2, \"0\": 1, \"12\": 4, \"105\": 2, \"10\": 1, \"109\": 1, \"15\": 1}, \"108\": {\"108\": 115, \"43\": 2, \"30\": 2, \"11\": 5, \"94\": 1, \"122\": 4, \"27\": 1, \"36\": 2, \"8\": 2}, \"16\": {\"23\": 2, \"16\": 73, \"60\": 2, \"93\": 7, \"118\": 1, \"18\": 1, \"11\": 1, \"62\": 5, \"88\": 2, \"105\": 2, \"122\": 3, \"70\": 1, \"108\": 1, \"115\": 1, \"96\": 1, \"84\": 1, \"69\": 1, \"30\": 1, \"43\": 2, \"8\": 1, \"21\": 2, \"26\": 2, \"39\": 1}, \"29\": {\"29\": 30, \"17\": 2}, \"61\": {\"61\": 11, \"82\": 2, \"83\": 1, \"107\": 1, \"95\": 1, \"66\": 1, \"53\": 1, \"126\": 1, \"64\": 1}, \"104\": {\"103\": 1, \"104\": 14, \"124\": 1, \"19\": 1, \"68\": 1, \"59\": 1, \"91\": 1}, \"120\": {\"120\": 16, \"119\": 2, \"90\": 2}, \"124\": {\"124\": 110, \"104\": 1, \"86\": 4, \"89\": 1, \"5\": 5, \"91\": 1, \"111\": 2}, \"34\": {\"128\": 2, \"34\": 17, \"53\": 3, \"54\": 1, \"58\": 1, \"95\": 1, \"107\": 2, \"19\": 2, \"49\": 2, \"33\": 1}, \"84\": {\"84\": 64, \"69\": 5, \"9\": 1, \"47\": 2, \"62\": 5, \"1\": 2, \"3\": 4, \"11\": 1, \"7\": 1, \"109\": 1, \"124\": 1, \"23\": 1, \"40\": 1, \"126\": 1, \"71\": 1, \"98\": 1}, \"103\": {\"104\": 1, \"115\": 1, \"41\": 1, \"103\": 8, \"68\": 2, \"124\": 1, \"111\": 1, \"25\": 1}, \"100\": {\"100\": 11, \"31\": 1, \"33\": 1, \"55\": 1, \"72\": 1, \"18\": 1}, \"40\": {\"35\": 1, \"71\": 8, \"40\": 75, \"24\": 1, \"3\": 4, \"127\": 16, \"12\": 3, \"95\": 4, \"114\": 1, \"70\": 1, \"107\": 2, \"21\": 2, \"106\": 1, \"39\": 3, \"7\": 6, \"1\": 2, \"88\": 3, \"101\": 4, \"14\": 2, \"62\": 1}, \"35\": {\"35\": 11, \"7\": 1}, \"96\": {\"96\": 10, \"47\": 1, \"84\": 1, \"72\": 2, \"16\": 3, \"31\": 2, \"118\": 1}, \"101\": {\"101\": 105, \"127\": 5, \"105\": 5, \"114\": 1, \"40\": 2, \"16\": 1, \"106\": 1}, \"71\": {\"71\": 85, \"127\": 1, \"24\": 1, \"14\": 3, \"3\": 3, \"10\": 1, \"40\": 1, \"0\": 1, \"18\": 1, \"78\": 1, \"70\": 1, \"12\": 1}, \"81\": {\"81\": 13, \"120\": 1, \"31\": 1, \"82\": 1, \"65\": 2, \"83\": 1, \"121\": 3, \"102\": 1, \"91\": 1}, \"74\": {\"35\": 2, \"36\": 1, \"74\": 5, \"71\": 4, \"107\": 1, \"122\": 1, \"127\": 2}, \"119\": {\"13\": 4, \"119\": 4, \"116\": 2, \"46\": 1, \"38\": 1, \"117\": 1, \"80\": 3, \"2\": 2, \"57\": 2}, \"5\": {\"5\": 98, \"42\": 3, \"41\": 1, \"43\": 1, \"124\": 2, \"109\": 1, \"70\": 1, \"111\": 2, \"22\": 2, \"126\": 1}, \"68\": {\"68\": 10, \"56\": 1, \"46\": 1, \"91\": 1, \"34\": 1, \"85\": 2}, \"37\": {\"109\": 1, \"37\": 8, \"116\": 2, \"103\": 1, \"85\": 1, \"55\": 1, \"41\": 1, \"77\": 1}, \"58\": {\"9\": 6, \"58\": 12, \"34\": 2}, \"109\": {\"109\": 77, \"78\": 4, \"39\": 8, \"88\": 7, \"70\": 2, \"10\": 1, \"87\": 1}, \"107\": {\"107\": 40, \"94\": 2, \"36\": 1, \"32\": 1, \"118\": 1, \"7\": 1, \"44\": 3, \"114\": 7, \"64\": 2, \"49\": 2, \"53\": 2, \"40\": 2}, \"13\": {\"119\": 4, \"13\": 9, \"109\": 1, \"118\": 1, \"87\": 1}, \"52\": {\"77\": 1, \"58\": 1, \"52\": 15, \"41\": 1, \"75\": 1, \"111\": 1}, \"77\": {\"91\": 4, \"77\": 9, \"17\": 2, \"81\": 1}, \"95\": {\"35\": 2, \"95\": 21, \"40\": 3, \"32\": 4, \"106\": 1, \"107\": 1, \"101\": 2, \"49\": 1, \"114\": 1}, \"44\": {\"44\": 88, \"3\": 3, \"114\": 1, \"33\": 5, \"1\": 2, \"89\": 1}, \"88\": {\"88\": 92, \"78\": 4, \"109\": 11, \"70\": 10, \"39\": 5}, \"91\": {\"52\": 1, \"91\": 15, \"111\": 1, \"29\": 4, \"104\": 2, \"124\": 2, \"17\": 1, \"126\": 1, \"77\": 1}, \"93\": {\"23\": 3, \"8\": 2, \"93\": 101, \"11\": 1, \"26\": 4, \"21\": 1, \"84\": 3, \"62\": 4, \"16\": 8, \"69\": 3, \"122\": 2, \"113\": 1, \"109\": 1, \"70\": 2, \"18\": 1, \"43\": 1}, \"8\": {\"8\": 78, \"94\": 3, \"36\": 13, \"27\": 1, \"11\": 2, \"118\": 1, \"18\": 1, \"105\": 3, \"69\": 1, \"30\": 9, \"122\": 4, \"108\": 1, \"0\": 2, \"110\": 2, \"23\": 1, \"60\": 1, \"26\": 1}, \"1\": {\"1\": 87, \"3\": 14, \"24\": 2, \"114\": 1, \"33\": 3, \"71\": 2, \"7\": 1, \"36\": 1, \"39\": 1, \"40\": 1, \"69\": 1}, \"45\": {\"73\": 2, \"45\": 10, \"21\": 1, \"67\": 1, \"112\": 1, \"44\": 1}, \"111\": {\"111\": 118, \"124\": 4, \"24\": 1, \"6\": 1, \"21\": 1, \"125\": 1}, \"116\": {\"116\": 26, \"85\": 1, \"42\": 1}, \"48\": {\"129\": 2, \"13\": 1, \"48\": 13, \"2\": 2, \"117\": 1, \"102\": 1}, \"57\": {\"57\": 15, \"90\": 2, \"78\": 1, \"92\": 1, \"88\": 1}, \"10\": {\"10\": 46, \"126\": 10, \"108\": 1, \"24\": 1, \"87\": 1, \"27\": 1}, \"129\": {\"37\": 2, \"129\": 21, \"73\": 1, \"22\": 3, \"123\": 2, \"5\": 2, \"41\": 1}, \"98\": {\"85\": 2, \"98\": 105, \"107\": 2, \"88\": 1, \"111\": 1, \"70\": 1, \"52\": 1, \"29\": 2, \"114\": 1, \"39\": 1, \"127\": 1}, \"65\": {\"65\": 17, \"121\": 1, \"109\": 1, \"102\": 1}, \"6\": {\"6\": 29, \"91\": 1, \"59\": 1, \"25\": 1}, \"75\": {\"9\": 1, \"14\": 1, \"52\": 2, \"75\": 7, \"126\": 1, \"54\": 2, \"49\": 2}, \"14\": {\"3\": 5, \"14\": 33, \"78\": 2, \"64\": 2, \"1\": 4, \"74\": 1, \"71\": 1}, \"30\": {\"30\": 78, \"36\": 10, \"122\": 4, \"27\": 1, \"8\": 9, \"109\": 1, \"88\": 1, \"126\": 1, \"43\": 2, \"108\": 2, \"39\": 3}, \"83\": {\"83\": 32, \"61\": 1, \"1\": 1, \"89\": 1, \"100\": 3, \"71\": 1, \"44\": 1}, \"69\": {\"69\": 113, \"72\": 4, \"62\": 1, \"93\": 1, \"84\": 2, \"18\": 1, \"71\": 2, \"109\": 1, \"39\": 1, \"126\": 1, \"88\": 1}, \"125\": {\"125\": 141, \"79\": 2, \"4\": 1, \"6\": 1, \"98\": 1}, \"31\": {\"31\": 9, \"119\": 1, \"33\": 2, \"67\": 1, \"1\": 1, \"44\": 2, \"127\": 1, \"107\": 1, \"89\": 2}, \"118\": {\"87\": 3, \"118\": 57, \"43\": 1, \"11\": 2, \"108\": 1, \"105\": 2, \"23\": 1, \"21\": 1}, \"53\": {\"56\": 1, \"53\": 9, \"19\": 2, \"49\": 1, \"32\": 1, \"61\": 1, \"34\": 1}, \"54\": {\"34\": 4, \"54\": 8, \"51\": 2, \"71\": 2, \"66\": 1, \"61\": 1, \"86\": 1, \"29\": 1}, \"92\": {\"31\": 1, \"92\": 19, \"55\": 2, \"89\": 1, \"14\": 1, \"33\": 2, \"107\": 1, \"82\": 1}, \"19\": {\"128\": 1, \"19\": 24, \"92\": 1, \"34\": 1, \"98\": 1}, \"27\": {\"27\": 39, \"11\": 2, \"94\": 2, \"122\": 4, \"15\": 2, \"36\": 3, \"108\": 6, \"30\": 3, \"43\": 3, \"10\": 1, \"8\": 3}, \"17\": {\"17\": 7, \"21\": 1, \"43\": 1, \"79\": 1, \"111\": 2, \"129\": 1, \"125\": 2, \"6\": 1}, \"4\": {\"4\": 85, \"24\": 1, \"125\": 2}, \"36\": {\"27\": 3, \"94\": 3, \"36\": 90, \"23\": 2, \"8\": 3, \"15\": 2, \"88\": 4, \"127\": 1, \"122\": 4, \"30\": 9, \"44\": 1, \"108\": 5, \"70\": 1}, \"90\": {\"90\": 133, \"57\": 2, \"65\": 1}, \"64\": {\"64\": 10, \"76\": 1, \"19\": 1, \"45\": 1, \"24\": 1, \"61\": 1, \"37\": 1}, \"66\": {\"64\": 1, \"66\": 13, \"28\": 2, \"58\": 2, \"61\": 1, \"98\": 1}, \"46\": {\"119\": 1, \"46\": 12, \"67\": 1, \"109\": 1, \"78\": 1}, \"86\": {\"86\": 23, \"25\": 2, \"111\": 3, \"77\": 1, \"124\": 1, \"6\": 1, \"41\": 1}, \"114\": {\"32\": 1, \"68\": 1, \"114\": 97, \"107\": 3, \"10\": 1, \"127\": 1, \"101\": 1, \"71\": 2, \"1\": 1, \"44\": 1, \"126\": 1}, \"32\": {\"32\": 25, \"114\": 3, \"86\": 1, \"95\": 2, \"34\": 1, \"71\": 1, \"107\": 2, \"102\": 1}, \"78\": {\"109\": 4, \"78\": 40, \"24\": 1, \"39\": 2, \"70\": 1}, \"33\": {\"100\": 1, \"33\": 123, \"84\": 2, \"1\": 7, \"126\": 1, \"23\": 1, \"3\": 2, \"101\": 1}, \"70\": {\"70\": 83, \"109\": 8, \"89\": 1, \"78\": 2, \"24\": 15, \"88\": 6, \"39\": 4, \"10\": 1, \"126\": 2, \"87\": 2}, \"0\": {\"0\": 83, \"105\": 8, \"122\": 2, \"7\": 2, \"30\": 2, \"94\": 1, \"12\": 1, \"44\": 1, \"117\": 1, \"15\": 7, \"39\": 1, \"106\": 3, \"8\": 1, \"90\": 1, \"36\": 1, \"18\": 1}, \"110\": {\"110\": 30, \"0\": 2, \"105\": 1, \"7\": 1, \"70\": 1, \"42\": 1, \"122\": 2, \"107\": 1, \"62\": 1}, \"2\": {\"2\": 16, \"57\": 1, \"99\": 1, \"123\": 1, \"102\": 2, \"116\": 2, \"48\": 1, \"63\": 1, \"121\": 2, \"119\": 1, \"37\": 1, \"81\": 1, \"120\": 2}, \"28\": {\"28\": 14, \"67\": 1, \"80\": 1, \"29\": 2, \"56\": 1, \"102\": 1}, \"51\": {\"51\": 12, \"74\": 1, \"91\": 1, \"75\": 1, \"56\": 1, \"95\": 1, \"9\": 2, \"105\": 1}, \"79\": {\"79\": 14, \"59\": 1, \"125\": 1}, \"42\": {\"42\": 17, \"112\": 1, \"91\": 1, \"77\": 1, \"29\": 1, \"59\": 1, \"119\": 1, \"38\": 1, \"124\": 2, \"102\": 2}, \"112\": {\"112\": 13, \"73\": 2, \"50\": 1}, \"89\": {\"89\": 29, \"83\": 3, \"92\": 1, \"82\": 1, \"90\": 2}, \"59\": {\"17\": 2, \"125\": 3, \"59\": 9, \"86\": 2}, \"105\": {\"0\": 10, \"105\": 108, \"70\": 1, \"39\": 1, \"8\": 2, \"40\": 1, \"94\": 1, \"15\": 4}, \"121\": {\"121\": 31, \"120\": 1, \"89\": 1, \"36\": 1, \"81\": 2}, \"11\": {\"11\": 57, \"23\": 1, \"24\": 1, \"43\": 1, \"8\": 3, \"108\": 5, \"122\": 5, \"12\": 1, \"118\": 1, \"126\": 1, \"88\": 1, \"0\": 1, \"30\": 1, \"39\": 1}, \"99\": {\"18\": 2, \"99\": 25, \"83\": 1, \"3\": 1, \"24\": 1, \"87\": 1, \"33\": 1}, \"25\": {\"52\": 1, \"41\": 1, \"25\": 11, \"64\": 1, \"17\": 1, \"103\": 1}, \"62\": {\"62\": 104, \"43\": 1, \"60\": 2, \"16\": 3, \"7\": 3, \"84\": 1, \"105\": 6, \"108\": 1, \"78\": 2, \"0\": 1, \"39\": 1, \"126\": 1, \"33\": 1, \"1\": 1}, \"123\": {\"123\": 12, \"46\": 1, \"129\": 1, \"50\": 2}, \"24\": {\"24\": 98, \"10\": 1, \"27\": 2, \"70\": 3, \"126\": 2, \"78\": 1, \"108\": 1, \"43\": 1, \"109\": 1, \"30\": 1, \"39\": 1}, \"80\": {\"80\": 15, \"111\": 1}, \"39\": {\"39\": 74, \"109\": 14, \"88\": 7, \"87\": 1, \"70\": 3, \"126\": 1}, \"22\": {\"85\": 2, \"22\": 9, \"102\": 1, \"129\": 1, \"73\": 2, \"124\": 1, \"59\": 1, \"86\": 1, \"126\": 1, \"5\": 1}}, \"Wisig_4\": {\"32\": {\"32\": 16, \"83\": 2, \"114\": 1, \"46\": 1, \"57\": 1, \"66\": 1, \"3\": 2, \"82\": 1, \"34\": 1, \"9\": 2}, \"22\": {\"22\": 7, \"45\": 4, \"129\": 2, \"79\": 1, \"111\": 1, \"17\": 1}, \"69\": {\"69\": 96, \"108\": 1, \"24\": 2, \"14\": 3, \"39\": 1, \"84\": 10, \"70\": 2, \"3\": 1, \"105\": 1, \"126\": 1, \"16\": 2}, \"65\": {\"63\": 1, \"65\": 10, \"2\": 1}, \"91\": {\"91\": 21, \"68\": 1, \"82\": 1, \"41\": 1}, \"63\": {\"63\": 13, \"117\": 1, \"48\": 1, \"90\": 1}, \"127\": {\"88\": 1, \"127\": 86, \"40\": 6, \"107\": 2, \"12\": 3, \"14\": 2, \"101\": 2, \"34\": 2, \"96\": 1, \"106\": 2, \"118\": 1}, \"11\": {\"11\": 101, \"62\": 5, \"118\": 5, \"88\": 1, \"109\": 1, \"7\": 7, \"93\": 5, \"110\": 3, \"87\": 6, \"16\": 1, \"101\": 1, \"14\": 2}, \"12\": {\"12\": 80, \"106\": 9, \"71\": 1, \"78\": 1, \"109\": 1, \"107\": 1, \"127\": 2, \"126\": 1, \"90\": 1, \"111\": 1, \"70\": 1, \"24\": 1}, \"111\": {\"111\": 110, \"124\": 8, \"125\": 3, \"78\": 1, \"68\": 2, \"104\": 1, \"96\": 1, \"17\": 1, \"126\": 1}, \"53\": {\"53\": 13, \"121\": 1, \"107\": 1, \"9\": 1}, \"73\": {\"73\": 8, \"64\": 2, \"98\": 1, \"55\": 1, \"112\": 2, \"67\": 1, \"85\": 1, \"31\": 1, \"45\": 1, \"129\": 1, \"28\": 2, \"52\": 2, \"92\": 1}, \"3\": {\"3\": 100, \"99\": 2, \"127\": 3, \"21\": 1, \"71\": 3, \"105\": 2, \"114\": 5, \"1\": 10, \"14\": 1, \"49\": 2, \"5\": 2, \"39\": 1, \"40\": 3, \"107\": 1}, \"83\": {\"83\": 13, \"3\": 3, \"89\": 2, \"114\": 1, \"71\": 1, \"49\": 1, \"19\": 1, \"5\": 2, \"107\": 1, \"95\": 1, \"76\": 1, \"85\": 1}, \"88\": {\"88\": 115, \"70\": 2, \"108\": 2, \"39\": 4, \"109\": 3, \"10\": 2, \"78\": 2}, \"87\": {\"87\": 119, \"108\": 1, \"118\": 5, \"70\": 1, \"11\": 3, \"110\": 1, \"30\": 2}, \"2\": {\"2\": 27, \"67\": 1}, \"86\": {\"86\": 28}, \"16\": {\"16\": 93, \"21\": 1, \"26\": 4, \"11\": 4, \"110\": 2, \"105\": 1, \"113\": 1, \"93\": 12, \"84\": 1, \"39\": 2, \"96\": 1}, \"21\": {\"21\": 38, \"88\": 1, \"39\": 1}, \"96\": {\"16\": 4, \"26\": 1, \"102\": 1, \"96\": 12, \"118\": 1, \"11\": 1}, \"100\": {\"100\": 9, \"3\": 1, \"53\": 2, \"9\": 1, \"1\": 3, \"89\": 1, \"114\": 3}, \"7\": {\"7\": 89, \"101\": 9, \"60\": 2, \"108\": 1, \"0\": 3, \"71\": 2, \"14\": 4, \"11\": 3, \"23\": 2, \"105\": 1, \"69\": 2, \"40\": 1, \"109\": 1}, \"75\": {\"75\": 12, \"29\": 2, \"15\": 1, \"34\": 1}, \"10\": {\"10\": 93, \"24\": 12, \"18\": 1, \"108\": 6, \"39\": 2, \"70\": 5, \"12\": 2, \"88\": 2, \"27\": 1}, \"43\": {\"43\": 102, \"122\": 6, \"10\": 3, \"0\": 1, \"78\": 1, \"109\": 2, \"27\": 2, \"118\": 2, \"24\": 1}, \"92\": {\"92\": 21, \"31\": 1, \"74\": 1, \"49\": 1, \"18\": 1, \"90\": 3}, \"62\": {\"62\": 36, \"11\": 11, \"93\": 2, \"43\": 2, \"8\": 1, \"118\": 3, \"110\": 1, \"88\": 1, \"108\": 1, \"60\": 2}, \"31\": {\"38\": 1, \"85\": 1, \"44\": 2, \"46\": 1, \"33\": 1, \"31\": 6, \"19\": 1, \"28\": 1, \"73\": 1, \"89\": 1}, \"0\": {\"0\": 67, \"15\": 11, \"36\": 1, \"105\": 1, \"30\": 3, \"106\": 1, \"8\": 14, \"87\": 4, \"11\": 1, \"94\": 4, \"60\": 1, \"110\": 2, \"118\": 1, \"10\": 1, \"39\": 1, \"7\": 1}, \"45\": {\"46\": 1, \"45\": 5, \"19\": 2, \"28\": 2, \"76\": 1, \"92\": 1, \"57\": 1, \"129\": 1, \"55\": 1, \"111\": 1}, \"85\": {\"85\": 24, \"54\": 1, \"100\": 1, \"89\": 1, \"19\": 1}, \"119\": {\"119\": 9, \"116\": 1, \"115\": 3, \"50\": 1, \"13\": 2}, \"46\": {\"85\": 2, \"46\": 14, \"128\": 1, \"54\": 1, \"83\": 2}, \"71\": {\"71\": 81, \"3\": 2, \"105\": 7, \"1\": 3, \"40\": 3, \"127\": 3, \"99\": 2, \"109\": 1, \"126\": 1, \"114\": 1}, \"8\": {\"8\": 88, \"0\": 10, \"7\": 3, \"94\": 10, \"15\": 6, \"11\": 1, \"36\": 3, \"30\": 5, \"106\": 1, \"101\": 2, \"10\": 1, \"109\": 1, \"126\": 2, \"62\": 1}, \"118\": {\"118\": 68, \"30\": 1, \"8\": 3, \"122\": 3, \"11\": 4, \"110\": 4, \"87\": 11, \"90\": 1, \"126\": 1, \"0\": 4, \"39\": 1, \"43\": 3, \"70\": 1, \"93\": 1, \"108\": 2, \"16\": 1, \"101\": 1, \"36\": 1, \"109\": 1}, \"1\": {\"1\": 68, \"14\": 2, \"85\": 1, \"3\": 9, \"124\": 2, \"105\": 2, \"126\": 2, \"40\": 4, \"114\": 8, \"70\": 1, \"71\": 4, \"21\": 1, \"49\": 1, \"109\": 1, \"107\": 2}, \"38\": {\"38\": 13, \"57\": 1, \"5\": 1, \"108\": 1}, \"30\": {\"30\": 65, \"24\": 3, \"94\": 2, \"108\": 1, \"36\": 3, \"21\": 1, \"109\": 1}, \"66\": {\"45\": 1, \"66\": 8, \"92\": 1, \"19\": 2, \"48\": 2, \"22\": 2}, \"9\": {\"1\": 1, \"9\": 12, \"114\": 1, \"32\": 1, \"34\": 1, \"53\": 3, \"82\": 2, \"3\": 2, \"85\": 1, \"56\": 1, \"107\": 1, \"111\": 1, \"29\": 1}, \"5\": {\"5\": 112, \"33\": 10, \"44\": 1, \"114\": 4, \"57\": 2, \"45\": 1, \"34\": 1, \"99\": 1, \"110\": 2, \"3\": 2}, \"24\": {\"24\": 89, \"27\": 5, \"43\": 2, \"30\": 1, \"88\": 1, \"10\": 14, \"70\": 6, \"39\": 1, \"108\": 1}, \"97\": {\"50\": 1, \"24\": 2, \"97\": 14, \"27\": 1, \"88\": 2}, \"67\": {\"67\": 11, \"66\": 1, \"48\": 1, \"52\": 1, \"73\": 1, \"102\": 1}, \"19\": {\"120\": 2, \"19\": 17, \"55\": 1, \"98\": 1, \"89\": 2, \"85\": 2, \"52\": 1, \"41\": 1, \"90\": 1}, \"77\": {\"77\": 11, \"29\": 1}, \"26\": {\"26\": 112, \"96\": 1, \"16\": 2, \"93\": 1, \"78\": 1, \"43\": 1}, \"115\": {\"88\": 1, \"115\": 7, \"68\": 1, \"42\": 3, \"6\": 1, \"37\": 1, \"86\": 1, \"119\": 1}, \"50\": {\"50\": 9, \"115\": 1, \"22\": 1, \"119\": 2, \"116\": 1, \"64\": 2}, \"120\": {\"120\": 12, \"58\": 1, \"82\": 1, \"64\": 2, \"37\": 1, \"129\": 1, \"86\": 1, \"107\": 1}, \"102\": {\"102\": 119, \"37\": 1, \"98\": 1, \"39\": 1, \"42\": 1, \"125\": 2, \"5\": 1, \"117\": 2}, \"29\": {\"29\": 27, \"77\": 1, \"42\": 1, \"98\": 3}, \"44\": {\"44\": 45, \"5\": 11, \"69\": 1, \"3\": 3, \"81\": 1, \"105\": 1, \"18\": 1, \"33\": 1}, \"124\": {\"124\": 103, \"104\": 1, \"37\": 2, \"121\": 1, \"19\": 1, \"111\": 7, \"42\": 1, \"125\": 1, \"98\": 1}, \"78\": {\"78\": 27, \"21\": 3, \"39\": 2, \"88\": 3, \"108\": 1}, \"104\": {\"124\": 1, \"104\": 7, \"17\": 3, \"42\": 2, \"116\": 1, \"119\": 1, \"58\": 1}, \"105\": {\"105\": 68, \"40\": 5, \"49\": 1, \"70\": 1, \"10\": 1, \"71\": 5, \"72\": 1, \"127\": 6, \"14\": 6, \"97\": 1, \"39\": 1, \"99\": 1, \"102\": 1, \"88\": 1, \"36\": 1}, \"28\": {\"28\": 14, \"31\": 2, \"64\": 2, \"112\": 1, \"120\": 1}, \"37\": {\"29\": 1, \"6\": 1, \"37\": 12, \"111\": 1, \"56\": 1}, \"107\": {\"107\": 93, \"34\": 1, \"114\": 16, \"33\": 2, \"128\": 1, \"3\": 4, \"127\": 1, \"108\": 1, \"5\": 2, \"41\": 2, \"53\": 1, \"1\": 4, \"40\": 3, \"88\": 1}, \"6\": {\"6\": 21, \"37\": 2, \"111\": 1}, \"17\": {\"124\": 4, \"17\": 11, \"6\": 1, \"111\": 1, \"104\": 1, \"129\": 2}, \"57\": {\"57\": 12, \"90\": 2, \"19\": 2}, \"121\": {\"121\": 28, \"21\": 1, \"61\": 1, \"89\": 1, \"81\": 1}, \"58\": {\"58\": 14, \"120\": 1, \"77\": 1}, \"64\": {\"64\": 8, \"73\": 2, \"98\": 1, \"115\": 1, \"112\": 1, \"46\": 1, \"22\": 1, \"82\": 1}, \"82\": {\"82\": 17, \"31\": 1, \"58\": 1, \"9\": 1, \"19\": 2, \"1\": 1, \"89\": 2, \"76\": 1, \"28\": 1, \"29\": 2, \"98\": 2, \"32\": 1}, \"39\": {\"39\": 95, \"78\": 1, \"21\": 1, \"109\": 1, \"0\": 1, \"43\": 1}, \"110\": {\"110\": 94, \"11\": 6, \"0\": 1, \"61\": 1, \"87\": 5, \"122\": 2, \"118\": 5, \"109\": 1, \"39\": 2, \"8\": 1, \"21\": 1, \"9\": 1, \"43\": 1, \"126\": 1, \"108\": 1, \"88\": 1}, \"114\": {\"114\": 95, \"20\": 2, \"107\": 9, \"1\": 9, \"14\": 2, \"40\": 3, \"32\": 5, \"39\": 1, \"3\": 2}, \"20\": {\"20\": 15, \"49\": 1}, \"117\": {\"117\": 108, \"90\": 4, \"67\": 2}, \"18\": {\"18\": 110, \"16\": 2, \"44\": 2, \"88\": 1, \"26\": 2, \"81\": 2, \"93\": 1}, \"99\": {\"20\": 1, \"99\": 19, \"3\": 4, \"40\": 2, \"69\": 1, \"71\": 3, \"12\": 2, \"1\": 2, \"14\": 2, \"105\": 1, \"49\": 2, \"72\": 1}, \"23\": {\"39\": 3, \"0\": 1, \"101\": 1, \"23\": 4, \"106\": 1, \"108\": 1, \"78\": 1, \"14\": 1, \"21\": 1, \"88\": 1, \"70\": 1}, \"128\": {\"128\": 17, \"83\": 1, \"33\": 1, \"85\": 1, \"90\": 1, \"100\": 2, \"74\": 1}, \"60\": {\"60\": 23, \"8\": 2, \"7\": 2, \"93\": 2, \"11\": 2, \"127\": 1}, \"70\": {\"70\": 87, \"88\": 4, \"11\": 1, \"43\": 1, \"109\": 6, \"10\": 10, \"24\": 2, \"118\": 1, \"108\": 6, \"30\": 1, \"126\": 1}, \"122\": {\"88\": 1, \"122\": 56, \"23\": 1, \"110\": 8, \"87\": 5, \"43\": 3, \"126\": 2, \"0\": 1, \"93\": 1, \"94\": 2, \"109\": 1, \"118\": 2, \"62\": 1}, \"101\": {\"101\": 101, \"60\": 1, \"15\": 5, \"11\": 2, \"78\": 1, \"127\": 4, \"94\": 1, \"7\": 1, \"0\": 1, \"8\": 8, \"43\": 1, \"106\": 2, \"88\": 1, \"93\": 1, \"12\": 2}, \"33\": {\"33\": 122, \"92\": 2, \"2\": 1, \"5\": 3, \"107\": 3, \"98\": 1}, \"40\": {\"40\": 88, \"114\": 3, \"83\": 1, \"71\": 11, \"39\": 1, \"1\": 8, \"127\": 2, \"126\": 1, \"107\": 3, \"105\": 2, \"9\": 1, \"109\": 2, \"88\": 2, \"3\": 3, \"106\": 1, \"5\": 1}, \"41\": {\"41\": 7, \"56\": 1, \"13\": 1, \"29\": 1, \"86\": 1, \"19\": 1, \"98\": 2, \"129\": 1, \"21\": 1}, \"59\": {\"59\": 12}, \"4\": {\"4\": 93, \"39\": 4, \"27\": 1, \"24\": 1, \"86\": 2, \"108\": 1, \"125\": 1, \"109\": 1}, \"112\": {\"112\": 13, \"115\": 1, \"64\": 1, \"43\": 1}, \"36\": {\"30\": 11, \"36\": 97, \"27\": 6, \"109\": 1, \"0\": 1, \"15\": 2, \"43\": 1, \"39\": 1, \"10\": 1, \"8\": 4, \"94\": 1, \"24\": 2}, \"48\": {\"48\": 12, \"67\": 1, \"117\": 1, \"31\": 1, \"112\": 1}, \"126\": {\"10\": 1, \"126\": 109, \"39\": 2, \"113\": 2, \"109\": 1, \"16\": 1}, \"125\": {\"59\": 2, \"125\": 116, \"6\": 1, \"107\": 1, \"18\": 1, \"90\": 1}, \"84\": {\"84\": 89, \"21\": 1, \"71\": 1, \"88\": 5, \"39\": 1, \"14\": 1, \"10\": 1, \"69\": 22, \"126\": 2, \"96\": 1, \"99\": 1, \"118\": 1, \"7\": 1, \"26\": 1}, \"80\": {\"80\": 16}, \"49\": {\"20\": 2, \"40\": 2, \"105\": 1, \"49\": 9, \"33\": 4, \"14\": 1, \"127\": 2, \"44\": 4, \"5\": 4, \"57\": 2, \"12\": 1}, \"47\": {\"25\": 1, \"47\": 10, \"91\": 1}, \"95\": {\"95\": 21, \"52\": 2, \"105\": 1, \"51\": 1, \"34\": 1, \"46\": 1, \"40\": 2, \"41\": 1, \"107\": 2}, \"54\": {\"25\": 1, \"95\": 1, \"54\": 13, \"103\": 1}, \"25\": {\"25\": 13, \"120\": 1, \"47\": 2}, \"116\": {\"116\": 24, \"2\": 2, \"104\": 1, \"129\": 1}, \"74\": {\"74\": 16}, \"35\": {\"35\": 12}, \"15\": {\"15\": 95, \"8\": 10, \"94\": 11, \"101\": 2, \"109\": 1, \"0\": 5, \"105\": 1, \"88\": 1, \"7\": 1, \"87\": 1}, \"108\": {\"70\": 11, \"108\": 58, \"39\": 3, \"109\": 5, \"5\": 1, \"122\": 1, \"98\": 1, \"126\": 1, \"10\": 1, \"41\": 1, \"21\": 1, \"24\": 5, \"71\": 1, \"88\": 1, \"27\": 1}, \"34\": {\"53\": 1, \"3\": 1, \"76\": 2, \"107\": 1, \"99\": 2, \"34\": 13, \"95\": 1, \"40\": 4, \"71\": 4, \"114\": 1, \"52\": 2}, \"81\": {\"81\": 30, \"18\": 3, \"44\": 1, \"117\": 1, \"121\": 1}, \"93\": {\"93\": 97, \"15\": 1, \"84\": 3, \"11\": 6, \"16\": 13, \"87\": 1, \"122\": 1, \"110\": 4, \"62\": 1, \"118\": 1}, \"55\": {\"124\": 2, \"55\": 11, \"56\": 1, \"89\": 1, \"95\": 1}, \"27\": {\"27\": 74, \"97\": 2, \"8\": 2, \"23\": 1, \"108\": 1, \"43\": 2, \"88\": 2, \"36\": 4, \"109\": 1, \"87\": 3, \"125\": 1, \"24\": 2, \"70\": 2, \"111\": 1, \"0\": 1, \"101\": 1}, \"109\": {\"97\": 1, \"109\": 81, \"70\": 6, \"108\": 13, \"39\": 2, \"126\": 2, \"43\": 2, \"90\": 1, \"118\": 1, \"62\": 1}, \"106\": {\"106\": 82, \"127\": 4, \"12\": 15, \"101\": 3, \"109\": 2, \"7\": 1, \"126\": 2, \"72\": 2, \"108\": 2, \"24\": 1, \"14\": 1, \"15\": 1}, \"68\": {\"68\": 12, \"91\": 2, \"56\": 1, \"24\": 1}, \"76\": {\"87\": 1, \"76\": 13, \"114\": 1, \"78\": 1}, \"103\": {\"103\": 5, \"42\": 1, \"68\": 1, \"10\": 1, \"95\": 4, \"52\": 1, \"112\": 1, \"19\": 2}, \"42\": {\"45\": 1, \"25\": 1, \"56\": 1, \"55\": 1, \"42\": 6, \"29\": 1, \"48\": 1, \"102\": 1, \"116\": 3, \"119\": 2, \"41\": 2, \"112\": 2, \"85\": 1, \"98\": 1, \"52\": 1, \"124\": 1, \"129\": 2}, \"129\": {\"91\": 1, \"129\": 15, \"73\": 1, \"50\": 2, \"37\": 2, \"13\": 1, \"102\": 3, \"79\": 1, \"111\": 2}, \"94\": {\"15\": 11, \"94\": 62, \"39\": 2, \"36\": 3, \"88\": 1, \"30\": 2, \"21\": 1, \"8\": 3, \"126\": 1, \"109\": 2}, \"123\": {\"123\": 15, \"117\": 1}, \"61\": {\"61\": 6, \"5\": 1, \"33\": 2, \"18\": 1, \"74\": 1, \"121\": 1, \"14\": 1, \"49\": 1, \"57\": 1, \"44\": 1}, \"51\": {\"39\": 1, \"51\": 2, \"109\": 1, \"27\": 2, \"107\": 1, \"82\": 1, \"21\": 3, \"58\": 1, \"53\": 1, \"9\": 1, \"71\": 2}, \"98\": {\"73\": 1, \"98\": 102, \"3\": 2, \"74\": 1, \"33\": 5, \"107\": 2, \"90\": 1, \"82\": 2, \"121\": 1, \"18\": 1}, \"56\": {\"56\": 8, \"29\": 2, \"91\": 2}, \"14\": {\"14\": 96, \"72\": 1, \"1\": 2, \"109\": 1, \"101\": 1, \"105\": 2, \"127\": 1, \"71\": 1, \"78\": 1, \"106\": 1, \"69\": 2, \"39\": 1, \"12\": 2}, \"90\": {\"90\": 135, \"102\": 2, \"66\": 1}, \"13\": {\"117\": 1, \"13\": 11, \"50\": 1, \"119\": 1, \"102\": 2}, \"89\": {\"89\": 28, \"100\": 1, \"4\": 1, \"51\": 2}, \"52\": {\"52\": 12, \"102\": 1, \"83\": 1, \"40\": 1, \"46\": 1, \"19\": 1, \"34\": 1, \"114\": 1, \"73\": 1}, \"72\": {\"72\": 11, \"11\": 1, \"40\": 1, \"3\": 3, \"7\": 3, \"14\": 3, \"105\": 1, \"93\": 2, \"97\": 2, \"99\": 2, \"60\": 2, \"98\": 1}, \"79\": {\"79\": 15, \"4\": 1}, \"113\": {\"113\": 100, \"26\": 2, \"110\": 6, \"126\": 7, \"90\": 1, \"16\": 2, \"118\": 1, \"70\": 1, \"39\": 3, \"36\": 1, \"93\": 2}}, \"Wisig_1\": {\"68\": {\"68\": 15, \"77\": 1}, \"7\": {\"7\": 136, \"23\": 1, \"110\": 1, \"62\": 4}, \"125\": {\"125\": 118}, \"111\": {\"111\": 108, \"6\": 1, \"68\": 2, \"112\": 1, \"125\": 3, \"90\": 1, \"101\": 1, \"21\": 1, \"5\": 2}, \"101\": {\"101\": 111, \"12\": 5, \"40\": 1, \"71\": 4, \"114\": 1, \"88\": 1, \"127\": 1}, \"11\": {\"11\": 99, \"10\": 1, \"109\": 1, \"108\": 13, \"122\": 3, \"70\": 2, \"126\": 6, \"43\": 9, \"88\": 2}, \"76\": {\"76\": 8, \"81\": 2, \"100\": 1, \"84\": 1, \"33\": 1, \"62\": 1, \"42\": 1, \"60\": 1}, \"5\": {\"5\": 83, \"124\": 2, \"0\": 1, \"55\": 1, \"39\": 1}, \"123\": {\"123\": 13, \"65\": 1, \"119\": 1, \"120\": 1}, \"85\": {\"85\": 24, \"52\": 1, \"104\": 1, \"83\": 1, \"92\": 4, \"128\": 1}, \"34\": {\"34\": 10, \"51\": 2, \"89\": 4, \"35\": 1, \"31\": 3, \"12\": 1, \"75\": 3, \"14\": 3, \"32\": 1, \"105\": 1, \"1\": 1, \"19\": 1, \"49\": 1}, \"42\": {\"85\": 1, \"42\": 13, \"22\": 1, \"41\": 1, \"98\": 3, \"82\": 2, \"56\": 1, \"117\": 1, \"19\": 1, \"28\": 2, \"91\": 2}, \"81\": {\"76\": 2, \"81\": 20, \"127\": 1, \"101\": 1, \"114\": 1, \"44\": 1, \"7\": 1, \"0\": 1}, \"127\": {\"101\": 12, \"127\": 87, \"9\": 1, \"40\": 1, \"71\": 5, \"11\": 1, \"70\": 1}, \"60\": {\"127\": 2, \"60\": 8, \"62\": 1, \"18\": 1, \"7\": 1, \"16\": 1, \"113\": 1, \"94\": 1}, \"77\": {\"77\": 14, \"41\": 2}, \"65\": {\"65\": 10, \"66\": 1, \"119\": 1}, \"44\": {\"44\": 64, \"33\": 1, \"105\": 2, \"74\": 2, \"114\": 2, \"84\": 1, \"9\": 1, \"14\": 3}, \"100\": {\"31\": 2, \"100\": 9, \"50\": 1, \"60\": 1, \"44\": 1, \"3\": 1, \"85\": 1}, \"80\": {\"80\": 15, \"5\": 1}, \"83\": {\"83\": 15, \"54\": 4, \"32\": 1, \"10\": 1, \"77\": 1, \"44\": 1, \"91\": 2, \"85\": 2, \"107\": 1}, \"51\": {\"34\": 1, \"51\": 14, \"107\": 1}, \"93\": {\"93\": 110, \"87\": 2, \"126\": 2, \"8\": 5, \"43\": 4, \"122\": 3, \"70\": 1, \"24\": 2, \"27\": 1, \"108\": 1, \"11\": 2, \"88\": 1}, \"31\": {\"31\": 8, \"76\": 2, \"127\": 1, \"35\": 1, \"23\": 1, \"114\": 1, \"34\": 1, \"12\": 1}, \"33\": {\"33\": 123, \"64\": 1, \"25\": 1, \"45\": 1}, \"113\": {\"113\": 116, \"39\": 2, \"118\": 1, \"26\": 2, \"16\": 2, \"70\": 1}, \"126\": {\"126\": 93, \"122\": 3, \"96\": 2, \"70\": 2, \"11\": 11, \"43\": 9, \"93\": 1, \"8\": 1, \"108\": 1, \"88\": 1}, \"10\": {\"10\": 97, \"108\": 9, \"70\": 6, \"88\": 7, \"11\": 1}, \"21\": {\"21\": 39, \"109\": 1}, \"90\": {\"90\": 131, \"117\": 1}, \"38\": {\"47\": 1, \"19\": 3, \"41\": 1, \"38\": 7, \"128\": 2, \"29\": 1, \"107\": 1}, \"96\": {\"94\": 1, \"88\": 1, \"96\": 10, \"62\": 1, \"14\": 1, \"106\": 1, \"7\": 2, \"8\": 1, \"97\": 1, \"24\": 1}, \"6\": {\"37\": 1, \"6\": 26, \"57\": 1, \"111\": 2, \"112\": 2}, \"121\": {\"121\": 32}, \"37\": {\"37\": 14, \"6\": 1, \"111\": 1}, \"88\": {\"88\": 92, \"93\": 6, \"10\": 6, \"24\": 12, \"43\": 1, \"108\": 7, \"11\": 1, \"8\": 1}, \"54\": {\"54\": 11, \"89\": 1, \"98\": 2, \"128\": 2}, \"92\": {\"92\": 28}, \"19\": {\"19\": 24, \"38\": 1, \"89\": 1, \"114\": 1, \"28\": 1}, \"47\": {\"83\": 1, \"47\": 8, \"42\": 1, \"74\": 1, \"34\": 1}, \"94\": {\"94\": 77, \"15\": 5, \"36\": 5, \"110\": 1, \"10\": 1, \"11\": 1, \"27\": 1, \"113\": 1}, \"66\": {\"66\": 14, \"102\": 1, \"124\": 1}, \"73\": {\"73\": 15, \"38\": 1, \"10\": 1, \"25\": 2, \"89\": 1}, \"75\": {\"75\": 7, \"72\": 2, \"89\": 2, \"29\": 2, \"9\": 2, \"34\": 1}, \"28\": {\"28\": 14, \"120\": 1, \"72\": 1, \"3\": 1, \"116\": 2, \"65\": 1}, \"20\": {\"20\": 16}, \"78\": {\"39\": 1, \"78\": 15}, \"71\": {\"71\": 62, \"12\": 5, \"109\": 1, \"127\": 12, \"107\": 1, \"40\": 4, \"84\": 1, \"101\": 7, \"1\": 2, \"98\": 1, \"11\": 1, \"14\": 2, \"15\": 1, \"21\": 1, \"105\": 2, \"110\": 1}, \"13\": {\"13\": 10, \"102\": 2, \"119\": 1, \"2\": 2, \"63\": 1}, \"118\": {\"118\": 81, \"69\": 1, \"113\": 1, \"10\": 1}, \"72\": {\"72\": 18, \"75\": 1, \"101\": 3, \"9\": 1, \"127\": 4, \"40\": 3, \"29\": 1, \"107\": 1}, \"24\": {\"24\": 54, \"8\": 5, \"11\": 2, \"88\": 10, \"27\": 1, \"126\": 3, \"108\": 5, \"10\": 2, \"43\": 5, \"39\": 1, \"93\": 4}, \"41\": {\"41\": 7, \"31\": 1, \"112\": 1, \"124\": 2, \"77\": 2, \"55\": 1, \"104\": 1, \"98\": 1}, \"102\": {\"102\": 116, \"129\": 1, \"13\": 1, \"116\": 2}, \"8\": {\"39\": 1, \"24\": 6, \"8\": 72, \"87\": 10, \"94\": 1, \"30\": 4, \"126\": 3, \"93\": 13, \"43\": 6, \"88\": 5, \"122\": 6, \"11\": 2, \"96\": 2, \"108\": 3, \"36\": 1, \"27\": 1, \"110\": 2}, \"39\": {\"39\": 81, \"109\": 6, \"11\": 3, \"111\": 1, \"126\": 2, \"70\": 1, \"24\": 1, \"12\": 1}, \"97\": {\"97\": 11, \"30\": 1, \"8\": 2, \"122\": 2, \"93\": 1, \"11\": 2, \"82\": 1}, \"48\": {\"48\": 12}, \"57\": {\"57\": 10, \"80\": 1, \"77\": 1}, \"29\": {\"29\": 26, \"89\": 1, \"56\": 1}, \"119\": {\"119\": 12, \"45\": 1, \"13\": 1, \"61\": 1, \"123\": 1}, \"89\": {\"89\": 25, \"107\": 3, \"29\": 3, \"19\": 1, \"9\": 1, \"56\": 1, \"34\": 2}, \"40\": {\"40\": 90, \"12\": 9, \"74\": 1, \"34\": 2, \"105\": 2, \"71\": 4, \"14\": 8, \"101\": 14, \"127\": 5, \"106\": 3, \"44\": 2}, \"22\": {\"108\": 1, \"22\": 13, \"5\": 2}, \"53\": {\"53\": 17, \"89\": 1, \"98\": 1, \"6\": 1}, \"108\": {\"108\": 71, \"10\": 8, \"27\": 1, \"88\": 14, \"126\": 5, \"122\": 2, \"11\": 5, \"24\": 11, \"93\": 6, \"43\": 1}, \"23\": {\"23\": 8, \"76\": 1, \"87\": 1, \"127\": 1, \"8\": 2, \"110\": 1, \"94\": 2, \"105\": 2, \"69\": 1, \"27\": 1, \"84\": 2, \"36\": 2}, \"109\": {\"109\": 102, \"39\": 1, \"70\": 5, \"24\": 4, \"10\": 3, \"108\": 1}, \"112\": {\"112\": 8, \"31\": 1, \"111\": 3, \"91\": 1, \"6\": 1, \"58\": 1, \"86\": 1}, \"35\": {\"76\": 1, \"23\": 1, \"35\": 10}, \"3\": {\"3\": 77, \"20\": 1, \"62\": 1, \"33\": 2, \"111\": 4, \"114\": 2, \"7\": 1}, \"103\": {\"103\": 12, \"31\": 1, \"91\": 1, \"52\": 1, \"105\": 1}, \"4\": {\"4\": 98, \"109\": 1, \"84\": 1}, \"87\": {\"87\": 94, \"8\": 8, \"109\": 1, \"122\": 1, \"108\": 2, \"43\": 1, \"27\": 1}, \"25\": {\"87\": 1, \"120\": 1, \"25\": 6, \"67\": 2, \"82\": 2, \"38\": 3, \"11\": 1}, \"15\": {\"23\": 1, \"94\": 8, \"15\": 68, \"0\": 7, \"36\": 16, \"39\": 1, \"21\": 1, \"109\": 1, \"43\": 1}, \"95\": {\"95\": 32, \"50\": 1, \"1\": 1, \"3\": 1, \"33\": 1}, \"120\": {\"120\": 13, \"53\": 1, \"111\": 1, \"28\": 1, \"76\": 1, \"8\": 1, \"19\": 2}, \"59\": {\"59\": 11, \"50\": 1}, \"49\": {\"49\": 10, \"107\": 3, \"9\": 1, \"120\": 1, \"90\": 1, \"72\": 1, \"19\": 1, \"73\": 1, \"89\": 1}, \"52\": {\"52\": 16, \"70\": 1, \"51\": 1, \"85\": 1, \"24\": 1}, \"45\": {\"65\": 1, \"22\": 1, \"80\": 2, \"41\": 1, \"92\": 1, \"45\": 3, \"116\": 2, \"24\": 1}, \"107\": {\"107\": 121, \"29\": 1, \"89\": 1, \"51\": 1}, \"106\": {\"106\": 129, \"10\": 1, \"84\": 2, \"122\": 1, \"12\": 1}, \"18\": {\"96\": 1, \"18\": 111, \"16\": 6, \"87\": 1, \"26\": 5}, \"64\": {\"64\": 13, \"66\": 1, \"82\": 1, \"42\": 1}, \"86\": {\"86\": 22, \"111\": 3, \"48\": 2, \"124\": 3, \"108\": 1, \"17\": 1, \"129\": 1, \"5\": 2, \"2\": 1}, \"14\": {\"44\": 4, \"14\": 81, \"72\": 1, \"84\": 3, \"40\": 1, \"12\": 4, \"1\": 1, \"105\": 1}, \"115\": {\"115\": 12}, \"0\": {\"0\": 62, \"15\": 6, \"110\": 6, \"106\": 1, \"36\": 4, \"78\": 1, \"12\": 1, \"94\": 3}, \"104\": {\"104\": 15, \"57\": 1}, \"61\": {\"67\": 1, \"61\": 11}, \"129\": {\"129\": 14, \"104\": 1, \"57\": 1, \"22\": 2, \"5\": 3, \"63\": 3, \"68\": 1, \"117\": 1, \"111\": 2}, \"122\": {\"8\": 7, \"122\": 62, \"126\": 1, \"108\": 3, \"93\": 4, \"43\": 3, \"24\": 1, \"70\": 1, \"39\": 1, \"30\": 2, \"87\": 3}, \"67\": {\"67\": 14, \"21\": 1, \"39\": 1}, \"128\": {\"128\": 11, \"85\": 3, \"114\": 1, \"98\": 2, \"89\": 1, \"66\": 1, \"99\": 1, \"81\": 2, \"38\": 1, \"29\": 1}, \"26\": {\"26\": 108, \"16\": 12, \"18\": 4, \"10\": 1, \"43\": 1, \"69\": 7, \"126\": 1}, \"117\": {\"117\": 136}, \"91\": {\"91\": 24, \"85\": 1, \"28\": 1, \"68\": 1, \"75\": 1}, \"12\": {\"12\": 82, \"101\": 9, \"44\": 2, \"70\": 2, \"127\": 1, \"108\": 3, \"40\": 5}, \"50\": {\"99\": 2, \"50\": 11, \"82\": 1, \"128\": 1, \"83\": 1}, \"99\": {\"99\": 15, \"100\": 1, \"33\": 3, \"44\": 2, \"7\": 1, \"20\": 1, \"26\": 1}, \"110\": {\"110\": 93, \"0\": 5, \"36\": 3, \"15\": 2, \"106\": 1}, \"43\": {\"43\": 74, \"96\": 2, \"126\": 5, \"8\": 11, \"70\": 1, \"122\": 8, \"93\": 2, \"106\": 2, \"11\": 5, \"30\": 1, \"24\": 3, \"108\": 1, \"87\": 1}, \"82\": {\"82\": 28, \"90\": 1, \"33\": 2, \"61\": 1, \"64\": 1, \"28\": 1, \"99\": 1, \"2\": 1}, \"1\": {\"1\": 90, \"34\": 1, \"99\": 1, \"74\": 1, \"44\": 1, \"14\": 1, \"33\": 1}, \"46\": {\"111\": 1, \"46\": 8, \"55\": 1, \"54\": 1, \"17\": 1}, \"16\": {\"16\": 83, \"69\": 4, \"39\": 1, \"26\": 17, \"109\": 1, \"62\": 2}, \"74\": {\"74\": 10, \"73\": 1, \"114\": 2, \"14\": 2, \"105\": 1}, \"32\": {\"32\": 28, \"51\": 1, \"52\": 1, \"89\": 1, \"34\": 1}, \"62\": {\"62\": 99, \"7\": 6, \"18\": 1, \"69\": 7, \"84\": 3, \"70\": 1, \"102\": 1, \"16\": 2}, \"27\": {\"27\": 72, \"87\": 3, \"8\": 3, \"30\": 7, \"15\": 2, \"122\": 1, \"93\": 1, \"24\": 1, \"21\": 1, \"126\": 1}, \"17\": {\"5\": 3, \"79\": 1, \"17\": 6, \"6\": 1, \"124\": 1, \"37\": 2, \"112\": 2}, \"36\": {\"36\": 104, \"110\": 3, \"15\": 13, \"94\": 5, \"8\": 1, \"106\": 2, \"39\": 1, \"27\": 2, \"0\": 3}, \"2\": {\"2\": 18, \"66\": 1, \"22\": 1, \"129\": 1, \"116\": 1, \"117\": 3, \"82\": 3, \"25\": 1, \"102\": 2, \"64\": 1}, \"70\": {\"70\": 118, \"109\": 6, \"10\": 3, \"108\": 1}, \"9\": {\"9\": 23, \"85\": 1, \"114\": 1, \"72\": 3, \"127\": 3, \"98\": 1}, \"114\": {\"114\": 127, \"107\": 2, \"90\": 1}, \"79\": {\"79\": 10, \"124\": 1, \"80\": 1}, \"56\": {\"56\": 7, \"107\": 2, \"98\": 1, \"32\": 2}, \"124\": {\"124\": 93, \"5\": 5, \"22\": 1, \"111\": 3}, \"84\": {\"84\": 117, \"71\": 1, \"110\": 1, \"105\": 2, \"7\": 12, \"62\": 1}, \"69\": {\"69\": 97, \"109\": 1, \"26\": 2, \"16\": 5, \"62\": 2, \"70\": 1}, \"58\": {\"58\": 8, \"37\": 1, \"91\": 1, \"111\": 1, \"68\": 1}, \"30\": {\"30\": 45, \"27\": 2, \"8\": 3, \"93\": 2}, \"55\": {\"55\": 9, \"5\": 3}, \"105\": {\"105\": 73, \"84\": 1, \"12\": 3, \"71\": 2, \"74\": 2, \"101\": 1, \"40\": 2}, \"63\": {\"63\": 13, \"117\": 1, \"13\": 2}, \"98\": {\"98\": 96, \"92\": 1, \"77\": 1, \"91\": 1, \"47\": 1, \"107\": 3, \"114\": 1, \"109\": 1, \"52\": 2, \"53\": 1}, \"116\": {\"116\": 23, \"102\": 4, \"117\": 1, \"21\": 1, \"2\": 1, \"65\": 1, \"129\": 1}}, \"Wisig_3\": {\"76\": {\"76\": 9, \"50\": 1, \"20\": 2, \"1\": 1, \"3\": 1, \"14\": 1, \"83\": 1}, \"6\": {\"6\": 25, \"73\": 1, \"37\": 1, \"111\": 3, \"124\": 1, \"82\": 1}, \"108\": {\"108\": 85, \"8\": 1, \"36\": 5, \"24\": 1, \"27\": 4, \"87\": 5, \"10\": 2, \"11\": 1, \"110\": 1, \"122\": 1}, \"29\": {\"29\": 28, \"111\": 1, \"82\": 3}, \"83\": {\"83\": 12, \"46\": 2, \"34\": 1, \"98\": 1, \"32\": 1, \"3\": 1, \"9\": 1, \"66\": 1, \"20\": 1, \"114\": 1, \"128\": 2}, \"18\": {\"18\": 121, \"26\": 2, \"88\": 1, \"118\": 1, \"78\": 1, \"84\": 1, \"93\": 1}, \"54\": {\"54\": 13, \"9\": 2, \"83\": 1}, \"15\": {\"94\": 10, \"15\": 92, \"8\": 1, \"0\": 1}, \"100\": {\"100\": 12, \"82\": 1, \"98\": 1, \"44\": 1, \"57\": 1}, \"90\": {\"90\": 129, \"29\": 2, \"85\": 1, \"86\": 1, \"44\": 1, \"95\": 1, \"82\": 1}, \"26\": {\"26\": 118, \"39\": 1, \"16\": 2, \"93\": 5, \"88\": 1, \"84\": 1, \"90\": 1, \"40\": 1, \"118\": 1, \"18\": 1}, \"115\": {\"115\": 8, \"55\": 2, \"112\": 2, \"22\": 2, \"86\": 2}, \"94\": {\"94\": 66, \"15\": 14, \"0\": 2, \"8\": 1, \"44\": 1}, \"46\": {\"46\": 14, \"83\": 1, \"95\": 1}, \"121\": {\"121\": 30, \"81\": 1, \"29\": 1}, \"109\": {\"109\": 112, \"88\": 1, \"43\": 2, \"11\": 5, \"118\": 2, \"39\": 4, \"27\": 1, \"126\": 1}, \"101\": {\"101\": 40, \"49\": 2, \"12\": 3, \"98\": 1, \"15\": 2, \"40\": 1, \"94\": 2, \"14\": 1}, \"99\": {\"99\": 20, \"9\": 3, \"71\": 3, \"47\": 5, \"83\": 1, \"34\": 1, \"127\": 1, \"40\": 2}, \"8\": {\"8\": 97, \"36\": 3, \"30\": 8, \"0\": 10, \"94\": 1, \"88\": 1, \"110\": 1, \"97\": 1, \"15\": 3, \"101\": 1, \"27\": 1, \"87\": 1}, \"102\": {\"102\": 103, \"90\": 1}, \"122\": {\"36\": 1, \"122\": 46, \"90\": 1, \"87\": 3, \"110\": 2, \"109\": 1, \"11\": 1, \"30\": 2, \"15\": 1, \"127\": 1, \"8\": 1}, \"36\": {\"36\": 86, \"122\": 1, \"27\": 3, \"70\": 1, \"108\": 10, \"8\": 2, \"30\": 4, \"0\": 4, \"24\": 1, \"7\": 1, \"124\": 1, \"10\": 1, \"110\": 1}, \"113\": {\"113\": 107, \"43\": 3, \"11\": 3, \"126\": 1, \"118\": 2, \"26\": 4}, \"123\": {\"102\": 1, \"89\": 1, \"123\": 14}, \"120\": {\"102\": 1, \"120\": 12, \"61\": 2, \"89\": 2, \"116\": 1, \"79\": 1, \"92\": 1}, \"125\": {\"125\": 104, \"4\": 2, \"59\": 1, \"32\": 1}, \"89\": {\"89\": 20, \"120\": 1, \"44\": 3, \"107\": 1, \"64\": 1, \"92\": 2}, \"9\": {\"9\": 25, \"99\": 1, \"35\": 2, \"25\": 1, \"72\": 1, \"34\": 1, \"3\": 1}, \"31\": {\"31\": 14, \"14\": 1, \"82\": 1, \"53\": 1, \"40\": 1, \"76\": 1, \"74\": 1}, \"62\": {\"62\": 94, \"93\": 4, \"26\": 1, \"110\": 1, \"84\": 2, \"16\": 9, \"127\": 1, \"126\": 1, \"88\": 1}, \"49\": {\"49\": 8, \"7\": 1, \"14\": 2, \"84\": 4, \"16\": 3, \"94\": 1, \"62\": 1, \"101\": 2, \"69\": 1, \"6\": 1}, \"23\": {\"18\": 1, \"7\": 1, \"23\": 13, \"30\": 1, \"26\": 4, \"0\": 1, \"93\": 1, \"110\": 4, \"16\": 3, \"15\": 1, \"69\": 1, \"8\": 1}, \"55\": {\"55\": 15, \"77\": 1}, \"128\": {\"51\": 2, \"28\": 1, \"128\": 20, \"74\": 1, \"107\": 1, \"65\": 1, \"83\": 1, \"95\": 1, \"19\": 2, \"99\": 1, \"9\": 1}, \"71\": {\"71\": 56, \"1\": 1, \"89\": 1, \"40\": 2, \"105\": 4, \"114\": 2, \"3\": 2}, \"51\": {\"127\": 4, \"51\": 8, \"101\": 1, \"107\": 1, \"7\": 2}, \"7\": {\"7\": 91, \"101\": 3, \"12\": 6, \"106\": 5, \"15\": 1}, \"117\": {\"117\": 95, \"2\": 3, \"44\": 2, \"90\": 1, \"114\": 1, \"102\": 2}, \"28\": {\"28\": 12, \"19\": 1, \"9\": 1, \"32\": 2}, \"127\": {\"127\": 109, \"12\": 3, \"40\": 9, \"7\": 1, \"105\": 4, \"78\": 1, \"71\": 1}, \"57\": {\"57\": 14, \"28\": 1, \"103\": 1, \"112\": 1, \"19\": 1, \"74\": 1, \"46\": 1}, \"78\": {\"78\": 13, \"11\": 1, \"127\": 1, \"88\": 1}, \"87\": {\"87\": 117, \"62\": 2, \"27\": 1}, \"40\": {\"35\": 1, \"40\": 68, \"105\": 10, \"49\": 2, \"127\": 19, \"26\": 1, \"14\": 3, \"71\": 4, \"101\": 2, \"1\": 5, \"12\": 1, \"3\": 4, \"114\": 2, \"47\": 1, \"107\": 2, \"7\": 2, \"106\": 1}, \"81\": {\"81\": 28, \"61\": 1, \"18\": 1, \"121\": 1, \"33\": 1}, \"2\": {\"2\": 24, \"120\": 1, \"64\": 1, \"121\": 1, \"90\": 1}, \"58\": {\"58\": 8, \"19\": 1, \"95\": 1, \"55\": 1, \"91\": 2, \"25\": 1, \"114\": 1, \"54\": 1}, \"68\": {\"68\": 11, \"86\": 2, \"108\": 1, \"111\": 2}, \"20\": {\"20\": 6, \"127\": 1, \"34\": 2, \"1\": 2, \"76\": 1, \"31\": 1, \"53\": 1, \"107\": 1, \"125\": 1}, \"35\": {\"35\": 12}, \"96\": {\"96\": 19, \"16\": 1}, \"84\": {\"84\": 97, \"93\": 2, \"14\": 5, \"62\": 1, \"16\": 2, \"26\": 1}, \"13\": {\"88\": 1, \"118\": 1, \"13\": 9, \"80\": 1, \"119\": 2, \"39\": 1, \"21\": 1}, \"64\": {\"64\": 18, \"29\": 2}, \"112\": {\"103\": 2, \"112\": 7, \"5\": 1, \"47\": 1, \"68\": 1, \"52\": 1, \"66\": 1, \"55\": 1, \"42\": 1}, \"103\": {\"103\": 4, \"65\": 1, \"50\": 2, \"42\": 1, \"55\": 2, \"46\": 2, \"73\": 1, \"19\": 2, \"29\": 1}, \"65\": {\"65\": 10, \"17\": 1, \"25\": 1}, \"118\": {\"87\": 1, \"118\": 93, \"96\": 1, \"113\": 5}, \"88\": {\"88\": 100, \"70\": 4, \"21\": 3, \"39\": 1, \"124\": 1, \"10\": 1, \"11\": 1, \"5\": 1}, \"85\": {\"85\": 33, \"52\": 1, \"91\": 2}, \"5\": {\"5\": 102, \"21\": 1, \"124\": 2, \"87\": 1, \"129\": 1, \"88\": 1, \"125\": 1, \"98\": 1, \"90\": 2}, \"93\": {\"93\": 114, \"69\": 1, \"30\": 1, \"62\": 3, \"87\": 2, \"16\": 8, \"26\": 4, \"33\": 1, \"43\": 1, \"122\": 1, \"90\": 1, \"114\": 1}, \"43\": {\"43\": 43, \"39\": 4, \"109\": 3, \"87\": 1, \"11\": 3, \"21\": 1, \"118\": 1}, \"67\": {\"67\": 14, \"89\": 1, \"10\": 1}, \"48\": {\"48\": 7, \"111\": 1, \"4\": 2, \"64\": 1, \"85\": 1, \"67\": 1, \"100\": 1, \"102\": 1, \"37\": 1}, \"73\": {\"73\": 33, \"19\": 1, \"128\": 1, \"92\": 1, \"98\": 1, \"124\": 1, \"90\": 1, \"86\": 1}, \"34\": {\"105\": 1, \"34\": 11, \"99\": 1, \"107\": 4, \"95\": 4, \"3\": 2, \"47\": 1, \"53\": 1, \"54\": 3, \"65\": 1, \"9\": 1, \"72\": 2}, \"91\": {\"5\": 1, \"73\": 1, \"91\": 12, \"98\": 1, \"66\": 1, \"85\": 3, \"86\": 1, \"100\": 1, \"52\": 1, \"65\": 1, \"25\": 1}, \"105\": {\"105\": 101, \"1\": 2, \"47\": 1, \"71\": 5, \"3\": 3, \"40\": 7, \"107\": 1, \"127\": 3, \"72\": 1}, \"10\": {\"10\": 96, \"108\": 2, \"24\": 3, \"27\": 4, \"39\": 1}, \"61\": {\"61\": 14, \"81\": 1, \"31\": 1}, \"74\": {\"74\": 12, \"38\": 2, \"82\": 1, \"107\": 1}, \"4\": {\"4\": 90, \"37\": 2, \"125\": 3, \"88\": 1}, \"37\": {\"37\": 12, \"52\": 1, \"104\": 2, \"125\": 1}, \"19\": {\"19\": 26, \"54\": 1, \"66\": 1, \"28\": 2, \"95\": 1, \"91\": 1}, \"44\": {\"44\": 68, \"33\": 1, \"7\": 1, \"114\": 1, \"69\": 1}, \"52\": {\"52\": 11, \"85\": 1, \"25\": 2, \"83\": 1, \"57\": 1}, \"92\": {\"92\": 31, \"120\": 1}, \"33\": {\"33\": 127, \"93\": 1}, \"45\": {\"45\": 15, \"29\": 1}, \"11\": {\"11\": 105, \"109\": 8, \"110\": 1, \"122\": 1, \"126\": 1, \"10\": 3, \"87\": 3, \"43\": 1, \"27\": 2, \"118\": 2, \"36\": 1}, \"129\": {\"45\": 1, \"129\": 26, \"104\": 1, \"48\": 1, \"42\": 1, \"82\": 1, \"5\": 1}, \"116\": {\"116\": 25, \"117\": 1, \"90\": 1, \"129\": 1}, \"75\": {\"72\": 2, \"75\": 10, \"99\": 2, \"24\": 1, \"46\": 1}, \"41\": {\"25\": 2, \"41\": 7, \"103\": 1, \"42\": 1, \"112\": 1, \"77\": 1, \"124\": 1, \"68\": 1, \"58\": 1}, \"21\": {\"21\": 44, \"88\": 2, \"126\": 1, \"86\": 1}, \"69\": {\"69\": 73, \"88\": 2, \"26\": 4, \"14\": 1, \"93\": 2, \"84\": 2}, \"16\": {\"16\": 83, \"93\": 6, \"26\": 3, \"110\": 2, \"118\": 2, \"62\": 9, \"84\": 2, \"21\": 1}, \"25\": {\"25\": 6, \"52\": 1, \"24\": 1, \"58\": 2, \"68\": 2, \"41\": 1, \"128\": 1, \"37\": 1, \"95\": 1}, \"12\": {\"12\": 88, \"7\": 9, \"106\": 5, \"97\": 1, \"88\": 1}, \"72\": {\"72\": 22, \"75\": 1, \"24\": 1, \"95\": 1, \"40\": 1, \"9\": 2}, \"0\": {\"0\": 95, \"8\": 15, \"30\": 2, \"108\": 2, \"27\": 1, \"11\": 1}, \"50\": {\"103\": 2, \"5\": 2, \"50\": 6, \"56\": 1, \"129\": 1, \"112\": 1, \"73\": 1, \"82\": 1, \"100\": 1}, \"107\": {\"107\": 102, \"34\": 1, \"3\": 6, \"71\": 1, \"114\": 22, \"1\": 4, \"40\": 1, \"20\": 2, \"74\": 1}, \"124\": {\"124\": 108, \"41\": 2, \"91\": 2, \"5\": 5, \"111\": 3, \"48\": 1, \"104\": 1, \"125\": 1, \"98\": 1}, \"53\": {\"53\": 11, \"9\": 1, \"76\": 2, \"1\": 4, \"88\": 1, \"100\": 1}, \"66\": {\"66\": 9, \"103\": 1, \"116\": 1, \"9\": 1, \"85\": 1, \"77\": 1, \"42\": 1, \"32\": 1}, \"47\": {\"9\": 2, \"57\": 2, \"47\": 6, \"99\": 2}, \"24\": {\"24\": 36, \"27\": 2, \"108\": 4, \"36\": 1, \"12\": 2, \"30\": 1, \"10\": 1, \"39\": 1}, \"95\": {\"95\": 26, \"39\": 1, \"74\": 1, \"72\": 1, \"128\": 1, \"98\": 2}, \"98\": {\"98\": 82, \"95\": 1, \"75\": 1, \"85\": 1, \"34\": 1, \"73\": 3, \"32\": 1, \"44\": 1, \"105\": 3, \"107\": 3, \"1\": 1, \"114\": 2, \"25\": 2, \"51\": 1, \"9\": 1, \"5\": 1, \"33\": 1}, \"63\": {\"63\": 16}, \"3\": {\"3\": 79, \"1\": 15, \"39\": 1, \"107\": 2, \"114\": 8, \"105\": 4, \"106\": 1, \"109\": 1, \"71\": 2, \"40\": 2, \"36\": 1}, \"14\": {\"14\": 79, \"122\": 1}, \"1\": {\"1\": 67, \"3\": 11, \"71\": 3, \"83\": 1, \"105\": 8, \"107\": 4, \"114\": 10, \"127\": 1, \"40\": 2, \"12\": 1}, \"38\": {\"38\": 11, \"19\": 1, \"32\": 1, \"34\": 1, \"3\": 1, \"72\": 1}, \"110\": {\"110\": 73, \"109\": 1, \"88\": 1, \"36\": 2, \"8\": 2, \"108\": 2, \"39\": 1, \"30\": 1, \"122\": 2, \"27\": 1, \"87\": 2, \"111\": 1, \"62\": 2, \"126\": 1}, \"17\": {\"109\": 1, \"17\": 7, \"124\": 2, \"129\": 2, \"111\": 1, \"119\": 1, \"68\": 2}, \"30\": {\"30\": 72, \"122\": 3, \"102\": 1, \"36\": 4, \"8\": 2, \"110\": 2}, \"56\": {\"56\": 7, \"24\": 1, \"57\": 2, \"46\": 2}, \"27\": {\"27\": 70, \"70\": 1, \"36\": 5, \"10\": 5, \"108\": 5, \"109\": 1, \"122\": 1, \"24\": 2, \"30\": 4, \"126\": 1, \"39\": 1}, \"104\": {\"104\": 6, \"37\": 1, \"48\": 3, \"68\": 1, \"91\": 1, \"124\": 3, \"77\": 1}, \"97\": {\"97\": 15, \"30\": 1, \"15\": 2, \"49\": 2}, \"42\": {\"42\": 9, \"41\": 1, \"25\": 1, \"85\": 2, \"95\": 2, \"111\": 1, \"124\": 3, \"34\": 1, \"68\": 1, \"58\": 2, \"66\": 1, \"72\": 1, \"129\": 2, \"98\": 1}, \"39\": {\"39\": 105, \"43\": 2, \"109\": 1}, \"70\": {\"70\": 62, \"11\": 2, \"109\": 1, \"24\": 2, \"88\": 2, \"10\": 2, \"21\": 1}, \"86\": {\"86\": 24, \"111\": 2, \"124\": 2}, \"119\": {\"119\": 13, \"102\": 1, \"2\": 1, \"48\": 1}, \"77\": {\"77\": 15, \"66\": 1}, \"59\": {\"59\": 11, \"6\": 1}, \"22\": {\"22\": 10, \"103\": 1, \"42\": 2, \"104\": 1, \"48\": 2}, \"79\": {\"79\": 10, \"86\": 1, \"17\": 1}, \"80\": {\"80\": 16}, \"111\": {\"111\": 120, \"49\": 1, \"6\": 3, \"114\": 1, \"124\": 5, \"37\": 1, \"86\": 1}, \"82\": {\"82\": 19, \"90\": 6, \"98\": 2, \"92\": 1}, \"126\": {\"126\": 117, \"87\": 2, \"39\": 1, \"81\": 1, \"109\": 1, \"113\": 2}, \"32\": {\"32\": 22, \"71\": 1, \"38\": 1, \"107\": 4, \"111\": 1, \"99\": 1, \"20\": 1, \"9\": 1}, \"106\": {\"106\": 88, \"109\": 1, \"12\": 5, \"101\": 3, \"7\": 1, \"39\": 1, \"15\": 1}, \"60\": {\"60\": 22, \"101\": 1, \"110\": 3, \"0\": 1, \"23\": 1}, \"114\": {\"114\": 77, \"1\": 5, \"3\": 13, \"107\": 8, \"124\": 1, \"127\": 2, \"71\": 1, \"39\": 1}}}, \"per_domain_accuracy\": {\"ORACLE.run18\": {\"accuracy\": 0.4765625, \"source?\": true}, \"ORACLE.run138\": {\"accuracy\": 0.8677083333333333, \"source?\": true}, \"ORACLE.run126\": {\"accuracy\": 0.6666666666666666, \"source?\": true}, \"ORACLE.run120\": {\"accuracy\": 0.28541666666666665, \"source?\": true}, \"ORACLE.run150\": {\"accuracy\": 0.9296875, \"source?\": true}, \"ORACLE.run132\": {\"accuracy\": 0.8609375, \"source?\": true}, \"ORACLE.run144\": {\"accuracy\": 0.8643229166666667, \"source?\": true}, \"ORACLE.run114\": {\"accuracy\": 0.38307291666666665, \"source?\": true}, \"Wisig_2\": {\"accuracy\": 0.772452731092437, \"source?\": false}, \"Wisig_4\": {\"accuracy\": 0.7622170781893004, \"source?\": false}, \"Wisig_1\": {\"accuracy\": 0.8115691489361702, \"source?\": false}, \"Wisig_3\": {\"accuracy\": 0.8156662995594713, \"source?\": false}}}, \"history\": {\"epoch_indices\": [1, 2, 3, 4, 5], \"train_label_loss\": [0.4028333060726124, 2.97557304271807, 0.22799113387702077, 0.23504186563236762, 0.19084073767922485], \"source_val_label_loss\": [122.85566711425781, 0.27470993995666504, 0.23439116775989532, 0.19091764092445374, 0.21689051389694214], \"target_val_label_loss\": [9832.0419921875, 713.8216552734375, 543.3352661132812, 411.9920654296875, 436.59002685546875], \"source_val_acc_label\": [0.666796875, 0.905078125, 0.9220377604166666, 0.93486328125, 0.9223958333333333], \"target_val_acc_label\": [0.7899655355249204, 0.5668411983032874, 0.5586558854718982, 0.6316940615058324, 0.6545599151643691]}, \"dataset_metrics\": {\"source\": {\"train\": {\"n_unique_x\": 179200, \"n_unique_y\": 16, \"n_batch/episode\": 6720}, \"val\": {\"n_unique_x\": 38400, \"n_unique_y\": 16, \"n_batch/episode\": 960}, \"test\": {\"n_unique_x\": 38400, \"n_unique_y\": 16, \"n_batch/episode\": 960}}, \"target\": {\"train\": {\"n_unique_x\": 188974, \"n_unique_y\": 130, \"n_batch/episode\": 6847}, \"val\": {\"n_unique_x\": 40019, \"n_unique_y\": 130, \"n_batch/episode\": 943}, \"test\": {\"n_unique_x\": 40738, \"n_unique_y\": 130, \"n_batch/episode\": 960}}}}'"
      ]
     },
     "execution_count": 29,
     "metadata": {},
     "output_type": "execute_result"
    }
   ],
   "source": [
    "json.dumps(experiment)"
   ]
  }
 ],
 "metadata": {
  "celltoolbar": "Tags",
  "kernelspec": {
   "display_name": "Python 3 (ipykernel)",
   "language": "python",
   "name": "python3"
  },
  "language_info": {
   "codemirror_mode": {
    "name": "ipython",
    "version": 3
   },
   "file_extension": ".py",
   "mimetype": "text/x-python",
   "name": "python",
   "nbconvert_exporter": "python",
   "pygments_lexer": "ipython3",
   "version": "3.8.12"
  },
  "papermill": {
   "default_parameters": {},
   "duration": 1571.351797,
   "end_time": "2022-03-21T13:46:49.876433",
   "environment_variables": {},
   "exception": null,
   "input_path": "/root/csc500-main/csc500-notebooks/templates/tl_ptn_template.ipynb",
   "output_path": "trial.ipynb",
   "parameters": {
    "parameters": {
     "BEST_MODEL_PATH": "./best_model.pth",
     "NUM_LOGS_PER_EPOCH": 10,
     "criteria_for_best": "target_accuracy",
     "dataset_seed": 154325,
     "datasets": [
      {
       "domain_prefix": "Wisig_",
       "domains": [
        1,
        2,
        3,
        4
       ],
       "episode_transforms": [],
       "labels": [
        "1-10",
        "1-12",
        "1-14",
        "1-16",
        "1-18",
        "1-19",
        "1-8",
        "10-11",
        "10-17",
        "10-4",
        "10-7",
        "11-1",
        "11-10",
        "11-19",
        "11-20",
        "11-4",
        "11-7",
        "12-19",
        "12-20",
        "12-7",
        "13-14",
        "13-18",
        "13-19",
        "13-20",
        "13-3",
        "13-7",
        "14-10",
        "14-11",
        "14-12",
        "14-13",
        "14-14",
        "14-19",
        "14-20",
        "14-7",
        "14-8",
        "14-9",
        "15-1",
        "15-19",
        "15-6",
        "16-1",
        "16-16",
        "16-19",
        "16-20",
        "17-10",
        "17-11",
        "18-1",
        "18-10",
        "18-11",
        "18-12",
        "18-13",
        "18-14",
        "18-15",
        "18-16",
        "18-17",
        "18-19",
        "18-2",
        "18-20",
        "18-4",
        "18-5",
        "18-7",
        "18-8",
        "18-9",
        "19-1",
        "19-10",
        "19-11",
        "19-12",
        "19-13",
        "19-14",
        "19-15",
        "19-19",
        "19-2",
        "19-20",
        "19-3",
        "19-4",
        "19-6",
        "19-7",
        "19-8",
        "19-9",
        "2-1",
        "2-13",
        "2-15",
        "2-3",
        "2-4",
        "2-5",
        "2-6",
        "2-7",
        "2-8",
        "20-1",
        "20-12",
        "20-14",
        "20-15",
        "20-16",
        "20-18",
        "20-19",
        "20-20",
        "20-3",
        "20-4",
        "20-5",
        "20-7",
        "20-8",
        "3-1",
        "3-13",
        "3-18",
        "3-2",
        "3-8",
        "4-1",
        "4-10",
        "4-11",
        "5-1",
        "5-5",
        "6-1",
        "6-15",
        "6-6",
        "7-10",
        "7-11",
        "7-12",
        "7-13",
        "7-14",
        "7-7",
        "7-8",
        "7-9",
        "8-1",
        "8-13",
        "8-14",
        "8-18",
        "8-20",
        "8-3",
        "8-8",
        "9-1",
        "9-7"
       ],
       "num_examples_per_domain_per_label": -1,
       "pickle_path": "/root/csc500-main/datasets/wisig.node3-19.stratified_ds.2022A.pkl",
       "source_or_target_dataset": "target",
       "x_transforms": []
      },
      {
       "domain_prefix": "ORACLE.run1",
       "domains": [
        32,
        38,
        8,
        44,
        14,
        50,
        20,
        26
       ],
       "episode_transforms": [],
       "labels": [
        "3123D52",
        "3123D65",
        "3123D79",
        "3123D80",
        "3123D54",
        "3123D70",
        "3123D7B",
        "3123D89",
        "3123D58",
        "3123D76",
        "3123D7D",
        "3123EFE",
        "3123D64",
        "3123D78",
        "3123D7E",
        "3124E4A"
       ],
       "num_examples_per_domain_per_label": 2000,
       "pickle_path": "/root/csc500-main/datasets/oracle.Run1_framed_2000Examples_stratified_ds.2022A.pkl",
       "source_or_target_dataset": "source",
       "x_transforms": []
      }
     ],
     "device": "cuda",
     "experiment_name": "tl_1v2:wisig-oracle.run1.framed",
     "lr": 0.0001,
     "n_epoch": 50,
     "n_query": 2,
     "n_shot": 3,
     "n_way": 16,
     "patience": 3,
     "seed": 154325,
     "test_k_factor": 2,
     "torch_default_dtype": "torch.float32",
     "train_k_factor": 3,
     "val_k_factor": 2,
     "x_net": [
      {
       "class": "nnReshape",
       "kargs": {
        "shape": [
         -1,
         1,
         2,
         256
        ]
       }
      },
      {
       "class": "Conv2d",
       "kargs": {
        "bias": false,
        "in_channels": 1,
        "kernel_size": [
         1,
         7
        ],
        "out_channels": 256,
        "padding": [
         0,
         3
        ]
       }
      },
      {
       "class": "ReLU",
       "kargs": {
        "inplace": true
       }
      },
      {
       "class": "BatchNorm2d",
       "kargs": {
        "num_features": 256
       }
      },
      {
       "class": "Conv2d",
       "kargs": {
        "bias": true,
        "in_channels": 256,
        "kernel_size": [
         2,
         7
        ],
        "out_channels": 80,
        "padding": [
         0,
         3
        ]
       }
      },
      {
       "class": "ReLU",
       "kargs": {
        "inplace": true
       }
      },
      {
       "class": "BatchNorm2d",
       "kargs": {
        "num_features": 80
       }
      },
      {
       "class": "Flatten",
       "kargs": {}
      },
      {
       "class": "Linear",
       "kargs": {
        "in_features": 20480,
        "out_features": 256
       }
      },
      {
       "class": "ReLU",
       "kargs": {
        "inplace": true
       }
      },
      {
       "class": "BatchNorm1d",
       "kargs": {
        "num_features": 256
       }
      },
      {
       "class": "Linear",
       "kargs": {
        "in_features": 256,
        "out_features": 256
       }
      }
     ]
    }
   },
   "start_time": "2022-03-21T13:20:38.524636",
   "version": "2.3.4"
  }
 },
 "nbformat": 4,
 "nbformat_minor": 5
}