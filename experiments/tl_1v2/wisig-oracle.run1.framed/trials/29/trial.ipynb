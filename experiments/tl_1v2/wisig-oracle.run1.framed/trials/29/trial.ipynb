{
 "cells": [
  {
   "cell_type": "markdown",
   "id": "9fea5f46",
   "metadata": {
    "papermill": {
     "duration": 0.030781,
     "end_time": "2022-03-21T19:20:33.192024",
     "exception": false,
     "start_time": "2022-03-21T19:20:33.161243",
     "status": "completed"
    },
    "tags": []
   },
   "source": [
    "# Transfer Learning Template"
   ]
  },
  {
   "cell_type": "code",
   "execution_count": 1,
   "id": "0902182a",
   "metadata": {
    "execution": {
     "iopub.execute_input": "2022-03-21T19:20:33.262729Z",
     "iopub.status.busy": "2022-03-21T19:20:33.249232Z",
     "iopub.status.idle": "2022-03-21T19:20:35.102282Z",
     "shell.execute_reply": "2022-03-21T19:20:35.103013Z"
    },
    "papermill": {
     "duration": 1.886979,
     "end_time": "2022-03-21T19:20:35.103340",
     "exception": false,
     "start_time": "2022-03-21T19:20:33.216361",
     "status": "completed"
    },
    "tags": []
   },
   "outputs": [],
   "source": [
    "%load_ext autoreload\n",
    "%autoreload 2\n",
    "%matplotlib inline\n",
    "\n",
    "    \n",
    "import os, json, sys, time, random\n",
    "import numpy as np\n",
    "import torch\n",
    "from torch.optim import Adam\n",
    "from  easydict import EasyDict\n",
    "import matplotlib.pyplot as plt\n",
    "\n",
    "from steves_models.steves_ptn import Steves_Prototypical_Network\n",
    "\n",
    "from steves_utils.lazy_iterable_wrapper import Lazy_Iterable_Wrapper\n",
    "from steves_utils.iterable_aggregator import Iterable_Aggregator\n",
    "from steves_utils.ptn_train_eval_test_jig import  PTN_Train_Eval_Test_Jig\n",
    "from steves_utils.torch_sequential_builder import build_sequential\n",
    "from steves_utils.torch_utils import get_dataset_metrics, ptn_confusion_by_domain_over_dataloader\n",
    "from steves_utils.utils_v2 import (per_domain_accuracy_from_confusion, get_datasets_base_path)\n",
    "from steves_utils.PTN.utils import independent_accuracy_assesment\n",
    "\n",
    "from torch.utils.data import DataLoader\n",
    "\n",
    "from steves_utils.stratified_dataset.episodic_accessor import Episodic_Accessor_Factory\n",
    "\n",
    "from steves_utils.ptn_do_report import (\n",
    "    get_loss_curve,\n",
    "    get_results_table,\n",
    "    get_parameters_table,\n",
    "    get_domain_accuracies,\n",
    ")\n",
    "\n",
    "from steves_utils.transforms import get_chained_transform"
   ]
  },
  {
   "cell_type": "markdown",
   "id": "41c840b4",
   "metadata": {
    "papermill": {
     "duration": 0.01946,
     "end_time": "2022-03-21T19:20:35.150015",
     "exception": false,
     "start_time": "2022-03-21T19:20:35.130555",
     "status": "completed"
    },
    "tags": []
   },
   "source": [
    "# Allowed Parameters\n",
    "These are allowed parameters, not defaults\n",
    "Each of these values need to be present in the injected parameters (the notebook will raise an exception if they are not present)\n",
    "\n",
    "Papermill uses the cell tag \"parameters\" to inject the real parameters below this cell.\n",
    "Enable tags to see what I mean"
   ]
  },
  {
   "cell_type": "code",
   "execution_count": 2,
   "id": "fd44eb83",
   "metadata": {
    "execution": {
     "iopub.execute_input": "2022-03-21T19:20:35.194019Z",
     "iopub.status.busy": "2022-03-21T19:20:35.193602Z",
     "iopub.status.idle": "2022-03-21T19:20:35.212880Z",
     "shell.execute_reply": "2022-03-21T19:20:35.212120Z"
    },
    "papermill": {
     "duration": 0.042864,
     "end_time": "2022-03-21T19:20:35.213059",
     "exception": false,
     "start_time": "2022-03-21T19:20:35.170195",
     "status": "completed"
    },
    "tags": []
   },
   "outputs": [],
   "source": [
    "required_parameters = {\n",
    "    \"experiment_name\",\n",
    "    \"lr\",\n",
    "    \"device\",\n",
    "    \"seed\",\n",
    "    \"dataset_seed\",\n",
    "    \"n_shot\",\n",
    "    \"n_query\",\n",
    "    \"n_way\",\n",
    "    \"train_k_factor\",\n",
    "    \"val_k_factor\",\n",
    "    \"test_k_factor\",\n",
    "    \"n_epoch\",\n",
    "    \"patience\",\n",
    "    \"criteria_for_best\",\n",
    "    \"x_net\",\n",
    "    \"datasets\",\n",
    "    \"torch_default_dtype\",\n",
    "    \"NUM_LOGS_PER_EPOCH\",\n",
    "    \"BEST_MODEL_PATH\",\n",
    "    \"x_shape\",\n",
    "}"
   ]
  },
  {
   "cell_type": "code",
   "execution_count": 3,
   "id": "fa3f0049",
   "metadata": {
    "execution": {
     "iopub.execute_input": "2022-03-21T19:20:35.272431Z",
     "iopub.status.busy": "2022-03-21T19:20:35.269310Z",
     "iopub.status.idle": "2022-03-21T19:20:35.294335Z",
     "shell.execute_reply": "2022-03-21T19:20:35.293730Z"
    },
    "papermill": {
     "duration": 0.054792,
     "end_time": "2022-03-21T19:20:35.294479",
     "exception": false,
     "start_time": "2022-03-21T19:20:35.239687",
     "status": "completed"
    },
    "tags": [
     "parameters"
    ]
   },
   "outputs": [],
   "source": [
    "from steves_utils.CORES.utils import (\n",
    "    ALL_NODES,\n",
    "    ALL_NODES_MINIMUM_1000_EXAMPLES,\n",
    "    ALL_DAYS\n",
    ")\n",
    "\n",
    "from steves_utils.ORACLE.utils_v2 import (\n",
    "    ALL_DISTANCES_FEET_NARROWED,\n",
    "    ALL_RUNS,\n",
    "    ALL_SERIAL_NUMBERS,\n",
    ")\n",
    "\n",
    "standalone_parameters = {}\n",
    "standalone_parameters[\"experiment_name\"] = \"STANDALONE PTN\"\n",
    "standalone_parameters[\"lr\"] = 0.001\n",
    "standalone_parameters[\"device\"] = \"cuda\"\n",
    "\n",
    "standalone_parameters[\"seed\"] = 1337\n",
    "standalone_parameters[\"dataset_seed\"] = 1337\n",
    "\n",
    "standalone_parameters[\"n_way\"] = 8\n",
    "standalone_parameters[\"n_shot\"] = 3\n",
    "standalone_parameters[\"n_query\"]  = 2\n",
    "standalone_parameters[\"train_k_factor\"] = 1\n",
    "standalone_parameters[\"val_k_factor\"] = 2\n",
    "standalone_parameters[\"test_k_factor\"] = 2\n",
    "\n",
    "\n",
    "standalone_parameters[\"n_epoch\"] = 50\n",
    "\n",
    "standalone_parameters[\"patience\"] = 10\n",
    "standalone_parameters[\"criteria_for_best\"] = \"source_loss\"\n",
    "\n",
    "standalone_parameters[\"datasets\"] = [\n",
    "    {\n",
    "        \"labels\": ALL_SERIAL_NUMBERS,\n",
    "        \"domains\": ALL_DISTANCES_FEET_NARROWED,\n",
    "        \"num_examples_per_domain_per_label\": 100,\n",
    "        \"pickle_path\": os.path.join(get_datasets_base_path(), \"oracle.Run1_framed_2000Examples_stratified_ds.2022A.pkl\"),\n",
    "        \"source_or_target_dataset\": \"source\",\n",
    "        \"x_transforms\": [\"unit_mag\", \"minus_two\"],\n",
    "        \"episode_transforms\": [],\n",
    "        \"domain_prefix\": \"ORACLE_\"\n",
    "    },\n",
    "    {\n",
    "        \"labels\": ALL_NODES,\n",
    "        \"domains\": ALL_DAYS,\n",
    "        \"num_examples_per_domain_per_label\": 100,\n",
    "        \"pickle_path\": os.path.join(get_datasets_base_path(), \"cores.stratified_ds.2022A.pkl\"),\n",
    "        \"source_or_target_dataset\": \"target\",\n",
    "        \"x_transforms\": [\"unit_power\", \"times_zero\"],\n",
    "        \"episode_transforms\": [],\n",
    "        \"domain_prefix\": \"CORES_\"\n",
    "    }   \n",
    "]\n",
    "\n",
    "standalone_parameters[\"torch_default_dtype\"] = \"torch.float32\" \n",
    "\n",
    "\n",
    "\n",
    "standalone_parameters[\"x_net\"] =     [\n",
    "    {\"class\": \"nnReshape\", \"kargs\": {\"shape\":[-1, 1, 2, 256]}},\n",
    "    {\"class\": \"Conv2d\", \"kargs\": { \"in_channels\":1, \"out_channels\":256, \"kernel_size\":(1,7), \"bias\":False, \"padding\":(0,3), },},\n",
    "    {\"class\": \"ReLU\", \"kargs\": {\"inplace\": True}},\n",
    "    {\"class\": \"BatchNorm2d\", \"kargs\": {\"num_features\":256}},\n",
    "\n",
    "    {\"class\": \"Conv2d\", \"kargs\": { \"in_channels\":256, \"out_channels\":80, \"kernel_size\":(2,7), \"bias\":True, \"padding\":(0,3), },},\n",
    "    {\"class\": \"ReLU\", \"kargs\": {\"inplace\": True}},\n",
    "    {\"class\": \"BatchNorm2d\", \"kargs\": {\"num_features\":80}},\n",
    "    {\"class\": \"Flatten\", \"kargs\": {}},\n",
    "\n",
    "    {\"class\": \"Linear\", \"kargs\": {\"in_features\": 80*256, \"out_features\": 256}}, # 80 units per IQ pair\n",
    "    {\"class\": \"ReLU\", \"kargs\": {\"inplace\": True}},\n",
    "    {\"class\": \"BatchNorm1d\", \"kargs\": {\"num_features\":256}},\n",
    "\n",
    "    {\"class\": \"Linear\", \"kargs\": {\"in_features\": 256, \"out_features\": 256}},\n",
    "]\n",
    "\n",
    "# Parameters relevant to results\n",
    "# These parameters will basically never need to change\n",
    "standalone_parameters[\"NUM_LOGS_PER_EPOCH\"] = 10\n",
    "standalone_parameters[\"BEST_MODEL_PATH\"] = \"./best_model.pth\"\n",
    "\n",
    "\n",
    "\n",
    "\n"
   ]
  },
  {
   "cell_type": "code",
   "execution_count": 4,
   "id": "5643d99a",
   "metadata": {
    "execution": {
     "iopub.execute_input": "2022-03-21T19:20:35.363498Z",
     "iopub.status.busy": "2022-03-21T19:20:35.362474Z",
     "iopub.status.idle": "2022-03-21T19:20:35.384905Z",
     "shell.execute_reply": "2022-03-21T19:20:35.384069Z"
    },
    "papermill": {
     "duration": 0.059982,
     "end_time": "2022-03-21T19:20:35.385073",
     "exception": false,
     "start_time": "2022-03-21T19:20:35.325091",
     "status": "completed"
    },
    "tags": [
     "injected-parameters"
    ]
   },
   "outputs": [],
   "source": [
    "# Parameters\n",
    "parameters = {\n",
    "    \"experiment_name\": \"tl_1v2:wisig-oracle.run1.framed\",\n",
    "    \"device\": \"cuda\",\n",
    "    \"lr\": 0.0001,\n",
    "    \"n_shot\": 3,\n",
    "    \"n_query\": 2,\n",
    "    \"train_k_factor\": 3,\n",
    "    \"val_k_factor\": 2,\n",
    "    \"test_k_factor\": 2,\n",
    "    \"torch_default_dtype\": \"torch.float32\",\n",
    "    \"n_epoch\": 50,\n",
    "    \"patience\": 3,\n",
    "    \"criteria_for_best\": \"target_accuracy\",\n",
    "    \"x_net\": [\n",
    "        {\"class\": \"nnReshape\", \"kargs\": {\"shape\": [-1, 1, 2, 256]}},\n",
    "        {\n",
    "            \"class\": \"Conv2d\",\n",
    "            \"kargs\": {\n",
    "                \"in_channels\": 1,\n",
    "                \"out_channels\": 256,\n",
    "                \"kernel_size\": [1, 7],\n",
    "                \"bias\": False,\n",
    "                \"padding\": [0, 3],\n",
    "            },\n",
    "        },\n",
    "        {\"class\": \"ReLU\", \"kargs\": {\"inplace\": True}},\n",
    "        {\"class\": \"BatchNorm2d\", \"kargs\": {\"num_features\": 256}},\n",
    "        {\n",
    "            \"class\": \"Conv2d\",\n",
    "            \"kargs\": {\n",
    "                \"in_channels\": 256,\n",
    "                \"out_channels\": 80,\n",
    "                \"kernel_size\": [2, 7],\n",
    "                \"bias\": True,\n",
    "                \"padding\": [0, 3],\n",
    "            },\n",
    "        },\n",
    "        {\"class\": \"ReLU\", \"kargs\": {\"inplace\": True}},\n",
    "        {\"class\": \"BatchNorm2d\", \"kargs\": {\"num_features\": 80}},\n",
    "        {\"class\": \"Flatten\", \"kargs\": {}},\n",
    "        {\"class\": \"Linear\", \"kargs\": {\"in_features\": 20480, \"out_features\": 256}},\n",
    "        {\"class\": \"ReLU\", \"kargs\": {\"inplace\": True}},\n",
    "        {\"class\": \"BatchNorm1d\", \"kargs\": {\"num_features\": 256}},\n",
    "        {\"class\": \"Linear\", \"kargs\": {\"in_features\": 256, \"out_features\": 256}},\n",
    "    ],\n",
    "    \"NUM_LOGS_PER_EPOCH\": 10,\n",
    "    \"BEST_MODEL_PATH\": \"./best_model.pth\",\n",
    "    \"n_way\": 16,\n",
    "    \"datasets\": [\n",
    "        {\n",
    "            \"labels\": [\n",
    "                \"1-10\",\n",
    "                \"1-12\",\n",
    "                \"1-14\",\n",
    "                \"1-16\",\n",
    "                \"1-18\",\n",
    "                \"1-19\",\n",
    "                \"1-8\",\n",
    "                \"10-11\",\n",
    "                \"10-17\",\n",
    "                \"10-4\",\n",
    "                \"10-7\",\n",
    "                \"11-1\",\n",
    "                \"11-10\",\n",
    "                \"11-19\",\n",
    "                \"11-20\",\n",
    "                \"11-4\",\n",
    "                \"11-7\",\n",
    "                \"12-19\",\n",
    "                \"12-20\",\n",
    "                \"12-7\",\n",
    "                \"13-14\",\n",
    "                \"13-18\",\n",
    "                \"13-19\",\n",
    "                \"13-20\",\n",
    "                \"13-3\",\n",
    "                \"13-7\",\n",
    "                \"14-10\",\n",
    "                \"14-11\",\n",
    "                \"14-12\",\n",
    "                \"14-13\",\n",
    "                \"14-14\",\n",
    "                \"14-19\",\n",
    "                \"14-20\",\n",
    "                \"14-7\",\n",
    "                \"14-8\",\n",
    "                \"14-9\",\n",
    "                \"15-1\",\n",
    "                \"15-19\",\n",
    "                \"15-6\",\n",
    "                \"16-1\",\n",
    "                \"16-16\",\n",
    "                \"16-19\",\n",
    "                \"16-20\",\n",
    "                \"17-10\",\n",
    "                \"17-11\",\n",
    "                \"18-1\",\n",
    "                \"18-10\",\n",
    "                \"18-11\",\n",
    "                \"18-12\",\n",
    "                \"18-13\",\n",
    "                \"18-14\",\n",
    "                \"18-15\",\n",
    "                \"18-16\",\n",
    "                \"18-17\",\n",
    "                \"18-19\",\n",
    "                \"18-2\",\n",
    "                \"18-20\",\n",
    "                \"18-4\",\n",
    "                \"18-5\",\n",
    "                \"18-7\",\n",
    "                \"18-8\",\n",
    "                \"18-9\",\n",
    "                \"19-1\",\n",
    "                \"19-10\",\n",
    "                \"19-11\",\n",
    "                \"19-12\",\n",
    "                \"19-13\",\n",
    "                \"19-14\",\n",
    "                \"19-15\",\n",
    "                \"19-19\",\n",
    "                \"19-2\",\n",
    "                \"19-20\",\n",
    "                \"19-3\",\n",
    "                \"19-4\",\n",
    "                \"19-6\",\n",
    "                \"19-7\",\n",
    "                \"19-8\",\n",
    "                \"19-9\",\n",
    "                \"2-1\",\n",
    "                \"2-13\",\n",
    "                \"2-15\",\n",
    "                \"2-3\",\n",
    "                \"2-4\",\n",
    "                \"2-5\",\n",
    "                \"2-6\",\n",
    "                \"2-7\",\n",
    "                \"2-8\",\n",
    "                \"20-1\",\n",
    "                \"20-12\",\n",
    "                \"20-14\",\n",
    "                \"20-15\",\n",
    "                \"20-16\",\n",
    "                \"20-18\",\n",
    "                \"20-19\",\n",
    "                \"20-20\",\n",
    "                \"20-3\",\n",
    "                \"20-4\",\n",
    "                \"20-5\",\n",
    "                \"20-7\",\n",
    "                \"20-8\",\n",
    "                \"3-1\",\n",
    "                \"3-13\",\n",
    "                \"3-18\",\n",
    "                \"3-2\",\n",
    "                \"3-8\",\n",
    "                \"4-1\",\n",
    "                \"4-10\",\n",
    "                \"4-11\",\n",
    "                \"5-1\",\n",
    "                \"5-5\",\n",
    "                \"6-1\",\n",
    "                \"6-15\",\n",
    "                \"6-6\",\n",
    "                \"7-10\",\n",
    "                \"7-11\",\n",
    "                \"7-12\",\n",
    "                \"7-13\",\n",
    "                \"7-14\",\n",
    "                \"7-7\",\n",
    "                \"7-8\",\n",
    "                \"7-9\",\n",
    "                \"8-1\",\n",
    "                \"8-13\",\n",
    "                \"8-14\",\n",
    "                \"8-18\",\n",
    "                \"8-20\",\n",
    "                \"8-3\",\n",
    "                \"8-8\",\n",
    "                \"9-1\",\n",
    "                \"9-7\",\n",
    "            ],\n",
    "            \"domains\": [1, 2, 3, 4],\n",
    "            \"num_examples_per_domain_per_label\": -1,\n",
    "            \"pickle_path\": \"/root/csc500-main/datasets/wisig.node3-19.stratified_ds.2022A.pkl\",\n",
    "            \"source_or_target_dataset\": \"target\",\n",
    "            \"x_transforms\": [],\n",
    "            \"episode_transforms\": [],\n",
    "            \"domain_prefix\": \"Wisig_\",\n",
    "        },\n",
    "        {\n",
    "            \"labels\": [\n",
    "                \"3123D52\",\n",
    "                \"3123D65\",\n",
    "                \"3123D79\",\n",
    "                \"3123D80\",\n",
    "                \"3123D54\",\n",
    "                \"3123D70\",\n",
    "                \"3123D7B\",\n",
    "                \"3123D89\",\n",
    "                \"3123D58\",\n",
    "                \"3123D76\",\n",
    "                \"3123D7D\",\n",
    "                \"3123EFE\",\n",
    "                \"3123D64\",\n",
    "                \"3123D78\",\n",
    "                \"3123D7E\",\n",
    "                \"3124E4A\",\n",
    "            ],\n",
    "            \"domains\": [32, 38, 8, 44, 14, 50, 20, 26],\n",
    "            \"num_examples_per_domain_per_label\": 2000,\n",
    "            \"pickle_path\": \"/root/csc500-main/datasets/oracle.Run1_framed_2000Examples_stratified_ds.2022A.pkl\",\n",
    "            \"source_or_target_dataset\": \"source\",\n",
    "            \"x_transforms\": [],\n",
    "            \"episode_transforms\": [],\n",
    "            \"domain_prefix\": \"ORACLE.run1\",\n",
    "        },\n",
    "    ],\n",
    "    \"dataset_seed\": 500,\n",
    "    \"seed\": 500,\n",
    "}\n"
   ]
  },
  {
   "cell_type": "code",
   "execution_count": 5,
   "id": "8fa1cc33",
   "metadata": {
    "execution": {
     "iopub.execute_input": "2022-03-21T19:20:35.493975Z",
     "iopub.status.busy": "2022-03-21T19:20:35.493390Z",
     "iopub.status.idle": "2022-03-21T19:20:35.513786Z",
     "shell.execute_reply": "2022-03-21T19:20:35.513062Z"
    },
    "papermill": {
     "duration": 0.101201,
     "end_time": "2022-03-21T19:20:35.513956",
     "exception": false,
     "start_time": "2022-03-21T19:20:35.412755",
     "status": "completed"
    },
    "tags": []
   },
   "outputs": [],
   "source": [
    "# Set this to True if you want to run this template directly\n",
    "STANDALONE = False\n",
    "if STANDALONE:\n",
    "    print(\"parameters not injected, running with standalone_parameters\")\n",
    "    parameters = standalone_parameters\n",
    "\n",
    "if not 'parameters' in locals() and not 'parameters' in globals():\n",
    "    raise Exception(\"Parameter injection failed\")\n",
    "\n",
    "#Use an easy dict for all the parameters\n",
    "p = EasyDict(parameters)\n",
    "\n",
    "if \"x_shape\" not in p:\n",
    "    p.x_shape = [2,256] # Default to this if we dont supply x_shape\n",
    "\n",
    "\n",
    "supplied_keys = set(p.keys())\n",
    "\n",
    "if  supplied_keys != required_parameters:\n",
    "    print(\"Parameters are incorrect\")\n",
    "    if len(supplied_keys - required_parameters)>0: print(\"Shouldn't have:\", str(supplied_keys - required_parameters))\n",
    "    if len(required_parameters - supplied_keys)>0: print(\"Need to have:\", str(required_parameters - supplied_keys))\n",
    "    raise RuntimeError(\"Parameters are incorrect\")"
   ]
  },
  {
   "cell_type": "code",
   "execution_count": 6,
   "id": "3a028d58",
   "metadata": {
    "execution": {
     "iopub.execute_input": "2022-03-21T19:20:35.561019Z",
     "iopub.status.busy": "2022-03-21T19:20:35.560499Z",
     "iopub.status.idle": "2022-03-21T19:20:35.577918Z",
     "shell.execute_reply": "2022-03-21T19:20:35.577169Z"
    },
    "papermill": {
     "duration": 0.038772,
     "end_time": "2022-03-21T19:20:35.578074",
     "exception": false,
     "start_time": "2022-03-21T19:20:35.539302",
     "status": "completed"
    },
    "tags": []
   },
   "outputs": [],
   "source": [
    "###################################\n",
    "# Set the RNGs and make it all deterministic\n",
    "###################################\n",
    "np.random.seed(p.seed)\n",
    "random.seed(p.seed)\n",
    "torch.manual_seed(p.seed)\n",
    "\n",
    "torch.use_deterministic_algorithms(True) "
   ]
  },
  {
   "cell_type": "code",
   "execution_count": 7,
   "id": "b691acf6",
   "metadata": {
    "execution": {
     "iopub.execute_input": "2022-03-21T19:20:35.628611Z",
     "iopub.status.busy": "2022-03-21T19:20:35.626802Z",
     "iopub.status.idle": "2022-03-21T19:20:35.647196Z",
     "shell.execute_reply": "2022-03-21T19:20:35.646385Z"
    },
    "papermill": {
     "duration": 0.044185,
     "end_time": "2022-03-21T19:20:35.647352",
     "exception": false,
     "start_time": "2022-03-21T19:20:35.603167",
     "status": "completed"
    },
    "tags": []
   },
   "outputs": [],
   "source": [
    "###########################################\n",
    "# The stratified datasets honor this\n",
    "###########################################\n",
    "torch.set_default_dtype(eval(p.torch_default_dtype))"
   ]
  },
  {
   "cell_type": "code",
   "execution_count": 8,
   "id": "b5fba671",
   "metadata": {
    "execution": {
     "iopub.execute_input": "2022-03-21T19:20:35.697704Z",
     "iopub.status.busy": "2022-03-21T19:20:35.696888Z",
     "iopub.status.idle": "2022-03-21T19:20:35.753863Z",
     "shell.execute_reply": "2022-03-21T19:20:35.753157Z"
    },
    "papermill": {
     "duration": 0.079608,
     "end_time": "2022-03-21T19:20:35.754017",
     "exception": false,
     "start_time": "2022-03-21T19:20:35.674409",
     "status": "completed"
    },
    "tags": []
   },
   "outputs": [],
   "source": [
    "###################################\n",
    "# Build the network(s)\n",
    "# Note: It's critical to do this AFTER setting the RNG\n",
    "###################################\n",
    "x_net = build_sequential(p.x_net)"
   ]
  },
  {
   "cell_type": "code",
   "execution_count": 9,
   "id": "5d7e61cc",
   "metadata": {
    "execution": {
     "iopub.execute_input": "2022-03-21T19:20:35.802464Z",
     "iopub.status.busy": "2022-03-21T19:20:35.801948Z",
     "iopub.status.idle": "2022-03-21T19:20:35.826397Z",
     "shell.execute_reply": "2022-03-21T19:20:35.825649Z"
    },
    "papermill": {
     "duration": 0.047549,
     "end_time": "2022-03-21T19:20:35.826551",
     "exception": false,
     "start_time": "2022-03-21T19:20:35.779002",
     "status": "completed"
    },
    "tags": []
   },
   "outputs": [],
   "source": [
    "start_time_secs = time.time()"
   ]
  },
  {
   "cell_type": "code",
   "execution_count": 10,
   "id": "c6b67dfd",
   "metadata": {
    "execution": {
     "iopub.execute_input": "2022-03-21T19:20:35.876652Z",
     "iopub.status.busy": "2022-03-21T19:20:35.874394Z",
     "iopub.status.idle": "2022-03-21T19:20:35.893727Z",
     "shell.execute_reply": "2022-03-21T19:20:35.894370Z"
    },
    "papermill": {
     "duration": 0.042895,
     "end_time": "2022-03-21T19:20:35.894557",
     "exception": false,
     "start_time": "2022-03-21T19:20:35.851662",
     "status": "completed"
    },
    "tags": []
   },
   "outputs": [],
   "source": [
    "p.domains_source = []\n",
    "p.domains_target = []\n",
    "\n",
    "\n",
    "train_original_source = []\n",
    "val_original_source   = []\n",
    "test_original_source  = []\n",
    "\n",
    "train_original_target = []\n",
    "val_original_target   = []\n",
    "test_original_target  = []"
   ]
  },
  {
   "cell_type": "code",
   "execution_count": 11,
   "id": "e3d9c3d3",
   "metadata": {
    "execution": {
     "iopub.execute_input": "2022-03-21T19:20:35.944193Z",
     "iopub.status.busy": "2022-03-21T19:20:35.943053Z",
     "iopub.status.idle": "2022-03-21T19:20:35.965471Z",
     "shell.execute_reply": "2022-03-21T19:20:35.964660Z"
    },
    "papermill": {
     "duration": 0.045646,
     "end_time": "2022-03-21T19:20:35.965625",
     "exception": false,
     "start_time": "2022-03-21T19:20:35.919979",
     "status": "completed"
    },
    "tags": []
   },
   "outputs": [],
   "source": [
    "# global_x_transform_func = lambda x: normalize(x.to(torch.get_default_dtype()), \"unit_power\") # unit_power, unit_mag\n",
    "# global_x_transform_func = lambda x: normalize(x, \"unit_power\") # unit_power, unit_mag"
   ]
  },
  {
   "cell_type": "code",
   "execution_count": 12,
   "id": "acb78fd2",
   "metadata": {
    "execution": {
     "iopub.execute_input": "2022-03-21T19:20:36.023119Z",
     "iopub.status.busy": "2022-03-21T19:20:36.022540Z",
     "iopub.status.idle": "2022-03-21T19:20:36.040478Z",
     "shell.execute_reply": "2022-03-21T19:20:36.039667Z"
    },
    "papermill": {
     "duration": 0.048951,
     "end_time": "2022-03-21T19:20:36.040632",
     "exception": false,
     "start_time": "2022-03-21T19:20:35.991681",
     "status": "completed"
    },
    "tags": []
   },
   "outputs": [],
   "source": [
    "def add_dataset(\n",
    "    labels,\n",
    "    domains,\n",
    "    pickle_path,\n",
    "    x_transforms,\n",
    "    episode_transforms,\n",
    "    domain_prefix,\n",
    "    num_examples_per_domain_per_label,\n",
    "    source_or_target_dataset:str,\n",
    "    iterator_seed=p.seed,\n",
    "    dataset_seed=p.dataset_seed,\n",
    "    n_shot=p.n_shot,\n",
    "    n_way=p.n_way,\n",
    "    n_query=p.n_query,\n",
    "    train_val_test_k_factors=(p.train_k_factor,p.val_k_factor,p.test_k_factor),\n",
    "):\n",
    "   \n",
    "    if x_transforms == []: x_transform = None\n",
    "    else: x_transform = get_chained_transform(x_transforms)\n",
    "    \n",
    "    if episode_transforms == []: episode_transform = None\n",
    "    else: raise Exception(\"episode_transforms not implemented\")\n",
    "    \n",
    "    episode_transform = lambda tup, _prefix=domain_prefix: (_prefix + str(tup[0]), tup[1])\n",
    "\n",
    "\n",
    "    eaf = Episodic_Accessor_Factory(\n",
    "        labels=labels,\n",
    "        domains=domains,\n",
    "        num_examples_per_domain_per_label=num_examples_per_domain_per_label,\n",
    "        iterator_seed=iterator_seed,\n",
    "        dataset_seed=dataset_seed,\n",
    "        n_shot=n_shot,\n",
    "        n_way=n_way,\n",
    "        n_query=n_query,\n",
    "        train_val_test_k_factors=train_val_test_k_factors,\n",
    "        pickle_path=pickle_path,\n",
    "        x_transform_func=x_transform,\n",
    "    )\n",
    "\n",
    "    train, val, test = eaf.get_train(), eaf.get_val(), eaf.get_test()\n",
    "    train = Lazy_Iterable_Wrapper(train, episode_transform)\n",
    "    val = Lazy_Iterable_Wrapper(val, episode_transform)\n",
    "    test = Lazy_Iterable_Wrapper(test, episode_transform)\n",
    "\n",
    "    if source_or_target_dataset==\"source\":\n",
    "        train_original_source.append(train)\n",
    "        val_original_source.append(val)\n",
    "        test_original_source.append(test)\n",
    "\n",
    "        p.domains_source.extend(\n",
    "            [domain_prefix + str(u) for u in domains]\n",
    "        )\n",
    "    elif source_or_target_dataset==\"target\":\n",
    "        train_original_target.append(train)\n",
    "        val_original_target.append(val)\n",
    "        test_original_target.append(test)\n",
    "        p.domains_target.extend(\n",
    "            [domain_prefix + str(u) for u in domains]\n",
    "        )\n",
    "    else:\n",
    "        raise Exception(f\"invalid source_or_target_dataset: {source_or_target_dataset}\")\n",
    "    "
   ]
  },
  {
   "cell_type": "code",
   "execution_count": 13,
   "id": "fe266617",
   "metadata": {
    "execution": {
     "iopub.execute_input": "2022-03-21T19:20:36.091987Z",
     "iopub.status.busy": "2022-03-21T19:20:36.091621Z",
     "iopub.status.idle": "2022-03-21T19:20:41.116399Z",
     "shell.execute_reply": "2022-03-21T19:20:41.115569Z"
    },
    "papermill": {
     "duration": 5.047665,
     "end_time": "2022-03-21T19:20:41.116587",
     "exception": false,
     "start_time": "2022-03-21T19:20:36.068922",
     "status": "completed"
    },
    "tags": []
   },
   "outputs": [],
   "source": [
    "for ds in p.datasets:\n",
    "    add_dataset(**ds)"
   ]
  },
  {
   "cell_type": "code",
   "execution_count": 14,
   "id": "b90d65ac",
   "metadata": {
    "execution": {
     "iopub.execute_input": "2022-03-21T19:20:41.166292Z",
     "iopub.status.busy": "2022-03-21T19:20:41.165804Z",
     "iopub.status.idle": "2022-03-21T19:20:41.188569Z",
     "shell.execute_reply": "2022-03-21T19:20:41.187744Z"
    },
    "papermill": {
     "duration": 0.046162,
     "end_time": "2022-03-21T19:20:41.188729",
     "exception": false,
     "start_time": "2022-03-21T19:20:41.142567",
     "status": "completed"
    },
    "tags": []
   },
   "outputs": [],
   "source": [
    "# from steves_utils.CORES.utils import (\n",
    "#     ALL_NODES,\n",
    "#     ALL_NODES_MINIMUM_1000_EXAMPLES,\n",
    "#     ALL_DAYS\n",
    "# )\n",
    "\n",
    "# add_dataset(\n",
    "#     labels=ALL_NODES,\n",
    "#     domains = ALL_DAYS,\n",
    "#     num_examples_per_domain_per_label=100,\n",
    "#     pickle_path=os.path.join(get_datasets_base_path(), \"cores.stratified_ds.2022A.pkl\"),\n",
    "#     source_or_target_dataset=\"target\",\n",
    "#     x_transform_func=global_x_transform_func,\n",
    "#     domain_modifier=lambda u: f\"cores_{u}\"\n",
    "# )"
   ]
  },
  {
   "cell_type": "code",
   "execution_count": 15,
   "id": "76db484d",
   "metadata": {
    "execution": {
     "iopub.execute_input": "2022-03-21T19:20:41.238848Z",
     "iopub.status.busy": "2022-03-21T19:20:41.238278Z",
     "iopub.status.idle": "2022-03-21T19:20:41.259273Z",
     "shell.execute_reply": "2022-03-21T19:20:41.258474Z"
    },
    "papermill": {
     "duration": 0.045867,
     "end_time": "2022-03-21T19:20:41.259432",
     "exception": false,
     "start_time": "2022-03-21T19:20:41.213565",
     "status": "completed"
    },
    "tags": []
   },
   "outputs": [],
   "source": [
    "# from steves_utils.ORACLE.utils_v2 import (\n",
    "#     ALL_DISTANCES_FEET,\n",
    "#     ALL_RUNS,\n",
    "#     ALL_SERIAL_NUMBERS,\n",
    "# )\n",
    "\n",
    "\n",
    "# add_dataset(\n",
    "#     labels=ALL_SERIAL_NUMBERS,\n",
    "#     domains = list(set(ALL_DISTANCES_FEET) - {2,62}),\n",
    "#     num_examples_per_domain_per_label=100,\n",
    "#     pickle_path=os.path.join(get_datasets_base_path(), \"oracle.Run2_framed_2000Examples_stratified_ds.2022A.pkl\"),\n",
    "#     source_or_target_dataset=\"source\",\n",
    "#     x_transform_func=global_x_transform_func,\n",
    "#     domain_modifier=lambda u: f\"oracle1_{u}\"\n",
    "# )\n"
   ]
  },
  {
   "cell_type": "code",
   "execution_count": 16,
   "id": "97dea9d2",
   "metadata": {
    "execution": {
     "iopub.execute_input": "2022-03-21T19:20:41.312674Z",
     "iopub.status.busy": "2022-03-21T19:20:41.312238Z",
     "iopub.status.idle": "2022-03-21T19:20:41.329377Z",
     "shell.execute_reply": "2022-03-21T19:20:41.328558Z"
    },
    "papermill": {
     "duration": 0.040278,
     "end_time": "2022-03-21T19:20:41.329538",
     "exception": false,
     "start_time": "2022-03-21T19:20:41.289260",
     "status": "completed"
    },
    "tags": []
   },
   "outputs": [],
   "source": [
    "# from steves_utils.ORACLE.utils_v2 import (\n",
    "#     ALL_DISTANCES_FEET,\n",
    "#     ALL_RUNS,\n",
    "#     ALL_SERIAL_NUMBERS,\n",
    "# )\n",
    "\n",
    "\n",
    "# add_dataset(\n",
    "#     labels=ALL_SERIAL_NUMBERS,\n",
    "#     domains = list(set(ALL_DISTANCES_FEET) - {2,62,56}),\n",
    "#     num_examples_per_domain_per_label=100,\n",
    "#     pickle_path=os.path.join(get_datasets_base_path(), \"oracle.Run2_framed_2000Examples_stratified_ds.2022A.pkl\"),\n",
    "#     source_or_target_dataset=\"source\",\n",
    "#     x_transform_func=global_x_transform_func,\n",
    "#     domain_modifier=lambda u: f\"oracle2_{u}\"\n",
    "# )"
   ]
  },
  {
   "cell_type": "code",
   "execution_count": 17,
   "id": "6f289866",
   "metadata": {
    "execution": {
     "iopub.execute_input": "2022-03-21T19:20:41.383507Z",
     "iopub.status.busy": "2022-03-21T19:20:41.382576Z",
     "iopub.status.idle": "2022-03-21T19:20:41.405356Z",
     "shell.execute_reply": "2022-03-21T19:20:41.404501Z"
    },
    "papermill": {
     "duration": 0.047085,
     "end_time": "2022-03-21T19:20:41.405521",
     "exception": false,
     "start_time": "2022-03-21T19:20:41.358436",
     "status": "completed"
    },
    "tags": []
   },
   "outputs": [],
   "source": [
    "# add_dataset(\n",
    "#     labels=list(range(19)),\n",
    "#     domains = [0,1,2],\n",
    "#     num_examples_per_domain_per_label=100,\n",
    "#     pickle_path=os.path.join(get_datasets_base_path(), \"metehan.stratified_ds.2022A.pkl\"),\n",
    "#     source_or_target_dataset=\"target\",\n",
    "#     x_transform_func=global_x_transform_func,\n",
    "#     domain_modifier=lambda u: f\"met_{u}\"\n",
    "# )"
   ]
  },
  {
   "cell_type": "code",
   "execution_count": 18,
   "id": "86a863c3",
   "metadata": {
    "execution": {
     "iopub.execute_input": "2022-03-21T19:20:41.458138Z",
     "iopub.status.busy": "2022-03-21T19:20:41.457754Z",
     "iopub.status.idle": "2022-03-21T19:20:41.477692Z",
     "shell.execute_reply": "2022-03-21T19:20:41.476871Z"
    },
    "papermill": {
     "duration": 0.044458,
     "end_time": "2022-03-21T19:20:41.477853",
     "exception": false,
     "start_time": "2022-03-21T19:20:41.433395",
     "status": "completed"
    },
    "tags": []
   },
   "outputs": [],
   "source": [
    "# # from steves_utils.wisig.utils import (\n",
    "# #     ALL_NODES_MINIMUM_100_EXAMPLES,\n",
    "# #     ALL_NODES_MINIMUM_500_EXAMPLES,\n",
    "# #     ALL_NODES_MINIMUM_1000_EXAMPLES,\n",
    "# #     ALL_DAYS\n",
    "# # )\n",
    "\n",
    "# import steves_utils.wisig.utils as wisig\n",
    "\n",
    "\n",
    "# add_dataset(\n",
    "#     labels=wisig.ALL_NODES_MINIMUM_100_EXAMPLES,\n",
    "#     domains = wisig.ALL_DAYS,\n",
    "#     num_examples_per_domain_per_label=100,\n",
    "#     pickle_path=os.path.join(get_datasets_base_path(), \"wisig.node3-19.stratified_ds.2022A.pkl\"),\n",
    "#     source_or_target_dataset=\"target\",\n",
    "#     x_transform_func=global_x_transform_func,\n",
    "#     domain_modifier=lambda u: f\"wisig_{u}\"\n",
    "# )"
   ]
  },
  {
   "cell_type": "code",
   "execution_count": 19,
   "id": "fd5442bc",
   "metadata": {
    "execution": {
     "iopub.execute_input": "2022-03-21T19:20:41.534442Z",
     "iopub.status.busy": "2022-03-21T19:20:41.534047Z",
     "iopub.status.idle": "2022-03-21T19:20:41.557439Z",
     "shell.execute_reply": "2022-03-21T19:20:41.556610Z"
    },
    "papermill": {
     "duration": 0.052104,
     "end_time": "2022-03-21T19:20:41.557602",
     "exception": false,
     "start_time": "2022-03-21T19:20:41.505498",
     "status": "completed"
    },
    "tags": []
   },
   "outputs": [],
   "source": [
    "###################################\n",
    "# Build the dataset\n",
    "###################################\n",
    "train_original_source = Iterable_Aggregator(train_original_source, p.seed)\n",
    "val_original_source = Iterable_Aggregator(val_original_source, p.seed)\n",
    "test_original_source = Iterable_Aggregator(test_original_source, p.seed)\n",
    "\n",
    "\n",
    "train_original_target = Iterable_Aggregator(train_original_target, p.seed)\n",
    "val_original_target = Iterable_Aggregator(val_original_target, p.seed)\n",
    "test_original_target = Iterable_Aggregator(test_original_target, p.seed)\n",
    "\n",
    "# For CNN We only use X and Y. And we only train on the source.\n",
    "# Properly form the data using a transform lambda and Lazy_Iterable_Wrapper. Finally wrap them in a dataloader\n",
    "\n",
    "transform_lambda = lambda ex: ex[1] # Original is (<domain>, <episode>) so we strip down to episode only\n",
    "\n",
    "train_processed_source = Lazy_Iterable_Wrapper(train_original_source, transform_lambda)\n",
    "val_processed_source   = Lazy_Iterable_Wrapper(val_original_source, transform_lambda)\n",
    "test_processed_source  = Lazy_Iterable_Wrapper(test_original_source, transform_lambda)\n",
    "\n",
    "train_processed_target = Lazy_Iterable_Wrapper(train_original_target, transform_lambda)\n",
    "val_processed_target   = Lazy_Iterable_Wrapper(val_original_target, transform_lambda)\n",
    "test_processed_target  = Lazy_Iterable_Wrapper(test_original_target, transform_lambda)\n",
    "\n",
    "datasets = EasyDict({\n",
    "    \"source\": {\n",
    "        \"original\": {\"train\":train_original_source, \"val\":val_original_source, \"test\":test_original_source},\n",
    "        \"processed\": {\"train\":train_processed_source, \"val\":val_processed_source, \"test\":test_processed_source}\n",
    "    },\n",
    "    \"target\": {\n",
    "        \"original\": {\"train\":train_original_target, \"val\":val_original_target, \"test\":test_original_target},\n",
    "        \"processed\": {\"train\":train_processed_target, \"val\":val_processed_target, \"test\":test_processed_target}\n",
    "    },\n",
    "})"
   ]
  },
  {
   "cell_type": "code",
   "execution_count": 20,
   "id": "5b3c01fc",
   "metadata": {
    "execution": {
     "iopub.execute_input": "2022-03-21T19:20:41.610883Z",
     "iopub.status.busy": "2022-03-21T19:20:41.610471Z",
     "iopub.status.idle": "2022-03-21T19:20:57.491372Z",
     "shell.execute_reply": "2022-03-21T19:20:57.490642Z"
    },
    "papermill": {
     "duration": 15.906115,
     "end_time": "2022-03-21T19:20:57.491577",
     "exception": false,
     "start_time": "2022-03-21T19:20:41.585462",
     "status": "completed"
    },
    "tags": []
   },
   "outputs": [
    {
     "name": "stdout",
     "output_type": "stream",
     "text": [
      "{'ORACLE.run150', 'ORACLE.run18', 'ORACLE.run126', 'ORACLE.run144', 'ORACLE.run120', 'ORACLE.run138', 'ORACLE.run114', 'ORACLE.run132'}\n"
     ]
    },
    {
     "name": "stdout",
     "output_type": "stream",
     "text": [
      "{'Wisig_2', 'Wisig_4', 'Wisig_3', 'Wisig_1'}\n"
     ]
    },
    {
     "name": "stdout",
     "output_type": "stream",
     "text": [
      "tensor([[[ 9.4607e-04,  1.6480e-03, -1.6785e-03,  ..., -1.2818e-03,\n",
      "           8.8504e-04, -1.4039e-03],\n",
      "         [-7.3244e-04,  6.7141e-04,  2.1363e-04,  ..., -7.3244e-04,\n",
      "          -1.9837e-03, -1.6175e-03]],\n",
      "\n",
      "        [[ 1.8311e-04,  2.1058e-03, -8.2400e-04,  ..., -1.6175e-03,\n",
      "           6.1037e-04, -1.6785e-03],\n",
      "         [-1.1597e-03,  1.5259e-04,  1.0071e-03,  ..., -1.8311e-04,\n",
      "          -1.8311e-03, -1.0376e-03]],\n",
      "\n",
      "        [[-1.7396e-03,  7.6296e-04,  2.4110e-03,  ..., -8.5452e-04,\n",
      "           3.3570e-04,  2.1363e-03],\n",
      "         [-5.1881e-04, -4.2726e-04,  6.1037e-05,  ...,  1.9837e-03,\n",
      "           1.7701e-03,  3.0519e-04]],\n",
      "\n",
      "        ...,\n",
      "\n",
      "        [[-6.7141e-04,  5.4933e-04,  7.3244e-04,  ..., -8.5452e-04,\n",
      "          -2.7772e-03, -1.9837e-03],\n",
      "         [-5.4933e-04, -2.1973e-03,  1.1597e-03,  ...,  1.8921e-03,\n",
      "          -1.0987e-03,  7.0193e-04]],\n",
      "\n",
      "        [[ 1.1292e-03, -9.7659e-04, -1.1902e-03,  ...,  5.4933e-04,\n",
      "           2.6551e-03,  1.2818e-03],\n",
      "         [ 1.8006e-03,  1.8311e-03, -2.0753e-03,  ..., -1.5259e-03,\n",
      "           8.2400e-04, -1.8921e-03]],\n",
      "\n",
      "        [[ 8.8504e-04, -1.4649e-03, -1.0987e-03,  ...,  1.7396e-03,\n",
      "           2.1058e-03,  7.6296e-04],\n",
      "         [ 2.0753e-03,  1.5564e-03, -2.2584e-03,  ..., -9.4607e-04,\n",
      "           9.1556e-04, -2.3499e-03]]])\n"
     ]
    }
   ],
   "source": [
    "from steves_utils.transforms import get_average_magnitude, get_average_power\n",
    "\n",
    "print(set([u for u,_ in val_original_source]))\n",
    "print(set([u for u,_ in val_original_target]))\n",
    "\n",
    "s_x, s_y, q_x, q_y, _ = next(iter(train_processed_source))\n",
    "print(s_x)\n",
    "\n",
    "# for ds in [\n",
    "#     train_processed_source,\n",
    "#     val_processed_source,\n",
    "#     test_processed_source,\n",
    "#     train_processed_target,\n",
    "#     val_processed_target,\n",
    "#     test_processed_target\n",
    "# ]:\n",
    "#     for s_x, s_y, q_x, q_y, _ in ds:\n",
    "#         for X in (s_x, q_x):\n",
    "#             for x in X:\n",
    "#                 assert np.isclose(get_average_magnitude(x.numpy()), 1.0)\n",
    "#                 assert np.isclose(get_average_power(x.numpy()), 1.0)\n",
    "                "
   ]
  },
  {
   "cell_type": "code",
   "execution_count": 21,
   "id": "bbdacba1",
   "metadata": {
    "execution": {
     "iopub.execute_input": "2022-03-21T19:20:57.545872Z",
     "iopub.status.busy": "2022-03-21T19:20:57.544920Z",
     "iopub.status.idle": "2022-03-21T19:20:57.782836Z",
     "shell.execute_reply": "2022-03-21T19:20:57.783163Z"
    },
    "papermill": {
     "duration": 0.265618,
     "end_time": "2022-03-21T19:20:57.783309",
     "exception": false,
     "start_time": "2022-03-21T19:20:57.517691",
     "status": "completed"
    },
    "tags": []
   },
   "outputs": [
    {
     "name": "stdout",
     "output_type": "stream",
     "text": [
      "(2, 256)\n"
     ]
    }
   ],
   "source": [
    "###################################\n",
    "# Build the model\n",
    "###################################\n",
    "# easfsl only wants a tuple for the shape\n",
    "model = Steves_Prototypical_Network(x_net, device=p.device, x_shape=tuple(p.x_shape))\n",
    "optimizer = Adam(params=model.parameters(), lr=p.lr)"
   ]
  },
  {
   "cell_type": "code",
   "execution_count": 22,
   "id": "22b39ac5",
   "metadata": {
    "execution": {
     "iopub.execute_input": "2022-03-21T19:20:57.855024Z",
     "iopub.status.busy": "2022-03-21T19:20:57.854645Z",
     "iopub.status.idle": "2022-03-21T20:12:46.694641Z",
     "shell.execute_reply": "2022-03-21T20:12:46.694289Z"
    },
    "papermill": {
     "duration": 3108.868189,
     "end_time": "2022-03-21T20:12:46.694729",
     "exception": false,
     "start_time": "2022-03-21T19:20:57.826540",
     "status": "completed"
    },
    "tags": []
   },
   "outputs": [
    {
     "name": "stdout",
     "output_type": "stream",
     "text": [
      "epoch: 1, [batch: 1 / 6720], examples_per_second: 33.1024, train_label_loss: 2.8085, \n"
     ]
    },
    {
     "name": "stdout",
     "output_type": "stream",
     "text": [
      "epoch: 1, [batch: 672 / 6720], examples_per_second: 2277.7013, train_label_loss: 0.3279, \n"
     ]
    },
    {
     "name": "stdout",
     "output_type": "stream",
     "text": [
      "epoch: 1, [batch: 1344 / 6720], examples_per_second: 2321.9138, train_label_loss: 0.4266, \n"
     ]
    },
    {
     "name": "stdout",
     "output_type": "stream",
     "text": [
      "epoch: 1, [batch: 2016 / 6720], examples_per_second: 2298.7374, train_label_loss: 0.4143, \n"
     ]
    },
    {
     "name": "stdout",
     "output_type": "stream",
     "text": [
      "epoch: 1, [batch: 2688 / 6720], examples_per_second: 2430.7069, train_label_loss: 0.3996, \n"
     ]
    },
    {
     "name": "stdout",
     "output_type": "stream",
     "text": [
      "epoch: 1, [batch: 3360 / 6720], examples_per_second: 2564.7210, train_label_loss: 0.3017, \n"
     ]
    },
    {
     "name": "stdout",
     "output_type": "stream",
     "text": [
      "epoch: 1, [batch: 4032 / 6720], examples_per_second: 2624.7184, train_label_loss: 0.1550, \n"
     ]
    },
    {
     "name": "stdout",
     "output_type": "stream",
     "text": [
      "epoch: 1, [batch: 4704 / 6720], examples_per_second: 2340.4687, train_label_loss: 0.4276, \n"
     ]
    },
    {
     "name": "stdout",
     "output_type": "stream",
     "text": [
      "epoch: 1, [batch: 5376 / 6720], examples_per_second: 2300.2317, train_label_loss: 0.2222, \n"
     ]
    },
    {
     "name": "stdout",
     "output_type": "stream",
     "text": [
      "epoch: 1, [batch: 6048 / 6720], examples_per_second: 2335.2933, train_label_loss: 0.1772, \n"
     ]
    },
    {
     "name": "stdout",
     "output_type": "stream",
     "text": [
      "=============================================================\n",
      "epoch: 1, source_val_acc_label: 0.6193, target_val_acc_label: 0.7795, source_val_label_loss: 118.0416, target_val_label_loss: 8501.0342, \n",
      "=============================================================\n"
     ]
    },
    {
     "name": "stdout",
     "output_type": "stream",
     "text": [
      "New best\n"
     ]
    },
    {
     "name": "stdout",
     "output_type": "stream",
     "text": [
      "epoch: 2, [batch: 1 / 6720], examples_per_second: 2.2398, train_label_loss: 0.5953, \n"
     ]
    },
    {
     "name": "stdout",
     "output_type": "stream",
     "text": [
      "epoch: 2, [batch: 672 / 6720], examples_per_second: 2330.7121, train_label_loss: 2.2670, \n"
     ]
    },
    {
     "name": "stdout",
     "output_type": "stream",
     "text": [
      "epoch: 2, [batch: 1344 / 6720], examples_per_second: 2315.6611, train_label_loss: 7.3133, \n"
     ]
    },
    {
     "name": "stdout",
     "output_type": "stream",
     "text": [
      "epoch: 2, [batch: 2016 / 6720], examples_per_second: 2317.9142, train_label_loss: 0.1543, \n"
     ]
    },
    {
     "name": "stdout",
     "output_type": "stream",
     "text": [
      "epoch: 2, [batch: 2688 / 6720], examples_per_second: 2484.1039, train_label_loss: 0.0521, \n"
     ]
    },
    {
     "name": "stdout",
     "output_type": "stream",
     "text": [
      "epoch: 2, [batch: 3360 / 6720], examples_per_second: 2583.8708, train_label_loss: 0.3876, \n"
     ]
    },
    {
     "name": "stdout",
     "output_type": "stream",
     "text": [
      "epoch: 2, [batch: 4032 / 6720], examples_per_second: 2688.6350, train_label_loss: 2.4335, \n"
     ]
    },
    {
     "name": "stdout",
     "output_type": "stream",
     "text": [
      "epoch: 2, [batch: 4704 / 6720], examples_per_second: 2338.3393, train_label_loss: 3.2153, \n"
     ]
    },
    {
     "name": "stdout",
     "output_type": "stream",
     "text": [
      "epoch: 2, [batch: 5376 / 6720], examples_per_second: 2313.4303, train_label_loss: 0.2983, \n"
     ]
    },
    {
     "name": "stdout",
     "output_type": "stream",
     "text": [
      "epoch: 2, [batch: 6048 / 6720], examples_per_second: 2357.4335, train_label_loss: 0.1692, \n"
     ]
    },
    {
     "name": "stdout",
     "output_type": "stream",
     "text": [
      "=============================================================\n",
      "epoch: 2, source_val_acc_label: 0.9007, target_val_acc_label: 0.7541, source_val_label_loss: 0.3134, target_val_label_loss: 203.8907, \n",
      "=============================================================\n"
     ]
    },
    {
     "name": "stdout",
     "output_type": "stream",
     "text": [
      "epoch: 3, [batch: 1 / 6720], examples_per_second: 2.2981, train_label_loss: 0.6325, \n"
     ]
    },
    {
     "name": "stdout",
     "output_type": "stream",
     "text": [
      "epoch: 3, [batch: 672 / 6720], examples_per_second: 2334.3490, train_label_loss: 0.1796, \n"
     ]
    },
    {
     "name": "stdout",
     "output_type": "stream",
     "text": [
      "epoch: 3, [batch: 1344 / 6720], examples_per_second: 2312.4175, train_label_loss: 0.2807, \n"
     ]
    },
    {
     "name": "stdout",
     "output_type": "stream",
     "text": [
      "epoch: 3, [batch: 2016 / 6720], examples_per_second: 2311.8266, train_label_loss: 0.3646, \n"
     ]
    },
    {
     "name": "stdout",
     "output_type": "stream",
     "text": [
      "epoch: 3, [batch: 2688 / 6720], examples_per_second: 2453.7312, train_label_loss: 0.1359, \n"
     ]
    },
    {
     "name": "stdout",
     "output_type": "stream",
     "text": [
      "epoch: 3, [batch: 3360 / 6720], examples_per_second: 2623.8097, train_label_loss: 0.2098, \n"
     ]
    },
    {
     "name": "stdout",
     "output_type": "stream",
     "text": [
      "epoch: 3, [batch: 4032 / 6720], examples_per_second: 2691.3692, train_label_loss: 0.2285, \n"
     ]
    },
    {
     "name": "stdout",
     "output_type": "stream",
     "text": [
      "epoch: 3, [batch: 4704 / 6720], examples_per_second: 2359.9163, train_label_loss: 0.3350, \n"
     ]
    },
    {
     "name": "stdout",
     "output_type": "stream",
     "text": [
      "epoch: 3, [batch: 5376 / 6720], examples_per_second: 2317.3237, train_label_loss: 0.2361, \n"
     ]
    },
    {
     "name": "stdout",
     "output_type": "stream",
     "text": [
      "epoch: 3, [batch: 6048 / 6720], examples_per_second: 2312.9997, train_label_loss: 0.1460, \n"
     ]
    },
    {
     "name": "stdout",
     "output_type": "stream",
     "text": [
      "=============================================================\n",
      "epoch: 3, source_val_acc_label: 0.9276, target_val_acc_label: 0.7436, source_val_label_loss: 0.2386, target_val_label_loss: 238.2677, \n",
      "=============================================================\n"
     ]
    },
    {
     "name": "stdout",
     "output_type": "stream",
     "text": [
      "epoch: 4, [batch: 1 / 6720], examples_per_second: 2.2800, train_label_loss: 0.4347, \n"
     ]
    },
    {
     "name": "stdout",
     "output_type": "stream",
     "text": [
      "epoch: 4, [batch: 672 / 6720], examples_per_second: 2306.1505, train_label_loss: 0.0832, \n"
     ]
    },
    {
     "name": "stdout",
     "output_type": "stream",
     "text": [
      "epoch: 4, [batch: 1344 / 6720], examples_per_second: 2331.6261, train_label_loss: 0.2443, \n"
     ]
    },
    {
     "name": "stdout",
     "output_type": "stream",
     "text": [
      "epoch: 4, [batch: 2016 / 6720], examples_per_second: 2319.2913, train_label_loss: 0.0330, \n"
     ]
    },
    {
     "name": "stdout",
     "output_type": "stream",
     "text": [
      "epoch: 4, [batch: 2688 / 6720], examples_per_second: 2429.1926, train_label_loss: 0.1234, \n"
     ]
    },
    {
     "name": "stdout",
     "output_type": "stream",
     "text": [
      "epoch: 4, [batch: 3360 / 6720], examples_per_second: 2602.2747, train_label_loss: 0.2179, \n"
     ]
    },
    {
     "name": "stdout",
     "output_type": "stream",
     "text": [
      "epoch: 4, [batch: 4032 / 6720], examples_per_second: 2616.8244, train_label_loss: 0.1917, \n"
     ]
    },
    {
     "name": "stdout",
     "output_type": "stream",
     "text": [
      "epoch: 4, [batch: 4704 / 6720], examples_per_second: 2409.4173, train_label_loss: 0.4464, \n"
     ]
    },
    {
     "name": "stdout",
     "output_type": "stream",
     "text": [
      "epoch: 4, [batch: 5376 / 6720], examples_per_second: 2334.1696, train_label_loss: 0.2618, \n"
     ]
    },
    {
     "name": "stdout",
     "output_type": "stream",
     "text": [
      "epoch: 4, [batch: 6048 / 6720], examples_per_second: 2578.0573, train_label_loss: 0.4303, \n"
     ]
    },
    {
     "name": "stdout",
     "output_type": "stream",
     "text": [
      "=============================================================\n",
      "epoch: 4, source_val_acc_label: 0.9169, target_val_acc_label: 0.7932, source_val_label_loss: 0.2435, target_val_label_loss: 58.2941, \n",
      "=============================================================\n"
     ]
    },
    {
     "name": "stdout",
     "output_type": "stream",
     "text": [
      "New best\n"
     ]
    },
    {
     "name": "stdout",
     "output_type": "stream",
     "text": [
      "epoch: 5, [batch: 1 / 6720], examples_per_second: 2.5901, train_label_loss: 0.1798, \n"
     ]
    },
    {
     "name": "stdout",
     "output_type": "stream",
     "text": [
      "epoch: 5, [batch: 672 / 6720], examples_per_second: 2636.6097, train_label_loss: 0.5136, \n"
     ]
    },
    {
     "name": "stdout",
     "output_type": "stream",
     "text": [
      "epoch: 5, [batch: 1344 / 6720], examples_per_second: 2686.9481, train_label_loss: 0.1956, \n"
     ]
    },
    {
     "name": "stdout",
     "output_type": "stream",
     "text": [
      "epoch: 5, [batch: 2016 / 6720], examples_per_second: 2864.3483, train_label_loss: 0.2324, \n"
     ]
    },
    {
     "name": "stdout",
     "output_type": "stream",
     "text": [
      "epoch: 5, [batch: 2688 / 6720], examples_per_second: 2829.7463, train_label_loss: 0.1210, \n"
     ]
    },
    {
     "name": "stdout",
     "output_type": "stream",
     "text": [
      "epoch: 5, [batch: 3360 / 6720], examples_per_second: 2558.1361, train_label_loss: 0.2171, \n"
     ]
    },
    {
     "name": "stdout",
     "output_type": "stream",
     "text": [
      "epoch: 5, [batch: 4032 / 6720], examples_per_second: 2572.2913, train_label_loss: 0.0185, \n"
     ]
    },
    {
     "name": "stdout",
     "output_type": "stream",
     "text": [
      "epoch: 5, [batch: 4704 / 6720], examples_per_second: 2623.3219, train_label_loss: 0.1571, \n"
     ]
    },
    {
     "name": "stdout",
     "output_type": "stream",
     "text": [
      "epoch: 5, [batch: 5376 / 6720], examples_per_second: 2575.9271, train_label_loss: 0.1908, \n"
     ]
    },
    {
     "name": "stdout",
     "output_type": "stream",
     "text": [
      "epoch: 5, [batch: 6048 / 6720], examples_per_second: 2594.1027, train_label_loss: 0.3704, \n"
     ]
    },
    {
     "name": "stdout",
     "output_type": "stream",
     "text": [
      "=============================================================\n",
      "epoch: 5, source_val_acc_label: 0.9280, target_val_acc_label: 0.8234, source_val_label_loss: 0.2133, target_val_label_loss: 65.6230, \n",
      "=============================================================\n"
     ]
    },
    {
     "name": "stdout",
     "output_type": "stream",
     "text": [
      "New best\n"
     ]
    },
    {
     "name": "stdout",
     "output_type": "stream",
     "text": [
      "epoch: 6, [batch: 1 / 6720], examples_per_second: 2.6176, train_label_loss: 0.2128, \n"
     ]
    },
    {
     "name": "stdout",
     "output_type": "stream",
     "text": [
      "epoch: 6, [batch: 672 / 6720], examples_per_second: 2580.9352, train_label_loss: 0.3787, \n"
     ]
    },
    {
     "name": "stdout",
     "output_type": "stream",
     "text": [
      "epoch: 6, [batch: 1344 / 6720], examples_per_second: 2546.5080, train_label_loss: 0.1140, \n"
     ]
    },
    {
     "name": "stdout",
     "output_type": "stream",
     "text": [
      "epoch: 6, [batch: 2016 / 6720], examples_per_second: 2821.5673, train_label_loss: 0.1702, \n"
     ]
    },
    {
     "name": "stdout",
     "output_type": "stream",
     "text": [
      "epoch: 6, [batch: 2688 / 6720], examples_per_second: 2978.1095, train_label_loss: 0.0988, \n"
     ]
    },
    {
     "name": "stdout",
     "output_type": "stream",
     "text": [
      "epoch: 6, [batch: 3360 / 6720], examples_per_second: 3010.9283, train_label_loss: 0.1042, \n"
     ]
    },
    {
     "name": "stdout",
     "output_type": "stream",
     "text": [
      "epoch: 6, [batch: 4032 / 6720], examples_per_second: 2993.2967, train_label_loss: 0.0951, \n"
     ]
    },
    {
     "name": "stdout",
     "output_type": "stream",
     "text": [
      "epoch: 6, [batch: 4704 / 6720], examples_per_second: 2934.5495, train_label_loss: 0.0877, \n"
     ]
    },
    {
     "name": "stdout",
     "output_type": "stream",
     "text": [
      "epoch: 6, [batch: 5376 / 6720], examples_per_second: 2948.9649, train_label_loss: 0.0458, \n"
     ]
    },
    {
     "name": "stdout",
     "output_type": "stream",
     "text": [
      "epoch: 6, [batch: 6048 / 6720], examples_per_second: 2940.1383, train_label_loss: 0.5042, \n"
     ]
    },
    {
     "name": "stdout",
     "output_type": "stream",
     "text": [
      "=============================================================\n",
      "epoch: 6, source_val_acc_label: 0.9307, target_val_acc_label: 0.8157, source_val_label_loss: 0.1969, target_val_label_loss: 65.8774, \n",
      "=============================================================\n"
     ]
    },
    {
     "name": "stdout",
     "output_type": "stream",
     "text": [
      "epoch: 7, [batch: 1 / 6720], examples_per_second: 2.2697, train_label_loss: 0.0993, \n"
     ]
    },
    {
     "name": "stdout",
     "output_type": "stream",
     "text": [
      "epoch: 7, [batch: 672 / 6720], examples_per_second: 2320.5397, train_label_loss: 0.0488, \n"
     ]
    },
    {
     "name": "stdout",
     "output_type": "stream",
     "text": [
      "epoch: 7, [batch: 1344 / 6720], examples_per_second: 2334.9766, train_label_loss: 0.3716, \n"
     ]
    },
    {
     "name": "stdout",
     "output_type": "stream",
     "text": [
      "epoch: 7, [batch: 2016 / 6720], examples_per_second: 2291.2294, train_label_loss: 0.1081, \n"
     ]
    },
    {
     "name": "stdout",
     "output_type": "stream",
     "text": [
      "epoch: 7, [batch: 2688 / 6720], examples_per_second: 2289.6487, train_label_loss: 0.0471, \n"
     ]
    },
    {
     "name": "stdout",
     "output_type": "stream",
     "text": [
      "epoch: 7, [batch: 3360 / 6720], examples_per_second: 2300.1543, train_label_loss: 0.0745, \n"
     ]
    },
    {
     "name": "stdout",
     "output_type": "stream",
     "text": [
      "epoch: 7, [batch: 4032 / 6720], examples_per_second: 2296.8170, train_label_loss: 0.1934, \n"
     ]
    },
    {
     "name": "stdout",
     "output_type": "stream",
     "text": [
      "epoch: 7, [batch: 4704 / 6720], examples_per_second: 2490.8548, train_label_loss: 0.1456, \n"
     ]
    },
    {
     "name": "stdout",
     "output_type": "stream",
     "text": [
      "epoch: 7, [batch: 5376 / 6720], examples_per_second: 2631.8427, train_label_loss: 0.0650, \n"
     ]
    },
    {
     "name": "stdout",
     "output_type": "stream",
     "text": [
      "epoch: 7, [batch: 6048 / 6720], examples_per_second: 2701.1022, train_label_loss: 0.2994, \n"
     ]
    },
    {
     "name": "stdout",
     "output_type": "stream",
     "text": [
      "=============================================================\n",
      "epoch: 7, source_val_acc_label: 0.9425, target_val_acc_label: 0.8140, source_val_label_loss: 0.1705, target_val_label_loss: 116.8189, \n",
      "=============================================================\n"
     ]
    },
    {
     "name": "stdout",
     "output_type": "stream",
     "text": [
      "epoch: 8, [batch: 1 / 6720], examples_per_second: 2.2747, train_label_loss: 0.2768, \n"
     ]
    },
    {
     "name": "stdout",
     "output_type": "stream",
     "text": [
      "epoch: 8, [batch: 672 / 6720], examples_per_second: 2590.2679, train_label_loss: 0.0911, \n"
     ]
    },
    {
     "name": "stdout",
     "output_type": "stream",
     "text": [
      "epoch: 8, [batch: 1344 / 6720], examples_per_second: 2605.6814, train_label_loss: 0.0764, \n"
     ]
    },
    {
     "name": "stdout",
     "output_type": "stream",
     "text": [
      "epoch: 8, [batch: 2016 / 6720], examples_per_second: 2637.6281, train_label_loss: 0.1605, \n"
     ]
    },
    {
     "name": "stdout",
     "output_type": "stream",
     "text": [
      "epoch: 8, [batch: 2688 / 6720], examples_per_second: 2596.2859, train_label_loss: 0.0495, \n"
     ]
    },
    {
     "name": "stdout",
     "output_type": "stream",
     "text": [
      "epoch: 8, [batch: 3360 / 6720], examples_per_second: 2616.2950, train_label_loss: 0.0925, \n"
     ]
    },
    {
     "name": "stdout",
     "output_type": "stream",
     "text": [
      "epoch: 8, [batch: 4032 / 6720], examples_per_second: 2629.7026, train_label_loss: 0.1790, \n"
     ]
    },
    {
     "name": "stdout",
     "output_type": "stream",
     "text": [
      "epoch: 8, [batch: 4704 / 6720], examples_per_second: 2880.3643, train_label_loss: 0.0674, \n"
     ]
    },
    {
     "name": "stdout",
     "output_type": "stream",
     "text": [
      "epoch: 8, [batch: 5376 / 6720], examples_per_second: 2924.3153, train_label_loss: 0.1576, \n"
     ]
    },
    {
     "name": "stdout",
     "output_type": "stream",
     "text": [
      "epoch: 8, [batch: 6048 / 6720], examples_per_second: 3244.0730, train_label_loss: 0.0261, \n"
     ]
    },
    {
     "name": "stdout",
     "output_type": "stream",
     "text": [
      "=============================================================\n",
      "epoch: 8, source_val_acc_label: 0.9432, target_val_acc_label: 0.8358, source_val_label_loss: 0.1700, target_val_label_loss: 75.4281, \n",
      "=============================================================\n"
     ]
    },
    {
     "name": "stdout",
     "output_type": "stream",
     "text": [
      "New best\n"
     ]
    },
    {
     "name": "stdout",
     "output_type": "stream",
     "text": [
      "epoch: 9, [batch: 1 / 6720], examples_per_second: 2.7737, train_label_loss: 0.0564, \n"
     ]
    },
    {
     "name": "stdout",
     "output_type": "stream",
     "text": [
      "epoch: 9, [batch: 672 / 6720], examples_per_second: 2981.5080, train_label_loss: 0.1231, \n"
     ]
    },
    {
     "name": "stdout",
     "output_type": "stream",
     "text": [
      "epoch: 9, [batch: 1344 / 6720], examples_per_second: 2921.5783, train_label_loss: 0.2019, \n"
     ]
    },
    {
     "name": "stdout",
     "output_type": "stream",
     "text": [
      "epoch: 9, [batch: 2016 / 6720], examples_per_second: 3011.3035, train_label_loss: 0.4025, \n"
     ]
    },
    {
     "name": "stdout",
     "output_type": "stream",
     "text": [
      "epoch: 9, [batch: 2688 / 6720], examples_per_second: 3376.9570, train_label_loss: 0.1675, \n"
     ]
    },
    {
     "name": "stdout",
     "output_type": "stream",
     "text": [
      "epoch: 9, [batch: 3360 / 6720], examples_per_second: 3367.8413, train_label_loss: 0.0442, \n"
     ]
    },
    {
     "name": "stdout",
     "output_type": "stream",
     "text": [
      "epoch: 9, [batch: 4032 / 6720], examples_per_second: 3181.3556, train_label_loss: 0.0779, \n"
     ]
    },
    {
     "name": "stdout",
     "output_type": "stream",
     "text": [
      "epoch: 9, [batch: 4704 / 6720], examples_per_second: 2796.2741, train_label_loss: 0.0741, \n"
     ]
    },
    {
     "name": "stdout",
     "output_type": "stream",
     "text": [
      "epoch: 9, [batch: 5376 / 6720], examples_per_second: 2905.3192, train_label_loss: 0.0483, \n"
     ]
    },
    {
     "name": "stdout",
     "output_type": "stream",
     "text": [
      "epoch: 9, [batch: 6048 / 6720], examples_per_second: 3139.4631, train_label_loss: 0.0446, \n"
     ]
    },
    {
     "name": "stdout",
     "output_type": "stream",
     "text": [
      "=============================================================\n",
      "epoch: 9, source_val_acc_label: 0.9486, target_val_acc_label: 0.6858, source_val_label_loss: 0.1488, target_val_label_loss: 462.7560, \n",
      "=============================================================\n"
     ]
    },
    {
     "name": "stdout",
     "output_type": "stream",
     "text": [
      "epoch: 10, [batch: 1 / 6720], examples_per_second: 2.4625, train_label_loss: 0.0589, \n"
     ]
    },
    {
     "name": "stdout",
     "output_type": "stream",
     "text": [
      "epoch: 10, [batch: 672 / 6720], examples_per_second: 2301.5807, train_label_loss: 0.0949, \n"
     ]
    },
    {
     "name": "stdout",
     "output_type": "stream",
     "text": [
      "epoch: 10, [batch: 1344 / 6720], examples_per_second: 2306.4093, train_label_loss: 0.1593, \n"
     ]
    },
    {
     "name": "stdout",
     "output_type": "stream",
     "text": [
      "epoch: 10, [batch: 2016 / 6720], examples_per_second: 2289.6224, train_label_loss: 0.1401, \n"
     ]
    },
    {
     "name": "stdout",
     "output_type": "stream",
     "text": [
      "epoch: 10, [batch: 2688 / 6720], examples_per_second: 2472.6862, train_label_loss: 0.1071, \n"
     ]
    },
    {
     "name": "stdout",
     "output_type": "stream",
     "text": [
      "epoch: 10, [batch: 3360 / 6720], examples_per_second: 2604.6858, train_label_loss: 0.0114, \n"
     ]
    },
    {
     "name": "stdout",
     "output_type": "stream",
     "text": [
      "epoch: 10, [batch: 4032 / 6720], examples_per_second: 2634.2310, train_label_loss: 0.2550, \n"
     ]
    },
    {
     "name": "stdout",
     "output_type": "stream",
     "text": [
      "epoch: 10, [batch: 4704 / 6720], examples_per_second: 2501.4465, train_label_loss: 0.0648, \n"
     ]
    },
    {
     "name": "stdout",
     "output_type": "stream",
     "text": [
      "epoch: 10, [batch: 5376 / 6720], examples_per_second: 2593.3049, train_label_loss: 0.0341, \n"
     ]
    },
    {
     "name": "stdout",
     "output_type": "stream",
     "text": [
      "epoch: 10, [batch: 6048 / 6720], examples_per_second: 2662.6533, train_label_loss: 0.1468, \n"
     ]
    },
    {
     "name": "stdout",
     "output_type": "stream",
     "text": [
      "=============================================================\n",
      "epoch: 10, source_val_acc_label: 0.9458, target_val_acc_label: 0.5686, source_val_label_loss: 0.1588, target_val_label_loss: 1224.9672, \n",
      "=============================================================\n"
     ]
    },
    {
     "name": "stdout",
     "output_type": "stream",
     "text": [
      "epoch: 11, [batch: 1 / 6720], examples_per_second: 2.0091, train_label_loss: 0.0401, \n"
     ]
    },
    {
     "name": "stdout",
     "output_type": "stream",
     "text": [
      "epoch: 11, [batch: 672 / 6720], examples_per_second: 2312.2848, train_label_loss: 0.1335, \n"
     ]
    },
    {
     "name": "stdout",
     "output_type": "stream",
     "text": [
      "epoch: 11, [batch: 1344 / 6720], examples_per_second: 2312.1426, train_label_loss: 0.1976, \n"
     ]
    },
    {
     "name": "stdout",
     "output_type": "stream",
     "text": [
      "epoch: 11, [batch: 2016 / 6720], examples_per_second: 2310.8526, train_label_loss: 0.1683, \n"
     ]
    },
    {
     "name": "stdout",
     "output_type": "stream",
     "text": [
      "epoch: 11, [batch: 2688 / 6720], examples_per_second: 2497.2821, train_label_loss: 0.2475, \n"
     ]
    },
    {
     "name": "stdout",
     "output_type": "stream",
     "text": [
      "epoch: 11, [batch: 3360 / 6720], examples_per_second: 2622.8671, train_label_loss: 0.0234, \n"
     ]
    },
    {
     "name": "stdout",
     "output_type": "stream",
     "text": [
      "epoch: 11, [batch: 4032 / 6720], examples_per_second: 2696.8531, train_label_loss: 0.0550, \n"
     ]
    },
    {
     "name": "stdout",
     "output_type": "stream",
     "text": [
      "epoch: 11, [batch: 4704 / 6720], examples_per_second: 2604.0420, train_label_loss: 0.1510, \n"
     ]
    },
    {
     "name": "stdout",
     "output_type": "stream",
     "text": [
      "epoch: 11, [batch: 5376 / 6720], examples_per_second: 2616.9118, train_label_loss: 0.0302, \n"
     ]
    },
    {
     "name": "stdout",
     "output_type": "stream",
     "text": [
      "epoch: 11, [batch: 6048 / 6720], examples_per_second: 2759.4206, train_label_loss: 0.0103, \n"
     ]
    },
    {
     "name": "stdout",
     "output_type": "stream",
     "text": [
      "=============================================================\n",
      "epoch: 11, source_val_acc_label: 0.9509, target_val_acc_label: 0.7652, source_val_label_loss: 0.1514, target_val_label_loss: 358.4456, \n",
      "=============================================================\n"
     ]
    },
    {
     "name": "stdout",
     "output_type": "stream",
     "text": [
      "epoch: 12, [batch: 1 / 6720], examples_per_second: 2.0288, train_label_loss: 0.1112, \n"
     ]
    },
    {
     "name": "stdout",
     "output_type": "stream",
     "text": [
      "epoch: 12, [batch: 672 / 6720], examples_per_second: 2325.0759, train_label_loss: 0.1168, \n"
     ]
    },
    {
     "name": "stdout",
     "output_type": "stream",
     "text": [
      "epoch: 12, [batch: 1344 / 6720], examples_per_second: 2317.4957, train_label_loss: 0.0353, \n"
     ]
    },
    {
     "name": "stdout",
     "output_type": "stream",
     "text": [
      "epoch: 12, [batch: 2016 / 6720], examples_per_second: 2320.9901, train_label_loss: 0.0641, \n"
     ]
    },
    {
     "name": "stdout",
     "output_type": "stream",
     "text": [
      "epoch: 12, [batch: 2688 / 6720], examples_per_second: 2460.9795, train_label_loss: 0.1027, \n"
     ]
    },
    {
     "name": "stdout",
     "output_type": "stream",
     "text": [
      "epoch: 12, [batch: 3360 / 6720], examples_per_second: 2562.6208, train_label_loss: 0.0397, \n"
     ]
    },
    {
     "name": "stdout",
     "output_type": "stream",
     "text": [
      "epoch: 12, [batch: 4032 / 6720], examples_per_second: 2597.2051, train_label_loss: 0.0765, \n"
     ]
    },
    {
     "name": "stdout",
     "output_type": "stream",
     "text": [
      "epoch: 12, [batch: 4704 / 6720], examples_per_second: 2804.3960, train_label_loss: 0.1262, \n"
     ]
    },
    {
     "name": "stdout",
     "output_type": "stream",
     "text": [
      "epoch: 12, [batch: 5376 / 6720], examples_per_second: 2635.3411, train_label_loss: 0.0622, \n"
     ]
    },
    {
     "name": "stdout",
     "output_type": "stream",
     "text": [
      "epoch: 12, [batch: 6048 / 6720], examples_per_second: 2656.0076, train_label_loss: 0.1895, \n"
     ]
    },
    {
     "name": "stdout",
     "output_type": "stream",
     "text": [
      "=============================================================\n",
      "epoch: 12, source_val_acc_label: 0.9530, target_val_acc_label: 0.6708, source_val_label_loss: 0.1370, target_val_label_loss: 916.3489, \n",
      "=============================================================\n"
     ]
    },
    {
     "name": "stdout",
     "output_type": "stream",
     "text": [
      "Patience (3) exhausted\n"
     ]
    }
   ],
   "source": [
    "###################################\n",
    "# train\n",
    "###################################\n",
    "jig = PTN_Train_Eval_Test_Jig(model, p.BEST_MODEL_PATH, p.device)\n",
    "\n",
    "jig.train(\n",
    "    train_iterable=datasets.source.processed.train,\n",
    "    source_val_iterable=datasets.source.processed.val,\n",
    "    target_val_iterable=datasets.target.processed.val,\n",
    "    num_epochs=p.n_epoch,\n",
    "    num_logs_per_epoch=p.NUM_LOGS_PER_EPOCH,\n",
    "    patience=p.patience,\n",
    "    optimizer=optimizer,\n",
    "    criteria_for_best=p.criteria_for_best,\n",
    ")"
   ]
  },
  {
   "cell_type": "code",
   "execution_count": 23,
   "id": "31e8fabf",
   "metadata": {
    "execution": {
     "iopub.execute_input": "2022-03-21T20:12:46.820928Z",
     "iopub.status.busy": "2022-03-21T20:12:46.820557Z",
     "iopub.status.idle": "2022-03-21T20:12:46.853502Z",
     "shell.execute_reply": "2022-03-21T20:12:46.852739Z"
    },
    "papermill": {
     "duration": 0.098509,
     "end_time": "2022-03-21T20:12:46.853686",
     "exception": false,
     "start_time": "2022-03-21T20:12:46.755177",
     "status": "completed"
    },
    "tags": []
   },
   "outputs": [],
   "source": [
    "total_experiment_time_secs = time.time() - start_time_secs"
   ]
  },
  {
   "cell_type": "code",
   "execution_count": 24,
   "id": "87b9595b",
   "metadata": {
    "execution": {
     "iopub.execute_input": "2022-03-21T20:12:46.993603Z",
     "iopub.status.busy": "2022-03-21T20:12:46.992924Z",
     "iopub.status.idle": "2022-03-21T20:17:15.848863Z",
     "shell.execute_reply": "2022-03-21T20:17:15.848069Z"
    },
    "papermill": {
     "duration": 268.926611,
     "end_time": "2022-03-21T20:17:15.849056",
     "exception": false,
     "start_time": "2022-03-21T20:12:46.922445",
     "status": "completed"
    },
    "tags": []
   },
   "outputs": [],
   "source": [
    "###################################\n",
    "# Evaluate the model\n",
    "###################################\n",
    "source_test_label_accuracy, source_test_label_loss = jig.test(datasets.source.processed.test)\n",
    "target_test_label_accuracy, target_test_label_loss = jig.test(datasets.target.processed.test)\n",
    "\n",
    "source_val_label_accuracy, source_val_label_loss = jig.test(datasets.source.processed.val)\n",
    "target_val_label_accuracy, target_val_label_loss = jig.test(datasets.target.processed.val)\n",
    "\n",
    "history = jig.get_history()\n",
    "\n",
    "total_epochs_trained = len(history[\"epoch_indices\"])\n",
    "\n",
    "val_dl = Iterable_Aggregator((datasets.source.original.val,datasets.target.original.val))\n",
    "\n",
    "confusion = ptn_confusion_by_domain_over_dataloader(model, p.device, val_dl)\n",
    "per_domain_accuracy = per_domain_accuracy_from_confusion(confusion)\n",
    "\n",
    "# Add a key to per_domain_accuracy for if it was a source domain\n",
    "for domain, accuracy in per_domain_accuracy.items():\n",
    "    per_domain_accuracy[domain] = {\n",
    "        \"accuracy\": accuracy,\n",
    "        \"source?\": domain in p.domains_source\n",
    "    }\n",
    "\n",
    "# Do an independent accuracy assesment JUST TO BE SURE!\n",
    "# _source_test_label_accuracy = independent_accuracy_assesment(model, datasets.source.processed.test, p.device)\n",
    "# _target_test_label_accuracy = independent_accuracy_assesment(model, datasets.target.processed.test, p.device)\n",
    "# _source_val_label_accuracy = independent_accuracy_assesment(model, datasets.source.processed.val, p.device)\n",
    "# _target_val_label_accuracy = independent_accuracy_assesment(model, datasets.target.processed.val, p.device)\n",
    "\n",
    "# assert(_source_test_label_accuracy == source_test_label_accuracy)\n",
    "# assert(_target_test_label_accuracy == target_test_label_accuracy)\n",
    "# assert(_source_val_label_accuracy == source_val_label_accuracy)\n",
    "# assert(_target_val_label_accuracy == target_val_label_accuracy)\n",
    "\n",
    "experiment = {\n",
    "    \"experiment_name\": p.experiment_name,\n",
    "    \"parameters\": dict(p),\n",
    "    \"results\": {\n",
    "        \"source_test_label_accuracy\": source_test_label_accuracy,\n",
    "        \"source_test_label_loss\": source_test_label_loss,\n",
    "        \"target_test_label_accuracy\": target_test_label_accuracy,\n",
    "        \"target_test_label_loss\": target_test_label_loss,\n",
    "        \"source_val_label_accuracy\": source_val_label_accuracy,\n",
    "        \"source_val_label_loss\": source_val_label_loss,\n",
    "        \"target_val_label_accuracy\": target_val_label_accuracy,\n",
    "        \"target_val_label_loss\": target_val_label_loss,\n",
    "        \"total_epochs_trained\": total_epochs_trained,\n",
    "        \"total_experiment_time_secs\": total_experiment_time_secs,\n",
    "        \"confusion\": confusion,\n",
    "        \"per_domain_accuracy\": per_domain_accuracy,\n",
    "    },\n",
    "    \"history\": history,\n",
    "    \"dataset_metrics\": get_dataset_metrics(datasets, \"ptn\"),\n",
    "}"
   ]
  },
  {
   "cell_type": "code",
   "execution_count": 25,
   "id": "54a21829",
   "metadata": {
    "execution": {
     "iopub.execute_input": "2022-03-21T20:17:15.993120Z",
     "iopub.status.busy": "2022-03-21T20:17:15.992452Z",
     "iopub.status.idle": "2022-03-21T20:17:16.203059Z",
     "shell.execute_reply": "2022-03-21T20:17:16.202383Z"
    },
    "papermill": {
     "duration": 0.281697,
     "end_time": "2022-03-21T20:17:16.203205",
     "exception": false,
     "start_time": "2022-03-21T20:17:15.921508",
     "status": "completed"
    },
    "tags": []
   },
   "outputs": [
    {
     "data": {
      "image/png": "[encoded data removed]",
      "text/plain": [
       "<Figure size 1080x504 with 1 Axes>"
      ]
     },
     "metadata": {
      "needs_background": "light"
     },
     "output_type": "display_data"
    }
   ],
   "source": [
    "ax = get_loss_curve(experiment)\n",
    "plt.show()"
   ]
  },
  {
   "cell_type": "code",
   "execution_count": 26,
   "id": "fd8a0f60",
   "metadata": {
    "execution": {
     "iopub.execute_input": "2022-03-21T20:17:16.344577Z",
     "iopub.status.busy": "2022-03-21T20:17:16.344193Z",
     "iopub.status.idle": "2022-03-21T20:17:16.682245Z",
     "shell.execute_reply": "2022-03-21T20:17:16.682935Z"
    },
    "papermill": {
     "duration": 0.410203,
     "end_time": "2022-03-21T20:17:16.683150",
     "exception": false,
     "start_time": "2022-03-21T20:17:16.272947",
     "status": "completed"
    },
    "tags": []
   },
   "outputs": [
    {
     "data": {
      "text/plain": [
       "<AxesSubplot:title={'center':'Results'}>"
      ]
     },
     "execution_count": 26,
     "metadata": {},
     "output_type": "execute_result"
    },
    {
     "data": {
      "image/png": "[encoded data removed]",
      "text/plain": [
       "<Figure size 1080x504 with 1 Axes>"
      ]
     },
     "metadata": {
      "needs_background": "light"
     },
     "output_type": "display_data"
    }
   ],
   "source": [
    "get_results_table(experiment)"
   ]
  },
  {
   "cell_type": "code",
   "execution_count": 27,
   "id": "cf8dc689",
   "metadata": {
    "execution": {
     "iopub.execute_input": "2022-03-21T20:17:16.816992Z",
     "iopub.status.busy": "2022-03-21T20:17:16.816615Z",
     "iopub.status.idle": "2022-03-21T20:17:17.072418Z",
     "shell.execute_reply": "2022-03-21T20:17:17.073116Z"
    },
    "papermill": {
     "duration": 0.323391,
     "end_time": "2022-03-21T20:17:17.073358",
     "exception": false,
     "start_time": "2022-03-21T20:17:16.749967",
     "status": "completed"
    },
    "tags": []
   },
   "outputs": [
    {
     "data": {
      "text/plain": [
       "<AxesSubplot:title={'center':'Per Domain Validation Accuracy'}, xlabel='domain'>"
      ]
     },
     "execution_count": 27,
     "metadata": {},
     "output_type": "execute_result"
    },
    {
     "data": {
      "image/png": "[encoded data removed]",
      "text/plain": [
       "<Figure size 1080x504 with 1 Axes>"
      ]
     },
     "metadata": {
      "needs_background": "light"
     },
     "output_type": "display_data"
    }
   ],
   "source": [
    "get_domain_accuracies(experiment)"
   ]
  },
  {
   "cell_type": "code",
   "execution_count": 28,
   "id": "a74ae082",
   "metadata": {
    "execution": {
     "iopub.execute_input": "2022-03-21T20:17:17.209711Z",
     "iopub.status.busy": "2022-03-21T20:17:17.209140Z",
     "iopub.status.idle": "2022-03-21T20:17:17.238782Z",
     "shell.execute_reply": "2022-03-21T20:17:17.238061Z"
    },
    "papermill": {
     "duration": 0.098098,
     "end_time": "2022-03-21T20:17:17.238944",
     "exception": false,
     "start_time": "2022-03-21T20:17:17.140846",
     "status": "completed"
    },
    "tags": []
   },
   "outputs": [
    {
     "name": "stdout",
     "output_type": "stream",
     "text": [
      "Source Test Label Accuracy: 0.9449544270833333 Target Test Label Accuracy: 0.828238107549121\n",
      "Source Val Label Accuracy: 0.9432291666666667 Target Val Label Accuracy: 0.8358056434599156\n"
     ]
    }
   ],
   "source": [
    "print(\"Source Test Label Accuracy:\", experiment[\"results\"][\"source_test_label_accuracy\"], \"Target Test Label Accuracy:\", experiment[\"results\"][\"target_test_label_accuracy\"])\n",
    "print(\"Source Val Label Accuracy:\", experiment[\"results\"][\"source_val_label_accuracy\"], \"Target Val Label Accuracy:\", experiment[\"results\"][\"target_val_label_accuracy\"])"
   ]
  },
  {
   "cell_type": "code",
   "execution_count": 29,
   "id": "dacca602",
   "metadata": {
    "execution": {
     "iopub.execute_input": "2022-03-21T20:17:17.376728Z",
     "iopub.status.busy": "2022-03-21T20:17:17.375291Z",
     "iopub.status.idle": "2022-03-21T20:17:17.406920Z",
     "shell.execute_reply": "2022-03-21T20:17:17.407621Z"
    },
    "papermill": {
     "duration": 0.098977,
     "end_time": "2022-03-21T20:17:17.407811",
     "exception": false,
     "start_time": "2022-03-21T20:17:17.308834",
     "status": "completed"
    },
    "tags": [
     "experiment_json"
    ]
   },
   "outputs": [
    {
     "data": {
      "text/plain": [
       "'{\"experiment_name\": \"tl_1v2:wisig-oracle.run1.framed\", \"parameters\": {\"experiment_name\": \"tl_1v2:wisig-oracle.run1.framed\", \"device\": \"cuda\", \"lr\": 0.0001, \"n_shot\": 3, \"n_query\": 2, \"train_k_factor\": 3, \"val_k_factor\": 2, \"test_k_factor\": 2, \"torch_default_dtype\": \"torch.float32\", \"n_epoch\": 50, \"patience\": 3, \"criteria_for_best\": \"target_accuracy\", \"x_net\": [{\"class\": \"nnReshape\", \"kargs\": {\"shape\": [-1, 1, 2, 256]}}, {\"class\": \"Conv2d\", \"kargs\": {\"in_channels\": 1, \"out_channels\": 256, \"kernel_size\": [1, 7], \"bias\": false, \"padding\": [0, 3]}}, {\"class\": \"ReLU\", \"kargs\": {\"inplace\": true}}, {\"class\": \"BatchNorm2d\", \"kargs\": {\"num_features\": 256}}, {\"class\": \"Conv2d\", \"kargs\": {\"in_channels\": 256, \"out_channels\": 80, \"kernel_size\": [2, 7], \"bias\": true, \"padding\": [0, 3]}}, {\"class\": \"ReLU\", \"kargs\": {\"inplace\": true}}, {\"class\": \"BatchNorm2d\", \"kargs\": {\"num_features\": 80}}, {\"class\": \"Flatten\", \"kargs\": {}}, {\"class\": \"Linear\", \"kargs\": {\"in_features\": 20480, \"out_features\": 256}}, {\"class\": \"ReLU\", \"kargs\": {\"inplace\": true}}, {\"class\": \"BatchNorm1d\", \"kargs\": {\"num_features\": 256}}, {\"class\": \"Linear\", \"kargs\": {\"in_features\": 256, \"out_features\": 256}}], \"NUM_LOGS_PER_EPOCH\": 10, \"BEST_MODEL_PATH\": \"./best_model.pth\", \"n_way\": 16, \"datasets\": [{\"labels\": [\"1-10\", \"1-12\", \"1-14\", \"1-16\", \"1-18\", \"1-19\", \"1-8\", \"10-11\", \"10-17\", \"10-4\", \"10-7\", \"11-1\", \"11-10\", \"11-19\", \"11-20\", \"11-4\", \"11-7\", \"12-19\", \"12-20\", \"12-7\", \"13-14\", \"13-18\", \"13-19\", \"13-20\", \"13-3\", \"13-7\", \"14-10\", \"14-11\", \"14-12\", \"14-13\", \"14-14\", \"14-19\", \"14-20\", \"14-7\", \"14-8\", \"14-9\", \"15-1\", \"15-19\", \"15-6\", \"16-1\", \"16-16\", \"16-19\", \"16-20\", \"17-10\", \"17-11\", \"18-1\", \"18-10\", \"18-11\", \"18-12\", \"18-13\", \"18-14\", \"18-15\", \"18-16\", \"18-17\", \"18-19\", \"18-2\", \"18-20\", \"18-4\", \"18-5\", \"18-7\", \"18-8\", \"18-9\", \"19-1\", \"19-10\", \"19-11\", \"19-12\", \"19-13\", \"19-14\", \"19-15\", \"19-19\", \"19-2\", \"19-20\", \"19-3\", \"19-4\", \"19-6\", \"19-7\", \"19-8\", \"19-9\", \"2-1\", \"2-13\", \"2-15\", \"2-3\", \"2-4\", \"2-5\", \"2-6\", \"2-7\", \"2-8\", \"20-1\", \"20-12\", \"20-14\", \"20-15\", \"20-16\", \"20-18\", \"20-19\", \"20-20\", \"20-3\", \"20-4\", \"20-5\", \"20-7\", \"20-8\", \"3-1\", \"3-13\", \"3-18\", \"3-2\", \"3-8\", \"4-1\", \"4-10\", \"4-11\", \"5-1\", \"5-5\", \"6-1\", \"6-15\", \"6-6\", \"7-10\", \"7-11\", \"7-12\", \"7-13\", \"7-14\", \"7-7\", \"7-8\", \"7-9\", \"8-1\", \"8-13\", \"8-14\", \"8-18\", \"8-20\", \"8-3\", \"8-8\", \"9-1\", \"9-7\"], \"domains\": [1, 2, 3, 4], \"num_examples_per_domain_per_label\": -1, \"pickle_path\": \"/root/csc500-main/datasets/wisig.node3-19.stratified_ds.2022A.pkl\", \"source_or_target_dataset\": \"target\", \"x_transforms\": [], \"episode_transforms\": [], \"domain_prefix\": \"Wisig_\"}, {\"labels\": [\"3123D52\", \"3123D65\", \"3123D79\", \"3123D80\", \"3123D54\", \"3123D70\", \"3123D7B\", \"3123D89\", \"3123D58\", \"3123D76\", \"3123D7D\", \"3123EFE\", \"3123D64\", \"3123D78\", \"3123D7E\", \"3124E4A\"], \"domains\": [32, 38, 8, 44, 14, 50, 20, 26], \"num_examples_per_domain_per_label\": 2000, \"pickle_path\": \"/root/csc500-main/datasets/oracle.Run1_framed_2000Examples_stratified_ds.2022A.pkl\", \"source_or_target_dataset\": \"source\", \"x_transforms\": [], \"episode_transforms\": [], \"domain_prefix\": \"ORACLE.run1\"}], \"dataset_seed\": 500, \"seed\": 500, \"x_shape\": [2, 256], \"domains_source\": [\"ORACLE.run132\", \"ORACLE.run138\", \"ORACLE.run18\", \"ORACLE.run144\", \"ORACLE.run114\", \"ORACLE.run150\", \"ORACLE.run120\", \"ORACLE.run126\"], \"domains_target\": [\"Wisig_1\", \"Wisig_2\", \"Wisig_3\", \"Wisig_4\"]}, \"results\": {\"source_test_label_accuracy\": 0.9449544270833333, \"source_test_label_loss\": 0.16611415147781372, \"target_test_label_accuracy\": 0.828238107549121, \"target_test_label_loss\": 77.56272888183594, \"source_val_label_accuracy\": 0.9432291666666667, \"source_val_label_loss\": 0.17002780735492706, \"target_val_label_accuracy\": 0.8358056434599156, \"target_val_label_loss\": 75.42808532714844, \"total_epochs_trained\": 12, \"total_experiment_time_secs\": 3131.02627158165, \"confusion\": {\"ORACLE.run150\": {\"7\": {\"7\": 239, \"5\": 1}, \"10\": {\"10\": 240}, \"0\": {\"0\": 233, \"2\": 5, \"10\": 2}, \"11\": {\"11\": 238, \"9\": 1, \"15\": 1}, \"2\": {\"2\": 237, \"0\": 3}, \"14\": {\"14\": 240}, \"9\": {\"11\": 5, \"9\": 232, \"12\": 3}, \"13\": {\"13\": 240}, \"8\": {\"8\": 240}, \"15\": {\"15\": 239, \"6\": 1}, \"4\": {\"4\": 214, \"7\": 10, \"5\": 11, \"15\": 4, \"1\": 1}, \"5\": {\"4\": 11, \"5\": 209, \"6\": 5, \"13\": 4, \"7\": 6, \"15\": 3, \"1\": 2}, \"3\": {\"3\": 240}, \"1\": {\"1\": 235, \"5\": 4, \"13\": 1}, \"6\": {\"6\": 239, \"5\": 1}, \"12\": {\"12\": 233, \"11\": 5, \"9\": 2}}, \"ORACLE.run114\": {\"14\": {\"14\": 232, \"2\": 6, \"13\": 2}, \"6\": {\"6\": 193, \"13\": 45, \"2\": 2}, \"5\": {\"4\": 3, \"5\": 230, \"2\": 6, \"3\": 1}, \"15\": {\"15\": 240}, \"11\": {\"11\": 240}, \"8\": {\"8\": 240}, \"12\": {\"12\": 240}, \"1\": {\"1\": 240}, \"2\": {\"14\": 44, \"2\": 146, \"13\": 4, \"4\": 1, \"6\": 9, \"3\": 8, \"5\": 28}, \"13\": {\"13\": 108, \"2\": 18, \"14\": 27, \"6\": 87}, \"3\": {\"3\": 240}, \"0\": {\"0\": 240}, \"9\": {\"9\": 240}, \"4\": {\"4\": 238, \"5\": 2}, \"7\": {\"7\": 240}, \"10\": {\"10\": 240}}, \"ORACLE.run132\": {\"4\": {\"4\": 224, \"2\": 15, \"13\": 1}, \"14\": {\"14\": 215, \"7\": 6, \"0\": 14, \"5\": 3, \"8\": 2}, \"5\": {\"5\": 186, \"7\": 51, \"8\": 1, \"0\": 2}, \"10\": {\"10\": 240}, \"13\": {\"13\": 217, \"4\": 9, \"3\": 14}, \"9\": {\"9\": 238, \"12\": 2}, \"6\": {\"6\": 240}, \"3\": {\"3\": 240}, \"15\": {\"15\": 240}, \"7\": {\"7\": 215, \"5\": 25}, \"12\": {\"12\": 240}, \"8\": {\"8\": 225, \"0\": 11, \"14\": 1, \"5\": 2, \"13\": 1}, \"11\": {\"11\": 240}, \"2\": {\"2\": 218, \"4\": 22}, \"1\": {\"1\": 240}, \"0\": {\"0\": 218, \"7\": 5, \"14\": 5, \"8\": 12}}, \"ORACLE.run144\": {\"8\": {\"0\": 52, \"8\": 181, \"15\": 2, \"5\": 5}, \"11\": {\"11\": 239, \"13\": 1}, \"14\": {\"14\": 227, \"4\": 10, \"5\": 1, \"15\": 2}, \"10\": {\"10\": 234, \"1\": 4, \"7\": 2}, \"3\": {\"3\": 240}, \"15\": {\"15\": 217, \"14\": 12, \"5\": 4, \"8\": 6, \"0\": 1}, \"2\": {\"2\": 235, \"7\": 2, \"9\": 1, \"1\": 2}, \"12\": {\"12\": 239, \"3\": 1}, \"4\": {\"14\": 55, \"4\": 185}, \"1\": {\"1\": 236, \"10\": 1, \"2\": 3}, \"0\": {\"0\": 217, \"8\": 23}, \"9\": {\"6\": 21, \"7\": 58, \"9\": 139, \"13\": 20, \"2\": 2}, \"5\": {\"5\": 226, \"8\": 2, \"14\": 3, \"15\": 8, \"4\": 1}, \"6\": {\"6\": 219, \"9\": 9, \"13\": 12}, \"7\": {\"7\": 229, \"9\": 11}, \"13\": {\"13\": 208, \"6\": 28, \"9\": 4}}, \"ORACLE.run18\": {\"13\": {\"13\": 214, \"6\": 1, \"10\": 18, \"7\": 6, \"5\": 1}, \"3\": {\"3\": 240}, \"15\": {\"15\": 232, \"12\": 8}, \"4\": {\"4\": 240}, \"7\": {\"7\": 238, \"6\": 2}, \"2\": {\"3\": 31, \"2\": 203, \"12\": 6}, \"1\": {\"1\": 235, \"11\": 2, \"10\": 1, \"5\": 2}, \"0\": {\"0\": 240}, \"12\": {\"12\": 205, \"15\": 35}, \"6\": {\"6\": 237, \"7\": 3}, \"11\": {\"11\": 221, \"1\": 18, \"14\": 1}, \"9\": {\"9\": 240}, \"5\": {\"5\": 202, \"1\": 11, \"14\": 3, \"10\": 23, \"13\": 1}, \"10\": {\"10\": 205, \"13\": 33, \"4\": 1, \"5\": 1}, \"14\": {\"14\": 235, \"4\": 5}, \"8\": {\"8\": 240}}, \"ORACLE.run120\": {\"6\": {\"6\": 240}, \"11\": {\"11\": 240}, \"5\": {\"5\": 233, \"1\": 6, \"15\": 1}, \"14\": {\"14\": 240}, \"2\": {\"2\": 227, \"12\": 11, \"9\": 1, \"7\": 1}, \"7\": {\"7\": 233, \"6\": 1, \"2\": 6}, \"3\": {\"3\": 222, \"9\": 15, \"1\": 3}, \"4\": {\"4\": 239, \"12\": 1}, \"9\": {\"9\": 235, \"1\": 1, \"3\": 3, \"2\": 1}, \"12\": {\"12\": 229, \"2\": 11}, \"0\": {\"0\": 238, \"5\": 2}, \"10\": {\"10\": 240}, \"8\": {\"8\": 240}, \"13\": {\"13\": 240}, \"1\": {\"1\": 235, \"9\": 2, \"15\": 1, \"5\": 1, \"3\": 1}, \"15\": {\"15\": 232, \"1\": 6, \"12\": 2}}, \"ORACLE.run138\": {\"3\": {\"3\": 240}, \"8\": {\"8\": 197, \"5\": 40, \"7\": 3}, \"0\": {\"0\": 223, \"8\": 5, \"10\": 4, \"13\": 7, \"7\": 1}, \"2\": {\"2\": 232, \"14\": 8}, \"4\": {\"4\": 240}, \"7\": {\"7\": 236, \"8\": 3, \"5\": 1}, \"12\": {\"12\": 240}, \"6\": {\"6\": 240}, \"15\": {\"15\": 226, \"8\": 4, \"2\": 5, \"5\": 4, \"1\": 1}, \"11\": {\"11\": 240}, \"9\": {\"9\": 238, \"5\": 2}, \"14\": {\"14\": 238, \"2\": 2}, \"10\": {\"10\": 235, \"0\": 3, \"13\": 2}, \"5\": {\"5\": 165, \"8\": 49, \"7\": 9, \"9\": 15, \"15\": 2}, \"1\": {\"1\": 240}, \"13\": {\"13\": 232, \"0\": 3, \"2\": 1, \"10\": 4}}, \"ORACLE.run126\": {\"5\": {\"5\": 233, \"15\": 7}, \"8\": {\"7\": 19, \"8\": 216, \"0\": 4, \"9\": 1}, \"4\": {\"4\": 240}, \"12\": {\"12\": 240}, \"6\": {\"6\": 237, \"15\": 2, \"10\": 1}, \"7\": {\"7\": 222, \"2\": 9, \"3\": 6, \"8\": 3}, \"10\": {\"10\": 189, \"15\": 2, \"0\": 31, \"14\": 17, \"6\": 1}, \"0\": {\"0\": 175, \"14\": 18, \"10\": 39, \"8\": 8}, \"15\": {\"15\": 220, \"6\": 14, \"5\": 4, \"10\": 2}, \"9\": {\"9\": 236, \"13\": 2, \"8\": 2}, \"11\": {\"11\": 240}, \"14\": {\"0\": 25, \"14\": 200, \"10\": 13, \"1\": 2}, \"2\": {\"2\": 187, \"9\": 6, \"3\": 29, \"7\": 12, \"8\": 6}, \"13\": {\"13\": 227, \"2\": 10, \"9\": 3}, \"3\": {\"3\": 234, \"2\": 4, \"7\": 2}, \"1\": {\"1\": 226, \"14\": 14}}, \"Wisig_3\": {\"99\": {\"99\": 30, \"106\": 1, \"105\": 3, \"57\": 1, \"97\": 1}, \"8\": {\"8\": 106, \"0\": 10, \"12\": 1, \"30\": 4, \"110\": 1, \"15\": 1, \"7\": 1}, \"65\": {\"117\": 1, \"65\": 8, \"19\": 1, \"98\": 2}, \"117\": {\"117\": 110, \"126\": 1, \"109\": 1}, \"18\": {\"18\": 121, \"113\": 2, \"39\": 1}, \"39\": {\"39\": 108}, \"102\": {\"102\": 124}, \"76\": {\"57\": 2, \"76\": 13, \"40\": 1}, \"101\": {\"101\": 37, \"94\": 2, \"127\": 3, \"12\": 2, \"88\": 1, \"51\": 1, \"15\": 1, \"7\": 4, \"113\": 1}, \"57\": {\"65\": 1, \"57\": 12, \"32\": 1, \"76\": 1, \"74\": 2, \"100\": 1, \"45\": 1, \"98\": 1}, \"86\": {\"86\": 24, \"37\": 1, \"124\": 1, \"4\": 1, \"108\": 1}, \"11\": {\"11\": 117, \"43\": 5, \"109\": 3, \"10\": 2, \"118\": 1, \"113\": 1, \"70\": 1, \"87\": 2}, \"98\": {\"98\": 122, \"77\": 3, \"114\": 1, \"72\": 1, \"3\": 1}, \"42\": {\"42\": 21, \"85\": 2, \"73\": 1, \"124\": 2, \"5\": 2}, \"47\": {\"47\": 12}, \"49\": {\"49\": 18, \"8\": 1, \"15\": 2, \"127\": 1, \"23\": 1, \"7\": 1}, \"111\": {\"111\": 125, \"124\": 6, \"33\": 1}, \"36\": {\"36\": 70, \"122\": 3, \"0\": 8, \"24\": 2, \"108\": 8, \"27\": 5, \"110\": 2, \"8\": 6, \"10\": 1, \"30\": 5, \"7\": 1, \"15\": 3, \"87\": 2}, \"124\": {\"124\": 93, \"2\": 1, \"111\": 6, \"129\": 1, \"4\": 1, \"5\": 1, \"41\": 1, \"42\": 1, \"90\": 1}, \"122\": {\"122\": 44, \"21\": 1, \"87\": 2, \"109\": 1, \"10\": 4, \"30\": 2, \"36\": 2, \"110\": 1, \"126\": 1, \"43\": 1, \"39\": 1}, \"93\": {\"93\": 141, \"26\": 1}, \"89\": {\"89\": 28}, \"51\": {\"51\": 16}, \"73\": {\"73\": 30, \"91\": 2, \"42\": 1, \"5\": 2, \"85\": 1, \"21\": 1, \"52\": 1, \"129\": 1, \"98\": 1}, \"45\": {\"45\": 13, \"66\": 1, \"19\": 1, \"48\": 1}, \"5\": {\"5\": 100, \"113\": 3, \"129\": 2, \"85\": 1, \"111\": 2, \"126\": 1, \"42\": 2, \"88\": 1}, \"69\": {\"69\": 77, \"84\": 4, \"118\": 1, \"14\": 1, \"126\": 1}, \"26\": {\"26\": 129, \"93\": 1}, \"1\": {\"1\": 79, \"114\": 14, \"20\": 1, \"71\": 1, \"105\": 2, \"3\": 3, \"127\": 3, \"107\": 3, \"21\": 1, \"40\": 1}, \"92\": {\"92\": 28, \"89\": 4}, \"96\": {\"96\": 18, \"93\": 1, \"26\": 1}, \"85\": {\"85\": 29, \"73\": 3, \"129\": 2, \"52\": 2}, \"114\": {\"1\": 9, \"114\": 102, \"107\": 10, \"102\": 1, \"3\": 3, \"40\": 1}, \"50\": {\"50\": 10, \"86\": 1, \"91\": 1, \"104\": 1, \"95\": 2, \"48\": 1}, \"81\": {\"81\": 32}, \"2\": {\"2\": 23, \"92\": 1, \"117\": 3, \"121\": 1}, \"33\": {\"33\": 144, \"84\": 2}, \"31\": {\"31\": 20}, \"90\": {\"90\": 115, \"82\": 1, \"33\": 1, \"29\": 1}, \"17\": {\"86\": 2, \"103\": 1, \"120\": 1, \"63\": 2, \"17\": 4, \"88\": 1, \"43\": 1, \"115\": 1, \"102\": 1, \"124\": 1, \"98\": 1}, \"116\": {\"116\": 18, \"22\": 2, \"119\": 3, \"102\": 3, \"117\": 1, \"29\": 1}, \"91\": {\"85\": 2, \"91\": 16, \"77\": 1, \"5\": 1, \"73\": 2, \"98\": 1, \"32\": 1}, \"120\": {\"120\": 16, \"2\": 1, \"92\": 3}, \"128\": {\"34\": 2, \"128\": 19, \"19\": 1, \"82\": 1, \"98\": 2, \"100\": 1, \"20\": 1, \"28\": 1, \"95\": 1, \"53\": 1, \"55\": 1, \"32\": 1}, \"78\": {\"11\": 1, \"17\": 1, \"78\": 10, \"88\": 1, \"39\": 2, \"113\": 1}, \"58\": {\"58\": 9, \"98\": 1, \"73\": 4, \"68\": 1, \"56\": 1}, \"23\": {\"23\": 14, \"60\": 4, \"30\": 2, \"93\": 1, \"110\": 2, \"26\": 1, \"7\": 1, \"118\": 2, \"18\": 2, \"62\": 1, \"0\": 2}, \"15\": {\"97\": 3, \"15\": 89, \"10\": 1, \"7\": 1, \"94\": 4, \"12\": 3, \"8\": 2, \"21\": 1}, \"74\": {\"74\": 15, \"50\": 1}, \"34\": {\"74\": 3, \"128\": 1, \"40\": 1, \"19\": 1, \"34\": 16, \"72\": 2, \"91\": 1, \"1\": 1, \"83\": 1, \"43\": 1, \"52\": 1, \"12\": 1, \"53\": 1, \"107\": 1}, \"103\": {\"103\": 11, \"46\": 3, \"98\": 1, \"42\": 1}, \"106\": {\"106\": 85, \"15\": 2, \"127\": 4, \"27\": 1, \"71\": 1, \"94\": 1, \"12\": 2, \"51\": 1, \"36\": 1, \"114\": 2}, \"44\": {\"44\": 64, \"31\": 1, \"120\": 1, \"84\": 1, \"107\": 1, \"3\": 1, \"114\": 1, \"81\": 1, \"90\": 1}, \"9\": {\"128\": 2, \"9\": 20, \"99\": 3, \"46\": 1, \"72\": 2, \"95\": 1, \"82\": 1, \"51\": 1, \"56\": 1}, \"97\": {\"97\": 18, \"15\": 1, \"12\": 1}, \"123\": {\"123\": 14, \"37\": 1, \"68\": 1}, \"6\": {\"68\": 1, \"6\": 26, \"90\": 1, \"86\": 1, \"37\": 1, \"111\": 1, \"125\": 1}, \"68\": {\"68\": 13, \"6\": 1, \"124\": 1, \"111\": 1}, \"24\": {\"24\": 24, \"60\": 1, \"16\": 1, \"110\": 2, \"87\": 7, \"108\": 4, \"10\": 2, \"36\": 2, \"27\": 1, \"30\": 2, \"78\": 2}, \"21\": {\"21\": 44, \"2\": 1, \"87\": 1, \"82\": 1, \"10\": 1}, \"83\": {\"83\": 18, \"43\": 1, \"72\": 2, \"47\": 1, \"109\": 1, \"9\": 1}, \"60\": {\"60\": 26, \"49\": 1, \"62\": 1}, \"87\": {\"87\": 120}, \"30\": {\"30\": 70, \"108\": 3, \"33\": 1, \"117\": 1, \"87\": 1, \"0\": 2, \"43\": 1, \"110\": 3, \"44\": 1, \"8\": 1}, \"43\": {\"43\": 51, \"11\": 2, \"118\": 1, \"21\": 2}, \"115\": {\"115\": 12, \"42\": 1, \"22\": 1, \"50\": 1, \"91\": 1}, \"40\": {\"40\": 90, \"114\": 4, \"105\": 5, \"107\": 5, \"7\": 1, \"14\": 3, \"126\": 1, \"1\": 2, \"3\": 3, \"101\": 3, \"127\": 3}, \"112\": {\"112\": 8, \"52\": 1, \"59\": 2, \"77\": 2, \"5\": 1, \"79\": 1, \"98\": 1}, \"66\": {\"66\": 12, \"65\": 1, \"95\": 1, \"34\": 2}, \"110\": {\"110\": 87, \"122\": 1, \"109\": 1, \"93\": 1, \"87\": 2}, \"3\": {\"3\": 90, \"71\": 7, \"127\": 4, \"106\": 1, \"107\": 3, \"40\": 1, \"39\": 1, \"1\": 2, \"114\": 3, \"105\": 2}, \"20\": {\"40\": 1, \"28\": 2, \"20\": 9, \"107\": 1, \"1\": 3}, \"28\": {\"28\": 10, \"128\": 2, \"50\": 1, \"19\": 1, \"65\": 2}, \"84\": {\"84\": 89, \"39\": 2, \"69\": 2, \"89\": 1, \"126\": 1, \"8\": 1, \"16\": 6, \"62\": 1, \"1\": 1, \"12\": 2, \"87\": 1, \"33\": 1}, \"79\": {\"112\": 1, \"79\": 11}, \"118\": {\"43\": 2, \"118\": 91, \"12\": 1, \"11\": 2, \"108\": 2, \"87\": 1, \"39\": 1}, \"56\": {\"56\": 8, \"98\": 1, \"128\": 1, \"95\": 1, \"125\": 1}, \"48\": {\"48\": 8, \"19\": 2, \"13\": 2, \"37\": 1, \"90\": 1, \"102\": 2}, \"77\": {\"77\": 14, \"91\": 1, \"22\": 1}, \"14\": {\"14\": 75, \"62\": 1, \"40\": 3, \"69\": 1}, \"64\": {\"64\": 19, \"117\": 1}, \"67\": {\"67\": 15, \"39\": 1}, \"62\": {\"62\": 119, \"93\": 1, \"87\": 1, \"60\": 1, \"84\": 2}, \"75\": {\"75\": 13, \"72\": 3}, \"63\": {\"63\": 13, \"20\": 1, \"83\": 1, \"64\": 1}, \"7\": {\"7\": 104, \"101\": 1, \"8\": 1, \"0\": 2, \"12\": 4}, \"125\": {\"125\": 100, \"33\": 1, \"111\": 1, \"2\": 1, \"101\": 1}, \"37\": {\"37\": 13, \"124\": 2, \"52\": 1}, \"121\": {\"121\": 21, \"120\": 3, \"27\": 1, \"82\": 1, \"117\": 1, \"81\": 3, \"114\": 2}, \"16\": {\"23\": 2, \"16\": 88, \"93\": 7, \"84\": 3, \"26\": 1, \"113\": 1, \"109\": 1, \"87\": 1}, \"35\": {\"35\": 11, \"114\": 1}, \"32\": {\"32\": 30, \"105\": 1, \"76\": 1}, \"46\": {\"35\": 1, \"46\": 14, \"19\": 1}, \"70\": {\"70\": 62, \"11\": 3, \"10\": 1, \"113\": 1, \"109\": 2, \"21\": 1, \"88\": 2}, \"129\": {\"129\": 29, \"119\": 1, \"5\": 2}, \"95\": {\"95\": 27, \"70\": 1, \"9\": 3, \"114\": 1}, \"72\": {\"72\": 24, \"95\": 1, \"47\": 1, \"127\": 1, \"106\": 1}, \"19\": {\"28\": 1, \"19\": 18, \"52\": 1, \"100\": 1, \"46\": 2, \"34\": 1, \"50\": 1, \"128\": 1, \"95\": 2, \"90\": 1, \"32\": 1, \"98\": 2}, \"52\": {\"19\": 2, \"52\": 11, \"86\": 1, \"98\": 1, \"85\": 1}, \"100\": {\"100\": 10, \"71\": 1, \"39\": 1, \"57\": 3, \"89\": 1}, \"104\": {\"104\": 14, \"17\": 1, \"91\": 1}, \"59\": {\"59\": 12}, \"109\": {\"109\": 124, \"39\": 1, \"113\": 1}, \"88\": {\"88\": 86, \"43\": 1, \"39\": 9, \"11\": 1, \"109\": 4, \"70\": 3, \"21\": 1, \"10\": 2, \"126\": 1}, \"27\": {\"110\": 9, \"87\": 3, \"27\": 51, \"108\": 8, \"60\": 1, \"122\": 2, \"30\": 5, \"21\": 1, \"36\": 4, \"10\": 3, \"0\": 1, \"118\": 2, \"8\": 3, \"126\": 1}, \"113\": {\"113\": 116, \"118\": 2, \"109\": 1, \"82\": 1}, \"105\": {\"105\": 102, \"127\": 11, \"3\": 3, \"71\": 3, \"114\": 1, \"107\": 1, \"40\": 3}, \"71\": {\"105\": 7, \"71\": 48, \"1\": 2, \"34\": 2, \"127\": 4, \"3\": 4, \"102\": 1}, \"108\": {\"108\": 112, \"110\": 1, \"24\": 1, \"87\": 6, \"113\": 1, \"10\": 1, \"30\": 1, \"109\": 1}, \"41\": {\"41\": 15, \"77\": 1}, \"80\": {\"80\": 15, \"50\": 1}, \"13\": {\"80\": 3, \"13\": 9, \"48\": 1, \"119\": 2, \"65\": 1}, \"55\": {\"55\": 14, \"95\": 1, \"66\": 1}, \"0\": {\"0\": 95, \"8\": 6, \"39\": 1, \"7\": 2, \"1\": 1, \"90\": 1}, \"25\": {\"25\": 12, \"42\": 1, \"37\": 2, \"52\": 1}, \"53\": {\"53\": 17, \"107\": 1, \"114\": 2}, \"61\": {\"61\": 16}, \"38\": {\"38\": 16}, \"127\": {\"127\": 106, \"88\": 1, \"105\": 2, \"40\": 4, \"12\": 6, \"3\": 5, \"39\": 1, \"126\": 2, \"71\": 1}, \"4\": {\"4\": 93, \"88\": 1, \"107\": 1, \"109\": 1}, \"12\": {\"12\": 91, \"7\": 4, \"127\": 4, \"101\": 2, \"15\": 3}, \"126\": {\"126\": 122, \"88\": 1, \"70\": 1}, \"29\": {\"29\": 31, \"112\": 1}, \"107\": {\"107\": 117, \"114\": 10, \"53\": 1, \"71\": 2, \"1\": 2, \"105\": 3, \"40\": 1}, \"82\": {\"82\": 28}, \"94\": {\"94\": 55, \"15\": 14, \"7\": 2, \"36\": 2, \"0\": 2, \"101\": 3, \"12\": 4, \"8\": 1, \"39\": 1}, \"54\": {\"25\": 1, \"54\": 12, \"124\": 1, \"34\": 1, \"37\": 1}, \"10\": {\"11\": 4, \"10\": 118, \"108\": 4, \"88\": 1, \"70\": 1}, \"22\": {\"46\": 1, \"22\": 14, \"48\": 1}, \"119\": {\"119\": 13, \"102\": 2, \"116\": 1}}, \"Wisig_2\": {\"73\": {\"73\": 18, \"53\": 1, \"77\": 1, \"55\": 1, \"82\": 1, \"31\": 1, \"29\": 1, \"19\": 1, \"67\": 1, \"54\": 2}, \"40\": {\"40\": 94, \"61\": 1, \"30\": 1, \"3\": 5, \"12\": 3, \"7\": 3, \"1\": 2, \"71\": 4, \"127\": 7, \"88\": 2, \"74\": 1, \"95\": 2, \"70\": 1, \"101\": 3, \"26\": 1, \"33\": 1, \"43\": 1}, \"99\": {\"99\": 26, \"81\": 1, \"83\": 2, \"57\": 2, \"27\": 1}, \"5\": {\"5\": 103, \"129\": 1, \"109\": 1, \"26\": 1, \"39\": 1, \"88\": 1, \"124\": 3, \"70\": 1}, \"108\": {\"108\": 123, \"27\": 1, \"122\": 3, \"11\": 4, \"43\": 1}, \"128\": {\"44\": 1, \"58\": 1, \"95\": 2, \"34\": 2, \"128\": 11, \"100\": 1, \"47\": 1, \"114\": 1, \"21\": 1, \"40\": 1, \"9\": 2}, \"89\": {\"89\": 31, \"44\": 1, \"82\": 2, \"61\": 1, \"84\": 1}, \"107\": {\"107\": 33, \"108\": 1, \"95\": 3, \"35\": 2, \"127\": 2, \"118\": 1, \"32\": 4, \"114\": 5, \"43\": 1, \"88\": 1, \"126\": 2, \"5\": 1, \"92\": 2, \"34\": 1, \"21\": 1, \"15\": 1, \"94\": 1, \"70\": 2}, \"2\": {\"57\": 1, \"2\": 20, \"120\": 1, \"83\": 1, \"121\": 1, \"82\": 1, \"117\": 2, \"90\": 2, \"46\": 1, \"48\": 1, \"86\": 1}, \"78\": {\"78\": 40, \"21\": 2, \"70\": 3, \"39\": 1, \"109\": 1, \"87\": 1}, \"85\": {\"85\": 24, \"5\": 2, \"53\": 1, \"72\": 1, \"34\": 1, \"73\": 1, \"112\": 1, \"68\": 1}, \"44\": {\"44\": 100}, \"58\": {\"58\": 12, \"85\": 1, \"109\": 1, \"98\": 2, \"34\": 2, \"51\": 2}, \"57\": {\"57\": 15, \"63\": 1, \"24\": 1, \"82\": 2, \"88\": 1}, \"41\": {\"41\": 13, \"111\": 3, \"68\": 1, \"43\": 1, \"5\": 1, \"91\": 1}, \"53\": {\"53\": 12, \"107\": 1, \"44\": 1, \"127\": 1, \"98\": 1}, \"14\": {\"95\": 2, \"14\": 25, \"70\": 1, \"24\": 2, \"114\": 2, \"3\": 3, \"62\": 2, \"31\": 1, \"21\": 1, \"126\": 2, \"33\": 2, \"0\": 1, \"10\": 1, \"88\": 1, \"12\": 1, \"71\": 1}, \"83\": {\"83\": 37, \"5\": 1, \"44\": 1, \"124\": 1}, \"119\": {\"19\": 1, \"119\": 14, \"2\": 2, \"46\": 1, \"44\": 2}, \"95\": {\"47\": 1, \"95\": 21, \"35\": 1, \"0\": 3, \"49\": 1, \"127\": 6, \"107\": 1, \"88\": 1, \"40\": 1}, \"28\": {\"28\": 19, \"124\": 1}, \"19\": {\"19\": 18, \"28\": 1, \"54\": 1, \"128\": 1, \"82\": 2, \"53\": 3, \"32\": 1, \"38\": 1}, \"69\": {\"93\": 2, \"69\": 118, \"16\": 3, \"72\": 1, \"126\": 1, \"108\": 2, \"20\": 1, \"26\": 1, \"87\": 1, \"39\": 1, \"43\": 1}, \"93\": {\"93\": 120, \"60\": 1, \"18\": 2, \"33\": 1, \"16\": 9, \"44\": 1}, \"9\": {\"9\": 32}, \"118\": {\"118\": 59, \"122\": 4, \"43\": 3, \"127\": 1, \"109\": 1}, \"43\": {\"43\": 103, \"87\": 6, \"70\": 1, \"126\": 2, \"122\": 1, \"108\": 2, \"88\": 1}, \"47\": {\"47\": 7, \"85\": 1, \"32\": 2, \"100\": 2}, \"125\": {\"125\": 142, \"4\": 1, \"44\": 1}, \"29\": {\"29\": 31, \"77\": 1}, \"122\": {\"122\": 107, \"8\": 5, \"11\": 2, \"15\": 2, \"108\": 10, \"118\": 2, \"94\": 1, \"40\": 2, \"30\": 2, \"39\": 2, \"109\": 2, \"105\": 1, \"88\": 1, \"14\": 1}, \"46\": {\"121\": 2, \"46\": 12, \"48\": 2}, \"86\": {\"86\": 31, \"104\": 1}, \"70\": {\"70\": 87, \"87\": 3, \"10\": 1, \"109\": 3, \"24\": 5, \"78\": 3, \"21\": 2, \"39\": 11, \"88\": 8, \"43\": 1}, \"51\": {\"51\": 13, \"123\": 1, \"95\": 1, \"25\": 1, \"31\": 1, \"58\": 2, \"85\": 1}, \"23\": {\"122\": 2, \"23\": 10, \"8\": 1, \"94\": 2, \"118\": 1, \"30\": 5, \"108\": 2, \"69\": 1, \"110\": 3, \"105\": 4, \"7\": 3, \"24\": 1, \"12\": 1, \"26\": 1, \"16\": 2, \"0\": 1, \"3\": 1, \"43\": 1, \"87\": 1, \"18\": 1}, \"121\": {\"63\": 2, \"121\": 28, \"120\": 1, \"117\": 2, \"57\": 1, \"81\": 1, \"89\": 1}, \"63\": {\"21\": 1, \"63\": 17, \"48\": 1, \"39\": 1}, \"102\": {\"102\": 121, \"39\": 1}, \"21\": {\"21\": 48}, \"55\": {\"55\": 14, \"95\": 1, \"83\": 1}, \"54\": {\"54\": 15, \"104\": 1, \"107\": 1, \"31\": 1, \"34\": 2}, \"6\": {\"6\": 29, \"111\": 3}, \"109\": {\"109\": 71, \"24\": 2, \"88\": 11, \"78\": 3, \"39\": 8, \"70\": 2, \"102\": 1, \"87\": 2}, \"64\": {\"109\": 1, \"55\": 1, \"64\": 12, \"28\": 2}, \"20\": {\"20\": 16}, \"98\": {\"29\": 2, \"34\": 1, \"98\": 101, \"121\": 1, \"112\": 1, \"9\": 2, \"77\": 1, \"85\": 2, \"0\": 1, \"109\": 1, \"43\": 1}, \"92\": {\"55\": 2, \"92\": 17, \"47\": 1, \"7\": 1, \"71\": 1, \"32\": 1, \"97\": 1, \"67\": 1, \"57\": 1, \"66\": 1, \"53\": 1}, \"35\": {\"35\": 12}, \"113\": {\"113\": 67, \"24\": 1, \"39\": 1, \"126\": 1, \"21\": 1, \"70\": 1}, \"71\": {\"95\": 3, \"71\": 81, \"127\": 6, \"84\": 1, \"118\": 1, \"33\": 2, \"40\": 1, \"16\": 1, \"109\": 1, \"1\": 2, \"87\": 1}, \"94\": {\"94\": 35, \"87\": 2, \"105\": 1, \"78\": 2, \"12\": 1, \"113\": 2, \"110\": 3, \"0\": 5, \"8\": 2, \"7\": 1, \"3\": 1, \"39\": 1, \"126\": 2, \"127\": 2, \"88\": 1, \"15\": 1, \"106\": 2}, \"52\": {\"52\": 14, \"91\": 3, \"103\": 1, \"34\": 1, \"70\": 1}, \"116\": {\"116\": 24, \"112\": 1, \"57\": 1, \"102\": 2}, \"87\": {\"87\": 86, \"10\": 4, \"88\": 3, \"126\": 6, \"70\": 1, \"43\": 6, \"109\": 2, \"24\": 1, \"78\": 1, \"108\": 1, \"118\": 1}, \"90\": {\"90\": 148}, \"91\": {\"91\": 19, \"68\": 1, \"124\": 1, \"52\": 2, \"77\": 1, \"41\": 1, \"66\": 1, \"25\": 2}, \"84\": {\"84\": 86, \"62\": 1, \"69\": 1, \"109\": 3, \"78\": 1}, \"24\": {\"24\": 76, \"109\": 2, \"122\": 5, \"126\": 9, \"10\": 1, \"39\": 2, \"70\": 3, \"108\": 6, \"43\": 3, \"88\": 4, \"11\": 1}, \"33\": {\"33\": 120, \"1\": 7, \"87\": 1, \"88\": 1, \"3\": 2, \"84\": 2, \"43\": 1}, \"81\": {\"81\": 18, \"72\": 2, \"99\": 1, \"5\": 1, \"16\": 2}, \"115\": {\"115\": 7, \"67\": 1, \"4\": 1, \"98\": 1, \"5\": 2}, \"77\": {\"77\": 14, \"98\": 2}, \"106\": {\"106\": 86, \"99\": 1, \"21\": 1, \"101\": 12, \"15\": 5, \"87\": 1, \"0\": 1, \"102\": 1, \"127\": 2, \"30\": 2, \"95\": 2, \"71\": 1, \"12\": 1, \"24\": 1, \"36\": 1, \"40\": 2}, \"42\": {\"42\": 9, \"17\": 2, \"91\": 3, \"103\": 1, \"77\": 2, \"124\": 1, \"70\": 1, \"109\": 1, \"22\": 1, \"80\": 1, \"88\": 1, \"59\": 1, \"85\": 2, \"87\": 1, \"5\": 1}, \"38\": {\"38\": 14, \"116\": 1, \"123\": 1}, \"36\": {\"60\": 1, \"36\": 66, \"78\": 1, \"15\": 4, \"27\": 6, \"30\": 11, \"39\": 3, \"110\": 2, \"0\": 4, \"126\": 1, \"7\": 1, \"122\": 4, \"105\": 1, \"8\": 2, \"108\": 1, \"11\": 1, \"113\": 1, \"106\": 1, \"88\": 2, \"62\": 1}, \"79\": {\"79\": 15, \"4\": 1}, \"60\": {\"60\": 24, \"69\": 1, \"29\": 1, \"11\": 1, \"16\": 1}, \"80\": {\"80\": 14, \"120\": 1, \"5\": 1}, \"32\": {\"32\": 36}, \"0\": {\"0\": 87, \"12\": 2, \"87\": 1, \"40\": 2, \"8\": 2, \"122\": 1, \"36\": 1, \"7\": 3, \"30\": 3, \"15\": 5, \"110\": 2, \"94\": 3, \"105\": 1, \"106\": 3}, \"127\": {\"127\": 113, \"40\": 1, \"101\": 2, \"70\": 1, \"106\": 1, \"107\": 2, \"61\": 1, \"71\": 3}, \"114\": {\"114\": 107, \"107\": 3, \"90\": 1, \"71\": 2, \"106\": 2, \"117\": 1}, \"62\": {\"62\": 126, \"71\": 1, \"21\": 1, \"87\": 1, \"105\": 5, \"60\": 2, \"110\": 2, \"40\": 1, \"1\": 1}, \"129\": {\"129\": 29, \"85\": 2, \"25\": 1}, \"56\": {\"56\": 12}, \"76\": {\"76\": 13, \"95\": 1, \"67\": 2}, \"72\": {\"72\": 23, \"110\": 1, \"89\": 1, \"69\": 1, \"21\": 1, \"5\": 1}, \"88\": {\"88\": 92, \"39\": 9, \"21\": 3, \"87\": 1, \"109\": 13, \"70\": 3, \"126\": 3}, \"68\": {\"68\": 9, \"77\": 1, \"54\": 2, \"21\": 1, \"29\": 2, \"39\": 1}, \"67\": {\"67\": 7, \"73\": 1, \"78\": 1, \"21\": 1, \"80\": 2, \"76\": 2, \"108\": 1, \"48\": 1}, \"100\": {\"38\": 2, \"100\": 11, \"47\": 1, \"89\": 1, \"90\": 1}, \"34\": {\"34\": 21, \"101\": 1, \"21\": 1, \"32\": 1, \"49\": 1, \"109\": 1, \"71\": 1, \"75\": 1, \"53\": 1, \"127\": 1, \"54\": 1, \"89\": 1}, \"16\": {\"16\": 109, \"93\": 9, \"62\": 1, \"26\": 2, \"23\": 2, \"88\": 1}, \"126\": {\"126\": 117, \"87\": 2, \"70\": 1}, \"4\": {\"4\": 83, \"120\": 1, \"88\": 1, \"39\": 1, \"6\": 2}, \"101\": {\"101\": 135, \"127\": 7, \"49\": 1, \"114\": 1, \"106\": 2}, \"104\": {\"68\": 1, \"104\": 12, \"98\": 1, \"112\": 1, \"29\": 1, \"103\": 2, \"86\": 1, \"39\": 1}, \"30\": {\"78\": 1, \"8\": 8, \"30\": 79, \"111\": 1, \"122\": 8, \"110\": 2, \"11\": 1, \"15\": 2, \"108\": 2, \"12\": 2, \"24\": 1, \"0\": 1, \"105\": 2}, \"8\": {\"30\": 3, \"8\": 110, \"94\": 2, \"110\": 3, \"24\": 2, \"40\": 2, \"93\": 1, \"0\": 2, \"122\": 2, \"113\": 1}, \"82\": {\"82\": 26, \"13\": 1, \"16\": 1, \"83\": 1, \"89\": 2, \"90\": 3, \"33\": 1, \"88\": 1}, \"26\": {\"26\": 122, \"126\": 1, \"87\": 2, \"113\": 2, \"69\": 1, \"18\": 2, \"70\": 1, \"39\": 1, \"109\": 1, \"93\": 3, \"88\": 1, \"43\": 1}, \"96\": {\"96\": 16, \"93\": 1, \"16\": 1, \"62\": 1, \"26\": 1}, \"3\": {\"3\": 110, \"1\": 10, \"33\": 6, \"40\": 1, \"7\": 2, \"111\": 2, \"39\": 1, \"12\": 2, \"84\": 1, \"88\": 1}, \"25\": {\"25\": 6, \"21\": 1, \"17\": 1, \"78\": 1, \"103\": 1, \"59\": 2, \"91\": 4}, \"13\": {\"13\": 9, \"93\": 1, \"43\": 1, \"124\": 1, \"123\": 1, \"70\": 1, \"48\": 2}, \"37\": {\"129\": 1, \"85\": 1, \"123\": 1, \"17\": 1, \"37\": 6, \"22\": 1, \"43\": 1, \"73\": 1, \"67\": 1, \"29\": 2}, \"49\": {\"49\": 15, \"87\": 2, \"95\": 1, \"61\": 1, \"107\": 2, \"92\": 1, \"127\": 1, \"39\": 1}, \"111\": {\"111\": 132, \"41\": 3, \"124\": 1}, \"105\": {\"105\": 113, \"7\": 5, \"110\": 3, \"62\": 3, \"30\": 1, \"3\": 1, \"40\": 2, \"78\": 1, \"122\": 1, \"14\": 1, \"8\": 1}, \"17\": {\"37\": 2, \"17\": 2, \"78\": 1, \"87\": 1, \"25\": 1, \"91\": 4, \"111\": 2, \"70\": 1, \"77\": 2}, \"65\": {\"65\": 18, \"70\": 1, \"126\": 1}, \"123\": {\"37\": 1, \"112\": 1, \"123\": 8, \"116\": 1, \"129\": 2, \"22\": 1, \"111\": 1, \"55\": 1}, \"74\": {\"35\": 2, \"126\": 2, \"74\": 10, \"95\": 2}, \"97\": {\"97\": 10, \"15\": 1, \"66\": 1, \"7\": 3, \"71\": 1, \"13\": 1, \"12\": 2, \"90\": 1}, \"112\": {\"112\": 10, \"123\": 1, \"42\": 1, \"59\": 1, \"73\": 2, \"37\": 1}, \"120\": {\"120\": 14, \"99\": 1, \"121\": 1, \"117\": 2, \"81\": 2}, \"50\": {\"45\": 1, \"53\": 1, \"50\": 10, \"66\": 2, \"41\": 1, \"55\": 1}, \"59\": {\"59\": 9, \"10\": 1, \"91\": 2, \"86\": 2, \"42\": 2}, \"10\": {\"10\": 51, \"24\": 2, \"70\": 1, \"21\": 1, \"39\": 1, \"87\": 4}, \"45\": {\"53\": 2, \"45\": 13, \"88\": 1}, \"12\": {\"12\": 72, \"21\": 1, \"7\": 5, \"78\": 1, \"88\": 1, \"97\": 2, \"15\": 2, \"110\": 2, \"40\": 2}, \"75\": {\"51\": 2, \"98\": 1, \"75\": 5, \"70\": 1, \"28\": 2, \"9\": 1, \"73\": 2, \"34\": 2}, \"48\": {\"48\": 17, \"102\": 2, \"82\": 1}, \"61\": {\"61\": 15, \"24\": 1, \"93\": 1, \"88\": 1, \"95\": 1, \"49\": 1}, \"124\": {\"124\": 120, \"5\": 1, \"111\": 2, \"117\": 1}, \"11\": {\"108\": 11, \"11\": 53, \"122\": 8, \"88\": 1, \"39\": 1, \"8\": 5, \"87\": 1}, \"103\": {\"103\": 11, \"45\": 1, \"125\": 1, \"28\": 1, \"22\": 1, \"6\": 1}, \"7\": {\"7\": 111, \"12\": 4, \"109\": 1, \"78\": 2, \"110\": 1, \"0\": 3, \"39\": 1, \"40\": 1, \"105\": 6, \"15\": 2}, \"18\": {\"18\": 109, \"26\": 6, \"108\": 1, \"24\": 1, \"39\": 1, \"69\": 1, \"43\": 1}, \"31\": {\"31\": 16, \"1\": 2, \"89\": 2}, \"15\": {\"15\": 90, \"0\": 8, \"87\": 1, \"127\": 3, \"30\": 4, \"39\": 1, \"7\": 3, \"36\": 1, \"12\": 3, \"105\": 1, \"94\": 2, \"106\": 1}, \"1\": {\"1\": 106, \"78\": 1, \"3\": 6, \"39\": 1, \"33\": 5, \"96\": 1, \"40\": 2}, \"66\": {\"66\": 17, \"40\": 1, \"37\": 1, \"55\": 1}, \"110\": {\"110\": 28, \"70\": 2, \"65\": 1, \"109\": 1, \"7\": 1, \"8\": 1, \"10\": 1, \"105\": 1, \"3\": 1, \"27\": 1, \"62\": 1, \"87\": 1}, \"27\": {\"16\": 1, \"7\": 2, \"27\": 28, \"36\": 6, \"23\": 2, \"30\": 2, \"43\": 1, \"24\": 2, \"126\": 1, \"122\": 2, \"88\": 2, \"105\": 4, \"94\": 1, \"110\": 2, \"70\": 3, \"108\": 3, \"12\": 2, \"11\": 3, \"39\": 1}, \"22\": {\"22\": 17, \"3\": 1, \"85\": 1, \"27\": 1}, \"117\": {\"117\": 115, \"24\": 1, \"65\": 2, \"109\": 1, \"88\": 1}, \"39\": {\"39\": 86, \"88\": 11, \"109\": 7, \"70\": 2, \"10\": 1, \"26\": 1}}, \"Wisig_1\": {\"60\": {\"62\": 1, \"60\": 10, \"14\": 1, \"87\": 1, \"110\": 1, \"26\": 1, \"7\": 1}, \"59\": {\"76\": 1, \"59\": 8, \"6\": 1, \"111\": 1, \"82\": 1}, \"107\": {\"107\": 110, \"34\": 2, \"47\": 1, \"40\": 1, \"114\": 1, \"1\": 2, \"118\": 1, \"75\": 1, \"19\": 1, \"9\": 1, \"71\": 2, \"125\": 1}, \"113\": {\"113\": 123, \"11\": 1}, \"6\": {\"6\": 20, \"59\": 2, \"126\": 1, \"111\": 2, \"21\": 1, \"46\": 1, \"11\": 1, \"91\": 2, \"86\": 2}, \"24\": {\"24\": 72, \"27\": 2, \"108\": 9, \"30\": 2, \"88\": 4, \"43\": 2, \"10\": 1}, \"50\": {\"50\": 8, \"74\": 1, \"120\": 1, \"99\": 1, \"67\": 2, \"33\": 1, \"30\": 1, \"81\": 1}, \"62\": {\"62\": 111, \"69\": 4, \"7\": 3, \"14\": 1, \"70\": 1}, \"48\": {\"48\": 12}, \"104\": {\"104\": 11, \"102\": 2, \"46\": 1, \"91\": 2}, \"105\": {\"105\": 67, \"35\": 2, \"106\": 3, \"14\": 3, \"110\": 1, \"40\": 3, \"93\": 1, \"101\": 2, \"84\": 1, \"4\": 1}, \"44\": {\"44\": 74, \"1\": 1, \"114\": 1}, \"49\": {\"49\": 17, \"34\": 1, \"107\": 1, \"19\": 1}, \"55\": {\"55\": 12}, \"4\": {\"4\": 98, \"59\": 2}, \"76\": {\"76\": 16}, \"85\": {\"85\": 31, \"32\": 1}, \"89\": {\"89\": 26, \"72\": 2, \"98\": 1, \"107\": 4, \"75\": 1, \"51\": 2}, \"74\": {\"74\": 14, \"20\": 1, \"34\": 1}, \"112\": {\"112\": 8, \"28\": 1, \"58\": 1, \"6\": 1, \"111\": 2, \"37\": 2, \"116\": 1}, \"79\": {\"79\": 12}, \"0\": {\"0\": 77, \"118\": 1, \"110\": 3, \"84\": 2, \"106\": 1}, \"91\": {\"91\": 19, \"112\": 2, \"28\": 1, \"55\": 1, \"105\": 1, \"5\": 2, \"41\": 1, \"6\": 1}, \"118\": {\"118\": 81, \"69\": 1, \"109\": 1, \"101\": 1}, \"80\": {\"80\": 16}, \"64\": {\"64\": 16}, \"97\": {\"30\": 3, \"97\": 11, \"27\": 2, \"93\": 1, \"105\": 1, \"88\": 1, \"15\": 1}, \"84\": {\"84\": 120, \"7\": 2, \"105\": 1, \"40\": 1}, \"38\": {\"38\": 16}, \"30\": {\"30\": 43, \"97\": 1, \"27\": 2, \"24\": 1, \"15\": 1, \"94\": 1, \"88\": 2, \"93\": 1}, \"32\": {\"32\": 27, \"126\": 1, \"85\": 2, \"121\": 1, \"113\": 1}, \"72\": {\"72\": 20, \"114\": 1, \"12\": 2, \"9\": 2, \"89\": 2, \"71\": 1, \"127\": 1, \"107\": 2, \"83\": 1}, \"33\": {\"33\": 127, \"42\": 1, \"114\": 3, \"70\": 1}, \"34\": {\"34\": 7, \"107\": 2, \"75\": 2, \"85\": 1, \"40\": 3, \"35\": 1, \"72\": 1, \"73\": 1, \"12\": 1, \"53\": 2, \"74\": 2, \"22\": 1, \"9\": 1, \"44\": 1, \"56\": 1, \"14\": 1, \"105\": 1, \"89\": 1, \"81\": 2}, \"28\": {\"38\": 2, \"28\": 14, \"22\": 1, \"82\": 2, \"128\": 1}, \"123\": {\"123\": 15, \"83\": 1}, \"2\": {\"2\": 18, \"123\": 1, \"104\": 1, \"22\": 1, \"129\": 1, \"83\": 2, \"109\": 1, \"42\": 1, \"13\": 1, \"73\": 1, \"116\": 2, \"21\": 1, \"102\": 1}, \"70\": {\"70\": 116, \"39\": 1, \"109\": 3, \"10\": 3, \"78\": 1}, \"127\": {\"127\": 91, \"78\": 1, \"101\": 5, \"71\": 7, \"40\": 2, \"107\": 2}, \"110\": {\"110\": 114, \"0\": 6, \"15\": 2, \"105\": 1, \"27\": 1, \"39\": 1, \"113\": 1, \"109\": 2}, \"126\": {\"126\": 133, \"11\": 1, \"108\": 1, \"27\": 1}, \"13\": {\"13\": 15, \"63\": 1}, \"15\": {\"15\": 90, \"94\": 5, \"127\": 1, \"27\": 2, \"36\": 2, \"110\": 2, \"105\": 2}, \"29\": {\"29\": 17, \"75\": 3, \"107\": 4, \"32\": 2, \"71\": 1, \"85\": 1}, \"18\": {\"18\": 119, \"109\": 1}, \"7\": {\"7\": 138, \"84\": 4}, \"56\": {\"56\": 10, \"98\": 1, \"47\": 1}, \"98\": {\"98\": 103, \"111\": 2, \"85\": 2, \"5\": 1}, \"99\": {\"99\": 20, \"90\": 2, \"33\": 1, \"3\": 1}, \"77\": {\"77\": 8, \"85\": 2, \"52\": 2, \"90\": 1, \"104\": 2, \"91\": 1}, \"103\": {\"15\": 1, \"103\": 10, \"124\": 1, \"32\": 1, \"94\": 1, \"5\": 1, \"85\": 1}, \"128\": {\"128\": 11, \"99\": 1, \"103\": 1, \"90\": 1, \"64\": 1, \"72\": 2, \"28\": 2, \"82\": 3, \"29\": 1, \"85\": 1}, \"3\": {\"3\": 76, \"88\": 1, \"127\": 1, \"76\": 1, \"23\": 1, \"44\": 3, \"69\": 2, \"98\": 1, \"36\": 1, \"33\": 1}, \"121\": {\"121\": 32}, \"42\": {\"42\": 11, \"90\": 1, \"85\": 1, \"61\": 2, \"32\": 2, \"119\": 3, \"52\": 1, \"82\": 2, \"116\": 1, \"102\": 1, \"128\": 1, \"129\": 2}, \"90\": {\"90\": 120}, \"37\": {\"37\": 13, \"112\": 1, \"58\": 2}, \"120\": {\"108\": 1, \"120\": 15, \"29\": 2, \"21\": 1, \"26\": 1}, \"117\": {\"117\": 118}, \"9\": {\"9\": 29, \"114\": 1, \"47\": 2}, \"108\": {\"108\": 110, \"11\": 2, \"43\": 3, \"24\": 3, \"10\": 2, \"93\": 1, \"15\": 1, \"109\": 1, \"27\": 1}, \"83\": {\"98\": 2, \"75\": 1, \"83\": 16, \"73\": 2, \"20\": 1, \"32\": 2, \"89\": 2, \"85\": 2}, \"14\": {\"14\": 82, \"8\": 1, \"105\": 4, \"101\": 4, \"44\": 2, \"40\": 2, \"110\": 1}, \"63\": {\"63\": 13, \"66\": 1, \"13\": 1, \"116\": 1}, \"11\": {\"11\": 99, \"87\": 3, \"39\": 1, \"108\": 3, \"43\": 5, \"126\": 5, \"122\": 2}, \"95\": {\"95\": 35, \"60\": 1}, \"26\": {\"26\": 118, \"69\": 5, \"36\": 1, \"18\": 2, \"16\": 3, \"93\": 1}, \"22\": {\"22\": 11, \"15\": 1, \"98\": 1, \"80\": 1, \"64\": 1, \"5\": 1}, \"102\": {\"102\": 118, \"129\": 2}, \"69\": {\"69\": 92, \"39\": 5, \"70\": 1, \"109\": 2, \"26\": 4, \"62\": 2}, \"1\": {\"1\": 127, \"44\": 2, \"114\": 1}, \"67\": {\"67\": 16}, \"57\": {\"57\": 11, \"45\": 1}, \"8\": {\"8\": 128, \"10\": 1, \"93\": 4, \"87\": 1}, \"109\": {\"109\": 123, \"39\": 1}, \"129\": {\"91\": 2, \"45\": 2, \"129\": 11, \"102\": 2, \"116\": 3, \"65\": 2, \"83\": 1, \"13\": 2, \"98\": 1, \"2\": 1, \"86\": 1}, \"111\": {\"111\": 112, \"6\": 1, \"98\": 2, \"112\": 1, \"68\": 2, \"124\": 2}, \"71\": {\"71\": 76, \"109\": 1, \"12\": 3, \"106\": 2, \"127\": 14, \"1\": 2, \"40\": 2, \"101\": 4, \"39\": 1, \"113\": 1, \"70\": 1, \"114\": 1}, \"47\": {\"71\": 1, \"47\": 3, \"107\": 2, \"54\": 2, \"91\": 2, \"19\": 2}, \"82\": {\"82\": 27, \"100\": 2, \"28\": 2, \"1\": 1, \"128\": 1, \"64\": 1, \"102\": 1, \"90\": 1}, \"27\": {\"27\": 68, \"30\": 1, \"110\": 1, \"24\": 5, \"94\": 6, \"8\": 2, \"93\": 1, \"15\": 1, \"88\": 3, \"87\": 2, \"126\": 1, \"36\": 1}, \"19\": {\"53\": 1, \"82\": 1, \"19\": 18, \"73\": 1, \"9\": 2, \"101\": 1, \"85\": 1, \"34\": 1, \"25\": 1, \"81\": 1}, \"122\": {\"11\": 1, \"122\": 69, \"39\": 1, \"43\": 8, \"93\": 3, \"87\": 4, \"7\": 2}, \"53\": {\"47\": 1, \"53\": 19}, \"87\": {\"122\": 5, \"87\": 89, \"30\": 1, \"70\": 1, \"52\": 1, \"93\": 4, \"8\": 5, \"43\": 2}, \"100\": {\"82\": 1, \"100\": 10, \"1\": 2, \"33\": 2, \"99\": 1}, \"66\": {\"66\": 14, \"90\": 2}, \"31\": {\"31\": 11, \"114\": 2, \"49\": 2, \"44\": 1}, \"58\": {\"58\": 12}, \"68\": {\"68\": 15, \"58\": 1}, \"88\": {\"88\": 75, \"97\": 1, \"108\": 7, \"93\": 13, \"113\": 2, \"10\": 1, \"11\": 2, \"8\": 1, \"43\": 1, \"126\": 5, \"24\": 3, \"30\": 1, \"122\": 1, \"27\": 1}, \"45\": {\"129\": 1, \"57\": 2, \"2\": 4, \"109\": 1, \"45\": 2, \"55\": 1, \"120\": 1}, \"114\": {\"114\": 121, \"105\": 2, \"9\": 1, \"83\": 1, \"107\": 2, \"40\": 1}, \"23\": {\"122\": 1, \"3\": 1, \"0\": 2, \"84\": 1, \"23\": 9, \"97\": 1, \"60\": 2, \"110\": 1, \"15\": 2, \"7\": 2, \"105\": 2}, \"65\": {\"58\": 1, \"65\": 4, \"2\": 1, \"129\": 1, \"25\": 2, \"73\": 1, \"51\": 1, \"70\": 1}, \"124\": {\"124\": 113, \"111\": 2, \"5\": 3}, \"10\": {\"10\": 104, \"70\": 7, \"5\": 1, \"108\": 3, \"109\": 2, \"21\": 2, \"11\": 1}, \"92\": {\"92\": 28}, \"40\": {\"40\": 91, \"35\": 1, \"14\": 10, \"71\": 1, \"12\": 5, \"127\": 3, \"107\": 2, \"114\": 3, \"106\": 9, \"101\": 10, \"105\": 5, \"10\": 1, \"81\": 1, \"49\": 1, \"39\": 1}, \"73\": {\"73\": 15, \"109\": 1, \"89\": 1, \"9\": 1, \"108\": 1, \"31\": 1}, \"94\": {\"94\": 62, \"27\": 6, \"36\": 2, \"106\": 1, \"12\": 1, \"15\": 13, \"0\": 6, \"118\": 1}, \"81\": {\"81\": 23, \"3\": 1, \"114\": 1, \"32\": 1, \"19\": 2}, \"101\": {\"101\": 107, \"7\": 1, \"127\": 1, \"90\": 1}, \"86\": {\"86\": 27, \"6\": 2, \"21\": 1, \"4\": 1, \"111\": 1, \"124\": 2, \"44\": 1, \"69\": 1}, \"78\": {\"78\": 7, \"39\": 2, \"109\": 3, \"70\": 2, \"122\": 2}, \"96\": {\"96\": 13, \"60\": 1, \"44\": 1, \"3\": 1, \"118\": 2, \"42\": 1, \"87\": 1}, \"5\": {\"5\": 71, \"124\": 6, \"98\": 2, \"70\": 1, \"109\": 2, \"46\": 1, \"118\": 1, \"104\": 1, \"129\": 1, \"91\": 2}, \"16\": {\"16\": 77, \"26\": 18, \"10\": 1, \"69\": 3, \"18\": 6, \"21\": 1, \"39\": 1, \"109\": 1}, \"35\": {\"35\": 12}, \"51\": {\"51\": 12, \"32\": 1, \"29\": 1, \"98\": 1, \"52\": 1}, \"46\": {\"46\": 7, \"6\": 1, \"124\": 1, \"37\": 2, \"103\": 1}, \"20\": {\"20\": 15, \"34\": 1}, \"116\": {\"102\": 7, \"116\": 19, \"90\": 1, \"45\": 1, \"61\": 2, \"2\": 1, \"109\": 1}, \"75\": {\"89\": 2, \"75\": 7, \"56\": 1, \"114\": 2, \"103\": 1, \"34\": 1, \"107\": 2}, \"43\": {\"43\": 108, \"126\": 1, \"10\": 2, \"11\": 3, \"39\": 1, \"88\": 1, \"87\": 2, \"122\": 3, \"93\": 6, \"109\": 1}, \"17\": {\"111\": 3, \"17\": 7, \"124\": 4, \"4\": 1, \"68\": 1}, \"12\": {\"12\": 97, \"101\": 4, \"10\": 1, \"106\": 1, \"71\": 1}, \"25\": {\"25\": 9, \"83\": 1, \"42\": 1, \"40\": 2, \"129\": 1, \"2\": 1, \"19\": 1}, \"54\": {\"54\": 10, \"17\": 1, \"83\": 1, \"89\": 2, \"105\": 1, \"38\": 1}, \"36\": {\"36\": 75, \"106\": 3, \"94\": 7, \"71\": 1, \"27\": 3, \"39\": 1, \"84\": 3, \"15\": 6, \"113\": 1, \"105\": 1, \"110\": 5, \"88\": 2, \"10\": 1, \"12\": 1, \"101\": 1, \"7\": 1}, \"52\": {\"52\": 19, \"37\": 1}, \"61\": {\"61\": 11, \"100\": 1}, \"106\": {\"106\": 119, \"12\": 1}, \"39\": {\"39\": 98, \"109\": 2, \"70\": 2, \"118\": 2}, \"119\": {\"119\": 16}, \"125\": {\"125\": 148}, \"93\": {\"93\": 136, \"43\": 4, \"122\": 1, \"30\": 1, \"108\": 2, \"87\": 1, \"88\": 1, \"24\": 2}, \"115\": {\"115\": 12}, \"21\": {\"21\": 32, \"118\": 2, \"94\": 1, \"116\": 1, \"11\": 2, \"109\": 2}, \"41\": {\"86\": 1, \"41\": 15}}, \"Wisig_4\": {\"55\": {\"55\": 12, \"29\": 1, \"95\": 1, \"82\": 1, \"103\": 1}, \"9\": {\"111\": 1, \"9\": 17, \"34\": 3, \"85\": 1, \"51\": 1, \"53\": 2, \"58\": 1, \"33\": 1, \"71\": 1}, \"70\": {\"70\": 99, \"108\": 4, \"10\": 8, \"109\": 2, \"39\": 1, \"43\": 3, \"88\": 2, \"27\": 1, \"23\": 1, \"87\": 1}, \"112\": {\"115\": 1, \"112\": 10, \"52\": 1, \"29\": 1, \"129\": 1, \"73\": 1, \"98\": 1}, \"115\": {\"55\": 4, \"36\": 1, \"37\": 1, \"79\": 1, \"115\": 5, \"18\": 2, \"6\": 1, \"129\": 1}, \"56\": {\"56\": 6, \"1\": 1, \"82\": 2, \"17\": 1, \"19\": 2}, \"108\": {\"108\": 65, \"12\": 1, \"109\": 8, \"1\": 1, \"88\": 5, \"102\": 1, \"43\": 3, \"118\": 1, \"70\": 5, \"94\": 1, \"114\": 1}, \"117\": {\"117\": 122, \"124\": 1, \"104\": 1}, \"111\": {\"4\": 2, \"111\": 118, \"42\": 2, \"124\": 7, \"88\": 1, \"108\": 1, \"113\": 1}, \"71\": {\"71\": 81, \"108\": 1, \"3\": 1, \"40\": 4, \"1\": 3, \"15\": 1, \"127\": 4, \"114\": 1, \"12\": 1, \"49\": 1, \"36\": 1, \"105\": 1, \"126\": 3, \"10\": 1}, \"59\": {\"59\": 11, \"86\": 1}, \"10\": {\"10\": 92, \"27\": 3, \"70\": 10, \"30\": 3, \"88\": 2, \"43\": 2, \"87\": 2, \"24\": 4, \"109\": 3, \"110\": 1, \"126\": 1, \"108\": 1}, \"83\": {\"83\": 19, \"89\": 1, \"128\": 3, \"51\": 1, \"107\": 1, \"3\": 1, \"20\": 1, \"52\": 1}, \"116\": {\"116\": 19, \"115\": 1, \"48\": 1, \"66\": 2, \"79\": 1, \"102\": 3, \"50\": 1}, \"13\": {\"116\": 2, \"13\": 14}, \"4\": {\"59\": 2, \"4\": 97, \"125\": 4, \"126\": 1}, \"125\": {\"125\": 104, \"117\": 1, \"90\": 1}, \"102\": {\"102\": 120, \"119\": 1, \"109\": 1, \"116\": 1, \"108\": 1}, \"47\": {\"47\": 12}, \"28\": {\"28\": 14, \"31\": 1, \"79\": 1, \"56\": 1, \"64\": 1, \"41\": 1, \"42\": 1}, \"82\": {\"82\": 23, \"28\": 1, \"128\": 1, \"114\": 1, \"4\": 1, \"45\": 1, \"76\": 1, \"95\": 1, \"98\": 1, \"40\": 1}, \"60\": {\"60\": 24, \"14\": 1, \"7\": 2, \"84\": 1, \"101\": 2, \"96\": 1, \"15\": 1}, \"107\": {\"107\": 121, \"5\": 1, \"40\": 1, \"7\": 1, \"114\": 3, \"33\": 3, \"105\": 1, \"3\": 1, \"106\": 2}, \"75\": {\"58\": 3, \"128\": 1, \"75\": 11, \"34\": 1}, \"31\": {\"107\": 2, \"31\": 10, \"128\": 1, \"45\": 1, \"33\": 1, \"20\": 1}, \"92\": {\"92\": 25, \"99\": 2, \"22\": 1}, \"58\": {\"58\": 16}, \"113\": {\"113\": 125, \"21\": 1, \"39\": 1, \"108\": 1}, \"95\": {\"82\": 2, \"95\": 23, \"9\": 2, \"19\": 1, \"128\": 2, \"114\": 1, \"51\": 1}, \"14\": {\"14\": 101, \"126\": 1, \"69\": 2, \"40\": 1, \"107\": 1, \"88\": 1, \"7\": 4, \"109\": 1}, \"17\": {\"17\": 19, \"37\": 1}, \"104\": {\"104\": 14, \"41\": 1, \"17\": 1}, \"72\": {\"72\": 23, \"104\": 1, \"7\": 3, \"14\": 1, \"45\": 1, \"32\": 1, \"60\": 1, \"49\": 1}, \"69\": {\"69\": 113, \"88\": 1, \"7\": 1, \"101\": 2, \"33\": 2, \"21\": 1, \"39\": 1, \"14\": 2, \"109\": 1, \"16\": 2, \"3\": 2}, \"63\": {\"63\": 16}, \"12\": {\"12\": 75, \"51\": 2, \"106\": 10, \"127\": 3, \"105\": 4, \"101\": 1, \"90\": 1, \"64\": 1, \"15\": 2, \"88\": 1}, \"25\": {\"25\": 14, \"75\": 2}, \"67\": {\"63\": 1, \"128\": 1, \"76\": 1, \"67\": 3, \"44\": 1, \"48\": 1, \"100\": 2, \"92\": 2, \"123\": 2, \"33\": 1, \"117\": 1}, \"50\": {\"50\": 12, \"112\": 1, \"129\": 1, \"85\": 1, \"9\": 1}, \"43\": {\"43\": 107, \"23\": 2, \"70\": 2, \"10\": 2, \"110\": 1, \"88\": 1, \"62\": 2, \"118\": 1, \"122\": 1, \"114\": 1}, \"96\": {\"96\": 12, \"43\": 1, \"87\": 1, \"84\": 1, \"113\": 1, \"69\": 2, \"118\": 1, \"16\": 1}, \"128\": {\"128\": 16, \"85\": 1, \"100\": 2, \"46\": 2, \"89\": 2, \"32\": 1}, \"77\": {\"77\": 12}, \"54\": {\"103\": 1, \"54\": 10, \"111\": 1, \"53\": 1, \"41\": 1, \"95\": 2}, \"118\": {\"118\": 76, \"108\": 1, \"87\": 7, \"39\": 3, \"88\": 1, \"122\": 9, \"43\": 8, \"110\": 3, \"11\": 1, \"126\": 1, \"78\": 1, \"21\": 1}, \"30\": {\"30\": 41, \"8\": 9, \"93\": 1, \"27\": 7, \"0\": 9, \"15\": 5, \"87\": 1, \"127\": 2, \"94\": 1}, \"51\": {\"46\": 2, \"127\": 1, \"51\": 7, \"34\": 1, \"9\": 2, \"87\": 1, \"95\": 1, \"94\": 1}, \"122\": {\"118\": 3, \"122\": 56, \"110\": 7, \"0\": 2, \"11\": 2, \"87\": 2, \"39\": 1, \"108\": 1, \"23\": 2, \"43\": 4, \"70\": 2, \"30\": 1, \"109\": 1}, \"46\": {\"46\": 15, \"72\": 1, \"107\": 3, \"56\": 1}, \"79\": {\"79\": 16}, \"103\": {\"103\": 10, \"29\": 4, \"111\": 1, \"55\": 1}, \"74\": {\"103\": 1, \"74\": 10, \"72\": 1, \"42\": 1, \"33\": 1, \"5\": 2}, \"90\": {\"90\": 144, \"2\": 1, \"102\": 1}, \"8\": {\"8\": 127, \"12\": 1, \"60\": 2, \"24\": 1, \"15\": 5, \"0\": 2, \"90\": 1, \"7\": 2, \"39\": 1}, \"94\": {\"94\": 36, \"101\": 4, \"72\": 1, \"0\": 3, \"7\": 5, \"106\": 3, \"71\": 1, \"36\": 4, \"15\": 9, \"24\": 3, \"4\": 1, \"30\": 2, \"8\": 5, \"11\": 2, \"27\": 1, \"43\": 1, \"126\": 2, \"105\": 1, \"78\": 1, \"12\": 2, \"62\": 1}, \"7\": {\"7\": 106, \"36\": 1, \"10\": 1, \"0\": 3, \"70\": 1, \"126\": 1, \"11\": 2, \"60\": 2, \"94\": 1, \"15\": 2, \"40\": 2}, \"61\": {\"61\": 15, \"121\": 1}, \"26\": {\"26\": 119, \"126\": 1}, \"127\": {\"127\": 97, \"106\": 3, \"71\": 3, \"126\": 1, \"105\": 2, \"1\": 1, \"40\": 1}, \"23\": {\"7\": 3, \"26\": 1, \"21\": 1, \"60\": 1, \"87\": 1, \"88\": 1, \"70\": 2, \"23\": 3, \"108\": 1, \"122\": 1, \"40\": 1}, \"1\": {\"1\": 58, \"99\": 2, \"114\": 7, \"71\": 10, \"3\": 8, \"127\": 3, \"40\": 10, \"107\": 1, \"10\": 1, \"88\": 1, \"39\": 1, \"14\": 2, \"105\": 3, \"7\": 1}, \"93\": {\"93\": 126, \"96\": 1, \"11\": 2, \"122\": 1, \"110\": 2, \"16\": 2}, \"106\": {\"106\": 80, \"127\": 7, \"12\": 14, \"108\": 1, \"18\": 1, \"51\": 2, \"126\": 1, \"39\": 2, \"118\": 1, \"109\": 1, \"105\": 2, \"113\": 1, \"27\": 1, \"21\": 1, \"26\": 1}, \"110\": {\"110\": 109, \"122\": 4, \"93\": 2, \"39\": 1, \"11\": 2}, \"76\": {\"76\": 13, \"40\": 2, \"72\": 1}, \"36\": {\"36\": 64, \"24\": 7, \"97\": 1, \"60\": 3, \"15\": 3, \"8\": 7, \"10\": 4, \"30\": 10, \"0\": 9, \"101\": 1, \"27\": 3, \"11\": 2, \"7\": 2, \"96\": 1, \"12\": 1, \"109\": 1, \"87\": 1}, \"21\": {\"21\": 39, \"78\": 1}, \"37\": {\"37\": 12, \"17\": 2, \"104\": 1, \"42\": 1}, \"11\": {\"11\": 104, \"87\": 6, \"7\": 1, \"110\": 2, \"93\": 4, \"33\": 1, \"122\": 1, \"8\": 1}, \"109\": {\"109\": 103, \"108\": 3, \"39\": 3, \"88\": 6, \"126\": 1}, \"62\": {\"21\": 1, \"27\": 1, \"62\": 40, \"126\": 2, \"110\": 3, \"113\": 2, \"0\": 1, \"118\": 2, \"11\": 4, \"43\": 1, \"122\": 1, \"7\": 2}, \"89\": {\"89\": 29, \"99\": 1, \"107\": 1, \"32\": 1}, \"126\": {\"126\": 121, \"39\": 3}, \"101\": {\"101\": 112, \"8\": 6, \"88\": 2, \"12\": 2, \"126\": 1, \"93\": 1, \"15\": 2, \"117\": 1, \"18\": 1}, \"65\": {\"65\": 12}, \"19\": {\"19\": 14, \"82\": 1, \"98\": 2, \"9\": 1, \"92\": 2, \"34\": 1, \"75\": 1, \"57\": 1, \"91\": 2, \"66\": 1, \"56\": 1, \"74\": 1}, \"27\": {\"27\": 81, \"122\": 2, \"0\": 2, \"15\": 1, \"87\": 3, \"36\": 1, \"10\": 4, \"43\": 3, \"30\": 1, \"24\": 1, \"126\": 1}, \"5\": {\"5\": 125, \"21\": 1, \"3\": 3, \"88\": 2, \"49\": 1, \"1\": 2, \"33\": 2}, \"73\": {\"19\": 2, \"98\": 3, \"41\": 2, \"73\": 12, \"85\": 1, \"79\": 1, \"9\": 1, \"57\": 2}, \"6\": {\"6\": 22, \"111\": 1, \"86\": 1}, \"29\": {\"29\": 31, \"103\": 1}, \"114\": {\"114\": 109, \"40\": 2, \"107\": 6, \"1\": 6, \"127\": 2, \"113\": 1, \"33\": 2}, \"49\": {\"49\": 17, \"106\": 3, \"107\": 2, \"44\": 1, \"105\": 1, \"114\": 1, \"51\": 1, \"1\": 1, \"127\": 1, \"40\": 1, \"12\": 2, \"71\": 1}, \"16\": {\"16\": 107, \"96\": 1, \"84\": 2, \"93\": 4, \"113\": 1, \"109\": 1, \"69\": 1, \"126\": 1}, \"68\": {\"68\": 13, \"124\": 1, \"129\": 1, \"98\": 1}, \"98\": {\"98\": 101, \"58\": 1, \"112\": 4, \"100\": 1, \"19\": 1, \"18\": 1, \"129\": 1, \"5\": 1, \"33\": 1, \"9\": 1, \"41\": 2, \"85\": 1, \"111\": 4}, \"64\": {\"64\": 15, \"115\": 1}, \"121\": {\"121\": 20, \"90\": 1, \"49\": 1, \"11\": 1, \"44\": 1, \"61\": 1, \"18\": 2, \"92\": 1, \"81\": 2, \"117\": 2}, \"124\": {\"124\": 111, \"111\": 3}, \"97\": {\"97\": 11, \"62\": 2, \"36\": 1, \"0\": 2, \"118\": 1, \"43\": 1, \"109\": 2}, \"40\": {\"40\": 103, \"99\": 4, \"71\": 7, \"34\": 1, \"107\": 3, \"105\": 6, \"114\": 2, \"1\": 6, \"89\": 1, \"33\": 1, \"127\": 1, \"14\": 1}, \"119\": {\"119\": 15, \"42\": 1}, \"100\": {\"89\": 3, \"40\": 1, \"100\": 8, \"53\": 1, \"5\": 1, \"129\": 1, \"128\": 2, \"49\": 1, \"76\": 2}, \"87\": {\"87\": 113, \"15\": 1, \"118\": 1, \"101\": 1}, \"88\": {\"88\": 80, \"108\": 12, \"109\": 14, \"78\": 4, \"24\": 1, \"39\": 5, \"70\": 6, \"126\": 3, \"21\": 3}, \"52\": {\"52\": 11, \"78\": 1, \"85\": 2, \"1\": 2, \"128\": 2, \"104\": 1, \"43\": 1}, \"80\": {\"80\": 15, \"6\": 1}, \"105\": {\"105\": 72, \"101\": 2, \"12\": 5, \"40\": 6, \"86\": 1, \"71\": 3, \"39\": 2, \"14\": 4, \"3\": 1, \"109\": 1, \"127\": 1, \"126\": 2}, \"32\": {\"46\": 1, \"32\": 21, \"107\": 3, \"100\": 1, \"74\": 1, \"89\": 1}, \"35\": {\"18\": 4, \"35\": 6, \"81\": 2}, \"99\": {\"99\": 30, \"72\": 2, \"40\": 3, \"8\": 1, \"69\": 1, \"14\": 2, \"7\": 1}, \"18\": {\"18\": 116, \"35\": 1, \"81\": 1, \"126\": 1, \"30\": 1}, \"24\": {\"70\": 7, \"10\": 10, \"24\": 55, \"8\": 1, \"94\": 2, \"27\": 9, \"43\": 7, \"36\": 8, \"88\": 2, \"108\": 1, \"30\": 4, \"0\": 1, \"87\": 1, \"118\": 3, \"109\": 1}, \"85\": {\"85\": 23, \"39\": 1, \"52\": 1, \"98\": 1, \"107\": 2}, \"39\": {\"39\": 100}, \"123\": {\"123\": 16}, \"91\": {\"47\": 1, \"91\": 19, \"34\": 1, \"58\": 1, \"129\": 1, \"55\": 1}, \"78\": {\"78\": 25, \"21\": 2, \"70\": 2, \"88\": 4, \"39\": 1, \"109\": 2}, \"38\": {\"38\": 15, \"121\": 1}, \"15\": {\"8\": 11, \"15\": 96, \"94\": 2, \"30\": 1, \"101\": 5, \"126\": 1, \"39\": 2, \"0\": 3, \"12\": 1, \"7\": 4, \"109\": 1, \"36\": 1}, \"48\": {\"48\": 14, \"63\": 1, \"66\": 1}, \"45\": {\"45\": 13, \"120\": 2, \"31\": 1}, \"120\": {\"45\": 4, \"120\": 13, \"52\": 2, \"37\": 1}, \"44\": {\"38\": 1, \"44\": 56, \"3\": 2, \"5\": 3, \"49\": 1, \"117\": 1}, \"86\": {\"86\": 26, \"122\": 1, \"21\": 1}, \"20\": {\"72\": 1, \"40\": 2, \"20\": 11, \"14\": 1, \"1\": 1}, \"33\": {\"33\": 140, \"90\": 1, \"40\": 2, \"1\": 2, \"107\": 1, \"21\": 1, \"5\": 1, \"71\": 1, \"126\": 1}, \"129\": {\"129\": 14, \"73\": 1, \"68\": 2, \"22\": 1, \"102\": 2, \"41\": 1, \"124\": 1, \"91\": 1, \"112\": 1, \"50\": 1, \"128\": 1, \"115\": 1, \"48\": 1}, \"34\": {\"9\": 5, \"34\": 6, \"127\": 1, \"51\": 1, \"14\": 1, \"105\": 6, \"114\": 2, \"40\": 2, \"82\": 1, \"15\": 1, \"33\": 2, \"128\": 2, \"99\": 1, \"1\": 1}, \"81\": {\"81\": 35, \"21\": 1}, \"57\": {\"57\": 11, \"32\": 1, \"24\": 1, \"100\": 1, \"90\": 1, \"70\": 1}, \"0\": {\"0\": 82, \"30\": 8, \"8\": 13, \"87\": 4, \"126\": 1, \"7\": 3, \"11\": 1, \"36\": 2, \"110\": 1, \"70\": 1}, \"2\": {\"2\": 22, \"90\": 2, \"117\": 3, \"102\": 1}, \"42\": {\"103\": 1, \"102\": 2, \"42\": 17, \"73\": 1, \"91\": 1, \"29\": 3, \"47\": 1, \"79\": 1, \"124\": 1}, \"84\": {\"69\": 10, \"84\": 106, \"39\": 1, \"96\": 2, \"70\": 1, \"16\": 4, \"14\": 2, \"113\": 1, \"11\": 1, \"26\": 1, \"3\": 1, \"117\": 1, \"93\": 1}, \"3\": {\"3\": 92, \"33\": 3, \"71\": 8, \"21\": 1, \"1\": 4, \"126\": 1, \"5\": 5, \"40\": 4, \"49\": 2, \"23\": 1, \"39\": 1, \"88\": 1, \"127\": 2, \"98\": 1}, \"41\": {\"73\": 1, \"42\": 1, \"41\": 13, \"76\": 1}, \"53\": {\"53\": 13, \"41\": 1, \"122\": 1, \"82\": 1}, \"66\": {\"66\": 15, \"57\": 1}, \"22\": {\"22\": 14, \"98\": 1, \"57\": 1}}}, \"per_domain_accuracy\": {\"ORACLE.run150\": {\"accuracy\": 0.9760416666666667, \"source?\": true}, \"ORACLE.run114\": {\"accuracy\": 0.9236979166666667, \"source?\": true}, \"ORACLE.run132\": {\"accuracy\": 0.946875, \"source?\": true}, \"ORACLE.run144\": {\"accuracy\": 0.90390625, \"source?\": true}, \"ORACLE.run18\": {\"accuracy\": 0.94453125, \"source?\": true}, \"ORACLE.run120\": {\"accuracy\": 0.9799479166666667, \"source?\": true}, \"ORACLE.run138\": {\"accuracy\": 0.9536458333333333, \"source?\": true}, \"ORACLE.run126\": {\"accuracy\": 0.9171875, \"source?\": true}, \"Wisig_3\": {\"accuracy\": 0.8608078602620087, \"source?\": false}, \"Wisig_2\": {\"accuracy\": 0.8153645833333333, \"source?\": false}, \"Wisig_1\": {\"accuracy\": 0.8583156779661016, \"source?\": false}, \"Wisig_4\": {\"accuracy\": 0.810570987654321, \"source?\": false}}}, \"history\": {\"epoch_indices\": [1, 2, 3, 4, 5, 6, 7, 8, 9, 10, 11, 12], \"train_label_loss\": [0.40326905060071677, 4.291855214799201, 0.24076516097009604, 0.24794131582346468, 0.1894055411486382, 0.17420039526020575, 0.16089300394250175, 0.14929829618285156, 0.13771394295205633, 0.12884482647541085, 0.40323071763467894, 0.11440250263977284], \"source_val_label_loss\": [118.04157257080078, 0.3133710026741028, 0.23856154084205627, 0.2434995472431183, 0.21331436932086945, 0.1968601495027542, 0.17047123610973358, 0.17002780735492706, 0.14879664778709412, 0.15880858898162842, 0.15137922763824463, 0.1369587928056717], \"target_val_label_loss\": [8501.0341796875, 203.89071655273438, 238.2676544189453, 58.29412841796875, 65.62297821044922, 65.8774185180664, 116.81887817382812, 75.42808532714844, 462.7559509277344, 1224.9671630859375, 358.4455871582031, 916.3489379882812], \"source_val_acc_label\": [0.6193033854166666, 0.9007161458333334, 0.92763671875, 0.91689453125, 0.92802734375, 0.9307291666666667, 0.94248046875, 0.9432291666666667, 0.9486328125, 0.94580078125, 0.9509114583333333, 0.95302734375], \"target_val_acc_label\": [0.7795029008438819, 0.7540545886075949, 0.7436379219409283, 0.7931830168776371, 0.823378164556962, 0.8157304852320675, 0.8140493143459916, 0.8358056434599156, 0.685818829113924, 0.5685654008438819, 0.7651635021097046, 0.6708201476793249]}, \"dataset_metrics\": {\"source\": {\"train\": {\"n_unique_x\": 179200, \"n_unique_y\": 16, \"n_batch/episode\": 6720}, \"val\": {\"n_unique_x\": 38400, \"n_unique_y\": 16, \"n_batch/episode\": 960}, \"test\": {\"n_unique_x\": 38400, \"n_unique_y\": 16, \"n_batch/episode\": 960}}, \"target\": {\"train\": {\"n_unique_x\": 189008, \"n_unique_y\": 130, \"n_batch/episode\": 6831}, \"val\": {\"n_unique_x\": 40070, \"n_unique_y\": 130, \"n_batch/episode\": 948}, \"test\": {\"n_unique_x\": 40836, \"n_unique_y\": 130, \"n_batch/episode\": 967}}}}'"
      ]
     },
     "execution_count": 29,
     "metadata": {},
     "output_type": "execute_result"
    }
   ],
   "source": [
    "json.dumps(experiment)"
   ]
  }
 ],
 "metadata": {
  "celltoolbar": "Tags",
  "kernelspec": {
   "display_name": "Python 3 (ipykernel)",
   "language": "python",
   "name": "python3"
  },
  "language_info": {
   "codemirror_mode": {
    "name": "ipython",
    "version": 3
   },
   "file_extension": ".py",
   "mimetype": "text/x-python",
   "name": "python",
   "nbconvert_exporter": "python",
   "pygments_lexer": "ipython3",
   "version": "3.8.12"
  },
  "papermill": {
   "default_parameters": {},
   "duration": 3407.078306,
   "end_time": "2022-03-21T20:17:19.395673",
   "environment_variables": {},
   "exception": null,
   "input_path": "/root/csc500-main/csc500-notebooks/templates/tl_ptn_template.ipynb",
   "output_path": "trial.ipynb",
   "parameters": {
    "parameters": {
     "BEST_MODEL_PATH": "./best_model.pth",
     "NUM_LOGS_PER_EPOCH": 10,
     "criteria_for_best": "target_accuracy",
     "dataset_seed": 500,
     "datasets": [
      {
       "domain_prefix": "Wisig_",
       "domains": [
        1,
        2,
        3,
        4
       ],
       "episode_transforms": [],
       "labels": [
        "1-10",
        "1-12",
        "1-14",
        "1-16",
        "1-18",
        "1-19",
        "1-8",
        "10-11",
        "10-17",
        "10-4",
        "10-7",
        "11-1",
        "11-10",
        "11-19",
        "11-20",
        "11-4",
        "11-7",
        "12-19",
        "12-20",
        "12-7",
        "13-14",
        "13-18",
        "13-19",
        "13-20",
        "13-3",
        "13-7",
        "14-10",
        "14-11",
        "14-12",
        "14-13",
        "14-14",
        "14-19",
        "14-20",
        "14-7",
        "14-8",
        "14-9",
        "15-1",
        "15-19",
        "15-6",
        "16-1",
        "16-16",
        "16-19",
        "16-20",
        "17-10",
        "17-11",
        "18-1",
        "18-10",
        "18-11",
        "18-12",
        "18-13",
        "18-14",
        "18-15",
        "18-16",
        "18-17",
        "18-19",
        "18-2",
        "18-20",
        "18-4",
        "18-5",
        "18-7",
        "18-8",
        "18-9",
        "19-1",
        "19-10",
        "19-11",
        "19-12",
        "19-13",
        "19-14",
        "19-15",
        "19-19",
        "19-2",
        "19-20",
        "19-3",
        "19-4",
        "19-6",
        "19-7",
        "19-8",
        "19-9",
        "2-1",
        "2-13",
        "2-15",
        "2-3",
        "2-4",
        "2-5",
        "2-6",
        "2-7",
        "2-8",
        "20-1",
        "20-12",
        "20-14",
        "20-15",
        "20-16",
        "20-18",
        "20-19",
        "20-20",
        "20-3",
        "20-4",
        "20-5",
        "20-7",
        "20-8",
        "3-1",
        "3-13",
        "3-18",
        "3-2",
        "3-8",
        "4-1",
        "4-10",
        "4-11",
        "5-1",
        "5-5",
        "6-1",
        "6-15",
        "6-6",
        "7-10",
        "7-11",
        "7-12",
        "7-13",
        "7-14",
        "7-7",
        "7-8",
        "7-9",
        "8-1",
        "8-13",
        "8-14",
        "8-18",
        "8-20",
        "8-3",
        "8-8",
        "9-1",
        "9-7"
       ],
       "num_examples_per_domain_per_label": -1,
       "pickle_path": "/root/csc500-main/datasets/wisig.node3-19.stratified_ds.2022A.pkl",
       "source_or_target_dataset": "target",
       "x_transforms": []
      },
      {
       "domain_prefix": "ORACLE.run1",
       "domains": [
        32,
        38,
        8,
        44,
        14,
        50,
        20,
        26
       ],
       "episode_transforms": [],
       "labels": [
        "3123D52",
        "3123D65",
        "3123D79",
        "3123D80",
        "3123D54",
        "3123D70",
        "3123D7B",
        "3123D89",
        "3123D58",
        "3123D76",
        "3123D7D",
        "3123EFE",
        "3123D64",
        "3123D78",
        "3123D7E",
        "3124E4A"
       ],
       "num_examples_per_domain_per_label": 2000,
       "pickle_path": "/root/csc500-main/datasets/oracle.Run1_framed_2000Examples_stratified_ds.2022A.pkl",
       "source_or_target_dataset": "source",
       "x_transforms": []
      }
     ],
     "device": "cuda",
     "experiment_name": "tl_1v2:wisig-oracle.run1.framed",
     "lr": 0.0001,
     "n_epoch": 50,
     "n_query": 2,
     "n_shot": 3,
     "n_way": 16,
     "patience": 3,
     "seed": 500,
     "test_k_factor": 2,
     "torch_default_dtype": "torch.float32",
     "train_k_factor": 3,
     "val_k_factor": 2,
     "x_net": [
      {
       "class": "nnReshape",
       "kargs": {
        "shape": [
         -1,
         1,
         2,
         256
        ]
       }
      },
      {
       "class": "Conv2d",
       "kargs": {
        "bias": false,
        "in_channels": 1,
        "kernel_size": [
         1,
         7
        ],
        "out_channels": 256,
        "padding": [
         0,
         3
        ]
       }
      },
      {
       "class": "ReLU",
       "kargs": {
        "inplace": true
       }
      },
      {
       "class": "BatchNorm2d",
       "kargs": {
        "num_features": 256
       }
      },
      {
       "class": "Conv2d",
       "kargs": {
        "bias": true,
        "in_channels": 256,
        "kernel_size": [
         2,
         7
        ],
        "out_channels": 80,
        "padding": [
         0,
         3
        ]
       }
      },
      {
       "class": "ReLU",
       "kargs": {
        "inplace": true
       }
      },
      {
       "class": "BatchNorm2d",
       "kargs": {
        "num_features": 80
       }
      },
      {
       "class": "Flatten",
       "kargs": {}
      },
      {
       "class": "Linear",
       "kargs": {
        "in_features": 20480,
        "out_features": 256
       }
      },
      {
       "class": "ReLU",
       "kargs": {
        "inplace": true
       }
      },
      {
       "class": "BatchNorm1d",
       "kargs": {
        "num_features": 256
       }
      },
      {
       "class": "Linear",
       "kargs": {
        "in_features": 256,
        "out_features": 256
       }
      }
     ]
    }
   },
   "start_time": "2022-03-21T19:20:32.317367",
   "version": "2.3.4"
  }
 },
 "nbformat": 4,
 "nbformat_minor": 5
}