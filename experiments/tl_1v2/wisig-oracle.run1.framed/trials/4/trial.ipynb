{
 "cells": [
  {
   "cell_type": "markdown",
   "id": "9fea5f46",
   "metadata": {
    "papermill": {
     "duration": 0.033161,
     "end_time": "2022-03-21T06:33:54.164810",
     "exception": false,
     "start_time": "2022-03-21T06:33:54.131649",
     "status": "completed"
    },
    "tags": []
   },
   "source": [
    "# Transfer Learning Template"
   ]
  },
  {
   "cell_type": "code",
   "execution_count": 1,
   "id": "0902182a",
   "metadata": {
    "execution": {
     "iopub.execute_input": "2022-03-21T06:33:54.228279Z",
     "iopub.status.busy": "2022-03-21T06:33:54.226312Z",
     "iopub.status.idle": "2022-03-21T06:33:56.298743Z",
     "shell.execute_reply": "2022-03-21T06:33:56.297872Z"
    },
    "papermill": {
     "duration": 2.111251,
     "end_time": "2022-03-21T06:33:56.298931",
     "exception": false,
     "start_time": "2022-03-21T06:33:54.187680",
     "status": "completed"
    },
    "tags": []
   },
   "outputs": [],
   "source": [
    "%load_ext autoreload\n",
    "%autoreload 2\n",
    "%matplotlib inline\n",
    "\n",
    "    \n",
    "import os, json, sys, time, random\n",
    "import numpy as np\n",
    "import torch\n",
    "from torch.optim import Adam\n",
    "from  easydict import EasyDict\n",
    "import matplotlib.pyplot as plt\n",
    "\n",
    "from steves_models.steves_ptn import Steves_Prototypical_Network\n",
    "\n",
    "from steves_utils.lazy_iterable_wrapper import Lazy_Iterable_Wrapper\n",
    "from steves_utils.iterable_aggregator import Iterable_Aggregator\n",
    "from steves_utils.ptn_train_eval_test_jig import  PTN_Train_Eval_Test_Jig\n",
    "from steves_utils.torch_sequential_builder import build_sequential\n",
    "from steves_utils.torch_utils import get_dataset_metrics, ptn_confusion_by_domain_over_dataloader\n",
    "from steves_utils.utils_v2 import (per_domain_accuracy_from_confusion, get_datasets_base_path)\n",
    "from steves_utils.PTN.utils import independent_accuracy_assesment\n",
    "\n",
    "from torch.utils.data import DataLoader\n",
    "\n",
    "from steves_utils.stratified_dataset.episodic_accessor import Episodic_Accessor_Factory\n",
    "\n",
    "from steves_utils.ptn_do_report import (\n",
    "    get_loss_curve,\n",
    "    get_results_table,\n",
    "    get_parameters_table,\n",
    "    get_domain_accuracies,\n",
    ")\n",
    "\n",
    "from steves_utils.transforms import get_chained_transform"
   ]
  },
  {
   "cell_type": "markdown",
   "id": "41c840b4",
   "metadata": {
    "papermill": {
     "duration": 0.019641,
     "end_time": "2022-03-21T06:33:56.344002",
     "exception": false,
     "start_time": "2022-03-21T06:33:56.324361",
     "status": "completed"
    },
    "tags": []
   },
   "source": [
    "# Allowed Parameters\n",
    "These are allowed parameters, not defaults\n",
    "Each of these values need to be present in the injected parameters (the notebook will raise an exception if they are not present)\n",
    "\n",
    "Papermill uses the cell tag \"parameters\" to inject the real parameters below this cell.\n",
    "Enable tags to see what I mean"
   ]
  },
  {
   "cell_type": "code",
   "execution_count": 2,
   "id": "fd44eb83",
   "metadata": {
    "execution": {
     "iopub.execute_input": "2022-03-21T06:33:56.390113Z",
     "iopub.status.busy": "2022-03-21T06:33:56.389448Z",
     "iopub.status.idle": "2022-03-21T06:33:56.420937Z",
     "shell.execute_reply": "2022-03-21T06:33:56.420221Z"
    },
    "papermill": {
     "duration": 0.057609,
     "end_time": "2022-03-21T06:33:56.421098",
     "exception": false,
     "start_time": "2022-03-21T06:33:56.363489",
     "status": "completed"
    },
    "tags": []
   },
   "outputs": [],
   "source": [
    "required_parameters = {\n",
    "    \"experiment_name\",\n",
    "    \"lr\",\n",
    "    \"device\",\n",
    "    \"seed\",\n",
    "    \"dataset_seed\",\n",
    "    \"n_shot\",\n",
    "    \"n_query\",\n",
    "    \"n_way\",\n",
    "    \"train_k_factor\",\n",
    "    \"val_k_factor\",\n",
    "    \"test_k_factor\",\n",
    "    \"n_epoch\",\n",
    "    \"patience\",\n",
    "    \"criteria_for_best\",\n",
    "    \"x_net\",\n",
    "    \"datasets\",\n",
    "    \"torch_default_dtype\",\n",
    "    \"NUM_LOGS_PER_EPOCH\",\n",
    "    \"BEST_MODEL_PATH\",\n",
    "    \"x_shape\",\n",
    "}"
   ]
  },
  {
   "cell_type": "code",
   "execution_count": 3,
   "id": "fa3f0049",
   "metadata": {
    "execution": {
     "iopub.execute_input": "2022-03-21T06:33:56.481793Z",
     "iopub.status.busy": "2022-03-21T06:33:56.480865Z",
     "iopub.status.idle": "2022-03-21T06:33:56.501284Z",
     "shell.execute_reply": "2022-03-21T06:33:56.500557Z"
    },
    "papermill": {
     "duration": 0.055885,
     "end_time": "2022-03-21T06:33:56.501452",
     "exception": false,
     "start_time": "2022-03-21T06:33:56.445567",
     "status": "completed"
    },
    "tags": [
     "parameters"
    ]
   },
   "outputs": [],
   "source": [
    "from steves_utils.CORES.utils import (\n",
    "    ALL_NODES,\n",
    "    ALL_NODES_MINIMUM_1000_EXAMPLES,\n",
    "    ALL_DAYS\n",
    ")\n",
    "\n",
    "from steves_utils.ORACLE.utils_v2 import (\n",
    "    ALL_DISTANCES_FEET_NARROWED,\n",
    "    ALL_RUNS,\n",
    "    ALL_SERIAL_NUMBERS,\n",
    ")\n",
    "\n",
    "standalone_parameters = {}\n",
    "standalone_parameters[\"experiment_name\"] = \"STANDALONE PTN\"\n",
    "standalone_parameters[\"lr\"] = 0.001\n",
    "standalone_parameters[\"device\"] = \"cuda\"\n",
    "\n",
    "standalone_parameters[\"seed\"] = 1337\n",
    "standalone_parameters[\"dataset_seed\"] = 1337\n",
    "\n",
    "standalone_parameters[\"n_way\"] = 8\n",
    "standalone_parameters[\"n_shot\"] = 3\n",
    "standalone_parameters[\"n_query\"]  = 2\n",
    "standalone_parameters[\"train_k_factor\"] = 1\n",
    "standalone_parameters[\"val_k_factor\"] = 2\n",
    "standalone_parameters[\"test_k_factor\"] = 2\n",
    "\n",
    "\n",
    "standalone_parameters[\"n_epoch\"] = 50\n",
    "\n",
    "standalone_parameters[\"patience\"] = 10\n",
    "standalone_parameters[\"criteria_for_best\"] = \"source_loss\"\n",
    "\n",
    "standalone_parameters[\"datasets\"] = [\n",
    "    {\n",
    "        \"labels\": ALL_SERIAL_NUMBERS,\n",
    "        \"domains\": ALL_DISTANCES_FEET_NARROWED,\n",
    "        \"num_examples_per_domain_per_label\": 100,\n",
    "        \"pickle_path\": os.path.join(get_datasets_base_path(), \"oracle.Run1_framed_2000Examples_stratified_ds.2022A.pkl\"),\n",
    "        \"source_or_target_dataset\": \"source\",\n",
    "        \"x_transforms\": [\"unit_mag\", \"minus_two\"],\n",
    "        \"episode_transforms\": [],\n",
    "        \"domain_prefix\": \"ORACLE_\"\n",
    "    },\n",
    "    {\n",
    "        \"labels\": ALL_NODES,\n",
    "        \"domains\": ALL_DAYS,\n",
    "        \"num_examples_per_domain_per_label\": 100,\n",
    "        \"pickle_path\": os.path.join(get_datasets_base_path(), \"cores.stratified_ds.2022A.pkl\"),\n",
    "        \"source_or_target_dataset\": \"target\",\n",
    "        \"x_transforms\": [\"unit_power\", \"times_zero\"],\n",
    "        \"episode_transforms\": [],\n",
    "        \"domain_prefix\": \"CORES_\"\n",
    "    }   \n",
    "]\n",
    "\n",
    "standalone_parameters[\"torch_default_dtype\"] = \"torch.float32\" \n",
    "\n",
    "\n",
    "\n",
    "standalone_parameters[\"x_net\"] =     [\n",
    "    {\"class\": \"nnReshape\", \"kargs\": {\"shape\":[-1, 1, 2, 256]}},\n",
    "    {\"class\": \"Conv2d\", \"kargs\": { \"in_channels\":1, \"out_channels\":256, \"kernel_size\":(1,7), \"bias\":False, \"padding\":(0,3), },},\n",
    "    {\"class\": \"ReLU\", \"kargs\": {\"inplace\": True}},\n",
    "    {\"class\": \"BatchNorm2d\", \"kargs\": {\"num_features\":256}},\n",
    "\n",
    "    {\"class\": \"Conv2d\", \"kargs\": { \"in_channels\":256, \"out_channels\":80, \"kernel_size\":(2,7), \"bias\":True, \"padding\":(0,3), },},\n",
    "    {\"class\": \"ReLU\", \"kargs\": {\"inplace\": True}},\n",
    "    {\"class\": \"BatchNorm2d\", \"kargs\": {\"num_features\":80}},\n",
    "    {\"class\": \"Flatten\", \"kargs\": {}},\n",
    "\n",
    "    {\"class\": \"Linear\", \"kargs\": {\"in_features\": 80*256, \"out_features\": 256}}, # 80 units per IQ pair\n",
    "    {\"class\": \"ReLU\", \"kargs\": {\"inplace\": True}},\n",
    "    {\"class\": \"BatchNorm1d\", \"kargs\": {\"num_features\":256}},\n",
    "\n",
    "    {\"class\": \"Linear\", \"kargs\": {\"in_features\": 256, \"out_features\": 256}},\n",
    "]\n",
    "\n",
    "# Parameters relevant to results\n",
    "# These parameters will basically never need to change\n",
    "standalone_parameters[\"NUM_LOGS_PER_EPOCH\"] = 10\n",
    "standalone_parameters[\"BEST_MODEL_PATH\"] = \"./best_model.pth\"\n",
    "\n",
    "\n",
    "\n",
    "\n"
   ]
  },
  {
   "cell_type": "code",
   "execution_count": 4,
   "id": "8993d90a",
   "metadata": {
    "execution": {
     "iopub.execute_input": "2022-03-21T06:33:56.563816Z",
     "iopub.status.busy": "2022-03-21T06:33:56.562752Z",
     "iopub.status.idle": "2022-03-21T06:33:56.582161Z",
     "shell.execute_reply": "2022-03-21T06:33:56.581440Z"
    },
    "papermill": {
     "duration": 0.054821,
     "end_time": "2022-03-21T06:33:56.582324",
     "exception": false,
     "start_time": "2022-03-21T06:33:56.527503",
     "status": "completed"
    },
    "tags": [
     "injected-parameters"
    ]
   },
   "outputs": [],
   "source": [
    "# Parameters\n",
    "parameters = {\n",
    "    \"experiment_name\": \"tl_1v2:wisig-oracle.run1.framed\",\n",
    "    \"device\": \"cuda\",\n",
    "    \"lr\": 0.0001,\n",
    "    \"n_shot\": 3,\n",
    "    \"n_query\": 2,\n",
    "    \"train_k_factor\": 3,\n",
    "    \"val_k_factor\": 2,\n",
    "    \"test_k_factor\": 2,\n",
    "    \"torch_default_dtype\": \"torch.float32\",\n",
    "    \"n_epoch\": 50,\n",
    "    \"patience\": 3,\n",
    "    \"criteria_for_best\": \"target_accuracy\",\n",
    "    \"x_net\": [\n",
    "        {\"class\": \"nnReshape\", \"kargs\": {\"shape\": [-1, 1, 2, 256]}},\n",
    "        {\n",
    "            \"class\": \"Conv2d\",\n",
    "            \"kargs\": {\n",
    "                \"in_channels\": 1,\n",
    "                \"out_channels\": 256,\n",
    "                \"kernel_size\": [1, 7],\n",
    "                \"bias\": False,\n",
    "                \"padding\": [0, 3],\n",
    "            },\n",
    "        },\n",
    "        {\"class\": \"ReLU\", \"kargs\": {\"inplace\": True}},\n",
    "        {\"class\": \"BatchNorm2d\", \"kargs\": {\"num_features\": 256}},\n",
    "        {\n",
    "            \"class\": \"Conv2d\",\n",
    "            \"kargs\": {\n",
    "                \"in_channels\": 256,\n",
    "                \"out_channels\": 80,\n",
    "                \"kernel_size\": [2, 7],\n",
    "                \"bias\": True,\n",
    "                \"padding\": [0, 3],\n",
    "            },\n",
    "        },\n",
    "        {\"class\": \"ReLU\", \"kargs\": {\"inplace\": True}},\n",
    "        {\"class\": \"BatchNorm2d\", \"kargs\": {\"num_features\": 80}},\n",
    "        {\"class\": \"Flatten\", \"kargs\": {}},\n",
    "        {\"class\": \"Linear\", \"kargs\": {\"in_features\": 20480, \"out_features\": 256}},\n",
    "        {\"class\": \"ReLU\", \"kargs\": {\"inplace\": True}},\n",
    "        {\"class\": \"BatchNorm1d\", \"kargs\": {\"num_features\": 256}},\n",
    "        {\"class\": \"Linear\", \"kargs\": {\"in_features\": 256, \"out_features\": 256}},\n",
    "    ],\n",
    "    \"NUM_LOGS_PER_EPOCH\": 10,\n",
    "    \"BEST_MODEL_PATH\": \"./best_model.pth\",\n",
    "    \"n_way\": 16,\n",
    "    \"datasets\": [\n",
    "        {\n",
    "            \"labels\": [\n",
    "                \"1-10\",\n",
    "                \"1-12\",\n",
    "                \"1-14\",\n",
    "                \"1-16\",\n",
    "                \"1-18\",\n",
    "                \"1-19\",\n",
    "                \"1-8\",\n",
    "                \"10-11\",\n",
    "                \"10-17\",\n",
    "                \"10-4\",\n",
    "                \"10-7\",\n",
    "                \"11-1\",\n",
    "                \"11-10\",\n",
    "                \"11-19\",\n",
    "                \"11-20\",\n",
    "                \"11-4\",\n",
    "                \"11-7\",\n",
    "                \"12-19\",\n",
    "                \"12-20\",\n",
    "                \"12-7\",\n",
    "                \"13-14\",\n",
    "                \"13-18\",\n",
    "                \"13-19\",\n",
    "                \"13-20\",\n",
    "                \"13-3\",\n",
    "                \"13-7\",\n",
    "                \"14-10\",\n",
    "                \"14-11\",\n",
    "                \"14-12\",\n",
    "                \"14-13\",\n",
    "                \"14-14\",\n",
    "                \"14-19\",\n",
    "                \"14-20\",\n",
    "                \"14-7\",\n",
    "                \"14-8\",\n",
    "                \"14-9\",\n",
    "                \"15-1\",\n",
    "                \"15-19\",\n",
    "                \"15-6\",\n",
    "                \"16-1\",\n",
    "                \"16-16\",\n",
    "                \"16-19\",\n",
    "                \"16-20\",\n",
    "                \"17-10\",\n",
    "                \"17-11\",\n",
    "                \"18-1\",\n",
    "                \"18-10\",\n",
    "                \"18-11\",\n",
    "                \"18-12\",\n",
    "                \"18-13\",\n",
    "                \"18-14\",\n",
    "                \"18-15\",\n",
    "                \"18-16\",\n",
    "                \"18-17\",\n",
    "                \"18-19\",\n",
    "                \"18-2\",\n",
    "                \"18-20\",\n",
    "                \"18-4\",\n",
    "                \"18-5\",\n",
    "                \"18-7\",\n",
    "                \"18-8\",\n",
    "                \"18-9\",\n",
    "                \"19-1\",\n",
    "                \"19-10\",\n",
    "                \"19-11\",\n",
    "                \"19-12\",\n",
    "                \"19-13\",\n",
    "                \"19-14\",\n",
    "                \"19-15\",\n",
    "                \"19-19\",\n",
    "                \"19-2\",\n",
    "                \"19-20\",\n",
    "                \"19-3\",\n",
    "                \"19-4\",\n",
    "                \"19-6\",\n",
    "                \"19-7\",\n",
    "                \"19-8\",\n",
    "                \"19-9\",\n",
    "                \"2-1\",\n",
    "                \"2-13\",\n",
    "                \"2-15\",\n",
    "                \"2-3\",\n",
    "                \"2-4\",\n",
    "                \"2-5\",\n",
    "                \"2-6\",\n",
    "                \"2-7\",\n",
    "                \"2-8\",\n",
    "                \"20-1\",\n",
    "                \"20-12\",\n",
    "                \"20-14\",\n",
    "                \"20-15\",\n",
    "                \"20-16\",\n",
    "                \"20-18\",\n",
    "                \"20-19\",\n",
    "                \"20-20\",\n",
    "                \"20-3\",\n",
    "                \"20-4\",\n",
    "                \"20-5\",\n",
    "                \"20-7\",\n",
    "                \"20-8\",\n",
    "                \"3-1\",\n",
    "                \"3-13\",\n",
    "                \"3-18\",\n",
    "                \"3-2\",\n",
    "                \"3-8\",\n",
    "                \"4-1\",\n",
    "                \"4-10\",\n",
    "                \"4-11\",\n",
    "                \"5-1\",\n",
    "                \"5-5\",\n",
    "                \"6-1\",\n",
    "                \"6-15\",\n",
    "                \"6-6\",\n",
    "                \"7-10\",\n",
    "                \"7-11\",\n",
    "                \"7-12\",\n",
    "                \"7-13\",\n",
    "                \"7-14\",\n",
    "                \"7-7\",\n",
    "                \"7-8\",\n",
    "                \"7-9\",\n",
    "                \"8-1\",\n",
    "                \"8-13\",\n",
    "                \"8-14\",\n",
    "                \"8-18\",\n",
    "                \"8-20\",\n",
    "                \"8-3\",\n",
    "                \"8-8\",\n",
    "                \"9-1\",\n",
    "                \"9-7\",\n",
    "            ],\n",
    "            \"domains\": [1, 2, 3, 4],\n",
    "            \"num_examples_per_domain_per_label\": -1,\n",
    "            \"pickle_path\": \"/root/csc500-main/datasets/wisig.node3-19.stratified_ds.2022A.pkl\",\n",
    "            \"source_or_target_dataset\": \"target\",\n",
    "            \"x_transforms\": [\"unit_mag\"],\n",
    "            \"episode_transforms\": [],\n",
    "            \"domain_prefix\": \"Wisig_\",\n",
    "        },\n",
    "        {\n",
    "            \"labels\": [\n",
    "                \"3123D52\",\n",
    "                \"3123D65\",\n",
    "                \"3123D79\",\n",
    "                \"3123D80\",\n",
    "                \"3123D54\",\n",
    "                \"3123D70\",\n",
    "                \"3123D7B\",\n",
    "                \"3123D89\",\n",
    "                \"3123D58\",\n",
    "                \"3123D76\",\n",
    "                \"3123D7D\",\n",
    "                \"3123EFE\",\n",
    "                \"3123D64\",\n",
    "                \"3123D78\",\n",
    "                \"3123D7E\",\n",
    "                \"3124E4A\",\n",
    "            ],\n",
    "            \"domains\": [32, 38, 8, 44, 14, 50, 20, 26],\n",
    "            \"num_examples_per_domain_per_label\": 2000,\n",
    "            \"pickle_path\": \"/root/csc500-main/datasets/oracle.Run1_framed_2000Examples_stratified_ds.2022A.pkl\",\n",
    "            \"source_or_target_dataset\": \"source\",\n",
    "            \"x_transforms\": [\"unit_mag\"],\n",
    "            \"episode_transforms\": [],\n",
    "            \"domain_prefix\": \"ORACLE.run1\",\n",
    "        },\n",
    "    ],\n",
    "    \"dataset_seed\": 1337,\n",
    "    \"seed\": 1337,\n",
    "}\n"
   ]
  },
  {
   "cell_type": "code",
   "execution_count": 5,
   "id": "8fa1cc33",
   "metadata": {
    "execution": {
     "iopub.execute_input": "2022-03-21T06:33:56.634680Z",
     "iopub.status.busy": "2022-03-21T06:33:56.634059Z",
     "iopub.status.idle": "2022-03-21T06:33:56.652850Z",
     "shell.execute_reply": "2022-03-21T06:33:56.652122Z"
    },
    "papermill": {
     "duration": 0.045109,
     "end_time": "2022-03-21T06:33:56.653014",
     "exception": false,
     "start_time": "2022-03-21T06:33:56.607905",
     "status": "completed"
    },
    "tags": []
   },
   "outputs": [],
   "source": [
    "# Set this to True if you want to run this template directly\n",
    "STANDALONE = False\n",
    "if STANDALONE:\n",
    "    print(\"parameters not injected, running with standalone_parameters\")\n",
    "    parameters = standalone_parameters\n",
    "\n",
    "if not 'parameters' in locals() and not 'parameters' in globals():\n",
    "    raise Exception(\"Parameter injection failed\")\n",
    "\n",
    "#Use an easy dict for all the parameters\n",
    "p = EasyDict(parameters)\n",
    "\n",
    "if \"x_shape\" not in p:\n",
    "    p.x_shape = [2,256] # Default to this if we dont supply x_shape\n",
    "\n",
    "\n",
    "supplied_keys = set(p.keys())\n",
    "\n",
    "if  supplied_keys != required_parameters:\n",
    "    print(\"Parameters are incorrect\")\n",
    "    if len(supplied_keys - required_parameters)>0: print(\"Shouldn't have:\", str(supplied_keys - required_parameters))\n",
    "    if len(required_parameters - supplied_keys)>0: print(\"Need to have:\", str(required_parameters - supplied_keys))\n",
    "    raise RuntimeError(\"Parameters are incorrect\")"
   ]
  },
  {
   "cell_type": "code",
   "execution_count": 6,
   "id": "3a028d58",
   "metadata": {
    "execution": {
     "iopub.execute_input": "2022-03-21T06:33:56.702729Z",
     "iopub.status.busy": "2022-03-21T06:33:56.702349Z",
     "iopub.status.idle": "2022-03-21T06:33:56.723387Z",
     "shell.execute_reply": "2022-03-21T06:33:56.722666Z"
    },
    "papermill": {
     "duration": 0.044496,
     "end_time": "2022-03-21T06:33:56.723566",
     "exception": false,
     "start_time": "2022-03-21T06:33:56.679070",
     "status": "completed"
    },
    "tags": []
   },
   "outputs": [],
   "source": [
    "###################################\n",
    "# Set the RNGs and make it all deterministic\n",
    "###################################\n",
    "np.random.seed(p.seed)\n",
    "random.seed(p.seed)\n",
    "torch.manual_seed(p.seed)\n",
    "\n",
    "torch.use_deterministic_algorithms(True) "
   ]
  },
  {
   "cell_type": "code",
   "execution_count": 7,
   "id": "b691acf6",
   "metadata": {
    "execution": {
     "iopub.execute_input": "2022-03-21T06:33:56.776835Z",
     "iopub.status.busy": "2022-03-21T06:33:56.776362Z",
     "iopub.status.idle": "2022-03-21T06:33:56.799407Z",
     "shell.execute_reply": "2022-03-21T06:33:56.798674Z"
    },
    "papermill": {
     "duration": 0.046634,
     "end_time": "2022-03-21T06:33:56.799611",
     "exception": false,
     "start_time": "2022-03-21T06:33:56.752977",
     "status": "completed"
    },
    "tags": []
   },
   "outputs": [],
   "source": [
    "###########################################\n",
    "# The stratified datasets honor this\n",
    "###########################################\n",
    "torch.set_default_dtype(eval(p.torch_default_dtype))"
   ]
  },
  {
   "cell_type": "code",
   "execution_count": 8,
   "id": "b5fba671",
   "metadata": {
    "execution": {
     "iopub.execute_input": "2022-03-21T06:33:56.848730Z",
     "iopub.status.busy": "2022-03-21T06:33:56.848355Z",
     "iopub.status.idle": "2022-03-21T06:33:56.906143Z",
     "shell.execute_reply": "2022-03-21T06:33:56.905422Z"
    },
    "papermill": {
     "duration": 0.081832,
     "end_time": "2022-03-21T06:33:56.906310",
     "exception": false,
     "start_time": "2022-03-21T06:33:56.824478",
     "status": "completed"
    },
    "tags": []
   },
   "outputs": [],
   "source": [
    "###################################\n",
    "# Build the network(s)\n",
    "# Note: It's critical to do this AFTER setting the RNG\n",
    "###################################\n",
    "x_net = build_sequential(p.x_net)"
   ]
  },
  {
   "cell_type": "code",
   "execution_count": 9,
   "id": "5d7e61cc",
   "metadata": {
    "execution": {
     "iopub.execute_input": "2022-03-21T06:33:56.960036Z",
     "iopub.status.busy": "2022-03-21T06:33:56.959646Z",
     "iopub.status.idle": "2022-03-21T06:33:56.985134Z",
     "shell.execute_reply": "2022-03-21T06:33:56.984410Z"
    },
    "papermill": {
     "duration": 0.050195,
     "end_time": "2022-03-21T06:33:56.985299",
     "exception": false,
     "start_time": "2022-03-21T06:33:56.935104",
     "status": "completed"
    },
    "tags": []
   },
   "outputs": [],
   "source": [
    "start_time_secs = time.time()"
   ]
  },
  {
   "cell_type": "code",
   "execution_count": 10,
   "id": "c6b67dfd",
   "metadata": {
    "execution": {
     "iopub.execute_input": "2022-03-21T06:33:57.038318Z",
     "iopub.status.busy": "2022-03-21T06:33:57.037943Z",
     "iopub.status.idle": "2022-03-21T06:33:57.058966Z",
     "shell.execute_reply": "2022-03-21T06:33:57.058247Z"
    },
    "papermill": {
     "duration": 0.045181,
     "end_time": "2022-03-21T06:33:57.059127",
     "exception": false,
     "start_time": "2022-03-21T06:33:57.013946",
     "status": "completed"
    },
    "tags": []
   },
   "outputs": [],
   "source": [
    "p.domains_source = []\n",
    "p.domains_target = []\n",
    "\n",
    "\n",
    "train_original_source = []\n",
    "val_original_source   = []\n",
    "test_original_source  = []\n",
    "\n",
    "train_original_target = []\n",
    "val_original_target   = []\n",
    "test_original_target  = []"
   ]
  },
  {
   "cell_type": "code",
   "execution_count": 11,
   "id": "e3d9c3d3",
   "metadata": {
    "execution": {
     "iopub.execute_input": "2022-03-21T06:33:57.109993Z",
     "iopub.status.busy": "2022-03-21T06:33:57.109619Z",
     "iopub.status.idle": "2022-03-21T06:33:57.129359Z",
     "shell.execute_reply": "2022-03-21T06:33:57.130060Z"
    },
    "papermill": {
     "duration": 0.043644,
     "end_time": "2022-03-21T06:33:57.130264",
     "exception": false,
     "start_time": "2022-03-21T06:33:57.086620",
     "status": "completed"
    },
    "tags": []
   },
   "outputs": [],
   "source": [
    "# global_x_transform_func = lambda x: normalize(x.to(torch.get_default_dtype()), \"unit_power\") # unit_power, unit_mag\n",
    "# global_x_transform_func = lambda x: normalize(x, \"unit_power\") # unit_power, unit_mag"
   ]
  },
  {
   "cell_type": "code",
   "execution_count": 12,
   "id": "acb78fd2",
   "metadata": {
    "execution": {
     "iopub.execute_input": "2022-03-21T06:33:57.199768Z",
     "iopub.status.busy": "2022-03-21T06:33:57.188779Z",
     "iopub.status.idle": "2022-03-21T06:33:57.208562Z",
     "shell.execute_reply": "2022-03-21T06:33:57.207831Z"
    },
    "papermill": {
     "duration": 0.052021,
     "end_time": "2022-03-21T06:33:57.208728",
     "exception": false,
     "start_time": "2022-03-21T06:33:57.156707",
     "status": "completed"
    },
    "tags": []
   },
   "outputs": [],
   "source": [
    "def add_dataset(\n",
    "    labels,\n",
    "    domains,\n",
    "    pickle_path,\n",
    "    x_transforms,\n",
    "    episode_transforms,\n",
    "    domain_prefix,\n",
    "    num_examples_per_domain_per_label,\n",
    "    source_or_target_dataset:str,\n",
    "    iterator_seed=p.seed,\n",
    "    dataset_seed=p.dataset_seed,\n",
    "    n_shot=p.n_shot,\n",
    "    n_way=p.n_way,\n",
    "    n_query=p.n_query,\n",
    "    train_val_test_k_factors=(p.train_k_factor,p.val_k_factor,p.test_k_factor),\n",
    "):\n",
    "   \n",
    "    if x_transforms == []: x_transform = None\n",
    "    else: x_transform = get_chained_transform(x_transforms)\n",
    "    \n",
    "    if episode_transforms == []: episode_transform = None\n",
    "    else: raise Exception(\"episode_transforms not implemented\")\n",
    "    \n",
    "    episode_transform = lambda tup, _prefix=domain_prefix: (_prefix + str(tup[0]), tup[1])\n",
    "\n",
    "\n",
    "    eaf = Episodic_Accessor_Factory(\n",
    "        labels=labels,\n",
    "        domains=domains,\n",
    "        num_examples_per_domain_per_label=num_examples_per_domain_per_label,\n",
    "        iterator_seed=iterator_seed,\n",
    "        dataset_seed=dataset_seed,\n",
    "        n_shot=n_shot,\n",
    "        n_way=n_way,\n",
    "        n_query=n_query,\n",
    "        train_val_test_k_factors=train_val_test_k_factors,\n",
    "        pickle_path=pickle_path,\n",
    "        x_transform_func=x_transform,\n",
    "    )\n",
    "\n",
    "    train, val, test = eaf.get_train(), eaf.get_val(), eaf.get_test()\n",
    "    train = Lazy_Iterable_Wrapper(train, episode_transform)\n",
    "    val = Lazy_Iterable_Wrapper(val, episode_transform)\n",
    "    test = Lazy_Iterable_Wrapper(test, episode_transform)\n",
    "\n",
    "    if source_or_target_dataset==\"source\":\n",
    "        train_original_source.append(train)\n",
    "        val_original_source.append(val)\n",
    "        test_original_source.append(test)\n",
    "\n",
    "        p.domains_source.extend(\n",
    "            [domain_prefix + str(u) for u in domains]\n",
    "        )\n",
    "    elif source_or_target_dataset==\"target\":\n",
    "        train_original_target.append(train)\n",
    "        val_original_target.append(val)\n",
    "        test_original_target.append(test)\n",
    "        p.domains_target.extend(\n",
    "            [domain_prefix + str(u) for u in domains]\n",
    "        )\n",
    "    else:\n",
    "        raise Exception(f\"invalid source_or_target_dataset: {source_or_target_dataset}\")\n",
    "    "
   ]
  },
  {
   "cell_type": "code",
   "execution_count": 13,
   "id": "fe266617",
   "metadata": {
    "execution": {
     "iopub.execute_input": "2022-03-21T06:33:57.262248Z",
     "iopub.status.busy": "2022-03-21T06:33:57.261870Z",
     "iopub.status.idle": "2022-03-21T06:34:41.289292Z",
     "shell.execute_reply": "2022-03-21T06:34:41.288544Z"
    },
    "papermill": {
     "duration": 44.05136,
     "end_time": "2022-03-21T06:34:41.289478",
     "exception": false,
     "start_time": "2022-03-21T06:33:57.238118",
     "status": "completed"
    },
    "tags": []
   },
   "outputs": [],
   "source": [
    "for ds in p.datasets:\n",
    "    add_dataset(**ds)"
   ]
  },
  {
   "cell_type": "code",
   "execution_count": 14,
   "id": "b90d65ac",
   "metadata": {
    "execution": {
     "iopub.execute_input": "2022-03-21T06:34:41.339839Z",
     "iopub.status.busy": "2022-03-21T06:34:41.339441Z",
     "iopub.status.idle": "2022-03-21T06:34:41.365279Z",
     "shell.execute_reply": "2022-03-21T06:34:41.364460Z"
    },
    "papermill": {
     "duration": 0.050692,
     "end_time": "2022-03-21T06:34:41.365440",
     "exception": false,
     "start_time": "2022-03-21T06:34:41.314748",
     "status": "completed"
    },
    "tags": []
   },
   "outputs": [],
   "source": [
    "# from steves_utils.CORES.utils import (\n",
    "#     ALL_NODES,\n",
    "#     ALL_NODES_MINIMUM_1000_EXAMPLES,\n",
    "#     ALL_DAYS\n",
    "# )\n",
    "\n",
    "# add_dataset(\n",
    "#     labels=ALL_NODES,\n",
    "#     domains = ALL_DAYS,\n",
    "#     num_examples_per_domain_per_label=100,\n",
    "#     pickle_path=os.path.join(get_datasets_base_path(), \"cores.stratified_ds.2022A.pkl\"),\n",
    "#     source_or_target_dataset=\"target\",\n",
    "#     x_transform_func=global_x_transform_func,\n",
    "#     domain_modifier=lambda u: f\"cores_{u}\"\n",
    "# )"
   ]
  },
  {
   "cell_type": "code",
   "execution_count": 15,
   "id": "76db484d",
   "metadata": {
    "execution": {
     "iopub.execute_input": "2022-03-21T06:34:41.417225Z",
     "iopub.status.busy": "2022-03-21T06:34:41.416846Z",
     "iopub.status.idle": "2022-03-21T06:34:41.439966Z",
     "shell.execute_reply": "2022-03-21T06:34:41.439137Z"
    },
    "papermill": {
     "duration": 0.047689,
     "end_time": "2022-03-21T06:34:41.440128",
     "exception": false,
     "start_time": "2022-03-21T06:34:41.392439",
     "status": "completed"
    },
    "tags": []
   },
   "outputs": [],
   "source": [
    "# from steves_utils.ORACLE.utils_v2 import (\n",
    "#     ALL_DISTANCES_FEET,\n",
    "#     ALL_RUNS,\n",
    "#     ALL_SERIAL_NUMBERS,\n",
    "# )\n",
    "\n",
    "\n",
    "# add_dataset(\n",
    "#     labels=ALL_SERIAL_NUMBERS,\n",
    "#     domains = list(set(ALL_DISTANCES_FEET) - {2,62}),\n",
    "#     num_examples_per_domain_per_label=100,\n",
    "#     pickle_path=os.path.join(get_datasets_base_path(), \"oracle.Run2_framed_2000Examples_stratified_ds.2022A.pkl\"),\n",
    "#     source_or_target_dataset=\"source\",\n",
    "#     x_transform_func=global_x_transform_func,\n",
    "#     domain_modifier=lambda u: f\"oracle1_{u}\"\n",
    "# )\n"
   ]
  },
  {
   "cell_type": "code",
   "execution_count": 16,
   "id": "97dea9d2",
   "metadata": {
    "execution": {
     "iopub.execute_input": "2022-03-21T06:34:41.496347Z",
     "iopub.status.busy": "2022-03-21T06:34:41.495848Z",
     "iopub.status.idle": "2022-03-21T06:34:41.520712Z",
     "shell.execute_reply": "2022-03-21T06:34:41.520030Z"
    },
    "papermill": {
     "duration": 0.050481,
     "end_time": "2022-03-21T06:34:41.520880",
     "exception": false,
     "start_time": "2022-03-21T06:34:41.470399",
     "status": "completed"
    },
    "tags": []
   },
   "outputs": [],
   "source": [
    "# from steves_utils.ORACLE.utils_v2 import (\n",
    "#     ALL_DISTANCES_FEET,\n",
    "#     ALL_RUNS,\n",
    "#     ALL_SERIAL_NUMBERS,\n",
    "# )\n",
    "\n",
    "\n",
    "# add_dataset(\n",
    "#     labels=ALL_SERIAL_NUMBERS,\n",
    "#     domains = list(set(ALL_DISTANCES_FEET) - {2,62,56}),\n",
    "#     num_examples_per_domain_per_label=100,\n",
    "#     pickle_path=os.path.join(get_datasets_base_path(), \"oracle.Run2_framed_2000Examples_stratified_ds.2022A.pkl\"),\n",
    "#     source_or_target_dataset=\"source\",\n",
    "#     x_transform_func=global_x_transform_func,\n",
    "#     domain_modifier=lambda u: f\"oracle2_{u}\"\n",
    "# )"
   ]
  },
  {
   "cell_type": "code",
   "execution_count": 17,
   "id": "6f289866",
   "metadata": {
    "execution": {
     "iopub.execute_input": "2022-03-21T06:34:41.570904Z",
     "iopub.status.busy": "2022-03-21T06:34:41.570530Z",
     "iopub.status.idle": "2022-03-21T06:34:41.593031Z",
     "shell.execute_reply": "2022-03-21T06:34:41.592230Z"
    },
    "papermill": {
     "duration": 0.047079,
     "end_time": "2022-03-21T06:34:41.593191",
     "exception": false,
     "start_time": "2022-03-21T06:34:41.546112",
     "status": "completed"
    },
    "tags": []
   },
   "outputs": [],
   "source": [
    "# add_dataset(\n",
    "#     labels=list(range(19)),\n",
    "#     domains = [0,1,2],\n",
    "#     num_examples_per_domain_per_label=100,\n",
    "#     pickle_path=os.path.join(get_datasets_base_path(), \"metehan.stratified_ds.2022A.pkl\"),\n",
    "#     source_or_target_dataset=\"target\",\n",
    "#     x_transform_func=global_x_transform_func,\n",
    "#     domain_modifier=lambda u: f\"met_{u}\"\n",
    "# )"
   ]
  },
  {
   "cell_type": "code",
   "execution_count": 18,
   "id": "86a863c3",
   "metadata": {
    "execution": {
     "iopub.execute_input": "2022-03-21T06:34:41.646750Z",
     "iopub.status.busy": "2022-03-21T06:34:41.646131Z",
     "iopub.status.idle": "2022-03-21T06:34:41.669680Z",
     "shell.execute_reply": "2022-03-21T06:34:41.668867Z"
    },
    "papermill": {
     "duration": 0.048963,
     "end_time": "2022-03-21T06:34:41.669842",
     "exception": false,
     "start_time": "2022-03-21T06:34:41.620879",
     "status": "completed"
    },
    "tags": []
   },
   "outputs": [],
   "source": [
    "# # from steves_utils.wisig.utils import (\n",
    "# #     ALL_NODES_MINIMUM_100_EXAMPLES,\n",
    "# #     ALL_NODES_MINIMUM_500_EXAMPLES,\n",
    "# #     ALL_NODES_MINIMUM_1000_EXAMPLES,\n",
    "# #     ALL_DAYS\n",
    "# # )\n",
    "\n",
    "# import steves_utils.wisig.utils as wisig\n",
    "\n",
    "\n",
    "# add_dataset(\n",
    "#     labels=wisig.ALL_NODES_MINIMUM_100_EXAMPLES,\n",
    "#     domains = wisig.ALL_DAYS,\n",
    "#     num_examples_per_domain_per_label=100,\n",
    "#     pickle_path=os.path.join(get_datasets_base_path(), \"wisig.node3-19.stratified_ds.2022A.pkl\"),\n",
    "#     source_or_target_dataset=\"target\",\n",
    "#     x_transform_func=global_x_transform_func,\n",
    "#     domain_modifier=lambda u: f\"wisig_{u}\"\n",
    "# )"
   ]
  },
  {
   "cell_type": "code",
   "execution_count": 19,
   "id": "fd5442bc",
   "metadata": {
    "execution": {
     "iopub.execute_input": "2022-03-21T06:34:41.727980Z",
     "iopub.status.busy": "2022-03-21T06:34:41.727289Z",
     "iopub.status.idle": "2022-03-21T06:34:41.748125Z",
     "shell.execute_reply": "2022-03-21T06:34:41.747298Z"
    },
    "papermill": {
     "duration": 0.051719,
     "end_time": "2022-03-21T06:34:41.748287",
     "exception": false,
     "start_time": "2022-03-21T06:34:41.696568",
     "status": "completed"
    },
    "tags": []
   },
   "outputs": [],
   "source": [
    "###################################\n",
    "# Build the dataset\n",
    "###################################\n",
    "train_original_source = Iterable_Aggregator(train_original_source, p.seed)\n",
    "val_original_source = Iterable_Aggregator(val_original_source, p.seed)\n",
    "test_original_source = Iterable_Aggregator(test_original_source, p.seed)\n",
    "\n",
    "\n",
    "train_original_target = Iterable_Aggregator(train_original_target, p.seed)\n",
    "val_original_target = Iterable_Aggregator(val_original_target, p.seed)\n",
    "test_original_target = Iterable_Aggregator(test_original_target, p.seed)\n",
    "\n",
    "# For CNN We only use X and Y. And we only train on the source.\n",
    "# Properly form the data using a transform lambda and Lazy_Iterable_Wrapper. Finally wrap them in a dataloader\n",
    "\n",
    "transform_lambda = lambda ex: ex[1] # Original is (<domain>, <episode>) so we strip down to episode only\n",
    "\n",
    "train_processed_source = Lazy_Iterable_Wrapper(train_original_source, transform_lambda)\n",
    "val_processed_source   = Lazy_Iterable_Wrapper(val_original_source, transform_lambda)\n",
    "test_processed_source  = Lazy_Iterable_Wrapper(test_original_source, transform_lambda)\n",
    "\n",
    "train_processed_target = Lazy_Iterable_Wrapper(train_original_target, transform_lambda)\n",
    "val_processed_target   = Lazy_Iterable_Wrapper(val_original_target, transform_lambda)\n",
    "test_processed_target  = Lazy_Iterable_Wrapper(test_original_target, transform_lambda)\n",
    "\n",
    "datasets = EasyDict({\n",
    "    \"source\": {\n",
    "        \"original\": {\"train\":train_original_source, \"val\":val_original_source, \"test\":test_original_source},\n",
    "        \"processed\": {\"train\":train_processed_source, \"val\":val_processed_source, \"test\":test_processed_source}\n",
    "    },\n",
    "    \"target\": {\n",
    "        \"original\": {\"train\":train_original_target, \"val\":val_original_target, \"test\":test_original_target},\n",
    "        \"processed\": {\"train\":train_processed_target, \"val\":val_processed_target, \"test\":test_processed_target}\n",
    "    },\n",
    "})"
   ]
  },
  {
   "cell_type": "code",
   "execution_count": 20,
   "id": "5b3c01fc",
   "metadata": {
    "execution": {
     "iopub.execute_input": "2022-03-21T06:34:41.802394Z",
     "iopub.status.busy": "2022-03-21T06:34:41.801751Z",
     "iopub.status.idle": "2022-03-21T06:34:58.140818Z",
     "shell.execute_reply": "2022-03-21T06:34:58.141530Z"
    },
    "papermill": {
     "duration": 16.365978,
     "end_time": "2022-03-21T06:34:58.141754",
     "exception": false,
     "start_time": "2022-03-21T06:34:41.775776",
     "status": "completed"
    },
    "tags": []
   },
   "outputs": [
    {
     "name": "stdout",
     "output_type": "stream",
     "text": [
      "{'ORACLE.run18', 'ORACLE.run144', 'ORACLE.run150', 'ORACLE.run120', 'ORACLE.run138', 'ORACLE.run114', 'ORACLE.run126', 'ORACLE.run132'}\n"
     ]
    },
    {
     "name": "stdout",
     "output_type": "stream",
     "text": [
      "{'Wisig_2', 'Wisig_4', 'Wisig_3', 'Wisig_1'}\n"
     ]
    },
    {
     "name": "stdout",
     "output_type": "stream",
     "text": [
      "tensor([[[-0.0955,  1.1942, -0.1146,  ..., -0.9840, -0.2675, -0.5732],\n",
      "         [-0.6592, -0.3057,  1.0891,  ...,  0.2484, -1.4617, -0.4872]],\n",
      "\n",
      "        [[-0.4662,  0.7090,  0.5730,  ..., -1.3014, -1.2237, -0.1165],\n",
      "         [-1.1752, -0.3302,  1.1558,  ...,  0.4273, -0.1554,  1.2626]],\n",
      "\n",
      "        [[ 0.6763, -0.3671, -0.7922,  ...,  0.8212,  1.4202,  0.3381],\n",
      "         [ 0.8598,  0.7053, -0.9178,  ..., -0.7826,  0.4831, -1.1980]],\n",
      "\n",
      "        ...,\n",
      "\n",
      "        [[ 1.0255, -0.2498, -1.2227,  ...,  0.6639,  1.0255, -0.6771],\n",
      "         [ 0.5785,  0.7428, -0.3878,  ..., -1.0123, -0.6376, -1.1701]],\n",
      "\n",
      "        [[ 0.0260, -1.0137,  0.2924,  ...,  0.9227,  0.4808,  1.0981],\n",
      "         [ 0.8122,  0.4354, -1.1631,  ..., -0.1235,  1.2996, -0.2339]],\n",
      "\n",
      "        [[ 0.4980,  0.3408, -0.7471,  ..., -0.4718,  1.2779,  1.0616],\n",
      "         [-0.4260,  1.1468, -0.0328,  ..., -1.1141, -0.0590, -0.2556]]])\n"
     ]
    }
   ],
   "source": [
    "from steves_utils.transforms import get_average_magnitude, get_average_power\n",
    "\n",
    "print(set([u for u,_ in val_original_source]))\n",
    "print(set([u for u,_ in val_original_target]))\n",
    "\n",
    "s_x, s_y, q_x, q_y, _ = next(iter(train_processed_source))\n",
    "print(s_x)\n",
    "\n",
    "# for ds in [\n",
    "#     train_processed_source,\n",
    "#     val_processed_source,\n",
    "#     test_processed_source,\n",
    "#     train_processed_target,\n",
    "#     val_processed_target,\n",
    "#     test_processed_target\n",
    "# ]:\n",
    "#     for s_x, s_y, q_x, q_y, _ in ds:\n",
    "#         for X in (s_x, q_x):\n",
    "#             for x in X:\n",
    "#                 assert np.isclose(get_average_magnitude(x.numpy()), 1.0)\n",
    "#                 assert np.isclose(get_average_power(x.numpy()), 1.0)\n",
    "                "
   ]
  },
  {
   "cell_type": "code",
   "execution_count": 21,
   "id": "bbdacba1",
   "metadata": {
    "execution": {
     "iopub.execute_input": "2022-03-21T06:34:58.196657Z",
     "iopub.status.busy": "2022-03-21T06:34:58.195814Z",
     "iopub.status.idle": "2022-03-21T06:34:58.471131Z",
     "shell.execute_reply": "2022-03-21T06:34:58.470347Z"
    },
    "papermill": {
     "duration": 0.303028,
     "end_time": "2022-03-21T06:34:58.471322",
     "exception": false,
     "start_time": "2022-03-21T06:34:58.168294",
     "status": "completed"
    },
    "tags": []
   },
   "outputs": [
    {
     "name": "stdout",
     "output_type": "stream",
     "text": [
      "(2, 256)\n"
     ]
    }
   ],
   "source": [
    "###################################\n",
    "# Build the model\n",
    "###################################\n",
    "# easfsl only wants a tuple for the shape\n",
    "model = Steves_Prototypical_Network(x_net, device=p.device, x_shape=tuple(p.x_shape))\n",
    "optimizer = Adam(params=model.parameters(), lr=p.lr)"
   ]
  },
  {
   "cell_type": "code",
   "execution_count": 22,
   "id": "22b39ac5",
   "metadata": {
    "execution": {
     "iopub.execute_input": "2022-03-21T06:34:58.533483Z",
     "iopub.status.busy": "2022-03-21T06:34:58.533097Z",
     "iopub.status.idle": "2022-03-21T07:05:06.693866Z",
     "shell.execute_reply": "2022-03-21T07:05:06.693516Z"
    },
    "papermill": {
     "duration": 1808.187901,
     "end_time": "2022-03-21T07:05:06.693953",
     "exception": false,
     "start_time": "2022-03-21T06:34:58.506052",
     "status": "completed"
    },
    "tags": []
   },
   "outputs": [
    {
     "name": "stdout",
     "output_type": "stream",
     "text": [
      "epoch: 1, [batch: 1 / 6720], examples_per_second: 33.0848, train_label_loss: 2.9752, \n"
     ]
    },
    {
     "name": "stdout",
     "output_type": "stream",
     "text": [
      "epoch: 1, [batch: 672 / 6720], examples_per_second: 2374.8839, train_label_loss: 1.2066, \n"
     ]
    },
    {
     "name": "stdout",
     "output_type": "stream",
     "text": [
      "epoch: 1, [batch: 1344 / 6720], examples_per_second: 2626.3304, train_label_loss: 0.7028, \n"
     ]
    },
    {
     "name": "stdout",
     "output_type": "stream",
     "text": [
      "epoch: 1, [batch: 2016 / 6720], examples_per_second: 2585.1134, train_label_loss: 0.6098, \n"
     ]
    },
    {
     "name": "stdout",
     "output_type": "stream",
     "text": [
      "epoch: 1, [batch: 2688 / 6720], examples_per_second: 2611.9384, train_label_loss: 0.7252, \n"
     ]
    },
    {
     "name": "stdout",
     "output_type": "stream",
     "text": [
      "epoch: 1, [batch: 3360 / 6720], examples_per_second: 2592.4105, train_label_loss: 0.7617, \n"
     ]
    },
    {
     "name": "stdout",
     "output_type": "stream",
     "text": [
      "epoch: 1, [batch: 4032 / 6720], examples_per_second: 2567.6656, train_label_loss: 0.5823, \n"
     ]
    },
    {
     "name": "stdout",
     "output_type": "stream",
     "text": [
      "epoch: 1, [batch: 4704 / 6720], examples_per_second: 2488.3765, train_label_loss: 0.3169, \n"
     ]
    },
    {
     "name": "stdout",
     "output_type": "stream",
     "text": [
      "epoch: 1, [batch: 5376 / 6720], examples_per_second: 2315.2376, train_label_loss: 0.7134, \n"
     ]
    },
    {
     "name": "stdout",
     "output_type": "stream",
     "text": [
      "epoch: 1, [batch: 6048 / 6720], examples_per_second: 2309.4100, train_label_loss: 0.4008, \n"
     ]
    },
    {
     "name": "stdout",
     "output_type": "stream",
     "text": [
      "=============================================================\n",
      "epoch: 1, source_val_acc_label: 0.6384, target_val_acc_label: 0.4460, source_val_label_loss: 50.2479, target_val_label_loss: 1218.1228, \n",
      "=============================================================\n"
     ]
    },
    {
     "name": "stdout",
     "output_type": "stream",
     "text": [
      "New best\n"
     ]
    },
    {
     "name": "stdout",
     "output_type": "stream",
     "text": [
      "epoch: 2, [batch: 1 / 6720], examples_per_second: 2.0017, train_label_loss: 71.1804, \n"
     ]
    },
    {
     "name": "stdout",
     "output_type": "stream",
     "text": [
      "epoch: 2, [batch: 672 / 6720], examples_per_second: 2597.6429, train_label_loss: 0.4903, \n"
     ]
    },
    {
     "name": "stdout",
     "output_type": "stream",
     "text": [
      "epoch: 2, [batch: 1344 / 6720], examples_per_second: 2599.2929, train_label_loss: 0.3579, \n"
     ]
    },
    {
     "name": "stdout",
     "output_type": "stream",
     "text": [
      "epoch: 2, [batch: 2016 / 6720], examples_per_second: 2820.5436, train_label_loss: 1.0303, \n"
     ]
    },
    {
     "name": "stdout",
     "output_type": "stream",
     "text": [
      "epoch: 2, [batch: 2688 / 6720], examples_per_second: 2712.3003, train_label_loss: 0.8005, \n"
     ]
    },
    {
     "name": "stdout",
     "output_type": "stream",
     "text": [
      "epoch: 2, [batch: 3360 / 6720], examples_per_second: 2904.3217, train_label_loss: 0.3773, \n"
     ]
    },
    {
     "name": "stdout",
     "output_type": "stream",
     "text": [
      "epoch: 2, [batch: 4032 / 6720], examples_per_second: 2934.3846, train_label_loss: 0.9030, \n"
     ]
    },
    {
     "name": "stdout",
     "output_type": "stream",
     "text": [
      "epoch: 2, [batch: 4704 / 6720], examples_per_second: 2749.3346, train_label_loss: 0.5715, \n"
     ]
    },
    {
     "name": "stdout",
     "output_type": "stream",
     "text": [
      "epoch: 2, [batch: 5376 / 6720], examples_per_second: 2617.4462, train_label_loss: 0.6734, \n"
     ]
    },
    {
     "name": "stdout",
     "output_type": "stream",
     "text": [
      "epoch: 2, [batch: 6048 / 6720], examples_per_second: 2638.1943, train_label_loss: 0.4504, \n"
     ]
    },
    {
     "name": "stdout",
     "output_type": "stream",
     "text": [
      "=============================================================\n",
      "epoch: 2, source_val_acc_label: 0.8188, target_val_acc_label: 0.5107, source_val_label_loss: 0.5055, target_val_label_loss: 247.0826, \n",
      "=============================================================\n"
     ]
    },
    {
     "name": "stdout",
     "output_type": "stream",
     "text": [
      "New best\n"
     ]
    },
    {
     "name": "stdout",
     "output_type": "stream",
     "text": [
      "epoch: 3, [batch: 1 / 6720], examples_per_second: 2.3043, train_label_loss: 0.6363, \n"
     ]
    },
    {
     "name": "stdout",
     "output_type": "stream",
     "text": [
      "epoch: 3, [batch: 672 / 6720], examples_per_second: 2576.0642, train_label_loss: 0.1827, \n"
     ]
    },
    {
     "name": "stdout",
     "output_type": "stream",
     "text": [
      "epoch: 3, [batch: 1344 / 6720], examples_per_second: 2598.7873, train_label_loss: 0.4586, \n"
     ]
    },
    {
     "name": "stdout",
     "output_type": "stream",
     "text": [
      "epoch: 3, [batch: 2016 / 6720], examples_per_second: 2339.4734, train_label_loss: 0.2593, \n"
     ]
    },
    {
     "name": "stdout",
     "output_type": "stream",
     "text": [
      "epoch: 3, [batch: 2688 / 6720], examples_per_second: 2499.6483, train_label_loss: 0.4283, \n"
     ]
    },
    {
     "name": "stdout",
     "output_type": "stream",
     "text": [
      "epoch: 3, [batch: 3360 / 6720], examples_per_second: 2611.2079, train_label_loss: 0.9415, \n"
     ]
    },
    {
     "name": "stdout",
     "output_type": "stream",
     "text": [
      "epoch: 3, [batch: 4032 / 6720], examples_per_second: 2560.5500, train_label_loss: 0.6835, \n"
     ]
    },
    {
     "name": "stdout",
     "output_type": "stream",
     "text": [
      "epoch: 3, [batch: 4704 / 6720], examples_per_second: 2510.7754, train_label_loss: 0.2133, \n"
     ]
    },
    {
     "name": "stdout",
     "output_type": "stream",
     "text": [
      "epoch: 3, [batch: 5376 / 6720], examples_per_second: 2353.2384, train_label_loss: 0.3164, \n"
     ]
    },
    {
     "name": "stdout",
     "output_type": "stream",
     "text": [
      "epoch: 3, [batch: 6048 / 6720], examples_per_second: 2329.2709, train_label_loss: 0.0990, \n"
     ]
    },
    {
     "name": "stdout",
     "output_type": "stream",
     "text": [
      "=============================================================\n",
      "epoch: 3, source_val_acc_label: 0.8543, target_val_acc_label: 0.5142, source_val_label_loss: 0.4060, target_val_label_loss: 411.7115, \n",
      "=============================================================\n"
     ]
    },
    {
     "name": "stdout",
     "output_type": "stream",
     "text": [
      "New best\n"
     ]
    },
    {
     "name": "stdout",
     "output_type": "stream",
     "text": [
      "epoch: 4, [batch: 1 / 6720], examples_per_second: 2.1310, train_label_loss: 0.1271, \n"
     ]
    },
    {
     "name": "stdout",
     "output_type": "stream",
     "text": [
      "epoch: 4, [batch: 672 / 6720], examples_per_second: 2651.6409, train_label_loss: 0.1536, \n"
     ]
    },
    {
     "name": "stdout",
     "output_type": "stream",
     "text": [
      "epoch: 4, [batch: 1344 / 6720], examples_per_second: 2678.8610, train_label_loss: 0.8748, \n"
     ]
    },
    {
     "name": "stdout",
     "output_type": "stream",
     "text": [
      "epoch: 4, [batch: 2016 / 6720], examples_per_second: 2638.7436, train_label_loss: 0.5233, \n"
     ]
    },
    {
     "name": "stdout",
     "output_type": "stream",
     "text": [
      "epoch: 4, [batch: 2688 / 6720], examples_per_second: 2699.7259, train_label_loss: 0.4475, \n"
     ]
    },
    {
     "name": "stdout",
     "output_type": "stream",
     "text": [
      "epoch: 4, [batch: 3360 / 6720], examples_per_second: 2952.9719, train_label_loss: 0.2698, \n"
     ]
    },
    {
     "name": "stdout",
     "output_type": "stream",
     "text": [
      "epoch: 4, [batch: 4032 / 6720], examples_per_second: 2963.3872, train_label_loss: 0.5863, \n"
     ]
    },
    {
     "name": "stdout",
     "output_type": "stream",
     "text": [
      "epoch: 4, [batch: 4704 / 6720], examples_per_second: 2898.7457, train_label_loss: 0.4775, \n"
     ]
    },
    {
     "name": "stdout",
     "output_type": "stream",
     "text": [
      "epoch: 4, [batch: 5376 / 6720], examples_per_second: 2641.6109, train_label_loss: 0.2324, \n"
     ]
    },
    {
     "name": "stdout",
     "output_type": "stream",
     "text": [
      "epoch: 4, [batch: 6048 / 6720], examples_per_second: 2627.5528, train_label_loss: 0.3597, \n"
     ]
    },
    {
     "name": "stdout",
     "output_type": "stream",
     "text": [
      "=============================================================\n",
      "epoch: 4, source_val_acc_label: 0.8443, target_val_acc_label: 0.5141, source_val_label_loss: 0.4247, target_val_label_loss: 504.1569, \n",
      "=============================================================\n"
     ]
    },
    {
     "name": "stdout",
     "output_type": "stream",
     "text": [
      "epoch: 5, [batch: 1 / 6720], examples_per_second: 2.6660, train_label_loss: 0.0885, \n"
     ]
    },
    {
     "name": "stdout",
     "output_type": "stream",
     "text": [
      "epoch: 5, [batch: 672 / 6720], examples_per_second: 2989.8031, train_label_loss: 0.1943, \n"
     ]
    },
    {
     "name": "stdout",
     "output_type": "stream",
     "text": [
      "epoch: 5, [batch: 1344 / 6720], examples_per_second: 2954.7372, train_label_loss: 0.4985, \n"
     ]
    },
    {
     "name": "stdout",
     "output_type": "stream",
     "text": [
      "epoch: 5, [batch: 2016 / 6720], examples_per_second: 2913.6077, train_label_loss: 0.6764, \n"
     ]
    },
    {
     "name": "stdout",
     "output_type": "stream",
     "text": [
      "epoch: 5, [batch: 2688 / 6720], examples_per_second: 2914.4814, train_label_loss: 0.3034, \n"
     ]
    },
    {
     "name": "stdout",
     "output_type": "stream",
     "text": [
      "epoch: 5, [batch: 3360 / 6720], examples_per_second: 2748.7930, train_label_loss: 0.1060, \n"
     ]
    },
    {
     "name": "stdout",
     "output_type": "stream",
     "text": [
      "epoch: 5, [batch: 4032 / 6720], examples_per_second: 2557.0472, train_label_loss: 0.1997, \n"
     ]
    },
    {
     "name": "stdout",
     "output_type": "stream",
     "text": [
      "epoch: 5, [batch: 4704 / 6720], examples_per_second: 2614.9668, train_label_loss: 0.1060, \n"
     ]
    },
    {
     "name": "stdout",
     "output_type": "stream",
     "text": [
      "epoch: 5, [batch: 5376 / 6720], examples_per_second: 2323.1755, train_label_loss: 0.5855, \n"
     ]
    },
    {
     "name": "stdout",
     "output_type": "stream",
     "text": [
      "epoch: 5, [batch: 6048 / 6720], examples_per_second: 2303.4282, train_label_loss: 0.3096, \n"
     ]
    },
    {
     "name": "stdout",
     "output_type": "stream",
     "text": [
      "=============================================================\n",
      "epoch: 5, source_val_acc_label: 0.8573, target_val_acc_label: 0.4952, source_val_label_loss: 0.4001, target_val_label_loss: 647.8264, \n",
      "=============================================================\n"
     ]
    },
    {
     "name": "stdout",
     "output_type": "stream",
     "text": [
      "epoch: 6, [batch: 1 / 6720], examples_per_second: 2.0085, train_label_loss: 0.2942, \n"
     ]
    },
    {
     "name": "stdout",
     "output_type": "stream",
     "text": [
      "epoch: 6, [batch: 672 / 6720], examples_per_second: 2315.2589, train_label_loss: 0.6309, \n"
     ]
    },
    {
     "name": "stdout",
     "output_type": "stream",
     "text": [
      "epoch: 6, [batch: 1344 / 6720], examples_per_second: 2616.6245, train_label_loss: 0.4930, \n"
     ]
    },
    {
     "name": "stdout",
     "output_type": "stream",
     "text": [
      "epoch: 6, [batch: 2016 / 6720], examples_per_second: 2641.5548, train_label_loss: 0.1450, \n"
     ]
    },
    {
     "name": "stdout",
     "output_type": "stream",
     "text": [
      "epoch: 6, [batch: 2688 / 6720], examples_per_second: 2645.1991, train_label_loss: 0.1076, \n"
     ]
    },
    {
     "name": "stdout",
     "output_type": "stream",
     "text": [
      "epoch: 6, [batch: 3360 / 6720], examples_per_second: 2587.2260, train_label_loss: 0.1274, \n"
     ]
    },
    {
     "name": "stdout",
     "output_type": "stream",
     "text": [
      "epoch: 6, [batch: 4032 / 6720], examples_per_second: 2641.4999, train_label_loss: 0.4782, \n"
     ]
    },
    {
     "name": "stdout",
     "output_type": "stream",
     "text": [
      "epoch: 6, [batch: 4704 / 6720], examples_per_second: 2573.3379, train_label_loss: 0.2840, \n"
     ]
    },
    {
     "name": "stdout",
     "output_type": "stream",
     "text": [
      "epoch: 6, [batch: 5376 / 6720], examples_per_second: 2319.1436, train_label_loss: 0.3669, \n"
     ]
    },
    {
     "name": "stdout",
     "output_type": "stream",
     "text": [
      "epoch: 6, [batch: 6048 / 6720], examples_per_second: 2324.7833, train_label_loss: 0.1377, \n"
     ]
    },
    {
     "name": "stdout",
     "output_type": "stream",
     "text": [
      "=============================================================\n",
      "epoch: 6, source_val_acc_label: 0.8843, target_val_acc_label: 0.5081, source_val_label_loss: 0.3239, target_val_label_loss: 756.5411, \n",
      "=============================================================\n"
     ]
    },
    {
     "name": "stdout",
     "output_type": "stream",
     "text": [
      "epoch: 7, [batch: 1 / 6720], examples_per_second: 2.2199, train_label_loss: 0.0688, \n"
     ]
    },
    {
     "name": "stdout",
     "output_type": "stream",
     "text": [
      "epoch: 7, [batch: 672 / 6720], examples_per_second: 2767.4558, train_label_loss: 0.4461, \n"
     ]
    },
    {
     "name": "stdout",
     "output_type": "stream",
     "text": [
      "epoch: 7, [batch: 1344 / 6720], examples_per_second: 2934.8142, train_label_loss: 0.1728, \n"
     ]
    },
    {
     "name": "stdout",
     "output_type": "stream",
     "text": [
      "epoch: 7, [batch: 2016 / 6720], examples_per_second: 2943.6830, train_label_loss: 0.3303, \n"
     ]
    },
    {
     "name": "stdout",
     "output_type": "stream",
     "text": [
      "epoch: 7, [batch: 2688 / 6720], examples_per_second: 2744.0679, train_label_loss: 0.4765, \n"
     ]
    },
    {
     "name": "stdout",
     "output_type": "stream",
     "text": [
      "epoch: 7, [batch: 3360 / 6720], examples_per_second: 3157.5236, train_label_loss: 0.6996, \n"
     ]
    },
    {
     "name": "stdout",
     "output_type": "stream",
     "text": [
      "epoch: 7, [batch: 4032 / 6720], examples_per_second: 3415.8292, train_label_loss: 0.1322, \n"
     ]
    },
    {
     "name": "stdout",
     "output_type": "stream",
     "text": [
      "epoch: 7, [batch: 4704 / 6720], examples_per_second: 2515.1326, train_label_loss: 0.2001, \n"
     ]
    },
    {
     "name": "stdout",
     "output_type": "stream",
     "text": [
      "epoch: 7, [batch: 5376 / 6720], examples_per_second: 2331.8989, train_label_loss: 0.2023, \n"
     ]
    },
    {
     "name": "stdout",
     "output_type": "stream",
     "text": [
      "epoch: 7, [batch: 6048 / 6720], examples_per_second: 2327.6411, train_label_loss: 0.1613, \n"
     ]
    },
    {
     "name": "stdout",
     "output_type": "stream",
     "text": [
      "=============================================================\n",
      "epoch: 7, source_val_acc_label: 0.8799, target_val_acc_label: 0.5014, source_val_label_loss: 0.3302, target_val_label_loss: 975.9725, \n",
      "=============================================================\n"
     ]
    },
    {
     "name": "stdout",
     "output_type": "stream",
     "text": [
      "Patience (3) exhausted\n"
     ]
    }
   ],
   "source": [
    "###################################\n",
    "# train\n",
    "###################################\n",
    "jig = PTN_Train_Eval_Test_Jig(model, p.BEST_MODEL_PATH, p.device)\n",
    "\n",
    "jig.train(\n",
    "    train_iterable=datasets.source.processed.train,\n",
    "    source_val_iterable=datasets.source.processed.val,\n",
    "    target_val_iterable=datasets.target.processed.val,\n",
    "    num_epochs=p.n_epoch,\n",
    "    num_logs_per_epoch=p.NUM_LOGS_PER_EPOCH,\n",
    "    patience=p.patience,\n",
    "    optimizer=optimizer,\n",
    "    criteria_for_best=p.criteria_for_best,\n",
    ")"
   ]
  },
  {
   "cell_type": "code",
   "execution_count": 23,
   "id": "31e8fabf",
   "metadata": {
    "execution": {
     "iopub.execute_input": "2022-03-21T07:05:06.790569Z",
     "iopub.status.busy": "2022-03-21T07:05:06.790006Z",
     "iopub.status.idle": "2022-03-21T07:05:06.823616Z",
     "shell.execute_reply": "2022-03-21T07:05:06.822831Z"
    },
    "papermill": {
     "duration": 0.08456,
     "end_time": "2022-03-21T07:05:06.823808",
     "exception": false,
     "start_time": "2022-03-21T07:05:06.739248",
     "status": "completed"
    },
    "tags": []
   },
   "outputs": [],
   "source": [
    "total_experiment_time_secs = time.time() - start_time_secs"
   ]
  },
  {
   "cell_type": "code",
   "execution_count": 24,
   "id": "87b9595b",
   "metadata": {
    "execution": {
     "iopub.execute_input": "2022-03-21T07:05:06.932627Z",
     "iopub.status.busy": "2022-03-21T07:05:06.931764Z",
     "iopub.status.idle": "2022-03-21T07:09:36.406518Z",
     "shell.execute_reply": "2022-03-21T07:09:36.407194Z"
    },
    "papermill": {
     "duration": 269.529985,
     "end_time": "2022-03-21T07:09:36.407429",
     "exception": false,
     "start_time": "2022-03-21T07:05:06.877444",
     "status": "completed"
    },
    "tags": []
   },
   "outputs": [],
   "source": [
    "###################################\n",
    "# Evaluate the model\n",
    "###################################\n",
    "source_test_label_accuracy, source_test_label_loss = jig.test(datasets.source.processed.test)\n",
    "target_test_label_accuracy, target_test_label_loss = jig.test(datasets.target.processed.test)\n",
    "\n",
    "source_val_label_accuracy, source_val_label_loss = jig.test(datasets.source.processed.val)\n",
    "target_val_label_accuracy, target_val_label_loss = jig.test(datasets.target.processed.val)\n",
    "\n",
    "history = jig.get_history()\n",
    "\n",
    "total_epochs_trained = len(history[\"epoch_indices\"])\n",
    "\n",
    "val_dl = Iterable_Aggregator((datasets.source.original.val,datasets.target.original.val))\n",
    "\n",
    "confusion = ptn_confusion_by_domain_over_dataloader(model, p.device, val_dl)\n",
    "per_domain_accuracy = per_domain_accuracy_from_confusion(confusion)\n",
    "\n",
    "# Add a key to per_domain_accuracy for if it was a source domain\n",
    "for domain, accuracy in per_domain_accuracy.items():\n",
    "    per_domain_accuracy[domain] = {\n",
    "        \"accuracy\": accuracy,\n",
    "        \"source?\": domain in p.domains_source\n",
    "    }\n",
    "\n",
    "# Do an independent accuracy assesment JUST TO BE SURE!\n",
    "# _source_test_label_accuracy = independent_accuracy_assesment(model, datasets.source.processed.test, p.device)\n",
    "# _target_test_label_accuracy = independent_accuracy_assesment(model, datasets.target.processed.test, p.device)\n",
    "# _source_val_label_accuracy = independent_accuracy_assesment(model, datasets.source.processed.val, p.device)\n",
    "# _target_val_label_accuracy = independent_accuracy_assesment(model, datasets.target.processed.val, p.device)\n",
    "\n",
    "# assert(_source_test_label_accuracy == source_test_label_accuracy)\n",
    "# assert(_target_test_label_accuracy == target_test_label_accuracy)\n",
    "# assert(_source_val_label_accuracy == source_val_label_accuracy)\n",
    "# assert(_target_val_label_accuracy == target_val_label_accuracy)\n",
    "\n",
    "experiment = {\n",
    "    \"experiment_name\": p.experiment_name,\n",
    "    \"parameters\": dict(p),\n",
    "    \"results\": {\n",
    "        \"source_test_label_accuracy\": source_test_label_accuracy,\n",
    "        \"source_test_label_loss\": source_test_label_loss,\n",
    "        \"target_test_label_accuracy\": target_test_label_accuracy,\n",
    "        \"target_test_label_loss\": target_test_label_loss,\n",
    "        \"source_val_label_accuracy\": source_val_label_accuracy,\n",
    "        \"source_val_label_loss\": source_val_label_loss,\n",
    "        \"target_val_label_accuracy\": target_val_label_accuracy,\n",
    "        \"target_val_label_loss\": target_val_label_loss,\n",
    "        \"total_epochs_trained\": total_epochs_trained,\n",
    "        \"total_experiment_time_secs\": total_experiment_time_secs,\n",
    "        \"confusion\": confusion,\n",
    "        \"per_domain_accuracy\": per_domain_accuracy,\n",
    "    },\n",
    "    \"history\": history,\n",
    "    \"dataset_metrics\": get_dataset_metrics(datasets, \"ptn\"),\n",
    "}"
   ]
  },
  {
   "cell_type": "code",
   "execution_count": 25,
   "id": "54a21829",
   "metadata": {
    "execution": {
     "iopub.execute_input": "2022-03-21T07:09:36.506780Z",
     "iopub.status.busy": "2022-03-21T07:09:36.506396Z",
     "iopub.status.idle": "2022-03-21T07:09:36.725772Z",
     "shell.execute_reply": "2022-03-21T07:09:36.726462Z"
    },
    "papermill": {
     "duration": 0.268527,
     "end_time": "2022-03-21T07:09:36.726683",
     "exception": false,
     "start_time": "2022-03-21T07:09:36.458156",
     "status": "completed"
    },
    "tags": []
   },
   "outputs": [
    {
     "data": {
      "image/png": "[encoded data removed]",
      "text/plain": [
       "<Figure size 1080x504 with 1 Axes>"
      ]
     },
     "metadata": {
      "needs_background": "light"
     },
     "output_type": "display_data"
    }
   ],
   "source": [
    "ax = get_loss_curve(experiment)\n",
    "plt.show()"
   ]
  },
  {
   "cell_type": "code",
   "execution_count": 26,
   "id": "fd8a0f60",
   "metadata": {
    "execution": {
     "iopub.execute_input": "2022-03-21T07:09:36.827107Z",
     "iopub.status.busy": "2022-03-21T07:09:36.826727Z",
     "iopub.status.idle": "2022-03-21T07:09:37.183321Z",
     "shell.execute_reply": "2022-03-21T07:09:37.182926Z"
    },
    "papermill": {
     "duration": 0.406839,
     "end_time": "2022-03-21T07:09:37.183416",
     "exception": false,
     "start_time": "2022-03-21T07:09:36.776577",
     "status": "completed"
    },
    "tags": []
   },
   "outputs": [
    {
     "data": {
      "text/plain": [
       "<AxesSubplot:title={'center':'Results'}>"
      ]
     },
     "execution_count": 26,
     "metadata": {},
     "output_type": "execute_result"
    },
    {
     "data": {
      "image/png": "[encoded data removed]",
      "text/plain": [
       "<Figure size 1080x504 with 1 Axes>"
      ]
     },
     "metadata": {
      "needs_background": "light"
     },
     "output_type": "display_data"
    }
   ],
   "source": [
    "get_results_table(experiment)"
   ]
  },
  {
   "cell_type": "code",
   "execution_count": 27,
   "id": "cf8dc689",
   "metadata": {
    "execution": {
     "iopub.execute_input": "2022-03-21T07:09:37.283354Z",
     "iopub.status.busy": "2022-03-21T07:09:37.282976Z",
     "iopub.status.idle": "2022-03-21T07:09:37.539938Z",
     "shell.execute_reply": "2022-03-21T07:09:37.539202Z"
    },
    "papermill": {
     "duration": 0.308113,
     "end_time": "2022-03-21T07:09:37.540120",
     "exception": false,
     "start_time": "2022-03-21T07:09:37.232007",
     "status": "completed"
    },
    "tags": []
   },
   "outputs": [
    {
     "data": {
      "text/plain": [
       "<AxesSubplot:title={'center':'Per Domain Validation Accuracy'}, xlabel='domain'>"
      ]
     },
     "execution_count": 27,
     "metadata": {},
     "output_type": "execute_result"
    },
    {
     "data": {
      "image/png": "[encoded data removed]",
      "text/plain": [
       "<Figure size 1080x504 with 1 Axes>"
      ]
     },
     "metadata": {
      "needs_background": "light"
     },
     "output_type": "display_data"
    }
   ],
   "source": [
    "get_domain_accuracies(experiment)"
   ]
  },
  {
   "cell_type": "code",
   "execution_count": 28,
   "id": "a74ae082",
   "metadata": {
    "execution": {
     "iopub.execute_input": "2022-03-21T07:09:37.648637Z",
     "iopub.status.busy": "2022-03-21T07:09:37.648247Z",
     "iopub.status.idle": "2022-03-21T07:09:37.676007Z",
     "shell.execute_reply": "2022-03-21T07:09:37.675238Z"
    },
    "papermill": {
     "duration": 0.081694,
     "end_time": "2022-03-21T07:09:37.676179",
     "exception": false,
     "start_time": "2022-03-21T07:09:37.594485",
     "status": "completed"
    },
    "tags": []
   },
   "outputs": [
    {
     "name": "stdout",
     "output_type": "stream",
     "text": [
      "Source Test Label Accuracy: 0.8610677083333333 Target Test Label Accuracy: 0.5167053663570691\n",
      "Source Val Label Accuracy: 0.8543294270833334 Target Val Label Accuracy: 0.5142015360169492\n"
     ]
    }
   ],
   "source": [
    "print(\"Source Test Label Accuracy:\", experiment[\"results\"][\"source_test_label_accuracy\"], \"Target Test Label Accuracy:\", experiment[\"results\"][\"target_test_label_accuracy\"])\n",
    "print(\"Source Val Label Accuracy:\", experiment[\"results\"][\"source_val_label_accuracy\"], \"Target Val Label Accuracy:\", experiment[\"results\"][\"target_val_label_accuracy\"])"
   ]
  },
  {
   "cell_type": "code",
   "execution_count": 29,
   "id": "dacca602",
   "metadata": {
    "execution": {
     "iopub.execute_input": "2022-03-21T07:09:37.785303Z",
     "iopub.status.busy": "2022-03-21T07:09:37.784727Z",
     "iopub.status.idle": "2022-03-21T07:09:37.816856Z",
     "shell.execute_reply": "2022-03-21T07:09:37.817554Z"
    },
    "papermill": {
     "duration": 0.086522,
     "end_time": "2022-03-21T07:09:37.817776",
     "exception": false,
     "start_time": "2022-03-21T07:09:37.731254",
     "status": "completed"
    },
    "tags": [
     "experiment_json"
    ]
   },
   "outputs": [
    {
     "data": {
      "text/plain": [
       "'{\"experiment_name\": \"tl_1v2:wisig-oracle.run1.framed\", \"parameters\": {\"experiment_name\": \"tl_1v2:wisig-oracle.run1.framed\", \"device\": \"cuda\", \"lr\": 0.0001, \"n_shot\": 3, \"n_query\": 2, \"train_k_factor\": 3, \"val_k_factor\": 2, \"test_k_factor\": 2, \"torch_default_dtype\": \"torch.float32\", \"n_epoch\": 50, \"patience\": 3, \"criteria_for_best\": \"target_accuracy\", \"x_net\": [{\"class\": \"nnReshape\", \"kargs\": {\"shape\": [-1, 1, 2, 256]}}, {\"class\": \"Conv2d\", \"kargs\": {\"in_channels\": 1, \"out_channels\": 256, \"kernel_size\": [1, 7], \"bias\": false, \"padding\": [0, 3]}}, {\"class\": \"ReLU\", \"kargs\": {\"inplace\": true}}, {\"class\": \"BatchNorm2d\", \"kargs\": {\"num_features\": 256}}, {\"class\": \"Conv2d\", \"kargs\": {\"in_channels\": 256, \"out_channels\": 80, \"kernel_size\": [2, 7], \"bias\": true, \"padding\": [0, 3]}}, {\"class\": \"ReLU\", \"kargs\": {\"inplace\": true}}, {\"class\": \"BatchNorm2d\", \"kargs\": {\"num_features\": 80}}, {\"class\": \"Flatten\", \"kargs\": {}}, {\"class\": \"Linear\", \"kargs\": {\"in_features\": 20480, \"out_features\": 256}}, {\"class\": \"ReLU\", \"kargs\": {\"inplace\": true}}, {\"class\": \"BatchNorm1d\", \"kargs\": {\"num_features\": 256}}, {\"class\": \"Linear\", \"kargs\": {\"in_features\": 256, \"out_features\": 256}}], \"NUM_LOGS_PER_EPOCH\": 10, \"BEST_MODEL_PATH\": \"./best_model.pth\", \"n_way\": 16, \"datasets\": [{\"labels\": [\"1-10\", \"1-12\", \"1-14\", \"1-16\", \"1-18\", \"1-19\", \"1-8\", \"10-11\", \"10-17\", \"10-4\", \"10-7\", \"11-1\", \"11-10\", \"11-19\", \"11-20\", \"11-4\", \"11-7\", \"12-19\", \"12-20\", \"12-7\", \"13-14\", \"13-18\", \"13-19\", \"13-20\", \"13-3\", \"13-7\", \"14-10\", \"14-11\", \"14-12\", \"14-13\", \"14-14\", \"14-19\", \"14-20\", \"14-7\", \"14-8\", \"14-9\", \"15-1\", \"15-19\", \"15-6\", \"16-1\", \"16-16\", \"16-19\", \"16-20\", \"17-10\", \"17-11\", \"18-1\", \"18-10\", \"18-11\", \"18-12\", \"18-13\", \"18-14\", \"18-15\", \"18-16\", \"18-17\", \"18-19\", \"18-2\", \"18-20\", \"18-4\", \"18-5\", \"18-7\", \"18-8\", \"18-9\", \"19-1\", \"19-10\", \"19-11\", \"19-12\", \"19-13\", \"19-14\", \"19-15\", \"19-19\", \"19-2\", \"19-20\", \"19-3\", \"19-4\", \"19-6\", \"19-7\", \"19-8\", \"19-9\", \"2-1\", \"2-13\", \"2-15\", \"2-3\", \"2-4\", \"2-5\", \"2-6\", \"2-7\", \"2-8\", \"20-1\", \"20-12\", \"20-14\", \"20-15\", \"20-16\", \"20-18\", \"20-19\", \"20-20\", \"20-3\", \"20-4\", \"20-5\", \"20-7\", \"20-8\", \"3-1\", \"3-13\", \"3-18\", \"3-2\", \"3-8\", \"4-1\", \"4-10\", \"4-11\", \"5-1\", \"5-5\", \"6-1\", \"6-15\", \"6-6\", \"7-10\", \"7-11\", \"7-12\", \"7-13\", \"7-14\", \"7-7\", \"7-8\", \"7-9\", \"8-1\", \"8-13\", \"8-14\", \"8-18\", \"8-20\", \"8-3\", \"8-8\", \"9-1\", \"9-7\"], \"domains\": [1, 2, 3, 4], \"num_examples_per_domain_per_label\": -1, \"pickle_path\": \"/root/csc500-main/datasets/wisig.node3-19.stratified_ds.2022A.pkl\", \"source_or_target_dataset\": \"target\", \"x_transforms\": [\"unit_mag\"], \"episode_transforms\": [], \"domain_prefix\": \"Wisig_\"}, {\"labels\": [\"3123D52\", \"3123D65\", \"3123D79\", \"3123D80\", \"3123D54\", \"3123D70\", \"3123D7B\", \"3123D89\", \"3123D58\", \"3123D76\", \"3123D7D\", \"3123EFE\", \"3123D64\", \"3123D78\", \"3123D7E\", \"3124E4A\"], \"domains\": [32, 38, 8, 44, 14, 50, 20, 26], \"num_examples_per_domain_per_label\": 2000, \"pickle_path\": \"/root/csc500-main/datasets/oracle.Run1_framed_2000Examples_stratified_ds.2022A.pkl\", \"source_or_target_dataset\": \"source\", \"x_transforms\": [\"unit_mag\"], \"episode_transforms\": [], \"domain_prefix\": \"ORACLE.run1\"}], \"dataset_seed\": 1337, \"seed\": 1337, \"x_shape\": [2, 256], \"domains_source\": [\"ORACLE.run132\", \"ORACLE.run138\", \"ORACLE.run18\", \"ORACLE.run144\", \"ORACLE.run114\", \"ORACLE.run150\", \"ORACLE.run120\", \"ORACLE.run126\"], \"domains_target\": [\"Wisig_1\", \"Wisig_2\", \"Wisig_3\", \"Wisig_4\"]}, \"results\": {\"source_test_label_accuracy\": 0.8610677083333333, \"source_test_label_loss\": 0.40165555477142334, \"target_test_label_accuracy\": 0.5167053663570691, \"target_test_label_loss\": 404.86639404296875, \"source_val_label_accuracy\": 0.8543294270833334, \"source_val_label_loss\": 0.4060022532939911, \"target_val_label_accuracy\": 0.5142015360169492, \"target_val_label_loss\": 411.7114562988281, \"total_epochs_trained\": 7, \"total_experiment_time_secs\": 1869.8374361991882, \"confusion\": {\"ORACLE.run114\": {\"15\": {\"15\": 240}, \"3\": {\"3\": 236, \"5\": 1, \"1\": 1, \"4\": 2}, \"6\": {\"6\": 183, \"13\": 57}, \"1\": {\"1\": 228, \"4\": 2, \"5\": 10}, \"8\": {\"8\": 240}, \"10\": {\"10\": 240}, \"9\": {\"9\": 240}, \"13\": {\"14\": 25, \"13\": 110, \"6\": 82, \"2\": 16, \"5\": 5, \"4\": 1, \"7\": 1}, \"12\": {\"12\": 240}, \"5\": {\"5\": 188, \"4\": 28, \"1\": 13, \"3\": 2, \"2\": 9}, \"0\": {\"0\": 238, \"11\": 1, \"3\": 1}, \"2\": {\"2\": 147, \"6\": 12, \"3\": 5, \"5\": 21, \"14\": 43, \"13\": 9, \"15\": 2, \"4\": 1}, \"11\": {\"11\": 228, \"9\": 11, \"0\": 1}, \"14\": {\"14\": 211, \"2\": 19, \"13\": 8, \"6\": 2}, \"7\": {\"7\": 240}, \"4\": {\"4\": 230, \"1\": 1, \"5\": 8, \"3\": 1}}, \"ORACLE.run120\": {\"3\": {\"12\": 31, \"3\": 173, \"9\": 21, \"2\": 12, \"4\": 3}, \"15\": {\"5\": 13, \"15\": 217, \"1\": 7, \"0\": 3}, \"8\": {\"8\": 230, \"4\": 7, \"7\": 2, \"14\": 1}, \"4\": {\"4\": 233, \"8\": 5, \"3\": 2}, \"14\": {\"14\": 232, \"10\": 1, \"6\": 7}, \"0\": {\"5\": 30, \"0\": 195, \"15\": 15}, \"7\": {\"7\": 218, \"4\": 2, \"2\": 12, \"8\": 5, \"3\": 1, \"9\": 2}, \"6\": {\"6\": 233, \"14\": 7}, \"10\": {\"10\": 240}, \"5\": {\"5\": 209, \"1\": 5, \"0\": 14, \"15\": 9, \"12\": 3}, \"2\": {\"2\": 154, \"12\": 22, \"9\": 44, \"3\": 7, \"7\": 10, \"13\": 2, \"1\": 1}, \"12\": {\"12\": 168, \"3\": 31, \"1\": 29, \"9\": 4, \"2\": 7, \"5\": 1}, \"9\": {\"9\": 171, \"12\": 3, \"2\": 39, \"3\": 26, \"7\": 1}, \"1\": {\"1\": 201, \"12\": 30, \"5\": 6, \"9\": 1, \"15\": 2}, \"11\": {\"11\": 240}, \"13\": {\"13\": 237, \"2\": 3}}, \"ORACLE.run138\": {\"5\": {\"8\": 54, \"5\": 135, \"7\": 25, \"15\": 11, \"9\": 9, \"6\": 4, \"13\": 1, \"0\": 1}, \"8\": {\"8\": 186, \"7\": 11, \"0\": 10, \"5\": 29, \"10\": 3, \"15\": 1}, \"11\": {\"11\": 236, \"14\": 3, \"4\": 1}, \"1\": {\"1\": 235, \"15\": 5}, \"10\": {\"10\": 219, \"7\": 1, \"8\": 4, \"13\": 15, \"14\": 1}, \"15\": {\"15\": 224, \"8\": 2, \"1\": 8, \"13\": 4, \"5\": 2}, \"3\": {\"3\": 238, \"0\": 1, \"9\": 1}, \"7\": {\"7\": 225, \"8\": 6, \"5\": 5, \"0\": 4}, \"4\": {\"4\": 240}, \"14\": {\"14\": 230, \"2\": 10}, \"9\": {\"9\": 226, \"6\": 12, \"5\": 2}, \"12\": {\"12\": 240}, \"6\": {\"9\": 2, \"6\": 238}, \"2\": {\"2\": 226, \"13\": 6, \"14\": 8}, \"0\": {\"8\": 30, \"0\": 177, \"7\": 9, \"3\": 11, \"11\": 2, \"10\": 6, \"13\": 1, \"5\": 4}, \"13\": {\"13\": 215, \"15\": 9, \"10\": 8, \"5\": 1, \"0\": 2, \"1\": 1, \"2\": 3, \"14\": 1}}, \"ORACLE.run18\": {\"9\": {\"9\": 240}, \"10\": {\"10\": 215, \"14\": 14, \"4\": 4, \"13\": 7}, \"13\": {\"13\": 139, \"0\": 42, \"6\": 5, \"14\": 3, \"10\": 26, \"4\": 25}, \"0\": {\"13\": 24, \"0\": 208, \"7\": 7, \"4\": 1}, \"1\": {\"1\": 237, \"5\": 2, \"11\": 1}, \"15\": {\"15\": 224, \"12\": 14, \"8\": 2}, \"5\": {\"5\": 227, \"10\": 8, \"1\": 3, \"14\": 2}, \"3\": {\"3\": 240}, \"6\": {\"6\": 197, \"7\": 33, \"13\": 3, \"4\": 6, \"0\": 1}, \"11\": {\"11\": 234, \"1\": 5, \"5\": 1}, \"8\": {\"8\": 239, \"15\": 1}, \"4\": {\"4\": 194, \"13\": 29, \"10\": 2, \"6\": 3, \"14\": 11, \"0\": 1}, \"12\": {\"12\": 165, \"15\": 55, \"3\": 19, \"2\": 1}, \"14\": {\"14\": 188, \"4\": 19, \"1\": 9, \"10\": 21, \"13\": 2, \"5\": 1}, \"2\": {\"2\": 229, \"7\": 6, \"3\": 5}, \"7\": {\"7\": 216, \"6\": 24}}, \"ORACLE.run150\": {\"7\": {\"7\": 220, \"13\": 10, \"5\": 5, \"10\": 3, \"6\": 2}, \"3\": {\"3\": 240}, \"8\": {\"8\": 238, \"10\": 2}, \"2\": {\"2\": 230, \"0\": 10}, \"14\": {\"14\": 240}, \"4\": {\"15\": 16, \"4\": 165, \"1\": 21, \"5\": 35, \"13\": 2, \"6\": 1}, \"6\": {\"6\": 219, \"13\": 14, \"7\": 2, \"4\": 1, \"5\": 3, \"1\": 1}, \"15\": {\"15\": 202, \"1\": 22, \"4\": 8, \"6\": 2, \"11\": 6}, \"10\": {\"7\": 3, \"10\": 231, \"8\": 3, \"13\": 2, \"0\": 1}, \"11\": {\"11\": 228, \"15\": 5, \"12\": 5, \"9\": 2}, \"13\": {\"13\": 214, \"7\": 7, \"6\": 6, \"5\": 8, \"10\": 3, \"1\": 1, \"0\": 1}, \"9\": {\"9\": 228, \"12\": 3, \"11\": 9}, \"0\": {\"0\": 219, \"2\": 17, \"10\": 4}, \"1\": {\"15\": 26, \"1\": 198, \"4\": 6, \"5\": 5, \"6\": 3, \"2\": 1, \"11\": 1}, \"12\": {\"12\": 236, \"11\": 1, \"9\": 2, \"14\": 1}, \"5\": {\"5\": 148, \"4\": 30, \"7\": 12, \"13\": 31, \"1\": 17, \"6\": 1, \"15\": 1}}, \"ORACLE.run132\": {\"8\": {\"13\": 12, \"8\": 205, \"0\": 15, \"14\": 4, \"3\": 3, \"5\": 1}, \"14\": {\"14\": 157, \"11\": 48, \"0\": 23, \"7\": 7, \"8\": 2, \"5\": 3}, \"2\": {\"2\": 213, \"4\": 27}, \"0\": {\"0\": 205, \"8\": 21, \"14\": 12, \"7\": 1, \"13\": 1}, \"1\": {\"1\": 240}, \"10\": {\"10\": 240}, \"11\": {\"11\": 222, \"14\": 17, \"7\": 1}, \"5\": {\"5\": 141, \"14\": 3, \"7\": 49, \"3\": 7, \"0\": 2, \"8\": 4, \"13\": 19, \"4\": 13, \"11\": 1, \"2\": 1}, \"15\": {\"15\": 240}, \"3\": {\"3\": 233, \"11\": 4, \"13\": 2, \"14\": 1}, \"12\": {\"12\": 240}, \"7\": {\"7\": 164, \"5\": 33, \"14\": 10, \"4\": 26, \"13\": 4, \"8\": 1, \"11\": 1, \"0\": 1}, \"13\": {\"13\": 204, \"3\": 8, \"5\": 7, \"14\": 3, \"4\": 10, \"7\": 5, \"11\": 1, \"8\": 2}, \"6\": {\"6\": 240}, \"4\": {\"2\": 27, \"4\": 183, \"5\": 8, \"7\": 13, \"13\": 9}, \"9\": {\"9\": 240}}, \"ORACLE.run126\": {\"4\": {\"4\": 162, \"1\": 4, \"14\": 45, \"7\": 6, \"0\": 7, \"8\": 16}, \"12\": {\"12\": 240}, \"10\": {\"14\": 12, \"10\": 138, \"0\": 51, \"8\": 34, \"6\": 1, \"4\": 2, \"15\": 1, \"9\": 1}, \"0\": {\"0\": 97, \"8\": 28, \"14\": 32, \"10\": 60, \"4\": 20, \"6\": 2, \"7\": 1}, \"13\": {\"13\": 186, \"5\": 45, \"15\": 5, \"2\": 1, \"9\": 3}, \"9\": {\"9\": 176, \"15\": 56, \"6\": 7, \"10\": 1}, \"3\": {\"3\": 189, \"7\": 14, \"2\": 37}, \"2\": {\"2\": 102, \"3\": 80, \"7\": 26, \"15\": 5, \"5\": 25, \"8\": 1, \"13\": 1}, \"5\": {\"5\": 205, \"13\": 18, \"2\": 9, \"9\": 2, \"15\": 5, \"7\": 1}, \"14\": {\"4\": 75, \"14\": 118, \"10\": 11, \"0\": 21, \"1\": 12, \"8\": 1, \"7\": 1, \"6\": 1}, \"8\": {\"7\": 21, \"8\": 136, \"0\": 21, \"10\": 32, \"15\": 6, \"4\": 20, \"14\": 3, \"2\": 1}, \"7\": {\"7\": 194, \"8\": 14, \"2\": 16, \"4\": 9, \"3\": 6, \"0\": 1}, \"6\": {\"6\": 217, \"9\": 14, \"10\": 2, \"15\": 7}, \"11\": {\"11\": 240}, \"15\": {\"15\": 163, \"9\": 39, \"8\": 15, \"13\": 5, \"5\": 6, \"6\": 3, \"2\": 2, \"10\": 5, \"0\": 2}, \"1\": {\"1\": 220, \"8\": 1, \"14\": 12, \"4\": 6, \"7\": 1}}, \"ORACLE.run144\": {\"12\": {\"12\": 215, \"1\": 23, \"10\": 1, \"3\": 1}, \"7\": {\"7\": 170, \"2\": 22, \"9\": 43, \"6\": 5}, \"5\": {\"5\": 214, \"0\": 13, \"14\": 5, \"15\": 5, \"8\": 3}, \"15\": {\"15\": 208, \"14\": 9, \"5\": 2, \"0\": 16, \"8\": 5}, \"8\": {\"0\": 90, \"8\": 145, \"15\": 4, \"5\": 1}, \"2\": {\"2\": 200, \"7\": 26, \"1\": 5, \"10\": 8, \"12\": 1}, \"13\": {\"13\": 162, \"9\": 38, \"6\": 40}, \"4\": {\"4\": 179, \"14\": 60, \"15\": 1}, \"0\": {\"0\": 157, \"8\": 64, \"5\": 13, \"15\": 6}, \"6\": {\"6\": 184, \"9\": 20, \"7\": 2, \"13\": 34}, \"9\": {\"13\": 35, \"7\": 45, \"9\": 146, \"6\": 12, \"4\": 2}, \"11\": {\"11\": 236, \"13\": 4}, \"10\": {\"1\": 13, \"10\": 206, \"12\": 12, \"2\": 9}, \"14\": {\"4\": 72, \"14\": 153, \"15\": 12, \"5\": 3}, \"1\": {\"3\": 17, \"1\": 164, \"2\": 11, \"12\": 41, \"10\": 7}, \"3\": {\"3\": 228, \"1\": 11, \"12\": 1}}, \"Wisig_3\": {\"109\": {\"84\": 1, \"109\": 55, \"64\": 2, \"96\": 1, \"43\": 1, \"62\": 5, \"26\": 2, \"23\": 1, \"11\": 8, \"126\": 5, \"89\": 1, \"118\": 6, \"16\": 8, \"69\": 2, \"93\": 2, \"32\": 1, \"113\": 3, \"39\": 2, \"88\": 7, \"90\": 2, \"102\": 1, \"61\": 1, \"121\": 2, \"18\": 3, \"70\": 2, \"92\": 1, \"117\": 1, \"33\": 1, \"87\": 1}, \"127\": {\"127\": 85, \"41\": 1, \"99\": 4, \"8\": 6, \"86\": 3, \"3\": 5, \"88\": 1, \"0\": 1, \"10\": 5, \"12\": 1, \"124\": 3, \"4\": 2, \"69\": 1, \"71\": 2, \"7\": 4, \"105\": 3, \"110\": 1}, \"14\": {\"57\": 2, \"14\": 45, \"113\": 1, \"74\": 2, \"107\": 1, \"90\": 1, \"88\": 2, \"116\": 1, \"29\": 1, \"87\": 1, \"16\": 4, \"70\": 3, \"84\": 3, \"109\": 1, \"62\": 5, \"32\": 2, \"31\": 1, \"115\": 2, \"21\": 1, \"11\": 1}, \"7\": {\"7\": 61, \"99\": 2, \"91\": 2, \"12\": 2, \"95\": 2, \"10\": 4, \"127\": 8, \"4\": 1, \"0\": 5, \"5\": 3, \"94\": 1, \"124\": 7, \"111\": 2, \"3\": 6, \"30\": 1, \"35\": 1, \"26\": 1, \"8\": 2, \"90\": 1}, \"129\": {\"107\": 1, \"14\": 1, \"84\": 4, \"49\": 1, \"110\": 2, \"32\": 1, \"69\": 1, \"70\": 1, \"127\": 1, \"129\": 6, \"93\": 1, \"114\": 1, \"44\": 2, \"4\": 1, \"77\": 1, \"9\": 1, \"5\": 1, \"122\": 1, \"100\": 1, \"19\": 1, \"89\": 1, \"60\": 1}, \"57\": {\"57\": 20}, \"84\": {\"14\": 2, \"100\": 1, \"84\": 70, \"44\": 1, \"29\": 2, \"129\": 1, \"90\": 7, \"107\": 4, \"114\": 1, \"62\": 1, \"70\": 1, \"40\": 1, \"87\": 5, \"1\": 4, \"82\": 2, \"33\": 2, \"120\": 1, \"16\": 1, \"88\": 1}, \"114\": {\"114\": 62, \"68\": 1, \"3\": 4, \"9\": 4, \"29\": 1, \"110\": 5, \"105\": 7, \"5\": 3, \"1\": 10, \"108\": 1, \"127\": 3, \"40\": 5, \"107\": 1, \"10\": 3, \"4\": 5, \"87\": 1, \"28\": 1, \"66\": 1, \"99\": 1, \"24\": 1, \"55\": 1, \"113\": 1, \"8\": 1, \"62\": 1}, \"44\": {\"44\": 37, \"109\": 1, \"114\": 3, \"49\": 2, \"45\": 1, \"87\": 3, \"60\": 3, \"17\": 2, \"53\": 1, \"9\": 1, \"1\": 3, \"70\": 1, \"107\": 1, \"16\": 1, \"62\": 1, \"48\": 1, \"86\": 1, \"19\": 1, \"29\": 1, \"84\": 3, \"102\": 1, \"40\": 1, \"23\": 1, \"11\": 1}, \"21\": {\"21\": 27, \"43\": 2, \"121\": 1, \"14\": 3, \"11\": 2, \"39\": 2, \"16\": 1, \"36\": 1, \"90\": 1, \"109\": 1, \"122\": 1, \"26\": 1, \"118\": 2, \"94\": 1, \"110\": 2}, \"46\": {\"46\": 11, \"128\": 1, \"108\": 1, \"5\": 1, \"71\": 1, \"3\": 1}, \"100\": {\"107\": 2, \"100\": 8, \"65\": 1, \"1\": 1, \"84\": 1, \"87\": 1, \"129\": 2}, \"63\": {\"63\": 11, \"123\": 2, \"18\": 1, \"126\": 1, \"82\": 1}, \"24\": {\"24\": 14, \"65\": 2, \"106\": 3, \"4\": 1, \"34\": 1, \"93\": 1, \"36\": 3, \"91\": 1, \"73\": 1, \"70\": 1, \"5\": 3, \"125\": 3, \"111\": 1, \"127\": 2, \"59\": 1, \"42\": 2, \"30\": 2, \"6\": 2, \"12\": 2, \"8\": 1, \"27\": 1}, \"107\": {\"107\": 95, \"100\": 1, \"87\": 3, \"48\": 1, \"11\": 1, \"40\": 3, \"84\": 5, \"70\": 2, \"1\": 1, \"105\": 1, \"62\": 1, \"82\": 1, \"90\": 1, \"108\": 1, \"110\": 1}, \"35\": {\"7\": 2, \"35\": 6, \"62\": 1, \"52\": 1, \"47\": 2}, \"81\": {\"81\": 19, \"109\": 1, \"96\": 2, \"2\": 3, \"39\": 1, \"117\": 1, \"26\": 1, \"121\": 2, \"118\": 1, \"113\": 1}, \"64\": {\"64\": 16, \"92\": 2, \"120\": 1, \"43\": 1}, \"59\": {\"36\": 1, \"59\": 7, \"106\": 2, \"51\": 2}, \"33\": {\"33\": 68, \"80\": 1, \"93\": 4, \"16\": 1, \"69\": 2, \"102\": 15, \"118\": 6, \"90\": 3, \"11\": 2, \"43\": 1, \"117\": 1, \"87\": 2, \"26\": 4, \"113\": 1, \"18\": 1, \"62\": 1, \"39\": 1}, \"34\": {\"36\": 2, \"59\": 1, \"97\": 1, \"83\": 1, \"111\": 1, \"24\": 1, \"14\": 3, \"84\": 1, \"37\": 1, \"30\": 1, \"23\": 1, \"106\": 1, \"70\": 1, \"125\": 1, \"25\": 1, \"109\": 1, \"50\": 1, \"34\": 3, \"40\": 1, \"57\": 1, \"32\": 1, \"15\": 4, \"28\": 1, \"94\": 1}, \"36\": {\"36\": 30, \"59\": 1, \"101\": 1, \"27\": 4, \"25\": 1, \"12\": 8, \"111\": 8, \"0\": 6, \"124\": 4, \"10\": 2, \"30\": 6, \"6\": 1, \"98\": 1, \"73\": 1, \"95\": 3, \"125\": 12, \"8\": 2, \"94\": 4, \"15\": 5, \"106\": 7, \"127\": 5, \"4\": 1, \"3\": 3, \"97\": 1, \"42\": 1, \"7\": 2}, \"79\": {\"79\": 9, \"102\": 1, \"87\": 1, \"90\": 1}, \"80\": {\"80\": 14, \"28\": 1, \"11\": 1}, \"77\": {\"77\": 10, \"64\": 1, \"8\": 1, \"86\": 1, \"127\": 1, \"105\": 2}, \"22\": {\"22\": 9, \"28\": 2, \"116\": 1, \"21\": 1, \"76\": 1, \"121\": 1, \"50\": 1}, \"124\": {\"124\": 79, \"52\": 2, \"8\": 5, \"95\": 1, \"24\": 1, \"7\": 4, \"111\": 1, \"73\": 2, \"127\": 4, \"0\": 2, \"4\": 7, \"16\": 1, \"68\": 1, \"41\": 1, \"85\": 2, \"71\": 2, \"62\": 1, \"42\": 1, \"5\": 2, \"30\": 2, \"12\": 2, \"3\": 1}, \"2\": {\"2\": 13, \"81\": 4, \"126\": 1, \"117\": 5, \"26\": 4, \"118\": 1}, \"87\": {\"33\": 2, \"105\": 2, \"14\": 1, \"100\": 1, \"1\": 5, \"57\": 1, \"44\": 7, \"87\": 31, \"88\": 2, \"11\": 4, \"110\": 2, \"90\": 7, \"126\": 1, \"129\": 1, \"71\": 2, \"109\": 4, \"4\": 1, \"39\": 1, \"40\": 6, \"114\": 10, \"84\": 4, \"7\": 1, \"107\": 5, \"118\": 2, \"62\": 6, \"21\": 1, \"122\": 1, \"45\": 1}, \"105\": {\"105\": 85, \"9\": 6, \"10\": 3, \"99\": 1, \"108\": 4, \"5\": 2, \"71\": 1, \"114\": 6, \"4\": 4, \"110\": 2, \"40\": 2, \"46\": 1, \"19\": 2, \"91\": 1, \"127\": 2}, \"95\": {\"95\": 31, \"7\": 1}, \"43\": {\"43\": 15, \"80\": 1, \"63\": 1, \"74\": 1, \"11\": 2, \"117\": 2, \"50\": 2, \"109\": 3, \"13\": 1, \"62\": 3, \"118\": 4, \"90\": 2, \"126\": 1, \"102\": 2, \"69\": 3, \"93\": 1, \"44\": 1, \"87\": 1, \"113\": 2, \"18\": 1, \"120\": 1, \"121\": 1, \"33\": 2, \"21\": 1, \"70\": 2}, \"56\": {\"95\": 1, \"8\": 1, \"4\": 1, \"103\": 1, \"56\": 6, \"128\": 1, \"3\": 1}, \"18\": {\"18\": 94, \"123\": 1, \"26\": 4, \"102\": 3, \"69\": 3, \"88\": 1, \"117\": 2, \"39\": 2, \"126\": 6, \"113\": 2, \"13\": 1, \"67\": 2, \"33\": 1, \"109\": 1, \"125\": 1}, \"85\": {\"56\": 1, \"86\": 1, \"85\": 26, \"12\": 1, \"42\": 1, \"52\": 1, \"99\": 1, \"124\": 3, \"72\": 1}, \"113\": {\"123\": 2, \"113\": 38, \"96\": 1, \"39\": 4, \"117\": 13, \"62\": 4, \"26\": 10, \"120\": 2, \"92\": 3, \"102\": 6, \"93\": 3, \"11\": 2, \"118\": 5, \"16\": 4, \"109\": 8, \"88\": 1, \"69\": 3, \"17\": 1, \"43\": 3, \"18\": 2, \"14\": 1, \"87\": 1, \"126\": 2, \"33\": 1}, \"97\": {\"97\": 9, \"59\": 1, \"89\": 1, \"73\": 3, \"94\": 1, \"36\": 1, \"101\": 1, \"13\": 1, \"111\": 1, \"124\": 1}, \"86\": {\"128\": 2, \"49\": 2, \"86\": 13, \"82\": 1, \"46\": 2, \"103\": 2, \"114\": 1, \"4\": 1, \"15\": 1, \"125\": 1, \"105\": 2}, \"128\": {\"128\": 11, \"90\": 1, \"115\": 2, \"3\": 2, \"14\": 1, \"86\": 1, \"23\": 1, \"110\": 2, \"127\": 1, \"10\": 1, \"108\": 1, \"28\": 2, \"22\": 1, \"103\": 1, \"122\": 1, \"125\": 1, \"95\": 1, \"129\": 1}, \"123\": {\"123\": 12, \"43\": 1, \"26\": 1, \"126\": 1, \"63\": 1}, \"8\": {\"86\": 2, \"95\": 2, \"65\": 2, \"35\": 2, \"8\": 38, \"27\": 1, \"91\": 2, \"5\": 2, \"43\": 1, \"114\": 4, \"124\": 4, \"108\": 6, \"127\": 11, \"12\": 3, \"30\": 3, \"71\": 2, \"3\": 6, \"0\": 2, \"99\": 2, \"111\": 3, \"7\": 6, \"1\": 1, \"106\": 1, \"110\": 2, \"105\": 6, \"88\": 1, \"55\": 1, \"42\": 3, \"128\": 1, \"10\": 4, \"9\": 1, \"24\": 1, \"15\": 2, \"36\": 2}, \"110\": {\"110\": 31, \"43\": 1, \"67\": 1, \"63\": 1, \"8\": 4, \"38\": 1, \"107\": 1, \"118\": 1, \"128\": 2, \"11\": 1, \"21\": 1, \"90\": 1, \"88\": 4, \"14\": 3, \"10\": 4, \"105\": 3, \"126\": 2, \"0\": 1, \"93\": 1, \"1\": 6, \"16\": 1, \"114\": 4, \"46\": 1, \"27\": 1, \"122\": 1, \"9\": 1, \"5\": 1, \"84\": 1, \"62\": 2, \"4\": 1, \"69\": 1, \"3\": 2, \"108\": 1, \"87\": 1, \"26\": 1}, \"126\": {\"123\": 2, \"43\": 5, \"102\": 6, \"57\": 1, \"18\": 13, \"118\": 4, \"120\": 1, \"26\": 5, \"113\": 3, \"89\": 1, \"126\": 30, \"39\": 4, \"125\": 1, \"109\": 3, \"11\": 5, \"93\": 5, \"106\": 1, \"62\": 4, \"96\": 1, \"2\": 2, \"117\": 2, \"33\": 1, \"69\": 1, \"16\": 2, \"87\": 1}, \"42\": {\"42\": 8, \"114\": 2, \"68\": 1, \"19\": 2, \"60\": 1, \"12\": 1, \"30\": 1, \"72\": 1, \"99\": 1, \"85\": 1, \"40\": 2, \"5\": 1, \"34\": 1, \"98\": 1, \"127\": 1, \"8\": 2, \"27\": 1}, \"96\": {\"113\": 2, \"96\": 6, \"81\": 2, \"92\": 3, \"21\": 1, \"43\": 2, \"17\": 1, \"39\": 1, \"109\": 1, \"117\": 1}, \"83\": {\"83\": 19, \"110\": 1, \"112\": 3, \"6\": 1}, \"54\": {\"54\": 15, \"94\": 1}, \"65\": {\"65\": 7, \"96\": 1, \"4\": 1, \"55\": 2, \"92\": 1}, \"30\": {\"42\": 1, \"30\": 27, \"86\": 1, \"10\": 1, \"58\": 1, \"12\": 3, \"71\": 1, \"0\": 3, \"127\": 6, \"73\": 3, \"8\": 11, \"94\": 1, \"125\": 1, \"36\": 1, \"7\": 1, \"108\": 3, \"117\": 1, \"15\": 5, \"106\": 1, \"52\": 1, \"68\": 1, \"4\": 3, \"5\": 2, \"126\": 1, \"99\": 1, \"98\": 2, \"111\": 1}, \"121\": {\"121\": 12, \"113\": 1, \"115\": 1, \"64\": 2, \"90\": 1, \"43\": 2, \"21\": 1, \"81\": 2, \"117\": 1, \"23\": 1, \"118\": 2, \"14\": 1, \"62\": 1, \"109\": 1, \"11\": 1, \"33\": 1, \"78\": 1}, \"68\": {\"42\": 1, \"30\": 1, \"12\": 2, \"68\": 10, \"72\": 1, \"119\": 1}, \"45\": {\"14\": 2, \"45\": 10, \"20\": 2, \"94\": 1, \"87\": 1}, \"48\": {\"48\": 3, \"114\": 1, \"34\": 2, \"77\": 2, \"126\": 1, \"76\": 1, \"65\": 1, \"79\": 1, \"103\": 1, \"81\": 1, \"8\": 1, \"33\": 1}, \"4\": {\"4\": 65, \"56\": 1, \"108\": 5, \"39\": 1, \"71\": 5, \"105\": 4, \"127\": 3, \"10\": 1, \"5\": 5, \"99\": 1, \"86\": 1, \"23\": 1, \"8\": 1, \"30\": 2}, \"67\": {\"123\": 2, \"67\": 11, \"63\": 1, \"113\": 1, \"39\": 1}, \"103\": {\"103\": 10, \"105\": 1, \"5\": 1, \"19\": 1, \"85\": 1, \"4\": 1, \"81\": 1}, \"74\": {\"74\": 16}, \"1\": {\"1\": 59, \"65\": 1, \"9\": 2, \"122\": 2, \"19\": 2, \"71\": 1, \"40\": 9, \"105\": 4, \"110\": 5, \"7\": 1, \"114\": 10, \"70\": 2, \"87\": 2, \"62\": 2, \"108\": 1, \"4\": 2, \"109\": 1, \"88\": 1, \"107\": 1}, \"61\": {\"61\": 16}, \"101\": {\"101\": 26, \"68\": 3, \"9\": 1, \"42\": 1, \"0\": 4, \"15\": 3, \"36\": 2, \"6\": 1, \"98\": 1, \"93\": 1, \"30\": 2, \"25\": 1, \"58\": 1, \"12\": 2, \"95\": 2, \"27\": 1}, \"93\": {\"74\": 2, \"93\": 68, \"26\": 1, \"64\": 1, \"118\": 3, \"33\": 13, \"14\": 1, \"90\": 1, \"117\": 3, \"43\": 1, \"16\": 6, \"69\": 4, \"113\": 6, \"109\": 8, \"39\": 2, \"88\": 1, \"102\": 3, \"11\": 3, \"120\": 1, \"115\": 1, \"84\": 1, \"121\": 1, \"62\": 2, \"23\": 1, \"87\": 2, \"18\": 1, \"126\": 1}, \"26\": {\"96\": 1, \"93\": 4, \"26\": 79, \"13\": 1, \"102\": 3, \"11\": 4, \"120\": 1, \"82\": 1, \"43\": 1, \"109\": 2, \"16\": 2, \"117\": 9, \"118\": 2, \"62\": 2, \"39\": 1, \"88\": 2, \"113\": 7, \"81\": 2, \"110\": 1, \"69\": 1, \"18\": 1, \"126\": 1, \"33\": 2}, \"71\": {\"103\": 1, \"4\": 3, \"46\": 2, \"71\": 34, \"99\": 3, \"73\": 2, \"107\": 1, \"124\": 4, \"113\": 1, \"7\": 1, \"108\": 1, \"127\": 4, \"122\": 1, \"41\": 4, \"18\": 1, \"5\": 3, \"10\": 1, \"3\": 1}, \"15\": {\"15\": 48, \"97\": 1, \"72\": 2, \"27\": 5, \"6\": 2, \"36\": 4, \"73\": 3, \"12\": 7, \"24\": 2, \"101\": 1, \"18\": 2, \"124\": 1, \"30\": 4, \"106\": 4, \"3\": 1, \"111\": 2, \"0\": 4, \"35\": 1, \"37\": 1, \"125\": 3, \"94\": 1, \"98\": 4, \"8\": 1}, \"55\": {\"55\": 16}, \"104\": {\"104\": 16}, \"112\": {\"112\": 9, \"0\": 1, \"30\": 2, \"5\": 1, \"27\": 1, \"127\": 2}, \"102\": {\"117\": 7, \"102\": 72, \"90\": 1, \"43\": 2, \"16\": 3, \"69\": 4, \"118\": 8, \"26\": 4, \"93\": 2, \"33\": 11, \"113\": 1, \"17\": 1, \"82\": 1, \"39\": 2, \"62\": 1, \"11\": 2}, \"117\": {\"117\": 94, \"39\": 4, \"93\": 1, \"26\": 3, \"113\": 5, \"118\": 2, \"2\": 1, \"16\": 1, \"102\": 1}, \"119\": {\"119\": 15, \"26\": 1}, \"20\": {\"20\": 9, \"125\": 1, \"45\": 1, \"79\": 1, \"109\": 1, \"129\": 2, \"40\": 1}, \"120\": {\"120\": 18, \"43\": 1, \"113\": 1}, \"39\": {\"64\": 2, \"39\": 22, \"123\": 1, \"62\": 6, \"2\": 3, \"82\": 1, \"121\": 3, \"92\": 1, \"63\": 1, \"26\": 7, \"14\": 1, \"18\": 9, \"21\": 3, \"102\": 4, \"88\": 3, \"113\": 7, \"109\": 9, \"93\": 1, \"117\": 5, \"126\": 5, \"11\": 4, \"87\": 1, \"33\": 1, \"119\": 1, \"96\": 1, \"43\": 3, \"118\": 3}, \"49\": {\"49\": 5, \"8\": 2, \"35\": 1, \"1\": 1, \"10\": 1, \"87\": 1, \"77\": 1, \"128\": 1, \"91\": 2, \"42\": 1, \"82\": 2, \"55\": 1, \"69\": 1, \"12\": 1, \"33\": 1, \"103\": 1, \"19\": 1}, \"53\": {\"53\": 19, \"44\": 1}, \"92\": {\"92\": 18, \"64\": 2, \"16\": 4, \"122\": 1, \"43\": 1, \"62\": 1, \"118\": 1, \"74\": 1, \"96\": 1, \"113\": 2}, \"3\": {\"42\": 1, \"114\": 2, \"3\": 55, \"8\": 6, \"127\": 12, \"99\": 1, \"41\": 1, \"108\": 4, \"71\": 2, \"7\": 5, \"5\": 13, \"4\": 8, \"86\": 1, \"56\": 1, \"95\": 1, \"105\": 1, \"124\": 2}, \"47\": {\"47\": 11, \"34\": 1}, \"115\": {\"115\": 6, \"62\": 4, \"107\": 1, \"14\": 3, \"122\": 1, \"87\": 1}, \"58\": {\"15\": 1, \"58\": 14, \"68\": 1}, \"29\": {\"29\": 14, \"80\": 2, \"90\": 2, \"114\": 1, \"122\": 1, \"121\": 1, \"32\": 3, \"78\": 2, \"74\": 1, \"44\": 1, \"19\": 1, \"107\": 1, \"113\": 2}, \"12\": {\"12\": 47, \"98\": 7, \"128\": 1, \"73\": 2, \"36\": 3, \"101\": 1, \"91\": 1, \"124\": 9, \"111\": 7, \"7\": 6, \"30\": 5, \"0\": 5, \"127\": 1, \"15\": 1, \"95\": 2, \"34\": 1, \"42\": 2, \"3\": 1, \"10\": 1, \"8\": 1}, \"62\": {\"62\": 96, \"115\": 1, \"107\": 1, \"109\": 6, \"21\": 1, \"87\": 1, \"118\": 1, \"88\": 3, \"90\": 3, \"14\": 4, \"11\": 1}, \"11\": {\"121\": 2, \"64\": 1, \"88\": 6, \"69\": 6, \"11\": 43, \"21\": 6, \"87\": 3, \"74\": 2, \"109\": 7, \"14\": 2, \"16\": 11, \"118\": 4, \"117\": 1, \"90\": 4, \"126\": 1, \"33\": 7, \"93\": 7, \"102\": 9, \"107\": 1, \"62\": 6, \"26\": 4, \"76\": 1, \"43\": 1, \"67\": 1, \"120\": 1, \"113\": 1, \"84\": 1, \"70\": 1}, \"72\": {\"72\": 21, \"0\": 2, \"111\": 2, \"58\": 1, \"94\": 1, \"12\": 1}, \"98\": {\"98\": 73, \"15\": 7, \"124\": 2, \"73\": 1, \"36\": 5, \"0\": 3, \"12\": 1, \"111\": 7, \"125\": 3, \"101\": 2, \"27\": 2}, \"122\": {\"122\": 15, \"115\": 3, \"19\": 2, \"1\": 5, \"129\": 5, \"74\": 2, \"62\": 5, \"108\": 1, \"118\": 1, \"99\": 1, \"14\": 2, \"128\": 2, \"21\": 2, \"39\": 1, \"90\": 1, \"40\": 4, \"23\": 2, \"64\": 1, \"20\": 1, \"70\": 1, \"57\": 1, \"96\": 1, \"26\": 1}, \"17\": {\"17\": 2, \"121\": 1, \"61\": 1, \"67\": 1, \"63\": 1, \"26\": 1, \"120\": 1, \"105\": 1, \"108\": 1, \"104\": 1, \"113\": 1, \"47\": 1, \"117\": 1, \"119\": 1, \"118\": 1}, \"94\": {\"106\": 10, \"94\": 41, \"27\": 2, \"0\": 2, \"73\": 5, \"6\": 3, \"15\": 3, \"30\": 2, \"125\": 5, \"111\": 3, \"36\": 2, \"98\": 1, \"25\": 1, \"51\": 1, \"37\": 1, \"12\": 1, \"24\": 1}, \"106\": {\"106\": 53, \"59\": 1, \"98\": 2, \"24\": 2, \"111\": 1, \"12\": 1, \"94\": 2, \"36\": 9, \"89\": 1, \"15\": 7, \"125\": 5, \"27\": 2, \"30\": 1, \"6\": 1, \"0\": 1, \"110\": 1}, \"28\": {\"28\": 11, \"22\": 1, \"60\": 1, \"88\": 1, \"21\": 1, \"29\": 1}, \"69\": {\"69\": 48, \"2\": 1, \"11\": 3, \"26\": 6, \"16\": 3, \"14\": 1, \"102\": 4, \"117\": 5, \"113\": 2, \"62\": 1, \"92\": 1, \"82\": 1, \"23\": 1, \"109\": 3, \"118\": 2, \"93\": 1, \"110\": 1}, \"125\": {\"125\": 100, \"25\": 1, \"94\": 1, \"16\": 1, \"27\": 3, \"39\": 1, \"73\": 2, \"36\": 2, \"24\": 1, \"11\": 1, \"106\": 1}, \"19\": {\"19\": 9, \"41\": 1, \"86\": 2, \"1\": 2, \"52\": 2, \"55\": 1, \"9\": 1, \"122\": 1, \"127\": 2, \"107\": 2, \"128\": 1, \"3\": 2, \"73\": 1, \"4\": 1, \"129\": 2, \"49\": 1, \"44\": 1}, \"41\": {\"41\": 10, \"52\": 1, \"99\": 2, \"124\": 2, \"35\": 1}, \"60\": {\"60\": 12, \"19\": 2, \"57\": 1, \"78\": 1, \"38\": 1, \"28\": 1, \"53\": 1, \"44\": 1, \"62\": 2, \"115\": 2, \"22\": 1, \"114\": 1, \"129\": 1, \"74\": 1}, \"70\": {\"74\": 1, \"42\": 1, \"4\": 3, \"21\": 2, \"109\": 5, \"88\": 1, \"108\": 4, \"5\": 3, \"70\": 9, \"39\": 2, \"122\": 1, \"89\": 1, \"99\": 1, \"129\": 1, \"11\": 3, \"32\": 1, \"24\": 1, \"10\": 3, \"124\": 1, \"71\": 2, \"127\": 3, \"8\": 4, \"19\": 1, \"3\": 3, \"53\": 1, \"112\": 1, \"18\": 2, \"114\": 1, \"113\": 1, \"9\": 3, \"62\": 2, \"93\": 1, \"110\": 1, \"69\": 1, \"27\": 1}, \"27\": {\"72\": 1, \"27\": 31, \"25\": 3, \"35\": 1, \"56\": 1, \"91\": 1, \"52\": 1, \"8\": 5, \"75\": 2, \"24\": 2, \"30\": 2, \"34\": 1, \"125\": 7, \"12\": 3, \"106\": 3, \"124\": 5, \"15\": 2, \"3\": 2, \"111\": 2, \"0\": 6, \"85\": 2, \"68\": 2, \"7\": 1, \"97\": 1, \"94\": 4, \"42\": 1, \"95\": 2, \"127\": 1, \"98\": 1}, \"10\": {\"72\": 1, \"68\": 1, \"0\": 3, \"10\": 32, \"88\": 4, \"21\": 3, \"3\": 4, \"32\": 1, \"62\": 3, \"29\": 1, \"127\": 11, \"101\": 1, \"70\": 5, \"110\": 3, \"107\": 4, \"27\": 2, \"12\": 4, \"109\": 2, \"108\": 2, \"8\": 8, \"30\": 2, \"113\": 2, \"87\": 1, \"1\": 3, \"7\": 2, \"40\": 2, \"84\": 3, \"124\": 1, \"36\": 2, \"122\": 1, \"11\": 2, \"90\": 1, \"105\": 1}, \"108\": {\"68\": 1, \"10\": 5, \"91\": 1, \"88\": 5, \"41\": 1, \"7\": 7, \"108\": 31, \"5\": 5, \"85\": 2, \"3\": 8, \"128\": 1, \"113\": 1, \"34\": 1, \"70\": 5, \"32\": 1, \"110\": 5, \"39\": 2, \"12\": 3, \"105\": 5, \"4\": 6, \"124\": 5, \"71\": 1, \"36\": 2, \"1\": 2, \"111\": 4, \"127\": 5, \"40\": 2, \"8\": 4, \"122\": 3, \"53\": 1, \"28\": 2, \"42\": 1, \"114\": 3, \"56\": 1, \"62\": 3, \"21\": 1, \"11\": 1, \"109\": 1, \"87\": 1, \"98\": 1}, \"9\": {\"10\": 1, \"9\": 27, \"105\": 2, \"60\": 1, \"128\": 1}, \"25\": {\"25\": 11, \"27\": 1, \"106\": 2, \"96\": 1, \"6\": 1}, \"37\": {\"37\": 15, \"21\": 1}, \"0\": {\"4\": 5, \"0\": 38, \"8\": 8, \"36\": 5, \"3\": 6, \"9\": 1, \"98\": 4, \"101\": 1, \"99\": 1, \"73\": 1, \"30\": 6, \"127\": 8, \"111\": 7, \"106\": 1, \"7\": 7, \"12\": 6, \"15\": 5, \"42\": 1, \"72\": 1, \"27\": 1, \"124\": 2, \"5\": 1}, \"66\": {\"66\": 13, \"55\": 1, \"10\": 1, \"38\": 1}, \"51\": {\"51\": 14, \"68\": 1, \"0\": 1}, \"76\": {\"76\": 16}, \"32\": {\"32\": 11, \"11\": 1, \"115\": 1, \"62\": 3, \"88\": 2, \"122\": 2, \"107\": 2, \"29\": 3, \"121\": 1, \"129\": 2, \"28\": 1, \"77\": 2, \"60\": 1}, \"88\": {\"11\": 3, \"64\": 1, \"88\": 21, \"57\": 1, \"116\": 1, \"14\": 1, \"21\": 2, \"128\": 1, \"53\": 1, \"43\": 3, \"40\": 7, \"70\": 5, \"122\": 1, \"39\": 6, \"99\": 1, \"114\": 6, \"126\": 1, \"87\": 5, \"84\": 2, \"110\": 4, \"109\": 10, \"7\": 2, \"107\": 4, \"108\": 7, \"62\": 2, \"93\": 2, \"4\": 1, \"105\": 1, \"5\": 2, \"19\": 1, \"113\": 3, \"24\": 1, \"1\": 3}, \"31\": {\"31\": 16, \"62\": 2, \"82\": 1, \"80\": 1}, \"91\": {\"47\": 1, \"27\": 2, \"91\": 7, \"19\": 1, \"9\": 2, \"10\": 1, \"12\": 1, \"105\": 2, \"7\": 2, \"38\": 1, \"52\": 1, \"73\": 1, \"8\": 1, \"95\": 1}, \"90\": {\"76\": 1, \"102\": 3, \"90\": 66, \"115\": 1, \"29\": 2, \"84\": 8, \"11\": 4, \"62\": 8, \"1\": 1, \"33\": 5, \"88\": 3, \"16\": 4, \"39\": 2, \"93\": 5, \"109\": 2, \"87\": 5, \"32\": 1, \"48\": 1, \"70\": 2, \"110\": 2}, \"13\": {\"67\": 1, \"102\": 1, \"93\": 1, \"117\": 1, \"126\": 1, \"82\": 3, \"33\": 1, \"39\": 1, \"13\": 3, \"31\": 1, \"44\": 1, \"18\": 1}, \"50\": {\"50\": 13, \"32\": 1, \"78\": 1, \"14\": 1}, \"78\": {\"60\": 2, \"21\": 2, \"114\": 3, \"109\": 1, \"122\": 1, \"62\": 2, \"11\": 1, \"129\": 1, \"74\": 1, \"88\": 1, \"78\": 1}, \"116\": {\"11\": 1, \"88\": 1, \"120\": 1, \"76\": 1, \"116\": 8, \"96\": 1, \"82\": 1, \"92\": 2, \"109\": 5, \"93\": 1, \"14\": 3, \"33\": 1, \"113\": 1, \"18\": 1}, \"5\": {\"5\": 80, \"38\": 1, \"10\": 1, \"105\": 2, \"86\": 1, \"99\": 1, \"108\": 4, \"4\": 6, \"114\": 1, \"11\": 1, \"127\": 1, \"110\": 1, \"46\": 1, \"85\": 2, \"128\": 1, \"71\": 2, \"3\": 4, \"18\": 1, \"7\": 1}, \"75\": {\"75\": 15, \"106\": 1}, \"89\": {\"89\": 21, \"39\": 1, \"69\": 1, \"102\": 1, \"109\": 1, \"33\": 1, \"115\": 1, \"16\": 1}, \"16\": {\"2\": 2, \"16\": 40, \"69\": 3, \"33\": 6, \"92\": 1, \"39\": 7, \"90\": 3, \"102\": 9, \"109\": 3, \"118\": 8, \"113\": 2, \"18\": 2, \"93\": 6, \"62\": 3, \"26\": 6, \"0\": 1, \"11\": 8, \"88\": 1, \"17\": 1, \"121\": 1, \"14\": 1, \"117\": 2}, \"38\": {\"38\": 12, \"66\": 1, \"104\": 1, \"53\": 1, \"43\": 1}, \"118\": {\"121\": 1, \"26\": 8, \"118\": 19, \"102\": 11, \"92\": 2, \"23\": 2, \"21\": 1, \"18\": 4, \"62\": 4, \"117\": 5, \"109\": 12, \"70\": 1, \"39\": 1, \"11\": 3, \"69\": 3, \"110\": 1, \"16\": 4, \"113\": 3, \"88\": 1, \"33\": 5, \"40\": 1, \"57\": 1, \"43\": 1, \"93\": 4, \"90\": 1, \"87\": 1}, \"99\": {\"110\": 2, \"4\": 5, \"99\": 20, \"5\": 2, \"129\": 1, \"125\": 1, \"3\": 1, \"127\": 1, \"34\": 1, \"55\": 1, \"23\": 1}, \"52\": {\"52\": 12, \"124\": 2, \"108\": 1, \"41\": 1}, \"111\": {\"111\": 93, \"73\": 1, \"0\": 8, \"12\": 7, \"8\": 1, \"15\": 5, \"98\": 6, \"36\": 4, \"97\": 1, \"7\": 2}, \"23\": {\"89\": 1, \"118\": 1, \"10\": 4, \"109\": 1, \"14\": 2, \"11\": 2, \"19\": 1, \"121\": 1, \"113\": 2, \"102\": 1, \"30\": 1, \"105\": 1, \"70\": 1, \"120\": 1, \"23\": 2, \"86\": 1, \"99\": 2, \"127\": 1, \"122\": 1, \"87\": 1, \"26\": 1, \"4\": 1, \"81\": 1, \"9\": 1}, \"73\": {\"73\": 24, \"111\": 5, \"98\": 1, \"0\": 2, \"6\": 1, \"15\": 3, \"37\": 1, \"97\": 2, \"12\": 1}, \"82\": {\"43\": 1, \"82\": 20, \"90\": 1, \"109\": 1, \"92\": 1, \"114\": 1, \"14\": 1, \"85\": 1, \"113\": 1}, \"40\": {\"40\": 91, \"9\": 1, \"53\": 1, \"1\": 6, \"114\": 3, \"122\": 2, \"108\": 1, \"87\": 3, \"14\": 1, \"107\": 6, \"90\": 1, \"62\": 1, \"93\": 1, \"65\": 1, \"128\": 1, \"129\": 2, \"16\": 1, \"21\": 1, \"109\": 1, \"7\": 1, \"3\": 1, \"110\": 1}, \"6\": {\"94\": 4, \"6\": 24, \"36\": 1, \"0\": 1, \"15\": 1, \"111\": 1}}, \"Wisig_4\": {\"28\": {\"28\": 18, \"66\": 1, \"87\": 1}, \"4\": {\"4\": 60, \"64\": 1, \"12\": 1, \"101\": 5, \"95\": 3, \"112\": 1, \"86\": 4, \"56\": 1, \"0\": 8, \"71\": 3, \"124\": 4, \"10\": 1, \"122\": 1, \"110\": 1, \"24\": 3, \"8\": 1, \"41\": 1, \"127\": 1, \"62\": 1, \"114\": 1, \"7\": 2}, \"72\": {\"14\": 2, \"72\": 15, \"107\": 3, \"83\": 1, \"99\": 1, \"102\": 1, \"90\": 1, \"87\": 1, \"11\": 1, \"44\": 1, \"35\": 1, \"60\": 1, \"43\": 1, \"120\": 1, \"32\": 1}, \"111\": {\"111\": 90, \"103\": 2, \"27\": 2, \"29\": 1, \"10\": 2, \"16\": 1, \"94\": 1, \"106\": 7, \"127\": 8, \"15\": 5, \"12\": 4, \"8\": 1, \"98\": 2, \"101\": 5, \"95\": 1, \"18\": 1, \"26\": 1, \"7\": 1, \"90\": 1}, \"108\": {\"96\": 2, \"43\": 4, \"46\": 1, \"108\": 23, \"88\": 2, \"14\": 2, \"109\": 3, \"129\": 1, \"105\": 1, \"99\": 3, \"62\": 4, \"122\": 2, \"93\": 4, \"84\": 1, \"94\": 1, \"118\": 3, \"11\": 4, \"125\": 1, \"110\": 3, \"117\": 2, \"126\": 2, \"5\": 6, \"1\": 2, \"107\": 1, \"70\": 2, \"74\": 1, \"63\": 1, \"102\": 1, \"87\": 1, \"26\": 1, \"39\": 1, \"8\": 1, \"3\": 1, \"40\": 1, \"33\": 2, \"24\": 1}, \"43\": {\"72\": 3, \"96\": 3, \"43\": 15, \"90\": 3, \"99\": 3, \"3\": 1, \"33\": 3, \"87\": 4, \"73\": 2, \"105\": 4, \"78\": 2, \"114\": 2, \"49\": 1, \"1\": 2, \"5\": 4, \"127\": 1, \"11\": 5, \"107\": 3, \"70\": 3, \"62\": 5, \"110\": 5, \"122\": 3, \"88\": 2, \"40\": 6, \"39\": 2, \"26\": 1, \"16\": 1, \"46\": 2, \"27\": 1, \"120\": 3, \"69\": 1, \"83\": 2, \"32\": 2, \"7\": 1, \"14\": 2, \"108\": 2, \"21\": 2, \"4\": 1, \"44\": 1, \"109\": 4, \"124\": 1, \"71\": 1, \"93\": 1, \"118\": 2, \"117\": 1, \"0\": 1}, \"96\": {\"96\": 16, \"88\": 1, \"21\": 1, \"90\": 2}, \"89\": {\"28\": 1, \"89\": 21, \"17\": 3, \"62\": 1, \"104\": 1, \"60\": 1, \"79\": 1, \"96\": 1, \"81\": 1, \"8\": 1}, \"31\": {\"31\": 11, \"11\": 1, \"28\": 1, \"73\": 1, \"74\": 1, \"13\": 1}, \"45\": {\"45\": 14, \"64\": 1, \"43\": 1}, \"2\": {\"108\": 1, \"2\": 22, \"126\": 1, \"16\": 3, \"81\": 1}, \"114\": {\"114\": 65, \"2\": 1, \"1\": 6, \"72\": 1, \"88\": 1, \"19\": 1, \"124\": 6, \"55\": 2, \"7\": 3, \"89\": 2, \"98\": 3, \"105\": 8, \"3\": 3, \"111\": 2, \"4\": 2, \"71\": 2, \"70\": 3, \"87\": 2, \"0\": 3, \"82\": 1, \"85\": 1, \"100\": 1, \"107\": 2, \"15\": 1, \"118\": 1, \"40\": 2, \"10\": 1, \"127\": 1, \"27\": 1}, \"11\": {\"72\": 2, \"2\": 1, \"64\": 1, \"11\": 28, \"46\": 1, \"39\": 1, \"3\": 3, \"115\": 1, \"48\": 1, \"40\": 7, \"69\": 2, \"33\": 6, \"118\": 6, \"102\": 7, \"43\": 4, \"105\": 1, \"108\": 2, \"93\": 4, \"84\": 2, \"107\": 4, \"110\": 3, \"126\": 1, \"5\": 13, \"14\": 4, \"90\": 4, \"26\": 1, \"98\": 1, \"1\": 3, \"109\": 4, \"114\": 2, \"117\": 1, \"66\": 1, \"87\": 4, \"44\": 2, \"83\": 2, \"71\": 1, \"113\": 2, \"18\": 1, \"122\": 1, \"27\": 1}, \"12\": {\"111\": 8, \"82\": 3, \"12\": 41, \"59\": 1, \"9\": 1, \"10\": 4, \"36\": 2, \"101\": 6, \"0\": 2, \"30\": 4, \"106\": 9, \"15\": 7, \"62\": 1, \"24\": 4, \"43\": 1, \"34\": 1, \"127\": 2, \"98\": 3}, \"14\": {\"14\": 59, \"40\": 3, \"32\": 1, \"88\": 3, \"39\": 1, \"107\": 8, \"33\": 3, \"62\": 3, \"93\": 1, \"87\": 4, \"11\": 2, \"81\": 1, \"90\": 3, \"108\": 1, \"1\": 3, \"120\": 1, \"70\": 1, \"72\": 1, \"99\": 2, \"43\": 3, \"64\": 1, \"118\": 2, \"110\": 2, \"0\": 1, \"122\": 2}, \"90\": {\"90\": 75, \"2\": 1, \"84\": 9, \"20\": 1, \"35\": 1, \"21\": 2, \"44\": 3, \"96\": 2, \"39\": 2, \"16\": 2, \"102\": 5, \"122\": 3, \"108\": 5, \"118\": 4, \"113\": 4, \"126\": 3, \"43\": 3, \"110\": 8, \"109\": 9, \"93\": 5, \"13\": 1, \"3\": 1, \"121\": 2, \"92\": 1, \"88\": 2}, \"10\": {\"42\": 1, \"58\": 1, \"94\": 4, \"106\": 13, \"97\": 3, \"19\": 1, \"10\": 12, \"51\": 1, \"43\": 4, \"91\": 2, \"115\": 1, \"47\": 3, \"32\": 2, \"129\": 1, \"128\": 1, \"75\": 2, \"104\": 1, \"27\": 2, \"15\": 10, \"36\": 5, \"125\": 13, \"60\": 1, \"107\": 1, \"87\": 5, \"110\": 3, \"88\": 6, \"24\": 4, \"18\": 1, \"70\": 3, \"90\": 1, \"30\": 2, \"14\": 2, \"78\": 1, \"127\": 2, \"4\": 1, \"12\": 1, \"39\": 1, \"105\": 2, \"98\": 2}, \"63\": {\"63\": 13, \"123\": 1, \"13\": 1, \"18\": 1}, \"85\": {\"12\": 1, \"85\": 18, \"124\": 1, \"103\": 1, \"4\": 2, \"24\": 1, \"111\": 1, \"71\": 1, \"99\": 1, \"98\": 1}, \"64\": {\"64\": 11, \"32\": 1, \"45\": 1, \"76\": 1, \"126\": 1, \"118\": 1}, \"82\": {\"3\": 4, \"7\": 1, \"82\": 12, \"55\": 1, \"111\": 1, \"129\": 4, \"114\": 1, \"124\": 1, \"112\": 2, \"71\": 1, \"19\": 1, \"101\": 1, \"4\": 1, \"86\": 1}, \"58\": {\"58\": 14, \"99\": 1, \"9\": 1}, \"3\": {\"3\": 67, \"42\": 1, \"117\": 2, \"56\": 1, \"41\": 2, \"66\": 1, \"83\": 1, \"104\": 1, \"127\": 1, \"128\": 1, \"49\": 2, \"5\": 5, \"87\": 2, \"14\": 2, \"70\": 5, \"10\": 2, \"114\": 10, \"124\": 3, \"1\": 2, \"98\": 2, \"33\": 1, \"107\": 1, \"40\": 1, \"23\": 2, \"27\": 1, \"22\": 1, \"52\": 1, \"73\": 1, \"71\": 1, \"96\": 1, \"129\": 1, \"121\": 1, \"11\": 1, \"0\": 1, \"7\": 3, \"21\": 1, \"110\": 2, \"105\": 1, \"88\": 1}, \"54\": {\"54\": 13, \"36\": 2, \"12\": 1}, \"121\": {\"121\": 23, \"64\": 1, \"122\": 1, \"90\": 1, \"92\": 1, \"78\": 1, \"96\": 1, \"16\": 1, \"126\": 1, \"39\": 1}, \"42\": {\"91\": 2, \"42\": 3, \"51\": 1, \"72\": 2, \"17\": 1, \"4\": 1, \"95\": 2, \"49\": 1, \"7\": 2, \"40\": 1, \"114\": 1, \"30\": 2, \"71\": 3, \"60\": 1, \"43\": 1, \"105\": 1, \"8\": 1, \"101\": 2}, \"98\": {\"98\": 53, \"85\": 3, \"12\": 14, \"0\": 1, \"113\": 1, \"127\": 4, \"106\": 8, \"44\": 1, \"7\": 2, \"30\": 4, \"101\": 2, \"111\": 9, \"10\": 5, \"15\": 1, \"18\": 1, \"97\": 2, \"51\": 1, \"41\": 2, \"126\": 1, \"25\": 1, \"84\": 1, \"108\": 1, \"94\": 2}, \"123\": {\"63\": 1, \"64\": 1, \"123\": 10, \"26\": 2, \"66\": 1, \"67\": 1}, \"91\": {\"42\": 1, \"91\": 9, \"95\": 1, \"103\": 2, \"3\": 1, \"68\": 1, \"8\": 4, \"112\": 2, \"9\": 1, \"7\": 2}, \"83\": {\"112\": 1, \"83\": 11, \"96\": 1, \"1\": 4, \"71\": 2, \"40\": 2, \"46\": 1, \"78\": 1, \"3\": 1, \"105\": 1, \"107\": 1, \"62\": 1, \"88\": 1}, \"99\": {\"99\": 33, \"109\": 1, \"62\": 1, \"122\": 3, \"118\": 1, \"1\": 1}, \"112\": {\"112\": 12, \"129\": 1, \"4\": 1, \"3\": 1, \"41\": 1}, \"119\": {\"119\": 9, \"89\": 1, \"40\": 1, \"1\": 1, \"43\": 1, \"50\": 1, \"53\": 1, \"32\": 1}, \"70\": {\"112\": 1, \"120\": 1, \"70\": 20, \"39\": 2, \"124\": 7, \"41\": 1, \"42\": 3, \"14\": 3, \"27\": 1, \"88\": 9, \"8\": 3, \"4\": 2, \"114\": 5, \"126\": 1, \"7\": 3, \"81\": 1, \"62\": 2, \"71\": 5, \"110\": 6, \"15\": 2, \"127\": 3, \"105\": 2, \"101\": 6, \"109\": 6, \"0\": 4, \"10\": 3, \"3\": 4, \"16\": 1, \"90\": 2, \"40\": 1, \"111\": 1, \"52\": 1, \"119\": 2, \"24\": 1, \"87\": 2, \"43\": 2, \"117\": 1, \"122\": 2, \"30\": 1, \"1\": 1}, \"20\": {\"20\": 7, \"28\": 1, \"23\": 1, \"121\": 2, \"43\": 2, \"33\": 1, \"118\": 1, \"83\": 1}, \"120\": {\"120\": 20}, \"7\": {\"7\": 56, \"129\": 1, \"103\": 1, \"72\": 1, \"83\": 1, \"111\": 2, \"100\": 1, \"24\": 4, \"124\": 8, \"0\": 1, \"71\": 5, \"127\": 3, \"105\": 3, \"106\": 2, \"43\": 3, \"87\": 2, \"70\": 4, \"10\": 3, \"98\": 5, \"1\": 1, \"62\": 1, \"114\": 2, \"101\": 2, \"17\": 1, \"112\": 1, \"78\": 1, \"99\": 1, \"95\": 1, \"107\": 1, \"128\": 1, \"8\": 1, \"40\": 1, \"3\": 1, \"4\": 1, \"36\": 1}, \"60\": {\"60\": 7, \"27\": 1, \"87\": 1, \"71\": 1, \"19\": 1, \"79\": 2, \"46\": 1, \"90\": 1, \"99\": 2, \"88\": 1, \"10\": 1, \"122\": 1, \"128\": 1, \"109\": 3, \"100\": 1, \"107\": 1, \"62\": 1, \"22\": 2, \"8\": 1, \"96\": 1, \"28\": 1}, \"113\": {\"113\": 36, \"99\": 1, \"39\": 4, \"126\": 5, \"62\": 2, \"88\": 2, \"21\": 1, \"2\": 3, \"26\": 9, \"16\": 9, \"102\": 1, \"118\": 2, \"109\": 10, \"117\": 10, \"121\": 1, \"122\": 2, \"69\": 2, \"18\": 5, \"14\": 2, \"11\": 2, \"44\": 1, \"43\": 2, \"110\": 1, \"90\": 1, \"93\": 1, \"84\": 3}, \"37\": {\"37\": 14, \"120\": 1, \"109\": 1}, \"124\": {\"112\": 1, \"60\": 1, \"124\": 66, \"114\": 11, \"10\": 3, \"71\": 4, \"106\": 1, \"24\": 3, \"110\": 1, \"27\": 1, \"3\": 4, \"111\": 1, \"98\": 2, \"0\": 1, \"70\": 1, \"50\": 1, \"41\": 1, \"85\": 1, \"127\": 1, \"4\": 2, \"7\": 1, \"1\": 2}, \"27\": {\"37\": 1, \"112\": 1, \"111\": 7, \"89\": 1, \"90\": 1, \"124\": 3, \"52\": 1, \"78\": 1, \"29\": 2, \"105\": 3, \"27\": 10, \"0\": 4, \"98\": 1, \"43\": 1, \"49\": 2, \"10\": 4, \"92\": 1, \"110\": 1, \"1\": 1, \"15\": 3, \"62\": 2, \"36\": 1, \"8\": 7, \"114\": 2, \"125\": 1, \"70\": 2, \"126\": 1, \"106\": 2, \"87\": 2, \"101\": 3, \"12\": 3, \"127\": 3, \"41\": 2, \"65\": 1, \"95\": 4, \"88\": 3, \"120\": 1, \"104\": 1, \"123\": 1, \"9\": 1, \"33\": 1, \"30\": 3, \"71\": 2, \"26\": 1, \"14\": 1}, \"86\": {\"10\": 2, \"86\": 23, \"30\": 1, \"52\": 1, \"4\": 1}, \"127\": {\"106\": 1, \"127\": 56, \"101\": 8, \"0\": 6, \"12\": 4, \"34\": 1, \"27\": 5, \"122\": 2, \"16\": 1, \"111\": 5, \"124\": 1, \"10\": 1, \"90\": 1, \"15\": 1, \"61\": 1, \"55\": 2, \"129\": 1, \"68\": 1, \"4\": 2, \"30\": 3, \"7\": 1, \"71\": 1, \"98\": 1, \"8\": 1, \"39\": 1}, \"62\": {\"62\": 34, \"14\": 3, \"113\": 1, \"122\": 4, \"32\": 1, \"110\": 4, \"99\": 1, \"109\": 7, \"93\": 1, \"88\": 1, \"35\": 2, \"126\": 1}, \"122\": {\"62\": 4, \"109\": 8, \"118\": 4, \"122\": 21, \"102\": 5, \"2\": 1, \"99\": 3, \"33\": 5, \"44\": 3, \"5\": 1, \"113\": 1, \"108\": 2, \"84\": 3, \"110\": 2, \"43\": 3, \"39\": 3, \"11\": 1, \"20\": 2, \"119\": 1, \"96\": 1, \"78\": 1, \"81\": 1, \"90\": 4, \"69\": 1, \"93\": 1, \"126\": 2}, \"51\": {\"106\": 2, \"6\": 1, \"84\": 1, \"21\": 1, \"51\": 4, \"15\": 2, \"77\": 1, \"122\": 1, \"62\": 1, \"95\": 1, \"39\": 1}, \"109\": {\"109\": 81, \"62\": 3, \"60\": 1, \"118\": 6, \"122\": 1, \"84\": 2, \"69\": 5, \"90\": 1, \"93\": 3, \"113\": 1, \"16\": 2, \"63\": 1, \"80\": 1, \"65\": 1, \"44\": 2, \"108\": 2, \"92\": 1}, \"106\": {\"106\": 56, \"86\": 1, \"10\": 3, \"26\": 2, \"68\": 1, \"12\": 6, \"58\": 2, \"30\": 4, \"24\": 1, \"34\": 1, \"111\": 9, \"27\": 4, \"117\": 2, \"127\": 3, \"15\": 3, \"98\": 3, \"101\": 2, \"29\": 1, \"123\": 1, \"95\": 1, \"94\": 2, \"99\": 1, \"39\": 1, \"4\": 1, \"125\": 2, \"88\": 1}, \"94\": {\"106\": 2, \"54\": 5, \"25\": 2, \"111\": 2, \"94\": 38, \"40\": 1, \"12\": 1, \"15\": 6, \"30\": 3, \"124\": 1, \"34\": 1, \"10\": 1, \"24\": 3, \"125\": 8, \"36\": 7, \"101\": 1, \"1\": 1, \"27\": 1, \"75\": 1, \"6\": 1, \"11\": 1, \"4\": 1}, \"38\": {\"122\": 3, \"38\": 9, \"66\": 1, \"118\": 1, \"84\": 1, \"33\": 1}, \"129\": {\"112\": 1, \"129\": 7, \"52\": 3, \"116\": 1, \"14\": 1, \"86\": 2, \"36\": 1, \"5\": 1, \"114\": 1, \"95\": 2, \"53\": 1, \"19\": 1, \"55\": 1, \"82\": 2, \"93\": 1, \"72\": 1, \"71\": 1}, \"116\": {\"109\": 1, \"38\": 2, \"118\": 1, \"116\": 8, \"48\": 1, \"39\": 1, \"102\": 1, \"23\": 1, \"93\": 2, \"81\": 1, \"33\": 1, \"120\": 1, \"3\": 1, \"67\": 2, \"66\": 1, \"28\": 1, \"63\": 2}, \"107\": {\"107\": 95, \"28\": 1, \"4\": 1, \"33\": 1, \"105\": 4, \"40\": 4, \"87\": 4, \"70\": 2, \"115\": 2, \"83\": 1, \"110\": 1, \"88\": 1, \"11\": 1}, \"30\": {\"6\": 1, \"101\": 7, \"106\": 3, \"30\": 23, \"103\": 1, \"98\": 2, \"12\": 3, \"71\": 4, \"29\": 2, \"18\": 1, \"15\": 5, \"8\": 4, \"27\": 2, \"124\": 2, \"94\": 1, \"4\": 1, \"125\": 3, \"100\": 1, \"111\": 2, \"129\": 1, \"0\": 1, \"36\": 1, \"127\": 1, \"70\": 1, \"16\": 1, \"10\": 2}, \"102\": {\"102\": 94, \"113\": 1, \"5\": 2, \"84\": 8, \"69\": 14, \"11\": 3, \"117\": 2, \"108\": 1, \"110\": 1, \"126\": 1, \"118\": 1, \"62\": 1, \"90\": 1, \"14\": 1, \"26\": 1}, \"74\": {\"74\": 7, \"102\": 2, \"28\": 1, \"72\": 1, \"44\": 3, \"31\": 1, \"11\": 1}, \"101\": {\"101\": 57, \"95\": 2, \"53\": 1, \"55\": 3, \"86\": 2, \"30\": 7, \"12\": 3, \"0\": 11, \"49\": 1, \"127\": 10, \"24\": 1, \"4\": 3, \"8\": 6, \"15\": 4, \"110\": 2, \"124\": 1, \"111\": 9, \"98\": 2, \"91\": 1, \"82\": 1, \"100\": 1, \"70\": 1, \"106\": 1, \"7\": 1, \"10\": 1}, \"117\": {\"117\": 87, \"2\": 2, \"113\": 1, \"26\": 9, \"62\": 1, \"122\": 1, \"16\": 9, \"44\": 1, \"84\": 5, \"90\": 1, \"81\": 2, \"92\": 1, \"126\": 2, \"39\": 2}, \"1\": {\"1\": 39, \"114\": 2, \"3\": 5, \"78\": 3, \"42\": 1, \"129\": 3, \"104\": 3, \"0\": 3, \"99\": 1, \"127\": 1, \"8\": 2, \"122\": 1, \"70\": 4, \"4\": 2, \"105\": 4, \"82\": 1, \"124\": 2, \"71\": 4, \"93\": 1, \"87\": 6, \"15\": 2, \"7\": 5, \"89\": 1, \"128\": 2, \"126\": 1, \"27\": 1, \"14\": 1, \"11\": 1, \"40\": 5, \"88\": 1}, \"84\": {\"84\": 65, \"13\": 1, \"102\": 11, \"2\": 2, \"109\": 2, \"121\": 1, \"93\": 2, \"81\": 2, \"126\": 3, \"90\": 3, \"16\": 6, \"118\": 3, \"39\": 7, \"69\": 4, \"117\": 4, \"26\": 2, \"43\": 1, \"110\": 2, \"113\": 2, \"14\": 2, \"70\": 1, \"122\": 3, \"33\": 1, \"88\": 2}, \"17\": {\"17\": 18, \"89\": 1, \"49\": 1}, \"6\": {\"6\": 22, \"94\": 1, \"36\": 1}, \"110\": {\"73\": 1, \"39\": 2, \"107\": 6, \"110\": 37, \"93\": 10, \"1\": 1, \"21\": 2, \"126\": 3, \"118\": 3, \"122\": 6, \"14\": 4, \"43\": 3, \"33\": 6, \"11\": 1, \"109\": 11, \"5\": 1, \"108\": 6, \"70\": 1, \"88\": 2, \"90\": 5, \"26\": 1, \"62\": 4, \"113\": 1, \"49\": 1, \"87\": 3, \"40\": 3}, \"77\": {\"77\": 9, \"111\": 1, \"15\": 1, \"101\": 1}, \"8\": {\"91\": 1, \"8\": 90, \"1\": 2, \"109\": 1, \"0\": 8, \"111\": 1, \"87\": 2, \"27\": 2, \"30\": 2, \"101\": 3, \"4\": 1, \"40\": 1, \"70\": 5, \"24\": 2, \"56\": 1, \"120\": 1, \"112\": 1, \"129\": 1, \"42\": 1, \"49\": 2, \"127\": 1, \"26\": 1, \"7\": 1, \"5\": 1}, \"73\": {\"73\": 11, \"40\": 1, \"91\": 1, \"107\": 1, \"33\": 1, \"81\": 1, \"128\": 1, \"27\": 1, \"36\": 1, \"105\": 1, \"67\": 1, \"104\": 1, \"82\": 1, \"43\": 1}, \"126\": {\"57\": 2, \"61\": 1, \"32\": 1, \"70\": 1, \"39\": 8, \"126\": 47, \"113\": 2, \"62\": 1, \"84\": 4, \"118\": 2, \"108\": 2, \"117\": 2, \"93\": 2, \"26\": 6, \"18\": 10, \"90\": 3, \"88\": 2, \"16\": 3, \"109\": 6, \"63\": 1, \"21\": 3, \"19\": 1, \"65\": 1, \"123\": 1, \"81\": 3, \"78\": 1, \"122\": 5, \"14\": 1, \"102\": 1, \"44\": 1}, \"57\": {\"57\": 16}, \"95\": {\"95\": 26, \"39\": 1, \"29\": 2, \"127\": 2, \"0\": 1}, \"103\": {\"112\": 1, \"103\": 9, \"10\": 2, \"29\": 2, \"4\": 2}, \"97\": {\"97\": 8, \"129\": 1, \"106\": 1, \"56\": 1, \"29\": 2, \"59\": 2, \"127\": 1, \"101\": 2, \"34\": 1, \"94\": 1}, \"39\": {\"57\": 2, \"26\": 7, \"62\": 4, \"113\": 3, \"117\": 7, \"35\": 1, \"38\": 1, \"69\": 3, \"39\": 25, \"63\": 1, \"21\": 6, \"110\": 1, \"81\": 2, \"126\": 4, \"44\": 1, \"92\": 2, \"102\": 3, \"87\": 2, \"84\": 3, \"93\": 1, \"14\": 1, \"108\": 6, \"118\": 2, \"109\": 6, \"99\": 1, \"16\": 1, \"18\": 2, \"121\": 1, \"88\": 1}, \"100\": {\"114\": 2, \"100\": 8, \"46\": 1, \"3\": 3, \"85\": 1, \"42\": 1, \"71\": 2, \"129\": 1, \"82\": 1}, \"40\": {\"14\": 4, \"40\": 75, \"83\": 1, \"22\": 1, \"107\": 10, \"69\": 1, \"70\": 1, \"105\": 4, \"43\": 2, \"110\": 1, \"31\": 1, \"62\": 1, \"87\": 2, \"3\": 1, \"88\": 1, \"0\": 2, \"1\": 2}, \"36\": {\"36\": 63, \"6\": 1, \"94\": 5, \"29\": 3, \"101\": 3, \"12\": 6, \"9\": 1, \"125\": 5, \"98\": 3, \"27\": 1, \"111\": 4, \"15\": 6, \"4\": 3, \"30\": 2, \"10\": 1, \"24\": 3, \"106\": 6, \"126\": 1, \"54\": 2, \"58\": 1, \"68\": 1, \"21\": 1, \"114\": 1, \"0\": 2, \"127\": 1}, \"19\": {\"19\": 10, \"5\": 1, \"80\": 2, \"69\": 2, \"78\": 1, \"102\": 1, \"55\": 1, \"27\": 2, \"0\": 1, \"7\": 1, \"105\": 1, \"33\": 1, \"3\": 1, \"74\": 1, \"82\": 1, \"84\": 1}, \"118\": {\"122\": 2, \"118\": 37, \"35\": 3, \"76\": 1, \"45\": 2, \"116\": 1, \"14\": 6, \"21\": 3, \"109\": 9, \"5\": 1, \"33\": 3, \"88\": 1, \"102\": 6, \"62\": 7, \"39\": 6, \"110\": 1, \"93\": 3, \"16\": 1, \"43\": 3, \"120\": 1, \"57\": 1, \"108\": 2, \"12\": 1, \"64\": 1, \"99\": 1, \"81\": 1, \"44\": 1, \"69\": 2, \"26\": 1, \"107\": 1, \"90\": 2, \"84\": 1}, \"56\": {\"106\": 1, \"56\": 9, \"114\": 1, \"53\": 1}, \"26\": {\"26\": 98, \"32\": 1, \"117\": 3, \"39\": 1, \"16\": 4, \"44\": 1, \"126\": 1, \"84\": 2, \"109\": 3, \"18\": 8, \"90\": 1, \"69\": 1, \"102\": 1, \"118\": 1}, \"5\": {\"5\": 91, \"19\": 1, \"3\": 5, \"129\": 1, \"114\": 1, \"72\": 1, \"1\": 8, \"0\": 1, \"108\": 2, \"44\": 2, \"11\": 2, \"102\": 1, \"70\": 2, \"93\": 1, \"90\": 2, \"33\": 3, \"110\": 2, \"124\": 1, \"42\": 1, \"83\": 1, \"117\": 1, \"69\": 1, \"40\": 2, \"105\": 1, \"118\": 1, \"87\": 1}, \"21\": {\"21\": 14, \"66\": 1, \"117\": 1, \"99\": 1, \"93\": 2, \"63\": 1, \"110\": 3, \"109\": 3, \"96\": 1, \"84\": 2, \"61\": 1, \"43\": 2, \"18\": 1, \"32\": 2, \"62\": 2, \"16\": 1, \"121\": 1, \"39\": 1}, \"22\": {\"22\": 8, \"21\": 1, \"94\": 1, \"107\": 1, \"43\": 2, \"79\": 1, \"90\": 1, \"70\": 1}, \"68\": {\"68\": 6, \"106\": 1, \"89\": 1, \"77\": 1, \"91\": 1, \"111\": 2, \"15\": 2, \"30\": 1, \"101\": 1}, \"9\": {\"30\": 2, \"9\": 20, \"97\": 1, \"29\": 2, \"86\": 2, \"111\": 1}, \"66\": {\"66\": 7, \"88\": 1, \"38\": 2, \"43\": 1, \"23\": 1, \"90\": 1, \"116\": 1, \"78\": 2}, \"87\": {\"71\": 8, \"87\": 25, \"40\": 5, \"118\": 1, \"50\": 1, \"32\": 1, \"46\": 1, \"99\": 2, \"43\": 4, \"107\": 1, \"105\": 6, \"122\": 3, \"1\": 4, \"62\": 4, \"127\": 1, \"7\": 3, \"14\": 4, \"126\": 1, \"11\": 3, \"110\": 4, \"109\": 7, \"124\": 2, \"114\": 7, \"93\": 1, \"70\": 5, \"27\": 2, \"88\": 3, \"3\": 3, \"128\": 1, \"42\": 2, \"78\": 1, \"90\": 3, \"8\": 1, \"108\": 2, \"98\": 1, \"117\": 1}, \"71\": {\"71\": 45, \"62\": 1, \"91\": 1, \"56\": 2, \"3\": 1, \"49\": 2, \"55\": 1, \"124\": 3, \"4\": 3, \"105\": 3, \"7\": 2, \"0\": 2, \"43\": 1, \"24\": 1, \"70\": 3, \"106\": 1, \"87\": 1, \"114\": 7, \"27\": 4, \"98\": 4, \"8\": 1, \"86\": 1, \"46\": 2, \"89\": 1, \"104\": 1, \"129\": 2, \"10\": 1, \"21\": 2, \"1\": 3, \"39\": 1, \"88\": 1}, \"115\": {\"17\": 1, \"107\": 2, \"101\": 1, \"73\": 1, \"115\": 6, \"104\": 1, \"83\": 1, \"96\": 1, \"116\": 1, \"3\": 1}, \"23\": {\"97\": 1, \"87\": 1, \"32\": 2, \"88\": 1, \"117\": 1, \"53\": 1, \"113\": 1, \"121\": 1, \"122\": 1, \"120\": 2, \"118\": 2, \"71\": 1, \"66\": 1}, \"33\": {\"33\": 94, \"107\": 4, \"5\": 3, \"126\": 1, \"72\": 2, \"102\": 3, \"14\": 4, \"110\": 2, \"40\": 1, \"109\": 1, \"69\": 1, \"84\": 1, \"11\": 1}, \"35\": {\"35\": 6, \"39\": 2, \"21\": 1, \"121\": 1, \"62\": 2}, \"125\": {\"125\": 113, \"75\": 1, \"94\": 4, \"43\": 2, \"36\": 4, \"106\": 1, \"126\": 1, \"24\": 2, \"90\": 1, \"18\": 1, \"10\": 2}, \"47\": {\"94\": 1, \"125\": 1, \"47\": 8, \"59\": 2}, \"79\": {\"79\": 13, \"28\": 1, \"1\": 1, \"115\": 1}, \"53\": {\"4\": 1, \"86\": 1, \"53\": 11, \"27\": 2, \"34\": 1}, \"67\": {\"113\": 3, \"39\": 1, \"67\": 5, \"64\": 1, \"35\": 1, \"123\": 1, \"79\": 1, \"126\": 1, \"107\": 1, \"108\": 1}, \"80\": {\"80\": 13, \"13\": 1, \"44\": 2}, \"105\": {\"105\": 58, \"1\": 2, \"126\": 1, \"71\": 1, \"81\": 1, \"0\": 3, \"40\": 10, \"87\": 7, \"14\": 1, \"11\": 1, \"114\": 3, \"3\": 3, \"8\": 2, \"108\": 2, \"46\": 1, \"90\": 1, \"107\": 1, \"16\": 1, \"106\": 1}, \"76\": {\"76\": 15, \"64\": 1}, \"46\": {\"46\": 17, \"71\": 1, \"114\": 1, \"10\": 1}, \"34\": {\"37\": 2, \"87\": 1, \"24\": 9, \"36\": 1, \"27\": 1, \"3\": 2, \"60\": 1, \"99\": 2, \"34\": 2, \"8\": 1, \"128\": 1, \"75\": 2, \"17\": 1, \"110\": 1, \"19\": 1, \"97\": 1, \"54\": 2, \"114\": 1}, \"32\": {\"64\": 1, \"32\": 17, \"108\": 1, \"29\": 1, \"118\": 1, \"109\": 1, \"122\": 1, \"110\": 1, \"31\": 1, \"88\": 1, \"43\": 1, \"105\": 1}, \"13\": {\"67\": 1, \"84\": 1, \"13\": 7, \"108\": 1, \"74\": 1, \"78\": 1, \"123\": 1, \"102\": 2, \"16\": 1}, \"78\": {\"60\": 1, \"90\": 1, \"78\": 2, \"99\": 4, \"107\": 1, \"93\": 2, \"89\": 1, \"0\": 1, \"32\": 1, \"114\": 2, \"62\": 3, \"71\": 1, \"108\": 1, \"8\": 1, \"128\": 1, \"109\": 1, \"2\": 1, \"9\": 1, \"19\": 1, \"96\": 1, \"123\": 1, \"126\": 1, \"86\": 1, \"18\": 1, \"3\": 1, \"118\": 1, \"1\": 1, \"42\": 1}, \"41\": {\"41\": 11, \"53\": 1, \"95\": 1, \"29\": 1, \"4\": 1, \"103\": 1}, \"69\": {\"90\": 4, \"69\": 80, \"13\": 1, \"84\": 5, \"81\": 1, \"44\": 3, \"102\": 14, \"33\": 1, \"93\": 3, \"118\": 3, \"113\": 3, \"109\": 2, \"80\": 1, \"45\": 1, \"78\": 1, \"14\": 1, \"39\": 1, \"26\": 1, \"122\": 1, \"16\": 1}, \"88\": {\"61\": 1, \"32\": 1, \"50\": 1, \"83\": 1, \"48\": 1, \"78\": 1, \"17\": 1, \"114\": 6, \"89\": 2, \"96\": 1, \"116\": 1, \"27\": 3, \"39\": 6, \"117\": 1, \"62\": 4, \"72\": 1, \"88\": 16, \"122\": 6, \"49\": 2, \"0\": 3, \"24\": 1, \"4\": 2, \"3\": 3, \"124\": 2, \"109\": 10, \"93\": 2, \"1\": 3, \"8\": 2, \"70\": 8, \"87\": 4, \"43\": 2, \"105\": 4, \"110\": 3, \"84\": 2, \"21\": 4, \"99\": 2, \"10\": 1, \"120\": 2, \"14\": 2, \"128\": 1, \"127\": 2, \"18\": 1, \"108\": 1, \"40\": 3, \"69\": 2, \"118\": 2, \"90\": 1, \"113\": 1}, \"15\": {\"6\": 2, \"15\": 41, \"101\": 15, \"30\": 2, \"10\": 3, \"111\": 5, \"125\": 12, \"127\": 3, \"8\": 4, \"24\": 4, \"117\": 1, \"94\": 6, \"7\": 1, \"4\": 3, \"12\": 8, \"118\": 1, \"36\": 3, \"27\": 1, \"106\": 3, \"26\": 1, \"98\": 1, \"75\": 2, \"71\": 1, \"58\": 1, \"21\": 1, \"124\": 2, \"11\": 1}, \"61\": {\"63\": 4, \"61\": 8, \"39\": 1, \"65\": 2, \"117\": 1}, \"0\": {\"0\": 18, \"17\": 1, \"95\": 4, \"86\": 3, \"10\": 2, \"12\": 3, \"43\": 2, \"127\": 10, \"27\": 6, \"106\": 1, \"7\": 4, \"124\": 1, \"87\": 5, \"14\": 2, \"4\": 6, \"24\": 4, \"111\": 11, \"8\": 6, \"70\": 2, \"105\": 4, \"88\": 2, \"18\": 2, \"55\": 2, \"41\": 2, \"101\": 6, \"83\": 2, \"16\": 1, \"84\": 1, \"114\": 1, \"15\": 2}, \"104\": {\"104\": 11, \"43\": 1, \"39\": 1, \"19\": 1, \"5\": 1, \"119\": 1}, \"48\": {\"48\": 8, \"116\": 2, \"123\": 1, \"121\": 1, \"74\": 1, \"68\": 1, \"92\": 2}, \"25\": {\"25\": 15, \"24\": 1}, \"75\": {\"25\": 1, \"75\": 14, \"94\": 1}, \"81\": {\"21\": 1, \"81\": 19, \"39\": 2, \"109\": 1, \"26\": 1, \"117\": 4, \"126\": 2, \"102\": 1, \"16\": 2, \"2\": 1, \"69\": 1, \"32\": 1}, \"50\": {\"50\": 11, \"43\": 1, \"5\": 2, \"72\": 1, \"4\": 1}, \"52\": {\"52\": 15, \"42\": 1, \"86\": 1, \"127\": 1, \"101\": 1, \"34\": 1}, \"16\": {\"16\": 68, \"69\": 6, \"113\": 6, \"84\": 7, \"117\": 4, \"18\": 3, \"88\": 2, \"108\": 1, \"126\": 6, \"26\": 4, \"90\": 2, \"109\": 3, \"93\": 1, \"2\": 1, \"35\": 1, \"116\": 1, \"78\": 1, \"81\": 1, \"122\": 1, \"118\": 1}, \"44\": {\"102\": 6, \"44\": 33, \"96\": 1, \"88\": 2, \"43\": 1, \"71\": 1, \"33\": 1, \"74\": 2, \"93\": 1, \"69\": 2, \"26\": 2, \"84\": 2, \"116\": 2, \"72\": 1, \"11\": 2, \"38\": 1, \"5\": 2, \"14\": 1, \"1\": 1}, \"29\": {\"29\": 26, \"39\": 1, \"30\": 1, \"53\": 1, \"121\": 1, \"101\": 2}, \"93\": {\"19\": 1, \"121\": 1, \"5\": 7, \"3\": 1, \"81\": 2, \"33\": 7, \"93\": 42, \"78\": 1, \"39\": 4, \"118\": 7, \"126\": 1, \"49\": 2, \"43\": 6, \"62\": 1, \"122\": 2, \"110\": 6, \"69\": 1, \"109\": 5, \"40\": 3, \"90\": 5, \"84\": 2, \"113\": 2, \"108\": 4, \"88\": 2, \"70\": 2, \"11\": 2, \"44\": 1, \"99\": 1, \"72\": 1, \"14\": 2}, \"18\": {\"18\": 98, \"117\": 1, \"109\": 2, \"126\": 1, \"26\": 3, \"39\": 4, \"81\": 1, \"102\": 1, \"108\": 1, \"90\": 1, \"88\": 1}, \"49\": {\"7\": 3, \"33\": 2, \"65\": 1, \"49\": 5, \"127\": 1, \"71\": 1, \"1\": 2, \"8\": 1, \"5\": 1, \"24\": 1, \"27\": 1, \"80\": 2, \"37\": 1, \"86\": 1, \"93\": 1, \"82\": 1, \"129\": 1, \"3\": 3, \"42\": 1, \"107\": 1, \"101\": 1}, \"55\": {\"55\": 14, \"49\": 2}, \"59\": {\"59\": 8, \"58\": 2, \"110\": 1, \"47\": 1}, \"128\": {\"128\": 9, \"32\": 1, \"22\": 1, \"33\": 1, \"92\": 1, \"43\": 1, \"49\": 1, \"88\": 2, \"71\": 1, \"76\": 1, \"87\": 1, \"100\": 1, \"1\": 1, \"14\": 1, \"70\": 1}, \"24\": {\"25\": 4, \"87\": 5, \"24\": 14, \"105\": 4, \"71\": 3, \"125\": 18, \"29\": 2, \"15\": 3, \"114\": 3, \"92\": 1, \"34\": 2, \"0\": 7, \"8\": 6, \"128\": 1, \"49\": 1, \"117\": 1, \"111\": 2, \"40\": 2, \"36\": 8, \"70\": 3, \"106\": 5, \"75\": 2, \"11\": 1, \"91\": 1, \"82\": 1, \"54\": 1, \"86\": 1, \"7\": 5, \"107\": 2, \"94\": 1, \"85\": 1, \"4\": 1, \"5\": 1, \"18\": 1, \"10\": 3, \"88\": 2, \"1\": 1}, \"65\": {\"65\": 11, \"109\": 1}, \"92\": {\"65\": 1, \"102\": 2, \"92\": 19, \"121\": 1, \"113\": 1, \"118\": 1, \"57\": 3}}, \"Wisig_1\": {\"108\": {\"70\": 9, \"4\": 7, \"114\": 6, \"22\": 1, \"107\": 8, \"124\": 3, \"108\": 18, \"50\": 1, \"91\": 1, \"8\": 6, \"106\": 3, \"43\": 5, \"30\": 1, \"87\": 5, \"0\": 1, \"110\": 6, \"84\": 2, \"122\": 2, \"10\": 3, \"24\": 1, \"40\": 4, \"101\": 4, \"111\": 2, \"126\": 3, \"5\": 3, \"71\": 4, \"49\": 2, \"83\": 2, \"72\": 1, \"44\": 1, \"68\": 1, \"38\": 1, \"90\": 1, \"1\": 2, \"14\": 1, \"105\": 2, \"127\": 1}, \"40\": {\"40\": 97, \"4\": 10, \"128\": 1, \"84\": 1, \"105\": 6, \"0\": 1, \"87\": 3, \"124\": 4, \"5\": 4, \"93\": 5, \"114\": 2, \"10\": 1, \"106\": 1}, \"68\": {\"68\": 8, \"57\": 1, \"52\": 1, \"111\": 1, \"53\": 2, \"32\": 3}, \"23\": {\"102\": 1, \"3\": 2, \"85\": 3, \"84\": 1, \"30\": 1, \"65\": 1, \"103\": 2, \"9\": 1, \"32\": 1, \"8\": 1, \"0\": 1, \"72\": 1, \"1\": 1, \"66\": 1, \"43\": 1, \"91\": 1, \"128\": 1, \"42\": 1, \"106\": 2}, \"26\": {\"26\": 84, \"118\": 4, \"113\": 7, \"62\": 1, \"27\": 1, \"16\": 7, \"117\": 11, \"90\": 2, \"99\": 1, \"69\": 1, \"94\": 1}, \"64\": {\"64\": 10, \"43\": 1, \"80\": 2, \"48\": 1, \"33\": 1, \"96\": 1}, \"22\": {\"22\": 11, \"20\": 1, \"114\": 1, \"2\": 1, \"126\": 1, \"94\": 1}, \"3\": {\"57\": 1, \"3\": 51, \"102\": 4, \"115\": 1, \"2\": 1, \"44\": 1, \"94\": 1, \"99\": 1, \"7\": 1, \"129\": 2, \"71\": 1, \"114\": 2, \"1\": 2, \"88\": 1, \"126\": 1, \"84\": 1, \"43\": 1, \"39\": 1, \"82\": 3, \"33\": 3, \"15\": 1, \"14\": 1, \"105\": 2, \"87\": 1, \"18\": 1, \"62\": 1, \"125\": 1}, \"4\": {\"4\": 68, \"29\": 4, \"35\": 1, \"54\": 1, \"107\": 3, \"40\": 8, \"108\": 2, \"93\": 1, \"110\": 3, \"5\": 3, \"55\": 1, \"72\": 1, \"68\": 1, \"121\": 1, \"101\": 1, \"43\": 1}, \"70\": {\"89\": 1, \"64\": 1, \"124\": 6, \"70\": 15, \"122\": 6, \"14\": 3, \"107\": 4, \"86\": 1, \"43\": 6, \"54\": 1, \"108\": 7, \"50\": 1, \"8\": 7, \"72\": 1, \"4\": 4, \"93\": 9, \"95\": 1, \"118\": 1, \"36\": 1, \"90\": 4, \"44\": 1, \"11\": 3, \"126\": 4, \"110\": 2, \"5\": 1, \"10\": 2, \"109\": 5, \"101\": 2, \"40\": 5, \"62\": 1, \"84\": 2, \"1\": 1, \"38\": 1, \"69\": 1, \"31\": 1, \"21\": 1, \"106\": 2, \"87\": 1, \"102\": 1, \"114\": 1, \"94\": 1, \"71\": 1}, \"57\": {\"57\": 11, \"88\": 1}, \"79\": {\"79\": 10, \"9\": 1, \"0\": 1}, \"9\": {\"9\": 19, \"70\": 2, \"32\": 1, \"14\": 1, \"58\": 1, \"0\": 1, \"4\": 2, \"101\": 1, \"86\": 1, \"75\": 1, \"72\": 1, \"110\": 1}, \"89\": {\"89\": 24, \"54\": 1, \"0\": 1, \"72\": 1, \"97\": 2, \"24\": 1, \"124\": 2, \"73\": 1, \"107\": 1, \"5\": 1, \"110\": 1}, \"110\": {\"89\": 1, \"110\": 70, \"21\": 1, \"83\": 1, \"127\": 2, \"0\": 5, \"70\": 2, \"93\": 5, \"24\": 1, \"27\": 1, \"106\": 6, \"10\": 9, \"101\": 5, \"107\": 5, \"40\": 4, \"54\": 1, \"9\": 1, \"49\": 1, \"88\": 3, \"4\": 1, \"5\": 1, \"108\": 1, \"15\": 1}, \"102\": {\"102\": 83, \"13\": 2, \"43\": 1, \"33\": 9, \"50\": 1, \"117\": 4, \"39\": 1, \"109\": 2, \"69\": 6, \"16\": 3, \"11\": 2, \"90\": 2, \"62\": 1, \"36\": 1, \"118\": 1, \"14\": 1}, \"31\": {\"31\": 12, \"126\": 1, \"41\": 1, \"7\": 1, \"96\": 1}, \"58\": {\"58\": 6, \"27\": 1, \"85\": 2, \"103\": 1, \"77\": 1, \"101\": 1}, \"47\": {\"17\": 1, \"47\": 8, \"127\": 1, \"49\": 2}, \"24\": {\"24\": 18, \"52\": 2, \"7\": 1, \"103\": 1, \"89\": 1, \"78\": 1, \"114\": 1, \"32\": 1, \"98\": 5, \"111\": 6, \"15\": 6, \"12\": 5, \"71\": 3, \"40\": 2, \"26\": 2, \"113\": 1, \"108\": 2, \"88\": 6, \"93\": 2, \"4\": 3, \"106\": 2, \"70\": 1, \"110\": 1, \"29\": 1, \"72\": 1, \"49\": 1, \"5\": 2, \"97\": 1, \"9\": 1, \"27\": 2, \"10\": 3, \"36\": 1, \"125\": 1, \"8\": 1, \"94\": 2, \"127\": 2}, \"19\": {\"19\": 15, \"7\": 1, \"31\": 2, \"129\": 1, \"80\": 1, \"43\": 1, \"64\": 2, \"81\": 2, \"122\": 1, \"115\": 1, \"126\": 1}, \"11\": {\"25\": 1, \"96\": 1, \"20\": 1, \"19\": 1, \"33\": 12, \"11\": 64, \"122\": 1, \"34\": 1, \"82\": 1, \"95\": 1, \"116\": 2, \"102\": 8, \"128\": 1, \"62\": 6, \"42\": 2, \"113\": 3, \"69\": 4, \"100\": 1, \"118\": 1, \"109\": 2, \"126\": 3, \"16\": 1, \"26\": 3, \"117\": 1, \"65\": 1, \"123\": 1, \"39\": 4, \"1\": 1, \"40\": 1, \"114\": 1, \"43\": 1}, \"52\": {\"52\": 16, \"27\": 2, \"12\": 1, \"127\": 1}, \"17\": {\"17\": 6, \"104\": 1, \"43\": 1, \"9\": 2, \"103\": 3, \"72\": 1, \"4\": 2}, \"25\": {\"25\": 10, \"96\": 1, \"45\": 4, \"14\": 1}, \"69\": {\"69\": 60, \"62\": 4, \"13\": 1, \"102\": 8, \"33\": 7, \"118\": 2, \"39\": 3, \"117\": 8, \"14\": 1, \"90\": 4, \"26\": 4, \"2\": 1, \"67\": 1, \"16\": 1, \"18\": 2, \"113\": 1}, \"96\": {\"96\": 8, \"51\": 1, \"43\": 1, \"65\": 1, \"76\": 1, \"3\": 1, \"1\": 1, \"80\": 1, \"26\": 1, \"109\": 1, \"74\": 2, \"44\": 1}, \"109\": {\"69\": 1, \"109\": 31, \"116\": 4, \"123\": 1, \"43\": 6, \"50\": 1, \"82\": 2, \"95\": 2, \"122\": 1, \"86\": 1, \"84\": 4, \"1\": 8, \"39\": 1, \"87\": 1, \"90\": 11, \"33\": 1, \"7\": 5, \"44\": 1, \"11\": 2, \"70\": 2, \"62\": 4, \"124\": 2, \"40\": 1, \"22\": 1, \"28\": 2, \"76\": 3, \"126\": 3, \"121\": 2, \"3\": 1, \"118\": 1, \"113\": 2, \"8\": 1, \"114\": 2, \"16\": 1, \"117\": 1, \"102\": 1}, \"115\": {\"115\": 5, \"83\": 1, \"84\": 1, \"128\": 2, \"41\": 1, \"19\": 2}, \"83\": {\"83\": 14, \"115\": 1, \"124\": 1, \"77\": 2, \"109\": 1, \"126\": 1, \"86\": 1, \"40\": 1, \"48\": 1, \"73\": 1, \"9\": 1, \"7\": 1, \"114\": 1, \"87\": 1}, \"84\": {\"84\": 60, \"40\": 7, \"87\": 4, \"48\": 2, \"8\": 6, \"5\": 1, \"1\": 8, \"42\": 2, \"122\": 3, \"105\": 5, \"43\": 7, \"93\": 4, \"10\": 2, \"70\": 3, \"14\": 1, \"7\": 1, \"88\": 1, \"19\": 1, \"16\": 1, \"126\": 2, \"114\": 6, \"4\": 1}, \"119\": {\"119\": 16}, \"122\": {\"1\": 1, \"74\": 3, \"122\": 23, \"70\": 2, \"62\": 1, \"8\": 2, \"87\": 6, \"78\": 2, \"19\": 1, \"105\": 5, \"80\": 2, \"14\": 6, \"95\": 1, \"43\": 5, \"84\": 7, \"42\": 2, \"39\": 4, \"114\": 3, \"109\": 1, \"60\": 1, \"28\": 1, \"81\": 3, \"96\": 1, \"126\": 1, \"117\": 1, \"90\": 1, \"11\": 1, \"18\": 1}, \"99\": {\"16\": 2, \"99\": 17, \"87\": 1, \"129\": 1, \"69\": 1, \"43\": 1, \"90\": 1}, \"1\": {\"1\": 76, \"3\": 3, \"118\": 2, \"48\": 1, \"19\": 1, \"124\": 1, \"109\": 2, \"84\": 12, \"81\": 1, \"126\": 4, \"129\": 3, \"7\": 7, \"122\": 3, \"87\": 4, \"8\": 1, \"43\": 4, \"44\": 1, \"73\": 1, \"4\": 1, \"82\": 1, \"40\": 1, \"14\": 1, \"114\": 1, \"105\": 1, \"117\": 1, \"127\": 2}, \"74\": {\"74\": 16}, \"85\": {\"85\": 29, \"49\": 1, \"58\": 1, \"110\": 1}, \"127\": {\"111\": 6, \"53\": 1, \"123\": 1, \"127\": 61, \"0\": 3, \"24\": 3, \"32\": 3, \"85\": 2, \"98\": 5, \"30\": 1, \"12\": 4, \"43\": 1, \"71\": 2, \"88\": 2, \"16\": 1, \"101\": 4, \"106\": 7, \"110\": 1}, \"111\": {\"127\": 5, \"68\": 2, \"111\": 73, \"53\": 1, \"37\": 1, \"91\": 1, \"6\": 1, \"15\": 2, \"71\": 4, \"101\": 1, \"5\": 1, \"98\": 3, \"88\": 1, \"12\": 8, \"106\": 2, \"24\": 3, \"32\": 2, \"97\": 1, \"27\": 1, \"30\": 4, \"94\": 1, \"18\": 1, \"110\": 1}, \"53\": {\"88\": 2, \"53\": 9, \"0\": 1, \"17\": 1, \"111\": 2, \"37\": 2, \"103\": 1, \"15\": 1, \"24\": 1}, \"88\": {\"127\": 4, \"88\": 34, \"9\": 1, \"94\": 3, \"59\": 1, \"97\": 1, \"29\": 1, \"71\": 5, \"91\": 1, \"36\": 6, \"24\": 2, \"98\": 6, \"40\": 4, \"110\": 8, \"106\": 4, \"12\": 2, \"10\": 3, \"125\": 14, \"105\": 2, \"107\": 5, \"15\": 1, \"108\": 1, \"126\": 2, \"93\": 3, \"86\": 1, \"27\": 2, \"6\": 1, \"72\": 1, \"52\": 1, \"68\": 1, \"5\": 1, \"85\": 2, \"111\": 1, \"101\": 3, \"124\": 2, \"62\": 1, \"70\": 1}, \"65\": {\"122\": 2, \"16\": 1, \"65\": 4, \"63\": 1, \"43\": 1, \"66\": 1, \"102\": 1, \"33\": 1}, \"7\": {\"7\": 101, \"44\": 1, \"31\": 1, \"8\": 1, \"1\": 2, \"84\": 2, \"122\": 2, \"5\": 2, \"4\": 4, \"105\": 1, \"108\": 1, \"114\": 5, \"3\": 1, \"40\": 3, \"43\": 3, \"124\": 1, \"71\": 1, \"93\": 1, \"126\": 1}, \"16\": {\"16\": 59, \"61\": 1, \"38\": 1, \"90\": 2, \"26\": 7, \"117\": 20, \"39\": 5, \"113\": 6, \"11\": 1, \"62\": 1, \"67\": 1, \"118\": 2, \"18\": 1, \"69\": 1}, \"128\": {\"104\": 2, \"84\": 1, \"102\": 1, \"125\": 1, \"45\": 1, \"4\": 2, \"70\": 1, \"118\": 1, \"128\": 4, \"106\": 1, \"108\": 2, \"10\": 2, \"107\": 3, \"78\": 1, \"105\": 1}, \"34\": {\"28\": 5, \"56\": 2, \"43\": 2, \"122\": 1, \"34\": 3, \"27\": 1, \"60\": 2, \"8\": 1, \"24\": 1, \"42\": 3, \"6\": 1, \"64\": 1, \"48\": 1, \"37\": 1, \"127\": 1, \"52\": 1, \"12\": 1, \"10\": 1, \"21\": 1, \"68\": 1, \"111\": 1}, \"129\": {\"129\": 6, \"73\": 2, \"124\": 1, \"23\": 2, \"105\": 2, \"42\": 1, \"33\": 3, \"43\": 1, \"113\": 1, \"26\": 1, \"93\": 1, \"39\": 1, \"2\": 1, \"87\": 1, \"4\": 2, \"49\": 2}, \"43\": {\"128\": 2, \"114\": 10, \"65\": 1, \"70\": 5, \"20\": 1, \"43\": 39, \"14\": 2, \"124\": 2, \"38\": 1, \"61\": 1, \"8\": 11, \"121\": 1, \"1\": 7, \"105\": 4, \"110\": 1, \"78\": 1, \"86\": 1, \"62\": 3, \"126\": 1, \"40\": 5, \"109\": 2, \"87\": 5, \"90\": 1, \"108\": 2, \"5\": 1, \"10\": 1, \"84\": 3, \"7\": 4, \"93\": 4, \"21\": 1, \"129\": 1, \"120\": 1, \"122\": 1, \"11\": 1, \"117\": 1}, \"92\": {\"92\": 28}, \"28\": {\"43\": 1, \"27\": 1, \"14\": 3, \"28\": 9, \"104\": 1, \"74\": 1, \"44\": 1, \"42\": 1, \"34\": 1, \"111\": 1}, \"27\": {\"53\": 1, \"27\": 25, \"49\": 3, \"37\": 1, \"36\": 1, \"127\": 6, \"0\": 1, \"106\": 6, \"92\": 1, \"51\": 1, \"15\": 3, \"71\": 2, \"111\": 5, \"125\": 10, \"101\": 1, \"12\": 3, \"110\": 1, \"94\": 6, \"88\": 3, \"98\": 1, \"30\": 4, \"24\": 1, \"107\": 1, \"86\": 1, \"97\": 1, \"32\": 1, \"93\": 2}, \"114\": {\"114\": 83, \"40\": 3, \"124\": 2, \"1\": 8, \"72\": 1, \"83\": 3, \"81\": 1, \"69\": 1, \"87\": 5, \"105\": 3, \"84\": 4, \"43\": 2, \"93\": 1, \"5\": 1, \"71\": 1, \"4\": 1, \"7\": 1, \"24\": 1, \"14\": 1, \"70\": 1}, \"73\": {\"73\": 19, \"41\": 1}, \"0\": {\"0\": 31, \"104\": 1, \"17\": 1, \"23\": 1, \"75\": 1, \"35\": 2, \"55\": 1, \"101\": 3, \"32\": 2, \"29\": 2, \"127\": 9, \"15\": 3, \"30\": 1, \"111\": 4, \"106\": 5, \"98\": 2, \"107\": 1, \"88\": 1, \"93\": 1, \"41\": 1, \"5\": 1, \"91\": 1, \"24\": 1, \"97\": 1, \"110\": 3, \"12\": 2, \"10\": 2}, \"104\": {\"114\": 1, \"128\": 1, \"104\": 11, \"122\": 1, \"126\": 1, \"77\": 1}, \"118\": {\"118\": 32, \"65\": 1, \"66\": 1, \"2\": 1, \"123\": 2, \"26\": 10, \"113\": 5, \"14\": 1, \"69\": 4, \"18\": 2, \"39\": 3, \"16\": 4, \"116\": 1, \"95\": 2, \"102\": 2, \"62\": 2, \"117\": 7, \"13\": 2, \"90\": 1, \"43\": 1}, \"41\": {\"41\": 11, \"73\": 2, \"31\": 1, \"29\": 1, \"17\": 1}, \"91\": {\"91\": 12, \"9\": 1, \"127\": 1, \"75\": 1, \"105\": 1, \"4\": 1, \"29\": 2, \"71\": 1, \"110\": 1, \"12\": 1, \"24\": 1, \"107\": 1, \"68\": 1, \"0\": 2, \"32\": 1}, \"124\": {\"124\": 72, \"79\": 2, \"23\": 1, \"73\": 1, \"83\": 1, \"108\": 4, \"5\": 3, \"87\": 2, \"40\": 13, \"105\": 4, \"4\": 1, \"114\": 5, \"88\": 1, \"9\": 2, \"70\": 4, \"44\": 1, \"24\": 1, \"126\": 3, \"43\": 1}, \"81\": {\"81\": 26, \"114\": 1, \"122\": 1}, \"63\": {\"63\": 13, \"119\": 1, \"13\": 1, \"113\": 1}, \"76\": {\"76\": 16}, \"10\": {\"10\": 20, \"51\": 1, \"43\": 8, \"8\": 17, \"0\": 7, \"101\": 6, \"106\": 5, \"107\": 6, \"108\": 4, \"40\": 2, \"44\": 1, \"109\": 1, \"110\": 12, \"127\": 2, \"14\": 2, \"62\": 1, \"15\": 1, \"70\": 2, \"103\": 1, \"55\": 2, \"126\": 2, \"60\": 1, \"58\": 1, \"74\": 2, \"87\": 1, \"34\": 1, \"32\": 2, \"75\": 1, \"96\": 1, \"76\": 1, \"85\": 1, \"97\": 1, \"93\": 1, \"5\": 1, \"122\": 1, \"16\": 1}, \"51\": {\"51\": 12, \"88\": 2, \"36\": 1, \"90\": 1}, \"82\": {\"82\": 24, \"33\": 2, \"96\": 1, \"22\": 1, \"62\": 1, \"2\": 2, \"90\": 1, \"80\": 1, \"42\": 1, \"102\": 1, \"13\": 1}, \"56\": {\"56\": 11, \"37\": 1}, \"30\": {\"110\": 3, \"56\": 1, \"30\": 11, \"106\": 5, \"27\": 2, \"111\": 1, \"72\": 2, \"127\": 1, \"0\": 2, \"94\": 3, \"6\": 3, \"98\": 1, \"93\": 1, \"101\": 2, \"88\": 4, \"125\": 3, \"92\": 1, \"85\": 2, \"9\": 1, \"107\": 1, \"40\": 1, \"36\": 1}, \"21\": {\"21\": 9, \"65\": 1, \"48\": 1, \"118\": 2, \"32\": 1, \"43\": 2, \"14\": 2, \"90\": 5, \"26\": 2, \"87\": 3, \"66\": 2, \"39\": 2, \"116\": 1, \"49\": 1, \"99\": 1, \"95\": 1, \"111\": 1, \"44\": 1, \"10\": 1, \"114\": 1}, \"46\": {\"124\": 2, \"33\": 3, \"105\": 1, \"3\": 1, \"114\": 2, \"46\": 1, \"6\": 1, \"92\": 1}, \"33\": {\"82\": 3, \"33\": 112, \"74\": 1, \"62\": 5, \"102\": 6, \"43\": 2, \"11\": 3, \"109\": 1, \"60\": 1, \"69\": 1, \"90\": 2, \"16\": 1}, \"101\": {\"101\": 107, \"35\": 2, \"0\": 1, \"62\": 1, \"93\": 1, \"127\": 3, \"16\": 1, \"110\": 1, \"107\": 1, \"72\": 1, \"106\": 3, \"87\": 1, \"117\": 1}, \"105\": {\"105\": 55, \"77\": 1, \"10\": 1, \"36\": 1, \"40\": 8, \"84\": 1, \"87\": 3, \"114\": 5, \"70\": 1, \"21\": 1, \"108\": 3, \"93\": 1, \"5\": 1, \"124\": 1, \"110\": 1}, \"50\": {\"50\": 14, \"78\": 1, \"62\": 1}, \"116\": {\"3\": 1, \"116\": 18, \"82\": 1, \"123\": 1, \"102\": 1, \"62\": 1, \"118\": 2, \"26\": 3, \"69\": 1, \"100\": 1, \"18\": 1, \"78\": 1}, \"77\": {\"77\": 11, \"86\": 1, \"35\": 1, \"0\": 2, \"107\": 1}, \"75\": {\"75\": 12, \"127\": 1, \"85\": 1, \"24\": 1, \"29\": 1}, \"95\": {\"95\": 33, \"13\": 1, \"118\": 2}, \"120\": {\"120\": 20}, \"18\": {\"95\": 2, \"18\": 77, \"90\": 5, \"117\": 4, \"33\": 1, \"69\": 1, \"113\": 5, \"16\": 1, \"122\": 1, \"21\": 3, \"39\": 2, \"118\": 1, \"11\": 1, \"62\": 1, \"26\": 1, \"109\": 1, \"43\": 1}, \"14\": {\"14\": 76, \"1\": 1, \"84\": 4, \"45\": 1, \"122\": 3, \"43\": 4, \"87\": 3, \"44\": 1, \"8\": 1, \"114\": 1, \"10\": 1}, \"44\": {\"44\": 46, \"66\": 1, \"124\": 1, \"43\": 3, \"126\": 3, \"90\": 3, \"105\": 3, \"8\": 3, \"7\": 4, \"11\": 1, \"1\": 1, \"41\": 1, \"34\": 1, \"96\": 1, \"107\": 1, \"3\": 1, \"4\": 1, \"114\": 1}, \"98\": {\"98\": 56, \"71\": 7, \"32\": 3, \"127\": 1, \"24\": 3, \"15\": 2, \"30\": 1, \"12\": 9, \"111\": 6, \"94\": 1, \"108\": 1, \"128\": 1, \"53\": 1, \"106\": 2, \"88\": 2}, \"121\": {\"121\": 17, \"57\": 1, \"76\": 1, \"13\": 1, \"42\": 1, \"120\": 1, \"21\": 2, \"90\": 2, \"61\": 1, \"65\": 2, \"118\": 2, \"67\": 1}, \"113\": {\"113\": 65, \"57\": 1, \"126\": 1, \"62\": 4, \"117\": 5, \"109\": 2, \"16\": 8, \"26\": 10, \"2\": 2, \"28\": 1, \"18\": 2, \"39\": 2, \"90\": 1, \"69\": 1, \"118\": 2, \"43\": 1}, \"103\": {\"103\": 9, \"111\": 2, \"9\": 1, \"58\": 1, \"0\": 1, \"89\": 1, \"124\": 1}, \"62\": {\"62\": 106, \"122\": 4, \"118\": 1, \"90\": 1, \"16\": 1, \"33\": 1, \"11\": 1, \"69\": 2, \"21\": 1, \"39\": 1, \"109\": 1}, \"32\": {\"85\": 1, \"111\": 2, \"32\": 13, \"88\": 2, \"98\": 2, \"127\": 1, \"15\": 1, \"86\": 1, \"6\": 1, \"36\": 1, \"91\": 3, \"52\": 1, \"24\": 1, \"0\": 1, \"106\": 1}, \"71\": {\"12\": 6, \"71\": 44, \"88\": 6, \"92\": 2, \"15\": 8, \"112\": 1, \"111\": 6, \"32\": 1, \"30\": 7, \"94\": 4, \"127\": 3, \"27\": 4, \"106\": 2, \"98\": 4, \"16\": 1, \"26\": 1, \"101\": 1, \"125\": 2, \"118\": 1, \"97\": 1, \"53\": 1, \"108\": 2}, \"94\": {\"12\": 5, \"71\": 3, \"94\": 41, \"127\": 3, \"98\": 3, \"125\": 8, \"111\": 2, \"88\": 7, \"36\": 3, \"16\": 1, \"0\": 1, \"68\": 1, \"51\": 1, \"32\": 1, \"107\": 1, \"27\": 4, \"85\": 1, \"6\": 1, \"122\": 1, \"30\": 1, \"106\": 2, \"113\": 1}, \"49\": {\"49\": 10, \"85\": 1, \"107\": 1, \"34\": 1, \"101\": 3, \"111\": 1, \"98\": 1, \"9\": 1, \"108\": 1}, \"12\": {\"12\": 42, \"111\": 7, \"27\": 8, \"51\": 1, \"32\": 1, \"15\": 3, \"94\": 2, \"71\": 6, \"106\": 5, \"98\": 9, \"127\": 6, \"109\": 1, \"24\": 1, \"10\": 1, \"37\": 1, \"52\": 2, \"53\": 1, \"105\": 1, \"90\": 2, \"101\": 2, \"88\": 1, \"36\": 1}, \"90\": {\"90\": 98, \"64\": 1, \"126\": 2, \"66\": 1, \"42\": 1, \"14\": 2, \"62\": 3, \"109\": 5, \"102\": 1, \"70\": 1, \"43\": 1, \"18\": 1, \"21\": 1, \"122\": 1, \"121\": 1, \"39\": 1, \"3\": 1, \"87\": 2}, \"93\": {\"93\": 19, \"49\": 3, \"32\": 1, \"103\": 2, \"35\": 2, \"4\": 6, \"107\": 11, \"87\": 5, \"110\": 9, \"43\": 4, \"106\": 5, \"10\": 4, \"70\": 5, \"108\": 3, \"0\": 3, \"14\": 2, \"122\": 2, \"8\": 8, \"40\": 1, \"84\": 4, \"101\": 16, \"109\": 1, \"90\": 1, \"47\": 1, \"28\": 1, \"62\": 1, \"42\": 1, \"85\": 1, \"21\": 1, \"127\": 1}, \"13\": {\"13\": 10, \"102\": 1, \"117\": 1, \"45\": 1, \"113\": 2, \"118\": 1}, \"67\": {\"94\": 1, \"67\": 13, \"69\": 2}, \"20\": {\"20\": 9, \"99\": 1, \"121\": 1, \"62\": 1, \"38\": 2, \"13\": 1, \"122\": 1}, \"2\": {\"3\": 1, \"2\": 18, \"118\": 2, \"113\": 2, \"16\": 2, \"26\": 2, \"39\": 1, \"1\": 1, \"100\": 1, \"99\": 1, \"11\": 1}, \"5\": {\"5\": 63, \"55\": 1, \"4\": 5, \"126\": 1, \"0\": 2, \"12\": 1, \"88\": 2, \"93\": 1, \"107\": 3, \"36\": 1, \"110\": 2, \"10\": 1, \"21\": 1, \"9\": 1, \"72\": 1, \"71\": 1, \"108\": 1}, \"54\": {\"54\": 12, \"89\": 1, \"108\": 2, \"127\": 1}, \"37\": {\"37\": 14, \"52\": 2}, \"38\": {\"38\": 16}, \"86\": {\"89\": 1, \"49\": 4, \"107\": 1, \"86\": 7, \"70\": 2, \"101\": 1, \"4\": 1, \"29\": 1, \"0\": 1, \"34\": 2, \"15\": 2, \"108\": 2, \"40\": 1, \"109\": 1, \"2\": 1, \"58\": 1, \"77\": 1, \"9\": 2, \"91\": 1, \"127\": 2, \"27\": 1}, \"55\": {\"55\": 11, \"107\": 1}, \"97\": {\"52\": 1, \"89\": 2, \"94\": 1, \"97\": 8, \"122\": 1, \"27\": 1, \"88\": 1, \"0\": 1, \"76\": 1, \"30\": 1, \"127\": 1, \"40\": 1}, \"29\": {\"29\": 25, \"91\": 2, \"4\": 1}, \"48\": {\"16\": 1, \"48\": 10, \"64\": 1}, \"60\": {\"60\": 9, \"13\": 1, \"18\": 2, \"109\": 1, \"117\": 1, \"76\": 1, \"118\": 1}, \"36\": {\"36\": 78, \"15\": 4, \"27\": 4, \"94\": 5, \"125\": 11, \"90\": 1, \"71\": 2, \"111\": 2, \"88\": 2, \"106\": 2, \"51\": 1, \"37\": 2, \"6\": 1, \"12\": 5, \"16\": 1, \"98\": 1}, \"42\": {\"44\": 1, \"118\": 2, \"80\": 2, \"1\": 1, \"105\": 2, \"84\": 1, \"81\": 1, \"42\": 7, \"21\": 1, \"116\": 2, \"122\": 2, \"114\": 1, \"19\": 2, \"18\": 1, \"76\": 1, \"33\": 1}, \"66\": {\"66\": 10, \"42\": 1, \"33\": 1, \"129\": 2, \"122\": 1, \"16\": 1}, \"126\": {\"9\": 1, \"7\": 17, \"47\": 1, \"126\": 21, \"99\": 1, \"62\": 4, \"19\": 2, \"122\": 5, \"83\": 1, \"129\": 1, \"8\": 4, \"90\": 6, \"43\": 4, \"44\": 4, \"87\": 2, \"109\": 3, \"1\": 5, \"93\": 1, \"40\": 4, \"11\": 2, \"114\": 3, \"70\": 6, \"18\": 1, \"5\": 6, \"108\": 1, \"124\": 4, \"10\": 1, \"84\": 2, \"4\": 3, \"110\": 2, \"73\": 1, \"107\": 1, \"71\": 2, \"0\": 2, \"14\": 1, \"113\": 1, \"105\": 1, \"33\": 1}, \"39\": {\"102\": 1, \"39\": 30, \"74\": 2, \"120\": 4, \"126\": 3, \"117\": 7, \"26\": 7, \"66\": 2, \"113\": 3, \"116\": 1, \"118\": 4, \"42\": 2, \"62\": 6, \"18\": 6, \"69\": 8, \"109\": 1, \"90\": 2, \"87\": 2, \"21\": 1, \"2\": 1, \"65\": 1, \"16\": 4, \"43\": 1, \"122\": 1, \"70\": 2, \"14\": 1, \"11\": 1}, \"107\": {\"85\": 2, \"107\": 85, \"91\": 1, \"21\": 1, \"110\": 4, \"0\": 3, \"5\": 4, \"93\": 6, \"117\": 1, \"101\": 3, \"40\": 1, \"72\": 1, \"17\": 2, \"77\": 1, \"4\": 6, \"127\": 2, \"108\": 1}, \"59\": {\"59\": 7, \"88\": 1, \"71\": 2, \"95\": 1, \"69\": 1}, \"117\": {\"117\": 117, \"39\": 3, \"113\": 2, \"26\": 6, \"16\": 9, \"102\": 1}, \"6\": {\"6\": 14, \"92\": 2, \"27\": 3, \"111\": 2, \"98\": 1, \"36\": 2, \"30\": 1, \"32\": 1, \"112\": 1, \"53\": 1, \"125\": 1, \"88\": 1, \"94\": 2}, \"123\": {\"123\": 15, \"67\": 1}, \"8\": {\"8\": 87, \"83\": 1, \"120\": 1, \"126\": 3, \"122\": 4, \"118\": 1, \"87\": 4, \"90\": 2, \"14\": 5, \"108\": 2, \"62\": 1, \"93\": 4, \"10\": 1, \"114\": 1, \"105\": 1, \"43\": 2, \"107\": 1, \"84\": 1, \"109\": 2}, \"112\": {\"112\": 10, \"98\": 1, \"36\": 1, \"27\": 3, \"6\": 1}, \"80\": {\"14\": 2, \"80\": 11, \"42\": 1, \"87\": 1, \"122\": 1}, \"125\": {\"125\": 115, \"15\": 2, \"30\": 1, \"27\": 2, \"36\": 6, \"94\": 9, \"88\": 1}, \"61\": {\"117\": 1, \"64\": 1, \"61\": 7, \"28\": 2, \"62\": 1}, \"45\": {\"45\": 4, \"67\": 1, \"33\": 1, \"90\": 2, \"50\": 2, \"64\": 2}, \"72\": {\"72\": 22, \"55\": 1, \"0\": 3, \"40\": 1, \"71\": 1, \"4\": 1, \"29\": 1, \"126\": 1, \"107\": 1}, \"87\": {\"43\": 8, \"96\": 1, \"87\": 27, \"35\": 1, \"78\": 1, \"110\": 4, \"122\": 3, \"14\": 2, \"34\": 2, \"7\": 4, \"124\": 1, \"44\": 2, \"40\": 6, \"8\": 4, \"10\": 4, \"114\": 7, \"105\": 4, \"109\": 3, \"84\": 5, \"5\": 1, \"108\": 1, \"70\": 3, \"1\": 2, \"107\": 2, \"4\": 1, \"73\": 1, \"21\": 2, \"126\": 1, \"76\": 1, \"93\": 4}, \"106\": {\"106\": 76, \"30\": 1, \"101\": 9, \"32\": 3, \"111\": 4, \"110\": 3, \"0\": 6, \"98\": 5, \"12\": 4, \"127\": 5, \"88\": 1, \"108\": 1, \"9\": 1, \"27\": 1, \"107\": 3, \"16\": 1}, \"35\": {\"35\": 6, \"27\": 1, \"70\": 1, \"6\": 1, \"32\": 1, \"72\": 1, \"41\": 1}, \"78\": {\"62\": 1, \"95\": 1, \"113\": 1, \"78\": 3, \"122\": 1, \"126\": 1, \"70\": 1, \"84\": 1, \"96\": 1, \"107\": 1, \"120\": 1, \"14\": 1, \"90\": 1, \"116\": 1}, \"15\": {\"15\": 42, \"36\": 5, \"88\": 4, \"71\": 10, \"110\": 3, \"0\": 3, \"32\": 2, \"6\": 1, \"30\": 2, \"94\": 3, \"117\": 1, \"106\": 4, \"12\": 5, \"10\": 4, \"125\": 7, \"18\": 2, \"107\": 2, \"53\": 1, \"101\": 1, \"27\": 1, \"111\": 1}, \"100\": {\"100\": 10, \"11\": 1, \"40\": 1, \"116\": 1, \"26\": 1, \"2\": 1, \"63\": 1}}, \"Wisig_2\": {\"91\": {\"101\": 2, \"91\": 8, \"17\": 3, \"3\": 2, \"128\": 1, \"54\": 1, \"107\": 3, \"8\": 1, \"53\": 1, \"127\": 1, \"98\": 1, \"108\": 1, \"49\": 1, \"99\": 1, \"12\": 1}, \"12\": {\"101\": 1, \"91\": 2, \"12\": 26, \"24\": 1, \"114\": 8, \"97\": 1, \"29\": 1, \"7\": 5, \"111\": 6, \"117\": 1, \"41\": 1, \"34\": 1, \"0\": 9, \"16\": 1, \"71\": 3, \"108\": 3, \"90\": 1, \"127\": 5, \"118\": 1, \"52\": 2, \"54\": 2, \"26\": 1, \"30\": 2, \"79\": 1, \"70\": 1, \"4\": 1, \"98\": 1}, \"101\": {\"101\": 128, \"77\": 1, \"24\": 1, \"36\": 1, \"30\": 6, \"0\": 4, \"15\": 2, \"106\": 1, \"117\": 1, \"111\": 2, \"125\": 1}, \"121\": {\"121\": 23, \"81\": 1, \"26\": 2, \"96\": 4, \"109\": 1, \"88\": 1, \"31\": 1, \"60\": 1, \"72\": 1, \"39\": 1}, \"118\": {\"121\": 1, \"33\": 2, \"13\": 1, \"87\": 4, \"48\": 1, \"14\": 1, \"21\": 2, \"116\": 1, \"72\": 1, \"84\": 4, \"102\": 3, \"23\": 1, \"118\": 19, \"109\": 4, \"88\": 2, \"16\": 2, \"10\": 2, \"40\": 1, \"62\": 2, \"39\": 1, \"46\": 1, \"38\": 1, \"45\": 1, \"78\": 1, \"80\": 1, \"122\": 1, \"1\": 2, \"82\": 1, \"90\": 1, \"69\": 2, \"18\": 1}, \"10\": {\"88\": 1, \"118\": 1, \"8\": 4, \"120\": 1, \"10\": 20, \"122\": 1, \"109\": 1, \"121\": 1, \"105\": 5, \"12\": 2, \"26\": 1, \"62\": 2, \"14\": 1, \"78\": 1, \"40\": 1, \"7\": 1, \"39\": 1, \"63\": 2, \"86\": 1, \"61\": 1, \"110\": 2, \"101\": 1, \"66\": 1, \"60\": 1, \"107\": 2, \"74\": 2, \"1\": 1, \"21\": 1}, \"117\": {\"121\": 1, \"117\": 94, \"26\": 6, \"102\": 2, \"2\": 1, \"18\": 3, \"81\": 1, \"113\": 3, \"69\": 2, \"87\": 1, \"39\": 2, \"16\": 2, \"31\": 1, \"44\": 1}, \"110\": {\"86\": 1, \"28\": 1, \"110\": 16, \"47\": 2, \"40\": 2, \"120\": 1, \"8\": 1, \"78\": 1, \"122\": 3, \"16\": 2, \"83\": 1, \"34\": 2, \"87\": 1, \"53\": 1, \"104\": 1, \"65\": 1, \"10\": 1, \"71\": 1, \"3\": 1}, \"97\": {\"101\": 1, \"97\": 9, \"98\": 2, \"0\": 2, \"29\": 1, \"111\": 1, \"58\": 1, \"103\": 1, \"52\": 1, \"94\": 1}, \"28\": {\"28\": 20}, \"88\": {\"88\": 67, \"44\": 1, \"20\": 1, \"109\": 6, \"16\": 2, \"63\": 5, \"102\": 1, \"90\": 10, \"126\": 3, \"118\": 2, \"70\": 4, \"87\": 1, \"39\": 3, \"113\": 2, \"62\": 3, \"2\": 2, \"96\": 2, \"43\": 1, \"21\": 4, \"93\": 2, \"69\": 1, \"33\": 1}, \"17\": {\"17\": 9, \"91\": 1, \"3\": 2, \"11\": 1, \"107\": 1, \"104\": 2}, \"126\": {\"121\": 1, \"10\": 1, \"126\": 29, \"84\": 2, \"73\": 1, \"90\": 7, \"1\": 8, \"116\": 1, \"96\": 2, \"85\": 1, \"129\": 1, \"70\": 8, \"21\": 1, \"60\": 1, \"78\": 1, \"88\": 5, \"62\": 4, \"99\": 1, \"33\": 5, \"109\": 4, \"43\": 4, \"26\": 2, \"16\": 4, \"39\": 2, \"93\": 2, \"5\": 1, \"44\": 2, \"19\": 1, \"20\": 3, \"118\": 1, \"66\": 2, \"122\": 1, \"18\": 1, \"87\": 2, \"3\": 1, \"102\": 1}, \"33\": {\"33\": 79, \"102\": 8, \"62\": 2, \"37\": 1, \"46\": 1, \"1\": 5, \"70\": 4, \"90\": 2, \"16\": 1, \"84\": 6, \"43\": 4, \"122\": 1, \"126\": 3, \"87\": 3, \"26\": 1, \"93\": 3, \"40\": 1, \"105\": 1, \"117\": 1, \"69\": 1}, \"86\": {\"110\": 1, \"86\": 27, \"8\": 3, \"107\": 1}, \"106\": {\"106\": 73, \"97\": 1, \"15\": 6, \"51\": 1, \"24\": 5, \"75\": 1, \"81\": 1, \"125\": 8, \"6\": 1, \"36\": 7, \"94\": 2, \"101\": 4, \"98\": 1, \"90\": 1, \"30\": 2, \"18\": 1, \"121\": 1, \"39\": 1, \"27\": 1, \"88\": 1, \"26\": 1}, \"54\": {\"54\": 18, \"68\": 1, \"127\": 1}, \"125\": {\"15\": 3, \"125\": 115, \"30\": 2, \"106\": 3, \"36\": 5, \"94\": 2, \"27\": 1, \"117\": 1}, \"83\": {\"83\": 25, \"20\": 1, \"31\": 1, \"90\": 1, \"87\": 3, \"93\": 2, \"88\": 1, \"84\": 2, \"39\": 1, \"96\": 1, \"99\": 1, \"126\": 1}, \"98\": {\"125\": 1, \"54\": 1, \"98\": 60, \"97\": 1, \"24\": 4, \"30\": 5, \"0\": 4, \"112\": 1, \"71\": 1, \"15\": 7, \"101\": 8, \"84\": 1, \"108\": 6, \"106\": 3, \"1\": 2, \"21\": 1, \"109\": 1, \"111\": 6, \"94\": 2, \"118\": 1, \"7\": 2, \"127\": 1, \"114\": 1}, \"11\": {\"54\": 1, \"11\": 14, \"53\": 1, \"12\": 3, \"91\": 1, \"3\": 4, \"56\": 1, \"20\": 2, \"77\": 1, \"41\": 1, \"19\": 1, \"114\": 5, \"108\": 5, \"79\": 1, \"34\": 1, \"124\": 2, \"122\": 2, \"101\": 1, \"0\": 3, \"7\": 5, \"111\": 2, \"126\": 1, \"8\": 1, \"4\": 5, \"129\": 1, \"128\": 1, \"97\": 1, \"92\": 1, \"29\": 1, \"52\": 1, \"105\": 1, \"107\": 1, \"40\": 2, \"127\": 3, \"24\": 1, \"94\": 1, \"88\": 1}, \"32\": {\"32\": 23, \"14\": 1, \"78\": 2, \"70\": 2, \"50\": 1, \"108\": 1, \"10\": 1, \"97\": 1, \"43\": 2, \"105\": 2}, \"42\": {\"11\": 1, \"32\": 1, \"49\": 1, \"42\": 7, \"84\": 3, \"46\": 1, \"3\": 1, \"43\": 1, \"41\": 1, \"127\": 1, \"56\": 4, \"52\": 1, \"30\": 1, \"129\": 2, \"19\": 2}, \"103\": {\"103\": 6, \"41\": 4, \"77\": 1, \"29\": 1, \"7\": 1, \"35\": 2, \"59\": 1}, \"87\": {\"118\": 5, \"13\": 2, \"87\": 19, \"126\": 2, \"62\": 3, \"2\": 1, \"63\": 1, \"116\": 1, \"117\": 5, \"33\": 2, \"26\": 1, \"90\": 5, \"84\": 6, \"3\": 1, \"92\": 1, \"39\": 5, \"21\": 3, \"78\": 1, \"93\": 3, \"1\": 5, \"43\": 2, \"18\": 2, \"16\": 5, \"69\": 2, \"88\": 4, \"109\": 4, \"102\": 8, \"100\": 1, \"53\": 1, \"46\": 2, \"129\": 1, \"89\": 1, \"72\": 1, \"94\": 1, \"121\": 1, \"120\": 1, \"24\": 1, \"70\": 1, \"40\": 1}, \"61\": {\"87\": 1, \"61\": 17, \"120\": 1, \"63\": 1}, \"13\": {\"13\": 9, \"31\": 1, \"57\": 1, \"93\": 1, \"65\": 2, \"117\": 1, \"18\": 1}, \"4\": {\"4\": 48, \"97\": 1, \"114\": 6, \"0\": 1, \"39\": 1, \"11\": 2, \"124\": 3, \"69\": 1, \"71\": 6, \"7\": 4, \"108\": 5, \"122\": 1, \"129\": 1, \"5\": 2, \"29\": 1, \"95\": 1, \"118\": 1, \"30\": 1}, \"15\": {\"15\": 57, \"54\": 3, \"68\": 2, \"109\": 1, \"77\": 1, \"12\": 2, \"106\": 12, \"7\": 1, \"98\": 3, \"36\": 8, \"9\": 1, \"94\": 2, \"101\": 4, \"39\": 2, \"125\": 5, \"24\": 2, \"0\": 4, \"111\": 2, \"51\": 2, \"97\": 1, \"67\": 1, \"30\": 2, \"27\": 1, \"16\": 1}, \"120\": {\"120\": 19, \"88\": 1}, \"80\": {\"80\": 12, \"96\": 1, \"70\": 1, \"84\": 1, \"60\": 1}, \"72\": {\"72\": 19, \"120\": 1, \"93\": 1, \"21\": 1, \"118\": 1, \"13\": 2, \"82\": 1, \"121\": 2}, \"64\": {\"64\": 8, \"92\": 1, \"123\": 1, \"76\": 2, \"45\": 2, \"32\": 1, \"109\": 1}, \"81\": {\"102\": 1, \"81\": 11, \"20\": 2, \"72\": 2, \"88\": 1, \"18\": 1, \"87\": 1, \"117\": 2, \"16\": 1, \"109\": 1, \"69\": 1}, \"102\": {\"102\": 91, \"93\": 4, \"81\": 1, \"31\": 1, \"109\": 1, \"84\": 1, \"90\": 1, \"69\": 4, \"16\": 3, \"1\": 1, \"43\": 1, \"118\": 1, \"39\": 2}, \"76\": {\"76\": 15, \"60\": 1}, \"49\": {\"52\": 3, \"56\": 1, \"114\": 1, \"49\": 5, \"9\": 1, \"58\": 1, \"7\": 2, \"27\": 1, \"77\": 1, \"0\": 1, \"75\": 1, \"124\": 1, \"39\": 1, \"128\": 1, \"125\": 1, \"91\": 2}, \"129\": {\"49\": 1, \"129\": 12, \"105\": 3, \"128\": 4, \"19\": 1, \"58\": 1, \"108\": 2, \"1\": 3, \"73\": 1, \"5\": 1, \"71\": 1, \"112\": 1, \"4\": 1}, \"89\": {\"121\": 1, \"76\": 1, \"89\": 21, \"72\": 1, \"23\": 2, \"126\": 1, \"118\": 2, \"92\": 2, \"51\": 1, \"82\": 1, \"65\": 2, \"117\": 1}, \"52\": {\"35\": 1, \"52\": 12, \"0\": 1, \"97\": 1, \"36\": 1, \"111\": 1, \"51\": 1, \"101\": 1, \"68\": 1}, \"35\": {\"52\": 2, \"12\": 2, \"77\": 1, \"35\": 4, \"15\": 1, \"103\": 2}, \"53\": {\"53\": 16}, \"26\": {\"117\": 5, \"18\": 9, \"26\": 80, \"88\": 2, \"102\": 5, \"69\": 16, \"113\": 5, \"90\": 3, \"39\": 2, \"21\": 1}, \"96\": {\"120\": 1, \"96\": 13, \"87\": 1, \"63\": 1, \"116\": 1, \"99\": 1, \"90\": 1, \"88\": 1}, \"27\": {\"27\": 21, \"91\": 1, \"109\": 4, \"51\": 1, \"15\": 4, \"16\": 1, \"106\": 4, \"7\": 2, \"101\": 2, \"98\": 3, \"88\": 1, \"30\": 1, \"0\": 1, \"117\": 2, \"9\": 3, \"113\": 2, \"25\": 1, \"97\": 1, \"36\": 5, \"6\": 1, \"111\": 1, \"18\": 1, \"11\": 1, \"125\": 1, \"2\": 1, \"12\": 1, \"8\": 1}, \"24\": {\"27\": 4, \"25\": 3, \"102\": 1, \"24\": 15, \"104\": 1, \"106\": 8, \"15\": 14, \"85\": 2, \"108\": 1, \"8\": 3, \"34\": 1, \"94\": 5, \"9\": 2, \"36\": 4, \"114\": 3, \"101\": 2, \"1\": 1, \"39\": 1, \"109\": 2, \"98\": 7, \"88\": 2, \"43\": 1, \"16\": 1, \"125\": 3, \"105\": 1, \"42\": 1, \"58\": 2, \"74\": 2, \"51\": 2, \"10\": 1, \"5\": 1, \"60\": 1, \"26\": 2, \"78\": 2, \"64\": 1, \"126\": 2, \"53\": 1, \"30\": 1, \"107\": 2, \"69\": 1, \"71\": 1, \"62\": 1}, \"82\": {\"82\": 31, \"117\": 1, \"102\": 1, \"39\": 1, \"89\": 1, \"18\": 1}, \"18\": {\"18\": 101, \"48\": 1, \"65\": 1, \"22\": 1, \"88\": 1, \"113\": 1, \"117\": 3, \"102\": 2, \"69\": 2, \"26\": 7, \"93\": 1, \"62\": 1, \"16\": 2, \"39\": 2, \"78\": 1, \"81\": 1}, \"69\": {\"82\": 2, \"69\": 76, \"48\": 1, \"2\": 2, \"16\": 7, \"26\": 7, \"109\": 2, \"117\": 2, \"39\": 2, \"102\": 12, \"113\": 1, \"90\": 2, \"99\": 1, \"81\": 1, \"121\": 1, \"44\": 1, \"118\": 1, \"18\": 1}, \"47\": {\"105\": 2, \"60\": 1, \"47\": 5, \"19\": 1, \"22\": 1, \"122\": 1, \"40\": 1}, \"85\": {\"129\": 2, \"85\": 13, \"112\": 1, \"73\": 4, \"4\": 2, \"3\": 2, \"5\": 4, \"115\": 2, \"24\": 1, \"71\": 1}, \"2\": {\"2\": 26, \"126\": 1, \"69\": 1, \"119\": 1, \"39\": 1, \"109\": 1, \"81\": 1}, \"67\": {\"67\": 12, \"64\": 1, \"23\": 2, \"126\": 1}, \"39\": {\"39\": 26, \"62\": 7, \"63\": 1, \"102\": 5, \"82\": 2, \"120\": 2, \"113\": 3, \"88\": 5, \"26\": 2, \"21\": 3, \"109\": 3, \"69\": 6, \"44\": 1, \"93\": 1, \"70\": 2, \"118\": 1, \"16\": 4, \"18\": 5, \"90\": 5, \"117\": 5, \"87\": 5, \"123\": 2, \"61\": 1, \"65\": 1, \"89\": 1, \"2\": 1, \"96\": 1, \"20\": 3, \"48\": 2, \"66\": 1, \"83\": 3, \"43\": 1, \"126\": 1}, \"99\": {\"99\": 25, \"109\": 1, \"20\": 1, \"65\": 2, \"93\": 1, \"121\": 1, \"39\": 1}, \"74\": {\"74\": 11, \"86\": 2, \"106\": 1, \"75\": 2}, \"105\": {\"105\": 69, \"107\": 5, \"78\": 2, \"86\": 2, \"11\": 1, \"122\": 11, \"43\": 4, \"95\": 1, \"40\": 16, \"62\": 4, \"108\": 2, \"26\": 2, \"18\": 1, \"128\": 1, \"32\": 1, \"117\": 1, \"90\": 1, \"8\": 3, \"71\": 2, \"70\": 1, \"7\": 1, \"4\": 1}, \"70\": {\"39\": 5, \"70\": 14, \"89\": 3, \"78\": 1, \"118\": 2, \"107\": 1, \"90\": 6, \"43\": 5, \"50\": 5, \"110\": 1, \"23\": 2, \"113\": 1, \"122\": 5, \"105\": 3, \"88\": 13, \"40\": 12, \"62\": 7, \"83\": 1, \"10\": 2, \"1\": 5, \"84\": 3, \"126\": 2, \"87\": 1, \"44\": 1, \"71\": 1, \"109\": 2, \"33\": 5, \"37\": 2, \"69\": 1, \"108\": 1, \"93\": 2, \"8\": 1, \"26\": 2, \"16\": 3, \"3\": 1}, \"55\": {\"55\": 15, \"17\": 1}, \"30\": {\"47\": 2, \"7\": 6, \"30\": 27, \"97\": 2, \"112\": 1, \"98\": 9, \"75\": 1, \"0\": 7, \"91\": 3, \"101\": 12, \"124\": 2, \"127\": 6, \"94\": 4, \"111\": 5, \"71\": 2, \"122\": 2, \"15\": 3, \"106\": 3, \"90\": 1, \"4\": 1, \"16\": 1, \"36\": 3, \"6\": 1, \"58\": 1, \"128\": 1, \"107\": 1, \"12\": 1, \"108\": 2, \"88\": 1, \"3\": 1}, \"60\": {\"120\": 1, \"110\": 1, \"88\": 3, \"123\": 1, \"21\": 1, \"10\": 1, \"80\": 1, \"96\": 2, \"90\": 2, \"87\": 2, \"121\": 1, \"89\": 1, \"60\": 8, \"83\": 1, \"1\": 1, \"126\": 1}, \"92\": {\"92\": 13, \"64\": 1, \"51\": 1, \"116\": 1, \"76\": 1, \"24\": 1, \"126\": 1, \"69\": 1, \"46\": 1, \"28\": 1, \"118\": 1, \"57\": 1, \"31\": 1, \"82\": 1, \"14\": 1, \"109\": 1}, \"45\": {\"45\": 12, \"60\": 1, \"43\": 1, \"14\": 1, \"65\": 1}, \"127\": {\"127\": 62, \"34\": 2, \"111\": 12, \"0\": 4, \"7\": 9, \"11\": 1, \"3\": 2, \"4\": 2, \"118\": 1, \"15\": 2, \"41\": 1, \"103\": 1, \"79\": 1, \"77\": 1, \"91\": 1, \"24\": 1, \"114\": 1, \"124\": 2, \"30\": 1, \"12\": 2, \"108\": 1, \"122\": 2}, \"9\": {\"93\": 1, \"9\": 30, \"18\": 1}, \"115\": {\"114\": 1, \"73\": 1, \"115\": 8, \"52\": 1, \"94\": 1}, \"73\": {\"73\": 21, \"5\": 3, \"85\": 1, \"78\": 1, \"122\": 1, \"104\": 1}, \"108\": {\"127\": 3, \"108\": 42, \"105\": 5, \"68\": 1, \"104\": 2, \"49\": 1, \"114\": 5, \"110\": 2, \"24\": 1, \"8\": 7, \"71\": 2, \"86\": 2, \"111\": 7, \"3\": 7, \"98\": 2, \"7\": 4, \"107\": 3, \"0\": 3, \"12\": 3, \"124\": 6, \"122\": 6, \"5\": 2, \"4\": 4, \"44\": 1, \"11\": 4, \"15\": 3, \"79\": 2, \"91\": 1, \"84\": 1, \"40\": 3, \"95\": 1, \"70\": 2}, \"114\": {\"114\": 54, \"127\": 5, \"56\": 1, \"129\": 1, \"49\": 1, \"66\": 1, \"7\": 5, \"108\": 3, \"71\": 4, \"4\": 10, \"3\": 3, \"12\": 3, \"122\": 2, \"11\": 4, \"39\": 1, \"124\": 7, \"115\": 1, \"19\": 2, \"24\": 1, \"72\": 1, \"34\": 2, \"5\": 2, \"113\": 1, \"15\": 1}, \"63\": {\"120\": 4, \"63\": 15, \"127\": 1}, \"93\": {\"93\": 72, \"102\": 10, \"39\": 3, \"87\": 4, \"84\": 1, \"1\": 2, \"90\": 9, \"126\": 1, \"16\": 8, \"124\": 1, \"109\": 4, \"62\": 1, \"69\": 4, \"26\": 2, \"121\": 1, \"10\": 1, \"88\": 1, \"44\": 1, \"113\": 1, \"70\": 1}, \"7\": {\"7\": 76, \"30\": 3, \"3\": 7, \"41\": 1, \"104\": 2, \"114\": 3, \"124\": 3, \"127\": 5, \"11\": 1, \"8\": 2, \"12\": 1, \"40\": 1, \"71\": 6, \"24\": 1, \"105\": 1, \"5\": 3, \"129\": 1, \"49\": 1, \"29\": 1, \"4\": 3, \"94\": 1, \"110\": 1, \"0\": 3, \"122\": 2, \"111\": 1, \"15\": 2}, \"31\": {\"31\": 14, \"121\": 1, \"61\": 1, \"102\": 1, \"67\": 1, \"73\": 1, \"90\": 1}, \"123\": {\"47\": 1, \"123\": 9, \"20\": 1, \"38\": 1, \"10\": 1, \"55\": 1, \"61\": 1, \"60\": 1}, \"128\": {\"3\": 2, \"111\": 2, \"108\": 2, \"68\": 1, \"64\": 1, \"23\": 1, \"95\": 1, \"87\": 1, \"91\": 1, \"27\": 1, \"100\": 1, \"42\": 1, \"128\": 3, \"7\": 1, \"32\": 1, \"122\": 1, \"94\": 1, \"107\": 1, \"29\": 1}, \"0\": {\"97\": 5, \"24\": 6, \"0\": 50, \"12\": 6, \"87\": 1, \"71\": 2, \"101\": 10, \"111\": 5, \"21\": 1, \"127\": 2, \"98\": 1, \"30\": 7, \"39\": 3, \"7\": 5, \"11\": 1, \"52\": 2, \"107\": 1, \"114\": 1, \"83\": 1, \"15\": 1, \"108\": 2, \"4\": 1, \"36\": 1, \"70\": 1}, \"3\": {\"129\": 5, \"3\": 72, \"17\": 1, \"19\": 1, \"7\": 4, \"32\": 2, \"104\": 2, \"128\": 1, \"34\": 1, \"95\": 1, \"114\": 6, \"108\": 1, \"71\": 5, \"122\": 8, \"24\": 1, \"5\": 6, \"88\": 1, \"98\": 1, \"8\": 5, \"4\": 1, \"29\": 1, \"105\": 1, \"49\": 1, \"111\": 1, \"110\": 1, \"11\": 2, \"124\": 2, \"39\": 1, \"40\": 1}, \"19\": {\"3\": 1, \"19\": 15, \"7\": 1, \"32\": 1, \"107\": 1, \"80\": 1, \"40\": 1, \"55\": 3, \"122\": 1, \"28\": 1, \"17\": 1, \"92\": 1}, \"57\": {\"57\": 16, \"60\": 1, \"65\": 1, \"69\": 1, \"37\": 1}, \"78\": {\"61\": 1, \"64\": 1, \"118\": 1, \"121\": 1, \"43\": 1, \"12\": 1, \"70\": 1, \"126\": 1, \"71\": 1, \"88\": 3, \"39\": 3, \"105\": 1, \"78\": 8, \"5\": 1, \"14\": 2, \"40\": 3, \"90\": 3, \"4\": 1, \"74\": 1, \"66\": 1, \"124\": 1, \"85\": 1, \"96\": 1, \"107\": 1, \"10\": 2, \"21\": 1, \"73\": 1, \"1\": 1, \"87\": 2, \"109\": 1}, \"95\": {\"95\": 30, \"105\": 1, \"88\": 1, \"129\": 2, \"40\": 1, \"124\": 1}, \"40\": {\"128\": 2, \"40\": 74, \"110\": 3, \"19\": 1, \"34\": 2, \"95\": 2, \"105\": 12, \"7\": 2, \"114\": 2, \"122\": 9, \"1\": 2, \"107\": 2, \"5\": 2, \"71\": 5, \"39\": 2, \"90\": 2, \"8\": 4, \"4\": 1, \"85\": 2, \"96\": 1, \"74\": 1, \"11\": 1, \"108\": 1, \"102\": 1, \"126\": 1, \"43\": 1, \"18\": 1, \"26\": 1}, \"14\": {\"57\": 1, \"14\": 26, \"62\": 3, \"65\": 1, \"23\": 1, \"70\": 5, \"16\": 1, \"50\": 1, \"72\": 1, \"88\": 1, \"32\": 1, \"67\": 1, \"126\": 1, \"1\": 2, \"118\": 2}, \"36\": {\"111\": 1, \"36\": 53, \"15\": 10, \"106\": 8, \"97\": 1, \"58\": 1, \"125\": 8, \"6\": 2, \"94\": 2, \"9\": 3, \"91\": 1, \"21\": 1, \"101\": 10, \"98\": 5, \"24\": 2, \"27\": 4, \"118\": 1, \"43\": 1, \"109\": 1, \"75\": 2, \"89\": 1, \"31\": 1, \"82\": 1, \"12\": 2, \"83\": 1, \"0\": 3, \"30\": 1, \"88\": 1}, \"56\": {\"56\": 10, \"95\": 1, \"3\": 1}, \"111\": {\"111\": 92, \"52\": 2, \"101\": 3, \"127\": 8, \"30\": 4, \"12\": 4, \"90\": 1, \"71\": 1, \"98\": 1, \"24\": 4, \"49\": 1, \"94\": 1, \"124\": 2, \"0\": 2, \"108\": 1, \"7\": 1}, \"59\": {\"54\": 1, \"111\": 1, \"59\": 6, \"15\": 1, \"44\": 1, \"12\": 2, \"71\": 1, \"78\": 1, \"49\": 2}, \"79\": {\"79\": 14, \"27\": 1, \"98\": 1}, \"62\": {\"62\": 102, \"67\": 1, \"38\": 1, \"126\": 1, \"39\": 1, \"90\": 3, \"84\": 3, \"1\": 1, \"87\": 2, \"44\": 1, \"14\": 1, \"70\": 3, \"120\": 1, \"43\": 1}, \"21\": {\"21\": 20, \"63\": 5, \"60\": 1, \"109\": 2, \"90\": 2, \"2\": 2, \"37\": 1, \"70\": 2, \"10\": 1, \"102\": 1, \"39\": 2, \"88\": 4, \"118\": 2, \"72\": 1, \"62\": 1, \"93\": 1}, \"48\": {\"48\": 18, \"116\": 2}, \"16\": {\"118\": 2, \"16\": 54, \"20\": 3, \"65\": 1, \"88\": 7, \"69\": 14, \"93\": 3, \"70\": 1, \"26\": 3, \"62\": 4, \"21\": 1, \"83\": 1, \"109\": 2, \"117\": 6, \"126\": 2, \"39\": 5, \"43\": 1, \"90\": 5, \"87\": 1, \"102\": 4, \"66\": 1, \"82\": 2, \"113\": 1}, \"50\": {\"50\": 13, \"109\": 1, \"55\": 1, \"33\": 1}, \"44\": {\"20\": 1, \"44\": 48, \"93\": 8, \"46\": 1, \"38\": 2, \"126\": 5, \"39\": 1, \"88\": 2, \"84\": 3, \"1\": 3, \"43\": 3, \"21\": 1, \"118\": 1, \"109\": 3, \"87\": 3, \"16\": 1, \"90\": 1, \"122\": 1, \"31\": 1, \"62\": 3, \"66\": 1, \"81\": 1, \"70\": 2}, \"5\": {\"73\": 2, \"128\": 1, \"5\": 67, \"108\": 1, \"71\": 6, \"86\": 2, \"114\": 6, \"122\": 4, \"11\": 1, \"4\": 2, \"24\": 1, \"105\": 1, \"3\": 7, \"18\": 1, \"129\": 1, \"40\": 2, \"34\": 1, \"95\": 1, \"124\": 2, \"26\": 1}, \"20\": {\"20\": 13, \"118\": 2, \"106\": 1}, \"1\": {\"50\": 3, \"32\": 2, \"107\": 1, \"1\": 70, \"62\": 4, \"105\": 3, \"86\": 1, \"33\": 6, \"70\": 4, \"126\": 2, \"40\": 7, \"118\": 1, \"43\": 6, \"12\": 1, \"84\": 5, \"3\": 1, \"78\": 1, \"87\": 1, \"5\": 1}, \"65\": {\"81\": 2, \"65\": 14, \"2\": 1, \"96\": 1, \"48\": 1, \"120\": 1}, \"116\": {\"88\": 1, \"81\": 1, \"87\": 4, \"116\": 13, \"100\": 1, \"93\": 1, \"96\": 2, \"13\": 1, \"72\": 1, \"89\": 1, \"39\": 1, \"69\": 1}, \"51\": {\"51\": 8, \"15\": 3, \"97\": 1, \"125\": 1, \"0\": 1, \"9\": 1, \"36\": 1, \"20\": 1, \"6\": 2, \"111\": 1}, \"75\": {\"75\": 14, \"25\": 1, \"102\": 1}, \"100\": {\"100\": 15, \"33\": 1}, \"113\": {\"113\": 37, \"76\": 1, \"20\": 1, \"69\": 1, \"2\": 1, \"16\": 2, \"117\": 14, \"26\": 6, \"18\": 3, \"64\": 1, \"99\": 1, \"60\": 1, \"109\": 2, \"93\": 1}, \"41\": {\"7\": 1, \"114\": 1, \"11\": 1, \"41\": 8, \"77\": 2, \"49\": 1, \"19\": 1, \"103\": 2, \"24\": 2, \"47\": 1}, \"29\": {\"41\": 2, \"71\": 1, \"29\": 19, \"112\": 1, \"7\": 2, \"59\": 1, \"52\": 1, \"124\": 1, \"49\": 2, \"86\": 1, \"77\": 1}, \"23\": {\"3\": 1, \"32\": 1, \"23\": 4, \"118\": 1, \"95\": 1, \"107\": 1, \"104\": 1, \"90\": 3, \"121\": 2, \"105\": 2, \"8\": 3, \"24\": 2, \"122\": 2, \"11\": 1, \"39\": 1, \"88\": 1, \"96\": 1, \"10\": 1, \"16\": 1, \"37\": 2, \"61\": 2, \"2\": 1, \"99\": 3, \"110\": 4, \"5\": 1, \"62\": 1}, \"124\": {\"124\": 65, \"95\": 3, \"71\": 7, \"11\": 3, \"3\": 3, \"34\": 1, \"12\": 1, \"114\": 10, \"4\": 7, \"7\": 8, \"5\": 3, \"24\": 2, \"30\": 1, \"73\": 1, \"91\": 1, \"108\": 3, \"118\": 1, \"8\": 1, \"122\": 2, \"44\": 1}, \"68\": {\"68\": 9, \"108\": 1, \"0\": 1, \"97\": 1, \"127\": 1, \"18\": 1, \"56\": 2}, \"71\": {\"71\": 38, \"88\": 1, \"115\": 1, \"114\": 7, \"108\": 1, \"4\": 8, \"5\": 8, \"11\": 4, \"7\": 3, \"122\": 2, \"125\": 1, \"124\": 7, \"3\": 5, \"107\": 2, \"12\": 2, \"49\": 1, \"77\": 1, \"112\": 1, \"40\": 1, \"0\": 1, \"79\": 1, \"34\": 1, \"95\": 1, \"8\": 2}, \"107\": {\"107\": 32, \"105\": 3, \"90\": 2, \"129\": 1, \"39\": 1, \"5\": 1, \"71\": 2, \"123\": 1, \"40\": 3, \"34\": 4, \"14\": 1, \"8\": 1, \"83\": 1, \"114\": 1, \"26\": 1, \"0\": 1, \"17\": 2, \"23\": 1, \"128\": 2, \"63\": 1, \"10\": 2}, \"94\": {\"94\": 15, \"15\": 7, \"68\": 1, \"125\": 4, \"30\": 3, \"109\": 1, \"91\": 1, \"36\": 6, \"101\": 3, \"12\": 1, \"114\": 1, \"0\": 3, \"98\": 1, \"111\": 5, \"106\": 3, \"41\": 1, \"52\": 1, \"48\": 1, \"24\": 3, \"18\": 1, \"7\": 1, \"88\": 1}, \"77\": {\"77\": 8, \"49\": 2, \"11\": 2, \"117\": 1, \"0\": 1, \"127\": 1, \"79\": 1}, \"8\": {\"8\": 63, \"112\": 1, \"22\": 1, \"78\": 1, \"104\": 1, \"24\": 1, \"87\": 1, \"122\": 6, \"32\": 1, \"11\": 1, \"105\": 9, \"107\": 3, \"62\": 2, \"71\": 1, \"108\": 5, \"43\": 3, \"114\": 1, \"4\": 5, \"5\": 1, \"17\": 1, \"75\": 1, \"106\": 1, \"14\": 1, \"10\": 1, \"44\": 1, \"110\": 1, \"40\": 2, \"70\": 3, \"124\": 1, \"30\": 1, \"3\": 1}, \"46\": {\"93\": 1, \"102\": 1, \"46\": 7, \"104\": 1, \"80\": 2, \"33\": 1, \"55\": 2, \"85\": 1}, \"25\": {\"25\": 12, \"20\": 1, \"61\": 1, \"15\": 2}, \"122\": {\"44\": 1, \"115\": 1, \"62\": 6, \"122\": 28, \"80\": 1, \"40\": 9, \"10\": 3, \"12\": 1, \"41\": 2, \"95\": 3, \"121\": 1, \"5\": 8, \"71\": 1, \"7\": 3, \"110\": 2, \"11\": 3, \"94\": 2, \"23\": 2, \"111\": 3, \"105\": 6, \"127\": 1, \"114\": 5, \"4\": 5, \"70\": 2, \"8\": 9, \"90\": 4, \"24\": 2, \"1\": 1, \"124\": 6, \"3\": 5, \"43\": 4, \"53\": 1, \"126\": 1, \"50\": 1, \"86\": 1, \"26\": 1, \"128\": 1, \"108\": 2, \"15\": 1, \"30\": 1}, \"58\": {\"97\": 2, \"49\": 2, \"58\": 10, \"36\": 2, \"117\": 1, \"90\": 1, \"64\": 1, \"54\": 1}, \"6\": {\"6\": 23, \"51\": 1, \"101\": 1, \"111\": 1, \"36\": 2, \"25\": 1, \"98\": 1, \"15\": 1, \"125\": 1}, \"109\": {\"109\": 37, \"20\": 1, \"82\": 1, \"123\": 1, \"117\": 1, \"87\": 4, \"90\": 5, \"69\": 4, \"118\": 3, \"88\": 13, \"39\": 5, \"93\": 6, \"126\": 1, \"43\": 4, \"16\": 4, \"38\": 1, \"63\": 2, \"102\": 1, \"62\": 1, \"70\": 4, \"113\": 1}, \"119\": {\"119\": 15, \"90\": 1, \"102\": 1, \"116\": 1, \"51\": 1, \"109\": 1}, \"34\": {\"74\": 1, \"98\": 2, \"8\": 1, \"112\": 2, \"121\": 1, \"34\": 3, \"107\": 4, \"101\": 1, \"122\": 1, \"6\": 1, \"12\": 2, \"110\": 1, \"41\": 1, \"22\": 1, \"99\": 1, \"71\": 1, \"54\": 1, \"127\": 1, \"0\": 2, \"24\": 2, \"78\": 1, \"7\": 1}, \"90\": {\"102\": 5, \"90\": 82, \"126\": 3, \"82\": 1, \"117\": 2, \"83\": 1, \"109\": 8, \"93\": 12, \"88\": 5, \"16\": 2, \"33\": 1, \"44\": 2, \"96\": 2, \"99\": 1, \"119\": 1, \"31\": 1, \"62\": 3, \"118\": 2, \"43\": 1, \"39\": 1, \"69\": 1, \"70\": 2, \"87\": 1}, \"38\": {\"44\": 1, \"38\": 11, \"58\": 1, \"22\": 1, \"123\": 2}, \"104\": {\"108\": 1, \"104\": 13, \"86\": 2, \"90\": 1, \"110\": 1, \"101\": 1, \"19\": 1}, \"84\": {\"84\": 50, \"18\": 1, \"62\": 2, \"46\": 1, \"87\": 3, \"23\": 1, \"1\": 13, \"93\": 1, \"70\": 2, \"40\": 3, \"16\": 1, \"102\": 1, \"43\": 1, \"33\": 6, \"82\": 1, \"126\": 4, \"118\": 1}, \"112\": {\"3\": 2, \"29\": 1, \"112\": 5, \"98\": 2, \"8\": 1, \"34\": 1, \"19\": 1, \"114\": 1, \"86\": 1, \"73\": 1}, \"66\": {\"66\": 15, \"62\": 2, \"120\": 1, \"99\": 1, \"106\": 1}, \"22\": {\"22\": 14, \"123\": 1, \"70\": 1, \"66\": 1, \"37\": 1, \"31\": 1, \"21\": 1}, \"37\": {\"37\": 13, \"87\": 1, \"31\": 1, \"89\": 1}, \"43\": {\"62\": 9, \"84\": 1, \"21\": 2, \"66\": 1, \"70\": 6, \"42\": 1, \"23\": 1, \"1\": 6, \"78\": 2, \"88\": 9, \"31\": 1, \"43\": 15, \"124\": 2, \"105\": 7, \"83\": 1, \"109\": 6, \"39\": 4, \"44\": 3, \"40\": 10, \"5\": 8, \"87\": 2, \"122\": 2, \"90\": 3, \"126\": 1, \"8\": 2, \"92\": 1, \"76\": 1, \"60\": 1, \"20\": 1, \"34\": 1, \"118\": 3, \"110\": 1, \"3\": 4, \"114\": 1, \"18\": 1, \"33\": 1, \"108\": 1, \"117\": 1, \"69\": 1}}}, \"per_domain_accuracy\": {\"ORACLE.run114\": {\"accuracy\": 0.8955729166666667, \"source?\": true}, \"ORACLE.run120\": {\"accuracy\": 0.87265625, \"source?\": true}, \"ORACLE.run138\": {\"accuracy\": 0.9088541666666666, \"source?\": true}, \"ORACLE.run18\": {\"accuracy\": 0.8833333333333333, \"source?\": true}, \"ORACLE.run150\": {\"accuracy\": 0.9, \"source?\": true}, \"ORACLE.run132\": {\"accuracy\": 0.8768229166666667, \"source?\": true}, \"ORACLE.run126\": {\"accuracy\": 0.7247395833333333, \"source?\": true}, \"ORACLE.run144\": {\"accuracy\": 0.77265625, \"source?\": true}, \"Wisig_3\": {\"accuracy\": 0.5152138157894737, \"source?\": false}, \"Wisig_4\": {\"accuracy\": 0.4849537037037037, \"source?\": false}, \"Wisig_1\": {\"accuracy\": 0.5436170212765957, \"source?\": false}, \"Wisig_2\": {\"accuracy\": 0.5140493697478992, \"source?\": false}}}, \"history\": {\"epoch_indices\": [1, 2, 3, 4, 5, 6, 7], \"train_label_loss\": [0.7857889641519813, 0.7147335038531483, 0.42784910788925895, 0.3684090298655931, 0.32424066612314034, 0.2980372122726597, 0.26705246469770955], \"source_val_label_loss\": [50.24793243408203, 0.5055316090583801, 0.4060022532939911, 0.42473703622817993, 0.40012770891189575, 0.32392463088035583, 0.3302375078201294], \"target_val_label_loss\": [1218.122802734375, 247.08261108398438, 411.7114562988281, 504.1568908691406, 647.8263549804688, 756.5411376953125, 975.9725341796875], \"source_val_acc_label\": [0.6384440104166667, 0.81884765625, 0.8543294270833334, 0.8442708333333333, 0.8572916666666667, 0.8843098958333333, 0.8799153645833333], \"target_val_acc_label\": [0.4460407838983051, 0.5107256355932204, 0.5142015360169492, 0.5141022245762712, 0.4952330508474576, 0.5081435381355932, 0.5013572563559322]}, \"dataset_metrics\": {\"source\": {\"train\": {\"n_unique_x\": 179200, \"n_unique_y\": 16, \"n_batch/episode\": 6720}, \"val\": {\"n_unique_x\": 38400, \"n_unique_y\": 16, \"n_batch/episode\": 960}, \"test\": {\"n_unique_x\": 38400, \"n_unique_y\": 16, \"n_batch/episode\": 960}}, \"target\": {\"train\": {\"n_unique_x\": 188967, \"n_unique_y\": 130, \"n_batch/episode\": 6837}, \"val\": {\"n_unique_x\": 40068, \"n_unique_y\": 130, \"n_batch/episode\": 944}, \"test\": {\"n_unique_x\": 40816, \"n_unique_y\": 130, \"n_batch/episode\": 969}}}}'"
      ]
     },
     "execution_count": 29,
     "metadata": {},
     "output_type": "execute_result"
    }
   ],
   "source": [
    "json.dumps(experiment)"
   ]
  }
 ],
 "metadata": {
  "celltoolbar": "Tags",
  "kernelspec": {
   "display_name": "Python 3 (ipykernel)",
   "language": "python",
   "name": "python3"
  },
  "language_info": {
   "codemirror_mode": {
    "name": "ipython",
    "version": 3
   },
   "file_extension": ".py",
   "mimetype": "text/x-python",
   "name": "python",
   "nbconvert_exporter": "python",
   "pygments_lexer": "ipython3",
   "version": "3.8.12"
  },
  "papermill": {
   "default_parameters": {},
   "duration": 2147.992349,
   "end_time": "2022-03-21T07:09:41.319858",
   "environment_variables": {},
   "exception": null,
   "input_path": "/root/csc500-main/csc500-notebooks/templates/tl_ptn_template.ipynb",
   "output_path": "trial.ipynb",
   "parameters": {
    "parameters": {
     "BEST_MODEL_PATH": "./best_model.pth",
     "NUM_LOGS_PER_EPOCH": 10,
     "criteria_for_best": "target_accuracy",
     "dataset_seed": 1337,
     "datasets": [
      {
       "domain_prefix": "Wisig_",
       "domains": [
        1,
        2,
        3,
        4
       ],
       "episode_transforms": [],
       "labels": [
        "1-10",
        "1-12",
        "1-14",
        "1-16",
        "1-18",
        "1-19",
        "1-8",
        "10-11",
        "10-17",
        "10-4",
        "10-7",
        "11-1",
        "11-10",
        "11-19",
        "11-20",
        "11-4",
        "11-7",
        "12-19",
        "12-20",
        "12-7",
        "13-14",
        "13-18",
        "13-19",
        "13-20",
        "13-3",
        "13-7",
        "14-10",
        "14-11",
        "14-12",
        "14-13",
        "14-14",
        "14-19",
        "14-20",
        "14-7",
        "14-8",
        "14-9",
        "15-1",
        "15-19",
        "15-6",
        "16-1",
        "16-16",
        "16-19",
        "16-20",
        "17-10",
        "17-11",
        "18-1",
        "18-10",
        "18-11",
        "18-12",
        "18-13",
        "18-14",
        "18-15",
        "18-16",
        "18-17",
        "18-19",
        "18-2",
        "18-20",
        "18-4",
        "18-5",
        "18-7",
        "18-8",
        "18-9",
        "19-1",
        "19-10",
        "19-11",
        "19-12",
        "19-13",
        "19-14",
        "19-15",
        "19-19",
        "19-2",
        "19-20",
        "19-3",
        "19-4",
        "19-6",
        "19-7",
        "19-8",
        "19-9",
        "2-1",
        "2-13",
        "2-15",
        "2-3",
        "2-4",
        "2-5",
        "2-6",
        "2-7",
        "2-8",
        "20-1",
        "20-12",
        "20-14",
        "20-15",
        "20-16",
        "20-18",
        "20-19",
        "20-20",
        "20-3",
        "20-4",
        "20-5",
        "20-7",
        "20-8",
        "3-1",
        "3-13",
        "3-18",
        "3-2",
        "3-8",
        "4-1",
        "4-10",
        "4-11",
        "5-1",
        "5-5",
        "6-1",
        "6-15",
        "6-6",
        "7-10",
        "7-11",
        "7-12",
        "7-13",
        "7-14",
        "7-7",
        "7-8",
        "7-9",
        "8-1",
        "8-13",
        "8-14",
        "8-18",
        "8-20",
        "8-3",
        "8-8",
        "9-1",
        "9-7"
       ],
       "num_examples_per_domain_per_label": -1,
       "pickle_path": "/root/csc500-main/datasets/wisig.node3-19.stratified_ds.2022A.pkl",
       "source_or_target_dataset": "target",
       "x_transforms": [
        "unit_mag"
       ]
      },
      {
       "domain_prefix": "ORACLE.run1",
       "domains": [
        32,
        38,
        8,
        44,
        14,
        50,
        20,
        26
       ],
       "episode_transforms": [],
       "labels": [
        "3123D52",
        "3123D65",
        "3123D79",
        "3123D80",
        "3123D54",
        "3123D70",
        "3123D7B",
        "3123D89",
        "3123D58",
        "3123D76",
        "3123D7D",
        "3123EFE",
        "3123D64",
        "3123D78",
        "3123D7E",
        "3124E4A"
       ],
       "num_examples_per_domain_per_label": 2000,
       "pickle_path": "/root/csc500-main/datasets/oracle.Run1_framed_2000Examples_stratified_ds.2022A.pkl",
       "source_or_target_dataset": "source",
       "x_transforms": [
        "unit_mag"
       ]
      }
     ],
     "device": "cuda",
     "experiment_name": "tl_1v2:wisig-oracle.run1.framed",
     "lr": 0.0001,
     "n_epoch": 50,
     "n_query": 2,
     "n_shot": 3,
     "n_way": 16,
     "patience": 3,
     "seed": 1337,
     "test_k_factor": 2,
     "torch_default_dtype": "torch.float32",
     "train_k_factor": 3,
     "val_k_factor": 2,
     "x_net": [
      {
       "class": "nnReshape",
       "kargs": {
        "shape": [
         -1,
         1,
         2,
         256
        ]
       }
      },
      {
       "class": "Conv2d",
       "kargs": {
        "bias": false,
        "in_channels": 1,
        "kernel_size": [
         1,
         7
        ],
        "out_channels": 256,
        "padding": [
         0,
         3
        ]
       }
      },
      {
       "class": "ReLU",
       "kargs": {
        "inplace": true
       }
      },
      {
       "class": "BatchNorm2d",
       "kargs": {
        "num_features": 256
       }
      },
      {
       "class": "Conv2d",
       "kargs": {
        "bias": true,
        "in_channels": 256,
        "kernel_size": [
         2,
         7
        ],
        "out_channels": 80,
        "padding": [
         0,
         3
        ]
       }
      },
      {
       "class": "ReLU",
       "kargs": {
        "inplace": true
       }
      },
      {
       "class": "BatchNorm2d",
       "kargs": {
        "num_features": 80
       }
      },
      {
       "class": "Flatten",
       "kargs": {}
      },
      {
       "class": "Linear",
       "kargs": {
        "in_features": 20480,
        "out_features": 256
       }
      },
      {
       "class": "ReLU",
       "kargs": {
        "inplace": true
       }
      },
      {
       "class": "BatchNorm1d",
       "kargs": {
        "num_features": 256
       }
      },
      {
       "class": "Linear",
       "kargs": {
        "in_features": 256,
        "out_features": 256
       }
      }
     ]
    }
   },
   "start_time": "2022-03-21T06:33:53.327509",
   "version": "2.3.4"
  }
 },
 "nbformat": 4,
 "nbformat_minor": 5
}