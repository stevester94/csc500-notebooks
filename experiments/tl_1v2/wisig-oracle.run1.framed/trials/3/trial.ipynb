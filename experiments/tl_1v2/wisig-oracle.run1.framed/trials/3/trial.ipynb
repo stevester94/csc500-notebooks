{
 "cells": [
  {
   "cell_type": "markdown",
   "id": "9fea5f46",
   "metadata": {
    "papermill": {
     "duration": 0.028998,
     "end_time": "2022-03-21T05:48:49.794599",
     "exception": false,
     "start_time": "2022-03-21T05:48:49.765601",
     "status": "completed"
    },
    "tags": []
   },
   "source": [
    "# Transfer Learning Template"
   ]
  },
  {
   "cell_type": "code",
   "execution_count": 1,
   "id": "0902182a",
   "metadata": {
    "execution": {
     "iopub.execute_input": "2022-03-21T05:48:49.856588Z",
     "iopub.status.busy": "2022-03-21T05:48:49.845132Z",
     "iopub.status.idle": "2022-03-21T05:48:52.151740Z",
     "shell.execute_reply": "2022-03-21T05:48:52.151330Z"
    },
    "papermill": {
     "duration": 2.333829,
     "end_time": "2022-03-21T05:48:52.151832",
     "exception": false,
     "start_time": "2022-03-21T05:48:49.818003",
     "status": "completed"
    },
    "tags": []
   },
   "outputs": [],
   "source": [
    "%load_ext autoreload\n",
    "%autoreload 2\n",
    "%matplotlib inline\n",
    "\n",
    "    \n",
    "import os, json, sys, time, random\n",
    "import numpy as np\n",
    "import torch\n",
    "from torch.optim import Adam\n",
    "from  easydict import EasyDict\n",
    "import matplotlib.pyplot as plt\n",
    "\n",
    "from steves_models.steves_ptn import Steves_Prototypical_Network\n",
    "\n",
    "from steves_utils.lazy_iterable_wrapper import Lazy_Iterable_Wrapper\n",
    "from steves_utils.iterable_aggregator import Iterable_Aggregator\n",
    "from steves_utils.ptn_train_eval_test_jig import  PTN_Train_Eval_Test_Jig\n",
    "from steves_utils.torch_sequential_builder import build_sequential\n",
    "from steves_utils.torch_utils import get_dataset_metrics, ptn_confusion_by_domain_over_dataloader\n",
    "from steves_utils.utils_v2 import (per_domain_accuracy_from_confusion, get_datasets_base_path)\n",
    "from steves_utils.PTN.utils import independent_accuracy_assesment\n",
    "\n",
    "from torch.utils.data import DataLoader\n",
    "\n",
    "from steves_utils.stratified_dataset.episodic_accessor import Episodic_Accessor_Factory\n",
    "\n",
    "from steves_utils.ptn_do_report import (\n",
    "    get_loss_curve,\n",
    "    get_results_table,\n",
    "    get_parameters_table,\n",
    "    get_domain_accuracies,\n",
    ")\n",
    "\n",
    "from steves_utils.transforms import get_chained_transform"
   ]
  },
  {
   "cell_type": "markdown",
   "id": "41c840b4",
   "metadata": {
    "papermill": {
     "duration": 0.01963,
     "end_time": "2022-03-21T05:48:52.191505",
     "exception": false,
     "start_time": "2022-03-21T05:48:52.171875",
     "status": "completed"
    },
    "tags": []
   },
   "source": [
    "# Allowed Parameters\n",
    "These are allowed parameters, not defaults\n",
    "Each of these values need to be present in the injected parameters (the notebook will raise an exception if they are not present)\n",
    "\n",
    "Papermill uses the cell tag \"parameters\" to inject the real parameters below this cell.\n",
    "Enable tags to see what I mean"
   ]
  },
  {
   "cell_type": "code",
   "execution_count": 2,
   "id": "fd44eb83",
   "metadata": {
    "execution": {
     "iopub.execute_input": "2022-03-21T05:48:52.236394Z",
     "iopub.status.busy": "2022-03-21T05:48:52.236001Z",
     "iopub.status.idle": "2022-03-21T05:48:52.256499Z",
     "shell.execute_reply": "2022-03-21T05:48:52.256173Z"
    },
    "papermill": {
     "duration": 0.045384,
     "end_time": "2022-03-21T05:48:52.256572",
     "exception": false,
     "start_time": "2022-03-21T05:48:52.211188",
     "status": "completed"
    },
    "tags": []
   },
   "outputs": [],
   "source": [
    "required_parameters = {\n",
    "    \"experiment_name\",\n",
    "    \"lr\",\n",
    "    \"device\",\n",
    "    \"seed\",\n",
    "    \"dataset_seed\",\n",
    "    \"n_shot\",\n",
    "    \"n_query\",\n",
    "    \"n_way\",\n",
    "    \"train_k_factor\",\n",
    "    \"val_k_factor\",\n",
    "    \"test_k_factor\",\n",
    "    \"n_epoch\",\n",
    "    \"patience\",\n",
    "    \"criteria_for_best\",\n",
    "    \"x_net\",\n",
    "    \"datasets\",\n",
    "    \"torch_default_dtype\",\n",
    "    \"NUM_LOGS_PER_EPOCH\",\n",
    "    \"BEST_MODEL_PATH\",\n",
    "    \"x_shape\",\n",
    "}"
   ]
  },
  {
   "cell_type": "code",
   "execution_count": 3,
   "id": "fa3f0049",
   "metadata": {
    "execution": {
     "iopub.execute_input": "2022-03-21T05:48:52.311181Z",
     "iopub.status.busy": "2022-03-21T05:48:52.310762Z",
     "iopub.status.idle": "2022-03-21T05:48:52.329635Z",
     "shell.execute_reply": "2022-03-21T05:48:52.329311Z"
    },
    "papermill": {
     "duration": 0.053361,
     "end_time": "2022-03-21T05:48:52.329707",
     "exception": false,
     "start_time": "2022-03-21T05:48:52.276346",
     "status": "completed"
    },
    "tags": [
     "parameters"
    ]
   },
   "outputs": [],
   "source": [
    "from steves_utils.CORES.utils import (\n",
    "    ALL_NODES,\n",
    "    ALL_NODES_MINIMUM_1000_EXAMPLES,\n",
    "    ALL_DAYS\n",
    ")\n",
    "\n",
    "from steves_utils.ORACLE.utils_v2 import (\n",
    "    ALL_DISTANCES_FEET_NARROWED,\n",
    "    ALL_RUNS,\n",
    "    ALL_SERIAL_NUMBERS,\n",
    ")\n",
    "\n",
    "standalone_parameters = {}\n",
    "standalone_parameters[\"experiment_name\"] = \"STANDALONE PTN\"\n",
    "standalone_parameters[\"lr\"] = 0.001\n",
    "standalone_parameters[\"device\"] = \"cuda\"\n",
    "\n",
    "standalone_parameters[\"seed\"] = 1337\n",
    "standalone_parameters[\"dataset_seed\"] = 1337\n",
    "\n",
    "standalone_parameters[\"n_way\"] = 8\n",
    "standalone_parameters[\"n_shot\"] = 3\n",
    "standalone_parameters[\"n_query\"]  = 2\n",
    "standalone_parameters[\"train_k_factor\"] = 1\n",
    "standalone_parameters[\"val_k_factor\"] = 2\n",
    "standalone_parameters[\"test_k_factor\"] = 2\n",
    "\n",
    "\n",
    "standalone_parameters[\"n_epoch\"] = 50\n",
    "\n",
    "standalone_parameters[\"patience\"] = 10\n",
    "standalone_parameters[\"criteria_for_best\"] = \"source_loss\"\n",
    "\n",
    "standalone_parameters[\"datasets\"] = [\n",
    "    {\n",
    "        \"labels\": ALL_SERIAL_NUMBERS,\n",
    "        \"domains\": ALL_DISTANCES_FEET_NARROWED,\n",
    "        \"num_examples_per_domain_per_label\": 100,\n",
    "        \"pickle_path\": os.path.join(get_datasets_base_path(), \"oracle.Run1_framed_2000Examples_stratified_ds.2022A.pkl\"),\n",
    "        \"source_or_target_dataset\": \"source\",\n",
    "        \"x_transforms\": [\"unit_mag\", \"minus_two\"],\n",
    "        \"episode_transforms\": [],\n",
    "        \"domain_prefix\": \"ORACLE_\"\n",
    "    },\n",
    "    {\n",
    "        \"labels\": ALL_NODES,\n",
    "        \"domains\": ALL_DAYS,\n",
    "        \"num_examples_per_domain_per_label\": 100,\n",
    "        \"pickle_path\": os.path.join(get_datasets_base_path(), \"cores.stratified_ds.2022A.pkl\"),\n",
    "        \"source_or_target_dataset\": \"target\",\n",
    "        \"x_transforms\": [\"unit_power\", \"times_zero\"],\n",
    "        \"episode_transforms\": [],\n",
    "        \"domain_prefix\": \"CORES_\"\n",
    "    }   \n",
    "]\n",
    "\n",
    "standalone_parameters[\"torch_default_dtype\"] = \"torch.float32\" \n",
    "\n",
    "\n",
    "\n",
    "standalone_parameters[\"x_net\"] =     [\n",
    "    {\"class\": \"nnReshape\", \"kargs\": {\"shape\":[-1, 1, 2, 256]}},\n",
    "    {\"class\": \"Conv2d\", \"kargs\": { \"in_channels\":1, \"out_channels\":256, \"kernel_size\":(1,7), \"bias\":False, \"padding\":(0,3), },},\n",
    "    {\"class\": \"ReLU\", \"kargs\": {\"inplace\": True}},\n",
    "    {\"class\": \"BatchNorm2d\", \"kargs\": {\"num_features\":256}},\n",
    "\n",
    "    {\"class\": \"Conv2d\", \"kargs\": { \"in_channels\":256, \"out_channels\":80, \"kernel_size\":(2,7), \"bias\":True, \"padding\":(0,3), },},\n",
    "    {\"class\": \"ReLU\", \"kargs\": {\"inplace\": True}},\n",
    "    {\"class\": \"BatchNorm2d\", \"kargs\": {\"num_features\":80}},\n",
    "    {\"class\": \"Flatten\", \"kargs\": {}},\n",
    "\n",
    "    {\"class\": \"Linear\", \"kargs\": {\"in_features\": 80*256, \"out_features\": 256}}, # 80 units per IQ pair\n",
    "    {\"class\": \"ReLU\", \"kargs\": {\"inplace\": True}},\n",
    "    {\"class\": \"BatchNorm1d\", \"kargs\": {\"num_features\":256}},\n",
    "\n",
    "    {\"class\": \"Linear\", \"kargs\": {\"in_features\": 256, \"out_features\": 256}},\n",
    "]\n",
    "\n",
    "# Parameters relevant to results\n",
    "# These parameters will basically never need to change\n",
    "standalone_parameters[\"NUM_LOGS_PER_EPOCH\"] = 10\n",
    "standalone_parameters[\"BEST_MODEL_PATH\"] = \"./best_model.pth\"\n",
    "\n",
    "\n",
    "\n",
    "\n"
   ]
  },
  {
   "cell_type": "code",
   "execution_count": 4,
   "id": "192c702a",
   "metadata": {
    "execution": {
     "iopub.execute_input": "2022-03-21T05:48:52.386158Z",
     "iopub.status.busy": "2022-03-21T05:48:52.376924Z",
     "iopub.status.idle": "2022-03-21T05:48:52.405180Z",
     "shell.execute_reply": "2022-03-21T05:48:52.404362Z"
    },
    "papermill": {
     "duration": 0.055864,
     "end_time": "2022-03-21T05:48:52.405337",
     "exception": false,
     "start_time": "2022-03-21T05:48:52.349473",
     "status": "completed"
    },
    "tags": [
     "injected-parameters"
    ]
   },
   "outputs": [],
   "source": [
    "# Parameters\n",
    "parameters = {\n",
    "    \"experiment_name\": \"tl_1v2:wisig-oracle.run1.framed\",\n",
    "    \"device\": \"cuda\",\n",
    "    \"lr\": 0.0001,\n",
    "    \"n_shot\": 3,\n",
    "    \"n_query\": 2,\n",
    "    \"train_k_factor\": 3,\n",
    "    \"val_k_factor\": 2,\n",
    "    \"test_k_factor\": 2,\n",
    "    \"torch_default_dtype\": \"torch.float32\",\n",
    "    \"n_epoch\": 50,\n",
    "    \"patience\": 3,\n",
    "    \"criteria_for_best\": \"target_accuracy\",\n",
    "    \"x_net\": [\n",
    "        {\"class\": \"nnReshape\", \"kargs\": {\"shape\": [-1, 1, 2, 256]}},\n",
    "        {\n",
    "            \"class\": \"Conv2d\",\n",
    "            \"kargs\": {\n",
    "                \"in_channels\": 1,\n",
    "                \"out_channels\": 256,\n",
    "                \"kernel_size\": [1, 7],\n",
    "                \"bias\": False,\n",
    "                \"padding\": [0, 3],\n",
    "            },\n",
    "        },\n",
    "        {\"class\": \"ReLU\", \"kargs\": {\"inplace\": True}},\n",
    "        {\"class\": \"BatchNorm2d\", \"kargs\": {\"num_features\": 256}},\n",
    "        {\n",
    "            \"class\": \"Conv2d\",\n",
    "            \"kargs\": {\n",
    "                \"in_channels\": 256,\n",
    "                \"out_channels\": 80,\n",
    "                \"kernel_size\": [2, 7],\n",
    "                \"bias\": True,\n",
    "                \"padding\": [0, 3],\n",
    "            },\n",
    "        },\n",
    "        {\"class\": \"ReLU\", \"kargs\": {\"inplace\": True}},\n",
    "        {\"class\": \"BatchNorm2d\", \"kargs\": {\"num_features\": 80}},\n",
    "        {\"class\": \"Flatten\", \"kargs\": {}},\n",
    "        {\"class\": \"Linear\", \"kargs\": {\"in_features\": 20480, \"out_features\": 256}},\n",
    "        {\"class\": \"ReLU\", \"kargs\": {\"inplace\": True}},\n",
    "        {\"class\": \"BatchNorm1d\", \"kargs\": {\"num_features\": 256}},\n",
    "        {\"class\": \"Linear\", \"kargs\": {\"in_features\": 256, \"out_features\": 256}},\n",
    "    ],\n",
    "    \"NUM_LOGS_PER_EPOCH\": 10,\n",
    "    \"BEST_MODEL_PATH\": \"./best_model.pth\",\n",
    "    \"n_way\": 16,\n",
    "    \"datasets\": [\n",
    "        {\n",
    "            \"labels\": [\n",
    "                \"1-10\",\n",
    "                \"1-12\",\n",
    "                \"1-14\",\n",
    "                \"1-16\",\n",
    "                \"1-18\",\n",
    "                \"1-19\",\n",
    "                \"1-8\",\n",
    "                \"10-11\",\n",
    "                \"10-17\",\n",
    "                \"10-4\",\n",
    "                \"10-7\",\n",
    "                \"11-1\",\n",
    "                \"11-10\",\n",
    "                \"11-19\",\n",
    "                \"11-20\",\n",
    "                \"11-4\",\n",
    "                \"11-7\",\n",
    "                \"12-19\",\n",
    "                \"12-20\",\n",
    "                \"12-7\",\n",
    "                \"13-14\",\n",
    "                \"13-18\",\n",
    "                \"13-19\",\n",
    "                \"13-20\",\n",
    "                \"13-3\",\n",
    "                \"13-7\",\n",
    "                \"14-10\",\n",
    "                \"14-11\",\n",
    "                \"14-12\",\n",
    "                \"14-13\",\n",
    "                \"14-14\",\n",
    "                \"14-19\",\n",
    "                \"14-20\",\n",
    "                \"14-7\",\n",
    "                \"14-8\",\n",
    "                \"14-9\",\n",
    "                \"15-1\",\n",
    "                \"15-19\",\n",
    "                \"15-6\",\n",
    "                \"16-1\",\n",
    "                \"16-16\",\n",
    "                \"16-19\",\n",
    "                \"16-20\",\n",
    "                \"17-10\",\n",
    "                \"17-11\",\n",
    "                \"18-1\",\n",
    "                \"18-10\",\n",
    "                \"18-11\",\n",
    "                \"18-12\",\n",
    "                \"18-13\",\n",
    "                \"18-14\",\n",
    "                \"18-15\",\n",
    "                \"18-16\",\n",
    "                \"18-17\",\n",
    "                \"18-19\",\n",
    "                \"18-2\",\n",
    "                \"18-20\",\n",
    "                \"18-4\",\n",
    "                \"18-5\",\n",
    "                \"18-7\",\n",
    "                \"18-8\",\n",
    "                \"18-9\",\n",
    "                \"19-1\",\n",
    "                \"19-10\",\n",
    "                \"19-11\",\n",
    "                \"19-12\",\n",
    "                \"19-13\",\n",
    "                \"19-14\",\n",
    "                \"19-15\",\n",
    "                \"19-19\",\n",
    "                \"19-2\",\n",
    "                \"19-20\",\n",
    "                \"19-3\",\n",
    "                \"19-4\",\n",
    "                \"19-6\",\n",
    "                \"19-7\",\n",
    "                \"19-8\",\n",
    "                \"19-9\",\n",
    "                \"2-1\",\n",
    "                \"2-13\",\n",
    "                \"2-15\",\n",
    "                \"2-3\",\n",
    "                \"2-4\",\n",
    "                \"2-5\",\n",
    "                \"2-6\",\n",
    "                \"2-7\",\n",
    "                \"2-8\",\n",
    "                \"20-1\",\n",
    "                \"20-12\",\n",
    "                \"20-14\",\n",
    "                \"20-15\",\n",
    "                \"20-16\",\n",
    "                \"20-18\",\n",
    "                \"20-19\",\n",
    "                \"20-20\",\n",
    "                \"20-3\",\n",
    "                \"20-4\",\n",
    "                \"20-5\",\n",
    "                \"20-7\",\n",
    "                \"20-8\",\n",
    "                \"3-1\",\n",
    "                \"3-13\",\n",
    "                \"3-18\",\n",
    "                \"3-2\",\n",
    "                \"3-8\",\n",
    "                \"4-1\",\n",
    "                \"4-10\",\n",
    "                \"4-11\",\n",
    "                \"5-1\",\n",
    "                \"5-5\",\n",
    "                \"6-1\",\n",
    "                \"6-15\",\n",
    "                \"6-6\",\n",
    "                \"7-10\",\n",
    "                \"7-11\",\n",
    "                \"7-12\",\n",
    "                \"7-13\",\n",
    "                \"7-14\",\n",
    "                \"7-7\",\n",
    "                \"7-8\",\n",
    "                \"7-9\",\n",
    "                \"8-1\",\n",
    "                \"8-13\",\n",
    "                \"8-14\",\n",
    "                \"8-18\",\n",
    "                \"8-20\",\n",
    "                \"8-3\",\n",
    "                \"8-8\",\n",
    "                \"9-1\",\n",
    "                \"9-7\",\n",
    "            ],\n",
    "            \"domains\": [1, 2, 3, 4],\n",
    "            \"num_examples_per_domain_per_label\": -1,\n",
    "            \"pickle_path\": \"/root/csc500-main/datasets/wisig.node3-19.stratified_ds.2022A.pkl\",\n",
    "            \"source_or_target_dataset\": \"target\",\n",
    "            \"x_transforms\": [\"unit_power\"],\n",
    "            \"episode_transforms\": [],\n",
    "            \"domain_prefix\": \"Wisig_\",\n",
    "        },\n",
    "        {\n",
    "            \"labels\": [\n",
    "                \"3123D52\",\n",
    "                \"3123D65\",\n",
    "                \"3123D79\",\n",
    "                \"3123D80\",\n",
    "                \"3123D54\",\n",
    "                \"3123D70\",\n",
    "                \"3123D7B\",\n",
    "                \"3123D89\",\n",
    "                \"3123D58\",\n",
    "                \"3123D76\",\n",
    "                \"3123D7D\",\n",
    "                \"3123EFE\",\n",
    "                \"3123D64\",\n",
    "                \"3123D78\",\n",
    "                \"3123D7E\",\n",
    "                \"3124E4A\",\n",
    "            ],\n",
    "            \"domains\": [32, 38, 8, 44, 14, 50, 20, 26],\n",
    "            \"num_examples_per_domain_per_label\": 2000,\n",
    "            \"pickle_path\": \"/root/csc500-main/datasets/oracle.Run1_framed_2000Examples_stratified_ds.2022A.pkl\",\n",
    "            \"source_or_target_dataset\": \"source\",\n",
    "            \"x_transforms\": [\"unit_power\"],\n",
    "            \"episode_transforms\": [],\n",
    "            \"domain_prefix\": \"ORACLE.run1\",\n",
    "        },\n",
    "    ],\n",
    "    \"dataset_seed\": 1337,\n",
    "    \"seed\": 1337,\n",
    "}\n"
   ]
  },
  {
   "cell_type": "code",
   "execution_count": 5,
   "id": "8fa1cc33",
   "metadata": {
    "execution": {
     "iopub.execute_input": "2022-03-21T05:48:52.459362Z",
     "iopub.status.busy": "2022-03-21T05:48:52.458784Z",
     "iopub.status.idle": "2022-03-21T05:48:52.476943Z",
     "shell.execute_reply": "2022-03-21T05:48:52.476156Z"
    },
    "papermill": {
     "duration": 0.045769,
     "end_time": "2022-03-21T05:48:52.477104",
     "exception": false,
     "start_time": "2022-03-21T05:48:52.431335",
     "status": "completed"
    },
    "tags": []
   },
   "outputs": [],
   "source": [
    "# Set this to True if you want to run this template directly\n",
    "STANDALONE = False\n",
    "if STANDALONE:\n",
    "    print(\"parameters not injected, running with standalone_parameters\")\n",
    "    parameters = standalone_parameters\n",
    "\n",
    "if not 'parameters' in locals() and not 'parameters' in globals():\n",
    "    raise Exception(\"Parameter injection failed\")\n",
    "\n",
    "#Use an easy dict for all the parameters\n",
    "p = EasyDict(parameters)\n",
    "\n",
    "if \"x_shape\" not in p:\n",
    "    p.x_shape = [2,256] # Default to this if we dont supply x_shape\n",
    "\n",
    "\n",
    "supplied_keys = set(p.keys())\n",
    "\n",
    "if  supplied_keys != required_parameters:\n",
    "    print(\"Parameters are incorrect\")\n",
    "    if len(supplied_keys - required_parameters)>0: print(\"Shouldn't have:\", str(supplied_keys - required_parameters))\n",
    "    if len(required_parameters - supplied_keys)>0: print(\"Need to have:\", str(required_parameters - supplied_keys))\n",
    "    raise RuntimeError(\"Parameters are incorrect\")"
   ]
  },
  {
   "cell_type": "code",
   "execution_count": 6,
   "id": "3a028d58",
   "metadata": {
    "execution": {
     "iopub.execute_input": "2022-03-21T05:48:52.526233Z",
     "iopub.status.busy": "2022-03-21T05:48:52.525667Z",
     "iopub.status.idle": "2022-03-21T05:48:52.546784Z",
     "shell.execute_reply": "2022-03-21T05:48:52.546036Z"
    },
    "papermill": {
     "duration": 0.045989,
     "end_time": "2022-03-21T05:48:52.546940",
     "exception": false,
     "start_time": "2022-03-21T05:48:52.500951",
     "status": "completed"
    },
    "tags": []
   },
   "outputs": [],
   "source": [
    "###################################\n",
    "# Set the RNGs and make it all deterministic\n",
    "###################################\n",
    "np.random.seed(p.seed)\n",
    "random.seed(p.seed)\n",
    "torch.manual_seed(p.seed)\n",
    "\n",
    "torch.use_deterministic_algorithms(True) "
   ]
  },
  {
   "cell_type": "code",
   "execution_count": 7,
   "id": "b691acf6",
   "metadata": {
    "execution": {
     "iopub.execute_input": "2022-03-21T05:48:52.596721Z",
     "iopub.status.busy": "2022-03-21T05:48:52.596086Z",
     "iopub.status.idle": "2022-03-21T05:48:52.617270Z",
     "shell.execute_reply": "2022-03-21T05:48:52.616459Z"
    },
    "papermill": {
     "duration": 0.045202,
     "end_time": "2022-03-21T05:48:52.617426",
     "exception": false,
     "start_time": "2022-03-21T05:48:52.572224",
     "status": "completed"
    },
    "tags": []
   },
   "outputs": [],
   "source": [
    "###########################################\n",
    "# The stratified datasets honor this\n",
    "###########################################\n",
    "torch.set_default_dtype(eval(p.torch_default_dtype))"
   ]
  },
  {
   "cell_type": "code",
   "execution_count": 8,
   "id": "b5fba671",
   "metadata": {
    "execution": {
     "iopub.execute_input": "2022-03-21T05:48:52.668224Z",
     "iopub.status.busy": "2022-03-21T05:48:52.667847Z",
     "iopub.status.idle": "2022-03-21T05:48:52.722550Z",
     "shell.execute_reply": "2022-03-21T05:48:52.721839Z"
    },
    "papermill": {
     "duration": 0.079251,
     "end_time": "2022-03-21T05:48:52.722703",
     "exception": false,
     "start_time": "2022-03-21T05:48:52.643452",
     "status": "completed"
    },
    "tags": []
   },
   "outputs": [],
   "source": [
    "###################################\n",
    "# Build the network(s)\n",
    "# Note: It's critical to do this AFTER setting the RNG\n",
    "###################################\n",
    "x_net = build_sequential(p.x_net)"
   ]
  },
  {
   "cell_type": "code",
   "execution_count": 9,
   "id": "5d7e61cc",
   "metadata": {
    "execution": {
     "iopub.execute_input": "2022-03-21T05:48:52.773407Z",
     "iopub.status.busy": "2022-03-21T05:48:52.772561Z",
     "iopub.status.idle": "2022-03-21T05:48:52.794597Z",
     "shell.execute_reply": "2022-03-21T05:48:52.793821Z"
    },
    "papermill": {
     "duration": 0.04632,
     "end_time": "2022-03-21T05:48:52.794756",
     "exception": false,
     "start_time": "2022-03-21T05:48:52.748436",
     "status": "completed"
    },
    "tags": []
   },
   "outputs": [],
   "source": [
    "start_time_secs = time.time()"
   ]
  },
  {
   "cell_type": "code",
   "execution_count": 10,
   "id": "c6b67dfd",
   "metadata": {
    "execution": {
     "iopub.execute_input": "2022-03-21T05:48:52.845081Z",
     "iopub.status.busy": "2022-03-21T05:48:52.844704Z",
     "iopub.status.idle": "2022-03-21T05:48:52.866108Z",
     "shell.execute_reply": "2022-03-21T05:48:52.865286Z"
    },
    "papermill": {
     "duration": 0.046013,
     "end_time": "2022-03-21T05:48:52.866264",
     "exception": false,
     "start_time": "2022-03-21T05:48:52.820251",
     "status": "completed"
    },
    "tags": []
   },
   "outputs": [],
   "source": [
    "p.domains_source = []\n",
    "p.domains_target = []\n",
    "\n",
    "\n",
    "train_original_source = []\n",
    "val_original_source   = []\n",
    "test_original_source  = []\n",
    "\n",
    "train_original_target = []\n",
    "val_original_target   = []\n",
    "test_original_target  = []"
   ]
  },
  {
   "cell_type": "code",
   "execution_count": 11,
   "id": "e3d9c3d3",
   "metadata": {
    "execution": {
     "iopub.execute_input": "2022-03-21T05:48:52.916637Z",
     "iopub.status.busy": "2022-03-21T05:48:52.915762Z",
     "iopub.status.idle": "2022-03-21T05:48:52.937473Z",
     "shell.execute_reply": "2022-03-21T05:48:52.936660Z"
    },
    "papermill": {
     "duration": 0.04517,
     "end_time": "2022-03-21T05:48:52.937628",
     "exception": false,
     "start_time": "2022-03-21T05:48:52.892458",
     "status": "completed"
    },
    "tags": []
   },
   "outputs": [],
   "source": [
    "# global_x_transform_func = lambda x: normalize(x.to(torch.get_default_dtype()), \"unit_power\") # unit_power, unit_mag\n",
    "# global_x_transform_func = lambda x: normalize(x, \"unit_power\") # unit_power, unit_mag"
   ]
  },
  {
   "cell_type": "code",
   "execution_count": 12,
   "id": "acb78fd2",
   "metadata": {
    "execution": {
     "iopub.execute_input": "2022-03-21T05:48:52.998425Z",
     "iopub.status.busy": "2022-03-21T05:48:52.997567Z",
     "iopub.status.idle": "2022-03-21T05:48:53.018060Z",
     "shell.execute_reply": "2022-03-21T05:48:53.017244Z"
    },
    "papermill": {
     "duration": 0.054101,
     "end_time": "2022-03-21T05:48:53.018216",
     "exception": false,
     "start_time": "2022-03-21T05:48:52.964115",
     "status": "completed"
    },
    "tags": []
   },
   "outputs": [],
   "source": [
    "def add_dataset(\n",
    "    labels,\n",
    "    domains,\n",
    "    pickle_path,\n",
    "    x_transforms,\n",
    "    episode_transforms,\n",
    "    domain_prefix,\n",
    "    num_examples_per_domain_per_label,\n",
    "    source_or_target_dataset:str,\n",
    "    iterator_seed=p.seed,\n",
    "    dataset_seed=p.dataset_seed,\n",
    "    n_shot=p.n_shot,\n",
    "    n_way=p.n_way,\n",
    "    n_query=p.n_query,\n",
    "    train_val_test_k_factors=(p.train_k_factor,p.val_k_factor,p.test_k_factor),\n",
    "):\n",
    "   \n",
    "    if x_transforms == []: x_transform = None\n",
    "    else: x_transform = get_chained_transform(x_transforms)\n",
    "    \n",
    "    if episode_transforms == []: episode_transform = None\n",
    "    else: raise Exception(\"episode_transforms not implemented\")\n",
    "    \n",
    "    episode_transform = lambda tup, _prefix=domain_prefix: (_prefix + str(tup[0]), tup[1])\n",
    "\n",
    "\n",
    "    eaf = Episodic_Accessor_Factory(\n",
    "        labels=labels,\n",
    "        domains=domains,\n",
    "        num_examples_per_domain_per_label=num_examples_per_domain_per_label,\n",
    "        iterator_seed=iterator_seed,\n",
    "        dataset_seed=dataset_seed,\n",
    "        n_shot=n_shot,\n",
    "        n_way=n_way,\n",
    "        n_query=n_query,\n",
    "        train_val_test_k_factors=train_val_test_k_factors,\n",
    "        pickle_path=pickle_path,\n",
    "        x_transform_func=x_transform,\n",
    "    )\n",
    "\n",
    "    train, val, test = eaf.get_train(), eaf.get_val(), eaf.get_test()\n",
    "    train = Lazy_Iterable_Wrapper(train, episode_transform)\n",
    "    val = Lazy_Iterable_Wrapper(val, episode_transform)\n",
    "    test = Lazy_Iterable_Wrapper(test, episode_transform)\n",
    "\n",
    "    if source_or_target_dataset==\"source\":\n",
    "        train_original_source.append(train)\n",
    "        val_original_source.append(val)\n",
    "        test_original_source.append(test)\n",
    "\n",
    "        p.domains_source.extend(\n",
    "            [domain_prefix + str(u) for u in domains]\n",
    "        )\n",
    "    elif source_or_target_dataset==\"target\":\n",
    "        train_original_target.append(train)\n",
    "        val_original_target.append(val)\n",
    "        test_original_target.append(test)\n",
    "        p.domains_target.extend(\n",
    "            [domain_prefix + str(u) for u in domains]\n",
    "        )\n",
    "    else:\n",
    "        raise Exception(f\"invalid source_or_target_dataset: {source_or_target_dataset}\")\n",
    "    "
   ]
  },
  {
   "cell_type": "code",
   "execution_count": 13,
   "id": "fe266617",
   "metadata": {
    "execution": {
     "iopub.execute_input": "2022-03-21T05:48:53.069993Z",
     "iopub.status.busy": "2022-03-21T05:48:53.069357Z",
     "iopub.status.idle": "2022-03-21T05:49:37.694332Z",
     "shell.execute_reply": "2022-03-21T05:49:37.695017Z"
    },
    "papermill": {
     "duration": 44.650632,
     "end_time": "2022-03-21T05:49:37.695241",
     "exception": false,
     "start_time": "2022-03-21T05:48:53.044609",
     "status": "completed"
    },
    "tags": []
   },
   "outputs": [],
   "source": [
    "for ds in p.datasets:\n",
    "    add_dataset(**ds)"
   ]
  },
  {
   "cell_type": "code",
   "execution_count": 14,
   "id": "b90d65ac",
   "metadata": {
    "execution": {
     "iopub.execute_input": "2022-03-21T05:49:37.745576Z",
     "iopub.status.busy": "2022-03-21T05:49:37.744861Z",
     "iopub.status.idle": "2022-03-21T05:49:37.767091Z",
     "shell.execute_reply": "2022-03-21T05:49:37.766372Z"
    },
    "papermill": {
     "duration": 0.045543,
     "end_time": "2022-03-21T05:49:37.767247",
     "exception": false,
     "start_time": "2022-03-21T05:49:37.721704",
     "status": "completed"
    },
    "tags": []
   },
   "outputs": [],
   "source": [
    "# from steves_utils.CORES.utils import (\n",
    "#     ALL_NODES,\n",
    "#     ALL_NODES_MINIMUM_1000_EXAMPLES,\n",
    "#     ALL_DAYS\n",
    "# )\n",
    "\n",
    "# add_dataset(\n",
    "#     labels=ALL_NODES,\n",
    "#     domains = ALL_DAYS,\n",
    "#     num_examples_per_domain_per_label=100,\n",
    "#     pickle_path=os.path.join(get_datasets_base_path(), \"cores.stratified_ds.2022A.pkl\"),\n",
    "#     source_or_target_dataset=\"target\",\n",
    "#     x_transform_func=global_x_transform_func,\n",
    "#     domain_modifier=lambda u: f\"cores_{u}\"\n",
    "# )"
   ]
  },
  {
   "cell_type": "code",
   "execution_count": 15,
   "id": "76db484d",
   "metadata": {
    "execution": {
     "iopub.execute_input": "2022-03-21T05:49:37.819063Z",
     "iopub.status.busy": "2022-03-21T05:49:37.818314Z",
     "iopub.status.idle": "2022-03-21T05:49:37.838040Z",
     "shell.execute_reply": "2022-03-21T05:49:37.838718Z"
    },
    "papermill": {
     "duration": 0.043941,
     "end_time": "2022-03-21T05:49:37.838897",
     "exception": false,
     "start_time": "2022-03-21T05:49:37.794956",
     "status": "completed"
    },
    "tags": []
   },
   "outputs": [],
   "source": [
    "# from steves_utils.ORACLE.utils_v2 import (\n",
    "#     ALL_DISTANCES_FEET,\n",
    "#     ALL_RUNS,\n",
    "#     ALL_SERIAL_NUMBERS,\n",
    "# )\n",
    "\n",
    "\n",
    "# add_dataset(\n",
    "#     labels=ALL_SERIAL_NUMBERS,\n",
    "#     domains = list(set(ALL_DISTANCES_FEET) - {2,62}),\n",
    "#     num_examples_per_domain_per_label=100,\n",
    "#     pickle_path=os.path.join(get_datasets_base_path(), \"oracle.Run2_framed_2000Examples_stratified_ds.2022A.pkl\"),\n",
    "#     source_or_target_dataset=\"source\",\n",
    "#     x_transform_func=global_x_transform_func,\n",
    "#     domain_modifier=lambda u: f\"oracle1_{u}\"\n",
    "# )\n"
   ]
  },
  {
   "cell_type": "code",
   "execution_count": 16,
   "id": "97dea9d2",
   "metadata": {
    "execution": {
     "iopub.execute_input": "2022-03-21T05:49:37.889260Z",
     "iopub.status.busy": "2022-03-21T05:49:37.888250Z",
     "iopub.status.idle": "2022-03-21T05:49:37.909446Z",
     "shell.execute_reply": "2022-03-21T05:49:37.908648Z"
    },
    "papermill": {
     "duration": 0.044815,
     "end_time": "2022-03-21T05:49:37.909601",
     "exception": false,
     "start_time": "2022-03-21T05:49:37.864786",
     "status": "completed"
    },
    "tags": []
   },
   "outputs": [],
   "source": [
    "# from steves_utils.ORACLE.utils_v2 import (\n",
    "#     ALL_DISTANCES_FEET,\n",
    "#     ALL_RUNS,\n",
    "#     ALL_SERIAL_NUMBERS,\n",
    "# )\n",
    "\n",
    "\n",
    "# add_dataset(\n",
    "#     labels=ALL_SERIAL_NUMBERS,\n",
    "#     domains = list(set(ALL_DISTANCES_FEET) - {2,62,56}),\n",
    "#     num_examples_per_domain_per_label=100,\n",
    "#     pickle_path=os.path.join(get_datasets_base_path(), \"oracle.Run2_framed_2000Examples_stratified_ds.2022A.pkl\"),\n",
    "#     source_or_target_dataset=\"source\",\n",
    "#     x_transform_func=global_x_transform_func,\n",
    "#     domain_modifier=lambda u: f\"oracle2_{u}\"\n",
    "# )"
   ]
  },
  {
   "cell_type": "code",
   "execution_count": 17,
   "id": "6f289866",
   "metadata": {
    "execution": {
     "iopub.execute_input": "2022-03-21T05:49:37.961318Z",
     "iopub.status.busy": "2022-03-21T05:49:37.960752Z",
     "iopub.status.idle": "2022-03-21T05:49:37.980555Z",
     "shell.execute_reply": "2022-03-21T05:49:37.981232Z"
    },
    "papermill": {
     "duration": 0.045165,
     "end_time": "2022-03-21T05:49:37.981414",
     "exception": false,
     "start_time": "2022-03-21T05:49:37.936249",
     "status": "completed"
    },
    "tags": []
   },
   "outputs": [],
   "source": [
    "# add_dataset(\n",
    "#     labels=list(range(19)),\n",
    "#     domains = [0,1,2],\n",
    "#     num_examples_per_domain_per_label=100,\n",
    "#     pickle_path=os.path.join(get_datasets_base_path(), \"metehan.stratified_ds.2022A.pkl\"),\n",
    "#     source_or_target_dataset=\"target\",\n",
    "#     x_transform_func=global_x_transform_func,\n",
    "#     domain_modifier=lambda u: f\"met_{u}\"\n",
    "# )"
   ]
  },
  {
   "cell_type": "code",
   "execution_count": 18,
   "id": "86a863c3",
   "metadata": {
    "execution": {
     "iopub.execute_input": "2022-03-21T05:49:38.032842Z",
     "iopub.status.busy": "2022-03-21T05:49:38.032356Z",
     "iopub.status.idle": "2022-03-21T05:49:38.056012Z",
     "shell.execute_reply": "2022-03-21T05:49:38.055240Z"
    },
    "papermill": {
     "duration": 0.047706,
     "end_time": "2022-03-21T05:49:38.056169",
     "exception": false,
     "start_time": "2022-03-21T05:49:38.008463",
     "status": "completed"
    },
    "tags": []
   },
   "outputs": [],
   "source": [
    "# # from steves_utils.wisig.utils import (\n",
    "# #     ALL_NODES_MINIMUM_100_EXAMPLES,\n",
    "# #     ALL_NODES_MINIMUM_500_EXAMPLES,\n",
    "# #     ALL_NODES_MINIMUM_1000_EXAMPLES,\n",
    "# #     ALL_DAYS\n",
    "# # )\n",
    "\n",
    "# import steves_utils.wisig.utils as wisig\n",
    "\n",
    "\n",
    "# add_dataset(\n",
    "#     labels=wisig.ALL_NODES_MINIMUM_100_EXAMPLES,\n",
    "#     domains = wisig.ALL_DAYS,\n",
    "#     num_examples_per_domain_per_label=100,\n",
    "#     pickle_path=os.path.join(get_datasets_base_path(), \"wisig.node3-19.stratified_ds.2022A.pkl\"),\n",
    "#     source_or_target_dataset=\"target\",\n",
    "#     x_transform_func=global_x_transform_func,\n",
    "#     domain_modifier=lambda u: f\"wisig_{u}\"\n",
    "# )"
   ]
  },
  {
   "cell_type": "code",
   "execution_count": 19,
   "id": "fd5442bc",
   "metadata": {
    "execution": {
     "iopub.execute_input": "2022-03-21T05:49:38.114459Z",
     "iopub.status.busy": "2022-03-21T05:49:38.113607Z",
     "iopub.status.idle": "2022-03-21T05:49:38.132547Z",
     "shell.execute_reply": "2022-03-21T05:49:38.131835Z"
    },
    "papermill": {
     "duration": 0.047968,
     "end_time": "2022-03-21T05:49:38.132701",
     "exception": false,
     "start_time": "2022-03-21T05:49:38.084733",
     "status": "completed"
    },
    "tags": []
   },
   "outputs": [],
   "source": [
    "###################################\n",
    "# Build the dataset\n",
    "###################################\n",
    "train_original_source = Iterable_Aggregator(train_original_source, p.seed)\n",
    "val_original_source = Iterable_Aggregator(val_original_source, p.seed)\n",
    "test_original_source = Iterable_Aggregator(test_original_source, p.seed)\n",
    "\n",
    "\n",
    "train_original_target = Iterable_Aggregator(train_original_target, p.seed)\n",
    "val_original_target = Iterable_Aggregator(val_original_target, p.seed)\n",
    "test_original_target = Iterable_Aggregator(test_original_target, p.seed)\n",
    "\n",
    "# For CNN We only use X and Y. And we only train on the source.\n",
    "# Properly form the data using a transform lambda and Lazy_Iterable_Wrapper. Finally wrap them in a dataloader\n",
    "\n",
    "transform_lambda = lambda ex: ex[1] # Original is (<domain>, <episode>) so we strip down to episode only\n",
    "\n",
    "train_processed_source = Lazy_Iterable_Wrapper(train_original_source, transform_lambda)\n",
    "val_processed_source   = Lazy_Iterable_Wrapper(val_original_source, transform_lambda)\n",
    "test_processed_source  = Lazy_Iterable_Wrapper(test_original_source, transform_lambda)\n",
    "\n",
    "train_processed_target = Lazy_Iterable_Wrapper(train_original_target, transform_lambda)\n",
    "val_processed_target   = Lazy_Iterable_Wrapper(val_original_target, transform_lambda)\n",
    "test_processed_target  = Lazy_Iterable_Wrapper(test_original_target, transform_lambda)\n",
    "\n",
    "datasets = EasyDict({\n",
    "    \"source\": {\n",
    "        \"original\": {\"train\":train_original_source, \"val\":val_original_source, \"test\":test_original_source},\n",
    "        \"processed\": {\"train\":train_processed_source, \"val\":val_processed_source, \"test\":test_processed_source}\n",
    "    },\n",
    "    \"target\": {\n",
    "        \"original\": {\"train\":train_original_target, \"val\":val_original_target, \"test\":test_original_target},\n",
    "        \"processed\": {\"train\":train_processed_target, \"val\":val_processed_target, \"test\":test_processed_target}\n",
    "    },\n",
    "})"
   ]
  },
  {
   "cell_type": "code",
   "execution_count": 20,
   "id": "5b3c01fc",
   "metadata": {
    "execution": {
     "iopub.execute_input": "2022-03-21T05:49:38.189482Z",
     "iopub.status.busy": "2022-03-21T05:49:38.187246Z",
     "iopub.status.idle": "2022-03-21T05:49:54.128672Z",
     "shell.execute_reply": "2022-03-21T05:49:54.129376Z"
    },
    "papermill": {
     "duration": 15.971649,
     "end_time": "2022-03-21T05:49:54.129627",
     "exception": false,
     "start_time": "2022-03-21T05:49:38.157978",
     "status": "completed"
    },
    "tags": []
   },
   "outputs": [
    {
     "name": "stdout",
     "output_type": "stream",
     "text": [
      "{'ORACLE.run150', 'ORACLE.run114', 'ORACLE.run126', 'ORACLE.run144', 'ORACLE.run132', 'ORACLE.run138', 'ORACLE.run120', 'ORACLE.run18'}\n"
     ]
    },
    {
     "name": "stdout",
     "output_type": "stream",
     "text": [
      "{'Wisig_2', 'Wisig_1', 'Wisig_4', 'Wisig_3'}\n"
     ]
    },
    {
     "name": "stdout",
     "output_type": "stream",
     "text": [
      "tensor([[[-0.0924,  1.1552, -0.1109,  ..., -0.9518, -0.2588, -0.5545],\n",
      "         [-0.6376, -0.2957,  1.0535,  ...,  0.2403, -1.4139, -0.4713]],\n",
      "\n",
      "        [[-0.4449,  0.6767,  0.5469,  ..., -1.2421, -1.1679, -0.1112],\n",
      "         [-1.1216, -0.3152,  1.1030,  ...,  0.4078, -0.1483,  1.2050]],\n",
      "\n",
      "        [[ 0.6507, -0.3532, -0.7623,  ...,  0.7901,  1.3665,  0.3254],\n",
      "         [ 0.8273,  0.6786, -0.8831,  ..., -0.7530,  0.4648, -1.1527]],\n",
      "\n",
      "        ...,\n",
      "\n",
      "        [[ 0.9828, -0.2394, -1.1718,  ...,  0.6363,  0.9828, -0.6489],\n",
      "         [ 0.5544,  0.7119, -0.3717,  ..., -0.9702, -0.6111, -1.1214]],\n",
      "\n",
      "        [[ 0.0252, -0.9847,  0.2840,  ...,  0.8963,  0.4671,  1.0667],\n",
      "         [ 0.7890,  0.4229, -1.1298,  ..., -0.1199,  1.2624, -0.2272]],\n",
      "\n",
      "        [[ 0.4796,  0.3281, -0.7194,  ..., -0.4544,  1.2306,  1.0223],\n",
      "         [-0.4102,  1.1043, -0.0316,  ..., -1.0728, -0.0568, -0.2461]]])\n"
     ]
    }
   ],
   "source": [
    "from steves_utils.transforms import get_average_magnitude, get_average_power\n",
    "\n",
    "print(set([u for u,_ in val_original_source]))\n",
    "print(set([u for u,_ in val_original_target]))\n",
    "\n",
    "s_x, s_y, q_x, q_y, _ = next(iter(train_processed_source))\n",
    "print(s_x)\n",
    "\n",
    "# for ds in [\n",
    "#     train_processed_source,\n",
    "#     val_processed_source,\n",
    "#     test_processed_source,\n",
    "#     train_processed_target,\n",
    "#     val_processed_target,\n",
    "#     test_processed_target\n",
    "# ]:\n",
    "#     for s_x, s_y, q_x, q_y, _ in ds:\n",
    "#         for X in (s_x, q_x):\n",
    "#             for x in X:\n",
    "#                 assert np.isclose(get_average_magnitude(x.numpy()), 1.0)\n",
    "#                 assert np.isclose(get_average_power(x.numpy()), 1.0)\n",
    "                "
   ]
  },
  {
   "cell_type": "code",
   "execution_count": 21,
   "id": "bbdacba1",
   "metadata": {
    "execution": {
     "iopub.execute_input": "2022-03-21T05:49:54.185180Z",
     "iopub.status.busy": "2022-03-21T05:49:54.184804Z",
     "iopub.status.idle": "2022-03-21T05:49:54.378263Z",
     "shell.execute_reply": "2022-03-21T05:49:54.377929Z"
    },
    "papermill": {
     "duration": 0.220195,
     "end_time": "2022-03-21T05:49:54.378344",
     "exception": false,
     "start_time": "2022-03-21T05:49:54.158149",
     "status": "completed"
    },
    "tags": []
   },
   "outputs": [
    {
     "name": "stdout",
     "output_type": "stream",
     "text": [
      "(2, 256)\n"
     ]
    }
   ],
   "source": [
    "###################################\n",
    "# Build the model\n",
    "###################################\n",
    "# easfsl only wants a tuple for the shape\n",
    "model = Steves_Prototypical_Network(x_net, device=p.device, x_shape=tuple(p.x_shape))\n",
    "optimizer = Adam(params=model.parameters(), lr=p.lr)"
   ]
  },
  {
   "cell_type": "code",
   "execution_count": 22,
   "id": "22b39ac5",
   "metadata": {
    "execution": {
     "iopub.execute_input": "2022-03-21T05:49:54.431335Z",
     "iopub.status.busy": "2022-03-21T05:49:54.430922Z",
     "iopub.status.idle": "2022-03-21T06:29:05.504567Z",
     "shell.execute_reply": "2022-03-21T06:29:05.504214Z"
    },
    "papermill": {
     "duration": 2351.10043,
     "end_time": "2022-03-21T06:29:05.504658",
     "exception": false,
     "start_time": "2022-03-21T05:49:54.404228",
     "status": "completed"
    },
    "tags": []
   },
   "outputs": [
    {
     "name": "stdout",
     "output_type": "stream",
     "text": [
      "epoch: 1, [batch: 1 / 6720], examples_per_second: 32.4774, train_label_loss: 2.9737, \n"
     ]
    },
    {
     "name": "stdout",
     "output_type": "stream",
     "text": [
      "epoch: 1, [batch: 672 / 6720], examples_per_second: 2269.6355, train_label_loss: 1.3705, \n"
     ]
    },
    {
     "name": "stdout",
     "output_type": "stream",
     "text": [
      "epoch: 1, [batch: 1344 / 6720], examples_per_second: 2303.5449, train_label_loss: 0.6519, \n"
     ]
    },
    {
     "name": "stdout",
     "output_type": "stream",
     "text": [
      "epoch: 1, [batch: 2016 / 6720], examples_per_second: 2298.5223, train_label_loss: 0.6388, \n"
     ]
    },
    {
     "name": "stdout",
     "output_type": "stream",
     "text": [
      "epoch: 1, [batch: 2688 / 6720], examples_per_second: 2307.1231, train_label_loss: 0.8008, \n"
     ]
    },
    {
     "name": "stdout",
     "output_type": "stream",
     "text": [
      "epoch: 1, [batch: 3360 / 6720], examples_per_second: 2312.7114, train_label_loss: 0.8381, \n"
     ]
    },
    {
     "name": "stdout",
     "output_type": "stream",
     "text": [
      "epoch: 1, [batch: 4032 / 6720], examples_per_second: 2305.3260, train_label_loss: 0.5642, \n"
     ]
    },
    {
     "name": "stdout",
     "output_type": "stream",
     "text": [
      "epoch: 1, [batch: 4704 / 6720], examples_per_second: 2285.1339, train_label_loss: 0.3418, \n"
     ]
    },
    {
     "name": "stdout",
     "output_type": "stream",
     "text": [
      "epoch: 1, [batch: 5376 / 6720], examples_per_second: 2335.7138, train_label_loss: 0.6847, \n"
     ]
    },
    {
     "name": "stdout",
     "output_type": "stream",
     "text": [
      "epoch: 1, [batch: 6048 / 6720], examples_per_second: 2572.3611, train_label_loss: 0.4238, \n"
     ]
    },
    {
     "name": "stdout",
     "output_type": "stream",
     "text": [
      "=============================================================\n",
      "epoch: 1, source_val_acc_label: 0.6687, target_val_acc_label: 0.4337, source_val_label_loss: 31.3708, target_val_label_loss: 920.4168, \n",
      "=============================================================\n"
     ]
    },
    {
     "name": "stdout",
     "output_type": "stream",
     "text": [
      "New best\n"
     ]
    },
    {
     "name": "stdout",
     "output_type": "stream",
     "text": [
      "epoch: 2, [batch: 1 / 6720], examples_per_second: 2.4336, train_label_loss: 24.5370, \n"
     ]
    },
    {
     "name": "stdout",
     "output_type": "stream",
     "text": [
      "epoch: 2, [batch: 672 / 6720], examples_per_second: 2290.0647, train_label_loss: 0.6052, \n"
     ]
    },
    {
     "name": "stdout",
     "output_type": "stream",
     "text": [
      "epoch: 2, [batch: 1344 / 6720], examples_per_second: 2299.1008, train_label_loss: 0.3991, \n"
     ]
    },
    {
     "name": "stdout",
     "output_type": "stream",
     "text": [
      "epoch: 2, [batch: 2016 / 6720], examples_per_second: 2311.4739, train_label_loss: 1.0733, \n"
     ]
    },
    {
     "name": "stdout",
     "output_type": "stream",
     "text": [
      "epoch: 2, [batch: 2688 / 6720], examples_per_second: 2277.4973, train_label_loss: 0.7240, \n"
     ]
    },
    {
     "name": "stdout",
     "output_type": "stream",
     "text": [
      "epoch: 2, [batch: 3360 / 6720], examples_per_second: 2312.5765, train_label_loss: 0.4031, \n"
     ]
    },
    {
     "name": "stdout",
     "output_type": "stream",
     "text": [
      "epoch: 2, [batch: 4032 / 6720], examples_per_second: 2307.9964, train_label_loss: 0.8458, \n"
     ]
    },
    {
     "name": "stdout",
     "output_type": "stream",
     "text": [
      "epoch: 2, [batch: 4704 / 6720], examples_per_second: 2302.2970, train_label_loss: 0.5968, \n"
     ]
    },
    {
     "name": "stdout",
     "output_type": "stream",
     "text": [
      "epoch: 2, [batch: 5376 / 6720], examples_per_second: 2538.7685, train_label_loss: 0.6397, \n"
     ]
    },
    {
     "name": "stdout",
     "output_type": "stream",
     "text": [
      "epoch: 2, [batch: 6048 / 6720], examples_per_second: 2584.5936, train_label_loss: 0.4534, \n"
     ]
    },
    {
     "name": "stdout",
     "output_type": "stream",
     "text": [
      "=============================================================\n",
      "epoch: 2, source_val_acc_label: 0.7992, target_val_acc_label: 0.4812, source_val_label_loss: 0.5489, target_val_label_loss: 295.6895, \n",
      "=============================================================\n"
     ]
    },
    {
     "name": "stdout",
     "output_type": "stream",
     "text": [
      "New best\n"
     ]
    },
    {
     "name": "stdout",
     "output_type": "stream",
     "text": [
      "epoch: 3, [batch: 1 / 6720], examples_per_second: 2.3383, train_label_loss: 0.6888, \n"
     ]
    },
    {
     "name": "stdout",
     "output_type": "stream",
     "text": [
      "epoch: 3, [batch: 672 / 6720], examples_per_second: 2301.6696, train_label_loss: 0.2027, \n"
     ]
    },
    {
     "name": "stdout",
     "output_type": "stream",
     "text": [
      "epoch: 3, [batch: 1344 / 6720], examples_per_second: 2309.7789, train_label_loss: 0.3707, \n"
     ]
    },
    {
     "name": "stdout",
     "output_type": "stream",
     "text": [
      "epoch: 3, [batch: 2016 / 6720], examples_per_second: 2316.7366, train_label_loss: 0.1958, \n"
     ]
    },
    {
     "name": "stdout",
     "output_type": "stream",
     "text": [
      "epoch: 3, [batch: 2688 / 6720], examples_per_second: 2308.5304, train_label_loss: 0.3846, \n"
     ]
    },
    {
     "name": "stdout",
     "output_type": "stream",
     "text": [
      "epoch: 3, [batch: 3360 / 6720], examples_per_second: 2318.9457, train_label_loss: 1.0251, \n"
     ]
    },
    {
     "name": "stdout",
     "output_type": "stream",
     "text": [
      "epoch: 3, [batch: 4032 / 6720], examples_per_second: 2556.4480, train_label_loss: 0.5501, \n"
     ]
    },
    {
     "name": "stdout",
     "output_type": "stream",
     "text": [
      "epoch: 3, [batch: 4704 / 6720], examples_per_second: 2748.6982, train_label_loss: 0.2123, \n"
     ]
    },
    {
     "name": "stdout",
     "output_type": "stream",
     "text": [
      "epoch: 3, [batch: 5376 / 6720], examples_per_second: 2933.3873, train_label_loss: 0.3079, \n"
     ]
    },
    {
     "name": "stdout",
     "output_type": "stream",
     "text": [
      "epoch: 3, [batch: 6048 / 6720], examples_per_second: 3031.2314, train_label_loss: 0.1517, \n"
     ]
    },
    {
     "name": "stdout",
     "output_type": "stream",
     "text": [
      "=============================================================\n",
      "epoch: 3, source_val_acc_label: 0.8458, target_val_acc_label: 0.5154, source_val_label_loss: 0.4280, target_val_label_loss: 485.5264, \n",
      "=============================================================\n"
     ]
    },
    {
     "name": "stdout",
     "output_type": "stream",
     "text": [
      "New best\n"
     ]
    },
    {
     "name": "stdout",
     "output_type": "stream",
     "text": [
      "epoch: 4, [batch: 1 / 6720], examples_per_second: 2.5774, train_label_loss: 0.2347, \n"
     ]
    },
    {
     "name": "stdout",
     "output_type": "stream",
     "text": [
      "epoch: 4, [batch: 672 / 6720], examples_per_second: 2915.3306, train_label_loss: 0.1486, \n"
     ]
    },
    {
     "name": "stdout",
     "output_type": "stream",
     "text": [
      "epoch: 4, [batch: 1344 / 6720], examples_per_second: 2320.4084, train_label_loss: 0.8034, \n"
     ]
    },
    {
     "name": "stdout",
     "output_type": "stream",
     "text": [
      "epoch: 4, [batch: 2016 / 6720], examples_per_second: 2331.6756, train_label_loss: 0.6152, \n"
     ]
    },
    {
     "name": "stdout",
     "output_type": "stream",
     "text": [
      "epoch: 4, [batch: 2688 / 6720], examples_per_second: 2319.1008, train_label_loss: 0.5013, \n"
     ]
    },
    {
     "name": "stdout",
     "output_type": "stream",
     "text": [
      "epoch: 4, [batch: 3360 / 6720], examples_per_second: 2304.8860, train_label_loss: 0.2682, \n"
     ]
    },
    {
     "name": "stdout",
     "output_type": "stream",
     "text": [
      "epoch: 4, [batch: 4032 / 6720], examples_per_second: 2382.2563, train_label_loss: 0.6595, \n"
     ]
    },
    {
     "name": "stdout",
     "output_type": "stream",
     "text": [
      "epoch: 4, [batch: 4704 / 6720], examples_per_second: 2585.7866, train_label_loss: 0.4421, \n"
     ]
    },
    {
     "name": "stdout",
     "output_type": "stream",
     "text": [
      "epoch: 4, [batch: 5376 / 6720], examples_per_second: 2612.8345, train_label_loss: 0.2826, \n"
     ]
    },
    {
     "name": "stdout",
     "output_type": "stream",
     "text": [
      "epoch: 4, [batch: 6048 / 6720], examples_per_second: 2496.8798, train_label_loss: 0.3187, \n"
     ]
    },
    {
     "name": "stdout",
     "output_type": "stream",
     "text": [
      "=============================================================\n",
      "epoch: 4, source_val_acc_label: 0.8498, target_val_acc_label: 0.5106, source_val_label_loss: 0.4146, target_val_label_loss: 546.1279, \n",
      "=============================================================\n"
     ]
    },
    {
     "name": "stdout",
     "output_type": "stream",
     "text": [
      "epoch: 5, [batch: 1 / 6720], examples_per_second: 2.2239, train_label_loss: 0.1345, \n"
     ]
    },
    {
     "name": "stdout",
     "output_type": "stream",
     "text": [
      "epoch: 5, [batch: 672 / 6720], examples_per_second: 2300.2682, train_label_loss: 0.1707, \n"
     ]
    },
    {
     "name": "stdout",
     "output_type": "stream",
     "text": [
      "epoch: 5, [batch: 1344 / 6720], examples_per_second: 2324.9773, train_label_loss: 0.4789, \n"
     ]
    },
    {
     "name": "stdout",
     "output_type": "stream",
     "text": [
      "epoch: 5, [batch: 2016 / 6720], examples_per_second: 2305.6566, train_label_loss: 0.6024, \n"
     ]
    },
    {
     "name": "stdout",
     "output_type": "stream",
     "text": [
      "epoch: 5, [batch: 2688 / 6720], examples_per_second: 2302.5765, train_label_loss: 0.2807, \n"
     ]
    },
    {
     "name": "stdout",
     "output_type": "stream",
     "text": [
      "epoch: 5, [batch: 3360 / 6720], examples_per_second: 2312.5731, train_label_loss: 0.0976, \n"
     ]
    },
    {
     "name": "stdout",
     "output_type": "stream",
     "text": [
      "epoch: 5, [batch: 4032 / 6720], examples_per_second: 2595.0550, train_label_loss: 0.2367, \n"
     ]
    },
    {
     "name": "stdout",
     "output_type": "stream",
     "text": [
      "epoch: 5, [batch: 4704 / 6720], examples_per_second: 2581.6338, train_label_loss: 0.1255, \n"
     ]
    },
    {
     "name": "stdout",
     "output_type": "stream",
     "text": [
      "epoch: 5, [batch: 5376 / 6720], examples_per_second: 2572.6082, train_label_loss: 0.4833, \n"
     ]
    },
    {
     "name": "stdout",
     "output_type": "stream",
     "text": [
      "epoch: 5, [batch: 6048 / 6720], examples_per_second: 2298.7082, train_label_loss: 0.2191, \n"
     ]
    },
    {
     "name": "stdout",
     "output_type": "stream",
     "text": [
      "=============================================================\n",
      "epoch: 5, source_val_acc_label: 0.8622, target_val_acc_label: 0.5235, source_val_label_loss: 0.3849, target_val_label_loss: 618.9322, \n",
      "=============================================================\n"
     ]
    },
    {
     "name": "stdout",
     "output_type": "stream",
     "text": [
      "New best\n"
     ]
    },
    {
     "name": "stdout",
     "output_type": "stream",
     "text": [
      "epoch: 6, [batch: 1 / 6720], examples_per_second: 2.2173, train_label_loss: 0.3296, \n"
     ]
    },
    {
     "name": "stdout",
     "output_type": "stream",
     "text": [
      "epoch: 6, [batch: 672 / 6720], examples_per_second: 2280.7635, train_label_loss: 0.5889, \n"
     ]
    },
    {
     "name": "stdout",
     "output_type": "stream",
     "text": [
      "epoch: 6, [batch: 1344 / 6720], examples_per_second: 2312.5624, train_label_loss: 0.4667, \n"
     ]
    },
    {
     "name": "stdout",
     "output_type": "stream",
     "text": [
      "epoch: 6, [batch: 2016 / 6720], examples_per_second: 2320.0993, train_label_loss: 0.1172, \n"
     ]
    },
    {
     "name": "stdout",
     "output_type": "stream",
     "text": [
      "epoch: 6, [batch: 2688 / 6720], examples_per_second: 2308.5078, train_label_loss: 0.0741, \n"
     ]
    },
    {
     "name": "stdout",
     "output_type": "stream",
     "text": [
      "epoch: 6, [batch: 3360 / 6720], examples_per_second: 2530.9420, train_label_loss: 0.1806, \n"
     ]
    },
    {
     "name": "stdout",
     "output_type": "stream",
     "text": [
      "epoch: 6, [batch: 4032 / 6720], examples_per_second: 2577.0206, train_label_loss: 0.4615, \n"
     ]
    },
    {
     "name": "stdout",
     "output_type": "stream",
     "text": [
      "epoch: 6, [batch: 4704 / 6720], examples_per_second: 2589.8474, train_label_loss: 0.3955, \n"
     ]
    },
    {
     "name": "stdout",
     "output_type": "stream",
     "text": [
      "epoch: 6, [batch: 5376 / 6720], examples_per_second: 2615.6366, train_label_loss: 0.3707, \n"
     ]
    },
    {
     "name": "stdout",
     "output_type": "stream",
     "text": [
      "epoch: 6, [batch: 6048 / 6720], examples_per_second: 2671.2614, train_label_loss: 0.1388, \n"
     ]
    },
    {
     "name": "stdout",
     "output_type": "stream",
     "text": [
      "=============================================================\n",
      "epoch: 6, source_val_acc_label: 0.8814, target_val_acc_label: 0.5223, source_val_label_loss: 0.3268, target_val_label_loss: 674.0736, \n",
      "=============================================================\n"
     ]
    },
    {
     "name": "stdout",
     "output_type": "stream",
     "text": [
      "epoch: 7, [batch: 1 / 6720], examples_per_second: 2.5377, train_label_loss: 0.0750, \n"
     ]
    },
    {
     "name": "stdout",
     "output_type": "stream",
     "text": [
      "epoch: 7, [batch: 672 / 6720], examples_per_second: 2524.5380, train_label_loss: 0.4636, \n"
     ]
    },
    {
     "name": "stdout",
     "output_type": "stream",
     "text": [
      "epoch: 7, [batch: 1344 / 6720], examples_per_second: 2609.2675, train_label_loss: 0.1798, \n"
     ]
    },
    {
     "name": "stdout",
     "output_type": "stream",
     "text": [
      "epoch: 7, [batch: 2016 / 6720], examples_per_second: 2741.3730, train_label_loss: 0.3048, \n"
     ]
    },
    {
     "name": "stdout",
     "output_type": "stream",
     "text": [
      "epoch: 7, [batch: 2688 / 6720], examples_per_second: 2967.5435, train_label_loss: 0.5140, \n"
     ]
    },
    {
     "name": "stdout",
     "output_type": "stream",
     "text": [
      "epoch: 7, [batch: 3360 / 6720], examples_per_second: 2996.0921, train_label_loss: 0.7919, \n"
     ]
    },
    {
     "name": "stdout",
     "output_type": "stream",
     "text": [
      "epoch: 7, [batch: 4032 / 6720], examples_per_second: 2982.5276, train_label_loss: 0.1454, \n"
     ]
    },
    {
     "name": "stdout",
     "output_type": "stream",
     "text": [
      "epoch: 7, [batch: 4704 / 6720], examples_per_second: 3018.6094, train_label_loss: 0.3021, \n"
     ]
    },
    {
     "name": "stdout",
     "output_type": "stream",
     "text": [
      "epoch: 7, [batch: 5376 / 6720], examples_per_second: 2964.7419, train_label_loss: 0.1171, \n"
     ]
    },
    {
     "name": "stdout",
     "output_type": "stream",
     "text": [
      "epoch: 7, [batch: 6048 / 6720], examples_per_second: 2938.1294, train_label_loss: 0.1785, \n"
     ]
    },
    {
     "name": "stdout",
     "output_type": "stream",
     "text": [
      "=============================================================\n",
      "epoch: 7, source_val_acc_label: 0.8703, target_val_acc_label: 0.5168, source_val_label_loss: 0.3529, target_val_label_loss: 777.6620, \n",
      "=============================================================\n"
     ]
    },
    {
     "name": "stdout",
     "output_type": "stream",
     "text": [
      "epoch: 8, [batch: 1 / 6720], examples_per_second: 2.9308, train_label_loss: 0.3725, \n"
     ]
    },
    {
     "name": "stdout",
     "output_type": "stream",
     "text": [
      "epoch: 8, [batch: 672 / 6720], examples_per_second: 2494.5053, train_label_loss: 0.4671, \n"
     ]
    },
    {
     "name": "stdout",
     "output_type": "stream",
     "text": [
      "epoch: 8, [batch: 1344 / 6720], examples_per_second: 2560.5953, train_label_loss: 0.4314, \n"
     ]
    },
    {
     "name": "stdout",
     "output_type": "stream",
     "text": [
      "epoch: 8, [batch: 2016 / 6720], examples_per_second: 2618.5198, train_label_loss: 0.1543, \n"
     ]
    },
    {
     "name": "stdout",
     "output_type": "stream",
     "text": [
      "epoch: 8, [batch: 2688 / 6720], examples_per_second: 2592.4203, train_label_loss: 0.0271, \n"
     ]
    },
    {
     "name": "stdout",
     "output_type": "stream",
     "text": [
      "epoch: 8, [batch: 3360 / 6720], examples_per_second: 2567.3137, train_label_loss: 0.4238, \n"
     ]
    },
    {
     "name": "stdout",
     "output_type": "stream",
     "text": [
      "epoch: 8, [batch: 4032 / 6720], examples_per_second: 2594.9425, train_label_loss: 0.4087, \n"
     ]
    },
    {
     "name": "stdout",
     "output_type": "stream",
     "text": [
      "epoch: 8, [batch: 4704 / 6720], examples_per_second: 2619.1419, train_label_loss: 0.2722, \n"
     ]
    },
    {
     "name": "stdout",
     "output_type": "stream",
     "text": [
      "epoch: 8, [batch: 5376 / 6720], examples_per_second: 2778.6811, train_label_loss: 0.2466, \n"
     ]
    },
    {
     "name": "stdout",
     "output_type": "stream",
     "text": [
      "epoch: 8, [batch: 6048 / 6720], examples_per_second: 2998.4976, train_label_loss: 0.2236, \n"
     ]
    },
    {
     "name": "stdout",
     "output_type": "stream",
     "text": [
      "=============================================================\n",
      "epoch: 8, source_val_acc_label: 0.8931, target_val_acc_label: 0.5125, source_val_label_loss: 0.2980, target_val_label_loss: 848.7139, \n",
      "=============================================================\n"
     ]
    },
    {
     "name": "stdout",
     "output_type": "stream",
     "text": [
      "epoch: 9, [batch: 1 / 6720], examples_per_second: 2.4382, train_label_loss: 0.1320, \n"
     ]
    },
    {
     "name": "stdout",
     "output_type": "stream",
     "text": [
      "epoch: 9, [batch: 672 / 6720], examples_per_second: 2328.1246, train_label_loss: 0.4305, \n"
     ]
    },
    {
     "name": "stdout",
     "output_type": "stream",
     "text": [
      "epoch: 9, [batch: 1344 / 6720], examples_per_second: 2341.1481, train_label_loss: 0.3806, \n"
     ]
    },
    {
     "name": "stdout",
     "output_type": "stream",
     "text": [
      "epoch: 9, [batch: 2016 / 6720], examples_per_second: 2308.7100, train_label_loss: 0.2365, \n"
     ]
    },
    {
     "name": "stdout",
     "output_type": "stream",
     "text": [
      "epoch: 9, [batch: 2688 / 6720], examples_per_second: 2282.1464, train_label_loss: 0.1701, \n"
     ]
    },
    {
     "name": "stdout",
     "output_type": "stream",
     "text": [
      "epoch: 9, [batch: 3360 / 6720], examples_per_second: 2331.4416, train_label_loss: 0.3771, \n"
     ]
    },
    {
     "name": "stdout",
     "output_type": "stream",
     "text": [
      "epoch: 9, [batch: 4032 / 6720], examples_per_second: 2332.1858, train_label_loss: 0.4281, \n"
     ]
    },
    {
     "name": "stdout",
     "output_type": "stream",
     "text": [
      "epoch: 9, [batch: 4704 / 6720], examples_per_second: 2333.0173, train_label_loss: 0.1717, \n"
     ]
    },
    {
     "name": "stdout",
     "output_type": "stream",
     "text": [
      "epoch: 9, [batch: 5376 / 6720], examples_per_second: 2315.1223, train_label_loss: 0.1616, \n"
     ]
    },
    {
     "name": "stdout",
     "output_type": "stream",
     "text": [
      "epoch: 9, [batch: 6048 / 6720], examples_per_second: 2570.7602, train_label_loss: 0.0628, \n"
     ]
    },
    {
     "name": "stdout",
     "output_type": "stream",
     "text": [
      "=============================================================\n",
      "epoch: 9, source_val_acc_label: 0.8977, target_val_acc_label: 0.5148, source_val_label_loss: 0.2872, target_val_label_loss: 1034.6433, \n",
      "=============================================================\n"
     ]
    },
    {
     "name": "stdout",
     "output_type": "stream",
     "text": [
      "Patience (3) exhausted\n"
     ]
    }
   ],
   "source": [
    "###################################\n",
    "# train\n",
    "###################################\n",
    "jig = PTN_Train_Eval_Test_Jig(model, p.BEST_MODEL_PATH, p.device)\n",
    "\n",
    "jig.train(\n",
    "    train_iterable=datasets.source.processed.train,\n",
    "    source_val_iterable=datasets.source.processed.val,\n",
    "    target_val_iterable=datasets.target.processed.val,\n",
    "    num_epochs=p.n_epoch,\n",
    "    num_logs_per_epoch=p.NUM_LOGS_PER_EPOCH,\n",
    "    patience=p.patience,\n",
    "    optimizer=optimizer,\n",
    "    criteria_for_best=p.criteria_for_best,\n",
    ")"
   ]
  },
  {
   "cell_type": "code",
   "execution_count": 23,
   "id": "31e8fabf",
   "metadata": {
    "execution": {
     "iopub.execute_input": "2022-03-21T06:29:05.609293Z",
     "iopub.status.busy": "2022-03-21T06:29:05.608919Z",
     "iopub.status.idle": "2022-03-21T06:29:05.641523Z",
     "shell.execute_reply": "2022-03-21T06:29:05.640795Z"
    },
    "papermill": {
     "duration": 0.086852,
     "end_time": "2022-03-21T06:29:05.641696",
     "exception": false,
     "start_time": "2022-03-21T06:29:05.554844",
     "status": "completed"
    },
    "tags": []
   },
   "outputs": [],
   "source": [
    "total_experiment_time_secs = time.time() - start_time_secs"
   ]
  },
  {
   "cell_type": "code",
   "execution_count": 24,
   "id": "87b9595b",
   "metadata": {
    "execution": {
     "iopub.execute_input": "2022-03-21T06:29:05.755775Z",
     "iopub.status.busy": "2022-03-21T06:29:05.755137Z",
     "iopub.status.idle": "2022-03-21T06:33:48.148384Z",
     "shell.execute_reply": "2022-03-21T06:33:48.147630Z"
    },
    "papermill": {
     "duration": 282.452567,
     "end_time": "2022-03-21T06:33:48.148581",
     "exception": false,
     "start_time": "2022-03-21T06:29:05.696014",
     "status": "completed"
    },
    "tags": []
   },
   "outputs": [],
   "source": [
    "###################################\n",
    "# Evaluate the model\n",
    "###################################\n",
    "source_test_label_accuracy, source_test_label_loss = jig.test(datasets.source.processed.test)\n",
    "target_test_label_accuracy, target_test_label_loss = jig.test(datasets.target.processed.test)\n",
    "\n",
    "source_val_label_accuracy, source_val_label_loss = jig.test(datasets.source.processed.val)\n",
    "target_val_label_accuracy, target_val_label_loss = jig.test(datasets.target.processed.val)\n",
    "\n",
    "history = jig.get_history()\n",
    "\n",
    "total_epochs_trained = len(history[\"epoch_indices\"])\n",
    "\n",
    "val_dl = Iterable_Aggregator((datasets.source.original.val,datasets.target.original.val))\n",
    "\n",
    "confusion = ptn_confusion_by_domain_over_dataloader(model, p.device, val_dl)\n",
    "per_domain_accuracy = per_domain_accuracy_from_confusion(confusion)\n",
    "\n",
    "# Add a key to per_domain_accuracy for if it was a source domain\n",
    "for domain, accuracy in per_domain_accuracy.items():\n",
    "    per_domain_accuracy[domain] = {\n",
    "        \"accuracy\": accuracy,\n",
    "        \"source?\": domain in p.domains_source\n",
    "    }\n",
    "\n",
    "# Do an independent accuracy assesment JUST TO BE SURE!\n",
    "# _source_test_label_accuracy = independent_accuracy_assesment(model, datasets.source.processed.test, p.device)\n",
    "# _target_test_label_accuracy = independent_accuracy_assesment(model, datasets.target.processed.test, p.device)\n",
    "# _source_val_label_accuracy = independent_accuracy_assesment(model, datasets.source.processed.val, p.device)\n",
    "# _target_val_label_accuracy = independent_accuracy_assesment(model, datasets.target.processed.val, p.device)\n",
    "\n",
    "# assert(_source_test_label_accuracy == source_test_label_accuracy)\n",
    "# assert(_target_test_label_accuracy == target_test_label_accuracy)\n",
    "# assert(_source_val_label_accuracy == source_val_label_accuracy)\n",
    "# assert(_target_val_label_accuracy == target_val_label_accuracy)\n",
    "\n",
    "experiment = {\n",
    "    \"experiment_name\": p.experiment_name,\n",
    "    \"parameters\": dict(p),\n",
    "    \"results\": {\n",
    "        \"source_test_label_accuracy\": source_test_label_accuracy,\n",
    "        \"source_test_label_loss\": source_test_label_loss,\n",
    "        \"target_test_label_accuracy\": target_test_label_accuracy,\n",
    "        \"target_test_label_loss\": target_test_label_loss,\n",
    "        \"source_val_label_accuracy\": source_val_label_accuracy,\n",
    "        \"source_val_label_loss\": source_val_label_loss,\n",
    "        \"target_val_label_accuracy\": target_val_label_accuracy,\n",
    "        \"target_val_label_loss\": target_val_label_loss,\n",
    "        \"total_epochs_trained\": total_epochs_trained,\n",
    "        \"total_experiment_time_secs\": total_experiment_time_secs,\n",
    "        \"confusion\": confusion,\n",
    "        \"per_domain_accuracy\": per_domain_accuracy,\n",
    "    },\n",
    "    \"history\": history,\n",
    "    \"dataset_metrics\": get_dataset_metrics(datasets, \"ptn\"),\n",
    "}"
   ]
  },
  {
   "cell_type": "code",
   "execution_count": 25,
   "id": "54a21829",
   "metadata": {
    "execution": {
     "iopub.execute_input": "2022-03-21T06:33:48.261464Z",
     "iopub.status.busy": "2022-03-21T06:33:48.260888Z",
     "iopub.status.idle": "2022-03-21T06:33:48.497182Z",
     "shell.execute_reply": "2022-03-21T06:33:48.497874Z"
    },
    "papermill": {
     "duration": 0.29122,
     "end_time": "2022-03-21T06:33:48.498066",
     "exception": false,
     "start_time": "2022-03-21T06:33:48.206846",
     "status": "completed"
    },
    "tags": []
   },
   "outputs": [
    {
     "data": {
      "image/png": "[encoded data removed]",
      "text/plain": [
       "<Figure size 1080x504 with 1 Axes>"
      ]
     },
     "metadata": {
      "needs_background": "light"
     },
     "output_type": "display_data"
    }
   ],
   "source": [
    "ax = get_loss_curve(experiment)\n",
    "plt.show()"
   ]
  },
  {
   "cell_type": "code",
   "execution_count": 26,
   "id": "fd8a0f60",
   "metadata": {
    "execution": {
     "iopub.execute_input": "2022-03-21T06:33:49.211289Z",
     "iopub.status.busy": "2022-03-21T06:33:49.210906Z",
     "iopub.status.idle": "2022-03-21T06:33:49.589503Z",
     "shell.execute_reply": "2022-03-21T06:33:49.589147Z"
    },
    "papermill": {
     "duration": 0.435233,
     "end_time": "2022-03-21T06:33:49.589596",
     "exception": false,
     "start_time": "2022-03-21T06:33:49.154363",
     "status": "completed"
    },
    "tags": []
   },
   "outputs": [
    {
     "data": {
      "text/plain": [
       "<AxesSubplot:title={'center':'Results'}>"
      ]
     },
     "execution_count": 26,
     "metadata": {},
     "output_type": "execute_result"
    },
    {
     "data": {
      "image/png": "[encoded data removed]",
      "text/plain": [
       "<Figure size 1080x504 with 1 Axes>"
      ]
     },
     "metadata": {
      "needs_background": "light"
     },
     "output_type": "display_data"
    }
   ],
   "source": [
    "get_results_table(experiment)"
   ]
  },
  {
   "cell_type": "code",
   "execution_count": 27,
   "id": "cf8dc689",
   "metadata": {
    "execution": {
     "iopub.execute_input": "2022-03-21T06:33:49.702469Z",
     "iopub.status.busy": "2022-03-21T06:33:49.702092Z",
     "iopub.status.idle": "2022-03-21T06:33:49.957435Z",
     "shell.execute_reply": "2022-03-21T06:33:49.958118Z"
    },
    "papermill": {
     "duration": 0.313826,
     "end_time": "2022-03-21T06:33:49.958334",
     "exception": false,
     "start_time": "2022-03-21T06:33:49.644508",
     "status": "completed"
    },
    "tags": []
   },
   "outputs": [
    {
     "data": {
      "text/plain": [
       "<AxesSubplot:title={'center':'Per Domain Validation Accuracy'}, xlabel='domain'>"
      ]
     },
     "execution_count": 27,
     "metadata": {},
     "output_type": "execute_result"
    },
    {
     "data": {
      "image/png": "[encoded data removed]",
      "text/plain": [
       "<Figure size 1080x504 with 1 Axes>"
      ]
     },
     "metadata": {
      "needs_background": "light"
     },
     "output_type": "display_data"
    }
   ],
   "source": [
    "get_domain_accuracies(experiment)"
   ]
  },
  {
   "cell_type": "code",
   "execution_count": 28,
   "id": "a74ae082",
   "metadata": {
    "execution": {
     "iopub.execute_input": "2022-03-21T06:33:50.083730Z",
     "iopub.status.busy": "2022-03-21T06:33:50.083322Z",
     "iopub.status.idle": "2022-03-21T06:33:50.107638Z",
     "shell.execute_reply": "2022-03-21T06:33:50.108320Z"
    },
    "papermill": {
     "duration": 0.087416,
     "end_time": "2022-03-21T06:33:50.108530",
     "exception": false,
     "start_time": "2022-03-21T06:33:50.021114",
     "status": "completed"
    },
    "tags": []
   },
   "outputs": [
    {
     "name": "stdout",
     "output_type": "stream",
     "text": [
      "Source Test Label Accuracy: 0.8661783854166667 Target Test Label Accuracy: 0.5222523219814241\n",
      "Source Val Label Accuracy: 0.86220703125 Target Val Label Accuracy: 0.523536811440678\n"
     ]
    }
   ],
   "source": [
    "print(\"Source Test Label Accuracy:\", experiment[\"results\"][\"source_test_label_accuracy\"], \"Target Test Label Accuracy:\", experiment[\"results\"][\"target_test_label_accuracy\"])\n",
    "print(\"Source Val Label Accuracy:\", experiment[\"results\"][\"source_val_label_accuracy\"], \"Target Val Label Accuracy:\", experiment[\"results\"][\"target_val_label_accuracy\"])"
   ]
  },
  {
   "cell_type": "code",
   "execution_count": 29,
   "id": "dacca602",
   "metadata": {
    "execution": {
     "iopub.execute_input": "2022-03-21T06:33:50.232680Z",
     "iopub.status.busy": "2022-03-21T06:33:50.232053Z",
     "iopub.status.idle": "2022-03-21T06:33:50.266086Z",
     "shell.execute_reply": "2022-03-21T06:33:50.266624Z"
    },
    "papermill": {
     "duration": 0.094322,
     "end_time": "2022-03-21T06:33:50.266798",
     "exception": false,
     "start_time": "2022-03-21T06:33:50.172476",
     "status": "completed"
    },
    "tags": [
     "experiment_json"
    ]
   },
   "outputs": [
    {
     "data": {
      "text/plain": [
       "'{\"experiment_name\": \"tl_1v2:wisig-oracle.run1.framed\", \"parameters\": {\"experiment_name\": \"tl_1v2:wisig-oracle.run1.framed\", \"device\": \"cuda\", \"lr\": 0.0001, \"n_shot\": 3, \"n_query\": 2, \"train_k_factor\": 3, \"val_k_factor\": 2, \"test_k_factor\": 2, \"torch_default_dtype\": \"torch.float32\", \"n_epoch\": 50, \"patience\": 3, \"criteria_for_best\": \"target_accuracy\", \"x_net\": [{\"class\": \"nnReshape\", \"kargs\": {\"shape\": [-1, 1, 2, 256]}}, {\"class\": \"Conv2d\", \"kargs\": {\"in_channels\": 1, \"out_channels\": 256, \"kernel_size\": [1, 7], \"bias\": false, \"padding\": [0, 3]}}, {\"class\": \"ReLU\", \"kargs\": {\"inplace\": true}}, {\"class\": \"BatchNorm2d\", \"kargs\": {\"num_features\": 256}}, {\"class\": \"Conv2d\", \"kargs\": {\"in_channels\": 256, \"out_channels\": 80, \"kernel_size\": [2, 7], \"bias\": true, \"padding\": [0, 3]}}, {\"class\": \"ReLU\", \"kargs\": {\"inplace\": true}}, {\"class\": \"BatchNorm2d\", \"kargs\": {\"num_features\": 80}}, {\"class\": \"Flatten\", \"kargs\": {}}, {\"class\": \"Linear\", \"kargs\": {\"in_features\": 20480, \"out_features\": 256}}, {\"class\": \"ReLU\", \"kargs\": {\"inplace\": true}}, {\"class\": \"BatchNorm1d\", \"kargs\": {\"num_features\": 256}}, {\"class\": \"Linear\", \"kargs\": {\"in_features\": 256, \"out_features\": 256}}], \"NUM_LOGS_PER_EPOCH\": 10, \"BEST_MODEL_PATH\": \"./best_model.pth\", \"n_way\": 16, \"datasets\": [{\"labels\": [\"1-10\", \"1-12\", \"1-14\", \"1-16\", \"1-18\", \"1-19\", \"1-8\", \"10-11\", \"10-17\", \"10-4\", \"10-7\", \"11-1\", \"11-10\", \"11-19\", \"11-20\", \"11-4\", \"11-7\", \"12-19\", \"12-20\", \"12-7\", \"13-14\", \"13-18\", \"13-19\", \"13-20\", \"13-3\", \"13-7\", \"14-10\", \"14-11\", \"14-12\", \"14-13\", \"14-14\", \"14-19\", \"14-20\", \"14-7\", \"14-8\", \"14-9\", \"15-1\", \"15-19\", \"15-6\", \"16-1\", \"16-16\", \"16-19\", \"16-20\", \"17-10\", \"17-11\", \"18-1\", \"18-10\", \"18-11\", \"18-12\", \"18-13\", \"18-14\", \"18-15\", \"18-16\", \"18-17\", \"18-19\", \"18-2\", \"18-20\", \"18-4\", \"18-5\", \"18-7\", \"18-8\", \"18-9\", \"19-1\", \"19-10\", \"19-11\", \"19-12\", \"19-13\", \"19-14\", \"19-15\", \"19-19\", \"19-2\", \"19-20\", \"19-3\", \"19-4\", \"19-6\", \"19-7\", \"19-8\", \"19-9\", \"2-1\", \"2-13\", \"2-15\", \"2-3\", \"2-4\", \"2-5\", \"2-6\", \"2-7\", \"2-8\", \"20-1\", \"20-12\", \"20-14\", \"20-15\", \"20-16\", \"20-18\", \"20-19\", \"20-20\", \"20-3\", \"20-4\", \"20-5\", \"20-7\", \"20-8\", \"3-1\", \"3-13\", \"3-18\", \"3-2\", \"3-8\", \"4-1\", \"4-10\", \"4-11\", \"5-1\", \"5-5\", \"6-1\", \"6-15\", \"6-6\", \"7-10\", \"7-11\", \"7-12\", \"7-13\", \"7-14\", \"7-7\", \"7-8\", \"7-9\", \"8-1\", \"8-13\", \"8-14\", \"8-18\", \"8-20\", \"8-3\", \"8-8\", \"9-1\", \"9-7\"], \"domains\": [1, 2, 3, 4], \"num_examples_per_domain_per_label\": -1, \"pickle_path\": \"/root/csc500-main/datasets/wisig.node3-19.stratified_ds.2022A.pkl\", \"source_or_target_dataset\": \"target\", \"x_transforms\": [\"unit_power\"], \"episode_transforms\": [], \"domain_prefix\": \"Wisig_\"}, {\"labels\": [\"3123D52\", \"3123D65\", \"3123D79\", \"3123D80\", \"3123D54\", \"3123D70\", \"3123D7B\", \"3123D89\", \"3123D58\", \"3123D76\", \"3123D7D\", \"3123EFE\", \"3123D64\", \"3123D78\", \"3123D7E\", \"3124E4A\"], \"domains\": [32, 38, 8, 44, 14, 50, 20, 26], \"num_examples_per_domain_per_label\": 2000, \"pickle_path\": \"/root/csc500-main/datasets/oracle.Run1_framed_2000Examples_stratified_ds.2022A.pkl\", \"source_or_target_dataset\": \"source\", \"x_transforms\": [\"unit_power\"], \"episode_transforms\": [], \"domain_prefix\": \"ORACLE.run1\"}], \"dataset_seed\": 1337, \"seed\": 1337, \"x_shape\": [2, 256], \"domains_source\": [\"ORACLE.run132\", \"ORACLE.run138\", \"ORACLE.run18\", \"ORACLE.run144\", \"ORACLE.run114\", \"ORACLE.run150\", \"ORACLE.run120\", \"ORACLE.run126\"], \"domains_target\": [\"Wisig_1\", \"Wisig_2\", \"Wisig_3\", \"Wisig_4\"]}, \"results\": {\"source_test_label_accuracy\": 0.8661783854166667, \"source_test_label_loss\": 0.37866923213005066, \"target_test_label_accuracy\": 0.5222523219814241, \"target_test_label_loss\": 615.797607421875, \"source_val_label_accuracy\": 0.86220703125, \"source_val_label_loss\": 0.3849393427371979, \"target_val_label_accuracy\": 0.523536811440678, \"target_val_label_loss\": 618.9321899414062, \"total_epochs_trained\": 9, \"total_experiment_time_secs\": 2412.846730709076, \"confusion\": {\"ORACLE.run114\": {\"15\": {\"15\": 240}, \"3\": {\"3\": 232, \"2\": 3, \"4\": 3, \"5\": 2}, \"6\": {\"6\": 196, \"13\": 42, \"14\": 1, \"2\": 1}, \"1\": {\"1\": 236, \"5\": 4}, \"8\": {\"8\": 240}, \"10\": {\"10\": 240}, \"9\": {\"9\": 240}, \"13\": {\"13\": 166, \"5\": 2, \"6\": 53, \"4\": 1, \"14\": 6, \"2\": 12}, \"12\": {\"12\": 240}, \"5\": {\"5\": 195, \"4\": 19, \"1\": 8, \"3\": 9, \"2\": 9}, \"0\": {\"0\": 238, \"3\": 2}, \"2\": {\"2\": 151, \"6\": 7, \"3\": 6, \"5\": 20, \"14\": 53, \"13\": 1, \"15\": 2}, \"11\": {\"11\": 233, \"9\": 7}, \"14\": {\"14\": 214, \"2\": 22, \"13\": 3, \"6\": 1}, \"7\": {\"7\": 240}, \"4\": {\"4\": 228, \"5\": 12}}, \"ORACLE.run120\": {\"3\": {\"3\": 167, \"12\": 33, \"9\": 20, \"4\": 5, \"2\": 11, \"1\": 3, \"7\": 1}, \"15\": {\"15\": 211, \"5\": 7, \"0\": 6, \"13\": 6, \"1\": 6, \"12\": 2, \"9\": 1, \"2\": 1}, \"8\": {\"8\": 236, \"4\": 4}, \"4\": {\"4\": 237, \"8\": 3}, \"14\": {\"14\": 234, \"6\": 5, \"10\": 1}, \"0\": {\"5\": 31, \"0\": 201, \"15\": 7, \"13\": 1}, \"7\": {\"7\": 216, \"2\": 20, \"3\": 2, \"9\": 1, \"8\": 1}, \"6\": {\"6\": 232, \"14\": 8}, \"10\": {\"10\": 240}, \"5\": {\"5\": 222, \"0\": 9, \"15\": 6, \"1\": 1, \"12\": 2}, \"2\": {\"2\": 174, \"7\": 22, \"12\": 12, \"9\": 20, \"3\": 6, \"13\": 2, \"1\": 4}, \"12\": {\"12\": 138, \"9\": 10, \"1\": 37, \"3\": 42, \"2\": 10, \"5\": 3}, \"9\": {\"9\": 179, \"2\": 22, \"3\": 17, \"12\": 18, \"7\": 2, \"1\": 2}, \"1\": {\"1\": 180, \"12\": 46, \"5\": 6, \"15\": 6, \"2\": 2}, \"11\": {\"11\": 240}, \"13\": {\"13\": 238, \"2\": 1, \"7\": 1}}, \"ORACLE.run138\": {\"5\": {\"8\": 52, \"7\": 24, \"5\": 142, \"6\": 6, \"9\": 8, \"15\": 6, \"0\": 1, \"13\": 1}, \"8\": {\"8\": 193, \"5\": 28, \"7\": 11, \"0\": 7, \"15\": 1}, \"11\": {\"11\": 233, \"14\": 5, \"3\": 1, \"10\": 1}, \"1\": {\"1\": 235, \"15\": 5}, \"10\": {\"10\": 226, \"7\": 2, \"13\": 11, \"8\": 1}, \"15\": {\"15\": 224, \"13\": 2, \"8\": 2, \"1\": 9, \"5\": 3}, \"3\": {\"3\": 237, \"0\": 3}, \"7\": {\"7\": 219, \"8\": 7, \"0\": 7, \"5\": 7}, \"4\": {\"4\": 239, \"10\": 1}, \"14\": {\"14\": 233, \"2\": 6, \"10\": 1}, \"9\": {\"9\": 238, \"6\": 2}, \"12\": {\"12\": 239, \"4\": 1}, \"6\": {\"6\": 240}, \"2\": {\"2\": 229, \"13\": 6, \"14\": 5}, \"0\": {\"8\": 25, \"0\": 181, \"7\": 11, \"3\": 7, \"5\": 2, \"10\": 10, \"13\": 4}, \"13\": {\"13\": 223, \"15\": 4, \"2\": 4, \"10\": 7, \"8\": 2}}, \"ORACLE.run18\": {\"9\": {\"9\": 240}, \"10\": {\"10\": 204, \"13\": 17, \"14\": 11, \"4\": 7, \"5\": 1}, \"13\": {\"13\": 133, \"10\": 31, \"7\": 2, \"6\": 20, \"4\": 28, \"14\": 3, \"0\": 23}, \"0\": {\"0\": 210, \"7\": 10, \"13\": 16, \"4\": 2, \"10\": 2}, \"1\": {\"1\": 238, \"14\": 2}, \"15\": {\"15\": 221, \"12\": 18, \"8\": 1}, \"5\": {\"5\": 220, \"1\": 11, \"10\": 6, \"14\": 3}, \"3\": {\"3\": 238, \"12\": 1, \"2\": 1}, \"6\": {\"6\": 156, \"7\": 46, \"13\": 10, \"4\": 28}, \"11\": {\"11\": 234, \"1\": 6}, \"8\": {\"8\": 236, \"15\": 4}, \"4\": {\"4\": 172, \"6\": 23, \"13\": 26, \"14\": 18, \"10\": 1}, \"12\": {\"12\": 179, \"15\": 44, \"8\": 6, \"3\": 11}, \"14\": {\"14\": 188, \"10\": 17, \"4\": 26, \"1\": 8, \"13\": 1}, \"2\": {\"7\": 4, \"2\": 232, \"3\": 4}, \"7\": {\"7\": 193, \"0\": 3, \"6\": 44}}, \"ORACLE.run150\": {\"7\": {\"7\": 218, \"13\": 12, \"5\": 7, \"6\": 3}, \"3\": {\"3\": 240}, \"8\": {\"8\": 238, \"10\": 2}, \"2\": {\"2\": 229, \"0\": 11}, \"14\": {\"14\": 240}, \"4\": {\"15\": 20, \"4\": 181, \"5\": 34, \"1\": 3, \"6\": 1, \"7\": 1}, \"6\": {\"6\": 221, \"13\": 11, \"1\": 3, \"15\": 2, \"7\": 2, \"5\": 1}, \"15\": {\"15\": 207, \"4\": 12, \"1\": 15, \"6\": 3, \"11\": 3}, \"10\": {\"10\": 233, \"8\": 2, \"0\": 2, \"13\": 3}, \"11\": {\"11\": 223, \"9\": 5, \"15\": 5, \"12\": 5, \"14\": 1, \"1\": 1}, \"13\": {\"13\": 220, \"7\": 6, \"6\": 5, \"5\": 7, \"10\": 1, \"0\": 1}, \"9\": {\"9\": 228, \"11\": 9, \"12\": 3}, \"0\": {\"2\": 17, \"0\": 217, \"10\": 6}, \"1\": {\"15\": 12, \"1\": 214, \"4\": 5, \"5\": 5, \"6\": 3, \"11\": 1}, \"12\": {\"12\": 236, \"9\": 3, \"14\": 1}, \"5\": {\"5\": 144, \"4\": 39, \"7\": 20, \"13\": 14, \"1\": 21, \"6\": 2}}, \"ORACLE.run132\": {\"8\": {\"8\": 208, \"0\": 20, \"5\": 6, \"13\": 5, \"14\": 1}, \"14\": {\"14\": 177, \"11\": 29, \"0\": 16, \"8\": 3, \"5\": 2, \"7\": 12, \"3\": 1}, \"2\": {\"2\": 206, \"4\": 34}, \"0\": {\"0\": 209, \"14\": 11, \"8\": 16, \"7\": 2, \"5\": 1, \"13\": 1}, \"1\": {\"1\": 240}, \"10\": {\"10\": 240}, \"11\": {\"11\": 227, \"14\": 12, \"7\": 1}, \"5\": {\"5\": 146, \"14\": 2, \"7\": 49, \"3\": 9, \"13\": 13, \"0\": 5, \"8\": 6, \"4\": 9, \"11\": 1}, \"15\": {\"15\": 240}, \"3\": {\"3\": 232, \"13\": 3, \"11\": 2, \"8\": 1, \"14\": 1, \"5\": 1}, \"12\": {\"12\": 240}, \"7\": {\"7\": 185, \"5\": 30, \"14\": 2, \"13\": 3, \"4\": 18, \"0\": 1, \"11\": 1}, \"13\": {\"13\": 193, \"0\": 4, \"3\": 12, \"4\": 15, \"7\": 5, \"5\": 8, \"8\": 3}, \"6\": {\"6\": 240}, \"4\": {\"2\": 27, \"4\": 192, \"13\": 6, \"7\": 11, \"5\": 4}, \"9\": {\"9\": 240}}, \"ORACLE.run126\": {\"4\": {\"14\": 32, \"4\": 152, \"0\": 15, \"7\": 10, \"8\": 21, \"1\": 2, \"10\": 8}, \"12\": {\"12\": 240}, \"10\": {\"14\": 12, \"10\": 131, \"8\": 30, \"0\": 59, \"4\": 6, \"9\": 2}, \"0\": {\"0\": 89, \"10\": 71, \"8\": 20, \"14\": 27, \"4\": 30, \"7\": 3}, \"13\": {\"13\": 200, \"5\": 29, \"2\": 2, \"9\": 6, \"15\": 3}, \"9\": {\"9\": 212, \"15\": 21, \"6\": 7}, \"3\": {\"3\": 192, \"2\": 37, \"7\": 11}, \"2\": {\"5\": 25, \"3\": 77, \"2\": 112, \"7\": 19, \"9\": 2, \"13\": 1, \"15\": 4}, \"5\": {\"5\": 203, \"2\": 11, \"13\": 19, \"3\": 1, \"9\": 3, \"7\": 1, \"15\": 2}, \"14\": {\"10\": 15, \"14\": 148, \"4\": 43, \"0\": 28, \"8\": 3, \"1\": 3}, \"8\": {\"8\": 138, \"7\": 30, \"14\": 5, \"0\": 20, \"10\": 26, \"4\": 16, \"15\": 5}, \"7\": {\"8\": 18, \"7\": 187, \"15\": 1, \"2\": 15, \"4\": 7, \"3\": 12}, \"6\": {\"6\": 220, \"15\": 15, \"9\": 2, \"10\": 3}, \"11\": {\"11\": 240}, \"15\": {\"15\": 188, \"9\": 21, \"0\": 1, \"6\": 8, \"13\": 3, \"8\": 9, \"5\": 3, \"2\": 4, \"10\": 3}, \"1\": {\"1\": 221, \"14\": 14, \"4\": 4, \"7\": 1}}, \"ORACLE.run144\": {\"12\": {\"12\": 215, \"1\": 22, \"10\": 3}, \"7\": {\"7\": 173, \"2\": 29, \"9\": 35, \"6\": 3}, \"5\": {\"5\": 210, \"14\": 7, \"15\": 6, \"0\": 14, \"4\": 1, \"8\": 2}, \"15\": {\"15\": 218, \"14\": 6, \"5\": 2, \"0\": 9, \"8\": 5}, \"8\": {\"0\": 85, \"8\": 147, \"5\": 2, \"15\": 6}, \"2\": {\"2\": 193, \"7\": 31, \"10\": 10, \"1\": 6}, \"13\": {\"13\": 176, \"6\": 34, \"9\": 30}, \"4\": {\"14\": 66, \"4\": 173, \"15\": 1}, \"0\": {\"0\": 170, \"5\": 7, \"8\": 57, \"15\": 6}, \"6\": {\"6\": 185, \"9\": 23, \"13\": 27, \"7\": 5}, \"9\": {\"13\": 30, \"7\": 52, \"9\": 147, \"6\": 11}, \"11\": {\"11\": 234, \"13\": 5, \"6\": 1}, \"10\": {\"1\": 13, \"10\": 215, \"2\": 5, \"12\": 6, \"7\": 1}, \"14\": {\"14\": 158, \"4\": 68, \"15\": 11, \"5\": 3}, \"1\": {\"1\": 166, \"3\": 8, \"12\": 40, \"2\": 13, \"10\": 13}, \"3\": {\"3\": 231, \"1\": 7, \"2\": 1, \"12\": 1}}, \"Wisig_3\": {\"109\": {\"84\": 4, \"109\": 47, \"57\": 1, \"96\": 2, \"43\": 2, \"82\": 1, \"69\": 8, \"14\": 1, \"16\": 14, \"89\": 1, \"26\": 2, \"93\": 4, \"118\": 6, \"11\": 3, \"88\": 8, \"70\": 3, \"33\": 3, \"90\": 3, \"117\": 2, \"61\": 1, \"32\": 1, \"121\": 2, \"18\": 3, \"29\": 1, \"113\": 1, \"39\": 1, \"62\": 2, \"1\": 1}, \"127\": {\"127\": 103, \"70\": 1, \"12\": 1, \"124\": 4, \"110\": 2, \"71\": 2, \"10\": 4, \"105\": 4, \"4\": 2, \"69\": 1, \"86\": 1, \"8\": 1, \"3\": 1, \"7\": 1}, \"14\": {\"21\": 1, \"57\": 1, \"14\": 51, \"107\": 1, \"62\": 9, \"29\": 2, \"16\": 5, \"1\": 1, \"70\": 2, \"11\": 2, \"32\": 2, \"31\": 1, \"69\": 1, \"110\": 1}, \"7\": {\"7\": 82, \"42\": 1, \"71\": 1, \"12\": 5, \"10\": 2, \"0\": 2, \"3\": 3, \"27\": 2, \"111\": 3, \"124\": 1, \"4\": 1, \"95\": 1, \"117\": 1, \"98\": 6, \"88\": 1}, \"129\": {\"107\": 2, \"120\": 1, \"84\": 1, \"110\": 2, \"129\": 14, \"62\": 2, \"5\": 3, \"87\": 1, \"114\": 1, \"1\": 2, \"14\": 1, \"115\": 1, \"11\": 1}, \"57\": {\"57\": 20}, \"84\": {\"100\": 2, \"84\": 68, \"116\": 3, \"82\": 4, \"93\": 3, \"109\": 1, \"69\": 4, \"16\": 3, \"90\": 6, \"33\": 4, \"87\": 3, \"26\": 3, \"102\": 2, \"92\": 1, \"43\": 1}, \"114\": {\"114\": 73, \"129\": 1, \"3\": 2, \"29\": 1, \"110\": 3, \"105\": 8, \"1\": 6, \"5\": 5, \"127\": 3, \"107\": 5, \"4\": 2, \"40\": 7, \"87\": 1, \"28\": 1, \"66\": 1, \"108\": 1, \"99\": 1, \"55\": 1, \"113\": 1, \"11\": 1}, \"44\": {\"44\": 35, \"84\": 5, \"49\": 2, \"31\": 1, \"60\": 2, \"69\": 3, \"26\": 1, \"53\": 2, \"1\": 1, \"70\": 1, \"113\": 1, \"76\": 1, \"48\": 1, \"114\": 3, \"89\": 1, \"29\": 2, \"90\": 2, \"87\": 2, \"43\": 2, \"40\": 2, \"23\": 1, \"102\": 1}, \"21\": {\"21\": 25, \"126\": 1, \"43\": 1, \"121\": 1, \"14\": 3, \"39\": 5, \"11\": 1, \"36\": 1, \"109\": 1, \"80\": 1, \"101\": 1, \"122\": 1, \"118\": 2, \"94\": 1, \"23\": 1, \"16\": 1, \"110\": 1}, \"46\": {\"46\": 12, \"128\": 1, \"5\": 2, \"124\": 1}, \"100\": {\"107\": 1, \"100\": 13, \"122\": 1, \"29\": 1}, \"63\": {\"63\": 8, \"123\": 3, \"121\": 1, \"92\": 1, \"18\": 1, \"80\": 1, \"122\": 1}, \"24\": {\"24\": 13, \"83\": 1, \"14\": 1, \"106\": 3, \"127\": 2, \"37\": 1, \"9\": 1, \"93\": 1, \"91\": 1, \"8\": 2, \"73\": 1, \"70\": 2, \"114\": 1, \"71\": 1, \"125\": 1, \"0\": 2, \"42\": 1, \"30\": 3, \"6\": 2, \"12\": 2, \"94\": 1, \"40\": 1, \"36\": 3, \"27\": 1}, \"107\": {\"57\": 1, \"107\": 90, \"115\": 1, \"32\": 2, \"62\": 7, \"50\": 2, \"40\": 6, \"1\": 5, \"88\": 1, \"84\": 1, \"110\": 1, \"108\": 1}, \"35\": {\"7\": 1, \"24\": 1, \"35\": 7, \"51\": 1, \"62\": 1, \"41\": 1}, \"81\": {\"81\": 22, \"67\": 1, \"31\": 1, \"18\": 1, \"96\": 1, \"39\": 1, \"126\": 1, \"123\": 1, \"2\": 1, \"43\": 1, \"113\": 1}, \"64\": {\"64\": 20}, \"59\": {\"36\": 2, \"59\": 6, \"106\": 1, \"51\": 1, \"0\": 2}, \"33\": {\"33\": 93, \"93\": 1, \"102\": 7, \"90\": 1, \"117\": 1, \"118\": 2, \"43\": 1, \"26\": 6, \"126\": 1, \"39\": 1}, \"34\": {\"59\": 2, \"58\": 2, \"111\": 2, \"94\": 2, \"14\": 1, \"129\": 4, \"37\": 1, \"30\": 1, \"122\": 1, \"87\": 1, \"27\": 1, \"16\": 1, \"125\": 1, \"25\": 1, \"109\": 1, \"34\": 4, \"40\": 1, \"32\": 1, \"1\": 1, \"15\": 3}, \"36\": {\"36\": 26, \"59\": 1, \"0\": 5, \"51\": 1, \"27\": 4, \"12\": 7, \"52\": 1, \"124\": 3, \"10\": 7, \"58\": 1, \"97\": 2, \"91\": 2, \"98\": 1, \"73\": 1, \"8\": 9, \"6\": 1, \"106\": 9, \"30\": 4, \"111\": 5, \"125\": 8, \"94\": 3, \"108\": 5, \"105\": 2, \"7\": 1, \"15\": 5, \"37\": 1, \"4\": 2, \"70\": 1, \"127\": 1, \"88\": 1}, \"79\": {\"79\": 9, \"14\": 1, \"87\": 1, \"90\": 1}, \"80\": {\"80\": 14, \"123\": 1, \"92\": 1}, \"77\": {\"77\": 11, \"81\": 1, \"8\": 1, \"4\": 1, \"83\": 2}, \"22\": {\"22\": 12, \"69\": 1, \"116\": 1, \"21\": 1, \"100\": 1}, \"124\": {\"124\": 75, \"10\": 8, \"24\": 1, \"99\": 3, \"127\": 8, \"85\": 4, \"71\": 3, \"3\": 3, \"12\": 1, \"4\": 4, \"39\": 1, \"8\": 2, \"7\": 1, \"5\": 3, \"0\": 2, \"47\": 1, \"41\": 2, \"49\": 1, \"21\": 1}, \"2\": {\"2\": 14, \"81\": 1, \"117\": 4, \"69\": 1, \"89\": 1, \"26\": 3, \"126\": 2, \"39\": 1, \"118\": 1}, \"87\": {\"33\": 4, \"105\": 2, \"107\": 4, \"100\": 1, \"60\": 2, \"57\": 1, \"44\": 6, \"87\": 27, \"88\": 3, \"11\": 9, \"110\": 3, \"39\": 3, \"14\": 1, \"69\": 2, \"71\": 3, \"26\": 1, \"108\": 2, \"40\": 1, \"84\": 7, \"114\": 5, \"102\": 5, \"1\": 3, \"62\": 4, \"5\": 2, \"109\": 2, \"29\": 1, \"21\": 3, \"126\": 1, \"70\": 1, \"90\": 2, \"16\": 1}, \"105\": {\"105\": 96, \"9\": 4, \"5\": 6, \"108\": 2, \"4\": 4, \"40\": 1, \"122\": 1, \"86\": 1, \"114\": 4, \"127\": 3}, \"95\": {\"95\": 32}, \"43\": {\"43\": 12, \"113\": 2, \"123\": 2, \"26\": 2, \"117\": 1, \"121\": 2, \"107\": 1, \"50\": 1, \"88\": 1, \"39\": 3, \"13\": 1, \"122\": 1, \"118\": 3, \"102\": 2, \"126\": 1, \"89\": 1, \"11\": 2, \"93\": 1, \"69\": 2, \"119\": 1, \"44\": 1, \"76\": 2, \"87\": 1, \"29\": 1, \"18\": 1, \"120\": 1, \"62\": 2, \"78\": 1, \"21\": 1, \"33\": 1, \"70\": 2}, \"56\": {\"56\": 6, \"8\": 1, \"47\": 1, \"128\": 1, \"85\": 1, \"99\": 2}, \"18\": {\"123\": 1, \"18\": 107, \"126\": 5, \"81\": 1, \"26\": 2, \"11\": 1, \"113\": 1, \"67\": 2, \"14\": 1, \"39\": 1, \"117\": 1, \"125\": 1}, \"85\": {\"56\": 1, \"86\": 1, \"85\": 26, \"42\": 2, \"52\": 2, \"3\": 2, \"108\": 1, \"10\": 1}, \"113\": {\"126\": 4, \"123\": 1, \"113\": 41, \"44\": 1, \"39\": 7, \"93\": 6, \"43\": 4, \"81\": 1, \"120\": 1, \"92\": 1, \"18\": 5, \"89\": 1, \"33\": 4, \"117\": 9, \"26\": 11, \"62\": 1, \"109\": 7, \"88\": 1, \"69\": 1, \"107\": 2, \"118\": 2, \"11\": 1, \"119\": 2, \"122\": 1, \"102\": 1, \"80\": 2, \"14\": 1, \"87\": 1}, \"97\": {\"97\": 6, \"59\": 1, \"58\": 2, \"126\": 1, \"73\": 3, \"94\": 1, \"36\": 1, \"15\": 1, \"13\": 1, \"111\": 1, \"27\": 1, \"24\": 1}, \"86\": {\"128\": 2, \"49\": 2, \"86\": 14, \"105\": 2, \"84\": 1, \"46\": 1, \"48\": 2, \"108\": 1, \"4\": 1, \"15\": 1, \"125\": 1}, \"128\": {\"56\": 1, \"128\": 10, \"50\": 1, \"115\": 1, \"122\": 2, \"5\": 2, \"14\": 1, \"52\": 1, \"11\": 1, \"110\": 2, \"124\": 1, \"10\": 1, \"88\": 2, \"22\": 1, \"28\": 1, \"85\": 1, \"104\": 1, \"125\": 1, \"42\": 1}, \"123\": {\"126\": 4, \"81\": 1, \"67\": 1, \"123\": 8, \"63\": 2}, \"8\": {\"86\": 4, \"8\": 46, \"65\": 2, \"35\": 1, \"77\": 1, \"27\": 4, \"43\": 1, \"42\": 2, \"91\": 1, \"127\": 14, \"30\": 2, \"71\": 1, \"3\": 1, \"36\": 1, \"12\": 5, \"10\": 13, \"98\": 4, \"124\": 2, \"7\": 4, \"108\": 9, \"0\": 2, \"105\": 2, \"55\": 1, \"47\": 1, \"73\": 1, \"128\": 1, \"24\": 1, \"88\": 1, \"111\": 2}, \"110\": {\"110\": 38, \"67\": 1, \"63\": 1, \"107\": 4, \"78\": 1, \"11\": 5, \"128\": 1, \"88\": 4, \"14\": 1, \"19\": 1, \"71\": 2, \"126\": 3, \"0\": 1, \"93\": 1, \"114\": 5, \"1\": 7, \"17\": 1, \"46\": 1, \"122\": 2, \"101\": 1, \"21\": 1, \"5\": 3, \"62\": 1, \"69\": 1, \"108\": 3}, \"126\": {\"18\": 19, \"43\": 3, \"119\": 1, \"57\": 1, \"126\": 31, \"118\": 4, \"120\": 1, \"26\": 4, \"113\": 4, \"94\": 1, \"89\": 2, \"102\": 2, \"125\": 1, \"87\": 3, \"109\": 2, \"93\": 8, \"106\": 1, \"81\": 1, \"123\": 1, \"122\": 1, \"2\": 1, \"107\": 1, \"16\": 3, \"70\": 1, \"62\": 1, \"88\": 2, \"117\": 2, \"39\": 2}, \"42\": {\"42\": 8, \"114\": 2, \"41\": 2, \"19\": 1, \"44\": 1, \"12\": 1, \"91\": 1, \"127\": 2, \"58\": 1, \"65\": 1, \"40\": 1, \"128\": 2, \"59\": 1, \"101\": 2, \"23\": 1, \"8\": 1}, \"96\": {\"121\": 1, \"113\": 1, \"96\": 8, \"81\": 1, \"26\": 1, \"21\": 1, \"43\": 2, \"17\": 1, \"109\": 2, \"117\": 2}, \"83\": {\"83\": 20, \"42\": 1, \"72\": 1, \"112\": 1, \"5\": 1}, \"54\": {\"54\": 13, \"94\": 1, \"25\": 1, \"37\": 1}, \"65\": {\"83\": 2, \"44\": 1, \"4\": 1, \"1\": 1, \"65\": 4, \"55\": 1, \"8\": 1, \"93\": 1}, \"30\": {\"83\": 1, \"30\": 21, \"108\": 4, \"58\": 2, \"36\": 6, \"12\": 2, \"73\": 5, \"0\": 3, \"10\": 7, \"8\": 6, \"101\": 1, \"94\": 1, \"125\": 1, \"69\": 1, \"15\": 4, \"127\": 3, \"106\": 1, \"25\": 1, \"124\": 1, \"68\": 1, \"9\": 1, \"55\": 1, \"126\": 1, \"99\": 1, \"98\": 2, \"4\": 1, \"27\": 4, \"111\": 1}, \"121\": {\"96\": 1, \"44\": 1, \"11\": 1, \"80\": 1, \"64\": 2, \"88\": 1, \"121\": 7, \"21\": 1, \"81\": 2, \"39\": 1, \"18\": 1, \"23\": 2, \"14\": 1, \"62\": 1, \"109\": 3, \"117\": 1, \"90\": 2, \"93\": 2, \"84\": 1}, \"68\": {\"30\": 2, \"68\": 12, \"12\": 1, \"119\": 1}, \"45\": {\"100\": 1, \"48\": 1, \"45\": 9, \"84\": 1, \"20\": 1, \"76\": 1, \"94\": 1, \"87\": 1}, \"48\": {\"44\": 1, \"83\": 2, \"47\": 4, \"76\": 2, \"79\": 1, \"85\": 1, \"81\": 1, \"61\": 1, \"48\": 1, \"105\": 1, \"121\": 1}, \"4\": {\"4\": 46, \"8\": 3, \"9\": 2, \"127\": 5, \"108\": 2, \"7\": 1, \"5\": 6, \"117\": 1, \"105\": 9, \"3\": 7, \"71\": 5, \"10\": 2, \"40\": 1, \"99\": 1, \"86\": 1, \"23\": 1, \"124\": 2, \"114\": 1}, \"67\": {\"67\": 14, \"63\": 1, \"39\": 1}, \"103\": {\"103\": 10, \"108\": 1, \"5\": 1, \"30\": 1, \"4\": 1, \"85\": 1, \"31\": 1}, \"74\": {\"74\": 15, \"122\": 1}, \"1\": {\"65\": 1, \"1\": 79, \"129\": 2, \"38\": 1, \"122\": 1, \"110\": 5, \"70\": 2, \"114\": 2, \"87\": 1, \"40\": 5, \"50\": 1, \"107\": 4, \"109\": 1, \"24\": 1, \"105\": 1, \"108\": 1}, \"61\": {\"67\": 3, \"61\": 10, \"116\": 2, \"39\": 1}, \"101\": {\"101\": 28, \"68\": 3, \"0\": 6, \"9\": 1, \"15\": 2, \"42\": 1, \"97\": 1, \"91\": 2, \"6\": 1, \"84\": 1, \"94\": 1, \"58\": 1, \"12\": 1, \"95\": 1, \"30\": 1, \"24\": 1}, \"93\": {\"14\": 5, \"93\": 58, \"13\": 1, \"121\": 2, \"64\": 1, \"118\": 5, \"33\": 13, \"26\": 8, \"39\": 2, \"117\": 8, \"43\": 1, \"102\": 3, \"110\": 1, \"16\": 3, \"69\": 2, \"109\": 8, \"113\": 4, \"90\": 1, \"107\": 1, \"11\": 4, \"62\": 2, \"120\": 1, \"82\": 1, \"70\": 2, \"18\": 1}, \"26\": {\"93\": 5, \"26\": 76, \"102\": 4, \"116\": 1, \"120\": 1, \"82\": 1, \"84\": 1, \"43\": 1, \"126\": 2, \"39\": 3, \"69\": 1, \"118\": 2, \"117\": 12, \"14\": 1, \"88\": 2, \"33\": 8, \"81\": 1, \"110\": 1, \"109\": 1, \"113\": 5, \"16\": 1}, \"71\": {\"103\": 1, \"4\": 2, \"71\": 45, \"46\": 1, \"107\": 1, \"113\": 1, \"105\": 1, \"3\": 4, \"127\": 5, \"114\": 1, \"122\": 1, \"5\": 2, \"18\": 1, \"42\": 1, \"10\": 1}, \"15\": {\"15\": 47, \"97\": 1, \"98\": 7, \"72\": 2, \"27\": 2, \"36\": 4, \"101\": 4, \"24\": 2, \"12\": 6, \"124\": 1, \"18\": 2, \"111\": 2, \"127\": 1, \"8\": 3, \"30\": 6, \"0\": 7, \"94\": 2, \"35\": 1, \"7\": 1, \"95\": 1, \"106\": 1, \"10\": 1}, \"55\": {\"55\": 15, \"5\": 1}, \"104\": {\"55\": 1, \"104\": 11, \"23\": 1, \"9\": 1, \"128\": 1, \"5\": 1}, \"112\": {\"104\": 2, \"101\": 1, \"4\": 1, \"99\": 1, \"112\": 5, \"42\": 1, \"19\": 1, \"5\": 1, \"27\": 1, \"127\": 2}, \"102\": {\"79\": 1, \"102\": 72, \"13\": 2, \"43\": 1, \"84\": 3, \"33\": 19, \"118\": 5, \"109\": 3, \"117\": 3, \"26\": 4, \"93\": 3, \"107\": 1, \"82\": 1, \"80\": 1, \"69\": 2, \"87\": 1}, \"117\": {\"117\": 55, \"67\": 1, \"93\": 4, \"43\": 1, \"121\": 3, \"81\": 1, \"39\": 7, \"118\": 1, \"102\": 3, \"26\": 10, \"14\": 1, \"88\": 1, \"33\": 7, \"109\": 4, \"113\": 6, \"61\": 1, \"87\": 2, \"23\": 1, \"90\": 1, \"126\": 1, \"16\": 1}, \"119\": {\"119\": 15, \"102\": 1}, \"20\": {\"20\": 6, \"122\": 1, \"125\": 1, \"61\": 1, \"114\": 1, \"45\": 1, \"79\": 1, \"60\": 1, \"129\": 2, \"40\": 1}, \"120\": {\"120\": 17, \"39\": 1, \"43\": 2}, \"39\": {\"92\": 1, \"64\": 1, \"113\": 7, \"28\": 1, \"62\": 4, \"2\": 1, \"82\": 1, \"93\": 4, \"14\": 6, \"39\": 19, \"63\": 1, \"117\": 11, \"26\": 4, \"18\": 11, \"43\": 3, \"102\": 3, \"88\": 2, \"109\": 9, \"126\": 5, \"90\": 2, \"118\": 4, \"84\": 1, \"33\": 1, \"119\": 1, \"96\": 1, \"21\": 2, \"11\": 1, \"89\": 1}, \"49\": {\"49\": 6, \"8\": 2, \"66\": 1, \"10\": 1, \"22\": 1, \"77\": 1, \"107\": 1, \"91\": 1, \"86\": 1, \"82\": 1, \"53\": 1, \"121\": 1, \"65\": 1, \"124\": 1, \"33\": 1, \"44\": 1, \"19\": 1, \"40\": 1}, \"53\": {\"53\": 18, \"90\": 1, \"44\": 1}, \"92\": {\"120\": 2, \"92\": 17, \"26\": 4, \"2\": 1, \"39\": 2, \"16\": 2, \"118\": 2, \"31\": 1, \"84\": 1}, \"3\": {\"3\": 80, \"4\": 6, \"103\": 2, \"5\": 4, \"86\": 2, \"108\": 4, \"19\": 1, \"71\": 5, \"127\": 3, \"105\": 2, \"124\": 2, \"7\": 2, \"112\": 1, \"56\": 1, \"114\": 1}, \"47\": {\"83\": 1, \"47\": 11}, \"115\": {\"115\": 7, \"122\": 3, \"32\": 1, \"107\": 1, \"62\": 1, \"14\": 2, \"87\": 1}, \"58\": {\"97\": 2, \"58\": 12, \"72\": 1, \"30\": 1}, \"29\": {\"29\": 16, \"90\": 2, \"21\": 1, \"123\": 2, \"11\": 1, \"116\": 1, \"93\": 1, \"32\": 1, \"113\": 1, \"88\": 1, \"44\": 3, \"107\": 2}, \"12\": {\"12\": 47, \"72\": 2, \"36\": 3, \"85\": 1, \"27\": 1, \"73\": 1, \"99\": 1, \"106\": 1, \"0\": 4, \"101\": 1, \"15\": 7, \"91\": 1, \"108\": 1, \"111\": 8, \"10\": 4, \"8\": 3, \"7\": 3, \"124\": 4, \"97\": 1, \"4\": 1, \"30\": 4, \"56\": 1, \"42\": 1, \"127\": 1, \"98\": 2}, \"62\": {\"62\": 79, \"11\": 8, \"82\": 1, \"107\": 2, \"110\": 1, \"69\": 5, \"26\": 1, \"14\": 5, \"88\": 1, \"109\": 3, \"87\": 4, \"93\": 1, \"90\": 1, \"29\": 1, \"118\": 3, \"84\": 1, \"40\": 1}, \"11\": {\"121\": 1, \"80\": 1, \"88\": 7, \"11\": 42, \"69\": 3, \"21\": 6, \"87\": 6, \"107\": 9, \"92\": 1, \"40\": 5, \"39\": 1, \"62\": 10, \"14\": 7, \"44\": 2, \"109\": 6, \"1\": 1, \"16\": 10, \"126\": 2, \"102\": 2, \"84\": 1, \"93\": 6, \"90\": 3, \"45\": 1, \"43\": 1, \"70\": 2, \"60\": 1, \"118\": 1, \"113\": 1, \"26\": 1}, \"72\": {\"72\": 20, \"73\": 1, \"0\": 3, \"111\": 2, \"94\": 1, \"12\": 1}, \"98\": {\"98\": 63, \"15\": 6, \"7\": 9, \"0\": 4, \"95\": 1, \"36\": 7, \"12\": 1, \"111\": 8, \"106\": 2, \"125\": 2, \"30\": 1, \"3\": 2}, \"122\": {\"122\": 25, \"11\": 2, \"19\": 2, \"1\": 8, \"74\": 1, \"115\": 2, \"5\": 1, \"62\": 2, \"110\": 1, \"128\": 1, \"39\": 1, \"70\": 2, \"40\": 4, \"32\": 1, \"66\": 1, \"129\": 2, \"21\": 1, \"57\": 1, \"113\": 2}, \"17\": {\"100\": 1, \"80\": 1, \"64\": 2, \"67\": 1, \"63\": 1, \"120\": 1, \"105\": 1, \"17\": 1, \"108\": 1, \"104\": 1, \"113\": 1, \"35\": 1, \"61\": 1, \"94\": 1, \"16\": 1}, \"94\": {\"59\": 2, \"0\": 5, \"27\": 4, \"94\": 38, \"101\": 2, \"106\": 5, \"6\": 5, \"15\": 1, \"30\": 2, \"125\": 7, \"111\": 2, \"36\": 2, \"98\": 1, \"51\": 1, \"73\": 3, \"34\": 2, \"12\": 1, \"24\": 1}, \"106\": {\"106\": 56, \"59\": 1, \"98\": 3, \"24\": 3, \"72\": 1, \"12\": 1, \"94\": 3, \"6\": 1, \"36\": 4, \"0\": 5, \"15\": 5, \"27\": 1, \"125\": 1, \"30\": 1, \"101\": 1, \"111\": 2, \"126\": 1}, \"28\": {\"28\": 14, \"60\": 1, \"21\": 1}, \"69\": {\"69\": 63, \"18\": 1, \"102\": 3, \"118\": 2, \"113\": 2, \"84\": 4, \"90\": 1, \"82\": 2, \"23\": 1, \"109\": 1, \"11\": 1, \"117\": 1, \"87\": 1, \"62\": 1}, \"125\": {\"125\": 106, \"25\": 1, \"6\": 1, \"109\": 2, \"98\": 1, \"39\": 1, \"27\": 2}, \"19\": {\"42\": 2, \"41\": 1, \"86\": 2, \"1\": 3, \"104\": 1, \"55\": 1, \"30\": 1, \"107\": 3, \"52\": 1, \"9\": 2, \"21\": 1, \"127\": 1, \"110\": 1, \"10\": 1, \"19\": 2, \"53\": 1, \"73\": 1, \"4\": 1, \"100\": 1, \"60\": 1, \"85\": 1, \"56\": 1, \"105\": 1, \"44\": 1}, \"41\": {\"41\": 11, \"52\": 1, \"99\": 2, \"35\": 1, \"68\": 1}, \"60\": {\"60\": 7, \"20\": 2, \"57\": 1, \"43\": 2, \"78\": 1, \"89\": 1, \"28\": 1, \"128\": 1, \"90\": 1, \"19\": 1, \"44\": 1, \"1\": 1, \"40\": 1, \"115\": 2, \"17\": 1, \"22\": 1, \"123\": 1, \"129\": 1, \"62\": 1}, \"70\": {\"122\": 2, \"42\": 1, \"103\": 1, \"88\": 4, \"109\": 4, \"108\": 6, \"70\": 11, \"110\": 2, \"21\": 1, \"16\": 1, \"93\": 2, \"129\": 1, \"11\": 4, \"24\": 1, \"27\": 2, \"124\": 1, \"39\": 1, \"105\": 2, \"10\": 2, \"3\": 3, \"8\": 3, \"9\": 2, \"5\": 4, \"112\": 1, \"18\": 2, \"114\": 3, \"113\": 2, \"87\": 1, \"62\": 1, \"127\": 1}, \"27\": {\"72\": 1, \"27\": 25, \"25\": 3, \"35\": 1, \"47\": 1, \"8\": 9, \"42\": 3, \"97\": 2, \"52\": 1, \"75\": 2, \"24\": 2, \"30\": 2, \"106\": 2, \"125\": 11, \"15\": 2, \"10\": 4, \"12\": 3, \"124\": 3, \"4\": 1, \"0\": 2, \"127\": 3, \"85\": 1, \"99\": 1, \"108\": 1, \"91\": 1, \"68\": 1, \"94\": 3, \"101\": 1, \"111\": 1, \"3\": 1, \"6\": 1, \"36\": 1}, \"10\": {\"72\": 1, \"68\": 3, \"0\": 3, \"10\": 37, \"88\": 4, \"108\": 7, \"127\": 7, \"32\": 2, \"12\": 4, \"1\": 3, \"128\": 2, \"30\": 5, \"99\": 2, \"101\": 1, \"70\": 2, \"110\": 3, \"8\": 8, \"113\": 2, \"111\": 4, \"40\": 1, \"105\": 3, \"11\": 2, \"124\": 1, \"5\": 2, \"91\": 2, \"122\": 1, \"109\": 1, \"15\": 2, \"107\": 1, \"36\": 2}, \"108\": {\"83\": 1, \"10\": 7, \"27\": 1, \"88\": 6, \"127\": 18, \"66\": 1, \"108\": 39, \"5\": 7, \"85\": 3, \"86\": 1, \"52\": 1, \"113\": 1, \"3\": 4, \"32\": 1, \"110\": 8, \"18\": 1, \"1\": 1, \"71\": 2, \"0\": 1, \"12\": 1, \"70\": 2, \"105\": 6, \"4\": 4, \"111\": 2, \"124\": 2, \"36\": 1, \"114\": 2, \"122\": 2, \"8\": 4, \"28\": 2, \"42\": 1, \"24\": 1, \"99\": 1, \"56\": 1, \"95\": 1, \"118\": 1, \"109\": 1, \"11\": 1}, \"9\": {\"108\": 1, \"9\": 23, \"112\": 1, \"105\": 4, \"40\": 2, \"128\": 1}, \"25\": {\"25\": 11, \"106\": 2, \"61\": 1, \"6\": 2}, \"37\": {\"37\": 15, \"21\": 1}, \"0\": {\"101\": 3, \"8\": 6, \"0\": 48, \"98\": 6, \"12\": 2, \"99\": 1, \"30\": 6, \"27\": 6, \"106\": 3, \"4\": 2, \"15\": 3, \"94\": 2, \"127\": 5, \"111\": 5, \"105\": 1, \"124\": 2, \"36\": 6, \"10\": 3, \"73\": 2, \"24\": 1, \"5\": 1, \"3\": 1, \"108\": 1}, \"66\": {\"66\": 13, \"1\": 1, \"55\": 1, \"36\": 1}, \"51\": {\"51\": 13, \"37\": 2, \"68\": 1}, \"76\": {\"76\": 15, \"116\": 1}, \"32\": {\"32\": 11, \"64\": 1, \"115\": 1, \"33\": 2, \"11\": 1, \"122\": 2, \"1\": 1, \"107\": 2, \"29\": 1, \"55\": 2, \"70\": 1, \"100\": 1, \"129\": 2, \"19\": 1, \"77\": 1, \"88\": 1, \"62\": 1}, \"88\": {\"88\": 38, \"57\": 1, \"11\": 4, \"21\": 2, \"128\": 1, \"3\": 3, \"43\": 2, \"19\": 1, \"122\": 2, \"71\": 1, \"1\": 5, \"114\": 6, \"126\": 1, \"39\": 5, \"90\": 1, \"110\": 4, \"108\": 6, \"16\": 1, \"109\": 4, \"10\": 1, \"40\": 2, \"87\": 3, \"93\": 2, \"18\": 2, \"5\": 2, \"105\": 2, \"113\": 2, \"70\": 4, \"33\": 1, \"24\": 1, \"107\": 1, \"127\": 1}, \"31\": {\"31\": 14, \"88\": 1, \"64\": 1, \"120\": 1, \"17\": 1, \"70\": 1, \"92\": 1}, \"91\": {\"27\": 3, \"91\": 6, \"12\": 1, \"19\": 1, \"8\": 2, \"10\": 1, \"73\": 1, \"124\": 2, \"35\": 1, \"52\": 1, \"15\": 2, \"105\": 1, \"7\": 1, \"111\": 1}, \"90\": {\"90\": 80, \"79\": 2, \"93\": 4, \"102\": 3, \"60\": 1, \"82\": 1, \"118\": 4, \"109\": 3, \"62\": 3, \"39\": 3, \"11\": 3, \"40\": 1, \"33\": 9, \"84\": 3, \"44\": 1, \"16\": 1, \"69\": 2, \"88\": 1, \"87\": 1}, \"13\": {\"79\": 1, \"26\": 2, \"13\": 4, \"43\": 1, \"113\": 1, \"82\": 3, \"33\": 2, \"101\": 1, \"102\": 1}, \"50\": {\"50\": 11, \"1\": 2, \"129\": 1, \"32\": 1, \"14\": 1}, \"78\": {\"50\": 2, \"21\": 2, \"114\": 2, \"109\": 1, \"122\": 1, \"62\": 2, \"123\": 1, \"129\": 1, \"60\": 1, \"88\": 1, \"78\": 1, \"43\": 1}, \"116\": {\"11\": 2, \"21\": 1, \"120\": 1, \"116\": 6, \"96\": 1, \"84\": 1, \"26\": 3, \"109\": 4, \"93\": 1, \"44\": 1, \"69\": 1, \"14\": 2, \"43\": 1, \"117\": 1, \"92\": 2}, \"5\": {\"5\": 80, \"104\": 4, \"108\": 2, \"86\": 1, \"1\": 1, \"71\": 2, \"114\": 1, \"105\": 5, \"127\": 3, \"90\": 1, \"3\": 3, \"4\": 4, \"19\": 1, \"18\": 1, \"40\": 1, \"124\": 2}, \"75\": {\"75\": 16}, \"89\": {\"89\": 21, \"16\": 1, \"102\": 1, \"93\": 1, \"84\": 1, \"26\": 1, \"115\": 1, \"116\": 1}, \"16\": {\"96\": 1, \"16\": 45, \"69\": 6, \"33\": 2, \"39\": 3, \"109\": 7, \"118\": 8, \"93\": 8, \"14\": 1, \"84\": 4, \"90\": 3, \"26\": 4, \"102\": 4, \"0\": 1, \"11\": 6, \"126\": 2, \"18\": 1, \"17\": 1, \"116\": 1, \"43\": 1, \"23\": 1, \"62\": 2, \"107\": 3, \"113\": 1}, \"38\": {\"19\": 2, \"5\": 2, \"38\": 10, \"43\": 1, \"103\": 1}, \"118\": {\"93\": 4, \"33\": 8, \"118\": 18, \"102\": 9, \"78\": 1, \"23\": 1, \"21\": 1, \"113\": 4, \"117\": 6, \"16\": 3, \"26\": 9, \"11\": 5, \"39\": 2, \"109\": 11, \"84\": 5, \"110\": 1, \"79\": 1, \"57\": 1, \"64\": 1, \"69\": 2, \"14\": 3, \"43\": 1, \"18\": 1, \"107\": 1, \"1\": 1}, \"99\": {\"99\": 22, \"124\": 5, \"125\": 1, \"8\": 1, \"85\": 1, \"12\": 1, \"4\": 1, \"127\": 4}, \"52\": {\"52\": 12, \"124\": 3, \"85\": 1}, \"111\": {\"111\": 91, \"73\": 1, \"0\": 6, \"95\": 4, \"12\": 4, \"8\": 1, \"15\": 3, \"98\": 4, \"101\": 3, \"36\": 5, \"7\": 4, \"97\": 1, \"10\": 1}, \"23\": {\"126\": 2, \"99\": 2, \"109\": 1, \"18\": 1, \"11\": 2, \"127\": 3, \"23\": 4, \"89\": 2, \"30\": 1, \"122\": 1, \"10\": 2, \"108\": 2, \"27\": 1, \"93\": 1, \"14\": 1, \"124\": 2, \"105\": 1, \"102\": 1, \"9\": 1, \"113\": 1}, \"73\": {\"73\": 22, \"72\": 1, \"12\": 3, \"98\": 1, \"101\": 1, \"6\": 1, \"7\": 1, \"91\": 1, \"111\": 4, \"15\": 2, \"97\": 2, \"0\": 1}, \"82\": {\"82\": 20, \"90\": 1, \"93\": 1, \"39\": 1, \"53\": 1, \"84\": 1, \"80\": 1, \"14\": 1, \"85\": 1}, \"40\": {\"40\": 85, \"29\": 1, \"9\": 2, \"114\": 5, \"1\": 10, \"32\": 1, \"107\": 7, \"105\": 6, \"14\": 1, \"10\": 1, \"108\": 1, \"93\": 2, \"22\": 1, \"128\": 1, \"55\": 1, \"122\": 1, \"16\": 1, \"5\": 1}, \"6\": {\"94\": 6, \"6\": 20, \"106\": 1, \"125\": 1, \"24\": 2, \"25\": 1, \"58\": 1}}, \"Wisig_4\": {\"28\": {\"28\": 19, \"128\": 1}, \"4\": {\"4\": 73, \"11\": 1, \"112\": 1, \"86\": 4, \"101\": 3, \"8\": 1, \"124\": 3, \"0\": 4, \"122\": 1, \"24\": 1, \"71\": 4, \"91\": 1, \"95\": 1, \"62\": 1, \"114\": 2, \"127\": 1, \"36\": 2}, \"72\": {\"14\": 1, \"43\": 1, \"22\": 2, \"107\": 1, \"72\": 13, \"99\": 2, \"102\": 1, \"87\": 1, \"88\": 1, \"4\": 1, \"11\": 1, \"8\": 1, \"35\": 1, \"60\": 1, \"78\": 2, \"109\": 1, \"33\": 1}, \"111\": {\"111\": 83, \"95\": 3, \"34\": 2, \"16\": 1, \"94\": 2, \"106\": 9, \"98\": 5, \"15\": 5, \"127\": 9, \"101\": 4, \"12\": 4, \"8\": 1, \"86\": 1, \"4\": 2, \"18\": 1, \"0\": 3, \"117\": 1}, \"108\": {\"96\": 2, \"108\": 21, \"46\": 1, \"88\": 3, \"14\": 7, \"60\": 1, \"109\": 3, \"11\": 10, \"99\": 3, \"113\": 3, \"62\": 4, \"122\": 2, \"94\": 1, \"107\": 2, \"125\": 1, \"110\": 5, \"43\": 4, \"18\": 1, \"5\": 5, \"1\": 1, \"70\": 2, \"118\": 3, \"39\": 1, \"93\": 2, \"8\": 1, \"3\": 1, \"33\": 1, \"24\": 1}, \"43\": {\"72\": 1, \"108\": 5, \"43\": 19, \"42\": 1, \"99\": 3, \"3\": 5, \"33\": 9, \"87\": 2, \"73\": 3, \"14\": 3, \"105\": 2, \"84\": 1, \"102\": 6, \"5\": 7, \"110\": 9, \"118\": 4, \"62\": 2, \"11\": 3, \"122\": 5, \"1\": 1, \"88\": 3, \"16\": 1, \"109\": 5, \"26\": 1, \"113\": 2, \"114\": 1, \"70\": 2, \"74\": 1, \"116\": 1, \"78\": 1, \"8\": 1, \"115\": 1, \"93\": 1, \"128\": 1, \"39\": 1, \"127\": 1, \"44\": 1, \"69\": 3, \"40\": 1}, \"96\": {\"90\": 4, \"108\": 2, \"2\": 1, \"117\": 1, \"88\": 3, \"93\": 1, \"21\": 2, \"96\": 5, \"8\": 1}, \"89\": {\"43\": 1, \"114\": 4, \"89\": 15, \"115\": 1, \"71\": 3, \"55\": 2, \"3\": 1, \"88\": 1, \"107\": 1, \"60\": 1, \"8\": 1, \"78\": 1}, \"31\": {\"31\": 11, \"11\": 1, \"121\": 1, \"118\": 1, \"66\": 1, \"102\": 1}, \"45\": {\"45\": 13, \"20\": 1, \"64\": 1, \"43\": 1}, \"2\": {\"2\": 21, \"118\": 1, \"113\": 1, \"109\": 1, \"16\": 1, \"84\": 1, \"26\": 2}, \"114\": {\"89\": 2, \"31\": 1, \"114\": 74, \"17\": 1, \"72\": 1, \"88\": 1, \"19\": 1, \"55\": 2, \"82\": 3, \"124\": 6, \"4\": 3, \"71\": 3, \"1\": 6, \"111\": 1, \"7\": 1, \"70\": 3, \"46\": 1, \"115\": 1, \"100\": 1, \"0\": 2, \"105\": 4, \"87\": 2, \"40\": 4, \"84\": 1, \"11\": 1, \"3\": 1, \"127\": 1}, \"11\": {\"72\": 1, \"2\": 2, \"11\": 31, \"64\": 1, \"46\": 1, \"116\": 3, \"115\": 2, \"128\": 1, \"114\": 4, \"69\": 1, \"3\": 4, \"24\": 1, \"107\": 7, \"108\": 4, \"118\": 3, \"33\": 8, \"5\": 8, \"14\": 4, \"88\": 3, \"87\": 4, \"43\": 2, \"98\": 2, \"102\": 4, \"40\": 6, \"109\": 5, \"7\": 1, \"0\": 1, \"110\": 3, \"124\": 3, \"31\": 1, \"73\": 1, \"42\": 1, \"92\": 1, \"83\": 1, \"71\": 3, \"84\": 1, \"113\": 1, \"1\": 1, \"93\": 1, \"122\": 1, \"70\": 1, \"4\": 2}, \"12\": {\"111\": 8, \"82\": 3, \"59\": 1, \"101\": 7, \"12\": 41, \"10\": 3, \"36\": 2, \"30\": 7, \"0\": 1, \"9\": 1, \"127\": 3, \"15\": 8, \"62\": 1, \"106\": 6, \"43\": 1, \"34\": 1, \"42\": 1, \"98\": 2, \"24\": 1, \"108\": 1, \"7\": 1}, \"14\": {\"14\": 60, \"32\": 1, \"88\": 6, \"87\": 5, \"107\": 3, \"99\": 6, \"93\": 1, \"118\": 4, \"8\": 2, \"62\": 5, \"3\": 1, \"43\": 3, \"40\": 2, \"69\": 2, \"120\": 1, \"19\": 1, \"11\": 1, \"110\": 3, \"1\": 2, \"108\": 1, \"122\": 2}, \"90\": {\"90\": 73, \"31\": 1, \"20\": 1, \"35\": 1, \"118\": 2, \"44\": 3, \"96\": 1, \"74\": 1, \"26\": 4, \"39\": 3, \"92\": 2, \"43\": 1, \"108\": 2, \"5\": 2, \"122\": 3, \"117\": 2, \"84\": 13, \"113\": 12, \"102\": 3, \"126\": 3, \"16\": 3, \"110\": 2, \"109\": 6, \"93\": 4, \"66\": 1, \"13\": 1, \"116\": 1, \"57\": 1, \"67\": 1, \"121\": 1}, \"10\": {\"42\": 1, \"58\": 1, \"54\": 2, \"97\": 2, \"10\": 16, \"62\": 1, \"51\": 1, \"99\": 2, \"91\": 2, \"1\": 1, \"47\": 3, \"32\": 3, \"75\": 1, \"88\": 9, \"27\": 2, \"24\": 4, \"15\": 5, \"36\": 7, \"94\": 7, \"125\": 13, \"60\": 2, \"14\": 1, \"87\": 2, \"43\": 1, \"124\": 2, \"18\": 1, \"70\": 3, \"109\": 1, \"106\": 8, \"40\": 2, \"30\": 2, \"129\": 1, \"8\": 2, \"127\": 2, \"4\": 1, \"12\": 2, \"11\": 1, \"39\": 2, \"111\": 2, \"114\": 1}, \"63\": {\"63\": 13, \"123\": 1, \"18\": 2}, \"85\": {\"98\": 2, \"85\": 18, \"89\": 1, \"100\": 2, \"95\": 1, \"15\": 1, \"56\": 1, \"71\": 1, \"1\": 1}, \"64\": {\"64\": 13, \"67\": 1, \"20\": 1, \"126\": 1}, \"82\": {\"4\": 4, \"82\": 13, \"3\": 2, \"55\": 1, \"111\": 1, \"129\": 1, \"71\": 3, \"114\": 2, \"124\": 1, \"56\": 1, \"112\": 1, \"17\": 1, \"101\": 1}, \"58\": {\"58\": 12, \"99\": 1, \"15\": 1, \"106\": 1, \"29\": 1}, \"3\": {\"64\": 1, \"42\": 1, \"3\": 77, \"79\": 1, \"46\": 1, \"67\": 2, \"43\": 1, \"114\": 6, \"27\": 2, \"127\": 1, \"128\": 1, \"49\": 3, \"87\": 2, \"105\": 3, \"1\": 2, \"11\": 3, \"33\": 4, \"5\": 8, \"98\": 1, \"22\": 2, \"40\": 1, \"73\": 1, \"19\": 3, \"89\": 1, \"116\": 1, \"72\": 1, \"90\": 2, \"118\": 1, \"39\": 1, \"88\": 1, \"7\": 1}, \"54\": {\"54\": 13, \"94\": 2, \"12\": 1}, \"121\": {\"63\": 1, \"11\": 1, \"121\": 10, \"122\": 1, \"39\": 2, \"93\": 2, \"18\": 7, \"92\": 1, \"78\": 1, \"96\": 1, \"113\": 2, \"16\": 1, \"126\": 1, \"84\": 1}, \"42\": {\"12\": 2, \"89\": 1, \"51\": 1, \"66\": 1, \"72\": 1, \"43\": 1, \"4\": 1, \"111\": 1, \"95\": 1, \"7\": 1, \"49\": 1, \"102\": 1, \"128\": 1, \"30\": 2, \"71\": 1, \"98\": 1, \"60\": 1, \"42\": 4, \"93\": 1, \"70\": 1, \"99\": 1, \"10\": 2}, \"98\": {\"98\": 53, \"10\": 6, \"85\": 3, \"12\": 7, \"0\": 1, \"4\": 1, \"113\": 1, \"127\": 4, \"94\": 3, \"106\": 6, \"44\": 1, \"24\": 2, \"30\": 6, \"111\": 11, \"101\": 2, \"114\": 1, \"18\": 1, \"97\": 1, \"59\": 1, \"68\": 1, \"91\": 1, \"41\": 1, \"126\": 1, \"25\": 1, \"121\": 1, \"108\": 1, \"7\": 2}, \"123\": {\"63\": 1, \"11\": 1, \"123\": 9, \"42\": 1, \"126\": 1, \"119\": 1, \"16\": 1, \"26\": 1}, \"91\": {\"91\": 9, \"111\": 2, \"42\": 1, \"68\": 1, \"15\": 1, \"77\": 1, \"8\": 4, \"112\": 1, \"30\": 1, \"9\": 1, \"106\": 1, \"7\": 1}, \"83\": {\"124\": 1, \"83\": 10, \"117\": 1, \"8\": 1, \"71\": 2, \"87\": 1, \"7\": 1, \"1\": 1, \"118\": 1, \"37\": 1, \"43\": 1, \"78\": 1, \"3\": 1, \"105\": 2, \"11\": 2, \"26\": 1}, \"99\": {\"70\": 1, \"99\": 29, \"109\": 1, \"88\": 3, \"122\": 2, \"93\": 1, \"118\": 1, \"1\": 2}, \"112\": {\"112\": 10, \"129\": 1, \"127\": 1, \"3\": 1, \"60\": 1, \"17\": 1, \"124\": 1}, \"119\": {\"119\": 9, \"89\": 1, \"1\": 2, \"43\": 2, \"32\": 1, \"100\": 1}, \"70\": {\"37\": 1, \"120\": 1, \"70\": 26, \"118\": 1, \"39\": 2, \"104\": 1, \"42\": 3, \"14\": 3, \"105\": 5, \"88\": 9, \"0\": 5, \"8\": 8, \"101\": 2, \"62\": 2, \"71\": 2, \"110\": 4, \"12\": 1, \"40\": 2, \"114\": 7, \"5\": 1, \"87\": 4, \"11\": 2, \"98\": 1, \"7\": 2, \"124\": 4, \"3\": 2, \"90\": 1, \"109\": 4, \"107\": 1, \"52\": 2, \"119\": 2, \"17\": 1, \"24\": 2, \"99\": 1, \"108\": 1, \"117\": 1, \"43\": 1, \"122\": 2, \"127\": 1, \"27\": 1, \"106\": 1, \"10\": 1}, \"20\": {\"20\": 8, \"28\": 1, \"13\": 1, \"43\": 1, \"121\": 1, \"57\": 1, \"90\": 1, \"92\": 2}, \"120\": {\"120\": 18, \"110\": 2}, \"7\": {\"7\": 65, \"56\": 1, \"91\": 1, \"114\": 3, \"111\": 6, \"100\": 1, \"29\": 1, \"124\": 6, \"0\": 2, \"71\": 5, \"127\": 4, \"27\": 2, \"43\": 1, \"70\": 3, \"10\": 1, \"3\": 2, \"14\": 1, \"98\": 2, \"87\": 1, \"101\": 1, \"17\": 1, \"112\": 1, \"60\": 1, \"89\": 1, \"85\": 1, \"78\": 1, \"1\": 2, \"95\": 1, \"105\": 1, \"4\": 1, \"8\": 1, \"94\": 1, \"12\": 1, \"40\": 1}, \"60\": {\"60\": 6, \"112\": 1, \"87\": 1, \"71\": 1, \"19\": 2, \"46\": 1, \"90\": 1, \"43\": 1, \"99\": 2, \"108\": 1, \"129\": 1, \"122\": 1, \"10\": 1, \"44\": 1, \"109\": 4, \"89\": 1, \"52\": 1, \"22\": 1, \"8\": 1, \"70\": 1, \"96\": 1, \"40\": 1}, \"113\": {\"113\": 47, \"99\": 1, \"73\": 1, \"126\": 8, \"62\": 1, \"21\": 1, \"88\": 3, \"80\": 1, \"26\": 12, \"16\": 1, \"109\": 6, \"69\": 1, \"39\": 3, \"121\": 1, \"122\": 2, \"117\": 4, \"43\": 2, \"11\": 2, \"18\": 2, \"84\": 6, \"90\": 5, \"61\": 1, \"110\": 3, \"81\": 1, \"78\": 1, \"93\": 1, \"118\": 1}, \"37\": {\"37\": 14, \"32\": 1, \"109\": 1}, \"124\": {\"60\": 2, \"104\": 3, \"17\": 1, \"89\": 1, \"124\": 64, \"0\": 1, \"114\": 6, \"7\": 3, \"1\": 3, \"71\": 5, \"24\": 4, \"4\": 1, \"27\": 3, \"3\": 1, \"101\": 2, \"8\": 4, \"105\": 1, \"107\": 1, \"85\": 1, \"98\": 1, \"40\": 1, \"10\": 1}, \"27\": {\"37\": 1, \"124\": 3, \"53\": 2, \"27\": 23, \"88\": 5, \"32\": 1, \"111\": 3, \"29\": 1, \"10\": 3, \"127\": 2, \"98\": 1, \"87\": 2, \"12\": 3, \"99\": 1, \"0\": 4, \"110\": 1, \"8\": 6, \"15\": 4, \"30\": 6, \"4\": 2, \"70\": 5, \"126\": 2, \"106\": 2, \"101\": 4, \"71\": 2, \"48\": 1, \"120\": 1, \"119\": 1, \"9\": 1, \"3\": 1, \"105\": 1, \"1\": 1, \"26\": 1, \"14\": 3}, \"86\": {\"127\": 2, \"51\": 1, \"86\": 21, \"30\": 1, \"59\": 1, \"101\": 1, \"4\": 1}, \"127\": {\"106\": 1, \"127\": 58, \"12\": 7, \"0\": 6, \"34\": 1, \"4\": 1, \"101\": 8, \"118\": 1, \"113\": 1, \"8\": 1, \"111\": 7, \"126\": 1, \"15\": 1, \"98\": 4, \"26\": 1, \"55\": 1, \"68\": 1, \"86\": 1, \"27\": 2, \"122\": 1, \"30\": 1, \"108\": 1, \"39\": 1}, \"62\": {\"122\": 6, \"14\": 5, \"71\": 1, \"116\": 1, \"32\": 1, \"110\": 3, \"62\": 17, \"44\": 1, \"88\": 1, \"118\": 3, \"84\": 1, \"109\": 5, \"16\": 3, \"69\": 2, \"39\": 1, \"108\": 1, \"72\": 1, \"80\": 1, \"60\": 1, \"1\": 1, \"5\": 1, \"102\": 1, \"43\": 1, \"11\": 1}, \"122\": {\"62\": 4, \"109\": 6, \"118\": 3, \"122\": 25, \"102\": 4, \"84\": 3, \"88\": 6, \"33\": 6, \"5\": 4, \"14\": 5, \"99\": 1, \"108\": 4, \"110\": 3, \"20\": 2, \"119\": 1, \"96\": 1, \"26\": 1, \"126\": 1, \"105\": 1, \"93\": 1, \"16\": 1, \"39\": 1}, \"51\": {\"106\": 1, \"54\": 1, \"6\": 1, \"117\": 2, \"21\": 1, \"9\": 1, \"15\": 1, \"51\": 3, \"77\": 1, \"122\": 1, \"62\": 1, \"95\": 1, \"34\": 1}, \"109\": {\"62\": 4, \"109\": 66, \"60\": 2, \"16\": 5, \"122\": 5, \"118\": 4, \"69\": 6, \"84\": 1, \"33\": 1, \"90\": 1, \"14\": 2, \"93\": 5, \"38\": 1, \"116\": 1, \"108\": 1, \"18\": 1, \"2\": 1, \"126\": 1, \"39\": 2, \"110\": 4}, \"106\": {\"106\": 58, \"127\": 4, \"10\": 3, \"121\": 1, \"12\": 6, \"30\": 4, \"15\": 5, \"34\": 1, \"111\": 12, \"27\": 2, \"126\": 1, \"101\": 7, \"18\": 1, \"78\": 1, \"94\": 1, \"113\": 1, \"0\": 1, \"44\": 1, \"98\": 2, \"117\": 1, \"88\": 1}, \"94\": {\"106\": 2, \"94\": 37, \"54\": 4, \"25\": 2, \"29\": 1, \"3\": 2, \"30\": 7, \"15\": 6, \"10\": 3, \"34\": 1, \"125\": 7, \"24\": 2, \"36\": 6, \"101\": 1, \"1\": 1, \"98\": 1, \"27\": 1, \"75\": 1, \"6\": 1, \"127\": 1, \"4\": 1}, \"38\": {\"38\": 13, \"118\": 1, \"116\": 1, \"44\": 1}, \"129\": {\"112\": 1, \"129\": 10, \"66\": 1, \"128\": 3, \"36\": 1, \"1\": 2, \"71\": 2, \"52\": 2, \"53\": 1, \"19\": 1, \"55\": 1, \"93\": 1, \"109\": 1, \"124\": 1}, \"116\": {\"109\": 2, \"38\": 2, \"33\": 1, \"3\": 2, \"116\": 6, \"73\": 1, \"39\": 1, \"67\": 3, \"93\": 2, \"81\": 1, \"35\": 1, \"44\": 1, \"89\": 1, \"120\": 1, \"28\": 1, \"63\": 1, \"96\": 1}, \"107\": {\"107\": 92, \"28\": 1, \"4\": 1, \"33\": 1, \"114\": 1, \"105\": 1, \"11\": 4, \"1\": 2, \"43\": 1, \"27\": 1, \"40\": 6, \"115\": 3, \"118\": 2, \"124\": 2}, \"30\": {\"6\": 2, \"4\": 1, \"106\": 2, \"30\": 25, \"103\": 1, \"29\": 1, \"98\": 2, \"71\": 3, \"15\": 6, \"24\": 6, \"18\": 1, \"8\": 4, \"27\": 4, \"124\": 1, \"94\": 4, \"36\": 2, \"12\": 2, \"0\": 2, \"70\": 1, \"111\": 1, \"101\": 3, \"16\": 1, \"10\": 1}, \"102\": {\"84\": 9, \"102\": 85, \"122\": 1, \"116\": 1, \"48\": 1, \"113\": 3, \"14\": 2, \"33\": 2, \"69\": 10, \"43\": 3, \"44\": 1, \"11\": 1, \"110\": 1, \"16\": 2, \"109\": 1, \"90\": 1, \"5\": 1, \"80\": 1, \"92\": 1, \"39\": 2, \"118\": 1, \"124\": 1, \"26\": 1}, \"74\": {\"30\": 1, \"74\": 4, \"88\": 1, \"13\": 1, \"78\": 2, \"44\": 2, \"48\": 1, \"31\": 1, \"73\": 1, \"116\": 2}, \"101\": {\"101\": 48, \"85\": 1, \"95\": 3, \"53\": 1, \"55\": 2, \"86\": 2, \"12\": 8, \"30\": 7, \"0\": 5, \"24\": 1, \"52\": 1, \"111\": 8, \"127\": 9, \"34\": 1, \"4\": 3, \"15\": 8, \"8\": 4, \"106\": 2, \"117\": 1, \"124\": 1, \"98\": 6, \"91\": 2, \"82\": 1, \"100\": 1, \"10\": 4, \"70\": 1, \"71\": 1}, \"117\": {\"84\": 10, \"117\": 66, \"2\": 2, \"21\": 1, \"126\": 1, \"102\": 1, \"26\": 11, \"33\": 1, \"113\": 5, \"16\": 6, \"93\": 3, \"69\": 1, \"108\": 2, \"80\": 1, \"118\": 2, \"81\": 2, \"92\": 1, \"39\": 4, \"109\": 1, \"90\": 2, \"110\": 1}, \"1\": {\"1\": 51, \"114\": 3, \"83\": 1, \"107\": 5, \"42\": 1, \"129\": 2, \"104\": 2, \"88\": 1, \"99\": 1, \"108\": 2, \"8\": 1, \"0\": 2, \"93\": 1, \"3\": 1, \"105\": 6, \"15\": 2, \"40\": 6, \"71\": 2, \"128\": 3, \"78\": 2, \"49\": 1, \"124\": 1, \"126\": 1, \"27\": 2, \"14\": 1, \"11\": 2, \"4\": 1, \"87\": 3, \"70\": 1}, \"84\": {\"84\": 69, \"113\": 3, \"121\": 1, \"109\": 1, \"102\": 10, \"81\": 1, \"39\": 6, \"44\": 2, \"90\": 5, \"16\": 5, \"93\": 4, \"5\": 2, \"69\": 8, \"26\": 3, \"2\": 1, \"38\": 1, \"92\": 1, \"14\": 2, \"33\": 1, \"70\": 1, \"117\": 3, \"122\": 1, \"88\": 1}, \"17\": {\"17\": 17, \"71\": 1, \"0\": 1, \"55\": 1}, \"6\": {\"6\": 18, \"36\": 2, \"125\": 1, \"94\": 1, \"58\": 1, \"15\": 1}, \"110\": {\"110\": 39, \"73\": 1, \"120\": 1, \"22\": 1, \"93\": 9, \"1\": 1, \"21\": 1, \"118\": 3, \"108\": 6, \"69\": 4, \"14\": 1, \"84\": 1, \"33\": 11, \"62\": 3, \"90\": 2, \"122\": 5, \"109\": 12, \"70\": 3, \"5\": 3, \"18\": 1, \"16\": 1, \"20\": 1, \"113\": 1, \"126\": 1, \"102\": 1, \"88\": 2, \"43\": 3, \"87\": 2, \"44\": 1, \"11\": 3}, \"77\": {\"77\": 9, \"91\": 1, \"101\": 1, \"106\": 1}, \"8\": {\"91\": 1, \"8\": 86, \"1\": 1, \"10\": 5, \"109\": 1, \"0\": 8, \"111\": 4, \"30\": 2, \"27\": 5, \"101\": 2, \"70\": 4, \"11\": 1, \"40\": 1, \"24\": 3, \"53\": 1, \"120\": 1, \"42\": 1, \"32\": 1, \"127\": 1, \"26\": 1, \"106\": 1, \"5\": 1}, \"73\": {\"110\": 2, \"73\": 13, \"40\": 1, \"91\": 1, \"33\": 1, \"81\": 1, \"27\": 1, \"6\": 1, \"31\": 1, \"67\": 1, \"45\": 1}, \"126\": {\"57\": 2, \"32\": 2, \"39\": 6, \"126\": 34, \"81\": 4, \"117\": 4, \"110\": 4, \"113\": 4, \"88\": 4, \"62\": 1, \"44\": 1, \"118\": 1, \"108\": 3, \"90\": 6, \"93\": 2, \"18\": 16, \"43\": 2, \"26\": 7, \"16\": 4, \"109\": 3, \"21\": 1, \"78\": 1, \"122\": 6, \"99\": 1, \"14\": 1, \"84\": 2, \"102\": 2}, \"57\": {\"57\": 16}, \"95\": {\"95\": 23, \"126\": 1, \"111\": 4, \"29\": 1, \"127\": 1, \"0\": 1, \"85\": 1}, \"103\": {\"91\": 2, \"42\": 1, \"103\": 9, \"10\": 1, \"8\": 1, \"29\": 2}, \"97\": {\"97\": 8, \"129\": 2, \"112\": 1, \"29\": 2, \"59\": 2, \"127\": 1, \"52\": 1, \"10\": 1, \"94\": 1, \"55\": 1}, \"39\": {\"57\": 2, \"121\": 2, \"20\": 1, \"109\": 6, \"80\": 1, \"117\": 4, \"118\": 3, \"39\": 22, \"69\": 3, \"21\": 3, \"110\": 5, \"126\": 4, \"61\": 1, \"81\": 3, \"44\": 3, \"92\": 2, \"88\": 1, \"62\": 2, \"87\": 1, \"90\": 5, \"122\": 1, \"84\": 2, \"106\": 1, \"93\": 1, \"26\": 6, \"11\": 1, \"108\": 6, \"99\": 1, \"16\": 3, \"113\": 4}, \"100\": {\"114\": 1, \"4\": 1, \"100\": 10, \"46\": 1, \"3\": 2, \"104\": 1, \"71\": 2, \"82\": 2}, \"40\": {\"40\": 76, \"11\": 1, \"1\": 4, \"107\": 11, \"105\": 7, \"69\": 1, \"70\": 2, \"43\": 1, \"42\": 1, \"60\": 1, \"87\": 2, \"114\": 1, \"88\": 1, \"108\": 1}, \"36\": {\"54\": 3, \"6\": 1, \"36\": 51, \"94\": 5, \"29\": 4, \"101\": 4, \"12\": 3, \"9\": 1, \"98\": 3, \"0\": 3, \"125\": 13, \"10\": 2, \"27\": 1, \"8\": 2, \"15\": 7, \"30\": 3, \"111\": 3, \"24\": 5, \"106\": 5, \"110\": 2, \"58\": 1, \"68\": 1, \"114\": 1, \"7\": 1, \"127\": 1}, \"19\": {\"129\": 1, \"5\": 1, \"19\": 8, \"67\": 1, \"69\": 2, \"121\": 1, \"102\": 1, \"82\": 1, \"27\": 2, \"7\": 1, \"105\": 1, \"88\": 2, \"33\": 1, \"10\": 1, \"116\": 1, \"107\": 1, \"34\": 1, \"84\": 1}, \"118\": {\"122\": 3, \"118\": 37, \"76\": 1, \"45\": 2, \"33\": 9, \"14\": 7, \"43\": 4, \"114\": 1, \"110\": 2, \"99\": 3, \"69\": 2, \"93\": 5, \"62\": 2, \"39\": 3, \"84\": 1, \"102\": 7, \"109\": 5, \"11\": 1, \"108\": 3, \"74\": 1, \"57\": 2, \"127\": 1, \"87\": 3, \"107\": 3, \"117\": 1, \"113\": 1, \"26\": 1, \"16\": 1}, \"56\": {\"106\": 1, \"56\": 8, \"41\": 1, \"114\": 1, \"8\": 1}, \"26\": {\"26\": 93, \"32\": 1, \"117\": 9, \"113\": 4, \"16\": 1, \"44\": 3, \"126\": 2, \"84\": 2, \"18\": 5, \"123\": 1, \"102\": 2, \"93\": 1, \"109\": 1, \"118\": 1}, \"5\": {\"5\": 98, \"19\": 1, \"3\": 4, \"129\": 1, \"114\": 1, \"33\": 7, \"102\": 3, \"1\": 2, \"11\": 5, \"84\": 2, \"88\": 1, \"93\": 1, \"110\": 2, \"73\": 3, \"90\": 1, \"44\": 1, \"26\": 2, \"40\": 1}, \"21\": {\"72\": 1, \"22\": 1, \"117\": 1, \"21\": 8, \"66\": 1, \"43\": 3, \"70\": 2, \"93\": 2, \"118\": 1, \"18\": 1, \"60\": 1, \"39\": 4, \"110\": 1, \"109\": 2, \"113\": 1, \"84\": 2, \"126\": 1, \"81\": 1, \"32\": 2, \"62\": 2, \"26\": 2}, \"22\": {\"66\": 1, \"72\": 1, \"22\": 10, \"94\": 1, \"28\": 1, \"43\": 1, \"79\": 1}, \"68\": {\"106\": 2, \"68\": 8, \"89\": 1, \"111\": 1, \"127\": 1, \"36\": 1, \"101\": 1, \"30\": 1}, \"9\": {\"103\": 2, \"97\": 2, \"9\": 17, \"29\": 2, \"86\": 3, \"52\": 1, \"8\": 1}, \"66\": {\"66\": 8, \"88\": 1, \"38\": 3, \"90\": 1, \"74\": 1, \"44\": 1, \"78\": 1}, \"87\": {\"115\": 1, \"87\": 25, \"118\": 1, \"50\": 1, \"32\": 1, \"46\": 1, \"71\": 8, \"99\": 3, \"114\": 9, \"88\": 6, \"105\": 8, \"14\": 7, \"43\": 2, \"108\": 3, \"7\": 1, \"124\": 6, \"11\": 4, \"90\": 1, \"109\": 6, \"117\": 2, \"70\": 4, \"62\": 2, \"107\": 1, \"27\": 2, \"3\": 5, \"122\": 3, \"98\": 1, \"128\": 1, \"10\": 1, \"8\": 1, \"40\": 3, \"110\": 3, \"5\": 1}, \"71\": {\"71\": 56, \"39\": 1, \"4\": 4, \"50\": 1, \"46\": 2, \"124\": 5, \"114\": 10, \"89\": 1, \"105\": 7, \"7\": 4, \"98\": 2, \"8\": 1, \"9\": 1, \"53\": 1, \"104\": 1, \"70\": 1, \"0\": 1, \"21\": 1, \"90\": 1, \"40\": 1, \"108\": 1, \"88\": 1}, \"115\": {\"107\": 2, \"33\": 1, \"40\": 1, \"115\": 8, \"104\": 1, \"114\": 1, \"19\": 1, \"3\": 1}, \"23\": {\"97\": 1, \"66\": 1, \"32\": 2, \"88\": 1, \"117\": 1, \"53\": 1, \"23\": 1, \"121\": 1, \"122\": 1, \"108\": 1, \"90\": 2, \"118\": 1, \"61\": 1, \"98\": 1}, \"33\": {\"33\": 103, \"116\": 1, \"5\": 1, \"126\": 1, \"72\": 1, \"102\": 3, \"69\": 2, \"108\": 1, \"110\": 2, \"109\": 1, \"11\": 1, \"84\": 1}, \"35\": {\"118\": 1, \"117\": 1, \"38\": 1, \"61\": 1, \"21\": 1, \"63\": 1, \"121\": 2, \"108\": 1, \"62\": 1, \"35\": 2}, \"125\": {\"125\": 106, \"75\": 2, \"36\": 9, \"24\": 1, \"11\": 1, \"94\": 4, \"101\": 1, \"26\": 1, \"92\": 1, \"54\": 2, \"88\": 1, \"18\": 1, \"10\": 2}, \"47\": {\"125\": 2, \"47\": 10}, \"79\": {\"79\": 13, \"115\": 1, \"3\": 1, \"69\": 1}, \"53\": {\"86\": 2, \"53\": 12, \"27\": 2}, \"67\": {\"113\": 2, \"67\": 6, \"64\": 1, \"38\": 1, \"80\": 2, \"123\": 1, \"73\": 1, \"42\": 1, \"74\": 1}, \"80\": {\"80\": 11, \"113\": 1, \"90\": 1, \"63\": 1, \"3\": 1, \"13\": 1}, \"105\": {\"105\": 47, \"126\": 2, \"87\": 6, \"89\": 1, \"107\": 4, \"1\": 4, \"44\": 1, \"4\": 1, \"114\": 7, \"43\": 2, \"3\": 4, \"8\": 1, \"70\": 2, \"40\": 6, \"88\": 2, \"46\": 1, \"90\": 1, \"83\": 2, \"118\": 1, \"113\": 1, \"71\": 1, \"10\": 1, \"36\": 1, \"124\": 1}, \"76\": {\"76\": 15, \"64\": 1}, \"46\": {\"46\": 14, \"71\": 2, \"87\": 1, \"83\": 1, \"114\": 2}, \"34\": {\"120\": 2, \"87\": 1, \"34\": 3, \"36\": 1, \"107\": 3, \"60\": 1, \"99\": 2, \"24\": 6, \"1\": 2, \"118\": 1, \"75\": 2, \"51\": 1, \"17\": 1, \"37\": 1, \"10\": 1, \"94\": 1, \"54\": 2, \"115\": 1}, \"32\": {\"64\": 1, \"120\": 1, \"100\": 1, \"88\": 3, \"102\": 1, \"32\": 11, \"14\": 1, \"29\": 1, \"122\": 2, \"119\": 1, \"110\": 1, \"99\": 1, \"115\": 1, \"83\": 2}, \"13\": {\"13\": 10, \"90\": 1, \"16\": 2, \"74\": 2, \"69\": 1}, \"78\": {\"60\": 2, \"108\": 1, \"78\": 4, \"16\": 1, \"19\": 2, \"86\": 1, \"98\": 1, \"114\": 3, \"62\": 3, \"0\": 2, \"109\": 1, \"27\": 1, \"93\": 1, \"52\": 1, \"63\": 1, \"14\": 1, \"6\": 1, \"96\": 1, \"126\": 1, \"34\": 1, \"99\": 2, \"18\": 1, \"118\": 1, \"113\": 1, \"101\": 1}, \"41\": {\"53\": 1, \"41\": 12, \"111\": 1, \"29\": 1, \"103\": 1}, \"69\": {\"43\": 3, \"69\": 98, \"81\": 1, \"102\": 10, \"126\": 3, \"84\": 4, \"118\": 2, \"16\": 1, \"109\": 1, \"14\": 1, \"44\": 2, \"122\": 2}, \"88\": {\"100\": 1, \"88\": 32, \"38\": 1, \"108\": 8, \"71\": 1, \"78\": 1, \"128\": 3, \"27\": 4, \"116\": 1, \"39\": 6, \"26\": 1, \"62\": 1, \"72\": 1, \"0\": 6, \"122\": 6, \"99\": 3, \"10\": 2, \"3\": 2, \"124\": 1, \"109\": 10, \"93\": 2, \"1\": 3, \"70\": 11, \"105\": 1, \"43\": 2, \"110\": 4, \"84\": 2, \"21\": 2, \"32\": 1, \"113\": 1, \"14\": 3, \"40\": 2, \"18\": 1, \"4\": 1, \"118\": 2, \"114\": 3}, \"15\": {\"6\": 1, \"15\": 48, \"101\": 11, \"29\": 1, \"30\": 2, \"12\": 5, \"0\": 3, \"111\": 6, \"8\": 8, \"24\": 11, \"117\": 1, \"94\": 4, \"4\": 3, \"113\": 1, \"36\": 4, \"125\": 2, \"27\": 1, \"106\": 3, \"10\": 4, \"26\": 1, \"71\": 1, \"21\": 1, \"127\": 2, \"124\": 2, \"98\": 1, \"90\": 1}, \"61\": {\"63\": 5, \"61\": 5, \"32\": 1, \"26\": 1, \"39\": 1, \"48\": 2, \"117\": 1}, \"0\": {\"0\": 23, \"85\": 1, \"27\": 5, \"10\": 4, \"9\": 1, \"95\": 3, \"24\": 5, \"127\": 11, \"106\": 2, \"4\": 3, \"12\": 3, \"87\": 6, \"101\": 9, \"111\": 16, \"98\": 1, \"8\": 5, \"70\": 1, \"88\": 2, \"37\": 1, \"55\": 1, \"41\": 1, \"86\": 1, \"83\": 2, \"114\": 1, \"113\": 1, \"84\": 1, \"102\": 1, \"18\": 1, \"36\": 1, \"15\": 2, \"1\": 1}, \"104\": {\"104\": 14, \"39\": 1, \"46\": 1}, \"48\": {\"48\": 4, \"116\": 2, \"121\": 2, \"26\": 2, \"65\": 2, \"74\": 1, \"68\": 1, \"117\": 2}, \"25\": {\"25\": 15, \"24\": 1}, \"75\": {\"75\": 15, \"94\": 1}, \"81\": {\"113\": 1, \"81\": 25, \"39\": 3, \"126\": 1, \"26\": 1, \"110\": 1, \"2\": 1, \"16\": 1, \"117\": 2}, \"50\": {\"38\": 1, \"50\": 8, \"57\": 1, \"86\": 1, \"43\": 1, \"5\": 2, \"64\": 1, \"4\": 1}, \"52\": {\"52\": 14, \"9\": 1, \"95\": 1, \"124\": 1, \"127\": 1, \"97\": 1, \"42\": 1}, \"16\": {\"16\": 71, \"14\": 3, \"84\": 8, \"117\": 2, \"121\": 2, \"88\": 3, \"102\": 5, \"110\": 1, \"126\": 4, \"70\": 1, \"109\": 5, \"113\": 3, \"93\": 1, \"2\": 1, \"35\": 1, \"57\": 1, \"62\": 1, \"69\": 4, \"90\": 1, \"122\": 2}, \"44\": {\"80\": 1, \"44\": 39, \"116\": 3, \"43\": 1, \"39\": 1, \"126\": 2, \"102\": 5, \"26\": 2, \"11\": 2, \"117\": 1, \"74\": 1, \"69\": 1, \"38\": 1, \"84\": 2, \"5\": 1, \"88\": 1}, \"29\": {\"29\": 22, \"63\": 1, \"30\": 2, \"53\": 1, \"127\": 1, \"9\": 1, \"101\": 3, \"121\": 1}, \"93\": {\"93\": 49, \"5\": 9, \"3\": 2, \"110\": 8, \"33\": 10, \"78\": 1, \"39\": 2, \"92\": 1, \"122\": 2, \"118\": 3, \"43\": 2, \"88\": 3, \"69\": 4, \"70\": 3, \"109\": 6, \"90\": 4, \"16\": 3, \"113\": 4, \"126\": 1, \"116\": 1, \"67\": 2, \"108\": 1, \"14\": 1, \"117\": 1, \"87\": 1}, \"18\": {\"18\": 101, \"109\": 1, \"110\": 1, \"113\": 1, \"16\": 1, \"39\": 1, \"26\": 2, \"117\": 2, \"126\": 1, \"108\": 1, \"90\": 1, \"88\": 1}, \"49\": {\"49\": 6, \"33\": 2, \"43\": 1, \"84\": 1, \"52\": 2, \"101\": 2, \"92\": 1, \"8\": 1, \"5\": 1, \"113\": 1, \"27\": 1, \"80\": 2, \"37\": 1, \"93\": 1, \"128\": 2, \"3\": 4, \"118\": 2, \"1\": 1}, \"55\": {\"55\": 15, \"27\": 1}, \"59\": {\"59\": 9, \"58\": 2, \"110\": 1}, \"128\": {\"128\": 6, \"88\": 3, \"122\": 1, \"73\": 1, \"18\": 1, \"43\": 3, \"124\": 1, \"8\": 1, \"9\": 1, \"87\": 1, \"129\": 1, \"100\": 1, \"1\": 1, \"118\": 1, \"7\": 1}, \"24\": {\"25\": 4, \"87\": 2, \"24\": 14, \"105\": 4, \"71\": 1, \"10\": 4, \"0\": 10, \"15\": 7, \"125\": 20, \"70\": 6, \"92\": 1, \"34\": 1, \"8\": 7, \"27\": 1, \"108\": 1, \"124\": 1, \"26\": 1, \"127\": 1, \"88\": 3, \"12\": 2, \"110\": 1, \"106\": 3, \"75\": 2, \"86\": 1, \"51\": 1, \"7\": 7, \"82\": 1, \"54\": 1, \"14\": 1, \"111\": 2, \"36\": 4, \"1\": 2, \"117\": 1, \"101\": 1, \"98\": 1}, \"65\": {\"65\": 10, \"69\": 1, \"26\": 1}, \"92\": {\"102\": 2, \"92\": 18, \"84\": 2, \"14\": 1, \"108\": 1, \"79\": 1, \"116\": 1, \"33\": 1, \"78\": 1}}, \"Wisig_1\": {\"108\": {\"70\": 6, \"89\": 1, \"108\": 38, \"87\": 6, \"107\": 8, \"1\": 2, \"84\": 4, \"4\": 5, \"101\": 9, \"34\": 1, \"8\": 5, \"106\": 2, \"124\": 1, \"93\": 5, \"122\": 3, \"24\": 1, \"114\": 2, \"110\": 3, \"111\": 1, \"11\": 1, \"127\": 2, \"49\": 1, \"105\": 2, \"74\": 1, \"83\": 1, \"55\": 1, \"72\": 2, \"9\": 1, \"68\": 1, \"126\": 2, \"10\": 1, \"5\": 2, \"14\": 1, \"40\": 1, \"43\": 1}, \"40\": {\"40\": 101, \"4\": 11, \"128\": 1, \"105\": 6, \"5\": 4, \"107\": 2, \"93\": 4, \"70\": 1, \"114\": 2, \"124\": 3, \"3\": 1}, \"68\": {\"68\": 7, \"57\": 1, \"52\": 2, \"34\": 1, \"17\": 1, \"53\": 2, \"127\": 2}, \"23\": {\"102\": 1, \"3\": 2, \"111\": 2, \"89\": 1, \"56\": 1, \"65\": 1, \"53\": 1, \"98\": 1, \"88\": 1, \"8\": 1, \"127\": 1, \"72\": 1, \"1\": 1, \"66\": 1, \"82\": 1, \"91\": 1, \"128\": 1, \"42\": 1, \"106\": 2, \"85\": 2}, \"26\": {\"26\": 84, \"113\": 2, \"69\": 5, \"102\": 3, \"117\": 14, \"18\": 1, \"30\": 1, \"118\": 5, \"16\": 3, \"6\": 1, \"90\": 1}, \"64\": {\"64\": 9, \"90\": 1, \"61\": 2, \"60\": 2, \"96\": 1, \"78\": 1}, \"22\": {\"22\": 11, \"114\": 1, \"116\": 1, \"109\": 1, \"43\": 1, \"112\": 1}, \"3\": {\"57\": 1, \"3\": 63, \"116\": 4, \"2\": 1, \"0\": 1, \"7\": 2, \"50\": 1, \"102\": 3, \"69\": 2, \"33\": 2, \"88\": 1, \"98\": 1, \"18\": 4, \"109\": 1, \"125\": 1}, \"4\": {\"4\": 76, \"107\": 4, \"108\": 5, \"5\": 1, \"40\": 10, \"93\": 1, \"9\": 1, \"121\": 1, \"114\": 1}, \"70\": {\"4\": 4, \"57\": 1, \"70\": 31, \"11\": 1, \"14\": 2, \"77\": 1, \"54\": 1, \"9\": 1, \"122\": 4, \"101\": 7, \"93\": 9, \"128\": 1, \"118\": 1, \"6\": 1, \"7\": 1, \"108\": 3, \"8\": 3, \"1\": 1, \"126\": 7, \"40\": 5, \"5\": 4, \"107\": 3, \"109\": 5, \"84\": 2, \"124\": 2, \"43\": 4, \"19\": 1, \"79\": 1, \"31\": 2, \"42\": 1, \"10\": 1, \"102\": 1, \"110\": 2, \"16\": 1, \"106\": 1, \"94\": 1, \"87\": 2, \"71\": 1}, \"57\": {\"57\": 11, \"88\": 1}, \"79\": {\"79\": 10, \"9\": 1, \"48\": 1}, \"9\": {\"9\": 15, \"70\": 2, \"88\": 1, \"73\": 2, \"75\": 2, \"54\": 1, \"108\": 1, \"84\": 1, \"124\": 1, \"89\": 1, \"86\": 1, \"10\": 1, \"91\": 1, \"72\": 1, \"8\": 1}, \"89\": {\"89\": 17, \"49\": 1, \"55\": 1, \"75\": 1, \"72\": 1, \"97\": 2, \"94\": 1, \"124\": 4, \"83\": 1, \"34\": 1, \"5\": 2, \"10\": 1, \"110\": 2, \"107\": 1}, \"110\": {\"110\": 70, \"21\": 1, \"83\": 1, \"127\": 2, \"0\": 3, \"70\": 1, \"93\": 8, \"12\": 2, \"24\": 2, \"106\": 9, \"101\": 9, \"15\": 3, \"107\": 2, \"88\": 2, \"10\": 4, \"4\": 2, \"32\": 1, \"89\": 2, \"108\": 2, \"111\": 2}, \"102\": {\"102\": 86, \"82\": 1, \"33\": 8, \"118\": 3, \"39\": 3, \"126\": 1, \"69\": 7, \"117\": 4, \"16\": 3, \"67\": 1, \"26\": 2, \"36\": 1}, \"31\": {\"19\": 1, \"31\": 8, \"126\": 1, \"70\": 2, \"34\": 1, \"9\": 1, \"7\": 1, \"124\": 1}, \"58\": {\"58\": 7, \"68\": 1, \"12\": 1, \"85\": 1, \"103\": 1, \"10\": 1}, \"47\": {\"47\": 11, \"49\": 1}, \"24\": {\"58\": 1, \"52\": 1, \"103\": 2, \"89\": 1, \"122\": 1, \"126\": 1, \"15\": 6, \"24\": 19, \"108\": 7, \"111\": 6, \"12\": 5, \"127\": 2, \"40\": 2, \"27\": 4, \"3\": 2, \"94\": 3, \"113\": 1, \"88\": 5, \"71\": 3, \"70\": 3, \"106\": 3, \"110\": 2, \"72\": 1, \"49\": 2, \"97\": 1, \"10\": 2, \"36\": 1, \"125\": 1, \"8\": 1, \"5\": 1, \"107\": 1, \"93\": 1}, \"19\": {\"19\": 13, \"96\": 1, \"79\": 2, \"7\": 1, \"31\": 1, \"80\": 1, \"1\": 2, \"129\": 1, \"46\": 1, \"64\": 1, \"60\": 2, \"14\": 1, \"126\": 1}, \"11\": {\"25\": 2, \"20\": 1, \"126\": 3, \"11\": 60, \"33\": 7, \"34\": 1, \"82\": 1, \"14\": 4, \"116\": 1, \"109\": 6, \"114\": 7, \"18\": 1, \"8\": 2, \"69\": 2, \"90\": 3, \"1\": 3, \"84\": 4, \"43\": 1, \"122\": 1, \"44\": 1, \"7\": 1, \"16\": 1, \"62\": 5, \"117\": 2, \"39\": 4, \"42\": 1, \"102\": 2, \"65\": 1, \"123\": 1, \"40\": 1, \"26\": 1, \"70\": 1}, \"52\": {\"52\": 18, \"36\": 2}, \"17\": {\"17\": 7, \"104\": 1, \"43\": 1, \"10\": 1, \"103\": 3, \"55\": 1, \"108\": 1, \"4\": 1}, \"25\": {\"25\": 7, \"33\": 2, \"45\": 2, \"3\": 1, \"114\": 1, \"22\": 1, \"7\": 1, \"44\": 1}, \"69\": {\"69\": 67, \"62\": 2, \"102\": 5, \"13\": 1, \"33\": 12, \"26\": 8, \"18\": 2, \"16\": 5, \"2\": 1, \"39\": 2, \"90\": 2, \"118\": 1}, \"96\": {\"96\": 9, \"51\": 1, \"19\": 1, \"65\": 1, \"90\": 1, \"3\": 1, \"42\": 2, \"33\": 1, \"28\": 1, \"117\": 1, \"25\": 1}, \"109\": {\"69\": 1, \"109\": 37, \"78\": 1, \"3\": 1, \"62\": 4, \"20\": 1, \"43\": 7, \"122\": 4, \"86\": 1, \"116\": 3, \"87\": 2, \"100\": 2, \"7\": 4, \"16\": 4, \"14\": 2, \"90\": 3, \"33\": 4, \"39\": 2, \"102\": 5, \"11\": 1, \"126\": 3, \"1\": 3, \"124\": 2, \"26\": 3, \"8\": 1, \"28\": 2, \"76\": 3, \"118\": 1, \"121\": 3, \"113\": 2, \"114\": 1, \"84\": 1}, \"115\": {\"115\": 5, \"25\": 1, \"41\": 1, \"128\": 1, \"116\": 1, \"73\": 1, \"83\": 1, \"4\": 1}, \"83\": {\"83\": 14, \"73\": 2, \"105\": 1, \"77\": 1, \"121\": 1, \"87\": 1, \"126\": 1, \"81\": 1, \"115\": 1, \"7\": 2, \"114\": 1, \"5\": 1, \"8\": 1}, \"84\": {\"84\": 81, \"126\": 3, \"40\": 1, \"93\": 2, \"1\": 12, \"5\": 1, \"122\": 3, \"105\": 3, \"43\": 6, \"8\": 3, \"14\": 2, \"88\": 1, \"74\": 1, \"87\": 3, \"19\": 1, \"3\": 1, \"109\": 1, \"114\": 3}, \"119\": {\"119\": 16}, \"122\": {\"84\": 9, \"122\": 27, \"11\": 4, \"73\": 1, \"14\": 10, \"19\": 1, \"21\": 1, \"80\": 1, \"33\": 1, \"78\": 1, \"43\": 3, \"117\": 1, \"70\": 1, \"87\": 6, \"39\": 2, \"109\": 1, \"105\": 5, \"74\": 2, \"60\": 1, \"28\": 2, \"81\": 3, \"1\": 1, \"116\": 1, \"126\": 1, \"3\": 1, \"26\": 1}, \"99\": {\"65\": 1, \"99\": 14, \"129\": 4, \"16\": 1, \"62\": 1, \"69\": 1, \"126\": 1, \"90\": 1}, \"1\": {\"1\": 99, \"79\": 1, \"42\": 1, \"19\": 1, \"80\": 1, \"129\": 2, \"21\": 1, \"84\": 16, \"118\": 1, \"43\": 2, \"8\": 1, \"109\": 1, \"126\": 4, \"81\": 1, \"99\": 1, \"114\": 1, \"87\": 1, \"3\": 1}, \"74\": {\"74\": 14, \"14\": 1, \"122\": 1}, \"85\": {\"85\": 31, \"111\": 1}, \"127\": {\"111\": 3, \"123\": 1, \"91\": 1, \"127\": 69, \"0\": 2, \"85\": 3, \"30\": 1, \"12\": 1, \"94\": 2, \"71\": 2, \"106\": 7, \"44\": 1, \"98\": 4, \"10\": 2, \"16\": 1, \"110\": 3, \"24\": 1, \"97\": 1, \"15\": 1, \"101\": 1, \"88\": 1}, \"111\": {\"111\": 66, \"127\": 3, \"68\": 1, \"17\": 1, \"32\": 1, \"85\": 1, \"56\": 1, \"98\": 5, \"27\": 2, \"0\": 3, \"12\": 7, \"91\": 1, \"71\": 5, \"101\": 1, \"106\": 4, \"110\": 4, \"93\": 1, \"88\": 2, \"86\": 1, \"15\": 2, \"24\": 4, \"30\": 3, \"3\": 1}, \"53\": {\"88\": 1, \"53\": 13, \"0\": 1, \"17\": 1, \"111\": 1, \"56\": 1, \"34\": 1, \"24\": 1}, \"88\": {\"53\": 1, \"88\": 33, \"9\": 1, \"111\": 2, \"59\": 1, \"6\": 3, \"97\": 1, \"10\": 5, \"71\": 7, \"87\": 1, \"36\": 10, \"30\": 1, \"72\": 2, \"98\": 4, \"24\": 2, \"40\": 2, \"110\": 4, \"0\": 3, \"106\": 2, \"101\": 9, \"108\": 6, \"126\": 2, \"125\": 6, \"12\": 1, \"107\": 2, \"127\": 3, \"70\": 1, \"93\": 5, \"86\": 1, \"27\": 1, \"94\": 2, \"68\": 1, \"89\": 2, \"124\": 2, \"105\": 1, \"84\": 1, \"15\": 1}, \"65\": {\"122\": 1, \"119\": 1, \"65\": 3, \"63\": 1, \"43\": 1, \"28\": 1, \"102\": 2, \"87\": 1, \"121\": 1}, \"7\": {\"7\": 110, \"31\": 1, \"8\": 1, \"86\": 1, \"105\": 1, \"102\": 1, \"3\": 1, \"5\": 1, \"124\": 3, \"1\": 3, \"107\": 1, \"4\": 3, \"114\": 4, \"93\": 1, \"70\": 1, \"43\": 1}, \"16\": {\"16\": 57, \"61\": 2, \"90\": 1, \"95\": 2, \"26\": 12, \"87\": 1, \"33\": 3, \"117\": 14, \"69\": 5, \"39\": 3, \"2\": 2, \"18\": 1, \"118\": 3, \"3\": 1, \"109\": 1}, \"128\": {\"128\": 7, \"84\": 1, \"102\": 1, \"125\": 1, \"101\": 1, \"70\": 2, \"39\": 1, \"106\": 1, \"108\": 1, \"72\": 1, \"4\": 1, \"62\": 1, \"110\": 1, \"10\": 2, \"1\": 1, \"107\": 1}, \"34\": {\"114\": 1, \"28\": 2, \"56\": 3, \"81\": 1, \"43\": 1, \"80\": 1, \"34\": 3, \"112\": 1, \"83\": 1, \"39\": 1, \"11\": 1, \"125\": 1, \"42\": 2, \"117\": 1, \"6\": 1, \"64\": 2, \"77\": 2, \"126\": 1, \"52\": 2, \"10\": 1, \"87\": 1, \"68\": 1, \"120\": 1}, \"129\": {\"73\": 2, \"129\": 8, \"124\": 1, \"117\": 1, \"81\": 1, \"105\": 2, \"42\": 1, \"33\": 3, \"26\": 2, \"84\": 2, \"2\": 1, \"19\": 2, \"1\": 1, \"49\": 1}, \"43\": {\"114\": 15, \"65\": 1, \"79\": 1, \"60\": 1, \"43\": 47, \"96\": 1, \"63\": 1, \"8\": 7, \"1\": 4, \"7\": 4, \"83\": 1, \"126\": 3, \"84\": 8, \"122\": 2, \"128\": 2, \"39\": 1, \"87\": 5, \"109\": 5, \"14\": 2, \"62\": 1, \"70\": 1, \"10\": 2, \"21\": 2, \"129\": 2, \"105\": 1, \"40\": 4, \"11\": 2, \"124\": 1, \"90\": 1}, \"92\": {\"92\": 28}, \"28\": {\"43\": 1, \"92\": 1, \"28\": 15, \"104\": 1, \"44\": 1, \"71\": 1}, \"27\": {\"41\": 1, \"27\": 30, \"49\": 2, \"58\": 1, \"36\": 2, \"75\": 2, \"106\": 4, \"98\": 3, \"71\": 3, \"15\": 3, \"101\": 5, \"111\": 3, \"0\": 2, \"94\": 5, \"88\": 4, \"12\": 2, \"30\": 3, \"24\": 3, \"108\": 4, \"10\": 2, \"127\": 1, \"97\": 2, \"125\": 3, \"110\": 1, \"4\": 1}, \"114\": {\"114\": 90, \"40\": 4, \"83\": 1, \"84\": 4, \"69\": 1, \"87\": 5, \"105\": 4, \"43\": 5, \"1\": 4, \"10\": 1, \"5\": 2, \"93\": 1, \"7\": 1, \"124\": 1}, \"73\": {\"128\": 1, \"73\": 18, \"41\": 1}, \"0\": {\"0\": 30, \"104\": 1, \"111\": 5, \"103\": 1, \"75\": 2, \"71\": 5, \"86\": 1, \"4\": 2, \"32\": 3, \"127\": 8, \"108\": 1, \"24\": 1, \"94\": 3, \"98\": 2, \"101\": 1, \"15\": 1, \"88\": 1, \"12\": 4, \"93\": 1, \"107\": 1, \"52\": 1, \"56\": 1, \"27\": 1, \"110\": 3, \"10\": 3, \"106\": 1}, \"104\": {\"129\": 2, \"96\": 1, \"104\": 10, \"38\": 1, \"126\": 2}, \"118\": {\"118\": 25, \"65\": 1, \"33\": 4, \"2\": 2, \"42\": 1, \"95\": 2, \"22\": 1, \"26\": 10, \"113\": 2, \"14\": 1, \"69\": 6, \"39\": 4, \"102\": 5, \"18\": 5, \"116\": 2, \"128\": 1, \"11\": 2, \"117\": 6, \"16\": 1, \"13\": 1, \"90\": 1, \"43\": 1}, \"41\": {\"41\": 8, \"128\": 1, \"31\": 1, \"110\": 1, \"73\": 1, \"72\": 1, \"101\": 1, \"17\": 2}, \"91\": {\"17\": 1, \"10\": 1, \"91\": 11, \"127\": 2, \"97\": 1, \"101\": 1, \"88\": 1, \"4\": 1, \"71\": 1, \"110\": 1, \"52\": 1, \"24\": 1, \"85\": 1, \"68\": 1, \"0\": 2, \"32\": 1}, \"124\": {\"124\": 59, \"79\": 2, \"81\": 1, \"73\": 2, \"83\": 1, \"108\": 6, \"84\": 2, \"80\": 1, \"70\": 5, \"7\": 5, \"126\": 1, \"10\": 1, \"114\": 6, \"5\": 7, \"122\": 1, \"40\": 3, \"107\": 2, \"43\": 2, \"88\": 1, \"54\": 1, \"9\": 2, \"19\": 1, \"105\": 2, \"110\": 1, \"4\": 1, \"101\": 5, \"93\": 1}, \"81\": {\"104\": 1, \"81\": 21, \"43\": 1, \"87\": 1, \"114\": 2, \"28\": 1, \"128\": 1}, \"63\": {\"63\": 14, \"119\": 1, \"102\": 1}, \"76\": {\"76\": 16}, \"10\": {\"10\": 19, \"51\": 1, \"8\": 12, \"32\": 3, \"106\": 5, \"124\": 2, \"71\": 5, \"12\": 5, \"127\": 6, \"70\": 5, \"93\": 4, \"111\": 11, \"44\": 2, \"98\": 2, \"87\": 3, \"108\": 4, \"110\": 5, \"40\": 2, \"53\": 1, \"17\": 1, \"126\": 1, \"1\": 1, \"34\": 1, \"41\": 1, \"74\": 1, \"24\": 1, \"15\": 1, \"96\": 1, \"105\": 2, \"0\": 2, \"85\": 1, \"59\": 1, \"94\": 3, \"128\": 1, \"4\": 1, \"27\": 1, \"102\": 1, \"107\": 1}, \"51\": {\"51\": 12, \"6\": 1, \"88\": 1, \"121\": 1, \"59\": 1}, \"82\": {\"33\": 4, \"50\": 2, \"82\": 20, \"64\": 1, \"102\": 1, \"62\": 2, \"11\": 1, \"122\": 2, \"42\": 2, \"120\": 1}, \"56\": {\"56\": 11, \"37\": 1}, \"30\": {\"110\": 4, \"56\": 1, \"30\": 13, \"0\": 4, \"36\": 5, \"88\": 4, \"72\": 2, \"94\": 1, \"6\": 5, \"108\": 2, \"10\": 3, \"106\": 1, \"127\": 1, \"101\": 1, \"85\": 1, \"89\": 1, \"4\": 2, \"71\": 1}, \"21\": {\"96\": 1, \"65\": 1, \"21\": 9, \"5\": 2, \"122\": 1, \"32\": 1, \"43\": 2, \"7\": 1, \"26\": 1, \"113\": 1, \"108\": 1, \"66\": 2, \"39\": 1, \"1\": 1, \"109\": 1, \"116\": 2, \"104\": 1, \"87\": 2, \"90\": 1, \"42\": 1, \"118\": 1, \"111\": 1, \"126\": 1, \"44\": 1, \"18\": 1, \"70\": 1, \"124\": 1}, \"46\": {\"79\": 2, \"19\": 1, \"46\": 2, \"25\": 1, \"114\": 1, \"6\": 1, \"54\": 2, \"94\": 1, \"73\": 1}, \"33\": {\"82\": 1, \"33\": 129, \"62\": 1, \"69\": 1, \"102\": 3, \"84\": 1, \"16\": 1, \"109\": 1}, \"101\": {\"75\": 1, \"101\": 104, \"4\": 2, \"72\": 4, \"106\": 3, \"26\": 1, \"110\": 3, \"14\": 1, \"108\": 1, \"0\": 1, \"8\": 1, \"111\": 1, \"43\": 1}, \"105\": {\"105\": 63, \"48\": 1, \"6\": 1, \"40\": 10, \"93\": 1, \"114\": 4, \"78\": 1, \"4\": 1, \"87\": 1, \"84\": 1}, \"50\": {\"50\": 10, \"102\": 2, \"3\": 1, \"96\": 1, \"33\": 1, \"62\": 1}, \"116\": {\"3\": 1, \"116\": 20, \"2\": 1, \"95\": 1, \"102\": 2, \"115\": 2, \"26\": 1, \"100\": 1, \"18\": 1, \"118\": 1, \"124\": 1}, \"77\": {\"77\": 10, \"86\": 1, \"12\": 1, \"68\": 2, \"111\": 1, \"127\": 1}, \"75\": {\"75\": 11, \"127\": 1, \"58\": 1, \"91\": 2, \"0\": 1}, \"95\": {\"95\": 27, \"121\": 1, \"13\": 1, \"33\": 1, \"102\": 2, \"69\": 2, \"26\": 1, \"118\": 1}, \"120\": {\"120\": 19, \"82\": 1}, \"18\": {\"76\": 1, \"95\": 1, \"3\": 1, \"18\": 78, \"90\": 5, \"113\": 8, \"117\": 2, \"69\": 1, \"1\": 1, \"122\": 1, \"116\": 1, \"21\": 3, \"39\": 1, \"118\": 1, \"62\": 1, \"109\": 1, \"43\": 1}, \"14\": {\"14\": 70, \"1\": 1, \"84\": 8, \"80\": 1, \"124\": 1, \"87\": 1, \"11\": 2, \"43\": 4, \"122\": 3, \"44\": 1, \"8\": 2, \"78\": 1, \"39\": 1}, \"44\": {\"23\": 1, \"44\": 47, \"66\": 1, \"87\": 3, \"126\": 3, \"84\": 1, \"1\": 5, \"8\": 3, \"124\": 1, \"11\": 1, \"41\": 1, \"28\": 1, \"72\": 1, \"96\": 1, \"7\": 1, \"120\": 1, \"21\": 1, \"93\": 1, \"70\": 1, \"122\": 1}, \"98\": {\"98\": 60, \"71\": 12, \"127\": 1, \"32\": 1, \"91\": 1, \"34\": 2, \"94\": 2, \"88\": 6, \"27\": 1, \"12\": 4, \"10\": 2, \"15\": 1, \"111\": 2, \"4\": 1}, \"121\": {\"121\": 15, \"64\": 1, \"50\": 1, \"76\": 1, \"95\": 1, \"3\": 1, \"34\": 1, \"119\": 1, \"113\": 1, \"90\": 2, \"61\": 1, \"123\": 3, \"65\": 2, \"102\": 1}, \"113\": {\"113\": 76, \"57\": 1, \"123\": 1, \"39\": 2, \"33\": 1, \"62\": 2, \"117\": 2, \"87\": 1, \"109\": 4, \"26\": 3, \"2\": 2, \"28\": 1, \"18\": 5, \"16\": 2, \"3\": 2, \"118\": 2, \"11\": 1}, \"103\": {\"103\": 13, \"111\": 1, \"17\": 1, \"46\": 1}, \"62\": {\"62\": 95, \"82\": 2, \"33\": 4, \"67\": 2, \"3\": 1, \"102\": 3, \"39\": 1, \"43\": 1, \"8\": 1, \"16\": 2, \"11\": 2, \"18\": 2, \"117\": 1, \"21\": 1, \"69\": 2}, \"32\": {\"12\": 2, \"94\": 2, \"32\": 13, \"0\": 1, \"127\": 1, \"71\": 2, \"98\": 1, \"24\": 1, \"10\": 2, \"6\": 2, \"91\": 2, \"30\": 1, \"15\": 2}, \"71\": {\"12\": 5, \"71\": 39, \"88\": 11, \"27\": 4, \"15\": 8, \"98\": 7, \"111\": 3, \"30\": 6, \"94\": 7, \"127\": 4, \"10\": 2, \"106\": 3, \"102\": 1, \"18\": 1, \"93\": 1, \"37\": 1, \"95\": 1, \"0\": 1, \"97\": 1, \"24\": 1, \"36\": 1}, \"94\": {\"12\": 4, \"71\": 3, \"94\": 43, \"0\": 1, \"127\": 4, \"36\": 4, \"108\": 1, \"24\": 1, \"125\": 6, \"98\": 3, \"88\": 4, \"106\": 1, \"16\": 1, \"103\": 1, \"68\": 2, \"91\": 1, \"112\": 1, \"27\": 3, \"85\": 1, \"107\": 1, \"111\": 1, \"122\": 1, \"30\": 2, \"110\": 1, \"113\": 1}, \"49\": {\"49\": 7, \"12\": 1, \"40\": 1, \"34\": 1, \"43\": 1, \"91\": 1, \"86\": 1, \"101\": 1, \"10\": 1, \"54\": 2, \"73\": 1, \"93\": 2}, \"12\": {\"12\": 39, \"111\": 6, \"36\": 2, \"86\": 1, \"27\": 5, \"88\": 1, \"15\": 9, \"94\": 2, \"71\": 5, \"106\": 5, \"24\": 3, \"98\": 7, \"101\": 3, \"127\": 5, \"109\": 1, \"10\": 1, \"110\": 2, \"52\": 2, \"117\": 1, \"0\": 3, \"11\": 1}, \"90\": {\"121\": 2, \"90\": 82, \"64\": 1, \"66\": 2, \"26\": 1, \"21\": 1, \"11\": 2, \"39\": 5, \"109\": 11, \"16\": 3, \"69\": 2, \"70\": 1, \"33\": 2, \"18\": 2, \"113\": 2, \"84\": 1, \"122\": 1, \"117\": 1, \"102\": 2}, \"93\": {\"93\": 24, \"111\": 1, \"9\": 1, \"88\": 3, \"105\": 3, \"35\": 2, \"49\": 1, \"8\": 11, \"4\": 4, \"107\": 17, \"72\": 1, \"43\": 2, \"126\": 1, \"106\": 10, \"87\": 7, \"70\": 5, \"127\": 2, \"12\": 1, \"124\": 1, \"108\": 6, \"10\": 2, \"44\": 1, \"101\": 5, \"5\": 1, \"110\": 4, \"96\": 1, \"28\": 1, \"42\": 1, \"1\": 1, \"0\": 1, \"40\": 3}, \"13\": {\"62\": 1, \"13\": 7, \"3\": 1, \"61\": 2, \"102\": 3, \"118\": 2}, \"67\": {\"111\": 1, \"67\": 13, \"38\": 1, \"69\": 1}, \"20\": {\"20\": 10, \"65\": 1, \"121\": 1, \"62\": 2, \"38\": 1, \"13\": 1}, \"2\": {\"5\": 1, \"2\": 14, \"67\": 1, \"118\": 1, \"25\": 1, \"113\": 1, \"16\": 2, \"26\": 2, \"39\": 1, \"1\": 1, \"69\": 2, \"129\": 1, \"100\": 1, \"33\": 2, \"117\": 1}, \"5\": {\"5\": 66, \"72\": 3, \"124\": 1, \"4\": 3, \"105\": 2, \"88\": 1, \"40\": 2, \"114\": 3, \"36\": 1, \"101\": 1, \"10\": 1, \"21\": 1, \"73\": 1, \"30\": 1, \"110\": 1}, \"54\": {\"54\": 12, \"101\": 1, \"108\": 2, \"56\": 1}, \"37\": {\"37\": 16}, \"38\": {\"38\": 14, \"14\": 1, \"70\": 1}, \"86\": {\"86\": 9, \"49\": 5, \"77\": 1, \"101\": 1, \"4\": 1, \"94\": 2, \"114\": 2, \"15\": 2, \"108\": 1, \"105\": 2, \"40\": 1, \"109\": 1, \"2\": 1, \"34\": 1, \"124\": 1, \"9\": 1, \"55\": 1, \"23\": 1, \"97\": 1, \"106\": 1}, \"55\": {\"55\": 10, \"41\": 1, \"4\": 1}, \"97\": {\"97\": 8, \"55\": 1, \"94\": 1, \"78\": 1, \"15\": 1, \"89\": 2, \"91\": 1, \"29\": 1, \"72\": 1, \"76\": 1, \"30\": 1, \"42\": 1}, \"29\": {\"89\": 1, \"29\": 27}, \"48\": {\"63\": 1, \"48\": 10, \"126\": 1}, \"60\": {\"60\": 5, \"76\": 2, \"13\": 1, \"18\": 2, \"109\": 1, \"64\": 1, \"33\": 1, \"1\": 2, \"118\": 1}, \"36\": {\"12\": 12, \"36\": 58, \"15\": 2, \"112\": 2, \"27\": 5, \"6\": 3, \"30\": 4, \"24\": 2, \"125\": 9, \"127\": 1, \"16\": 2, \"98\": 2, \"111\": 2, \"88\": 7, \"106\": 1, \"51\": 1, \"59\": 1, \"92\": 1, \"94\": 4, \"85\": 1, \"71\": 1, \"101\": 1}, \"42\": {\"73\": 1, \"118\": 4, \"1\": 2, \"48\": 1, \"44\": 1, \"105\": 1, \"5\": 2, \"42\": 10, \"26\": 1, \"7\": 1, \"19\": 2, \"18\": 1, \"33\": 1}, \"66\": {\"66\": 10, \"42\": 1, \"90\": 1, \"39\": 2, \"62\": 1, \"18\": 1}, \"126\": {\"9\": 1, \"7\": 9, \"47\": 2, \"74\": 1, \"126\": 25, \"19\": 2, \"43\": 11, \"8\": 2, \"90\": 2, \"33\": 1, \"1\": 7, \"109\": 6, \"84\": 6, \"87\": 2, \"122\": 4, \"14\": 2, \"114\": 6, \"40\": 3, \"11\": 2, \"70\": 3, \"18\": 1, \"5\": 6, \"108\": 1, \"124\": 8, \"16\": 1, \"26\": 1, \"83\": 2, \"49\": 2, \"73\": 1, \"107\": 1, \"44\": 2, \"71\": 1, \"110\": 1, \"78\": 1, \"69\": 1, \"102\": 1}, \"39\": {\"13\": 1, \"39\": 48, \"74\": 1, \"117\": 9, \"118\": 2, \"121\": 1, \"66\": 2, \"116\": 1, \"102\": 2, \"26\": 6, \"62\": 1, \"87\": 5, \"11\": 4, \"109\": 1, \"69\": 3, \"21\": 1, \"16\": 5, \"113\": 2, \"128\": 1, \"95\": 1, \"33\": 2, \"122\": 1, \"70\": 1, \"44\": 1, \"18\": 1, \"84\": 1}, \"107\": {\"107\": 95, \"91\": 1, \"40\": 1, \"105\": 1, \"0\": 1, \"106\": 5, \"93\": 5, \"18\": 1, \"4\": 5, \"10\": 1, \"70\": 2, \"17\": 2, \"5\": 2, \"110\": 1, \"127\": 1}, \"59\": {\"71\": 4, \"59\": 6, \"118\": 1, \"69\": 1}, \"117\": {\"39\": 8, \"117\": 68, \"95\": 1, \"69\": 6, \"26\": 17, \"33\": 2, \"109\": 2, \"16\": 16, \"11\": 6, \"70\": 1, \"113\": 3, \"62\": 1, \"18\": 1, \"90\": 1, \"102\": 3, \"118\": 2}, \"6\": {\"6\": 19, \"88\": 2, \"125\": 1, \"111\": 2, \"98\": 1, \"30\": 1, \"32\": 2, \"112\": 2, \"36\": 1, \"92\": 1}, \"123\": {\"123\": 15, \"122\": 1}, \"8\": {\"8\": 95, \"70\": 4, \"126\": 6, \"93\": 5, \"116\": 1, \"43\": 1, \"108\": 2, \"14\": 1, \"10\": 1, \"87\": 3, \"44\": 1, \"122\": 2, \"105\": 1, \"1\": 1}, \"112\": {\"112\": 8, \"27\": 3, \"98\": 1, \"36\": 1, \"68\": 1, \"94\": 2}, \"80\": {\"81\": 2, \"80\": 10, \"1\": 2, \"42\": 1, \"60\": 1}, \"125\": {\"125\": 125, \"36\": 10, \"94\": 1}, \"61\": {\"61\": 9, \"64\": 1, \"28\": 2}, \"45\": {\"45\": 2, \"67\": 1, \"33\": 1, \"66\": 1, \"129\": 1, \"50\": 2, \"114\": 2, \"60\": 1, \"64\": 1}, \"72\": {\"72\": 24, \"55\": 3, \"101\": 1, \"15\": 2, \"41\": 1, \"4\": 1}, \"87\": {\"96\": 2, \"126\": 3, \"114\": 8, \"122\": 4, \"89\": 1, \"87\": 35, \"83\": 2, \"39\": 1, \"21\": 2, \"43\": 5, \"44\": 3, \"40\": 3, \"105\": 7, \"8\": 2, \"1\": 5, \"109\": 3, \"93\": 2, \"84\": 4, \"5\": 2, \"108\": 1, \"70\": 4, \"4\": 2, \"10\": 1, \"107\": 2, \"76\": 1, \"16\": 1, \"78\": 1, \"7\": 1}, \"106\": {\"0\": 5, \"93\": 2, \"101\": 7, \"106\": 68, \"15\": 4, \"127\": 10, \"111\": 3, \"110\": 10, \"107\": 2, \"12\": 5, \"10\": 2, \"108\": 1, \"27\": 1, \"94\": 2, \"4\": 1, \"16\": 1}, \"35\": {\"4\": 1, \"27\": 1, \"83\": 1, \"35\": 5, \"6\": 1, \"110\": 1, \"5\": 1, \"72\": 1}, \"78\": {\"14\": 3, \"3\": 1, \"78\": 3, \"31\": 1, \"24\": 1, \"122\": 1, \"84\": 1, \"107\": 1, \"28\": 1, \"62\": 1, \"116\": 1, \"21\": 1}, \"15\": {\"52\": 1, \"15\": 43, \"88\": 5, \"110\": 9, \"21\": 1, \"24\": 5, \"32\": 1, \"98\": 1, \"127\": 1, \"12\": 6, \"94\": 5, \"18\": 2, \"101\": 4, \"71\": 6, \"125\": 1, \"111\": 3, \"10\": 3, \"106\": 2, \"53\": 1, \"30\": 2, \"3\": 1, \"36\": 1}, \"100\": {\"100\": 11, \"11\": 1, \"84\": 1, \"116\": 1, \"129\": 1, \"102\": 1}}, \"Wisig_2\": {\"91\": {\"101\": 3, \"91\": 9, \"17\": 2, \"32\": 2, \"42\": 1, \"30\": 1, \"11\": 1, \"8\": 1, \"24\": 1, \"111\": 1, \"98\": 1, \"108\": 1, \"74\": 1, \"127\": 1, \"49\": 1, \"121\": 1}, \"12\": {\"91\": 2, \"17\": 1, \"11\": 1, \"24\": 2, \"0\": 13, \"12\": 33, \"29\": 1, \"30\": 3, \"117\": 1, \"52\": 3, \"41\": 1, \"111\": 3, \"114\": 2, \"34\": 1, \"90\": 2, \"127\": 5, \"5\": 1, \"108\": 3, \"102\": 1, \"101\": 1, \"54\": 1, \"26\": 1, \"71\": 2, \"126\": 1, \"4\": 1, \"98\": 1, \"124\": 1}, \"101\": {\"101\": 116, \"24\": 1, \"15\": 8, \"36\": 7, \"106\": 3, \"30\": 8, \"0\": 1, \"125\": 1, \"111\": 2, \"117\": 1}, \"121\": {\"88\": 3, \"81\": 2, \"121\": 15, \"31\": 2, \"96\": 3, \"102\": 1, \"87\": 1, \"18\": 1, \"117\": 2, \"83\": 1, \"90\": 1, \"60\": 1, \"48\": 1, \"39\": 1, \"109\": 1}, \"118\": {\"88\": 2, \"33\": 4, \"13\": 1, \"87\": 4, \"118\": 17, \"45\": 3, \"116\": 1, \"62\": 2, \"72\": 1, \"102\": 3, \"67\": 1, \"109\": 3, \"60\": 1, \"16\": 7, \"93\": 1, \"10\": 1, \"70\": 1, \"40\": 1, \"89\": 1, \"78\": 1, \"84\": 4, \"107\": 1, \"82\": 1, \"1\": 1, \"90\": 1, \"39\": 1, \"69\": 2, \"18\": 1}, \"10\": {\"118\": 1, \"110\": 3, \"49\": 1, \"123\": 1, \"10\": 21, \"11\": 1, \"121\": 1, \"12\": 1, \"40\": 1, \"26\": 1, \"78\": 2, \"124\": 2, \"105\": 1, \"8\": 3, \"108\": 1, \"114\": 1, \"117\": 1, \"100\": 1, \"86\": 1, \"41\": 1, \"61\": 1, \"17\": 1, \"101\": 1, \"18\": 1, \"63\": 1, \"107\": 2, \"74\": 3, \"44\": 1, \"34\": 1, \"90\": 1, \"71\": 1}, \"117\": {\"121\": 1, \"117\": 78, \"26\": 8, \"102\": 1, \"2\": 1, \"18\": 8, \"81\": 1, \"39\": 3, \"16\": 2, \"113\": 3, \"87\": 3, \"109\": 2, \"31\": 1, \"92\": 1, \"69\": 2, \"93\": 2, \"120\": 2, \"126\": 1}, \"110\": {\"110\": 19, \"108\": 4, \"116\": 1, \"5\": 2, \"66\": 2, \"99\": 1, \"113\": 1, \"34\": 1, \"100\": 1, \"53\": 1, \"84\": 1, \"65\": 1, \"129\": 1, \"78\": 2, \"124\": 2}, \"97\": {\"91\": 1, \"97\": 9, \"15\": 1, \"103\": 2, \"0\": 2, \"111\": 1, \"58\": 1, \"54\": 1, \"52\": 1, \"94\": 1}, \"28\": {\"28\": 18, \"92\": 1, \"56\": 1}, \"88\": {\"118\": 2, \"88\": 66, \"1\": 1, \"83\": 2, \"63\": 4, \"102\": 5, \"70\": 6, \"96\": 2, \"78\": 2, \"109\": 12, \"5\": 1, \"87\": 2, \"90\": 3, \"39\": 2, \"16\": 1, \"43\": 2, \"62\": 1, \"76\": 1, \"14\": 1, \"21\": 2, \"93\": 2, \"26\": 1, \"8\": 1, \"117\": 1, \"69\": 1}, \"17\": {\"17\": 10, \"49\": 2, \"11\": 1, \"108\": 1, \"29\": 1, \"104\": 1}, \"126\": {\"118\": 2, \"126\": 31, \"63\": 1, \"84\": 7, \"70\": 9, \"44\": 5, \"13\": 1, \"80\": 1, \"60\": 1, \"1\": 9, \"122\": 2, \"88\": 3, \"33\": 7, \"109\": 1, \"5\": 2, \"43\": 3, \"16\": 3, \"87\": 2, \"39\": 4, \"8\": 1, \"93\": 6, \"90\": 2, \"40\": 1, \"89\": 1, \"20\": 4, \"66\": 1, \"3\": 2, \"102\": 1, \"62\": 1}, \"33\": {\"33\": 93, \"102\": 4, \"62\": 3, \"46\": 1, \"70\": 1, \"90\": 4, \"84\": 6, \"126\": 3, \"43\": 2, \"69\": 5, \"18\": 1, \"93\": 2, \"124\": 1, \"1\": 1, \"117\": 1}, \"86\": {\"86\": 25, \"108\": 1, \"124\": 1, \"104\": 1, \"8\": 2, \"107\": 1, \"5\": 1}, \"106\": {\"106\": 75, \"15\": 8, \"36\": 5, \"81\": 1, \"101\": 4, \"98\": 4, \"24\": 2, \"94\": 4, \"102\": 2, \"30\": 7, \"18\": 2, \"121\": 1, \"111\": 1, \"39\": 1, \"125\": 3}, \"54\": {\"54\": 14, \"111\": 1, \"15\": 2, \"35\": 1, \"127\": 1, \"98\": 1}, \"125\": {\"125\": 121, \"15\": 2, \"30\": 1, \"9\": 3, \"6\": 1, \"27\": 2, \"36\": 1, \"18\": 1}, \"83\": {\"118\": 1, \"83\": 22, \"20\": 1, \"90\": 4, \"87\": 4, \"88\": 1, \"16\": 1, \"39\": 2, \"63\": 1, \"13\": 1, \"96\": 1, \"33\": 1}, \"98\": {\"98\": 48, \"103\": 1, \"34\": 2, \"24\": 2, \"30\": 4, \"0\": 7, \"112\": 1, \"27\": 1, \"71\": 2, \"111\": 7, \"101\": 6, \"70\": 1, \"106\": 2, \"36\": 4, \"1\": 1, \"44\": 1, \"15\": 8, \"7\": 9, \"108\": 4, \"39\": 1, \"94\": 3, \"114\": 2, \"90\": 1, \"91\": 1, \"16\": 1}, \"11\": {\"98\": 1, \"4\": 2, \"53\": 1, \"12\": 2, \"3\": 4, \"11\": 13, \"20\": 1, \"41\": 1, \"77\": 1, \"71\": 3, \"19\": 1, \"114\": 7, \"108\": 1, \"34\": 2, \"0\": 3, \"7\": 6, \"111\": 3, \"124\": 4, \"69\": 1, \"122\": 2, \"5\": 4, \"17\": 1, \"129\": 1, \"97\": 1, \"92\": 1, \"29\": 1, \"85\": 1, \"16\": 1, \"52\": 1, \"105\": 4, \"127\": 1, \"94\": 2, \"109\": 1, \"24\": 1}, \"32\": {\"32\": 19, \"4\": 1, \"23\": 1, \"40\": 1, \"8\": 1, \"78\": 2, \"50\": 1, \"108\": 1, \"10\": 1, \"86\": 1, \"0\": 1, \"122\": 2, \"5\": 1, \"105\": 2, \"71\": 1}, \"42\": {\"83\": 3, \"86\": 1, \"42\": 8, \"104\": 1, \"46\": 1, \"14\": 1, \"128\": 1, \"43\": 1, \"12\": 2, \"33\": 1, \"127\": 1, \"22\": 1, \"38\": 1, \"11\": 1, \"129\": 1, \"110\": 1, \"27\": 1, \"68\": 1}, \"103\": {\"103\": 9, \"41\": 2, \"35\": 1, \"127\": 1, \"59\": 2, \"79\": 1}, \"87\": {\"83\": 1, \"13\": 2, \"126\": 2, \"87\": 21, \"96\": 1, \"63\": 1, \"116\": 2, \"117\": 5, \"81\": 1, \"89\": 2, \"90\": 3, \"26\": 3, \"92\": 1, \"57\": 1, \"39\": 9, \"70\": 3, \"21\": 1, \"62\": 2, \"18\": 5, \"93\": 4, \"44\": 1, \"16\": 5, \"88\": 4, \"1\": 2, \"102\": 5, \"113\": 1, \"33\": 3, \"100\": 1, \"64\": 1, \"46\": 2, \"65\": 1, \"66\": 1, \"72\": 1, \"84\": 8, \"69\": 1, \"43\": 1, \"109\": 2, \"120\": 1, \"118\": 1}, \"61\": {\"87\": 1, \"61\": 18, \"63\": 1}, \"13\": {\"13\": 7, \"31\": 1, \"57\": 1, \"93\": 1, \"80\": 1, \"116\": 1, \"126\": 1, \"89\": 1, \"102\": 1, \"18\": 1}, \"4\": {\"4\": 54, \"10\": 1, \"114\": 5, \"93\": 1, \"124\": 3, \"108\": 6, \"39\": 1, \"127\": 1, \"104\": 3, \"29\": 1, \"71\": 4, \"0\": 1, \"11\": 2, \"95\": 1, \"8\": 1, \"87\": 1}, \"15\": {\"15\": 54, \"103\": 2, \"68\": 3, \"113\": 2, \"77\": 1, \"12\": 2, \"106\": 15, \"7\": 1, \"101\": 5, \"6\": 1, \"36\": 5, \"124\": 2, \"93\": 1, \"94\": 1, \"125\": 4, \"24\": 2, \"0\": 5, \"111\": 3, \"51\": 2, \"58\": 2, \"25\": 1, \"105\": 1, \"127\": 1, \"39\": 1, \"30\": 2, \"98\": 1}, \"120\": {\"120\": 20}, \"80\": {\"80\": 10, \"126\": 1, \"1\": 3, \"13\": 1, \"46\": 1}, \"72\": {\"102\": 2, \"120\": 1, \"93\": 2, \"21\": 1, \"118\": 1, \"72\": 14, \"13\": 1, \"82\": 2, \"60\": 1, \"33\": 1, \"31\": 2}, \"64\": {\"64\": 11, \"3\": 1, \"121\": 1, \"55\": 1, \"32\": 2}, \"81\": {\"81\": 12, \"88\": 1, \"20\": 2, \"72\": 2, \"116\": 2, \"117\": 2, \"69\": 2, \"2\": 1}, \"102\": {\"102\": 78, \"93\": 1, \"82\": 1, \"81\": 1, \"1\": 1, \"84\": 3, \"31\": 2, \"109\": 1, \"69\": 6, \"16\": 6, \"33\": 7, \"8\": 1, \"26\": 1, \"100\": 1, \"39\": 1, \"118\": 1}, \"76\": {\"76\": 13, \"49\": 1, \"67\": 1, \"123\": 1}, \"49\": {\"52\": 3, \"56\": 1, \"114\": 1, \"8\": 1, \"49\": 5, \"9\": 1, \"58\": 1, \"7\": 1, \"77\": 1, \"0\": 1, \"75\": 1, \"85\": 1, \"104\": 1, \"117\": 1, \"128\": 1, \"125\": 1, \"91\": 2}, \"129\": {\"49\": 1, \"129\": 18, \"70\": 1, \"86\": 2, \"32\": 1, \"1\": 1, \"107\": 3, \"55\": 1, \"128\": 1, \"110\": 1, \"112\": 1, \"104\": 1}, \"89\": {\"121\": 6, \"89\": 19, \"102\": 1, \"23\": 2, \"78\": 1, \"21\": 2, \"118\": 1, \"92\": 2, \"51\": 1, \"65\": 1}, \"52\": {\"52\": 12, \"0\": 2, \"97\": 1, \"36\": 1, \"12\": 1, \"111\": 1, \"101\": 1, \"68\": 1}, \"35\": {\"52\": 1, \"98\": 1, \"12\": 2, \"35\": 5, \"41\": 1, \"103\": 2}, \"53\": {\"53\": 16}, \"26\": {\"26\": 83, \"18\": 5, \"117\": 7, \"78\": 1, \"69\": 8, \"113\": 2, \"93\": 8, \"87\": 2, \"62\": 2, \"102\": 7, \"44\": 1, \"99\": 1, \"88\": 1}, \"96\": {\"61\": 1, \"82\": 1, \"87\": 1, \"2\": 1, \"96\": 8, \"63\": 1, \"116\": 3, \"13\": 1, \"99\": 1, \"26\": 1, \"88\": 1}, \"27\": {\"12\": 2, \"27\": 15, \"79\": 2, \"21\": 2, \"128\": 1, \"15\": 4, \"99\": 1, \"54\": 1, \"109\": 2, \"106\": 2, \"86\": 1, \"7\": 1, \"101\": 1, \"98\": 2, \"88\": 1, \"127\": 2, \"8\": 2, \"0\": 3, \"18\": 2, \"62\": 1, \"36\": 6, \"9\": 5, \"113\": 1, \"97\": 2, \"29\": 1, \"111\": 1, \"11\": 1, \"125\": 1, \"117\": 1, \"83\": 1}, \"24\": {\"27\": 4, \"25\": 2, \"93\": 1, \"24\": 16, \"112\": 1, \"106\": 5, \"0\": 1, \"15\": 11, \"49\": 2, \"8\": 7, \"37\": 1, \"101\": 6, \"34\": 1, \"36\": 5, \"1\": 1, \"122\": 1, \"70\": 2, \"39\": 2, \"109\": 2, \"98\": 9, \"30\": 2, \"43\": 1, \"105\": 1, \"88\": 3, \"3\": 1, \"58\": 3, \"94\": 5, \"54\": 1, \"10\": 2, \"60\": 1, \"18\": 1, \"124\": 1, \"119\": 1, \"26\": 2, \"44\": 1, \"107\": 1, \"69\": 1, \"110\": 1, \"40\": 1, \"108\": 1, \"62\": 1}, \"82\": {\"82\": 28, \"117\": 1, \"2\": 1, \"39\": 2, \"84\": 1, \"13\": 1, \"89\": 1, \"18\": 1}, \"18\": {\"18\": 107, \"48\": 2, \"117\": 2, \"26\": 6, \"39\": 1, \"93\": 2, \"16\": 1, \"44\": 1, \"113\": 5, \"118\": 1}, \"69\": {\"82\": 2, \"69\": 84, \"102\": 14, \"57\": 1, \"2\": 2, \"26\": 3, \"39\": 1, \"16\": 6, \"93\": 3, \"44\": 2, \"109\": 1, \"87\": 1, \"84\": 1, \"33\": 1}, \"47\": {\"129\": 2, \"70\": 1, \"47\": 5, \"110\": 1, \"19\": 1, \"22\": 2}, \"85\": {\"85\": 16, \"3\": 4, \"73\": 3, \"4\": 1, \"114\": 3, \"122\": 1, \"24\": 1, \"49\": 1, \"5\": 1, \"71\": 1}, \"2\": {\"2\": 26, \"57\": 1, \"69\": 1, \"26\": 1, \"93\": 1, \"81\": 1, \"117\": 1}, \"67\": {\"67\": 12, \"45\": 1, \"84\": 2, \"44\": 1}, \"39\": {\"70\": 3, \"39\": 30, \"61\": 2, \"88\": 6, \"81\": 1, \"120\": 1, \"113\": 2, \"121\": 2, \"102\": 5, \"93\": 2, \"90\": 5, \"21\": 1, \"109\": 5, \"83\": 3, \"62\": 3, \"44\": 1, \"33\": 1, \"118\": 2, \"18\": 5, \"69\": 3, \"126\": 3, \"117\": 3, \"87\": 6, \"123\": 2, \"82\": 1, \"78\": 1, \"99\": 1, \"96\": 1, \"20\": 3, \"48\": 1, \"66\": 1, \"26\": 1, \"2\": 2, \"43\": 1, \"16\": 1, \"84\": 1}, \"99\": {\"99\": 20, \"18\": 4, \"102\": 1, \"88\": 1, \"89\": 1, \"20\": 1, \"117\": 2, \"121\": 2}, \"74\": {\"74\": 11, \"86\": 1, \"129\": 1, \"106\": 1, \"75\": 2}, \"105\": {\"85\": 1, \"74\": 1, \"105\": 65, \"107\": 5, \"129\": 1, \"78\": 1, \"5\": 6, \"10\": 1, \"124\": 2, \"43\": 3, \"3\": 4, \"40\": 17, \"62\": 2, \"122\": 6, \"4\": 4, \"8\": 3, \"26\": 2, \"18\": 1, \"55\": 2, \"32\": 1, \"128\": 1, \"117\": 1, \"71\": 1, \"114\": 1}, \"70\": {\"70\": 20, \"89\": 1, \"38\": 1, \"78\": 2, \"39\": 6, \"126\": 5, \"22\": 2, \"10\": 2, \"43\": 8, \"37\": 3, \"14\": 2, \"83\": 1, \"3\": 8, \"88\": 12, \"2\": 1, \"40\": 10, \"90\": 2, \"16\": 4, \"1\": 2, \"62\": 5, \"84\": 2, \"26\": 3, \"44\": 2, \"109\": 1, \"5\": 1, \"33\": 4, \"55\": 1, \"19\": 1, \"61\": 1, \"105\": 1, \"122\": 2, \"113\": 1, \"21\": 1, \"93\": 2, \"108\": 1, \"102\": 1}, \"55\": {\"55\": 15, \"128\": 1}, \"30\": {\"91\": 3, \"30\": 24, \"75\": 1, \"106\": 8, \"97\": 1, \"0\": 7, \"98\": 4, \"94\": 9, \"27\": 1, \"101\": 11, \"1\": 1, \"24\": 2, \"114\": 1, \"111\": 5, \"12\": 2, \"127\": 6, \"122\": 2, \"8\": 2, \"124\": 1, \"36\": 5, \"4\": 1, \"125\": 1, \"93\": 1, \"25\": 1, \"54\": 1, \"58\": 1, \"15\": 5, \"108\": 4, \"117\": 1}, \"60\": {\"60\": 10, \"110\": 1, \"88\": 2, \"20\": 1, \"21\": 1, \"66\": 1, \"84\": 1, \"96\": 1, \"126\": 2, \"87\": 1, \"121\": 1, \"123\": 2, \"92\": 1, \"90\": 1, \"44\": 1, \"89\": 1}, \"92\": {\"92\": 16, \"51\": 1, \"76\": 2, \"75\": 1, \"105\": 1, \"69\": 1, \"43\": 1, \"73\": 1, \"48\": 1, \"80\": 1, \"107\": 1, \"1\": 1}, \"45\": {\"92\": 2, \"45\": 11, \"78\": 1, \"14\": 1, \"65\": 1}, \"127\": {\"114\": 2, \"127\": 69, \"34\": 1, \"111\": 13, \"0\": 3, \"12\": 5, \"98\": 2, \"108\": 2, \"4\": 5, \"118\": 1, \"79\": 2, \"103\": 1, \"77\": 1, \"68\": 1, \"29\": 1, \"11\": 1, \"15\": 1, \"122\": 1}, \"9\": {\"45\": 1, \"9\": 29, \"113\": 1, \"27\": 1}, \"115\": {\"127\": 1, \"73\": 1, \"115\": 9, \"114\": 1}, \"73\": {\"73\": 23, \"5\": 2, \"85\": 1, \"78\": 1, \"3\": 1}, \"108\": {\"127\": 4, \"115\": 1, \"108\": 42, \"61\": 1, \"68\": 2, \"74\": 2, \"49\": 1, \"129\": 1, \"79\": 3, \"122\": 8, \"0\": 4, \"105\": 4, \"111\": 7, \"86\": 1, \"98\": 2, \"8\": 11, \"114\": 7, \"124\": 6, \"12\": 2, \"7\": 2, \"71\": 3, \"1\": 1, \"4\": 4, \"3\": 2, \"5\": 2, \"44\": 1, \"11\": 2, \"91\": 2, \"32\": 1, \"110\": 1, \"107\": 1, \"23\": 1, \"27\": 1, \"15\": 2, \"40\": 1, \"70\": 2}, \"114\": {\"114\": 72, \"32\": 1, \"129\": 1, \"49\": 2, \"71\": 3, \"40\": 1, \"12\": 1, \"107\": 1, \"98\": 1, \"117\": 1, \"124\": 4, \"111\": 1, \"7\": 4, \"24\": 2, \"4\": 8, \"115\": 1, \"41\": 1, \"72\": 1, \"127\": 4, \"34\": 1, \"23\": 1, \"108\": 2, \"113\": 1, \"11\": 1}, \"63\": {\"60\": 2, \"63\": 14, \"120\": 2, \"88\": 1, \"35\": 1}, \"93\": {\"93\": 68, \"45\": 1, \"102\": 10, \"78\": 1, \"16\": 5, \"26\": 4, \"33\": 3, \"39\": 3, \"126\": 5, \"117\": 2, \"69\": 7, \"70\": 2, \"87\": 3, \"44\": 2, \"90\": 1, \"99\": 1, \"18\": 1, \"121\": 1, \"31\": 1, \"10\": 1, \"109\": 2, \"82\": 1, \"83\": 1, \"88\": 1, \"113\": 1}, \"7\": {\"7\": 99, \"56\": 1, \"85\": 1, \"114\": 8, \"11\": 1, \"124\": 2, \"127\": 1, \"5\": 1, \"0\": 2, \"108\": 1, \"71\": 1, \"8\": 2, \"122\": 1, \"3\": 2, \"4\": 2, \"49\": 2, \"12\": 2, \"98\": 3}, \"31\": {\"31\": 17, \"121\": 1, \"14\": 1, \"21\": 1}, \"123\": {\"123\": 12, \"20\": 1, \"28\": 1, \"44\": 1, \"129\": 1}, \"128\": {\"19\": 2, \"111\": 2, \"108\": 1, \"51\": 1, \"68\": 1, \"62\": 1, \"109\": 1, \"23\": 1, \"14\": 1, \"94\": 1, \"27\": 1, \"90\": 1, \"42\": 2, \"107\": 1, \"29\": 2, \"58\": 1, \"78\": 1, \"122\": 1, \"52\": 1, \"128\": 1}, \"0\": {\"97\": 5, \"0\": 52, \"24\": 4, \"12\": 8, \"87\": 1, \"71\": 1, \"101\": 4, \"70\": 2, \"127\": 4, \"30\": 8, \"124\": 1, \"93\": 1, \"8\": 1, \"98\": 2, \"117\": 1, \"108\": 4, \"4\": 2, \"111\": 5, \"52\": 1, \"41\": 1, \"11\": 1, \"95\": 1, \"27\": 1, \"16\": 1, \"83\": 1, \"15\": 1, \"7\": 1, \"36\": 1}, \"3\": {\"86\": 1, \"19\": 2, \"3\": 85, \"40\": 5, \"23\": 2, \"112\": 1, \"12\": 1, \"128\": 3, \"114\": 3, \"71\": 5, \"122\": 3, \"107\": 1, \"24\": 2, \"87\": 1, \"43\": 2, \"98\": 1, \"5\": 9, \"56\": 1, \"49\": 1, \"111\": 1, \"78\": 1, \"11\": 2, \"110\": 1, \"126\": 1, \"8\": 1}, \"19\": {\"19\": 15, \"3\": 1, \"30\": 1, \"50\": 1, \"63\": 2, \"37\": 2, \"126\": 1, \"32\": 1, \"105\": 1, \"80\": 1, \"28\": 1, \"29\": 1}, \"57\": {\"31\": 3, \"57\": 14, \"60\": 1, \"65\": 1, \"126\": 1}, \"78\": {\"61\": 1, \"128\": 1, \"42\": 1, \"121\": 1, \"126\": 1, \"12\": 1, \"70\": 2, \"83\": 1, \"78\": 7, \"118\": 1, \"39\": 1, \"71\": 2, \"5\": 1, \"88\": 1, \"3\": 2, \"14\": 1, \"122\": 2, \"40\": 3, \"123\": 1, \"4\": 1, \"8\": 1, \"129\": 1, \"66\": 1, \"124\": 2, \"85\": 1, \"90\": 1, \"32\": 1, \"96\": 1, \"44\": 1, \"10\": 1, \"21\": 1, \"73\": 1, \"87\": 1, \"109\": 1, \"93\": 1}, \"95\": {\"95\": 27, \"30\": 1, \"114\": 4, \"105\": 1, \"26\": 1, \"7\": 2}, \"40\": {\"40\": 64, \"110\": 3, \"107\": 11, \"34\": 1, \"129\": 1, \"23\": 1, \"105\": 16, \"3\": 3, \"43\": 3, \"95\": 2, \"122\": 11, \"114\": 3, \"124\": 1, \"93\": 1, \"90\": 1, \"71\": 2, \"127\": 1, \"5\": 5, \"108\": 2, \"96\": 1, \"69\": 1, \"109\": 1, \"26\": 3, \"18\": 1, \"8\": 1}, \"14\": {\"57\": 1, \"61\": 1, \"14\": 25, \"16\": 1, \"31\": 1, \"70\": 4, \"62\": 3, \"26\": 2, \"117\": 1, \"122\": 1, \"81\": 1, \"32\": 1, \"44\": 2, \"1\": 2, \"72\": 2}, \"36\": {\"54\": 1, \"36\": 42, \"68\": 2, \"97\": 3, \"58\": 1, \"125\": 11, \"108\": 2, \"6\": 1, \"94\": 2, \"9\": 3, \"101\": 10, \"91\": 1, \"15\": 9, \"90\": 1, \"127\": 1, \"98\": 8, \"106\": 4, \"24\": 1, \"27\": 4, \"0\": 5, \"118\": 1, \"111\": 2, \"30\": 3, \"109\": 1, \"39\": 1, \"89\": 1, \"29\": 1, \"31\": 1, \"82\": 1, \"12\": 2, \"87\": 1, \"26\": 1}, \"56\": {\"56\": 9, \"95\": 1, \"3\": 1, \"114\": 1}, \"111\": {\"111\": 91, \"52\": 3, \"101\": 3, \"0\": 2, \"12\": 2, \"30\": 5, \"70\": 1, \"127\": 10, \"24\": 3, \"98\": 1, \"108\": 2, \"49\": 1, \"7\": 1, \"4\": 1, \"15\": 1, \"114\": 1}, \"59\": {\"111\": 1, \"59\": 6, \"29\": 1, \"44\": 1, \"12\": 2, \"41\": 1, \"17\": 1, \"78\": 1, \"49\": 2}, \"79\": {\"79\": 12, \"27\": 1, \"103\": 1, \"98\": 1, \"91\": 1}, \"62\": {\"62\": 87, \"67\": 2, \"38\": 1, \"126\": 2, \"1\": 2, \"88\": 6, \"14\": 3, \"70\": 3, \"16\": 4, \"87\": 1, \"122\": 1, \"43\": 5, \"33\": 2, \"44\": 2, \"39\": 1}, \"21\": {\"21\": 17, \"63\": 3, \"57\": 1, \"118\": 1, \"109\": 2, \"126\": 1, \"70\": 3, \"2\": 1, \"102\": 1, \"93\": 1, \"88\": 2, \"90\": 1, \"113\": 1, \"44\": 1, \"89\": 1, \"62\": 1, \"31\": 2, \"116\": 2, \"120\": 1, \"117\": 1, \"87\": 1, \"26\": 2, \"39\": 1}, \"48\": {\"48\": 15, \"116\": 3, \"17\": 1, \"84\": 1}, \"16\": {\"16\": 51, \"20\": 2, \"65\": 1, \"99\": 2, \"88\": 8, \"69\": 15, \"43\": 2, \"70\": 1, \"26\": 1, \"21\": 1, \"109\": 6, \"118\": 2, \"39\": 6, \"90\": 4, \"126\": 5, \"1\": 1, \"62\": 5, \"102\": 1, \"33\": 2, \"44\": 1, \"18\": 1, \"66\": 1, \"82\": 1, \"93\": 2, \"113\": 1, \"117\": 1}, \"50\": {\"50\": 12, \"70\": 2, \"55\": 1, \"28\": 1}, \"44\": {\"20\": 1, \"44\": 64, \"46\": 1, \"38\": 2, \"126\": 4, \"39\": 2, \"88\": 1, \"43\": 2, \"1\": 2, \"21\": 1, \"109\": 4, \"83\": 1, \"87\": 1, \"18\": 1, \"31\": 1, \"60\": 1, \"93\": 3, \"90\": 1, \"62\": 1, \"70\": 2}, \"5\": {\"73\": 2, \"128\": 1, \"5\": 76, \"108\": 1, \"85\": 1, \"86\": 2, \"105\": 1, \"114\": 2, \"4\": 1, \"127\": 1, \"24\": 1, \"40\": 4, \"122\": 1, \"3\": 7, \"18\": 1, \"107\": 1, \"71\": 3, \"124\": 1, \"117\": 1, \"0\": 2}, \"20\": {\"20\": 13, \"118\": 2, \"106\": 1}, \"1\": {\"1\": 82, \"19\": 1, \"61\": 1, \"83\": 1, \"126\": 4, \"66\": 1, \"33\": 5, \"70\": 4, \"105\": 1, \"102\": 1, \"109\": 1, \"43\": 11, \"40\": 1, \"82\": 1, \"44\": 2, \"62\": 3}, \"65\": {\"65\": 16, \"84\": 1, \"113\": 1, \"96\": 1, \"120\": 1}, \"116\": {\"44\": 1, \"81\": 2, \"72\": 1, \"116\": 10, \"100\": 1, \"46\": 1, \"18\": 1, \"93\": 2, \"96\": 2, \"48\": 1, \"13\": 1, \"65\": 1, \"21\": 1, \"89\": 1, \"39\": 1, \"87\": 1}, \"51\": {\"51\": 10, \"15\": 2, \"34\": 1, \"125\": 2, \"0\": 1, \"36\": 1, \"20\": 1, \"6\": 1, \"111\": 1}, \"75\": {\"75\": 14, \"92\": 1, \"106\": 1}, \"100\": {\"100\": 13, \"67\": 1, \"19\": 1, \"45\": 1}, \"113\": {\"113\": 40, \"20\": 1, \"65\": 2, \"117\": 10, \"99\": 1, \"69\": 1, \"2\": 1, \"118\": 1, \"26\": 4, \"18\": 5, \"60\": 2, \"120\": 1, \"16\": 1, \"87\": 2}, \"41\": {\"41\": 8, \"7\": 1, \"85\": 2, \"77\": 1, \"27\": 1, \"49\": 1, \"12\": 2, \"114\": 1, \"68\": 1, \"103\": 1, \"52\": 1}, \"29\": {\"56\": 2, \"29\": 21, \"24\": 1, \"104\": 1, \"59\": 1, \"11\": 1, \"4\": 1, \"49\": 2, \"129\": 1, \"128\": 1}, \"23\": {\"49\": 1, \"32\": 2, \"23\": 7, \"127\": 3, \"104\": 1, \"81\": 1, \"121\": 2, \"34\": 2, \"24\": 1, \"124\": 2, \"39\": 1, \"88\": 1, \"96\": 1, \"10\": 1, \"16\": 1, \"37\": 2, \"14\": 1, \"61\": 1, \"99\": 4, \"110\": 3, \"122\": 3, \"8\": 1, \"90\": 1, \"18\": 1}, \"124\": {\"124\": 76, \"42\": 1, \"11\": 1, \"34\": 2, \"107\": 1, \"0\": 3, \"8\": 1, \"114\": 7, \"71\": 4, \"108\": 5, \"5\": 6, \"4\": 5, \"122\": 4, \"40\": 1, \"73\": 1, \"120\": 1, \"127\": 1, \"93\": 1, \"7\": 1, \"3\": 2}, \"68\": {\"68\": 11, \"0\": 1, \"97\": 1, \"18\": 1, \"27\": 2}, \"71\": {\"71\": 44, \"88\": 1, \"115\": 2, \"7\": 3, \"114\": 8, \"108\": 3, \"5\": 7, \"11\": 5, \"107\": 3, \"125\": 1, \"124\": 3, \"3\": 6, \"4\": 5, \"49\": 1, \"0\": 2, \"40\": 2, \"122\": 1, \"23\": 1, \"8\": 1, \"70\": 1}, \"107\": {\"107\": 39, \"105\": 3, \"90\": 3, \"119\": 1, \"39\": 1, \"110\": 2, \"116\": 1, \"34\": 1, \"112\": 1, \"122\": 1, \"43\": 1, \"26\": 1, \"114\": 1, \"5\": 2, \"128\": 1, \"109\": 1, \"14\": 1, \"40\": 2, \"10\": 1}, \"94\": {\"68\": 3, \"94\": 14, \"125\": 1, \"51\": 1, \"91\": 2, \"30\": 5, \"121\": 2, \"24\": 4, \"36\": 7, \"127\": 2, \"101\": 3, \"114\": 1, \"15\": 4, \"98\": 2, \"111\": 3, \"106\": 3, \"12\": 1, \"52\": 1, \"79\": 1, \"23\": 1, \"71\": 1, \"90\": 1, \"0\": 1}, \"77\": {\"77\": 10, \"49\": 2, \"11\": 1, \"103\": 1, \"65\": 1, \"111\": 1}, \"8\": {\"8\": 86, \"49\": 2, \"24\": 2, \"78\": 1, \"108\": 6, \"122\": 7, \"11\": 1, \"4\": 3, \"12\": 2, \"105\": 3, \"124\": 3, \"10\": 1, \"17\": 1, \"75\": 1, \"106\": 1, \"29\": 1, \"30\": 1}, \"46\": {\"46\": 8, \"44\": 1, \"22\": 1, \"116\": 1, \"82\": 1, \"89\": 1, \"43\": 1, \"31\": 1, \"80\": 1}, \"25\": {\"25\": 13, \"20\": 1, \"61\": 1, \"6\": 1}, \"122\": {\"122\": 50, \"115\": 1, \"62\": 2, \"29\": 1, \"44\": 1, \"110\": 2, \"10\": 3, \"12\": 2, \"40\": 8, \"105\": 5, \"121\": 1, \"107\": 1, \"71\": 2, \"4\": 2, \"11\": 2, \"0\": 2, \"23\": 2, \"5\": 3, \"127\": 3, \"70\": 2, \"8\": 12, \"126\": 2, \"114\": 1, \"3\": 3, \"90\": 1, \"111\": 2, \"43\": 2, \"1\": 1, \"24\": 2, \"86\": 1, \"26\": 1, \"128\": 1, \"34\": 2, \"32\": 2, \"124\": 6, \"108\": 3, \"95\": 1, \"88\": 1, \"7\": 1}, \"58\": {\"0\": 1, \"97\": 2, \"9\": 1, \"49\": 1, \"58\": 10, \"36\": 2, \"65\": 1, \"90\": 1, \"60\": 1}, \"6\": {\"51\": 3, \"36\": 3, \"94\": 1, \"6\": 18, \"101\": 3, \"9\": 1, \"25\": 2, \"125\": 1}, \"109\": {\"20\": 2, \"82\": 1, \"109\": 32, \"123\": 1, \"116\": 1, \"87\": 9, \"26\": 1, \"70\": 5, \"44\": 2, \"16\": 4, \"118\": 1, \"88\": 13, \"39\": 3, \"93\": 5, \"99\": 1, \"90\": 2, \"69\": 3, \"117\": 1, \"102\": 2, \"45\": 2, \"63\": 2, \"21\": 1, \"43\": 2, \"83\": 1, \"113\": 1, \"126\": 2}, \"119\": {\"119\": 10, \"96\": 1, \"102\": 2, \"21\": 1, \"39\": 1, \"106\": 1, \"83\": 2, \"90\": 1, \"88\": 1}, \"34\": {\"122\": 1, \"98\": 4, \"1\": 1, \"30\": 1, \"0\": 1, \"121\": 1, \"34\": 4, \"5\": 1, \"101\": 2, \"15\": 1, \"41\": 1, \"37\": 1, \"99\": 1, \"66\": 1, \"54\": 1, \"75\": 1, \"107\": 2, \"106\": 2, \"24\": 2, \"110\": 2, \"105\": 1}, \"90\": {\"117\": 1, \"90\": 81, \"33\": 2, \"84\": 1, \"60\": 1, \"69\": 5, \"83\": 1, \"16\": 3, \"26\": 4, \"109\": 7, \"93\": 11, \"70\": 4, \"126\": 2, \"87\": 2, \"44\": 4, \"96\": 1, \"99\": 1, \"31\": 1, \"118\": 1, \"39\": 2, \"102\": 1, \"88\": 3, \"18\": 1}, \"38\": {\"38\": 12, \"58\": 1, \"22\": 1, \"61\": 2}, \"104\": {\"106\": 1, \"104\": 15, \"5\": 2, \"90\": 1, \"101\": 1}, \"84\": {\"84\": 66, \"65\": 1, \"45\": 1, \"33\": 7, \"87\": 2, \"62\": 1, \"93\": 2, \"102\": 5, \"69\": 3, \"90\": 2, \"70\": 1, \"80\": 1}, \"112\": {\"112\": 8, \"98\": 2, \"8\": 1, \"34\": 2, \"19\": 1, \"114\": 1, \"32\": 1}, \"66\": {\"66\": 15, \"62\": 1, \"108\": 1, \"116\": 1, \"117\": 1, \"15\": 1}, \"22\": {\"46\": 1, \"22\": 12, \"38\": 2, \"126\": 1, \"1\": 1, \"37\": 1, \"53\": 1, \"21\": 1}, \"37\": {\"37\": 13, \"50\": 1, \"66\": 1, \"1\": 1}, \"43\": {\"62\": 6, \"84\": 3, \"21\": 2, \"43\": 21, \"23\": 2, \"1\": 6, \"3\": 7, \"88\": 11, \"109\": 4, \"107\": 3, \"124\": 2, \"70\": 5, \"102\": 2, \"39\": 3, \"44\": 7, \"40\": 3, \"5\": 7, \"87\": 5, \"126\": 3, \"33\": 7, \"71\": 1, \"122\": 1, \"105\": 1, \"28\": 1, \"78\": 1, \"60\": 1, \"20\": 1, \"118\": 3, \"120\": 1, \"69\": 1, \"18\": 1, \"117\": 1, \"90\": 1}}}, \"per_domain_accuracy\": {\"ORACLE.run114\": {\"accuracy\": 0.9190104166666667, \"source?\": true}, \"ORACLE.run120\": {\"accuracy\": 0.87109375, \"source?\": true}, \"ORACLE.run138\": {\"accuracy\": 0.91953125, \"source?\": true}, \"ORACLE.run18\": {\"accuracy\": 0.8578125, \"source?\": true}, \"ORACLE.run150\": {\"accuracy\": 0.90859375, \"source?\": true}, \"ORACLE.run132\": {\"accuracy\": 0.8893229166666666, \"source?\": true}, \"ORACLE.run126\": {\"accuracy\": 0.7481770833333333, \"source?\": true}, \"ORACLE.run144\": {\"accuracy\": 0.7841145833333333, \"source?\": true}, \"Wisig_3\": {\"accuracy\": 0.526452850877193, \"source?\": false}, \"Wisig_4\": {\"accuracy\": 0.4849537037037037, \"source?\": false}, \"Wisig_1\": {\"accuracy\": 0.5554521276595744, \"source?\": false}, \"Wisig_2\": {\"accuracy\": 0.5286239495798319, \"source?\": false}}}, \"history\": {\"epoch_indices\": [1, 2, 3, 4, 5, 6, 7, 8, 9], \"train_label_loss\": [0.824178370660437, 0.7133893916006422, 0.44091047028334635, 0.36873471123052737, 0.3272864814211581, 0.296614451992805, 0.2746609314814989, 0.25490166079329185, 0.24014496416240858], \"source_val_label_loss\": [31.370849609375, 0.5488840341567993, 0.4280388057231903, 0.41457778215408325, 0.3849393427371979, 0.3267950117588043, 0.35294675827026367, 0.2980000674724579, 0.28718695044517517], \"target_val_label_loss\": [920.4168090820312, 295.689453125, 485.52642822265625, 546.1278686523438, 618.9321899414062, 674.0736083984375, 777.6619873046875, 848.7139282226562, 1034.643310546875], \"source_val_acc_label\": [0.66875, 0.7991861979166667, 0.8458333333333333, 0.8498046875, 0.86220703125, 0.8813802083333333, 0.8703450520833333, 0.8931315104166667, 0.8977213541666667], \"target_val_acc_label\": [0.4337261652542373, 0.4812301377118644, 0.5153601694915254, 0.5106263241525424, 0.523536811440678, 0.5223450741525424, 0.516750529661017, 0.5125132415254238, 0.5148305084745762]}, \"dataset_metrics\": {\"source\": {\"train\": {\"n_unique_x\": 179200, \"n_unique_y\": 16, \"n_batch/episode\": 6720}, \"val\": {\"n_unique_x\": 38400, \"n_unique_y\": 16, \"n_batch/episode\": 960}, \"test\": {\"n_unique_x\": 38400, \"n_unique_y\": 16, \"n_batch/episode\": 960}}, \"target\": {\"train\": {\"n_unique_x\": 188967, \"n_unique_y\": 130, \"n_batch/episode\": 6837}, \"val\": {\"n_unique_x\": 40068, \"n_unique_y\": 130, \"n_batch/episode\": 944}, \"test\": {\"n_unique_x\": 40816, \"n_unique_y\": 130, \"n_batch/episode\": 969}}}}'"
      ]
     },
     "execution_count": 29,
     "metadata": {},
     "output_type": "execute_result"
    }
   ],
   "source": [
    "json.dumps(experiment)"
   ]
  }
 ],
 "metadata": {
  "celltoolbar": "Tags",
  "kernelspec": {
   "display_name": "Python 3 (ipykernel)",
   "language": "python",
   "name": "python3"
  },
  "language_info": {
   "codemirror_mode": {
    "name": "ipython",
    "version": 3
   },
   "file_extension": ".py",
   "mimetype": "text/x-python",
   "name": "python",
   "nbconvert_exporter": "python",
   "pygments_lexer": "ipython3",
   "version": "3.8.12"
  },
  "papermill": {
   "default_parameters": {},
   "duration": 2704.200083,
   "end_time": "2022-03-21T06:33:53.145805",
   "environment_variables": {},
   "exception": null,
   "input_path": "/root/csc500-main/csc500-notebooks/templates/tl_ptn_template.ipynb",
   "output_path": "trial.ipynb",
   "parameters": {
    "parameters": {
     "BEST_MODEL_PATH": "./best_model.pth",
     "NUM_LOGS_PER_EPOCH": 10,
     "criteria_for_best": "target_accuracy",
     "dataset_seed": 1337,
     "datasets": [
      {
       "domain_prefix": "Wisig_",
       "domains": [
        1,
        2,
        3,
        4
       ],
       "episode_transforms": [],
       "labels": [
        "1-10",
        "1-12",
        "1-14",
        "1-16",
        "1-18",
        "1-19",
        "1-8",
        "10-11",
        "10-17",
        "10-4",
        "10-7",
        "11-1",
        "11-10",
        "11-19",
        "11-20",
        "11-4",
        "11-7",
        "12-19",
        "12-20",
        "12-7",
        "13-14",
        "13-18",
        "13-19",
        "13-20",
        "13-3",
        "13-7",
        "14-10",
        "14-11",
        "14-12",
        "14-13",
        "14-14",
        "14-19",
        "14-20",
        "14-7",
        "14-8",
        "14-9",
        "15-1",
        "15-19",
        "15-6",
        "16-1",
        "16-16",
        "16-19",
        "16-20",
        "17-10",
        "17-11",
        "18-1",
        "18-10",
        "18-11",
        "18-12",
        "18-13",
        "18-14",
        "18-15",
        "18-16",
        "18-17",
        "18-19",
        "18-2",
        "18-20",
        "18-4",
        "18-5",
        "18-7",
        "18-8",
        "18-9",
        "19-1",
        "19-10",
        "19-11",
        "19-12",
        "19-13",
        "19-14",
        "19-15",
        "19-19",
        "19-2",
        "19-20",
        "19-3",
        "19-4",
        "19-6",
        "19-7",
        "19-8",
        "19-9",
        "2-1",
        "2-13",
        "2-15",
        "2-3",
        "2-4",
        "2-5",
        "2-6",
        "2-7",
        "2-8",
        "20-1",
        "20-12",
        "20-14",
        "20-15",
        "20-16",
        "20-18",
        "20-19",
        "20-20",
        "20-3",
        "20-4",
        "20-5",
        "20-7",
        "20-8",
        "3-1",
        "3-13",
        "3-18",
        "3-2",
        "3-8",
        "4-1",
        "4-10",
        "4-11",
        "5-1",
        "5-5",
        "6-1",
        "6-15",
        "6-6",
        "7-10",
        "7-11",
        "7-12",
        "7-13",
        "7-14",
        "7-7",
        "7-8",
        "7-9",
        "8-1",
        "8-13",
        "8-14",
        "8-18",
        "8-20",
        "8-3",
        "8-8",
        "9-1",
        "9-7"
       ],
       "num_examples_per_domain_per_label": -1,
       "pickle_path": "/root/csc500-main/datasets/wisig.node3-19.stratified_ds.2022A.pkl",
       "source_or_target_dataset": "target",
       "x_transforms": [
        "unit_power"
       ]
      },
      {
       "domain_prefix": "ORACLE.run1",
       "domains": [
        32,
        38,
        8,
        44,
        14,
        50,
        20,
        26
       ],
       "episode_transforms": [],
       "labels": [
        "3123D52",
        "3123D65",
        "3123D79",
        "3123D80",
        "3123D54",
        "3123D70",
        "3123D7B",
        "3123D89",
        "3123D58",
        "3123D76",
        "3123D7D",
        "3123EFE",
        "3123D64",
        "3123D78",
        "3123D7E",
        "3124E4A"
       ],
       "num_examples_per_domain_per_label": 2000,
       "pickle_path": "/root/csc500-main/datasets/oracle.Run1_framed_2000Examples_stratified_ds.2022A.pkl",
       "source_or_target_dataset": "source",
       "x_transforms": [
        "unit_power"
       ]
      }
     ],
     "device": "cuda",
     "experiment_name": "tl_1v2:wisig-oracle.run1.framed",
     "lr": 0.0001,
     "n_epoch": 50,
     "n_query": 2,
     "n_shot": 3,
     "n_way": 16,
     "patience": 3,
     "seed": 1337,
     "test_k_factor": 2,
     "torch_default_dtype": "torch.float32",
     "train_k_factor": 3,
     "val_k_factor": 2,
     "x_net": [
      {
       "class": "nnReshape",
       "kargs": {
        "shape": [
         -1,
         1,
         2,
         256
        ]
       }
      },
      {
       "class": "Conv2d",
       "kargs": {
        "bias": false,
        "in_channels": 1,
        "kernel_size": [
         1,
         7
        ],
        "out_channels": 256,
        "padding": [
         0,
         3
        ]
       }
      },
      {
       "class": "ReLU",
       "kargs": {
        "inplace": true
       }
      },
      {
       "class": "BatchNorm2d",
       "kargs": {
        "num_features": 256
       }
      },
      {
       "class": "Conv2d",
       "kargs": {
        "bias": true,
        "in_channels": 256,
        "kernel_size": [
         2,
         7
        ],
        "out_channels": 80,
        "padding": [
         0,
         3
        ]
       }
      },
      {
       "class": "ReLU",
       "kargs": {
        "inplace": true
       }
      },
      {
       "class": "BatchNorm2d",
       "kargs": {
        "num_features": 80
       }
      },
      {
       "class": "Flatten",
       "kargs": {}
      },
      {
       "class": "Linear",
       "kargs": {
        "in_features": 20480,
        "out_features": 256
       }
      },
      {
       "class": "ReLU",
       "kargs": {
        "inplace": true
       }
      },
      {
       "class": "BatchNorm1d",
       "kargs": {
        "num_features": 256
       }
      },
      {
       "class": "Linear",
       "kargs": {
        "in_features": 256,
        "out_features": 256
       }
      }
     ]
    }
   },
   "start_time": "2022-03-21T05:48:48.945722",
   "version": "2.3.4"
  }
 },
 "nbformat": 4,
 "nbformat_minor": 5
}