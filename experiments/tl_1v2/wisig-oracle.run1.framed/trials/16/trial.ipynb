{
 "cells": [
  {
   "cell_type": "markdown",
   "id": "9fea5f46",
   "metadata": {
    "papermill": {
     "duration": 0.029108,
     "end_time": "2022-03-21T12:48:03.457453",
     "exception": false,
     "start_time": "2022-03-21T12:48:03.428345",
     "status": "completed"
    },
    "tags": []
   },
   "source": [
    "# Transfer Learning Template"
   ]
  },
  {
   "cell_type": "code",
   "execution_count": 1,
   "id": "0902182a",
   "metadata": {
    "execution": {
     "iopub.execute_input": "2022-03-21T12:48:03.524178Z",
     "iopub.status.busy": "2022-03-21T12:48:03.517902Z",
     "iopub.status.idle": "2022-03-21T12:48:05.423270Z",
     "shell.execute_reply": "2022-03-21T12:48:05.422425Z"
    },
    "papermill": {
     "duration": 1.942607,
     "end_time": "2022-03-21T12:48:05.423471",
     "exception": false,
     "start_time": "2022-03-21T12:48:03.480864",
     "status": "completed"
    },
    "tags": []
   },
   "outputs": [],
   "source": [
    "%load_ext autoreload\n",
    "%autoreload 2\n",
    "%matplotlib inline\n",
    "\n",
    "    \n",
    "import os, json, sys, time, random\n",
    "import numpy as np\n",
    "import torch\n",
    "from torch.optim import Adam\n",
    "from  easydict import EasyDict\n",
    "import matplotlib.pyplot as plt\n",
    "\n",
    "from steves_models.steves_ptn import Steves_Prototypical_Network\n",
    "\n",
    "from steves_utils.lazy_iterable_wrapper import Lazy_Iterable_Wrapper\n",
    "from steves_utils.iterable_aggregator import Iterable_Aggregator\n",
    "from steves_utils.ptn_train_eval_test_jig import  PTN_Train_Eval_Test_Jig\n",
    "from steves_utils.torch_sequential_builder import build_sequential\n",
    "from steves_utils.torch_utils import get_dataset_metrics, ptn_confusion_by_domain_over_dataloader\n",
    "from steves_utils.utils_v2 import (per_domain_accuracy_from_confusion, get_datasets_base_path)\n",
    "from steves_utils.PTN.utils import independent_accuracy_assesment\n",
    "\n",
    "from torch.utils.data import DataLoader\n",
    "\n",
    "from steves_utils.stratified_dataset.episodic_accessor import Episodic_Accessor_Factory\n",
    "\n",
    "from steves_utils.ptn_do_report import (\n",
    "    get_loss_curve,\n",
    "    get_results_table,\n",
    "    get_parameters_table,\n",
    "    get_domain_accuracies,\n",
    ")\n",
    "\n",
    "from steves_utils.transforms import get_chained_transform"
   ]
  },
  {
   "cell_type": "markdown",
   "id": "41c840b4",
   "metadata": {
    "papermill": {
     "duration": 0.018417,
     "end_time": "2022-03-21T12:48:05.466421",
     "exception": false,
     "start_time": "2022-03-21T12:48:05.448004",
     "status": "completed"
    },
    "tags": []
   },
   "source": [
    "# Allowed Parameters\n",
    "These are allowed parameters, not defaults\n",
    "Each of these values need to be present in the injected parameters (the notebook will raise an exception if they are not present)\n",
    "\n",
    "Papermill uses the cell tag \"parameters\" to inject the real parameters below this cell.\n",
    "Enable tags to see what I mean"
   ]
  },
  {
   "cell_type": "code",
   "execution_count": 2,
   "id": "fd44eb83",
   "metadata": {
    "execution": {
     "iopub.execute_input": "2022-03-21T12:48:05.509518Z",
     "iopub.status.busy": "2022-03-21T12:48:05.508868Z",
     "iopub.status.idle": "2022-03-21T12:48:05.535027Z",
     "shell.execute_reply": "2022-03-21T12:48:05.534324Z"
    },
    "papermill": {
     "duration": 0.049961,
     "end_time": "2022-03-21T12:48:05.535190",
     "exception": false,
     "start_time": "2022-03-21T12:48:05.485229",
     "status": "completed"
    },
    "tags": []
   },
   "outputs": [],
   "source": [
    "required_parameters = {\n",
    "    \"experiment_name\",\n",
    "    \"lr\",\n",
    "    \"device\",\n",
    "    \"seed\",\n",
    "    \"dataset_seed\",\n",
    "    \"n_shot\",\n",
    "    \"n_query\",\n",
    "    \"n_way\",\n",
    "    \"train_k_factor\",\n",
    "    \"val_k_factor\",\n",
    "    \"test_k_factor\",\n",
    "    \"n_epoch\",\n",
    "    \"patience\",\n",
    "    \"criteria_for_best\",\n",
    "    \"x_net\",\n",
    "    \"datasets\",\n",
    "    \"torch_default_dtype\",\n",
    "    \"NUM_LOGS_PER_EPOCH\",\n",
    "    \"BEST_MODEL_PATH\",\n",
    "    \"x_shape\",\n",
    "}"
   ]
  },
  {
   "cell_type": "code",
   "execution_count": 3,
   "id": "fa3f0049",
   "metadata": {
    "execution": {
     "iopub.execute_input": "2022-03-21T12:48:05.596562Z",
     "iopub.status.busy": "2022-03-21T12:48:05.595319Z",
     "iopub.status.idle": "2022-03-21T12:48:05.617604Z",
     "shell.execute_reply": "2022-03-21T12:48:05.616793Z"
    },
    "papermill": {
     "duration": 0.056769,
     "end_time": "2022-03-21T12:48:05.617770",
     "exception": false,
     "start_time": "2022-03-21T12:48:05.561001",
     "status": "completed"
    },
    "tags": [
     "parameters"
    ]
   },
   "outputs": [],
   "source": [
    "from steves_utils.CORES.utils import (\n",
    "    ALL_NODES,\n",
    "    ALL_NODES_MINIMUM_1000_EXAMPLES,\n",
    "    ALL_DAYS\n",
    ")\n",
    "\n",
    "from steves_utils.ORACLE.utils_v2 import (\n",
    "    ALL_DISTANCES_FEET_NARROWED,\n",
    "    ALL_RUNS,\n",
    "    ALL_SERIAL_NUMBERS,\n",
    ")\n",
    "\n",
    "standalone_parameters = {}\n",
    "standalone_parameters[\"experiment_name\"] = \"STANDALONE PTN\"\n",
    "standalone_parameters[\"lr\"] = 0.001\n",
    "standalone_parameters[\"device\"] = \"cuda\"\n",
    "\n",
    "standalone_parameters[\"seed\"] = 1337\n",
    "standalone_parameters[\"dataset_seed\"] = 1337\n",
    "\n",
    "standalone_parameters[\"n_way\"] = 8\n",
    "standalone_parameters[\"n_shot\"] = 3\n",
    "standalone_parameters[\"n_query\"]  = 2\n",
    "standalone_parameters[\"train_k_factor\"] = 1\n",
    "standalone_parameters[\"val_k_factor\"] = 2\n",
    "standalone_parameters[\"test_k_factor\"] = 2\n",
    "\n",
    "\n",
    "standalone_parameters[\"n_epoch\"] = 50\n",
    "\n",
    "standalone_parameters[\"patience\"] = 10\n",
    "standalone_parameters[\"criteria_for_best\"] = \"source_loss\"\n",
    "\n",
    "standalone_parameters[\"datasets\"] = [\n",
    "    {\n",
    "        \"labels\": ALL_SERIAL_NUMBERS,\n",
    "        \"domains\": ALL_DISTANCES_FEET_NARROWED,\n",
    "        \"num_examples_per_domain_per_label\": 100,\n",
    "        \"pickle_path\": os.path.join(get_datasets_base_path(), \"oracle.Run1_framed_2000Examples_stratified_ds.2022A.pkl\"),\n",
    "        \"source_or_target_dataset\": \"source\",\n",
    "        \"x_transforms\": [\"unit_mag\", \"minus_two\"],\n",
    "        \"episode_transforms\": [],\n",
    "        \"domain_prefix\": \"ORACLE_\"\n",
    "    },\n",
    "    {\n",
    "        \"labels\": ALL_NODES,\n",
    "        \"domains\": ALL_DAYS,\n",
    "        \"num_examples_per_domain_per_label\": 100,\n",
    "        \"pickle_path\": os.path.join(get_datasets_base_path(), \"cores.stratified_ds.2022A.pkl\"),\n",
    "        \"source_or_target_dataset\": \"target\",\n",
    "        \"x_transforms\": [\"unit_power\", \"times_zero\"],\n",
    "        \"episode_transforms\": [],\n",
    "        \"domain_prefix\": \"CORES_\"\n",
    "    }   \n",
    "]\n",
    "\n",
    "standalone_parameters[\"torch_default_dtype\"] = \"torch.float32\" \n",
    "\n",
    "\n",
    "\n",
    "standalone_parameters[\"x_net\"] =     [\n",
    "    {\"class\": \"nnReshape\", \"kargs\": {\"shape\":[-1, 1, 2, 256]}},\n",
    "    {\"class\": \"Conv2d\", \"kargs\": { \"in_channels\":1, \"out_channels\":256, \"kernel_size\":(1,7), \"bias\":False, \"padding\":(0,3), },},\n",
    "    {\"class\": \"ReLU\", \"kargs\": {\"inplace\": True}},\n",
    "    {\"class\": \"BatchNorm2d\", \"kargs\": {\"num_features\":256}},\n",
    "\n",
    "    {\"class\": \"Conv2d\", \"kargs\": { \"in_channels\":256, \"out_channels\":80, \"kernel_size\":(2,7), \"bias\":True, \"padding\":(0,3), },},\n",
    "    {\"class\": \"ReLU\", \"kargs\": {\"inplace\": True}},\n",
    "    {\"class\": \"BatchNorm2d\", \"kargs\": {\"num_features\":80}},\n",
    "    {\"class\": \"Flatten\", \"kargs\": {}},\n",
    "\n",
    "    {\"class\": \"Linear\", \"kargs\": {\"in_features\": 80*256, \"out_features\": 256}}, # 80 units per IQ pair\n",
    "    {\"class\": \"ReLU\", \"kargs\": {\"inplace\": True}},\n",
    "    {\"class\": \"BatchNorm1d\", \"kargs\": {\"num_features\":256}},\n",
    "\n",
    "    {\"class\": \"Linear\", \"kargs\": {\"in_features\": 256, \"out_features\": 256}},\n",
    "]\n",
    "\n",
    "# Parameters relevant to results\n",
    "# These parameters will basically never need to change\n",
    "standalone_parameters[\"NUM_LOGS_PER_EPOCH\"] = 10\n",
    "standalone_parameters[\"BEST_MODEL_PATH\"] = \"./best_model.pth\"\n",
    "\n",
    "\n",
    "\n",
    "\n"
   ]
  },
  {
   "cell_type": "code",
   "execution_count": 4,
   "id": "c7bc0cf5",
   "metadata": {
    "execution": {
     "iopub.execute_input": "2022-03-21T12:48:05.676678Z",
     "iopub.status.busy": "2022-03-21T12:48:05.671494Z",
     "iopub.status.idle": "2022-03-21T12:48:05.702210Z",
     "shell.execute_reply": "2022-03-21T12:48:05.701399Z"
    },
    "papermill": {
     "duration": 0.057686,
     "end_time": "2022-03-21T12:48:05.702370",
     "exception": false,
     "start_time": "2022-03-21T12:48:05.644684",
     "status": "completed"
    },
    "tags": [
     "injected-parameters"
    ]
   },
   "outputs": [],
   "source": [
    "# Parameters\n",
    "parameters = {\n",
    "    \"experiment_name\": \"tl_1v2:wisig-oracle.run1.framed\",\n",
    "    \"device\": \"cuda\",\n",
    "    \"lr\": 0.0001,\n",
    "    \"n_shot\": 3,\n",
    "    \"n_query\": 2,\n",
    "    \"train_k_factor\": 3,\n",
    "    \"val_k_factor\": 2,\n",
    "    \"test_k_factor\": 2,\n",
    "    \"torch_default_dtype\": \"torch.float32\",\n",
    "    \"n_epoch\": 50,\n",
    "    \"patience\": 3,\n",
    "    \"criteria_for_best\": \"target_accuracy\",\n",
    "    \"x_net\": [\n",
    "        {\"class\": \"nnReshape\", \"kargs\": {\"shape\": [-1, 1, 2, 256]}},\n",
    "        {\n",
    "            \"class\": \"Conv2d\",\n",
    "            \"kargs\": {\n",
    "                \"in_channels\": 1,\n",
    "                \"out_channels\": 256,\n",
    "                \"kernel_size\": [1, 7],\n",
    "                \"bias\": False,\n",
    "                \"padding\": [0, 3],\n",
    "            },\n",
    "        },\n",
    "        {\"class\": \"ReLU\", \"kargs\": {\"inplace\": True}},\n",
    "        {\"class\": \"BatchNorm2d\", \"kargs\": {\"num_features\": 256}},\n",
    "        {\n",
    "            \"class\": \"Conv2d\",\n",
    "            \"kargs\": {\n",
    "                \"in_channels\": 256,\n",
    "                \"out_channels\": 80,\n",
    "                \"kernel_size\": [2, 7],\n",
    "                \"bias\": True,\n",
    "                \"padding\": [0, 3],\n",
    "            },\n",
    "        },\n",
    "        {\"class\": \"ReLU\", \"kargs\": {\"inplace\": True}},\n",
    "        {\"class\": \"BatchNorm2d\", \"kargs\": {\"num_features\": 80}},\n",
    "        {\"class\": \"Flatten\", \"kargs\": {}},\n",
    "        {\"class\": \"Linear\", \"kargs\": {\"in_features\": 20480, \"out_features\": 256}},\n",
    "        {\"class\": \"ReLU\", \"kargs\": {\"inplace\": True}},\n",
    "        {\"class\": \"BatchNorm1d\", \"kargs\": {\"num_features\": 256}},\n",
    "        {\"class\": \"Linear\", \"kargs\": {\"in_features\": 256, \"out_features\": 256}},\n",
    "    ],\n",
    "    \"NUM_LOGS_PER_EPOCH\": 10,\n",
    "    \"BEST_MODEL_PATH\": \"./best_model.pth\",\n",
    "    \"n_way\": 16,\n",
    "    \"datasets\": [\n",
    "        {\n",
    "            \"labels\": [\n",
    "                \"1-10\",\n",
    "                \"1-12\",\n",
    "                \"1-14\",\n",
    "                \"1-16\",\n",
    "                \"1-18\",\n",
    "                \"1-19\",\n",
    "                \"1-8\",\n",
    "                \"10-11\",\n",
    "                \"10-17\",\n",
    "                \"10-4\",\n",
    "                \"10-7\",\n",
    "                \"11-1\",\n",
    "                \"11-10\",\n",
    "                \"11-19\",\n",
    "                \"11-20\",\n",
    "                \"11-4\",\n",
    "                \"11-7\",\n",
    "                \"12-19\",\n",
    "                \"12-20\",\n",
    "                \"12-7\",\n",
    "                \"13-14\",\n",
    "                \"13-18\",\n",
    "                \"13-19\",\n",
    "                \"13-20\",\n",
    "                \"13-3\",\n",
    "                \"13-7\",\n",
    "                \"14-10\",\n",
    "                \"14-11\",\n",
    "                \"14-12\",\n",
    "                \"14-13\",\n",
    "                \"14-14\",\n",
    "                \"14-19\",\n",
    "                \"14-20\",\n",
    "                \"14-7\",\n",
    "                \"14-8\",\n",
    "                \"14-9\",\n",
    "                \"15-1\",\n",
    "                \"15-19\",\n",
    "                \"15-6\",\n",
    "                \"16-1\",\n",
    "                \"16-16\",\n",
    "                \"16-19\",\n",
    "                \"16-20\",\n",
    "                \"17-10\",\n",
    "                \"17-11\",\n",
    "                \"18-1\",\n",
    "                \"18-10\",\n",
    "                \"18-11\",\n",
    "                \"18-12\",\n",
    "                \"18-13\",\n",
    "                \"18-14\",\n",
    "                \"18-15\",\n",
    "                \"18-16\",\n",
    "                \"18-17\",\n",
    "                \"18-19\",\n",
    "                \"18-2\",\n",
    "                \"18-20\",\n",
    "                \"18-4\",\n",
    "                \"18-5\",\n",
    "                \"18-7\",\n",
    "                \"18-8\",\n",
    "                \"18-9\",\n",
    "                \"19-1\",\n",
    "                \"19-10\",\n",
    "                \"19-11\",\n",
    "                \"19-12\",\n",
    "                \"19-13\",\n",
    "                \"19-14\",\n",
    "                \"19-15\",\n",
    "                \"19-19\",\n",
    "                \"19-2\",\n",
    "                \"19-20\",\n",
    "                \"19-3\",\n",
    "                \"19-4\",\n",
    "                \"19-6\",\n",
    "                \"19-7\",\n",
    "                \"19-8\",\n",
    "                \"19-9\",\n",
    "                \"2-1\",\n",
    "                \"2-13\",\n",
    "                \"2-15\",\n",
    "                \"2-3\",\n",
    "                \"2-4\",\n",
    "                \"2-5\",\n",
    "                \"2-6\",\n",
    "                \"2-7\",\n",
    "                \"2-8\",\n",
    "                \"20-1\",\n",
    "                \"20-12\",\n",
    "                \"20-14\",\n",
    "                \"20-15\",\n",
    "                \"20-16\",\n",
    "                \"20-18\",\n",
    "                \"20-19\",\n",
    "                \"20-20\",\n",
    "                \"20-3\",\n",
    "                \"20-4\",\n",
    "                \"20-5\",\n",
    "                \"20-7\",\n",
    "                \"20-8\",\n",
    "                \"3-1\",\n",
    "                \"3-13\",\n",
    "                \"3-18\",\n",
    "                \"3-2\",\n",
    "                \"3-8\",\n",
    "                \"4-1\",\n",
    "                \"4-10\",\n",
    "                \"4-11\",\n",
    "                \"5-1\",\n",
    "                \"5-5\",\n",
    "                \"6-1\",\n",
    "                \"6-15\",\n",
    "                \"6-6\",\n",
    "                \"7-10\",\n",
    "                \"7-11\",\n",
    "                \"7-12\",\n",
    "                \"7-13\",\n",
    "                \"7-14\",\n",
    "                \"7-7\",\n",
    "                \"7-8\",\n",
    "                \"7-9\",\n",
    "                \"8-1\",\n",
    "                \"8-13\",\n",
    "                \"8-14\",\n",
    "                \"8-18\",\n",
    "                \"8-20\",\n",
    "                \"8-3\",\n",
    "                \"8-8\",\n",
    "                \"9-1\",\n",
    "                \"9-7\",\n",
    "            ],\n",
    "            \"domains\": [1, 2, 3, 4],\n",
    "            \"num_examples_per_domain_per_label\": -1,\n",
    "            \"pickle_path\": \"/root/csc500-main/datasets/wisig.node3-19.stratified_ds.2022A.pkl\",\n",
    "            \"source_or_target_dataset\": \"target\",\n",
    "            \"x_transforms\": [\"unit_mag\"],\n",
    "            \"episode_transforms\": [],\n",
    "            \"domain_prefix\": \"Wisig_\",\n",
    "        },\n",
    "        {\n",
    "            \"labels\": [\n",
    "                \"3123D52\",\n",
    "                \"3123D65\",\n",
    "                \"3123D79\",\n",
    "                \"3123D80\",\n",
    "                \"3123D54\",\n",
    "                \"3123D70\",\n",
    "                \"3123D7B\",\n",
    "                \"3123D89\",\n",
    "                \"3123D58\",\n",
    "                \"3123D76\",\n",
    "                \"3123D7D\",\n",
    "                \"3123EFE\",\n",
    "                \"3123D64\",\n",
    "                \"3123D78\",\n",
    "                \"3123D7E\",\n",
    "                \"3124E4A\",\n",
    "            ],\n",
    "            \"domains\": [32, 38, 8, 44, 14, 50, 20, 26],\n",
    "            \"num_examples_per_domain_per_label\": 2000,\n",
    "            \"pickle_path\": \"/root/csc500-main/datasets/oracle.Run1_framed_2000Examples_stratified_ds.2022A.pkl\",\n",
    "            \"source_or_target_dataset\": \"source\",\n",
    "            \"x_transforms\": [\"unit_mag\"],\n",
    "            \"episode_transforms\": [],\n",
    "            \"domain_prefix\": \"ORACLE.run1\",\n",
    "        },\n",
    "    ],\n",
    "    \"dataset_seed\": 154325,\n",
    "    \"seed\": 154325,\n",
    "}\n"
   ]
  },
  {
   "cell_type": "code",
   "execution_count": 5,
   "id": "8fa1cc33",
   "metadata": {
    "execution": {
     "iopub.execute_input": "2022-03-21T12:48:05.754080Z",
     "iopub.status.busy": "2022-03-21T12:48:05.753700Z",
     "iopub.status.idle": "2022-03-21T12:48:05.775168Z",
     "shell.execute_reply": "2022-03-21T12:48:05.774360Z"
    },
    "papermill": {
     "duration": 0.047515,
     "end_time": "2022-03-21T12:48:05.775331",
     "exception": false,
     "start_time": "2022-03-21T12:48:05.727816",
     "status": "completed"
    },
    "tags": []
   },
   "outputs": [],
   "source": [
    "# Set this to True if you want to run this template directly\n",
    "STANDALONE = False\n",
    "if STANDALONE:\n",
    "    print(\"parameters not injected, running with standalone_parameters\")\n",
    "    parameters = standalone_parameters\n",
    "\n",
    "if not 'parameters' in locals() and not 'parameters' in globals():\n",
    "    raise Exception(\"Parameter injection failed\")\n",
    "\n",
    "#Use an easy dict for all the parameters\n",
    "p = EasyDict(parameters)\n",
    "\n",
    "if \"x_shape\" not in p:\n",
    "    p.x_shape = [2,256] # Default to this if we dont supply x_shape\n",
    "\n",
    "\n",
    "supplied_keys = set(p.keys())\n",
    "\n",
    "if  supplied_keys != required_parameters:\n",
    "    print(\"Parameters are incorrect\")\n",
    "    if len(supplied_keys - required_parameters)>0: print(\"Shouldn't have:\", str(supplied_keys - required_parameters))\n",
    "    if len(required_parameters - supplied_keys)>0: print(\"Need to have:\", str(required_parameters - supplied_keys))\n",
    "    raise RuntimeError(\"Parameters are incorrect\")"
   ]
  },
  {
   "cell_type": "code",
   "execution_count": 6,
   "id": "3a028d58",
   "metadata": {
    "execution": {
     "iopub.execute_input": "2022-03-21T12:48:05.823363Z",
     "iopub.status.busy": "2022-03-21T12:48:05.822985Z",
     "iopub.status.idle": "2022-03-21T12:48:05.844382Z",
     "shell.execute_reply": "2022-03-21T12:48:05.843566Z"
    },
    "papermill": {
     "duration": 0.044762,
     "end_time": "2022-03-21T12:48:05.844543",
     "exception": false,
     "start_time": "2022-03-21T12:48:05.799781",
     "status": "completed"
    },
    "tags": []
   },
   "outputs": [],
   "source": [
    "###################################\n",
    "# Set the RNGs and make it all deterministic\n",
    "###################################\n",
    "np.random.seed(p.seed)\n",
    "random.seed(p.seed)\n",
    "torch.manual_seed(p.seed)\n",
    "\n",
    "torch.use_deterministic_algorithms(True) "
   ]
  },
  {
   "cell_type": "code",
   "execution_count": 7,
   "id": "b691acf6",
   "metadata": {
    "execution": {
     "iopub.execute_input": "2022-03-21T12:48:05.893840Z",
     "iopub.status.busy": "2022-03-21T12:48:05.893472Z",
     "iopub.status.idle": "2022-03-21T12:48:05.915959Z",
     "shell.execute_reply": "2022-03-21T12:48:05.915129Z"
    },
    "papermill": {
     "duration": 0.044827,
     "end_time": "2022-03-21T12:48:05.916118",
     "exception": false,
     "start_time": "2022-03-21T12:48:05.871291",
     "status": "completed"
    },
    "tags": []
   },
   "outputs": [],
   "source": [
    "###########################################\n",
    "# The stratified datasets honor this\n",
    "###########################################\n",
    "torch.set_default_dtype(eval(p.torch_default_dtype))"
   ]
  },
  {
   "cell_type": "code",
   "execution_count": 8,
   "id": "b5fba671",
   "metadata": {
    "execution": {
     "iopub.execute_input": "2022-03-21T12:48:05.967457Z",
     "iopub.status.busy": "2022-03-21T12:48:05.967088Z",
     "iopub.status.idle": "2022-03-21T12:48:06.019252Z",
     "shell.execute_reply": "2022-03-21T12:48:06.018484Z"
    },
    "papermill": {
     "duration": 0.074215,
     "end_time": "2022-03-21T12:48:06.019446",
     "exception": false,
     "start_time": "2022-03-21T12:48:05.945231",
     "status": "completed"
    },
    "tags": []
   },
   "outputs": [],
   "source": [
    "###################################\n",
    "# Build the network(s)\n",
    "# Note: It's critical to do this AFTER setting the RNG\n",
    "###################################\n",
    "x_net = build_sequential(p.x_net)"
   ]
  },
  {
   "cell_type": "code",
   "execution_count": 9,
   "id": "5d7e61cc",
   "metadata": {
    "execution": {
     "iopub.execute_input": "2022-03-21T12:48:06.068128Z",
     "iopub.status.busy": "2022-03-21T12:48:06.067758Z",
     "iopub.status.idle": "2022-03-21T12:48:06.091522Z",
     "shell.execute_reply": "2022-03-21T12:48:06.090717Z"
    },
    "papermill": {
     "duration": 0.047024,
     "end_time": "2022-03-21T12:48:06.091713",
     "exception": false,
     "start_time": "2022-03-21T12:48:06.044689",
     "status": "completed"
    },
    "tags": []
   },
   "outputs": [],
   "source": [
    "start_time_secs = time.time()"
   ]
  },
  {
   "cell_type": "code",
   "execution_count": 10,
   "id": "c6b67dfd",
   "metadata": {
    "execution": {
     "iopub.execute_input": "2022-03-21T12:48:06.140763Z",
     "iopub.status.busy": "2022-03-21T12:48:06.140396Z",
     "iopub.status.idle": "2022-03-21T12:48:06.159441Z",
     "shell.execute_reply": "2022-03-21T12:48:06.158642Z"
    },
    "papermill": {
     "duration": 0.041026,
     "end_time": "2022-03-21T12:48:06.159611",
     "exception": false,
     "start_time": "2022-03-21T12:48:06.118585",
     "status": "completed"
    },
    "tags": []
   },
   "outputs": [],
   "source": [
    "p.domains_source = []\n",
    "p.domains_target = []\n",
    "\n",
    "\n",
    "train_original_source = []\n",
    "val_original_source   = []\n",
    "test_original_source  = []\n",
    "\n",
    "train_original_target = []\n",
    "val_original_target   = []\n",
    "test_original_target  = []"
   ]
  },
  {
   "cell_type": "code",
   "execution_count": 11,
   "id": "e3d9c3d3",
   "metadata": {
    "execution": {
     "iopub.execute_input": "2022-03-21T12:48:06.209550Z",
     "iopub.status.busy": "2022-03-21T12:48:06.209178Z",
     "iopub.status.idle": "2022-03-21T12:48:06.230952Z",
     "shell.execute_reply": "2022-03-21T12:48:06.230250Z"
    },
    "papermill": {
     "duration": 0.044762,
     "end_time": "2022-03-21T12:48:06.231110",
     "exception": false,
     "start_time": "2022-03-21T12:48:06.186348",
     "status": "completed"
    },
    "tags": []
   },
   "outputs": [],
   "source": [
    "# global_x_transform_func = lambda x: normalize(x.to(torch.get_default_dtype()), \"unit_power\") # unit_power, unit_mag\n",
    "# global_x_transform_func = lambda x: normalize(x, \"unit_power\") # unit_power, unit_mag"
   ]
  },
  {
   "cell_type": "code",
   "execution_count": 12,
   "id": "acb78fd2",
   "metadata": {
    "execution": {
     "iopub.execute_input": "2022-03-21T12:48:06.290606Z",
     "iopub.status.busy": "2022-03-21T12:48:06.289770Z",
     "iopub.status.idle": "2022-03-21T12:48:06.309587Z",
     "shell.execute_reply": "2022-03-21T12:48:06.308752Z"
    },
    "papermill": {
     "duration": 0.051465,
     "end_time": "2022-03-21T12:48:06.309751",
     "exception": false,
     "start_time": "2022-03-21T12:48:06.258286",
     "status": "completed"
    },
    "tags": []
   },
   "outputs": [],
   "source": [
    "def add_dataset(\n",
    "    labels,\n",
    "    domains,\n",
    "    pickle_path,\n",
    "    x_transforms,\n",
    "    episode_transforms,\n",
    "    domain_prefix,\n",
    "    num_examples_per_domain_per_label,\n",
    "    source_or_target_dataset:str,\n",
    "    iterator_seed=p.seed,\n",
    "    dataset_seed=p.dataset_seed,\n",
    "    n_shot=p.n_shot,\n",
    "    n_way=p.n_way,\n",
    "    n_query=p.n_query,\n",
    "    train_val_test_k_factors=(p.train_k_factor,p.val_k_factor,p.test_k_factor),\n",
    "):\n",
    "   \n",
    "    if x_transforms == []: x_transform = None\n",
    "    else: x_transform = get_chained_transform(x_transforms)\n",
    "    \n",
    "    if episode_transforms == []: episode_transform = None\n",
    "    else: raise Exception(\"episode_transforms not implemented\")\n",
    "    \n",
    "    episode_transform = lambda tup, _prefix=domain_prefix: (_prefix + str(tup[0]), tup[1])\n",
    "\n",
    "\n",
    "    eaf = Episodic_Accessor_Factory(\n",
    "        labels=labels,\n",
    "        domains=domains,\n",
    "        num_examples_per_domain_per_label=num_examples_per_domain_per_label,\n",
    "        iterator_seed=iterator_seed,\n",
    "        dataset_seed=dataset_seed,\n",
    "        n_shot=n_shot,\n",
    "        n_way=n_way,\n",
    "        n_query=n_query,\n",
    "        train_val_test_k_factors=train_val_test_k_factors,\n",
    "        pickle_path=pickle_path,\n",
    "        x_transform_func=x_transform,\n",
    "    )\n",
    "\n",
    "    train, val, test = eaf.get_train(), eaf.get_val(), eaf.get_test()\n",
    "    train = Lazy_Iterable_Wrapper(train, episode_transform)\n",
    "    val = Lazy_Iterable_Wrapper(val, episode_transform)\n",
    "    test = Lazy_Iterable_Wrapper(test, episode_transform)\n",
    "\n",
    "    if source_or_target_dataset==\"source\":\n",
    "        train_original_source.append(train)\n",
    "        val_original_source.append(val)\n",
    "        test_original_source.append(test)\n",
    "\n",
    "        p.domains_source.extend(\n",
    "            [domain_prefix + str(u) for u in domains]\n",
    "        )\n",
    "    elif source_or_target_dataset==\"target\":\n",
    "        train_original_target.append(train)\n",
    "        val_original_target.append(val)\n",
    "        test_original_target.append(test)\n",
    "        p.domains_target.extend(\n",
    "            [domain_prefix + str(u) for u in domains]\n",
    "        )\n",
    "    else:\n",
    "        raise Exception(f\"invalid source_or_target_dataset: {source_or_target_dataset}\")\n",
    "    "
   ]
  },
  {
   "cell_type": "code",
   "execution_count": 13,
   "id": "fe266617",
   "metadata": {
    "execution": {
     "iopub.execute_input": "2022-03-21T12:48:06.359885Z",
     "iopub.status.busy": "2022-03-21T12:48:06.359030Z",
     "iopub.status.idle": "2022-03-21T12:48:49.424796Z",
     "shell.execute_reply": "2022-03-21T12:48:49.424039Z"
    },
    "papermill": {
     "duration": 43.088988,
     "end_time": "2022-03-21T12:48:49.424974",
     "exception": false,
     "start_time": "2022-03-21T12:48:06.335986",
     "status": "completed"
    },
    "tags": []
   },
   "outputs": [],
   "source": [
    "for ds in p.datasets:\n",
    "    add_dataset(**ds)"
   ]
  },
  {
   "cell_type": "code",
   "execution_count": 14,
   "id": "b90d65ac",
   "metadata": {
    "execution": {
     "iopub.execute_input": "2022-03-21T12:48:49.474095Z",
     "iopub.status.busy": "2022-03-21T12:48:49.473717Z",
     "iopub.status.idle": "2022-03-21T12:48:49.498477Z",
     "shell.execute_reply": "2022-03-21T12:48:49.497679Z"
    },
    "papermill": {
     "duration": 0.048005,
     "end_time": "2022-03-21T12:48:49.498644",
     "exception": false,
     "start_time": "2022-03-21T12:48:49.450639",
     "status": "completed"
    },
    "tags": []
   },
   "outputs": [],
   "source": [
    "# from steves_utils.CORES.utils import (\n",
    "#     ALL_NODES,\n",
    "#     ALL_NODES_MINIMUM_1000_EXAMPLES,\n",
    "#     ALL_DAYS\n",
    "# )\n",
    "\n",
    "# add_dataset(\n",
    "#     labels=ALL_NODES,\n",
    "#     domains = ALL_DAYS,\n",
    "#     num_examples_per_domain_per_label=100,\n",
    "#     pickle_path=os.path.join(get_datasets_base_path(), \"cores.stratified_ds.2022A.pkl\"),\n",
    "#     source_or_target_dataset=\"target\",\n",
    "#     x_transform_func=global_x_transform_func,\n",
    "#     domain_modifier=lambda u: f\"cores_{u}\"\n",
    "# )"
   ]
  },
  {
   "cell_type": "code",
   "execution_count": 15,
   "id": "76db484d",
   "metadata": {
    "execution": {
     "iopub.execute_input": "2022-03-21T12:48:49.552069Z",
     "iopub.status.busy": "2022-03-21T12:48:49.551465Z",
     "iopub.status.idle": "2022-03-21T12:48:49.574478Z",
     "shell.execute_reply": "2022-03-21T12:48:49.575147Z"
    },
    "papermill": {
     "duration": 0.048295,
     "end_time": "2022-03-21T12:48:49.575333",
     "exception": false,
     "start_time": "2022-03-21T12:48:49.527038",
     "status": "completed"
    },
    "tags": []
   },
   "outputs": [],
   "source": [
    "# from steves_utils.ORACLE.utils_v2 import (\n",
    "#     ALL_DISTANCES_FEET,\n",
    "#     ALL_RUNS,\n",
    "#     ALL_SERIAL_NUMBERS,\n",
    "# )\n",
    "\n",
    "\n",
    "# add_dataset(\n",
    "#     labels=ALL_SERIAL_NUMBERS,\n",
    "#     domains = list(set(ALL_DISTANCES_FEET) - {2,62}),\n",
    "#     num_examples_per_domain_per_label=100,\n",
    "#     pickle_path=os.path.join(get_datasets_base_path(), \"oracle.Run2_framed_2000Examples_stratified_ds.2022A.pkl\"),\n",
    "#     source_or_target_dataset=\"source\",\n",
    "#     x_transform_func=global_x_transform_func,\n",
    "#     domain_modifier=lambda u: f\"oracle1_{u}\"\n",
    "# )\n"
   ]
  },
  {
   "cell_type": "code",
   "execution_count": 16,
   "id": "97dea9d2",
   "metadata": {
    "execution": {
     "iopub.execute_input": "2022-03-21T12:48:49.627854Z",
     "iopub.status.busy": "2022-03-21T12:48:49.625857Z",
     "iopub.status.idle": "2022-03-21T12:48:49.650398Z",
     "shell.execute_reply": "2022-03-21T12:48:49.651062Z"
    },
    "papermill": {
     "duration": 0.047838,
     "end_time": "2022-03-21T12:48:49.651253",
     "exception": false,
     "start_time": "2022-03-21T12:48:49.603415",
     "status": "completed"
    },
    "tags": []
   },
   "outputs": [],
   "source": [
    "# from steves_utils.ORACLE.utils_v2 import (\n",
    "#     ALL_DISTANCES_FEET,\n",
    "#     ALL_RUNS,\n",
    "#     ALL_SERIAL_NUMBERS,\n",
    "# )\n",
    "\n",
    "\n",
    "# add_dataset(\n",
    "#     labels=ALL_SERIAL_NUMBERS,\n",
    "#     domains = list(set(ALL_DISTANCES_FEET) - {2,62,56}),\n",
    "#     num_examples_per_domain_per_label=100,\n",
    "#     pickle_path=os.path.join(get_datasets_base_path(), \"oracle.Run2_framed_2000Examples_stratified_ds.2022A.pkl\"),\n",
    "#     source_or_target_dataset=\"source\",\n",
    "#     x_transform_func=global_x_transform_func,\n",
    "#     domain_modifier=lambda u: f\"oracle2_{u}\"\n",
    "# )"
   ]
  },
  {
   "cell_type": "code",
   "execution_count": 17,
   "id": "6f289866",
   "metadata": {
    "execution": {
     "iopub.execute_input": "2022-03-21T12:48:49.702499Z",
     "iopub.status.busy": "2022-03-21T12:48:49.702095Z",
     "iopub.status.idle": "2022-03-21T12:48:49.720622Z",
     "shell.execute_reply": "2022-03-21T12:48:49.719920Z"
    },
    "papermill": {
     "duration": 0.04136,
     "end_time": "2022-03-21T12:48:49.720804",
     "exception": false,
     "start_time": "2022-03-21T12:48:49.679444",
     "status": "completed"
    },
    "tags": []
   },
   "outputs": [],
   "source": [
    "# add_dataset(\n",
    "#     labels=list(range(19)),\n",
    "#     domains = [0,1,2],\n",
    "#     num_examples_per_domain_per_label=100,\n",
    "#     pickle_path=os.path.join(get_datasets_base_path(), \"metehan.stratified_ds.2022A.pkl\"),\n",
    "#     source_or_target_dataset=\"target\",\n",
    "#     x_transform_func=global_x_transform_func,\n",
    "#     domain_modifier=lambda u: f\"met_{u}\"\n",
    "# )"
   ]
  },
  {
   "cell_type": "code",
   "execution_count": 18,
   "id": "86a863c3",
   "metadata": {
    "execution": {
     "iopub.execute_input": "2022-03-21T12:48:49.774216Z",
     "iopub.status.busy": "2022-03-21T12:48:49.773841Z",
     "iopub.status.idle": "2022-03-21T12:48:49.796559Z",
     "shell.execute_reply": "2022-03-21T12:48:49.795817Z"
    },
    "papermill": {
     "duration": 0.046166,
     "end_time": "2022-03-21T12:48:49.796721",
     "exception": false,
     "start_time": "2022-03-21T12:48:49.750555",
     "status": "completed"
    },
    "tags": []
   },
   "outputs": [],
   "source": [
    "# # from steves_utils.wisig.utils import (\n",
    "# #     ALL_NODES_MINIMUM_100_EXAMPLES,\n",
    "# #     ALL_NODES_MINIMUM_500_EXAMPLES,\n",
    "# #     ALL_NODES_MINIMUM_1000_EXAMPLES,\n",
    "# #     ALL_DAYS\n",
    "# # )\n",
    "\n",
    "# import steves_utils.wisig.utils as wisig\n",
    "\n",
    "\n",
    "# add_dataset(\n",
    "#     labels=wisig.ALL_NODES_MINIMUM_100_EXAMPLES,\n",
    "#     domains = wisig.ALL_DAYS,\n",
    "#     num_examples_per_domain_per_label=100,\n",
    "#     pickle_path=os.path.join(get_datasets_base_path(), \"wisig.node3-19.stratified_ds.2022A.pkl\"),\n",
    "#     source_or_target_dataset=\"target\",\n",
    "#     x_transform_func=global_x_transform_func,\n",
    "#     domain_modifier=lambda u: f\"wisig_{u}\"\n",
    "# )"
   ]
  },
  {
   "cell_type": "code",
   "execution_count": 19,
   "id": "fd5442bc",
   "metadata": {
    "execution": {
     "iopub.execute_input": "2022-03-21T12:48:49.857593Z",
     "iopub.status.busy": "2022-03-21T12:48:49.857203Z",
     "iopub.status.idle": "2022-03-21T12:48:49.878018Z",
     "shell.execute_reply": "2022-03-21T12:48:49.877275Z"
    },
    "papermill": {
     "duration": 0.051938,
     "end_time": "2022-03-21T12:48:49.878181",
     "exception": false,
     "start_time": "2022-03-21T12:48:49.826243",
     "status": "completed"
    },
    "tags": []
   },
   "outputs": [],
   "source": [
    "###################################\n",
    "# Build the dataset\n",
    "###################################\n",
    "train_original_source = Iterable_Aggregator(train_original_source, p.seed)\n",
    "val_original_source = Iterable_Aggregator(val_original_source, p.seed)\n",
    "test_original_source = Iterable_Aggregator(test_original_source, p.seed)\n",
    "\n",
    "\n",
    "train_original_target = Iterable_Aggregator(train_original_target, p.seed)\n",
    "val_original_target = Iterable_Aggregator(val_original_target, p.seed)\n",
    "test_original_target = Iterable_Aggregator(test_original_target, p.seed)\n",
    "\n",
    "# For CNN We only use X and Y. And we only train on the source.\n",
    "# Properly form the data using a transform lambda and Lazy_Iterable_Wrapper. Finally wrap them in a dataloader\n",
    "\n",
    "transform_lambda = lambda ex: ex[1] # Original is (<domain>, <episode>) so we strip down to episode only\n",
    "\n",
    "train_processed_source = Lazy_Iterable_Wrapper(train_original_source, transform_lambda)\n",
    "val_processed_source   = Lazy_Iterable_Wrapper(val_original_source, transform_lambda)\n",
    "test_processed_source  = Lazy_Iterable_Wrapper(test_original_source, transform_lambda)\n",
    "\n",
    "train_processed_target = Lazy_Iterable_Wrapper(train_original_target, transform_lambda)\n",
    "val_processed_target   = Lazy_Iterable_Wrapper(val_original_target, transform_lambda)\n",
    "test_processed_target  = Lazy_Iterable_Wrapper(test_original_target, transform_lambda)\n",
    "\n",
    "datasets = EasyDict({\n",
    "    \"source\": {\n",
    "        \"original\": {\"train\":train_original_source, \"val\":val_original_source, \"test\":test_original_source},\n",
    "        \"processed\": {\"train\":train_processed_source, \"val\":val_processed_source, \"test\":test_processed_source}\n",
    "    },\n",
    "    \"target\": {\n",
    "        \"original\": {\"train\":train_original_target, \"val\":val_original_target, \"test\":test_original_target},\n",
    "        \"processed\": {\"train\":train_processed_target, \"val\":val_processed_target, \"test\":test_processed_target}\n",
    "    },\n",
    "})"
   ]
  },
  {
   "cell_type": "code",
   "execution_count": 20,
   "id": "5b3c01fc",
   "metadata": {
    "execution": {
     "iopub.execute_input": "2022-03-21T12:48:49.932037Z",
     "iopub.status.busy": "2022-03-21T12:48:49.931453Z",
     "iopub.status.idle": "2022-03-21T12:49:05.705030Z",
     "shell.execute_reply": "2022-03-21T12:49:05.704326Z"
    },
    "papermill": {
     "duration": 15.799851,
     "end_time": "2022-03-21T12:49:05.705215",
     "exception": false,
     "start_time": "2022-03-21T12:48:49.905364",
     "status": "completed"
    },
    "tags": []
   },
   "outputs": [
    {
     "name": "stdout",
     "output_type": "stream",
     "text": [
      "{'ORACLE.run132', 'ORACLE.run18', 'ORACLE.run114', 'ORACLE.run120', 'ORACLE.run126', 'ORACLE.run150', 'ORACLE.run138', 'ORACLE.run144'}\n"
     ]
    },
    {
     "name": "stdout",
     "output_type": "stream",
     "text": [
      "{'Wisig_4', 'Wisig_1', 'Wisig_2', 'Wisig_3'}\n"
     ]
    },
    {
     "name": "stdout",
     "output_type": "stream",
     "text": [
      "tensor([[[-0.2017,  1.0708, -0.1873,  ..., -1.0900,  0.4802,  0.5762],\n",
      "         [-0.4225,  0.3697,  0.5234,  ..., -0.0528, -0.9699, -1.0756]],\n",
      "\n",
      "        [[ 0.0526,  1.1818, -0.3014,  ..., -0.9282, -0.0431, -0.7369],\n",
      "         [-0.4019, -0.3014,  0.6220,  ...,  0.3254, -1.2871, -0.8469]],\n",
      "\n",
      "        [[-0.6893, -0.1605,  0.9112,  ..., -0.0614, -1.3455,  0.0236],\n",
      "         [-0.4202, -0.9301,  0.6137,  ...,  0.8262,  0.3116,  1.3691]],\n",
      "\n",
      "        ...,\n",
      "\n",
      "        [[ 0.1071,  0.6820, -0.1071,  ..., -0.8567, -0.8961, -1.0709],\n",
      "         [-0.9243, -0.2818,  1.3414,  ...,  0.0958, -1.0596,  0.8511]],\n",
      "\n",
      "        [[-0.2684,  1.1422,  0.0228,  ..., -1.0851,  0.1999,  0.3027],\n",
      "         [-0.5026,  0.0343,  0.6625,  ...,  0.2627, -1.1079, -1.0794]],\n",
      "\n",
      "        [[-0.7840, -0.8071,  1.0550,  ...,  0.6399, -0.2133,  1.3605],\n",
      "         [ 0.5534, -0.1729, -0.7840,  ...,  0.5592,  1.3432,  0.2421]]])\n"
     ]
    }
   ],
   "source": [
    "from steves_utils.transforms import get_average_magnitude, get_average_power\n",
    "\n",
    "print(set([u for u,_ in val_original_source]))\n",
    "print(set([u for u,_ in val_original_target]))\n",
    "\n",
    "s_x, s_y, q_x, q_y, _ = next(iter(train_processed_source))\n",
    "print(s_x)\n",
    "\n",
    "# for ds in [\n",
    "#     train_processed_source,\n",
    "#     val_processed_source,\n",
    "#     test_processed_source,\n",
    "#     train_processed_target,\n",
    "#     val_processed_target,\n",
    "#     test_processed_target\n",
    "# ]:\n",
    "#     for s_x, s_y, q_x, q_y, _ in ds:\n",
    "#         for X in (s_x, q_x):\n",
    "#             for x in X:\n",
    "#                 assert np.isclose(get_average_magnitude(x.numpy()), 1.0)\n",
    "#                 assert np.isclose(get_average_power(x.numpy()), 1.0)\n",
    "                "
   ]
  },
  {
   "cell_type": "code",
   "execution_count": 21,
   "id": "bbdacba1",
   "metadata": {
    "execution": {
     "iopub.execute_input": "2022-03-21T12:49:05.766852Z",
     "iopub.status.busy": "2022-03-21T12:49:05.766195Z",
     "iopub.status.idle": "2022-03-21T12:49:05.982718Z",
     "shell.execute_reply": "2022-03-21T12:49:05.982317Z"
    },
    "papermill": {
     "duration": 0.24575,
     "end_time": "2022-03-21T12:49:05.982835",
     "exception": false,
     "start_time": "2022-03-21T12:49:05.737085",
     "status": "completed"
    },
    "tags": []
   },
   "outputs": [
    {
     "name": "stdout",
     "output_type": "stream",
     "text": [
      "(2, 256)\n"
     ]
    }
   ],
   "source": [
    "###################################\n",
    "# Build the model\n",
    "###################################\n",
    "# easfsl only wants a tuple for the shape\n",
    "model = Steves_Prototypical_Network(x_net, device=p.device, x_shape=tuple(p.x_shape))\n",
    "optimizer = Adam(params=model.parameters(), lr=p.lr)"
   ]
  },
  {
   "cell_type": "code",
   "execution_count": 22,
   "id": "22b39ac5",
   "metadata": {
    "execution": {
     "iopub.execute_input": "2022-03-21T12:49:06.041732Z",
     "iopub.status.busy": "2022-03-21T12:49:06.041212Z",
     "iopub.status.idle": "2022-03-21T13:15:57.917666Z",
     "shell.execute_reply": "2022-03-21T13:15:57.917316Z"
    },
    "papermill": {
     "duration": 1611.911061,
     "end_time": "2022-03-21T13:15:57.917754",
     "exception": false,
     "start_time": "2022-03-21T12:49:06.006693",
     "status": "completed"
    },
    "tags": []
   },
   "outputs": [
    {
     "name": "stdout",
     "output_type": "stream",
     "text": [
      "epoch: 1, [batch: 1 / 6720], examples_per_second: 33.4427, train_label_loss: 2.9394, \n"
     ]
    },
    {
     "name": "stdout",
     "output_type": "stream",
     "text": [
      "epoch: 1, [batch: 672 / 6720], examples_per_second: 2340.2159, train_label_loss: 0.9610, \n"
     ]
    },
    {
     "name": "stdout",
     "output_type": "stream",
     "text": [
      "epoch: 1, [batch: 1344 / 6720], examples_per_second: 2312.7717, train_label_loss: 0.7227, \n"
     ]
    },
    {
     "name": "stdout",
     "output_type": "stream",
     "text": [
      "epoch: 1, [batch: 2016 / 6720], examples_per_second: 2306.5654, train_label_loss: 0.4542, \n"
     ]
    },
    {
     "name": "stdout",
     "output_type": "stream",
     "text": [
      "epoch: 1, [batch: 2688 / 6720], examples_per_second: 2310.3942, train_label_loss: 0.3084, \n"
     ]
    },
    {
     "name": "stdout",
     "output_type": "stream",
     "text": [
      "epoch: 1, [batch: 3360 / 6720], examples_per_second: 2325.3368, train_label_loss: 0.4438, \n"
     ]
    },
    {
     "name": "stdout",
     "output_type": "stream",
     "text": [
      "epoch: 1, [batch: 4032 / 6720], examples_per_second: 2515.1993, train_label_loss: 0.5627, \n"
     ]
    },
    {
     "name": "stdout",
     "output_type": "stream",
     "text": [
      "epoch: 1, [batch: 4704 / 6720], examples_per_second: 2599.8561, train_label_loss: 0.3059, \n"
     ]
    },
    {
     "name": "stdout",
     "output_type": "stream",
     "text": [
      "epoch: 1, [batch: 5376 / 6720], examples_per_second: 2665.3393, train_label_loss: 0.4149, \n"
     ]
    },
    {
     "name": "stdout",
     "output_type": "stream",
     "text": [
      "epoch: 1, [batch: 6048 / 6720], examples_per_second: 2315.0999, train_label_loss: 0.4789, \n"
     ]
    },
    {
     "name": "stdout",
     "output_type": "stream",
     "text": [
      "=============================================================\n",
      "epoch: 1, source_val_acc_label: 0.7684, target_val_acc_label: 0.5120, source_val_label_loss: 0.6833, target_val_label_loss: 4.9403, \n",
      "=============================================================\n"
     ]
    },
    {
     "name": "stdout",
     "output_type": "stream",
     "text": [
      "New best\n"
     ]
    },
    {
     "name": "stdout",
     "output_type": "stream",
     "text": [
      "epoch: 2, [batch: 1 / 6720], examples_per_second: 2.2055, train_label_loss: 0.5684, \n"
     ]
    },
    {
     "name": "stdout",
     "output_type": "stream",
     "text": [
      "epoch: 2, [batch: 672 / 6720], examples_per_second: 2412.2190, train_label_loss: 0.4576, \n"
     ]
    },
    {
     "name": "stdout",
     "output_type": "stream",
     "text": [
      "epoch: 2, [batch: 1344 / 6720], examples_per_second: 2322.8957, train_label_loss: 0.9588, \n"
     ]
    },
    {
     "name": "stdout",
     "output_type": "stream",
     "text": [
      "epoch: 2, [batch: 2016 / 6720], examples_per_second: 2302.3946, train_label_loss: 0.3411, \n"
     ]
    },
    {
     "name": "stdout",
     "output_type": "stream",
     "text": [
      "epoch: 2, [batch: 2688 / 6720], examples_per_second: 2309.0990, train_label_loss: 0.5462, \n"
     ]
    },
    {
     "name": "stdout",
     "output_type": "stream",
     "text": [
      "epoch: 2, [batch: 3360 / 6720], examples_per_second: 2438.0134, train_label_loss: 0.4429, \n"
     ]
    },
    {
     "name": "stdout",
     "output_type": "stream",
     "text": [
      "epoch: 2, [batch: 4032 / 6720], examples_per_second: 2622.3189, train_label_loss: 0.2872, \n"
     ]
    },
    {
     "name": "stdout",
     "output_type": "stream",
     "text": [
      "epoch: 2, [batch: 4704 / 6720], examples_per_second: 2623.4574, train_label_loss: 0.2286, \n"
     ]
    },
    {
     "name": "stdout",
     "output_type": "stream",
     "text": [
      "epoch: 2, [batch: 5376 / 6720], examples_per_second: 2474.3844, train_label_loss: 1.1701, \n"
     ]
    },
    {
     "name": "stdout",
     "output_type": "stream",
     "text": [
      "epoch: 2, [batch: 6048 / 6720], examples_per_second: 2332.3854, train_label_loss: 0.3868, \n"
     ]
    },
    {
     "name": "stdout",
     "output_type": "stream",
     "text": [
      "=============================================================\n",
      "epoch: 2, source_val_acc_label: 0.8493, target_val_acc_label: 0.6189, source_val_label_loss: 0.4254, target_val_label_loss: 5.2693, \n",
      "=============================================================\n"
     ]
    },
    {
     "name": "stdout",
     "output_type": "stream",
     "text": [
      "New best\n"
     ]
    },
    {
     "name": "stdout",
     "output_type": "stream",
     "text": [
      "epoch: 3, [batch: 1 / 6720], examples_per_second: 2.1937, train_label_loss: 0.4738, \n"
     ]
    },
    {
     "name": "stdout",
     "output_type": "stream",
     "text": [
      "epoch: 3, [batch: 672 / 6720], examples_per_second: 2407.2319, train_label_loss: 0.3983, \n"
     ]
    },
    {
     "name": "stdout",
     "output_type": "stream",
     "text": [
      "epoch: 3, [batch: 1344 / 6720], examples_per_second: 2310.7501, train_label_loss: 0.8034, \n"
     ]
    },
    {
     "name": "stdout",
     "output_type": "stream",
     "text": [
      "epoch: 3, [batch: 2016 / 6720], examples_per_second: 2331.8963, train_label_loss: 0.4650, \n"
     ]
    },
    {
     "name": "stdout",
     "output_type": "stream",
     "text": [
      "epoch: 3, [batch: 2688 / 6720], examples_per_second: 2449.5307, train_label_loss: 0.3078, \n"
     ]
    },
    {
     "name": "stdout",
     "output_type": "stream",
     "text": [
      "epoch: 3, [batch: 3360 / 6720], examples_per_second: 2913.6877, train_label_loss: 0.2166, \n"
     ]
    },
    {
     "name": "stdout",
     "output_type": "stream",
     "text": [
      "epoch: 3, [batch: 4032 / 6720], examples_per_second: 2904.8282, train_label_loss: 0.3495, \n"
     ]
    },
    {
     "name": "stdout",
     "output_type": "stream",
     "text": [
      "epoch: 3, [batch: 4704 / 6720], examples_per_second: 2931.7039, train_label_loss: 0.3001, \n"
     ]
    },
    {
     "name": "stdout",
     "output_type": "stream",
     "text": [
      "epoch: 3, [batch: 5376 / 6720], examples_per_second: 2582.3719, train_label_loss: 0.1892, \n"
     ]
    },
    {
     "name": "stdout",
     "output_type": "stream",
     "text": [
      "epoch: 3, [batch: 6048 / 6720], examples_per_second: 2576.5115, train_label_loss: 0.3673, \n"
     ]
    },
    {
     "name": "stdout",
     "output_type": "stream",
     "text": [
      "=============================================================\n",
      "epoch: 3, source_val_acc_label: 0.8674, target_val_acc_label: 0.5851, source_val_label_loss: 0.3769, target_val_label_loss: 6.5847, \n",
      "=============================================================\n"
     ]
    },
    {
     "name": "stdout",
     "output_type": "stream",
     "text": [
      "epoch: 4, [batch: 1 / 6720], examples_per_second: 2.7256, train_label_loss: 0.1930, \n"
     ]
    },
    {
     "name": "stdout",
     "output_type": "stream",
     "text": [
      "epoch: 4, [batch: 672 / 6720], examples_per_second: 2393.9090, train_label_loss: 0.2273, \n"
     ]
    },
    {
     "name": "stdout",
     "output_type": "stream",
     "text": [
      "epoch: 4, [batch: 1344 / 6720], examples_per_second: 2313.8592, train_label_loss: 0.2419, \n"
     ]
    },
    {
     "name": "stdout",
     "output_type": "stream",
     "text": [
      "epoch: 4, [batch: 2016 / 6720], examples_per_second: 2317.7372, train_label_loss: 0.2500, \n"
     ]
    },
    {
     "name": "stdout",
     "output_type": "stream",
     "text": [
      "epoch: 4, [batch: 2688 / 6720], examples_per_second: 2534.7953, train_label_loss: 0.4245, \n"
     ]
    },
    {
     "name": "stdout",
     "output_type": "stream",
     "text": [
      "epoch: 4, [batch: 3360 / 6720], examples_per_second: 2600.8070, train_label_loss: 0.1335, \n"
     ]
    },
    {
     "name": "stdout",
     "output_type": "stream",
     "text": [
      "epoch: 4, [batch: 4032 / 6720], examples_per_second: 2645.3052, train_label_loss: 0.3494, \n"
     ]
    },
    {
     "name": "stdout",
     "output_type": "stream",
     "text": [
      "epoch: 4, [batch: 4704 / 6720], examples_per_second: 2331.7385, train_label_loss: 0.1787, \n"
     ]
    },
    {
     "name": "stdout",
     "output_type": "stream",
     "text": [
      "epoch: 4, [batch: 5376 / 6720], examples_per_second: 2315.4953, train_label_loss: 0.1018, \n"
     ]
    },
    {
     "name": "stdout",
     "output_type": "stream",
     "text": [
      "epoch: 4, [batch: 6048 / 6720], examples_per_second: 2330.2009, train_label_loss: 0.1698, \n"
     ]
    },
    {
     "name": "stdout",
     "output_type": "stream",
     "text": [
      "=============================================================\n",
      "epoch: 4, source_val_acc_label: 0.8845, target_val_acc_label: 0.5689, source_val_label_loss: 0.3258, target_val_label_loss: 6.7663, \n",
      "=============================================================\n"
     ]
    },
    {
     "name": "stdout",
     "output_type": "stream",
     "text": [
      "epoch: 5, [batch: 1 / 6720], examples_per_second: 2.2014, train_label_loss: 0.3518, \n"
     ]
    },
    {
     "name": "stdout",
     "output_type": "stream",
     "text": [
      "epoch: 5, [batch: 672 / 6720], examples_per_second: 2313.7685, train_label_loss: 0.7208, \n"
     ]
    },
    {
     "name": "stdout",
     "output_type": "stream",
     "text": [
      "epoch: 5, [batch: 1344 / 6720], examples_per_second: 2319.0565, train_label_loss: 0.1906, \n"
     ]
    },
    {
     "name": "stdout",
     "output_type": "stream",
     "text": [
      "epoch: 5, [batch: 2016 / 6720], examples_per_second: 2451.5091, train_label_loss: 0.8887, \n"
     ]
    },
    {
     "name": "stdout",
     "output_type": "stream",
     "text": [
      "epoch: 5, [batch: 2688 / 6720], examples_per_second: 2651.6122, train_label_loss: 0.3010, \n"
     ]
    },
    {
     "name": "stdout",
     "output_type": "stream",
     "text": [
      "epoch: 5, [batch: 3360 / 6720], examples_per_second: 2647.8200, train_label_loss: 0.7310, \n"
     ]
    },
    {
     "name": "stdout",
     "output_type": "stream",
     "text": [
      "epoch: 5, [batch: 4032 / 6720], examples_per_second: 2437.3275, train_label_loss: 0.1436, \n"
     ]
    },
    {
     "name": "stdout",
     "output_type": "stream",
     "text": [
      "epoch: 5, [batch: 4704 / 6720], examples_per_second: 2341.1304, train_label_loss: 0.3889, \n"
     ]
    },
    {
     "name": "stdout",
     "output_type": "stream",
     "text": [
      "epoch: 5, [batch: 5376 / 6720], examples_per_second: 2332.5019, train_label_loss: 0.1011, \n"
     ]
    },
    {
     "name": "stdout",
     "output_type": "stream",
     "text": [
      "epoch: 5, [batch: 6048 / 6720], examples_per_second: 2315.3572, train_label_loss: 0.3592, \n"
     ]
    },
    {
     "name": "stdout",
     "output_type": "stream",
     "text": [
      "=============================================================\n",
      "epoch: 5, source_val_acc_label: 0.8915, target_val_acc_label: 0.5444, source_val_label_loss: 0.3027, target_val_label_loss: 8.3311, \n",
      "=============================================================\n"
     ]
    },
    {
     "name": "stdout",
     "output_type": "stream",
     "text": [
      "epoch: 6, [batch: 1 / 6720], examples_per_second: 2.2067, train_label_loss: 0.1860, \n"
     ]
    },
    {
     "name": "stdout",
     "output_type": "stream",
     "text": [
      "epoch: 6, [batch: 672 / 6720], examples_per_second: 2410.8212, train_label_loss: 0.1805, \n"
     ]
    },
    {
     "name": "stdout",
     "output_type": "stream",
     "text": [
      "epoch: 6, [batch: 1344 / 6720], examples_per_second: 2344.5342, train_label_loss: 0.1768, \n"
     ]
    },
    {
     "name": "stdout",
     "output_type": "stream",
     "text": [
      "epoch: 6, [batch: 2016 / 6720], examples_per_second: 2626.4097, train_label_loss: 0.2603, \n"
     ]
    },
    {
     "name": "stdout",
     "output_type": "stream",
     "text": [
      "epoch: 6, [batch: 2688 / 6720], examples_per_second: 2610.3771, train_label_loss: 0.3587, \n"
     ]
    },
    {
     "name": "stdout",
     "output_type": "stream",
     "text": [
      "epoch: 6, [batch: 3360 / 6720], examples_per_second: 2533.5958, train_label_loss: 0.2738, \n"
     ]
    },
    {
     "name": "stdout",
     "output_type": "stream",
     "text": [
      "epoch: 6, [batch: 4032 / 6720], examples_per_second: 2318.8253, train_label_loss: 0.2198, \n"
     ]
    },
    {
     "name": "stdout",
     "output_type": "stream",
     "text": [
      "epoch: 6, [batch: 4704 / 6720], examples_per_second: 2304.6886, train_label_loss: 0.3552, \n"
     ]
    },
    {
     "name": "stdout",
     "output_type": "stream",
     "text": [
      "epoch: 6, [batch: 5376 / 6720], examples_per_second: 2340.7853, train_label_loss: 0.3626, \n"
     ]
    },
    {
     "name": "stdout",
     "output_type": "stream",
     "text": [
      "epoch: 6, [batch: 6048 / 6720], examples_per_second: 2306.9849, train_label_loss: 0.2974, \n"
     ]
    },
    {
     "name": "stdout",
     "output_type": "stream",
     "text": [
      "=============================================================\n",
      "epoch: 6, source_val_acc_label: 0.8903, target_val_acc_label: 0.5619, source_val_label_loss: 0.3076, target_val_label_loss: 7.3699, \n",
      "=============================================================\n"
     ]
    },
    {
     "name": "stdout",
     "output_type": "stream",
     "text": [
      "Patience (3) exhausted\n"
     ]
    }
   ],
   "source": [
    "###################################\n",
    "# train\n",
    "###################################\n",
    "jig = PTN_Train_Eval_Test_Jig(model, p.BEST_MODEL_PATH, p.device)\n",
    "\n",
    "jig.train(\n",
    "    train_iterable=datasets.source.processed.train,\n",
    "    source_val_iterable=datasets.source.processed.val,\n",
    "    target_val_iterable=datasets.target.processed.val,\n",
    "    num_epochs=p.n_epoch,\n",
    "    num_logs_per_epoch=p.NUM_LOGS_PER_EPOCH,\n",
    "    patience=p.patience,\n",
    "    optimizer=optimizer,\n",
    "    criteria_for_best=p.criteria_for_best,\n",
    ")"
   ]
  },
  {
   "cell_type": "code",
   "execution_count": 23,
   "id": "31e8fabf",
   "metadata": {
    "execution": {
     "iopub.execute_input": "2022-03-21T13:15:58.007749Z",
     "iopub.status.busy": "2022-03-21T13:15:58.007203Z",
     "iopub.status.idle": "2022-03-21T13:15:58.041086Z",
     "shell.execute_reply": "2022-03-21T13:15:58.040389Z"
    },
    "papermill": {
     "duration": 0.0811,
     "end_time": "2022-03-21T13:15:58.041261",
     "exception": false,
     "start_time": "2022-03-21T13:15:57.960161",
     "status": "completed"
    },
    "tags": []
   },
   "outputs": [],
   "source": [
    "total_experiment_time_secs = time.time() - start_time_secs"
   ]
  },
  {
   "cell_type": "code",
   "execution_count": 24,
   "id": "87b9595b",
   "metadata": {
    "execution": {
     "iopub.execute_input": "2022-03-21T13:15:58.136586Z",
     "iopub.status.busy": "2022-03-21T13:15:58.135624Z",
     "iopub.status.idle": "2022-03-21T13:20:34.263137Z",
     "shell.execute_reply": "2022-03-21T13:20:34.263829Z"
    },
    "papermill": {
     "duration": 276.17531,
     "end_time": "2022-03-21T13:20:34.264065",
     "exception": false,
     "start_time": "2022-03-21T13:15:58.088755",
     "status": "completed"
    },
    "tags": []
   },
   "outputs": [],
   "source": [
    "###################################\n",
    "# Evaluate the model\n",
    "###################################\n",
    "source_test_label_accuracy, source_test_label_loss = jig.test(datasets.source.processed.test)\n",
    "target_test_label_accuracy, target_test_label_loss = jig.test(datasets.target.processed.test)\n",
    "\n",
    "source_val_label_accuracy, source_val_label_loss = jig.test(datasets.source.processed.val)\n",
    "target_val_label_accuracy, target_val_label_loss = jig.test(datasets.target.processed.val)\n",
    "\n",
    "history = jig.get_history()\n",
    "\n",
    "total_epochs_trained = len(history[\"epoch_indices\"])\n",
    "\n",
    "val_dl = Iterable_Aggregator((datasets.source.original.val,datasets.target.original.val))\n",
    "\n",
    "confusion = ptn_confusion_by_domain_over_dataloader(model, p.device, val_dl)\n",
    "per_domain_accuracy = per_domain_accuracy_from_confusion(confusion)\n",
    "\n",
    "# Add a key to per_domain_accuracy for if it was a source domain\n",
    "for domain, accuracy in per_domain_accuracy.items():\n",
    "    per_domain_accuracy[domain] = {\n",
    "        \"accuracy\": accuracy,\n",
    "        \"source?\": domain in p.domains_source\n",
    "    }\n",
    "\n",
    "# Do an independent accuracy assesment JUST TO BE SURE!\n",
    "# _source_test_label_accuracy = independent_accuracy_assesment(model, datasets.source.processed.test, p.device)\n",
    "# _target_test_label_accuracy = independent_accuracy_assesment(model, datasets.target.processed.test, p.device)\n",
    "# _source_val_label_accuracy = independent_accuracy_assesment(model, datasets.source.processed.val, p.device)\n",
    "# _target_val_label_accuracy = independent_accuracy_assesment(model, datasets.target.processed.val, p.device)\n",
    "\n",
    "# assert(_source_test_label_accuracy == source_test_label_accuracy)\n",
    "# assert(_target_test_label_accuracy == target_test_label_accuracy)\n",
    "# assert(_source_val_label_accuracy == source_val_label_accuracy)\n",
    "# assert(_target_val_label_accuracy == target_val_label_accuracy)\n",
    "\n",
    "experiment = {\n",
    "    \"experiment_name\": p.experiment_name,\n",
    "    \"parameters\": dict(p),\n",
    "    \"results\": {\n",
    "        \"source_test_label_accuracy\": source_test_label_accuracy,\n",
    "        \"source_test_label_loss\": source_test_label_loss,\n",
    "        \"target_test_label_accuracy\": target_test_label_accuracy,\n",
    "        \"target_test_label_loss\": target_test_label_loss,\n",
    "        \"source_val_label_accuracy\": source_val_label_accuracy,\n",
    "        \"source_val_label_loss\": source_val_label_loss,\n",
    "        \"target_val_label_accuracy\": target_val_label_accuracy,\n",
    "        \"target_val_label_loss\": target_val_label_loss,\n",
    "        \"total_epochs_trained\": total_epochs_trained,\n",
    "        \"total_experiment_time_secs\": total_experiment_time_secs,\n",
    "        \"confusion\": confusion,\n",
    "        \"per_domain_accuracy\": per_domain_accuracy,\n",
    "    },\n",
    "    \"history\": history,\n",
    "    \"dataset_metrics\": get_dataset_metrics(datasets, \"ptn\"),\n",
    "}"
   ]
  },
  {
   "cell_type": "code",
   "execution_count": 25,
   "id": "54a21829",
   "metadata": {
    "execution": {
     "iopub.execute_input": "2022-03-21T13:20:34.357674Z",
     "iopub.status.busy": "2022-03-21T13:20:34.357148Z",
     "iopub.status.idle": "2022-03-21T13:20:34.577680Z",
     "shell.execute_reply": "2022-03-21T13:20:34.578372Z"
    },
    "papermill": {
     "duration": 0.267702,
     "end_time": "2022-03-21T13:20:34.578585",
     "exception": false,
     "start_time": "2022-03-21T13:20:34.310883",
     "status": "completed"
    },
    "tags": []
   },
   "outputs": [
    {
     "data": {
      "image/png": "[encoded data removed]",
      "text/plain": [
       "<Figure size 1080x504 with 1 Axes>"
      ]
     },
     "metadata": {
      "needs_background": "light"
     },
     "output_type": "display_data"
    }
   ],
   "source": [
    "ax = get_loss_curve(experiment)\n",
    "plt.show()"
   ]
  },
  {
   "cell_type": "code",
   "execution_count": 26,
   "id": "fd8a0f60",
   "metadata": {
    "execution": {
     "iopub.execute_input": "2022-03-21T13:20:34.673338Z",
     "iopub.status.busy": "2022-03-21T13:20:34.672698Z",
     "iopub.status.idle": "2022-03-21T13:20:34.989489Z",
     "shell.execute_reply": "2022-03-21T13:20:34.989088Z"
    },
    "papermill": {
     "duration": 0.364803,
     "end_time": "2022-03-21T13:20:34.989583",
     "exception": false,
     "start_time": "2022-03-21T13:20:34.624780",
     "status": "completed"
    },
    "tags": []
   },
   "outputs": [
    {
     "data": {
      "text/plain": [
       "<AxesSubplot:title={'center':'Results'}>"
      ]
     },
     "execution_count": 26,
     "metadata": {},
     "output_type": "execute_result"
    },
    {
     "data": {
      "image/png": "[encoded data removed]",
      "text/plain": [
       "<Figure size 1080x504 with 1 Axes>"
      ]
     },
     "metadata": {
      "needs_background": "light"
     },
     "output_type": "display_data"
    }
   ],
   "source": [
    "get_results_table(experiment)"
   ]
  },
  {
   "cell_type": "code",
   "execution_count": 27,
   "id": "cf8dc689",
   "metadata": {
    "execution": {
     "iopub.execute_input": "2022-03-21T13:20:35.084338Z",
     "iopub.status.busy": "2022-03-21T13:20:35.083961Z",
     "iopub.status.idle": "2022-03-21T13:20:35.340434Z",
     "shell.execute_reply": "2022-03-21T13:20:35.341143Z"
    },
    "papermill": {
     "duration": 0.306016,
     "end_time": "2022-03-21T13:20:35.341398",
     "exception": false,
     "start_time": "2022-03-21T13:20:35.035382",
     "status": "completed"
    },
    "tags": []
   },
   "outputs": [
    {
     "data": {
      "text/plain": [
       "<AxesSubplot:title={'center':'Per Domain Validation Accuracy'}, xlabel='domain'>"
      ]
     },
     "execution_count": 27,
     "metadata": {},
     "output_type": "execute_result"
    },
    {
     "data": {
      "image/png": "[encoded data removed]",
      "text/plain": [
       "<Figure size 1080x504 with 1 Axes>"
      ]
     },
     "metadata": {
      "needs_background": "light"
     },
     "output_type": "display_data"
    }
   ],
   "source": [
    "get_domain_accuracies(experiment)"
   ]
  },
  {
   "cell_type": "code",
   "execution_count": 28,
   "id": "a74ae082",
   "metadata": {
    "execution": {
     "iopub.execute_input": "2022-03-21T13:20:35.445435Z",
     "iopub.status.busy": "2022-03-21T13:20:35.444840Z",
     "iopub.status.idle": "2022-03-21T13:20:35.475263Z",
     "shell.execute_reply": "2022-03-21T13:20:35.474229Z"
    },
    "papermill": {
     "duration": 0.08237,
     "end_time": "2022-03-21T13:20:35.475448",
     "exception": false,
     "start_time": "2022-03-21T13:20:35.393078",
     "status": "completed"
    },
    "tags": []
   },
   "outputs": [
    {
     "name": "stdout",
     "output_type": "stream",
     "text": [
      "Source Test Label Accuracy: 0.8481770833333333 Target Test Label Accuracy: 0.6203125\n",
      "Source Val Label Accuracy: 0.8493489583333333 Target Val Label Accuracy: 0.6189355779427359\n"
     ]
    }
   ],
   "source": [
    "print(\"Source Test Label Accuracy:\", experiment[\"results\"][\"source_test_label_accuracy\"], \"Target Test Label Accuracy:\", experiment[\"results\"][\"target_test_label_accuracy\"])\n",
    "print(\"Source Val Label Accuracy:\", experiment[\"results\"][\"source_val_label_accuracy\"], \"Target Val Label Accuracy:\", experiment[\"results\"][\"target_val_label_accuracy\"])"
   ]
  },
  {
   "cell_type": "code",
   "execution_count": 29,
   "id": "dacca602",
   "metadata": {
    "execution": {
     "iopub.execute_input": "2022-03-21T13:20:35.576216Z",
     "iopub.status.busy": "2022-03-21T13:20:35.575749Z",
     "iopub.status.idle": "2022-03-21T13:20:35.601830Z",
     "shell.execute_reply": "2022-03-21T13:20:35.602307Z"
    },
    "papermill": {
     "duration": 0.076937,
     "end_time": "2022-03-21T13:20:35.602490",
     "exception": false,
     "start_time": "2022-03-21T13:20:35.525553",
     "status": "completed"
    },
    "tags": [
     "experiment_json"
    ]
   },
   "outputs": [
    {
     "data": {
      "text/plain": [
       "'{\"experiment_name\": \"tl_1v2:wisig-oracle.run1.framed\", \"parameters\": {\"experiment_name\": \"tl_1v2:wisig-oracle.run1.framed\", \"device\": \"cuda\", \"lr\": 0.0001, \"n_shot\": 3, \"n_query\": 2, \"train_k_factor\": 3, \"val_k_factor\": 2, \"test_k_factor\": 2, \"torch_default_dtype\": \"torch.float32\", \"n_epoch\": 50, \"patience\": 3, \"criteria_for_best\": \"target_accuracy\", \"x_net\": [{\"class\": \"nnReshape\", \"kargs\": {\"shape\": [-1, 1, 2, 256]}}, {\"class\": \"Conv2d\", \"kargs\": {\"in_channels\": 1, \"out_channels\": 256, \"kernel_size\": [1, 7], \"bias\": false, \"padding\": [0, 3]}}, {\"class\": \"ReLU\", \"kargs\": {\"inplace\": true}}, {\"class\": \"BatchNorm2d\", \"kargs\": {\"num_features\": 256}}, {\"class\": \"Conv2d\", \"kargs\": {\"in_channels\": 256, \"out_channels\": 80, \"kernel_size\": [2, 7], \"bias\": true, \"padding\": [0, 3]}}, {\"class\": \"ReLU\", \"kargs\": {\"inplace\": true}}, {\"class\": \"BatchNorm2d\", \"kargs\": {\"num_features\": 80}}, {\"class\": \"Flatten\", \"kargs\": {}}, {\"class\": \"Linear\", \"kargs\": {\"in_features\": 20480, \"out_features\": 256}}, {\"class\": \"ReLU\", \"kargs\": {\"inplace\": true}}, {\"class\": \"BatchNorm1d\", \"kargs\": {\"num_features\": 256}}, {\"class\": \"Linear\", \"kargs\": {\"in_features\": 256, \"out_features\": 256}}], \"NUM_LOGS_PER_EPOCH\": 10, \"BEST_MODEL_PATH\": \"./best_model.pth\", \"n_way\": 16, \"datasets\": [{\"labels\": [\"1-10\", \"1-12\", \"1-14\", \"1-16\", \"1-18\", \"1-19\", \"1-8\", \"10-11\", \"10-17\", \"10-4\", \"10-7\", \"11-1\", \"11-10\", \"11-19\", \"11-20\", \"11-4\", \"11-7\", \"12-19\", \"12-20\", \"12-7\", \"13-14\", \"13-18\", \"13-19\", \"13-20\", \"13-3\", \"13-7\", \"14-10\", \"14-11\", \"14-12\", \"14-13\", \"14-14\", \"14-19\", \"14-20\", \"14-7\", \"14-8\", \"14-9\", \"15-1\", \"15-19\", \"15-6\", \"16-1\", \"16-16\", \"16-19\", \"16-20\", \"17-10\", \"17-11\", \"18-1\", \"18-10\", \"18-11\", \"18-12\", \"18-13\", \"18-14\", \"18-15\", \"18-16\", \"18-17\", \"18-19\", \"18-2\", \"18-20\", \"18-4\", \"18-5\", \"18-7\", \"18-8\", \"18-9\", \"19-1\", \"19-10\", \"19-11\", \"19-12\", \"19-13\", \"19-14\", \"19-15\", \"19-19\", \"19-2\", \"19-20\", \"19-3\", \"19-4\", \"19-6\", \"19-7\", \"19-8\", \"19-9\", \"2-1\", \"2-13\", \"2-15\", \"2-3\", \"2-4\", \"2-5\", \"2-6\", \"2-7\", \"2-8\", \"20-1\", \"20-12\", \"20-14\", \"20-15\", \"20-16\", \"20-18\", \"20-19\", \"20-20\", \"20-3\", \"20-4\", \"20-5\", \"20-7\", \"20-8\", \"3-1\", \"3-13\", \"3-18\", \"3-2\", \"3-8\", \"4-1\", \"4-10\", \"4-11\", \"5-1\", \"5-5\", \"6-1\", \"6-15\", \"6-6\", \"7-10\", \"7-11\", \"7-12\", \"7-13\", \"7-14\", \"7-7\", \"7-8\", \"7-9\", \"8-1\", \"8-13\", \"8-14\", \"8-18\", \"8-20\", \"8-3\", \"8-8\", \"9-1\", \"9-7\"], \"domains\": [1, 2, 3, 4], \"num_examples_per_domain_per_label\": -1, \"pickle_path\": \"/root/csc500-main/datasets/wisig.node3-19.stratified_ds.2022A.pkl\", \"source_or_target_dataset\": \"target\", \"x_transforms\": [\"unit_mag\"], \"episode_transforms\": [], \"domain_prefix\": \"Wisig_\"}, {\"labels\": [\"3123D52\", \"3123D65\", \"3123D79\", \"3123D80\", \"3123D54\", \"3123D70\", \"3123D7B\", \"3123D89\", \"3123D58\", \"3123D76\", \"3123D7D\", \"3123EFE\", \"3123D64\", \"3123D78\", \"3123D7E\", \"3124E4A\"], \"domains\": [32, 38, 8, 44, 14, 50, 20, 26], \"num_examples_per_domain_per_label\": 2000, \"pickle_path\": \"/root/csc500-main/datasets/oracle.Run1_framed_2000Examples_stratified_ds.2022A.pkl\", \"source_or_target_dataset\": \"source\", \"x_transforms\": [\"unit_mag\"], \"episode_transforms\": [], \"domain_prefix\": \"ORACLE.run1\"}], \"dataset_seed\": 154325, \"seed\": 154325, \"x_shape\": [2, 256], \"domains_source\": [\"ORACLE.run132\", \"ORACLE.run138\", \"ORACLE.run18\", \"ORACLE.run144\", \"ORACLE.run114\", \"ORACLE.run150\", \"ORACLE.run120\", \"ORACLE.run126\"], \"domains_target\": [\"Wisig_1\", \"Wisig_2\", \"Wisig_3\", \"Wisig_4\"]}, \"results\": {\"source_test_label_accuracy\": 0.8481770833333333, \"source_test_label_loss\": 0.42805537581443787, \"target_test_label_accuracy\": 0.6203125, \"target_test_label_loss\": 5.341795921325684, \"source_val_label_accuracy\": 0.8493489583333333, \"source_val_label_loss\": 0.4253719747066498, \"target_val_label_accuracy\": 0.6189355779427359, \"target_val_label_loss\": 5.269312858581543, \"total_epochs_trained\": 6, \"total_experiment_time_secs\": 1671.9493427276611, \"confusion\": {\"ORACLE.run18\": {\"13\": {\"14\": 11, \"13\": 117, \"0\": 51, \"10\": 28, \"6\": 7, \"4\": 25, \"7\": 1}, \"9\": {\"9\": 240}, \"15\": {\"15\": 223, \"12\": 15, \"8\": 2}, \"2\": {\"2\": 232, \"3\": 3, \"7\": 5}, \"3\": {\"2\": 2, \"3\": 238}, \"8\": {\"8\": 238, \"15\": 2}, \"5\": {\"5\": 226, \"10\": 7, \"1\": 7}, \"14\": {\"14\": 179, \"10\": 27, \"4\": 20, \"13\": 5, \"1\": 8, \"5\": 1}, \"1\": {\"1\": 232, \"14\": 3, \"5\": 1, \"11\": 4}, \"0\": {\"0\": 216, \"13\": 20, \"7\": 3, \"6\": 1}, \"10\": {\"10\": 218, \"14\": 16, \"13\": 5, \"5\": 1}, \"6\": {\"6\": 196, \"7\": 30, \"13\": 5, \"0\": 4, \"4\": 5}, \"11\": {\"11\": 223, \"1\": 17}, \"7\": {\"6\": 33, \"7\": 207}, \"4\": {\"4\": 209, \"6\": 4, \"13\": 22, \"14\": 4, \"1\": 1}, \"12\": {\"15\": 57, \"12\": 165, \"8\": 5, \"3\": 13}}, \"ORACLE.run138\": {\"13\": {\"13\": 216, \"10\": 6, \"15\": 13, \"2\": 4, \"8\": 1}, \"12\": {\"12\": 236, \"4\": 4}, \"2\": {\"2\": 236, \"14\": 3, \"13\": 1}, \"9\": {\"9\": 221, \"6\": 17, \"3\": 1, \"5\": 1}, \"15\": {\"15\": 210, \"1\": 11, \"13\": 7, \"8\": 7, \"0\": 2, \"5\": 3}, \"5\": {\"7\": 26, \"8\": 53, \"5\": 137, \"6\": 11, \"0\": 3, \"15\": 3, \"13\": 1, \"10\": 3, \"9\": 1, \"1\": 2}, \"14\": {\"14\": 232, \"2\": 3, \"11\": 4, \"10\": 1}, \"0\": {\"0\": 159, \"8\": 44, \"7\": 17, \"3\": 13, \"10\": 4, \"5\": 2, \"11\": 1}, \"3\": {\"3\": 233, \"9\": 3, \"0\": 3, \"7\": 1}, \"1\": {\"1\": 238, \"15\": 2}, \"11\": {\"11\": 218, \"14\": 19, \"4\": 3}, \"7\": {\"7\": 212, \"0\": 7, \"5\": 13, \"8\": 8}, \"8\": {\"8\": 164, \"5\": 31, \"15\": 8, \"0\": 25, \"7\": 7, \"13\": 3, \"10\": 2}, \"4\": {\"4\": 237, \"12\": 2, \"10\": 1}, \"10\": {\"10\": 223, \"13\": 8, \"7\": 1, \"8\": 3, \"0\": 2, \"14\": 2, \"15\": 1}, \"6\": {\"9\": 13, \"6\": 227}}, \"ORACLE.run126\": {\"10\": {\"0\": 63, \"10\": 122, \"8\": 24, \"14\": 18, \"6\": 4, \"15\": 2, \"4\": 6, \"1\": 1}, \"12\": {\"12\": 240}, \"1\": {\"1\": 211, \"14\": 11, \"4\": 14, \"3\": 1, \"7\": 2, \"10\": 1}, \"0\": {\"0\": 95, \"1\": 1, \"8\": 16, \"10\": 60, \"4\": 31, \"14\": 35, \"7\": 1, \"6\": 1}, \"15\": {\"15\": 163, \"9\": 46, \"8\": 16, \"2\": 2, \"13\": 7, \"7\": 2, \"6\": 1, \"10\": 2, \"5\": 1}, \"13\": {\"5\": 39, \"13\": 188, \"9\": 4, \"15\": 3, \"2\": 6}, \"8\": {\"8\": 134, \"10\": 32, \"0\": 19, \"4\": 22, \"1\": 1, \"7\": 16, \"14\": 8, \"2\": 3, \"15\": 5}, \"3\": {\"3\": 186, \"2\": 41, \"7\": 13}, \"11\": {\"11\": 240}, \"4\": {\"14\": 53, \"1\": 6, \"0\": 16, \"4\": 138, \"8\": 14, \"7\": 3, \"10\": 10}, \"6\": {\"6\": 215, \"9\": 14, \"15\": 4, \"8\": 2, \"10\": 5}, \"7\": {\"7\": 198, \"3\": 15, \"2\": 10, \"8\": 11, \"4\": 5, \"0\": 1}, \"14\": {\"0\": 18, \"10\": 15, \"14\": 131, \"4\": 54, \"1\": 16, \"8\": 6}, \"2\": {\"2\": 110, \"3\": 68, \"7\": 18, \"5\": 22, \"15\": 11, \"8\": 8, \"9\": 1, \"13\": 2}, \"5\": {\"5\": 209, \"2\": 9, \"13\": 21, \"15\": 1}, \"9\": {\"9\": 166, \"15\": 56, \"13\": 8, \"6\": 8, \"5\": 1, \"8\": 1}}, \"ORACLE.run120\": {\"5\": {\"0\": 21, \"5\": 205, \"15\": 8, \"1\": 3, \"12\": 3}, \"15\": {\"15\": 207, \"0\": 13, \"13\": 1, \"5\": 6, \"1\": 13}, \"9\": {\"9\": 174, \"3\": 16, \"2\": 41, \"12\": 7, \"7\": 1, \"1\": 1}, \"7\": {\"7\": 214, \"2\": 20, \"8\": 3, \"3\": 3}, \"3\": {\"3\": 174, \"2\": 5, \"12\": 38, \"9\": 19, \"4\": 2, \"1\": 2}, \"8\": {\"8\": 227, \"4\": 12, \"7\": 1}, \"4\": {\"4\": 232, \"8\": 7, \"3\": 1}, \"6\": {\"6\": 231, \"14\": 9}, \"2\": {\"2\": 175, \"9\": 37, \"3\": 6, \"7\": 15, \"13\": 4, \"12\": 3}, \"12\": {\"12\": 153, \"1\": 42, \"3\": 34, \"2\": 6, \"9\": 4, \"5\": 1}, \"0\": {\"0\": 182, \"5\": 33, \"15\": 24, \"4\": 1}, \"13\": {\"13\": 237, \"2\": 3}, \"10\": {\"10\": 240}, \"11\": {\"11\": 240}, \"14\": {\"14\": 230, \"6\": 9, \"10\": 1}, \"1\": {\"1\": 189, \"12\": 43, \"5\": 1, \"15\": 6, \"3\": 1}}, \"ORACLE.run150\": {\"1\": {\"1\": 199, \"4\": 17, \"15\": 19, \"13\": 1, \"6\": 3, \"11\": 1}, \"2\": {\"2\": 230, \"0\": 10}, \"8\": {\"8\": 238, \"3\": 2}, \"7\": {\"7\": 201, \"13\": 28, \"10\": 3, \"5\": 6, \"6\": 2}, \"14\": {\"14\": 240}, \"6\": {\"6\": 224, \"13\": 14, \"15\": 1, \"5\": 1}, \"3\": {\"3\": 240}, \"4\": {\"15\": 15, \"6\": 2, \"4\": 147, \"1\": 29, \"5\": 40, \"11\": 1, \"13\": 3, \"7\": 3}, \"12\": {\"12\": 229, \"14\": 2, \"9\": 9}, \"15\": {\"15\": 191, \"1\": 32, \"6\": 3, \"11\": 2, \"4\": 12}, \"11\": {\"11\": 225, \"15\": 9, \"9\": 4, \"14\": 1, \"12\": 1}, \"0\": {\"0\": 218, \"10\": 4, \"2\": 18}, \"9\": {\"9\": 234, \"11\": 2, \"12\": 4}, \"10\": {\"10\": 232, \"0\": 2, \"8\": 2, \"13\": 3, \"7\": 1}, \"5\": {\"13\": 28, \"5\": 149, \"4\": 29, \"7\": 20, \"1\": 11, \"15\": 1, \"10\": 1, \"6\": 1}, \"13\": {\"7\": 24, \"13\": 199, \"10\": 1, \"6\": 4, \"5\": 12}}, \"ORACLE.run132\": {\"2\": {\"2\": 190, \"4\": 49, \"5\": 1}, \"6\": {\"6\": 240}, \"5\": {\"5\": 123, \"7\": 41, \"3\": 11, \"13\": 33, \"8\": 8, \"4\": 19, \"0\": 2, \"14\": 3}, \"12\": {\"12\": 240}, \"13\": {\"13\": 181, \"5\": 20, \"3\": 16, \"4\": 12, \"7\": 8, \"8\": 3}, \"9\": {\"9\": 240}, \"11\": {\"11\": 200, \"14\": 36, \"13\": 1, \"7\": 2, \"3\": 1}, \"1\": {\"1\": 240}, \"3\": {\"3\": 238, \"13\": 2}, \"7\": {\"7\": 177, \"5\": 28, \"4\": 15, \"13\": 6, \"2\": 3, \"8\": 2, \"14\": 8, \"11\": 1}, \"14\": {\"14\": 124, \"11\": 78, \"0\": 15, \"7\": 12, \"8\": 7, \"5\": 1, \"13\": 2, \"3\": 1}, \"8\": {\"8\": 209, \"0\": 18, \"5\": 5, \"13\": 6, \"14\": 1, \"7\": 1}, \"4\": {\"4\": 202, \"7\": 11, \"2\": 21, \"5\": 5, \"13\": 1}, \"0\": {\"0\": 213, \"8\": 11, \"14\": 9, \"5\": 1, \"13\": 1, \"7\": 4, \"2\": 1}, \"10\": {\"10\": 236, \"1\": 4}, \"15\": {\"15\": 240}}, \"ORACLE.run144\": {\"13\": {\"13\": 208, \"6\": 17, \"9\": 13, \"7\": 1, \"11\": 1}, \"4\": {\"4\": 175, \"14\": 63, \"13\": 1, \"15\": 1}, \"6\": {\"6\": 180, \"13\": 34, \"9\": 16, \"7\": 10}, \"0\": {\"0\": 160, \"15\": 11, \"8\": 58, \"5\": 11}, \"10\": {\"10\": 198, \"1\": 26, \"12\": 8, \"2\": 8}, \"7\": {\"7\": 184, \"2\": 23, \"9\": 29, \"6\": 4}, \"14\": {\"14\": 176, \"4\": 49, \"15\": 12, \"5\": 3}, \"15\": {\"14\": 8, \"15\": 209, \"0\": 17, \"4\": 1, \"8\": 2, \"5\": 3}, \"5\": {\"5\": 223, \"0\": 9, \"15\": 3, \"14\": 4, \"8\": 1}, \"2\": {\"2\": 204, \"10\": 11, \"7\": 21, \"1\": 4}, \"9\": {\"9\": 168, \"13\": 14, \"7\": 42, \"6\": 16}, \"12\": {\"12\": 212, \"1\": 21, \"10\": 6, \"3\": 1}, \"8\": {\"8\": 144, \"0\": 85, \"15\": 6, \"5\": 5}, \"3\": {\"3\": 233, \"1\": 7}, \"1\": {\"12\": 31, \"3\": 15, \"1\": 182, \"10\": 9, \"2\": 3}, \"11\": {\"11\": 239, \"13\": 1}}, \"ORACLE.run114\": {\"1\": {\"1\": 232, \"5\": 8}, \"15\": {\"15\": 240}, \"10\": {\"10\": 240}, \"2\": {\"3\": 7, \"2\": 160, \"14\": 39, \"6\": 5, \"4\": 4, \"5\": 17, \"13\": 8}, \"9\": {\"9\": 240}, \"5\": {\"5\": 203, \"2\": 5, \"4\": 17, \"1\": 13, \"3\": 2}, \"7\": {\"7\": 240}, \"13\": {\"13\": 118, \"2\": 18, \"6\": 82, \"14\": 18, \"5\": 2, \"4\": 2}, \"8\": {\"8\": 240}, \"6\": {\"13\": 44, \"6\": 190, \"14\": 4, \"2\": 2}, \"3\": {\"3\": 228, \"14\": 2, \"4\": 7, \"2\": 3}, \"12\": {\"12\": 239, \"9\": 1}, \"0\": {\"0\": 235, \"10\": 2, \"3\": 2, \"11\": 1}, \"4\": {\"4\": 229, \"5\": 7, \"2\": 2, \"1\": 1, \"3\": 1}, \"14\": {\"14\": 225, \"2\": 8, \"6\": 3, \"3\": 1, \"13\": 3}, \"11\": {\"11\": 235, \"9\": 5}}, \"Wisig_2\": {\"56\": {\"56\": 6, \"122\": 1, \"40\": 1, \"86\": 1, \"3\": 1, \"49\": 1, \"107\": 1}, \"12\": {\"12\": 42, \"49\": 2, \"74\": 1, \"56\": 1, \"111\": 4, \"34\": 3, \"11\": 1, \"0\": 1, \"24\": 2, \"121\": 1, \"42\": 1, \"127\": 2, \"8\": 4, \"7\": 1, \"71\": 2, \"4\": 1, \"25\": 1, \"104\": 2, \"68\": 2, \"41\": 1, \"9\": 1, \"108\": 2, \"98\": 5, \"78\": 1, \"15\": 1, \"122\": 1, \"26\": 2}, \"15\": {\"15\": 78, \"113\": 1, \"127\": 5, \"0\": 3, \"36\": 7, \"111\": 2, \"94\": 3, \"30\": 2, \"106\": 2, \"125\": 9, \"24\": 1, \"43\": 1, \"69\": 1, \"117\": 1}, \"26\": {\"117\": 4, \"26\": 105, \"102\": 5, \"21\": 2, \"18\": 9, \"39\": 4, \"99\": 2, \"69\": 1}, \"82\": {\"82\": 35, \"92\": 1}, \"9\": {\"9\": 27, \"15\": 1, \"97\": 1, \"125\": 1, \"106\": 1, \"51\": 1}, \"49\": {\"12\": 2, \"122\": 2, \"49\": 6, \"3\": 1, \"112\": 4, \"124\": 1, \"15\": 1, \"56\": 2, \"29\": 1, \"66\": 1, \"98\": 2, \"71\": 1}, \"55\": {\"47\": 2, \"55\": 12, \"37\": 2}, \"102\": {\"82\": 3, \"90\": 2, \"102\": 97, \"93\": 2, \"69\": 5, \"16\": 8, \"84\": 1, \"88\": 1, \"126\": 1, \"118\": 1, \"89\": 1, \"116\": 2}, \"85\": {\"85\": 26, \"47\": 1, \"73\": 1, \"37\": 2, \"28\": 1, \"126\": 1}, \"73\": {\"73\": 22, \"85\": 1, \"76\": 1, \"61\": 1, \"24\": 1, \"32\": 1, \"129\": 1}, \"47\": {\"47\": 6, \"15\": 1, \"96\": 1, \"19\": 1, \"94\": 1, \"85\": 2}, \"20\": {\"20\": 12, \"90\": 1, \"81\": 1, \"57\": 1, \"119\": 1}, \"117\": {\"117\": 105, \"113\": 1, \"26\": 1, \"18\": 5, \"93\": 1, \"21\": 3}, \"122\": {\"122\": 44, \"87\": 1, \"19\": 2, \"128\": 1, \"26\": 1, \"107\": 2, \"71\": 7, \"86\": 3, \"3\": 6, \"43\": 1, \"129\": 4, \"117\": 2, \"32\": 1, \"95\": 3, \"40\": 9, \"110\": 1, \"30\": 1, \"98\": 1, \"114\": 2, \"105\": 12, \"5\": 4, \"7\": 2, \"4\": 4, \"124\": 2, \"8\": 9, \"33\": 1, \"108\": 6, \"16\": 1, \"53\": 1, \"104\": 2, \"11\": 1, \"12\": 1, \"27\": 2}, \"113\": {\"113\": 54, \"21\": 2, \"2\": 2, \"39\": 2, \"109\": 1, \"18\": 8, \"117\": 2, \"14\": 1}, \"87\": {\"87\": 34, \"126\": 4, \"129\": 1, \"83\": 2, \"82\": 2, \"109\": 1, \"84\": 6, \"1\": 2, \"118\": 7, \"90\": 6, \"70\": 4, \"102\": 9, \"33\": 9, \"62\": 3, \"39\": 1, \"113\": 1, \"93\": 2, \"69\": 2, \"43\": 3, \"88\": 3, \"116\": 2, \"44\": 1, \"63\": 1, \"80\": 1, \"100\": 1, \"14\": 1, \"21\": 1, \"26\": 1, \"16\": 1}, \"21\": {\"21\": 31, \"2\": 1, \"113\": 2, \"117\": 2, \"39\": 3, \"88\": 1, \"78\": 2, \"87\": 1, \"26\": 1, \"121\": 1, \"120\": 1, \"16\": 1, \"93\": 1}, \"106\": {\"106\": 82, \"125\": 8, \"15\": 7, \"25\": 2, \"99\": 1, \"127\": 1, \"94\": 5, \"84\": 1, \"36\": 5, \"16\": 1, \"24\": 3, \"17\": 2, \"117\": 1, \"90\": 1}, \"3\": {\"3\": 79, \"71\": 4, \"107\": 2, \"124\": 7, \"11\": 3, \"105\": 3, \"39\": 2, \"8\": 3, \"114\": 9, \"40\": 5, \"43\": 2, \"5\": 6, \"122\": 1, \"32\": 2, \"56\": 2, \"95\": 1, \"42\": 1, \"18\": 1, \"108\": 1, \"26\": 1, \"4\": 1}, \"126\": {\"126\": 46, \"60\": 1, \"67\": 3, \"44\": 4, \"72\": 1, \"116\": 2, \"1\": 8, \"64\": 4, \"90\": 3, \"33\": 10, \"85\": 2, \"83\": 1, \"84\": 2, \"14\": 3, \"62\": 2, \"118\": 2, \"109\": 4, \"16\": 4, \"43\": 2, \"5\": 1, \"87\": 4, \"70\": 5, \"45\": 1, \"119\": 1, \"47\": 1, \"3\": 1, \"93\": 1, \"88\": 1}, \"41\": {\"49\": 1, \"41\": 12, \"90\": 1, \"52\": 2, \"6\": 1, \"34\": 1, \"12\": 1, \"77\": 1}, \"76\": {\"126\": 1, \"76\": 8, \"70\": 1, \"90\": 1, \"84\": 3, \"37\": 1, \"33\": 1}, \"60\": {\"126\": 1, \"76\": 1, \"83\": 4, \"84\": 1, \"43\": 1, \"63\": 1, \"118\": 1, \"60\": 7, \"82\": 1, \"62\": 2, \"47\": 2, \"129\": 1, \"55\": 1, \"33\": 1, \"14\": 1, \"45\": 1, \"44\": 1}, \"94\": {\"106\": 2, \"41\": 1, \"94\": 29, \"13\": 2, \"18\": 1, \"98\": 7, \"25\": 3, \"65\": 1, \"127\": 2, \"23\": 1, \"15\": 6, \"125\": 4, \"24\": 1, \"36\": 2, \"126\": 1, \"111\": 1}, \"50\": {\"50\": 16}, \"97\": {\"41\": 1, \"97\": 13, \"75\": 1, \"77\": 1, \"51\": 1, \"91\": 1, \"25\": 1, \"52\": 1}, \"115\": {\"115\": 3, \"3\": 1, \"34\": 1, \"128\": 1, \"107\": 1, \"41\": 1, \"71\": 1, \"104\": 1, \"42\": 1, \"8\": 1}, \"38\": {\"38\": 14, \"40\": 1, \"50\": 1}, \"43\": {\"47\": 2, \"20\": 2, \"70\": 11, \"55\": 1, \"44\": 7, \"80\": 1, \"43\": 47, \"78\": 3, \"42\": 1, \"118\": 1, \"63\": 1, \"124\": 1, \"1\": 6, \"62\": 9, \"40\": 7, \"11\": 2, \"113\": 2, \"3\": 5, \"5\": 4, \"105\": 1, \"33\": 3, \"129\": 1, \"73\": 1, \"28\": 1, \"76\": 1, \"19\": 1, \"84\": 1, \"109\": 1}, \"67\": {\"67\": 10, \"14\": 2, \"16\": 1, \"85\": 1, \"80\": 2}, \"18\": {\"18\": 94, \"65\": 4, \"117\": 17, \"39\": 2, \"118\": 2, \"33\": 1, \"69\": 1, \"113\": 3, \"26\": 2, \"93\": 2}, \"23\": {\"108\": 2, \"18\": 2, \"126\": 2, \"48\": 1, \"23\": 7, \"121\": 3, \"127\": 2, \"122\": 1, \"117\": 2, \"16\": 1, \"12\": 1, \"81\": 1, \"71\": 1, \"110\": 1, \"34\": 1, \"29\": 2, \"87\": 1, \"104\": 1, \"41\": 1, \"101\": 1, \"57\": 1, \"91\": 2, \"11\": 2, \"32\": 1, \"98\": 2, \"8\": 1, \"113\": 1}, \"63\": {\"63\": 20}, \"127\": {\"127\": 102, \"16\": 1, \"11\": 2, \"15\": 2, \"111\": 4, \"30\": 1, \"39\": 1, \"52\": 2, \"29\": 1, \"0\": 2, \"41\": 1, \"113\": 1, \"7\": 2, \"26\": 1, \"36\": 1}, \"72\": {\"72\": 22, \"102\": 1, \"69\": 1, \"33\": 2, \"81\": 1, \"15\": 1}, \"128\": {\"127\": 1, \"23\": 1, \"35\": 2, \"128\": 4, \"19\": 1, \"52\": 1, \"50\": 1, \"3\": 1, \"24\": 1, \"43\": 1, \"79\": 2, \"6\": 1, \"73\": 1, \"30\": 1, \"91\": 1, \"62\": 1, \"0\": 1, \"85\": 1, \"118\": 1}, \"7\": {\"7\": 105, \"13\": 1, \"41\": 1, \"12\": 4, \"29\": 2, \"4\": 4, \"98\": 1, \"30\": 1, \"127\": 2, \"23\": 1, \"26\": 2, \"11\": 1, \"8\": 2, \"39\": 1}, \"108\": {\"15\": 1, \"127\": 3, \"8\": 6, \"108\": 46, \"98\": 12, \"112\": 2, \"71\": 6, \"29\": 1, \"11\": 7, \"3\": 4, \"42\": 1, \"110\": 3, \"5\": 7, \"124\": 9, \"114\": 6, \"44\": 1, \"111\": 3, \"24\": 2, \"125\": 1, \"107\": 2, \"37\": 1, \"25\": 1, \"4\": 1, \"12\": 3, \"36\": 1, \"122\": 2, \"106\": 1, \"1\": 1}, \"16\": {\"16\": 49, \"90\": 2, \"102\": 15, \"109\": 1, \"118\": 2, \"126\": 1, \"88\": 2, \"69\": 17, \"39\": 2, \"117\": 2, \"87\": 3, \"93\": 9, \"84\": 2, \"65\": 1, \"31\": 2, \"72\": 1, \"81\": 1, \"82\": 1, \"70\": 1}, \"29\": {\"103\": 1, \"128\": 1, \"29\": 22, \"49\": 1, \"91\": 4, \"127\": 2, \"34\": 1}, \"61\": {\"61\": 13, \"3\": 1, \"22\": 2, \"95\": 1, \"105\": 1, \"13\": 1, \"104\": 1}, \"104\": {\"71\": 1, \"34\": 1, \"104\": 8, \"86\": 3, \"95\": 3, \"19\": 1, \"115\": 1, \"112\": 1, \"122\": 1}, \"120\": {\"120\": 20}, \"124\": {\"124\": 88, \"71\": 2, \"86\": 3, \"39\": 1, \"30\": 1, \"114\": 9, \"40\": 2, \"8\": 3, \"11\": 3, \"108\": 1, \"4\": 1, \"5\": 4, \"59\": 1, \"32\": 1, \"3\": 3, \"111\": 1}, \"34\": {\"103\": 3, \"29\": 1, \"8\": 2, \"34\": 6, \"56\": 1, \"54\": 1, \"110\": 1, \"25\": 1, \"107\": 1, \"7\": 3, \"122\": 3, \"36\": 1, \"41\": 1, \"66\": 2, \"9\": 1, \"51\": 1, \"111\": 1, \"12\": 1, \"24\": 1}, \"84\": {\"84\": 48, \"9\": 1, \"47\": 2, \"67\": 1, \"33\": 14, \"14\": 2, \"88\": 1, \"118\": 3, \"87\": 6, \"70\": 2, \"1\": 2, \"30\": 1, \"16\": 1, \"83\": 1, \"13\": 1, \"126\": 3, \"44\": 2, \"101\": 1}, \"103\": {\"103\": 13, \"52\": 1, \"97\": 1, \"29\": 1}, \"100\": {\"100\": 12, \"116\": 1, \"92\": 2, \"14\": 1}, \"40\": {\"61\": 2, \"129\": 2, \"40\": 82, \"93\": 1, \"32\": 5, \"123\": 1, \"19\": 3, \"107\": 1, \"43\": 3, \"70\": 1, \"5\": 9, \"21\": 1, \"10\": 2, \"3\": 5, \"113\": 1, \"71\": 1, \"105\": 6, \"69\": 1, \"55\": 2, \"14\": 1, \"16\": 1, \"117\": 2, \"39\": 2, \"122\": 3, \"44\": 2}, \"35\": {\"35\": 11, \"52\": 1}, \"96\": {\"96\": 6, \"47\": 1, \"33\": 2, \"78\": 1, \"119\": 1, \"62\": 2, \"84\": 1, \"16\": 1, \"82\": 1, \"72\": 2, \"87\": 1, \"118\": 1}, \"101\": {\"101\": 108, \"79\": 2, \"6\": 2, \"0\": 1, \"125\": 1, \"111\": 2, \"94\": 2, \"30\": 1, \"93\": 1}, \"71\": {\"71\": 57, \"115\": 2, \"122\": 4, \"98\": 3, \"66\": 1, \"5\": 5, \"87\": 1, \"86\": 3, \"42\": 1, \"3\": 5, \"117\": 1, \"11\": 3, \"108\": 4, \"8\": 2, \"129\": 1, \"53\": 2, \"114\": 2, \"18\": 1, \"26\": 1, \"105\": 1}, \"81\": {\"81\": 18, \"109\": 1, \"121\": 2, \"70\": 1, \"9\": 1, \"2\": 1}, \"74\": {\"68\": 4, \"27\": 1, \"74\": 7, \"97\": 1, \"29\": 1, \"10\": 1, \"4\": 1}, \"119\": {\"119\": 16, \"109\": 1, \"116\": 1, \"87\": 2}, \"5\": {\"5\": 67, \"42\": 2, \"122\": 1, \"26\": 1, \"129\": 1, \"11\": 2, \"124\": 4, \"71\": 2, \"114\": 5, \"108\": 3, \"40\": 8, \"3\": 8, \"18\": 2, \"70\": 2, \"112\": 1, \"105\": 2, \"126\": 1}, \"68\": {\"68\": 10, \"74\": 2, \"91\": 1, \"127\": 2, \"79\": 1}, \"37\": {\"81\": 1, \"37\": 9, \"73\": 1, \"55\": 1, \"85\": 2, \"32\": 2}, \"58\": {\"58\": 17, \"34\": 2, \"6\": 1}, \"109\": {\"81\": 1, \"126\": 5, \"109\": 40, \"78\": 2, \"57\": 1, \"16\": 2, \"90\": 7, \"118\": 6, \"83\": 1, \"21\": 3, \"39\": 3, \"18\": 2, \"88\": 5, \"84\": 2, \"33\": 2, \"87\": 1, \"70\": 1, \"26\": 3, \"69\": 2, \"65\": 1, \"93\": 9, \"43\": 1}, \"107\": {\"107\": 26, \"125\": 3, \"128\": 1, \"66\": 1, \"105\": 2, \"71\": 2, \"3\": 6, \"122\": 2, \"110\": 6, \"0\": 1, \"40\": 6, \"106\": 1, \"95\": 1, \"8\": 2, \"42\": 1, \"124\": 1, \"19\": 1, \"5\": 1}, \"13\": {\"81\": 1, \"109\": 1, \"72\": 2, \"57\": 1, \"13\": 8, \"9\": 1, \"82\": 1, \"18\": 1}, \"52\": {\"77\": 2, \"52\": 16, \"5\": 1, \"97\": 1}, \"77\": {\"94\": 1, \"77\": 8, \"30\": 1, \"0\": 1, \"33\": 1, \"91\": 2, \"97\": 2}, \"95\": {\"95\": 19, \"3\": 1, \"86\": 1, \"104\": 1, \"8\": 1, \"107\": 3, \"129\": 1, \"71\": 1, \"110\": 2, \"41\": 1, \"4\": 2, \"11\": 1, \"128\": 2}, \"44\": {\"44\": 78, \"46\": 2, \"60\": 2, \"43\": 3, \"14\": 1, \"90\": 1, \"40\": 1, \"70\": 3, \"62\": 2, \"1\": 2, \"126\": 2, \"78\": 1, \"5\": 1, \"33\": 1}, \"88\": {\"120\": 1, \"44\": 5, \"88\": 35, \"93\": 9, \"45\": 1, \"70\": 4, \"14\": 1, \"62\": 5, \"84\": 1, \"90\": 15, \"118\": 4, \"69\": 3, \"4\": 1, \"102\": 5, \"87\": 2, \"126\": 5, \"113\": 1, \"39\": 3, \"43\": 2, \"20\": 2, \"109\": 7, \"38\": 1, \"121\": 1, \"16\": 2, \"21\": 1, \"98\": 1, \"33\": 2, \"1\": 2}, \"91\": {\"91\": 16, \"0\": 1, \"68\": 1, \"29\": 4, \"74\": 1, \"51\": 1, \"126\": 1, \"35\": 1, \"97\": 1, \"52\": 1}, \"93\": {\"93\": 86, \"70\": 1, \"116\": 1, \"102\": 12, \"118\": 2, \"88\": 4, \"117\": 2, \"87\": 8, \"16\": 9, \"90\": 5, \"69\": 5, \"84\": 3}, \"8\": {\"108\": 4, \"8\": 82, \"54\": 1, \"95\": 2, \"104\": 2, \"11\": 4, \"110\": 2, \"3\": 1, \"114\": 3, \"18\": 1, \"71\": 3, \"113\": 1, \"4\": 3, \"127\": 2, \"122\": 4, \"5\": 2, \"12\": 2, \"86\": 1, \"26\": 1, \"7\": 2, \"124\": 1}, \"1\": {\"1\": 85, \"46\": 1, \"38\": 1, \"126\": 3, \"83\": 1, \"24\": 1, \"70\": 1, \"33\": 4, \"84\": 3, \"44\": 5, \"87\": 2, \"43\": 3, \"117\": 1, \"62\": 2, \"40\": 1}, \"45\": {\"45\": 12, \"21\": 1, \"73\": 1, \"87\": 1, \"93\": 1}, \"111\": {\"34\": 1, \"111\": 90, \"127\": 16, \"0\": 2, \"12\": 1, \"98\": 3, \"62\": 1, \"125\": 3, \"59\": 1, \"27\": 1, \"42\": 3, \"21\": 1, \"7\": 1, \"15\": 1, \"106\": 1}, \"116\": {\"100\": 3, \"93\": 1, \"116\": 15, \"83\": 1, \"70\": 1, \"92\": 1, \"126\": 1, \"88\": 1, \"72\": 1, \"16\": 1, \"69\": 1, \"118\": 1}, \"48\": {\"13\": 1, \"48\": 19}, \"57\": {\"57\": 18, \"109\": 1, \"88\": 1}, \"10\": {\"10\": 25, \"14\": 1, \"30\": 2, \"74\": 1, \"66\": 2, \"32\": 1, \"40\": 2, \"91\": 3, \"105\": 4, \"0\": 4, \"99\": 1, \"62\": 1, \"7\": 3, \"123\": 2, \"103\": 1, \"53\": 1, \"41\": 1, \"29\": 1, \"52\": 1, \"4\": 1, \"26\": 1, \"122\": 1}, \"129\": {\"3\": 2, \"129\": 16, \"53\": 1, \"107\": 1, \"19\": 1, \"40\": 2, \"78\": 1, \"47\": 2, \"56\": 1, \"5\": 1, \"95\": 1, \"73\": 1, \"86\": 2}, \"98\": {\"98\": 59, \"34\": 2, \"106\": 3, \"27\": 2, \"4\": 2, \"12\": 2, \"111\": 7, \"26\": 1, \"7\": 1, \"8\": 8, \"24\": 6, \"122\": 1, \"127\": 2, \"18\": 2, \"30\": 2, \"112\": 1, \"54\": 2, \"114\": 1, \"11\": 3, \"71\": 2, \"94\": 2, \"15\": 1, \"108\": 5, \"36\": 1}, \"65\": {\"65\": 17, \"121\": 1, \"18\": 2}, \"6\": {\"6\": 25, \"75\": 1, \"101\": 2, \"125\": 1, \"30\": 2, \"94\": 1}, \"75\": {\"75\": 11, \"77\": 1, \"117\": 1, \"0\": 1, \"36\": 1, \"101\": 1}, \"14\": {\"14\": 37, \"99\": 1, \"43\": 2, \"76\": 1, \"62\": 3, \"22\": 1, \"55\": 2, \"39\": 1}, \"30\": {\"30\": 57, \"51\": 2, \"75\": 2, \"15\": 5, \"0\": 12, \"111\": 3, \"18\": 1, \"117\": 2, \"98\": 3, \"125\": 1, \"69\": 1, \"101\": 11, \"127\": 2, \"108\": 1, \"39\": 2, \"68\": 1, \"6\": 1, \"128\": 2, \"36\": 1, \"5\": 1, \"7\": 1}, \"83\": {\"83\": 30, \"61\": 1, \"87\": 3, \"102\": 1, \"16\": 1, \"116\": 1, \"37\": 1, \"100\": 1, \"90\": 1}, \"69\": {\"69\": 102, \"72\": 4, \"88\": 1, \"39\": 4, \"109\": 1, \"87\": 1, \"102\": 3, \"18\": 1, \"16\": 2, \"93\": 6, \"117\": 1, \"13\": 1, \"113\": 1}, \"125\": {\"125\": 110, \"106\": 9, \"24\": 4, \"36\": 12, \"15\": 6, \"108\": 2, \"9\": 1, \"25\": 1, \"109\": 1}, \"31\": {\"31\": 14, \"116\": 2, \"100\": 1, \"102\": 1, \"96\": 2}, \"118\": {\"87\": 10, \"118\": 26, \"80\": 1, \"93\": 2, \"67\": 2, \"1\": 1, \"109\": 3, \"90\": 3, \"84\": 4, \"16\": 1, \"82\": 2, \"88\": 3, \"44\": 2, \"55\": 1, \"119\": 1, \"96\": 1, \"76\": 1, \"78\": 1, \"33\": 2, \"43\": 1}, \"53\": {\"34\": 1, \"53\": 6, \"122\": 2, \"8\": 1, \"7\": 1, \"49\": 1, \"32\": 1, \"71\": 1, \"12\": 2}, \"54\": {\"34\": 3, \"54\": 13, \"112\": 1, \"127\": 1, \"104\": 1, \"71\": 1}, \"92\": {\"92\": 26, \"89\": 1, \"82\": 1}, \"19\": {\"19\": 17, \"80\": 1, \"43\": 1, \"67\": 1, \"71\": 1, \"32\": 1, \"70\": 2, \"40\": 2, \"124\": 1, \"78\": 1}, \"27\": {\"27\": 23, \"69\": 1, \"15\": 2, \"25\": 3, \"49\": 1, \"24\": 4, \"111\": 3, \"94\": 3, \"106\": 9, \"29\": 2, \"3\": 1, \"36\": 4, \"12\": 3, \"125\": 2, \"81\": 2, \"93\": 1, \"11\": 1, \"108\": 1, \"5\": 1, \"127\": 1}, \"17\": {\"17\": 5, \"8\": 2, \"102\": 1, \"26\": 1, \"107\": 1, \"91\": 1, \"71\": 1, \"95\": 2, \"54\": 1, \"4\": 1}, \"4\": {\"4\": 39, \"86\": 2, \"71\": 6, \"122\": 7, \"8\": 16, \"11\": 2, \"3\": 2, \"110\": 3, \"7\": 3, \"105\": 1, \"16\": 1, \"104\": 1, \"49\": 2, \"95\": 1, \"12\": 1, \"107\": 1}, \"36\": {\"27\": 4, \"36\": 66, \"97\": 1, \"34\": 1, \"106\": 12, \"94\": 5, \"15\": 9, \"125\": 14, \"88\": 1, \"108\": 2, \"26\": 1, \"39\": 1, \"58\": 2, \"51\": 1, \"111\": 2, \"101\": 1, \"18\": 1, \"24\": 2, \"90\": 1, \"69\": 1}, \"90\": {\"90\": 107, \"31\": 2, \"83\": 1, \"118\": 2, \"93\": 6, \"2\": 1, \"62\": 2, \"16\": 4, \"69\": 2, \"88\": 5, \"87\": 1, \"109\": 1, \"102\": 2}, \"64\": {\"64\": 13, \"76\": 2, \"117\": 1}, \"66\": {\"66\": 16, \"40\": 1, \"129\": 1, \"110\": 1, \"78\": 1}, \"46\": {\"46\": 9, \"44\": 2, \"1\": 1, \"126\": 1, \"16\": 1, \"73\": 1, \"89\": 1}, \"86\": {\"114\": 1, \"86\": 20, \"42\": 1, \"3\": 1, \"122\": 3, \"22\": 1, \"105\": 1, \"110\": 1, \"129\": 1, \"49\": 1, \"124\": 1}, \"114\": {\"114\": 55, \"86\": 2, \"3\": 11, \"71\": 10, \"108\": 5, \"5\": 3, \"117\": 1, \"11\": 1, \"124\": 7, \"127\": 3, \"122\": 3, \"8\": 3, \"24\": 1, \"98\": 1, \"40\": 1, \"105\": 2, \"16\": 1}, \"32\": {\"56\": 1, \"32\": 15, \"129\": 2, \"38\": 1, \"105\": 1, \"40\": 4, \"75\": 1, \"95\": 1, \"114\": 1, \"4\": 1, \"107\": 1, \"122\": 1, \"3\": 1, \"71\": 1, \"19\": 1, \"23\": 1, \"85\": 1, \"27\": 1}, \"78\": {\"90\": 1, \"32\": 3, \"78\": 8, \"5\": 1, \"14\": 2, \"40\": 3, \"66\": 1, \"63\": 1, \"23\": 1, \"85\": 1, \"19\": 1, \"118\": 3, \"69\": 1, \"107\": 1, \"88\": 2, \"1\": 1, \"110\": 1, \"61\": 1, \"109\": 2, \"129\": 2, \"33\": 1, \"11\": 1, \"10\": 1, \"0\": 1, \"39\": 1, \"62\": 4, \"93\": 1, \"122\": 1}, \"33\": {\"33\": 111, \"84\": 6, \"1\": 5, \"93\": 1, \"87\": 2, \"126\": 6, \"69\": 1, \"44\": 1, \"121\": 1, \"85\": 1, \"102\": 1, \"90\": 1, \"62\": 1}, \"70\": {\"43\": 9, \"55\": 1, \"109\": 2, \"50\": 1, \"70\": 32, \"90\": 6, \"14\": 2, \"78\": 2, \"40\": 10, \"60\": 1, \"118\": 2, \"1\": 7, \"18\": 1, \"88\": 5, \"62\": 7, \"87\": 2, \"93\": 2, \"44\": 3, \"126\": 7, \"26\": 1, \"5\": 7, \"16\": 1, \"95\": 1, \"102\": 1, \"10\": 1, \"31\": 1, \"74\": 1, \"119\": 1, \"3\": 1, \"84\": 2, \"107\": 1, \"117\": 2, \"33\": 1}, \"0\": {\"0\": 68, \"91\": 1, \"29\": 3, \"77\": 3, \"68\": 2, \"7\": 3, \"12\": 2, \"30\": 8, \"101\": 8, \"39\": 2, \"26\": 1, \"15\": 1, \"24\": 1, \"113\": 1, \"52\": 2, \"127\": 5, \"11\": 1, \"69\": 1, \"8\": 1, \"108\": 1, \"111\": 1}, \"110\": {\"110\": 27, \"124\": 2, \"71\": 4, \"117\": 1, \"51\": 1, \"3\": 1, \"10\": 1, \"53\": 1, \"86\": 2}, \"2\": {\"2\": 21, \"21\": 2, \"99\": 3, \"88\": 1, \"26\": 1, \"117\": 1, \"113\": 1, \"72\": 1, \"36\": 1}, \"28\": {\"28\": 11, \"73\": 1, \"88\": 1, \"71\": 1, \"124\": 1, \"64\": 2, \"62\": 1, \"23\": 1, \"78\": 1}, \"51\": {\"51\": 11, \"97\": 1, \"30\": 1, \"111\": 1, \"75\": 2, \"9\": 2, \"58\": 1, \"91\": 1}, \"79\": {\"79\": 16}, \"42\": {\"70\": 3, \"97\": 1, \"61\": 1, \"54\": 1, \"43\": 1, \"59\": 1, \"40\": 2, \"3\": 1, \"106\": 1, \"42\": 1, \"12\": 1, \"107\": 2, \"1\": 1, \"125\": 1, \"46\": 1, \"64\": 2, \"115\": 1, \"24\": 1, \"85\": 1, \"71\": 2, \"34\": 1, \"32\": 1}, \"112\": {\"112\": 10, \"54\": 1, \"108\": 2, \"114\": 1, \"98\": 1, \"124\": 1}, \"89\": {\"116\": 4, \"89\": 22, \"93\": 2, \"90\": 1, \"72\": 2, \"31\": 1, \"102\": 2, \"21\": 1, \"87\": 1}, \"59\": {\"34\": 2, \"24\": 2, \"15\": 2, \"54\": 3, \"125\": 3, \"111\": 1, \"59\": 1, \"91\": 1, \"94\": 1}, \"105\": {\"86\": 4, \"32\": 1, \"105\": 106, \"123\": 2, \"122\": 3, \"40\": 2, \"26\": 2, \"3\": 3, \"115\": 1, \"110\": 1, \"78\": 1, \"107\": 2}, \"121\": {\"121\": 25, \"65\": 3, \"113\": 2, \"26\": 2, \"23\": 2, \"93\": 1, \"117\": 1}, \"11\": {\"49\": 2, \"11\": 25, \"124\": 2, \"95\": 3, \"48\": 1, \"104\": 1, \"8\": 6, \"3\": 1, \"108\": 5, \"7\": 1, \"30\": 1, \"122\": 6, \"98\": 3, \"12\": 3, \"0\": 1, \"4\": 4, \"24\": 1, \"105\": 1, \"40\": 1, \"110\": 3, \"71\": 4, \"115\": 1, \"26\": 1, \"57\": 1, \"94\": 1, \"18\": 1}, \"99\": {\"18\": 1, \"99\": 19, \"117\": 1, \"65\": 2, \"113\": 2, \"21\": 1, \"26\": 3, \"2\": 1, \"57\": 1, \"39\": 1}, \"25\": {\"25\": 15, \"36\": 1}, \"62\": {\"62\": 110, \"20\": 1, \"60\": 1, \"44\": 3, \"33\": 2, \"43\": 3, \"70\": 1, \"113\": 2, \"89\": 1, \"78\": 1, \"126\": 1, \"39\": 1, \"16\": 1}, \"123\": {\"123\": 15, \"32\": 1}, \"24\": {\"24\": 22, \"3\": 2, \"125\": 16, \"66\": 2, \"71\": 2, \"36\": 5, \"15\": 2, \"99\": 1, \"83\": 1, \"106\": 16, \"78\": 1, \"4\": 3, \"108\": 4, \"84\": 1, \"1\": 1, \"114\": 2, \"8\": 3, \"122\": 3, \"30\": 2, \"111\": 6, \"26\": 1, \"127\": 1, \"94\": 1, \"27\": 1, \"11\": 2, \"98\": 4, \"77\": 1, \"34\": 1, \"43\": 1, \"40\": 1, \"126\": 2, \"69\": 1}, \"80\": {\"80\": 14, \"62\": 1, \"44\": 1}, \"39\": {\"39\": 52, \"109\": 5, \"102\": 6, \"117\": 3, \"2\": 1, \"18\": 8, \"88\": 2, \"16\": 3, \"93\": 6, \"69\": 3, \"26\": 6, \"72\": 1, \"99\": 1, \"78\": 1, \"33\": 2}, \"22\": {\"22\": 16, \"19\": 1, \"61\": 1, \"53\": 1, \"2\": 1}}, \"Wisig_4\": {\"32\": {\"32\": 16, \"22\": 1, \"14\": 2, \"122\": 1, \"69\": 1, \"31\": 1, \"76\": 1, \"118\": 1, \"60\": 1, \"72\": 1, \"40\": 2}, \"22\": {\"22\": 11, \"40\": 1, \"122\": 2, \"54\": 1, \"118\": 1}, \"69\": {\"69\": 98, \"122\": 1, \"6\": 1, \"13\": 1, \"84\": 4, \"39\": 1, \"118\": 2, \"109\": 3, \"66\": 1, \"125\": 1, \"102\": 3, \"44\": 2, \"126\": 2}, \"65\": {\"65\": 12}, \"91\": {\"91\": 15, \"111\": 2, \"8\": 1, \"30\": 2, \"15\": 2, \"86\": 1, \"0\": 1}, \"63\": {\"65\": 1, \"63\": 15}, \"127\": {\"63\": 1, \"127\": 80, \"95\": 1, \"52\": 1, \"36\": 1, \"30\": 1, \"101\": 6, \"12\": 4, \"0\": 5, \"10\": 1, \"34\": 1, \"29\": 1, \"16\": 1, \"68\": 1, \"15\": 2, \"18\": 1}, \"11\": {\"11\": 76, \"73\": 1, \"92\": 1, \"74\": 1, \"5\": 9, \"80\": 1, \"33\": 4, \"88\": 3, \"113\": 1, \"93\": 6, \"81\": 1, \"69\": 4, \"108\": 8, \"118\": 4, \"110\": 4, \"109\": 1, \"43\": 3, \"84\": 1, \"99\": 1, \"116\": 1, \"102\": 2, \"44\": 1, \"122\": 1, \"14\": 2, \"71\": 1}, \"12\": {\"12\": 59, \"6\": 1, \"102\": 1, \"34\": 1, \"69\": 1, \"36\": 2, \"111\": 6, \"106\": 6, \"18\": 2, \"87\": 2, \"8\": 7, \"77\": 1, \"47\": 1, \"9\": 2, \"24\": 3, \"10\": 1, \"127\": 1, \"26\": 1, \"15\": 2}, \"111\": {\"111\": 74, \"53\": 1, \"95\": 2, \"4\": 3, \"12\": 6, \"125\": 2, \"10\": 3, \"106\": 2, \"0\": 3, \"98\": 2, \"127\": 5, \"94\": 1, \"27\": 4, \"8\": 3, \"70\": 3, \"30\": 1, \"26\": 1, \"51\": 1, \"68\": 1, \"103\": 1, \"17\": 1, \"37\": 1, \"29\": 1, \"77\": 1, \"71\": 1, \"9\": 1, \"24\": 1, \"126\": 1, \"15\": 1}, \"53\": {\"53\": 9, \"127\": 1, \"10\": 2, \"55\": 1, \"122\": 1, \"9\": 1, \"52\": 1}, \"73\": {\"73\": 15, \"51\": 1, \"99\": 1, \"40\": 1, \"108\": 1, \"45\": 1, \"10\": 1, \"5\": 2, \"67\": 1}, \"3\": {\"83\": 1, \"3\": 75, \"40\": 4, \"107\": 10, \"19\": 2, \"99\": 1, \"100\": 1, \"49\": 3, \"26\": 1, \"46\": 1, \"43\": 2, \"78\": 1, \"105\": 2, \"70\": 3, \"122\": 1, \"114\": 4, \"1\": 5, \"87\": 3, \"14\": 2, \"124\": 7, \"119\": 1, \"72\": 1, \"88\": 1, \"42\": 1, \"98\": 1, \"5\": 1, \"39\": 1}, \"83\": {\"73\": 2, \"114\": 1, \"83\": 13, \"62\": 1, \"3\": 2, \"124\": 2, \"33\": 1, \"70\": 1, \"110\": 1, \"50\": 1, \"88\": 3}, \"88\": {\"88\": 20, \"100\": 1, \"45\": 2, \"128\": 1, \"66\": 1, \"110\": 2, \"3\": 1, \"70\": 9, \"102\": 3, \"109\": 9, \"106\": 2, \"99\": 2, \"7\": 5, \"107\": 1, \"117\": 3, \"0\": 1, \"118\": 4, \"124\": 5, \"84\": 2, \"122\": 2, \"98\": 6, \"1\": 7, \"90\": 7, \"114\": 7, \"93\": 3, \"4\": 1, \"69\": 1, \"16\": 1, \"105\": 3, \"108\": 2, \"96\": 2, \"116\": 1, \"104\": 1, \"23\": 1, \"83\": 1, \"49\": 2, \"27\": 2, \"71\": 1, \"62\": 1, \"14\": 1, \"10\": 1, \"8\": 1, \"127\": 1}, \"87\": {\"83\": 1, \"87\": 65, \"120\": 1, \"76\": 2, \"104\": 3, \"1\": 8, \"88\": 5, \"89\": 1, \"124\": 2, \"108\": 1, \"105\": 3, \"114\": 8, \"43\": 1, \"40\": 3, \"110\": 5, \"33\": 1, \"3\": 2, \"107\": 3, \"14\": 1, \"7\": 7, \"70\": 3, \"46\": 1, \"42\": 2, \"19\": 2, \"99\": 1}, \"2\": {\"16\": 4, \"2\": 14, \"116\": 1, \"117\": 2, \"39\": 1, \"18\": 1, \"113\": 1, \"67\": 1, \"90\": 1, \"109\": 1, \"11\": 1}, \"86\": {\"86\": 24, \"0\": 2, \"55\": 1, \"101\": 1}, \"16\": {\"92\": 2, \"16\": 85, \"57\": 1, \"2\": 4, \"122\": 1, \"81\": 2, \"109\": 5, \"102\": 3, \"90\": 1, \"113\": 11, \"69\": 1, \"121\": 1, \"84\": 4, \"39\": 1}, \"21\": {\"65\": 1, \"10\": 1, \"21\": 21, \"123\": 2, \"90\": 1, \"126\": 4, \"3\": 1, \"18\": 1, \"121\": 1, \"62\": 1, \"81\": 1, \"26\": 2, \"51\": 1, \"63\": 1, \"87\": 1}, \"96\": {\"96\": 8, \"78\": 2, \"31\": 1, \"110\": 1, \"90\": 4, \"88\": 1, \"38\": 2, \"122\": 1}, \"100\": {\"100\": 12, \"1\": 3, \"114\": 2, \"87\": 1, \"107\": 1, \"7\": 1}, \"7\": {\"7\": 77, \"85\": 1, \"128\": 3, \"19\": 1, \"71\": 2, \"98\": 2, \"108\": 1, \"27\": 3, \"70\": 7, \"1\": 1, \"105\": 2, \"10\": 3, \"114\": 1, \"89\": 1, \"37\": 1, \"88\": 1, \"49\": 2, \"82\": 2, \"4\": 3, \"87\": 2, \"124\": 1, \"107\": 2, \"113\": 1}, \"75\": {\"75\": 15, \"54\": 1}, \"10\": {\"100\": 1, \"10\": 23, \"77\": 1, \"97\": 3, \"22\": 2, \"59\": 4, \"42\": 1, \"25\": 1, \"27\": 3, \"40\": 1, \"12\": 3, \"34\": 1, \"94\": 2, \"71\": 4, \"18\": 1, \"1\": 2, \"30\": 3, \"15\": 11, \"39\": 1, \"7\": 4, \"72\": 1, \"70\": 3, \"87\": 4, \"106\": 6, \"24\": 3, \"36\": 10, \"98\": 2, \"114\": 4, \"125\": 5, \"85\": 2, \"120\": 1, \"54\": 1, \"126\": 1, \"111\": 1, \"6\": 1, \"4\": 2, \"108\": 1, \"117\": 1, \"8\": 3}, \"43\": {\"3\": 3, \"88\": 4, \"44\": 2, \"43\": 51, \"126\": 2, \"32\": 1, \"110\": 8, \"78\": 1, \"63\": 1, \"109\": 3, \"62\": 1, \"107\": 7, \"108\": 1, \"122\": 1, \"16\": 1, \"14\": 4, \"33\": 5, \"40\": 6, \"1\": 1, \"93\": 6, \"5\": 2, \"129\": 1, \"26\": 1, \"90\": 2, \"72\": 1, \"11\": 2, \"69\": 2}, \"92\": {\"92\": 22, \"67\": 1, \"70\": 1, \"20\": 1, \"13\": 1, \"102\": 1, \"74\": 1}, \"62\": {\"62\": 28, \"43\": 8, \"32\": 1, \"72\": 2, \"108\": 4, \"122\": 5, \"113\": 2, \"39\": 1, \"93\": 2, \"126\": 1, \"14\": 2, \"60\": 2, \"99\": 1, \"118\": 1}, \"31\": {\"45\": 1, \"66\": 1, \"31\": 9, \"116\": 1, \"129\": 1, \"108\": 1, \"93\": 2}, \"0\": {\"0\": 60, \"86\": 4, \"82\": 1, \"91\": 1, \"95\": 3, \"127\": 10, \"4\": 3, \"12\": 6, \"8\": 6, \"101\": 4, \"10\": 5, \"111\": 3, \"98\": 3, \"23\": 1, \"52\": 2, \"117\": 1, \"26\": 1}, \"45\": {\"66\": 1, \"45\": 14, \"74\": 1}, \"85\": {\"85\": 22, \"4\": 1, \"54\": 1, \"34\": 1, \"95\": 1, \"97\": 1, \"89\": 1}, \"119\": {\"1\": 1, \"119\": 14, \"115\": 1}, \"46\": {\"119\": 1, \"1\": 1, \"46\": 13, \"83\": 1, \"64\": 1, \"104\": 1, \"107\": 1, \"42\": 1}, \"71\": {\"71\": 50, \"129\": 6, \"88\": 3, \"124\": 10, \"7\": 1, \"114\": 3, \"106\": 1, \"105\": 4, \"4\": 2, \"1\": 4, \"27\": 2, \"87\": 4, \"10\": 1, \"85\": 1, \"24\": 1, \"42\": 1, \"70\": 4, \"100\": 1, \"98\": 1, \"3\": 2, \"18\": 1, \"126\": 1}, \"8\": {\"9\": 4, \"8\": 73, \"37\": 1, \"103\": 2, \"34\": 2, \"111\": 10, \"15\": 7, \"127\": 6, \"0\": 3, \"30\": 2, \"12\": 4, \"16\": 1, \"101\": 2, \"113\": 1, \"126\": 1, \"95\": 1, \"68\": 1, \"10\": 4, \"27\": 5, \"71\": 1, \"24\": 1, \"106\": 1, \"26\": 1}, \"118\": {\"118\": 51, \"99\": 2, \"122\": 4, \"44\": 1, \"14\": 3, \"102\": 3, \"62\": 3, \"109\": 3, \"69\": 10, \"110\": 5, \"88\": 1, \"33\": 3, \"39\": 1, \"108\": 3, \"84\": 1, \"43\": 1, \"93\": 5, \"90\": 6, \"66\": 1, \"32\": 1, \"18\": 2, \"106\": 1, \"16\": 1}, \"1\": {\"46\": 1, \"1\": 65, \"87\": 2, \"114\": 3, \"104\": 1, \"100\": 2, \"12\": 2, \"3\": 7, \"94\": 1, \"105\": 3, \"126\": 1, \"18\": 1, \"40\": 3, \"107\": 1, \"26\": 1, \"110\": 1, \"24\": 2, \"124\": 6, \"21\": 1, \"129\": 1, \"113\": 1, \"70\": 1, \"71\": 1}, \"38\": {\"31\": 1, \"66\": 1, \"38\": 9, \"80\": 3, \"74\": 1, \"26\": 1}, \"30\": {\"30\": 45, \"8\": 4, \"59\": 1, \"127\": 1, \"27\": 1, \"58\": 1, \"125\": 2, \"15\": 3, \"106\": 3, \"0\": 1, \"101\": 3, \"14\": 1, \"6\": 2, \"91\": 1, \"51\": 1, \"123\": 1, \"126\": 1, \"34\": 1, \"24\": 1, \"10\": 1, \"12\": 1}, \"66\": {\"66\": 8, \"118\": 2, \"44\": 1, \"69\": 2, \"20\": 1, \"31\": 1, \"90\": 1}, \"9\": {\"9\": 22, \"34\": 1, \"94\": 2, \"12\": 1, \"10\": 1, \"106\": 1}, \"5\": {\"5\": 95, \"33\": 11, \"11\": 10, \"1\": 1, \"124\": 1, \"3\": 3, \"44\": 3, \"118\": 1, \"93\": 3, \"73\": 1, \"50\": 1, \"62\": 1, \"45\": 1, \"108\": 1, \"99\": 1, \"40\": 1, \"102\": 1}, \"24\": {\"24\": 25, \"59\": 2, \"53\": 1, \"88\": 5, \"36\": 13, \"105\": 1, \"94\": 9, \"27\": 7, \"18\": 2, \"12\": 2, \"1\": 2, \"127\": 1, \"125\": 9, \"106\": 5, \"8\": 4, \"98\": 5, \"70\": 2, \"39\": 1, \"3\": 1, \"10\": 7, \"17\": 1, \"34\": 1, \"15\": 4, \"111\": 3, \"114\": 2, \"4\": 1, \"71\": 1, \"124\": 2, \"7\": 1}, \"97\": {\"88\": 1, \"24\": 1, \"125\": 2, \"58\": 1, \"70\": 1, \"97\": 9, \"25\": 3, \"27\": 1, \"77\": 1}, \"67\": {\"26\": 3, \"67\": 4, \"115\": 1, \"61\": 1, \"123\": 2, \"48\": 1, \"18\": 2, \"5\": 1, \"39\": 1}, \"19\": {\"7\": 2, \"10\": 1, \"69\": 1, \"56\": 1, \"50\": 1, \"37\": 1, \"89\": 3, \"70\": 2, \"105\": 2, \"110\": 1, \"84\": 1, \"19\": 3, \"116\": 1, \"86\": 1, \"85\": 1, \"5\": 1, \"20\": 2, \"118\": 1, \"95\": 1, \"122\": 1}, \"77\": {\"10\": 1, \"77\": 8, \"47\": 2, \"12\": 1}, \"26\": {\"26\": 102, \"121\": 2, \"18\": 3, \"81\": 1, \"62\": 1, \"113\": 2, \"39\": 1, \"126\": 4, \"117\": 1, \"16\": 1}, \"115\": {\"77\": 1, \"19\": 1, \"115\": 4, \"76\": 1, \"93\": 1, \"119\": 2, \"107\": 2, \"70\": 1, \"118\": 1, \"42\": 1, \"73\": 1}, \"50\": {\"50\": 10, \"5\": 3, \"28\": 1, \"14\": 1, \"57\": 1}, \"120\": {\"120\": 19, \"34\": 1}, \"102\": {\"102\": 93, \"84\": 11, \"45\": 2, \"99\": 1, \"69\": 10, \"93\": 1, \"44\": 1, \"39\": 1, \"109\": 2, \"33\": 1, \"40\": 1, \"3\": 1, \"90\": 1, \"92\": 1, \"108\": 1}, \"29\": {\"29\": 28, \"101\": 2, \"15\": 2}, \"44\": {\"102\": 7, \"44\": 29, \"5\": 2, \"113\": 1, \"99\": 1, \"118\": 3, \"108\": 1, \"109\": 2, \"16\": 1, \"84\": 3, \"90\": 3, \"66\": 1, \"33\": 2, \"11\": 1, \"43\": 2, \"93\": 1, \"69\": 4}, \"124\": {\"124\": 66, \"78\": 2, \"114\": 18, \"73\": 1, \"99\": 1, \"71\": 6, \"128\": 2, \"98\": 2, \"49\": 1, \"1\": 5, \"36\": 1, \"87\": 2, \"88\": 4, \"70\": 2, \"0\": 1, \"34\": 1, \"10\": 1, \"27\": 1, \"40\": 1}, \"78\": {\"124\": 2, \"102\": 1, \"26\": 3, \"78\": 6, \"2\": 2, \"14\": 2, \"84\": 1, \"63\": 1, \"71\": 1, \"83\": 1, \"3\": 1, \"21\": 1, \"121\": 1, \"18\": 2, \"89\": 1, \"1\": 1, \"117\": 1, \"39\": 1, \"104\": 1, \"129\": 1, \"120\": 1, \"82\": 1, \"76\": 1, \"49\": 1, \"98\": 1}, \"104\": {\"104\": 10, \"107\": 1, \"60\": 1, \"42\": 1, \"3\": 2, \"87\": 1}, \"105\": {\"105\": 58, \"104\": 1, \"19\": 2, \"46\": 1, \"117\": 1, \"102\": 1, \"3\": 4, \"70\": 2, \"114\": 3, \"71\": 3, \"124\": 3, \"87\": 7, \"1\": 3, \"107\": 2, \"128\": 1, \"34\": 1, \"39\": 2, \"40\": 2, \"7\": 1, \"15\": 1, \"18\": 1}, \"28\": {\"124\": 1, \"28\": 11, \"5\": 1, \"40\": 1, \"73\": 1, \"110\": 1, \"11\": 1, \"64\": 1, \"50\": 1, \"60\": 1}, \"37\": {\"37\": 12, \"4\": 3, \"98\": 1}, \"107\": {\"28\": 1, \"107\": 88, \"70\": 1, \"1\": 1, \"43\": 5, \"33\": 2, \"60\": 1, \"110\": 1, \"93\": 1, \"3\": 2, \"40\": 13, \"114\": 1, \"117\": 1, \"87\": 5, \"14\": 2, \"79\": 1, \"46\": 1, \"88\": 3, \"19\": 1, \"113\": 1}, \"6\": {\"6\": 21, \"75\": 1, \"30\": 1, \"12\": 1}, \"17\": {\"37\": 2, \"17\": 14, \"34\": 1, \"104\": 2, \"82\": 1}, \"57\": {\"57\": 13, \"102\": 1, \"16\": 2}, \"121\": {\"121\": 23, \"13\": 2, \"69\": 1, \"117\": 2, \"26\": 1, \"39\": 1, \"65\": 1, \"5\": 1}, \"58\": {\"58\": 10, \"6\": 2, \"15\": 3, \"77\": 1}, \"64\": {\"102\": 1, \"64\": 13, \"124\": 1, \"93\": 1}, \"82\": {\"82\": 26, \"89\": 3, \"17\": 1, \"49\": 2}, \"39\": {\"18\": 9, \"117\": 6, \"39\": 47, \"16\": 2, \"38\": 1, \"109\": 3, \"80\": 1, \"126\": 5, \"21\": 1, \"81\": 2, \"43\": 1, \"84\": 1, \"113\": 8, \"5\": 1, \"69\": 1, \"26\": 5, \"118\": 2, \"63\": 3, \"121\": 1}, \"110\": {\"32\": 2, \"110\": 63, \"43\": 8, \"129\": 1, \"88\": 3, \"99\": 2, \"26\": 1, \"78\": 1, \"93\": 8, \"33\": 7, \"108\": 7, \"62\": 3, \"122\": 1, \"14\": 2, \"18\": 2, \"39\": 2, \"107\": 1, \"118\": 3, \"21\": 1, \"9\": 1, \"1\": 2, \"40\": 1, \"44\": 1, \"11\": 1}, \"114\": {\"114\": 73, \"88\": 4, \"70\": 5, \"129\": 2, \"1\": 10, \"124\": 8, \"71\": 6, \"105\": 3, \"87\": 3, \"98\": 1, \"7\": 1, \"40\": 1, \"10\": 1, \"46\": 1, \"107\": 2, \"42\": 1, \"39\": 1, \"4\": 1, \"3\": 3, \"14\": 1}, \"20\": {\"20\": 10, \"102\": 3, \"116\": 1, \"74\": 2}, \"117\": {\"39\": 8, \"117\": 78, \"113\": 11, \"121\": 1, \"2\": 1, \"81\": 5, \"126\": 2, \"108\": 2, \"16\": 3, \"62\": 2, \"18\": 1}, \"18\": {\"18\": 97, \"123\": 1, \"117\": 5, \"126\": 2, \"39\": 4, \"16\": 1, \"26\": 7, \"113\": 2, \"21\": 1}, \"99\": {\"32\": 3, \"99\": 33, \"93\": 2, \"110\": 1, \"118\": 1}, \"23\": {\"117\": 1, \"0\": 1, \"91\": 1, \"61\": 1, \"27\": 1, \"122\": 1, \"39\": 2, \"81\": 1, \"47\": 1, \"10\": 1, \"23\": 1, \"63\": 1, \"21\": 1, \"18\": 2}, \"128\": {\"128\": 10, \"105\": 2, \"42\": 1, \"49\": 1, \"114\": 1, \"7\": 1, \"110\": 1, \"27\": 1, \"4\": 1, \"100\": 1, \"70\": 2, \"124\": 1, \"120\": 1}, \"60\": {\"128\": 1, \"44\": 1, \"99\": 3, \"60\": 7, \"71\": 1, \"42\": 3, \"40\": 1, \"46\": 2, \"3\": 1, \"33\": 2, \"114\": 2, \"22\": 1, \"43\": 1, \"108\": 1, \"124\": 1, \"17\": 1, \"49\": 1, \"1\": 2}, \"70\": {\"8\": 1, \"88\": 3, \"125\": 2, \"7\": 3, \"26\": 1, \"70\": 32, \"3\": 1, \"98\": 8, \"85\": 2, \"99\": 1, \"78\": 2, \"105\": 5, \"122\": 1, \"40\": 2, \"62\": 1, \"1\": 2, \"71\": 4, \"110\": 3, \"111\": 2, \"4\": 4, \"106\": 2, \"114\": 1, \"118\": 1, \"27\": 3, \"14\": 1, \"87\": 6, \"126\": 2, \"43\": 3, \"112\": 2, \"49\": 1, \"108\": 1, \"37\": 2, \"19\": 1, \"56\": 1, \"42\": 1, \"128\": 1, \"120\": 1, \"10\": 3, \"100\": 1, \"109\": 2, \"124\": 2, \"84\": 1, \"33\": 1}, \"122\": {\"67\": 1, \"70\": 1, \"44\": 3, \"122\": 29, \"43\": 5, \"108\": 4, \"99\": 4, \"109\": 2, \"33\": 7, \"93\": 3, \"110\": 5, \"16\": 1, \"18\": 1, \"31\": 1, \"121\": 1, \"117\": 1, \"32\": 1, \"69\": 5, \"5\": 1, \"14\": 1, \"118\": 2, \"62\": 2, \"102\": 3}, \"101\": {\"101\": 94, \"70\": 1, \"15\": 1, \"6\": 1, \"91\": 2, \"63\": 1, \"12\": 1, \"4\": 5, \"30\": 2, \"0\": 6, \"127\": 4, \"8\": 9, \"113\": 1, \"86\": 2, \"39\": 1, \"111\": 1}, \"33\": {\"33\": 114, \"44\": 1, \"92\": 1, \"72\": 1, \"5\": 3, \"43\": 3, \"110\": 3, \"93\": 2, \"69\": 1, \"108\": 2, \"40\": 1}, \"40\": {\"107\": 21, \"40\": 76, \"43\": 8, \"39\": 1, \"110\": 1, \"1\": 3, \"87\": 6, \"3\": 2, \"18\": 2, \"114\": 1, \"117\": 3, \"5\": 1, \"88\": 2, \"4\": 1, \"14\": 2}, \"41\": {\"24\": 2, \"27\": 1, \"36\": 1, \"52\": 1, \"41\": 5, \"8\": 1, \"42\": 1, \"98\": 2, \"35\": 1, \"70\": 1}, \"59\": {\"59\": 10, \"30\": 1, \"77\": 1}, \"4\": {\"4\": 79, \"27\": 5, \"37\": 2, \"35\": 1, \"56\": 1, \"39\": 2, \"95\": 1, \"121\": 1, \"52\": 1, \"126\": 1, \"70\": 1, \"8\": 1, \"86\": 1, \"12\": 1, \"129\": 1, \"26\": 2, \"18\": 1, \"0\": 2}, \"112\": {\"112\": 11, \"24\": 1, \"42\": 1, \"73\": 1, \"70\": 1, \"123\": 1}, \"36\": {\"59\": 2, \"36\": 75, \"106\": 9, \"24\": 8, \"15\": 4, \"52\": 2, \"18\": 1, \"125\": 11, \"12\": 2, \"26\": 1, \"111\": 2, \"10\": 2, \"8\": 3, \"51\": 2, \"94\": 3, \"9\": 1}, \"48\": {\"48\": 11, \"117\": 2, \"63\": 2, \"72\": 1}, \"126\": {\"126\": 71, \"18\": 6, \"81\": 3, \"39\": 3, \"16\": 7, \"26\": 9, \"113\": 7, \"117\": 4, \"61\": 1, \"65\": 1, \"118\": 1, \"109\": 1, \"2\": 2}, \"125\": {\"10\": 3, \"125\": 81, \"15\": 8, \"94\": 7, \"36\": 10, \"24\": 4, \"30\": 1, \"113\": 1, \"8\": 2, \"106\": 3, \"18\": 1, \"88\": 1}, \"84\": {\"80\": 1, \"92\": 1, \"116\": 1, \"84\": 85, \"121\": 1, \"102\": 11, \"62\": 1, \"44\": 2, \"113\": 4, \"39\": 1, \"16\": 2, \"90\": 4, \"69\": 6, \"126\": 1, \"109\": 2, \"117\": 1, \"18\": 1, \"93\": 1, \"26\": 2}, \"80\": {\"102\": 2, \"92\": 1, \"80\": 13}, \"49\": {\"20\": 2, \"125\": 1, \"12\": 2, \"79\": 1, \"11\": 3, \"72\": 1, \"116\": 3, \"34\": 1, \"127\": 1, \"33\": 1, \"69\": 1, \"43\": 1, \"58\": 1, \"44\": 3, \"74\": 1, \"5\": 3, \"95\": 1, \"8\": 1, \"73\": 1, \"49\": 1, \"86\": 1, \"40\": 1}, \"47\": {\"125\": 1, \"47\": 7, \"15\": 1, \"6\": 2, \"25\": 1}, \"95\": {\"95\": 22, \"4\": 1, \"34\": 2, \"52\": 1, \"111\": 3, \"127\": 1, \"27\": 1, \"85\": 1}, \"54\": {\"25\": 1, \"54\": 15}, \"25\": {\"125\": 1, \"47\": 1, \"25\": 13, \"59\": 1}, \"116\": {\"116\": 13, \"84\": 1, \"69\": 2, \"92\": 1, \"66\": 1, \"90\": 2, \"44\": 2, \"5\": 3, \"93\": 1, \"122\": 1, \"108\": 1}, \"74\": {\"74\": 16}, \"35\": {\"102\": 1, \"35\": 5, \"16\": 1, \"78\": 2, \"117\": 1, \"81\": 1, \"123\": 1}, \"15\": {\"15\": 88, \"6\": 1, \"9\": 2, \"94\": 4, \"12\": 7, \"58\": 3, \"10\": 3, \"106\": 3, \"8\": 3, \"30\": 2, \"126\": 1, \"125\": 5, \"0\": 1, \"118\": 1, \"34\": 1, \"47\": 1, \"75\": 1, \"39\": 1}, \"108\": {\"108\": 22, \"5\": 6, \"110\": 4, \"88\": 4, \"44\": 4, \"109\": 2, \"72\": 3, \"126\": 2, \"39\": 1, \"93\": 5, \"122\": 2, \"14\": 3, \"94\": 1, \"33\": 5, \"118\": 2, \"107\": 4, \"36\": 1, \"18\": 1, \"11\": 3, \"24\": 1, \"69\": 1, \"84\": 1, \"59\": 1, \"116\": 1, \"63\": 1, \"60\": 3, \"73\": 1, \"3\": 1, \"102\": 3, \"43\": 2, \"16\": 1}, \"34\": {\"85\": 2, \"6\": 2, \"7\": 3, \"49\": 1, \"70\": 4, \"36\": 2, \"71\": 3, \"34\": 4, \"89\": 1, \"58\": 1, \"4\": 1, \"10\": 3, \"124\": 2, \"75\": 1, \"68\": 2}, \"81\": {\"81\": 31, \"113\": 2, \"117\": 1, \"39\": 1, \"44\": 1}, \"93\": {\"93\": 74, \"102\": 3, \"110\": 9, \"122\": 6, \"118\": 3, \"33\": 10, \"5\": 2, \"43\": 3, \"14\": 4, \"109\": 3, \"90\": 2, \"84\": 2, \"31\": 1, \"108\": 4, \"11\": 1, \"44\": 1}, \"55\": {\"55\": 14, \"127\": 2}, \"27\": {\"97\": 1, \"37\": 1, \"103\": 1, \"27\": 25, \"98\": 7, \"105\": 3, \"4\": 6, \"71\": 4, \"12\": 2, \"100\": 1, \"111\": 4, \"39\": 1, \"10\": 4, \"8\": 8, \"7\": 2, \"0\": 4, \"106\": 3, \"1\": 1, \"24\": 3, \"124\": 3, \"114\": 4, \"125\": 1, \"85\": 1, \"17\": 1, \"70\": 2, \"95\": 1, \"42\": 1, \"52\": 2, \"127\": 1, \"14\": 1, \"88\": 1}, \"109\": {\"109\": 64, \"90\": 14, \"99\": 1, \"44\": 3, \"118\": 5, \"26\": 1, \"69\": 6, \"16\": 2, \"43\": 1, \"84\": 1, \"108\": 3, \"122\": 2, \"102\": 3, \"39\": 1, \"110\": 2, \"93\": 1}, \"106\": {\"27\": 2, \"106\": 66, \"36\": 1, \"103\": 2, \"56\": 1, \"98\": 1, \"95\": 1, \"12\": 13, \"4\": 1, \"8\": 6, \"127\": 2, \"24\": 2, \"26\": 2, \"113\": 1, \"10\": 4, \"125\": 2, \"111\": 3, \"126\": 4, \"9\": 1, \"18\": 1}, \"68\": {\"77\": 2, \"91\": 2, \"68\": 10, \"127\": 1, \"121\": 1}, \"76\": {\"18\": 2, \"76\": 10, \"22\": 1, \"70\": 1, \"78\": 1, \"122\": 1}, \"103\": {\"103\": 11, \"10\": 1, \"121\": 1, \"46\": 1, \"111\": 1, \"114\": 1}, \"42\": {\"22\": 1, \"103\": 3, \"112\": 1, \"51\": 1, \"83\": 2, \"56\": 1, \"42\": 4, \"14\": 1, \"98\": 2, \"100\": 1, \"33\": 1, \"119\": 2, \"8\": 1, \"72\": 1, \"41\": 1, \"85\": 1, \"115\": 1, \"27\": 1, \"52\": 1, \"124\": 1}, \"129\": {\"70\": 1, \"129\": 4, \"71\": 1, \"32\": 1, \"33\": 2, \"118\": 1, \"14\": 2, \"37\": 2, \"122\": 1, \"72\": 1, \"85\": 2, \"5\": 1, \"93\": 2, \"90\": 1, \"17\": 1, \"41\": 1, \"60\": 2, \"4\": 2}, \"94\": {\"94\": 49, \"39\": 2, \"36\": 4, \"6\": 1, \"12\": 2, \"15\": 10, \"10\": 4, \"125\": 7, \"24\": 2, \"18\": 3, \"30\": 1, \"126\": 1, \"98\": 1, \"117\": 1}, \"123\": {\"123\": 14, \"18\": 2}, \"61\": {\"61\": 7, \"26\": 1, \"117\": 1, \"18\": 1, \"123\": 2, \"113\": 1, \"126\": 1, \"57\": 2}, \"51\": {\"39\": 1, \"51\": 1, \"25\": 1, \"117\": 1, \"121\": 2, \"36\": 2, \"72\": 1, \"58\": 1, \"63\": 1, \"21\": 1, \"9\": 1, \"30\": 1, \"47\": 2}, \"98\": {\"33\": 2, \"98\": 59, \"39\": 1, \"109\": 1, \"85\": 2, \"70\": 6, \"42\": 1, \"71\": 4, \"127\": 1, \"106\": 2, \"27\": 4, \"111\": 4, \"24\": 6, \"114\": 2, \"93\": 1, \"4\": 4, \"126\": 1, \"10\": 2, \"11\": 1, \"8\": 3, \"7\": 3, \"34\": 1, \"121\": 1, \"90\": 1, \"3\": 2, \"88\": 1, \"84\": 1, \"0\": 1}, \"56\": {\"56\": 5, \"53\": 1, \"4\": 3, \"37\": 3}, \"14\": {\"14\": 81, \"32\": 1, \"43\": 7, \"110\": 6, \"33\": 2, \"62\": 1, \"122\": 2, \"16\": 1, \"90\": 1, \"93\": 2, \"23\": 1, \"87\": 1, \"99\": 1, \"108\": 1, \"88\": 2, \"39\": 1, \"118\": 1}, \"90\": {\"90\": 110, \"102\": 3, \"80\": 1, \"96\": 3, \"69\": 4, \"109\": 7, \"84\": 6, \"18\": 1, \"66\": 1, \"38\": 1, \"122\": 1}, \"13\": {\"13\": 9, \"92\": 1, \"122\": 1, \"118\": 1, \"74\": 1, \"121\": 1, \"14\": 1, \"102\": 1}, \"89\": {\"89\": 26, \"7\": 2, \"105\": 1, \"15\": 1, \"71\": 1, \"37\": 1}, \"52\": {\"52\": 17, \"110\": 1, \"34\": 1, \"10\": 1}, \"72\": {\"14\": 3, \"119\": 1, \"33\": 1, \"72\": 17, \"40\": 2, \"105\": 1, \"118\": 2, \"5\": 1, \"114\": 1, \"32\": 2, \"99\": 1}, \"79\": {\"79\": 10, \"116\": 1, \"46\": 1, \"5\": 1, \"102\": 2, \"3\": 1}, \"113\": {\"113\": 75, \"117\": 14, \"126\": 12, \"26\": 3, \"2\": 2, \"90\": 2, \"16\": 8, \"24\": 1, \"109\": 1, \"69\": 2, \"84\": 2, \"39\": 2, \"93\": 1, \"18\": 1}}, \"Wisig_1\": {\"68\": {\"101\": 1, \"68\": 11, \"111\": 1, \"49\": 1, \"97\": 2}, \"7\": {\"7\": 109, \"104\": 3, \"122\": 1, \"126\": 3, \"87\": 3, \"44\": 3, \"43\": 4, \"84\": 9, \"8\": 1, \"114\": 2, \"124\": 2, \"108\": 1, \"40\": 1}, \"125\": {\"125\": 89, \"111\": 1, \"88\": 2, \"15\": 4, \"36\": 14, \"27\": 6, \"34\": 1, \"71\": 1}, \"111\": {\"111\": 76, \"12\": 1, \"27\": 3, \"116\": 1, \"98\": 7, \"15\": 3, \"71\": 2, \"106\": 7, \"94\": 1, \"88\": 3, \"125\": 3, \"110\": 1, \"36\": 1, \"97\": 1, \"127\": 5, \"93\": 1, \"101\": 2, \"24\": 2}, \"101\": {\"101\": 106, \"110\": 14, \"30\": 1, \"93\": 1, \"98\": 1, \"113\": 1}, \"11\": {\"11\": 84, \"81\": 2, \"100\": 1, \"33\": 13, \"20\": 1, \"69\": 2, \"116\": 2, \"102\": 9, \"82\": 3, \"14\": 1, \"90\": 1, \"109\": 2, \"62\": 3, \"67\": 2, \"42\": 1, \"2\": 1, \"99\": 1, \"18\": 1, \"118\": 2, \"3\": 3, \"26\": 1}, \"76\": {\"76\": 16}, \"5\": {\"5\": 66, \"40\": 2, \"17\": 1, \"70\": 1, \"117\": 1, \"9\": 3, \"108\": 3, \"4\": 2, \"8\": 1, \"29\": 1, \"105\": 2, \"47\": 2, \"34\": 1, \"86\": 1, \"39\": 1}, \"123\": {\"123\": 13, \"21\": 1, \"25\": 1, \"19\": 1}, \"85\": {\"85\": 27, \"92\": 1, \"32\": 1, \"0\": 1, \"10\": 2}, \"34\": {\"111\": 1, \"68\": 1, \"51\": 2, \"34\": 5, \"89\": 1, \"87\": 3, \"8\": 2, \"57\": 1, \"52\": 1, \"36\": 2, \"17\": 4, \"97\": 2, \"105\": 1, \"14\": 1, \"94\": 2, \"31\": 1, \"43\": 2}, \"42\": {\"7\": 1, \"42\": 7, \"22\": 1, \"40\": 2, \"11\": 1, \"38\": 1, \"18\": 1, \"69\": 1, \"9\": 1, \"116\": 1, \"87\": 1, \"100\": 1, \"5\": 3, \"86\": 1, \"8\": 1, \"33\": 2, \"44\": 1, \"114\": 1}, \"81\": {\"81\": 26, \"82\": 1, \"128\": 1}, \"127\": {\"101\": 5, \"127\": 82, \"56\": 1, \"12\": 4, \"94\": 1, \"110\": 7, \"71\": 3, \"36\": 1, \"53\": 1, \"27\": 2, \"88\": 1}, \"60\": {\"34\": 2, \"5\": 1, \"60\": 2, \"117\": 1, \"122\": 1, \"48\": 1, \"95\": 1, \"18\": 1, \"4\": 1, \"118\": 1, \"7\": 1, \"16\": 1, \"11\": 1, \"43\": 1}, \"77\": {\"77\": 10, \"68\": 1, \"91\": 1, \"70\": 1, \"97\": 1, \"49\": 1, \"29\": 1}, \"65\": {\"100\": 2, \"65\": 3, \"83\": 1, \"45\": 2, \"116\": 1, \"122\": 1, \"43\": 2}, \"44\": {\"44\": 53, \"86\": 1, \"84\": 4, \"70\": 1, \"126\": 2, \"74\": 1, \"21\": 1, \"114\": 2, \"40\": 1, \"87\": 2, \"105\": 2, \"128\": 2, \"14\": 1, \"122\": 1, \"7\": 2}, \"100\": {\"100\": 15, \"117\": 1}, \"80\": {\"21\": 1, \"80\": 15}, \"83\": {\"126\": 2, \"19\": 3, \"1\": 2, \"46\": 2, \"83\": 11, \"79\": 1, \"88\": 1, \"87\": 1, \"5\": 1, \"44\": 3, \"105\": 1}, \"51\": {\"51\": 10, \"59\": 3, \"94\": 2, \"127\": 1}, \"93\": {\"93\": 82, \"72\": 1, \"55\": 2, \"107\": 15, \"106\": 9, \"111\": 1, \"4\": 10, \"43\": 1, \"98\": 1, \"12\": 1, \"101\": 2, \"117\": 1, \"70\": 1, \"122\": 1, \"8\": 1, \"110\": 1, \"32\": 1, \"87\": 1, \"108\": 2}, \"31\": {\"31\": 10, \"34\": 1, \"23\": 3, \"87\": 1, \"47\": 1}, \"33\": {\"33\": 106, \"82\": 2, \"69\": 3, \"42\": 2, \"7\": 1, \"62\": 2, \"11\": 1, \"102\": 2, \"3\": 5, \"74\": 1, \"81\": 1}, \"113\": {\"113\": 119, \"16\": 2, \"117\": 2, \"18\": 1}, \"126\": {\"83\": 1, \"80\": 1, \"102\": 1, \"126\": 57, \"1\": 1, \"89\": 1, \"124\": 7, \"16\": 1, \"84\": 6, \"114\": 6, \"5\": 2, \"40\": 3, \"33\": 1, \"87\": 2, \"14\": 2, \"7\": 12, \"44\": 3, \"122\": 2, \"111\": 1, \"62\": 2, \"43\": 3, \"128\": 1, \"26\": 1, \"70\": 3, \"108\": 2, \"8\": 2}, \"10\": {\"10\": 70, \"40\": 3, \"34\": 1, \"85\": 2, \"37\": 1, \"75\": 2, \"32\": 4, \"93\": 7, \"87\": 1, \"84\": 1, \"101\": 8, \"0\": 4, \"4\": 8, \"8\": 2, \"110\": 1, \"43\": 1, \"70\": 1, \"108\": 1, \"127\": 2}, \"21\": {\"44\": 4, \"90\": 1, \"78\": 1, \"20\": 1, \"23\": 2, \"117\": 2, \"62\": 4, \"2\": 2, \"21\": 6, \"8\": 3, \"109\": 2, \"18\": 1, \"10\": 1, \"7\": 1, \"37\": 1, \"4\": 1, \"87\": 1, \"118\": 1, \"14\": 1, \"102\": 1, \"30\": 1, \"71\": 1, \"5\": 1}, \"90\": {\"90\": 110, \"120\": 1, \"64\": 1, \"109\": 10, \"62\": 5, \"113\": 1, \"61\": 2, \"11\": 1, \"3\": 1}, \"38\": {\"96\": 1, \"19\": 3, \"109\": 1, \"38\": 10, \"20\": 1}, \"96\": {\"38\": 1, \"96\": 10, \"115\": 1, \"64\": 2, \"20\": 1, \"124\": 1, \"109\": 1, \"99\": 1, \"129\": 1, \"44\": 1}, \"6\": {\"88\": 1, \"6\": 21, \"111\": 1, \"94\": 2, \"51\": 1, \"75\": 1, \"71\": 2, \"30\": 2, \"52\": 1}, \"121\": {\"113\": 4, \"121\": 18, \"117\": 1, \"18\": 1, \"26\": 3, \"95\": 4, \"118\": 1}, \"37\": {\"92\": 3, \"37\": 13}, \"88\": {\"94\": 7, \"88\": 46, \"52\": 1, \"93\": 1, \"127\": 3, \"125\": 16, \"91\": 1, \"36\": 9, \"108\": 4, \"15\": 8, \"98\": 4, \"24\": 5, \"27\": 5, \"12\": 2, \"111\": 4, \"106\": 5, \"9\": 1, \"70\": 1, \"71\": 2, \"101\": 1}, \"54\": {\"54\": 12, \"104\": 1, \"5\": 2, \"46\": 1}, \"92\": {\"37\": 1, \"92\": 27}, \"19\": {\"19\": 15, \"38\": 1, \"115\": 4, \"84\": 2, \"64\": 2, \"126\": 1, \"83\": 1, \"14\": 2}, \"47\": {\"47\": 9, \"114\": 1, \"9\": 1, \"108\": 1}, \"94\": {\"6\": 2, \"94\": 70, \"110\": 1, \"24\": 1, \"71\": 5, \"125\": 1, \"18\": 1, \"12\": 2, \"27\": 2, \"127\": 2, \"88\": 1, \"30\": 1, \"69\": 1, \"15\": 1, \"113\": 1}, \"66\": {\"66\": 12, \"22\": 2, \"109\": 1, \"99\": 1}, \"73\": {\"73\": 10, \"70\": 2, \"87\": 1, \"59\": 1, \"40\": 2, \"80\": 1, \"5\": 1, \"44\": 1, \"9\": 1}, \"75\": {\"75\": 13, \"10\": 1, \"85\": 2}, \"28\": {\"28\": 10, \"61\": 1, \"122\": 2, \"74\": 2, \"128\": 2, \"105\": 1, \"94\": 1, \"14\": 1}, \"20\": {\"20\": 15, \"129\": 1}, \"78\": {\"123\": 1, \"78\": 8, \"65\": 1, \"129\": 1, \"122\": 2, \"64\": 1, \"87\": 1, \"28\": 1}, \"71\": {\"71\": 49, \"24\": 2, \"12\": 8, \"30\": 1, \"26\": 1, \"101\": 3, \"27\": 2, \"111\": 5, \"88\": 3, \"94\": 7, \"15\": 6, \"110\": 2, \"98\": 2, \"127\": 4, \"117\": 1, \"32\": 1, \"91\": 1, \"39\": 1, \"93\": 1, \"125\": 3, \"106\": 1}, \"13\": {\"39\": 1, \"13\": 11, \"16\": 2, \"26\": 1, \"117\": 1}, \"118\": {\"118\": 51, \"18\": 5, \"26\": 10, \"2\": 2, \"117\": 4, \"39\": 7, \"16\": 3, \"11\": 1, \"69\": 1}, \"72\": {\"8\": 1, \"72\": 19, \"6\": 1, \"107\": 3, \"4\": 4, \"29\": 1, \"97\": 1, \"111\": 1, \"24\": 1}, \"24\": {\"24\": 39, \"70\": 4, \"47\": 1, \"98\": 6, \"53\": 4, \"27\": 5, \"88\": 5, \"71\": 3, \"113\": 1, \"107\": 1, \"111\": 3, \"4\": 1, \"15\": 5, \"40\": 1, \"108\": 4, \"18\": 1, \"45\": 1, \"23\": 1, \"52\": 2, \"86\": 1, \"9\": 1, \"5\": 1, \"12\": 1}, \"41\": {\"41\": 12, \"23\": 2, \"108\": 2}, \"102\": {\"102\": 96, \"60\": 1, \"100\": 1, \"11\": 1, \"116\": 3, \"33\": 4, \"69\": 5, \"3\": 2, \"109\": 2, \"42\": 2, \"62\": 2, \"27\": 1}, \"8\": {\"123\": 1, \"21\": 2, \"87\": 3, \"8\": 92, \"35\": 1, \"40\": 10, \"77\": 1, \"23\": 1, \"128\": 1, \"89\": 1, \"84\": 4, \"70\": 5, \"108\": 5, \"105\": 1, \"41\": 1, \"34\": 1, \"7\": 1, \"5\": 1, \"93\": 1, \"43\": 5}, \"39\": {\"39\": 43, \"102\": 3, \"21\": 5, \"18\": 9, \"69\": 3, \"26\": 3, \"118\": 5, \"16\": 9, \"33\": 2, \"11\": 1, \"117\": 10, \"88\": 1, \"109\": 1, \"12\": 1}, \"97\": {\"29\": 1, \"53\": 1, \"68\": 3, \"32\": 1, \"97\": 9, \"106\": 1, \"125\": 1, \"98\": 1, \"117\": 1, \"111\": 1}, \"48\": {\"48\": 11, \"105\": 1}, \"57\": {\"57\": 12}, \"29\": {\"29\": 26, \"89\": 1, \"17\": 1}, \"119\": {\"119\": 16}, \"89\": {\"108\": 2, \"89\": 15, \"31\": 1, \"40\": 1, \"17\": 3, \"29\": 1, \"9\": 6, \"24\": 1, \"54\": 1, \"128\": 1, \"68\": 1, \"5\": 2, \"73\": 1}, \"40\": {\"42\": 1, \"40\": 104, \"73\": 2, \"5\": 3, \"87\": 2, \"29\": 1, \"105\": 4, \"4\": 3, \"114\": 4, \"84\": 1, \"126\": 1, \"8\": 6, \"72\": 1, \"122\": 1, \"108\": 5, \"70\": 1}, \"22\": {\"97\": 1, \"80\": 1, \"22\": 10, \"90\": 1, \"38\": 1, \"120\": 1, \"1\": 1}, \"53\": {\"53\": 11, \"97\": 1, \"27\": 2, \"91\": 2, \"12\": 1, \"98\": 3}, \"108\": {\"42\": 1, \"29\": 1, \"108\": 48, \"89\": 2, \"17\": 2, \"107\": 4, \"70\": 8, \"5\": 6, \"72\": 1, \"40\": 3, \"105\": 2, \"84\": 1, \"4\": 7, \"98\": 4, \"14\": 1, \"87\": 1, \"44\": 1, \"43\": 2, \"114\": 3, \"71\": 1, \"126\": 3, \"124\": 1, \"86\": 2, \"41\": 1, \"9\": 2, \"97\": 1, \"96\": 1, \"106\": 2, \"7\": 2, \"24\": 2, \"111\": 1, \"12\": 2, \"15\": 1, \"8\": 3, \"90\": 1}, \"23\": {\"23\": 1, \"42\": 1, \"95\": 1, \"120\": 1, \"52\": 1, \"35\": 1, \"82\": 1, \"106\": 1, \"81\": 2, \"55\": 2, \"30\": 1, \"64\": 1, \"11\": 1, \"109\": 1, \"33\": 1, \"41\": 1, \"50\": 1, \"29\": 1, \"108\": 1, \"91\": 1, \"34\": 2}, \"109\": {\"109\": 47, \"28\": 1, \"20\": 1, \"39\": 1, \"99\": 1, \"50\": 2, \"96\": 1, \"102\": 4, \"33\": 2, \"3\": 6, \"11\": 5, \"64\": 1, \"90\": 10, \"18\": 1, \"14\": 2, \"7\": 6, \"69\": 2, \"1\": 2, \"62\": 6, \"126\": 2, \"114\": 3, \"81\": 3, \"67\": 1, \"104\": 1, \"60\": 1, \"124\": 1, \"70\": 2, \"84\": 1}, \"112\": {\"112\": 9, \"12\": 1, \"6\": 1, \"30\": 1, \"32\": 1, \"71\": 2, \"91\": 1}, \"35\": {\"41\": 1, \"23\": 1, \"35\": 8, \"93\": 1, \"4\": 1}, \"3\": {\"3\": 63, \"11\": 2, \"96\": 1, \"20\": 1, \"50\": 1, \"82\": 1, \"116\": 1, \"33\": 2, \"69\": 2, \"125\": 2, \"62\": 3, \"67\": 1, \"60\": 1, \"129\": 2, \"102\": 3, \"71\": 1, \"12\": 1}, \"103\": {\"103\": 12, \"15\": 1, \"111\": 1, \"105\": 1, \"58\": 1}, \"4\": {\"4\": 66, \"31\": 1, \"107\": 14, \"93\": 8, \"40\": 2, \"24\": 1, \"117\": 1, \"123\": 1, \"72\": 3, \"35\": 1, \"105\": 1, \"108\": 1}, \"87\": {\"28\": 3, \"78\": 1, \"87\": 37, \"23\": 1, \"84\": 11, \"8\": 7, \"40\": 1, \"5\": 2, \"48\": 2, \"86\": 1, \"4\": 2, \"44\": 1, \"43\": 7, \"16\": 1, \"7\": 3, \"114\": 4, \"105\": 9, \"122\": 5, \"14\": 1, \"93\": 1, \"124\": 2, \"96\": 2, \"70\": 3, \"107\": 1}, \"25\": {\"95\": 1, \"100\": 2, \"25\": 8, \"99\": 2, \"82\": 2, \"113\": 1}, \"15\": {\"15\": 69, \"127\": 3, \"32\": 1, \"88\": 2, \"94\": 1, \"98\": 1, \"36\": 4, \"113\": 1, \"111\": 1, \"110\": 1, \"12\": 3, \"27\": 5, \"101\": 1, \"112\": 1, \"53\": 1, \"71\": 3, \"121\": 1, \"125\": 3, \"117\": 1, \"0\": 1}, \"95\": {\"95\": 20, \"39\": 2, \"18\": 4, \"117\": 3, \"26\": 2, \"16\": 3, \"119\": 1, \"11\": 1}, \"120\": {\"120\": 13, \"129\": 1, \"62\": 4, \"123\": 1, \"121\": 1}, \"59\": {\"52\": 2, \"59\": 6, \"36\": 2, \"118\": 1, \"91\": 1}, \"49\": {\"49\": 2, \"35\": 1, \"9\": 4, \"5\": 1, \"90\": 1, \"70\": 1, \"98\": 1, \"87\": 1, \"8\": 1, \"112\": 1, \"103\": 2, \"34\": 1, \"94\": 1, \"52\": 1, \"7\": 1}, \"52\": {\"52\": 15, \"59\": 1, \"91\": 1, \"109\": 1, \"58\": 1, \"120\": 1}, \"45\": {\"78\": 1, \"22\": 1, \"1\": 1, \"14\": 1, \"41\": 1, \"92\": 1, \"45\": 1, \"82\": 1, \"80\": 2, \"122\": 1, \"33\": 1}, \"107\": {\"107\": 102, \"34\": 3, \"41\": 1, \"72\": 1, \"93\": 3, \"4\": 2, \"91\": 1, \"98\": 3, \"24\": 1, \"106\": 2, \"29\": 2, \"55\": 1, \"97\": 1, \"43\": 1}, \"106\": {\"106\": 93, \"95\": 1, \"12\": 3, \"108\": 1, \"98\": 10, \"88\": 5, \"111\": 7, \"110\": 3, \"107\": 2, \"71\": 1, \"29\": 1, \"93\": 2, \"34\": 1, \"89\": 1, \"49\": 1, \"24\": 2}, \"18\": {\"14\": 1, \"18\": 96, \"16\": 4, \"39\": 3, \"118\": 3, \"26\": 5, \"117\": 9, \"102\": 1, \"2\": 1, \"21\": 1}, \"64\": {\"64\": 16}, \"86\": {\"86\": 20, \"29\": 1, \"24\": 2, \"72\": 2, \"105\": 3, \"70\": 1, \"46\": 1, \"9\": 1, \"4\": 1, \"128\": 1, \"108\": 1, \"44\": 1, \"73\": 1}, \"14\": {\"64\": 3, \"14\": 84, \"80\": 1, \"84\": 2, \"70\": 1, \"43\": 1, \"19\": 1, \"129\": 2, \"122\": 1}, \"115\": {\"115\": 9, \"44\": 1, \"19\": 1, \"96\": 1}, \"0\": {\"0\": 66, \"101\": 7, \"10\": 3, \"32\": 1, \"91\": 1, \"110\": 2, \"85\": 2, \"11\": 1, \"12\": 1}, \"104\": {\"8\": 1, \"104\": 9, \"128\": 1, \"87\": 1, \"115\": 2, \"7\": 2}, \"61\": {\"61\": 3, \"81\": 1, \"50\": 1, \"60\": 1, \"109\": 2, \"33\": 2, \"90\": 1, \"129\": 1}, \"129\": {\"67\": 4, \"8\": 1, \"28\": 1, \"117\": 1, \"129\": 5, \"87\": 2, \"5\": 1, \"62\": 1, \"73\": 1, \"120\": 1, \"18\": 2, \"99\": 1, \"7\": 1, \"3\": 2, \"60\": 1, \"44\": 1, \"26\": 1, \"114\": 1}, \"122\": {\"122\": 50, \"70\": 1, \"44\": 1, \"14\": 12, \"43\": 6, \"84\": 4, \"1\": 1, \"114\": 5, \"117\": 1, \"64\": 2, \"115\": 1, \"39\": 1, \"105\": 1, \"8\": 1, \"109\": 1}, \"67\": {\"67\": 13, \"62\": 2, \"3\": 1}, \"128\": {\"104\": 2, \"107\": 3, \"93\": 1, \"20\": 1, \"41\": 1, \"129\": 1, \"128\": 3, \"72\": 2, \"86\": 2, \"99\": 1, \"66\": 1, \"81\": 3, \"49\": 1, \"77\": 1, \"96\": 1}, \"26\": {\"117\": 11, \"26\": 102, \"118\": 4, \"11\": 1, \"113\": 1, \"39\": 1, \"18\": 5, \"16\": 6, \"63\": 1, \"121\": 1, \"100\": 1}, \"117\": {\"117\": 104, \"26\": 14, \"63\": 1, \"18\": 7, \"69\": 1, \"11\": 1, \"95\": 1, \"118\": 1, \"16\": 3, \"39\": 3}, \"91\": {\"12\": 2, \"91\": 18, \"72\": 1, \"110\": 2, \"53\": 1, \"32\": 1, \"71\": 1, \"68\": 1, \"108\": 1}, \"12\": {\"12\": 52, \"6\": 1, \"53\": 3, \"30\": 4, \"56\": 1, \"127\": 10, \"15\": 2, \"98\": 3, \"71\": 4, \"101\": 2, \"111\": 4, \"18\": 1, \"94\": 4, \"69\": 1, \"118\": 1, \"27\": 1, \"112\": 2, \"52\": 2, \"110\": 2, \"33\": 1, \"24\": 2, \"117\": 1}, \"50\": {\"50\": 12, \"62\": 3, \"20\": 1}, \"99\": {\"99\": 18, \"25\": 1, \"33\": 1, \"82\": 3, \"20\": 1}, \"110\": {\"101\": 10, \"110\": 86, \"91\": 1, \"127\": 4, \"0\": 1, \"106\": 2}, \"43\": {\"43\": 49, \"87\": 11, \"84\": 18, \"14\": 5, \"8\": 5, \"70\": 1, \"36\": 1, \"114\": 2, \"40\": 3, \"122\": 6, \"62\": 2, \"125\": 1, \"126\": 2, \"90\": 1, \"120\": 1, \"124\": 1, \"24\": 1, \"15\": 1, \"44\": 1, \"108\": 1, \"7\": 3}, \"82\": {\"82\": 24, \"11\": 2, \"3\": 4, \"33\": 4, \"61\": 1, \"66\": 1}, \"1\": {\"1\": 74, \"129\": 1, \"126\": 4, \"114\": 8, \"124\": 3, \"14\": 1, \"81\": 1, \"83\": 1, \"109\": 2, \"106\": 1}, \"46\": {\"6\": 1, \"1\": 1, \"99\": 1, \"46\": 2, \"38\": 1, \"127\": 1, \"80\": 1, \"54\": 1, \"56\": 1, \"126\": 1, \"12\": 1}, \"16\": {\"16\": 73, \"39\": 1, \"117\": 8, \"118\": 1, \"2\": 2, \"21\": 1, \"26\": 14, \"113\": 1, \"102\": 1, \"13\": 2, \"95\": 2, \"69\": 1, \"14\": 1}, \"74\": {\"28\": 1, \"74\": 11, \"14\": 2, \"87\": 1, \"122\": 1}, \"32\": {\"32\": 16, \"107\": 1, \"127\": 3, \"91\": 1, \"93\": 1, \"101\": 2, \"71\": 1, \"51\": 2, \"110\": 1, \"4\": 1, \"30\": 2, \"49\": 1}, \"62\": {\"62\": 115, \"33\": 2, \"11\": 1, \"50\": 1, \"94\": 1}, \"27\": {\"27\": 38, \"56\": 2, \"36\": 5, \"112\": 2, \"91\": 1, \"12\": 4, \"111\": 5, \"94\": 4, \"88\": 11, \"30\": 1, \"15\": 5, \"106\": 1, \"68\": 1, \"125\": 9, \"127\": 1, \"102\": 1, \"21\": 1}, \"17\": {\"17\": 9, \"108\": 1, \"34\": 1, \"29\": 2, \"128\": 1, \"86\": 1, \"89\": 1}, \"36\": {\"36\": 107, \"94\": 1, \"15\": 5, \"125\": 11, \"71\": 2, \"27\": 3, \"26\": 1, \"88\": 3, \"111\": 1}, \"2\": {\"18\": 2, \"66\": 1, \"129\": 1, \"2\": 2, \"118\": 2, \"69\": 1, \"16\": 7, \"11\": 3, \"102\": 2, \"82\": 2, \"64\": 1, \"117\": 3, \"26\": 3, \"81\": 1, \"39\": 1}, \"70\": {\"29\": 1, \"109\": 3, \"128\": 1, \"107\": 6, \"70\": 30, \"44\": 4, \"72\": 2, \"86\": 4, \"84\": 3, \"102\": 1, \"4\": 7, \"62\": 3, \"14\": 2, \"108\": 11, \"19\": 1, \"82\": 1, \"43\": 2, \"40\": 4, \"93\": 3, \"106\": 5, \"8\": 7, \"33\": 2, \"122\": 1, \"87\": 2, \"98\": 2, \"111\": 1, \"5\": 4, \"126\": 3, \"124\": 2, \"78\": 1, \"68\": 1, \"89\": 1, \"15\": 1, \"114\": 1, \"7\": 3, \"88\": 1, \"18\": 1}, \"9\": {\"9\": 25, \"89\": 3, \"8\": 1, \"86\": 3}, \"114\": {\"87\": 1, \"84\": 9, \"124\": 12, \"114\": 93, \"1\": 2, \"126\": 7, \"8\": 1, \"70\": 1, \"7\": 1, \"115\": 1, \"83\": 1, \"3\": 1}, \"79\": {\"79\": 8, \"1\": 2, \"114\": 2}, \"56\": {\"56\": 7, \"12\": 1, \"15\": 1, \"32\": 1, \"112\": 1, \"110\": 1}, \"124\": {\"124\": 62, \"128\": 1, \"114\": 13, \"70\": 1, \"126\": 9, \"1\": 3, \"14\": 1, \"7\": 3, \"78\": 1, \"108\": 2, \"105\": 1, \"43\": 1, \"122\": 1, \"40\": 1, \"84\": 1, \"109\": 1}, \"84\": {\"87\": 7, \"84\": 93, \"73\": 1, \"19\": 1, \"4\": 1, \"114\": 6, \"8\": 4, \"7\": 3, \"43\": 5, \"40\": 1, \"122\": 2, \"126\": 1, \"124\": 1, \"74\": 1, \"23\": 1, \"14\": 4, \"105\": 2}, \"69\": {\"69\": 90, \"16\": 1, \"11\": 1, \"102\": 10, \"33\": 1, \"39\": 2, \"62\": 1, \"118\": 1, \"109\": 1}, \"58\": {\"37\": 2, \"58\": 7, \"111\": 1, \"112\": 2}, \"30\": {\"112\": 2, \"30\": 33, \"111\": 2, \"12\": 3, \"71\": 2, \"127\": 2, \"0\": 1, \"58\": 2, \"15\": 1, \"110\": 2, \"34\": 1, \"6\": 1}, \"55\": {\"55\": 9, \"93\": 2, \"41\": 1}, \"105\": {\"105\": 57, \"48\": 1, \"89\": 1, \"40\": 4, \"4\": 1, \"87\": 1, \"43\": 2, \"84\": 2, \"93\": 2, \"108\": 2, \"74\": 1, \"8\": 4, \"5\": 1, \"77\": 1, \"46\": 1, \"129\": 2, \"122\": 1}, \"63\": {\"63\": 11, \"18\": 3, \"118\": 1, \"26\": 1}, \"98\": {\"29\": 2, \"106\": 6, \"98\": 56, \"127\": 3, \"12\": 2, \"24\": 4, \"49\": 1, \"107\": 5, \"111\": 4, \"15\": 2, \"105\": 1, \"4\": 2, \"88\": 5, \"125\": 1, \"71\": 3, \"94\": 1, \"103\": 2, \"97\": 1, \"68\": 1, \"93\": 2, \"59\": 1, \"101\": 2, \"27\": 1}, \"116\": {\"116\": 17, \"69\": 2, \"11\": 1, \"102\": 4, \"33\": 1, \"100\": 1, \"67\": 1, \"39\": 1, \"3\": 4}}, \"Wisig_3\": {\"76\": {\"90\": 2, \"76\": 13, \"120\": 1}, \"6\": {\"94\": 2, \"58\": 2, \"6\": 21, \"75\": 2, \"72\": 1, \"101\": 2, \"0\": 1, \"69\": 1}, \"108\": {\"46\": 3, \"124\": 9, \"99\": 1, \"108\": 48, \"71\": 2, \"24\": 1, \"5\": 3, \"98\": 4, \"3\": 6, \"88\": 1, \"70\": 4, \"105\": 4, \"40\": 1, \"4\": 3, \"8\": 3, \"114\": 3, \"107\": 1, \"17\": 1, \"110\": 2, \"60\": 1, \"42\": 1, \"128\": 2, \"1\": 1, \"127\": 1}, \"29\": {\"29\": 21, \"100\": 1, \"76\": 1, \"44\": 3, \"27\": 1, \"107\": 1, \"40\": 1, \"31\": 1, \"84\": 1, \"14\": 1}, \"83\": {\"83\": 19, \"124\": 2, \"5\": 1, \"46\": 1, \"112\": 1}, \"18\": {\"18\": 119, \"26\": 1, \"117\": 2, \"67\": 2, \"81\": 2, \"21\": 1, \"93\": 1}, \"54\": {\"94\": 1, \"54\": 15}, \"15\": {\"15\": 71, \"97\": 1, \"101\": 2, \"125\": 4, \"30\": 4, \"36\": 6, \"127\": 1, \"12\": 4, \"98\": 1, \"6\": 1, \"94\": 1, \"106\": 4, \"8\": 1, \"7\": 1, \"111\": 2}, \"100\": {\"100\": 14, \"87\": 1, \"44\": 1}, \"90\": {\"90\": 96, \"45\": 2, \"29\": 1, \"86\": 1, \"87\": 4, \"62\": 5, \"88\": 2, \"33\": 1, \"84\": 11, \"107\": 3, \"116\": 1, \"11\": 1, \"92\": 2, \"18\": 1, \"14\": 2, \"93\": 3}, \"26\": {\"26\": 112, \"96\": 3, \"39\": 3, \"18\": 1, \"113\": 3, \"93\": 1, \"11\": 1, \"126\": 1, \"117\": 5, \"43\": 2}, \"115\": {\"100\": 1, \"115\": 6, \"28\": 2, \"87\": 2, \"90\": 1, \"14\": 1, \"84\": 2, \"122\": 1}, \"94\": {\"15\": 4, \"94\": 74, \"0\": 2, \"30\": 2, \"6\": 1, \"44\": 1}, \"46\": {\"108\": 1, \"46\": 12, \"91\": 1, \"34\": 1, \"9\": 1}, \"121\": {\"121\": 21, \"63\": 1, \"113\": 3, \"21\": 1, \"39\": 2, \"117\": 3, \"2\": 1}, \"109\": {\"76\": 2, \"109\": 74, \"11\": 4, \"40\": 1, \"31\": 1, \"82\": 1, \"16\": 8, \"69\": 3, \"33\": 2, \"118\": 7, \"43\": 2, \"102\": 4, \"117\": 1, \"113\": 2, \"90\": 2, \"93\": 6, \"21\": 1, \"64\": 1, \"44\": 1, \"14\": 2, \"88\": 1, \"62\": 2}, \"101\": {\"101\": 39, \"0\": 4, \"125\": 1, \"111\": 2, \"37\": 2, \"30\": 2, \"94\": 2}, \"99\": {\"99\": 32, \"46\": 1, \"3\": 2, \"128\": 1}, \"8\": {\"8\": 69, \"99\": 2, \"98\": 16, \"34\": 1, \"4\": 3, \"30\": 2, \"127\": 8, \"12\": 2, \"26\": 1, \"111\": 3, \"124\": 5, \"41\": 1, \"27\": 4, \"51\": 1, \"77\": 1, \"52\": 2, \"36\": 1, \"117\": 1, \"108\": 1, \"3\": 2, \"15\": 1, \"0\": 1}, \"102\": {\"102\": 83, \"93\": 6, \"69\": 3, \"118\": 3, \"16\": 3, \"82\": 2, \"43\": 2, \"109\": 2}, \"122\": {\"123\": 1, \"122\": 31, \"90\": 1, \"40\": 5, \"38\": 1, \"88\": 4, \"105\": 1, \"129\": 3, \"1\": 1, \"26\": 1, \"114\": 1, \"110\": 2, \"22\": 1, \"19\": 3, \"126\": 1, \"107\": 1, \"23\": 1, \"62\": 1}, \"36\": {\"54\": 1, \"36\": 75, \"73\": 2, \"27\": 6, \"106\": 8, \"98\": 1, \"15\": 4, \"125\": 5, \"12\": 3, \"30\": 1, \"124\": 1, \"24\": 1, \"8\": 3, \"0\": 1, \"127\": 4}, \"113\": {\"123\": 1, \"113\": 88, \"121\": 1, \"117\": 9, \"26\": 7, \"16\": 1, \"11\": 2, \"126\": 1, \"118\": 2, \"96\": 2, \"39\": 4, \"102\": 1, \"109\": 1}, \"123\": {\"123\": 11, \"18\": 3, \"63\": 2}, \"120\": {\"120\": 20}, \"125\": {\"125\": 80, \"27\": 4, \"106\": 8, \"36\": 6, \"94\": 2, \"15\": 3, \"59\": 1, \"111\": 1, \"88\": 1, \"73\": 1, \"24\": 1}, \"89\": {\"89\": 20, \"43\": 1, \"33\": 1, \"30\": 1, \"102\": 2, \"69\": 1, \"92\": 2}, \"9\": {\"9\": 27, \"99\": 1, \"3\": 2, \"66\": 1, \"7\": 1}, \"31\": {\"31\": 13, \"102\": 1, \"14\": 1, \"69\": 2, \"76\": 1, \"116\": 2}, \"62\": {\"62\": 97, \"107\": 4, \"90\": 4, \"14\": 5, \"84\": 2, \"126\": 1, \"113\": 1}, \"49\": {\"29\": 1, \"127\": 1, \"14\": 1, \"48\": 1, \"60\": 2, \"84\": 3, \"1\": 1, \"77\": 1, \"40\": 3, \"80\": 2, \"44\": 1, \"91\": 1, \"70\": 1, \"58\": 1, \"42\": 1, \"6\": 2, \"87\": 1}, \"23\": {\"18\": 2, \"128\": 1, \"23\": 5, \"70\": 1, \"52\": 1, \"99\": 2, \"26\": 1, \"98\": 2, \"39\": 1, \"8\": 2, \"86\": 1, \"117\": 1, \"108\": 1, \"2\": 2, \"69\": 3, \"121\": 1, \"126\": 1, \"89\": 1, \"111\": 1, \"21\": 2}, \"55\": {\"55\": 16}, \"128\": {\"127\": 5, \"28\": 1, \"74\": 1, \"128\": 9, \"0\": 2, \"122\": 2, \"124\": 1, \"114\": 1, \"4\": 1, \"7\": 3, \"41\": 1, \"1\": 1, \"5\": 1, \"60\": 1, \"110\": 2}, \"71\": {\"71\": 46, \"3\": 2, \"104\": 1, \"124\": 3, \"108\": 4, \"8\": 1, \"17\": 1, \"98\": 2, \"26\": 1, \"4\": 2, \"110\": 1, \"5\": 1, \"105\": 3}, \"51\": {\"51\": 15, \"0\": 1}, \"7\": {\"7\": 100, \"91\": 2, \"127\": 4}, \"117\": {\"117\": 73, \"43\": 1, \"21\": 3, \"39\": 12, \"26\": 8, \"113\": 6, \"126\": 1}, \"28\": {\"28\": 11, \"87\": 1, \"32\": 2, \"50\": 1, \"70\": 1}, \"127\": {\"128\": 2, \"127\": 106, \"9\": 2, \"12\": 1, \"8\": 10, \"111\": 3, \"55\": 1, \"30\": 1, \"17\": 1, \"98\": 1}, \"57\": {\"57\": 17, \"99\": 1, \"55\": 1, \"7\": 1}, \"78\": {\"78\": 4, \"28\": 1, \"84\": 2, \"22\": 1, \"110\": 1, \"92\": 2, \"54\": 1, \"40\": 1, \"121\": 1, \"61\": 1, \"31\": 1}, \"87\": {\"84\": 9, \"90\": 7, \"87\": 62, \"115\": 3, \"48\": 1, \"107\": 10, \"44\": 5, \"1\": 3, \"62\": 3, \"40\": 4, \"14\": 3, \"109\": 3, \"78\": 1, \"129\": 1, \"88\": 2, \"60\": 1, \"114\": 1, \"117\": 1}, \"40\": {\"40\": 86, \"32\": 1, \"62\": 1, \"43\": 1, \"107\": 8, \"87\": 8, \"1\": 7, \"114\": 2, \"38\": 1, \"92\": 1, \"100\": 1, \"122\": 4, \"110\": 2, \"29\": 1, \"88\": 2, \"129\": 1, \"16\": 1}, \"81\": {\"81\": 31, \"18\": 1}, \"2\": {\"96\": 2, \"2\": 20, \"43\": 1, \"67\": 1, \"113\": 1, \"118\": 1, \"39\": 2}, \"58\": {\"58\": 11, \"6\": 1, \"0\": 2, \"101\": 2}, \"68\": {\"68\": 8, \"77\": 2, \"91\": 3, \"2\": 1, \"51\": 1, \"72\": 1}, \"20\": {\"20\": 10, \"129\": 1, \"33\": 1, \"29\": 1, \"79\": 1, \"125\": 1, \"76\": 1}, \"35\": {\"35\": 8, \"65\": 1, \"91\": 1, \"0\": 2}, \"96\": {\"96\": 11, \"93\": 1, \"118\": 1, \"26\": 2, \"16\": 1, \"63\": 1, \"102\": 1, \"116\": 1, \"43\": 1}, \"84\": {\"87\": 3, \"84\": 82, \"14\": 4, \"107\": 5, \"62\": 3, \"90\": 7, \"31\": 1, \"45\": 1, \"44\": 2}, \"13\": {\"118\": 1, \"13\": 8, \"62\": 1, \"80\": 1, \"64\": 1, \"26\": 2, \"23\": 1, \"81\": 1}, \"64\": {\"64\": 19, \"102\": 1}, \"112\": {\"112\": 7, \"42\": 2, \"47\": 1, \"111\": 1, \"52\": 1, \"83\": 1, \"94\": 1, \"124\": 1, \"108\": 1}, \"103\": {\"5\": 3, \"103\": 8, \"42\": 1, \"105\": 3, \"99\": 1}, \"65\": {\"65\": 11, \"63\": 1}, \"118\": {\"64\": 2, \"13\": 1, \"118\": 48, \"11\": 1, \"109\": 10, \"69\": 3, \"92\": 1, \"102\": 8, \"26\": 6, \"113\": 2, \"90\": 2, \"117\": 1, \"93\": 3, \"89\": 4, \"82\": 1, \"88\": 1, \"39\": 1, \"43\": 2, \"33\": 1, \"16\": 2}, \"88\": {\"93\": 5, \"5\": 5, \"88\": 18, \"118\": 4, \"14\": 2, \"68\": 1, \"76\": 1, \"38\": 1, \"109\": 12, \"11\": 5, \"87\": 1, \"39\": 1, \"1\": 8, \"110\": 2, \"108\": 2, \"102\": 3, \"18\": 1, \"114\": 12, \"44\": 3, \"16\": 2, \"105\": 3, \"113\": 2, \"36\": 2, \"120\": 2, \"13\": 1, \"47\": 1, \"41\": 1, \"122\": 2, \"116\": 1, \"33\": 1, \"71\": 1, \"85\": 1, \"3\": 2, \"107\": 1, \"90\": 1, \"106\": 1}, \"85\": {\"85\": 31, \"108\": 2, \"49\": 1, \"19\": 1, \"124\": 1}, \"5\": {\"5\": 83, \"91\": 1, \"124\": 4, \"114\": 3, \"3\": 4, \"126\": 2, \"8\": 3, \"105\": 8, \"98\": 1, \"18\": 1, \"46\": 1, \"110\": 1}, \"93\": {\"118\": 4, \"93\": 89, \"120\": 1, \"116\": 2, \"82\": 3, \"62\": 1, \"92\": 3, \"84\": 1, \"33\": 6, \"90\": 5, \"11\": 3, \"109\": 6, \"16\": 5, \"102\": 7, \"88\": 2}, \"43\": {\"2\": 1, \"43\": 23, \"63\": 1, \"62\": 1, \"109\": 2, \"31\": 1, \"82\": 2, \"89\": 3, \"88\": 1, \"26\": 3, \"14\": 2, \"93\": 3, \"90\": 2, \"64\": 1, \"13\": 1, \"81\": 2, \"118\": 2, \"102\": 3, \"16\": 2}, \"67\": {\"67\": 15, \"43\": 1}, \"48\": {\"2\": 2, \"82\": 1, \"77\": 1, \"37\": 2, \"53\": 1, \"7\": 2, \"67\": 1, \"34\": 1, \"119\": 2, \"51\": 2, \"102\": 1}, \"73\": {\"73\": 21, \"51\": 2, \"92\": 1, \"30\": 2, \"125\": 4, \"36\": 2, \"106\": 2, \"24\": 1, \"98\": 2, \"127\": 2, \"90\": 1}, \"34\": {\"28\": 1, \"34\": 3, \"37\": 1, \"23\": 1, \"107\": 1, \"95\": 1, \"91\": 1, \"122\": 1, \"97\": 1, \"6\": 2, \"84\": 1, \"111\": 2, \"90\": 1, \"19\": 1, \"50\": 1, \"30\": 2, \"100\": 1, \"68\": 1, \"51\": 1, \"54\": 2, \"77\": 1, \"29\": 1, \"0\": 2, \"106\": 1, \"38\": 1}, \"91\": {\"10\": 1, \"91\": 7, \"51\": 1, \"68\": 2, \"72\": 2, \"95\": 2, \"101\": 3, \"111\": 2, \"87\": 1, \"8\": 1, \"23\": 1, \"98\": 1}, \"105\": {\"105\": 99, \"110\": 2, \"22\": 1, \"41\": 2, \"70\": 2, \"5\": 3, \"3\": 1, \"4\": 9, \"108\": 3, \"19\": 1, \"128\": 1}, \"10\": {\"10\": 65, \"91\": 1, \"4\": 7, \"37\": 2, \"30\": 3, \"95\": 2, \"75\": 1, \"108\": 1, \"122\": 1, \"7\": 6, \"3\": 2, \"0\": 4, \"127\": 2, \"105\": 3, \"101\": 1, \"23\": 1, \"106\": 1, \"5\": 1, \"98\": 1, \"39\": 1}, \"61\": {\"61\": 13, \"81\": 1, \"117\": 1, \"18\": 1}, \"74\": {\"74\": 15, \"100\": 1}, \"4\": {\"4\": 52, \"9\": 2, \"49\": 1, \"71\": 2, \"127\": 1, \"105\": 13, \"3\": 12, \"94\": 1, \"70\": 2, \"108\": 3, \"8\": 2, \"55\": 1, \"66\": 1, \"124\": 1, \"113\": 1, \"98\": 1}, \"37\": {\"37\": 15, \"95\": 1}, \"19\": {\"19\": 13, \"103\": 1, \"66\": 1, \"14\": 3, \"124\": 1, \"129\": 1, \"40\": 3, \"49\": 1, \"77\": 1, \"60\": 1, \"122\": 1, \"9\": 1, \"32\": 1, \"28\": 2, \"128\": 1}, \"44\": {\"44\": 34, \"53\": 1, \"14\": 2, \"62\": 1, \"87\": 6, \"60\": 1, \"8\": 1, \"100\": 1, \"1\": 1, \"29\": 2, \"109\": 1, \"84\": 6, \"88\": 1, \"69\": 1, \"90\": 1, \"11\": 1, \"115\": 3, \"40\": 1, \"129\": 2, \"107\": 2, \"117\": 2, \"93\": 1}, \"52\": {\"52\": 14, \"97\": 1, \"42\": 1}, \"92\": {\"92\": 26, \"118\": 1, \"93\": 1, \"120\": 2, \"11\": 2}, \"33\": {\"11\": 1, \"33\": 108, \"116\": 2, \"69\": 4, \"102\": 4, \"16\": 4, \"93\": 2, \"43\": 1, \"82\": 1, \"109\": 1}, \"45\": {\"45\": 14, \"11\": 1, \"82\": 1}, \"11\": {\"92\": 2, \"109\": 7, \"118\": 2, \"90\": 8, \"11\": 52, \"33\": 10, \"62\": 2, \"39\": 1, \"89\": 2, \"16\": 12, \"14\": 2, \"84\": 1, \"93\": 8, \"102\": 6, \"43\": 3, \"82\": 4, \"69\": 4, \"96\": 1, \"44\": 1}, \"129\": {\"45\": 2, \"50\": 1, \"129\": 8, \"19\": 1, \"122\": 2, \"100\": 1, \"87\": 3, \"84\": 1, \"60\": 1, \"114\": 4, \"107\": 1, \"108\": 1, \"32\": 1, \"110\": 1, \"5\": 1, \"44\": 1, \"70\": 2}, \"116\": {\"116\": 17, \"14\": 1, \"20\": 1, \"11\": 1, \"69\": 2, \"89\": 2, \"107\": 1, \"120\": 1, \"26\": 1, \"16\": 1}, \"75\": {\"75\": 14, \"6\": 2}, \"41\": {\"41\": 8, \"112\": 3, \"124\": 3, \"34\": 1, \"128\": 1}, \"21\": {\"118\": 2, \"21\": 28, \"43\": 2, \"64\": 1, \"39\": 1, \"113\": 2, \"69\": 1, \"33\": 1, \"102\": 1, \"117\": 2, \"8\": 1, \"126\": 4, \"94\": 1, \"93\": 1}, \"69\": {\"69\": 62, \"61\": 1, \"11\": 1, \"33\": 7, \"43\": 3, \"93\": 2, \"102\": 5, \"13\": 2, \"126\": 1}, \"16\": {\"69\": 1, \"118\": 3, \"109\": 4, \"16\": 48, \"93\": 12, \"116\": 2, \"11\": 12, \"14\": 3, \"102\": 3, \"33\": 9, \"88\": 3, \"90\": 2, \"45\": 1, \"126\": 1, \"84\": 2, \"62\": 2}, \"25\": {\"25\": 12, \"52\": 2, \"37\": 1, \"27\": 1}, \"12\": {\"12\": 63, \"41\": 1, \"111\": 15, \"127\": 6, \"73\": 2, \"8\": 4, \"30\": 1, \"98\": 3, \"15\": 3, \"0\": 2, \"106\": 1, \"72\": 1, \"24\": 1, \"88\": 1}, \"72\": {\"72\": 23, \"68\": 1, \"111\": 2, \"30\": 1, \"12\": 1}, \"0\": {\"0\": 88, \"10\": 5, \"65\": 1, \"95\": 1, \"6\": 1, \"111\": 2, \"101\": 2, \"127\": 1, \"30\": 4, \"7\": 4, \"12\": 1, \"98\": 1, \"35\": 1, \"68\": 1, \"94\": 1, \"126\": 1, \"8\": 1}, \"50\": {\"50\": 16}, \"107\": {\"76\": 1, \"107\": 115, \"129\": 1, \"84\": 3, \"32\": 1, \"40\": 4, \"90\": 2, \"14\": 3, \"88\": 1, \"115\": 1, \"100\": 1, \"87\": 6, \"60\": 1}, \"124\": {\"124\": 97, \"41\": 2, \"108\": 6, \"49\": 1, \"71\": 2, \"98\": 4, \"127\": 3, \"8\": 4, \"4\": 3, \"3\": 2}, \"53\": {\"53\": 10, \"85\": 1, \"31\": 1, \"82\": 1, \"44\": 1, \"60\": 1, \"123\": 1, \"48\": 2, \"1\": 2}, \"66\": {\"66\": 10, \"105\": 2, \"104\": 2, \"70\": 1, \"4\": 1}, \"47\": {\"71\": 2, \"47\": 8, \"124\": 2}, \"24\": {\"24\": 21, \"98\": 1, \"27\": 2, \"3\": 1, \"34\": 1, \"91\": 1, \"124\": 2, \"73\": 4, \"71\": 1, \"36\": 4, \"15\": 2, \"41\": 1, \"12\": 2, \"112\": 1, \"108\": 1, \"105\": 1, \"85\": 1, \"39\": 1}, \"95\": {\"95\": 26, \"123\": 1, \"10\": 1, \"35\": 2, \"6\": 2}, \"98\": {\"98\": 51, \"47\": 1, \"83\": 2, \"99\": 1, \"111\": 1, \"12\": 6, \"73\": 3, \"124\": 6, \"71\": 2, \"44\": 1, \"8\": 9, \"3\": 3, \"27\": 1, \"4\": 3, \"127\": 6, \"125\": 2, \"72\": 1, \"103\": 1, \"42\": 1, \"108\": 1, \"86\": 1, \"113\": 1, \"36\": 1, \"105\": 1}, \"63\": {\"63\": 15, \"123\": 1}, \"3\": {\"3\": 58, \"105\": 11, \"114\": 2, \"15\": 1, \"39\": 1, \"70\": 3, \"8\": 1, \"4\": 7, \"108\": 7, \"98\": 2, \"110\": 2, \"124\": 7, \"113\": 1, \"9\": 2, \"56\": 1, \"5\": 2, \"128\": 2, \"127\": 2, \"71\": 3, \"18\": 1}, \"14\": {\"14\": 71, \"62\": 7, \"40\": 1, \"84\": 1}, \"1\": {\"1\": 90, \"38\": 2, \"44\": 1, \"40\": 3, \"88\": 1, \"110\": 2, \"114\": 7, \"22\": 1, \"129\": 1}, \"38\": {\"38\": 16}, \"110\": {\"38\": 1, \"122\": 1, \"119\": 2, \"110\": 54, \"32\": 1, \"40\": 2, \"62\": 2, \"70\": 2, \"108\": 4, \"18\": 2, \"5\": 5, \"114\": 8, \"128\": 1, \"28\": 1, \"60\": 1, \"73\": 1, \"111\": 1, \"105\": 1, \"88\": 1, \"126\": 1}, \"17\": {\"67\": 1, \"66\": 1, \"82\": 1, \"124\": 1, \"91\": 2, \"34\": 1, \"1\": 1, \"64\": 1, \"23\": 1, \"127\": 2, \"7\": 2, \"42\": 1, \"78\": 1}, \"30\": {\"30\": 60, \"97\": 1, \"42\": 1, \"111\": 2, \"0\": 5, \"94\": 5, \"7\": 1, \"15\": 1, \"102\": 1, \"101\": 1, \"8\": 2, \"99\": 1, \"24\": 1, \"3\": 1, \"127\": 1}, \"56\": {\"71\": 1, \"9\": 1, \"103\": 1, \"41\": 1, \"56\": 6, \"23\": 1, \"75\": 1}, \"27\": {\"52\": 1, \"27\": 38, \"98\": 6, \"124\": 5, \"36\": 13, \"12\": 3, \"111\": 3, \"125\": 6, \"106\": 5, \"15\": 4, \"113\": 1, \"59\": 1, \"51\": 1, \"24\": 3, \"42\": 1, \"49\": 1, \"30\": 1, \"126\": 1, \"39\": 1, \"94\": 1}, \"104\": {\"71\": 1, \"129\": 1, \"104\": 11, \"34\": 1, \"9\": 1, \"66\": 1}, \"97\": {\"56\": 2, \"97\": 10, \"15\": 2, \"111\": 1, \"52\": 1, \"59\": 1, \"12\": 1, \"73\": 2}, \"42\": {\"103\": 1, \"56\": 1, \"25\": 1, \"42\": 5, \"125\": 2, \"97\": 2, \"108\": 4, \"19\": 1, \"15\": 2, \"4\": 1, \"27\": 2, \"112\": 1, \"74\": 1, \"58\": 1, \"17\": 1, \"24\": 1, \"36\": 1}, \"39\": {\"93\": 1, \"39\": 63, \"63\": 1, \"81\": 3, \"121\": 4, \"26\": 4, \"18\": 5, \"117\": 13, \"118\": 1, \"69\": 1, \"126\": 2, \"113\": 5, \"109\": 1, \"21\": 2, \"2\": 1, \"43\": 1}, \"70\": {\"107\": 4, \"32\": 1, \"70\": 9, \"63\": 1, \"31\": 1, \"98\": 4, \"60\": 2, \"3\": 7, \"127\": 1, \"40\": 3, \"124\": 2, \"62\": 4, \"44\": 1, \"105\": 2, \"108\": 2, \"88\": 1, \"14\": 3, \"1\": 2, \"84\": 1, \"4\": 4, \"47\": 1, \"45\": 1, \"76\": 1, \"87\": 3, \"74\": 1, \"46\": 2, \"71\": 1, \"126\": 1, \"8\": 2, \"90\": 1, \"114\": 1, \"102\": 1, \"93\": 1}, \"86\": {\"55\": 2, \"86\": 19, \"99\": 4, \"7\": 1, \"127\": 2}, \"119\": {\"119\": 15, \"13\": 1}, \"77\": {\"77\": 14, \"12\": 2}, \"59\": {\"59\": 6, \"34\": 1, \"12\": 1, \"6\": 1, \"51\": 2, \"75\": 1}, \"22\": {\"122\": 2, \"22\": 11, \"40\": 2, \"50\": 1}, \"79\": {\"79\": 12}, \"80\": {\"80\": 11, \"116\": 1, \"11\": 1, \"82\": 1, \"76\": 2}, \"111\": {\"75\": 1, \"111\": 95, \"94\": 2, \"12\": 13, \"97\": 1, \"30\": 6, \"91\": 1, \"98\": 1, \"15\": 4, \"8\": 1, \"16\": 1, \"106\": 1, \"72\": 2, \"73\": 2, \"127\": 1}, \"82\": {\"31\": 2, \"82\": 22, \"69\": 4}, \"126\": {\"126\": 106, \"121\": 2, \"78\": 1, \"21\": 2, \"39\": 4, \"117\": 1, \"18\": 7, \"88\": 1}, \"32\": {\"87\": 1, \"33\": 1, \"32\": 11, \"45\": 1, \"102\": 1, \"107\": 5, \"122\": 2, \"106\": 1, \"43\": 1, \"16\": 1, \"60\": 1, \"20\": 1, \"129\": 2, \"40\": 1, \"44\": 1, \"110\": 1}, \"106\": {\"106\": 77, \"119\": 1, \"73\": 2, \"125\": 6, \"94\": 1, \"8\": 1, \"36\": 3, \"98\": 1, \"27\": 2, \"30\": 1, \"15\": 4, \"18\": 1}, \"60\": {\"84\": 2, \"60\": 13, \"45\": 1, \"87\": 3, \"129\": 2, \"32\": 1, \"110\": 2, \"88\": 1, \"53\": 1, \"76\": 1, \"29\": 1}, \"114\": {\"114\": 69, \"60\": 1, \"110\": 3, \"105\": 1, \"87\": 2, \"5\": 6, \"1\": 10, \"40\": 4, \"108\": 3, \"124\": 2, \"8\": 1, \"129\": 1, \"38\": 2, \"88\": 1, \"16\": 1, \"39\": 1}}}, \"per_domain_accuracy\": {\"ORACLE.run18\": {\"accuracy\": 0.8747395833333333, \"source?\": true}, \"ORACLE.run138\": {\"accuracy\": 0.88515625, \"source?\": true}, \"ORACLE.run126\": {\"accuracy\": 0.7151041666666667, \"source?\": true}, \"ORACLE.run120\": {\"accuracy\": 0.8619791666666666, \"source?\": true}, \"ORACLE.run150\": {\"accuracy\": 0.884375, \"source?\": true}, \"ORACLE.run132\": {\"accuracy\": 0.8575520833333333, \"source?\": true}, \"ORACLE.run144\": {\"accuracy\": 0.8059895833333334, \"source?\": true}, \"ORACLE.run114\": {\"accuracy\": 0.9098958333333333, \"source?\": true}, \"Wisig_2\": {\"accuracy\": 0.5993960084033614, \"source?\": false}, \"Wisig_4\": {\"accuracy\": 0.5776748971193416, \"source?\": false}, \"Wisig_1\": {\"accuracy\": 0.644281914893617, \"source?\": false}, \"Wisig_3\": {\"accuracy\": 0.657351321585903, \"source?\": false}}}, \"history\": {\"epoch_indices\": [1, 2, 3, 4, 5, 6], \"train_label_loss\": [0.7670667858816506, 0.4954499306484303, 0.39187113115857797, 0.3319668067814616, 0.2931198256075038, 0.26592781732996673], \"source_val_label_loss\": [0.6832687854766846, 0.4253719747066498, 0.37685906887054443, 0.3258414566516876, 0.30267950892448425, 0.30763623118400574], \"target_val_label_loss\": [4.940328121185303, 5.269312858581543, 6.584725379943848, 6.766319274902344, 8.331106185913086, 7.369896411895752], \"source_val_acc_label\": [0.7684244791666667, 0.8493489583333333, 0.8674479166666667, 0.8845052083333333, 0.8914713541666667, 0.89033203125], \"target_val_acc_label\": [0.5119962884411453, 0.6189355779427359, 0.5851007423117709, 0.5688626723223754, 0.5444392895015907, 0.5619034994697774]}, \"dataset_metrics\": {\"source\": {\"train\": {\"n_unique_x\": 179200, \"n_unique_y\": 16, \"n_batch/episode\": 6720}, \"val\": {\"n_unique_x\": 38400, \"n_unique_y\": 16, \"n_batch/episode\": 960}, \"test\": {\"n_unique_x\": 38400, \"n_unique_y\": 16, \"n_batch/episode\": 960}}, \"target\": {\"train\": {\"n_unique_x\": 188974, \"n_unique_y\": 130, \"n_batch/episode\": 6847}, \"val\": {\"n_unique_x\": 40019, \"n_unique_y\": 130, \"n_batch/episode\": 943}, \"test\": {\"n_unique_x\": 40738, \"n_unique_y\": 130, \"n_batch/episode\": 960}}}}'"
      ]
     },
     "execution_count": 29,
     "metadata": {},
     "output_type": "execute_result"
    }
   ],
   "source": [
    "json.dumps(experiment)"
   ]
  }
 ],
 "metadata": {
  "celltoolbar": "Tags",
  "kernelspec": {
   "display_name": "Python 3 (ipykernel)",
   "language": "python",
   "name": "python3"
  },
  "language_info": {
   "codemirror_mode": {
    "name": "ipython",
    "version": 3
   },
   "file_extension": ".py",
   "mimetype": "text/x-python",
   "name": "python",
   "nbconvert_exporter": "python",
   "pygments_lexer": "ipython3",
   "version": "3.8.12"
  },
  "papermill": {
   "default_parameters": {},
   "duration": 1955.719744,
   "end_time": "2022-03-21T13:20:38.364139",
   "environment_variables": {},
   "exception": null,
   "input_path": "/root/csc500-main/csc500-notebooks/templates/tl_ptn_template.ipynb",
   "output_path": "trial.ipynb",
   "parameters": {
    "parameters": {
     "BEST_MODEL_PATH": "./best_model.pth",
     "NUM_LOGS_PER_EPOCH": 10,
     "criteria_for_best": "target_accuracy",
     "dataset_seed": 154325,
     "datasets": [
      {
       "domain_prefix": "Wisig_",
       "domains": [
        1,
        2,
        3,
        4
       ],
       "episode_transforms": [],
       "labels": [
        "1-10",
        "1-12",
        "1-14",
        "1-16",
        "1-18",
        "1-19",
        "1-8",
        "10-11",
        "10-17",
        "10-4",
        "10-7",
        "11-1",
        "11-10",
        "11-19",
        "11-20",
        "11-4",
        "11-7",
        "12-19",
        "12-20",
        "12-7",
        "13-14",
        "13-18",
        "13-19",
        "13-20",
        "13-3",
        "13-7",
        "14-10",
        "14-11",
        "14-12",
        "14-13",
        "14-14",
        "14-19",
        "14-20",
        "14-7",
        "14-8",
        "14-9",
        "15-1",
        "15-19",
        "15-6",
        "16-1",
        "16-16",
        "16-19",
        "16-20",
        "17-10",
        "17-11",
        "18-1",
        "18-10",
        "18-11",
        "18-12",
        "18-13",
        "18-14",
        "18-15",
        "18-16",
        "18-17",
        "18-19",
        "18-2",
        "18-20",
        "18-4",
        "18-5",
        "18-7",
        "18-8",
        "18-9",
        "19-1",
        "19-10",
        "19-11",
        "19-12",
        "19-13",
        "19-14",
        "19-15",
        "19-19",
        "19-2",
        "19-20",
        "19-3",
        "19-4",
        "19-6",
        "19-7",
        "19-8",
        "19-9",
        "2-1",
        "2-13",
        "2-15",
        "2-3",
        "2-4",
        "2-5",
        "2-6",
        "2-7",
        "2-8",
        "20-1",
        "20-12",
        "20-14",
        "20-15",
        "20-16",
        "20-18",
        "20-19",
        "20-20",
        "20-3",
        "20-4",
        "20-5",
        "20-7",
        "20-8",
        "3-1",
        "3-13",
        "3-18",
        "3-2",
        "3-8",
        "4-1",
        "4-10",
        "4-11",
        "5-1",
        "5-5",
        "6-1",
        "6-15",
        "6-6",
        "7-10",
        "7-11",
        "7-12",
        "7-13",
        "7-14",
        "7-7",
        "7-8",
        "7-9",
        "8-1",
        "8-13",
        "8-14",
        "8-18",
        "8-20",
        "8-3",
        "8-8",
        "9-1",
        "9-7"
       ],
       "num_examples_per_domain_per_label": -1,
       "pickle_path": "/root/csc500-main/datasets/wisig.node3-19.stratified_ds.2022A.pkl",
       "source_or_target_dataset": "target",
       "x_transforms": [
        "unit_mag"
       ]
      },
      {
       "domain_prefix": "ORACLE.run1",
       "domains": [
        32,
        38,
        8,
        44,
        14,
        50,
        20,
        26
       ],
       "episode_transforms": [],
       "labels": [
        "3123D52",
        "3123D65",
        "3123D79",
        "3123D80",
        "3123D54",
        "3123D70",
        "3123D7B",
        "3123D89",
        "3123D58",
        "3123D76",
        "3123D7D",
        "3123EFE",
        "3123D64",
        "3123D78",
        "3123D7E",
        "3124E4A"
       ],
       "num_examples_per_domain_per_label": 2000,
       "pickle_path": "/root/csc500-main/datasets/oracle.Run1_framed_2000Examples_stratified_ds.2022A.pkl",
       "source_or_target_dataset": "source",
       "x_transforms": [
        "unit_mag"
       ]
      }
     ],
     "device": "cuda",
     "experiment_name": "tl_1v2:wisig-oracle.run1.framed",
     "lr": 0.0001,
     "n_epoch": 50,
     "n_query": 2,
     "n_shot": 3,
     "n_way": 16,
     "patience": 3,
     "seed": 154325,
     "test_k_factor": 2,
     "torch_default_dtype": "torch.float32",
     "train_k_factor": 3,
     "val_k_factor": 2,
     "x_net": [
      {
       "class": "nnReshape",
       "kargs": {
        "shape": [
         -1,
         1,
         2,
         256
        ]
       }
      },
      {
       "class": "Conv2d",
       "kargs": {
        "bias": false,
        "in_channels": 1,
        "kernel_size": [
         1,
         7
        ],
        "out_channels": 256,
        "padding": [
         0,
         3
        ]
       }
      },
      {
       "class": "ReLU",
       "kargs": {
        "inplace": true
       }
      },
      {
       "class": "BatchNorm2d",
       "kargs": {
        "num_features": 256
       }
      },
      {
       "class": "Conv2d",
       "kargs": {
        "bias": true,
        "in_channels": 256,
        "kernel_size": [
         2,
         7
        ],
        "out_channels": 80,
        "padding": [
         0,
         3
        ]
       }
      },
      {
       "class": "ReLU",
       "kargs": {
        "inplace": true
       }
      },
      {
       "class": "BatchNorm2d",
       "kargs": {
        "num_features": 80
       }
      },
      {
       "class": "Flatten",
       "kargs": {}
      },
      {
       "class": "Linear",
       "kargs": {
        "in_features": 20480,
        "out_features": 256
       }
      },
      {
       "class": "ReLU",
       "kargs": {
        "inplace": true
       }
      },
      {
       "class": "BatchNorm1d",
       "kargs": {
        "num_features": 256
       }
      },
      {
       "class": "Linear",
       "kargs": {
        "in_features": 256,
        "out_features": 256
       }
      }
     ]
    }
   },
   "start_time": "2022-03-21T12:48:02.644395",
   "version": "2.3.4"
  }
 },
 "nbformat": 4,
 "nbformat_minor": 5
}