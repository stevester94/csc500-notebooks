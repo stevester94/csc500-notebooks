{
 "cells": [
  {
   "cell_type": "markdown",
   "id": "9fea5f46",
   "metadata": {
    "papermill": {
     "duration": 0.032406,
     "end_time": "2022-03-21T08:56:26.374310",
     "exception": false,
     "start_time": "2022-03-21T08:56:26.341904",
     "status": "completed"
    },
    "tags": []
   },
   "source": [
    "# Transfer Learning Template"
   ]
  },
  {
   "cell_type": "code",
   "execution_count": 1,
   "id": "0902182a",
   "metadata": {
    "execution": {
     "iopub.execute_input": "2022-03-21T08:56:26.436656Z",
     "iopub.status.busy": "2022-03-21T08:56:26.435152Z",
     "iopub.status.idle": "2022-03-21T08:56:28.354100Z",
     "shell.execute_reply": "2022-03-21T08:56:28.353248Z"
    },
    "papermill": {
     "duration": 1.956834,
     "end_time": "2022-03-21T08:56:28.354302",
     "exception": false,
     "start_time": "2022-03-21T08:56:26.397468",
     "status": "completed"
    },
    "tags": []
   },
   "outputs": [],
   "source": [
    "%load_ext autoreload\n",
    "%autoreload 2\n",
    "%matplotlib inline\n",
    "\n",
    "    \n",
    "import os, json, sys, time, random\n",
    "import numpy as np\n",
    "import torch\n",
    "from torch.optim import Adam\n",
    "from  easydict import EasyDict\n",
    "import matplotlib.pyplot as plt\n",
    "\n",
    "from steves_models.steves_ptn import Steves_Prototypical_Network\n",
    "\n",
    "from steves_utils.lazy_iterable_wrapper import Lazy_Iterable_Wrapper\n",
    "from steves_utils.iterable_aggregator import Iterable_Aggregator\n",
    "from steves_utils.ptn_train_eval_test_jig import  PTN_Train_Eval_Test_Jig\n",
    "from steves_utils.torch_sequential_builder import build_sequential\n",
    "from steves_utils.torch_utils import get_dataset_metrics, ptn_confusion_by_domain_over_dataloader\n",
    "from steves_utils.utils_v2 import (per_domain_accuracy_from_confusion, get_datasets_base_path)\n",
    "from steves_utils.PTN.utils import independent_accuracy_assesment\n",
    "\n",
    "from torch.utils.data import DataLoader\n",
    "\n",
    "from steves_utils.stratified_dataset.episodic_accessor import Episodic_Accessor_Factory\n",
    "\n",
    "from steves_utils.ptn_do_report import (\n",
    "    get_loss_curve,\n",
    "    get_results_table,\n",
    "    get_parameters_table,\n",
    "    get_domain_accuracies,\n",
    ")\n",
    "\n",
    "from steves_utils.transforms import get_chained_transform"
   ]
  },
  {
   "cell_type": "markdown",
   "id": "41c840b4",
   "metadata": {
    "papermill": {
     "duration": 0.019567,
     "end_time": "2022-03-21T08:56:28.399831",
     "exception": false,
     "start_time": "2022-03-21T08:56:28.380264",
     "status": "completed"
    },
    "tags": []
   },
   "source": [
    "# Allowed Parameters\n",
    "These are allowed parameters, not defaults\n",
    "Each of these values need to be present in the injected parameters (the notebook will raise an exception if they are not present)\n",
    "\n",
    "Papermill uses the cell tag \"parameters\" to inject the real parameters below this cell.\n",
    "Enable tags to see what I mean"
   ]
  },
  {
   "cell_type": "code",
   "execution_count": 2,
   "id": "fd44eb83",
   "metadata": {
    "execution": {
     "iopub.execute_input": "2022-03-21T08:56:28.443162Z",
     "iopub.status.busy": "2022-03-21T08:56:28.442772Z",
     "iopub.status.idle": "2022-03-21T08:56:28.462031Z",
     "shell.execute_reply": "2022-03-21T08:56:28.461211Z"
    },
    "papermill": {
     "duration": 0.042704,
     "end_time": "2022-03-21T08:56:28.462192",
     "exception": false,
     "start_time": "2022-03-21T08:56:28.419488",
     "status": "completed"
    },
    "tags": []
   },
   "outputs": [],
   "source": [
    "required_parameters = {\n",
    "    \"experiment_name\",\n",
    "    \"lr\",\n",
    "    \"device\",\n",
    "    \"seed\",\n",
    "    \"dataset_seed\",\n",
    "    \"n_shot\",\n",
    "    \"n_query\",\n",
    "    \"n_way\",\n",
    "    \"train_k_factor\",\n",
    "    \"val_k_factor\",\n",
    "    \"test_k_factor\",\n",
    "    \"n_epoch\",\n",
    "    \"patience\",\n",
    "    \"criteria_for_best\",\n",
    "    \"x_net\",\n",
    "    \"datasets\",\n",
    "    \"torch_default_dtype\",\n",
    "    \"NUM_LOGS_PER_EPOCH\",\n",
    "    \"BEST_MODEL_PATH\",\n",
    "    \"x_shape\",\n",
    "}"
   ]
  },
  {
   "cell_type": "code",
   "execution_count": 3,
   "id": "fa3f0049",
   "metadata": {
    "execution": {
     "iopub.execute_input": "2022-03-21T08:56:28.518575Z",
     "iopub.status.busy": "2022-03-21T08:56:28.517653Z",
     "iopub.status.idle": "2022-03-21T08:56:28.537108Z",
     "shell.execute_reply": "2022-03-21T08:56:28.536291Z"
    },
    "papermill": {
     "duration": 0.048424,
     "end_time": "2022-03-21T08:56:28.537272",
     "exception": false,
     "start_time": "2022-03-21T08:56:28.488848",
     "status": "completed"
    },
    "tags": [
     "parameters"
    ]
   },
   "outputs": [],
   "source": [
    "from steves_utils.CORES.utils import (\n",
    "    ALL_NODES,\n",
    "    ALL_NODES_MINIMUM_1000_EXAMPLES,\n",
    "    ALL_DAYS\n",
    ")\n",
    "\n",
    "from steves_utils.ORACLE.utils_v2 import (\n",
    "    ALL_DISTANCES_FEET_NARROWED,\n",
    "    ALL_RUNS,\n",
    "    ALL_SERIAL_NUMBERS,\n",
    ")\n",
    "\n",
    "standalone_parameters = {}\n",
    "standalone_parameters[\"experiment_name\"] = \"STANDALONE PTN\"\n",
    "standalone_parameters[\"lr\"] = 0.001\n",
    "standalone_parameters[\"device\"] = \"cuda\"\n",
    "\n",
    "standalone_parameters[\"seed\"] = 1337\n",
    "standalone_parameters[\"dataset_seed\"] = 1337\n",
    "\n",
    "standalone_parameters[\"n_way\"] = 8\n",
    "standalone_parameters[\"n_shot\"] = 3\n",
    "standalone_parameters[\"n_query\"]  = 2\n",
    "standalone_parameters[\"train_k_factor\"] = 1\n",
    "standalone_parameters[\"val_k_factor\"] = 2\n",
    "standalone_parameters[\"test_k_factor\"] = 2\n",
    "\n",
    "\n",
    "standalone_parameters[\"n_epoch\"] = 50\n",
    "\n",
    "standalone_parameters[\"patience\"] = 10\n",
    "standalone_parameters[\"criteria_for_best\"] = \"source_loss\"\n",
    "\n",
    "standalone_parameters[\"datasets\"] = [\n",
    "    {\n",
    "        \"labels\": ALL_SERIAL_NUMBERS,\n",
    "        \"domains\": ALL_DISTANCES_FEET_NARROWED,\n",
    "        \"num_examples_per_domain_per_label\": 100,\n",
    "        \"pickle_path\": os.path.join(get_datasets_base_path(), \"oracle.Run1_framed_2000Examples_stratified_ds.2022A.pkl\"),\n",
    "        \"source_or_target_dataset\": \"source\",\n",
    "        \"x_transforms\": [\"unit_mag\", \"minus_two\"],\n",
    "        \"episode_transforms\": [],\n",
    "        \"domain_prefix\": \"ORACLE_\"\n",
    "    },\n",
    "    {\n",
    "        \"labels\": ALL_NODES,\n",
    "        \"domains\": ALL_DAYS,\n",
    "        \"num_examples_per_domain_per_label\": 100,\n",
    "        \"pickle_path\": os.path.join(get_datasets_base_path(), \"cores.stratified_ds.2022A.pkl\"),\n",
    "        \"source_or_target_dataset\": \"target\",\n",
    "        \"x_transforms\": [\"unit_power\", \"times_zero\"],\n",
    "        \"episode_transforms\": [],\n",
    "        \"domain_prefix\": \"CORES_\"\n",
    "    }   \n",
    "]\n",
    "\n",
    "standalone_parameters[\"torch_default_dtype\"] = \"torch.float32\" \n",
    "\n",
    "\n",
    "\n",
    "standalone_parameters[\"x_net\"] =     [\n",
    "    {\"class\": \"nnReshape\", \"kargs\": {\"shape\":[-1, 1, 2, 256]}},\n",
    "    {\"class\": \"Conv2d\", \"kargs\": { \"in_channels\":1, \"out_channels\":256, \"kernel_size\":(1,7), \"bias\":False, \"padding\":(0,3), },},\n",
    "    {\"class\": \"ReLU\", \"kargs\": {\"inplace\": True}},\n",
    "    {\"class\": \"BatchNorm2d\", \"kargs\": {\"num_features\":256}},\n",
    "\n",
    "    {\"class\": \"Conv2d\", \"kargs\": { \"in_channels\":256, \"out_channels\":80, \"kernel_size\":(2,7), \"bias\":True, \"padding\":(0,3), },},\n",
    "    {\"class\": \"ReLU\", \"kargs\": {\"inplace\": True}},\n",
    "    {\"class\": \"BatchNorm2d\", \"kargs\": {\"num_features\":80}},\n",
    "    {\"class\": \"Flatten\", \"kargs\": {}},\n",
    "\n",
    "    {\"class\": \"Linear\", \"kargs\": {\"in_features\": 80*256, \"out_features\": 256}}, # 80 units per IQ pair\n",
    "    {\"class\": \"ReLU\", \"kargs\": {\"inplace\": True}},\n",
    "    {\"class\": \"BatchNorm1d\", \"kargs\": {\"num_features\":256}},\n",
    "\n",
    "    {\"class\": \"Linear\", \"kargs\": {\"in_features\": 256, \"out_features\": 256}},\n",
    "]\n",
    "\n",
    "# Parameters relevant to results\n",
    "# These parameters will basically never need to change\n",
    "standalone_parameters[\"NUM_LOGS_PER_EPOCH\"] = 10\n",
    "standalone_parameters[\"BEST_MODEL_PATH\"] = \"./best_model.pth\"\n",
    "\n",
    "\n",
    "\n",
    "\n"
   ]
  },
  {
   "cell_type": "code",
   "execution_count": 4,
   "id": "7643b7b6",
   "metadata": {
    "execution": {
     "iopub.execute_input": "2022-03-21T08:56:28.602074Z",
     "iopub.status.busy": "2022-03-21T08:56:28.601027Z",
     "iopub.status.idle": "2022-03-21T08:56:28.621806Z",
     "shell.execute_reply": "2022-03-21T08:56:28.620987Z"
    },
    "papermill": {
     "duration": 0.060458,
     "end_time": "2022-03-21T08:56:28.621981",
     "exception": false,
     "start_time": "2022-03-21T08:56:28.561523",
     "status": "completed"
    },
    "tags": [
     "injected-parameters"
    ]
   },
   "outputs": [],
   "source": [
    "# Parameters\n",
    "parameters = {\n",
    "    \"experiment_name\": \"tl_1v2:wisig-oracle.run1.framed\",\n",
    "    \"device\": \"cuda\",\n",
    "    \"lr\": 0.0001,\n",
    "    \"n_shot\": 3,\n",
    "    \"n_query\": 2,\n",
    "    \"train_k_factor\": 3,\n",
    "    \"val_k_factor\": 2,\n",
    "    \"test_k_factor\": 2,\n",
    "    \"torch_default_dtype\": \"torch.float32\",\n",
    "    \"n_epoch\": 50,\n",
    "    \"patience\": 3,\n",
    "    \"criteria_for_best\": \"target_accuracy\",\n",
    "    \"x_net\": [\n",
    "        {\"class\": \"nnReshape\", \"kargs\": {\"shape\": [-1, 1, 2, 256]}},\n",
    "        {\n",
    "            \"class\": \"Conv2d\",\n",
    "            \"kargs\": {\n",
    "                \"in_channels\": 1,\n",
    "                \"out_channels\": 256,\n",
    "                \"kernel_size\": [1, 7],\n",
    "                \"bias\": False,\n",
    "                \"padding\": [0, 3],\n",
    "            },\n",
    "        },\n",
    "        {\"class\": \"ReLU\", \"kargs\": {\"inplace\": True}},\n",
    "        {\"class\": \"BatchNorm2d\", \"kargs\": {\"num_features\": 256}},\n",
    "        {\n",
    "            \"class\": \"Conv2d\",\n",
    "            \"kargs\": {\n",
    "                \"in_channels\": 256,\n",
    "                \"out_channels\": 80,\n",
    "                \"kernel_size\": [2, 7],\n",
    "                \"bias\": True,\n",
    "                \"padding\": [0, 3],\n",
    "            },\n",
    "        },\n",
    "        {\"class\": \"ReLU\", \"kargs\": {\"inplace\": True}},\n",
    "        {\"class\": \"BatchNorm2d\", \"kargs\": {\"num_features\": 80}},\n",
    "        {\"class\": \"Flatten\", \"kargs\": {}},\n",
    "        {\"class\": \"Linear\", \"kargs\": {\"in_features\": 20480, \"out_features\": 256}},\n",
    "        {\"class\": \"ReLU\", \"kargs\": {\"inplace\": True}},\n",
    "        {\"class\": \"BatchNorm1d\", \"kargs\": {\"num_features\": 256}},\n",
    "        {\"class\": \"Linear\", \"kargs\": {\"in_features\": 256, \"out_features\": 256}},\n",
    "    ],\n",
    "    \"NUM_LOGS_PER_EPOCH\": 10,\n",
    "    \"BEST_MODEL_PATH\": \"./best_model.pth\",\n",
    "    \"n_way\": 16,\n",
    "    \"datasets\": [\n",
    "        {\n",
    "            \"labels\": [\n",
    "                \"1-10\",\n",
    "                \"1-12\",\n",
    "                \"1-14\",\n",
    "                \"1-16\",\n",
    "                \"1-18\",\n",
    "                \"1-19\",\n",
    "                \"1-8\",\n",
    "                \"10-11\",\n",
    "                \"10-17\",\n",
    "                \"10-4\",\n",
    "                \"10-7\",\n",
    "                \"11-1\",\n",
    "                \"11-10\",\n",
    "                \"11-19\",\n",
    "                \"11-20\",\n",
    "                \"11-4\",\n",
    "                \"11-7\",\n",
    "                \"12-19\",\n",
    "                \"12-20\",\n",
    "                \"12-7\",\n",
    "                \"13-14\",\n",
    "                \"13-18\",\n",
    "                \"13-19\",\n",
    "                \"13-20\",\n",
    "                \"13-3\",\n",
    "                \"13-7\",\n",
    "                \"14-10\",\n",
    "                \"14-11\",\n",
    "                \"14-12\",\n",
    "                \"14-13\",\n",
    "                \"14-14\",\n",
    "                \"14-19\",\n",
    "                \"14-20\",\n",
    "                \"14-7\",\n",
    "                \"14-8\",\n",
    "                \"14-9\",\n",
    "                \"15-1\",\n",
    "                \"15-19\",\n",
    "                \"15-6\",\n",
    "                \"16-1\",\n",
    "                \"16-16\",\n",
    "                \"16-19\",\n",
    "                \"16-20\",\n",
    "                \"17-10\",\n",
    "                \"17-11\",\n",
    "                \"18-1\",\n",
    "                \"18-10\",\n",
    "                \"18-11\",\n",
    "                \"18-12\",\n",
    "                \"18-13\",\n",
    "                \"18-14\",\n",
    "                \"18-15\",\n",
    "                \"18-16\",\n",
    "                \"18-17\",\n",
    "                \"18-19\",\n",
    "                \"18-2\",\n",
    "                \"18-20\",\n",
    "                \"18-4\",\n",
    "                \"18-5\",\n",
    "                \"18-7\",\n",
    "                \"18-8\",\n",
    "                \"18-9\",\n",
    "                \"19-1\",\n",
    "                \"19-10\",\n",
    "                \"19-11\",\n",
    "                \"19-12\",\n",
    "                \"19-13\",\n",
    "                \"19-14\",\n",
    "                \"19-15\",\n",
    "                \"19-19\",\n",
    "                \"19-2\",\n",
    "                \"19-20\",\n",
    "                \"19-3\",\n",
    "                \"19-4\",\n",
    "                \"19-6\",\n",
    "                \"19-7\",\n",
    "                \"19-8\",\n",
    "                \"19-9\",\n",
    "                \"2-1\",\n",
    "                \"2-13\",\n",
    "                \"2-15\",\n",
    "                \"2-3\",\n",
    "                \"2-4\",\n",
    "                \"2-5\",\n",
    "                \"2-6\",\n",
    "                \"2-7\",\n",
    "                \"2-8\",\n",
    "                \"20-1\",\n",
    "                \"20-12\",\n",
    "                \"20-14\",\n",
    "                \"20-15\",\n",
    "                \"20-16\",\n",
    "                \"20-18\",\n",
    "                \"20-19\",\n",
    "                \"20-20\",\n",
    "                \"20-3\",\n",
    "                \"20-4\",\n",
    "                \"20-5\",\n",
    "                \"20-7\",\n",
    "                \"20-8\",\n",
    "                \"3-1\",\n",
    "                \"3-13\",\n",
    "                \"3-18\",\n",
    "                \"3-2\",\n",
    "                \"3-8\",\n",
    "                \"4-1\",\n",
    "                \"4-10\",\n",
    "                \"4-11\",\n",
    "                \"5-1\",\n",
    "                \"5-5\",\n",
    "                \"6-1\",\n",
    "                \"6-15\",\n",
    "                \"6-6\",\n",
    "                \"7-10\",\n",
    "                \"7-11\",\n",
    "                \"7-12\",\n",
    "                \"7-13\",\n",
    "                \"7-14\",\n",
    "                \"7-7\",\n",
    "                \"7-8\",\n",
    "                \"7-9\",\n",
    "                \"8-1\",\n",
    "                \"8-13\",\n",
    "                \"8-14\",\n",
    "                \"8-18\",\n",
    "                \"8-20\",\n",
    "                \"8-3\",\n",
    "                \"8-8\",\n",
    "                \"9-1\",\n",
    "                \"9-7\",\n",
    "            ],\n",
    "            \"domains\": [1, 2, 3, 4],\n",
    "            \"num_examples_per_domain_per_label\": -1,\n",
    "            \"pickle_path\": \"/root/csc500-main/datasets/wisig.node3-19.stratified_ds.2022A.pkl\",\n",
    "            \"source_or_target_dataset\": \"target\",\n",
    "            \"x_transforms\": [\"unit_power\"],\n",
    "            \"episode_transforms\": [],\n",
    "            \"domain_prefix\": \"Wisig_\",\n",
    "        },\n",
    "        {\n",
    "            \"labels\": [\n",
    "                \"3123D52\",\n",
    "                \"3123D65\",\n",
    "                \"3123D79\",\n",
    "                \"3123D80\",\n",
    "                \"3123D54\",\n",
    "                \"3123D70\",\n",
    "                \"3123D7B\",\n",
    "                \"3123D89\",\n",
    "                \"3123D58\",\n",
    "                \"3123D76\",\n",
    "                \"3123D7D\",\n",
    "                \"3123EFE\",\n",
    "                \"3123D64\",\n",
    "                \"3123D78\",\n",
    "                \"3123D7E\",\n",
    "                \"3124E4A\",\n",
    "            ],\n",
    "            \"domains\": [32, 38, 8, 44, 14, 50, 20, 26],\n",
    "            \"num_examples_per_domain_per_label\": 2000,\n",
    "            \"pickle_path\": \"/root/csc500-main/datasets/oracle.Run1_framed_2000Examples_stratified_ds.2022A.pkl\",\n",
    "            \"source_or_target_dataset\": \"source\",\n",
    "            \"x_transforms\": [\"unit_power\"],\n",
    "            \"episode_transforms\": [],\n",
    "            \"domain_prefix\": \"ORACLE.run1\",\n",
    "        },\n",
    "    ],\n",
    "    \"dataset_seed\": 420,\n",
    "    \"seed\": 420,\n",
    "}\n"
   ]
  },
  {
   "cell_type": "code",
   "execution_count": 5,
   "id": "8fa1cc33",
   "metadata": {
    "execution": {
     "iopub.execute_input": "2022-03-21T08:56:28.675600Z",
     "iopub.status.busy": "2022-03-21T08:56:28.674704Z",
     "iopub.status.idle": "2022-03-21T08:56:28.697485Z",
     "shell.execute_reply": "2022-03-21T08:56:28.696659Z"
    },
    "papermill": {
     "duration": 0.049102,
     "end_time": "2022-03-21T08:56:28.697656",
     "exception": false,
     "start_time": "2022-03-21T08:56:28.648554",
     "status": "completed"
    },
    "tags": []
   },
   "outputs": [],
   "source": [
    "# Set this to True if you want to run this template directly\n",
    "STANDALONE = False\n",
    "if STANDALONE:\n",
    "    print(\"parameters not injected, running with standalone_parameters\")\n",
    "    parameters = standalone_parameters\n",
    "\n",
    "if not 'parameters' in locals() and not 'parameters' in globals():\n",
    "    raise Exception(\"Parameter injection failed\")\n",
    "\n",
    "#Use an easy dict for all the parameters\n",
    "p = EasyDict(parameters)\n",
    "\n",
    "if \"x_shape\" not in p:\n",
    "    p.x_shape = [2,256] # Default to this if we dont supply x_shape\n",
    "\n",
    "\n",
    "supplied_keys = set(p.keys())\n",
    "\n",
    "if  supplied_keys != required_parameters:\n",
    "    print(\"Parameters are incorrect\")\n",
    "    if len(supplied_keys - required_parameters)>0: print(\"Shouldn't have:\", str(supplied_keys - required_parameters))\n",
    "    if len(required_parameters - supplied_keys)>0: print(\"Need to have:\", str(required_parameters - supplied_keys))\n",
    "    raise RuntimeError(\"Parameters are incorrect\")"
   ]
  },
  {
   "cell_type": "code",
   "execution_count": 6,
   "id": "3a028d58",
   "metadata": {
    "execution": {
     "iopub.execute_input": "2022-03-21T08:56:28.755498Z",
     "iopub.status.busy": "2022-03-21T08:56:28.754738Z",
     "iopub.status.idle": "2022-03-21T08:56:28.777161Z",
     "shell.execute_reply": "2022-03-21T08:56:28.776346Z"
    },
    "papermill": {
     "duration": 0.052829,
     "end_time": "2022-03-21T08:56:28.777326",
     "exception": false,
     "start_time": "2022-03-21T08:56:28.724497",
     "status": "completed"
    },
    "tags": []
   },
   "outputs": [],
   "source": [
    "###################################\n",
    "# Set the RNGs and make it all deterministic\n",
    "###################################\n",
    "np.random.seed(p.seed)\n",
    "random.seed(p.seed)\n",
    "torch.manual_seed(p.seed)\n",
    "\n",
    "torch.use_deterministic_algorithms(True) "
   ]
  },
  {
   "cell_type": "code",
   "execution_count": 7,
   "id": "b691acf6",
   "metadata": {
    "execution": {
     "iopub.execute_input": "2022-03-21T08:56:28.826631Z",
     "iopub.status.busy": "2022-03-21T08:56:28.826250Z",
     "iopub.status.idle": "2022-03-21T08:56:28.850169Z",
     "shell.execute_reply": "2022-03-21T08:56:28.849460Z"
    },
    "papermill": {
     "duration": 0.04704,
     "end_time": "2022-03-21T08:56:28.850329",
     "exception": false,
     "start_time": "2022-03-21T08:56:28.803289",
     "status": "completed"
    },
    "tags": []
   },
   "outputs": [],
   "source": [
    "###########################################\n",
    "# The stratified datasets honor this\n",
    "###########################################\n",
    "torch.set_default_dtype(eval(p.torch_default_dtype))"
   ]
  },
  {
   "cell_type": "code",
   "execution_count": 8,
   "id": "b5fba671",
   "metadata": {
    "execution": {
     "iopub.execute_input": "2022-03-21T08:56:28.900692Z",
     "iopub.status.busy": "2022-03-21T08:56:28.900053Z",
     "iopub.status.idle": "2022-03-21T08:56:28.954748Z",
     "shell.execute_reply": "2022-03-21T08:56:28.954000Z"
    },
    "papermill": {
     "duration": 0.078169,
     "end_time": "2022-03-21T08:56:28.954923",
     "exception": false,
     "start_time": "2022-03-21T08:56:28.876754",
     "status": "completed"
    },
    "tags": []
   },
   "outputs": [],
   "source": [
    "###################################\n",
    "# Build the network(s)\n",
    "# Note: It's critical to do this AFTER setting the RNG\n",
    "###################################\n",
    "x_net = build_sequential(p.x_net)"
   ]
  },
  {
   "cell_type": "code",
   "execution_count": 9,
   "id": "5d7e61cc",
   "metadata": {
    "execution": {
     "iopub.execute_input": "2022-03-21T08:56:29.006337Z",
     "iopub.status.busy": "2022-03-21T08:56:29.005764Z",
     "iopub.status.idle": "2022-03-21T08:56:29.031272Z",
     "shell.execute_reply": "2022-03-21T08:56:29.030505Z"
    },
    "papermill": {
     "duration": 0.04994,
     "end_time": "2022-03-21T08:56:29.031437",
     "exception": false,
     "start_time": "2022-03-21T08:56:28.981497",
     "status": "completed"
    },
    "tags": []
   },
   "outputs": [],
   "source": [
    "start_time_secs = time.time()"
   ]
  },
  {
   "cell_type": "code",
   "execution_count": 10,
   "id": "c6b67dfd",
   "metadata": {
    "execution": {
     "iopub.execute_input": "2022-03-21T08:56:29.084647Z",
     "iopub.status.busy": "2022-03-21T08:56:29.084266Z",
     "iopub.status.idle": "2022-03-21T08:56:29.107459Z",
     "shell.execute_reply": "2022-03-21T08:56:29.106733Z"
    },
    "papermill": {
     "duration": 0.048188,
     "end_time": "2022-03-21T08:56:29.107637",
     "exception": false,
     "start_time": "2022-03-21T08:56:29.059449",
     "status": "completed"
    },
    "tags": []
   },
   "outputs": [],
   "source": [
    "p.domains_source = []\n",
    "p.domains_target = []\n",
    "\n",
    "\n",
    "train_original_source = []\n",
    "val_original_source   = []\n",
    "test_original_source  = []\n",
    "\n",
    "train_original_target = []\n",
    "val_original_target   = []\n",
    "test_original_target  = []"
   ]
  },
  {
   "cell_type": "code",
   "execution_count": 11,
   "id": "e3d9c3d3",
   "metadata": {
    "execution": {
     "iopub.execute_input": "2022-03-21T08:56:29.158189Z",
     "iopub.status.busy": "2022-03-21T08:56:29.157809Z",
     "iopub.status.idle": "2022-03-21T08:56:29.179728Z",
     "shell.execute_reply": "2022-03-21T08:56:29.178989Z"
    },
    "papermill": {
     "duration": 0.04633,
     "end_time": "2022-03-21T08:56:29.179892",
     "exception": false,
     "start_time": "2022-03-21T08:56:29.133562",
     "status": "completed"
    },
    "tags": []
   },
   "outputs": [],
   "source": [
    "# global_x_transform_func = lambda x: normalize(x.to(torch.get_default_dtype()), \"unit_power\") # unit_power, unit_mag\n",
    "# global_x_transform_func = lambda x: normalize(x, \"unit_power\") # unit_power, unit_mag"
   ]
  },
  {
   "cell_type": "code",
   "execution_count": 12,
   "id": "acb78fd2",
   "metadata": {
    "execution": {
     "iopub.execute_input": "2022-03-21T08:56:29.241211Z",
     "iopub.status.busy": "2022-03-21T08:56:29.240432Z",
     "iopub.status.idle": "2022-03-21T08:56:29.264462Z",
     "shell.execute_reply": "2022-03-21T08:56:29.263735Z"
    },
    "papermill": {
     "duration": 0.057267,
     "end_time": "2022-03-21T08:56:29.264659",
     "exception": false,
     "start_time": "2022-03-21T08:56:29.207392",
     "status": "completed"
    },
    "tags": []
   },
   "outputs": [],
   "source": [
    "def add_dataset(\n",
    "    labels,\n",
    "    domains,\n",
    "    pickle_path,\n",
    "    x_transforms,\n",
    "    episode_transforms,\n",
    "    domain_prefix,\n",
    "    num_examples_per_domain_per_label,\n",
    "    source_or_target_dataset:str,\n",
    "    iterator_seed=p.seed,\n",
    "    dataset_seed=p.dataset_seed,\n",
    "    n_shot=p.n_shot,\n",
    "    n_way=p.n_way,\n",
    "    n_query=p.n_query,\n",
    "    train_val_test_k_factors=(p.train_k_factor,p.val_k_factor,p.test_k_factor),\n",
    "):\n",
    "   \n",
    "    if x_transforms == []: x_transform = None\n",
    "    else: x_transform = get_chained_transform(x_transforms)\n",
    "    \n",
    "    if episode_transforms == []: episode_transform = None\n",
    "    else: raise Exception(\"episode_transforms not implemented\")\n",
    "    \n",
    "    episode_transform = lambda tup, _prefix=domain_prefix: (_prefix + str(tup[0]), tup[1])\n",
    "\n",
    "\n",
    "    eaf = Episodic_Accessor_Factory(\n",
    "        labels=labels,\n",
    "        domains=domains,\n",
    "        num_examples_per_domain_per_label=num_examples_per_domain_per_label,\n",
    "        iterator_seed=iterator_seed,\n",
    "        dataset_seed=dataset_seed,\n",
    "        n_shot=n_shot,\n",
    "        n_way=n_way,\n",
    "        n_query=n_query,\n",
    "        train_val_test_k_factors=train_val_test_k_factors,\n",
    "        pickle_path=pickle_path,\n",
    "        x_transform_func=x_transform,\n",
    "    )\n",
    "\n",
    "    train, val, test = eaf.get_train(), eaf.get_val(), eaf.get_test()\n",
    "    train = Lazy_Iterable_Wrapper(train, episode_transform)\n",
    "    val = Lazy_Iterable_Wrapper(val, episode_transform)\n",
    "    test = Lazy_Iterable_Wrapper(test, episode_transform)\n",
    "\n",
    "    if source_or_target_dataset==\"source\":\n",
    "        train_original_source.append(train)\n",
    "        val_original_source.append(val)\n",
    "        test_original_source.append(test)\n",
    "\n",
    "        p.domains_source.extend(\n",
    "            [domain_prefix + str(u) for u in domains]\n",
    "        )\n",
    "    elif source_or_target_dataset==\"target\":\n",
    "        train_original_target.append(train)\n",
    "        val_original_target.append(val)\n",
    "        test_original_target.append(test)\n",
    "        p.domains_target.extend(\n",
    "            [domain_prefix + str(u) for u in domains]\n",
    "        )\n",
    "    else:\n",
    "        raise Exception(f\"invalid source_or_target_dataset: {source_or_target_dataset}\")\n",
    "    "
   ]
  },
  {
   "cell_type": "code",
   "execution_count": 13,
   "id": "fe266617",
   "metadata": {
    "execution": {
     "iopub.execute_input": "2022-03-21T08:56:29.316031Z",
     "iopub.status.busy": "2022-03-21T08:56:29.315651Z",
     "iopub.status.idle": "2022-03-21T08:57:13.380646Z",
     "shell.execute_reply": "2022-03-21T08:57:13.379870Z"
    },
    "papermill": {
     "duration": 44.08993,
     "end_time": "2022-03-21T08:57:13.380829",
     "exception": false,
     "start_time": "2022-03-21T08:56:29.290899",
     "status": "completed"
    },
    "tags": []
   },
   "outputs": [],
   "source": [
    "for ds in p.datasets:\n",
    "    add_dataset(**ds)"
   ]
  },
  {
   "cell_type": "code",
   "execution_count": 14,
   "id": "b90d65ac",
   "metadata": {
    "execution": {
     "iopub.execute_input": "2022-03-21T08:57:13.435996Z",
     "iopub.status.busy": "2022-03-21T08:57:13.435611Z",
     "iopub.status.idle": "2022-03-21T08:57:13.461562Z",
     "shell.execute_reply": "2022-03-21T08:57:13.460739Z"
    },
    "papermill": {
     "duration": 0.050983,
     "end_time": "2022-03-21T08:57:13.461729",
     "exception": false,
     "start_time": "2022-03-21T08:57:13.410746",
     "status": "completed"
    },
    "tags": []
   },
   "outputs": [],
   "source": [
    "# from steves_utils.CORES.utils import (\n",
    "#     ALL_NODES,\n",
    "#     ALL_NODES_MINIMUM_1000_EXAMPLES,\n",
    "#     ALL_DAYS\n",
    "# )\n",
    "\n",
    "# add_dataset(\n",
    "#     labels=ALL_NODES,\n",
    "#     domains = ALL_DAYS,\n",
    "#     num_examples_per_domain_per_label=100,\n",
    "#     pickle_path=os.path.join(get_datasets_base_path(), \"cores.stratified_ds.2022A.pkl\"),\n",
    "#     source_or_target_dataset=\"target\",\n",
    "#     x_transform_func=global_x_transform_func,\n",
    "#     domain_modifier=lambda u: f\"cores_{u}\"\n",
    "# )"
   ]
  },
  {
   "cell_type": "code",
   "execution_count": 15,
   "id": "76db484d",
   "metadata": {
    "execution": {
     "iopub.execute_input": "2022-03-21T08:57:13.513377Z",
     "iopub.status.busy": "2022-03-21T08:57:13.512798Z",
     "iopub.status.idle": "2022-03-21T08:57:13.533943Z",
     "shell.execute_reply": "2022-03-21T08:57:13.533110Z"
    },
    "papermill": {
     "duration": 0.045492,
     "end_time": "2022-03-21T08:57:13.534112",
     "exception": false,
     "start_time": "2022-03-21T08:57:13.488620",
     "status": "completed"
    },
    "tags": []
   },
   "outputs": [],
   "source": [
    "# from steves_utils.ORACLE.utils_v2 import (\n",
    "#     ALL_DISTANCES_FEET,\n",
    "#     ALL_RUNS,\n",
    "#     ALL_SERIAL_NUMBERS,\n",
    "# )\n",
    "\n",
    "\n",
    "# add_dataset(\n",
    "#     labels=ALL_SERIAL_NUMBERS,\n",
    "#     domains = list(set(ALL_DISTANCES_FEET) - {2,62}),\n",
    "#     num_examples_per_domain_per_label=100,\n",
    "#     pickle_path=os.path.join(get_datasets_base_path(), \"oracle.Run2_framed_2000Examples_stratified_ds.2022A.pkl\"),\n",
    "#     source_or_target_dataset=\"source\",\n",
    "#     x_transform_func=global_x_transform_func,\n",
    "#     domain_modifier=lambda u: f\"oracle1_{u}\"\n",
    "# )\n"
   ]
  },
  {
   "cell_type": "code",
   "execution_count": 16,
   "id": "97dea9d2",
   "metadata": {
    "execution": {
     "iopub.execute_input": "2022-03-21T08:57:13.586230Z",
     "iopub.status.busy": "2022-03-21T08:57:13.585523Z",
     "iopub.status.idle": "2022-03-21T08:57:13.606587Z",
     "shell.execute_reply": "2022-03-21T08:57:13.605762Z"
    },
    "papermill": {
     "duration": 0.045848,
     "end_time": "2022-03-21T08:57:13.606752",
     "exception": false,
     "start_time": "2022-03-21T08:57:13.560904",
     "status": "completed"
    },
    "tags": []
   },
   "outputs": [],
   "source": [
    "# from steves_utils.ORACLE.utils_v2 import (\n",
    "#     ALL_DISTANCES_FEET,\n",
    "#     ALL_RUNS,\n",
    "#     ALL_SERIAL_NUMBERS,\n",
    "# )\n",
    "\n",
    "\n",
    "# add_dataset(\n",
    "#     labels=ALL_SERIAL_NUMBERS,\n",
    "#     domains = list(set(ALL_DISTANCES_FEET) - {2,62,56}),\n",
    "#     num_examples_per_domain_per_label=100,\n",
    "#     pickle_path=os.path.join(get_datasets_base_path(), \"oracle.Run2_framed_2000Examples_stratified_ds.2022A.pkl\"),\n",
    "#     source_or_target_dataset=\"source\",\n",
    "#     x_transform_func=global_x_transform_func,\n",
    "#     domain_modifier=lambda u: f\"oracle2_{u}\"\n",
    "# )"
   ]
  },
  {
   "cell_type": "code",
   "execution_count": 17,
   "id": "6f289866",
   "metadata": {
    "execution": {
     "iopub.execute_input": "2022-03-21T08:57:13.657793Z",
     "iopub.status.busy": "2022-03-21T08:57:13.656809Z",
     "iopub.status.idle": "2022-03-21T08:57:13.680687Z",
     "shell.execute_reply": "2022-03-21T08:57:13.679855Z"
    },
    "papermill": {
     "duration": 0.047515,
     "end_time": "2022-03-21T08:57:13.680852",
     "exception": false,
     "start_time": "2022-03-21T08:57:13.633337",
     "status": "completed"
    },
    "tags": []
   },
   "outputs": [],
   "source": [
    "# add_dataset(\n",
    "#     labels=list(range(19)),\n",
    "#     domains = [0,1,2],\n",
    "#     num_examples_per_domain_per_label=100,\n",
    "#     pickle_path=os.path.join(get_datasets_base_path(), \"metehan.stratified_ds.2022A.pkl\"),\n",
    "#     source_or_target_dataset=\"target\",\n",
    "#     x_transform_func=global_x_transform_func,\n",
    "#     domain_modifier=lambda u: f\"met_{u}\"\n",
    "# )"
   ]
  },
  {
   "cell_type": "code",
   "execution_count": 18,
   "id": "86a863c3",
   "metadata": {
    "execution": {
     "iopub.execute_input": "2022-03-21T08:57:13.735519Z",
     "iopub.status.busy": "2022-03-21T08:57:13.735133Z",
     "iopub.status.idle": "2022-03-21T08:57:13.752539Z",
     "shell.execute_reply": "2022-03-21T08:57:13.751692Z"
    },
    "papermill": {
     "duration": 0.041778,
     "end_time": "2022-03-21T08:57:13.752716",
     "exception": false,
     "start_time": "2022-03-21T08:57:13.710938",
     "status": "completed"
    },
    "tags": []
   },
   "outputs": [],
   "source": [
    "# # from steves_utils.wisig.utils import (\n",
    "# #     ALL_NODES_MINIMUM_100_EXAMPLES,\n",
    "# #     ALL_NODES_MINIMUM_500_EXAMPLES,\n",
    "# #     ALL_NODES_MINIMUM_1000_EXAMPLES,\n",
    "# #     ALL_DAYS\n",
    "# # )\n",
    "\n",
    "# import steves_utils.wisig.utils as wisig\n",
    "\n",
    "\n",
    "# add_dataset(\n",
    "#     labels=wisig.ALL_NODES_MINIMUM_100_EXAMPLES,\n",
    "#     domains = wisig.ALL_DAYS,\n",
    "#     num_examples_per_domain_per_label=100,\n",
    "#     pickle_path=os.path.join(get_datasets_base_path(), \"wisig.node3-19.stratified_ds.2022A.pkl\"),\n",
    "#     source_or_target_dataset=\"target\",\n",
    "#     x_transform_func=global_x_transform_func,\n",
    "#     domain_modifier=lambda u: f\"wisig_{u}\"\n",
    "# )"
   ]
  },
  {
   "cell_type": "code",
   "execution_count": 19,
   "id": "fd5442bc",
   "metadata": {
    "execution": {
     "iopub.execute_input": "2022-03-21T08:57:13.812518Z",
     "iopub.status.busy": "2022-03-21T08:57:13.811857Z",
     "iopub.status.idle": "2022-03-21T08:57:13.830548Z",
     "shell.execute_reply": "2022-03-21T08:57:13.829746Z"
    },
    "papermill": {
     "duration": 0.049615,
     "end_time": "2022-03-21T08:57:13.830712",
     "exception": false,
     "start_time": "2022-03-21T08:57:13.781097",
     "status": "completed"
    },
    "tags": []
   },
   "outputs": [],
   "source": [
    "###################################\n",
    "# Build the dataset\n",
    "###################################\n",
    "train_original_source = Iterable_Aggregator(train_original_source, p.seed)\n",
    "val_original_source = Iterable_Aggregator(val_original_source, p.seed)\n",
    "test_original_source = Iterable_Aggregator(test_original_source, p.seed)\n",
    "\n",
    "\n",
    "train_original_target = Iterable_Aggregator(train_original_target, p.seed)\n",
    "val_original_target = Iterable_Aggregator(val_original_target, p.seed)\n",
    "test_original_target = Iterable_Aggregator(test_original_target, p.seed)\n",
    "\n",
    "# For CNN We only use X and Y. And we only train on the source.\n",
    "# Properly form the data using a transform lambda and Lazy_Iterable_Wrapper. Finally wrap them in a dataloader\n",
    "\n",
    "transform_lambda = lambda ex: ex[1] # Original is (<domain>, <episode>) so we strip down to episode only\n",
    "\n",
    "train_processed_source = Lazy_Iterable_Wrapper(train_original_source, transform_lambda)\n",
    "val_processed_source   = Lazy_Iterable_Wrapper(val_original_source, transform_lambda)\n",
    "test_processed_source  = Lazy_Iterable_Wrapper(test_original_source, transform_lambda)\n",
    "\n",
    "train_processed_target = Lazy_Iterable_Wrapper(train_original_target, transform_lambda)\n",
    "val_processed_target   = Lazy_Iterable_Wrapper(val_original_target, transform_lambda)\n",
    "test_processed_target  = Lazy_Iterable_Wrapper(test_original_target, transform_lambda)\n",
    "\n",
    "datasets = EasyDict({\n",
    "    \"source\": {\n",
    "        \"original\": {\"train\":train_original_source, \"val\":val_original_source, \"test\":test_original_source},\n",
    "        \"processed\": {\"train\":train_processed_source, \"val\":val_processed_source, \"test\":test_processed_source}\n",
    "    },\n",
    "    \"target\": {\n",
    "        \"original\": {\"train\":train_original_target, \"val\":val_original_target, \"test\":test_original_target},\n",
    "        \"processed\": {\"train\":train_processed_target, \"val\":val_processed_target, \"test\":test_processed_target}\n",
    "    },\n",
    "})"
   ]
  },
  {
   "cell_type": "code",
   "execution_count": 20,
   "id": "5b3c01fc",
   "metadata": {
    "execution": {
     "iopub.execute_input": "2022-03-21T08:57:13.886109Z",
     "iopub.status.busy": "2022-03-21T08:57:13.885532Z",
     "iopub.status.idle": "2022-03-21T08:57:29.989018Z",
     "shell.execute_reply": "2022-03-21T08:57:29.989675Z"
    },
    "papermill": {
     "duration": 16.130677,
     "end_time": "2022-03-21T08:57:29.989898",
     "exception": false,
     "start_time": "2022-03-21T08:57:13.859221",
     "status": "completed"
    },
    "tags": []
   },
   "outputs": [
    {
     "name": "stdout",
     "output_type": "stream",
     "text": [
      "{'ORACLE.run150', 'ORACLE.run18', 'ORACLE.run132', 'ORACLE.run138', 'ORACLE.run114', 'ORACLE.run126', 'ORACLE.run120', 'ORACLE.run144'}\n"
     ]
    },
    {
     "name": "stdout",
     "output_type": "stream",
     "text": [
      "{'Wisig_4', 'Wisig_2', 'Wisig_1', 'Wisig_3'}\n"
     ]
    },
    {
     "name": "stdout",
     "output_type": "stream",
     "text": [
      "tensor([[[ 0.6495,  0.3202, -0.9787,  ..., -0.2744,  1.3812,  0.4757],\n",
      "         [ 0.1555,  1.2166, -0.3110,  ..., -1.0611, -0.1738, -0.7043]],\n",
      "\n",
      "        [[-0.6653,  0.5267,  0.5452,  ..., -0.5452, -1.2104, -0.7669],\n",
      "         [-0.4990, -1.0349,  0.9517,  ...,  1.0441, -0.7854,  0.2864]],\n",
      "\n",
      "        [[-0.0370,  1.1380, -0.2313,  ..., -1.0917, -0.1573, -0.7402],\n",
      "         [-0.5829, -0.1665,  1.0177,  ..., -0.0185, -1.4618, -0.5551]],\n",
      "\n",
      "        ...,\n",
      "\n",
      "        [[ 0.7020,  0.1576, -0.9455,  ..., -0.2650,  1.3467,  0.3940],\n",
      "         [ 0.1648,  1.0745, -0.4083,  ..., -1.0960, -0.1433, -0.9384]],\n",
      "\n",
      "        [[ 0.9806,  0.3002, -1.2808,  ..., -0.1067,  1.0273, -0.7472],\n",
      "         [ 0.1001,  0.8339, -0.1201,  ..., -0.9473, -0.8139, -0.9473]],\n",
      "\n",
      "        [[ 0.8709,  0.5375, -0.9934,  ..., -0.7689, -0.2041, -1.3336],\n",
      "         [-0.7008,  0.5307,  0.9254,  ..., -0.8097, -1.1976,  0.2450]]])\n"
     ]
    }
   ],
   "source": [
    "from steves_utils.transforms import get_average_magnitude, get_average_power\n",
    "\n",
    "print(set([u for u,_ in val_original_source]))\n",
    "print(set([u for u,_ in val_original_target]))\n",
    "\n",
    "s_x, s_y, q_x, q_y, _ = next(iter(train_processed_source))\n",
    "print(s_x)\n",
    "\n",
    "# for ds in [\n",
    "#     train_processed_source,\n",
    "#     val_processed_source,\n",
    "#     test_processed_source,\n",
    "#     train_processed_target,\n",
    "#     val_processed_target,\n",
    "#     test_processed_target\n",
    "# ]:\n",
    "#     for s_x, s_y, q_x, q_y, _ in ds:\n",
    "#         for X in (s_x, q_x):\n",
    "#             for x in X:\n",
    "#                 assert np.isclose(get_average_magnitude(x.numpy()), 1.0)\n",
    "#                 assert np.isclose(get_average_power(x.numpy()), 1.0)\n",
    "                "
   ]
  },
  {
   "cell_type": "code",
   "execution_count": 21,
   "id": "bbdacba1",
   "metadata": {
    "execution": {
     "iopub.execute_input": "2022-03-21T08:57:30.044831Z",
     "iopub.status.busy": "2022-03-21T08:57:30.044452Z",
     "iopub.status.idle": "2022-03-21T08:57:30.330493Z",
     "shell.execute_reply": "2022-03-21T08:57:30.330812Z"
    },
    "papermill": {
     "duration": 0.314527,
     "end_time": "2022-03-21T08:57:30.330967",
     "exception": false,
     "start_time": "2022-03-21T08:57:30.016440",
     "status": "completed"
    },
    "tags": []
   },
   "outputs": [
    {
     "name": "stdout",
     "output_type": "stream",
     "text": [
      "(2, 256)\n"
     ]
    }
   ],
   "source": [
    "###################################\n",
    "# Build the model\n",
    "###################################\n",
    "# easfsl only wants a tuple for the shape\n",
    "model = Steves_Prototypical_Network(x_net, device=p.device, x_shape=tuple(p.x_shape))\n",
    "optimizer = Adam(params=model.parameters(), lr=p.lr)"
   ]
  },
  {
   "cell_type": "code",
   "execution_count": 22,
   "id": "22b39ac5",
   "metadata": {
    "execution": {
     "iopub.execute_input": "2022-03-21T08:57:30.382062Z",
     "iopub.status.busy": "2022-03-21T08:57:30.381685Z",
     "iopub.status.idle": "2022-03-21T09:19:02.149207Z",
     "shell.execute_reply": "2022-03-21T09:19:02.148861Z"
    },
    "papermill": {
     "duration": 1291.794937,
     "end_time": "2022-03-21T09:19:02.149293",
     "exception": false,
     "start_time": "2022-03-21T08:57:30.354356",
     "status": "completed"
    },
    "tags": []
   },
   "outputs": [
    {
     "name": "stdout",
     "output_type": "stream",
     "text": [
      "epoch: 1, [batch: 1 / 6720], examples_per_second: 32.1270, train_label_loss: 3.0184, \n"
     ]
    },
    {
     "name": "stdout",
     "output_type": "stream",
     "text": [
      "epoch: 1, [batch: 672 / 6720], examples_per_second: 2307.0597, train_label_loss: 0.9097, \n"
     ]
    },
    {
     "name": "stdout",
     "output_type": "stream",
     "text": [
      "epoch: 1, [batch: 1344 / 6720], examples_per_second: 2607.8270, train_label_loss: 0.6771, \n"
     ]
    },
    {
     "name": "stdout",
     "output_type": "stream",
     "text": [
      "epoch: 1, [batch: 2016 / 6720], examples_per_second: 2613.1845, train_label_loss: 0.8936, \n"
     ]
    },
    {
     "name": "stdout",
     "output_type": "stream",
     "text": [
      "epoch: 1, [batch: 2688 / 6720], examples_per_second: 2561.9677, train_label_loss: 0.5017, \n"
     ]
    },
    {
     "name": "stdout",
     "output_type": "stream",
     "text": [
      "epoch: 1, [batch: 3360 / 6720], examples_per_second: 2307.8293, train_label_loss: 0.8468, \n"
     ]
    },
    {
     "name": "stdout",
     "output_type": "stream",
     "text": [
      "epoch: 1, [batch: 4032 / 6720], examples_per_second: 2287.6337, train_label_loss: 0.4590, \n"
     ]
    },
    {
     "name": "stdout",
     "output_type": "stream",
     "text": [
      "epoch: 1, [batch: 4704 / 6720], examples_per_second: 2384.4874, train_label_loss: 0.4310, \n"
     ]
    },
    {
     "name": "stdout",
     "output_type": "stream",
     "text": [
      "epoch: 1, [batch: 5376 / 6720], examples_per_second: 2601.5575, train_label_loss: 0.7015, \n"
     ]
    },
    {
     "name": "stdout",
     "output_type": "stream",
     "text": [
      "epoch: 1, [batch: 6048 / 6720], examples_per_second: 2591.2343, train_label_loss: 0.3798, \n"
     ]
    },
    {
     "name": "stdout",
     "output_type": "stream",
     "text": [
      "=============================================================\n",
      "epoch: 1, source_val_acc_label: 0.7799, target_val_acc_label: 0.5961, source_val_label_loss: 7.1634, target_val_label_loss: 903.5424, \n",
      "=============================================================\n"
     ]
    },
    {
     "name": "stdout",
     "output_type": "stream",
     "text": [
      "New best\n"
     ]
    },
    {
     "name": "stdout",
     "output_type": "stream",
     "text": [
      "epoch: 2, [batch: 1 / 6720], examples_per_second: 2.0389, train_label_loss: 0.5487, \n"
     ]
    },
    {
     "name": "stdout",
     "output_type": "stream",
     "text": [
      "epoch: 2, [batch: 672 / 6720], examples_per_second: 2337.2385, train_label_loss: 0.6204, \n"
     ]
    },
    {
     "name": "stdout",
     "output_type": "stream",
     "text": [
      "epoch: 2, [batch: 1344 / 6720], examples_per_second: 2586.8484, train_label_loss: 0.5185, \n"
     ]
    },
    {
     "name": "stdout",
     "output_type": "stream",
     "text": [
      "epoch: 2, [batch: 2016 / 6720], examples_per_second: 2654.0082, train_label_loss: 0.2307, \n"
     ]
    },
    {
     "name": "stdout",
     "output_type": "stream",
     "text": [
      "epoch: 2, [batch: 2688 / 6720], examples_per_second: 2516.4006, train_label_loss: 0.5807, \n"
     ]
    },
    {
     "name": "stdout",
     "output_type": "stream",
     "text": [
      "epoch: 2, [batch: 3360 / 6720], examples_per_second: 2324.9752, train_label_loss: 0.4704, \n"
     ]
    },
    {
     "name": "stdout",
     "output_type": "stream",
     "text": [
      "epoch: 2, [batch: 4032 / 6720], examples_per_second: 2328.5255, train_label_loss: 0.3779, \n"
     ]
    },
    {
     "name": "stdout",
     "output_type": "stream",
     "text": [
      "epoch: 2, [batch: 4704 / 6720], examples_per_second: 2471.3591, train_label_loss: 0.5043, \n"
     ]
    },
    {
     "name": "stdout",
     "output_type": "stream",
     "text": [
      "epoch: 2, [batch: 5376 / 6720], examples_per_second: 2586.1308, train_label_loss: 0.6888, \n"
     ]
    },
    {
     "name": "stdout",
     "output_type": "stream",
     "text": [
      "epoch: 2, [batch: 6048 / 6720], examples_per_second: 2692.5611, train_label_loss: 0.1998, \n"
     ]
    },
    {
     "name": "stdout",
     "output_type": "stream",
     "text": [
      "=============================================================\n",
      "epoch: 2, source_val_acc_label: 0.8053, target_val_acc_label: 0.5812, source_val_label_loss: 0.5305, target_val_label_loss: 579.9338, \n",
      "=============================================================\n"
     ]
    },
    {
     "name": "stdout",
     "output_type": "stream",
     "text": [
      "epoch: 3, [batch: 1 / 6720], examples_per_second: 2.0193, train_label_loss: 0.3085, \n"
     ]
    },
    {
     "name": "stdout",
     "output_type": "stream",
     "text": [
      "epoch: 3, [batch: 672 / 6720], examples_per_second: 2339.5252, train_label_loss: 0.5682, \n"
     ]
    },
    {
     "name": "stdout",
     "output_type": "stream",
     "text": [
      "epoch: 3, [batch: 1344 / 6720], examples_per_second: 2560.9231, train_label_loss: 0.9622, \n"
     ]
    },
    {
     "name": "stdout",
     "output_type": "stream",
     "text": [
      "epoch: 3, [batch: 2016 / 6720], examples_per_second: 2566.7377, train_label_loss: 0.2045, \n"
     ]
    },
    {
     "name": "stdout",
     "output_type": "stream",
     "text": [
      "epoch: 3, [batch: 2688 / 6720], examples_per_second: 2499.9226, train_label_loss: 0.5913, \n"
     ]
    },
    {
     "name": "stdout",
     "output_type": "stream",
     "text": [
      "epoch: 3, [batch: 3360 / 6720], examples_per_second: 2299.9796, train_label_loss: 0.6173, \n"
     ]
    },
    {
     "name": "stdout",
     "output_type": "stream",
     "text": [
      "epoch: 3, [batch: 4032 / 6720], examples_per_second: 2298.7670, train_label_loss: 0.4030, \n"
     ]
    },
    {
     "name": "stdout",
     "output_type": "stream",
     "text": [
      "epoch: 3, [batch: 4704 / 6720], examples_per_second: 2532.7092, train_label_loss: 0.2875, \n"
     ]
    },
    {
     "name": "stdout",
     "output_type": "stream",
     "text": [
      "epoch: 3, [batch: 5376 / 6720], examples_per_second: 2602.5979, train_label_loss: 0.5294, \n"
     ]
    },
    {
     "name": "stdout",
     "output_type": "stream",
     "text": [
      "epoch: 3, [batch: 6048 / 6720], examples_per_second: 2619.8959, train_label_loss: 0.2600, \n"
     ]
    },
    {
     "name": "stdout",
     "output_type": "stream",
     "text": [
      "=============================================================\n",
      "epoch: 3, source_val_acc_label: 0.8492, target_val_acc_label: 0.5812, source_val_label_loss: 0.4118, target_val_label_loss: 661.3585, \n",
      "=============================================================\n"
     ]
    },
    {
     "name": "stdout",
     "output_type": "stream",
     "text": [
      "epoch: 4, [batch: 1 / 6720], examples_per_second: 2.0135, train_label_loss: 0.3357, \n"
     ]
    },
    {
     "name": "stdout",
     "output_type": "stream",
     "text": [
      "epoch: 4, [batch: 672 / 6720], examples_per_second: 2354.9646, train_label_loss: 0.3497, \n"
     ]
    },
    {
     "name": "stdout",
     "output_type": "stream",
     "text": [
      "epoch: 4, [batch: 1344 / 6720], examples_per_second: 2569.3745, train_label_loss: 0.1919, \n"
     ]
    },
    {
     "name": "stdout",
     "output_type": "stream",
     "text": [
      "epoch: 4, [batch: 2016 / 6720], examples_per_second: 2612.8293, train_label_loss: 0.1855, \n"
     ]
    },
    {
     "name": "stdout",
     "output_type": "stream",
     "text": [
      "epoch: 4, [batch: 2688 / 6720], examples_per_second: 2520.8882, train_label_loss: 0.4039, \n"
     ]
    },
    {
     "name": "stdout",
     "output_type": "stream",
     "text": [
      "epoch: 4, [batch: 3360 / 6720], examples_per_second: 2307.7218, train_label_loss: 0.9648, \n"
     ]
    },
    {
     "name": "stdout",
     "output_type": "stream",
     "text": [
      "epoch: 4, [batch: 4032 / 6720], examples_per_second: 2289.1036, train_label_loss: 0.2556, \n"
     ]
    },
    {
     "name": "stdout",
     "output_type": "stream",
     "text": [
      "epoch: 4, [batch: 4704 / 6720], examples_per_second: 2543.6420, train_label_loss: 0.3620, \n"
     ]
    },
    {
     "name": "stdout",
     "output_type": "stream",
     "text": [
      "epoch: 4, [batch: 5376 / 6720], examples_per_second: 2594.9470, train_label_loss: 0.4411, \n"
     ]
    },
    {
     "name": "stdout",
     "output_type": "stream",
     "text": [
      "epoch: 4, [batch: 6048 / 6720], examples_per_second: 2604.3274, train_label_loss: 0.2412, \n"
     ]
    },
    {
     "name": "stdout",
     "output_type": "stream",
     "text": [
      "=============================================================\n",
      "epoch: 4, source_val_acc_label: 0.8562, target_val_acc_label: 0.5660, source_val_label_loss: 0.3917, target_val_label_loss: 751.1503, \n",
      "=============================================================\n"
     ]
    },
    {
     "name": "stdout",
     "output_type": "stream",
     "text": [
      "epoch: 5, [batch: 1 / 6720], examples_per_second: 2.4402, train_label_loss: 0.2215, \n"
     ]
    },
    {
     "name": "stdout",
     "output_type": "stream",
     "text": [
      "epoch: 5, [batch: 672 / 6720], examples_per_second: 2981.2691, train_label_loss: 0.6836, \n"
     ]
    },
    {
     "name": "stdout",
     "output_type": "stream",
     "text": [
      "epoch: 5, [batch: 1344 / 6720], examples_per_second: 3226.5032, train_label_loss: 0.4045, \n"
     ]
    },
    {
     "name": "stdout",
     "output_type": "stream",
     "text": [
      "epoch: 5, [batch: 2016 / 6720], examples_per_second: 3303.8115, train_label_loss: 0.4292, \n"
     ]
    },
    {
     "name": "stdout",
     "output_type": "stream",
     "text": [
      "epoch: 5, [batch: 2688 / 6720], examples_per_second: 3096.7591, train_label_loss: 0.4604, \n"
     ]
    },
    {
     "name": "stdout",
     "output_type": "stream",
     "text": [
      "epoch: 5, [batch: 3360 / 6720], examples_per_second: 3479.9965, train_label_loss: 0.3248, \n"
     ]
    },
    {
     "name": "stdout",
     "output_type": "stream",
     "text": [
      "epoch: 5, [batch: 4032 / 6720], examples_per_second: 3962.8597, train_label_loss: 0.3782, \n"
     ]
    },
    {
     "name": "stdout",
     "output_type": "stream",
     "text": [
      "epoch: 5, [batch: 4704 / 6720], examples_per_second: 3317.4244, train_label_loss: 0.2240, \n"
     ]
    },
    {
     "name": "stdout",
     "output_type": "stream",
     "text": [
      "epoch: 5, [batch: 5376 / 6720], examples_per_second: 2989.8004, train_label_loss: 0.3000, \n"
     ]
    },
    {
     "name": "stdout",
     "output_type": "stream",
     "text": [
      "epoch: 5, [batch: 6048 / 6720], examples_per_second: 2974.5740, train_label_loss: 0.1333, \n"
     ]
    },
    {
     "name": "stdout",
     "output_type": "stream",
     "text": [
      "=============================================================\n",
      "epoch: 5, source_val_acc_label: 0.8862, target_val_acc_label: 0.5552, source_val_label_loss: 0.3164, target_val_label_loss: 779.6683, \n",
      "=============================================================\n"
     ]
    },
    {
     "name": "stdout",
     "output_type": "stream",
     "text": [
      "Patience (3) exhausted\n"
     ]
    }
   ],
   "source": [
    "###################################\n",
    "# train\n",
    "###################################\n",
    "jig = PTN_Train_Eval_Test_Jig(model, p.BEST_MODEL_PATH, p.device)\n",
    "\n",
    "jig.train(\n",
    "    train_iterable=datasets.source.processed.train,\n",
    "    source_val_iterable=datasets.source.processed.val,\n",
    "    target_val_iterable=datasets.target.processed.val,\n",
    "    num_epochs=p.n_epoch,\n",
    "    num_logs_per_epoch=p.NUM_LOGS_PER_EPOCH,\n",
    "    patience=p.patience,\n",
    "    optimizer=optimizer,\n",
    "    criteria_for_best=p.criteria_for_best,\n",
    ")"
   ]
  },
  {
   "cell_type": "code",
   "execution_count": 23,
   "id": "31e8fabf",
   "metadata": {
    "execution": {
     "iopub.execute_input": "2022-03-21T09:19:02.230484Z",
     "iopub.status.busy": "2022-03-21T09:19:02.230107Z",
     "iopub.status.idle": "2022-03-21T09:19:02.263578Z",
     "shell.execute_reply": "2022-03-21T09:19:02.262842Z"
    },
    "papermill": {
     "duration": 0.076449,
     "end_time": "2022-03-21T09:19:02.263769",
     "exception": false,
     "start_time": "2022-03-21T09:19:02.187320",
     "status": "completed"
    },
    "tags": []
   },
   "outputs": [],
   "source": [
    "total_experiment_time_secs = time.time() - start_time_secs"
   ]
  },
  {
   "cell_type": "code",
   "execution_count": 24,
   "id": "87b9595b",
   "metadata": {
    "execution": {
     "iopub.execute_input": "2022-03-21T09:19:02.351698Z",
     "iopub.status.busy": "2022-03-21T09:19:02.351266Z",
     "iopub.status.idle": "2022-03-21T09:23:32.422660Z",
     "shell.execute_reply": "2022-03-21T09:23:32.423759Z"
    },
    "papermill": {
     "duration": 270.117828,
     "end_time": "2022-03-21T09:23:32.424107",
     "exception": false,
     "start_time": "2022-03-21T09:19:02.306279",
     "status": "completed"
    },
    "tags": []
   },
   "outputs": [],
   "source": [
    "###################################\n",
    "# Evaluate the model\n",
    "###################################\n",
    "source_test_label_accuracy, source_test_label_loss = jig.test(datasets.source.processed.test)\n",
    "target_test_label_accuracy, target_test_label_loss = jig.test(datasets.target.processed.test)\n",
    "\n",
    "source_val_label_accuracy, source_val_label_loss = jig.test(datasets.source.processed.val)\n",
    "target_val_label_accuracy, target_val_label_loss = jig.test(datasets.target.processed.val)\n",
    "\n",
    "history = jig.get_history()\n",
    "\n",
    "total_epochs_trained = len(history[\"epoch_indices\"])\n",
    "\n",
    "val_dl = Iterable_Aggregator((datasets.source.original.val,datasets.target.original.val))\n",
    "\n",
    "confusion = ptn_confusion_by_domain_over_dataloader(model, p.device, val_dl)\n",
    "per_domain_accuracy = per_domain_accuracy_from_confusion(confusion)\n",
    "\n",
    "# Add a key to per_domain_accuracy for if it was a source domain\n",
    "for domain, accuracy in per_domain_accuracy.items():\n",
    "    per_domain_accuracy[domain] = {\n",
    "        \"accuracy\": accuracy,\n",
    "        \"source?\": domain in p.domains_source\n",
    "    }\n",
    "\n",
    "# Do an independent accuracy assesment JUST TO BE SURE!\n",
    "# _source_test_label_accuracy = independent_accuracy_assesment(model, datasets.source.processed.test, p.device)\n",
    "# _target_test_label_accuracy = independent_accuracy_assesment(model, datasets.target.processed.test, p.device)\n",
    "# _source_val_label_accuracy = independent_accuracy_assesment(model, datasets.source.processed.val, p.device)\n",
    "# _target_val_label_accuracy = independent_accuracy_assesment(model, datasets.target.processed.val, p.device)\n",
    "\n",
    "# assert(_source_test_label_accuracy == source_test_label_accuracy)\n",
    "# assert(_target_test_label_accuracy == target_test_label_accuracy)\n",
    "# assert(_source_val_label_accuracy == source_val_label_accuracy)\n",
    "# assert(_target_val_label_accuracy == target_val_label_accuracy)\n",
    "\n",
    "experiment = {\n",
    "    \"experiment_name\": p.experiment_name,\n",
    "    \"parameters\": dict(p),\n",
    "    \"results\": {\n",
    "        \"source_test_label_accuracy\": source_test_label_accuracy,\n",
    "        \"source_test_label_loss\": source_test_label_loss,\n",
    "        \"target_test_label_accuracy\": target_test_label_accuracy,\n",
    "        \"target_test_label_loss\": target_test_label_loss,\n",
    "        \"source_val_label_accuracy\": source_val_label_accuracy,\n",
    "        \"source_val_label_loss\": source_val_label_loss,\n",
    "        \"target_val_label_accuracy\": target_val_label_accuracy,\n",
    "        \"target_val_label_loss\": target_val_label_loss,\n",
    "        \"total_epochs_trained\": total_epochs_trained,\n",
    "        \"total_experiment_time_secs\": total_experiment_time_secs,\n",
    "        \"confusion\": confusion,\n",
    "        \"per_domain_accuracy\": per_domain_accuracy,\n",
    "    },\n",
    "    \"history\": history,\n",
    "    \"dataset_metrics\": get_dataset_metrics(datasets, \"ptn\"),\n",
    "}"
   ]
  },
  {
   "cell_type": "code",
   "execution_count": 25,
   "id": "54a21829",
   "metadata": {
    "execution": {
     "iopub.execute_input": "2022-03-21T09:23:32.515872Z",
     "iopub.status.busy": "2022-03-21T09:23:32.515416Z",
     "iopub.status.idle": "2022-03-21T09:23:32.723333Z",
     "shell.execute_reply": "2022-03-21T09:23:32.724459Z"
    },
    "papermill": {
     "duration": 0.253576,
     "end_time": "2022-03-21T09:23:32.724776",
     "exception": false,
     "start_time": "2022-03-21T09:23:32.471200",
     "status": "completed"
    },
    "tags": []
   },
   "outputs": [
    {
     "data": {
      "image/png": "[encoded data removed]",
      "text/plain": [
       "<Figure size 1080x504 with 1 Axes>"
      ]
     },
     "metadata": {
      "needs_background": "light"
     },
     "output_type": "display_data"
    }
   ],
   "source": [
    "ax = get_loss_curve(experiment)\n",
    "plt.show()"
   ]
  },
  {
   "cell_type": "code",
   "execution_count": 26,
   "id": "fd8a0f60",
   "metadata": {
    "execution": {
     "iopub.execute_input": "2022-03-21T09:23:32.817371Z",
     "iopub.status.busy": "2022-03-21T09:23:32.816703Z",
     "iopub.status.idle": "2022-03-21T09:23:33.175310Z",
     "shell.execute_reply": "2022-03-21T09:23:33.176056Z"
    },
    "papermill": {
     "duration": 0.405143,
     "end_time": "2022-03-21T09:23:33.176299",
     "exception": false,
     "start_time": "2022-03-21T09:23:32.771156",
     "status": "completed"
    },
    "tags": []
   },
   "outputs": [
    {
     "data": {
      "text/plain": [
       "<AxesSubplot:title={'center':'Results'}>"
      ]
     },
     "execution_count": 26,
     "metadata": {},
     "output_type": "execute_result"
    },
    {
     "data": {
      "image/png": "[encoded data removed]",
      "text/plain": [
       "<Figure size 1080x504 with 1 Axes>"
      ]
     },
     "metadata": {
      "needs_background": "light"
     },
     "output_type": "display_data"
    }
   ],
   "source": [
    "get_results_table(experiment)"
   ]
  },
  {
   "cell_type": "code",
   "execution_count": 27,
   "id": "cf8dc689",
   "metadata": {
    "execution": {
     "iopub.execute_input": "2022-03-21T09:23:33.276189Z",
     "iopub.status.busy": "2022-03-21T09:23:33.275808Z",
     "iopub.status.idle": "2022-03-21T09:23:33.526498Z",
     "shell.execute_reply": "2022-03-21T09:23:33.527190Z"
    },
    "papermill": {
     "duration": 0.301902,
     "end_time": "2022-03-21T09:23:33.527388",
     "exception": false,
     "start_time": "2022-03-21T09:23:33.225486",
     "status": "completed"
    },
    "tags": []
   },
   "outputs": [
    {
     "data": {
      "text/plain": [
       "<AxesSubplot:title={'center':'Per Domain Validation Accuracy'}, xlabel='domain'>"
      ]
     },
     "execution_count": 27,
     "metadata": {},
     "output_type": "execute_result"
    },
    {
     "data": {
      "image/png": "[encoded data removed]",
      "text/plain": [
       "<Figure size 1080x504 with 1 Axes>"
      ]
     },
     "metadata": {
      "needs_background": "light"
     },
     "output_type": "display_data"
    }
   ],
   "source": [
    "get_domain_accuracies(experiment)"
   ]
  },
  {
   "cell_type": "code",
   "execution_count": 28,
   "id": "a74ae082",
   "metadata": {
    "execution": {
     "iopub.execute_input": "2022-03-21T09:23:33.621796Z",
     "iopub.status.busy": "2022-03-21T09:23:33.621416Z",
     "iopub.status.idle": "2022-03-21T09:23:33.646214Z",
     "shell.execute_reply": "2022-03-21T09:23:33.646896Z"
    },
    "papermill": {
     "duration": 0.072795,
     "end_time": "2022-03-21T09:23:33.647080",
     "exception": false,
     "start_time": "2022-03-21T09:23:33.574285",
     "status": "completed"
    },
    "tags": []
   },
   "outputs": [
    {
     "name": "stdout",
     "output_type": "stream",
     "text": [
      "Source Test Label Accuracy: 0.78056640625 Target Test Label Accuracy: 0.5936853002070394\n",
      "Source Val Label Accuracy: 0.7799153645833333 Target Val Label Accuracy: 0.5960623678646935\n"
     ]
    }
   ],
   "source": [
    "print(\"Source Test Label Accuracy:\", experiment[\"results\"][\"source_test_label_accuracy\"], \"Target Test Label Accuracy:\", experiment[\"results\"][\"target_test_label_accuracy\"])\n",
    "print(\"Source Val Label Accuracy:\", experiment[\"results\"][\"source_val_label_accuracy\"], \"Target Val Label Accuracy:\", experiment[\"results\"][\"target_val_label_accuracy\"])"
   ]
  },
  {
   "cell_type": "code",
   "execution_count": 29,
   "id": "dacca602",
   "metadata": {
    "execution": {
     "iopub.execute_input": "2022-03-21T09:23:33.741001Z",
     "iopub.status.busy": "2022-03-21T09:23:33.740625Z",
     "iopub.status.idle": "2022-03-21T09:23:33.769262Z",
     "shell.execute_reply": "2022-03-21T09:23:33.769731Z"
    },
    "papermill": {
     "duration": 0.075296,
     "end_time": "2022-03-21T09:23:33.769859",
     "exception": false,
     "start_time": "2022-03-21T09:23:33.694563",
     "status": "completed"
    },
    "tags": [
     "experiment_json"
    ]
   },
   "outputs": [
    {
     "data": {
      "text/plain": [
       "'{\"experiment_name\": \"tl_1v2:wisig-oracle.run1.framed\", \"parameters\": {\"experiment_name\": \"tl_1v2:wisig-oracle.run1.framed\", \"device\": \"cuda\", \"lr\": 0.0001, \"n_shot\": 3, \"n_query\": 2, \"train_k_factor\": 3, \"val_k_factor\": 2, \"test_k_factor\": 2, \"torch_default_dtype\": \"torch.float32\", \"n_epoch\": 50, \"patience\": 3, \"criteria_for_best\": \"target_accuracy\", \"x_net\": [{\"class\": \"nnReshape\", \"kargs\": {\"shape\": [-1, 1, 2, 256]}}, {\"class\": \"Conv2d\", \"kargs\": {\"in_channels\": 1, \"out_channels\": 256, \"kernel_size\": [1, 7], \"bias\": false, \"padding\": [0, 3]}}, {\"class\": \"ReLU\", \"kargs\": {\"inplace\": true}}, {\"class\": \"BatchNorm2d\", \"kargs\": {\"num_features\": 256}}, {\"class\": \"Conv2d\", \"kargs\": {\"in_channels\": 256, \"out_channels\": 80, \"kernel_size\": [2, 7], \"bias\": true, \"padding\": [0, 3]}}, {\"class\": \"ReLU\", \"kargs\": {\"inplace\": true}}, {\"class\": \"BatchNorm2d\", \"kargs\": {\"num_features\": 80}}, {\"class\": \"Flatten\", \"kargs\": {}}, {\"class\": \"Linear\", \"kargs\": {\"in_features\": 20480, \"out_features\": 256}}, {\"class\": \"ReLU\", \"kargs\": {\"inplace\": true}}, {\"class\": \"BatchNorm1d\", \"kargs\": {\"num_features\": 256}}, {\"class\": \"Linear\", \"kargs\": {\"in_features\": 256, \"out_features\": 256}}], \"NUM_LOGS_PER_EPOCH\": 10, \"BEST_MODEL_PATH\": \"./best_model.pth\", \"n_way\": 16, \"datasets\": [{\"labels\": [\"1-10\", \"1-12\", \"1-14\", \"1-16\", \"1-18\", \"1-19\", \"1-8\", \"10-11\", \"10-17\", \"10-4\", \"10-7\", \"11-1\", \"11-10\", \"11-19\", \"11-20\", \"11-4\", \"11-7\", \"12-19\", \"12-20\", \"12-7\", \"13-14\", \"13-18\", \"13-19\", \"13-20\", \"13-3\", \"13-7\", \"14-10\", \"14-11\", \"14-12\", \"14-13\", \"14-14\", \"14-19\", \"14-20\", \"14-7\", \"14-8\", \"14-9\", \"15-1\", \"15-19\", \"15-6\", \"16-1\", \"16-16\", \"16-19\", \"16-20\", \"17-10\", \"17-11\", \"18-1\", \"18-10\", \"18-11\", \"18-12\", \"18-13\", \"18-14\", \"18-15\", \"18-16\", \"18-17\", \"18-19\", \"18-2\", \"18-20\", \"18-4\", \"18-5\", \"18-7\", \"18-8\", \"18-9\", \"19-1\", \"19-10\", \"19-11\", \"19-12\", \"19-13\", \"19-14\", \"19-15\", \"19-19\", \"19-2\", \"19-20\", \"19-3\", \"19-4\", \"19-6\", \"19-7\", \"19-8\", \"19-9\", \"2-1\", \"2-13\", \"2-15\", \"2-3\", \"2-4\", \"2-5\", \"2-6\", \"2-7\", \"2-8\", \"20-1\", \"20-12\", \"20-14\", \"20-15\", \"20-16\", \"20-18\", \"20-19\", \"20-20\", \"20-3\", \"20-4\", \"20-5\", \"20-7\", \"20-8\", \"3-1\", \"3-13\", \"3-18\", \"3-2\", \"3-8\", \"4-1\", \"4-10\", \"4-11\", \"5-1\", \"5-5\", \"6-1\", \"6-15\", \"6-6\", \"7-10\", \"7-11\", \"7-12\", \"7-13\", \"7-14\", \"7-7\", \"7-8\", \"7-9\", \"8-1\", \"8-13\", \"8-14\", \"8-18\", \"8-20\", \"8-3\", \"8-8\", \"9-1\", \"9-7\"], \"domains\": [1, 2, 3, 4], \"num_examples_per_domain_per_label\": -1, \"pickle_path\": \"/root/csc500-main/datasets/wisig.node3-19.stratified_ds.2022A.pkl\", \"source_or_target_dataset\": \"target\", \"x_transforms\": [\"unit_power\"], \"episode_transforms\": [], \"domain_prefix\": \"Wisig_\"}, {\"labels\": [\"3123D52\", \"3123D65\", \"3123D79\", \"3123D80\", \"3123D54\", \"3123D70\", \"3123D7B\", \"3123D89\", \"3123D58\", \"3123D76\", \"3123D7D\", \"3123EFE\", \"3123D64\", \"3123D78\", \"3123D7E\", \"3124E4A\"], \"domains\": [32, 38, 8, 44, 14, 50, 20, 26], \"num_examples_per_domain_per_label\": 2000, \"pickle_path\": \"/root/csc500-main/datasets/oracle.Run1_framed_2000Examples_stratified_ds.2022A.pkl\", \"source_or_target_dataset\": \"source\", \"x_transforms\": [\"unit_power\"], \"episode_transforms\": [], \"domain_prefix\": \"ORACLE.run1\"}], \"dataset_seed\": 420, \"seed\": 420, \"x_shape\": [2, 256], \"domains_source\": [\"ORACLE.run132\", \"ORACLE.run138\", \"ORACLE.run18\", \"ORACLE.run144\", \"ORACLE.run114\", \"ORACLE.run150\", \"ORACLE.run120\", \"ORACLE.run126\"], \"domains_target\": [\"Wisig_1\", \"Wisig_2\", \"Wisig_3\", \"Wisig_4\"]}, \"results\": {\"source_test_label_accuracy\": 0.78056640625, \"source_test_label_loss\": 9.534235954284668, \"target_test_label_accuracy\": 0.5936853002070394, \"target_test_label_loss\": 894.3921508789062, \"source_val_label_accuracy\": 0.7799153645833333, \"source_val_label_loss\": 7.163368225097656, \"target_val_label_accuracy\": 0.5960623678646935, \"target_val_label_loss\": 903.5424194335938, \"total_epochs_trained\": 5, \"total_experiment_time_secs\": 1353.2316024303436, \"confusion\": {\"ORACLE.run114\": {\"15\": {\"15\": 238, \"7\": 2}, \"5\": {\"5\": 186, \"1\": 18, \"4\": 30, \"3\": 4, \"2\": 2}, \"7\": {\"7\": 240}, \"4\": {\"4\": 223, \"5\": 12, \"1\": 2, \"13\": 1, \"3\": 1, \"2\": 1}, \"10\": {\"10\": 239, \"0\": 1}, \"11\": {\"11\": 227, \"0\": 9, \"9\": 4}, \"12\": {\"12\": 239, \"9\": 1}, \"0\": {\"0\": 230, \"10\": 7, \"3\": 3}, \"14\": {\"14\": 228, \"2\": 8, \"3\": 1, \"13\": 3}, \"8\": {\"8\": 240}, \"13\": {\"6\": 94, \"13\": 82, \"14\": 35, \"2\": 24, \"3\": 1, \"5\": 3, \"4\": 1}, \"6\": {\"13\": 66, \"6\": 166, \"14\": 4, \"2\": 4}, \"1\": {\"1\": 233, \"5\": 7}, \"3\": {\"3\": 231, \"4\": 5, \"2\": 3, \"14\": 1}, \"9\": {\"9\": 240}, \"2\": {\"2\": 145, \"13\": 12, \"14\": 43, \"3\": 13, \"6\": 9, \"15\": 3, \"4\": 5, \"5\": 10}}, \"ORACLE.run120\": {\"4\": {\"4\": 225, \"8\": 14, \"3\": 1}, \"10\": {\"10\": 237, \"14\": 3}, \"15\": {\"15\": 207, \"1\": 11, \"12\": 1, \"5\": 8, \"0\": 12, \"13\": 1}, \"0\": {\"5\": 58, \"0\": 166, \"15\": 15, \"8\": 1}, \"6\": {\"6\": 231, \"14\": 8, \"7\": 1}, \"3\": {\"9\": 26, \"3\": 156, \"12\": 41, \"4\": 4, \"7\": 3, \"1\": 2, \"2\": 8}, \"7\": {\"7\": 221, \"8\": 1, \"2\": 10, \"9\": 4, \"3\": 4}, \"2\": {\"7\": 22, \"9\": 47, \"2\": 150, \"3\": 10, \"12\": 7, \"13\": 3, \"1\": 1}, \"8\": {\"8\": 232, \"7\": 3, \"4\": 4, \"14\": 1}, \"11\": {\"11\": 240}, \"14\": {\"14\": 232, \"6\": 6, \"10\": 2}, \"12\": {\"2\": 4, \"12\": 141, \"3\": 44, \"1\": 37, \"9\": 10, \"15\": 1, \"5\": 3}, \"13\": {\"13\": 238, \"15\": 1, \"2\": 1}, \"9\": {\"9\": 143, \"3\": 27, \"2\": 60, \"12\": 8, \"7\": 2}, \"5\": {\"5\": 181, \"0\": 33, \"15\": 10, \"1\": 11, \"12\": 5}, \"1\": {\"1\": 184, \"12\": 37, \"2\": 1, \"5\": 9, \"15\": 7, \"3\": 1, \"9\": 1}}, \"ORACLE.run150\": {\"5\": {\"5\": 116, \"7\": 23, \"1\": 15, \"13\": 41, \"4\": 42, \"10\": 2, \"6\": 1}, \"12\": {\"12\": 236, \"9\": 3, \"14\": 1}, \"14\": {\"14\": 240}, \"4\": {\"4\": 123, \"7\": 4, \"1\": 56, \"5\": 25, \"13\": 6, \"15\": 23, \"6\": 3}, \"13\": {\"7\": 41, \"13\": 167, \"5\": 21, \"6\": 7, \"4\": 1, \"10\": 2, \"0\": 1}, \"10\": {\"10\": 234, \"8\": 1, \"13\": 1, \"7\": 1, \"0\": 3}, \"9\": {\"11\": 13, \"9\": 217, \"12\": 10}, \"15\": {\"15\": 194, \"1\": 36, \"11\": 3, \"4\": 7}, \"6\": {\"6\": 216, \"13\": 12, \"1\": 6, \"4\": 3, \"5\": 1, \"15\": 2}, \"2\": {\"2\": 224, \"0\": 16}, \"0\": {\"0\": 218, \"10\": 9, \"2\": 13}, \"11\": {\"11\": 222, \"1\": 2, \"15\": 7, \"9\": 4, \"12\": 2, \"14\": 3}, \"3\": {\"8\": 12, \"3\": 228}, \"8\": {\"8\": 235, \"10\": 4, \"3\": 1}, \"7\": {\"7\": 167, \"10\": 12, \"13\": 47, \"5\": 8, \"3\": 2, \"6\": 2, \"8\": 2}, \"1\": {\"1\": 165, \"15\": 38, \"4\": 27, \"11\": 1, \"5\": 4, \"6\": 5}}, \"ORACLE.run126\": {\"7\": {\"7\": 174, \"3\": 24, \"8\": 10, \"2\": 15, \"4\": 9, \"14\": 3, \"15\": 1, \"0\": 3, \"10\": 1}, \"6\": {\"6\": 200, \"9\": 31, \"15\": 5, \"8\": 1, \"0\": 2, \"10\": 1}, \"14\": {\"14\": 123, \"4\": 61, \"0\": 32, \"8\": 3, \"1\": 15, \"10\": 6}, \"15\": {\"15\": 136, \"13\": 9, \"9\": 72, \"8\": 8, \"5\": 6, \"0\": 1, \"10\": 1, \"2\": 3, \"7\": 2, \"6\": 2}, \"5\": {\"5\": 195, \"15\": 11, \"13\": 22, \"2\": 8, \"9\": 2, \"3\": 1, \"8\": 1}, \"10\": {\"10\": 118, \"0\": 60, \"8\": 38, \"6\": 4, \"14\": 12, \"4\": 7, \"1\": 1}, \"4\": {\"4\": 117, \"14\": 70, \"10\": 3, \"1\": 7, \"7\": 7, \"0\": 27, \"8\": 9}, \"11\": {\"11\": 240}, \"13\": {\"13\": 190, \"15\": 5, \"5\": 41, \"2\": 1, \"9\": 3}, \"2\": {\"5\": 31, \"2\": 99, \"3\": 65, \"7\": 35, \"15\": 7, \"8\": 2, \"9\": 1}, \"0\": {\"0\": 99, \"4\": 28, \"8\": 18, \"14\": 27, \"10\": 62, \"6\": 1, \"7\": 3, \"9\": 1, \"15\": 1}, \"12\": {\"12\": 240}, \"3\": {\"3\": 187, \"2\": 35, \"7\": 17, \"4\": 1}, \"9\": {\"9\": 135, \"6\": 21, \"15\": 76, \"0\": 1, \"8\": 5, \"5\": 1, \"10\": 1}, \"8\": {\"8\": 126, \"0\": 30, \"9\": 4, \"10\": 33, \"7\": 19, \"4\": 15, \"15\": 5, \"2\": 2, \"6\": 1, \"14\": 5}, \"1\": {\"1\": 201, \"14\": 18, \"4\": 16, \"8\": 3, \"10\": 2}}, \"ORACLE.run132\": {\"7\": {\"7\": 162, \"13\": 14, \"2\": 4, \"14\": 7, \"5\": 15, \"4\": 23, \"11\": 13, \"0\": 2}, \"2\": {\"2\": 214, \"4\": 26}, \"5\": {\"5\": 80, \"13\": 91, \"11\": 4, \"4\": 26, \"7\": 27, \"0\": 2, \"3\": 3, \"2\": 3, \"8\": 2, \"14\": 2}, \"6\": {\"6\": 240}, \"13\": {\"13\": 94, \"5\": 79, \"7\": 20, \"8\": 21, \"11\": 6, \"4\": 10, \"0\": 6, \"14\": 1, \"3\": 3}, \"4\": {\"4\": 186, \"2\": 33, \"7\": 16, \"5\": 4, \"13\": 1}, \"3\": {\"1\": 4, \"15\": 20, \"11\": 51, \"3\": 94, \"5\": 28, \"8\": 5, \"13\": 31, \"14\": 7}, \"0\": {\"0\": 213, \"14\": 3, \"7\": 6, \"8\": 11, \"13\": 3, \"4\": 1, \"2\": 1, \"5\": 2}, \"9\": {\"9\": 239, \"12\": 1}, \"12\": {\"12\": 240}, \"8\": {\"8\": 204, \"13\": 12, \"3\": 1, \"5\": 9, \"0\": 13, \"14\": 1}, \"14\": {\"11\": 79, \"14\": 110, \"0\": 24, \"5\": 3, \"13\": 3, \"3\": 3, \"7\": 16, \"8\": 2}, \"15\": {\"15\": 193, \"3\": 31, \"1\": 11, \"8\": 5}, \"11\": {\"11\": 175, \"14\": 56, \"7\": 4, \"3\": 3, \"5\": 1, \"13\": 1}, \"10\": {\"10\": 233, \"1\": 7}, \"1\": {\"1\": 214, \"10\": 25, \"15\": 1}}, \"ORACLE.run144\": {\"11\": {\"11\": 143, \"10\": 21, \"13\": 67, \"1\": 1, \"12\": 3, \"6\": 3, \"2\": 1, \"9\": 1}, \"7\": {\"7\": 160, \"9\": 43, \"2\": 26, \"6\": 9, \"3\": 1, \"13\": 1}, \"6\": {\"6\": 171, \"13\": 42, \"9\": 18, \"7\": 6, \"12\": 1, \"10\": 2}, \"12\": {\"10\": 24, \"1\": 77, \"12\": 120, \"2\": 8, \"3\": 5, \"11\": 6}, \"4\": {\"4\": 180, \"14\": 59, \"15\": 1}, \"13\": {\"6\": 36, \"13\": 174, \"9\": 27, \"11\": 2, \"7\": 1}, \"8\": {\"8\": 163, \"0\": 70, \"5\": 2, \"15\": 4, \"14\": 1}, \"5\": {\"5\": 209, \"0\": 19, \"14\": 8, \"15\": 4}, \"14\": {\"15\": 6, \"14\": 167, \"4\": 65, \"5\": 2}, \"3\": {\"3\": 219, \"1\": 16, \"2\": 4, \"12\": 1}, \"10\": {\"10\": 99, \"1\": 43, \"12\": 68, \"11\": 8, \"2\": 19, \"6\": 3}, \"1\": {\"10\": 4, \"3\": 35, \"1\": 151, \"12\": 38, \"2\": 12}, \"2\": {\"2\": 154, \"1\": 16, \"7\": 54, \"10\": 11, \"12\": 5}, \"15\": {\"15\": 190, \"14\": 15, \"5\": 8, \"0\": 18, \"4\": 3, \"8\": 6}, \"9\": {\"9\": 150, \"2\": 1, \"6\": 25, \"13\": 23, \"7\": 41}, \"0\": {\"8\": 58, \"0\": 158, \"15\": 8, \"5\": 16}}, \"ORACLE.run18\": {\"10\": {\"10\": 197, \"13\": 10, \"14\": 30, \"4\": 2, \"5\": 1}, \"6\": {\"6\": 189, \"7\": 30, \"4\": 14, \"0\": 5, \"13\": 2}, \"13\": {\"0\": 69, \"13\": 88, \"14\": 11, \"10\": 36, \"6\": 5, \"4\": 30, \"7\": 1}, \"3\": {\"3\": 237, \"2\": 2, \"12\": 1}, \"9\": {\"9\": 240}, \"1\": {\"1\": 235, \"11\": 4, \"14\": 1}, \"5\": {\"5\": 227, \"10\": 9, \"14\": 2, \"1\": 2}, \"11\": {\"11\": 217, \"1\": 23}, \"4\": {\"4\": 192, \"6\": 10, \"13\": 24, \"14\": 12, \"10\": 2}, \"14\": {\"14\": 182, \"4\": 18, \"1\": 4, \"10\": 34, \"13\": 2}, \"12\": {\"12\": 150, \"15\": 68, \"3\": 21, \"8\": 1}, \"7\": {\"7\": 204, \"6\": 32, \"13\": 1, \"0\": 2, \"1\": 1}, \"0\": {\"0\": 155, \"13\": 68, \"7\": 11, \"6\": 5, \"4\": 1}, \"15\": {\"15\": 203, \"12\": 34, \"8\": 3}, \"2\": {\"2\": 221, \"3\": 10, \"7\": 4, \"15\": 3, \"12\": 2}, \"8\": {\"8\": 240}}, \"ORACLE.run138\": {\"4\": {\"4\": 185, \"11\": 8, \"12\": 43, \"14\": 4}, \"7\": {\"7\": 208, \"0\": 14, \"5\": 16, \"8\": 2}, \"12\": {\"12\": 236, \"4\": 3, \"14\": 1}, \"10\": {\"7\": 3, \"10\": 206, \"8\": 6, \"0\": 3, \"13\": 16, \"5\": 2, \"4\": 1, \"15\": 2, \"14\": 1}, \"0\": {\"8\": 56, \"0\": 124, \"7\": 31, \"3\": 8, \"5\": 18, \"13\": 1, \"15\": 1, \"10\": 1}, \"1\": {\"1\": 238, \"13\": 1, \"15\": 1}, \"5\": {\"7\": 26, \"5\": 117, \"13\": 1, \"0\": 9, \"3\": 3, \"8\": 55, \"1\": 4, \"6\": 15, \"9\": 1, \"10\": 3, \"15\": 6}, \"15\": {\"15\": 168, \"13\": 45, \"8\": 5, \"1\": 16, \"5\": 4, \"10\": 2}, \"9\": {\"9\": 192, \"6\": 43, \"5\": 1, \"3\": 4}, \"11\": {\"2\": 9, \"14\": 148, \"11\": 80, \"4\": 3}, \"14\": {\"14\": 204, \"11\": 6, \"2\": 27, \"13\": 2, \"10\": 1}, \"6\": {\"9\": 23, \"6\": 215, \"5\": 2}, \"8\": {\"7\": 2, \"8\": 152, \"0\": 46, \"5\": 30, \"15\": 4, \"10\": 6}, \"3\": {\"3\": 199, \"11\": 2, \"0\": 5, \"6\": 2, \"7\": 5, \"5\": 5, \"9\": 20, \"2\": 2}, \"2\": {\"2\": 227, \"14\": 10, \"13\": 3}, \"13\": {\"13\": 179, \"10\": 8, \"5\": 1, \"1\": 2, \"15\": 45, \"2\": 3, \"8\": 2}}, \"Wisig_3\": {\"110\": {\"103\": 1, \"110\": 33, \"109\": 1, \"1\": 16, \"74\": 1, \"40\": 6, \"114\": 10, \"88\": 2, \"108\": 2, \"105\": 2, \"70\": 1, \"3\": 2, \"107\": 2, \"60\": 1, \"99\": 1, \"129\": 1, \"23\": 1, \"122\": 2, \"32\": 1, \"10\": 3, \"5\": 1, \"93\": 1, \"90\": 1}, \"1\": {\"110\": 4, \"1\": 73, \"107\": 5, \"108\": 1, \"88\": 1, \"40\": 11, \"5\": 2, \"124\": 1, \"122\": 2, \"114\": 6, \"69\": 1, \"105\": 1}, \"2\": {\"117\": 2, \"2\": 15, \"63\": 1, \"26\": 1, \"118\": 2, \"121\": 3, \"23\": 2, \"39\": 2}, \"94\": {\"94\": 30, \"113\": 1, \"6\": 4, \"106\": 7, \"24\": 1, \"70\": 1, \"125\": 3, \"111\": 8, \"12\": 3, \"15\": 10, \"127\": 1, \"8\": 3, \"27\": 2, \"42\": 1, \"36\": 6, \"61\": 1, \"88\": 1, \"18\": 1}, \"64\": {\"64\": 20}, \"78\": {\"1\": 1, \"14\": 2, \"32\": 1, \"90\": 2, \"117\": 1, \"105\": 1, \"74\": 1, \"78\": 2, \"30\": 1, \"87\": 1, \"40\": 1, \"120\": 1, \"21\": 1}, \"47\": {\"47\": 9, \"71\": 2, \"113\": 1}, \"127\": {\"127\": 92, \"99\": 3, \"7\": 9, \"95\": 2, \"105\": 1, \"8\": 1, \"108\": 5, \"12\": 3, \"98\": 7, \"9\": 1, \"71\": 1, \"70\": 1, \"18\": 1, \"10\": 1}, \"89\": {\"89\": 22, \"4\": 1, \"102\": 1, \"33\": 1, \"17\": 2, \"93\": 1}, \"79\": {\"79\": 12}, \"22\": {\"22\": 15, \"60\": 1}, \"117\": {\"117\": 98, \"17\": 1, \"121\": 2, \"113\": 6, \"39\": 5}, \"49\": {\"49\": 3, \"127\": 1, \"124\": 3, \"82\": 2, \"107\": 1, \"98\": 1, \"14\": 2, \"70\": 1, \"7\": 1, \"77\": 1, \"36\": 1, \"91\": 1, \"73\": 1, \"118\": 1, \"9\": 1, \"69\": 1, \"19\": 1, \"16\": 1}, \"14\": {\"22\": 2, \"14\": 71, \"88\": 2, \"62\": 2, \"107\": 2, \"11\": 1}, \"103\": {\"127\": 2, \"103\": 10, \"55\": 1, \"9\": 2, \"86\": 1}, \"123\": {\"123\": 14, \"117\": 1, \"63\": 1}, \"98\": {\"0\": 3, \"98\": 66, \"111\": 3, \"52\": 2, \"7\": 8, \"83\": 2, \"124\": 2, \"88\": 1, \"12\": 6, \"101\": 3, \"27\": 1, \"4\": 1, \"49\": 1, \"127\": 5, \"34\": 1, \"108\": 6, \"95\": 1, \"72\": 2, \"35\": 1, \"8\": 8, \"14\": 1, \"10\": 2, \"26\": 1, \"90\": 1}, \"18\": {\"81\": 2, \"18\": 102, \"117\": 2, \"88\": 1, \"126\": 1}, \"61\": {\"18\": 1, \"61\": 14, \"121\": 1}, \"108\": {\"85\": 2, \"70\": 6, \"47\": 1, \"108\": 39, \"88\": 3, \"99\": 2, \"122\": 1, \"105\": 4, \"124\": 13, \"1\": 1, \"5\": 13, \"10\": 9, \"7\": 3, \"8\": 4, \"4\": 5, \"127\": 3, \"126\": 1, \"30\": 1, \"111\": 4, \"0\": 1, \"3\": 1, \"52\": 1, \"19\": 1, \"60\": 1, \"32\": 1, \"71\": 1, \"94\": 1, \"12\": 1, \"98\": 1, \"113\": 1}, \"100\": {\"100\": 16}, \"0\": {\"98\": 7, \"0\": 50, \"59\": 1, \"15\": 4, \"99\": 1, \"77\": 1, \"12\": 1, \"8\": 4, \"101\": 1, \"10\": 4, \"7\": 5, \"94\": 2, \"95\": 1, \"39\": 1, \"111\": 11, \"30\": 5, \"34\": 2, \"36\": 3, \"127\": 1, \"108\": 1, \"52\": 1, \"73\": 1, \"35\": 1, \"27\": 5, \"105\": 1, \"124\": 1}, \"107\": {\"107\": 110, \"129\": 1, \"14\": 5, \"40\": 7, \"62\": 1, \"114\": 1, \"98\": 1, \"19\": 1, \"50\": 2, \"1\": 1}, \"58\": {\"58\": 15, \"6\": 1}, \"8\": {\"98\": 10, \"0\": 6, \"111\": 4, \"99\": 1, \"8\": 56, \"127\": 4, \"128\": 1, \"124\": 4, \"101\": 1, \"36\": 2, \"7\": 4, \"30\": 5, \"12\": 10, \"3\": 1, \"15\": 1, \"108\": 2, \"86\": 2, \"91\": 1, \"6\": 1, \"94\": 2, \"10\": 2}, \"85\": {\"85\": 28, \"104\": 1, \"78\": 1, \"124\": 2, \"47\": 2, \"19\": 1, \"41\": 1}, \"31\": {\"31\": 15, \"33\": 1, \"82\": 1, \"69\": 1, \"19\": 1, \"84\": 1}, \"81\": {\"81\": 29, \"123\": 2, \"117\": 1}, \"60\": {\"31\": 2, \"60\": 13, \"29\": 1, \"47\": 1, \"22\": 2, \"32\": 2, \"70\": 1, \"112\": 1, \"62\": 1, \"66\": 1, \"69\": 1, \"90\": 1, \"5\": 1}, \"102\": {\"102\": 102, \"118\": 1, \"33\": 2, \"69\": 2, \"93\": 5, \"11\": 1, \"109\": 1, \"89\": 2}, \"19\": {\"85\": 2, \"98\": 1, \"115\": 1, \"19\": 5, \"32\": 2, \"1\": 4, \"66\": 1, \"9\": 1, \"70\": 1, \"83\": 1, \"7\": 3, \"124\": 1, \"14\": 1, \"34\": 3, \"111\": 1, \"49\": 1, \"105\": 1, \"4\": 1, \"40\": 1}, \"23\": {\"108\": 2, \"23\": 6, \"86\": 1, \"67\": 2, \"10\": 1, \"61\": 1, \"52\": 1, \"81\": 2, \"63\": 2, \"30\": 1, \"103\": 1, \"37\": 1, \"7\": 2, \"39\": 3, \"91\": 1, \"98\": 2, \"71\": 1, \"105\": 1, \"3\": 1}, \"32\": {\"129\": 4, \"70\": 2, \"10\": 1, \"32\": 8, \"86\": 1, \"48\": 1, \"107\": 2, \"87\": 1, \"74\": 2, \"40\": 3, \"79\": 1, \"9\": 1, \"128\": 2, \"76\": 1, \"84\": 1, \"114\": 1}, \"39\": {\"63\": 1, \"39\": 48, \"123\": 2, \"26\": 2, \"67\": 1, \"21\": 3, \"113\": 14, \"117\": 12, \"81\": 1, \"70\": 1, \"102\": 1, \"1\": 1, \"18\": 10, \"16\": 1, \"93\": 2, \"43\": 1, \"118\": 2, \"126\": 3, \"33\": 1, \"11\": 1}, \"129\": {\"100\": 1, \"129\": 11, \"44\": 1, \"115\": 2, \"23\": 1, \"79\": 1, \"116\": 2, \"71\": 1, \"5\": 2, \"87\": 1, \"3\": 1, \"49\": 1, \"45\": 1, \"53\": 2, \"84\": 1, \"1\": 3}, \"71\": {\"70\": 1, \"99\": 1, \"71\": 41, \"5\": 8, \"111\": 1, \"19\": 2, \"4\": 7, \"110\": 1, \"127\": 1, \"108\": 1, \"56\": 1, \"105\": 2, \"126\": 1}, \"91\": {\"91\": 14, \"28\": 1, \"99\": 1, \"101\": 2, \"57\": 1, \"37\": 2, \"35\": 1, \"70\": 1, \"118\": 1}, \"101\": {\"101\": 38, \"126\": 1, \"10\": 1, \"12\": 1, \"30\": 2, \"0\": 2, \"6\": 2, \"37\": 1, \"98\": 3, \"113\": 1}, \"62\": {\"62\": 107, \"44\": 1, \"90\": 1, \"87\": 5, \"11\": 2, \"109\": 1, \"20\": 1, \"14\": 2, \"118\": 1, \"10\": 1}, \"63\": {\"63\": 14, \"117\": 2}, \"125\": {\"125\": 89, \"24\": 2, \"106\": 5, \"75\": 1, \"26\": 1, \"94\": 4, \"15\": 7, \"36\": 4, \"27\": 1, \"8\": 1, \"0\": 1, \"111\": 4}, \"57\": {\"57\": 19, \"86\": 1}, \"28\": {\"28\": 16}, \"70\": {\"28\": 1, \"70\": 10, \"47\": 1, \"123\": 2, \"18\": 2, \"0\": 1, \"105\": 8, \"122\": 1, \"74\": 2, \"7\": 3, \"126\": 5, \"9\": 1, \"87\": 1, \"88\": 2, \"5\": 5, \"14\": 1, \"4\": 3, \"10\": 2, \"49\": 2, \"127\": 3, \"113\": 1, \"3\": 2, \"61\": 1, \"128\": 1, \"83\": 1, \"108\": 1, \"66\": 1, \"91\": 1, \"118\": 1, \"109\": 1, \"117\": 1, \"107\": 1, \"62\": 1, \"110\": 1, \"39\": 1}, \"99\": {\"99\": 23, \"70\": 1, \"86\": 1, \"7\": 2, \"17\": 1, \"27\": 1, \"55\": 1, \"128\": 2, \"58\": 1, \"42\": 1, \"127\": 1, \"98\": 1}, \"121\": {\"121\": 18, \"67\": 2, \"117\": 3, \"26\": 3, \"96\": 1, \"2\": 1, \"90\": 1, \"61\": 2, \"113\": 1}, \"4\": {\"9\": 1, \"86\": 2, \"4\": 57, \"85\": 3, \"122\": 1, \"72\": 1, \"105\": 7, \"3\": 2, \"30\": 1, \"71\": 1, \"34\": 2, \"108\": 6, \"55\": 2, \"127\": 3, \"73\": 2, \"117\": 1, \"5\": 3, \"70\": 1}, \"80\": {\"33\": 1, \"80\": 9, \"93\": 1, \"76\": 1, \"16\": 2, \"119\": 2}, \"51\": {\"97\": 1, \"51\": 9, \"83\": 1, \"106\": 1, \"111\": 1, \"25\": 1, \"73\": 1, \"27\": 1}, \"3\": {\"3\": 81, \"71\": 3, \"5\": 9, \"46\": 2, \"95\": 1, \"125\": 1, \"122\": 1, \"39\": 1, \"88\": 1, \"108\": 3, \"127\": 4, \"85\": 1, \"4\": 2, \"110\": 2, \"114\": 3, \"26\": 1}, \"9\": {\"86\": 1, \"9\": 28, \"42\": 1, \"103\": 1, \"105\": 1}, \"53\": {\"53\": 13, \"1\": 2, \"122\": 2, \"45\": 2, \"81\": 1}, \"30\": {\"30\": 33, \"58\": 2, \"91\": 4, \"72\": 1, \"32\": 1, \"57\": 1, \"10\": 2, \"9\": 1, \"111\": 4, \"15\": 1, \"101\": 3, \"36\": 3, \"124\": 1, \"0\": 3, \"27\": 3, \"7\": 2, \"8\": 2, \"108\": 1, \"51\": 3, \"99\": 1, \"69\": 1, \"86\": 1, \"6\": 1, \"98\": 3, \"88\": 1, \"3\": 1, \"94\": 1, \"12\": 3}, \"33\": {\"33\": 104, \"16\": 4, \"109\": 5, \"102\": 2, \"93\": 4, \"69\": 2, \"88\": 1}, \"15\": {\"97\": 2, \"6\": 1, \"94\": 8, \"0\": 4, \"25\": 1, \"15\": 40, \"24\": 3, \"30\": 3, \"75\": 3, \"106\": 9, \"111\": 10, \"36\": 5, \"125\": 7, \"12\": 2, \"73\": 1, \"72\": 1, \"98\": 1, \"27\": 2, \"18\": 1}, \"97\": {\"80\": 1, \"15\": 2, \"97\": 13, \"73\": 1, \"27\": 1, \"111\": 1, \"101\": 1}, \"86\": {\"86\": 13, \"128\": 4, \"19\": 1, \"57\": 1, \"127\": 2, \"105\": 1, \"42\": 1, \"103\": 1, \"108\": 1, \"7\": 1, \"99\": 1, \"81\": 1}, \"20\": {\"53\": 1, \"20\": 14, \"1\": 1}, \"66\": {\"86\": 1, \"66\": 12, \"99\": 1, \"127\": 1, \"105\": 1}, \"10\": {\"10\": 59, \"56\": 1, \"128\": 4, \"103\": 2, \"34\": 1, \"77\": 1, \"71\": 2, \"7\": 7, \"94\": 1, \"12\": 3, \"70\": 3, \"8\": 4, \"88\": 2, \"30\": 2, \"105\": 2, \"98\": 9, \"127\": 8, \"108\": 3, \"91\": 1, \"86\": 1, \"9\": 2, \"3\": 1, \"16\": 1, \"0\": 2}, \"29\": {\"29\": 24, \"78\": 1, \"44\": 1, \"31\": 2, \"87\": 2, \"62\": 1, \"90\": 1}, \"109\": {\"69\": 5, \"76\": 1, \"28\": 1, \"33\": 10, \"109\": 48, \"11\": 6, \"16\": 17, \"62\": 4, \"90\": 10, \"18\": 1, \"43\": 1, \"93\": 2, \"118\": 2, \"116\": 1, \"88\": 1, \"84\": 1, \"102\": 3}, \"52\": {\"52\": 9, \"41\": 1, \"124\": 2, \"0\": 1, \"12\": 1, \"15\": 2}, \"67\": {\"67\": 13, \"117\": 1, \"121\": 1, \"2\": 1}, \"83\": {\"83\": 12, \"121\": 1, \"98\": 2, \"95\": 4, \"18\": 1, \"127\": 1, \"7\": 1, \"8\": 2}, \"72\": {\"72\": 24, \"59\": 1, \"0\": 1, \"34\": 1, \"35\": 1}, \"90\": {\"90\": 96, \"29\": 1, \"19\": 1, \"109\": 2, \"88\": 3, \"44\": 4, \"14\": 1, \"117\": 1, \"11\": 2, \"84\": 2, \"87\": 4, \"62\": 6, \"45\": 1, \"16\": 1, \"107\": 1}, \"69\": {\"69\": 64, \"17\": 1, \"11\": 4, \"93\": 3, \"87\": 1, \"102\": 2, \"16\": 1, \"33\": 4, \"84\": 1, \"89\": 3}, \"88\": {\"34\": 1, \"22\": 2, \"7\": 5, \"120\": 2, \"122\": 3, \"74\": 3, \"64\": 1, \"86\": 2, \"42\": 1, \"71\": 1, \"5\": 1, \"128\": 4, \"110\": 5, \"92\": 2, \"98\": 3, \"88\": 20, \"70\": 2, \"113\": 2, \"127\": 3, \"87\": 3, \"108\": 3, \"114\": 4, \"107\": 2, \"16\": 2, \"90\": 3, \"105\": 6, \"109\": 7, \"3\": 2, \"126\": 1, \"33\": 2, \"10\": 2, \"55\": 1, \"103\": 1, \"11\": 2, \"96\": 1, \"39\": 1, \"91\": 1, \"118\": 3, \"62\": 2}, \"115\": {\"115\": 11, \"32\": 1, \"53\": 1, \"87\": 1, \"40\": 1, \"110\": 1}, \"73\": {\"73\": 21, \"25\": 2, \"22\": 1, \"111\": 2, \"6\": 2, \"75\": 1, \"72\": 1, \"120\": 1, \"42\": 2, \"106\": 1, \"44\": 1, \"116\": 1, \"27\": 1, \"88\": 1, \"30\": 2}, \"34\": {\"62\": 2, \"32\": 1, \"6\": 2, \"34\": 6, \"50\": 1, \"42\": 1, \"73\": 3, \"88\": 2, \"122\": 1, \"70\": 1, \"110\": 1, \"15\": 1, \"75\": 1, \"20\": 2, \"98\": 1, \"51\": 4, \"48\": 1, \"58\": 1}, \"25\": {\"25\": 15, \"27\": 1}, \"44\": {\"44\": 47, \"87\": 1, \"11\": 5, \"16\": 4, \"107\": 1, \"69\": 1, \"62\": 8, \"79\": 1, \"90\": 2, \"116\": 1, \"33\": 1}, \"112\": {\"112\": 5, \"56\": 1, \"99\": 1, \"97\": 1, \"41\": 1, \"85\": 1, \"104\": 1, \"66\": 1, \"7\": 1, \"4\": 2, \"105\": 1}, \"37\": {\"98\": 2, \"37\": 12, \"101\": 2}, \"77\": {\"77\": 16}, \"111\": {\"111\": 102, \"73\": 2, \"6\": 2, \"12\": 4, \"124\": 2, \"106\": 1, \"26\": 1, \"8\": 3, \"94\": 1, \"36\": 1, \"126\": 1, \"15\": 1, \"98\": 1}, \"119\": {\"119\": 15, \"102\": 1}, \"56\": {\"56\": 11, \"52\": 1}, \"5\": {\"56\": 1, \"5\": 82, \"46\": 2, \"19\": 1, \"3\": 6, \"126\": 1, \"4\": 4, \"108\": 3, \"110\": 1, \"105\": 7, \"122\": 1, \"87\": 1, \"127\": 1, \"114\": 1}, \"122\": {\"122\": 20, \"4\": 1, \"115\": 1, \"110\": 4, \"103\": 5, \"129\": 1, \"1\": 4, \"3\": 5, \"117\": 2, \"19\": 1, \"114\": 2, \"10\": 4, \"70\": 3, \"104\": 1, \"57\": 1, \"105\": 1, \"126\": 1, \"85\": 1, \"71\": 1, \"7\": 1}, \"74\": {\"74\": 15, \"88\": 1}, \"11\": {\"11\": 54, \"23\": 2, \"116\": 3, \"48\": 1, \"17\": 1, \"109\": 6, \"62\": 9, \"69\": 10, \"82\": 1, \"88\": 6, \"93\": 1, \"29\": 2, \"21\": 1, \"44\": 6, \"33\": 9, \"114\": 1, \"110\": 2, \"84\": 11, \"90\": 11, \"87\": 2, \"10\": 1, \"107\": 1, \"102\": 3, \"76\": 1, \"113\": 1, \"118\": 1, \"16\": 5}, \"41\": {\"41\": 8, \"52\": 2, \"72\": 2, \"12\": 1, \"124\": 2, \"98\": 1}, \"104\": {\"104\": 15, \"5\": 1}, \"21\": {\"81\": 2, \"118\": 4, \"39\": 1, \"21\": 18, \"121\": 3, \"96\": 1, \"26\": 1, \"113\": 3, \"29\": 1, \"101\": 2, \"62\": 1, \"2\": 2, \"109\": 2, \"120\": 2, \"64\": 4, \"117\": 1}, \"118\": {\"118\": 52, \"89\": 2, \"6\": 1, \"43\": 4, \"26\": 2, \"90\": 1, \"84\": 1, \"120\": 2, \"64\": 1, \"92\": 2, \"109\": 2, \"93\": 6, \"62\": 2, \"88\": 2, \"102\": 10, \"114\": 1, \"11\": 1, \"69\": 2, \"80\": 1, \"129\": 1, \"33\": 3, \"24\": 1}, \"40\": {\"40\": 77, \"81\": 1, \"1\": 14, \"114\": 14, \"87\": 2, \"110\": 3, \"88\": 3, \"107\": 3, \"3\": 1, \"62\": 1, \"122\": 1, \"14\": 1, \"5\": 1}, \"6\": {\"6\": 16, \"94\": 1, \"73\": 1, \"51\": 1, \"8\": 1, \"106\": 2, \"24\": 2, \"68\": 1, \"97\": 2, \"15\": 4, \"125\": 1}, \"27\": {\"94\": 6, \"68\": 2, \"25\": 2, \"58\": 1, \"54\": 3, \"27\": 30, \"12\": 3, \"99\": 1, \"24\": 2, \"77\": 1, \"97\": 1, \"108\": 1, \"41\": 1, \"111\": 2, \"30\": 6, \"8\": 2, \"125\": 7, \"15\": 1, \"0\": 4, \"106\": 2, \"36\": 8, \"61\": 1, \"35\": 1, \"91\": 1, \"73\": 1, \"98\": 1, \"105\": 1, \"71\": 1, \"7\": 2, \"124\": 1}, \"113\": {\"31\": 1, \"113\": 56, \"109\": 1, \"117\": 17, \"43\": 3, \"2\": 1, \"18\": 7, \"21\": 1, \"26\": 5, \"92\": 2, \"16\": 1, \"39\": 12, \"118\": 4, \"126\": 2, \"88\": 2, \"67\": 3, \"33\": 1, \"40\": 1}, \"68\": {\"68\": 12, \"12\": 3, \"73\": 1}, \"12\": {\"68\": 2, \"41\": 1, \"0\": 9, \"8\": 6, \"99\": 1, \"83\": 2, \"12\": 36, \"98\": 7, \"15\": 4, \"95\": 1, \"30\": 5, \"94\": 3, \"111\": 10, \"124\": 1, \"127\": 2, \"108\": 2, \"10\": 3, \"106\": 1, \"36\": 1, \"6\": 1, \"58\": 1, \"101\": 2, \"105\": 1}, \"54\": {\"54\": 15, \"27\": 1}, \"24\": {\"37\": 1, \"68\": 1, \"24\": 14, \"35\": 2, \"106\": 1, \"85\": 1, \"30\": 1, \"77\": 1, \"9\": 1, \"34\": 2, \"36\": 2, \"75\": 2, \"126\": 1, \"42\": 1, \"27\": 3, \"73\": 2, \"6\": 1, \"18\": 1, \"0\": 2, \"52\": 1, \"10\": 1, \"125\": 2, \"128\": 1, \"41\": 1, \"98\": 1, \"7\": 1}, \"106\": {\"24\": 3, \"106\": 59, \"6\": 1, \"94\": 7, \"15\": 11, \"125\": 5, \"36\": 5, \"111\": 2, \"126\": 1, \"58\": 1, \"73\": 1, \"113\": 1, \"97\": 1, \"27\": 2}, \"128\": {\"56\": 1, \"128\": 10, \"77\": 2, \"99\": 2, \"8\": 1, \"10\": 1, \"122\": 1, \"30\": 2, \"108\": 2, \"101\": 1, \"95\": 3, \"98\": 2, \"91\": 1, \"74\": 1, \"88\": 1, \"70\": 1}, \"48\": {\"86\": 2, \"10\": 2, \"43\": 1, \"65\": 1, \"33\": 3, \"11\": 1, \"57\": 1, \"84\": 2, \"77\": 2, \"103\": 1}, \"92\": {\"92\": 23, \"116\": 2, \"43\": 2, \"16\": 2, \"78\": 1, \"88\": 1, \"89\": 1}, \"35\": {\"35\": 5, \"24\": 1, \"54\": 1, \"6\": 1, \"91\": 2, \"27\": 1, \"0\": 1}, \"116\": {\"92\": 2, \"20\": 1, \"11\": 3, \"116\": 13, \"69\": 1, \"82\": 3, \"16\": 1, \"64\": 1, \"33\": 1, \"29\": 1, \"90\": 1}, \"38\": {\"38\": 13, \"120\": 1, \"4\": 2}, \"126\": {\"126\": 90, \"39\": 6, \"96\": 1, \"113\": 5, \"92\": 1, \"117\": 1, \"84\": 1, \"90\": 1, \"110\": 1, \"18\": 9, \"81\": 3, \"21\": 1, \"93\": 1, \"118\": 1, \"33\": 1, \"26\": 1}, \"46\": {\"108\": 1, \"46\": 12, \"71\": 3}, \"120\": {\"120\": 20}, \"7\": {\"98\": 4, \"88\": 1, \"7\": 75, \"77\": 1, \"108\": 1, \"95\": 1, \"127\": 10, \"4\": 5, \"105\": 2, \"10\": 2, \"47\": 1, \"55\": 1, \"9\": 2, \"113\": 1, \"99\": 1, \"73\": 2, \"70\": 1, \"8\": 1}, \"13\": {\"13\": 3, \"120\": 1, \"116\": 1, \"110\": 1, \"88\": 2, \"81\": 1, \"96\": 1, \"121\": 1, \"2\": 1, \"62\": 1, \"113\": 1, \"109\": 2}, \"43\": {\"23\": 3, \"43\": 19, \"118\": 9, \"82\": 1, \"93\": 3, \"33\": 2, \"92\": 1, \"26\": 2, \"96\": 2, \"120\": 1, \"113\": 2, \"18\": 1, \"69\": 1, \"109\": 1, \"16\": 2, \"11\": 1, \"126\": 2, \"117\": 1, \"90\": 1, \"102\": 1}, \"93\": {\"93\": 78, \"31\": 1, \"109\": 4, \"43\": 3, \"90\": 7, \"102\": 19, \"33\": 5, \"87\": 1, \"44\": 1, \"11\": 3, \"120\": 1, \"92\": 1, \"88\": 2, \"118\": 1, \"26\": 2, \"62\": 1, \"16\": 1, \"113\": 1}, \"26\": {\"26\": 124, \"43\": 1, \"113\": 2, \"126\": 1, \"93\": 2, \"39\": 2}, \"76\": {\"76\": 16}, \"59\": {\"59\": 7, \"51\": 1, \"58\": 1, \"30\": 1, \"12\": 1, \"68\": 1}, \"65\": {\"65\": 9, \"17\": 1, \"128\": 2}, \"87\": {\"87\": 42, \"129\": 3, \"110\": 9, \"14\": 3, \"62\": 9, \"19\": 1, \"11\": 1, \"1\": 4, \"107\": 17, \"122\": 1, \"50\": 1, \"69\": 1, \"84\": 6, \"105\": 1, \"44\": 3, \"114\": 1, \"90\": 3, \"88\": 2, \"40\": 3, \"108\": 1, \"20\": 2, \"116\": 1, \"74\": 1, \"45\": 2, \"126\": 1, \"10\": 1}, \"124\": {\"124\": 101, \"72\": 1, \"52\": 2, \"8\": 1, \"27\": 1, \"12\": 4, \"106\": 1, \"111\": 1, \"98\": 1, \"20\": 1, \"36\": 3, \"56\": 1, \"108\": 1, \"42\": 1, \"73\": 1, \"41\": 1, \"3\": 1, \"90\": 1}, \"84\": {\"76\": 2, \"87\": 2, \"84\": 82, \"45\": 1, \"82\": 1, \"36\": 1, \"109\": 1, \"69\": 3, \"44\": 5, \"11\": 4, \"79\": 1, \"33\": 1, \"62\": 1, \"88\": 1, \"14\": 1, \"108\": 1}, \"82\": {\"82\": 23, \"84\": 2, \"76\": 2, \"116\": 1}, \"75\": {\"75\": 12, \"15\": 2, \"125\": 1, \"94\": 1}, \"17\": {\"72\": 1, \"69\": 1, \"17\": 3, \"104\": 1, \"7\": 2, \"64\": 1, \"93\": 1, \"109\": 1, \"81\": 1, \"95\": 1, \"56\": 1, \"113\": 1, \"27\": 1}, \"105\": {\"105\": 107, \"55\": 3, \"73\": 1, \"4\": 7, \"9\": 1, \"86\": 1, \"122\": 1, \"23\": 1, \"70\": 1, \"7\": 1}, \"95\": {\"95\": 21, \"99\": 1, \"125\": 1, \"7\": 2, \"105\": 1, \"8\": 1, \"128\": 2, \"124\": 1, \"103\": 1, \"9\": 1}, \"42\": {\"75\": 3, \"42\": 9, \"73\": 2, \"27\": 1, \"106\": 1, \"58\": 3, \"99\": 1, \"88\": 1, \"7\": 2, \"122\": 1, \"72\": 1, \"105\": 3}, \"55\": {\"55\": 15, \"105\": 1}, \"16\": {\"16\": 71, \"109\": 4, \"69\": 3, \"44\": 2, \"11\": 9, \"33\": 17, \"90\": 2, \"84\": 2, \"96\": 1, \"80\": 1, \"116\": 1, \"113\": 1, \"118\": 2}, \"50\": {\"50\": 13, \"122\": 1, \"19\": 1, \"1\": 1}, \"96\": {\"120\": 1, \"121\": 3, \"96\": 8, \"21\": 1, \"117\": 1, \"80\": 2, \"16\": 1, \"63\": 1, \"123\": 1, \"93\": 1}, \"45\": {\"45\": 16}, \"36\": {\"52\": 1, \"24\": 2, \"36\": 39, \"0\": 6, \"125\": 14, \"15\": 9, \"30\": 7, \"101\": 1, \"12\": 3, \"27\": 4, \"127\": 1, \"108\": 5, \"94\": 9, \"111\": 5, \"98\": 1, \"8\": 2, \"37\": 2, \"54\": 4, \"83\": 1, \"72\": 1, \"7\": 1, \"106\": 2}, \"114\": {\"40\": 11, \"114\": 80, \"5\": 1, \"113\": 3, \"1\": 10, \"110\": 6, \"3\": 3, \"27\": 1, \"105\": 1, \"4\": 1, \"124\": 1, \"107\": 2, \"108\": 1, \"112\": 1, \"122\": 1, \"18\": 1}}, \"Wisig_4\": {\"113\": {\"69\": 2, \"35\": 1, \"18\": 9, \"113\": 58, \"117\": 9, \"122\": 1, \"61\": 1, \"84\": 3, \"121\": 1, \"2\": 1, \"66\": 2, \"26\": 14, \"81\": 2, \"16\": 4, \"39\": 5, \"88\": 1, \"109\": 1, \"21\": 3, \"63\": 1, \"126\": 4, \"90\": 1}, \"85\": {\"55\": 2, \"85\": 17, \"41\": 1, \"36\": 1, \"86\": 3, \"127\": 1, \"6\": 1, \"30\": 1, \"98\": 1}, \"34\": {\"85\": 2, \"34\": 6, \"71\": 1, \"62\": 2, \"17\": 2, \"0\": 1, \"42\": 2, \"75\": 1, \"47\": 2, \"76\": 1, \"30\": 2, \"7\": 1, \"25\": 1, \"58\": 1, \"120\": 2, \"10\": 2, \"36\": 2, \"87\": 1}, \"55\": {\"55\": 11, \"0\": 3, \"103\": 1, \"95\": 1}, \"42\": {\"51\": 1, \"24\": 1, \"71\": 2, \"120\": 1, \"111\": 5, \"49\": 1, \"12\": 2, \"42\": 6, \"34\": 1, \"76\": 1, \"115\": 1, \"30\": 2, \"87\": 1, \"9\": 2, \"85\": 1}, \"13\": {\"13\": 14, \"84\": 1, \"67\": 1}, \"69\": {\"49\": 3, \"69\": 84, \"18\": 2, \"116\": 2, \"33\": 8, \"7\": 1, \"3\": 1, \"5\": 3, \"93\": 4, \"26\": 2, \"114\": 2, \"110\": 2, \"44\": 1, \"102\": 3, \"11\": 3, \"113\": 1, \"16\": 1, \"109\": 1}, \"35\": {\"35\": 9, \"113\": 1, \"81\": 1, \"63\": 1}, \"83\": {\"85\": 1, \"113\": 1, \"83\": 10, \"50\": 1, \"40\": 1, \"14\": 2, \"128\": 1, \"122\": 1, \"107\": 2, \"32\": 1, \"115\": 2, \"42\": 1, \"82\": 1, \"5\": 1, \"87\": 1, \"71\": 1}, \"51\": {\"24\": 1, \"49\": 1, \"126\": 2, \"51\": 3, \"9\": 3, \"18\": 1, \"1\": 1, \"6\": 2, \"39\": 1, \"21\": 1}, \"72\": {\"85\": 2, \"72\": 20, \"119\": 1, \"99\": 3, \"62\": 1, \"43\": 2, \"14\": 1, \"118\": 1, \"40\": 1}, \"24\": {\"51\": 2, \"24\": 33, \"41\": 1, \"10\": 8, \"16\": 1, \"99\": 1, \"106\": 4, \"15\": 3, \"0\": 7, \"94\": 6, \"98\": 7, \"125\": 4, \"117\": 1, \"30\": 3, \"36\": 8, \"12\": 3, \"111\": 2, \"101\": 5, \"8\": 2, \"27\": 5, \"124\": 2, \"54\": 2, \"75\": 1, \"37\": 1, \"85\": 1, \"70\": 1, \"122\": 1, \"6\": 1, \"127\": 1, \"4\": 1, \"110\": 1, \"7\": 1}, \"53\": {\"53\": 7, \"77\": 1, \"117\": 1, \"41\": 1, \"91\": 1, \"24\": 1, \"111\": 1, \"29\": 2, \"52\": 1}, \"8\": {\"55\": 1, \"8\": 69, \"106\": 1, \"52\": 1, \"29\": 6, \"9\": 2, \"85\": 1, \"15\": 1, \"27\": 6, \"37\": 1, \"81\": 1, \"127\": 4, \"30\": 3, \"98\": 7, \"126\": 2, \"0\": 5, \"101\": 7, \"24\": 3, \"10\": 6, \"12\": 5, \"94\": 1, \"26\": 2, \"86\": 1, \"68\": 1, \"113\": 1, \"91\": 1, \"21\": 1, \"69\": 1, \"36\": 1, \"111\": 2}, \"49\": {\"13\": 1, \"49\": 4, \"69\": 4, \"29\": 1, \"8\": 1, \"116\": 1, \"41\": 2, \"91\": 1, \"34\": 2, \"43\": 1, \"89\": 2, \"111\": 2, \"122\": 1, \"129\": 1, \"52\": 1, \"5\": 3, \"92\": 1, \"102\": 1, \"0\": 1, \"44\": 1}, \"21\": {\"113\": 6, \"39\": 3, \"21\": 16, \"23\": 1, \"123\": 1, \"2\": 1, \"61\": 3, \"117\": 2, \"18\": 1, \"121\": 2, \"126\": 2, \"26\": 2}, \"18\": {\"18\": 108, \"63\": 2, \"84\": 1, \"26\": 7, \"81\": 1, \"16\": 1}, \"114\": {\"114\": 80, \"104\": 1, \"71\": 4, \"46\": 1, \"28\": 1, \"82\": 4, \"100\": 1, \"1\": 8, \"87\": 4, \"18\": 1, \"98\": 1, \"124\": 3, \"0\": 1, \"107\": 4, \"7\": 1, \"105\": 2, \"113\": 1}, \"58\": {\"58\": 10, \"60\": 1, \"106\": 1, \"6\": 1, \"10\": 1, \"12\": 2}, \"56\": {\"56\": 12}, \"80\": {\"80\": 15, \"16\": 1}, \"11\": {\"108\": 2, \"73\": 2, \"45\": 1, \"11\": 62, \"32\": 1, \"28\": 2, \"31\": 1, \"19\": 1, \"46\": 2, \"49\": 2, \"110\": 2, \"43\": 5, \"107\": 5, \"33\": 6, \"69\": 5, \"122\": 2, \"118\": 3, \"88\": 4, \"93\": 3, \"1\": 1, \"99\": 1, \"40\": 3, \"5\": 17, \"102\": 8, \"14\": 2, \"3\": 4, \"62\": 2, \"92\": 1, \"87\": 2, \"98\": 1, \"109\": 1}, \"15\": {\"58\": 2, \"9\": 2, \"94\": 5, \"103\": 1, \"54\": 1, \"15\": 44, \"8\": 12, \"25\": 1, \"41\": 1, \"24\": 7, \"91\": 1, \"125\": 8, \"101\": 4, \"97\": 1, \"12\": 8, \"10\": 8, \"30\": 3, \"117\": 1, \"98\": 2, \"106\": 1, \"127\": 3, \"26\": 1, \"27\": 2, \"49\": 2, \"36\": 2, \"29\": 1, \"6\": 1, \"0\": 2, \"69\": 1}, \"50\": {\"50\": 8, \"40\": 3, \"27\": 1, \"115\": 2, \"11\": 1, \"33\": 1}, \"111\": {\"111\": 111, \"68\": 1, \"9\": 1, \"10\": 3, \"101\": 2, \"12\": 2, \"98\": 2, \"27\": 3, \"8\": 1, \"24\": 2, \"95\": 2, \"103\": 1, \"77\": 1, \"26\": 1, \"106\": 3, \"127\": 1, \"36\": 1}, \"108\": {\"50\": 1, \"73\": 2, \"3\": 8, \"108\": 14, \"49\": 1, \"19\": 1, \"107\": 4, \"118\": 3, \"109\": 4, \"78\": 2, \"84\": 1, \"106\": 1, \"11\": 3, \"88\": 1, \"105\": 1, \"7\": 1, \"40\": 5, \"71\": 2, \"87\": 4, \"14\": 1, \"93\": 2, \"33\": 1, \"122\": 2, \"110\": 1, \"26\": 1, \"5\": 5, \"22\": 2, \"45\": 1, \"128\": 1, \"18\": 1, \"10\": 1, \"79\": 1, \"30\": 1, \"62\": 1, \"39\": 2, \"72\": 3, \"1\": 1, \"97\": 1, \"90\": 1, \"114\": 1, \"69\": 1, \"12\": 1}, \"104\": {\"104\": 13, \"46\": 1, \"32\": 1, \"71\": 1}, \"32\": {\"32\": 10, \"129\": 1, \"64\": 2, \"108\": 1, \"50\": 1, \"105\": 2, \"92\": 1, \"72\": 1, \"89\": 1, \"14\": 1, \"128\": 1, \"99\": 1, \"78\": 2, \"33\": 1, \"87\": 1, \"62\": 1}, \"68\": {\"111\": 1, \"15\": 1, \"68\": 11, \"103\": 2, \"35\": 1}, \"73\": {\"108\": 1, \"11\": 1, \"73\": 17, \"107\": 1, \"67\": 1, \"64\": 1, \"5\": 1, \"43\": 1}, \"92\": {\"92\": 19, \"96\": 1, \"11\": 1, \"23\": 1, \"48\": 1, \"105\": 1, \"102\": 2, \"15\": 2}, \"57\": {\"57\": 16}, \"40\": {\"107\": 11, \"40\": 93, \"129\": 1, \"1\": 4, \"114\": 3, \"18\": 2, \"87\": 6, \"7\": 1, \"105\": 4, \"3\": 2, \"14\": 4, \"26\": 1, \"32\": 1, \"126\": 1, \"71\": 2}, \"71\": {\"71\": 68, \"114\": 13, \"1\": 6, \"4\": 3, \"88\": 2, \"7\": 3, \"124\": 1, \"105\": 3, \"126\": 1, \"18\": 1, \"82\": 1, \"113\": 1, \"43\": 1}, \"121\": {\"121\": 16, \"39\": 2, \"84\": 2, \"126\": 2, \"117\": 4, \"113\": 1, \"16\": 1, \"44\": 1, \"21\": 1, \"31\": 1, \"67\": 1}, \"62\": {\"62\": 28, \"60\": 1, \"118\": 5, \"11\": 2, \"26\": 1, \"89\": 2, \"99\": 3, \"88\": 2, \"21\": 2, \"38\": 1, \"14\": 1, \"93\": 1, \"32\": 2, \"18\": 2, \"106\": 1, \"61\": 1, \"87\": 2, \"7\": 1, \"49\": 1, \"19\": 1}, \"39\": {\"39\": 49, \"18\": 5, \"80\": 1, \"38\": 1, \"109\": 3, \"126\": 6, \"44\": 2, \"121\": 2, \"26\": 8, \"113\": 10, \"81\": 2, \"117\": 5, \"93\": 1, \"90\": 1, \"66\": 2, \"118\": 1, \"16\": 1}, \"107\": {\"50\": 1, \"107\": 103, \"82\": 2, \"14\": 3, \"40\": 15, \"90\": 1, \"3\": 5, \"87\": 2, \"108\": 1, \"105\": 2, \"83\": 1, \"114\": 4, \"109\": 1, \"71\": 1, \"33\": 2}, \"60\": {\"82\": 1, \"110\": 1, \"60\": 5, \"9\": 1, \"128\": 1, \"96\": 1, \"89\": 2, \"7\": 1, \"120\": 1, \"95\": 1, \"71\": 1, \"70\": 1, \"14\": 1, \"62\": 4, \"22\": 1, \"41\": 1, \"55\": 1, \"118\": 1, \"66\": 1, \"112\": 1, \"19\": 1, \"46\": 1, \"34\": 1, \"88\": 1}, \"129\": {\"82\": 2, \"62\": 3, \"129\": 6, \"5\": 1, \"74\": 1, \"112\": 1, \"4\": 1, \"122\": 1, \"40\": 2, \"97\": 1, \"70\": 1, \"95\": 2, \"75\": 1, \"55\": 1, \"46\": 2, \"127\": 1, \"71\": 1}, \"84\": {\"84\": 103, \"13\": 3, \"88\": 1, \"39\": 2, \"102\": 6, \"69\": 2, \"16\": 4, \"113\": 2, \"90\": 1, \"93\": 2, \"44\": 3, \"117\": 1, \"11\": 2}, \"106\": {\"106\": 70, \"12\": 5, \"9\": 1, \"111\": 4, \"75\": 1, \"95\": 2, \"113\": 1, \"30\": 1, \"125\": 7, \"47\": 1, \"15\": 5, \"127\": 1, \"27\": 2, \"36\": 4, \"10\": 3, \"77\": 1, \"97\": 2, \"94\": 2, \"117\": 1, \"24\": 2}, \"87\": {\"32\": 1, \"129\": 2, \"107\": 9, \"1\": 9, \"114\": 3, \"88\": 10, \"82\": 2, \"87\": 50, \"105\": 8, \"70\": 4, \"40\": 11, \"99\": 1, \"14\": 5, \"7\": 4, \"108\": 1, \"0\": 3, \"76\": 2, \"89\": 1, \"83\": 2, \"3\": 1, \"110\": 2, \"10\": 1}, \"110\": {\"32\": 1, \"110\": 35, \"11\": 6, \"79\": 1, \"14\": 3, \"5\": 3, \"26\": 1, \"93\": 3, \"118\": 4, \"113\": 1, \"107\": 2, \"43\": 4, \"18\": 1, \"109\": 1, \"36\": 1, \"33\": 6, \"122\": 2, \"19\": 1, \"129\": 1, \"72\": 1, \"69\": 4, \"108\": 3, \"40\": 1, \"70\": 1, \"88\": 4, \"16\": 1, \"90\": 2}, \"118\": {\"118\": 36, \"110\": 4, \"108\": 8, \"60\": 1, \"11\": 2, \"20\": 2, \"96\": 1, \"122\": 8, \"57\": 2, \"46\": 1, \"74\": 1, \"32\": 1, \"43\": 3, \"33\": 12, \"14\": 1, \"69\": 5, \"99\": 1, \"3\": 3, \"93\": 3, \"90\": 1, \"73\": 1, \"129\": 2, \"88\": 2, \"116\": 1, \"78\": 2, \"109\": 4, \"26\": 1, \"98\": 1, \"5\": 1, \"7\": 1}, \"64\": {\"64\": 12, \"113\": 1, \"71\": 1, \"28\": 1, \"40\": 1}, \"82\": {\"7\": 2, \"82\": 17, \"17\": 3, \"56\": 1, \"76\": 2, \"1\": 2, \"42\": 1, \"49\": 1, \"85\": 1, \"107\": 1, \"60\": 1}, \"7\": {\"82\": 2, \"7\": 56, \"128\": 2, \"119\": 1, \"99\": 1, \"129\": 2, \"1\": 6, \"105\": 6, \"71\": 6, \"88\": 6, \"11\": 1, \"70\": 8, \"10\": 1, \"114\": 4, \"87\": 4, \"4\": 2, \"3\": 2, \"107\": 1, \"22\": 1, \"89\": 1, \"60\": 2, \"32\": 1, \"26\": 1, \"40\": 1, \"58\": 1, \"14\": 1, \"126\": 3, \"98\": 1}, \"0\": {\"0\": 55, \"55\": 1, \"127\": 10, \"101\": 8, \"70\": 4, \"39\": 1, \"98\": 9, \"27\": 3, \"4\": 5, \"87\": 1, \"126\": 2, \"8\": 3, \"88\": 1, \"10\": 2, \"14\": 1, \"12\": 2, \"37\": 1, \"56\": 1, \"85\": 1, \"21\": 1, \"34\": 1, \"97\": 2, \"111\": 1}, \"41\": {\"68\": 1, \"41\": 6, \"39\": 1, \"24\": 1, \"29\": 1, \"53\": 1, \"91\": 1, \"34\": 2, \"98\": 2}, \"102\": {\"102\": 108, \"129\": 1, \"44\": 3, \"84\": 3, \"43\": 1, \"16\": 3, \"93\": 1, \"124\": 1, \"126\": 1, \"20\": 1, \"74\": 1, \"92\": 1, \"69\": 3, \"110\": 1, \"0\": 1}, \"89\": {\"89\": 18, \"22\": 1, \"18\": 1, \"7\": 3, \"32\": 1, \"128\": 2, \"76\": 1, \"120\": 1, \"114\": 2, \"70\": 2}, \"26\": {\"18\": 12, \"113\": 2, \"26\": 89, \"126\": 4, \"62\": 1, \"39\": 4, \"81\": 1, \"117\": 10, \"118\": 2, \"40\": 1, \"69\": 2}, \"103\": {\"68\": 1, \"103\": 10, \"54\": 1, \"106\": 2, \"111\": 1, \"125\": 1}, \"90\": {\"90\": 92, \"66\": 2, \"44\": 2, \"69\": 4, \"109\": 6, \"93\": 7, \"88\": 2, \"84\": 1, \"117\": 1, \"113\": 1}, \"14\": {\"14\": 88, \"19\": 1, \"62\": 3, \"72\": 1, \"79\": 1, \"110\": 1, \"99\": 1, \"87\": 3, \"88\": 2, \"5\": 1, \"109\": 1, \"40\": 5, \"107\": 1, \"7\": 1, \"43\": 2}, \"9\": {\"103\": 1, \"9\": 14, \"30\": 2, \"97\": 1, \"15\": 2, \"106\": 2, \"51\": 1, \"58\": 2, \"12\": 1, \"125\": 1, \"27\": 1}, \"5\": {\"83\": 1, \"102\": 5, \"5\": 93, \"19\": 1, \"118\": 1, \"73\": 1, \"119\": 1, \"11\": 11, \"14\": 1, \"43\": 4, \"109\": 1, \"33\": 4, \"110\": 2, \"93\": 2, \"113\": 2, \"26\": 1, \"108\": 1, \"31\": 2, \"122\": 1, \"78\": 1}, \"22\": {\"22\": 11, \"118\": 1, \"89\": 1, \"60\": 1, \"76\": 1, \"79\": 1}, \"2\": {\"2\": 19, \"96\": 1, \"31\": 1, \"117\": 1, \"16\": 2, \"18\": 1, \"44\": 1, \"26\": 2}, \"77\": {\"77\": 12}, \"59\": {\"77\": 2, \"59\": 6, \"39\": 1, \"81\": 1, \"111\": 2}, \"127\": {\"127\": 57, \"52\": 1, \"95\": 1, \"103\": 1, \"113\": 1, \"111\": 3, \"90\": 1, \"98\": 5, \"27\": 4, \"0\": 7, \"81\": 1, \"30\": 2, \"8\": 7, \"101\": 5, \"122\": 1, \"12\": 3, \"117\": 1, \"10\": 1}, \"61\": {\"61\": 15, \"113\": 1}, \"17\": {\"17\": 16, \"81\": 1, \"42\": 1, \"27\": 2}, \"45\": {\"45\": 16}, \"19\": {\"11\": 2, \"19\": 5, \"70\": 3, \"55\": 1, \"84\": 1, \"74\": 2, \"40\": 1, \"109\": 1, \"116\": 2, \"7\": 2, \"5\": 2, \"0\": 1, \"46\": 1, \"33\": 1, \"105\": 1, \"124\": 1, \"44\": 1}, \"52\": {\"52\": 9, \"98\": 2, \"2\": 1, \"91\": 2, \"10\": 1, \"8\": 1, \"27\": 1, \"53\": 1, \"71\": 1, \"82\": 1}, \"123\": {\"77\": 1, \"123\": 11, \"113\": 1, \"16\": 1, \"54\": 1, \"75\": 1}, \"20\": {\"20\": 9, \"88\": 1, \"118\": 1, \"22\": 1, \"5\": 1, \"57\": 1, \"87\": 1, \"122\": 1}, \"112\": {\"19\": 1, \"77\": 1, \"71\": 2, \"112\": 9, \"56\": 1, \"85\": 1, \"126\": 1}, \"37\": {\"37\": 11, \"127\": 3, \"91\": 1, \"8\": 1}, \"29\": {\"8\": 3, \"29\": 27, \"91\": 2}, \"128\": {\"55\": 1, \"104\": 1, \"128\": 6, \"1\": 2, \"53\": 1, \"114\": 1, \"127\": 1, \"4\": 1, \"50\": 1, \"88\": 1, \"56\": 1, \"112\": 1, \"29\": 1, \"7\": 1, \"70\": 2, \"89\": 1, \"52\": 1}, \"100\": {\"100\": 13, \"128\": 1, \"105\": 1, \"114\": 1, \"52\": 1, \"124\": 2, \"56\": 1}, \"67\": {\"67\": 5, \"113\": 1, \"117\": 1, \"5\": 1, \"39\": 2, \"69\": 1, \"2\": 1, \"45\": 2, \"3\": 2}, \"12\": {\"12\": 45, \"113\": 1, \"91\": 1, \"106\": 8, \"34\": 2, \"8\": 9, \"127\": 7, \"15\": 3, \"24\": 2, \"111\": 5, \"27\": 4, \"99\": 1, \"10\": 1, \"6\": 1, \"9\": 1, \"42\": 1, \"4\": 1, \"30\": 1, \"125\": 1, \"0\": 1, \"101\": 1, \"16\": 2, \"88\": 1}, \"101\": {\"101\": 77, \"91\": 3, \"127\": 4, \"8\": 10, \"0\": 9, \"98\": 6, \"27\": 3, \"86\": 2, \"10\": 6, \"24\": 2, \"26\": 1, \"111\": 1, \"87\": 1, \"4\": 2, \"14\": 1}, \"76\": {\"76\": 15, \"40\": 1}, \"70\": {\"76\": 1, \"86\": 1, \"22\": 2, \"70\": 40, \"27\": 3, \"40\": 1, \"17\": 2, \"104\": 1, \"108\": 2, \"4\": 8, \"71\": 2, \"101\": 2, \"105\": 2, \"99\": 1, \"98\": 10, \"10\": 4, \"24\": 5, \"88\": 5, \"43\": 1, \"90\": 1, \"8\": 1, \"117\": 2, \"0\": 1, \"116\": 1, \"85\": 1, \"103\": 1, \"128\": 1, \"127\": 4, \"5\": 1, \"122\": 1, \"120\": 1, \"111\": 1, \"87\": 3, \"49\": 1, \"1\": 3, \"34\": 1, \"93\": 1, \"109\": 1, \"114\": 1, \"7\": 1, \"124\": 1, \"110\": 1}, \"31\": {\"18\": 1, \"31\": 10, \"33\": 1, \"45\": 2, \"43\": 2}, \"86\": {\"86\": 23, \"85\": 1, \"98\": 2, \"120\": 1, \"27\": 1}, \"88\": {\"39\": 2, \"86\": 1, \"38\": 1, \"71\": 5, \"88\": 23, \"128\": 2, \"119\": 1, \"90\": 13, \"49\": 1, \"42\": 1, \"44\": 1, \"105\": 6, \"109\": 5, \"124\": 2, \"27\": 3, \"98\": 4, \"10\": 4, \"122\": 3, \"4\": 9, \"14\": 1, \"108\": 2, \"1\": 4, \"7\": 6, \"16\": 2, \"24\": 1, \"18\": 1, \"70\": 6, \"114\": 1, \"43\": 2, \"69\": 1, \"112\": 1, \"87\": 2, \"99\": 1, \"85\": 1, \"113\": 1, \"78\": 1, \"118\": 3, \"0\": 1, \"72\": 2, \"101\": 2, \"111\": 2, \"3\": 1}, \"3\": {\"3\": 78, \"28\": 3, \"62\": 1, \"79\": 2, \"107\": 10, \"40\": 7, \"18\": 2, \"26\": 1, \"14\": 1, \"71\": 2, \"8\": 2, \"33\": 3, \"11\": 5, \"110\": 1, \"5\": 3, \"115\": 1, \"108\": 1, \"73\": 1, \"104\": 1, \"88\": 1}, \"117\": {\"117\": 98, \"113\": 6, \"63\": 1, \"81\": 1, \"39\": 5, \"18\": 1, \"26\": 6, \"126\": 1, \"118\": 1}, \"30\": {\"27\": 2, \"9\": 2, \"10\": 4, \"120\": 1, \"106\": 4, \"30\": 24, \"47\": 2, \"89\": 1, \"8\": 4, \"15\": 5, \"98\": 1, \"125\": 2, \"0\": 4, \"126\": 1, \"12\": 1, \"111\": 3, \"36\": 1, \"101\": 2, \"86\": 1, \"42\": 1, \"91\": 1, \"58\": 2, \"103\": 1, \"18\": 1, \"94\": 1, \"6\": 2, \"49\": 1, \"117\": 1}, \"96\": {\"122\": 1, \"96\": 12, \"109\": 1, \"44\": 2, \"120\": 1, \"84\": 2, \"92\": 1}, \"27\": {\"27\": 23, \"117\": 2, \"91\": 1, \"106\": 1, \"12\": 8, \"34\": 3, \"95\": 1, \"85\": 1, \"70\": 2, \"52\": 2, \"127\": 4, \"15\": 1, \"0\": 6, \"10\": 5, \"39\": 1, \"8\": 7, \"43\": 1, \"105\": 1, \"126\": 1, \"4\": 4, \"90\": 1, \"26\": 1, \"113\": 1, \"24\": 3, \"36\": 1, \"41\": 1, \"98\": 3, \"38\": 1, \"120\": 1, \"42\": 1, \"125\": 1, \"30\": 1, \"53\": 1, \"86\": 1, \"101\": 2, \"110\": 1, \"18\": 1, \"88\": 1, \"7\": 1, \"87\": 1}, \"122\": {\"45\": 1, \"122\": 27, \"43\": 8, \"19\": 3, \"118\": 4, \"108\": 2, \"40\": 2, \"33\": 5, \"87\": 1, \"3\": 2, \"99\": 1, \"12\": 1, \"88\": 1, \"39\": 1, \"11\": 2, \"107\": 1, \"70\": 1, \"69\": 2, \"73\": 3, \"17\": 2, \"79\": 1, \"60\": 1, \"110\": 1, \"5\": 1, \"62\": 1, \"89\": 1, \"109\": 2, \"1\": 1, \"14\": 1, \"78\": 2, \"27\": 1, \"90\": 1}, \"120\": {\"120\": 17, \"21\": 1, \"7\": 2}, \"44\": {\"96\": 3, \"44\": 36, \"102\": 8, \"110\": 1, \"105\": 2, \"84\": 5, \"90\": 1, \"18\": 1, \"38\": 1, \"118\": 1, \"122\": 1, \"16\": 1, \"8\": 1, \"40\": 1, \"93\": 1}, \"79\": {\"79\": 10, \"73\": 2, \"3\": 1, \"39\": 1, \"14\": 1, \"19\": 1}, \"105\": {\"100\": 1, \"105\": 57, \"87\": 9, \"40\": 5, \"129\": 1, \"11\": 2, \"46\": 1, \"1\": 4, \"78\": 1, \"114\": 5, \"16\": 2, \"71\": 2, \"82\": 1, \"128\": 1, \"115\": 1, \"89\": 1, \"43\": 1, \"64\": 1, \"99\": 1, \"81\": 1, \"62\": 1, \"7\": 1}, \"95\": {\"95\": 23, \"86\": 1, \"34\": 2, \"127\": 1, \"21\": 1, \"111\": 1, \"8\": 2, \"117\": 1}, \"109\": {\"118\": 10, \"109\": 41, \"67\": 1, \"72\": 1, \"66\": 1, \"62\": 1, \"116\": 3, \"93\": 8, \"44\": 1, \"108\": 3, \"90\": 5, \"43\": 2, \"5\": 3, \"70\": 3, \"11\": 1, \"102\": 3, \"33\": 3, \"69\": 8, \"1\": 2, \"110\": 4, \"84\": 2, \"120\": 1, \"129\": 1, \"122\": 5, \"78\": 2, \"3\": 1}, \"16\": {\"67\": 2, \"16\": 84, \"39\": 1, \"84\": 7, \"122\": 1, \"102\": 7, \"18\": 1, \"26\": 1, \"90\": 2, \"44\": 2, \"13\": 1, \"2\": 1, \"62\": 1, \"96\": 1, \"88\": 1, \"24\": 2, \"69\": 3}, \"36\": {\"36\": 51, \"58\": 1, \"113\": 2, \"125\": 6, \"12\": 3, \"15\": 6, \"101\": 1, \"30\": 3, \"27\": 2, \"24\": 7, \"10\": 2, \"94\": 1, \"106\": 6, \"4\": 1, \"21\": 1, \"8\": 2, \"26\": 1, \"117\": 1, \"111\": 1}, \"125\": {\"125\": 100, \"6\": 1, \"36\": 9, \"75\": 1, \"94\": 3, \"106\": 2, \"113\": 1, \"15\": 7, \"10\": 5, \"24\": 6, \"111\": 1}, \"97\": {\"9\": 2, \"65\": 1, \"120\": 1, \"97\": 4, \"10\": 2, \"95\": 2, \"25\": 1, \"8\": 1, \"29\": 1, \"88\": 1, \"4\": 1, \"24\": 1, \"43\": 2}, \"91\": {\"91\": 15, \"27\": 1, \"54\": 1, \"86\": 1, \"127\": 1, \"101\": 1, \"77\": 1, \"68\": 1, \"8\": 1, \"47\": 1}, \"28\": {\"3\": 1, \"28\": 18, \"115\": 1}, \"81\": {\"81\": 27, \"21\": 1, \"78\": 1, \"26\": 2, \"39\": 1, \"63\": 1, \"80\": 1, \"117\": 2}, \"126\": {\"81\": 1, \"18\": 8, \"126\": 63, \"26\": 8, \"117\": 8, \"109\": 2, \"113\": 7, \"39\": 6, \"102\": 3, \"16\": 5, \"90\": 2, \"44\": 1, \"80\": 1, \"65\": 2, \"38\": 1, \"61\": 1, \"88\": 2, \"69\": 1}, \"4\": {\"4\": 68, \"112\": 1, \"10\": 1, \"127\": 6, \"126\": 1, \"98\": 3, \"88\": 2, \"39\": 1, \"113\": 1, \"18\": 1, \"70\": 1, \"1\": 3, \"124\": 1, \"86\": 2, \"17\": 2, \"42\": 1, \"111\": 1, \"95\": 1, \"71\": 2, \"110\": 1, \"12\": 2, \"0\": 1, \"69\": 1}, \"10\": {\"10\": 21, \"36\": 3, \"99\": 1, \"54\": 1, \"120\": 1, \"126\": 1, \"89\": 2, \"87\": 3, \"15\": 9, \"125\": 17, \"88\": 4, \"101\": 8, \"94\": 5, \"27\": 2, \"12\": 1, \"4\": 1, \"70\": 10, \"0\": 3, \"122\": 1, \"98\": 4, \"24\": 7, \"85\": 3, \"128\": 1, \"111\": 2, \"82\": 1, \"72\": 1, \"14\": 1, \"105\": 1, \"30\": 1, \"43\": 1, \"113\": 1, \"8\": 3, \"7\": 1, \"127\": 1, \"106\": 1}, \"63\": {\"63\": 15, \"113\": 1}, \"43\": {\"83\": 2, \"19\": 3, \"79\": 1, \"20\": 1, \"14\": 3, \"73\": 2, \"43\": 29, \"72\": 2, \"40\": 6, \"118\": 5, \"11\": 8, \"109\": 2, \"70\": 4, \"71\": 1, \"122\": 4, \"33\": 10, \"110\": 7, \"88\": 2, \"87\": 3, \"3\": 8, \"42\": 1, \"99\": 1, \"62\": 1, \"129\": 2, \"93\": 3, \"108\": 1, \"101\": 1, \"107\": 3, \"5\": 2}, \"116\": {\"116\": 13, \"109\": 3, \"49\": 2, \"122\": 1, \"69\": 1, \"102\": 1, \"92\": 2, \"73\": 1, \"5\": 3, \"90\": 1}, \"1\": {\"1\": 46, \"129\": 2, \"28\": 1, \"42\": 1, \"114\": 9, \"15\": 1, \"71\": 9, \"87\": 6, \"111\": 1, \"7\": 3, \"107\": 9, \"70\": 1, \"90\": 1, \"76\": 1, \"17\": 2, \"40\": 8, \"14\": 2, \"106\": 1, \"113\": 1, \"84\": 1, \"105\": 1, \"126\": 1}, \"94\": {\"54\": 2, \"10\": 1, \"65\": 1, \"94\": 37, \"125\": 9, \"111\": 2, \"24\": 11, \"12\": 3, \"108\": 1, \"15\": 8, \"18\": 1, \"30\": 2, \"106\": 5, \"8\": 1, \"26\": 1, \"47\": 1, \"36\": 2}, \"38\": {\"38\": 11, \"109\": 3, \"66\": 1, \"16\": 1}, \"54\": {\"54\": 16}, \"74\": {\"74\": 10, \"116\": 1, \"5\": 2, \"92\": 1, \"7\": 1, \"44\": 1}, \"25\": {\"25\": 15, \"97\": 1}, \"75\": {\"75\": 15, \"125\": 1}, \"119\": {\"119\": 11, \"82\": 2, \"128\": 1, \"7\": 1, \"123\": 1}, \"46\": {\"114\": 3, \"7\": 2, \"104\": 1, \"46\": 7, \"22\": 1, \"105\": 2, \"19\": 1, \"3\": 1, \"1\": 2}, \"23\": {\"123\": 1, \"54\": 1, \"23\": 1, \"126\": 1, \"127\": 1, \"113\": 1, \"39\": 2, \"86\": 3, \"81\": 1, \"18\": 2, \"75\": 1, \"120\": 1}, \"99\": {\"62\": 3, \"99\": 28, \"118\": 1, \"88\": 2, \"12\": 2, \"119\": 1, \"32\": 2, \"14\": 1}, \"33\": {\"33\": 99, \"11\": 5, \"43\": 2, \"110\": 7, \"69\": 1, \"90\": 1, \"31\": 1, \"93\": 1, \"16\": 1}, \"47\": {\"58\": 1, \"47\": 9, \"106\": 1, \"27\": 1}, \"115\": {\"87\": 2, \"115\": 8, \"107\": 2, \"1\": 1, \"3\": 1, \"14\": 1, \"100\": 1}, \"6\": {\"103\": 1, \"6\": 6, \"25\": 1, \"97\": 2, \"58\": 3, \"12\": 1, \"125\": 2, \"75\": 1, \"15\": 1, \"51\": 1, \"9\": 1, \"42\": 2, \"39\": 1, \"24\": 1}, \"65\": {\"84\": 1, \"65\": 9, \"26\": 2}, \"66\": {\"66\": 12, \"90\": 2, \"38\": 2}, \"78\": {\"108\": 1, \"6\": 1, \"26\": 1, \"34\": 1, \"44\": 2, \"114\": 1, \"87\": 2, \"10\": 1, \"40\": 2, \"16\": 2, \"8\": 1, \"14\": 1, \"88\": 3, \"78\": 4, \"70\": 4, \"62\": 1, \"15\": 1, \"109\": 3, \"122\": 2, \"12\": 1, \"1\": 1}, \"98\": {\"98\": 76, \"27\": 2, \"86\": 3, \"8\": 5, \"34\": 1, \"0\": 8, \"101\": 5, \"10\": 2, \"105\": 1, \"7\": 1, \"4\": 2, \"24\": 1, \"30\": 1, \"52\": 1, \"17\": 1, \"29\": 1, \"106\": 1, \"125\": 1, \"70\": 3}, \"93\": {\"110\": 8, \"93\": 47, \"122\": 3, \"44\": 4, \"11\": 6, \"90\": 9, \"108\": 1, \"102\": 6, \"69\": 9, \"109\": 7, \"88\": 4, \"5\": 7, \"33\": 2, \"72\": 1, \"78\": 1, \"84\": 1}, \"48\": {\"48\": 12, \"105\": 1, \"44\": 1, \"62\": 1, \"16\": 1}, \"124\": {\"124\": 106, \"111\": 1, \"4\": 4, \"71\": 1, \"126\": 1, \"114\": 1}}, \"Wisig_2\": {\"115\": {\"115\": 10, \"66\": 1, \"105\": 1}, \"34\": {\"34\": 14, \"7\": 2, \"59\": 1, \"110\": 3, \"49\": 2, \"11\": 2, \"108\": 2, \"0\": 1, \"128\": 1, \"8\": 1, \"35\": 1, \"12\": 1, \"41\": 1}, \"97\": {\"97\": 7, \"27\": 2, \"77\": 2, \"90\": 1, \"79\": 3, \"111\": 1, \"94\": 1, \"6\": 1, \"52\": 2}, \"100\": {\"100\": 16}, \"129\": {\"114\": 1, \"129\": 14, \"11\": 1, \"112\": 1, \"64\": 2, \"60\": 1, \"40\": 2, \"95\": 1, \"32\": 1, \"19\": 1, \"115\": 1, \"5\": 2, \"50\": 1, \"68\": 1, \"122\": 1, \"3\": 1}, \"90\": {\"90\": 122, \"70\": 6, \"126\": 2, \"83\": 2, \"109\": 1, \"88\": 5, \"33\": 1, \"39\": 1, \"69\": 1, \"93\": 1}, \"125\": {\"97\": 2, \"94\": 2, \"106\": 9, \"107\": 2, \"125\": 98, \"15\": 7, \"12\": 2, \"24\": 5, \"2\": 1, \"36\": 3, \"51\": 1}, \"7\": {\"7\": 72, \"34\": 1, \"95\": 3, \"56\": 1, \"86\": 1, \"42\": 1, \"110\": 3, \"122\": 9, \"71\": 9, \"105\": 2, \"114\": 4, \"4\": 4, \"127\": 1, \"24\": 1, \"117\": 2, \"108\": 3, \"47\": 1, \"8\": 1, \"93\": 1, \"107\": 1, \"11\": 3, \"98\": 2, \"40\": 2}, \"92\": {\"33\": 1, \"80\": 1, \"92\": 22, \"46\": 1, \"13\": 1, \"67\": 2}, \"114\": {\"114\": 87, \"4\": 3, \"39\": 1, \"86\": 1, \"71\": 8, \"107\": 1, \"124\": 4, \"5\": 4, \"8\": 1, \"95\": 2, \"49\": 1, \"70\": 1, \"7\": 1, \"12\": 1}, \"80\": {\"80\": 12, \"73\": 3, \"83\": 1}, \"16\": {\"16\": 85, \"83\": 1, \"87\": 3, \"88\": 3, \"62\": 2, \"69\": 4, \"117\": 1, \"109\": 2, \"90\": 4, \"102\": 2, \"93\": 4, \"84\": 1, \"26\": 1, \"57\": 2, \"31\": 1, \"72\": 2, \"39\": 2, \"118\": 1, \"70\": 1}, \"69\": {\"102\": 6, \"69\": 90, \"48\": 1, \"62\": 2, \"16\": 5, \"113\": 1, \"71\": 1, \"93\": 4, \"7\": 1, \"39\": 1, \"26\": 1, \"118\": 1, \"21\": 1, \"3\": 1}, \"102\": {\"102\": 98, \"13\": 1, \"93\": 1, \"69\": 6, \"48\": 2, \"71\": 1, \"72\": 1, \"16\": 2, \"87\": 1, \"109\": 1}, \"33\": {\"33\": 121, \"118\": 1, \"82\": 1, \"84\": 3, \"31\": 1, \"1\": 2, \"40\": 1}, \"17\": {\"34\": 2, \"17\": 8, \"54\": 1, \"26\": 1, \"11\": 1, \"127\": 2, \"125\": 1}, \"27\": {\"97\": 1, \"27\": 32, \"8\": 1, \"6\": 1, \"103\": 1, \"101\": 2, \"111\": 2, \"15\": 3, \"94\": 2, \"24\": 1, \"16\": 1, \"113\": 1, \"36\": 4, \"114\": 1, \"9\": 2, \"65\": 1, \"125\": 1, \"7\": 1, \"52\": 2, \"34\": 1, \"106\": 5, \"26\": 1, \"30\": 1}, \"117\": {\"117\": 99, \"113\": 1, \"18\": 5, \"26\": 1}, \"14\": {\"62\": 3, \"14\": 34, \"1\": 2, \"78\": 3, \"129\": 2, \"105\": 1, \"121\": 1, \"40\": 1, \"21\": 1}, \"86\": {\"86\": 26, \"98\": 1, \"7\": 1, \"42\": 1, \"114\": 1, \"24\": 1, \"122\": 1}, \"0\": {\"0\": 76, \"21\": 1, \"68\": 2, \"120\": 1, \"29\": 3, \"8\": 7, \"127\": 5, \"98\": 3, \"101\": 5, \"12\": 1, \"24\": 3, \"122\": 1, \"30\": 4, \"39\": 1, \"111\": 2, \"108\": 1}, \"62\": {\"62\": 112, \"50\": 2, \"14\": 3, \"70\": 4, \"43\": 6, \"33\": 1, \"44\": 3, \"10\": 1, \"46\": 1, \"101\": 1, \"1\": 2, \"26\": 1, \"105\": 1}, \"39\": {\"44\": 1, \"39\": 61, \"72\": 2, \"117\": 3, \"110\": 1, \"69\": 2, \"88\": 2, \"118\": 2, \"83\": 3, \"70\": 3, \"16\": 2, \"113\": 1, \"102\": 2, \"109\": 4, \"26\": 10, \"18\": 3, \"90\": 2, \"93\": 3, \"121\": 2, \"87\": 1, \"7\": 1, \"84\": 1}, \"19\": {\"19\": 19, \"59\": 2, \"62\": 3, \"55\": 1, \"71\": 1, \"129\": 1, \"40\": 1}, \"44\": {\"44\": 92, \"22\": 1, \"126\": 2, \"43\": 2, \"62\": 2, \"70\": 1}, \"104\": {\"86\": 3, \"12\": 2, \"104\": 7, \"110\": 1, \"66\": 1, \"54\": 2, \"114\": 1, \"17\": 2, \"24\": 1}, \"3\": {\"19\": 3, \"128\": 1, \"3\": 90, \"5\": 7, \"7\": 1, \"107\": 1, \"43\": 1, \"114\": 3, \"70\": 1, \"12\": 1, \"87\": 1, \"18\": 1, \"40\": 6, \"44\": 1, \"26\": 1, \"105\": 2, \"66\": 1, \"21\": 1, \"93\": 1, \"8\": 1, \"71\": 2, \"1\": 2, \"124\": 1}, \"10\": {\"10\": 33, \"53\": 5, \"70\": 2, \"120\": 1, \"43\": 1, \"32\": 1, \"128\": 1, \"78\": 2, \"105\": 1, \"126\": 1, \"44\": 1, \"11\": 1, \"18\": 2, \"110\": 1, \"21\": 1, \"24\": 1, \"72\": 1, \"122\": 2, \"98\": 2}, \"61\": {\"68\": 2, \"61\": 10, \"121\": 2, \"96\": 1, \"74\": 2, \"63\": 1, \"50\": 1, \"39\": 1}, \"111\": {\"101\": 3, \"103\": 1, \"111\": 96, \"49\": 1, \"34\": 1, \"12\": 3, \"30\": 1, \"127\": 5, \"15\": 1, \"98\": 1, \"24\": 1}, \"68\": {\"98\": 3, \"68\": 9, \"30\": 2, \"86\": 1, \"54\": 1}, \"101\": {\"103\": 2, \"101\": 128, \"52\": 1, \"75\": 1, \"26\": 1, \"8\": 1, \"127\": 2, \"98\": 1, \"94\": 1, \"0\": 1, \"30\": 3, \"36\": 1, \"113\": 1}, \"36\": {\"101\": 8, \"121\": 1, \"36\": 51, \"97\": 1, \"27\": 6, \"58\": 2, \"15\": 12, \"9\": 3, \"18\": 2, \"6\": 2, \"24\": 4, \"111\": 2, \"94\": 3, \"30\": 6, \"125\": 6, \"98\": 1, \"106\": 7, \"117\": 3, \"12\": 2, \"75\": 1, \"52\": 2, \"59\": 1, \"4\": 1, \"93\": 1}, \"120\": {\"120\": 20}, \"103\": {\"103\": 13, \"54\": 2, \"30\": 1}, \"47\": {\"111\": 1, \"76\": 1, \"47\": 7, \"43\": 1, \"50\": 1, \"129\": 1}, \"98\": {\"98\": 78, \"42\": 1, \"34\": 2, \"8\": 10, \"0\": 5, \"108\": 6, \"122\": 1, \"127\": 4, \"4\": 1, \"12\": 3, \"68\": 1, \"60\": 1, \"114\": 2, \"106\": 1, \"7\": 2, \"11\": 1, \"24\": 1}, \"76\": {\"76\": 12, \"3\": 2, \"49\": 1, \"64\": 1}, \"88\": {\"88\": 31, \"16\": 7, \"57\": 2, \"11\": 2, \"78\": 3, \"116\": 1, \"126\": 8, \"14\": 1, \"87\": 7, \"22\": 1, \"90\": 10, \"44\": 6, \"1\": 1, \"83\": 3, \"109\": 11, \"62\": 6, \"69\": 3, \"39\": 4, \"105\": 1, \"43\": 1, \"33\": 3, \"102\": 2, \"96\": 1, \"63\": 1, \"118\": 2, \"110\": 1, \"23\": 1, \"70\": 2, \"93\": 1, \"40\": 1}, \"93\": {\"93\": 65, \"96\": 3, \"16\": 10, \"26\": 2, \"88\": 4, \"44\": 1, \"126\": 1, \"90\": 10, \"4\": 2, \"69\": 17, \"70\": 2, \"84\": 2, \"87\": 2, \"102\": 11, \"57\": 2, \"72\": 2, \"71\": 1, \"3\": 1}, \"23\": {\"120\": 1, \"98\": 4, \"105\": 3, \"37\": 1, \"99\": 2, \"11\": 1, \"127\": 2, \"21\": 4, \"23\": 3, \"69\": 1, \"117\": 2, \"7\": 2, \"114\": 1, \"109\": 1, \"8\": 3, \"66\": 1, \"4\": 1, \"116\": 2, \"121\": 1, \"34\": 1, \"35\": 1, \"87\": 1, \"113\": 2, \"16\": 1, \"12\": 2}, \"108\": {\"98\": 7, \"74\": 1, \"66\": 1, \"122\": 18, \"108\": 38, \"24\": 4, \"32\": 2, \"10\": 2, \"128\": 1, \"127\": 4, \"79\": 1, \"58\": 1, \"71\": 1, \"105\": 2, \"30\": 3, \"8\": 8, \"5\": 1, \"12\": 2, \"109\": 1, \"7\": 7, \"103\": 1, \"124\": 6, \"35\": 1, \"97\": 1, \"41\": 2, \"49\": 1, \"29\": 1, \"4\": 1, \"11\": 1, \"111\": 3, \"0\": 1}, \"51\": {\"54\": 3, \"79\": 2, \"90\": 1, \"51\": 3, \"111\": 1, \"58\": 1, \"8\": 2, \"25\": 1, \"36\": 1, \"44\": 2, \"49\": 1, \"127\": 2}, \"13\": {\"13\": 5, \"121\": 1, \"93\": 1, \"100\": 2, \"39\": 1, \"87\": 2, \"48\": 2, \"2\": 1, \"113\": 1}, \"77\": {\"68\": 1, \"77\": 11, \"59\": 2, \"0\": 1, \"97\": 1}, \"46\": {\"46\": 10, \"84\": 2, \"50\": 1, \"1\": 2, \"60\": 1}, \"96\": {\"96\": 14, \"13\": 1, \"70\": 1, \"93\": 1, \"16\": 1, \"90\": 2}, \"119\": {\"119\": 17, \"62\": 1, \"106\": 1, \"118\": 1}, \"121\": {\"121\": 26, \"99\": 2, \"14\": 2, \"65\": 3, \"26\": 2, \"72\": 1}, \"54\": {\"54\": 10, \"12\": 1, \"28\": 1, \"68\": 1, \"52\": 1, \"86\": 1, \"111\": 1, \"104\": 1, \"65\": 1, \"0\": 1, \"34\": 1}, \"82\": {\"82\": 29, \"87\": 1, \"84\": 1, \"60\": 2, \"65\": 1, \"116\": 1, \"33\": 1}, \"12\": {\"77\": 1, \"68\": 2, \"54\": 1, \"12\": 36, \"108\": 7, \"103\": 1, \"94\": 2, \"111\": 11, \"23\": 1, \"122\": 1, \"98\": 3, \"18\": 1, \"8\": 3, \"127\": 6, \"30\": 4, \"52\": 1, \"86\": 1, \"49\": 1, \"39\": 1, \"0\": 1, \"62\": 1, \"102\": 1, \"7\": 1}, \"74\": {\"74\": 13, \"29\": 2, \"81\": 1}, \"66\": {\"66\": 16, \"74\": 1, \"115\": 1, \"24\": 1, \"27\": 1}, \"28\": {\"28\": 15, \"85\": 1, \"55\": 1, \"40\": 2, \"64\": 1}, \"52\": {\"52\": 17, \"79\": 1, \"106\": 1, \"25\": 1}, \"41\": {\"74\": 1, \"15\": 1, \"41\": 13, \"108\": 1, \"128\": 1, \"29\": 1, \"125\": 1, \"91\": 1}, \"81\": {\"81\": 20, \"18\": 2, \"26\": 2}, \"48\": {\"13\": 2, \"48\": 14, \"69\": 1, \"100\": 2, \"92\": 1}, \"113\": {\"113\": 64, \"117\": 3, \"18\": 2, \"78\": 1, \"21\": 1, \"39\": 1}, \"53\": {\"74\": 1, \"53\": 14, \"10\": 1}, \"15\": {\"15\": 44, \"97\": 1, \"36\": 10, \"101\": 12, \"106\": 5, \"6\": 4, \"58\": 1, \"9\": 4, \"8\": 1, \"94\": 4, \"111\": 4, \"0\": 4, \"125\": 18, \"30\": 2, \"25\": 1, \"51\": 1, \"24\": 2, \"27\": 1, \"102\": 1}, \"30\": {\"30\": 34, \"25\": 4, \"8\": 5, \"68\": 1, \"34\": 1, \"101\": 6, \"97\": 2, \"0\": 7, \"10\": 1, \"15\": 6, \"91\": 1, \"93\": 2, \"125\": 1, \"23\": 1, \"24\": 2, \"98\": 11, \"43\": 2, \"94\": 2, \"7\": 1, \"108\": 2, \"29\": 1, \"44\": 2, \"127\": 5, \"54\": 1, \"86\": 1, \"106\": 2, \"111\": 5, \"12\": 1, \"107\": 1, \"4\": 1}, \"43\": {\"73\": 1, \"70\": 10, \"43\": 45, \"14\": 2, \"44\": 11, \"47\": 1, \"129\": 2, \"63\": 1, \"1\": 8, \"107\": 2, \"105\": 3, \"40\": 7, \"109\": 1, \"93\": 1, \"126\": 3, \"71\": 1, \"90\": 1, \"33\": 2, \"62\": 6, \"3\": 2, \"76\": 1, \"42\": 1, \"22\": 1, \"110\": 1, \"98\": 1, \"10\": 2, \"78\": 2, \"46\": 1, \"87\": 1, \"5\": 1, \"88\": 2}, \"29\": {\"29\": 27, \"41\": 2, \"8\": 2, \"35\": 1}, \"109\": {\"70\": 2, \"109\": 39, \"93\": 4, \"20\": 1, \"90\": 7, \"33\": 2, \"117\": 1, \"31\": 1, \"126\": 4, \"113\": 1, \"16\": 7, \"11\": 1, \"87\": 3, \"69\": 4, \"88\": 9, \"62\": 1, \"18\": 1, \"39\": 2, \"102\": 3, \"100\": 1, \"21\": 1, \"10\": 2, \"84\": 2, \"44\": 1}, \"60\": {\"80\": 1, \"10\": 1, \"42\": 1, \"60\": 9, \"32\": 1, \"47\": 1, \"87\": 1, \"3\": 5, \"116\": 1, \"16\": 1, \"66\": 1, \"62\": 2, \"44\": 1, \"73\": 2}, \"70\": {\"70\": 27, \"32\": 1, \"30\": 2, \"1\": 10, \"121\": 1, \"76\": 1, \"78\": 2, \"123\": 1, \"110\": 1, \"126\": 8, \"62\": 3, \"127\": 1, \"113\": 2, \"90\": 12, \"23\": 1, \"16\": 3, \"105\": 7, \"44\": 4, \"43\": 6, \"117\": 1, \"71\": 1, \"33\": 2, \"40\": 2, \"88\": 6, \"3\": 2, \"46\": 1, \"64\": 1, \"39\": 1, \"95\": 1, \"83\": 3, \"14\": 1, \"10\": 3, \"109\": 2, \"122\": 1, \"108\": 1}, \"127\": {\"127\": 77, \"97\": 1, \"77\": 1, \"12\": 9, \"91\": 1, \"8\": 5, \"98\": 8, \"30\": 7, \"111\": 6, \"114\": 2, \"0\": 2, \"17\": 1, \"99\": 1, \"54\": 2, \"108\": 1}, \"32\": {\"32\": 26, \"40\": 1, \"11\": 2, \"12\": 1, \"122\": 2, \"105\": 1, \"7\": 2, \"71\": 1}, \"73\": {\"73\": 13, \"64\": 1, \"55\": 2, \"88\": 1, \"40\": 2, \"110\": 1, \"85\": 1, \"1\": 5, \"71\": 2}, \"50\": {\"1\": 2, \"50\": 9, \"9\": 1, \"26\": 1, \"101\": 1, \"107\": 2}, \"1\": {\"1\": 104, \"2\": 1, \"30\": 1, \"73\": 1, \"117\": 1, \"82\": 2, \"43\": 2, \"3\": 1, \"70\": 2, \"33\": 2, \"40\": 2, \"76\": 1, \"93\": 1, \"39\": 1, \"26\": 1, \"62\": 1}, \"106\": {\"51\": 1, \"106\": 82, \"75\": 1, \"6\": 1, \"65\": 1, \"27\": 4, \"15\": 8, \"94\": 2, \"36\": 7, \"24\": 1, \"101\": 1, \"30\": 2, \"111\": 2, \"19\": 1, \"2\": 1, \"125\": 4, \"69\": 1}, \"123\": {\"123\": 15, \"78\": 1}, \"79\": {\"79\": 15, \"97\": 1}, \"4\": {\"8\": 3, \"4\": 51, \"11\": 4, \"95\": 2, \"40\": 1, \"124\": 1, \"7\": 2, \"71\": 4, \"122\": 4, \"5\": 1, \"18\": 1, \"108\": 3, \"114\": 2, \"65\": 1, \"49\": 1, \"48\": 1, \"110\": 1, \"34\": 1, \"97\": 1, \"12\": 1, \"98\": 2}, \"2\": {\"121\": 2, \"2\": 23, \"26\": 5, \"18\": 1, \"39\": 1}, \"8\": {\"8\": 67, \"79\": 1, \"41\": 3, \"59\": 1, \"86\": 1, \"24\": 4, \"108\": 13, \"127\": 8, \"32\": 1, \"30\": 2, \"117\": 2, \"0\": 5, \"98\": 5, \"29\": 2, \"11\": 2, \"122\": 5, \"114\": 1, \"7\": 1, \"113\": 1, \"4\": 2, \"18\": 1}, \"83\": {\"83\": 32, \"109\": 1, \"90\": 2, \"118\": 3, \"119\": 1, \"44\": 1}, \"105\": {\"123\": 1, \"74\": 1, \"105\": 95, \"43\": 1, \"19\": 1, \"107\": 1, \"71\": 10, \"127\": 2, \"4\": 1, \"12\": 1, \"40\": 5, \"122\": 3, \"7\": 1, \"115\": 1, \"37\": 1, \"11\": 1, \"113\": 1, \"30\": 1, \"70\": 1, \"3\": 1}, \"5\": {\"5\": 79, \"40\": 4, \"28\": 2, \"85\": 1, \"65\": 1, \"3\": 9, \"107\": 4, \"70\": 1, \"122\": 1, \"114\": 2, \"71\": 1, \"11\": 1, \"18\": 2, \"95\": 1, \"110\": 2, \"117\": 1}, \"99\": {\"99\": 24, \"81\": 2, \"121\": 2, \"23\": 1, \"65\": 1, \"39\": 1, \"2\": 1}, \"25\": {\"25\": 15, \"58\": 1}, \"59\": {\"59\": 5, \"77\": 1, \"0\": 2, \"63\": 1, \"34\": 2, \"98\": 2, \"91\": 1, \"93\": 1, \"90\": 1}, \"42\": {\"77\": 1, \"95\": 1, \"52\": 2, \"98\": 1, \"111\": 6, \"44\": 1, \"60\": 1, \"127\": 1, \"94\": 1, \"34\": 2, \"42\": 1, \"10\": 1, \"113\": 1, \"6\": 2, \"0\": 2, \"51\": 1, \"88\": 1, \"62\": 1, \"39\": 1}, \"55\": {\"42\": 2, \"55\": 11, \"1\": 1, \"3\": 2}, \"75\": {\"127\": 1, \"75\": 15}, \"118\": {\"42\": 1, \"118\": 26, \"82\": 4, \"14\": 4, \"55\": 1, \"10\": 1, \"89\": 4, \"66\": 1, \"119\": 1, \"84\": 5, \"78\": 3, \"102\": 1, \"116\": 3, \"99\": 1, \"71\": 2, \"43\": 3, \"33\": 2, \"16\": 1, \"126\": 3, \"87\": 1}, \"95\": {\"55\": 1, \"4\": 2, \"121\": 1, \"95\": 20, \"86\": 1, \"107\": 1, \"32\": 1, \"7\": 2, \"122\": 1, \"81\": 1, \"104\": 1, \"5\": 1, \"110\": 3}, \"122\": {\"122\": 35, \"54\": 1, \"32\": 2, \"24\": 5, \"29\": 2, \"86\": 2, \"110\": 1, \"127\": 3, \"4\": 5, \"62\": 3, \"98\": 6, \"7\": 5, \"10\": 3, \"30\": 2, \"11\": 3, \"8\": 5, \"105\": 5, \"108\": 13, \"12\": 2, \"115\": 1, \"17\": 1, \"49\": 1, \"22\": 1, \"114\": 5, \"53\": 2, \"107\": 3, \"71\": 2, \"124\": 1}, \"20\": {\"20\": 15, \"61\": 1}, \"110\": {\"110\": 21, \"105\": 1, \"11\": 1, \"26\": 1, \"7\": 3, \"19\": 1, \"6\": 1, \"21\": 1, \"40\": 1, \"128\": 1, \"114\": 2, \"39\": 1, \"14\": 1, \"17\": 1, \"99\": 1, \"5\": 1, \"4\": 1}, \"65\": {\"65\": 20}, \"37\": {\"114\": 2, \"74\": 1, \"37\": 7, \"128\": 1, \"115\": 1, \"104\": 1, \"95\": 1, \"107\": 1, \"53\": 1}, \"64\": {\"64\": 9, \"55\": 2, \"3\": 1, \"28\": 3, \"95\": 1}, \"63\": {\"63\": 18, \"128\": 1, \"18\": 1}, \"40\": {\"5\": 11, \"40\": 79, \"50\": 1, \"95\": 1, \"32\": 1, \"107\": 2, \"129\": 2, \"18\": 1, \"14\": 1, \"117\": 4, \"3\": 15, \"69\": 1, \"93\": 1, \"105\": 6, \"71\": 4, \"114\": 2, \"113\": 2, \"39\": 1, \"109\": 1, \"90\": 1, \"122\": 1, \"7\": 2}, \"21\": {\"21\": 20, \"63\": 1, \"16\": 3, \"109\": 2, \"126\": 3, \"65\": 1, \"88\": 1, \"44\": 1, \"87\": 4, \"18\": 1, \"62\": 1, \"39\": 2, \"99\": 3, \"121\": 1, \"26\": 1, \"113\": 1, \"83\": 1, \"117\": 1}, \"11\": {\"95\": 2, \"5\": 5, \"11\": 23, \"129\": 1, \"108\": 3, \"123\": 1, \"128\": 1, \"7\": 7, \"105\": 5, \"71\": 7, \"110\": 1, \"62\": 1, \"122\": 1, \"8\": 4, \"114\": 6, \"80\": 1, \"18\": 2, \"86\": 2, \"93\": 1, \"40\": 2, \"4\": 1, \"22\": 1, \"85\": 1, \"127\": 1}, \"67\": {\"67\": 15, \"1\": 1}, \"91\": {\"91\": 21, \"87\": 1, \"0\": 1, \"18\": 1, \"24\": 2, \"101\": 1, \"4\": 1}, \"87\": {\"16\": 7, \"87\": 29, \"38\": 1, \"60\": 1, \"109\": 3, \"93\": 5, \"22\": 1, \"89\": 3, \"116\": 2, \"88\": 6, \"90\": 8, \"102\": 11, \"44\": 2, \"11\": 2, \"70\": 2, \"69\": 8, \"126\": 3, \"84\": 4, \"117\": 2, \"13\": 1, \"83\": 4, \"110\": 1, \"43\": 1, \"39\": 2, \"118\": 3}, \"89\": {\"89\": 25, \"118\": 1, \"116\": 1, \"15\": 1, \"24\": 1, \"87\": 1, \"92\": 1, \"18\": 1, \"42\": 1, \"82\": 3}, \"9\": {\"9\": 30, \"36\": 2}, \"124\": {\"124\": 92, \"34\": 1, \"86\": 2, \"49\": 1, \"111\": 1, \"114\": 4, \"5\": 2, \"4\": 4, \"3\": 2, \"54\": 2, \"12\": 1, \"108\": 2}, \"56\": {\"124\": 1, \"56\": 6, \"6\": 1, \"86\": 1, \"24\": 1, \"112\": 1, \"95\": 1}, \"38\": {\"38\": 15, \"60\": 1}, \"94\": {\"75\": 3, \"94\": 12, \"9\": 2, \"106\": 9, \"27\": 1, \"111\": 5, \"110\": 1, \"101\": 5, \"36\": 4, \"30\": 3, \"8\": 1, \"113\": 2, \"15\": 5, \"52\": 1, \"26\": 1, \"117\": 1, \"125\": 4, \"93\": 1, \"0\": 1, \"127\": 1, \"39\": 1}, \"6\": {\"106\": 2, \"6\": 24, \"101\": 1, \"15\": 1, \"36\": 1, \"51\": 1, \"58\": 2}, \"58\": {\"58\": 9, \"125\": 4, \"26\": 1, \"106\": 1, \"6\": 4, \"25\": 1}, \"22\": {\"22\": 16, \"43\": 1, \"42\": 1, \"105\": 2}, \"24\": {\"41\": 1, \"24\": 15, \"66\": 1, \"39\": 2, \"104\": 2, \"125\": 13, \"9\": 2, \"8\": 5, \"42\": 1, \"27\": 1, \"44\": 2, \"18\": 3, \"6\": 2, \"32\": 1, \"110\": 1, \"106\": 9, \"7\": 2, \"36\": 8, \"98\": 4, \"94\": 2, \"30\": 1, \"101\": 2, \"105\": 2, \"108\": 2, \"43\": 2, \"122\": 4, \"127\": 1, \"69\": 1, \"15\": 2, \"71\": 1, \"56\": 3, \"95\": 1, \"25\": 1, \"120\": 1, \"117\": 1, \"76\": 1, \"90\": 2, \"0\": 2, \"109\": 1, \"87\": 1, \"111\": 1, \"40\": 1, \"88\": 1}, \"57\": {\"57\": 20}, \"112\": {\"112\": 8, \"24\": 1, \"129\": 1, \"4\": 1, \"115\": 1, \"40\": 2, \"66\": 1, \"19\": 1}, \"116\": {\"116\": 15, \"100\": 1, \"113\": 2, \"31\": 1, \"126\": 1, \"118\": 2, \"33\": 1, \"102\": 1, \"82\": 1, \"122\": 1, \"88\": 1, \"69\": 1}, \"18\": {\"18\": 104, \"117\": 8, \"113\": 1, \"102\": 1, \"107\": 2, \"109\": 1, \"26\": 4, \"16\": 1, \"121\": 2, \"39\": 3, \"87\": 1}, \"49\": {\"112\": 1, \"86\": 1, \"34\": 3, \"8\": 1, \"109\": 2, \"19\": 2, \"101\": 1, \"11\": 1, \"129\": 1, \"49\": 2, \"4\": 1, \"114\": 1, \"125\": 1, \"30\": 1, \"59\": 1, \"127\": 1, \"106\": 2, \"51\": 1}, \"45\": {\"45\": 14, \"89\": 2}, \"107\": {\"5\": 3, \"66\": 1, \"85\": 1, \"114\": 3, \"37\": 1, \"107\": 18, \"78\": 1, \"86\": 1, \"3\": 2, \"95\": 2, \"110\": 3, \"38\": 1, \"40\": 5, \"39\": 3, \"105\": 3, \"7\": 1, \"4\": 2, \"61\": 1, \"121\": 1, \"17\": 1, \"20\": 1, \"32\": 1, \"129\": 1, \"9\": 1, \"122\": 1, \"11\": 2, \"87\": 1, \"71\": 2}, \"35\": {\"35\": 9, \"34\": 1, \"8\": 1, \"98\": 1}, \"78\": {\"78\": 11, \"123\": 1, \"51\": 1, \"129\": 1, \"43\": 1, \"20\": 1, \"93\": 2, \"87\": 2, \"118\": 2, \"126\": 1, \"83\": 1, \"40\": 4, \"18\": 1, \"50\": 3, \"63\": 1, \"44\": 2, \"22\": 1, \"74\": 1, \"81\": 1, \"71\": 1, \"19\": 1, \"66\": 1, \"62\": 1, \"70\": 1, \"32\": 2, \"5\": 1, \"90\": 1, \"14\": 1}, \"126\": {\"126\": 35, \"78\": 3, \"3\": 1, \"60\": 1, \"23\": 2, \"63\": 1, \"93\": 1, \"1\": 2, \"14\": 2, \"33\": 9, \"83\": 5, \"90\": 7, \"102\": 4, \"70\": 9, \"118\": 1, \"44\": 9, \"16\": 2, \"124\": 1, \"88\": 3, \"62\": 3, \"84\": 6, \"87\": 1, \"71\": 1, \"109\": 1, \"40\": 2, \"123\": 2, \"61\": 2, \"38\": 1, \"80\": 1, \"69\": 2}, \"85\": {\"85\": 21, \"50\": 1, \"40\": 1, \"19\": 2, \"95\": 2, \"84\": 1, \"122\": 1, \"128\": 1, \"5\": 2}, \"72\": {\"72\": 22, \"69\": 1, \"109\": 1, \"93\": 2, \"21\": 1, \"116\": 1}, \"26\": {\"26\": 105, \"62\": 1, \"2\": 4, \"43\": 2, \"87\": 2, \"18\": 3, \"15\": 1, \"99\": 1, \"39\": 1, \"93\": 2, \"117\": 2}, \"84\": {\"84\": 67, \"125\": 1, \"1\": 3, \"69\": 1, \"87\": 3, \"16\": 2, \"33\": 9, \"45\": 1, \"92\": 1, \"113\": 1, \"109\": 2, \"126\": 1}, \"128\": {\"108\": 1, \"107\": 1, \"38\": 2, \"128\": 2, \"44\": 1, \"111\": 2, \"3\": 2, \"105\": 1, \"70\": 1, \"79\": 2, \"0\": 2, \"101\": 1, \"22\": 1, \"127\": 2, \"11\": 1, \"14\": 1, \"43\": 1}, \"31\": {\"31\": 13, \"96\": 1, \"116\": 1, \"69\": 1, \"16\": 1, \"48\": 2, \"87\": 1}, \"71\": {\"7\": 6, \"71\": 61, \"107\": 2, \"110\": 1, \"114\": 5, \"105\": 3, \"40\": 5, \"3\": 3, \"109\": 1, \"4\": 2, \"11\": 3, \"88\": 1, \"122\": 2, \"86\": 1, \"37\": 1, \"5\": 2, \"95\": 1}}, \"Wisig_1\": {\"22\": {\"22\": 15, \"82\": 1}, \"58\": {\"37\": 1, \"58\": 10, \"52\": 1}, \"109\": {\"99\": 1, \"20\": 1, \"28\": 1, \"129\": 1, \"116\": 1, \"96\": 1, \"87\": 2, \"109\": 47, \"25\": 2, \"90\": 22, \"61\": 2, \"11\": 10, \"69\": 2, \"1\": 3, \"62\": 5, \"44\": 3, \"3\": 1, \"102\": 3, \"7\": 5, \"33\": 4, \"66\": 2, \"14\": 1, \"126\": 1, \"114\": 1, \"122\": 1, \"43\": 1}, \"77\": {\"77\": 15, \"34\": 1}, \"74\": {\"74\": 15, \"122\": 1}, \"10\": {\"10\": 77, \"70\": 5, \"75\": 2, \"24\": 1, \"41\": 1, \"127\": 1, \"8\": 7, \"110\": 6, \"93\": 4, \"44\": 1, \"0\": 6, \"108\": 1, \"101\": 2, \"43\": 2, \"126\": 1, \"86\": 1, \"98\": 1, \"105\": 1}, \"70\": {\"74\": 1, \"84\": 1, \"29\": 1, \"55\": 1, \"70\": 37, \"68\": 1, \"98\": 4, \"93\": 10, \"56\": 1, \"34\": 2, \"86\": 1, \"107\": 8, \"9\": 2, \"126\": 4, \"108\": 3, \"0\": 3, \"10\": 2, \"44\": 1, \"43\": 3, \"4\": 5, \"124\": 3, \"87\": 4, \"109\": 2, \"8\": 5, \"90\": 3, \"40\": 2, \"12\": 3, \"106\": 4, \"46\": 1, \"28\": 1, \"48\": 1, \"104\": 2, \"83\": 1, \"89\": 1, \"71\": 1, \"110\": 1, \"14\": 1, \"127\": 1}, \"84\": {\"84\": 71, \"114\": 6, \"80\": 1, \"5\": 1, \"1\": 6, \"43\": 5, \"87\": 4, \"105\": 1, \"122\": 3, \"14\": 4, \"7\": 2, \"40\": 3, \"70\": 1}, \"52\": {\"52\": 13, \"24\": 1, \"27\": 2, \"6\": 1, \"59\": 1, \"94\": 2}, \"20\": {\"22\": 1, \"62\": 2, \"97\": 1, \"120\": 2, \"20\": 9, \"43\": 1}, \"14\": {\"14\": 83, \"84\": 2, \"87\": 2, \"113\": 1, \"43\": 4, \"126\": 1, \"23\": 1, \"7\": 2}, \"37\": {\"37\": 15, \"30\": 1}, \"42\": {\"35\": 1, \"99\": 2, \"33\": 4, \"5\": 1, \"83\": 2, \"85\": 1, \"100\": 1, \"42\": 9, \"107\": 1, \"74\": 1, \"69\": 1, \"4\": 3, \"86\": 1}, \"99\": {\"62\": 2, \"99\": 14, \"21\": 2, \"14\": 1, \"33\": 2, \"82\": 1, \"69\": 1, \"90\": 1}, \"35\": {\"35\": 7, \"54\": 1, \"107\": 1, \"40\": 1, \"83\": 1, \"86\": 1}, \"62\": {\"62\": 107, \"33\": 4, \"7\": 4, \"50\": 3, \"82\": 1, \"113\": 1}, \"61\": {\"61\": 9, \"66\": 1, \"60\": 2}, \"7\": {\"7\": 117, \"79\": 1, \"44\": 1, \"10\": 1, \"48\": 1, \"1\": 5, \"84\": 3, \"87\": 1, \"126\": 5, \"43\": 1, \"45\": 1, \"73\": 1, \"14\": 2, \"122\": 1, \"18\": 1}, \"69\": {\"69\": 80, \"102\": 8, \"26\": 4, \"118\": 1, \"18\": 3, \"109\": 4, \"3\": 2, \"33\": 1, \"11\": 1}, \"55\": {\"55\": 8, \"77\": 1, \"93\": 3}, \"41\": {\"41\": 14, \"70\": 1, \"31\": 1}, \"120\": {\"120\": 18, \"14\": 1, \"78\": 1}, \"123\": {\"3\": 2, \"123\": 14}, \"97\": {\"127\": 2, \"97\": 6, \"17\": 1, \"32\": 1, \"47\": 1, \"18\": 1, \"0\": 1, \"98\": 1, \"59\": 1, \"95\": 1, \"6\": 2, \"58\": 1, \"8\": 1}, \"102\": {\"69\": 7, \"102\": 103, \"2\": 1, \"3\": 3, \"16\": 2, \"33\": 2, \"116\": 1, \"113\": 1}, \"60\": {\"41\": 2, \"43\": 1, \"18\": 1, \"126\": 1, \"10\": 1, \"117\": 2, \"109\": 2, \"61\": 1, \"21\": 1, \"118\": 1, \"74\": 1, \"48\": 1, \"125\": 1}, \"127\": {\"127\": 63, \"32\": 2, \"97\": 1, \"27\": 1, \"56\": 3, \"24\": 2, \"4\": 1, \"71\": 10, \"26\": 1, \"106\": 9, \"113\": 1, \"72\": 1, \"121\": 1, \"12\": 2, \"98\": 5, \"111\": 3, \"94\": 1, \"110\": 1}, \"32\": {\"127\": 2, \"52\": 1, \"32\": 19, \"24\": 1, \"27\": 2, \"51\": 1, \"58\": 2, \"49\": 1, \"6\": 1, \"98\": 1, \"15\": 1}, \"3\": {\"69\": 8, \"116\": 1, \"3\": 60, \"102\": 4, \"15\": 2, \"26\": 1, \"109\": 1, \"36\": 1, \"118\": 3, \"27\": 1, \"110\": 1, \"33\": 3, \"88\": 1, \"113\": 1}, \"8\": {\"70\": 10, \"55\": 1, \"8\": 73, \"49\": 1, \"108\": 9, \"93\": 9, \"85\": 1, \"107\": 3, \"10\": 4, \"106\": 2, \"40\": 2, \"91\": 1, \"86\": 2, \"41\": 1, \"110\": 1, \"4\": 1, \"5\": 1}, \"129\": {\"129\": 9, \"126\": 1, \"9\": 1, \"100\": 1, \"23\": 1, \"114\": 1, \"1\": 3, \"5\": 2, \"3\": 1, \"105\": 2, \"67\": 1, \"19\": 1, \"26\": 1, \"69\": 1, \"83\": 1, \"33\": 1}, \"119\": {\"119\": 14, \"31\": 1, \"26\": 1}, \"21\": {\"109\": 3, \"8\": 1, \"21\": 15, \"39\": 3, \"87\": 2, \"1\": 1, \"44\": 1, \"0\": 1, \"90\": 3, \"61\": 2, \"126\": 1, \"10\": 1, \"57\": 1, \"60\": 1, \"58\": 1, \"18\": 1, \"121\": 1, \"72\": 1}, \"53\": {\"112\": 1, \"53\": 12, \"0\": 1, \"101\": 2, \"110\": 1, \"52\": 1, \"127\": 1, \"85\": 1}, \"28\": {\"28\": 20}, \"117\": {\"117\": 126, \"63\": 1, \"18\": 5, \"16\": 11, \"39\": 1}, \"112\": {\"112\": 11, \"94\": 1, \"27\": 1, \"32\": 1, \"88\": 1, \"77\": 1}, \"126\": {\"126\": 41, \"80\": 2, \"73\": 1, \"93\": 4, \"87\": 3, \"74\": 1, \"43\": 6, \"11\": 2, \"10\": 2, \"7\": 9, \"1\": 15, \"70\": 10, \"44\": 4, \"122\": 2, \"105\": 1, \"124\": 6, \"114\": 8, \"90\": 5, \"113\": 1, \"59\": 1, \"5\": 2, \"81\": 1, \"84\": 4, \"14\": 1, \"62\": 1, \"18\": 1}, \"30\": {\"112\": 2, \"53\": 1, \"75\": 3, \"32\": 1, \"107\": 1, \"30\": 16, \"51\": 1, \"52\": 3, \"86\": 3, \"0\": 3, \"91\": 2, \"92\": 1, \"127\": 3, \"111\": 3, \"98\": 1, \"97\": 2, \"56\": 1, \"15\": 2, \"27\": 2, \"106\": 1}, \"105\": {\"105\": 53, \"40\": 13, \"26\": 2, \"18\": 1, \"5\": 2, \"87\": 2, \"4\": 1, \"38\": 1, \"21\": 1, \"34\": 2, \"8\": 2, \"10\": 1, \"14\": 1, \"43\": 1, \"124\": 1}, \"29\": {\"29\": 26, \"106\": 1, \"89\": 1}, \"57\": {\"57\": 12}, \"93\": {\"55\": 2, \"93\": 62, \"77\": 3, \"8\": 9, \"105\": 2, \"4\": 9, \"107\": 14, \"34\": 1, \"40\": 4, \"9\": 1, \"103\": 1, \"44\": 2, \"10\": 6, \"85\": 1, \"70\": 9, \"108\": 3, \"14\": 1, \"109\": 1, \"110\": 1, \"86\": 1, \"5\": 2, \"98\": 1, \"43\": 3, \"90\": 1}, \"17\": {\"17\": 12, \"97\": 1, \"34\": 1, \"89\": 1, \"54\": 1}, \"44\": {\"44\": 52, \"87\": 8, \"7\": 1, \"126\": 1, \"83\": 2, \"43\": 5, \"84\": 3, \"122\": 2, \"70\": 2}, \"63\": {\"63\": 12, \"26\": 2, \"13\": 1, \"95\": 1}, \"87\": {\"93\": 1, \"87\": 35, \"129\": 1, \"44\": 4, \"73\": 1, \"126\": 3, \"114\": 6, \"10\": 3, \"1\": 1, \"84\": 10, \"83\": 2, \"70\": 5, \"105\": 5, \"43\": 8, \"7\": 2, \"124\": 1, \"69\": 1, \"122\": 3, \"40\": 3, \"14\": 4, \"104\": 3, \"54\": 1, \"19\": 1, \"74\": 2, \"5\": 1, \"16\": 1}, \"0\": {\"0\": 40, \"75\": 1, \"108\": 2, \"9\": 2, \"127\": 6, \"98\": 8, \"85\": 1, \"110\": 5, \"93\": 2, \"101\": 3, \"122\": 1, \"12\": 3, \"8\": 2, \"87\": 1, \"83\": 2, \"86\": 1, \"10\": 2, \"111\": 1, \"106\": 1}, \"96\": {\"57\": 2, \"116\": 1, \"7\": 2, \"126\": 1, \"115\": 1, \"96\": 9, \"90\": 1, \"18\": 1, \"78\": 1, \"70\": 1}, \"98\": {\"98\": 76, \"58\": 1, \"24\": 3, \"32\": 3, \"127\": 1, \"0\": 5, \"85\": 1, \"12\": 4, \"101\": 2, \"110\": 3, \"106\": 3, \"107\": 1, \"91\": 1, \"37\": 1, \"27\": 1, \"108\": 2}, \"75\": {\"75\": 14, \"70\": 1, \"55\": 1}, \"78\": {\"87\": 2, \"57\": 1, \"120\": 1, \"126\": 1, \"43\": 1, \"21\": 1, \"78\": 2, \"19\": 3, \"41\": 2, \"40\": 1, \"117\": 1}, \"116\": {\"116\": 16, \"50\": 5, \"48\": 1, \"26\": 1, \"62\": 1, \"81\": 1, \"33\": 1, \"102\": 1, \"60\": 1, \"96\": 1, \"11\": 1, \"7\": 1, \"94\": 1}, \"114\": {\"87\": 2, \"114\": 100, \"115\": 2, \"124\": 3, \"1\": 11, \"43\": 1, \"26\": 1, \"84\": 4, \"121\": 1, \"14\": 1, \"126\": 1, \"40\": 1}, \"103\": {\"103\": 11, \"12\": 1, \"29\": 1, \"71\": 1, \"106\": 2}, \"50\": {\"50\": 16}, \"124\": {\"124\": 117, \"17\": 1, \"9\": 1, \"87\": 1, \"114\": 6, \"94\": 2}, \"5\": {\"5\": 63, \"73\": 1, \"49\": 1, \"72\": 2, \"114\": 2, \"40\": 2, \"4\": 6, \"9\": 2, \"105\": 2, \"107\": 1, \"124\": 4, \"18\": 1, \"15\": 1}, \"73\": {\"87\": 1, \"103\": 1, \"73\": 12, \"84\": 1, \"19\": 1, \"105\": 2, \"14\": 1, \"5\": 1}, \"81\": {\"81\": 27, \"33\": 1}, \"49\": {\"49\": 5, \"93\": 3, \"52\": 2, \"98\": 1, \"32\": 2, \"97\": 2, \"34\": 1, \"9\": 1, \"54\": 1, \"5\": 1, \"129\": 1}, \"16\": {\"16\": 73, \"48\": 1, \"39\": 6, \"11\": 1, \"118\": 7, \"26\": 3, \"69\": 2, \"117\": 7, \"18\": 5, \"110\": 1, \"95\": 2}, \"101\": {\"101\": 112, \"32\": 1, \"98\": 3, \"108\": 1, \"12\": 1, \"110\": 2, \"24\": 3, \"71\": 1}, \"125\": {\"125\": 89, \"27\": 6, \"94\": 8, \"15\": 5, \"88\": 6, \"36\": 3, \"12\": 1}, \"65\": {\"16\": 1, \"28\": 1, \"112\": 1, \"45\": 1, \"44\": 1, \"65\": 1, \"66\": 2, \"2\": 1, \"87\": 1, \"76\": 1, \"3\": 1}, \"66\": {\"66\": 15, \"90\": 1}, \"79\": {\"8\": 1, \"79\": 9, \"80\": 1, \"4\": 1}, \"39\": {\"39\": 44, \"117\": 13, \"16\": 6, \"118\": 4, \"13\": 1, \"95\": 3, \"90\": 7, \"69\": 1, \"26\": 5, \"34\": 1, \"18\": 9, \"70\": 1, \"62\": 1, \"3\": 1, \"50\": 1, \"109\": 3, \"14\": 1, \"33\": 2}, \"104\": {\"104\": 12, \"19\": 1, \"79\": 1, \"105\": 1, \"43\": 1}, \"91\": {\"91\": 20, \"75\": 2, \"0\": 1, \"110\": 1, \"56\": 1, \"24\": 1, \"30\": 2}, \"25\": {\"25\": 16}, \"64\": {\"64\": 15, \"28\": 1}, \"34\": {\"43\": 3, \"32\": 3, \"38\": 1, \"24\": 1, \"34\": 2, \"71\": 3, \"89\": 4, \"36\": 1, \"82\": 1, \"90\": 1, \"77\": 1, \"87\": 3, \"79\": 1, \"125\": 1, \"44\": 1, \"106\": 2, \"93\": 1, \"92\": 1, \"84\": 1}, \"82\": {\"60\": 1, \"82\": 26, \"69\": 1, \"62\": 4, \"116\": 2, \"33\": 1, \"22\": 1}, \"18\": {\"18\": 93, \"26\": 3, \"117\": 13, \"39\": 4, \"16\": 3, \"95\": 2, \"62\": 2, \"63\": 1, \"2\": 2, \"109\": 1}, \"43\": {\"64\": 1, \"43\": 55, \"38\": 1, \"41\": 1, \"76\": 1, \"84\": 13, \"114\": 9, \"70\": 3, \"87\": 6, \"40\": 2, \"1\": 5, \"12\": 1, \"93\": 1, \"44\": 2, \"7\": 2, \"14\": 3, \"122\": 6, \"90\": 3, \"126\": 3, \"104\": 1, \"21\": 3, \"128\": 2, \"19\": 2, \"42\": 1, \"74\": 1}, \"47\": {\"17\": 2, \"47\": 8, \"12\": 1, \"55\": 1}, \"108\": {\"91\": 1, \"34\": 2, \"29\": 1, \"104\": 1, \"127\": 3, \"56\": 2, \"31\": 1, \"108\": 33, \"9\": 3, \"73\": 1, \"93\": 7, \"0\": 4, \"110\": 4, \"74\": 1, \"107\": 8, \"44\": 2, \"8\": 7, \"72\": 3, \"70\": 5, \"24\": 2, \"89\": 1, \"10\": 5, \"12\": 2, \"124\": 1, \"71\": 2, \"101\": 3, \"106\": 4, \"128\": 1, \"111\": 2, \"43\": 1, \"98\": 1, \"87\": 3, \"113\": 1, \"125\": 2, \"4\": 1, \"40\": 2, \"88\": 1}, \"111\": {\"111\": 79, \"68\": 3, \"71\": 6, \"51\": 1, \"24\": 1, \"94\": 1, \"70\": 1, \"106\": 3, \"103\": 2, \"15\": 2, \"127\": 5, \"56\": 1, \"12\": 1, \"88\": 2}, \"23\": {\"90\": 2, \"68\": 1, \"29\": 3, \"32\": 1, \"24\": 1, \"62\": 6, \"7\": 2, \"55\": 1, \"82\": 1, \"60\": 1, \"111\": 2, \"110\": 1, \"106\": 1, \"127\": 1}, \"90\": {\"90\": 144, \"66\": 2, \"62\": 1, \"82\": 1, \"36\": 2, \"109\": 6, \"11\": 1, \"61\": 2, \"16\": 1}, \"4\": {\"70\": 2, \"4\": 62, \"5\": 4, \"83\": 1, \"8\": 3, \"93\": 8, \"40\": 8, \"107\": 4, \"105\": 5, \"86\": 1, \"117\": 1, \"108\": 1}, \"92\": {\"92\": 23, \"58\": 1, \"111\": 1, \"32\": 1, \"127\": 1, \"15\": 1}, \"2\": {\"2\": 12, \"63\": 2, \"117\": 2, \"23\": 1, \"26\": 1, \"16\": 1, \"71\": 1, \"18\": 3, \"11\": 2, \"109\": 1, \"102\": 1, \"15\": 1, \"121\": 1, \"82\": 1, \"118\": 1, \"33\": 1}, \"45\": {\"90\": 1, \"102\": 1, \"80\": 1, \"42\": 1, \"76\": 1, \"67\": 1, \"43\": 1, \"25\": 1, \"118\": 1, \"28\": 1, \"117\": 1, \"50\": 1}, \"68\": {\"68\": 12, \"127\": 1, \"103\": 1, \"106\": 1, \"111\": 1}, \"26\": {\"26\": 109, \"119\": 2, \"18\": 4, \"39\": 4, \"117\": 1, \"95\": 2, \"118\": 3, \"87\": 1, \"16\": 1, \"69\": 1}, \"38\": {\"126\": 1, \"40\": 1, \"38\": 12, \"124\": 1, \"9\": 1}, \"40\": {\"40\": 110, \"107\": 4, \"93\": 2, \"105\": 11, \"5\": 5, \"128\": 1, \"114\": 1, \"4\": 5, \"14\": 1, \"124\": 1, \"87\": 1}, \"80\": {\"80\": 11, \"120\": 1, \"81\": 1, \"126\": 1, \"73\": 1, \"69\": 1}, \"107\": {\"107\": 85, \"91\": 1, \"72\": 7, \"65\": 1, \"108\": 1, \"5\": 1, \"70\": 3, \"106\": 1, \"93\": 4, \"4\": 1, \"16\": 1, \"110\": 5, \"40\": 1, \"85\": 1, \"8\": 1, \"77\": 2, \"34\": 1, \"29\": 1, \"39\": 1, \"12\": 2, \"113\": 1}, \"94\": {\"52\": 2, \"94\": 47, \"15\": 9, \"59\": 1, \"71\": 3, \"36\": 5, \"88\": 8, \"27\": 3, \"125\": 4, \"111\": 5, \"51\": 1, \"6\": 1, \"30\": 1, \"106\": 1, \"12\": 1}, \"115\": {\"115\": 11, \"7\": 1}, \"46\": {\"19\": 1, \"32\": 1, \"1\": 2, \"52\": 2, \"62\": 1, \"46\": 1, \"103\": 2, \"54\": 1, \"94\": 1}, \"72\": {\"72\": 21, \"107\": 4, \"98\": 1, \"108\": 3, \"41\": 1, \"101\": 1, \"4\": 1}, \"19\": {\"115\": 1, \"19\": 15, \"79\": 3, \"83\": 2, \"114\": 2, \"74\": 1, \"46\": 1, \"1\": 2, \"129\": 1}, \"100\": {\"100\": 10, \"33\": 2, \"67\": 1, \"98\": 1, \"88\": 1, \"62\": 1}, \"76\": {\"76\": 12, \"66\": 2, \"64\": 2}, \"106\": {\"106\": 87, \"49\": 1, \"24\": 2, \"12\": 10, \"127\": 5, \"107\": 1, \"101\": 1, \"71\": 2, \"88\": 2, \"111\": 7, \"110\": 5, \"0\": 2, \"68\": 3, \"77\": 2, \"98\": 2}, \"88\": {\"94\": 6, \"91\": 3, \"59\": 1, \"24\": 3, \"125\": 12, \"52\": 1, \"89\": 1, \"110\": 6, \"6\": 1, \"26\": 1, \"108\": 1, \"36\": 12, \"88\": 25, \"111\": 5, \"15\": 4, \"101\": 11, \"70\": 2, \"27\": 6, \"12\": 2, \"98\": 7, \"71\": 1, \"106\": 3, \"72\": 1, \"37\": 2, \"85\": 1, \"0\": 1, \"127\": 4, \"29\": 1, \"4\": 1, \"10\": 1, \"93\": 1, \"18\": 1, \"8\": 1, \"107\": 1}, \"15\": {\"94\": 12, \"15\": 43, \"53\": 1, \"6\": 1, \"27\": 4, \"29\": 1, \"101\": 1, \"88\": 6, \"71\": 7, \"12\": 7, \"125\": 5, \"98\": 2, \"111\": 3, \"36\": 1, \"68\": 1, \"127\": 3, \"106\": 1, \"32\": 1, \"92\": 1, \"110\": 1, \"113\": 1, \"24\": 1}, \"54\": {\"54\": 14, \"53\": 1, \"97\": 1}, \"13\": {\"13\": 16}, \"51\": {\"51\": 13, \"111\": 1, \"49\": 1, \"52\": 1}, \"24\": {\"24\": 19, \"51\": 1, \"71\": 7, \"56\": 1, \"97\": 1, \"127\": 9, \"49\": 1, \"27\": 4, \"91\": 3, \"32\": 3, \"110\": 3, \"0\": 4, \"10\": 3, \"15\": 2, \"12\": 6, \"34\": 1, \"40\": 1, \"111\": 2, \"106\": 5, \"8\": 2, \"105\": 1, \"88\": 2, \"101\": 4, \"92\": 1, \"108\": 1, \"30\": 1, \"118\": 1, \"93\": 1, \"98\": 2}, \"48\": {\"8\": 2, \"48\": 9, \"57\": 1}, \"85\": {\"85\": 32}, \"33\": {\"33\": 132, \"102\": 1, \"62\": 1, \"67\": 2, \"50\": 1, \"82\": 2, \"3\": 1}, \"71\": {\"24\": 6, \"71\": 57, \"32\": 1, \"116\": 1, \"30\": 1, \"6\": 1, \"127\": 6, \"36\": 2, \"110\": 1, \"15\": 2, \"98\": 5, \"111\": 7, \"106\": 5, \"125\": 2, \"117\": 1, \"12\": 4, \"123\": 1, \"94\": 1, \"90\": 1, \"108\": 1, \"8\": 1, \"107\": 1}, \"6\": {\"6\": 8, \"24\": 3, \"92\": 1, \"106\": 2, \"127\": 1, \"68\": 1, \"15\": 2, \"71\": 1, \"88\": 1, \"98\": 2, \"27\": 1, \"108\": 1, \"125\": 1, \"91\": 1, \"111\": 1, \"36\": 2, \"32\": 1, \"53\": 1, \"94\": 1}, \"83\": {\"83\": 24, \"2\": 1, \"38\": 1, \"108\": 1, \"118\": 1}, \"121\": {\"39\": 2, \"123\": 2, \"121\": 13, \"122\": 2, \"18\": 3, \"117\": 3, \"26\": 2, \"16\": 2, \"2\": 1, \"113\": 2}, \"31\": {\"31\": 11, \"121\": 1, \"74\": 1, \"57\": 1, \"41\": 1, \"85\": 1}, \"67\": {\"76\": 1, \"67\": 13, \"33\": 1, \"81\": 1}, \"1\": {\"1\": 100, \"114\": 10, \"84\": 9, \"87\": 2, \"7\": 4, \"70\": 1, \"126\": 5, \"46\": 1, \"120\": 1, \"18\": 1, \"122\": 1, \"43\": 1}, \"27\": {\"27\": 33, \"51\": 2, \"59\": 2, \"88\": 12, \"15\": 10, \"127\": 4, \"111\": 4, \"18\": 1, \"125\": 9, \"12\": 2, \"71\": 1, \"0\": 1, \"94\": 2, \"36\": 3, \"91\": 1, \"52\": 2, \"24\": 1, \"106\": 1, \"98\": 1}, \"118\": {\"118\": 55, \"39\": 3, \"99\": 1, \"69\": 3, \"26\": 7, \"18\": 2, \"95\": 1, \"16\": 4, \"33\": 1, \"60\": 1, \"117\": 3, \"109\": 2, \"90\": 1}, \"56\": {\"56\": 5, \"127\": 1, \"88\": 1, \"49\": 1, \"32\": 2, \"58\": 1, \"111\": 1}, \"36\": {\"36\": 101, \"30\": 1, \"94\": 4, \"27\": 1, \"117\": 1, \"15\": 1, \"88\": 6, \"125\": 13}, \"11\": {\"67\": 2, \"11\": 66, \"102\": 12, \"43\": 1, \"3\": 4, \"33\": 12, \"109\": 4, \"1\": 2, \"62\": 11, \"7\": 2, \"111\": 1, \"81\": 2, \"84\": 1, \"90\": 3, \"44\": 1, \"69\": 1, \"126\": 1}, \"110\": {\"91\": 2, \"110\": 66, \"101\": 7, \"0\": 6, \"71\": 5, \"18\": 2, \"10\": 3, \"88\": 3, \"127\": 3, \"24\": 1, \"98\": 8, \"106\": 5, \"75\": 1, \"30\": 1, \"72\": 2, \"12\": 2, \"108\": 3, \"8\": 1, \"107\": 1}, \"89\": {\"89\": 27, \"51\": 1, \"72\": 2, \"106\": 1, \"71\": 1, \"47\": 1, \"29\": 3}, \"113\": {\"113\": 102, \"16\": 2, \"18\": 4, \"117\": 6, \"12\": 1, \"36\": 1, \"69\": 1, \"107\": 1}, \"59\": {\"59\": 6, \"94\": 1, \"30\": 2, \"112\": 2, \"52\": 1}, \"9\": {\"9\": 16, \"110\": 1, \"29\": 1, \"103\": 1, \"98\": 2, \"26\": 1, \"107\": 3, \"24\": 1, \"49\": 1, \"85\": 1, \"17\": 1, \"5\": 1, \"108\": 2}, \"86\": {\"86\": 15, \"93\": 3, \"41\": 1, \"40\": 1, \"48\": 1, \"9\": 1, \"108\": 2, \"101\": 1, \"8\": 1, \"10\": 2, \"24\": 1, \"34\": 1, \"105\": 2, \"94\": 1, \"70\": 1, \"88\": 1, \"72\": 1}, \"12\": {\"12\": 43, \"111\": 5, \"101\": 5, \"106\": 5, \"98\": 4, \"15\": 4, \"71\": 4, \"0\": 2, \"127\": 4, \"24\": 1, \"88\": 5, \"125\": 1, \"107\": 1, \"94\": 3, \"113\": 1, \"16\": 1, \"110\": 3, \"36\": 1, \"32\": 1, \"85\": 1, \"27\": 2, \"30\": 1, \"118\": 1, \"108\": 4, \"18\": 1}, \"122\": {\"126\": 5, \"122\": 30, \"74\": 1, \"83\": 1, \"19\": 1, \"44\": 5, \"21\": 1, \"124\": 2, \"84\": 9, \"43\": 7, \"14\": 7, \"114\": 3, \"70\": 3, \"93\": 1, \"87\": 3, \"20\": 1, \"117\": 1, \"105\": 1, \"40\": 1, \"1\": 3, \"113\": 1, \"26\": 1}, \"128\": {\"128\": 3, \"98\": 5, \"110\": 2, \"14\": 2, \"106\": 1, \"108\": 1, \"9\": 2, \"82\": 1, \"115\": 1, \"90\": 1, \"22\": 1, \"20\": 1, \"72\": 1, \"34\": 2}, \"95\": {\"16\": 3, \"95\": 18, \"39\": 1, \"118\": 4, \"62\": 1, \"26\": 4, \"18\": 1, \"117\": 3, \"116\": 1}}}, \"per_domain_accuracy\": {\"ORACLE.run114\": {\"accuracy\": 0.88203125, \"source?\": true}, \"ORACLE.run120\": {\"accuracy\": 0.8291666666666667, \"source?\": true}, \"ORACLE.run150\": {\"accuracy\": 0.8338541666666667, \"source?\": true}, \"ORACLE.run126\": {\"accuracy\": 0.671875, \"source?\": true}, \"ORACLE.run132\": {\"accuracy\": 0.7528645833333333, \"source?\": true}, \"ORACLE.run144\": {\"accuracy\": 0.6791666666666667, \"source?\": true}, \"ORACLE.run18\": {\"accuracy\": 0.82734375, \"source?\": true}, \"ORACLE.run138\": {\"accuracy\": 0.7630208333333334, \"source?\": true}, \"Wisig_3\": {\"accuracy\": 0.6052128820960698, \"source?\": false}, \"Wisig_4\": {\"accuracy\": 0.5508780991735537, \"source?\": false}, \"Wisig_2\": {\"accuracy\": 0.6036392405063291, \"source?\": false}, \"Wisig_1\": {\"accuracy\": 0.6256565126050421, \"source?\": false}}}, \"history\": {\"epoch_indices\": [1, 2, 3, 4, 5], \"train_label_loss\": [0.7585159232729071, 0.6564759118948131, 0.42434425953487376, 0.36336227976273566, 0.3165750056453925], \"source_val_label_loss\": [7.163368225097656, 0.5305345058441162, 0.41181379556655884, 0.3917390704154968, 0.3163532614707947], \"target_val_label_loss\": [903.5424194335938, 579.9337768554688, 661.3585205078125, 751.1502685546875, 779.6683349609375], \"source_val_acc_label\": [0.7799153645833333, 0.8053385416666666, 0.84921875, 0.85615234375, 0.88623046875], \"target_val_acc_label\": [0.5960623678646935, 0.5811641120507399, 0.5811641120507399, 0.5659685517970402, 0.5551664904862579]}, \"dataset_metrics\": {\"source\": {\"train\": {\"n_unique_x\": 179200, \"n_unique_y\": 16, \"n_batch/episode\": 6720}, \"val\": {\"n_unique_x\": 38400, \"n_unique_y\": 16, \"n_batch/episode\": 960}, \"test\": {\"n_unique_x\": 38400, \"n_unique_y\": 16, \"n_batch/episode\": 960}}, \"target\": {\"train\": {\"n_unique_x\": 189051, \"n_unique_y\": 130, \"n_batch/episode\": 6861}, \"val\": {\"n_unique_x\": 40049, \"n_unique_y\": 130, \"n_batch/episode\": 946}, \"test\": {\"n_unique_x\": 40794, \"n_unique_y\": 130, \"n_batch/episode\": 966}}}}'"
      ]
     },
     "execution_count": 29,
     "metadata": {},
     "output_type": "execute_result"
    }
   ],
   "source": [
    "json.dumps(experiment)"
   ]
  }
 ],
 "metadata": {
  "celltoolbar": "Tags",
  "kernelspec": {
   "display_name": "Python 3 (ipykernel)",
   "language": "python",
   "name": "python3"
  },
  "language_info": {
   "codemirror_mode": {
    "name": "ipython",
    "version": 3
   },
   "file_extension": ".py",
   "mimetype": "text/x-python",
   "name": "python",
   "nbconvert_exporter": "python",
   "pygments_lexer": "ipython3",
   "version": "3.8.12"
  },
  "papermill": {
   "default_parameters": {},
   "duration": 1631.714584,
   "end_time": "2022-03-21T09:23:37.101776",
   "environment_variables": {},
   "exception": null,
   "input_path": "/root/csc500-main/csc500-notebooks/templates/tl_ptn_template.ipynb",
   "output_path": "trial.ipynb",
   "parameters": {
    "parameters": {
     "BEST_MODEL_PATH": "./best_model.pth",
     "NUM_LOGS_PER_EPOCH": 10,
     "criteria_for_best": "target_accuracy",
     "dataset_seed": 420,
     "datasets": [
      {
       "domain_prefix": "Wisig_",
       "domains": [
        1,
        2,
        3,
        4
       ],
       "episode_transforms": [],
       "labels": [
        "1-10",
        "1-12",
        "1-14",
        "1-16",
        "1-18",
        "1-19",
        "1-8",
        "10-11",
        "10-17",
        "10-4",
        "10-7",
        "11-1",
        "11-10",
        "11-19",
        "11-20",
        "11-4",
        "11-7",
        "12-19",
        "12-20",
        "12-7",
        "13-14",
        "13-18",
        "13-19",
        "13-20",
        "13-3",
        "13-7",
        "14-10",
        "14-11",
        "14-12",
        "14-13",
        "14-14",
        "14-19",
        "14-20",
        "14-7",
        "14-8",
        "14-9",
        "15-1",
        "15-19",
        "15-6",
        "16-1",
        "16-16",
        "16-19",
        "16-20",
        "17-10",
        "17-11",
        "18-1",
        "18-10",
        "18-11",
        "18-12",
        "18-13",
        "18-14",
        "18-15",
        "18-16",
        "18-17",
        "18-19",
        "18-2",
        "18-20",
        "18-4",
        "18-5",
        "18-7",
        "18-8",
        "18-9",
        "19-1",
        "19-10",
        "19-11",
        "19-12",
        "19-13",
        "19-14",
        "19-15",
        "19-19",
        "19-2",
        "19-20",
        "19-3",
        "19-4",
        "19-6",
        "19-7",
        "19-8",
        "19-9",
        "2-1",
        "2-13",
        "2-15",
        "2-3",
        "2-4",
        "2-5",
        "2-6",
        "2-7",
        "2-8",
        "20-1",
        "20-12",
        "20-14",
        "20-15",
        "20-16",
        "20-18",
        "20-19",
        "20-20",
        "20-3",
        "20-4",
        "20-5",
        "20-7",
        "20-8",
        "3-1",
        "3-13",
        "3-18",
        "3-2",
        "3-8",
        "4-1",
        "4-10",
        "4-11",
        "5-1",
        "5-5",
        "6-1",
        "6-15",
        "6-6",
        "7-10",
        "7-11",
        "7-12",
        "7-13",
        "7-14",
        "7-7",
        "7-8",
        "7-9",
        "8-1",
        "8-13",
        "8-14",
        "8-18",
        "8-20",
        "8-3",
        "8-8",
        "9-1",
        "9-7"
       ],
       "num_examples_per_domain_per_label": -1,
       "pickle_path": "/root/csc500-main/datasets/wisig.node3-19.stratified_ds.2022A.pkl",
       "source_or_target_dataset": "target",
       "x_transforms": [
        "unit_power"
       ]
      },
      {
       "domain_prefix": "ORACLE.run1",
       "domains": [
        32,
        38,
        8,
        44,
        14,
        50,
        20,
        26
       ],
       "episode_transforms": [],
       "labels": [
        "3123D52",
        "3123D65",
        "3123D79",
        "3123D80",
        "3123D54",
        "3123D70",
        "3123D7B",
        "3123D89",
        "3123D58",
        "3123D76",
        "3123D7D",
        "3123EFE",
        "3123D64",
        "3123D78",
        "3123D7E",
        "3124E4A"
       ],
       "num_examples_per_domain_per_label": 2000,
       "pickle_path": "/root/csc500-main/datasets/oracle.Run1_framed_2000Examples_stratified_ds.2022A.pkl",
       "source_or_target_dataset": "source",
       "x_transforms": [
        "unit_power"
       ]
      }
     ],
     "device": "cuda",
     "experiment_name": "tl_1v2:wisig-oracle.run1.framed",
     "lr": 0.0001,
     "n_epoch": 50,
     "n_query": 2,
     "n_shot": 3,
     "n_way": 16,
     "patience": 3,
     "seed": 420,
     "test_k_factor": 2,
     "torch_default_dtype": "torch.float32",
     "train_k_factor": 3,
     "val_k_factor": 2,
     "x_net": [
      {
       "class": "nnReshape",
       "kargs": {
        "shape": [
         -1,
         1,
         2,
         256
        ]
       }
      },
      {
       "class": "Conv2d",
       "kargs": {
        "bias": false,
        "in_channels": 1,
        "kernel_size": [
         1,
         7
        ],
        "out_channels": 256,
        "padding": [
         0,
         3
        ]
       }
      },
      {
       "class": "ReLU",
       "kargs": {
        "inplace": true
       }
      },
      {
       "class": "BatchNorm2d",
       "kargs": {
        "num_features": 256
       }
      },
      {
       "class": "Conv2d",
       "kargs": {
        "bias": true,
        "in_channels": 256,
        "kernel_size": [
         2,
         7
        ],
        "out_channels": 80,
        "padding": [
         0,
         3
        ]
       }
      },
      {
       "class": "ReLU",
       "kargs": {
        "inplace": true
       }
      },
      {
       "class": "BatchNorm2d",
       "kargs": {
        "num_features": 80
       }
      },
      {
       "class": "Flatten",
       "kargs": {}
      },
      {
       "class": "Linear",
       "kargs": {
        "in_features": 20480,
        "out_features": 256
       }
      },
      {
       "class": "ReLU",
       "kargs": {
        "inplace": true
       }
      },
      {
       "class": "BatchNorm1d",
       "kargs": {
        "num_features": 256
       }
      },
      {
       "class": "Linear",
       "kargs": {
        "in_features": 256,
        "out_features": 256
       }
      }
     ]
    }
   },
   "start_time": "2022-03-21T08:56:25.387192",
   "version": "2.3.4"
  }
 },
 "nbformat": 4,
 "nbformat_minor": 5
}