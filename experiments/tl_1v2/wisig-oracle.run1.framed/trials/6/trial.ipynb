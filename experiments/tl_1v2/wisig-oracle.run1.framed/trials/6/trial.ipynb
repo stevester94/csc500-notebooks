{
 "cells": [
  {
   "cell_type": "markdown",
   "id": "9fea5f46",
   "metadata": {
    "papermill": {
     "duration": 0.030313,
     "end_time": "2022-03-21T07:34:53.906460",
     "exception": false,
     "start_time": "2022-03-21T07:34:53.876147",
     "status": "completed"
    },
    "tags": []
   },
   "source": [
    "# Transfer Learning Template"
   ]
  },
  {
   "cell_type": "code",
   "execution_count": 1,
   "id": "0902182a",
   "metadata": {
    "execution": {
     "iopub.execute_input": "2022-03-21T07:34:53.976264Z",
     "iopub.status.busy": "2022-03-21T07:34:53.963210Z",
     "iopub.status.idle": "2022-03-21T07:34:55.826506Z",
     "shell.execute_reply": "2022-03-21T07:34:55.825603Z"
    },
    "papermill": {
     "duration": 1.896078,
     "end_time": "2022-03-21T07:34:55.826715",
     "exception": false,
     "start_time": "2022-03-21T07:34:53.930637",
     "status": "completed"
    },
    "tags": []
   },
   "outputs": [],
   "source": [
    "%load_ext autoreload\n",
    "%autoreload 2\n",
    "%matplotlib inline\n",
    "\n",
    "    \n",
    "import os, json, sys, time, random\n",
    "import numpy as np\n",
    "import torch\n",
    "from torch.optim import Adam\n",
    "from  easydict import EasyDict\n",
    "import matplotlib.pyplot as plt\n",
    "\n",
    "from steves_models.steves_ptn import Steves_Prototypical_Network\n",
    "\n",
    "from steves_utils.lazy_iterable_wrapper import Lazy_Iterable_Wrapper\n",
    "from steves_utils.iterable_aggregator import Iterable_Aggregator\n",
    "from steves_utils.ptn_train_eval_test_jig import  PTN_Train_Eval_Test_Jig\n",
    "from steves_utils.torch_sequential_builder import build_sequential\n",
    "from steves_utils.torch_utils import get_dataset_metrics, ptn_confusion_by_domain_over_dataloader\n",
    "from steves_utils.utils_v2 import (per_domain_accuracy_from_confusion, get_datasets_base_path)\n",
    "from steves_utils.PTN.utils import independent_accuracy_assesment\n",
    "\n",
    "from torch.utils.data import DataLoader\n",
    "\n",
    "from steves_utils.stratified_dataset.episodic_accessor import Episodic_Accessor_Factory\n",
    "\n",
    "from steves_utils.ptn_do_report import (\n",
    "    get_loss_curve,\n",
    "    get_results_table,\n",
    "    get_parameters_table,\n",
    "    get_domain_accuracies,\n",
    ")\n",
    "\n",
    "from steves_utils.transforms import get_chained_transform"
   ]
  },
  {
   "cell_type": "markdown",
   "id": "41c840b4",
   "metadata": {
    "papermill": {
     "duration": 0.019036,
     "end_time": "2022-03-21T07:34:55.871313",
     "exception": false,
     "start_time": "2022-03-21T07:34:55.852277",
     "status": "completed"
    },
    "tags": []
   },
   "source": [
    "# Allowed Parameters\n",
    "These are allowed parameters, not defaults\n",
    "Each of these values need to be present in the injected parameters (the notebook will raise an exception if they are not present)\n",
    "\n",
    "Papermill uses the cell tag \"parameters\" to inject the real parameters below this cell.\n",
    "Enable tags to see what I mean"
   ]
  },
  {
   "cell_type": "code",
   "execution_count": 2,
   "id": "fd44eb83",
   "metadata": {
    "execution": {
     "iopub.execute_input": "2022-03-21T07:34:55.916444Z",
     "iopub.status.busy": "2022-03-21T07:34:55.915777Z",
     "iopub.status.idle": "2022-03-21T07:34:55.937071Z",
     "shell.execute_reply": "2022-03-21T07:34:55.936215Z"
    },
    "papermill": {
     "duration": 0.046927,
     "end_time": "2022-03-21T07:34:55.937261",
     "exception": false,
     "start_time": "2022-03-21T07:34:55.890334",
     "status": "completed"
    },
    "tags": []
   },
   "outputs": [],
   "source": [
    "required_parameters = {\n",
    "    \"experiment_name\",\n",
    "    \"lr\",\n",
    "    \"device\",\n",
    "    \"seed\",\n",
    "    \"dataset_seed\",\n",
    "    \"n_shot\",\n",
    "    \"n_query\",\n",
    "    \"n_way\",\n",
    "    \"train_k_factor\",\n",
    "    \"val_k_factor\",\n",
    "    \"test_k_factor\",\n",
    "    \"n_epoch\",\n",
    "    \"patience\",\n",
    "    \"criteria_for_best\",\n",
    "    \"x_net\",\n",
    "    \"datasets\",\n",
    "    \"torch_default_dtype\",\n",
    "    \"NUM_LOGS_PER_EPOCH\",\n",
    "    \"BEST_MODEL_PATH\",\n",
    "    \"x_shape\",\n",
    "}"
   ]
  },
  {
   "cell_type": "code",
   "execution_count": 3,
   "id": "fa3f0049",
   "metadata": {
    "execution": {
     "iopub.execute_input": "2022-03-21T07:34:56.001460Z",
     "iopub.status.busy": "2022-03-21T07:34:56.000535Z",
     "iopub.status.idle": "2022-03-21T07:34:56.019904Z",
     "shell.execute_reply": "2022-03-21T07:34:56.019053Z"
    },
    "papermill": {
     "duration": 0.05358,
     "end_time": "2022-03-21T07:34:56.020089",
     "exception": false,
     "start_time": "2022-03-21T07:34:55.966509",
     "status": "completed"
    },
    "tags": [
     "parameters"
    ]
   },
   "outputs": [],
   "source": [
    "from steves_utils.CORES.utils import (\n",
    "    ALL_NODES,\n",
    "    ALL_NODES_MINIMUM_1000_EXAMPLES,\n",
    "    ALL_DAYS\n",
    ")\n",
    "\n",
    "from steves_utils.ORACLE.utils_v2 import (\n",
    "    ALL_DISTANCES_FEET_NARROWED,\n",
    "    ALL_RUNS,\n",
    "    ALL_SERIAL_NUMBERS,\n",
    ")\n",
    "\n",
    "standalone_parameters = {}\n",
    "standalone_parameters[\"experiment_name\"] = \"STANDALONE PTN\"\n",
    "standalone_parameters[\"lr\"] = 0.001\n",
    "standalone_parameters[\"device\"] = \"cuda\"\n",
    "\n",
    "standalone_parameters[\"seed\"] = 1337\n",
    "standalone_parameters[\"dataset_seed\"] = 1337\n",
    "\n",
    "standalone_parameters[\"n_way\"] = 8\n",
    "standalone_parameters[\"n_shot\"] = 3\n",
    "standalone_parameters[\"n_query\"]  = 2\n",
    "standalone_parameters[\"train_k_factor\"] = 1\n",
    "standalone_parameters[\"val_k_factor\"] = 2\n",
    "standalone_parameters[\"test_k_factor\"] = 2\n",
    "\n",
    "\n",
    "standalone_parameters[\"n_epoch\"] = 50\n",
    "\n",
    "standalone_parameters[\"patience\"] = 10\n",
    "standalone_parameters[\"criteria_for_best\"] = \"source_loss\"\n",
    "\n",
    "standalone_parameters[\"datasets\"] = [\n",
    "    {\n",
    "        \"labels\": ALL_SERIAL_NUMBERS,\n",
    "        \"domains\": ALL_DISTANCES_FEET_NARROWED,\n",
    "        \"num_examples_per_domain_per_label\": 100,\n",
    "        \"pickle_path\": os.path.join(get_datasets_base_path(), \"oracle.Run1_framed_2000Examples_stratified_ds.2022A.pkl\"),\n",
    "        \"source_or_target_dataset\": \"source\",\n",
    "        \"x_transforms\": [\"unit_mag\", \"minus_two\"],\n",
    "        \"episode_transforms\": [],\n",
    "        \"domain_prefix\": \"ORACLE_\"\n",
    "    },\n",
    "    {\n",
    "        \"labels\": ALL_NODES,\n",
    "        \"domains\": ALL_DAYS,\n",
    "        \"num_examples_per_domain_per_label\": 100,\n",
    "        \"pickle_path\": os.path.join(get_datasets_base_path(), \"cores.stratified_ds.2022A.pkl\"),\n",
    "        \"source_or_target_dataset\": \"target\",\n",
    "        \"x_transforms\": [\"unit_power\", \"times_zero\"],\n",
    "        \"episode_transforms\": [],\n",
    "        \"domain_prefix\": \"CORES_\"\n",
    "    }   \n",
    "]\n",
    "\n",
    "standalone_parameters[\"torch_default_dtype\"] = \"torch.float32\" \n",
    "\n",
    "\n",
    "\n",
    "standalone_parameters[\"x_net\"] =     [\n",
    "    {\"class\": \"nnReshape\", \"kargs\": {\"shape\":[-1, 1, 2, 256]}},\n",
    "    {\"class\": \"Conv2d\", \"kargs\": { \"in_channels\":1, \"out_channels\":256, \"kernel_size\":(1,7), \"bias\":False, \"padding\":(0,3), },},\n",
    "    {\"class\": \"ReLU\", \"kargs\": {\"inplace\": True}},\n",
    "    {\"class\": \"BatchNorm2d\", \"kargs\": {\"num_features\":256}},\n",
    "\n",
    "    {\"class\": \"Conv2d\", \"kargs\": { \"in_channels\":256, \"out_channels\":80, \"kernel_size\":(2,7), \"bias\":True, \"padding\":(0,3), },},\n",
    "    {\"class\": \"ReLU\", \"kargs\": {\"inplace\": True}},\n",
    "    {\"class\": \"BatchNorm2d\", \"kargs\": {\"num_features\":80}},\n",
    "    {\"class\": \"Flatten\", \"kargs\": {}},\n",
    "\n",
    "    {\"class\": \"Linear\", \"kargs\": {\"in_features\": 80*256, \"out_features\": 256}}, # 80 units per IQ pair\n",
    "    {\"class\": \"ReLU\", \"kargs\": {\"inplace\": True}},\n",
    "    {\"class\": \"BatchNorm1d\", \"kargs\": {\"num_features\":256}},\n",
    "\n",
    "    {\"class\": \"Linear\", \"kargs\": {\"in_features\": 256, \"out_features\": 256}},\n",
    "]\n",
    "\n",
    "# Parameters relevant to results\n",
    "# These parameters will basically never need to change\n",
    "standalone_parameters[\"NUM_LOGS_PER_EPOCH\"] = 10\n",
    "standalone_parameters[\"BEST_MODEL_PATH\"] = \"./best_model.pth\"\n",
    "\n",
    "\n",
    "\n",
    "\n"
   ]
  },
  {
   "cell_type": "code",
   "execution_count": 4,
   "id": "9dfdee09",
   "metadata": {
    "execution": {
     "iopub.execute_input": "2022-03-21T07:34:56.087442Z",
     "iopub.status.busy": "2022-03-21T07:34:56.086396Z",
     "iopub.status.idle": "2022-03-21T07:34:56.105732Z",
     "shell.execute_reply": "2022-03-21T07:34:56.104949Z"
    },
    "papermill": {
     "duration": 0.056124,
     "end_time": "2022-03-21T07:34:56.105921",
     "exception": false,
     "start_time": "2022-03-21T07:34:56.049797",
     "status": "completed"
    },
    "tags": [
     "injected-parameters"
    ]
   },
   "outputs": [],
   "source": [
    "# Parameters\n",
    "parameters = {\n",
    "    \"experiment_name\": \"tl_1v2:wisig-oracle.run1.framed\",\n",
    "    \"device\": \"cuda\",\n",
    "    \"lr\": 0.0001,\n",
    "    \"n_shot\": 3,\n",
    "    \"n_query\": 2,\n",
    "    \"train_k_factor\": 3,\n",
    "    \"val_k_factor\": 2,\n",
    "    \"test_k_factor\": 2,\n",
    "    \"torch_default_dtype\": \"torch.float32\",\n",
    "    \"n_epoch\": 50,\n",
    "    \"patience\": 3,\n",
    "    \"criteria_for_best\": \"target_accuracy\",\n",
    "    \"x_net\": [\n",
    "        {\"class\": \"nnReshape\", \"kargs\": {\"shape\": [-1, 1, 2, 256]}},\n",
    "        {\n",
    "            \"class\": \"Conv2d\",\n",
    "            \"kargs\": {\n",
    "                \"in_channels\": 1,\n",
    "                \"out_channels\": 256,\n",
    "                \"kernel_size\": [1, 7],\n",
    "                \"bias\": False,\n",
    "                \"padding\": [0, 3],\n",
    "            },\n",
    "        },\n",
    "        {\"class\": \"ReLU\", \"kargs\": {\"inplace\": True}},\n",
    "        {\"class\": \"BatchNorm2d\", \"kargs\": {\"num_features\": 256}},\n",
    "        {\n",
    "            \"class\": \"Conv2d\",\n",
    "            \"kargs\": {\n",
    "                \"in_channels\": 256,\n",
    "                \"out_channels\": 80,\n",
    "                \"kernel_size\": [2, 7],\n",
    "                \"bias\": True,\n",
    "                \"padding\": [0, 3],\n",
    "            },\n",
    "        },\n",
    "        {\"class\": \"ReLU\", \"kargs\": {\"inplace\": True}},\n",
    "        {\"class\": \"BatchNorm2d\", \"kargs\": {\"num_features\": 80}},\n",
    "        {\"class\": \"Flatten\", \"kargs\": {}},\n",
    "        {\"class\": \"Linear\", \"kargs\": {\"in_features\": 20480, \"out_features\": 256}},\n",
    "        {\"class\": \"ReLU\", \"kargs\": {\"inplace\": True}},\n",
    "        {\"class\": \"BatchNorm1d\", \"kargs\": {\"num_features\": 256}},\n",
    "        {\"class\": \"Linear\", \"kargs\": {\"in_features\": 256, \"out_features\": 256}},\n",
    "    ],\n",
    "    \"NUM_LOGS_PER_EPOCH\": 10,\n",
    "    \"BEST_MODEL_PATH\": \"./best_model.pth\",\n",
    "    \"n_way\": 16,\n",
    "    \"datasets\": [\n",
    "        {\n",
    "            \"labels\": [\n",
    "                \"1-10\",\n",
    "                \"1-12\",\n",
    "                \"1-14\",\n",
    "                \"1-16\",\n",
    "                \"1-18\",\n",
    "                \"1-19\",\n",
    "                \"1-8\",\n",
    "                \"10-11\",\n",
    "                \"10-17\",\n",
    "                \"10-4\",\n",
    "                \"10-7\",\n",
    "                \"11-1\",\n",
    "                \"11-10\",\n",
    "                \"11-19\",\n",
    "                \"11-20\",\n",
    "                \"11-4\",\n",
    "                \"11-7\",\n",
    "                \"12-19\",\n",
    "                \"12-20\",\n",
    "                \"12-7\",\n",
    "                \"13-14\",\n",
    "                \"13-18\",\n",
    "                \"13-19\",\n",
    "                \"13-20\",\n",
    "                \"13-3\",\n",
    "                \"13-7\",\n",
    "                \"14-10\",\n",
    "                \"14-11\",\n",
    "                \"14-12\",\n",
    "                \"14-13\",\n",
    "                \"14-14\",\n",
    "                \"14-19\",\n",
    "                \"14-20\",\n",
    "                \"14-7\",\n",
    "                \"14-8\",\n",
    "                \"14-9\",\n",
    "                \"15-1\",\n",
    "                \"15-19\",\n",
    "                \"15-6\",\n",
    "                \"16-1\",\n",
    "                \"16-16\",\n",
    "                \"16-19\",\n",
    "                \"16-20\",\n",
    "                \"17-10\",\n",
    "                \"17-11\",\n",
    "                \"18-1\",\n",
    "                \"18-10\",\n",
    "                \"18-11\",\n",
    "                \"18-12\",\n",
    "                \"18-13\",\n",
    "                \"18-14\",\n",
    "                \"18-15\",\n",
    "                \"18-16\",\n",
    "                \"18-17\",\n",
    "                \"18-19\",\n",
    "                \"18-2\",\n",
    "                \"18-20\",\n",
    "                \"18-4\",\n",
    "                \"18-5\",\n",
    "                \"18-7\",\n",
    "                \"18-8\",\n",
    "                \"18-9\",\n",
    "                \"19-1\",\n",
    "                \"19-10\",\n",
    "                \"19-11\",\n",
    "                \"19-12\",\n",
    "                \"19-13\",\n",
    "                \"19-14\",\n",
    "                \"19-15\",\n",
    "                \"19-19\",\n",
    "                \"19-2\",\n",
    "                \"19-20\",\n",
    "                \"19-3\",\n",
    "                \"19-4\",\n",
    "                \"19-6\",\n",
    "                \"19-7\",\n",
    "                \"19-8\",\n",
    "                \"19-9\",\n",
    "                \"2-1\",\n",
    "                \"2-13\",\n",
    "                \"2-15\",\n",
    "                \"2-3\",\n",
    "                \"2-4\",\n",
    "                \"2-5\",\n",
    "                \"2-6\",\n",
    "                \"2-7\",\n",
    "                \"2-8\",\n",
    "                \"20-1\",\n",
    "                \"20-12\",\n",
    "                \"20-14\",\n",
    "                \"20-15\",\n",
    "                \"20-16\",\n",
    "                \"20-18\",\n",
    "                \"20-19\",\n",
    "                \"20-20\",\n",
    "                \"20-3\",\n",
    "                \"20-4\",\n",
    "                \"20-5\",\n",
    "                \"20-7\",\n",
    "                \"20-8\",\n",
    "                \"3-1\",\n",
    "                \"3-13\",\n",
    "                \"3-18\",\n",
    "                \"3-2\",\n",
    "                \"3-8\",\n",
    "                \"4-1\",\n",
    "                \"4-10\",\n",
    "                \"4-11\",\n",
    "                \"5-1\",\n",
    "                \"5-5\",\n",
    "                \"6-1\",\n",
    "                \"6-15\",\n",
    "                \"6-6\",\n",
    "                \"7-10\",\n",
    "                \"7-11\",\n",
    "                \"7-12\",\n",
    "                \"7-13\",\n",
    "                \"7-14\",\n",
    "                \"7-7\",\n",
    "                \"7-8\",\n",
    "                \"7-9\",\n",
    "                \"8-1\",\n",
    "                \"8-13\",\n",
    "                \"8-14\",\n",
    "                \"8-18\",\n",
    "                \"8-20\",\n",
    "                \"8-3\",\n",
    "                \"8-8\",\n",
    "                \"9-1\",\n",
    "                \"9-7\",\n",
    "            ],\n",
    "            \"domains\": [1, 2, 3, 4],\n",
    "            \"num_examples_per_domain_per_label\": -1,\n",
    "            \"pickle_path\": \"/root/csc500-main/datasets/wisig.node3-19.stratified_ds.2022A.pkl\",\n",
    "            \"source_or_target_dataset\": \"source\",\n",
    "            \"x_transforms\": [\"unit_power\"],\n",
    "            \"episode_transforms\": [],\n",
    "            \"domain_prefix\": \"Wisig_\",\n",
    "        },\n",
    "        {\n",
    "            \"labels\": [\n",
    "                \"3123D52\",\n",
    "                \"3123D65\",\n",
    "                \"3123D79\",\n",
    "                \"3123D80\",\n",
    "                \"3123D54\",\n",
    "                \"3123D70\",\n",
    "                \"3123D7B\",\n",
    "                \"3123D89\",\n",
    "                \"3123D58\",\n",
    "                \"3123D76\",\n",
    "                \"3123D7D\",\n",
    "                \"3123EFE\",\n",
    "                \"3123D64\",\n",
    "                \"3123D78\",\n",
    "                \"3123D7E\",\n",
    "                \"3124E4A\",\n",
    "            ],\n",
    "            \"domains\": [32, 38, 8, 44, 14, 50, 20, 26],\n",
    "            \"num_examples_per_domain_per_label\": 2000,\n",
    "            \"pickle_path\": \"/root/csc500-main/datasets/oracle.Run1_framed_2000Examples_stratified_ds.2022A.pkl\",\n",
    "            \"source_or_target_dataset\": \"target\",\n",
    "            \"x_transforms\": [\"unit_power\"],\n",
    "            \"episode_transforms\": [],\n",
    "            \"domain_prefix\": \"ORACLE.run1\",\n",
    "        },\n",
    "    ],\n",
    "    \"dataset_seed\": 420,\n",
    "    \"seed\": 420,\n",
    "}\n"
   ]
  },
  {
   "cell_type": "code",
   "execution_count": 5,
   "id": "8fa1cc33",
   "metadata": {
    "execution": {
     "iopub.execute_input": "2022-03-21T07:34:56.162566Z",
     "iopub.status.busy": "2022-03-21T07:34:56.161919Z",
     "iopub.status.idle": "2022-03-21T07:34:56.181781Z",
     "shell.execute_reply": "2022-03-21T07:34:56.181039Z"
    },
    "papermill": {
     "duration": 0.047222,
     "end_time": "2022-03-21T07:34:56.181964",
     "exception": false,
     "start_time": "2022-03-21T07:34:56.134742",
     "status": "completed"
    },
    "tags": []
   },
   "outputs": [],
   "source": [
    "# Set this to True if you want to run this template directly\n",
    "STANDALONE = False\n",
    "if STANDALONE:\n",
    "    print(\"parameters not injected, running with standalone_parameters\")\n",
    "    parameters = standalone_parameters\n",
    "\n",
    "if not 'parameters' in locals() and not 'parameters' in globals():\n",
    "    raise Exception(\"Parameter injection failed\")\n",
    "\n",
    "#Use an easy dict for all the parameters\n",
    "p = EasyDict(parameters)\n",
    "\n",
    "if \"x_shape\" not in p:\n",
    "    p.x_shape = [2,256] # Default to this if we dont supply x_shape\n",
    "\n",
    "\n",
    "supplied_keys = set(p.keys())\n",
    "\n",
    "if  supplied_keys != required_parameters:\n",
    "    print(\"Parameters are incorrect\")\n",
    "    if len(supplied_keys - required_parameters)>0: print(\"Shouldn't have:\", str(supplied_keys - required_parameters))\n",
    "    if len(required_parameters - supplied_keys)>0: print(\"Need to have:\", str(required_parameters - supplied_keys))\n",
    "    raise RuntimeError(\"Parameters are incorrect\")"
   ]
  },
  {
   "cell_type": "code",
   "execution_count": 6,
   "id": "3a028d58",
   "metadata": {
    "execution": {
     "iopub.execute_input": "2022-03-21T07:34:56.231496Z",
     "iopub.status.busy": "2022-03-21T07:34:56.230952Z",
     "iopub.status.idle": "2022-03-21T07:34:56.248109Z",
     "shell.execute_reply": "2022-03-21T07:34:56.247373Z"
    },
    "papermill": {
     "duration": 0.040429,
     "end_time": "2022-03-21T07:34:56.248287",
     "exception": false,
     "start_time": "2022-03-21T07:34:56.207858",
     "status": "completed"
    },
    "tags": []
   },
   "outputs": [],
   "source": [
    "###################################\n",
    "# Set the RNGs and make it all deterministic\n",
    "###################################\n",
    "np.random.seed(p.seed)\n",
    "random.seed(p.seed)\n",
    "torch.manual_seed(p.seed)\n",
    "\n",
    "torch.use_deterministic_algorithms(True) "
   ]
  },
  {
   "cell_type": "code",
   "execution_count": 7,
   "id": "b691acf6",
   "metadata": {
    "execution": {
     "iopub.execute_input": "2022-03-21T07:34:56.300009Z",
     "iopub.status.busy": "2022-03-21T07:34:56.299630Z",
     "iopub.status.idle": "2022-03-21T07:34:56.321832Z",
     "shell.execute_reply": "2022-03-21T07:34:56.321054Z"
    },
    "papermill": {
     "duration": 0.045885,
     "end_time": "2022-03-21T07:34:56.322021",
     "exception": false,
     "start_time": "2022-03-21T07:34:56.276136",
     "status": "completed"
    },
    "tags": []
   },
   "outputs": [],
   "source": [
    "###########################################\n",
    "# The stratified datasets honor this\n",
    "###########################################\n",
    "torch.set_default_dtype(eval(p.torch_default_dtype))"
   ]
  },
  {
   "cell_type": "code",
   "execution_count": 8,
   "id": "b5fba671",
   "metadata": {
    "execution": {
     "iopub.execute_input": "2022-03-21T07:34:56.373466Z",
     "iopub.status.busy": "2022-03-21T07:34:56.373082Z",
     "iopub.status.idle": "2022-03-21T07:34:56.439839Z",
     "shell.execute_reply": "2022-03-21T07:34:56.439041Z"
    },
    "papermill": {
     "duration": 0.091157,
     "end_time": "2022-03-21T07:34:56.440019",
     "exception": false,
     "start_time": "2022-03-21T07:34:56.348862",
     "status": "completed"
    },
    "tags": []
   },
   "outputs": [],
   "source": [
    "###################################\n",
    "# Build the network(s)\n",
    "# Note: It's critical to do this AFTER setting the RNG\n",
    "###################################\n",
    "x_net = build_sequential(p.x_net)"
   ]
  },
  {
   "cell_type": "code",
   "execution_count": 9,
   "id": "5d7e61cc",
   "metadata": {
    "execution": {
     "iopub.execute_input": "2022-03-21T07:34:56.489790Z",
     "iopub.status.busy": "2022-03-21T07:34:56.489151Z",
     "iopub.status.idle": "2022-03-21T07:34:56.511009Z",
     "shell.execute_reply": "2022-03-21T07:34:56.510198Z"
    },
    "papermill": {
     "duration": 0.045703,
     "end_time": "2022-03-21T07:34:56.511172",
     "exception": false,
     "start_time": "2022-03-21T07:34:56.465469",
     "status": "completed"
    },
    "tags": []
   },
   "outputs": [],
   "source": [
    "start_time_secs = time.time()"
   ]
  },
  {
   "cell_type": "code",
   "execution_count": 10,
   "id": "c6b67dfd",
   "metadata": {
    "execution": {
     "iopub.execute_input": "2022-03-21T07:34:56.567494Z",
     "iopub.status.busy": "2022-03-21T07:34:56.567115Z",
     "iopub.status.idle": "2022-03-21T07:34:56.588750Z",
     "shell.execute_reply": "2022-03-21T07:34:56.587941Z"
    },
    "papermill": {
     "duration": 0.046948,
     "end_time": "2022-03-21T07:34:56.588908",
     "exception": false,
     "start_time": "2022-03-21T07:34:56.541960",
     "status": "completed"
    },
    "tags": []
   },
   "outputs": [],
   "source": [
    "p.domains_source = []\n",
    "p.domains_target = []\n",
    "\n",
    "\n",
    "train_original_source = []\n",
    "val_original_source   = []\n",
    "test_original_source  = []\n",
    "\n",
    "train_original_target = []\n",
    "val_original_target   = []\n",
    "test_original_target  = []"
   ]
  },
  {
   "cell_type": "code",
   "execution_count": 11,
   "id": "e3d9c3d3",
   "metadata": {
    "execution": {
     "iopub.execute_input": "2022-03-21T07:34:56.643168Z",
     "iopub.status.busy": "2022-03-21T07:34:56.642793Z",
     "iopub.status.idle": "2022-03-21T07:34:56.667213Z",
     "shell.execute_reply": "2022-03-21T07:34:56.666407Z"
    },
    "papermill": {
     "duration": 0.048217,
     "end_time": "2022-03-21T07:34:56.667372",
     "exception": false,
     "start_time": "2022-03-21T07:34:56.619155",
     "status": "completed"
    },
    "tags": []
   },
   "outputs": [],
   "source": [
    "# global_x_transform_func = lambda x: normalize(x.to(torch.get_default_dtype()), \"unit_power\") # unit_power, unit_mag\n",
    "# global_x_transform_func = lambda x: normalize(x, \"unit_power\") # unit_power, unit_mag"
   ]
  },
  {
   "cell_type": "code",
   "execution_count": 12,
   "id": "acb78fd2",
   "metadata": {
    "execution": {
     "iopub.execute_input": "2022-03-21T07:34:56.729638Z",
     "iopub.status.busy": "2022-03-21T07:34:56.728788Z",
     "iopub.status.idle": "2022-03-21T07:34:56.748935Z",
     "shell.execute_reply": "2022-03-21T07:34:56.748113Z"
    },
    "papermill": {
     "duration": 0.053768,
     "end_time": "2022-03-21T07:34:56.749095",
     "exception": false,
     "start_time": "2022-03-21T07:34:56.695327",
     "status": "completed"
    },
    "tags": []
   },
   "outputs": [],
   "source": [
    "def add_dataset(\n",
    "    labels,\n",
    "    domains,\n",
    "    pickle_path,\n",
    "    x_transforms,\n",
    "    episode_transforms,\n",
    "    domain_prefix,\n",
    "    num_examples_per_domain_per_label,\n",
    "    source_or_target_dataset:str,\n",
    "    iterator_seed=p.seed,\n",
    "    dataset_seed=p.dataset_seed,\n",
    "    n_shot=p.n_shot,\n",
    "    n_way=p.n_way,\n",
    "    n_query=p.n_query,\n",
    "    train_val_test_k_factors=(p.train_k_factor,p.val_k_factor,p.test_k_factor),\n",
    "):\n",
    "   \n",
    "    if x_transforms == []: x_transform = None\n",
    "    else: x_transform = get_chained_transform(x_transforms)\n",
    "    \n",
    "    if episode_transforms == []: episode_transform = None\n",
    "    else: raise Exception(\"episode_transforms not implemented\")\n",
    "    \n",
    "    episode_transform = lambda tup, _prefix=domain_prefix: (_prefix + str(tup[0]), tup[1])\n",
    "\n",
    "\n",
    "    eaf = Episodic_Accessor_Factory(\n",
    "        labels=labels,\n",
    "        domains=domains,\n",
    "        num_examples_per_domain_per_label=num_examples_per_domain_per_label,\n",
    "        iterator_seed=iterator_seed,\n",
    "        dataset_seed=dataset_seed,\n",
    "        n_shot=n_shot,\n",
    "        n_way=n_way,\n",
    "        n_query=n_query,\n",
    "        train_val_test_k_factors=train_val_test_k_factors,\n",
    "        pickle_path=pickle_path,\n",
    "        x_transform_func=x_transform,\n",
    "    )\n",
    "\n",
    "    train, val, test = eaf.get_train(), eaf.get_val(), eaf.get_test()\n",
    "    train = Lazy_Iterable_Wrapper(train, episode_transform)\n",
    "    val = Lazy_Iterable_Wrapper(val, episode_transform)\n",
    "    test = Lazy_Iterable_Wrapper(test, episode_transform)\n",
    "\n",
    "    if source_or_target_dataset==\"source\":\n",
    "        train_original_source.append(train)\n",
    "        val_original_source.append(val)\n",
    "        test_original_source.append(test)\n",
    "\n",
    "        p.domains_source.extend(\n",
    "            [domain_prefix + str(u) for u in domains]\n",
    "        )\n",
    "    elif source_or_target_dataset==\"target\":\n",
    "        train_original_target.append(train)\n",
    "        val_original_target.append(val)\n",
    "        test_original_target.append(test)\n",
    "        p.domains_target.extend(\n",
    "            [domain_prefix + str(u) for u in domains]\n",
    "        )\n",
    "    else:\n",
    "        raise Exception(f\"invalid source_or_target_dataset: {source_or_target_dataset}\")\n",
    "    "
   ]
  },
  {
   "cell_type": "code",
   "execution_count": 13,
   "id": "fe266617",
   "metadata": {
    "execution": {
     "iopub.execute_input": "2022-03-21T07:34:56.805476Z",
     "iopub.status.busy": "2022-03-21T07:34:56.803336Z",
     "iopub.status.idle": "2022-03-21T07:35:41.260819Z",
     "shell.execute_reply": "2022-03-21T07:35:41.260008Z"
    },
    "papermill": {
     "duration": 44.481801,
     "end_time": "2022-03-21T07:35:41.261018",
     "exception": false,
     "start_time": "2022-03-21T07:34:56.779217",
     "status": "completed"
    },
    "tags": []
   },
   "outputs": [],
   "source": [
    "for ds in p.datasets:\n",
    "    add_dataset(**ds)"
   ]
  },
  {
   "cell_type": "code",
   "execution_count": 14,
   "id": "b90d65ac",
   "metadata": {
    "execution": {
     "iopub.execute_input": "2022-03-21T07:35:41.315171Z",
     "iopub.status.busy": "2022-03-21T07:35:41.314708Z",
     "iopub.status.idle": "2022-03-21T07:35:41.335674Z",
     "shell.execute_reply": "2022-03-21T07:35:41.334821Z"
    },
    "papermill": {
     "duration": 0.045386,
     "end_time": "2022-03-21T07:35:41.335854",
     "exception": false,
     "start_time": "2022-03-21T07:35:41.290468",
     "status": "completed"
    },
    "tags": []
   },
   "outputs": [],
   "source": [
    "# from steves_utils.CORES.utils import (\n",
    "#     ALL_NODES,\n",
    "#     ALL_NODES_MINIMUM_1000_EXAMPLES,\n",
    "#     ALL_DAYS\n",
    "# )\n",
    "\n",
    "# add_dataset(\n",
    "#     labels=ALL_NODES,\n",
    "#     domains = ALL_DAYS,\n",
    "#     num_examples_per_domain_per_label=100,\n",
    "#     pickle_path=os.path.join(get_datasets_base_path(), \"cores.stratified_ds.2022A.pkl\"),\n",
    "#     source_or_target_dataset=\"target\",\n",
    "#     x_transform_func=global_x_transform_func,\n",
    "#     domain_modifier=lambda u: f\"cores_{u}\"\n",
    "# )"
   ]
  },
  {
   "cell_type": "code",
   "execution_count": 15,
   "id": "76db484d",
   "metadata": {
    "execution": {
     "iopub.execute_input": "2022-03-21T07:35:41.390236Z",
     "iopub.status.busy": "2022-03-21T07:35:41.389855Z",
     "iopub.status.idle": "2022-03-21T07:35:41.410614Z",
     "shell.execute_reply": "2022-03-21T07:35:41.409783Z"
    },
    "papermill": {
     "duration": 0.045638,
     "end_time": "2022-03-21T07:35:41.410785",
     "exception": false,
     "start_time": "2022-03-21T07:35:41.365147",
     "status": "completed"
    },
    "tags": []
   },
   "outputs": [],
   "source": [
    "# from steves_utils.ORACLE.utils_v2 import (\n",
    "#     ALL_DISTANCES_FEET,\n",
    "#     ALL_RUNS,\n",
    "#     ALL_SERIAL_NUMBERS,\n",
    "# )\n",
    "\n",
    "\n",
    "# add_dataset(\n",
    "#     labels=ALL_SERIAL_NUMBERS,\n",
    "#     domains = list(set(ALL_DISTANCES_FEET) - {2,62}),\n",
    "#     num_examples_per_domain_per_label=100,\n",
    "#     pickle_path=os.path.join(get_datasets_base_path(), \"oracle.Run2_framed_2000Examples_stratified_ds.2022A.pkl\"),\n",
    "#     source_or_target_dataset=\"source\",\n",
    "#     x_transform_func=global_x_transform_func,\n",
    "#     domain_modifier=lambda u: f\"oracle1_{u}\"\n",
    "# )\n"
   ]
  },
  {
   "cell_type": "code",
   "execution_count": 16,
   "id": "97dea9d2",
   "metadata": {
    "execution": {
     "iopub.execute_input": "2022-03-21T07:35:41.464474Z",
     "iopub.status.busy": "2022-03-21T07:35:41.463060Z",
     "iopub.status.idle": "2022-03-21T07:35:41.484773Z",
     "shell.execute_reply": "2022-03-21T07:35:41.484006Z"
    },
    "papermill": {
     "duration": 0.045895,
     "end_time": "2022-03-21T07:35:41.484946",
     "exception": false,
     "start_time": "2022-03-21T07:35:41.439051",
     "status": "completed"
    },
    "tags": []
   },
   "outputs": [],
   "source": [
    "# from steves_utils.ORACLE.utils_v2 import (\n",
    "#     ALL_DISTANCES_FEET,\n",
    "#     ALL_RUNS,\n",
    "#     ALL_SERIAL_NUMBERS,\n",
    "# )\n",
    "\n",
    "\n",
    "# add_dataset(\n",
    "#     labels=ALL_SERIAL_NUMBERS,\n",
    "#     domains = list(set(ALL_DISTANCES_FEET) - {2,62,56}),\n",
    "#     num_examples_per_domain_per_label=100,\n",
    "#     pickle_path=os.path.join(get_datasets_base_path(), \"oracle.Run2_framed_2000Examples_stratified_ds.2022A.pkl\"),\n",
    "#     source_or_target_dataset=\"source\",\n",
    "#     x_transform_func=global_x_transform_func,\n",
    "#     domain_modifier=lambda u: f\"oracle2_{u}\"\n",
    "# )"
   ]
  },
  {
   "cell_type": "code",
   "execution_count": 17,
   "id": "6f289866",
   "metadata": {
    "execution": {
     "iopub.execute_input": "2022-03-21T07:35:41.538003Z",
     "iopub.status.busy": "2022-03-21T07:35:41.536986Z",
     "iopub.status.idle": "2022-03-21T07:35:41.558014Z",
     "shell.execute_reply": "2022-03-21T07:35:41.557178Z"
    },
    "papermill": {
     "duration": 0.044855,
     "end_time": "2022-03-21T07:35:41.558185",
     "exception": false,
     "start_time": "2022-03-21T07:35:41.513330",
     "status": "completed"
    },
    "tags": []
   },
   "outputs": [],
   "source": [
    "# add_dataset(\n",
    "#     labels=list(range(19)),\n",
    "#     domains = [0,1,2],\n",
    "#     num_examples_per_domain_per_label=100,\n",
    "#     pickle_path=os.path.join(get_datasets_base_path(), \"metehan.stratified_ds.2022A.pkl\"),\n",
    "#     source_or_target_dataset=\"target\",\n",
    "#     x_transform_func=global_x_transform_func,\n",
    "#     domain_modifier=lambda u: f\"met_{u}\"\n",
    "# )"
   ]
  },
  {
   "cell_type": "code",
   "execution_count": 18,
   "id": "86a863c3",
   "metadata": {
    "execution": {
     "iopub.execute_input": "2022-03-21T07:35:41.607777Z",
     "iopub.status.busy": "2022-03-21T07:35:41.607319Z",
     "iopub.status.idle": "2022-03-21T07:35:41.624719Z",
     "shell.execute_reply": "2022-03-21T07:35:41.623928Z"
    },
    "papermill": {
     "duration": 0.040278,
     "end_time": "2022-03-21T07:35:41.624904",
     "exception": false,
     "start_time": "2022-03-21T07:35:41.584626",
     "status": "completed"
    },
    "tags": []
   },
   "outputs": [],
   "source": [
    "# # from steves_utils.wisig.utils import (\n",
    "# #     ALL_NODES_MINIMUM_100_EXAMPLES,\n",
    "# #     ALL_NODES_MINIMUM_500_EXAMPLES,\n",
    "# #     ALL_NODES_MINIMUM_1000_EXAMPLES,\n",
    "# #     ALL_DAYS\n",
    "# # )\n",
    "\n",
    "# import steves_utils.wisig.utils as wisig\n",
    "\n",
    "\n",
    "# add_dataset(\n",
    "#     labels=wisig.ALL_NODES_MINIMUM_100_EXAMPLES,\n",
    "#     domains = wisig.ALL_DAYS,\n",
    "#     num_examples_per_domain_per_label=100,\n",
    "#     pickle_path=os.path.join(get_datasets_base_path(), \"wisig.node3-19.stratified_ds.2022A.pkl\"),\n",
    "#     source_or_target_dataset=\"target\",\n",
    "#     x_transform_func=global_x_transform_func,\n",
    "#     domain_modifier=lambda u: f\"wisig_{u}\"\n",
    "# )"
   ]
  },
  {
   "cell_type": "code",
   "execution_count": 19,
   "id": "fd5442bc",
   "metadata": {
    "execution": {
     "iopub.execute_input": "2022-03-21T07:35:41.685322Z",
     "iopub.status.busy": "2022-03-21T07:35:41.684787Z",
     "iopub.status.idle": "2022-03-21T07:35:41.703331Z",
     "shell.execute_reply": "2022-03-21T07:35:41.702918Z"
    },
    "papermill": {
     "duration": 0.051377,
     "end_time": "2022-03-21T07:35:41.703426",
     "exception": false,
     "start_time": "2022-03-21T07:35:41.652049",
     "status": "completed"
    },
    "tags": []
   },
   "outputs": [],
   "source": [
    "###################################\n",
    "# Build the dataset\n",
    "###################################\n",
    "train_original_source = Iterable_Aggregator(train_original_source, p.seed)\n",
    "val_original_source = Iterable_Aggregator(val_original_source, p.seed)\n",
    "test_original_source = Iterable_Aggregator(test_original_source, p.seed)\n",
    "\n",
    "\n",
    "train_original_target = Iterable_Aggregator(train_original_target, p.seed)\n",
    "val_original_target = Iterable_Aggregator(val_original_target, p.seed)\n",
    "test_original_target = Iterable_Aggregator(test_original_target, p.seed)\n",
    "\n",
    "# For CNN We only use X and Y. And we only train on the source.\n",
    "# Properly form the data using a transform lambda and Lazy_Iterable_Wrapper. Finally wrap them in a dataloader\n",
    "\n",
    "transform_lambda = lambda ex: ex[1] # Original is (<domain>, <episode>) so we strip down to episode only\n",
    "\n",
    "train_processed_source = Lazy_Iterable_Wrapper(train_original_source, transform_lambda)\n",
    "val_processed_source   = Lazy_Iterable_Wrapper(val_original_source, transform_lambda)\n",
    "test_processed_source  = Lazy_Iterable_Wrapper(test_original_source, transform_lambda)\n",
    "\n",
    "train_processed_target = Lazy_Iterable_Wrapper(train_original_target, transform_lambda)\n",
    "val_processed_target   = Lazy_Iterable_Wrapper(val_original_target, transform_lambda)\n",
    "test_processed_target  = Lazy_Iterable_Wrapper(test_original_target, transform_lambda)\n",
    "\n",
    "datasets = EasyDict({\n",
    "    \"source\": {\n",
    "        \"original\": {\"train\":train_original_source, \"val\":val_original_source, \"test\":test_original_source},\n",
    "        \"processed\": {\"train\":train_processed_source, \"val\":val_processed_source, \"test\":test_processed_source}\n",
    "    },\n",
    "    \"target\": {\n",
    "        \"original\": {\"train\":train_original_target, \"val\":val_original_target, \"test\":test_original_target},\n",
    "        \"processed\": {\"train\":train_processed_target, \"val\":val_processed_target, \"test\":test_processed_target}\n",
    "    },\n",
    "})"
   ]
  },
  {
   "cell_type": "code",
   "execution_count": 20,
   "id": "5b3c01fc",
   "metadata": {
    "execution": {
     "iopub.execute_input": "2022-03-21T07:35:41.749688Z",
     "iopub.status.busy": "2022-03-21T07:35:41.748884Z",
     "iopub.status.idle": "2022-03-21T07:35:57.505809Z",
     "shell.execute_reply": "2022-03-21T07:35:57.506578Z"
    },
    "papermill": {
     "duration": 15.782123,
     "end_time": "2022-03-21T07:35:57.506815",
     "exception": false,
     "start_time": "2022-03-21T07:35:41.724692",
     "status": "completed"
    },
    "tags": []
   },
   "outputs": [
    {
     "name": "stdout",
     "output_type": "stream",
     "text": [
      "{'Wisig_3', 'Wisig_2', 'Wisig_4', 'Wisig_1'}\n"
     ]
    },
    {
     "name": "stdout",
     "output_type": "stream",
     "text": [
      "{'ORACLE.run18', 'ORACLE.run138', 'ORACLE.run120', 'ORACLE.run114', 'ORACLE.run126', 'ORACLE.run132', 'ORACLE.run144', 'ORACLE.run150'}\n"
     ]
    },
    {
     "name": "stdout",
     "output_type": "stream",
     "text": [
      "tensor([[[-0.4187,  1.1132,  0.5500,  ...,  0.3647,  1.0329,  1.3510],\n",
      "         [-0.7528, -0.7834,  0.9279,  ..., -0.8695, -1.0344,  0.2553]],\n",
      "\n",
      "        [[-1.2691, -1.6522,  0.0829,  ..., -0.2541, -0.3669, -0.1698],\n",
      "         [ 0.2391, -1.1807, -0.9036,  ..., -0.0734, -0.5788, -0.5177]],\n",
      "\n",
      "        [[ 0.1468, -1.1688, -0.6309,  ...,  0.8592, -0.5757, -0.6513],\n",
      "         [ 1.1717,  0.1628, -0.9144,  ...,  1.2735,  1.0525, -0.2704]],\n",
      "\n",
      "        ...,\n",
      "\n",
      "        [[-0.0922, -0.6696, -0.2874,  ..., -0.9887, -0.6152,  0.6388],\n",
      "         [ 0.5062, -0.2620, -0.7186,  ...,  0.3989, -1.0553, -1.0759]],\n",
      "\n",
      "        [[ 0.4114, -0.9146,  0.0646,  ..., -0.7434, -0.6593,  0.8477],\n",
      "         [ 0.6721, -0.0774, -1.1339,  ...,  0.3079, -0.9164, -0.9678]],\n",
      "\n",
      "        [[-0.6364,  0.7177,  0.0277,  ...,  0.8188,  0.7362, -0.5300],\n",
      "         [-0.4571, -0.0721,  1.1657,  ..., -0.5422,  0.9457,  1.1619]]])\n"
     ]
    }
   ],
   "source": [
    "from steves_utils.transforms import get_average_magnitude, get_average_power\n",
    "\n",
    "print(set([u for u,_ in val_original_source]))\n",
    "print(set([u for u,_ in val_original_target]))\n",
    "\n",
    "s_x, s_y, q_x, q_y, _ = next(iter(train_processed_source))\n",
    "print(s_x)\n",
    "\n",
    "# for ds in [\n",
    "#     train_processed_source,\n",
    "#     val_processed_source,\n",
    "#     test_processed_source,\n",
    "#     train_processed_target,\n",
    "#     val_processed_target,\n",
    "#     test_processed_target\n",
    "# ]:\n",
    "#     for s_x, s_y, q_x, q_y, _ in ds:\n",
    "#         for X in (s_x, q_x):\n",
    "#             for x in X:\n",
    "#                 assert np.isclose(get_average_magnitude(x.numpy()), 1.0)\n",
    "#                 assert np.isclose(get_average_power(x.numpy()), 1.0)\n",
    "                "
   ]
  },
  {
   "cell_type": "code",
   "execution_count": 21,
   "id": "bbdacba1",
   "metadata": {
    "execution": {
     "iopub.execute_input": "2022-03-21T07:35:57.566775Z",
     "iopub.status.busy": "2022-03-21T07:35:57.566389Z",
     "iopub.status.idle": "2022-03-21T07:35:57.783906Z",
     "shell.execute_reply": "2022-03-21T07:35:57.784226Z"
    },
    "papermill": {
     "duration": 0.245099,
     "end_time": "2022-03-21T07:35:57.784360",
     "exception": false,
     "start_time": "2022-03-21T07:35:57.539261",
     "status": "completed"
    },
    "tags": []
   },
   "outputs": [
    {
     "name": "stdout",
     "output_type": "stream",
     "text": [
      "(2, 256)\n"
     ]
    }
   ],
   "source": [
    "###################################\n",
    "# Build the model\n",
    "###################################\n",
    "# easfsl only wants a tuple for the shape\n",
    "model = Steves_Prototypical_Network(x_net, device=p.device, x_shape=tuple(p.x_shape))\n",
    "optimizer = Adam(params=model.parameters(), lr=p.lr)"
   ]
  },
  {
   "cell_type": "code",
   "execution_count": 22,
   "id": "22b39ac5",
   "metadata": {
    "execution": {
     "iopub.execute_input": "2022-03-21T07:35:57.861956Z",
     "iopub.status.busy": "2022-03-21T07:35:57.861512Z",
     "iopub.status.idle": "2022-03-21T07:57:41.173482Z",
     "shell.execute_reply": "2022-03-21T07:57:41.173139Z"
    },
    "papermill": {
     "duration": 1303.338152,
     "end_time": "2022-03-21T07:57:41.173570",
     "exception": false,
     "start_time": "2022-03-21T07:35:57.835418",
     "status": "completed"
    },
    "tags": []
   },
   "outputs": [
    {
     "name": "stdout",
     "output_type": "stream",
     "text": [
      "epoch: 1, [batch: 1 / 6847], examples_per_second: 30.5008, train_label_loss: 2.6070, \n"
     ]
    },
    {
     "name": "stdout",
     "output_type": "stream",
     "text": [
      "epoch: 1, [batch: 685 / 6847], examples_per_second: 2314.4115, train_label_loss: 0.3043, \n"
     ]
    },
    {
     "name": "stdout",
     "output_type": "stream",
     "text": [
      "epoch: 1, [batch: 1370 / 6847], examples_per_second: 2306.4038, train_label_loss: 0.1193, \n"
     ]
    },
    {
     "name": "stdout",
     "output_type": "stream",
     "text": [
      "epoch: 1, [batch: 2054 / 6847], examples_per_second: 2301.7449, train_label_loss: 0.0259, \n"
     ]
    },
    {
     "name": "stdout",
     "output_type": "stream",
     "text": [
      "epoch: 1, [batch: 2739 / 6847], examples_per_second: 2531.3404, train_label_loss: 0.0923, \n"
     ]
    },
    {
     "name": "stdout",
     "output_type": "stream",
     "text": [
      "epoch: 1, [batch: 3424 / 6847], examples_per_second: 2919.2789, train_label_loss: 0.0686, \n"
     ]
    },
    {
     "name": "stdout",
     "output_type": "stream",
     "text": [
      "epoch: 1, [batch: 4108 / 6847], examples_per_second: 2919.6259, train_label_loss: 0.3699, \n"
     ]
    },
    {
     "name": "stdout",
     "output_type": "stream",
     "text": [
      "epoch: 1, [batch: 4793 / 6847], examples_per_second: 2734.3572, train_label_loss: 0.1891, \n"
     ]
    },
    {
     "name": "stdout",
     "output_type": "stream",
     "text": [
      "epoch: 1, [batch: 5477 / 6847], examples_per_second: 2817.5483, train_label_loss: 0.1098, \n"
     ]
    },
    {
     "name": "stdout",
     "output_type": "stream",
     "text": [
      "epoch: 1, [batch: 6162 / 6847], examples_per_second: 2879.1367, train_label_loss: 0.2361, \n"
     ]
    },
    {
     "name": "stdout",
     "output_type": "stream",
     "text": [
      "=============================================================\n",
      "epoch: 1, source_val_acc_label: 0.9631, target_val_acc_label: 0.1704, source_val_label_loss: 0.1639, target_val_label_loss: 2.6007, \n",
      "=============================================================\n"
     ]
    },
    {
     "name": "stdout",
     "output_type": "stream",
     "text": [
      "New best\n"
     ]
    },
    {
     "name": "stdout",
     "output_type": "stream",
     "text": [
      "epoch: 2, [batch: 1 / 6860], examples_per_second: 2.6099, train_label_loss: 0.2797, \n"
     ]
    },
    {
     "name": "stdout",
     "output_type": "stream",
     "text": [
      "epoch: 2, [batch: 686 / 6860], examples_per_second: 2293.7224, train_label_loss: 0.2373, \n"
     ]
    },
    {
     "name": "stdout",
     "output_type": "stream",
     "text": [
      "epoch: 2, [batch: 1372 / 6860], examples_per_second: 2311.0412, train_label_loss: 0.4161, \n"
     ]
    },
    {
     "name": "stdout",
     "output_type": "stream",
     "text": [
      "epoch: 2, [batch: 2058 / 6860], examples_per_second: 2300.9084, train_label_loss: 0.2309, \n"
     ]
    },
    {
     "name": "stdout",
     "output_type": "stream",
     "text": [
      "epoch: 2, [batch: 2744 / 6860], examples_per_second: 2465.9026, train_label_loss: 0.0243, \n"
     ]
    },
    {
     "name": "stdout",
     "output_type": "stream",
     "text": [
      "epoch: 2, [batch: 3430 / 6860], examples_per_second: 2559.3029, train_label_loss: 0.0059, \n"
     ]
    },
    {
     "name": "stdout",
     "output_type": "stream",
     "text": [
      "epoch: 2, [batch: 4116 / 6860], examples_per_second: 2614.7915, train_label_loss: 0.1813, \n"
     ]
    },
    {
     "name": "stdout",
     "output_type": "stream",
     "text": [
      "epoch: 2, [batch: 4802 / 6860], examples_per_second: 2382.7420, train_label_loss: 0.4028, \n"
     ]
    },
    {
     "name": "stdout",
     "output_type": "stream",
     "text": [
      "epoch: 2, [batch: 5488 / 6860], examples_per_second: 2539.3190, train_label_loss: 0.0068, \n"
     ]
    },
    {
     "name": "stdout",
     "output_type": "stream",
     "text": [
      "epoch: 2, [batch: 6174 / 6860], examples_per_second: 2612.1447, train_label_loss: 0.0160, \n"
     ]
    },
    {
     "name": "stdout",
     "output_type": "stream",
     "text": [
      "=============================================================\n",
      "epoch: 2, source_val_acc_label: 0.9715, target_val_acc_label: 0.1518, source_val_label_loss: 0.1231, target_val_label_loss: 2.6213, \n",
      "=============================================================\n"
     ]
    },
    {
     "name": "stdout",
     "output_type": "stream",
     "text": [
      "epoch: 3, [batch: 1 / 6849], examples_per_second: 2.2812, train_label_loss: 0.0247, \n"
     ]
    },
    {
     "name": "stdout",
     "output_type": "stream",
     "text": [
      "epoch: 3, [batch: 685 / 6849], examples_per_second: 2548.9037, train_label_loss: 0.0648, \n"
     ]
    },
    {
     "name": "stdout",
     "output_type": "stream",
     "text": [
      "epoch: 3, [batch: 1370 / 6849], examples_per_second: 2605.6801, train_label_loss: 0.1100, \n"
     ]
    },
    {
     "name": "stdout",
     "output_type": "stream",
     "text": [
      "epoch: 3, [batch: 2055 / 6849], examples_per_second: 2600.9492, train_label_loss: 0.0022, \n"
     ]
    },
    {
     "name": "stdout",
     "output_type": "stream",
     "text": [
      "epoch: 3, [batch: 2740 / 6849], examples_per_second: 2831.5913, train_label_loss: 0.0075, \n"
     ]
    },
    {
     "name": "stdout",
     "output_type": "stream",
     "text": [
      "epoch: 3, [batch: 3425 / 6849], examples_per_second: 2924.7208, train_label_loss: 0.2246, \n"
     ]
    },
    {
     "name": "stdout",
     "output_type": "stream",
     "text": [
      "epoch: 3, [batch: 4109 / 6849], examples_per_second: 3301.5064, train_label_loss: 0.1712, \n"
     ]
    },
    {
     "name": "stdout",
     "output_type": "stream",
     "text": [
      "epoch: 3, [batch: 4794 / 6849], examples_per_second: 2987.3529, train_label_loss: 0.0291, \n"
     ]
    },
    {
     "name": "stdout",
     "output_type": "stream",
     "text": [
      "epoch: 3, [batch: 5479 / 6849], examples_per_second: 2950.1622, train_label_loss: 0.0048, \n"
     ]
    },
    {
     "name": "stdout",
     "output_type": "stream",
     "text": [
      "epoch: 3, [batch: 6164 / 6849], examples_per_second: 2945.4356, train_label_loss: 0.0031, \n"
     ]
    },
    {
     "name": "stdout",
     "output_type": "stream",
     "text": [
      "=============================================================\n",
      "epoch: 3, source_val_acc_label: 0.9734, target_val_acc_label: 0.1545, source_val_label_loss: 0.1173, target_val_label_loss: 2.6816, \n",
      "=============================================================\n"
     ]
    },
    {
     "name": "stdout",
     "output_type": "stream",
     "text": [
      "epoch: 4, [batch: 1 / 6845], examples_per_second: 2.7250, train_label_loss: 0.1430, \n"
     ]
    },
    {
     "name": "stdout",
     "output_type": "stream",
     "text": [
      "epoch: 4, [batch: 685 / 6845], examples_per_second: 2895.9036, train_label_loss: 0.0369, \n"
     ]
    },
    {
     "name": "stdout",
     "output_type": "stream",
     "text": [
      "epoch: 4, [batch: 1369 / 6845], examples_per_second: 2930.6983, train_label_loss: 0.0843, \n"
     ]
    },
    {
     "name": "stdout",
     "output_type": "stream",
     "text": [
      "epoch: 4, [batch: 2054 / 6845], examples_per_second: 2315.9856, train_label_loss: 0.0014, \n"
     ]
    },
    {
     "name": "stdout",
     "output_type": "stream",
     "text": [
      "epoch: 4, [batch: 2738 / 6845], examples_per_second: 2499.9265, train_label_loss: 0.1256, \n"
     ]
    },
    {
     "name": "stdout",
     "output_type": "stream",
     "text": [
      "epoch: 4, [batch: 3423 / 6845], examples_per_second: 2588.6424, train_label_loss: 0.0039, \n"
     ]
    },
    {
     "name": "stdout",
     "output_type": "stream",
     "text": [
      "epoch: 4, [batch: 4107 / 6845], examples_per_second: 2639.0164, train_label_loss: 0.0062, \n"
     ]
    },
    {
     "name": "stdout",
     "output_type": "stream",
     "text": [
      "epoch: 4, [batch: 4791 / 6845], examples_per_second: 2303.6432, train_label_loss: 0.0019, \n"
     ]
    },
    {
     "name": "stdout",
     "output_type": "stream",
     "text": [
      "epoch: 4, [batch: 5476 / 6845], examples_per_second: 2301.1962, train_label_loss: 0.1139, \n"
     ]
    },
    {
     "name": "stdout",
     "output_type": "stream",
     "text": [
      "epoch: 4, [batch: 6160 / 6845], examples_per_second: 2311.7513, train_label_loss: 0.0013, \n"
     ]
    },
    {
     "name": "stdout",
     "output_type": "stream",
     "text": [
      "=============================================================\n",
      "epoch: 4, source_val_acc_label: 0.9728, target_val_acc_label: 0.1476, source_val_label_loss: 0.1188, target_val_label_loss: 2.6879, \n",
      "=============================================================\n"
     ]
    },
    {
     "name": "stdout",
     "output_type": "stream",
     "text": [
      "epoch: 5, [batch: 1 / 6835], examples_per_second: 2.0303, train_label_loss: 0.0140, \n"
     ]
    },
    {
     "name": "stdout",
     "output_type": "stream",
     "text": [
      "epoch: 5, [batch: 684 / 6835], examples_per_second: 2554.5040, train_label_loss: 0.0094, \n"
     ]
    },
    {
     "name": "stdout",
     "output_type": "stream",
     "text": [
      "epoch: 5, [batch: 1367 / 6835], examples_per_second: 2613.2659, train_label_loss: 0.0027, \n"
     ]
    },
    {
     "name": "stdout",
     "output_type": "stream",
     "text": [
      "epoch: 5, [batch: 2051 / 6835], examples_per_second: 2299.4922, train_label_loss: 0.1089, \n"
     ]
    },
    {
     "name": "stdout",
     "output_type": "stream",
     "text": [
      "epoch: 5, [batch: 2734 / 6835], examples_per_second: 2562.0899, train_label_loss: 0.1902, \n"
     ]
    },
    {
     "name": "stdout",
     "output_type": "stream",
     "text": [
      "epoch: 5, [batch: 3418 / 6835], examples_per_second: 2584.7264, train_label_loss: 0.0965, \n"
     ]
    },
    {
     "name": "stdout",
     "output_type": "stream",
     "text": [
      "epoch: 5, [batch: 4101 / 6835], examples_per_second: 2566.0479, train_label_loss: 0.0016, \n"
     ]
    },
    {
     "name": "stdout",
     "output_type": "stream",
     "text": [
      "epoch: 5, [batch: 4784 / 6835], examples_per_second: 2312.4638, train_label_loss: 0.0207, \n"
     ]
    },
    {
     "name": "stdout",
     "output_type": "stream",
     "text": [
      "epoch: 5, [batch: 5468 / 6835], examples_per_second: 2307.7122, train_label_loss: 0.0050, \n"
     ]
    },
    {
     "name": "stdout",
     "output_type": "stream",
     "text": [
      "epoch: 5, [batch: 6151 / 6835], examples_per_second: 2315.3960, train_label_loss: 0.0065, \n"
     ]
    },
    {
     "name": "stdout",
     "output_type": "stream",
     "text": [
      "=============================================================\n",
      "epoch: 5, source_val_acc_label: 0.9741, target_val_acc_label: 0.1279, source_val_label_loss: 0.1171, target_val_label_loss: 3.0118, \n",
      "=============================================================\n"
     ]
    },
    {
     "name": "stdout",
     "output_type": "stream",
     "text": [
      "Patience (3) exhausted\n"
     ]
    }
   ],
   "source": [
    "###################################\n",
    "# train\n",
    "###################################\n",
    "jig = PTN_Train_Eval_Test_Jig(model, p.BEST_MODEL_PATH, p.device)\n",
    "\n",
    "jig.train(\n",
    "    train_iterable=datasets.source.processed.train,\n",
    "    source_val_iterable=datasets.source.processed.val,\n",
    "    target_val_iterable=datasets.target.processed.val,\n",
    "    num_epochs=p.n_epoch,\n",
    "    num_logs_per_epoch=p.NUM_LOGS_PER_EPOCH,\n",
    "    patience=p.patience,\n",
    "    optimizer=optimizer,\n",
    "    criteria_for_best=p.criteria_for_best,\n",
    ")"
   ]
  },
  {
   "cell_type": "code",
   "execution_count": 23,
   "id": "31e8fabf",
   "metadata": {
    "execution": {
     "iopub.execute_input": "2022-03-21T07:57:41.253324Z",
     "iopub.status.busy": "2022-03-21T07:57:41.252678Z",
     "iopub.status.idle": "2022-03-21T07:57:41.282684Z",
     "shell.execute_reply": "2022-03-21T07:57:41.281957Z"
    },
    "papermill": {
     "duration": 0.071618,
     "end_time": "2022-03-21T07:57:41.282880",
     "exception": false,
     "start_time": "2022-03-21T07:57:41.211262",
     "status": "completed"
    },
    "tags": []
   },
   "outputs": [],
   "source": [
    "total_experiment_time_secs = time.time() - start_time_secs"
   ]
  },
  {
   "cell_type": "code",
   "execution_count": 24,
   "id": "87b9595b",
   "metadata": {
    "execution": {
     "iopub.execute_input": "2022-03-21T07:57:41.372994Z",
     "iopub.status.busy": "2022-03-21T07:57:41.372303Z",
     "iopub.status.idle": "2022-03-21T08:01:46.626663Z",
     "shell.execute_reply": "2022-03-21T08:01:46.627343Z"
    },
    "papermill": {
     "duration": 245.29833,
     "end_time": "2022-03-21T08:01:46.627621",
     "exception": false,
     "start_time": "2022-03-21T07:57:41.329291",
     "status": "completed"
    },
    "tags": []
   },
   "outputs": [],
   "source": [
    "###################################\n",
    "# Evaluate the model\n",
    "###################################\n",
    "source_test_label_accuracy, source_test_label_loss = jig.test(datasets.source.processed.test)\n",
    "target_test_label_accuracy, target_test_label_loss = jig.test(datasets.target.processed.test)\n",
    "\n",
    "source_val_label_accuracy, source_val_label_loss = jig.test(datasets.source.processed.val)\n",
    "target_val_label_accuracy, target_val_label_loss = jig.test(datasets.target.processed.val)\n",
    "\n",
    "history = jig.get_history()\n",
    "\n",
    "total_epochs_trained = len(history[\"epoch_indices\"])\n",
    "\n",
    "val_dl = Iterable_Aggregator((datasets.source.original.val,datasets.target.original.val))\n",
    "\n",
    "confusion = ptn_confusion_by_domain_over_dataloader(model, p.device, val_dl)\n",
    "per_domain_accuracy = per_domain_accuracy_from_confusion(confusion)\n",
    "\n",
    "# Add a key to per_domain_accuracy for if it was a source domain\n",
    "for domain, accuracy in per_domain_accuracy.items():\n",
    "    per_domain_accuracy[domain] = {\n",
    "        \"accuracy\": accuracy,\n",
    "        \"source?\": domain in p.domains_source\n",
    "    }\n",
    "\n",
    "# Do an independent accuracy assesment JUST TO BE SURE!\n",
    "# _source_test_label_accuracy = independent_accuracy_assesment(model, datasets.source.processed.test, p.device)\n",
    "# _target_test_label_accuracy = independent_accuracy_assesment(model, datasets.target.processed.test, p.device)\n",
    "# _source_val_label_accuracy = independent_accuracy_assesment(model, datasets.source.processed.val, p.device)\n",
    "# _target_val_label_accuracy = independent_accuracy_assesment(model, datasets.target.processed.val, p.device)\n",
    "\n",
    "# assert(_source_test_label_accuracy == source_test_label_accuracy)\n",
    "# assert(_target_test_label_accuracy == target_test_label_accuracy)\n",
    "# assert(_source_val_label_accuracy == source_val_label_accuracy)\n",
    "# assert(_target_val_label_accuracy == target_val_label_accuracy)\n",
    "\n",
    "experiment = {\n",
    "    \"experiment_name\": p.experiment_name,\n",
    "    \"parameters\": dict(p),\n",
    "    \"results\": {\n",
    "        \"source_test_label_accuracy\": source_test_label_accuracy,\n",
    "        \"source_test_label_loss\": source_test_label_loss,\n",
    "        \"target_test_label_accuracy\": target_test_label_accuracy,\n",
    "        \"target_test_label_loss\": target_test_label_loss,\n",
    "        \"source_val_label_accuracy\": source_val_label_accuracy,\n",
    "        \"source_val_label_loss\": source_val_label_loss,\n",
    "        \"target_val_label_accuracy\": target_val_label_accuracy,\n",
    "        \"target_val_label_loss\": target_val_label_loss,\n",
    "        \"total_epochs_trained\": total_epochs_trained,\n",
    "        \"total_experiment_time_secs\": total_experiment_time_secs,\n",
    "        \"confusion\": confusion,\n",
    "        \"per_domain_accuracy\": per_domain_accuracy,\n",
    "    },\n",
    "    \"history\": history,\n",
    "    \"dataset_metrics\": get_dataset_metrics(datasets, \"ptn\"),\n",
    "}"
   ]
  },
  {
   "cell_type": "code",
   "execution_count": 25,
   "id": "54a21829",
   "metadata": {
    "execution": {
     "iopub.execute_input": "2022-03-21T08:01:46.715906Z",
     "iopub.status.busy": "2022-03-21T08:01:46.714552Z",
     "iopub.status.idle": "2022-03-21T08:01:46.931410Z",
     "shell.execute_reply": "2022-03-21T08:01:46.932138Z"
    },
    "papermill": {
     "duration": 0.258653,
     "end_time": "2022-03-21T08:01:46.932331",
     "exception": false,
     "start_time": "2022-03-21T08:01:46.673678",
     "status": "completed"
    },
    "tags": []
   },
   "outputs": [
    {
     "data": {
      "image/png": "[encoded data removed]",
      "text/plain": [
       "<Figure size 1080x504 with 1 Axes>"
      ]
     },
     "metadata": {
      "needs_background": "light"
     },
     "output_type": "display_data"
    }
   ],
   "source": [
    "ax = get_loss_curve(experiment)\n",
    "plt.show()"
   ]
  },
  {
   "cell_type": "code",
   "execution_count": 26,
   "id": "fd8a0f60",
   "metadata": {
    "execution": {
     "iopub.execute_input": "2022-03-21T08:01:47.021424Z",
     "iopub.status.busy": "2022-03-21T08:01:47.021051Z",
     "iopub.status.idle": "2022-03-21T08:01:47.366579Z",
     "shell.execute_reply": "2022-03-21T08:01:47.367276Z"
    },
    "papermill": {
     "duration": 0.38938,
     "end_time": "2022-03-21T08:01:47.367498",
     "exception": false,
     "start_time": "2022-03-21T08:01:46.978118",
     "status": "completed"
    },
    "tags": []
   },
   "outputs": [
    {
     "data": {
      "text/plain": [
       "<AxesSubplot:title={'center':'Results'}>"
      ]
     },
     "execution_count": 26,
     "metadata": {},
     "output_type": "execute_result"
    },
    {
     "data": {
      "image/png": "[encoded data removed]",
      "text/plain": [
       "<Figure size 1080x504 with 1 Axes>"
      ]
     },
     "metadata": {
      "needs_background": "light"
     },
     "output_type": "display_data"
    }
   ],
   "source": [
    "get_results_table(experiment)"
   ]
  },
  {
   "cell_type": "code",
   "execution_count": 27,
   "id": "cf8dc689",
   "metadata": {
    "execution": {
     "iopub.execute_input": "2022-03-21T08:01:47.458535Z",
     "iopub.status.busy": "2022-03-21T08:01:47.458159Z",
     "iopub.status.idle": "2022-03-21T08:01:47.710349Z",
     "shell.execute_reply": "2022-03-21T08:01:47.709587Z"
    },
    "papermill": {
     "duration": 0.296747,
     "end_time": "2022-03-21T08:01:47.710520",
     "exception": false,
     "start_time": "2022-03-21T08:01:47.413773",
     "status": "completed"
    },
    "tags": []
   },
   "outputs": [
    {
     "data": {
      "text/plain": [
       "<AxesSubplot:title={'center':'Per Domain Validation Accuracy'}, xlabel='domain'>"
      ]
     },
     "execution_count": 27,
     "metadata": {},
     "output_type": "execute_result"
    },
    {
     "data": {
      "image/png": "[encoded data removed]",
      "text/plain": [
       "<Figure size 1080x504 with 1 Axes>"
      ]
     },
     "metadata": {
      "needs_background": "light"
     },
     "output_type": "display_data"
    }
   ],
   "source": [
    "get_domain_accuracies(experiment)"
   ]
  },
  {
   "cell_type": "code",
   "execution_count": 28,
   "id": "a74ae082",
   "metadata": {
    "execution": {
     "iopub.execute_input": "2022-03-21T08:01:47.805372Z",
     "iopub.status.busy": "2022-03-21T08:01:47.804988Z",
     "iopub.status.idle": "2022-03-21T08:01:47.831391Z",
     "shell.execute_reply": "2022-03-21T08:01:47.830669Z"
    },
    "papermill": {
     "duration": 0.073498,
     "end_time": "2022-03-21T08:01:47.831588",
     "exception": false,
     "start_time": "2022-03-21T08:01:47.758090",
     "status": "completed"
    },
    "tags": []
   },
   "outputs": [
    {
     "name": "stdout",
     "output_type": "stream",
     "text": [
      "Source Test Label Accuracy: 0.9623447204968945 Target Test Label Accuracy: 0.16608072916666666\n",
      "Source Val Label Accuracy: 0.9631342494714588 Target Val Label Accuracy: 0.17037760416666667\n"
     ]
    }
   ],
   "source": [
    "print(\"Source Test Label Accuracy:\", experiment[\"results\"][\"source_test_label_accuracy\"], \"Target Test Label Accuracy:\", experiment[\"results\"][\"target_test_label_accuracy\"])\n",
    "print(\"Source Val Label Accuracy:\", experiment[\"results\"][\"source_val_label_accuracy\"], \"Target Val Label Accuracy:\", experiment[\"results\"][\"target_val_label_accuracy\"])"
   ]
  },
  {
   "cell_type": "code",
   "execution_count": 29,
   "id": "dacca602",
   "metadata": {
    "execution": {
     "iopub.execute_input": "2022-03-21T08:01:47.924071Z",
     "iopub.status.busy": "2022-03-21T08:01:47.923506Z",
     "iopub.status.idle": "2022-03-21T08:01:47.947910Z",
     "shell.execute_reply": "2022-03-21T08:01:47.948603Z"
    },
    "papermill": {
     "duration": 0.071148,
     "end_time": "2022-03-21T08:01:47.948792",
     "exception": false,
     "start_time": "2022-03-21T08:01:47.877644",
     "status": "completed"
    },
    "tags": [
     "experiment_json"
    ]
   },
   "outputs": [
    {
     "data": {
      "text/plain": [
       "'{\"experiment_name\": \"tl_1v2:wisig-oracle.run1.framed\", \"parameters\": {\"experiment_name\": \"tl_1v2:wisig-oracle.run1.framed\", \"device\": \"cuda\", \"lr\": 0.0001, \"n_shot\": 3, \"n_query\": 2, \"train_k_factor\": 3, \"val_k_factor\": 2, \"test_k_factor\": 2, \"torch_default_dtype\": \"torch.float32\", \"n_epoch\": 50, \"patience\": 3, \"criteria_for_best\": \"target_accuracy\", \"x_net\": [{\"class\": \"nnReshape\", \"kargs\": {\"shape\": [-1, 1, 2, 256]}}, {\"class\": \"Conv2d\", \"kargs\": {\"in_channels\": 1, \"out_channels\": 256, \"kernel_size\": [1, 7], \"bias\": false, \"padding\": [0, 3]}}, {\"class\": \"ReLU\", \"kargs\": {\"inplace\": true}}, {\"class\": \"BatchNorm2d\", \"kargs\": {\"num_features\": 256}}, {\"class\": \"Conv2d\", \"kargs\": {\"in_channels\": 256, \"out_channels\": 80, \"kernel_size\": [2, 7], \"bias\": true, \"padding\": [0, 3]}}, {\"class\": \"ReLU\", \"kargs\": {\"inplace\": true}}, {\"class\": \"BatchNorm2d\", \"kargs\": {\"num_features\": 80}}, {\"class\": \"Flatten\", \"kargs\": {}}, {\"class\": \"Linear\", \"kargs\": {\"in_features\": 20480, \"out_features\": 256}}, {\"class\": \"ReLU\", \"kargs\": {\"inplace\": true}}, {\"class\": \"BatchNorm1d\", \"kargs\": {\"num_features\": 256}}, {\"class\": \"Linear\", \"kargs\": {\"in_features\": 256, \"out_features\": 256}}], \"NUM_LOGS_PER_EPOCH\": 10, \"BEST_MODEL_PATH\": \"./best_model.pth\", \"n_way\": 16, \"datasets\": [{\"labels\": [\"1-10\", \"1-12\", \"1-14\", \"1-16\", \"1-18\", \"1-19\", \"1-8\", \"10-11\", \"10-17\", \"10-4\", \"10-7\", \"11-1\", \"11-10\", \"11-19\", \"11-20\", \"11-4\", \"11-7\", \"12-19\", \"12-20\", \"12-7\", \"13-14\", \"13-18\", \"13-19\", \"13-20\", \"13-3\", \"13-7\", \"14-10\", \"14-11\", \"14-12\", \"14-13\", \"14-14\", \"14-19\", \"14-20\", \"14-7\", \"14-8\", \"14-9\", \"15-1\", \"15-19\", \"15-6\", \"16-1\", \"16-16\", \"16-19\", \"16-20\", \"17-10\", \"17-11\", \"18-1\", \"18-10\", \"18-11\", \"18-12\", \"18-13\", \"18-14\", \"18-15\", \"18-16\", \"18-17\", \"18-19\", \"18-2\", \"18-20\", \"18-4\", \"18-5\", \"18-7\", \"18-8\", \"18-9\", \"19-1\", \"19-10\", \"19-11\", \"19-12\", \"19-13\", \"19-14\", \"19-15\", \"19-19\", \"19-2\", \"19-20\", \"19-3\", \"19-4\", \"19-6\", \"19-7\", \"19-8\", \"19-9\", \"2-1\", \"2-13\", \"2-15\", \"2-3\", \"2-4\", \"2-5\", \"2-6\", \"2-7\", \"2-8\", \"20-1\", \"20-12\", \"20-14\", \"20-15\", \"20-16\", \"20-18\", \"20-19\", \"20-20\", \"20-3\", \"20-4\", \"20-5\", \"20-7\", \"20-8\", \"3-1\", \"3-13\", \"3-18\", \"3-2\", \"3-8\", \"4-1\", \"4-10\", \"4-11\", \"5-1\", \"5-5\", \"6-1\", \"6-15\", \"6-6\", \"7-10\", \"7-11\", \"7-12\", \"7-13\", \"7-14\", \"7-7\", \"7-8\", \"7-9\", \"8-1\", \"8-13\", \"8-14\", \"8-18\", \"8-20\", \"8-3\", \"8-8\", \"9-1\", \"9-7\"], \"domains\": [1, 2, 3, 4], \"num_examples_per_domain_per_label\": -1, \"pickle_path\": \"/root/csc500-main/datasets/wisig.node3-19.stratified_ds.2022A.pkl\", \"source_or_target_dataset\": \"source\", \"x_transforms\": [\"unit_power\"], \"episode_transforms\": [], \"domain_prefix\": \"Wisig_\"}, {\"labels\": [\"3123D52\", \"3123D65\", \"3123D79\", \"3123D80\", \"3123D54\", \"3123D70\", \"3123D7B\", \"3123D89\", \"3123D58\", \"3123D76\", \"3123D7D\", \"3123EFE\", \"3123D64\", \"3123D78\", \"3123D7E\", \"3124E4A\"], \"domains\": [32, 38, 8, 44, 14, 50, 20, 26], \"num_examples_per_domain_per_label\": 2000, \"pickle_path\": \"/root/csc500-main/datasets/oracle.Run1_framed_2000Examples_stratified_ds.2022A.pkl\", \"source_or_target_dataset\": \"target\", \"x_transforms\": [\"unit_power\"], \"episode_transforms\": [], \"domain_prefix\": \"ORACLE.run1\"}], \"dataset_seed\": 420, \"seed\": 420, \"x_shape\": [2, 256], \"domains_source\": [\"Wisig_1\", \"Wisig_2\", \"Wisig_3\", \"Wisig_4\"], \"domains_target\": [\"ORACLE.run132\", \"ORACLE.run138\", \"ORACLE.run18\", \"ORACLE.run144\", \"ORACLE.run114\", \"ORACLE.run150\", \"ORACLE.run120\", \"ORACLE.run126\"]}, \"results\": {\"source_test_label_accuracy\": 0.9623447204968945, \"source_test_label_loss\": 0.16559064388275146, \"target_test_label_accuracy\": 0.16608072916666666, \"target_test_label_loss\": 2.611351251602173, \"source_val_label_accuracy\": 0.9631342494714588, \"source_val_label_loss\": 0.16390997171401978, \"target_val_label_accuracy\": 0.17037760416666667, \"target_val_label_loss\": 2.600656747817993, \"total_epochs_trained\": 5, \"total_experiment_time_secs\": 1364.771457195282, \"confusion\": {\"Wisig_3\": {\"110\": {\"110\": 88, \"91\": 1, \"8\": 2, \"129\": 1}, \"1\": {\"1\": 107, \"69\": 1}, \"2\": {\"2\": 25, \"26\": 2, \"117\": 1}, \"94\": {\"94\": 80, \"27\": 1, \"70\": 1, \"129\": 1, \"39\": 1}, \"64\": {\"64\": 20}, \"78\": {\"78\": 13, \"4\": 1, \"21\": 2}, \"47\": {\"47\": 11, \"69\": 1}, \"127\": {\"127\": 127, \"111\": 1}, \"89\": {\"89\": 28}, \"79\": {\"79\": 12}, \"22\": {\"22\": 16}, \"117\": {\"117\": 112}, \"49\": {\"49\": 21, \"47\": 1, \"108\": 1, \"63\": 1}, \"14\": {\"14\": 80}, \"103\": {\"103\": 16}, \"123\": {\"123\": 16}, \"98\": {\"98\": 126, \"26\": 1, \"90\": 1}, \"18\": {\"18\": 108}, \"61\": {\"61\": 16}, \"108\": {\"108\": 121, \"110\": 1, \"70\": 1, \"88\": 2, \"26\": 1}, \"100\": {\"100\": 16}, \"0\": {\"0\": 115, \"127\": 1}, \"107\": {\"107\": 130}, \"58\": {\"58\": 16}, \"8\": {\"8\": 119, \"85\": 1}, \"85\": {\"85\": 36}, \"31\": {\"31\": 19, \"129\": 1}, \"81\": {\"81\": 32}, \"60\": {\"60\": 18, \"31\": 1, \"70\": 1, \"23\": 2, \"110\": 1, \"85\": 1, \"73\": 1, \"116\": 1, \"122\": 2}, \"102\": {\"102\": 116}, \"19\": {\"19\": 29, \"28\": 1, \"128\": 1, \"46\": 1}, \"23\": {\"60\": 2, \"23\": 24, \"67\": 1, \"122\": 1, \"17\": 2, \"123\": 1, \"97\": 1}, \"32\": {\"32\": 27, \"66\": 1, \"14\": 1, \"107\": 1, \"9\": 1, \"62\": 1}, \"39\": {\"39\": 105, \"126\": 2, \"21\": 1}, \"129\": {\"129\": 31, \"110\": 1}, \"71\": {\"71\": 67, \"84\": 1}, \"91\": {\"91\": 20, \"57\": 1, \"58\": 1, \"70\": 1, \"42\": 1}, \"101\": {\"101\": 50, \"21\": 1, \"113\": 1}, \"62\": {\"62\": 120, \"0\": 1, \"118\": 1}, \"63\": {\"63\": 16}, \"125\": {\"125\": 117, \"69\": 1, \"10\": 1, \"4\": 1}, \"57\": {\"57\": 20}, \"28\": {\"28\": 16}, \"70\": {\"70\": 61, \"25\": 1, \"43\": 1, \"21\": 1, \"15\": 1, \"61\": 1, \"8\": 1, \"105\": 1, \"69\": 2, \"33\": 1, \"36\": 1}, \"99\": {\"99\": 33, \"21\": 1, \"27\": 1, \"42\": 1}, \"121\": {\"121\": 28, \"61\": 1, \"80\": 1, \"19\": 1, \"113\": 1}, \"4\": {\"4\": 95, \"94\": 1}, \"80\": {\"80\": 16}, \"51\": {\"97\": 1, \"51\": 12, \"82\": 1, \"21\": 1, \"73\": 1}, \"3\": {\"3\": 113, \"13\": 1, \"70\": 1, \"109\": 1}, \"9\": {\"9\": 32}, \"53\": {\"53\": 19, \"81\": 1}, \"30\": {\"30\": 83, \"69\": 1}, \"33\": {\"33\": 122}, \"15\": {\"15\": 103, \"102\": 1}, \"97\": {\"30\": 1, \"97\": 19}, \"86\": {\"86\": 27, \"84\": 1}, \"20\": {\"20\": 16}, \"66\": {\"66\": 16}, \"10\": {\"10\": 118, \"127\": 1, \"9\": 1, \"4\": 1, \"43\": 1}, \"29\": {\"29\": 31, \"9\": 1}, \"109\": {\"109\": 112, \"5\": 1, \"33\": 1}, \"52\": {\"52\": 16}, \"67\": {\"67\": 16}, \"83\": {\"83\": 22, \"69\": 1, \"43\": 1}, \"72\": {\"72\": 28}, \"90\": {\"90\": 124, \"26\": 2}, \"69\": {\"69\": 83, \"92\": 1}, \"88\": {\"88\": 109, \"8\": 1, \"39\": 1, \"36\": 1}, \"115\": {\"115\": 16}, \"73\": {\"73\": 35, \"22\": 1, \"24\": 1, \"25\": 1, \"69\": 1, \"89\": 1}, \"34\": {\"34\": 23, \"6\": 2, \"14\": 2, \"124\": 1, \"17\": 1, \"128\": 1, \"28\": 1, \"58\": 1}, \"25\": {\"25\": 16}, \"44\": {\"44\": 71, \"113\": 1}, \"112\": {\"112\": 16}, \"37\": {\"37\": 16}, \"77\": {\"77\": 16}, \"111\": {\"111\": 118, \"127\": 3, \"106\": 1}, \"119\": {\"119\": 16}, \"56\": {\"56\": 12}, \"5\": {\"5\": 110, \"122\": 1, \"21\": 1}, \"122\": {\"122\": 57, \"21\": 3}, \"74\": {\"74\": 16}, \"11\": {\"11\": 150, \"107\": 1, \"16\": 1}, \"41\": {\"41\": 16}, \"104\": {\"104\": 16}, \"21\": {\"21\": 46, \"101\": 2}, \"118\": {\"118\": 98, \"86\": 1, \"105\": 1}, \"40\": {\"40\": 121, \"21\": 1}, \"6\": {\"6\": 32}, \"27\": {\"27\": 89, \"24\": 1, \"36\": 5, \"61\": 1}, \"113\": {\"113\": 119, \"43\": 1}, \"68\": {\"68\": 16}, \"12\": {\"12\": 102}, \"54\": {\"54\": 16}, \"24\": {\"24\": 45, \"86\": 1, \"54\": 1, \"36\": 1}, \"106\": {\"106\": 98, \"87\": 1, \"6\": 1}, \"128\": {\"128\": 31, \"122\": 1}, \"48\": {\"48\": 7, \"65\": 1, \"10\": 1, \"11\": 1, \"79\": 2, \"95\": 2, \"33\": 2}, \"92\": {\"92\": 32}, \"35\": {\"35\": 10, \"24\": 1, \"27\": 1}, \"116\": {\"116\": 26, \"60\": 1, \"82\": 1}, \"38\": {\"38\": 15, \"25\": 1}, \"126\": {\"126\": 122, \"17\": 1, \"39\": 1}, \"46\": {\"46\": 16}, \"120\": {\"120\": 20}, \"7\": {\"7\": 111, \"84\": 1}, \"13\": {\"13\": 8, \"11\": 2, \"24\": 1, \"82\": 1, \"122\": 1, \"121\": 1, \"120\": 1, \"17\": 1}, \"43\": {\"43\": 45, \"33\": 5, \"84\": 1, \"83\": 1, \"30\": 1, \"102\": 1, \"87\": 1, \"105\": 1}, \"93\": {\"93\": 131, \"109\": 1}, \"26\": {\"26\": 131, \"69\": 1}, \"76\": {\"76\": 16}, \"59\": {\"59\": 12}, \"65\": {\"65\": 11, \"64\": 1}, \"87\": {\"87\": 119, \"26\": 1}, \"124\": {\"124\": 122, \"52\": 1, \"90\": 1}, \"84\": {\"84\": 107, \"110\": 1}, \"82\": {\"82\": 28}, \"75\": {\"75\": 16}, \"17\": {\"4\": 1, \"17\": 8, \"67\": 1, \"104\": 1, \"105\": 2, \"106\": 1, \"6\": 1, \"51\": 1}, \"105\": {\"105\": 124}, \"95\": {\"95\": 32}, \"42\": {\"42\": 24, \"124\": 1, \"88\": 1, \"83\": 2}, \"55\": {\"55\": 16}, \"16\": {\"16\": 115, \"6\": 1}, \"50\": {\"50\": 16}, \"96\": {\"96\": 19, \"83\": 1}, \"45\": {\"45\": 16}, \"36\": {\"36\": 117, \"27\": 3}, \"114\": {\"114\": 119, \"69\": 1, \"122\": 1, \"39\": 1, \"106\": 1, \"11\": 1}}, \"Wisig_4\": {\"113\": {\"113\": 122, \"27\": 1, \"69\": 1}, \"85\": {\"85\": 26, \"118\": 1, \"102\": 1}, \"34\": {\"34\": 24, \"72\": 1, \"75\": 1, \"47\": 2, \"91\": 2, \"45\": 1, \"120\": 1}, \"55\": {\"55\": 16}, \"42\": {\"42\": 19, \"20\": 2, \"8\": 3, \"34\": 1, \"79\": 2, \"112\": 1}, \"13\": {\"13\": 16}, \"69\": {\"69\": 118, \"70\": 1, \"8\": 1, \"1\": 1, \"78\": 1, \"88\": 1, \"16\": 1}, \"35\": {\"35\": 12}, \"83\": {\"83\": 26, \"21\": 1, \"88\": 1}, \"51\": {\"34\": 1, \"24\": 1, \"62\": 2, \"51\": 7, \"29\": 2, \"91\": 1, \"69\": 1, \"98\": 1}, \"72\": {\"72\": 32}, \"24\": {\"24\": 117, \"21\": 1, \"10\": 1, \"36\": 1}, \"53\": {\"53\": 15, \"49\": 1}, \"8\": {\"8\": 136, \"5\": 1, \"110\": 1, \"27\": 1, \"1\": 1, \"69\": 2, \"39\": 1, \"21\": 1}, \"49\": {\"49\": 30, \"88\": 1, \"5\": 1}, \"21\": {\"21\": 39, \"23\": 1}, \"18\": {\"18\": 118, \"24\": 1, \"39\": 1}, \"114\": {\"114\": 116, \"40\": 1, \"3\": 1}, \"58\": {\"58\": 15, \"31\": 1}, \"56\": {\"56\": 12}, \"80\": {\"80\": 16}, \"11\": {\"11\": 153, \"40\": 1}, \"15\": {\"15\": 123, \"105\": 1, \"10\": 2, \"40\": 1, \"69\": 1}, \"50\": {\"50\": 14, \"43\": 2}, \"111\": {\"111\": 137, \"27\": 1}, \"108\": {\"108\": 81, \"88\": 3, \"122\": 1, \"27\": 1, \"24\": 1, \"129\": 1, \"39\": 2, \"18\": 1, \"16\": 1}, \"104\": {\"104\": 16}, \"32\": {\"32\": 22, \"8\": 1, \"108\": 1, \"14\": 1, \"89\": 1, \"45\": 2}, \"68\": {\"68\": 15, \"122\": 1}, \"73\": {\"73\": 24}, \"92\": {\"92\": 28}, \"57\": {\"57\": 16}, \"40\": {\"40\": 132, \"107\": 1, \"8\": 1, \"122\": 1, \"126\": 1}, \"71\": {\"71\": 101, \"30\": 1, \"1\": 1, \"69\": 1}, \"121\": {\"121\": 26, \"80\": 1, \"27\": 1, \"90\": 1, \"38\": 1, \"115\": 2}, \"62\": {\"62\": 53, \"122\": 1, \"21\": 2, \"2\": 1, \"41\": 1, \"39\": 1, \"36\": 1}, \"39\": {\"39\": 92, \"88\": 1, \"23\": 1, \"81\": 2, \"10\": 1, \"105\": 1, \"24\": 1, \"122\": 1}, \"107\": {\"107\": 142, \"122\": 1, \"88\": 1}, \"60\": {\"60\": 29, \"129\": 1, \"50\": 1, \"122\": 1}, \"129\": {\"129\": 23, \"122\": 1, \"60\": 1, \"21\": 1, \"27\": 1, \"110\": 1}, \"84\": {\"84\": 127, \"88\": 2, \"122\": 1, \"39\": 1, \"118\": 1}, \"106\": {\"106\": 114, \"21\": 1, \"118\": 1}, \"87\": {\"87\": 128, \"105\": 3, \"43\": 1}, \"110\": {\"110\": 89, \"78\": 1, \"113\": 1, \"27\": 1, \"36\": 1, \"87\": 1}, \"118\": {\"118\": 108, \"22\": 1, \"107\": 1, \"129\": 1, \"40\": 1}, \"64\": {\"64\": 15, \"106\": 1}, \"82\": {\"60\": 1, \"82\": 30, \"17\": 1}, \"7\": {\"7\": 121, \"102\": 1, \"69\": 1, \"24\": 1}, \"0\": {\"0\": 111, \"84\": 1, \"107\": 1, \"21\": 2, \"101\": 1}, \"41\": {\"41\": 14, \"23\": 1, \"21\": 1}, \"102\": {\"102\": 127, \"98\": 1, \"117\": 1, \"20\": 1}, \"89\": {\"89\": 31, \"51\": 1}, \"26\": {\"26\": 125, \"69\": 1, \"59\": 1, \"8\": 1}, \"103\": {\"103\": 14, \"88\": 1, \"52\": 1}, \"90\": {\"90\": 114, \"98\": 1, \"121\": 1, \"113\": 1, \"88\": 1}, \"14\": {\"14\": 111, \"89\": 1}, \"9\": {\"9\": 28}, \"5\": {\"5\": 133, \"113\": 1, \"40\": 2}, \"22\": {\"22\": 16}, \"2\": {\"2\": 26, \"26\": 2}, \"77\": {\"77\": 12}, \"59\": {\"59\": 10, \"22\": 1, \"69\": 1}, \"127\": {\"127\": 95, \"23\": 1, \"16\": 1, \"8\": 1, \"105\": 2, \"81\": 1, \"69\": 1}, \"61\": {\"61\": 14, \"35\": 2}, \"17\": {\"17\": 19, \"116\": 1}, \"45\": {\"45\": 15, \"120\": 1}, \"19\": {\"19\": 28}, \"52\": {\"52\": 19, \"129\": 1}, \"123\": {\"84\": 1, \"123\": 13, \"23\": 2}, \"20\": {\"20\": 15, \"31\": 1}, \"112\": {\"112\": 14, \"53\": 1, \"52\": 1}, \"37\": {\"37\": 16}, \"29\": {\"29\": 32}, \"128\": {\"8\": 2, \"128\": 19, \"78\": 1, \"115\": 2}, \"100\": {\"100\": 20}, \"67\": {\"67\": 11, \"123\": 1, \"115\": 1, \"2\": 1, \"69\": 2}, \"12\": {\"12\": 96, \"106\": 1, \"88\": 1, \"71\": 1, \"16\": 1}, \"101\": {\"101\": 127, \"33\": 1}, \"76\": {\"76\": 16}, \"70\": {\"70\": 114, \"88\": 6, \"118\": 1, \"27\": 2, \"126\": 1}, \"31\": {\"70\": 1, \"31\": 15}, \"86\": {\"86\": 28}, \"88\": {\"70\": 3, \"88\": 126, \"69\": 1, \"94\": 1, \"108\": 1}, \"3\": {\"3\": 123, \"70\": 1, \"27\": 1, \"2\": 1}, \"117\": {\"117\": 117, \"122\": 1, \"114\": 1, \"69\": 1}, \"30\": {\"30\": 72, \"40\": 1, \"16\": 1, \"81\": 1, \"114\": 1}, \"96\": {\"96\": 20}, \"27\": {\"27\": 87, \"9\": 1, \"88\": 1, \"39\": 1, \"24\": 3, \"70\": 1, \"84\": 1, \"21\": 1, \"5\": 1, \"6\": 1, \"108\": 2}, \"122\": {\"122\": 84}, \"120\": {\"120\": 19, \"21\": 1}, \"44\": {\"44\": 60, \"121\": 2, \"90\": 1, \"73\": 1}, \"79\": {\"79\": 15, \"122\": 1}, \"105\": {\"105\": 92, \"122\": 1, \"40\": 3, \"87\": 2, \"108\": 1, \"24\": 1}, \"95\": {\"95\": 30, \"24\": 1, \"27\": 1}, \"109\": {\"109\": 112, \"88\": 1, \"69\": 1, \"14\": 2}, \"16\": {\"16\": 115, \"12\": 1, \"114\": 1, \"24\": 1}, \"36\": {\"36\": 89, \"21\": 2, \"105\": 1, \"24\": 4, \"27\": 2}, \"125\": {\"125\": 135, \"39\": 1}, \"97\": {\"97\": 17, \"10\": 2, \"108\": 1}, \"91\": {\"91\": 21, \"84\": 1, \"34\": 1, \"30\": 1}, \"28\": {\"28\": 20}, \"81\": {\"81\": 36}, \"126\": {\"126\": 114, \"69\": 1, \"78\": 1, \"106\": 1, \"107\": 1, \"113\": 1, \"51\": 1, \"39\": 2}, \"4\": {\"4\": 98, \"122\": 1, \"39\": 1, \"10\": 1, \"107\": 1, \"110\": 1, \"69\": 1}, \"10\": {\"10\": 120, \"94\": 1, \"30\": 1, \"106\": 1, \"24\": 1}, \"63\": {\"63\": 16}, \"43\": {\"43\": 117, \"87\": 1}, \"116\": {\"116\": 27, \"92\": 1}, \"1\": {\"1\": 100, \"0\": 1, \"10\": 1, \"110\": 1, \"7\": 1, \"122\": 1, \"70\": 1, \"27\": 1, \"12\": 1}, \"94\": {\"94\": 87, \"40\": 1}, \"38\": {\"38\": 16}, \"54\": {\"54\": 16}, \"74\": {\"74\": 16}, \"25\": {\"25\": 16}, \"75\": {\"75\": 16}, \"119\": {\"119\": 15, \"123\": 1}, \"46\": {\"46\": 18, \"22\": 1, \"79\": 1}, \"23\": {\"23\": 12, \"67\": 1, \"1\": 1, \"86\": 1, \"123\": 1}, \"99\": {\"99\": 40}, \"33\": {\"33\": 116, \"125\": 1, \"101\": 1}, \"47\": {\"47\": 9, \"112\": 1, \"49\": 1, \"27\": 1}, \"115\": {\"87\": 2, \"115\": 12, \"107\": 2}, \"6\": {\"85\": 1, \"6\": 20, \"58\": 1, \"12\": 1, \"27\": 1}, \"65\": {\"65\": 12}, \"66\": {\"66\": 14, \"44\": 2}, \"78\": {\"78\": 28, \"26\": 1, \"84\": 1, \"88\": 1, \"94\": 1, \"30\": 1, \"102\": 1, \"122\": 1, \"43\": 1}, \"98\": {\"98\": 116}, \"93\": {\"93\": 115, \"69\": 1}, \"48\": {\"48\": 15, \"62\": 1}, \"124\": {\"124\": 113, \"24\": 1}}, \"Wisig_2\": {\"115\": {\"115\": 12}, \"34\": {\"34\": 29, \"86\": 1, \"124\": 1, \"6\": 1}, \"97\": {\"97\": 18, \"15\": 1, \"77\": 1}, \"100\": {\"100\": 16}, \"129\": {\"129\": 32}, \"90\": {\"90\": 141, \"98\": 1}, \"125\": {\"125\": 131, \"2\": 1}, \"7\": {\"7\": 125, \"24\": 3}, \"92\": {\"92\": 27, \"89\": 1}, \"114\": {\"114\": 114, \"107\": 1, \"87\": 1}, \"80\": {\"80\": 15, \"83\": 1}, \"16\": {\"16\": 116, \"40\": 2, \"27\": 1, \"24\": 1, \"88\": 1, \"8\": 1}, \"69\": {\"69\": 113, \"24\": 1, \"70\": 1, \"87\": 1}, \"102\": {\"102\": 114}, \"33\": {\"33\": 130}, \"17\": {\"17\": 14, \"34\": 1, \"27\": 1}, \"27\": {\"27\": 61, \"36\": 2, \"24\": 2, \"102\": 1, \"112\": 1, \"94\": 1}, \"117\": {\"117\": 104, \"2\": 1, \"24\": 1}, \"14\": {\"14\": 46, \"58\": 1, \"21\": 1}, \"86\": {\"86\": 32}, \"0\": {\"0\": 113, \"21\": 1, \"69\": 1, \"24\": 1}, \"62\": {\"62\": 135, \"55\": 1, \"23\": 1, \"24\": 1}, \"39\": {\"39\": 105, \"110\": 1, \"78\": 1, \"94\": 2, \"18\": 1, \"69\": 1, \"70\": 1}, \"19\": {\"19\": 27, \"110\": 1}, \"44\": {\"44\": 100}, \"104\": {\"104\": 20}, \"3\": {\"3\": 125, \"87\": 1, \"24\": 1, \"62\": 1, \"21\": 1, \"36\": 1}, \"10\": {\"10\": 51, \"62\": 1, \"52\": 1, \"69\": 1, \"21\": 1, \"7\": 1, \"78\": 1, \"87\": 1, \"36\": 1, \"27\": 1}, \"61\": {\"61\": 16, \"51\": 1, \"27\": 1, \"58\": 2}, \"111\": {\"111\": 110, \"127\": 4}, \"68\": {\"68\": 15, \"4\": 1}, \"101\": {\"101\": 142, \"69\": 1, \"110\": 1}, \"36\": {\"36\": 121, \"51\": 1, \"18\": 1, \"106\": 1, \"70\": 1, \"73\": 1, \"4\": 1, \"30\": 1}, \"120\": {\"120\": 20}, \"103\": {\"103\": 15, \"86\": 1}, \"47\": {\"47\": 12}, \"98\": {\"98\": 119, \"60\": 1}, \"76\": {\"76\": 16}, \"88\": {\"88\": 121, \"126\": 2, \"27\": 1}, \"93\": {\"93\": 136, \"118\": 1, \"24\": 1}, \"23\": {\"23\": 37, \"54\": 1, \"19\": 1, \"29\": 1, \"36\": 1, \"124\": 1, \"60\": 1, \"99\": 1}, \"108\": {\"108\": 123, \"109\": 1}, \"51\": {\"51\": 13, \"14\": 1, \"98\": 1, \"41\": 2, \"58\": 1, \"39\": 1, \"24\": 1}, \"13\": {\"13\": 13, \"36\": 1, \"27\": 1, \"118\": 1}, \"77\": {\"77\": 16}, \"46\": {\"46\": 16}, \"96\": {\"96\": 20}, \"119\": {\"119\": 19, \"126\": 1}, \"121\": {\"121\": 36}, \"54\": {\"54\": 18, \"28\": 1, \"118\": 1}, \"82\": {\"82\": 35, \"78\": 1}, \"12\": {\"12\": 86, \"62\": 1, \"24\": 1}, \"74\": {\"74\": 15, \"22\": 1}, \"66\": {\"66\": 18, \"24\": 1, \"27\": 1}, \"28\": {\"28\": 20}, \"52\": {\"52\": 18, \"59\": 1, \"110\": 1}, \"41\": {\"41\": 18, \"15\": 1, \"110\": 1}, \"81\": {\"81\": 24}, \"48\": {\"48\": 20}, \"113\": {\"113\": 70, \"49\": 1, \"84\": 1}, \"53\": {\"53\": 16}, \"15\": {\"15\": 116, \"97\": 1, \"111\": 2, \"36\": 1}, \"30\": {\"30\": 109, \"24\": 1, \"107\": 1, \"36\": 1}, \"43\": {\"43\": 120, \"21\": 1, \"106\": 1, \"107\": 1, \"122\": 1}, \"29\": {\"29\": 32}, \"109\": {\"109\": 93, \"110\": 1, \"94\": 1, \"39\": 1, \"16\": 1, \"70\": 1, \"84\": 2}, \"60\": {\"60\": 23, \"122\": 1, \"21\": 1, \"87\": 1, \"27\": 1, \"23\": 1}, \"70\": {\"70\": 113, \"25\": 1, \"69\": 1, \"107\": 1, \"49\": 1, \"71\": 1, \"21\": 3, \"84\": 1}, \"127\": {\"127\": 121, \"111\": 2, \"16\": 1}, \"32\": {\"32\": 24, \"52\": 1, \"68\": 1, \"14\": 1, \"72\": 2, \"95\": 1, \"10\": 2, \"0\": 2, \"62\": 2}, \"73\": {\"73\": 27, \"88\": 1}, \"50\": {\"50\": 13, \"69\": 1, \"62\": 1, \"78\": 1}, \"1\": {\"1\": 119, \"105\": 1, \"12\": 1, \"87\": 1, \"36\": 1, \"26\": 1}, \"106\": {\"106\": 116, \"27\": 1, \"19\": 1, \"36\": 2}, \"123\": {\"123\": 16}, \"79\": {\"79\": 16}, \"4\": {\"4\": 84, \"94\": 1, \"112\": 1, \"62\": 1, \"40\": 1}, \"2\": {\"2\": 30, \"117\": 1, \"26\": 1}, \"8\": {\"8\": 124, \"69\": 2, \"12\": 1, \"84\": 1}, \"83\": {\"83\": 40}, \"105\": {\"105\": 129, \"23\": 1}, \"5\": {\"5\": 107, \"82\": 1, \"70\": 2, \"23\": 1, \"94\": 1}, \"99\": {\"99\": 32}, \"25\": {\"25\": 15, \"49\": 1}, \"59\": {\"59\": 16}, \"42\": {\"42\": 26, \"83\": 1, \"18\": 1}, \"55\": {\"55\": 16}, \"75\": {\"75\": 16}, \"118\": {\"118\": 66, \"39\": 1, \"36\": 1}, \"95\": {\"95\": 32, \"62\": 1, \"13\": 1, \"40\": 2}, \"122\": {\"122\": 116, \"24\": 1, \"12\": 1, \"70\": 1, \"5\": 1}, \"20\": {\"20\": 16}, \"110\": {\"110\": 34, \"34\": 1, \"35\": 1, \"21\": 1, \"89\": 1, \"14\": 1, \"36\": 1}, \"65\": {\"65\": 20}, \"37\": {\"79\": 1, \"37\": 14, \"104\": 1}, \"64\": {\"64\": 16}, \"63\": {\"63\": 19, \"118\": 1}, \"40\": {\"40\": 129, \"12\": 1, \"24\": 1, \"69\": 3, \"70\": 1, \"18\": 1, \"73\": 1, \"71\": 1, \"110\": 1, \"4\": 1}, \"21\": {\"21\": 43, \"70\": 2, \"82\": 1, \"62\": 1, \"78\": 1}, \"11\": {\"11\": 77, \"122\": 1, \"47\": 1, \"18\": 1}, \"67\": {\"67\": 16}, \"91\": {\"91\": 26, \"25\": 1, \"18\": 1}, \"87\": {\"87\": 104, \"70\": 1, \"102\": 2, \"24\": 1, \"107\": 1, \"39\": 1, \"36\": 1, \"94\": 1}, \"89\": {\"89\": 34, \"39\": 1, \"92\": 1}, \"9\": {\"9\": 32}, \"124\": {\"124\": 114}, \"56\": {\"56\": 10, \"12\": 1, \"30\": 1}, \"38\": {\"38\": 16}, \"94\": {\"94\": 57, \"102\": 1, \"113\": 1, \"26\": 1, \"12\": 1, \"39\": 2, \"36\": 1}, \"6\": {\"6\": 31, \"51\": 1}, \"58\": {\"58\": 19, \"42\": 1}, \"22\": {\"22\": 19, \"61\": 1}, \"24\": {\"24\": 101, \"118\": 1, \"107\": 1, \"36\": 2, \"71\": 1, \"69\": 4, \"98\": 1, \"109\": 1}, \"57\": {\"57\": 20}, \"112\": {\"112\": 10, \"53\": 1, \"111\": 1, \"49\": 1, \"24\": 2, \"94\": 1}, \"116\": {\"116\": 25, \"107\": 1, \"78\": 1, \"70\": 1}, \"18\": {\"18\": 118, \"1\": 1, \"117\": 1, \"94\": 1, \"69\": 1, \"24\": 3, \"70\": 1, \"39\": 2}, \"49\": {\"49\": 19, \"129\": 1, \"11\": 1, \"61\": 1, \"21\": 1, \"19\": 1}, \"45\": {\"45\": 16}, \"107\": {\"107\": 53, \"49\": 1, \"0\": 1, \"36\": 2, \"4\": 2, \"62\": 1, \"61\": 1, \"110\": 1, \"88\": 1, \"87\": 1}, \"35\": {\"35\": 12}, \"78\": {\"78\": 41, \"118\": 1, \"70\": 1, \"71\": 1, \"95\": 1, \"36\": 1, \"21\": 2}, \"126\": {\"126\": 120}, \"85\": {\"85\": 32}, \"72\": {\"72\": 27, \"36\": 1}, \"26\": {\"26\": 120, \"70\": 1, \"102\": 1, \"18\": 1, \"101\": 1}, \"84\": {\"84\": 89, \"118\": 1, \"87\": 1, \"106\": 1}, \"128\": {\"128\": 19, \"70\": 1, \"97\": 2, \"101\": 1, \"71\": 1}, \"31\": {\"31\": 20}, \"71\": {\"71\": 98, \"40\": 1, \"11\": 1}}, \"Wisig_1\": {\"22\": {\"22\": 16}, \"58\": {\"58\": 12}, \"109\": {\"109\": 122, \"126\": 1, \"44\": 1}, \"77\": {\"77\": 16}, \"74\": {\"74\": 16}, \"10\": {\"10\": 112, \"85\": 2, \"0\": 5, \"118\": 1}, \"70\": {\"70\": 125, \"12\": 1, \"72\": 1, \"62\": 1}, \"84\": {\"84\": 108}, \"52\": {\"52\": 20}, \"20\": {\"20\": 15, \"102\": 1}, \"14\": {\"14\": 95, \"27\": 1}, \"37\": {\"37\": 16}, \"42\": {\"42\": 25, \"109\": 1, \"2\": 1, \"91\": 1}, \"99\": {\"99\": 24}, \"35\": {\"35\": 12}, \"62\": {\"62\": 119, \"26\": 1}, \"61\": {\"61\": 12}, \"7\": {\"7\": 141, \"26\": 1}, \"69\": {\"69\": 99, \"26\": 2, \"27\": 1, \"118\": 1, \"36\": 1}, \"55\": {\"55\": 12}, \"41\": {\"41\": 16}, \"120\": {\"120\": 20}, \"123\": {\"123\": 16}, \"97\": {\"97\": 15, \"78\": 1, \"42\": 1, \"24\": 1, \"122\": 1, \"95\": 1}, \"102\": {\"102\": 119, \"16\": 1}, \"60\": {\"32\": 1, \"120\": 1, \"60\": 8, \"13\": 1, \"42\": 2, \"21\": 1, \"19\": 1, \"30\": 1}, \"127\": {\"127\": 104, \"4\": 1, \"122\": 2, \"78\": 1}, \"32\": {\"32\": 31, \"127\": 1}, \"3\": {\"3\": 82, \"7\": 1, \"4\": 1, \"94\": 2, \"75\": 1, \"0\": 1}, \"8\": {\"8\": 122}, \"129\": {\"129\": 25, \"2\": 1, \"39\": 1, \"123\": 1}, \"119\": {\"119\": 16}, \"21\": {\"21\": 36, \"70\": 1, \"78\": 1, \"23\": 1, \"83\": 1}, \"53\": {\"53\": 20}, \"28\": {\"28\": 20}, \"117\": {\"117\": 144}, \"112\": {\"112\": 16}, \"126\": {\"126\": 131, \"109\": 1, \"12\": 1, \"122\": 1}, \"30\": {\"30\": 52}, \"105\": {\"105\": 81, \"102\": 1, \"6\": 1, \"26\": 1}, \"29\": {\"29\": 28}, \"57\": {\"57\": 12}, \"93\": {\"93\": 139, \"87\": 1}, \"17\": {\"17\": 15, \"78\": 1}, \"44\": {\"44\": 76}, \"63\": {\"63\": 16}, \"87\": {\"87\": 106, \"69\": 1, \"108\": 1}, \"0\": {\"0\": 83, \"122\": 1}, \"96\": {\"96\": 19, \"91\": 1}, \"98\": {\"98\": 108}, \"75\": {\"75\": 16}, \"78\": {\"78\": 11, \"87\": 1, \"43\": 3, \"21\": 1}, \"116\": {\"116\": 30, \"21\": 1, \"94\": 1}, \"114\": {\"114\": 126, \"43\": 1, \"94\": 1}, \"103\": {\"103\": 15, \"9\": 1}, \"50\": {\"50\": 16}, \"124\": {\"124\": 128}, \"5\": {\"5\": 86, \"43\": 1, \"14\": 1}, \"73\": {\"73\": 19, \"93\": 1}, \"81\": {\"81\": 28}, \"49\": {\"49\": 15, \"70\": 3, \"30\": 1, \"5\": 1}, \"16\": {\"16\": 106, \"122\": 1, \"27\": 1}, \"101\": {\"101\": 124}, \"125\": {\"125\": 118}, \"65\": {\"66\": 1, \"65\": 5, \"45\": 2, \"3\": 1, \"74\": 2, \"115\": 1}, \"66\": {\"66\": 16}, \"79\": {\"79\": 12}, \"39\": {\"39\": 102, \"30\": 1, \"6\": 1}, \"104\": {\"104\": 16}, \"91\": {\"91\": 28}, \"25\": {\"25\": 16}, \"64\": {\"64\": 16}, \"34\": {\"60\": 2, \"34\": 23, \"83\": 2, \"70\": 1, \"6\": 2, \"125\": 1, \"122\": 1}, \"82\": {\"82\": 36}, \"18\": {\"18\": 124}, \"43\": {\"43\": 127, \"71\": 1}, \"47\": {\"47\": 12}, \"108\": {\"108\": 120, \"24\": 2, \"70\": 1, \"69\": 1}, \"111\": {\"111\": 107, \"93\": 1}, \"23\": {\"23\": 14, \"86\": 2, \"110\": 2, \"32\": 1, \"55\": 1, \"53\": 2, \"38\": 2}, \"90\": {\"90\": 157, \"122\": 1, \"124\": 1, \"102\": 1}, \"4\": {\"4\": 99, \"27\": 1}, \"92\": {\"92\": 28}, \"2\": {\"2\": 24, \"33\": 1, \"82\": 3, \"11\": 3, \"18\": 1}, \"45\": {\"2\": 1, \"45\": 6, \"104\": 1, \"42\": 1, \"102\": 1, \"21\": 1, \"124\": 1}, \"68\": {\"68\": 16}, \"26\": {\"26\": 128}, \"38\": {\"38\": 16}, \"40\": {\"40\": 141, \"105\": 1}, \"80\": {\"80\": 15, \"23\": 1}, \"107\": {\"107\": 118, \"65\": 1, \"102\": 1, \"39\": 1, \"87\": 1}, \"94\": {\"94\": 92}, \"115\": {\"115\": 12}, \"46\": {\"46\": 5, \"30\": 1, \"12\": 2, \"62\": 1, \"70\": 2, \"98\": 1}, \"72\": {\"72\": 32}, \"19\": {\"19\": 28}, \"100\": {\"100\": 14, \"65\": 1, \"24\": 1}, \"76\": {\"76\": 15, \"88\": 1}, \"106\": {\"106\": 132}, \"88\": {\"88\": 128, \"27\": 1, \"36\": 1}, \"15\": {\"15\": 97, \"71\": 1, \"12\": 2, \"111\": 3, \"122\": 1}, \"54\": {\"54\": 14, \"60\": 1, \"67\": 1}, \"13\": {\"13\": 16}, \"51\": {\"51\": 16}, \"24\": {\"24\": 91, \"34\": 1}, \"48\": {\"48\": 12}, \"85\": {\"85\": 32}, \"33\": {\"33\": 140}, \"71\": {\"71\": 104, \"126\": 2, \"117\": 1, \"6\": 1}, \"6\": {\"6\": 31, \"52\": 1}, \"83\": {\"83\": 26, \"69\": 1, \"118\": 1}, \"121\": {\"121\": 31, \"18\": 1}, \"31\": {\"31\": 15, \"122\": 1}, \"67\": {\"19\": 1, \"67\": 14, \"80\": 1}, \"1\": {\"1\": 135, \"18\": 1}, \"27\": {\"27\": 90, \"15\": 2}, \"118\": {\"118\": 82, \"87\": 1, \"103\": 1}, \"56\": {\"56\": 12}, \"36\": {\"36\": 127, \"43\": 1}, \"11\": {\"11\": 125, \"88\": 1}, \"110\": {\"110\": 120, \"26\": 1, \"18\": 1}, \"89\": {\"89\": 36}, \"113\": {\"113\": 112, \"43\": 1, \"40\": 2, \"69\": 1, \"87\": 1, \"102\": 1}, \"59\": {\"59\": 12}, \"9\": {\"9\": 31, \"26\": 1}, \"86\": {\"86\": 34, \"94\": 1, \"10\": 1}, \"12\": {\"12\": 101, \"109\": 1, \"24\": 1, \"43\": 1}, \"122\": {\"122\": 87, \"26\": 1}, \"128\": {\"128\": 21, \"70\": 2, \"83\": 1}, \"95\": {\"95\": 35, \"102\": 1}}, \"ORACLE.run114\": {\"15\": {\"15\": 62, \"2\": 7, \"4\": 28, \"7\": 34, \"5\": 15, \"13\": 22, \"14\": 9, \"10\": 5, \"6\": 19, \"1\": 14, \"8\": 1, \"3\": 10, \"0\": 10, \"11\": 2, \"9\": 2}, \"5\": {\"0\": 28, \"13\": 16, \"6\": 10, \"5\": 12, \"9\": 6, \"4\": 28, \"15\": 10, \"3\": 24, \"10\": 12, \"1\": 20, \"14\": 16, \"2\": 20, \"7\": 21, \"11\": 9, \"8\": 7, \"12\": 1}, \"7\": {\"15\": 24, \"9\": 5, \"4\": 27, \"7\": 46, \"6\": 6, \"0\": 9, \"1\": 20, \"13\": 15, \"5\": 17, \"8\": 14, \"10\": 13, \"3\": 12, \"2\": 14, \"11\": 7, \"14\": 10, \"12\": 1}, \"4\": {\"2\": 16, \"0\": 14, \"6\": 12, \"4\": 31, \"1\": 19, \"5\": 27, \"3\": 21, \"7\": 22, \"15\": 14, \"10\": 13, \"9\": 7, \"14\": 14, \"13\": 15, \"8\": 8, \"11\": 6, \"12\": 1}, \"10\": {\"11\": 27, \"5\": 20, \"2\": 28, \"10\": 26, \"3\": 25, \"9\": 6, \"13\": 12, \"6\": 14, \"1\": 12, \"15\": 8, \"7\": 5, \"14\": 9, \"0\": 22, \"12\": 2, \"4\": 22, \"8\": 2}, \"11\": {\"11\": 41, \"0\": 27, \"6\": 10, \"9\": 23, \"3\": 19, \"14\": 20, \"12\": 15, \"1\": 8, \"2\": 13, \"10\": 18, \"5\": 15, \"13\": 9, \"8\": 10, \"4\": 7, \"15\": 1, \"7\": 4}, \"12\": {\"12\": 75, \"0\": 10, \"9\": 63, \"8\": 36, \"4\": 3, \"11\": 29, \"5\": 3, \"3\": 6, \"14\": 2, \"10\": 8, \"2\": 1, \"1\": 4}, \"0\": {\"0\": 22, \"2\": 19, \"13\": 12, \"14\": 13, \"8\": 9, \"11\": 24, \"3\": 19, \"6\": 5, \"15\": 4, \"4\": 21, \"10\": 17, \"9\": 20, \"5\": 19, \"7\": 6, \"12\": 9, \"1\": 21}, \"14\": {\"10\": 19, \"14\": 30, \"13\": 20, \"4\": 14, \"2\": 34, \"1\": 9, \"5\": 17, \"11\": 24, \"0\": 19, \"3\": 14, \"6\": 22, \"7\": 12, \"9\": 2, \"15\": 4}, \"8\": {\"8\": 67, \"0\": 7, \"11\": 19, \"4\": 12, \"9\": 42, \"3\": 12, \"12\": 27, \"1\": 16, \"15\": 7, \"13\": 2, \"7\": 10, \"2\": 6, \"5\": 9, \"14\": 1, \"10\": 2, \"6\": 1}, \"13\": {\"6\": 32, \"3\": 15, \"13\": 44, \"2\": 25, \"5\": 12, \"4\": 24, \"14\": 27, \"7\": 11, \"10\": 17, \"0\": 10, \"11\": 9, \"1\": 4, \"15\": 9, \"12\": 1}, \"6\": {\"6\": 33, \"0\": 11, \"10\": 19, \"13\": 37, \"4\": 14, \"3\": 18, \"14\": 26, \"7\": 10, \"2\": 22, \"1\": 4, \"11\": 11, \"5\": 16, \"15\": 17, \"9\": 2}, \"1\": {\"1\": 19, \"0\": 15, \"3\": 25, \"9\": 12, \"14\": 13, \"15\": 14, \"4\": 27, \"2\": 13, \"8\": 7, \"10\": 16, \"5\": 23, \"11\": 17, \"6\": 7, \"7\": 24, \"13\": 4, \"12\": 4}, \"3\": {\"0\": 22, \"9\": 10, \"15\": 7, \"11\": 24, \"7\": 8, \"2\": 17, \"4\": 16, \"1\": 14, \"10\": 26, \"6\": 15, \"14\": 19, \"5\": 21, \"13\": 17, \"3\": 19, \"8\": 5}, \"9\": {\"0\": 31, \"11\": 25, \"9\": 53, \"8\": 36, \"4\": 8, \"7\": 4, \"12\": 45, \"3\": 6, \"10\": 7, \"1\": 8, \"5\": 7, \"14\": 3, \"2\": 5, \"6\": 1, \"13\": 1}, \"2\": {\"10\": 17, \"13\": 24, \"6\": 21, \"1\": 16, \"2\": 21, \"11\": 15, \"14\": 35, \"7\": 9, \"0\": 23, \"5\": 18, \"15\": 10, \"3\": 16, \"4\": 13, \"12\": 1, \"9\": 1}}, \"ORACLE.run120\": {\"4\": {\"13\": 5, \"14\": 18, \"8\": 22, \"3\": 9, \"6\": 15, \"11\": 7, \"12\": 21, \"9\": 11, \"1\": 9, \"5\": 21, \"4\": 20, \"15\": 10, \"2\": 12, \"0\": 13, \"7\": 20, \"10\": 27}, \"10\": {\"6\": 21, \"7\": 22, \"12\": 10, \"0\": 7, \"14\": 21, \"9\": 15, \"8\": 25, \"2\": 11, \"10\": 33, \"3\": 16, \"11\": 2, \"1\": 10, \"4\": 29, \"13\": 6, \"15\": 6, \"5\": 6}, \"15\": {\"5\": 25, \"7\": 14, \"11\": 15, \"3\": 14, \"0\": 24, \"2\": 18, \"8\": 10, \"9\": 25, \"13\": 13, \"1\": 14, \"12\": 11, \"4\": 10, \"10\": 8, \"15\": 23, \"6\": 9, \"14\": 7}, \"0\": {\"5\": 17, \"12\": 14, \"11\": 12, \"0\": 27, \"7\": 15, \"6\": 9, \"8\": 15, \"1\": 16, \"10\": 9, \"13\": 28, \"4\": 9, \"3\": 14, \"9\": 14, \"15\": 18, \"2\": 19, \"14\": 4}, \"6\": {\"13\": 13, \"4\": 28, \"1\": 7, \"5\": 15, \"0\": 11, \"11\": 7, \"9\": 12, \"12\": 14, \"15\": 5, \"10\": 20, \"2\": 17, \"14\": 19, \"7\": 23, \"6\": 15, \"8\": 22, \"3\": 12}, \"3\": {\"13\": 14, \"12\": 22, \"4\": 17, \"3\": 16, \"6\": 13, \"2\": 25, \"11\": 10, \"0\": 17, \"7\": 14, \"10\": 18, \"1\": 19, \"8\": 12, \"5\": 12, \"15\": 9, \"14\": 9, \"9\": 13}, \"7\": {\"8\": 17, \"4\": 20, \"3\": 23, \"10\": 13, \"9\": 18, \"13\": 10, \"15\": 19, \"2\": 18, \"0\": 13, \"5\": 15, \"1\": 14, \"11\": 10, \"6\": 13, \"7\": 11, \"14\": 15, \"12\": 11}, \"2\": {\"4\": 12, \"12\": 22, \"9\": 20, \"0\": 14, \"10\": 11, \"11\": 18, \"2\": 14, \"7\": 19, \"15\": 18, \"13\": 18, \"8\": 10, \"6\": 9, \"5\": 18, \"1\": 12, \"3\": 13, \"14\": 12}, \"8\": {\"5\": 21, \"4\": 13, \"11\": 12, \"0\": 14, \"13\": 6, \"12\": 20, \"8\": 18, \"6\": 20, \"10\": 16, \"15\": 15, \"9\": 13, \"3\": 19, \"7\": 18, \"1\": 10, \"14\": 16, \"2\": 9}, \"11\": {\"6\": 11, \"1\": 18, \"11\": 34, \"3\": 10, \"13\": 23, \"8\": 7, \"5\": 13, \"12\": 16, \"2\": 16, \"7\": 18, \"4\": 9, \"0\": 21, \"9\": 19, \"15\": 17, \"10\": 6, \"14\": 2}, \"14\": {\"4\": 27, \"7\": 14, \"10\": 34, \"8\": 25, \"9\": 12, \"11\": 9, \"2\": 15, \"5\": 12, \"15\": 12, \"12\": 10, \"6\": 17, \"3\": 13, \"0\": 10, \"1\": 7, \"14\": 21, \"13\": 2}, \"12\": {\"6\": 14, \"12\": 11, \"11\": 8, \"8\": 11, \"3\": 25, \"7\": 16, \"13\": 18, \"2\": 21, \"9\": 12, \"0\": 15, \"14\": 8, \"1\": 16, \"15\": 20, \"5\": 20, \"10\": 13, \"4\": 12}, \"13\": {\"0\": 19, \"5\": 19, \"11\": 23, \"3\": 22, \"8\": 15, \"2\": 17, \"13\": 19, \"1\": 17, \"12\": 22, \"9\": 20, \"7\": 19, \"6\": 3, \"15\": 14, \"4\": 6, \"14\": 4, \"10\": 1}, \"9\": {\"12\": 14, \"7\": 24, \"11\": 12, \"6\": 12, \"3\": 24, \"9\": 20, \"1\": 13, \"2\": 16, \"0\": 22, \"15\": 11, \"8\": 10, \"5\": 13, \"13\": 18, \"4\": 18, \"14\": 5, \"10\": 8}, \"5\": {\"6\": 7, \"4\": 13, \"10\": 10, \"3\": 21, \"0\": 25, \"7\": 16, \"11\": 12, \"13\": 22, \"15\": 16, \"8\": 16, \"2\": 10, \"9\": 16, \"12\": 17, \"1\": 17, \"5\": 13, \"14\": 9}, \"1\": {\"5\": 22, \"13\": 16, \"11\": 6, \"3\": 18, \"12\": 20, \"0\": 20, \"15\": 18, \"1\": 15, \"4\": 16, \"2\": 13, \"7\": 25, \"9\": 19, \"6\": 13, \"8\": 12, \"14\": 3, \"10\": 4}}, \"ORACLE.run150\": {\"5\": {\"15\": 25, \"1\": 17, \"7\": 32, \"3\": 7, \"4\": 24, \"5\": 30, \"10\": 9, \"13\": 38, \"6\": 21, \"11\": 12, \"12\": 4, \"9\": 10, \"2\": 1, \"8\": 3, \"14\": 4, \"0\": 3}, \"12\": {\"4\": 4, \"15\": 11, \"13\": 5, \"10\": 10, \"6\": 5, \"2\": 24, \"11\": 30, \"9\": 23, \"12\": 53, \"14\": 35, \"1\": 9, \"0\": 20, \"8\": 5, \"7\": 3, \"5\": 3}, \"14\": {\"0\": 24, \"9\": 17, \"6\": 7, \"12\": 39, \"1\": 14, \"10\": 11, \"14\": 42, \"2\": 31, \"11\": 20, \"8\": 6, \"13\": 7, \"5\": 3, \"4\": 9, \"15\": 7, \"7\": 3}, \"4\": {\"11\": 14, \"13\": 20, \"5\": 26, \"14\": 13, \"15\": 36, \"4\": 31, \"12\": 5, \"7\": 23, \"9\": 13, \"1\": 26, \"6\": 19, \"10\": 10, \"0\": 2, \"3\": 1, \"8\": 1}, \"13\": {\"7\": 27, \"15\": 23, \"9\": 8, \"3\": 8, \"6\": 21, \"14\": 8, \"13\": 31, \"1\": 16, \"10\": 21, \"0\": 15, \"5\": 24, \"11\": 12, \"2\": 2, \"12\": 1, \"4\": 19, \"8\": 4}, \"10\": {\"15\": 5, \"0\": 28, \"10\": 39, \"7\": 21, \"8\": 32, \"11\": 3, \"13\": 15, \"14\": 5, \"2\": 32, \"6\": 11, \"4\": 6, \"3\": 19, \"5\": 11, \"1\": 10, \"9\": 1, \"12\": 2}, \"9\": {\"11\": 32, \"12\": 34, \"9\": 37, \"15\": 18, \"4\": 18, \"14\": 25, \"1\": 28, \"10\": 4, \"13\": 6, \"0\": 3, \"6\": 12, \"7\": 7, \"5\": 12, \"2\": 3, \"8\": 1}, \"15\": {\"7\": 21, \"15\": 41, \"5\": 22, \"9\": 14, \"1\": 26, \"13\": 32, \"4\": 21, \"12\": 4, \"6\": 27, \"11\": 23, \"14\": 2, \"0\": 2, \"10\": 5}, \"6\": {\"5\": 15, \"15\": 31, \"13\": 35, \"6\": 31, \"4\": 19, \"7\": 21, \"2\": 7, \"11\": 15, \"0\": 7, \"10\": 12, \"9\": 11, \"14\": 14, \"1\": 11, \"3\": 4, \"12\": 4, \"8\": 3}, \"2\": {\"10\": 23, \"0\": 56, \"5\": 4, \"14\": 26, \"8\": 26, \"2\": 49, \"9\": 9, \"15\": 5, \"12\": 11, \"3\": 8, \"13\": 3, \"6\": 2, \"11\": 5, \"1\": 5, \"4\": 2, \"7\": 6}, \"0\": {\"10\": 32, \"14\": 26, \"2\": 46, \"0\": 45, \"9\": 4, \"12\": 15, \"1\": 6, \"8\": 32, \"11\": 7, \"3\": 8, \"4\": 2, \"13\": 6, \"7\": 4, \"6\": 3, \"15\": 3, \"5\": 1}, \"11\": {\"14\": 13, \"15\": 29, \"9\": 28, \"13\": 23, \"12\": 20, \"1\": 25, \"4\": 19, \"5\": 7, \"11\": 38, \"2\": 6, \"10\": 5, \"6\": 18, \"0\": 3, \"8\": 3, \"7\": 3}, \"3\": {\"10\": 36, \"3\": 83, \"7\": 15, \"0\": 16, \"8\": 54, \"2\": 10, \"5\": 7, \"13\": 13, \"1\": 2, \"6\": 2, \"4\": 1, \"15\": 1}, \"8\": {\"0\": 32, \"10\": 39, \"2\": 26, \"8\": 65, \"3\": 42, \"5\": 3, \"6\": 7, \"1\": 3, \"13\": 7, \"7\": 12, \"4\": 1, \"12\": 1, \"15\": 1, \"14\": 1}, \"7\": {\"15\": 19, \"1\": 16, \"4\": 14, \"7\": 45, \"0\": 10, \"13\": 22, \"3\": 13, \"11\": 12, \"5\": 35, \"10\": 27, \"6\": 16, \"2\": 3, \"8\": 5, \"14\": 3}, \"1\": {\"1\": 25, \"15\": 26, \"9\": 11, \"4\": 15, \"5\": 18, \"11\": 25, \"6\": 34, \"13\": 27, \"12\": 7, \"10\": 11, \"7\": 17, \"2\": 2, \"14\": 12, \"8\": 1, \"0\": 6, \"3\": 3}}, \"ORACLE.run126\": {\"7\": {\"3\": 16, \"10\": 28, \"6\": 16, \"5\": 12, \"1\": 14, \"15\": 15, \"7\": 19, \"4\": 14, \"9\": 16, \"2\": 17, \"0\": 21, \"14\": 31, \"8\": 12, \"13\": 4, \"12\": 4, \"11\": 1}, \"6\": {\"3\": 14, \"10\": 19, \"14\": 10, \"15\": 25, \"4\": 12, \"1\": 13, \"8\": 18, \"13\": 13, \"0\": 19, \"12\": 13, \"9\": 20, \"2\": 16, \"6\": 24, \"5\": 12, \"7\": 10, \"11\": 2}, \"14\": {\"1\": 22, \"4\": 22, \"2\": 12, \"5\": 9, \"15\": 8, \"7\": 17, \"12\": 7, \"3\": 17, \"0\": 28, \"10\": 27, \"8\": 26, \"6\": 10, \"14\": 17, \"9\": 15, \"13\": 3}, \"15\": {\"11\": 5, \"8\": 18, \"3\": 24, \"15\": 24, \"14\": 9, \"12\": 12, \"1\": 11, \"4\": 12, \"7\": 10, \"0\": 11, \"9\": 18, \"5\": 13, \"6\": 23, \"2\": 19, \"13\": 18, \"10\": 13}, \"5\": {\"8\": 9, \"15\": 19, \"5\": 18, \"13\": 22, \"7\": 16, \"2\": 21, \"6\": 19, \"12\": 22, \"10\": 7, \"9\": 25, \"3\": 19, \"14\": 7, \"11\": 11, \"0\": 13, \"1\": 7, \"4\": 5}, \"10\": {\"15\": 11, \"10\": 26, \"5\": 7, \"2\": 17, \"12\": 14, \"6\": 19, \"9\": 8, \"8\": 21, \"7\": 15, \"0\": 19, \"3\": 20, \"4\": 13, \"14\": 28, \"1\": 20, \"13\": 2}, \"4\": {\"10\": 22, \"1\": 30, \"3\": 22, \"7\": 15, \"14\": 30, \"8\": 16, \"9\": 14, \"15\": 9, \"0\": 13, \"2\": 20, \"6\": 14, \"4\": 20, \"12\": 7, \"13\": 4, \"5\": 4}, \"11\": {\"12\": 39, \"11\": 101, \"13\": 32, \"7\": 2, \"2\": 5, \"9\": 19, \"15\": 10, \"5\": 16, \"6\": 8, \"3\": 1, \"8\": 2, \"10\": 1, \"4\": 1, \"1\": 2, \"0\": 1}, \"13\": {\"13\": 35, \"8\": 11, \"15\": 16, \"4\": 9, \"9\": 20, \"6\": 18, \"10\": 10, \"3\": 17, \"0\": 9, \"7\": 13, \"5\": 30, \"12\": 10, \"11\": 14, \"14\": 7, \"1\": 5, \"2\": 16}, \"2\": {\"11\": 5, \"13\": 8, \"12\": 5, \"5\": 19, \"2\": 25, \"14\": 16, \"8\": 21, \"3\": 23, \"9\": 18, \"15\": 14, \"0\": 15, \"7\": 16, \"1\": 15, \"10\": 13, \"4\": 17, \"6\": 10}, \"0\": {\"4\": 21, \"14\": 29, \"0\": 22, \"10\": 23, \"6\": 18, \"9\": 11, \"2\": 17, \"8\": 16, \"5\": 4, \"1\": 19, \"12\": 11, \"7\": 18, \"3\": 15, \"13\": 4, \"15\": 11, \"11\": 1}, \"12\": {\"12\": 43, \"6\": 25, \"5\": 18, \"15\": 18, \"7\": 6, \"10\": 12, \"8\": 15, \"4\": 8, \"2\": 8, \"11\": 15, \"9\": 15, \"3\": 7, \"13\": 21, \"0\": 13, \"14\": 11, \"1\": 5}, \"3\": {\"3\": 21, \"15\": 14, \"9\": 19, \"2\": 29, \"6\": 13, \"7\": 22, \"14\": 22, \"1\": 17, \"5\": 13, \"4\": 13, \"8\": 19, \"0\": 15, \"12\": 3, \"10\": 14, \"13\": 6}, \"9\": {\"10\": 13, \"15\": 18, \"1\": 7, \"4\": 14, \"14\": 8, \"0\": 15, \"8\": 17, \"13\": 12, \"11\": 6, \"9\": 23, \"2\": 20, \"7\": 20, \"6\": 14, \"3\": 18, \"5\": 22, \"12\": 13}, \"8\": {\"3\": 16, \"12\": 10, \"4\": 22, \"10\": 18, \"2\": 13, \"8\": 23, \"5\": 12, \"13\": 5, \"9\": 13, \"15\": 19, \"0\": 21, \"14\": 21, \"6\": 17, \"1\": 14, \"7\": 16}, \"1\": {\"0\": 19, \"4\": 18, \"1\": 40, \"6\": 10, \"3\": 21, \"15\": 8, \"8\": 13, \"10\": 26, \"12\": 2, \"2\": 23, \"9\": 12, \"7\": 21, \"14\": 21, \"13\": 3, \"5\": 3}}, \"ORACLE.run132\": {\"7\": {\"4\": 28, \"11\": 22, \"7\": 29, \"0\": 28, \"14\": 22, \"2\": 23, \"8\": 18, \"12\": 9, \"13\": 22, \"9\": 11, \"5\": 26, \"3\": 2}, \"2\": {\"11\": 17, \"9\": 31, \"3\": 11, \"8\": 6, \"12\": 10, \"13\": 18, \"4\": 26, \"0\": 20, \"5\": 19, \"2\": 33, \"7\": 23, \"10\": 1, \"14\": 22, \"6\": 3}, \"5\": {\"15\": 1, \"0\": 26, \"12\": 4, \"13\": 25, \"8\": 19, \"9\": 13, \"7\": 22, \"11\": 18, \"5\": 28, \"4\": 26, \"2\": 18, \"3\": 19, \"14\": 21}, \"6\": {\"6\": 111, \"1\": 55, \"12\": 22, \"9\": 21, \"2\": 3, \"10\": 26, \"4\": 2}, \"13\": {\"5\": 22, \"3\": 27, \"7\": 18, \"0\": 24, \"4\": 25, \"8\": 29, \"2\": 21, \"13\": 28, \"9\": 5, \"15\": 8, \"11\": 18, \"14\": 13, \"12\": 2}, \"4\": {\"3\": 18, \"4\": 42, \"5\": 29, \"11\": 11, \"0\": 20, \"8\": 11, \"2\": 26, \"7\": 20, \"14\": 19, \"13\": 24, \"9\": 16, \"12\": 4}, \"3\": {\"14\": 23, \"8\": 34, \"13\": 34, \"4\": 13, \"0\": 22, \"11\": 18, \"3\": 38, \"2\": 4, \"5\": 26, \"7\": 17, \"15\": 11}, \"0\": {\"4\": 24, \"12\": 6, \"14\": 23, \"11\": 25, \"2\": 31, \"5\": 17, \"9\": 10, \"7\": 18, \"13\": 25, \"3\": 13, \"8\": 18, \"0\": 26, \"10\": 2, \"15\": 2}, \"9\": {\"9\": 71, \"2\": 25, \"12\": 46, \"13\": 6, \"7\": 11, \"4\": 22, \"0\": 11, \"8\": 6, \"10\": 15, \"6\": 9, \"5\": 5, \"14\": 7, \"11\": 3, \"3\": 1, \"1\": 2}, \"12\": {\"12\": 83, \"13\": 5, \"10\": 43, \"9\": 47, \"5\": 3, \"6\": 16, \"7\": 3, \"3\": 4, \"1\": 10, \"4\": 5, \"8\": 3, \"2\": 16, \"11\": 1, \"0\": 1}, \"8\": {\"13\": 29, \"8\": 29, \"3\": 32, \"14\": 19, \"2\": 12, \"11\": 14, \"7\": 14, \"15\": 12, \"0\": 23, \"5\": 27, \"4\": 24, \"12\": 3, \"9\": 2}, \"14\": {\"14\": 33, \"9\": 12, \"8\": 21, \"5\": 22, \"0\": 24, \"11\": 28, \"2\": 20, \"7\": 28, \"13\": 15, \"4\": 15, \"3\": 17, \"15\": 1, \"12\": 4}, \"15\": {\"8\": 30, \"5\": 5, \"15\": 152, \"13\": 11, \"3\": 31, \"11\": 3, \"4\": 2, \"0\": 3, \"7\": 2, \"10\": 1}, \"11\": {\"11\": 45, \"4\": 27, \"12\": 1, \"8\": 20, \"0\": 14, \"14\": 32, \"3\": 22, \"7\": 27, \"2\": 21, \"13\": 8, \"9\": 5, \"5\": 18}, \"10\": {\"1\": 63, \"10\": 105, \"6\": 17, \"12\": 41, \"9\": 12, \"2\": 2}, \"1\": {\"6\": 37, \"1\": 126, \"10\": 62, \"12\": 12, \"9\": 3}}, \"ORACLE.run144\": {\"11\": {\"11\": 86, \"7\": 22, \"13\": 39, \"6\": 35, \"10\": 17, \"14\": 1, \"4\": 7, \"2\": 8, \"9\": 18, \"12\": 5, \"1\": 2}, \"7\": {\"13\": 30, \"9\": 32, \"2\": 29, \"10\": 25, \"12\": 19, \"4\": 9, \"3\": 13, \"7\": 37, \"1\": 21, \"6\": 17, \"11\": 6, \"5\": 2}, \"6\": {\"7\": 37, \"6\": 49, \"1\": 9, \"5\": 5, \"11\": 39, \"10\": 16, \"13\": 38, \"2\": 16, \"9\": 17, \"3\": 2, \"12\": 3, \"4\": 7, \"14\": 2}, \"12\": {\"2\": 29, \"7\": 17, \"10\": 29, \"12\": 48, \"15\": 2, \"1\": 41, \"3\": 30, \"4\": 6, \"13\": 9, \"9\": 21, \"14\": 2, \"6\": 3, \"0\": 1, \"11\": 1, \"5\": 1}, \"4\": {\"4\": 44, \"14\": 34, \"0\": 8, \"2\": 4, \"6\": 7, \"12\": 5, \"15\": 24, \"7\": 11, \"13\": 12, \"9\": 17, \"5\": 31, \"1\": 18, \"3\": 16, \"8\": 6, \"10\": 3}, \"13\": {\"2\": 27, \"7\": 32, \"10\": 14, \"6\": 33, \"11\": 35, \"9\": 21, \"4\": 9, \"5\": 2, \"13\": 38, \"1\": 12, \"14\": 8, \"12\": 7, \"3\": 2}, \"8\": {\"8\": 85, \"0\": 63, \"14\": 13, \"15\": 45, \"5\": 30, \"4\": 4}, \"5\": {\"15\": 38, \"4\": 30, \"10\": 2, \"5\": 54, \"0\": 32, \"8\": 31, \"14\": 30, \"13\": 6, \"9\": 4, \"3\": 5, \"1\": 3, \"12\": 1, \"2\": 3, \"11\": 1}, \"14\": {\"0\": 15, \"5\": 36, \"3\": 20, \"14\": 47, \"15\": 27, \"10\": 6, \"9\": 10, \"4\": 38, \"8\": 9, \"1\": 5, \"13\": 12, \"12\": 6, \"2\": 5, \"6\": 1, \"11\": 1, \"7\": 2}, \"3\": {\"2\": 17, \"3\": 44, \"1\": 36, \"12\": 36, \"10\": 25, \"9\": 16, \"7\": 10, \"13\": 10, \"5\": 5, \"4\": 10, \"6\": 2, \"14\": 13, \"15\": 11, \"0\": 2, \"8\": 3}, \"10\": {\"12\": 45, \"7\": 29, \"10\": 48, \"9\": 18, \"1\": 24, \"2\": 30, \"13\": 16, \"4\": 4, \"6\": 8, \"3\": 10, \"14\": 2, \"11\": 5, \"5\": 1}, \"1\": {\"2\": 17, \"7\": 27, \"3\": 37, \"12\": 33, \"10\": 33, \"9\": 14, \"1\": 45, \"15\": 4, \"14\": 6, \"4\": 6, \"11\": 2, \"0\": 2, \"13\": 10, \"6\": 2, \"5\": 2}, \"2\": {\"6\": 21, \"7\": 25, \"13\": 24, \"1\": 22, \"2\": 37, \"12\": 17, \"10\": 37, \"9\": 24, \"3\": 9, \"14\": 7, \"11\": 10, \"4\": 6, \"15\": 1}, \"15\": {\"0\": 41, \"8\": 40, \"15\": 51, \"14\": 33, \"3\": 6, \"4\": 24, \"13\": 2, \"5\": 29, \"9\": 5, \"12\": 3, \"1\": 3, \"6\": 2, \"7\": 1}, \"9\": {\"14\": 15, \"12\": 13, \"10\": 17, \"9\": 42, \"2\": 26, \"3\": 11, \"11\": 11, \"1\": 19, \"6\": 23, \"4\": 12, \"13\": 23, \"7\": 22, \"5\": 6}, \"0\": {\"0\": 54, \"14\": 28, \"8\": 52, \"15\": 48, \"4\": 13, \"5\": 39, \"9\": 1, \"1\": 2, \"12\": 1, \"3\": 2}}, \"ORACLE.run18\": {\"10\": {\"13\": 20, \"3\": 15, \"8\": 10, \"6\": 28, \"14\": 21, \"15\": 7, \"7\": 23, \"10\": 20, \"0\": 18, \"4\": 18, \"1\": 13, \"5\": 26, \"2\": 8, \"11\": 7, \"9\": 2, \"12\": 4}, \"6\": {\"1\": 11, \"4\": 21, \"0\": 22, \"2\": 14, \"7\": 12, \"6\": 30, \"13\": 20, \"15\": 14, \"8\": 19, \"11\": 10, \"14\": 14, \"5\": 16, \"12\": 9, \"3\": 14, \"10\": 14}, \"13\": {\"5\": 20, \"7\": 22, \"14\": 20, \"15\": 13, \"0\": 24, \"2\": 7, \"4\": 19, \"1\": 14, \"11\": 13, \"6\": 22, \"13\": 24, \"8\": 7, \"3\": 11, \"12\": 2, \"10\": 19, \"9\": 3}, \"3\": {\"3\": 32, \"10\": 6, \"12\": 29, \"4\": 14, \"8\": 24, \"6\": 19, \"15\": 23, \"2\": 28, \"5\": 4, \"11\": 8, \"0\": 9, \"1\": 8, \"7\": 14, \"13\": 11, \"14\": 11}, \"9\": {\"9\": 165, \"0\": 17, \"5\": 18, \"4\": 8, \"10\": 12, \"6\": 2, \"13\": 14, \"14\": 2, \"3\": 1, \"7\": 1}, \"1\": {\"3\": 9, \"7\": 22, \"8\": 25, \"11\": 28, \"4\": 15, \"1\": 21, \"5\": 25, \"15\": 23, \"13\": 12, \"6\": 13, \"2\": 8, \"12\": 7, \"0\": 9, \"14\": 10, \"10\": 13}, \"5\": {\"5\": 36, \"7\": 22, \"10\": 25, \"13\": 22, \"6\": 13, \"8\": 12, \"4\": 23, \"14\": 18, \"0\": 15, \"1\": 19, \"12\": 5, \"3\": 3, \"11\": 15, \"2\": 4, \"15\": 8}, \"11\": {\"7\": 12, \"14\": 18, \"1\": 26, \"5\": 16, \"2\": 8, \"15\": 20, \"8\": 35, \"6\": 14, \"11\": 23, \"10\": 10, \"3\": 15, \"13\": 10, \"12\": 10, \"0\": 12, \"4\": 11}, \"4\": {\"4\": 20, \"8\": 14, \"1\": 18, \"14\": 19, \"6\": 26, \"5\": 21, \"12\": 14, \"13\": 15, \"2\": 13, \"0\": 13, \"7\": 22, \"10\": 22, \"15\": 6, \"11\": 12, \"3\": 4, \"9\": 1}, \"14\": {\"11\": 13, \"2\": 12, \"6\": 27, \"1\": 22, \"14\": 24, \"13\": 17, \"15\": 10, \"10\": 22, \"5\": 18, \"7\": 17, \"12\": 6, \"0\": 11, \"4\": 20, \"8\": 10, \"3\": 10, \"9\": 1}, \"12\": {\"11\": 18, \"12\": 32, \"8\": 43, \"5\": 8, \"2\": 10, \"15\": 30, \"6\": 17, \"3\": 19, \"4\": 13, \"7\": 8, \"0\": 7, \"14\": 7, \"13\": 8, \"1\": 13, \"10\": 7}, \"7\": {\"5\": 23, \"7\": 16, \"4\": 17, \"15\": 13, \"2\": 21, \"14\": 18, \"13\": 18, \"6\": 15, \"8\": 13, \"0\": 12, \"10\": 21, \"1\": 9, \"12\": 12, \"11\": 21, \"3\": 9, \"9\": 2}, \"0\": {\"1\": 7, \"14\": 16, \"2\": 17, \"0\": 21, \"13\": 33, \"10\": 21, \"4\": 24, \"5\": 22, \"3\": 14, \"6\": 24, \"11\": 5, \"7\": 22, \"8\": 1, \"12\": 6, \"9\": 4, \"15\": 3}, \"15\": {\"10\": 10, \"7\": 17, \"0\": 4, \"6\": 15, \"15\": 19, \"4\": 12, \"11\": 17, \"2\": 17, \"5\": 7, \"12\": 26, \"3\": 15, \"8\": 38, \"1\": 18, \"14\": 17, \"13\": 8}, \"2\": {\"5\": 11, \"1\": 8, \"0\": 18, \"15\": 11, \"3\": 28, \"4\": 15, \"8\": 20, \"2\": 27, \"12\": 18, \"7\": 20, \"6\": 19, \"14\": 12, \"13\": 15, \"10\": 13, \"11\": 5}, \"8\": {\"14\": 10, \"7\": 10, \"6\": 19, \"5\": 12, \"15\": 22, \"1\": 21, \"4\": 13, \"2\": 10, \"12\": 29, \"11\": 25, \"3\": 14, \"13\": 12, \"8\": 28, \"10\": 9, \"0\": 6}}, \"ORACLE.run138\": {\"4\": {\"12\": 57, \"7\": 7, \"4\": 132, \"10\": 7, \"11\": 19, \"14\": 10, \"8\": 4, \"0\": 3, \"5\": 1}, \"7\": {\"10\": 25, \"8\": 33, \"3\": 18, \"12\": 10, \"7\": 47, \"0\": 27, \"5\": 22, \"14\": 8, \"13\": 13, \"9\": 9, \"4\": 5, \"6\": 3, \"11\": 2, \"15\": 11, \"1\": 3, \"2\": 4}, \"12\": {\"7\": 6, \"11\": 23, \"14\": 34, \"12\": 98, \"8\": 8, \"10\": 23, \"4\": 31, \"0\": 11, \"2\": 1, \"5\": 2, \"15\": 1, \"3\": 1, \"13\": 1}, \"10\": {\"15\": 21, \"14\": 35, \"5\": 20, \"11\": 15, \"2\": 16, \"3\": 10, \"10\": 26, \"9\": 4, \"6\": 3, \"7\": 18, \"8\": 23, \"0\": 17, \"12\": 16, \"1\": 3, \"13\": 11, \"4\": 2}, \"0\": {\"1\": 8, \"5\": 29, \"8\": 35, \"9\": 6, \"12\": 5, \"10\": 31, \"7\": 33, \"14\": 7, \"0\": 20, \"6\": 8, \"15\": 16, \"3\": 15, \"13\": 15, \"11\": 3, \"2\": 6, \"4\": 3}, \"1\": {\"2\": 25, \"1\": 63, \"15\": 36, \"6\": 26, \"5\": 17, \"0\": 11, \"8\": 16, \"13\": 25, \"9\": 9, \"10\": 4, \"14\": 1, \"7\": 2, \"3\": 4, \"11\": 1}, \"5\": {\"7\": 21, \"13\": 21, \"10\": 19, \"3\": 14, \"5\": 31, \"8\": 26, \"9\": 21, \"2\": 15, \"6\": 14, \"15\": 22, \"0\": 20, \"1\": 13, \"14\": 2, \"11\": 1}, \"15\": {\"1\": 30, \"3\": 9, \"13\": 27, \"5\": 29, \"2\": 23, \"10\": 16, \"15\": 34, \"6\": 17, \"8\": 17, \"9\": 9, \"0\": 12, \"14\": 10, \"7\": 5, \"11\": 1, \"12\": 1}, \"9\": {\"9\": 39, \"13\": 15, \"3\": 30, \"15\": 15, \"0\": 20, \"6\": 36, \"5\": 29, \"8\": 18, \"7\": 6, \"2\": 5, \"1\": 23, \"10\": 4}, \"11\": {\"14\": 56, \"10\": 25, \"12\": 38, \"4\": 19, \"8\": 4, \"11\": 68, \"13\": 7, \"0\": 3, \"2\": 9, \"7\": 6, \"5\": 2, \"1\": 1, \"15\": 2}, \"14\": {\"3\": 3, \"10\": 29, \"8\": 12, \"2\": 33, \"14\": 53, \"13\": 14, \"11\": 38, \"0\": 7, \"15\": 6, \"12\": 26, \"5\": 4, \"4\": 6, \"6\": 2, \"7\": 7}, \"6\": {\"13\": 32, \"9\": 31, \"6\": 47, \"7\": 7, \"2\": 5, \"1\": 34, \"5\": 21, \"15\": 15, \"3\": 13, \"10\": 3, \"8\": 21, \"0\": 11}, \"8\": {\"7\": 31, \"14\": 5, \"3\": 16, \"8\": 39, \"15\": 17, \"1\": 9, \"13\": 10, \"0\": 24, \"10\": 19, \"5\": 20, \"11\": 6, \"2\": 14, \"6\": 21, \"9\": 8, \"12\": 1}, \"3\": {\"3\": 43, \"1\": 8, \"9\": 30, \"10\": 9, \"8\": 22, \"0\": 34, \"6\": 20, \"7\": 22, \"5\": 31, \"2\": 3, \"13\": 5, \"15\": 12, \"14\": 1}, \"2\": {\"0\": 13, \"10\": 20, \"15\": 27, \"2\": 51, \"11\": 9, \"5\": 9, \"14\": 20, \"13\": 27, \"3\": 1, \"1\": 24, \"8\": 23, \"7\": 5, \"9\": 4, \"6\": 4, \"12\": 2, \"4\": 1}, \"13\": {\"9\": 10, \"3\": 11, \"2\": 23, \"14\": 12, \"15\": 26, \"1\": 31, \"13\": 40, \"8\": 18, \"7\": 9, \"10\": 15, \"5\": 20, \"12\": 2, \"0\": 12, \"11\": 3, \"6\": 8}}}, \"per_domain_accuracy\": {\"Wisig_3\": {\"accuracy\": 0.9688864628820961, \"source?\": true}, \"Wisig_4\": {\"accuracy\": 0.9546745867768595, \"source?\": true}, \"Wisig_2\": {\"accuracy\": 0.9563554852320675, \"source?\": true}, \"Wisig_1\": {\"accuracy\": 0.9729516806722689, \"source?\": true}, \"ORACLE.run114\": {\"accuracy\": 0.15651041666666668, \"source?\": false}, \"ORACLE.run120\": {\"accuracy\": 0.08072916666666667, \"source?\": false}, \"ORACLE.run150\": {\"accuracy\": 0.17838541666666666, \"source?\": false}, \"ORACLE.run126\": {\"accuracy\": 0.12526041666666668, \"source?\": false}, \"ORACLE.run132\": {\"accuracy\": 0.25494791666666666, \"source?\": false}, \"ORACLE.run144\": {\"accuracy\": 0.21067708333333332, \"source?\": false}, \"ORACLE.run18\": {\"accuracy\": 0.14010416666666667, \"source?\": false}, \"ORACLE.run138\": {\"accuracy\": 0.21640625, \"source?\": false}}}, \"history\": {\"epoch_indices\": [1, 2, 3, 4, 5], \"train_label_loss\": [0.18988156502273293, 0.11945647389727736, 0.09748917013543379, 0.08147713976369113, 0.06718109051998682], \"source_val_label_loss\": [0.16390997171401978, 0.12309501320123672, 0.11728736758232117, 0.11883465945720673, 0.11713158339262009], \"target_val_label_loss\": [2.600656747817993, 2.621260643005371, 2.681565284729004, 2.687939167022705, 3.0117685794830322], \"source_val_acc_label\": [0.9631342494714588, 0.9714918076109936, 0.9733747357293869, 0.9727801268498943, 0.9741345137420718], \"target_val_acc_label\": [0.17037760416666667, 0.1517578125, 0.15445963541666666, 0.14762369791666666, 0.1279296875]}, \"dataset_metrics\": {\"source\": {\"train\": {\"n_unique_x\": 189029, \"n_unique_y\": 130, \"n_batch/episode\": 6842}, \"val\": {\"n_unique_x\": 40049, \"n_unique_y\": 130, \"n_batch/episode\": 946}, \"test\": {\"n_unique_x\": 40794, \"n_unique_y\": 130, \"n_batch/episode\": 966}}, \"target\": {\"train\": {\"n_unique_x\": 179200, \"n_unique_y\": 16, \"n_batch/episode\": 6720}, \"val\": {\"n_unique_x\": 38400, \"n_unique_y\": 16, \"n_batch/episode\": 960}, \"test\": {\"n_unique_x\": 38400, \"n_unique_y\": 16, \"n_batch/episode\": 960}}}}'"
      ]
     },
     "execution_count": 29,
     "metadata": {},
     "output_type": "execute_result"
    }
   ],
   "source": [
    "json.dumps(experiment)"
   ]
  }
 ],
 "metadata": {
  "celltoolbar": "Tags",
  "kernelspec": {
   "display_name": "Python 3 (ipykernel)",
   "language": "python",
   "name": "python3"
  },
  "language_info": {
   "codemirror_mode": {
    "name": "ipython",
    "version": 3
   },
   "file_extension": ".py",
   "mimetype": "text/x-python",
   "name": "python",
   "nbconvert_exporter": "python",
   "pygments_lexer": "ipython3",
   "version": "3.8.12"
  },
  "papermill": {
   "default_parameters": {},
   "duration": 1617.655779,
   "end_time": "2022-03-21T08:01:50.508534",
   "environment_variables": {},
   "exception": null,
   "input_path": "/root/csc500-main/csc500-notebooks/templates/tl_ptn_template.ipynb",
   "output_path": "trial.ipynb",
   "parameters": {
    "parameters": {
     "BEST_MODEL_PATH": "./best_model.pth",
     "NUM_LOGS_PER_EPOCH": 10,
     "criteria_for_best": "target_accuracy",
     "dataset_seed": 420,
     "datasets": [
      {
       "domain_prefix": "Wisig_",
       "domains": [
        1,
        2,
        3,
        4
       ],
       "episode_transforms": [],
       "labels": [
        "1-10",
        "1-12",
        "1-14",
        "1-16",
        "1-18",
        "1-19",
        "1-8",
        "10-11",
        "10-17",
        "10-4",
        "10-7",
        "11-1",
        "11-10",
        "11-19",
        "11-20",
        "11-4",
        "11-7",
        "12-19",
        "12-20",
        "12-7",
        "13-14",
        "13-18",
        "13-19",
        "13-20",
        "13-3",
        "13-7",
        "14-10",
        "14-11",
        "14-12",
        "14-13",
        "14-14",
        "14-19",
        "14-20",
        "14-7",
        "14-8",
        "14-9",
        "15-1",
        "15-19",
        "15-6",
        "16-1",
        "16-16",
        "16-19",
        "16-20",
        "17-10",
        "17-11",
        "18-1",
        "18-10",
        "18-11",
        "18-12",
        "18-13",
        "18-14",
        "18-15",
        "18-16",
        "18-17",
        "18-19",
        "18-2",
        "18-20",
        "18-4",
        "18-5",
        "18-7",
        "18-8",
        "18-9",
        "19-1",
        "19-10",
        "19-11",
        "19-12",
        "19-13",
        "19-14",
        "19-15",
        "19-19",
        "19-2",
        "19-20",
        "19-3",
        "19-4",
        "19-6",
        "19-7",
        "19-8",
        "19-9",
        "2-1",
        "2-13",
        "2-15",
        "2-3",
        "2-4",
        "2-5",
        "2-6",
        "2-7",
        "2-8",
        "20-1",
        "20-12",
        "20-14",
        "20-15",
        "20-16",
        "20-18",
        "20-19",
        "20-20",
        "20-3",
        "20-4",
        "20-5",
        "20-7",
        "20-8",
        "3-1",
        "3-13",
        "3-18",
        "3-2",
        "3-8",
        "4-1",
        "4-10",
        "4-11",
        "5-1",
        "5-5",
        "6-1",
        "6-15",
        "6-6",
        "7-10",
        "7-11",
        "7-12",
        "7-13",
        "7-14",
        "7-7",
        "7-8",
        "7-9",
        "8-1",
        "8-13",
        "8-14",
        "8-18",
        "8-20",
        "8-3",
        "8-8",
        "9-1",
        "9-7"
       ],
       "num_examples_per_domain_per_label": -1,
       "pickle_path": "/root/csc500-main/datasets/wisig.node3-19.stratified_ds.2022A.pkl",
       "source_or_target_dataset": "source",
       "x_transforms": [
        "unit_power"
       ]
      },
      {
       "domain_prefix": "ORACLE.run1",
       "domains": [
        32,
        38,
        8,
        44,
        14,
        50,
        20,
        26
       ],
       "episode_transforms": [],
       "labels": [
        "3123D52",
        "3123D65",
        "3123D79",
        "3123D80",
        "3123D54",
        "3123D70",
        "3123D7B",
        "3123D89",
        "3123D58",
        "3123D76",
        "3123D7D",
        "3123EFE",
        "3123D64",
        "3123D78",
        "3123D7E",
        "3124E4A"
       ],
       "num_examples_per_domain_per_label": 2000,
       "pickle_path": "/root/csc500-main/datasets/oracle.Run1_framed_2000Examples_stratified_ds.2022A.pkl",
       "source_or_target_dataset": "target",
       "x_transforms": [
        "unit_power"
       ]
      }
     ],
     "device": "cuda",
     "experiment_name": "tl_1v2:wisig-oracle.run1.framed",
     "lr": 0.0001,
     "n_epoch": 50,
     "n_query": 2,
     "n_shot": 3,
     "n_way": 16,
     "patience": 3,
     "seed": 420,
     "test_k_factor": 2,
     "torch_default_dtype": "torch.float32",
     "train_k_factor": 3,
     "val_k_factor": 2,
     "x_net": [
      {
       "class": "nnReshape",
       "kargs": {
        "shape": [
         -1,
         1,
         2,
         256
        ]
       }
      },
      {
       "class": "Conv2d",
       "kargs": {
        "bias": false,
        "in_channels": 1,
        "kernel_size": [
         1,
         7
        ],
        "out_channels": 256,
        "padding": [
         0,
         3
        ]
       }
      },
      {
       "class": "ReLU",
       "kargs": {
        "inplace": true
       }
      },
      {
       "class": "BatchNorm2d",
       "kargs": {
        "num_features": 256
       }
      },
      {
       "class": "Conv2d",
       "kargs": {
        "bias": true,
        "in_channels": 256,
        "kernel_size": [
         2,
         7
        ],
        "out_channels": 80,
        "padding": [
         0,
         3
        ]
       }
      },
      {
       "class": "ReLU",
       "kargs": {
        "inplace": true
       }
      },
      {
       "class": "BatchNorm2d",
       "kargs": {
        "num_features": 80
       }
      },
      {
       "class": "Flatten",
       "kargs": {}
      },
      {
       "class": "Linear",
       "kargs": {
        "in_features": 20480,
        "out_features": 256
       }
      },
      {
       "class": "ReLU",
       "kargs": {
        "inplace": true
       }
      },
      {
       "class": "BatchNorm1d",
       "kargs": {
        "num_features": 256
       }
      },
      {
       "class": "Linear",
       "kargs": {
        "in_features": 256,
        "out_features": 256
       }
      }
     ]
    }
   },
   "start_time": "2022-03-21T07:34:52.852755",
   "version": "2.3.4"
  }
 },
 "nbformat": 4,
 "nbformat_minor": 5
}