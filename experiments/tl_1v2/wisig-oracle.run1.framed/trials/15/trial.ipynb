{
 "cells": [
  {
   "cell_type": "markdown",
   "id": "9fea5f46",
   "metadata": {
    "papermill": {
     "duration": 0.028617,
     "end_time": "2022-03-21T11:56:24.044216",
     "exception": false,
     "start_time": "2022-03-21T11:56:24.015599",
     "status": "completed"
    },
    "tags": []
   },
   "source": [
    "# Transfer Learning Template"
   ]
  },
  {
   "cell_type": "code",
   "execution_count": 1,
   "id": "0902182a",
   "metadata": {
    "execution": {
     "iopub.execute_input": "2022-03-21T11:56:24.106728Z",
     "iopub.status.busy": "2022-03-21T11:56:24.105735Z",
     "iopub.status.idle": "2022-03-21T11:56:26.018323Z",
     "shell.execute_reply": "2022-03-21T11:56:26.018661Z"
    },
    "papermill": {
     "duration": 1.952049,
     "end_time": "2022-03-21T11:56:26.018900",
     "exception": false,
     "start_time": "2022-03-21T11:56:24.066851",
     "status": "completed"
    },
    "tags": []
   },
   "outputs": [],
   "source": [
    "%load_ext autoreload\n",
    "%autoreload 2\n",
    "%matplotlib inline\n",
    "\n",
    "    \n",
    "import os, json, sys, time, random\n",
    "import numpy as np\n",
    "import torch\n",
    "from torch.optim import Adam\n",
    "from  easydict import EasyDict\n",
    "import matplotlib.pyplot as plt\n",
    "\n",
    "from steves_models.steves_ptn import Steves_Prototypical_Network\n",
    "\n",
    "from steves_utils.lazy_iterable_wrapper import Lazy_Iterable_Wrapper\n",
    "from steves_utils.iterable_aggregator import Iterable_Aggregator\n",
    "from steves_utils.ptn_train_eval_test_jig import  PTN_Train_Eval_Test_Jig\n",
    "from steves_utils.torch_sequential_builder import build_sequential\n",
    "from steves_utils.torch_utils import get_dataset_metrics, ptn_confusion_by_domain_over_dataloader\n",
    "from steves_utils.utils_v2 import (per_domain_accuracy_from_confusion, get_datasets_base_path)\n",
    "from steves_utils.PTN.utils import independent_accuracy_assesment\n",
    "\n",
    "from torch.utils.data import DataLoader\n",
    "\n",
    "from steves_utils.stratified_dataset.episodic_accessor import Episodic_Accessor_Factory\n",
    "\n",
    "from steves_utils.ptn_do_report import (\n",
    "    get_loss_curve,\n",
    "    get_results_table,\n",
    "    get_parameters_table,\n",
    "    get_domain_accuracies,\n",
    ")\n",
    "\n",
    "from steves_utils.transforms import get_chained_transform"
   ]
  },
  {
   "cell_type": "markdown",
   "id": "41c840b4",
   "metadata": {
    "papermill": {
     "duration": 0.018938,
     "end_time": "2022-03-21T11:56:26.060280",
     "exception": false,
     "start_time": "2022-03-21T11:56:26.041342",
     "status": "completed"
    },
    "tags": []
   },
   "source": [
    "# Allowed Parameters\n",
    "These are allowed parameters, not defaults\n",
    "Each of these values need to be present in the injected parameters (the notebook will raise an exception if they are not present)\n",
    "\n",
    "Papermill uses the cell tag \"parameters\" to inject the real parameters below this cell.\n",
    "Enable tags to see what I mean"
   ]
  },
  {
   "cell_type": "code",
   "execution_count": 2,
   "id": "fd44eb83",
   "metadata": {
    "execution": {
     "iopub.execute_input": "2022-03-21T11:56:26.102408Z",
     "iopub.status.busy": "2022-03-21T11:56:26.101533Z",
     "iopub.status.idle": "2022-03-21T11:56:26.123904Z",
     "shell.execute_reply": "2022-03-21T11:56:26.123494Z"
    },
    "papermill": {
     "duration": 0.044836,
     "end_time": "2022-03-21T11:56:26.123984",
     "exception": false,
     "start_time": "2022-03-21T11:56:26.079148",
     "status": "completed"
    },
    "tags": []
   },
   "outputs": [],
   "source": [
    "required_parameters = {\n",
    "    \"experiment_name\",\n",
    "    \"lr\",\n",
    "    \"device\",\n",
    "    \"seed\",\n",
    "    \"dataset_seed\",\n",
    "    \"n_shot\",\n",
    "    \"n_query\",\n",
    "    \"n_way\",\n",
    "    \"train_k_factor\",\n",
    "    \"val_k_factor\",\n",
    "    \"test_k_factor\",\n",
    "    \"n_epoch\",\n",
    "    \"patience\",\n",
    "    \"criteria_for_best\",\n",
    "    \"x_net\",\n",
    "    \"datasets\",\n",
    "    \"torch_default_dtype\",\n",
    "    \"NUM_LOGS_PER_EPOCH\",\n",
    "    \"BEST_MODEL_PATH\",\n",
    "    \"x_shape\",\n",
    "}"
   ]
  },
  {
   "cell_type": "code",
   "execution_count": 3,
   "id": "fa3f0049",
   "metadata": {
    "execution": {
     "iopub.execute_input": "2022-03-21T11:56:26.172583Z",
     "iopub.status.busy": "2022-03-21T11:56:26.171956Z",
     "iopub.status.idle": "2022-03-21T11:56:26.193394Z",
     "shell.execute_reply": "2022-03-21T11:56:26.192992Z"
    },
    "papermill": {
     "duration": 0.050234,
     "end_time": "2022-03-21T11:56:26.193484",
     "exception": false,
     "start_time": "2022-03-21T11:56:26.143250",
     "status": "completed"
    },
    "tags": [
     "parameters"
    ]
   },
   "outputs": [],
   "source": [
    "from steves_utils.CORES.utils import (\n",
    "    ALL_NODES,\n",
    "    ALL_NODES_MINIMUM_1000_EXAMPLES,\n",
    "    ALL_DAYS\n",
    ")\n",
    "\n",
    "from steves_utils.ORACLE.utils_v2 import (\n",
    "    ALL_DISTANCES_FEET_NARROWED,\n",
    "    ALL_RUNS,\n",
    "    ALL_SERIAL_NUMBERS,\n",
    ")\n",
    "\n",
    "standalone_parameters = {}\n",
    "standalone_parameters[\"experiment_name\"] = \"STANDALONE PTN\"\n",
    "standalone_parameters[\"lr\"] = 0.001\n",
    "standalone_parameters[\"device\"] = \"cuda\"\n",
    "\n",
    "standalone_parameters[\"seed\"] = 1337\n",
    "standalone_parameters[\"dataset_seed\"] = 1337\n",
    "\n",
    "standalone_parameters[\"n_way\"] = 8\n",
    "standalone_parameters[\"n_shot\"] = 3\n",
    "standalone_parameters[\"n_query\"]  = 2\n",
    "standalone_parameters[\"train_k_factor\"] = 1\n",
    "standalone_parameters[\"val_k_factor\"] = 2\n",
    "standalone_parameters[\"test_k_factor\"] = 2\n",
    "\n",
    "\n",
    "standalone_parameters[\"n_epoch\"] = 50\n",
    "\n",
    "standalone_parameters[\"patience\"] = 10\n",
    "standalone_parameters[\"criteria_for_best\"] = \"source_loss\"\n",
    "\n",
    "standalone_parameters[\"datasets\"] = [\n",
    "    {\n",
    "        \"labels\": ALL_SERIAL_NUMBERS,\n",
    "        \"domains\": ALL_DISTANCES_FEET_NARROWED,\n",
    "        \"num_examples_per_domain_per_label\": 100,\n",
    "        \"pickle_path\": os.path.join(get_datasets_base_path(), \"oracle.Run1_framed_2000Examples_stratified_ds.2022A.pkl\"),\n",
    "        \"source_or_target_dataset\": \"source\",\n",
    "        \"x_transforms\": [\"unit_mag\", \"minus_two\"],\n",
    "        \"episode_transforms\": [],\n",
    "        \"domain_prefix\": \"ORACLE_\"\n",
    "    },\n",
    "    {\n",
    "        \"labels\": ALL_NODES,\n",
    "        \"domains\": ALL_DAYS,\n",
    "        \"num_examples_per_domain_per_label\": 100,\n",
    "        \"pickle_path\": os.path.join(get_datasets_base_path(), \"cores.stratified_ds.2022A.pkl\"),\n",
    "        \"source_or_target_dataset\": \"target\",\n",
    "        \"x_transforms\": [\"unit_power\", \"times_zero\"],\n",
    "        \"episode_transforms\": [],\n",
    "        \"domain_prefix\": \"CORES_\"\n",
    "    }   \n",
    "]\n",
    "\n",
    "standalone_parameters[\"torch_default_dtype\"] = \"torch.float32\" \n",
    "\n",
    "\n",
    "\n",
    "standalone_parameters[\"x_net\"] =     [\n",
    "    {\"class\": \"nnReshape\", \"kargs\": {\"shape\":[-1, 1, 2, 256]}},\n",
    "    {\"class\": \"Conv2d\", \"kargs\": { \"in_channels\":1, \"out_channels\":256, \"kernel_size\":(1,7), \"bias\":False, \"padding\":(0,3), },},\n",
    "    {\"class\": \"ReLU\", \"kargs\": {\"inplace\": True}},\n",
    "    {\"class\": \"BatchNorm2d\", \"kargs\": {\"num_features\":256}},\n",
    "\n",
    "    {\"class\": \"Conv2d\", \"kargs\": { \"in_channels\":256, \"out_channels\":80, \"kernel_size\":(2,7), \"bias\":True, \"padding\":(0,3), },},\n",
    "    {\"class\": \"ReLU\", \"kargs\": {\"inplace\": True}},\n",
    "    {\"class\": \"BatchNorm2d\", \"kargs\": {\"num_features\":80}},\n",
    "    {\"class\": \"Flatten\", \"kargs\": {}},\n",
    "\n",
    "    {\"class\": \"Linear\", \"kargs\": {\"in_features\": 80*256, \"out_features\": 256}}, # 80 units per IQ pair\n",
    "    {\"class\": \"ReLU\", \"kargs\": {\"inplace\": True}},\n",
    "    {\"class\": \"BatchNorm1d\", \"kargs\": {\"num_features\":256}},\n",
    "\n",
    "    {\"class\": \"Linear\", \"kargs\": {\"in_features\": 256, \"out_features\": 256}},\n",
    "]\n",
    "\n",
    "# Parameters relevant to results\n",
    "# These parameters will basically never need to change\n",
    "standalone_parameters[\"NUM_LOGS_PER_EPOCH\"] = 10\n",
    "standalone_parameters[\"BEST_MODEL_PATH\"] = \"./best_model.pth\"\n",
    "\n",
    "\n",
    "\n",
    "\n"
   ]
  },
  {
   "cell_type": "code",
   "execution_count": 4,
   "id": "7eb22182",
   "metadata": {
    "execution": {
     "iopub.execute_input": "2022-03-21T11:56:26.246826Z",
     "iopub.status.busy": "2022-03-21T11:56:26.246010Z",
     "iopub.status.idle": "2022-03-21T11:56:26.267588Z",
     "shell.execute_reply": "2022-03-21T11:56:26.267220Z"
    },
    "papermill": {
     "duration": 0.051831,
     "end_time": "2022-03-21T11:56:26.267669",
     "exception": false,
     "start_time": "2022-03-21T11:56:26.215838",
     "status": "completed"
    },
    "tags": [
     "injected-parameters"
    ]
   },
   "outputs": [],
   "source": [
    "# Parameters\n",
    "parameters = {\n",
    "    \"experiment_name\": \"tl_1v2:wisig-oracle.run1.framed\",\n",
    "    \"device\": \"cuda\",\n",
    "    \"lr\": 0.0001,\n",
    "    \"n_shot\": 3,\n",
    "    \"n_query\": 2,\n",
    "    \"train_k_factor\": 3,\n",
    "    \"val_k_factor\": 2,\n",
    "    \"test_k_factor\": 2,\n",
    "    \"torch_default_dtype\": \"torch.float32\",\n",
    "    \"n_epoch\": 50,\n",
    "    \"patience\": 3,\n",
    "    \"criteria_for_best\": \"target_accuracy\",\n",
    "    \"x_net\": [\n",
    "        {\"class\": \"nnReshape\", \"kargs\": {\"shape\": [-1, 1, 2, 256]}},\n",
    "        {\n",
    "            \"class\": \"Conv2d\",\n",
    "            \"kargs\": {\n",
    "                \"in_channels\": 1,\n",
    "                \"out_channels\": 256,\n",
    "                \"kernel_size\": [1, 7],\n",
    "                \"bias\": False,\n",
    "                \"padding\": [0, 3],\n",
    "            },\n",
    "        },\n",
    "        {\"class\": \"ReLU\", \"kargs\": {\"inplace\": True}},\n",
    "        {\"class\": \"BatchNorm2d\", \"kargs\": {\"num_features\": 256}},\n",
    "        {\n",
    "            \"class\": \"Conv2d\",\n",
    "            \"kargs\": {\n",
    "                \"in_channels\": 256,\n",
    "                \"out_channels\": 80,\n",
    "                \"kernel_size\": [2, 7],\n",
    "                \"bias\": True,\n",
    "                \"padding\": [0, 3],\n",
    "            },\n",
    "        },\n",
    "        {\"class\": \"ReLU\", \"kargs\": {\"inplace\": True}},\n",
    "        {\"class\": \"BatchNorm2d\", \"kargs\": {\"num_features\": 80}},\n",
    "        {\"class\": \"Flatten\", \"kargs\": {}},\n",
    "        {\"class\": \"Linear\", \"kargs\": {\"in_features\": 20480, \"out_features\": 256}},\n",
    "        {\"class\": \"ReLU\", \"kargs\": {\"inplace\": True}},\n",
    "        {\"class\": \"BatchNorm1d\", \"kargs\": {\"num_features\": 256}},\n",
    "        {\"class\": \"Linear\", \"kargs\": {\"in_features\": 256, \"out_features\": 256}},\n",
    "    ],\n",
    "    \"NUM_LOGS_PER_EPOCH\": 10,\n",
    "    \"BEST_MODEL_PATH\": \"./best_model.pth\",\n",
    "    \"n_way\": 16,\n",
    "    \"datasets\": [\n",
    "        {\n",
    "            \"labels\": [\n",
    "                \"1-10\",\n",
    "                \"1-12\",\n",
    "                \"1-14\",\n",
    "                \"1-16\",\n",
    "                \"1-18\",\n",
    "                \"1-19\",\n",
    "                \"1-8\",\n",
    "                \"10-11\",\n",
    "                \"10-17\",\n",
    "                \"10-4\",\n",
    "                \"10-7\",\n",
    "                \"11-1\",\n",
    "                \"11-10\",\n",
    "                \"11-19\",\n",
    "                \"11-20\",\n",
    "                \"11-4\",\n",
    "                \"11-7\",\n",
    "                \"12-19\",\n",
    "                \"12-20\",\n",
    "                \"12-7\",\n",
    "                \"13-14\",\n",
    "                \"13-18\",\n",
    "                \"13-19\",\n",
    "                \"13-20\",\n",
    "                \"13-3\",\n",
    "                \"13-7\",\n",
    "                \"14-10\",\n",
    "                \"14-11\",\n",
    "                \"14-12\",\n",
    "                \"14-13\",\n",
    "                \"14-14\",\n",
    "                \"14-19\",\n",
    "                \"14-20\",\n",
    "                \"14-7\",\n",
    "                \"14-8\",\n",
    "                \"14-9\",\n",
    "                \"15-1\",\n",
    "                \"15-19\",\n",
    "                \"15-6\",\n",
    "                \"16-1\",\n",
    "                \"16-16\",\n",
    "                \"16-19\",\n",
    "                \"16-20\",\n",
    "                \"17-10\",\n",
    "                \"17-11\",\n",
    "                \"18-1\",\n",
    "                \"18-10\",\n",
    "                \"18-11\",\n",
    "                \"18-12\",\n",
    "                \"18-13\",\n",
    "                \"18-14\",\n",
    "                \"18-15\",\n",
    "                \"18-16\",\n",
    "                \"18-17\",\n",
    "                \"18-19\",\n",
    "                \"18-2\",\n",
    "                \"18-20\",\n",
    "                \"18-4\",\n",
    "                \"18-5\",\n",
    "                \"18-7\",\n",
    "                \"18-8\",\n",
    "                \"18-9\",\n",
    "                \"19-1\",\n",
    "                \"19-10\",\n",
    "                \"19-11\",\n",
    "                \"19-12\",\n",
    "                \"19-13\",\n",
    "                \"19-14\",\n",
    "                \"19-15\",\n",
    "                \"19-19\",\n",
    "                \"19-2\",\n",
    "                \"19-20\",\n",
    "                \"19-3\",\n",
    "                \"19-4\",\n",
    "                \"19-6\",\n",
    "                \"19-7\",\n",
    "                \"19-8\",\n",
    "                \"19-9\",\n",
    "                \"2-1\",\n",
    "                \"2-13\",\n",
    "                \"2-15\",\n",
    "                \"2-3\",\n",
    "                \"2-4\",\n",
    "                \"2-5\",\n",
    "                \"2-6\",\n",
    "                \"2-7\",\n",
    "                \"2-8\",\n",
    "                \"20-1\",\n",
    "                \"20-12\",\n",
    "                \"20-14\",\n",
    "                \"20-15\",\n",
    "                \"20-16\",\n",
    "                \"20-18\",\n",
    "                \"20-19\",\n",
    "                \"20-20\",\n",
    "                \"20-3\",\n",
    "                \"20-4\",\n",
    "                \"20-5\",\n",
    "                \"20-7\",\n",
    "                \"20-8\",\n",
    "                \"3-1\",\n",
    "                \"3-13\",\n",
    "                \"3-18\",\n",
    "                \"3-2\",\n",
    "                \"3-8\",\n",
    "                \"4-1\",\n",
    "                \"4-10\",\n",
    "                \"4-11\",\n",
    "                \"5-1\",\n",
    "                \"5-5\",\n",
    "                \"6-1\",\n",
    "                \"6-15\",\n",
    "                \"6-6\",\n",
    "                \"7-10\",\n",
    "                \"7-11\",\n",
    "                \"7-12\",\n",
    "                \"7-13\",\n",
    "                \"7-14\",\n",
    "                \"7-7\",\n",
    "                \"7-8\",\n",
    "                \"7-9\",\n",
    "                \"8-1\",\n",
    "                \"8-13\",\n",
    "                \"8-14\",\n",
    "                \"8-18\",\n",
    "                \"8-20\",\n",
    "                \"8-3\",\n",
    "                \"8-8\",\n",
    "                \"9-1\",\n",
    "                \"9-7\",\n",
    "            ],\n",
    "            \"domains\": [1, 2, 3, 4],\n",
    "            \"num_examples_per_domain_per_label\": -1,\n",
    "            \"pickle_path\": \"/root/csc500-main/datasets/wisig.node3-19.stratified_ds.2022A.pkl\",\n",
    "            \"source_or_target_dataset\": \"target\",\n",
    "            \"x_transforms\": [\"unit_power\"],\n",
    "            \"episode_transforms\": [],\n",
    "            \"domain_prefix\": \"Wisig_\",\n",
    "        },\n",
    "        {\n",
    "            \"labels\": [\n",
    "                \"3123D52\",\n",
    "                \"3123D65\",\n",
    "                \"3123D79\",\n",
    "                \"3123D80\",\n",
    "                \"3123D54\",\n",
    "                \"3123D70\",\n",
    "                \"3123D7B\",\n",
    "                \"3123D89\",\n",
    "                \"3123D58\",\n",
    "                \"3123D76\",\n",
    "                \"3123D7D\",\n",
    "                \"3123EFE\",\n",
    "                \"3123D64\",\n",
    "                \"3123D78\",\n",
    "                \"3123D7E\",\n",
    "                \"3124E4A\",\n",
    "            ],\n",
    "            \"domains\": [32, 38, 8, 44, 14, 50, 20, 26],\n",
    "            \"num_examples_per_domain_per_label\": 2000,\n",
    "            \"pickle_path\": \"/root/csc500-main/datasets/oracle.Run1_framed_2000Examples_stratified_ds.2022A.pkl\",\n",
    "            \"source_or_target_dataset\": \"source\",\n",
    "            \"x_transforms\": [\"unit_power\"],\n",
    "            \"episode_transforms\": [],\n",
    "            \"domain_prefix\": \"ORACLE.run1\",\n",
    "        },\n",
    "    ],\n",
    "    \"dataset_seed\": 154325,\n",
    "    \"seed\": 154325,\n",
    "}\n"
   ]
  },
  {
   "cell_type": "code",
   "execution_count": 5,
   "id": "8fa1cc33",
   "metadata": {
    "execution": {
     "iopub.execute_input": "2022-03-21T11:56:26.311212Z",
     "iopub.status.busy": "2022-03-21T11:56:26.310647Z",
     "iopub.status.idle": "2022-03-21T11:56:26.329155Z",
     "shell.execute_reply": "2022-03-21T11:56:26.328768Z"
    },
    "papermill": {
     "duration": 0.04182,
     "end_time": "2022-03-21T11:56:26.329235",
     "exception": false,
     "start_time": "2022-03-21T11:56:26.287415",
     "status": "completed"
    },
    "tags": []
   },
   "outputs": [],
   "source": [
    "# Set this to True if you want to run this template directly\n",
    "STANDALONE = False\n",
    "if STANDALONE:\n",
    "    print(\"parameters not injected, running with standalone_parameters\")\n",
    "    parameters = standalone_parameters\n",
    "\n",
    "if not 'parameters' in locals() and not 'parameters' in globals():\n",
    "    raise Exception(\"Parameter injection failed\")\n",
    "\n",
    "#Use an easy dict for all the parameters\n",
    "p = EasyDict(parameters)\n",
    "\n",
    "if \"x_shape\" not in p:\n",
    "    p.x_shape = [2,256] # Default to this if we dont supply x_shape\n",
    "\n",
    "\n",
    "supplied_keys = set(p.keys())\n",
    "\n",
    "if  supplied_keys != required_parameters:\n",
    "    print(\"Parameters are incorrect\")\n",
    "    if len(supplied_keys - required_parameters)>0: print(\"Shouldn't have:\", str(supplied_keys - required_parameters))\n",
    "    if len(required_parameters - supplied_keys)>0: print(\"Need to have:\", str(required_parameters - supplied_keys))\n",
    "    raise RuntimeError(\"Parameters are incorrect\")"
   ]
  },
  {
   "cell_type": "code",
   "execution_count": 6,
   "id": "3a028d58",
   "metadata": {
    "execution": {
     "iopub.execute_input": "2022-03-21T11:56:26.371250Z",
     "iopub.status.busy": "2022-03-21T11:56:26.370698Z",
     "iopub.status.idle": "2022-03-21T11:56:26.388922Z",
     "shell.execute_reply": "2022-03-21T11:56:26.388533Z"
    },
    "papermill": {
     "duration": 0.040349,
     "end_time": "2022-03-21T11:56:26.389000",
     "exception": false,
     "start_time": "2022-03-21T11:56:26.348651",
     "status": "completed"
    },
    "tags": []
   },
   "outputs": [],
   "source": [
    "###################################\n",
    "# Set the RNGs and make it all deterministic\n",
    "###################################\n",
    "np.random.seed(p.seed)\n",
    "random.seed(p.seed)\n",
    "torch.manual_seed(p.seed)\n",
    "\n",
    "torch.use_deterministic_algorithms(True) "
   ]
  },
  {
   "cell_type": "code",
   "execution_count": 7,
   "id": "b691acf6",
   "metadata": {
    "execution": {
     "iopub.execute_input": "2022-03-21T11:56:26.433868Z",
     "iopub.status.busy": "2022-03-21T11:56:26.433338Z",
     "iopub.status.idle": "2022-03-21T11:56:26.453284Z",
     "shell.execute_reply": "2022-03-21T11:56:26.452902Z"
    },
    "papermill": {
     "duration": 0.041618,
     "end_time": "2022-03-21T11:56:26.453362",
     "exception": false,
     "start_time": "2022-03-21T11:56:26.411744",
     "status": "completed"
    },
    "tags": []
   },
   "outputs": [],
   "source": [
    "###########################################\n",
    "# The stratified datasets honor this\n",
    "###########################################\n",
    "torch.set_default_dtype(eval(p.torch_default_dtype))"
   ]
  },
  {
   "cell_type": "code",
   "execution_count": 8,
   "id": "b5fba671",
   "metadata": {
    "execution": {
     "iopub.execute_input": "2022-03-21T11:56:26.497354Z",
     "iopub.status.busy": "2022-03-21T11:56:26.496799Z",
     "iopub.status.idle": "2022-03-21T11:56:26.549597Z",
     "shell.execute_reply": "2022-03-21T11:56:26.549194Z"
    },
    "papermill": {
     "duration": 0.074559,
     "end_time": "2022-03-21T11:56:26.549715",
     "exception": false,
     "start_time": "2022-03-21T11:56:26.475156",
     "status": "completed"
    },
    "tags": []
   },
   "outputs": [],
   "source": [
    "###################################\n",
    "# Build the network(s)\n",
    "# Note: It's critical to do this AFTER setting the RNG\n",
    "###################################\n",
    "x_net = build_sequential(p.x_net)"
   ]
  },
  {
   "cell_type": "code",
   "execution_count": 9,
   "id": "5d7e61cc",
   "metadata": {
    "execution": {
     "iopub.execute_input": "2022-03-21T11:56:26.594018Z",
     "iopub.status.busy": "2022-03-21T11:56:26.593465Z",
     "iopub.status.idle": "2022-03-21T11:56:26.615482Z",
     "shell.execute_reply": "2022-03-21T11:56:26.615147Z"
    },
    "papermill": {
     "duration": 0.044917,
     "end_time": "2022-03-21T11:56:26.615567",
     "exception": false,
     "start_time": "2022-03-21T11:56:26.570650",
     "status": "completed"
    },
    "tags": []
   },
   "outputs": [],
   "source": [
    "start_time_secs = time.time()"
   ]
  },
  {
   "cell_type": "code",
   "execution_count": 10,
   "id": "c6b67dfd",
   "metadata": {
    "execution": {
     "iopub.execute_input": "2022-03-21T11:56:26.658054Z",
     "iopub.status.busy": "2022-03-21T11:56:26.657505Z",
     "iopub.status.idle": "2022-03-21T11:56:26.675069Z",
     "shell.execute_reply": "2022-03-21T11:56:26.674736Z"
    },
    "papermill": {
     "duration": 0.039667,
     "end_time": "2022-03-21T11:56:26.675147",
     "exception": false,
     "start_time": "2022-03-21T11:56:26.635480",
     "status": "completed"
    },
    "tags": []
   },
   "outputs": [],
   "source": [
    "p.domains_source = []\n",
    "p.domains_target = []\n",
    "\n",
    "\n",
    "train_original_source = []\n",
    "val_original_source   = []\n",
    "test_original_source  = []\n",
    "\n",
    "train_original_target = []\n",
    "val_original_target   = []\n",
    "test_original_target  = []"
   ]
  },
  {
   "cell_type": "code",
   "execution_count": 11,
   "id": "e3d9c3d3",
   "metadata": {
    "execution": {
     "iopub.execute_input": "2022-03-21T11:56:26.720253Z",
     "iopub.status.busy": "2022-03-21T11:56:26.719698Z",
     "iopub.status.idle": "2022-03-21T11:56:26.737243Z",
     "shell.execute_reply": "2022-03-21T11:56:26.737542Z"
    },
    "papermill": {
     "duration": 0.04035,
     "end_time": "2022-03-21T11:56:26.737639",
     "exception": false,
     "start_time": "2022-03-21T11:56:26.697289",
     "status": "completed"
    },
    "tags": []
   },
   "outputs": [],
   "source": [
    "# global_x_transform_func = lambda x: normalize(x.to(torch.get_default_dtype()), \"unit_power\") # unit_power, unit_mag\n",
    "# global_x_transform_func = lambda x: normalize(x, \"unit_power\") # unit_power, unit_mag"
   ]
  },
  {
   "cell_type": "code",
   "execution_count": 12,
   "id": "acb78fd2",
   "metadata": {
    "execution": {
     "iopub.execute_input": "2022-03-21T11:56:26.784942Z",
     "iopub.status.busy": "2022-03-21T11:56:26.784368Z",
     "iopub.status.idle": "2022-03-21T11:56:26.803349Z",
     "shell.execute_reply": "2022-03-21T11:56:26.802966Z"
    },
    "papermill": {
     "duration": 0.045745,
     "end_time": "2022-03-21T11:56:26.803427",
     "exception": false,
     "start_time": "2022-03-21T11:56:26.757682",
     "status": "completed"
    },
    "tags": []
   },
   "outputs": [],
   "source": [
    "def add_dataset(\n",
    "    labels,\n",
    "    domains,\n",
    "    pickle_path,\n",
    "    x_transforms,\n",
    "    episode_transforms,\n",
    "    domain_prefix,\n",
    "    num_examples_per_domain_per_label,\n",
    "    source_or_target_dataset:str,\n",
    "    iterator_seed=p.seed,\n",
    "    dataset_seed=p.dataset_seed,\n",
    "    n_shot=p.n_shot,\n",
    "    n_way=p.n_way,\n",
    "    n_query=p.n_query,\n",
    "    train_val_test_k_factors=(p.train_k_factor,p.val_k_factor,p.test_k_factor),\n",
    "):\n",
    "   \n",
    "    if x_transforms == []: x_transform = None\n",
    "    else: x_transform = get_chained_transform(x_transforms)\n",
    "    \n",
    "    if episode_transforms == []: episode_transform = None\n",
    "    else: raise Exception(\"episode_transforms not implemented\")\n",
    "    \n",
    "    episode_transform = lambda tup, _prefix=domain_prefix: (_prefix + str(tup[0]), tup[1])\n",
    "\n",
    "\n",
    "    eaf = Episodic_Accessor_Factory(\n",
    "        labels=labels,\n",
    "        domains=domains,\n",
    "        num_examples_per_domain_per_label=num_examples_per_domain_per_label,\n",
    "        iterator_seed=iterator_seed,\n",
    "        dataset_seed=dataset_seed,\n",
    "        n_shot=n_shot,\n",
    "        n_way=n_way,\n",
    "        n_query=n_query,\n",
    "        train_val_test_k_factors=train_val_test_k_factors,\n",
    "        pickle_path=pickle_path,\n",
    "        x_transform_func=x_transform,\n",
    "    )\n",
    "\n",
    "    train, val, test = eaf.get_train(), eaf.get_val(), eaf.get_test()\n",
    "    train = Lazy_Iterable_Wrapper(train, episode_transform)\n",
    "    val = Lazy_Iterable_Wrapper(val, episode_transform)\n",
    "    test = Lazy_Iterable_Wrapper(test, episode_transform)\n",
    "\n",
    "    if source_or_target_dataset==\"source\":\n",
    "        train_original_source.append(train)\n",
    "        val_original_source.append(val)\n",
    "        test_original_source.append(test)\n",
    "\n",
    "        p.domains_source.extend(\n",
    "            [domain_prefix + str(u) for u in domains]\n",
    "        )\n",
    "    elif source_or_target_dataset==\"target\":\n",
    "        train_original_target.append(train)\n",
    "        val_original_target.append(val)\n",
    "        test_original_target.append(test)\n",
    "        p.domains_target.extend(\n",
    "            [domain_prefix + str(u) for u in domains]\n",
    "        )\n",
    "    else:\n",
    "        raise Exception(f\"invalid source_or_target_dataset: {source_or_target_dataset}\")\n",
    "    "
   ]
  },
  {
   "cell_type": "code",
   "execution_count": 13,
   "id": "fe266617",
   "metadata": {
    "execution": {
     "iopub.execute_input": "2022-03-21T11:56:26.846896Z",
     "iopub.status.busy": "2022-03-21T11:56:26.846345Z",
     "iopub.status.idle": "2022-03-21T11:57:11.925658Z",
     "shell.execute_reply": "2022-03-21T11:57:11.926343Z"
    },
    "papermill": {
     "duration": 45.102799,
     "end_time": "2022-03-21T11:57:11.926590",
     "exception": false,
     "start_time": "2022-03-21T11:56:26.823791",
     "status": "completed"
    },
    "tags": []
   },
   "outputs": [],
   "source": [
    "for ds in p.datasets:\n",
    "    add_dataset(**ds)"
   ]
  },
  {
   "cell_type": "code",
   "execution_count": 14,
   "id": "b90d65ac",
   "metadata": {
    "execution": {
     "iopub.execute_input": "2022-03-21T11:57:11.982059Z",
     "iopub.status.busy": "2022-03-21T11:57:11.981664Z",
     "iopub.status.idle": "2022-03-21T11:57:12.006736Z",
     "shell.execute_reply": "2022-03-21T11:57:12.005878Z"
    },
    "papermill": {
     "duration": 0.051299,
     "end_time": "2022-03-21T11:57:12.006998",
     "exception": false,
     "start_time": "2022-03-21T11:57:11.955699",
     "status": "completed"
    },
    "tags": []
   },
   "outputs": [],
   "source": [
    "# from steves_utils.CORES.utils import (\n",
    "#     ALL_NODES,\n",
    "#     ALL_NODES_MINIMUM_1000_EXAMPLES,\n",
    "#     ALL_DAYS\n",
    "# )\n",
    "\n",
    "# add_dataset(\n",
    "#     labels=ALL_NODES,\n",
    "#     domains = ALL_DAYS,\n",
    "#     num_examples_per_domain_per_label=100,\n",
    "#     pickle_path=os.path.join(get_datasets_base_path(), \"cores.stratified_ds.2022A.pkl\"),\n",
    "#     source_or_target_dataset=\"target\",\n",
    "#     x_transform_func=global_x_transform_func,\n",
    "#     domain_modifier=lambda u: f\"cores_{u}\"\n",
    "# )"
   ]
  },
  {
   "cell_type": "code",
   "execution_count": 15,
   "id": "76db484d",
   "metadata": {
    "execution": {
     "iopub.execute_input": "2022-03-21T11:57:12.061685Z",
     "iopub.status.busy": "2022-03-21T11:57:12.060709Z",
     "iopub.status.idle": "2022-03-21T11:57:12.083483Z",
     "shell.execute_reply": "2022-03-21T11:57:12.082694Z"
    },
    "papermill": {
     "duration": 0.048333,
     "end_time": "2022-03-21T11:57:12.083713",
     "exception": false,
     "start_time": "2022-03-21T11:57:12.035380",
     "status": "completed"
    },
    "tags": []
   },
   "outputs": [],
   "source": [
    "# from steves_utils.ORACLE.utils_v2 import (\n",
    "#     ALL_DISTANCES_FEET,\n",
    "#     ALL_RUNS,\n",
    "#     ALL_SERIAL_NUMBERS,\n",
    "# )\n",
    "\n",
    "\n",
    "# add_dataset(\n",
    "#     labels=ALL_SERIAL_NUMBERS,\n",
    "#     domains = list(set(ALL_DISTANCES_FEET) - {2,62}),\n",
    "#     num_examples_per_domain_per_label=100,\n",
    "#     pickle_path=os.path.join(get_datasets_base_path(), \"oracle.Run2_framed_2000Examples_stratified_ds.2022A.pkl\"),\n",
    "#     source_or_target_dataset=\"source\",\n",
    "#     x_transform_func=global_x_transform_func,\n",
    "#     domain_modifier=lambda u: f\"oracle1_{u}\"\n",
    "# )\n"
   ]
  },
  {
   "cell_type": "code",
   "execution_count": 16,
   "id": "97dea9d2",
   "metadata": {
    "execution": {
     "iopub.execute_input": "2022-03-21T11:57:12.137714Z",
     "iopub.status.busy": "2022-03-21T11:57:12.137132Z",
     "iopub.status.idle": "2022-03-21T11:57:12.157599Z",
     "shell.execute_reply": "2022-03-21T11:57:12.156784Z"
    },
    "papermill": {
     "duration": 0.045202,
     "end_time": "2022-03-21T11:57:12.157757",
     "exception": false,
     "start_time": "2022-03-21T11:57:12.112555",
     "status": "completed"
    },
    "tags": []
   },
   "outputs": [],
   "source": [
    "# from steves_utils.ORACLE.utils_v2 import (\n",
    "#     ALL_DISTANCES_FEET,\n",
    "#     ALL_RUNS,\n",
    "#     ALL_SERIAL_NUMBERS,\n",
    "# )\n",
    "\n",
    "\n",
    "# add_dataset(\n",
    "#     labels=ALL_SERIAL_NUMBERS,\n",
    "#     domains = list(set(ALL_DISTANCES_FEET) - {2,62,56}),\n",
    "#     num_examples_per_domain_per_label=100,\n",
    "#     pickle_path=os.path.join(get_datasets_base_path(), \"oracle.Run2_framed_2000Examples_stratified_ds.2022A.pkl\"),\n",
    "#     source_or_target_dataset=\"source\",\n",
    "#     x_transform_func=global_x_transform_func,\n",
    "#     domain_modifier=lambda u: f\"oracle2_{u}\"\n",
    "# )"
   ]
  },
  {
   "cell_type": "code",
   "execution_count": 17,
   "id": "6f289866",
   "metadata": {
    "execution": {
     "iopub.execute_input": "2022-03-21T11:57:12.213099Z",
     "iopub.status.busy": "2022-03-21T11:57:12.211068Z",
     "iopub.status.idle": "2022-03-21T11:57:12.234394Z",
     "shell.execute_reply": "2022-03-21T11:57:12.233686Z"
    },
    "papermill": {
     "duration": 0.047798,
     "end_time": "2022-03-21T11:57:12.234551",
     "exception": false,
     "start_time": "2022-03-21T11:57:12.186753",
     "status": "completed"
    },
    "tags": []
   },
   "outputs": [],
   "source": [
    "# add_dataset(\n",
    "#     labels=list(range(19)),\n",
    "#     domains = [0,1,2],\n",
    "#     num_examples_per_domain_per_label=100,\n",
    "#     pickle_path=os.path.join(get_datasets_base_path(), \"metehan.stratified_ds.2022A.pkl\"),\n",
    "#     source_or_target_dataset=\"target\",\n",
    "#     x_transform_func=global_x_transform_func,\n",
    "#     domain_modifier=lambda u: f\"met_{u}\"\n",
    "# )"
   ]
  },
  {
   "cell_type": "code",
   "execution_count": 18,
   "id": "86a863c3",
   "metadata": {
    "execution": {
     "iopub.execute_input": "2022-03-21T11:57:12.287803Z",
     "iopub.status.busy": "2022-03-21T11:57:12.287402Z",
     "iopub.status.idle": "2022-03-21T11:57:12.307816Z",
     "shell.execute_reply": "2022-03-21T11:57:12.307083Z"
    },
    "papermill": {
     "duration": 0.044532,
     "end_time": "2022-03-21T11:57:12.307973",
     "exception": false,
     "start_time": "2022-03-21T11:57:12.263441",
     "status": "completed"
    },
    "tags": []
   },
   "outputs": [],
   "source": [
    "# # from steves_utils.wisig.utils import (\n",
    "# #     ALL_NODES_MINIMUM_100_EXAMPLES,\n",
    "# #     ALL_NODES_MINIMUM_500_EXAMPLES,\n",
    "# #     ALL_NODES_MINIMUM_1000_EXAMPLES,\n",
    "# #     ALL_DAYS\n",
    "# # )\n",
    "\n",
    "# import steves_utils.wisig.utils as wisig\n",
    "\n",
    "\n",
    "# add_dataset(\n",
    "#     labels=wisig.ALL_NODES_MINIMUM_100_EXAMPLES,\n",
    "#     domains = wisig.ALL_DAYS,\n",
    "#     num_examples_per_domain_per_label=100,\n",
    "#     pickle_path=os.path.join(get_datasets_base_path(), \"wisig.node3-19.stratified_ds.2022A.pkl\"),\n",
    "#     source_or_target_dataset=\"target\",\n",
    "#     x_transform_func=global_x_transform_func,\n",
    "#     domain_modifier=lambda u: f\"wisig_{u}\"\n",
    "# )"
   ]
  },
  {
   "cell_type": "code",
   "execution_count": 19,
   "id": "fd5442bc",
   "metadata": {
    "execution": {
     "iopub.execute_input": "2022-03-21T11:57:12.368974Z",
     "iopub.status.busy": "2022-03-21T11:57:12.368115Z",
     "iopub.status.idle": "2022-03-21T11:57:12.391353Z",
     "shell.execute_reply": "2022-03-21T11:57:12.392050Z"
    },
    "papermill": {
     "duration": 0.054205,
     "end_time": "2022-03-21T11:57:12.392233",
     "exception": false,
     "start_time": "2022-03-21T11:57:12.338028",
     "status": "completed"
    },
    "tags": []
   },
   "outputs": [],
   "source": [
    "###################################\n",
    "# Build the dataset\n",
    "###################################\n",
    "train_original_source = Iterable_Aggregator(train_original_source, p.seed)\n",
    "val_original_source = Iterable_Aggregator(val_original_source, p.seed)\n",
    "test_original_source = Iterable_Aggregator(test_original_source, p.seed)\n",
    "\n",
    "\n",
    "train_original_target = Iterable_Aggregator(train_original_target, p.seed)\n",
    "val_original_target = Iterable_Aggregator(val_original_target, p.seed)\n",
    "test_original_target = Iterable_Aggregator(test_original_target, p.seed)\n",
    "\n",
    "# For CNN We only use X and Y. And we only train on the source.\n",
    "# Properly form the data using a transform lambda and Lazy_Iterable_Wrapper. Finally wrap them in a dataloader\n",
    "\n",
    "transform_lambda = lambda ex: ex[1] # Original is (<domain>, <episode>) so we strip down to episode only\n",
    "\n",
    "train_processed_source = Lazy_Iterable_Wrapper(train_original_source, transform_lambda)\n",
    "val_processed_source   = Lazy_Iterable_Wrapper(val_original_source, transform_lambda)\n",
    "test_processed_source  = Lazy_Iterable_Wrapper(test_original_source, transform_lambda)\n",
    "\n",
    "train_processed_target = Lazy_Iterable_Wrapper(train_original_target, transform_lambda)\n",
    "val_processed_target   = Lazy_Iterable_Wrapper(val_original_target, transform_lambda)\n",
    "test_processed_target  = Lazy_Iterable_Wrapper(test_original_target, transform_lambda)\n",
    "\n",
    "datasets = EasyDict({\n",
    "    \"source\": {\n",
    "        \"original\": {\"train\":train_original_source, \"val\":val_original_source, \"test\":test_original_source},\n",
    "        \"processed\": {\"train\":train_processed_source, \"val\":val_processed_source, \"test\":test_processed_source}\n",
    "    },\n",
    "    \"target\": {\n",
    "        \"original\": {\"train\":train_original_target, \"val\":val_original_target, \"test\":test_original_target},\n",
    "        \"processed\": {\"train\":train_processed_target, \"val\":val_processed_target, \"test\":test_processed_target}\n",
    "    },\n",
    "})"
   ]
  },
  {
   "cell_type": "code",
   "execution_count": 20,
   "id": "5b3c01fc",
   "metadata": {
    "execution": {
     "iopub.execute_input": "2022-03-21T11:57:12.450398Z",
     "iopub.status.busy": "2022-03-21T11:57:12.450001Z",
     "iopub.status.idle": "2022-03-21T11:57:28.360024Z",
     "shell.execute_reply": "2022-03-21T11:57:28.360721Z"
    },
    "papermill": {
     "duration": 15.93814,
     "end_time": "2022-03-21T11:57:28.360939",
     "exception": false,
     "start_time": "2022-03-21T11:57:12.422799",
     "status": "completed"
    },
    "tags": []
   },
   "outputs": [
    {
     "name": "stdout",
     "output_type": "stream",
     "text": [
      "{'ORACLE.run144', 'ORACLE.run138', 'ORACLE.run18', 'ORACLE.run126', 'ORACLE.run132', 'ORACLE.run150', 'ORACLE.run120', 'ORACLE.run114'}\n"
     ]
    },
    {
     "name": "stdout",
     "output_type": "stream",
     "text": [
      "{'Wisig_3', 'Wisig_4', 'Wisig_1', 'Wisig_2'}\n"
     ]
    },
    {
     "name": "stdout",
     "output_type": "stream",
     "text": [
      "tensor([[[-0.1928,  1.0235, -0.1790,  ..., -1.0418,  0.4590,  0.5508],\n",
      "         [-0.4039,  0.3534,  0.5003,  ..., -0.0505, -0.9271, -1.0281]],\n",
      "\n",
      "        [[ 0.0508,  1.1409, -0.2910,  ..., -0.8961, -0.0416, -0.7113],\n",
      "         [-0.3880, -0.2910,  0.6005,  ...,  0.3141, -1.2425, -0.8176]],\n",
      "\n",
      "        [[-0.6672, -0.1554,  0.8820,  ..., -0.0594, -1.3024,  0.0228],\n",
      "         [-0.4067, -0.9003,  0.5941,  ...,  0.7997,  0.3016,  1.3253]],\n",
      "\n",
      "        ...,\n",
      "\n",
      "        [[ 0.1032,  0.6571, -0.1032,  ..., -0.8254, -0.8634, -1.0317],\n",
      "         [-0.8906, -0.2715,  1.2924,  ...,  0.0923, -1.0209,  0.8200]],\n",
      "\n",
      "        [[-0.2576,  1.0962,  0.0219,  ..., -1.0414,  0.1918,  0.2905],\n",
      "         [-0.4823,  0.0329,  0.6358,  ...,  0.2521, -1.0633, -1.0359]],\n",
      "\n",
      "        [[-0.7553, -0.7776,  1.0164,  ...,  0.6165, -0.2055,  1.3107],\n",
      "         [ 0.5332, -0.1666, -0.7553,  ...,  0.5387,  1.2941,  0.2333]]])\n"
     ]
    }
   ],
   "source": [
    "from steves_utils.transforms import get_average_magnitude, get_average_power\n",
    "\n",
    "print(set([u for u,_ in val_original_source]))\n",
    "print(set([u for u,_ in val_original_target]))\n",
    "\n",
    "s_x, s_y, q_x, q_y, _ = next(iter(train_processed_source))\n",
    "print(s_x)\n",
    "\n",
    "# for ds in [\n",
    "#     train_processed_source,\n",
    "#     val_processed_source,\n",
    "#     test_processed_source,\n",
    "#     train_processed_target,\n",
    "#     val_processed_target,\n",
    "#     test_processed_target\n",
    "# ]:\n",
    "#     for s_x, s_y, q_x, q_y, _ in ds:\n",
    "#         for X in (s_x, q_x):\n",
    "#             for x in X:\n",
    "#                 assert np.isclose(get_average_magnitude(x.numpy()), 1.0)\n",
    "#                 assert np.isclose(get_average_power(x.numpy()), 1.0)\n",
    "                "
   ]
  },
  {
   "cell_type": "code",
   "execution_count": 21,
   "id": "bbdacba1",
   "metadata": {
    "execution": {
     "iopub.execute_input": "2022-03-21T11:57:28.422219Z",
     "iopub.status.busy": "2022-03-21T11:57:28.421828Z",
     "iopub.status.idle": "2022-03-21T11:57:28.685513Z",
     "shell.execute_reply": "2022-03-21T11:57:28.684764Z"
    },
    "papermill": {
     "duration": 0.292432,
     "end_time": "2022-03-21T11:57:28.685704",
     "exception": false,
     "start_time": "2022-03-21T11:57:28.393272",
     "status": "completed"
    },
    "tags": []
   },
   "outputs": [
    {
     "name": "stdout",
     "output_type": "stream",
     "text": [
      "(2, 256)\n"
     ]
    }
   ],
   "source": [
    "###################################\n",
    "# Build the model\n",
    "###################################\n",
    "# easfsl only wants a tuple for the shape\n",
    "model = Steves_Prototypical_Network(x_net, device=p.device, x_shape=tuple(p.x_shape))\n",
    "optimizer = Adam(params=model.parameters(), lr=p.lr)"
   ]
  },
  {
   "cell_type": "code",
   "execution_count": 22,
   "id": "22b39ac5",
   "metadata": {
    "execution": {
     "iopub.execute_input": "2022-03-21T11:57:28.764586Z",
     "iopub.status.busy": "2022-03-21T11:57:28.764199Z",
     "iopub.status.idle": "2022-03-21T12:43:38.175726Z",
     "shell.execute_reply": "2022-03-21T12:43:38.175364Z"
    },
    "papermill": {
     "duration": 2769.440535,
     "end_time": "2022-03-21T12:43:38.175811",
     "exception": false,
     "start_time": "2022-03-21T11:57:28.735276",
     "status": "completed"
    },
    "tags": []
   },
   "outputs": [
    {
     "name": "stdout",
     "output_type": "stream",
     "text": [
      "epoch: 1, [batch: 1 / 6720], examples_per_second: 33.1622, train_label_loss: 2.9355, \n"
     ]
    },
    {
     "name": "stdout",
     "output_type": "stream",
     "text": [
      "epoch: 1, [batch: 672 / 6720], examples_per_second: 2248.7573, train_label_loss: 0.7365, \n"
     ]
    },
    {
     "name": "stdout",
     "output_type": "stream",
     "text": [
      "epoch: 1, [batch: 1344 / 6720], examples_per_second: 2263.1525, train_label_loss: 0.7132, \n"
     ]
    },
    {
     "name": "stdout",
     "output_type": "stream",
     "text": [
      "epoch: 1, [batch: 2016 / 6720], examples_per_second: 2296.9846, train_label_loss: 0.5214, \n"
     ]
    },
    {
     "name": "stdout",
     "output_type": "stream",
     "text": [
      "epoch: 1, [batch: 2688 / 6720], examples_per_second: 2243.3357, train_label_loss: 0.3463, \n"
     ]
    },
    {
     "name": "stdout",
     "output_type": "stream",
     "text": [
      "epoch: 1, [batch: 3360 / 6720], examples_per_second: 2398.2507, train_label_loss: 0.4216, \n"
     ]
    },
    {
     "name": "stdout",
     "output_type": "stream",
     "text": [
      "epoch: 1, [batch: 4032 / 6720], examples_per_second: 2541.6900, train_label_loss: 0.6157, \n"
     ]
    },
    {
     "name": "stdout",
     "output_type": "stream",
     "text": [
      "epoch: 1, [batch: 4704 / 6720], examples_per_second: 2591.3123, train_label_loss: 0.3419, \n"
     ]
    },
    {
     "name": "stdout",
     "output_type": "stream",
     "text": [
      "epoch: 1, [batch: 5376 / 6720], examples_per_second: 2358.5461, train_label_loss: 0.4222, \n"
     ]
    },
    {
     "name": "stdout",
     "output_type": "stream",
     "text": [
      "epoch: 1, [batch: 6048 / 6720], examples_per_second: 2499.4629, train_label_loss: 0.5244, \n"
     ]
    },
    {
     "name": "stdout",
     "output_type": "stream",
     "text": [
      "=============================================================\n",
      "epoch: 1, source_val_acc_label: 0.7834, target_val_acc_label: 0.5457, source_val_label_loss: 0.6487, target_val_label_loss: 4.2298, \n",
      "=============================================================\n"
     ]
    },
    {
     "name": "stdout",
     "output_type": "stream",
     "text": [
      "New best\n"
     ]
    },
    {
     "name": "stdout",
     "output_type": "stream",
     "text": [
      "epoch: 2, [batch: 1 / 6720], examples_per_second: 2.1849, train_label_loss: 0.5037, \n"
     ]
    },
    {
     "name": "stdout",
     "output_type": "stream",
     "text": [
      "epoch: 2, [batch: 672 / 6720], examples_per_second: 2587.3260, train_label_loss: 0.5088, \n"
     ]
    },
    {
     "name": "stdout",
     "output_type": "stream",
     "text": [
      "epoch: 2, [batch: 1344 / 6720], examples_per_second: 2569.1861, train_label_loss: 0.9295, \n"
     ]
    },
    {
     "name": "stdout",
     "output_type": "stream",
     "text": [
      "epoch: 2, [batch: 2016 / 6720], examples_per_second: 2548.3331, train_label_loss: 0.2429, \n"
     ]
    },
    {
     "name": "stdout",
     "output_type": "stream",
     "text": [
      "epoch: 2, [batch: 2688 / 6720], examples_per_second: 2581.6021, train_label_loss: 0.5779, \n"
     ]
    },
    {
     "name": "stdout",
     "output_type": "stream",
     "text": [
      "epoch: 2, [batch: 3360 / 6720], examples_per_second: 2819.7777, train_label_loss: 0.3421, \n"
     ]
    },
    {
     "name": "stdout",
     "output_type": "stream",
     "text": [
      "epoch: 2, [batch: 4032 / 6720], examples_per_second: 3022.6546, train_label_loss: 0.2700, \n"
     ]
    },
    {
     "name": "stdout",
     "output_type": "stream",
     "text": [
      "epoch: 2, [batch: 4704 / 6720], examples_per_second: 3043.0542, train_label_loss: 0.1970, \n"
     ]
    },
    {
     "name": "stdout",
     "output_type": "stream",
     "text": [
      "epoch: 2, [batch: 5376 / 6720], examples_per_second: 3005.6944, train_label_loss: 1.1721, \n"
     ]
    },
    {
     "name": "stdout",
     "output_type": "stream",
     "text": [
      "epoch: 2, [batch: 6048 / 6720], examples_per_second: 2673.2865, train_label_loss: 0.4188, \n"
     ]
    },
    {
     "name": "stdout",
     "output_type": "stream",
     "text": [
      "=============================================================\n",
      "epoch: 2, source_val_acc_label: 0.8509, target_val_acc_label: 0.5838, source_val_label_loss: 0.4228, target_val_label_loss: 6.3498, \n",
      "=============================================================\n"
     ]
    },
    {
     "name": "stdout",
     "output_type": "stream",
     "text": [
      "New best\n"
     ]
    },
    {
     "name": "stdout",
     "output_type": "stream",
     "text": [
      "epoch: 3, [batch: 1 / 6720], examples_per_second: 2.2165, train_label_loss: 0.4281, \n"
     ]
    },
    {
     "name": "stdout",
     "output_type": "stream",
     "text": [
      "epoch: 3, [batch: 672 / 6720], examples_per_second: 2281.8289, train_label_loss: 0.3204, \n"
     ]
    },
    {
     "name": "stdout",
     "output_type": "stream",
     "text": [
      "epoch: 3, [batch: 1344 / 6720], examples_per_second: 2300.2346, train_label_loss: 0.8464, \n"
     ]
    },
    {
     "name": "stdout",
     "output_type": "stream",
     "text": [
      "epoch: 3, [batch: 2016 / 6720], examples_per_second: 2310.3158, train_label_loss: 0.4598, \n"
     ]
    },
    {
     "name": "stdout",
     "output_type": "stream",
     "text": [
      "epoch: 3, [batch: 2688 / 6720], examples_per_second: 2304.5066, train_label_loss: 0.2725, \n"
     ]
    },
    {
     "name": "stdout",
     "output_type": "stream",
     "text": [
      "epoch: 3, [batch: 3360 / 6720], examples_per_second: 2518.2572, train_label_loss: 0.2123, \n"
     ]
    },
    {
     "name": "stdout",
     "output_type": "stream",
     "text": [
      "epoch: 3, [batch: 4032 / 6720], examples_per_second: 2587.4240, train_label_loss: 0.3680, \n"
     ]
    },
    {
     "name": "stdout",
     "output_type": "stream",
     "text": [
      "epoch: 3, [batch: 4704 / 6720], examples_per_second: 2629.2912, train_label_loss: 0.3945, \n"
     ]
    },
    {
     "name": "stdout",
     "output_type": "stream",
     "text": [
      "epoch: 3, [batch: 5376 / 6720], examples_per_second: 2315.7022, train_label_loss: 0.1875, \n"
     ]
    },
    {
     "name": "stdout",
     "output_type": "stream",
     "text": [
      "epoch: 3, [batch: 6048 / 6720], examples_per_second: 2516.3952, train_label_loss: 0.4903, \n"
     ]
    },
    {
     "name": "stdout",
     "output_type": "stream",
     "text": [
      "=============================================================\n",
      "epoch: 3, source_val_acc_label: 0.8688, target_val_acc_label: 0.5749, source_val_label_loss: 0.3764, target_val_label_loss: 7.3881, \n",
      "=============================================================\n"
     ]
    },
    {
     "name": "stdout",
     "output_type": "stream",
     "text": [
      "epoch: 4, [batch: 1 / 6720], examples_per_second: 2.2269, train_label_loss: 0.1863, \n"
     ]
    },
    {
     "name": "stdout",
     "output_type": "stream",
     "text": [
      "epoch: 4, [batch: 672 / 6720], examples_per_second: 2313.7004, train_label_loss: 0.1193, \n"
     ]
    },
    {
     "name": "stdout",
     "output_type": "stream",
     "text": [
      "epoch: 4, [batch: 1344 / 6720], examples_per_second: 2341.8882, train_label_loss: 0.2223, \n"
     ]
    },
    {
     "name": "stdout",
     "output_type": "stream",
     "text": [
      "epoch: 4, [batch: 2016 / 6720], examples_per_second: 2334.2544, train_label_loss: 0.2517, \n"
     ]
    },
    {
     "name": "stdout",
     "output_type": "stream",
     "text": [
      "epoch: 4, [batch: 2688 / 6720], examples_per_second: 2319.8574, train_label_loss: 0.4878, \n"
     ]
    },
    {
     "name": "stdout",
     "output_type": "stream",
     "text": [
      "epoch: 4, [batch: 3360 / 6720], examples_per_second: 2545.2559, train_label_loss: 0.1104, \n"
     ]
    },
    {
     "name": "stdout",
     "output_type": "stream",
     "text": [
      "epoch: 4, [batch: 4032 / 6720], examples_per_second: 2570.3323, train_label_loss: 0.3631, \n"
     ]
    },
    {
     "name": "stdout",
     "output_type": "stream",
     "text": [
      "epoch: 4, [batch: 4704 / 6720], examples_per_second: 2566.2970, train_label_loss: 0.1783, \n"
     ]
    },
    {
     "name": "stdout",
     "output_type": "stream",
     "text": [
      "epoch: 4, [batch: 5376 / 6720], examples_per_second: 2617.0992, train_label_loss: 0.2000, \n"
     ]
    },
    {
     "name": "stdout",
     "output_type": "stream",
     "text": [
      "epoch: 4, [batch: 6048 / 6720], examples_per_second: 2824.7654, train_label_loss: 0.1227, \n"
     ]
    },
    {
     "name": "stdout",
     "output_type": "stream",
     "text": [
      "=============================================================\n",
      "epoch: 4, source_val_acc_label: 0.8820, target_val_acc_label: 0.5727, source_val_label_loss: 0.3298, target_val_label_loss: 7.3535, \n",
      "=============================================================\n"
     ]
    },
    {
     "name": "stdout",
     "output_type": "stream",
     "text": [
      "epoch: 5, [batch: 1 / 6720], examples_per_second: 2.5448, train_label_loss: 0.3570, \n"
     ]
    },
    {
     "name": "stdout",
     "output_type": "stream",
     "text": [
      "epoch: 5, [batch: 672 / 6720], examples_per_second: 2506.3778, train_label_loss: 0.8308, \n"
     ]
    },
    {
     "name": "stdout",
     "output_type": "stream",
     "text": [
      "epoch: 5, [batch: 1344 / 6720], examples_per_second: 2567.3356, train_label_loss: 0.1982, \n"
     ]
    },
    {
     "name": "stdout",
     "output_type": "stream",
     "text": [
      "epoch: 5, [batch: 2016 / 6720], examples_per_second: 2623.3936, train_label_loss: 0.9142, \n"
     ]
    },
    {
     "name": "stdout",
     "output_type": "stream",
     "text": [
      "epoch: 5, [batch: 2688 / 6720], examples_per_second: 2981.5802, train_label_loss: 0.1759, \n"
     ]
    },
    {
     "name": "stdout",
     "output_type": "stream",
     "text": [
      "epoch: 5, [batch: 3360 / 6720], examples_per_second: 3000.1083, train_label_loss: 0.7471, \n"
     ]
    },
    {
     "name": "stdout",
     "output_type": "stream",
     "text": [
      "epoch: 5, [batch: 4032 / 6720], examples_per_second: 2969.5164, train_label_loss: 0.1017, \n"
     ]
    },
    {
     "name": "stdout",
     "output_type": "stream",
     "text": [
      "epoch: 5, [batch: 4704 / 6720], examples_per_second: 2938.7421, train_label_loss: 0.4339, \n"
     ]
    },
    {
     "name": "stdout",
     "output_type": "stream",
     "text": [
      "epoch: 5, [batch: 5376 / 6720], examples_per_second: 2905.7322, train_label_loss: 0.0872, \n"
     ]
    },
    {
     "name": "stdout",
     "output_type": "stream",
     "text": [
      "epoch: 5, [batch: 6048 / 6720], examples_per_second: 3238.6034, train_label_loss: 0.3155, \n"
     ]
    },
    {
     "name": "stdout",
     "output_type": "stream",
     "text": [
      "=============================================================\n",
      "epoch: 5, source_val_acc_label: 0.8877, target_val_acc_label: 0.5914, source_val_label_loss: 0.3134, target_val_label_loss: 8.3297, \n",
      "=============================================================\n"
     ]
    },
    {
     "name": "stdout",
     "output_type": "stream",
     "text": [
      "New best\n"
     ]
    },
    {
     "name": "stdout",
     "output_type": "stream",
     "text": [
      "epoch: 6, [batch: 1 / 6720], examples_per_second: 2.3028, train_label_loss: 0.3075, \n"
     ]
    },
    {
     "name": "stdout",
     "output_type": "stream",
     "text": [
      "epoch: 6, [batch: 672 / 6720], examples_per_second: 2278.8102, train_label_loss: 0.1378, \n"
     ]
    },
    {
     "name": "stdout",
     "output_type": "stream",
     "text": [
      "epoch: 6, [batch: 1344 / 6720], examples_per_second: 2285.5942, train_label_loss: 0.1096, \n"
     ]
    },
    {
     "name": "stdout",
     "output_type": "stream",
     "text": [
      "epoch: 6, [batch: 2016 / 6720], examples_per_second: 2302.5812, train_label_loss: 0.2425, \n"
     ]
    },
    {
     "name": "stdout",
     "output_type": "stream",
     "text": [
      "epoch: 6, [batch: 2688 / 6720], examples_per_second: 2279.0045, train_label_loss: 0.3926, \n"
     ]
    },
    {
     "name": "stdout",
     "output_type": "stream",
     "text": [
      "epoch: 6, [batch: 3360 / 6720], examples_per_second: 2308.5583, train_label_loss: 0.2546, \n"
     ]
    },
    {
     "name": "stdout",
     "output_type": "stream",
     "text": [
      "epoch: 6, [batch: 4032 / 6720], examples_per_second: 2321.2989, train_label_loss: 0.2601, \n"
     ]
    },
    {
     "name": "stdout",
     "output_type": "stream",
     "text": [
      "epoch: 6, [batch: 4704 / 6720], examples_per_second: 2341.8417, train_label_loss: 0.4086, \n"
     ]
    },
    {
     "name": "stdout",
     "output_type": "stream",
     "text": [
      "epoch: 6, [batch: 5376 / 6720], examples_per_second: 2747.2565, train_label_loss: 0.3551, \n"
     ]
    },
    {
     "name": "stdout",
     "output_type": "stream",
     "text": [
      "epoch: 6, [batch: 6048 / 6720], examples_per_second: 3221.4581, train_label_loss: 0.2721, \n"
     ]
    },
    {
     "name": "stdout",
     "output_type": "stream",
     "text": [
      "=============================================================\n",
      "epoch: 6, source_val_acc_label: 0.8883, target_val_acc_label: 0.6010, source_val_label_loss: 0.3103, target_val_label_loss: 8.4705, \n",
      "=============================================================\n"
     ]
    },
    {
     "name": "stdout",
     "output_type": "stream",
     "text": [
      "New best\n"
     ]
    },
    {
     "name": "stdout",
     "output_type": "stream",
     "text": [
      "epoch: 7, [batch: 1 / 6720], examples_per_second: 2.6063, train_label_loss: 0.1449, \n"
     ]
    },
    {
     "name": "stdout",
     "output_type": "stream",
     "text": [
      "epoch: 7, [batch: 672 / 6720], examples_per_second: 2635.1374, train_label_loss: 0.1353, \n"
     ]
    },
    {
     "name": "stdout",
     "output_type": "stream",
     "text": [
      "epoch: 7, [batch: 1344 / 6720], examples_per_second: 2757.4543, train_label_loss: 0.2023, \n"
     ]
    },
    {
     "name": "stdout",
     "output_type": "stream",
     "text": [
      "epoch: 7, [batch: 2016 / 6720], examples_per_second: 2927.3127, train_label_loss: 0.1292, \n"
     ]
    },
    {
     "name": "stdout",
     "output_type": "stream",
     "text": [
      "epoch: 7, [batch: 2688 / 6720], examples_per_second: 2304.7483, train_label_loss: 0.0139, \n"
     ]
    },
    {
     "name": "stdout",
     "output_type": "stream",
     "text": [
      "epoch: 7, [batch: 3360 / 6720], examples_per_second: 2312.4644, train_label_loss: 0.0781, \n"
     ]
    },
    {
     "name": "stdout",
     "output_type": "stream",
     "text": [
      "epoch: 7, [batch: 4032 / 6720], examples_per_second: 2334.1451, train_label_loss: 0.1884, \n"
     ]
    },
    {
     "name": "stdout",
     "output_type": "stream",
     "text": [
      "epoch: 7, [batch: 4704 / 6720], examples_per_second: 2369.4439, train_label_loss: 0.1787, \n"
     ]
    },
    {
     "name": "stdout",
     "output_type": "stream",
     "text": [
      "epoch: 7, [batch: 5376 / 6720], examples_per_second: 2562.9714, train_label_loss: 0.3273, \n"
     ]
    },
    {
     "name": "stdout",
     "output_type": "stream",
     "text": [
      "epoch: 7, [batch: 6048 / 6720], examples_per_second: 2863.1956, train_label_loss: 0.2450, \n"
     ]
    },
    {
     "name": "stdout",
     "output_type": "stream",
     "text": [
      "=============================================================\n",
      "epoch: 7, source_val_acc_label: 0.8921, target_val_acc_label: 0.6126, source_val_label_loss: 0.3016, target_val_label_loss: 7.4862, \n",
      "=============================================================\n"
     ]
    },
    {
     "name": "stdout",
     "output_type": "stream",
     "text": [
      "New best\n"
     ]
    },
    {
     "name": "stdout",
     "output_type": "stream",
     "text": [
      "epoch: 8, [batch: 1 / 6720], examples_per_second: 2.2832, train_label_loss: 0.1392, \n"
     ]
    },
    {
     "name": "stdout",
     "output_type": "stream",
     "text": [
      "epoch: 8, [batch: 672 / 6720], examples_per_second: 2331.9844, train_label_loss: 0.0913, \n"
     ]
    },
    {
     "name": "stdout",
     "output_type": "stream",
     "text": [
      "epoch: 8, [batch: 1344 / 6720], examples_per_second: 2314.3669, train_label_loss: 0.0311, \n"
     ]
    },
    {
     "name": "stdout",
     "output_type": "stream",
     "text": [
      "epoch: 8, [batch: 2016 / 6720], examples_per_second: 2330.5646, train_label_loss: 0.4237, \n"
     ]
    },
    {
     "name": "stdout",
     "output_type": "stream",
     "text": [
      "epoch: 8, [batch: 2688 / 6720], examples_per_second: 2323.2040, train_label_loss: 0.1247, \n"
     ]
    },
    {
     "name": "stdout",
     "output_type": "stream",
     "text": [
      "epoch: 8, [batch: 3360 / 6720], examples_per_second: 2297.9454, train_label_loss: 0.6839, \n"
     ]
    },
    {
     "name": "stdout",
     "output_type": "stream",
     "text": [
      "epoch: 8, [batch: 4032 / 6720], examples_per_second: 2296.5082, train_label_loss: 0.2293, \n"
     ]
    },
    {
     "name": "stdout",
     "output_type": "stream",
     "text": [
      "epoch: 8, [batch: 4704 / 6720], examples_per_second: 2409.4086, train_label_loss: 0.1647, \n"
     ]
    },
    {
     "name": "stdout",
     "output_type": "stream",
     "text": [
      "epoch: 8, [batch: 5376 / 6720], examples_per_second: 2582.2564, train_label_loss: 0.1148, \n"
     ]
    },
    {
     "name": "stdout",
     "output_type": "stream",
     "text": [
      "epoch: 8, [batch: 6048 / 6720], examples_per_second: 2808.2070, train_label_loss: 0.2346, \n"
     ]
    },
    {
     "name": "stdout",
     "output_type": "stream",
     "text": [
      "=============================================================\n",
      "epoch: 8, source_val_acc_label: 0.8978, target_val_acc_label: 0.5903, source_val_label_loss: 0.2806, target_val_label_loss: 9.6890, \n",
      "=============================================================\n"
     ]
    },
    {
     "name": "stdout",
     "output_type": "stream",
     "text": [
      "epoch: 9, [batch: 1 / 6720], examples_per_second: 2.2777, train_label_loss: 0.4345, \n"
     ]
    },
    {
     "name": "stdout",
     "output_type": "stream",
     "text": [
      "epoch: 9, [batch: 672 / 6720], examples_per_second: 2302.7587, train_label_loss: 0.3327, \n"
     ]
    },
    {
     "name": "stdout",
     "output_type": "stream",
     "text": [
      "epoch: 9, [batch: 1344 / 6720], examples_per_second: 2293.6278, train_label_loss: 0.2008, \n"
     ]
    },
    {
     "name": "stdout",
     "output_type": "stream",
     "text": [
      "epoch: 9, [batch: 2016 / 6720], examples_per_second: 2315.0015, train_label_loss: 0.1970, \n"
     ]
    },
    {
     "name": "stdout",
     "output_type": "stream",
     "text": [
      "epoch: 9, [batch: 2688 / 6720], examples_per_second: 2318.2562, train_label_loss: 0.3311, \n"
     ]
    },
    {
     "name": "stdout",
     "output_type": "stream",
     "text": [
      "epoch: 9, [batch: 3360 / 6720], examples_per_second: 2313.6182, train_label_loss: 0.4075, \n"
     ]
    },
    {
     "name": "stdout",
     "output_type": "stream",
     "text": [
      "epoch: 9, [batch: 4032 / 6720], examples_per_second: 2326.2728, train_label_loss: 0.2028, \n"
     ]
    },
    {
     "name": "stdout",
     "output_type": "stream",
     "text": [
      "epoch: 9, [batch: 4704 / 6720], examples_per_second: 2341.1917, train_label_loss: 0.1362, \n"
     ]
    },
    {
     "name": "stdout",
     "output_type": "stream",
     "text": [
      "epoch: 9, [batch: 5376 / 6720], examples_per_second: 2615.9077, train_label_loss: 0.1417, \n"
     ]
    },
    {
     "name": "stdout",
     "output_type": "stream",
     "text": [
      "epoch: 9, [batch: 6048 / 6720], examples_per_second: 2915.7304, train_label_loss: 0.2113, \n"
     ]
    },
    {
     "name": "stdout",
     "output_type": "stream",
     "text": [
      "=============================================================\n",
      "epoch: 9, source_val_acc_label: 0.8981, target_val_acc_label: 0.5887, source_val_label_loss: 0.2821, target_val_label_loss: 9.3397, \n",
      "=============================================================\n"
     ]
    },
    {
     "name": "stdout",
     "output_type": "stream",
     "text": [
      "epoch: 10, [batch: 1 / 6720], examples_per_second: 2.3782, train_label_loss: 0.2903, \n"
     ]
    },
    {
     "name": "stdout",
     "output_type": "stream",
     "text": [
      "epoch: 10, [batch: 672 / 6720], examples_per_second: 2633.0548, train_label_loss: 0.1196, \n"
     ]
    },
    {
     "name": "stdout",
     "output_type": "stream",
     "text": [
      "epoch: 10, [batch: 1344 / 6720], examples_per_second: 2588.8164, train_label_loss: 0.0824, \n"
     ]
    },
    {
     "name": "stdout",
     "output_type": "stream",
     "text": [
      "epoch: 10, [batch: 2016 / 6720], examples_per_second: 2541.5142, train_label_loss: 0.0684, \n"
     ]
    },
    {
     "name": "stdout",
     "output_type": "stream",
     "text": [
      "epoch: 10, [batch: 2688 / 6720], examples_per_second: 2491.2690, train_label_loss: 0.0203, \n"
     ]
    },
    {
     "name": "stdout",
     "output_type": "stream",
     "text": [
      "epoch: 10, [batch: 3360 / 6720], examples_per_second: 2592.7506, train_label_loss: 0.0636, \n"
     ]
    },
    {
     "name": "stdout",
     "output_type": "stream",
     "text": [
      "epoch: 10, [batch: 4032 / 6720], examples_per_second: 2641.5616, train_label_loss: 0.2218, \n"
     ]
    },
    {
     "name": "stdout",
     "output_type": "stream",
     "text": [
      "epoch: 10, [batch: 4704 / 6720], examples_per_second: 2724.5595, train_label_loss: 0.1496, \n"
     ]
    },
    {
     "name": "stdout",
     "output_type": "stream",
     "text": [
      "epoch: 10, [batch: 5376 / 6720], examples_per_second: 3202.2814, train_label_loss: 0.0265, \n"
     ]
    },
    {
     "name": "stdout",
     "output_type": "stream",
     "text": [
      "epoch: 10, [batch: 6048 / 6720], examples_per_second: 3465.9372, train_label_loss: 0.0980, \n"
     ]
    },
    {
     "name": "stdout",
     "output_type": "stream",
     "text": [
      "=============================================================\n",
      "epoch: 10, source_val_acc_label: 0.8987, target_val_acc_label: 0.5812, source_val_label_loss: 0.2792, target_val_label_loss: 10.8820, \n",
      "=============================================================\n"
     ]
    },
    {
     "name": "stdout",
     "output_type": "stream",
     "text": [
      "epoch: 11, [batch: 1 / 6720], examples_per_second: 3.1538, train_label_loss: 0.1018, \n"
     ]
    },
    {
     "name": "stdout",
     "output_type": "stream",
     "text": [
      "epoch: 11, [batch: 672 / 6720], examples_per_second: 3341.3706, train_label_loss: 0.2440, \n"
     ]
    },
    {
     "name": "stdout",
     "output_type": "stream",
     "text": [
      "epoch: 11, [batch: 1344 / 6720], examples_per_second: 3367.8819, train_label_loss: 0.2844, \n"
     ]
    },
    {
     "name": "stdout",
     "output_type": "stream",
     "text": [
      "epoch: 11, [batch: 2016 / 6720], examples_per_second: 3594.6504, train_label_loss: 0.3888, \n"
     ]
    },
    {
     "name": "stdout",
     "output_type": "stream",
     "text": [
      "epoch: 11, [batch: 2688 / 6720], examples_per_second: 3704.8903, train_label_loss: 0.0470, \n"
     ]
    },
    {
     "name": "stdout",
     "output_type": "stream",
     "text": [
      "epoch: 11, [batch: 3360 / 6720], examples_per_second: 4214.8387, train_label_loss: 0.4634, \n"
     ]
    },
    {
     "name": "stdout",
     "output_type": "stream",
     "text": [
      "epoch: 11, [batch: 4032 / 6720], examples_per_second: 4044.7261, train_label_loss: 0.2337, \n"
     ]
    },
    {
     "name": "stdout",
     "output_type": "stream",
     "text": [
      "epoch: 11, [batch: 4704 / 6720], examples_per_second: 3406.3096, train_label_loss: 0.1528, \n"
     ]
    },
    {
     "name": "stdout",
     "output_type": "stream",
     "text": [
      "epoch: 11, [batch: 5376 / 6720], examples_per_second: 3590.0264, train_label_loss: 0.0268, \n"
     ]
    },
    {
     "name": "stdout",
     "output_type": "stream",
     "text": [
      "epoch: 11, [batch: 6048 / 6720], examples_per_second: 3751.7679, train_label_loss: 0.5147, \n"
     ]
    },
    {
     "name": "stdout",
     "output_type": "stream",
     "text": [
      "=============================================================\n",
      "epoch: 11, source_val_acc_label: 0.9009, target_val_acc_label: 0.5830, source_val_label_loss: 0.2768, target_val_label_loss: 13.8801, \n",
      "=============================================================\n"
     ]
    },
    {
     "name": "stdout",
     "output_type": "stream",
     "text": [
      "Patience (3) exhausted\n"
     ]
    }
   ],
   "source": [
    "###################################\n",
    "# train\n",
    "###################################\n",
    "jig = PTN_Train_Eval_Test_Jig(model, p.BEST_MODEL_PATH, p.device)\n",
    "\n",
    "jig.train(\n",
    "    train_iterable=datasets.source.processed.train,\n",
    "    source_val_iterable=datasets.source.processed.val,\n",
    "    target_val_iterable=datasets.target.processed.val,\n",
    "    num_epochs=p.n_epoch,\n",
    "    num_logs_per_epoch=p.NUM_LOGS_PER_EPOCH,\n",
    "    patience=p.patience,\n",
    "    optimizer=optimizer,\n",
    "    criteria_for_best=p.criteria_for_best,\n",
    ")"
   ]
  },
  {
   "cell_type": "code",
   "execution_count": 23,
   "id": "31e8fabf",
   "metadata": {
    "execution": {
     "iopub.execute_input": "2022-03-21T12:43:38.292800Z",
     "iopub.status.busy": "2022-03-21T12:43:38.292099Z",
     "iopub.status.idle": "2022-03-21T12:43:38.326003Z",
     "shell.execute_reply": "2022-03-21T12:43:38.325294Z"
    },
    "papermill": {
     "duration": 0.094509,
     "end_time": "2022-03-21T12:43:38.326161",
     "exception": false,
     "start_time": "2022-03-21T12:43:38.231652",
     "status": "completed"
    },
    "tags": []
   },
   "outputs": [],
   "source": [
    "total_experiment_time_secs = time.time() - start_time_secs"
   ]
  },
  {
   "cell_type": "code",
   "execution_count": 24,
   "id": "87b9595b",
   "metadata": {
    "execution": {
     "iopub.execute_input": "2022-03-21T12:43:38.451069Z",
     "iopub.status.busy": "2022-03-21T12:43:38.450678Z",
     "iopub.status.idle": "2022-03-21T12:47:57.325125Z",
     "shell.execute_reply": "2022-03-21T12:47:57.324388Z"
    },
    "papermill": {
     "duration": 258.93884,
     "end_time": "2022-03-21T12:47:57.325316",
     "exception": false,
     "start_time": "2022-03-21T12:43:38.386476",
     "status": "completed"
    },
    "tags": []
   },
   "outputs": [],
   "source": [
    "###################################\n",
    "# Evaluate the model\n",
    "###################################\n",
    "source_test_label_accuracy, source_test_label_loss = jig.test(datasets.source.processed.test)\n",
    "target_test_label_accuracy, target_test_label_loss = jig.test(datasets.target.processed.test)\n",
    "\n",
    "source_val_label_accuracy, source_val_label_loss = jig.test(datasets.source.processed.val)\n",
    "target_val_label_accuracy, target_val_label_loss = jig.test(datasets.target.processed.val)\n",
    "\n",
    "history = jig.get_history()\n",
    "\n",
    "total_epochs_trained = len(history[\"epoch_indices\"])\n",
    "\n",
    "val_dl = Iterable_Aggregator((datasets.source.original.val,datasets.target.original.val))\n",
    "\n",
    "confusion = ptn_confusion_by_domain_over_dataloader(model, p.device, val_dl)\n",
    "per_domain_accuracy = per_domain_accuracy_from_confusion(confusion)\n",
    "\n",
    "# Add a key to per_domain_accuracy for if it was a source domain\n",
    "for domain, accuracy in per_domain_accuracy.items():\n",
    "    per_domain_accuracy[domain] = {\n",
    "        \"accuracy\": accuracy,\n",
    "        \"source?\": domain in p.domains_source\n",
    "    }\n",
    "\n",
    "# Do an independent accuracy assesment JUST TO BE SURE!\n",
    "# _source_test_label_accuracy = independent_accuracy_assesment(model, datasets.source.processed.test, p.device)\n",
    "# _target_test_label_accuracy = independent_accuracy_assesment(model, datasets.target.processed.test, p.device)\n",
    "# _source_val_label_accuracy = independent_accuracy_assesment(model, datasets.source.processed.val, p.device)\n",
    "# _target_val_label_accuracy = independent_accuracy_assesment(model, datasets.target.processed.val, p.device)\n",
    "\n",
    "# assert(_source_test_label_accuracy == source_test_label_accuracy)\n",
    "# assert(_target_test_label_accuracy == target_test_label_accuracy)\n",
    "# assert(_source_val_label_accuracy == source_val_label_accuracy)\n",
    "# assert(_target_val_label_accuracy == target_val_label_accuracy)\n",
    "\n",
    "experiment = {\n",
    "    \"experiment_name\": p.experiment_name,\n",
    "    \"parameters\": dict(p),\n",
    "    \"results\": {\n",
    "        \"source_test_label_accuracy\": source_test_label_accuracy,\n",
    "        \"source_test_label_loss\": source_test_label_loss,\n",
    "        \"target_test_label_accuracy\": target_test_label_accuracy,\n",
    "        \"target_test_label_loss\": target_test_label_loss,\n",
    "        \"source_val_label_accuracy\": source_val_label_accuracy,\n",
    "        \"source_val_label_loss\": source_val_label_loss,\n",
    "        \"target_val_label_accuracy\": target_val_label_accuracy,\n",
    "        \"target_val_label_loss\": target_val_label_loss,\n",
    "        \"total_epochs_trained\": total_epochs_trained,\n",
    "        \"total_experiment_time_secs\": total_experiment_time_secs,\n",
    "        \"confusion\": confusion,\n",
    "        \"per_domain_accuracy\": per_domain_accuracy,\n",
    "    },\n",
    "    \"history\": history,\n",
    "    \"dataset_metrics\": get_dataset_metrics(datasets, \"ptn\"),\n",
    "}"
   ]
  },
  {
   "cell_type": "code",
   "execution_count": 25,
   "id": "54a21829",
   "metadata": {
    "execution": {
     "iopub.execute_input": "2022-03-21T12:47:57.449656Z",
     "iopub.status.busy": "2022-03-21T12:47:57.449132Z",
     "iopub.status.idle": "2022-03-21T12:47:57.666574Z",
     "shell.execute_reply": "2022-03-21T12:47:57.665846Z"
    },
    "papermill": {
     "duration": 0.279391,
     "end_time": "2022-03-21T12:47:57.666737",
     "exception": false,
     "start_time": "2022-03-21T12:47:57.387346",
     "status": "completed"
    },
    "tags": []
   },
   "outputs": [
    {
     "data": {
      "image/png": "[encoded data removed]",
      "text/plain": [
       "<Figure size 1080x504 with 1 Axes>"
      ]
     },
     "metadata": {
      "needs_background": "light"
     },
     "output_type": "display_data"
    }
   ],
   "source": [
    "ax = get_loss_curve(experiment)\n",
    "plt.show()"
   ]
  },
  {
   "cell_type": "code",
   "execution_count": 26,
   "id": "fd8a0f60",
   "metadata": {
    "execution": {
     "iopub.execute_input": "2022-03-21T12:47:57.793316Z",
     "iopub.status.busy": "2022-03-21T12:47:57.792943Z",
     "iopub.status.idle": "2022-03-21T12:47:58.172474Z",
     "shell.execute_reply": "2022-03-21T12:47:58.173154Z"
    },
    "papermill": {
     "duration": 0.44278,
     "end_time": "2022-03-21T12:47:58.173343",
     "exception": false,
     "start_time": "2022-03-21T12:47:57.730563",
     "status": "completed"
    },
    "tags": []
   },
   "outputs": [
    {
     "data": {
      "text/plain": [
       "<AxesSubplot:title={'center':'Results'}>"
      ]
     },
     "execution_count": 26,
     "metadata": {},
     "output_type": "execute_result"
    },
    {
     "data": {
      "image/png": "[encoded data removed]",
      "text/plain": [
       "<Figure size 1080x504 with 1 Axes>"
      ]
     },
     "metadata": {
      "needs_background": "light"
     },
     "output_type": "display_data"
    }
   ],
   "source": [
    "get_results_table(experiment)"
   ]
  },
  {
   "cell_type": "code",
   "execution_count": 27,
   "id": "cf8dc689",
   "metadata": {
    "execution": {
     "iopub.execute_input": "2022-03-21T12:47:58.301121Z",
     "iopub.status.busy": "2022-03-21T12:47:58.300743Z",
     "iopub.status.idle": "2022-03-21T12:47:58.553866Z",
     "shell.execute_reply": "2022-03-21T12:47:58.553040Z"
    },
    "papermill": {
     "duration": 0.316785,
     "end_time": "2022-03-21T12:47:58.554038",
     "exception": false,
     "start_time": "2022-03-21T12:47:58.237253",
     "status": "completed"
    },
    "tags": []
   },
   "outputs": [
    {
     "data": {
      "text/plain": [
       "<AxesSubplot:title={'center':'Per Domain Validation Accuracy'}, xlabel='domain'>"
      ]
     },
     "execution_count": 27,
     "metadata": {},
     "output_type": "execute_result"
    },
    {
     "data": {
      "image/png": "[encoded data removed]",
      "text/plain": [
       "<Figure size 1080x504 with 1 Axes>"
      ]
     },
     "metadata": {
      "needs_background": "light"
     },
     "output_type": "display_data"
    }
   ],
   "source": [
    "get_domain_accuracies(experiment)"
   ]
  },
  {
   "cell_type": "code",
   "execution_count": 28,
   "id": "a74ae082",
   "metadata": {
    "execution": {
     "iopub.execute_input": "2022-03-21T12:47:58.688459Z",
     "iopub.status.busy": "2022-03-21T12:47:58.688072Z",
     "iopub.status.idle": "2022-03-21T12:47:58.714166Z",
     "shell.execute_reply": "2022-03-21T12:47:58.713441Z"
    },
    "papermill": {
     "duration": 0.09154,
     "end_time": "2022-03-21T12:47:58.714329",
     "exception": false,
     "start_time": "2022-03-21T12:47:58.622789",
     "status": "completed"
    },
    "tags": []
   },
   "outputs": [
    {
     "name": "stdout",
     "output_type": "stream",
     "text": [
      "Source Test Label Accuracy: 0.8932291666666666 Target Test Label Accuracy: 0.6114583333333333\n",
      "Source Val Label Accuracy: 0.89208984375 Target Val Label Accuracy: 0.6126060445387063\n"
     ]
    }
   ],
   "source": [
    "print(\"Source Test Label Accuracy:\", experiment[\"results\"][\"source_test_label_accuracy\"], \"Target Test Label Accuracy:\", experiment[\"results\"][\"target_test_label_accuracy\"])\n",
    "print(\"Source Val Label Accuracy:\", experiment[\"results\"][\"source_val_label_accuracy\"], \"Target Val Label Accuracy:\", experiment[\"results\"][\"target_val_label_accuracy\"])"
   ]
  },
  {
   "cell_type": "code",
   "execution_count": 29,
   "id": "dacca602",
   "metadata": {
    "execution": {
     "iopub.execute_input": "2022-03-21T12:47:58.847827Z",
     "iopub.status.busy": "2022-03-21T12:47:58.847439Z",
     "iopub.status.idle": "2022-03-21T12:47:58.878586Z",
     "shell.execute_reply": "2022-03-21T12:47:58.879265Z"
    },
    "papermill": {
     "duration": 0.098054,
     "end_time": "2022-03-21T12:47:58.879457",
     "exception": false,
     "start_time": "2022-03-21T12:47:58.781403",
     "status": "completed"
    },
    "tags": [
     "experiment_json"
    ]
   },
   "outputs": [
    {
     "data": {
      "text/plain": [
       "'{\"experiment_name\": \"tl_1v2:wisig-oracle.run1.framed\", \"parameters\": {\"experiment_name\": \"tl_1v2:wisig-oracle.run1.framed\", \"device\": \"cuda\", \"lr\": 0.0001, \"n_shot\": 3, \"n_query\": 2, \"train_k_factor\": 3, \"val_k_factor\": 2, \"test_k_factor\": 2, \"torch_default_dtype\": \"torch.float32\", \"n_epoch\": 50, \"patience\": 3, \"criteria_for_best\": \"target_accuracy\", \"x_net\": [{\"class\": \"nnReshape\", \"kargs\": {\"shape\": [-1, 1, 2, 256]}}, {\"class\": \"Conv2d\", \"kargs\": {\"in_channels\": 1, \"out_channels\": 256, \"kernel_size\": [1, 7], \"bias\": false, \"padding\": [0, 3]}}, {\"class\": \"ReLU\", \"kargs\": {\"inplace\": true}}, {\"class\": \"BatchNorm2d\", \"kargs\": {\"num_features\": 256}}, {\"class\": \"Conv2d\", \"kargs\": {\"in_channels\": 256, \"out_channels\": 80, \"kernel_size\": [2, 7], \"bias\": true, \"padding\": [0, 3]}}, {\"class\": \"ReLU\", \"kargs\": {\"inplace\": true}}, {\"class\": \"BatchNorm2d\", \"kargs\": {\"num_features\": 80}}, {\"class\": \"Flatten\", \"kargs\": {}}, {\"class\": \"Linear\", \"kargs\": {\"in_features\": 20480, \"out_features\": 256}}, {\"class\": \"ReLU\", \"kargs\": {\"inplace\": true}}, {\"class\": \"BatchNorm1d\", \"kargs\": {\"num_features\": 256}}, {\"class\": \"Linear\", \"kargs\": {\"in_features\": 256, \"out_features\": 256}}], \"NUM_LOGS_PER_EPOCH\": 10, \"BEST_MODEL_PATH\": \"./best_model.pth\", \"n_way\": 16, \"datasets\": [{\"labels\": [\"1-10\", \"1-12\", \"1-14\", \"1-16\", \"1-18\", \"1-19\", \"1-8\", \"10-11\", \"10-17\", \"10-4\", \"10-7\", \"11-1\", \"11-10\", \"11-19\", \"11-20\", \"11-4\", \"11-7\", \"12-19\", \"12-20\", \"12-7\", \"13-14\", \"13-18\", \"13-19\", \"13-20\", \"13-3\", \"13-7\", \"14-10\", \"14-11\", \"14-12\", \"14-13\", \"14-14\", \"14-19\", \"14-20\", \"14-7\", \"14-8\", \"14-9\", \"15-1\", \"15-19\", \"15-6\", \"16-1\", \"16-16\", \"16-19\", \"16-20\", \"17-10\", \"17-11\", \"18-1\", \"18-10\", \"18-11\", \"18-12\", \"18-13\", \"18-14\", \"18-15\", \"18-16\", \"18-17\", \"18-19\", \"18-2\", \"18-20\", \"18-4\", \"18-5\", \"18-7\", \"18-8\", \"18-9\", \"19-1\", \"19-10\", \"19-11\", \"19-12\", \"19-13\", \"19-14\", \"19-15\", \"19-19\", \"19-2\", \"19-20\", \"19-3\", \"19-4\", \"19-6\", \"19-7\", \"19-8\", \"19-9\", \"2-1\", \"2-13\", \"2-15\", \"2-3\", \"2-4\", \"2-5\", \"2-6\", \"2-7\", \"2-8\", \"20-1\", \"20-12\", \"20-14\", \"20-15\", \"20-16\", \"20-18\", \"20-19\", \"20-20\", \"20-3\", \"20-4\", \"20-5\", \"20-7\", \"20-8\", \"3-1\", \"3-13\", \"3-18\", \"3-2\", \"3-8\", \"4-1\", \"4-10\", \"4-11\", \"5-1\", \"5-5\", \"6-1\", \"6-15\", \"6-6\", \"7-10\", \"7-11\", \"7-12\", \"7-13\", \"7-14\", \"7-7\", \"7-8\", \"7-9\", \"8-1\", \"8-13\", \"8-14\", \"8-18\", \"8-20\", \"8-3\", \"8-8\", \"9-1\", \"9-7\"], \"domains\": [1, 2, 3, 4], \"num_examples_per_domain_per_label\": -1, \"pickle_path\": \"/root/csc500-main/datasets/wisig.node3-19.stratified_ds.2022A.pkl\", \"source_or_target_dataset\": \"target\", \"x_transforms\": [\"unit_power\"], \"episode_transforms\": [], \"domain_prefix\": \"Wisig_\"}, {\"labels\": [\"3123D52\", \"3123D65\", \"3123D79\", \"3123D80\", \"3123D54\", \"3123D70\", \"3123D7B\", \"3123D89\", \"3123D58\", \"3123D76\", \"3123D7D\", \"3123EFE\", \"3123D64\", \"3123D78\", \"3123D7E\", \"3124E4A\"], \"domains\": [32, 38, 8, 44, 14, 50, 20, 26], \"num_examples_per_domain_per_label\": 2000, \"pickle_path\": \"/root/csc500-main/datasets/oracle.Run1_framed_2000Examples_stratified_ds.2022A.pkl\", \"source_or_target_dataset\": \"source\", \"x_transforms\": [\"unit_power\"], \"episode_transforms\": [], \"domain_prefix\": \"ORACLE.run1\"}], \"dataset_seed\": 154325, \"seed\": 154325, \"x_shape\": [2, 256], \"domains_source\": [\"ORACLE.run132\", \"ORACLE.run138\", \"ORACLE.run18\", \"ORACLE.run144\", \"ORACLE.run114\", \"ORACLE.run150\", \"ORACLE.run120\", \"ORACLE.run126\"], \"domains_target\": [\"Wisig_1\", \"Wisig_2\", \"Wisig_3\", \"Wisig_4\"]}, \"results\": {\"source_test_label_accuracy\": 0.8932291666666666, \"source_test_label_loss\": 0.3008377254009247, \"target_test_label_accuracy\": 0.6114583333333333, \"target_test_label_loss\": 7.530551910400391, \"source_val_label_accuracy\": 0.89208984375, \"source_val_label_loss\": 0.30156227946281433, \"target_val_label_accuracy\": 0.6126060445387063, \"target_val_label_loss\": 7.486204147338867, \"total_epochs_trained\": 11, \"total_experiment_time_secs\": 2831.7091517448425, \"confusion\": {\"ORACLE.run18\": {\"13\": {\"10\": 36, \"13\": 148, \"0\": 19, \"6\": 15, \"4\": 19, \"14\": 2, \"7\": 1}, \"9\": {\"9\": 240}, \"15\": {\"15\": 229, \"12\": 11}, \"2\": {\"2\": 233, \"7\": 3, \"3\": 4}, \"3\": {\"3\": 240}, \"8\": {\"8\": 238, \"15\": 1, \"12\": 1}, \"5\": {\"1\": 5, \"5\": 232, \"10\": 1, \"14\": 2}, \"14\": {\"14\": 200, \"4\": 22, \"10\": 8, \"13\": 2, \"1\": 8}, \"1\": {\"1\": 238, \"14\": 1, \"11\": 1}, \"0\": {\"0\": 216, \"13\": 13, \"14\": 3, \"7\": 7, \"10\": 1}, \"10\": {\"10\": 224, \"13\": 9, \"14\": 5, \"4\": 2}, \"6\": {\"6\": 189, \"7\": 35, \"4\": 13, \"0\": 2, \"13\": 1}, \"11\": {\"11\": 239, \"1\": 1}, \"7\": {\"6\": 32, \"7\": 207, \"0\": 1}, \"4\": {\"4\": 191, \"6\": 16, \"13\": 24, \"14\": 6, \"0\": 2, \"10\": 1}, \"12\": {\"12\": 196, \"15\": 36, \"3\": 8}}, \"ORACLE.run138\": {\"13\": {\"13\": 232, \"2\": 2, \"10\": 4, \"15\": 2}, \"12\": {\"12\": 240}, \"2\": {\"2\": 229, \"10\": 1, \"13\": 4, \"14\": 6}, \"9\": {\"9\": 235, \"5\": 2, \"6\": 3}, \"15\": {\"15\": 219, \"5\": 3, \"1\": 11, \"8\": 6, \"13\": 1}, \"5\": {\"5\": 165, \"7\": 22, \"8\": 44, \"0\": 1, \"9\": 3, \"15\": 1, \"6\": 3, \"13\": 1}, \"14\": {\"14\": 236, \"2\": 3, \"10\": 1}, \"0\": {\"0\": 211, \"7\": 9, \"3\": 5, \"8\": 13, \"5\": 1, \"13\": 1}, \"3\": {\"3\": 238, \"0\": 2}, \"1\": {\"1\": 235, \"15\": 5}, \"11\": {\"11\": 240}, \"7\": {\"7\": 222, \"5\": 4, \"0\": 3, \"8\": 11}, \"8\": {\"8\": 181, \"15\": 2, \"5\": 35, \"0\": 12, \"13\": 3, \"7\": 7}, \"4\": {\"4\": 240}, \"10\": {\"10\": 231, \"13\": 8, \"7\": 1}, \"6\": {\"6\": 238, \"9\": 2}}, \"ORACLE.run126\": {\"10\": {\"0\": 72, \"8\": 27, \"10\": 122, \"4\": 3, \"14\": 13, \"6\": 3}, \"12\": {\"12\": 240}, \"1\": {\"1\": 227, \"4\": 3, \"14\": 8, \"10\": 1, \"7\": 1}, \"0\": {\"0\": 118, \"4\": 12, \"8\": 17, \"10\": 59, \"7\": 1, \"14\": 32, \"6\": 1}, \"15\": {\"15\": 201, \"9\": 17, \"6\": 7, \"8\": 3, \"2\": 4, \"7\": 4, \"10\": 3, \"13\": 1}, \"13\": {\"13\": 210, \"5\": 19, \"15\": 1, \"2\": 7, \"9\": 3}, \"8\": {\"8\": 133, \"10\": 38, \"4\": 10, \"0\": 32, \"14\": 11, \"7\": 11, \"2\": 2, \"15\": 2, \"1\": 1}, \"3\": {\"3\": 205, \"2\": 28, \"7\": 7}, \"11\": {\"11\": 240}, \"4\": {\"4\": 190, \"8\": 10, \"0\": 10, \"14\": 17, \"7\": 7, \"10\": 4, \"1\": 2}, \"6\": {\"6\": 234, \"15\": 2, \"8\": 2, \"0\": 1, \"10\": 1}, \"7\": {\"7\": 209, \"8\": 5, \"2\": 9, \"3\": 8, \"4\": 7, \"0\": 1, \"1\": 1}, \"14\": {\"0\": 35, \"10\": 14, \"14\": 156, \"4\": 24, \"1\": 7, \"8\": 4}, \"2\": {\"2\": 143, \"7\": 20, \"5\": 10, \"3\": 49, \"15\": 7, \"8\": 6, \"13\": 4, \"9\": 1}, \"5\": {\"5\": 219, \"13\": 13, \"2\": 5, \"3\": 2, \"15\": 1}, \"9\": {\"9\": 214, \"15\": 18, \"13\": 5, \"6\": 3}}, \"ORACLE.run120\": {\"5\": {\"5\": 215, \"0\": 14, \"1\": 5, \"15\": 4, \"12\": 2}, \"15\": {\"15\": 230, \"0\": 5, \"1\": 3, \"5\": 1, \"12\": 1}, \"9\": {\"9\": 191, \"3\": 9, \"2\": 17, \"12\": 21, \"1\": 2}, \"7\": {\"4\": 2, \"7\": 223, \"2\": 12, \"8\": 1, \"3\": 2}, \"3\": {\"3\": 189, \"12\": 30, \"9\": 10, \"2\": 3, \"1\": 2, \"10\": 2, \"4\": 2, \"7\": 2}, \"8\": {\"8\": 232, \"7\": 1, \"4\": 7}, \"4\": {\"4\": 236, \"8\": 3, \"10\": 1}, \"6\": {\"6\": 236, \"14\": 4}, \"2\": {\"2\": 178, \"7\": 8, \"9\": 30, \"12\": 11, \"3\": 9, \"13\": 4}, \"12\": {\"12\": 169, \"1\": 37, \"3\": 19, \"9\": 6, \"2\": 9}, \"0\": {\"0\": 214, \"5\": 15, \"7\": 1, \"15\": 10}, \"13\": {\"13\": 237, \"5\": 1, \"2\": 2}, \"10\": {\"10\": 240}, \"11\": {\"11\": 240}, \"14\": {\"14\": 235, \"8\": 1, \"6\": 4}, \"1\": {\"1\": 196, \"12\": 35, \"15\": 7, \"5\": 2}}, \"ORACLE.run150\": {\"1\": {\"1\": 214, \"4\": 6, \"5\": 3, \"11\": 5, \"15\": 10, \"13\": 1, \"6\": 1}, \"2\": {\"2\": 230, \"0\": 10}, \"8\": {\"8\": 238, \"3\": 2}, \"7\": {\"7\": 215, \"13\": 6, \"5\": 14, \"6\": 4, \"4\": 1}, \"14\": {\"14\": 240}, \"6\": {\"6\": 234, \"13\": 1, \"7\": 3, \"4\": 1, \"15\": 1}, \"3\": {\"3\": 237, \"8\": 3}, \"4\": {\"4\": 170, \"6\": 3, \"5\": 43, \"15\": 16, \"11\": 3, \"7\": 1, \"1\": 4}, \"12\": {\"12\": 230, \"9\": 8, \"11\": 2}, \"15\": {\"15\": 208, \"1\": 10, \"11\": 4, \"4\": 15, \"6\": 3}, \"11\": {\"11\": 224, \"15\": 14, \"9\": 1, \"12\": 1}, \"0\": {\"0\": 219, \"10\": 5, \"2\": 15, \"13\": 1}, \"9\": {\"9\": 237, \"12\": 2, \"11\": 1}, \"10\": {\"10\": 233, \"0\": 1, \"8\": 2, \"13\": 4}, \"5\": {\"1\": 5, \"5\": 182, \"4\": 26, \"7\": 16, \"13\": 9, \"9\": 2}, \"13\": {\"7\": 4, \"13\": 224, \"10\": 2, \"6\": 3, \"5\": 7}}, \"ORACLE.run132\": {\"2\": {\"2\": 210, \"4\": 29, \"5\": 1}, \"6\": {\"6\": 240}, \"5\": {\"5\": 168, \"7\": 39, \"13\": 5, \"3\": 9, \"8\": 7, \"4\": 6, \"0\": 4, \"14\": 2}, \"12\": {\"12\": 240}, \"13\": {\"13\": 210, \"3\": 8, \"4\": 13, \"7\": 3, \"5\": 5, \"8\": 1}, \"9\": {\"9\": 240}, \"11\": {\"11\": 236, \"14\": 4}, \"1\": {\"1\": 238, \"10\": 2}, \"3\": {\"3\": 238, \"13\": 2}, \"7\": {\"7\": 168, \"13\": 3, \"5\": 46, \"4\": 11, \"14\": 9, \"8\": 1, \"2\": 2}, \"14\": {\"14\": 195, \"0\": 21, \"11\": 13, \"5\": 2, \"7\": 7, \"8\": 2}, \"8\": {\"8\": 211, \"0\": 19, \"13\": 3, \"3\": 2, \"5\": 5}, \"4\": {\"4\": 209, \"7\": 9, \"2\": 18, \"13\": 2, \"5\": 2}, \"0\": {\"0\": 216, \"8\": 11, \"14\": 10, \"7\": 1, \"13\": 1, \"4\": 1}, \"10\": {\"10\": 236, \"1\": 4}, \"15\": {\"15\": 240}}, \"ORACLE.run144\": {\"13\": {\"13\": 191, \"6\": 27, \"9\": 22}, \"4\": {\"4\": 183, \"14\": 55, \"13\": 1, \"15\": 1}, \"6\": {\"13\": 27, \"6\": 192, \"7\": 5, \"9\": 16}, \"0\": {\"0\": 190, \"8\": 39, \"5\": 5, \"15\": 6}, \"10\": {\"10\": 218, \"1\": 15, \"2\": 6, \"12\": 1}, \"7\": {\"7\": 185, \"2\": 19, \"9\": 33, \"6\": 3}, \"14\": {\"14\": 178, \"4\": 50, \"15\": 8, \"5\": 4}, \"15\": {\"15\": 207, \"14\": 7, \"0\": 16, \"5\": 5, \"8\": 4, \"4\": 1}, \"5\": {\"5\": 216, \"8\": 2, \"0\": 11, \"15\": 6, \"14\": 5}, \"2\": {\"2\": 217, \"1\": 3, \"10\": 7, \"7\": 13}, \"9\": {\"9\": 171, \"13\": 17, \"7\": 31, \"6\": 21}, \"12\": {\"12\": 221, \"1\": 14, \"10\": 2, \"3\": 3}, \"8\": {\"8\": 152, \"0\": 74, \"15\": 10, \"5\": 4}, \"3\": {\"3\": 235, \"1\": 5}, \"1\": {\"1\": 208, \"12\": 15, \"10\": 10, \"3\": 6, \"2\": 1}, \"11\": {\"11\": 238, \"13\": 2}}, \"ORACLE.run114\": {\"1\": {\"1\": 234, \"5\": 6}, \"15\": {\"15\": 240}, \"10\": {\"10\": 240}, \"2\": {\"3\": 7, \"2\": 169, \"14\": 43, \"5\": 13, \"6\": 8}, \"9\": {\"9\": 240}, \"5\": {\"5\": 215, \"1\": 6, \"3\": 3, \"2\": 4, \"4\": 12}, \"7\": {\"7\": 240}, \"13\": {\"13\": 171, \"6\": 56, \"2\": 4, \"14\": 6, \"4\": 2, \"5\": 1}, \"8\": {\"8\": 240}, \"6\": {\"6\": 208, \"13\": 29, \"14\": 1, \"2\": 2}, \"3\": {\"3\": 235, \"2\": 3, \"4\": 1, \"5\": 1}, \"12\": {\"12\": 240}, \"0\": {\"0\": 237, \"10\": 1, \"3\": 2}, \"4\": {\"4\": 234, \"5\": 6}, \"14\": {\"14\": 219, \"2\": 18, \"13\": 1, \"6\": 1, \"3\": 1}, \"11\": {\"11\": 237, \"9\": 2, \"0\": 1}}, \"Wisig_2\": {\"56\": {\"56\": 8, \"122\": 1, \"114\": 1, \"110\": 1, \"124\": 1}, \"12\": {\"12\": 45, \"122\": 2, \"74\": 1, \"56\": 1, \"91\": 1, \"68\": 3, \"114\": 2, \"0\": 6, \"104\": 1, \"8\": 2, \"88\": 1, \"127\": 3, \"98\": 2, \"111\": 2, \"30\": 3, \"7\": 2, \"71\": 2, \"24\": 2, \"39\": 1, \"108\": 3, \"4\": 1, \"26\": 1, \"70\": 1}, \"15\": {\"15\": 59, \"113\": 2, \"127\": 8, \"0\": 1, \"77\": 1, \"36\": 10, \"106\": 6, \"51\": 1, \"12\": 1, \"111\": 6, \"6\": 1, \"24\": 4, \"101\": 3, \"94\": 4, \"30\": 3, \"125\": 4, \"93\": 1, \"117\": 1}, \"26\": {\"117\": 2, \"26\": 104, \"102\": 7, \"69\": 11, \"109\": 1, \"18\": 3, \"39\": 2, \"21\": 1, \"90\": 1}, \"82\": {\"82\": 34, \"14\": 1, \"92\": 1}, \"9\": {\"9\": 29, \"6\": 1, \"103\": 1, \"51\": 1}, \"49\": {\"12\": 2, \"122\": 2, \"41\": 1, \"49\": 7, \"3\": 2, \"7\": 1, \"11\": 1, \"15\": 1, \"112\": 1, \"73\": 1, \"30\": 1, \"98\": 3, \"71\": 1}, \"55\": {\"82\": 2, \"55\": 11, \"50\": 1, \"37\": 2}, \"102\": {\"102\": 109, \"69\": 9, \"84\": 1, \"126\": 1, \"13\": 1, \"118\": 1, \"70\": 1, \"90\": 1}, \"85\": {\"85\": 19, \"55\": 3, \"73\": 1, \"40\": 1, \"86\": 1, \"5\": 1, \"112\": 1, \"28\": 1, \"107\": 1, \"62\": 1, \"4\": 2}, \"73\": {\"73\": 23, \"129\": 2, \"61\": 1, \"71\": 1, \"66\": 1}, \"47\": {\"49\": 1, \"47\": 6, \"127\": 1, \"84\": 1, \"128\": 1, \"94\": 1, \"85\": 1}, \"20\": {\"20\": 16}, \"117\": {\"117\": 100, \"99\": 1, \"88\": 1, \"18\": 7, \"39\": 4, \"21\": 3}, \"122\": {\"122\": 54, \"49\": 2, \"87\": 1, \"19\": 2, \"128\": 2, \"26\": 1, \"3\": 3, \"43\": 3, \"4\": 4, \"129\": 2, \"34\": 2, \"117\": 1, \"95\": 3, \"5\": 9, \"70\": 5, \"110\": 1, \"124\": 1, \"114\": 9, \"10\": 2, \"40\": 4, \"7\": 1, \"108\": 3, \"105\": 3, \"24\": 2, \"62\": 1, \"111\": 1, \"127\": 1, \"88\": 1, \"16\": 1, \"53\": 1, \"54\": 1, \"74\": 1, \"71\": 3, \"11\": 2, \"12\": 1, \"39\": 1, \"27\": 1, \"102\": 1, \"8\": 2, \"1\": 1}, \"113\": {\"117\": 3, \"113\": 50, \"99\": 1, \"26\": 1, \"39\": 3, \"88\": 1, \"18\": 9, \"109\": 1, \"81\": 1, \"21\": 1, \"60\": 1}, \"87\": {\"87\": 35, \"126\": 6, \"53\": 1, \"23\": 1, \"83\": 1, \"39\": 4, \"118\": 5, \"84\": 8, \"102\": 10, \"11\": 1, \"90\": 4, \"88\": 4, \"33\": 7, \"16\": 4, \"62\": 1, \"69\": 3, \"93\": 3, \"70\": 3, \"116\": 1, \"44\": 1, \"47\": 1, \"100\": 1, \"71\": 1, \"21\": 1, \"43\": 2, \"109\": 2, \"26\": 1}, \"21\": {\"21\": 31, \"109\": 1, \"88\": 4, \"113\": 2, \"78\": 2, \"18\": 1, \"87\": 1, \"120\": 2, \"16\": 1, \"39\": 1, \"117\": 1, \"90\": 1}, \"106\": {\"106\": 81, \"52\": 1, \"101\": 4, \"25\": 1, \"15\": 10, \"99\": 1, \"6\": 1, \"125\": 2, \"94\": 4, \"122\": 1, \"36\": 4, \"27\": 2, \"90\": 2, \"17\": 2, \"111\": 1, \"24\": 2, \"117\": 1}, \"3\": {\"3\": 105, \"129\": 1, \"71\": 3, \"11\": 4, \"88\": 1, \"10\": 3, \"7\": 6, \"1\": 4, \"5\": 3, \"56\": 2, \"4\": 1, \"122\": 1, \"113\": 1, \"26\": 1}, \"126\": {\"126\": 51, \"23\": 2, \"119\": 3, \"44\": 4, \"38\": 3, \"1\": 5, \"36\": 1, \"33\": 5, \"93\": 2, \"80\": 1, \"22\": 2, \"87\": 7, \"83\": 2, \"84\": 2, \"118\": 1, \"43\": 5, \"14\": 1, \"109\": 2, \"88\": 7, \"62\": 1, \"105\": 1, \"70\": 5, \"90\": 3, \"16\": 2, \"47\": 1, \"39\": 1}, \"41\": {\"49\": 2, \"41\": 9, \"7\": 1, \"90\": 1, \"101\": 1, \"108\": 3, \"12\": 1, \"77\": 1, \"91\": 1}, \"76\": {\"76\": 11, \"7\": 1, \"89\": 1, \"17\": 1, \"37\": 2}, \"60\": {\"126\": 2, \"84\": 1, \"60\": 17, \"44\": 1, \"83\": 1, \"118\": 1, \"22\": 1, \"109\": 1, \"33\": 1, \"47\": 1, \"102\": 1}, \"94\": {\"12\": 5, \"41\": 1, \"58\": 1, \"120\": 1, \"18\": 1, \"98\": 4, \"27\": 2, \"6\": 3, \"79\": 1, \"25\": 1, \"65\": 1, \"94\": 16, \"127\": 3, \"30\": 3, \"23\": 1, \"15\": 7, \"24\": 1, \"111\": 3, \"54\": 1, \"13\": 1, \"7\": 1, \"36\": 3, \"0\": 1, \"126\": 1, \"125\": 1}, \"50\": {\"50\": 14, \"55\": 2}, \"97\": {\"12\": 2, \"97\": 8, \"77\": 1, \"101\": 1, \"15\": 2, \"103\": 2, \"58\": 1, \"127\": 1, \"52\": 2}, \"115\": {\"115\": 11, \"107\": 1}, \"38\": {\"38\": 13, \"83\": 1, \"126\": 2}, \"43\": {\"47\": 2, \"93\": 1, \"43\": 42, \"20\": 1, \"44\": 1, \"80\": 2, \"40\": 3, \"116\": 1, \"78\": 4, \"107\": 1, \"118\": 1, \"60\": 1, \"11\": 1, \"126\": 5, \"3\": 5, \"1\": 13, \"62\": 2, \"84\": 3, \"70\": 7, \"33\": 4, \"5\": 5, \"113\": 2, \"122\": 1, \"105\": 9, \"88\": 3, \"129\": 1, \"73\": 1, \"14\": 1, \"109\": 1}, \"67\": {\"67\": 12, \"76\": 2, \"50\": 2}, \"18\": {\"18\": 82, \"65\": 3, \"117\": 19, \"113\": 5, \"102\": 1, \"39\": 1, \"2\": 2, \"88\": 2, \"33\": 1, \"120\": 1, \"26\": 5, \"81\": 1, \"87\": 1, \"93\": 3, \"90\": 1}, \"23\": {\"127\": 1, \"63\": 1, \"126\": 2, \"93\": 1, \"12\": 4, \"121\": 2, \"23\": 8, \"122\": 2, \"117\": 2, \"16\": 1, \"54\": 1, \"81\": 1, \"71\": 3, \"0\": 2, \"29\": 1, \"87\": 1, \"101\": 2, \"128\": 1, \"57\": 1, \"8\": 1, \"7\": 1, \"18\": 1, \"32\": 1, \"98\": 1, \"113\": 1, \"108\": 1}, \"63\": {\"63\": 20}, \"127\": {\"127\": 103, \"0\": 3, \"16\": 1, \"30\": 2, \"108\": 4, \"111\": 3, \"39\": 1, \"41\": 1, \"113\": 1, \"98\": 1, \"12\": 1, \"122\": 1, \"26\": 1, \"36\": 1}, \"72\": {\"72\": 20, \"69\": 2, \"102\": 2, \"33\": 2, \"81\": 1, \"15\": 1}, \"128\": {\"127\": 1, \"3\": 3, \"101\": 3, \"128\": 5, \"53\": 1, \"123\": 1, \"24\": 1, \"43\": 1, \"79\": 2, \"6\": 1, \"91\": 1, \"10\": 1, \"111\": 1, \"47\": 1, \"109\": 1}, \"7\": {\"7\": 95, \"88\": 2, \"41\": 1, \"49\": 1, \"110\": 2, \"122\": 3, \"114\": 4, \"11\": 1, \"10\": 1, \"71\": 3, \"12\": 1, \"4\": 2, \"98\": 3, \"3\": 3, \"23\": 1, \"77\": 1, \"26\": 1, \"127\": 1, \"18\": 1, \"108\": 1}, \"108\": {\"127\": 2, \"108\": 40, \"38\": 1, \"10\": 1, \"98\": 13, \"54\": 1, \"71\": 7, \"34\": 2, \"29\": 2, \"12\": 5, \"11\": 4, \"107\": 3, \"110\": 1, \"0\": 3, \"7\": 11, \"8\": 5, \"3\": 1, \"114\": 4, \"70\": 1, \"126\": 1, \"111\": 4, \"101\": 2, \"5\": 2, \"51\": 1, \"72\": 1, \"41\": 1, \"122\": 6, \"37\": 1, \"124\": 2, \"24\": 1, \"1\": 1, \"30\": 3, \"90\": 1}, \"16\": {\"16\": 50, \"63\": 1, \"90\": 7, \"84\": 6, \"102\": 7, \"46\": 1, \"23\": 1, \"118\": 1, \"11\": 1, \"126\": 2, \"88\": 4, \"87\": 6, \"117\": 1, \"69\": 7, \"93\": 5, \"70\": 3, \"18\": 1, \"31\": 2, \"13\": 1, \"116\": 2, \"120\": 1, \"14\": 1, \"60\": 1, \"21\": 2}, \"29\": {\"29\": 28, \"49\": 1, \"108\": 1, \"56\": 1, \"91\": 1}, \"61\": {\"61\": 15, \"42\": 1, \"22\": 1, \"10\": 1, \"3\": 1, \"126\": 1}, \"104\": {\"34\": 2, \"104\": 10, \"124\": 2, \"86\": 3, \"95\": 2, \"19\": 1}, \"120\": {\"120\": 20}, \"124\": {\"124\": 101, \"71\": 1, \"86\": 1, \"23\": 1, \"8\": 3, \"109\": 1, \"95\": 1, \"4\": 2, \"114\": 2, \"108\": 2, \"12\": 1, \"67\": 2, \"77\": 1, \"122\": 1, \"107\": 1, \"11\": 1, \"0\": 1, \"36\": 1}, \"34\": {\"128\": 1, \"35\": 1, \"8\": 2, \"34\": 9, \"56\": 1, \"17\": 1, \"110\": 1, \"114\": 1, \"12\": 1, \"7\": 2, \"122\": 2, \"101\": 1, \"41\": 1, \"66\": 1, \"5\": 1, \"52\": 2, \"105\": 1, \"79\": 1, \"108\": 1, \"24\": 1}, \"84\": {\"84\": 54, \"9\": 1, \"48\": 1, \"85\": 1, \"33\": 15, \"87\": 1, \"1\": 3, \"118\": 2, \"14\": 1, \"18\": 1, \"70\": 4, \"30\": 1, \"22\": 1, \"26\": 1, \"126\": 1, \"102\": 1, \"62\": 1, \"69\": 1, \"101\": 1}, \"103\": {\"101\": 1, \"103\": 15}, \"100\": {\"100\": 14, \"23\": 1, \"118\": 1}, \"40\": {\"71\": 3, \"40\": 96, \"105\": 10, \"118\": 1, \"95\": 2, \"66\": 1, \"19\": 1, \"107\": 4, \"122\": 2, \"43\": 2, \"21\": 1, \"8\": 2, \"113\": 1, \"5\": 1, \"124\": 1, \"69\": 1, \"55\": 1, \"37\": 1, \"32\": 3, \"16\": 1, \"26\": 1, \"39\": 2, \"70\": 1, \"18\": 1}, \"35\": {\"128\": 1, \"35\": 10, \"94\": 1}, \"96\": {\"84\": 1, \"96\": 10, \"78\": 2, \"16\": 4, \"72\": 1, \"87\": 2}, \"101\": {\"101\": 101, \"79\": 1, \"6\": 2, \"36\": 2, \"0\": 1, \"30\": 3, \"125\": 1, \"111\": 4, \"94\": 2, \"93\": 1, \"106\": 1, \"108\": 1}, \"71\": {\"71\": 78, \"115\": 2, \"0\": 1, \"5\": 3, \"87\": 1, \"129\": 2, \"122\": 1, \"117\": 1, \"108\": 1, \"124\": 1, \"11\": 2, \"7\": 1, \"18\": 1, \"62\": 1, \"114\": 2, \"105\": 1, \"1\": 1}, \"81\": {\"81\": 16, \"109\": 1, \"121\": 1, \"113\": 1, \"70\": 1, \"18\": 1, \"51\": 1, \"2\": 1, \"26\": 1}, \"74\": {\"5\": 2, \"27\": 1, \"74\": 6, \"122\": 3, \"71\": 2, \"6\": 1, \"4\": 1}, \"119\": {\"119\": 18, \"90\": 1, \"116\": 1}, \"5\": {\"5\": 86, \"112\": 1, \"122\": 6, \"17\": 1, \"129\": 1, \"4\": 3, \"7\": 2, \"71\": 3, \"105\": 5, \"18\": 2, \"126\": 1, \"43\": 1}, \"68\": {\"68\": 10, \"114\": 2, \"91\": 1, \"127\": 2, \"30\": 1}, \"37\": {\"109\": 1, \"37\": 9, \"85\": 2, \"122\": 1, \"14\": 1, \"32\": 2}, \"58\": {\"58\": 16, \"111\": 2, \"125\": 1, \"101\": 1}, \"109\": {\"109\": 45, \"13\": 2, \"44\": 1, \"78\": 3, \"63\": 2, \"90\": 6, \"2\": 1, \"118\": 3, \"21\": 2, \"39\": 5, \"18\": 1, \"88\": 7, \"87\": 3, \"84\": 1, \"70\": 1, \"126\": 2, \"72\": 1, \"33\": 1, \"65\": 1, \"47\": 1, \"93\": 6, \"10\": 1, \"102\": 1, \"43\": 2, \"26\": 1}, \"107\": {\"107\": 33, \"125\": 3, \"66\": 2, \"105\": 4, \"71\": 1, \"4\": 1, \"110\": 5, \"0\": 1, \"40\": 9, \"106\": 1, \"28\": 1, \"56\": 1, \"8\": 1, \"5\": 1}, \"13\": {\"100\": 1, \"119\": 1, \"72\": 2, \"109\": 1, \"13\": 5, \"9\": 1, \"82\": 2, \"120\": 1, \"84\": 1, \"102\": 1}, \"52\": {\"52\": 16, \"101\": 2, \"103\": 1, \"124\": 1}, \"77\": {\"91\": 6, \"30\": 1, \"77\": 4, \"59\": 1, \"0\": 2, \"22\": 1, \"79\": 1}, \"95\": {\"95\": 28, \"19\": 1, \"107\": 1, \"124\": 1, \"110\": 2, \"4\": 2, \"55\": 1}, \"44\": {\"44\": 84, \"119\": 1, \"46\": 1, \"126\": 5, \"90\": 1, \"70\": 2, \"61\": 1, \"87\": 2, \"93\": 2, \"98\": 1}, \"88\": {\"126\": 8, \"44\": 5, \"78\": 2, \"33\": 5, \"118\": 1, \"88\": 37, \"70\": 6, \"71\": 3, \"10\": 1, \"26\": 1, \"84\": 4, \"62\": 2, \"90\": 7, \"93\": 14, \"27\": 1, \"87\": 2, \"113\": 1, \"39\": 3, \"16\": 4, \"20\": 2, \"38\": 1, \"99\": 1, \"69\": 2, \"109\": 6, \"122\": 1, \"1\": 2}, \"91\": {\"91\": 14, \"127\": 1, \"54\": 1, \"68\": 1, \"108\": 1, \"29\": 2, \"104\": 1, \"15\": 1, \"74\": 1, \"59\": 1, \"52\": 2, \"128\": 1, \"126\": 1}, \"93\": {\"93\": 80, \"38\": 1, \"90\": 7, \"126\": 1, \"78\": 1, \"102\": 7, \"88\": 9, \"18\": 1, \"87\": 8, \"26\": 1, \"16\": 6, \"109\": 2, \"69\": 3, \"33\": 3, \"39\": 3, \"62\": 2, \"117\": 1, \"44\": 2}, \"8\": {\"108\": 4, \"8\": 71, \"54\": 1, \"104\": 1, \"12\": 3, \"101\": 2, \"127\": 5, \"5\": 3, \"1\": 1, \"18\": 1, \"4\": 4, \"114\": 2, \"105\": 5, \"113\": 1, \"98\": 2, \"122\": 2, \"17\": 1, \"111\": 1, \"56\": 1, \"11\": 1, \"95\": 1, \"129\": 1, \"124\": 6, \"26\": 1, \"0\": 1, \"7\": 1, \"30\": 1}, \"1\": {\"1\": 87, \"38\": 1, \"33\": 3, \"83\": 1, \"3\": 4, \"24\": 1, \"70\": 3, \"98\": 1, \"87\": 1, \"40\": 1, \"43\": 7, \"18\": 1, \"62\": 2, \"105\": 1}, \"45\": {\"45\": 11, \"21\": 1, \"73\": 1, \"82\": 1, \"105\": 1, \"39\": 1}, \"111\": {\"111\": 103, \"127\": 14, \"12\": 1, \"106\": 1, \"62\": 1, \"30\": 1, \"101\": 1, \"91\": 1, \"21\": 1, \"125\": 1, \"7\": 1}, \"116\": {\"100\": 1, \"116\": 15, \"90\": 1, \"89\": 1, \"93\": 1, \"70\": 1, \"80\": 1, \"126\": 1, \"78\": 1, \"48\": 2, \"72\": 1, \"16\": 1, \"69\": 1}, \"48\": {\"13\": 2, \"48\": 13, \"89\": 4, \"102\": 1}, \"57\": {\"57\": 18, \"44\": 1, \"20\": 1}, \"10\": {\"10\": 28, \"60\": 2, \"30\": 1, \"126\": 3, \"74\": 1, \"22\": 1, \"71\": 1, \"108\": 2, \"123\": 3, \"11\": 1, \"99\": 1, \"7\": 2, \"3\": 2, \"122\": 1, \"53\": 2, \"29\": 1, \"34\": 1, \"43\": 2, \"110\": 1, \"46\": 1, \"8\": 1, \"26\": 1, \"98\": 1}, \"129\": {\"10\": 1, \"129\": 21, \"61\": 1, \"19\": 1, \"5\": 3, \"43\": 1, \"41\": 1, \"73\": 1, \"71\": 2}, \"98\": {\"98\": 70, \"34\": 2, \"71\": 3, \"111\": 7, \"12\": 2, \"88\": 1, \"127\": 1, \"0\": 7, \"114\": 4, \"7\": 4, \"30\": 1, \"18\": 2, \"101\": 2, \"8\": 1, \"49\": 1, \"29\": 2, \"108\": 4, \"41\": 2, \"24\": 1, \"124\": 1}, \"65\": {\"65\": 17, \"121\": 1, \"18\": 2}, \"6\": {\"6\": 25, \"101\": 2, \"106\": 1, \"94\": 2, \"25\": 2}, \"75\": {\"75\": 12, \"97\": 1, \"117\": 1, \"36\": 2}, \"14\": {\"14\": 36, \"96\": 1, \"78\": 1, \"62\": 2, \"1\": 1, \"10\": 1, \"74\": 1, \"55\": 2, \"82\": 2, \"109\": 1}, \"30\": {\"77\": 1, \"30\": 40, \"51\": 2, \"111\": 10, \"106\": 7, \"127\": 6, \"15\": 6, \"0\": 5, \"107\": 1, \"101\": 10, \"18\": 2, \"117\": 1, \"7\": 5, \"24\": 2, \"93\": 1, \"98\": 2, \"1\": 1, \"122\": 2, \"39\": 2, \"12\": 2, \"6\": 1, \"49\": 1, \"36\": 1, \"70\": 1}, \"83\": {\"83\": 29, \"61\": 1, \"126\": 1, \"87\": 5, \"16\": 2, \"93\": 1, \"109\": 1}, \"69\": {\"69\": 110, \"102\": 5, \"109\": 1, \"87\": 1, \"26\": 2, \"70\": 2, \"18\": 1, \"16\": 1, \"7\": 1, \"72\": 2, \"117\": 1, \"113\": 1}, \"125\": {\"125\": 125, \"36\": 4, \"6\": 1, \"27\": 3, \"106\": 6, \"101\": 1, \"9\": 1, \"24\": 2, \"15\": 2, \"87\": 1}, \"31\": {\"31\": 11, \"116\": 2, \"92\": 1, \"102\": 3, \"82\": 2, \"72\": 1}, \"118\": {\"31\": 2, \"118\": 24, \"119\": 1, \"89\": 2, \"84\": 8, \"1\": 1, \"78\": 6, \"126\": 3, \"82\": 2, \"16\": 3, \"61\": 1, \"88\": 2, \"87\": 1, \"62\": 1, \"72\": 1, \"102\": 4, \"105\": 2, \"71\": 1, \"33\": 2, \"43\": 1}, \"53\": {\"53\": 14, \"128\": 1, \"49\": 1}, \"54\": {\"54\": 17, \"127\": 2, \"104\": 1}, \"92\": {\"92\": 26, \"55\": 1, \"89\": 1}, \"19\": {\"128\": 1, \"85\": 1, \"19\": 14, \"10\": 1, \"78\": 1, \"129\": 1, \"0\": 1, \"122\": 1, \"40\": 3, \"107\": 2, \"70\": 1, \"126\": 1}, \"27\": {\"27\": 15, \"94\": 2, \"38\": 1, \"15\": 5, \"41\": 1, \"52\": 1, \"128\": 1, \"49\": 1, \"111\": 4, \"8\": 2, \"106\": 9, \"29\": 2, \"124\": 1, \"1\": 1, \"0\": 2, \"36\": 4, \"24\": 1, \"30\": 2, \"58\": 1, \"35\": 1, \"6\": 1, \"120\": 2, \"87\": 1, \"7\": 1, \"12\": 1, \"125\": 1, \"108\": 1, \"43\": 1, \"127\": 2}, \"17\": {\"17\": 7, \"21\": 1, \"79\": 1, \"71\": 1, \"107\": 1, \"95\": 2, \"56\": 1, \"54\": 2}, \"4\": {\"4\": 56, \"32\": 3, \"5\": 4, \"122\": 7, \"114\": 3, \"7\": 1, \"8\": 3, \"71\": 2, \"108\": 4, \"16\": 1, \"49\": 1, \"110\": 1, \"124\": 1, \"107\": 1}, \"36\": {\"27\": 5, \"114\": 1, \"36\": 53, \"97\": 1, \"34\": 1, \"101\": 8, \"106\": 6, \"103\": 1, \"125\": 13, \"127\": 3, \"111\": 5, \"15\": 10, \"88\": 2, \"108\": 1, \"30\": 1, \"0\": 1, \"39\": 2, \"58\": 2, \"6\": 1, \"12\": 1, \"128\": 1, \"49\": 1, \"107\": 1, \"98\": 1, \"94\": 1, \"18\": 1, \"24\": 2, \"90\": 1, \"8\": 1}, \"90\": {\"126\": 3, \"90\": 88, \"43\": 1, \"93\": 8, \"83\": 2, \"33\": 5, \"87\": 3, \"88\": 5, \"109\": 4, \"2\": 1, \"84\": 1, \"16\": 5, \"69\": 1, \"70\": 5, \"116\": 1, \"44\": 3}, \"64\": {\"64\": 13, \"76\": 1, \"19\": 1, \"18\": 1}, \"66\": {\"66\": 17, \"85\": 1, \"104\": 1, \"86\": 1}, \"46\": {\"46\": 11, \"126\": 2, \"23\": 1, \"59\": 1, \"102\": 1}, \"86\": {\"86\": 26, \"122\": 1, \"8\": 1, \"4\": 2, \"110\": 1, \"124\": 1}, \"114\": {\"114\": 79, \"71\": 7, \"5\": 3, \"117\": 1, \"108\": 4, \"11\": 1, \"122\": 2, \"98\": 5, \"8\": 2, \"7\": 2, \"127\": 2, \"24\": 1, \"87\": 1}, \"32\": {\"74\": 1, \"68\": 1, \"73\": 2, \"40\": 4, \"32\": 16, \"75\": 1, \"95\": 1, \"107\": 1, \"122\": 1, \"5\": 2, \"85\": 2, \"71\": 1, \"19\": 2, \"27\": 1}, \"78\": {\"44\": 2, \"68\": 1, \"61\": 2, \"78\": 11, \"14\": 2, \"40\": 5, \"93\": 1, \"67\": 1, \"118\": 1, \"109\": 4, \"87\": 1, \"1\": 4, \"32\": 1, \"122\": 1, \"88\": 3, \"34\": 1, \"10\": 1, \"124\": 1, \"21\": 2, \"70\": 1, \"16\": 1, \"62\": 1}, \"33\": {\"33\": 117, \"84\": 5, \"70\": 2, \"16\": 1, \"1\": 5, \"102\": 1, \"18\": 1, \"23\": 1, \"87\": 2, \"118\": 1, \"62\": 2}, \"70\": {\"43\": 6, \"55\": 1, \"109\": 4, \"70\": 29, \"90\": 7, \"14\": 2, \"119\": 1, \"82\": 1, \"40\": 8, \"126\": 4, \"1\": 9, \"3\": 4, \"87\": 4, \"18\": 1, \"88\": 8, \"105\": 6, \"39\": 3, \"62\": 7, \"33\": 5, \"26\": 1, \"5\": 2, \"93\": 2, \"17\": 1, \"19\": 1, \"20\": 1, \"31\": 1, \"99\": 1, \"122\": 1, \"117\": 2, \"16\": 1}, \"0\": {\"0\": 61, \"91\": 1, \"79\": 2, \"4\": 3, \"12\": 2, \"127\": 4, \"111\": 5, \"30\": 9, \"98\": 3, \"117\": 2, \"114\": 1, \"15\": 1, \"69\": 1, \"101\": 5, \"24\": 3, \"17\": 1, \"56\": 1, \"77\": 2, \"108\": 3, \"93\": 1, \"7\": 1, \"106\": 1, \"70\": 1, \"122\": 1, \"39\": 1}, \"110\": {\"110\": 23, \"43\": 1, \"71\": 6, \"122\": 1, \"7\": 1, \"34\": 1, \"70\": 1, \"40\": 1, \"75\": 1, \"95\": 1, \"10\": 1, \"5\": 1, \"30\": 1}, \"2\": {\"2\": 21, \"99\": 3, \"113\": 2, \"26\": 2, \"88\": 1, \"117\": 1, \"36\": 1, \"81\": 1}, \"28\": {\"28\": 13, \"88\": 1, \"32\": 1, \"86\": 1, \"64\": 1, \"66\": 2, \"78\": 1}, \"51\": {\"51\": 10, \"97\": 1, \"111\": 3, \"75\": 1, \"9\": 3, \"91\": 1, \"36\": 1}, \"79\": {\"79\": 16}, \"42\": {\"42\": 8, \"101\": 2, \"54\": 1, \"77\": 1, \"114\": 1, \"1\": 2, \"15\": 1, \"107\": 2, \"124\": 1, \"46\": 1, \"115\": 1, \"70\": 1, \"24\": 3, \"128\": 2, \"34\": 1}, \"112\": {\"112\": 15, \"3\": 1}, \"89\": {\"89\": 24, \"92\": 2, \"33\": 2, \"126\": 1, \"48\": 3, \"118\": 1, \"72\": 2, \"31\": 1}, \"59\": {\"34\": 1, \"98\": 1, \"59\": 5, \"0\": 2, \"54\": 4, \"12\": 2, \"91\": 1}, \"105\": {\"105\": 95, \"32\": 1, \"85\": 2, \"95\": 1, \"3\": 2, \"114\": 2, \"40\": 11, \"1\": 1, \"108\": 3, \"26\": 2, \"5\": 1, \"78\": 2, \"43\": 2, \"107\": 2, \"7\": 1}, \"121\": {\"121\": 21, \"69\": 1, \"89\": 1, \"65\": 3, \"113\": 2, \"26\": 2, \"23\": 2, \"81\": 1, \"93\": 1, \"39\": 1, \"117\": 1}, \"11\": {\"11\": 36, \"110\": 2, \"3\": 8, \"48\": 1, \"123\": 2, \"101\": 1, \"4\": 1, \"122\": 3, \"43\": 1, \"98\": 5, \"8\": 1, \"0\": 2, \"10\": 2, \"7\": 1, \"71\": 4, \"108\": 2, \"42\": 1, \"61\": 1, \"49\": 1, \"16\": 1, \"128\": 1, \"20\": 1, \"126\": 1, \"18\": 1}, \"99\": {\"99\": 27, \"121\": 1, \"93\": 2, \"126\": 1, \"109\": 1}, \"25\": {\"75\": 1, \"25\": 13, \"94\": 1, \"103\": 1}, \"62\": {\"62\": 104, \"20\": 1, \"27\": 1, \"33\": 5, \"70\": 3, \"43\": 5, \"82\": 1, \"113\": 2, \"102\": 1, \"78\": 2, \"122\": 1, \"39\": 1, \"87\": 1}, \"123\": {\"123\": 13, \"126\": 1, \"3\": 1, \"60\": 1}, \"24\": {\"24\": 12, \"128\": 1, \"27\": 2, \"22\": 1, \"106\": 16, \"29\": 1, \"94\": 1, \"51\": 1, \"99\": 1, \"125\": 14, \"87\": 1, \"78\": 2, \"108\": 2, \"98\": 2, \"62\": 2, \"43\": 3, \"36\": 2, \"105\": 2, \"12\": 1, \"4\": 5, \"101\": 5, \"127\": 3, \"122\": 3, \"71\": 1, \"111\": 6, \"26\": 1, \"9\": 1, \"95\": 1, \"126\": 3, \"35\": 1, \"7\": 1, \"11\": 1, \"42\": 2, \"124\": 1, \"77\": 1, \"32\": 2, \"15\": 5, \"5\": 1, \"69\": 1}, \"80\": {\"80\": 14, \"62\": 1, \"82\": 1}, \"39\": {\"39\": 46, \"69\": 3, \"109\": 9, \"102\": 6, \"88\": 7, \"117\": 2, \"2\": 2, \"87\": 2, \"18\": 7, \"90\": 2, \"16\": 3, \"93\": 5, \"26\": 5, \"1\": 1}, \"22\": {\"22\": 13, \"129\": 1, \"19\": 1, \"10\": 1, \"62\": 1, \"61\": 1, \"128\": 1, \"2\": 1}}, \"Wisig_4\": {\"32\": {\"32\": 13, \"83\": 1, \"82\": 1, \"33\": 1, \"14\": 2, \"13\": 1, \"69\": 1, \"105\": 1, \"31\": 1, \"78\": 1, \"11\": 2, \"108\": 1, \"7\": 2}, \"22\": {\"22\": 11, \"20\": 2, \"54\": 1, \"88\": 1, \"118\": 1}, \"69\": {\"69\": 100, \"122\": 1, \"36\": 2, \"14\": 1, \"39\": 1, \"118\": 4, \"109\": 2, \"102\": 3, \"5\": 1, \"44\": 1, \"62\": 1, \"93\": 1, \"16\": 1, \"18\": 1}, \"65\": {\"65\": 12}, \"91\": {\"91\": 20, \"8\": 1, \"77\": 1, \"111\": 1, \"37\": 1}, \"63\": {\"65\": 1, \"63\": 13, \"117\": 1, \"39\": 1}, \"127\": {\"65\": 1, \"127\": 66, \"101\": 4, \"95\": 3, \"36\": 2, \"12\": 8, \"8\": 2, \"0\": 3, \"24\": 1, \"27\": 2, \"111\": 5, \"34\": 2, \"16\": 1, \"106\": 3, \"98\": 1, \"15\": 2, \"10\": 1, \"18\": 1}, \"11\": {\"73\": 1, \"11\": 37, \"3\": 5, \"32\": 2, \"114\": 3, \"88\": 4, \"101\": 1, \"33\": 7, \"72\": 1, \"99\": 3, \"5\": 6, \"106\": 1, \"113\": 1, \"107\": 3, \"81\": 1, \"118\": 5, \"108\": 3, \"7\": 3, \"84\": 2, \"43\": 7, \"24\": 1, \"87\": 12, \"14\": 3, \"129\": 2, \"120\": 1, \"70\": 1, \"1\": 2, \"116\": 2, \"60\": 1, \"82\": 1, \"122\": 3, \"111\": 1, \"105\": 2, \"93\": 2, \"110\": 3, \"40\": 1, \"102\": 2, \"10\": 2}, \"12\": {\"12\": 47, \"111\": 6, \"29\": 1, \"51\": 1, \"58\": 1, \"90\": 1, \"127\": 6, \"101\": 3, \"109\": 1, \"36\": 2, \"8\": 3, \"106\": 5, \"126\": 1, \"87\": 2, \"15\": 4, \"24\": 2, \"10\": 2, \"77\": 1, \"47\": 1, \"37\": 1, \"27\": 2, \"9\": 3, \"26\": 2, \"0\": 2}, \"111\": {\"111\": 77, \"68\": 3, \"95\": 3, \"27\": 4, \"12\": 10, \"10\": 3, \"4\": 1, \"30\": 3, \"101\": 2, \"0\": 1, \"127\": 9, \"106\": 2, \"36\": 1, \"8\": 4, \"70\": 2, \"29\": 1, \"24\": 1, \"126\": 1}, \"53\": {\"53\": 10, \"91\": 1, \"42\": 1, \"122\": 1, \"70\": 1, \"98\": 1, \"10\": 1}, \"73\": {\"73\": 17, \"51\": 1, \"106\": 2, \"40\": 1, \"10\": 1, \"114\": 1, \"5\": 1}, \"3\": {\"3\": 83, \"42\": 1, \"7\": 4, \"83\": 1, \"19\": 1, \"78\": 2, \"99\": 1, \"49\": 2, \"43\": 2, \"26\": 1, \"105\": 1, \"88\": 2, \"70\": 4, \"122\": 1, \"87\": 3, \"1\": 3, \"72\": 3, \"10\": 1, \"5\": 5, \"110\": 1, \"108\": 2, \"11\": 1, \"33\": 2, \"96\": 1, \"128\": 1, \"60\": 1, \"98\": 1, \"27\": 1, \"39\": 1, \"114\": 1, \"107\": 2}, \"83\": {\"87\": 2, \"40\": 1, \"83\": 8, \"60\": 1, \"38\": 1, \"3\": 2, \"29\": 2, \"33\": 1, \"70\": 1, \"19\": 1, \"110\": 1, \"79\": 1, \"23\": 1, \"50\": 2, \"88\": 3}, \"88\": {\"11\": 2, \"88\": 26, \"86\": 2, \"43\": 1, \"16\": 1, \"8\": 2, \"70\": 8, \"110\": 5, \"82\": 2, \"23\": 1, \"122\": 2, \"109\": 6, \"106\": 1, \"78\": 1, \"7\": 4, \"19\": 1, \"3\": 4, \"117\": 2, \"1\": 7, \"0\": 4, \"39\": 4, \"98\": 2, \"10\": 3, \"87\": 7, \"93\": 3, \"90\": 4, \"113\": 3, \"114\": 4, \"105\": 4, \"44\": 1, \"22\": 1, \"46\": 1, \"83\": 1, \"95\": 1, \"49\": 1, \"27\": 1, \"128\": 1, \"108\": 1, \"40\": 3, \"118\": 1, \"107\": 1}, \"87\": {\"87\": 47, \"78\": 1, \"119\": 1, \"114\": 10, \"50\": 1, \"1\": 6, \"88\": 3, \"107\": 7, \"72\": 1, \"108\": 5, \"105\": 8, \"40\": 7, \"3\": 4, \"110\": 5, \"93\": 1, \"70\": 4, \"14\": 1, \"11\": 9, \"71\": 1, \"116\": 1, \"89\": 1, \"60\": 2, \"7\": 4, \"122\": 2}, \"2\": {\"2\": 18, \"117\": 1, \"16\": 2, \"18\": 1, \"84\": 1, \"67\": 2, \"90\": 1, \"26\": 1, \"109\": 1}, \"86\": {\"86\": 23, \"4\": 1, \"12\": 1, \"27\": 1, \"0\": 1, \"98\": 1}, \"16\": {\"16\": 75, \"2\": 7, \"35\": 1, \"122\": 1, \"88\": 2, \"84\": 12, \"110\": 2, \"102\": 6, \"109\": 7, \"26\": 3, \"118\": 1, \"117\": 1, \"90\": 1, \"69\": 2, \"39\": 1}, \"21\": {\"65\": 1, \"10\": 1, \"21\": 24, \"123\": 2, \"126\": 5, \"60\": 1, \"113\": 1, \"62\": 1, \"81\": 2, \"87\": 1, \"44\": 1}, \"96\": {\"96\": 12, \"43\": 1, \"78\": 2, \"110\": 1, \"90\": 2, \"44\": 1, \"62\": 1}, \"100\": {\"100\": 16, \"7\": 2, \"89\": 1, \"1\": 1}, \"7\": {\"100\": 1, \"3\": 7, \"7\": 71, \"70\": 3, \"83\": 3, \"110\": 2, \"108\": 2, \"72\": 1, \"10\": 4, \"27\": 2, \"105\": 1, \"1\": 7, \"114\": 2, \"43\": 1, \"98\": 2, \"87\": 2, \"23\": 1, \"49\": 1, \"107\": 1, \"5\": 1, \"0\": 4, \"113\": 1}, \"75\": {\"75\": 14, \"54\": 1, \"15\": 1}, \"10\": {\"7\": 6, \"10\": 17, \"24\": 9, \"122\": 1, \"22\": 1, \"9\": 2, \"87\": 7, \"6\": 3, \"27\": 2, \"99\": 1, \"12\": 6, \"34\": 4, \"71\": 1, \"94\": 2, \"18\": 1, \"110\": 2, \"30\": 4, \"15\": 10, \"5\": 2, \"0\": 2, \"72\": 1, \"3\": 2, \"70\": 4, \"106\": 5, \"36\": 7, \"127\": 1, \"125\": 4, \"114\": 2, \"8\": 4, \"129\": 2, \"85\": 1, \"59\": 2, \"103\": 1, \"47\": 1, \"100\": 1, \"126\": 1, \"117\": 1, \"11\": 1}, \"43\": {\"11\": 7, \"88\": 7, \"5\": 3, \"43\": 39, \"110\": 8, \"126\": 2, \"96\": 1, \"42\": 1, \"63\": 1, \"109\": 6, \"79\": 1, \"108\": 3, \"60\": 1, \"33\": 9, \"44\": 1, \"40\": 4, \"93\": 8, \"3\": 1, \"14\": 3, \"73\": 1, \"129\": 1, \"26\": 1, \"90\": 1, \"62\": 1, \"107\": 1, \"82\": 1, \"99\": 1, \"111\": 1, \"16\": 1, \"105\": 1, \"87\": 3}, \"92\": {\"92\": 21, \"88\": 1, \"31\": 1, \"118\": 2, \"67\": 2, \"74\": 1}, \"62\": {\"62\": 26, \"40\": 1, \"11\": 2, \"116\": 1, \"108\": 1, \"122\": 4, \"43\": 1, \"118\": 9, \"39\": 1, \"5\": 1, \"14\": 2, \"126\": 1, \"84\": 1, \"60\": 2, \"69\": 7}, \"31\": {\"45\": 1, \"118\": 1, \"31\": 13, \"32\": 1}, \"0\": {\"0\": 45, \"85\": 1, \"99\": 1, \"27\": 6, \"103\": 1, \"95\": 1, \"12\": 7, \"70\": 3, \"49\": 1, \"127\": 6, \"4\": 5, \"8\": 3, \"101\": 3, \"111\": 4, \"114\": 1, \"7\": 5, \"1\": 1, \"98\": 10, \"112\": 1, \"86\": 1, \"34\": 1, \"52\": 1, \"10\": 3, \"113\": 1, \"122\": 1, \"14\": 1}, \"45\": {\"45\": 16}, \"85\": {\"85\": 20, \"0\": 1, \"88\": 1, \"54\": 1, \"34\": 1, \"101\": 1, \"52\": 1, \"95\": 2}, \"119\": {\"119\": 14, \"98\": 1, \"72\": 1}, \"46\": {\"1\": 1, \"46\": 16, \"71\": 2, \"129\": 1}, \"71\": {\"1\": 7, \"71\": 68, \"129\": 5, \"105\": 1, \"114\": 10, \"124\": 4, \"4\": 2, \"0\": 1, \"98\": 1, \"18\": 1, \"87\": 1, \"122\": 1, \"3\": 1, \"26\": 1}, \"8\": {\"9\": 4, \"12\": 7, \"78\": 1, \"8\": 68, \"1\": 1, \"27\": 5, \"103\": 1, \"85\": 2, \"34\": 1, \"10\": 6, \"4\": 5, \"0\": 4, \"127\": 2, \"30\": 2, \"16\": 1, \"15\": 3, \"105\": 1, \"101\": 4, \"111\": 4, \"113\": 1, \"36\": 1, \"24\": 1, \"126\": 1, \"95\": 1, \"68\": 1, \"98\": 1, \"106\": 2, \"26\": 1, \"124\": 2}, \"118\": {\"118\": 55, \"99\": 2, \"122\": 4, \"14\": 3, \"102\": 5, \"62\": 3, \"109\": 5, \"90\": 2, \"93\": 2, \"69\": 15, \"11\": 2, \"84\": 1, \"110\": 3, \"33\": 1, \"39\": 1, \"43\": 1, \"16\": 2, \"87\": 1, \"96\": 1, \"18\": 2, \"106\": 1}, \"1\": {\"1\": 73, \"114\": 5, \"33\": 1, \"4\": 2, \"12\": 2, \"129\": 3, \"43\": 1, \"94\": 1, \"105\": 3, \"126\": 2, \"71\": 4, \"26\": 1, \"3\": 3, \"21\": 1, \"7\": 1, \"113\": 1, \"40\": 1, \"70\": 1, \"24\": 1, \"5\": 1}, \"38\": {\"38\": 11, \"66\": 1, \"80\": 3, \"90\": 1}, \"30\": {\"9\": 2, \"8\": 5, \"30\": 23, \"59\": 4, \"15\": 6, \"41\": 1, \"105\": 1, \"36\": 4, \"125\": 1, \"111\": 1, \"106\": 1, \"12\": 3, \"24\": 1, \"101\": 4, \"14\": 1, \"10\": 4, \"6\": 1, \"91\": 1, \"51\": 1, \"127\": 1, \"21\": 1, \"52\": 1, \"126\": 1, \"85\": 1, \"89\": 1, \"29\": 1, \"11\": 1, \"71\": 1, \"94\": 2}, \"66\": {\"66\": 8, \"44\": 1, \"70\": 1, \"19\": 1, \"116\": 2, \"20\": 1, \"90\": 2}, \"9\": {\"9\": 20, \"34\": 1, \"15\": 2, \"127\": 2, \"12\": 1, \"106\": 2}, \"5\": {\"19\": 2, \"5\": 99, \"33\": 10, \"1\": 1, \"3\": 10, \"93\": 3, \"49\": 2, \"83\": 1, \"113\": 1, \"11\": 1, \"9\": 1, \"99\": 2, \"108\": 1, \"43\": 2}, \"24\": {\"24\": 19, \"59\": 2, \"88\": 4, \"36\": 14, \"72\": 1, \"94\": 11, \"27\": 4, \"8\": 4, \"18\": 1, \"106\": 4, \"12\": 5, \"71\": 2, \"125\": 7, \"114\": 3, \"11\": 2, \"26\": 1, \"87\": 3, \"70\": 5, \"126\": 1, \"40\": 1, \"15\": 5, \"98\": 4, \"10\": 7, \"6\": 2, \"86\": 1, \"105\": 1, \"30\": 1, \"0\": 2, \"101\": 1, \"127\": 1, \"7\": 1}, \"97\": {\"88\": 2, \"24\": 1, \"47\": 2, \"58\": 1, \"70\": 1, \"97\": 8, \"25\": 2, \"128\": 1, \"37\": 1, \"77\": 1}, \"67\": {\"26\": 2, \"67\": 3, \"92\": 1, \"123\": 4, \"48\": 1, \"18\": 2, \"82\": 1, \"81\": 1, \"113\": 1}, \"19\": {\"71\": 1, \"7\": 1, \"19\": 9, \"55\": 1, \"83\": 1, \"0\": 2, \"85\": 1, \"70\": 2, \"40\": 1, \"110\": 1, \"84\": 1, \"5\": 2, \"86\": 1, \"20\": 1, \"53\": 1, \"87\": 1, \"108\": 1}, \"77\": {\"10\": 1, \"77\": 10, \"68\": 1}, \"26\": {\"26\": 93, \"121\": 1, \"96\": 1, \"117\": 5, \"18\": 9, \"44\": 1, \"62\": 1, \"113\": 4, \"109\": 1, \"126\": 2}, \"115\": {\"24\": 1, \"19\": 1, \"115\": 6, \"40\": 1, \"76\": 2, \"107\": 2, \"120\": 1, \"5\": 1, \"42\": 1}, \"50\": {\"50\": 12, \"28\": 1, \"87\": 1, \"14\": 2}, \"120\": {\"120\": 17, \"46\": 1, \"107\": 1, \"124\": 1}, \"102\": {\"102\": 99, \"118\": 2, \"99\": 1, \"107\": 1, \"69\": 10, \"84\": 6, \"14\": 1, \"26\": 1, \"33\": 1, \"40\": 1, \"92\": 1, \"122\": 1, \"11\": 2, \"16\": 1}, \"29\": {\"29\": 24, \"68\": 1, \"86\": 1, \"101\": 2, \"30\": 1, \"106\": 1, \"27\": 1, \"111\": 1}, \"44\": {\"44\": 41, \"5\": 1, \"113\": 2, \"78\": 1, \"93\": 5, \"122\": 2, \"109\": 1, \"90\": 3, \"26\": 1, \"70\": 1, \"96\": 1, \"66\": 1, \"33\": 1, \"110\": 3}, \"124\": {\"124\": 84, \"114\": 5, \"64\": 1, \"73\": 1, \"96\": 1, \"128\": 2, \"71\": 4, \"4\": 5, \"27\": 4, \"0\": 3, \"98\": 3, \"105\": 1, \"40\": 2, \"12\": 1, \"8\": 1}, \"78\": {\"124\": 1, \"102\": 1, \"26\": 2, \"78\": 9, \"2\": 1, \"66\": 1, \"63\": 1, \"0\": 1, \"93\": 1, \"83\": 1, \"99\": 1, \"21\": 1, \"121\": 1, \"84\": 1, \"111\": 1, \"1\": 1, \"117\": 1, \"3\": 1, \"39\": 1, \"35\": 1, \"88\": 1, \"120\": 2, \"95\": 1, \"62\": 1, \"96\": 1, \"87\": 1}, \"104\": {\"104\": 16}, \"105\": {\"105\": 49, \"46\": 2, \"40\": 8, \"84\": 1, \"71\": 6, \"1\": 7, \"114\": 6, \"107\": 8, \"34\": 1, \"78\": 1, \"82\": 1, \"14\": 1, \"7\": 1, \"108\": 1, \"10\": 1, \"87\": 2, \"94\": 1, \"39\": 1, \"18\": 1, \"11\": 1}, \"28\": {\"28\": 14, \"64\": 1, \"40\": 1, \"11\": 1, \"45\": 1, \"76\": 2}, \"37\": {\"37\": 13, \"8\": 1, \"4\": 2}, \"107\": {\"107\": 90, \"105\": 5, \"40\": 14, \"43\": 1, \"33\": 2, \"110\": 1, \"11\": 4, \"109\": 1, \"114\": 3, \"14\": 1, \"87\": 3, \"46\": 2, \"70\": 1, \"88\": 1, \"1\": 1, \"124\": 1, \"113\": 1}, \"6\": {\"6\": 12, \"15\": 2, \"25\": 1, \"10\": 1, \"91\": 1, \"36\": 4, \"30\": 1, \"9\": 1, \"111\": 1}, \"17\": {\"124\": 2, \"17\": 15, \"104\": 3}, \"57\": {\"57\": 16}, \"121\": {\"57\": 2, \"102\": 3, \"121\": 11, \"13\": 2, \"16\": 3, \"18\": 1, \"82\": 1, \"84\": 1, \"21\": 1, \"39\": 3, \"31\": 1, \"92\": 2, \"116\": 1}, \"58\": {\"58\": 9, \"6\": 2, \"30\": 1, \"15\": 3, \"106\": 1}, \"64\": {\"28\": 1, \"64\": 14, \"120\": 1}, \"82\": {\"82\": 26, \"114\": 1, \"19\": 2, \"71\": 1, \"1\": 1, \"129\": 1}, \"39\": {\"18\": 10, \"39\": 53, \"109\": 4, \"117\": 6, \"38\": 1, \"80\": 1, \"78\": 1, \"2\": 1, \"126\": 3, \"113\": 10, \"90\": 4, \"122\": 1, \"26\": 3, \"84\": 2}, \"110\": {\"99\": 1, \"110\": 57, \"22\": 1, \"43\": 7, \"129\": 2, \"90\": 2, \"26\": 2, \"96\": 1, \"93\": 5, \"33\": 9, \"108\": 7, \"88\": 4, \"0\": 1, \"11\": 5, \"16\": 2, \"114\": 1, \"3\": 1, \"5\": 1, \"87\": 1, \"118\": 3, \"109\": 1, \"21\": 1, \"9\": 1, \"39\": 1, \"1\": 2, \"14\": 1, \"126\": 1, \"70\": 1, \"102\": 2}, \"114\": {\"114\": 82, \"4\": 4, \"82\": 4, \"1\": 5, \"71\": 11, \"36\": 2, \"7\": 3, \"110\": 1, \"70\": 2, \"8\": 1, \"118\": 1, \"10\": 1, \"87\": 2, \"129\": 2, \"39\": 1, \"105\": 1, \"3\": 2, \"88\": 1, \"124\": 1, \"40\": 1}, \"20\": {\"20\": 11, \"92\": 1, \"116\": 1, \"88\": 1, \"74\": 1, \"96\": 1}, \"117\": {\"18\": 7, \"39\": 4, \"117\": 77, \"26\": 9, \"113\": 8, \"2\": 1, \"81\": 4, \"109\": 1, \"16\": 3}, \"18\": {\"18\": 91, \"26\": 9, \"117\": 6, \"126\": 2, \"39\": 1, \"16\": 3, \"81\": 3, \"93\": 1, \"21\": 1, \"113\": 3}, \"99\": {\"110\": 5, \"99\": 27, \"60\": 2, \"73\": 1, \"78\": 2, \"105\": 1, \"108\": 2}, \"23\": {\"117\": 1, \"0\": 1, \"91\": 1, \"23\": 2, \"106\": 1, \"122\": 1, \"39\": 2, \"47\": 1, \"10\": 2, \"63\": 1, \"21\": 1, \"18\": 1, \"70\": 1}, \"128\": {\"128\": 8, \"88\": 1, \"49\": 2, \"29\": 1, \"114\": 4, \"7\": 1, \"33\": 1, \"119\": 1, \"118\": 1, \"124\": 1, \"3\": 1, \"86\": 2}, \"60\": {\"128\": 1, \"44\": 1, \"60\": 9, \"71\": 3, \"42\": 2, \"96\": 1, \"79\": 1, \"3\": 1, \"88\": 3, \"89\": 2, \"22\": 1, \"43\": 1, \"86\": 1, \"118\": 1, \"129\": 1, \"82\": 1, \"49\": 1, \"70\": 1}, \"70\": {\"128\": 4, \"70\": 41, \"125\": 2, \"88\": 7, \"26\": 1, \"3\": 2, \"55\": 2, \"4\": 4, \"78\": 1, \"14\": 1, \"105\": 1, \"86\": 1, \"46\": 1, \"109\": 3, \"71\": 4, \"110\": 3, \"122\": 1, \"27\": 1, \"114\": 6, \"98\": 5, \"101\": 1, \"118\": 1, \"16\": 1, \"87\": 4, \"113\": 2, \"66\": 1, \"53\": 1, \"112\": 1, \"108\": 1, \"8\": 1, \"85\": 1, \"56\": 1, \"83\": 1, \"10\": 3, \"43\": 1, \"60\": 1, \"127\": 1, \"1\": 1, \"126\": 1, \"93\": 1, \"0\": 3}, \"122\": {\"122\": 29, \"70\": 2, \"110\": 6, \"43\": 6, \"109\": 2, \"33\": 5, \"118\": 2, \"78\": 1, \"90\": 1, \"1\": 1, \"126\": 2, \"88\": 3, \"108\": 1, \"107\": 1, \"14\": 6, \"31\": 1, \"87\": 1, \"99\": 2, \"121\": 1, \"114\": 1, \"40\": 2, \"102\": 4, \"69\": 3, \"62\": 1}, \"101\": {\"101\": 58, \"70\": 2, \"6\": 1, \"53\": 1, \"91\": 1, \"78\": 1, \"41\": 2, \"111\": 9, \"128\": 1, \"4\": 5, \"36\": 2, \"0\": 8, \"24\": 4, \"127\": 8, \"15\": 1, \"106\": 1, \"98\": 3, \"30\": 3, \"113\": 1, \"86\": 2, \"56\": 1, \"85\": 1, \"8\": 7, \"10\": 2, \"27\": 2, \"39\": 1, \"12\": 4}, \"33\": {\"33\": 114, \"44\": 1, \"84\": 1, \"122\": 1, \"43\": 3, \"102\": 2, \"14\": 1, \"5\": 2, \"107\": 3, \"110\": 2, \"108\": 1, \"93\": 1}, \"40\": {\"107\": 17, \"40\": 88, \"43\": 2, \"39\": 1, \"105\": 4, \"33\": 1, \"1\": 1, \"87\": 6, \"88\": 1, \"18\": 2, \"114\": 2, \"121\": 1, \"117\": 2, \"11\": 1, \"14\": 1}, \"41\": {\"4\": 2, \"27\": 1, \"36\": 1, \"52\": 1, \"41\": 6, \"42\": 2, \"95\": 2, \"21\": 1}, \"59\": {\"59\": 10, \"9\": 1, \"106\": 1}, \"4\": {\"4\": 70, \"55\": 1, \"39\": 3, \"95\": 1, \"62\": 2, \"27\": 3, \"124\": 3, \"114\": 3, \"101\": 1, \"8\": 2, \"0\": 1, \"53\": 1, \"86\": 2, \"129\": 1, \"26\": 2, \"1\": 3, \"71\": 4, \"18\": 1}, \"112\": {\"1\": 1, \"24\": 1, \"112\": 9, \"86\": 1, \"42\": 1, \"4\": 1, \"128\": 1, \"123\": 1}, \"36\": {\"59\": 1, \"30\": 4, \"68\": 2, \"36\": 48, \"103\": 1, \"27\": 4, \"94\": 5, \"101\": 3, \"9\": 1, \"127\": 4, \"15\": 8, \"111\": 2, \"18\": 1, \"125\": 12, \"10\": 6, \"8\": 6, \"26\": 1, \"24\": 4, \"98\": 1, \"51\": 1, \"29\": 2, \"106\": 7, \"12\": 2, \"4\": 2}, \"48\": {\"48\": 11, \"19\": 1, \"43\": 1, \"20\": 2, \"122\": 1}, \"126\": {\"126\": 70, \"81\": 3, \"123\": 1, \"61\": 1, \"39\": 4, \"16\": 3, \"62\": 1, \"26\": 5, \"88\": 1, \"113\": 8, \"18\": 6, \"90\": 3, \"117\": 3, \"10\": 1, \"109\": 2, \"84\": 3, \"2\": 1}, \"125\": {\"10\": 4, \"125\": 80, \"6\": 2, \"47\": 2, \"94\": 9, \"24\": 7, \"15\": 9, \"109\": 1, \"8\": 2, \"51\": 1, \"36\": 3, \"18\": 1, \"88\": 1}, \"84\": {\"102\": 10, \"84\": 80, \"21\": 1, \"44\": 2, \"113\": 4, \"39\": 1, \"16\": 11, \"118\": 3, \"110\": 1, \"33\": 2, \"69\": 3, \"117\": 1, \"126\": 2, \"109\": 2, \"72\": 1, \"18\": 1, \"26\": 1, \"88\": 1, \"107\": 1}, \"80\": {\"80\": 16}, \"49\": {\"20\": 2, \"29\": 1, \"12\": 2, \"49\": 9, \"119\": 1, \"34\": 1, \"127\": 2, \"128\": 1, \"3\": 2, \"72\": 2, \"116\": 1, \"5\": 3, \"8\": 1, \"33\": 1, \"82\": 1, \"86\": 1, \"99\": 1}, \"47\": {\"47\": 8, \"15\": 1, \"6\": 2, \"25\": 1}, \"95\": {\"95\": 25, \"52\": 1, \"98\": 1, \"103\": 1, \"51\": 1, \"34\": 2, \"101\": 1}, \"54\": {\"54\": 15, \"59\": 1}, \"25\": {\"47\": 2, \"25\": 13, \"54\": 1}, \"116\": {\"116\": 13, \"69\": 1, \"93\": 2, \"1\": 1, \"90\": 1, \"44\": 2, \"40\": 1, \"72\": 1, \"5\": 2, \"79\": 1, \"122\": 1, \"87\": 1, \"109\": 1}, \"74\": {\"74\": 13, \"70\": 1, \"116\": 1, \"72\": 1}, \"35\": {\"22\": 1, \"35\": 6, \"109\": 1, \"78\": 4}, \"15\": {\"15\": 61, \"59\": 2, \"94\": 8, \"71\": 1, \"58\": 3, \"29\": 1, \"36\": 2, \"10\": 6, \"111\": 3, \"106\": 5, \"8\": 6, \"30\": 5, \"127\": 2, \"18\": 1, \"125\": 5, \"118\": 1, \"91\": 1, \"103\": 1, \"0\": 1, \"9\": 2, \"24\": 4, \"39\": 1, \"101\": 3, \"12\": 3}, \"108\": {\"5\": 6, \"50\": 1, \"110\": 7, \"19\": 2, \"108\": 21, \"88\": 3, \"44\": 1, \"3\": 2, \"109\": 2, \"72\": 3, \"126\": 2, \"39\": 1, \"93\": 3, \"78\": 2, \"94\": 1, \"33\": 2, \"1\": 1, \"90\": 3, \"87\": 4, \"36\": 1, \"18\": 1, \"11\": 7, \"98\": 1, \"14\": 3, \"59\": 1, \"21\": 1, \"85\": 1, \"107\": 1, \"60\": 1, \"92\": 1, \"7\": 1, \"101\": 1, \"43\": 3, \"117\": 1}, \"34\": {\"3\": 4, \"6\": 2, \"55\": 1, \"70\": 2, \"46\": 1, \"36\": 1, \"1\": 1, \"40\": 1, \"34\": 3, \"124\": 3, \"89\": 1, \"15\": 1, \"128\": 1, \"10\": 1, \"71\": 3, \"103\": 2, \"30\": 1, \"94\": 1, \"24\": 2}, \"81\": {\"81\": 29, \"39\": 2, \"18\": 3, \"117\": 1, \"44\": 1}, \"93\": {\"93\": 81, \"78\": 1, \"110\": 7, \"90\": 4, \"43\": 1, \"108\": 4, \"24\": 1, \"5\": 14, \"40\": 1, \"109\": 2, \"11\": 3, \"84\": 1, \"66\": 1, \"20\": 1, \"60\": 1, \"44\": 1, \"62\": 1, \"113\": 1, \"88\": 2}, \"55\": {\"55\": 12, \"27\": 1, \"86\": 1, \"127\": 2}, \"27\": {\"47\": 1, \"97\": 2, \"103\": 1, \"27\": 29, \"55\": 1, \"106\": 3, \"37\": 1, \"105\": 3, \"4\": 5, \"108\": 1, \"111\": 4, \"100\": 1, \"70\": 4, \"39\": 1, \"10\": 2, \"0\": 6, \"12\": 3, \"24\": 2, \"8\": 4, \"101\": 1, \"127\": 4, \"71\": 2, \"30\": 4, \"125\": 1, \"93\": 1, \"95\": 1, \"87\": 1, \"36\": 1, \"40\": 1, \"94\": 3, \"98\": 3, \"43\": 1, \"1\": 1, \"3\": 1}, \"109\": {\"124\": 1, \"109\": 54, \"90\": 4, \"122\": 1, \"69\": 9, \"44\": 2, \"116\": 2, \"62\": 2, \"118\": 6, \"110\": 3, \"102\": 8, \"16\": 5, \"33\": 1, \"43\": 1, \"113\": 2, \"7\": 2, \"93\": 1, \"84\": 2, \"108\": 2, \"88\": 1, \"39\": 1}, \"106\": {\"4\": 2, \"47\": 1, \"106\": 62, \"68\": 1, \"103\": 2, \"95\": 3, \"98\": 1, \"12\": 10, \"9\": 1, \"15\": 5, \"111\": 7, \"127\": 5, \"16\": 1, \"113\": 1, \"8\": 1, \"10\": 1, \"94\": 1, \"30\": 1, \"34\": 1, \"37\": 1, \"26\": 1, \"2\": 1, \"126\": 3, \"18\": 1, \"24\": 2}, \"68\": {\"68\": 11, \"103\": 2, \"111\": 1, \"127\": 1, \"121\": 1}, \"76\": {\"18\": 1, \"76\": 12, \"28\": 2, \"78\": 1}, \"103\": {\"103\": 15, \"121\": 1}, \"42\": {\"87\": 1, \"103\": 3, \"4\": 1, \"51\": 1, \"42\": 7, \"56\": 1, \"89\": 2, \"83\": 1, \"33\": 2, \"119\": 1, \"30\": 1, \"127\": 1, \"36\": 1, \"108\": 1, \"68\": 1, \"27\": 1, \"24\": 1, \"3\": 1}, \"129\": {\"0\": 1, \"129\": 6, \"71\": 1, \"14\": 3, \"33\": 3, \"118\": 1, \"37\": 1, \"122\": 1, \"114\": 2, \"5\": 1, \"93\": 1, \"48\": 1, \"102\": 2, \"41\": 1, \"87\": 1, \"4\": 2}, \"94\": {\"94\": 39, \"97\": 1, \"39\": 1, \"4\": 1, \"36\": 9, \"15\": 12, \"111\": 1, \"10\": 2, \"12\": 2, \"24\": 3, \"8\": 3, \"3\": 1, \"81\": 1, \"58\": 1, \"125\": 2, \"21\": 1, \"30\": 1, \"106\": 1, \"126\": 1, \"27\": 1, \"122\": 1, \"118\": 1, \"101\": 1, \"18\": 1}, \"123\": {\"123\": 14, \"18\": 1, \"21\": 1}, \"61\": {\"61\": 7, \"23\": 1, \"117\": 1, \"109\": 1, \"102\": 1, \"67\": 2, \"39\": 1, \"57\": 2}, \"51\": {\"39\": 1, \"51\": 1, \"111\": 1, \"90\": 1, \"121\": 1, \"62\": 1, \"27\": 1, \"36\": 1, \"11\": 1, \"58\": 1, \"21\": 2, \"6\": 1, \"9\": 1, \"106\": 2}, \"98\": {\"119\": 1, \"56\": 1, \"98\": 73, \"102\": 1, \"109\": 1, \"85\": 3, \"127\": 2, \"0\": 8, \"71\": 2, \"111\": 1, \"114\": 2, \"117\": 1, \"24\": 2, \"30\": 2, \"18\": 1, \"113\": 1, \"8\": 1, \"101\": 2, \"68\": 1, \"86\": 1, \"39\": 1, \"27\": 5, \"90\": 2, \"4\": 1, \"70\": 1, \"88\": 1}, \"56\": {\"53\": 1, \"56\": 6, \"4\": 3, \"37\": 2}, \"14\": {\"32\": 2, \"14\": 86, \"33\": 4, \"16\": 1, \"114\": 1, \"118\": 2, \"43\": 5, \"107\": 1, \"11\": 2, \"23\": 1, \"87\": 1, \"99\": 1, \"40\": 2, \"122\": 2, \"39\": 1}, \"90\": {\"90\": 109, \"110\": 2, \"102\": 2, \"80\": 1, \"96\": 2, \"88\": 1, \"109\": 3, \"3\": 1, \"93\": 7, \"84\": 1, \"33\": 1, \"16\": 1, \"18\": 1, \"23\": 1, \"66\": 1, \"38\": 1, \"113\": 3}, \"13\": {\"13\": 8, \"109\": 1, \"69\": 2, \"118\": 1, \"14\": 1, \"102\": 2, \"110\": 1}, \"89\": {\"89\": 20, \"114\": 1, \"71\": 1, \"105\": 1, \"12\": 1, \"3\": 3, \"87\": 1, \"70\": 1, \"72\": 2, \"60\": 1}, \"52\": {\"52\": 13, \"99\": 1, \"29\": 1, \"101\": 1, \"10\": 2, \"86\": 1, \"27\": 1}, \"72\": {\"14\": 2, \"72\": 21, \"62\": 1, \"109\": 1, \"88\": 1, \"122\": 1, \"70\": 1, \"5\": 1, \"3\": 2, \"99\": 1}, \"79\": {\"79\": 11, \"1\": 2, \"3\": 1, \"46\": 2}, \"113\": {\"113\": 56, \"117\": 13, \"39\": 9, \"26\": 10, \"16\": 5, \"84\": 3, \"18\": 6, \"62\": 1, \"24\": 1, \"126\": 7, \"11\": 1, \"109\": 6, \"88\": 2, \"70\": 1, \"90\": 2, \"81\": 1, \"38\": 1, \"110\": 1}}, \"Wisig_1\": {\"68\": {\"68\": 13, \"111\": 1, \"97\": 2}, \"7\": {\"7\": 125, \"1\": 4, \"44\": 3, \"109\": 1, \"108\": 1, \"126\": 6, \"23\": 1, \"43\": 1}, \"125\": {\"125\": 93, \"68\": 1, \"15\": 3, \"36\": 12, \"27\": 5, \"88\": 2, \"94\": 2}, \"111\": {\"111\": 82, \"97\": 1, \"15\": 4, \"12\": 3, \"32\": 1, \"127\": 10, \"110\": 4, \"109\": 1, \"71\": 2, \"36\": 1, \"88\": 6, \"101\": 3, \"106\": 2}, \"101\": {\"101\": 109, \"110\": 4, \"24\": 4, \"88\": 1, \"98\": 2, \"0\": 1, \"113\": 1, \"106\": 1, \"4\": 1}, \"11\": {\"60\": 2, \"11\": 79, \"80\": 2, \"82\": 2, \"84\": 4, \"102\": 3, \"8\": 1, \"62\": 3, \"87\": 1, \"33\": 12, \"43\": 3, \"44\": 1, \"1\": 5, \"39\": 1, \"120\": 1, \"81\": 2, \"25\": 1, \"67\": 1, \"96\": 2, \"122\": 2, \"14\": 3, \"7\": 1, \"93\": 1, \"40\": 1, \"114\": 1, \"69\": 1}, \"76\": {\"76\": 14, \"90\": 2}, \"5\": {\"5\": 74, \"40\": 1, \"90\": 1, \"9\": 1, \"93\": 1, \"108\": 1, \"124\": 1, \"83\": 1, \"47\": 1, \"55\": 1, \"35\": 2, \"34\": 1, \"86\": 1, \"39\": 1}, \"123\": {\"123\": 13, \"21\": 1, \"61\": 1, \"33\": 1}, \"85\": {\"85\": 26, \"86\": 1, \"127\": 2, \"10\": 2, \"91\": 1}, \"34\": {\"68\": 1, \"77\": 1, \"51\": 2, \"34\": 3, \"31\": 3, \"22\": 1, \"87\": 2, \"57\": 2, \"52\": 1, \"36\": 1, \"89\": 1, \"70\": 1, \"17\": 3, \"105\": 1, \"37\": 1, \"94\": 2, \"97\": 1, \"30\": 1, \"91\": 2, \"43\": 2}, \"42\": {\"34\": 1, \"42\": 11, \"66\": 1, \"89\": 1, \"109\": 2, \"38\": 1, \"8\": 2, \"105\": 1, \"9\": 2, \"85\": 1, \"107\": 1, \"5\": 2, \"114\": 1, \"124\": 1}, \"81\": {\"81\": 28}, \"127\": {\"101\": 3, \"111\": 5, \"127\": 81, \"98\": 1, \"12\": 7, \"110\": 5, \"71\": 2, \"36\": 1, \"30\": 2, \"88\": 1}, \"60\": {\"34\": 2, \"5\": 1, \"60\": 2, \"117\": 3, \"105\": 1, \"66\": 1, \"126\": 1, \"108\": 1, \"83\": 1, \"3\": 1, \"42\": 1, \"43\": 1}, \"77\": {\"77\": 16}, \"65\": {\"33\": 2, \"65\": 4, \"96\": 1, \"45\": 2, \"119\": 1, \"23\": 2}, \"44\": {\"44\": 68, \"115\": 1, \"126\": 2, \"70\": 1, \"43\": 1, \"83\": 1, \"7\": 2}, \"100\": {\"21\": 1, \"100\": 12, \"60\": 1, \"67\": 1, \"42\": 1}, \"80\": {\"21\": 1, \"80\": 14, \"11\": 1}, \"83\": {\"83\": 20, \"19\": 2, \"5\": 1, \"105\": 3, \"88\": 1, \"70\": 1}, \"51\": {\"51\": 13, \"52\": 1, \"94\": 1, \"37\": 1}, \"93\": {\"31\": 1, \"10\": 7, \"106\": 7, \"93\": 43, \"72\": 2, \"86\": 2, \"55\": 3, \"70\": 6, \"105\": 3, \"107\": 11, \"9\": 2, \"5\": 4, \"8\": 3, \"87\": 3, \"122\": 2, \"108\": 4, \"4\": 7, \"98\": 3, \"43\": 2, \"44\": 1, \"101\": 1, \"117\": 1, \"24\": 2, \"62\": 1, \"84\": 3, \"41\": 3, \"35\": 1, \"21\": 1, \"40\": 1, \"0\": 1, \"126\": 3}, \"31\": {\"31\": 8, \"93\": 2, \"38\": 2, \"87\": 1, \"4\": 1, \"79\": 1, \"34\": 1}, \"33\": {\"33\": 116, \"82\": 2, \"69\": 2, \"102\": 2, \"7\": 1, \"126\": 1, \"74\": 1, \"11\": 1}, \"113\": {\"123\": 2, \"113\": 97, \"18\": 3, \"26\": 6, \"69\": 1, \"118\": 2, \"39\": 3, \"117\": 3, \"16\": 2, \"121\": 1, \"102\": 1, \"109\": 1, \"43\": 2}, \"126\": {\"126\": 54, \"21\": 3, \"102\": 1, \"86\": 1, \"1\": 14, \"19\": 2, \"16\": 1, \"7\": 15, \"84\": 4, \"5\": 4, \"93\": 1, \"10\": 1, \"43\": 4, \"44\": 3, \"39\": 2, \"70\": 4, \"90\": 2, \"128\": 1, \"26\": 1, \"114\": 2, \"108\": 1, \"87\": 1, \"33\": 1, \"109\": 1}, \"10\": {\"10\": 63, \"60\": 2, \"85\": 2, \"75\": 1, \"70\": 8, \"108\": 6, \"111\": 2, \"88\": 1, \"104\": 1, \"93\": 7, \"110\": 4, \"84\": 2, \"87\": 4, \"0\": 2, \"101\": 5, \"40\": 1, \"23\": 1, \"27\": 1, \"71\": 1, \"127\": 2, \"8\": 1, \"109\": 1, \"107\": 1, \"7\": 1}, \"21\": {\"21\": 8, \"90\": 4, \"78\": 1, \"39\": 1, \"38\": 1, \"23\": 1, \"117\": 2, \"3\": 1, \"2\": 2, \"74\": 1, \"8\": 1, \"44\": 1, \"109\": 2, \"118\": 1, \"72\": 1, \"105\": 1, \"5\": 2, \"98\": 1, \"96\": 1, \"87\": 1, \"60\": 1, \"14\": 1, \"95\": 1, \"127\": 1, \"108\": 1, \"71\": 1}, \"90\": {\"90\": 103, \"109\": 13, \"44\": 1, \"3\": 4, \"42\": 2, \"64\": 1, \"26\": 1, \"39\": 1, \"61\": 2, \"7\": 1, \"43\": 1, \"33\": 1, \"126\": 1}, \"38\": {\"38\": 16}, \"96\": {\"96\": 14, \"44\": 1, \"28\": 2, \"70\": 1, \"99\": 1, \"7\": 1}, \"6\": {\"88\": 1, \"6\": 15, \"89\": 1, \"94\": 1, \"15\": 1, \"112\": 1, \"27\": 2, \"101\": 1, \"72\": 1, \"71\": 2, \"0\": 1, \"52\": 1, \"41\": 1, \"106\": 1, \"36\": 2}, \"121\": {\"113\": 3, \"121\": 21, \"95\": 1, \"117\": 1, \"26\": 3, \"63\": 1, \"123\": 2}, \"37\": {\"92\": 3, \"37\": 12, \"51\": 1}, \"88\": {\"94\": 8, \"88\": 38, \"52\": 1, \"6\": 1, \"72\": 1, \"127\": 3, \"0\": 2, \"36\": 6, \"108\": 8, \"15\": 13, \"32\": 1, \"110\": 3, \"125\": 5, \"98\": 2, \"24\": 6, \"27\": 6, \"107\": 3, \"101\": 3, \"70\": 1, \"111\": 2, \"93\": 3, \"10\": 2, \"9\": 1, \"5\": 1, \"8\": 3, \"71\": 1, \"12\": 1, \"106\": 1}, \"54\": {\"54\": 14, \"107\": 1, \"46\": 1}, \"92\": {\"92\": 28}, \"19\": {\"73\": 1, \"19\": 14, \"115\": 2, \"84\": 1, \"8\": 1, \"70\": 1, \"114\": 1, \"34\": 1, \"129\": 1, \"83\": 1, \"14\": 4}, \"47\": {\"47\": 10, \"9\": 2}, \"94\": {\"6\": 2, \"15\": 7, \"127\": 7, \"94\": 45, \"101\": 1, \"112\": 1, \"98\": 2, \"36\": 2, \"110\": 2, \"18\": 1, \"12\": 3, \"111\": 4, \"24\": 3, \"106\": 3, \"27\": 1, \"71\": 4, \"88\": 2, \"99\": 1, \"113\": 1}, \"66\": {\"66\": 11, \"22\": 2, \"109\": 1, \"99\": 2}, \"73\": {\"73\": 15, \"59\": 1, \"5\": 4}, \"75\": {\"75\": 15, \"30\": 1}, \"28\": {\"78\": 1, \"28\": 10, \"122\": 1, \"57\": 1, \"128\": 2, \"76\": 1, \"94\": 1, \"48\": 1, \"64\": 1, \"43\": 1}, \"20\": {\"20\": 15, \"83\": 1}, \"78\": {\"123\": 1, \"78\": 8, \"87\": 3, \"129\": 1, \"74\": 1, \"66\": 1, \"48\": 1}, \"71\": {\"71\": 52, \"12\": 8, \"110\": 1, \"26\": 1, \"111\": 7, \"15\": 7, \"30\": 1, \"10\": 1, \"27\": 1, \"98\": 4, \"36\": 1, \"94\": 2, \"127\": 11, \"117\": 1, \"91\": 1, \"39\": 1, \"0\": 2, \"24\": 1, \"101\": 1}, \"13\": {\"13\": 13, \"16\": 1, \"63\": 1, \"117\": 1}, \"118\": {\"118\": 51, \"69\": 5, \"26\": 14, \"2\": 2, \"16\": 8, \"39\": 1, \"117\": 3}, \"72\": {\"72\": 28, \"91\": 1, \"98\": 1, \"101\": 1, \"127\": 1}, \"24\": {\"24\": 21, \"72\": 1, \"77\": 1, \"49\": 2, \"98\": 7, \"91\": 1, \"88\": 3, \"5\": 1, \"106\": 2, \"71\": 5, \"111\": 11, \"4\": 3, \"113\": 1, \"108\": 2, \"107\": 6, \"101\": 4, \"0\": 1, \"15\": 2, \"93\": 1, \"18\": 1, \"110\": 2, \"55\": 1, \"23\": 1, \"6\": 2, \"86\": 1, \"9\": 1, \"30\": 1, \"27\": 2, \"70\": 3, \"40\": 1, \"127\": 1}, \"41\": {\"41\": 11, \"23\": 2, \"91\": 1, \"10\": 2}, \"102\": {\"102\": 103, \"50\": 2, \"11\": 1, \"33\": 9, \"62\": 2, \"69\": 2, \"15\": 1}, \"8\": {\"123\": 1, \"8\": 82, \"35\": 1, \"107\": 2, \"41\": 2, \"77\": 1, \"70\": 3, \"40\": 7, \"89\": 1, \"19\": 1, \"43\": 2, \"105\": 4, \"4\": 1, \"14\": 2, \"84\": 1, \"124\": 3, \"93\": 3, \"108\": 5, \"126\": 1, \"1\": 1, \"122\": 2, \"5\": 1, \"31\": 2, \"15\": 1, \"101\": 3, \"87\": 3, \"114\": 2}, \"39\": {\"39\": 47, \"76\": 1, \"18\": 4, \"118\": 7, \"21\": 3, \"16\": 8, \"102\": 2, \"69\": 2, \"109\": 5, \"26\": 2, \"117\": 12, \"88\": 1, \"2\": 1, \"12\": 1}, \"97\": {\"97\": 9, \"111\": 2, \"24\": 1, \"30\": 1, \"89\": 1, \"75\": 1, \"6\": 2, \"77\": 1, \"98\": 1, \"2\": 1}, \"48\": {\"57\": 2, \"48\": 8, \"128\": 2}, \"57\": {\"57\": 12}, \"29\": {\"29\": 27, \"68\": 1}, \"119\": {\"119\": 16}, \"89\": {\"89\": 21, \"31\": 1, \"41\": 1, \"98\": 1, \"12\": 2, \"10\": 1, \"9\": 1, \"8\": 1, \"85\": 1, \"54\": 1, \"55\": 1, \"30\": 1, \"106\": 2, \"49\": 1}, \"40\": {\"40\": 115, \"54\": 1, \"105\": 6, \"4\": 3, \"84\": 1, \"107\": 3, \"8\": 3, \"114\": 3, \"124\": 5}, \"22\": {\"111\": 1, \"22\": 12, \"38\": 2, \"100\": 1}, \"53\": {\"53\": 12, \"89\": 1, \"24\": 2, \"27\": 1, \"91\": 1, \"0\": 1, \"6\": 1, \"93\": 1}, \"108\": {\"80\": 1, \"108\": 34, \"107\": 8, \"5\": 4, \"1\": 2, \"106\": 2, \"126\": 4, \"85\": 1, \"21\": 1, \"14\": 1, \"70\": 5, \"88\": 2, \"87\": 4, \"72\": 3, \"101\": 4, \"10\": 1, \"0\": 3, \"93\": 10, \"8\": 3, \"24\": 4, \"4\": 2, \"12\": 1, \"94\": 1, \"90\": 1, \"98\": 1, \"40\": 3, \"109\": 1, \"9\": 2, \"84\": 2, \"97\": 1, \"128\": 1, \"71\": 1, \"7\": 1, \"111\": 2, \"110\": 2, \"127\": 2, \"43\": 2, \"33\": 1}, \"23\": {\"41\": 1, \"109\": 2, \"95\": 1, \"28\": 1, \"52\": 1, \"35\": 1, \"82\": 1, \"101\": 1, \"99\": 2, \"55\": 1, \"70\": 1, \"30\": 1, \"66\": 1, \"104\": 1, \"33\": 1, \"85\": 1, \"23\": 1, \"10\": 1, \"88\": 1, \"89\": 1, \"91\": 1, \"75\": 1}, \"109\": {\"109\": 55, \"76\": 3, \"61\": 1, \"39\": 4, \"96\": 1, \"90\": 16, \"64\": 2, \"3\": 5, \"44\": 2, \"18\": 1, \"62\": 2, \"7\": 10, \"1\": 2, \"11\": 3, \"126\": 3, \"122\": 1, \"87\": 2, \"114\": 1, \"70\": 1, \"84\": 1}, \"112\": {\"35\": 1, \"112\": 8, \"12\": 1, \"6\": 2, \"24\": 1, \"111\": 1, \"71\": 2}, \"35\": {\"23\": 2, \"35\": 6, \"8\": 1, \"49\": 1, \"86\": 2}, \"3\": {\"3\": 75, \"96\": 2, \"102\": 1, \"90\": 1, \"125\": 2, \"39\": 1, \"60\": 1, \"129\": 2, \"44\": 1, \"36\": 2}, \"103\": {\"103\": 13, \"94\": 1, \"111\": 1, \"52\": 1}, \"4\": {\"4\": 63, \"93\": 6, \"9\": 2, \"105\": 4, \"107\": 4, \"40\": 6, \"108\": 1, \"87\": 2, \"5\": 3, \"8\": 2, \"117\": 1, \"124\": 1, \"123\": 1, \"86\": 1, \"72\": 1, \"114\": 1, \"0\": 1}, \"87\": {\"28\": 1, \"87\": 35, \"78\": 1, \"34\": 1, \"70\": 8, \"40\": 6, \"84\": 13, \"45\": 1, \"41\": 1, \"5\": 2, \"86\": 2, \"107\": 1, \"7\": 2, \"16\": 1, \"105\": 9, \"74\": 1, \"126\": 2, \"114\": 6, \"122\": 4, \"10\": 2, \"93\": 1, \"48\": 2, \"4\": 2, \"43\": 1, \"108\": 1, \"14\": 1, \"1\": 1}, \"25\": {\"95\": 1, \"120\": 1, \"25\": 7, \"129\": 1, \"45\": 2, \"82\": 1, \"100\": 1, \"20\": 1, \"117\": 1}, \"15\": {\"94\": 7, \"127\": 7, \"15\": 49, \"125\": 3, \"30\": 2, \"9\": 1, \"32\": 1, \"10\": 1, \"110\": 2, \"12\": 7, \"36\": 4, \"69\": 1, \"27\": 5, \"98\": 1, \"4\": 1, \"101\": 1, \"0\": 2, \"53\": 1, \"6\": 1, \"71\": 2, \"121\": 1, \"111\": 2, \"117\": 1, \"24\": 1}, \"95\": {\"95\": 19, \"39\": 3, \"10\": 1, \"62\": 4, \"90\": 1, \"26\": 3, \"69\": 1, \"117\": 1, \"76\": 1, \"16\": 2}, \"120\": {\"120\": 15, \"62\": 2, \"105\": 1, \"123\": 1, \"121\": 1}, \"59\": {\"59\": 9, \"36\": 2, \"118\": 1}, \"49\": {\"35\": 1, \"85\": 2, \"9\": 1, \"93\": 2, \"5\": 1, \"49\": 5, \"96\": 1, \"106\": 1, \"8\": 1, \"101\": 1, \"34\": 1, \"24\": 1, \"7\": 1, \"73\": 1}, \"52\": {\"52\": 18, \"78\": 1, \"33\": 1}, \"45\": {\"65\": 1, \"22\": 1, \"80\": 1, \"7\": 1, \"41\": 1, \"36\": 1, \"61\": 1, \"45\": 1, \"74\": 3, \"33\": 1}, \"107\": {\"107\": 109, \"88\": 1, \"46\": 3, \"9\": 1, \"89\": 1, \"110\": 1, \"98\": 1, \"101\": 1, \"55\": 1, \"4\": 3, \"40\": 2}, \"106\": {\"106\": 90, \"10\": 1, \"32\": 2, \"107\": 2, \"110\": 4, \"111\": 6, \"93\": 1, \"24\": 2, \"101\": 5, \"98\": 9, \"88\": 1, \"127\": 3, \"71\": 1, \"89\": 2, \"91\": 1, \"49\": 1, \"12\": 3}, \"18\": {\"123\": 1, \"18\": 111, \"90\": 1, \"117\": 5, \"113\": 1, \"16\": 1, \"109\": 2, \"2\": 1, \"39\": 1}, \"64\": {\"64\": 16}, \"86\": {\"86\": 24, \"93\": 2, \"5\": 2, \"10\": 1, \"47\": 1, \"70\": 1, \"108\": 3, \"4\": 1, \"105\": 1}, \"14\": {\"33\": 1, \"115\": 1, \"14\": 84, \"80\": 1, \"84\": 4, \"108\": 1, \"122\": 2, \"129\": 2}, \"115\": {\"115\": 9, \"20\": 1, \"19\": 1, \"4\": 1}, \"0\": {\"0\": 44, \"32\": 2, \"111\": 2, \"5\": 1, \"98\": 4, \"108\": 1, \"110\": 7, \"106\": 1, \"10\": 5, \"91\": 1, \"24\": 2, \"93\": 4, \"71\": 1, \"101\": 2, \"86\": 1, \"85\": 1, \"56\": 1, \"28\": 1, \"97\": 1, \"30\": 1, \"127\": 1}, \"104\": {\"104\": 12, \"128\": 2, \"115\": 2}, \"61\": {\"61\": 8, \"129\": 1, \"109\": 2, \"90\": 1}, \"129\": {\"129\": 9, \"35\": 1, \"102\": 1, \"117\": 1, \"73\": 3, \"5\": 2, \"62\": 1, \"115\": 1, \"63\": 2, \"86\": 1, \"3\": 3, \"26\": 1, \"114\": 1, \"4\": 1}, \"122\": {\"122\": 36, \"81\": 1, \"126\": 5, \"60\": 1, \"70\": 3, \"86\": 1, \"14\": 10, \"87\": 2, \"40\": 3, \"84\": 5, \"1\": 1, \"114\": 5, \"43\": 4, \"16\": 1, \"83\": 1, \"115\": 1, \"38\": 1, \"74\": 1, \"7\": 1, \"105\": 1, \"39\": 1, \"33\": 1, \"62\": 1, \"108\": 1}, \"67\": {\"67\": 14, \"21\": 1, \"39\": 1}, \"128\": {\"57\": 3, \"34\": 1, \"72\": 3, \"61\": 1, \"9\": 1, \"128\": 6, \"85\": 1, \"7\": 1, \"107\": 1, \"28\": 1, \"49\": 1, \"44\": 1, \"46\": 1, \"71\": 1, \"96\": 1}, \"26\": {\"26\": 117, \"118\": 4, \"69\": 1, \"21\": 1, \"113\": 1, \"117\": 3, \"16\": 5, \"121\": 1, \"33\": 1}, \"117\": {\"13\": 1, \"117\": 113, \"63\": 2, \"109\": 1, \"18\": 2, \"69\": 1, \"16\": 6, \"26\": 4, \"95\": 1, \"39\": 4, \"118\": 1}, \"91\": {\"91\": 13, \"85\": 1, \"72\": 1, \"110\": 2, \"0\": 3, \"111\": 1, \"32\": 1, \"71\": 2, \"88\": 1, \"89\": 2, \"75\": 1}, \"12\": {\"12\": 46, \"6\": 4, \"32\": 1, \"110\": 5, \"30\": 2, \"127\": 13, \"101\": 3, \"98\": 5, \"71\": 4, \"91\": 1, \"111\": 6, \"18\": 1, \"15\": 1, \"69\": 1, \"88\": 1, \"4\": 1, \"118\": 1, \"0\": 1, \"106\": 1, \"112\": 2, \"94\": 1, \"33\": 1, \"27\": 1, \"90\": 1}, \"50\": {\"50\": 16}, \"99\": {\"99\": 17, \"23\": 1, \"33\": 1, \"1\": 2, \"90\": 1, \"96\": 1, \"82\": 1}, \"110\": {\"110\": 72, \"89\": 1, \"106\": 6, \"0\": 3, \"127\": 7, \"10\": 2, \"24\": 2, \"88\": 2, \"101\": 2, \"111\": 5, \"12\": 2}, \"43\": {\"43\": 42, \"23\": 3, \"87\": 10, \"84\": 14, \"14\": 5, \"126\": 6, \"109\": 2, \"36\": 1, \"114\": 4, \"40\": 2, \"122\": 6, \"7\": 5, \"106\": 1, \"1\": 4, \"11\": 4, \"21\": 1, \"33\": 1, \"108\": 1, \"5\": 1, \"44\": 1, \"111\": 1, \"107\": 1}, \"82\": {\"81\": 1, \"82\": 28, \"33\": 5, \"11\": 1, \"2\": 1}, \"1\": {\"1\": 81, \"129\": 1, \"87\": 1, \"126\": 4, \"84\": 4, \"93\": 1, \"114\": 3, \"106\": 1}, \"46\": {\"6\": 1, \"40\": 1, \"46\": 3, \"38\": 1, \"32\": 1, \"129\": 1, \"54\": 1, \"56\": 1, \"105\": 1, \"12\": 1}, \"16\": {\"16\": 72, \"117\": 12, \"118\": 5, \"109\": 2, \"21\": 1, \"69\": 2, \"113\": 1, \"26\": 9, \"13\": 2, \"102\": 2}, \"74\": {\"74\": 15, \"122\": 1}, \"32\": {\"32\": 17, \"0\": 1, \"97\": 1, \"111\": 2, \"91\": 1, \"101\": 1, \"71\": 2, \"56\": 1, \"73\": 1, \"51\": 1, \"41\": 1, \"34\": 1, \"106\": 1, \"49\": 1}, \"62\": {\"62\": 106, \"67\": 1, \"33\": 5, \"69\": 3, \"102\": 2, \"90\": 1, \"94\": 1, \"11\": 1}, \"27\": {\"27\": 29, \"17\": 1, \"56\": 1, \"36\": 7, \"37\": 1, \"32\": 2, \"91\": 3, \"30\": 2, \"0\": 1, \"70\": 2, \"111\": 4, \"110\": 2, \"88\": 6, \"12\": 3, \"125\": 7, \"94\": 5, \"106\": 3, \"15\": 4, \"59\": 1, \"29\": 1, \"6\": 2, \"72\": 1, \"69\": 1, \"21\": 1, \"24\": 1, \"101\": 1}, \"17\": {\"17\": 14, \"107\": 1, \"86\": 1}, \"36\": {\"36\": 86, \"94\": 5, \"92\": 1, \"30\": 1, \"71\": 4, \"15\": 10, \"27\": 4, \"88\": 7, \"125\": 11, \"106\": 1, \"26\": 1, \"111\": 2, \"24\": 1}, \"2\": {\"18\": 5, \"78\": 1, \"129\": 2, \"95\": 1, \"116\": 1, \"117\": 3, \"102\": 4, \"39\": 3, \"13\": 1, \"2\": 6, \"82\": 2, \"96\": 1, \"1\": 2}, \"70\": {\"72\": 1, \"78\": 1, \"128\": 1, \"34\": 1, \"97\": 1, \"70\": 31, \"44\": 3, \"9\": 1, \"8\": 4, \"83\": 1, \"79\": 1, \"107\": 2, \"96\": 1, \"109\": 3, \"102\": 1, \"11\": 2, \"4\": 5, \"126\": 5, \"108\": 10, \"87\": 4, \"82\": 1, \"5\": 2, \"98\": 2, \"18\": 2, \"69\": 1, \"110\": 1, \"10\": 4, \"122\": 1, \"7\": 5, \"93\": 6, \"24\": 1, \"124\": 4, \"90\": 1, \"127\": 1, \"84\": 3, \"35\": 1, \"60\": 1, \"89\": 1, \"86\": 2, \"12\": 1, \"40\": 1, \"118\": 1, \"0\": 1, \"101\": 2, \"62\": 1, \"39\": 1, \"88\": 1}, \"9\": {\"9\": 17, \"89\": 1, \"8\": 1, \"24\": 2, \"72\": 4, \"108\": 1, \"47\": 1, \"4\": 1, \"107\": 1, \"49\": 1, \"93\": 2}, \"114\": {\"79\": 2, \"114\": 96, \"1\": 6, \"84\": 11, \"5\": 2, \"70\": 1, \"40\": 5, \"19\": 1, \"129\": 1, \"3\": 1, \"105\": 1, \"87\": 2, \"124\": 1}, \"79\": {\"79\": 9, \"83\": 1, \"114\": 1, \"1\": 1}, \"56\": {\"56\": 8, \"127\": 1, \"98\": 1, \"112\": 1, \"110\": 1}, \"124\": {\"124\": 66, \"5\": 2, \"40\": 12, \"105\": 6, \"8\": 2, \"4\": 3, \"43\": 1, \"114\": 5, \"93\": 2, \"54\": 1, \"87\": 2}, \"84\": {\"14\": 4, \"84\": 97, \"19\": 2, \"86\": 1, \"11\": 1, \"126\": 3, \"87\": 3, \"114\": 9, \"40\": 1, \"122\": 2, \"43\": 3, \"1\": 3, \"45\": 1, \"80\": 1, \"74\": 1, \"129\": 1, \"93\": 1}, \"69\": {\"69\": 82, \"16\": 1, \"26\": 4, \"33\": 4, \"102\": 9, \"118\": 3, \"122\": 1, \"62\": 1, \"109\": 1, \"11\": 1, \"39\": 1}, \"58\": {\"58\": 9, \"127\": 1, \"0\": 2}, \"30\": {\"30\": 18, \"94\": 1, \"49\": 1, \"68\": 2, \"110\": 1, \"88\": 1, \"27\": 2, \"70\": 1, \"12\": 3, \"36\": 3, \"71\": 4, \"10\": 1, \"6\": 3, \"0\": 1, \"58\": 1, \"55\": 1, \"85\": 1, \"34\": 1, \"89\": 1, \"111\": 2, \"15\": 2, \"53\": 1}, \"55\": {\"55\": 12}, \"105\": {\"105\": 61, \"83\": 1, \"8\": 3, \"40\": 5, \"108\": 1, \"87\": 1, \"43\": 2, \"84\": 3, \"114\": 2, \"107\": 1, \"80\": 1, \"124\": 1, \"5\": 1, \"31\": 1}, \"63\": {\"63\": 15, \"13\": 1}, \"98\": {\"0\": 2, \"98\": 65, \"106\": 3, \"127\": 5, \"77\": 1, \"12\": 6, \"24\": 1, \"9\": 2, \"56\": 1, \"111\": 4, \"71\": 5, \"110\": 3, \"88\": 1, \"94\": 1, \"58\": 2, \"89\": 1, \"101\": 4, \"15\": 1}, \"116\": {\"116\": 17, \"80\": 1, \"95\": 1, \"33\": 2, \"42\": 1, \"114\": 1, \"102\": 1, \"120\": 1, \"69\": 1, \"100\": 1, \"65\": 1, \"3\": 2, \"16\": 1, \"83\": 1}}, \"Wisig_3\": {\"76\": {\"76\": 14, \"79\": 2}, \"6\": {\"94\": 3, \"58\": 1, \"6\": 24, \"97\": 1, \"69\": 1, \"101\": 2}, \"108\": {\"46\": 2, \"86\": 1, \"108\": 38, \"127\": 10, \"110\": 4, \"24\": 1, \"105\": 7, \"10\": 7, \"98\": 1, \"70\": 2, \"3\": 4, \"88\": 1, \"125\": 1, \"12\": 4, \"4\": 4, \"8\": 1, \"87\": 3, \"114\": 3, \"107\": 1, \"17\": 1, \"57\": 1, \"99\": 1, \"66\": 1, \"128\": 2, \"5\": 1, \"27\": 1, \"7\": 1, \"1\": 1, \"71\": 1}, \"29\": {\"29\": 24, \"23\": 1, \"116\": 1, \"44\": 2, \"27\": 1, \"84\": 2, \"11\": 1}, \"83\": {\"108\": 1, \"83\": 19, \"98\": 1, \"70\": 1, \"95\": 1, \"112\": 1}, \"18\": {\"18\": 113, \"118\": 2, \"39\": 2, \"113\": 2, \"31\": 1, \"81\": 4, \"117\": 2, \"93\": 1, \"109\": 1}, \"54\": {\"54\": 16}, \"15\": {\"15\": 62, \"91\": 1, \"27\": 3, \"8\": 3, \"36\": 7, \"24\": 2, \"30\": 7, \"12\": 6, \"111\": 2, \"94\": 2, \"101\": 2, \"106\": 4, \"98\": 1, \"125\": 2}, \"100\": {\"100\": 14, \"44\": 1, \"50\": 1}, \"90\": {\"29\": 1, \"90\": 92, \"11\": 3, \"44\": 10, \"110\": 1, \"60\": 1, \"23\": 1, \"109\": 2, \"16\": 2, \"1\": 1, \"5\": 1, \"33\": 4, \"84\": 2, \"93\": 4, \"31\": 3, \"28\": 1, \"32\": 1, \"116\": 1, \"92\": 2, \"62\": 1, \"88\": 2}, \"26\": {\"26\": 118, \"39\": 4, \"93\": 1, \"88\": 1, \"109\": 1, \"117\": 2, \"11\": 2, \"121\": 1, \"43\": 2}, \"115\": {\"76\": 3, \"23\": 1, \"57\": 1, \"40\": 2, \"115\": 7, \"14\": 1, \"122\": 1}, \"94\": {\"15\": 6, \"94\": 52, \"0\": 4, \"98\": 1, \"36\": 1, \"73\": 1, \"12\": 3, \"101\": 3, \"111\": 3, \"106\": 1, \"72\": 1, \"42\": 1, \"6\": 1, \"91\": 1, \"8\": 1, \"24\": 2, \"27\": 1, \"93\": 1}, \"46\": {\"46\": 9, \"99\": 2, \"9\": 2, \"83\": 1, \"53\": 1, \"5\": 1}, \"121\": {\"121\": 20, \"116\": 1, \"113\": 2, \"122\": 1, \"102\": 1, \"39\": 4, \"92\": 1, \"23\": 1, \"21\": 1}, \"109\": {\"26\": 2, \"109\": 65, \"102\": 11, \"80\": 1, \"82\": 1, \"16\": 6, \"69\": 3, \"118\": 13, \"90\": 3, \"117\": 1, \"39\": 1, \"14\": 2, \"88\": 6, \"33\": 3, \"93\": 2, \"21\": 1, \"64\": 1, \"44\": 1, \"43\": 1, \"113\": 1, \"11\": 2, \"62\": 1}, \"101\": {\"101\": 36, \"51\": 1, \"58\": 1, \"0\": 3, \"91\": 1, \"125\": 1, \"15\": 2, \"111\": 1, \"59\": 2, \"12\": 1, \"30\": 2, \"8\": 1}, \"99\": {\"99\": 31, \"71\": 1, \"85\": 1, \"127\": 1, \"47\": 1, \"86\": 1}, \"8\": {\"8\": 45, \"46\": 1, \"124\": 11, \"71\": 1, \"98\": 9, \"12\": 6, \"111\": 4, \"4\": 5, \"10\": 3, \"30\": 1, \"73\": 1, \"7\": 2, \"15\": 3, \"5\": 5, \"125\": 1, \"127\": 10, \"27\": 5, \"108\": 3, \"52\": 2, \"77\": 1, \"66\": 2, \"86\": 1, \"117\": 1, \"0\": 2, \"36\": 1, \"3\": 1, \"106\": 1}, \"102\": {\"89\": 2, \"102\": 87, \"118\": 3, \"69\": 1, \"33\": 5, \"107\": 1, \"82\": 1, \"109\": 2, \"16\": 2}, \"122\": {\"123\": 1, \"9\": 1, \"96\": 1, \"122\": 24, \"88\": 6, \"17\": 1, \"62\": 3, \"60\": 1, \"105\": 1, \"40\": 4, \"87\": 3, \"1\": 1, \"32\": 1, \"10\": 1, \"26\": 1, \"114\": 1, \"107\": 2, \"115\": 1, \"126\": 1, \"129\": 1, \"110\": 1, \"70\": 1, \"4\": 1, \"5\": 1}, \"36\": {\"54\": 1, \"36\": 48, \"6\": 2, \"72\": 1, \"27\": 4, \"24\": 3, \"8\": 5, \"106\": 2, \"15\": 8, \"94\": 4, \"30\": 3, \"73\": 3, \"125\": 8, \"111\": 6, \"12\": 3, \"101\": 1, \"0\": 3, \"98\": 3, \"124\": 1, \"127\": 4, \"10\": 1, \"7\": 2}, \"113\": {\"113\": 67, \"120\": 1, \"92\": 1, \"88\": 1, \"117\": 7, \"109\": 5, \"93\": 8, \"39\": 7, \"126\": 3, \"26\": 4, \"18\": 10, \"118\": 2, \"123\": 2, \"33\": 2}, \"123\": {\"123\": 11, \"102\": 1, \"63\": 2, \"18\": 2}, \"120\": {\"120\": 20}, \"125\": {\"125\": 91, \"94\": 5, \"36\": 4, \"106\": 3, \"27\": 1, \"15\": 3, \"88\": 1}, \"89\": {\"89\": 23, \"14\": 1, \"30\": 1, \"69\": 1, \"84\": 2}, \"9\": {\"9\": 30, \"105\": 1, \"127\": 1}, \"31\": {\"31\": 15, \"64\": 1, \"39\": 1, \"90\": 1, \"116\": 2}, \"62\": {\"62\": 93, \"69\": 3, \"11\": 6, \"14\": 3, \"33\": 2, \"84\": 1, \"87\": 3, \"126\": 1, \"109\": 1, \"110\": 1}, \"49\": {\"28\": 1, \"101\": 3, \"14\": 1, \"49\": 2, \"19\": 1, \"93\": 1, \"1\": 1, \"77\": 1, \"42\": 1, \"80\": 1, \"44\": 1, \"95\": 1, \"70\": 1, \"22\": 1, \"92\": 1, \"6\": 2, \"60\": 2, \"90\": 2}, \"23\": {\"18\": 2, \"55\": 1, \"23\": 5, \"67\": 1, \"25\": 1, \"10\": 1, \"127\": 1, \"26\": 3, \"83\": 1, \"113\": 1, \"110\": 1, \"70\": 1, \"109\": 2, \"2\": 2, \"31\": 1, \"98\": 1, \"126\": 1, \"89\": 1, \"108\": 1, \"3\": 1, \"85\": 1, \"21\": 2}, \"55\": {\"55\": 13, \"88\": 1, \"60\": 1, \"122\": 1}, \"128\": {\"127\": 3, \"57\": 1, \"128\": 11, \"0\": 1, \"85\": 2, \"122\": 3, \"110\": 3, \"7\": 2, \"41\": 1, \"95\": 1, \"98\": 1, \"72\": 1, \"60\": 1, \"99\": 1}, \"71\": {\"71\": 55, \"49\": 1, \"26\": 1, \"127\": 3, \"34\": 2, \"105\": 1, \"108\": 2, \"114\": 1, \"5\": 2}, \"51\": {\"51\": 13, \"101\": 1, \"58\": 1, \"8\": 1}, \"7\": {\"7\": 86, \"10\": 1, \"77\": 1, \"34\": 1, \"3\": 1, \"91\": 1, \"8\": 3, \"12\": 2, \"127\": 5, \"56\": 1, \"95\": 1, \"0\": 1, \"24\": 1, \"108\": 1}, \"117\": {\"117\": 81, \"2\": 3, \"26\": 1, \"39\": 6, \"113\": 4, \"93\": 2, \"18\": 7}, \"28\": {\"28\": 12, \"29\": 1, \"87\": 1, \"20\": 1, \"70\": 1}, \"127\": {\"71\": 3, \"127\": 110, \"9\": 2, \"30\": 1, \"8\": 2, \"5\": 1, \"108\": 3, \"19\": 1, \"85\": 1, \"17\": 1, \"128\": 2, \"105\": 1}, \"57\": {\"57\": 19, \"60\": 1}, \"78\": {\"117\": 1, \"55\": 1, \"96\": 2, \"78\": 3, \"22\": 1, \"110\": 1, \"92\": 2, \"54\": 1, \"40\": 1, \"21\": 1, \"61\": 1, \"31\": 1}, \"87\": {\"122\": 1, \"90\": 3, \"40\": 6, \"115\": 1, \"48\": 2, \"87\": 59, \"107\": 9, \"129\": 3, \"1\": 2, \"110\": 3, \"84\": 7, \"88\": 3, \"11\": 1, \"14\": 3, \"109\": 1, \"114\": 5, \"50\": 1, \"78\": 2, \"23\": 1, \"33\": 1, \"29\": 2, \"32\": 1, \"117\": 1, \"70\": 1, \"102\": 1}, \"40\": {\"40\": 98, \"129\": 1, \"39\": 1, \"110\": 4, \"107\": 15, \"11\": 1, \"87\": 2, \"69\": 1, \"74\": 1, \"122\": 2, \"105\": 1, \"114\": 1}, \"81\": {\"81\": 26, \"18\": 6}, \"2\": {\"2\": 19, \"96\": 1, \"117\": 1, \"67\": 1, \"26\": 1, \"118\": 1, \"63\": 1, \"119\": 1, \"39\": 1, \"31\": 1}, \"58\": {\"58\": 13, \"6\": 1, \"111\": 1, \"24\": 1}, \"68\": {\"68\": 11, \"52\": 2, \"2\": 1, \"41\": 1, \"72\": 1}, \"20\": {\"20\": 6, \"115\": 1, \"45\": 1, \"116\": 1, \"110\": 1, \"11\": 1, \"60\": 1, \"79\": 1, \"36\": 1, \"90\": 1, \"129\": 1}, \"35\": {\"35\": 8, \"68\": 1, \"91\": 1, \"34\": 2}, \"96\": {\"96\": 14, \"93\": 1, \"63\": 1, \"11\": 1, \"113\": 1, \"43\": 1, \"92\": 1}, \"84\": {\"84\": 87, \"102\": 1, \"33\": 1, \"11\": 2, \"62\": 5, \"107\": 2, \"87\": 2, \"16\": 2, \"116\": 1, \"82\": 2, \"69\": 2, \"14\": 1}, \"13\": {\"118\": 1, \"13\": 4, \"16\": 2, \"69\": 3, \"39\": 2, \"80\": 1, \"93\": 1, \"43\": 1, \"26\": 1}, \"64\": {\"64\": 20}, \"112\": {\"112\": 8, \"5\": 1, \"42\": 3, \"75\": 1, \"94\": 1, \"4\": 1, \"108\": 1}, \"103\": {\"103\": 11, \"5\": 1, \"42\": 1, \"114\": 1, \"99\": 1, \"29\": 1}, \"65\": {\"65\": 10, \"23\": 1, \"63\": 1}, \"118\": {\"118\": 44, \"93\": 7, \"13\": 1, \"109\": 9, \"69\": 2, \"96\": 1, \"26\": 11, \"102\": 10, \"113\": 3, \"88\": 2, \"33\": 2, \"16\": 3, \"11\": 1, \"89\": 1, \"39\": 3}, \"88\": {\"93\": 4, \"122\": 1, \"9\": 1, \"118\": 4, \"88\": 36, \"55\": 1, \"68\": 1, \"44\": 1, \"128\": 1, \"87\": 6, \"39\": 3, \"1\": 3, \"110\": 3, \"21\": 2, \"109\": 4, \"126\": 1, \"105\": 2, \"113\": 2, \"5\": 1, \"90\": 2, \"70\": 5, \"114\": 3, \"108\": 4, \"36\": 2, \"18\": 1, \"103\": 1, \"40\": 1, \"57\": 2, \"116\": 1, \"129\": 1, \"7\": 1, \"10\": 3, \"85\": 1, \"3\": 2, \"107\": 1, \"33\": 1, \"15\": 1, \"11\": 1, \"127\": 1}, \"85\": {\"85\": 27, \"34\": 2, \"104\": 1, \"99\": 1, \"108\": 1, \"71\": 1, \"127\": 1, \"124\": 2}, \"5\": {\"112\": 1, \"5\": 90, \"105\": 2, \"103\": 1, \"71\": 1, \"126\": 1, \"1\": 4, \"3\": 3, \"4\": 4, \"98\": 1, \"18\": 1, \"114\": 2, \"88\": 1}, \"93\": {\"118\": 7, \"93\": 84, \"116\": 1, \"16\": 7, \"92\": 4, \"33\": 11, \"117\": 1, \"84\": 1, \"109\": 6, \"90\": 5, \"102\": 6, \"11\": 1, \"43\": 1, \"88\": 1, \"44\": 2}, \"43\": {\"2\": 1, \"43\": 23, \"63\": 1, \"39\": 1, \"109\": 3, \"16\": 3, \"88\": 1, \"26\": 9, \"69\": 2, \"93\": 3, \"33\": 2, \"64\": 2, \"118\": 1, \"81\": 1, \"84\": 1, \"90\": 2}, \"67\": {\"67\": 14, \"89\": 1, \"43\": 1}, \"48\": {\"48\": 5, \"82\": 1, \"49\": 1, \"7\": 2, \"90\": 1, \"3\": 1, \"119\": 1, \"100\": 1, \"122\": 2, \"102\": 1}, \"73\": {\"73\": 27, \"58\": 2, \"92\": 1, \"101\": 2, \"30\": 1, \"36\": 2, \"27\": 1, \"8\": 1, \"33\": 1, \"94\": 2}, \"34\": {\"48\": 1, \"34\": 4, \"37\": 1, \"23\": 1, \"107\": 1, \"91\": 2, \"87\": 4, \"97\": 1, \"6\": 1, \"0\": 1, \"84\": 1, \"111\": 3, \"11\": 2, \"73\": 1, \"54\": 2, \"51\": 1, \"36\": 1, \"29\": 1, \"24\": 2, \"27\": 1}, \"91\": {\"112\": 1, \"10\": 2, \"91\": 11, \"66\": 1, \"68\": 1, \"95\": 2, \"101\": 2, \"69\": 1, \"56\": 1, \"98\": 1, \"72\": 1}, \"105\": {\"105\": 103, \"55\": 1, \"71\": 4, \"40\": 1, \"114\": 5, \"32\": 1, \"85\": 1, \"103\": 1, \"4\": 6, \"5\": 1}, \"10\": {\"10\": 49, \"28\": 1, \"128\": 3, \"52\": 1, \"7\": 5, \"24\": 1, \"0\": 3, \"12\": 3, \"108\": 5, \"98\": 4, \"8\": 6, \"122\": 2, \"32\": 1, \"1\": 3, \"4\": 1, \"88\": 2, \"30\": 1, \"70\": 3, \"15\": 1, \"87\": 1, \"3\": 2, \"127\": 3, \"101\": 2, \"23\": 1, \"90\": 1, \"5\": 1}, \"61\": {\"61\": 13, \"11\": 1, \"69\": 1, \"78\": 1}, \"74\": {\"74\": 15, \"82\": 1}, \"4\": {\"4\": 64, \"9\": 2, \"8\": 2, \"5\": 4, \"105\": 13, \"30\": 1, \"127\": 1, \"7\": 1, \"108\": 3, \"114\": 1, \"110\": 2, \"71\": 2}, \"37\": {\"37\": 16}, \"19\": {\"10\": 1, \"19\": 22, \"66\": 1, \"48\": 1, \"0\": 1, \"44\": 1, \"9\": 2, \"55\": 1, \"32\": 1, \"85\": 1}, \"44\": {\"44\": 44, \"87\": 3, \"116\": 1, \"22\": 1, \"93\": 3, \"90\": 2, \"29\": 6, \"39\": 2, \"84\": 5, \"109\": 2, \"110\": 2, \"73\": 1}, \"52\": {\"52\": 14, \"8\": 1, \"42\": 1}, \"92\": {\"92\": 25, \"90\": 2, \"80\": 2, \"93\": 2, \"120\": 1}, \"33\": {\"90\": 1, \"33\": 111, \"102\": 7, \"16\": 4, \"84\": 3, \"109\": 1, \"117\": 1}, \"45\": {\"45\": 16}, \"11\": {\"90\": 8, \"109\": 4, \"29\": 1, \"11\": 40, \"107\": 5, \"33\": 9, \"62\": 8, \"82\": 4, \"39\": 1, \"16\": 6, \"110\": 2, \"88\": 3, \"84\": 10, \"93\": 7, \"102\": 4, \"87\": 3, \"43\": 2, \"129\": 2, \"100\": 1, \"69\": 1, \"44\": 3, \"32\": 1, \"14\": 2, \"40\": 1}, \"129\": {\"11\": 2, \"129\": 17, \"50\": 1, \"48\": 2, \"19\": 1, \"105\": 1, \"82\": 1, \"44\": 1, \"84\": 1, \"22\": 1, \"1\": 1, \"5\": 1, \"114\": 2}, \"116\": {\"116\": 14, \"69\": 1, \"50\": 1, \"76\": 2, \"119\": 1, \"87\": 1, \"89\": 2, \"120\": 1, \"26\": 1, \"13\": 1, \"107\": 1, \"33\": 2}, \"75\": {\"75\": 15, \"6\": 1}, \"41\": {\"41\": 11, \"112\": 1, \"124\": 1, \"8\": 1, \"51\": 1, \"12\": 1}, \"21\": {\"21\": 33, \"43\": 2, \"39\": 2, \"69\": 1, \"117\": 1, \"113\": 2, \"126\": 5, \"127\": 1, \"94\": 1}, \"69\": {\"69\": 65, \"61\": 1, \"11\": 1, \"14\": 2, \"26\": 2, \"43\": 1, \"107\": 2, \"102\": 5, \"84\": 2, \"32\": 1, \"33\": 1, \"126\": 1}, \"16\": {\"16\": 53, \"88\": 4, \"118\": 2, \"93\": 4, \"39\": 1, \"60\": 1, \"102\": 4, \"109\": 6, \"33\": 14, \"84\": 11, \"11\": 2, \"90\": 1, \"96\": 1, \"116\": 2, \"126\": 1, \"43\": 1}, \"25\": {\"25\": 9, \"75\": 1, \"30\": 1, \"58\": 2, \"24\": 1, \"37\": 2}, \"12\": {\"12\": 50, \"111\": 4, \"8\": 2, \"30\": 3, \"127\": 6, \"73\": 2, \"7\": 2, \"98\": 8, \"0\": 8, \"15\": 2, \"10\": 3, \"106\": 1, \"108\": 2, \"46\": 1, \"35\": 2, \"128\": 1, \"72\": 2, \"85\": 1, \"56\": 1, \"24\": 1, \"124\": 1, \"88\": 1}, \"72\": {\"72\": 24, \"66\": 1, \"0\": 1, \"111\": 1, \"24\": 1}, \"0\": {\"51\": 2, \"0\": 56, \"85\": 1, \"65\": 1, \"98\": 2, \"111\": 4, \"30\": 6, \"73\": 2, \"101\": 3, \"10\": 8, \"108\": 2, \"7\": 2, \"36\": 1, \"12\": 8, \"105\": 1, \"127\": 3, \"91\": 2, \"34\": 2, \"56\": 1, \"94\": 1, \"72\": 2, \"126\": 1, \"8\": 3, \"15\": 1, \"106\": 1}, \"50\": {\"50\": 14, \"14\": 2}, \"107\": {\"107\": 119, \"122\": 1, \"14\": 6, \"40\": 9, \"62\": 1, \"20\": 1, \"32\": 1, \"11\": 1, \"108\": 1}, \"124\": {\"124\": 103, \"41\": 3, \"8\": 5, \"127\": 6, \"0\": 2, \"27\": 1, \"12\": 1, \"30\": 1, \"111\": 2}, \"53\": {\"53\": 11, \"48\": 2, \"98\": 1, \"62\": 1, \"60\": 1, \"123\": 1, \"34\": 2, \"40\": 1}, \"66\": {\"66\": 13, \"105\": 1, \"9\": 1, \"104\": 1}, \"47\": {\"47\": 10, \"112\": 1, \"8\": 1}, \"24\": {\"24\": 10, \"47\": 1, \"25\": 2, \"68\": 1, \"59\": 1, \"9\": 1, \"73\": 4, \"97\": 1, \"34\": 1, \"127\": 2, \"30\": 2, \"32\": 1, \"106\": 1, \"36\": 3, \"15\": 4, \"41\": 1, \"12\": 1, \"52\": 1, \"108\": 2, \"72\": 1, \"94\": 1, \"105\": 2, \"101\": 1, \"98\": 1, \"125\": 1, \"39\": 1}, \"95\": {\"95\": 28, \"39\": 1, \"34\": 1, \"98\": 2}, \"98\": {\"95\": 2, \"47\": 1, \"105\": 2, \"85\": 1, \"99\": 1, \"98\": 56, \"12\": 8, \"83\": 1, \"44\": 1, \"8\": 5, \"0\": 3, \"7\": 10, \"127\": 5, \"124\": 2, \"108\": 1, \"51\": 1, \"30\": 1, \"71\": 1, \"86\": 2, \"118\": 1, \"106\": 1}, \"63\": {\"63\": 15, \"123\": 1}, \"3\": {\"3\": 88, \"103\": 1, \"1\": 3, \"53\": 1, \"114\": 4, \"70\": 2, \"5\": 1, \"110\": 1, \"108\": 2, \"7\": 3, \"56\": 1, \"49\": 2, \"19\": 1, \"127\": 2, \"87\": 1, \"71\": 2, \"18\": 1}, \"14\": {\"14\": 73, \"50\": 1, \"16\": 1, \"62\": 5}, \"1\": {\"110\": 7, \"17\": 1, \"1\": 76, \"3\": 3, \"5\": 5, \"114\": 8, \"108\": 2, \"60\": 1, \"122\": 1, \"87\": 1, \"11\": 1, \"4\": 1, \"105\": 1}, \"38\": {\"38\": 14, \"110\": 1, \"85\": 1}, \"110\": {\"1\": 6, \"88\": 6, \"110\": 40, \"32\": 2, \"122\": 4, \"5\": 5, \"105\": 4, \"18\": 2, \"114\": 8, \"108\": 1, \"70\": 4, \"60\": 2, \"128\": 1, \"87\": 2, \"30\": 1, \"14\": 1, \"40\": 1, \"106\": 1, \"126\": 1}, \"17\": {\"67\": 1, \"35\": 2, \"39\": 1, \"124\": 1, \"19\": 1, \"85\": 1, \"34\": 1, \"111\": 1, \"2\": 1, \"41\": 2, \"7\": 2, \"42\": 1, \"120\": 1}, \"30\": {\"30\": 38, \"56\": 1, \"73\": 2, \"42\": 2, \"94\": 3, \"98\": 3, \"12\": 1, \"111\": 5, \"8\": 4, \"24\": 2, \"108\": 1, \"106\": 1, \"10\": 1, \"15\": 3, \"102\": 1, \"36\": 3, \"7\": 2, \"0\": 3, \"19\": 1, \"47\": 1, \"34\": 2, \"23\": 1, \"87\": 1, \"86\": 1, \"3\": 1}, \"56\": {\"56\": 6, \"24\": 1, \"42\": 2, \"23\": 1, \"46\": 1, \"75\": 1}, \"27\": {\"52\": 2, \"105\": 2, \"101\": 1, \"124\": 2, \"42\": 2, \"59\": 1, \"72\": 1, \"7\": 3, \"12\": 5, \"128\": 1, \"36\": 5, \"70\": 1, \"4\": 2, \"94\": 5, \"127\": 3, \"125\": 11, \"27\": 14, \"98\": 3, \"111\": 1, \"106\": 7, \"15\": 5, \"8\": 1, \"113\": 1, \"95\": 1, \"51\": 2, \"47\": 2, \"23\": 1, \"24\": 2, \"6\": 2, \"30\": 4, \"85\": 1, \"126\": 1, \"39\": 1}, \"104\": {\"104\": 15, \"9\": 1}, \"97\": {\"72\": 3, \"56\": 2, \"97\": 9, \"105\": 1, \"15\": 1, \"111\": 1, \"58\": 1, \"36\": 1, \"12\": 1}, \"42\": {\"42\": 7, \"72\": 2, \"25\": 1, \"85\": 1, \"125\": 1, \"97\": 2, \"19\": 2, \"124\": 1, \"49\": 1, \"112\": 1, \"108\": 2, \"58\": 1, \"17\": 1, \"24\": 1, \"71\": 2, \"36\": 2}, \"39\": {\"39\": 51, \"123\": 3, \"81\": 1, \"121\": 3, \"43\": 2, \"18\": 4, \"117\": 11, \"109\": 4, \"113\": 11, \"118\": 4, \"26\": 5, \"126\": 4, \"2\": 1, \"23\": 1, \"92\": 1, \"21\": 2}, \"70\": {\"23\": 3, \"116\": 1, \"105\": 3, \"53\": 1, \"48\": 1, \"86\": 1, \"60\": 3, \"70\": 13, \"127\": 3, \"88\": 9, \"128\": 1, \"10\": 1, \"33\": 2, \"90\": 3, \"62\": 2, \"4\": 2, \"1\": 1, \"108\": 2, \"11\": 1, \"57\": 2, \"120\": 1, \"87\": 3, \"25\": 1, \"98\": 2, \"12\": 2, \"110\": 3, \"126\": 1, \"8\": 1, \"5\": 1, \"93\": 1, \"109\": 1}, \"86\": {\"86\": 19, \"77\": 1, \"83\": 3, \"5\": 2, \"3\": 1, \"127\": 1, \"24\": 1}, \"119\": {\"119\": 14, \"13\": 2}, \"77\": {\"77\": 14, \"12\": 1, \"65\": 1}, \"59\": {\"59\": 6, \"34\": 1, \"68\": 1, \"51\": 2, \"72\": 1, \"37\": 1}, \"22\": {\"57\": 1, \"122\": 1, \"22\": 14}, \"79\": {\"79\": 10, \"86\": 1, \"17\": 1}, \"80\": {\"80\": 14, \"31\": 2}, \"111\": {\"111\": 111, \"94\": 2, \"98\": 1, \"30\": 4, \"27\": 2, \"15\": 3, \"16\": 1, \"36\": 1, \"72\": 1, \"0\": 1, \"73\": 2, \"124\": 1, \"12\": 2}, \"82\": {\"107\": 3, \"82\": 19, \"84\": 3, \"45\": 1, \"69\": 2}, \"126\": {\"121\": 3, \"126\": 84, \"113\": 6, \"78\": 1, \"39\": 8, \"93\": 2, \"21\": 3, \"18\": 8, \"117\": 4, \"118\": 1, \"23\": 1, \"81\": 1, \"88\": 1, \"26\": 1}, \"32\": {\"32\": 18, \"1\": 1, \"107\": 3, \"122\": 3, \"106\": 1, \"114\": 1, \"20\": 1, \"129\": 1, \"40\": 1, \"110\": 1, \"10\": 1}, \"106\": {\"106\": 71, \"109\": 1, \"111\": 3, \"73\": 1, \"94\": 1, \"15\": 9, \"36\": 8, \"27\": 4, \"125\": 1, \"18\": 1}, \"60\": {\"60\": 11, \"57\": 1, \"22\": 2, \"70\": 1, \"110\": 3, \"90\": 1, \"19\": 1, \"129\": 1, \"11\": 1, \"74\": 2, \"87\": 2, \"29\": 2}, \"114\": {\"114\": 75, \"1\": 9, \"3\": 5, \"110\": 2, \"5\": 3, \"70\": 1, \"108\": 3, \"124\": 1, \"129\": 2, \"78\": 1, \"127\": 1, \"40\": 1, \"105\": 1, \"87\": 1, \"16\": 1, \"39\": 1}}}, \"per_domain_accuracy\": {\"ORACLE.run18\": {\"accuracy\": 0.9010416666666666, \"source?\": true}, \"ORACLE.run138\": {\"accuracy\": 0.9354166666666667, \"source?\": true}, \"ORACLE.run126\": {\"accuracy\": 0.7971354166666667, \"source?\": true}, \"ORACLE.run120\": {\"accuracy\": 0.9013020833333333, \"source?\": true}, \"ORACLE.run150\": {\"accuracy\": 0.9205729166666666, \"source?\": true}, \"ORACLE.run132\": {\"accuracy\": 0.91015625, \"source?\": true}, \"ORACLE.run144\": {\"accuracy\": 0.8338541666666667, \"source?\": true}, \"ORACLE.run114\": {\"accuracy\": 0.9372395833333333, \"source?\": true}, \"Wisig_2\": {\"accuracy\": 0.6152836134453782, \"source?\": false}, \"Wisig_4\": {\"accuracy\": 0.5564557613168725, \"source?\": false}, \"Wisig_1\": {\"accuracy\": 0.6401595744680851, \"source?\": false}, \"Wisig_3\": {\"accuracy\": 0.6413821585903083, \"source?\": false}}}, \"history\": {\"epoch_indices\": [1, 2, 3, 4, 5, 6, 7, 8, 9, 10, 11], \"train_label_loss\": [0.7651597324459415, 0.4807043753076522, 0.39110010936662243, 0.33058715995423316, 0.2949304795625808, 0.26856419071693727, 0.24828405316941263, 0.2287867262334441, 0.21116657508516384, 0.19681200149543224, 0.1857341946094017], \"source_val_label_loss\": [0.6487044095993042, 0.42282578349113464, 0.37639570236206055, 0.3297763168811798, 0.313372939825058, 0.3102990686893463, 0.30156227946281433, 0.2806364595890045, 0.28206977248191833, 0.2791514992713928, 0.27677807211875916], \"target_val_label_loss\": [4.229837894439697, 6.349782943725586, 7.388091087341309, 7.3535051345825195, 8.32974624633789, 8.470452308654785, 7.486204147338867, 9.688953399658203, 9.33966064453125, 10.882025718688965, 13.880147933959961], \"source_val_acc_label\": [0.7833984375, 0.8509440104166667, 0.86884765625, 0.8819986979166666, 0.8877278645833333, 0.8883463541666666, 0.89208984375, 0.89775390625, 0.89814453125, 0.8986653645833333, 0.9009114583333333], \"target_val_acc_label\": [0.5456985683987274, 0.5837751855779427, 0.5749270943796394, 0.5727399257688229, 0.5914302757158006, 0.6009742841993637, 0.6126060445387063, 0.5902704135737009, 0.5887128844114529, 0.581157211028632, 0.5829798515376459]}, \"dataset_metrics\": {\"source\": {\"train\": {\"n_unique_x\": 179200, \"n_unique_y\": 16, \"n_batch/episode\": 6720}, \"val\": {\"n_unique_x\": 38400, \"n_unique_y\": 16, \"n_batch/episode\": 960}, \"test\": {\"n_unique_x\": 38400, \"n_unique_y\": 16, \"n_batch/episode\": 960}}, \"target\": {\"train\": {\"n_unique_x\": 188974, \"n_unique_y\": 130, \"n_batch/episode\": 6847}, \"val\": {\"n_unique_x\": 40019, \"n_unique_y\": 130, \"n_batch/episode\": 943}, \"test\": {\"n_unique_x\": 40738, \"n_unique_y\": 130, \"n_batch/episode\": 960}}}}'"
      ]
     },
     "execution_count": 29,
     "metadata": {},
     "output_type": "execute_result"
    }
   ],
   "source": [
    "json.dumps(experiment)"
   ]
  }
 ],
 "metadata": {
  "celltoolbar": "Tags",
  "kernelspec": {
   "display_name": "Python 3 (ipykernel)",
   "language": "python",
   "name": "python3"
  },
  "language_info": {
   "codemirror_mode": {
    "name": "ipython",
    "version": 3
   },
   "file_extension": ".py",
   "mimetype": "text/x-python",
   "name": "python",
   "nbconvert_exporter": "python",
   "pygments_lexer": "ipython3",
   "version": "3.8.12"
  },
  "papermill": {
   "default_parameters": {},
   "duration": 3099.38295,
   "end_time": "2022-03-21T12:48:02.447748",
   "environment_variables": {},
   "exception": null,
   "input_path": "/root/csc500-main/csc500-notebooks/templates/tl_ptn_template.ipynb",
   "output_path": "trial.ipynb",
   "parameters": {
    "parameters": {
     "BEST_MODEL_PATH": "./best_model.pth",
     "NUM_LOGS_PER_EPOCH": 10,
     "criteria_for_best": "target_accuracy",
     "dataset_seed": 154325,
     "datasets": [
      {
       "domain_prefix": "Wisig_",
       "domains": [
        1,
        2,
        3,
        4
       ],
       "episode_transforms": [],
       "labels": [
        "1-10",
        "1-12",
        "1-14",
        "1-16",
        "1-18",
        "1-19",
        "1-8",
        "10-11",
        "10-17",
        "10-4",
        "10-7",
        "11-1",
        "11-10",
        "11-19",
        "11-20",
        "11-4",
        "11-7",
        "12-19",
        "12-20",
        "12-7",
        "13-14",
        "13-18",
        "13-19",
        "13-20",
        "13-3",
        "13-7",
        "14-10",
        "14-11",
        "14-12",
        "14-13",
        "14-14",
        "14-19",
        "14-20",
        "14-7",
        "14-8",
        "14-9",
        "15-1",
        "15-19",
        "15-6",
        "16-1",
        "16-16",
        "16-19",
        "16-20",
        "17-10",
        "17-11",
        "18-1",
        "18-10",
        "18-11",
        "18-12",
        "18-13",
        "18-14",
        "18-15",
        "18-16",
        "18-17",
        "18-19",
        "18-2",
        "18-20",
        "18-4",
        "18-5",
        "18-7",
        "18-8",
        "18-9",
        "19-1",
        "19-10",
        "19-11",
        "19-12",
        "19-13",
        "19-14",
        "19-15",
        "19-19",
        "19-2",
        "19-20",
        "19-3",
        "19-4",
        "19-6",
        "19-7",
        "19-8",
        "19-9",
        "2-1",
        "2-13",
        "2-15",
        "2-3",
        "2-4",
        "2-5",
        "2-6",
        "2-7",
        "2-8",
        "20-1",
        "20-12",
        "20-14",
        "20-15",
        "20-16",
        "20-18",
        "20-19",
        "20-20",
        "20-3",
        "20-4",
        "20-5",
        "20-7",
        "20-8",
        "3-1",
        "3-13",
        "3-18",
        "3-2",
        "3-8",
        "4-1",
        "4-10",
        "4-11",
        "5-1",
        "5-5",
        "6-1",
        "6-15",
        "6-6",
        "7-10",
        "7-11",
        "7-12",
        "7-13",
        "7-14",
        "7-7",
        "7-8",
        "7-9",
        "8-1",
        "8-13",
        "8-14",
        "8-18",
        "8-20",
        "8-3",
        "8-8",
        "9-1",
        "9-7"
       ],
       "num_examples_per_domain_per_label": -1,
       "pickle_path": "/root/csc500-main/datasets/wisig.node3-19.stratified_ds.2022A.pkl",
       "source_or_target_dataset": "target",
       "x_transforms": [
        "unit_power"
       ]
      },
      {
       "domain_prefix": "ORACLE.run1",
       "domains": [
        32,
        38,
        8,
        44,
        14,
        50,
        20,
        26
       ],
       "episode_transforms": [],
       "labels": [
        "3123D52",
        "3123D65",
        "3123D79",
        "3123D80",
        "3123D54",
        "3123D70",
        "3123D7B",
        "3123D89",
        "3123D58",
        "3123D76",
        "3123D7D",
        "3123EFE",
        "3123D64",
        "3123D78",
        "3123D7E",
        "3124E4A"
       ],
       "num_examples_per_domain_per_label": 2000,
       "pickle_path": "/root/csc500-main/datasets/oracle.Run1_framed_2000Examples_stratified_ds.2022A.pkl",
       "source_or_target_dataset": "source",
       "x_transforms": [
        "unit_power"
       ]
      }
     ],
     "device": "cuda",
     "experiment_name": "tl_1v2:wisig-oracle.run1.framed",
     "lr": 0.0001,
     "n_epoch": 50,
     "n_query": 2,
     "n_shot": 3,
     "n_way": 16,
     "patience": 3,
     "seed": 154325,
     "test_k_factor": 2,
     "torch_default_dtype": "torch.float32",
     "train_k_factor": 3,
     "val_k_factor": 2,
     "x_net": [
      {
       "class": "nnReshape",
       "kargs": {
        "shape": [
         -1,
         1,
         2,
         256
        ]
       }
      },
      {
       "class": "Conv2d",
       "kargs": {
        "bias": false,
        "in_channels": 1,
        "kernel_size": [
         1,
         7
        ],
        "out_channels": 256,
        "padding": [
         0,
         3
        ]
       }
      },
      {
       "class": "ReLU",
       "kargs": {
        "inplace": true
       }
      },
      {
       "class": "BatchNorm2d",
       "kargs": {
        "num_features": 256
       }
      },
      {
       "class": "Conv2d",
       "kargs": {
        "bias": true,
        "in_channels": 256,
        "kernel_size": [
         2,
         7
        ],
        "out_channels": 80,
        "padding": [
         0,
         3
        ]
       }
      },
      {
       "class": "ReLU",
       "kargs": {
        "inplace": true
       }
      },
      {
       "class": "BatchNorm2d",
       "kargs": {
        "num_features": 80
       }
      },
      {
       "class": "Flatten",
       "kargs": {}
      },
      {
       "class": "Linear",
       "kargs": {
        "in_features": 20480,
        "out_features": 256
       }
      },
      {
       "class": "ReLU",
       "kargs": {
        "inplace": true
       }
      },
      {
       "class": "BatchNorm1d",
       "kargs": {
        "num_features": 256
       }
      },
      {
       "class": "Linear",
       "kargs": {
        "in_features": 256,
        "out_features": 256
       }
      }
     ]
    }
   },
   "start_time": "2022-03-21T11:56:23.064798",
   "version": "2.3.4"
  }
 },
 "nbformat": 4,
 "nbformat_minor": 5
}