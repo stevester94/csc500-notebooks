{
 "cells": [
  {
   "cell_type": "markdown",
   "id": "9fea5f46",
   "metadata": {
    "papermill": {
     "duration": 0.029106,
     "end_time": "2022-03-21T13:46:51.015582",
     "exception": false,
     "start_time": "2022-03-21T13:46:50.986476",
     "status": "completed"
    },
    "tags": []
   },
   "source": [
    "# Transfer Learning Template"
   ]
  },
  {
   "cell_type": "code",
   "execution_count": 1,
   "id": "0902182a",
   "metadata": {
    "execution": {
     "iopub.execute_input": "2022-03-21T13:46:51.078967Z",
     "iopub.status.busy": "2022-03-21T13:46:51.078097Z",
     "iopub.status.idle": "2022-03-21T13:46:52.951372Z",
     "shell.execute_reply": "2022-03-21T13:46:52.950493Z"
    },
    "papermill": {
     "duration": 1.912139,
     "end_time": "2022-03-21T13:46:52.951596",
     "exception": false,
     "start_time": "2022-03-21T13:46:51.039457",
     "status": "completed"
    },
    "tags": []
   },
   "outputs": [],
   "source": [
    "%load_ext autoreload\n",
    "%autoreload 2\n",
    "%matplotlib inline\n",
    "\n",
    "    \n",
    "import os, json, sys, time, random\n",
    "import numpy as np\n",
    "import torch\n",
    "from torch.optim import Adam\n",
    "from  easydict import EasyDict\n",
    "import matplotlib.pyplot as plt\n",
    "\n",
    "from steves_models.steves_ptn import Steves_Prototypical_Network\n",
    "\n",
    "from steves_utils.lazy_iterable_wrapper import Lazy_Iterable_Wrapper\n",
    "from steves_utils.iterable_aggregator import Iterable_Aggregator\n",
    "from steves_utils.ptn_train_eval_test_jig import  PTN_Train_Eval_Test_Jig\n",
    "from steves_utils.torch_sequential_builder import build_sequential\n",
    "from steves_utils.torch_utils import get_dataset_metrics, ptn_confusion_by_domain_over_dataloader\n",
    "from steves_utils.utils_v2 import (per_domain_accuracy_from_confusion, get_datasets_base_path)\n",
    "from steves_utils.PTN.utils import independent_accuracy_assesment\n",
    "\n",
    "from torch.utils.data import DataLoader\n",
    "\n",
    "from steves_utils.stratified_dataset.episodic_accessor import Episodic_Accessor_Factory\n",
    "\n",
    "from steves_utils.ptn_do_report import (\n",
    "    get_loss_curve,\n",
    "    get_results_table,\n",
    "    get_parameters_table,\n",
    "    get_domain_accuracies,\n",
    ")\n",
    "\n",
    "from steves_utils.transforms import get_chained_transform"
   ]
  },
  {
   "cell_type": "markdown",
   "id": "41c840b4",
   "metadata": {
    "papermill": {
     "duration": 0.01905,
     "end_time": "2022-03-21T13:46:52.995808",
     "exception": false,
     "start_time": "2022-03-21T13:46:52.976758",
     "status": "completed"
    },
    "tags": []
   },
   "source": [
    "# Allowed Parameters\n",
    "These are allowed parameters, not defaults\n",
    "Each of these values need to be present in the injected parameters (the notebook will raise an exception if they are not present)\n",
    "\n",
    "Papermill uses the cell tag \"parameters\" to inject the real parameters below this cell.\n",
    "Enable tags to see what I mean"
   ]
  },
  {
   "cell_type": "code",
   "execution_count": 2,
   "id": "fd44eb83",
   "metadata": {
    "execution": {
     "iopub.execute_input": "2022-03-21T13:46:53.039567Z",
     "iopub.status.busy": "2022-03-21T13:46:53.038938Z",
     "iopub.status.idle": "2022-03-21T13:46:53.061665Z",
     "shell.execute_reply": "2022-03-21T13:46:53.060977Z"
    },
    "papermill": {
     "duration": 0.046994,
     "end_time": "2022-03-21T13:46:53.061828",
     "exception": false,
     "start_time": "2022-03-21T13:46:53.014834",
     "status": "completed"
    },
    "tags": []
   },
   "outputs": [],
   "source": [
    "required_parameters = {\n",
    "    \"experiment_name\",\n",
    "    \"lr\",\n",
    "    \"device\",\n",
    "    \"seed\",\n",
    "    \"dataset_seed\",\n",
    "    \"n_shot\",\n",
    "    \"n_query\",\n",
    "    \"n_way\",\n",
    "    \"train_k_factor\",\n",
    "    \"val_k_factor\",\n",
    "    \"test_k_factor\",\n",
    "    \"n_epoch\",\n",
    "    \"patience\",\n",
    "    \"criteria_for_best\",\n",
    "    \"x_net\",\n",
    "    \"datasets\",\n",
    "    \"torch_default_dtype\",\n",
    "    \"NUM_LOGS_PER_EPOCH\",\n",
    "    \"BEST_MODEL_PATH\",\n",
    "    \"x_shape\",\n",
    "}"
   ]
  },
  {
   "cell_type": "code",
   "execution_count": 3,
   "id": "fa3f0049",
   "metadata": {
    "execution": {
     "iopub.execute_input": "2022-03-21T13:46:53.123776Z",
     "iopub.status.busy": "2022-03-21T13:46:53.120346Z",
     "iopub.status.idle": "2022-03-21T13:46:53.145606Z",
     "shell.execute_reply": "2022-03-21T13:46:53.144884Z"
    },
    "papermill": {
     "duration": 0.057737,
     "end_time": "2022-03-21T13:46:53.145765",
     "exception": false,
     "start_time": "2022-03-21T13:46:53.088028",
     "status": "completed"
    },
    "tags": [
     "parameters"
    ]
   },
   "outputs": [],
   "source": [
    "from steves_utils.CORES.utils import (\n",
    "    ALL_NODES,\n",
    "    ALL_NODES_MINIMUM_1000_EXAMPLES,\n",
    "    ALL_DAYS\n",
    ")\n",
    "\n",
    "from steves_utils.ORACLE.utils_v2 import (\n",
    "    ALL_DISTANCES_FEET_NARROWED,\n",
    "    ALL_RUNS,\n",
    "    ALL_SERIAL_NUMBERS,\n",
    ")\n",
    "\n",
    "standalone_parameters = {}\n",
    "standalone_parameters[\"experiment_name\"] = \"STANDALONE PTN\"\n",
    "standalone_parameters[\"lr\"] = 0.001\n",
    "standalone_parameters[\"device\"] = \"cuda\"\n",
    "\n",
    "standalone_parameters[\"seed\"] = 1337\n",
    "standalone_parameters[\"dataset_seed\"] = 1337\n",
    "\n",
    "standalone_parameters[\"n_way\"] = 8\n",
    "standalone_parameters[\"n_shot\"] = 3\n",
    "standalone_parameters[\"n_query\"]  = 2\n",
    "standalone_parameters[\"train_k_factor\"] = 1\n",
    "standalone_parameters[\"val_k_factor\"] = 2\n",
    "standalone_parameters[\"test_k_factor\"] = 2\n",
    "\n",
    "\n",
    "standalone_parameters[\"n_epoch\"] = 50\n",
    "\n",
    "standalone_parameters[\"patience\"] = 10\n",
    "standalone_parameters[\"criteria_for_best\"] = \"source_loss\"\n",
    "\n",
    "standalone_parameters[\"datasets\"] = [\n",
    "    {\n",
    "        \"labels\": ALL_SERIAL_NUMBERS,\n",
    "        \"domains\": ALL_DISTANCES_FEET_NARROWED,\n",
    "        \"num_examples_per_domain_per_label\": 100,\n",
    "        \"pickle_path\": os.path.join(get_datasets_base_path(), \"oracle.Run1_framed_2000Examples_stratified_ds.2022A.pkl\"),\n",
    "        \"source_or_target_dataset\": \"source\",\n",
    "        \"x_transforms\": [\"unit_mag\", \"minus_two\"],\n",
    "        \"episode_transforms\": [],\n",
    "        \"domain_prefix\": \"ORACLE_\"\n",
    "    },\n",
    "    {\n",
    "        \"labels\": ALL_NODES,\n",
    "        \"domains\": ALL_DAYS,\n",
    "        \"num_examples_per_domain_per_label\": 100,\n",
    "        \"pickle_path\": os.path.join(get_datasets_base_path(), \"cores.stratified_ds.2022A.pkl\"),\n",
    "        \"source_or_target_dataset\": \"target\",\n",
    "        \"x_transforms\": [\"unit_power\", \"times_zero\"],\n",
    "        \"episode_transforms\": [],\n",
    "        \"domain_prefix\": \"CORES_\"\n",
    "    }   \n",
    "]\n",
    "\n",
    "standalone_parameters[\"torch_default_dtype\"] = \"torch.float32\" \n",
    "\n",
    "\n",
    "\n",
    "standalone_parameters[\"x_net\"] =     [\n",
    "    {\"class\": \"nnReshape\", \"kargs\": {\"shape\":[-1, 1, 2, 256]}},\n",
    "    {\"class\": \"Conv2d\", \"kargs\": { \"in_channels\":1, \"out_channels\":256, \"kernel_size\":(1,7), \"bias\":False, \"padding\":(0,3), },},\n",
    "    {\"class\": \"ReLU\", \"kargs\": {\"inplace\": True}},\n",
    "    {\"class\": \"BatchNorm2d\", \"kargs\": {\"num_features\":256}},\n",
    "\n",
    "    {\"class\": \"Conv2d\", \"kargs\": { \"in_channels\":256, \"out_channels\":80, \"kernel_size\":(2,7), \"bias\":True, \"padding\":(0,3), },},\n",
    "    {\"class\": \"ReLU\", \"kargs\": {\"inplace\": True}},\n",
    "    {\"class\": \"BatchNorm2d\", \"kargs\": {\"num_features\":80}},\n",
    "    {\"class\": \"Flatten\", \"kargs\": {}},\n",
    "\n",
    "    {\"class\": \"Linear\", \"kargs\": {\"in_features\": 80*256, \"out_features\": 256}}, # 80 units per IQ pair\n",
    "    {\"class\": \"ReLU\", \"kargs\": {\"inplace\": True}},\n",
    "    {\"class\": \"BatchNorm1d\", \"kargs\": {\"num_features\":256}},\n",
    "\n",
    "    {\"class\": \"Linear\", \"kargs\": {\"in_features\": 256, \"out_features\": 256}},\n",
    "]\n",
    "\n",
    "# Parameters relevant to results\n",
    "# These parameters will basically never need to change\n",
    "standalone_parameters[\"NUM_LOGS_PER_EPOCH\"] = 10\n",
    "standalone_parameters[\"BEST_MODEL_PATH\"] = \"./best_model.pth\"\n",
    "\n",
    "\n",
    "\n",
    "\n"
   ]
  },
  {
   "cell_type": "code",
   "execution_count": 4,
   "id": "453eaf2f",
   "metadata": {
    "execution": {
     "iopub.execute_input": "2022-03-21T13:46:53.210660Z",
     "iopub.status.busy": "2022-03-21T13:46:53.209650Z",
     "iopub.status.idle": "2022-03-21T13:46:53.234152Z",
     "shell.execute_reply": "2022-03-21T13:46:53.233353Z"
    },
    "papermill": {
     "duration": 0.062917,
     "end_time": "2022-03-21T13:46:53.234308",
     "exception": false,
     "start_time": "2022-03-21T13:46:53.171391",
     "status": "completed"
    },
    "tags": [
     "injected-parameters"
    ]
   },
   "outputs": [],
   "source": [
    "# Parameters\n",
    "parameters = {\n",
    "    \"experiment_name\": \"tl_1v2:wisig-oracle.run1.framed\",\n",
    "    \"device\": \"cuda\",\n",
    "    \"lr\": 0.0001,\n",
    "    \"n_shot\": 3,\n",
    "    \"n_query\": 2,\n",
    "    \"train_k_factor\": 3,\n",
    "    \"val_k_factor\": 2,\n",
    "    \"test_k_factor\": 2,\n",
    "    \"torch_default_dtype\": \"torch.float32\",\n",
    "    \"n_epoch\": 50,\n",
    "    \"patience\": 3,\n",
    "    \"criteria_for_best\": \"target_accuracy\",\n",
    "    \"x_net\": [\n",
    "        {\"class\": \"nnReshape\", \"kargs\": {\"shape\": [-1, 1, 2, 256]}},\n",
    "        {\n",
    "            \"class\": \"Conv2d\",\n",
    "            \"kargs\": {\n",
    "                \"in_channels\": 1,\n",
    "                \"out_channels\": 256,\n",
    "                \"kernel_size\": [1, 7],\n",
    "                \"bias\": False,\n",
    "                \"padding\": [0, 3],\n",
    "            },\n",
    "        },\n",
    "        {\"class\": \"ReLU\", \"kargs\": {\"inplace\": True}},\n",
    "        {\"class\": \"BatchNorm2d\", \"kargs\": {\"num_features\": 256}},\n",
    "        {\n",
    "            \"class\": \"Conv2d\",\n",
    "            \"kargs\": {\n",
    "                \"in_channels\": 256,\n",
    "                \"out_channels\": 80,\n",
    "                \"kernel_size\": [2, 7],\n",
    "                \"bias\": True,\n",
    "                \"padding\": [0, 3],\n",
    "            },\n",
    "        },\n",
    "        {\"class\": \"ReLU\", \"kargs\": {\"inplace\": True}},\n",
    "        {\"class\": \"BatchNorm2d\", \"kargs\": {\"num_features\": 80}},\n",
    "        {\"class\": \"Flatten\", \"kargs\": {}},\n",
    "        {\"class\": \"Linear\", \"kargs\": {\"in_features\": 20480, \"out_features\": 256}},\n",
    "        {\"class\": \"ReLU\", \"kargs\": {\"inplace\": True}},\n",
    "        {\"class\": \"BatchNorm1d\", \"kargs\": {\"num_features\": 256}},\n",
    "        {\"class\": \"Linear\", \"kargs\": {\"in_features\": 256, \"out_features\": 256}},\n",
    "    ],\n",
    "    \"NUM_LOGS_PER_EPOCH\": 10,\n",
    "    \"BEST_MODEL_PATH\": \"./best_model.pth\",\n",
    "    \"n_way\": 16,\n",
    "    \"datasets\": [\n",
    "        {\n",
    "            \"labels\": [\n",
    "                \"1-10\",\n",
    "                \"1-12\",\n",
    "                \"1-14\",\n",
    "                \"1-16\",\n",
    "                \"1-18\",\n",
    "                \"1-19\",\n",
    "                \"1-8\",\n",
    "                \"10-11\",\n",
    "                \"10-17\",\n",
    "                \"10-4\",\n",
    "                \"10-7\",\n",
    "                \"11-1\",\n",
    "                \"11-10\",\n",
    "                \"11-19\",\n",
    "                \"11-20\",\n",
    "                \"11-4\",\n",
    "                \"11-7\",\n",
    "                \"12-19\",\n",
    "                \"12-20\",\n",
    "                \"12-7\",\n",
    "                \"13-14\",\n",
    "                \"13-18\",\n",
    "                \"13-19\",\n",
    "                \"13-20\",\n",
    "                \"13-3\",\n",
    "                \"13-7\",\n",
    "                \"14-10\",\n",
    "                \"14-11\",\n",
    "                \"14-12\",\n",
    "                \"14-13\",\n",
    "                \"14-14\",\n",
    "                \"14-19\",\n",
    "                \"14-20\",\n",
    "                \"14-7\",\n",
    "                \"14-8\",\n",
    "                \"14-9\",\n",
    "                \"15-1\",\n",
    "                \"15-19\",\n",
    "                \"15-6\",\n",
    "                \"16-1\",\n",
    "                \"16-16\",\n",
    "                \"16-19\",\n",
    "                \"16-20\",\n",
    "                \"17-10\",\n",
    "                \"17-11\",\n",
    "                \"18-1\",\n",
    "                \"18-10\",\n",
    "                \"18-11\",\n",
    "                \"18-12\",\n",
    "                \"18-13\",\n",
    "                \"18-14\",\n",
    "                \"18-15\",\n",
    "                \"18-16\",\n",
    "                \"18-17\",\n",
    "                \"18-19\",\n",
    "                \"18-2\",\n",
    "                \"18-20\",\n",
    "                \"18-4\",\n",
    "                \"18-5\",\n",
    "                \"18-7\",\n",
    "                \"18-8\",\n",
    "                \"18-9\",\n",
    "                \"19-1\",\n",
    "                \"19-10\",\n",
    "                \"19-11\",\n",
    "                \"19-12\",\n",
    "                \"19-13\",\n",
    "                \"19-14\",\n",
    "                \"19-15\",\n",
    "                \"19-19\",\n",
    "                \"19-2\",\n",
    "                \"19-20\",\n",
    "                \"19-3\",\n",
    "                \"19-4\",\n",
    "                \"19-6\",\n",
    "                \"19-7\",\n",
    "                \"19-8\",\n",
    "                \"19-9\",\n",
    "                \"2-1\",\n",
    "                \"2-13\",\n",
    "                \"2-15\",\n",
    "                \"2-3\",\n",
    "                \"2-4\",\n",
    "                \"2-5\",\n",
    "                \"2-6\",\n",
    "                \"2-7\",\n",
    "                \"2-8\",\n",
    "                \"20-1\",\n",
    "                \"20-12\",\n",
    "                \"20-14\",\n",
    "                \"20-15\",\n",
    "                \"20-16\",\n",
    "                \"20-18\",\n",
    "                \"20-19\",\n",
    "                \"20-20\",\n",
    "                \"20-3\",\n",
    "                \"20-4\",\n",
    "                \"20-5\",\n",
    "                \"20-7\",\n",
    "                \"20-8\",\n",
    "                \"3-1\",\n",
    "                \"3-13\",\n",
    "                \"3-18\",\n",
    "                \"3-2\",\n",
    "                \"3-8\",\n",
    "                \"4-1\",\n",
    "                \"4-10\",\n",
    "                \"4-11\",\n",
    "                \"5-1\",\n",
    "                \"5-5\",\n",
    "                \"6-1\",\n",
    "                \"6-15\",\n",
    "                \"6-6\",\n",
    "                \"7-10\",\n",
    "                \"7-11\",\n",
    "                \"7-12\",\n",
    "                \"7-13\",\n",
    "                \"7-14\",\n",
    "                \"7-7\",\n",
    "                \"7-8\",\n",
    "                \"7-9\",\n",
    "                \"8-1\",\n",
    "                \"8-13\",\n",
    "                \"8-14\",\n",
    "                \"8-18\",\n",
    "                \"8-20\",\n",
    "                \"8-3\",\n",
    "                \"8-8\",\n",
    "                \"9-1\",\n",
    "                \"9-7\",\n",
    "            ],\n",
    "            \"domains\": [1, 2, 3, 4],\n",
    "            \"num_examples_per_domain_per_label\": -1,\n",
    "            \"pickle_path\": \"/root/csc500-main/datasets/wisig.node3-19.stratified_ds.2022A.pkl\",\n",
    "            \"source_or_target_dataset\": \"source\",\n",
    "            \"x_transforms\": [\"unit_power\"],\n",
    "            \"episode_transforms\": [],\n",
    "            \"domain_prefix\": \"Wisig_\",\n",
    "        },\n",
    "        {\n",
    "            \"labels\": [\n",
    "                \"3123D52\",\n",
    "                \"3123D65\",\n",
    "                \"3123D79\",\n",
    "                \"3123D80\",\n",
    "                \"3123D54\",\n",
    "                \"3123D70\",\n",
    "                \"3123D7B\",\n",
    "                \"3123D89\",\n",
    "                \"3123D58\",\n",
    "                \"3123D76\",\n",
    "                \"3123D7D\",\n",
    "                \"3123EFE\",\n",
    "                \"3123D64\",\n",
    "                \"3123D78\",\n",
    "                \"3123D7E\",\n",
    "                \"3124E4A\",\n",
    "            ],\n",
    "            \"domains\": [32, 38, 8, 44, 14, 50, 20, 26],\n",
    "            \"num_examples_per_domain_per_label\": 2000,\n",
    "            \"pickle_path\": \"/root/csc500-main/datasets/oracle.Run1_framed_2000Examples_stratified_ds.2022A.pkl\",\n",
    "            \"source_or_target_dataset\": \"target\",\n",
    "            \"x_transforms\": [\"unit_power\"],\n",
    "            \"episode_transforms\": [],\n",
    "            \"domain_prefix\": \"ORACLE.run1\",\n",
    "        },\n",
    "    ],\n",
    "    \"dataset_seed\": 7,\n",
    "    \"seed\": 7,\n",
    "}\n"
   ]
  },
  {
   "cell_type": "code",
   "execution_count": 5,
   "id": "8fa1cc33",
   "metadata": {
    "execution": {
     "iopub.execute_input": "2022-03-21T13:46:53.290395Z",
     "iopub.status.busy": "2022-03-21T13:46:53.289842Z",
     "iopub.status.idle": "2022-03-21T13:46:53.314486Z",
     "shell.execute_reply": "2022-03-21T13:46:53.313675Z"
    },
    "papermill": {
     "duration": 0.052096,
     "end_time": "2022-03-21T13:46:53.314641",
     "exception": false,
     "start_time": "2022-03-21T13:46:53.262545",
     "status": "completed"
    },
    "tags": []
   },
   "outputs": [],
   "source": [
    "# Set this to True if you want to run this template directly\n",
    "STANDALONE = False\n",
    "if STANDALONE:\n",
    "    print(\"parameters not injected, running with standalone_parameters\")\n",
    "    parameters = standalone_parameters\n",
    "\n",
    "if not 'parameters' in locals() and not 'parameters' in globals():\n",
    "    raise Exception(\"Parameter injection failed\")\n",
    "\n",
    "#Use an easy dict for all the parameters\n",
    "p = EasyDict(parameters)\n",
    "\n",
    "if \"x_shape\" not in p:\n",
    "    p.x_shape = [2,256] # Default to this if we dont supply x_shape\n",
    "\n",
    "\n",
    "supplied_keys = set(p.keys())\n",
    "\n",
    "if  supplied_keys != required_parameters:\n",
    "    print(\"Parameters are incorrect\")\n",
    "    if len(supplied_keys - required_parameters)>0: print(\"Shouldn't have:\", str(supplied_keys - required_parameters))\n",
    "    if len(required_parameters - supplied_keys)>0: print(\"Need to have:\", str(required_parameters - supplied_keys))\n",
    "    raise RuntimeError(\"Parameters are incorrect\")"
   ]
  },
  {
   "cell_type": "code",
   "execution_count": 6,
   "id": "3a028d58",
   "metadata": {
    "execution": {
     "iopub.execute_input": "2022-03-21T13:46:53.365948Z",
     "iopub.status.busy": "2022-03-21T13:46:53.365576Z",
     "iopub.status.idle": "2022-03-21T13:46:53.394465Z",
     "shell.execute_reply": "2022-03-21T13:46:53.393657Z"
    },
    "papermill": {
     "duration": 0.052092,
     "end_time": "2022-03-21T13:46:53.394619",
     "exception": false,
     "start_time": "2022-03-21T13:46:53.342527",
     "status": "completed"
    },
    "tags": []
   },
   "outputs": [],
   "source": [
    "###################################\n",
    "# Set the RNGs and make it all deterministic\n",
    "###################################\n",
    "np.random.seed(p.seed)\n",
    "random.seed(p.seed)\n",
    "torch.manual_seed(p.seed)\n",
    "\n",
    "torch.use_deterministic_algorithms(True) "
   ]
  },
  {
   "cell_type": "code",
   "execution_count": 7,
   "id": "b691acf6",
   "metadata": {
    "execution": {
     "iopub.execute_input": "2022-03-21T13:46:53.445574Z",
     "iopub.status.busy": "2022-03-21T13:46:53.445202Z",
     "iopub.status.idle": "2022-03-21T13:46:53.473836Z",
     "shell.execute_reply": "2022-03-21T13:46:53.473006Z"
    },
    "papermill": {
     "duration": 0.053564,
     "end_time": "2022-03-21T13:46:53.473996",
     "exception": false,
     "start_time": "2022-03-21T13:46:53.420432",
     "status": "completed"
    },
    "tags": []
   },
   "outputs": [],
   "source": [
    "###########################################\n",
    "# The stratified datasets honor this\n",
    "###########################################\n",
    "torch.set_default_dtype(eval(p.torch_default_dtype))"
   ]
  },
  {
   "cell_type": "code",
   "execution_count": 8,
   "id": "b5fba671",
   "metadata": {
    "execution": {
     "iopub.execute_input": "2022-03-21T13:46:53.524435Z",
     "iopub.status.busy": "2022-03-21T13:46:53.524061Z",
     "iopub.status.idle": "2022-03-21T13:46:53.580843Z",
     "shell.execute_reply": "2022-03-21T13:46:53.580075Z"
    },
    "papermill": {
     "duration": 0.08025,
     "end_time": "2022-03-21T13:46:53.581026",
     "exception": false,
     "start_time": "2022-03-21T13:46:53.500776",
     "status": "completed"
    },
    "tags": []
   },
   "outputs": [],
   "source": [
    "###################################\n",
    "# Build the network(s)\n",
    "# Note: It's critical to do this AFTER setting the RNG\n",
    "###################################\n",
    "x_net = build_sequential(p.x_net)"
   ]
  },
  {
   "cell_type": "code",
   "execution_count": 9,
   "id": "5d7e61cc",
   "metadata": {
    "execution": {
     "iopub.execute_input": "2022-03-21T13:46:53.630073Z",
     "iopub.status.busy": "2022-03-21T13:46:53.629507Z",
     "iopub.status.idle": "2022-03-21T13:46:53.651143Z",
     "shell.execute_reply": "2022-03-21T13:46:53.651866Z"
    },
    "papermill": {
     "duration": 0.046718,
     "end_time": "2022-03-21T13:46:53.652054",
     "exception": false,
     "start_time": "2022-03-21T13:46:53.605336",
     "status": "completed"
    },
    "tags": []
   },
   "outputs": [],
   "source": [
    "start_time_secs = time.time()"
   ]
  },
  {
   "cell_type": "code",
   "execution_count": 10,
   "id": "c6b67dfd",
   "metadata": {
    "execution": {
     "iopub.execute_input": "2022-03-21T13:46:53.703053Z",
     "iopub.status.busy": "2022-03-21T13:46:53.702680Z",
     "iopub.status.idle": "2022-03-21T13:46:53.724724Z",
     "shell.execute_reply": "2022-03-21T13:46:53.725402Z"
    },
    "papermill": {
     "duration": 0.046407,
     "end_time": "2022-03-21T13:46:53.725582",
     "exception": false,
     "start_time": "2022-03-21T13:46:53.679175",
     "status": "completed"
    },
    "tags": []
   },
   "outputs": [],
   "source": [
    "p.domains_source = []\n",
    "p.domains_target = []\n",
    "\n",
    "\n",
    "train_original_source = []\n",
    "val_original_source   = []\n",
    "test_original_source  = []\n",
    "\n",
    "train_original_target = []\n",
    "val_original_target   = []\n",
    "test_original_target  = []"
   ]
  },
  {
   "cell_type": "code",
   "execution_count": 11,
   "id": "e3d9c3d3",
   "metadata": {
    "execution": {
     "iopub.execute_input": "2022-03-21T13:46:53.774228Z",
     "iopub.status.busy": "2022-03-21T13:46:53.773859Z",
     "iopub.status.idle": "2022-03-21T13:46:53.795975Z",
     "shell.execute_reply": "2022-03-21T13:46:53.795243Z"
    },
    "papermill": {
     "duration": 0.04451,
     "end_time": "2022-03-21T13:46:53.796130",
     "exception": false,
     "start_time": "2022-03-21T13:46:53.751620",
     "status": "completed"
    },
    "tags": []
   },
   "outputs": [],
   "source": [
    "# global_x_transform_func = lambda x: normalize(x.to(torch.get_default_dtype()), \"unit_power\") # unit_power, unit_mag\n",
    "# global_x_transform_func = lambda x: normalize(x, \"unit_power\") # unit_power, unit_mag"
   ]
  },
  {
   "cell_type": "code",
   "execution_count": 12,
   "id": "acb78fd2",
   "metadata": {
    "execution": {
     "iopub.execute_input": "2022-03-21T13:46:53.848097Z",
     "iopub.status.busy": "2022-03-21T13:46:53.847704Z",
     "iopub.status.idle": "2022-03-21T13:46:53.871426Z",
     "shell.execute_reply": "2022-03-21T13:46:53.870631Z"
    },
    "papermill": {
     "duration": 0.050813,
     "end_time": "2022-03-21T13:46:53.871600",
     "exception": false,
     "start_time": "2022-03-21T13:46:53.820787",
     "status": "completed"
    },
    "tags": []
   },
   "outputs": [],
   "source": [
    "def add_dataset(\n",
    "    labels,\n",
    "    domains,\n",
    "    pickle_path,\n",
    "    x_transforms,\n",
    "    episode_transforms,\n",
    "    domain_prefix,\n",
    "    num_examples_per_domain_per_label,\n",
    "    source_or_target_dataset:str,\n",
    "    iterator_seed=p.seed,\n",
    "    dataset_seed=p.dataset_seed,\n",
    "    n_shot=p.n_shot,\n",
    "    n_way=p.n_way,\n",
    "    n_query=p.n_query,\n",
    "    train_val_test_k_factors=(p.train_k_factor,p.val_k_factor,p.test_k_factor),\n",
    "):\n",
    "   \n",
    "    if x_transforms == []: x_transform = None\n",
    "    else: x_transform = get_chained_transform(x_transforms)\n",
    "    \n",
    "    if episode_transforms == []: episode_transform = None\n",
    "    else: raise Exception(\"episode_transforms not implemented\")\n",
    "    \n",
    "    episode_transform = lambda tup, _prefix=domain_prefix: (_prefix + str(tup[0]), tup[1])\n",
    "\n",
    "\n",
    "    eaf = Episodic_Accessor_Factory(\n",
    "        labels=labels,\n",
    "        domains=domains,\n",
    "        num_examples_per_domain_per_label=num_examples_per_domain_per_label,\n",
    "        iterator_seed=iterator_seed,\n",
    "        dataset_seed=dataset_seed,\n",
    "        n_shot=n_shot,\n",
    "        n_way=n_way,\n",
    "        n_query=n_query,\n",
    "        train_val_test_k_factors=train_val_test_k_factors,\n",
    "        pickle_path=pickle_path,\n",
    "        x_transform_func=x_transform,\n",
    "    )\n",
    "\n",
    "    train, val, test = eaf.get_train(), eaf.get_val(), eaf.get_test()\n",
    "    train = Lazy_Iterable_Wrapper(train, episode_transform)\n",
    "    val = Lazy_Iterable_Wrapper(val, episode_transform)\n",
    "    test = Lazy_Iterable_Wrapper(test, episode_transform)\n",
    "\n",
    "    if source_or_target_dataset==\"source\":\n",
    "        train_original_source.append(train)\n",
    "        val_original_source.append(val)\n",
    "        test_original_source.append(test)\n",
    "\n",
    "        p.domains_source.extend(\n",
    "            [domain_prefix + str(u) for u in domains]\n",
    "        )\n",
    "    elif source_or_target_dataset==\"target\":\n",
    "        train_original_target.append(train)\n",
    "        val_original_target.append(val)\n",
    "        test_original_target.append(test)\n",
    "        p.domains_target.extend(\n",
    "            [domain_prefix + str(u) for u in domains]\n",
    "        )\n",
    "    else:\n",
    "        raise Exception(f\"invalid source_or_target_dataset: {source_or_target_dataset}\")\n",
    "    "
   ]
  },
  {
   "cell_type": "code",
   "execution_count": 13,
   "id": "fe266617",
   "metadata": {
    "execution": {
     "iopub.execute_input": "2022-03-21T13:46:53.922139Z",
     "iopub.status.busy": "2022-03-21T13:46:53.921773Z",
     "iopub.status.idle": "2022-03-21T13:47:38.222810Z",
     "shell.execute_reply": "2022-03-21T13:47:38.222410Z"
    },
    "papermill": {
     "duration": 44.324166,
     "end_time": "2022-03-21T13:47:38.222910",
     "exception": false,
     "start_time": "2022-03-21T13:46:53.898744",
     "status": "completed"
    },
    "tags": []
   },
   "outputs": [],
   "source": [
    "for ds in p.datasets:\n",
    "    add_dataset(**ds)"
   ]
  },
  {
   "cell_type": "code",
   "execution_count": 14,
   "id": "b90d65ac",
   "metadata": {
    "execution": {
     "iopub.execute_input": "2022-03-21T13:47:38.268738Z",
     "iopub.status.busy": "2022-03-21T13:47:38.267837Z",
     "iopub.status.idle": "2022-03-21T13:47:38.289802Z",
     "shell.execute_reply": "2022-03-21T13:47:38.289401Z"
    },
    "papermill": {
     "duration": 0.045318,
     "end_time": "2022-03-21T13:47:38.289888",
     "exception": false,
     "start_time": "2022-03-21T13:47:38.244570",
     "status": "completed"
    },
    "tags": []
   },
   "outputs": [],
   "source": [
    "# from steves_utils.CORES.utils import (\n",
    "#     ALL_NODES,\n",
    "#     ALL_NODES_MINIMUM_1000_EXAMPLES,\n",
    "#     ALL_DAYS\n",
    "# )\n",
    "\n",
    "# add_dataset(\n",
    "#     labels=ALL_NODES,\n",
    "#     domains = ALL_DAYS,\n",
    "#     num_examples_per_domain_per_label=100,\n",
    "#     pickle_path=os.path.join(get_datasets_base_path(), \"cores.stratified_ds.2022A.pkl\"),\n",
    "#     source_or_target_dataset=\"target\",\n",
    "#     x_transform_func=global_x_transform_func,\n",
    "#     domain_modifier=lambda u: f\"cores_{u}\"\n",
    "# )"
   ]
  },
  {
   "cell_type": "code",
   "execution_count": 15,
   "id": "76db484d",
   "metadata": {
    "execution": {
     "iopub.execute_input": "2022-03-21T13:47:38.333842Z",
     "iopub.status.busy": "2022-03-21T13:47:38.333297Z",
     "iopub.status.idle": "2022-03-21T13:47:38.351947Z",
     "shell.execute_reply": "2022-03-21T13:47:38.351521Z"
    },
    "papermill": {
     "duration": 0.041324,
     "end_time": "2022-03-21T13:47:38.352025",
     "exception": false,
     "start_time": "2022-03-21T13:47:38.310701",
     "status": "completed"
    },
    "tags": []
   },
   "outputs": [],
   "source": [
    "# from steves_utils.ORACLE.utils_v2 import (\n",
    "#     ALL_DISTANCES_FEET,\n",
    "#     ALL_RUNS,\n",
    "#     ALL_SERIAL_NUMBERS,\n",
    "# )\n",
    "\n",
    "\n",
    "# add_dataset(\n",
    "#     labels=ALL_SERIAL_NUMBERS,\n",
    "#     domains = list(set(ALL_DISTANCES_FEET) - {2,62}),\n",
    "#     num_examples_per_domain_per_label=100,\n",
    "#     pickle_path=os.path.join(get_datasets_base_path(), \"oracle.Run2_framed_2000Examples_stratified_ds.2022A.pkl\"),\n",
    "#     source_or_target_dataset=\"source\",\n",
    "#     x_transform_func=global_x_transform_func,\n",
    "#     domain_modifier=lambda u: f\"oracle1_{u}\"\n",
    "# )\n"
   ]
  },
  {
   "cell_type": "code",
   "execution_count": 16,
   "id": "97dea9d2",
   "metadata": {
    "execution": {
     "iopub.execute_input": "2022-03-21T13:47:38.398156Z",
     "iopub.status.busy": "2022-03-21T13:47:38.397610Z",
     "iopub.status.idle": "2022-03-21T13:47:38.415568Z",
     "shell.execute_reply": "2022-03-21T13:47:38.415164Z"
    },
    "papermill": {
     "duration": 0.040614,
     "end_time": "2022-03-21T13:47:38.415647",
     "exception": false,
     "start_time": "2022-03-21T13:47:38.375033",
     "status": "completed"
    },
    "tags": []
   },
   "outputs": [],
   "source": [
    "# from steves_utils.ORACLE.utils_v2 import (\n",
    "#     ALL_DISTANCES_FEET,\n",
    "#     ALL_RUNS,\n",
    "#     ALL_SERIAL_NUMBERS,\n",
    "# )\n",
    "\n",
    "\n",
    "# add_dataset(\n",
    "#     labels=ALL_SERIAL_NUMBERS,\n",
    "#     domains = list(set(ALL_DISTANCES_FEET) - {2,62,56}),\n",
    "#     num_examples_per_domain_per_label=100,\n",
    "#     pickle_path=os.path.join(get_datasets_base_path(), \"oracle.Run2_framed_2000Examples_stratified_ds.2022A.pkl\"),\n",
    "#     source_or_target_dataset=\"source\",\n",
    "#     x_transform_func=global_x_transform_func,\n",
    "#     domain_modifier=lambda u: f\"oracle2_{u}\"\n",
    "# )"
   ]
  },
  {
   "cell_type": "code",
   "execution_count": 17,
   "id": "6f289866",
   "metadata": {
    "execution": {
     "iopub.execute_input": "2022-03-21T13:47:38.459941Z",
     "iopub.status.busy": "2022-03-21T13:47:38.459129Z",
     "iopub.status.idle": "2022-03-21T13:47:38.476714Z",
     "shell.execute_reply": "2022-03-21T13:47:38.476124Z"
    },
    "papermill": {
     "duration": 0.040721,
     "end_time": "2022-03-21T13:47:38.476827",
     "exception": false,
     "start_time": "2022-03-21T13:47:38.436106",
     "status": "completed"
    },
    "tags": []
   },
   "outputs": [],
   "source": [
    "# add_dataset(\n",
    "#     labels=list(range(19)),\n",
    "#     domains = [0,1,2],\n",
    "#     num_examples_per_domain_per_label=100,\n",
    "#     pickle_path=os.path.join(get_datasets_base_path(), \"metehan.stratified_ds.2022A.pkl\"),\n",
    "#     source_or_target_dataset=\"target\",\n",
    "#     x_transform_func=global_x_transform_func,\n",
    "#     domain_modifier=lambda u: f\"met_{u}\"\n",
    "# )"
   ]
  },
  {
   "cell_type": "code",
   "execution_count": 18,
   "id": "86a863c3",
   "metadata": {
    "execution": {
     "iopub.execute_input": "2022-03-21T13:47:38.525539Z",
     "iopub.status.busy": "2022-03-21T13:47:38.524976Z",
     "iopub.status.idle": "2022-03-21T13:47:38.542635Z",
     "shell.execute_reply": "2022-03-21T13:47:38.542251Z"
    },
    "papermill": {
     "duration": 0.041044,
     "end_time": "2022-03-21T13:47:38.542712",
     "exception": false,
     "start_time": "2022-03-21T13:47:38.501668",
     "status": "completed"
    },
    "tags": []
   },
   "outputs": [],
   "source": [
    "# # from steves_utils.wisig.utils import (\n",
    "# #     ALL_NODES_MINIMUM_100_EXAMPLES,\n",
    "# #     ALL_NODES_MINIMUM_500_EXAMPLES,\n",
    "# #     ALL_NODES_MINIMUM_1000_EXAMPLES,\n",
    "# #     ALL_DAYS\n",
    "# # )\n",
    "\n",
    "# import steves_utils.wisig.utils as wisig\n",
    "\n",
    "\n",
    "# add_dataset(\n",
    "#     labels=wisig.ALL_NODES_MINIMUM_100_EXAMPLES,\n",
    "#     domains = wisig.ALL_DAYS,\n",
    "#     num_examples_per_domain_per_label=100,\n",
    "#     pickle_path=os.path.join(get_datasets_base_path(), \"wisig.node3-19.stratified_ds.2022A.pkl\"),\n",
    "#     source_or_target_dataset=\"target\",\n",
    "#     x_transform_func=global_x_transform_func,\n",
    "#     domain_modifier=lambda u: f\"wisig_{u}\"\n",
    "# )"
   ]
  },
  {
   "cell_type": "code",
   "execution_count": 19,
   "id": "fd5442bc",
   "metadata": {
    "execution": {
     "iopub.execute_input": "2022-03-21T13:47:38.590194Z",
     "iopub.status.busy": "2022-03-21T13:47:38.589299Z",
     "iopub.status.idle": "2022-03-21T13:47:38.608901Z",
     "shell.execute_reply": "2022-03-21T13:47:38.608509Z"
    },
    "papermill": {
     "duration": 0.045601,
     "end_time": "2022-03-21T13:47:38.608981",
     "exception": false,
     "start_time": "2022-03-21T13:47:38.563380",
     "status": "completed"
    },
    "tags": []
   },
   "outputs": [],
   "source": [
    "###################################\n",
    "# Build the dataset\n",
    "###################################\n",
    "train_original_source = Iterable_Aggregator(train_original_source, p.seed)\n",
    "val_original_source = Iterable_Aggregator(val_original_source, p.seed)\n",
    "test_original_source = Iterable_Aggregator(test_original_source, p.seed)\n",
    "\n",
    "\n",
    "train_original_target = Iterable_Aggregator(train_original_target, p.seed)\n",
    "val_original_target = Iterable_Aggregator(val_original_target, p.seed)\n",
    "test_original_target = Iterable_Aggregator(test_original_target, p.seed)\n",
    "\n",
    "# For CNN We only use X and Y. And we only train on the source.\n",
    "# Properly form the data using a transform lambda and Lazy_Iterable_Wrapper. Finally wrap them in a dataloader\n",
    "\n",
    "transform_lambda = lambda ex: ex[1] # Original is (<domain>, <episode>) so we strip down to episode only\n",
    "\n",
    "train_processed_source = Lazy_Iterable_Wrapper(train_original_source, transform_lambda)\n",
    "val_processed_source   = Lazy_Iterable_Wrapper(val_original_source, transform_lambda)\n",
    "test_processed_source  = Lazy_Iterable_Wrapper(test_original_source, transform_lambda)\n",
    "\n",
    "train_processed_target = Lazy_Iterable_Wrapper(train_original_target, transform_lambda)\n",
    "val_processed_target   = Lazy_Iterable_Wrapper(val_original_target, transform_lambda)\n",
    "test_processed_target  = Lazy_Iterable_Wrapper(test_original_target, transform_lambda)\n",
    "\n",
    "datasets = EasyDict({\n",
    "    \"source\": {\n",
    "        \"original\": {\"train\":train_original_source, \"val\":val_original_source, \"test\":test_original_source},\n",
    "        \"processed\": {\"train\":train_processed_source, \"val\":val_processed_source, \"test\":test_processed_source}\n",
    "    },\n",
    "    \"target\": {\n",
    "        \"original\": {\"train\":train_original_target, \"val\":val_original_target, \"test\":test_original_target},\n",
    "        \"processed\": {\"train\":train_processed_target, \"val\":val_processed_target, \"test\":test_processed_target}\n",
    "    },\n",
    "})"
   ]
  },
  {
   "cell_type": "code",
   "execution_count": 20,
   "id": "5b3c01fc",
   "metadata": {
    "execution": {
     "iopub.execute_input": "2022-03-21T13:47:38.654777Z",
     "iopub.status.busy": "2022-03-21T13:47:38.654224Z",
     "iopub.status.idle": "2022-03-21T13:47:54.062177Z",
     "shell.execute_reply": "2022-03-21T13:47:54.061314Z"
    },
    "papermill": {
     "duration": 15.432349,
     "end_time": "2022-03-21T13:47:54.062368",
     "exception": false,
     "start_time": "2022-03-21T13:47:38.630019",
     "status": "completed"
    },
    "tags": []
   },
   "outputs": [
    {
     "name": "stdout",
     "output_type": "stream",
     "text": [
      "{'Wisig_2', 'Wisig_1', 'Wisig_4', 'Wisig_3'}\n"
     ]
    },
    {
     "name": "stdout",
     "output_type": "stream",
     "text": [
      "{'ORACLE.run114', 'ORACLE.run138', 'ORACLE.run144', 'ORACLE.run132', 'ORACLE.run18', 'ORACLE.run126', 'ORACLE.run120', 'ORACLE.run150'}\n"
     ]
    },
    {
     "name": "stdout",
     "output_type": "stream",
     "text": [
      "tensor([[[-0.3864,  0.5299,  1.0966,  ...,  0.1828,  0.4184,  0.9555],\n",
      "         [-0.4537, -0.9852,  0.2477,  ..., -0.2461, -0.5724, -0.0842]],\n",
      "\n",
      "        [[-0.3494,  0.7304,  1.1154,  ...,  0.1399,  0.4783,  1.0324],\n",
      "         [-0.8490, -0.8364,  0.5462,  ..., -0.2917, -0.5051, -0.0095]],\n",
      "\n",
      "        [[-0.5588,  0.7875,  0.9502,  ..., -0.3771,  0.3350,  0.8375],\n",
      "         [-0.7446, -1.0002,  0.4064,  ..., -0.5168, -0.9938, -0.0214]],\n",
      "\n",
      "        ...,\n",
      "\n",
      "        [[-0.1855,  1.0692,  1.6378,  ..., -0.3197,  1.0919,  1.0210],\n",
      "         [-0.2579, -1.0919, -0.3589,  ..., -0.4057,  0.1825,  0.4630]],\n",
      "\n",
      "        [[-0.6034,  1.0727,  1.7744,  ...,  0.1877,  0.8328,  0.1117],\n",
      "         [-0.1251, -0.2294,  0.4812,  ..., -0.2399, -0.2369,  0.8119]],\n",
      "\n",
      "        [[ 0.3618, -0.0819, -1.3048,  ...,  0.4669, -0.2999, -1.1100],\n",
      "         [-0.1391,  0.8735,  0.9956,  ...,  0.3664,  0.5875, -0.3896]]])\n"
     ]
    }
   ],
   "source": [
    "from steves_utils.transforms import get_average_magnitude, get_average_power\n",
    "\n",
    "print(set([u for u,_ in val_original_source]))\n",
    "print(set([u for u,_ in val_original_target]))\n",
    "\n",
    "s_x, s_y, q_x, q_y, _ = next(iter(train_processed_source))\n",
    "print(s_x)\n",
    "\n",
    "# for ds in [\n",
    "#     train_processed_source,\n",
    "#     val_processed_source,\n",
    "#     test_processed_source,\n",
    "#     train_processed_target,\n",
    "#     val_processed_target,\n",
    "#     test_processed_target\n",
    "# ]:\n",
    "#     for s_x, s_y, q_x, q_y, _ in ds:\n",
    "#         for X in (s_x, q_x):\n",
    "#             for x in X:\n",
    "#                 assert np.isclose(get_average_magnitude(x.numpy()), 1.0)\n",
    "#                 assert np.isclose(get_average_power(x.numpy()), 1.0)\n",
    "                "
   ]
  },
  {
   "cell_type": "code",
   "execution_count": 21,
   "id": "bbdacba1",
   "metadata": {
    "execution": {
     "iopub.execute_input": "2022-03-21T13:47:54.116617Z",
     "iopub.status.busy": "2022-03-21T13:47:54.116236Z",
     "iopub.status.idle": "2022-03-21T13:47:54.367727Z",
     "shell.execute_reply": "2022-03-21T13:47:54.368367Z"
    },
    "papermill": {
     "duration": 0.280175,
     "end_time": "2022-03-21T13:47:54.368582",
     "exception": false,
     "start_time": "2022-03-21T13:47:54.088407",
     "status": "completed"
    },
    "tags": []
   },
   "outputs": [
    {
     "name": "stdout",
     "output_type": "stream",
     "text": [
      "(2, 256)\n"
     ]
    }
   ],
   "source": [
    "###################################\n",
    "# Build the model\n",
    "###################################\n",
    "# easfsl only wants a tuple for the shape\n",
    "model = Steves_Prototypical_Network(x_net, device=p.device, x_shape=tuple(p.x_shape))\n",
    "optimizer = Adam(params=model.parameters(), lr=p.lr)"
   ]
  },
  {
   "cell_type": "code",
   "execution_count": 22,
   "id": "22b39ac5",
   "metadata": {
    "execution": {
     "iopub.execute_input": "2022-03-21T13:47:54.423137Z",
     "iopub.status.busy": "2022-03-21T13:47:54.421960Z",
     "iopub.status.idle": "2022-03-21T14:09:29.532716Z",
     "shell.execute_reply": "2022-03-21T14:09:29.532193Z"
    },
    "papermill": {
     "duration": 1295.137117,
     "end_time": "2022-03-21T14:09:29.532845",
     "exception": false,
     "start_time": "2022-03-21T13:47:54.395728",
     "status": "completed"
    },
    "tags": []
   },
   "outputs": [
    {
     "name": "stdout",
     "output_type": "stream",
     "text": [
      "epoch: 1, [batch: 1 / 6851], examples_per_second: 30.9597, train_label_loss: 2.5831, \n"
     ]
    },
    {
     "name": "stdout",
     "output_type": "stream",
     "text": [
      "epoch: 1, [batch: 686 / 6851], examples_per_second: 2942.0794, train_label_loss: 0.2350, \n"
     ]
    },
    {
     "name": "stdout",
     "output_type": "stream",
     "text": [
      "epoch: 1, [batch: 1371 / 6851], examples_per_second: 3163.7201, train_label_loss: 0.0454, \n"
     ]
    },
    {
     "name": "stdout",
     "output_type": "stream",
     "text": [
      "epoch: 1, [batch: 2056 / 6851], examples_per_second: 3369.5545, train_label_loss: 0.0076, \n"
     ]
    },
    {
     "name": "stdout",
     "output_type": "stream",
     "text": [
      "epoch: 1, [batch: 2741 / 6851], examples_per_second: 3546.1386, train_label_loss: 0.2880, \n"
     ]
    },
    {
     "name": "stdout",
     "output_type": "stream",
     "text": [
      "epoch: 1, [batch: 3426 / 6851], examples_per_second: 3034.7831, train_label_loss: 0.0266, \n"
     ]
    },
    {
     "name": "stdout",
     "output_type": "stream",
     "text": [
      "epoch: 1, [batch: 4111 / 6851], examples_per_second: 2903.5937, train_label_loss: 0.0359, \n"
     ]
    },
    {
     "name": "stdout",
     "output_type": "stream",
     "text": [
      "epoch: 1, [batch: 4796 / 6851], examples_per_second: 2449.9245, train_label_loss: 0.0336, \n"
     ]
    },
    {
     "name": "stdout",
     "output_type": "stream",
     "text": [
      "epoch: 1, [batch: 5481 / 6851], examples_per_second: 2276.0618, train_label_loss: 0.0570, \n"
     ]
    },
    {
     "name": "stdout",
     "output_type": "stream",
     "text": [
      "epoch: 1, [batch: 6166 / 6851], examples_per_second: 2305.3956, train_label_loss: 0.1564, \n"
     ]
    },
    {
     "name": "stdout",
     "output_type": "stream",
     "text": [
      "=============================================================\n",
      "epoch: 1, source_val_acc_label: 0.9596, target_val_acc_label: 0.1860, source_val_label_loss: 0.1760, target_val_label_loss: 2.5257, \n",
      "=============================================================\n"
     ]
    },
    {
     "name": "stdout",
     "output_type": "stream",
     "text": [
      "New best\n"
     ]
    },
    {
     "name": "stdout",
     "output_type": "stream",
     "text": [
      "epoch: 2, [batch: 1 / 6838], examples_per_second: 1.9773, train_label_loss: 0.1306, \n"
     ]
    },
    {
     "name": "stdout",
     "output_type": "stream",
     "text": [
      "epoch: 2, [batch: 684 / 6838], examples_per_second: 2411.7478, train_label_loss: 0.1916, \n"
     ]
    },
    {
     "name": "stdout",
     "output_type": "stream",
     "text": [
      "epoch: 2, [batch: 1368 / 6838], examples_per_second: 2579.9872, train_label_loss: 0.0493, \n"
     ]
    },
    {
     "name": "stdout",
     "output_type": "stream",
     "text": [
      "epoch: 2, [batch: 2052 / 6838], examples_per_second: 2672.2198, train_label_loss: 0.0359, \n"
     ]
    },
    {
     "name": "stdout",
     "output_type": "stream",
     "text": [
      "epoch: 2, [batch: 2735 / 6838], examples_per_second: 2494.1692, train_label_loss: 0.0481, \n"
     ]
    },
    {
     "name": "stdout",
     "output_type": "stream",
     "text": [
      "epoch: 2, [batch: 3419 / 6838], examples_per_second: 2573.8781, train_label_loss: 0.0313, \n"
     ]
    },
    {
     "name": "stdout",
     "output_type": "stream",
     "text": [
      "epoch: 2, [batch: 4103 / 6838], examples_per_second: 2678.6925, train_label_loss: 0.0119, \n"
     ]
    },
    {
     "name": "stdout",
     "output_type": "stream",
     "text": [
      "epoch: 2, [batch: 4786 / 6838], examples_per_second: 2292.8814, train_label_loss: 0.0423, \n"
     ]
    },
    {
     "name": "stdout",
     "output_type": "stream",
     "text": [
      "epoch: 2, [batch: 5470 / 6838], examples_per_second: 2299.7284, train_label_loss: 0.0653, \n"
     ]
    },
    {
     "name": "stdout",
     "output_type": "stream",
     "text": [
      "epoch: 2, [batch: 6154 / 6838], examples_per_second: 2305.4077, train_label_loss: 0.1511, \n"
     ]
    },
    {
     "name": "stdout",
     "output_type": "stream",
     "text": [
      "=============================================================\n",
      "epoch: 2, source_val_acc_label: 0.9687, target_val_acc_label: 0.1764, source_val_label_loss: 0.1380, target_val_label_loss: 2.5355, \n",
      "=============================================================\n"
     ]
    },
    {
     "name": "stdout",
     "output_type": "stream",
     "text": [
      "epoch: 3, [batch: 1 / 6850], examples_per_second: 2.0094, train_label_loss: 0.0313, \n"
     ]
    },
    {
     "name": "stdout",
     "output_type": "stream",
     "text": [
      "epoch: 3, [batch: 685 / 6850], examples_per_second: 2580.2530, train_label_loss: 0.0037, \n"
     ]
    },
    {
     "name": "stdout",
     "output_type": "stream",
     "text": [
      "epoch: 3, [batch: 1370 / 6850], examples_per_second: 2931.4952, train_label_loss: 0.0020, \n"
     ]
    },
    {
     "name": "stdout",
     "output_type": "stream",
     "text": [
      "epoch: 3, [batch: 2055 / 6850], examples_per_second: 2622.5172, train_label_loss: 0.0543, \n"
     ]
    },
    {
     "name": "stdout",
     "output_type": "stream",
     "text": [
      "epoch: 3, [batch: 2740 / 6850], examples_per_second: 2903.4461, train_label_loss: 0.1318, \n"
     ]
    },
    {
     "name": "stdout",
     "output_type": "stream",
     "text": [
      "epoch: 3, [batch: 3425 / 6850], examples_per_second: 2906.1015, train_label_loss: 0.1378, \n"
     ]
    },
    {
     "name": "stdout",
     "output_type": "stream",
     "text": [
      "epoch: 3, [batch: 4110 / 6850], examples_per_second: 2930.0733, train_label_loss: 0.2869, \n"
     ]
    },
    {
     "name": "stdout",
     "output_type": "stream",
     "text": [
      "epoch: 3, [batch: 4795 / 6850], examples_per_second: 2532.6084, train_label_loss: 0.1173, \n"
     ]
    },
    {
     "name": "stdout",
     "output_type": "stream",
     "text": [
      "epoch: 3, [batch: 5480 / 6850], examples_per_second: 2636.6529, train_label_loss: 0.1508, \n"
     ]
    },
    {
     "name": "stdout",
     "output_type": "stream",
     "text": [
      "epoch: 3, [batch: 6165 / 6850], examples_per_second: 2843.2149, train_label_loss: 0.0037, \n"
     ]
    },
    {
     "name": "stdout",
     "output_type": "stream",
     "text": [
      "=============================================================\n",
      "epoch: 3, source_val_acc_label: 0.9713, target_val_acc_label: 0.1709, source_val_label_loss: 0.1233, target_val_label_loss: 2.5554, \n",
      "=============================================================\n"
     ]
    },
    {
     "name": "stdout",
     "output_type": "stream",
     "text": [
      "epoch: 4, [batch: 1 / 6835], examples_per_second: 2.2139, train_label_loss: 0.0150, \n"
     ]
    },
    {
     "name": "stdout",
     "output_type": "stream",
     "text": [
      "epoch: 4, [batch: 684 / 6835], examples_per_second: 2563.3809, train_label_loss: 0.2771, \n"
     ]
    },
    {
     "name": "stdout",
     "output_type": "stream",
     "text": [
      "epoch: 4, [batch: 1367 / 6835], examples_per_second: 2633.1293, train_label_loss: 0.1676, \n"
     ]
    },
    {
     "name": "stdout",
     "output_type": "stream",
     "text": [
      "epoch: 4, [batch: 2051 / 6835], examples_per_second: 2686.6337, train_label_loss: 0.0033, \n"
     ]
    },
    {
     "name": "stdout",
     "output_type": "stream",
     "text": [
      "epoch: 4, [batch: 2734 / 6835], examples_per_second: 2933.5969, train_label_loss: 0.0099, \n"
     ]
    },
    {
     "name": "stdout",
     "output_type": "stream",
     "text": [
      "epoch: 4, [batch: 3418 / 6835], examples_per_second: 2937.6898, train_label_loss: 0.1820, \n"
     ]
    },
    {
     "name": "stdout",
     "output_type": "stream",
     "text": [
      "epoch: 4, [batch: 4101 / 6835], examples_per_second: 2925.4553, train_label_loss: 0.1248, \n"
     ]
    },
    {
     "name": "stdout",
     "output_type": "stream",
     "text": [
      "epoch: 4, [batch: 4784 / 6835], examples_per_second: 2521.0265, train_label_loss: 0.0026, \n"
     ]
    },
    {
     "name": "stdout",
     "output_type": "stream",
     "text": [
      "epoch: 4, [batch: 5468 / 6835], examples_per_second: 2544.0862, train_label_loss: 0.2336, \n"
     ]
    },
    {
     "name": "stdout",
     "output_type": "stream",
     "text": [
      "epoch: 4, [batch: 6151 / 6835], examples_per_second: 2587.2993, train_label_loss: 0.0225, \n"
     ]
    },
    {
     "name": "stdout",
     "output_type": "stream",
     "text": [
      "=============================================================\n",
      "epoch: 4, source_val_acc_label: 0.9724, target_val_acc_label: 0.1487, source_val_label_loss: 0.1241, target_val_label_loss: 2.6570, \n",
      "=============================================================\n"
     ]
    },
    {
     "name": "stdout",
     "output_type": "stream",
     "text": [
      "epoch: 5, [batch: 1 / 6849], examples_per_second: 2.6661, train_label_loss: 0.0297, \n"
     ]
    },
    {
     "name": "stdout",
     "output_type": "stream",
     "text": [
      "epoch: 5, [batch: 685 / 6849], examples_per_second: 2939.4786, train_label_loss: 0.0106, \n"
     ]
    },
    {
     "name": "stdout",
     "output_type": "stream",
     "text": [
      "epoch: 5, [batch: 1370 / 6849], examples_per_second: 2933.0069, train_label_loss: 0.0579, \n"
     ]
    },
    {
     "name": "stdout",
     "output_type": "stream",
     "text": [
      "epoch: 5, [batch: 2055 / 6849], examples_per_second: 3028.9755, train_label_loss: 0.1505, \n"
     ]
    },
    {
     "name": "stdout",
     "output_type": "stream",
     "text": [
      "epoch: 5, [batch: 2740 / 6849], examples_per_second: 3385.0587, train_label_loss: 0.2140, \n"
     ]
    },
    {
     "name": "stdout",
     "output_type": "stream",
     "text": [
      "epoch: 5, [batch: 3425 / 6849], examples_per_second: 2739.5492, train_label_loss: 0.1394, \n"
     ]
    },
    {
     "name": "stdout",
     "output_type": "stream",
     "text": [
      "epoch: 5, [batch: 4109 / 6849], examples_per_second: 2424.8518, train_label_loss: 0.0652, \n"
     ]
    },
    {
     "name": "stdout",
     "output_type": "stream",
     "text": [
      "epoch: 5, [batch: 4794 / 6849], examples_per_second: 2296.0339, train_label_loss: 0.1036, \n"
     ]
    },
    {
     "name": "stdout",
     "output_type": "stream",
     "text": [
      "epoch: 5, [batch: 5479 / 6849], examples_per_second: 2305.7722, train_label_loss: 0.0033, \n"
     ]
    },
    {
     "name": "stdout",
     "output_type": "stream",
     "text": [
      "epoch: 5, [batch: 6164 / 6849], examples_per_second: 2296.2551, train_label_loss: 0.0083, \n"
     ]
    },
    {
     "name": "stdout",
     "output_type": "stream",
     "text": [
      "=============================================================\n",
      "epoch: 5, source_val_acc_label: 0.9724, target_val_acc_label: 0.1272, source_val_label_loss: 0.1258, target_val_label_loss: 2.8262, \n",
      "=============================================================\n"
     ]
    },
    {
     "name": "stdout",
     "output_type": "stream",
     "text": [
      "Patience (3) exhausted\n"
     ]
    }
   ],
   "source": [
    "###################################\n",
    "# train\n",
    "###################################\n",
    "jig = PTN_Train_Eval_Test_Jig(model, p.BEST_MODEL_PATH, p.device)\n",
    "\n",
    "jig.train(\n",
    "    train_iterable=datasets.source.processed.train,\n",
    "    source_val_iterable=datasets.source.processed.val,\n",
    "    target_val_iterable=datasets.target.processed.val,\n",
    "    num_epochs=p.n_epoch,\n",
    "    num_logs_per_epoch=p.NUM_LOGS_PER_EPOCH,\n",
    "    patience=p.patience,\n",
    "    optimizer=optimizer,\n",
    "    criteria_for_best=p.criteria_for_best,\n",
    ")"
   ]
  },
  {
   "cell_type": "code",
   "execution_count": 23,
   "id": "31e8fabf",
   "metadata": {
    "execution": {
     "iopub.execute_input": "2022-03-21T14:09:29.629857Z",
     "iopub.status.busy": "2022-03-21T14:09:29.629206Z",
     "iopub.status.idle": "2022-03-21T14:09:29.661737Z",
     "shell.execute_reply": "2022-03-21T14:09:29.661017Z"
    },
    "papermill": {
     "duration": 0.079357,
     "end_time": "2022-03-21T14:09:29.661912",
     "exception": false,
     "start_time": "2022-03-21T14:09:29.582555",
     "status": "completed"
    },
    "tags": []
   },
   "outputs": [],
   "source": [
    "total_experiment_time_secs = time.time() - start_time_secs"
   ]
  },
  {
   "cell_type": "code",
   "execution_count": 24,
   "id": "87b9595b",
   "metadata": {
    "execution": {
     "iopub.execute_input": "2022-03-21T14:09:29.754426Z",
     "iopub.status.busy": "2022-03-21T14:09:29.753807Z",
     "iopub.status.idle": "2022-03-21T14:13:59.952904Z",
     "shell.execute_reply": "2022-03-21T14:13:59.952135Z"
    },
    "papermill": {
     "duration": 270.24426,
     "end_time": "2022-03-21T14:13:59.953107",
     "exception": false,
     "start_time": "2022-03-21T14:09:29.708847",
     "status": "completed"
    },
    "tags": []
   },
   "outputs": [],
   "source": [
    "###################################\n",
    "# Evaluate the model\n",
    "###################################\n",
    "source_test_label_accuracy, source_test_label_loss = jig.test(datasets.source.processed.test)\n",
    "target_test_label_accuracy, target_test_label_loss = jig.test(datasets.target.processed.test)\n",
    "\n",
    "source_val_label_accuracy, source_val_label_loss = jig.test(datasets.source.processed.val)\n",
    "target_val_label_accuracy, target_val_label_loss = jig.test(datasets.target.processed.val)\n",
    "\n",
    "history = jig.get_history()\n",
    "\n",
    "total_epochs_trained = len(history[\"epoch_indices\"])\n",
    "\n",
    "val_dl = Iterable_Aggregator((datasets.source.original.val,datasets.target.original.val))\n",
    "\n",
    "confusion = ptn_confusion_by_domain_over_dataloader(model, p.device, val_dl)\n",
    "per_domain_accuracy = per_domain_accuracy_from_confusion(confusion)\n",
    "\n",
    "# Add a key to per_domain_accuracy for if it was a source domain\n",
    "for domain, accuracy in per_domain_accuracy.items():\n",
    "    per_domain_accuracy[domain] = {\n",
    "        \"accuracy\": accuracy,\n",
    "        \"source?\": domain in p.domains_source\n",
    "    }\n",
    "\n",
    "# Do an independent accuracy assesment JUST TO BE SURE!\n",
    "# _source_test_label_accuracy = independent_accuracy_assesment(model, datasets.source.processed.test, p.device)\n",
    "# _target_test_label_accuracy = independent_accuracy_assesment(model, datasets.target.processed.test, p.device)\n",
    "# _source_val_label_accuracy = independent_accuracy_assesment(model, datasets.source.processed.val, p.device)\n",
    "# _target_val_label_accuracy = independent_accuracy_assesment(model, datasets.target.processed.val, p.device)\n",
    "\n",
    "# assert(_source_test_label_accuracy == source_test_label_accuracy)\n",
    "# assert(_target_test_label_accuracy == target_test_label_accuracy)\n",
    "# assert(_source_val_label_accuracy == source_val_label_accuracy)\n",
    "# assert(_target_val_label_accuracy == target_val_label_accuracy)\n",
    "\n",
    "experiment = {\n",
    "    \"experiment_name\": p.experiment_name,\n",
    "    \"parameters\": dict(p),\n",
    "    \"results\": {\n",
    "        \"source_test_label_accuracy\": source_test_label_accuracy,\n",
    "        \"source_test_label_loss\": source_test_label_loss,\n",
    "        \"target_test_label_accuracy\": target_test_label_accuracy,\n",
    "        \"target_test_label_loss\": target_test_label_loss,\n",
    "        \"source_val_label_accuracy\": source_val_label_accuracy,\n",
    "        \"source_val_label_loss\": source_val_label_loss,\n",
    "        \"target_val_label_accuracy\": target_val_label_accuracy,\n",
    "        \"target_val_label_loss\": target_val_label_loss,\n",
    "        \"total_epochs_trained\": total_epochs_trained,\n",
    "        \"total_experiment_time_secs\": total_experiment_time_secs,\n",
    "        \"confusion\": confusion,\n",
    "        \"per_domain_accuracy\": per_domain_accuracy,\n",
    "    },\n",
    "    \"history\": history,\n",
    "    \"dataset_metrics\": get_dataset_metrics(datasets, \"ptn\"),\n",
    "}"
   ]
  },
  {
   "cell_type": "code",
   "execution_count": 25,
   "id": "54a21829",
   "metadata": {
    "execution": {
     "iopub.execute_input": "2022-03-21T14:14:00.040288Z",
     "iopub.status.busy": "2022-03-21T14:14:00.039903Z",
     "iopub.status.idle": "2022-03-21T14:14:00.252068Z",
     "shell.execute_reply": "2022-03-21T14:14:00.251330Z"
    },
    "papermill": {
     "duration": 0.2562,
     "end_time": "2022-03-21T14:14:00.252251",
     "exception": false,
     "start_time": "2022-03-21T14:13:59.996051",
     "status": "completed"
    },
    "tags": []
   },
   "outputs": [
    {
     "data": {
      "image/png": "[encoded data removed]",
      "text/plain": [
       "<Figure size 1080x504 with 1 Axes>"
      ]
     },
     "metadata": {
      "needs_background": "light"
     },
     "output_type": "display_data"
    }
   ],
   "source": [
    "ax = get_loss_curve(experiment)\n",
    "plt.show()"
   ]
  },
  {
   "cell_type": "code",
   "execution_count": 26,
   "id": "fd8a0f60",
   "metadata": {
    "execution": {
     "iopub.execute_input": "2022-03-21T14:14:00.342267Z",
     "iopub.status.busy": "2022-03-21T14:14:00.341690Z",
     "iopub.status.idle": "2022-03-21T14:14:00.679793Z",
     "shell.execute_reply": "2022-03-21T14:14:00.680110Z"
    },
    "papermill": {
     "duration": 0.382947,
     "end_time": "2022-03-21T14:14:00.680223",
     "exception": false,
     "start_time": "2022-03-21T14:14:00.297276",
     "status": "completed"
    },
    "tags": []
   },
   "outputs": [
    {
     "data": {
      "text/plain": [
       "<AxesSubplot:title={'center':'Results'}>"
      ]
     },
     "execution_count": 26,
     "metadata": {},
     "output_type": "execute_result"
    },
    {
     "data": {
      "image/png": "[encoded data removed]",
      "text/plain": [
       "<Figure size 1080x504 with 1 Axes>"
      ]
     },
     "metadata": {
      "needs_background": "light"
     },
     "output_type": "display_data"
    }
   ],
   "source": [
    "get_results_table(experiment)"
   ]
  },
  {
   "cell_type": "code",
   "execution_count": 27,
   "id": "cf8dc689",
   "metadata": {
    "execution": {
     "iopub.execute_input": "2022-03-21T14:14:00.768449Z",
     "iopub.status.busy": "2022-03-21T14:14:00.768068Z",
     "iopub.status.idle": "2022-03-21T14:14:01.026478Z",
     "shell.execute_reply": "2022-03-21T14:14:01.027187Z"
    },
    "papermill": {
     "duration": 0.305417,
     "end_time": "2022-03-21T14:14:01.027422",
     "exception": false,
     "start_time": "2022-03-21T14:14:00.722005",
     "status": "completed"
    },
    "tags": []
   },
   "outputs": [
    {
     "data": {
      "text/plain": [
       "<AxesSubplot:title={'center':'Per Domain Validation Accuracy'}, xlabel='domain'>"
      ]
     },
     "execution_count": 27,
     "metadata": {},
     "output_type": "execute_result"
    },
    {
     "data": {
      "image/png": "[encoded data removed]",
      "text/plain": [
       "<Figure size 1080x504 with 1 Axes>"
      ]
     },
     "metadata": {
      "needs_background": "light"
     },
     "output_type": "display_data"
    }
   ],
   "source": [
    "get_domain_accuracies(experiment)"
   ]
  },
  {
   "cell_type": "code",
   "execution_count": 28,
   "id": "a74ae082",
   "metadata": {
    "execution": {
     "iopub.execute_input": "2022-03-21T14:14:01.119511Z",
     "iopub.status.busy": "2022-03-21T14:14:01.119127Z",
     "iopub.status.idle": "2022-03-21T14:14:01.145250Z",
     "shell.execute_reply": "2022-03-21T14:14:01.144417Z"
    },
    "papermill": {
     "duration": 0.072308,
     "end_time": "2022-03-21T14:14:01.145418",
     "exception": false,
     "start_time": "2022-03-21T14:14:01.073110",
     "status": "completed"
    },
    "tags": []
   },
   "outputs": [
    {
     "name": "stdout",
     "output_type": "stream",
     "text": [
      "Source Test Label Accuracy: 0.9594620743034056 Target Test Label Accuracy: 0.1822265625\n",
      "Source Val Label Accuracy: 0.9596092925026399 Target Val Label Accuracy: 0.18597005208333334\n"
     ]
    }
   ],
   "source": [
    "print(\"Source Test Label Accuracy:\", experiment[\"results\"][\"source_test_label_accuracy\"], \"Target Test Label Accuracy:\", experiment[\"results\"][\"target_test_label_accuracy\"])\n",
    "print(\"Source Val Label Accuracy:\", experiment[\"results\"][\"source_val_label_accuracy\"], \"Target Val Label Accuracy:\", experiment[\"results\"][\"target_val_label_accuracy\"])"
   ]
  },
  {
   "cell_type": "code",
   "execution_count": 29,
   "id": "dacca602",
   "metadata": {
    "execution": {
     "iopub.execute_input": "2022-03-21T14:14:01.240317Z",
     "iopub.status.busy": "2022-03-21T14:14:01.239942Z",
     "iopub.status.idle": "2022-03-21T14:14:01.271360Z",
     "shell.execute_reply": "2022-03-21T14:14:01.272086Z"
    },
    "papermill": {
     "duration": 0.078687,
     "end_time": "2022-03-21T14:14:01.272292",
     "exception": false,
     "start_time": "2022-03-21T14:14:01.193605",
     "status": "completed"
    },
    "tags": [
     "experiment_json"
    ]
   },
   "outputs": [
    {
     "data": {
      "text/plain": [
       "'{\"experiment_name\": \"tl_1v2:wisig-oracle.run1.framed\", \"parameters\": {\"experiment_name\": \"tl_1v2:wisig-oracle.run1.framed\", \"device\": \"cuda\", \"lr\": 0.0001, \"n_shot\": 3, \"n_query\": 2, \"train_k_factor\": 3, \"val_k_factor\": 2, \"test_k_factor\": 2, \"torch_default_dtype\": \"torch.float32\", \"n_epoch\": 50, \"patience\": 3, \"criteria_for_best\": \"target_accuracy\", \"x_net\": [{\"class\": \"nnReshape\", \"kargs\": {\"shape\": [-1, 1, 2, 256]}}, {\"class\": \"Conv2d\", \"kargs\": {\"in_channels\": 1, \"out_channels\": 256, \"kernel_size\": [1, 7], \"bias\": false, \"padding\": [0, 3]}}, {\"class\": \"ReLU\", \"kargs\": {\"inplace\": true}}, {\"class\": \"BatchNorm2d\", \"kargs\": {\"num_features\": 256}}, {\"class\": \"Conv2d\", \"kargs\": {\"in_channels\": 256, \"out_channels\": 80, \"kernel_size\": [2, 7], \"bias\": true, \"padding\": [0, 3]}}, {\"class\": \"ReLU\", \"kargs\": {\"inplace\": true}}, {\"class\": \"BatchNorm2d\", \"kargs\": {\"num_features\": 80}}, {\"class\": \"Flatten\", \"kargs\": {}}, {\"class\": \"Linear\", \"kargs\": {\"in_features\": 20480, \"out_features\": 256}}, {\"class\": \"ReLU\", \"kargs\": {\"inplace\": true}}, {\"class\": \"BatchNorm1d\", \"kargs\": {\"num_features\": 256}}, {\"class\": \"Linear\", \"kargs\": {\"in_features\": 256, \"out_features\": 256}}], \"NUM_LOGS_PER_EPOCH\": 10, \"BEST_MODEL_PATH\": \"./best_model.pth\", \"n_way\": 16, \"datasets\": [{\"labels\": [\"1-10\", \"1-12\", \"1-14\", \"1-16\", \"1-18\", \"1-19\", \"1-8\", \"10-11\", \"10-17\", \"10-4\", \"10-7\", \"11-1\", \"11-10\", \"11-19\", \"11-20\", \"11-4\", \"11-7\", \"12-19\", \"12-20\", \"12-7\", \"13-14\", \"13-18\", \"13-19\", \"13-20\", \"13-3\", \"13-7\", \"14-10\", \"14-11\", \"14-12\", \"14-13\", \"14-14\", \"14-19\", \"14-20\", \"14-7\", \"14-8\", \"14-9\", \"15-1\", \"15-19\", \"15-6\", \"16-1\", \"16-16\", \"16-19\", \"16-20\", \"17-10\", \"17-11\", \"18-1\", \"18-10\", \"18-11\", \"18-12\", \"18-13\", \"18-14\", \"18-15\", \"18-16\", \"18-17\", \"18-19\", \"18-2\", \"18-20\", \"18-4\", \"18-5\", \"18-7\", \"18-8\", \"18-9\", \"19-1\", \"19-10\", \"19-11\", \"19-12\", \"19-13\", \"19-14\", \"19-15\", \"19-19\", \"19-2\", \"19-20\", \"19-3\", \"19-4\", \"19-6\", \"19-7\", \"19-8\", \"19-9\", \"2-1\", \"2-13\", \"2-15\", \"2-3\", \"2-4\", \"2-5\", \"2-6\", \"2-7\", \"2-8\", \"20-1\", \"20-12\", \"20-14\", \"20-15\", \"20-16\", \"20-18\", \"20-19\", \"20-20\", \"20-3\", \"20-4\", \"20-5\", \"20-7\", \"20-8\", \"3-1\", \"3-13\", \"3-18\", \"3-2\", \"3-8\", \"4-1\", \"4-10\", \"4-11\", \"5-1\", \"5-5\", \"6-1\", \"6-15\", \"6-6\", \"7-10\", \"7-11\", \"7-12\", \"7-13\", \"7-14\", \"7-7\", \"7-8\", \"7-9\", \"8-1\", \"8-13\", \"8-14\", \"8-18\", \"8-20\", \"8-3\", \"8-8\", \"9-1\", \"9-7\"], \"domains\": [1, 2, 3, 4], \"num_examples_per_domain_per_label\": -1, \"pickle_path\": \"/root/csc500-main/datasets/wisig.node3-19.stratified_ds.2022A.pkl\", \"source_or_target_dataset\": \"source\", \"x_transforms\": [\"unit_power\"], \"episode_transforms\": [], \"domain_prefix\": \"Wisig_\"}, {\"labels\": [\"3123D52\", \"3123D65\", \"3123D79\", \"3123D80\", \"3123D54\", \"3123D70\", \"3123D7B\", \"3123D89\", \"3123D58\", \"3123D76\", \"3123D7D\", \"3123EFE\", \"3123D64\", \"3123D78\", \"3123D7E\", \"3124E4A\"], \"domains\": [32, 38, 8, 44, 14, 50, 20, 26], \"num_examples_per_domain_per_label\": 2000, \"pickle_path\": \"/root/csc500-main/datasets/oracle.Run1_framed_2000Examples_stratified_ds.2022A.pkl\", \"source_or_target_dataset\": \"target\", \"x_transforms\": [\"unit_power\"], \"episode_transforms\": [], \"domain_prefix\": \"ORACLE.run1\"}], \"dataset_seed\": 7, \"seed\": 7, \"x_shape\": [2, 256], \"domains_source\": [\"Wisig_1\", \"Wisig_2\", \"Wisig_3\", \"Wisig_4\"], \"domains_target\": [\"ORACLE.run132\", \"ORACLE.run138\", \"ORACLE.run18\", \"ORACLE.run144\", \"ORACLE.run114\", \"ORACLE.run150\", \"ORACLE.run120\", \"ORACLE.run126\"]}, \"results\": {\"source_test_label_accuracy\": 0.9594620743034056, \"source_test_label_loss\": 0.17895987629890442, \"target_test_label_accuracy\": 0.1822265625, \"target_test_label_loss\": 2.525179862976074, \"source_val_label_accuracy\": 0.9596092925026399, \"source_val_label_loss\": 0.1759924441576004, \"target_val_label_accuracy\": 0.18597005208333334, \"target_val_label_loss\": 2.5256829261779785, \"total_epochs_trained\": 5, \"total_experiment_time_secs\": 1356.0095109939575, \"confusion\": {\"Wisig_4\": {\"71\": {\"71\": 103, \"84\": 1}, \"17\": {\"17\": 20}, \"105\": {\"105\": 81, \"12\": 2, \"71\": 3, \"40\": 4, \"87\": 5, \"69\": 2, \"39\": 1, \"117\": 1, \"128\": 1}, \"92\": {\"92\": 27, \"84\": 1}, \"100\": {\"100\": 20}, \"6\": {\"6\": 19, \"35\": 1, \"94\": 1, \"125\": 2, \"10\": 1}, \"36\": {\"36\": 124, \"24\": 2, \"26\": 1, \"1\": 1}, \"35\": {\"35\": 12}, \"63\": {\"63\": 16}, \"104\": {\"104\": 16}, \"114\": {\"114\": 124, \"94\": 1, \"113\": 1, \"3\": 1, \"105\": 1}, \"68\": {\"68\": 16}, \"109\": {\"109\": 114, \"91\": 1, \"26\": 1}, \"27\": {\"27\": 94, \"81\": 1, \"78\": 1, \"73\": 1, \"7\": 1, \"88\": 1, \"110\": 1}, \"79\": {\"79\": 16}, \"0\": {\"0\": 98, \"69\": 1, \"70\": 1, \"118\": 1, \"21\": 1, \"87\": 1, \"107\": 1, \"39\": 1, \"12\": 1}, \"28\": {\"28\": 19, \"10\": 1}, \"4\": {\"4\": 101, \"21\": 1, \"27\": 1, \"85\": 1}, \"106\": {\"106\": 98, \"21\": 1, \"39\": 2, \"69\": 1}, \"40\": {\"40\": 131, \"16\": 1, \"69\": 1, \"18\": 1}, \"127\": {\"127\": 105, \"67\": 1, \"12\": 1, \"4\": 1}, \"57\": {\"57\": 14, \"51\": 1, \"119\": 1}, \"60\": {\"60\": 29, \"21\": 1, \"71\": 1, \"43\": 1}, \"69\": {\"69\": 120, \"84\": 1, \"71\": 1, \"1\": 1, \"3\": 1}, \"84\": {\"84\": 128, \"21\": 1, \"78\": 1, \"118\": 1, \"3\": 1}, \"24\": {\"24\": 105, \"10\": 1, \"21\": 1, \"97\": 1, \"40\": 1, \"113\": 1, \"36\": 7, \"84\": 1, \"4\": 1, \"127\": 1}, \"94\": {\"69\": 1, \"94\": 83, \"36\": 1, \"71\": 1, \"15\": 1, \"26\": 1}, \"7\": {\"7\": 114, \"68\": 1, \"87\": 1, \"69\": 2, \"66\": 1, \"27\": 1}, \"96\": {\"96\": 16, \"29\": 1, \"85\": 1, \"91\": 1, \"21\": 1}, \"116\": {\"116\": 28}, \"47\": {\"47\": 7, \"94\": 1, \"127\": 2, \"65\": 1, \"70\": 1}, \"119\": {\"119\": 15, \"25\": 1}, \"74\": {\"74\": 15, \"113\": 1}, \"93\": {\"93\": 151, \"0\": 1}, \"2\": {\"93\": 3, \"2\": 21, \"26\": 3, \"92\": 1}, \"37\": {\"37\": 15, \"51\": 1}, \"15\": {\"15\": 125, \"26\": 1, \"106\": 1, \"69\": 1}, \"102\": {\"102\": 136}, \"87\": {\"87\": 114, \"113\": 1, \"105\": 4, \"126\": 1, \"26\": 1, \"43\": 1}, \"107\": {\"107\": 142, \"41\": 1, \"114\": 1}, \"61\": {\"61\": 14, \"91\": 1, \"21\": 1}, \"78\": {\"74\": 2, \"78\": 28, \"84\": 1, \"50\": 2, \"27\": 1, \"87\": 1, \"21\": 1}, \"9\": {\"9\": 28}, \"32\": {\"32\": 23, \"55\": 2, \"118\": 3}, \"14\": {\"14\": 111, \"31\": 1}, \"62\": {\"62\": 55, \"81\": 1, \"88\": 1, \"27\": 1, \"106\": 2}, \"1\": {\"24\": 1, \"1\": 96, \"126\": 1, \"33\": 2, \"111\": 2}, \"23\": {\"23\": 9, \"91\": 2, \"80\": 1, \"13\": 1, \"21\": 1, \"78\": 1, \"12\": 1}, \"95\": {\"95\": 31, \"76\": 1}, \"56\": {\"56\": 12}, \"91\": {\"91\": 22, \"85\": 2}, \"34\": {\"34\": 20, \"91\": 4, \"78\": 2, \"107\": 1, \"103\": 1, \"29\": 2, \"8\": 2}, \"25\": {\"25\": 16}, \"33\": {\"33\": 123, \"122\": 1}, \"16\": {\"16\": 119, \"69\": 1, \"39\": 1, \"118\": 1, \"87\": 1, \"90\": 1}, \"26\": {\"26\": 124, \"21\": 1, \"18\": 1}, \"5\": {\"5\": 128, \"26\": 1, \"3\": 1, \"39\": 1, \"81\": 1, \"69\": 1, \"29\": 1, \"16\": 1, \"93\": 1}, \"123\": {\"123\": 15, \"6\": 1}, \"8\": {\"8\": 117, \"27\": 1}, \"83\": {\"83\": 24, \"79\": 1, \"71\": 1, \"12\": 1, \"78\": 1}, \"125\": {\"125\": 134}, \"51\": {\"23\": 2, \"51\": 7, \"61\": 1, \"53\": 1, \"98\": 2, \"92\": 1, \"54\": 1, \"78\": 1}, \"22\": {\"22\": 16}, \"54\": {\"54\": 16}, \"66\": {\"66\": 16}, \"59\": {\"59\": 10, \"6\": 1, \"21\": 1}, \"111\": {\"111\": 126, \"5\": 1, \"110\": 1}, \"77\": {\"77\": 12}, \"103\": {\"103\": 16}, \"20\": {\"20\": 15, \"32\": 1}, \"124\": {\"124\": 117, \"98\": 1, \"26\": 1, \"70\": 1}, \"99\": {\"99\": 39, \"69\": 1}, \"120\": {\"91\": 1, \"120\": 18, \"21\": 1}, \"76\": {\"76\": 15, \"81\": 1}, \"110\": {\"110\": 111, \"26\": 1, \"12\": 1, \"71\": 2, \"36\": 1}, \"29\": {\"29\": 31, \"106\": 1}, \"118\": {\"118\": 105, \"12\": 1, \"71\": 1, \"106\": 1, \"78\": 2, \"21\": 1, \"11\": 1}, \"58\": {\"58\": 14, \"40\": 1, \"88\": 1}, \"13\": {\"13\": 15, \"85\": 1}, \"89\": {\"89\": 32}, \"31\": {\"31\": 15, \"71\": 1}, \"64\": {\"64\": 15, \"85\": 1}, \"65\": {\"65\": 12}, \"101\": {\"101\": 129, \"80\": 1, \"0\": 1, \"26\": 1}, \"126\": {\"126\": 117, \"111\": 1}, \"108\": {\"108\": 81, \"23\": 1, \"8\": 1, \"69\": 2, \"71\": 1, \"109\": 2, \"30\": 1, \"18\": 1, \"107\": 1, \"88\": 1}, \"45\": {\"45\": 16}, \"21\": {\"21\": 35, \"39\": 1, \"69\": 1, \"78\": 2, \"81\": 1}, \"30\": {\"30\": 73, \"39\": 1, \"15\": 1, \"127\": 1}, \"82\": {\"82\": 30, \"70\": 1, \"98\": 1}, \"85\": {\"85\": 28}, \"88\": {\"88\": 120, \"70\": 4, \"39\": 1, \"113\": 1, \"122\": 1, \"118\": 1, \"15\": 1, \"26\": 1, \"105\": 1, \"27\": 1}, \"41\": {\"41\": 15, \"88\": 1}, \"128\": {\"8\": 3, \"32\": 1, \"128\": 17, \"72\": 2, \"23\": 1}, \"39\": {\"39\": 96, \"114\": 1, \"81\": 1, \"2\": 1, \"71\": 1}, \"18\": {\"18\": 113, \"69\": 1, \"21\": 1, \"5\": 1, \"39\": 2, \"0\": 1, \"3\": 1}, \"113\": {\"113\": 122, \"114\": 1, \"39\": 1, \"0\": 1, \"41\": 1, \"68\": 1, \"3\": 1}, \"11\": {\"11\": 134, \"70\": 1, \"39\": 1, \"1\": 1, \"84\": 1}, \"43\": {\"43\": 115, \"87\": 2, \"26\": 1, \"39\": 1, \"105\": 1}, \"12\": {\"12\": 97, \"1\": 1, \"110\": 1, \"39\": 1}, \"122\": {\"122\": 80, \"94\": 1, \"69\": 1, \"109\": 1, \"7\": 1}, \"52\": {\"52\": 20}, \"44\": {\"44\": 64}, \"90\": {\"90\": 133, \"98\": 1}, \"112\": {\"112\": 16}, \"86\": {\"86\": 28}, \"3\": {\"3\": 114, \"84\": 1, \"69\": 1}, \"38\": {\"38\": 16}, \"121\": {\"121\": 28, \"44\": 2, \"85\": 1, \"39\": 1}, \"46\": {\"46\": 19, \"59\": 1}, \"70\": {\"70\": 122, \"117\": 1, \"126\": 1}, \"67\": {\"67\": 11, \"34\": 1, \"123\": 2, \"113\": 2}, \"53\": {\"53\": 16}, \"49\": {\"49\": 27, \"53\": 1, \"8\": 1, \"42\": 2, \"19\": 1}, \"42\": {\"42\": 23, \"49\": 1, \"9\": 1, \"8\": 2, \"83\": 1}, \"10\": {\"10\": 110, \"27\": 1, \"114\": 1, \"128\": 1, \"36\": 2, \"2\": 1, \"127\": 1, \"15\": 1}, \"50\": {\"50\": 16}, \"73\": {\"73\": 23, \"125\": 1}, \"115\": {\"115\": 10, \"89\": 1, \"50\": 1, \"99\": 1, \"64\": 1, \"109\": 1, \"72\": 1}, \"80\": {\"80\": 15, \"106\": 1}, \"19\": {\"19\": 26, \"26\": 1, \"126\": 1}, \"55\": {\"55\": 16}, \"72\": {\"72\": 31, \"98\": 1}, \"117\": {\"117\": 116}, \"81\": {\"81\": 33, \"72\": 1, \"69\": 1, \"78\": 1}, \"75\": {\"75\": 16}, \"98\": {\"98\": 117, \"24\": 1, \"25\": 1, \"31\": 1}, \"48\": {\"48\": 16}, \"129\": {\"14\": 1, \"129\": 20, \"108\": 2, \"19\": 3, \"8\": 1, \"10\": 1}, \"97\": {\"97\": 19, \"16\": 1}}, \"Wisig_1\": {\"105\": {\"105\": 82, \"40\": 2}, \"100\": {\"100\": 16}, \"112\": {\"112\": 16}, \"123\": {\"123\": 16}, \"13\": {\"13\": 16}, \"81\": {\"81\": 28}, \"124\": {\"124\": 119, \"125\": 1}, \"122\": {\"122\": 88}, \"111\": {\"111\": 118, \"26\": 1, \"70\": 1}, \"93\": {\"93\": 155, \"87\": 1, \"40\": 1, \"43\": 1}, \"106\": {\"106\": 114, \"17\": 2, \"12\": 1, \"88\": 1}, \"113\": {\"113\": 123, \"122\": 1}, \"95\": {\"95\": 36}, \"87\": {\"87\": 103, \"94\": 1, \"105\": 2, \"93\": 1, \"18\": 1}, \"86\": {\"86\": 35, \"52\": 1}, \"67\": {\"67\": 16}, \"85\": {\"85\": 32}, \"82\": {\"82\": 36}, \"115\": {\"115\": 12}, \"7\": {\"7\": 142}, \"44\": {\"44\": 76}, \"65\": {\"82\": 1, \"76\": 1, \"65\": 4, \"49\": 1, \"34\": 2, \"74\": 1, \"63\": 2}, \"129\": {\"129\": 24, \"19\": 1, \"27\": 1, \"111\": 1, \"39\": 1}, \"42\": {\"42\": 22, \"29\": 1, \"75\": 1, \"60\": 2, \"124\": 1, \"86\": 1}, \"28\": {\"65\": 1, \"28\": 18, \"52\": 1}, \"0\": {\"0\": 82, \"75\": 1, \"24\": 1}, \"10\": {\"10\": 115, \"0\": 3, \"57\": 1, \"85\": 1}, \"76\": {\"76\": 15, \"36\": 1}, \"88\": {\"88\": 125, \"36\": 1}, \"29\": {\"29\": 28}, \"16\": {\"16\": 105, \"127\": 1, \"23\": 1, \"12\": 1}, \"41\": {\"41\": 16}, \"27\": {\"27\": 91, \"94\": 1}, \"33\": {\"33\": 118, \"91\": 1, \"21\": 1}, \"75\": {\"75\": 16}, \"48\": {\"48\": 12}, \"56\": {\"56\": 11, \"71\": 1}, \"9\": {\"9\": 31, \"26\": 1}, \"1\": {\"1\": 125, \"5\": 1}, \"39\": {\"39\": 103, \"18\": 1}, \"50\": {\"75\": 1, \"50\": 12, \"91\": 1, \"65\": 2}, \"99\": {\"99\": 23, \"106\": 1}, \"90\": {\"90\": 122}, \"45\": {\"104\": 1, \"45\": 7, \"112\": 1, \"96\": 2, \"21\": 1}, \"5\": {\"5\": 88}, \"128\": {\"128\": 19, \"70\": 1, \"82\": 1, \"73\": 1, \"34\": 1, \"115\": 1}, \"2\": {\"45\": 1, \"2\": 24, \"70\": 1, \"82\": 1, \"60\": 1, \"34\": 1, \"114\": 2, \"54\": 1}, \"53\": {\"53\": 20}, \"104\": {\"104\": 16}, \"32\": {\"32\": 32}, \"92\": {\"92\": 28}, \"78\": {\"78\": 14, \"80\": 1, \"21\": 1}, \"19\": {\"19\": 28}, \"120\": {\"120\": 19, \"93\": 1}, \"43\": {\"43\": 123, \"12\": 2, \"106\": 1, \"70\": 1, \"84\": 1}, \"74\": {\"74\": 16}, \"11\": {\"11\": 129, \"106\": 1}, \"26\": {\"26\": 130, \"69\": 2}, \"125\": {\"125\": 132}, \"64\": {\"64\": 16}, \"127\": {\"127\": 105, \"26\": 1, \"69\": 1, \"94\": 1}, \"83\": {\"83\": 27, \"12\": 1}, \"118\": {\"118\": 83, \"93\": 1}, \"103\": {\"103\": 15, \"106\": 1}, \"55\": {\"55\": 12}, \"110\": {\"110\": 126}, \"30\": {\"30\": 51, \"108\": 1}, \"51\": {\"51\": 16}, \"6\": {\"6\": 27, \"52\": 1, \"91\": 2, \"34\": 2}, \"96\": {\"96\": 17, \"12\": 1, \"126\": 2}, \"114\": {\"114\": 142, \"71\": 1, \"39\": 1}, \"69\": {\"69\": 107, \"12\": 1}, \"60\": {\"60\": 6, \"100\": 1, \"34\": 1, \"2\": 1, \"72\": 2, \"42\": 1, \"81\": 1, \"123\": 1, \"21\": 1, \"119\": 1}, \"94\": {\"94\": 92}, \"79\": {\"79\": 12}, \"126\": {\"126\": 131, \"12\": 1, \"109\": 1, \"73\": 1}, \"68\": {\"68\": 16}, \"72\": {\"72\": 32}, \"63\": {\"63\": 16}, \"22\": {\"22\": 15, \"6\": 1}, \"121\": {\"121\": 31, \"70\": 1}, \"71\": {\"71\": 102, \"34\": 1, \"106\": 1, \"43\": 1, \"52\": 1, \"1\": 1, \"26\": 1}, \"54\": {\"54\": 16}, \"102\": {\"102\": 119, \"17\": 1}, \"73\": {\"73\": 17, \"75\": 1, \"98\": 1, \"104\": 1}, \"38\": {\"38\": 16}, \"4\": {\"4\": 95, \"105\": 2, \"113\": 1, \"107\": 1, \"69\": 1}, \"52\": {\"52\": 20}, \"70\": {\"70\": 123, \"12\": 2, \"83\": 1, \"27\": 1, \"113\": 1}, \"91\": {\"91\": 26, \"58\": 2}, \"77\": {\"77\": 15, \"61\": 1}, \"20\": {\"20\": 16}, \"59\": {\"59\": 12}, \"40\": {\"40\": 133, \"105\": 1, \"118\": 1, \"70\": 1}, \"98\": {\"98\": 108}, \"46\": {\"11\": 1, \"46\": 5, \"94\": 1, \"71\": 1, \"59\": 2, \"53\": 1, \"54\": 1}, \"34\": {\"34\": 21, \"86\": 1, \"77\": 2, \"95\": 1, \"61\": 1, \"125\": 1, \"29\": 3, \"21\": 1, \"53\": 1}, \"24\": {\"24\": 85, \"113\": 1, \"126\": 1, \"36\": 1, \"97\": 2, \"3\": 1, \"39\": 1}, \"62\": {\"62\": 118, \"125\": 1, \"12\": 1}, \"14\": {\"14\": 96}, \"12\": {\"12\": 100, \"70\": 2, \"113\": 1, \"39\": 1}, \"84\": {\"84\": 131, \"107\": 1, \"122\": 1, \"39\": 1}, \"37\": {\"37\": 16}, \"97\": {\"27\": 1, \"97\": 19}, \"57\": {\"57\": 11, \"89\": 1}, \"49\": {\"49\": 15, \"101\": 1, \"70\": 3, \"12\": 1}, \"17\": {\"17\": 14, \"2\": 1, \"71\": 1}, \"109\": {\"109\": 106}, \"80\": {\"80\": 16}, \"66\": {\"66\": 16}, \"101\": {\"101\": 123, \"70\": 1}, \"89\": {\"89\": 34, \"21\": 1, \"54\": 1}, \"31\": {\"31\": 16}, \"21\": {\"23\": 1, \"21\": 33, \"128\": 2, \"106\": 2, \"73\": 1, \"69\": 1}, \"23\": {\"23\": 14, \"18\": 1, \"44\": 1, \"55\": 4, \"98\": 1, \"61\": 1, \"66\": 2}, \"25\": {\"25\": 15, \"30\": 1}, \"107\": {\"107\": 108, \"105\": 1, \"87\": 1, \"113\": 1, \"94\": 1}, \"3\": {\"3\": 84, \"6\": 1, \"122\": 1, \"12\": 1, \"93\": 1}, \"61\": {\"61\": 11, \"65\": 1}, \"117\": {\"117\": 125, \"102\": 1}, \"119\": {\"119\": 15, \"65\": 1}, \"58\": {\"58\": 12}, \"47\": {\"47\": 12}, \"116\": {\"116\": 32}, \"18\": {\"18\": 122, \"113\": 2}, \"36\": {\"36\": 116, \"118\": 1, \"12\": 1, \"88\": 3, \"71\": 1}, \"108\": {\"108\": 112}, \"15\": {\"15\": 102, \"12\": 1, \"87\": 1}, \"8\": {\"8\": 114}, \"35\": {\"35\": 12}}, \"Wisig_2\": {\"3\": {\"3\": 128, \"26\": 1, \"61\": 1, \"39\": 1, \"70\": 1}, \"127\": {\"127\": 119, \"21\": 1}, \"58\": {\"58\": 20}, \"114\": {\"114\": 110, \"46\": 1, \"12\": 1}, \"111\": {\"111\": 141, \"127\": 1, \"15\": 1, \"93\": 1}, \"105\": {\"105\": 130, \"95\": 1, \"122\": 1}, \"118\": {\"114\": 1, \"118\": 65, \"13\": 1, \"36\": 1}, \"23\": {\"21\": 2, \"23\": 32, \"12\": 1, \"113\": 2, \"70\": 1, \"48\": 2, \"122\": 1, \"99\": 1, \"87\": 1, \"61\": 1}, \"21\": {\"21\": 40, \"114\": 1, \"118\": 1, \"5\": 1, \"122\": 1, \"85\": 1, \"24\": 1, \"70\": 1, \"71\": 1}, \"20\": {\"20\": 15, \"21\": 1}, \"75\": {\"75\": 15, \"41\": 1}, \"86\": {\"86\": 32}, \"60\": {\"60\": 24, \"123\": 1, \"57\": 1, \"88\": 1, \"114\": 1}, \"69\": {\"69\": 131, \"4\": 1, \"26\": 1, \"12\": 1, \"117\": 1, \"94\": 1, \"39\": 1, \"122\": 2, \"62\": 1}, \"99\": {\"99\": 31, \"65\": 1}, \"14\": {\"14\": 40, \"81\": 1, \"116\": 1, \"127\": 1, \"110\": 1, \"107\": 1, \"71\": 2, \"73\": 1}, \"25\": {\"25\": 15, \"85\": 1}, \"52\": {\"52\": 18, \"12\": 1, \"128\": 1}, \"47\": {\"47\": 9, \"49\": 1, \"118\": 1, \"14\": 1}, \"48\": {\"48\": 19, \"125\": 1}, \"27\": {\"27\": 57, \"30\": 1, \"87\": 1, \"24\": 2, \"84\": 1, \"39\": 1, \"36\": 1, \"0\": 1, \"85\": 1, \"113\": 1, \"62\": 1}, \"78\": {\"78\": 41, \"43\": 2, \"10\": 1, \"40\": 1, \"70\": 2, \"19\": 1}, \"8\": {\"8\": 119, \"23\": 1, \"69\": 1, \"30\": 1}, \"90\": {\"90\": 156, \"51\": 1, \"34\": 1, \"39\": 1, \"60\": 1}, \"103\": {\"103\": 16}, \"120\": {\"120\": 20}, \"96\": {\"96\": 20}, \"30\": {\"30\": 101, \"59\": 1, \"80\": 1, \"27\": 1}, \"33\": {\"33\": 146}, \"35\": {\"35\": 12}, \"108\": {\"108\": 116}, \"112\": {\"112\": 10, \"44\": 2, \"108\": 2, \"126\": 2}, \"40\": {\"40\": 130, \"21\": 1, \"100\": 1, \"62\": 1, \"94\": 1, \"127\": 1, \"105\": 1, \"70\": 1, \"12\": 2, \"18\": 1}, \"102\": {\"102\": 113, \"30\": 1, \"122\": 1, \"12\": 1}, \"56\": {\"56\": 12}, \"93\": {\"93\": 133, \"39\": 2, \"16\": 1}, \"68\": {\"68\": 15, \"31\": 1}, \"70\": {\"70\": 120, \"16\": 1, \"78\": 1, \"19\": 1, \"106\": 1}, \"7\": {\"7\": 123, \"92\": 1}, \"87\": {\"80\": 1, \"87\": 102, \"2\": 2, \"43\": 1, \"113\": 1, \"39\": 1, \"33\": 1, \"40\": 1, \"114\": 1, \"16\": 1}, \"54\": {\"80\": 1, \"54\": 19}, \"71\": {\"71\": 96, \"36\": 1, \"39\": 2, \"21\": 1}, \"80\": {\"80\": 16}, \"18\": {\"18\": 120, \"39\": 1, \"26\": 1}, \"101\": {\"101\": 119, \"78\": 1, \"0\": 2}, \"92\": {\"92\": 27, \"71\": 1}, \"32\": {\"32\": 32, \"79\": 1, \"107\": 2, \"127\": 1}, \"128\": {\"101\": 2, \"128\": 11, \"29\": 2, \"59\": 5, \"5\": 1, \"12\": 1, \"19\": 2}, \"6\": {\"6\": 28, \"77\": 1, \"103\": 1, \"101\": 1, \"52\": 1}, \"51\": {\"6\": 2, \"51\": 14, \"41\": 1, \"125\": 1, \"91\": 1, \"70\": 1}, \"85\": {\"85\": 31, \"65\": 1}, \"46\": {\"46\": 16}, \"22\": {\"22\": 20}, \"1\": {\"1\": 117, \"78\": 1, \"71\": 1, \"30\": 1, \"102\": 1, \"69\": 1}, \"37\": {\"37\": 16}, \"44\": {\"44\": 97, \"73\": 1, \"87\": 1, \"118\": 1}, \"24\": {\"24\": 100, \"78\": 1, \"27\": 2, \"62\": 1, \"94\": 1, \"39\": 1, \"70\": 1, \"21\": 1, \"30\": 1, \"110\": 1, \"36\": 1, \"122\": 1}, \"9\": {\"9\": 32}, \"116\": {\"60\": 2, \"116\": 21, \"87\": 2, \"82\": 2, \"70\": 1}, \"64\": {\"64\": 16}, \"129\": {\"129\": 32}, \"42\": {\"112\": 1, \"44\": 1, \"42\": 23, \"69\": 1, \"114\": 1, \"107\": 1}, \"117\": {\"117\": 119, \"93\": 1}, \"88\": {\"88\": 118, \"21\": 1, \"111\": 2, \"71\": 1, \"12\": 1, \"15\": 1}, \"31\": {\"31\": 20}, \"113\": {\"113\": 71, \"39\": 1}, \"38\": {\"38\": 16}, \"83\": {\"83\": 37, \"61\": 1, \"21\": 1, \"125\": 1}, \"49\": {\"49\": 17, \"29\": 1, \"11\": 1, \"44\": 1, \"53\": 1, \"71\": 1, \"47\": 1, \"128\": 1}, \"97\": {\"97\": 19, \"91\": 1}, \"76\": {\"76\": 16}, \"29\": {\"29\": 32}, \"61\": {\"61\": 19, \"12\": 1}, \"125\": {\"125\": 147, \"121\": 1}, \"126\": {\"126\": 118, \"78\": 1, \"23\": 1}, \"55\": {\"55\": 16}, \"0\": {\"0\": 103, \"27\": 1, \"92\": 1, \"101\": 1, \"21\": 1, \"18\": 1}, \"15\": {\"15\": 116, \"3\": 1, \"40\": 1, \"71\": 1, \"106\": 1}, \"26\": {\"26\": 133, \"71\": 1, \"40\": 1, \"127\": 1, \"0\": 1, \"12\": 1}, \"63\": {\"63\": 20}, \"57\": {\"57\": 20}, \"39\": {\"39\": 110, \"94\": 1, \"84\": 1}, \"62\": {\"62\": 135, \"39\": 2, \"22\": 1, \"12\": 1, \"102\": 1}, \"82\": {\"82\": 34, \"87\": 1, \"54\": 1}, \"11\": {\"11\": 78, \"12\": 1, \"122\": 1}, \"4\": {\"4\": 87, \"53\": 1}, \"41\": {\"41\": 20}, \"72\": {\"72\": 26, \"14\": 1, \"13\": 1}, \"16\": {\"16\": 118, \"3\": 1, \"93\": 3, \"39\": 1, \"110\": 1}, \"81\": {\"81\": 22, \"116\": 1, \"92\": 1}, \"67\": {\"67\": 16}, \"123\": {\"123\": 16}, \"66\": {\"66\": 20}, \"36\": {\"36\": 116, \"1\": 1, \"24\": 1, \"127\": 1, \"43\": 1, \"4\": 1, \"122\": 1, \"17\": 1, \"18\": 1, \"49\": 1, \"27\": 2, \"69\": 1}, \"115\": {\"115\": 11, \"21\": 1}, \"77\": {\"77\": 16}, \"119\": {\"119\": 20}, \"65\": {\"65\": 19, \"49\": 1}, \"34\": {\"13\": 2, \"34\": 24, \"6\": 1, \"8\": 1, \"98\": 1, \"52\": 1, \"86\": 1, \"107\": 1}, \"107\": {\"107\": 60, \"71\": 2, \"113\": 1, \"61\": 1}, \"13\": {\"13\": 16}, \"110\": {\"25\": 1, \"110\": 36, \"0\": 1, \"12\": 1, \"15\": 1}, \"106\": {\"106\": 115, \"108\": 1, \"114\": 1, \"39\": 1}, \"89\": {\"89\": 36}, \"94\": {\"27\": 1, \"94\": 54, \"122\": 1, \"14\": 1, \"21\": 1, \"106\": 1, \"69\": 1, \"31\": 1, \"71\": 1, \"49\": 1, \"88\": 1}, \"98\": {\"98\": 108, \"41\": 1, \"121\": 1, \"43\": 1, \"21\": 1}, \"91\": {\"91\": 24, \"98\": 1, \"41\": 1, \"86\": 1, \"101\": 1}, \"84\": {\"84\": 89, \"33\": 1, \"43\": 1, \"88\": 1}, \"73\": {\"59\": 1, \"73\": 27}, \"104\": {\"104\": 17, \"52\": 1, \"118\": 1, \"122\": 1}, \"59\": {\"59\": 15, \"52\": 1}, \"74\": {\"74\": 16}, \"28\": {\"28\": 19, \"59\": 1}, \"95\": {\"95\": 35, \"105\": 1}, \"2\": {\"2\": 26, \"72\": 2, \"100\": 2, \"115\": 1, \"117\": 1}, \"5\": {\"5\": 109, \"107\": 1, \"127\": 1, \"26\": 1}, \"50\": {\"50\": 15, \"69\": 1}, \"109\": {\"109\": 96, \"6\": 1, \"18\": 1, \"69\": 1, \"12\": 1}, \"10\": {\"10\": 56, \"113\": 1, \"26\": 1, \"62\": 2}, \"45\": {\"45\": 14, \"87\": 1, \"21\": 1}, \"121\": {\"65\": 1, \"121\": 29, \"18\": 1, \"125\": 1, \"23\": 1, \"26\": 1, \"89\": 2}, \"124\": {\"124\": 110}, \"53\": {\"110\": 1, \"53\": 13, \"128\": 1, \"25\": 1}, \"79\": {\"79\": 16}, \"43\": {\"43\": 107, \"78\": 2, \"26\": 1, \"122\": 1, \"101\": 1, \"70\": 1, \"16\": 1}, \"122\": {\"122\": 132, \"118\": 1, \"21\": 1, \"88\": 1, \"39\": 1, \"70\": 1, \"111\": 1}, \"100\": {\"100\": 15, \"83\": 1}, \"19\": {\"19\": 28}, \"12\": {\"12\": 86, \"128\": 1, \"69\": 1}, \"17\": {\"17\": 15, \"24\": 1}}, \"Wisig_3\": {\"38\": {\"38\": 16}, \"88\": {\"88\": 102, \"96\": 1, \"70\": 2, \"11\": 1, \"36\": 2, \"25\": 1, \"108\": 2, \"5\": 1}, \"104\": {\"104\": 16}, \"11\": {\"11\": 139, \"107\": 1}, \"103\": {\"103\": 15, \"12\": 1}, \"124\": {\"124\": 115, \"90\": 1}, \"3\": {\"3\": 112, \"43\": 1, \"101\": 1, \"27\": 1, \"114\": 1}, \"74\": {\"74\": 13, \"25\": 1, \"57\": 2}, \"126\": {\"126\": 120, \"127\": 1, \"39\": 1}, \"123\": {\"123\": 16}, \"51\": {\"51\": 15, \"111\": 1}, \"14\": {\"14\": 80}, \"16\": {\"16\": 112, \"93\": 1, \"110\": 1, \"26\": 1, \"71\": 1}, \"22\": {\"22\": 16}, \"109\": {\"109\": 121, \"62\": 1}, \"27\": {\"27\": 91, \"36\": 2, \"24\": 2, \"113\": 1}, \"75\": {\"75\": 16}, \"66\": {\"66\": 16}, \"48\": {\"53\": 3, \"48\": 7, \"86\": 2, \"99\": 2, \"20\": 1, \"74\": 1}, \"6\": {\"6\": 24, \"101\": 1, \"125\": 1, \"34\": 3, \"75\": 1, \"58\": 1, \"91\": 1}, \"10\": {\"10\": 109, \"16\": 1, \"86\": 1, \"12\": 1}, \"99\": {\"99\": 35, \"97\": 1}, \"50\": {\"50\": 16}, \"54\": {\"54\": 16}, \"55\": {\"55\": 16}, \"53\": {\"53\": 18, \"20\": 2}, \"72\": {\"72\": 28}, \"64\": {\"64\": 20}, \"115\": {\"23\": 1, \"115\": 15}, \"23\": {\"48\": 1, \"64\": 1, \"23\": 19, \"121\": 1, \"63\": 1, \"2\": 2, \"70\": 2, \"19\": 1, \"77\": 2, \"113\": 1, \"122\": 1}, \"32\": {\"57\": 3, \"32\": 24, \"107\": 2, \"14\": 1, \"128\": 1, \"66\": 1}, \"15\": {\"15\": 101, \"12\": 1, \"127\": 1, \"39\": 1}, \"43\": {\"23\": 1, \"43\": 49, \"21\": 4, \"84\": 1, \"33\": 1}, \"114\": {\"114\": 121, \"26\": 1, \"12\": 1, \"30\": 1}, \"121\": {\"81\": 1, \"121\": 30, \"80\": 1}, \"79\": {\"79\": 12}, \"81\": {\"81\": 32}, \"8\": {\"8\": 127, \"108\": 1}, \"13\": {\"121\": 1, \"13\": 7, \"115\": 2, \"2\": 1, \"116\": 1, \"64\": 1, \"61\": 1, \"11\": 1, \"39\": 1}, \"90\": {\"90\": 156}, \"41\": {\"8\": 1, \"41\": 15}, \"107\": {\"107\": 136}, \"57\": {\"57\": 20}, \"33\": {\"33\": 119, \"116\": 1}, \"35\": {\"35\": 12}, \"29\": {\"29\": 32}, \"70\": {\"70\": 67, \"84\": 1, \"39\": 1, \"69\": 1, \"12\": 1, \"8\": 1}, \"42\": {\"69\": 1, \"42\": 25, \"118\": 1, \"49\": 1}, \"93\": {\"93\": 126}, \"86\": {\"86\": 28}, \"28\": {\"28\": 16}, \"1\": {\"1\": 105, \"106\": 1, \"101\": 1, \"39\": 1}, \"125\": {\"125\": 122, \"44\": 1, \"117\": 1}, \"69\": {\"69\": 81, \"21\": 1, \"84\": 1, \"39\": 1}, \"97\": {\"97\": 20}, \"117\": {\"117\": 112}, \"68\": {\"68\": 16}, \"30\": {\"30\": 81, \"12\": 1, \"3\": 1, \"71\": 1}, \"111\": {\"111\": 132}, \"47\": {\"47\": 12}, \"102\": {\"102\": 124}, \"65\": {\"65\": 12}, \"113\": {\"113\": 118, \"106\": 1, \"69\": 1}, \"36\": {\"36\": 110, \"24\": 1, \"27\": 2, \"71\": 1}, \"119\": {\"119\": 16}, \"46\": {\"46\": 16}, \"49\": {\"49\": 21, \"70\": 1, \"81\": 1, \"98\": 1}, \"0\": {\"0\": 115, \"113\": 1}, \"58\": {\"58\": 15, \"52\": 1}, \"63\": {\"63\": 16}, \"94\": {\"94\": 84}, \"17\": {\"22\": 1, \"17\": 9, \"39\": 1, \"113\": 1, \"86\": 2, \"116\": 2}, \"9\": {\"9\": 31, \"71\": 1}, \"87\": {\"87\": 120}, \"59\": {\"59\": 11, \"30\": 1}, \"105\": {\"105\": 120}, \"80\": {\"80\": 15, \"71\": 1}, \"120\": {\"120\": 19, \"81\": 1}, \"18\": {\"18\": 129, \"34\": 1, \"127\": 1, \"90\": 1}, \"78\": {\"78\": 14, \"4\": 1, \"21\": 1}, \"25\": {\"25\": 16}, \"19\": {\"19\": 32}, \"122\": {\"122\": 55, \"17\": 1, \"92\": 1, \"2\": 1, \"71\": 1, \"39\": 1}, \"39\": {\"39\": 108}, \"76\": {\"76\": 16}, \"89\": {\"89\": 28}, \"129\": {\"129\": 28, \"110\": 3, \"16\": 1}, \"26\": {\"26\": 97, \"81\": 1, \"70\": 1, \"39\": 1}, \"85\": {\"85\": 35, \"108\": 1}, \"71\": {\"71\": 67, \"5\": 1}, \"77\": {\"77\": 16}, \"128\": {\"128\": 27, \"32\": 1, \"19\": 2, \"72\": 1, \"30\": 1}, \"2\": {\"26\": 3, \"2\": 25}, \"56\": {\"56\": 10, \"4\": 2}, \"24\": {\"24\": 45, \"36\": 3}, \"101\": {\"26\": 1, \"101\": 49, \"0\": 1, \"9\": 1}, \"52\": {\"52\": 16}, \"84\": {\"84\": 107, \"39\": 1}, \"7\": {\"7\": 109, \"39\": 1, \"5\": 1, \"114\": 1}, \"82\": {\"82\": 28}, \"60\": {\"60\": 20, \"122\": 1, \"19\": 1, \"29\": 3, \"82\": 2, \"110\": 1}, \"45\": {\"114\": 1, \"45\": 13, \"18\": 1, \"118\": 1}, \"40\": {\"40\": 124}, \"20\": {\"20\": 16}, \"4\": {\"4\": 96}, \"116\": {\"116\": 27, \"90\": 1}, \"61\": {\"61\": 16}, \"5\": {\"5\": 110, \"70\": 1, \"39\": 1}, \"106\": {\"106\": 100}, \"12\": {\"12\": 104}, \"62\": {\"62\": 118, \"69\": 1, \"39\": 1}, \"34\": {\"28\": 2, \"34\": 21, \"115\": 1, \"116\": 1, \"124\": 1, \"45\": 2, \"128\": 1, \"99\": 1, \"30\": 2}, \"91\": {\"91\": 24}, \"112\": {\"112\": 14, \"101\": 1, \"83\": 1}, \"92\": {\"92\": 32}, \"95\": {\"95\": 32}, \"96\": {\"96\": 20}, \"127\": {\"127\": 105, \"34\": 1, \"39\": 1, \"125\": 1}, \"67\": {\"67\": 15, \"114\": 1}, \"83\": {\"83\": 24}, \"21\": {\"43\": 1, \"78\": 2, \"21\": 41, \"106\": 1, \"122\": 1, \"118\": 1, \"94\": 1}, \"98\": {\"98\": 123, \"44\": 1}, \"108\": {\"108\": 128, \"8\": 3, \"127\": 1}, \"31\": {\"31\": 20}, \"118\": {\"118\": 98, \"29\": 1, \"43\": 1}, \"110\": {\"110\": 92}, \"73\": {\"73\": 40}, \"44\": {\"44\": 70, \"125\": 1, \"26\": 1}, \"37\": {\"37\": 15, \"118\": 1}, \"100\": {\"100\": 16}}, \"ORACLE.run126\": {\"0\": {\"7\": 21, \"4\": 27, \"14\": 27, \"15\": 6, \"3\": 13, \"6\": 14, \"2\": 10, \"10\": 20, \"9\": 14, \"0\": 27, \"12\": 7, \"1\": 22, \"8\": 22, \"5\": 4, \"13\": 4, \"11\": 2}, \"4\": {\"14\": 21, \"1\": 29, \"10\": 23, \"7\": 18, \"6\": 12, \"3\": 20, \"8\": 24, \"4\": 25, \"5\": 8, \"0\": 19, \"2\": 18, \"12\": 7, \"13\": 2, \"9\": 6, \"15\": 8}, \"14\": {\"0\": 37, \"9\": 6, \"1\": 27, \"14\": 21, \"7\": 20, \"6\": 13, \"3\": 18, \"8\": 19, \"15\": 9, \"4\": 34, \"10\": 21, \"13\": 3, \"5\": 5, \"12\": 2, \"2\": 5}, \"12\": {\"9\": 22, \"11\": 21, \"5\": 19, \"12\": 55, \"4\": 4, \"13\": 15, \"15\": 26, \"10\": 16, \"6\": 19, \"0\": 8, \"8\": 14, \"14\": 6, \"7\": 7, \"1\": 3, \"2\": 1, \"3\": 4}, \"8\": {\"9\": 16, \"8\": 22, \"15\": 20, \"14\": 16, \"1\": 11, \"3\": 9, \"2\": 22, \"7\": 15, \"6\": 16, \"0\": 23, \"4\": 22, \"5\": 11, \"10\": 24, \"12\": 5, \"13\": 7, \"11\": 1}, \"7\": {\"9\": 11, \"14\": 21, \"2\": 16, \"4\": 24, \"3\": 19, \"1\": 20, \"5\": 16, \"7\": 14, \"15\": 17, \"0\": 17, \"10\": 28, \"6\": 15, \"12\": 4, \"13\": 2, \"8\": 16}, \"13\": {\"11\": 18, \"7\": 10, \"9\": 29, \"13\": 40, \"5\": 33, \"12\": 19, \"3\": 8, \"6\": 12, \"2\": 21, \"10\": 8, \"4\": 4, \"8\": 10, \"0\": 3, \"15\": 23, \"1\": 2}, \"5\": {\"12\": 18, \"5\": 30, \"7\": 22, \"9\": 24, \"6\": 12, \"3\": 22, \"1\": 6, \"15\": 22, \"8\": 12, \"13\": 26, \"2\": 21, \"4\": 7, \"11\": 9, \"14\": 3, \"0\": 2, \"10\": 4}, \"15\": {\"8\": 20, \"7\": 19, \"15\": 19, \"9\": 26, \"12\": 14, \"3\": 15, \"10\": 12, \"0\": 8, \"13\": 17, \"6\": 27, \"14\": 10, \"2\": 13, \"5\": 15, \"4\": 13, \"1\": 6, \"11\": 6}, \"10\": {\"10\": 27, \"7\": 22, \"14\": 24, \"1\": 16, \"15\": 11, \"6\": 24, \"4\": 14, \"3\": 13, \"12\": 6, \"8\": 22, \"13\": 11, \"9\": 14, \"0\": 21, \"2\": 7, \"5\": 8}, \"3\": {\"0\": 17, \"14\": 22, \"12\": 5, \"3\": 23, \"4\": 17, \"5\": 17, \"15\": 22, \"10\": 17, \"6\": 15, \"1\": 14, \"13\": 8, \"2\": 18, \"7\": 22, \"9\": 8, \"8\": 14, \"11\": 1}, \"9\": {\"14\": 10, \"9\": 29, \"3\": 18, \"7\": 15, \"0\": 14, \"4\": 7, \"11\": 7, \"13\": 13, \"12\": 17, \"2\": 21, \"15\": 19, \"10\": 16, \"8\": 14, \"5\": 21, \"1\": 2, \"6\": 17}, \"6\": {\"7\": 11, \"0\": 20, \"9\": 14, \"15\": 31, \"6\": 21, \"5\": 21, \"2\": 15, \"10\": 22, \"8\": 18, \"3\": 10, \"12\": 13, \"13\": 8, \"14\": 11, \"1\": 11, \"4\": 14}, \"1\": {\"7\": 27, \"3\": 12, \"14\": 27, \"1\": 42, \"5\": 3, \"15\": 13, \"10\": 21, \"0\": 16, \"8\": 20, \"4\": 33, \"13\": 3, \"2\": 8, \"9\": 6, \"6\": 6, \"12\": 3}, \"11\": {\"11\": 117, \"15\": 11, \"12\": 29, \"13\": 43, \"3\": 1, \"5\": 17, \"2\": 3, \"9\": 9, \"1\": 1, \"7\": 1, \"6\": 6, \"0\": 2}, \"2\": {\"14\": 13, \"9\": 19, \"7\": 21, \"15\": 16, \"6\": 25, \"3\": 26, \"2\": 23, \"8\": 13, \"13\": 13, \"5\": 14, \"0\": 14, \"12\": 6, \"10\": 15, \"1\": 8, \"11\": 6, \"4\": 8}}, \"ORACLE.run144\": {\"1\": {\"12\": 39, \"4\": 14, \"9\": 15, \"2\": 18, \"1\": 35, \"7\": 26, \"3\": 39, \"11\": 2, \"13\": 11, \"10\": 32, \"14\": 5, \"6\": 3, \"15\": 1}, \"11\": {\"13\": 41, \"2\": 22, \"6\": 55, \"1\": 4, \"11\": 55, \"12\": 3, \"3\": 2, \"9\": 17, \"10\": 14, \"7\": 22, \"4\": 4, \"14\": 1}, \"3\": {\"4\": 16, \"3\": 50, \"0\": 1, \"14\": 13, \"1\": 49, \"10\": 17, \"12\": 37, \"9\": 13, \"2\": 13, \"7\": 14, \"5\": 4, \"15\": 7, \"13\": 5, \"6\": 1}, \"6\": {\"9\": 34, \"13\": 42, \"2\": 17, \"11\": 43, \"10\": 13, \"14\": 3, \"1\": 2, \"7\": 27, \"6\": 48, \"4\": 6, \"12\": 3, \"3\": 2}, \"7\": {\"9\": 28, \"4\": 8, \"3\": 14, \"2\": 34, \"13\": 19, \"11\": 20, \"7\": 35, \"14\": 6, \"6\": 20, \"12\": 21, \"1\": 15, \"10\": 20}, \"5\": {\"4\": 44, \"15\": 25, \"14\": 46, \"5\": 58, \"8\": 18, \"7\": 3, \"0\": 28, \"12\": 3, \"13\": 4, \"3\": 4, \"2\": 1, \"1\": 2, \"10\": 1, \"9\": 2, \"6\": 1}, \"2\": {\"10\": 29, \"13\": 20, \"1\": 13, \"2\": 34, \"9\": 32, \"12\": 17, \"6\": 21, \"7\": 39, \"14\": 4, \"11\": 15, \"3\": 13, \"4\": 2, \"5\": 1}, \"15\": {\"8\": 41, \"15\": 46, \"5\": 36, \"0\": 55, \"14\": 27, \"4\": 25, \"3\": 7, \"7\": 1, \"10\": 1, \"1\": 1}, \"10\": {\"7\": 36, \"9\": 28, \"1\": 27, \"13\": 18, \"2\": 29, \"6\": 9, \"4\": 3, \"10\": 27, \"12\": 32, \"11\": 12, \"14\": 2, \"3\": 17}, \"13\": {\"7\": 27, \"13\": 43, \"11\": 33, \"9\": 32, \"10\": 24, \"14\": 5, \"2\": 22, \"6\": 38, \"12\": 9, \"5\": 2, \"1\": 3, \"4\": 2}, \"8\": {\"15\": 53, \"0\": 76, \"8\": 83, \"5\": 15, \"14\": 10, \"4\": 3}, \"4\": {\"2\": 11, \"9\": 27, \"14\": 39, \"15\": 18, \"10\": 8, \"3\": 10, \"1\": 14, \"6\": 4, \"5\": 26, \"4\": 43, \"8\": 9, \"0\": 9, \"12\": 4, \"13\": 7, \"7\": 11}, \"9\": {\"2\": 25, \"4\": 12, \"6\": 25, \"9\": 28, \"12\": 10, \"7\": 38, \"1\": 12, \"14\": 8, \"10\": 25, \"11\": 17, \"13\": 31, \"3\": 8, \"5\": 1}, \"14\": {\"9\": 13, \"4\": 43, \"14\": 55, \"15\": 25, \"5\": 36, \"12\": 6, \"7\": 9, \"1\": 10, \"6\": 3, \"0\": 16, \"13\": 5, \"3\": 11, \"8\": 5, \"10\": 1, \"2\": 2}, \"0\": {\"8\": 59, \"14\": 22, \"0\": 61, \"15\": 52, \"5\": 35, \"4\": 8, \"7\": 1, \"9\": 1, \"3\": 1}, \"12\": {\"1\": 48, \"3\": 33, \"12\": 53, \"4\": 4, \"10\": 37, \"2\": 27, \"7\": 24, \"9\": 8, \"13\": 5, \"14\": 1}}, \"ORACLE.run150\": {\"15\": {\"6\": 24, \"11\": 29, \"14\": 9, \"7\": 20, \"4\": 36, \"12\": 6, \"15\": 36, \"1\": 26, \"10\": 5, \"8\": 1, \"13\": 15, \"9\": 13, \"5\": 19, \"3\": 1}, \"4\": {\"1\": 29, \"11\": 24, \"6\": 17, \"13\": 22, \"4\": 34, \"15\": 21, \"5\": 34, \"12\": 4, \"9\": 8, \"14\": 4, \"7\": 29, \"10\": 8, \"8\": 1, \"0\": 3, \"2\": 1, \"3\": 1}, \"6\": {\"1\": 28, \"11\": 19, \"7\": 29, \"6\": 27, \"15\": 18, \"4\": 23, \"13\": 22, \"5\": 27, \"14\": 6, \"9\": 10, \"0\": 8, \"8\": 4, \"10\": 11, \"2\": 3, \"12\": 3, \"3\": 2}, \"2\": {\"2\": 72, \"12\": 21, \"11\": 3, \"0\": 52, \"1\": 9, \"13\": 7, \"10\": 20, \"8\": 23, \"14\": 17, \"3\": 4, \"6\": 4, \"7\": 2, \"9\": 1, \"4\": 4, \"5\": 1}, \"5\": {\"7\": 37, \"13\": 25, \"6\": 25, \"15\": 17, \"3\": 7, \"5\": 31, \"4\": 29, \"11\": 16, \"1\": 24, \"9\": 12, \"10\": 9, \"14\": 3, \"0\": 4, \"8\": 1}, \"9\": {\"11\": 32, \"14\": 34, \"1\": 32, \"9\": 52, \"0\": 3, \"6\": 6, \"5\": 7, \"4\": 16, \"12\": 24, \"7\": 4, \"13\": 8, \"15\": 16, \"2\": 4, \"3\": 1, \"10\": 1}, \"8\": {\"10\": 36, \"0\": 31, \"3\": 61, \"8\": 62, \"4\": 1, \"13\": 7, \"14\": 4, \"2\": 21, \"7\": 6, \"6\": 4, \"5\": 3, \"9\": 1, \"12\": 2, \"15\": 1}, \"12\": {\"10\": 8, \"0\": 24, \"14\": 40, \"1\": 21, \"2\": 26, \"9\": 20, \"7\": 2, \"11\": 10, \"12\": 53, \"15\": 7, \"5\": 8, \"6\": 7, \"4\": 8, \"13\": 2, \"8\": 4}, \"10\": {\"8\": 36, \"5\": 13, \"12\": 2, \"2\": 16, \"10\": 46, \"0\": 25, \"13\": 14, \"1\": 6, \"14\": 8, \"7\": 23, \"3\": 25, \"6\": 9, \"11\": 2, \"15\": 6, \"4\": 7, \"9\": 2}, \"1\": {\"7\": 20, \"1\": 29, \"6\": 19, \"0\": 5, \"15\": 25, \"4\": 37, \"11\": 22, \"12\": 15, \"14\": 7, \"13\": 25, \"8\": 2, \"10\": 8, \"9\": 10, \"5\": 16}, \"0\": {\"8\": 38, \"7\": 6, \"2\": 34, \"15\": 3, \"13\": 6, \"0\": 49, \"12\": 13, \"9\": 6, \"10\": 30, \"14\": 21, \"1\": 6, \"3\": 13, \"11\": 1, \"4\": 5, \"6\": 7, \"5\": 2}, \"3\": {\"8\": 57, \"0\": 17, \"5\": 5, \"3\": 95, \"10\": 29, \"7\": 8, \"13\": 15, \"1\": 2, \"6\": 5, \"2\": 3, \"15\": 1, \"4\": 3}, \"13\": {\"1\": 19, \"10\": 15, \"5\": 21, \"7\": 35, \"4\": 35, \"11\": 11, \"12\": 2, \"13\": 38, \"15\": 13, \"9\": 3, \"8\": 5, \"6\": 23, \"3\": 6, \"14\": 2, \"0\": 8, \"2\": 4}, \"11\": {\"4\": 19, \"5\": 17, \"1\": 39, \"6\": 12, \"9\": 35, \"14\": 22, \"0\": 6, \"10\": 4, \"15\": 22, \"11\": 29, \"13\": 12, \"12\": 18, \"7\": 4, \"2\": 1}, \"7\": {\"7\": 37, \"3\": 9, \"6\": 27, \"1\": 21, \"13\": 29, \"15\": 13, \"4\": 22, \"5\": 28, \"11\": 14, \"10\": 15, \"14\": 7, \"0\": 7, \"9\": 4, \"8\": 6, \"12\": 1}, \"14\": {\"12\": 36, \"10\": 13, \"1\": 20, \"2\": 29, \"6\": 11, \"9\": 14, \"0\": 17, \"14\": 53, \"4\": 7, \"5\": 8, \"15\": 7, \"11\": 10, \"13\": 8, \"8\": 5, \"7\": 2}}, \"ORACLE.run138\": {\"15\": {\"8\": 21, \"3\": 5, \"11\": 3, \"9\": 6, \"14\": 9, \"15\": 38, \"10\": 12, \"6\": 16, \"7\": 6, \"1\": 30, \"0\": 7, \"5\": 22, \"2\": 34, \"13\": 31}, \"11\": {\"11\": 68, \"12\": 33, \"14\": 69, \"0\": 3, \"4\": 12, \"2\": 19, \"1\": 1, \"10\": 19, \"15\": 3, \"7\": 8, \"6\": 1, \"8\": 3, \"13\": 1}, \"10\": {\"13\": 15, \"0\": 25, \"11\": 21, \"10\": 40, \"2\": 11, \"14\": 29, \"7\": 28, \"5\": 18, \"1\": 2, \"3\": 10, \"8\": 21, \"15\": 4, \"12\": 8, \"9\": 3, \"6\": 1, \"4\": 4}, \"14\": {\"10\": 30, \"11\": 44, \"12\": 16, \"14\": 82, \"3\": 1, \"7\": 17, \"2\": 16, \"15\": 8, \"5\": 9, \"13\": 4, \"8\": 4, \"4\": 2, \"0\": 4, \"6\": 1, \"1\": 2}, \"6\": {\"8\": 19, \"9\": 37, \"1\": 37, \"3\": 18, \"5\": 28, \"13\": 15, \"6\": 48, \"0\": 15, \"15\": 9, \"10\": 2, \"7\": 5, \"2\": 7}, \"4\": {\"12\": 76, \"7\": 6, \"4\": 131, \"11\": 11, \"10\": 5, \"14\": 8, \"5\": 3}, \"13\": {\"10\": 16, \"8\": 10, \"11\": 3, \"1\": 22, \"2\": 32, \"13\": 40, \"15\": 27, \"9\": 16, \"6\": 15, \"5\": 24, \"0\": 22, \"7\": 7, \"3\": 4, \"14\": 2}, \"3\": {\"9\": 25, \"7\": 18, \"5\": 31, \"3\": 57, \"15\": 5, \"8\": 28, \"6\": 33, \"0\": 25, \"13\": 8, \"1\": 5, \"10\": 3, \"14\": 1, \"2\": 1}, \"7\": {\"13\": 7, \"0\": 41, \"8\": 33, \"5\": 20, \"7\": 47, \"10\": 31, \"15\": 4, \"12\": 7, \"3\": 17, \"14\": 9, \"11\": 11, \"4\": 2, \"6\": 6, \"2\": 1, \"1\": 1, \"9\": 3}, \"8\": {\"8\": 32, \"10\": 29, \"7\": 18, \"5\": 34, \"9\": 15, \"0\": 28, \"3\": 21, \"15\": 20, \"6\": 15, \"2\": 6, \"1\": 4, \"13\": 9, \"11\": 3, \"12\": 1, \"14\": 5}, \"1\": {\"2\": 19, \"1\": 66, \"6\": 22, \"13\": 42, \"9\": 26, \"8\": 7, \"3\": 6, \"15\": 30, \"5\": 14, \"0\": 7, \"14\": 1}, \"5\": {\"6\": 25, \"7\": 27, \"1\": 9, \"9\": 16, \"0\": 23, \"5\": 37, \"10\": 11, \"3\": 18, \"2\": 9, \"8\": 25, \"15\": 20, \"13\": 14, \"14\": 6}, \"0\": {\"7\": 32, \"0\": 33, \"10\": 19, \"13\": 9, \"5\": 26, \"12\": 5, \"14\": 11, \"15\": 18, \"2\": 12, \"8\": 27, \"9\": 10, \"3\": 23, \"6\": 7, \"11\": 4, \"1\": 3, \"4\": 1}, \"2\": {\"13\": 41, \"14\": 16, \"1\": 23, \"11\": 8, \"2\": 47, \"6\": 6, \"10\": 18, \"3\": 4, \"15\": 34, \"8\": 14, \"9\": 4, \"7\": 3, \"5\": 16, \"0\": 6}, \"12\": {\"12\": 104, \"0\": 9, \"4\": 59, \"11\": 25, \"7\": 4, \"14\": 22, \"10\": 14, \"2\": 1, \"5\": 1, \"8\": 1}, \"9\": {\"3\": 20, \"6\": 33, \"5\": 20, \"9\": 54, \"15\": 16, \"8\": 15, \"1\": 32, \"13\": 31, \"2\": 3, \"0\": 8, \"7\": 6, \"10\": 2}}, \"ORACLE.run120\": {\"10\": {\"11\": 5, \"13\": 2, \"4\": 36, \"6\": 34, \"0\": 14, \"14\": 31, \"10\": 33, \"3\": 11, \"12\": 7, \"8\": 22, \"7\": 17, \"9\": 8, \"1\": 2, \"15\": 4, \"2\": 4, \"5\": 10}, \"7\": {\"6\": 13, \"11\": 23, \"15\": 9, \"12\": 16, \"2\": 16, \"13\": 14, \"1\": 12, \"8\": 17, \"5\": 20, \"4\": 8, \"0\": 16, \"3\": 17, \"9\": 19, \"7\": 26, \"14\": 7, \"10\": 7}, \"4\": {\"3\": 14, \"4\": 37, \"6\": 29, \"5\": 15, \"13\": 6, \"14\": 17, \"9\": 9, \"10\": 20, \"12\": 10, \"11\": 6, \"2\": 6, \"8\": 23, \"0\": 13, \"15\": 5, \"1\": 11, \"7\": 19}, \"13\": {\"13\": 25, \"12\": 16, \"8\": 7, \"15\": 27, \"3\": 14, \"1\": 24, \"2\": 18, \"7\": 14, \"9\": 20, \"5\": 13, \"11\": 20, \"0\": 29, \"6\": 6, \"4\": 4, \"14\": 2, \"10\": 1}, \"1\": {\"13\": 13, \"0\": 32, \"15\": 22, \"5\": 21, \"12\": 26, \"3\": 18, \"10\": 6, \"6\": 5, \"9\": 11, \"4\": 12, \"7\": 19, \"1\": 16, \"14\": 2, \"8\": 9, \"2\": 18, \"11\": 10}, \"0\": {\"0\": 29, \"12\": 17, \"6\": 12, \"8\": 11, \"15\": 20, \"5\": 20, \"10\": 11, \"4\": 12, \"1\": 22, \"3\": 17, \"14\": 5, \"9\": 11, \"7\": 23, \"13\": 11, \"2\": 12, \"11\": 7}, \"12\": {\"1\": 20, \"10\": 7, \"2\": 16, \"5\": 12, \"0\": 17, \"7\": 29, \"4\": 12, \"9\": 19, \"15\": 10, \"12\": 22, \"6\": 12, \"11\": 16, \"3\": 19, \"13\": 13, \"14\": 5, \"8\": 11}, \"5\": {\"1\": 18, \"13\": 13, \"2\": 22, \"12\": 21, \"3\": 20, \"7\": 25, \"5\": 19, \"15\": 14, \"0\": 23, \"8\": 10, \"9\": 16, \"14\": 6, \"10\": 10, \"6\": 11, \"11\": 2, \"4\": 10}, \"6\": {\"12\": 13, \"5\": 8, \"6\": 31, \"2\": 12, \"8\": 29, \"4\": 19, \"9\": 10, \"14\": 33, \"3\": 13, \"11\": 6, \"10\": 23, \"13\": 3, \"15\": 6, \"7\": 16, \"1\": 7, \"0\": 11}, \"2\": {\"1\": 25, \"12\": 21, \"5\": 18, \"7\": 23, \"15\": 19, \"9\": 17, \"8\": 7, \"11\": 19, \"2\": 21, \"10\": 6, \"0\": 13, \"4\": 12, \"6\": 6, \"3\": 16, \"14\": 5, \"13\": 12}, \"8\": {\"14\": 20, \"6\": 24, \"4\": 23, \"12\": 15, \"9\": 10, \"0\": 12, \"7\": 22, \"2\": 15, \"11\": 5, \"15\": 9, \"10\": 19, \"8\": 23, \"1\": 12, \"5\": 18, \"3\": 9, \"13\": 4}, \"11\": {\"9\": 25, \"13\": 23, \"11\": 32, \"8\": 9, \"0\": 17, \"7\": 21, \"3\": 16, \"6\": 14, \"12\": 11, \"1\": 15, \"15\": 14, \"2\": 20, \"5\": 9, \"4\": 9, \"10\": 3, \"14\": 2}, \"9\": {\"5\": 19, \"13\": 23, \"11\": 12, \"15\": 20, \"7\": 16, \"1\": 17, \"4\": 9, \"0\": 15, \"8\": 16, \"12\": 12, \"10\": 6, \"6\": 18, \"3\": 18, \"2\": 19, \"9\": 18, \"14\": 2}, \"14\": {\"14\": 34, \"7\": 18, \"10\": 39, \"8\": 25, \"0\": 12, \"9\": 7, \"4\": 33, \"12\": 7, \"6\": 22, \"5\": 8, \"1\": 5, \"15\": 3, \"2\": 4, \"11\": 8, \"3\": 9, \"13\": 6}, \"15\": {\"12\": 19, \"13\": 30, \"11\": 14, \"9\": 24, \"1\": 23, \"15\": 23, \"0\": 19, \"2\": 21, \"4\": 9, \"10\": 6, \"5\": 14, \"7\": 13, \"3\": 13, \"8\": 6, \"6\": 5, \"14\": 1}, \"3\": {\"10\": 11, \"13\": 14, \"5\": 15, \"9\": 18, \"11\": 9, \"12\": 19, \"1\": 11, \"3\": 19, \"0\": 21, \"4\": 16, \"15\": 9, \"7\": 22, \"6\": 16, \"14\": 7, \"2\": 23, \"8\": 10}}, \"ORACLE.run114\": {\"14\": {\"13\": 28, \"3\": 10, \"2\": 35, \"14\": 39, \"4\": 18, \"6\": 40, \"11\": 9, \"10\": 14, \"9\": 3, \"0\": 16, \"5\": 9, \"7\": 6, \"15\": 8, \"1\": 5}, \"0\": {\"5\": 14, \"0\": 31, \"14\": 16, \"9\": 12, \"3\": 32, \"8\": 8, \"11\": 19, \"1\": 14, \"12\": 5, \"4\": 24, \"2\": 16, \"10\": 22, \"6\": 6, \"13\": 10, \"15\": 5, \"7\": 6}, \"4\": {\"0\": 18, \"15\": 14, \"11\": 14, \"10\": 21, \"4\": 35, \"1\": 14, \"5\": 23, \"9\": 4, \"14\": 10, \"7\": 25, \"6\": 9, \"13\": 14, \"3\": 28, \"2\": 7, \"8\": 4}, \"11\": {\"7\": 6, \"9\": 25, \"11\": 39, \"4\": 16, \"2\": 11, \"14\": 10, \"0\": 37, \"12\": 13, \"10\": 21, \"13\": 8, \"15\": 2, \"8\": 9, \"1\": 7, \"5\": 14, \"3\": 17, \"6\": 5}, \"13\": {\"15\": 15, \"2\": 34, \"6\": 44, \"13\": 33, \"7\": 10, \"11\": 7, \"10\": 16, \"5\": 14, \"3\": 9, \"14\": 37, \"4\": 13, \"1\": 3, \"9\": 2, \"0\": 3}, \"9\": {\"3\": 14, \"11\": 30, \"9\": 51, \"0\": 21, \"7\": 6, \"8\": 39, \"12\": 52, \"1\": 7, \"4\": 5, \"10\": 8, \"5\": 5, \"2\": 1, \"13\": 1}, \"3\": {\"15\": 10, \"11\": 24, \"3\": 27, \"0\": 13, \"2\": 17, \"14\": 14, \"10\": 19, \"1\": 21, \"9\": 11, \"4\": 26, \"13\": 13, \"6\": 12, \"5\": 18, \"8\": 2, \"12\": 2, \"7\": 11}, \"6\": {\"15\": 14, \"3\": 15, \"14\": 44, \"13\": 38, \"6\": 39, \"10\": 16, \"2\": 30, \"5\": 12, \"11\": 5, \"1\": 5, \"7\": 7, \"4\": 11, \"0\": 4}, \"1\": {\"7\": 23, \"9\": 8, \"0\": 17, \"1\": 35, \"4\": 35, \"2\": 11, \"8\": 17, \"3\": 22, \"14\": 7, \"5\": 17, \"11\": 15, \"15\": 14, \"10\": 10, \"13\": 3, \"12\": 2, \"6\": 4}, \"5\": {\"3\": 26, \"14\": 6, \"9\": 5, \"10\": 14, \"13\": 14, \"1\": 24, \"4\": 27, \"15\": 19, \"0\": 13, \"2\": 18, \"5\": 23, \"7\": 21, \"6\": 9, \"11\": 12, \"12\": 2, \"8\": 7}, \"12\": {\"9\": 70, \"12\": 91, \"0\": 15, \"10\": 5, \"14\": 1, \"8\": 33, \"11\": 16, \"4\": 1, \"3\": 4, \"7\": 1, \"1\": 1, \"5\": 2}, \"10\": {\"5\": 16, \"10\": 22, \"11\": 20, \"0\": 20, \"3\": 22, \"6\": 17, \"15\": 8, \"14\": 17, \"13\": 18, \"1\": 15, \"2\": 22, \"4\": 19, \"8\": 3, \"7\": 12, \"9\": 6, \"12\": 3}, \"8\": {\"0\": 10, \"9\": 58, \"8\": 76, \"1\": 14, \"5\": 6, \"7\": 10, \"12\": 31, \"11\": 13, \"3\": 6, \"4\": 12, \"10\": 2, \"15\": 1, \"2\": 1}, \"7\": {\"7\": 41, \"3\": 22, \"4\": 26, \"2\": 13, \"15\": 25, \"1\": 33, \"13\": 8, \"5\": 26, \"14\": 10, \"6\": 3, \"0\": 10, \"10\": 9, \"11\": 6, \"9\": 1, \"8\": 7}, \"15\": {\"4\": 23, \"13\": 19, \"2\": 20, \"1\": 14, \"7\": 36, \"6\": 22, \"5\": 22, \"14\": 12, \"15\": 36, \"12\": 1, \"3\": 11, \"10\": 13, \"9\": 1, \"0\": 5, \"8\": 3, \"11\": 2}, \"2\": {\"15\": 7, \"13\": 31, \"14\": 30, \"2\": 28, \"4\": 22, \"10\": 20, \"6\": 32, \"11\": 10, \"9\": 2, \"5\": 7, \"3\": 17, \"7\": 12, \"1\": 13, \"0\": 8, \"8\": 1}}, \"ORACLE.run132\": {\"11\": {\"14\": 25, \"13\": 17, \"4\": 19, \"0\": 23, \"3\": 16, \"5\": 24, \"2\": 30, \"11\": 38, \"7\": 29, \"9\": 5, \"8\": 12, \"15\": 1, \"12\": 1}, \"1\": {\"1\": 157, \"10\": 44, \"6\": 37, \"12\": 2}, \"2\": {\"5\": 19, \"4\": 30, \"11\": 21, \"14\": 24, \"2\": 24, \"9\": 27, \"0\": 31, \"3\": 5, \"7\": 21, \"13\": 17, \"6\": 2, \"8\": 9, \"12\": 10}, \"0\": {\"13\": 27, \"4\": 22, \"14\": 21, \"8\": 22, \"2\": 26, \"7\": 23, \"0\": 29, \"3\": 20, \"5\": 19, \"11\": 24, \"9\": 6, \"12\": 1}, \"3\": {\"8\": 40, \"13\": 42, \"11\": 13, \"5\": 24, \"15\": 16, \"3\": 58, \"7\": 7, \"4\": 11, \"0\": 15, \"14\": 13, \"2\": 1}, \"8\": {\"8\": 39, \"5\": 47, \"14\": 13, \"13\": 29, \"11\": 16, \"4\": 22, \"15\": 6, \"3\": 35, \"2\": 6, \"0\": 14, \"7\": 10, \"9\": 2, \"12\": 1}, \"12\": {\"10\": 50, \"9\": 60, \"6\": 9, \"12\": 76, \"0\": 6, \"4\": 11, \"13\": 3, \"14\": 1, \"2\": 10, \"1\": 5, \"3\": 1, \"8\": 1, \"11\": 1, \"5\": 4, \"7\": 2}, \"5\": {\"5\": 34, \"7\": 26, \"8\": 20, \"13\": 29, \"4\": 26, \"11\": 12, \"0\": 21, \"3\": 26, \"2\": 14, \"9\": 3, \"14\": 23, \"12\": 3, \"15\": 3}, \"15\": {\"0\": 6, \"3\": 31, \"15\": 156, \"8\": 21, \"13\": 20, \"7\": 3, \"11\": 1, \"14\": 2}, \"7\": {\"14\": 31, \"0\": 26, \"5\": 27, \"4\": 25, \"13\": 12, \"10\": 1, \"8\": 14, \"7\": 27, \"11\": 30, \"3\": 10, \"9\": 5, \"2\": 29, \"12\": 3}, \"4\": {\"2\": 19, \"7\": 27, \"4\": 28, \"5\": 26, \"14\": 24, \"0\": 22, \"11\": 13, \"13\": 30, \"3\": 14, \"9\": 12, \"8\": 22, \"12\": 3}, \"14\": {\"4\": 26, \"11\": 46, \"3\": 8, \"14\": 26, \"7\": 33, \"13\": 10, \"5\": 22, \"8\": 13, \"2\": 20, \"0\": 26, \"9\": 7, \"12\": 3}, \"10\": {\"10\": 130, \"12\": 49, \"1\": 45, \"6\": 9, \"9\": 6, \"2\": 1}, \"6\": {\"6\": 145, \"1\": 49, \"12\": 10, \"9\": 17, \"10\": 17, \"2\": 2}, \"13\": {\"8\": 35, \"5\": 25, \"15\": 8, \"7\": 18, \"0\": 22, \"4\": 21, \"2\": 12, \"3\": 31, \"14\": 16, \"13\": 36, \"11\": 14, \"9\": 2}, \"9\": {\"12\": 38, \"2\": 27, \"9\": 68, \"11\": 5, \"7\": 11, \"6\": 14, \"5\": 11, \"13\": 7, \"0\": 10, \"8\": 2, \"4\": 27, \"10\": 10, \"14\": 9, \"3\": 1}}, \"ORACLE.run18\": {\"9\": {\"9\": 199, \"13\": 9, \"10\": 9, \"4\": 4, \"5\": 5, \"0\": 12, \"14\": 2}, \"11\": {\"0\": 6, \"11\": 36, \"1\": 30, \"8\": 35, \"2\": 5, \"15\": 17, \"13\": 10, \"5\": 19, \"12\": 23, \"14\": 18, \"3\": 11, \"4\": 6, \"6\": 8, \"10\": 8, \"7\": 8}, \"8\": {\"15\": 32, \"12\": 35, \"11\": 34, \"2\": 11, \"8\": 32, \"7\": 13, \"3\": 19, \"6\": 8, \"4\": 6, \"1\": 22, \"14\": 8, \"5\": 6, \"13\": 8, \"10\": 6}, \"4\": {\"4\": 27, \"6\": 22, \"10\": 24, \"7\": 18, \"11\": 10, \"0\": 13, \"14\": 29, \"2\": 12, \"13\": 17, \"8\": 6, \"5\": 20, \"3\": 10, \"15\": 11, \"1\": 15, \"12\": 6}, \"13\": {\"10\": 24, \"1\": 20, \"6\": 25, \"13\": 28, \"4\": 20, \"14\": 24, \"7\": 18, \"2\": 10, \"9\": 3, \"11\": 12, \"3\": 5, \"5\": 16, \"15\": 4, \"8\": 7, \"0\": 19, \"12\": 5}, \"14\": {\"13\": 23, \"0\": 16, \"6\": 18, \"10\": 23, \"7\": 26, \"14\": 24, \"4\": 22, \"5\": 23, \"15\": 8, \"11\": 11, \"3\": 10, \"8\": 11, \"1\": 15, \"2\": 5, \"12\": 5}, \"2\": {\"2\": 30, \"3\": 33, \"0\": 17, \"1\": 10, \"4\": 16, \"8\": 13, \"13\": 19, \"15\": 17, \"12\": 16, \"10\": 6, \"6\": 23, \"7\": 15, \"5\": 10, \"11\": 9, \"14\": 6}, \"3\": {\"11\": 13, \"5\": 7, \"7\": 19, \"14\": 10, \"12\": 18, \"0\": 7, \"4\": 12, \"2\": 32, \"3\": 40, \"6\": 14, \"15\": 24, \"8\": 18, \"1\": 8, \"13\": 13, \"10\": 5}, \"1\": {\"3\": 10, \"10\": 12, \"12\": 10, \"6\": 15, \"14\": 20, \"7\": 11, \"13\": 14, \"11\": 30, \"4\": 17, \"5\": 22, \"8\": 20, \"0\": 5, \"15\": 25, \"1\": 26, \"2\": 3}, \"0\": {\"3\": 8, \"13\": 37, \"6\": 12, \"7\": 31, \"10\": 32, \"2\": 15, \"9\": 3, \"14\": 15, \"4\": 24, \"5\": 18, \"0\": 22, \"11\": 9, \"12\": 1, \"1\": 8, \"8\": 2, \"15\": 3}, \"5\": {\"5\": 24, \"14\": 25, \"10\": 23, \"4\": 27, \"8\": 8, \"13\": 17, \"1\": 21, \"6\": 23, \"0\": 13, \"2\": 6, \"7\": 23, \"11\": 17, \"15\": 4, \"3\": 7, \"12\": 2}, \"15\": {\"3\": 26, \"8\": 31, \"14\": 8, \"2\": 14, \"12\": 38, \"1\": 20, \"7\": 15, \"15\": 34, \"5\": 3, \"13\": 5, \"11\": 15, \"4\": 11, \"6\": 15, \"10\": 5}, \"10\": {\"14\": 25, \"7\": 21, \"1\": 19, \"13\": 26, \"10\": 20, \"4\": 18, \"6\": 19, \"0\": 27, \"5\": 22, \"2\": 9, \"11\": 10, \"12\": 3, \"3\": 3, \"8\": 4, \"15\": 14}, \"12\": {\"5\": 4, \"14\": 4, \"7\": 16, \"1\": 12, \"3\": 34, \"12\": 45, \"2\": 22, \"8\": 35, \"15\": 31, \"11\": 16, \"4\": 7, \"6\": 4, \"13\": 5, \"0\": 3, \"10\": 2}, \"6\": {\"0\": 19, \"11\": 14, \"14\": 23, \"1\": 24, \"4\": 23, \"7\": 25, \"13\": 15, \"5\": 13, \"6\": 15, \"12\": 7, \"15\": 10, \"3\": 13, \"8\": 14, \"10\": 17, \"2\": 8}, \"7\": {\"10\": 31, \"3\": 15, \"13\": 15, \"2\": 16, \"12\": 10, \"7\": 30, \"4\": 21, \"14\": 13, \"11\": 13, \"5\": 12, \"0\": 17, \"15\": 7, \"1\": 13, \"8\": 9, \"6\": 17, \"9\": 1}}}, \"per_domain_accuracy\": {\"Wisig_4\": {\"accuracy\": 0.9507458847736625, \"source?\": true}, \"Wisig_1\": {\"accuracy\": 0.96875, \"source?\": true}, \"Wisig_2\": {\"accuracy\": 0.9516213389121339, \"source?\": true}, \"Wisig_3\": {\"accuracy\": 0.9679312227074236, \"source?\": true}, \"ORACLE.run126\": {\"accuracy\": 0.13932291666666666, \"source?\": false}, \"ORACLE.run144\": {\"accuracy\": 0.19635416666666666, \"source?\": false}, \"ORACLE.run150\": {\"accuracy\": 0.19348958333333333, \"source?\": false}, \"ORACLE.run138\": {\"accuracy\": 0.240625, \"source?\": false}, \"ORACLE.run120\": {\"accuracy\": 0.10625, \"source?\": false}, \"ORACLE.run114\": {\"accuracy\": 0.16822916666666668, \"source?\": false}, \"ORACLE.run132\": {\"accuracy\": 0.27890625, \"source?\": false}, \"ORACLE.run18\": {\"accuracy\": 0.16458333333333333, \"source?\": false}}}, \"history\": {\"epoch_indices\": [1, 2, 3, 4, 5], \"train_label_loss\": [0.19544828658825086, 0.12076752156405213, 0.09803646341026344, 0.0821922434863137, 0.06794985898011865], \"source_val_label_loss\": [0.1759924441576004, 0.1380082368850708, 0.12331774830818176, 0.12409226596355438, 0.1258365362882614], \"target_val_label_loss\": [2.5256829261779785, 2.5354983806610107, 2.5554380416870117, 2.656951427459717, 2.8262197971343994], \"source_val_acc_label\": [0.9596092925026399, 0.9686840021119324, 0.9712909186906019, 0.9724458817317846, 0.972379883843717], \"target_val_acc_label\": [0.18597005208333334, 0.17643229166666666, 0.17093098958333333, 0.14869791666666668, 0.12718098958333332]}, \"dataset_metrics\": {\"source\": {\"train\": {\"n_unique_x\": 189042, \"n_unique_y\": 130, \"n_batch/episode\": 6851}, \"val\": {\"n_unique_x\": 40070, \"n_unique_y\": 130, \"n_batch/episode\": 947}, \"test\": {\"n_unique_x\": 40812, \"n_unique_y\": 130, \"n_batch/episode\": 969}}, \"target\": {\"train\": {\"n_unique_x\": 179200, \"n_unique_y\": 16, \"n_batch/episode\": 6720}, \"val\": {\"n_unique_x\": 38400, \"n_unique_y\": 16, \"n_batch/episode\": 960}, \"test\": {\"n_unique_x\": 38400, \"n_unique_y\": 16, \"n_batch/episode\": 960}}}}'"
      ]
     },
     "execution_count": 29,
     "metadata": {},
     "output_type": "execute_result"
    }
   ],
   "source": [
    "json.dumps(experiment)"
   ]
  }
 ],
 "metadata": {
  "celltoolbar": "Tags",
  "kernelspec": {
   "display_name": "Python 3 (ipykernel)",
   "language": "python",
   "name": "python3"
  },
  "language_info": {
   "codemirror_mode": {
    "name": "ipython",
    "version": 3
   },
   "file_extension": ".py",
   "mimetype": "text/x-python",
   "name": "python",
   "nbconvert_exporter": "python",
   "pygments_lexer": "ipython3",
   "version": "3.8.12"
  },
  "papermill": {
   "default_parameters": {},
   "duration": 1634.716842,
   "end_time": "2022-03-21T14:14:04.748973",
   "environment_variables": {},
   "exception": null,
   "input_path": "/root/csc500-main/csc500-notebooks/templates/tl_ptn_template.ipynb",
   "output_path": "trial.ipynb",
   "parameters": {
    "parameters": {
     "BEST_MODEL_PATH": "./best_model.pth",
     "NUM_LOGS_PER_EPOCH": 10,
     "criteria_for_best": "target_accuracy",
     "dataset_seed": 7,
     "datasets": [
      {
       "domain_prefix": "Wisig_",
       "domains": [
        1,
        2,
        3,
        4
       ],
       "episode_transforms": [],
       "labels": [
        "1-10",
        "1-12",
        "1-14",
        "1-16",
        "1-18",
        "1-19",
        "1-8",
        "10-11",
        "10-17",
        "10-4",
        "10-7",
        "11-1",
        "11-10",
        "11-19",
        "11-20",
        "11-4",
        "11-7",
        "12-19",
        "12-20",
        "12-7",
        "13-14",
        "13-18",
        "13-19",
        "13-20",
        "13-3",
        "13-7",
        "14-10",
        "14-11",
        "14-12",
        "14-13",
        "14-14",
        "14-19",
        "14-20",
        "14-7",
        "14-8",
        "14-9",
        "15-1",
        "15-19",
        "15-6",
        "16-1",
        "16-16",
        "16-19",
        "16-20",
        "17-10",
        "17-11",
        "18-1",
        "18-10",
        "18-11",
        "18-12",
        "18-13",
        "18-14",
        "18-15",
        "18-16",
        "18-17",
        "18-19",
        "18-2",
        "18-20",
        "18-4",
        "18-5",
        "18-7",
        "18-8",
        "18-9",
        "19-1",
        "19-10",
        "19-11",
        "19-12",
        "19-13",
        "19-14",
        "19-15",
        "19-19",
        "19-2",
        "19-20",
        "19-3",
        "19-4",
        "19-6",
        "19-7",
        "19-8",
        "19-9",
        "2-1",
        "2-13",
        "2-15",
        "2-3",
        "2-4",
        "2-5",
        "2-6",
        "2-7",
        "2-8",
        "20-1",
        "20-12",
        "20-14",
        "20-15",
        "20-16",
        "20-18",
        "20-19",
        "20-20",
        "20-3",
        "20-4",
        "20-5",
        "20-7",
        "20-8",
        "3-1",
        "3-13",
        "3-18",
        "3-2",
        "3-8",
        "4-1",
        "4-10",
        "4-11",
        "5-1",
        "5-5",
        "6-1",
        "6-15",
        "6-6",
        "7-10",
        "7-11",
        "7-12",
        "7-13",
        "7-14",
        "7-7",
        "7-8",
        "7-9",
        "8-1",
        "8-13",
        "8-14",
        "8-18",
        "8-20",
        "8-3",
        "8-8",
        "9-1",
        "9-7"
       ],
       "num_examples_per_domain_per_label": -1,
       "pickle_path": "/root/csc500-main/datasets/wisig.node3-19.stratified_ds.2022A.pkl",
       "source_or_target_dataset": "source",
       "x_transforms": [
        "unit_power"
       ]
      },
      {
       "domain_prefix": "ORACLE.run1",
       "domains": [
        32,
        38,
        8,
        44,
        14,
        50,
        20,
        26
       ],
       "episode_transforms": [],
       "labels": [
        "3123D52",
        "3123D65",
        "3123D79",
        "3123D80",
        "3123D54",
        "3123D70",
        "3123D7B",
        "3123D89",
        "3123D58",
        "3123D76",
        "3123D7D",
        "3123EFE",
        "3123D64",
        "3123D78",
        "3123D7E",
        "3124E4A"
       ],
       "num_examples_per_domain_per_label": 2000,
       "pickle_path": "/root/csc500-main/datasets/oracle.Run1_framed_2000Examples_stratified_ds.2022A.pkl",
       "source_or_target_dataset": "target",
       "x_transforms": [
        "unit_power"
       ]
      }
     ],
     "device": "cuda",
     "experiment_name": "tl_1v2:wisig-oracle.run1.framed",
     "lr": 0.0001,
     "n_epoch": 50,
     "n_query": 2,
     "n_shot": 3,
     "n_way": 16,
     "patience": 3,
     "seed": 7,
     "test_k_factor": 2,
     "torch_default_dtype": "torch.float32",
     "train_k_factor": 3,
     "val_k_factor": 2,
     "x_net": [
      {
       "class": "nnReshape",
       "kargs": {
        "shape": [
         -1,
         1,
         2,
         256
        ]
       }
      },
      {
       "class": "Conv2d",
       "kargs": {
        "bias": false,
        "in_channels": 1,
        "kernel_size": [
         1,
         7
        ],
        "out_channels": 256,
        "padding": [
         0,
         3
        ]
       }
      },
      {
       "class": "ReLU",
       "kargs": {
        "inplace": true
       }
      },
      {
       "class": "BatchNorm2d",
       "kargs": {
        "num_features": 256
       }
      },
      {
       "class": "Conv2d",
       "kargs": {
        "bias": true,
        "in_channels": 256,
        "kernel_size": [
         2,
         7
        ],
        "out_channels": 80,
        "padding": [
         0,
         3
        ]
       }
      },
      {
       "class": "ReLU",
       "kargs": {
        "inplace": true
       }
      },
      {
       "class": "BatchNorm2d",
       "kargs": {
        "num_features": 80
       }
      },
      {
       "class": "Flatten",
       "kargs": {}
      },
      {
       "class": "Linear",
       "kargs": {
        "in_features": 20480,
        "out_features": 256
       }
      },
      {
       "class": "ReLU",
       "kargs": {
        "inplace": true
       }
      },
      {
       "class": "BatchNorm1d",
       "kargs": {
        "num_features": 256
       }
      },
      {
       "class": "Linear",
       "kargs": {
        "in_features": 256,
        "out_features": 256
       }
      }
     ]
    }
   },
   "start_time": "2022-03-21T13:46:50.032131",
   "version": "2.3.4"
  }
 },
 "nbformat": 4,
 "nbformat_minor": 5
}