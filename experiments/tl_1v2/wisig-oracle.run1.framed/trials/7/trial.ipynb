{
 "cells": [
  {
   "cell_type": "markdown",
   "id": "9fea5f46",
   "metadata": {
    "papermill": {
     "duration": 0.029566,
     "end_time": "2022-03-21T08:01:51.630222",
     "exception": false,
     "start_time": "2022-03-21T08:01:51.600656",
     "status": "completed"
    },
    "tags": []
   },
   "source": [
    "# Transfer Learning Template"
   ]
  },
  {
   "cell_type": "code",
   "execution_count": 1,
   "id": "0902182a",
   "metadata": {
    "execution": {
     "iopub.execute_input": "2022-03-21T08:01:51.693417Z",
     "iopub.status.busy": "2022-03-21T08:01:51.692501Z",
     "iopub.status.idle": "2022-03-21T08:01:53.619468Z",
     "shell.execute_reply": "2022-03-21T08:01:53.618995Z"
    },
    "papermill": {
     "duration": 1.967246,
     "end_time": "2022-03-21T08:01:53.619616",
     "exception": false,
     "start_time": "2022-03-21T08:01:51.652370",
     "status": "completed"
    },
    "tags": []
   },
   "outputs": [],
   "source": [
    "%load_ext autoreload\n",
    "%autoreload 2\n",
    "%matplotlib inline\n",
    "\n",
    "    \n",
    "import os, json, sys, time, random\n",
    "import numpy as np\n",
    "import torch\n",
    "from torch.optim import Adam\n",
    "from  easydict import EasyDict\n",
    "import matplotlib.pyplot as plt\n",
    "\n",
    "from steves_models.steves_ptn import Steves_Prototypical_Network\n",
    "\n",
    "from steves_utils.lazy_iterable_wrapper import Lazy_Iterable_Wrapper\n",
    "from steves_utils.iterable_aggregator import Iterable_Aggregator\n",
    "from steves_utils.ptn_train_eval_test_jig import  PTN_Train_Eval_Test_Jig\n",
    "from steves_utils.torch_sequential_builder import build_sequential\n",
    "from steves_utils.torch_utils import get_dataset_metrics, ptn_confusion_by_domain_over_dataloader\n",
    "from steves_utils.utils_v2 import (per_domain_accuracy_from_confusion, get_datasets_base_path)\n",
    "from steves_utils.PTN.utils import independent_accuracy_assesment\n",
    "\n",
    "from torch.utils.data import DataLoader\n",
    "\n",
    "from steves_utils.stratified_dataset.episodic_accessor import Episodic_Accessor_Factory\n",
    "\n",
    "from steves_utils.ptn_do_report import (\n",
    "    get_loss_curve,\n",
    "    get_results_table,\n",
    "    get_parameters_table,\n",
    "    get_domain_accuracies,\n",
    ")\n",
    "\n",
    "from steves_utils.transforms import get_chained_transform"
   ]
  },
  {
   "cell_type": "markdown",
   "id": "41c840b4",
   "metadata": {
    "papermill": {
     "duration": 0.02456,
     "end_time": "2022-03-21T08:01:53.674341",
     "exception": false,
     "start_time": "2022-03-21T08:01:53.649781",
     "status": "completed"
    },
    "tags": []
   },
   "source": [
    "# Allowed Parameters\n",
    "These are allowed parameters, not defaults\n",
    "Each of these values need to be present in the injected parameters (the notebook will raise an exception if they are not present)\n",
    "\n",
    "Papermill uses the cell tag \"parameters\" to inject the real parameters below this cell.\n",
    "Enable tags to see what I mean"
   ]
  },
  {
   "cell_type": "code",
   "execution_count": 2,
   "id": "fd44eb83",
   "metadata": {
    "execution": {
     "iopub.execute_input": "2022-03-21T08:01:53.726225Z",
     "iopub.status.busy": "2022-03-21T08:01:53.725700Z",
     "iopub.status.idle": "2022-03-21T08:01:53.748243Z",
     "shell.execute_reply": "2022-03-21T08:01:53.747422Z"
    },
    "papermill": {
     "duration": 0.050613,
     "end_time": "2022-03-21T08:01:53.748342",
     "exception": false,
     "start_time": "2022-03-21T08:01:53.697729",
     "status": "completed"
    },
    "tags": []
   },
   "outputs": [],
   "source": [
    "required_parameters = {\n",
    "    \"experiment_name\",\n",
    "    \"lr\",\n",
    "    \"device\",\n",
    "    \"seed\",\n",
    "    \"dataset_seed\",\n",
    "    \"n_shot\",\n",
    "    \"n_query\",\n",
    "    \"n_way\",\n",
    "    \"train_k_factor\",\n",
    "    \"val_k_factor\",\n",
    "    \"test_k_factor\",\n",
    "    \"n_epoch\",\n",
    "    \"patience\",\n",
    "    \"criteria_for_best\",\n",
    "    \"x_net\",\n",
    "    \"datasets\",\n",
    "    \"torch_default_dtype\",\n",
    "    \"NUM_LOGS_PER_EPOCH\",\n",
    "    \"BEST_MODEL_PATH\",\n",
    "    \"x_shape\",\n",
    "}"
   ]
  },
  {
   "cell_type": "code",
   "execution_count": 3,
   "id": "fa3f0049",
   "metadata": {
    "execution": {
     "iopub.execute_input": "2022-03-21T08:01:53.806499Z",
     "iopub.status.busy": "2022-03-21T08:01:53.803103Z",
     "iopub.status.idle": "2022-03-21T08:01:53.831256Z",
     "shell.execute_reply": "2022-03-21T08:01:53.830609Z"
    },
    "papermill": {
     "duration": 0.058629,
     "end_time": "2022-03-21T08:01:53.831377",
     "exception": false,
     "start_time": "2022-03-21T08:01:53.772748",
     "status": "completed"
    },
    "tags": [
     "parameters"
    ]
   },
   "outputs": [],
   "source": [
    "from steves_utils.CORES.utils import (\n",
    "    ALL_NODES,\n",
    "    ALL_NODES_MINIMUM_1000_EXAMPLES,\n",
    "    ALL_DAYS\n",
    ")\n",
    "\n",
    "from steves_utils.ORACLE.utils_v2 import (\n",
    "    ALL_DISTANCES_FEET_NARROWED,\n",
    "    ALL_RUNS,\n",
    "    ALL_SERIAL_NUMBERS,\n",
    ")\n",
    "\n",
    "standalone_parameters = {}\n",
    "standalone_parameters[\"experiment_name\"] = \"STANDALONE PTN\"\n",
    "standalone_parameters[\"lr\"] = 0.001\n",
    "standalone_parameters[\"device\"] = \"cuda\"\n",
    "\n",
    "standalone_parameters[\"seed\"] = 1337\n",
    "standalone_parameters[\"dataset_seed\"] = 1337\n",
    "\n",
    "standalone_parameters[\"n_way\"] = 8\n",
    "standalone_parameters[\"n_shot\"] = 3\n",
    "standalone_parameters[\"n_query\"]  = 2\n",
    "standalone_parameters[\"train_k_factor\"] = 1\n",
    "standalone_parameters[\"val_k_factor\"] = 2\n",
    "standalone_parameters[\"test_k_factor\"] = 2\n",
    "\n",
    "\n",
    "standalone_parameters[\"n_epoch\"] = 50\n",
    "\n",
    "standalone_parameters[\"patience\"] = 10\n",
    "standalone_parameters[\"criteria_for_best\"] = \"source_loss\"\n",
    "\n",
    "standalone_parameters[\"datasets\"] = [\n",
    "    {\n",
    "        \"labels\": ALL_SERIAL_NUMBERS,\n",
    "        \"domains\": ALL_DISTANCES_FEET_NARROWED,\n",
    "        \"num_examples_per_domain_per_label\": 100,\n",
    "        \"pickle_path\": os.path.join(get_datasets_base_path(), \"oracle.Run1_framed_2000Examples_stratified_ds.2022A.pkl\"),\n",
    "        \"source_or_target_dataset\": \"source\",\n",
    "        \"x_transforms\": [\"unit_mag\", \"minus_two\"],\n",
    "        \"episode_transforms\": [],\n",
    "        \"domain_prefix\": \"ORACLE_\"\n",
    "    },\n",
    "    {\n",
    "        \"labels\": ALL_NODES,\n",
    "        \"domains\": ALL_DAYS,\n",
    "        \"num_examples_per_domain_per_label\": 100,\n",
    "        \"pickle_path\": os.path.join(get_datasets_base_path(), \"cores.stratified_ds.2022A.pkl\"),\n",
    "        \"source_or_target_dataset\": \"target\",\n",
    "        \"x_transforms\": [\"unit_power\", \"times_zero\"],\n",
    "        \"episode_transforms\": [],\n",
    "        \"domain_prefix\": \"CORES_\"\n",
    "    }   \n",
    "]\n",
    "\n",
    "standalone_parameters[\"torch_default_dtype\"] = \"torch.float32\" \n",
    "\n",
    "\n",
    "\n",
    "standalone_parameters[\"x_net\"] =     [\n",
    "    {\"class\": \"nnReshape\", \"kargs\": {\"shape\":[-1, 1, 2, 256]}},\n",
    "    {\"class\": \"Conv2d\", \"kargs\": { \"in_channels\":1, \"out_channels\":256, \"kernel_size\":(1,7), \"bias\":False, \"padding\":(0,3), },},\n",
    "    {\"class\": \"ReLU\", \"kargs\": {\"inplace\": True}},\n",
    "    {\"class\": \"BatchNorm2d\", \"kargs\": {\"num_features\":256}},\n",
    "\n",
    "    {\"class\": \"Conv2d\", \"kargs\": { \"in_channels\":256, \"out_channels\":80, \"kernel_size\":(2,7), \"bias\":True, \"padding\":(0,3), },},\n",
    "    {\"class\": \"ReLU\", \"kargs\": {\"inplace\": True}},\n",
    "    {\"class\": \"BatchNorm2d\", \"kargs\": {\"num_features\":80}},\n",
    "    {\"class\": \"Flatten\", \"kargs\": {}},\n",
    "\n",
    "    {\"class\": \"Linear\", \"kargs\": {\"in_features\": 80*256, \"out_features\": 256}}, # 80 units per IQ pair\n",
    "    {\"class\": \"ReLU\", \"kargs\": {\"inplace\": True}},\n",
    "    {\"class\": \"BatchNorm1d\", \"kargs\": {\"num_features\":256}},\n",
    "\n",
    "    {\"class\": \"Linear\", \"kargs\": {\"in_features\": 256, \"out_features\": 256}},\n",
    "]\n",
    "\n",
    "# Parameters relevant to results\n",
    "# These parameters will basically never need to change\n",
    "standalone_parameters[\"NUM_LOGS_PER_EPOCH\"] = 10\n",
    "standalone_parameters[\"BEST_MODEL_PATH\"] = \"./best_model.pth\"\n",
    "\n",
    "\n",
    "\n",
    "\n"
   ]
  },
  {
   "cell_type": "code",
   "execution_count": 4,
   "id": "ab75c804",
   "metadata": {
    "execution": {
     "iopub.execute_input": "2022-03-21T08:01:53.889431Z",
     "iopub.status.busy": "2022-03-21T08:01:53.888423Z",
     "iopub.status.idle": "2022-03-21T08:01:53.913077Z",
     "shell.execute_reply": "2022-03-21T08:01:53.912370Z"
    },
    "papermill": {
     "duration": 0.055495,
     "end_time": "2022-03-21T08:01:53.913241",
     "exception": false,
     "start_time": "2022-03-21T08:01:53.857746",
     "status": "completed"
    },
    "tags": [
     "injected-parameters"
    ]
   },
   "outputs": [],
   "source": [
    "# Parameters\n",
    "parameters = {\n",
    "    \"experiment_name\": \"tl_1v2:wisig-oracle.run1.framed\",\n",
    "    \"device\": \"cuda\",\n",
    "    \"lr\": 0.0001,\n",
    "    \"n_shot\": 3,\n",
    "    \"n_query\": 2,\n",
    "    \"train_k_factor\": 3,\n",
    "    \"val_k_factor\": 2,\n",
    "    \"test_k_factor\": 2,\n",
    "    \"torch_default_dtype\": \"torch.float32\",\n",
    "    \"n_epoch\": 50,\n",
    "    \"patience\": 3,\n",
    "    \"criteria_for_best\": \"target_accuracy\",\n",
    "    \"x_net\": [\n",
    "        {\"class\": \"nnReshape\", \"kargs\": {\"shape\": [-1, 1, 2, 256]}},\n",
    "        {\n",
    "            \"class\": \"Conv2d\",\n",
    "            \"kargs\": {\n",
    "                \"in_channels\": 1,\n",
    "                \"out_channels\": 256,\n",
    "                \"kernel_size\": [1, 7],\n",
    "                \"bias\": False,\n",
    "                \"padding\": [0, 3],\n",
    "            },\n",
    "        },\n",
    "        {\"class\": \"ReLU\", \"kargs\": {\"inplace\": True}},\n",
    "        {\"class\": \"BatchNorm2d\", \"kargs\": {\"num_features\": 256}},\n",
    "        {\n",
    "            \"class\": \"Conv2d\",\n",
    "            \"kargs\": {\n",
    "                \"in_channels\": 256,\n",
    "                \"out_channels\": 80,\n",
    "                \"kernel_size\": [2, 7],\n",
    "                \"bias\": True,\n",
    "                \"padding\": [0, 3],\n",
    "            },\n",
    "        },\n",
    "        {\"class\": \"ReLU\", \"kargs\": {\"inplace\": True}},\n",
    "        {\"class\": \"BatchNorm2d\", \"kargs\": {\"num_features\": 80}},\n",
    "        {\"class\": \"Flatten\", \"kargs\": {}},\n",
    "        {\"class\": \"Linear\", \"kargs\": {\"in_features\": 20480, \"out_features\": 256}},\n",
    "        {\"class\": \"ReLU\", \"kargs\": {\"inplace\": True}},\n",
    "        {\"class\": \"BatchNorm1d\", \"kargs\": {\"num_features\": 256}},\n",
    "        {\"class\": \"Linear\", \"kargs\": {\"in_features\": 256, \"out_features\": 256}},\n",
    "    ],\n",
    "    \"NUM_LOGS_PER_EPOCH\": 10,\n",
    "    \"BEST_MODEL_PATH\": \"./best_model.pth\",\n",
    "    \"n_way\": 16,\n",
    "    \"datasets\": [\n",
    "        {\n",
    "            \"labels\": [\n",
    "                \"1-10\",\n",
    "                \"1-12\",\n",
    "                \"1-14\",\n",
    "                \"1-16\",\n",
    "                \"1-18\",\n",
    "                \"1-19\",\n",
    "                \"1-8\",\n",
    "                \"10-11\",\n",
    "                \"10-17\",\n",
    "                \"10-4\",\n",
    "                \"10-7\",\n",
    "                \"11-1\",\n",
    "                \"11-10\",\n",
    "                \"11-19\",\n",
    "                \"11-20\",\n",
    "                \"11-4\",\n",
    "                \"11-7\",\n",
    "                \"12-19\",\n",
    "                \"12-20\",\n",
    "                \"12-7\",\n",
    "                \"13-14\",\n",
    "                \"13-18\",\n",
    "                \"13-19\",\n",
    "                \"13-20\",\n",
    "                \"13-3\",\n",
    "                \"13-7\",\n",
    "                \"14-10\",\n",
    "                \"14-11\",\n",
    "                \"14-12\",\n",
    "                \"14-13\",\n",
    "                \"14-14\",\n",
    "                \"14-19\",\n",
    "                \"14-20\",\n",
    "                \"14-7\",\n",
    "                \"14-8\",\n",
    "                \"14-9\",\n",
    "                \"15-1\",\n",
    "                \"15-19\",\n",
    "                \"15-6\",\n",
    "                \"16-1\",\n",
    "                \"16-16\",\n",
    "                \"16-19\",\n",
    "                \"16-20\",\n",
    "                \"17-10\",\n",
    "                \"17-11\",\n",
    "                \"18-1\",\n",
    "                \"18-10\",\n",
    "                \"18-11\",\n",
    "                \"18-12\",\n",
    "                \"18-13\",\n",
    "                \"18-14\",\n",
    "                \"18-15\",\n",
    "                \"18-16\",\n",
    "                \"18-17\",\n",
    "                \"18-19\",\n",
    "                \"18-2\",\n",
    "                \"18-20\",\n",
    "                \"18-4\",\n",
    "                \"18-5\",\n",
    "                \"18-7\",\n",
    "                \"18-8\",\n",
    "                \"18-9\",\n",
    "                \"19-1\",\n",
    "                \"19-10\",\n",
    "                \"19-11\",\n",
    "                \"19-12\",\n",
    "                \"19-13\",\n",
    "                \"19-14\",\n",
    "                \"19-15\",\n",
    "                \"19-19\",\n",
    "                \"19-2\",\n",
    "                \"19-20\",\n",
    "                \"19-3\",\n",
    "                \"19-4\",\n",
    "                \"19-6\",\n",
    "                \"19-7\",\n",
    "                \"19-8\",\n",
    "                \"19-9\",\n",
    "                \"2-1\",\n",
    "                \"2-13\",\n",
    "                \"2-15\",\n",
    "                \"2-3\",\n",
    "                \"2-4\",\n",
    "                \"2-5\",\n",
    "                \"2-6\",\n",
    "                \"2-7\",\n",
    "                \"2-8\",\n",
    "                \"20-1\",\n",
    "                \"20-12\",\n",
    "                \"20-14\",\n",
    "                \"20-15\",\n",
    "                \"20-16\",\n",
    "                \"20-18\",\n",
    "                \"20-19\",\n",
    "                \"20-20\",\n",
    "                \"20-3\",\n",
    "                \"20-4\",\n",
    "                \"20-5\",\n",
    "                \"20-7\",\n",
    "                \"20-8\",\n",
    "                \"3-1\",\n",
    "                \"3-13\",\n",
    "                \"3-18\",\n",
    "                \"3-2\",\n",
    "                \"3-8\",\n",
    "                \"4-1\",\n",
    "                \"4-10\",\n",
    "                \"4-11\",\n",
    "                \"5-1\",\n",
    "                \"5-5\",\n",
    "                \"6-1\",\n",
    "                \"6-15\",\n",
    "                \"6-6\",\n",
    "                \"7-10\",\n",
    "                \"7-11\",\n",
    "                \"7-12\",\n",
    "                \"7-13\",\n",
    "                \"7-14\",\n",
    "                \"7-7\",\n",
    "                \"7-8\",\n",
    "                \"7-9\",\n",
    "                \"8-1\",\n",
    "                \"8-13\",\n",
    "                \"8-14\",\n",
    "                \"8-18\",\n",
    "                \"8-20\",\n",
    "                \"8-3\",\n",
    "                \"8-8\",\n",
    "                \"9-1\",\n",
    "                \"9-7\",\n",
    "            ],\n",
    "            \"domains\": [1, 2, 3, 4],\n",
    "            \"num_examples_per_domain_per_label\": -1,\n",
    "            \"pickle_path\": \"/root/csc500-main/datasets/wisig.node3-19.stratified_ds.2022A.pkl\",\n",
    "            \"source_or_target_dataset\": \"source\",\n",
    "            \"x_transforms\": [\"unit_mag\"],\n",
    "            \"episode_transforms\": [],\n",
    "            \"domain_prefix\": \"Wisig_\",\n",
    "        },\n",
    "        {\n",
    "            \"labels\": [\n",
    "                \"3123D52\",\n",
    "                \"3123D65\",\n",
    "                \"3123D79\",\n",
    "                \"3123D80\",\n",
    "                \"3123D54\",\n",
    "                \"3123D70\",\n",
    "                \"3123D7B\",\n",
    "                \"3123D89\",\n",
    "                \"3123D58\",\n",
    "                \"3123D76\",\n",
    "                \"3123D7D\",\n",
    "                \"3123EFE\",\n",
    "                \"3123D64\",\n",
    "                \"3123D78\",\n",
    "                \"3123D7E\",\n",
    "                \"3124E4A\",\n",
    "            ],\n",
    "            \"domains\": [32, 38, 8, 44, 14, 50, 20, 26],\n",
    "            \"num_examples_per_domain_per_label\": 2000,\n",
    "            \"pickle_path\": \"/root/csc500-main/datasets/oracle.Run1_framed_2000Examples_stratified_ds.2022A.pkl\",\n",
    "            \"source_or_target_dataset\": \"target\",\n",
    "            \"x_transforms\": [\"unit_mag\"],\n",
    "            \"episode_transforms\": [],\n",
    "            \"domain_prefix\": \"ORACLE.run1\",\n",
    "        },\n",
    "    ],\n",
    "    \"dataset_seed\": 420,\n",
    "    \"seed\": 420,\n",
    "}\n"
   ]
  },
  {
   "cell_type": "code",
   "execution_count": 5,
   "id": "8fa1cc33",
   "metadata": {
    "execution": {
     "iopub.execute_input": "2022-03-21T08:01:53.963414Z",
     "iopub.status.busy": "2022-03-21T08:01:53.962895Z",
     "iopub.status.idle": "2022-03-21T08:01:53.985157Z",
     "shell.execute_reply": "2022-03-21T08:01:53.985823Z"
    },
    "papermill": {
     "duration": 0.046949,
     "end_time": "2022-03-21T08:01:53.986014",
     "exception": false,
     "start_time": "2022-03-21T08:01:53.939065",
     "status": "completed"
    },
    "tags": []
   },
   "outputs": [],
   "source": [
    "# Set this to True if you want to run this template directly\n",
    "STANDALONE = False\n",
    "if STANDALONE:\n",
    "    print(\"parameters not injected, running with standalone_parameters\")\n",
    "    parameters = standalone_parameters\n",
    "\n",
    "if not 'parameters' in locals() and not 'parameters' in globals():\n",
    "    raise Exception(\"Parameter injection failed\")\n",
    "\n",
    "#Use an easy dict for all the parameters\n",
    "p = EasyDict(parameters)\n",
    "\n",
    "if \"x_shape\" not in p:\n",
    "    p.x_shape = [2,256] # Default to this if we dont supply x_shape\n",
    "\n",
    "\n",
    "supplied_keys = set(p.keys())\n",
    "\n",
    "if  supplied_keys != required_parameters:\n",
    "    print(\"Parameters are incorrect\")\n",
    "    if len(supplied_keys - required_parameters)>0: print(\"Shouldn't have:\", str(supplied_keys - required_parameters))\n",
    "    if len(required_parameters - supplied_keys)>0: print(\"Need to have:\", str(required_parameters - supplied_keys))\n",
    "    raise RuntimeError(\"Parameters are incorrect\")"
   ]
  },
  {
   "cell_type": "code",
   "execution_count": 6,
   "id": "3a028d58",
   "metadata": {
    "execution": {
     "iopub.execute_input": "2022-03-21T08:01:54.034470Z",
     "iopub.status.busy": "2022-03-21T08:01:54.034101Z",
     "iopub.status.idle": "2022-03-21T08:01:54.055817Z",
     "shell.execute_reply": "2022-03-21T08:01:54.056484Z"
    },
    "papermill": {
     "duration": 0.044566,
     "end_time": "2022-03-21T08:01:54.056673",
     "exception": false,
     "start_time": "2022-03-21T08:01:54.012107",
     "status": "completed"
    },
    "tags": []
   },
   "outputs": [],
   "source": [
    "###################################\n",
    "# Set the RNGs and make it all deterministic\n",
    "###################################\n",
    "np.random.seed(p.seed)\n",
    "random.seed(p.seed)\n",
    "torch.manual_seed(p.seed)\n",
    "\n",
    "torch.use_deterministic_algorithms(True) "
   ]
  },
  {
   "cell_type": "code",
   "execution_count": 7,
   "id": "b691acf6",
   "metadata": {
    "execution": {
     "iopub.execute_input": "2022-03-21T08:01:54.105299Z",
     "iopub.status.busy": "2022-03-21T08:01:54.104927Z",
     "iopub.status.idle": "2022-03-21T08:01:54.126041Z",
     "shell.execute_reply": "2022-03-21T08:01:54.125337Z"
    },
    "papermill": {
     "duration": 0.043371,
     "end_time": "2022-03-21T08:01:54.126201",
     "exception": false,
     "start_time": "2022-03-21T08:01:54.082830",
     "status": "completed"
    },
    "tags": []
   },
   "outputs": [],
   "source": [
    "###########################################\n",
    "# The stratified datasets honor this\n",
    "###########################################\n",
    "torch.set_default_dtype(eval(p.torch_default_dtype))"
   ]
  },
  {
   "cell_type": "code",
   "execution_count": 8,
   "id": "b5fba671",
   "metadata": {
    "execution": {
     "iopub.execute_input": "2022-03-21T08:01:54.173715Z",
     "iopub.status.busy": "2022-03-21T08:01:54.173346Z",
     "iopub.status.idle": "2022-03-21T08:01:54.228118Z",
     "shell.execute_reply": "2022-03-21T08:01:54.228794Z"
    },
    "papermill": {
     "duration": 0.077346,
     "end_time": "2022-03-21T08:01:54.229000",
     "exception": false,
     "start_time": "2022-03-21T08:01:54.151654",
     "status": "completed"
    },
    "tags": []
   },
   "outputs": [],
   "source": [
    "###################################\n",
    "# Build the network(s)\n",
    "# Note: It's critical to do this AFTER setting the RNG\n",
    "###################################\n",
    "x_net = build_sequential(p.x_net)"
   ]
  },
  {
   "cell_type": "code",
   "execution_count": 9,
   "id": "5d7e61cc",
   "metadata": {
    "execution": {
     "iopub.execute_input": "2022-03-21T08:01:54.278437Z",
     "iopub.status.busy": "2022-03-21T08:01:54.278068Z",
     "iopub.status.idle": "2022-03-21T08:01:54.300044Z",
     "shell.execute_reply": "2022-03-21T08:01:54.300714Z"
    },
    "papermill": {
     "duration": 0.045494,
     "end_time": "2022-03-21T08:01:54.300915",
     "exception": false,
     "start_time": "2022-03-21T08:01:54.255421",
     "status": "completed"
    },
    "tags": []
   },
   "outputs": [],
   "source": [
    "start_time_secs = time.time()"
   ]
  },
  {
   "cell_type": "code",
   "execution_count": 10,
   "id": "c6b67dfd",
   "metadata": {
    "execution": {
     "iopub.execute_input": "2022-03-21T08:01:54.351131Z",
     "iopub.status.busy": "2022-03-21T08:01:54.350760Z",
     "iopub.status.idle": "2022-03-21T08:01:54.370873Z",
     "shell.execute_reply": "2022-03-21T08:01:54.371566Z"
    },
    "papermill": {
     "duration": 0.044089,
     "end_time": "2022-03-21T08:01:54.371763",
     "exception": false,
     "start_time": "2022-03-21T08:01:54.327674",
     "status": "completed"
    },
    "tags": []
   },
   "outputs": [],
   "source": [
    "p.domains_source = []\n",
    "p.domains_target = []\n",
    "\n",
    "\n",
    "train_original_source = []\n",
    "val_original_source   = []\n",
    "test_original_source  = []\n",
    "\n",
    "train_original_target = []\n",
    "val_original_target   = []\n",
    "test_original_target  = []"
   ]
  },
  {
   "cell_type": "code",
   "execution_count": 11,
   "id": "e3d9c3d3",
   "metadata": {
    "execution": {
     "iopub.execute_input": "2022-03-21T08:01:54.422739Z",
     "iopub.status.busy": "2022-03-21T08:01:54.422367Z",
     "iopub.status.idle": "2022-03-21T08:01:54.449025Z",
     "shell.execute_reply": "2022-03-21T08:01:54.448208Z"
    },
    "papermill": {
     "duration": 0.050117,
     "end_time": "2022-03-21T08:01:54.449193",
     "exception": false,
     "start_time": "2022-03-21T08:01:54.399076",
     "status": "completed"
    },
    "tags": []
   },
   "outputs": [],
   "source": [
    "# global_x_transform_func = lambda x: normalize(x.to(torch.get_default_dtype()), \"unit_power\") # unit_power, unit_mag\n",
    "# global_x_transform_func = lambda x: normalize(x, \"unit_power\") # unit_power, unit_mag"
   ]
  },
  {
   "cell_type": "code",
   "execution_count": 12,
   "id": "acb78fd2",
   "metadata": {
    "execution": {
     "iopub.execute_input": "2022-03-21T08:01:54.507174Z",
     "iopub.status.busy": "2022-03-21T08:01:54.506508Z",
     "iopub.status.idle": "2022-03-21T08:01:54.530245Z",
     "shell.execute_reply": "2022-03-21T08:01:54.529437Z"
    },
    "papermill": {
     "duration": 0.054836,
     "end_time": "2022-03-21T08:01:54.530414",
     "exception": false,
     "start_time": "2022-03-21T08:01:54.475578",
     "status": "completed"
    },
    "tags": []
   },
   "outputs": [],
   "source": [
    "def add_dataset(\n",
    "    labels,\n",
    "    domains,\n",
    "    pickle_path,\n",
    "    x_transforms,\n",
    "    episode_transforms,\n",
    "    domain_prefix,\n",
    "    num_examples_per_domain_per_label,\n",
    "    source_or_target_dataset:str,\n",
    "    iterator_seed=p.seed,\n",
    "    dataset_seed=p.dataset_seed,\n",
    "    n_shot=p.n_shot,\n",
    "    n_way=p.n_way,\n",
    "    n_query=p.n_query,\n",
    "    train_val_test_k_factors=(p.train_k_factor,p.val_k_factor,p.test_k_factor),\n",
    "):\n",
    "   \n",
    "    if x_transforms == []: x_transform = None\n",
    "    else: x_transform = get_chained_transform(x_transforms)\n",
    "    \n",
    "    if episode_transforms == []: episode_transform = None\n",
    "    else: raise Exception(\"episode_transforms not implemented\")\n",
    "    \n",
    "    episode_transform = lambda tup, _prefix=domain_prefix: (_prefix + str(tup[0]), tup[1])\n",
    "\n",
    "\n",
    "    eaf = Episodic_Accessor_Factory(\n",
    "        labels=labels,\n",
    "        domains=domains,\n",
    "        num_examples_per_domain_per_label=num_examples_per_domain_per_label,\n",
    "        iterator_seed=iterator_seed,\n",
    "        dataset_seed=dataset_seed,\n",
    "        n_shot=n_shot,\n",
    "        n_way=n_way,\n",
    "        n_query=n_query,\n",
    "        train_val_test_k_factors=train_val_test_k_factors,\n",
    "        pickle_path=pickle_path,\n",
    "        x_transform_func=x_transform,\n",
    "    )\n",
    "\n",
    "    train, val, test = eaf.get_train(), eaf.get_val(), eaf.get_test()\n",
    "    train = Lazy_Iterable_Wrapper(train, episode_transform)\n",
    "    val = Lazy_Iterable_Wrapper(val, episode_transform)\n",
    "    test = Lazy_Iterable_Wrapper(test, episode_transform)\n",
    "\n",
    "    if source_or_target_dataset==\"source\":\n",
    "        train_original_source.append(train)\n",
    "        val_original_source.append(val)\n",
    "        test_original_source.append(test)\n",
    "\n",
    "        p.domains_source.extend(\n",
    "            [domain_prefix + str(u) for u in domains]\n",
    "        )\n",
    "    elif source_or_target_dataset==\"target\":\n",
    "        train_original_target.append(train)\n",
    "        val_original_target.append(val)\n",
    "        test_original_target.append(test)\n",
    "        p.domains_target.extend(\n",
    "            [domain_prefix + str(u) for u in domains]\n",
    "        )\n",
    "    else:\n",
    "        raise Exception(f\"invalid source_or_target_dataset: {source_or_target_dataset}\")\n",
    "    "
   ]
  },
  {
   "cell_type": "code",
   "execution_count": 13,
   "id": "fe266617",
   "metadata": {
    "execution": {
     "iopub.execute_input": "2022-03-21T08:01:54.582826Z",
     "iopub.status.busy": "2022-03-21T08:01:54.582455Z",
     "iopub.status.idle": "2022-03-21T08:02:38.114964Z",
     "shell.execute_reply": "2022-03-21T08:02:38.114190Z"
    },
    "papermill": {
     "duration": 43.556459,
     "end_time": "2022-03-21T08:02:38.115153",
     "exception": false,
     "start_time": "2022-03-21T08:01:54.558694",
     "status": "completed"
    },
    "tags": []
   },
   "outputs": [],
   "source": [
    "for ds in p.datasets:\n",
    "    add_dataset(**ds)"
   ]
  },
  {
   "cell_type": "code",
   "execution_count": 14,
   "id": "b90d65ac",
   "metadata": {
    "execution": {
     "iopub.execute_input": "2022-03-21T08:02:38.168114Z",
     "iopub.status.busy": "2022-03-21T08:02:38.167740Z",
     "iopub.status.idle": "2022-03-21T08:02:38.195052Z",
     "shell.execute_reply": "2022-03-21T08:02:38.194259Z"
    },
    "papermill": {
     "duration": 0.051401,
     "end_time": "2022-03-21T08:02:38.195210",
     "exception": false,
     "start_time": "2022-03-21T08:02:38.143809",
     "status": "completed"
    },
    "tags": []
   },
   "outputs": [],
   "source": [
    "# from steves_utils.CORES.utils import (\n",
    "#     ALL_NODES,\n",
    "#     ALL_NODES_MINIMUM_1000_EXAMPLES,\n",
    "#     ALL_DAYS\n",
    "# )\n",
    "\n",
    "# add_dataset(\n",
    "#     labels=ALL_NODES,\n",
    "#     domains = ALL_DAYS,\n",
    "#     num_examples_per_domain_per_label=100,\n",
    "#     pickle_path=os.path.join(get_datasets_base_path(), \"cores.stratified_ds.2022A.pkl\"),\n",
    "#     source_or_target_dataset=\"target\",\n",
    "#     x_transform_func=global_x_transform_func,\n",
    "#     domain_modifier=lambda u: f\"cores_{u}\"\n",
    "# )"
   ]
  },
  {
   "cell_type": "code",
   "execution_count": 15,
   "id": "76db484d",
   "metadata": {
    "execution": {
     "iopub.execute_input": "2022-03-21T08:02:38.250566Z",
     "iopub.status.busy": "2022-03-21T08:02:38.250191Z",
     "iopub.status.idle": "2022-03-21T08:02:38.271141Z",
     "shell.execute_reply": "2022-03-21T08:02:38.270344Z"
    },
    "papermill": {
     "duration": 0.045402,
     "end_time": "2022-03-21T08:02:38.271295",
     "exception": false,
     "start_time": "2022-03-21T08:02:38.225893",
     "status": "completed"
    },
    "tags": []
   },
   "outputs": [],
   "source": [
    "# from steves_utils.ORACLE.utils_v2 import (\n",
    "#     ALL_DISTANCES_FEET,\n",
    "#     ALL_RUNS,\n",
    "#     ALL_SERIAL_NUMBERS,\n",
    "# )\n",
    "\n",
    "\n",
    "# add_dataset(\n",
    "#     labels=ALL_SERIAL_NUMBERS,\n",
    "#     domains = list(set(ALL_DISTANCES_FEET) - {2,62}),\n",
    "#     num_examples_per_domain_per_label=100,\n",
    "#     pickle_path=os.path.join(get_datasets_base_path(), \"oracle.Run2_framed_2000Examples_stratified_ds.2022A.pkl\"),\n",
    "#     source_or_target_dataset=\"source\",\n",
    "#     x_transform_func=global_x_transform_func,\n",
    "#     domain_modifier=lambda u: f\"oracle1_{u}\"\n",
    "# )\n"
   ]
  },
  {
   "cell_type": "code",
   "execution_count": 16,
   "id": "97dea9d2",
   "metadata": {
    "execution": {
     "iopub.execute_input": "2022-03-21T08:02:38.333430Z",
     "iopub.status.busy": "2022-03-21T08:02:38.325961Z",
     "iopub.status.idle": "2022-03-21T08:02:38.345779Z",
     "shell.execute_reply": "2022-03-21T08:02:38.344986Z"
    },
    "papermill": {
     "duration": 0.043723,
     "end_time": "2022-03-21T08:02:38.345933",
     "exception": false,
     "start_time": "2022-03-21T08:02:38.302210",
     "status": "completed"
    },
    "tags": []
   },
   "outputs": [],
   "source": [
    "# from steves_utils.ORACLE.utils_v2 import (\n",
    "#     ALL_DISTANCES_FEET,\n",
    "#     ALL_RUNS,\n",
    "#     ALL_SERIAL_NUMBERS,\n",
    "# )\n",
    "\n",
    "\n",
    "# add_dataset(\n",
    "#     labels=ALL_SERIAL_NUMBERS,\n",
    "#     domains = list(set(ALL_DISTANCES_FEET) - {2,62,56}),\n",
    "#     num_examples_per_domain_per_label=100,\n",
    "#     pickle_path=os.path.join(get_datasets_base_path(), \"oracle.Run2_framed_2000Examples_stratified_ds.2022A.pkl\"),\n",
    "#     source_or_target_dataset=\"source\",\n",
    "#     x_transform_func=global_x_transform_func,\n",
    "#     domain_modifier=lambda u: f\"oracle2_{u}\"\n",
    "# )"
   ]
  },
  {
   "cell_type": "code",
   "execution_count": 17,
   "id": "6f289866",
   "metadata": {
    "execution": {
     "iopub.execute_input": "2022-03-21T08:02:38.399023Z",
     "iopub.status.busy": "2022-03-21T08:02:38.397452Z",
     "iopub.status.idle": "2022-03-21T08:02:38.418283Z",
     "shell.execute_reply": "2022-03-21T08:02:38.417486Z"
    },
    "papermill": {
     "duration": 0.045535,
     "end_time": "2022-03-21T08:02:38.418438",
     "exception": false,
     "start_time": "2022-03-21T08:02:38.372903",
     "status": "completed"
    },
    "tags": []
   },
   "outputs": [],
   "source": [
    "# add_dataset(\n",
    "#     labels=list(range(19)),\n",
    "#     domains = [0,1,2],\n",
    "#     num_examples_per_domain_per_label=100,\n",
    "#     pickle_path=os.path.join(get_datasets_base_path(), \"metehan.stratified_ds.2022A.pkl\"),\n",
    "#     source_or_target_dataset=\"target\",\n",
    "#     x_transform_func=global_x_transform_func,\n",
    "#     domain_modifier=lambda u: f\"met_{u}\"\n",
    "# )"
   ]
  },
  {
   "cell_type": "code",
   "execution_count": 18,
   "id": "86a863c3",
   "metadata": {
    "execution": {
     "iopub.execute_input": "2022-03-21T08:02:38.470274Z",
     "iopub.status.busy": "2022-03-21T08:02:38.469439Z",
     "iopub.status.idle": "2022-03-21T08:02:38.490868Z",
     "shell.execute_reply": "2022-03-21T08:02:38.490071Z"
    },
    "papermill": {
     "duration": 0.04501,
     "end_time": "2022-03-21T08:02:38.491020",
     "exception": false,
     "start_time": "2022-03-21T08:02:38.446010",
     "status": "completed"
    },
    "tags": []
   },
   "outputs": [],
   "source": [
    "# # from steves_utils.wisig.utils import (\n",
    "# #     ALL_NODES_MINIMUM_100_EXAMPLES,\n",
    "# #     ALL_NODES_MINIMUM_500_EXAMPLES,\n",
    "# #     ALL_NODES_MINIMUM_1000_EXAMPLES,\n",
    "# #     ALL_DAYS\n",
    "# # )\n",
    "\n",
    "# import steves_utils.wisig.utils as wisig\n",
    "\n",
    "\n",
    "# add_dataset(\n",
    "#     labels=wisig.ALL_NODES_MINIMUM_100_EXAMPLES,\n",
    "#     domains = wisig.ALL_DAYS,\n",
    "#     num_examples_per_domain_per_label=100,\n",
    "#     pickle_path=os.path.join(get_datasets_base_path(), \"wisig.node3-19.stratified_ds.2022A.pkl\"),\n",
    "#     source_or_target_dataset=\"target\",\n",
    "#     x_transform_func=global_x_transform_func,\n",
    "#     domain_modifier=lambda u: f\"wisig_{u}\"\n",
    "# )"
   ]
  },
  {
   "cell_type": "code",
   "execution_count": 19,
   "id": "fd5442bc",
   "metadata": {
    "execution": {
     "iopub.execute_input": "2022-03-21T08:02:38.547513Z",
     "iopub.status.busy": "2022-03-21T08:02:38.546868Z",
     "iopub.status.idle": "2022-03-21T08:02:38.565271Z",
     "shell.execute_reply": "2022-03-21T08:02:38.564481Z"
    },
    "papermill": {
     "duration": 0.048387,
     "end_time": "2022-03-21T08:02:38.565424",
     "exception": false,
     "start_time": "2022-03-21T08:02:38.517037",
     "status": "completed"
    },
    "tags": []
   },
   "outputs": [],
   "source": [
    "###################################\n",
    "# Build the dataset\n",
    "###################################\n",
    "train_original_source = Iterable_Aggregator(train_original_source, p.seed)\n",
    "val_original_source = Iterable_Aggregator(val_original_source, p.seed)\n",
    "test_original_source = Iterable_Aggregator(test_original_source, p.seed)\n",
    "\n",
    "\n",
    "train_original_target = Iterable_Aggregator(train_original_target, p.seed)\n",
    "val_original_target = Iterable_Aggregator(val_original_target, p.seed)\n",
    "test_original_target = Iterable_Aggregator(test_original_target, p.seed)\n",
    "\n",
    "# For CNN We only use X and Y. And we only train on the source.\n",
    "# Properly form the data using a transform lambda and Lazy_Iterable_Wrapper. Finally wrap them in a dataloader\n",
    "\n",
    "transform_lambda = lambda ex: ex[1] # Original is (<domain>, <episode>) so we strip down to episode only\n",
    "\n",
    "train_processed_source = Lazy_Iterable_Wrapper(train_original_source, transform_lambda)\n",
    "val_processed_source   = Lazy_Iterable_Wrapper(val_original_source, transform_lambda)\n",
    "test_processed_source  = Lazy_Iterable_Wrapper(test_original_source, transform_lambda)\n",
    "\n",
    "train_processed_target = Lazy_Iterable_Wrapper(train_original_target, transform_lambda)\n",
    "val_processed_target   = Lazy_Iterable_Wrapper(val_original_target, transform_lambda)\n",
    "test_processed_target  = Lazy_Iterable_Wrapper(test_original_target, transform_lambda)\n",
    "\n",
    "datasets = EasyDict({\n",
    "    \"source\": {\n",
    "        \"original\": {\"train\":train_original_source, \"val\":val_original_source, \"test\":test_original_source},\n",
    "        \"processed\": {\"train\":train_processed_source, \"val\":val_processed_source, \"test\":test_processed_source}\n",
    "    },\n",
    "    \"target\": {\n",
    "        \"original\": {\"train\":train_original_target, \"val\":val_original_target, \"test\":test_original_target},\n",
    "        \"processed\": {\"train\":train_processed_target, \"val\":val_processed_target, \"test\":test_processed_target}\n",
    "    },\n",
    "})"
   ]
  },
  {
   "cell_type": "code",
   "execution_count": 20,
   "id": "5b3c01fc",
   "metadata": {
    "execution": {
     "iopub.execute_input": "2022-03-21T08:02:38.625421Z",
     "iopub.status.busy": "2022-03-21T08:02:38.625053Z",
     "iopub.status.idle": "2022-03-21T08:02:54.374409Z",
     "shell.execute_reply": "2022-03-21T08:02:54.374980Z"
    },
    "papermill": {
     "duration": 15.780341,
     "end_time": "2022-03-21T08:02:54.375169",
     "exception": false,
     "start_time": "2022-03-21T08:02:38.594828",
     "status": "completed"
    },
    "tags": []
   },
   "outputs": [
    {
     "name": "stdout",
     "output_type": "stream",
     "text": [
      "{'Wisig_3', 'Wisig_2', 'Wisig_4', 'Wisig_1'}\n"
     ]
    },
    {
     "name": "stdout",
     "output_type": "stream",
     "text": [
      "{'ORACLE.run114', 'ORACLE.run150', 'ORACLE.run126', 'ORACLE.run144', 'ORACLE.run138', 'ORACLE.run132', 'ORACLE.run18', 'ORACLE.run120'}\n"
     ]
    },
    {
     "name": "stdout",
     "output_type": "stream",
     "text": [
      "tensor([[[-0.4531,  1.2046,  0.5952,  ...,  0.3947,  1.1178,  1.4620],\n",
      "         [-0.8147, -0.8478,  1.0041,  ..., -0.9410, -1.1194,  0.2763]],\n",
      "\n",
      "        [[-1.4549, -1.8942,  0.0950,  ..., -0.2913, -0.4206, -0.1947],\n",
      "         [ 0.2742, -1.3536, -1.0359,  ..., -0.0841, -0.6636, -0.5935]],\n",
      "\n",
      "        [[ 0.1590, -1.2656, -0.6832,  ...,  0.9303, -0.6234, -0.7052],\n",
      "         [ 1.2688,  0.1763, -0.9902,  ...,  1.3790,  1.1397, -0.2928]],\n",
      "\n",
      "        ...,\n",
      "\n",
      "        [[-0.1093, -0.7934, -0.3406,  ..., -1.1716, -0.7290,  0.7570],\n",
      "         [ 0.5998, -0.3104, -0.8515,  ...,  0.4727, -1.2505, -1.2749]],\n",
      "\n",
      "        [[ 0.4837, -1.0753,  0.0759,  ..., -0.8740, -0.7751,  0.9966],\n",
      "         [ 0.7901, -0.0910, -1.3330,  ...,  0.3620, -1.0774, -1.1377]],\n",
      "\n",
      "        [[-0.7524,  0.8484,  0.0327,  ...,  0.9679,  0.8704, -0.6266],\n",
      "         [-0.5404, -0.0853,  1.3781,  ..., -0.6410,  1.1181,  1.3735]]])\n"
     ]
    }
   ],
   "source": [
    "from steves_utils.transforms import get_average_magnitude, get_average_power\n",
    "\n",
    "print(set([u for u,_ in val_original_source]))\n",
    "print(set([u for u,_ in val_original_target]))\n",
    "\n",
    "s_x, s_y, q_x, q_y, _ = next(iter(train_processed_source))\n",
    "print(s_x)\n",
    "\n",
    "# for ds in [\n",
    "#     train_processed_source,\n",
    "#     val_processed_source,\n",
    "#     test_processed_source,\n",
    "#     train_processed_target,\n",
    "#     val_processed_target,\n",
    "#     test_processed_target\n",
    "# ]:\n",
    "#     for s_x, s_y, q_x, q_y, _ in ds:\n",
    "#         for X in (s_x, q_x):\n",
    "#             for x in X:\n",
    "#                 assert np.isclose(get_average_magnitude(x.numpy()), 1.0)\n",
    "#                 assert np.isclose(get_average_power(x.numpy()), 1.0)\n",
    "                "
   ]
  },
  {
   "cell_type": "code",
   "execution_count": 21,
   "id": "bbdacba1",
   "metadata": {
    "execution": {
     "iopub.execute_input": "2022-03-21T08:02:54.429954Z",
     "iopub.status.busy": "2022-03-21T08:02:54.429577Z",
     "iopub.status.idle": "2022-03-21T08:02:54.680174Z",
     "shell.execute_reply": "2022-03-21T08:02:54.679795Z"
    },
    "papermill": {
     "duration": 0.277874,
     "end_time": "2022-03-21T08:02:54.680284",
     "exception": false,
     "start_time": "2022-03-21T08:02:54.402410",
     "status": "completed"
    },
    "tags": []
   },
   "outputs": [
    {
     "name": "stdout",
     "output_type": "stream",
     "text": [
      "(2, 256)\n"
     ]
    }
   ],
   "source": [
    "###################################\n",
    "# Build the model\n",
    "###################################\n",
    "# easfsl only wants a tuple for the shape\n",
    "model = Steves_Prototypical_Network(x_net, device=p.device, x_shape=tuple(p.x_shape))\n",
    "optimizer = Adam(params=model.parameters(), lr=p.lr)"
   ]
  },
  {
   "cell_type": "code",
   "execution_count": 22,
   "id": "22b39ac5",
   "metadata": {
    "execution": {
     "iopub.execute_input": "2022-03-21T08:02:54.729385Z",
     "iopub.status.busy": "2022-03-21T08:02:54.729005Z",
     "iopub.status.idle": "2022-03-21T08:25:39.344278Z",
     "shell.execute_reply": "2022-03-21T08:25:39.343924Z"
    },
    "papermill": {
     "duration": 1364.640903,
     "end_time": "2022-03-21T08:25:39.344368",
     "exception": false,
     "start_time": "2022-03-21T08:02:54.703465",
     "status": "completed"
    },
    "tags": []
   },
   "outputs": [
    {
     "name": "stdout",
     "output_type": "stream",
     "text": [
      "epoch: 1, [batch: 1 / 6847], examples_per_second: 30.7029, train_label_loss: 2.6035, \n"
     ]
    },
    {
     "name": "stdout",
     "output_type": "stream",
     "text": [
      "epoch: 1, [batch: 685 / 6847], examples_per_second: 2274.4692, train_label_loss: 0.3129, \n"
     ]
    },
    {
     "name": "stdout",
     "output_type": "stream",
     "text": [
      "epoch: 1, [batch: 1370 / 6847], examples_per_second: 2292.4147, train_label_loss: 0.1222, \n"
     ]
    },
    {
     "name": "stdout",
     "output_type": "stream",
     "text": [
      "epoch: 1, [batch: 2054 / 6847], examples_per_second: 2281.7988, train_label_loss: 0.0169, \n"
     ]
    },
    {
     "name": "stdout",
     "output_type": "stream",
     "text": [
      "epoch: 1, [batch: 2739 / 6847], examples_per_second: 2290.1974, train_label_loss: 0.1515, \n"
     ]
    },
    {
     "name": "stdout",
     "output_type": "stream",
     "text": [
      "epoch: 1, [batch: 3424 / 6847], examples_per_second: 2329.7563, train_label_loss: 0.0804, \n"
     ]
    },
    {
     "name": "stdout",
     "output_type": "stream",
     "text": [
      "epoch: 1, [batch: 4108 / 6847], examples_per_second: 2504.1219, train_label_loss: 0.3287, \n"
     ]
    },
    {
     "name": "stdout",
     "output_type": "stream",
     "text": [
      "epoch: 1, [batch: 4793 / 6847], examples_per_second: 2605.7454, train_label_loss: 0.2039, \n"
     ]
    },
    {
     "name": "stdout",
     "output_type": "stream",
     "text": [
      "epoch: 1, [batch: 5477 / 6847], examples_per_second: 2631.2289, train_label_loss: 0.1574, \n"
     ]
    },
    {
     "name": "stdout",
     "output_type": "stream",
     "text": [
      "epoch: 1, [batch: 6162 / 6847], examples_per_second: 2293.6253, train_label_loss: 0.2886, \n"
     ]
    },
    {
     "name": "stdout",
     "output_type": "stream",
     "text": [
      "=============================================================\n",
      "epoch: 1, source_val_acc_label: 0.9622, target_val_acc_label: 0.2005, source_val_label_loss: 0.1669, target_val_label_loss: 2.4703, \n",
      "=============================================================\n"
     ]
    },
    {
     "name": "stdout",
     "output_type": "stream",
     "text": [
      "New best\n"
     ]
    },
    {
     "name": "stdout",
     "output_type": "stream",
     "text": [
      "epoch: 2, [batch: 1 / 6860], examples_per_second: 2.2686, train_label_loss: 0.3272, \n"
     ]
    },
    {
     "name": "stdout",
     "output_type": "stream",
     "text": [
      "epoch: 2, [batch: 686 / 6860], examples_per_second: 2306.2535, train_label_loss: 0.2261, \n"
     ]
    },
    {
     "name": "stdout",
     "output_type": "stream",
     "text": [
      "epoch: 2, [batch: 1372 / 6860], examples_per_second: 2314.4954, train_label_loss: 0.4729, \n"
     ]
    },
    {
     "name": "stdout",
     "output_type": "stream",
     "text": [
      "epoch: 2, [batch: 2058 / 6860], examples_per_second: 2316.5809, train_label_loss: 0.2370, \n"
     ]
    },
    {
     "name": "stdout",
     "output_type": "stream",
     "text": [
      "epoch: 2, [batch: 2744 / 6860], examples_per_second: 2302.3024, train_label_loss: 0.0183, \n"
     ]
    },
    {
     "name": "stdout",
     "output_type": "stream",
     "text": [
      "epoch: 2, [batch: 3430 / 6860], examples_per_second: 2307.9593, train_label_loss: 0.0058, \n"
     ]
    },
    {
     "name": "stdout",
     "output_type": "stream",
     "text": [
      "epoch: 2, [batch: 4116 / 6860], examples_per_second: 2530.5954, train_label_loss: 0.1511, \n"
     ]
    },
    {
     "name": "stdout",
     "output_type": "stream",
     "text": [
      "epoch: 2, [batch: 4802 / 6860], examples_per_second: 2605.0981, train_label_loss: 0.3714, \n"
     ]
    },
    {
     "name": "stdout",
     "output_type": "stream",
     "text": [
      "epoch: 2, [batch: 5488 / 6860], examples_per_second: 2577.0083, train_label_loss: 0.0051, \n"
     ]
    },
    {
     "name": "stdout",
     "output_type": "stream",
     "text": [
      "epoch: 2, [batch: 6174 / 6860], examples_per_second: 2323.1310, train_label_loss: 0.0208, \n"
     ]
    },
    {
     "name": "stdout",
     "output_type": "stream",
     "text": [
      "=============================================================\n",
      "epoch: 2, source_val_acc_label: 0.9710, target_val_acc_label: 0.1674, source_val_label_loss: 0.1233, target_val_label_loss: 2.5715, \n",
      "=============================================================\n"
     ]
    },
    {
     "name": "stdout",
     "output_type": "stream",
     "text": [
      "epoch: 3, [batch: 1 / 6849], examples_per_second: 2.2323, train_label_loss: 0.0324, \n"
     ]
    },
    {
     "name": "stdout",
     "output_type": "stream",
     "text": [
      "epoch: 3, [batch: 685 / 6849], examples_per_second: 2317.9202, train_label_loss: 0.0226, \n"
     ]
    },
    {
     "name": "stdout",
     "output_type": "stream",
     "text": [
      "epoch: 3, [batch: 1370 / 6849], examples_per_second: 2311.4366, train_label_loss: 0.0949, \n"
     ]
    },
    {
     "name": "stdout",
     "output_type": "stream",
     "text": [
      "epoch: 3, [batch: 2055 / 6849], examples_per_second: 2307.8114, train_label_loss: 0.0021, \n"
     ]
    },
    {
     "name": "stdout",
     "output_type": "stream",
     "text": [
      "epoch: 3, [batch: 2740 / 6849], examples_per_second: 2313.0817, train_label_loss: 0.0066, \n"
     ]
    },
    {
     "name": "stdout",
     "output_type": "stream",
     "text": [
      "epoch: 3, [batch: 3425 / 6849], examples_per_second: 2371.5025, train_label_loss: 0.1725, \n"
     ]
    },
    {
     "name": "stdout",
     "output_type": "stream",
     "text": [
      "epoch: 3, [batch: 4109 / 6849], examples_per_second: 2599.7608, train_label_loss: 0.1488, \n"
     ]
    },
    {
     "name": "stdout",
     "output_type": "stream",
     "text": [
      "epoch: 3, [batch: 4794 / 6849], examples_per_second: 2539.2268, train_label_loss: 0.0291, \n"
     ]
    },
    {
     "name": "stdout",
     "output_type": "stream",
     "text": [
      "epoch: 3, [batch: 5479 / 6849], examples_per_second: 2483.9007, train_label_loss: 0.0056, \n"
     ]
    },
    {
     "name": "stdout",
     "output_type": "stream",
     "text": [
      "epoch: 3, [batch: 6164 / 6849], examples_per_second: 2328.2755, train_label_loss: 0.0029, \n"
     ]
    },
    {
     "name": "stdout",
     "output_type": "stream",
     "text": [
      "=============================================================\n",
      "epoch: 3, source_val_acc_label: 0.9725, target_val_acc_label: 0.1812, source_val_label_loss: 0.1171, target_val_label_loss: 2.5542, \n",
      "=============================================================\n"
     ]
    },
    {
     "name": "stdout",
     "output_type": "stream",
     "text": [
      "epoch: 4, [batch: 1 / 6845], examples_per_second: 2.2809, train_label_loss: 0.1740, \n"
     ]
    },
    {
     "name": "stdout",
     "output_type": "stream",
     "text": [
      "epoch: 4, [batch: 685 / 6845], examples_per_second: 2543.9345, train_label_loss: 0.0681, \n"
     ]
    },
    {
     "name": "stdout",
     "output_type": "stream",
     "text": [
      "epoch: 4, [batch: 1369 / 6845], examples_per_second: 2589.5585, train_label_loss: 0.0624, \n"
     ]
    },
    {
     "name": "stdout",
     "output_type": "stream",
     "text": [
      "epoch: 4, [batch: 2054 / 6845], examples_per_second: 2546.3926, train_label_loss: 0.0020, \n"
     ]
    },
    {
     "name": "stdout",
     "output_type": "stream",
     "text": [
      "epoch: 4, [batch: 2738 / 6845], examples_per_second: 2562.8048, train_label_loss: 0.0606, \n"
     ]
    },
    {
     "name": "stdout",
     "output_type": "stream",
     "text": [
      "epoch: 4, [batch: 3423 / 6845], examples_per_second: 2743.7917, train_label_loss: 0.0047, \n"
     ]
    },
    {
     "name": "stdout",
     "output_type": "stream",
     "text": [
      "epoch: 4, [batch: 4107 / 6845], examples_per_second: 3028.7540, train_label_loss: 0.0038, \n"
     ]
    },
    {
     "name": "stdout",
     "output_type": "stream",
     "text": [
      "epoch: 4, [batch: 4791 / 6845], examples_per_second: 3283.6742, train_label_loss: 0.0026, \n"
     ]
    },
    {
     "name": "stdout",
     "output_type": "stream",
     "text": [
      "epoch: 4, [batch: 5476 / 6845], examples_per_second: 2895.0575, train_label_loss: 0.0957, \n"
     ]
    },
    {
     "name": "stdout",
     "output_type": "stream",
     "text": [
      "epoch: 4, [batch: 6160 / 6845], examples_per_second: 2384.7465, train_label_loss: 0.0009, \n"
     ]
    },
    {
     "name": "stdout",
     "output_type": "stream",
     "text": [
      "=============================================================\n",
      "epoch: 4, source_val_acc_label: 0.9724, target_val_acc_label: 0.1563, source_val_label_loss: 0.1166, target_val_label_loss: 2.6742, \n",
      "=============================================================\n"
     ]
    },
    {
     "name": "stdout",
     "output_type": "stream",
     "text": [
      "epoch: 5, [batch: 1 / 6835], examples_per_second: 2.2005, train_label_loss: 0.0136, \n"
     ]
    },
    {
     "name": "stdout",
     "output_type": "stream",
     "text": [
      "epoch: 5, [batch: 684 / 6835], examples_per_second: 2326.1952, train_label_loss: 0.0062, \n"
     ]
    },
    {
     "name": "stdout",
     "output_type": "stream",
     "text": [
      "epoch: 5, [batch: 1367 / 6835], examples_per_second: 2315.7554, train_label_loss: 0.0032, \n"
     ]
    },
    {
     "name": "stdout",
     "output_type": "stream",
     "text": [
      "epoch: 5, [batch: 2051 / 6835], examples_per_second: 2276.0204, train_label_loss: 0.1192, \n"
     ]
    },
    {
     "name": "stdout",
     "output_type": "stream",
     "text": [
      "epoch: 5, [batch: 2734 / 6835], examples_per_second: 2296.2950, train_label_loss: 0.2355, \n"
     ]
    },
    {
     "name": "stdout",
     "output_type": "stream",
     "text": [
      "epoch: 5, [batch: 3418 / 6835], examples_per_second: 2524.5431, train_label_loss: 0.1273, \n"
     ]
    },
    {
     "name": "stdout",
     "output_type": "stream",
     "text": [
      "epoch: 5, [batch: 4101 / 6835], examples_per_second: 2620.4763, train_label_loss: 0.0101, \n"
     ]
    },
    {
     "name": "stdout",
     "output_type": "stream",
     "text": [
      "epoch: 5, [batch: 4784 / 6835], examples_per_second: 2555.2130, train_label_loss: 0.0193, \n"
     ]
    },
    {
     "name": "stdout",
     "output_type": "stream",
     "text": [
      "epoch: 5, [batch: 5468 / 6835], examples_per_second: 2320.3636, train_label_loss: 0.0058, \n"
     ]
    },
    {
     "name": "stdout",
     "output_type": "stream",
     "text": [
      "epoch: 5, [batch: 6151 / 6835], examples_per_second: 2408.1253, train_label_loss: 0.0017, \n"
     ]
    },
    {
     "name": "stdout",
     "output_type": "stream",
     "text": [
      "=============================================================\n",
      "epoch: 5, source_val_acc_label: 0.9740, target_val_acc_label: 0.1419, source_val_label_loss: 0.1188, target_val_label_loss: 2.7570, \n",
      "=============================================================\n"
     ]
    },
    {
     "name": "stdout",
     "output_type": "stream",
     "text": [
      "Patience (3) exhausted\n"
     ]
    }
   ],
   "source": [
    "###################################\n",
    "# train\n",
    "###################################\n",
    "jig = PTN_Train_Eval_Test_Jig(model, p.BEST_MODEL_PATH, p.device)\n",
    "\n",
    "jig.train(\n",
    "    train_iterable=datasets.source.processed.train,\n",
    "    source_val_iterable=datasets.source.processed.val,\n",
    "    target_val_iterable=datasets.target.processed.val,\n",
    "    num_epochs=p.n_epoch,\n",
    "    num_logs_per_epoch=p.NUM_LOGS_PER_EPOCH,\n",
    "    patience=p.patience,\n",
    "    optimizer=optimizer,\n",
    "    criteria_for_best=p.criteria_for_best,\n",
    ")"
   ]
  },
  {
   "cell_type": "code",
   "execution_count": 23,
   "id": "31e8fabf",
   "metadata": {
    "execution": {
     "iopub.execute_input": "2022-03-21T08:25:39.427419Z",
     "iopub.status.busy": "2022-03-21T08:25:39.426656Z",
     "iopub.status.idle": "2022-03-21T08:25:39.459927Z",
     "shell.execute_reply": "2022-03-21T08:25:39.459141Z"
    },
    "papermill": {
     "duration": 0.07709,
     "end_time": "2022-03-21T08:25:39.460111",
     "exception": false,
     "start_time": "2022-03-21T08:25:39.383021",
     "status": "completed"
    },
    "tags": []
   },
   "outputs": [],
   "source": [
    "total_experiment_time_secs = time.time() - start_time_secs"
   ]
  },
  {
   "cell_type": "code",
   "execution_count": 24,
   "id": "87b9595b",
   "metadata": {
    "execution": {
     "iopub.execute_input": "2022-03-21T08:25:39.552828Z",
     "iopub.status.busy": "2022-03-21T08:25:39.552119Z",
     "iopub.status.idle": "2022-03-21T08:30:17.417764Z",
     "shell.execute_reply": "2022-03-21T08:30:17.418479Z"
    },
    "papermill": {
     "duration": 277.911335,
     "end_time": "2022-03-21T08:30:17.418754",
     "exception": false,
     "start_time": "2022-03-21T08:25:39.507419",
     "status": "completed"
    },
    "tags": []
   },
   "outputs": [],
   "source": [
    "###################################\n",
    "# Evaluate the model\n",
    "###################################\n",
    "source_test_label_accuracy, source_test_label_loss = jig.test(datasets.source.processed.test)\n",
    "target_test_label_accuracy, target_test_label_loss = jig.test(datasets.target.processed.test)\n",
    "\n",
    "source_val_label_accuracy, source_val_label_loss = jig.test(datasets.source.processed.val)\n",
    "target_val_label_accuracy, target_val_label_loss = jig.test(datasets.target.processed.val)\n",
    "\n",
    "history = jig.get_history()\n",
    "\n",
    "total_epochs_trained = len(history[\"epoch_indices\"])\n",
    "\n",
    "val_dl = Iterable_Aggregator((datasets.source.original.val,datasets.target.original.val))\n",
    "\n",
    "confusion = ptn_confusion_by_domain_over_dataloader(model, p.device, val_dl)\n",
    "per_domain_accuracy = per_domain_accuracy_from_confusion(confusion)\n",
    "\n",
    "# Add a key to per_domain_accuracy for if it was a source domain\n",
    "for domain, accuracy in per_domain_accuracy.items():\n",
    "    per_domain_accuracy[domain] = {\n",
    "        \"accuracy\": accuracy,\n",
    "        \"source?\": domain in p.domains_source\n",
    "    }\n",
    "\n",
    "# Do an independent accuracy assesment JUST TO BE SURE!\n",
    "# _source_test_label_accuracy = independent_accuracy_assesment(model, datasets.source.processed.test, p.device)\n",
    "# _target_test_label_accuracy = independent_accuracy_assesment(model, datasets.target.processed.test, p.device)\n",
    "# _source_val_label_accuracy = independent_accuracy_assesment(model, datasets.source.processed.val, p.device)\n",
    "# _target_val_label_accuracy = independent_accuracy_assesment(model, datasets.target.processed.val, p.device)\n",
    "\n",
    "# assert(_source_test_label_accuracy == source_test_label_accuracy)\n",
    "# assert(_target_test_label_accuracy == target_test_label_accuracy)\n",
    "# assert(_source_val_label_accuracy == source_val_label_accuracy)\n",
    "# assert(_target_val_label_accuracy == target_val_label_accuracy)\n",
    "\n",
    "experiment = {\n",
    "    \"experiment_name\": p.experiment_name,\n",
    "    \"parameters\": dict(p),\n",
    "    \"results\": {\n",
    "        \"source_test_label_accuracy\": source_test_label_accuracy,\n",
    "        \"source_test_label_loss\": source_test_label_loss,\n",
    "        \"target_test_label_accuracy\": target_test_label_accuracy,\n",
    "        \"target_test_label_loss\": target_test_label_loss,\n",
    "        \"source_val_label_accuracy\": source_val_label_accuracy,\n",
    "        \"source_val_label_loss\": source_val_label_loss,\n",
    "        \"target_val_label_accuracy\": target_val_label_accuracy,\n",
    "        \"target_val_label_loss\": target_val_label_loss,\n",
    "        \"total_epochs_trained\": total_epochs_trained,\n",
    "        \"total_experiment_time_secs\": total_experiment_time_secs,\n",
    "        \"confusion\": confusion,\n",
    "        \"per_domain_accuracy\": per_domain_accuracy,\n",
    "    },\n",
    "    \"history\": history,\n",
    "    \"dataset_metrics\": get_dataset_metrics(datasets, \"ptn\"),\n",
    "}"
   ]
  },
  {
   "cell_type": "code",
   "execution_count": 25,
   "id": "54a21829",
   "metadata": {
    "execution": {
     "iopub.execute_input": "2022-03-21T08:30:17.503502Z",
     "iopub.status.busy": "2022-03-21T08:30:17.502945Z",
     "iopub.status.idle": "2022-03-21T08:30:17.714873Z",
     "shell.execute_reply": "2022-03-21T08:30:17.715189Z"
    },
    "papermill": {
     "duration": 0.253617,
     "end_time": "2022-03-21T08:30:17.715331",
     "exception": false,
     "start_time": "2022-03-21T08:30:17.461714",
     "status": "completed"
    },
    "tags": []
   },
   "outputs": [
    {
     "data": {
      "image/png": "[encoded data removed]",
      "text/plain": [
       "<Figure size 1080x504 with 1 Axes>"
      ]
     },
     "metadata": {
      "needs_background": "light"
     },
     "output_type": "display_data"
    }
   ],
   "source": [
    "ax = get_loss_curve(experiment)\n",
    "plt.show()"
   ]
  },
  {
   "cell_type": "code",
   "execution_count": 26,
   "id": "fd8a0f60",
   "metadata": {
    "execution": {
     "iopub.execute_input": "2022-03-21T08:30:17.796285Z",
     "iopub.status.busy": "2022-03-21T08:30:17.795724Z",
     "iopub.status.idle": "2022-03-21T08:30:18.175894Z",
     "shell.execute_reply": "2022-03-21T08:30:18.176389Z"
    },
    "papermill": {
     "duration": 0.422063,
     "end_time": "2022-03-21T08:30:18.176570",
     "exception": false,
     "start_time": "2022-03-21T08:30:17.754507",
     "status": "completed"
    },
    "tags": []
   },
   "outputs": [
    {
     "data": {
      "text/plain": [
       "<AxesSubplot:title={'center':'Results'}>"
      ]
     },
     "execution_count": 26,
     "metadata": {},
     "output_type": "execute_result"
    },
    {
     "data": {
      "image/png": "[encoded data removed]",
      "text/plain": [
       "<Figure size 1080x504 with 1 Axes>"
      ]
     },
     "metadata": {
      "needs_background": "light"
     },
     "output_type": "display_data"
    }
   ],
   "source": [
    "get_results_table(experiment)"
   ]
  },
  {
   "cell_type": "code",
   "execution_count": 27,
   "id": "cf8dc689",
   "metadata": {
    "execution": {
     "iopub.execute_input": "2022-03-21T08:30:18.263604Z",
     "iopub.status.busy": "2022-03-21T08:30:18.263025Z",
     "iopub.status.idle": "2022-03-21T08:30:18.514288Z",
     "shell.execute_reply": "2022-03-21T08:30:18.514621Z"
    },
    "papermill": {
     "duration": 0.294553,
     "end_time": "2022-03-21T08:30:18.514769",
     "exception": false,
     "start_time": "2022-03-21T08:30:18.220216",
     "status": "completed"
    },
    "tags": []
   },
   "outputs": [
    {
     "data": {
      "text/plain": [
       "<AxesSubplot:title={'center':'Per Domain Validation Accuracy'}, xlabel='domain'>"
      ]
     },
     "execution_count": 27,
     "metadata": {},
     "output_type": "execute_result"
    },
    {
     "data": {
      "image/png": "[encoded data removed]",
      "text/plain": [
       "<Figure size 1080x504 with 1 Axes>"
      ]
     },
     "metadata": {
      "needs_background": "light"
     },
     "output_type": "display_data"
    }
   ],
   "source": [
    "get_domain_accuracies(experiment)"
   ]
  },
  {
   "cell_type": "code",
   "execution_count": 28,
   "id": "a74ae082",
   "metadata": {
    "execution": {
     "iopub.execute_input": "2022-03-21T08:30:18.601529Z",
     "iopub.status.busy": "2022-03-21T08:30:18.600973Z",
     "iopub.status.idle": "2022-03-21T08:30:18.623343Z",
     "shell.execute_reply": "2022-03-21T08:30:18.623686Z"
    },
    "papermill": {
     "duration": 0.066962,
     "end_time": "2022-03-21T08:30:18.623802",
     "exception": false,
     "start_time": "2022-03-21T08:30:18.556840",
     "status": "completed"
    },
    "tags": []
   },
   "outputs": [
    {
     "name": "stdout",
     "output_type": "stream",
     "text": [
      "Source Test Label Accuracy: 0.9615359730848861 Target Test Label Accuracy: 0.19554036458333332\n",
      "Source Val Label Accuracy: 0.9622423361522199 Target Val Label Accuracy: 0.20045572916666668\n"
     ]
    }
   ],
   "source": [
    "print(\"Source Test Label Accuracy:\", experiment[\"results\"][\"source_test_label_accuracy\"], \"Target Test Label Accuracy:\", experiment[\"results\"][\"target_test_label_accuracy\"])\n",
    "print(\"Source Val Label Accuracy:\", experiment[\"results\"][\"source_val_label_accuracy\"], \"Target Val Label Accuracy:\", experiment[\"results\"][\"target_val_label_accuracy\"])"
   ]
  },
  {
   "cell_type": "code",
   "execution_count": 29,
   "id": "dacca602",
   "metadata": {
    "execution": {
     "iopub.execute_input": "2022-03-21T08:30:18.710962Z",
     "iopub.status.busy": "2022-03-21T08:30:18.710413Z",
     "iopub.status.idle": "2022-03-21T08:30:18.733401Z",
     "shell.execute_reply": "2022-03-21T08:30:18.733721Z"
    },
    "papermill": {
     "duration": 0.067772,
     "end_time": "2022-03-21T08:30:18.733838",
     "exception": false,
     "start_time": "2022-03-21T08:30:18.666066",
     "status": "completed"
    },
    "tags": [
     "experiment_json"
    ]
   },
   "outputs": [
    {
     "data": {
      "text/plain": [
       "'{\"experiment_name\": \"tl_1v2:wisig-oracle.run1.framed\", \"parameters\": {\"experiment_name\": \"tl_1v2:wisig-oracle.run1.framed\", \"device\": \"cuda\", \"lr\": 0.0001, \"n_shot\": 3, \"n_query\": 2, \"train_k_factor\": 3, \"val_k_factor\": 2, \"test_k_factor\": 2, \"torch_default_dtype\": \"torch.float32\", \"n_epoch\": 50, \"patience\": 3, \"criteria_for_best\": \"target_accuracy\", \"x_net\": [{\"class\": \"nnReshape\", \"kargs\": {\"shape\": [-1, 1, 2, 256]}}, {\"class\": \"Conv2d\", \"kargs\": {\"in_channels\": 1, \"out_channels\": 256, \"kernel_size\": [1, 7], \"bias\": false, \"padding\": [0, 3]}}, {\"class\": \"ReLU\", \"kargs\": {\"inplace\": true}}, {\"class\": \"BatchNorm2d\", \"kargs\": {\"num_features\": 256}}, {\"class\": \"Conv2d\", \"kargs\": {\"in_channels\": 256, \"out_channels\": 80, \"kernel_size\": [2, 7], \"bias\": true, \"padding\": [0, 3]}}, {\"class\": \"ReLU\", \"kargs\": {\"inplace\": true}}, {\"class\": \"BatchNorm2d\", \"kargs\": {\"num_features\": 80}}, {\"class\": \"Flatten\", \"kargs\": {}}, {\"class\": \"Linear\", \"kargs\": {\"in_features\": 20480, \"out_features\": 256}}, {\"class\": \"ReLU\", \"kargs\": {\"inplace\": true}}, {\"class\": \"BatchNorm1d\", \"kargs\": {\"num_features\": 256}}, {\"class\": \"Linear\", \"kargs\": {\"in_features\": 256, \"out_features\": 256}}], \"NUM_LOGS_PER_EPOCH\": 10, \"BEST_MODEL_PATH\": \"./best_model.pth\", \"n_way\": 16, \"datasets\": [{\"labels\": [\"1-10\", \"1-12\", \"1-14\", \"1-16\", \"1-18\", \"1-19\", \"1-8\", \"10-11\", \"10-17\", \"10-4\", \"10-7\", \"11-1\", \"11-10\", \"11-19\", \"11-20\", \"11-4\", \"11-7\", \"12-19\", \"12-20\", \"12-7\", \"13-14\", \"13-18\", \"13-19\", \"13-20\", \"13-3\", \"13-7\", \"14-10\", \"14-11\", \"14-12\", \"14-13\", \"14-14\", \"14-19\", \"14-20\", \"14-7\", \"14-8\", \"14-9\", \"15-1\", \"15-19\", \"15-6\", \"16-1\", \"16-16\", \"16-19\", \"16-20\", \"17-10\", \"17-11\", \"18-1\", \"18-10\", \"18-11\", \"18-12\", \"18-13\", \"18-14\", \"18-15\", \"18-16\", \"18-17\", \"18-19\", \"18-2\", \"18-20\", \"18-4\", \"18-5\", \"18-7\", \"18-8\", \"18-9\", \"19-1\", \"19-10\", \"19-11\", \"19-12\", \"19-13\", \"19-14\", \"19-15\", \"19-19\", \"19-2\", \"19-20\", \"19-3\", \"19-4\", \"19-6\", \"19-7\", \"19-8\", \"19-9\", \"2-1\", \"2-13\", \"2-15\", \"2-3\", \"2-4\", \"2-5\", \"2-6\", \"2-7\", \"2-8\", \"20-1\", \"20-12\", \"20-14\", \"20-15\", \"20-16\", \"20-18\", \"20-19\", \"20-20\", \"20-3\", \"20-4\", \"20-5\", \"20-7\", \"20-8\", \"3-1\", \"3-13\", \"3-18\", \"3-2\", \"3-8\", \"4-1\", \"4-10\", \"4-11\", \"5-1\", \"5-5\", \"6-1\", \"6-15\", \"6-6\", \"7-10\", \"7-11\", \"7-12\", \"7-13\", \"7-14\", \"7-7\", \"7-8\", \"7-9\", \"8-1\", \"8-13\", \"8-14\", \"8-18\", \"8-20\", \"8-3\", \"8-8\", \"9-1\", \"9-7\"], \"domains\": [1, 2, 3, 4], \"num_examples_per_domain_per_label\": -1, \"pickle_path\": \"/root/csc500-main/datasets/wisig.node3-19.stratified_ds.2022A.pkl\", \"source_or_target_dataset\": \"source\", \"x_transforms\": [\"unit_mag\"], \"episode_transforms\": [], \"domain_prefix\": \"Wisig_\"}, {\"labels\": [\"3123D52\", \"3123D65\", \"3123D79\", \"3123D80\", \"3123D54\", \"3123D70\", \"3123D7B\", \"3123D89\", \"3123D58\", \"3123D76\", \"3123D7D\", \"3123EFE\", \"3123D64\", \"3123D78\", \"3123D7E\", \"3124E4A\"], \"domains\": [32, 38, 8, 44, 14, 50, 20, 26], \"num_examples_per_domain_per_label\": 2000, \"pickle_path\": \"/root/csc500-main/datasets/oracle.Run1_framed_2000Examples_stratified_ds.2022A.pkl\", \"source_or_target_dataset\": \"target\", \"x_transforms\": [\"unit_mag\"], \"episode_transforms\": [], \"domain_prefix\": \"ORACLE.run1\"}], \"dataset_seed\": 420, \"seed\": 420, \"x_shape\": [2, 256], \"domains_source\": [\"Wisig_1\", \"Wisig_2\", \"Wisig_3\", \"Wisig_4\"], \"domains_target\": [\"ORACLE.run132\", \"ORACLE.run138\", \"ORACLE.run18\", \"ORACLE.run144\", \"ORACLE.run114\", \"ORACLE.run150\", \"ORACLE.run120\", \"ORACLE.run126\"]}, \"results\": {\"source_test_label_accuracy\": 0.9615359730848861, \"source_test_label_loss\": 0.16756756603717804, \"target_test_label_accuracy\": 0.19554036458333332, \"target_test_label_loss\": 2.4732120037078857, \"source_val_label_accuracy\": 0.9622423361522199, \"source_val_label_loss\": 0.16686341166496277, \"target_val_label_accuracy\": 0.20045572916666668, \"target_val_label_loss\": 2.4703469276428223, \"total_epochs_trained\": 5, \"total_experiment_time_secs\": 1425.1584680080414, \"confusion\": {\"Wisig_3\": {\"110\": {\"110\": 88, \"91\": 1, \"8\": 2, \"11\": 1}, \"1\": {\"1\": 107, \"21\": 1}, \"2\": {\"2\": 24, \"63\": 1, \"26\": 2, \"102\": 1}, \"94\": {\"94\": 80, \"27\": 1, \"70\": 1, \"107\": 1, \"39\": 1}, \"64\": {\"64\": 20}, \"78\": {\"78\": 13, \"4\": 1, \"21\": 2}, \"47\": {\"47\": 11, \"103\": 1}, \"127\": {\"127\": 127, \"26\": 1}, \"89\": {\"89\": 28}, \"79\": {\"79\": 12}, \"22\": {\"22\": 16}, \"117\": {\"117\": 112}, \"49\": {\"49\": 21, \"47\": 1, \"108\": 1, \"82\": 1}, \"14\": {\"14\": 80}, \"103\": {\"103\": 16}, \"123\": {\"123\": 16}, \"98\": {\"98\": 127, \"26\": 1}, \"18\": {\"18\": 108}, \"61\": {\"61\": 16}, \"108\": {\"108\": 122, \"110\": 1, \"70\": 1, \"88\": 1, \"40\": 1}, \"100\": {\"100\": 16}, \"0\": {\"0\": 115, \"8\": 1}, \"107\": {\"107\": 130}, \"58\": {\"58\": 16}, \"8\": {\"8\": 120}, \"85\": {\"85\": 36}, \"31\": {\"31\": 19, \"129\": 1}, \"81\": {\"81\": 32}, \"60\": {\"60\": 16, \"31\": 1, \"70\": 2, \"23\": 2, \"110\": 1, \"78\": 1, \"85\": 1, \"73\": 1, \"116\": 1, \"122\": 2}, \"102\": {\"102\": 116}, \"19\": {\"19\": 30, \"28\": 1, \"128\": 1}, \"23\": {\"60\": 2, \"23\": 23, \"51\": 1, \"67\": 1, \"122\": 1, \"17\": 2, \"123\": 1, \"97\": 1}, \"32\": {\"32\": 27, \"66\": 1, \"14\": 1, \"107\": 1, \"11\": 2}, \"39\": {\"39\": 104, \"126\": 2, \"113\": 1, \"2\": 1}, \"129\": {\"129\": 32}, \"71\": {\"71\": 67, \"84\": 1}, \"91\": {\"91\": 20, \"32\": 1, \"58\": 1, \"6\": 1, \"70\": 1}, \"101\": {\"101\": 50, \"21\": 1, \"113\": 1}, \"62\": {\"62\": 120, \"3\": 1, \"118\": 1}, \"63\": {\"63\": 16}, \"125\": {\"125\": 117, \"69\": 1, \"105\": 1, \"4\": 1}, \"57\": {\"57\": 20}, \"28\": {\"28\": 16}, \"70\": {\"70\": 59, \"73\": 1, \"43\": 1, \"21\": 1, \"102\": 1, \"30\": 1, \"54\": 1, \"8\": 2, \"105\": 1, \"69\": 2, \"108\": 1, \"94\": 1}, \"99\": {\"99\": 33, \"21\": 1, \"27\": 1, \"42\": 1}, \"121\": {\"121\": 29, \"80\": 1, \"19\": 1, \"81\": 1}, \"4\": {\"4\": 95, \"94\": 1}, \"80\": {\"80\": 16}, \"51\": {\"97\": 1, \"51\": 12, \"82\": 1, \"21\": 1, \"5\": 1}, \"3\": {\"3\": 113, \"78\": 1, \"70\": 1, \"8\": 1}, \"9\": {\"9\": 32}, \"53\": {\"53\": 19, \"9\": 1}, \"30\": {\"30\": 83, \"69\": 1}, \"33\": {\"33\": 122}, \"15\": {\"15\": 101, \"111\": 1, \"106\": 1, \"102\": 1}, \"97\": {\"30\": 1, \"97\": 19}, \"86\": {\"86\": 27, \"84\": 1}, \"20\": {\"20\": 16}, \"66\": {\"66\": 16}, \"10\": {\"10\": 117, \"127\": 1, \"105\": 1, \"9\": 1, \"4\": 1, \"33\": 1}, \"29\": {\"29\": 31, \"9\": 1}, \"109\": {\"109\": 112, \"5\": 1, \"108\": 1}, \"52\": {\"52\": 16}, \"67\": {\"67\": 16}, \"83\": {\"83\": 22, \"121\": 1, \"43\": 1}, \"72\": {\"72\": 28}, \"90\": {\"90\": 124, \"26\": 2}, \"69\": {\"69\": 83, \"92\": 1}, \"88\": {\"88\": 110, \"8\": 1, \"39\": 1}, \"115\": {\"115\": 16}, \"73\": {\"73\": 36, \"22\": 1, \"25\": 1, \"69\": 1, \"89\": 1}, \"34\": {\"34\": 27, \"6\": 2, \"14\": 1, \"124\": 1, \"28\": 1}, \"25\": {\"25\": 16}, \"44\": {\"44\": 71, \"113\": 1}, \"112\": {\"112\": 15, \"97\": 1}, \"37\": {\"37\": 16}, \"77\": {\"77\": 16}, \"111\": {\"111\": 118, \"127\": 3, \"106\": 1}, \"119\": {\"119\": 16}, \"56\": {\"56\": 12}, \"5\": {\"5\": 110, \"102\": 1, \"21\": 1}, \"122\": {\"122\": 57, \"21\": 3}, \"74\": {\"74\": 16}, \"11\": {\"11\": 150, \"107\": 1, \"110\": 1}, \"41\": {\"41\": 16}, \"104\": {\"104\": 16}, \"21\": {\"21\": 46, \"101\": 2}, \"118\": {\"118\": 98, \"6\": 1, \"84\": 1}, \"40\": {\"40\": 121, \"21\": 1}, \"6\": {\"6\": 32}, \"27\": {\"27\": 87, \"24\": 1, \"36\": 7, \"54\": 1}, \"113\": {\"113\": 119, \"43\": 1}, \"68\": {\"68\": 16}, \"12\": {\"12\": 102}, \"54\": {\"54\": 16}, \"24\": {\"24\": 46, \"86\": 1, \"54\": 1}, \"106\": {\"106\": 98, \"87\": 1, \"19\": 1}, \"128\": {\"128\": 31, \"122\": 1}, \"48\": {\"48\": 9, \"65\": 1, \"10\": 1, \"11\": 1, \"79\": 2, \"95\": 2}, \"92\": {\"92\": 32}, \"35\": {\"35\": 10, \"24\": 1, \"27\": 1}, \"116\": {\"116\": 25, \"92\": 1, \"60\": 1, \"82\": 1}, \"38\": {\"38\": 15, \"25\": 1}, \"126\": {\"126\": 122, \"17\": 1, \"39\": 1}, \"46\": {\"46\": 16}, \"120\": {\"120\": 20}, \"7\": {\"7\": 111, \"84\": 1}, \"13\": {\"13\": 6, \"120\": 3, \"11\": 2, \"70\": 1, \"82\": 1, \"122\": 1, \"121\": 1, \"17\": 1}, \"43\": {\"43\": 43, \"33\": 5, \"60\": 1, \"128\": 1, \"84\": 2, \"83\": 1, \"106\": 1, \"102\": 2}, \"93\": {\"93\": 131, \"109\": 1}, \"26\": {\"26\": 131, \"8\": 1}, \"76\": {\"76\": 16}, \"59\": {\"59\": 12}, \"65\": {\"65\": 11, \"64\": 1}, \"87\": {\"87\": 119, \"26\": 1}, \"124\": {\"124\": 122, \"52\": 1, \"11\": 1}, \"84\": {\"84\": 108}, \"82\": {\"82\": 28}, \"75\": {\"75\": 16}, \"17\": {\"10\": 1, \"17\": 8, \"116\": 1, \"104\": 1, \"105\": 2, \"106\": 1, \"6\": 1, \"7\": 1}, \"105\": {\"105\": 124}, \"95\": {\"95\": 32}, \"42\": {\"42\": 23, \"124\": 2, \"88\": 1, \"83\": 2}, \"55\": {\"55\": 16}, \"16\": {\"16\": 115, \"19\": 1}, \"50\": {\"50\": 16}, \"96\": {\"96\": 20}, \"45\": {\"45\": 16}, \"36\": {\"36\": 117, \"27\": 3}, \"114\": {\"114\": 119, \"102\": 1, \"122\": 1, \"39\": 1, \"106\": 1, \"11\": 1}}, \"Wisig_4\": {\"113\": {\"113\": 121, \"126\": 1, \"27\": 1, \"69\": 1}, \"85\": {\"85\": 26, \"36\": 1, \"102\": 1}, \"34\": {\"34\": 26, \"75\": 1, \"47\": 2, \"91\": 2, \"120\": 1}, \"55\": {\"55\": 16}, \"42\": {\"42\": 19, \"20\": 2, \"124\": 1, \"8\": 2, \"34\": 1, \"79\": 2, \"112\": 1}, \"13\": {\"13\": 16}, \"69\": {\"69\": 119, \"70\": 1, \"8\": 1, \"1\": 1, \"78\": 1, \"16\": 1}, \"35\": {\"35\": 12}, \"83\": {\"83\": 26, \"21\": 1, \"88\": 1}, \"51\": {\"34\": 1, \"24\": 1, \"62\": 2, \"51\": 7, \"29\": 2, \"91\": 1, \"20\": 1, \"98\": 1}, \"72\": {\"72\": 32}, \"24\": {\"24\": 115, \"21\": 1, \"10\": 1, \"36\": 3}, \"53\": {\"53\": 15, \"9\": 1}, \"8\": {\"8\": 136, \"5\": 1, \"108\": 1, \"27\": 1, \"1\": 1, \"69\": 2, \"99\": 1, \"21\": 1}, \"49\": {\"49\": 30, \"88\": 1, \"5\": 1}, \"21\": {\"21\": 39, \"23\": 1}, \"18\": {\"18\": 118, \"24\": 1, \"84\": 1}, \"114\": {\"114\": 116, \"88\": 1, \"3\": 1}, \"58\": {\"58\": 15, \"31\": 1}, \"56\": {\"56\": 12}, \"80\": {\"80\": 16}, \"11\": {\"11\": 153, \"40\": 1}, \"15\": {\"15\": 121, \"105\": 1, \"10\": 2, \"40\": 1, \"30\": 1, \"69\": 1, \"12\": 1}, \"50\": {\"50\": 16}, \"111\": {\"111\": 137, \"27\": 1}, \"108\": {\"108\": 80, \"88\": 4, \"122\": 1, \"27\": 1, \"24\": 1, \"129\": 1, \"39\": 2, \"18\": 1, \"16\": 1}, \"104\": {\"104\": 16}, \"32\": {\"32\": 22, \"8\": 1, \"108\": 1, \"107\": 1, \"62\": 1, \"45\": 2}, \"68\": {\"68\": 15, \"51\": 1}, \"73\": {\"73\": 24}, \"92\": {\"92\": 28}, \"57\": {\"57\": 16}, \"40\": {\"40\": 132, \"107\": 1, \"8\": 1, \"122\": 2}, \"71\": {\"71\": 101, \"30\": 1, \"1\": 1, \"69\": 1}, \"121\": {\"121\": 27, \"80\": 1, \"27\": 1, \"90\": 1, \"63\": 1, \"115\": 1}, \"62\": {\"62\": 53, \"122\": 1, \"21\": 2, \"2\": 1, \"41\": 1, \"39\": 1, \"36\": 1}, \"39\": {\"39\": 87, \"88\": 1, \"67\": 1, \"81\": 3, \"126\": 2, \"117\": 1, \"10\": 1, \"113\": 2, \"105\": 1, \"122\": 1}, \"107\": {\"107\": 142, \"122\": 1, \"88\": 1}, \"60\": {\"60\": 29, \"110\": 1, \"50\": 1, \"122\": 1}, \"129\": {\"129\": 24, \"122\": 1, \"21\": 1, \"27\": 1, \"14\": 1}, \"84\": {\"84\": 127, \"88\": 2, \"122\": 1, \"39\": 1, \"118\": 1}, \"106\": {\"106\": 114, \"21\": 1, \"118\": 1}, \"87\": {\"87\": 132}, \"110\": {\"110\": 89, \"78\": 1, \"113\": 1, \"27\": 1, \"36\": 1, \"87\": 1}, \"118\": {\"118\": 107, \"22\": 1, \"62\": 1, \"107\": 1, \"129\": 1, \"40\": 1}, \"64\": {\"64\": 15, \"106\": 1}, \"82\": {\"60\": 1, \"82\": 30, \"17\": 1}, \"7\": {\"7\": 121, \"102\": 1, \"69\": 1, \"24\": 1}, \"0\": {\"0\": 111, \"84\": 1, \"107\": 1, \"21\": 2, \"101\": 1}, \"41\": {\"41\": 14, \"23\": 1, \"21\": 1}, \"102\": {\"102\": 127, \"118\": 1, \"127\": 1, \"19\": 1}, \"89\": {\"89\": 31, \"51\": 1}, \"26\": {\"26\": 125, \"69\": 1, \"40\": 1, \"8\": 1}, \"103\": {\"103\": 15, \"52\": 1}, \"90\": {\"90\": 113, \"66\": 1, \"27\": 1, \"121\": 1, \"117\": 1, \"88\": 1}, \"14\": {\"14\": 111, \"89\": 1}, \"9\": {\"9\": 28}, \"5\": {\"5\": 133, \"113\": 1, \"40\": 2}, \"22\": {\"22\": 16}, \"2\": {\"2\": 25, \"26\": 2, \"93\": 1}, \"77\": {\"77\": 12}, \"59\": {\"59\": 10, \"22\": 1, \"69\": 1}, \"127\": {\"127\": 95, \"23\": 1, \"16\": 1, \"8\": 1, \"105\": 2, \"81\": 1, \"69\": 1}, \"61\": {\"61\": 15, \"35\": 1}, \"17\": {\"17\": 19, \"116\": 1}, \"45\": {\"45\": 16}, \"19\": {\"19\": 28}, \"52\": {\"52\": 19, \"129\": 1}, \"123\": {\"84\": 1, \"123\": 13, \"23\": 1, \"60\": 1}, \"20\": {\"20\": 15, \"31\": 1}, \"112\": {\"112\": 14, \"53\": 1, \"52\": 1}, \"37\": {\"37\": 16}, \"29\": {\"29\": 32}, \"128\": {\"8\": 2, \"128\": 20, \"78\": 1, \"115\": 1}, \"100\": {\"100\": 20}, \"67\": {\"67\": 10, \"123\": 1, \"115\": 1, \"39\": 1, \"2\": 1, \"69\": 2}, \"12\": {\"12\": 96, \"106\": 1, \"122\": 1, \"71\": 1, \"16\": 1}, \"101\": {\"101\": 127, \"33\": 1}, \"76\": {\"76\": 16}, \"70\": {\"70\": 111, \"88\": 6, \"27\": 3, \"98\": 1, \"49\": 2, \"102\": 1}, \"31\": {\"70\": 1, \"31\": 15}, \"86\": {\"86\": 28}, \"88\": {\"70\": 3, \"88\": 126, \"69\": 1, \"94\": 1, \"27\": 1}, \"3\": {\"3\": 123, \"40\": 1, \"122\": 1, \"2\": 1}, \"117\": {\"117\": 117, \"122\": 1, \"107\": 1, \"69\": 1}, \"30\": {\"30\": 71, \"105\": 1, \"10\": 1, \"16\": 1, \"81\": 1, \"114\": 1}, \"96\": {\"96\": 20}, \"27\": {\"27\": 89, \"92\": 1, \"39\": 1, \"108\": 2, \"70\": 1, \"24\": 1, \"84\": 1, \"21\": 1, \"5\": 1, \"102\": 1, \"69\": 1}, \"122\": {\"122\": 84}, \"120\": {\"120\": 19, \"21\": 1}, \"44\": {\"44\": 60, \"121\": 2, \"90\": 1, \"73\": 1}, \"79\": {\"79\": 15, \"122\": 1}, \"105\": {\"105\": 94, \"122\": 1, \"102\": 1, \"87\": 2, \"108\": 1, \"24\": 1}, \"95\": {\"95\": 30, \"21\": 1, \"27\": 1}, \"109\": {\"109\": 111, \"88\": 1, \"14\": 3, \"78\": 1}, \"16\": {\"16\": 115, \"12\": 1, \"114\": 1, \"24\": 1}, \"36\": {\"36\": 89, \"21\": 2, \"24\": 4, \"105\": 1, \"27\": 2}, \"125\": {\"125\": 135, \"39\": 1}, \"97\": {\"36\": 1, \"97\": 17, \"10\": 2}, \"91\": {\"91\": 21, \"84\": 1, \"34\": 1, \"109\": 1}, \"28\": {\"28\": 20}, \"81\": {\"81\": 36}, \"126\": {\"126\": 113, \"69\": 1, \"78\": 1, \"106\": 1, \"107\": 1, \"113\": 1, \"51\": 1, \"39\": 2, \"93\": 1}, \"4\": {\"4\": 98, \"122\": 1, \"39\": 1, \"10\": 1, \"27\": 1, \"110\": 1, \"69\": 1}, \"10\": {\"10\": 120, \"94\": 1, \"30\": 2, \"106\": 1}, \"63\": {\"63\": 16}, \"43\": {\"43\": 117, \"122\": 1}, \"116\": {\"116\": 27, \"99\": 1}, \"1\": {\"1\": 100, \"69\": 1, \"10\": 1, \"110\": 1, \"7\": 1, \"84\": 1, \"70\": 1, \"88\": 1, \"12\": 1}, \"94\": {\"94\": 87, \"40\": 1}, \"38\": {\"38\": 16}, \"54\": {\"54\": 16}, \"74\": {\"74\": 16}, \"25\": {\"25\": 16}, \"75\": {\"75\": 16}, \"119\": {\"119\": 15, \"123\": 1}, \"46\": {\"46\": 18, \"22\": 1, \"122\": 1}, \"23\": {\"21\": 2, \"23\": 8, \"67\": 1, \"1\": 1, \"86\": 1, \"123\": 1, \"102\": 1, \"60\": 1}, \"99\": {\"99\": 40}, \"33\": {\"33\": 116, \"69\": 1, \"24\": 1}, \"47\": {\"47\": 9, \"112\": 1, \"49\": 1, \"27\": 1}, \"115\": {\"87\": 2, \"115\": 11, \"107\": 2, \"34\": 1}, \"6\": {\"85\": 1, \"6\": 21, \"58\": 1, \"122\": 1}, \"65\": {\"65\": 12}, \"66\": {\"66\": 14, \"44\": 2}, \"78\": {\"78\": 30, \"26\": 1, \"88\": 1, \"94\": 1, \"30\": 1, \"122\": 1, \"43\": 1}, \"98\": {\"98\": 116}, \"93\": {\"93\": 115, \"69\": 1}, \"48\": {\"48\": 15, \"62\": 1}, \"124\": {\"124\": 113, \"24\": 1}}, \"Wisig_2\": {\"115\": {\"115\": 12}, \"34\": {\"34\": 30, \"110\": 1, \"52\": 1}, \"97\": {\"97\": 18, \"15\": 1, \"77\": 1}, \"100\": {\"100\": 16}, \"129\": {\"129\": 32}, \"90\": {\"90\": 141, \"98\": 1}, \"125\": {\"125\": 131, \"2\": 1}, \"7\": {\"7\": 125, \"24\": 2, \"26\": 1}, \"92\": {\"92\": 28}, \"114\": {\"114\": 114, \"107\": 1, \"5\": 1}, \"80\": {\"80\": 15, \"83\": 1}, \"16\": {\"16\": 116, \"123\": 1, \"40\": 2, \"24\": 1, \"118\": 1, \"8\": 1}, \"69\": {\"69\": 113, \"24\": 1, \"70\": 1, \"87\": 1}, \"102\": {\"102\": 114}, \"33\": {\"33\": 130}, \"17\": {\"34\": 2, \"17\": 13, \"27\": 1}, \"27\": {\"27\": 60, \"36\": 3, \"24\": 2, \"102\": 1, \"112\": 1, \"94\": 1}, \"117\": {\"117\": 104, \"12\": 1, \"24\": 1}, \"14\": {\"14\": 46, \"80\": 1, \"21\": 1}, \"86\": {\"86\": 32}, \"0\": {\"0\": 113, \"21\": 1, \"69\": 1, \"24\": 1}, \"62\": {\"62\": 135, \"55\": 1, \"23\": 1, \"24\": 1}, \"39\": {\"39\": 105, \"110\": 1, \"78\": 1, \"94\": 2, \"69\": 2, \"70\": 1}, \"19\": {\"19\": 28}, \"44\": {\"44\": 100}, \"104\": {\"104\": 20}, \"3\": {\"3\": 125, \"87\": 1, \"24\": 1, \"62\": 1, \"21\": 1, \"36\": 1}, \"10\": {\"10\": 51, \"62\": 1, \"52\": 1, \"69\": 1, \"21\": 1, \"7\": 1, \"78\": 1, \"87\": 1, \"36\": 1, \"102\": 1}, \"61\": {\"61\": 16, \"51\": 1, \"70\": 1, \"58\": 1, \"80\": 1}, \"111\": {\"111\": 113, \"127\": 1}, \"68\": {\"68\": 16}, \"101\": {\"101\": 141, \"69\": 1, \"0\": 1, \"118\": 1}, \"36\": {\"36\": 121, \"51\": 1, \"18\": 1, \"62\": 1, \"70\": 1, \"73\": 1, \"4\": 1, \"30\": 1}, \"120\": {\"120\": 19, \"65\": 1}, \"103\": {\"103\": 16}, \"47\": {\"47\": 12}, \"98\": {\"98\": 120}, \"76\": {\"76\": 16}, \"88\": {\"88\": 120, \"20\": 1, \"126\": 2, \"27\": 1}, \"93\": {\"93\": 136, \"118\": 1, \"24\": 1}, \"23\": {\"23\": 39, \"54\": 1, \"19\": 1, \"29\": 1, \"60\": 1, \"99\": 1}, \"108\": {\"108\": 123, \"40\": 1}, \"51\": {\"51\": 11, \"106\": 2, \"14\": 1, \"54\": 1, \"41\": 1, \"58\": 1, \"6\": 1, \"39\": 1, \"24\": 1}, \"13\": {\"13\": 13, \"36\": 1, \"27\": 1, \"118\": 1}, \"77\": {\"77\": 16}, \"46\": {\"46\": 16}, \"96\": {\"96\": 20}, \"119\": {\"119\": 19, \"1\": 1}, \"121\": {\"121\": 36}, \"54\": {\"54\": 18, \"28\": 1, \"118\": 1}, \"82\": {\"82\": 35, \"78\": 1}, \"12\": {\"12\": 86, \"62\": 1, \"24\": 1}, \"74\": {\"74\": 15, \"22\": 1}, \"66\": {\"66\": 18, \"24\": 1, \"36\": 1}, \"28\": {\"28\": 20}, \"52\": {\"52\": 18, \"21\": 1, \"110\": 1}, \"41\": {\"41\": 18, \"52\": 1, \"110\": 1}, \"81\": {\"81\": 24}, \"48\": {\"48\": 20}, \"113\": {\"113\": 70, \"49\": 1, \"84\": 1}, \"53\": {\"53\": 16}, \"15\": {\"15\": 115, \"97\": 1, \"9\": 1, \"111\": 2, \"36\": 1}, \"30\": {\"30\": 109, \"24\": 1, \"107\": 1, \"36\": 1}, \"43\": {\"43\": 120, \"21\": 1, \"106\": 1, \"107\": 1, \"94\": 1}, \"29\": {\"29\": 31, \"110\": 1}, \"109\": {\"109\": 95, \"110\": 1, \"120\": 1, \"70\": 1, \"84\": 2}, \"60\": {\"60\": 22, \"122\": 1, \"87\": 1, \"29\": 2, \"36\": 1, \"71\": 1}, \"70\": {\"70\": 113, \"25\": 1, \"69\": 1, \"88\": 1, \"31\": 1, \"49\": 1, \"40\": 1, \"21\": 1, \"84\": 1, \"3\": 1}, \"127\": {\"127\": 121, \"111\": 2, \"16\": 1}, \"32\": {\"32\": 24, \"52\": 2, \"0\": 2, \"72\": 3, \"95\": 1, \"10\": 2, \"62\": 2}, \"73\": {\"73\": 27, \"88\": 1}, \"50\": {\"50\": 13, \"21\": 1, \"62\": 1, \"78\": 1}, \"1\": {\"1\": 119, \"105\": 1, \"12\": 1, \"87\": 1, \"36\": 1, \"26\": 1}, \"106\": {\"106\": 116, \"36\": 3, \"19\": 1}, \"123\": {\"123\": 16}, \"79\": {\"79\": 16}, \"4\": {\"4\": 85, \"94\": 1, \"112\": 1, \"62\": 1}, \"2\": {\"2\": 29, \"117\": 2, \"26\": 1}, \"8\": {\"8\": 124, \"69\": 2, \"12\": 1, \"84\": 1}, \"83\": {\"83\": 40}, \"105\": {\"105\": 129, \"23\": 1}, \"5\": {\"5\": 107, \"82\": 1, \"70\": 2, \"2\": 1, \"94\": 1}, \"99\": {\"99\": 32}, \"25\": {\"25\": 15, \"60\": 1}, \"59\": {\"59\": 14, \"102\": 1, \"69\": 1}, \"42\": {\"42\": 26, \"83\": 1, \"18\": 1}, \"55\": {\"55\": 16}, \"75\": {\"75\": 16}, \"118\": {\"118\": 67, \"69\": 1}, \"95\": {\"95\": 32, \"62\": 1, \"13\": 1, \"40\": 2}, \"122\": {\"122\": 114, \"110\": 2, \"24\": 1, \"12\": 1, \"70\": 1, \"5\": 1}, \"20\": {\"20\": 16}, \"110\": {\"110\": 34, \"34\": 1, \"35\": 1, \"21\": 1, \"24\": 1, \"14\": 1, \"69\": 1}, \"65\": {\"65\": 20}, \"37\": {\"79\": 1, \"37\": 14, \"104\": 1}, \"64\": {\"64\": 16}, \"63\": {\"63\": 19, \"118\": 1}, \"40\": {\"40\": 128, \"129\": 1, \"24\": 1, \"69\": 3, \"87\": 1, \"18\": 1, \"73\": 1, \"71\": 1, \"110\": 1, \"62\": 1, \"4\": 1}, \"21\": {\"21\": 41, \"109\": 1, \"70\": 1, \"82\": 1, \"62\": 1, \"39\": 2, \"78\": 1}, \"11\": {\"11\": 76, \"71\": 1, \"122\": 1, \"47\": 1, \"18\": 1}, \"67\": {\"67\": 16}, \"91\": {\"103\": 1, \"25\": 1, \"91\": 25, \"18\": 1}, \"87\": {\"87\": 104, \"102\": 2, \"13\": 1, \"107\": 1, \"116\": 1, \"39\": 1, \"36\": 1, \"69\": 1}, \"89\": {\"89\": 33, \"83\": 1, \"92\": 1, \"119\": 1}, \"9\": {\"9\": 32}, \"124\": {\"124\": 114}, \"56\": {\"56\": 10, \"12\": 1, \"30\": 1}, \"38\": {\"38\": 16}, \"94\": {\"94\": 57, \"102\": 3, \"26\": 1, \"12\": 1, \"24\": 1, \"39\": 1}, \"6\": {\"6\": 31, \"51\": 1}, \"58\": {\"58\": 19, \"42\": 1}, \"22\": {\"22\": 20}, \"24\": {\"24\": 101, \"118\": 1, \"107\": 1, \"36\": 2, \"70\": 1, \"69\": 4, \"16\": 1, \"109\": 1}, \"57\": {\"57\": 20}, \"112\": {\"112\": 8, \"53\": 1, \"111\": 1, \"49\": 1, \"128\": 2, \"24\": 2, \"94\": 1}, \"116\": {\"116\": 25, \"107\": 1, \"78\": 1, \"70\": 1}, \"18\": {\"18\": 120, \"1\": 1, \"117\": 1, \"94\": 1, \"69\": 1, \"24\": 2, \"70\": 1, \"62\": 1}, \"49\": {\"49\": 18, \"112\": 1, \"129\": 1, \"11\": 1, \"61\": 1, \"21\": 1, \"19\": 1}, \"45\": {\"45\": 16}, \"107\": {\"107\": 54, \"49\": 1, \"16\": 1, \"36\": 2, \"4\": 2, \"62\": 1, \"61\": 1, \"110\": 1, \"87\": 1}, \"35\": {\"35\": 12}, \"78\": {\"78\": 39, \"118\": 1, \"70\": 1, \"84\": 2, \"95\": 1, \"36\": 1, \"21\": 2, \"4\": 1}, \"126\": {\"126\": 120}, \"85\": {\"85\": 32}, \"72\": {\"72\": 27, \"36\": 1}, \"26\": {\"26\": 120, \"70\": 1, \"69\": 1, \"18\": 1, \"71\": 1}, \"84\": {\"84\": 89, \"118\": 1, \"87\": 1, \"2\": 1}, \"128\": {\"128\": 19, \"70\": 1, \"97\": 2, \"101\": 1, \"71\": 1}, \"31\": {\"31\": 20}, \"71\": {\"71\": 98, \"40\": 1, \"11\": 1}}, \"Wisig_1\": {\"22\": {\"22\": 16}, \"58\": {\"58\": 12}, \"109\": {\"109\": 123, \"126\": 1}, \"77\": {\"77\": 16}, \"74\": {\"74\": 16}, \"10\": {\"10\": 113, \"85\": 2, \"0\": 4, \"98\": 1}, \"70\": {\"70\": 124, \"12\": 1, \"106\": 1, \"62\": 1, \"108\": 1}, \"84\": {\"84\": 108}, \"52\": {\"52\": 20}, \"20\": {\"20\": 15, \"102\": 1}, \"14\": {\"14\": 95, \"26\": 1}, \"37\": {\"37\": 16}, \"42\": {\"42\": 22, \"109\": 1, \"2\": 3, \"93\": 1, \"91\": 1}, \"99\": {\"99\": 24}, \"35\": {\"35\": 12}, \"62\": {\"62\": 119, \"26\": 1}, \"61\": {\"61\": 12}, \"7\": {\"7\": 141, \"26\": 1}, \"69\": {\"69\": 101, \"26\": 2, \"36\": 1}, \"55\": {\"55\": 12}, \"41\": {\"41\": 16}, \"120\": {\"120\": 20}, \"123\": {\"123\": 16}, \"97\": {\"97\": 16, \"78\": 1, \"42\": 1, \"102\": 1, \"95\": 1}, \"102\": {\"102\": 119, \"16\": 1}, \"60\": {\"32\": 1, \"120\": 1, \"60\": 5, \"25\": 1, \"13\": 2, \"42\": 2, \"109\": 1, \"55\": 1, \"19\": 1, \"30\": 1}, \"127\": {\"127\": 104, \"4\": 1, \"122\": 2, \"78\": 1}, \"32\": {\"32\": 29, \"4\": 1, \"35\": 1, \"127\": 1}, \"3\": {\"3\": 83, \"43\": 1, \"4\": 1, \"75\": 1, \"0\": 1, \"87\": 1}, \"8\": {\"8\": 122}, \"129\": {\"129\": 25, \"2\": 1, \"23\": 1, \"123\": 1}, \"119\": {\"119\": 16}, \"21\": {\"21\": 36, \"70\": 1, \"78\": 1, \"14\": 1, \"9\": 1}, \"53\": {\"53\": 20}, \"28\": {\"28\": 20}, \"117\": {\"117\": 144}, \"112\": {\"112\": 16}, \"126\": {\"126\": 131, \"109\": 1, \"40\": 1, \"122\": 1}, \"30\": {\"30\": 52}, \"105\": {\"105\": 81, \"102\": 2, \"26\": 1}, \"29\": {\"29\": 28}, \"57\": {\"57\": 12}, \"93\": {\"93\": 137, \"87\": 1, \"4\": 1, \"105\": 1}, \"17\": {\"17\": 15, \"78\": 1}, \"44\": {\"44\": 76}, \"63\": {\"63\": 16}, \"87\": {\"87\": 106, \"69\": 1, \"108\": 1}, \"0\": {\"0\": 83, \"122\": 1}, \"96\": {\"96\": 18, \"91\": 1, \"126\": 1}, \"98\": {\"98\": 108}, \"75\": {\"75\": 16}, \"78\": {\"78\": 12, \"43\": 3, \"21\": 1}, \"116\": {\"116\": 31, \"94\": 1}, \"114\": {\"114\": 126, \"43\": 1, \"94\": 1}, \"103\": {\"103\": 15, \"9\": 1}, \"50\": {\"50\": 16}, \"124\": {\"124\": 128}, \"5\": {\"5\": 86, \"27\": 1, \"39\": 1}, \"73\": {\"73\": 19, \"93\": 1}, \"81\": {\"81\": 28}, \"49\": {\"49\": 14, \"70\": 3, \"30\": 1, \"1\": 1, \"129\": 1}, \"16\": {\"16\": 106, \"102\": 1, \"27\": 1}, \"101\": {\"101\": 124}, \"125\": {\"125\": 118}, \"65\": {\"66\": 1, \"65\": 6, \"45\": 2, \"3\": 1, \"76\": 1, \"115\": 1}, \"66\": {\"66\": 16}, \"79\": {\"79\": 12}, \"39\": {\"39\": 102, \"30\": 1, \"6\": 1}, \"104\": {\"104\": 16}, \"91\": {\"91\": 28}, \"25\": {\"25\": 16}, \"64\": {\"64\": 16}, \"34\": {\"60\": 2, \"34\": 21, \"83\": 1, \"70\": 1, \"6\": 4, \"98\": 1, \"122\": 2}, \"82\": {\"82\": 36}, \"18\": {\"18\": 124}, \"43\": {\"43\": 127, \"6\": 1}, \"47\": {\"47\": 12}, \"108\": {\"108\": 120, \"24\": 2, \"70\": 1, \"69\": 1}, \"111\": {\"111\": 107, \"93\": 1}, \"23\": {\"23\": 15, \"86\": 2, \"110\": 1, \"32\": 1, \"55\": 1, \"104\": 1, \"53\": 1, \"127\": 1, \"40\": 1}, \"90\": {\"90\": 157, \"122\": 1, \"113\": 1, \"102\": 1}, \"4\": {\"4\": 99, \"27\": 1}, \"92\": {\"92\": 28}, \"2\": {\"2\": 25, \"54\": 1, \"11\": 3, \"82\": 2, \"18\": 1}, \"45\": {\"2\": 1, \"45\": 5, \"104\": 2, \"124\": 2, \"102\": 1, \"43\": 1}, \"68\": {\"68\": 16}, \"26\": {\"26\": 128}, \"38\": {\"38\": 16}, \"40\": {\"40\": 141, \"105\": 1}, \"80\": {\"80\": 15, \"23\": 1}, \"107\": {\"107\": 118, \"65\": 1, \"102\": 2, \"69\": 1}, \"94\": {\"94\": 92}, \"115\": {\"115\": 12}, \"46\": {\"46\": 5, \"30\": 1, \"12\": 2, \"62\": 1, \"70\": 2, \"98\": 1}, \"72\": {\"72\": 32}, \"19\": {\"19\": 27, \"128\": 1}, \"100\": {\"100\": 14, \"65\": 1, \"24\": 1}, \"76\": {\"76\": 15, \"88\": 1}, \"106\": {\"106\": 131, \"12\": 1}, \"88\": {\"88\": 128, \"27\": 1, \"36\": 1}, \"15\": {\"15\": 96, \"71\": 1, \"12\": 2, \"27\": 2, \"111\": 2, \"70\": 1}, \"54\": {\"54\": 14, \"60\": 1, \"21\": 1}, \"13\": {\"13\": 16}, \"51\": {\"51\": 16}, \"24\": {\"24\": 90, \"102\": 1, \"108\": 1}, \"48\": {\"48\": 12}, \"85\": {\"85\": 32}, \"33\": {\"33\": 140}, \"71\": {\"71\": 104, \"126\": 1, \"117\": 1, \"6\": 1, \"1\": 1}, \"6\": {\"6\": 31, \"52\": 1}, \"83\": {\"83\": 26, \"69\": 1, \"118\": 1}, \"121\": {\"121\": 31, \"18\": 1}, \"31\": {\"31\": 15, \"122\": 1}, \"67\": {\"45\": 1, \"67\": 15}, \"1\": {\"1\": 135, \"18\": 1}, \"27\": {\"27\": 90, \"107\": 1, \"15\": 1}, \"118\": {\"118\": 82, \"87\": 1, \"103\": 1}, \"56\": {\"56\": 12}, \"36\": {\"36\": 124, \"88\": 3, \"43\": 1}, \"11\": {\"11\": 125, \"88\": 1}, \"110\": {\"110\": 120, \"26\": 1, \"18\": 1}, \"89\": {\"89\": 36}, \"113\": {\"113\": 112, \"6\": 1, \"40\": 1, \"33\": 1, \"69\": 1, \"110\": 1, \"102\": 1}, \"59\": {\"59\": 12}, \"9\": {\"9\": 31, \"26\": 1}, \"86\": {\"86\": 34, \"94\": 1, \"122\": 1}, \"12\": {\"12\": 101, \"69\": 1, \"24\": 1, \"43\": 1}, \"122\": {\"122\": 86, \"26\": 2}, \"128\": {\"128\": 19, \"70\": 2, \"82\": 1, \"83\": 1, \"72\": 1}, \"95\": {\"95\": 35, \"102\": 1}}, \"ORACLE.run114\": {\"15\": {\"15\": 55, \"4\": 31, \"7\": 31, \"14\": 13, \"2\": 20, \"6\": 26, \"13\": 27, \"11\": 2, \"3\": 7, \"5\": 13, \"10\": 6, \"1\": 5, \"0\": 4}, \"5\": {\"0\": 26, \"4\": 37, \"5\": 16, \"11\": 9, \"3\": 29, \"10\": 17, \"15\": 15, \"13\": 8, \"7\": 24, \"2\": 13, \"1\": 24, \"9\": 2, \"14\": 12, \"6\": 6, \"8\": 2}, \"7\": {\"15\": 19, \"4\": 32, \"7\": 53, \"1\": 20, \"0\": 3, \"5\": 30, \"3\": 16, \"6\": 6, \"13\": 14, \"14\": 15, \"10\": 10, \"9\": 1, \"2\": 15, \"11\": 4, \"8\": 2}, \"4\": {\"4\": 28, \"6\": 15, \"13\": 8, \"7\": 25, \"2\": 18, \"5\": 26, \"14\": 22, \"3\": 21, \"1\": 18, \"11\": 12, \"10\": 17, \"0\": 15, \"15\": 11, \"9\": 3, \"8\": 1}, \"10\": {\"11\": 32, \"2\": 13, \"10\": 26, \"0\": 25, \"3\": 27, \"6\": 9, \"1\": 21, \"13\": 10, \"5\": 25, \"14\": 7, \"4\": 24, \"7\": 10, \"9\": 3, \"15\": 6, \"12\": 1, \"8\": 1}, \"11\": {\"11\": 40, \"4\": 14, \"9\": 18, \"3\": 18, \"0\": 40, \"6\": 3, \"2\": 10, \"12\": 8, \"10\": 19, \"5\": 17, \"8\": 9, \"14\": 13, \"1\": 19, \"13\": 3, \"7\": 7, \"15\": 2}, \"12\": {\"12\": 96, \"11\": 20, \"8\": 45, \"9\": 65, \"5\": 3, \"0\": 7, \"1\": 3, \"10\": 1}, \"0\": {\"0\": 29, \"8\": 6, \"13\": 6, \"14\": 10, \"1\": 27, \"11\": 33, \"3\": 26, \"7\": 8, \"15\": 6, \"10\": 13, \"4\": 17, \"2\": 16, \"5\": 22, \"9\": 11, \"6\": 6, \"12\": 4}, \"14\": {\"11\": 17, \"4\": 17, \"14\": 38, \"2\": 27, \"10\": 13, \"5\": 23, \"0\": 11, \"13\": 15, \"3\": 17, \"1\": 11, \"7\": 16, \"6\": 22, \"15\": 12, \"9\": 1}, \"8\": {\"8\": 74, \"0\": 10, \"10\": 5, \"11\": 17, \"4\": 5, \"7\": 6, \"2\": 3, \"12\": 38, \"3\": 7, \"9\": 38, \"5\": 9, \"1\": 26, \"15\": 1, \"14\": 1}, \"13\": {\"6\": 40, \"15\": 29, \"7\": 10, \"13\": 46, \"5\": 12, \"2\": 30, \"14\": 29, \"10\": 10, \"0\": 5, \"4\": 14, \"11\": 6, \"3\": 7, \"1\": 2}, \"6\": {\"6\": 53, \"14\": 32, \"7\": 14, \"4\": 15, \"13\": 48, \"5\": 8, \"0\": 6, \"2\": 19, \"3\": 10, \"10\": 5, \"11\": 5, \"15\": 23, \"1\": 2}, \"1\": {\"11\": 18, \"10\": 16, \"14\": 10, \"4\": 26, \"1\": 25, \"2\": 13, \"0\": 18, \"9\": 10, \"5\": 22, \"3\": 28, \"7\": 34, \"15\": 4, \"8\": 7, \"13\": 3, \"6\": 3, \"12\": 3}, \"3\": {\"0\": 31, \"1\": 20, \"11\": 25, \"7\": 14, \"2\": 14, \"5\": 32, \"9\": 5, \"3\": 27, \"4\": 15, \"10\": 21, \"6\": 7, \"14\": 19, \"15\": 4, \"8\": 2, \"13\": 4}, \"9\": {\"0\": 17, \"12\": 71, \"9\": 50, \"11\": 23, \"8\": 46, \"3\": 6, \"10\": 7, \"4\": 6, \"1\": 8, \"5\": 4, \"7\": 2}, \"2\": {\"10\": 14, \"6\": 23, \"5\": 21, \"0\": 12, \"1\": 12, \"2\": 28, \"11\": 13, \"7\": 17, \"13\": 24, \"15\": 13, \"3\": 18, \"4\": 14, \"14\": 31}}, \"ORACLE.run120\": {\"4\": {\"13\": 5, \"14\": 25, \"8\": 22, \"6\": 18, \"11\": 10, \"9\": 13, \"1\": 10, \"4\": 18, \"5\": 16, \"3\": 15, \"2\": 14, \"7\": 22, \"0\": 7, \"10\": 24, \"12\": 14, \"15\": 7}, \"10\": {\"6\": 26, \"7\": 16, \"12\": 9, \"2\": 10, \"14\": 33, \"9\": 17, \"5\": 9, \"8\": 23, \"4\": 29, \"10\": 42, \"3\": 14, \"11\": 2, \"1\": 5, \"15\": 3, \"13\": 1, \"0\": 1}, \"15\": {\"5\": 23, \"3\": 17, \"12\": 17, \"11\": 17, \"0\": 25, \"15\": 27, \"1\": 20, \"13\": 14, \"8\": 10, \"9\": 25, \"2\": 20, \"4\": 8, \"10\": 4, \"6\": 2, \"7\": 10, \"14\": 1}, \"0\": {\"5\": 13, \"12\": 11, \"8\": 15, \"2\": 19, \"7\": 21, \"4\": 11, \"11\": 9, \"0\": 24, \"1\": 18, \"13\": 31, \"6\": 8, \"3\": 17, \"9\": 19, \"10\": 5, \"15\": 18, \"14\": 1}, \"6\": {\"13\": 6, \"2\": 16, \"8\": 21, \"0\": 10, \"9\": 12, \"11\": 12, \"4\": 29, \"12\": 8, \"6\": 27, \"5\": 8, \"7\": 14, \"1\": 7, \"14\": 24, \"3\": 16, \"10\": 26, \"15\": 4}, \"3\": {\"13\": 11, \"0\": 17, \"5\": 20, \"14\": 11, \"7\": 19, \"4\": 8, \"2\": 16, \"11\": 10, \"1\": 16, \"10\": 16, \"12\": 22, \"9\": 19, \"8\": 16, \"6\": 15, \"3\": 11, \"15\": 13}, \"7\": {\"8\": 19, \"4\": 17, \"15\": 15, \"3\": 21, \"1\": 12, \"6\": 15, \"9\": 29, \"13\": 7, \"11\": 14, \"0\": 16, \"7\": 15, \"5\": 15, \"10\": 7, \"12\": 11, \"2\": 24, \"14\": 3}, \"2\": {\"4\": 11, \"12\": 16, \"14\": 6, \"8\": 15, \"0\": 19, \"6\": 9, \"11\": 20, \"1\": 16, \"5\": 15, \"7\": 17, \"15\": 21, \"9\": 19, \"13\": 18, \"2\": 19, \"3\": 16, \"10\": 3}, \"8\": {\"5\": 20, \"12\": 19, \"8\": 26, \"10\": 19, \"7\": 18, \"11\": 8, \"2\": 12, \"6\": 21, \"4\": 17, \"15\": 8, \"9\": 16, \"3\": 13, \"13\": 5, \"14\": 22, \"0\": 13, \"1\": 3}, \"11\": {\"13\": 25, \"7\": 19, \"0\": 19, \"8\": 10, \"2\": 21, \"4\": 8, \"6\": 10, \"11\": 40, \"12\": 14, \"9\": 16, \"3\": 4, \"1\": 15, \"15\": 18, \"5\": 10, \"14\": 10, \"10\": 1}, \"14\": {\"4\": 34, \"7\": 12, \"10\": 39, \"8\": 27, \"11\": 9, \"6\": 26, \"5\": 7, \"15\": 6, \"12\": 4, \"1\": 5, \"2\": 14, \"9\": 8, \"14\": 36, \"3\": 7, \"0\": 6}, \"12\": {\"6\": 7, \"0\": 18, \"12\": 12, \"8\": 16, \"1\": 18, \"7\": 20, \"9\": 14, \"3\": 19, \"11\": 11, \"15\": 23, \"2\": 18, \"13\": 15, \"10\": 7, \"5\": 18, \"4\": 17, \"14\": 7}, \"13\": {\"0\": 24, \"9\": 20, \"11\": 22, \"13\": 29, \"8\": 11, \"1\": 17, \"2\": 14, \"5\": 21, \"3\": 13, \"12\": 21, \"15\": 29, \"4\": 3, \"7\": 14, \"14\": 1, \"6\": 1}, \"9\": {\"13\": 24, \"7\": 12, \"8\": 17, \"12\": 19, \"4\": 17, \"3\": 19, \"14\": 5, \"11\": 12, \"9\": 20, \"6\": 5, \"5\": 14, \"15\": 16, \"2\": 19, \"1\": 13, \"10\": 5, \"0\": 23}, \"5\": {\"6\": 7, \"7\": 21, \"8\": 22, \"14\": 6, \"0\": 23, \"11\": 15, \"5\": 17, \"15\": 21, \"13\": 16, \"9\": 20, \"12\": 16, \"4\": 9, \"1\": 17, \"3\": 14, \"2\": 12, \"10\": 4}, \"1\": {\"5\": 24, \"13\": 31, \"12\": 16, \"14\": 6, \"2\": 12, \"0\": 16, \"8\": 13, \"9\": 28, \"11\": 9, \"7\": 18, \"15\": 18, \"3\": 16, \"10\": 2, \"1\": 15, \"6\": 7, \"4\": 9}}, \"ORACLE.run150\": {\"5\": {\"6\": 26, \"7\": 31, \"9\": 9, \"5\": 42, \"4\": 19, \"3\": 4, \"11\": 17, \"10\": 10, \"13\": 33, \"1\": 11, \"14\": 4, \"12\": 6, \"15\": 20, \"8\": 5, \"0\": 2, \"2\": 1}, \"12\": {\"4\": 4, \"11\": 18, \"13\": 9, \"8\": 4, \"6\": 9, \"15\": 11, \"0\": 16, \"12\": 50, \"9\": 28, \"1\": 14, \"2\": 25, \"14\": 37, \"10\": 10, \"7\": 3, \"5\": 2}, \"14\": {\"9\": 13, \"13\": 9, \"12\": 54, \"0\": 24, \"1\": 13, \"10\": 11, \"2\": 32, \"6\": 12, \"14\": 40, \"8\": 5, \"15\": 7, \"11\": 12, \"4\": 6, \"7\": 2}, \"4\": {\"11\": 17, \"1\": 31, \"5\": 31, \"15\": 38, \"4\": 28, \"7\": 23, \"9\": 12, \"6\": 21, \"13\": 29, \"10\": 4, \"12\": 2, \"14\": 2, \"0\": 1, \"8\": 1}, \"13\": {\"7\": 28, \"6\": 23, \"5\": 23, \"14\": 12, \"13\": 33, \"1\": 20, \"9\": 11, \"15\": 23, \"4\": 13, \"12\": 3, \"10\": 21, \"8\": 3, \"0\": 10, \"11\": 13, \"2\": 1, \"3\": 3}, \"10\": {\"6\": 6, \"8\": 36, \"10\": 46, \"13\": 18, \"11\": 3, \"14\": 8, \"3\": 17, \"2\": 26, \"9\": 2, \"0\": 38, \"1\": 7, \"7\": 15, \"5\": 9, \"4\": 3, \"12\": 1, \"15\": 5}, \"9\": {\"11\": 38, \"12\": 18, \"9\": 35, \"15\": 30, \"4\": 23, \"6\": 14, \"1\": 29, \"14\": 17, \"5\": 11, \"13\": 12, \"10\": 4, \"7\": 6, \"2\": 3}, \"15\": {\"1\": 34, \"15\": 50, \"9\": 19, \"11\": 28, \"5\": 17, \"7\": 11, \"4\": 25, \"6\": 29, \"10\": 2, \"13\": 22, \"12\": 3}, \"6\": {\"6\": 36, \"1\": 28, \"13\": 30, \"4\": 16, \"15\": 26, \"7\": 22, \"2\": 4, \"11\": 12, \"0\": 2, \"5\": 21, \"10\": 11, \"9\": 13, \"14\": 10, \"12\": 6, \"3\": 1, \"8\": 2}, \"2\": {\"2\": 57, \"14\": 32, \"10\": 26, \"6\": 3, \"0\": 54, \"3\": 2, \"8\": 27, \"12\": 21, \"15\": 2, \"13\": 4, \"1\": 3, \"7\": 4, \"9\": 1, \"11\": 2, \"4\": 2}, \"0\": {\"10\": 26, \"14\": 29, \"13\": 7, \"2\": 58, \"8\": 39, \"0\": 53, \"1\": 3, \"12\": 10, \"3\": 3, \"4\": 1, \"7\": 5, \"11\": 4, \"15\": 1, \"6\": 1}, \"11\": {\"14\": 12, \"15\": 35, \"9\": 34, \"5\": 3, \"4\": 23, \"1\": 32, \"13\": 13, \"12\": 14, \"11\": 41, \"10\": 5, \"6\": 19, \"0\": 1, \"7\": 6, \"8\": 1, \"2\": 1}, \"3\": {\"10\": 32, \"3\": 124, \"7\": 10, \"8\": 49, \"5\": 8, \"4\": 1, \"0\": 7, \"13\": 7, \"1\": 1, \"2\": 1}, \"8\": {\"8\": 75, \"10\": 41, \"2\": 26, \"3\": 35, \"0\": 37, \"6\": 3, \"15\": 3, \"7\": 12, \"1\": 1, \"4\": 1, \"5\": 3, \"13\": 3}, \"7\": {\"6\": 28, \"5\": 28, \"4\": 22, \"9\": 4, \"0\": 7, \"13\": 36, \"7\": 47, \"1\": 13, \"8\": 6, \"10\": 15, \"3\": 17, \"11\": 6, \"15\": 9, \"14\": 1, \"2\": 1}, \"1\": {\"1\": 35, \"15\": 18, \"9\": 22, \"8\": 1, \"5\": 17, \"13\": 30, \"11\": 20, \"14\": 10, \"6\": 32, \"7\": 10, \"10\": 9, \"4\": 21, \"2\": 2, \"12\": 9, \"0\": 3, \"3\": 1}}, \"ORACLE.run126\": {\"7\": {\"3\": 20, \"10\": 28, \"6\": 13, \"5\": 8, \"14\": 18, \"9\": 25, \"4\": 18, \"7\": 21, \"12\": 6, \"2\": 22, \"8\": 19, \"15\": 9, \"13\": 5, \"1\": 12, \"0\": 16}, \"6\": {\"3\": 12, \"10\": 18, \"4\": 8, \"5\": 13, \"6\": 24, \"8\": 21, \"15\": 27, \"13\": 16, \"14\": 11, \"0\": 13, \"1\": 7, \"9\": 21, \"11\": 5, \"12\": 22, \"7\": 11, \"2\": 11}, \"14\": {\"3\": 26, \"4\": 26, \"0\": 19, \"5\": 5, \"15\": 15, \"8\": 18, \"14\": 23, \"6\": 15, \"12\": 4, \"10\": 23, \"2\": 12, \"1\": 23, \"7\": 16, \"9\": 12, \"13\": 3}, \"15\": {\"12\": 23, \"8\": 15, \"2\": 22, \"15\": 29, \"7\": 12, \"5\": 30, \"10\": 13, \"6\": 23, \"3\": 15, \"9\": 15, \"0\": 8, \"11\": 6, \"13\": 15, \"4\": 7, \"1\": 3, \"14\": 4}, \"5\": {\"4\": 8, \"10\": 9, \"6\": 17, \"15\": 24, \"13\": 30, \"9\": 25, \"12\": 29, \"2\": 20, \"5\": 18, \"7\": 10, \"14\": 4, \"3\": 12, \"0\": 6, \"11\": 10, \"1\": 6, \"8\": 12}, \"10\": {\"15\": 11, \"8\": 23, \"4\": 12, \"5\": 12, \"2\": 23, \"7\": 19, \"10\": 23, \"6\": 17, \"0\": 20, \"3\": 26, \"14\": 16, \"12\": 12, \"1\": 14, \"11\": 1, \"9\": 8, \"13\": 3}, \"4\": {\"10\": 19, \"5\": 6, \"3\": 27, \"7\": 20, \"14\": 24, \"8\": 13, \"6\": 8, \"12\": 5, \"1\": 27, \"9\": 12, \"15\": 12, \"2\": 16, \"0\": 23, \"4\": 24, \"13\": 4}, \"11\": {\"12\": 35, \"11\": 117, \"13\": 31, \"9\": 15, \"2\": 4, \"6\": 9, \"5\": 17, \"15\": 7, \"10\": 1, \"3\": 2, \"0\": 1, \"8\": 1}, \"13\": {\"13\": 36, \"15\": 18, \"7\": 6, \"12\": 25, \"9\": 24, \"6\": 17, \"5\": 34, \"10\": 8, \"3\": 13, \"0\": 7, \"2\": 13, \"11\": 17, \"14\": 9, \"8\": 11, \"1\": 1, \"4\": 1}, \"2\": {\"11\": 2, \"13\": 13, \"5\": 18, \"2\": 24, \"10\": 15, \"8\": 21, \"3\": 25, \"6\": 14, \"15\": 10, \"9\": 17, \"14\": 18, \"12\": 6, \"1\": 10, \"7\": 19, \"4\": 18, \"0\": 10}, \"0\": {\"4\": 21, \"8\": 24, \"14\": 23, \"2\": 21, \"10\": 27, \"0\": 24, \"9\": 9, \"12\": 8, \"1\": 14, \"13\": 2, \"6\": 11, \"7\": 17, \"3\": 23, \"15\": 14, \"5\": 2}, \"12\": {\"12\": 37, \"6\": 27, \"5\": 23, \"15\": 16, \"7\": 6, \"11\": 28, \"3\": 3, \"9\": 16, \"8\": 19, \"2\": 10, \"4\": 4, \"13\": 26, \"0\": 8, \"10\": 7, \"1\": 4, \"14\": 6}, \"3\": {\"3\": 25, \"0\": 15, \"15\": 12, \"7\": 18, \"2\": 28, \"14\": 20, \"8\": 23, \"1\": 20, \"4\": 13, \"10\": 15, \"5\": 16, \"9\": 19, \"6\": 11, \"12\": 2, \"13\": 3}, \"9\": {\"10\": 14, \"15\": 25, \"13\": 12, \"14\": 5, \"2\": 24, \"8\": 19, \"12\": 13, \"5\": 22, \"6\": 17, \"0\": 13, \"9\": 24, \"3\": 15, \"7\": 16, \"1\": 5, \"4\": 14, \"11\": 2}, \"8\": {\"4\": 19, \"1\": 13, \"10\": 17, \"7\": 18, \"2\": 25, \"15\": 23, \"5\": 9, \"0\": 20, \"12\": 14, \"9\": 14, \"6\": 10, \"8\": 21, \"14\": 15, \"3\": 16, \"13\": 6}, \"1\": {\"9\": 9, \"4\": 23, \"7\": 21, \"6\": 5, \"3\": 26, \"15\": 9, \"12\": 1, \"1\": 37, \"2\": 23, \"14\": 29, \"0\": 25, \"10\": 12, \"8\": 14, \"5\": 6}}, \"ORACLE.run132\": {\"7\": {\"14\": 35, \"11\": 23, \"7\": 29, \"0\": 35, \"4\": 34, \"3\": 2, \"2\": 25, \"13\": 12, \"8\": 16, \"5\": 19, \"9\": 7, \"12\": 3}, \"2\": {\"2\": 47, \"9\": 33, \"0\": 21, \"8\": 3, \"7\": 36, \"4\": 34, \"12\": 12, \"13\": 9, \"14\": 21, \"5\": 11, \"3\": 1, \"11\": 11, \"10\": 1}, \"5\": {\"5\": 22, \"3\": 22, \"11\": 26, \"0\": 23, \"14\": 26, \"13\": 27, \"2\": 13, \"7\": 27, \"8\": 30, \"9\": 5, \"4\": 19}, \"6\": {\"6\": 148, \"1\": 29, \"9\": 15, \"10\": 19, \"12\": 29}, \"13\": {\"5\": 30, \"3\": 25, \"7\": 22, \"0\": 22, \"8\": 34, \"4\": 24, \"2\": 13, \"14\": 20, \"13\": 35, \"11\": 15}, \"4\": {\"13\": 25, \"4\": 27, \"0\": 24, \"7\": 38, \"5\": 21, \"8\": 13, \"11\": 17, \"14\": 23, \"2\": 31, \"9\": 9, \"12\": 4, \"3\": 8}, \"3\": {\"3\": 64, \"8\": 46, \"11\": 21, \"5\": 24, \"13\": 27, \"0\": 12, \"15\": 8, \"14\": 21, \"2\": 2, \"4\": 5, \"7\": 10}, \"0\": {\"4\": 27, \"14\": 22, \"11\": 30, \"2\": 21, \"5\": 19, \"0\": 31, \"7\": 25, \"13\": 33, \"3\": 11, \"8\": 12, \"12\": 2, \"9\": 7}, \"9\": {\"9\": 85, \"13\": 3, \"2\": 27, \"12\": 74, \"0\": 3, \"7\": 6, \"4\": 20, \"6\": 4, \"5\": 4, \"10\": 5, \"11\": 3, \"14\": 4, \"8\": 1, \"1\": 1}, \"12\": {\"10\": 47, \"13\": 1, \"12\": 86, \"9\": 68, \"2\": 9, \"1\": 6, \"6\": 16, \"0\": 2, \"7\": 2, \"11\": 1, \"4\": 2}, \"8\": {\"13\": 33, \"0\": 24, \"3\": 35, \"14\": 19, \"2\": 7, \"5\": 28, \"7\": 10, \"11\": 22, \"8\": 40, \"15\": 6, \"4\": 16}, \"14\": {\"14\": 46, \"9\": 6, \"5\": 22, \"0\": 25, \"2\": 16, \"8\": 15, \"11\": 32, \"7\": 31, \"3\": 16, \"13\": 14, \"4\": 15, \"12\": 2}, \"15\": {\"8\": 13, \"15\": 201, \"3\": 22, \"14\": 1, \"0\": 2, \"13\": 1}, \"11\": {\"11\": 43, \"4\": 26, \"14\": 34, \"0\": 24, \"3\": 13, \"13\": 14, \"7\": 20, \"8\": 24, \"5\": 19, \"2\": 19, \"12\": 1, \"9\": 3}, \"10\": {\"1\": 62, \"10\": 131, \"12\": 29, \"6\": 12, \"9\": 6}, \"1\": {\"6\": 28, \"1\": 157, \"10\": 53, \"12\": 2}}, \"ORACLE.run144\": {\"11\": {\"6\": 47, \"7\": 9, \"11\": 114, \"2\": 12, \"10\": 16, \"9\": 9, \"12\": 5, \"13\": 25, \"1\": 3}, \"7\": {\"13\": 25, \"2\": 24, \"6\": 23, \"7\": 44, \"10\": 23, \"9\": 33, \"12\": 29, \"3\": 11, \"1\": 21, \"14\": 2, \"4\": 1, \"11\": 4}, \"6\": {\"7\": 36, \"9\": 17, \"10\": 15, \"6\": 61, \"1\": 8, \"11\": 36, \"13\": 44, \"12\": 4, \"3\": 2, \"2\": 17}, \"12\": {\"1\": 45, \"7\": 25, \"12\": 58, \"2\": 32, \"6\": 4, \"9\": 14, \"3\": 17, \"10\": 31, \"13\": 10, \"4\": 1, \"14\": 2, \"11\": 1}, \"4\": {\"4\": 70, \"14\": 51, \"5\": 30, \"9\": 17, \"7\": 5, \"15\": 16, \"3\": 26, \"12\": 3, \"13\": 4, \"1\": 7, \"0\": 6, \"2\": 3, \"6\": 2}, \"13\": {\"9\": 20, \"13\": 38, \"10\": 15, \"6\": 42, \"11\": 32, \"3\": 6, \"2\": 26, \"1\": 14, \"7\": 30, \"12\": 12, \"4\": 3, \"14\": 2}, \"8\": {\"8\": 87, \"0\": 76, \"15\": 43, \"14\": 10, \"5\": 24}, \"5\": {\"4\": 27, \"5\": 55, \"10\": 1, \"0\": 32, \"15\": 48, \"14\": 41, \"8\": 29, \"3\": 3, \"9\": 3, \"7\": 1}, \"14\": {\"0\": 14, \"5\": 39, \"4\": 51, \"14\": 51, \"3\": 25, \"9\": 6, \"15\": 29, \"12\": 2, \"1\": 5, \"7\": 5, \"8\": 7, \"2\": 3, \"6\": 1, \"13\": 2}, \"3\": {\"1\": 48, \"12\": 29, \"3\": 69, \"4\": 20, \"2\": 12, \"5\": 2, \"13\": 10, \"9\": 18, \"7\": 12, \"10\": 8, \"15\": 3, \"14\": 8, \"0\": 1}, \"10\": {\"9\": 16, \"10\": 46, \"11\": 7, \"12\": 42, \"7\": 26, \"13\": 19, \"1\": 25, \"2\": 37, \"3\": 8, \"6\": 13, \"4\": 1}, \"1\": {\"12\": 43, \"1\": 58, \"2\": 19, \"10\": 24, \"9\": 14, \"7\": 20, \"3\": 39, \"4\": 5, \"6\": 5, \"11\": 1, \"15\": 1, \"14\": 1, \"13\": 10}, \"2\": {\"6\": 28, \"7\": 29, \"3\": 5, \"1\": 25, \"2\": 45, \"10\": 37, \"9\": 21, \"13\": 21, \"12\": 23, \"11\": 6}, \"15\": {\"15\": 58, \"14\": 39, \"8\": 45, \"4\": 17, \"5\": 39, \"0\": 36, \"3\": 5, \"12\": 1}, \"9\": {\"12\": 25, \"10\": 19, \"9\": 43, \"2\": 23, \"3\": 12, \"1\": 31, \"7\": 31, \"6\": 23, \"11\": 4, \"13\": 24, \"14\": 3, \"4\": 2}, \"0\": {\"0\": 64, \"14\": 25, \"8\": 62, \"5\": 33, \"4\": 13, \"15\": 43}}, \"ORACLE.run18\": {\"10\": {\"13\": 21, \"0\": 29, \"2\": 13, \"14\": 16, \"6\": 16, \"7\": 29, \"4\": 17, \"11\": 12, \"5\": 22, \"10\": 29, \"3\": 8, \"15\": 8, \"1\": 8, \"8\": 8, \"9\": 2, \"12\": 2}, \"6\": {\"1\": 10, \"15\": 9, \"13\": 21, \"4\": 22, \"10\": 11, \"14\": 19, \"7\": 19, \"2\": 15, \"8\": 18, \"0\": 26, \"6\": 26, \"5\": 21, \"11\": 12, \"3\": 8, \"12\": 3}, \"13\": {\"9\": 1, \"1\": 11, \"14\": 23, \"6\": 17, \"13\": 28, \"10\": 27, \"4\": 22, \"11\": 9, \"12\": 4, \"5\": 31, \"7\": 16, \"0\": 26, \"3\": 6, \"8\": 5, \"15\": 6, \"2\": 8}, \"3\": {\"8\": 28, \"4\": 7, \"12\": 27, \"3\": 41, \"11\": 19, \"6\": 17, \"15\": 30, \"2\": 31, \"5\": 2, \"13\": 10, \"1\": 8, \"0\": 5, \"14\": 5, \"7\": 6, \"10\": 4}, \"9\": {\"9\": 196, \"5\": 12, \"10\": 10, \"0\": 7, \"14\": 4, \"13\": 8, \"7\": 2, \"4\": 1}, \"1\": {\"3\": 9, \"7\": 20, \"2\": 10, \"8\": 21, \"4\": 16, \"13\": 10, \"5\": 27, \"11\": 21, \"15\": 28, \"1\": 21, \"0\": 9, \"6\": 12, \"14\": 13, \"10\": 17, \"12\": 6}, \"5\": {\"5\": 45, \"7\": 19, \"10\": 25, \"9\": 1, \"4\": 24, \"11\": 22, \"13\": 16, \"8\": 8, \"14\": 24, \"0\": 17, \"6\": 14, \"1\": 13, \"15\": 7, \"3\": 1, \"2\": 3, \"12\": 1}, \"11\": {\"7\": 9, \"14\": 17, \"1\": 34, \"4\": 13, \"15\": 24, \"11\": 18, \"5\": 15, \"12\": 11, \"6\": 17, \"8\": 26, \"3\": 18, \"0\": 11, \"13\": 7, \"2\": 9, \"10\": 11}, \"4\": {\"15\": 9, \"13\": 18, \"10\": 25, \"5\": 20, \"14\": 19, \"2\": 14, \"0\": 20, \"4\": 21, \"7\": 31, \"1\": 16, \"6\": 15, \"11\": 12, \"3\": 4, \"12\": 4, \"8\": 12}, \"14\": {\"0\": 27, \"2\": 12, \"14\": 22, \"1\": 16, \"5\": 19, \"6\": 24, \"11\": 17, \"7\": 19, \"13\": 18, \"12\": 6, \"4\": 20, \"10\": 17, \"3\": 8, \"15\": 11, \"8\": 4}, \"12\": {\"3\": 35, \"12\": 30, \"8\": 33, \"5\": 7, \"15\": 36, \"1\": 19, \"11\": 20, \"4\": 7, \"7\": 7, \"2\": 20, \"13\": 8, \"6\": 9, \"10\": 4, \"14\": 3, \"0\": 2}, \"7\": {\"14\": 19, \"7\": 20, \"5\": 20, \"4\": 24, \"6\": 11, \"2\": 23, \"13\": 19, \"10\": 20, \"15\": 11, \"8\": 10, \"0\": 25, \"12\": 8, \"3\": 7, \"11\": 15, \"1\": 8}, \"0\": {\"10\": 25, \"14\": 19, \"0\": 35, \"5\": 21, \"2\": 20, \"4\": 24, \"3\": 6, \"6\": 18, \"13\": 33, \"7\": 21, \"1\": 3, \"15\": 4, \"11\": 8, \"9\": 3}, \"15\": {\"10\": 4, \"7\": 9, \"3\": 21, \"15\": 24, \"14\": 18, \"11\": 28, \"4\": 12, \"12\": 24, \"2\": 21, \"8\": 39, \"1\": 20, \"5\": 5, \"13\": 8, \"6\": 4, \"0\": 3}, \"2\": {\"5\": 12, \"12\": 13, \"0\": 16, \"8\": 18, \"15\": 14, \"7\": 20, \"2\": 40, \"3\": 30, \"10\": 17, \"4\": 6, \"11\": 10, \"14\": 12, \"6\": 17, \"13\": 11, \"1\": 4}, \"8\": {\"14\": 8, \"7\": 7, \"6\": 11, \"5\": 8, \"15\": 28, \"8\": 35, \"11\": 29, \"1\": 23, \"4\": 7, \"12\": 26, \"0\": 6, \"2\": 16, \"3\": 24, \"10\": 3, \"13\": 9}}, \"ORACLE.run138\": {\"4\": {\"12\": 52, \"4\": 168, \"7\": 6, \"10\": 4, \"11\": 8, \"14\": 1, \"3\": 1}, \"7\": {\"10\": 25, \"8\": 35, \"3\": 15, \"12\": 27, \"7\": 49, \"0\": 40, \"5\": 13, \"13\": 5, \"11\": 1, \"15\": 6, \"9\": 7, \"14\": 6, \"4\": 4, \"2\": 3, \"6\": 3, \"1\": 1}, \"12\": {\"10\": 16, \"14\": 27, \"12\": 99, \"4\": 34, \"7\": 21, \"0\": 18, \"8\": 9, \"11\": 12, \"5\": 4}, \"10\": {\"8\": 23, \"3\": 9, \"15\": 16, \"12\": 26, \"13\": 13, \"9\": 6, \"7\": 21, \"5\": 14, \"10\": 29, \"14\": 39, \"0\": 14, \"2\": 18, \"11\": 9, \"6\": 2, \"1\": 1}, \"0\": {\"3\": 28, \"0\": 32, \"9\": 11, \"8\": 29, \"10\": 16, \"7\": 32, \"14\": 12, \"6\": 10, \"4\": 6, \"15\": 18, \"5\": 21, \"12\": 15, \"13\": 6, \"2\": 2, \"1\": 1, \"11\": 1}, \"1\": {\"2\": 24, \"15\": 38, \"1\": 79, \"9\": 13, \"0\": 5, \"8\": 10, \"5\": 10, \"13\": 17, \"6\": 39, \"7\": 1, \"14\": 1, \"10\": 1, \"3\": 2}, \"5\": {\"8\": 25, \"1\": 9, \"13\": 20, \"7\": 18, \"14\": 8, \"5\": 30, \"9\": 22, \"6\": 16, \"15\": 25, \"2\": 15, \"10\": 10, \"0\": 25, \"3\": 15, \"12\": 2}, \"15\": {\"0\": 10, \"3\": 6, \"13\": 27, \"1\": 31, \"5\": 24, \"7\": 5, \"6\": 19, \"2\": 30, \"15\": 40, \"9\": 14, \"14\": 7, \"8\": 17, \"11\": 1, \"10\": 9}, \"9\": {\"6\": 41, \"1\": 11, \"10\": 3, \"5\": 29, \"15\": 14, \"7\": 4, \"9\": 47, \"3\": 30, \"0\": 21, \"8\": 16, \"13\": 19, \"14\": 1, \"2\": 4}, \"11\": {\"14\": 52, \"10\": 28, \"11\": 92, \"12\": 26, \"0\": 4, \"8\": 3, \"4\": 17, \"5\": 3, \"2\": 4, \"7\": 4, \"15\": 5, \"1\": 1, \"13\": 1}, \"14\": {\"8\": 12, \"10\": 32, \"12\": 25, \"2\": 30, \"11\": 34, \"13\": 15, \"14\": 65, \"9\": 1, \"15\": 8, \"4\": 2, \"0\": 5, \"1\": 3, \"7\": 5, \"6\": 3}, \"6\": {\"15\": 22, \"5\": 18, \"1\": 41, \"7\": 4, \"2\": 3, \"6\": 64, \"9\": 39, \"13\": 18, \"3\": 9, \"8\": 15, \"14\": 1, \"0\": 5, \"10\": 1}, \"8\": {\"7\": 14, \"0\": 33, \"3\": 16, \"5\": 31, \"10\": 24, \"15\": 14, \"8\": 42, \"9\": 10, \"13\": 16, \"14\": 10, \"2\": 9, \"1\": 5, \"11\": 1, \"6\": 12, \"4\": 1, \"12\": 2}, \"3\": {\"3\": 68, \"7\": 31, \"9\": 25, \"15\": 4, \"8\": 25, \"0\": 38, \"5\": 19, \"6\": 8, \"10\": 8, \"1\": 2, \"2\": 3, \"13\": 6, \"11\": 1, \"4\": 1, \"12\": 1}, \"2\": {\"13\": 32, \"2\": 68, \"15\": 37, \"10\": 15, \"0\": 14, \"14\": 20, \"5\": 9, \"8\": 12, \"1\": 22, \"7\": 2, \"11\": 1, \"6\": 5, \"9\": 3}, \"13\": {\"9\": 9, \"3\": 8, \"2\": 48, \"13\": 41, \"1\": 22, \"8\": 9, \"6\": 8, \"7\": 8, \"10\": 13, \"5\": 14, \"15\": 32, \"11\": 2, \"0\": 16, \"14\": 10}}}, \"per_domain_accuracy\": {\"Wisig_3\": {\"accuracy\": 0.9686135371179039, \"source?\": true}, \"Wisig_4\": {\"accuracy\": 0.9541580578512396, \"source?\": true}, \"Wisig_2\": {\"accuracy\": 0.9554324894514767, \"source?\": true}, \"Wisig_1\": {\"accuracy\": 0.9711134453781513, \"source?\": true}, \"ORACLE.run114\": {\"accuracy\": 0.178125, \"source?\": false}, \"ORACLE.run120\": {\"accuracy\": 0.0984375, \"source?\": false}, \"ORACLE.run150\": {\"accuracy\": 0.20625, \"source?\": false}, \"ORACLE.run126\": {\"accuracy\": 0.13203125, \"source?\": false}, \"ORACLE.run132\": {\"accuracy\": 0.3104166666666667, \"source?\": false}, \"ORACLE.run144\": {\"accuracy\": 0.25026041666666665, \"source?\": false}, \"ORACLE.run18\": {\"accuracy\": 0.16432291666666668, \"source?\": false}, \"ORACLE.run138\": {\"accuracy\": 0.2638020833333333, \"source?\": false}}}, \"history\": {\"epoch_indices\": [1, 2, 3, 4, 5], \"train_label_loss\": [0.1911672520889416, 0.11943343371885903, 0.09851557367442045, 0.08248393311937152, 0.06855302707459651], \"source_val_label_loss\": [0.16686341166496277, 0.12332770228385925, 0.11707190424203873, 0.11658059060573578, 0.11877402663230896], \"target_val_label_loss\": [2.4703469276428223, 2.5715460777282715, 2.55423903465271, 2.6741983890533447, 2.7570085525512695], \"source_val_acc_label\": [0.9622423361522199, 0.9709963002114165, 0.9725488900634249, 0.9723837209302325, 0.9739693446088795], \"target_val_acc_label\": [0.20045572916666668, 0.16744791666666667, 0.18115234375, 0.15628255208333333, 0.14186197916666668]}, \"dataset_metrics\": {\"source\": {\"train\": {\"n_unique_x\": 189029, \"n_unique_y\": 130, \"n_batch/episode\": 6842}, \"val\": {\"n_unique_x\": 40049, \"n_unique_y\": 130, \"n_batch/episode\": 946}, \"test\": {\"n_unique_x\": 40794, \"n_unique_y\": 130, \"n_batch/episode\": 966}}, \"target\": {\"train\": {\"n_unique_x\": 179200, \"n_unique_y\": 16, \"n_batch/episode\": 6720}, \"val\": {\"n_unique_x\": 38400, \"n_unique_y\": 16, \"n_batch/episode\": 960}, \"test\": {\"n_unique_x\": 38400, \"n_unique_y\": 16, \"n_batch/episode\": 960}}}}'"
      ]
     },
     "execution_count": 29,
     "metadata": {},
     "output_type": "execute_result"
    }
   ],
   "source": [
    "json.dumps(experiment)"
   ]
  }
 ],
 "metadata": {
  "celltoolbar": "Tags",
  "kernelspec": {
   "display_name": "Python 3 (ipykernel)",
   "language": "python",
   "name": "python3"
  },
  "language_info": {
   "codemirror_mode": {
    "name": "ipython",
    "version": 3
   },
   "file_extension": ".py",
   "mimetype": "text/x-python",
   "name": "python",
   "nbconvert_exporter": "python",
   "pygments_lexer": "ipython3",
   "version": "3.8.12"
  },
  "papermill": {
   "default_parameters": {},
   "duration": 1711.652087,
   "end_time": "2022-03-21T08:30:22.328190",
   "environment_variables": {},
   "exception": null,
   "input_path": "/root/csc500-main/csc500-notebooks/templates/tl_ptn_template.ipynb",
   "output_path": "trial.ipynb",
   "parameters": {
    "parameters": {
     "BEST_MODEL_PATH": "./best_model.pth",
     "NUM_LOGS_PER_EPOCH": 10,
     "criteria_for_best": "target_accuracy",
     "dataset_seed": 420,
     "datasets": [
      {
       "domain_prefix": "Wisig_",
       "domains": [
        1,
        2,
        3,
        4
       ],
       "episode_transforms": [],
       "labels": [
        "1-10",
        "1-12",
        "1-14",
        "1-16",
        "1-18",
        "1-19",
        "1-8",
        "10-11",
        "10-17",
        "10-4",
        "10-7",
        "11-1",
        "11-10",
        "11-19",
        "11-20",
        "11-4",
        "11-7",
        "12-19",
        "12-20",
        "12-7",
        "13-14",
        "13-18",
        "13-19",
        "13-20",
        "13-3",
        "13-7",
        "14-10",
        "14-11",
        "14-12",
        "14-13",
        "14-14",
        "14-19",
        "14-20",
        "14-7",
        "14-8",
        "14-9",
        "15-1",
        "15-19",
        "15-6",
        "16-1",
        "16-16",
        "16-19",
        "16-20",
        "17-10",
        "17-11",
        "18-1",
        "18-10",
        "18-11",
        "18-12",
        "18-13",
        "18-14",
        "18-15",
        "18-16",
        "18-17",
        "18-19",
        "18-2",
        "18-20",
        "18-4",
        "18-5",
        "18-7",
        "18-8",
        "18-9",
        "19-1",
        "19-10",
        "19-11",
        "19-12",
        "19-13",
        "19-14",
        "19-15",
        "19-19",
        "19-2",
        "19-20",
        "19-3",
        "19-4",
        "19-6",
        "19-7",
        "19-8",
        "19-9",
        "2-1",
        "2-13",
        "2-15",
        "2-3",
        "2-4",
        "2-5",
        "2-6",
        "2-7",
        "2-8",
        "20-1",
        "20-12",
        "20-14",
        "20-15",
        "20-16",
        "20-18",
        "20-19",
        "20-20",
        "20-3",
        "20-4",
        "20-5",
        "20-7",
        "20-8",
        "3-1",
        "3-13",
        "3-18",
        "3-2",
        "3-8",
        "4-1",
        "4-10",
        "4-11",
        "5-1",
        "5-5",
        "6-1",
        "6-15",
        "6-6",
        "7-10",
        "7-11",
        "7-12",
        "7-13",
        "7-14",
        "7-7",
        "7-8",
        "7-9",
        "8-1",
        "8-13",
        "8-14",
        "8-18",
        "8-20",
        "8-3",
        "8-8",
        "9-1",
        "9-7"
       ],
       "num_examples_per_domain_per_label": -1,
       "pickle_path": "/root/csc500-main/datasets/wisig.node3-19.stratified_ds.2022A.pkl",
       "source_or_target_dataset": "source",
       "x_transforms": [
        "unit_mag"
       ]
      },
      {
       "domain_prefix": "ORACLE.run1",
       "domains": [
        32,
        38,
        8,
        44,
        14,
        50,
        20,
        26
       ],
       "episode_transforms": [],
       "labels": [
        "3123D52",
        "3123D65",
        "3123D79",
        "3123D80",
        "3123D54",
        "3123D70",
        "3123D7B",
        "3123D89",
        "3123D58",
        "3123D76",
        "3123D7D",
        "3123EFE",
        "3123D64",
        "3123D78",
        "3123D7E",
        "3124E4A"
       ],
       "num_examples_per_domain_per_label": 2000,
       "pickle_path": "/root/csc500-main/datasets/oracle.Run1_framed_2000Examples_stratified_ds.2022A.pkl",
       "source_or_target_dataset": "target",
       "x_transforms": [
        "unit_mag"
       ]
      }
     ],
     "device": "cuda",
     "experiment_name": "tl_1v2:wisig-oracle.run1.framed",
     "lr": 0.0001,
     "n_epoch": 50,
     "n_query": 2,
     "n_shot": 3,
     "n_way": 16,
     "patience": 3,
     "seed": 420,
     "test_k_factor": 2,
     "torch_default_dtype": "torch.float32",
     "train_k_factor": 3,
     "val_k_factor": 2,
     "x_net": [
      {
       "class": "nnReshape",
       "kargs": {
        "shape": [
         -1,
         1,
         2,
         256
        ]
       }
      },
      {
       "class": "Conv2d",
       "kargs": {
        "bias": false,
        "in_channels": 1,
        "kernel_size": [
         1,
         7
        ],
        "out_channels": 256,
        "padding": [
         0,
         3
        ]
       }
      },
      {
       "class": "ReLU",
       "kargs": {
        "inplace": true
       }
      },
      {
       "class": "BatchNorm2d",
       "kargs": {
        "num_features": 256
       }
      },
      {
       "class": "Conv2d",
       "kargs": {
        "bias": true,
        "in_channels": 256,
        "kernel_size": [
         2,
         7
        ],
        "out_channels": 80,
        "padding": [
         0,
         3
        ]
       }
      },
      {
       "class": "ReLU",
       "kargs": {
        "inplace": true
       }
      },
      {
       "class": "BatchNorm2d",
       "kargs": {
        "num_features": 80
       }
      },
      {
       "class": "Flatten",
       "kargs": {}
      },
      {
       "class": "Linear",
       "kargs": {
        "in_features": 20480,
        "out_features": 256
       }
      },
      {
       "class": "ReLU",
       "kargs": {
        "inplace": true
       }
      },
      {
       "class": "BatchNorm1d",
       "kargs": {
        "num_features": 256
       }
      },
      {
       "class": "Linear",
       "kargs": {
        "in_features": 256,
        "out_features": 256
       }
      }
     ]
    }
   },
   "start_time": "2022-03-21T08:01:50.676103",
   "version": "2.3.4"
  }
 },
 "nbformat": 4,
 "nbformat_minor": 5
}