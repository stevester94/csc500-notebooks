{
 "cells": [
  {
   "cell_type": "markdown",
   "id": "9fea5f46",
   "metadata": {
    "papermill": {
     "duration": 0.029559,
     "end_time": "2022-03-21T08:30:23.276942",
     "exception": false,
     "start_time": "2022-03-21T08:30:23.247383",
     "status": "completed"
    },
    "tags": []
   },
   "source": [
    "# Transfer Learning Template"
   ]
  },
  {
   "cell_type": "code",
   "execution_count": 1,
   "id": "0902182a",
   "metadata": {
    "execution": {
     "iopub.execute_input": "2022-03-21T08:30:23.343033Z",
     "iopub.status.busy": "2022-03-21T08:30:23.342125Z",
     "iopub.status.idle": "2022-03-21T08:30:25.229534Z",
     "shell.execute_reply": "2022-03-21T08:30:25.229894Z"
    },
    "papermill": {
     "duration": 1.928371,
     "end_time": "2022-03-21T08:30:25.230107",
     "exception": false,
     "start_time": "2022-03-21T08:30:23.301736",
     "status": "completed"
    },
    "tags": []
   },
   "outputs": [],
   "source": [
    "%load_ext autoreload\n",
    "%autoreload 2\n",
    "%matplotlib inline\n",
    "\n",
    "    \n",
    "import os, json, sys, time, random\n",
    "import numpy as np\n",
    "import torch\n",
    "from torch.optim import Adam\n",
    "from  easydict import EasyDict\n",
    "import matplotlib.pyplot as plt\n",
    "\n",
    "from steves_models.steves_ptn import Steves_Prototypical_Network\n",
    "\n",
    "from steves_utils.lazy_iterable_wrapper import Lazy_Iterable_Wrapper\n",
    "from steves_utils.iterable_aggregator import Iterable_Aggregator\n",
    "from steves_utils.ptn_train_eval_test_jig import  PTN_Train_Eval_Test_Jig\n",
    "from steves_utils.torch_sequential_builder import build_sequential\n",
    "from steves_utils.torch_utils import get_dataset_metrics, ptn_confusion_by_domain_over_dataloader\n",
    "from steves_utils.utils_v2 import (per_domain_accuracy_from_confusion, get_datasets_base_path)\n",
    "from steves_utils.PTN.utils import independent_accuracy_assesment\n",
    "\n",
    "from torch.utils.data import DataLoader\n",
    "\n",
    "from steves_utils.stratified_dataset.episodic_accessor import Episodic_Accessor_Factory\n",
    "\n",
    "from steves_utils.ptn_do_report import (\n",
    "    get_loss_curve,\n",
    "    get_results_table,\n",
    "    get_parameters_table,\n",
    "    get_domain_accuracies,\n",
    ")\n",
    "\n",
    "from steves_utils.transforms import get_chained_transform"
   ]
  },
  {
   "cell_type": "markdown",
   "id": "41c840b4",
   "metadata": {
    "papermill": {
     "duration": 0.019608,
     "end_time": "2022-03-21T08:30:25.274138",
     "exception": false,
     "start_time": "2022-03-21T08:30:25.254530",
     "status": "completed"
    },
    "tags": []
   },
   "source": [
    "# Allowed Parameters\n",
    "These are allowed parameters, not defaults\n",
    "Each of these values need to be present in the injected parameters (the notebook will raise an exception if they are not present)\n",
    "\n",
    "Papermill uses the cell tag \"parameters\" to inject the real parameters below this cell.\n",
    "Enable tags to see what I mean"
   ]
  },
  {
   "cell_type": "code",
   "execution_count": 2,
   "id": "fd44eb83",
   "metadata": {
    "execution": {
     "iopub.execute_input": "2022-03-21T08:30:25.318573Z",
     "iopub.status.busy": "2022-03-21T08:30:25.318184Z",
     "iopub.status.idle": "2022-03-21T08:30:25.341022Z",
     "shell.execute_reply": "2022-03-21T08:30:25.340272Z"
    },
    "papermill": {
     "duration": 0.047798,
     "end_time": "2022-03-21T08:30:25.341204",
     "exception": false,
     "start_time": "2022-03-21T08:30:25.293406",
     "status": "completed"
    },
    "tags": []
   },
   "outputs": [],
   "source": [
    "required_parameters = {\n",
    "    \"experiment_name\",\n",
    "    \"lr\",\n",
    "    \"device\",\n",
    "    \"seed\",\n",
    "    \"dataset_seed\",\n",
    "    \"n_shot\",\n",
    "    \"n_query\",\n",
    "    \"n_way\",\n",
    "    \"train_k_factor\",\n",
    "    \"val_k_factor\",\n",
    "    \"test_k_factor\",\n",
    "    \"n_epoch\",\n",
    "    \"patience\",\n",
    "    \"criteria_for_best\",\n",
    "    \"x_net\",\n",
    "    \"datasets\",\n",
    "    \"torch_default_dtype\",\n",
    "    \"NUM_LOGS_PER_EPOCH\",\n",
    "    \"BEST_MODEL_PATH\",\n",
    "    \"x_shape\",\n",
    "}"
   ]
  },
  {
   "cell_type": "code",
   "execution_count": 3,
   "id": "fa3f0049",
   "metadata": {
    "execution": {
     "iopub.execute_input": "2022-03-21T08:30:25.407084Z",
     "iopub.status.busy": "2022-03-21T08:30:25.406073Z",
     "iopub.status.idle": "2022-03-21T08:30:25.425055Z",
     "shell.execute_reply": "2022-03-21T08:30:25.424221Z"
    },
    "papermill": {
     "duration": 0.058,
     "end_time": "2022-03-21T08:30:25.425248",
     "exception": false,
     "start_time": "2022-03-21T08:30:25.367248",
     "status": "completed"
    },
    "tags": [
     "parameters"
    ]
   },
   "outputs": [],
   "source": [
    "from steves_utils.CORES.utils import (\n",
    "    ALL_NODES,\n",
    "    ALL_NODES_MINIMUM_1000_EXAMPLES,\n",
    "    ALL_DAYS\n",
    ")\n",
    "\n",
    "from steves_utils.ORACLE.utils_v2 import (\n",
    "    ALL_DISTANCES_FEET_NARROWED,\n",
    "    ALL_RUNS,\n",
    "    ALL_SERIAL_NUMBERS,\n",
    ")\n",
    "\n",
    "standalone_parameters = {}\n",
    "standalone_parameters[\"experiment_name\"] = \"STANDALONE PTN\"\n",
    "standalone_parameters[\"lr\"] = 0.001\n",
    "standalone_parameters[\"device\"] = \"cuda\"\n",
    "\n",
    "standalone_parameters[\"seed\"] = 1337\n",
    "standalone_parameters[\"dataset_seed\"] = 1337\n",
    "\n",
    "standalone_parameters[\"n_way\"] = 8\n",
    "standalone_parameters[\"n_shot\"] = 3\n",
    "standalone_parameters[\"n_query\"]  = 2\n",
    "standalone_parameters[\"train_k_factor\"] = 1\n",
    "standalone_parameters[\"val_k_factor\"] = 2\n",
    "standalone_parameters[\"test_k_factor\"] = 2\n",
    "\n",
    "\n",
    "standalone_parameters[\"n_epoch\"] = 50\n",
    "\n",
    "standalone_parameters[\"patience\"] = 10\n",
    "standalone_parameters[\"criteria_for_best\"] = \"source_loss\"\n",
    "\n",
    "standalone_parameters[\"datasets\"] = [\n",
    "    {\n",
    "        \"labels\": ALL_SERIAL_NUMBERS,\n",
    "        \"domains\": ALL_DISTANCES_FEET_NARROWED,\n",
    "        \"num_examples_per_domain_per_label\": 100,\n",
    "        \"pickle_path\": os.path.join(get_datasets_base_path(), \"oracle.Run1_framed_2000Examples_stratified_ds.2022A.pkl\"),\n",
    "        \"source_or_target_dataset\": \"source\",\n",
    "        \"x_transforms\": [\"unit_mag\", \"minus_two\"],\n",
    "        \"episode_transforms\": [],\n",
    "        \"domain_prefix\": \"ORACLE_\"\n",
    "    },\n",
    "    {\n",
    "        \"labels\": ALL_NODES,\n",
    "        \"domains\": ALL_DAYS,\n",
    "        \"num_examples_per_domain_per_label\": 100,\n",
    "        \"pickle_path\": os.path.join(get_datasets_base_path(), \"cores.stratified_ds.2022A.pkl\"),\n",
    "        \"source_or_target_dataset\": \"target\",\n",
    "        \"x_transforms\": [\"unit_power\", \"times_zero\"],\n",
    "        \"episode_transforms\": [],\n",
    "        \"domain_prefix\": \"CORES_\"\n",
    "    }   \n",
    "]\n",
    "\n",
    "standalone_parameters[\"torch_default_dtype\"] = \"torch.float32\" \n",
    "\n",
    "\n",
    "\n",
    "standalone_parameters[\"x_net\"] =     [\n",
    "    {\"class\": \"nnReshape\", \"kargs\": {\"shape\":[-1, 1, 2, 256]}},\n",
    "    {\"class\": \"Conv2d\", \"kargs\": { \"in_channels\":1, \"out_channels\":256, \"kernel_size\":(1,7), \"bias\":False, \"padding\":(0,3), },},\n",
    "    {\"class\": \"ReLU\", \"kargs\": {\"inplace\": True}},\n",
    "    {\"class\": \"BatchNorm2d\", \"kargs\": {\"num_features\":256}},\n",
    "\n",
    "    {\"class\": \"Conv2d\", \"kargs\": { \"in_channels\":256, \"out_channels\":80, \"kernel_size\":(2,7), \"bias\":True, \"padding\":(0,3), },},\n",
    "    {\"class\": \"ReLU\", \"kargs\": {\"inplace\": True}},\n",
    "    {\"class\": \"BatchNorm2d\", \"kargs\": {\"num_features\":80}},\n",
    "    {\"class\": \"Flatten\", \"kargs\": {}},\n",
    "\n",
    "    {\"class\": \"Linear\", \"kargs\": {\"in_features\": 80*256, \"out_features\": 256}}, # 80 units per IQ pair\n",
    "    {\"class\": \"ReLU\", \"kargs\": {\"inplace\": True}},\n",
    "    {\"class\": \"BatchNorm1d\", \"kargs\": {\"num_features\":256}},\n",
    "\n",
    "    {\"class\": \"Linear\", \"kargs\": {\"in_features\": 256, \"out_features\": 256}},\n",
    "]\n",
    "\n",
    "# Parameters relevant to results\n",
    "# These parameters will basically never need to change\n",
    "standalone_parameters[\"NUM_LOGS_PER_EPOCH\"] = 10\n",
    "standalone_parameters[\"BEST_MODEL_PATH\"] = \"./best_model.pth\"\n",
    "\n",
    "\n",
    "\n",
    "\n"
   ]
  },
  {
   "cell_type": "code",
   "execution_count": 4,
   "id": "5243eed8",
   "metadata": {
    "execution": {
     "iopub.execute_input": "2022-03-21T08:30:25.496805Z",
     "iopub.status.busy": "2022-03-21T08:30:25.483180Z",
     "iopub.status.idle": "2022-03-21T08:30:25.518677Z",
     "shell.execute_reply": "2022-03-21T08:30:25.517875Z"
    },
    "papermill": {
     "duration": 0.064272,
     "end_time": "2022-03-21T08:30:25.518862",
     "exception": false,
     "start_time": "2022-03-21T08:30:25.454590",
     "status": "completed"
    },
    "tags": [
     "injected-parameters"
    ]
   },
   "outputs": [],
   "source": [
    "# Parameters\n",
    "parameters = {\n",
    "    \"experiment_name\": \"tl_1v2:wisig-oracle.run1.framed\",\n",
    "    \"device\": \"cuda\",\n",
    "    \"lr\": 0.0001,\n",
    "    \"n_shot\": 3,\n",
    "    \"n_query\": 2,\n",
    "    \"train_k_factor\": 3,\n",
    "    \"val_k_factor\": 2,\n",
    "    \"test_k_factor\": 2,\n",
    "    \"torch_default_dtype\": \"torch.float32\",\n",
    "    \"n_epoch\": 50,\n",
    "    \"patience\": 3,\n",
    "    \"criteria_for_best\": \"target_accuracy\",\n",
    "    \"x_net\": [\n",
    "        {\"class\": \"nnReshape\", \"kargs\": {\"shape\": [-1, 1, 2, 256]}},\n",
    "        {\n",
    "            \"class\": \"Conv2d\",\n",
    "            \"kargs\": {\n",
    "                \"in_channels\": 1,\n",
    "                \"out_channels\": 256,\n",
    "                \"kernel_size\": [1, 7],\n",
    "                \"bias\": False,\n",
    "                \"padding\": [0, 3],\n",
    "            },\n",
    "        },\n",
    "        {\"class\": \"ReLU\", \"kargs\": {\"inplace\": True}},\n",
    "        {\"class\": \"BatchNorm2d\", \"kargs\": {\"num_features\": 256}},\n",
    "        {\n",
    "            \"class\": \"Conv2d\",\n",
    "            \"kargs\": {\n",
    "                \"in_channels\": 256,\n",
    "                \"out_channels\": 80,\n",
    "                \"kernel_size\": [2, 7],\n",
    "                \"bias\": True,\n",
    "                \"padding\": [0, 3],\n",
    "            },\n",
    "        },\n",
    "        {\"class\": \"ReLU\", \"kargs\": {\"inplace\": True}},\n",
    "        {\"class\": \"BatchNorm2d\", \"kargs\": {\"num_features\": 80}},\n",
    "        {\"class\": \"Flatten\", \"kargs\": {}},\n",
    "        {\"class\": \"Linear\", \"kargs\": {\"in_features\": 20480, \"out_features\": 256}},\n",
    "        {\"class\": \"ReLU\", \"kargs\": {\"inplace\": True}},\n",
    "        {\"class\": \"BatchNorm1d\", \"kargs\": {\"num_features\": 256}},\n",
    "        {\"class\": \"Linear\", \"kargs\": {\"in_features\": 256, \"out_features\": 256}},\n",
    "    ],\n",
    "    \"NUM_LOGS_PER_EPOCH\": 10,\n",
    "    \"BEST_MODEL_PATH\": \"./best_model.pth\",\n",
    "    \"n_way\": 16,\n",
    "    \"datasets\": [\n",
    "        {\n",
    "            \"labels\": [\n",
    "                \"1-10\",\n",
    "                \"1-12\",\n",
    "                \"1-14\",\n",
    "                \"1-16\",\n",
    "                \"1-18\",\n",
    "                \"1-19\",\n",
    "                \"1-8\",\n",
    "                \"10-11\",\n",
    "                \"10-17\",\n",
    "                \"10-4\",\n",
    "                \"10-7\",\n",
    "                \"11-1\",\n",
    "                \"11-10\",\n",
    "                \"11-19\",\n",
    "                \"11-20\",\n",
    "                \"11-4\",\n",
    "                \"11-7\",\n",
    "                \"12-19\",\n",
    "                \"12-20\",\n",
    "                \"12-7\",\n",
    "                \"13-14\",\n",
    "                \"13-18\",\n",
    "                \"13-19\",\n",
    "                \"13-20\",\n",
    "                \"13-3\",\n",
    "                \"13-7\",\n",
    "                \"14-10\",\n",
    "                \"14-11\",\n",
    "                \"14-12\",\n",
    "                \"14-13\",\n",
    "                \"14-14\",\n",
    "                \"14-19\",\n",
    "                \"14-20\",\n",
    "                \"14-7\",\n",
    "                \"14-8\",\n",
    "                \"14-9\",\n",
    "                \"15-1\",\n",
    "                \"15-19\",\n",
    "                \"15-6\",\n",
    "                \"16-1\",\n",
    "                \"16-16\",\n",
    "                \"16-19\",\n",
    "                \"16-20\",\n",
    "                \"17-10\",\n",
    "                \"17-11\",\n",
    "                \"18-1\",\n",
    "                \"18-10\",\n",
    "                \"18-11\",\n",
    "                \"18-12\",\n",
    "                \"18-13\",\n",
    "                \"18-14\",\n",
    "                \"18-15\",\n",
    "                \"18-16\",\n",
    "                \"18-17\",\n",
    "                \"18-19\",\n",
    "                \"18-2\",\n",
    "                \"18-20\",\n",
    "                \"18-4\",\n",
    "                \"18-5\",\n",
    "                \"18-7\",\n",
    "                \"18-8\",\n",
    "                \"18-9\",\n",
    "                \"19-1\",\n",
    "                \"19-10\",\n",
    "                \"19-11\",\n",
    "                \"19-12\",\n",
    "                \"19-13\",\n",
    "                \"19-14\",\n",
    "                \"19-15\",\n",
    "                \"19-19\",\n",
    "                \"19-2\",\n",
    "                \"19-20\",\n",
    "                \"19-3\",\n",
    "                \"19-4\",\n",
    "                \"19-6\",\n",
    "                \"19-7\",\n",
    "                \"19-8\",\n",
    "                \"19-9\",\n",
    "                \"2-1\",\n",
    "                \"2-13\",\n",
    "                \"2-15\",\n",
    "                \"2-3\",\n",
    "                \"2-4\",\n",
    "                \"2-5\",\n",
    "                \"2-6\",\n",
    "                \"2-7\",\n",
    "                \"2-8\",\n",
    "                \"20-1\",\n",
    "                \"20-12\",\n",
    "                \"20-14\",\n",
    "                \"20-15\",\n",
    "                \"20-16\",\n",
    "                \"20-18\",\n",
    "                \"20-19\",\n",
    "                \"20-20\",\n",
    "                \"20-3\",\n",
    "                \"20-4\",\n",
    "                \"20-5\",\n",
    "                \"20-7\",\n",
    "                \"20-8\",\n",
    "                \"3-1\",\n",
    "                \"3-13\",\n",
    "                \"3-18\",\n",
    "                \"3-2\",\n",
    "                \"3-8\",\n",
    "                \"4-1\",\n",
    "                \"4-10\",\n",
    "                \"4-11\",\n",
    "                \"5-1\",\n",
    "                \"5-5\",\n",
    "                \"6-1\",\n",
    "                \"6-15\",\n",
    "                \"6-6\",\n",
    "                \"7-10\",\n",
    "                \"7-11\",\n",
    "                \"7-12\",\n",
    "                \"7-13\",\n",
    "                \"7-14\",\n",
    "                \"7-7\",\n",
    "                \"7-8\",\n",
    "                \"7-9\",\n",
    "                \"8-1\",\n",
    "                \"8-13\",\n",
    "                \"8-14\",\n",
    "                \"8-18\",\n",
    "                \"8-20\",\n",
    "                \"8-3\",\n",
    "                \"8-8\",\n",
    "                \"9-1\",\n",
    "                \"9-7\",\n",
    "            ],\n",
    "            \"domains\": [1, 2, 3, 4],\n",
    "            \"num_examples_per_domain_per_label\": -1,\n",
    "            \"pickle_path\": \"/root/csc500-main/datasets/wisig.node3-19.stratified_ds.2022A.pkl\",\n",
    "            \"source_or_target_dataset\": \"source\",\n",
    "            \"x_transforms\": [],\n",
    "            \"episode_transforms\": [],\n",
    "            \"domain_prefix\": \"Wisig_\",\n",
    "        },\n",
    "        {\n",
    "            \"labels\": [\n",
    "                \"3123D52\",\n",
    "                \"3123D65\",\n",
    "                \"3123D79\",\n",
    "                \"3123D80\",\n",
    "                \"3123D54\",\n",
    "                \"3123D70\",\n",
    "                \"3123D7B\",\n",
    "                \"3123D89\",\n",
    "                \"3123D58\",\n",
    "                \"3123D76\",\n",
    "                \"3123D7D\",\n",
    "                \"3123EFE\",\n",
    "                \"3123D64\",\n",
    "                \"3123D78\",\n",
    "                \"3123D7E\",\n",
    "                \"3124E4A\",\n",
    "            ],\n",
    "            \"domains\": [32, 38, 8, 44, 14, 50, 20, 26],\n",
    "            \"num_examples_per_domain_per_label\": 2000,\n",
    "            \"pickle_path\": \"/root/csc500-main/datasets/oracle.Run1_framed_2000Examples_stratified_ds.2022A.pkl\",\n",
    "            \"source_or_target_dataset\": \"target\",\n",
    "            \"x_transforms\": [],\n",
    "            \"episode_transforms\": [],\n",
    "            \"domain_prefix\": \"ORACLE.run1\",\n",
    "        },\n",
    "    ],\n",
    "    \"dataset_seed\": 420,\n",
    "    \"seed\": 420,\n",
    "}\n"
   ]
  },
  {
   "cell_type": "code",
   "execution_count": 5,
   "id": "8fa1cc33",
   "metadata": {
    "execution": {
     "iopub.execute_input": "2022-03-21T08:30:25.583211Z",
     "iopub.status.busy": "2022-03-21T08:30:25.582617Z",
     "iopub.status.idle": "2022-03-21T08:30:25.601409Z",
     "shell.execute_reply": "2022-03-21T08:30:25.600582Z"
    },
    "papermill": {
     "duration": 0.056229,
     "end_time": "2022-03-21T08:30:25.601575",
     "exception": false,
     "start_time": "2022-03-21T08:30:25.545346",
     "status": "completed"
    },
    "tags": []
   },
   "outputs": [],
   "source": [
    "# Set this to True if you want to run this template directly\n",
    "STANDALONE = False\n",
    "if STANDALONE:\n",
    "    print(\"parameters not injected, running with standalone_parameters\")\n",
    "    parameters = standalone_parameters\n",
    "\n",
    "if not 'parameters' in locals() and not 'parameters' in globals():\n",
    "    raise Exception(\"Parameter injection failed\")\n",
    "\n",
    "#Use an easy dict for all the parameters\n",
    "p = EasyDict(parameters)\n",
    "\n",
    "if \"x_shape\" not in p:\n",
    "    p.x_shape = [2,256] # Default to this if we dont supply x_shape\n",
    "\n",
    "\n",
    "supplied_keys = set(p.keys())\n",
    "\n",
    "if  supplied_keys != required_parameters:\n",
    "    print(\"Parameters are incorrect\")\n",
    "    if len(supplied_keys - required_parameters)>0: print(\"Shouldn't have:\", str(supplied_keys - required_parameters))\n",
    "    if len(required_parameters - supplied_keys)>0: print(\"Need to have:\", str(required_parameters - supplied_keys))\n",
    "    raise RuntimeError(\"Parameters are incorrect\")"
   ]
  },
  {
   "cell_type": "code",
   "execution_count": 6,
   "id": "3a028d58",
   "metadata": {
    "execution": {
     "iopub.execute_input": "2022-03-21T08:30:25.656206Z",
     "iopub.status.busy": "2022-03-21T08:30:25.652282Z",
     "iopub.status.idle": "2022-03-21T08:30:25.673182Z",
     "shell.execute_reply": "2022-03-21T08:30:25.672384Z"
    },
    "papermill": {
     "duration": 0.045659,
     "end_time": "2022-03-21T08:30:25.673339",
     "exception": false,
     "start_time": "2022-03-21T08:30:25.627680",
     "status": "completed"
    },
    "tags": []
   },
   "outputs": [],
   "source": [
    "###################################\n",
    "# Set the RNGs and make it all deterministic\n",
    "###################################\n",
    "np.random.seed(p.seed)\n",
    "random.seed(p.seed)\n",
    "torch.manual_seed(p.seed)\n",
    "\n",
    "torch.use_deterministic_algorithms(True) "
   ]
  },
  {
   "cell_type": "code",
   "execution_count": 7,
   "id": "b691acf6",
   "metadata": {
    "execution": {
     "iopub.execute_input": "2022-03-21T08:30:25.725276Z",
     "iopub.status.busy": "2022-03-21T08:30:25.724188Z",
     "iopub.status.idle": "2022-03-21T08:30:25.748265Z",
     "shell.execute_reply": "2022-03-21T08:30:25.747557Z"
    },
    "papermill": {
     "duration": 0.048581,
     "end_time": "2022-03-21T08:30:25.748424",
     "exception": false,
     "start_time": "2022-03-21T08:30:25.699843",
     "status": "completed"
    },
    "tags": []
   },
   "outputs": [],
   "source": [
    "###########################################\n",
    "# The stratified datasets honor this\n",
    "###########################################\n",
    "torch.set_default_dtype(eval(p.torch_default_dtype))"
   ]
  },
  {
   "cell_type": "code",
   "execution_count": 8,
   "id": "b5fba671",
   "metadata": {
    "execution": {
     "iopub.execute_input": "2022-03-21T08:30:25.800205Z",
     "iopub.status.busy": "2022-03-21T08:30:25.799831Z",
     "iopub.status.idle": "2022-03-21T08:30:25.850749Z",
     "shell.execute_reply": "2022-03-21T08:30:25.850034Z"
    },
    "papermill": {
     "duration": 0.073661,
     "end_time": "2022-03-21T08:30:25.850906",
     "exception": false,
     "start_time": "2022-03-21T08:30:25.777245",
     "status": "completed"
    },
    "tags": []
   },
   "outputs": [],
   "source": [
    "###################################\n",
    "# Build the network(s)\n",
    "# Note: It's critical to do this AFTER setting the RNG\n",
    "###################################\n",
    "x_net = build_sequential(p.x_net)"
   ]
  },
  {
   "cell_type": "code",
   "execution_count": 9,
   "id": "5d7e61cc",
   "metadata": {
    "execution": {
     "iopub.execute_input": "2022-03-21T08:30:25.901812Z",
     "iopub.status.busy": "2022-03-21T08:30:25.901247Z",
     "iopub.status.idle": "2022-03-21T08:30:25.926296Z",
     "shell.execute_reply": "2022-03-21T08:30:25.925481Z"
    },
    "papermill": {
     "duration": 0.049744,
     "end_time": "2022-03-21T08:30:25.926451",
     "exception": false,
     "start_time": "2022-03-21T08:30:25.876707",
     "status": "completed"
    },
    "tags": []
   },
   "outputs": [],
   "source": [
    "start_time_secs = time.time()"
   ]
  },
  {
   "cell_type": "code",
   "execution_count": 10,
   "id": "c6b67dfd",
   "metadata": {
    "execution": {
     "iopub.execute_input": "2022-03-21T08:30:25.978329Z",
     "iopub.status.busy": "2022-03-21T08:30:25.977957Z",
     "iopub.status.idle": "2022-03-21T08:30:25.998593Z",
     "shell.execute_reply": "2022-03-21T08:30:25.997781Z"
    },
    "papermill": {
     "duration": 0.046122,
     "end_time": "2022-03-21T08:30:25.998749",
     "exception": false,
     "start_time": "2022-03-21T08:30:25.952627",
     "status": "completed"
    },
    "tags": []
   },
   "outputs": [],
   "source": [
    "p.domains_source = []\n",
    "p.domains_target = []\n",
    "\n",
    "\n",
    "train_original_source = []\n",
    "val_original_source   = []\n",
    "test_original_source  = []\n",
    "\n",
    "train_original_target = []\n",
    "val_original_target   = []\n",
    "test_original_target  = []"
   ]
  },
  {
   "cell_type": "code",
   "execution_count": 11,
   "id": "e3d9c3d3",
   "metadata": {
    "execution": {
     "iopub.execute_input": "2022-03-21T08:30:26.049821Z",
     "iopub.status.busy": "2022-03-21T08:30:26.049248Z",
     "iopub.status.idle": "2022-03-21T08:30:26.070027Z",
     "shell.execute_reply": "2022-03-21T08:30:26.069209Z"
    },
    "papermill": {
     "duration": 0.045125,
     "end_time": "2022-03-21T08:30:26.070185",
     "exception": false,
     "start_time": "2022-03-21T08:30:26.025060",
     "status": "completed"
    },
    "tags": []
   },
   "outputs": [],
   "source": [
    "# global_x_transform_func = lambda x: normalize(x.to(torch.get_default_dtype()), \"unit_power\") # unit_power, unit_mag\n",
    "# global_x_transform_func = lambda x: normalize(x, \"unit_power\") # unit_power, unit_mag"
   ]
  },
  {
   "cell_type": "code",
   "execution_count": 12,
   "id": "acb78fd2",
   "metadata": {
    "execution": {
     "iopub.execute_input": "2022-03-21T08:30:26.130506Z",
     "iopub.status.busy": "2022-03-21T08:30:26.129654Z",
     "iopub.status.idle": "2022-03-21T08:30:26.147265Z",
     "shell.execute_reply": "2022-03-21T08:30:26.146518Z"
    },
    "papermill": {
     "duration": 0.051181,
     "end_time": "2022-03-21T08:30:26.147422",
     "exception": false,
     "start_time": "2022-03-21T08:30:26.096241",
     "status": "completed"
    },
    "tags": []
   },
   "outputs": [],
   "source": [
    "def add_dataset(\n",
    "    labels,\n",
    "    domains,\n",
    "    pickle_path,\n",
    "    x_transforms,\n",
    "    episode_transforms,\n",
    "    domain_prefix,\n",
    "    num_examples_per_domain_per_label,\n",
    "    source_or_target_dataset:str,\n",
    "    iterator_seed=p.seed,\n",
    "    dataset_seed=p.dataset_seed,\n",
    "    n_shot=p.n_shot,\n",
    "    n_way=p.n_way,\n",
    "    n_query=p.n_query,\n",
    "    train_val_test_k_factors=(p.train_k_factor,p.val_k_factor,p.test_k_factor),\n",
    "):\n",
    "   \n",
    "    if x_transforms == []: x_transform = None\n",
    "    else: x_transform = get_chained_transform(x_transforms)\n",
    "    \n",
    "    if episode_transforms == []: episode_transform = None\n",
    "    else: raise Exception(\"episode_transforms not implemented\")\n",
    "    \n",
    "    episode_transform = lambda tup, _prefix=domain_prefix: (_prefix + str(tup[0]), tup[1])\n",
    "\n",
    "\n",
    "    eaf = Episodic_Accessor_Factory(\n",
    "        labels=labels,\n",
    "        domains=domains,\n",
    "        num_examples_per_domain_per_label=num_examples_per_domain_per_label,\n",
    "        iterator_seed=iterator_seed,\n",
    "        dataset_seed=dataset_seed,\n",
    "        n_shot=n_shot,\n",
    "        n_way=n_way,\n",
    "        n_query=n_query,\n",
    "        train_val_test_k_factors=train_val_test_k_factors,\n",
    "        pickle_path=pickle_path,\n",
    "        x_transform_func=x_transform,\n",
    "    )\n",
    "\n",
    "    train, val, test = eaf.get_train(), eaf.get_val(), eaf.get_test()\n",
    "    train = Lazy_Iterable_Wrapper(train, episode_transform)\n",
    "    val = Lazy_Iterable_Wrapper(val, episode_transform)\n",
    "    test = Lazy_Iterable_Wrapper(test, episode_transform)\n",
    "\n",
    "    if source_or_target_dataset==\"source\":\n",
    "        train_original_source.append(train)\n",
    "        val_original_source.append(val)\n",
    "        test_original_source.append(test)\n",
    "\n",
    "        p.domains_source.extend(\n",
    "            [domain_prefix + str(u) for u in domains]\n",
    "        )\n",
    "    elif source_or_target_dataset==\"target\":\n",
    "        train_original_target.append(train)\n",
    "        val_original_target.append(val)\n",
    "        test_original_target.append(test)\n",
    "        p.domains_target.extend(\n",
    "            [domain_prefix + str(u) for u in domains]\n",
    "        )\n",
    "    else:\n",
    "        raise Exception(f\"invalid source_or_target_dataset: {source_or_target_dataset}\")\n",
    "    "
   ]
  },
  {
   "cell_type": "code",
   "execution_count": 13,
   "id": "fe266617",
   "metadata": {
    "execution": {
     "iopub.execute_input": "2022-03-21T08:30:26.201460Z",
     "iopub.status.busy": "2022-03-21T08:30:26.200465Z",
     "iopub.status.idle": "2022-03-21T08:30:30.417022Z",
     "shell.execute_reply": "2022-03-21T08:30:30.416273Z"
    },
    "papermill": {
     "duration": 4.241643,
     "end_time": "2022-03-21T08:30:30.417211",
     "exception": false,
     "start_time": "2022-03-21T08:30:26.175568",
     "status": "completed"
    },
    "tags": []
   },
   "outputs": [],
   "source": [
    "for ds in p.datasets:\n",
    "    add_dataset(**ds)"
   ]
  },
  {
   "cell_type": "code",
   "execution_count": 14,
   "id": "b90d65ac",
   "metadata": {
    "execution": {
     "iopub.execute_input": "2022-03-21T08:30:30.466545Z",
     "iopub.status.busy": "2022-03-21T08:30:30.466164Z",
     "iopub.status.idle": "2022-03-21T08:30:30.492418Z",
     "shell.execute_reply": "2022-03-21T08:30:30.491654Z"
    },
    "papermill": {
     "duration": 0.050628,
     "end_time": "2022-03-21T08:30:30.492578",
     "exception": false,
     "start_time": "2022-03-21T08:30:30.441950",
     "status": "completed"
    },
    "tags": []
   },
   "outputs": [],
   "source": [
    "# from steves_utils.CORES.utils import (\n",
    "#     ALL_NODES,\n",
    "#     ALL_NODES_MINIMUM_1000_EXAMPLES,\n",
    "#     ALL_DAYS\n",
    "# )\n",
    "\n",
    "# add_dataset(\n",
    "#     labels=ALL_NODES,\n",
    "#     domains = ALL_DAYS,\n",
    "#     num_examples_per_domain_per_label=100,\n",
    "#     pickle_path=os.path.join(get_datasets_base_path(), \"cores.stratified_ds.2022A.pkl\"),\n",
    "#     source_or_target_dataset=\"target\",\n",
    "#     x_transform_func=global_x_transform_func,\n",
    "#     domain_modifier=lambda u: f\"cores_{u}\"\n",
    "# )"
   ]
  },
  {
   "cell_type": "code",
   "execution_count": 15,
   "id": "76db484d",
   "metadata": {
    "execution": {
     "iopub.execute_input": "2022-03-21T08:30:30.545374Z",
     "iopub.status.busy": "2022-03-21T08:30:30.544670Z",
     "iopub.status.idle": "2022-03-21T08:30:30.565916Z",
     "shell.execute_reply": "2022-03-21T08:30:30.565097Z"
    },
    "papermill": {
     "duration": 0.046177,
     "end_time": "2022-03-21T08:30:30.566073",
     "exception": false,
     "start_time": "2022-03-21T08:30:30.519896",
     "status": "completed"
    },
    "tags": []
   },
   "outputs": [],
   "source": [
    "# from steves_utils.ORACLE.utils_v2 import (\n",
    "#     ALL_DISTANCES_FEET,\n",
    "#     ALL_RUNS,\n",
    "#     ALL_SERIAL_NUMBERS,\n",
    "# )\n",
    "\n",
    "\n",
    "# add_dataset(\n",
    "#     labels=ALL_SERIAL_NUMBERS,\n",
    "#     domains = list(set(ALL_DISTANCES_FEET) - {2,62}),\n",
    "#     num_examples_per_domain_per_label=100,\n",
    "#     pickle_path=os.path.join(get_datasets_base_path(), \"oracle.Run2_framed_2000Examples_stratified_ds.2022A.pkl\"),\n",
    "#     source_or_target_dataset=\"source\",\n",
    "#     x_transform_func=global_x_transform_func,\n",
    "#     domain_modifier=lambda u: f\"oracle1_{u}\"\n",
    "# )\n"
   ]
  },
  {
   "cell_type": "code",
   "execution_count": 16,
   "id": "97dea9d2",
   "metadata": {
    "execution": {
     "iopub.execute_input": "2022-03-21T08:30:30.617377Z",
     "iopub.status.busy": "2022-03-21T08:30:30.617002Z",
     "iopub.status.idle": "2022-03-21T08:30:30.634379Z",
     "shell.execute_reply": "2022-03-21T08:30:30.633552Z"
    },
    "papermill": {
     "duration": 0.040715,
     "end_time": "2022-03-21T08:30:30.634538",
     "exception": false,
     "start_time": "2022-03-21T08:30:30.593823",
     "status": "completed"
    },
    "tags": []
   },
   "outputs": [],
   "source": [
    "# from steves_utils.ORACLE.utils_v2 import (\n",
    "#     ALL_DISTANCES_FEET,\n",
    "#     ALL_RUNS,\n",
    "#     ALL_SERIAL_NUMBERS,\n",
    "# )\n",
    "\n",
    "\n",
    "# add_dataset(\n",
    "#     labels=ALL_SERIAL_NUMBERS,\n",
    "#     domains = list(set(ALL_DISTANCES_FEET) - {2,62,56}),\n",
    "#     num_examples_per_domain_per_label=100,\n",
    "#     pickle_path=os.path.join(get_datasets_base_path(), \"oracle.Run2_framed_2000Examples_stratified_ds.2022A.pkl\"),\n",
    "#     source_or_target_dataset=\"source\",\n",
    "#     x_transform_func=global_x_transform_func,\n",
    "#     domain_modifier=lambda u: f\"oracle2_{u}\"\n",
    "# )"
   ]
  },
  {
   "cell_type": "code",
   "execution_count": 17,
   "id": "6f289866",
   "metadata": {
    "execution": {
     "iopub.execute_input": "2022-03-21T08:30:30.689145Z",
     "iopub.status.busy": "2022-03-21T08:30:30.685532Z",
     "iopub.status.idle": "2022-03-21T08:30:30.706206Z",
     "shell.execute_reply": "2022-03-21T08:30:30.705380Z"
    },
    "papermill": {
     "duration": 0.045563,
     "end_time": "2022-03-21T08:30:30.706364",
     "exception": false,
     "start_time": "2022-03-21T08:30:30.660801",
     "status": "completed"
    },
    "tags": []
   },
   "outputs": [],
   "source": [
    "# add_dataset(\n",
    "#     labels=list(range(19)),\n",
    "#     domains = [0,1,2],\n",
    "#     num_examples_per_domain_per_label=100,\n",
    "#     pickle_path=os.path.join(get_datasets_base_path(), \"metehan.stratified_ds.2022A.pkl\"),\n",
    "#     source_or_target_dataset=\"target\",\n",
    "#     x_transform_func=global_x_transform_func,\n",
    "#     domain_modifier=lambda u: f\"met_{u}\"\n",
    "# )"
   ]
  },
  {
   "cell_type": "code",
   "execution_count": 18,
   "id": "86a863c3",
   "metadata": {
    "execution": {
     "iopub.execute_input": "2022-03-21T08:30:30.757412Z",
     "iopub.status.busy": "2022-03-21T08:30:30.757036Z",
     "iopub.status.idle": "2022-03-21T08:30:30.774021Z",
     "shell.execute_reply": "2022-03-21T08:30:30.773201Z"
    },
    "papermill": {
     "duration": 0.040982,
     "end_time": "2022-03-21T08:30:30.774179",
     "exception": false,
     "start_time": "2022-03-21T08:30:30.733197",
     "status": "completed"
    },
    "tags": []
   },
   "outputs": [],
   "source": [
    "# # from steves_utils.wisig.utils import (\n",
    "# #     ALL_NODES_MINIMUM_100_EXAMPLES,\n",
    "# #     ALL_NODES_MINIMUM_500_EXAMPLES,\n",
    "# #     ALL_NODES_MINIMUM_1000_EXAMPLES,\n",
    "# #     ALL_DAYS\n",
    "# # )\n",
    "\n",
    "# import steves_utils.wisig.utils as wisig\n",
    "\n",
    "\n",
    "# add_dataset(\n",
    "#     labels=wisig.ALL_NODES_MINIMUM_100_EXAMPLES,\n",
    "#     domains = wisig.ALL_DAYS,\n",
    "#     num_examples_per_domain_per_label=100,\n",
    "#     pickle_path=os.path.join(get_datasets_base_path(), \"wisig.node3-19.stratified_ds.2022A.pkl\"),\n",
    "#     source_or_target_dataset=\"target\",\n",
    "#     x_transform_func=global_x_transform_func,\n",
    "#     domain_modifier=lambda u: f\"wisig_{u}\"\n",
    "# )"
   ]
  },
  {
   "cell_type": "code",
   "execution_count": 19,
   "id": "fd5442bc",
   "metadata": {
    "execution": {
     "iopub.execute_input": "2022-03-21T08:30:30.832599Z",
     "iopub.status.busy": "2022-03-21T08:30:30.831755Z",
     "iopub.status.idle": "2022-03-21T08:30:30.850475Z",
     "shell.execute_reply": "2022-03-21T08:30:30.849650Z"
    },
    "papermill": {
     "duration": 0.049416,
     "end_time": "2022-03-21T08:30:30.850635",
     "exception": false,
     "start_time": "2022-03-21T08:30:30.801219",
     "status": "completed"
    },
    "tags": []
   },
   "outputs": [],
   "source": [
    "###################################\n",
    "# Build the dataset\n",
    "###################################\n",
    "train_original_source = Iterable_Aggregator(train_original_source, p.seed)\n",
    "val_original_source = Iterable_Aggregator(val_original_source, p.seed)\n",
    "test_original_source = Iterable_Aggregator(test_original_source, p.seed)\n",
    "\n",
    "\n",
    "train_original_target = Iterable_Aggregator(train_original_target, p.seed)\n",
    "val_original_target = Iterable_Aggregator(val_original_target, p.seed)\n",
    "test_original_target = Iterable_Aggregator(test_original_target, p.seed)\n",
    "\n",
    "# For CNN We only use X and Y. And we only train on the source.\n",
    "# Properly form the data using a transform lambda and Lazy_Iterable_Wrapper. Finally wrap them in a dataloader\n",
    "\n",
    "transform_lambda = lambda ex: ex[1] # Original is (<domain>, <episode>) so we strip down to episode only\n",
    "\n",
    "train_processed_source = Lazy_Iterable_Wrapper(train_original_source, transform_lambda)\n",
    "val_processed_source   = Lazy_Iterable_Wrapper(val_original_source, transform_lambda)\n",
    "test_processed_source  = Lazy_Iterable_Wrapper(test_original_source, transform_lambda)\n",
    "\n",
    "train_processed_target = Lazy_Iterable_Wrapper(train_original_target, transform_lambda)\n",
    "val_processed_target   = Lazy_Iterable_Wrapper(val_original_target, transform_lambda)\n",
    "test_processed_target  = Lazy_Iterable_Wrapper(test_original_target, transform_lambda)\n",
    "\n",
    "datasets = EasyDict({\n",
    "    \"source\": {\n",
    "        \"original\": {\"train\":train_original_source, \"val\":val_original_source, \"test\":test_original_source},\n",
    "        \"processed\": {\"train\":train_processed_source, \"val\":val_processed_source, \"test\":test_processed_source}\n",
    "    },\n",
    "    \"target\": {\n",
    "        \"original\": {\"train\":train_original_target, \"val\":val_original_target, \"test\":test_original_target},\n",
    "        \"processed\": {\"train\":train_processed_target, \"val\":val_processed_target, \"test\":test_processed_target}\n",
    "    },\n",
    "})"
   ]
  },
  {
   "cell_type": "code",
   "execution_count": 20,
   "id": "5b3c01fc",
   "metadata": {
    "execution": {
     "iopub.execute_input": "2022-03-21T08:30:30.902260Z",
     "iopub.status.busy": "2022-03-21T08:30:30.901879Z",
     "iopub.status.idle": "2022-03-21T08:30:46.814386Z",
     "shell.execute_reply": "2022-03-21T08:30:46.813523Z"
    },
    "papermill": {
     "duration": 15.937279,
     "end_time": "2022-03-21T08:30:46.814580",
     "exception": false,
     "start_time": "2022-03-21T08:30:30.877301",
     "status": "completed"
    },
    "tags": []
   },
   "outputs": [
    {
     "name": "stdout",
     "output_type": "stream",
     "text": [
      "{'Wisig_3', 'Wisig_1', 'Wisig_2', 'Wisig_4'}\n"
     ]
    },
    {
     "name": "stdout",
     "output_type": "stream",
     "text": [
      "{'ORACLE.run120', 'ORACLE.run150', 'ORACLE.run18', 'ORACLE.run138', 'ORACLE.run126', 'ORACLE.run144', 'ORACLE.run114', 'ORACLE.run132'}\n"
     ]
    },
    {
     "name": "stdout",
     "output_type": "stream",
     "text": [
      "tensor([[[-0.0088,  0.0233,  0.0115,  ...,  0.0076,  0.0216,  0.0283],\n",
      "         [-0.0157, -0.0164,  0.0194,  ..., -0.0182, -0.0216,  0.0053]],\n",
      "\n",
      "        [[-0.0285, -0.0371,  0.0019,  ..., -0.0057, -0.0082, -0.0038],\n",
      "         [ 0.0054, -0.0265, -0.0203,  ..., -0.0016, -0.0130, -0.0116]],\n",
      "\n",
      "        [[ 0.0031, -0.0245, -0.0132,  ...,  0.0180, -0.0121, -0.0137],\n",
      "         [ 0.0246,  0.0034, -0.0192,  ...,  0.0267,  0.0221, -0.0057]],\n",
      "\n",
      "        ...,\n",
      "\n",
      "        [[-0.0111, -0.0804, -0.0345,  ..., -0.1187, -0.0739,  0.0767],\n",
      "         [ 0.0608, -0.0315, -0.0863,  ...,  0.0479, -0.1267, -0.1292]],\n",
      "\n",
      "        [[ 0.0636, -0.1413,  0.0100,  ..., -0.1149, -0.1019,  0.1310],\n",
      "         [ 0.1039, -0.0120, -0.1752,  ...,  0.0476, -0.1416, -0.1495]],\n",
      "\n",
      "        [[-0.0765,  0.0862,  0.0033,  ...,  0.0984,  0.0885, -0.0637],\n",
      "         [-0.0549, -0.0087,  0.1401,  ..., -0.0652,  0.1137,  0.1396]]])\n"
     ]
    }
   ],
   "source": [
    "from steves_utils.transforms import get_average_magnitude, get_average_power\n",
    "\n",
    "print(set([u for u,_ in val_original_source]))\n",
    "print(set([u for u,_ in val_original_target]))\n",
    "\n",
    "s_x, s_y, q_x, q_y, _ = next(iter(train_processed_source))\n",
    "print(s_x)\n",
    "\n",
    "# for ds in [\n",
    "#     train_processed_source,\n",
    "#     val_processed_source,\n",
    "#     test_processed_source,\n",
    "#     train_processed_target,\n",
    "#     val_processed_target,\n",
    "#     test_processed_target\n",
    "# ]:\n",
    "#     for s_x, s_y, q_x, q_y, _ in ds:\n",
    "#         for X in (s_x, q_x):\n",
    "#             for x in X:\n",
    "#                 assert np.isclose(get_average_magnitude(x.numpy()), 1.0)\n",
    "#                 assert np.isclose(get_average_power(x.numpy()), 1.0)\n",
    "                "
   ]
  },
  {
   "cell_type": "code",
   "execution_count": 21,
   "id": "bbdacba1",
   "metadata": {
    "execution": {
     "iopub.execute_input": "2022-03-21T08:30:46.944318Z",
     "iopub.status.busy": "2022-03-21T08:30:46.943928Z",
     "iopub.status.idle": "2022-03-21T08:30:47.182797Z",
     "shell.execute_reply": "2022-03-21T08:30:47.181959Z"
    },
    "papermill": {
     "duration": 0.268068,
     "end_time": "2022-03-21T08:30:47.182994",
     "exception": false,
     "start_time": "2022-03-21T08:30:46.914926",
     "status": "completed"
    },
    "tags": []
   },
   "outputs": [
    {
     "name": "stdout",
     "output_type": "stream",
     "text": [
      "(2, 256)\n"
     ]
    }
   ],
   "source": [
    "###################################\n",
    "# Build the model\n",
    "###################################\n",
    "# easfsl only wants a tuple for the shape\n",
    "model = Steves_Prototypical_Network(x_net, device=p.device, x_shape=tuple(p.x_shape))\n",
    "optimizer = Adam(params=model.parameters(), lr=p.lr)"
   ]
  },
  {
   "cell_type": "code",
   "execution_count": 22,
   "id": "22b39ac5",
   "metadata": {
    "execution": {
     "iopub.execute_input": "2022-03-21T08:30:47.242466Z",
     "iopub.status.busy": "2022-03-21T08:30:47.242081Z",
     "iopub.status.idle": "2022-03-21T08:51:43.054219Z",
     "shell.execute_reply": "2022-03-21T08:51:43.053868Z"
    },
    "papermill": {
     "duration": 1255.839651,
     "end_time": "2022-03-21T08:51:43.054311",
     "exception": false,
     "start_time": "2022-03-21T08:30:47.214660",
     "status": "completed"
    },
    "tags": []
   },
   "outputs": [
    {
     "name": "stdout",
     "output_type": "stream",
     "text": [
      "epoch: 1, [batch: 1 / 6847], examples_per_second: 31.1478, train_label_loss: 2.1014, \n"
     ]
    },
    {
     "name": "stdout",
     "output_type": "stream",
     "text": [
      "epoch: 1, [batch: 685 / 6847], examples_per_second: 2512.6522, train_label_loss: 0.4009, \n"
     ]
    },
    {
     "name": "stdout",
     "output_type": "stream",
     "text": [
      "epoch: 1, [batch: 1370 / 6847], examples_per_second: 2616.2012, train_label_loss: 0.1516, \n"
     ]
    },
    {
     "name": "stdout",
     "output_type": "stream",
     "text": [
      "epoch: 1, [batch: 2054 / 6847], examples_per_second: 2606.3759, train_label_loss: 0.0057, \n"
     ]
    },
    {
     "name": "stdout",
     "output_type": "stream",
     "text": [
      "epoch: 1, [batch: 2739 / 6847], examples_per_second: 2279.7082, train_label_loss: 0.1404, \n"
     ]
    },
    {
     "name": "stdout",
     "output_type": "stream",
     "text": [
      "epoch: 1, [batch: 3424 / 6847], examples_per_second: 2378.2913, train_label_loss: 0.0137, \n"
     ]
    },
    {
     "name": "stdout",
     "output_type": "stream",
     "text": [
      "epoch: 1, [batch: 4108 / 6847], examples_per_second: 2567.8020, train_label_loss: 0.4604, \n"
     ]
    },
    {
     "name": "stdout",
     "output_type": "stream",
     "text": [
      "epoch: 1, [batch: 4793 / 6847], examples_per_second: 2603.3830, train_label_loss: 0.1919, \n"
     ]
    },
    {
     "name": "stdout",
     "output_type": "stream",
     "text": [
      "epoch: 1, [batch: 5477 / 6847], examples_per_second: 2483.0666, train_label_loss: 0.1233, \n"
     ]
    },
    {
     "name": "stdout",
     "output_type": "stream",
     "text": [
      "epoch: 1, [batch: 6162 / 6847], examples_per_second: 2310.4514, train_label_loss: 0.3522, \n"
     ]
    },
    {
     "name": "stdout",
     "output_type": "stream",
     "text": [
      "=============================================================\n",
      "epoch: 1, source_val_acc_label: 0.9625, target_val_acc_label: 0.4354, source_val_label_loss: 0.1647, target_val_label_loss: 2.5182, \n",
      "=============================================================\n"
     ]
    },
    {
     "name": "stdout",
     "output_type": "stream",
     "text": [
      "New best\n"
     ]
    },
    {
     "name": "stdout",
     "output_type": "stream",
     "text": [
      "epoch: 2, [batch: 1 / 6860], examples_per_second: 2.0025, train_label_loss: 0.3727, \n"
     ]
    },
    {
     "name": "stdout",
     "output_type": "stream",
     "text": [
      "epoch: 2, [batch: 686 / 6860], examples_per_second: 2585.5418, train_label_loss: 0.3643, \n"
     ]
    },
    {
     "name": "stdout",
     "output_type": "stream",
     "text": [
      "epoch: 2, [batch: 1372 / 6860], examples_per_second: 2526.0146, train_label_loss: 0.4901, \n"
     ]
    },
    {
     "name": "stdout",
     "output_type": "stream",
     "text": [
      "epoch: 2, [batch: 2058 / 6860], examples_per_second: 2515.3577, train_label_loss: 0.3807, \n"
     ]
    },
    {
     "name": "stdout",
     "output_type": "stream",
     "text": [
      "epoch: 2, [batch: 2744 / 6860], examples_per_second: 2556.8235, train_label_loss: 0.0300, \n"
     ]
    },
    {
     "name": "stdout",
     "output_type": "stream",
     "text": [
      "epoch: 2, [batch: 3430 / 6860], examples_per_second: 2835.5875, train_label_loss: 0.0187, \n"
     ]
    },
    {
     "name": "stdout",
     "output_type": "stream",
     "text": [
      "epoch: 2, [batch: 4116 / 6860], examples_per_second: 2927.9173, train_label_loss: 0.1969, \n"
     ]
    },
    {
     "name": "stdout",
     "output_type": "stream",
     "text": [
      "epoch: 2, [batch: 4802 / 6860], examples_per_second: 2900.6297, train_label_loss: 0.2950, \n"
     ]
    },
    {
     "name": "stdout",
     "output_type": "stream",
     "text": [
      "epoch: 2, [batch: 5488 / 6860], examples_per_second: 2895.8247, train_label_loss: 0.0365, \n"
     ]
    },
    {
     "name": "stdout",
     "output_type": "stream",
     "text": [
      "epoch: 2, [batch: 6174 / 6860], examples_per_second: 2982.2586, train_label_loss: 0.0420, \n"
     ]
    },
    {
     "name": "stdout",
     "output_type": "stream",
     "text": [
      "=============================================================\n",
      "epoch: 2, source_val_acc_label: 0.9714, target_val_acc_label: 0.4263, source_val_label_loss: 0.1358, target_val_label_loss: 2.5237, \n",
      "=============================================================\n"
     ]
    },
    {
     "name": "stdout",
     "output_type": "stream",
     "text": [
      "epoch: 3, [batch: 1 / 6849], examples_per_second: 2.8106, train_label_loss: 0.0523, \n"
     ]
    },
    {
     "name": "stdout",
     "output_type": "stream",
     "text": [
      "epoch: 3, [batch: 685 / 6849], examples_per_second: 2925.8923, train_label_loss: 0.0151, \n"
     ]
    },
    {
     "name": "stdout",
     "output_type": "stream",
     "text": [
      "epoch: 3, [batch: 1370 / 6849], examples_per_second: 2958.7370, train_label_loss: 0.1436, \n"
     ]
    },
    {
     "name": "stdout",
     "output_type": "stream",
     "text": [
      "epoch: 3, [batch: 2055 / 6849], examples_per_second: 2939.6362, train_label_loss: 0.0043, \n"
     ]
    },
    {
     "name": "stdout",
     "output_type": "stream",
     "text": [
      "epoch: 3, [batch: 2740 / 6849], examples_per_second: 3369.8372, train_label_loss: 0.0021, \n"
     ]
    },
    {
     "name": "stdout",
     "output_type": "stream",
     "text": [
      "epoch: 3, [batch: 3425 / 6849], examples_per_second: 3381.6947, train_label_loss: 0.2586, \n"
     ]
    },
    {
     "name": "stdout",
     "output_type": "stream",
     "text": [
      "epoch: 3, [batch: 4109 / 6849], examples_per_second: 3442.0453, train_label_loss: 0.1070, \n"
     ]
    },
    {
     "name": "stdout",
     "output_type": "stream",
     "text": [
      "epoch: 3, [batch: 4794 / 6849], examples_per_second: 3411.1034, train_label_loss: 0.0433, \n"
     ]
    },
    {
     "name": "stdout",
     "output_type": "stream",
     "text": [
      "epoch: 3, [batch: 5479 / 6849], examples_per_second: 3355.8327, train_label_loss: 0.0074, \n"
     ]
    },
    {
     "name": "stdout",
     "output_type": "stream",
     "text": [
      "epoch: 3, [batch: 6164 / 6849], examples_per_second: 3331.4644, train_label_loss: 0.0079, \n"
     ]
    },
    {
     "name": "stdout",
     "output_type": "stream",
     "text": [
      "=============================================================\n",
      "epoch: 3, source_val_acc_label: 0.9728, target_val_acc_label: 0.2956, source_val_label_loss: 0.1278, target_val_label_loss: 2.5274, \n",
      "=============================================================\n"
     ]
    },
    {
     "name": "stdout",
     "output_type": "stream",
     "text": [
      "epoch: 4, [batch: 1 / 6845], examples_per_second: 3.2426, train_label_loss: 0.1699, \n"
     ]
    },
    {
     "name": "stdout",
     "output_type": "stream",
     "text": [
      "epoch: 4, [batch: 685 / 6845], examples_per_second: 2997.6824, train_label_loss: 0.0561, \n"
     ]
    },
    {
     "name": "stdout",
     "output_type": "stream",
     "text": [
      "epoch: 4, [batch: 1369 / 6845], examples_per_second: 2956.5102, train_label_loss: 0.1388, \n"
     ]
    },
    {
     "name": "stdout",
     "output_type": "stream",
     "text": [
      "epoch: 4, [batch: 2054 / 6845], examples_per_second: 2955.0765, train_label_loss: 0.0069, \n"
     ]
    },
    {
     "name": "stdout",
     "output_type": "stream",
     "text": [
      "epoch: 4, [batch: 2738 / 6845], examples_per_second: 2878.5935, train_label_loss: 0.3789, \n"
     ]
    },
    {
     "name": "stdout",
     "output_type": "stream",
     "text": [
      "epoch: 4, [batch: 3423 / 6845], examples_per_second: 2630.1847, train_label_loss: 0.0479, \n"
     ]
    },
    {
     "name": "stdout",
     "output_type": "stream",
     "text": [
      "epoch: 4, [batch: 4107 / 6845], examples_per_second: 2288.9552, train_label_loss: 0.0185, \n"
     ]
    },
    {
     "name": "stdout",
     "output_type": "stream",
     "text": [
      "epoch: 4, [batch: 4791 / 6845], examples_per_second: 2283.0862, train_label_loss: 0.0135, \n"
     ]
    },
    {
     "name": "stdout",
     "output_type": "stream",
     "text": [
      "epoch: 4, [batch: 5476 / 6845], examples_per_second: 2272.0779, train_label_loss: 0.1853, \n"
     ]
    },
    {
     "name": "stdout",
     "output_type": "stream",
     "text": [
      "epoch: 4, [batch: 6160 / 6845], examples_per_second: 2426.4310, train_label_loss: 0.0036, \n"
     ]
    },
    {
     "name": "stdout",
     "output_type": "stream",
     "text": [
      "=============================================================\n",
      "epoch: 4, source_val_acc_label: 0.9741, target_val_acc_label: 0.3082, source_val_label_loss: 0.1097, target_val_label_loss: 2.5332, \n",
      "=============================================================\n"
     ]
    },
    {
     "name": "stdout",
     "output_type": "stream",
     "text": [
      "epoch: 5, [batch: 1 / 6835], examples_per_second: 2.2042, train_label_loss: 0.0219, \n"
     ]
    },
    {
     "name": "stdout",
     "output_type": "stream",
     "text": [
      "epoch: 5, [batch: 684 / 6835], examples_per_second: 2294.1973, train_label_loss: 0.0503, \n"
     ]
    },
    {
     "name": "stdout",
     "output_type": "stream",
     "text": [
      "epoch: 5, [batch: 1367 / 6835], examples_per_second: 2362.5014, train_label_loss: 0.0042, \n"
     ]
    },
    {
     "name": "stdout",
     "output_type": "stream",
     "text": [
      "epoch: 5, [batch: 2051 / 6835], examples_per_second: 2604.8710, train_label_loss: 0.1571, \n"
     ]
    },
    {
     "name": "stdout",
     "output_type": "stream",
     "text": [
      "epoch: 5, [batch: 2734 / 6835], examples_per_second: 2635.0495, train_label_loss: 0.3041, \n"
     ]
    },
    {
     "name": "stdout",
     "output_type": "stream",
     "text": [
      "epoch: 5, [batch: 3418 / 6835], examples_per_second: 2507.6944, train_label_loss: 0.1959, \n"
     ]
    },
    {
     "name": "stdout",
     "output_type": "stream",
     "text": [
      "epoch: 5, [batch: 4101 / 6835], examples_per_second: 2325.7756, train_label_loss: 0.0019, \n"
     ]
    },
    {
     "name": "stdout",
     "output_type": "stream",
     "text": [
      "epoch: 5, [batch: 4784 / 6835], examples_per_second: 2328.0932, train_label_loss: 0.0655, \n"
     ]
    },
    {
     "name": "stdout",
     "output_type": "stream",
     "text": [
      "epoch: 5, [batch: 5468 / 6835], examples_per_second: 2343.1643, train_label_loss: 0.0182, \n"
     ]
    },
    {
     "name": "stdout",
     "output_type": "stream",
     "text": [
      "epoch: 5, [batch: 6151 / 6835], examples_per_second: 2537.7933, train_label_loss: 0.0119, \n"
     ]
    },
    {
     "name": "stdout",
     "output_type": "stream",
     "text": [
      "=============================================================\n",
      "epoch: 5, source_val_acc_label: 0.9749, target_val_acc_label: 0.3282, source_val_label_loss: 0.1072, target_val_label_loss: 2.5048, \n",
      "=============================================================\n"
     ]
    },
    {
     "name": "stdout",
     "output_type": "stream",
     "text": [
      "Patience (3) exhausted\n"
     ]
    }
   ],
   "source": [
    "###################################\n",
    "# train\n",
    "###################################\n",
    "jig = PTN_Train_Eval_Test_Jig(model, p.BEST_MODEL_PATH, p.device)\n",
    "\n",
    "jig.train(\n",
    "    train_iterable=datasets.source.processed.train,\n",
    "    source_val_iterable=datasets.source.processed.val,\n",
    "    target_val_iterable=datasets.target.processed.val,\n",
    "    num_epochs=p.n_epoch,\n",
    "    num_logs_per_epoch=p.NUM_LOGS_PER_EPOCH,\n",
    "    patience=p.patience,\n",
    "    optimizer=optimizer,\n",
    "    criteria_for_best=p.criteria_for_best,\n",
    ")"
   ]
  },
  {
   "cell_type": "code",
   "execution_count": 23,
   "id": "31e8fabf",
   "metadata": {
    "execution": {
     "iopub.execute_input": "2022-03-21T08:51:43.136426Z",
     "iopub.status.busy": "2022-03-21T08:51:43.135190Z",
     "iopub.status.idle": "2022-03-21T08:51:43.167584Z",
     "shell.execute_reply": "2022-03-21T08:51:43.166714Z"
    },
    "papermill": {
     "duration": 0.075549,
     "end_time": "2022-03-21T08:51:43.167756",
     "exception": false,
     "start_time": "2022-03-21T08:51:43.092207",
     "status": "completed"
    },
    "tags": []
   },
   "outputs": [],
   "source": [
    "total_experiment_time_secs = time.time() - start_time_secs"
   ]
  },
  {
   "cell_type": "code",
   "execution_count": 24,
   "id": "87b9595b",
   "metadata": {
    "execution": {
     "iopub.execute_input": "2022-03-21T08:51:43.264284Z",
     "iopub.status.busy": "2022-03-21T08:51:43.263391Z",
     "iopub.status.idle": "2022-03-21T08:56:21.812611Z",
     "shell.execute_reply": "2022-03-21T08:56:21.811832Z"
    },
    "papermill": {
     "duration": 278.598893,
     "end_time": "2022-03-21T08:56:21.812796",
     "exception": false,
     "start_time": "2022-03-21T08:51:43.213903",
     "status": "completed"
    },
    "tags": []
   },
   "outputs": [],
   "source": [
    "###################################\n",
    "# Evaluate the model\n",
    "###################################\n",
    "source_test_label_accuracy, source_test_label_loss = jig.test(datasets.source.processed.test)\n",
    "target_test_label_accuracy, target_test_label_loss = jig.test(datasets.target.processed.test)\n",
    "\n",
    "source_val_label_accuracy, source_val_label_loss = jig.test(datasets.source.processed.val)\n",
    "target_val_label_accuracy, target_val_label_loss = jig.test(datasets.target.processed.val)\n",
    "\n",
    "history = jig.get_history()\n",
    "\n",
    "total_epochs_trained = len(history[\"epoch_indices\"])\n",
    "\n",
    "val_dl = Iterable_Aggregator((datasets.source.original.val,datasets.target.original.val))\n",
    "\n",
    "confusion = ptn_confusion_by_domain_over_dataloader(model, p.device, val_dl)\n",
    "per_domain_accuracy = per_domain_accuracy_from_confusion(confusion)\n",
    "\n",
    "# Add a key to per_domain_accuracy for if it was a source domain\n",
    "for domain, accuracy in per_domain_accuracy.items():\n",
    "    per_domain_accuracy[domain] = {\n",
    "        \"accuracy\": accuracy,\n",
    "        \"source?\": domain in p.domains_source\n",
    "    }\n",
    "\n",
    "# Do an independent accuracy assesment JUST TO BE SURE!\n",
    "# _source_test_label_accuracy = independent_accuracy_assesment(model, datasets.source.processed.test, p.device)\n",
    "# _target_test_label_accuracy = independent_accuracy_assesment(model, datasets.target.processed.test, p.device)\n",
    "# _source_val_label_accuracy = independent_accuracy_assesment(model, datasets.source.processed.val, p.device)\n",
    "# _target_val_label_accuracy = independent_accuracy_assesment(model, datasets.target.processed.val, p.device)\n",
    "\n",
    "# assert(_source_test_label_accuracy == source_test_label_accuracy)\n",
    "# assert(_target_test_label_accuracy == target_test_label_accuracy)\n",
    "# assert(_source_val_label_accuracy == source_val_label_accuracy)\n",
    "# assert(_target_val_label_accuracy == target_val_label_accuracy)\n",
    "\n",
    "experiment = {\n",
    "    \"experiment_name\": p.experiment_name,\n",
    "    \"parameters\": dict(p),\n",
    "    \"results\": {\n",
    "        \"source_test_label_accuracy\": source_test_label_accuracy,\n",
    "        \"source_test_label_loss\": source_test_label_loss,\n",
    "        \"target_test_label_accuracy\": target_test_label_accuracy,\n",
    "        \"target_test_label_loss\": target_test_label_loss,\n",
    "        \"source_val_label_accuracy\": source_val_label_accuracy,\n",
    "        \"source_val_label_loss\": source_val_label_loss,\n",
    "        \"target_val_label_accuracy\": target_val_label_accuracy,\n",
    "        \"target_val_label_loss\": target_val_label_loss,\n",
    "        \"total_epochs_trained\": total_epochs_trained,\n",
    "        \"total_experiment_time_secs\": total_experiment_time_secs,\n",
    "        \"confusion\": confusion,\n",
    "        \"per_domain_accuracy\": per_domain_accuracy,\n",
    "    },\n",
    "    \"history\": history,\n",
    "    \"dataset_metrics\": get_dataset_metrics(datasets, \"ptn\"),\n",
    "}"
   ]
  },
  {
   "cell_type": "code",
   "execution_count": 25,
   "id": "54a21829",
   "metadata": {
    "execution": {
     "iopub.execute_input": "2022-03-21T08:56:21.906970Z",
     "iopub.status.busy": "2022-03-21T08:56:21.906591Z",
     "iopub.status.idle": "2022-03-21T08:56:22.130076Z",
     "shell.execute_reply": "2022-03-21T08:56:22.130772Z"
    },
    "papermill": {
     "duration": 0.26817,
     "end_time": "2022-03-21T08:56:22.130991",
     "exception": false,
     "start_time": "2022-03-21T08:56:21.862821",
     "status": "completed"
    },
    "tags": []
   },
   "outputs": [
    {
     "data": {
      "image/png": "[encoded data removed]",
      "text/plain": [
       "<Figure size 1080x504 with 1 Axes>"
      ]
     },
     "metadata": {
      "needs_background": "light"
     },
     "output_type": "display_data"
    }
   ],
   "source": [
    "ax = get_loss_curve(experiment)\n",
    "plt.show()"
   ]
  },
  {
   "cell_type": "code",
   "execution_count": 26,
   "id": "fd8a0f60",
   "metadata": {
    "execution": {
     "iopub.execute_input": "2022-03-21T08:56:22.221333Z",
     "iopub.status.busy": "2022-03-21T08:56:22.220954Z",
     "iopub.status.idle": "2022-03-21T08:56:22.569203Z",
     "shell.execute_reply": "2022-03-21T08:56:22.569893Z"
    },
    "papermill": {
     "duration": 0.393546,
     "end_time": "2022-03-21T08:56:22.570112",
     "exception": false,
     "start_time": "2022-03-21T08:56:22.176566",
     "status": "completed"
    },
    "tags": []
   },
   "outputs": [
    {
     "data": {
      "text/plain": [
       "<AxesSubplot:title={'center':'Results'}>"
      ]
     },
     "execution_count": 26,
     "metadata": {},
     "output_type": "execute_result"
    },
    {
     "data": {
      "image/png": "[encoded data removed]",
      "text/plain": [
       "<Figure size 1080x504 with 1 Axes>"
      ]
     },
     "metadata": {
      "needs_background": "light"
     },
     "output_type": "display_data"
    }
   ],
   "source": [
    "get_results_table(experiment)"
   ]
  },
  {
   "cell_type": "code",
   "execution_count": 27,
   "id": "cf8dc689",
   "metadata": {
    "execution": {
     "iopub.execute_input": "2022-03-21T08:56:22.665362Z",
     "iopub.status.busy": "2022-03-21T08:56:22.664722Z",
     "iopub.status.idle": "2022-03-21T08:56:22.931416Z",
     "shell.execute_reply": "2022-03-21T08:56:22.930997Z"
    },
    "papermill": {
     "duration": 0.312974,
     "end_time": "2022-03-21T08:56:22.931510",
     "exception": false,
     "start_time": "2022-03-21T08:56:22.618536",
     "status": "completed"
    },
    "tags": []
   },
   "outputs": [
    {
     "data": {
      "text/plain": [
       "<AxesSubplot:title={'center':'Per Domain Validation Accuracy'}, xlabel='domain'>"
      ]
     },
     "execution_count": 27,
     "metadata": {},
     "output_type": "execute_result"
    },
    {
     "data": {
      "image/png": "[encoded data removed]",
      "text/plain": [
       "<Figure size 1080x504 with 1 Axes>"
      ]
     },
     "metadata": {
      "needs_background": "light"
     },
     "output_type": "display_data"
    }
   ],
   "source": [
    "get_domain_accuracies(experiment)"
   ]
  },
  {
   "cell_type": "code",
   "execution_count": 28,
   "id": "a74ae082",
   "metadata": {
    "execution": {
     "iopub.execute_input": "2022-03-21T08:56:23.022801Z",
     "iopub.status.busy": "2022-03-21T08:56:23.022215Z",
     "iopub.status.idle": "2022-03-21T08:56:23.047045Z",
     "shell.execute_reply": "2022-03-21T08:56:23.046636Z"
    },
    "papermill": {
     "duration": 0.070348,
     "end_time": "2022-03-21T08:56:23.047141",
     "exception": false,
     "start_time": "2022-03-21T08:56:22.976793",
     "status": "completed"
    },
    "tags": []
   },
   "outputs": [
    {
     "name": "stdout",
     "output_type": "stream",
     "text": [
      "Source Test Label Accuracy: 0.9631211180124224 Target Test Label Accuracy: 0.441015625\n",
      "Source Val Label Accuracy: 0.9625396405919662 Target Val Label Accuracy: 0.43544921875\n"
     ]
    }
   ],
   "source": [
    "print(\"Source Test Label Accuracy:\", experiment[\"results\"][\"source_test_label_accuracy\"], \"Target Test Label Accuracy:\", experiment[\"results\"][\"target_test_label_accuracy\"])\n",
    "print(\"Source Val Label Accuracy:\", experiment[\"results\"][\"source_val_label_accuracy\"], \"Target Val Label Accuracy:\", experiment[\"results\"][\"target_val_label_accuracy\"])"
   ]
  },
  {
   "cell_type": "code",
   "execution_count": 29,
   "id": "dacca602",
   "metadata": {
    "execution": {
     "iopub.execute_input": "2022-03-21T08:56:23.141607Z",
     "iopub.status.busy": "2022-03-21T08:56:23.141037Z",
     "iopub.status.idle": "2022-03-21T08:56:23.165867Z",
     "shell.execute_reply": "2022-03-21T08:56:23.166361Z"
    },
    "papermill": {
     "duration": 0.071729,
     "end_time": "2022-03-21T08:56:23.166525",
     "exception": false,
     "start_time": "2022-03-21T08:56:23.094796",
     "status": "completed"
    },
    "tags": [
     "experiment_json"
    ]
   },
   "outputs": [
    {
     "data": {
      "text/plain": [
       "'{\"experiment_name\": \"tl_1v2:wisig-oracle.run1.framed\", \"parameters\": {\"experiment_name\": \"tl_1v2:wisig-oracle.run1.framed\", \"device\": \"cuda\", \"lr\": 0.0001, \"n_shot\": 3, \"n_query\": 2, \"train_k_factor\": 3, \"val_k_factor\": 2, \"test_k_factor\": 2, \"torch_default_dtype\": \"torch.float32\", \"n_epoch\": 50, \"patience\": 3, \"criteria_for_best\": \"target_accuracy\", \"x_net\": [{\"class\": \"nnReshape\", \"kargs\": {\"shape\": [-1, 1, 2, 256]}}, {\"class\": \"Conv2d\", \"kargs\": {\"in_channels\": 1, \"out_channels\": 256, \"kernel_size\": [1, 7], \"bias\": false, \"padding\": [0, 3]}}, {\"class\": \"ReLU\", \"kargs\": {\"inplace\": true}}, {\"class\": \"BatchNorm2d\", \"kargs\": {\"num_features\": 256}}, {\"class\": \"Conv2d\", \"kargs\": {\"in_channels\": 256, \"out_channels\": 80, \"kernel_size\": [2, 7], \"bias\": true, \"padding\": [0, 3]}}, {\"class\": \"ReLU\", \"kargs\": {\"inplace\": true}}, {\"class\": \"BatchNorm2d\", \"kargs\": {\"num_features\": 80}}, {\"class\": \"Flatten\", \"kargs\": {}}, {\"class\": \"Linear\", \"kargs\": {\"in_features\": 20480, \"out_features\": 256}}, {\"class\": \"ReLU\", \"kargs\": {\"inplace\": true}}, {\"class\": \"BatchNorm1d\", \"kargs\": {\"num_features\": 256}}, {\"class\": \"Linear\", \"kargs\": {\"in_features\": 256, \"out_features\": 256}}], \"NUM_LOGS_PER_EPOCH\": 10, \"BEST_MODEL_PATH\": \"./best_model.pth\", \"n_way\": 16, \"datasets\": [{\"labels\": [\"1-10\", \"1-12\", \"1-14\", \"1-16\", \"1-18\", \"1-19\", \"1-8\", \"10-11\", \"10-17\", \"10-4\", \"10-7\", \"11-1\", \"11-10\", \"11-19\", \"11-20\", \"11-4\", \"11-7\", \"12-19\", \"12-20\", \"12-7\", \"13-14\", \"13-18\", \"13-19\", \"13-20\", \"13-3\", \"13-7\", \"14-10\", \"14-11\", \"14-12\", \"14-13\", \"14-14\", \"14-19\", \"14-20\", \"14-7\", \"14-8\", \"14-9\", \"15-1\", \"15-19\", \"15-6\", \"16-1\", \"16-16\", \"16-19\", \"16-20\", \"17-10\", \"17-11\", \"18-1\", \"18-10\", \"18-11\", \"18-12\", \"18-13\", \"18-14\", \"18-15\", \"18-16\", \"18-17\", \"18-19\", \"18-2\", \"18-20\", \"18-4\", \"18-5\", \"18-7\", \"18-8\", \"18-9\", \"19-1\", \"19-10\", \"19-11\", \"19-12\", \"19-13\", \"19-14\", \"19-15\", \"19-19\", \"19-2\", \"19-20\", \"19-3\", \"19-4\", \"19-6\", \"19-7\", \"19-8\", \"19-9\", \"2-1\", \"2-13\", \"2-15\", \"2-3\", \"2-4\", \"2-5\", \"2-6\", \"2-7\", \"2-8\", \"20-1\", \"20-12\", \"20-14\", \"20-15\", \"20-16\", \"20-18\", \"20-19\", \"20-20\", \"20-3\", \"20-4\", \"20-5\", \"20-7\", \"20-8\", \"3-1\", \"3-13\", \"3-18\", \"3-2\", \"3-8\", \"4-1\", \"4-10\", \"4-11\", \"5-1\", \"5-5\", \"6-1\", \"6-15\", \"6-6\", \"7-10\", \"7-11\", \"7-12\", \"7-13\", \"7-14\", \"7-7\", \"7-8\", \"7-9\", \"8-1\", \"8-13\", \"8-14\", \"8-18\", \"8-20\", \"8-3\", \"8-8\", \"9-1\", \"9-7\"], \"domains\": [1, 2, 3, 4], \"num_examples_per_domain_per_label\": -1, \"pickle_path\": \"/root/csc500-main/datasets/wisig.node3-19.stratified_ds.2022A.pkl\", \"source_or_target_dataset\": \"source\", \"x_transforms\": [], \"episode_transforms\": [], \"domain_prefix\": \"Wisig_\"}, {\"labels\": [\"3123D52\", \"3123D65\", \"3123D79\", \"3123D80\", \"3123D54\", \"3123D70\", \"3123D7B\", \"3123D89\", \"3123D58\", \"3123D76\", \"3123D7D\", \"3123EFE\", \"3123D64\", \"3123D78\", \"3123D7E\", \"3124E4A\"], \"domains\": [32, 38, 8, 44, 14, 50, 20, 26], \"num_examples_per_domain_per_label\": 2000, \"pickle_path\": \"/root/csc500-main/datasets/oracle.Run1_framed_2000Examples_stratified_ds.2022A.pkl\", \"source_or_target_dataset\": \"target\", \"x_transforms\": [], \"episode_transforms\": [], \"domain_prefix\": \"ORACLE.run1\"}], \"dataset_seed\": 420, \"seed\": 420, \"x_shape\": [2, 256], \"domains_source\": [\"Wisig_1\", \"Wisig_2\", \"Wisig_3\", \"Wisig_4\"], \"domains_target\": [\"ORACLE.run132\", \"ORACLE.run138\", \"ORACLE.run18\", \"ORACLE.run144\", \"ORACLE.run114\", \"ORACLE.run150\", \"ORACLE.run120\", \"ORACLE.run126\"]}, \"results\": {\"source_test_label_accuracy\": 0.9631211180124224, \"source_test_label_loss\": 0.16136573255062103, \"target_test_label_accuracy\": 0.441015625, \"target_test_label_loss\": 2.51796817779541, \"source_val_label_accuracy\": 0.9625396405919662, \"source_val_label_loss\": 0.16472986340522766, \"target_val_label_accuracy\": 0.43544921875, \"target_val_label_loss\": 2.518158197402954, \"total_epochs_trained\": 5, \"total_experiment_time_secs\": 1277.2406284809113, \"confusion\": {\"Wisig_3\": {\"110\": {\"110\": 88, \"44\": 1, \"111\": 1, \"11\": 1, \"98\": 1}, \"1\": {\"1\": 107, \"69\": 1}, \"2\": {\"117\": 1, \"2\": 26, \"102\": 1}, \"94\": {\"94\": 81, \"27\": 1, \"70\": 1, \"108\": 1}, \"64\": {\"64\": 20}, \"78\": {\"78\": 14, \"21\": 2}, \"47\": {\"47\": 11, \"103\": 1}, \"127\": {\"127\": 127, \"102\": 1}, \"89\": {\"89\": 28}, \"79\": {\"79\": 12}, \"22\": {\"22\": 16}, \"117\": {\"117\": 112}, \"49\": {\"49\": 20, \"94\": 1, \"8\": 1, \"108\": 1, \"82\": 1}, \"14\": {\"14\": 80}, \"103\": {\"103\": 16}, \"123\": {\"123\": 15, \"63\": 1}, \"98\": {\"98\": 127, \"117\": 1}, \"18\": {\"18\": 108}, \"61\": {\"61\": 16}, \"108\": {\"108\": 125, \"110\": 1}, \"100\": {\"100\": 16}, \"0\": {\"0\": 115, \"10\": 1}, \"107\": {\"107\": 130}, \"58\": {\"58\": 16}, \"8\": {\"8\": 120}, \"85\": {\"85\": 35, \"52\": 1}, \"31\": {\"31\": 19, \"122\": 1}, \"81\": {\"81\": 32}, \"60\": {\"60\": 26, \"23\": 2}, \"102\": {\"102\": 116}, \"19\": {\"19\": 26, \"28\": 1, \"100\": 1, \"77\": 1, \"5\": 1, \"124\": 1, \"46\": 1}, \"23\": {\"8\": 1, \"60\": 1, \"23\": 22, \"30\": 4, \"122\": 2, \"87\": 2}, \"32\": {\"32\": 28, \"65\": 1, \"107\": 1, \"14\": 2}, \"39\": {\"39\": 105, \"43\": 1, \"2\": 1, \"126\": 1}, \"129\": {\"129\": 32}, \"71\": {\"71\": 67, \"84\": 1}, \"91\": {\"91\": 17, \"57\": 1, \"29\": 1, \"58\": 1, \"82\": 1, \"6\": 2, \"70\": 1}, \"101\": {\"101\": 48, \"24\": 1, \"12\": 2, \"81\": 1}, \"62\": {\"62\": 120, \"88\": 2}, \"63\": {\"63\": 16}, \"125\": {\"125\": 116, \"112\": 1, \"102\": 1, \"88\": 1, \"24\": 1}, \"57\": {\"57\": 20}, \"28\": {\"28\": 16}, \"70\": {\"70\": 62, \"88\": 3, \"2\": 1, \"84\": 2, \"15\": 1, \"54\": 1, \"69\": 1, \"108\": 1}, \"99\": {\"99\": 33, \"21\": 1, \"27\": 1, \"12\": 1}, \"121\": {\"121\": 30, \"19\": 1, \"81\": 1}, \"4\": {\"4\": 95, \"94\": 1}, \"80\": {\"80\": 16}, \"51\": {\"97\": 1, \"51\": 13, \"33\": 1, \"57\": 1}, \"3\": {\"3\": 113, \"78\": 1, \"70\": 1, \"33\": 1}, \"9\": {\"9\": 32}, \"53\": {\"53\": 17, \"42\": 1, \"112\": 1, \"69\": 1}, \"30\": {\"30\": 83, \"116\": 1}, \"33\": {\"33\": 122}, \"15\": {\"15\": 103, \"88\": 1}, \"97\": {\"4\": 1, \"97\": 19}, \"86\": {\"86\": 27, \"84\": 1}, \"20\": {\"20\": 16}, \"66\": {\"66\": 15, \"65\": 1}, \"10\": {\"10\": 121, \"33\": 1}, \"29\": {\"29\": 31, \"83\": 1}, \"109\": {\"109\": 112, \"5\": 1, \"98\": 1}, \"52\": {\"52\": 16}, \"67\": {\"67\": 16}, \"83\": {\"83\": 22, \"69\": 1, \"43\": 1}, \"72\": {\"72\": 28}, \"90\": {\"90\": 124, \"117\": 1, \"102\": 1}, \"69\": {\"69\": 83, \"90\": 1}, \"88\": {\"88\": 111, \"8\": 1}, \"115\": {\"115\": 16}, \"73\": {\"73\": 35, \"22\": 1, \"88\": 1, \"100\": 1, \"69\": 1, \"89\": 1}, \"34\": {\"34\": 28, \"35\": 2, \"14\": 1, \"58\": 1}, \"25\": {\"25\": 16}, \"44\": {\"44\": 72}, \"112\": {\"112\": 12, \"97\": 1, \"85\": 1, \"59\": 2}, \"37\": {\"37\": 16}, \"77\": {\"77\": 16}, \"111\": {\"111\": 119, \"127\": 1, \"8\": 1, \"10\": 1}, \"119\": {\"119\": 16}, \"56\": {\"56\": 12}, \"5\": {\"5\": 109, \"70\": 1, \"98\": 1, \"87\": 1}, \"122\": {\"122\": 57, \"8\": 1, \"60\": 1, \"84\": 1}, \"74\": {\"74\": 15, \"54\": 1}, \"11\": {\"11\": 151, \"108\": 1}, \"41\": {\"41\": 16}, \"104\": {\"104\": 16}, \"21\": {\"21\": 45, \"101\": 2, \"84\": 1}, \"118\": {\"118\": 98, \"86\": 1, \"44\": 1}, \"40\": {\"40\": 121, \"21\": 1}, \"6\": {\"6\": 29, \"19\": 2, \"91\": 1}, \"27\": {\"27\": 91, \"36\": 4, \"54\": 1}, \"113\": {\"113\": 119, \"21\": 1}, \"68\": {\"68\": 16}, \"12\": {\"12\": 102}, \"54\": {\"54\": 16}, \"24\": {\"24\": 46, \"86\": 1, \"108\": 1}, \"106\": {\"106\": 96, \"87\": 1, \"84\": 1, \"97\": 1, \"15\": 1}, \"128\": {\"128\": 32}, \"48\": {\"48\": 11, \"86\": 1, \"79\": 2, \"37\": 1, \"22\": 1}, \"92\": {\"92\": 32}, \"35\": {\"35\": 10, \"26\": 1, \"6\": 1}, \"116\": {\"116\": 28}, \"38\": {\"38\": 15, \"6\": 1}, \"126\": {\"126\": 121, \"17\": 1, \"39\": 2}, \"46\": {\"46\": 15, \"77\": 1}, \"120\": {\"120\": 19, \"13\": 1}, \"7\": {\"7\": 111, \"26\": 1}, \"13\": {\"13\": 12, \"83\": 1, \"70\": 1, \"122\": 1, \"108\": 1}, \"43\": {\"43\": 52, \"70\": 1, \"30\": 1, \"69\": 1, \"108\": 1}, \"93\": {\"93\": 131, \"88\": 1}, \"26\": {\"26\": 131, \"69\": 1}, \"76\": {\"76\": 16}, \"59\": {\"59\": 12}, \"65\": {\"65\": 11, \"17\": 1}, \"87\": {\"87\": 119, \"108\": 1}, \"124\": {\"124\": 122, \"17\": 1, \"90\": 1}, \"84\": {\"84\": 108}, \"82\": {\"82\": 28}, \"75\": {\"75\": 16}, \"17\": {\"89\": 1, \"17\": 7, \"67\": 1, \"104\": 1, \"55\": 1, \"106\": 1, \"86\": 1, \"13\": 1, \"88\": 1, \"114\": 1}, \"105\": {\"105\": 124}, \"95\": {\"95\": 31, \"9\": 1}, \"42\": {\"42\": 25, \"124\": 3}, \"55\": {\"55\": 16}, \"16\": {\"16\": 115, \"84\": 1}, \"50\": {\"50\": 16}, \"96\": {\"96\": 20}, \"45\": {\"45\": 16}, \"36\": {\"36\": 118, \"27\": 2}, \"114\": {\"114\": 119, \"69\": 1, \"88\": 1, \"3\": 1, \"106\": 1, \"102\": 1}}, \"Wisig_4\": {\"113\": {\"113\": 121, \"126\": 1, \"69\": 2}, \"85\": {\"85\": 26, \"118\": 1, \"14\": 1}, \"34\": {\"34\": 28, \"91\": 1, \"106\": 1, \"47\": 2}, \"55\": {\"55\": 16}, \"42\": {\"42\": 24, \"124\": 1, \"79\": 2, \"112\": 1}, \"13\": {\"13\": 15, \"73\": 1}, \"69\": {\"69\": 117, \"39\": 1, \"7\": 1, \"88\": 2, \"1\": 1, \"21\": 1, \"16\": 1}, \"35\": {\"35\": 12}, \"83\": {\"83\": 26, \"21\": 1, \"88\": 1}, \"51\": {\"51\": 11, \"24\": 1, \"62\": 1, \"81\": 1, \"12\": 1, \"100\": 1}, \"72\": {\"72\": 32}, \"24\": {\"24\": 117, \"21\": 1, \"10\": 1, \"97\": 1}, \"53\": {\"53\": 15, \"92\": 1}, \"8\": {\"8\": 136, \"5\": 1, \"108\": 1, \"1\": 1, \"69\": 2, \"66\": 1, \"15\": 1, \"10\": 1}, \"49\": {\"49\": 23, \"12\": 1, \"106\": 3, \"114\": 1, \"25\": 2, \"52\": 1, \"5\": 1}, \"21\": {\"21\": 37, \"23\": 1, \"108\": 1, \"70\": 1}, \"18\": {\"18\": 118, \"24\": 1, \"84\": 1}, \"114\": {\"114\": 116, \"88\": 1, \"3\": 1}, \"58\": {\"58\": 15, \"2\": 1}, \"56\": {\"56\": 12}, \"80\": {\"80\": 16}, \"11\": {\"11\": 152, \"1\": 1, \"93\": 1}, \"15\": {\"15\": 124, \"36\": 1, \"105\": 1, \"40\": 1, \"69\": 1}, \"50\": {\"50\": 16}, \"111\": {\"111\": 137, \"27\": 1}, \"108\": {\"108\": 80, \"88\": 4, \"70\": 3, \"27\": 1, \"10\": 1, \"18\": 1, \"39\": 1, \"69\": 1}, \"104\": {\"104\": 16}, \"32\": {\"32\": 19, \"64\": 3, \"108\": 1, \"14\": 1, \"89\": 1, \"120\": 1, \"40\": 2}, \"68\": {\"68\": 15, \"108\": 1}, \"73\": {\"83\": 1, \"73\": 23}, \"92\": {\"92\": 28}, \"57\": {\"57\": 16}, \"40\": {\"40\": 132, \"108\": 1, \"70\": 2, \"126\": 1}, \"71\": {\"71\": 99, \"12\": 1, \"108\": 1, \"1\": 1, \"52\": 1, \"69\": 1}, \"121\": {\"121\": 29, \"21\": 1, \"41\": 1, \"38\": 1}, \"62\": {\"62\": 53, \"54\": 1, \"27\": 1, \"2\": 1, \"106\": 1, \"39\": 1, \"10\": 1, \"21\": 1}, \"39\": {\"39\": 94, \"88\": 1, \"72\": 1, \"10\": 1, \"105\": 1, \"24\": 1, \"69\": 1}, \"107\": {\"107\": 142, \"10\": 1, \"102\": 1}, \"60\": {\"60\": 29, \"72\": 1, \"106\": 1, \"23\": 1}, \"129\": {\"129\": 26, \"105\": 1, \"121\": 1}, \"84\": {\"84\": 126, \"88\": 4, \"109\": 1, \"108\": 1}, \"106\": {\"106\": 114, \"88\": 2}, \"87\": {\"87\": 131, \"43\": 1}, \"110\": {\"110\": 89, \"78\": 1, \"113\": 1, \"24\": 1, \"36\": 1, \"88\": 1}, \"118\": {\"118\": 107, \"22\": 1, \"88\": 2, \"87\": 2}, \"64\": {\"64\": 15, \"106\": 1}, \"82\": {\"129\": 1, \"82\": 30, \"17\": 1}, \"7\": {\"7\": 120, \"72\": 1, \"69\": 1, \"70\": 1, \"24\": 1}, \"0\": {\"0\": 112, \"88\": 1, \"84\": 1, \"21\": 2}, \"41\": {\"41\": 12, \"102\": 1, \"100\": 1, \"98\": 2}, \"102\": {\"102\": 127, \"70\": 1, \"126\": 1, \"2\": 1}, \"89\": {\"89\": 31, \"51\": 1}, \"26\": {\"26\": 125, \"69\": 1, \"70\": 1, \"8\": 1}, \"103\": {\"103\": 13, \"88\": 1, \"91\": 1, \"27\": 1}, \"90\": {\"90\": 114, \"98\": 1, \"63\": 1, \"117\": 1, \"88\": 1}, \"14\": {\"14\": 111, \"78\": 1}, \"9\": {\"9\": 28}, \"5\": {\"5\": 133, \"113\": 1, \"88\": 1, \"117\": 1}, \"22\": {\"22\": 16}, \"2\": {\"2\": 28}, \"77\": {\"77\": 12}, \"59\": {\"59\": 10, \"70\": 1, \"88\": 1}, \"127\": {\"127\": 95, \"23\": 1, \"4\": 1, \"88\": 1, \"105\": 2, \"80\": 1, \"10\": 1}, \"61\": {\"61\": 15, \"35\": 1}, \"17\": {\"17\": 18, \"81\": 1, \"82\": 1}, \"45\": {\"45\": 16}, \"19\": {\"19\": 27, \"129\": 1}, \"52\": {\"52\": 19, \"70\": 1}, \"123\": {\"84\": 1, \"123\": 13, \"23\": 1, \"33\": 1}, \"20\": {\"20\": 15, \"86\": 1}, \"112\": {\"112\": 13, \"6\": 1, \"79\": 1, \"71\": 1}, \"37\": {\"37\": 16}, \"29\": {\"29\": 32}, \"128\": {\"100\": 2, \"128\": 17, \"85\": 1, \"107\": 1, \"91\": 1, \"77\": 1, \"98\": 1}, \"100\": {\"100\": 20}, \"67\": {\"67\": 14, \"115\": 1, \"2\": 1}, \"12\": {\"12\": 95, \"106\": 1, \"102\": 1, \"16\": 1, \"88\": 1, \"15\": 1}, \"101\": {\"101\": 127, \"5\": 1}, \"76\": {\"76\": 16}, \"70\": {\"70\": 113, \"108\": 4, \"27\": 2, \"10\": 3, \"36\": 1, \"88\": 1}, \"31\": {\"88\": 1, \"31\": 15}, \"86\": {\"86\": 28}, \"88\": {\"88\": 127, \"78\": 1, \"69\": 1, \"70\": 1, \"94\": 1, \"108\": 1}, \"3\": {\"3\": 123, \"108\": 1, \"70\": 1, \"52\": 1}, \"117\": {\"117\": 117, \"1\": 1, \"114\": 1, \"69\": 1}, \"30\": {\"30\": 72, \"10\": 3, \"114\": 1}, \"96\": {\"96\": 18, \"122\": 2}, \"27\": {\"27\": 91, \"92\": 1, \"88\": 2, \"108\": 2, \"10\": 1, \"84\": 1, \"21\": 1, \"24\": 1}, \"122\": {\"122\": 79, \"43\": 2, \"110\": 2, \"39\": 1}, \"120\": {\"120\": 18, \"21\": 1, \"45\": 1}, \"44\": {\"44\": 60, \"121\": 2, \"90\": 1, \"127\": 1}, \"79\": {\"79\": 14, \"73\": 1, \"122\": 1}, \"105\": {\"105\": 96, \"69\": 1, \"88\": 1, \"102\": 1, \"16\": 1}, \"95\": {\"95\": 30, \"21\": 1, \"27\": 1}, \"109\": {\"109\": 114, \"121\": 1, \"102\": 1}, \"16\": {\"16\": 115, \"88\": 1, \"114\": 1, \"70\": 1}, \"36\": {\"36\": 92, \"113\": 1, \"108\": 1, \"24\": 1, \"27\": 3}, \"125\": {\"125\": 135, \"117\": 1}, \"97\": {\"36\": 2, \"97\": 15, \"10\": 2, \"102\": 1}, \"91\": {\"28\": 1, \"91\": 19, \"88\": 1, \"34\": 1, \"128\": 1, \"83\": 1}, \"28\": {\"28\": 18, \"103\": 1, \"91\": 1}, \"81\": {\"81\": 36}, \"126\": {\"126\": 113, \"88\": 1, \"78\": 1, \"106\": 1, \"84\": 1, \"81\": 1, \"22\": 1, \"113\": 3}, \"4\": {\"4\": 98, \"33\": 1, \"39\": 1, \"88\": 1, \"24\": 1, \"108\": 1, \"69\": 1}, \"10\": {\"10\": 121, \"94\": 1, \"70\": 1, \"43\": 1}, \"63\": {\"63\": 16}, \"43\": {\"43\": 118}, \"116\": {\"116\": 28}, \"1\": {\"1\": 98, \"116\": 1, \"71\": 2, \"110\": 1, \"40\": 1, \"108\": 1, \"70\": 1, \"27\": 1, \"114\": 1, \"88\": 1}, \"94\": {\"94\": 84, \"15\": 1, \"78\": 1, \"40\": 1, \"70\": 1}, \"38\": {\"38\": 16}, \"54\": {\"54\": 14, \"51\": 2}, \"74\": {\"74\": 15, \"119\": 1}, \"25\": {\"25\": 16}, \"75\": {\"75\": 16}, \"119\": {\"119\": 15, \"22\": 1}, \"46\": {\"46\": 16, \"73\": 1, \"22\": 1, \"19\": 2}, \"23\": {\"23\": 9, \"72\": 1, \"93\": 1, \"1\": 1, \"60\": 1, \"113\": 1, \"102\": 1, \"34\": 1}, \"99\": {\"99\": 40}, \"33\": {\"33\": 116, \"102\": 1, \"16\": 1}, \"47\": {\"47\": 9, \"112\": 1, \"49\": 1, \"83\": 1}, \"115\": {\"102\": 1, \"115\": 12, \"111\": 2, \"42\": 1}, \"6\": {\"6\": 21, \"58\": 1, \"91\": 1, \"84\": 1}, \"65\": {\"65\": 12}, \"66\": {\"66\": 15, \"90\": 1}, \"78\": {\"78\": 34, \"88\": 1, \"109\": 1}, \"98\": {\"98\": 116}, \"93\": {\"93\": 113, \"11\": 2, \"24\": 1}, \"48\": {\"48\": 15, \"102\": 1}, \"124\": {\"124\": 113, \"117\": 1}}, \"Wisig_2\": {\"115\": {\"115\": 12}, \"34\": {\"34\": 25, \"28\": 3, \"64\": 2, \"86\": 1, \"52\": 1}, \"97\": {\"97\": 17, \"89\": 1, \"101\": 2}, \"100\": {\"100\": 16}, \"129\": {\"129\": 31, \"73\": 1}, \"90\": {\"90\": 140, \"98\": 1, \"102\": 1}, \"125\": {\"125\": 131, \"2\": 1}, \"7\": {\"7\": 125, \"24\": 3}, \"92\": {\"92\": 25, \"55\": 2, \"89\": 1}, \"114\": {\"114\": 115, \"107\": 1}, \"80\": {\"80\": 15, \"83\": 1}, \"16\": {\"16\": 114, \"40\": 2, \"24\": 2, \"26\": 1, \"88\": 1, \"102\": 1, \"93\": 1}, \"69\": {\"69\": 112, \"24\": 2, \"70\": 1, \"88\": 1}, \"102\": {\"102\": 114}, \"33\": {\"33\": 130}, \"17\": {\"17\": 14, \"27\": 1, \"104\": 1}, \"27\": {\"27\": 64, \"24\": 2, \"109\": 1, \"26\": 1}, \"117\": {\"117\": 104, \"12\": 1, \"39\": 1}, \"14\": {\"14\": 46, \"126\": 1, \"21\": 1}, \"86\": {\"86\": 32}, \"0\": {\"0\": 113, \"21\": 1, \"69\": 1, \"24\": 1}, \"62\": {\"62\": 136, \"23\": 1, \"24\": 1}, \"39\": {\"39\": 100, \"109\": 6, \"1\": 1, \"24\": 1, \"94\": 1, \"69\": 1, \"84\": 1, \"70\": 1}, \"19\": {\"19\": 28}, \"44\": {\"44\": 100}, \"104\": {\"104\": 20}, \"3\": {\"3\": 125, \"69\": 1, \"24\": 1, \"62\": 1, \"21\": 1, \"36\": 1}, \"10\": {\"10\": 55, \"69\": 1, \"21\": 1, \"24\": 1, \"88\": 1, \"102\": 1}, \"61\": {\"61\": 16, \"121\": 1, \"70\": 1, \"126\": 2}, \"111\": {\"111\": 114}, \"68\": {\"68\": 16}, \"101\": {\"101\": 142, \"21\": 1, \"71\": 1}, \"36\": {\"36\": 119, \"121\": 1, \"18\": 1, \"62\": 1, \"70\": 1, \"16\": 1, \"24\": 2, \"4\": 1, \"117\": 1}, \"120\": {\"120\": 20}, \"103\": {\"103\": 16}, \"47\": {\"47\": 12}, \"98\": {\"98\": 119, \"3\": 1}, \"76\": {\"76\": 16}, \"88\": {\"88\": 121, \"70\": 2, \"109\": 1}, \"93\": {\"93\": 136, \"14\": 1, \"24\": 1}, \"23\": {\"93\": 2, \"23\": 30, \"14\": 1, \"87\": 1, \"126\": 2, \"16\": 2, \"101\": 1, \"110\": 1, \"96\": 1, \"60\": 2, \"113\": 1}, \"108\": {\"108\": 123, \"109\": 1}, \"51\": {\"51\": 16, \"89\": 1, \"58\": 1, \"116\": 1, \"24\": 1}, \"13\": {\"13\": 12, \"121\": 1, \"15\": 1, \"71\": 1, \"110\": 1}, \"77\": {\"77\": 16}, \"46\": {\"46\": 16}, \"96\": {\"96\": 20}, \"119\": {\"119\": 19, \"1\": 1}, \"121\": {\"121\": 36}, \"54\": {\"54\": 18, \"28\": 1, \"104\": 1}, \"82\": {\"82\": 34, \"123\": 1, \"33\": 1}, \"12\": {\"12\": 83, \"33\": 1, \"0\": 2, \"126\": 1, \"24\": 1}, \"74\": {\"74\": 15, \"22\": 1}, \"66\": {\"66\": 18, \"49\": 1, \"82\": 1}, \"28\": {\"28\": 17, \"73\": 1, \"91\": 2}, \"52\": {\"52\": 18, \"59\": 1, \"107\": 1}, \"41\": {\"41\": 18, \"52\": 1, \"98\": 1}, \"81\": {\"81\": 24}, \"48\": {\"48\": 20}, \"113\": {\"113\": 70, \"78\": 1, \"11\": 1}, \"53\": {\"53\": 16}, \"15\": {\"15\": 117, \"97\": 2, \"126\": 1}, \"30\": {\"30\": 108, \"24\": 1, \"122\": 1, \"0\": 1, \"108\": 1}, \"43\": {\"43\": 121, \"88\": 2, \"15\": 1}, \"29\": {\"29\": 31, \"91\": 1}, \"109\": {\"109\": 84, \"78\": 1, \"39\": 10, \"94\": 1, \"70\": 1, \"88\": 2, \"84\": 1}, \"60\": {\"60\": 23, \"122\": 2, \"93\": 1, \"70\": 1, \"84\": 1}, \"70\": {\"70\": 108, \"67\": 1, \"109\": 5, \"11\": 1, \"69\": 1, \"107\": 1, \"78\": 1, \"71\": 1, \"39\": 2, \"30\": 1}, \"127\": {\"127\": 123, \"16\": 1}, \"32\": {\"32\": 29, \"56\": 2, \"95\": 1, \"104\": 2, \"34\": 2}, \"73\": {\"73\": 27, \"88\": 1}, \"50\": {\"50\": 13, \"69\": 1, \"21\": 1, \"33\": 1}, \"1\": {\"1\": 119, \"69\": 1, \"12\": 1, \"102\": 1, \"88\": 1, \"126\": 1}, \"106\": {\"106\": 116, \"21\": 1, \"126\": 1, \"84\": 1, \"88\": 1}, \"123\": {\"123\": 15, \"83\": 1}, \"79\": {\"79\": 16}, \"4\": {\"4\": 85, \"84\": 1, \"126\": 1, \"31\": 1}, \"2\": {\"2\": 31, \"13\": 1}, \"8\": {\"8\": 124, \"88\": 2, \"12\": 1, \"84\": 1}, \"83\": {\"83\": 40}, \"105\": {\"105\": 129, \"21\": 1}, \"5\": {\"5\": 107, \"21\": 1, \"70\": 3, \"88\": 1}, \"99\": {\"99\": 32}, \"25\": {\"25\": 15, \"28\": 1}, \"59\": {\"59\": 13, \"21\": 2, \"126\": 1}, \"42\": {\"42\": 22, \"129\": 1, \"83\": 1, \"124\": 2, \"18\": 1, \"88\": 1}, \"55\": {\"55\": 16}, \"75\": {\"75\": 16}, \"118\": {\"118\": 65, \"39\": 1, \"31\": 1, \"43\": 1}, \"95\": {\"95\": 32, \"21\": 1, \"24\": 1, \"40\": 2}, \"122\": {\"122\": 118, \"24\": 1, \"0\": 1}, \"20\": {\"20\": 16}, \"110\": {\"110\": 31, \"123\": 1, \"1\": 1, \"6\": 1, \"21\": 1, \"24\": 1, \"14\": 2, \"31\": 1, \"19\": 1}, \"65\": {\"65\": 20}, \"37\": {\"79\": 1, \"37\": 13, \"104\": 1, \"86\": 1}, \"64\": {\"64\": 15, \"66\": 1}, \"63\": {\"63\": 19, \"49\": 1}, \"40\": {\"40\": 126, \"95\": 2, \"18\": 2, \"88\": 3, \"69\": 3, \"73\": 1, \"71\": 1, \"84\": 1, \"24\": 1}, \"21\": {\"21\": 47, \"109\": 1}, \"11\": {\"11\": 77, \"67\": 1, \"88\": 1, \"27\": 1}, \"67\": {\"67\": 16}, \"91\": {\"103\": 1, \"67\": 1, \"91\": 20, \"34\": 1, \"29\": 1, \"18\": 1, \"6\": 3}, \"87\": {\"87\": 101, \"43\": 2, \"39\": 2, \"88\": 2, \"24\": 2, \"31\": 1, \"102\": 1, \"69\": 1}, \"89\": {\"89\": 34, \"92\": 1, \"119\": 1}, \"9\": {\"9\": 32}, \"124\": {\"124\": 113, \"45\": 1}, \"56\": {\"56\": 11, \"103\": 1}, \"38\": {\"38\": 16}, \"94\": {\"94\": 57, \"109\": 1, \"108\": 1, \"26\": 1, \"118\": 1, \"102\": 1, \"24\": 1, \"39\": 1}, \"6\": {\"6\": 30, \"124\": 1, \"91\": 1}, \"58\": {\"58\": 17, \"51\": 1, \"42\": 1, \"28\": 1}, \"22\": {\"22\": 20}, \"24\": {\"108\": 2, \"24\": 102, \"118\": 1, \"70\": 1, \"69\": 1, \"98\": 1, \"109\": 1, \"39\": 1, \"15\": 1, \"88\": 1}, \"57\": {\"57\": 20}, \"112\": {\"112\": 12, \"53\": 1, \"15\": 1, \"129\": 1, \"85\": 1}, \"116\": {\"116\": 26, \"78\": 2}, \"18\": {\"18\": 120, \"42\": 1, \"7\": 1, \"84\": 1, \"70\": 1, \"24\": 3, \"71\": 1}, \"49\": {\"49\": 16, \"51\": 1, \"67\": 1, \"44\": 1, \"91\": 1, \"114\": 1, \"68\": 1, \"58\": 1, \"88\": 1}, \"45\": {\"45\": 14, \"124\": 2}, \"107\": {\"107\": 55, \"67\": 1, \"110\": 2, \"126\": 1, \"33\": 1, \"61\": 1, \"108\": 1, \"36\": 1, \"102\": 1}, \"35\": {\"35\": 12}, \"78\": {\"78\": 42, \"118\": 1, \"70\": 2, \"109\": 2, \"69\": 1}, \"126\": {\"126\": 119, \"108\": 1}, \"85\": {\"85\": 32}, \"72\": {\"72\": 27, \"24\": 1}, \"26\": {\"26\": 120, \"70\": 1, \"69\": 1, \"18\": 1, \"122\": 1}, \"84\": {\"84\": 90, \"118\": 1, \"87\": 1}, \"128\": {\"128\": 19, \"114\": 2, \"34\": 2, \"101\": 1}, \"31\": {\"31\": 20}, \"71\": {\"71\": 98, \"40\": 1, \"11\": 1}}, \"Wisig_1\": {\"22\": {\"22\": 16}, \"58\": {\"58\": 12}, \"109\": {\"109\": 123, \"108\": 1}, \"77\": {\"77\": 16}, \"74\": {\"74\": 16}, \"10\": {\"10\": 119, \"109\": 1}, \"70\": {\"70\": 126, \"126\": 1, \"108\": 1}, \"84\": {\"84\": 108}, \"52\": {\"52\": 20}, \"20\": {\"20\": 16}, \"14\": {\"14\": 95, \"108\": 1}, \"37\": {\"37\": 16}, \"42\": {\"42\": 22, \"22\": 1, \"72\": 1, \"91\": 1, \"2\": 1, \"29\": 1, \"86\": 1}, \"99\": {\"99\": 24}, \"35\": {\"35\": 12}, \"62\": {\"62\": 119, \"108\": 1}, \"61\": {\"61\": 11, \"66\": 1}, \"7\": {\"7\": 141, \"70\": 1}, \"69\": {\"69\": 100, \"88\": 1, \"108\": 1, \"102\": 1, \"36\": 1}, \"55\": {\"55\": 12}, \"41\": {\"41\": 16}, \"120\": {\"120\": 20}, \"123\": {\"123\": 16}, \"97\": {\"97\": 16, \"55\": 1, \"42\": 1, \"59\": 1, \"95\": 1}, \"102\": {\"102\": 117, \"16\": 1, \"108\": 1, \"109\": 1}, \"60\": {\"20\": 2, \"60\": 7, \"18\": 1, \"106\": 2, \"61\": 1, \"110\": 1, \"8\": 1, \"30\": 1}, \"127\": {\"127\": 104, \"114\": 1, \"88\": 1, \"11\": 1, \"43\": 1}, \"32\": {\"32\": 32}, \"3\": {\"3\": 82, \"15\": 1, \"86\": 1, \"93\": 1, \"30\": 1, \"111\": 1, \"108\": 1}, \"8\": {\"8\": 122}, \"129\": {\"129\": 24, \"13\": 1, \"2\": 1, \"5\": 2}, \"119\": {\"119\": 16}, \"21\": {\"21\": 38, \"108\": 1, \"5\": 1}, \"53\": {\"53\": 20}, \"28\": {\"28\": 20}, \"117\": {\"117\": 144}, \"112\": {\"112\": 15, \"59\": 1}, \"126\": {\"126\": 129, \"108\": 1, \"88\": 1, \"24\": 2, \"102\": 1}, \"30\": {\"30\": 52}, \"105\": {\"105\": 81, \"88\": 1, \"102\": 1, \"70\": 1}, \"29\": {\"29\": 28}, \"57\": {\"57\": 12}, \"93\": {\"93\": 140}, \"17\": {\"17\": 14, \"97\": 1, \"124\": 1}, \"44\": {\"44\": 76}, \"63\": {\"63\": 15, \"116\": 1}, \"87\": {\"87\": 106, \"109\": 1, \"108\": 1}, \"0\": {\"0\": 83, \"122\": 1}, \"96\": {\"96\": 19, \"91\": 1}, \"98\": {\"98\": 108}, \"75\": {\"75\": 16}, \"78\": {\"78\": 15, \"110\": 1}, \"116\": {\"116\": 31, \"70\": 1}, \"114\": {\"114\": 126, \"109\": 1, \"70\": 1}, \"103\": {\"103\": 16}, \"50\": {\"50\": 16}, \"124\": {\"124\": 128}, \"5\": {\"5\": 85, \"82\": 1, \"16\": 1, \"15\": 1}, \"73\": {\"73\": 19, \"49\": 1}, \"81\": {\"81\": 28}, \"49\": {\"49\": 15, \"124\": 1, \"72\": 1, \"1\": 1, \"89\": 1, \"6\": 1}, \"16\": {\"16\": 106, \"70\": 1, \"108\": 1}, \"101\": {\"101\": 124}, \"125\": {\"125\": 118}, \"65\": {\"66\": 1, \"65\": 6, \"76\": 1, \"45\": 1, \"42\": 1, \"61\": 1, \"23\": 1}, \"66\": {\"66\": 15, \"28\": 1}, \"79\": {\"79\": 12}, \"39\": {\"39\": 101, \"30\": 1, \"11\": 2}, \"104\": {\"104\": 16}, \"91\": {\"91\": 26, \"86\": 2}, \"25\": {\"25\": 15, \"42\": 1}, \"64\": {\"64\": 16}, \"34\": {\"34\": 27, \"83\": 2, \"30\": 1, \"6\": 1, \"98\": 1}, \"82\": {\"82\": 36}, \"18\": {\"18\": 124}, \"43\": {\"43\": 127, \"78\": 1}, \"47\": {\"47\": 12}, \"108\": {\"108\": 123, \"50\": 1}, \"111\": {\"111\": 107, \"70\": 1}, \"23\": {\"23\": 14, \"87\": 1, \"44\": 1, \"110\": 2, \"122\": 1, \"18\": 1, \"11\": 2, \"88\": 2}, \"90\": {\"90\": 158, \"108\": 2}, \"4\": {\"4\": 99, \"1\": 1}, \"92\": {\"92\": 28}, \"2\": {\"2\": 27, \"42\": 1, \"129\": 1, \"5\": 1, \"82\": 1, \"15\": 1}, \"45\": {\"116\": 2, \"45\": 4, \"104\": 2, \"124\": 2, \"70\": 1, \"21\": 1}, \"68\": {\"68\": 16}, \"26\": {\"26\": 128}, \"38\": {\"38\": 16}, \"40\": {\"40\": 140, \"105\": 1, \"110\": 1}, \"80\": {\"80\": 14, \"20\": 1, \"73\": 1}, \"107\": {\"107\": 118, \"65\": 1, \"108\": 1, \"39\": 1, \"16\": 1}, \"94\": {\"94\": 91, \"15\": 1}, \"115\": {\"115\": 12}, \"46\": {\"46\": 10, \"70\": 1, \"91\": 1}, \"72\": {\"72\": 32}, \"19\": {\"19\": 27, \"73\": 1}, \"100\": {\"100\": 15, \"9\": 1}, \"76\": {\"76\": 15, \"88\": 1}, \"106\": {\"106\": 132}, \"88\": {\"88\": 128, \"24\": 1, \"108\": 1}, \"15\": {\"15\": 96, \"94\": 7, \"70\": 1}, \"54\": {\"54\": 14, \"15\": 1, \"30\": 1}, \"13\": {\"13\": 16}, \"51\": {\"51\": 16}, \"24\": {\"24\": 86, \"88\": 5, \"34\": 1}, \"48\": {\"48\": 12}, \"85\": {\"85\": 32}, \"33\": {\"33\": 140}, \"71\": {\"71\": 102, \"64\": 1, \"117\": 1, \"12\": 2, \"5\": 1, \"126\": 1}, \"6\": {\"6\": 29, \"55\": 1, \"65\": 1, \"58\": 1}, \"83\": {\"83\": 26, \"102\": 1, \"2\": 1}, \"121\": {\"121\": 32}, \"31\": {\"31\": 15, \"122\": 1}, \"67\": {\"109\": 1, \"67\": 15}, \"1\": {\"1\": 135, \"110\": 1}, \"27\": {\"27\": 91, \"109\": 1}, \"118\": {\"118\": 82, \"108\": 1, \"103\": 1}, \"56\": {\"56\": 12}, \"36\": {\"36\": 127, \"70\": 1}, \"11\": {\"11\": 125, \"111\": 1}, \"110\": {\"110\": 121, \"88\": 1}, \"89\": {\"89\": 36}, \"113\": {\"113\": 112, \"43\": 1, \"110\": 2, \"33\": 1, \"108\": 1, \"39\": 1}, \"59\": {\"59\": 12}, \"9\": {\"9\": 31, \"70\": 1}, \"86\": {\"86\": 34, \"94\": 1, \"114\": 1}, \"12\": {\"12\": 98, \"70\": 2, \"109\": 1, \"106\": 2, \"24\": 1}, \"122\": {\"122\": 79, \"21\": 1, \"43\": 5, \"27\": 1, \"70\": 2}, \"128\": {\"128\": 20, \"89\": 1, \"19\": 1, \"82\": 1, \"83\": 1}, \"95\": {\"95\": 35, \"24\": 1}}, \"ORACLE.run114\": {\"15\": {\"15\": 240}, \"5\": {\"5\": 82, \"13\": 11, \"2\": 37, \"14\": 25, \"0\": 22, \"7\": 18, \"12\": 14, \"8\": 21, \"4\": 6, \"6\": 3, \"3\": 1}, \"7\": {\"7\": 83, \"5\": 20, \"0\": 26, \"6\": 11, \"2\": 11, \"8\": 29, \"3\": 27, \"14\": 17, \"13\": 10, \"12\": 6}, \"4\": {\"13\": 4, \"4\": 106, \"9\": 12, \"10\": 62, \"2\": 12, \"5\": 20, \"12\": 14, \"1\": 2, \"14\": 2, \"8\": 1, \"7\": 1, \"6\": 1, \"0\": 3}, \"10\": {\"10\": 127, \"9\": 32, \"4\": 68, \"1\": 4, \"5\": 3, \"2\": 4, \"12\": 2}, \"11\": {\"11\": 234, \"1\": 5, \"9\": 1}, \"12\": {\"12\": 139, \"8\": 64, \"0\": 14, \"5\": 12, \"7\": 5, \"4\": 1, \"2\": 3, \"9\": 2}, \"0\": {\"4\": 6, \"3\": 32, \"8\": 19, \"0\": 44, \"2\": 14, \"13\": 17, \"12\": 23, \"7\": 25, \"5\": 22, \"10\": 1, \"6\": 19, \"14\": 18}, \"14\": {\"7\": 19, \"14\": 83, \"0\": 29, \"13\": 22, \"6\": 18, \"3\": 12, \"2\": 39, \"5\": 15, \"4\": 1, \"12\": 1, \"8\": 1}, \"8\": {\"8\": 108, \"0\": 9, \"5\": 23, \"7\": 40, \"4\": 2, \"12\": 57, \"2\": 1}, \"13\": {\"6\": 66, \"3\": 23, \"0\": 14, \"14\": 30, \"13\": 51, \"7\": 4, \"15\": 16, \"2\": 15, \"5\": 19, \"12\": 1, \"4\": 1}, \"6\": {\"3\": 49, \"6\": 89, \"0\": 12, \"14\": 25, \"13\": 54, \"2\": 6, \"7\": 2, \"5\": 3}, \"1\": {\"1\": 155, \"10\": 29, \"9\": 52, \"4\": 4}, \"3\": {\"0\": 37, \"2\": 10, \"3\": 87, \"6\": 19, \"13\": 31, \"7\": 32, \"5\": 6, \"8\": 10, \"14\": 8}, \"9\": {\"4\": 6, \"1\": 34, \"9\": 169, \"10\": 30, \"12\": 1}, \"2\": {\"2\": 35, \"6\": 18, \"14\": 31, \"4\": 31, \"5\": 46, \"0\": 29, \"3\": 21, \"7\": 6, \"13\": 14, \"10\": 5, \"8\": 1, \"12\": 3}}, \"ORACLE.run120\": {\"4\": {\"6\": 34, \"14\": 8, \"4\": 69, \"15\": 12, \"7\": 22, \"10\": 21, \"12\": 32, \"1\": 4, \"13\": 9, \"5\": 1, \"2\": 20, \"8\": 4, \"9\": 3, \"3\": 1}, \"10\": {\"4\": 50, \"10\": 131, \"13\": 24, \"12\": 11, \"2\": 7, \"6\": 11, \"1\": 1, \"15\": 1, \"7\": 3, \"9\": 1}, \"15\": {\"7\": 32, \"1\": 19, \"15\": 44, \"2\": 36, \"5\": 2, \"4\": 14, \"6\": 11, \"12\": 30, \"13\": 20, \"9\": 24, \"3\": 4, \"14\": 4}, \"0\": {\"0\": 123, \"8\": 26, \"11\": 66, \"3\": 10, \"14\": 2, \"1\": 4, \"5\": 7, \"9\": 2}, \"6\": {\"6\": 61, \"7\": 35, \"12\": 25, \"14\": 19, \"2\": 25, \"9\": 12, \"4\": 27, \"15\": 10, \"5\": 3, \"10\": 8, \"13\": 6, \"8\": 3, \"3\": 4, \"1\": 2}, \"3\": {\"6\": 5, \"3\": 32, \"1\": 30, \"5\": 46, \"14\": 40, \"7\": 7, \"8\": 33, \"9\": 31, \"0\": 1, \"15\": 8, \"12\": 3, \"2\": 3, \"11\": 1}, \"7\": {\"9\": 27, \"15\": 33, \"1\": 12, \"2\": 39, \"7\": 31, \"13\": 20, \"4\": 14, \"12\": 17, \"6\": 23, \"5\": 13, \"14\": 7, \"8\": 3, \"3\": 1}, \"2\": {\"2\": 33, \"15\": 28, \"4\": 22, \"7\": 22, \"12\": 40, \"6\": 21, \"13\": 36, \"1\": 10, \"5\": 3, \"3\": 4, \"9\": 16, \"10\": 3, \"14\": 2}, \"8\": {\"3\": 43, \"1\": 15, \"8\": 70, \"0\": 5, \"14\": 66, \"5\": 29, \"7\": 2, \"9\": 5, \"6\": 2, \"15\": 2, \"12\": 1}, \"11\": {\"11\": 135, \"0\": 96, \"3\": 2, \"8\": 4, \"5\": 1, \"9\": 1, \"14\": 1}, \"14\": {\"6\": 10, \"5\": 27, \"3\": 35, \"8\": 54, \"14\": 85, \"9\": 13, \"2\": 1, \"12\": 1, \"1\": 9, \"7\": 4, \"4\": 1}, \"12\": {\"6\": 23, \"12\": 33, \"7\": 32, \"15\": 38, \"2\": 36, \"4\": 27, \"13\": 16, \"9\": 17, \"5\": 2, \"1\": 8, \"3\": 2, \"10\": 3, \"14\": 1, \"8\": 2}, \"13\": {\"7\": 17, \"10\": 12, \"13\": 90, \"12\": 25, \"2\": 25, \"15\": 40, \"9\": 7, \"4\": 16, \"6\": 7, \"1\": 1}, \"9\": {\"9\": 45, \"7\": 22, \"3\": 19, \"5\": 26, \"14\": 9, \"1\": 41, \"15\": 14, \"12\": 11, \"8\": 14, \"2\": 17, \"6\": 13, \"13\": 4, \"4\": 4, \"10\": 1}, \"5\": {\"2\": 7, \"3\": 44, \"1\": 37, \"9\": 34, \"7\": 15, \"15\": 13, \"14\": 17, \"8\": 30, \"5\": 36, \"6\": 3, \"4\": 1, \"13\": 2, \"0\": 1}, \"1\": {\"9\": 49, \"6\": 7, \"15\": 21, \"7\": 21, \"3\": 27, \"1\": 33, \"2\": 13, \"14\": 13, \"12\": 12, \"5\": 29, \"4\": 2, \"13\": 5, \"8\": 8}}, \"ORACLE.run150\": {\"5\": {\"4\": 36, \"9\": 17, \"6\": 28, \"7\": 30, \"15\": 33, \"5\": 57, \"3\": 14, \"11\": 15, \"13\": 5, \"1\": 3, \"12\": 2}, \"12\": {\"6\": 19, \"9\": 42, \"12\": 129, \"11\": 31, \"15\": 3, \"5\": 2, \"3\": 13, \"13\": 1}, \"14\": {\"0\": 48, \"14\": 97, \"2\": 88, \"10\": 7}, \"4\": {\"4\": 103, \"7\": 87, \"5\": 36, \"9\": 4, \"15\": 6, \"6\": 4}, \"13\": {\"1\": 41, \"13\": 147, \"8\": 16, \"5\": 3, \"11\": 24, \"9\": 1, \"12\": 3, \"3\": 1, \"15\": 3, \"6\": 1}, \"10\": {\"8\": 40, \"10\": 145, \"0\": 30, \"1\": 20, \"14\": 1, \"2\": 4}, \"9\": {\"11\": 14, \"6\": 51, \"9\": 52, \"5\": 18, \"3\": 23, \"15\": 46, \"12\": 35, \"4\": 1}, \"15\": {\"6\": 57, \"5\": 25, \"15\": 80, \"9\": 39, \"11\": 12, \"12\": 8, \"3\": 18, \"4\": 1}, \"6\": {\"5\": 25, \"6\": 57, \"9\": 44, \"11\": 18, \"15\": 54, \"3\": 22, \"4\": 2, \"12\": 17, \"7\": 1}, \"2\": {\"0\": 70, \"14\": 65, \"2\": 97, \"10\": 8}, \"0\": {\"0\": 106, \"2\": 66, \"10\": 42, \"14\": 26}, \"11\": {\"13\": 7, \"11\": 95, \"12\": 37, \"9\": 21, \"15\": 19, \"5\": 10, \"6\": 24, \"3\": 27}, \"3\": {\"3\": 93, \"12\": 27, \"9\": 25, \"15\": 26, \"6\": 34, \"11\": 22, \"5\": 12, \"13\": 1}, \"8\": {\"8\": 153, \"1\": 53, \"10\": 23, \"13\": 7, \"0\": 4}, \"7\": {\"7\": 118, \"4\": 98, \"6\": 1, \"5\": 19, \"9\": 4}, \"1\": {\"8\": 50, \"1\": 101, \"13\": 60, \"10\": 25, \"2\": 1, \"0\": 1, \"11\": 2}}, \"ORACLE.run126\": {\"7\": {\"7\": 52, \"9\": 34, \"3\": 28, \"8\": 69, \"12\": 14, \"2\": 32, \"10\": 2, \"13\": 6, \"0\": 3}, \"6\": {\"15\": 54, \"5\": 44, \"10\": 17, \"6\": 69, \"1\": 32, \"11\": 8, \"14\": 14, \"0\": 2}, \"14\": {\"1\": 29, \"0\": 28, \"14\": 59, \"15\": 29, \"6\": 21, \"10\": 60, \"2\": 5, \"5\": 8, \"9\": 1}, \"15\": {\"6\": 51, \"15\": 63, \"10\": 30, \"11\": 3, \"1\": 26, \"14\": 23, \"5\": 31, \"0\": 12, \"2\": 1}, \"5\": {\"5\": 92, \"6\": 36, \"11\": 30, \"1\": 21, \"15\": 47, \"14\": 6, \"0\": 1, \"10\": 6, \"2\": 1}, \"10\": {\"14\": 61, \"15\": 34, \"10\": 64, \"0\": 31, \"1\": 20, \"6\": 17, \"5\": 10, \"2\": 3}, \"4\": {\"4\": 176, \"3\": 28, \"13\": 30, \"2\": 1, \"8\": 1, \"7\": 3, \"9\": 1}, \"11\": {\"11\": 151, \"5\": 55, \"6\": 15, \"15\": 9, \"1\": 9, \"10\": 1}, \"13\": {\"13\": 123, \"4\": 15, \"3\": 34, \"8\": 6, \"9\": 29, \"12\": 17, \"7\": 10, \"2\": 6}, \"2\": {\"12\": 18, \"9\": 31, \"2\": 52, \"0\": 23, \"13\": 9, \"8\": 48, \"7\": 39, \"3\": 9, \"14\": 5, \"10\": 5, \"1\": 1}, \"0\": {\"5\": 5, \"9\": 4, \"0\": 76, \"15\": 10, \"2\": 25, \"8\": 15, \"14\": 42, \"10\": 53, \"12\": 1, \"6\": 6, \"1\": 2, \"7\": 1}, \"12\": {\"12\": 99, \"9\": 53, \"7\": 18, \"8\": 17, \"13\": 29, \"3\": 4, \"2\": 19, \"0\": 1}, \"3\": {\"3\": 86, \"9\": 26, \"7\": 47, \"4\": 2, \"8\": 21, \"13\": 33, \"12\": 12, \"2\": 11, \"0\": 2}, \"9\": {\"3\": 24, \"8\": 28, \"7\": 29, \"13\": 31, \"2\": 32, \"12\": 35, \"9\": 54, \"0\": 5, \"14\": 1, \"10\": 1}, \"8\": {\"9\": 26, \"8\": 63, \"7\": 52, \"3\": 15, \"0\": 16, \"2\": 47, \"13\": 6, \"12\": 13, \"14\": 2}, \"1\": {\"1\": 127, \"5\": 7, \"10\": 20, \"6\": 37, \"14\": 28, \"15\": 16, \"0\": 5}}, \"ORACLE.run132\": {\"7\": {\"7\": 67, \"14\": 52, \"5\": 51, \"0\": 49, \"8\": 18, \"15\": 1, \"1\": 2}, \"2\": {\"2\": 112, \"4\": 58, \"9\": 2, \"1\": 39, \"0\": 3, \"3\": 9, \"14\": 7, \"8\": 7, \"13\": 3}, \"5\": {\"5\": 75, \"0\": 46, \"14\": 21, \"7\": 50, \"8\": 35, \"15\": 12, \"1\": 1}, \"6\": {\"6\": 216, \"10\": 24}, \"13\": {\"4\": 25, \"11\": 19, \"13\": 84, \"9\": 30, \"3\": 72, \"2\": 9, \"1\": 1}, \"4\": {\"2\": 70, \"4\": 93, \"9\": 5, \"1\": 12, \"3\": 37, \"13\": 19, \"8\": 3, \"14\": 1}, \"3\": {\"3\": 135, \"13\": 54, \"4\": 42, \"9\": 6, \"2\": 2, \"8\": 1}, \"0\": {\"14\": 55, \"7\": 43, \"0\": 53, \"5\": 40, \"8\": 41, \"15\": 6, \"2\": 1, \"1\": 1}, \"9\": {\"13\": 38, \"11\": 47, \"4\": 11, \"9\": 87, \"12\": 33, \"10\": 6, \"3\": 15, \"2\": 2, \"1\": 1}, \"12\": {\"12\": 138, \"9\": 28, \"10\": 33, \"11\": 38, \"13\": 3}, \"8\": {\"8\": 76, \"0\": 58, \"7\": 19, \"5\": 20, \"2\": 8, \"15\": 27, \"14\": 27, \"4\": 4, \"3\": 1}, \"14\": {\"14\": 69, \"7\": 48, \"0\": 39, \"8\": 32, \"5\": 20, \"2\": 17, \"1\": 12, \"4\": 2, \"15\": 1}, \"15\": {\"5\": 19, \"15\": 195, \"8\": 14, \"0\": 8, \"7\": 4}, \"11\": {\"11\": 114, \"12\": 42, \"13\": 13, \"9\": 64, \"3\": 7}, \"10\": {\"12\": 39, \"10\": 193, \"11\": 1, \"6\": 7}, \"1\": {\"1\": 188, \"2\": 25, \"14\": 8, \"0\": 8, \"8\": 9, \"4\": 2}}, \"ORACLE.run144\": {\"11\": {\"11\": 237, \"13\": 3}, \"7\": {\"4\": 23, \"6\": 13, \"10\": 57, \"7\": 76, \"5\": 15, \"14\": 11, \"9\": 41, \"2\": 3, \"13\": 1}, \"6\": {\"6\": 127, \"10\": 3, \"13\": 77, \"9\": 30, \"7\": 2, \"4\": 1}, \"12\": {\"12\": 154, \"3\": 84, \"1\": 1, \"0\": 1}, \"4\": {\"5\": 41, \"4\": 41, \"7\": 31, \"9\": 27, \"2\": 13, \"14\": 31, \"15\": 15, \"10\": 27, \"1\": 5, \"6\": 4, \"8\": 5}, \"13\": {\"13\": 130, \"6\": 89, \"11\": 4, \"9\": 13, \"10\": 1, \"7\": 1, \"4\": 2}, \"8\": {\"15\": 56, \"8\": 96, \"14\": 5, \"0\": 54, \"4\": 5, \"1\": 17, \"5\": 4, \"2\": 3}, \"5\": {\"10\": 20, \"7\": 18, \"4\": 34, \"5\": 58, \"14\": 49, \"15\": 36, \"0\": 1, \"8\": 12, \"9\": 5, \"1\": 3, \"6\": 1, \"2\": 3}, \"14\": {\"14\": 55, \"9\": 9, \"15\": 20, \"5\": 53, \"4\": 36, \"2\": 7, \"7\": 24, \"10\": 31, \"6\": 1, \"8\": 4}, \"3\": {\"12\": 112, \"3\": 126, \"0\": 2}, \"10\": {\"10\": 52, \"5\": 20, \"7\": 64, \"4\": 28, \"1\": 4, \"9\": 29, \"14\": 26, \"2\": 12, \"6\": 4, \"15\": 1}, \"1\": {\"2\": 61, \"1\": 96, \"8\": 24, \"4\": 5, \"15\": 19, \"0\": 27, \"10\": 3, \"5\": 4, \"14\": 1}, \"2\": {\"2\": 142, \"4\": 8, \"1\": 54, \"5\": 7, \"15\": 10, \"10\": 11, \"9\": 2, \"7\": 3, \"14\": 3}, \"15\": {\"15\": 74, \"14\": 23, \"8\": 65, \"5\": 34, \"4\": 16, \"0\": 7, \"2\": 6, \"10\": 3, \"7\": 1, \"1\": 11}, \"9\": {\"7\": 56, \"5\": 6, \"6\": 31, \"13\": 37, \"10\": 40, \"9\": 41, \"14\": 7, \"2\": 9, \"4\": 11, \"15\": 1, \"1\": 1}, \"0\": {\"0\": 133, \"8\": 44, \"1\": 53, \"2\": 3, \"15\": 7}}, \"ORACLE.run18\": {\"10\": {\"5\": 42, \"6\": 33, \"13\": 40, \"7\": 41, \"1\": 22, \"10\": 43, \"4\": 6, \"11\": 12, \"14\": 1}, \"6\": {\"1\": 37, \"6\": 75, \"7\": 48, \"10\": 20, \"13\": 8, \"11\": 26, \"8\": 8, \"5\": 6, \"4\": 12}, \"13\": {\"5\": 46, \"13\": 74, \"7\": 44, \"10\": 43, \"1\": 9, \"6\": 13, \"11\": 11}, \"3\": {\"3\": 209, \"2\": 29, \"9\": 1, \"15\": 1}, \"9\": {\"9\": 233, \"3\": 7}, \"1\": {\"13\": 10, \"5\": 18, \"10\": 25, \"4\": 7, \"1\": 51, \"6\": 42, \"11\": 36, \"7\": 40, \"8\": 11}, \"5\": {\"7\": 32, \"5\": 59, \"10\": 42, \"13\": 41, \"1\": 23, \"6\": 17, \"11\": 14, \"4\": 6, \"14\": 3, \"12\": 3}, \"11\": {\"5\": 9, \"1\": 52, \"11\": 51, \"4\": 31, \"14\": 8, \"8\": 40, \"6\": 23, \"7\": 13, \"13\": 2, \"10\": 11}, \"4\": {\"4\": 94, \"8\": 46, \"6\": 16, \"11\": 33, \"14\": 42, \"1\": 2, \"10\": 4, \"7\": 2, \"5\": 1}, \"14\": {\"4\": 57, \"11\": 9, \"14\": 142, \"8\": 30, \"7\": 1, \"6\": 1}, \"12\": {\"12\": 113, \"15\": 104, \"2\": 23}, \"7\": {\"5\": 18, \"7\": 69, \"6\": 37, \"10\": 39, \"1\": 28, \"13\": 29, \"11\": 17, \"8\": 3}, \"0\": {\"0\": 238, \"14\": 2}, \"15\": {\"15\": 125, \"12\": 78, \"2\": 36, \"3\": 1}, \"2\": {\"3\": 43, \"2\": 115, \"15\": 51, \"13\": 3, \"12\": 27, \"5\": 1}, \"8\": {\"4\": 51, \"8\": 88, \"1\": 22, \"10\": 2, \"11\": 42, \"6\": 17, \"7\": 2, \"14\": 14, \"5\": 2}}, \"ORACLE.run138\": {\"4\": {\"4\": 223, \"14\": 4, \"10\": 5, \"0\": 6, \"13\": 2}, \"7\": {\"2\": 49, \"14\": 74, \"7\": 86, \"13\": 1, \"9\": 12, \"5\": 7, \"0\": 2, \"4\": 4, \"8\": 4, \"12\": 1}, \"12\": {\"12\": 210, \"8\": 16, \"5\": 12, \"15\": 1, \"14\": 1}, \"10\": {\"10\": 136, \"13\": 30, \"0\": 61, \"4\": 11, \"3\": 1, \"14\": 1}, \"0\": {\"13\": 51, \"10\": 87, \"4\": 11, \"2\": 12, \"0\": 50, \"3\": 8, \"14\": 11, \"7\": 8, \"8\": 1, \"9\": 1}, \"1\": {\"1\": 122, \"6\": 113, \"15\": 5}, \"5\": {\"8\": 72, \"2\": 13, \"5\": 53, \"9\": 38, \"7\": 22, \"15\": 27, \"14\": 4, \"12\": 9, \"13\": 2}, \"15\": {\"15\": 162, \"8\": 17, \"1\": 7, \"5\": 25, \"6\": 12, \"9\": 3, \"12\": 14}, \"9\": {\"9\": 141, \"8\": 25, \"5\": 22, \"2\": 30, \"14\": 6, \"7\": 16}, \"11\": {\"11\": 228, \"3\": 12}, \"14\": {\"7\": 63, \"14\": 102, \"2\": 52, \"5\": 2, \"4\": 12, \"9\": 3, \"13\": 2, \"8\": 2, \"0\": 2}, \"6\": {\"1\": 108, \"6\": 127, \"15\": 5}, \"8\": {\"7\": 29, \"14\": 15, \"5\": 56, \"8\": 52, \"2\": 24, \"15\": 23, \"12\": 20, \"9\": 21}, \"3\": {\"3\": 221, \"11\": 17, \"0\": 2}, \"2\": {\"2\": 96, \"9\": 39, \"7\": 47, \"14\": 38, \"13\": 6, \"5\": 5, \"8\": 7, \"0\": 2}, \"13\": {\"13\": 137, \"4\": 4, \"0\": 60, \"2\": 17, \"10\": 17, \"14\": 3, \"7\": 2}}}, \"per_domain_accuracy\": {\"Wisig_3\": {\"accuracy\": 0.97257096069869, \"source?\": true}, \"Wisig_4\": {\"accuracy\": 0.9541580578512396, \"source?\": true}, \"Wisig_2\": {\"accuracy\": 0.9513449367088608, \"source?\": true}, \"Wisig_1\": {\"accuracy\": 0.9725577731092437, \"source?\": true}, \"ORACLE.run114\": {\"accuracy\": 0.47708333333333336, \"source?\": false}, \"ORACLE.run120\": {\"accuracy\": 0.27369791666666665, \"source?\": false}, \"ORACLE.run150\": {\"accuracy\": 0.4244791666666667, \"source?\": false}, \"ORACLE.run126\": {\"accuracy\": 0.36614583333333334, \"source?\": false}, \"ORACLE.run132\": {\"accuracy\": 0.4934895833333333, \"source?\": false}, \"ORACLE.run144\": {\"accuracy\": 0.4265625, \"source?\": false}, \"ORACLE.run18\": {\"accuracy\": 0.46328125, \"source?\": false}, \"ORACLE.run138\": {\"accuracy\": 0.5588541666666667, \"source?\": false}}}, \"history\": {\"epoch_indices\": [1, 2, 3, 4, 5], \"train_label_loss\": [0.19346860846398237, 0.13416187380828812, 0.114485990836176, 0.10482465122732687, 0.09741135596732599], \"source_val_label_loss\": [0.16472986340522766, 0.13577362895011902, 0.1278240829706192, 0.1097090095281601, 0.10724962502717972], \"target_val_label_loss\": [2.518158197402954, 2.523721694946289, 2.527353525161743, 2.5332257747650146, 2.5048067569732666], \"source_val_acc_label\": [0.9625396405919662, 0.9713596723044398, 0.9728131606765328, 0.9741014799154334, 0.9748612579281184], \"target_val_acc_label\": [0.43544921875, 0.42630208333333336, 0.2955729166666667, 0.30817057291666666, 0.32815755208333336]}, \"dataset_metrics\": {\"source\": {\"train\": {\"n_unique_x\": 189029, \"n_unique_y\": 130, \"n_batch/episode\": 6842}, \"val\": {\"n_unique_x\": 40049, \"n_unique_y\": 130, \"n_batch/episode\": 946}, \"test\": {\"n_unique_x\": 40794, \"n_unique_y\": 130, \"n_batch/episode\": 966}}, \"target\": {\"train\": {\"n_unique_x\": 179200, \"n_unique_y\": 16, \"n_batch/episode\": 6720}, \"val\": {\"n_unique_x\": 38400, \"n_unique_y\": 16, \"n_batch/episode\": 960}, \"test\": {\"n_unique_x\": 38400, \"n_unique_y\": 16, \"n_batch/episode\": 960}}}}'"
      ]
     },
     "execution_count": 29,
     "metadata": {},
     "output_type": "execute_result"
    }
   ],
   "source": [
    "json.dumps(experiment)"
   ]
  }
 ],
 "metadata": {
  "celltoolbar": "Tags",
  "kernelspec": {
   "display_name": "Python 3 (ipykernel)",
   "language": "python",
   "name": "python3"
  },
  "language_info": {
   "codemirror_mode": {
    "name": "ipython",
    "version": 3
   },
   "file_extension": ".py",
   "mimetype": "text/x-python",
   "name": "python",
   "nbconvert_exporter": "python",
   "pygments_lexer": "ipython3",
   "version": "3.8.12"
  },
  "papermill": {
   "default_parameters": {},
   "duration": 1562.747342,
   "end_time": "2022-03-21T08:56:25.231881",
   "environment_variables": {},
   "exception": null,
   "input_path": "/root/csc500-main/csc500-notebooks/templates/tl_ptn_template.ipynb",
   "output_path": "trial.ipynb",
   "parameters": {
    "parameters": {
     "BEST_MODEL_PATH": "./best_model.pth",
     "NUM_LOGS_PER_EPOCH": 10,
     "criteria_for_best": "target_accuracy",
     "dataset_seed": 420,
     "datasets": [
      {
       "domain_prefix": "Wisig_",
       "domains": [
        1,
        2,
        3,
        4
       ],
       "episode_transforms": [],
       "labels": [
        "1-10",
        "1-12",
        "1-14",
        "1-16",
        "1-18",
        "1-19",
        "1-8",
        "10-11",
        "10-17",
        "10-4",
        "10-7",
        "11-1",
        "11-10",
        "11-19",
        "11-20",
        "11-4",
        "11-7",
        "12-19",
        "12-20",
        "12-7",
        "13-14",
        "13-18",
        "13-19",
        "13-20",
        "13-3",
        "13-7",
        "14-10",
        "14-11",
        "14-12",
        "14-13",
        "14-14",
        "14-19",
        "14-20",
        "14-7",
        "14-8",
        "14-9",
        "15-1",
        "15-19",
        "15-6",
        "16-1",
        "16-16",
        "16-19",
        "16-20",
        "17-10",
        "17-11",
        "18-1",
        "18-10",
        "18-11",
        "18-12",
        "18-13",
        "18-14",
        "18-15",
        "18-16",
        "18-17",
        "18-19",
        "18-2",
        "18-20",
        "18-4",
        "18-5",
        "18-7",
        "18-8",
        "18-9",
        "19-1",
        "19-10",
        "19-11",
        "19-12",
        "19-13",
        "19-14",
        "19-15",
        "19-19",
        "19-2",
        "19-20",
        "19-3",
        "19-4",
        "19-6",
        "19-7",
        "19-8",
        "19-9",
        "2-1",
        "2-13",
        "2-15",
        "2-3",
        "2-4",
        "2-5",
        "2-6",
        "2-7",
        "2-8",
        "20-1",
        "20-12",
        "20-14",
        "20-15",
        "20-16",
        "20-18",
        "20-19",
        "20-20",
        "20-3",
        "20-4",
        "20-5",
        "20-7",
        "20-8",
        "3-1",
        "3-13",
        "3-18",
        "3-2",
        "3-8",
        "4-1",
        "4-10",
        "4-11",
        "5-1",
        "5-5",
        "6-1",
        "6-15",
        "6-6",
        "7-10",
        "7-11",
        "7-12",
        "7-13",
        "7-14",
        "7-7",
        "7-8",
        "7-9",
        "8-1",
        "8-13",
        "8-14",
        "8-18",
        "8-20",
        "8-3",
        "8-8",
        "9-1",
        "9-7"
       ],
       "num_examples_per_domain_per_label": -1,
       "pickle_path": "/root/csc500-main/datasets/wisig.node3-19.stratified_ds.2022A.pkl",
       "source_or_target_dataset": "source",
       "x_transforms": []
      },
      {
       "domain_prefix": "ORACLE.run1",
       "domains": [
        32,
        38,
        8,
        44,
        14,
        50,
        20,
        26
       ],
       "episode_transforms": [],
       "labels": [
        "3123D52",
        "3123D65",
        "3123D79",
        "3123D80",
        "3123D54",
        "3123D70",
        "3123D7B",
        "3123D89",
        "3123D58",
        "3123D76",
        "3123D7D",
        "3123EFE",
        "3123D64",
        "3123D78",
        "3123D7E",
        "3124E4A"
       ],
       "num_examples_per_domain_per_label": 2000,
       "pickle_path": "/root/csc500-main/datasets/oracle.Run1_framed_2000Examples_stratified_ds.2022A.pkl",
       "source_or_target_dataset": "target",
       "x_transforms": []
      }
     ],
     "device": "cuda",
     "experiment_name": "tl_1v2:wisig-oracle.run1.framed",
     "lr": 0.0001,
     "n_epoch": 50,
     "n_query": 2,
     "n_shot": 3,
     "n_way": 16,
     "patience": 3,
     "seed": 420,
     "test_k_factor": 2,
     "torch_default_dtype": "torch.float32",
     "train_k_factor": 3,
     "val_k_factor": 2,
     "x_net": [
      {
       "class": "nnReshape",
       "kargs": {
        "shape": [
         -1,
         1,
         2,
         256
        ]
       }
      },
      {
       "class": "Conv2d",
       "kargs": {
        "bias": false,
        "in_channels": 1,
        "kernel_size": [
         1,
         7
        ],
        "out_channels": 256,
        "padding": [
         0,
         3
        ]
       }
      },
      {
       "class": "ReLU",
       "kargs": {
        "inplace": true
       }
      },
      {
       "class": "BatchNorm2d",
       "kargs": {
        "num_features": 256
       }
      },
      {
       "class": "Conv2d",
       "kargs": {
        "bias": true,
        "in_channels": 256,
        "kernel_size": [
         2,
         7
        ],
        "out_channels": 80,
        "padding": [
         0,
         3
        ]
       }
      },
      {
       "class": "ReLU",
       "kargs": {
        "inplace": true
       }
      },
      {
       "class": "BatchNorm2d",
       "kargs": {
        "num_features": 80
       }
      },
      {
       "class": "Flatten",
       "kargs": {}
      },
      {
       "class": "Linear",
       "kargs": {
        "in_features": 20480,
        "out_features": 256
       }
      },
      {
       "class": "ReLU",
       "kargs": {
        "inplace": true
       }
      },
      {
       "class": "BatchNorm1d",
       "kargs": {
        "num_features": 256
       }
      },
      {
       "class": "Linear",
       "kargs": {
        "in_features": 256,
        "out_features": 256
       }
      }
     ]
    }
   },
   "start_time": "2022-03-21T08:30:22.484539",
   "version": "2.3.4"
  }
 },
 "nbformat": 4,
 "nbformat_minor": 5
}