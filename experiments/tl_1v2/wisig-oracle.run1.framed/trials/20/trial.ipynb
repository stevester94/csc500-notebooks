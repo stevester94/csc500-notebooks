{
 "cells": [
  {
   "cell_type": "markdown",
   "id": "9fea5f46",
   "metadata": {
    "papermill": {
     "duration": 0.029336,
     "end_time": "2022-03-21T14:46:26.358196",
     "exception": false,
     "start_time": "2022-03-21T14:46:26.328860",
     "status": "completed"
    },
    "tags": []
   },
   "source": [
    "# Transfer Learning Template"
   ]
  },
  {
   "cell_type": "code",
   "execution_count": 1,
   "id": "0902182a",
   "metadata": {
    "execution": {
     "iopub.execute_input": "2022-03-21T14:46:26.420833Z",
     "iopub.status.busy": "2022-03-21T14:46:26.414158Z",
     "iopub.status.idle": "2022-03-21T14:46:28.365695Z",
     "shell.execute_reply": "2022-03-21T14:46:28.365060Z"
    },
    "papermill": {
     "duration": 1.983834,
     "end_time": "2022-03-21T14:46:28.365842",
     "exception": false,
     "start_time": "2022-03-21T14:46:26.382008",
     "status": "completed"
    },
    "tags": []
   },
   "outputs": [],
   "source": [
    "%load_ext autoreload\n",
    "%autoreload 2\n",
    "%matplotlib inline\n",
    "\n",
    "    \n",
    "import os, json, sys, time, random\n",
    "import numpy as np\n",
    "import torch\n",
    "from torch.optim import Adam\n",
    "from  easydict import EasyDict\n",
    "import matplotlib.pyplot as plt\n",
    "\n",
    "from steves_models.steves_ptn import Steves_Prototypical_Network\n",
    "\n",
    "from steves_utils.lazy_iterable_wrapper import Lazy_Iterable_Wrapper\n",
    "from steves_utils.iterable_aggregator import Iterable_Aggregator\n",
    "from steves_utils.ptn_train_eval_test_jig import  PTN_Train_Eval_Test_Jig\n",
    "from steves_utils.torch_sequential_builder import build_sequential\n",
    "from steves_utils.torch_utils import get_dataset_metrics, ptn_confusion_by_domain_over_dataloader\n",
    "from steves_utils.utils_v2 import (per_domain_accuracy_from_confusion, get_datasets_base_path)\n",
    "from steves_utils.PTN.utils import independent_accuracy_assesment\n",
    "\n",
    "from torch.utils.data import DataLoader\n",
    "\n",
    "from steves_utils.stratified_dataset.episodic_accessor import Episodic_Accessor_Factory\n",
    "\n",
    "from steves_utils.ptn_do_report import (\n",
    "    get_loss_curve,\n",
    "    get_results_table,\n",
    "    get_parameters_table,\n",
    "    get_domain_accuracies,\n",
    ")\n",
    "\n",
    "from steves_utils.transforms import get_chained_transform"
   ]
  },
  {
   "cell_type": "markdown",
   "id": "41c840b4",
   "metadata": {
    "papermill": {
     "duration": 0.026166,
     "end_time": "2022-03-21T14:46:28.417169",
     "exception": false,
     "start_time": "2022-03-21T14:46:28.391003",
     "status": "completed"
    },
    "tags": []
   },
   "source": [
    "# Allowed Parameters\n",
    "These are allowed parameters, not defaults\n",
    "Each of these values need to be present in the injected parameters (the notebook will raise an exception if they are not present)\n",
    "\n",
    "Papermill uses the cell tag \"parameters\" to inject the real parameters below this cell.\n",
    "Enable tags to see what I mean"
   ]
  },
  {
   "cell_type": "code",
   "execution_count": 2,
   "id": "fd44eb83",
   "metadata": {
    "execution": {
     "iopub.execute_input": "2022-03-21T14:46:28.462407Z",
     "iopub.status.busy": "2022-03-21T14:46:28.462015Z",
     "iopub.status.idle": "2022-03-21T14:46:28.489979Z",
     "shell.execute_reply": "2022-03-21T14:46:28.489232Z"
    },
    "papermill": {
     "duration": 0.053546,
     "end_time": "2022-03-21T14:46:28.490157",
     "exception": false,
     "start_time": "2022-03-21T14:46:28.436611",
     "status": "completed"
    },
    "tags": []
   },
   "outputs": [],
   "source": [
    "required_parameters = {\n",
    "    \"experiment_name\",\n",
    "    \"lr\",\n",
    "    \"device\",\n",
    "    \"seed\",\n",
    "    \"dataset_seed\",\n",
    "    \"n_shot\",\n",
    "    \"n_query\",\n",
    "    \"n_way\",\n",
    "    \"train_k_factor\",\n",
    "    \"val_k_factor\",\n",
    "    \"test_k_factor\",\n",
    "    \"n_epoch\",\n",
    "    \"patience\",\n",
    "    \"criteria_for_best\",\n",
    "    \"x_net\",\n",
    "    \"datasets\",\n",
    "    \"torch_default_dtype\",\n",
    "    \"NUM_LOGS_PER_EPOCH\",\n",
    "    \"BEST_MODEL_PATH\",\n",
    "    \"x_shape\",\n",
    "}"
   ]
  },
  {
   "cell_type": "code",
   "execution_count": 3,
   "id": "fa3f0049",
   "metadata": {
    "execution": {
     "iopub.execute_input": "2022-03-21T14:46:28.553423Z",
     "iopub.status.busy": "2022-03-21T14:46:28.552480Z",
     "iopub.status.idle": "2022-03-21T14:46:28.579086Z",
     "shell.execute_reply": "2022-03-21T14:46:28.578306Z"
    },
    "papermill": {
     "duration": 0.061202,
     "end_time": "2022-03-21T14:46:28.579258",
     "exception": false,
     "start_time": "2022-03-21T14:46:28.518056",
     "status": "completed"
    },
    "tags": [
     "parameters"
    ]
   },
   "outputs": [],
   "source": [
    "from steves_utils.CORES.utils import (\n",
    "    ALL_NODES,\n",
    "    ALL_NODES_MINIMUM_1000_EXAMPLES,\n",
    "    ALL_DAYS\n",
    ")\n",
    "\n",
    "from steves_utils.ORACLE.utils_v2 import (\n",
    "    ALL_DISTANCES_FEET_NARROWED,\n",
    "    ALL_RUNS,\n",
    "    ALL_SERIAL_NUMBERS,\n",
    ")\n",
    "\n",
    "standalone_parameters = {}\n",
    "standalone_parameters[\"experiment_name\"] = \"STANDALONE PTN\"\n",
    "standalone_parameters[\"lr\"] = 0.001\n",
    "standalone_parameters[\"device\"] = \"cuda\"\n",
    "\n",
    "standalone_parameters[\"seed\"] = 1337\n",
    "standalone_parameters[\"dataset_seed\"] = 1337\n",
    "\n",
    "standalone_parameters[\"n_way\"] = 8\n",
    "standalone_parameters[\"n_shot\"] = 3\n",
    "standalone_parameters[\"n_query\"]  = 2\n",
    "standalone_parameters[\"train_k_factor\"] = 1\n",
    "standalone_parameters[\"val_k_factor\"] = 2\n",
    "standalone_parameters[\"test_k_factor\"] = 2\n",
    "\n",
    "\n",
    "standalone_parameters[\"n_epoch\"] = 50\n",
    "\n",
    "standalone_parameters[\"patience\"] = 10\n",
    "standalone_parameters[\"criteria_for_best\"] = \"source_loss\"\n",
    "\n",
    "standalone_parameters[\"datasets\"] = [\n",
    "    {\n",
    "        \"labels\": ALL_SERIAL_NUMBERS,\n",
    "        \"domains\": ALL_DISTANCES_FEET_NARROWED,\n",
    "        \"num_examples_per_domain_per_label\": 100,\n",
    "        \"pickle_path\": os.path.join(get_datasets_base_path(), \"oracle.Run1_framed_2000Examples_stratified_ds.2022A.pkl\"),\n",
    "        \"source_or_target_dataset\": \"source\",\n",
    "        \"x_transforms\": [\"unit_mag\", \"minus_two\"],\n",
    "        \"episode_transforms\": [],\n",
    "        \"domain_prefix\": \"ORACLE_\"\n",
    "    },\n",
    "    {\n",
    "        \"labels\": ALL_NODES,\n",
    "        \"domains\": ALL_DAYS,\n",
    "        \"num_examples_per_domain_per_label\": 100,\n",
    "        \"pickle_path\": os.path.join(get_datasets_base_path(), \"cores.stratified_ds.2022A.pkl\"),\n",
    "        \"source_or_target_dataset\": \"target\",\n",
    "        \"x_transforms\": [\"unit_power\", \"times_zero\"],\n",
    "        \"episode_transforms\": [],\n",
    "        \"domain_prefix\": \"CORES_\"\n",
    "    }   \n",
    "]\n",
    "\n",
    "standalone_parameters[\"torch_default_dtype\"] = \"torch.float32\" \n",
    "\n",
    "\n",
    "\n",
    "standalone_parameters[\"x_net\"] =     [\n",
    "    {\"class\": \"nnReshape\", \"kargs\": {\"shape\":[-1, 1, 2, 256]}},\n",
    "    {\"class\": \"Conv2d\", \"kargs\": { \"in_channels\":1, \"out_channels\":256, \"kernel_size\":(1,7), \"bias\":False, \"padding\":(0,3), },},\n",
    "    {\"class\": \"ReLU\", \"kargs\": {\"inplace\": True}},\n",
    "    {\"class\": \"BatchNorm2d\", \"kargs\": {\"num_features\":256}},\n",
    "\n",
    "    {\"class\": \"Conv2d\", \"kargs\": { \"in_channels\":256, \"out_channels\":80, \"kernel_size\":(2,7), \"bias\":True, \"padding\":(0,3), },},\n",
    "    {\"class\": \"ReLU\", \"kargs\": {\"inplace\": True}},\n",
    "    {\"class\": \"BatchNorm2d\", \"kargs\": {\"num_features\":80}},\n",
    "    {\"class\": \"Flatten\", \"kargs\": {}},\n",
    "\n",
    "    {\"class\": \"Linear\", \"kargs\": {\"in_features\": 80*256, \"out_features\": 256}}, # 80 units per IQ pair\n",
    "    {\"class\": \"ReLU\", \"kargs\": {\"inplace\": True}},\n",
    "    {\"class\": \"BatchNorm1d\", \"kargs\": {\"num_features\":256}},\n",
    "\n",
    "    {\"class\": \"Linear\", \"kargs\": {\"in_features\": 256, \"out_features\": 256}},\n",
    "]\n",
    "\n",
    "# Parameters relevant to results\n",
    "# These parameters will basically never need to change\n",
    "standalone_parameters[\"NUM_LOGS_PER_EPOCH\"] = 10\n",
    "standalone_parameters[\"BEST_MODEL_PATH\"] = \"./best_model.pth\"\n",
    "\n",
    "\n",
    "\n",
    "\n"
   ]
  },
  {
   "cell_type": "code",
   "execution_count": 4,
   "id": "f5e2f7c3",
   "metadata": {
    "execution": {
     "iopub.execute_input": "2022-03-21T14:46:28.643964Z",
     "iopub.status.busy": "2022-03-21T14:46:28.642896Z",
     "iopub.status.idle": "2022-03-21T14:46:28.669696Z",
     "shell.execute_reply": "2022-03-21T14:46:28.668984Z"
    },
    "papermill": {
     "duration": 0.063795,
     "end_time": "2022-03-21T14:46:28.669858",
     "exception": false,
     "start_time": "2022-03-21T14:46:28.606063",
     "status": "completed"
    },
    "tags": [
     "injected-parameters"
    ]
   },
   "outputs": [],
   "source": [
    "# Parameters\n",
    "parameters = {\n",
    "    \"experiment_name\": \"tl_1v2:wisig-oracle.run1.framed\",\n",
    "    \"device\": \"cuda\",\n",
    "    \"lr\": 0.0001,\n",
    "    \"n_shot\": 3,\n",
    "    \"n_query\": 2,\n",
    "    \"train_k_factor\": 3,\n",
    "    \"val_k_factor\": 2,\n",
    "    \"test_k_factor\": 2,\n",
    "    \"torch_default_dtype\": \"torch.float32\",\n",
    "    \"n_epoch\": 50,\n",
    "    \"patience\": 3,\n",
    "    \"criteria_for_best\": \"target_accuracy\",\n",
    "    \"x_net\": [\n",
    "        {\"class\": \"nnReshape\", \"kargs\": {\"shape\": [-1, 1, 2, 256]}},\n",
    "        {\n",
    "            \"class\": \"Conv2d\",\n",
    "            \"kargs\": {\n",
    "                \"in_channels\": 1,\n",
    "                \"out_channels\": 256,\n",
    "                \"kernel_size\": [1, 7],\n",
    "                \"bias\": False,\n",
    "                \"padding\": [0, 3],\n",
    "            },\n",
    "        },\n",
    "        {\"class\": \"ReLU\", \"kargs\": {\"inplace\": True}},\n",
    "        {\"class\": \"BatchNorm2d\", \"kargs\": {\"num_features\": 256}},\n",
    "        {\n",
    "            \"class\": \"Conv2d\",\n",
    "            \"kargs\": {\n",
    "                \"in_channels\": 256,\n",
    "                \"out_channels\": 80,\n",
    "                \"kernel_size\": [2, 7],\n",
    "                \"bias\": True,\n",
    "                \"padding\": [0, 3],\n",
    "            },\n",
    "        },\n",
    "        {\"class\": \"ReLU\", \"kargs\": {\"inplace\": True}},\n",
    "        {\"class\": \"BatchNorm2d\", \"kargs\": {\"num_features\": 80}},\n",
    "        {\"class\": \"Flatten\", \"kargs\": {}},\n",
    "        {\"class\": \"Linear\", \"kargs\": {\"in_features\": 20480, \"out_features\": 256}},\n",
    "        {\"class\": \"ReLU\", \"kargs\": {\"inplace\": True}},\n",
    "        {\"class\": \"BatchNorm1d\", \"kargs\": {\"num_features\": 256}},\n",
    "        {\"class\": \"Linear\", \"kargs\": {\"in_features\": 256, \"out_features\": 256}},\n",
    "    ],\n",
    "    \"NUM_LOGS_PER_EPOCH\": 10,\n",
    "    \"BEST_MODEL_PATH\": \"./best_model.pth\",\n",
    "    \"n_way\": 16,\n",
    "    \"datasets\": [\n",
    "        {\n",
    "            \"labels\": [\n",
    "                \"1-10\",\n",
    "                \"1-12\",\n",
    "                \"1-14\",\n",
    "                \"1-16\",\n",
    "                \"1-18\",\n",
    "                \"1-19\",\n",
    "                \"1-8\",\n",
    "                \"10-11\",\n",
    "                \"10-17\",\n",
    "                \"10-4\",\n",
    "                \"10-7\",\n",
    "                \"11-1\",\n",
    "                \"11-10\",\n",
    "                \"11-19\",\n",
    "                \"11-20\",\n",
    "                \"11-4\",\n",
    "                \"11-7\",\n",
    "                \"12-19\",\n",
    "                \"12-20\",\n",
    "                \"12-7\",\n",
    "                \"13-14\",\n",
    "                \"13-18\",\n",
    "                \"13-19\",\n",
    "                \"13-20\",\n",
    "                \"13-3\",\n",
    "                \"13-7\",\n",
    "                \"14-10\",\n",
    "                \"14-11\",\n",
    "                \"14-12\",\n",
    "                \"14-13\",\n",
    "                \"14-14\",\n",
    "                \"14-19\",\n",
    "                \"14-20\",\n",
    "                \"14-7\",\n",
    "                \"14-8\",\n",
    "                \"14-9\",\n",
    "                \"15-1\",\n",
    "                \"15-19\",\n",
    "                \"15-6\",\n",
    "                \"16-1\",\n",
    "                \"16-16\",\n",
    "                \"16-19\",\n",
    "                \"16-20\",\n",
    "                \"17-10\",\n",
    "                \"17-11\",\n",
    "                \"18-1\",\n",
    "                \"18-10\",\n",
    "                \"18-11\",\n",
    "                \"18-12\",\n",
    "                \"18-13\",\n",
    "                \"18-14\",\n",
    "                \"18-15\",\n",
    "                \"18-16\",\n",
    "                \"18-17\",\n",
    "                \"18-19\",\n",
    "                \"18-2\",\n",
    "                \"18-20\",\n",
    "                \"18-4\",\n",
    "                \"18-5\",\n",
    "                \"18-7\",\n",
    "                \"18-8\",\n",
    "                \"18-9\",\n",
    "                \"19-1\",\n",
    "                \"19-10\",\n",
    "                \"19-11\",\n",
    "                \"19-12\",\n",
    "                \"19-13\",\n",
    "                \"19-14\",\n",
    "                \"19-15\",\n",
    "                \"19-19\",\n",
    "                \"19-2\",\n",
    "                \"19-20\",\n",
    "                \"19-3\",\n",
    "                \"19-4\",\n",
    "                \"19-6\",\n",
    "                \"19-7\",\n",
    "                \"19-8\",\n",
    "                \"19-9\",\n",
    "                \"2-1\",\n",
    "                \"2-13\",\n",
    "                \"2-15\",\n",
    "                \"2-3\",\n",
    "                \"2-4\",\n",
    "                \"2-5\",\n",
    "                \"2-6\",\n",
    "                \"2-7\",\n",
    "                \"2-8\",\n",
    "                \"20-1\",\n",
    "                \"20-12\",\n",
    "                \"20-14\",\n",
    "                \"20-15\",\n",
    "                \"20-16\",\n",
    "                \"20-18\",\n",
    "                \"20-19\",\n",
    "                \"20-20\",\n",
    "                \"20-3\",\n",
    "                \"20-4\",\n",
    "                \"20-5\",\n",
    "                \"20-7\",\n",
    "                \"20-8\",\n",
    "                \"3-1\",\n",
    "                \"3-13\",\n",
    "                \"3-18\",\n",
    "                \"3-2\",\n",
    "                \"3-8\",\n",
    "                \"4-1\",\n",
    "                \"4-10\",\n",
    "                \"4-11\",\n",
    "                \"5-1\",\n",
    "                \"5-5\",\n",
    "                \"6-1\",\n",
    "                \"6-15\",\n",
    "                \"6-6\",\n",
    "                \"7-10\",\n",
    "                \"7-11\",\n",
    "                \"7-12\",\n",
    "                \"7-13\",\n",
    "                \"7-14\",\n",
    "                \"7-7\",\n",
    "                \"7-8\",\n",
    "                \"7-9\",\n",
    "                \"8-1\",\n",
    "                \"8-13\",\n",
    "                \"8-14\",\n",
    "                \"8-18\",\n",
    "                \"8-20\",\n",
    "                \"8-3\",\n",
    "                \"8-8\",\n",
    "                \"9-1\",\n",
    "                \"9-7\",\n",
    "            ],\n",
    "            \"domains\": [1, 2, 3, 4],\n",
    "            \"num_examples_per_domain_per_label\": -1,\n",
    "            \"pickle_path\": \"/root/csc500-main/datasets/wisig.node3-19.stratified_ds.2022A.pkl\",\n",
    "            \"source_or_target_dataset\": \"source\",\n",
    "            \"x_transforms\": [],\n",
    "            \"episode_transforms\": [],\n",
    "            \"domain_prefix\": \"Wisig_\",\n",
    "        },\n",
    "        {\n",
    "            \"labels\": [\n",
    "                \"3123D52\",\n",
    "                \"3123D65\",\n",
    "                \"3123D79\",\n",
    "                \"3123D80\",\n",
    "                \"3123D54\",\n",
    "                \"3123D70\",\n",
    "                \"3123D7B\",\n",
    "                \"3123D89\",\n",
    "                \"3123D58\",\n",
    "                \"3123D76\",\n",
    "                \"3123D7D\",\n",
    "                \"3123EFE\",\n",
    "                \"3123D64\",\n",
    "                \"3123D78\",\n",
    "                \"3123D7E\",\n",
    "                \"3124E4A\",\n",
    "            ],\n",
    "            \"domains\": [32, 38, 8, 44, 14, 50, 20, 26],\n",
    "            \"num_examples_per_domain_per_label\": 2000,\n",
    "            \"pickle_path\": \"/root/csc500-main/datasets/oracle.Run1_framed_2000Examples_stratified_ds.2022A.pkl\",\n",
    "            \"source_or_target_dataset\": \"target\",\n",
    "            \"x_transforms\": [],\n",
    "            \"episode_transforms\": [],\n",
    "            \"domain_prefix\": \"ORACLE.run1\",\n",
    "        },\n",
    "    ],\n",
    "    \"dataset_seed\": 7,\n",
    "    \"seed\": 7,\n",
    "}\n"
   ]
  },
  {
   "cell_type": "code",
   "execution_count": 5,
   "id": "8fa1cc33",
   "metadata": {
    "execution": {
     "iopub.execute_input": "2022-03-21T14:46:28.719426Z",
     "iopub.status.busy": "2022-03-21T14:46:28.719041Z",
     "iopub.status.idle": "2022-03-21T14:46:28.743711Z",
     "shell.execute_reply": "2022-03-21T14:46:28.742865Z"
    },
    "papermill": {
     "duration": 0.048606,
     "end_time": "2022-03-21T14:46:28.743871",
     "exception": false,
     "start_time": "2022-03-21T14:46:28.695265",
     "status": "completed"
    },
    "tags": []
   },
   "outputs": [],
   "source": [
    "# Set this to True if you want to run this template directly\n",
    "STANDALONE = False\n",
    "if STANDALONE:\n",
    "    print(\"parameters not injected, running with standalone_parameters\")\n",
    "    parameters = standalone_parameters\n",
    "\n",
    "if not 'parameters' in locals() and not 'parameters' in globals():\n",
    "    raise Exception(\"Parameter injection failed\")\n",
    "\n",
    "#Use an easy dict for all the parameters\n",
    "p = EasyDict(parameters)\n",
    "\n",
    "if \"x_shape\" not in p:\n",
    "    p.x_shape = [2,256] # Default to this if we dont supply x_shape\n",
    "\n",
    "\n",
    "supplied_keys = set(p.keys())\n",
    "\n",
    "if  supplied_keys != required_parameters:\n",
    "    print(\"Parameters are incorrect\")\n",
    "    if len(supplied_keys - required_parameters)>0: print(\"Shouldn't have:\", str(supplied_keys - required_parameters))\n",
    "    if len(required_parameters - supplied_keys)>0: print(\"Need to have:\", str(required_parameters - supplied_keys))\n",
    "    raise RuntimeError(\"Parameters are incorrect\")"
   ]
  },
  {
   "cell_type": "code",
   "execution_count": 6,
   "id": "3a028d58",
   "metadata": {
    "execution": {
     "iopub.execute_input": "2022-03-21T14:46:28.795148Z",
     "iopub.status.busy": "2022-03-21T14:46:28.794573Z",
     "iopub.status.idle": "2022-03-21T14:46:28.821200Z",
     "shell.execute_reply": "2022-03-21T14:46:28.820382Z"
    },
    "papermill": {
     "duration": 0.051118,
     "end_time": "2022-03-21T14:46:28.821358",
     "exception": false,
     "start_time": "2022-03-21T14:46:28.770240",
     "status": "completed"
    },
    "tags": []
   },
   "outputs": [],
   "source": [
    "###################################\n",
    "# Set the RNGs and make it all deterministic\n",
    "###################################\n",
    "np.random.seed(p.seed)\n",
    "random.seed(p.seed)\n",
    "torch.manual_seed(p.seed)\n",
    "\n",
    "torch.use_deterministic_algorithms(True) "
   ]
  },
  {
   "cell_type": "code",
   "execution_count": 7,
   "id": "b691acf6",
   "metadata": {
    "execution": {
     "iopub.execute_input": "2022-03-21T14:46:28.874542Z",
     "iopub.status.busy": "2022-03-21T14:46:28.874163Z",
     "iopub.status.idle": "2022-03-21T14:46:28.899104Z",
     "shell.execute_reply": "2022-03-21T14:46:28.898277Z"
    },
    "papermill": {
     "duration": 0.049306,
     "end_time": "2022-03-21T14:46:28.899263",
     "exception": false,
     "start_time": "2022-03-21T14:46:28.849957",
     "status": "completed"
    },
    "tags": []
   },
   "outputs": [],
   "source": [
    "###########################################\n",
    "# The stratified datasets honor this\n",
    "###########################################\n",
    "torch.set_default_dtype(eval(p.torch_default_dtype))"
   ]
  },
  {
   "cell_type": "code",
   "execution_count": 8,
   "id": "b5fba671",
   "metadata": {
    "execution": {
     "iopub.execute_input": "2022-03-21T14:46:28.955312Z",
     "iopub.status.busy": "2022-03-21T14:46:28.950934Z",
     "iopub.status.idle": "2022-03-21T14:46:29.005794Z",
     "shell.execute_reply": "2022-03-21T14:46:29.005077Z"
    },
    "papermill": {
     "duration": 0.07932,
     "end_time": "2022-03-21T14:46:29.005951",
     "exception": false,
     "start_time": "2022-03-21T14:46:28.926631",
     "status": "completed"
    },
    "tags": []
   },
   "outputs": [],
   "source": [
    "###################################\n",
    "# Build the network(s)\n",
    "# Note: It's critical to do this AFTER setting the RNG\n",
    "###################################\n",
    "x_net = build_sequential(p.x_net)"
   ]
  },
  {
   "cell_type": "code",
   "execution_count": 9,
   "id": "5d7e61cc",
   "metadata": {
    "execution": {
     "iopub.execute_input": "2022-03-21T14:46:29.057321Z",
     "iopub.status.busy": "2022-03-21T14:46:29.056399Z",
     "iopub.status.idle": "2022-03-21T14:46:29.080570Z",
     "shell.execute_reply": "2022-03-21T14:46:29.079747Z"
    },
    "papermill": {
     "duration": 0.046858,
     "end_time": "2022-03-21T14:46:29.080731",
     "exception": false,
     "start_time": "2022-03-21T14:46:29.033873",
     "status": "completed"
    },
    "tags": []
   },
   "outputs": [],
   "source": [
    "start_time_secs = time.time()"
   ]
  },
  {
   "cell_type": "code",
   "execution_count": 10,
   "id": "c6b67dfd",
   "metadata": {
    "execution": {
     "iopub.execute_input": "2022-03-21T14:46:29.130870Z",
     "iopub.status.busy": "2022-03-21T14:46:29.130503Z",
     "iopub.status.idle": "2022-03-21T14:46:29.151109Z",
     "shell.execute_reply": "2022-03-21T14:46:29.150301Z"
    },
    "papermill": {
     "duration": 0.042753,
     "end_time": "2022-03-21T14:46:29.151266",
     "exception": false,
     "start_time": "2022-03-21T14:46:29.108513",
     "status": "completed"
    },
    "tags": []
   },
   "outputs": [],
   "source": [
    "p.domains_source = []\n",
    "p.domains_target = []\n",
    "\n",
    "\n",
    "train_original_source = []\n",
    "val_original_source   = []\n",
    "test_original_source  = []\n",
    "\n",
    "train_original_target = []\n",
    "val_original_target   = []\n",
    "test_original_target  = []"
   ]
  },
  {
   "cell_type": "code",
   "execution_count": 11,
   "id": "e3d9c3d3",
   "metadata": {
    "execution": {
     "iopub.execute_input": "2022-03-21T14:46:29.200937Z",
     "iopub.status.busy": "2022-03-21T14:46:29.200570Z",
     "iopub.status.idle": "2022-03-21T14:46:29.220541Z",
     "shell.execute_reply": "2022-03-21T14:46:29.219740Z"
    },
    "papermill": {
     "duration": 0.042117,
     "end_time": "2022-03-21T14:46:29.220697",
     "exception": false,
     "start_time": "2022-03-21T14:46:29.178580",
     "status": "completed"
    },
    "tags": []
   },
   "outputs": [],
   "source": [
    "# global_x_transform_func = lambda x: normalize(x.to(torch.get_default_dtype()), \"unit_power\") # unit_power, unit_mag\n",
    "# global_x_transform_func = lambda x: normalize(x, \"unit_power\") # unit_power, unit_mag"
   ]
  },
  {
   "cell_type": "code",
   "execution_count": 12,
   "id": "acb78fd2",
   "metadata": {
    "execution": {
     "iopub.execute_input": "2022-03-21T14:46:29.275693Z",
     "iopub.status.busy": "2022-03-21T14:46:29.275297Z",
     "iopub.status.idle": "2022-03-21T14:46:29.296634Z",
     "shell.execute_reply": "2022-03-21T14:46:29.295879Z"
    },
    "papermill": {
     "duration": 0.047763,
     "end_time": "2022-03-21T14:46:29.296790",
     "exception": false,
     "start_time": "2022-03-21T14:46:29.249027",
     "status": "completed"
    },
    "tags": []
   },
   "outputs": [],
   "source": [
    "def add_dataset(\n",
    "    labels,\n",
    "    domains,\n",
    "    pickle_path,\n",
    "    x_transforms,\n",
    "    episode_transforms,\n",
    "    domain_prefix,\n",
    "    num_examples_per_domain_per_label,\n",
    "    source_or_target_dataset:str,\n",
    "    iterator_seed=p.seed,\n",
    "    dataset_seed=p.dataset_seed,\n",
    "    n_shot=p.n_shot,\n",
    "    n_way=p.n_way,\n",
    "    n_query=p.n_query,\n",
    "    train_val_test_k_factors=(p.train_k_factor,p.val_k_factor,p.test_k_factor),\n",
    "):\n",
    "   \n",
    "    if x_transforms == []: x_transform = None\n",
    "    else: x_transform = get_chained_transform(x_transforms)\n",
    "    \n",
    "    if episode_transforms == []: episode_transform = None\n",
    "    else: raise Exception(\"episode_transforms not implemented\")\n",
    "    \n",
    "    episode_transform = lambda tup, _prefix=domain_prefix: (_prefix + str(tup[0]), tup[1])\n",
    "\n",
    "\n",
    "    eaf = Episodic_Accessor_Factory(\n",
    "        labels=labels,\n",
    "        domains=domains,\n",
    "        num_examples_per_domain_per_label=num_examples_per_domain_per_label,\n",
    "        iterator_seed=iterator_seed,\n",
    "        dataset_seed=dataset_seed,\n",
    "        n_shot=n_shot,\n",
    "        n_way=n_way,\n",
    "        n_query=n_query,\n",
    "        train_val_test_k_factors=train_val_test_k_factors,\n",
    "        pickle_path=pickle_path,\n",
    "        x_transform_func=x_transform,\n",
    "    )\n",
    "\n",
    "    train, val, test = eaf.get_train(), eaf.get_val(), eaf.get_test()\n",
    "    train = Lazy_Iterable_Wrapper(train, episode_transform)\n",
    "    val = Lazy_Iterable_Wrapper(val, episode_transform)\n",
    "    test = Lazy_Iterable_Wrapper(test, episode_transform)\n",
    "\n",
    "    if source_or_target_dataset==\"source\":\n",
    "        train_original_source.append(train)\n",
    "        val_original_source.append(val)\n",
    "        test_original_source.append(test)\n",
    "\n",
    "        p.domains_source.extend(\n",
    "            [domain_prefix + str(u) for u in domains]\n",
    "        )\n",
    "    elif source_or_target_dataset==\"target\":\n",
    "        train_original_target.append(train)\n",
    "        val_original_target.append(val)\n",
    "        test_original_target.append(test)\n",
    "        p.domains_target.extend(\n",
    "            [domain_prefix + str(u) for u in domains]\n",
    "        )\n",
    "    else:\n",
    "        raise Exception(f\"invalid source_or_target_dataset: {source_or_target_dataset}\")\n",
    "    "
   ]
  },
  {
   "cell_type": "code",
   "execution_count": 13,
   "id": "fe266617",
   "metadata": {
    "execution": {
     "iopub.execute_input": "2022-03-21T14:46:29.348784Z",
     "iopub.status.busy": "2022-03-21T14:46:29.346239Z",
     "iopub.status.idle": "2022-03-21T14:46:33.037608Z",
     "shell.execute_reply": "2022-03-21T14:46:33.036841Z"
    },
    "papermill": {
     "duration": 3.71475,
     "end_time": "2022-03-21T14:46:33.037787",
     "exception": false,
     "start_time": "2022-03-21T14:46:29.323037",
     "status": "completed"
    },
    "tags": []
   },
   "outputs": [],
   "source": [
    "for ds in p.datasets:\n",
    "    add_dataset(**ds)"
   ]
  },
  {
   "cell_type": "code",
   "execution_count": 14,
   "id": "b90d65ac",
   "metadata": {
    "execution": {
     "iopub.execute_input": "2022-03-21T14:46:33.090185Z",
     "iopub.status.busy": "2022-03-21T14:46:33.089807Z",
     "iopub.status.idle": "2022-03-21T14:46:33.114699Z",
     "shell.execute_reply": "2022-03-21T14:46:33.113895Z"
    },
    "papermill": {
     "duration": 0.048688,
     "end_time": "2022-03-21T14:46:33.114867",
     "exception": false,
     "start_time": "2022-03-21T14:46:33.066179",
     "status": "completed"
    },
    "tags": []
   },
   "outputs": [],
   "source": [
    "# from steves_utils.CORES.utils import (\n",
    "#     ALL_NODES,\n",
    "#     ALL_NODES_MINIMUM_1000_EXAMPLES,\n",
    "#     ALL_DAYS\n",
    "# )\n",
    "\n",
    "# add_dataset(\n",
    "#     labels=ALL_NODES,\n",
    "#     domains = ALL_DAYS,\n",
    "#     num_examples_per_domain_per_label=100,\n",
    "#     pickle_path=os.path.join(get_datasets_base_path(), \"cores.stratified_ds.2022A.pkl\"),\n",
    "#     source_or_target_dataset=\"target\",\n",
    "#     x_transform_func=global_x_transform_func,\n",
    "#     domain_modifier=lambda u: f\"cores_{u}\"\n",
    "# )"
   ]
  },
  {
   "cell_type": "code",
   "execution_count": 15,
   "id": "76db484d",
   "metadata": {
    "execution": {
     "iopub.execute_input": "2022-03-21T14:46:33.164404Z",
     "iopub.status.busy": "2022-03-21T14:46:33.163964Z",
     "iopub.status.idle": "2022-03-21T14:46:33.187987Z",
     "shell.execute_reply": "2022-03-21T14:46:33.187141Z"
    },
    "papermill": {
     "duration": 0.047672,
     "end_time": "2022-03-21T14:46:33.188153",
     "exception": false,
     "start_time": "2022-03-21T14:46:33.140481",
     "status": "completed"
    },
    "tags": []
   },
   "outputs": [],
   "source": [
    "# from steves_utils.ORACLE.utils_v2 import (\n",
    "#     ALL_DISTANCES_FEET,\n",
    "#     ALL_RUNS,\n",
    "#     ALL_SERIAL_NUMBERS,\n",
    "# )\n",
    "\n",
    "\n",
    "# add_dataset(\n",
    "#     labels=ALL_SERIAL_NUMBERS,\n",
    "#     domains = list(set(ALL_DISTANCES_FEET) - {2,62}),\n",
    "#     num_examples_per_domain_per_label=100,\n",
    "#     pickle_path=os.path.join(get_datasets_base_path(), \"oracle.Run2_framed_2000Examples_stratified_ds.2022A.pkl\"),\n",
    "#     source_or_target_dataset=\"source\",\n",
    "#     x_transform_func=global_x_transform_func,\n",
    "#     domain_modifier=lambda u: f\"oracle1_{u}\"\n",
    "# )\n"
   ]
  },
  {
   "cell_type": "code",
   "execution_count": 16,
   "id": "97dea9d2",
   "metadata": {
    "execution": {
     "iopub.execute_input": "2022-03-21T14:46:33.236921Z",
     "iopub.status.busy": "2022-03-21T14:46:33.236547Z",
     "iopub.status.idle": "2022-03-21T14:46:33.257212Z",
     "shell.execute_reply": "2022-03-21T14:46:33.257881Z"
    },
    "papermill": {
     "duration": 0.044808,
     "end_time": "2022-03-21T14:46:33.258066",
     "exception": false,
     "start_time": "2022-03-21T14:46:33.213258",
     "status": "completed"
    },
    "tags": []
   },
   "outputs": [],
   "source": [
    "# from steves_utils.ORACLE.utils_v2 import (\n",
    "#     ALL_DISTANCES_FEET,\n",
    "#     ALL_RUNS,\n",
    "#     ALL_SERIAL_NUMBERS,\n",
    "# )\n",
    "\n",
    "\n",
    "# add_dataset(\n",
    "#     labels=ALL_SERIAL_NUMBERS,\n",
    "#     domains = list(set(ALL_DISTANCES_FEET) - {2,62,56}),\n",
    "#     num_examples_per_domain_per_label=100,\n",
    "#     pickle_path=os.path.join(get_datasets_base_path(), \"oracle.Run2_framed_2000Examples_stratified_ds.2022A.pkl\"),\n",
    "#     source_or_target_dataset=\"source\",\n",
    "#     x_transform_func=global_x_transform_func,\n",
    "#     domain_modifier=lambda u: f\"oracle2_{u}\"\n",
    "# )"
   ]
  },
  {
   "cell_type": "code",
   "execution_count": 17,
   "id": "6f289866",
   "metadata": {
    "execution": {
     "iopub.execute_input": "2022-03-21T14:46:33.309450Z",
     "iopub.status.busy": "2022-03-21T14:46:33.308341Z",
     "iopub.status.idle": "2022-03-21T14:46:33.331228Z",
     "shell.execute_reply": "2022-03-21T14:46:33.330436Z"
    },
    "papermill": {
     "duration": 0.047086,
     "end_time": "2022-03-21T14:46:33.331384",
     "exception": false,
     "start_time": "2022-03-21T14:46:33.284298",
     "status": "completed"
    },
    "tags": []
   },
   "outputs": [],
   "source": [
    "# add_dataset(\n",
    "#     labels=list(range(19)),\n",
    "#     domains = [0,1,2],\n",
    "#     num_examples_per_domain_per_label=100,\n",
    "#     pickle_path=os.path.join(get_datasets_base_path(), \"metehan.stratified_ds.2022A.pkl\"),\n",
    "#     source_or_target_dataset=\"target\",\n",
    "#     x_transform_func=global_x_transform_func,\n",
    "#     domain_modifier=lambda u: f\"met_{u}\"\n",
    "# )"
   ]
  },
  {
   "cell_type": "code",
   "execution_count": 18,
   "id": "86a863c3",
   "metadata": {
    "execution": {
     "iopub.execute_input": "2022-03-21T14:46:33.381966Z",
     "iopub.status.busy": "2022-03-21T14:46:33.381592Z",
     "iopub.status.idle": "2022-03-21T14:46:33.399858Z",
     "shell.execute_reply": "2022-03-21T14:46:33.399138Z"
    },
    "papermill": {
     "duration": 0.041075,
     "end_time": "2022-03-21T14:46:33.400013",
     "exception": false,
     "start_time": "2022-03-21T14:46:33.358938",
     "status": "completed"
    },
    "tags": []
   },
   "outputs": [],
   "source": [
    "# # from steves_utils.wisig.utils import (\n",
    "# #     ALL_NODES_MINIMUM_100_EXAMPLES,\n",
    "# #     ALL_NODES_MINIMUM_500_EXAMPLES,\n",
    "# #     ALL_NODES_MINIMUM_1000_EXAMPLES,\n",
    "# #     ALL_DAYS\n",
    "# # )\n",
    "\n",
    "# import steves_utils.wisig.utils as wisig\n",
    "\n",
    "\n",
    "# add_dataset(\n",
    "#     labels=wisig.ALL_NODES_MINIMUM_100_EXAMPLES,\n",
    "#     domains = wisig.ALL_DAYS,\n",
    "#     num_examples_per_domain_per_label=100,\n",
    "#     pickle_path=os.path.join(get_datasets_base_path(), \"wisig.node3-19.stratified_ds.2022A.pkl\"),\n",
    "#     source_or_target_dataset=\"target\",\n",
    "#     x_transform_func=global_x_transform_func,\n",
    "#     domain_modifier=lambda u: f\"wisig_{u}\"\n",
    "# )"
   ]
  },
  {
   "cell_type": "code",
   "execution_count": 19,
   "id": "fd5442bc",
   "metadata": {
    "execution": {
     "iopub.execute_input": "2022-03-21T14:46:33.457060Z",
     "iopub.status.busy": "2022-03-21T14:46:33.456216Z",
     "iopub.status.idle": "2022-03-21T14:46:33.476995Z",
     "shell.execute_reply": "2022-03-21T14:46:33.476186Z"
    },
    "papermill": {
     "duration": 0.049589,
     "end_time": "2022-03-21T14:46:33.477155",
     "exception": false,
     "start_time": "2022-03-21T14:46:33.427566",
     "status": "completed"
    },
    "tags": []
   },
   "outputs": [],
   "source": [
    "###################################\n",
    "# Build the dataset\n",
    "###################################\n",
    "train_original_source = Iterable_Aggregator(train_original_source, p.seed)\n",
    "val_original_source = Iterable_Aggregator(val_original_source, p.seed)\n",
    "test_original_source = Iterable_Aggregator(test_original_source, p.seed)\n",
    "\n",
    "\n",
    "train_original_target = Iterable_Aggregator(train_original_target, p.seed)\n",
    "val_original_target = Iterable_Aggregator(val_original_target, p.seed)\n",
    "test_original_target = Iterable_Aggregator(test_original_target, p.seed)\n",
    "\n",
    "# For CNN We only use X and Y. And we only train on the source.\n",
    "# Properly form the data using a transform lambda and Lazy_Iterable_Wrapper. Finally wrap them in a dataloader\n",
    "\n",
    "transform_lambda = lambda ex: ex[1] # Original is (<domain>, <episode>) so we strip down to episode only\n",
    "\n",
    "train_processed_source = Lazy_Iterable_Wrapper(train_original_source, transform_lambda)\n",
    "val_processed_source   = Lazy_Iterable_Wrapper(val_original_source, transform_lambda)\n",
    "test_processed_source  = Lazy_Iterable_Wrapper(test_original_source, transform_lambda)\n",
    "\n",
    "train_processed_target = Lazy_Iterable_Wrapper(train_original_target, transform_lambda)\n",
    "val_processed_target   = Lazy_Iterable_Wrapper(val_original_target, transform_lambda)\n",
    "test_processed_target  = Lazy_Iterable_Wrapper(test_original_target, transform_lambda)\n",
    "\n",
    "datasets = EasyDict({\n",
    "    \"source\": {\n",
    "        \"original\": {\"train\":train_original_source, \"val\":val_original_source, \"test\":test_original_source},\n",
    "        \"processed\": {\"train\":train_processed_source, \"val\":val_processed_source, \"test\":test_processed_source}\n",
    "    },\n",
    "    \"target\": {\n",
    "        \"original\": {\"train\":train_original_target, \"val\":val_original_target, \"test\":test_original_target},\n",
    "        \"processed\": {\"train\":train_processed_target, \"val\":val_processed_target, \"test\":test_processed_target}\n",
    "    },\n",
    "})"
   ]
  },
  {
   "cell_type": "code",
   "execution_count": 20,
   "id": "5b3c01fc",
   "metadata": {
    "execution": {
     "iopub.execute_input": "2022-03-21T14:46:33.529542Z",
     "iopub.status.busy": "2022-03-21T14:46:33.528992Z",
     "iopub.status.idle": "2022-03-21T14:46:49.395015Z",
     "shell.execute_reply": "2022-03-21T14:46:49.394254Z"
    },
    "papermill": {
     "duration": 15.891125,
     "end_time": "2022-03-21T14:46:49.395200",
     "exception": false,
     "start_time": "2022-03-21T14:46:33.504075",
     "status": "completed"
    },
    "tags": []
   },
   "outputs": [
    {
     "name": "stdout",
     "output_type": "stream",
     "text": [
      "{'Wisig_2', 'Wisig_1', 'Wisig_3', 'Wisig_4'}\n"
     ]
    },
    {
     "name": "stdout",
     "output_type": "stream",
     "text": [
      "{'ORACLE.run18', 'ORACLE.run138', 'ORACLE.run144', 'ORACLE.run114', 'ORACLE.run120', 'ORACLE.run126', 'ORACLE.run150', 'ORACLE.run132'}\n"
     ]
    },
    {
     "name": "stdout",
     "output_type": "stream",
     "text": [
      "tensor([[[-0.0147,  0.0202,  0.0417,  ...,  0.0070,  0.0159,  0.0364],\n",
      "         [-0.0173, -0.0375,  0.0094,  ..., -0.0094, -0.0218, -0.0032]],\n",
      "\n",
      "        [[-0.0135,  0.0282,  0.0431,  ...,  0.0054,  0.0185,  0.0399],\n",
      "         [-0.0328, -0.0323,  0.0211,  ..., -0.0113, -0.0195, -0.0004]],\n",
      "\n",
      "        [[-0.0215,  0.0303,  0.0365,  ..., -0.0145,  0.0129,  0.0322],\n",
      "         [-0.0286, -0.0385,  0.0156,  ..., -0.0199, -0.0382, -0.0008]],\n",
      "\n",
      "        ...,\n",
      "\n",
      "        [[-0.0038,  0.0216,  0.0331,  ..., -0.0065,  0.0221,  0.0207],\n",
      "         [-0.0052, -0.0221, -0.0073,  ..., -0.0082,  0.0037,  0.0094]],\n",
      "\n",
      "        [[-0.0124,  0.0220,  0.0363,  ...,  0.0038,  0.0171,  0.0023],\n",
      "         [-0.0026, -0.0047,  0.0099,  ..., -0.0049, -0.0049,  0.0166]],\n",
      "\n",
      "        [[ 0.0071, -0.0016, -0.0258,  ...,  0.0092, -0.0059, -0.0219],\n",
      "         [-0.0027,  0.0172,  0.0197,  ...,  0.0072,  0.0116, -0.0077]]])\n"
     ]
    }
   ],
   "source": [
    "from steves_utils.transforms import get_average_magnitude, get_average_power\n",
    "\n",
    "print(set([u for u,_ in val_original_source]))\n",
    "print(set([u for u,_ in val_original_target]))\n",
    "\n",
    "s_x, s_y, q_x, q_y, _ = next(iter(train_processed_source))\n",
    "print(s_x)\n",
    "\n",
    "# for ds in [\n",
    "#     train_processed_source,\n",
    "#     val_processed_source,\n",
    "#     test_processed_source,\n",
    "#     train_processed_target,\n",
    "#     val_processed_target,\n",
    "#     test_processed_target\n",
    "# ]:\n",
    "#     for s_x, s_y, q_x, q_y, _ in ds:\n",
    "#         for X in (s_x, q_x):\n",
    "#             for x in X:\n",
    "#                 assert np.isclose(get_average_magnitude(x.numpy()), 1.0)\n",
    "#                 assert np.isclose(get_average_power(x.numpy()), 1.0)\n",
    "                "
   ]
  },
  {
   "cell_type": "code",
   "execution_count": 21,
   "id": "bbdacba1",
   "metadata": {
    "execution": {
     "iopub.execute_input": "2022-03-21T14:46:49.450918Z",
     "iopub.status.busy": "2022-03-21T14:46:49.449503Z",
     "iopub.status.idle": "2022-03-21T14:46:49.652851Z",
     "shell.execute_reply": "2022-03-21T14:46:49.652438Z"
    },
    "papermill": {
     "duration": 0.23045,
     "end_time": "2022-03-21T14:46:49.652970",
     "exception": false,
     "start_time": "2022-03-21T14:46:49.422520",
     "status": "completed"
    },
    "tags": []
   },
   "outputs": [
    {
     "name": "stdout",
     "output_type": "stream",
     "text": [
      "(2, 256)\n"
     ]
    }
   ],
   "source": [
    "###################################\n",
    "# Build the model\n",
    "###################################\n",
    "# easfsl only wants a tuple for the shape\n",
    "model = Steves_Prototypical_Network(x_net, device=p.device, x_shape=tuple(p.x_shape))\n",
    "optimizer = Adam(params=model.parameters(), lr=p.lr)"
   ]
  },
  {
   "cell_type": "code",
   "execution_count": 22,
   "id": "22b39ac5",
   "metadata": {
    "execution": {
     "iopub.execute_input": "2022-03-21T14:46:49.704870Z",
     "iopub.status.busy": "2022-03-21T14:46:49.704489Z",
     "iopub.status.idle": "2022-03-21T15:09:02.667884Z",
     "shell.execute_reply": "2022-03-21T15:09:02.667525Z"
    },
    "papermill": {
     "duration": 1332.991737,
     "end_time": "2022-03-21T15:09:02.667974",
     "exception": false,
     "start_time": "2022-03-21T14:46:49.676237",
     "status": "completed"
    },
    "tags": []
   },
   "outputs": [
    {
     "name": "stdout",
     "output_type": "stream",
     "text": [
      "epoch: 1, [batch: 1 / 6851], examples_per_second: 32.1664, train_label_loss: 2.2783, \n"
     ]
    },
    {
     "name": "stdout",
     "output_type": "stream",
     "text": [
      "epoch: 1, [batch: 686 / 6851], examples_per_second: 2943.4982, train_label_loss: 0.0780, \n"
     ]
    },
    {
     "name": "stdout",
     "output_type": "stream",
     "text": [
      "epoch: 1, [batch: 1371 / 6851], examples_per_second: 2972.8290, train_label_loss: 0.0610, \n"
     ]
    },
    {
     "name": "stdout",
     "output_type": "stream",
     "text": [
      "epoch: 1, [batch: 2056 / 6851], examples_per_second: 3232.4143, train_label_loss: 0.0295, \n"
     ]
    },
    {
     "name": "stdout",
     "output_type": "stream",
     "text": [
      "epoch: 1, [batch: 2741 / 6851], examples_per_second: 2798.6786, train_label_loss: 0.2251, \n"
     ]
    },
    {
     "name": "stdout",
     "output_type": "stream",
     "text": [
      "epoch: 1, [batch: 3426 / 6851], examples_per_second: 2645.1438, train_label_loss: 0.0210, \n"
     ]
    },
    {
     "name": "stdout",
     "output_type": "stream",
     "text": [
      "epoch: 1, [batch: 4111 / 6851], examples_per_second: 2292.6553, train_label_loss: 0.0872, \n"
     ]
    },
    {
     "name": "stdout",
     "output_type": "stream",
     "text": [
      "epoch: 1, [batch: 4796 / 6851], examples_per_second: 2302.5752, train_label_loss: 0.0753, \n"
     ]
    },
    {
     "name": "stdout",
     "output_type": "stream",
     "text": [
      "epoch: 1, [batch: 5481 / 6851], examples_per_second: 2307.2988, train_label_loss: 0.0411, \n"
     ]
    },
    {
     "name": "stdout",
     "output_type": "stream",
     "text": [
      "epoch: 1, [batch: 6166 / 6851], examples_per_second: 2273.1373, train_label_loss: 0.0838, \n"
     ]
    },
    {
     "name": "stdout",
     "output_type": "stream",
     "text": [
      "=============================================================\n",
      "epoch: 1, source_val_acc_label: 0.9608, target_val_acc_label: 0.4356, source_val_label_loss: 0.1774, target_val_label_loss: 2.5779, \n",
      "=============================================================\n"
     ]
    },
    {
     "name": "stdout",
     "output_type": "stream",
     "text": [
      "New best\n"
     ]
    },
    {
     "name": "stdout",
     "output_type": "stream",
     "text": [
      "epoch: 2, [batch: 1 / 6838], examples_per_second: 1.9828, train_label_loss: 0.0420, \n"
     ]
    },
    {
     "name": "stdout",
     "output_type": "stream",
     "text": [
      "epoch: 2, [batch: 684 / 6838], examples_per_second: 2426.8555, train_label_loss: 0.2835, \n"
     ]
    },
    {
     "name": "stdout",
     "output_type": "stream",
     "text": [
      "epoch: 2, [batch: 1368 / 6838], examples_per_second: 2650.5782, train_label_loss: 0.1412, \n"
     ]
    },
    {
     "name": "stdout",
     "output_type": "stream",
     "text": [
      "epoch: 2, [batch: 2052 / 6838], examples_per_second: 3107.0611, train_label_loss: 0.0080, \n"
     ]
    },
    {
     "name": "stdout",
     "output_type": "stream",
     "text": [
      "epoch: 2, [batch: 2735 / 6838], examples_per_second: 2692.8434, train_label_loss: 0.0168, \n"
     ]
    },
    {
     "name": "stdout",
     "output_type": "stream",
     "text": [
      "epoch: 2, [batch: 3419 / 6838], examples_per_second: 2601.4893, train_label_loss: 0.0661, \n"
     ]
    },
    {
     "name": "stdout",
     "output_type": "stream",
     "text": [
      "epoch: 2, [batch: 4103 / 6838], examples_per_second: 2321.2364, train_label_loss: 0.0017, \n"
     ]
    },
    {
     "name": "stdout",
     "output_type": "stream",
     "text": [
      "epoch: 2, [batch: 4786 / 6838], examples_per_second: 2323.4307, train_label_loss: 0.0230, \n"
     ]
    },
    {
     "name": "stdout",
     "output_type": "stream",
     "text": [
      "epoch: 2, [batch: 5470 / 6838], examples_per_second: 2314.3017, train_label_loss: 0.1071, \n"
     ]
    },
    {
     "name": "stdout",
     "output_type": "stream",
     "text": [
      "epoch: 2, [batch: 6154 / 6838], examples_per_second: 2319.7219, train_label_loss: 0.0872, \n"
     ]
    },
    {
     "name": "stdout",
     "output_type": "stream",
     "text": [
      "=============================================================\n",
      "epoch: 2, source_val_acc_label: 0.9686, target_val_acc_label: 0.4024, source_val_label_loss: 0.1457, target_val_label_loss: 2.4993, \n",
      "=============================================================\n"
     ]
    },
    {
     "name": "stdout",
     "output_type": "stream",
     "text": [
      "epoch: 3, [batch: 1 / 6850], examples_per_second: 2.0951, train_label_loss: 0.1456, \n"
     ]
    },
    {
     "name": "stdout",
     "output_type": "stream",
     "text": [
      "epoch: 3, [batch: 685 / 6850], examples_per_second: 2842.9198, train_label_loss: 0.0042, \n"
     ]
    },
    {
     "name": "stdout",
     "output_type": "stream",
     "text": [
      "epoch: 3, [batch: 1370 / 6850], examples_per_second: 3069.0246, train_label_loss: 0.0037, \n"
     ]
    },
    {
     "name": "stdout",
     "output_type": "stream",
     "text": [
      "epoch: 3, [batch: 2055 / 6850], examples_per_second: 3442.4725, train_label_loss: 0.0418, \n"
     ]
    },
    {
     "name": "stdout",
     "output_type": "stream",
     "text": [
      "epoch: 3, [batch: 2740 / 6850], examples_per_second: 2866.2809, train_label_loss: 0.1910, \n"
     ]
    },
    {
     "name": "stdout",
     "output_type": "stream",
     "text": [
      "epoch: 3, [batch: 3425 / 6850], examples_per_second: 2921.0088, train_label_loss: 0.1771, \n"
     ]
    },
    {
     "name": "stdout",
     "output_type": "stream",
     "text": [
      "epoch: 3, [batch: 4110 / 6850], examples_per_second: 2891.5227, train_label_loss: 0.2695, \n"
     ]
    },
    {
     "name": "stdout",
     "output_type": "stream",
     "text": [
      "epoch: 3, [batch: 4795 / 6850], examples_per_second: 2744.0714, train_label_loss: 0.1509, \n"
     ]
    },
    {
     "name": "stdout",
     "output_type": "stream",
     "text": [
      "epoch: 3, [batch: 5480 / 6850], examples_per_second: 2330.6520, train_label_loss: 0.1888, \n"
     ]
    },
    {
     "name": "stdout",
     "output_type": "stream",
     "text": [
      "epoch: 3, [batch: 6165 / 6850], examples_per_second: 2343.1388, train_label_loss: 0.0207, \n"
     ]
    },
    {
     "name": "stdout",
     "output_type": "stream",
     "text": [
      "=============================================================\n",
      "epoch: 3, source_val_acc_label: 0.9721, target_val_acc_label: 0.3776, source_val_label_loss: 0.1228, target_val_label_loss: 2.5400, \n",
      "=============================================================\n"
     ]
    },
    {
     "name": "stdout",
     "output_type": "stream",
     "text": [
      "epoch: 4, [batch: 1 / 6835], examples_per_second: 2.0014, train_label_loss: 0.0141, \n"
     ]
    },
    {
     "name": "stdout",
     "output_type": "stream",
     "text": [
      "epoch: 4, [batch: 684 / 6835], examples_per_second: 2590.7294, train_label_loss: 0.2228, \n"
     ]
    },
    {
     "name": "stdout",
     "output_type": "stream",
     "text": [
      "epoch: 4, [batch: 1367 / 6835], examples_per_second: 2734.9704, train_label_loss: 0.2045, \n"
     ]
    },
    {
     "name": "stdout",
     "output_type": "stream",
     "text": [
      "epoch: 4, [batch: 2051 / 6835], examples_per_second: 3023.5196, train_label_loss: 0.0117, \n"
     ]
    },
    {
     "name": "stdout",
     "output_type": "stream",
     "text": [
      "epoch: 4, [batch: 2734 / 6835], examples_per_second: 2634.3590, train_label_loss: 0.0218, \n"
     ]
    },
    {
     "name": "stdout",
     "output_type": "stream",
     "text": [
      "epoch: 4, [batch: 3418 / 6835], examples_per_second: 2439.9913, train_label_loss: 0.2453, \n"
     ]
    },
    {
     "name": "stdout",
     "output_type": "stream",
     "text": [
      "epoch: 4, [batch: 4101 / 6835], examples_per_second: 2333.3196, train_label_loss: 0.1046, \n"
     ]
    },
    {
     "name": "stdout",
     "output_type": "stream",
     "text": [
      "epoch: 4, [batch: 4784 / 6835], examples_per_second: 2314.1536, train_label_loss: 0.0074, \n"
     ]
    },
    {
     "name": "stdout",
     "output_type": "stream",
     "text": [
      "epoch: 4, [batch: 5468 / 6835], examples_per_second: 2310.7349, train_label_loss: 0.2115, \n"
     ]
    },
    {
     "name": "stdout",
     "output_type": "stream",
     "text": [
      "epoch: 4, [batch: 6151 / 6835], examples_per_second: 2316.0400, train_label_loss: 0.0173, \n"
     ]
    },
    {
     "name": "stdout",
     "output_type": "stream",
     "text": [
      "=============================================================\n",
      "epoch: 4, source_val_acc_label: 0.9724, target_val_acc_label: 0.3498, source_val_label_loss: 0.1176, target_val_label_loss: 2.5389, \n",
      "=============================================================\n"
     ]
    },
    {
     "name": "stdout",
     "output_type": "stream",
     "text": [
      "epoch: 5, [batch: 1 / 6849], examples_per_second: 2.0046, train_label_loss: 0.0345, \n"
     ]
    },
    {
     "name": "stdout",
     "output_type": "stream",
     "text": [
      "epoch: 5, [batch: 685 / 6849], examples_per_second: 2588.6391, train_label_loss: 0.0489, \n"
     ]
    },
    {
     "name": "stdout",
     "output_type": "stream",
     "text": [
      "epoch: 5, [batch: 1370 / 6849], examples_per_second: 2810.5266, train_label_loss: 0.0321, \n"
     ]
    },
    {
     "name": "stdout",
     "output_type": "stream",
     "text": [
      "epoch: 5, [batch: 2055 / 6849], examples_per_second: 2896.8030, train_label_loss: 0.1768, \n"
     ]
    },
    {
     "name": "stdout",
     "output_type": "stream",
     "text": [
      "epoch: 5, [batch: 2740 / 6849], examples_per_second: 2575.7703, train_label_loss: 0.3805, \n"
     ]
    },
    {
     "name": "stdout",
     "output_type": "stream",
     "text": [
      "epoch: 5, [batch: 3425 / 6849], examples_per_second: 2598.9941, train_label_loss: 0.1856, \n"
     ]
    },
    {
     "name": "stdout",
     "output_type": "stream",
     "text": [
      "epoch: 5, [batch: 4109 / 6849], examples_per_second: 2585.5345, train_label_loss: 0.0033, \n"
     ]
    },
    {
     "name": "stdout",
     "output_type": "stream",
     "text": [
      "epoch: 5, [batch: 4794 / 6849], examples_per_second: 2575.4199, train_label_loss: 0.2519, \n"
     ]
    },
    {
     "name": "stdout",
     "output_type": "stream",
     "text": [
      "epoch: 5, [batch: 5479 / 6849], examples_per_second: 2589.3265, train_label_loss: 0.0052, \n"
     ]
    },
    {
     "name": "stdout",
     "output_type": "stream",
     "text": [
      "epoch: 5, [batch: 6164 / 6849], examples_per_second: 2656.0358, train_label_loss: 0.0165, \n"
     ]
    },
    {
     "name": "stdout",
     "output_type": "stream",
     "text": [
      "=============================================================\n",
      "epoch: 5, source_val_acc_label: 0.9736, target_val_acc_label: 0.3363, source_val_label_loss: 0.1094, target_val_label_loss: 2.4986, \n",
      "=============================================================\n"
     ]
    },
    {
     "name": "stdout",
     "output_type": "stream",
     "text": [
      "Patience (3) exhausted\n"
     ]
    }
   ],
   "source": [
    "###################################\n",
    "# train\n",
    "###################################\n",
    "jig = PTN_Train_Eval_Test_Jig(model, p.BEST_MODEL_PATH, p.device)\n",
    "\n",
    "jig.train(\n",
    "    train_iterable=datasets.source.processed.train,\n",
    "    source_val_iterable=datasets.source.processed.val,\n",
    "    target_val_iterable=datasets.target.processed.val,\n",
    "    num_epochs=p.n_epoch,\n",
    "    num_logs_per_epoch=p.NUM_LOGS_PER_EPOCH,\n",
    "    patience=p.patience,\n",
    "    optimizer=optimizer,\n",
    "    criteria_for_best=p.criteria_for_best,\n",
    ")"
   ]
  },
  {
   "cell_type": "code",
   "execution_count": 23,
   "id": "31e8fabf",
   "metadata": {
    "execution": {
     "iopub.execute_input": "2022-03-21T15:09:02.748695Z",
     "iopub.status.busy": "2022-03-21T15:09:02.748322Z",
     "iopub.status.idle": "2022-03-21T15:09:02.782328Z",
     "shell.execute_reply": "2022-03-21T15:09:02.781585Z"
    },
    "papermill": {
     "duration": 0.076866,
     "end_time": "2022-03-21T15:09:02.782507",
     "exception": false,
     "start_time": "2022-03-21T15:09:02.705641",
     "status": "completed"
    },
    "tags": []
   },
   "outputs": [],
   "source": [
    "total_experiment_time_secs = time.time() - start_time_secs"
   ]
  },
  {
   "cell_type": "code",
   "execution_count": 24,
   "id": "87b9595b",
   "metadata": {
    "execution": {
     "iopub.execute_input": "2022-03-21T15:09:02.874426Z",
     "iopub.status.busy": "2022-03-21T15:09:02.873740Z",
     "iopub.status.idle": "2022-03-21T15:12:40.692276Z",
     "shell.execute_reply": "2022-03-21T15:12:40.691428Z"
    },
    "papermill": {
     "duration": 217.867117,
     "end_time": "2022-03-21T15:12:40.692463",
     "exception": false,
     "start_time": "2022-03-21T15:09:02.825346",
     "status": "completed"
    },
    "tags": []
   },
   "outputs": [],
   "source": [
    "###################################\n",
    "# Evaluate the model\n",
    "###################################\n",
    "source_test_label_accuracy, source_test_label_loss = jig.test(datasets.source.processed.test)\n",
    "target_test_label_accuracy, target_test_label_loss = jig.test(datasets.target.processed.test)\n",
    "\n",
    "source_val_label_accuracy, source_val_label_loss = jig.test(datasets.source.processed.val)\n",
    "target_val_label_accuracy, target_val_label_loss = jig.test(datasets.target.processed.val)\n",
    "\n",
    "history = jig.get_history()\n",
    "\n",
    "total_epochs_trained = len(history[\"epoch_indices\"])\n",
    "\n",
    "val_dl = Iterable_Aggregator((datasets.source.original.val,datasets.target.original.val))\n",
    "\n",
    "confusion = ptn_confusion_by_domain_over_dataloader(model, p.device, val_dl)\n",
    "per_domain_accuracy = per_domain_accuracy_from_confusion(confusion)\n",
    "\n",
    "# Add a key to per_domain_accuracy for if it was a source domain\n",
    "for domain, accuracy in per_domain_accuracy.items():\n",
    "    per_domain_accuracy[domain] = {\n",
    "        \"accuracy\": accuracy,\n",
    "        \"source?\": domain in p.domains_source\n",
    "    }\n",
    "\n",
    "# Do an independent accuracy assesment JUST TO BE SURE!\n",
    "# _source_test_label_accuracy = independent_accuracy_assesment(model, datasets.source.processed.test, p.device)\n",
    "# _target_test_label_accuracy = independent_accuracy_assesment(model, datasets.target.processed.test, p.device)\n",
    "# _source_val_label_accuracy = independent_accuracy_assesment(model, datasets.source.processed.val, p.device)\n",
    "# _target_val_label_accuracy = independent_accuracy_assesment(model, datasets.target.processed.val, p.device)\n",
    "\n",
    "# assert(_source_test_label_accuracy == source_test_label_accuracy)\n",
    "# assert(_target_test_label_accuracy == target_test_label_accuracy)\n",
    "# assert(_source_val_label_accuracy == source_val_label_accuracy)\n",
    "# assert(_target_val_label_accuracy == target_val_label_accuracy)\n",
    "\n",
    "experiment = {\n",
    "    \"experiment_name\": p.experiment_name,\n",
    "    \"parameters\": dict(p),\n",
    "    \"results\": {\n",
    "        \"source_test_label_accuracy\": source_test_label_accuracy,\n",
    "        \"source_test_label_loss\": source_test_label_loss,\n",
    "        \"target_test_label_accuracy\": target_test_label_accuracy,\n",
    "        \"target_test_label_loss\": target_test_label_loss,\n",
    "        \"source_val_label_accuracy\": source_val_label_accuracy,\n",
    "        \"source_val_label_loss\": source_val_label_loss,\n",
    "        \"target_val_label_accuracy\": target_val_label_accuracy,\n",
    "        \"target_val_label_loss\": target_val_label_loss,\n",
    "        \"total_epochs_trained\": total_epochs_trained,\n",
    "        \"total_experiment_time_secs\": total_experiment_time_secs,\n",
    "        \"confusion\": confusion,\n",
    "        \"per_domain_accuracy\": per_domain_accuracy,\n",
    "    },\n",
    "    \"history\": history,\n",
    "    \"dataset_metrics\": get_dataset_metrics(datasets, \"ptn\"),\n",
    "}"
   ]
  },
  {
   "cell_type": "code",
   "execution_count": 25,
   "id": "54a21829",
   "metadata": {
    "execution": {
     "iopub.execute_input": "2022-03-21T15:12:40.778297Z",
     "iopub.status.busy": "2022-03-21T15:12:40.777918Z",
     "iopub.status.idle": "2022-03-21T15:12:40.992844Z",
     "shell.execute_reply": "2022-03-21T15:12:40.993544Z"
    },
    "papermill": {
     "duration": 0.258352,
     "end_time": "2022-03-21T15:12:40.993756",
     "exception": false,
     "start_time": "2022-03-21T15:12:40.735404",
     "status": "completed"
    },
    "tags": []
   },
   "outputs": [
    {
     "data": {
      "image/png": "[encoded data removed]",
      "text/plain": [
       "<Figure size 1080x504 with 1 Axes>"
      ]
     },
     "metadata": {
      "needs_background": "light"
     },
     "output_type": "display_data"
    }
   ],
   "source": [
    "ax = get_loss_curve(experiment)\n",
    "plt.show()"
   ]
  },
  {
   "cell_type": "code",
   "execution_count": 26,
   "id": "fd8a0f60",
   "metadata": {
    "execution": {
     "iopub.execute_input": "2022-03-21T15:12:41.080348Z",
     "iopub.status.busy": "2022-03-21T15:12:41.079975Z",
     "iopub.status.idle": "2022-03-21T15:12:41.419160Z",
     "shell.execute_reply": "2022-03-21T15:12:41.419902Z"
    },
    "papermill": {
     "duration": 0.38272,
     "end_time": "2022-03-21T15:12:41.420123",
     "exception": false,
     "start_time": "2022-03-21T15:12:41.037403",
     "status": "completed"
    },
    "tags": []
   },
   "outputs": [
    {
     "data": {
      "text/plain": [
       "<AxesSubplot:title={'center':'Results'}>"
      ]
     },
     "execution_count": 26,
     "metadata": {},
     "output_type": "execute_result"
    },
    {
     "data": {
      "image/png": "[encoded data removed]",
      "text/plain": [
       "<Figure size 1080x504 with 1 Axes>"
      ]
     },
     "metadata": {
      "needs_background": "light"
     },
     "output_type": "display_data"
    }
   ],
   "source": [
    "get_results_table(experiment)"
   ]
  },
  {
   "cell_type": "code",
   "execution_count": 27,
   "id": "cf8dc689",
   "metadata": {
    "execution": {
     "iopub.execute_input": "2022-03-21T15:12:41.512189Z",
     "iopub.status.busy": "2022-03-21T15:12:41.511819Z",
     "iopub.status.idle": "2022-03-21T15:12:41.763657Z",
     "shell.execute_reply": "2022-03-21T15:12:41.762905Z"
    },
    "papermill": {
     "duration": 0.295631,
     "end_time": "2022-03-21T15:12:41.763825",
     "exception": false,
     "start_time": "2022-03-21T15:12:41.468194",
     "status": "completed"
    },
    "tags": []
   },
   "outputs": [
    {
     "data": {
      "text/plain": [
       "<AxesSubplot:title={'center':'Per Domain Validation Accuracy'}, xlabel='domain'>"
      ]
     },
     "execution_count": 27,
     "metadata": {},
     "output_type": "execute_result"
    },
    {
     "data": {
      "image/png": "[encoded data removed]",
      "text/plain": [
       "<Figure size 1080x504 with 1 Axes>"
      ]
     },
     "metadata": {
      "needs_background": "light"
     },
     "output_type": "display_data"
    }
   ],
   "source": [
    "get_domain_accuracies(experiment)"
   ]
  },
  {
   "cell_type": "code",
   "execution_count": 28,
   "id": "a74ae082",
   "metadata": {
    "execution": {
     "iopub.execute_input": "2022-03-21T15:12:41.859296Z",
     "iopub.status.busy": "2022-03-21T15:12:41.858916Z",
     "iopub.status.idle": "2022-03-21T15:12:41.884792Z",
     "shell.execute_reply": "2022-03-21T15:12:41.883965Z"
    },
    "papermill": {
     "duration": 0.073492,
     "end_time": "2022-03-21T15:12:41.884953",
     "exception": false,
     "start_time": "2022-03-21T15:12:41.811461",
     "status": "completed"
    },
    "tags": []
   },
   "outputs": [
    {
     "name": "stdout",
     "output_type": "stream",
     "text": [
      "Source Test Label Accuracy: 0.9608165634674922 Target Test Label Accuracy: 0.44186197916666664\n",
      "Source Val Label Accuracy: 0.9608302534318902 Target Val Label Accuracy: 0.43557942708333336\n"
     ]
    }
   ],
   "source": [
    "print(\"Source Test Label Accuracy:\", experiment[\"results\"][\"source_test_label_accuracy\"], \"Target Test Label Accuracy:\", experiment[\"results\"][\"target_test_label_accuracy\"])\n",
    "print(\"Source Val Label Accuracy:\", experiment[\"results\"][\"source_val_label_accuracy\"], \"Target Val Label Accuracy:\", experiment[\"results\"][\"target_val_label_accuracy\"])"
   ]
  },
  {
   "cell_type": "code",
   "execution_count": 29,
   "id": "dacca602",
   "metadata": {
    "execution": {
     "iopub.execute_input": "2022-03-21T15:12:42.014059Z",
     "iopub.status.busy": "2022-03-21T15:12:42.013684Z",
     "iopub.status.idle": "2022-03-21T15:12:42.045777Z",
     "shell.execute_reply": "2022-03-21T15:12:42.046458Z"
    },
    "papermill": {
     "duration": 0.113975,
     "end_time": "2022-03-21T15:12:42.046653",
     "exception": false,
     "start_time": "2022-03-21T15:12:41.932678",
     "status": "completed"
    },
    "tags": [
     "experiment_json"
    ]
   },
   "outputs": [
    {
     "data": {
      "text/plain": [
       "'{\"experiment_name\": \"tl_1v2:wisig-oracle.run1.framed\", \"parameters\": {\"experiment_name\": \"tl_1v2:wisig-oracle.run1.framed\", \"device\": \"cuda\", \"lr\": 0.0001, \"n_shot\": 3, \"n_query\": 2, \"train_k_factor\": 3, \"val_k_factor\": 2, \"test_k_factor\": 2, \"torch_default_dtype\": \"torch.float32\", \"n_epoch\": 50, \"patience\": 3, \"criteria_for_best\": \"target_accuracy\", \"x_net\": [{\"class\": \"nnReshape\", \"kargs\": {\"shape\": [-1, 1, 2, 256]}}, {\"class\": \"Conv2d\", \"kargs\": {\"in_channels\": 1, \"out_channels\": 256, \"kernel_size\": [1, 7], \"bias\": false, \"padding\": [0, 3]}}, {\"class\": \"ReLU\", \"kargs\": {\"inplace\": true}}, {\"class\": \"BatchNorm2d\", \"kargs\": {\"num_features\": 256}}, {\"class\": \"Conv2d\", \"kargs\": {\"in_channels\": 256, \"out_channels\": 80, \"kernel_size\": [2, 7], \"bias\": true, \"padding\": [0, 3]}}, {\"class\": \"ReLU\", \"kargs\": {\"inplace\": true}}, {\"class\": \"BatchNorm2d\", \"kargs\": {\"num_features\": 80}}, {\"class\": \"Flatten\", \"kargs\": {}}, {\"class\": \"Linear\", \"kargs\": {\"in_features\": 20480, \"out_features\": 256}}, {\"class\": \"ReLU\", \"kargs\": {\"inplace\": true}}, {\"class\": \"BatchNorm1d\", \"kargs\": {\"num_features\": 256}}, {\"class\": \"Linear\", \"kargs\": {\"in_features\": 256, \"out_features\": 256}}], \"NUM_LOGS_PER_EPOCH\": 10, \"BEST_MODEL_PATH\": \"./best_model.pth\", \"n_way\": 16, \"datasets\": [{\"labels\": [\"1-10\", \"1-12\", \"1-14\", \"1-16\", \"1-18\", \"1-19\", \"1-8\", \"10-11\", \"10-17\", \"10-4\", \"10-7\", \"11-1\", \"11-10\", \"11-19\", \"11-20\", \"11-4\", \"11-7\", \"12-19\", \"12-20\", \"12-7\", \"13-14\", \"13-18\", \"13-19\", \"13-20\", \"13-3\", \"13-7\", \"14-10\", \"14-11\", \"14-12\", \"14-13\", \"14-14\", \"14-19\", \"14-20\", \"14-7\", \"14-8\", \"14-9\", \"15-1\", \"15-19\", \"15-6\", \"16-1\", \"16-16\", \"16-19\", \"16-20\", \"17-10\", \"17-11\", \"18-1\", \"18-10\", \"18-11\", \"18-12\", \"18-13\", \"18-14\", \"18-15\", \"18-16\", \"18-17\", \"18-19\", \"18-2\", \"18-20\", \"18-4\", \"18-5\", \"18-7\", \"18-8\", \"18-9\", \"19-1\", \"19-10\", \"19-11\", \"19-12\", \"19-13\", \"19-14\", \"19-15\", \"19-19\", \"19-2\", \"19-20\", \"19-3\", \"19-4\", \"19-6\", \"19-7\", \"19-8\", \"19-9\", \"2-1\", \"2-13\", \"2-15\", \"2-3\", \"2-4\", \"2-5\", \"2-6\", \"2-7\", \"2-8\", \"20-1\", \"20-12\", \"20-14\", \"20-15\", \"20-16\", \"20-18\", \"20-19\", \"20-20\", \"20-3\", \"20-4\", \"20-5\", \"20-7\", \"20-8\", \"3-1\", \"3-13\", \"3-18\", \"3-2\", \"3-8\", \"4-1\", \"4-10\", \"4-11\", \"5-1\", \"5-5\", \"6-1\", \"6-15\", \"6-6\", \"7-10\", \"7-11\", \"7-12\", \"7-13\", \"7-14\", \"7-7\", \"7-8\", \"7-9\", \"8-1\", \"8-13\", \"8-14\", \"8-18\", \"8-20\", \"8-3\", \"8-8\", \"9-1\", \"9-7\"], \"domains\": [1, 2, 3, 4], \"num_examples_per_domain_per_label\": -1, \"pickle_path\": \"/root/csc500-main/datasets/wisig.node3-19.stratified_ds.2022A.pkl\", \"source_or_target_dataset\": \"source\", \"x_transforms\": [], \"episode_transforms\": [], \"domain_prefix\": \"Wisig_\"}, {\"labels\": [\"3123D52\", \"3123D65\", \"3123D79\", \"3123D80\", \"3123D54\", \"3123D70\", \"3123D7B\", \"3123D89\", \"3123D58\", \"3123D76\", \"3123D7D\", \"3123EFE\", \"3123D64\", \"3123D78\", \"3123D7E\", \"3124E4A\"], \"domains\": [32, 38, 8, 44, 14, 50, 20, 26], \"num_examples_per_domain_per_label\": 2000, \"pickle_path\": \"/root/csc500-main/datasets/oracle.Run1_framed_2000Examples_stratified_ds.2022A.pkl\", \"source_or_target_dataset\": \"target\", \"x_transforms\": [], \"episode_transforms\": [], \"domain_prefix\": \"ORACLE.run1\"}], \"dataset_seed\": 7, \"seed\": 7, \"x_shape\": [2, 256], \"domains_source\": [\"Wisig_1\", \"Wisig_2\", \"Wisig_3\", \"Wisig_4\"], \"domains_target\": [\"ORACLE.run132\", \"ORACLE.run138\", \"ORACLE.run18\", \"ORACLE.run144\", \"ORACLE.run114\", \"ORACLE.run150\", \"ORACLE.run120\", \"ORACLE.run126\"]}, \"results\": {\"source_test_label_accuracy\": 0.9608165634674922, \"source_test_label_loss\": 0.17310406267642975, \"target_test_label_accuracy\": 0.44186197916666664, \"target_test_label_loss\": 2.5776333808898926, \"source_val_label_accuracy\": 0.9608302534318902, \"source_val_label_loss\": 0.17740674316883087, \"target_val_label_accuracy\": 0.43557942708333336, \"target_val_label_loss\": 2.5779383182525635, \"total_epochs_trained\": 5, \"total_experiment_time_secs\": 1353.701632976532, \"confusion\": {\"Wisig_4\": {\"71\": {\"71\": 103, \"84\": 1}, \"17\": {\"17\": 20}, \"105\": {\"105\": 84, \"88\": 3, \"14\": 1, \"71\": 1, \"40\": 5, \"111\": 1, \"70\": 1, \"26\": 1, \"107\": 1, \"87\": 1, \"39\": 1}, \"92\": {\"92\": 27, \"82\": 1}, \"100\": {\"100\": 19, \"114\": 1}, \"6\": {\"6\": 21, \"59\": 1, \"125\": 2}, \"36\": {\"36\": 125, \"24\": 1, \"70\": 1, \"88\": 1}, \"35\": {\"35\": 12}, \"63\": {\"63\": 16}, \"104\": {\"104\": 16}, \"114\": {\"114\": 124, \"30\": 1, \"33\": 1, \"24\": 1, \"105\": 1}, \"68\": {\"68\": 16}, \"109\": {\"109\": 114, \"96\": 1, \"84\": 1}, \"27\": {\"27\": 91, \"81\": 1, \"78\": 1, \"108\": 2, \"88\": 2, \"24\": 1, \"87\": 1, \"26\": 1}, \"79\": {\"79\": 16}, \"0\": {\"0\": 98, \"70\": 2, \"88\": 1, \"21\": 1, \"87\": 1, \"107\": 1, \"1\": 1, \"33\": 1}, \"28\": {\"28\": 18, \"108\": 1, \"37\": 1}, \"4\": {\"4\": 101, \"21\": 1, \"108\": 1, \"85\": 1}, \"106\": {\"106\": 98, \"21\": 1, \"39\": 2, \"108\": 1}, \"40\": {\"40\": 131, \"16\": 1, \"69\": 1, \"18\": 1}, \"127\": {\"127\": 105, \"71\": 1, \"72\": 1, \"95\": 1}, \"57\": {\"57\": 14, \"88\": 2}, \"60\": {\"60\": 31, \"11\": 1}, \"69\": {\"69\": 120, \"84\": 1, \"1\": 2, \"3\": 1}, \"84\": {\"84\": 128, \"108\": 1, \"78\": 1, \"121\": 1, \"3\": 1}, \"24\": {\"24\": 108, \"21\": 1, \"40\": 1, \"10\": 3, \"113\": 1, \"27\": 3, \"84\": 2, \"70\": 1}, \"94\": {\"84\": 1, \"94\": 83, \"36\": 2, \"126\": 1, \"88\": 1}, \"7\": {\"7\": 114, \"84\": 1, \"111\": 1, \"88\": 1, \"3\": 1, \"85\": 1, \"5\": 1}, \"96\": {\"96\": 19, \"110\": 1}, \"116\": {\"116\": 28}, \"47\": {\"47\": 9, \"84\": 1, \"65\": 1, \"70\": 1}, \"119\": {\"119\": 15, \"24\": 1}, \"74\": {\"74\": 16}, \"93\": {\"93\": 151, \"26\": 1}, \"2\": {\"2\": 27, \"129\": 1}, \"37\": {\"37\": 13, \"88\": 1, \"41\": 2}, \"15\": {\"15\": 125, \"26\": 1, \"106\": 1, \"110\": 1}, \"102\": {\"102\": 135, \"63\": 1}, \"87\": {\"87\": 116, \"59\": 1, \"122\": 1, \"126\": 1, \"26\": 1, \"43\": 1, \"0\": 1}, \"107\": {\"107\": 142, \"88\": 2}, \"61\": {\"61\": 14, \"96\": 1, \"21\": 1}, \"78\": {\"78\": 33, \"70\": 1, \"26\": 1, \"85\": 1}, \"9\": {\"9\": 28}, \"32\": {\"32\": 24, \"55\": 2, \"14\": 2}, \"14\": {\"14\": 111, \"107\": 1}, \"62\": {\"62\": 55, \"88\": 2, \"72\": 1, \"106\": 1, \"108\": 1}, \"1\": {\"1\": 98, \"70\": 2, \"114\": 1, \"24\": 1}, \"23\": {\"23\": 10, \"15\": 2, \"116\": 1, \"35\": 1, \"51\": 1, \"12\": 1}, \"95\": {\"95\": 31, \"1\": 1}, \"56\": {\"56\": 12}, \"91\": {\"91\": 24}, \"34\": {\"34\": 25, \"91\": 2, \"99\": 2, \"54\": 2, \"108\": 1}, \"25\": {\"25\": 16}, \"33\": {\"33\": 123, \"121\": 1}, \"16\": {\"16\": 118, \"69\": 1, \"111\": 1, \"18\": 2, \"88\": 1, \"33\": 1}, \"26\": {\"26\": 123, \"21\": 1, \"3\": 1, \"18\": 1}, \"5\": {\"5\": 128, \"26\": 1, \"3\": 2, \"88\": 1, \"81\": 1, \"43\": 1, \"105\": 1, \"108\": 1}, \"123\": {\"123\": 15, \"6\": 1}, \"8\": {\"8\": 118}, \"83\": {\"83\": 25, \"111\": 1, \"81\": 1, \"78\": 1}, \"125\": {\"125\": 134}, \"51\": {\"51\": 11, \"61\": 1, \"88\": 1, \"75\": 1, \"25\": 1, \"78\": 1}, \"22\": {\"22\": 16}, \"54\": {\"54\": 14, \"109\": 1, \"78\": 1}, \"66\": {\"66\": 15, \"38\": 1}, \"59\": {\"59\": 11, \"21\": 1}, \"111\": {\"111\": 126, \"5\": 1, \"110\": 1}, \"77\": {\"77\": 12}, \"103\": {\"103\": 16}, \"20\": {\"20\": 13, \"96\": 1, \"83\": 2}, \"124\": {\"124\": 118, \"24\": 1, \"70\": 1}, \"99\": {\"99\": 39, \"69\": 1}, \"120\": {\"34\": 1, \"120\": 18, \"21\": 1}, \"76\": {\"76\": 15, \"85\": 1}, \"110\": {\"110\": 111, \"3\": 1, \"16\": 1, \"68\": 1, \"36\": 1, \"39\": 1}, \"29\": {\"29\": 31, \"24\": 1}, \"118\": {\"118\": 105, \"12\": 1, \"71\": 1, \"106\": 1, \"88\": 2, \"21\": 1, \"78\": 1}, \"58\": {\"58\": 14, \"88\": 2}, \"13\": {\"13\": 15, \"85\": 1}, \"89\": {\"89\": 32}, \"31\": {\"31\": 15, \"95\": 1}, \"64\": {\"64\": 15, \"85\": 1}, \"65\": {\"65\": 12}, \"101\": {\"101\": 130, \"19\": 1, \"88\": 1}, \"126\": {\"126\": 116, \"111\": 1, \"117\": 1}, \"108\": {\"108\": 75, \"23\": 1, \"70\": 6, \"8\": 1, \"18\": 1, \"27\": 1, \"88\": 6, \"107\": 1}, \"45\": {\"45\": 16}, \"21\": {\"21\": 36, \"108\": 1, \"43\": 1, \"78\": 2}, \"30\": {\"30\": 74, \"21\": 1, \"88\": 1}, \"82\": {\"82\": 30, \"88\": 1, \"98\": 1}, \"85\": {\"85\": 28}, \"88\": {\"88\": 120, \"70\": 5, \"39\": 1, \"78\": 1, \"108\": 3, \"26\": 1, \"105\": 1}, \"41\": {\"41\": 15, \"88\": 1}, \"128\": {\"58\": 2, \"128\": 15, \"52\": 1, \"88\": 1, \"91\": 1, \"34\": 1, \"21\": 1, \"114\": 2}, \"39\": {\"39\": 91, \"108\": 2, \"84\": 1, \"43\": 1, \"113\": 2, \"107\": 1, \"109\": 2}, \"18\": {\"18\": 113, \"69\": 1, \"21\": 1, \"5\": 1, \"108\": 1, \"43\": 1, \"126\": 1, \"3\": 1}, \"113\": {\"113\": 122, \"114\": 1, \"39\": 2, \"3\": 2, \"70\": 1}, \"11\": {\"11\": 134, \"107\": 1, \"84\": 2, \"1\": 1}, \"43\": {\"43\": 115, \"110\": 1, \"26\": 1, \"87\": 1, \"105\": 1, \"109\": 1}, \"12\": {\"12\": 97, \"111\": 1, \"43\": 1, \"84\": 1}, \"122\": {\"122\": 76, \"43\": 1, \"87\": 3, \"33\": 2, \"109\": 1, \"88\": 1}, \"52\": {\"52\": 20}, \"44\": {\"44\": 61, \"3\": 1, \"65\": 1, \"119\": 1}, \"90\": {\"90\": 133, \"111\": 1}, \"112\": {\"112\": 16}, \"86\": {\"86\": 27, \"4\": 1}, \"3\": {\"3\": 114, \"78\": 1, \"1\": 1}, \"38\": {\"38\": 16}, \"121\": {\"121\": 29, \"44\": 2, \"19\": 1}, \"46\": {\"46\": 18, \"59\": 1, \"50\": 1}, \"70\": {\"70\": 119, \"10\": 2, \"24\": 2, \"90\": 1}, \"67\": {\"67\": 12, \"65\": 2, \"83\": 1, \"102\": 1}, \"53\": {\"53\": 16}, \"49\": {\"49\": 27, \"51\": 2, \"100\": 1, \"52\": 1, \"5\": 1}, \"42\": {\"42\": 26, \"124\": 2}, \"10\": {\"10\": 111, \"24\": 2, \"70\": 1, \"108\": 1, \"128\": 1, \"44\": 1, \"88\": 1}, \"50\": {\"50\": 16}, \"73\": {\"73\": 23, \"108\": 1}, \"115\": {\"115\": 11, \"88\": 1, \"4\": 3, \"109\": 1}, \"80\": {\"80\": 15, \"81\": 1}, \"19\": {\"19\": 26, \"26\": 1, \"126\": 1}, \"55\": {\"55\": 16}, \"72\": {\"72\": 31, \"30\": 1}, \"117\": {\"117\": 114, \"108\": 1, \"89\": 1}, \"81\": {\"81\": 33, \"108\": 1, \"69\": 1, \"78\": 1}, \"75\": {\"75\": 16}, \"98\": {\"98\": 116, \"81\": 1, \"14\": 1, \"25\": 1, \"88\": 1}, \"48\": {\"48\": 16}, \"129\": {\"129\": 26, \"19\": 1, \"84\": 1}, \"97\": {\"97\": 17, \"24\": 2, \"72\": 1}}, \"Wisig_1\": {\"105\": {\"105\": 82, \"40\": 2}, \"100\": {\"100\": 15, \"1\": 1}, \"112\": {\"112\": 15, \"75\": 1}, \"123\": {\"123\": 16}, \"13\": {\"13\": 16}, \"81\": {\"81\": 28}, \"124\": {\"124\": 119, \"45\": 1}, \"122\": {\"122\": 87, \"43\": 1}, \"111\": {\"111\": 118, \"109\": 2}, \"93\": {\"93\": 154, \"21\": 1, \"43\": 1, \"11\": 1, \"87\": 1}, \"106\": {\"106\": 114, \"88\": 1, \"87\": 1, \"33\": 1, \"84\": 1}, \"113\": {\"113\": 123, \"109\": 1}, \"95\": {\"95\": 36}, \"87\": {\"87\": 104, \"16\": 1, \"93\": 2, \"18\": 1}, \"86\": {\"86\": 35, \"24\": 1}, \"67\": {\"67\": 16}, \"85\": {\"85\": 32}, \"82\": {\"82\": 36}, \"115\": {\"115\": 12}, \"7\": {\"7\": 142}, \"44\": {\"44\": 76}, \"65\": {\"65\": 9, \"17\": 1, \"74\": 1, \"63\": 1}, \"129\": {\"129\": 26, \"94\": 1, \"110\": 1}, \"42\": {\"42\": 20, \"29\": 1, \"9\": 1, \"83\": 2, \"54\": 1, \"64\": 1, \"124\": 1, \"111\": 1}, \"28\": {\"88\": 1, \"28\": 18, \"24\": 1}, \"0\": {\"0\": 82, \"33\": 1, \"24\": 1}, \"10\": {\"10\": 120}, \"76\": {\"76\": 15, \"33\": 1}, \"88\": {\"88\": 124, \"24\": 2}, \"29\": {\"29\": 28}, \"16\": {\"16\": 107, \"109\": 1}, \"41\": {\"41\": 16}, \"27\": {\"27\": 92}, \"33\": {\"33\": 118, \"121\": 1, \"111\": 1}, \"75\": {\"75\": 16}, \"48\": {\"48\": 12}, \"56\": {\"75\": 2, \"56\": 10}, \"9\": {\"9\": 31, \"33\": 1}, \"1\": {\"1\": 125, \"109\": 1}, \"39\": {\"39\": 103, \"109\": 1}, \"50\": {\"33\": 2, \"50\": 12, \"4\": 1, \"32\": 1}, \"99\": {\"99\": 23, \"39\": 1}, \"90\": {\"90\": 122}, \"45\": {\"2\": 1, \"45\": 9, \"84\": 1, \"39\": 1}, \"5\": {\"5\": 88}, \"128\": {\"128\": 19, \"25\": 1, \"82\": 1, \"73\": 2, \"89\": 1}, \"2\": {\"2\": 30, \"73\": 1, \"5\": 1}, \"53\": {\"53\": 20}, \"104\": {\"104\": 16}, \"32\": {\"32\": 32}, \"92\": {\"92\": 28}, \"78\": {\"78\": 15, \"16\": 1}, \"19\": {\"19\": 28}, \"120\": {\"120\": 19, \"121\": 1}, \"43\": {\"43\": 118, \"122\": 2, \"93\": 3, \"109\": 4, \"70\": 1}, \"74\": {\"74\": 16}, \"11\": {\"11\": 129, \"108\": 1}, \"26\": {\"26\": 129, \"70\": 2, \"69\": 1}, \"125\": {\"125\": 132}, \"64\": {\"64\": 15, \"66\": 1}, \"127\": {\"127\": 105, \"15\": 1, \"69\": 1, \"94\": 1}, \"83\": {\"83\": 24, \"1\": 1, \"12\": 1, \"72\": 1, \"104\": 1}, \"118\": {\"118\": 83, \"111\": 1}, \"103\": {\"103\": 15, \"104\": 1}, \"55\": {\"55\": 12}, \"110\": {\"110\": 126}, \"30\": {\"30\": 51, \"16\": 1}, \"51\": {\"51\": 16}, \"6\": {\"6\": 29, \"59\": 2, \"125\": 1}, \"96\": {\"96\": 18, \"126\": 1, \"30\": 1}, \"114\": {\"114\": 143, \"21\": 1}, \"69\": {\"69\": 107, \"109\": 1}, \"60\": {\"60\": 11, \"96\": 1, \"97\": 1, \"17\": 1, \"100\": 1, \"14\": 1}, \"94\": {\"94\": 90, \"15\": 1, \"109\": 1}, \"79\": {\"79\": 12}, \"126\": {\"126\": 132, \"12\": 1, \"21\": 1}, \"68\": {\"68\": 16}, \"72\": {\"72\": 30, \"101\": 2}, \"63\": {\"63\": 15, \"86\": 1}, \"22\": {\"22\": 15, \"51\": 1}, \"121\": {\"121\": 31, \"15\": 1}, \"71\": {\"71\": 100, \"27\": 1, \"70\": 1, \"106\": 1, \"43\": 1, \"9\": 1, \"12\": 1, \"111\": 1, \"109\": 1}, \"54\": {\"54\": 16}, \"102\": {\"102\": 119, \"109\": 1}, \"73\": {\"73\": 17, \"6\": 1, \"127\": 1, \"106\": 1}, \"38\": {\"38\": 16}, \"4\": {\"4\": 97, \"16\": 1, \"33\": 2}, \"52\": {\"52\": 20}, \"70\": {\"70\": 128}, \"91\": {\"91\": 23, \"42\": 1, \"98\": 1, \"58\": 2, \"34\": 1}, \"77\": {\"77\": 15, \"103\": 1}, \"20\": {\"20\": 16}, \"59\": {\"59\": 12}, \"40\": {\"40\": 133, \"105\": 1, \"109\": 2}, \"98\": {\"98\": 108}, \"46\": {\"46\": 9, \"111\": 1, \"59\": 2}, \"34\": {\"34\": 24, \"52\": 1, \"104\": 2, \"98\": 1, \"72\": 1, \"14\": 1, \"105\": 1, \"53\": 1}, \"24\": {\"24\": 79, \"16\": 1, \"126\": 4, \"88\": 4, \"97\": 1, \"3\": 1, \"108\": 1, \"39\": 1}, \"62\": {\"62\": 113, \"69\": 2, \"26\": 2, \"38\": 1, \"21\": 1, \"109\": 1}, \"14\": {\"14\": 96}, \"12\": {\"12\": 96, \"106\": 2, \"109\": 2, \"71\": 1, \"3\": 1, \"70\": 2}, \"84\": {\"84\": 131, \"107\": 1, \"109\": 1, \"70\": 1}, \"37\": {\"37\": 16}, \"97\": {\"27\": 3, \"97\": 17}, \"57\": {\"57\": 11, \"5\": 1}, \"49\": {\"49\": 17, \"101\": 1, \"9\": 1, \"1\": 1}, \"17\": {\"17\": 14, \"2\": 1, \"70\": 1}, \"109\": {\"109\": 106}, \"80\": {\"80\": 16}, \"66\": {\"66\": 16}, \"101\": {\"101\": 123, \"70\": 1}, \"89\": {\"89\": 34, \"46\": 1, \"1\": 1}, \"31\": {\"89\": 1, \"31\": 15}, \"21\": {\"21\": 38, \"78\": 1, \"95\": 1}, \"23\": {\"23\": 13, \"70\": 1, \"110\": 2, \"44\": 3, \"84\": 2, \"15\": 1, \"94\": 2}, \"25\": {\"25\": 13, \"42\": 1, \"30\": 1, \"45\": 1}, \"107\": {\"107\": 108, \"105\": 2, \"111\": 1, \"94\": 1}, \"3\": {\"3\": 84, \"36\": 1, \"111\": 1, \"88\": 2}, \"61\": {\"61\": 11, \"65\": 1}, \"117\": {\"117\": 125, \"16\": 1}, \"119\": {\"119\": 15, \"35\": 1}, \"58\": {\"58\": 12}, \"47\": {\"47\": 12}, \"116\": {\"116\": 32}, \"18\": {\"18\": 122, \"113\": 1, \"109\": 1}, \"36\": {\"36\": 119, \"109\": 1, \"70\": 1, \"71\": 1}, \"108\": {\"108\": 109, \"126\": 1, \"36\": 2}, \"15\": {\"15\": 101, \"36\": 1, \"94\": 1, \"87\": 1}, \"8\": {\"8\": 114}, \"35\": {\"35\": 12}}, \"Wisig_2\": {\"3\": {\"3\": 128, \"26\": 1, \"61\": 1, \"39\": 1, \"70\": 1}, \"127\": {\"127\": 119, \"21\": 1}, \"58\": {\"58\": 20}, \"114\": {\"114\": 108, \"71\": 2, \"84\": 1, \"7\": 1}, \"111\": {\"111\": 142, \"15\": 1, \"40\": 1}, \"105\": {\"105\": 131, \"122\": 1}, \"118\": {\"21\": 1, \"118\": 65, \"24\": 1, \"62\": 1}, \"23\": {\"60\": 2, \"23\": 25, \"122\": 5, \"8\": 4, \"93\": 3, \"16\": 1, \"126\": 1, \"44\": 1, \"87\": 1, \"43\": 1}, \"21\": {\"21\": 46, \"88\": 1, \"78\": 1}, \"20\": {\"20\": 15, \"21\": 1}, \"75\": {\"75\": 15, \"85\": 1}, \"86\": {\"86\": 32}, \"60\": {\"23\": 1, \"60\": 22, \"126\": 1, \"88\": 1, \"93\": 2, \"81\": 1}, \"69\": {\"69\": 131, \"26\": 1, \"88\": 2, \"33\": 1, \"70\": 1, \"126\": 1, \"39\": 2, \"62\": 1}, \"99\": {\"99\": 31, \"78\": 1}, \"14\": {\"14\": 38, \"81\": 2, \"72\": 2, \"70\": 1, \"78\": 1, \"107\": 1, \"88\": 2, \"40\": 1}, \"25\": {\"25\": 15, \"85\": 1}, \"52\": {\"52\": 20}, \"47\": {\"47\": 11, \"78\": 1}, \"48\": {\"48\": 19, \"87\": 1}, \"27\": {\"27\": 59, \"78\": 1, \"87\": 1, \"24\": 1, \"84\": 1, \"39\": 1, \"85\": 1, \"71\": 1, \"36\": 1, \"62\": 1}, \"78\": {\"78\": 44, \"87\": 1, \"26\": 1, \"70\": 2}, \"8\": {\"8\": 119, \"88\": 1, \"108\": 1, \"11\": 1}, \"90\": {\"90\": 158, \"126\": 1, \"109\": 1}, \"103\": {\"103\": 16}, \"120\": {\"120\": 20}, \"96\": {\"96\": 19, \"93\": 1}, \"30\": {\"30\": 99, \"0\": 2, \"8\": 1, \"33\": 1, \"27\": 1}, \"33\": {\"33\": 146}, \"35\": {\"35\": 12}, \"108\": {\"108\": 116}, \"112\": {\"112\": 16}, \"40\": {\"40\": 130, \"21\": 1, \"88\": 2, \"62\": 1, \"94\": 1, \"70\": 2, \"95\": 1, \"26\": 1, \"18\": 1}, \"102\": {\"102\": 113, \"88\": 1, \"122\": 1, \"70\": 1}, \"56\": {\"56\": 12}, \"93\": {\"93\": 133, \"90\": 1, \"16\": 1, \"39\": 1}, \"68\": {\"68\": 15, \"88\": 1}, \"70\": {\"70\": 115, \"109\": 1, \"88\": 1, \"43\": 1, \"15\": 1, \"78\": 2, \"87\": 2, \"26\": 1}, \"7\": {\"7\": 123, \"109\": 1}, \"87\": {\"87\": 102, \"33\": 1, \"70\": 3, \"109\": 2, \"61\": 1, \"88\": 1, \"40\": 1, \"16\": 1}, \"54\": {\"112\": 1, \"54\": 19}, \"71\": {\"71\": 93, \"3\": 2, \"88\": 1, \"36\": 1, \"39\": 1, \"21\": 1, \"109\": 1}, \"80\": {\"80\": 16}, \"18\": {\"18\": 121, \"26\": 1}, \"101\": {\"101\": 120, \"78\": 1, \"15\": 1}, \"92\": {\"92\": 27, \"71\": 1}, \"32\": {\"32\": 32, \"89\": 1, \"92\": 1, \"74\": 1, \"4\": 1}, \"128\": {\"32\": 1, \"51\": 1, \"128\": 15, \"88\": 1, \"114\": 2, \"77\": 2, \"49\": 2}, \"6\": {\"6\": 32}, \"51\": {\"51\": 17, \"49\": 1, \"9\": 1, \"10\": 1}, \"85\": {\"85\": 29, \"38\": 1, \"25\": 2}, \"46\": {\"46\": 15, \"85\": 1}, \"22\": {\"22\": 20}, \"1\": {\"1\": 117, \"78\": 2, \"26\": 1, \"87\": 1, \"69\": 1}, \"37\": {\"37\": 16}, \"44\": {\"44\": 97, \"109\": 1, \"0\": 1, \"118\": 1}, \"24\": {\"24\": 101, \"78\": 1, \"62\": 1, \"108\": 1, \"88\": 2, \"39\": 3, \"21\": 1, \"109\": 2}, \"9\": {\"9\": 32}, \"116\": {\"116\": 25, \"65\": 2, \"109\": 1}, \"64\": {\"64\": 16}, \"129\": {\"129\": 30, \"5\": 2}, \"42\": {\"47\": 2, \"42\": 22, \"69\": 1, \"46\": 1, \"25\": 1, \"107\": 1}, \"117\": {\"117\": 116, \"111\": 1, \"2\": 2, \"72\": 1}, \"88\": {\"88\": 117, \"21\": 1, \"87\": 2, \"111\": 1, \"70\": 3}, \"31\": {\"31\": 19, \"69\": 1}, \"113\": {\"113\": 71, \"92\": 1}, \"38\": {\"38\": 16}, \"83\": {\"83\": 37, \"61\": 1, \"13\": 1, \"27\": 1}, \"49\": {\"49\": 21, \"44\": 1, \"88\": 1, \"128\": 1}, \"97\": {\"97\": 17, \"15\": 1, \"31\": 1, \"60\": 1}, \"76\": {\"76\": 16}, \"29\": {\"29\": 32}, \"61\": {\"61\": 19, \"1\": 1}, \"125\": {\"125\": 147, \"121\": 1}, \"126\": {\"126\": 118, \"25\": 1, \"26\": 1}, \"55\": {\"55\": 16}, \"0\": {\"0\": 99, \"33\": 1, \"30\": 2, \"8\": 2, \"23\": 2, \"21\": 1, \"44\": 1}, \"15\": {\"15\": 113, \"3\": 1, \"40\": 1, \"88\": 1, \"106\": 4}, \"26\": {\"26\": 136, \"40\": 1, \"0\": 1}, \"63\": {\"63\": 20}, \"57\": {\"57\": 20}, \"39\": {\"39\": 101, \"27\": 1, \"109\": 9, \"87\": 1}, \"62\": {\"62\": 135, \"39\": 1, \"70\": 1, \"81\": 1, \"88\": 1, \"102\": 1}, \"82\": {\"82\": 34, \"21\": 1, \"53\": 1}, \"11\": {\"11\": 77, \"118\": 1, \"39\": 1, \"108\": 1}, \"4\": {\"4\": 87, \"61\": 1}, \"41\": {\"41\": 19, \"59\": 1}, \"72\": {\"72\": 27, \"14\": 1}, \"16\": {\"16\": 120, \"3\": 1, \"93\": 2, \"39\": 1}, \"81\": {\"81\": 22, \"14\": 1, \"0\": 1}, \"67\": {\"67\": 14, \"22\": 1, \"31\": 1}, \"123\": {\"123\": 16}, \"66\": {\"66\": 19, \"86\": 1}, \"36\": {\"36\": 113, \"1\": 1, \"70\": 1, \"78\": 1, \"94\": 4, \"39\": 1, \"18\": 1, \"101\": 1, \"21\": 1, \"49\": 1, \"27\": 2, \"69\": 1}, \"115\": {\"115\": 11, \"21\": 1}, \"77\": {\"77\": 15, \"91\": 1}, \"119\": {\"119\": 20}, \"65\": {\"65\": 19, \"49\": 1}, \"34\": {\"14\": 2, \"34\": 23, \"75\": 1, \"32\": 1, \"107\": 2, \"52\": 2, \"98\": 1}, \"107\": {\"107\": 61, \"71\": 1, \"70\": 1, \"61\": 1}, \"13\": {\"13\": 16}, \"110\": {\"25\": 1, \"110\": 29, \"0\": 1, \"127\": 1, \"8\": 3, \"122\": 2, \"15\": 1, \"105\": 2}, \"106\": {\"106\": 114, \"88\": 1, \"98\": 1, \"114\": 1, \"39\": 1}, \"89\": {\"89\": 36}, \"94\": {\"94\": 50, \"40\": 1, \"14\": 1, \"21\": 2, \"27\": 2, \"88\": 2, \"107\": 1, \"71\": 1, \"126\": 1, \"36\": 3}, \"98\": {\"98\": 107, \"121\": 1, \"26\": 1, \"44\": 1, \"21\": 1, \"49\": 1}, \"91\": {\"91\": 25, \"25\": 1, \"68\": 1, \"101\": 1}, \"84\": {\"84\": 91, \"88\": 1}, \"73\": {\"84\": 1, \"73\": 27}, \"104\": {\"104\": 17, \"52\": 1, \"46\": 1, \"126\": 1}, \"59\": {\"59\": 14, \"41\": 2}, \"74\": {\"74\": 16}, \"28\": {\"28\": 19, \"61\": 1}, \"95\": {\"95\": 35, \"105\": 1}, \"2\": {\"2\": 28, \"115\": 1, \"117\": 3}, \"5\": {\"5\": 109, \"107\": 1, \"88\": 2}, \"50\": {\"50\": 15, \"69\": 1}, \"109\": {\"109\": 90, \"87\": 1, \"70\": 2, \"34\": 1, \"26\": 1, \"39\": 4, \"106\": 1}, \"10\": {\"10\": 57, \"78\": 1, \"26\": 1, \"105\": 1}, \"45\": {\"45\": 14, \"87\": 1, \"21\": 1}, \"121\": {\"89\": 4, \"121\": 30, \"65\": 1, \"119\": 1}, \"124\": {\"124\": 109, \"129\": 1}, \"53\": {\"55\": 1, \"53\": 13, \"52\": 1, \"126\": 1}, \"79\": {\"79\": 16}, \"43\": {\"43\": 110, \"26\": 1, \"87\": 1, \"15\": 1, \"16\": 1}, \"122\": {\"122\": 131, \"88\": 3, \"21\": 1, \"0\": 1, \"39\": 1, \"8\": 1}, \"100\": {\"100\": 15, \"83\": 1}, \"19\": {\"19\": 28}, \"12\": {\"12\": 81, \"106\": 1, \"88\": 2, \"127\": 2, \"70\": 2}, \"17\": {\"17\": 15, \"24\": 1}}, \"Wisig_3\": {\"38\": {\"38\": 16}, \"88\": {\"88\": 107, \"70\": 4, \"33\": 1}, \"104\": {\"104\": 16}, \"11\": {\"11\": 139, \"70\": 1}, \"103\": {\"103\": 15, \"34\": 1}, \"124\": {\"124\": 115, \"90\": 1}, \"3\": {\"3\": 112, \"101\": 1, \"33\": 1, \"27\": 1, \"11\": 1}, \"74\": {\"74\": 15, \"25\": 1}, \"126\": {\"126\": 120, \"107\": 1, \"33\": 1}, \"123\": {\"123\": 16}, \"51\": {\"51\": 16}, \"14\": {\"14\": 80}, \"16\": {\"16\": 112, \"93\": 1, \"110\": 1, \"26\": 1, \"114\": 1}, \"22\": {\"22\": 16}, \"109\": {\"109\": 122}, \"27\": {\"27\": 91, \"36\": 4, \"111\": 1}, \"75\": {\"75\": 16}, \"66\": {\"66\": 16}, \"48\": {\"48\": 8, \"86\": 2, \"76\": 2, \"85\": 1, \"30\": 1, \"116\": 1, \"77\": 1}, \"6\": {\"6\": 29, \"125\": 1, \"111\": 1, \"58\": 1}, \"10\": {\"10\": 110, \"16\": 1, \"88\": 1}, \"99\": {\"99\": 35, \"54\": 1}, \"50\": {\"50\": 16}, \"54\": {\"54\": 16}, \"55\": {\"55\": 16}, \"53\": {\"53\": 17, \"85\": 1, \"20\": 2}, \"72\": {\"72\": 27, \"101\": 1}, \"64\": {\"64\": 20}, \"115\": {\"23\": 1, \"115\": 15}, \"23\": {\"23\": 25, \"93\": 2, \"110\": 1, \"8\": 2, \"70\": 1, \"122\": 1}, \"32\": {\"32\": 28, \"57\": 1, \"128\": 2, \"66\": 1}, \"15\": {\"15\": 101, \"88\": 1, \"84\": 1, \"54\": 1}, \"43\": {\"43\": 53, \"21\": 2, \"26\": 1}, \"114\": {\"114\": 121, \"26\": 1, \"111\": 1, \"16\": 1}, \"121\": {\"121\": 30, \"80\": 1, \"64\": 1}, \"79\": {\"79\": 12}, \"81\": {\"81\": 32}, \"8\": {\"8\": 125, \"108\": 2, \"15\": 1}, \"13\": {\"121\": 1, \"13\": 8, \"112\": 1, \"115\": 1, \"29\": 1, \"77\": 1, \"45\": 1, \"124\": 1, \"39\": 1}, \"90\": {\"90\": 156}, \"41\": {\"81\": 1, \"41\": 14, \"66\": 1}, \"107\": {\"107\": 135, \"34\": 1}, \"57\": {\"57\": 19, \"104\": 1}, \"33\": {\"33\": 119, \"116\": 1}, \"35\": {\"35\": 12}, \"29\": {\"29\": 32}, \"70\": {\"70\": 68, \"88\": 4}, \"42\": {\"70\": 1, \"42\": 26, \"84\": 1}, \"93\": {\"93\": 125, \"16\": 1}, \"86\": {\"86\": 28}, \"28\": {\"28\": 16}, \"1\": {\"1\": 105, \"26\": 1, \"101\": 1, \"125\": 1}, \"125\": {\"125\": 121, \"44\": 1, \"12\": 1, \"29\": 1}, \"69\": {\"69\": 81, \"26\": 1, \"84\": 1, \"70\": 1}, \"97\": {\"97\": 18, \"106\": 1, \"81\": 1}, \"117\": {\"117\": 112}, \"68\": {\"68\": 16}, \"30\": {\"30\": 81, \"88\": 1, \"3\": 1, \"70\": 1}, \"111\": {\"111\": 132}, \"47\": {\"47\": 12}, \"102\": {\"102\": 124}, \"65\": {\"65\": 12}, \"113\": {\"113\": 117, \"16\": 1, \"70\": 1, \"126\": 1}, \"36\": {\"36\": 109, \"24\": 1, \"70\": 1, \"27\": 3}, \"119\": {\"119\": 16}, \"46\": {\"46\": 14, \"19\": 2}, \"49\": {\"49\": 21, \"26\": 1, \"46\": 1, \"33\": 1}, \"0\": {\"0\": 115, \"88\": 1}, \"58\": {\"58\": 15, \"15\": 1}, \"63\": {\"63\": 16}, \"94\": {\"94\": 83, \"97\": 1}, \"17\": {\"22\": 1, \"23\": 1, \"39\": 2, \"17\": 5, \"36\": 1, \"5\": 1, \"86\": 4, \"67\": 1}, \"9\": {\"9\": 31, \"85\": 1}, \"87\": {\"87\": 120}, \"59\": {\"59\": 11, \"51\": 1}, \"105\": {\"105\": 120}, \"80\": {\"80\": 15, \"103\": 1}, \"120\": {\"120\": 17, \"92\": 2, \"81\": 1}, \"18\": {\"18\": 129, \"124\": 1, \"127\": 1, \"90\": 1}, \"78\": {\"78\": 14, \"21\": 1, \"10\": 1}, \"25\": {\"25\": 16}, \"19\": {\"19\": 32}, \"122\": {\"122\": 56, \"113\": 1, \"120\": 1, \"18\": 1, \"88\": 1}, \"39\": {\"39\": 108}, \"76\": {\"76\": 16}, \"89\": {\"89\": 28}, \"129\": {\"129\": 32}, \"26\": {\"26\": 98, \"88\": 1, \"70\": 1}, \"85\": {\"85\": 36}, \"71\": {\"47\": 1, \"71\": 66, \"88\": 1}, \"77\": {\"77\": 16}, \"128\": {\"128\": 29, \"32\": 1, \"19\": 2}, \"2\": {\"2\": 27, \"117\": 1}, \"56\": {\"72\": 1, \"56\": 11}, \"24\": {\"24\": 48}, \"101\": {\"26\": 2, \"101\": 47, \"16\": 1, \"9\": 1, \"127\": 1}, \"52\": {\"52\": 16}, \"84\": {\"84\": 107, \"39\": 1}, \"7\": {\"7\": 109, \"39\": 1, \"33\": 1, \"98\": 1}, \"82\": {\"82\": 28}, \"60\": {\"60\": 28}, \"45\": {\"40\": 1, \"45\": 12, \"18\": 1, \"115\": 1, \"84\": 1}, \"40\": {\"40\": 124}, \"20\": {\"20\": 16}, \"4\": {\"4\": 96}, \"116\": {\"116\": 28}, \"61\": {\"61\": 16}, \"5\": {\"5\": 110, \"70\": 1, \"39\": 1}, \"106\": {\"106\": 99, \"88\": 1}, \"12\": {\"12\": 104}, \"62\": {\"62\": 118, \"81\": 1, \"33\": 1}, \"34\": {\"34\": 31, \"99\": 1}, \"91\": {\"91\": 23, \"103\": 1}, \"112\": {\"112\": 14, \"101\": 1, \"83\": 1}, \"92\": {\"92\": 32}, \"95\": {\"95\": 32}, \"96\": {\"96\": 20}, \"127\": {\"127\": 104, \"26\": 2, \"88\": 1, \"33\": 1}, \"67\": {\"67\": 15, \"36\": 1}, \"83\": {\"83\": 24}, \"21\": {\"78\": 3, \"21\": 41, \"106\": 1, \"84\": 1, \"12\": 1, \"94\": 1}, \"98\": {\"98\": 123, \"44\": 1}, \"108\": {\"108\": 130, \"8\": 2}, \"31\": {\"42\": 2, \"31\": 17, \"116\": 1}, \"118\": {\"118\": 100}, \"110\": {\"110\": 92}, \"73\": {\"73\": 40}, \"44\": {\"44\": 69, \"90\": 1, \"117\": 2}, \"37\": {\"37\": 15, \"45\": 1}, \"100\": {\"100\": 16}}, \"ORACLE.run126\": {\"0\": {\"0\": 60, \"14\": 47, \"15\": 16, \"8\": 16, \"10\": 53, \"2\": 16, \"6\": 16, \"1\": 3, \"5\": 5, \"12\": 3, \"9\": 3, \"7\": 2}, \"4\": {\"4\": 178, \"3\": 29, \"13\": 21, \"12\": 3, \"7\": 3, \"8\": 3, \"9\": 3}, \"14\": {\"14\": 63, \"10\": 55, \"1\": 43, \"0\": 36, \"15\": 15, \"6\": 18, \"5\": 5, \"2\": 2, \"7\": 2, \"8\": 1}, \"12\": {\"9\": 50, \"2\": 23, \"12\": 72, \"3\": 23, \"13\": 25, \"8\": 27, \"0\": 5, \"7\": 15}, \"8\": {\"13\": 6, \"8\": 57, \"0\": 16, \"9\": 21, \"7\": 57, \"2\": 39, \"12\": 24, \"3\": 14, \"14\": 5, \"10\": 1}, \"7\": {\"7\": 68, \"8\": 56, \"2\": 23, \"3\": 28, \"12\": 17, \"13\": 5, \"0\": 8, \"9\": 30, \"14\": 4, \"4\": 1}, \"13\": {\"13\": 119, \"3\": 30, \"9\": 42, \"12\": 21, \"7\": 6, \"2\": 11, \"4\": 7, \"8\": 4}, \"5\": {\"11\": 37, \"15\": 52, \"6\": 37, \"5\": 85, \"1\": 12, \"10\": 8, \"0\": 4, \"14\": 4, \"2\": 1}, \"15\": {\"1\": 21, \"15\": 45, \"5\": 55, \"10\": 30, \"6\": 49, \"14\": 17, \"11\": 15, \"0\": 5, \"9\": 1, \"2\": 2}, \"10\": {\"15\": 29, \"10\": 45, \"14\": 53, \"1\": 23, \"0\": 45, \"5\": 11, \"6\": 33, \"8\": 1}, \"3\": {\"2\": 15, \"8\": 19, \"13\": 33, \"3\": 79, \"7\": 45, \"9\": 27, \"4\": 8, \"12\": 13, \"0\": 1}, \"9\": {\"3\": 19, \"9\": 49, \"13\": 43, \"7\": 35, \"12\": 37, \"8\": 23, \"2\": 28, \"0\": 6}, \"6\": {\"15\": 54, \"10\": 26, \"6\": 61, \"14\": 25, \"1\": 20, \"5\": 37, \"11\": 11, \"0\": 6}, \"1\": {\"10\": 29, \"15\": 8, \"14\": 42, \"0\": 10, \"1\": 106, \"5\": 10, \"6\": 34, \"11\": 1}, \"11\": {\"11\": 159, \"5\": 51, \"15\": 18, \"6\": 11, \"10\": 1}, \"2\": {\"8\": 38, \"9\": 35, \"7\": 38, \"0\": 8, \"2\": 62, \"13\": 19, \"12\": 22, \"10\": 3, \"3\": 10, \"5\": 2, \"15\": 2, \"14\": 1}}, \"ORACLE.run144\": {\"1\": {\"1\": 149, \"2\": 44, \"8\": 8, \"5\": 2, \"9\": 2, \"0\": 15, \"15\": 9, \"10\": 6, \"14\": 4, \"4\": 1}, \"11\": {\"11\": 228, \"13\": 11, \"9\": 1}, \"3\": {\"3\": 130, \"12\": 101, \"0\": 6, \"1\": 3}, \"6\": {\"9\": 27, \"13\": 82, \"6\": 109, \"4\": 6, \"7\": 13, \"14\": 1, \"10\": 2}, \"7\": {\"9\": 54, \"4\": 30, \"7\": 65, \"14\": 18, \"10\": 45, \"6\": 10, \"2\": 2, \"5\": 13, \"15\": 1, \"13\": 2}, \"5\": {\"7\": 12, \"4\": 48, \"14\": 65, \"5\": 65, \"8\": 7, \"10\": 15, \"9\": 4, \"15\": 22, \"0\": 1, \"2\": 1}, \"2\": {\"2\": 137, \"10\": 28, \"5\": 1, \"1\": 34, \"7\": 12, \"4\": 10, \"14\": 11, \"9\": 5, \"15\": 2}, \"15\": {\"5\": 36, \"15\": 69, \"8\": 61, \"1\": 10, \"0\": 19, \"4\": 15, \"14\": 20, \"9\": 2, \"2\": 3, \"10\": 4, \"7\": 1}, \"10\": {\"7\": 47, \"14\": 21, \"10\": 60, \"2\": 19, \"4\": 34, \"9\": 28, \"5\": 19, \"6\": 7, \"15\": 1, \"1\": 3, \"0\": 1}, \"13\": {\"13\": 117, \"6\": 73, \"4\": 10, \"11\": 12, \"9\": 26, \"10\": 1, \"7\": 1}, \"8\": {\"15\": 60, \"0\": 55, \"8\": 98, \"5\": 9, \"1\": 7, \"14\": 10, \"4\": 1}, \"4\": {\"7\": 18, \"9\": 31, \"15\": 14, \"4\": 43, \"14\": 40, \"5\": 41, \"8\": 4, \"10\": 34, \"2\": 7, \"6\": 4, \"1\": 3, \"0\": 1}, \"9\": {\"7\": 37, \"10\": 37, \"4\": 23, \"6\": 35, \"9\": 40, \"13\": 43, \"14\": 11, \"1\": 1, \"5\": 7, \"2\": 6}, \"14\": {\"9\": 14, \"14\": 67, \"5\": 55, \"4\": 42, \"7\": 15, \"10\": 26, \"15\": 15, \"8\": 4, \"2\": 2}, \"0\": {\"8\": 65, \"0\": 122, \"1\": 28, \"15\": 23, \"5\": 1, \"2\": 1}, \"12\": {\"3\": 104, \"12\": 134, \"1\": 1, \"2\": 1}}, \"ORACLE.run150\": {\"15\": {\"15\": 72, \"6\": 50, \"9\": 36, \"5\": 46, \"12\": 3, \"3\": 13, \"4\": 2, \"11\": 16, \"7\": 1, \"13\": 1}, \"4\": {\"7\": 102, \"4\": 83, \"5\": 34, \"3\": 4, \"15\": 12, \"6\": 3, \"9\": 1, \"11\": 1}, \"6\": {\"15\": 62, \"6\": 56, \"11\": 17, \"9\": 27, \"5\": 28, \"4\": 6, \"12\": 8, \"3\": 35, \"7\": 1}, \"2\": {\"2\": 112, \"0\": 61, \"14\": 59, \"10\": 8}, \"5\": {\"7\": 40, \"13\": 9, \"5\": 55, \"4\": 36, \"6\": 33, \"15\": 22, \"11\": 10, \"3\": 14, \"9\": 21}, \"9\": {\"9\": 101, \"11\": 29, \"6\": 23, \"15\": 28, \"3\": 16, \"12\": 34, \"5\": 7, \"4\": 2}, \"8\": {\"8\": 130, \"10\": 35, \"1\": 48, \"13\": 18, \"0\": 7, \"12\": 1, \"3\": 1}, \"12\": {\"12\": 150, \"9\": 39, \"3\": 9, \"11\": 30, \"5\": 4, \"8\": 2, \"1\": 2, \"6\": 2, \"13\": 1, \"15\": 1}, \"10\": {\"8\": 36, \"1\": 28, \"0\": 33, \"10\": 130, \"14\": 5, \"2\": 5, \"13\": 3}, \"1\": {\"1\": 113, \"13\": 57, \"8\": 43, \"10\": 14, \"11\": 10, \"12\": 1, \"0\": 2}, \"0\": {\"14\": 42, \"0\": 97, \"10\": 39, \"2\": 58, \"8\": 3, \"1\": 1}, \"3\": {\"3\": 105, \"15\": 16, \"12\": 18, \"13\": 7, \"6\": 37, \"5\": 31, \"11\": 10, \"9\": 11, \"8\": 1, \"7\": 2, \"4\": 2}, \"13\": {\"1\": 42, \"13\": 124, \"9\": 2, \"6\": 3, \"3\": 7, \"11\": 35, \"8\": 20, \"15\": 4, \"5\": 2, \"12\": 1}, \"11\": {\"6\": 21, \"13\": 28, \"11\": 74, \"9\": 35, \"1\": 5, \"5\": 6, \"15\": 33, \"12\": 29, \"3\": 7, \"8\": 2}, \"7\": {\"7\": 115, \"9\": 2, \"4\": 72, \"5\": 33, \"15\": 5, \"3\": 5, \"6\": 8}, \"14\": {\"14\": 104, \"2\": 62, \"0\": 62, \"10\": 12}}, \"ORACLE.run138\": {\"15\": {\"15\": 147, \"8\": 24, \"9\": 10, \"5\": 31, \"1\": 17, \"6\": 8, \"12\": 3}, \"11\": {\"11\": 224, \"3\": 16}, \"10\": {\"13\": 29, \"0\": 64, \"10\": 129, \"4\": 8, \"2\": 1, \"11\": 4, \"3\": 4, \"14\": 1}, \"14\": {\"7\": 49, \"0\": 14, \"2\": 33, \"14\": 115, \"13\": 5, \"4\": 15, \"8\": 2, \"10\": 4, \"9\": 1, \"5\": 2}, \"6\": {\"1\": 107, \"6\": 127, \"15\": 6}, \"4\": {\"4\": 206, \"14\": 13, \"10\": 18, \"0\": 1, \"7\": 2}, \"13\": {\"13\": 114, \"2\": 27, \"10\": 26, \"0\": 59, \"14\": 6, \"7\": 7, \"9\": 1}, \"3\": {\"3\": 226, \"11\": 9, \"10\": 4, \"0\": 1}, \"7\": {\"7\": 106, \"2\": 44, \"8\": 16, \"14\": 41, \"0\": 7, \"4\": 5, \"13\": 5, \"9\": 5, \"5\": 8, \"12\": 2, \"10\": 1}, \"8\": {\"8\": 58, \"2\": 44, \"9\": 13, \"5\": 56, \"14\": 11, \"12\": 11, \"15\": 19, \"13\": 5, \"7\": 23}, \"1\": {\"1\": 130, \"15\": 7, \"6\": 103}, \"5\": {\"15\": 22, \"9\": 37, \"7\": 20, \"12\": 7, \"5\": 58, \"8\": 74, \"14\": 6, \"2\": 15, \"13\": 1}, \"0\": {\"10\": 60, \"2\": 10, \"13\": 50, \"7\": 23, \"0\": 74, \"14\": 8, \"9\": 1, \"3\": 9, \"4\": 3, \"8\": 1, \"5\": 1}, \"2\": {\"2\": 110, \"7\": 42, \"9\": 26, \"8\": 7, \"0\": 8, \"14\": 25, \"5\": 12, \"13\": 10}, \"12\": {\"12\": 208, \"5\": 11, \"8\": 18, \"4\": 1, \"14\": 1, \"15\": 1}, \"9\": {\"9\": 161, \"8\": 27, \"15\": 3, \"2\": 12, \"5\": 30, \"0\": 1, \"13\": 1, \"7\": 5}}, \"ORACLE.run120\": {\"10\": {\"4\": 55, \"6\": 29, \"10\": 117, \"2\": 11, \"7\": 5, \"15\": 5, \"13\": 10, \"14\": 2, \"12\": 6}, \"7\": {\"15\": 23, \"7\": 42, \"12\": 32, \"5\": 12, \"2\": 29, \"6\": 26, \"4\": 11, \"13\": 13, \"9\": 21, \"1\": 16, \"8\": 3, \"14\": 3, \"3\": 9}, \"4\": {\"4\": 79, \"6\": 43, \"7\": 16, \"2\": 25, \"10\": 23, \"12\": 23, \"15\": 9, \"1\": 5, \"13\": 5, \"3\": 1, \"8\": 1, \"5\": 1, \"9\": 8, \"14\": 1}, \"13\": {\"12\": 38, \"13\": 84, \"4\": 10, \"2\": 38, \"15\": 39, \"9\": 4, \"1\": 5, \"7\": 15, \"6\": 5, \"10\": 2}, \"1\": {\"9\": 32, \"1\": 44, \"15\": 20, \"3\": 25, \"14\": 6, \"5\": 34, \"13\": 9, \"12\": 17, \"6\": 9, \"2\": 11, \"7\": 24, \"8\": 6, \"4\": 3}, \"0\": {\"14\": 13, \"1\": 6, \"11\": 64, \"8\": 26, \"0\": 115, \"5\": 7, \"3\": 5, \"7\": 2, \"9\": 1, \"13\": 1}, \"12\": {\"12\": 43, \"9\": 23, \"15\": 29, \"14\": 2, \"2\": 29, \"13\": 26, \"1\": 9, \"4\": 26, \"7\": 24, \"6\": 24, \"10\": 3, \"5\": 1, \"3\": 1}, \"5\": {\"6\": 8, \"12\": 8, \"3\": 37, \"8\": 22, \"5\": 39, \"9\": 29, \"1\": 45, \"7\": 16, \"14\": 18, \"15\": 7, \"13\": 2, \"2\": 7, \"0\": 2}, \"6\": {\"6\": 64, \"14\": 20, \"2\": 21, \"1\": 10, \"4\": 36, \"9\": 10, \"15\": 10, \"7\": 30, \"5\": 10, \"3\": 5, \"10\": 4, \"12\": 13, \"13\": 4, \"8\": 3}, \"2\": {\"6\": 19, \"12\": 36, \"9\": 13, \"15\": 42, \"13\": 24, \"2\": 39, \"7\": 26, \"1\": 15, \"4\": 18, \"5\": 3, \"3\": 4, \"10\": 1}, \"8\": {\"0\": 15, \"6\": 7, \"8\": 52, \"1\": 16, \"9\": 14, \"14\": 65, \"5\": 29, \"3\": 35, \"2\": 4, \"7\": 2, \"15\": 1}, \"11\": {\"11\": 141, \"0\": 79, \"8\": 12, \"1\": 1, \"5\": 1, \"3\": 5, \"7\": 1}, \"9\": {\"15\": 24, \"1\": 33, \"9\": 40, \"2\": 20, \"7\": 28, \"13\": 5, \"5\": 29, \"3\": 23, \"8\": 4, \"4\": 4, \"6\": 14, \"14\": 3, \"12\": 12, \"10\": 1}, \"14\": {\"8\": 56, \"3\": 29, \"14\": 95, \"2\": 2, \"6\": 17, \"1\": 10, \"7\": 4, \"5\": 14, \"9\": 8, \"0\": 2, \"4\": 3}, \"15\": {\"13\": 39, \"15\": 37, \"12\": 37, \"9\": 21, \"2\": 40, \"1\": 12, \"6\": 9, \"5\": 12, \"7\": 20, \"4\": 10, \"14\": 1, \"3\": 2}, \"3\": {\"3\": 48, \"1\": 28, \"9\": 23, \"14\": 23, \"7\": 19, \"5\": 39, \"8\": 29, \"6\": 10, \"12\": 3, \"0\": 3, \"15\": 7, \"13\": 1, \"2\": 6, \"11\": 1}}, \"ORACLE.run114\": {\"14\": {\"14\": 73, \"13\": 36, \"2\": 41, \"6\": 31, \"0\": 29, \"12\": 1, \"5\": 10, \"7\": 6, \"3\": 13}, \"0\": {\"13\": 13, \"2\": 20, \"5\": 39, \"0\": 47, \"14\": 34, \"3\": 31, \"8\": 6, \"12\": 22, \"7\": 19, \"4\": 2, \"6\": 6, \"10\": 1}, \"4\": {\"10\": 53, \"4\": 132, \"12\": 11, \"9\": 6, \"5\": 19, \"0\": 4, \"2\": 9, \"13\": 2, \"14\": 1, \"1\": 2, \"8\": 1}, \"11\": {\"11\": 238, \"1\": 2}, \"13\": {\"13\": 62, \"14\": 33, \"5\": 12, \"3\": 19, \"6\": 60, \"2\": 16, \"15\": 21, \"0\": 14, \"4\": 1, \"7\": 1, \"10\": 1}, \"9\": {\"9\": 147, \"4\": 6, \"1\": 59, \"10\": 28}, \"3\": {\"13\": 29, \"3\": 87, \"0\": 41, \"14\": 22, \"12\": 2, \"7\": 16, \"6\": 25, \"2\": 8, \"5\": 7, \"8\": 3}, \"6\": {\"13\": 74, \"3\": 25, \"6\": 85, \"14\": 35, \"2\": 12, \"0\": 8, \"5\": 1}, \"1\": {\"1\": 147, \"9\": 68, \"4\": 7, \"10\": 18}, \"5\": {\"5\": 88, \"4\": 11, \"7\": 27, \"0\": 20, \"2\": 41, \"14\": 14, \"3\": 3, \"12\": 16, \"8\": 14, \"13\": 5, \"6\": 1}, \"12\": {\"12\": 132, \"8\": 62, \"5\": 27, \"4\": 4, \"7\": 3, \"0\": 12}, \"10\": {\"10\": 132, \"9\": 24, \"4\": 61, \"5\": 4, \"1\": 9, \"12\": 2, \"14\": 3, \"2\": 2, \"0\": 1, \"7\": 1, \"13\": 1}, \"8\": {\"7\": 29, \"12\": 53, \"8\": 140, \"5\": 12, \"0\": 5, \"4\": 1}, \"7\": {\"7\": 101, \"5\": 42, \"8\": 26, \"2\": 10, \"12\": 8, \"6\": 5, \"3\": 18, \"0\": 19, \"14\": 9, \"4\": 1, \"13\": 1}, \"15\": {\"15\": 240}, \"2\": {\"13\": 19, \"5\": 33, \"3\": 18, \"6\": 22, \"14\": 45, \"0\": 21, \"4\": 18, \"7\": 8, \"2\": 48, \"12\": 7, \"8\": 1}}, \"ORACLE.run132\": {\"11\": {\"9\": 37, \"11\": 153, \"13\": 21, \"2\": 3, \"6\": 1, \"12\": 14, \"3\": 11}, \"1\": {\"1\": 201, \"4\": 4, \"2\": 14, \"0\": 4, \"8\": 8, \"14\": 4, \"5\": 1, \"9\": 2, \"7\": 2}, \"2\": {\"2\": 105, \"14\": 31, \"4\": 64, \"8\": 11, \"0\": 6, \"3\": 8, \"9\": 7, \"1\": 5, \"13\": 3}, \"0\": {\"7\": 40, \"8\": 48, \"14\": 39, \"0\": 66, \"5\": 39, \"15\": 3, \"2\": 5}, \"3\": {\"3\": 128, \"8\": 4, \"13\": 71, \"4\": 26, \"2\": 5, \"9\": 5, \"0\": 1}, \"8\": {\"0\": 57, \"3\": 9, \"8\": 76, \"15\": 19, \"14\": 17, \"5\": 25, \"7\": 22, \"13\": 2, \"4\": 7, \"2\": 4, \"1\": 2}, \"12\": {\"12\": 141, \"9\": 40, \"13\": 7, \"10\": 29, \"11\": 20, \"3\": 1, \"6\": 2}, \"5\": {\"0\": 61, \"7\": 42, \"8\": 39, \"5\": 75, \"14\": 14, \"15\": 7, \"2\": 2}, \"15\": {\"15\": 223, \"5\": 5, \"0\": 4, \"8\": 8}, \"7\": {\"7\": 75, \"5\": 49, \"0\": 49, \"14\": 40, \"2\": 5, \"8\": 22}, \"4\": {\"4\": 77, \"13\": 41, \"2\": 53, \"3\": 44, \"14\": 6, \"9\": 10, \"1\": 2, \"7\": 1, \"8\": 3, \"0\": 3}, \"14\": {\"0\": 51, \"2\": 30, \"14\": 66, \"8\": 18, \"7\": 50, \"4\": 7, \"15\": 1, \"5\": 15, \"1\": 2}, \"10\": {\"10\": 164, \"9\": 5, \"12\": 67, \"6\": 4}, \"6\": {\"6\": 224, \"10\": 14, \"11\": 1, \"12\": 1}, \"13\": {\"13\": 84, \"3\": 72, \"8\": 1, \"4\": 40, \"9\": 26, \"11\": 5, \"2\": 10, \"12\": 2}, \"9\": {\"12\": 31, \"11\": 35, \"13\": 28, \"3\": 18, \"9\": 82, \"2\": 19, \"10\": 2, \"1\": 3, \"4\": 21, \"6\": 1}}, \"ORACLE.run18\": {\"9\": {\"9\": 233, \"3\": 7}, \"11\": {\"8\": 48, \"11\": 48, \"14\": 5, \"6\": 37, \"7\": 17, \"1\": 41, \"4\": 28, \"5\": 7, \"10\": 8, \"13\": 1}, \"8\": {\"8\": 97, \"4\": 28, \"11\": 59, \"1\": 18, \"7\": 5, \"10\": 3, \"14\": 15, \"6\": 14, \"13\": 1}, \"4\": {\"4\": 95, \"6\": 21, \"8\": 29, \"10\": 10, \"14\": 44, \"1\": 11, \"5\": 2, \"11\": 23, \"7\": 5}, \"13\": {\"13\": 63, \"10\": 47, \"5\": 44, \"6\": 21, \"7\": 40, \"1\": 23, \"11\": 1, \"12\": 1}, \"14\": {\"14\": 121, \"8\": 30, \"4\": 69, \"11\": 12, \"1\": 3, \"7\": 2, \"0\": 1, \"6\": 1, \"13\": 1}, \"2\": {\"3\": 39, \"2\": 133, \"12\": 26, \"15\": 38, \"5\": 2, \"7\": 1, \"13\": 1}, \"3\": {\"3\": 207, \"2\": 27, \"15\": 3, \"9\": 3}, \"1\": {\"1\": 54, \"7\": 30, \"5\": 18, \"6\": 46, \"11\": 41, \"13\": 17, \"8\": 12, \"10\": 17, \"4\": 4, \"14\": 1}, \"0\": {\"0\": 238, \"14\": 2}, \"5\": {\"5\": 55, \"7\": 31, \"1\": 34, \"6\": 22, \"13\": 39, \"10\": 35, \"12\": 5, \"11\": 12, \"14\": 3, \"8\": 2, \"4\": 2}, \"15\": {\"12\": 87, \"15\": 109, \"2\": 44}, \"10\": {\"7\": 45, \"1\": 24, \"6\": 37, \"10\": 44, \"4\": 5, \"13\": 34, \"5\": 40, \"11\": 11}, \"12\": {\"15\": 107, \"12\": 112, \"2\": 21}, \"6\": {\"6\": 47, \"11\": 19, \"10\": 44, \"4\": 14, \"1\": 32, \"5\": 11, \"7\": 54, \"8\": 8, \"13\": 11}, \"7\": {\"13\": 25, \"7\": 52, \"10\": 43, \"1\": 31, \"11\": 16, \"6\": 46, \"4\": 3, \"5\": 21, \"8\": 3}}}, \"per_domain_accuracy\": {\"Wisig_4\": {\"accuracy\": 0.9531893004115226, \"source?\": true}, \"Wisig_1\": {\"accuracy\": 0.9695444915254238, \"source?\": true}, \"Wisig_2\": {\"accuracy\": 0.9482217573221757, \"source?\": true}, \"Wisig_3\": {\"accuracy\": 0.9731168122270742, \"source?\": true}, \"ORACLE.run126\": {\"accuracy\": 0.340625, \"source?\": false}, \"ORACLE.run144\": {\"accuracy\": 0.42526041666666664, \"source?\": false}, \"ORACLE.run150\": {\"accuracy\": 0.42213541666666665, \"source?\": false}, \"ORACLE.run138\": {\"accuracy\": 0.57109375, \"source?\": false}, \"ORACLE.run120\": {\"accuracy\": 0.28098958333333335, \"source?\": false}, \"ORACLE.run114\": {\"accuracy\": 0.49453125, \"source?\": false}, \"ORACLE.run132\": {\"accuracy\": 0.5052083333333334, \"source?\": false}, \"ORACLE.run18\": {\"accuracy\": 0.44479166666666664, \"source?\": false}}}, \"history\": {\"epoch_indices\": [1, 2, 3, 4, 5], \"train_label_loss\": [0.1962647166669925, 0.13369584238296042, 0.11308006432346734, 0.1032322733256974, 0.09653497517056753], \"source_val_label_loss\": [0.17740674316883087, 0.14567171037197113, 0.12279631942510605, 0.11764360964298248, 0.10939650982618332], \"target_val_label_loss\": [2.5779383182525635, 2.499258041381836, 2.5399973392486572, 2.5388646125793457, 2.4986281394958496], \"source_val_acc_label\": [0.9608302534318902, 0.9685520063357973, 0.9721158922914467, 0.9724458817317846, 0.9736008447729673], \"target_val_acc_label\": [0.43557942708333336, 0.40237630208333336, 0.37763671875, 0.34983723958333335, 0.3362630208333333]}, \"dataset_metrics\": {\"source\": {\"train\": {\"n_unique_x\": 189042, \"n_unique_y\": 130, \"n_batch/episode\": 6851}, \"val\": {\"n_unique_x\": 40070, \"n_unique_y\": 130, \"n_batch/episode\": 947}, \"test\": {\"n_unique_x\": 40812, \"n_unique_y\": 130, \"n_batch/episode\": 969}}, \"target\": {\"train\": {\"n_unique_x\": 179200, \"n_unique_y\": 16, \"n_batch/episode\": 6720}, \"val\": {\"n_unique_x\": 38400, \"n_unique_y\": 16, \"n_batch/episode\": 960}, \"test\": {\"n_unique_x\": 38400, \"n_unique_y\": 16, \"n_batch/episode\": 960}}}}'"
      ]
     },
     "execution_count": 29,
     "metadata": {},
     "output_type": "execute_result"
    }
   ],
   "source": [
    "json.dumps(experiment)"
   ]
  }
 ],
 "metadata": {
  "celltoolbar": "Tags",
  "kernelspec": {
   "display_name": "Python 3 (ipykernel)",
   "language": "python",
   "name": "python3"
  },
  "language_info": {
   "codemirror_mode": {
    "name": "ipython",
    "version": 3
   },
   "file_extension": ".py",
   "mimetype": "text/x-python",
   "name": "python",
   "nbconvert_exporter": "python",
   "pygments_lexer": "ipython3",
   "version": "3.8.12"
  },
  "papermill": {
   "default_parameters": {},
   "duration": 1578.385481,
   "end_time": "2022-03-21T15:12:43.910337",
   "environment_variables": {},
   "exception": null,
   "input_path": "/root/csc500-main/csc500-notebooks/templates/tl_ptn_template.ipynb",
   "output_path": "trial.ipynb",
   "parameters": {
    "parameters": {
     "BEST_MODEL_PATH": "./best_model.pth",
     "NUM_LOGS_PER_EPOCH": 10,
     "criteria_for_best": "target_accuracy",
     "dataset_seed": 7,
     "datasets": [
      {
       "domain_prefix": "Wisig_",
       "domains": [
        1,
        2,
        3,
        4
       ],
       "episode_transforms": [],
       "labels": [
        "1-10",
        "1-12",
        "1-14",
        "1-16",
        "1-18",
        "1-19",
        "1-8",
        "10-11",
        "10-17",
        "10-4",
        "10-7",
        "11-1",
        "11-10",
        "11-19",
        "11-20",
        "11-4",
        "11-7",
        "12-19",
        "12-20",
        "12-7",
        "13-14",
        "13-18",
        "13-19",
        "13-20",
        "13-3",
        "13-7",
        "14-10",
        "14-11",
        "14-12",
        "14-13",
        "14-14",
        "14-19",
        "14-20",
        "14-7",
        "14-8",
        "14-9",
        "15-1",
        "15-19",
        "15-6",
        "16-1",
        "16-16",
        "16-19",
        "16-20",
        "17-10",
        "17-11",
        "18-1",
        "18-10",
        "18-11",
        "18-12",
        "18-13",
        "18-14",
        "18-15",
        "18-16",
        "18-17",
        "18-19",
        "18-2",
        "18-20",
        "18-4",
        "18-5",
        "18-7",
        "18-8",
        "18-9",
        "19-1",
        "19-10",
        "19-11",
        "19-12",
        "19-13",
        "19-14",
        "19-15",
        "19-19",
        "19-2",
        "19-20",
        "19-3",
        "19-4",
        "19-6",
        "19-7",
        "19-8",
        "19-9",
        "2-1",
        "2-13",
        "2-15",
        "2-3",
        "2-4",
        "2-5",
        "2-6",
        "2-7",
        "2-8",
        "20-1",
        "20-12",
        "20-14",
        "20-15",
        "20-16",
        "20-18",
        "20-19",
        "20-20",
        "20-3",
        "20-4",
        "20-5",
        "20-7",
        "20-8",
        "3-1",
        "3-13",
        "3-18",
        "3-2",
        "3-8",
        "4-1",
        "4-10",
        "4-11",
        "5-1",
        "5-5",
        "6-1",
        "6-15",
        "6-6",
        "7-10",
        "7-11",
        "7-12",
        "7-13",
        "7-14",
        "7-7",
        "7-8",
        "7-9",
        "8-1",
        "8-13",
        "8-14",
        "8-18",
        "8-20",
        "8-3",
        "8-8",
        "9-1",
        "9-7"
       ],
       "num_examples_per_domain_per_label": -1,
       "pickle_path": "/root/csc500-main/datasets/wisig.node3-19.stratified_ds.2022A.pkl",
       "source_or_target_dataset": "source",
       "x_transforms": []
      },
      {
       "domain_prefix": "ORACLE.run1",
       "domains": [
        32,
        38,
        8,
        44,
        14,
        50,
        20,
        26
       ],
       "episode_transforms": [],
       "labels": [
        "3123D52",
        "3123D65",
        "3123D79",
        "3123D80",
        "3123D54",
        "3123D70",
        "3123D7B",
        "3123D89",
        "3123D58",
        "3123D76",
        "3123D7D",
        "3123EFE",
        "3123D64",
        "3123D78",
        "3123D7E",
        "3124E4A"
       ],
       "num_examples_per_domain_per_label": 2000,
       "pickle_path": "/root/csc500-main/datasets/oracle.Run1_framed_2000Examples_stratified_ds.2022A.pkl",
       "source_or_target_dataset": "target",
       "x_transforms": []
      }
     ],
     "device": "cuda",
     "experiment_name": "tl_1v2:wisig-oracle.run1.framed",
     "lr": 0.0001,
     "n_epoch": 50,
     "n_query": 2,
     "n_shot": 3,
     "n_way": 16,
     "patience": 3,
     "seed": 7,
     "test_k_factor": 2,
     "torch_default_dtype": "torch.float32",
     "train_k_factor": 3,
     "val_k_factor": 2,
     "x_net": [
      {
       "class": "nnReshape",
       "kargs": {
        "shape": [
         -1,
         1,
         2,
         256
        ]
       }
      },
      {
       "class": "Conv2d",
       "kargs": {
        "bias": false,
        "in_channels": 1,
        "kernel_size": [
         1,
         7
        ],
        "out_channels": 256,
        "padding": [
         0,
         3
        ]
       }
      },
      {
       "class": "ReLU",
       "kargs": {
        "inplace": true
       }
      },
      {
       "class": "BatchNorm2d",
       "kargs": {
        "num_features": 256
       }
      },
      {
       "class": "Conv2d",
       "kargs": {
        "bias": true,
        "in_channels": 256,
        "kernel_size": [
         2,
         7
        ],
        "out_channels": 80,
        "padding": [
         0,
         3
        ]
       }
      },
      {
       "class": "ReLU",
       "kargs": {
        "inplace": true
       }
      },
      {
       "class": "BatchNorm2d",
       "kargs": {
        "num_features": 80
       }
      },
      {
       "class": "Flatten",
       "kargs": {}
      },
      {
       "class": "Linear",
       "kargs": {
        "in_features": 20480,
        "out_features": 256
       }
      },
      {
       "class": "ReLU",
       "kargs": {
        "inplace": true
       }
      },
      {
       "class": "BatchNorm1d",
       "kargs": {
        "num_features": 256
       }
      },
      {
       "class": "Linear",
       "kargs": {
        "in_features": 256,
        "out_features": 256
       }
      }
     ]
    }
   },
   "start_time": "2022-03-21T14:46:25.524856",
   "version": "2.3.4"
  }
 },
 "nbformat": 4,
 "nbformat_minor": 5
}