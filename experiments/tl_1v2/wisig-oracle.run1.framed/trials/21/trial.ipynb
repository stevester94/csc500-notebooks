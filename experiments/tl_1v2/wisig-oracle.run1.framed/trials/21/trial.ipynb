{
 "cells": [
  {
   "cell_type": "markdown",
   "id": "9fea5f46",
   "metadata": {
    "papermill": {
     "duration": 0.02881,
     "end_time": "2022-03-21T15:12:44.912660",
     "exception": false,
     "start_time": "2022-03-21T15:12:44.883850",
     "status": "completed"
    },
    "tags": []
   },
   "source": [
    "# Transfer Learning Template"
   ]
  },
  {
   "cell_type": "code",
   "execution_count": 1,
   "id": "0902182a",
   "metadata": {
    "execution": {
     "iopub.execute_input": "2022-03-21T15:12:44.974570Z",
     "iopub.status.busy": "2022-03-21T15:12:44.973707Z",
     "iopub.status.idle": "2022-03-21T15:12:46.843484Z",
     "shell.execute_reply": "2022-03-21T15:12:46.843008Z"
    },
    "papermill": {
     "duration": 1.908213,
     "end_time": "2022-03-21T15:12:46.843613",
     "exception": false,
     "start_time": "2022-03-21T15:12:44.935400",
     "status": "completed"
    },
    "tags": []
   },
   "outputs": [],
   "source": [
    "%load_ext autoreload\n",
    "%autoreload 2\n",
    "%matplotlib inline\n",
    "\n",
    "    \n",
    "import os, json, sys, time, random\n",
    "import numpy as np\n",
    "import torch\n",
    "from torch.optim import Adam\n",
    "from  easydict import EasyDict\n",
    "import matplotlib.pyplot as plt\n",
    "\n",
    "from steves_models.steves_ptn import Steves_Prototypical_Network\n",
    "\n",
    "from steves_utils.lazy_iterable_wrapper import Lazy_Iterable_Wrapper\n",
    "from steves_utils.iterable_aggregator import Iterable_Aggregator\n",
    "from steves_utils.ptn_train_eval_test_jig import  PTN_Train_Eval_Test_Jig\n",
    "from steves_utils.torch_sequential_builder import build_sequential\n",
    "from steves_utils.torch_utils import get_dataset_metrics, ptn_confusion_by_domain_over_dataloader\n",
    "from steves_utils.utils_v2 import (per_domain_accuracy_from_confusion, get_datasets_base_path)\n",
    "from steves_utils.PTN.utils import independent_accuracy_assesment\n",
    "\n",
    "from torch.utils.data import DataLoader\n",
    "\n",
    "from steves_utils.stratified_dataset.episodic_accessor import Episodic_Accessor_Factory\n",
    "\n",
    "from steves_utils.ptn_do_report import (\n",
    "    get_loss_curve,\n",
    "    get_results_table,\n",
    "    get_parameters_table,\n",
    "    get_domain_accuracies,\n",
    ")\n",
    "\n",
    "from steves_utils.transforms import get_chained_transform"
   ]
  },
  {
   "cell_type": "markdown",
   "id": "41c840b4",
   "metadata": {
    "papermill": {
     "duration": 0.01885,
     "end_time": "2022-03-21T15:12:46.882536",
     "exception": false,
     "start_time": "2022-03-21T15:12:46.863686",
     "status": "completed"
    },
    "tags": []
   },
   "source": [
    "# Allowed Parameters\n",
    "These are allowed parameters, not defaults\n",
    "Each of these values need to be present in the injected parameters (the notebook will raise an exception if they are not present)\n",
    "\n",
    "Papermill uses the cell tag \"parameters\" to inject the real parameters below this cell.\n",
    "Enable tags to see what I mean"
   ]
  },
  {
   "cell_type": "code",
   "execution_count": 2,
   "id": "fd44eb83",
   "metadata": {
    "execution": {
     "iopub.execute_input": "2022-03-21T15:12:46.925817Z",
     "iopub.status.busy": "2022-03-21T15:12:46.925430Z",
     "iopub.status.idle": "2022-03-21T15:12:46.948417Z",
     "shell.execute_reply": "2022-03-21T15:12:46.948044Z"
    },
    "papermill": {
     "duration": 0.046949,
     "end_time": "2022-03-21T15:12:46.948491",
     "exception": false,
     "start_time": "2022-03-21T15:12:46.901542",
     "status": "completed"
    },
    "tags": []
   },
   "outputs": [],
   "source": [
    "required_parameters = {\n",
    "    \"experiment_name\",\n",
    "    \"lr\",\n",
    "    \"device\",\n",
    "    \"seed\",\n",
    "    \"dataset_seed\",\n",
    "    \"n_shot\",\n",
    "    \"n_query\",\n",
    "    \"n_way\",\n",
    "    \"train_k_factor\",\n",
    "    \"val_k_factor\",\n",
    "    \"test_k_factor\",\n",
    "    \"n_epoch\",\n",
    "    \"patience\",\n",
    "    \"criteria_for_best\",\n",
    "    \"x_net\",\n",
    "    \"datasets\",\n",
    "    \"torch_default_dtype\",\n",
    "    \"NUM_LOGS_PER_EPOCH\",\n",
    "    \"BEST_MODEL_PATH\",\n",
    "    \"x_shape\",\n",
    "}"
   ]
  },
  {
   "cell_type": "code",
   "execution_count": 3,
   "id": "fa3f0049",
   "metadata": {
    "execution": {
     "iopub.execute_input": "2022-03-21T15:12:47.000828Z",
     "iopub.status.busy": "2022-03-21T15:12:47.000406Z",
     "iopub.status.idle": "2022-03-21T15:12:47.021920Z",
     "shell.execute_reply": "2022-03-21T15:12:47.021552Z"
    },
    "papermill": {
     "duration": 0.054208,
     "end_time": "2022-03-21T15:12:47.021991",
     "exception": false,
     "start_time": "2022-03-21T15:12:46.967783",
     "status": "completed"
    },
    "tags": [
     "parameters"
    ]
   },
   "outputs": [],
   "source": [
    "from steves_utils.CORES.utils import (\n",
    "    ALL_NODES,\n",
    "    ALL_NODES_MINIMUM_1000_EXAMPLES,\n",
    "    ALL_DAYS\n",
    ")\n",
    "\n",
    "from steves_utils.ORACLE.utils_v2 import (\n",
    "    ALL_DISTANCES_FEET_NARROWED,\n",
    "    ALL_RUNS,\n",
    "    ALL_SERIAL_NUMBERS,\n",
    ")\n",
    "\n",
    "standalone_parameters = {}\n",
    "standalone_parameters[\"experiment_name\"] = \"STANDALONE PTN\"\n",
    "standalone_parameters[\"lr\"] = 0.001\n",
    "standalone_parameters[\"device\"] = \"cuda\"\n",
    "\n",
    "standalone_parameters[\"seed\"] = 1337\n",
    "standalone_parameters[\"dataset_seed\"] = 1337\n",
    "\n",
    "standalone_parameters[\"n_way\"] = 8\n",
    "standalone_parameters[\"n_shot\"] = 3\n",
    "standalone_parameters[\"n_query\"]  = 2\n",
    "standalone_parameters[\"train_k_factor\"] = 1\n",
    "standalone_parameters[\"val_k_factor\"] = 2\n",
    "standalone_parameters[\"test_k_factor\"] = 2\n",
    "\n",
    "\n",
    "standalone_parameters[\"n_epoch\"] = 50\n",
    "\n",
    "standalone_parameters[\"patience\"] = 10\n",
    "standalone_parameters[\"criteria_for_best\"] = \"source_loss\"\n",
    "\n",
    "standalone_parameters[\"datasets\"] = [\n",
    "    {\n",
    "        \"labels\": ALL_SERIAL_NUMBERS,\n",
    "        \"domains\": ALL_DISTANCES_FEET_NARROWED,\n",
    "        \"num_examples_per_domain_per_label\": 100,\n",
    "        \"pickle_path\": os.path.join(get_datasets_base_path(), \"oracle.Run1_framed_2000Examples_stratified_ds.2022A.pkl\"),\n",
    "        \"source_or_target_dataset\": \"source\",\n",
    "        \"x_transforms\": [\"unit_mag\", \"minus_two\"],\n",
    "        \"episode_transforms\": [],\n",
    "        \"domain_prefix\": \"ORACLE_\"\n",
    "    },\n",
    "    {\n",
    "        \"labels\": ALL_NODES,\n",
    "        \"domains\": ALL_DAYS,\n",
    "        \"num_examples_per_domain_per_label\": 100,\n",
    "        \"pickle_path\": os.path.join(get_datasets_base_path(), \"cores.stratified_ds.2022A.pkl\"),\n",
    "        \"source_or_target_dataset\": \"target\",\n",
    "        \"x_transforms\": [\"unit_power\", \"times_zero\"],\n",
    "        \"episode_transforms\": [],\n",
    "        \"domain_prefix\": \"CORES_\"\n",
    "    }   \n",
    "]\n",
    "\n",
    "standalone_parameters[\"torch_default_dtype\"] = \"torch.float32\" \n",
    "\n",
    "\n",
    "\n",
    "standalone_parameters[\"x_net\"] =     [\n",
    "    {\"class\": \"nnReshape\", \"kargs\": {\"shape\":[-1, 1, 2, 256]}},\n",
    "    {\"class\": \"Conv2d\", \"kargs\": { \"in_channels\":1, \"out_channels\":256, \"kernel_size\":(1,7), \"bias\":False, \"padding\":(0,3), },},\n",
    "    {\"class\": \"ReLU\", \"kargs\": {\"inplace\": True}},\n",
    "    {\"class\": \"BatchNorm2d\", \"kargs\": {\"num_features\":256}},\n",
    "\n",
    "    {\"class\": \"Conv2d\", \"kargs\": { \"in_channels\":256, \"out_channels\":80, \"kernel_size\":(2,7), \"bias\":True, \"padding\":(0,3), },},\n",
    "    {\"class\": \"ReLU\", \"kargs\": {\"inplace\": True}},\n",
    "    {\"class\": \"BatchNorm2d\", \"kargs\": {\"num_features\":80}},\n",
    "    {\"class\": \"Flatten\", \"kargs\": {}},\n",
    "\n",
    "    {\"class\": \"Linear\", \"kargs\": {\"in_features\": 80*256, \"out_features\": 256}}, # 80 units per IQ pair\n",
    "    {\"class\": \"ReLU\", \"kargs\": {\"inplace\": True}},\n",
    "    {\"class\": \"BatchNorm1d\", \"kargs\": {\"num_features\":256}},\n",
    "\n",
    "    {\"class\": \"Linear\", \"kargs\": {\"in_features\": 256, \"out_features\": 256}},\n",
    "]\n",
    "\n",
    "# Parameters relevant to results\n",
    "# These parameters will basically never need to change\n",
    "standalone_parameters[\"NUM_LOGS_PER_EPOCH\"] = 10\n",
    "standalone_parameters[\"BEST_MODEL_PATH\"] = \"./best_model.pth\"\n",
    "\n",
    "\n",
    "\n",
    "\n"
   ]
  },
  {
   "cell_type": "code",
   "execution_count": 4,
   "id": "01aa016b",
   "metadata": {
    "execution": {
     "iopub.execute_input": "2022-03-21T15:12:47.077599Z",
     "iopub.status.busy": "2022-03-21T15:12:47.063182Z",
     "iopub.status.idle": "2022-03-21T15:12:47.097625Z",
     "shell.execute_reply": "2022-03-21T15:12:47.097917Z"
    },
    "papermill": {
     "duration": 0.056791,
     "end_time": "2022-03-21T15:12:47.098002",
     "exception": false,
     "start_time": "2022-03-21T15:12:47.041211",
     "status": "completed"
    },
    "tags": [
     "injected-parameters"
    ]
   },
   "outputs": [],
   "source": [
    "# Parameters\n",
    "parameters = {\n",
    "    \"experiment_name\": \"tl_1v2:wisig-oracle.run1.framed\",\n",
    "    \"device\": \"cuda\",\n",
    "    \"lr\": 0.0001,\n",
    "    \"n_shot\": 3,\n",
    "    \"n_query\": 2,\n",
    "    \"train_k_factor\": 3,\n",
    "    \"val_k_factor\": 2,\n",
    "    \"test_k_factor\": 2,\n",
    "    \"torch_default_dtype\": \"torch.float32\",\n",
    "    \"n_epoch\": 50,\n",
    "    \"patience\": 3,\n",
    "    \"criteria_for_best\": \"target_accuracy\",\n",
    "    \"x_net\": [\n",
    "        {\"class\": \"nnReshape\", \"kargs\": {\"shape\": [-1, 1, 2, 256]}},\n",
    "        {\n",
    "            \"class\": \"Conv2d\",\n",
    "            \"kargs\": {\n",
    "                \"in_channels\": 1,\n",
    "                \"out_channels\": 256,\n",
    "                \"kernel_size\": [1, 7],\n",
    "                \"bias\": False,\n",
    "                \"padding\": [0, 3],\n",
    "            },\n",
    "        },\n",
    "        {\"class\": \"ReLU\", \"kargs\": {\"inplace\": True}},\n",
    "        {\"class\": \"BatchNorm2d\", \"kargs\": {\"num_features\": 256}},\n",
    "        {\n",
    "            \"class\": \"Conv2d\",\n",
    "            \"kargs\": {\n",
    "                \"in_channels\": 256,\n",
    "                \"out_channels\": 80,\n",
    "                \"kernel_size\": [2, 7],\n",
    "                \"bias\": True,\n",
    "                \"padding\": [0, 3],\n",
    "            },\n",
    "        },\n",
    "        {\"class\": \"ReLU\", \"kargs\": {\"inplace\": True}},\n",
    "        {\"class\": \"BatchNorm2d\", \"kargs\": {\"num_features\": 80}},\n",
    "        {\"class\": \"Flatten\", \"kargs\": {}},\n",
    "        {\"class\": \"Linear\", \"kargs\": {\"in_features\": 20480, \"out_features\": 256}},\n",
    "        {\"class\": \"ReLU\", \"kargs\": {\"inplace\": True}},\n",
    "        {\"class\": \"BatchNorm1d\", \"kargs\": {\"num_features\": 256}},\n",
    "        {\"class\": \"Linear\", \"kargs\": {\"in_features\": 256, \"out_features\": 256}},\n",
    "    ],\n",
    "    \"NUM_LOGS_PER_EPOCH\": 10,\n",
    "    \"BEST_MODEL_PATH\": \"./best_model.pth\",\n",
    "    \"n_way\": 16,\n",
    "    \"datasets\": [\n",
    "        {\n",
    "            \"labels\": [\n",
    "                \"1-10\",\n",
    "                \"1-12\",\n",
    "                \"1-14\",\n",
    "                \"1-16\",\n",
    "                \"1-18\",\n",
    "                \"1-19\",\n",
    "                \"1-8\",\n",
    "                \"10-11\",\n",
    "                \"10-17\",\n",
    "                \"10-4\",\n",
    "                \"10-7\",\n",
    "                \"11-1\",\n",
    "                \"11-10\",\n",
    "                \"11-19\",\n",
    "                \"11-20\",\n",
    "                \"11-4\",\n",
    "                \"11-7\",\n",
    "                \"12-19\",\n",
    "                \"12-20\",\n",
    "                \"12-7\",\n",
    "                \"13-14\",\n",
    "                \"13-18\",\n",
    "                \"13-19\",\n",
    "                \"13-20\",\n",
    "                \"13-3\",\n",
    "                \"13-7\",\n",
    "                \"14-10\",\n",
    "                \"14-11\",\n",
    "                \"14-12\",\n",
    "                \"14-13\",\n",
    "                \"14-14\",\n",
    "                \"14-19\",\n",
    "                \"14-20\",\n",
    "                \"14-7\",\n",
    "                \"14-8\",\n",
    "                \"14-9\",\n",
    "                \"15-1\",\n",
    "                \"15-19\",\n",
    "                \"15-6\",\n",
    "                \"16-1\",\n",
    "                \"16-16\",\n",
    "                \"16-19\",\n",
    "                \"16-20\",\n",
    "                \"17-10\",\n",
    "                \"17-11\",\n",
    "                \"18-1\",\n",
    "                \"18-10\",\n",
    "                \"18-11\",\n",
    "                \"18-12\",\n",
    "                \"18-13\",\n",
    "                \"18-14\",\n",
    "                \"18-15\",\n",
    "                \"18-16\",\n",
    "                \"18-17\",\n",
    "                \"18-19\",\n",
    "                \"18-2\",\n",
    "                \"18-20\",\n",
    "                \"18-4\",\n",
    "                \"18-5\",\n",
    "                \"18-7\",\n",
    "                \"18-8\",\n",
    "                \"18-9\",\n",
    "                \"19-1\",\n",
    "                \"19-10\",\n",
    "                \"19-11\",\n",
    "                \"19-12\",\n",
    "                \"19-13\",\n",
    "                \"19-14\",\n",
    "                \"19-15\",\n",
    "                \"19-19\",\n",
    "                \"19-2\",\n",
    "                \"19-20\",\n",
    "                \"19-3\",\n",
    "                \"19-4\",\n",
    "                \"19-6\",\n",
    "                \"19-7\",\n",
    "                \"19-8\",\n",
    "                \"19-9\",\n",
    "                \"2-1\",\n",
    "                \"2-13\",\n",
    "                \"2-15\",\n",
    "                \"2-3\",\n",
    "                \"2-4\",\n",
    "                \"2-5\",\n",
    "                \"2-6\",\n",
    "                \"2-7\",\n",
    "                \"2-8\",\n",
    "                \"20-1\",\n",
    "                \"20-12\",\n",
    "                \"20-14\",\n",
    "                \"20-15\",\n",
    "                \"20-16\",\n",
    "                \"20-18\",\n",
    "                \"20-19\",\n",
    "                \"20-20\",\n",
    "                \"20-3\",\n",
    "                \"20-4\",\n",
    "                \"20-5\",\n",
    "                \"20-7\",\n",
    "                \"20-8\",\n",
    "                \"3-1\",\n",
    "                \"3-13\",\n",
    "                \"3-18\",\n",
    "                \"3-2\",\n",
    "                \"3-8\",\n",
    "                \"4-1\",\n",
    "                \"4-10\",\n",
    "                \"4-11\",\n",
    "                \"5-1\",\n",
    "                \"5-5\",\n",
    "                \"6-1\",\n",
    "                \"6-15\",\n",
    "                \"6-6\",\n",
    "                \"7-10\",\n",
    "                \"7-11\",\n",
    "                \"7-12\",\n",
    "                \"7-13\",\n",
    "                \"7-14\",\n",
    "                \"7-7\",\n",
    "                \"7-8\",\n",
    "                \"7-9\",\n",
    "                \"8-1\",\n",
    "                \"8-13\",\n",
    "                \"8-14\",\n",
    "                \"8-18\",\n",
    "                \"8-20\",\n",
    "                \"8-3\",\n",
    "                \"8-8\",\n",
    "                \"9-1\",\n",
    "                \"9-7\",\n",
    "            ],\n",
    "            \"domains\": [1, 2, 3, 4],\n",
    "            \"num_examples_per_domain_per_label\": -1,\n",
    "            \"pickle_path\": \"/root/csc500-main/datasets/wisig.node3-19.stratified_ds.2022A.pkl\",\n",
    "            \"source_or_target_dataset\": \"target\",\n",
    "            \"x_transforms\": [\"unit_power\"],\n",
    "            \"episode_transforms\": [],\n",
    "            \"domain_prefix\": \"Wisig_\",\n",
    "        },\n",
    "        {\n",
    "            \"labels\": [\n",
    "                \"3123D52\",\n",
    "                \"3123D65\",\n",
    "                \"3123D79\",\n",
    "                \"3123D80\",\n",
    "                \"3123D54\",\n",
    "                \"3123D70\",\n",
    "                \"3123D7B\",\n",
    "                \"3123D89\",\n",
    "                \"3123D58\",\n",
    "                \"3123D76\",\n",
    "                \"3123D7D\",\n",
    "                \"3123EFE\",\n",
    "                \"3123D64\",\n",
    "                \"3123D78\",\n",
    "                \"3123D7E\",\n",
    "                \"3124E4A\",\n",
    "            ],\n",
    "            \"domains\": [32, 38, 8, 44, 14, 50, 20, 26],\n",
    "            \"num_examples_per_domain_per_label\": 2000,\n",
    "            \"pickle_path\": \"/root/csc500-main/datasets/oracle.Run1_framed_2000Examples_stratified_ds.2022A.pkl\",\n",
    "            \"source_or_target_dataset\": \"source\",\n",
    "            \"x_transforms\": [\"unit_power\"],\n",
    "            \"episode_transforms\": [],\n",
    "            \"domain_prefix\": \"ORACLE.run1\",\n",
    "        },\n",
    "    ],\n",
    "    \"dataset_seed\": 7,\n",
    "    \"seed\": 7,\n",
    "}\n"
   ]
  },
  {
   "cell_type": "code",
   "execution_count": 5,
   "id": "8fa1cc33",
   "metadata": {
    "execution": {
     "iopub.execute_input": "2022-03-21T15:12:47.144481Z",
     "iopub.status.busy": "2022-03-21T15:12:47.139356Z",
     "iopub.status.idle": "2022-03-21T15:12:47.164804Z",
     "shell.execute_reply": "2022-03-21T15:12:47.164482Z"
    },
    "papermill": {
     "duration": 0.04737,
     "end_time": "2022-03-21T15:12:47.164876",
     "exception": false,
     "start_time": "2022-03-21T15:12:47.117506",
     "status": "completed"
    },
    "tags": []
   },
   "outputs": [],
   "source": [
    "# Set this to True if you want to run this template directly\n",
    "STANDALONE = False\n",
    "if STANDALONE:\n",
    "    print(\"parameters not injected, running with standalone_parameters\")\n",
    "    parameters = standalone_parameters\n",
    "\n",
    "if not 'parameters' in locals() and not 'parameters' in globals():\n",
    "    raise Exception(\"Parameter injection failed\")\n",
    "\n",
    "#Use an easy dict for all the parameters\n",
    "p = EasyDict(parameters)\n",
    "\n",
    "if \"x_shape\" not in p:\n",
    "    p.x_shape = [2,256] # Default to this if we dont supply x_shape\n",
    "\n",
    "\n",
    "supplied_keys = set(p.keys())\n",
    "\n",
    "if  supplied_keys != required_parameters:\n",
    "    print(\"Parameters are incorrect\")\n",
    "    if len(supplied_keys - required_parameters)>0: print(\"Shouldn't have:\", str(supplied_keys - required_parameters))\n",
    "    if len(required_parameters - supplied_keys)>0: print(\"Need to have:\", str(required_parameters - supplied_keys))\n",
    "    raise RuntimeError(\"Parameters are incorrect\")"
   ]
  },
  {
   "cell_type": "code",
   "execution_count": 6,
   "id": "3a028d58",
   "metadata": {
    "execution": {
     "iopub.execute_input": "2022-03-21T15:12:47.208741Z",
     "iopub.status.busy": "2022-03-21T15:12:47.208372Z",
     "iopub.status.idle": "2022-03-21T15:12:47.230279Z",
     "shell.execute_reply": "2022-03-21T15:12:47.229912Z"
    },
    "papermill": {
     "duration": 0.04608,
     "end_time": "2022-03-21T15:12:47.230351",
     "exception": false,
     "start_time": "2022-03-21T15:12:47.184271",
     "status": "completed"
    },
    "tags": []
   },
   "outputs": [],
   "source": [
    "###################################\n",
    "# Set the RNGs and make it all deterministic\n",
    "###################################\n",
    "np.random.seed(p.seed)\n",
    "random.seed(p.seed)\n",
    "torch.manual_seed(p.seed)\n",
    "\n",
    "torch.use_deterministic_algorithms(True) "
   ]
  },
  {
   "cell_type": "code",
   "execution_count": 7,
   "id": "b691acf6",
   "metadata": {
    "execution": {
     "iopub.execute_input": "2022-03-21T15:12:47.273849Z",
     "iopub.status.busy": "2022-03-21T15:12:47.273483Z",
     "iopub.status.idle": "2022-03-21T15:12:47.301508Z",
     "shell.execute_reply": "2022-03-21T15:12:47.301813Z"
    },
    "papermill": {
     "duration": 0.051767,
     "end_time": "2022-03-21T15:12:47.301901",
     "exception": false,
     "start_time": "2022-03-21T15:12:47.250134",
     "status": "completed"
    },
    "tags": []
   },
   "outputs": [],
   "source": [
    "###########################################\n",
    "# The stratified datasets honor this\n",
    "###########################################\n",
    "torch.set_default_dtype(eval(p.torch_default_dtype))"
   ]
  },
  {
   "cell_type": "code",
   "execution_count": 8,
   "id": "b5fba671",
   "metadata": {
    "execution": {
     "iopub.execute_input": "2022-03-21T15:12:47.344706Z",
     "iopub.status.busy": "2022-03-21T15:12:47.344339Z",
     "iopub.status.idle": "2022-03-21T15:12:47.407243Z",
     "shell.execute_reply": "2022-03-21T15:12:47.406872Z"
    },
    "papermill": {
     "duration": 0.08577,
     "end_time": "2022-03-21T15:12:47.407317",
     "exception": false,
     "start_time": "2022-03-21T15:12:47.321547",
     "status": "completed"
    },
    "tags": []
   },
   "outputs": [],
   "source": [
    "###################################\n",
    "# Build the network(s)\n",
    "# Note: It's critical to do this AFTER setting the RNG\n",
    "###################################\n",
    "x_net = build_sequential(p.x_net)"
   ]
  },
  {
   "cell_type": "code",
   "execution_count": 9,
   "id": "5d7e61cc",
   "metadata": {
    "execution": {
     "iopub.execute_input": "2022-03-21T15:12:47.450206Z",
     "iopub.status.busy": "2022-03-21T15:12:47.449840Z",
     "iopub.status.idle": "2022-03-21T15:12:47.480214Z",
     "shell.execute_reply": "2022-03-21T15:12:47.479483Z"
    },
    "papermill": {
     "duration": 0.05312,
     "end_time": "2022-03-21T15:12:47.480374",
     "exception": false,
     "start_time": "2022-03-21T15:12:47.427254",
     "status": "completed"
    },
    "tags": []
   },
   "outputs": [],
   "source": [
    "start_time_secs = time.time()"
   ]
  },
  {
   "cell_type": "code",
   "execution_count": 10,
   "id": "c6b67dfd",
   "metadata": {
    "execution": {
     "iopub.execute_input": "2022-03-21T15:12:47.533523Z",
     "iopub.status.busy": "2022-03-21T15:12:47.532966Z",
     "iopub.status.idle": "2022-03-21T15:12:47.560730Z",
     "shell.execute_reply": "2022-03-21T15:12:47.560023Z"
    },
    "papermill": {
     "duration": 0.052463,
     "end_time": "2022-03-21T15:12:47.560886",
     "exception": false,
     "start_time": "2022-03-21T15:12:47.508423",
     "status": "completed"
    },
    "tags": []
   },
   "outputs": [],
   "source": [
    "p.domains_source = []\n",
    "p.domains_target = []\n",
    "\n",
    "\n",
    "train_original_source = []\n",
    "val_original_source   = []\n",
    "test_original_source  = []\n",
    "\n",
    "train_original_target = []\n",
    "val_original_target   = []\n",
    "test_original_target  = []"
   ]
  },
  {
   "cell_type": "code",
   "execution_count": 11,
   "id": "e3d9c3d3",
   "metadata": {
    "execution": {
     "iopub.execute_input": "2022-03-21T15:12:47.610733Z",
     "iopub.status.busy": "2022-03-21T15:12:47.610053Z",
     "iopub.status.idle": "2022-03-21T15:12:47.635811Z",
     "shell.execute_reply": "2022-03-21T15:12:47.635067Z"
    },
    "papermill": {
     "duration": 0.048884,
     "end_time": "2022-03-21T15:12:47.635966",
     "exception": false,
     "start_time": "2022-03-21T15:12:47.587082",
     "status": "completed"
    },
    "tags": []
   },
   "outputs": [],
   "source": [
    "# global_x_transform_func = lambda x: normalize(x.to(torch.get_default_dtype()), \"unit_power\") # unit_power, unit_mag\n",
    "# global_x_transform_func = lambda x: normalize(x, \"unit_power\") # unit_power, unit_mag"
   ]
  },
  {
   "cell_type": "code",
   "execution_count": 12,
   "id": "acb78fd2",
   "metadata": {
    "execution": {
     "iopub.execute_input": "2022-03-21T15:12:47.690906Z",
     "iopub.status.busy": "2022-03-21T15:12:47.690326Z",
     "iopub.status.idle": "2022-03-21T15:12:47.715388Z",
     "shell.execute_reply": "2022-03-21T15:12:47.714589Z"
    },
    "papermill": {
     "duration": 0.053035,
     "end_time": "2022-03-21T15:12:47.715556",
     "exception": false,
     "start_time": "2022-03-21T15:12:47.662521",
     "status": "completed"
    },
    "tags": []
   },
   "outputs": [],
   "source": [
    "def add_dataset(\n",
    "    labels,\n",
    "    domains,\n",
    "    pickle_path,\n",
    "    x_transforms,\n",
    "    episode_transforms,\n",
    "    domain_prefix,\n",
    "    num_examples_per_domain_per_label,\n",
    "    source_or_target_dataset:str,\n",
    "    iterator_seed=p.seed,\n",
    "    dataset_seed=p.dataset_seed,\n",
    "    n_shot=p.n_shot,\n",
    "    n_way=p.n_way,\n",
    "    n_query=p.n_query,\n",
    "    train_val_test_k_factors=(p.train_k_factor,p.val_k_factor,p.test_k_factor),\n",
    "):\n",
    "   \n",
    "    if x_transforms == []: x_transform = None\n",
    "    else: x_transform = get_chained_transform(x_transforms)\n",
    "    \n",
    "    if episode_transforms == []: episode_transform = None\n",
    "    else: raise Exception(\"episode_transforms not implemented\")\n",
    "    \n",
    "    episode_transform = lambda tup, _prefix=domain_prefix: (_prefix + str(tup[0]), tup[1])\n",
    "\n",
    "\n",
    "    eaf = Episodic_Accessor_Factory(\n",
    "        labels=labels,\n",
    "        domains=domains,\n",
    "        num_examples_per_domain_per_label=num_examples_per_domain_per_label,\n",
    "        iterator_seed=iterator_seed,\n",
    "        dataset_seed=dataset_seed,\n",
    "        n_shot=n_shot,\n",
    "        n_way=n_way,\n",
    "        n_query=n_query,\n",
    "        train_val_test_k_factors=train_val_test_k_factors,\n",
    "        pickle_path=pickle_path,\n",
    "        x_transform_func=x_transform,\n",
    "    )\n",
    "\n",
    "    train, val, test = eaf.get_train(), eaf.get_val(), eaf.get_test()\n",
    "    train = Lazy_Iterable_Wrapper(train, episode_transform)\n",
    "    val = Lazy_Iterable_Wrapper(val, episode_transform)\n",
    "    test = Lazy_Iterable_Wrapper(test, episode_transform)\n",
    "\n",
    "    if source_or_target_dataset==\"source\":\n",
    "        train_original_source.append(train)\n",
    "        val_original_source.append(val)\n",
    "        test_original_source.append(test)\n",
    "\n",
    "        p.domains_source.extend(\n",
    "            [domain_prefix + str(u) for u in domains]\n",
    "        )\n",
    "    elif source_or_target_dataset==\"target\":\n",
    "        train_original_target.append(train)\n",
    "        val_original_target.append(val)\n",
    "        test_original_target.append(test)\n",
    "        p.domains_target.extend(\n",
    "            [domain_prefix + str(u) for u in domains]\n",
    "        )\n",
    "    else:\n",
    "        raise Exception(f\"invalid source_or_target_dataset: {source_or_target_dataset}\")\n",
    "    "
   ]
  },
  {
   "cell_type": "code",
   "execution_count": 13,
   "id": "fe266617",
   "metadata": {
    "execution": {
     "iopub.execute_input": "2022-03-21T15:12:47.770074Z",
     "iopub.status.busy": "2022-03-21T15:12:47.769708Z",
     "iopub.status.idle": "2022-03-21T15:13:31.583775Z",
     "shell.execute_reply": "2022-03-21T15:13:31.584470Z"
    },
    "papermill": {
     "duration": 43.837918,
     "end_time": "2022-03-21T15:13:31.584705",
     "exception": false,
     "start_time": "2022-03-21T15:12:47.746787",
     "status": "completed"
    },
    "tags": []
   },
   "outputs": [],
   "source": [
    "for ds in p.datasets:\n",
    "    add_dataset(**ds)"
   ]
  },
  {
   "cell_type": "code",
   "execution_count": 14,
   "id": "b90d65ac",
   "metadata": {
    "execution": {
     "iopub.execute_input": "2022-03-21T15:13:31.634972Z",
     "iopub.status.busy": "2022-03-21T15:13:31.634579Z",
     "iopub.status.idle": "2022-03-21T15:13:31.656665Z",
     "shell.execute_reply": "2022-03-21T15:13:31.657356Z"
    },
    "papermill": {
     "duration": 0.046902,
     "end_time": "2022-03-21T15:13:31.657570",
     "exception": false,
     "start_time": "2022-03-21T15:13:31.610668",
     "status": "completed"
    },
    "tags": []
   },
   "outputs": [],
   "source": [
    "# from steves_utils.CORES.utils import (\n",
    "#     ALL_NODES,\n",
    "#     ALL_NODES_MINIMUM_1000_EXAMPLES,\n",
    "#     ALL_DAYS\n",
    "# )\n",
    "\n",
    "# add_dataset(\n",
    "#     labels=ALL_NODES,\n",
    "#     domains = ALL_DAYS,\n",
    "#     num_examples_per_domain_per_label=100,\n",
    "#     pickle_path=os.path.join(get_datasets_base_path(), \"cores.stratified_ds.2022A.pkl\"),\n",
    "#     source_or_target_dataset=\"target\",\n",
    "#     x_transform_func=global_x_transform_func,\n",
    "#     domain_modifier=lambda u: f\"cores_{u}\"\n",
    "# )"
   ]
  },
  {
   "cell_type": "code",
   "execution_count": 15,
   "id": "76db484d",
   "metadata": {
    "execution": {
     "iopub.execute_input": "2022-03-21T15:13:31.707453Z",
     "iopub.status.busy": "2022-03-21T15:13:31.707061Z",
     "iopub.status.idle": "2022-03-21T15:13:31.727385Z",
     "shell.execute_reply": "2022-03-21T15:13:31.726636Z"
    },
    "papermill": {
     "duration": 0.043245,
     "end_time": "2022-03-21T15:13:31.727588",
     "exception": false,
     "start_time": "2022-03-21T15:13:31.684343",
     "status": "completed"
    },
    "tags": []
   },
   "outputs": [],
   "source": [
    "# from steves_utils.ORACLE.utils_v2 import (\n",
    "#     ALL_DISTANCES_FEET,\n",
    "#     ALL_RUNS,\n",
    "#     ALL_SERIAL_NUMBERS,\n",
    "# )\n",
    "\n",
    "\n",
    "# add_dataset(\n",
    "#     labels=ALL_SERIAL_NUMBERS,\n",
    "#     domains = list(set(ALL_DISTANCES_FEET) - {2,62}),\n",
    "#     num_examples_per_domain_per_label=100,\n",
    "#     pickle_path=os.path.join(get_datasets_base_path(), \"oracle.Run2_framed_2000Examples_stratified_ds.2022A.pkl\"),\n",
    "#     source_or_target_dataset=\"source\",\n",
    "#     x_transform_func=global_x_transform_func,\n",
    "#     domain_modifier=lambda u: f\"oracle1_{u}\"\n",
    "# )\n"
   ]
  },
  {
   "cell_type": "code",
   "execution_count": 16,
   "id": "97dea9d2",
   "metadata": {
    "execution": {
     "iopub.execute_input": "2022-03-21T15:13:31.780947Z",
     "iopub.status.busy": "2022-03-21T15:13:31.780558Z",
     "iopub.status.idle": "2022-03-21T15:13:31.799749Z",
     "shell.execute_reply": "2022-03-21T15:13:31.798753Z"
    },
    "papermill": {
     "duration": 0.042755,
     "end_time": "2022-03-21T15:13:31.799982",
     "exception": false,
     "start_time": "2022-03-21T15:13:31.757227",
     "status": "completed"
    },
    "tags": []
   },
   "outputs": [],
   "source": [
    "# from steves_utils.ORACLE.utils_v2 import (\n",
    "#     ALL_DISTANCES_FEET,\n",
    "#     ALL_RUNS,\n",
    "#     ALL_SERIAL_NUMBERS,\n",
    "# )\n",
    "\n",
    "\n",
    "# add_dataset(\n",
    "#     labels=ALL_SERIAL_NUMBERS,\n",
    "#     domains = list(set(ALL_DISTANCES_FEET) - {2,62,56}),\n",
    "#     num_examples_per_domain_per_label=100,\n",
    "#     pickle_path=os.path.join(get_datasets_base_path(), \"oracle.Run2_framed_2000Examples_stratified_ds.2022A.pkl\"),\n",
    "#     source_or_target_dataset=\"source\",\n",
    "#     x_transform_func=global_x_transform_func,\n",
    "#     domain_modifier=lambda u: f\"oracle2_{u}\"\n",
    "# )"
   ]
  },
  {
   "cell_type": "code",
   "execution_count": 17,
   "id": "6f289866",
   "metadata": {
    "execution": {
     "iopub.execute_input": "2022-03-21T15:13:31.852077Z",
     "iopub.status.busy": "2022-03-21T15:13:31.851691Z",
     "iopub.status.idle": "2022-03-21T15:13:31.868363Z",
     "shell.execute_reply": "2022-03-21T15:13:31.869038Z"
    },
    "papermill": {
     "duration": 0.040902,
     "end_time": "2022-03-21T15:13:31.869237",
     "exception": false,
     "start_time": "2022-03-21T15:13:31.828335",
     "status": "completed"
    },
    "tags": []
   },
   "outputs": [],
   "source": [
    "# add_dataset(\n",
    "#     labels=list(range(19)),\n",
    "#     domains = [0,1,2],\n",
    "#     num_examples_per_domain_per_label=100,\n",
    "#     pickle_path=os.path.join(get_datasets_base_path(), \"metehan.stratified_ds.2022A.pkl\"),\n",
    "#     source_or_target_dataset=\"target\",\n",
    "#     x_transform_func=global_x_transform_func,\n",
    "#     domain_modifier=lambda u: f\"met_{u}\"\n",
    "# )"
   ]
  },
  {
   "cell_type": "code",
   "execution_count": 18,
   "id": "86a863c3",
   "metadata": {
    "execution": {
     "iopub.execute_input": "2022-03-21T15:13:31.921714Z",
     "iopub.status.busy": "2022-03-21T15:13:31.921090Z",
     "iopub.status.idle": "2022-03-21T15:13:31.942266Z",
     "shell.execute_reply": "2022-03-21T15:13:31.941535Z"
    },
    "papermill": {
     "duration": 0.044804,
     "end_time": "2022-03-21T15:13:31.942440",
     "exception": false,
     "start_time": "2022-03-21T15:13:31.897636",
     "status": "completed"
    },
    "tags": []
   },
   "outputs": [],
   "source": [
    "# # from steves_utils.wisig.utils import (\n",
    "# #     ALL_NODES_MINIMUM_100_EXAMPLES,\n",
    "# #     ALL_NODES_MINIMUM_500_EXAMPLES,\n",
    "# #     ALL_NODES_MINIMUM_1000_EXAMPLES,\n",
    "# #     ALL_DAYS\n",
    "# # )\n",
    "\n",
    "# import steves_utils.wisig.utils as wisig\n",
    "\n",
    "\n",
    "# add_dataset(\n",
    "#     labels=wisig.ALL_NODES_MINIMUM_100_EXAMPLES,\n",
    "#     domains = wisig.ALL_DAYS,\n",
    "#     num_examples_per_domain_per_label=100,\n",
    "#     pickle_path=os.path.join(get_datasets_base_path(), \"wisig.node3-19.stratified_ds.2022A.pkl\"),\n",
    "#     source_or_target_dataset=\"target\",\n",
    "#     x_transform_func=global_x_transform_func,\n",
    "#     domain_modifier=lambda u: f\"wisig_{u}\"\n",
    "# )"
   ]
  },
  {
   "cell_type": "code",
   "execution_count": 19,
   "id": "fd5442bc",
   "metadata": {
    "execution": {
     "iopub.execute_input": "2022-03-21T15:13:31.996344Z",
     "iopub.status.busy": "2022-03-21T15:13:31.995833Z",
     "iopub.status.idle": "2022-03-21T15:13:32.014248Z",
     "shell.execute_reply": "2022-03-21T15:13:32.013511Z"
    },
    "papermill": {
     "duration": 0.045197,
     "end_time": "2022-03-21T15:13:32.014424",
     "exception": false,
     "start_time": "2022-03-21T15:13:31.969227",
     "status": "completed"
    },
    "tags": []
   },
   "outputs": [],
   "source": [
    "###################################\n",
    "# Build the dataset\n",
    "###################################\n",
    "train_original_source = Iterable_Aggregator(train_original_source, p.seed)\n",
    "val_original_source = Iterable_Aggregator(val_original_source, p.seed)\n",
    "test_original_source = Iterable_Aggregator(test_original_source, p.seed)\n",
    "\n",
    "\n",
    "train_original_target = Iterable_Aggregator(train_original_target, p.seed)\n",
    "val_original_target = Iterable_Aggregator(val_original_target, p.seed)\n",
    "test_original_target = Iterable_Aggregator(test_original_target, p.seed)\n",
    "\n",
    "# For CNN We only use X and Y. And we only train on the source.\n",
    "# Properly form the data using a transform lambda and Lazy_Iterable_Wrapper. Finally wrap them in a dataloader\n",
    "\n",
    "transform_lambda = lambda ex: ex[1] # Original is (<domain>, <episode>) so we strip down to episode only\n",
    "\n",
    "train_processed_source = Lazy_Iterable_Wrapper(train_original_source, transform_lambda)\n",
    "val_processed_source   = Lazy_Iterable_Wrapper(val_original_source, transform_lambda)\n",
    "test_processed_source  = Lazy_Iterable_Wrapper(test_original_source, transform_lambda)\n",
    "\n",
    "train_processed_target = Lazy_Iterable_Wrapper(train_original_target, transform_lambda)\n",
    "val_processed_target   = Lazy_Iterable_Wrapper(val_original_target, transform_lambda)\n",
    "test_processed_target  = Lazy_Iterable_Wrapper(test_original_target, transform_lambda)\n",
    "\n",
    "datasets = EasyDict({\n",
    "    \"source\": {\n",
    "        \"original\": {\"train\":train_original_source, \"val\":val_original_source, \"test\":test_original_source},\n",
    "        \"processed\": {\"train\":train_processed_source, \"val\":val_processed_source, \"test\":test_processed_source}\n",
    "    },\n",
    "    \"target\": {\n",
    "        \"original\": {\"train\":train_original_target, \"val\":val_original_target, \"test\":test_original_target},\n",
    "        \"processed\": {\"train\":train_processed_target, \"val\":val_processed_target, \"test\":test_processed_target}\n",
    "    },\n",
    "})"
   ]
  },
  {
   "cell_type": "code",
   "execution_count": 20,
   "id": "5b3c01fc",
   "metadata": {
    "execution": {
     "iopub.execute_input": "2022-03-21T15:13:32.067129Z",
     "iopub.status.busy": "2022-03-21T15:13:32.066743Z",
     "iopub.status.idle": "2022-03-21T15:13:47.882327Z",
     "shell.execute_reply": "2022-03-21T15:13:47.883036Z"
    },
    "papermill": {
     "duration": 15.841392,
     "end_time": "2022-03-21T15:13:47.883256",
     "exception": false,
     "start_time": "2022-03-21T15:13:32.041864",
     "status": "completed"
    },
    "tags": []
   },
   "outputs": [
    {
     "name": "stdout",
     "output_type": "stream",
     "text": [
      "{'ORACLE.run150', 'ORACLE.run144', 'ORACLE.run120', 'ORACLE.run114', 'ORACLE.run18', 'ORACLE.run138', 'ORACLE.run126', 'ORACLE.run132'}\n"
     ]
    },
    {
     "name": "stdout",
     "output_type": "stream",
     "text": [
      "{'Wisig_2', 'Wisig_3', 'Wisig_4', 'Wisig_1'}\n"
     ]
    },
    {
     "name": "stdout",
     "output_type": "stream",
     "text": [
      "tensor([[[ 0.8613,  0.6522, -0.8613,  ..., -0.7191,  0.0084, -1.1790],\n",
      "         [-0.5435,  0.4264,  0.8863,  ..., -0.7358, -1.3044, -0.0334]],\n",
      "\n",
      "        [[ 0.4337,  1.0374, -0.6973,  ..., -0.7568,  0.8758, -0.0255],\n",
      "         [-0.3656,  0.6207,  0.3316,  ..., -0.5017, -0.9779, -0.9354]],\n",
      "\n",
      "        [[-0.3375, -0.6666,  0.8438,  ...,  0.7172, -1.0548, -0.3628],\n",
      "         [ 0.2531, -0.9029, -0.1856,  ...,  0.7594,  0.6835,  0.7848]],\n",
      "\n",
      "        ...,\n",
      "\n",
      "        [[-0.4226, -0.9694,  0.4143,  ...,  0.9694,  0.4060,  1.0771],\n",
      "         [ 1.0026,  0.0663, -1.1517,  ...,  0.0580,  1.2014, -0.2651]],\n",
      "\n",
      "        [[ 0.5145,  0.0083, -0.7385,  ..., -0.0747,  1.2446,  0.7551],\n",
      "         [ 0.0000,  1.1119, -0.4149,  ..., -0.8795,  0.1494, -0.5808]],\n",
      "\n",
      "        [[ 0.9155,  0.4773, -0.9859,  ..., -0.6495,  0.0078, -1.3146],\n",
      "         [-0.5164,  0.4930,  0.7355,  ..., -0.8060, -1.1502,  0.1252]]])\n"
     ]
    }
   ],
   "source": [
    "from steves_utils.transforms import get_average_magnitude, get_average_power\n",
    "\n",
    "print(set([u for u,_ in val_original_source]))\n",
    "print(set([u for u,_ in val_original_target]))\n",
    "\n",
    "s_x, s_y, q_x, q_y, _ = next(iter(train_processed_source))\n",
    "print(s_x)\n",
    "\n",
    "# for ds in [\n",
    "#     train_processed_source,\n",
    "#     val_processed_source,\n",
    "#     test_processed_source,\n",
    "#     train_processed_target,\n",
    "#     val_processed_target,\n",
    "#     test_processed_target\n",
    "# ]:\n",
    "#     for s_x, s_y, q_x, q_y, _ in ds:\n",
    "#         for X in (s_x, q_x):\n",
    "#             for x in X:\n",
    "#                 assert np.isclose(get_average_magnitude(x.numpy()), 1.0)\n",
    "#                 assert np.isclose(get_average_power(x.numpy()), 1.0)\n",
    "                "
   ]
  },
  {
   "cell_type": "code",
   "execution_count": 21,
   "id": "bbdacba1",
   "metadata": {
    "execution": {
     "iopub.execute_input": "2022-03-21T15:13:47.942778Z",
     "iopub.status.busy": "2022-03-21T15:13:47.942211Z",
     "iopub.status.idle": "2022-03-21T15:13:48.192428Z",
     "shell.execute_reply": "2022-03-21T15:13:48.192030Z"
    },
    "papermill": {
     "duration": 0.279454,
     "end_time": "2022-03-21T15:13:48.192543",
     "exception": false,
     "start_time": "2022-03-21T15:13:47.913089",
     "status": "completed"
    },
    "tags": []
   },
   "outputs": [
    {
     "name": "stdout",
     "output_type": "stream",
     "text": [
      "(2, 256)\n"
     ]
    }
   ],
   "source": [
    "###################################\n",
    "# Build the model\n",
    "###################################\n",
    "# easfsl only wants a tuple for the shape\n",
    "model = Steves_Prototypical_Network(x_net, device=p.device, x_shape=tuple(p.x_shape))\n",
    "optimizer = Adam(params=model.parameters(), lr=p.lr)"
   ]
  },
  {
   "cell_type": "code",
   "execution_count": 22,
   "id": "22b39ac5",
   "metadata": {
    "execution": {
     "iopub.execute_input": "2022-03-21T15:13:48.244925Z",
     "iopub.status.busy": "2022-03-21T15:13:48.244543Z",
     "iopub.status.idle": "2022-03-21T15:35:54.670314Z",
     "shell.execute_reply": "2022-03-21T15:35:54.669966Z"
    },
    "papermill": {
     "duration": 1326.454366,
     "end_time": "2022-03-21T15:35:54.670401",
     "exception": false,
     "start_time": "2022-03-21T15:13:48.216035",
     "status": "completed"
    },
    "tags": []
   },
   "outputs": [
    {
     "name": "stdout",
     "output_type": "stream",
     "text": [
      "epoch: 1, [batch: 1 / 6720], examples_per_second: 33.3204, train_label_loss: 3.1050, \n"
     ]
    },
    {
     "name": "stdout",
     "output_type": "stream",
     "text": [
      "epoch: 1, [batch: 672 / 6720], examples_per_second: 2388.8869, train_label_loss: 1.5277, \n"
     ]
    },
    {
     "name": "stdout",
     "output_type": "stream",
     "text": [
      "epoch: 1, [batch: 1344 / 6720], examples_per_second: 2873.7170, train_label_loss: 0.7470, \n"
     ]
    },
    {
     "name": "stdout",
     "output_type": "stream",
     "text": [
      "epoch: 1, [batch: 2016 / 6720], examples_per_second: 2928.1333, train_label_loss: 0.7994, \n"
     ]
    },
    {
     "name": "stdout",
     "output_type": "stream",
     "text": [
      "epoch: 1, [batch: 2688 / 6720], examples_per_second: 2945.7368, train_label_loss: 0.6936, \n"
     ]
    },
    {
     "name": "stdout",
     "output_type": "stream",
     "text": [
      "epoch: 1, [batch: 3360 / 6720], examples_per_second: 2541.5720, train_label_loss: 0.4978, \n"
     ]
    },
    {
     "name": "stdout",
     "output_type": "stream",
     "text": [
      "epoch: 1, [batch: 4032 / 6720], examples_per_second: 2536.8618, train_label_loss: 0.7208, \n"
     ]
    },
    {
     "name": "stdout",
     "output_type": "stream",
     "text": [
      "epoch: 1, [batch: 4704 / 6720], examples_per_second: 2589.1858, train_label_loss: 0.5575, \n"
     ]
    },
    {
     "name": "stdout",
     "output_type": "stream",
     "text": [
      "epoch: 1, [batch: 5376 / 6720], examples_per_second: 3049.4640, train_label_loss: 0.9458, \n"
     ]
    },
    {
     "name": "stdout",
     "output_type": "stream",
     "text": [
      "epoch: 1, [batch: 6048 / 6720], examples_per_second: 3391.5720, train_label_loss: 0.4591, \n"
     ]
    },
    {
     "name": "stdout",
     "output_type": "stream",
     "text": [
      "=============================================================\n",
      "epoch: 1, source_val_acc_label: 0.7646, target_val_acc_label: 0.5910, source_val_label_loss: 7.3736, target_val_label_loss: 945.3148, \n",
      "=============================================================\n"
     ]
    },
    {
     "name": "stdout",
     "output_type": "stream",
     "text": [
      "New best\n"
     ]
    },
    {
     "name": "stdout",
     "output_type": "stream",
     "text": [
      "epoch: 2, [batch: 1 / 6720], examples_per_second: 2.0903, train_label_loss: 0.8920, \n"
     ]
    },
    {
     "name": "stdout",
     "output_type": "stream",
     "text": [
      "epoch: 2, [batch: 672 / 6720], examples_per_second: 2291.4245, train_label_loss: 0.8884, \n"
     ]
    },
    {
     "name": "stdout",
     "output_type": "stream",
     "text": [
      "epoch: 2, [batch: 1344 / 6720], examples_per_second: 2549.3803, train_label_loss: 0.7650, \n"
     ]
    },
    {
     "name": "stdout",
     "output_type": "stream",
     "text": [
      "epoch: 2, [batch: 2016 / 6720], examples_per_second: 2567.4414, train_label_loss: 0.3636, \n"
     ]
    },
    {
     "name": "stdout",
     "output_type": "stream",
     "text": [
      "epoch: 2, [batch: 2688 / 6720], examples_per_second: 2580.7724, train_label_loss: 0.7663, \n"
     ]
    },
    {
     "name": "stdout",
     "output_type": "stream",
     "text": [
      "epoch: 2, [batch: 3360 / 6720], examples_per_second: 2319.4215, train_label_loss: 0.4928, \n"
     ]
    },
    {
     "name": "stdout",
     "output_type": "stream",
     "text": [
      "epoch: 2, [batch: 4032 / 6720], examples_per_second: 2312.2595, train_label_loss: 0.2621, \n"
     ]
    },
    {
     "name": "stdout",
     "output_type": "stream",
     "text": [
      "epoch: 2, [batch: 4704 / 6720], examples_per_second: 2424.7520, train_label_loss: 0.4555, \n"
     ]
    },
    {
     "name": "stdout",
     "output_type": "stream",
     "text": [
      "epoch: 2, [batch: 5376 / 6720], examples_per_second: 2680.1516, train_label_loss: 0.0987, \n"
     ]
    },
    {
     "name": "stdout",
     "output_type": "stream",
     "text": [
      "epoch: 2, [batch: 6048 / 6720], examples_per_second: 2542.1592, train_label_loss: 0.5000, \n"
     ]
    },
    {
     "name": "stdout",
     "output_type": "stream",
     "text": [
      "=============================================================\n",
      "epoch: 2, source_val_acc_label: 0.8206, target_val_acc_label: 0.5862, source_val_label_loss: 0.4962, target_val_label_loss: 438.1237, \n",
      "=============================================================\n"
     ]
    },
    {
     "name": "stdout",
     "output_type": "stream",
     "text": [
      "epoch: 3, [batch: 1 / 6720], examples_per_second: 2.0473, train_label_loss: 0.1139, \n"
     ]
    },
    {
     "name": "stdout",
     "output_type": "stream",
     "text": [
      "epoch: 3, [batch: 672 / 6720], examples_per_second: 2348.6487, train_label_loss: 0.4876, \n"
     ]
    },
    {
     "name": "stdout",
     "output_type": "stream",
     "text": [
      "epoch: 3, [batch: 1344 / 6720], examples_per_second: 2600.6982, train_label_loss: 0.1805, \n"
     ]
    },
    {
     "name": "stdout",
     "output_type": "stream",
     "text": [
      "epoch: 3, [batch: 2016 / 6720], examples_per_second: 2602.7024, train_label_loss: 0.5671, \n"
     ]
    },
    {
     "name": "stdout",
     "output_type": "stream",
     "text": [
      "epoch: 3, [batch: 2688 / 6720], examples_per_second: 2559.1303, train_label_loss: 0.4447, \n"
     ]
    },
    {
     "name": "stdout",
     "output_type": "stream",
     "text": [
      "epoch: 3, [batch: 3360 / 6720], examples_per_second: 2322.9460, train_label_loss: 0.5799, \n"
     ]
    },
    {
     "name": "stdout",
     "output_type": "stream",
     "text": [
      "epoch: 3, [batch: 4032 / 6720], examples_per_second: 2331.6725, train_label_loss: 0.3489, \n"
     ]
    },
    {
     "name": "stdout",
     "output_type": "stream",
     "text": [
      "epoch: 3, [batch: 4704 / 6720], examples_per_second: 2442.7395, train_label_loss: 0.2814, \n"
     ]
    },
    {
     "name": "stdout",
     "output_type": "stream",
     "text": [
      "epoch: 3, [batch: 5376 / 6720], examples_per_second: 2620.1773, train_label_loss: 0.5323, \n"
     ]
    },
    {
     "name": "stdout",
     "output_type": "stream",
     "text": [
      "epoch: 3, [batch: 6048 / 6720], examples_per_second: 2595.5737, train_label_loss: 0.4794, \n"
     ]
    },
    {
     "name": "stdout",
     "output_type": "stream",
     "text": [
      "=============================================================\n",
      "epoch: 3, source_val_acc_label: 0.8446, target_val_acc_label: 0.5900, source_val_label_loss: 0.4325, target_val_label_loss: 533.3084, \n",
      "=============================================================\n"
     ]
    },
    {
     "name": "stdout",
     "output_type": "stream",
     "text": [
      "epoch: 4, [batch: 1 / 6720], examples_per_second: 2.0700, train_label_loss: 0.3977, \n"
     ]
    },
    {
     "name": "stdout",
     "output_type": "stream",
     "text": [
      "epoch: 4, [batch: 672 / 6720], examples_per_second: 2325.0115, train_label_loss: 0.1709, \n"
     ]
    },
    {
     "name": "stdout",
     "output_type": "stream",
     "text": [
      "epoch: 4, [batch: 1344 / 6720], examples_per_second: 2586.1314, train_label_loss: 0.5366, \n"
     ]
    },
    {
     "name": "stdout",
     "output_type": "stream",
     "text": [
      "epoch: 4, [batch: 2016 / 6720], examples_per_second: 2596.4814, train_label_loss: 0.3582, \n"
     ]
    },
    {
     "name": "stdout",
     "output_type": "stream",
     "text": [
      "epoch: 4, [batch: 2688 / 6720], examples_per_second: 2624.0964, train_label_loss: 0.2229, \n"
     ]
    },
    {
     "name": "stdout",
     "output_type": "stream",
     "text": [
      "epoch: 4, [batch: 3360 / 6720], examples_per_second: 2323.4309, train_label_loss: 0.3152, \n"
     ]
    },
    {
     "name": "stdout",
     "output_type": "stream",
     "text": [
      "epoch: 4, [batch: 4032 / 6720], examples_per_second: 2324.2420, train_label_loss: 0.1392, \n"
     ]
    },
    {
     "name": "stdout",
     "output_type": "stream",
     "text": [
      "epoch: 4, [batch: 4704 / 6720], examples_per_second: 2377.2264, train_label_loss: 0.7958, \n"
     ]
    },
    {
     "name": "stdout",
     "output_type": "stream",
     "text": [
      "epoch: 4, [batch: 5376 / 6720], examples_per_second: 2574.8327, train_label_loss: 0.1374, \n"
     ]
    },
    {
     "name": "stdout",
     "output_type": "stream",
     "text": [
      "epoch: 4, [batch: 6048 / 6720], examples_per_second: 2579.4015, train_label_loss: 0.2004, \n"
     ]
    },
    {
     "name": "stdout",
     "output_type": "stream",
     "text": [
      "=============================================================\n",
      "epoch: 4, source_val_acc_label: 0.8778, target_val_acc_label: 0.5859, source_val_label_loss: 0.3381, target_val_label_loss: 582.0710, \n",
      "=============================================================\n"
     ]
    },
    {
     "name": "stdout",
     "output_type": "stream",
     "text": [
      "epoch: 5, [batch: 1 / 6720], examples_per_second: 2.0373, train_label_loss: 0.6681, \n"
     ]
    },
    {
     "name": "stdout",
     "output_type": "stream",
     "text": [
      "epoch: 5, [batch: 672 / 6720], examples_per_second: 2323.9950, train_label_loss: 0.3071, \n"
     ]
    },
    {
     "name": "stdout",
     "output_type": "stream",
     "text": [
      "epoch: 5, [batch: 1344 / 6720], examples_per_second: 2552.6265, train_label_loss: 0.2888, \n"
     ]
    },
    {
     "name": "stdout",
     "output_type": "stream",
     "text": [
      "epoch: 5, [batch: 2016 / 6720], examples_per_second: 2573.8249, train_label_loss: 0.2177, \n"
     ]
    },
    {
     "name": "stdout",
     "output_type": "stream",
     "text": [
      "epoch: 5, [batch: 2688 / 6720], examples_per_second: 2604.1080, train_label_loss: 0.1591, \n"
     ]
    },
    {
     "name": "stdout",
     "output_type": "stream",
     "text": [
      "epoch: 5, [batch: 3360 / 6720], examples_per_second: 2292.9625, train_label_loss: 0.4246, \n"
     ]
    },
    {
     "name": "stdout",
     "output_type": "stream",
     "text": [
      "epoch: 5, [batch: 4032 / 6720], examples_per_second: 2326.4027, train_label_loss: 0.3289, \n"
     ]
    },
    {
     "name": "stdout",
     "output_type": "stream",
     "text": [
      "epoch: 5, [batch: 4704 / 6720], examples_per_second: 2451.9669, train_label_loss: 0.2481, \n"
     ]
    },
    {
     "name": "stdout",
     "output_type": "stream",
     "text": [
      "epoch: 5, [batch: 5376 / 6720], examples_per_second: 2613.8870, train_label_loss: 0.1643, \n"
     ]
    },
    {
     "name": "stdout",
     "output_type": "stream",
     "text": [
      "epoch: 5, [batch: 6048 / 6720], examples_per_second: 2877.7129, train_label_loss: 0.0763, \n"
     ]
    },
    {
     "name": "stdout",
     "output_type": "stream",
     "text": [
      "=============================================================\n",
      "epoch: 5, source_val_acc_label: 0.8834, target_val_acc_label: 0.5802, source_val_label_loss: 0.3353, target_val_label_loss: 642.0063, \n",
      "=============================================================\n"
     ]
    },
    {
     "name": "stdout",
     "output_type": "stream",
     "text": [
      "Patience (3) exhausted\n"
     ]
    }
   ],
   "source": [
    "###################################\n",
    "# train\n",
    "###################################\n",
    "jig = PTN_Train_Eval_Test_Jig(model, p.BEST_MODEL_PATH, p.device)\n",
    "\n",
    "jig.train(\n",
    "    train_iterable=datasets.source.processed.train,\n",
    "    source_val_iterable=datasets.source.processed.val,\n",
    "    target_val_iterable=datasets.target.processed.val,\n",
    "    num_epochs=p.n_epoch,\n",
    "    num_logs_per_epoch=p.NUM_LOGS_PER_EPOCH,\n",
    "    patience=p.patience,\n",
    "    optimizer=optimizer,\n",
    "    criteria_for_best=p.criteria_for_best,\n",
    ")"
   ]
  },
  {
   "cell_type": "code",
   "execution_count": 23,
   "id": "31e8fabf",
   "metadata": {
    "execution": {
     "iopub.execute_input": "2022-03-21T15:35:54.753125Z",
     "iopub.status.busy": "2022-03-21T15:35:54.752492Z",
     "iopub.status.idle": "2022-03-21T15:35:54.783788Z",
     "shell.execute_reply": "2022-03-21T15:35:54.783038Z"
    },
    "papermill": {
     "duration": 0.074977,
     "end_time": "2022-03-21T15:35:54.783970",
     "exception": false,
     "start_time": "2022-03-21T15:35:54.708993",
     "status": "completed"
    },
    "tags": []
   },
   "outputs": [],
   "source": [
    "total_experiment_time_secs = time.time() - start_time_secs"
   ]
  },
  {
   "cell_type": "code",
   "execution_count": 24,
   "id": "87b9595b",
   "metadata": {
    "execution": {
     "iopub.execute_input": "2022-03-21T15:35:54.871564Z",
     "iopub.status.busy": "2022-03-21T15:35:54.870842Z",
     "iopub.status.idle": "2022-03-21T15:39:29.317413Z",
     "shell.execute_reply": "2022-03-21T15:39:29.318087Z"
    },
    "papermill": {
     "duration": 214.491728,
     "end_time": "2022-03-21T15:39:29.318319",
     "exception": false,
     "start_time": "2022-03-21T15:35:54.826591",
     "status": "completed"
    },
    "tags": []
   },
   "outputs": [],
   "source": [
    "###################################\n",
    "# Evaluate the model\n",
    "###################################\n",
    "source_test_label_accuracy, source_test_label_loss = jig.test(datasets.source.processed.test)\n",
    "target_test_label_accuracy, target_test_label_loss = jig.test(datasets.target.processed.test)\n",
    "\n",
    "source_val_label_accuracy, source_val_label_loss = jig.test(datasets.source.processed.val)\n",
    "target_val_label_accuracy, target_val_label_loss = jig.test(datasets.target.processed.val)\n",
    "\n",
    "history = jig.get_history()\n",
    "\n",
    "total_epochs_trained = len(history[\"epoch_indices\"])\n",
    "\n",
    "val_dl = Iterable_Aggregator((datasets.source.original.val,datasets.target.original.val))\n",
    "\n",
    "confusion = ptn_confusion_by_domain_over_dataloader(model, p.device, val_dl)\n",
    "per_domain_accuracy = per_domain_accuracy_from_confusion(confusion)\n",
    "\n",
    "# Add a key to per_domain_accuracy for if it was a source domain\n",
    "for domain, accuracy in per_domain_accuracy.items():\n",
    "    per_domain_accuracy[domain] = {\n",
    "        \"accuracy\": accuracy,\n",
    "        \"source?\": domain in p.domains_source\n",
    "    }\n",
    "\n",
    "# Do an independent accuracy assesment JUST TO BE SURE!\n",
    "# _source_test_label_accuracy = independent_accuracy_assesment(model, datasets.source.processed.test, p.device)\n",
    "# _target_test_label_accuracy = independent_accuracy_assesment(model, datasets.target.processed.test, p.device)\n",
    "# _source_val_label_accuracy = independent_accuracy_assesment(model, datasets.source.processed.val, p.device)\n",
    "# _target_val_label_accuracy = independent_accuracy_assesment(model, datasets.target.processed.val, p.device)\n",
    "\n",
    "# assert(_source_test_label_accuracy == source_test_label_accuracy)\n",
    "# assert(_target_test_label_accuracy == target_test_label_accuracy)\n",
    "# assert(_source_val_label_accuracy == source_val_label_accuracy)\n",
    "# assert(_target_val_label_accuracy == target_val_label_accuracy)\n",
    "\n",
    "experiment = {\n",
    "    \"experiment_name\": p.experiment_name,\n",
    "    \"parameters\": dict(p),\n",
    "    \"results\": {\n",
    "        \"source_test_label_accuracy\": source_test_label_accuracy,\n",
    "        \"source_test_label_loss\": source_test_label_loss,\n",
    "        \"target_test_label_accuracy\": target_test_label_accuracy,\n",
    "        \"target_test_label_loss\": target_test_label_loss,\n",
    "        \"source_val_label_accuracy\": source_val_label_accuracy,\n",
    "        \"source_val_label_loss\": source_val_label_loss,\n",
    "        \"target_val_label_accuracy\": target_val_label_accuracy,\n",
    "        \"target_val_label_loss\": target_val_label_loss,\n",
    "        \"total_epochs_trained\": total_epochs_trained,\n",
    "        \"total_experiment_time_secs\": total_experiment_time_secs,\n",
    "        \"confusion\": confusion,\n",
    "        \"per_domain_accuracy\": per_domain_accuracy,\n",
    "    },\n",
    "    \"history\": history,\n",
    "    \"dataset_metrics\": get_dataset_metrics(datasets, \"ptn\"),\n",
    "}"
   ]
  },
  {
   "cell_type": "code",
   "execution_count": 25,
   "id": "54a21829",
   "metadata": {
    "execution": {
     "iopub.execute_input": "2022-03-21T15:39:29.406267Z",
     "iopub.status.busy": "2022-03-21T15:39:29.405892Z",
     "iopub.status.idle": "2022-03-21T15:39:29.622226Z",
     "shell.execute_reply": "2022-03-21T15:39:29.622916Z"
    },
    "papermill": {
     "duration": 0.258322,
     "end_time": "2022-03-21T15:39:29.623137",
     "exception": false,
     "start_time": "2022-03-21T15:39:29.364815",
     "status": "completed"
    },
    "tags": []
   },
   "outputs": [
    {
     "data": {
      "image/png": "[encoded data removed]",
      "text/plain": [
       "<Figure size 1080x504 with 1 Axes>"
      ]
     },
     "metadata": {
      "needs_background": "light"
     },
     "output_type": "display_data"
    }
   ],
   "source": [
    "ax = get_loss_curve(experiment)\n",
    "plt.show()"
   ]
  },
  {
   "cell_type": "code",
   "execution_count": 26,
   "id": "fd8a0f60",
   "metadata": {
    "execution": {
     "iopub.execute_input": "2022-03-21T15:39:29.709559Z",
     "iopub.status.busy": "2022-03-21T15:39:29.708995Z",
     "iopub.status.idle": "2022-03-21T15:39:30.100375Z",
     "shell.execute_reply": "2022-03-21T15:39:30.101055Z"
    },
    "papermill": {
     "duration": 0.433893,
     "end_time": "2022-03-21T15:39:30.101255",
     "exception": false,
     "start_time": "2022-03-21T15:39:29.667362",
     "status": "completed"
    },
    "tags": []
   },
   "outputs": [
    {
     "data": {
      "text/plain": [
       "<AxesSubplot:title={'center':'Results'}>"
      ]
     },
     "execution_count": 26,
     "metadata": {},
     "output_type": "execute_result"
    },
    {
     "data": {
      "image/png": "[encoded data removed]",
      "text/plain": [
       "<Figure size 1080x504 with 1 Axes>"
      ]
     },
     "metadata": {
      "needs_background": "light"
     },
     "output_type": "display_data"
    }
   ],
   "source": [
    "get_results_table(experiment)"
   ]
  },
  {
   "cell_type": "code",
   "execution_count": 27,
   "id": "cf8dc689",
   "metadata": {
    "execution": {
     "iopub.execute_input": "2022-03-21T15:39:30.189595Z",
     "iopub.status.busy": "2022-03-21T15:39:30.189221Z",
     "iopub.status.idle": "2022-03-21T15:39:30.451102Z",
     "shell.execute_reply": "2022-03-21T15:39:30.450374Z"
    },
    "papermill": {
     "duration": 0.304687,
     "end_time": "2022-03-21T15:39:30.451264",
     "exception": false,
     "start_time": "2022-03-21T15:39:30.146577",
     "status": "completed"
    },
    "tags": []
   },
   "outputs": [
    {
     "data": {
      "text/plain": [
       "<AxesSubplot:title={'center':'Per Domain Validation Accuracy'}, xlabel='domain'>"
      ]
     },
     "execution_count": 27,
     "metadata": {},
     "output_type": "execute_result"
    },
    {
     "data": {
      "image/png": "[encoded data removed]",
      "text/plain": [
       "<Figure size 1080x504 with 1 Axes>"
      ]
     },
     "metadata": {
      "needs_background": "light"
     },
     "output_type": "display_data"
    }
   ],
   "source": [
    "get_domain_accuracies(experiment)"
   ]
  },
  {
   "cell_type": "code",
   "execution_count": 28,
   "id": "a74ae082",
   "metadata": {
    "execution": {
     "iopub.execute_input": "2022-03-21T15:39:30.545720Z",
     "iopub.status.busy": "2022-03-21T15:39:30.545329Z",
     "iopub.status.idle": "2022-03-21T15:39:30.574185Z",
     "shell.execute_reply": "2022-03-21T15:39:30.574863Z"
    },
    "papermill": {
     "duration": 0.076851,
     "end_time": "2022-03-21T15:39:30.575060",
     "exception": false,
     "start_time": "2022-03-21T15:39:30.498209",
     "status": "completed"
    },
    "tags": []
   },
   "outputs": [
    {
     "name": "stdout",
     "output_type": "stream",
     "text": [
      "Source Test Label Accuracy: 0.76279296875 Target Test Label Accuracy: 0.5975554695562435\n",
      "Source Val Label Accuracy: 0.7645833333333333 Target Val Label Accuracy: 0.5910110876451954\n"
     ]
    }
   ],
   "source": [
    "print(\"Source Test Label Accuracy:\", experiment[\"results\"][\"source_test_label_accuracy\"], \"Target Test Label Accuracy:\", experiment[\"results\"][\"target_test_label_accuracy\"])\n",
    "print(\"Source Val Label Accuracy:\", experiment[\"results\"][\"source_val_label_accuracy\"], \"Target Val Label Accuracy:\", experiment[\"results\"][\"target_val_label_accuracy\"])"
   ]
  },
  {
   "cell_type": "code",
   "execution_count": 29,
   "id": "dacca602",
   "metadata": {
    "execution": {
     "iopub.execute_input": "2022-03-21T15:39:30.671418Z",
     "iopub.status.busy": "2022-03-21T15:39:30.671036Z",
     "iopub.status.idle": "2022-03-21T15:39:30.704853Z",
     "shell.execute_reply": "2022-03-21T15:39:30.705523Z"
    },
    "papermill": {
     "duration": 0.081459,
     "end_time": "2022-03-21T15:39:30.705729",
     "exception": false,
     "start_time": "2022-03-21T15:39:30.624270",
     "status": "completed"
    },
    "tags": [
     "experiment_json"
    ]
   },
   "outputs": [
    {
     "data": {
      "text/plain": [
       "'{\"experiment_name\": \"tl_1v2:wisig-oracle.run1.framed\", \"parameters\": {\"experiment_name\": \"tl_1v2:wisig-oracle.run1.framed\", \"device\": \"cuda\", \"lr\": 0.0001, \"n_shot\": 3, \"n_query\": 2, \"train_k_factor\": 3, \"val_k_factor\": 2, \"test_k_factor\": 2, \"torch_default_dtype\": \"torch.float32\", \"n_epoch\": 50, \"patience\": 3, \"criteria_for_best\": \"target_accuracy\", \"x_net\": [{\"class\": \"nnReshape\", \"kargs\": {\"shape\": [-1, 1, 2, 256]}}, {\"class\": \"Conv2d\", \"kargs\": {\"in_channels\": 1, \"out_channels\": 256, \"kernel_size\": [1, 7], \"bias\": false, \"padding\": [0, 3]}}, {\"class\": \"ReLU\", \"kargs\": {\"inplace\": true}}, {\"class\": \"BatchNorm2d\", \"kargs\": {\"num_features\": 256}}, {\"class\": \"Conv2d\", \"kargs\": {\"in_channels\": 256, \"out_channels\": 80, \"kernel_size\": [2, 7], \"bias\": true, \"padding\": [0, 3]}}, {\"class\": \"ReLU\", \"kargs\": {\"inplace\": true}}, {\"class\": \"BatchNorm2d\", \"kargs\": {\"num_features\": 80}}, {\"class\": \"Flatten\", \"kargs\": {}}, {\"class\": \"Linear\", \"kargs\": {\"in_features\": 20480, \"out_features\": 256}}, {\"class\": \"ReLU\", \"kargs\": {\"inplace\": true}}, {\"class\": \"BatchNorm1d\", \"kargs\": {\"num_features\": 256}}, {\"class\": \"Linear\", \"kargs\": {\"in_features\": 256, \"out_features\": 256}}], \"NUM_LOGS_PER_EPOCH\": 10, \"BEST_MODEL_PATH\": \"./best_model.pth\", \"n_way\": 16, \"datasets\": [{\"labels\": [\"1-10\", \"1-12\", \"1-14\", \"1-16\", \"1-18\", \"1-19\", \"1-8\", \"10-11\", \"10-17\", \"10-4\", \"10-7\", \"11-1\", \"11-10\", \"11-19\", \"11-20\", \"11-4\", \"11-7\", \"12-19\", \"12-20\", \"12-7\", \"13-14\", \"13-18\", \"13-19\", \"13-20\", \"13-3\", \"13-7\", \"14-10\", \"14-11\", \"14-12\", \"14-13\", \"14-14\", \"14-19\", \"14-20\", \"14-7\", \"14-8\", \"14-9\", \"15-1\", \"15-19\", \"15-6\", \"16-1\", \"16-16\", \"16-19\", \"16-20\", \"17-10\", \"17-11\", \"18-1\", \"18-10\", \"18-11\", \"18-12\", \"18-13\", \"18-14\", \"18-15\", \"18-16\", \"18-17\", \"18-19\", \"18-2\", \"18-20\", \"18-4\", \"18-5\", \"18-7\", \"18-8\", \"18-9\", \"19-1\", \"19-10\", \"19-11\", \"19-12\", \"19-13\", \"19-14\", \"19-15\", \"19-19\", \"19-2\", \"19-20\", \"19-3\", \"19-4\", \"19-6\", \"19-7\", \"19-8\", \"19-9\", \"2-1\", \"2-13\", \"2-15\", \"2-3\", \"2-4\", \"2-5\", \"2-6\", \"2-7\", \"2-8\", \"20-1\", \"20-12\", \"20-14\", \"20-15\", \"20-16\", \"20-18\", \"20-19\", \"20-20\", \"20-3\", \"20-4\", \"20-5\", \"20-7\", \"20-8\", \"3-1\", \"3-13\", \"3-18\", \"3-2\", \"3-8\", \"4-1\", \"4-10\", \"4-11\", \"5-1\", \"5-5\", \"6-1\", \"6-15\", \"6-6\", \"7-10\", \"7-11\", \"7-12\", \"7-13\", \"7-14\", \"7-7\", \"7-8\", \"7-9\", \"8-1\", \"8-13\", \"8-14\", \"8-18\", \"8-20\", \"8-3\", \"8-8\", \"9-1\", \"9-7\"], \"domains\": [1, 2, 3, 4], \"num_examples_per_domain_per_label\": -1, \"pickle_path\": \"/root/csc500-main/datasets/wisig.node3-19.stratified_ds.2022A.pkl\", \"source_or_target_dataset\": \"target\", \"x_transforms\": [\"unit_power\"], \"episode_transforms\": [], \"domain_prefix\": \"Wisig_\"}, {\"labels\": [\"3123D52\", \"3123D65\", \"3123D79\", \"3123D80\", \"3123D54\", \"3123D70\", \"3123D7B\", \"3123D89\", \"3123D58\", \"3123D76\", \"3123D7D\", \"3123EFE\", \"3123D64\", \"3123D78\", \"3123D7E\", \"3124E4A\"], \"domains\": [32, 38, 8, 44, 14, 50, 20, 26], \"num_examples_per_domain_per_label\": 2000, \"pickle_path\": \"/root/csc500-main/datasets/oracle.Run1_framed_2000Examples_stratified_ds.2022A.pkl\", \"source_or_target_dataset\": \"source\", \"x_transforms\": [\"unit_power\"], \"episode_transforms\": [], \"domain_prefix\": \"ORACLE.run1\"}], \"dataset_seed\": 7, \"seed\": 7, \"x_shape\": [2, 256], \"domains_source\": [\"ORACLE.run132\", \"ORACLE.run138\", \"ORACLE.run18\", \"ORACLE.run144\", \"ORACLE.run114\", \"ORACLE.run150\", \"ORACLE.run120\", \"ORACLE.run126\"], \"domains_target\": [\"Wisig_1\", \"Wisig_2\", \"Wisig_3\", \"Wisig_4\"]}, \"results\": {\"source_test_label_accuracy\": 0.76279296875, \"source_test_label_loss\": 8.037205696105957, \"target_test_label_accuracy\": 0.5975554695562435, \"target_test_label_loss\": 944.7422485351562, \"source_val_label_accuracy\": 0.7645833333333333, \"source_val_label_loss\": 7.373579502105713, \"target_val_label_accuracy\": 0.5910110876451954, \"target_val_label_loss\": 945.3148193359375, \"total_epochs_trained\": 5, \"total_experiment_time_secs\": 1387.30313539505, \"confusion\": {\"ORACLE.run126\": {\"0\": {\"10\": 58, \"8\": 26, \"4\": 36, \"0\": 87, \"14\": 31, \"7\": 1, \"1\": 1}, \"4\": {\"14\": 73, \"4\": 96, \"8\": 15, \"0\": 28, \"1\": 13, \"7\": 7, \"10\": 8}, \"14\": {\"4\": 79, \"14\": 97, \"1\": 19, \"0\": 28, \"7\": 1, \"8\": 4, \"10\": 12}, \"12\": {\"12\": 240}, \"8\": {\"7\": 21, \"14\": 6, \"8\": 109, \"4\": 22, \"0\": 20, \"10\": 49, \"15\": 5, \"9\": 4, \"2\": 1, \"5\": 1, \"6\": 2}, \"7\": {\"7\": 163, \"4\": 18, \"14\": 5, \"3\": 24, \"2\": 11, \"8\": 11, \"1\": 2, \"10\": 2, \"9\": 1, \"15\": 1, \"0\": 2}, \"13\": {\"13\": 188, \"5\": 45, \"2\": 3, \"9\": 1, \"15\": 3}, \"5\": {\"15\": 5, \"5\": 184, \"2\": 17, \"13\": 25, \"9\": 3, \"8\": 6}, \"15\": {\"9\": 81, \"15\": 121, \"13\": 12, \"7\": 3, \"2\": 3, \"5\": 5, \"8\": 6, \"10\": 2, \"6\": 7}, \"10\": {\"10\": 116, \"0\": 60, \"14\": 13, \"4\": 10, \"9\": 3, \"8\": 31, \"6\": 5, \"15\": 1, \"7\": 1}, \"3\": {\"3\": 176, \"7\": 21, \"2\": 43}, \"9\": {\"9\": 122, \"15\": 83, \"13\": 6, \"6\": 22, \"10\": 2, \"8\": 3, \"5\": 1, \"0\": 1}, \"6\": {\"6\": 198, \"15\": 3, \"10\": 8, \"9\": 28, \"0\": 2, \"8\": 1}, \"1\": {\"1\": 197, \"14\": 24, \"4\": 16, \"2\": 1, \"3\": 1, \"10\": 1}, \"11\": {\"11\": 240}, \"2\": {\"15\": 15, \"2\": 91, \"3\": 65, \"7\": 24, \"8\": 4, \"5\": 39, \"13\": 2}}, \"ORACLE.run144\": {\"1\": {\"1\": 150, \"3\": 30, \"12\": 43, \"2\": 11, \"10\": 6}, \"11\": {\"11\": 233, \"13\": 7}, \"3\": {\"3\": 217, \"1\": 20, \"7\": 2, \"2\": 1}, \"6\": {\"9\": 18, \"13\": 39, \"6\": 175, \"7\": 8}, \"7\": {\"7\": 170, \"3\": 1, \"2\": 24, \"9\": 38, \"6\": 7}, \"5\": {\"5\": 210, \"0\": 14, \"15\": 5, \"8\": 3, \"14\": 8}, \"2\": {\"2\": 192, \"10\": 4, \"3\": 3, \"7\": 28, \"1\": 10, \"9\": 3}, \"15\": {\"15\": 188, \"0\": 22, \"8\": 5, \"14\": 17, \"5\": 8}, \"10\": {\"10\": 140, \"12\": 53, \"2\": 6, \"1\": 41}, \"13\": {\"13\": 175, \"6\": 37, \"9\": 21, \"11\": 5, \"7\": 1, \"4\": 1}, \"8\": {\"0\": 82, \"8\": 152, \"15\": 5, \"5\": 1}, \"4\": {\"4\": 181, \"14\": 56, \"15\": 2, \"5\": 1}, \"9\": {\"13\": 33, \"9\": 134, \"7\": 57, \"6\": 14, \"2\": 2}, \"14\": {\"4\": 74, \"14\": 147, \"5\": 7, \"15\": 12}, \"0\": {\"0\": 145, \"15\": 9, \"8\": 70, \"5\": 16}, \"12\": {\"10\": 31, \"12\": 152, \"1\": 56, \"3\": 1}}, \"ORACLE.run150\": {\"15\": {\"15\": 201, \"1\": 28, \"11\": 4, \"4\": 7}, \"4\": {\"4\": 115, \"5\": 40, \"1\": 50, \"15\": 28, \"2\": 1, \"13\": 3, \"6\": 2, \"7\": 1}, \"6\": {\"6\": 199, \"7\": 4, \"13\": 24, \"1\": 8, \"15\": 4, \"4\": 1}, \"2\": {\"2\": 218, \"0\": 22}, \"5\": {\"5\": 130, \"7\": 21, \"1\": 13, \"13\": 39, \"6\": 2, \"4\": 34, \"10\": 1}, \"9\": {\"9\": 225, \"11\": 13, \"12\": 2}, \"8\": {\"8\": 231, \"10\": 7, \"3\": 2}, \"12\": {\"12\": 236, \"14\": 1, \"9\": 2, \"11\": 1}, \"10\": {\"0\": 7, \"10\": 222, \"8\": 7, \"7\": 2, \"13\": 2}, \"1\": {\"4\": 31, \"5\": 5, \"1\": 158, \"6\": 6, \"15\": 40}, \"0\": {\"0\": 216, \"2\": 17, \"10\": 7}, \"3\": {\"8\": 8, \"3\": 232}, \"13\": {\"13\": 170, \"7\": 38, \"6\": 12, \"5\": 18, \"10\": 1, \"4\": 1}, \"11\": {\"11\": 223, \"9\": 7, \"15\": 4, \"12\": 2, \"14\": 3, \"3\": 1}, \"7\": {\"13\": 47, \"7\": 174, \"6\": 3, \"5\": 10, \"10\": 6}, \"14\": {\"14\": 240}}, \"ORACLE.run138\": {\"15\": {\"15\": 162, \"8\": 9, \"13\": 56, \"10\": 2, \"1\": 9, \"0\": 1, \"2\": 1}, \"11\": {\"14\": 88, \"11\": 133, \"10\": 11, \"12\": 1, \"2\": 4, \"4\": 1, \"3\": 2}, \"10\": {\"10\": 209, \"11\": 1, \"13\": 11, \"8\": 9, \"14\": 2, \"7\": 2, \"15\": 2, \"5\": 2, \"2\": 1, \"0\": 1}, \"14\": {\"14\": 207, \"11\": 22, \"2\": 11}, \"6\": {\"6\": 202, \"9\": 36, \"5\": 2}, \"4\": {\"4\": 235, \"14\": 3, \"12\": 1, \"7\": 1}, \"13\": {\"13\": 164, \"15\": 50, \"2\": 4, \"8\": 7, \"14\": 1, \"1\": 6, \"10\": 7, \"5\": 1}, \"3\": {\"9\": 31, \"3\": 188, \"5\": 3, \"7\": 6, \"6\": 3, \"11\": 1, \"0\": 6, \"14\": 1, \"12\": 1}, \"7\": {\"7\": 213, \"5\": 15, \"0\": 8, \"8\": 4}, \"8\": {\"5\": 24, \"8\": 177, \"0\": 19, \"7\": 8, \"10\": 4, \"13\": 1, \"15\": 7}, \"1\": {\"1\": 233, \"15\": 7}, \"5\": {\"5\": 120, \"8\": 53, \"6\": 7, \"7\": 28, \"15\": 10, \"1\": 2, \"0\": 13, \"3\": 2, \"13\": 2, \"9\": 3}, \"0\": {\"7\": 26, \"0\": 132, \"5\": 8, \"8\": 59, \"3\": 10, \"15\": 1, \"10\": 3, \"6\": 1}, \"2\": {\"2\": 231, \"14\": 6, \"13\": 3}, \"12\": {\"12\": 238, \"4\": 2}, \"9\": {\"6\": 66, \"9\": 171, \"3\": 2, \"5\": 1}}, \"ORACLE.run120\": {\"10\": {\"10\": 236, \"14\": 4}, \"7\": {\"7\": 201, \"2\": 29, \"3\": 4, \"8\": 3, \"9\": 3}, \"4\": {\"8\": 11, \"4\": 223, \"3\": 4, \"10\": 2}, \"13\": {\"13\": 234, \"2\": 6}, \"1\": {\"1\": 144, \"3\": 5, \"12\": 63, \"15\": 14, \"5\": 13, \"2\": 1}, \"0\": {\"5\": 49, \"0\": 161, \"15\": 24, \"8\": 5, \"7\": 1}, \"12\": {\"12\": 130, \"3\": 39, \"9\": 17, \"1\": 38, \"2\": 9, \"5\": 6, \"15\": 1}, \"5\": {\"15\": 11, \"5\": 167, \"1\": 16, \"12\": 7, \"0\": 37, \"3\": 2}, \"6\": {\"6\": 215, \"14\": 24, \"8\": 1}, \"2\": {\"7\": 32, \"9\": 66, \"3\": 15, \"12\": 14, \"2\": 106, \"1\": 2, \"13\": 5}, \"8\": {\"8\": 218, \"4\": 18, \"14\": 2, \"7\": 2}, \"11\": {\"11\": 240}, \"9\": {\"9\": 128, \"3\": 25, \"2\": 67, \"12\": 15, \"7\": 5}, \"14\": {\"14\": 220, \"6\": 15, \"10\": 3, \"8\": 2}, \"15\": {\"1\": 22, \"15\": 188, \"0\": 12, \"5\": 17, \"13\": 1}, \"3\": {\"3\": 134, \"9\": 38, \"2\": 13, \"7\": 3, \"12\": 47, \"4\": 2, \"1\": 3}}, \"ORACLE.run114\": {\"14\": {\"14\": 213, \"3\": 2, \"13\": 12, \"2\": 12, \"6\": 1}, \"0\": {\"0\": 231, \"10\": 7, \"3\": 1, \"11\": 1}, \"4\": {\"4\": 206, \"5\": 29, \"3\": 3, \"2\": 1, \"1\": 1}, \"11\": {\"11\": 234, \"9\": 3, \"0\": 3}, \"13\": {\"6\": 106, \"13\": 64, \"14\": 37, \"2\": 22, \"5\": 10, \"4\": 1}, \"9\": {\"9\": 240}, \"3\": {\"3\": 235, \"4\": 3, \"2\": 2}, \"6\": {\"6\": 175, \"13\": 59, \"14\": 2, \"2\": 4}, \"1\": {\"1\": 219, \"5\": 16, \"4\": 5}, \"5\": {\"5\": 171, \"1\": 25, \"4\": 38, \"2\": 5, \"3\": 1}, \"12\": {\"12\": 240}, \"10\": {\"10\": 240}, \"8\": {\"8\": 240}, \"7\": {\"7\": 239, \"15\": 1}, \"15\": {\"15\": 237, \"7\": 3}, \"2\": {\"2\": 115, \"13\": 23, \"14\": 38, \"6\": 18, \"5\": 26, \"3\": 12, \"15\": 2, \"4\": 6}}, \"ORACLE.run132\": {\"11\": {\"11\": 166, \"14\": 67, \"13\": 2, \"7\": 2, \"3\": 3}, \"1\": {\"1\": 211, \"10\": 29}, \"2\": {\"2\": 206, \"4\": 31, \"5\": 1, \"0\": 1, \"7\": 1}, \"0\": {\"0\": 200, \"4\": 1, \"7\": 6, \"8\": 16, \"2\": 4, \"14\": 8, \"5\": 3, \"13\": 2}, \"3\": {\"3\": 203, \"14\": 7, \"13\": 5, \"11\": 19, \"5\": 6}, \"8\": {\"8\": 188, \"0\": 22, \"13\": 15, \"5\": 5, \"7\": 1, \"14\": 9}, \"12\": {\"12\": 240}, \"5\": {\"13\": 54, \"4\": 28, \"7\": 51, \"3\": 11, \"5\": 72, \"0\": 7, \"11\": 8, \"14\": 3, \"8\": 5, \"2\": 1}, \"15\": {\"15\": 234, \"8\": 2, \"3\": 4}, \"7\": {\"7\": 127, \"13\": 17, \"5\": 41, \"4\": 26, \"11\": 9, \"14\": 13, \"2\": 3, \"0\": 3, \"3\": 1}, \"4\": {\"4\": 163, \"7\": 18, \"2\": 39, \"13\": 4, \"5\": 15, \"0\": 1}, \"14\": {\"7\": 22, \"0\": 18, \"14\": 104, \"13\": 14, \"8\": 2, \"11\": 70, \"3\": 7, \"5\": 2, \"4\": 1}, \"10\": {\"10\": 238, \"1\": 2}, \"6\": {\"6\": 240}, \"13\": {\"3\": 13, \"13\": 94, \"7\": 21, \"5\": 71, \"14\": 9, \"0\": 6, \"8\": 7, \"4\": 15, \"11\": 4}, \"9\": {\"9\": 240}}, \"ORACLE.run18\": {\"9\": {\"9\": 240}, \"11\": {\"1\": 23, \"11\": 217}, \"8\": {\"8\": 234, \"15\": 6}, \"4\": {\"4\": 145, \"14\": 34, \"6\": 30, \"13\": 27, \"10\": 4}, \"13\": {\"13\": 101, \"4\": 24, \"10\": 20, \"0\": 74, \"14\": 6, \"7\": 3, \"6\": 12}, \"14\": {\"14\": 150, \"4\": 34, \"10\": 39, \"1\": 9, \"5\": 3, \"13\": 5}, \"2\": {\"2\": 223, \"7\": 9, \"15\": 3, \"3\": 3, \"12\": 2}, \"3\": {\"3\": 230, \"2\": 5, \"12\": 5}, \"1\": {\"1\": 223, \"4\": 1, \"14\": 3, \"11\": 12, \"5\": 1}, \"0\": {\"13\": 60, \"0\": 158, \"7\": 15, \"6\": 3, \"4\": 2, \"10\": 2}, \"5\": {\"5\": 204, \"14\": 12, \"10\": 10, \"1\": 14}, \"15\": {\"15\": 187, \"12\": 48, \"8\": 5}, \"10\": {\"14\": 42, \"10\": 161, \"13\": 26, \"5\": 3, \"0\": 1, \"4\": 7}, \"12\": {\"12\": 146, \"15\": 79, \"3\": 11, \"8\": 3, \"2\": 1}, \"6\": {\"0\": 3, \"6\": 140, \"4\": 41, \"7\": 52, \"13\": 4}, \"7\": {\"7\": 168, \"13\": 4, \"6\": 61, \"0\": 4, \"8\": 1, \"4\": 2}}, \"Wisig_4\": {\"71\": {\"71\": 84, \"114\": 3, \"46\": 1, \"82\": 1, \"1\": 3, \"124\": 7, \"4\": 2, \"89\": 1, \"84\": 1, \"70\": 1}, \"17\": {\"17\": 9, \"27\": 1, \"112\": 1, \"4\": 3, \"56\": 4, \"34\": 2}, \"105\": {\"105\": 44, \"1\": 4, \"82\": 2, \"114\": 7, \"39\": 4, \"26\": 1, \"107\": 2, \"90\": 1, \"102\": 1, \"87\": 9, \"71\": 4, \"124\": 6, \"111\": 1, \"7\": 2, \"108\": 1, \"126\": 3, \"104\": 2, \"46\": 1, \"128\": 1, \"120\": 1, \"70\": 1, \"40\": 1, \"18\": 1}, \"92\": {\"92\": 24, \"84\": 1, \"2\": 1, \"102\": 1, \"105\": 1}, \"100\": {\"100\": 13, \"17\": 1, \"99\": 1, \"105\": 1, \"89\": 4}, \"6\": {\"36\": 4, \"6\": 13, \"94\": 4, \"125\": 1, \"30\": 1, \"24\": 1}, \"36\": {\"6\": 2, \"36\": 60, \"54\": 3, \"9\": 3, \"10\": 10, \"97\": 2, \"30\": 3, \"8\": 5, \"127\": 1, \"0\": 4, \"15\": 7, \"125\": 7, \"94\": 5, \"24\": 3, \"111\": 2, \"26\": 1, \"106\": 1, \"34\": 1, \"103\": 1, \"101\": 2, \"98\": 1, \"18\": 1, \"27\": 2, \"12\": 1}, \"35\": {\"35\": 7, \"92\": 1, \"23\": 1, \"117\": 1, \"48\": 1, \"90\": 1}, \"63\": {\"63\": 15, \"26\": 1}, \"104\": {\"104\": 9, \"100\": 1, \"71\": 2, \"120\": 1, \"82\": 1, \"87\": 1, \"124\": 1}, \"114\": {\"105\": 5, \"100\": 1, \"71\": 8, \"114\": 74, \"83\": 2, \"7\": 4, \"1\": 13, \"14\": 1, \"49\": 1, \"94\": 1, \"111\": 2, \"4\": 1, \"107\": 2, \"124\": 6, \"87\": 3, \"81\": 1, \"15\": 1, \"70\": 1, \"113\": 1}, \"68\": {\"27\": 1, \"68\": 13, \"127\": 1, \"34\": 1}, \"109\": {\"109\": 54, \"92\": 1, \"61\": 1, \"76\": 2, \"38\": 1, \"14\": 1, \"122\": 3, \"93\": 16, \"118\": 2, \"69\": 5, \"117\": 1, \"88\": 5, \"113\": 1, \"108\": 2, \"90\": 7, \"44\": 1, \"96\": 1, \"116\": 2, \"62\": 1, \"5\": 2, \"110\": 1, \"26\": 1, \"43\": 4, \"84\": 1}, \"27\": {\"0\": 10, \"101\": 8, \"4\": 2, \"98\": 6, \"52\": 1, \"81\": 1, \"27\": 46, \"10\": 5, \"7\": 1, \"42\": 1, \"39\": 1, \"88\": 4, \"8\": 3, \"111\": 3, \"70\": 2, \"117\": 1, \"126\": 1, \"26\": 1, \"127\": 1, \"113\": 1, \"108\": 1}, \"79\": {\"79\": 10, \"19\": 1, \"13\": 1, \"45\": 2, \"73\": 1, \"64\": 1}, \"0\": {\"0\": 57, \"27\": 9, \"29\": 1, \"97\": 2, \"120\": 1, \"98\": 3, \"111\": 2, \"101\": 9, \"10\": 6, \"8\": 6, \"117\": 1, \"84\": 1, \"39\": 1, \"81\": 1, \"126\": 2, \"24\": 2, \"107\": 1, \"26\": 1}, \"28\": {\"40\": 1, \"28\": 12, \"64\": 2, \"107\": 2, \"50\": 1, \"79\": 1, \"98\": 1}, \"4\": {\"4\": 75, \"112\": 1, \"17\": 1, \"7\": 2, \"111\": 1, \"26\": 1, \"71\": 3, \"16\": 1, \"70\": 2, \"86\": 3, \"80\": 1, \"56\": 2, \"34\": 1, \"114\": 1, \"19\": 1, \"27\": 1, \"24\": 3, \"0\": 2, \"1\": 2}, \"106\": {\"127\": 4, \"106\": 56, \"68\": 2, \"21\": 1, \"91\": 1, \"97\": 1, \"12\": 11, \"101\": 2, \"111\": 6, \"30\": 1, \"125\": 3, \"113\": 2, \"24\": 2, \"15\": 2, \"94\": 1, \"0\": 1, \"98\": 3, \"36\": 2, \"117\": 1}, \"40\": {\"40\": 82, \"115\": 2, \"107\": 8, \"7\": 2, \"14\": 6, \"87\": 10, \"16\": 1, \"105\": 3, \"3\": 7, \"1\": 6, \"124\": 1, \"82\": 1, \"99\": 1, \"114\": 1, \"113\": 1, \"43\": 1, \"18\": 1}, \"127\": {\"127\": 82, \"95\": 4, \"16\": 1, \"24\": 2, \"94\": 1, \"111\": 5, \"34\": 3, \"33\": 1, \"106\": 1, \"103\": 1, \"8\": 2, \"12\": 3, \"10\": 2}, \"57\": {\"57\": 12, \"127\": 1, \"78\": 1, \"74\": 1, \"47\": 1}, \"60\": {\"4\": 2, \"64\": 1, \"82\": 1, \"110\": 1, \"60\": 4, \"88\": 2, \"78\": 1, \"129\": 1, \"7\": 2, \"70\": 1, \"62\": 3, \"40\": 1, \"49\": 1, \"34\": 1, \"109\": 2, \"5\": 1, \"20\": 1, \"0\": 1, \"93\": 1, \"43\": 1, \"118\": 1, \"99\": 1, \"27\": 1}, \"69\": {\"69\": 103, \"90\": 2, \"26\": 1, \"44\": 1, \"102\": 7, \"18\": 2, \"126\": 1, \"31\": 1, \"93\": 2, \"109\": 2, \"118\": 1, \"110\": 1}, \"84\": {\"84\": 79, \"69\": 3, \"13\": 1, \"21\": 1, \"16\": 14, \"78\": 1, \"108\": 1, \"44\": 1, \"109\": 5, \"102\": 13, \"5\": 1, \"90\": 3, \"129\": 1, \"118\": 3, \"117\": 1, \"39\": 1, \"43\": 2, \"93\": 1}, \"24\": {\"4\": 2, \"94\": 6, \"37\": 1, \"24\": 25, \"25\": 1, \"119\": 1, \"70\": 2, \"36\": 7, \"53\": 2, \"10\": 10, \"21\": 1, \"97\": 1, \"18\": 3, \"27\": 8, \"0\": 8, \"8\": 7, \"29\": 1, \"88\": 1, \"12\": 3, \"30\": 3, \"105\": 1, \"15\": 5, \"125\": 5, \"98\": 3, \"101\": 2, \"75\": 1, \"120\": 1, \"87\": 1, \"6\": 1, \"84\": 1, \"111\": 3, \"127\": 1, \"124\": 1, \"126\": 1}, \"94\": {\"84\": 1, \"94\": 50, \"6\": 2, \"127\": 1, \"36\": 7, \"9\": 1, \"30\": 5, \"15\": 8, \"0\": 1, \"29\": 2, \"54\": 1, \"125\": 6, \"10\": 1, \"26\": 2}, \"7\": {\"7\": 65, \"84\": 1, \"1\": 10, \"100\": 1, \"71\": 4, \"27\": 1, \"120\": 1, \"129\": 2, \"101\": 1, \"82\": 1, \"70\": 7, \"105\": 4, \"114\": 3, \"113\": 1, \"126\": 1, \"18\": 1, \"124\": 6, \"88\": 1, \"104\": 1, \"87\": 2, \"17\": 1, \"80\": 1, \"14\": 1, \"72\": 2, \"117\": 1}, \"96\": {\"84\": 4, \"96\": 9, \"59\": 1, \"58\": 1, \"92\": 1, \"105\": 1, \"91\": 1, \"46\": 1, \"109\": 1}, \"116\": {\"69\": 1, \"57\": 1, \"116\": 16, \"67\": 2, \"102\": 2, \"110\": 1, \"90\": 3, \"44\": 1, \"33\": 1}, \"47\": {\"47\": 6, \"60\": 1, \"127\": 2, \"58\": 1, \"113\": 1, \"110\": 1}, \"119\": {\"119\": 15, \"25\": 1}, \"74\": {\"109\": 2, \"74\": 8, \"93\": 1, \"113\": 1, \"73\": 1, \"57\": 2, \"5\": 1}, \"93\": {\"93\": 86, \"109\": 8, \"5\": 11, \"69\": 5, \"66\": 1, \"31\": 1, \"102\": 4, \"50\": 1, \"88\": 2, \"11\": 3, \"44\": 2, \"108\": 1, \"90\": 7, \"122\": 1, \"110\": 5, \"18\": 1, \"118\": 3, \"38\": 1, \"33\": 3, \"116\": 1, \"84\": 3, \"14\": 1, \"43\": 1}, \"2\": {\"78\": 1, \"102\": 1, \"84\": 1, \"2\": 11, \"26\": 1, \"44\": 5, \"35\": 1, \"23\": 1, \"16\": 1, \"81\": 1, \"126\": 1, \"39\": 2, \"121\": 1}, \"37\": {\"37\": 11, \"91\": 1, \"127\": 1, \"34\": 1, \"0\": 2}, \"15\": {\"24\": 1, \"15\": 76, \"77\": 1, \"54\": 1, \"30\": 7, \"125\": 7, \"26\": 1, \"36\": 8, \"98\": 1, \"8\": 5, \"10\": 8, \"94\": 3, \"0\": 1, \"106\": 1, \"59\": 1, \"91\": 1, \"6\": 1, \"111\": 1, \"102\": 1, \"126\": 1, \"101\": 1}, \"102\": {\"102\": 115, \"92\": 3, \"43\": 1, \"67\": 1, \"48\": 1, \"11\": 1, \"33\": 1, \"122\": 2, \"27\": 1, \"44\": 1, \"84\": 5, \"69\": 3, \"5\": 1}, \"87\": {\"87\": 37, \"119\": 1, \"40\": 8, \"113\": 1, \"128\": 1, \"105\": 4, \"107\": 22, \"72\": 3, \"114\": 6, \"108\": 1, \"124\": 6, \"88\": 4, \"70\": 6, \"7\": 3, \"8\": 1, \"18\": 1, \"43\": 3, \"1\": 3, \"104\": 1, \"120\": 1, \"98\": 2, \"32\": 1, \"26\": 1, \"0\": 3, \"3\": 2}, \"107\": {\"107\": 101, \"60\": 1, \"14\": 6, \"109\": 1, \"105\": 2, \"40\": 14, \"43\": 2, \"3\": 6, \"26\": 1, \"87\": 6, \"124\": 2, \"129\": 1, \"1\": 1}, \"61\": {\"61\": 6, \"84\": 1, \"18\": 2, \"26\": 2, \"65\": 1, \"39\": 1, \"67\": 1, \"126\": 1, \"2\": 1}, \"78\": {\"109\": 1, \"119\": 1, \"50\": 1, \"78\": 5, \"81\": 2, \"70\": 2, \"38\": 1, \"7\": 1, \"13\": 1, \"88\": 1, \"8\": 1, \"40\": 2, \"69\": 1, \"87\": 1, \"129\": 1, \"120\": 1, \"126\": 1, \"99\": 1, \"100\": 1, \"117\": 1, \"96\": 1, \"62\": 2, \"92\": 1, \"93\": 1, \"115\": 1, \"57\": 1, \"113\": 1, \"21\": 1}, \"9\": {\"9\": 21, \"10\": 1, \"15\": 1, \"97\": 1, \"8\": 1, \"24\": 1, \"29\": 2}, \"32\": {\"32\": 22, \"33\": 1, \"14\": 2, \"120\": 1, \"70\": 2}, \"14\": {\"14\": 82, \"122\": 1, \"43\": 2, \"107\": 5, \"49\": 1, \"22\": 2, \"7\": 1, \"1\": 1, \"82\": 1, \"62\": 1, \"3\": 1, \"87\": 1, \"114\": 1, \"108\": 1, \"32\": 2, \"60\": 1, \"70\": 1, \"40\": 5, \"72\": 1, \"110\": 1}, \"62\": {\"62\": 35, \"85\": 1, \"107\": 1, \"22\": 3, \"11\": 3, \"81\": 1, \"113\": 2, \"33\": 1, \"118\": 3, \"5\": 2, \"122\": 2, \"129\": 1, \"88\": 1, \"108\": 1, \"117\": 1, \"102\": 1, \"43\": 1}, \"1\": {\"25\": 1, \"119\": 1, \"1\": 37, \"7\": 4, \"124\": 5, \"105\": 7, \"115\": 2, \"82\": 1, \"70\": 2, \"71\": 12, \"40\": 4, \"27\": 1, \"107\": 4, \"125\": 1, \"87\": 5, \"114\": 10, \"24\": 1, \"88\": 1, \"14\": 2, \"3\": 1}, \"23\": {\"23\": 2, \"103\": 1, \"63\": 2, \"91\": 2, \"113\": 4, \"26\": 1, \"117\": 1, \"0\": 1, \"101\": 2}, \"95\": {\"95\": 22, \"37\": 1, \"101\": 1, \"55\": 1, \"4\": 2, \"103\": 1, \"123\": 1, \"56\": 1, \"91\": 1, \"52\": 1}, \"56\": {\"56\": 11, \"112\": 1}, \"91\": {\"91\": 19, \"34\": 1, \"29\": 2, \"101\": 1, \"53\": 1}, \"34\": {\"25\": 1, \"119\": 1, \"34\": 3, \"83\": 5, \"76\": 1, \"120\": 1, \"7\": 2, \"103\": 1, \"15\": 2, \"8\": 1, \"127\": 1, \"94\": 3, \"43\": 1, \"54\": 2, \"56\": 1, \"87\": 1, \"105\": 1, \"10\": 1, \"42\": 1, \"30\": 1, \"82\": 1}, \"25\": {\"25\": 15, \"75\": 1}, \"33\": {\"33\": 104, \"5\": 8, \"73\": 1, \"110\": 3, \"122\": 5, \"11\": 2, \"111\": 1}, \"16\": {\"16\": 94, \"113\": 3, \"90\": 7, \"84\": 8, \"18\": 1, \"102\": 1, \"44\": 3, \"109\": 2, \"117\": 2, \"93\": 1, \"69\": 2}, \"26\": {\"26\": 95, \"61\": 1, \"126\": 8, \"113\": 3, \"81\": 1, \"21\": 1, \"118\": 1, \"105\": 1, \"117\": 5, \"18\": 3, \"39\": 3, \"121\": 1, \"102\": 1, \"110\": 1, \"16\": 1}, \"5\": {\"5\": 83, \"26\": 2, \"45\": 2, \"22\": 1, \"102\": 3, \"73\": 1, \"33\": 13, \"118\": 2, \"11\": 3, \"18\": 2, \"44\": 3, \"106\": 3, \"110\": 4, \"40\": 1, \"69\": 2, \"114\": 1, \"93\": 4, \"117\": 1, \"123\": 1, \"62\": 1, \"43\": 1, \"16\": 1, \"122\": 1}, \"123\": {\"26\": 1, \"125\": 1, \"123\": 10, \"81\": 2, \"21\": 1, \"63\": 1}, \"8\": {\"8\": 86, \"101\": 12, \"9\": 2, \"12\": 1, \"4\": 1, \"0\": 4, \"30\": 2, \"15\": 1, \"70\": 2, \"10\": 2, \"98\": 2, \"27\": 2, \"24\": 1}, \"83\": {\"83\": 5, \"34\": 2, \"99\": 3, \"82\": 1, \"122\": 1, \"71\": 2, \"46\": 1, \"16\": 1, \"27\": 1, \"7\": 2, \"76\": 2, \"26\": 1, \"60\": 2, \"128\": 2, \"42\": 1, \"129\": 1}, \"125\": {\"125\": 83, \"25\": 1, \"10\": 2, \"36\": 12, \"24\": 8, \"12\": 4, \"15\": 8, \"127\": 4, \"94\": 7, \"100\": 1, \"111\": 3, \"106\": 1}, \"51\": {\"77\": 2, \"127\": 1, \"26\": 1, \"98\": 1, \"71\": 1, \"106\": 2, \"75\": 1, \"9\": 1, \"68\": 1, \"111\": 1, \"51\": 2, \"113\": 1, \"94\": 1}, \"22\": {\"22\": 13, \"129\": 1, \"14\": 2}, \"54\": {\"54\": 15, \"25\": 1}, \"66\": {\"20\": 1, \"93\": 1, \"31\": 1, \"66\": 11, \"84\": 1, \"13\": 1}, \"59\": {\"77\": 2, \"34\": 1, \"59\": 5, \"94\": 1, \"6\": 1, \"15\": 1, \"21\": 1}, \"111\": {\"51\": 2, \"111\": 74, \"12\": 11, \"127\": 9, \"52\": 1, \"125\": 1, \"9\": 1, \"97\": 1, \"29\": 2, \"8\": 2, \"24\": 6, \"98\": 2, \"10\": 2, \"15\": 1, \"5\": 1, \"101\": 3, \"36\": 1, \"68\": 1, \"41\": 1, \"106\": 5, \"126\": 1}, \"77\": {\"77\": 12}, \"103\": {\"111\": 1, \"103\": 13, \"127\": 2}, \"20\": {\"20\": 12, \"43\": 1, \"109\": 1, \"93\": 1, \"118\": 1}, \"124\": {\"124\": 53, \"55\": 1, \"1\": 4, \"129\": 1, \"7\": 7, \"40\": 4, \"71\": 14, \"4\": 3, \"105\": 6, \"87\": 9, \"18\": 1, \"5\": 1, \"108\": 3, \"114\": 6, \"107\": 1, \"104\": 1, \"56\": 1, \"82\": 1, \"27\": 1, \"88\": 1, \"26\": 1}, \"99\": {\"76\": 2, \"99\": 31, \"128\": 2, \"88\": 1, \"115\": 1, \"26\": 1, \"87\": 1, \"14\": 1}, \"120\": {\"61\": 1, \"120\": 17, \"114\": 1, \"21\": 1}, \"76\": {\"76\": 12, \"65\": 1, \"129\": 1, \"107\": 1, \"87\": 1}, \"110\": {\"110\": 39, \"118\": 8, \"74\": 1, \"45\": 1, \"108\": 1, \"19\": 1, \"33\": 9, \"11\": 8, \"5\": 5, \"93\": 9, \"26\": 1, \"14\": 4, \"3\": 1, \"88\": 2, \"69\": 2, \"43\": 7, \"18\": 1, \"107\": 3, \"70\": 1, \"113\": 1, \"64\": 1, \"60\": 1, \"72\": 1, \"122\": 1, \"109\": 1, \"39\": 2, \"87\": 1, \"24\": 1, \"7\": 2}, \"29\": {\"29\": 26, \"101\": 2, \"58\": 1, \"117\": 1, \"24\": 1, \"12\": 1}, \"118\": {\"99\": 2, \"118\": 40, \"18\": 1, \"128\": 1, \"45\": 2, \"108\": 4, \"69\": 1, \"43\": 5, \"62\": 5, \"73\": 1, \"5\": 1, \"33\": 10, \"1\": 1, \"93\": 2, \"122\": 10, \"71\": 1, \"110\": 4, \"3\": 1, \"11\": 7, \"117\": 1, \"14\": 3, \"126\": 1, \"63\": 1, \"113\": 2, \"105\": 1, \"88\": 3, \"87\": 1}, \"58\": {\"58\": 14, \"84\": 1, \"13\": 1}, \"13\": {\"92\": 1, \"64\": 1, \"93\": 1, \"13\": 9, \"108\": 1, \"71\": 2, \"94\": 1}, \"89\": {\"83\": 2, \"89\": 23, \"7\": 1, \"128\": 1, \"100\": 1, \"70\": 1, \"42\": 1, \"124\": 1, \"60\": 1}, \"31\": {\"31\": 6, \"89\": 1, \"122\": 2, \"33\": 3, \"18\": 1, \"19\": 1, \"11\": 2}, \"64\": {\"89\": 2, \"64\": 12, \"80\": 1, \"43\": 1}, \"65\": {\"65\": 9, \"63\": 2, \"113\": 1}, \"101\": {\"101\": 77, \"29\": 2, \"18\": 1, \"0\": 1, \"91\": 2, \"97\": 2, \"72\": 1, \"88\": 1, \"10\": 7, \"8\": 14, \"98\": 2, \"30\": 3, \"27\": 2, \"12\": 3, \"111\": 2, \"108\": 1, \"106\": 1, \"52\": 2, \"34\": 1, \"94\": 1, \"42\": 2, \"24\": 2, \"128\": 1, \"26\": 1}, \"126\": {\"126\": 53, \"63\": 2, \"26\": 11, \"121\": 1, \"21\": 3, \"39\": 9, \"84\": 10, \"113\": 7, \"117\": 5, \"18\": 6, \"16\": 5, \"44\": 1, \"118\": 1, \"13\": 1, \"2\": 2, \"88\": 1}, \"108\": {\"14\": 6, \"89\": 1, \"70\": 2, \"108\": 23, \"99\": 1, \"22\": 1, \"11\": 6, \"113\": 2, \"62\": 6, \"118\": 5, \"88\": 4, \"122\": 1, \"33\": 1, \"43\": 6, \"93\": 1, \"16\": 1, \"94\": 1, \"111\": 1, \"109\": 3, \"126\": 1, \"110\": 5, \"40\": 1, \"72\": 3, \"44\": 1, \"107\": 2, \"32\": 1, \"30\": 1, \"18\": 1, \"87\": 2, \"3\": 1, \"7\": 1}, \"45\": {\"45\": 12, \"108\": 1, \"5\": 1, \"80\": 1, \"57\": 1}, \"21\": {\"21\": 16, \"26\": 2, \"61\": 1, \"117\": 6, \"113\": 1, \"81\": 5, \"44\": 1, \"102\": 1, \"43\": 1, \"38\": 1, \"63\": 2, \"78\": 1, \"121\": 1, \"126\": 1}, \"30\": {\"91\": 3, \"30\": 40, \"8\": 2, \"19\": 1, \"53\": 1, \"97\": 2, \"27\": 1, \"18\": 1, \"24\": 2, \"101\": 4, \"127\": 1, \"36\": 5, \"10\": 1, \"15\": 4, \"87\": 1, \"51\": 1, \"29\": 1, \"6\": 1, \"98\": 2, \"111\": 1, \"102\": 1}, \"82\": {\"83\": 2, \"17\": 2, \"7\": 2, \"82\": 14, \"105\": 2, \"12\": 1, \"0\": 1, \"71\": 3, \"70\": 1, \"100\": 2, \"129\": 1, \"4\": 1}, \"85\": {\"85\": 17, \"86\": 4, \"41\": 1, \"52\": 1, \"103\": 2, \"8\": 1, \"53\": 2}, \"88\": {\"93\": 8, \"85\": 2, \"122\": 4, \"34\": 1, \"109\": 9, \"88\": 27, \"108\": 3, \"10\": 1, \"42\": 3, \"78\": 3, \"70\": 5, \"0\": 6, \"9\": 1, \"90\": 9, \"16\": 4, \"8\": 1, \"39\": 2, \"44\": 3, \"71\": 1, \"4\": 2, \"113\": 1, \"105\": 3, \"69\": 2, \"27\": 5, \"110\": 2, \"87\": 2, \"117\": 1, \"112\": 1, \"41\": 1, \"38\": 1, \"101\": 1, \"86\": 1, \"116\": 1, \"11\": 1, \"83\": 1, \"1\": 1, \"26\": 2, \"14\": 3, \"100\": 1, \"114\": 1, \"7\": 2, \"43\": 1, \"124\": 2}, \"41\": {\"127\": 1, \"85\": 1, \"27\": 1, \"106\": 2, \"111\": 1, \"101\": 1, \"41\": 3, \"113\": 1, \"68\": 1, \"95\": 1, \"37\": 1, \"52\": 1, \"24\": 1}, \"128\": {\"128\": 18, \"120\": 1, \"7\": 2, \"70\": 1, \"86\": 1, \"34\": 1}, \"39\": {\"18\": 9, \"113\": 13, \"39\": 30, \"126\": 5, \"21\": 1, \"26\": 9, \"44\": 1, \"16\": 3, \"117\": 13, \"108\": 1, \"84\": 4, \"3\": 1, \"61\": 2, \"121\": 1, \"81\": 1, \"90\": 3, \"122\": 1, \"2\": 1, \"109\": 1}, \"18\": {\"18\": 85, \"113\": 2, \"126\": 5, \"26\": 17, \"16\": 2, \"39\": 4, \"84\": 2, \"27\": 1, \"117\": 2}, \"113\": {\"113\": 62, \"84\": 3, \"121\": 2, \"26\": 10, \"81\": 5, \"71\": 1, \"19\": 1, \"18\": 9, \"39\": 3, \"5\": 2, \"44\": 1, \"93\": 3, \"109\": 1, \"117\": 10, \"126\": 5, \"3\": 1, \"16\": 3, \"80\": 1, \"65\": 1, \"23\": 1, \"87\": 1, \"69\": 1, \"90\": 1}, \"11\": {\"11\": 53, \"32\": 2, \"13\": 1, \"45\": 1, \"5\": 12, \"60\": 3, \"33\": 12, \"107\": 5, \"40\": 4, \"43\": 6, \"21\": 2, \"108\": 2, \"14\": 2, \"3\": 3, \"126\": 1, \"62\": 3, \"44\": 1, \"122\": 5, \"87\": 2, \"118\": 3, \"99\": 3, \"18\": 2, \"88\": 2, \"105\": 1, \"93\": 1, \"70\": 1, \"94\": 1, \"110\": 3, \"27\": 1}, \"43\": {\"11\": 10, \"3\": 6, \"62\": 1, \"43\": 32, \"78\": 1, \"14\": 5, \"33\": 5, \"1\": 1, \"49\": 2, \"110\": 7, \"69\": 1, \"72\": 2, \"5\": 4, \"40\": 4, \"107\": 3, \"87\": 2, \"70\": 3, \"88\": 5, \"16\": 1, \"26\": 1, \"122\": 4, \"108\": 1, \"114\": 2, \"98\": 1, \"7\": 2, \"22\": 2, \"50\": 1, \"129\": 1, \"28\": 2, \"99\": 1, \"32\": 1, \"118\": 2, \"19\": 1, \"18\": 1, \"109\": 1, \"90\": 1}, \"12\": {\"12\": 53, \"77\": 1, \"81\": 1, \"111\": 7, \"15\": 3, \"29\": 2, \"127\": 6, \"41\": 1, \"24\": 2, \"101\": 3, \"125\": 2, \"106\": 9, \"10\": 2, \"91\": 1, \"94\": 1, \"9\": 1, \"36\": 1, \"27\": 1, \"98\": 1, \"26\": 1, \"117\": 1}, \"122\": {\"45\": 2, \"122\": 14, \"66\": 1, \"33\": 9, \"76\": 2, \"99\": 2, \"50\": 1, \"11\": 7, \"129\": 2, \"109\": 1, \"62\": 2, \"121\": 1, \"88\": 4, \"5\": 4, \"3\": 1, \"108\": 2, \"43\": 2, \"126\": 3, \"118\": 5, \"113\": 1, \"107\": 2, \"14\": 1, \"73\": 1, \"78\": 1, \"48\": 1, \"46\": 2, \"20\": 1, \"93\": 3, \"32\": 2, \"0\": 1, \"87\": 1, \"72\": 1, \"40\": 1}, \"52\": {\"127\": 2, \"52\": 12, \"59\": 1, \"98\": 2, \"10\": 1, \"101\": 2}, \"44\": {\"45\": 1, \"44\": 37, \"90\": 2, \"116\": 1, \"93\": 5, \"69\": 5, \"102\": 7, \"13\": 2, \"96\": 1, \"121\": 1, \"74\": 1, \"26\": 1}, \"90\": {\"90\": 113, \"16\": 1, \"116\": 1, \"44\": 2, \"109\": 3, \"69\": 2, \"93\": 6, \"5\": 2, \"31\": 1, \"102\": 2, \"18\": 1}, \"112\": {\"112\": 12, \"100\": 1, \"42\": 1, \"89\": 1, \"4\": 1}, \"86\": {\"86\": 22, \"27\": 1, \"0\": 2, \"37\": 1, \"85\": 1, \"52\": 1}, \"3\": {\"3\": 78, \"81\": 1, \"33\": 3, \"88\": 1, \"14\": 3, \"107\": 6, \"11\": 5, \"43\": 5, \"124\": 1, \"110\": 2, \"70\": 2, \"118\": 1, \"115\": 1, \"105\": 2, \"40\": 3, \"5\": 1, \"18\": 1}, \"38\": {\"38\": 13, \"116\": 2, \"13\": 1}, \"121\": {\"121\": 25, \"67\": 1, \"113\": 4, \"105\": 1, \"39\": 1}, \"46\": {\"70\": 2, \"108\": 1, \"46\": 7, \"100\": 1, \"71\": 2, \"105\": 2, \"114\": 2, \"1\": 1, \"107\": 2}, \"70\": {\"70\": 39, \"104\": 1, \"99\": 1, \"86\": 2, \"11\": 1, \"71\": 3, \"128\": 1, \"72\": 2, \"87\": 4, \"88\": 3, \"7\": 14, \"0\": 5, \"106\": 1, \"101\": 5, \"4\": 6, \"114\": 6, \"108\": 1, \"111\": 2, \"117\": 1, \"98\": 3, \"27\": 1, \"124\": 3, \"17\": 1, \"76\": 1, \"100\": 1, \"78\": 1, \"95\": 1, \"122\": 1, \"52\": 1, \"12\": 1, \"22\": 1, \"10\": 3, \"24\": 1, \"18\": 1, \"8\": 2, \"1\": 1, \"14\": 2}, \"67\": {\"116\": 1, \"113\": 3, \"65\": 3, \"18\": 1, \"74\": 1, \"16\": 1, \"79\": 1, \"102\": 1, \"81\": 1, \"61\": 1, \"67\": 2}, \"53\": {\"53\": 13, \"97\": 1, \"37\": 1, \"91\": 1}, \"49\": {\"122\": 3, \"31\": 1, \"73\": 2, \"37\": 1, \"95\": 2, \"98\": 3, \"13\": 1, \"15\": 1, \"103\": 1, \"110\": 1, \"8\": 1, \"114\": 1, \"93\": 1, \"44\": 2, \"101\": 3, \"49\": 3, \"91\": 1, \"5\": 1, \"10\": 1, \"85\": 2}, \"42\": {\"42\": 6, \"98\": 2, \"88\": 2, \"129\": 1, \"10\": 2, \"114\": 1, \"72\": 1, \"87\": 2, \"12\": 1, \"30\": 2, \"7\": 2, \"128\": 1, \"43\": 1, \"99\": 1, \"103\": 1, \"70\": 1, \"111\": 1}, \"10\": {\"42\": 2, \"70\": 3, \"99\": 3, \"95\": 1, \"91\": 1, \"75\": 2, \"10\": 33, \"128\": 2, \"9\": 2, \"0\": 4, \"30\": 3, \"24\": 5, \"27\": 4, \"8\": 2, \"36\": 7, \"111\": 1, \"15\": 10, \"94\": 1, \"39\": 1, \"125\": 5, \"101\": 7, \"98\": 7, \"7\": 4, \"35\": 1, \"52\": 1, \"18\": 1, \"4\": 1, \"26\": 1, \"88\": 1, \"106\": 1, \"114\": 1}, \"50\": {\"50\": 13, \"7\": 1, \"51\": 1, \"46\": 1}, \"73\": {\"73\": 15, \"33\": 2, \"43\": 2, \"24\": 1, \"3\": 2, \"74\": 1, \"28\": 1}, \"115\": {\"115\": 7, \"88\": 1, \"40\": 5, \"7\": 1, \"11\": 1, \"49\": 1}, \"80\": {\"80\": 11, \"57\": 1, \"106\": 1, \"62\": 1, \"2\": 1, \"44\": 1}, \"19\": {\"31\": 1, \"27\": 2, \"83\": 2, \"55\": 1, \"8\": 1, \"129\": 1, \"128\": 1, \"26\": 1, \"5\": 3, \"19\": 2, \"99\": 2, \"111\": 1, \"69\": 1, \"10\": 2, \"7\": 1, \"24\": 1, \"33\": 3, \"127\": 1, \"126\": 1}, \"55\": {\"55\": 15, \"85\": 1}, \"72\": {\"72\": 15, \"42\": 2, \"30\": 1, \"108\": 2, \"46\": 2, \"40\": 1, \"32\": 2, \"7\": 3, \"115\": 1, \"43\": 1, \"87\": 1, \"107\": 1}, \"117\": {\"117\": 91, \"81\": 1, \"63\": 2, \"113\": 5, \"16\": 3, \"39\": 4, \"26\": 5, \"69\": 1, \"2\": 1, \"108\": 1, \"126\": 1, \"18\": 1}, \"81\": {\"81\": 25, \"63\": 2, \"2\": 1, \"5\": 1, \"16\": 1, \"69\": 1, \"117\": 2, \"18\": 2, \"26\": 1}, \"75\": {\"75\": 12, \"47\": 1, \"94\": 1, \"24\": 2}, \"98\": {\"86\": 2, \"58\": 1, \"127\": 2, \"98\": 59, \"106\": 5, \"41\": 2, \"30\": 1, \"8\": 4, \"111\": 5, \"27\": 1, \"0\": 5, \"15\": 6, \"12\": 3, \"24\": 5, \"101\": 7, \"10\": 4, \"25\": 1, \"87\": 1, \"52\": 2, \"42\": 1, \"9\": 1, \"36\": 2}, \"48\": {\"48\": 14, \"122\": 1, \"62\": 1}, \"129\": {\"89\": 1, \"129\": 3, \"128\": 1, \"7\": 2, \"110\": 2, \"33\": 1, \"11\": 2, \"19\": 1, \"93\": 2, \"118\": 3, \"5\": 1, \"71\": 1, \"78\": 1, \"17\": 1, \"114\": 2, \"10\": 1, \"98\": 1, \"4\": 1, \"82\": 1}, \"97\": {\"53\": 1, \"111\": 1, \"9\": 2, \"24\": 2, \"36\": 1, \"97\": 7, \"94\": 1, \"47\": 2, \"101\": 2, \"25\": 1}}, \"Wisig_1\": {\"105\": {\"105\": 60, \"9\": 2, \"83\": 1, \"40\": 8, \"70\": 1, \"5\": 6, \"107\": 1, \"124\": 1, \"89\": 2, \"4\": 2}, \"100\": {\"100\": 12, \"67\": 1, \"62\": 1, \"25\": 1, \"81\": 1}, \"112\": {\"112\": 11, \"88\": 3, \"37\": 1, \"53\": 1}, \"123\": {\"123\": 11, \"95\": 1, \"121\": 2, \"2\": 1, \"113\": 1}, \"13\": {\"95\": 1, \"13\": 9, \"26\": 3, \"118\": 1, \"18\": 2}, \"81\": {\"81\": 24, \"82\": 1, \"20\": 1, \"109\": 1, \"7\": 1}, \"124\": {\"122\": 1, \"124\": 57, \"40\": 5, \"14\": 6, \"43\": 4, \"114\": 15, \"84\": 12, \"1\": 4, \"7\": 7, \"117\": 1, \"126\": 2, \"70\": 1, \"4\": 1, \"104\": 1, \"19\": 1, \"5\": 1, \"93\": 1}, \"122\": {\"122\": 38, \"124\": 3, \"1\": 4, \"79\": 2, \"126\": 4, \"34\": 1, \"100\": 1, \"38\": 1, \"7\": 7, \"87\": 2, \"84\": 4, \"44\": 4, \"8\": 2, \"70\": 3, \"14\": 7, \"120\": 2, \"43\": 3}, \"111\": {\"112\": 2, \"111\": 81, \"88\": 3, \"56\": 1, \"68\": 2, \"127\": 9, \"18\": 1, \"98\": 3, \"15\": 1, \"71\": 4, \"12\": 3, \"27\": 2, \"0\": 1, \"32\": 1, \"92\": 2, \"110\": 1, \"125\": 2, \"102\": 1}, \"93\": {\"93\": 68, \"86\": 4, \"48\": 1, \"5\": 4, \"31\": 1, \"107\": 12, \"127\": 1, \"44\": 3, \"101\": 8, \"34\": 1, \"85\": 1, \"72\": 2, \"8\": 10, \"9\": 2, \"10\": 8, \"26\": 1, \"110\": 2, \"87\": 2, \"106\": 8, \"4\": 1, \"40\": 5, \"105\": 1, \"126\": 1, \"108\": 4, \"128\": 2, \"89\": 1, \"41\": 1, \"43\": 1, \"111\": 1, \"98\": 1}, \"106\": {\"86\": 1, \"106\": 81, \"103\": 5, \"0\": 2, \"12\": 3, \"128\": 1, \"88\": 2, \"127\": 4, \"71\": 1, \"98\": 1, \"126\": 1, \"110\": 5, \"107\": 1, \"32\": 1, \"17\": 1, \"93\": 1, \"44\": 1, \"113\": 1, \"111\": 4, \"117\": 1}, \"113\": {\"113\": 106, \"95\": 3, \"18\": 7, \"39\": 1, \"3\": 1, \"118\": 1, \"117\": 1, \"16\": 4}, \"95\": {\"95\": 29, \"2\": 1, \"26\": 1, \"69\": 2, \"118\": 1, \"78\": 1, \"39\": 1}, \"87\": {\"124\": 4, \"122\": 5, \"114\": 7, \"14\": 5, \"16\": 1, \"87\": 27, \"44\": 7, \"70\": 10, \"40\": 3, \"38\": 1, \"8\": 11, \"84\": 6, \"43\": 5, \"7\": 4, \"10\": 1, \"5\": 1, \"54\": 1, \"1\": 1, \"17\": 1, \"105\": 1, \"93\": 1, \"9\": 1, \"4\": 1, \"108\": 2, \"18\": 1}, \"86\": {\"86\": 20, \"106\": 1, \"53\": 1, \"72\": 3, \"27\": 1, \"93\": 2, \"55\": 1, \"103\": 1, \"48\": 1, \"70\": 1, \"31\": 1, \"10\": 1, \"108\": 1, \"88\": 1}, \"67\": {\"67\": 15, \"100\": 1}, \"85\": {\"10\": 2, \"85\": 23, \"0\": 1, \"110\": 1, \"30\": 1, \"24\": 2, \"41\": 1, \"111\": 1}, \"82\": {\"82\": 30, \"84\": 1, \"81\": 1, \"61\": 1, \"62\": 2, \"87\": 1}, \"115\": {\"115\": 10, \"44\": 1, \"1\": 1}, \"7\": {\"7\": 110, \"34\": 1, \"126\": 5, \"104\": 1, \"8\": 1, \"122\": 1, \"84\": 8, \"114\": 3, \"43\": 7, \"124\": 3, \"38\": 1, \"1\": 1}, \"44\": {\"44\": 64, \"28\": 2, \"19\": 1, \"40\": 1, \"87\": 1, \"70\": 3, \"77\": 1, \"84\": 1, \"126\": 1, \"21\": 1}, \"65\": {\"16\": 1, \"28\": 2, \"65\": 2, \"14\": 1, \"95\": 2, \"78\": 1, \"39\": 2, \"26\": 1}, \"129\": {\"16\": 3, \"78\": 2, \"105\": 1, \"129\": 5, \"18\": 1, \"7\": 2, \"94\": 1, \"69\": 2, \"39\": 1, \"3\": 1, \"73\": 2, \"116\": 1, \"46\": 1, \"118\": 3, \"17\": 1, \"92\": 1}, \"42\": {\"129\": 2, \"29\": 1, \"93\": 1, \"9\": 1, \"82\": 1, \"60\": 1, \"86\": 5, \"40\": 1, \"116\": 1, \"69\": 1, \"83\": 1, \"73\": 2, \"3\": 1, \"31\": 2, \"74\": 1, \"62\": 3, \"42\": 2, \"20\": 1}, \"28\": {\"76\": 1, \"44\": 2, \"28\": 16, \"128\": 1}, \"0\": {\"85\": 3, \"112\": 1, \"0\": 50, \"39\": 1, \"10\": 11, \"12\": 1, \"98\": 3, \"108\": 1, \"101\": 4, \"8\": 1, \"110\": 5, \"99\": 1, \"93\": 1, \"15\": 1}, \"10\": {\"10\": 75, \"0\": 6, \"88\": 2, \"57\": 2, \"101\": 17, \"93\": 1, \"24\": 3, \"108\": 5, \"110\": 3, \"85\": 1, \"70\": 1, \"8\": 4}, \"76\": {\"76\": 13, \"122\": 1, \"126\": 1, \"96\": 1}, \"88\": {\"0\": 5, \"88\": 31, \"71\": 6, \"75\": 1, \"49\": 1, \"98\": 6, \"58\": 1, \"125\": 7, \"6\": 3, \"27\": 10, \"106\": 2, \"10\": 4, \"94\": 3, \"101\": 17, \"15\": 4, \"70\": 1, \"110\": 4, \"36\": 9, \"24\": 6, \"91\": 1, \"112\": 1, \"12\": 2, \"111\": 1}, \"29\": {\"29\": 25, \"72\": 2, \"47\": 1}, \"16\": {\"16\": 75, \"26\": 4, \"118\": 4, \"117\": 8, \"62\": 3, \"18\": 7, \"11\": 1, \"69\": 1, \"100\": 1, \"113\": 1, \"39\": 2, \"90\": 1}, \"41\": {\"0\": 1, \"41\": 14, \"23\": 1}, \"27\": {\"27\": 50, \"94\": 5, \"52\": 1, \"30\": 3, \"88\": 2, \"125\": 6, \"0\": 2, \"71\": 5, \"15\": 5, \"98\": 5, \"12\": 1, \"36\": 2, \"101\": 1, \"24\": 2, \"110\": 2}, \"33\": {\"33\": 107, \"3\": 2, \"116\": 1, \"121\": 1, \"62\": 4, \"44\": 1, \"102\": 2, \"11\": 2}, \"75\": {\"75\": 16}, \"48\": {\"48\": 12}, \"56\": {\"27\": 3, \"92\": 2, \"56\": 2, \"51\": 1, \"91\": 1, \"98\": 1, \"36\": 2}, \"9\": {\"9\": 20, \"41\": 1, \"74\": 1, \"49\": 2, \"23\": 1, \"89\": 1, \"86\": 2, \"117\": 1, \"93\": 1, \"107\": 1, \"70\": 1}, \"1\": {\"56\": 2, \"1\": 86, \"80\": 1, \"114\": 9, \"126\": 2, \"120\": 1, \"87\": 2, \"44\": 1, \"42\": 1, \"7\": 5, \"14\": 3, \"43\": 2, \"124\": 2, \"90\": 1, \"11\": 1, \"22\": 1, \"19\": 1, \"84\": 2, \"18\": 1, \"122\": 1, \"8\": 1}, \"39\": {\"39\": 43, \"65\": 1, \"119\": 1, \"18\": 6, \"117\": 8, \"99\": 1, \"69\": 6, \"33\": 3, \"16\": 13, \"118\": 5, \"26\": 4, \"129\": 1, \"2\": 1, \"50\": 1, \"13\": 1, \"11\": 1, \"121\": 1, \"62\": 3, \"109\": 3, \"102\": 1}, \"50\": {\"123\": 1, \"50\": 12, \"91\": 1, \"10\": 1, \"63\": 1}, \"99\": {\"7\": 1, \"1\": 1, \"100\": 1, \"99\": 8, \"90\": 1, \"21\": 1, \"117\": 1, \"9\": 1, \"43\": 1, \"42\": 1, \"20\": 1, \"82\": 3, \"62\": 1, \"11\": 2}, \"90\": {\"90\": 116, \"82\": 1, \"11\": 5}, \"45\": {\"104\": 1, \"67\": 1, \"112\": 1, \"44\": 1, \"45\": 2, \"3\": 1, \"124\": 1, \"48\": 2, \"126\": 1, \"2\": 1}, \"5\": {\"5\": 56, \"128\": 1, \"40\": 10, \"9\": 1, \"108\": 2, \"70\": 2, \"4\": 7, \"87\": 2, \"105\": 1, \"8\": 1, \"93\": 2, \"73\": 1, \"44\": 1, \"107\": 1}, \"128\": {\"41\": 2, \"14\": 2, \"28\": 1, \"98\": 2, \"85\": 1, \"80\": 1, \"84\": 3, \"24\": 1, \"82\": 1, \"12\": 1, \"0\": 1, \"128\": 4, \"120\": 1, \"103\": 1, \"19\": 1, \"101\": 1}, \"2\": {\"67\": 2, \"90\": 1, \"118\": 1, \"1\": 3, \"2\": 4, \"62\": 2, \"13\": 2, \"45\": 1, \"18\": 1, \"121\": 2, \"81\": 2, \"25\": 1, \"116\": 1, \"50\": 1, \"117\": 1, \"129\": 2, \"100\": 2, \"16\": 2, \"109\": 1}, \"53\": {\"53\": 14, \"92\": 1, \"52\": 1, \"111\": 2, \"71\": 1, \"110\": 1}, \"104\": {\"104\": 12, \"43\": 1, \"34\": 1, \"78\": 2}, \"32\": {\"41\": 1, \"32\": 13, \"30\": 2, \"27\": 2, \"88\": 1, \"24\": 1, \"37\": 4, \"89\": 1, \"10\": 2, \"53\": 1, \"93\": 1, \"86\": 1, \"15\": 2}, \"92\": {\"92\": 21, \"91\": 1, \"94\": 1, \"6\": 1, \"71\": 1, \"15\": 1, \"125\": 1, \"27\": 1}, \"78\": {\"123\": 1, \"7\": 2, \"64\": 1, \"19\": 1, \"16\": 1, \"80\": 1, \"44\": 1, \"122\": 1, \"1\": 3, \"78\": 1, \"108\": 1, \"104\": 1, \"121\": 1}, \"19\": {\"74\": 2, \"43\": 1, \"38\": 2, \"78\": 2, \"19\": 10, \"14\": 4, \"7\": 2, \"104\": 1, \"28\": 2, \"128\": 1, \"129\": 1}, \"120\": {\"120\": 17, \"123\": 1, \"19\": 2}, \"43\": {\"28\": 1, \"64\": 1, \"40\": 6, \"43\": 29, \"76\": 1, \"122\": 4, \"10\": 1, \"84\": 10, \"8\": 3, \"7\": 9, \"14\": 5, \"44\": 4, \"114\": 8, \"87\": 8, \"70\": 6, \"1\": 6, \"124\": 8, \"109\": 3, \"126\": 6, \"26\": 1, \"38\": 1, \"93\": 1, \"113\": 1, \"21\": 1, \"12\": 1, \"39\": 1, \"108\": 2}, \"74\": {\"74\": 16}, \"11\": {\"67\": 1, \"120\": 1, \"11\": 67, \"1\": 2, \"3\": 3, \"33\": 13, \"122\": 1, \"109\": 5, \"84\": 2, \"114\": 1, \"90\": 12, \"18\": 1, \"14\": 1, \"62\": 6, \"69\": 2, \"102\": 2, \"50\": 1, \"60\": 1, \"17\": 1, \"124\": 3, \"7\": 1, \"82\": 1, \"70\": 1, \"126\": 1}, \"26\": {\"26\": 114, \"95\": 1, \"18\": 4, \"117\": 5, \"39\": 2, \"16\": 2, \"69\": 2, \"118\": 2}, \"125\": {\"92\": 5, \"125\": 62, \"51\": 1, \"127\": 4, \"111\": 5, \"6\": 1, \"106\": 7, \"36\": 20, \"94\": 8, \"88\": 4, \"27\": 4, \"12\": 1, \"71\": 6, \"15\": 3, \"0\": 1}, \"64\": {\"64\": 14, \"38\": 1, \"122\": 1}, \"127\": {\"92\": 2, \"127\": 67, \"125\": 4, \"111\": 7, \"12\": 4, \"36\": 1, \"98\": 1, \"71\": 9, \"24\": 1, \"15\": 2, \"68\": 5, \"110\": 2, \"69\": 1, \"101\": 1, \"94\": 1}, \"83\": {\"48\": 1, \"83\": 12, \"73\": 1, \"40\": 2, \"63\": 1, \"105\": 1, \"87\": 1, \"8\": 1, \"57\": 1, \"79\": 1, \"104\": 2, \"35\": 2, \"70\": 1, \"43\": 1}, \"118\": {\"118\": 48, \"2\": 1, \"16\": 10, \"116\": 1, \"26\": 9, \"18\": 7, \"62\": 2, \"117\": 1, \"69\": 1, \"39\": 2, \"95\": 1, \"33\": 1}, \"103\": {\"103\": 12, \"12\": 1, \"77\": 1, \"36\": 1, \"111\": 1}, \"55\": {\"55\": 8, \"46\": 1, \"93\": 1, \"29\": 1, \"86\": 1}, \"110\": {\"110\": 89, \"41\": 1, \"12\": 3, \"88\": 2, \"24\": 4, \"127\": 7, \"98\": 8, \"71\": 2, \"111\": 3, \"101\": 1, \"23\": 1, \"10\": 1, \"85\": 1, \"0\": 2, \"106\": 1}, \"30\": {\"30\": 14, \"75\": 2, \"91\": 3, \"52\": 2, \"24\": 4, \"94\": 3, \"53\": 2, \"10\": 4, \"15\": 4, \"32\": 1, \"27\": 2, \"59\": 2, \"112\": 1, \"51\": 1, \"8\": 1, \"88\": 1, \"111\": 1, \"6\": 1, \"12\": 2, \"101\": 1}, \"51\": {\"51\": 12, \"125\": 1, \"127\": 2, \"56\": 1}, \"6\": {\"110\": 2, \"6\": 16, \"71\": 4, \"88\": 2, \"52\": 1, \"15\": 1, \"125\": 1, \"27\": 1, \"108\": 1, \"12\": 1, \"111\": 1, \"98\": 1}, \"96\": {\"48\": 1, \"28\": 1, \"96\": 5, \"114\": 1, \"1\": 1, \"74\": 1, \"20\": 3, \"61\": 1, \"18\": 1, \"11\": 1, \"83\": 2, \"90\": 1, \"76\": 1}, \"114\": {\"114\": 115, \"124\": 7, \"123\": 1, \"54\": 1, \"128\": 1, \"84\": 12, \"1\": 2, \"87\": 1, \"56\": 1, \"24\": 1, \"39\": 1, \"8\": 1}, \"69\": {\"69\": 77, \"116\": 1, \"3\": 10, \"39\": 1, \"62\": 1, \"102\": 8, \"11\": 2, \"117\": 1, \"90\": 1, \"100\": 1, \"26\": 2, \"33\": 2, \"109\": 1}, \"60\": {\"60\": 2, \"26\": 2, \"104\": 1, \"13\": 1, \"113\": 1, \"46\": 1, \"42\": 1, \"57\": 1, \"16\": 1, \"21\": 1, \"2\": 1, \"95\": 1, \"48\": 1, \"87\": 1}, \"94\": {\"27\": 8, \"94\": 44, \"59\": 2, \"15\": 4, \"37\": 1, \"52\": 3, \"88\": 5, \"12\": 3, \"36\": 10, \"71\": 1, \"98\": 2, \"51\": 2, \"30\": 1, \"32\": 1, \"0\": 2, \"24\": 2, \"118\": 1}, \"79\": {\"79\": 11, \"114\": 1}, \"126\": {\"126\": 55, \"14\": 4, \"18\": 1, \"124\": 3, \"19\": 1, \"76\": 1, \"34\": 1, \"38\": 2, \"1\": 3, \"7\": 12, \"84\": 9, \"122\": 5, \"114\": 4, \"5\": 1, \"87\": 9, \"40\": 3, \"43\": 4, \"8\": 3, \"70\": 4, \"64\": 1, \"2\": 1, \"115\": 1, \"83\": 1, \"44\": 2, \"128\": 1, \"31\": 1, \"42\": 1}, \"68\": {\"112\": 2, \"68\": 8, \"15\": 1, \"97\": 1, \"111\": 1, \"0\": 1, \"12\": 1, \"127\": 1}, \"72\": {\"72\": 25, \"29\": 3, \"93\": 2, \"86\": 2}, \"63\": {\"63\": 16}, \"22\": {\"22\": 13, \"1\": 2, \"92\": 1}, \"121\": {\"121\": 10, \"63\": 2, \"118\": 4, \"117\": 1, \"39\": 4, \"123\": 1, \"113\": 2, \"16\": 2, \"95\": 1, \"2\": 2, \"3\": 2, \"112\": 1}, \"71\": {\"71\": 64, \"16\": 1, \"59\": 1, \"111\": 7, \"94\": 3, \"6\": 1, \"127\": 4, \"12\": 2, \"15\": 4, \"0\": 2, \"26\": 1, \"27\": 3, \"117\": 1, \"88\": 3, \"125\": 4, \"36\": 1, \"92\": 2, \"110\": 2, \"90\": 1, \"113\": 1}, \"54\": {\"54\": 15, \"73\": 1}, \"102\": {\"102\": 86, \"22\": 1, \"113\": 1, \"116\": 1, \"3\": 7, \"11\": 5, \"62\": 2, \"69\": 10, \"129\": 2, \"33\": 5}, \"73\": {\"73\": 14, \"75\": 1, \"125\": 1, \"83\": 1, \"14\": 1, \"40\": 1, \"71\": 1}, \"38\": {\"38\": 15, \"64\": 1}, \"4\": {\"72\": 1, \"4\": 53, \"70\": 6, \"86\": 3, \"29\": 3, \"93\": 5, \"40\": 6, \"107\": 4, \"5\": 6, \"105\": 4, \"113\": 1, \"110\": 1, \"89\": 4, \"69\": 2, \"106\": 1}, \"52\": {\"52\": 20}, \"70\": {\"72\": 3, \"70\": 34, \"74\": 1, \"89\": 3, \"57\": 1, \"10\": 6, \"110\": 2, \"23\": 3, \"29\": 1, \"93\": 13, \"106\": 1, \"105\": 4, \"126\": 7, \"8\": 7, \"7\": 2, \"5\": 5, \"44\": 1, \"90\": 1, \"118\": 1, \"111\": 1, \"124\": 1, \"40\": 4, \"107\": 1, \"101\": 1, \"47\": 1, \"83\": 2, \"86\": 2, \"4\": 2, \"108\": 6, \"87\": 1, \"122\": 2, \"98\": 2, \"27\": 1, \"109\": 1, \"24\": 1, \"94\": 2, \"0\": 1}, \"91\": {\"30\": 1, \"91\": 20, \"10\": 1, \"88\": 2, \"98\": 1, \"15\": 1, \"58\": 2}, \"77\": {\"77\": 12, \"32\": 1, \"39\": 1, \"127\": 1, \"9\": 1}, \"20\": {\"20\": 16}, \"59\": {\"59\": 11, \"94\": 1}, \"40\": {\"5\": 5, \"93\": 2, \"40\": 102, \"81\": 1, \"118\": 1, \"4\": 8, \"24\": 1, \"87\": 1, \"107\": 2, \"73\": 1, \"14\": 1, \"35\": 1, \"54\": 1, \"9\": 1, \"114\": 1, \"105\": 1, \"8\": 2, \"84\": 2, \"124\": 1, \"102\": 1}, \"98\": {\"98\": 69, \"88\": 5, \"24\": 6, \"110\": 7, \"0\": 6, \"12\": 2, \"111\": 2, \"15\": 2, \"91\": 1, \"101\": 4, \"127\": 1, \"27\": 1, \"71\": 1, \"10\": 1}, \"46\": {\"64\": 1, \"59\": 2, \"94\": 1, \"122\": 1, \"107\": 1, \"27\": 1, \"51\": 1, \"75\": 1, \"114\": 1, \"87\": 1, \"91\": 1}, \"34\": {\"34\": 6, \"71\": 1, \"77\": 2, \"103\": 2, \"106\": 2, \"68\": 3, \"70\": 1, \"111\": 1, \"128\": 3, \"122\": 1, \"60\": 1, \"7\": 2, \"44\": 1, \"51\": 1, \"14\": 1, \"124\": 1, \"112\": 1, \"105\": 1, \"125\": 1}, \"24\": {\"85\": 2, \"52\": 1, \"72\": 3, \"32\": 1, \"113\": 2, \"24\": 33, \"30\": 1, \"101\": 3, \"36\": 2, \"0\": 4, \"70\": 3, \"127\": 1, \"110\": 3, \"94\": 4, \"15\": 5, \"98\": 5, \"12\": 3, \"88\": 3, \"86\": 2, \"128\": 1, \"97\": 1, \"49\": 1, \"10\": 3, \"27\": 1, \"108\": 2, \"111\": 1, \"117\": 1}, \"62\": {\"62\": 102, \"25\": 1, \"33\": 5, \"11\": 5, \"109\": 2, \"100\": 1, \"42\": 1, \"125\": 1, \"113\": 1, \"90\": 1}, \"14\": {\"14\": 79, \"79\": 1, \"19\": 4, \"84\": 1, \"122\": 4, \"74\": 1, \"124\": 1, \"87\": 2, \"43\": 1, \"70\": 1, \"126\": 1}, \"12\": {\"75\": 2, \"12\": 52, \"103\": 1, \"51\": 2, \"27\": 1, \"106\": 1, \"6\": 1, \"111\": 5, \"127\": 7, \"71\": 2, \"110\": 3, \"24\": 6, \"98\": 7, \"47\": 2, \"37\": 1, \"34\": 1, \"0\": 2, \"121\": 1, \"113\": 1, \"101\": 2, \"117\": 1, \"10\": 1, \"88\": 1, \"69\": 1}, \"84\": {\"84\": 63, \"80\": 2, \"40\": 4, \"124\": 8, \"43\": 12, \"122\": 4, \"7\": 9, \"1\": 4, \"114\": 10, \"18\": 2, \"126\": 6, \"87\": 4, \"105\": 2, \"70\": 1, \"73\": 1, \"113\": 1, \"93\": 1}, \"37\": {\"37\": 15, \"27\": 1}, \"97\": {\"32\": 1, \"27\": 1, \"94\": 3, \"12\": 1, \"97\": 6, \"15\": 1, \"101\": 2, \"37\": 1, \"68\": 1, \"58\": 1, \"112\": 1, \"70\": 1}, \"57\": {\"57\": 10, \"108\": 1, \"39\": 1}, \"49\": {\"98\": 1, \"87\": 1, \"49\": 3, \"127\": 2, \"6\": 1, \"9\": 2, \"4\": 2, \"12\": 1, \"73\": 1, \"31\": 1, \"54\": 1, \"112\": 2, \"105\": 1, \"0\": 1}, \"17\": {\"49\": 3, \"77\": 2, \"17\": 6, \"86\": 1, \"129\": 1, \"27\": 1, \"85\": 2}, \"109\": {\"109\": 49, \"99\": 1, \"82\": 3, \"126\": 6, \"3\": 3, \"90\": 17, \"70\": 3, \"33\": 5, \"69\": 2, \"11\": 3, \"7\": 2, \"62\": 2, \"21\": 4, \"116\": 1, \"93\": 1, \"16\": 1, \"1\": 1, \"102\": 1, \"43\": 1}, \"80\": {\"114\": 1, \"80\": 12, \"1\": 2, \"43\": 1}, \"66\": {\"66\": 16}, \"101\": {\"53\": 1, \"101\": 112, \"10\": 6, \"93\": 1, \"88\": 1, \"24\": 2, \"117\": 1}, \"89\": {\"89\": 16, \"76\": 2, \"46\": 1, \"34\": 1, \"105\": 3, \"98\": 1, \"127\": 1, \"93\": 2, \"107\": 1, \"8\": 1, \"47\": 2, \"40\": 1, \"42\": 1, \"106\": 1, \"91\": 1, \"4\": 1}, \"31\": {\"31\": 12, \"35\": 1, \"86\": 1, \"108\": 2}, \"21\": {\"43\": 1, \"99\": 1, \"21\": 15, \"8\": 1, \"44\": 4, \"93\": 1, \"12\": 1, \"87\": 1, \"113\": 2, \"2\": 1, \"45\": 1, \"76\": 1, \"109\": 3, \"90\": 1, \"126\": 1, \"62\": 1, \"122\": 1, \"116\": 2, \"40\": 1}, \"23\": {\"99\": 2, \"25\": 1, \"62\": 1, \"72\": 1, \"18\": 1, \"110\": 2, \"98\": 2, \"1\": 1, \"109\": 1, \"10\": 1, \"108\": 2, \"50\": 1, \"41\": 1, \"55\": 2, \"91\": 1, \"82\": 2, \"88\": 1, \"101\": 1}, \"25\": {\"25\": 7, \"82\": 3, \"9\": 2, \"62\": 1, \"121\": 1, \"90\": 1, \"45\": 1}, \"107\": {\"107\": 90, \"106\": 3, \"89\": 1, \"87\": 1, \"5\": 3, \"113\": 1, \"110\": 2, \"4\": 2, \"93\": 4, \"70\": 2, \"10\": 1, \"49\": 1, \"94\": 1}, \"3\": {\"60\": 2, \"3\": 70, \"102\": 8, \"71\": 1, \"122\": 1, \"69\": 3, \"125\": 2, \"116\": 1}, \"61\": {\"61\": 8, \"90\": 2, \"53\": 1, \"126\": 1}, \"117\": {\"39\": 4, \"117\": 99, \"26\": 7, \"16\": 5, \"18\": 6, \"118\": 2, \"69\": 2, \"102\": 1}, \"119\": {\"119\": 12, \"16\": 2, \"98\": 1, \"99\": 1}, \"58\": {\"58\": 12}, \"47\": {\"47\": 10, \"89\": 2}, \"116\": {\"116\": 22, \"62\": 3, \"50\": 1, \"33\": 4, \"11\": 1, \"3\": 1}, \"18\": {\"18\": 71, \"16\": 17, \"109\": 2, \"95\": 1, \"3\": 1, \"117\": 9, \"26\": 7, \"69\": 2, \"118\": 2, \"39\": 3, \"62\": 1, \"113\": 2, \"23\": 1, \"65\": 1, \"102\": 1, \"2\": 1, \"21\": 2}, \"36\": {\"36\": 79, \"118\": 1, \"92\": 1, \"30\": 1, \"71\": 7, \"27\": 4, \"111\": 3, \"94\": 4, \"98\": 1, \"15\": 1, \"117\": 1, \"88\": 4, \"125\": 6, \"59\": 1, \"68\": 1, \"97\": 1, \"6\": 3, \"91\": 1, \"24\": 1, \"113\": 1}, \"108\": {\"0\": 6, \"10\": 5, \"29\": 2, \"35\": 3, \"108\": 39, \"44\": 1, \"85\": 3, \"93\": 8, \"70\": 2, \"88\": 1, \"14\": 1, \"106\": 3, \"87\": 1, \"8\": 4, \"127\": 1, \"107\": 1, \"101\": 6, \"36\": 2, \"110\": 2, \"126\": 3, \"128\": 2, \"47\": 1, \"57\": 1, \"104\": 1, \"9\": 1, \"4\": 1, \"34\": 1, \"21\": 1, \"111\": 1, \"24\": 4, \"40\": 1, \"105\": 2, \"12\": 1}, \"15\": {\"15\": 60, \"37\": 1, \"91\": 3, \"30\": 2, \"52\": 1, \"97\": 1, \"111\": 3, \"127\": 1, \"36\": 6, \"98\": 4, \"27\": 1, \"71\": 3, \"125\": 1, \"24\": 3, \"112\": 1, \"58\": 1, \"59\": 1, \"6\": 1, \"88\": 3, \"0\": 1, \"94\": 4, \"117\": 1, \"101\": 1}, \"8\": {\"8\": 87, \"93\": 6, \"44\": 2, \"89\": 1, \"70\": 6, \"87\": 1, \"10\": 2, \"108\": 7, \"42\": 1, \"4\": 1}, \"35\": {\"35\": 10, \"93\": 1, \"34\": 1}}, \"Wisig_2\": {\"3\": {\"3\": 96, \"107\": 3, \"85\": 2, \"129\": 1, \"105\": 2, \"5\": 8, \"122\": 2, \"124\": 5, \"15\": 2, \"117\": 2, \"40\": 2, \"8\": 1, \"26\": 1, \"43\": 1, \"110\": 1, \"39\": 2, \"36\": 1}, \"127\": {\"127\": 103, \"2\": 1, \"12\": 3, \"111\": 9, \"106\": 1, \"108\": 1, \"0\": 1, \"52\": 1}, \"58\": {\"58\": 18, \"51\": 1, \"101\": 1}, \"114\": {\"86\": 3, \"114\": 77, \"110\": 1, \"107\": 2, \"124\": 3, \"95\": 1, \"71\": 9, \"4\": 6, \"40\": 2, \"111\": 1, \"104\": 1, \"121\": 1, \"21\": 1, \"8\": 2, \"5\": 2}, \"111\": {\"111\": 111, \"127\": 14, \"106\": 3, \"103\": 1, \"15\": 3, \"30\": 4, \"98\": 2, \"91\": 1, \"94\": 1, \"117\": 1, \"101\": 1, \"24\": 1, \"0\": 1}, \"105\": {\"105\": 90, \"37\": 1, \"66\": 1, \"95\": 1, \"74\": 1, \"110\": 3, \"32\": 2, \"14\": 1, \"40\": 7, \"107\": 4, \"71\": 1, \"3\": 2, \"7\": 4, \"124\": 3, \"122\": 3, \"43\": 2, \"39\": 1, \"86\": 2, \"5\": 2, \"114\": 1}, \"118\": {\"99\": 1, \"118\": 30, \"92\": 2, \"83\": 1, \"89\": 1, \"84\": 5, \"62\": 1, \"33\": 5, \"88\": 5, \"14\": 1, \"1\": 3, \"126\": 2, \"78\": 1, \"90\": 1, \"116\": 1, \"66\": 1, \"87\": 1, \"93\": 1, \"121\": 1, \"119\": 2, \"0\": 1, \"2\": 1}, \"23\": {\"111\": 1, \"99\": 2, \"24\": 1, \"117\": 5, \"113\": 3, \"128\": 1, \"122\": 3, \"98\": 1, \"23\": 6, \"2\": 1, \"87\": 1, \"18\": 2, \"39\": 1, \"8\": 4, \"26\": 2, \"121\": 1, \"74\": 1, \"43\": 1, \"0\": 2, \"65\": 1, \"81\": 1, \"108\": 2, \"15\": 1}, \"21\": {\"20\": 3, \"99\": 1, \"118\": 1, \"46\": 1, \"2\": 4, \"21\": 16, \"93\": 2, \"96\": 1, \"113\": 2, \"109\": 1, \"26\": 5, \"70\": 1, \"121\": 1, \"120\": 1, \"116\": 1, \"90\": 1, \"119\": 1, \"18\": 2, \"85\": 1, \"23\": 1, \"126\": 1}, \"20\": {\"21\": 1, \"20\": 14, \"120\": 1}, \"75\": {\"75\": 13, \"27\": 2, \"115\": 1}, \"86\": {\"86\": 23, \"71\": 1, \"114\": 3, \"5\": 1, \"11\": 1, \"95\": 3}, \"60\": {\"69\": 1, \"14\": 1, \"116\": 2, \"42\": 1, \"22\": 1, \"60\": 8, \"62\": 2, \"89\": 2, \"28\": 2, \"66\": 1, \"126\": 1, \"44\": 1, \"93\": 2, \"38\": 1, \"82\": 1, \"76\": 1}, \"69\": {\"69\": 104, \"23\": 1, \"102\": 7, \"72\": 2, \"13\": 2, \"39\": 4, \"93\": 9, \"121\": 1, \"18\": 4, \"117\": 2, \"31\": 1, \"109\": 2, \"87\": 1}, \"99\": {\"99\": 22, \"20\": 1, \"72\": 1, \"120\": 2, \"93\": 1, \"117\": 1, \"121\": 2, \"21\": 2}, \"14\": {\"14\": 19, \"22\": 1, \"129\": 1, \"42\": 2, \"78\": 3, \"12\": 1, \"113\": 1, \"65\": 1, \"73\": 4, \"127\": 1, \"61\": 1, \"62\": 1, \"96\": 1, \"16\": 1, \"115\": 2, \"81\": 1, \"40\": 1, \"39\": 1, \"105\": 2, \"69\": 1, \"21\": 1, \"85\": 1}, \"25\": {\"25\": 13, \"97\": 1, \"101\": 1, \"36\": 1}, \"52\": {\"30\": 5, \"29\": 2, \"52\": 12, \"79\": 1}, \"47\": {\"47\": 5, \"129\": 1, \"49\": 1, \"97\": 1, \"78\": 1, \"85\": 1, \"14\": 1, \"98\": 1}, \"48\": {\"48\": 16, \"72\": 1, \"27\": 1, \"26\": 1, \"71\": 1}, \"27\": {\"27\": 26, \"99\": 1, \"30\": 2, \"97\": 1, \"91\": 1, \"81\": 1, \"125\": 3, \"15\": 6, \"101\": 4, \"12\": 1, \"41\": 1, \"16\": 1, \"49\": 1, \"84\": 1, \"39\": 1, \"94\": 4, \"6\": 2, \"51\": 1, \"18\": 1, \"36\": 1, \"52\": 1, \"58\": 1, \"113\": 1, \"29\": 1, \"117\": 1, \"106\": 2, \"8\": 1}, \"78\": {\"78\": 4, \"47\": 1, \"129\": 3, \"83\": 2, \"115\": 1, \"60\": 1, \"5\": 3, \"109\": 1, \"63\": 3, \"61\": 2, \"62\": 2, \"40\": 1, \"88\": 2, \"43\": 3, \"3\": 3, \"118\": 1, \"2\": 1, \"38\": 3, \"50\": 1, \"85\": 2, \"8\": 1, \"107\": 2, \"105\": 1, \"126\": 2, \"117\": 1, \"70\": 1}, \"8\": {\"8\": 101, \"41\": 1, \"24\": 2, \"11\": 1, \"7\": 1, \"101\": 1, \"108\": 3, \"10\": 2, \"122\": 2, \"98\": 1, \"30\": 1, \"128\": 1, \"79\": 1, \"29\": 2, \"106\": 1, \"88\": 1}, \"90\": {\"90\": 137, \"99\": 1, \"39\": 1, \"71\": 1, \"87\": 5, \"126\": 2, \"16\": 4, \"33\": 2, \"60\": 1, \"83\": 3, \"117\": 1, \"88\": 1, \"109\": 1}, \"103\": {\"103\": 16}, \"120\": {\"120\": 18, \"99\": 2}, \"96\": {\"90\": 1, \"96\": 9, \"109\": 2, \"93\": 2, \"89\": 2, \"13\": 3, \"31\": 1}, \"30\": {\"30\": 57, \"25\": 1, \"51\": 2, \"34\": 2, \"111\": 2, \"24\": 4, \"98\": 4, \"0\": 6, \"15\": 3, \"8\": 4, \"127\": 1, \"106\": 3, \"105\": 1, \"101\": 5, \"69\": 1, \"6\": 1, \"54\": 1, \"108\": 1, \"52\": 1, \"42\": 1, \"36\": 2, \"94\": 1}, \"33\": {\"33\": 138, \"118\": 2, \"84\": 4, \"93\": 1, \"1\": 1}, \"35\": {\"35\": 6, \"25\": 1, \"30\": 1, \"41\": 1, \"51\": 1, \"6\": 1, \"91\": 1}, \"108\": {\"112\": 1, \"7\": 7, \"108\": 51, \"68\": 1, \"11\": 4, \"127\": 15, \"8\": 7, \"29\": 3, \"98\": 3, \"10\": 2, \"49\": 1, \"122\": 5, \"12\": 5, \"111\": 6, \"106\": 1, \"53\": 1, \"27\": 1, \"105\": 1, \"24\": 1}, \"112\": {\"108\": 1, \"112\": 12, \"86\": 1, \"34\": 1, \"11\": 1}, \"40\": {\"40\": 59, \"76\": 1, \"129\": 3, \"5\": 11, \"66\": 1, \"3\": 13, \"19\": 2, \"110\": 5, \"117\": 1, \"78\": 1, \"113\": 1, \"14\": 2, \"85\": 1, \"105\": 14, \"11\": 1, \"107\": 2, \"26\": 3, \"7\": 6, \"102\": 1, \"8\": 1, \"95\": 3, \"50\": 1, \"37\": 1, \"39\": 1, \"93\": 1, \"122\": 1, \"43\": 2, \"18\": 1}, \"102\": {\"87\": 5, \"102\": 89, \"69\": 6, \"114\": 2, \"16\": 2, \"93\": 4, \"84\": 3, \"26\": 1, \"72\": 2, \"33\": 1, \"117\": 1}, \"56\": {\"56\": 10, \"105\": 1, \"104\": 1}, \"93\": {\"102\": 8, \"93\": 89, \"31\": 2, \"116\": 1, \"72\": 2, \"96\": 1, \"13\": 2, \"16\": 6, \"109\": 3, \"39\": 4, \"69\": 9, \"70\": 1, \"90\": 4, \"100\": 1, \"84\": 1, \"40\": 1, \"88\": 1}, \"68\": {\"68\": 13, \"0\": 2, \"90\": 1}, \"70\": {\"70\": 41, \"64\": 1, \"61\": 2, \"44\": 4, \"73\": 3, \"86\": 1, \"84\": 1, \"88\": 5, \"85\": 2, \"33\": 1, \"63\": 2, \"19\": 1, \"43\": 10, \"118\": 1, \"1\": 7, \"126\": 9, \"5\": 1, \"121\": 1, \"62\": 9, \"124\": 1, \"105\": 5, \"40\": 2, \"16\": 1, \"90\": 3, \"78\": 2, \"55\": 1, \"80\": 1, \"114\": 2, \"109\": 1, \"3\": 1, \"26\": 1, \"122\": 1}, \"7\": {\"7\": 97, \"4\": 2, \"108\": 3, \"122\": 15, \"8\": 2, \"74\": 1, \"117\": 1, \"86\": 1, \"10\": 1, \"12\": 1}, \"87\": {\"70\": 4, \"23\": 1, \"60\": 1, \"33\": 6, \"99\": 1, \"101\": 1, \"109\": 5, \"116\": 1, \"45\": 1, \"87\": 26, \"59\": 1, \"62\": 3, \"14\": 1, \"82\": 3, \"2\": 2, \"88\": 6, \"7\": 1, \"126\": 6, \"16\": 3, \"69\": 6, \"71\": 2, \"102\": 6, \"44\": 3, \"92\": 1, \"78\": 1, \"118\": 1, \"96\": 1, \"63\": 1, \"43\": 1, \"113\": 1, \"84\": 7, \"83\": 1, \"39\": 2, \"1\": 1, \"90\": 3, \"122\": 1}, \"54\": {\"40\": 1, \"54\": 14, \"111\": 1, \"24\": 2, \"7\": 2}, \"71\": {\"56\": 1, \"112\": 1, \"71\": 56, \"107\": 4, \"114\": 10, \"11\": 3, \"4\": 5, \"39\": 2, \"125\": 1, \"7\": 1, \"5\": 3, \"47\": 2, \"21\": 1, \"124\": 5, \"122\": 2, \"19\": 1, \"110\": 1, \"18\": 1}, \"80\": {\"80\": 9, \"70\": 1, \"45\": 3, \"22\": 1, \"1\": 1, \"44\": 1}, \"18\": {\"18\": 92, \"117\": 12, \"65\": 2, \"21\": 1, \"113\": 1, \"39\": 4, \"26\": 3, \"121\": 2, \"16\": 1, \"88\": 2, \"69\": 1, \"93\": 1}, \"101\": {\"101\": 105, \"35\": 1, \"57\": 1, \"15\": 4, \"106\": 3, \"125\": 2, \"36\": 2, \"58\": 1, \"30\": 1, \"111\": 1, \"98\": 1}, \"92\": {\"92\": 20, \"40\": 1, \"84\": 1, \"18\": 1, \"33\": 2, \"87\": 1, \"118\": 2}, \"32\": {\"32\": 30, \"124\": 1, \"122\": 2, \"66\": 2, \"127\": 1}, \"128\": {\"30\": 4, \"128\": 4, \"14\": 2, \"107\": 1, \"8\": 1, \"105\": 1, \"98\": 1, \"22\": 2, \"106\": 1, \"91\": 1, \"76\": 1, \"123\": 1, \"19\": 1, \"11\": 1, \"129\": 2}, \"6\": {\"6\": 22, \"15\": 2, \"106\": 2, \"75\": 1, \"51\": 1, \"101\": 2, \"94\": 2}, \"51\": {\"111\": 1, \"30\": 2, \"15\": 2, \"94\": 1, \"29\": 1, \"27\": 1, \"58\": 1, \"36\": 1, \"51\": 6, \"91\": 1, \"0\": 1, \"6\": 1, \"93\": 1}, \"85\": {\"85\": 14, \"115\": 2, \"64\": 1, \"105\": 1, \"121\": 1, \"3\": 3, \"5\": 2, \"40\": 3, \"50\": 1, \"114\": 1, \"28\": 1, \"80\": 2}, \"46\": {\"92\": 2, \"46\": 8, \"85\": 1, \"67\": 1, \"45\": 2, \"76\": 1, \"104\": 1}, \"22\": {\"22\": 18, \"40\": 1, \"47\": 1}, \"1\": {\"44\": 2, \"1\": 94, \"76\": 2, \"67\": 1, \"127\": 2, \"26\": 2, \"43\": 2, \"114\": 2, \"18\": 1, \"62\": 5, \"33\": 1, \"32\": 1, \"42\": 1, \"80\": 1, \"88\": 2, \"102\": 1, \"113\": 1, \"5\": 1}, \"37\": {\"37\": 10, \"129\": 1, \"86\": 2, \"42\": 1, \"123\": 1, \"32\": 1}, \"44\": {\"44\": 80, \"59\": 1, \"57\": 1, \"43\": 3, \"19\": 1, \"5\": 1, \"40\": 1, \"0\": 2, \"118\": 1, \"129\": 1, \"60\": 2, \"32\": 1, \"121\": 1, \"88\": 1, \"70\": 2, \"12\": 1}, \"24\": {\"37\": 1, \"9\": 3, \"97\": 2, \"15\": 10, \"125\": 4, \"98\": 3, \"8\": 7, \"122\": 5, \"2\": 1, \"49\": 1, \"110\": 1, \"36\": 5, \"0\": 2, \"106\": 6, \"34\": 2, \"6\": 1, \"10\": 2, \"101\": 4, \"27\": 2, \"113\": 2, \"107\": 1, \"4\": 1, \"16\": 1, \"24\": 16, \"108\": 3, \"7\": 7, \"39\": 1, \"117\": 3, \"30\": 3, \"51\": 1, \"25\": 2, \"17\": 1, \"74\": 1, \"21\": 1, \"42\": 1, \"52\": 1, \"94\": 1, \"127\": 1, \"111\": 1, \"18\": 1}, \"9\": {\"9\": 28, \"94\": 1, \"15\": 1, \"111\": 2}, \"116\": {\"42\": 1, \"116\": 8, \"16\": 2, \"100\": 2, \"81\": 1, \"62\": 1, \"69\": 3, \"102\": 1, \"84\": 1, \"48\": 1, \"121\": 1, \"82\": 2, \"89\": 3, \"70\": 1}, \"64\": {\"64\": 15, \"1\": 1}, \"129\": {\"37\": 1, \"24\": 1, \"129\": 13, \"11\": 1, \"78\": 1, \"98\": 1, \"5\": 3, \"64\": 1, \"105\": 1, \"43\": 1, \"3\": 3, \"124\": 2, \"107\": 2, \"62\": 1}, \"42\": {\"44\": 1, \"37\": 2, \"42\": 7, \"91\": 1, \"120\": 2, \"22\": 3, \"68\": 2, \"0\": 2, \"127\": 2, \"8\": 1, \"123\": 1, \"96\": 1, \"105\": 1, \"58\": 1, \"124\": 1}, \"117\": {\"117\": 94, \"26\": 9, \"18\": 8, \"72\": 1, \"99\": 1, \"102\": 1, \"69\": 1, \"39\": 1, \"81\": 1, \"113\": 3}, \"88\": {\"88\": 42, \"109\": 9, \"60\": 2, \"90\": 11, \"93\": 4, \"1\": 2, \"118\": 3, \"16\": 4, \"13\": 1, \"126\": 10, \"87\": 9, \"17\": 1, \"19\": 1, \"33\": 2, \"18\": 1, \"70\": 2, \"105\": 1, \"62\": 1, \"67\": 1, \"52\": 1, \"80\": 2, \"66\": 1, \"71\": 1, \"72\": 1, \"69\": 2, \"84\": 4, \"117\": 2, \"43\": 1, \"26\": 1, \"122\": 1}, \"31\": {\"31\": 18, \"116\": 1, \"69\": 1}, \"113\": {\"113\": 58, \"121\": 2, \"21\": 2, \"93\": 1, \"117\": 4, \"87\": 2, \"23\": 2, \"26\": 1}, \"38\": {\"38\": 16}, \"83\": {\"88\": 1, \"25\": 1, \"48\": 1, \"78\": 1, \"83\": 24, \"119\": 1, \"44\": 1, \"96\": 1, \"62\": 2, \"90\": 4, \"70\": 1, \"125\": 1, \"118\": 1}, \"49\": {\"97\": 2, \"98\": 1, \"79\": 1, \"51\": 2, \"86\": 3, \"49\": 5, \"4\": 1, \"110\": 1, \"124\": 1, \"104\": 1, \"38\": 1, \"25\": 1, \"0\": 1, \"100\": 1, \"30\": 1, \"36\": 1}, \"97\": {\"25\": 1, \"101\": 1, \"15\": 1, \"0\": 2, \"97\": 11, \"79\": 1, \"52\": 1, \"125\": 2}, \"76\": {\"76\": 7, \"40\": 1, \"22\": 1, \"67\": 1, \"42\": 1, \"80\": 1, \"45\": 1, \"62\": 1, \"105\": 1, \"38\": 1}, \"29\": {\"97\": 1, \"29\": 25, \"77\": 1, \"111\": 1, \"128\": 1, \"108\": 1, \"8\": 2}, \"61\": {\"38\": 2, \"61\": 14, \"123\": 1, \"32\": 1, \"108\": 2}, \"125\": {\"125\": 94, \"27\": 3, \"106\": 10, \"36\": 10, \"15\": 8, \"21\": 1, \"94\": 5, \"101\": 5, \"24\": 2, \"0\": 1, \"111\": 4, \"103\": 1, \"75\": 1, \"58\": 1, \"127\": 1, \"98\": 1}, \"126\": {\"63\": 3, \"126\": 39, \"16\": 3, \"57\": 1, \"60\": 4, \"36\": 1, \"1\": 3, \"78\": 2, \"72\": 1, \"118\": 3, \"121\": 1, \"33\": 7, \"87\": 8, \"62\": 6, \"88\": 3, \"109\": 3, \"90\": 3, \"105\": 1, \"70\": 8, \"44\": 3, \"84\": 3, \"116\": 1, \"23\": 1, \"66\": 1, \"28\": 1, \"15\": 1, \"53\": 1, \"14\": 1, \"83\": 1, \"82\": 2, \"40\": 2, \"43\": 2}, \"55\": {\"55\": 16}, \"0\": {\"0\": 64, \"29\": 3, \"91\": 1, \"31\": 1, \"79\": 3, \"101\": 2, \"125\": 1, \"122\": 2, \"24\": 2, \"111\": 3, \"30\": 7, \"36\": 3, \"98\": 7, \"8\": 1, \"97\": 1, \"117\": 1, \"108\": 1, \"23\": 1, \"58\": 1, \"21\": 1, \"33\": 1, \"12\": 1}, \"15\": {\"15\": 62, \"97\": 3, \"101\": 9, \"103\": 1, \"77\": 2, \"9\": 1, \"59\": 1, \"90\": 1, \"36\": 12, \"18\": 2, \"125\": 4, \"0\": 3, \"106\": 2, \"98\": 1, \"24\": 3, \"30\": 4, \"27\": 2, \"111\": 3, \"58\": 2, \"94\": 2}, \"26\": {\"26\": 107, \"87\": 1, \"13\": 1, \"117\": 11, \"39\": 4, \"18\": 8, \"69\": 2, \"2\": 2, \"93\": 1, \"126\": 1}, \"63\": {\"63\": 20}, \"57\": {\"57\": 19, \"48\": 1}, \"39\": {\"90\": 7, \"39\": 52, \"21\": 1, \"109\": 6, \"26\": 8, \"69\": 7, \"87\": 4, \"16\": 5, \"93\": 11, \"44\": 1, \"88\": 2, \"18\": 4, \"20\": 1, \"72\": 2, \"2\": 1}, \"62\": {\"62\": 97, \"1\": 9, \"70\": 2, \"39\": 1, \"78\": 1, \"43\": 2, \"126\": 4, \"40\": 4, \"44\": 2, \"114\": 1, \"105\": 2, \"69\": 1, \"33\": 2, \"14\": 5, \"20\": 1, \"19\": 1, \"55\": 1, \"89\": 1, \"118\": 1, \"26\": 1, \"18\": 1}, \"82\": {\"82\": 27, \"38\": 1, \"78\": 1, \"87\": 1, \"90\": 1, \"33\": 3, \"113\": 1, \"62\": 1}, \"11\": {\"11\": 40, \"49\": 2, \"128\": 1, \"70\": 1, \"86\": 1, \"114\": 3, \"12\": 2, \"122\": 3, \"127\": 1, \"23\": 2, \"40\": 1, \"95\": 1, \"24\": 1, \"107\": 1, \"8\": 5, \"10\": 2, \"71\": 2, \"56\": 2, \"112\": 1, \"108\": 1, \"4\": 3, \"69\": 1, \"7\": 2, \"124\": 1}, \"4\": {\"4\": 42, \"7\": 10, \"104\": 1, \"71\": 8, \"12\": 2, \"122\": 3, \"108\": 3, \"107\": 2, \"114\": 7, \"3\": 2, \"26\": 1, \"105\": 1, \"11\": 2, \"24\": 1, \"40\": 1, \"124\": 2}, \"41\": {\"15\": 1, \"41\": 11, \"52\": 1, \"34\": 1, \"103\": 1, \"91\": 1, \"59\": 1, \"25\": 1, \"128\": 2}, \"72\": {\"72\": 20, \"93\": 2, \"14\": 1, \"87\": 1, \"31\": 1, \"69\": 1, \"12\": 1, \"16\": 1}, \"16\": {\"82\": 1, \"72\": 1, \"16\": 64, \"3\": 1, \"102\": 11, \"87\": 8, \"93\": 6, \"90\": 14, \"88\": 3, \"109\": 2, \"43\": 1, \"33\": 3, \"39\": 1, \"69\": 3, \"67\": 1, \"116\": 1, \"44\": 1, \"126\": 1, \"70\": 1}, \"81\": {\"81\": 18, \"65\": 1, \"0\": 1, \"20\": 2, \"117\": 1, \"54\": 1}, \"67\": {\"67\": 7, \"14\": 1, \"84\": 2, \"55\": 2, \"1\": 1, \"92\": 2, \"31\": 1}, \"123\": {\"66\": 1, \"123\": 12, \"4\": 1, \"38\": 1, \"61\": 1}, \"66\": {\"66\": 10, \"115\": 2, \"37\": 1, \"86\": 2, \"42\": 2, \"122\": 2, \"19\": 1}, \"36\": {\"75\": 2, \"81\": 1, \"36\": 52, \"51\": 1, \"52\": 1, \"9\": 1, \"0\": 4, \"106\": 8, \"98\": 3, \"96\": 1, \"121\": 2, \"30\": 1, \"101\": 4, \"6\": 3, \"111\": 2, \"94\": 4, \"27\": 2, \"24\": 7, \"125\": 8, \"15\": 14, \"113\": 1, \"97\": 1, \"35\": 1, \"117\": 2, \"18\": 1, \"69\": 1}, \"115\": {\"115\": 7, \"5\": 1, \"40\": 1, \"95\": 1, \"66\": 1, \"21\": 1}, \"77\": {\"77\": 7, \"101\": 2, \"91\": 1, \"29\": 1, \"103\": 1, \"79\": 2, \"0\": 2}, \"119\": {\"119\": 20}, \"65\": {\"65\": 16, \"117\": 3, \"121\": 1}, \"34\": {\"42\": 2, \"108\": 1, \"98\": 2, \"41\": 1, \"6\": 1, \"12\": 5, \"34\": 5, \"125\": 1, \"94\": 1, \"32\": 1, \"71\": 1, \"106\": 2, \"111\": 1, \"11\": 1, \"29\": 1, \"4\": 1, \"68\": 1, \"7\": 1, \"30\": 1, \"86\": 1, \"122\": 1}, \"107\": {\"114\": 1, \"42\": 1, \"71\": 3, \"107\": 38, \"110\": 1, \"18\": 1, \"8\": 1, \"105\": 2, \"113\": 2, \"124\": 1, \"40\": 2, \"122\": 2, \"17\": 1, \"86\": 2, \"4\": 1, \"3\": 1, \"7\": 1, \"111\": 1, \"5\": 2}, \"13\": {\"13\": 10, \"93\": 3, \"78\": 1, \"118\": 2}, \"110\": {\"25\": 1, \"71\": 1, \"105\": 2, \"110\": 19, \"0\": 1, \"2\": 1, \"3\": 1, \"5\": 2, \"95\": 2, \"56\": 1, \"104\": 1, \"120\": 1, \"85\": 1, \"11\": 1, \"4\": 1, \"10\": 1, \"24\": 2, \"107\": 1}, \"106\": {\"25\": 1, \"106\": 79, \"36\": 4, \"111\": 3, \"101\": 6, \"27\": 2, \"6\": 3, \"125\": 7, \"88\": 1, \"7\": 1, \"15\": 2, \"24\": 3, \"51\": 2, \"39\": 1, \"94\": 1, \"30\": 1, \"26\": 1}, \"89\": {\"89\": 21, \"87\": 1, \"116\": 1, \"62\": 1, \"96\": 1, \"118\": 2, \"84\": 2, \"60\": 1, \"83\": 1, \"100\": 1, \"14\": 1, \"126\": 2, \"69\": 1}, \"94\": {\"97\": 2, \"51\": 1, \"29\": 2, \"69\": 1, \"58\": 2, \"87\": 1, \"59\": 1, \"9\": 2, \"27\": 4, \"94\": 12, \"111\": 1, \"121\": 1, \"125\": 7, \"101\": 5, \"98\": 1, \"16\": 1, \"36\": 2, \"15\": 5, \"21\": 1, \"88\": 1, \"24\": 3, \"6\": 1, \"100\": 1, \"81\": 1, \"0\": 2, \"117\": 1, \"106\": 1, \"30\": 1}, \"98\": {\"98\": 61, \"0\": 5, \"29\": 1, \"97\": 1, \"83\": 1, \"34\": 1, \"13\": 1, \"15\": 3, \"128\": 1, \"24\": 5, \"121\": 1, \"30\": 3, \"108\": 4, \"12\": 2, \"127\": 4, \"8\": 2, \"111\": 6, \"26\": 1, \"101\": 5, \"44\": 1, \"21\": 1, \"6\": 1, \"100\": 1}, \"91\": {\"91\": 18, \"103\": 1, \"58\": 1, \"98\": 1, \"30\": 2, \"41\": 1, \"35\": 1, \"25\": 1, \"68\": 1, \"32\": 1}, \"84\": {\"84\": 62, \"67\": 1, \"92\": 2, \"33\": 9, \"1\": 4, \"71\": 1, \"87\": 3, \"7\": 1, \"70\": 1, \"100\": 1, \"88\": 2, \"62\": 1, \"83\": 2, \"126\": 1, \"124\": 1}, \"73\": {\"9\": 1, \"73\": 22, \"1\": 2, \"107\": 1, \"3\": 2}, \"104\": {\"37\": 2, \"114\": 1, \"20\": 1, \"4\": 2, \"7\": 1, \"104\": 7, \"95\": 1, \"120\": 1, \"128\": 1, \"99\": 1, \"112\": 2}, \"59\": {\"91\": 1, \"59\": 6, \"127\": 1, \"41\": 4, \"24\": 1, \"30\": 1, \"0\": 2}, \"74\": {\"74\": 15, \"128\": 1}, \"28\": {\"28\": 12, \"105\": 2, \"93\": 1, \"107\": 4, \"3\": 1}, \"95\": {\"104\": 2, \"4\": 1, \"31\": 1, \"124\": 2, \"108\": 2, \"95\": 17, \"5\": 5, \"86\": 1, \"105\": 2, \"71\": 2, \"36\": 1}, \"2\": {\"81\": 1, \"87\": 1, \"2\": 20, \"69\": 1, \"21\": 3, \"102\": 1, \"99\": 2, \"39\": 2, \"13\": 1}, \"5\": {\"115\": 2, \"5\": 80, \"73\": 1, \"11\": 4, \"124\": 1, \"110\": 2, \"107\": 3, \"71\": 3, \"113\": 1, \"3\": 7, \"12\": 2, \"114\": 1, \"8\": 1, \"7\": 2, \"88\": 1, \"117\": 1}, \"50\": {\"50\": 10, \"117\": 1, \"40\": 1, \"73\": 1, \"78\": 1, \"14\": 1, \"64\": 1}, \"109\": {\"109\": 57, \"96\": 1, \"6\": 1, \"21\": 2, \"16\": 2, \"62\": 1, \"88\": 8, \"70\": 4, \"93\": 4, \"90\": 2, \"121\": 1, \"26\": 1, \"126\": 2, \"102\": 1, \"118\": 1, \"57\": 1, \"72\": 1, \"40\": 2, \"87\": 3, \"69\": 3, \"43\": 2}, \"10\": {\"10\": 34, \"108\": 4, \"8\": 5, \"23\": 2, \"113\": 1, \"34\": 2, \"32\": 1, \"11\": 1, \"59\": 1, \"117\": 1, \"53\": 1, \"61\": 1, \"29\": 2, \"122\": 2, \"24\": 1, \"105\": 1}, \"45\": {\"45\": 14, \"116\": 1, \"119\": 1}, \"121\": {\"65\": 3, \"121\": 27, \"99\": 1, \"18\": 4, \"117\": 1}, \"124\": {\"110\": 3, \"45\": 1, \"86\": 2, \"124\": 52, \"95\": 1, \"5\": 5, \"107\": 3, \"122\": 3, \"71\": 10, \"4\": 2, \"114\": 5, \"3\": 7, \"7\": 2, \"43\": 1, \"15\": 1, \"40\": 1, \"100\": 1, \"11\": 3, \"105\": 5, \"8\": 1, \"108\": 1}, \"53\": {\"79\": 1, \"53\": 7, \"11\": 1, \"42\": 2, \"8\": 2, \"88\": 1, \"54\": 1, \"61\": 1}, \"79\": {\"79\": 15, \"52\": 1}, \"43\": {\"43\": 48, \"62\": 10, \"129\": 2, \"70\": 4, \"59\": 1, \"32\": 2, \"78\": 2, \"40\": 5, \"100\": 1, \"110\": 1, \"105\": 5, \"23\": 1, \"122\": 2, \"3\": 5, \"10\": 2, \"111\": 1, \"18\": 1, \"108\": 2, \"124\": 1, \"8\": 4, \"1\": 5, \"60\": 1, \"94\": 1, \"86\": 1, \"83\": 1, \"44\": 1, \"39\": 1, \"127\": 1, \"36\": 1, \"16\": 1}, \"122\": {\"110\": 2, \"122\": 51, \"29\": 2, \"11\": 6, \"18\": 3, \"86\": 2, \"78\": 1, \"128\": 1, \"127\": 6, \"12\": 3, \"19\": 1, \"24\": 2, \"26\": 1, \"10\": 3, \"107\": 2, \"40\": 4, \"43\": 1, \"4\": 5, \"114\": 1, \"39\": 1, \"8\": 6, \"105\": 4, \"7\": 3, \"124\": 7, \"108\": 11, \"98\": 1, \"32\": 1, \"112\": 1, \"129\": 1, \"54\": 1, \"71\": 1, \"34\": 1, \"111\": 1, \"0\": 1}, \"100\": {\"100\": 9, \"84\": 2, \"93\": 1, \"87\": 1, \"118\": 1, \"18\": 1, \"89\": 1}, \"19\": {\"19\": 16, \"105\": 2, \"78\": 1, \"40\": 1, \"110\": 1, \"3\": 1, \"60\": 1, \"5\": 1, \"47\": 1, \"101\": 1, \"66\": 1, \"14\": 1}, \"12\": {\"127\": 13, \"12\": 39, \"111\": 8, \"7\": 4, \"104\": 1, \"75\": 2, \"108\": 5, \"24\": 1, \"122\": 4, \"113\": 1, \"8\": 1, \"42\": 1, \"74\": 1, \"34\": 2, \"102\": 1, \"0\": 1, \"4\": 1, \"26\": 1, \"117\": 1}, \"17\": {\"7\": 1, \"17\": 7, \"34\": 2, \"127\": 2, \"11\": 1, \"20\": 1, \"108\": 2}}, \"Wisig_3\": {\"38\": {\"38\": 15, \"114\": 1}, \"88\": {\"74\": 3, \"107\": 2, \"92\": 3, \"128\": 2, \"85\": 1, \"94\": 1, \"88\": 18, \"37\": 1, \"110\": 5, \"32\": 1, \"82\": 1, \"86\": 1, \"67\": 1, \"43\": 2, \"11\": 3, \"26\": 2, \"30\": 1, \"118\": 5, \"9\": 3, \"10\": 5, \"5\": 2, \"16\": 4, \"122\": 2, \"62\": 1, \"84\": 2, \"8\": 4, \"70\": 4, \"14\": 1, \"87\": 1, \"1\": 3, \"108\": 6, \"105\": 1, \"93\": 6, \"57\": 1, \"39\": 1, \"31\": 1, \"66\": 1, \"65\": 1, \"21\": 2, \"36\": 1, \"98\": 1, \"90\": 1, \"113\": 1, \"117\": 1, \"114\": 1, \"102\": 1}, \"104\": {\"124\": 1, \"104\": 12, \"46\": 1, \"71\": 1, \"7\": 1}, \"11\": {\"88\": 7, \"16\": 13, \"11\": 62, \"14\": 5, \"116\": 1, \"109\": 6, \"62\": 11, \"1\": 1, \"84\": 7, \"44\": 3, \"69\": 1, \"87\": 1, \"93\": 3, \"90\": 8, \"33\": 7, \"117\": 1, \"100\": 1, \"20\": 1, \"107\": 1}, \"103\": {\"124\": 1, \"103\": 5, \"74\": 2, \"1\": 1, \"47\": 1, \"34\": 2, \"49\": 2, \"86\": 2}, \"124\": {\"124\": 69, \"85\": 2, \"47\": 1, \"56\": 1, \"34\": 3, \"12\": 1, \"7\": 2, \"3\": 3, \"9\": 2, \"127\": 15, \"8\": 3, \"5\": 2, \"105\": 3, \"108\": 5, \"19\": 1, \"4\": 1, \"71\": 1, \"88\": 1}, \"3\": {\"104\": 1, \"3\": 71, \"57\": 1, \"2\": 1, \"9\": 1, \"5\": 10, \"71\": 7, \"30\": 1, \"4\": 10, \"18\": 1, \"111\": 1, \"105\": 7, \"114\": 2, \"113\": 1, \"127\": 1}, \"74\": {\"74\": 12, \"10\": 1, \"25\": 1, \"108\": 1, \"19\": 1}, \"126\": {\"126\": 78, \"123\": 1, \"64\": 1, \"92\": 1, \"81\": 1, \"93\": 1, \"18\": 13, \"39\": 10, \"88\": 1, \"26\": 3, \"117\": 5, \"33\": 1, \"21\": 3, \"67\": 1, \"113\": 2}, \"123\": {\"123\": 13, \"18\": 1, \"113\": 1, \"61\": 1}, \"51\": {\"51\": 13, \"27\": 1, \"98\": 1, \"30\": 1}, \"14\": {\"14\": 61, \"50\": 1, \"87\": 8, \"107\": 3, \"88\": 2, \"16\": 1, \"1\": 1, \"53\": 1, \"62\": 2}, \"16\": {\"16\": 68, \"88\": 2, \"31\": 1, \"109\": 5, \"44\": 3, \"93\": 3, \"90\": 3, \"118\": 2, \"33\": 3, \"84\": 8, \"69\": 4, \"11\": 6, \"18\": 2, \"62\": 2, \"13\": 2, \"14\": 1, \"0\": 1}, \"22\": {\"22\": 14, \"1\": 1, \"76\": 1}, \"109\": {\"88\": 5, \"109\": 56, \"11\": 3, \"43\": 1, \"13\": 3, \"62\": 3, \"33\": 13, \"118\": 3, \"92\": 2, \"116\": 1, \"90\": 5, \"102\": 4, \"16\": 5, \"69\": 6, \"93\": 9, \"110\": 1, \"89\": 1, \"87\": 1}, \"27\": {\"51\": 1, \"27\": 31, \"94\": 3, \"86\": 2, \"73\": 3, \"98\": 4, \"106\": 5, \"0\": 3, \"125\": 10, \"15\": 8, \"12\": 4, \"111\": 6, \"8\": 2, \"10\": 2, \"36\": 2, \"54\": 2, \"97\": 1, \"7\": 1, \"24\": 2, \"83\": 1, \"101\": 1, \"30\": 1, \"113\": 1}, \"75\": {\"54\": 1, \"75\": 13, \"125\": 1, \"15\": 1}, \"66\": {\"66\": 15, \"86\": 1}, \"48\": {\"64\": 1, \"23\": 1, \"86\": 2, \"99\": 2, \"48\": 1, \"39\": 1, \"8\": 2, \"47\": 1, \"102\": 1, \"14\": 2, \"65\": 2}, \"6\": {\"6\": 24, \"98\": 1, \"73\": 3, \"111\": 1, \"36\": 2, \"15\": 1}, \"10\": {\"10\": 64, \"30\": 7, \"101\": 2, \"99\": 3, \"52\": 2, \"7\": 1, \"0\": 4, \"8\": 16, \"98\": 2, \"12\": 3, \"108\": 3, \"16\": 1, \"35\": 1, \"24\": 1, \"83\": 1, \"126\": 1}, \"99\": {\"99\": 35, \"54\": 1}, \"50\": {\"115\": 1, \"53\": 1, \"50\": 11, \"14\": 1, \"60\": 1, \"114\": 1}, \"54\": {\"54\": 16}, \"55\": {\"55\": 14, \"103\": 1, \"5\": 1}, \"53\": {\"53\": 13, \"107\": 2, \"20\": 3, \"122\": 1, \"76\": 1}, \"72\": {\"72\": 16, \"111\": 3, \"106\": 1, \"35\": 1, \"12\": 2, \"52\": 4, \"30\": 1}, \"64\": {\"64\": 20}, \"115\": {\"126\": 1, \"53\": 1, \"115\": 6, \"9\": 1, \"19\": 2, \"40\": 2, \"20\": 1, \"129\": 2}, \"23\": {\"126\": 2, \"23\": 6, \"81\": 1, \"72\": 1, \"63\": 1, \"2\": 2, \"93\": 2, \"37\": 1, \"48\": 1, \"39\": 1, \"8\": 3, \"99\": 2, \"77\": 1, \"87\": 1, \"7\": 1, \"17\": 1, \"121\": 1, \"95\": 1, \"118\": 1, \"43\": 1, \"128\": 1}, \"32\": {\"57\": 2, \"128\": 3, \"32\": 7, \"107\": 3, \"14\": 1, \"110\": 1, \"29\": 2, \"70\": 3, \"78\": 1, \"76\": 1, \"20\": 1, \"84\": 1, \"90\": 2, \"19\": 2, \"1\": 1, \"108\": 1}, \"15\": {\"15\": 62, \"27\": 3, \"37\": 3, \"6\": 2, \"94\": 4, \"8\": 2, \"43\": 1, \"0\": 1, \"106\": 3, \"36\": 8, \"125\": 2, \"30\": 2, \"18\": 2, \"52\": 2, \"58\": 4, \"24\": 1, \"98\": 2}, \"43\": {\"64\": 3, \"33\": 2, \"93\": 2, \"119\": 1, \"102\": 2, \"43\": 13, \"16\": 1, \"116\": 2, \"109\": 5, \"69\": 1, \"92\": 3, \"118\": 5, \"89\": 2, \"21\": 2, \"80\": 1, \"31\": 1, \"113\": 1, \"13\": 1, \"26\": 3, \"2\": 1, \"76\": 1, \"11\": 1, \"39\": 2}, \"114\": {\"114\": 101, \"38\": 1, \"122\": 2, \"110\": 4, \"108\": 1, \"126\": 1, \"1\": 4, \"18\": 1, \"30\": 1, \"4\": 1, \"53\": 1, \"32\": 1, \"40\": 2, \"3\": 3}, \"121\": {\"64\": 2, \"121\": 19, \"43\": 1, \"39\": 3, \"113\": 1, \"117\": 1, \"21\": 1, \"80\": 1, \"67\": 1, \"96\": 2}, \"79\": {\"79\": 11, \"82\": 1}, \"81\": {\"81\": 29, \"18\": 3}, \"8\": {\"8\": 82, \"23\": 1, \"52\": 1, \"99\": 2, \"30\": 6, \"98\": 8, \"70\": 1, \"108\": 1, \"12\": 6, \"7\": 3, \"36\": 2, \"10\": 5, \"101\": 1, \"94\": 2, \"0\": 1, \"24\": 3, \"111\": 3}, \"13\": {\"13\": 3, \"43\": 2, \"92\": 1, \"96\": 1, \"120\": 1, \"2\": 1, \"109\": 3, \"16\": 1, \"33\": 1, \"21\": 1, \"63\": 1}, \"90\": {\"90\": 125, \"23\": 1, \"48\": 1, \"116\": 1, \"84\": 2, \"87\": 5, \"11\": 10, \"62\": 4, \"129\": 1, \"44\": 3, \"29\": 2, \"16\": 1}, \"41\": {\"32\": 1, \"41\": 10, \"35\": 1, \"127\": 1, \"34\": 1, \"7\": 2}, \"107\": {\"107\": 113, \"88\": 1, \"100\": 1, \"14\": 5, \"40\": 12, \"60\": 1, \"129\": 1, \"62\": 2}, \"57\": {\"57\": 20}, \"33\": {\"33\": 94, \"69\": 9, \"116\": 1, \"118\": 2, \"90\": 1, \"102\": 3, \"93\": 7, \"76\": 1, \"16\": 1, \"109\": 1}, \"35\": {\"99\": 2, \"35\": 8, \"0\": 1, \"128\": 1}, \"29\": {\"29\": 23, \"60\": 3, \"44\": 1, \"62\": 1, \"88\": 1, \"90\": 2, \"129\": 1}, \"70\": {\"86\": 4, \"70\": 20, \"23\": 2, \"127\": 1, \"120\": 1, \"4\": 2, \"108\": 6, \"39\": 1, \"10\": 2, \"31\": 1, \"105\": 2, \"98\": 3, \"1\": 1, \"3\": 1, \"7\": 1, \"71\": 2, \"110\": 3, \"8\": 3, \"78\": 1, \"42\": 1, \"19\": 1, \"55\": 1, \"124\": 5, \"117\": 1, \"62\": 1, \"128\": 1, \"122\": 1, \"126\": 1, \"5\": 1, \"0\": 1}, \"42\": {\"33\": 1, \"42\": 6, \"57\": 1, \"97\": 2, \"0\": 4, \"101\": 2, \"99\": 2, \"95\": 1, \"111\": 1, \"58\": 1, \"94\": 1, \"117\": 1, \"49\": 1, \"68\": 1, \"108\": 1, \"91\": 1, \"15\": 1}, \"93\": {\"33\": 8, \"93\": 66, \"28\": 1, \"102\": 9, \"88\": 5, \"69\": 1, \"16\": 4, \"90\": 1, \"92\": 2, \"11\": 4, \"118\": 11, \"109\": 6, \"117\": 1, \"119\": 1, \"26\": 2, \"62\": 1, \"113\": 2, \"39\": 1}, \"86\": {\"86\": 19, \"10\": 1, \"95\": 1, \"108\": 1, \"42\": 2, \"23\": 1, \"124\": 2, \"70\": 1}, \"28\": {\"28\": 12, \"103\": 1, \"55\": 1, \"88\": 2}, \"1\": {\"1\": 70, \"5\": 4, \"114\": 12, \"40\": 3, \"108\": 2, \"62\": 1, \"105\": 1, \"18\": 1, \"110\": 5, \"87\": 1, \"129\": 1, \"101\": 1, \"122\": 1, \"14\": 3, \"107\": 1, \"126\": 1}, \"125\": {\"125\": 80, \"97\": 1, \"111\": 8, \"36\": 7, \"94\": 6, \"6\": 2, \"15\": 7, \"16\": 1, \"73\": 1, \"106\": 2, \"0\": 1, \"25\": 1, \"75\": 3, \"93\": 1, \"27\": 3}, \"69\": {\"69\": 76, \"90\": 1, \"18\": 2, \"113\": 1, \"102\": 1, \"16\": 1, \"93\": 2}, \"97\": {\"97\": 8, \"106\": 1, \"0\": 2, \"94\": 1, \"51\": 1, \"91\": 1, \"30\": 1, \"6\": 2, \"101\": 2, \"125\": 1}, \"117\": {\"117\": 85, \"113\": 7, \"26\": 6, \"18\": 2, \"39\": 5, \"33\": 1, \"121\": 1, \"81\": 2, \"118\": 1, \"2\": 1, \"126\": 1}, \"68\": {\"68\": 13, \"30\": 1, \"72\": 1, \"95\": 1}, \"30\": {\"65\": 1, \"30\": 29, \"58\": 1, \"83\": 2, \"12\": 3, \"99\": 2, \"36\": 8, \"15\": 5, \"7\": 3, \"111\": 2, \"101\": 2, \"8\": 3, \"0\": 8, \"98\": 1, \"27\": 2, \"67\": 1, \"97\": 2, \"37\": 3, \"59\": 1, \"94\": 1, \"91\": 1, \"89\": 1, \"106\": 1, \"126\": 1}, \"111\": {\"68\": 1, \"111\": 100, \"59\": 1, \"72\": 3, \"0\": 3, \"106\": 4, \"36\": 2, \"73\": 4, \"12\": 5, \"125\": 2, \"27\": 4, \"94\": 1, \"98\": 1, \"15\": 1}, \"47\": {\"47\": 10, \"128\": 1, \"99\": 1}, \"102\": {\"102\": 106, \"119\": 1, \"93\": 1, \"69\": 3, \"16\": 2, \"89\": 2, \"43\": 1, \"118\": 4, \"33\": 4}, \"65\": {\"65\": 6, \"10\": 2, \"52\": 1, \"77\": 2, \"0\": 1}, \"113\": {\"113\": 57, \"26\": 6, \"81\": 1, \"39\": 9, \"61\": 2, \"92\": 1, \"96\": 1, \"18\": 11, \"118\": 3, \"106\": 1, \"93\": 9, \"117\": 8, \"121\": 2, \"64\": 1, \"63\": 1, \"13\": 1, \"30\": 1, \"126\": 2, \"114\": 1, \"33\": 1, \"102\": 1}, \"36\": {\"30\": 4, \"36\": 45, \"94\": 18, \"15\": 9, \"12\": 2, \"111\": 7, \"98\": 3, \"0\": 7, \"27\": 6, \"125\": 7, \"8\": 1, \"54\": 2, \"6\": 2, \"126\": 1}, \"119\": {\"33\": 1, \"93\": 1, \"119\": 7, \"102\": 4, \"17\": 2, \"113\": 1}, \"46\": {\"46\": 5, \"3\": 2, \"105\": 1, \"5\": 1, \"85\": 2, \"56\": 2, \"104\": 2, \"49\": 1}, \"49\": {\"90\": 3, \"91\": 2, \"62\": 3, \"99\": 1, \"10\": 1, \"49\": 3, \"30\": 1, \"125\": 1, \"87\": 2, \"51\": 1, \"75\": 1, \"68\": 1, \"58\": 1, \"45\": 1, \"11\": 1, \"88\": 1}, \"0\": {\"58\": 1, \"0\": 70, \"106\": 3, \"6\": 5, \"37\": 1, \"101\": 4, \"12\": 2, \"15\": 5, \"27\": 2, \"111\": 1, \"7\": 1, \"30\": 8, \"113\": 1, \"36\": 7, \"8\": 2, \"10\": 1, \"24\": 1, \"98\": 1}, \"58\": {\"58\": 11, \"0\": 1, \"30\": 2, \"15\": 1, \"97\": 1}, \"63\": {\"63\": 5, \"117\": 2, \"39\": 1, \"18\": 3, \"81\": 1, \"61\": 3, \"13\": 1}, \"94\": {\"58\": 2, \"94\": 64, \"36\": 3, \"125\": 4, \"57\": 1, \"15\": 6, \"97\": 1, \"27\": 1, \"30\": 1, \"0\": 1}, \"17\": {\"30\": 1, \"63\": 1, \"81\": 1, \"17\": 4, \"113\": 1, \"120\": 1, \"127\": 1, \"42\": 1, \"18\": 2, \"126\": 2, \"86\": 1}, \"9\": {\"46\": 2, \"9\": 21, \"57\": 1, \"124\": 1, \"108\": 4, \"16\": 1, \"128\": 1, \"10\": 1}, \"87\": {\"87\": 49, \"115\": 2, \"80\": 1, \"100\": 3, \"129\": 4, \"40\": 2, \"88\": 2, \"11\": 5, \"14\": 5, \"107\": 8, \"60\": 2, \"44\": 5, \"84\": 10, \"110\": 3, \"62\": 10, \"1\": 2, \"53\": 1, \"22\": 1, \"122\": 1, \"16\": 2, \"3\": 1, \"90\": 1}, \"59\": {\"59\": 9, \"37\": 1, \"30\": 1, \"0\": 1}, \"105\": {\"46\": 1, \"105\": 78, \"4\": 12, \"5\": 12, \"71\": 2, \"124\": 5, \"108\": 1, \"3\": 3, \"127\": 2, \"7\": 2, \"9\": 1, \"114\": 1}, \"80\": {\"80\": 11, \"120\": 1, \"43\": 1, \"116\": 1, \"102\": 2}, \"120\": {\"80\": 1, \"120\": 17, \"92\": 1, \"78\": 1}, \"18\": {\"81\": 3, \"18\": 115, \"63\": 1, \"61\": 1, \"21\": 1, \"26\": 1, \"126\": 3, \"102\": 1, \"113\": 1, \"117\": 3, \"43\": 1, \"88\": 1}, \"78\": {\"81\": 1, \"80\": 1, \"109\": 1, \"97\": 1, \"49\": 1, \"21\": 1, \"85\": 1, \"52\": 1, \"78\": 2, \"4\": 1, \"118\": 1, \"32\": 1, \"70\": 1, \"96\": 1, \"110\": 1}, \"25\": {\"25\": 14, \"111\": 1, \"36\": 1}, \"19\": {\"19\": 7, \"72\": 1, \"127\": 1, \"95\": 2, \"105\": 2, \"86\": 1, \"56\": 3, \"50\": 2, \"1\": 3, \"34\": 1, \"108\": 2, \"42\": 1, \"124\": 2, \"49\": 1, \"46\": 1, \"74\": 1, \"23\": 1}, \"122\": {\"19\": 1, \"105\": 4, \"81\": 1, \"57\": 1, \"40\": 3, \"122\": 23, \"32\": 1, \"60\": 1, \"18\": 3, \"110\": 2, \"10\": 1, \"4\": 3, \"70\": 2, \"1\": 2, \"114\": 1, \"88\": 4, \"34\": 2, \"55\": 1, \"128\": 1, \"74\": 1, \"108\": 1, \"5\": 1}, \"39\": {\"120\": 1, \"39\": 37, \"81\": 1, \"17\": 1, \"80\": 2, \"113\": 17, \"96\": 1, \"121\": 2, \"26\": 2, \"33\": 2, \"126\": 5, \"118\": 4, \"117\": 8, \"102\": 5, \"93\": 6, \"88\": 2, \"109\": 1, \"18\": 5, \"67\": 1, \"2\": 1, \"43\": 1, \"16\": 1, \"11\": 2}, \"76\": {\"76\": 8, \"79\": 1, \"90\": 1, \"50\": 1, \"44\": 4, \"32\": 1}, \"89\": {\"89\": 24, \"119\": 1, \"33\": 1, \"43\": 1, \"118\": 1}, \"129\": {\"76\": 1, \"105\": 1, \"11\": 1, \"90\": 1, \"129\": 7, \"62\": 1, \"40\": 2, \"122\": 2, \"88\": 1, \"114\": 2, \"1\": 5, \"87\": 3, \"44\": 1, \"110\": 1, \"14\": 1, \"5\": 2}, \"26\": {\"80\": 1, \"26\": 78, \"2\": 2, \"121\": 1, \"81\": 2, \"102\": 2, \"117\": 6, \"113\": 3, \"33\": 1, \"11\": 1, \"39\": 1, \"118\": 2}, \"85\": {\"85\": 25, \"103\": 1, \"56\": 1, \"112\": 1, \"46\": 1, \"19\": 1, \"3\": 2, \"78\": 1, \"105\": 1, \"127\": 1, \"108\": 1}, \"71\": {\"128\": 1, \"71\": 40, \"124\": 3, \"105\": 4, \"18\": 2, \"7\": 1, \"8\": 1, \"114\": 2, \"108\": 2, \"104\": 1, \"5\": 3, \"85\": 4, \"3\": 3, \"127\": 1}, \"77\": {\"77\": 12, \"42\": 1, \"48\": 1, \"65\": 1, \"8\": 1}, \"128\": {\"77\": 3, \"74\": 1, \"128\": 12, \"24\": 1, \"32\": 1, \"19\": 1, \"86\": 3, \"10\": 1, \"95\": 1, \"55\": 1, \"108\": 1, \"105\": 1, \"0\": 1, \"9\": 1, \"23\": 1, \"122\": 1, \"70\": 1}, \"2\": {\"26\": 3, \"2\": 18, \"113\": 1, \"43\": 1, \"117\": 3, \"118\": 1, \"21\": 1}, \"56\": {\"56\": 8, \"124\": 2, \"127\": 2}, \"24\": {\"54\": 2, \"75\": 2, \"24\": 15, \"58\": 1, \"7\": 3, \"106\": 4, \"30\": 3, \"94\": 1, \"27\": 3, \"36\": 2, \"57\": 1, \"101\": 1, \"8\": 1, \"73\": 1, \"125\": 3, \"15\": 2, \"0\": 3}, \"101\": {\"2\": 2, \"101\": 22, \"59\": 1, \"0\": 7, \"6\": 1, \"12\": 3, \"24\": 5, \"36\": 1, \"18\": 1, \"15\": 1, \"58\": 2, \"97\": 2, \"30\": 2, \"99\": 1, \"94\": 1}, \"52\": {\"101\": 2, \"52\": 8, \"8\": 1, \"68\": 1, \"37\": 1, \"15\": 1, \"98\": 2}, \"84\": {\"84\": 65, \"31\": 1, \"107\": 2, \"16\": 5, \"87\": 3, \"129\": 1, \"33\": 1, \"69\": 2, \"44\": 5, \"117\": 1, \"11\": 8, \"1\": 2, \"45\": 1, \"82\": 4, \"62\": 1, \"90\": 2, \"109\": 1, \"93\": 1, \"14\": 1, \"110\": 1}, \"7\": {\"7\": 94, \"42\": 1, \"8\": 6, \"12\": 2, \"117\": 1, \"126\": 1, \"99\": 1, \"121\": 1, \"10\": 3, \"127\": 2}, \"82\": {\"82\": 25, \"69\": 1, \"29\": 1, \"70\": 1}, \"60\": {\"114\": 1, \"60\": 7, \"29\": 2, \"110\": 1, \"62\": 3, \"50\": 1, \"45\": 1, \"107\": 1, \"88\": 1, \"87\": 1, \"40\": 3, \"9\": 2, \"70\": 1, \"90\": 1, \"122\": 1, \"14\": 1}, \"45\": {\"64\": 1, \"45\": 9, \"79\": 1, \"18\": 1, \"87\": 2, \"14\": 1, \"117\": 1}, \"40\": {\"114\": 12, \"40\": 87, \"28\": 1, \"122\": 3, \"5\": 1, \"1\": 6, \"107\": 4, \"124\": 1, \"87\": 1, \"74\": 1, \"110\": 6, \"105\": 1}, \"20\": {\"20\": 9, \"14\": 2, \"48\": 2, \"50\": 1, \"44\": 2}, \"4\": {\"4\": 63, \"78\": 1, \"105\": 9, \"3\": 9, \"127\": 1, \"108\": 7, \"7\": 1, \"124\": 1, \"128\": 1, \"5\": 2, \"70\": 1}, \"116\": {\"116\": 18, \"31\": 1, \"109\": 1, \"92\": 1, \"69\": 2, \"118\": 1, \"33\": 1, \"14\": 2, \"119\": 1}, \"61\": {\"18\": 1, \"61\": 12, \"21\": 1, \"81\": 2}, \"5\": {\"5\": 69, \"3\": 10, \"105\": 12, \"124\": 2, \"71\": 2, \"108\": 5, \"4\": 5, \"127\": 3, \"7\": 1, \"98\": 1, \"18\": 1, \"126\": 1}, \"106\": {\"42\": 2, \"106\": 72, \"94\": 2, \"12\": 1, \"98\": 2, \"102\": 1, \"15\": 5, \"125\": 2, \"111\": 2, \"72\": 2, \"36\": 2, \"97\": 1, \"27\": 3, \"30\": 2, \"0\": 1}, \"12\": {\"72\": 3, \"98\": 8, \"12\": 60, \"8\": 6, \"95\": 3, \"15\": 2, \"101\": 2, \"73\": 1, \"7\": 2, \"111\": 7, \"0\": 1, \"124\": 2, \"27\": 2, \"36\": 1, \"65\": 1, \"127\": 1, \"99\": 1, \"24\": 1}, \"62\": {\"62\": 91, \"107\": 6, \"45\": 1, \"90\": 2, \"110\": 3, \"14\": 4, \"102\": 1, \"84\": 3, \"87\": 6, \"92\": 1, \"60\": 1, \"39\": 1}, \"34\": {\"1\": 2, \"27\": 1, \"115\": 2, \"94\": 2, \"110\": 2, \"60\": 1, \"73\": 2, \"106\": 2, \"34\": 1, \"87\": 3, \"14\": 1, \"124\": 1, \"114\": 2, \"125\": 1, \"122\": 1, \"36\": 3, \"62\": 1, \"15\": 1, \"6\": 1, \"129\": 2}, \"91\": {\"91\": 18, \"10\": 2, \"99\": 3, \"108\": 1}, \"112\": {\"112\": 10, \"96\": 1, \"56\": 2, \"47\": 3}, \"92\": {\"92\": 21, \"118\": 2, \"13\": 1, \"120\": 3, \"109\": 1, \"43\": 4}, \"95\": {\"95\": 29, \"12\": 1, \"68\": 1, \"7\": 1}, \"96\": {\"64\": 2, \"92\": 1, \"96\": 16, \"119\": 1}, \"127\": {\"127\": 82, \"34\": 1, \"126\": 3, \"124\": 8, \"7\": 9, \"69\": 1, \"108\": 1, \"52\": 1, \"46\": 1, \"95\": 1}, \"67\": {\"67\": 10, \"81\": 2, \"117\": 1, \"18\": 2, \"3\": 1}, \"83\": {\"83\": 20, \"86\": 1, \"10\": 1, \"34\": 1, \"70\": 1}, \"21\": {\"43\": 4, \"21\": 16, \"67\": 1, \"118\": 1, \"88\": 2, \"93\": 3, \"106\": 2, \"39\": 2, \"117\": 1, \"33\": 1, \"18\": 3, \"113\": 1, \"126\": 3, \"121\": 1, \"59\": 1, \"94\": 1, \"26\": 2, \"69\": 1, \"81\": 1, \"2\": 1}, \"98\": {\"12\": 12, \"83\": 1, \"98\": 59, \"6\": 1, \"5\": 1, \"37\": 1, \"15\": 5, \"24\": 2, \"7\": 3, \"0\": 5, \"8\": 8, \"111\": 11, \"87\": 1, \"36\": 3, \"42\": 1, \"72\": 1, \"52\": 1, \"106\": 4, \"30\": 2, \"125\": 1, \"127\": 1}, \"108\": {\"55\": 1, \"108\": 47, \"10\": 7, \"99\": 3, \"105\": 9, \"24\": 1, \"70\": 6, \"4\": 3, \"127\": 11, \"7\": 5, \"122\": 1, \"98\": 4, \"124\": 9, \"18\": 1, \"5\": 4, \"8\": 7, \"114\": 1, \"12\": 2, \"57\": 2, \"42\": 1, \"46\": 1, \"66\": 1, \"128\": 1, \"83\": 1, \"3\": 1, \"111\": 1, \"126\": 1}, \"31\": {\"16\": 2, \"31\": 11, \"84\": 2, \"82\": 1, \"11\": 1, \"33\": 1, \"129\": 1, \"80\": 1}, \"118\": {\"118\": 47, \"33\": 2, \"2\": 1, \"113\": 3, \"29\": 1, \"43\": 2, \"62\": 1, \"121\": 2, \"90\": 2, \"102\": 7, \"16\": 5, \"109\": 3, \"93\": 9, \"11\": 2, \"26\": 1, \"45\": 1, \"116\": 2, \"80\": 1, \"84\": 1, \"117\": 1, \"13\": 2, \"14\": 1, \"88\": 3}, \"110\": {\"110\": 46, \"128\": 1, \"114\": 5, \"122\": 5, \"34\": 1, \"107\": 2, \"1\": 4, \"71\": 2, \"40\": 9, \"70\": 2, \"108\": 4, \"5\": 2, \"38\": 2, \"9\": 2, \"14\": 2, \"3\": 1, \"105\": 1, \"8\": 1}, \"73\": {\"73\": 30, \"111\": 4, \"42\": 1, \"95\": 1, \"0\": 1, \"94\": 2, \"6\": 1}, \"44\": {\"44\": 55, \"116\": 1, \"84\": 5, \"87\": 5, \"117\": 2, \"76\": 1, \"60\": 1, \"11\": 1, \"26\": 1}, \"37\": {\"37\": 12, \"15\": 3, \"122\": 1}, \"100\": {\"100\": 15, \"107\": 1}}}, \"per_domain_accuracy\": {\"ORACLE.run126\": {\"accuracy\": 0.6315104166666666, \"source?\": true}, \"ORACLE.run144\": {\"accuracy\": 0.7190104166666667, \"source?\": true}, \"ORACLE.run150\": {\"accuracy\": 0.8307291666666666, \"source?\": true}, \"ORACLE.run138\": {\"accuracy\": 0.78515625, \"source?\": true}, \"ORACLE.run120\": {\"accuracy\": 0.7669270833333334, \"source?\": true}, \"ORACLE.run114\": {\"accuracy\": 0.8591145833333333, \"source?\": true}, \"ORACLE.run132\": {\"accuracy\": 0.7619791666666667, \"source?\": true}, \"ORACLE.run18\": {\"accuracy\": 0.7622395833333333, \"source?\": true}, \"Wisig_4\": {\"accuracy\": 0.5515689300411523, \"source?\": false}, \"Wisig_1\": {\"accuracy\": 0.608448093220339, \"source?\": false}, \"Wisig_2\": {\"accuracy\": 0.6002876569037657, \"source?\": false}, \"Wisig_3\": {\"accuracy\": 0.6052128820960698, \"source?\": false}}}, \"history\": {\"epoch_indices\": [1, 2, 3, 4, 5], \"train_label_loss\": [0.7293899878438207, 0.6721274609644232, 0.4246873108531526, 0.3611502299160098, 0.3161520073704499], \"source_val_label_loss\": [7.373579502105713, 0.4962250292301178, 0.432508647441864, 0.33811941742897034, 0.33529213070869446], \"target_val_label_loss\": [945.3148193359375, 438.1237487792969, 533.3084106445312, 582.071044921875, 642.0062866210938], \"source_val_acc_label\": [0.7645833333333333, 0.82060546875, 0.8445638020833334, 0.87783203125, 0.8834309895833333], \"target_val_acc_label\": [0.5910110876451954, 0.5861932418162619, 0.5899881203801478, 0.5859292502639916, 0.5801544350580782]}, \"dataset_metrics\": {\"source\": {\"train\": {\"n_unique_x\": 179200, \"n_unique_y\": 16, \"n_batch/episode\": 6720}, \"val\": {\"n_unique_x\": 38400, \"n_unique_y\": 16, \"n_batch/episode\": 960}, \"test\": {\"n_unique_x\": 38400, \"n_unique_y\": 16, \"n_batch/episode\": 960}}, \"target\": {\"train\": {\"n_unique_x\": 189001, \"n_unique_y\": 130, \"n_batch/episode\": 6847}, \"val\": {\"n_unique_x\": 40070, \"n_unique_y\": 130, \"n_batch/episode\": 947}, \"test\": {\"n_unique_x\": 40812, \"n_unique_y\": 130, \"n_batch/episode\": 969}}}}'"
      ]
     },
     "execution_count": 29,
     "metadata": {},
     "output_type": "execute_result"
    }
   ],
   "source": [
    "json.dumps(experiment)"
   ]
  }
 ],
 "metadata": {
  "celltoolbar": "Tags",
  "kernelspec": {
   "display_name": "Python 3 (ipykernel)",
   "language": "python",
   "name": "python3"
  },
  "language_info": {
   "codemirror_mode": {
    "name": "ipython",
    "version": 3
   },
   "file_extension": ".py",
   "mimetype": "text/x-python",
   "name": "python",
   "nbconvert_exporter": "python",
   "pygments_lexer": "ipython3",
   "version": "3.8.12"
  },
  "papermill": {
   "default_parameters": {},
   "duration": 1609.604879,
   "end_time": "2022-03-21T15:39:33.667757",
   "environment_variables": {},
   "exception": null,
   "input_path": "/root/csc500-main/csc500-notebooks/templates/tl_ptn_template.ipynb",
   "output_path": "trial.ipynb",
   "parameters": {
    "parameters": {
     "BEST_MODEL_PATH": "./best_model.pth",
     "NUM_LOGS_PER_EPOCH": 10,
     "criteria_for_best": "target_accuracy",
     "dataset_seed": 7,
     "datasets": [
      {
       "domain_prefix": "Wisig_",
       "domains": [
        1,
        2,
        3,
        4
       ],
       "episode_transforms": [],
       "labels": [
        "1-10",
        "1-12",
        "1-14",
        "1-16",
        "1-18",
        "1-19",
        "1-8",
        "10-11",
        "10-17",
        "10-4",
        "10-7",
        "11-1",
        "11-10",
        "11-19",
        "11-20",
        "11-4",
        "11-7",
        "12-19",
        "12-20",
        "12-7",
        "13-14",
        "13-18",
        "13-19",
        "13-20",
        "13-3",
        "13-7",
        "14-10",
        "14-11",
        "14-12",
        "14-13",
        "14-14",
        "14-19",
        "14-20",
        "14-7",
        "14-8",
        "14-9",
        "15-1",
        "15-19",
        "15-6",
        "16-1",
        "16-16",
        "16-19",
        "16-20",
        "17-10",
        "17-11",
        "18-1",
        "18-10",
        "18-11",
        "18-12",
        "18-13",
        "18-14",
        "18-15",
        "18-16",
        "18-17",
        "18-19",
        "18-2",
        "18-20",
        "18-4",
        "18-5",
        "18-7",
        "18-8",
        "18-9",
        "19-1",
        "19-10",
        "19-11",
        "19-12",
        "19-13",
        "19-14",
        "19-15",
        "19-19",
        "19-2",
        "19-20",
        "19-3",
        "19-4",
        "19-6",
        "19-7",
        "19-8",
        "19-9",
        "2-1",
        "2-13",
        "2-15",
        "2-3",
        "2-4",
        "2-5",
        "2-6",
        "2-7",
        "2-8",
        "20-1",
        "20-12",
        "20-14",
        "20-15",
        "20-16",
        "20-18",
        "20-19",
        "20-20",
        "20-3",
        "20-4",
        "20-5",
        "20-7",
        "20-8",
        "3-1",
        "3-13",
        "3-18",
        "3-2",
        "3-8",
        "4-1",
        "4-10",
        "4-11",
        "5-1",
        "5-5",
        "6-1",
        "6-15",
        "6-6",
        "7-10",
        "7-11",
        "7-12",
        "7-13",
        "7-14",
        "7-7",
        "7-8",
        "7-9",
        "8-1",
        "8-13",
        "8-14",
        "8-18",
        "8-20",
        "8-3",
        "8-8",
        "9-1",
        "9-7"
       ],
       "num_examples_per_domain_per_label": -1,
       "pickle_path": "/root/csc500-main/datasets/wisig.node3-19.stratified_ds.2022A.pkl",
       "source_or_target_dataset": "target",
       "x_transforms": [
        "unit_power"
       ]
      },
      {
       "domain_prefix": "ORACLE.run1",
       "domains": [
        32,
        38,
        8,
        44,
        14,
        50,
        20,
        26
       ],
       "episode_transforms": [],
       "labels": [
        "3123D52",
        "3123D65",
        "3123D79",
        "3123D80",
        "3123D54",
        "3123D70",
        "3123D7B",
        "3123D89",
        "3123D58",
        "3123D76",
        "3123D7D",
        "3123EFE",
        "3123D64",
        "3123D78",
        "3123D7E",
        "3124E4A"
       ],
       "num_examples_per_domain_per_label": 2000,
       "pickle_path": "/root/csc500-main/datasets/oracle.Run1_framed_2000Examples_stratified_ds.2022A.pkl",
       "source_or_target_dataset": "source",
       "x_transforms": [
        "unit_power"
       ]
      }
     ],
     "device": "cuda",
     "experiment_name": "tl_1v2:wisig-oracle.run1.framed",
     "lr": 0.0001,
     "n_epoch": 50,
     "n_query": 2,
     "n_shot": 3,
     "n_way": 16,
     "patience": 3,
     "seed": 7,
     "test_k_factor": 2,
     "torch_default_dtype": "torch.float32",
     "train_k_factor": 3,
     "val_k_factor": 2,
     "x_net": [
      {
       "class": "nnReshape",
       "kargs": {
        "shape": [
         -1,
         1,
         2,
         256
        ]
       }
      },
      {
       "class": "Conv2d",
       "kargs": {
        "bias": false,
        "in_channels": 1,
        "kernel_size": [
         1,
         7
        ],
        "out_channels": 256,
        "padding": [
         0,
         3
        ]
       }
      },
      {
       "class": "ReLU",
       "kargs": {
        "inplace": true
       }
      },
      {
       "class": "BatchNorm2d",
       "kargs": {
        "num_features": 256
       }
      },
      {
       "class": "Conv2d",
       "kargs": {
        "bias": true,
        "in_channels": 256,
        "kernel_size": [
         2,
         7
        ],
        "out_channels": 80,
        "padding": [
         0,
         3
        ]
       }
      },
      {
       "class": "ReLU",
       "kargs": {
        "inplace": true
       }
      },
      {
       "class": "BatchNorm2d",
       "kargs": {
        "num_features": 80
       }
      },
      {
       "class": "Flatten",
       "kargs": {}
      },
      {
       "class": "Linear",
       "kargs": {
        "in_features": 20480,
        "out_features": 256
       }
      },
      {
       "class": "ReLU",
       "kargs": {
        "inplace": true
       }
      },
      {
       "class": "BatchNorm1d",
       "kargs": {
        "num_features": 256
       }
      },
      {
       "class": "Linear",
       "kargs": {
        "in_features": 256,
        "out_features": 256
       }
      }
     ]
    }
   },
   "start_time": "2022-03-21T15:12:44.062878",
   "version": "2.3.4"
  }
 },
 "nbformat": 4,
 "nbformat_minor": 5
}