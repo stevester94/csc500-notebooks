{
 "cells": [
  {
   "cell_type": "markdown",
   "id": "9fea5f46",
   "metadata": {
    "papermill": {
     "duration": 0.032352,
     "end_time": "2022-03-21T09:23:38.164426",
     "exception": false,
     "start_time": "2022-03-21T09:23:38.132074",
     "status": "completed"
    },
    "tags": []
   },
   "source": [
    "# Transfer Learning Template"
   ]
  },
  {
   "cell_type": "code",
   "execution_count": 1,
   "id": "0902182a",
   "metadata": {
    "execution": {
     "iopub.execute_input": "2022-03-21T09:23:38.226853Z",
     "iopub.status.busy": "2022-03-21T09:23:38.211975Z",
     "iopub.status.idle": "2022-03-21T09:23:40.237724Z",
     "shell.execute_reply": "2022-03-21T09:23:40.236844Z"
    },
    "papermill": {
     "duration": 2.049621,
     "end_time": "2022-03-21T09:23:40.237915",
     "exception": false,
     "start_time": "2022-03-21T09:23:38.188294",
     "status": "completed"
    },
    "tags": []
   },
   "outputs": [],
   "source": [
    "%load_ext autoreload\n",
    "%autoreload 2\n",
    "%matplotlib inline\n",
    "\n",
    "    \n",
    "import os, json, sys, time, random\n",
    "import numpy as np\n",
    "import torch\n",
    "from torch.optim import Adam\n",
    "from  easydict import EasyDict\n",
    "import matplotlib.pyplot as plt\n",
    "\n",
    "from steves_models.steves_ptn import Steves_Prototypical_Network\n",
    "\n",
    "from steves_utils.lazy_iterable_wrapper import Lazy_Iterable_Wrapper\n",
    "from steves_utils.iterable_aggregator import Iterable_Aggregator\n",
    "from steves_utils.ptn_train_eval_test_jig import  PTN_Train_Eval_Test_Jig\n",
    "from steves_utils.torch_sequential_builder import build_sequential\n",
    "from steves_utils.torch_utils import get_dataset_metrics, ptn_confusion_by_domain_over_dataloader\n",
    "from steves_utils.utils_v2 import (per_domain_accuracy_from_confusion, get_datasets_base_path)\n",
    "from steves_utils.PTN.utils import independent_accuracy_assesment\n",
    "\n",
    "from torch.utils.data import DataLoader\n",
    "\n",
    "from steves_utils.stratified_dataset.episodic_accessor import Episodic_Accessor_Factory\n",
    "\n",
    "from steves_utils.ptn_do_report import (\n",
    "    get_loss_curve,\n",
    "    get_results_table,\n",
    "    get_parameters_table,\n",
    "    get_domain_accuracies,\n",
    ")\n",
    "\n",
    "from steves_utils.transforms import get_chained_transform"
   ]
  },
  {
   "cell_type": "markdown",
   "id": "41c840b4",
   "metadata": {
    "papermill": {
     "duration": 0.019485,
     "end_time": "2022-03-21T09:23:40.280913",
     "exception": false,
     "start_time": "2022-03-21T09:23:40.261428",
     "status": "completed"
    },
    "tags": []
   },
   "source": [
    "# Allowed Parameters\n",
    "These are allowed parameters, not defaults\n",
    "Each of these values need to be present in the injected parameters (the notebook will raise an exception if they are not present)\n",
    "\n",
    "Papermill uses the cell tag \"parameters\" to inject the real parameters below this cell.\n",
    "Enable tags to see what I mean"
   ]
  },
  {
   "cell_type": "code",
   "execution_count": 2,
   "id": "fd44eb83",
   "metadata": {
    "execution": {
     "iopub.execute_input": "2022-03-21T09:23:40.326251Z",
     "iopub.status.busy": "2022-03-21T09:23:40.325648Z",
     "iopub.status.idle": "2022-03-21T09:23:40.351467Z",
     "shell.execute_reply": "2022-03-21T09:23:40.350747Z"
    },
    "papermill": {
     "duration": 0.051271,
     "end_time": "2022-03-21T09:23:40.351646",
     "exception": false,
     "start_time": "2022-03-21T09:23:40.300375",
     "status": "completed"
    },
    "tags": []
   },
   "outputs": [],
   "source": [
    "required_parameters = {\n",
    "    \"experiment_name\",\n",
    "    \"lr\",\n",
    "    \"device\",\n",
    "    \"seed\",\n",
    "    \"dataset_seed\",\n",
    "    \"n_shot\",\n",
    "    \"n_query\",\n",
    "    \"n_way\",\n",
    "    \"train_k_factor\",\n",
    "    \"val_k_factor\",\n",
    "    \"test_k_factor\",\n",
    "    \"n_epoch\",\n",
    "    \"patience\",\n",
    "    \"criteria_for_best\",\n",
    "    \"x_net\",\n",
    "    \"datasets\",\n",
    "    \"torch_default_dtype\",\n",
    "    \"NUM_LOGS_PER_EPOCH\",\n",
    "    \"BEST_MODEL_PATH\",\n",
    "    \"x_shape\",\n",
    "}"
   ]
  },
  {
   "cell_type": "code",
   "execution_count": 3,
   "id": "fa3f0049",
   "metadata": {
    "execution": {
     "iopub.execute_input": "2022-03-21T09:23:40.413329Z",
     "iopub.status.busy": "2022-03-21T09:23:40.412696Z",
     "iopub.status.idle": "2022-03-21T09:23:40.437169Z",
     "shell.execute_reply": "2022-03-21T09:23:40.436453Z"
    },
    "papermill": {
     "duration": 0.057327,
     "end_time": "2022-03-21T09:23:40.437328",
     "exception": false,
     "start_time": "2022-03-21T09:23:40.380001",
     "status": "completed"
    },
    "tags": [
     "parameters"
    ]
   },
   "outputs": [],
   "source": [
    "from steves_utils.CORES.utils import (\n",
    "    ALL_NODES,\n",
    "    ALL_NODES_MINIMUM_1000_EXAMPLES,\n",
    "    ALL_DAYS\n",
    ")\n",
    "\n",
    "from steves_utils.ORACLE.utils_v2 import (\n",
    "    ALL_DISTANCES_FEET_NARROWED,\n",
    "    ALL_RUNS,\n",
    "    ALL_SERIAL_NUMBERS,\n",
    ")\n",
    "\n",
    "standalone_parameters = {}\n",
    "standalone_parameters[\"experiment_name\"] = \"STANDALONE PTN\"\n",
    "standalone_parameters[\"lr\"] = 0.001\n",
    "standalone_parameters[\"device\"] = \"cuda\"\n",
    "\n",
    "standalone_parameters[\"seed\"] = 1337\n",
    "standalone_parameters[\"dataset_seed\"] = 1337\n",
    "\n",
    "standalone_parameters[\"n_way\"] = 8\n",
    "standalone_parameters[\"n_shot\"] = 3\n",
    "standalone_parameters[\"n_query\"]  = 2\n",
    "standalone_parameters[\"train_k_factor\"] = 1\n",
    "standalone_parameters[\"val_k_factor\"] = 2\n",
    "standalone_parameters[\"test_k_factor\"] = 2\n",
    "\n",
    "\n",
    "standalone_parameters[\"n_epoch\"] = 50\n",
    "\n",
    "standalone_parameters[\"patience\"] = 10\n",
    "standalone_parameters[\"criteria_for_best\"] = \"source_loss\"\n",
    "\n",
    "standalone_parameters[\"datasets\"] = [\n",
    "    {\n",
    "        \"labels\": ALL_SERIAL_NUMBERS,\n",
    "        \"domains\": ALL_DISTANCES_FEET_NARROWED,\n",
    "        \"num_examples_per_domain_per_label\": 100,\n",
    "        \"pickle_path\": os.path.join(get_datasets_base_path(), \"oracle.Run1_framed_2000Examples_stratified_ds.2022A.pkl\"),\n",
    "        \"source_or_target_dataset\": \"source\",\n",
    "        \"x_transforms\": [\"unit_mag\", \"minus_two\"],\n",
    "        \"episode_transforms\": [],\n",
    "        \"domain_prefix\": \"ORACLE_\"\n",
    "    },\n",
    "    {\n",
    "        \"labels\": ALL_NODES,\n",
    "        \"domains\": ALL_DAYS,\n",
    "        \"num_examples_per_domain_per_label\": 100,\n",
    "        \"pickle_path\": os.path.join(get_datasets_base_path(), \"cores.stratified_ds.2022A.pkl\"),\n",
    "        \"source_or_target_dataset\": \"target\",\n",
    "        \"x_transforms\": [\"unit_power\", \"times_zero\"],\n",
    "        \"episode_transforms\": [],\n",
    "        \"domain_prefix\": \"CORES_\"\n",
    "    }   \n",
    "]\n",
    "\n",
    "standalone_parameters[\"torch_default_dtype\"] = \"torch.float32\" \n",
    "\n",
    "\n",
    "\n",
    "standalone_parameters[\"x_net\"] =     [\n",
    "    {\"class\": \"nnReshape\", \"kargs\": {\"shape\":[-1, 1, 2, 256]}},\n",
    "    {\"class\": \"Conv2d\", \"kargs\": { \"in_channels\":1, \"out_channels\":256, \"kernel_size\":(1,7), \"bias\":False, \"padding\":(0,3), },},\n",
    "    {\"class\": \"ReLU\", \"kargs\": {\"inplace\": True}},\n",
    "    {\"class\": \"BatchNorm2d\", \"kargs\": {\"num_features\":256}},\n",
    "\n",
    "    {\"class\": \"Conv2d\", \"kargs\": { \"in_channels\":256, \"out_channels\":80, \"kernel_size\":(2,7), \"bias\":True, \"padding\":(0,3), },},\n",
    "    {\"class\": \"ReLU\", \"kargs\": {\"inplace\": True}},\n",
    "    {\"class\": \"BatchNorm2d\", \"kargs\": {\"num_features\":80}},\n",
    "    {\"class\": \"Flatten\", \"kargs\": {}},\n",
    "\n",
    "    {\"class\": \"Linear\", \"kargs\": {\"in_features\": 80*256, \"out_features\": 256}}, # 80 units per IQ pair\n",
    "    {\"class\": \"ReLU\", \"kargs\": {\"inplace\": True}},\n",
    "    {\"class\": \"BatchNorm1d\", \"kargs\": {\"num_features\":256}},\n",
    "\n",
    "    {\"class\": \"Linear\", \"kargs\": {\"in_features\": 256, \"out_features\": 256}},\n",
    "]\n",
    "\n",
    "# Parameters relevant to results\n",
    "# These parameters will basically never need to change\n",
    "standalone_parameters[\"NUM_LOGS_PER_EPOCH\"] = 10\n",
    "standalone_parameters[\"BEST_MODEL_PATH\"] = \"./best_model.pth\"\n",
    "\n",
    "\n",
    "\n",
    "\n"
   ]
  },
  {
   "cell_type": "code",
   "execution_count": 4,
   "id": "61d34368",
   "metadata": {
    "execution": {
     "iopub.execute_input": "2022-03-21T09:23:40.500241Z",
     "iopub.status.busy": "2022-03-21T09:23:40.495993Z",
     "iopub.status.idle": "2022-03-21T09:23:40.530213Z",
     "shell.execute_reply": "2022-03-21T09:23:40.529393Z"
    },
    "papermill": {
     "duration": 0.06752,
     "end_time": "2022-03-21T09:23:40.530372",
     "exception": false,
     "start_time": "2022-03-21T09:23:40.462852",
     "status": "completed"
    },
    "tags": [
     "injected-parameters"
    ]
   },
   "outputs": [],
   "source": [
    "# Parameters\n",
    "parameters = {\n",
    "    \"experiment_name\": \"tl_1v2:wisig-oracle.run1.framed\",\n",
    "    \"device\": \"cuda\",\n",
    "    \"lr\": 0.0001,\n",
    "    \"n_shot\": 3,\n",
    "    \"n_query\": 2,\n",
    "    \"train_k_factor\": 3,\n",
    "    \"val_k_factor\": 2,\n",
    "    \"test_k_factor\": 2,\n",
    "    \"torch_default_dtype\": \"torch.float32\",\n",
    "    \"n_epoch\": 50,\n",
    "    \"patience\": 3,\n",
    "    \"criteria_for_best\": \"target_accuracy\",\n",
    "    \"x_net\": [\n",
    "        {\"class\": \"nnReshape\", \"kargs\": {\"shape\": [-1, 1, 2, 256]}},\n",
    "        {\n",
    "            \"class\": \"Conv2d\",\n",
    "            \"kargs\": {\n",
    "                \"in_channels\": 1,\n",
    "                \"out_channels\": 256,\n",
    "                \"kernel_size\": [1, 7],\n",
    "                \"bias\": False,\n",
    "                \"padding\": [0, 3],\n",
    "            },\n",
    "        },\n",
    "        {\"class\": \"ReLU\", \"kargs\": {\"inplace\": True}},\n",
    "        {\"class\": \"BatchNorm2d\", \"kargs\": {\"num_features\": 256}},\n",
    "        {\n",
    "            \"class\": \"Conv2d\",\n",
    "            \"kargs\": {\n",
    "                \"in_channels\": 256,\n",
    "                \"out_channels\": 80,\n",
    "                \"kernel_size\": [2, 7],\n",
    "                \"bias\": True,\n",
    "                \"padding\": [0, 3],\n",
    "            },\n",
    "        },\n",
    "        {\"class\": \"ReLU\", \"kargs\": {\"inplace\": True}},\n",
    "        {\"class\": \"BatchNorm2d\", \"kargs\": {\"num_features\": 80}},\n",
    "        {\"class\": \"Flatten\", \"kargs\": {}},\n",
    "        {\"class\": \"Linear\", \"kargs\": {\"in_features\": 20480, \"out_features\": 256}},\n",
    "        {\"class\": \"ReLU\", \"kargs\": {\"inplace\": True}},\n",
    "        {\"class\": \"BatchNorm1d\", \"kargs\": {\"num_features\": 256}},\n",
    "        {\"class\": \"Linear\", \"kargs\": {\"in_features\": 256, \"out_features\": 256}},\n",
    "    ],\n",
    "    \"NUM_LOGS_PER_EPOCH\": 10,\n",
    "    \"BEST_MODEL_PATH\": \"./best_model.pth\",\n",
    "    \"n_way\": 16,\n",
    "    \"datasets\": [\n",
    "        {\n",
    "            \"labels\": [\n",
    "                \"1-10\",\n",
    "                \"1-12\",\n",
    "                \"1-14\",\n",
    "                \"1-16\",\n",
    "                \"1-18\",\n",
    "                \"1-19\",\n",
    "                \"1-8\",\n",
    "                \"10-11\",\n",
    "                \"10-17\",\n",
    "                \"10-4\",\n",
    "                \"10-7\",\n",
    "                \"11-1\",\n",
    "                \"11-10\",\n",
    "                \"11-19\",\n",
    "                \"11-20\",\n",
    "                \"11-4\",\n",
    "                \"11-7\",\n",
    "                \"12-19\",\n",
    "                \"12-20\",\n",
    "                \"12-7\",\n",
    "                \"13-14\",\n",
    "                \"13-18\",\n",
    "                \"13-19\",\n",
    "                \"13-20\",\n",
    "                \"13-3\",\n",
    "                \"13-7\",\n",
    "                \"14-10\",\n",
    "                \"14-11\",\n",
    "                \"14-12\",\n",
    "                \"14-13\",\n",
    "                \"14-14\",\n",
    "                \"14-19\",\n",
    "                \"14-20\",\n",
    "                \"14-7\",\n",
    "                \"14-8\",\n",
    "                \"14-9\",\n",
    "                \"15-1\",\n",
    "                \"15-19\",\n",
    "                \"15-6\",\n",
    "                \"16-1\",\n",
    "                \"16-16\",\n",
    "                \"16-19\",\n",
    "                \"16-20\",\n",
    "                \"17-10\",\n",
    "                \"17-11\",\n",
    "                \"18-1\",\n",
    "                \"18-10\",\n",
    "                \"18-11\",\n",
    "                \"18-12\",\n",
    "                \"18-13\",\n",
    "                \"18-14\",\n",
    "                \"18-15\",\n",
    "                \"18-16\",\n",
    "                \"18-17\",\n",
    "                \"18-19\",\n",
    "                \"18-2\",\n",
    "                \"18-20\",\n",
    "                \"18-4\",\n",
    "                \"18-5\",\n",
    "                \"18-7\",\n",
    "                \"18-8\",\n",
    "                \"18-9\",\n",
    "                \"19-1\",\n",
    "                \"19-10\",\n",
    "                \"19-11\",\n",
    "                \"19-12\",\n",
    "                \"19-13\",\n",
    "                \"19-14\",\n",
    "                \"19-15\",\n",
    "                \"19-19\",\n",
    "                \"19-2\",\n",
    "                \"19-20\",\n",
    "                \"19-3\",\n",
    "                \"19-4\",\n",
    "                \"19-6\",\n",
    "                \"19-7\",\n",
    "                \"19-8\",\n",
    "                \"19-9\",\n",
    "                \"2-1\",\n",
    "                \"2-13\",\n",
    "                \"2-15\",\n",
    "                \"2-3\",\n",
    "                \"2-4\",\n",
    "                \"2-5\",\n",
    "                \"2-6\",\n",
    "                \"2-7\",\n",
    "                \"2-8\",\n",
    "                \"20-1\",\n",
    "                \"20-12\",\n",
    "                \"20-14\",\n",
    "                \"20-15\",\n",
    "                \"20-16\",\n",
    "                \"20-18\",\n",
    "                \"20-19\",\n",
    "                \"20-20\",\n",
    "                \"20-3\",\n",
    "                \"20-4\",\n",
    "                \"20-5\",\n",
    "                \"20-7\",\n",
    "                \"20-8\",\n",
    "                \"3-1\",\n",
    "                \"3-13\",\n",
    "                \"3-18\",\n",
    "                \"3-2\",\n",
    "                \"3-8\",\n",
    "                \"4-1\",\n",
    "                \"4-10\",\n",
    "                \"4-11\",\n",
    "                \"5-1\",\n",
    "                \"5-5\",\n",
    "                \"6-1\",\n",
    "                \"6-15\",\n",
    "                \"6-6\",\n",
    "                \"7-10\",\n",
    "                \"7-11\",\n",
    "                \"7-12\",\n",
    "                \"7-13\",\n",
    "                \"7-14\",\n",
    "                \"7-7\",\n",
    "                \"7-8\",\n",
    "                \"7-9\",\n",
    "                \"8-1\",\n",
    "                \"8-13\",\n",
    "                \"8-14\",\n",
    "                \"8-18\",\n",
    "                \"8-20\",\n",
    "                \"8-3\",\n",
    "                \"8-8\",\n",
    "                \"9-1\",\n",
    "                \"9-7\",\n",
    "            ],\n",
    "            \"domains\": [1, 2, 3, 4],\n",
    "            \"num_examples_per_domain_per_label\": -1,\n",
    "            \"pickle_path\": \"/root/csc500-main/datasets/wisig.node3-19.stratified_ds.2022A.pkl\",\n",
    "            \"source_or_target_dataset\": \"target\",\n",
    "            \"x_transforms\": [\"unit_mag\"],\n",
    "            \"episode_transforms\": [],\n",
    "            \"domain_prefix\": \"Wisig_\",\n",
    "        },\n",
    "        {\n",
    "            \"labels\": [\n",
    "                \"3123D52\",\n",
    "                \"3123D65\",\n",
    "                \"3123D79\",\n",
    "                \"3123D80\",\n",
    "                \"3123D54\",\n",
    "                \"3123D70\",\n",
    "                \"3123D7B\",\n",
    "                \"3123D89\",\n",
    "                \"3123D58\",\n",
    "                \"3123D76\",\n",
    "                \"3123D7D\",\n",
    "                \"3123EFE\",\n",
    "                \"3123D64\",\n",
    "                \"3123D78\",\n",
    "                \"3123D7E\",\n",
    "                \"3124E4A\",\n",
    "            ],\n",
    "            \"domains\": [32, 38, 8, 44, 14, 50, 20, 26],\n",
    "            \"num_examples_per_domain_per_label\": 2000,\n",
    "            \"pickle_path\": \"/root/csc500-main/datasets/oracle.Run1_framed_2000Examples_stratified_ds.2022A.pkl\",\n",
    "            \"source_or_target_dataset\": \"source\",\n",
    "            \"x_transforms\": [\"unit_mag\"],\n",
    "            \"episode_transforms\": [],\n",
    "            \"domain_prefix\": \"ORACLE.run1\",\n",
    "        },\n",
    "    ],\n",
    "    \"dataset_seed\": 420,\n",
    "    \"seed\": 420,\n",
    "}\n"
   ]
  },
  {
   "cell_type": "code",
   "execution_count": 5,
   "id": "8fa1cc33",
   "metadata": {
    "execution": {
     "iopub.execute_input": "2022-03-21T09:23:40.584455Z",
     "iopub.status.busy": "2022-03-21T09:23:40.583886Z",
     "iopub.status.idle": "2022-03-21T09:23:40.608126Z",
     "shell.execute_reply": "2022-03-21T09:23:40.607385Z"
    },
    "papermill": {
     "duration": 0.051314,
     "end_time": "2022-03-21T09:23:40.608289",
     "exception": false,
     "start_time": "2022-03-21T09:23:40.556975",
     "status": "completed"
    },
    "tags": []
   },
   "outputs": [],
   "source": [
    "# Set this to True if you want to run this template directly\n",
    "STANDALONE = False\n",
    "if STANDALONE:\n",
    "    print(\"parameters not injected, running with standalone_parameters\")\n",
    "    parameters = standalone_parameters\n",
    "\n",
    "if not 'parameters' in locals() and not 'parameters' in globals():\n",
    "    raise Exception(\"Parameter injection failed\")\n",
    "\n",
    "#Use an easy dict for all the parameters\n",
    "p = EasyDict(parameters)\n",
    "\n",
    "if \"x_shape\" not in p:\n",
    "    p.x_shape = [2,256] # Default to this if we dont supply x_shape\n",
    "\n",
    "\n",
    "supplied_keys = set(p.keys())\n",
    "\n",
    "if  supplied_keys != required_parameters:\n",
    "    print(\"Parameters are incorrect\")\n",
    "    if len(supplied_keys - required_parameters)>0: print(\"Shouldn't have:\", str(supplied_keys - required_parameters))\n",
    "    if len(required_parameters - supplied_keys)>0: print(\"Need to have:\", str(required_parameters - supplied_keys))\n",
    "    raise RuntimeError(\"Parameters are incorrect\")"
   ]
  },
  {
   "cell_type": "code",
   "execution_count": 6,
   "id": "3a028d58",
   "metadata": {
    "execution": {
     "iopub.execute_input": "2022-03-21T09:23:40.660311Z",
     "iopub.status.busy": "2022-03-21T09:23:40.659867Z",
     "iopub.status.idle": "2022-03-21T09:23:40.684305Z",
     "shell.execute_reply": "2022-03-21T09:23:40.684987Z"
    },
    "papermill": {
     "duration": 0.048479,
     "end_time": "2022-03-21T09:23:40.685170",
     "exception": false,
     "start_time": "2022-03-21T09:23:40.636691",
     "status": "completed"
    },
    "tags": []
   },
   "outputs": [],
   "source": [
    "###################################\n",
    "# Set the RNGs and make it all deterministic\n",
    "###################################\n",
    "np.random.seed(p.seed)\n",
    "random.seed(p.seed)\n",
    "torch.manual_seed(p.seed)\n",
    "\n",
    "torch.use_deterministic_algorithms(True) "
   ]
  },
  {
   "cell_type": "code",
   "execution_count": 7,
   "id": "b691acf6",
   "metadata": {
    "execution": {
     "iopub.execute_input": "2022-03-21T09:23:40.735269Z",
     "iopub.status.busy": "2022-03-21T09:23:40.734897Z",
     "iopub.status.idle": "2022-03-21T09:23:40.760568Z",
     "shell.execute_reply": "2022-03-21T09:23:40.761244Z"
    },
    "papermill": {
     "duration": 0.049946,
     "end_time": "2022-03-21T09:23:40.761428",
     "exception": false,
     "start_time": "2022-03-21T09:23:40.711482",
     "status": "completed"
    },
    "tags": []
   },
   "outputs": [],
   "source": [
    "###########################################\n",
    "# The stratified datasets honor this\n",
    "###########################################\n",
    "torch.set_default_dtype(eval(p.torch_default_dtype))"
   ]
  },
  {
   "cell_type": "code",
   "execution_count": 8,
   "id": "b5fba671",
   "metadata": {
    "execution": {
     "iopub.execute_input": "2022-03-21T09:23:40.813557Z",
     "iopub.status.busy": "2022-03-21T09:23:40.812985Z",
     "iopub.status.idle": "2022-03-21T09:23:40.871290Z",
     "shell.execute_reply": "2022-03-21T09:23:40.870510Z"
    },
    "papermill": {
     "duration": 0.08175,
     "end_time": "2022-03-21T09:23:40.871458",
     "exception": false,
     "start_time": "2022-03-21T09:23:40.789708",
     "status": "completed"
    },
    "tags": []
   },
   "outputs": [],
   "source": [
    "###################################\n",
    "# Build the network(s)\n",
    "# Note: It's critical to do this AFTER setting the RNG\n",
    "###################################\n",
    "x_net = build_sequential(p.x_net)"
   ]
  },
  {
   "cell_type": "code",
   "execution_count": 9,
   "id": "5d7e61cc",
   "metadata": {
    "execution": {
     "iopub.execute_input": "2022-03-21T09:23:40.922147Z",
     "iopub.status.busy": "2022-03-21T09:23:40.921769Z",
     "iopub.status.idle": "2022-03-21T09:23:40.947465Z",
     "shell.execute_reply": "2022-03-21T09:23:40.946752Z"
    },
    "papermill": {
     "duration": 0.048837,
     "end_time": "2022-03-21T09:23:40.947655",
     "exception": false,
     "start_time": "2022-03-21T09:23:40.898818",
     "status": "completed"
    },
    "tags": []
   },
   "outputs": [],
   "source": [
    "start_time_secs = time.time()"
   ]
  },
  {
   "cell_type": "code",
   "execution_count": 10,
   "id": "c6b67dfd",
   "metadata": {
    "execution": {
     "iopub.execute_input": "2022-03-21T09:23:40.997724Z",
     "iopub.status.busy": "2022-03-21T09:23:40.997356Z",
     "iopub.status.idle": "2022-03-21T09:23:41.021577Z",
     "shell.execute_reply": "2022-03-21T09:23:41.020869Z"
    },
    "papermill": {
     "duration": 0.047775,
     "end_time": "2022-03-21T09:23:41.021733",
     "exception": false,
     "start_time": "2022-03-21T09:23:40.973958",
     "status": "completed"
    },
    "tags": []
   },
   "outputs": [],
   "source": [
    "p.domains_source = []\n",
    "p.domains_target = []\n",
    "\n",
    "\n",
    "train_original_source = []\n",
    "val_original_source   = []\n",
    "test_original_source  = []\n",
    "\n",
    "train_original_target = []\n",
    "val_original_target   = []\n",
    "test_original_target  = []"
   ]
  },
  {
   "cell_type": "code",
   "execution_count": 11,
   "id": "e3d9c3d3",
   "metadata": {
    "execution": {
     "iopub.execute_input": "2022-03-21T09:23:41.069892Z",
     "iopub.status.busy": "2022-03-21T09:23:41.069524Z",
     "iopub.status.idle": "2022-03-21T09:23:41.093912Z",
     "shell.execute_reply": "2022-03-21T09:23:41.093204Z"
    },
    "papermill": {
     "duration": 0.046682,
     "end_time": "2022-03-21T09:23:41.094069",
     "exception": false,
     "start_time": "2022-03-21T09:23:41.047387",
     "status": "completed"
    },
    "tags": []
   },
   "outputs": [],
   "source": [
    "# global_x_transform_func = lambda x: normalize(x.to(torch.get_default_dtype()), \"unit_power\") # unit_power, unit_mag\n",
    "# global_x_transform_func = lambda x: normalize(x, \"unit_power\") # unit_power, unit_mag"
   ]
  },
  {
   "cell_type": "code",
   "execution_count": 12,
   "id": "acb78fd2",
   "metadata": {
    "execution": {
     "iopub.execute_input": "2022-03-21T09:23:41.148603Z",
     "iopub.status.busy": "2022-03-21T09:23:41.148220Z",
     "iopub.status.idle": "2022-03-21T09:23:41.171234Z",
     "shell.execute_reply": "2022-03-21T09:23:41.171928Z"
    },
    "papermill": {
     "duration": 0.050482,
     "end_time": "2022-03-21T09:23:41.172109",
     "exception": false,
     "start_time": "2022-03-21T09:23:41.121627",
     "status": "completed"
    },
    "tags": []
   },
   "outputs": [],
   "source": [
    "def add_dataset(\n",
    "    labels,\n",
    "    domains,\n",
    "    pickle_path,\n",
    "    x_transforms,\n",
    "    episode_transforms,\n",
    "    domain_prefix,\n",
    "    num_examples_per_domain_per_label,\n",
    "    source_or_target_dataset:str,\n",
    "    iterator_seed=p.seed,\n",
    "    dataset_seed=p.dataset_seed,\n",
    "    n_shot=p.n_shot,\n",
    "    n_way=p.n_way,\n",
    "    n_query=p.n_query,\n",
    "    train_val_test_k_factors=(p.train_k_factor,p.val_k_factor,p.test_k_factor),\n",
    "):\n",
    "   \n",
    "    if x_transforms == []: x_transform = None\n",
    "    else: x_transform = get_chained_transform(x_transforms)\n",
    "    \n",
    "    if episode_transforms == []: episode_transform = None\n",
    "    else: raise Exception(\"episode_transforms not implemented\")\n",
    "    \n",
    "    episode_transform = lambda tup, _prefix=domain_prefix: (_prefix + str(tup[0]), tup[1])\n",
    "\n",
    "\n",
    "    eaf = Episodic_Accessor_Factory(\n",
    "        labels=labels,\n",
    "        domains=domains,\n",
    "        num_examples_per_domain_per_label=num_examples_per_domain_per_label,\n",
    "        iterator_seed=iterator_seed,\n",
    "        dataset_seed=dataset_seed,\n",
    "        n_shot=n_shot,\n",
    "        n_way=n_way,\n",
    "        n_query=n_query,\n",
    "        train_val_test_k_factors=train_val_test_k_factors,\n",
    "        pickle_path=pickle_path,\n",
    "        x_transform_func=x_transform,\n",
    "    )\n",
    "\n",
    "    train, val, test = eaf.get_train(), eaf.get_val(), eaf.get_test()\n",
    "    train = Lazy_Iterable_Wrapper(train, episode_transform)\n",
    "    val = Lazy_Iterable_Wrapper(val, episode_transform)\n",
    "    test = Lazy_Iterable_Wrapper(test, episode_transform)\n",
    "\n",
    "    if source_or_target_dataset==\"source\":\n",
    "        train_original_source.append(train)\n",
    "        val_original_source.append(val)\n",
    "        test_original_source.append(test)\n",
    "\n",
    "        p.domains_source.extend(\n",
    "            [domain_prefix + str(u) for u in domains]\n",
    "        )\n",
    "    elif source_or_target_dataset==\"target\":\n",
    "        train_original_target.append(train)\n",
    "        val_original_target.append(val)\n",
    "        test_original_target.append(test)\n",
    "        p.domains_target.extend(\n",
    "            [domain_prefix + str(u) for u in domains]\n",
    "        )\n",
    "    else:\n",
    "        raise Exception(f\"invalid source_or_target_dataset: {source_or_target_dataset}\")\n",
    "    "
   ]
  },
  {
   "cell_type": "code",
   "execution_count": 13,
   "id": "fe266617",
   "metadata": {
    "execution": {
     "iopub.execute_input": "2022-03-21T09:23:41.224570Z",
     "iopub.status.busy": "2022-03-21T09:23:41.224058Z",
     "iopub.status.idle": "2022-03-21T09:24:26.188316Z",
     "shell.execute_reply": "2022-03-21T09:24:26.188662Z"
    },
    "papermill": {
     "duration": 44.988343,
     "end_time": "2022-03-21T09:24:26.188810",
     "exception": false,
     "start_time": "2022-03-21T09:23:41.200467",
     "status": "completed"
    },
    "tags": []
   },
   "outputs": [],
   "source": [
    "for ds in p.datasets:\n",
    "    add_dataset(**ds)"
   ]
  },
  {
   "cell_type": "code",
   "execution_count": 14,
   "id": "b90d65ac",
   "metadata": {
    "execution": {
     "iopub.execute_input": "2022-03-21T09:24:26.235867Z",
     "iopub.status.busy": "2022-03-21T09:24:26.235439Z",
     "iopub.status.idle": "2022-03-21T09:24:26.260884Z",
     "shell.execute_reply": "2022-03-21T09:24:26.260158Z"
    },
    "papermill": {
     "duration": 0.050278,
     "end_time": "2022-03-21T09:24:26.261074",
     "exception": false,
     "start_time": "2022-03-21T09:24:26.210796",
     "status": "completed"
    },
    "tags": []
   },
   "outputs": [],
   "source": [
    "# from steves_utils.CORES.utils import (\n",
    "#     ALL_NODES,\n",
    "#     ALL_NODES_MINIMUM_1000_EXAMPLES,\n",
    "#     ALL_DAYS\n",
    "# )\n",
    "\n",
    "# add_dataset(\n",
    "#     labels=ALL_NODES,\n",
    "#     domains = ALL_DAYS,\n",
    "#     num_examples_per_domain_per_label=100,\n",
    "#     pickle_path=os.path.join(get_datasets_base_path(), \"cores.stratified_ds.2022A.pkl\"),\n",
    "#     source_or_target_dataset=\"target\",\n",
    "#     x_transform_func=global_x_transform_func,\n",
    "#     domain_modifier=lambda u: f\"cores_{u}\"\n",
    "# )"
   ]
  },
  {
   "cell_type": "code",
   "execution_count": 15,
   "id": "76db484d",
   "metadata": {
    "execution": {
     "iopub.execute_input": "2022-03-21T09:24:26.325510Z",
     "iopub.status.busy": "2022-03-21T09:24:26.324915Z",
     "iopub.status.idle": "2022-03-21T09:24:26.348111Z",
     "shell.execute_reply": "2022-03-21T09:24:26.347244Z"
    },
    "papermill": {
     "duration": 0.059396,
     "end_time": "2022-03-21T09:24:26.348280",
     "exception": false,
     "start_time": "2022-03-21T09:24:26.288884",
     "status": "completed"
    },
    "tags": []
   },
   "outputs": [],
   "source": [
    "# from steves_utils.ORACLE.utils_v2 import (\n",
    "#     ALL_DISTANCES_FEET,\n",
    "#     ALL_RUNS,\n",
    "#     ALL_SERIAL_NUMBERS,\n",
    "# )\n",
    "\n",
    "\n",
    "# add_dataset(\n",
    "#     labels=ALL_SERIAL_NUMBERS,\n",
    "#     domains = list(set(ALL_DISTANCES_FEET) - {2,62}),\n",
    "#     num_examples_per_domain_per_label=100,\n",
    "#     pickle_path=os.path.join(get_datasets_base_path(), \"oracle.Run2_framed_2000Examples_stratified_ds.2022A.pkl\"),\n",
    "#     source_or_target_dataset=\"source\",\n",
    "#     x_transform_func=global_x_transform_func,\n",
    "#     domain_modifier=lambda u: f\"oracle1_{u}\"\n",
    "# )\n"
   ]
  },
  {
   "cell_type": "code",
   "execution_count": 16,
   "id": "97dea9d2",
   "metadata": {
    "execution": {
     "iopub.execute_input": "2022-03-21T09:24:26.402996Z",
     "iopub.status.busy": "2022-03-21T09:24:26.402475Z",
     "iopub.status.idle": "2022-03-21T09:24:26.425021Z",
     "shell.execute_reply": "2022-03-21T09:24:26.424259Z"
    },
    "papermill": {
     "duration": 0.048439,
     "end_time": "2022-03-21T09:24:26.425185",
     "exception": false,
     "start_time": "2022-03-21T09:24:26.376746",
     "status": "completed"
    },
    "tags": []
   },
   "outputs": [],
   "source": [
    "# from steves_utils.ORACLE.utils_v2 import (\n",
    "#     ALL_DISTANCES_FEET,\n",
    "#     ALL_RUNS,\n",
    "#     ALL_SERIAL_NUMBERS,\n",
    "# )\n",
    "\n",
    "\n",
    "# add_dataset(\n",
    "#     labels=ALL_SERIAL_NUMBERS,\n",
    "#     domains = list(set(ALL_DISTANCES_FEET) - {2,62,56}),\n",
    "#     num_examples_per_domain_per_label=100,\n",
    "#     pickle_path=os.path.join(get_datasets_base_path(), \"oracle.Run2_framed_2000Examples_stratified_ds.2022A.pkl\"),\n",
    "#     source_or_target_dataset=\"source\",\n",
    "#     x_transform_func=global_x_transform_func,\n",
    "#     domain_modifier=lambda u: f\"oracle2_{u}\"\n",
    "# )"
   ]
  },
  {
   "cell_type": "code",
   "execution_count": 17,
   "id": "6f289866",
   "metadata": {
    "execution": {
     "iopub.execute_input": "2022-03-21T09:24:26.476173Z",
     "iopub.status.busy": "2022-03-21T09:24:26.475796Z",
     "iopub.status.idle": "2022-03-21T09:24:26.500137Z",
     "shell.execute_reply": "2022-03-21T09:24:26.499358Z"
    },
    "papermill": {
     "duration": 0.049735,
     "end_time": "2022-03-21T09:24:26.500301",
     "exception": false,
     "start_time": "2022-03-21T09:24:26.450566",
     "status": "completed"
    },
    "tags": []
   },
   "outputs": [],
   "source": [
    "# add_dataset(\n",
    "#     labels=list(range(19)),\n",
    "#     domains = [0,1,2],\n",
    "#     num_examples_per_domain_per_label=100,\n",
    "#     pickle_path=os.path.join(get_datasets_base_path(), \"metehan.stratified_ds.2022A.pkl\"),\n",
    "#     source_or_target_dataset=\"target\",\n",
    "#     x_transform_func=global_x_transform_func,\n",
    "#     domain_modifier=lambda u: f\"met_{u}\"\n",
    "# )"
   ]
  },
  {
   "cell_type": "code",
   "execution_count": 18,
   "id": "86a863c3",
   "metadata": {
    "execution": {
     "iopub.execute_input": "2022-03-21T09:24:26.552782Z",
     "iopub.status.busy": "2022-03-21T09:24:26.552317Z",
     "iopub.status.idle": "2022-03-21T09:24:26.578119Z",
     "shell.execute_reply": "2022-03-21T09:24:26.577295Z"
    },
    "papermill": {
     "duration": 0.051528,
     "end_time": "2022-03-21T09:24:26.578285",
     "exception": false,
     "start_time": "2022-03-21T09:24:26.526757",
     "status": "completed"
    },
    "tags": []
   },
   "outputs": [],
   "source": [
    "# # from steves_utils.wisig.utils import (\n",
    "# #     ALL_NODES_MINIMUM_100_EXAMPLES,\n",
    "# #     ALL_NODES_MINIMUM_500_EXAMPLES,\n",
    "# #     ALL_NODES_MINIMUM_1000_EXAMPLES,\n",
    "# #     ALL_DAYS\n",
    "# # )\n",
    "\n",
    "# import steves_utils.wisig.utils as wisig\n",
    "\n",
    "\n",
    "# add_dataset(\n",
    "#     labels=wisig.ALL_NODES_MINIMUM_100_EXAMPLES,\n",
    "#     domains = wisig.ALL_DAYS,\n",
    "#     num_examples_per_domain_per_label=100,\n",
    "#     pickle_path=os.path.join(get_datasets_base_path(), \"wisig.node3-19.stratified_ds.2022A.pkl\"),\n",
    "#     source_or_target_dataset=\"target\",\n",
    "#     x_transform_func=global_x_transform_func,\n",
    "#     domain_modifier=lambda u: f\"wisig_{u}\"\n",
    "# )"
   ]
  },
  {
   "cell_type": "code",
   "execution_count": 19,
   "id": "fd5442bc",
   "metadata": {
    "execution": {
     "iopub.execute_input": "2022-03-21T09:24:26.640398Z",
     "iopub.status.busy": "2022-03-21T09:24:26.639736Z",
     "iopub.status.idle": "2022-03-21T09:24:26.669745Z",
     "shell.execute_reply": "2022-03-21T09:24:26.670408Z"
    },
    "papermill": {
     "duration": 0.062495,
     "end_time": "2022-03-21T09:24:26.670590",
     "exception": false,
     "start_time": "2022-03-21T09:24:26.608095",
     "status": "completed"
    },
    "tags": []
   },
   "outputs": [],
   "source": [
    "###################################\n",
    "# Build the dataset\n",
    "###################################\n",
    "train_original_source = Iterable_Aggregator(train_original_source, p.seed)\n",
    "val_original_source = Iterable_Aggregator(val_original_source, p.seed)\n",
    "test_original_source = Iterable_Aggregator(test_original_source, p.seed)\n",
    "\n",
    "\n",
    "train_original_target = Iterable_Aggregator(train_original_target, p.seed)\n",
    "val_original_target = Iterable_Aggregator(val_original_target, p.seed)\n",
    "test_original_target = Iterable_Aggregator(test_original_target, p.seed)\n",
    "\n",
    "# For CNN We only use X and Y. And we only train on the source.\n",
    "# Properly form the data using a transform lambda and Lazy_Iterable_Wrapper. Finally wrap them in a dataloader\n",
    "\n",
    "transform_lambda = lambda ex: ex[1] # Original is (<domain>, <episode>) so we strip down to episode only\n",
    "\n",
    "train_processed_source = Lazy_Iterable_Wrapper(train_original_source, transform_lambda)\n",
    "val_processed_source   = Lazy_Iterable_Wrapper(val_original_source, transform_lambda)\n",
    "test_processed_source  = Lazy_Iterable_Wrapper(test_original_source, transform_lambda)\n",
    "\n",
    "train_processed_target = Lazy_Iterable_Wrapper(train_original_target, transform_lambda)\n",
    "val_processed_target   = Lazy_Iterable_Wrapper(val_original_target, transform_lambda)\n",
    "test_processed_target  = Lazy_Iterable_Wrapper(test_original_target, transform_lambda)\n",
    "\n",
    "datasets = EasyDict({\n",
    "    \"source\": {\n",
    "        \"original\": {\"train\":train_original_source, \"val\":val_original_source, \"test\":test_original_source},\n",
    "        \"processed\": {\"train\":train_processed_source, \"val\":val_processed_source, \"test\":test_processed_source}\n",
    "    },\n",
    "    \"target\": {\n",
    "        \"original\": {\"train\":train_original_target, \"val\":val_original_target, \"test\":test_original_target},\n",
    "        \"processed\": {\"train\":train_processed_target, \"val\":val_processed_target, \"test\":test_processed_target}\n",
    "    },\n",
    "})"
   ]
  },
  {
   "cell_type": "code",
   "execution_count": 20,
   "id": "5b3c01fc",
   "metadata": {
    "execution": {
     "iopub.execute_input": "2022-03-21T09:24:26.727963Z",
     "iopub.status.busy": "2022-03-21T09:24:26.727585Z",
     "iopub.status.idle": "2022-03-21T09:24:43.051788Z",
     "shell.execute_reply": "2022-03-21T09:24:43.050896Z"
    },
    "papermill": {
     "duration": 16.351982,
     "end_time": "2022-03-21T09:24:43.051968",
     "exception": false,
     "start_time": "2022-03-21T09:24:26.699986",
     "status": "completed"
    },
    "tags": []
   },
   "outputs": [
    {
     "name": "stdout",
     "output_type": "stream",
     "text": [
      "{'ORACLE.run144', 'ORACLE.run126', 'ORACLE.run18', 'ORACLE.run150', 'ORACLE.run138', 'ORACLE.run120', 'ORACLE.run132', 'ORACLE.run114'}\n"
     ]
    },
    {
     "name": "stdout",
     "output_type": "stream",
     "text": [
      "{'Wisig_4', 'Wisig_1', 'Wisig_3', 'Wisig_2'}\n"
     ]
    },
    {
     "name": "stdout",
     "output_type": "stream",
     "text": [
      "tensor([[[ 0.6700,  0.3303, -1.0098,  ..., -0.2831,  1.4250,  0.4907],\n",
      "         [ 0.1604,  1.2551, -0.3209,  ..., -1.0947, -0.1793, -0.7266]],\n",
      "\n",
      "        [[-0.6870,  0.5439,  0.5630,  ..., -0.5630, -1.2500, -0.7920],\n",
      "         [-0.5153, -1.0687,  0.9828,  ...,  1.0782, -0.8110,  0.2958]],\n",
      "\n",
      "        [[-0.0381,  1.1716, -0.2381,  ..., -1.1240, -0.1619, -0.7620],\n",
      "         [-0.6001, -0.1715,  1.0478,  ..., -0.0191, -1.5050, -0.5715]],\n",
      "\n",
      "        ...,\n",
      "\n",
      "        [[ 0.7217,  0.1620, -0.9721,  ..., -0.2725,  1.3845,  0.4050],\n",
      "         [ 0.1694,  1.1046, -0.4198,  ..., -1.1267, -0.1473, -0.9647]],\n",
      "\n",
      "        [[ 1.0139,  0.3104, -1.3243,  ..., -0.1104,  1.0622, -0.7725],\n",
      "         [ 0.1035,  0.8622, -0.1242,  ..., -0.9794, -0.8415, -0.9794]],\n",
      "\n",
      "        [[ 0.9075,  0.5601, -1.0351,  ..., -0.8012, -0.2127, -1.3897],\n",
      "         [-0.7303,  0.5530,  0.9642,  ..., -0.8437, -1.2478,  0.2552]]])\n"
     ]
    }
   ],
   "source": [
    "from steves_utils.transforms import get_average_magnitude, get_average_power\n",
    "\n",
    "print(set([u for u,_ in val_original_source]))\n",
    "print(set([u for u,_ in val_original_target]))\n",
    "\n",
    "s_x, s_y, q_x, q_y, _ = next(iter(train_processed_source))\n",
    "print(s_x)\n",
    "\n",
    "# for ds in [\n",
    "#     train_processed_source,\n",
    "#     val_processed_source,\n",
    "#     test_processed_source,\n",
    "#     train_processed_target,\n",
    "#     val_processed_target,\n",
    "#     test_processed_target\n",
    "# ]:\n",
    "#     for s_x, s_y, q_x, q_y, _ in ds:\n",
    "#         for X in (s_x, q_x):\n",
    "#             for x in X:\n",
    "#                 assert np.isclose(get_average_magnitude(x.numpy()), 1.0)\n",
    "#                 assert np.isclose(get_average_power(x.numpy()), 1.0)\n",
    "                "
   ]
  },
  {
   "cell_type": "code",
   "execution_count": 21,
   "id": "bbdacba1",
   "metadata": {
    "execution": {
     "iopub.execute_input": "2022-03-21T09:24:43.109373Z",
     "iopub.status.busy": "2022-03-21T09:24:43.108872Z",
     "iopub.status.idle": "2022-03-21T09:24:43.462174Z",
     "shell.execute_reply": "2022-03-21T09:24:43.462629Z"
    },
    "papermill": {
     "duration": 0.382474,
     "end_time": "2022-03-21T09:24:43.462803",
     "exception": false,
     "start_time": "2022-03-21T09:24:43.080329",
     "status": "completed"
    },
    "tags": []
   },
   "outputs": [
    {
     "name": "stdout",
     "output_type": "stream",
     "text": [
      "(2, 256)\n"
     ]
    }
   ],
   "source": [
    "###################################\n",
    "# Build the model\n",
    "###################################\n",
    "# easfsl only wants a tuple for the shape\n",
    "model = Steves_Prototypical_Network(x_net, device=p.device, x_shape=tuple(p.x_shape))\n",
    "optimizer = Adam(params=model.parameters(), lr=p.lr)"
   ]
  },
  {
   "cell_type": "code",
   "execution_count": 22,
   "id": "22b39ac5",
   "metadata": {
    "execution": {
     "iopub.execute_input": "2022-03-21T09:24:43.534098Z",
     "iopub.status.busy": "2022-03-21T09:24:43.533481Z",
     "iopub.status.idle": "2022-03-21T09:45:55.701493Z",
     "shell.execute_reply": "2022-03-21T09:45:55.701007Z"
    },
    "papermill": {
     "duration": 1272.206725,
     "end_time": "2022-03-21T09:45:55.701616",
     "exception": false,
     "start_time": "2022-03-21T09:24:43.494891",
     "status": "completed"
    },
    "tags": []
   },
   "outputs": [
    {
     "name": "stdout",
     "output_type": "stream",
     "text": [
      "epoch: 1, [batch: 1 / 6720], examples_per_second: 31.9446, train_label_loss: 3.0194, \n"
     ]
    },
    {
     "name": "stdout",
     "output_type": "stream",
     "text": [
      "epoch: 1, [batch: 672 / 6720], examples_per_second: 2305.9753, train_label_loss: 0.9365, \n"
     ]
    },
    {
     "name": "stdout",
     "output_type": "stream",
     "text": [
      "epoch: 1, [batch: 1344 / 6720], examples_per_second: 2285.2501, train_label_loss: 0.6428, \n"
     ]
    },
    {
     "name": "stdout",
     "output_type": "stream",
     "text": [
      "epoch: 1, [batch: 2016 / 6720], examples_per_second: 2280.4544, train_label_loss: 0.9551, \n"
     ]
    },
    {
     "name": "stdout",
     "output_type": "stream",
     "text": [
      "epoch: 1, [batch: 2688 / 6720], examples_per_second: 2315.5270, train_label_loss: 0.6521, \n"
     ]
    },
    {
     "name": "stdout",
     "output_type": "stream",
     "text": [
      "epoch: 1, [batch: 3360 / 6720], examples_per_second: 2570.2665, train_label_loss: 0.8198, \n"
     ]
    },
    {
     "name": "stdout",
     "output_type": "stream",
     "text": [
      "epoch: 1, [batch: 4032 / 6720], examples_per_second: 2513.3294, train_label_loss: 0.4345, \n"
     ]
    },
    {
     "name": "stdout",
     "output_type": "stream",
     "text": [
      "epoch: 1, [batch: 4704 / 6720], examples_per_second: 2617.1658, train_label_loss: 0.5576, \n"
     ]
    },
    {
     "name": "stdout",
     "output_type": "stream",
     "text": [
      "epoch: 1, [batch: 5376 / 6720], examples_per_second: 2537.2825, train_label_loss: 1.0136, \n"
     ]
    },
    {
     "name": "stdout",
     "output_type": "stream",
     "text": [
      "epoch: 1, [batch: 6048 / 6720], examples_per_second: 2627.7424, train_label_loss: 0.3670, \n"
     ]
    },
    {
     "name": "stdout",
     "output_type": "stream",
     "text": [
      "=============================================================\n",
      "epoch: 1, source_val_acc_label: 0.7771, target_val_acc_label: 0.5516, source_val_label_loss: 4.8270, target_val_label_loss: 793.4472, \n",
      "=============================================================\n"
     ]
    },
    {
     "name": "stdout",
     "output_type": "stream",
     "text": [
      "New best\n"
     ]
    },
    {
     "name": "stdout",
     "output_type": "stream",
     "text": [
      "epoch: 2, [batch: 1 / 6720], examples_per_second: 2.0229, train_label_loss: 0.5795, \n"
     ]
    },
    {
     "name": "stdout",
     "output_type": "stream",
     "text": [
      "epoch: 2, [batch: 672 / 6720], examples_per_second: 2315.5420, train_label_loss: 0.5264, \n"
     ]
    },
    {
     "name": "stdout",
     "output_type": "stream",
     "text": [
      "epoch: 2, [batch: 1344 / 6720], examples_per_second: 2320.0466, train_label_loss: 0.5794, \n"
     ]
    },
    {
     "name": "stdout",
     "output_type": "stream",
     "text": [
      "epoch: 2, [batch: 2016 / 6720], examples_per_second: 2323.6095, train_label_loss: 0.2109, \n"
     ]
    },
    {
     "name": "stdout",
     "output_type": "stream",
     "text": [
      "epoch: 2, [batch: 2688 / 6720], examples_per_second: 2642.4728, train_label_loss: 0.6824, \n"
     ]
    },
    {
     "name": "stdout",
     "output_type": "stream",
     "text": [
      "epoch: 2, [batch: 3360 / 6720], examples_per_second: 2583.7528, train_label_loss: 0.5296, \n"
     ]
    },
    {
     "name": "stdout",
     "output_type": "stream",
     "text": [
      "epoch: 2, [batch: 4032 / 6720], examples_per_second: 2575.0185, train_label_loss: 0.3780, \n"
     ]
    },
    {
     "name": "stdout",
     "output_type": "stream",
     "text": [
      "epoch: 2, [batch: 4704 / 6720], examples_per_second: 2459.9519, train_label_loss: 0.5027, \n"
     ]
    },
    {
     "name": "stdout",
     "output_type": "stream",
     "text": [
      "epoch: 2, [batch: 5376 / 6720], examples_per_second: 2632.3456, train_label_loss: 0.6985, \n"
     ]
    },
    {
     "name": "stdout",
     "output_type": "stream",
     "text": [
      "epoch: 2, [batch: 6048 / 6720], examples_per_second: 2672.9056, train_label_loss: 0.2011, \n"
     ]
    },
    {
     "name": "stdout",
     "output_type": "stream",
     "text": [
      "=============================================================\n",
      "epoch: 2, source_val_acc_label: 0.8056, target_val_acc_label: 0.5157, source_val_label_loss: 0.5296, target_val_label_loss: 355.0448, \n",
      "=============================================================\n"
     ]
    },
    {
     "name": "stdout",
     "output_type": "stream",
     "text": [
      "epoch: 3, [batch: 1 / 6720], examples_per_second: 2.0552, train_label_loss: 0.2968, \n"
     ]
    },
    {
     "name": "stdout",
     "output_type": "stream",
     "text": [
      "epoch: 3, [batch: 672 / 6720], examples_per_second: 2600.2475, train_label_loss: 0.4454, \n"
     ]
    },
    {
     "name": "stdout",
     "output_type": "stream",
     "text": [
      "epoch: 3, [batch: 1344 / 6720], examples_per_second: 2584.7776, train_label_loss: 0.9419, \n"
     ]
    },
    {
     "name": "stdout",
     "output_type": "stream",
     "text": [
      "epoch: 3, [batch: 2016 / 6720], examples_per_second: 2816.4190, train_label_loss: 0.2213, \n"
     ]
    },
    {
     "name": "stdout",
     "output_type": "stream",
     "text": [
      "epoch: 3, [batch: 2688 / 6720], examples_per_second: 2926.7120, train_label_loss: 0.5947, \n"
     ]
    },
    {
     "name": "stdout",
     "output_type": "stream",
     "text": [
      "epoch: 3, [batch: 3360 / 6720], examples_per_second: 3004.3660, train_label_loss: 0.5359, \n"
     ]
    },
    {
     "name": "stdout",
     "output_type": "stream",
     "text": [
      "epoch: 3, [batch: 4032 / 6720], examples_per_second: 2672.5440, train_label_loss: 0.3936, \n"
     ]
    },
    {
     "name": "stdout",
     "output_type": "stream",
     "text": [
      "epoch: 3, [batch: 4704 / 6720], examples_per_second: 2935.4608, train_label_loss: 0.3245, \n"
     ]
    },
    {
     "name": "stdout",
     "output_type": "stream",
     "text": [
      "epoch: 3, [batch: 5376 / 6720], examples_per_second: 3488.9422, train_label_loss: 0.4488, \n"
     ]
    },
    {
     "name": "stdout",
     "output_type": "stream",
     "text": [
      "epoch: 3, [batch: 6048 / 6720], examples_per_second: 2780.3854, train_label_loss: 0.3347, \n"
     ]
    },
    {
     "name": "stdout",
     "output_type": "stream",
     "text": [
      "=============================================================\n",
      "epoch: 3, source_val_acc_label: 0.8470, target_val_acc_label: 0.5140, source_val_label_loss: 0.4185, target_val_label_loss: 433.4473, \n",
      "=============================================================\n"
     ]
    },
    {
     "name": "stdout",
     "output_type": "stream",
     "text": [
      "epoch: 4, [batch: 1 / 6720], examples_per_second: 2.0302, train_label_loss: 0.3826, \n"
     ]
    },
    {
     "name": "stdout",
     "output_type": "stream",
     "text": [
      "epoch: 4, [batch: 672 / 6720], examples_per_second: 2318.3722, train_label_loss: 0.3581, \n"
     ]
    },
    {
     "name": "stdout",
     "output_type": "stream",
     "text": [
      "epoch: 4, [batch: 1344 / 6720], examples_per_second: 2423.7160, train_label_loss: 0.2074, \n"
     ]
    },
    {
     "name": "stdout",
     "output_type": "stream",
     "text": [
      "epoch: 4, [batch: 2016 / 6720], examples_per_second: 2647.3395, train_label_loss: 0.1961, \n"
     ]
    },
    {
     "name": "stdout",
     "output_type": "stream",
     "text": [
      "epoch: 4, [batch: 2688 / 6720], examples_per_second: 2599.4576, train_label_loss: 0.4575, \n"
     ]
    },
    {
     "name": "stdout",
     "output_type": "stream",
     "text": [
      "epoch: 4, [batch: 3360 / 6720], examples_per_second: 2627.5223, train_label_loss: 0.8903, \n"
     ]
    },
    {
     "name": "stdout",
     "output_type": "stream",
     "text": [
      "epoch: 4, [batch: 4032 / 6720], examples_per_second: 2628.4579, train_label_loss: 0.2218, \n"
     ]
    },
    {
     "name": "stdout",
     "output_type": "stream",
     "text": [
      "epoch: 4, [batch: 4704 / 6720], examples_per_second: 2896.0305, train_label_loss: 0.3403, \n"
     ]
    },
    {
     "name": "stdout",
     "output_type": "stream",
     "text": [
      "epoch: 4, [batch: 5376 / 6720], examples_per_second: 2977.2406, train_label_loss: 0.3184, \n"
     ]
    },
    {
     "name": "stdout",
     "output_type": "stream",
     "text": [
      "epoch: 4, [batch: 6048 / 6720], examples_per_second: 3066.8305, train_label_loss: 0.2637, \n"
     ]
    },
    {
     "name": "stdout",
     "output_type": "stream",
     "text": [
      "=============================================================\n",
      "epoch: 4, source_val_acc_label: 0.8497, target_val_acc_label: 0.5051, source_val_label_loss: 0.4084, target_val_label_loss: 479.9438, \n",
      "=============================================================\n"
     ]
    },
    {
     "name": "stdout",
     "output_type": "stream",
     "text": [
      "epoch: 5, [batch: 1 / 6720], examples_per_second: 2.2854, train_label_loss: 0.2670, \n"
     ]
    },
    {
     "name": "stdout",
     "output_type": "stream",
     "text": [
      "epoch: 5, [batch: 672 / 6720], examples_per_second: 2819.4983, train_label_loss: 0.7017, \n"
     ]
    },
    {
     "name": "stdout",
     "output_type": "stream",
     "text": [
      "epoch: 5, [batch: 1344 / 6720], examples_per_second: 3034.7823, train_label_loss: 0.3118, \n"
     ]
    },
    {
     "name": "stdout",
     "output_type": "stream",
     "text": [
      "epoch: 5, [batch: 2016 / 6720], examples_per_second: 3074.7457, train_label_loss: 0.4160, \n"
     ]
    },
    {
     "name": "stdout",
     "output_type": "stream",
     "text": [
      "epoch: 5, [batch: 2688 / 6720], examples_per_second: 3050.5316, train_label_loss: 0.4666, \n"
     ]
    },
    {
     "name": "stdout",
     "output_type": "stream",
     "text": [
      "epoch: 5, [batch: 3360 / 6720], examples_per_second: 2996.7395, train_label_loss: 0.3216, \n"
     ]
    },
    {
     "name": "stdout",
     "output_type": "stream",
     "text": [
      "epoch: 5, [batch: 4032 / 6720], examples_per_second: 2929.8852, train_label_loss: 0.3987, \n"
     ]
    },
    {
     "name": "stdout",
     "output_type": "stream",
     "text": [
      "epoch: 5, [batch: 4704 / 6720], examples_per_second: 3281.5366, train_label_loss: 0.2856, \n"
     ]
    },
    {
     "name": "stdout",
     "output_type": "stream",
     "text": [
      "epoch: 5, [batch: 5376 / 6720], examples_per_second: 3459.8071, train_label_loss: 0.2542, \n"
     ]
    },
    {
     "name": "stdout",
     "output_type": "stream",
     "text": [
      "epoch: 5, [batch: 6048 / 6720], examples_per_second: 3392.6571, train_label_loss: 0.1001, \n"
     ]
    },
    {
     "name": "stdout",
     "output_type": "stream",
     "text": [
      "=============================================================\n",
      "epoch: 5, source_val_acc_label: 0.8914, target_val_acc_label: 0.5161, source_val_label_loss: 0.3072, target_val_label_loss: 526.4536, \n",
      "=============================================================\n"
     ]
    },
    {
     "name": "stdout",
     "output_type": "stream",
     "text": [
      "Patience (3) exhausted\n"
     ]
    }
   ],
   "source": [
    "###################################\n",
    "# train\n",
    "###################################\n",
    "jig = PTN_Train_Eval_Test_Jig(model, p.BEST_MODEL_PATH, p.device)\n",
    "\n",
    "jig.train(\n",
    "    train_iterable=datasets.source.processed.train,\n",
    "    source_val_iterable=datasets.source.processed.val,\n",
    "    target_val_iterable=datasets.target.processed.val,\n",
    "    num_epochs=p.n_epoch,\n",
    "    num_logs_per_epoch=p.NUM_LOGS_PER_EPOCH,\n",
    "    patience=p.patience,\n",
    "    optimizer=optimizer,\n",
    "    criteria_for_best=p.criteria_for_best,\n",
    ")"
   ]
  },
  {
   "cell_type": "code",
   "execution_count": 23,
   "id": "31e8fabf",
   "metadata": {
    "execution": {
     "iopub.execute_input": "2022-03-21T09:45:55.807220Z",
     "iopub.status.busy": "2022-03-21T09:45:55.806567Z",
     "iopub.status.idle": "2022-03-21T09:45:55.838797Z",
     "shell.execute_reply": "2022-03-21T09:45:55.838069Z"
    },
    "papermill": {
     "duration": 0.087519,
     "end_time": "2022-03-21T09:45:55.838974",
     "exception": false,
     "start_time": "2022-03-21T09:45:55.751455",
     "status": "completed"
    },
    "tags": []
   },
   "outputs": [],
   "source": [
    "total_experiment_time_secs = time.time() - start_time_secs"
   ]
  },
  {
   "cell_type": "code",
   "execution_count": 24,
   "id": "87b9595b",
   "metadata": {
    "execution": {
     "iopub.execute_input": "2022-03-21T09:45:55.950758Z",
     "iopub.status.busy": "2022-03-21T09:45:55.950236Z",
     "iopub.status.idle": "2022-03-21T09:49:55.802541Z",
     "shell.execute_reply": "2022-03-21T09:49:55.803252Z"
    },
    "papermill": {
     "duration": 239.912896,
     "end_time": "2022-03-21T09:49:55.803488",
     "exception": false,
     "start_time": "2022-03-21T09:45:55.890592",
     "status": "completed"
    },
    "tags": []
   },
   "outputs": [],
   "source": [
    "###################################\n",
    "# Evaluate the model\n",
    "###################################\n",
    "source_test_label_accuracy, source_test_label_loss = jig.test(datasets.source.processed.test)\n",
    "target_test_label_accuracy, target_test_label_loss = jig.test(datasets.target.processed.test)\n",
    "\n",
    "source_val_label_accuracy, source_val_label_loss = jig.test(datasets.source.processed.val)\n",
    "target_val_label_accuracy, target_val_label_loss = jig.test(datasets.target.processed.val)\n",
    "\n",
    "history = jig.get_history()\n",
    "\n",
    "total_epochs_trained = len(history[\"epoch_indices\"])\n",
    "\n",
    "val_dl = Iterable_Aggregator((datasets.source.original.val,datasets.target.original.val))\n",
    "\n",
    "confusion = ptn_confusion_by_domain_over_dataloader(model, p.device, val_dl)\n",
    "per_domain_accuracy = per_domain_accuracy_from_confusion(confusion)\n",
    "\n",
    "# Add a key to per_domain_accuracy for if it was a source domain\n",
    "for domain, accuracy in per_domain_accuracy.items():\n",
    "    per_domain_accuracy[domain] = {\n",
    "        \"accuracy\": accuracy,\n",
    "        \"source?\": domain in p.domains_source\n",
    "    }\n",
    "\n",
    "# Do an independent accuracy assesment JUST TO BE SURE!\n",
    "# _source_test_label_accuracy = independent_accuracy_assesment(model, datasets.source.processed.test, p.device)\n",
    "# _target_test_label_accuracy = independent_accuracy_assesment(model, datasets.target.processed.test, p.device)\n",
    "# _source_val_label_accuracy = independent_accuracy_assesment(model, datasets.source.processed.val, p.device)\n",
    "# _target_val_label_accuracy = independent_accuracy_assesment(model, datasets.target.processed.val, p.device)\n",
    "\n",
    "# assert(_source_test_label_accuracy == source_test_label_accuracy)\n",
    "# assert(_target_test_label_accuracy == target_test_label_accuracy)\n",
    "# assert(_source_val_label_accuracy == source_val_label_accuracy)\n",
    "# assert(_target_val_label_accuracy == target_val_label_accuracy)\n",
    "\n",
    "experiment = {\n",
    "    \"experiment_name\": p.experiment_name,\n",
    "    \"parameters\": dict(p),\n",
    "    \"results\": {\n",
    "        \"source_test_label_accuracy\": source_test_label_accuracy,\n",
    "        \"source_test_label_loss\": source_test_label_loss,\n",
    "        \"target_test_label_accuracy\": target_test_label_accuracy,\n",
    "        \"target_test_label_loss\": target_test_label_loss,\n",
    "        \"source_val_label_accuracy\": source_val_label_accuracy,\n",
    "        \"source_val_label_loss\": source_val_label_loss,\n",
    "        \"target_val_label_accuracy\": target_val_label_accuracy,\n",
    "        \"target_val_label_loss\": target_val_label_loss,\n",
    "        \"total_epochs_trained\": total_epochs_trained,\n",
    "        \"total_experiment_time_secs\": total_experiment_time_secs,\n",
    "        \"confusion\": confusion,\n",
    "        \"per_domain_accuracy\": per_domain_accuracy,\n",
    "    },\n",
    "    \"history\": history,\n",
    "    \"dataset_metrics\": get_dataset_metrics(datasets, \"ptn\"),\n",
    "}"
   ]
  },
  {
   "cell_type": "code",
   "execution_count": 25,
   "id": "54a21829",
   "metadata": {
    "execution": {
     "iopub.execute_input": "2022-03-21T09:49:55.894411Z",
     "iopub.status.busy": "2022-03-21T09:49:55.893832Z",
     "iopub.status.idle": "2022-03-21T09:49:56.117532Z",
     "shell.execute_reply": "2022-03-21T09:49:56.118379Z"
    },
    "papermill": {
     "duration": 0.269047,
     "end_time": "2022-03-21T09:49:56.118696",
     "exception": false,
     "start_time": "2022-03-21T09:49:55.849649",
     "status": "completed"
    },
    "tags": []
   },
   "outputs": [
    {
     "data": {
      "image/png": "[encoded data removed]",
      "text/plain": [
       "<Figure size 1080x504 with 1 Axes>"
      ]
     },
     "metadata": {
      "needs_background": "light"
     },
     "output_type": "display_data"
    }
   ],
   "source": [
    "ax = get_loss_curve(experiment)\n",
    "plt.show()"
   ]
  },
  {
   "cell_type": "code",
   "execution_count": 26,
   "id": "fd8a0f60",
   "metadata": {
    "execution": {
     "iopub.execute_input": "2022-03-21T09:49:56.216560Z",
     "iopub.status.busy": "2022-03-21T09:49:56.216140Z",
     "iopub.status.idle": "2022-03-21T09:49:56.582272Z",
     "shell.execute_reply": "2022-03-21T09:49:56.582601Z"
    },
    "papermill": {
     "duration": 0.415352,
     "end_time": "2022-03-21T09:49:56.582729",
     "exception": false,
     "start_time": "2022-03-21T09:49:56.167377",
     "status": "completed"
    },
    "tags": []
   },
   "outputs": [
    {
     "data": {
      "text/plain": [
       "<AxesSubplot:title={'center':'Results'}>"
      ]
     },
     "execution_count": 26,
     "metadata": {},
     "output_type": "execute_result"
    },
    {
     "data": {
      "image/png": "[encoded data removed]",
      "text/plain": [
       "<Figure size 1080x504 with 1 Axes>"
      ]
     },
     "metadata": {
      "needs_background": "light"
     },
     "output_type": "display_data"
    }
   ],
   "source": [
    "get_results_table(experiment)"
   ]
  },
  {
   "cell_type": "code",
   "execution_count": 27,
   "id": "cf8dc689",
   "metadata": {
    "execution": {
     "iopub.execute_input": "2022-03-21T09:49:56.671248Z",
     "iopub.status.busy": "2022-03-21T09:49:56.670860Z",
     "iopub.status.idle": "2022-03-21T09:49:56.921747Z",
     "shell.execute_reply": "2022-03-21T09:49:56.922070Z"
    },
    "papermill": {
     "duration": 0.296688,
     "end_time": "2022-03-21T09:49:56.922196",
     "exception": false,
     "start_time": "2022-03-21T09:49:56.625508",
     "status": "completed"
    },
    "tags": []
   },
   "outputs": [
    {
     "data": {
      "text/plain": [
       "<AxesSubplot:title={'center':'Per Domain Validation Accuracy'}, xlabel='domain'>"
      ]
     },
     "execution_count": 27,
     "metadata": {},
     "output_type": "execute_result"
    },
    {
     "data": {
      "image/png": "[encoded data removed]",
      "text/plain": [
       "<Figure size 1080x504 with 1 Axes>"
      ]
     },
     "metadata": {
      "needs_background": "light"
     },
     "output_type": "display_data"
    }
   ],
   "source": [
    "get_domain_accuracies(experiment)"
   ]
  },
  {
   "cell_type": "code",
   "execution_count": 28,
   "id": "a74ae082",
   "metadata": {
    "execution": {
     "iopub.execute_input": "2022-03-21T09:49:57.021387Z",
     "iopub.status.busy": "2022-03-21T09:49:57.021002Z",
     "iopub.status.idle": "2022-03-21T09:49:57.048727Z",
     "shell.execute_reply": "2022-03-21T09:49:57.047994Z"
    },
    "papermill": {
     "duration": 0.074716,
     "end_time": "2022-03-21T09:49:57.048895",
     "exception": false,
     "start_time": "2022-03-21T09:49:56.974179",
     "status": "completed"
    },
    "tags": []
   },
   "outputs": [
    {
     "name": "stdout",
     "output_type": "stream",
     "text": [
      "Source Test Label Accuracy: 0.7788736979166667 Target Test Label Accuracy: 0.5529891304347826\n",
      "Source Val Label Accuracy: 0.77705078125 Target Val Label Accuracy: 0.5515988372093024\n"
     ]
    }
   ],
   "source": [
    "print(\"Source Test Label Accuracy:\", experiment[\"results\"][\"source_test_label_accuracy\"], \"Target Test Label Accuracy:\", experiment[\"results\"][\"target_test_label_accuracy\"])\n",
    "print(\"Source Val Label Accuracy:\", experiment[\"results\"][\"source_val_label_accuracy\"], \"Target Val Label Accuracy:\", experiment[\"results\"][\"target_val_label_accuracy\"])"
   ]
  },
  {
   "cell_type": "code",
   "execution_count": 29,
   "id": "dacca602",
   "metadata": {
    "execution": {
     "iopub.execute_input": "2022-03-21T09:49:57.142505Z",
     "iopub.status.busy": "2022-03-21T09:49:57.142126Z",
     "iopub.status.idle": "2022-03-21T09:49:57.173359Z",
     "shell.execute_reply": "2022-03-21T09:49:57.174051Z"
    },
    "papermill": {
     "duration": 0.077939,
     "end_time": "2022-03-21T09:49:57.174241",
     "exception": false,
     "start_time": "2022-03-21T09:49:57.096302",
     "status": "completed"
    },
    "tags": [
     "experiment_json"
    ]
   },
   "outputs": [
    {
     "data": {
      "text/plain": [
       "'{\"experiment_name\": \"tl_1v2:wisig-oracle.run1.framed\", \"parameters\": {\"experiment_name\": \"tl_1v2:wisig-oracle.run1.framed\", \"device\": \"cuda\", \"lr\": 0.0001, \"n_shot\": 3, \"n_query\": 2, \"train_k_factor\": 3, \"val_k_factor\": 2, \"test_k_factor\": 2, \"torch_default_dtype\": \"torch.float32\", \"n_epoch\": 50, \"patience\": 3, \"criteria_for_best\": \"target_accuracy\", \"x_net\": [{\"class\": \"nnReshape\", \"kargs\": {\"shape\": [-1, 1, 2, 256]}}, {\"class\": \"Conv2d\", \"kargs\": {\"in_channels\": 1, \"out_channels\": 256, \"kernel_size\": [1, 7], \"bias\": false, \"padding\": [0, 3]}}, {\"class\": \"ReLU\", \"kargs\": {\"inplace\": true}}, {\"class\": \"BatchNorm2d\", \"kargs\": {\"num_features\": 256}}, {\"class\": \"Conv2d\", \"kargs\": {\"in_channels\": 256, \"out_channels\": 80, \"kernel_size\": [2, 7], \"bias\": true, \"padding\": [0, 3]}}, {\"class\": \"ReLU\", \"kargs\": {\"inplace\": true}}, {\"class\": \"BatchNorm2d\", \"kargs\": {\"num_features\": 80}}, {\"class\": \"Flatten\", \"kargs\": {}}, {\"class\": \"Linear\", \"kargs\": {\"in_features\": 20480, \"out_features\": 256}}, {\"class\": \"ReLU\", \"kargs\": {\"inplace\": true}}, {\"class\": \"BatchNorm1d\", \"kargs\": {\"num_features\": 256}}, {\"class\": \"Linear\", \"kargs\": {\"in_features\": 256, \"out_features\": 256}}], \"NUM_LOGS_PER_EPOCH\": 10, \"BEST_MODEL_PATH\": \"./best_model.pth\", \"n_way\": 16, \"datasets\": [{\"labels\": [\"1-10\", \"1-12\", \"1-14\", \"1-16\", \"1-18\", \"1-19\", \"1-8\", \"10-11\", \"10-17\", \"10-4\", \"10-7\", \"11-1\", \"11-10\", \"11-19\", \"11-20\", \"11-4\", \"11-7\", \"12-19\", \"12-20\", \"12-7\", \"13-14\", \"13-18\", \"13-19\", \"13-20\", \"13-3\", \"13-7\", \"14-10\", \"14-11\", \"14-12\", \"14-13\", \"14-14\", \"14-19\", \"14-20\", \"14-7\", \"14-8\", \"14-9\", \"15-1\", \"15-19\", \"15-6\", \"16-1\", \"16-16\", \"16-19\", \"16-20\", \"17-10\", \"17-11\", \"18-1\", \"18-10\", \"18-11\", \"18-12\", \"18-13\", \"18-14\", \"18-15\", \"18-16\", \"18-17\", \"18-19\", \"18-2\", \"18-20\", \"18-4\", \"18-5\", \"18-7\", \"18-8\", \"18-9\", \"19-1\", \"19-10\", \"19-11\", \"19-12\", \"19-13\", \"19-14\", \"19-15\", \"19-19\", \"19-2\", \"19-20\", \"19-3\", \"19-4\", \"19-6\", \"19-7\", \"19-8\", \"19-9\", \"2-1\", \"2-13\", \"2-15\", \"2-3\", \"2-4\", \"2-5\", \"2-6\", \"2-7\", \"2-8\", \"20-1\", \"20-12\", \"20-14\", \"20-15\", \"20-16\", \"20-18\", \"20-19\", \"20-20\", \"20-3\", \"20-4\", \"20-5\", \"20-7\", \"20-8\", \"3-1\", \"3-13\", \"3-18\", \"3-2\", \"3-8\", \"4-1\", \"4-10\", \"4-11\", \"5-1\", \"5-5\", \"6-1\", \"6-15\", \"6-6\", \"7-10\", \"7-11\", \"7-12\", \"7-13\", \"7-14\", \"7-7\", \"7-8\", \"7-9\", \"8-1\", \"8-13\", \"8-14\", \"8-18\", \"8-20\", \"8-3\", \"8-8\", \"9-1\", \"9-7\"], \"domains\": [1, 2, 3, 4], \"num_examples_per_domain_per_label\": -1, \"pickle_path\": \"/root/csc500-main/datasets/wisig.node3-19.stratified_ds.2022A.pkl\", \"source_or_target_dataset\": \"target\", \"x_transforms\": [\"unit_mag\"], \"episode_transforms\": [], \"domain_prefix\": \"Wisig_\"}, {\"labels\": [\"3123D52\", \"3123D65\", \"3123D79\", \"3123D80\", \"3123D54\", \"3123D70\", \"3123D7B\", \"3123D89\", \"3123D58\", \"3123D76\", \"3123D7D\", \"3123EFE\", \"3123D64\", \"3123D78\", \"3123D7E\", \"3124E4A\"], \"domains\": [32, 38, 8, 44, 14, 50, 20, 26], \"num_examples_per_domain_per_label\": 2000, \"pickle_path\": \"/root/csc500-main/datasets/oracle.Run1_framed_2000Examples_stratified_ds.2022A.pkl\", \"source_or_target_dataset\": \"source\", \"x_transforms\": [\"unit_mag\"], \"episode_transforms\": [], \"domain_prefix\": \"ORACLE.run1\"}], \"dataset_seed\": 420, \"seed\": 420, \"x_shape\": [2, 256], \"domains_source\": [\"ORACLE.run132\", \"ORACLE.run138\", \"ORACLE.run18\", \"ORACLE.run144\", \"ORACLE.run114\", \"ORACLE.run150\", \"ORACLE.run120\", \"ORACLE.run126\"], \"domains_target\": [\"Wisig_1\", \"Wisig_2\", \"Wisig_3\", \"Wisig_4\"]}, \"results\": {\"source_test_label_accuracy\": 0.7788736979166667, \"source_test_label_loss\": 6.207772254943848, \"target_test_label_accuracy\": 0.5529891304347826, \"target_test_label_loss\": 790.1885986328125, \"source_val_label_accuracy\": 0.77705078125, \"source_val_label_loss\": 4.826997756958008, \"target_val_label_accuracy\": 0.5515988372093024, \"target_val_label_loss\": 793.4472045898438, \"total_epochs_trained\": 5, \"total_experiment_time_secs\": 1334.8910601139069, \"confusion\": {\"ORACLE.run114\": {\"15\": {\"15\": 239, \"7\": 1}, \"5\": {\"5\": 182, \"1\": 21, \"4\": 30, \"3\": 4, \"2\": 3}, \"7\": {\"7\": 240}, \"4\": {\"4\": 225, \"1\": 2, \"5\": 10, \"13\": 1, \"3\": 1, \"2\": 1}, \"10\": {\"10\": 240}, \"11\": {\"11\": 226, \"0\": 10, \"9\": 4}, \"12\": {\"12\": 239, \"9\": 1}, \"0\": {\"0\": 229, \"10\": 9, \"3\": 2}, \"14\": {\"13\": 5, \"14\": 222, \"2\": 12, \"3\": 1}, \"8\": {\"8\": 240}, \"13\": {\"6\": 93, \"13\": 81, \"14\": 41, \"2\": 21, \"3\": 1, \"4\": 1, \"5\": 2}, \"6\": {\"6\": 158, \"13\": 71, \"14\": 4, \"2\": 7}, \"1\": {\"1\": 234, \"5\": 6}, \"3\": {\"3\": 230, \"4\": 5, \"2\": 4, \"14\": 1}, \"9\": {\"9\": 240}, \"2\": {\"2\": 140, \"13\": 16, \"14\": 37, \"4\": 9, \"3\": 14, \"6\": 9, \"15\": 3, \"5\": 12}}, \"ORACLE.run120\": {\"4\": {\"4\": 228, \"8\": 11, \"3\": 1}, \"10\": {\"10\": 238, \"14\": 2}, \"15\": {\"15\": 195, \"1\": 19, \"12\": 3, \"0\": 10, \"5\": 12, \"13\": 1}, \"0\": {\"8\": 1, \"0\": 148, \"5\": 71, \"15\": 20}, \"6\": {\"6\": 230, \"14\": 9, \"7\": 1}, \"3\": {\"9\": 27, \"12\": 43, \"3\": 150, \"4\": 2, \"1\": 2, \"5\": 1, \"2\": 9, \"7\": 6}, \"7\": {\"7\": 218, \"2\": 14, \"8\": 2, \"9\": 4, \"3\": 2}, \"2\": {\"9\": 62, \"2\": 140, \"7\": 16, \"1\": 2, \"3\": 7, \"13\": 6, \"12\": 7}, \"8\": {\"8\": 229, \"7\": 5, \"4\": 6}, \"11\": {\"11\": 240}, \"14\": {\"14\": 228, \"6\": 9, \"10\": 3}, \"12\": {\"2\": 1, \"12\": 138, \"3\": 45, \"1\": 35, \"9\": 15, \"15\": 1, \"5\": 5}, \"13\": {\"13\": 237, \"15\": 1, \"2\": 2}, \"9\": {\"9\": 132, \"3\": 30, \"2\": 71, \"12\": 6, \"7\": 1}, \"5\": {\"5\": 176, \"1\": 13, \"0\": 36, \"3\": 2, \"15\": 8, \"12\": 5}, \"1\": {\"1\": 178, \"12\": 37, \"15\": 14, \"5\": 8, \"3\": 1, \"9\": 2}}, \"ORACLE.run150\": {\"5\": {\"5\": 117, \"7\": 26, \"6\": 4, \"13\": 43, \"4\": 33, \"1\": 15, \"10\": 2}, \"12\": {\"12\": 234, \"9\": 4, \"14\": 2}, \"14\": {\"14\": 239, \"12\": 1}, \"4\": {\"4\": 124, \"7\": 5, \"15\": 24, \"1\": 56, \"6\": 4, \"5\": 19, \"13\": 8}, \"13\": {\"7\": 43, \"5\": 25, \"13\": 164, \"6\": 6, \"0\": 1, \"10\": 1}, \"10\": {\"10\": 228, \"7\": 4, \"13\": 1, \"8\": 4, \"0\": 3}, \"9\": {\"11\": 17, \"9\": 214, \"12\": 9}, \"15\": {\"15\": 192, \"1\": 33, \"11\": 4, \"4\": 9, \"6\": 2}, \"6\": {\"6\": 216, \"13\": 13, \"4\": 4, \"1\": 3, \"5\": 3, \"15\": 1}, \"2\": {\"2\": 225, \"0\": 15}, \"0\": {\"0\": 216, \"2\": 14, \"10\": 10}, \"11\": {\"11\": 225, \"1\": 2, \"15\": 7, \"9\": 4, \"14\": 2}, \"3\": {\"8\": 21, \"3\": 219}, \"8\": {\"8\": 238, \"10\": 1, \"3\": 1}, \"7\": {\"7\": 178, \"10\": 11, \"13\": 39, \"5\": 9, \"3\": 2, \"6\": 1}, \"1\": {\"4\": 24, \"1\": 169, \"15\": 38, \"11\": 1, \"6\": 5, \"5\": 3}}, \"ORACLE.run126\": {\"7\": {\"7\": 175, \"3\": 23, \"8\": 10, \"2\": 18, \"4\": 10, \"15\": 1, \"14\": 1, \"0\": 2}, \"6\": {\"6\": 198, \"9\": 33, \"8\": 3, \"13\": 1, \"0\": 1, \"10\": 1, \"15\": 3}, \"14\": {\"14\": 109, \"4\": 62, \"1\": 24, \"0\": 38, \"10\": 6, \"8\": 1}, \"15\": {\"9\": 72, \"13\": 9, \"15\": 133, \"8\": 6, \"5\": 10, \"0\": 2, \"10\": 1, \"7\": 4, \"2\": 1, \"6\": 2}, \"5\": {\"5\": 191, \"9\": 4, \"13\": 20, \"2\": 13, \"15\": 9, \"8\": 2, \"3\": 1}, \"10\": {\"10\": 117, \"0\": 64, \"4\": 8, \"8\": 34, \"14\": 14, \"1\": 1, \"6\": 2}, \"4\": {\"4\": 109, \"14\": 62, \"1\": 14, \"7\": 8, \"0\": 33, \"8\": 10, \"10\": 4}, \"11\": {\"11\": 240}, \"13\": {\"13\": 186, \"2\": 2, \"5\": 42, \"9\": 6, \"15\": 4}, \"2\": {\"5\": 27, \"2\": 99, \"3\": 73, \"7\": 32, \"15\": 5, \"9\": 2, \"13\": 1, \"8\": 1}, \"0\": {\"8\": 16, \"4\": 27, \"14\": 26, \"10\": 63, \"6\": 3, \"0\": 99, \"7\": 3, \"9\": 2, \"15\": 1}, \"12\": {\"12\": 240}, \"3\": {\"3\": 183, \"2\": 39, \"7\": 16, \"4\": 2}, \"9\": {\"9\": 127, \"15\": 72, \"6\": 27, \"8\": 7, \"0\": 1, \"5\": 4, \"13\": 1, \"10\": 1}, \"8\": {\"8\": 118, \"0\": 31, \"9\": 9, \"10\": 34, \"7\": 22, \"15\": 8, \"4\": 13, \"6\": 1, \"14\": 3, \"2\": 1}, \"1\": {\"1\": 191, \"14\": 22, \"4\": 23, \"10\": 2, \"8\": 2}}, \"ORACLE.run132\": {\"7\": {\"13\": 15, \"7\": 161, \"2\": 4, \"5\": 17, \"14\": 9, \"4\": 27, \"11\": 3, \"3\": 1, \"0\": 3}, \"2\": {\"2\": 214, \"4\": 26}, \"5\": {\"3\": 18, \"5\": 79, \"13\": 86, \"4\": 27, \"7\": 21, \"0\": 1, \"2\": 3, \"8\": 3, \"14\": 1, \"11\": 1}, \"6\": {\"6\": 240}, \"13\": {\"13\": 91, \"3\": 11, \"5\": 86, \"7\": 19, \"8\": 16, \"4\": 8, \"0\": 6, \"14\": 2, \"11\": 1}, \"4\": {\"4\": 180, \"2\": 36, \"7\": 15, \"5\": 7, \"13\": 2}, \"3\": {\"3\": 217, \"8\": 4, \"11\": 5, \"5\": 7, \"13\": 4, \"14\": 3}, \"0\": {\"0\": 214, \"14\": 4, \"13\": 2, \"7\": 5, \"4\": 2, \"8\": 10, \"2\": 1, \"5\": 2}, \"9\": {\"9\": 239, \"12\": 1}, \"12\": {\"12\": 240}, \"8\": {\"8\": 205, \"13\": 18, \"0\": 11, \"5\": 6}, \"14\": {\"14\": 104, \"11\": 88, \"7\": 15, \"0\": 18, \"5\": 3, \"4\": 3, \"13\": 3, \"2\": 1, \"8\": 2, \"3\": 3}, \"15\": {\"15\": 212, \"3\": 9, \"8\": 18, \"12\": 1}, \"11\": {\"11\": 181, \"14\": 54, \"7\": 1, \"3\": 4}, \"10\": {\"10\": 236, \"1\": 4}, \"1\": {\"1\": 216, \"10\": 24}}, \"ORACLE.run144\": {\"11\": {\"11\": 177, \"13\": 49, \"6\": 11, \"5\": 3}, \"7\": {\"7\": 161, \"9\": 40, \"2\": 30, \"6\": 8, \"13\": 1}, \"6\": {\"13\": 40, \"6\": 167, \"9\": 23, \"7\": 9, \"11\": 1}, \"12\": {\"12\": 147, \"1\": 60, \"10\": 32, \"3\": 1}, \"4\": {\"4\": 178, \"14\": 61, \"15\": 1}, \"13\": {\"13\": 176, \"6\": 33, \"9\": 28, \"11\": 2, \"5\": 1}, \"8\": {\"0\": 76, \"8\": 158, \"5\": 2, \"15\": 3, \"14\": 1}, \"5\": {\"5\": 213, \"0\": 18, \"14\": 6, \"15\": 3}, \"14\": {\"15\": 12, \"14\": 161, \"4\": 66, \"5\": 1}, \"3\": {\"3\": 230, \"1\": 9, \"7\": 1}, \"10\": {\"10\": 135, \"12\": 47, \"1\": 38, \"2\": 20}, \"1\": {\"10\": 16, \"3\": 22, \"1\": 164, \"12\": 34, \"2\": 4}, \"2\": {\"2\": 197, \"1\": 4, \"7\": 31, \"10\": 8}, \"15\": {\"15\": 195, \"14\": 15, \"0\": 14, \"4\": 4, \"8\": 7, \"5\": 5}, \"9\": {\"9\": 154, \"2\": 1, \"6\": 19, \"13\": 23, \"7\": 43}, \"0\": {\"8\": 59, \"0\": 160, \"15\": 7, \"5\": 14}}, \"ORACLE.run18\": {\"10\": {\"10\": 198, \"13\": 8, \"14\": 32, \"5\": 1, \"4\": 1}, \"6\": {\"6\": 183, \"7\": 37, \"4\": 15, \"13\": 2, \"0\": 3}, \"13\": {\"0\": 62, \"13\": 93, \"14\": 19, \"6\": 7, \"10\": 26, \"4\": 32, \"7\": 1}, \"3\": {\"3\": 234, \"2\": 5, \"12\": 1}, \"9\": {\"9\": 240}, \"1\": {\"1\": 231, \"11\": 5, \"14\": 4}, \"5\": {\"5\": 224, \"10\": 7, \"1\": 6, \"14\": 3}, \"11\": {\"1\": 35, \"11\": 205}, \"4\": {\"4\": 185, \"13\": 27, \"6\": 9, \"14\": 16, \"10\": 3}, \"14\": {\"14\": 174, \"10\": 39, \"1\": 2, \"13\": 4, \"4\": 20, \"0\": 1}, \"12\": {\"12\": 144, \"15\": 71, \"3\": 22, \"8\": 3}, \"7\": {\"7\": 198, \"6\": 38, \"13\": 1, \"0\": 2, \"8\": 1}, \"0\": {\"0\": 157, \"13\": 62, \"7\": 14, \"6\": 6, \"4\": 1}, \"15\": {\"15\": 206, \"12\": 30, \"2\": 1, \"8\": 3}, \"2\": {\"2\": 224, \"3\": 10, \"15\": 2, \"7\": 3, \"12\": 1}, \"8\": {\"8\": 240}}, \"ORACLE.run138\": {\"4\": {\"12\": 90, \"4\": 83, \"10\": 27, \"11\": 26, \"14\": 13, \"7\": 1}, \"7\": {\"7\": 206, \"0\": 15, \"5\": 18, \"8\": 1}, \"12\": {\"12\": 217, \"14\": 16, \"4\": 2, \"10\": 5}, \"10\": {\"7\": 3, \"10\": 202, \"8\": 10, \"0\": 2, \"13\": 18, \"4\": 1, \"15\": 1, \"14\": 2, \"12\": 1}, \"0\": {\"8\": 55, \"0\": 115, \"7\": 30, \"3\": 12, \"5\": 22, \"10\": 2, \"12\": 2, \"15\": 1, \"13\": 1}, \"1\": {\"1\": 238, \"13\": 1, \"15\": 1}, \"5\": {\"7\": 23, \"5\": 125, \"13\": 1, \"0\": 7, \"3\": 5, \"1\": 7, \"6\": 12, \"8\": 53, \"9\": 1, \"10\": 3, \"15\": 3}, \"15\": {\"15\": 165, \"13\": 47, \"1\": 18, \"8\": 4, \"5\": 5, \"10\": 1}, \"9\": {\"9\": 184, \"6\": 51, \"7\": 1, \"5\": 2, \"3\": 2}, \"11\": {\"11\": 60, \"4\": 39, \"14\": 129, \"2\": 9, \"3\": 1, \"12\": 2}, \"14\": {\"14\": 211, \"2\": 24, \"11\": 3, \"12\": 1, \"10\": 1}, \"6\": {\"9\": 26, \"6\": 213, \"5\": 1}, \"8\": {\"7\": 2, \"8\": 138, \"5\": 37, \"0\": 51, \"15\": 6, \"10\": 6}, \"3\": {\"3\": 198, \"2\": 2, \"0\": 5, \"6\": 1, \"7\": 8, \"5\": 4, \"9\": 20, \"11\": 2}, \"2\": {\"2\": 228, \"14\": 9, \"13\": 3}, \"13\": {\"13\": 167, \"10\": 7, \"8\": 3, \"15\": 60, \"1\": 1, \"2\": 2}}, \"Wisig_3\": {\"110\": {\"22\": 1, \"110\": 35, \"129\": 2, \"105\": 1, \"109\": 1, \"1\": 11, \"74\": 1, \"111\": 1, \"114\": 11, \"5\": 4, \"88\": 2, \"108\": 2, \"3\": 3, \"87\": 3, \"107\": 1, \"122\": 3, \"38\": 1, \"23\": 1, \"32\": 1, \"99\": 1, \"10\": 2, \"40\": 2, \"93\": 1, \"90\": 1}, \"1\": {\"110\": 3, \"1\": 76, \"107\": 12, \"108\": 3, \"50\": 1, \"40\": 6, \"5\": 2, \"114\": 1, \"62\": 1, \"129\": 1, \"39\": 1, \"10\": 1}, \"2\": {\"117\": 2, \"2\": 13, \"23\": 1, \"26\": 2, \"118\": 1, \"64\": 1, \"21\": 2, \"121\": 2, \"109\": 2, \"113\": 2}, \"94\": {\"94\": 35, \"113\": 1, \"68\": 1, \"95\": 1, \"106\": 6, \"0\": 1, \"111\": 9, \"26\": 1, \"125\": 3, \"15\": 11, \"7\": 1, \"8\": 3, \"12\": 2, \"75\": 1, \"73\": 1, \"61\": 1, \"62\": 1, \"36\": 3, \"27\": 1, \"18\": 1}, \"64\": {\"64\": 18, \"21\": 1, \"118\": 1}, \"78\": {\"1\": 2, \"32\": 1, \"90\": 2, \"17\": 1, \"105\": 1, \"74\": 1, \"60\": 1, \"78\": 1, \"8\": 1, \"14\": 1, \"40\": 2, \"120\": 1, \"21\": 1}, \"47\": {\"47\": 6, \"3\": 2, \"34\": 2, \"9\": 1, \"113\": 1}, \"127\": {\"47\": 2, \"99\": 1, \"30\": 2, \"86\": 2, \"34\": 1, \"127\": 81, \"71\": 1, \"4\": 3, \"105\": 2, \"12\": 2, \"98\": 14, \"7\": 5, \"8\": 5, \"0\": 2, \"10\": 3, \"18\": 1, \"3\": 1}, \"89\": {\"89\": 21, \"47\": 1, \"23\": 1, \"109\": 1, \"118\": 1, \"69\": 1, \"11\": 1, \"93\": 1}, \"79\": {\"79\": 12}, \"22\": {\"22\": 15, \"60\": 1}, \"117\": {\"117\": 86, \"113\": 6, \"121\": 2, \"26\": 9, \"39\": 6, \"18\": 1, \"23\": 1, \"118\": 1}, \"49\": {\"49\": 6, \"127\": 1, \"124\": 1, \"84\": 1, \"101\": 1, \"14\": 1, \"70\": 1, \"30\": 1, \"37\": 1, \"77\": 1, \"82\": 1, \"36\": 1, \"91\": 1, \"73\": 1, \"118\": 1, \"9\": 1, \"107\": 1, \"19\": 1, \"88\": 1}, \"14\": {\"22\": 2, \"14\": 70, \"107\": 4, \"62\": 1, \"40\": 1, \"90\": 1, \"110\": 1}, \"103\": {\"47\": 2, \"103\": 10, \"105\": 1, \"9\": 2, \"86\": 1}, \"123\": {\"123\": 14, \"63\": 1, \"61\": 1}, \"98\": {\"8\": 6, \"77\": 1, \"111\": 7, \"98\": 45, \"52\": 1, \"23\": 2, \"42\": 1, \"7\": 8, \"24\": 1, \"87\": 1, \"127\": 10, \"4\": 1, \"34\": 1, \"10\": 1, \"12\": 9, \"124\": 5, \"0\": 6, \"72\": 3, \"9\": 2, \"95\": 3, \"99\": 1, \"71\": 2, \"3\": 3, \"36\": 1, \"62\": 1, \"88\": 1, \"26\": 1, \"27\": 2, \"90\": 1, \"108\": 1}, \"18\": {\"61\": 1, \"81\": 1, \"18\": 98, \"117\": 2, \"126\": 5, \"88\": 1}, \"61\": {\"81\": 1, \"61\": 14, \"18\": 1}, \"108\": {\"98\": 2, \"8\": 4, \"70\": 5, \"73\": 1, \"108\": 34, \"88\": 3, \"99\": 1, \"3\": 3, \"122\": 1, \"105\": 8, \"5\": 15, \"1\": 1, \"110\": 3, \"10\": 4, \"7\": 1, \"127\": 2, \"126\": 1, \"12\": 5, \"124\": 9, \"111\": 2, \"40\": 2, \"46\": 1, \"104\": 1, \"28\": 1, \"50\": 1, \"74\": 1, \"32\": 1, \"41\": 1, \"4\": 4, \"114\": 5, \"94\": 1, \"87\": 1, \"26\": 1}, \"100\": {\"100\": 14, \"107\": 1, \"129\": 1}, \"0\": {\"98\": 9, \"10\": 7, \"111\": 11, \"15\": 8, \"0\": 34, \"77\": 1, \"4\": 2, \"12\": 4, \"94\": 2, \"7\": 9, \"127\": 8, \"39\": 1, \"3\": 1, \"34\": 2, \"36\": 2, \"6\": 1, \"108\": 1, \"73\": 1, \"106\": 2, \"72\": 1, \"30\": 3, \"35\": 1, \"27\": 1, \"125\": 2, \"105\": 1, \"124\": 1}, \"107\": {\"107\": 94, \"40\": 9, \"38\": 1, \"129\": 2, \"14\": 3, \"87\": 3, \"62\": 4, \"1\": 5, \"114\": 2, \"19\": 2, \"32\": 2, \"110\": 1, \"84\": 2}, \"58\": {\"58\": 14, \"6\": 1, \"51\": 1}, \"8\": {\"98\": 7, \"0\": 4, \"8\": 45, \"12\": 12, \"52\": 1, \"127\": 10, \"124\": 8, \"10\": 3, \"15\": 4, \"36\": 4, \"30\": 4, \"105\": 2, \"111\": 5, \"24\": 1, \"86\": 2, \"91\": 2, \"4\": 1, \"108\": 2, \"7\": 2, \"3\": 1}, \"85\": {\"85\": 23, \"4\": 1, \"5\": 3, \"41\": 2, \"19\": 1, \"128\": 2, \"3\": 1, \"110\": 1, \"47\": 1, \"111\": 1}, \"31\": {\"31\": 13, \"82\": 2, \"69\": 1, \"120\": 1, \"19\": 1, \"84\": 2}, \"81\": {\"18\": 1, \"81\": 28, \"123\": 1, \"126\": 1, \"26\": 1}, \"60\": {\"31\": 2, \"60\": 18, \"90\": 1, \"22\": 2, \"32\": 2, \"62\": 1, \"69\": 1, \"122\": 1}, \"102\": {\"102\": 94, \"109\": 2, \"33\": 2, \"69\": 2, \"11\": 2, \"1\": 1, \"93\": 11, \"92\": 1, \"16\": 1}, \"19\": {\"8\": 1, \"98\": 1, \"115\": 1, \"19\": 5, \"32\": 2, \"1\": 3, \"66\": 1, \"0\": 1, \"70\": 1, \"83\": 1, \"7\": 3, \"124\": 1, \"14\": 1, \"85\": 1, \"30\": 1, \"34\": 1, \"46\": 1, \"36\": 1, \"50\": 1, \"105\": 1, \"86\": 1, \"49\": 1, \"40\": 1}, \"23\": {\"108\": 2, \"23\": 5, \"86\": 1, \"67\": 2, \"10\": 1, \"61\": 1, \"52\": 1, \"81\": 2, \"63\": 2, \"4\": 1, \"103\": 1, \"37\": 1, \"7\": 2, \"39\": 2, \"91\": 1, \"98\": 2, \"71\": 2, \"3\": 2, \"18\": 1}, \"32\": {\"100\": 1, \"70\": 1, \"10\": 1, \"32\": 8, \"115\": 2, \"48\": 1, \"107\": 1, \"84\": 4, \"87\": 1, \"74\": 2, \"29\": 1, \"40\": 2, \"79\": 1, \"9\": 1, \"128\": 2, \"122\": 1, \"76\": 1, \"114\": 1}, \"39\": {\"63\": 1, \"39\": 54, \"123\": 1, \"81\": 2, \"26\": 11, \"21\": 4, \"18\": 6, \"117\": 14, \"126\": 3, \"113\": 7, \"102\": 1, \"93\": 1, \"23\": 1, \"118\": 1, \"33\": 1}, \"129\": {\"129\": 10, \"32\": 1, \"108\": 1, \"29\": 1, \"79\": 1, \"34\": 1, \"84\": 2, \"76\": 1, \"71\": 1, \"5\": 2, \"3\": 1, \"49\": 2, \"45\": 1, \"87\": 1, \"19\": 1, \"110\": 1, \"4\": 1, \"1\": 3}, \"71\": {\"70\": 1, \"99\": 1, \"41\": 1, \"71\": 38, \"105\": 5, \"5\": 4, \"3\": 2, \"8\": 1, \"128\": 2, \"4\": 5, \"127\": 1, \"108\": 3, \"46\": 1, \"124\": 1, \"126\": 1, \"98\": 1}, \"91\": {\"91\": 12, \"28\": 1, \"30\": 1, \"56\": 1, \"101\": 1, \"57\": 2, \"37\": 2, \"95\": 1, \"35\": 1, \"70\": 1, \"118\": 1}, \"101\": {\"101\": 32, \"51\": 1, \"126\": 1, \"34\": 1, \"12\": 4, \"30\": 2, \"6\": 1, \"95\": 4, \"37\": 1, \"7\": 1, \"72\": 1, \"42\": 1, \"113\": 1, \"111\": 1}, \"62\": {\"62\": 101, \"28\": 1, \"29\": 2, \"14\": 3, \"87\": 6, \"70\": 3, \"107\": 4, \"11\": 1, \"118\": 1}, \"63\": {\"63\": 16}, \"125\": {\"125\": 83, \"37\": 1, \"24\": 2, \"106\": 7, \"26\": 1, \"94\": 2, \"27\": 3, \"15\": 8, \"36\": 6, \"8\": 1, \"0\": 1, \"30\": 1, \"111\": 4}, \"57\": {\"57\": 14, \"1\": 2, \"28\": 2, \"128\": 1, \"122\": 1}, \"28\": {\"28\": 13, \"115\": 1, \"122\": 2}, \"70\": {\"28\": 1, \"70\": 8, \"47\": 1, \"123\": 2, \"18\": 2, \"0\": 1, \"105\": 4, \"122\": 1, \"74\": 2, \"4\": 3, \"126\": 5, \"87\": 3, \"88\": 1, \"5\": 2, \"7\": 1, \"90\": 2, \"71\": 1, \"10\": 2, \"127\": 5, \"11\": 2, \"14\": 1, \"113\": 1, \"114\": 2, \"3\": 2, \"61\": 1, \"128\": 1, \"83\": 1, \"108\": 3, \"66\": 1, \"62\": 2, \"118\": 1, \"44\": 1, \"109\": 1, \"117\": 1, \"1\": 1, \"110\": 1, \"39\": 1, \"84\": 1}, \"99\": {\"99\": 20, \"70\": 1, \"9\": 1, \"55\": 1, \"21\": 1, \"27\": 1, \"42\": 1, \"71\": 2, \"4\": 2, \"58\": 1, \"7\": 1, \"91\": 1, \"98\": 2, \"105\": 1}, \"121\": {\"121\": 19, \"67\": 1, \"117\": 4, \"96\": 1, \"119\": 2, \"2\": 3, \"90\": 1, \"113\": 1}, \"4\": {\"9\": 1, \"86\": 1, \"56\": 2, \"85\": 2, \"4\": 44, \"72\": 1, \"103\": 1, \"105\": 6, \"24\": 1, \"3\": 2, \"95\": 1, \"30\": 2, \"98\": 2, \"108\": 9, \"71\": 2, \"34\": 4, \"5\": 2, \"47\": 1, \"99\": 3, \"127\": 1, \"91\": 1, \"19\": 1, \"7\": 1, \"124\": 2, \"117\": 1, \"70\": 2}, \"80\": {\"33\": 1, \"80\": 9, \"93\": 1, \"20\": 1, \"16\": 4}, \"51\": {\"15\": 1, \"30\": 1, \"51\": 8, \"106\": 1, \"101\": 2, \"25\": 1, \"0\": 1, \"27\": 1}, \"3\": {\"3\": 72, \"9\": 1, \"5\": 5, \"99\": 3, \"125\": 1, \"71\": 3, \"4\": 5, \"105\": 2, \"127\": 6, \"39\": 1, \"108\": 8, \"10\": 1, \"98\": 2, \"85\": 1, \"114\": 2, \"8\": 1, \"70\": 1, \"109\": 1}, \"9\": {\"86\": 1, \"9\": 20, \"4\": 3, \"42\": 1, \"99\": 1, \"103\": 2, \"55\": 1, \"128\": 1, \"105\": 2}, \"53\": {\"53\": 11, \"20\": 1, \"122\": 2, \"4\": 1, \"45\": 2, \"1\": 1, \"81\": 1, \"11\": 1}, \"30\": {\"30\": 25, \"58\": 2, \"122\": 1, \"91\": 3, \"97\": 1, \"32\": 1, \"83\": 1, \"10\": 1, \"7\": 5, \"9\": 1, \"27\": 1, \"94\": 1, \"101\": 3, \"36\": 6, \"124\": 1, \"127\": 1, \"111\": 6, \"0\": 1, \"4\": 3, \"8\": 2, \"106\": 2, \"51\": 4, \"95\": 1, \"59\": 2, \"60\": 1, \"86\": 1, \"42\": 1, \"15\": 1, \"98\": 2, \"99\": 1, \"3\": 1, \"12\": 1}, \"33\": {\"33\": 102, \"16\": 6, \"69\": 3, \"102\": 1, \"11\": 4, \"93\": 1, \"109\": 3, \"118\": 1, \"88\": 1}, \"15\": {\"97\": 3, \"68\": 1, \"94\": 11, \"0\": 4, \"75\": 2, \"15\": 35, \"30\": 3, \"106\": 9, \"12\": 4, \"36\": 8, \"111\": 8, \"125\": 4, \"10\": 1, \"8\": 1, \"24\": 2, \"27\": 2, \"73\": 1, \"101\": 1, \"95\": 1, \"7\": 1, \"6\": 1, \"18\": 1}, \"97\": {\"80\": 1, \"15\": 2, \"97\": 13, \"27\": 1, \"91\": 1, \"72\": 1, \"101\": 1}, \"86\": {\"86\": 13, \"128\": 2, \"19\": 2, \"57\": 2, \"105\": 4, \"66\": 1, \"108\": 2, \"9\": 1, \"81\": 1}, \"20\": {\"20\": 11, \"76\": 2, \"79\": 2, \"28\": 1}, \"66\": {\"9\": 1, \"66\": 11, \"99\": 2, \"55\": 1, \"105\": 1}, \"10\": {\"51\": 1, \"10\": 36, \"86\": 1, \"128\": 4, \"0\": 4, \"70\": 6, \"103\": 2, \"34\": 1, \"77\": 1, \"71\": 1, \"124\": 2, \"7\": 10, \"8\": 2, \"94\": 1, \"95\": 1, \"12\": 8, \"114\": 3, \"30\": 2, \"3\": 3, \"98\": 9, \"88\": 1, \"105\": 4, \"127\": 7, \"91\": 1, \"9\": 1, \"24\": 1, \"32\": 1, \"41\": 1, \"73\": 1, \"15\": 2, \"62\": 1, \"108\": 1, \"110\": 1, \"33\": 1}, \"29\": {\"29\": 24, \"90\": 2, \"32\": 1, \"31\": 2, \"87\": 2, \"62\": 1}, \"109\": {\"109\": 54, \"76\": 1, \"33\": 13, \"92\": 1, \"116\": 1, \"122\": 1, \"90\": 8, \"18\": 1, \"69\": 3, \"93\": 8, \"118\": 2, \"16\": 7, \"62\": 4, \"120\": 1, \"11\": 4, \"88\": 1, \"102\": 4}, \"52\": {\"52\": 9, \"41\": 1, \"8\": 1, \"73\": 1, \"0\": 2, \"91\": 1, \"15\": 1}, \"67\": {\"67\": 12, \"117\": 1, \"121\": 2, \"39\": 1}, \"83\": {\"10\": 1, \"121\": 1, \"98\": 2, \"83\": 8, \"68\": 1, \"30\": 1, \"18\": 1, \"3\": 1, \"128\": 2, \"91\": 1, \"36\": 1, \"42\": 1, \"4\": 1, \"95\": 1, \"127\": 1}, \"72\": {\"72\": 24, \"34\": 1, \"95\": 1, \"98\": 1, \"97\": 1}, \"90\": {\"29\": 1, \"78\": 1, \"90\": 88, \"14\": 3, \"109\": 1, \"44\": 3, \"62\": 5, \"87\": 8, \"84\": 7, \"26\": 1, \"88\": 5, \"117\": 1, \"45\": 1, \"23\": 1}, \"69\": {\"69\": 67, \"89\": 1, \"11\": 4, \"93\": 2, \"94\": 1, \"16\": 2, \"33\": 4, \"102\": 3}, \"88\": {\"34\": 2, \"22\": 2, \"129\": 1, \"120\": 1, \"122\": 2, \"88\": 20, \"74\": 3, \"64\": 1, \"11\": 4, \"14\": 2, \"42\": 1, \"124\": 1, \"5\": 1, \"92\": 1, \"98\": 1, \"40\": 2, \"7\": 2, \"70\": 2, \"113\": 2, \"12\": 1, \"87\": 4, \"114\": 7, \"107\": 2, \"118\": 6, \"110\": 3, \"105\": 5, \"102\": 1, \"109\": 6, \"62\": 4, \"126\": 1, \"26\": 1, \"10\": 2, \"108\": 2, \"78\": 1, \"103\": 1, \"80\": 1, \"86\": 1, \"68\": 1, \"96\": 1, \"1\": 1, \"128\": 1, \"39\": 1, \"91\": 1, \"3\": 1, \"127\": 2, \"0\": 1, \"90\": 1, \"33\": 1}, \"115\": {\"115\": 5, \"88\": 1, \"84\": 1, \"53\": 2, \"60\": 1, \"98\": 1, \"122\": 1, \"40\": 1, \"107\": 1, \"48\": 1, \"38\": 1}, \"73\": {\"73\": 20, \"25\": 1, \"22\": 1, \"111\": 2, \"72\": 2, \"97\": 3, \"120\": 1, \"42\": 1, \"124\": 1, \"79\": 1, \"116\": 1, \"51\": 1, \"27\": 1, \"88\": 1, \"41\": 1, \"30\": 2}, \"34\": {\"62\": 2, \"32\": 1, \"6\": 2, \"34\": 5, \"50\": 2, \"42\": 1, \"86\": 1, \"114\": 2, \"122\": 2, \"70\": 1, \"110\": 1, \"94\": 1, \"58\": 1, \"73\": 3, \"20\": 1, \"98\": 1, \"24\": 1, \"51\": 4}, \"25\": {\"25\": 14, \"75\": 2}, \"44\": {\"129\": 1, \"29\": 5, \"31\": 1, \"44\": 36, \"91\": 1, \"14\": 4, \"84\": 4, \"90\": 6, \"87\": 5, \"62\": 2, \"107\": 2, \"48\": 1, \"23\": 1, \"16\": 1, \"11\": 1, \"40\": 1}, \"112\": {\"112\": 11, \"77\": 1, \"99\": 1, \"97\": 1, \"104\": 1, \"66\": 1}, \"37\": {\"98\": 1, \"111\": 1, \"37\": 12, \"101\": 2}, \"77\": {\"77\": 16}, \"111\": {\"111\": 89, \"24\": 1, \"73\": 2, \"27\": 1, \"15\": 3, \"30\": 4, \"36\": 2, \"101\": 1, \"94\": 2, \"106\": 4, \"26\": 1, \"0\": 4, \"97\": 1, \"12\": 3, \"126\": 1, \"125\": 2, \"8\": 1}, \"119\": {\"23\": 1, \"119\": 14, \"16\": 1}, \"56\": {\"77\": 1, \"56\": 6, \"5\": 1, \"111\": 1, \"108\": 1, \"9\": 1, \"99\": 1}, \"5\": {\"122\": 1, \"112\": 1, \"5\": 79, \"41\": 1, \"19\": 1, \"3\": 5, \"108\": 6, \"126\": 1, \"71\": 1, \"114\": 2, \"110\": 1, \"105\": 5, \"98\": 1, \"40\": 1, \"4\": 2, \"87\": 1, \"70\": 2, \"127\": 1}, \"122\": {\"122\": 23, \"4\": 1, \"110\": 3, \"103\": 3, \"88\": 1, \"1\": 1, \"3\": 2, \"117\": 2, \"50\": 1, \"19\": 1, \"94\": 1, \"114\": 2, \"5\": 2, \"40\": 3, \"10\": 2, \"70\": 3, \"104\": 1, \"60\": 2, \"105\": 1, \"126\": 1, \"107\": 2, \"32\": 2}, \"74\": {\"74\": 15, \"88\": 1}, \"11\": {\"11\": 59, \"118\": 2, \"43\": 3, \"92\": 1, \"82\": 2, \"109\": 8, \"69\": 10, \"120\": 2, \"93\": 9, \"29\": 2, \"21\": 1, \"113\": 2, \"88\": 5, \"33\": 6, \"62\": 3, \"102\": 10, \"90\": 10, \"87\": 1, \"44\": 2, \"84\": 3, \"23\": 1, \"16\": 7, \"70\": 1, \"4\": 1, \"12\": 1}, \"41\": {\"129\": 1, \"104\": 1, \"41\": 6, \"52\": 2, \"108\": 2, \"30\": 2, \"128\": 1, \"4\": 1}, \"104\": {\"5\": 2, \"104\": 13, \"108\": 1}, \"21\": {\"81\": 2, \"21\": 19, \"17\": 1, \"121\": 1, \"26\": 2, \"16\": 1, \"43\": 1, \"29\": 1, \"117\": 3, \"39\": 4, \"109\": 3, \"118\": 2, \"120\": 1, \"2\": 1, \"64\": 4, \"96\": 1, \"113\": 1}, \"118\": {\"21\": 1, \"11\": 5, \"89\": 1, \"118\": 50, \"6\": 1, \"43\": 8, \"70\": 1, \"120\": 1, \"29\": 1, \"109\": 5, \"93\": 2, \"16\": 1, \"62\": 1, \"87\": 1, \"88\": 2, \"102\": 6, \"114\": 1, \"69\": 3, \"92\": 2, \"80\": 1, \"96\": 1, \"129\": 1, \"24\": 1, \"33\": 3}, \"40\": {\"40\": 78, \"81\": 1, \"104\": 1, \"111\": 1, \"114\": 9, \"1\": 12, \"110\": 2, \"88\": 5, \"107\": 5, \"105\": 1, \"62\": 2, \"46\": 1, \"122\": 1, \"32\": 1, \"70\": 1, \"87\": 1}, \"6\": {\"6\": 18, \"94\": 1, \"73\": 1, \"35\": 1, \"0\": 1, \"125\": 2, \"106\": 1, \"24\": 1, \"97\": 2, \"27\": 2, \"15\": 2}, \"27\": {\"94\": 5, \"12\": 4, \"25\": 2, \"68\": 2, \"54\": 3, \"27\": 29, \"99\": 1, \"95\": 1, \"24\": 2, \"77\": 1, \"73\": 2, \"108\": 2, \"49\": 1, \"8\": 3, \"125\": 6, \"4\": 1, \"30\": 6, \"36\": 7, \"106\": 2, \"61\": 1, \"91\": 2, \"7\": 3, \"71\": 3, \"111\": 1, \"124\": 4, \"127\": 1, \"5\": 1}, \"113\": {\"118\": 6, \"113\": 62, \"39\": 7, \"109\": 4, \"117\": 10, \"43\": 3, \"26\": 19, \"119\": 1, \"21\": 1, \"16\": 1, \"88\": 2, \"121\": 2, \"2\": 2}, \"68\": {\"68\": 12, \"12\": 2, \"73\": 2}, \"12\": {\"12\": 41, \"4\": 2, \"8\": 11, \"19\": 1, \"98\": 6, \"15\": 1, \"95\": 1, \"127\": 5, \"30\": 4, \"94\": 3, \"111\": 11, \"0\": 2, \"5\": 1, \"10\": 1, \"7\": 1, \"36\": 1, \"124\": 3, \"24\": 2, \"99\": 1, \"59\": 1, \"41\": 1, \"101\": 1, \"105\": 1}, \"54\": {\"54\": 16}, \"24\": {\"101\": 3, \"24\": 10, \"9\": 1, \"106\": 2, \"99\": 1, \"85\": 2, \"5\": 1, \"0\": 4, \"34\": 2, \"52\": 1, \"75\": 2, \"126\": 1, \"105\": 1, \"27\": 3, \"58\": 2, \"46\": 1, \"6\": 1, \"18\": 1, \"15\": 1, \"68\": 1, \"10\": 1, \"125\": 2, \"108\": 1, \"98\": 1, \"36\": 1, \"7\": 1}, \"106\": {\"24\": 3, \"106\": 55, \"54\": 1, \"6\": 1, \"27\": 1, \"94\": 7, \"125\": 5, \"36\": 7, \"15\": 12, \"30\": 1, \"117\": 1, \"58\": 2, \"97\": 2, \"26\": 1, \"111\": 1}, \"128\": {\"101\": 1, \"128\": 12, \"77\": 1, \"66\": 1, \"99\": 2, \"8\": 1, \"122\": 2, \"71\": 1, \"30\": 1, \"5\": 2, \"98\": 3, \"34\": 1, \"74\": 2, \"108\": 1, \"95\": 1}, \"48\": {\"10\": 2, \"128\": 1, \"39\": 1, \"65\": 1, \"113\": 1, \"43\": 1, \"57\": 1, \"81\": 1, \"79\": 1, \"77\": 2, \"86\": 2, \"2\": 2}, \"92\": {\"116\": 3, \"43\": 2, \"92\": 17, \"16\": 3, \"33\": 2, \"120\": 1, \"88\": 1, \"78\": 2, \"80\": 1}, \"35\": {\"35\": 5, \"59\": 1, \"54\": 1, \"6\": 1, \"91\": 2, \"27\": 1, \"0\": 1}, \"116\": {\"92\": 2, \"20\": 1, \"116\": 14, \"11\": 1, \"69\": 1, \"71\": 1, \"33\": 2, \"82\": 2, \"109\": 1, \"88\": 1, \"53\": 1, \"90\": 1}, \"38\": {\"38\": 13, \"120\": 1, \"50\": 1, \"110\": 1}, \"126\": {\"126\": 88, \"39\": 5, \"96\": 1, \"18\": 11, \"92\": 1, \"117\": 2, \"84\": 1, \"118\": 1, \"26\": 3, \"113\": 3, \"81\": 4, \"21\": 1, \"67\": 1, \"93\": 1, \"33\": 1}, \"46\": {\"108\": 1, \"46\": 12, \"4\": 1, \"71\": 2}, \"120\": {\"120\": 20}, \"7\": {\"98\": 4, \"88\": 1, \"7\": 74, \"77\": 1, \"24\": 1, \"10\": 8, \"127\": 5, \"4\": 3, \"12\": 3, \"8\": 4, \"30\": 1, \"55\": 1, \"9\": 2, \"113\": 1, \"91\": 1, \"70\": 1, \"0\": 1}, \"13\": {\"13\": 2, \"120\": 2, \"116\": 1, \"76\": 1, \"88\": 1, \"81\": 2, \"121\": 2, \"2\": 1, \"92\": 1, \"113\": 1, \"109\": 2}, \"43\": {\"102\": 2, \"92\": 3, \"118\": 8, \"43\": 17, \"82\": 3, \"93\": 4, \"109\": 1, \"70\": 1, \"120\": 1, \"11\": 2, \"113\": 2, \"18\": 1, \"69\": 1, \"45\": 1, \"23\": 2, \"88\": 1, \"126\": 2, \"110\": 1, \"16\": 2, \"117\": 1}, \"93\": {\"93\": 75, \"31\": 1, \"109\": 8, \"90\": 6, \"88\": 6, \"102\": 16, \"33\": 3, \"69\": 2, \"110\": 1, \"16\": 3, \"44\": 1, \"11\": 5, \"120\": 1, \"92\": 1, \"108\": 1, \"43\": 2}, \"26\": {\"26\": 114, \"43\": 1, \"113\": 8, \"126\": 1, \"39\": 2, \"117\": 5, \"93\": 1}, \"76\": {\"76\": 13, \"115\": 1, \"82\": 1, \"90\": 1}, \"59\": {\"59\": 9, \"35\": 1, \"51\": 2}, \"65\": {\"65\": 9, \"17\": 1, \"128\": 2}, \"87\": {\"76\": 1, \"87\": 38, \"129\": 3, \"20\": 3, \"14\": 3, \"19\": 1, \"62\": 9, \"1\": 5, \"107\": 10, \"122\": 2, \"40\": 4, \"106\": 1, \"90\": 13, \"84\": 14, \"110\": 4, \"88\": 5, \"11\": 1, \"45\": 1, \"53\": 1, \"126\": 1}, \"124\": {\"112\": 2, \"124\": 97, \"52\": 2, \"73\": 1, \"85\": 1, \"8\": 2, \"34\": 1, \"111\": 2, \"12\": 3, \"106\": 1, \"127\": 1, \"7\": 1, \"20\": 1, \"98\": 2, \"108\": 1, \"42\": 1, \"41\": 1, \"4\": 1, \"71\": 1, \"3\": 1, \"11\": 1}, \"84\": {\"76\": 2, \"84\": 87, \"87\": 4, \"94\": 1, \"110\": 1, \"69\": 1, \"88\": 2, \"62\": 2, \"79\": 1, \"29\": 2, \"44\": 3, \"14\": 1, \"108\": 1}, \"82\": {\"48\": 2, \"82\": 17, \"69\": 2, \"33\": 2, \"102\": 1, \"11\": 2, \"116\": 2}, \"75\": {\"75\": 11, \"25\": 1, \"15\": 2, \"94\": 2}, \"17\": {\"72\": 1, \"69\": 1, \"17\": 2, \"104\": 1, \"55\": 1, \"64\": 1, \"113\": 3, \"93\": 1, \"81\": 1, \"34\": 1, \"56\": 1, \"42\": 1, \"27\": 1}, \"105\": {\"4\": 7, \"105\": 84, \"55\": 1, \"122\": 2, \"73\": 2, \"42\": 2, \"71\": 4, \"114\": 1, \"108\": 8, \"3\": 3, \"98\": 1, \"128\": 1, \"99\": 1, \"9\": 1, \"86\": 1, \"66\": 1, \"127\": 2, \"70\": 1, \"8\": 1}, \"95\": {\"68\": 1, \"95\": 22, \"7\": 2, \"8\": 3, \"52\": 1, \"124\": 1, \"37\": 1, \"9\": 1}, \"42\": {\"15\": 1, \"75\": 1, \"42\": 7, \"71\": 1, \"98\": 1, \"73\": 2, \"27\": 1, \"125\": 1, \"58\": 2, \"12\": 1, \"94\": 1, \"99\": 1, \"128\": 1, \"114\": 2, \"122\": 1, \"72\": 1, \"105\": 1, \"3\": 1, \"4\": 1}, \"55\": {\"55\": 13, \"112\": 1, \"99\": 2}, \"16\": {\"16\": 67, \"82\": 1, \"69\": 3, \"102\": 2, \"33\": 17, \"90\": 3, \"11\": 11, \"109\": 4, \"93\": 1, \"14\": 2, \"92\": 1, \"116\": 2, \"26\": 1, \"23\": 1}, \"50\": {\"50\": 11, \"1\": 2, \"122\": 1, \"74\": 1, \"107\": 1}, \"96\": {\"96\": 14, \"121\": 3, \"21\": 1, \"117\": 1, \"16\": 1}, \"45\": {\"45\": 16}, \"36\": {\"52\": 1, \"24\": 2, \"36\": 41, \"101\": 1, \"94\": 11, \"125\": 11, \"15\": 7, \"30\": 4, \"98\": 2, \"4\": 1, \"27\": 5, \"111\": 10, \"3\": 1, \"12\": 3, \"8\": 3, \"124\": 1, \"7\": 3, \"54\": 3, \"9\": 1, \"35\": 1, \"106\": 3, \"10\": 1, \"108\": 2, \"0\": 2}, \"114\": {\"114\": 91, \"40\": 7, \"5\": 1, \"113\": 1, \"1\": 6, \"105\": 2, \"110\": 3, \"3\": 3, \"36\": 1, \"70\": 1, \"108\": 1, \"87\": 1, \"122\": 1, \"4\": 1, \"18\": 2, \"117\": 1, \"107\": 1}}, \"Wisig_4\": {\"113\": {\"35\": 2, \"113\": 63, \"18\": 1, \"117\": 18, \"44\": 1, \"16\": 5, \"21\": 3, \"84\": 3, \"121\": 1, \"2\": 1, \"66\": 2, \"39\": 9, \"81\": 3, \"88\": 2, \"118\": 2, \"126\": 4, \"26\": 2, \"90\": 2}, \"85\": {\"85\": 22, \"53\": 1, \"36\": 1, \"27\": 1, \"112\": 1, \"6\": 1, \"7\": 1}, \"34\": {\"85\": 1, \"55\": 1, \"34\": 7, \"71\": 1, \"62\": 2, \"27\": 2, \"37\": 1, \"42\": 1, \"75\": 1, \"47\": 2, \"98\": 2, \"30\": 2, \"7\": 1, \"25\": 1, \"58\": 1, \"120\": 2, \"10\": 2, \"36\": 2}, \"55\": {\"55\": 8, \"29\": 1, \"0\": 5, \"95\": 1, \"68\": 1}, \"42\": {\"24\": 1, \"51\": 1, \"71\": 2, \"120\": 1, \"30\": 3, \"49\": 1, \"111\": 3, \"34\": 1, \"12\": 1, \"40\": 1, \"76\": 2, \"8\": 1, \"115\": 1, \"87\": 1, \"9\": 2, \"95\": 1, \"72\": 1, \"42\": 2, \"103\": 1, \"85\": 1}, \"13\": {\"113\": 2, \"13\": 10, \"84\": 1, \"16\": 2, \"48\": 1}, \"69\": {\"49\": 2, \"69\": 85, \"18\": 2, \"16\": 1, \"90\": 3, \"5\": 1, \"93\": 7, \"26\": 3, \"102\": 6, \"33\": 2, \"11\": 3, \"109\": 5, \"44\": 1, \"7\": 1, \"110\": 1, \"21\": 1}, \"35\": {\"35\": 6, \"2\": 2, \"18\": 1, \"63\": 2, \"48\": 1}, \"83\": {\"85\": 1, \"113\": 1, \"83\": 9, \"73\": 2, \"40\": 1, \"14\": 2, \"72\": 1, \"62\": 1, \"107\": 2, \"115\": 2, \"87\": 2, \"78\": 1, \"3\": 1, \"33\": 1, \"43\": 1}, \"51\": {\"51\": 4, \"49\": 1, \"126\": 2, \"9\": 3, \"18\": 1, \"1\": 1, \"10\": 1, \"39\": 1, \"21\": 1, \"6\": 1}, \"72\": {\"83\": 1, \"49\": 1, \"72\": 14, \"43\": 2, \"14\": 3, \"62\": 1, \"33\": 2, \"99\": 2, \"79\": 1, \"110\": 1, \"3\": 2, \"11\": 1, \"118\": 1}, \"24\": {\"51\": 2, \"24\": 25, \"41\": 1, \"10\": 7, \"21\": 1, \"99\": 1, \"106\": 5, \"15\": 3, \"98\": 6, \"94\": 7, \"30\": 6, \"7\": 5, \"117\": 1, \"36\": 8, \"27\": 3, \"0\": 3, \"4\": 3, \"114\": 2, \"8\": 2, \"101\": 4, \"111\": 2, \"124\": 3, \"125\": 8, \"54\": 2, \"75\": 1, \"62\": 1, \"103\": 1, \"71\": 2, \"88\": 1, \"12\": 1, \"87\": 1, \"110\": 1, \"105\": 1}, \"53\": {\"53\": 9, \"27\": 1, \"117\": 1, \"101\": 2, \"24\": 1, \"111\": 1, \"127\": 1}, \"8\": {\"55\": 1, \"8\": 50, \"106\": 5, \"52\": 1, \"29\": 4, \"9\": 1, \"97\": 1, \"85\": 1, \"34\": 3, \"98\": 6, \"81\": 1, \"127\": 6, \"4\": 1, \"27\": 2, \"126\": 1, \"101\": 5, \"0\": 5, \"111\": 12, \"70\": 2, \"10\": 8, \"12\": 7, \"24\": 3, \"114\": 1, \"94\": 1, \"1\": 2, \"18\": 1, \"26\": 3, \"86\": 2, \"30\": 2, \"15\": 1, \"103\": 1, \"7\": 1, \"21\": 1, \"69\": 1, \"36\": 1}, \"49\": {\"49\": 3, \"69\": 3, \"29\": 1, \"66\": 1, \"8\": 2, \"5\": 4, \"41\": 2, \"88\": 1, \"91\": 1, \"30\": 1, \"44\": 2, \"89\": 1, \"111\": 3, \"122\": 1, \"129\": 1, \"32\": 2, \"102\": 1, \"87\": 1, \"33\": 1}, \"21\": {\"35\": 2, \"21\": 21, \"23\": 1, \"123\": 1, \"2\": 1, \"117\": 3, \"113\": 2, \"126\": 2, \"18\": 1, \"61\": 1, \"121\": 2, \"48\": 1, \"26\": 2}, \"18\": {\"18\": 106, \"63\": 1, \"113\": 1, \"126\": 3, \"26\": 8, \"81\": 1}, \"114\": {\"114\": 72, \"104\": 1, \"71\": 4, \"7\": 4, \"85\": 1, \"82\": 1, \"100\": 1, \"105\": 11, \"1\": 5, \"87\": 6, \"3\": 1, \"18\": 1, \"70\": 2, \"98\": 1, \"124\": 2, \"107\": 4, \"113\": 1}, \"58\": {\"58\": 11, \"60\": 1, \"6\": 1, \"15\": 1, \"12\": 2}, \"56\": {\"56\": 9, \"86\": 2, \"0\": 1}, \"80\": {\"80\": 14, \"96\": 1, \"105\": 1}, \"11\": {\"11\": 45, \"69\": 12, \"32\": 1, \"28\": 1, \"102\": 15, \"33\": 3, \"31\": 1, \"60\": 1, \"93\": 10, \"46\": 2, \"43\": 3, \"78\": 1, \"109\": 2, \"122\": 4, \"88\": 3, \"105\": 1, \"15\": 1, \"1\": 1, \"14\": 3, \"5\": 18, \"127\": 1, \"106\": 3, \"84\": 2, \"16\": 1, \"20\": 1, \"62\": 2, \"73\": 1, \"57\": 1, \"40\": 1, \"90\": 1, \"92\": 1, \"110\": 3, \"108\": 1, \"10\": 1, \"3\": 1, \"118\": 3, \"0\": 1, \"70\": 1}, \"15\": {\"58\": 2, \"9\": 2, \"94\": 10, \"103\": 1, \"54\": 1, \"15\": 42, \"12\": 8, \"25\": 1, \"41\": 1, \"24\": 5, \"91\": 1, \"101\": 4, \"97\": 2, \"111\": 5, \"117\": 1, \"98\": 2, \"106\": 1, \"8\": 12, \"125\": 5, \"10\": 7, \"127\": 2, \"26\": 2, \"27\": 1, \"49\": 3, \"36\": 3, \"0\": 3, \"30\": 1}, \"50\": {\"50\": 8, \"73\": 1, \"62\": 1, \"27\": 1, \"43\": 1, \"11\": 1, \"40\": 1, \"100\": 1, \"105\": 1}, \"111\": {\"111\": 99, \"68\": 2, \"30\": 3, \"8\": 7, \"101\": 6, \"12\": 3, \"106\": 3, \"70\": 1, \"27\": 1, \"98\": 1, \"24\": 1, \"94\": 1, \"127\": 5, \"95\": 1, \"77\": 1, \"49\": 1, \"26\": 1, \"125\": 1}, \"108\": {\"68\": 1, \"83\": 1, \"118\": 5, \"3\": 4, \"32\": 1, \"49\": 1, \"108\": 14, \"19\": 1, \"93\": 6, \"33\": 2, \"109\": 7, \"102\": 1, \"78\": 1, \"117\": 1, \"106\": 2, \"15\": 1, \"11\": 2, \"14\": 2, \"107\": 3, \"40\": 1, \"87\": 3, \"88\": 1, \"5\": 7, \"122\": 3, \"110\": 3, \"26\": 1, \"73\": 1, \"45\": 1, \"18\": 1, \"10\": 1, \"90\": 2, \"30\": 1, \"62\": 1, \"39\": 1, \"72\": 3, \"1\": 1, \"43\": 1, \"84\": 1, \"71\": 1, \"12\": 1}, \"104\": {\"104\": 12, \"100\": 1, \"128\": 1, \"89\": 1, \"32\": 1}, \"32\": {\"32\": 12, \"110\": 1, \"107\": 1, \"20\": 1, \"108\": 1, \"120\": 1, \"11\": 1, \"129\": 1, \"92\": 1, \"34\": 1, \"89\": 1, \"14\": 1, \"60\": 2, \"33\": 1, \"87\": 1, \"62\": 1}, \"68\": {\"15\": 2, \"68\": 12, \"35\": 1, \"103\": 1}, \"73\": {\"73\": 19, \"50\": 1, \"62\": 1, \"31\": 1, \"43\": 1, \"64\": 1}, \"92\": {\"92\": 18, \"44\": 1, \"96\": 1, \"84\": 3, \"48\": 1, \"105\": 1, \"89\": 1, \"109\": 2}, \"57\": {\"57\": 16}, \"40\": {\"40\": 86, \"70\": 1, \"114\": 2, \"107\": 12, \"18\": 2, \"7\": 2, \"1\": 8, \"87\": 4, \"105\": 1, \"124\": 1, \"14\": 4, \"104\": 2, \"49\": 1, \"26\": 1, \"3\": 5, \"33\": 1, \"126\": 1, \"88\": 1, \"71\": 1}, \"71\": {\"71\": 66, \"114\": 10, \"97\": 1, \"111\": 1, \"98\": 1, \"4\": 2, \"3\": 2, \"10\": 1, \"1\": 4, \"88\": 1, \"105\": 3, \"7\": 2, \"126\": 1, \"18\": 1, \"124\": 1, \"17\": 1, \"82\": 1, \"112\": 1, \"52\": 1, \"113\": 1, \"43\": 1, \"0\": 1}, \"121\": {\"121\": 18, \"21\": 3, \"126\": 1, \"117\": 3, \"113\": 1, \"13\": 1, \"16\": 1, \"39\": 2, \"31\": 1, \"67\": 1}, \"62\": {\"62\": 28, \"60\": 5, \"118\": 1, \"28\": 2, \"26\": 1, \"43\": 3, \"99\": 3, \"115\": 1, \"21\": 1, \"72\": 1, \"14\": 3, \"88\": 2, \"32\": 2, \"18\": 2, \"106\": 1, \"61\": 1, \"87\": 2, \"126\": 1}, \"39\": {\"21\": 1, \"39\": 47, \"18\": 7, \"63\": 1, \"88\": 1, \"67\": 1, \"109\": 3, \"126\": 8, \"44\": 2, \"121\": 1, \"26\": 7, \"117\": 7, \"113\": 7, \"81\": 3, \"16\": 4}, \"107\": {\"40\": 20, \"107\": 83, \"129\": 2, \"14\": 3, \"122\": 1, \"1\": 5, \"3\": 5, \"108\": 3, \"124\": 3, \"71\": 1, \"105\": 1, \"98\": 1, \"87\": 3, \"7\": 1, \"76\": 1, \"88\": 2, \"70\": 1, \"110\": 1, \"4\": 1, \"114\": 5, \"125\": 1}, \"60\": {\"7\": 4, \"60\": 8, \"97\": 1, \"43\": 1, \"22\": 2, \"120\": 1, \"71\": 1, \"110\": 2, \"70\": 1, \"62\": 3, \"74\": 1, \"33\": 1, \"95\": 1, \"118\": 1, \"66\": 1, \"53\": 1, \"87\": 1, \"88\": 1}, \"129\": {\"82\": 2, \"33\": 1, \"129\": 5, \"119\": 1, \"74\": 1, \"112\": 1, \"4\": 1, \"122\": 1, \"43\": 1, \"97\": 1, \"5\": 1, \"70\": 1, \"95\": 3, \"75\": 1, \"27\": 1, \"111\": 1, \"127\": 3, \"49\": 2}, \"84\": {\"84\": 104, \"80\": 1, \"112\": 2, \"44\": 3, \"88\": 2, \"117\": 2, \"102\": 5, \"3\": 2, \"62\": 1, \"113\": 1, \"90\": 1, \"109\": 2, \"39\": 2, \"108\": 1, \"11\": 2, \"93\": 1}, \"106\": {\"106\": 58, \"12\": 10, \"77\": 2, \"18\": 1, \"30\": 3, \"125\": 4, \"27\": 3, \"47\": 1, \"4\": 2, \"15\": 3, \"127\": 3, \"24\": 5, \"36\": 2, \"111\": 5, \"10\": 7, \"91\": 1, \"97\": 2, \"6\": 1, \"94\": 2, \"117\": 1}, \"87\": {\"60\": 1, \"87\": 54, \"107\": 8, \"1\": 6, \"114\": 8, \"128\": 1, \"105\": 4, \"19\": 2, \"40\": 10, \"70\": 5, \"99\": 1, \"14\": 3, \"88\": 7, \"3\": 2, \"122\": 1, \"7\": 4, \"93\": 1, \"76\": 2, \"0\": 2, \"46\": 1, \"49\": 1, \"33\": 1, \"72\": 1, \"4\": 1, \"109\": 1, \"110\": 2, \"43\": 1, \"10\": 1}, \"110\": {\"60\": 1, \"118\": 2, \"11\": 3, \"50\": 1, \"110\": 34, \"79\": 1, \"129\": 1, \"5\": 4, \"26\": 2, \"43\": 10, \"93\": 3, \"33\": 11, \"113\": 1, \"3\": 2, \"18\": 1, \"109\": 1, \"36\": 1, \"14\": 1, \"70\": 2, \"69\": 4, \"108\": 1, \"90\": 5, \"88\": 2}, \"118\": {\"118\": 37, \"60\": 2, \"108\": 7, \"70\": 2, \"20\": 4, \"5\": 3, \"114\": 1, \"46\": 1, \"57\": 1, \"74\": 1, \"32\": 1, \"122\": 6, \"90\": 2, \"43\": 5, \"33\": 9, \"69\": 3, \"99\": 2, \"3\": 2, \"93\": 5, \"11\": 2, \"110\": 2, \"26\": 2, \"73\": 1, \"129\": 2, \"109\": 4, \"116\": 1, \"78\": 2, \"88\": 1, \"7\": 1}, \"64\": {\"64\": 12, \"20\": 1, \"113\": 1, \"28\": 1, \"69\": 1}, \"82\": {\"0\": 1, \"82\": 16, \"17\": 4, \"56\": 1, \"86\": 1, \"85\": 2, \"88\": 1, \"1\": 1, \"89\": 1, \"4\": 2, \"107\": 1, \"98\": 1}, \"7\": {\"87\": 3, \"82\": 1, \"104\": 1, \"7\": 54, \"119\": 1, \"99\": 1, \"129\": 1, \"1\": 7, \"105\": 10, \"114\": 3, \"71\": 6, \"98\": 3, \"70\": 7, \"88\": 4, \"124\": 1, \"4\": 2, \"107\": 1, \"40\": 2, \"22\": 1, \"0\": 2, \"128\": 1, \"120\": 2, \"26\": 2, \"85\": 1, \"58\": 2, \"46\": 2, \"27\": 1, \"126\": 1, \"18\": 1}, \"0\": {\"0\": 40, \"12\": 4, \"91\": 1, \"34\": 2, \"37\": 2, \"95\": 2, \"87\": 1, \"70\": 5, \"101\": 10, \"27\": 1, \"111\": 10, \"117\": 1, \"8\": 5, \"98\": 4, \"71\": 2, \"18\": 1, \"4\": 6, \"88\": 1, \"10\": 2, \"90\": 1, \"55\": 1, \"9\": 1, \"127\": 5, \"85\": 2, \"126\": 2, \"97\": 2, \"94\": 2}, \"41\": {\"68\": 1, \"41\": 6, \"39\": 1, \"24\": 1, \"0\": 1, \"91\": 1, \"101\": 1, \"120\": 1, \"34\": 1, \"105\": 1, \"98\": 1}, \"102\": {\"102\": 100, \"38\": 1, \"82\": 1, \"11\": 4, \"44\": 5, \"43\": 1, \"69\": 4, \"105\": 2, \"109\": 2, \"124\": 1, \"126\": 1, \"116\": 1, \"20\": 1, \"74\": 2, \"108\": 1, \"78\": 1, \"0\": 2}, \"89\": {\"85\": 1, \"89\": 11, \"22\": 1, \"70\": 3, \"18\": 1, \"114\": 2, \"27\": 1, \"86\": 1, \"34\": 1, \"97\": 1, \"128\": 3, \"17\": 1, \"120\": 1, \"105\": 1, \"8\": 1, \"7\": 2}, \"26\": {\"18\": 15, \"26\": 92, \"61\": 2, \"126\": 7, \"113\": 1, \"78\": 1, \"108\": 1, \"81\": 1, \"40\": 1, \"84\": 1, \"117\": 2, \"39\": 1, \"118\": 1, \"69\": 1, \"16\": 1}, \"103\": {\"103\": 10, \"84\": 1, \"106\": 2, \"111\": 1, \"42\": 2}, \"90\": {\"90\": 66, \"84\": 2, \"88\": 5, \"44\": 4, \"102\": 2, \"93\": 7, \"43\": 2, \"69\": 10, \"109\": 8, \"5\": 2, \"108\": 1, \"11\": 2, \"117\": 2, \"118\": 2, \"114\": 1, \"110\": 2}, \"14\": {\"14\": 86, \"62\": 2, \"107\": 3, \"72\": 1, \"60\": 1, \"87\": 3, \"90\": 1, \"43\": 2, \"88\": 3, \"40\": 6, \"115\": 1, \"5\": 1, \"109\": 1, \"122\": 1}, \"9\": {\"9\": 20, \"30\": 1, \"51\": 1, \"58\": 1, \"47\": 1, \"15\": 1, \"12\": 1, \"6\": 1, \"27\": 1}, \"5\": {\"83\": 1, \"102\": 4, \"5\": 93, \"19\": 1, \"118\": 3, \"119\": 1, \"6\": 1, \"110\": 1, \"44\": 1, \"8\": 1, \"105\": 1, \"93\": 4, \"106\": 1, \"113\": 1, \"33\": 3, \"26\": 2, \"43\": 1, \"31\": 1, \"11\": 8, \"90\": 1, \"69\": 1, \"88\": 1, \"78\": 1, \"4\": 1, \"70\": 1, \"3\": 1}, \"22\": {\"22\": 10, \"118\": 1, \"79\": 1, \"119\": 1, \"60\": 1, \"76\": 1, \"107\": 1}, \"2\": {\"113\": 2, \"2\": 20, \"96\": 1, \"121\": 1, \"16\": 3, \"26\": 1}, \"77\": {\"77\": 12}, \"59\": {\"77\": 2, \"59\": 6, \"39\": 1, \"26\": 1, \"111\": 2}, \"127\": {\"127\": 56, \"52\": 2, \"95\": 3, \"103\": 1, \"8\": 11, \"113\": 1, \"111\": 2, \"90\": 1, \"27\": 4, \"101\": 5, \"81\": 1, \"30\": 2, \"0\": 3, \"91\": 1, \"98\": 2, \"122\": 1, \"4\": 1, \"117\": 1, \"12\": 1, \"10\": 1, \"106\": 2}, \"61\": {\"61\": 16}, \"17\": {\"17\": 16, \"98\": 1, \"81\": 1, \"27\": 2}, \"45\": {\"45\": 15, \"11\": 1}, \"19\": {\"11\": 3, \"19\": 2, \"89\": 1, \"55\": 1, \"84\": 1, \"74\": 2, \"40\": 1, \"122\": 1, \"7\": 2, \"70\": 2, \"5\": 2, \"102\": 2, \"0\": 1, \"79\": 1, \"127\": 1, \"110\": 1, \"33\": 1, \"124\": 2, \"1\": 1}, \"52\": {\"52\": 11, \"37\": 1, \"113\": 1, \"91\": 2, \"29\": 1, \"27\": 1, \"127\": 1, \"82\": 2}, \"123\": {\"77\": 1, \"123\": 11, \"117\": 1, \"16\": 1, \"54\": 1, \"75\": 1}, \"20\": {\"20\": 8, \"69\": 1, \"88\": 1, \"11\": 3, \"5\": 1, \"57\": 2}, \"112\": {\"19\": 1, \"77\": 1, \"71\": 2, \"4\": 2, \"112\": 8, \"85\": 1, \"126\": 1}, \"37\": {\"37\": 15, \"91\": 1}, \"29\": {\"77\": 2, \"29\": 22, \"101\": 1, \"8\": 2, \"0\": 1, \"91\": 2, \"53\": 1, \"10\": 1}, \"128\": {\"7\": 2, \"104\": 2, \"128\": 8, \"1\": 1, \"114\": 2, \"89\": 1, \"82\": 1, \"97\": 1, \"50\": 1, \"56\": 1, \"112\": 1, \"70\": 1, \"71\": 2}, \"100\": {\"104\": 1, \"100\": 11, \"128\": 2, \"114\": 2, \"124\": 1, \"43\": 1, \"71\": 1, \"107\": 1}, \"67\": {\"67\": 5, \"117\": 2, \"28\": 1, \"39\": 2, \"69\": 1, \"2\": 1, \"45\": 2, \"3\": 1, \"19\": 1}, \"12\": {\"8\": 10, \"113\": 1, \"12\": 44, \"106\": 4, \"34\": 1, \"29\": 1, \"15\": 5, \"127\": 8, \"24\": 4, \"111\": 5, \"99\": 1, \"27\": 2, \"10\": 4, \"95\": 1, \"9\": 1, \"41\": 1, \"125\": 1, \"87\": 1, \"101\": 3, \"18\": 1, \"117\": 1}, \"101\": {\"101\": 62, \"91\": 1, \"86\": 3, \"0\": 9, \"27\": 3, \"8\": 12, \"10\": 7, \"106\": 2, \"98\": 2, \"111\": 5, \"24\": 2, \"12\": 4, \"127\": 7, \"26\": 1, \"41\": 1, \"87\": 1, \"4\": 2, \"15\": 1, \"7\": 1, \"14\": 1, \"105\": 1}, \"76\": {\"3\": 1, \"76\": 12, \"10\": 1, \"62\": 1, \"40\": 1}, \"70\": {\"86\": 2, \"79\": 1, \"95\": 1, \"70\": 33, \"27\": 5, \"68\": 1, \"17\": 4, \"4\": 3, \"87\": 4, \"40\": 2, \"71\": 2, \"3\": 1, \"108\": 2, \"98\": 8, \"105\": 6, \"10\": 4, \"62\": 1, \"8\": 3, \"88\": 6, \"122\": 4, \"124\": 1, \"43\": 3, \"90\": 4, \"117\": 2, \"7\": 4, \"24\": 4, \"44\": 1, \"103\": 1, \"128\": 1, \"120\": 1, \"49\": 1, \"114\": 5, \"93\": 1, \"127\": 2}, \"31\": {\"18\": 1, \"31\": 10, \"33\": 1, \"45\": 2, \"43\": 1, \"44\": 1}, \"86\": {\"86\": 24, \"52\": 1, \"101\": 1, \"4\": 1, \"0\": 1}, \"88\": {\"39\": 2, \"76\": 1, \"38\": 2, \"19\": 1, \"128\": 1, \"43\": 3, \"88\": 18, \"66\": 1, \"90\": 8, \"69\": 6, \"93\": 1, \"42\": 1, \"84\": 2, \"105\": 9, \"44\": 3, \"124\": 3, \"98\": 3, \"14\": 2, \"10\": 2, \"4\": 7, \"7\": 6, \"109\": 8, \"108\": 2, \"27\": 2, \"16\": 3, \"24\": 2, \"114\": 2, \"18\": 1, \"70\": 3, \"1\": 3, \"91\": 1, \"32\": 1, \"112\": 1, \"87\": 3, \"99\": 2, \"111\": 1, \"113\": 1, \"78\": 1, \"71\": 5, \"40\": 1, \"72\": 1, \"122\": 1, \"107\": 2, \"5\": 1, \"118\": 1, \"3\": 1}, \"3\": {\"3\": 82, \"62\": 1, \"100\": 1, \"79\": 3, \"14\": 3, \"40\": 4, \"70\": 1, \"18\": 2, \"107\": 11, \"117\": 1, \"71\": 1, \"108\": 1, \"8\": 1, \"87\": 1, \"115\": 2, \"73\": 2, \"28\": 1, \"118\": 1, \"1\": 2, \"88\": 2, \"43\": 1, \"114\": 1, \"33\": 1}, \"117\": {\"117\": 102, \"113\": 6, \"78\": 1, \"81\": 1, \"126\": 2, \"48\": 1, \"16\": 2, \"26\": 1, \"39\": 2, \"118\": 1, \"88\": 1}, \"30\": {\"77\": 1, \"9\": 2, \"10\": 3, \"52\": 1, \"106\": 3, \"47\": 3, \"89\": 1, \"30\": 14, \"8\": 4, \"127\": 4, \"125\": 4, \"15\": 5, \"4\": 2, \"36\": 4, \"0\": 2, \"126\": 1, \"111\": 2, \"27\": 1, \"98\": 2, \"101\": 2, \"75\": 1, \"86\": 1, \"42\": 1, \"34\": 1, \"91\": 1, \"58\": 1, \"25\": 1, \"95\": 1, \"18\": 1, \"94\": 1, \"6\": 2, \"49\": 1, \"12\": 1, \"117\": 1}, \"96\": {\"122\": 2, \"96\": 12, \"20\": 1, \"62\": 1, \"80\": 1, \"84\": 2, \"118\": 1}, \"27\": {\"27\": 17, \"117\": 2, \"70\": 4, \"106\": 3, \"62\": 2, \"12\": 5, \"95\": 1, \"85\": 1, \"8\": 5, \"52\": 1, \"127\": 1, \"15\": 1, \"105\": 4, \"101\": 1, \"39\": 1, \"110\": 2, \"10\": 3, \"111\": 7, \"118\": 1, \"126\": 1, \"114\": 3, \"109\": 1, \"26\": 1, \"124\": 1, \"113\": 1, \"7\": 5, \"91\": 1, \"4\": 1, \"98\": 3, \"24\": 2, \"38\": 1, \"87\": 3, \"120\": 1, \"34\": 2, \"42\": 1, \"9\": 1, \"125\": 1, \"30\": 1, \"72\": 1, \"0\": 2, \"18\": 1, \"71\": 2, \"14\": 1}, \"122\": {\"122\": 32, \"43\": 8, \"19\": 3, \"74\": 1, \"118\": 4, \"108\": 2, \"69\": 2, \"33\": 3, \"93\": 2, \"3\": 2, \"99\": 3, \"90\": 3, \"39\": 1, \"11\": 1, \"70\": 1, \"129\": 1, \"73\": 3, \"45\": 1, \"79\": 2, \"60\": 2, \"110\": 1, \"5\": 1, \"109\": 2, \"78\": 2, \"127\": 1}, \"120\": {\"120\": 16, \"21\": 1, \"82\": 1, \"7\": 2}, \"44\": {\"44\": 37, \"20\": 1, \"102\": 7, \"110\": 2, \"105\": 2, \"38\": 2, \"84\": 4, \"90\": 1, \"18\": 1, \"109\": 3, \"118\": 1, \"16\": 1, \"11\": 2}, \"79\": {\"79\": 9, \"73\": 2, \"3\": 1, \"33\": 2, \"26\": 1, \"19\": 1}, \"105\": {\"100\": 1, \"128\": 3, \"1\": 3, \"105\": 44, \"42\": 2, \"129\": 1, \"19\": 1, \"71\": 3, \"11\": 1, \"70\": 3, \"115\": 1, \"78\": 1, \"98\": 3, \"88\": 3, \"40\": 5, \"7\": 3, \"16\": 2, \"87\": 8, \"82\": 1, \"89\": 1, \"81\": 1, \"62\": 1, \"14\": 1, \"107\": 1, \"114\": 5, \"124\": 1}, \"95\": {\"95\": 17, \"86\": 1, \"8\": 4, \"34\": 1, \"127\": 3, \"16\": 1, \"68\": 1, \"55\": 1, \"111\": 1, \"0\": 1, \"117\": 1}, \"109\": {\"118\": 8, \"109\": 43, \"67\": 1, \"72\": 1, \"88\": 2, \"122\": 4, \"116\": 2, \"102\": 9, \"66\": 1, \"93\": 3, \"44\": 4, \"1\": 3, \"90\": 3, \"84\": 5, \"108\": 4, \"70\": 1, \"5\": 2, \"33\": 1, \"0\": 1, \"16\": 1, \"69\": 7, \"11\": 4, \"80\": 1, \"78\": 2, \"110\": 2, \"3\": 1}, \"16\": {\"67\": 2, \"16\": 88, \"113\": 6, \"39\": 3, \"118\": 1, \"107\": 1, \"43\": 1, \"102\": 2, \"18\": 1, \"26\": 1, \"90\": 2, \"44\": 1, \"13\": 3, \"62\": 1, \"2\": 1, \"84\": 2, \"78\": 1, \"69\": 1}, \"36\": {\"36\": 46, \"58\": 1, \"18\": 1, \"6\": 1, \"125\": 9, \"12\": 1, \"15\": 3, \"101\": 3, \"30\": 3, \"27\": 2, \"106\": 6, \"10\": 3, \"94\": 1, \"26\": 3, \"111\": 6, \"24\": 1, \"8\": 4, \"4\": 1, \"21\": 1, \"98\": 1, \"127\": 1}, \"125\": {\"125\": 84, \"36\": 11, \"6\": 3, \"94\": 13, \"106\": 4, \"113\": 1, \"10\": 6, \"15\": 7, \"24\": 6, \"111\": 1}, \"97\": {\"97\": 6, \"65\": 1, \"120\": 1, \"10\": 2, \"98\": 2, \"25\": 1, \"71\": 1, \"29\": 1, \"16\": 1, \"127\": 1, \"24\": 1, \"43\": 2}, \"91\": {\"91\": 15, \"101\": 2, \"54\": 1, \"86\": 2, \"52\": 1, \"27\": 1, \"68\": 1, \"47\": 1}, \"28\": {\"28\": 17, \"129\": 1, \"64\": 1, \"14\": 1}, \"81\": {\"81\": 32, \"39\": 2, \"117\": 2}, \"126\": {\"35\": 1, \"18\": 15, \"126\": 61, \"61\": 1, \"117\": 9, \"110\": 1, \"113\": 6, \"39\": 7, \"102\": 1, \"90\": 2, \"16\": 6, \"26\": 8, \"65\": 2, \"38\": 1, \"88\": 1}, \"4\": {\"52\": 1, \"4\": 56, \"112\": 2, \"27\": 2, \"126\": 1, \"111\": 1, \"98\": 8, \"0\": 3, \"10\": 3, \"18\": 2, \"113\": 1, \"24\": 1, \"1\": 4, \"101\": 2, \"120\": 1, \"17\": 1, \"55\": 1, \"82\": 2, \"71\": 1, \"110\": 1, \"12\": 1, \"127\": 5, \"8\": 3, \"26\": 1}, \"10\": {\"10\": 19, \"36\": 4, \"129\": 1, \"54\": 1, \"60\": 1, \"126\": 1, \"15\": 12, \"89\": 1, \"87\": 5, \"125\": 13, \"88\": 5, \"94\": 6, \"105\": 4, \"27\": 2, \"12\": 1, \"4\": 1, \"70\": 10, \"122\": 1, \"98\": 1, \"30\": 2, \"24\": 5, \"1\": 1, \"85\": 2, \"0\": 1, \"32\": 1, \"128\": 4, \"103\": 1, \"62\": 1, \"82\": 1, \"72\": 1, \"14\": 2, \"124\": 1, \"43\": 1, \"127\": 1, \"113\": 1, \"8\": 3, \"7\": 2, \"114\": 1, \"106\": 1, \"71\": 1, \"107\": 1}, \"63\": {\"63\": 13, \"35\": 1, \"39\": 1, \"113\": 1}, \"43\": {\"83\": 2, \"19\": 2, \"1\": 4, \"118\": 7, \"14\": 8, \"88\": 3, \"43\": 27, \"40\": 6, \"114\": 1, \"69\": 2, \"3\": 13, \"70\": 2, \"108\": 1, \"84\": 1, \"110\": 6, \"105\": 1, \"33\": 6, \"122\": 7, \"11\": 4, \"87\": 2, \"99\": 1, \"62\": 1, \"73\": 1, \"129\": 1, \"93\": 1, \"101\": 1, \"71\": 1, \"107\": 3, \"5\": 1, \"90\": 2}, \"116\": {\"116\": 13, \"122\": 1, \"69\": 1, \"109\": 3, \"11\": 1, \"102\": 2, \"99\": 1, \"0\": 1, \"108\": 1, \"5\": 2, \"93\": 1, \"90\": 1}, \"1\": {\"1\": 46, \"129\": 2, \"49\": 1, \"42\": 1, \"114\": 12, \"15\": 1, \"87\": 2, \"111\": 1, \"71\": 9, \"107\": 12, \"40\": 11, \"124\": 2, \"69\": 1, \"14\": 1, \"106\": 1, \"39\": 1, \"84\": 1, \"7\": 1, \"70\": 1, \"126\": 1}, \"94\": {\"54\": 2, \"10\": 2, \"126\": 1, \"94\": 38, \"30\": 4, \"111\": 2, \"24\": 7, \"108\": 1, \"15\": 7, \"18\": 1, \"12\": 3, \"125\": 9, \"8\": 2, \"106\": 3, \"26\": 1, \"47\": 1, \"36\": 2, \"127\": 1, \"4\": 1}, \"38\": {\"38\": 12, \"109\": 3, \"116\": 1}, \"54\": {\"54\": 15, \"36\": 1}, \"74\": {\"74\": 12, \"5\": 2, \"7\": 1, \"33\": 1}, \"25\": {\"75\": 1, \"25\": 14, \"15\": 1}, \"75\": {\"75\": 14, \"59\": 1, \"15\": 1}, \"119\": {\"119\": 12, \"85\": 2, \"115\": 1, \"123\": 1}, \"46\": {\"46\": 8, \"119\": 1, \"104\": 2, \"124\": 2, \"114\": 2, \"22\": 1, \"60\": 1, \"3\": 1, \"1\": 2}, \"23\": {\"123\": 1, \"54\": 1, \"23\": 1, \"126\": 1, \"0\": 1, \"113\": 1, \"39\": 2, \"86\": 2, \"81\": 1, \"4\": 1, \"18\": 2, \"75\": 1, \"120\": 1}, \"99\": {\"33\": 2, \"99\": 28, \"62\": 2, \"110\": 1, \"88\": 2, \"122\": 1, \"70\": 1, \"43\": 1, \"3\": 1, \"14\": 1}, \"33\": {\"33\": 101, \"110\": 7, \"122\": 2, \"11\": 3, \"90\": 1, \"41\": 1, \"73\": 1, \"19\": 1, \"16\": 1}, \"47\": {\"47\": 10, \"9\": 1, \"30\": 1}, \"115\": {\"87\": 3, \"28\": 1, \"115\": 5, \"122\": 1, \"3\": 1, \"62\": 1, \"5\": 1, \"128\": 2, \"76\": 1}, \"6\": {\"6\": 7, \"25\": 1, \"97\": 2, \"58\": 2, \"125\": 2, \"75\": 3, \"10\": 1, \"9\": 1, \"42\": 2, \"15\": 1, \"39\": 1, \"24\": 1}, \"65\": {\"65\": 9, \"84\": 1, \"26\": 2}, \"66\": {\"66\": 12, \"90\": 2, \"38\": 2}, \"78\": {\"32\": 1, \"6\": 1, \"26\": 1, \"89\": 1, \"88\": 4, \"1\": 2, \"87\": 1, \"127\": 1, \"40\": 3, \"16\": 4, \"8\": 1, \"14\": 1, \"93\": 1, \"78\": 2, \"70\": 2, \"62\": 1, \"66\": 1, \"60\": 1, \"30\": 1, \"109\": 1, \"36\": 1, \"39\": 1, \"122\": 1, \"98\": 1, \"105\": 1}, \"98\": {\"98\": 50, \"27\": 3, \"86\": 3, \"34\": 2, \"114\": 4, \"85\": 1, \"8\": 2, \"95\": 1, \"4\": 10, \"70\": 5, \"71\": 4, \"101\": 4, \"111\": 1, \"10\": 5, \"105\": 1, \"127\": 2, \"0\": 8, \"7\": 4, \"24\": 2, \"120\": 2, \"37\": 1, \"106\": 1}, \"93\": {\"110\": 7, \"93\": 40, \"23\": 1, \"122\": 3, \"44\": 2, \"11\": 10, \"118\": 1, \"5\": 14, \"90\": 13, \"109\": 8, \"102\": 5, \"69\": 4, \"88\": 2, \"114\": 1, \"62\": 1, \"87\": 1, \"72\": 1, \"99\": 1, \"33\": 1}, \"48\": {\"48\": 11, \"122\": 1, \"62\": 1, \"16\": 1, \"13\": 1, \"121\": 1}, \"124\": {\"124\": 91, \"1\": 2, \"114\": 5, \"88\": 1, \"7\": 2, \"71\": 3, \"4\": 2, \"106\": 2, \"100\": 1, \"10\": 1, \"107\": 1, \"126\": 1, \"105\": 2}}, \"Wisig_2\": {\"115\": {\"115\": 10, \"59\": 1, \"41\": 1}, \"34\": {\"114\": 1, \"7\": 3, \"34\": 12, \"91\": 1, \"59\": 1, \"110\": 2, \"111\": 2, \"42\": 1, \"49\": 2, \"56\": 1, \"124\": 1, \"74\": 1, \"108\": 2, \"11\": 1, \"98\": 1}, \"97\": {\"97\": 6, \"27\": 2, \"75\": 3, \"90\": 1, \"94\": 2, \"79\": 1, \"52\": 3, \"101\": 2}, \"100\": {\"100\": 14, \"102\": 1, \"89\": 1}, \"129\": {\"114\": 1, \"129\": 17, \"11\": 2, \"107\": 1, \"62\": 1, \"40\": 2, \"12\": 1, \"32\": 1, \"19\": 1, \"115\": 1, \"5\": 2, \"98\": 1, \"3\": 1}, \"90\": {\"90\": 103, \"70\": 8, \"63\": 2, \"119\": 1, \"83\": 1, \"126\": 7, \"109\": 5, \"87\": 1, \"88\": 6, \"33\": 3, \"93\": 4, \"69\": 1}, \"125\": {\"97\": 2, \"94\": 3, \"106\": 7, \"107\": 2, \"125\": 93, \"75\": 1, \"36\": 6, \"27\": 1, \"15\": 7, \"108\": 2, \"24\": 5, \"101\": 1, \"2\": 1, \"51\": 1}, \"7\": {\"34\": 1, \"7\": 72, \"17\": 1, \"56\": 1, \"86\": 1, \"98\": 8, \"110\": 2, \"122\": 5, \"71\": 4, \"114\": 4, \"4\": 3, \"24\": 3, \"117\": 2, \"108\": 6, \"124\": 1, \"127\": 3, \"41\": 1, \"8\": 4, \"30\": 1, \"93\": 1, \"105\": 1, \"12\": 1, \"11\": 2}, \"92\": {\"33\": 1, \"100\": 1, \"92\": 23, \"82\": 1, \"67\": 1, \"76\": 1}, \"114\": {\"114\": 79, \"66\": 3, \"39\": 1, \"124\": 5, \"40\": 1, \"3\": 2, \"4\": 1, \"71\": 5, \"127\": 1, \"24\": 3, \"108\": 3, \"8\": 2, \"104\": 1, \"0\": 1, \"107\": 1, \"122\": 2, \"5\": 1, \"70\": 1, \"12\": 2, \"7\": 1}, \"80\": {\"80\": 14, \"73\": 1, \"2\": 1}, \"16\": {\"16\": 68, \"93\": 10, \"88\": 2, \"83\": 1, \"82\": 3, \"31\": 1, \"69\": 10, \"33\": 2, \"102\": 5, \"117\": 1, \"109\": 4, \"90\": 5, \"87\": 2, \"26\": 1, \"57\": 2, \"72\": 2, \"39\": 1, \"70\": 1, \"3\": 1}, \"69\": {\"102\": 1, \"69\": 94, \"16\": 4, \"89\": 2, \"43\": 1, \"93\": 2, \"117\": 1, \"87\": 1, \"109\": 2, \"39\": 2, \"26\": 1, \"118\": 1, \"21\": 1, \"84\": 2, \"3\": 1}, \"102\": {\"102\": 103, \"116\": 1, \"109\": 2, \"90\": 1, \"69\": 1, \"31\": 1, \"42\": 1, \"87\": 2, \"16\": 1, \"88\": 1}, \"33\": {\"33\": 114, \"118\": 1, \"1\": 4, \"126\": 5, \"84\": 3, \"122\": 1, \"87\": 2}, \"17\": {\"34\": 2, \"17\": 8, \"54\": 1, \"26\": 1, \"8\": 1, \"127\": 2, \"125\": 1}, \"27\": {\"97\": 1, \"27\": 29, \"8\": 1, \"36\": 8, \"103\": 1, \"6\": 1, \"49\": 1, \"111\": 1, \"106\": 5, \"94\": 1, \"24\": 1, \"16\": 1, \"101\": 1, \"113\": 1, \"114\": 1, \"125\": 2, \"9\": 2, \"65\": 1, \"124\": 1, \"52\": 2, \"34\": 1, \"18\": 1, \"15\": 2, \"0\": 2}, \"117\": {\"117\": 95, \"18\": 9, \"113\": 1, \"26\": 1}, \"14\": {\"62\": 4, \"14\": 37, \"78\": 2, \"85\": 1, \"129\": 1, \"121\": 1, \"99\": 1, \"11\": 1}, \"86\": {\"86\": 26, \"7\": 1, \"42\": 1, \"24\": 2, \"11\": 1, \"107\": 1}, \"0\": {\"17\": 1, \"0\": 56, \"21\": 1, \"52\": 2, \"120\": 1, \"91\": 1, \"101\": 11, \"7\": 3, \"94\": 4, \"111\": 8, \"98\": 1, \"29\": 2, \"8\": 3, \"127\": 10, \"30\": 4, \"108\": 2, \"97\": 2, \"24\": 2, \"15\": 1, \"39\": 1}, \"62\": {\"62\": 114, \"50\": 2, \"70\": 4, \"43\": 7, \"44\": 3, \"10\": 1, \"14\": 2, \"101\": 1, \"105\": 2, \"7\": 1, \"26\": 1}, \"39\": {\"39\": 63, \"48\": 1, \"109\": 5, \"72\": 1, \"57\": 1, \"117\": 3, \"110\": 1, \"118\": 1, \"69\": 3, \"93\": 4, \"89\": 1, \"83\": 2, \"87\": 1, \"16\": 2, \"113\": 1, \"88\": 3, \"26\": 5, \"126\": 1, \"70\": 2, \"120\": 1, \"18\": 3, \"21\": 2, \"102\": 2, \"2\": 1, \"7\": 1, \"84\": 1}, \"19\": {\"19\": 18, \"73\": 3, \"62\": 2, \"55\": 1, \"37\": 1, \"107\": 1, \"129\": 1, \"1\": 1}, \"44\": {\"44\": 91, \"43\": 2, \"90\": 1, \"62\": 1, \"33\": 1, \"78\": 1, \"1\": 2, \"126\": 1}, \"104\": {\"86\": 3, \"17\": 3, \"54\": 2, \"104\": 8, \"110\": 1, \"66\": 1, \"129\": 1, \"62\": 1}, \"3\": {\"19\": 2, \"86\": 1, \"128\": 1, \"3\": 85, \"71\": 4, \"62\": 1, \"5\": 10, \"107\": 3, \"87\": 1, \"24\": 2, \"18\": 1, \"40\": 3, \"114\": 2, \"122\": 1, \"26\": 1, \"105\": 2, \"66\": 1, \"21\": 1, \"42\": 1, \"93\": 1, \"8\": 3, \"108\": 2, \"124\": 1}, \"10\": {\"0\": 1, \"10\": 26, \"53\": 2, \"60\": 2, \"41\": 1, \"120\": 1, \"14\": 1, \"43\": 2, \"32\": 1, \"128\": 1, \"108\": 1, \"78\": 1, \"8\": 1, \"105\": 1, \"44\": 1, \"11\": 1, \"98\": 2, \"18\": 2, \"7\": 2, \"29\": 1, \"21\": 1, \"24\": 1, \"72\": 1, \"4\": 1, \"122\": 2, \"62\": 1, \"40\": 2}, \"61\": {\"61\": 10, \"68\": 1, \"121\": 2, \"96\": 1, \"74\": 2, \"63\": 2, \"39\": 1, \"22\": 1}, \"111\": {\"103\": 2, \"111\": 80, \"91\": 1, \"12\": 3, \"128\": 1, \"24\": 3, \"30\": 5, \"101\": 5, \"0\": 6, \"127\": 7, \"98\": 1}, \"68\": {\"98\": 2, \"68\": 9, \"127\": 1, \"86\": 2, \"4\": 1, \"54\": 1}, \"101\": {\"103\": 3, \"101\": 111, \"58\": 1, \"24\": 1, \"26\": 1, \"94\": 3, \"8\": 1, \"30\": 5, \"0\": 6, \"98\": 1, \"106\": 1, \"111\": 4, \"36\": 2, \"6\": 1, \"113\": 1, \"15\": 2}, \"36\": {\"103\": 1, \"101\": 8, \"121\": 1, \"36\": 55, \"127\": 3, \"27\": 6, \"58\": 2, \"15\": 8, \"9\": 4, \"18\": 2, \"6\": 1, \"24\": 3, \"114\": 1, \"111\": 1, \"30\": 6, \"125\": 5, \"98\": 1, \"106\": 7, \"117\": 3, \"12\": 2, \"75\": 1, \"52\": 2, \"51\": 1, \"59\": 1, \"4\": 1, \"93\": 1, \"94\": 1}, \"120\": {\"120\": 19, \"93\": 1}, \"103\": {\"103\": 13, \"36\": 1, \"25\": 1, \"54\": 1}, \"47\": {\"111\": 1, \"47\": 8, \"43\": 1, \"50\": 2}, \"98\": {\"68\": 3, \"98\": 55, \"4\": 3, \"7\": 7, \"111\": 4, \"30\": 2, \"95\": 1, \"8\": 5, \"71\": 3, \"0\": 3, \"12\": 6, \"114\": 5, \"11\": 3, \"127\": 7, \"122\": 2, \"108\": 4, \"24\": 1, \"91\": 1, \"60\": 1, \"35\": 1, \"110\": 1, \"106\": 1, \"86\": 1}, \"76\": {\"76\": 9, \"37\": 2, \"45\": 1, \"62\": 1, \"1\": 1, \"43\": 1, \"40\": 1}, \"88\": {\"88\": 31, \"16\": 6, \"118\": 5, \"93\": 6, \"57\": 1, \"84\": 3, \"31\": 1, \"63\": 2, \"87\": 6, \"14\": 1, \"22\": 1, \"90\": 11, \"62\": 4, \"44\": 7, \"2\": 1, \"83\": 2, \"109\": 13, \"78\": 1, \"39\": 4, \"69\": 4, \"102\": 4, \"18\": 2, \"126\": 3, \"23\": 1, \"70\": 1, \"33\": 1, \"3\": 1, \"26\": 1}, \"93\": {\"93\": 60, \"88\": 4, \"96\": 3, \"109\": 2, \"1\": 1, \"105\": 1, \"83\": 1, \"118\": 1, \"44\": 1, \"126\": 2, \"89\": 2, \"90\": 9, \"4\": 1, \"71\": 1, \"69\": 11, \"102\": 16, \"84\": 2, \"117\": 1, \"70\": 4, \"16\": 9, \"122\": 2, \"72\": 1, \"87\": 2, \"40\": 1}, \"23\": {\"120\": 1, \"98\": 2, \"105\": 2, \"11\": 3, \"127\": 1, \"18\": 1, \"21\": 4, \"8\": 1, \"23\": 3, \"7\": 3, \"69\": 1, \"117\": 2, \"5\": 2, \"111\": 1, \"109\": 1, \"12\": 2, \"4\": 4, \"116\": 2, \"99\": 1, \"34\": 1, \"121\": 1, \"87\": 1, \"113\": 2, \"16\": 1, \"30\": 1}, \"108\": {\"86\": 2, \"66\": 2, \"104\": 1, \"122\": 13, \"112\": 1, \"24\": 2, \"32\": 2, \"108\": 30, \"10\": 1, \"128\": 2, \"34\": 1, \"62\": 2, \"127\": 1, \"98\": 2, \"107\": 2, \"71\": 5, \"105\": 5, \"114\": 7, \"8\": 5, \"5\": 2, \"30\": 3, \"109\": 1, \"12\": 3, \"106\": 2, \"40\": 2, \"101\": 2, \"7\": 10, \"3\": 1, \"110\": 1, \"79\": 1, \"4\": 2, \"97\": 1, \"41\": 2, \"124\": 2, \"11\": 2, \"111\": 1}, \"51\": {\"54\": 3, \"79\": 2, \"90\": 2, \"51\": 3, \"111\": 1, \"58\": 2, \"8\": 2, \"6\": 1, \"15\": 1, \"127\": 2, \"118\": 1}, \"13\": {\"13\": 5, \"48\": 4, \"100\": 2, \"89\": 1, \"81\": 2, \"2\": 1, \"113\": 1}, \"77\": {\"77\": 13, \"0\": 1, \"91\": 2}, \"46\": {\"46\": 14, \"84\": 2}, \"96\": {\"82\": 1, \"13\": 1, \"70\": 1, \"96\": 14, \"69\": 1, \"90\": 2}, \"119\": {\"119\": 16, \"46\": 1, \"33\": 1, \"106\": 1, \"126\": 1}, \"121\": {\"121\": 27, \"2\": 1, \"81\": 2, \"99\": 3, \"65\": 2, \"113\": 1}, \"54\": {\"54\": 11, \"28\": 1, \"68\": 2, \"111\": 2, \"65\": 1, \"34\": 2, \"127\": 1}, \"82\": {\"82\": 27, \"118\": 1, \"62\": 2, \"60\": 3, \"65\": 1, \"83\": 1, \"31\": 1}, \"12\": {\"77\": 1, \"17\": 1, \"68\": 2, \"12\": 34, \"108\": 3, \"97\": 2, \"91\": 2, \"111\": 7, \"24\": 3, \"18\": 1, \"0\": 3, \"127\": 8, \"29\": 1, \"8\": 4, \"30\": 4, \"124\": 1, \"52\": 2, \"4\": 1, \"34\": 1, \"113\": 1, \"62\": 1, \"114\": 1, \"98\": 3, \"102\": 1}, \"74\": {\"74\": 13, \"29\": 2, \"81\": 1}, \"66\": {\"66\": 17, \"24\": 1, \"27\": 1, \"71\": 1}, \"28\": {\"28\": 12, \"85\": 2, \"55\": 1, \"64\": 2, \"67\": 1, \"40\": 1, \"43\": 1}, \"52\": {\"52\": 17, \"101\": 1, \"106\": 1, \"25\": 1}, \"41\": {\"41\": 9, \"15\": 1, \"108\": 2, \"128\": 1, \"29\": 1, \"4\": 1, \"10\": 2, \"7\": 1, \"125\": 1, \"91\": 1}, \"81\": {\"81\": 20, \"99\": 1, \"26\": 2, \"65\": 1}, \"48\": {\"13\": 2, \"48\": 14, \"69\": 1, \"23\": 2, \"92\": 1}, \"113\": {\"113\": 55, \"117\": 9, \"18\": 4, \"109\": 1, \"26\": 1, \"21\": 1, \"39\": 1}, \"53\": {\"10\": 2, \"53\": 13, \"41\": 1}, \"15\": {\"15\": 45, \"52\": 1, \"97\": 1, \"36\": 5, \"101\": 11, \"106\": 9, \"49\": 2, \"51\": 2, \"9\": 2, \"8\": 1, \"127\": 4, \"94\": 5, \"111\": 4, \"27\": 1, \"0\": 5, \"125\": 15, \"24\": 3, \"25\": 1, \"6\": 1, \"30\": 1, \"102\": 1}, \"30\": {\"30\": 32, \"25\": 3, \"8\": 3, \"68\": 1, \"101\": 9, \"97\": 2, \"7\": 5, \"10\": 1, \"6\": 2, \"91\": 1, \"93\": 2, \"111\": 3, \"125\": 2, \"12\": 2, \"98\": 8, \"24\": 5, \"127\": 6, \"43\": 1, \"108\": 1, \"106\": 3, \"29\": 1, \"44\": 1, \"3\": 1, \"34\": 1, \"54\": 1, \"86\": 2, \"58\": 1, \"122\": 2, \"15\": 6, \"0\": 2, \"4\": 1, \"40\": 1}, \"43\": {\"73\": 1, \"60\": 1, \"90\": 3, \"14\": 2, \"118\": 1, \"22\": 1, \"47\": 3, \"43\": 46, \"63\": 2, \"119\": 1, \"3\": 7, \"44\": 10, \"33\": 2, \"62\": 7, \"70\": 9, \"109\": 1, \"93\": 1, \"114\": 1, \"71\": 1, \"40\": 3, \"105\": 2, \"37\": 1, \"1\": 1, \"58\": 1, \"42\": 1, \"110\": 1, \"10\": 3, \"98\": 1, \"19\": 1, \"129\": 1, \"5\": 2, \"122\": 1, \"59\": 1, \"87\": 1, \"88\": 2, \"124\": 1}, \"29\": {\"29\": 16, \"127\": 2, \"91\": 2, \"41\": 2, \"71\": 1, \"108\": 1, \"98\": 1, \"8\": 2, \"49\": 1, \"74\": 1, \"35\": 1, \"0\": 1, \"7\": 1}, \"109\": {\"70\": 2, \"109\": 33, \"93\": 6, \"44\": 1, \"90\": 8, \"33\": 1, \"117\": 1, \"72\": 1, \"119\": 1, \"113\": 1, \"69\": 6, \"126\": 5, \"16\": 9, \"11\": 2, \"88\": 6, \"62\": 1, \"18\": 2, \"39\": 3, \"102\": 5, \"116\": 1, \"21\": 2, \"78\": 1, \"10\": 1, \"87\": 1}, \"60\": {\"74\": 1, \"10\": 2, \"61\": 2, \"60\": 11, \"38\": 1, \"87\": 1, \"3\": 2, \"63\": 1, \"116\": 1, \"16\": 1, \"62\": 2, \"83\": 1, \"44\": 2}, \"70\": {\"70\": 28, \"10\": 4, \"1\": 10, \"81\": 1, \"76\": 1, \"78\": 3, \"110\": 1, \"126\": 6, \"44\": 4, \"33\": 1, \"113\": 2, \"16\": 6, \"105\": 7, \"93\": 2, \"88\": 6, \"43\": 6, \"117\": 1, \"71\": 1, \"62\": 8, \"40\": 2, \"90\": 13, \"3\": 2, \"64\": 2, \"39\": 1, \"95\": 1, \"72\": 1, \"11\": 1, \"109\": 1}, \"127\": {\"127\": 83, \"59\": 1, \"4\": 1, \"12\": 5, \"91\": 1, \"24\": 2, \"8\": 6, \"98\": 3, \"108\": 1, \"30\": 6, \"111\": 5, \"114\": 2, \"0\": 3, \"99\": 1, \"34\": 1, \"94\": 1, \"7\": 2}, \"32\": {\"32\": 23, \"5\": 2, \"12\": 1, \"122\": 4, \"129\": 2, \"11\": 1, \"128\": 2, \"71\": 1}, \"73\": {\"73\": 15, \"19\": 1, \"64\": 1, \"1\": 4, \"88\": 1, \"80\": 1, \"85\": 1, \"14\": 1, \"40\": 1, \"3\": 2}, \"50\": {\"50\": 11, \"9\": 1, \"26\": 1, \"101\": 1, \"5\": 2}, \"1\": {\"1\": 100, \"2\": 1, \"61\": 1, \"117\": 1, \"87\": 1, \"129\": 1, \"84\": 3, \"43\": 1, \"33\": 4, \"78\": 1, \"5\": 1, \"126\": 1, \"44\": 1, \"76\": 1, \"85\": 1, \"59\": 2, \"93\": 1, \"39\": 1, \"26\": 1}, \"106\": {\"106\": 79, \"6\": 1, \"21\": 1, \"36\": 7, \"58\": 1, \"15\": 12, \"27\": 5, \"101\": 1, \"30\": 4, \"55\": 1, \"103\": 1, \"2\": 1, \"125\": 5, \"69\": 1}, \"123\": {\"50\": 1, \"123\": 15}, \"79\": {\"79\": 15, \"30\": 1}, \"4\": {\"8\": 3, \"4\": 33, \"105\": 4, \"127\": 1, \"3\": 1, \"108\": 9, \"95\": 1, \"122\": 7, \"98\": 7, \"7\": 5, \"5\": 3, \"114\": 1, \"18\": 1, \"24\": 3, \"65\": 1, \"48\": 1, \"110\": 2, \"30\": 1, \"11\": 1, \"97\": 1, \"86\": 2}, \"2\": {\"2\": 23, \"26\": 7, \"18\": 1, \"39\": 1}, \"8\": {\"8\": 60, \"4\": 8, \"41\": 2, \"86\": 3, \"127\": 8, \"24\": 2, \"108\": 9, \"122\": 9, \"98\": 4, \"117\": 2, \"0\": 2, \"11\": 3, \"12\": 3, \"105\": 4, \"70\": 1, \"114\": 2, \"7\": 2, \"71\": 2, \"113\": 1, \"18\": 1}, \"83\": {\"83\": 29, \"109\": 2, \"90\": 1, \"89\": 2, \"87\": 1, \"70\": 1, \"44\": 1, \"126\": 3}, \"105\": {\"50\": 1, \"74\": 1, \"105\": 75, \"22\": 1, \"49\": 1, \"43\": 3, \"128\": 1, \"107\": 2, \"71\": 9, \"32\": 1, \"11\": 3, \"122\": 10, \"108\": 3, \"5\": 3, \"40\": 9, \"117\": 1, \"62\": 1, \"7\": 1, \"114\": 1, \"70\": 1, \"8\": 1, \"3\": 1}, \"5\": {\"5\": 67, \"124\": 2, \"66\": 2, \"65\": 1, \"40\": 7, \"23\": 1, \"3\": 12, \"4\": 1, \"70\": 1, \"122\": 3, \"71\": 4, \"114\": 2, \"24\": 1, \"11\": 2, \"18\": 2, \"19\": 1, \"107\": 2, \"117\": 1}, \"99\": {\"99\": 26, \"81\": 3, \"121\": 1, \"65\": 1, \"2\": 1}, \"25\": {\"25\": 16}, \"59\": {\"59\": 6, \"17\": 1, \"21\": 1, \"34\": 1, \"103\": 1, \"98\": 2, \"91\": 1, \"16\": 1, \"69\": 1, \"7\": 1}, \"42\": {\"77\": 1, \"95\": 1, \"68\": 1, \"52\": 1, \"43\": 1, \"111\": 5, \"37\": 2, \"60\": 1, \"127\": 1, \"94\": 1, \"114\": 1, \"34\": 3, \"10\": 1, \"113\": 1, \"35\": 2, \"0\": 1, \"27\": 1, \"3\": 1, \"62\": 1, \"39\": 1}, \"55\": {\"95\": 2, \"55\": 11, \"1\": 1, \"28\": 2}, \"75\": {\"97\": 3, \"94\": 2, \"75\": 8, \"101\": 2, \"0\": 1}, \"118\": {\"42\": 2, \"87\": 3, \"90\": 2, \"28\": 1, \"118\": 24, \"64\": 1, \"89\": 2, \"66\": 1, \"84\": 7, \"116\": 2, \"14\": 1, \"62\": 1, \"78\": 4, \"119\": 2, \"126\": 5, \"67\": 1, \"92\": 1, \"82\": 1, \"99\": 1, \"71\": 2, \"109\": 1, \"83\": 2, \"33\": 1}, \"95\": {\"55\": 1, \"4\": 4, \"21\": 1, \"7\": 2, \"95\": 15, \"86\": 1, \"107\": 1, \"122\": 2, \"32\": 1, \"108\": 1, \"111\": 2, \"81\": 1, \"74\": 1, \"110\": 2, \"71\": 1}, \"122\": {\"122\": 31, \"104\": 1, \"32\": 3, \"108\": 12, \"24\": 3, \"7\": 5, \"86\": 2, \"4\": 4, \"95\": 1, \"110\": 1, \"62\": 5, \"98\": 7, \"107\": 2, \"105\": 10, \"11\": 4, \"3\": 2, \"12\": 1, \"114\": 4, \"8\": 6, \"115\": 1, \"17\": 1, \"29\": 1, \"22\": 1, \"53\": 2, \"43\": 1, \"10\": 2, \"40\": 4, \"127\": 1, \"33\": 1, \"111\": 1}, \"20\": {\"20\": 15, \"81\": 1}, \"110\": {\"110\": 18, \"11\": 1, \"26\": 1, \"10\": 1, \"19\": 1, \"6\": 1, \"88\": 1, \"5\": 1, \"128\": 1, \"114\": 3, \"39\": 1, \"56\": 1, \"17\": 2, \"99\": 1, \"7\": 2, \"4\": 3, \"86\": 1}, \"65\": {\"65\": 19, \"81\": 1}, \"37\": {\"12\": 1, \"37\": 11, \"44\": 1, \"14\": 2, \"104\": 1}, \"64\": {\"64\": 8, \"80\": 1, \"55\": 2, \"73\": 1, \"28\": 4}, \"63\": {\"63\": 18, \"128\": 1, \"18\": 1}, \"40\": {\"40\": 71, \"86\": 1, \"50\": 1, \"95\": 1, \"107\": 2, \"128\": 1, \"32\": 1, \"18\": 1, \"14\": 2, \"3\": 11, \"71\": 5, \"110\": 1, \"117\": 4, \"4\": 1, \"69\": 1, \"5\": 5, \"93\": 2, \"105\": 10, \"114\": 5, \"122\": 4, \"55\": 1, \"11\": 1, \"113\": 2, \"24\": 1, \"39\": 1, \"109\": 1, \"70\": 1, \"124\": 1, \"108\": 1}, \"21\": {\"21\": 20, \"16\": 3, \"109\": 2, \"26\": 2, \"126\": 3, \"65\": 2, \"44\": 1, \"72\": 3, \"89\": 1, \"18\": 2, \"99\": 4, \"39\": 3, \"69\": 1, \"117\": 1}, \"11\": {\"11\": 25, \"17\": 1, \"32\": 1, \"123\": 1, \"128\": 2, \"108\": 2, \"7\": 4, \"105\": 4, \"110\": 1, \"71\": 4, \"62\": 3, \"122\": 1, \"107\": 2, \"5\": 2, \"114\": 4, \"4\": 2, \"43\": 1, \"98\": 2, \"8\": 7, \"80\": 1, \"18\": 2, \"86\": 1, \"93\": 1, \"40\": 1, \"22\": 1, \"3\": 2, \"127\": 1, \"24\": 1}, \"67\": {\"67\": 14, \"124\": 1, \"1\": 1}, \"91\": {\"91\": 20, \"81\": 1, \"18\": 1, \"98\": 1, \"24\": 2, \"101\": 1, \"4\": 1, \"12\": 1}, \"87\": {\"16\": 5, \"118\": 4, \"60\": 4, \"87\": 30, \"82\": 1, \"14\": 2, \"88\": 5, \"89\": 2, \"116\": 1, \"93\": 5, \"90\": 12, \"102\": 11, \"11\": 3, \"70\": 2, \"69\": 3, \"126\": 4, \"84\": 2, \"117\": 2, \"109\": 3, \"44\": 2, \"13\": 1, \"83\": 2, \"110\": 1, \"39\": 2, \"23\": 1, \"71\": 2}, \"89\": {\"89\": 24, \"69\": 2, \"87\": 2, \"93\": 1, \"24\": 1, \"83\": 1, \"18\": 1, \"16\": 1, \"82\": 2, \"72\": 1}, \"9\": {\"9\": 27, \"36\": 3, \"6\": 1, \"15\": 1}, \"124\": {\"124\": 84, \"86\": 4, \"107\": 1, \"4\": 3, \"114\": 5, \"40\": 1, \"12\": 2, \"8\": 4, \"3\": 3, \"5\": 1, \"54\": 2, \"108\": 2, \"98\": 1, \"111\": 1}, \"56\": {\"56\": 7, \"6\": 1, \"66\": 1, \"125\": 1, \"112\": 1, \"114\": 1}, \"38\": {\"38\": 15, \"60\": 1}, \"94\": {\"94\": 12, \"106\": 10, \"9\": 2, \"27\": 1, \"110\": 1, \"101\": 7, \"36\": 5, \"30\": 5, \"8\": 1, \"113\": 2, \"15\": 3, \"75\": 2, \"52\": 1, \"0\": 3, \"18\": 2, \"117\": 1, \"111\": 2, \"125\": 2, \"93\": 1, \"127\": 1}, \"6\": {\"6\": 22, \"101\": 2, \"49\": 1, \"111\": 1, \"36\": 1, \"51\": 1, \"106\": 1, \"15\": 1, \"58\": 2}, \"58\": {\"106\": 1, \"58\": 10, \"125\": 4, \"26\": 1, \"6\": 3, \"25\": 1}, \"22\": {\"22\": 15, \"32\": 1, \"71\": 1, \"42\": 1, \"105\": 2}, \"24\": {\"112\": 1, \"24\": 13, \"66\": 1, \"39\": 2, \"104\": 2, \"125\": 12, \"75\": 1, \"9\": 2, \"8\": 5, \"42\": 1, \"27\": 2, \"62\": 3, \"18\": 3, \"6\": 2, \"23\": 1, \"106\": 6, \"3\": 2, \"36\": 8, \"78\": 1, \"94\": 2, \"105\": 2, \"101\": 3, \"108\": 4, \"30\": 1, \"43\": 4, \"122\": 2, \"44\": 2, \"127\": 1, \"69\": 1, \"15\": 3, \"7\": 3, \"110\": 2, \"95\": 1, \"25\": 1, \"56\": 2, \"117\": 1, \"76\": 1, \"90\": 1, \"70\": 2, \"109\": 1, \"16\": 1, \"111\": 1, \"40\": 1, \"88\": 1}, \"57\": {\"57\": 20}, \"112\": {\"112\": 7, \"24\": 4, \"129\": 1, \"86\": 1, \"122\": 1, \"115\": 1, \"23\": 1}, \"116\": {\"116\": 13, \"100\": 1, \"113\": 2, \"126\": 2, \"23\": 1, \"118\": 1, \"93\": 2, \"102\": 1, \"89\": 1, \"92\": 1, \"122\": 1, \"88\": 1, \"87\": 1}, \"18\": {\"18\": 102, \"117\": 10, \"113\": 2, \"107\": 1, \"109\": 1, \"26\": 4, \"16\": 1, \"121\": 2, \"21\": 2, \"39\": 3}, \"49\": {\"112\": 2, \"30\": 3, \"8\": 1, \"109\": 2, \"49\": 4, \"24\": 1, \"11\": 1, \"95\": 1, \"91\": 1, \"4\": 1, \"5\": 1, \"125\": 1, \"127\": 1, \"77\": 2, \"34\": 2}, \"45\": {\"45\": 16}, \"107\": {\"4\": 3, \"66\": 1, \"104\": 2, \"114\": 4, \"107\": 14, \"78\": 1, \"86\": 1, \"3\": 1, \"95\": 2, \"110\": 4, \"38\": 1, \"40\": 4, \"7\": 2, \"39\": 3, \"108\": 1, \"105\": 1, \"8\": 3, \"11\": 4, \"61\": 1, \"49\": 1, \"121\": 1, \"17\": 1, \"22\": 1, \"32\": 1, \"122\": 2, \"24\": 1, \"9\": 1, \"93\": 1, \"71\": 1}, \"35\": {\"34\": 1, \"35\": 11}, \"78\": {\"78\": 10, \"123\": 1, \"129\": 2, \"43\": 2, \"20\": 1, \"93\": 2, \"87\": 2, \"118\": 2, \"126\": 1, \"83\": 2, \"98\": 1, \"40\": 1, \"5\": 4, \"18\": 1, \"66\": 1, \"50\": 2, \"63\": 1, \"44\": 2, \"62\": 3, \"22\": 1, \"61\": 1, \"81\": 1, \"14\": 1, \"3\": 1, \"32\": 1, \"90\": 1}, \"126\": {\"126\": 37, \"123\": 1, \"60\": 2, \"23\": 2, \"93\": 4, \"1\": 3, \"33\": 7, \"83\": 3, \"90\": 11, \"102\": 4, \"44\": 9, \"118\": 3, \"16\": 2, \"87\": 2, \"78\": 1, \"84\": 7, \"88\": 6, \"70\": 7, \"62\": 1, \"109\": 1, \"80\": 1, \"119\": 1, \"14\": 1, \"69\": 2, \"0\": 1, \"26\": 1}, \"85\": {\"85\": 23, \"1\": 1, \"55\": 1, \"95\": 1, \"73\": 1, \"124\": 1, \"4\": 1, \"14\": 1, \"40\": 1, \"5\": 1}, \"72\": {\"72\": 21, \"109\": 3, \"21\": 1, \"116\": 2, \"90\": 1}, \"26\": {\"26\": 102, \"21\": 2, \"2\": 3, \"120\": 2, \"18\": 7, \"87\": 1, \"57\": 1, \"121\": 2, \"113\": 1, \"93\": 1, \"117\": 2}, \"84\": {\"64\": 2, \"42\": 1, \"125\": 1, \"1\": 7, \"45\": 2, \"84\": 55, \"90\": 1, \"124\": 1, \"87\": 2, \"126\": 6, \"33\": 7, \"16\": 1, \"104\": 1, \"113\": 1, \"59\": 1, \"10\": 2, \"62\": 1}, \"128\": {\"11\": 1, \"107\": 1, \"38\": 3, \"37\": 1, \"111\": 2, \"5\": 1, \"3\": 1, \"105\": 1, \"10\": 1, \"97\": 1, \"79\": 1, \"94\": 2, \"101\": 1, \"128\": 1, \"127\": 2, \"44\": 1, \"14\": 1, \"43\": 1, \"62\": 1}, \"31\": {\"31\": 11, \"92\": 3, \"96\": 1, \"33\": 1, \"16\": 1, \"82\": 1, \"11\": 1, \"87\": 1}, \"71\": {\"10\": 1, \"71\": 62, \"107\": 1, \"110\": 1, \"3\": 3, \"8\": 3, \"114\": 7, \"24\": 3, \"108\": 2, \"109\": 1, \"11\": 2, \"5\": 1, \"88\": 1, \"122\": 1, \"7\": 2, \"74\": 1, \"86\": 1, \"95\": 1, \"4\": 2, \"129\": 1, \"40\": 1, \"105\": 2}}, \"Wisig_1\": {\"22\": {\"42\": 1, \"22\": 13, \"7\": 2}, \"58\": {\"37\": 1, \"58\": 7, \"52\": 2, \"32\": 1, \"6\": 1}, \"109\": {\"99\": 1, \"62\": 8, \"70\": 1, \"129\": 1, \"116\": 1, \"96\": 1, \"50\": 1, \"109\": 53, \"38\": 2, \"80\": 1, \"76\": 1, \"21\": 1, \"61\": 2, \"11\": 11, \"69\": 4, \"1\": 2, \"33\": 8, \"43\": 1, \"90\": 11, \"3\": 1, \"126\": 3, \"102\": 2, \"122\": 2, \"66\": 1, \"22\": 1, \"7\": 3}, \"77\": {\"77\": 13, \"106\": 1, \"24\": 1, \"49\": 1}, \"74\": {\"74\": 15, \"34\": 1}, \"10\": {\"37\": 1, \"10\": 50, \"91\": 2, \"106\": 2, \"104\": 1, \"127\": 3, \"108\": 3, \"110\": 12, \"93\": 5, \"44\": 4, \"43\": 3, \"98\": 6, \"0\": 5, \"71\": 2, \"87\": 1, \"101\": 2, \"8\": 1, \"107\": 2, \"90\": 2, \"64\": 1, \"126\": 3, \"84\": 2, \"70\": 1, \"27\": 1, \"122\": 3, \"4\": 1, \"105\": 1}, \"70\": {\"74\": 1, \"77\": 1, \"29\": 2, \"55\": 1, \"70\": 29, \"4\": 3, \"49\": 1, \"93\": 13, \"108\": 7, \"34\": 3, \"107\": 6, \"98\": 2, \"5\": 5, \"126\": 4, \"90\": 4, \"0\": 3, \"62\": 3, \"44\": 2, \"40\": 7, \"122\": 2, \"43\": 3, \"84\": 2, \"106\": 2, \"109\": 2, \"87\": 3, \"101\": 1, \"110\": 5, \"72\": 1, \"7\": 1, \"96\": 1, \"8\": 2, \"64\": 1, \"104\": 1, \"85\": 1, \"89\": 1, \"94\": 1, \"124\": 1}, \"84\": {\"14\": 5, \"84\": 66, \"114\": 11, \"83\": 1, \"87\": 5, \"5\": 3, \"43\": 1, \"124\": 2, \"126\": 3, \"7\": 2, \"40\": 4, \"70\": 1, \"8\": 1, \"108\": 1, \"4\": 1, \"10\": 1}, \"52\": {\"52\": 13, \"30\": 2, \"27\": 2, \"6\": 1, \"94\": 2}, \"20\": {\"22\": 1, \"20\": 8, \"52\": 1, \"120\": 2, \"7\": 1, \"14\": 1, \"62\": 2}, \"14\": {\"84\": 4, \"14\": 77, \"122\": 3, \"87\": 3, \"113\": 1, \"114\": 1, \"7\": 1, \"43\": 1, \"74\": 1, \"126\": 4}, \"37\": {\"37\": 14, \"12\": 1, \"27\": 1}, \"42\": {\"14\": 1, \"99\": 2, \"33\": 4, \"5\": 1, \"83\": 2, \"40\": 1, \"100\": 1, \"42\": 6, \"107\": 1, \"62\": 1, \"74\": 1, \"69\": 1, \"84\": 1, \"82\": 2, \"86\": 1, \"114\": 1, \"4\": 1}, \"99\": {\"22\": 1, \"20\": 1, \"99\": 11, \"90\": 2, \"33\": 3, \"3\": 2, \"69\": 2, \"109\": 1, \"82\": 1}, \"35\": {\"77\": 1, \"35\": 6, \"91\": 1, \"107\": 1, \"72\": 1, \"86\": 1, \"54\": 1}, \"62\": {\"22\": 2, \"62\": 110, \"42\": 1, \"43\": 1, \"7\": 3, \"50\": 2, \"113\": 1}, \"61\": {\"61\": 8, \"66\": 2, \"60\": 2}, \"7\": {\"7\": 99, \"79\": 1, \"20\": 1, \"44\": 3, \"19\": 1, \"83\": 1, \"10\": 1, \"48\": 1, \"1\": 6, \"124\": 5, \"84\": 3, \"43\": 3, \"87\": 1, \"122\": 5, \"126\": 7, \"81\": 1, \"62\": 1, \"114\": 1, \"18\": 1}, \"69\": {\"69\": 83, \"102\": 7, \"11\": 2, \"18\": 3, \"70\": 1, \"109\": 3, \"3\": 1, \"33\": 2, \"7\": 1, \"26\": 1}, \"55\": {\"55\": 9, \"75\": 1, \"93\": 2}, \"41\": {\"41\": 13, \"10\": 1, \"70\": 1, \"8\": 1}, \"120\": {\"120\": 19, \"70\": 1}, \"123\": {\"123\": 13, \"26\": 1, \"121\": 1, \"33\": 1}, \"97\": {\"52\": 1, \"97\": 6, \"17\": 1, \"32\": 1, \"47\": 1, \"121\": 1, \"49\": 1, \"0\": 1, \"98\": 1, \"59\": 1, \"127\": 1, \"26\": 1, \"6\": 1, \"58\": 1, \"10\": 1}, \"102\": {\"102\": 106, \"16\": 2, \"69\": 7, \"33\": 2, \"11\": 2, \"113\": 1}, \"60\": {\"41\": 2, \"43\": 1, \"18\": 1, \"126\": 1, \"28\": 1, \"117\": 2, \"109\": 2, \"66\": 1, \"21\": 1, \"118\": 1, \"74\": 1, \"48\": 1, \"125\": 1}, \"127\": {\"127\": 59, \"32\": 1, \"97\": 2, \"56\": 3, \"49\": 2, \"4\": 1, \"26\": 1, \"12\": 4, \"15\": 3, \"24\": 7, \"101\": 6, \"117\": 1, \"88\": 3, \"71\": 6, \"111\": 5, \"121\": 1, \"58\": 1, \"98\": 2}, \"32\": {\"32\": 17, \"52\": 1, \"97\": 2, \"24\": 1, \"127\": 3, \"112\": 2, \"55\": 1, \"12\": 1, \"58\": 2, \"91\": 1, \"98\": 1}, \"3\": {\"60\": 2, \"116\": 1, \"3\": 58, \"33\": 6, \"88\": 2, \"11\": 4, \"109\": 3, \"69\": 3, \"36\": 1, \"102\": 2, \"59\": 1, \"125\": 1, \"1\": 1, \"122\": 1, \"62\": 1, \"113\": 1}, \"8\": {\"70\": 7, \"8\": 62, \"87\": 3, \"5\": 5, \"40\": 9, \"72\": 1, \"108\": 6, \"43\": 4, \"14\": 5, \"107\": 5, \"106\": 2, \"126\": 1, \"86\": 2, \"98\": 2, \"7\": 1, \"84\": 1, \"114\": 1, \"93\": 2, \"4\": 1, \"105\": 1, \"101\": 1}, \"129\": {\"129\": 9, \"8\": 1, \"9\": 1, \"100\": 1, \"23\": 1, \"114\": 1, \"1\": 2, \"108\": 2, \"84\": 1, \"102\": 1, \"105\": 2, \"67\": 1, \"19\": 1, \"73\": 1, \"69\": 1, \"83\": 1, \"33\": 1}, \"119\": {\"117\": 1, \"119\": 11, \"2\": 1, \"63\": 1, \"118\": 1, \"26\": 1}, \"21\": {\"109\": 3, \"8\": 1, \"21\": 10, \"39\": 3, \"33\": 1, \"116\": 2, \"44\": 1, \"0\": 1, \"90\": 6, \"74\": 2, \"78\": 1, \"60\": 1, \"58\": 1, \"87\": 1, \"18\": 1, \"121\": 1, \"69\": 1, \"12\": 1, \"11\": 1, \"118\": 1}, \"53\": {\"30\": 2, \"53\": 9, \"91\": 2, \"85\": 2, \"101\": 2, \"32\": 1, \"127\": 1, \"75\": 1}, \"28\": {\"28\": 18, \"76\": 1, \"5\": 1}, \"117\": {\"117\": 114, \"39\": 4, \"18\": 5, \"16\": 11, \"26\": 7, \"118\": 1, \"95\": 1, \"2\": 1}, \"112\": {\"112\": 10, \"52\": 1, \"58\": 1, \"101\": 1, \"32\": 3}, \"126\": {\"126\": 34, \"80\": 4, \"73\": 1, \"93\": 2, \"74\": 1, \"44\": 3, \"43\": 7, \"22\": 2, \"10\": 1, \"84\": 6, \"7\": 12, \"70\": 6, \"90\": 10, \"1\": 10, \"62\": 2, \"33\": 1, \"114\": 9, \"5\": 3, \"87\": 3, \"122\": 4, \"113\": 1, \"124\": 6, \"14\": 2, \"11\": 1, \"69\": 1, \"18\": 1, \"109\": 1}, \"30\": {\"112\": 2, \"53\": 1, \"75\": 2, \"32\": 1, \"72\": 1, \"92\": 2, \"51\": 1, \"30\": 14, \"52\": 3, \"37\": 1, \"0\": 3, \"91\": 2, \"127\": 3, \"36\": 1, \"97\": 2, \"85\": 2, \"111\": 3, \"94\": 1, \"56\": 1, \"15\": 3, \"77\": 1, \"27\": 1, \"86\": 1}, \"105\": {\"8\": 4, \"105\": 45, \"49\": 1, \"40\": 9, \"129\": 1, \"26\": 2, \"10\": 1, \"18\": 1, \"108\": 3, \"5\": 1, \"4\": 1, \"70\": 3, \"93\": 4, \"34\": 1, \"41\": 1, \"73\": 1, \"86\": 1, \"122\": 1, \"84\": 2, \"110\": 1}, \"29\": {\"29\": 28}, \"57\": {\"57\": 10, \"28\": 1, \"48\": 1}, \"93\": {\"93\": 55, \"8\": 8, \"77\": 3, \"98\": 3, \"110\": 2, \"73\": 1, \"24\": 2, \"89\": 1, \"9\": 2, \"44\": 2, \"4\": 10, \"10\": 4, \"71\": 1, \"107\": 11, \"70\": 8, \"108\": 6, \"43\": 7, \"40\": 3, \"90\": 2, \"7\": 1, \"55\": 1, \"86\": 1, \"87\": 2, \"126\": 1, \"5\": 1, \"0\": 2}, \"17\": {\"17\": 12, \"108\": 1, \"35\": 1, \"97\": 1, \"9\": 1}, \"44\": {\"44\": 53, \"87\": 6, \"7\": 3, \"43\": 5, \"70\": 5, \"84\": 2, \"122\": 1, \"126\": 1}, \"63\": {\"63\": 9, \"119\": 1, \"117\": 2, \"16\": 1, \"13\": 1, \"26\": 2}, \"87\": {\"93\": 2, \"44\": 4, \"87\": 31, \"23\": 1, \"129\": 2, \"73\": 1, \"84\": 12, \"1\": 2, \"14\": 5, \"83\": 2, \"8\": 4, \"43\": 8, \"7\": 3, \"124\": 1, \"69\": 1, \"40\": 3, \"114\": 5, \"70\": 5, \"10\": 2, \"126\": 1, \"104\": 1, \"57\": 1, \"54\": 1, \"19\": 1, \"74\": 1, \"5\": 1, \"108\": 1, \"122\": 4, \"105\": 1, \"16\": 1}, \"0\": {\"98\": 4, \"75\": 1, \"85\": 2, \"0\": 33, \"108\": 3, \"71\": 5, \"72\": 1, \"127\": 4, \"24\": 3, \"110\": 5, \"93\": 2, \"95\": 1, \"12\": 3, \"4\": 2, \"8\": 1, \"87\": 2, \"40\": 1, \"91\": 1, \"6\": 1, \"101\": 3, \"27\": 1, \"15\": 1, \"10\": 1, \"88\": 2, \"111\": 1}, \"96\": {\"44\": 1, \"109\": 1, \"96\": 6, \"79\": 1, \"57\": 2, \"22\": 1, \"115\": 1, \"120\": 2, \"18\": 1, \"78\": 1, \"129\": 1, \"70\": 1, \"20\": 1}, \"98\": {\"0\": 8, \"98\": 45, \"101\": 10, \"75\": 1, \"24\": 4, \"106\": 3, \"93\": 3, \"127\": 3, \"5\": 1, \"27\": 4, \"111\": 2, \"70\": 2, \"110\": 7, \"107\": 2, \"12\": 3, \"97\": 1, \"68\": 2, \"112\": 1, \"128\": 1, \"72\": 2, \"30\": 2, \"108\": 1}, \"75\": {\"75\": 16}, \"78\": {\"87\": 1, \"44\": 3, \"43\": 3, \"78\": 3, \"96\": 1, \"19\": 2, \"120\": 1, \"41\": 1, \"117\": 1}, \"116\": {\"116\": 22, \"109\": 2, \"21\": 2, \"26\": 1, \"67\": 1, \"102\": 1, \"60\": 1, \"11\": 1, \"94\": 1}, \"114\": {\"114\": 79, \"73\": 1, \"115\": 2, \"1\": 4, \"124\": 3, \"19\": 1, \"5\": 2, \"14\": 4, \"83\": 2, \"43\": 2, \"26\": 1, \"84\": 11, \"126\": 6, \"122\": 1, \"87\": 3, \"121\": 1, \"70\": 2, \"40\": 1, \"7\": 2}, \"103\": {\"103\": 9, \"12\": 1, \"5\": 2, \"29\": 2, \"72\": 1, \"106\": 1}, \"50\": {\"50\": 15, \"33\": 1}, \"124\": {\"5\": 2, \"124\": 95, \"19\": 1, \"46\": 2, \"114\": 8, \"87\": 2, \"89\": 1, \"14\": 1, \"107\": 2, \"108\": 2, \"1\": 1, \"84\": 4, \"40\": 1, \"72\": 1, \"126\": 1, \"105\": 2, \"94\": 1, \"4\": 1}, \"5\": {\"5\": 56, \"72\": 3, \"108\": 5, \"32\": 1, \"128\": 1, \"40\": 2, \"70\": 2, \"9\": 3, \"8\": 4, \"107\": 3, \"129\": 1, \"34\": 1, \"18\": 1, \"4\": 2, \"15\": 1, \"124\": 2}, \"73\": {\"114\": 1, \"103\": 1, \"73\": 14, \"108\": 1, \"14\": 1, \"5\": 1, \"105\": 1}, \"81\": {\"81\": 24, \"120\": 1, \"1\": 1, \"19\": 2}, \"49\": {\"49\": 6, \"44\": 1, \"52\": 1, \"105\": 1, \"32\": 2, \"37\": 1, \"34\": 1, \"127\": 1, \"9\": 2, \"55\": 1, \"93\": 1, \"30\": 1, \"129\": 1}, \"16\": {\"16\": 62, \"48\": 1, \"39\": 7, \"95\": 4, \"11\": 2, \"18\": 7, \"117\": 7, \"118\": 9, \"26\": 6, \"69\": 3}, \"101\": {\"98\": 4, \"101\": 95, \"53\": 1, \"127\": 3, \"24\": 3, \"71\": 4, \"12\": 4, \"110\": 5, \"0\": 1, \"10\": 1, \"107\": 1, \"93\": 1, \"88\": 1}, \"125\": {\"37\": 1, \"125\": 70, \"111\": 4, \"27\": 8, \"12\": 3, \"15\": 6, \"36\": 16, \"94\": 4, \"88\": 5, \"71\": 1}, \"65\": {\"39\": 1, \"28\": 1, \"112\": 1, \"45\": 1, \"44\": 1, \"65\": 1, \"74\": 1, \"66\": 1, \"18\": 1, \"87\": 1, \"76\": 1, \"3\": 1}, \"66\": {\"96\": 1, \"66\": 13, \"90\": 1, \"76\": 1}, \"79\": {\"8\": 1, \"79\": 10, \"80\": 1}, \"39\": {\"39\": 43, \"16\": 5, \"78\": 1, \"13\": 1, \"95\": 3, \"90\": 6, \"26\": 8, \"69\": 2, \"117\": 12, \"102\": 1, \"18\": 11, \"118\": 3, \"62\": 2, \"11\": 1, \"129\": 1, \"109\": 2, \"33\": 2}, \"104\": {\"57\": 2, \"19\": 1, \"79\": 1, \"104\": 11, \"43\": 1}, \"91\": {\"97\": 2, \"75\": 2, \"0\": 2, \"85\": 3, \"91\": 14, \"110\": 1, \"88\": 1, \"56\": 1, \"93\": 1, \"30\": 1}, \"25\": {\"82\": 1, \"25\": 10, \"38\": 1, \"1\": 1, \"11\": 1, \"42\": 1, \"3\": 1}, \"64\": {\"64\": 15, \"79\": 1}, \"34\": {\"43\": 3, \"24\": 3, \"8\": 1, \"93\": 2, \"34\": 1, \"71\": 3, \"30\": 1, \"36\": 1, \"6\": 2, \"89\": 1, \"90\": 2, \"75\": 1, \"77\": 1, \"70\": 1, \"79\": 2, \"53\": 1, \"44\": 1, \"108\": 1, \"107\": 1, \"15\": 1, \"87\": 1, \"84\": 1}, \"82\": {\"82\": 23, \"33\": 6, \"69\": 2, \"45\": 1, \"102\": 1, \"109\": 2, \"42\": 1}, \"18\": {\"18\": 89, \"26\": 10, \"117\": 6, \"39\": 3, \"95\": 3, \"16\": 5, \"69\": 2, \"2\": 4, \"63\": 1, \"109\": 1}, \"43\": {\"64\": 1, \"43\": 46, \"38\": 1, \"40\": 3, \"76\": 1, \"84\": 12, \"14\": 4, \"70\": 6, \"7\": 2, \"114\": 7, \"87\": 9, \"4\": 1, \"126\": 2, \"5\": 3, \"44\": 4, \"90\": 3, \"10\": 1, \"122\": 8, \"1\": 1, \"104\": 2, \"128\": 3, \"19\": 2, \"83\": 3, \"74\": 1, \"105\": 1, \"124\": 1}, \"47\": {\"17\": 1, \"47\": 9, \"55\": 1, \"32\": 1}, \"108\": {\"91\": 2, \"108\": 24, \"104\": 1, \"70\": 4, \"56\": 1, \"31\": 1, \"94\": 1, \"9\": 3, \"19\": 1, \"0\": 3, \"103\": 1, \"40\": 9, \"110\": 3, \"74\": 1, \"107\": 8, \"29\": 2, \"44\": 4, \"8\": 4, \"72\": 2, \"5\": 2, \"98\": 2, \"89\": 2, \"122\": 3, \"12\": 3, \"24\": 1, \"124\": 3, \"101\": 1, \"14\": 2, \"4\": 6, \"10\": 2, \"15\": 1, \"106\": 5, \"128\": 1, \"84\": 1, \"93\": 1, \"127\": 1, \"105\": 2, \"87\": 4, \"43\": 1, \"113\": 1, \"125\": 1, \"114\": 1, \"88\": 2}, \"111\": {\"68\": 6, \"111\": 69, \"32\": 2, \"6\": 1, \"24\": 1, \"98\": 2, \"71\": 7, \"0\": 2, \"90\": 1, \"12\": 3, \"36\": 1, \"88\": 4, \"97\": 1, \"127\": 5, \"92\": 1, \"94\": 1, \"15\": 1}, \"23\": {\"90\": 1, \"75\": 1, \"111\": 2, \"32\": 1, \"66\": 1, \"24\": 1, \"21\": 2, \"62\": 5, \"38\": 2, \"29\": 2, \"93\": 1, \"82\": 1, \"68\": 1, \"105\": 1, \"106\": 1, \"88\": 1}, \"90\": {\"90\": 132, \"66\": 2, \"62\": 5, \"36\": 2, \"109\": 8, \"70\": 1, \"7\": 2, \"33\": 1, \"11\": 3, \"60\": 1, \"61\": 1, \"122\": 1, \"16\": 1}, \"4\": {\"4\": 61, \"32\": 2, \"89\": 1, \"70\": 2, \"87\": 1, \"5\": 4, \"8\": 1, \"93\": 8, \"106\": 2, \"107\": 3, \"105\": 1, \"108\": 3, \"98\": 1, \"40\": 6, \"86\": 1, \"18\": 1, \"30\": 1, \"10\": 1}, \"92\": {\"92\": 19, \"58\": 1, \"30\": 2, \"12\": 1, \"32\": 2, \"71\": 1, \"15\": 2}, \"2\": {\"2\": 10, \"119\": 1, \"117\": 2, \"109\": 3, \"26\": 1, \"102\": 3, \"16\": 1, \"11\": 3, \"95\": 1, \"15\": 1, \"121\": 1, \"82\": 1, \"118\": 1, \"18\": 2, \"33\": 1}, \"45\": {\"90\": 1, \"102\": 1, \"80\": 1, \"84\": 1, \"76\": 1, \"67\": 1, \"43\": 1, \"25\": 1, \"118\": 1, \"28\": 1, \"117\": 1, \"50\": 1}, \"68\": {\"111\": 2, \"68\": 12, \"127\": 1, \"112\": 1}, \"26\": {\"117\": 10, \"63\": 2, \"26\": 99, \"18\": 4, \"39\": 6, \"16\": 1, \"95\": 2, \"118\": 3, \"69\": 1}, \"38\": {\"38\": 12, \"115\": 2, \"23\": 1, \"62\": 1}, \"40\": {\"40\": 84, \"107\": 9, \"73\": 2, \"105\": 11, \"12\": 2, \"93\": 5, \"5\": 4, \"108\": 5, \"4\": 6, \"88\": 1, \"8\": 9, \"72\": 1, \"14\": 1, \"124\": 1, \"70\": 1}, \"80\": {\"80\": 11, \"64\": 2, \"81\": 1, \"43\": 1, \"69\": 1}, \"107\": {\"107\": 66, \"30\": 1, \"72\": 6, \"65\": 1, \"108\": 9, \"89\": 3, \"106\": 8, \"93\": 5, \"18\": 1, \"127\": 1, \"98\": 3, \"110\": 2, \"88\": 1, \"53\": 1, \"23\": 1, \"5\": 1, \"40\": 2, \"77\": 2, \"24\": 2, \"29\": 1, \"4\": 1, \"39\": 1, \"12\": 2, \"113\": 1}, \"94\": {\"58\": 1, \"94\": 38, \"15\": 5, \"59\": 1, \"101\": 2, \"71\": 4, \"125\": 7, \"36\": 7, \"127\": 6, \"88\": 6, \"12\": 4, \"27\": 2, \"0\": 1, \"111\": 2, \"106\": 1, \"6\": 1, \"52\": 1, \"29\": 1, \"24\": 1, \"92\": 1}, \"115\": {\"115\": 11, \"45\": 1}, \"46\": {\"19\": 2, \"32\": 1, \"1\": 2, \"52\": 1, \"30\": 1, \"62\": 1, \"103\": 2, \"115\": 1, \"6\": 1}, \"72\": {\"107\": 4, \"72\": 24, \"0\": 1, \"41\": 1, \"88\": 1, \"108\": 1}, \"19\": {\"49\": 1, \"19\": 13, \"104\": 2, \"81\": 3, \"83\": 1, \"74\": 1, \"1\": 3, \"86\": 1, \"46\": 1, \"70\": 1, \"43\": 1}, \"100\": {\"100\": 12, \"3\": 1, \"98\": 1, \"88\": 1, \"0\": 1}, \"76\": {\"76\": 15, \"64\": 1}, \"106\": {\"106\": 94, \"98\": 5, \"127\": 2, \"101\": 3, \"24\": 2, \"108\": 2, \"107\": 4, \"111\": 5, \"110\": 3, \"88\": 1, \"68\": 1, \"91\": 1, \"12\": 2, \"85\": 1, \"0\": 1, \"27\": 3, \"72\": 1, \"29\": 1}, \"88\": {\"94\": 6, \"88\": 27, \"59\": 1, \"9\": 1, \"125\": 11, \"52\": 2, \"110\": 5, \"6\": 2, \"26\": 1, \"10\": 4, \"107\": 3, \"36\": 9, \"15\": 2, \"24\": 1, \"101\": 6, \"93\": 3, \"111\": 6, \"27\": 8, \"12\": 3, \"98\": 5, \"127\": 5, \"5\": 1, \"0\": 1, \"106\": 4, \"51\": 2, \"40\": 2, \"85\": 2, \"91\": 1, \"72\": 2, \"71\": 1, \"4\": 2, \"18\": 1}, \"15\": {\"94\": 16, \"15\": 40, \"68\": 2, \"6\": 3, \"27\": 6, \"29\": 1, \"101\": 4, \"88\": 6, \"12\": 5, \"125\": 4, \"71\": 2, \"36\": 1, \"93\": 1, \"111\": 3, \"37\": 1, \"98\": 1, \"92\": 2, \"127\": 2, \"113\": 1, \"10\": 1, \"24\": 2}, \"54\": {\"54\": 12, \"15\": 1, \"97\": 1, \"17\": 2}, \"13\": {\"13\": 15, \"118\": 1}, \"51\": {\"51\": 11, \"36\": 2, \"27\": 2, \"88\": 1}, \"24\": {\"127\": 5, \"98\": 2, \"40\": 4, \"71\": 10, \"49\": 3, \"27\": 5, \"86\": 1, \"72\": 1, \"32\": 1, \"36\": 1, \"93\": 2, \"108\": 3, \"8\": 1, \"12\": 5, \"85\": 1, \"34\": 1, \"111\": 5, \"24\": 11, \"5\": 2, \"106\": 3, \"43\": 1, \"88\": 3, \"92\": 1, \"101\": 2, \"52\": 1, \"30\": 1, \"91\": 1, \"107\": 1, \"15\": 4, \"118\": 1, \"10\": 1, \"94\": 1, \"4\": 2, \"0\": 2, \"110\": 3}, \"48\": {\"8\": 1, \"7\": 1, \"48\": 9, \"57\": 1}, \"85\": {\"85\": 19, \"24\": 1, \"71\": 1, \"10\": 1, \"4\": 1, \"110\": 1, \"98\": 1, \"91\": 2, \"75\": 1, \"30\": 2, \"0\": 1, \"37\": 1}, \"33\": {\"33\": 121, \"3\": 6, \"11\": 1, \"102\": 3, \"62\": 1, \"67\": 3, \"82\": 3, \"50\": 1, \"109\": 1}, \"71\": {\"24\": 5, \"71\": 59, \"32\": 1, \"116\": 1, \"127\": 10, \"27\": 1, \"0\": 1, \"85\": 1, \"15\": 2, \"98\": 1, \"12\": 5, \"125\": 3, \"111\": 4, \"16\": 1, \"52\": 1, \"69\": 1, \"101\": 3, \"92\": 1, \"39\": 1, \"40\": 1, \"36\": 1, \"88\": 2, \"8\": 1, \"107\": 1}, \"6\": {\"6\": 10, \"85\": 2, \"92\": 1, \"110\": 1, \"127\": 3, \"71\": 1, \"88\": 1, \"101\": 3, \"27\": 1, \"125\": 1, \"91\": 1, \"111\": 1, \"36\": 2, \"49\": 1, \"98\": 1, \"97\": 1, \"94\": 1}, \"83\": {\"40\": 1, \"83\": 14, \"96\": 1, \"122\": 2, \"2\": 1, \"87\": 1, \"14\": 1, \"43\": 4, \"20\": 1, \"118\": 1, \"124\": 1}, \"121\": {\"39\": 2, \"123\": 2, \"121\": 14, \"18\": 4, \"122\": 1, \"117\": 2, \"26\": 2, \"69\": 1, \"16\": 2, \"2\": 1, \"113\": 1}, \"31\": {\"31\": 12, \"121\": 1, \"74\": 2, \"8\": 1}, \"67\": {\"65\": 1, \"67\": 13, \"33\": 2}, \"1\": {\"1\": 100, \"114\": 4, \"120\": 2, \"126\": 8, \"43\": 3, \"87\": 3, \"7\": 6, \"70\": 2, \"94\": 1, \"124\": 3, \"18\": 1, \"84\": 2, \"122\": 1}, \"27\": {\"127\": 6, \"27\": 22, \"51\": 1, \"98\": 1, \"59\": 2, \"88\": 10, \"101\": 3, \"15\": 9, \"125\": 11, \"71\": 3, \"18\": 1, \"106\": 1, \"0\": 1, \"36\": 4, \"24\": 4, \"94\": 5, \"108\": 1, \"91\": 1, \"52\": 2, \"85\": 1, \"12\": 1, \"111\": 2}, \"118\": {\"39\": 4, \"118\": 45, \"99\": 1, \"117\": 9, \"69\": 2, \"26\": 7, \"95\": 3, \"16\": 5, \"33\": 2, \"60\": 1, \"13\": 1, \"121\": 1, \"109\": 2, \"90\": 1}, \"56\": {\"56\": 3, \"127\": 1, \"91\": 2, \"88\": 1, \"49\": 2, \"32\": 2, \"111\": 1}, \"36\": {\"36\": 91, \"30\": 1, \"94\": 4, \"27\": 1, \"127\": 2, \"106\": 1, \"125\": 12, \"16\": 1, \"88\": 5, \"111\": 4, \"49\": 1, \"92\": 1, \"110\": 1, \"24\": 1, \"12\": 2}, \"11\": {\"33\": 17, \"11\": 67, \"122\": 1, \"30\": 1, \"102\": 10, \"3\": 8, \"69\": 4, \"109\": 6, \"111\": 1, \"116\": 1, \"62\": 4, \"81\": 1, \"90\": 2, \"7\": 1, \"36\": 1, \"126\": 1}, \"110\": {\"91\": 2, \"110\": 62, \"101\": 11, \"10\": 2, \"24\": 2, \"0\": 2, \"26\": 1, \"98\": 4, \"88\": 5, \"127\": 4, \"71\": 5, \"12\": 4, \"75\": 1, \"18\": 1, \"85\": 1, \"30\": 2, \"86\": 1, \"93\": 1, \"106\": 4, \"70\": 1, \"107\": 5, \"108\": 1}, \"89\": {\"89\": 19, \"9\": 1, \"98\": 1, \"54\": 1, \"108\": 2, \"72\": 3, \"71\": 1, \"47\": 1, \"77\": 1, \"107\": 3, \"29\": 2, \"5\": 1}, \"113\": {\"113\": 96, \"16\": 5, \"117\": 9, \"95\": 1, \"18\": 3, \"88\": 1, \"36\": 1, \"26\": 1, \"107\": 1}, \"59\": {\"59\": 8, \"30\": 2, \"112\": 2}, \"9\": {\"9\": 16, \"108\": 3, \"29\": 2, \"5\": 5, \"4\": 1, \"26\": 1, \"93\": 1, \"40\": 2, \"88\": 1}, \"86\": {\"86\": 14, \"93\": 4, \"105\": 4, \"48\": 1, \"110\": 2, \"8\": 2, \"70\": 2, \"43\": 2, \"104\": 1, \"77\": 1, \"34\": 1, \"94\": 1, \"88\": 1}, \"12\": {\"12\": 45, \"30\": 2, \"111\": 8, \"101\": 8, \"127\": 4, \"71\": 8, \"0\": 2, \"24\": 1, \"27\": 3, \"98\": 3, \"94\": 3, \"113\": 1, \"110\": 3, \"26\": 2, \"32\": 1, \"97\": 2, \"117\": 1, \"88\": 1, \"15\": 4, \"93\": 1, \"108\": 1}, \"122\": {\"126\": 3, \"122\": 34, \"40\": 3, \"74\": 1, \"83\": 1, \"108\": 1, \"44\": 4, \"21\": 1, \"99\": 1, \"84\": 4, \"43\": 7, \"7\": 2, \"114\": 3, \"70\": 5, \"14\": 7, \"93\": 1, \"87\": 1, \"90\": 1, \"117\": 1, \"102\": 1, \"124\": 1, \"8\": 1, \"113\": 1, \"105\": 2, \"26\": 1}, \"128\": {\"128\": 4, \"89\": 1, \"5\": 1, \"15\": 1, \"14\": 2, \"9\": 4, \"108\": 1, \"88\": 1, \"93\": 1, \"126\": 1, \"45\": 1, \"22\": 1, \"20\": 1, \"72\": 2, \"34\": 1, \"53\": 1}, \"95\": {\"95\": 19, \"16\": 3, \"62\": 1, \"26\": 4, \"18\": 1, \"117\": 4, \"121\": 1, \"118\": 3}}}, \"per_domain_accuracy\": {\"ORACLE.run114\": {\"accuracy\": 0.8763020833333334, \"source?\": true}, \"ORACLE.run120\": {\"accuracy\": 0.80859375, \"source?\": true}, \"ORACLE.run150\": {\"accuracy\": 0.8328125, \"source?\": true}, \"ORACLE.run126\": {\"accuracy\": 0.6549479166666666, \"source?\": true}, \"ORACLE.run132\": {\"accuracy\": 0.7888020833333333, \"source?\": true}, \"ORACLE.run144\": {\"accuracy\": 0.7221354166666667, \"source?\": true}, \"ORACLE.run18\": {\"accuracy\": 0.8166666666666667, \"source?\": true}, \"ORACLE.run138\": {\"accuracy\": 0.7161458333333334, \"source?\": true}, \"Wisig_3\": {\"accuracy\": 0.5657751091703057, \"source?\": false}, \"Wisig_4\": {\"accuracy\": 0.5134297520661157, \"source?\": false}, \"Wisig_2\": {\"accuracy\": 0.5654008438818565, \"source?\": false}, \"Wisig_1\": {\"accuracy\": 0.5630252100840336, \"source?\": false}}}, \"history\": {\"epoch_indices\": [1, 2, 3, 4, 5], \"train_label_loss\": [0.7847182609007827, 0.617198962555267, 0.42097976628131056, 0.35189229642814357, 0.3120490147328902], \"source_val_label_loss\": [4.826997756958008, 0.5296034216880798, 0.41848668456077576, 0.40839114785194397, 0.3072110116481781], \"target_val_label_loss\": [793.4472045898438, 355.0447998046875, 433.44732666015625, 479.9438171386719, 526.4535522460938], \"source_val_acc_label\": [0.77705078125, 0.8055989583333333, 0.8470052083333334, 0.8496744791666667, 0.8914388020833334], \"target_val_acc_label\": [0.5515988372093024, 0.5157241014799154, 0.5140393763213531, 0.5051202431289641, 0.5160874735729387]}, \"dataset_metrics\": {\"source\": {\"train\": {\"n_unique_x\": 179200, \"n_unique_y\": 16, \"n_batch/episode\": 6720}, \"val\": {\"n_unique_x\": 38400, \"n_unique_y\": 16, \"n_batch/episode\": 960}, \"test\": {\"n_unique_x\": 38400, \"n_unique_y\": 16, \"n_batch/episode\": 960}}, \"target\": {\"train\": {\"n_unique_x\": 189051, \"n_unique_y\": 130, \"n_batch/episode\": 6861}, \"val\": {\"n_unique_x\": 40049, \"n_unique_y\": 130, \"n_batch/episode\": 946}, \"test\": {\"n_unique_x\": 40794, \"n_unique_y\": 130, \"n_batch/episode\": 966}}}}'"
      ]
     },
     "execution_count": 29,
     "metadata": {},
     "output_type": "execute_result"
    }
   ],
   "source": [
    "json.dumps(experiment)"
   ]
  }
 ],
 "metadata": {
  "celltoolbar": "Tags",
  "kernelspec": {
   "display_name": "Python 3 (ipykernel)",
   "language": "python",
   "name": "python3"
  },
  "language_info": {
   "codemirror_mode": {
    "name": "ipython",
    "version": 3
   },
   "file_extension": ".py",
   "mimetype": "text/x-python",
   "name": "python",
   "nbconvert_exporter": "python",
   "pygments_lexer": "ipython3",
   "version": "3.8.12"
  },
  "papermill": {
   "default_parameters": {},
   "duration": 1582.564148,
   "end_time": "2022-03-21T09:49:59.834348",
   "environment_variables": {},
   "exception": null,
   "input_path": "/root/csc500-main/csc500-notebooks/templates/tl_ptn_template.ipynb",
   "output_path": "trial.ipynb",
   "parameters": {
    "parameters": {
     "BEST_MODEL_PATH": "./best_model.pth",
     "NUM_LOGS_PER_EPOCH": 10,
     "criteria_for_best": "target_accuracy",
     "dataset_seed": 420,
     "datasets": [
      {
       "domain_prefix": "Wisig_",
       "domains": [
        1,
        2,
        3,
        4
       ],
       "episode_transforms": [],
       "labels": [
        "1-10",
        "1-12",
        "1-14",
        "1-16",
        "1-18",
        "1-19",
        "1-8",
        "10-11",
        "10-17",
        "10-4",
        "10-7",
        "11-1",
        "11-10",
        "11-19",
        "11-20",
        "11-4",
        "11-7",
        "12-19",
        "12-20",
        "12-7",
        "13-14",
        "13-18",
        "13-19",
        "13-20",
        "13-3",
        "13-7",
        "14-10",
        "14-11",
        "14-12",
        "14-13",
        "14-14",
        "14-19",
        "14-20",
        "14-7",
        "14-8",
        "14-9",
        "15-1",
        "15-19",
        "15-6",
        "16-1",
        "16-16",
        "16-19",
        "16-20",
        "17-10",
        "17-11",
        "18-1",
        "18-10",
        "18-11",
        "18-12",
        "18-13",
        "18-14",
        "18-15",
        "18-16",
        "18-17",
        "18-19",
        "18-2",
        "18-20",
        "18-4",
        "18-5",
        "18-7",
        "18-8",
        "18-9",
        "19-1",
        "19-10",
        "19-11",
        "19-12",
        "19-13",
        "19-14",
        "19-15",
        "19-19",
        "19-2",
        "19-20",
        "19-3",
        "19-4",
        "19-6",
        "19-7",
        "19-8",
        "19-9",
        "2-1",
        "2-13",
        "2-15",
        "2-3",
        "2-4",
        "2-5",
        "2-6",
        "2-7",
        "2-8",
        "20-1",
        "20-12",
        "20-14",
        "20-15",
        "20-16",
        "20-18",
        "20-19",
        "20-20",
        "20-3",
        "20-4",
        "20-5",
        "20-7",
        "20-8",
        "3-1",
        "3-13",
        "3-18",
        "3-2",
        "3-8",
        "4-1",
        "4-10",
        "4-11",
        "5-1",
        "5-5",
        "6-1",
        "6-15",
        "6-6",
        "7-10",
        "7-11",
        "7-12",
        "7-13",
        "7-14",
        "7-7",
        "7-8",
        "7-9",
        "8-1",
        "8-13",
        "8-14",
        "8-18",
        "8-20",
        "8-3",
        "8-8",
        "9-1",
        "9-7"
       ],
       "num_examples_per_domain_per_label": -1,
       "pickle_path": "/root/csc500-main/datasets/wisig.node3-19.stratified_ds.2022A.pkl",
       "source_or_target_dataset": "target",
       "x_transforms": [
        "unit_mag"
       ]
      },
      {
       "domain_prefix": "ORACLE.run1",
       "domains": [
        32,
        38,
        8,
        44,
        14,
        50,
        20,
        26
       ],
       "episode_transforms": [],
       "labels": [
        "3123D52",
        "3123D65",
        "3123D79",
        "3123D80",
        "3123D54",
        "3123D70",
        "3123D7B",
        "3123D89",
        "3123D58",
        "3123D76",
        "3123D7D",
        "3123EFE",
        "3123D64",
        "3123D78",
        "3123D7E",
        "3124E4A"
       ],
       "num_examples_per_domain_per_label": 2000,
       "pickle_path": "/root/csc500-main/datasets/oracle.Run1_framed_2000Examples_stratified_ds.2022A.pkl",
       "source_or_target_dataset": "source",
       "x_transforms": [
        "unit_mag"
       ]
      }
     ],
     "device": "cuda",
     "experiment_name": "tl_1v2:wisig-oracle.run1.framed",
     "lr": 0.0001,
     "n_epoch": 50,
     "n_query": 2,
     "n_shot": 3,
     "n_way": 16,
     "patience": 3,
     "seed": 420,
     "test_k_factor": 2,
     "torch_default_dtype": "torch.float32",
     "train_k_factor": 3,
     "val_k_factor": 2,
     "x_net": [
      {
       "class": "nnReshape",
       "kargs": {
        "shape": [
         -1,
         1,
         2,
         256
        ]
       }
      },
      {
       "class": "Conv2d",
       "kargs": {
        "bias": false,
        "in_channels": 1,
        "kernel_size": [
         1,
         7
        ],
        "out_channels": 256,
        "padding": [
         0,
         3
        ]
       }
      },
      {
       "class": "ReLU",
       "kargs": {
        "inplace": true
       }
      },
      {
       "class": "BatchNorm2d",
       "kargs": {
        "num_features": 256
       }
      },
      {
       "class": "Conv2d",
       "kargs": {
        "bias": true,
        "in_channels": 256,
        "kernel_size": [
         2,
         7
        ],
        "out_channels": 80,
        "padding": [
         0,
         3
        ]
       }
      },
      {
       "class": "ReLU",
       "kargs": {
        "inplace": true
       }
      },
      {
       "class": "BatchNorm2d",
       "kargs": {
        "num_features": 80
       }
      },
      {
       "class": "Flatten",
       "kargs": {}
      },
      {
       "class": "Linear",
       "kargs": {
        "in_features": 20480,
        "out_features": 256
       }
      },
      {
       "class": "ReLU",
       "kargs": {
        "inplace": true
       }
      },
      {
       "class": "BatchNorm1d",
       "kargs": {
        "num_features": 256
       }
      },
      {
       "class": "Linear",
       "kargs": {
        "in_features": 256,
        "out_features": 256
       }
      }
     ]
    }
   },
   "start_time": "2022-03-21T09:23:37.270200",
   "version": "2.3.4"
  }
 },
 "nbformat": 4,
 "nbformat_minor": 5
}