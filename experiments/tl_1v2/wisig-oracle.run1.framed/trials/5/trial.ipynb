{
 "cells": [
  {
   "cell_type": "markdown",
   "id": "9fea5f46",
   "metadata": {
    "papermill": {
     "duration": 0.032476,
     "end_time": "2022-03-21T07:09:42.283152",
     "exception": false,
     "start_time": "2022-03-21T07:09:42.250676",
     "status": "completed"
    },
    "tags": []
   },
   "source": [
    "# Transfer Learning Template"
   ]
  },
  {
   "cell_type": "code",
   "execution_count": 1,
   "id": "0902182a",
   "metadata": {
    "execution": {
     "iopub.execute_input": "2022-03-21T07:09:42.347829Z",
     "iopub.status.busy": "2022-03-21T07:09:42.334016Z",
     "iopub.status.idle": "2022-03-21T07:09:44.242780Z",
     "shell.execute_reply": "2022-03-21T07:09:44.241957Z"
    },
    "papermill": {
     "duration": 1.936268,
     "end_time": "2022-03-21T07:09:44.242979",
     "exception": false,
     "start_time": "2022-03-21T07:09:42.306711",
     "status": "completed"
    },
    "tags": []
   },
   "outputs": [],
   "source": [
    "%load_ext autoreload\n",
    "%autoreload 2\n",
    "%matplotlib inline\n",
    "\n",
    "    \n",
    "import os, json, sys, time, random\n",
    "import numpy as np\n",
    "import torch\n",
    "from torch.optim import Adam\n",
    "from  easydict import EasyDict\n",
    "import matplotlib.pyplot as plt\n",
    "\n",
    "from steves_models.steves_ptn import Steves_Prototypical_Network\n",
    "\n",
    "from steves_utils.lazy_iterable_wrapper import Lazy_Iterable_Wrapper\n",
    "from steves_utils.iterable_aggregator import Iterable_Aggregator\n",
    "from steves_utils.ptn_train_eval_test_jig import  PTN_Train_Eval_Test_Jig\n",
    "from steves_utils.torch_sequential_builder import build_sequential\n",
    "from steves_utils.torch_utils import get_dataset_metrics, ptn_confusion_by_domain_over_dataloader\n",
    "from steves_utils.utils_v2 import (per_domain_accuracy_from_confusion, get_datasets_base_path)\n",
    "from steves_utils.PTN.utils import independent_accuracy_assesment\n",
    "\n",
    "from torch.utils.data import DataLoader\n",
    "\n",
    "from steves_utils.stratified_dataset.episodic_accessor import Episodic_Accessor_Factory\n",
    "\n",
    "from steves_utils.ptn_do_report import (\n",
    "    get_loss_curve,\n",
    "    get_results_table,\n",
    "    get_parameters_table,\n",
    "    get_domain_accuracies,\n",
    ")\n",
    "\n",
    "from steves_utils.transforms import get_chained_transform"
   ]
  },
  {
   "cell_type": "markdown",
   "id": "41c840b4",
   "metadata": {
    "papermill": {
     "duration": 0.024861,
     "end_time": "2022-03-21T07:09:44.292664",
     "exception": false,
     "start_time": "2022-03-21T07:09:44.267803",
     "status": "completed"
    },
    "tags": []
   },
   "source": [
    "# Allowed Parameters\n",
    "These are allowed parameters, not defaults\n",
    "Each of these values need to be present in the injected parameters (the notebook will raise an exception if they are not present)\n",
    "\n",
    "Papermill uses the cell tag \"parameters\" to inject the real parameters below this cell.\n",
    "Enable tags to see what I mean"
   ]
  },
  {
   "cell_type": "code",
   "execution_count": 2,
   "id": "fd44eb83",
   "metadata": {
    "execution": {
     "iopub.execute_input": "2022-03-21T07:09:44.339109Z",
     "iopub.status.busy": "2022-03-21T07:09:44.338517Z",
     "iopub.status.idle": "2022-03-21T07:09:44.363692Z",
     "shell.execute_reply": "2022-03-21T07:09:44.364382Z"
    },
    "papermill": {
     "duration": 0.051999,
     "end_time": "2022-03-21T07:09:44.364577",
     "exception": false,
     "start_time": "2022-03-21T07:09:44.312578",
     "status": "completed"
    },
    "tags": []
   },
   "outputs": [],
   "source": [
    "required_parameters = {\n",
    "    \"experiment_name\",\n",
    "    \"lr\",\n",
    "    \"device\",\n",
    "    \"seed\",\n",
    "    \"dataset_seed\",\n",
    "    \"n_shot\",\n",
    "    \"n_query\",\n",
    "    \"n_way\",\n",
    "    \"train_k_factor\",\n",
    "    \"val_k_factor\",\n",
    "    \"test_k_factor\",\n",
    "    \"n_epoch\",\n",
    "    \"patience\",\n",
    "    \"criteria_for_best\",\n",
    "    \"x_net\",\n",
    "    \"datasets\",\n",
    "    \"torch_default_dtype\",\n",
    "    \"NUM_LOGS_PER_EPOCH\",\n",
    "    \"BEST_MODEL_PATH\",\n",
    "    \"x_shape\",\n",
    "}"
   ]
  },
  {
   "cell_type": "code",
   "execution_count": 3,
   "id": "fa3f0049",
   "metadata": {
    "execution": {
     "iopub.execute_input": "2022-03-21T07:09:44.426113Z",
     "iopub.status.busy": "2022-03-21T07:09:44.425182Z",
     "iopub.status.idle": "2022-03-21T07:09:44.451027Z",
     "shell.execute_reply": "2022-03-21T07:09:44.450345Z"
    },
    "papermill": {
     "duration": 0.060548,
     "end_time": "2022-03-21T07:09:44.451190",
     "exception": false,
     "start_time": "2022-03-21T07:09:44.390642",
     "status": "completed"
    },
    "tags": [
     "parameters"
    ]
   },
   "outputs": [],
   "source": [
    "from steves_utils.CORES.utils import (\n",
    "    ALL_NODES,\n",
    "    ALL_NODES_MINIMUM_1000_EXAMPLES,\n",
    "    ALL_DAYS\n",
    ")\n",
    "\n",
    "from steves_utils.ORACLE.utils_v2 import (\n",
    "    ALL_DISTANCES_FEET_NARROWED,\n",
    "    ALL_RUNS,\n",
    "    ALL_SERIAL_NUMBERS,\n",
    ")\n",
    "\n",
    "standalone_parameters = {}\n",
    "standalone_parameters[\"experiment_name\"] = \"STANDALONE PTN\"\n",
    "standalone_parameters[\"lr\"] = 0.001\n",
    "standalone_parameters[\"device\"] = \"cuda\"\n",
    "\n",
    "standalone_parameters[\"seed\"] = 1337\n",
    "standalone_parameters[\"dataset_seed\"] = 1337\n",
    "\n",
    "standalone_parameters[\"n_way\"] = 8\n",
    "standalone_parameters[\"n_shot\"] = 3\n",
    "standalone_parameters[\"n_query\"]  = 2\n",
    "standalone_parameters[\"train_k_factor\"] = 1\n",
    "standalone_parameters[\"val_k_factor\"] = 2\n",
    "standalone_parameters[\"test_k_factor\"] = 2\n",
    "\n",
    "\n",
    "standalone_parameters[\"n_epoch\"] = 50\n",
    "\n",
    "standalone_parameters[\"patience\"] = 10\n",
    "standalone_parameters[\"criteria_for_best\"] = \"source_loss\"\n",
    "\n",
    "standalone_parameters[\"datasets\"] = [\n",
    "    {\n",
    "        \"labels\": ALL_SERIAL_NUMBERS,\n",
    "        \"domains\": ALL_DISTANCES_FEET_NARROWED,\n",
    "        \"num_examples_per_domain_per_label\": 100,\n",
    "        \"pickle_path\": os.path.join(get_datasets_base_path(), \"oracle.Run1_framed_2000Examples_stratified_ds.2022A.pkl\"),\n",
    "        \"source_or_target_dataset\": \"source\",\n",
    "        \"x_transforms\": [\"unit_mag\", \"minus_two\"],\n",
    "        \"episode_transforms\": [],\n",
    "        \"domain_prefix\": \"ORACLE_\"\n",
    "    },\n",
    "    {\n",
    "        \"labels\": ALL_NODES,\n",
    "        \"domains\": ALL_DAYS,\n",
    "        \"num_examples_per_domain_per_label\": 100,\n",
    "        \"pickle_path\": os.path.join(get_datasets_base_path(), \"cores.stratified_ds.2022A.pkl\"),\n",
    "        \"source_or_target_dataset\": \"target\",\n",
    "        \"x_transforms\": [\"unit_power\", \"times_zero\"],\n",
    "        \"episode_transforms\": [],\n",
    "        \"domain_prefix\": \"CORES_\"\n",
    "    }   \n",
    "]\n",
    "\n",
    "standalone_parameters[\"torch_default_dtype\"] = \"torch.float32\" \n",
    "\n",
    "\n",
    "\n",
    "standalone_parameters[\"x_net\"] =     [\n",
    "    {\"class\": \"nnReshape\", \"kargs\": {\"shape\":[-1, 1, 2, 256]}},\n",
    "    {\"class\": \"Conv2d\", \"kargs\": { \"in_channels\":1, \"out_channels\":256, \"kernel_size\":(1,7), \"bias\":False, \"padding\":(0,3), },},\n",
    "    {\"class\": \"ReLU\", \"kargs\": {\"inplace\": True}},\n",
    "    {\"class\": \"BatchNorm2d\", \"kargs\": {\"num_features\":256}},\n",
    "\n",
    "    {\"class\": \"Conv2d\", \"kargs\": { \"in_channels\":256, \"out_channels\":80, \"kernel_size\":(2,7), \"bias\":True, \"padding\":(0,3), },},\n",
    "    {\"class\": \"ReLU\", \"kargs\": {\"inplace\": True}},\n",
    "    {\"class\": \"BatchNorm2d\", \"kargs\": {\"num_features\":80}},\n",
    "    {\"class\": \"Flatten\", \"kargs\": {}},\n",
    "\n",
    "    {\"class\": \"Linear\", \"kargs\": {\"in_features\": 80*256, \"out_features\": 256}}, # 80 units per IQ pair\n",
    "    {\"class\": \"ReLU\", \"kargs\": {\"inplace\": True}},\n",
    "    {\"class\": \"BatchNorm1d\", \"kargs\": {\"num_features\":256}},\n",
    "\n",
    "    {\"class\": \"Linear\", \"kargs\": {\"in_features\": 256, \"out_features\": 256}},\n",
    "]\n",
    "\n",
    "# Parameters relevant to results\n",
    "# These parameters will basically never need to change\n",
    "standalone_parameters[\"NUM_LOGS_PER_EPOCH\"] = 10\n",
    "standalone_parameters[\"BEST_MODEL_PATH\"] = \"./best_model.pth\"\n",
    "\n",
    "\n",
    "\n",
    "\n"
   ]
  },
  {
   "cell_type": "code",
   "execution_count": 4,
   "id": "768f72c1",
   "metadata": {
    "execution": {
     "iopub.execute_input": "2022-03-21T07:09:44.513927Z",
     "iopub.status.busy": "2022-03-21T07:09:44.504189Z",
     "iopub.status.idle": "2022-03-21T07:09:44.539439Z",
     "shell.execute_reply": "2022-03-21T07:09:44.538753Z"
    },
    "papermill": {
     "duration": 0.064056,
     "end_time": "2022-03-21T07:09:44.539621",
     "exception": false,
     "start_time": "2022-03-21T07:09:44.475565",
     "status": "completed"
    },
    "tags": [
     "injected-parameters"
    ]
   },
   "outputs": [],
   "source": [
    "# Parameters\n",
    "parameters = {\n",
    "    \"experiment_name\": \"tl_1v2:wisig-oracle.run1.framed\",\n",
    "    \"device\": \"cuda\",\n",
    "    \"lr\": 0.0001,\n",
    "    \"n_shot\": 3,\n",
    "    \"n_query\": 2,\n",
    "    \"train_k_factor\": 3,\n",
    "    \"val_k_factor\": 2,\n",
    "    \"test_k_factor\": 2,\n",
    "    \"torch_default_dtype\": \"torch.float32\",\n",
    "    \"n_epoch\": 50,\n",
    "    \"patience\": 3,\n",
    "    \"criteria_for_best\": \"target_accuracy\",\n",
    "    \"x_net\": [\n",
    "        {\"class\": \"nnReshape\", \"kargs\": {\"shape\": [-1, 1, 2, 256]}},\n",
    "        {\n",
    "            \"class\": \"Conv2d\",\n",
    "            \"kargs\": {\n",
    "                \"in_channels\": 1,\n",
    "                \"out_channels\": 256,\n",
    "                \"kernel_size\": [1, 7],\n",
    "                \"bias\": False,\n",
    "                \"padding\": [0, 3],\n",
    "            },\n",
    "        },\n",
    "        {\"class\": \"ReLU\", \"kargs\": {\"inplace\": True}},\n",
    "        {\"class\": \"BatchNorm2d\", \"kargs\": {\"num_features\": 256}},\n",
    "        {\n",
    "            \"class\": \"Conv2d\",\n",
    "            \"kargs\": {\n",
    "                \"in_channels\": 256,\n",
    "                \"out_channels\": 80,\n",
    "                \"kernel_size\": [2, 7],\n",
    "                \"bias\": True,\n",
    "                \"padding\": [0, 3],\n",
    "            },\n",
    "        },\n",
    "        {\"class\": \"ReLU\", \"kargs\": {\"inplace\": True}},\n",
    "        {\"class\": \"BatchNorm2d\", \"kargs\": {\"num_features\": 80}},\n",
    "        {\"class\": \"Flatten\", \"kargs\": {}},\n",
    "        {\"class\": \"Linear\", \"kargs\": {\"in_features\": 20480, \"out_features\": 256}},\n",
    "        {\"class\": \"ReLU\", \"kargs\": {\"inplace\": True}},\n",
    "        {\"class\": \"BatchNorm1d\", \"kargs\": {\"num_features\": 256}},\n",
    "        {\"class\": \"Linear\", \"kargs\": {\"in_features\": 256, \"out_features\": 256}},\n",
    "    ],\n",
    "    \"NUM_LOGS_PER_EPOCH\": 10,\n",
    "    \"BEST_MODEL_PATH\": \"./best_model.pth\",\n",
    "    \"n_way\": 16,\n",
    "    \"datasets\": [\n",
    "        {\n",
    "            \"labels\": [\n",
    "                \"1-10\",\n",
    "                \"1-12\",\n",
    "                \"1-14\",\n",
    "                \"1-16\",\n",
    "                \"1-18\",\n",
    "                \"1-19\",\n",
    "                \"1-8\",\n",
    "                \"10-11\",\n",
    "                \"10-17\",\n",
    "                \"10-4\",\n",
    "                \"10-7\",\n",
    "                \"11-1\",\n",
    "                \"11-10\",\n",
    "                \"11-19\",\n",
    "                \"11-20\",\n",
    "                \"11-4\",\n",
    "                \"11-7\",\n",
    "                \"12-19\",\n",
    "                \"12-20\",\n",
    "                \"12-7\",\n",
    "                \"13-14\",\n",
    "                \"13-18\",\n",
    "                \"13-19\",\n",
    "                \"13-20\",\n",
    "                \"13-3\",\n",
    "                \"13-7\",\n",
    "                \"14-10\",\n",
    "                \"14-11\",\n",
    "                \"14-12\",\n",
    "                \"14-13\",\n",
    "                \"14-14\",\n",
    "                \"14-19\",\n",
    "                \"14-20\",\n",
    "                \"14-7\",\n",
    "                \"14-8\",\n",
    "                \"14-9\",\n",
    "                \"15-1\",\n",
    "                \"15-19\",\n",
    "                \"15-6\",\n",
    "                \"16-1\",\n",
    "                \"16-16\",\n",
    "                \"16-19\",\n",
    "                \"16-20\",\n",
    "                \"17-10\",\n",
    "                \"17-11\",\n",
    "                \"18-1\",\n",
    "                \"18-10\",\n",
    "                \"18-11\",\n",
    "                \"18-12\",\n",
    "                \"18-13\",\n",
    "                \"18-14\",\n",
    "                \"18-15\",\n",
    "                \"18-16\",\n",
    "                \"18-17\",\n",
    "                \"18-19\",\n",
    "                \"18-2\",\n",
    "                \"18-20\",\n",
    "                \"18-4\",\n",
    "                \"18-5\",\n",
    "                \"18-7\",\n",
    "                \"18-8\",\n",
    "                \"18-9\",\n",
    "                \"19-1\",\n",
    "                \"19-10\",\n",
    "                \"19-11\",\n",
    "                \"19-12\",\n",
    "                \"19-13\",\n",
    "                \"19-14\",\n",
    "                \"19-15\",\n",
    "                \"19-19\",\n",
    "                \"19-2\",\n",
    "                \"19-20\",\n",
    "                \"19-3\",\n",
    "                \"19-4\",\n",
    "                \"19-6\",\n",
    "                \"19-7\",\n",
    "                \"19-8\",\n",
    "                \"19-9\",\n",
    "                \"2-1\",\n",
    "                \"2-13\",\n",
    "                \"2-15\",\n",
    "                \"2-3\",\n",
    "                \"2-4\",\n",
    "                \"2-5\",\n",
    "                \"2-6\",\n",
    "                \"2-7\",\n",
    "                \"2-8\",\n",
    "                \"20-1\",\n",
    "                \"20-12\",\n",
    "                \"20-14\",\n",
    "                \"20-15\",\n",
    "                \"20-16\",\n",
    "                \"20-18\",\n",
    "                \"20-19\",\n",
    "                \"20-20\",\n",
    "                \"20-3\",\n",
    "                \"20-4\",\n",
    "                \"20-5\",\n",
    "                \"20-7\",\n",
    "                \"20-8\",\n",
    "                \"3-1\",\n",
    "                \"3-13\",\n",
    "                \"3-18\",\n",
    "                \"3-2\",\n",
    "                \"3-8\",\n",
    "                \"4-1\",\n",
    "                \"4-10\",\n",
    "                \"4-11\",\n",
    "                \"5-1\",\n",
    "                \"5-5\",\n",
    "                \"6-1\",\n",
    "                \"6-15\",\n",
    "                \"6-6\",\n",
    "                \"7-10\",\n",
    "                \"7-11\",\n",
    "                \"7-12\",\n",
    "                \"7-13\",\n",
    "                \"7-14\",\n",
    "                \"7-7\",\n",
    "                \"7-8\",\n",
    "                \"7-9\",\n",
    "                \"8-1\",\n",
    "                \"8-13\",\n",
    "                \"8-14\",\n",
    "                \"8-18\",\n",
    "                \"8-20\",\n",
    "                \"8-3\",\n",
    "                \"8-8\",\n",
    "                \"9-1\",\n",
    "                \"9-7\",\n",
    "            ],\n",
    "            \"domains\": [1, 2, 3, 4],\n",
    "            \"num_examples_per_domain_per_label\": -1,\n",
    "            \"pickle_path\": \"/root/csc500-main/datasets/wisig.node3-19.stratified_ds.2022A.pkl\",\n",
    "            \"source_or_target_dataset\": \"target\",\n",
    "            \"x_transforms\": [],\n",
    "            \"episode_transforms\": [],\n",
    "            \"domain_prefix\": \"Wisig_\",\n",
    "        },\n",
    "        {\n",
    "            \"labels\": [\n",
    "                \"3123D52\",\n",
    "                \"3123D65\",\n",
    "                \"3123D79\",\n",
    "                \"3123D80\",\n",
    "                \"3123D54\",\n",
    "                \"3123D70\",\n",
    "                \"3123D7B\",\n",
    "                \"3123D89\",\n",
    "                \"3123D58\",\n",
    "                \"3123D76\",\n",
    "                \"3123D7D\",\n",
    "                \"3123EFE\",\n",
    "                \"3123D64\",\n",
    "                \"3123D78\",\n",
    "                \"3123D7E\",\n",
    "                \"3124E4A\",\n",
    "            ],\n",
    "            \"domains\": [32, 38, 8, 44, 14, 50, 20, 26],\n",
    "            \"num_examples_per_domain_per_label\": 2000,\n",
    "            \"pickle_path\": \"/root/csc500-main/datasets/oracle.Run1_framed_2000Examples_stratified_ds.2022A.pkl\",\n",
    "            \"source_or_target_dataset\": \"source\",\n",
    "            \"x_transforms\": [],\n",
    "            \"episode_transforms\": [],\n",
    "            \"domain_prefix\": \"ORACLE.run1\",\n",
    "        },\n",
    "    ],\n",
    "    \"dataset_seed\": 1337,\n",
    "    \"seed\": 1337,\n",
    "}\n"
   ]
  },
  {
   "cell_type": "code",
   "execution_count": 5,
   "id": "8fa1cc33",
   "metadata": {
    "execution": {
     "iopub.execute_input": "2022-03-21T07:09:44.592642Z",
     "iopub.status.busy": "2022-03-21T07:09:44.592064Z",
     "iopub.status.idle": "2022-03-21T07:09:44.618231Z",
     "shell.execute_reply": "2022-03-21T07:09:44.617515Z"
    },
    "papermill": {
     "duration": 0.054036,
     "end_time": "2022-03-21T07:09:44.618390",
     "exception": false,
     "start_time": "2022-03-21T07:09:44.564354",
     "status": "completed"
    },
    "tags": []
   },
   "outputs": [],
   "source": [
    "# Set this to True if you want to run this template directly\n",
    "STANDALONE = False\n",
    "if STANDALONE:\n",
    "    print(\"parameters not injected, running with standalone_parameters\")\n",
    "    parameters = standalone_parameters\n",
    "\n",
    "if not 'parameters' in locals() and not 'parameters' in globals():\n",
    "    raise Exception(\"Parameter injection failed\")\n",
    "\n",
    "#Use an easy dict for all the parameters\n",
    "p = EasyDict(parameters)\n",
    "\n",
    "if \"x_shape\" not in p:\n",
    "    p.x_shape = [2,256] # Default to this if we dont supply x_shape\n",
    "\n",
    "\n",
    "supplied_keys = set(p.keys())\n",
    "\n",
    "if  supplied_keys != required_parameters:\n",
    "    print(\"Parameters are incorrect\")\n",
    "    if len(supplied_keys - required_parameters)>0: print(\"Shouldn't have:\", str(supplied_keys - required_parameters))\n",
    "    if len(required_parameters - supplied_keys)>0: print(\"Need to have:\", str(required_parameters - supplied_keys))\n",
    "    raise RuntimeError(\"Parameters are incorrect\")"
   ]
  },
  {
   "cell_type": "code",
   "execution_count": 6,
   "id": "3a028d58",
   "metadata": {
    "execution": {
     "iopub.execute_input": "2022-03-21T07:09:44.668995Z",
     "iopub.status.busy": "2022-03-21T07:09:44.668430Z",
     "iopub.status.idle": "2022-03-21T07:09:44.695926Z",
     "shell.execute_reply": "2022-03-21T07:09:44.695167Z"
    },
    "papermill": {
     "duration": 0.052462,
     "end_time": "2022-03-21T07:09:44.696083",
     "exception": false,
     "start_time": "2022-03-21T07:09:44.643621",
     "status": "completed"
    },
    "tags": []
   },
   "outputs": [],
   "source": [
    "###################################\n",
    "# Set the RNGs and make it all deterministic\n",
    "###################################\n",
    "np.random.seed(p.seed)\n",
    "random.seed(p.seed)\n",
    "torch.manual_seed(p.seed)\n",
    "\n",
    "torch.use_deterministic_algorithms(True) "
   ]
  },
  {
   "cell_type": "code",
   "execution_count": 7,
   "id": "b691acf6",
   "metadata": {
    "execution": {
     "iopub.execute_input": "2022-03-21T07:09:44.747101Z",
     "iopub.status.busy": "2022-03-21T07:09:44.746730Z",
     "iopub.status.idle": "2022-03-21T07:09:44.772329Z",
     "shell.execute_reply": "2022-03-21T07:09:44.771514Z"
    },
    "papermill": {
     "duration": 0.049691,
     "end_time": "2022-03-21T07:09:44.772486",
     "exception": false,
     "start_time": "2022-03-21T07:09:44.722795",
     "status": "completed"
    },
    "tags": []
   },
   "outputs": [],
   "source": [
    "###########################################\n",
    "# The stratified datasets honor this\n",
    "###########################################\n",
    "torch.set_default_dtype(eval(p.torch_default_dtype))"
   ]
  },
  {
   "cell_type": "code",
   "execution_count": 8,
   "id": "b5fba671",
   "metadata": {
    "execution": {
     "iopub.execute_input": "2022-03-21T07:09:44.825626Z",
     "iopub.status.busy": "2022-03-21T07:09:44.825060Z",
     "iopub.status.idle": "2022-03-21T07:09:44.884720Z",
     "shell.execute_reply": "2022-03-21T07:09:44.883998Z"
    },
    "papermill": {
     "duration": 0.084086,
     "end_time": "2022-03-21T07:09:44.884876",
     "exception": false,
     "start_time": "2022-03-21T07:09:44.800790",
     "status": "completed"
    },
    "tags": []
   },
   "outputs": [],
   "source": [
    "###################################\n",
    "# Build the network(s)\n",
    "# Note: It's critical to do this AFTER setting the RNG\n",
    "###################################\n",
    "x_net = build_sequential(p.x_net)"
   ]
  },
  {
   "cell_type": "code",
   "execution_count": 9,
   "id": "5d7e61cc",
   "metadata": {
    "execution": {
     "iopub.execute_input": "2022-03-21T07:09:44.937377Z",
     "iopub.status.busy": "2022-03-21T07:09:44.936548Z",
     "iopub.status.idle": "2022-03-21T07:09:44.958242Z",
     "shell.execute_reply": "2022-03-21T07:09:44.957363Z"
    },
    "papermill": {
     "duration": 0.047037,
     "end_time": "2022-03-21T07:09:44.958417",
     "exception": false,
     "start_time": "2022-03-21T07:09:44.911380",
     "status": "completed"
    },
    "tags": []
   },
   "outputs": [],
   "source": [
    "start_time_secs = time.time()"
   ]
  },
  {
   "cell_type": "code",
   "execution_count": 10,
   "id": "c6b67dfd",
   "metadata": {
    "execution": {
     "iopub.execute_input": "2022-03-21T07:09:45.009952Z",
     "iopub.status.busy": "2022-03-21T07:09:45.009564Z",
     "iopub.status.idle": "2022-03-21T07:09:45.034805Z",
     "shell.execute_reply": "2022-03-21T07:09:45.033975Z"
    },
    "papermill": {
     "duration": 0.050842,
     "end_time": "2022-03-21T07:09:45.034975",
     "exception": false,
     "start_time": "2022-03-21T07:09:44.984133",
     "status": "completed"
    },
    "tags": []
   },
   "outputs": [],
   "source": [
    "p.domains_source = []\n",
    "p.domains_target = []\n",
    "\n",
    "\n",
    "train_original_source = []\n",
    "val_original_source   = []\n",
    "test_original_source  = []\n",
    "\n",
    "train_original_target = []\n",
    "val_original_target   = []\n",
    "test_original_target  = []"
   ]
  },
  {
   "cell_type": "code",
   "execution_count": 11,
   "id": "e3d9c3d3",
   "metadata": {
    "execution": {
     "iopub.execute_input": "2022-03-21T07:09:45.085551Z",
     "iopub.status.busy": "2022-03-21T07:09:45.084977Z",
     "iopub.status.idle": "2022-03-21T07:09:45.109760Z",
     "shell.execute_reply": "2022-03-21T07:09:45.109040Z"
    },
    "papermill": {
     "duration": 0.049016,
     "end_time": "2022-03-21T07:09:45.109924",
     "exception": false,
     "start_time": "2022-03-21T07:09:45.060908",
     "status": "completed"
    },
    "tags": []
   },
   "outputs": [],
   "source": [
    "# global_x_transform_func = lambda x: normalize(x.to(torch.get_default_dtype()), \"unit_power\") # unit_power, unit_mag\n",
    "# global_x_transform_func = lambda x: normalize(x, \"unit_power\") # unit_power, unit_mag"
   ]
  },
  {
   "cell_type": "code",
   "execution_count": 12,
   "id": "acb78fd2",
   "metadata": {
    "execution": {
     "iopub.execute_input": "2022-03-21T07:09:45.170223Z",
     "iopub.status.busy": "2022-03-21T07:09:45.169354Z",
     "iopub.status.idle": "2022-03-21T07:09:45.191790Z",
     "shell.execute_reply": "2022-03-21T07:09:45.191042Z"
    },
    "papermill": {
     "duration": 0.056098,
     "end_time": "2022-03-21T07:09:45.191957",
     "exception": false,
     "start_time": "2022-03-21T07:09:45.135859",
     "status": "completed"
    },
    "tags": []
   },
   "outputs": [],
   "source": [
    "def add_dataset(\n",
    "    labels,\n",
    "    domains,\n",
    "    pickle_path,\n",
    "    x_transforms,\n",
    "    episode_transforms,\n",
    "    domain_prefix,\n",
    "    num_examples_per_domain_per_label,\n",
    "    source_or_target_dataset:str,\n",
    "    iterator_seed=p.seed,\n",
    "    dataset_seed=p.dataset_seed,\n",
    "    n_shot=p.n_shot,\n",
    "    n_way=p.n_way,\n",
    "    n_query=p.n_query,\n",
    "    train_val_test_k_factors=(p.train_k_factor,p.val_k_factor,p.test_k_factor),\n",
    "):\n",
    "   \n",
    "    if x_transforms == []: x_transform = None\n",
    "    else: x_transform = get_chained_transform(x_transforms)\n",
    "    \n",
    "    if episode_transforms == []: episode_transform = None\n",
    "    else: raise Exception(\"episode_transforms not implemented\")\n",
    "    \n",
    "    episode_transform = lambda tup, _prefix=domain_prefix: (_prefix + str(tup[0]), tup[1])\n",
    "\n",
    "\n",
    "    eaf = Episodic_Accessor_Factory(\n",
    "        labels=labels,\n",
    "        domains=domains,\n",
    "        num_examples_per_domain_per_label=num_examples_per_domain_per_label,\n",
    "        iterator_seed=iterator_seed,\n",
    "        dataset_seed=dataset_seed,\n",
    "        n_shot=n_shot,\n",
    "        n_way=n_way,\n",
    "        n_query=n_query,\n",
    "        train_val_test_k_factors=train_val_test_k_factors,\n",
    "        pickle_path=pickle_path,\n",
    "        x_transform_func=x_transform,\n",
    "    )\n",
    "\n",
    "    train, val, test = eaf.get_train(), eaf.get_val(), eaf.get_test()\n",
    "    train = Lazy_Iterable_Wrapper(train, episode_transform)\n",
    "    val = Lazy_Iterable_Wrapper(val, episode_transform)\n",
    "    test = Lazy_Iterable_Wrapper(test, episode_transform)\n",
    "\n",
    "    if source_or_target_dataset==\"source\":\n",
    "        train_original_source.append(train)\n",
    "        val_original_source.append(val)\n",
    "        test_original_source.append(test)\n",
    "\n",
    "        p.domains_source.extend(\n",
    "            [domain_prefix + str(u) for u in domains]\n",
    "        )\n",
    "    elif source_or_target_dataset==\"target\":\n",
    "        train_original_target.append(train)\n",
    "        val_original_target.append(val)\n",
    "        test_original_target.append(test)\n",
    "        p.domains_target.extend(\n",
    "            [domain_prefix + str(u) for u in domains]\n",
    "        )\n",
    "    else:\n",
    "        raise Exception(f\"invalid source_or_target_dataset: {source_or_target_dataset}\")\n",
    "    "
   ]
  },
  {
   "cell_type": "code",
   "execution_count": 13,
   "id": "fe266617",
   "metadata": {
    "execution": {
     "iopub.execute_input": "2022-03-21T07:09:45.242432Z",
     "iopub.status.busy": "2022-03-21T07:09:45.242055Z",
     "iopub.status.idle": "2022-03-21T07:09:48.950042Z",
     "shell.execute_reply": "2022-03-21T07:09:48.950718Z"
    },
    "papermill": {
     "duration": 3.73348,
     "end_time": "2022-03-21T07:09:48.950955",
     "exception": false,
     "start_time": "2022-03-21T07:09:45.217475",
     "status": "completed"
    },
    "tags": []
   },
   "outputs": [],
   "source": [
    "for ds in p.datasets:\n",
    "    add_dataset(**ds)"
   ]
  },
  {
   "cell_type": "code",
   "execution_count": 14,
   "id": "b90d65ac",
   "metadata": {
    "execution": {
     "iopub.execute_input": "2022-03-21T07:09:49.002020Z",
     "iopub.status.busy": "2022-03-21T07:09:49.001634Z",
     "iopub.status.idle": "2022-03-21T07:09:49.026328Z",
     "shell.execute_reply": "2022-03-21T07:09:49.025655Z"
    },
    "papermill": {
     "duration": 0.049327,
     "end_time": "2022-03-21T07:09:49.026491",
     "exception": false,
     "start_time": "2022-03-21T07:09:48.977164",
     "status": "completed"
    },
    "tags": []
   },
   "outputs": [],
   "source": [
    "# from steves_utils.CORES.utils import (\n",
    "#     ALL_NODES,\n",
    "#     ALL_NODES_MINIMUM_1000_EXAMPLES,\n",
    "#     ALL_DAYS\n",
    "# )\n",
    "\n",
    "# add_dataset(\n",
    "#     labels=ALL_NODES,\n",
    "#     domains = ALL_DAYS,\n",
    "#     num_examples_per_domain_per_label=100,\n",
    "#     pickle_path=os.path.join(get_datasets_base_path(), \"cores.stratified_ds.2022A.pkl\"),\n",
    "#     source_or_target_dataset=\"target\",\n",
    "#     x_transform_func=global_x_transform_func,\n",
    "#     domain_modifier=lambda u: f\"cores_{u}\"\n",
    "# )"
   ]
  },
  {
   "cell_type": "code",
   "execution_count": 15,
   "id": "76db484d",
   "metadata": {
    "execution": {
     "iopub.execute_input": "2022-03-21T07:09:49.077696Z",
     "iopub.status.busy": "2022-03-21T07:09:49.076968Z",
     "iopub.status.idle": "2022-03-21T07:09:49.099603Z",
     "shell.execute_reply": "2022-03-21T07:09:49.098771Z"
    },
    "papermill": {
     "duration": 0.046806,
     "end_time": "2022-03-21T07:09:49.099764",
     "exception": false,
     "start_time": "2022-03-21T07:09:49.052958",
     "status": "completed"
    },
    "tags": []
   },
   "outputs": [],
   "source": [
    "# from steves_utils.ORACLE.utils_v2 import (\n",
    "#     ALL_DISTANCES_FEET,\n",
    "#     ALL_RUNS,\n",
    "#     ALL_SERIAL_NUMBERS,\n",
    "# )\n",
    "\n",
    "\n",
    "# add_dataset(\n",
    "#     labels=ALL_SERIAL_NUMBERS,\n",
    "#     domains = list(set(ALL_DISTANCES_FEET) - {2,62}),\n",
    "#     num_examples_per_domain_per_label=100,\n",
    "#     pickle_path=os.path.join(get_datasets_base_path(), \"oracle.Run2_framed_2000Examples_stratified_ds.2022A.pkl\"),\n",
    "#     source_or_target_dataset=\"source\",\n",
    "#     x_transform_func=global_x_transform_func,\n",
    "#     domain_modifier=lambda u: f\"oracle1_{u}\"\n",
    "# )\n"
   ]
  },
  {
   "cell_type": "code",
   "execution_count": 16,
   "id": "97dea9d2",
   "metadata": {
    "execution": {
     "iopub.execute_input": "2022-03-21T07:09:49.163595Z",
     "iopub.status.busy": "2022-03-21T07:09:49.163191Z",
     "iopub.status.idle": "2022-03-21T07:09:49.187315Z",
     "shell.execute_reply": "2022-03-21T07:09:49.186489Z"
    },
    "papermill": {
     "duration": 0.054814,
     "end_time": "2022-03-21T07:09:49.187487",
     "exception": false,
     "start_time": "2022-03-21T07:09:49.132673",
     "status": "completed"
    },
    "tags": []
   },
   "outputs": [],
   "source": [
    "# from steves_utils.ORACLE.utils_v2 import (\n",
    "#     ALL_DISTANCES_FEET,\n",
    "#     ALL_RUNS,\n",
    "#     ALL_SERIAL_NUMBERS,\n",
    "# )\n",
    "\n",
    "\n",
    "# add_dataset(\n",
    "#     labels=ALL_SERIAL_NUMBERS,\n",
    "#     domains = list(set(ALL_DISTANCES_FEET) - {2,62,56}),\n",
    "#     num_examples_per_domain_per_label=100,\n",
    "#     pickle_path=os.path.join(get_datasets_base_path(), \"oracle.Run2_framed_2000Examples_stratified_ds.2022A.pkl\"),\n",
    "#     source_or_target_dataset=\"source\",\n",
    "#     x_transform_func=global_x_transform_func,\n",
    "#     domain_modifier=lambda u: f\"oracle2_{u}\"\n",
    "# )"
   ]
  },
  {
   "cell_type": "code",
   "execution_count": 17,
   "id": "6f289866",
   "metadata": {
    "execution": {
     "iopub.execute_input": "2022-03-21T07:09:49.238618Z",
     "iopub.status.busy": "2022-03-21T07:09:49.237779Z",
     "iopub.status.idle": "2022-03-21T07:09:49.261453Z",
     "shell.execute_reply": "2022-03-21T07:09:49.260650Z"
    },
    "papermill": {
     "duration": 0.046582,
     "end_time": "2022-03-21T07:09:49.261608",
     "exception": false,
     "start_time": "2022-03-21T07:09:49.215026",
     "status": "completed"
    },
    "tags": []
   },
   "outputs": [],
   "source": [
    "# add_dataset(\n",
    "#     labels=list(range(19)),\n",
    "#     domains = [0,1,2],\n",
    "#     num_examples_per_domain_per_label=100,\n",
    "#     pickle_path=os.path.join(get_datasets_base_path(), \"metehan.stratified_ds.2022A.pkl\"),\n",
    "#     source_or_target_dataset=\"target\",\n",
    "#     x_transform_func=global_x_transform_func,\n",
    "#     domain_modifier=lambda u: f\"met_{u}\"\n",
    "# )"
   ]
  },
  {
   "cell_type": "code",
   "execution_count": 18,
   "id": "86a863c3",
   "metadata": {
    "execution": {
     "iopub.execute_input": "2022-03-21T07:09:49.310502Z",
     "iopub.status.busy": "2022-03-21T07:09:49.310132Z",
     "iopub.status.idle": "2022-03-21T07:09:49.331634Z",
     "shell.execute_reply": "2022-03-21T07:09:49.332310Z"
    },
    "papermill": {
     "duration": 0.045155,
     "end_time": "2022-03-21T07:09:49.332493",
     "exception": false,
     "start_time": "2022-03-21T07:09:49.287338",
     "status": "completed"
    },
    "tags": []
   },
   "outputs": [],
   "source": [
    "# # from steves_utils.wisig.utils import (\n",
    "# #     ALL_NODES_MINIMUM_100_EXAMPLES,\n",
    "# #     ALL_NODES_MINIMUM_500_EXAMPLES,\n",
    "# #     ALL_NODES_MINIMUM_1000_EXAMPLES,\n",
    "# #     ALL_DAYS\n",
    "# # )\n",
    "\n",
    "# import steves_utils.wisig.utils as wisig\n",
    "\n",
    "\n",
    "# add_dataset(\n",
    "#     labels=wisig.ALL_NODES_MINIMUM_100_EXAMPLES,\n",
    "#     domains = wisig.ALL_DAYS,\n",
    "#     num_examples_per_domain_per_label=100,\n",
    "#     pickle_path=os.path.join(get_datasets_base_path(), \"wisig.node3-19.stratified_ds.2022A.pkl\"),\n",
    "#     source_or_target_dataset=\"target\",\n",
    "#     x_transform_func=global_x_transform_func,\n",
    "#     domain_modifier=lambda u: f\"wisig_{u}\"\n",
    "# )"
   ]
  },
  {
   "cell_type": "code",
   "execution_count": 19,
   "id": "fd5442bc",
   "metadata": {
    "execution": {
     "iopub.execute_input": "2022-03-21T07:09:49.388111Z",
     "iopub.status.busy": "2022-03-21T07:09:49.387628Z",
     "iopub.status.idle": "2022-03-21T07:09:49.409978Z",
     "shell.execute_reply": "2022-03-21T07:09:49.409175Z"
    },
    "papermill": {
     "duration": 0.050943,
     "end_time": "2022-03-21T07:09:49.410136",
     "exception": false,
     "start_time": "2022-03-21T07:09:49.359193",
     "status": "completed"
    },
    "tags": []
   },
   "outputs": [],
   "source": [
    "###################################\n",
    "# Build the dataset\n",
    "###################################\n",
    "train_original_source = Iterable_Aggregator(train_original_source, p.seed)\n",
    "val_original_source = Iterable_Aggregator(val_original_source, p.seed)\n",
    "test_original_source = Iterable_Aggregator(test_original_source, p.seed)\n",
    "\n",
    "\n",
    "train_original_target = Iterable_Aggregator(train_original_target, p.seed)\n",
    "val_original_target = Iterable_Aggregator(val_original_target, p.seed)\n",
    "test_original_target = Iterable_Aggregator(test_original_target, p.seed)\n",
    "\n",
    "# For CNN We only use X and Y. And we only train on the source.\n",
    "# Properly form the data using a transform lambda and Lazy_Iterable_Wrapper. Finally wrap them in a dataloader\n",
    "\n",
    "transform_lambda = lambda ex: ex[1] # Original is (<domain>, <episode>) so we strip down to episode only\n",
    "\n",
    "train_processed_source = Lazy_Iterable_Wrapper(train_original_source, transform_lambda)\n",
    "val_processed_source   = Lazy_Iterable_Wrapper(val_original_source, transform_lambda)\n",
    "test_processed_source  = Lazy_Iterable_Wrapper(test_original_source, transform_lambda)\n",
    "\n",
    "train_processed_target = Lazy_Iterable_Wrapper(train_original_target, transform_lambda)\n",
    "val_processed_target   = Lazy_Iterable_Wrapper(val_original_target, transform_lambda)\n",
    "test_processed_target  = Lazy_Iterable_Wrapper(test_original_target, transform_lambda)\n",
    "\n",
    "datasets = EasyDict({\n",
    "    \"source\": {\n",
    "        \"original\": {\"train\":train_original_source, \"val\":val_original_source, \"test\":test_original_source},\n",
    "        \"processed\": {\"train\":train_processed_source, \"val\":val_processed_source, \"test\":test_processed_source}\n",
    "    },\n",
    "    \"target\": {\n",
    "        \"original\": {\"train\":train_original_target, \"val\":val_original_target, \"test\":test_original_target},\n",
    "        \"processed\": {\"train\":train_processed_target, \"val\":val_processed_target, \"test\":test_processed_target}\n",
    "    },\n",
    "})"
   ]
  },
  {
   "cell_type": "code",
   "execution_count": 20,
   "id": "5b3c01fc",
   "metadata": {
    "execution": {
     "iopub.execute_input": "2022-03-21T07:09:49.462283Z",
     "iopub.status.busy": "2022-03-21T07:09:49.461911Z",
     "iopub.status.idle": "2022-03-21T07:10:04.914864Z",
     "shell.execute_reply": "2022-03-21T07:10:04.914102Z"
    },
    "papermill": {
     "duration": 15.478961,
     "end_time": "2022-03-21T07:10:04.915046",
     "exception": false,
     "start_time": "2022-03-21T07:09:49.436085",
     "status": "completed"
    },
    "tags": []
   },
   "outputs": [
    {
     "name": "stdout",
     "output_type": "stream",
     "text": [
      "{'ORACLE.run18', 'ORACLE.run120', 'ORACLE.run126', 'ORACLE.run150', 'ORACLE.run138', 'ORACLE.run144', 'ORACLE.run114', 'ORACLE.run132'}\n"
     ]
    },
    {
     "name": "stdout",
     "output_type": "stream",
     "text": [
      "{'Wisig_2', 'Wisig_4', 'Wisig_3', 'Wisig_1'}\n"
     ]
    },
    {
     "name": "stdout",
     "output_type": "stream",
     "text": [
      "tensor([[[-0.0003,  0.0038, -0.0004,  ..., -0.0031, -0.0009, -0.0018],\n",
      "         [-0.0021, -0.0010,  0.0035,  ...,  0.0008, -0.0047, -0.0016]],\n",
      "\n",
      "        [[-0.0015,  0.0022,  0.0018,  ..., -0.0041, -0.0038, -0.0004],\n",
      "         [-0.0037, -0.0010,  0.0036,  ...,  0.0013, -0.0005,  0.0040]],\n",
      "\n",
      "        [[ 0.0021, -0.0012, -0.0025,  ...,  0.0026,  0.0045,  0.0011],\n",
      "         [ 0.0027,  0.0022, -0.0029,  ..., -0.0025,  0.0015, -0.0038]],\n",
      "\n",
      "        ...,\n",
      "\n",
      "        [[ 0.0048, -0.0012, -0.0057,  ...,  0.0031,  0.0048, -0.0031],\n",
      "         [ 0.0027,  0.0034, -0.0018,  ..., -0.0047, -0.0030, -0.0054]],\n",
      "\n",
      "        [[ 0.0001, -0.0048,  0.0014,  ...,  0.0043,  0.0023,  0.0052],\n",
      "         [ 0.0038,  0.0020, -0.0055,  ..., -0.0006,  0.0061, -0.0011]],\n",
      "\n",
      "        [[ 0.0023,  0.0016, -0.0035,  ..., -0.0022,  0.0060,  0.0049],\n",
      "         [-0.0020,  0.0053, -0.0002,  ..., -0.0052, -0.0003, -0.0012]]])\n"
     ]
    }
   ],
   "source": [
    "from steves_utils.transforms import get_average_magnitude, get_average_power\n",
    "\n",
    "print(set([u for u,_ in val_original_source]))\n",
    "print(set([u for u,_ in val_original_target]))\n",
    "\n",
    "s_x, s_y, q_x, q_y, _ = next(iter(train_processed_source))\n",
    "print(s_x)\n",
    "\n",
    "# for ds in [\n",
    "#     train_processed_source,\n",
    "#     val_processed_source,\n",
    "#     test_processed_source,\n",
    "#     train_processed_target,\n",
    "#     val_processed_target,\n",
    "#     test_processed_target\n",
    "# ]:\n",
    "#     for s_x, s_y, q_x, q_y, _ in ds:\n",
    "#         for X in (s_x, q_x):\n",
    "#             for x in X:\n",
    "#                 assert np.isclose(get_average_magnitude(x.numpy()), 1.0)\n",
    "#                 assert np.isclose(get_average_power(x.numpy()), 1.0)\n",
    "                "
   ]
  },
  {
   "cell_type": "code",
   "execution_count": 21,
   "id": "bbdacba1",
   "metadata": {
    "execution": {
     "iopub.execute_input": "2022-03-21T07:10:04.972177Z",
     "iopub.status.busy": "2022-03-21T07:10:04.971802Z",
     "iopub.status.idle": "2022-03-21T07:10:05.174850Z",
     "shell.execute_reply": "2022-03-21T07:10:05.175557Z"
    },
    "papermill": {
     "duration": 0.232432,
     "end_time": "2022-03-21T07:10:05.175802",
     "exception": false,
     "start_time": "2022-03-21T07:10:04.943370",
     "status": "completed"
    },
    "tags": []
   },
   "outputs": [
    {
     "name": "stdout",
     "output_type": "stream",
     "text": [
      "(2, 256)\n"
     ]
    }
   ],
   "source": [
    "###################################\n",
    "# Build the model\n",
    "###################################\n",
    "# easfsl only wants a tuple for the shape\n",
    "model = Steves_Prototypical_Network(x_net, device=p.device, x_shape=tuple(p.x_shape))\n",
    "optimizer = Adam(params=model.parameters(), lr=p.lr)"
   ]
  },
  {
   "cell_type": "code",
   "execution_count": 22,
   "id": "22b39ac5",
   "metadata": {
    "execution": {
     "iopub.execute_input": "2022-03-21T07:10:05.234420Z",
     "iopub.status.busy": "2022-03-21T07:10:05.233782Z",
     "iopub.status.idle": "2022-03-21T07:30:13.515011Z",
     "shell.execute_reply": "2022-03-21T07:30:13.514643Z"
    },
    "papermill": {
     "duration": 1208.309478,
     "end_time": "2022-03-21T07:30:13.515115",
     "exception": false,
     "start_time": "2022-03-21T07:10:05.205637",
     "status": "completed"
    },
    "tags": []
   },
   "outputs": [
    {
     "name": "stdout",
     "output_type": "stream",
     "text": [
      "epoch: 1, [batch: 1 / 6720], examples_per_second: 33.5203, train_label_loss: 2.8228, \n"
     ]
    },
    {
     "name": "stdout",
     "output_type": "stream",
     "text": [
      "epoch: 1, [batch: 672 / 6720], examples_per_second: 2496.3564, train_label_loss: 0.6830, \n"
     ]
    },
    {
     "name": "stdout",
     "output_type": "stream",
     "text": [
      "epoch: 1, [batch: 1344 / 6720], examples_per_second: 2597.4386, train_label_loss: 0.4555, \n"
     ]
    },
    {
     "name": "stdout",
     "output_type": "stream",
     "text": [
      "epoch: 1, [batch: 2016 / 6720], examples_per_second: 2658.4397, train_label_loss: 0.2466, \n"
     ]
    },
    {
     "name": "stdout",
     "output_type": "stream",
     "text": [
      "epoch: 1, [batch: 2688 / 6720], examples_per_second: 2283.2161, train_label_loss: 0.2682, \n"
     ]
    },
    {
     "name": "stdout",
     "output_type": "stream",
     "text": [
      "epoch: 1, [batch: 3360 / 6720], examples_per_second: 2307.3437, train_label_loss: 0.1685, \n"
     ]
    },
    {
     "name": "stdout",
     "output_type": "stream",
     "text": [
      "epoch: 1, [batch: 4032 / 6720], examples_per_second: 2317.7920, train_label_loss: 0.3928, \n"
     ]
    },
    {
     "name": "stdout",
     "output_type": "stream",
     "text": [
      "epoch: 1, [batch: 4704 / 6720], examples_per_second: 2303.4289, train_label_loss: 0.4085, \n"
     ]
    },
    {
     "name": "stdout",
     "output_type": "stream",
     "text": [
      "epoch: 1, [batch: 5376 / 6720], examples_per_second: 2513.6767, train_label_loss: 0.1623, \n"
     ]
    },
    {
     "name": "stdout",
     "output_type": "stream",
     "text": [
      "epoch: 1, [batch: 6048 / 6720], examples_per_second: 2641.9134, train_label_loss: 0.0980, \n"
     ]
    },
    {
     "name": "stdout",
     "output_type": "stream",
     "text": [
      "=============================================================\n",
      "epoch: 1, source_val_acc_label: 0.6115, target_val_acc_label: 0.7962, source_val_label_loss: 108.5831, target_val_label_loss: 7299.5088, \n",
      "=============================================================\n"
     ]
    },
    {
     "name": "stdout",
     "output_type": "stream",
     "text": [
      "New best\n"
     ]
    },
    {
     "name": "stdout",
     "output_type": "stream",
     "text": [
      "epoch: 2, [batch: 1 / 6720], examples_per_second: 2.1502, train_label_loss: 197.5786, \n"
     ]
    },
    {
     "name": "stdout",
     "output_type": "stream",
     "text": [
      "epoch: 2, [batch: 672 / 6720], examples_per_second: 2471.1744, train_label_loss: 0.7388, \n"
     ]
    },
    {
     "name": "stdout",
     "output_type": "stream",
     "text": [
      "epoch: 2, [batch: 1344 / 6720], examples_per_second: 2646.1354, train_label_loss: 0.3736, \n"
     ]
    },
    {
     "name": "stdout",
     "output_type": "stream",
     "text": [
      "epoch: 2, [batch: 2016 / 6720], examples_per_second: 2614.6734, train_label_loss: 0.5443, \n"
     ]
    },
    {
     "name": "stdout",
     "output_type": "stream",
     "text": [
      "epoch: 2, [batch: 2688 / 6720], examples_per_second: 2577.2258, train_label_loss: 0.3782, \n"
     ]
    },
    {
     "name": "stdout",
     "output_type": "stream",
     "text": [
      "epoch: 2, [batch: 3360 / 6720], examples_per_second: 2611.1600, train_label_loss: 0.1497, \n"
     ]
    },
    {
     "name": "stdout",
     "output_type": "stream",
     "text": [
      "epoch: 2, [batch: 4032 / 6720], examples_per_second: 2592.2940, train_label_loss: 0.2637, \n"
     ]
    },
    {
     "name": "stdout",
     "output_type": "stream",
     "text": [
      "epoch: 2, [batch: 4704 / 6720], examples_per_second: 2583.6763, train_label_loss: 0.1701, \n"
     ]
    },
    {
     "name": "stdout",
     "output_type": "stream",
     "text": [
      "epoch: 2, [batch: 5376 / 6720], examples_per_second: 2984.3589, train_label_loss: 0.2748, \n"
     ]
    },
    {
     "name": "stdout",
     "output_type": "stream",
     "text": [
      "epoch: 2, [batch: 6048 / 6720], examples_per_second: 2919.6802, train_label_loss: 0.6734, \n"
     ]
    },
    {
     "name": "stdout",
     "output_type": "stream",
     "text": [
      "=============================================================\n",
      "epoch: 2, source_val_acc_label: 0.9061, target_val_acc_label: 0.7525, source_val_label_loss: 0.2715, target_val_label_loss: 3459.4775, \n",
      "=============================================================\n"
     ]
    },
    {
     "name": "stdout",
     "output_type": "stream",
     "text": [
      "epoch: 3, [batch: 1 / 6720], examples_per_second: 2.6197, train_label_loss: 0.1019, \n"
     ]
    },
    {
     "name": "stdout",
     "output_type": "stream",
     "text": [
      "epoch: 3, [batch: 672 / 6720], examples_per_second: 3426.6647, train_label_loss: 0.1623, \n"
     ]
    },
    {
     "name": "stdout",
     "output_type": "stream",
     "text": [
      "epoch: 3, [batch: 1344 / 6720], examples_per_second: 3483.2229, train_label_loss: 0.1775, \n"
     ]
    },
    {
     "name": "stdout",
     "output_type": "stream",
     "text": [
      "epoch: 3, [batch: 2016 / 6720], examples_per_second: 3789.2591, train_label_loss: 0.2445, \n"
     ]
    },
    {
     "name": "stdout",
     "output_type": "stream",
     "text": [
      "epoch: 3, [batch: 2688 / 6720], examples_per_second: 3618.6307, train_label_loss: 0.2618, \n"
     ]
    },
    {
     "name": "stdout",
     "output_type": "stream",
     "text": [
      "epoch: 3, [batch: 3360 / 6720], examples_per_second: 3910.8072, train_label_loss: 0.3747, \n"
     ]
    },
    {
     "name": "stdout",
     "output_type": "stream",
     "text": [
      "epoch: 3, [batch: 4032 / 6720], examples_per_second: 4287.0276, train_label_loss: 0.2327, \n"
     ]
    },
    {
     "name": "stdout",
     "output_type": "stream",
     "text": [
      "epoch: 3, [batch: 4704 / 6720], examples_per_second: 4647.4752, train_label_loss: 0.1705, \n"
     ]
    },
    {
     "name": "stdout",
     "output_type": "stream",
     "text": [
      "epoch: 3, [batch: 5376 / 6720], examples_per_second: 4950.2575, train_label_loss: 0.1410, \n"
     ]
    },
    {
     "name": "stdout",
     "output_type": "stream",
     "text": [
      "epoch: 3, [batch: 6048 / 6720], examples_per_second: 5208.2296, train_label_loss: 0.1077, \n"
     ]
    },
    {
     "name": "stdout",
     "output_type": "stream",
     "text": [
      "=============================================================\n",
      "epoch: 3, source_val_acc_label: 0.9155, target_val_acc_label: 0.7830, source_val_label_loss: 0.2338, target_val_label_loss: 3181.1917, \n",
      "=============================================================\n"
     ]
    },
    {
     "name": "stdout",
     "output_type": "stream",
     "text": [
      "epoch: 4, [batch: 1 / 6720], examples_per_second: 4.2142, train_label_loss: 0.1940, \n"
     ]
    },
    {
     "name": "stdout",
     "output_type": "stream",
     "text": [
      "epoch: 4, [batch: 672 / 6720], examples_per_second: 2919.3884, train_label_loss: 0.1530, \n"
     ]
    },
    {
     "name": "stdout",
     "output_type": "stream",
     "text": [
      "epoch: 4, [batch: 1344 / 6720], examples_per_second: 3014.8499, train_label_loss: 0.3035, \n"
     ]
    },
    {
     "name": "stdout",
     "output_type": "stream",
     "text": [
      "epoch: 4, [batch: 2016 / 6720], examples_per_second: 2958.0615, train_label_loss: 0.1844, \n"
     ]
    },
    {
     "name": "stdout",
     "output_type": "stream",
     "text": [
      "epoch: 4, [batch: 2688 / 6720], examples_per_second: 2887.8739, train_label_loss: 0.3402, \n"
     ]
    },
    {
     "name": "stdout",
     "output_type": "stream",
     "text": [
      "epoch: 4, [batch: 3360 / 6720], examples_per_second: 2303.0747, train_label_loss: 0.2008, \n"
     ]
    },
    {
     "name": "stdout",
     "output_type": "stream",
     "text": [
      "epoch: 4, [batch: 4032 / 6720], examples_per_second: 2294.4704, train_label_loss: 0.1464, \n"
     ]
    },
    {
     "name": "stdout",
     "output_type": "stream",
     "text": [
      "epoch: 4, [batch: 4704 / 6720], examples_per_second: 2301.8001, train_label_loss: 0.3310, \n"
     ]
    },
    {
     "name": "stdout",
     "output_type": "stream",
     "text": [
      "epoch: 4, [batch: 5376 / 6720], examples_per_second: 2289.7163, train_label_loss: 0.0576, \n"
     ]
    },
    {
     "name": "stdout",
     "output_type": "stream",
     "text": [
      "epoch: 4, [batch: 6048 / 6720], examples_per_second: 2312.9750, train_label_loss: 0.1645, \n"
     ]
    },
    {
     "name": "stdout",
     "output_type": "stream",
     "text": [
      "=============================================================\n",
      "epoch: 4, source_val_acc_label: 0.9223, target_val_acc_label: 0.7733, source_val_label_loss: 0.2192, target_val_label_loss: 3351.4260, \n",
      "=============================================================\n"
     ]
    },
    {
     "name": "stdout",
     "output_type": "stream",
     "text": [
      "epoch: 5, [batch: 1 / 6720], examples_per_second: 2.2005, train_label_loss: 0.0983, \n"
     ]
    },
    {
     "name": "stdout",
     "output_type": "stream",
     "text": [
      "epoch: 5, [batch: 672 / 6720], examples_per_second: 2315.3185, train_label_loss: 0.0995, \n"
     ]
    },
    {
     "name": "stdout",
     "output_type": "stream",
     "text": [
      "epoch: 5, [batch: 1344 / 6720], examples_per_second: 2529.7037, train_label_loss: 0.4557, \n"
     ]
    },
    {
     "name": "stdout",
     "output_type": "stream",
     "text": [
      "epoch: 5, [batch: 2016 / 6720], examples_per_second: 2587.3482, train_label_loss: 0.2826, \n"
     ]
    },
    {
     "name": "stdout",
     "output_type": "stream",
     "text": [
      "epoch: 5, [batch: 2688 / 6720], examples_per_second: 2660.1332, train_label_loss: 0.1722, \n"
     ]
    },
    {
     "name": "stdout",
     "output_type": "stream",
     "text": [
      "epoch: 5, [batch: 3360 / 6720], examples_per_second: 2311.9164, train_label_loss: 0.2157, \n"
     ]
    },
    {
     "name": "stdout",
     "output_type": "stream",
     "text": [
      "epoch: 5, [batch: 4032 / 6720], examples_per_second: 2310.1394, train_label_loss: 0.0607, \n"
     ]
    },
    {
     "name": "stdout",
     "output_type": "stream",
     "text": [
      "epoch: 5, [batch: 4704 / 6720], examples_per_second: 2323.3325, train_label_loss: 0.0611, \n"
     ]
    },
    {
     "name": "stdout",
     "output_type": "stream",
     "text": [
      "epoch: 5, [batch: 5376 / 6720], examples_per_second: 2311.2797, train_label_loss: 0.0707, \n"
     ]
    },
    {
     "name": "stdout",
     "output_type": "stream",
     "text": [
      "epoch: 5, [batch: 6048 / 6720], examples_per_second: 2300.6227, train_label_loss: 0.2227, \n"
     ]
    },
    {
     "name": "stdout",
     "output_type": "stream",
     "text": [
      "=============================================================\n",
      "epoch: 5, source_val_acc_label: 0.9323, target_val_acc_label: 0.7343, source_val_label_loss: 0.1902, target_val_label_loss: 3867.2224, \n",
      "=============================================================\n"
     ]
    },
    {
     "name": "stdout",
     "output_type": "stream",
     "text": [
      "Patience (3) exhausted\n"
     ]
    }
   ],
   "source": [
    "###################################\n",
    "# train\n",
    "###################################\n",
    "jig = PTN_Train_Eval_Test_Jig(model, p.BEST_MODEL_PATH, p.device)\n",
    "\n",
    "jig.train(\n",
    "    train_iterable=datasets.source.processed.train,\n",
    "    source_val_iterable=datasets.source.processed.val,\n",
    "    target_val_iterable=datasets.target.processed.val,\n",
    "    num_epochs=p.n_epoch,\n",
    "    num_logs_per_epoch=p.NUM_LOGS_PER_EPOCH,\n",
    "    patience=p.patience,\n",
    "    optimizer=optimizer,\n",
    "    criteria_for_best=p.criteria_for_best,\n",
    ")"
   ]
  },
  {
   "cell_type": "code",
   "execution_count": 23,
   "id": "31e8fabf",
   "metadata": {
    "execution": {
     "iopub.execute_input": "2022-03-21T07:30:13.597003Z",
     "iopub.status.busy": "2022-03-21T07:30:13.596622Z",
     "iopub.status.idle": "2022-03-21T07:30:13.630423Z",
     "shell.execute_reply": "2022-03-21T07:30:13.629403Z"
    },
    "papermill": {
     "duration": 0.07682,
     "end_time": "2022-03-21T07:30:13.630630",
     "exception": false,
     "start_time": "2022-03-21T07:30:13.553810",
     "status": "completed"
    },
    "tags": []
   },
   "outputs": [],
   "source": [
    "total_experiment_time_secs = time.time() - start_time_secs"
   ]
  },
  {
   "cell_type": "code",
   "execution_count": 24,
   "id": "87b9595b",
   "metadata": {
    "execution": {
     "iopub.execute_input": "2022-03-21T07:30:13.725982Z",
     "iopub.status.busy": "2022-03-21T07:30:13.725377Z",
     "iopub.status.idle": "2022-03-21T07:34:49.280601Z",
     "shell.execute_reply": "2022-03-21T07:34:49.281305Z"
    },
    "papermill": {
     "duration": 275.605139,
     "end_time": "2022-03-21T07:34:49.281522",
     "exception": false,
     "start_time": "2022-03-21T07:30:13.676383",
     "status": "completed"
    },
    "tags": []
   },
   "outputs": [],
   "source": [
    "###################################\n",
    "# Evaluate the model\n",
    "###################################\n",
    "source_test_label_accuracy, source_test_label_loss = jig.test(datasets.source.processed.test)\n",
    "target_test_label_accuracy, target_test_label_loss = jig.test(datasets.target.processed.test)\n",
    "\n",
    "source_val_label_accuracy, source_val_label_loss = jig.test(datasets.source.processed.val)\n",
    "target_val_label_accuracy, target_val_label_loss = jig.test(datasets.target.processed.val)\n",
    "\n",
    "history = jig.get_history()\n",
    "\n",
    "total_epochs_trained = len(history[\"epoch_indices\"])\n",
    "\n",
    "val_dl = Iterable_Aggregator((datasets.source.original.val,datasets.target.original.val))\n",
    "\n",
    "confusion = ptn_confusion_by_domain_over_dataloader(model, p.device, val_dl)\n",
    "per_domain_accuracy = per_domain_accuracy_from_confusion(confusion)\n",
    "\n",
    "# Add a key to per_domain_accuracy for if it was a source domain\n",
    "for domain, accuracy in per_domain_accuracy.items():\n",
    "    per_domain_accuracy[domain] = {\n",
    "        \"accuracy\": accuracy,\n",
    "        \"source?\": domain in p.domains_source\n",
    "    }\n",
    "\n",
    "# Do an independent accuracy assesment JUST TO BE SURE!\n",
    "# _source_test_label_accuracy = independent_accuracy_assesment(model, datasets.source.processed.test, p.device)\n",
    "# _target_test_label_accuracy = independent_accuracy_assesment(model, datasets.target.processed.test, p.device)\n",
    "# _source_val_label_accuracy = independent_accuracy_assesment(model, datasets.source.processed.val, p.device)\n",
    "# _target_val_label_accuracy = independent_accuracy_assesment(model, datasets.target.processed.val, p.device)\n",
    "\n",
    "# assert(_source_test_label_accuracy == source_test_label_accuracy)\n",
    "# assert(_target_test_label_accuracy == target_test_label_accuracy)\n",
    "# assert(_source_val_label_accuracy == source_val_label_accuracy)\n",
    "# assert(_target_val_label_accuracy == target_val_label_accuracy)\n",
    "\n",
    "experiment = {\n",
    "    \"experiment_name\": p.experiment_name,\n",
    "    \"parameters\": dict(p),\n",
    "    \"results\": {\n",
    "        \"source_test_label_accuracy\": source_test_label_accuracy,\n",
    "        \"source_test_label_loss\": source_test_label_loss,\n",
    "        \"target_test_label_accuracy\": target_test_label_accuracy,\n",
    "        \"target_test_label_loss\": target_test_label_loss,\n",
    "        \"source_val_label_accuracy\": source_val_label_accuracy,\n",
    "        \"source_val_label_loss\": source_val_label_loss,\n",
    "        \"target_val_label_accuracy\": target_val_label_accuracy,\n",
    "        \"target_val_label_loss\": target_val_label_loss,\n",
    "        \"total_epochs_trained\": total_epochs_trained,\n",
    "        \"total_experiment_time_secs\": total_experiment_time_secs,\n",
    "        \"confusion\": confusion,\n",
    "        \"per_domain_accuracy\": per_domain_accuracy,\n",
    "    },\n",
    "    \"history\": history,\n",
    "    \"dataset_metrics\": get_dataset_metrics(datasets, \"ptn\"),\n",
    "}"
   ]
  },
  {
   "cell_type": "code",
   "execution_count": 25,
   "id": "54a21829",
   "metadata": {
    "execution": {
     "iopub.execute_input": "2022-03-21T07:34:49.368002Z",
     "iopub.status.busy": "2022-03-21T07:34:49.367152Z",
     "iopub.status.idle": "2022-03-21T07:34:49.580579Z",
     "shell.execute_reply": "2022-03-21T07:34:49.581263Z"
    },
    "papermill": {
     "duration": 0.257033,
     "end_time": "2022-03-21T07:34:49.581466",
     "exception": false,
     "start_time": "2022-03-21T07:34:49.324433",
     "status": "completed"
    },
    "tags": []
   },
   "outputs": [
    {
     "data": {
      "image/png": "[encoded data removed]",
      "text/plain": [
       "<Figure size 1080x504 with 1 Axes>"
      ]
     },
     "metadata": {
      "needs_background": "light"
     },
     "output_type": "display_data"
    }
   ],
   "source": [
    "ax = get_loss_curve(experiment)\n",
    "plt.show()"
   ]
  },
  {
   "cell_type": "code",
   "execution_count": 26,
   "id": "fd8a0f60",
   "metadata": {
    "execution": {
     "iopub.execute_input": "2022-03-21T07:34:49.672364Z",
     "iopub.status.busy": "2022-03-21T07:34:49.671985Z",
     "iopub.status.idle": "2022-03-21T07:34:49.981413Z",
     "shell.execute_reply": "2022-03-21T07:34:49.982097Z"
    },
    "papermill": {
     "duration": 0.353901,
     "end_time": "2022-03-21T07:34:49.982312",
     "exception": false,
     "start_time": "2022-03-21T07:34:49.628411",
     "status": "completed"
    },
    "tags": []
   },
   "outputs": [
    {
     "data": {
      "text/plain": [
       "<AxesSubplot:title={'center':'Results'}>"
      ]
     },
     "execution_count": 26,
     "metadata": {},
     "output_type": "execute_result"
    },
    {
     "data": {
      "image/png": "[encoded data removed]",
      "text/plain": [
       "<Figure size 1080x504 with 1 Axes>"
      ]
     },
     "metadata": {
      "needs_background": "light"
     },
     "output_type": "display_data"
    }
   ],
   "source": [
    "get_results_table(experiment)"
   ]
  },
  {
   "cell_type": "code",
   "execution_count": 27,
   "id": "cf8dc689",
   "metadata": {
    "execution": {
     "iopub.execute_input": "2022-03-21T07:34:50.134036Z",
     "iopub.status.busy": "2022-03-21T07:34:50.133658Z",
     "iopub.status.idle": "2022-03-21T07:34:50.385258Z",
     "shell.execute_reply": "2022-03-21T07:34:50.384554Z"
    },
    "papermill": {
     "duration": 0.358091,
     "end_time": "2022-03-21T07:34:50.385444",
     "exception": false,
     "start_time": "2022-03-21T07:34:50.027353",
     "status": "completed"
    },
    "tags": []
   },
   "outputs": [
    {
     "data": {
      "text/plain": [
       "<AxesSubplot:title={'center':'Per Domain Validation Accuracy'}, xlabel='domain'>"
      ]
     },
     "execution_count": 27,
     "metadata": {},
     "output_type": "execute_result"
    },
    {
     "data": {
      "image/png": "[encoded data removed]",
      "text/plain": [
       "<Figure size 1080x504 with 1 Axes>"
      ]
     },
     "metadata": {
      "needs_background": "light"
     },
     "output_type": "display_data"
    }
   ],
   "source": [
    "get_domain_accuracies(experiment)"
   ]
  },
  {
   "cell_type": "code",
   "execution_count": 28,
   "id": "a74ae082",
   "metadata": {
    "execution": {
     "iopub.execute_input": "2022-03-21T07:34:50.479430Z",
     "iopub.status.busy": "2022-03-21T07:34:50.478771Z",
     "iopub.status.idle": "2022-03-21T07:34:50.504409Z",
     "shell.execute_reply": "2022-03-21T07:34:50.505101Z"
    },
    "papermill": {
     "duration": 0.073465,
     "end_time": "2022-03-21T07:34:50.505302",
     "exception": false,
     "start_time": "2022-03-21T07:34:50.431837",
     "status": "completed"
    },
    "tags": []
   },
   "outputs": [
    {
     "name": "stdout",
     "output_type": "stream",
     "text": [
      "Source Test Label Accuracy: 0.6094401041666667 Target Test Label Accuracy: 0.7921826625386997\n",
      "Source Val Label Accuracy: 0.6114908854166666 Target Val Label Accuracy: 0.7962129237288136\n"
     ]
    }
   ],
   "source": [
    "print(\"Source Test Label Accuracy:\", experiment[\"results\"][\"source_test_label_accuracy\"], \"Target Test Label Accuracy:\", experiment[\"results\"][\"target_test_label_accuracy\"])\n",
    "print(\"Source Val Label Accuracy:\", experiment[\"results\"][\"source_val_label_accuracy\"], \"Target Val Label Accuracy:\", experiment[\"results\"][\"target_val_label_accuracy\"])"
   ]
  },
  {
   "cell_type": "code",
   "execution_count": 29,
   "id": "dacca602",
   "metadata": {
    "execution": {
     "iopub.execute_input": "2022-03-21T07:34:50.601651Z",
     "iopub.status.busy": "2022-03-21T07:34:50.601014Z",
     "iopub.status.idle": "2022-03-21T07:34:50.628288Z",
     "shell.execute_reply": "2022-03-21T07:34:50.628962Z"
    },
    "papermill": {
     "duration": 0.07438,
     "end_time": "2022-03-21T07:34:50.629159",
     "exception": false,
     "start_time": "2022-03-21T07:34:50.554779",
     "status": "completed"
    },
    "tags": [
     "experiment_json"
    ]
   },
   "outputs": [
    {
     "data": {
      "text/plain": [
       "'{\"experiment_name\": \"tl_1v2:wisig-oracle.run1.framed\", \"parameters\": {\"experiment_name\": \"tl_1v2:wisig-oracle.run1.framed\", \"device\": \"cuda\", \"lr\": 0.0001, \"n_shot\": 3, \"n_query\": 2, \"train_k_factor\": 3, \"val_k_factor\": 2, \"test_k_factor\": 2, \"torch_default_dtype\": \"torch.float32\", \"n_epoch\": 50, \"patience\": 3, \"criteria_for_best\": \"target_accuracy\", \"x_net\": [{\"class\": \"nnReshape\", \"kargs\": {\"shape\": [-1, 1, 2, 256]}}, {\"class\": \"Conv2d\", \"kargs\": {\"in_channels\": 1, \"out_channels\": 256, \"kernel_size\": [1, 7], \"bias\": false, \"padding\": [0, 3]}}, {\"class\": \"ReLU\", \"kargs\": {\"inplace\": true}}, {\"class\": \"BatchNorm2d\", \"kargs\": {\"num_features\": 256}}, {\"class\": \"Conv2d\", \"kargs\": {\"in_channels\": 256, \"out_channels\": 80, \"kernel_size\": [2, 7], \"bias\": true, \"padding\": [0, 3]}}, {\"class\": \"ReLU\", \"kargs\": {\"inplace\": true}}, {\"class\": \"BatchNorm2d\", \"kargs\": {\"num_features\": 80}}, {\"class\": \"Flatten\", \"kargs\": {}}, {\"class\": \"Linear\", \"kargs\": {\"in_features\": 20480, \"out_features\": 256}}, {\"class\": \"ReLU\", \"kargs\": {\"inplace\": true}}, {\"class\": \"BatchNorm1d\", \"kargs\": {\"num_features\": 256}}, {\"class\": \"Linear\", \"kargs\": {\"in_features\": 256, \"out_features\": 256}}], \"NUM_LOGS_PER_EPOCH\": 10, \"BEST_MODEL_PATH\": \"./best_model.pth\", \"n_way\": 16, \"datasets\": [{\"labels\": [\"1-10\", \"1-12\", \"1-14\", \"1-16\", \"1-18\", \"1-19\", \"1-8\", \"10-11\", \"10-17\", \"10-4\", \"10-7\", \"11-1\", \"11-10\", \"11-19\", \"11-20\", \"11-4\", \"11-7\", \"12-19\", \"12-20\", \"12-7\", \"13-14\", \"13-18\", \"13-19\", \"13-20\", \"13-3\", \"13-7\", \"14-10\", \"14-11\", \"14-12\", \"14-13\", \"14-14\", \"14-19\", \"14-20\", \"14-7\", \"14-8\", \"14-9\", \"15-1\", \"15-19\", \"15-6\", \"16-1\", \"16-16\", \"16-19\", \"16-20\", \"17-10\", \"17-11\", \"18-1\", \"18-10\", \"18-11\", \"18-12\", \"18-13\", \"18-14\", \"18-15\", \"18-16\", \"18-17\", \"18-19\", \"18-2\", \"18-20\", \"18-4\", \"18-5\", \"18-7\", \"18-8\", \"18-9\", \"19-1\", \"19-10\", \"19-11\", \"19-12\", \"19-13\", \"19-14\", \"19-15\", \"19-19\", \"19-2\", \"19-20\", \"19-3\", \"19-4\", \"19-6\", \"19-7\", \"19-8\", \"19-9\", \"2-1\", \"2-13\", \"2-15\", \"2-3\", \"2-4\", \"2-5\", \"2-6\", \"2-7\", \"2-8\", \"20-1\", \"20-12\", \"20-14\", \"20-15\", \"20-16\", \"20-18\", \"20-19\", \"20-20\", \"20-3\", \"20-4\", \"20-5\", \"20-7\", \"20-8\", \"3-1\", \"3-13\", \"3-18\", \"3-2\", \"3-8\", \"4-1\", \"4-10\", \"4-11\", \"5-1\", \"5-5\", \"6-1\", \"6-15\", \"6-6\", \"7-10\", \"7-11\", \"7-12\", \"7-13\", \"7-14\", \"7-7\", \"7-8\", \"7-9\", \"8-1\", \"8-13\", \"8-14\", \"8-18\", \"8-20\", \"8-3\", \"8-8\", \"9-1\", \"9-7\"], \"domains\": [1, 2, 3, 4], \"num_examples_per_domain_per_label\": -1, \"pickle_path\": \"/root/csc500-main/datasets/wisig.node3-19.stratified_ds.2022A.pkl\", \"source_or_target_dataset\": \"target\", \"x_transforms\": [], \"episode_transforms\": [], \"domain_prefix\": \"Wisig_\"}, {\"labels\": [\"3123D52\", \"3123D65\", \"3123D79\", \"3123D80\", \"3123D54\", \"3123D70\", \"3123D7B\", \"3123D89\", \"3123D58\", \"3123D76\", \"3123D7D\", \"3123EFE\", \"3123D64\", \"3123D78\", \"3123D7E\", \"3124E4A\"], \"domains\": [32, 38, 8, 44, 14, 50, 20, 26], \"num_examples_per_domain_per_label\": 2000, \"pickle_path\": \"/root/csc500-main/datasets/oracle.Run1_framed_2000Examples_stratified_ds.2022A.pkl\", \"source_or_target_dataset\": \"source\", \"x_transforms\": [], \"episode_transforms\": [], \"domain_prefix\": \"ORACLE.run1\"}], \"dataset_seed\": 1337, \"seed\": 1337, \"x_shape\": [2, 256], \"domains_source\": [\"ORACLE.run132\", \"ORACLE.run138\", \"ORACLE.run18\", \"ORACLE.run144\", \"ORACLE.run114\", \"ORACLE.run150\", \"ORACLE.run120\", \"ORACLE.run126\"], \"domains_target\": [\"Wisig_1\", \"Wisig_2\", \"Wisig_3\", \"Wisig_4\"]}, \"results\": {\"source_test_label_accuracy\": 0.6094401041666667, \"source_test_label_loss\": 108.56092834472656, \"target_test_label_accuracy\": 0.7921826625386997, \"target_test_label_loss\": 7192.626953125, \"source_val_label_accuracy\": 0.6114908854166666, \"source_val_label_loss\": 108.58313751220703, \"target_val_label_accuracy\": 0.7962129237288136, \"target_val_label_loss\": 7299.5087890625, \"total_epochs_trained\": 5, \"total_experiment_time_secs\": 1228.6710631847382, \"confusion\": {\"ORACLE.run114\": {\"15\": {\"15\": 240}, \"3\": {\"3\": 233, \"0\": 4, \"7\": 1, \"13\": 1, \"14\": 1}, \"6\": {\"6\": 107, \"13\": 33, \"3\": 63, \"14\": 23, \"7\": 3, \"2\": 9, \"11\": 2}, \"1\": {\"1\": 240}, \"8\": {\"8\": 236, \"0\": 4}, \"10\": {\"10\": 240}, \"9\": {\"9\": 240}, \"13\": {\"5\": 19, \"14\": 36, \"4\": 9, \"6\": 51, \"15\": 16, \"2\": 38, \"13\": 32, \"3\": 27, \"11\": 5, \"0\": 1, \"10\": 4, \"7\": 2}, \"12\": {\"12\": 240}, \"5\": {\"5\": 229, \"2\": 8, \"14\": 2, \"4\": 1}, \"0\": {\"3\": 59, \"8\": 58, \"0\": 100, \"14\": 9, \"10\": 5, \"2\": 2, \"5\": 5, \"7\": 2}, \"2\": {\"4\": 33, \"5\": 79, \"14\": 24, \"3\": 15, \"13\": 9, \"2\": 59, \"6\": 14, \"7\": 7}, \"11\": {\"11\": 227, \"0\": 10, \"8\": 1, \"14\": 2}, \"14\": {\"14\": 156, \"6\": 6, \"2\": 43, \"13\": 13, \"7\": 3, \"3\": 15, \"0\": 3, \"5\": 1}, \"7\": {\"7\": 209, \"3\": 4, \"5\": 13, \"2\": 10, \"14\": 4}, \"4\": {\"4\": 238, \"5\": 2}}, \"ORACLE.run120\": {\"3\": {\"3\": 183, \"1\": 3, \"5\": 15, \"9\": 16, \"0\": 1, \"8\": 22}, \"15\": {\"15\": 210, \"12\": 18, \"1\": 8, \"2\": 3, \"9\": 1}, \"8\": {\"8\": 234, \"14\": 3, \"3\": 3}, \"4\": {\"4\": 239, \"12\": 1}, \"14\": {\"14\": 239, \"8\": 1}, \"0\": {\"0\": 238, \"5\": 1, \"3\": 1}, \"7\": {\"7\": 220, \"9\": 12, \"2\": 5, \"6\": 2, \"12\": 1}, \"6\": {\"6\": 237, \"7\": 3}, \"10\": {\"10\": 240}, \"5\": {\"5\": 220, \"1\": 12, \"3\": 8}, \"2\": {\"2\": 209, \"12\": 28, \"15\": 1, \"7\": 2}, \"12\": {\"12\": 209, \"2\": 25, \"15\": 6}, \"9\": {\"9\": 220, \"7\": 7, \"1\": 11, \"3\": 2}, \"1\": {\"1\": 220, \"5\": 13, \"9\": 6, \"3\": 1}, \"11\": {\"11\": 240}, \"13\": {\"13\": 238, \"12\": 1, \"15\": 1}}, \"ORACLE.run138\": {\"5\": {\"12\": 49, \"8\": 60, \"5\": 58, \"9\": 33, \"14\": 5, \"15\": 18, \"2\": 13, \"7\": 4}, \"8\": {\"2\": 27, \"8\": 46, \"12\": 59, \"9\": 28, \"14\": 9, \"5\": 48, \"15\": 13, \"7\": 10}, \"11\": {\"11\": 228, \"3\": 12}, \"1\": {\"1\": 145, \"6\": 95}, \"10\": {\"0\": 65, \"10\": 155, \"13\": 15, \"4\": 5}, \"15\": {\"15\": 173, \"12\": 38, \"6\": 14, \"8\": 5, \"1\": 4, \"5\": 6}, \"3\": {\"3\": 231, \"11\": 9}, \"7\": {\"7\": 116, \"2\": 31, \"14\": 73, \"4\": 1, \"9\": 10, \"13\": 5, \"0\": 3, \"8\": 1}, \"4\": {\"4\": 185, \"0\": 22, \"10\": 9, \"13\": 23, \"7\": 1}, \"14\": {\"2\": 44, \"7\": 85, \"14\": 76, \"9\": 25, \"13\": 2, \"8\": 3, \"5\": 4, \"0\": 1}, \"9\": {\"9\": 95, \"5\": 25, \"2\": 68, \"8\": 26, \"14\": 15, \"7\": 11}, \"12\": {\"12\": 201, \"5\": 20, \"8\": 15, \"15\": 4}, \"6\": {\"1\": 89, \"6\": 151}, \"2\": {\"9\": 66, \"7\": 26, \"5\": 6, \"14\": 32, \"2\": 100, \"8\": 10}, \"0\": {\"13\": 67, \"14\": 6, \"0\": 51, \"7\": 14, \"10\": 75, \"3\": 5, \"4\": 20, \"2\": 2}, \"13\": {\"13\": 132, \"4\": 30, \"0\": 54, \"10\": 15, \"7\": 6, \"14\": 3}}, \"ORACLE.run18\": {\"9\": {\"9\": 240}, \"10\": {\"5\": 30, \"13\": 69, \"6\": 29, \"1\": 16, \"10\": 90, \"11\": 4, \"7\": 2}, \"13\": {\"13\": 146, \"10\": 54, \"7\": 30, \"5\": 10}, \"0\": {\"0\": 117, \"14\": 97, \"9\": 19, \"11\": 4, \"8\": 2, \"1\": 1}, \"1\": {\"11\": 43, \"1\": 149, \"5\": 24, \"6\": 12, \"10\": 10, \"13\": 2}, \"15\": {\"15\": 221, \"12\": 19}, \"5\": {\"5\": 141, \"10\": 53, \"11\": 11, \"1\": 12, \"4\": 2, \"9\": 1, \"13\": 19, \"6\": 1}, \"3\": {\"3\": 240}, \"6\": {\"6\": 219, \"7\": 17, \"1\": 3, \"11\": 1}, \"11\": {\"1\": 88, \"11\": 102, \"8\": 6, \"14\": 7, \"4\": 23, \"6\": 1, \"10\": 4, \"5\": 8, \"9\": 1}, \"8\": {\"8\": 189, \"4\": 27, \"6\": 15, \"11\": 6, \"14\": 3}, \"4\": {\"4\": 232, \"14\": 4, \"8\": 3, \"11\": 1}, \"12\": {\"12\": 207, \"15\": 33}, \"14\": {\"14\": 201, \"4\": 37, \"11\": 1, \"8\": 1}, \"2\": {\"3\": 49, \"15\": 4, \"2\": 180, \"12\": 7}, \"7\": {\"7\": 217, \"6\": 21, \"13\": 2}}, \"ORACLE.run150\": {\"7\": {\"7\": 159, \"4\": 75, \"5\": 6}, \"3\": {\"11\": 101, \"3\": 86, \"6\": 12, \"12\": 30, \"5\": 4, \"15\": 5, \"13\": 2}, \"8\": {\"8\": 209, \"1\": 28, \"10\": 3}, \"2\": {\"2\": 112, \"14\": 103, \"0\": 25}, \"14\": {\"2\": 108, \"14\": 88, \"0\": 44}, \"4\": {\"7\": 105, \"4\": 115, \"5\": 17, \"15\": 2, \"9\": 1}, \"6\": {\"12\": 77, \"6\": 51, \"9\": 38, \"15\": 46, \"11\": 7, \"5\": 15, \"3\": 6}, \"15\": {\"6\": 59, \"9\": 55, \"12\": 36, \"11\": 3, \"15\": 56, \"5\": 29, \"3\": 2}, \"10\": {\"10\": 217, \"0\": 10, \"8\": 12, \"1\": 1}, \"11\": {\"3\": 112, \"11\": 100, \"6\": 8, \"12\": 17, \"5\": 3}, \"13\": {\"13\": 218, \"1\": 20, \"3\": 2}, \"9\": {\"6\": 44, \"15\": 41, \"9\": 80, \"5\": 49, \"7\": 3, \"12\": 18, \"4\": 3, \"3\": 2}, \"0\": {\"14\": 57, \"0\": 139, \"10\": 17, \"2\": 27}, \"1\": {\"13\": 51, \"1\": 124, \"8\": 47, \"10\": 18}, \"12\": {\"11\": 17, \"12\": 75, \"6\": 64, \"9\": 23, \"5\": 6, \"3\": 17, \"15\": 38}, \"5\": {\"5\": 69, \"4\": 17, \"7\": 34, \"15\": 22, \"3\": 10, \"9\": 35, \"11\": 20, \"13\": 8, \"6\": 16, \"12\": 9}}, \"ORACLE.run132\": {\"8\": {\"2\": 24, \"14\": 61, \"8\": 79, \"0\": 56, \"7\": 14, \"15\": 1, \"5\": 4, \"4\": 1}, \"14\": {\"14\": 66, \"7\": 36, \"2\": 19, \"8\": 66, \"0\": 41, \"5\": 12}, \"2\": {\"2\": 173, \"4\": 54, \"1\": 2, \"8\": 3, \"3\": 8}, \"0\": {\"7\": 49, \"0\": 65, \"8\": 55, \"14\": 62, \"15\": 1, \"5\": 8}, \"1\": {\"2\": 4, \"1\": 79, \"4\": 50, \"13\": 33, \"3\": 73, \"14\": 1}, \"10\": {\"10\": 239, \"6\": 1}, \"11\": {\"11\": 150, \"9\": 86, \"13\": 4}, \"5\": {\"5\": 74, \"15\": 59, \"7\": 48, \"0\": 32, \"8\": 12, \"14\": 15}, \"15\": {\"7\": 43, \"15\": 137, \"0\": 4, \"5\": 54, \"8\": 1, \"14\": 1}, \"3\": {\"1\": 61, \"4\": 58, \"13\": 32, \"2\": 11, \"3\": 78}, \"12\": {\"12\": 239, \"9\": 1}, \"7\": {\"0\": 42, \"7\": 111, \"5\": 51, \"14\": 20, \"8\": 6, \"15\": 10}, \"13\": {\"1\": 38, \"13\": 118, \"11\": 16, \"3\": 37, \"9\": 12, \"2\": 7, \"4\": 12}, \"6\": {\"6\": 232, \"10\": 8}, \"4\": {\"2\": 56, \"4\": 101, \"13\": 5, \"3\": 42, \"1\": 36}, \"9\": {\"12\": 50, \"1\": 5, \"11\": 74, \"9\": 87, \"13\": 24}}, \"ORACLE.run126\": {\"4\": {\"4\": 238, \"13\": 2}, \"12\": {\"12\": 73, \"3\": 41, \"13\": 57, \"4\": 38, \"7\": 8, \"9\": 18, \"8\": 5}, \"10\": {\"14\": 68, \"10\": 95, \"15\": 22, \"2\": 1, \"0\": 44, \"6\": 7, \"5\": 3}, \"0\": {\"2\": 43, \"0\": 131, \"10\": 40, \"9\": 2, \"14\": 16, \"15\": 3, \"6\": 2, \"8\": 3}, \"13\": {\"8\": 6, \"4\": 74, \"13\": 97, \"9\": 4, \"2\": 13, \"7\": 1, \"12\": 23, \"3\": 22}, \"9\": {\"0\": 14, \"12\": 34, \"3\": 28, \"4\": 8, \"8\": 28, \"9\": 27, \"7\": 32, \"13\": 26, \"2\": 43}, \"3\": {\"12\": 56, \"13\": 62, \"9\": 17, \"4\": 38, \"3\": 43, \"7\": 15, \"8\": 7, \"2\": 2}, \"2\": {\"0\": 49, \"9\": 24, \"7\": 31, \"2\": 96, \"8\": 31, \"3\": 2, \"13\": 2, \"12\": 4, \"10\": 1}, \"5\": {\"5\": 77, \"11\": 28, \"6\": 44, \"15\": 30, \"1\": 57, \"14\": 4}, \"14\": {\"14\": 93, \"10\": 81, \"0\": 18, \"15\": 34, \"2\": 1, \"6\": 10, \"1\": 1, \"5\": 1, \"11\": 1}, \"8\": {\"7\": 59, \"9\": 44, \"8\": 50, \"2\": 46, \"3\": 15, \"13\": 9, \"12\": 11, \"0\": 5, \"4\": 1}, \"7\": {\"7\": 60, \"8\": 48, \"9\": 41, \"2\": 30, \"3\": 19, \"12\": 24, \"0\": 1, \"13\": 15, \"4\": 2}, \"6\": {\"5\": 44, \"6\": 67, \"11\": 10, \"14\": 11, \"1\": 23, \"15\": 72, \"10\": 13}, \"11\": {\"11\": 113, \"6\": 19, \"1\": 55, \"5\": 45, \"10\": 1, \"15\": 4, \"14\": 3}, \"15\": {\"14\": 41, \"5\": 29, \"11\": 11, \"10\": 30, \"15\": 65, \"6\": 37, \"1\": 23, \"0\": 4}, \"1\": {\"11\": 59, \"15\": 33, \"6\": 31, \"1\": 50, \"14\": 17, \"5\": 43, \"10\": 7}}, \"ORACLE.run144\": {\"12\": {\"12\": 113, \"3\": 126, \"0\": 1}, \"7\": {\"7\": 99, \"9\": 36, \"4\": 28, \"10\": 74, \"5\": 1, \"14\": 2}, \"5\": {\"2\": 23, \"5\": 50, \"14\": 70, \"15\": 25, \"8\": 3, \"4\": 38, \"7\": 6, \"1\": 15, \"9\": 4, \"10\": 6}, \"15\": {\"2\": 35, \"5\": 49, \"15\": 66, \"14\": 26, \"1\": 36, \"4\": 5, \"8\": 20, \"9\": 2, \"10\": 1}, \"8\": {\"0\": 54, \"8\": 91, \"1\": 66, \"15\": 14, \"2\": 8, \"5\": 6, \"14\": 1}, \"2\": {\"15\": 56, \"2\": 121, \"8\": 5, \"5\": 15, \"14\": 4, \"1\": 37, \"4\": 2}, \"13\": {\"13\": 176, \"6\": 58, \"9\": 6}, \"4\": {\"10\": 46, \"14\": 9, \"9\": 28, \"7\": 56, \"5\": 17, \"1\": 12, \"15\": 26, \"8\": 1, \"6\": 2, \"2\": 18, \"4\": 25}, \"0\": {\"8\": 26, \"0\": 212, \"1\": 1, \"3\": 1}, \"6\": {\"13\": 37, \"9\": 22, \"6\": 179, \"7\": 1, \"10\": 1}, \"9\": {\"4\": 19, \"5\": 17, \"14\": 27, \"7\": 42, \"13\": 38, \"9\": 42, \"6\": 21, \"15\": 3, \"10\": 30, \"2\": 1}, \"11\": {\"11\": 240}, \"10\": {\"7\": 76, \"9\": 39, \"4\": 29, \"10\": 73, \"15\": 1, \"1\": 5, \"6\": 5, \"14\": 7, \"2\": 3, \"5\": 1, \"8\": 1}, \"14\": {\"5\": 67, \"14\": 101, \"15\": 19, \"4\": 36, \"9\": 3, \"10\": 5, \"2\": 4, \"1\": 2, \"7\": 3}, \"1\": {\"1\": 107, \"15\": 27, \"8\": 57, \"2\": 43, \"5\": 4, \"0\": 1, \"4\": 1}, \"3\": {\"12\": 106, \"3\": 133, \"0\": 1}}, \"Wisig_3\": {\"109\": {\"109\": 109, \"43\": 3, \"126\": 2, \"70\": 2, \"11\": 8, \"108\": 1, \"87\": 1, \"88\": 1, \"118\": 1}, \"127\": {\"127\": 117, \"118\": 1, \"40\": 2, \"105\": 4, \"12\": 1, \"108\": 1, \"71\": 1, \"7\": 1}, \"14\": {\"14\": 78, \"84\": 1, \"40\": 1}, \"7\": {\"7\": 99, \"12\": 8, \"106\": 2, \"88\": 1, \"8\": 2}, \"129\": {\"129\": 23, \"103\": 1, \"5\": 4, \"124\": 1, \"102\": 2, \"45\": 1}, \"57\": {\"57\": 13, \"46\": 1, \"34\": 1, \"66\": 1, \"74\": 1, \"73\": 1, \"105\": 2}, \"84\": {\"14\": 5, \"84\": 93, \"49\": 1, \"26\": 1, \"16\": 3, \"93\": 2, \"70\": 1, \"110\": 1, \"88\": 1}, \"114\": {\"107\": 5, \"114\": 100, \"29\": 1, \"105\": 2, \"1\": 10, \"3\": 3, \"64\": 1, \"88\": 1, \"127\": 1}, \"44\": {\"44\": 68, \"1\": 1, \"76\": 2, \"53\": 1}, \"21\": {\"21\": 40, \"126\": 2, \"88\": 1, \"129\": 1, \"39\": 1, \"108\": 2, \"71\": 1}, \"46\": {\"46\": 10, \"55\": 1, \"57\": 2, \"83\": 1, \"25\": 1, \"66\": 1}, \"100\": {\"57\": 2, \"44\": 1, \"100\": 9, \"65\": 1, \"72\": 1, \"50\": 1, \"32\": 1}, \"63\": {\"63\": 14, \"123\": 1, \"82\": 1}, \"24\": {\"24\": 41, \"10\": 5, \"108\": 1, \"27\": 1}, \"107\": {\"107\": 93, \"34\": 1, \"114\": 12, \"105\": 1, \"1\": 7, \"90\": 1, \"127\": 1, \"99\": 1, \"3\": 1}, \"35\": {\"107\": 1, \"127\": 1, \"35\": 9, \"27\": 1}, \"81\": {\"81\": 26, \"61\": 1, \"121\": 3, \"18\": 1, \"33\": 1}, \"64\": {\"64\": 16, \"2\": 1, \"121\": 2, \"13\": 1}, \"59\": {\"59\": 12}, \"33\": {\"33\": 110, \"117\": 1, \"18\": 2, \"90\": 1}, \"34\": {\"34\": 11, \"58\": 1, \"83\": 1, \"52\": 1, \"54\": 1, \"40\": 2, \"3\": 2, \"75\": 2, \"44\": 2, \"105\": 1, \"1\": 2, \"32\": 2, \"56\": 1, \"72\": 1, \"9\": 2}, \"36\": {\"36\": 100, \"122\": 2, \"24\": 3, \"108\": 6, \"125\": 1, \"0\": 1, \"30\": 3, \"27\": 1, \"111\": 1, \"8\": 1, \"10\": 1}, \"79\": {\"79\": 11, \"104\": 1}, \"80\": {\"80\": 16}, \"77\": {\"77\": 13, \"109\": 1, \"5\": 2}, \"22\": {\"22\": 12, \"116\": 1, \"120\": 1, \"41\": 1, \"85\": 1}, \"124\": {\"124\": 107, \"5\": 3, \"98\": 1, \"111\": 7, \"91\": 1, \"6\": 1, \"37\": 1, \"86\": 1, \"32\": 1, \"73\": 1}, \"2\": {\"2\": 20, \"102\": 2, \"90\": 1, \"117\": 3, \"89\": 1, \"81\": 1}, \"87\": {\"87\": 98, \"122\": 2, \"110\": 6, \"118\": 1, \"8\": 1, \"21\": 1, \"11\": 3}, \"105\": {\"105\": 110, \"127\": 3, \"71\": 1, \"3\": 3, \"106\": 1, \"107\": 1, \"40\": 2, \"1\": 1}, \"95\": {\"56\": 2, \"95\": 28, \"75\": 1, \"54\": 1}, \"43\": {\"43\": 44, \"21\": 1, \"109\": 2, \"118\": 4, \"70\": 1, \"88\": 1, \"87\": 1, \"78\": 1, \"24\": 1}, \"56\": {\"56\": 10, \"95\": 1, \"128\": 1}, \"18\": {\"18\": 117, \"26\": 2, \"73\": 1, \"33\": 1, \"21\": 1, \"113\": 1, \"11\": 1}, \"85\": {\"86\": 1, \"85\": 23, \"128\": 1, \"42\": 2, \"52\": 1, \"95\": 1, \"103\": 1, \"54\": 1, \"19\": 2, \"112\": 1, \"73\": 2}, \"113\": {\"113\": 106, \"126\": 3, \"26\": 1, \"108\": 1, \"118\": 1, \"109\": 5, \"43\": 2, \"96\": 1}, \"97\": {\"97\": 16, \"27\": 1, \"15\": 2, \"39\": 1}, \"86\": {\"59\": 2, \"86\": 19, \"24\": 1, \"48\": 2, \"37\": 1, \"124\": 1, \"111\": 1, \"127\": 1}, \"128\": {\"56\": 1, \"95\": 1, \"128\": 18, \"52\": 2, \"19\": 1, \"28\": 1, \"83\": 3, \"38\": 2, \"57\": 1, \"124\": 1, \"98\": 1}, \"123\": {\"123\": 14, \"63\": 2}, \"8\": {\"8\": 107, \"94\": 1, \"0\": 14, \"93\": 1, \"62\": 2, \"15\": 4, \"87\": 1}, \"110\": {\"110\": 65, \"88\": 1, \"118\": 1, \"78\": 1, \"8\": 5, \"30\": 1, \"0\": 4, \"44\": 1, \"111\": 1, \"42\": 1, \"122\": 2, \"15\": 1, \"87\": 3, \"39\": 1, \"36\": 1, \"10\": 1}, \"126\": {\"126\": 99, \"88\": 3, \"111\": 1, \"39\": 1}, \"42\": {\"68\": 1, \"48\": 1, \"42\": 14, \"41\": 2, \"77\": 1, \"58\": 4, \"115\": 3, \"5\": 1, \"129\": 1}, \"96\": {\"113\": 1, \"96\": 16, \"26\": 1, \"43\": 1, \"126\": 1}, \"83\": {\"54\": 1, \"114\": 1, \"65\": 2, \"83\": 10, \"9\": 1, \"99\": 1, \"34\": 1, \"19\": 1, \"112\": 1, \"17\": 1, \"128\": 1, \"50\": 1, \"14\": 1, \"77\": 1}, \"54\": {\"54\": 12, \"41\": 1, \"49\": 1, \"95\": 2}, \"65\": {\"68\": 1, \"121\": 1, \"103\": 2, \"65\": 4, \"55\": 2, \"112\": 1, \"64\": 1}, \"30\": {\"30\": 66, \"36\": 4, \"0\": 5, \"125\": 1, \"109\": 3, \"15\": 1, \"39\": 1, \"108\": 1, \"8\": 2}, \"121\": {\"121\": 26, \"11\": 3, \"90\": 1, \"21\": 1, \"109\": 1}, \"68\": {\"42\": 2, \"68\": 11, \"111\": 2, \"51\": 1}, \"45\": {\"65\": 2, \"119\": 1, \"45\": 12, \"63\": 1}, \"48\": {\"48\": 5, \"45\": 1, \"115\": 2, \"77\": 2, \"17\": 2, \"59\": 1, \"79\": 2, \"117\": 1}, \"4\": {\"4\": 91, \"125\": 3, \"39\": 1, \"87\": 1}, \"67\": {\"67\": 14, \"123\": 1, \"92\": 1}, \"103\": {\"103\": 9, \"42\": 1, \"85\": 1, \"86\": 1, \"52\": 1, \"50\": 1, \"5\": 1, \"53\": 1}, \"74\": {\"74\": 16}, \"1\": {\"1\": 81, \"3\": 5, \"71\": 1, \"7\": 1, \"127\": 1, \"114\": 11, \"40\": 1, \"105\": 2, \"27\": 1, \"109\": 1, \"107\": 3}, \"61\": {\"61\": 15, \"81\": 1}, \"101\": {\"101\": 45, \"70\": 1, \"118\": 1, \"12\": 2, \"7\": 3}, \"93\": {\"96\": 2, \"93\": 107, \"118\": 3, \"23\": 1, \"16\": 9, \"113\": 5, \"62\": 4, \"87\": 2, \"69\": 2, \"26\": 3}, \"26\": {\"26\": 120, \"93\": 6, \"62\": 2, \"16\": 2}, \"71\": {\"1\": 2, \"71\": 47, \"127\": 5, \"108\": 1, \"105\": 4, \"3\": 7, \"110\": 1, \"40\": 1}, \"15\": {\"15\": 95, \"94\": 3, \"97\": 1, \"39\": 1, \"8\": 2, \"109\": 1, \"0\": 1}, \"55\": {\"46\": 2, \"55\": 11, \"85\": 1, \"103\": 2}, \"104\": {\"104\": 9, \"111\": 1, \"52\": 1, \"48\": 1, \"86\": 1, \"41\": 1, \"85\": 2}, \"112\": {\"112\": 11, \"50\": 1, \"42\": 1, \"85\": 2, \"27\": 1}, \"102\": {\"102\": 121, \"119\": 1}, \"117\": {\"117\": 110, \"90\": 1, \"120\": 1}, \"119\": {\"102\": 2, \"119\": 10, \"64\": 2, \"129\": 1, \"13\": 1}, \"20\": {\"53\": 2, \"101\": 1, \"68\": 1, \"20\": 7, \"1\": 1, \"114\": 1, \"50\": 1, \"57\": 2}, \"120\": {\"64\": 1, \"120\": 11, \"119\": 1, \"81\": 2, \"5\": 1, \"107\": 2, \"92\": 2}, \"39\": {\"39\": 102, \"109\": 1, \"88\": 4, \"70\": 1}, \"49\": {\"49\": 13, \"51\": 1, \"7\": 4, \"122\": 1, \"8\": 1, \"93\": 1, \"106\": 1, \"14\": 2}, \"53\": {\"53\": 12, \"76\": 2, \"114\": 2, \"29\": 2, \"32\": 2}, \"92\": {\"120\": 1, \"39\": 1, \"89\": 3, \"92\": 25, \"31\": 2}, \"3\": {\"3\": 95, \"114\": 6, \"1\": 8, \"105\": 3, \"71\": 2, \"107\": 1, \"40\": 1}, \"47\": {\"47\": 7, \"97\": 1, \"38\": 2, \"9\": 2}, \"115\": {\"115\": 11, \"66\": 1, \"42\": 3, \"129\": 1}, \"58\": {\"58\": 12, \"112\": 1, \"55\": 1, \"103\": 1, \"66\": 1}, \"29\": {\"29\": 28, \"82\": 4}, \"12\": {\"12\": 94, \"106\": 3, \"101\": 1, \"7\": 6}, \"62\": {\"62\": 103, \"110\": 2, \"18\": 1, \"16\": 6, \"60\": 2, \"71\": 2, \"8\": 1, \"11\": 1}, \"11\": {\"11\": 99, \"87\": 8, \"43\": 6, \"110\": 2, \"118\": 4, \"10\": 10, \"27\": 5, \"109\": 4, \"108\": 1, \"62\": 1}, \"72\": {\"72\": 15, \"71\": 1, \"105\": 1, \"9\": 1, \"99\": 3, \"49\": 2, \"75\": 4, \"83\": 1}, \"98\": {\"98\": 96, \"77\": 1, \"34\": 1, \"128\": 1, \"95\": 1, \"9\": 1, \"107\": 4, \"114\": 1}, \"122\": {\"122\": 46, \"0\": 2, \"108\": 2, \"110\": 2, \"30\": 1, \"39\": 1, \"8\": 2, \"87\": 2, \"82\": 1, \"21\": 1}, \"17\": {\"11\": 1, \"17\": 4, \"110\": 1, \"118\": 2, \"63\": 1, \"126\": 1, \"86\": 1, \"111\": 1, \"104\": 1, \"117\": 1, \"22\": 1, \"119\": 1}, \"94\": {\"94\": 66, \"8\": 4, \"0\": 5, \"97\": 1, \"15\": 8}, \"106\": {\"106\": 75, \"7\": 2, \"126\": 1, \"12\": 5, \"127\": 4, \"94\": 2, \"88\": 1}, \"28\": {\"28\": 11, \"53\": 2, \"50\": 1, \"100\": 1, \"19\": 1}, \"69\": {\"69\": 68, \"88\": 1, \"1\": 4, \"109\": 2, \"84\": 3, \"26\": 1, \"33\": 1, \"87\": 1, \"70\": 1, \"27\": 1, \"14\": 1}, \"125\": {\"125\": 110, \"98\": 1, \"18\": 1, \"4\": 1, \"117\": 1}, \"19\": {\"19\": 22, \"66\": 1, \"52\": 2, \"112\": 1, \"85\": 2, \"110\": 1, \"90\": 1, \"89\": 1, \"98\": 1}, \"41\": {\"41\": 5, \"19\": 1, \"37\": 2, \"111\": 1, \"128\": 1, \"6\": 1, \"85\": 1, \"98\": 1, \"124\": 1, \"68\": 1, \"20\": 1}, \"60\": {\"60\": 23, \"0\": 1, \"15\": 1, \"93\": 1, \"62\": 2}, \"70\": {\"70\": 58, \"88\": 6, \"10\": 5, \"24\": 1, \"78\": 1, \"11\": 1}, \"27\": {\"108\": 10, \"27\": 71, \"8\": 1, \"24\": 3, \"30\": 6, \"10\": 2, \"6\": 1, \"36\": 2}, \"10\": {\"10\": 101, \"11\": 5, \"27\": 4, \"39\": 1, \"108\": 3, \"24\": 3, \"70\": 1}, \"108\": {\"108\": 105, \"10\": 8, \"36\": 6, \"122\": 2, \"39\": 2, \"27\": 6, \"87\": 4, \"69\": 1, \"11\": 1, \"24\": 2, \"118\": 1, \"8\": 2}, \"9\": {\"9\": 22, \"57\": 1, \"32\": 3, \"38\": 1, \"34\": 3, \"128\": 1, \"14\": 1}, \"25\": {\"25\": 10, \"66\": 3, \"52\": 1, \"39\": 1, \"54\": 1}, \"37\": {\"37\": 13, \"73\": 1, \"77\": 1, \"42\": 1}, \"0\": {\"36\": 2, \"0\": 101, \"8\": 10, \"15\": 2, \"108\": 1}, \"66\": {\"66\": 7, \"25\": 1, \"128\": 3, \"85\": 1, \"77\": 1, \"46\": 1, \"45\": 1, \"38\": 1}, \"51\": {\"51\": 11, \"127\": 3, \"99\": 1, \"54\": 1}, \"76\": {\"76\": 13, \"120\": 1, \"53\": 1, \"44\": 1}, \"32\": {\"32\": 21, \"45\": 1, \"83\": 4, \"9\": 1, \"107\": 2, \"3\": 1, \"49\": 1, \"56\": 1}, \"88\": {\"88\": 111, \"39\": 1}, \"31\": {\"31\": 14, \"76\": 2, \"29\": 1, \"18\": 2, \"50\": 1}, \"91\": {\"91\": 15, \"66\": 1, \"42\": 1, \"85\": 1, \"73\": 2, \"52\": 2, \"65\": 1, \"103\": 1}, \"90\": {\"90\": 123, \"29\": 1, \"82\": 2}, \"13\": {\"13\": 9, \"102\": 3, \"126\": 1, \"119\": 1, \"79\": 1, \"118\": 1}, \"50\": {\"50\": 10, \"77\": 1, \"19\": 1, \"112\": 1, \"100\": 1, \"85\": 1, \"38\": 1}, \"78\": {\"78\": 12, \"70\": 2, \"88\": 2}, \"116\": {\"116\": 23, \"120\": 1, \"5\": 1, \"117\": 2, \"2\": 1}, \"5\": {\"5\": 99, \"124\": 4, \"129\": 2, \"39\": 1, \"42\": 2, \"115\": 1, \"111\": 2, \"70\": 1}, \"75\": {\"75\": 10, \"105\": 1, \"72\": 2, \"34\": 2, \"30\": 1}, \"89\": {\"89\": 19, \"92\": 2, \"90\": 2, \"120\": 1, \"82\": 2, \"2\": 1, \"29\": 1}, \"16\": {\"69\": 3, \"16\": 90, \"110\": 1, \"23\": 1, \"62\": 5, \"39\": 1, \"27\": 1, \"93\": 7, \"84\": 2, \"26\": 4, \"7\": 1}, \"38\": {\"1\": 2, \"38\": 11, \"53\": 1, \"72\": 1, \"45\": 1}, \"118\": {\"118\": 92, \"24\": 1, \"113\": 2, \"11\": 3, \"87\": 1, \"109\": 1}, \"99\": {\"83\": 1, \"99\": 19, \"3\": 4, \"95\": 2, \"98\": 1, \"71\": 1, \"105\": 2, \"27\": 1, \"34\": 1, \"114\": 2, \"127\": 1, \"40\": 1}, \"52\": {\"55\": 2, \"52\": 6, \"95\": 1, \"128\": 1, \"25\": 1, \"65\": 2, \"9\": 1, \"91\": 2}, \"111\": {\"111\": 116, \"124\": 6, \"5\": 4, \"68\": 2}, \"23\": {\"93\": 3, \"12\": 1, \"23\": 8, \"18\": 1, \"94\": 1, \"0\": 5, \"113\": 1, \"8\": 2, \"15\": 2, \"110\": 2, \"30\": 2, \"122\": 2, \"26\": 1, \"62\": 1}, \"73\": {\"73\": 29, \"103\": 1, \"9\": 1, \"98\": 2, \"6\": 1, \"91\": 3, \"34\": 1, \"85\": 1, \"44\": 1}, \"82\": {\"82\": 21, \"29\": 1, \"24\": 1, \"90\": 4, \"122\": 1}, \"40\": {\"40\": 95, \"101\": 2, \"12\": 2, \"7\": 1, \"1\": 6, \"127\": 6, \"71\": 2, \"105\": 3, \"14\": 1, \"3\": 6, \"88\": 2, \"51\": 2}, \"6\": {\"6\": 27, \"124\": 1, \"111\": 3, \"58\": 1}}, \"Wisig_4\": {\"28\": {\"28\": 17, \"19\": 1, \"31\": 1, \"100\": 1}, \"4\": {\"4\": 96, \"10\": 1, \"24\": 1, \"86\": 2, \"39\": 1, \"125\": 3}, \"72\": {\"14\": 2, \"72\": 17, \"7\": 2, \"107\": 1, \"103\": 1, \"16\": 1, \"3\": 3, \"51\": 1, \"105\": 1, \"34\": 1, \"120\": 1, \"99\": 1}, \"111\": {\"111\": 121, \"10\": 2, \"125\": 1, \"124\": 7, \"105\": 2, \"6\": 1, \"122\": 1, \"0\": 1}, \"108\": {\"108\": 49, \"88\": 6, \"109\": 10, \"24\": 5, \"94\": 1, \"27\": 1, \"98\": 1, \"43\": 3, \"70\": 7, \"10\": 5, \"39\": 3, \"101\": 1}, \"43\": {\"43\": 98, \"27\": 5, \"36\": 2, \"122\": 3, \"70\": 2, \"87\": 3, \"109\": 3, \"24\": 2, \"113\": 1, \"71\": 1}, \"96\": {\"96\": 9, \"14\": 2, \"0\": 1, \"93\": 2, \"110\": 1, \"113\": 1, \"118\": 1, \"16\": 2, \"72\": 1}, \"89\": {\"89\": 23, \"85\": 3, \"78\": 1, \"52\": 1, \"100\": 1, \"43\": 1, \"33\": 1, \"32\": 1}, \"31\": {\"28\": 2, \"89\": 1, \"83\": 1, \"31\": 6, \"19\": 2, \"90\": 1, \"46\": 1, \"73\": 1, \"98\": 1}, \"45\": {\"28\": 2, \"45\": 8, \"64\": 2, \"120\": 2, \"92\": 1, \"32\": 1}, \"2\": {\"2\": 24, \"117\": 2, \"66\": 1, \"92\": 1}, \"114\": {\"114\": 96, \"108\": 1, \"107\": 17, \"83\": 2, \"95\": 2, \"1\": 3, \"89\": 1, \"40\": 5, \"88\": 1}, \"11\": {\"11\": 97, \"118\": 5, \"0\": 3, \"87\": 8, \"7\": 3, \"110\": 6, \"62\": 6, \"14\": 1, \"8\": 1, \"84\": 2, \"16\": 3, \"93\": 1}, \"12\": {\"14\": 2, \"12\": 79, \"11\": 1, \"98\": 1, \"106\": 10, \"109\": 1, \"101\": 1, \"28\": 1, \"72\": 1, \"127\": 2, \"7\": 1}, \"14\": {\"14\": 95, \"71\": 2, \"109\": 1, \"3\": 1, \"105\": 1, \"118\": 1, \"40\": 1, \"7\": 2, \"127\": 4, \"1\": 2, \"69\": 1, \"114\": 1}, \"90\": {\"90\": 148, \"102\": 1, \"22\": 1, \"57\": 2, \"92\": 1, \"117\": 1}, \"10\": {\"10\": 93, \"21\": 1, \"43\": 1, \"24\": 9, \"36\": 1, \"109\": 1, \"70\": 9, \"88\": 4, \"18\": 1, \"39\": 1, \"108\": 1}, \"63\": {\"123\": 1, \"63\": 15}, \"85\": {\"85\": 20, \"83\": 1, \"100\": 2, \"52\": 1, \"9\": 1, \"46\": 1, \"78\": 1, \"98\": 1}, \"64\": {\"64\": 10, \"11\": 1, \"120\": 1, \"45\": 1, \"126\": 1, \"33\": 2}, \"82\": {\"85\": 3, \"107\": 1, \"9\": 1, \"100\": 1, \"32\": 2, \"55\": 1, \"82\": 12, \"56\": 1, \"73\": 1, \"112\": 1, \"33\": 2, \"98\": 1, \"129\": 1, \"89\": 2, \"120\": 1, \"103\": 1}, \"58\": {\"91\": 2, \"58\": 9, \"70\": 1, \"82\": 2, \"6\": 2}, \"3\": {\"12\": 2, \"3\": 104, \"118\": 1, \"40\": 3, \"21\": 2, \"76\": 1, \"114\": 5, \"128\": 1, \"49\": 3, \"99\": 2, \"5\": 2, \"69\": 1, \"34\": 1, \"20\": 1, \"88\": 2, \"14\": 1, \"1\": 2, \"107\": 2}, \"54\": {\"85\": 2, \"54\": 11, \"125\": 2, \"104\": 1}, \"121\": {\"121\": 31, \"90\": 1}, \"42\": {\"91\": 2, \"42\": 8, \"112\": 1, \"22\": 3, \"25\": 1, \"29\": 3, \"6\": 2, \"102\": 3, \"98\": 2, \"73\": 1, \"67\": 1, \"115\": 1}, \"98\": {\"98\": 105, \"85\": 2, \"121\": 2, \"128\": 1, \"44\": 1, \"109\": 1, \"95\": 2, \"41\": 2, \"19\": 1, \"25\": 1, \"120\": 2}, \"123\": {\"123\": 13, \"63\": 1, \"66\": 1, \"67\": 1}, \"91\": {\"91\": 22, \"103\": 1, \"68\": 1}, \"83\": {\"120\": 1, \"83\": 11, \"36\": 1, \"114\": 2, \"56\": 1, \"3\": 1, \"103\": 1, \"40\": 1, \"46\": 1, \"99\": 2, \"32\": 1, \"107\": 2, \"70\": 1, \"1\": 1, \"5\": 1}, \"99\": {\"99\": 20, \"60\": 1, \"3\": 4, \"83\": 2, \"72\": 2, \"1\": 2, \"43\": 1, \"74\": 1, \"105\": 1, \"14\": 2, \"69\": 1, \"89\": 1, \"40\": 1, \"127\": 1}, \"112\": {\"120\": 1, \"45\": 1, \"112\": 8, \"89\": 1, \"91\": 2, \"103\": 1, \"28\": 1, \"17\": 1}, \"119\": {\"119\": 14, \"104\": 2}, \"70\": {\"27\": 2, \"70\": 75, \"87\": 1, \"10\": 13, \"88\": 2, \"43\": 2, \"24\": 18, \"108\": 6, \"114\": 1, \"126\": 1, \"73\": 1, \"7\": 1, \"39\": 1}, \"20\": {\"99\": 2, \"20\": 10, \"5\": 1, \"3\": 1, \"36\": 1, \"92\": 1}, \"120\": {\"120\": 9, \"19\": 2, \"100\": 1, \"55\": 1, \"89\": 2, \"52\": 2, \"82\": 1, \"77\": 2}, \"7\": {\"7\": 113, \"114\": 1, \"14\": 1, \"127\": 2, \"11\": 2, \"39\": 1, \"60\": 2, \"78\": 1, \"105\": 1}, \"60\": {\"60\": 29, \"69\": 1, \"93\": 1, \"16\": 1}, \"113\": {\"113\": 105, \"126\": 6, \"109\": 2, \"11\": 1, \"93\": 1, \"39\": 1, \"24\": 1, \"16\": 1}, \"37\": {\"124\": 2, \"37\": 11, \"111\": 1, \"11\": 1, \"109\": 1}, \"124\": {\"124\": 89, \"115\": 2, \"104\": 2, \"111\": 14, \"17\": 1, \"129\": 1, \"125\": 1}, \"27\": {\"27\": 61, \"0\": 4, \"96\": 1, \"43\": 9, \"36\": 9, \"87\": 4, \"24\": 3, \"30\": 3, \"88\": 1, \"10\": 1, \"126\": 1, \"118\": 1, \"15\": 2}, \"86\": {\"86\": 28}, \"127\": {\"127\": 90, \"12\": 2, \"88\": 2, \"10\": 1, \"108\": 1, \"71\": 3, \"14\": 3, \"39\": 2, \"114\": 4}, \"62\": {\"62\": 43, \"39\": 1, \"109\": 2, \"118\": 1, \"93\": 3, \"122\": 2, \"126\": 1, \"11\": 3, \"16\": 2, \"26\": 1, \"8\": 1}, \"122\": {\"122\": 48, \"118\": 8, \"109\": 1, \"87\": 7, \"62\": 5, \"0\": 2, \"110\": 8, \"30\": 1, \"11\": 1, \"117\": 1, \"88\": 1, \"27\": 1}, \"51\": {\"127\": 2, \"85\": 1, \"30\": 1, \"21\": 1, \"51\": 3, \"53\": 2, \"128\": 1, \"97\": 1, \"62\": 1, \"95\": 1, \"34\": 1, \"109\": 1}, \"109\": {\"10\": 3, \"109\": 79, \"24\": 2, \"108\": 7, \"88\": 3, \"70\": 11, \"15\": 1, \"126\": 2, \"39\": 3, \"110\": 1, \"43\": 2}, \"106\": {\"106\": 82, \"7\": 2, \"39\": 2, \"12\": 15, \"14\": 1, \"88\": 2, \"114\": 2, \"127\": 4, \"109\": 2, \"78\": 2}, \"94\": {\"94\": 63, \"30\": 7, \"0\": 3, \"15\": 10, \"8\": 2, \"11\": 1, \"87\": 2}, \"38\": {\"38\": 13, \"33\": 1, \"3\": 1, \"92\": 1}, \"129\": {\"129\": 21, \"116\": 1, \"120\": 1, \"124\": 3, \"50\": 1, \"45\": 1}, \"116\": {\"116\": 24, \"115\": 1, \"73\": 1, \"119\": 1, \"57\": 1}, \"107\": {\"107\": 102, \"114\": 9, \"1\": 1, \"40\": 2, \"99\": 1, \"3\": 3}, \"30\": {\"30\": 59, \"36\": 6, \"94\": 3, \"39\": 1, \"8\": 2, \"101\": 1, \"10\": 1, \"0\": 2, \"126\": 1}, \"102\": {\"102\": 123, \"129\": 2, \"124\": 2, \"117\": 1, \"90\": 1, \"13\": 2, \"15\": 1}, \"74\": {\"74\": 11, \"3\": 1, \"89\": 2, \"31\": 2}, \"101\": {\"101\": 125, \"94\": 2, \"24\": 1, \"12\": 2, \"15\": 2}, \"117\": {\"117\": 112, \"66\": 1, \"126\": 1, \"88\": 1, \"10\": 1, \"90\": 4, \"102\": 3, \"63\": 1}, \"1\": {\"1\": 60, \"114\": 3, \"83\": 1, \"107\": 4, \"3\": 2, \"95\": 2, \"99\": 6, \"71\": 6, \"88\": 2, \"70\": 1, \"5\": 1, \"40\": 7, \"105\": 4, \"98\": 2, \"100\": 1, \"49\": 1, \"102\": 1, \"21\": 1, \"109\": 1, \"24\": 1, \"69\": 1}, \"84\": {\"84\": 102, \"5\": 2, \"113\": 1, \"69\": 13, \"109\": 2, \"105\": 1, \"16\": 2, \"88\": 2, \"18\": 1, \"26\": 2, \"14\": 2, \"40\": 1, \"101\": 1}, \"17\": {\"17\": 13, \"6\": 1, \"68\": 1, \"115\": 1, \"104\": 2, \"86\": 2}, \"6\": {\"6\": 23, \"91\": 1}, \"110\": {\"110\": 93, \"8\": 1, \"62\": 3, \"118\": 3, \"27\": 2, \"11\": 13, \"24\": 1, \"43\": 1, \"122\": 2, \"93\": 2, \"88\": 1, \"16\": 1, \"70\": 1}, \"77\": {\"77\": 12}, \"8\": {\"8\": 92, \"109\": 1, \"0\": 10, \"15\": 10, \"94\": 3, \"106\": 4, \"7\": 2, \"30\": 2, \"101\": 1, \"11\": 2, \"36\": 2, \"43\": 2, \"10\": 1}, \"73\": {\"57\": 2, \"38\": 1, \"28\": 1, \"104\": 1, \"48\": 3, \"73\": 9, \"10\": 1, \"53\": 1, \"6\": 1, \"120\": 1, \"46\": 1, \"112\": 1, \"45\": 1}, \"126\": {\"126\": 118, \"113\": 3, \"88\": 1, \"109\": 1, \"21\": 1}, \"57\": {\"57\": 14, \"103\": 1, \"33\": 1}, \"95\": {\"95\": 21, \"39\": 1, \"54\": 1, \"99\": 1, \"52\": 1, \"82\": 1, \"34\": 2, \"12\": 1, \"71\": 1, \"7\": 1, \"85\": 1}, \"103\": {\"103\": 7, \"82\": 2, \"17\": 1, \"47\": 1, \"25\": 2, \"41\": 1, \"124\": 1, \"86\": 1}, \"97\": {\"97\": 15, \"111\": 1, \"108\": 1, \"27\": 1, \"29\": 1, \"87\": 1}, \"39\": {\"39\": 94, \"88\": 1, \"108\": 3, \"126\": 1, \"21\": 1}, \"100\": {\"83\": 2, \"32\": 4, \"100\": 6, \"85\": 1, \"46\": 2, \"72\": 1, \"107\": 2, \"128\": 2}, \"40\": {\"100\": 1, \"40\": 81, \"3\": 2, \"1\": 12, \"105\": 4, \"109\": 1, \"71\": 4, \"114\": 3, \"34\": 1, \"44\": 1}, \"36\": {\"36\": 101, \"30\": 5, \"27\": 7, \"0\": 3, \"94\": 2, \"8\": 1, \"15\": 3, \"24\": 2, \"43\": 1, \"88\": 1}, \"19\": {\"56\": 2, \"31\": 1, \"64\": 3, \"19\": 8, \"120\": 1, \"73\": 2, \"9\": 1, \"92\": 2, \"55\": 1, \"41\": 2, \"98\": 4, \"57\": 1}, \"118\": {\"122\": 5, \"118\": 82, \"110\": 4, \"87\": 12, \"30\": 2, \"8\": 1, \"62\": 1, \"27\": 2, \"93\": 1, \"24\": 1, \"127\": 1}, \"56\": {\"56\": 9, \"41\": 2, \"86\": 1}, \"26\": {\"26\": 123, \"16\": 2, \"109\": 1}, \"5\": {\"5\": 123, \"82\": 1, \"33\": 4, \"3\": 2, \"74\": 1, \"117\": 1, \"114\": 2, \"107\": 1, \"108\": 1}, \"21\": {\"21\": 36, \"78\": 1, \"1\": 1, \"122\": 2}, \"22\": {\"22\": 12, \"82\": 1, \"94\": 1, \"28\": 2}, \"68\": {\"103\": 2, \"68\": 10, \"17\": 1, \"111\": 2, \"58\": 1}, \"9\": {\"107\": 4, \"56\": 2, \"52\": 1, \"51\": 2, \"114\": 2, \"105\": 2, \"32\": 2, \"46\": 1, \"9\": 7, \"75\": 1, \"98\": 1, \"99\": 2, \"25\": 1}, \"66\": {\"22\": 2, \"66\": 9, \"50\": 1, \"116\": 1, \"2\": 1, \"90\": 1, \"28\": 1}, \"87\": {\"87\": 100, \"118\": 7, \"110\": 3, \"0\": 2, \"30\": 4, \"122\": 2, \"62\": 1, \"27\": 1, \"43\": 1, \"11\": 1, \"15\": 1, \"109\": 1}, \"71\": {\"71\": 88, \"39\": 2, \"14\": 1, \"114\": 3, \"99\": 1, \"40\": 3, \"105\": 3, \"127\": 1, \"128\": 1, \"21\": 1}, \"115\": {\"68\": 1, \"17\": 1, \"115\": 8, \"124\": 1, \"79\": 1, \"13\": 1, \"89\": 1, \"98\": 1, \"116\": 1}, \"23\": {\"68\": 1, \"97\": 1, \"23\": 2, \"11\": 2, \"21\": 2, \"101\": 1, \"44\": 1, \"20\": 1, \"122\": 1, \"10\": 2, \"113\": 1, \"26\": 1}, \"33\": {\"33\": 112, \"83\": 1, \"38\": 1, \"0\": 1, \"5\": 2, \"90\": 1}, \"35\": {\"35\": 9, \"70\": 1, \"81\": 2}, \"125\": {\"125\": 126, \"90\": 2, \"111\": 1, \"117\": 2, \"10\": 1}, \"47\": {\"47\": 12}, \"79\": {\"79\": 14, \"116\": 1, \"115\": 1}, \"53\": {\"53\": 14, \"46\": 1, \"34\": 1}, \"67\": {\"67\": 9, \"64\": 1, \"61\": 1, \"116\": 2, \"123\": 1, \"73\": 1, \"126\": 1}, \"80\": {\"80\": 16}, \"105\": {\"105\": 71, \"49\": 1, \"39\": 3, \"78\": 1, \"14\": 4, \"71\": 5, \"1\": 2, \"40\": 6, \"124\": 1, \"93\": 1, \"83\": 1, \"7\": 1, \"127\": 1, \"102\": 1, \"69\": 1}, \"76\": {\"76\": 15, \"71\": 1}, \"46\": {\"100\": 2, \"46\": 8, \"111\": 1, \"33\": 1, \"107\": 1, \"32\": 3, \"129\": 1, \"85\": 1, \"5\": 1, \"75\": 1}, \"34\": {\"32\": 3, \"71\": 1, \"34\": 13, \"107\": 3, \"99\": 1, \"49\": 2, \"1\": 2, \"3\": 1, \"52\": 1, \"51\": 1, \"9\": 1, \"54\": 2, \"114\": 1}, \"32\": {\"100\": 1, \"46\": 2, \"32\": 11, \"1\": 2, \"114\": 5, \"33\": 2, \"3\": 2, \"71\": 2, \"107\": 1}, \"13\": {\"13\": 12, \"57\": 1, \"102\": 3}, \"78\": {\"78\": 32, \"88\": 3, \"109\": 1}, \"41\": {\"41\": 13, \"29\": 1, \"103\": 2}, \"69\": {\"3\": 1, \"69\": 106, \"72\": 3, \"84\": 6, \"126\": 2, \"105\": 1, \"16\": 1, \"127\": 1, \"114\": 1, \"99\": 2, \"78\": 1, \"88\": 1, \"14\": 2}, \"88\": {\"88\": 113, \"70\": 4, \"117\": 1, \"24\": 2, \"122\": 1, \"109\": 3, \"10\": 5, \"108\": 1, \"39\": 1, \"90\": 1}, \"15\": {\"15\": 100, \"94\": 7, \"24\": 2, \"8\": 12, \"126\": 1, \"0\": 2, \"88\": 1, \"30\": 1, \"39\": 1, \"7\": 1}, \"61\": {\"74\": 1, \"61\": 10, \"48\": 2, \"121\": 1, \"44\": 1, \"5\": 1}, \"0\": {\"0\": 72, \"30\": 4, \"8\": 11, \"87\": 4, \"15\": 12, \"94\": 4, \"118\": 1, \"24\": 1, \"11\": 2, \"108\": 2, \"106\": 1, \"70\": 1, \"117\": 1}, \"104\": {\"17\": 1, \"104\": 9, \"73\": 1, \"115\": 1, \"6\": 1, \"119\": 1, \"29\": 1, \"116\": 1}, \"48\": {\"48\": 5, \"116\": 2, \"123\": 2, \"102\": 1, \"2\": 1, \"65\": 2, \"98\": 1, \"117\": 2}, \"25\": {\"25\": 11, \"52\": 1, \"114\": 1, \"98\": 2, \"85\": 1}, \"75\": {\"75\": 14, \"85\": 1, \"77\": 1}, \"81\": {\"81\": 28, \"90\": 1, \"33\": 1, \"39\": 1, \"84\": 2, \"18\": 2, \"117\": 1}, \"50\": {\"50\": 11, \"42\": 1, \"111\": 1, \"86\": 1, \"119\": 1, \"104\": 1}, \"52\": {\"51\": 1, \"52\": 12, \"95\": 2, \"128\": 1, \"100\": 1, \"98\": 1, \"34\": 1, \"89\": 1}, \"16\": {\"16\": 91, \"60\": 3, \"127\": 1, \"84\": 1, \"93\": 9, \"108\": 1, \"110\": 1, \"33\": 1, \"23\": 1, \"96\": 1, \"26\": 5, \"113\": 1, \"1\": 1, \"11\": 2, \"117\": 1}, \"44\": {\"44\": 53, \"5\": 3, \"121\": 1, \"3\": 2, \"107\": 1, \"18\": 2, \"84\": 1, \"114\": 1}, \"29\": {\"29\": 29, \"21\": 1, \"25\": 1, \"36\": 1}, \"93\": {\"93\": 91, \"3\": 1, \"110\": 8, \"7\": 1, \"118\": 4, \"60\": 1, \"84\": 2, \"114\": 1, \"69\": 3, \"16\": 9, \"11\": 2, \"0\": 1}, \"18\": {\"18\": 107, \"26\": 4, \"16\": 1, \"81\": 2}, \"49\": {\"49\": 13, \"3\": 5, \"71\": 1, \"127\": 2, \"43\": 1, \"114\": 1, \"20\": 2, \"34\": 2, \"100\": 2, \"107\": 2, \"1\": 1}, \"55\": {\"55\": 10, \"68\": 1, \"29\": 2, \"17\": 1, \"58\": 1, \"41\": 1}, \"59\": {\"59\": 9, \"86\": 2, \"21\": 1}, \"128\": {\"128\": 15, \"52\": 1, \"92\": 1, \"124\": 1, \"46\": 1, \"83\": 1, \"28\": 1, \"89\": 1, \"98\": 1, \"85\": 1}, \"24\": {\"24\": 80, \"109\": 3, \"30\": 1, \"10\": 10, \"70\": 13, \"27\": 3, \"108\": 5, \"43\": 1, \"88\": 1, \"36\": 1, \"0\": 1, \"39\": 1}, \"65\": {\"65\": 12}, \"92\": {\"128\": 1, \"92\": 19, \"90\": 2, \"5\": 1, \"57\": 3, \"45\": 1, \"107\": 1}}, \"Wisig_1\": {\"108\": {\"108\": 83, \"11\": 6, \"24\": 10, \"10\": 2, \"43\": 2, \"88\": 14, \"126\": 3, \"93\": 2, \"70\": 1, \"27\": 1}, \"40\": {\"9\": 2, \"40\": 84, \"34\": 2, \"127\": 8, \"1\": 2, \"71\": 6, \"105\": 8, \"14\": 4, \"101\": 8, \"107\": 2, \"12\": 6, \"44\": 1, \"111\": 1, \"106\": 1, \"114\": 1}, \"68\": {\"68\": 10, \"22\": 1, \"17\": 1, \"112\": 3, \"91\": 1}, \"23\": {\"26\": 3, \"7\": 1, \"122\": 1, \"110\": 3, \"96\": 1, \"23\": 4, \"94\": 2, \"0\": 2, \"44\": 1, \"87\": 1, \"1\": 2, \"76\": 1, \"36\": 2}, \"26\": {\"26\": 97, \"69\": 7, \"18\": 5, \"24\": 1, \"16\": 8, \"70\": 1, \"1\": 1}, \"64\": {\"64\": 13, \"57\": 1, \"61\": 2}, \"22\": {\"22\": 9, \"64\": 1, \"83\": 1, \"116\": 1, \"74\": 1, \"129\": 1, \"120\": 1, \"43\": 1}, \"3\": {\"26\": 1, \"3\": 68, \"0\": 2, \"1\": 2, \"71\": 2, \"114\": 5, \"111\": 1, \"98\": 1, \"33\": 4, \"18\": 1, \"62\": 1}, \"4\": {\"4\": 97, \"125\": 2, \"88\": 1}, \"70\": {\"70\": 107, \"10\": 4, \"109\": 5, \"78\": 1, \"108\": 1, \"88\": 2}, \"57\": {\"57\": 11, \"103\": 1}, \"79\": {\"79\": 10, \"124\": 1, \"67\": 1}, \"9\": {\"9\": 28, \"14\": 1, \"31\": 1, \"107\": 1, \"83\": 1}, \"89\": {\"89\": 20, \"74\": 1, \"29\": 2, \"75\": 1, \"107\": 3, \"72\": 2, \"49\": 2, \"81\": 1, \"34\": 1, \"53\": 1, \"32\": 2}, \"110\": {\"110\": 119, \"87\": 3, \"0\": 4, \"36\": 1, \"84\": 1}, \"102\": {\"102\": 115, \"22\": 1, \"119\": 2, \"10\": 1, \"5\": 1}, \"31\": {\"31\": 10, \"105\": 1, \"114\": 1, \"14\": 1, \"9\": 1, \"35\": 1, \"40\": 1}, \"58\": {\"68\": 2, \"58\": 10}, \"47\": {\"83\": 2, \"85\": 1, \"19\": 1, \"47\": 4, \"25\": 2, \"49\": 2}, \"24\": {\"11\": 11, \"24\": 48, \"97\": 1, \"108\": 14, \"88\": 9, \"30\": 1, \"93\": 2, \"70\": 2, \"10\": 2, \"87\": 1, \"126\": 1}, \"19\": {\"19\": 24, \"92\": 1, \"38\": 1, \"103\": 1, \"83\": 1}, \"11\": {\"11\": 91, \"126\": 12, \"122\": 2, \"24\": 4, \"43\": 3, \"39\": 4, \"88\": 5, \"10\": 1, \"108\": 6, \"8\": 2, \"30\": 1, \"93\": 1}, \"52\": {\"52\": 19, \"32\": 1}, \"17\": {\"115\": 1, \"17\": 4, \"68\": 2, \"43\": 1, \"111\": 2, \"55\": 3, \"4\": 1, \"129\": 1, \"41\": 1}, \"25\": {\"83\": 1, \"25\": 6, \"28\": 1, \"120\": 1, \"128\": 2, \"66\": 2, \"45\": 1, \"114\": 1, \"34\": 1}, \"69\": {\"69\": 96, \"62\": 1, \"16\": 6, \"70\": 2, \"109\": 1, \"60\": 1, \"26\": 1}, \"96\": {\"69\": 1, \"96\": 7, \"91\": 1, \"65\": 1, \"76\": 1, \"121\": 1, \"40\": 1, \"126\": 1, \"109\": 1, \"110\": 1, \"117\": 1, \"16\": 1, \"122\": 1, \"7\": 1}, \"109\": {\"109\": 103, \"108\": 1, \"70\": 5, \"10\": 3, \"88\": 1, \"11\": 1}, \"115\": {\"115\": 11, \"48\": 1}, \"83\": {\"25\": 1, \"83\": 14, \"107\": 2, \"109\": 1, \"99\": 1, \"86\": 2, \"34\": 1, \"64\": 1, \"19\": 2, \"77\": 1, \"114\": 1, \"9\": 1}, \"84\": {\"84\": 103, \"0\": 1, \"7\": 14, \"105\": 1, \"62\": 2, \"106\": 1, \"88\": 1, \"35\": 2, \"10\": 1, \"71\": 2}, \"119\": {\"119\": 12, \"2\": 2, \"116\": 1, \"63\": 1}, \"122\": {\"122\": 59, \"11\": 2, \"8\": 5, \"126\": 3, \"43\": 3, \"70\": 2, \"15\": 3, \"84\": 1, \"109\": 1, \"93\": 2, \"27\": 3, \"87\": 1, \"21\": 2, \"94\": 1}, \"99\": {\"99\": 15, \"81\": 2, \"3\": 1, \"76\": 1, \"100\": 3, \"33\": 1, \"90\": 1}, \"1\": {\"1\": 128, \"97\": 1, \"101\": 1, \"70\": 1, \"105\": 1, \"81\": 2, \"10\": 1, \"14\": 1}, \"74\": {\"74\": 12, \"67\": 1, \"114\": 1, \"1\": 2}, \"85\": {\"85\": 22, \"53\": 2, \"32\": 1, \"47\": 2, \"98\": 3, \"83\": 1, \"56\": 1}, \"127\": {\"127\": 84, \"39\": 1, \"71\": 15, \"101\": 2, \"105\": 1, \"10\": 1, \"40\": 1, \"107\": 2, \"106\": 1}, \"111\": {\"111\": 112, \"68\": 1, \"17\": 1, \"5\": 2, \"86\": 1, \"124\": 2, \"24\": 1}, \"53\": {\"53\": 17, \"124\": 1, \"128\": 2}, \"88\": {\"88\": 101, \"24\": 10, \"108\": 5, \"126\": 3, \"27\": 1, \"10\": 3, \"11\": 1, \"93\": 6, \"43\": 1, \"8\": 1}, \"65\": {\"65\": 6, \"119\": 1, \"21\": 1, \"28\": 1, \"13\": 1, \"67\": 2}, \"7\": {\"7\": 123, \"0\": 1, \"62\": 3, \"84\": 6, \"36\": 1}, \"16\": {\"16\": 79, \"118\": 1, \"26\": 20, \"69\": 5, \"18\": 2, \"10\": 1}, \"128\": {\"53\": 2, \"38\": 2, \"37\": 1, \"128\": 13, \"49\": 1, \"76\": 1, \"107\": 2, \"90\": 1, \"89\": 1}, \"34\": {\"114\": 5, \"56\": 2, \"9\": 1, \"81\": 1, \"34\": 11, \"1\": 2, \"92\": 1, \"72\": 3, \"96\": 1, \"35\": 1, \"40\": 1, \"52\": 2, \"75\": 1}, \"129\": {\"129\": 15, \"124\": 1, \"80\": 1, \"42\": 1, \"45\": 1, \"2\": 5, \"111\": 2, \"86\": 2}, \"43\": {\"43\": 94, \"27\": 1, \"30\": 1, \"10\": 1, \"93\": 8, \"122\": 6, \"8\": 5, \"126\": 7, \"84\": 1, \"11\": 3, \"109\": 1}, \"92\": {\"92\": 28}, \"28\": {\"128\": 1, \"68\": 1, \"120\": 4, \"28\": 6, \"104\": 1, \"61\": 2, \"57\": 1, \"42\": 1, \"65\": 2, \"77\": 1}, \"27\": {\"27\": 69, \"30\": 6, \"36\": 1, \"97\": 3, \"94\": 3, \"8\": 3, \"24\": 2, \"93\": 4, \"87\": 1}, \"114\": {\"114\": 112, \"88\": 1, \"72\": 1, \"107\": 5, \"33\": 4, \"1\": 1}, \"73\": {\"73\": 16, \"83\": 1, \"51\": 1, \"34\": 1, \"9\": 1}, \"0\": {\"0\": 79, \"36\": 1, \"110\": 3, \"15\": 1}, \"104\": {\"28\": 1, \"129\": 1, \"104\": 10, \"61\": 2, \"54\": 2}, \"118\": {\"118\": 78, \"109\": 1, \"113\": 1, \"8\": 1, \"69\": 1, \"11\": 1, \"43\": 1}, \"41\": {\"41\": 14, \"55\": 1, \"86\": 1}, \"91\": {\"91\": 27, \"17\": 1}, \"124\": {\"124\": 108, \"46\": 2, \"111\": 5, \"112\": 1, \"4\": 1, \"5\": 4, \"86\": 1}, \"81\": {\"81\": 18, \"99\": 1, \"44\": 1, \"25\": 1, \"3\": 1, \"84\": 1, \"114\": 2, \"69\": 1, \"29\": 2}, \"63\": {\"129\": 1, \"63\": 13, \"61\": 1, \"13\": 1}, \"76\": {\"76\": 14, \"50\": 1, \"81\": 1}, \"10\": {\"10\": 104, \"111\": 1, \"88\": 3, \"108\": 4, \"70\": 4, \"122\": 2, \"24\": 1, \"109\": 1}, \"51\": {\"51\": 12, \"77\": 2, \"32\": 1, \"121\": 1}, \"82\": {\"82\": 33, \"90\": 1, \"64\": 1, \"73\": 1}, \"56\": {\"56\": 12}, \"30\": {\"30\": 40, \"27\": 2, \"43\": 2, \"93\": 2, \"8\": 1, \"88\": 2, \"23\": 2, \"15\": 1}, \"21\": {\"21\": 30, \"109\": 3, \"22\": 1, \"90\": 2, \"41\": 1, \"112\": 1, \"70\": 2}, \"46\": {\"46\": 9, \"19\": 1, \"6\": 1, \"124\": 1}, \"33\": {\"33\": 136, \"51\": 1, \"50\": 1}, \"101\": {\"101\": 102, \"71\": 7, \"107\": 1, \"12\": 4, \"11\": 1, \"127\": 5, \"44\": 1, \"40\": 2, \"98\": 1}, \"105\": {\"14\": 1, \"105\": 72, \"11\": 1, \"40\": 2, \"12\": 6, \"84\": 1, \"106\": 1}, \"50\": {\"50\": 9, \"28\": 1, \"82\": 1, \"73\": 1, \"78\": 1, \"83\": 1, \"33\": 2}, \"116\": {\"116\": 25, \"102\": 2, \"117\": 1, \"41\": 1, \"104\": 1, \"42\": 1, \"124\": 1}, \"77\": {\"77\": 12, \"83\": 2, \"68\": 2}, \"75\": {\"75\": 5, \"9\": 4, \"107\": 1, \"92\": 1, \"85\": 1, \"127\": 3, \"1\": 1}, \"95\": {\"95\": 36}, \"120\": {\"28\": 3, \"120\": 11, \"54\": 2, \"82\": 2, \"66\": 2}, \"18\": {\"18\": 100, \"60\": 2, \"113\": 1, \"118\": 1, \"26\": 2, \"62\": 1, \"16\": 1}, \"14\": {\"14\": 82, \"1\": 3, \"40\": 7, \"105\": 1, \"107\": 2, \"114\": 1}, \"44\": {\"44\": 72, \"14\": 2, \"50\": 1, \"20\": 1}, \"98\": {\"98\": 89, \"85\": 1, \"107\": 4, \"128\": 1, \"1\": 1}, \"121\": {\"121\": 32}, \"113\": {\"113\": 106, \"16\": 2}, \"103\": {\"53\": 1, \"98\": 1, \"85\": 1, \"103\": 8, \"56\": 1, \"38\": 1, \"92\": 1, \"89\": 2}, \"62\": {\"62\": 111, \"69\": 2, \"21\": 1, \"7\": 2, \"84\": 1, \"10\": 1, \"70\": 1, \"39\": 1}, \"32\": {\"32\": 26, \"51\": 1, \"85\": 1, \"89\": 2, \"53\": 2}, \"71\": {\"71\": 75, \"127\": 16, \"12\": 1, \"70\": 1, \"18\": 1, \"40\": 4, \"118\": 1, \"44\": 6, \"105\": 2, \"101\": 1}, \"94\": {\"94\": 74, \"0\": 1, \"15\": 4, \"27\": 3, \"36\": 5, \"10\": 2, \"110\": 1, \"8\": 1, \"11\": 1}, \"49\": {\"49\": 14, \"42\": 1, \"128\": 1, \"32\": 2, \"9\": 1, \"72\": 1}, \"12\": {\"12\": 91, \"101\": 7, \"71\": 1, \"109\": 1, \"106\": 2, \"21\": 1, \"70\": 1}, \"90\": {\"82\": 1, \"90\": 122, \"100\": 1}, \"93\": {\"93\": 108, \"27\": 2, \"30\": 2, \"8\": 6, \"126\": 1, \"97\": 1, \"43\": 1, \"122\": 1, \"11\": 1, \"15\": 1}, \"13\": {\"13\": 11, \"102\": 1, \"117\": 2, \"119\": 1, \"63\": 1}, \"67\": {\"111\": 1, \"67\": 9, \"2\": 1, \"90\": 1, \"82\": 1, \"54\": 2, \"95\": 1}, \"20\": {\"20\": 11, \"74\": 1, \"109\": 1, \"44\": 1, \"122\": 1, \"34\": 1}, \"2\": {\"104\": 1, \"2\": 20, \"67\": 1, \"45\": 1, \"25\": 2, \"116\": 1, \"129\": 2, \"22\": 1, \"63\": 1, \"49\": 1, \"117\": 1}, \"5\": {\"5\": 83, \"124\": 1, \"101\": 1, \"21\": 1, \"86\": 1, \"111\": 1}, \"54\": {\"54\": 8, \"89\": 1, \"41\": 2, \"104\": 1, \"19\": 2, \"122\": 1, \"29\": 1}, \"37\": {\"37\": 15, \"58\": 1}, \"38\": {\"38\": 11, \"28\": 1, \"9\": 1, \"19\": 1, \"82\": 2}, \"86\": {\"86\": 20, \"6\": 5, \"111\": 4, \"112\": 1, \"124\": 3, \"25\": 1, \"109\": 1, \"11\": 1}, \"55\": {\"55\": 12}, \"97\": {\"97\": 12, \"92\": 1, \"27\": 3, \"15\": 1, \"42\": 1, \"30\": 1, \"87\": 1}, \"29\": {\"29\": 28}, \"48\": {\"63\": 1, \"48\": 10, \"79\": 1}, \"60\": {\"60\": 11, \"84\": 1, \"76\": 1, \"0\": 1, \"26\": 2}, \"36\": {\"36\": 98, \"15\": 10, \"110\": 4, \"0\": 2, \"88\": 1, \"94\": 2, \"43\": 3, \"108\": 1, \"8\": 1}, \"42\": {\"73\": 1, \"67\": 1, \"120\": 2, \"77\": 2, \"98\": 1, \"42\": 11, \"117\": 2, \"107\": 1, \"47\": 1, \"28\": 1, \"54\": 1, \"19\": 2, \"21\": 1, \"116\": 1}, \"66\": {\"2\": 2, \"42\": 1, \"90\": 2, \"66\": 8, \"45\": 1, \"120\": 2}, \"126\": {\"126\": 96, \"122\": 3, \"11\": 9, \"93\": 4, \"43\": 7, \"24\": 1, \"88\": 3, \"109\": 1, \"108\": 2, \"36\": 1, \"8\": 1}, \"39\": {\"39\": 99, \"11\": 2, \"126\": 2, \"70\": 1}, \"107\": {\"107\": 107, \"49\": 1, \"89\": 3, \"70\": 1, \"114\": 4, \"72\": 1, \"75\": 1, \"118\": 2, \"1\": 2, \"98\": 1, \"14\": 1}, \"59\": {\"59\": 10, \"95\": 1, \"66\": 1}, \"117\": {\"117\": 137, \"116\": 1}, \"6\": {\"6\": 26, \"111\": 6}, \"123\": {\"123\": 15, \"116\": 1}, \"8\": {\"8\": 60, \"27\": 5, \"109\": 1, \"94\": 3, \"30\": 4, \"93\": 17, \"87\": 5, \"108\": 1, \"43\": 11, \"15\": 6, \"88\": 1, \"11\": 2, \"122\": 4, \"126\": 2, \"24\": 1, \"36\": 1}, \"112\": {\"112\": 9, \"111\": 1, \"83\": 1, \"109\": 1, \"55\": 2, \"68\": 1, \"91\": 1}, \"80\": {\"80\": 14, \"82\": 1, \"37\": 1}, \"125\": {\"125\": 136}, \"61\": {\"64\": 3, \"67\": 1, \"61\": 8}, \"45\": {\"43\": 1, \"64\": 3, \"45\": 5, \"129\": 1, \"86\": 2}, \"72\": {\"105\": 1, \"72\": 15, \"71\": 1, \"101\": 2, \"34\": 1, \"114\": 1, \"107\": 4, \"40\": 1, \"14\": 1, \"51\": 1, \"9\": 2, \"76\": 2}, \"87\": {\"87\": 88, \"122\": 6, \"8\": 9, \"43\": 2, \"110\": 1, \"11\": 1, \"93\": 1}, \"106\": {\"106\": 121, \"12\": 2, \"108\": 1}, \"35\": {\"35\": 6, \"29\": 1, \"105\": 2, \"6\": 1, \"93\": 1, \"101\": 1}, \"78\": {\"122\": 1, \"78\": 7, \"109\": 2, \"24\": 2, \"10\": 2, \"39\": 1, \"21\": 1}, \"15\": {\"15\": 73, \"110\": 7, \"36\": 10, \"0\": 6, \"109\": 2, \"94\": 2, \"127\": 1, \"40\": 1, \"8\": 1, \"21\": 1}, \"100\": {\"100\": 10, \"44\": 2, \"76\": 1, \"38\": 2, \"82\": 1}}, \"Wisig_2\": {\"91\": {\"91\": 25, \"25\": 2, \"109\": 1}, \"12\": {\"97\": 6, \"12\": 64, \"7\": 5, \"87\": 1, \"78\": 3, \"106\": 6, \"126\": 1, \"94\": 1, \"3\": 1}, \"101\": {\"101\": 140, \"106\": 6, \"32\": 1, \"109\": 1}, \"121\": {\"121\": 31, \"81\": 1, \"109\": 1, \"90\": 2, \"89\": 1}, \"118\": {\"118\": 57, \"11\": 3, \"88\": 1, \"108\": 2, \"94\": 2, \"87\": 2, \"43\": 1}, \"10\": {\"10\": 51, \"126\": 1, \"70\": 4, \"88\": 2, \"24\": 2}, \"117\": {\"117\": 111, \"116\": 2, \"90\": 3, \"65\": 1, \"108\": 1, \"46\": 1, \"120\": 1}, \"110\": {\"110\": 27, \"60\": 2, \"120\": 1, \"36\": 2, \"109\": 1, \"70\": 1, \"90\": 1, \"94\": 1, \"10\": 1, \"7\": 3}, \"97\": {\"97\": 15, \"106\": 2, \"15\": 2, \"0\": 1}, \"28\": {\"28\": 14, \"123\": 1, \"82\": 2, \"50\": 1, \"55\": 1, \"66\": 1}, \"88\": {\"88\": 98, \"39\": 1, \"78\": 4, \"70\": 5, \"109\": 14, \"24\": 2}, \"17\": {\"17\": 3, \"86\": 1, \"129\": 2, \"79\": 1, \"41\": 2, \"111\": 2, \"59\": 2, \"6\": 1, \"104\": 1, \"4\": 1}, \"126\": {\"10\": 3, \"126\": 96, \"70\": 5, \"110\": 1, \"90\": 1, \"87\": 2, \"39\": 3, \"57\": 1, \"24\": 1, \"43\": 1}, \"33\": {\"33\": 124, \"43\": 1, \"40\": 1, \"70\": 1, \"88\": 1}, \"86\": {\"86\": 30, \"111\": 1, \"124\": 1}, \"106\": {\"106\": 105, \"30\": 1, \"12\": 2, \"126\": 1, \"101\": 3, \"127\": 1, \"3\": 1, \"88\": 1, \"78\": 1, \"21\": 1, \"7\": 1, \"70\": 2}, \"54\": {\"54\": 12, \"56\": 2, \"51\": 1, \"5\": 1, \"9\": 2, \"85\": 1, \"34\": 1}, \"125\": {\"125\": 131, \"117\": 1}, \"83\": {\"83\": 36, \"20\": 1, \"44\": 1, \"61\": 1, \"109\": 1}, \"98\": {\"98\": 110, \"53\": 1, \"34\": 1, \"9\": 1, \"44\": 2, \"127\": 1, \"1\": 1, \"50\": 1, \"18\": 1, \"114\": 1}, \"11\": {\"11\": 54, \"122\": 7, \"27\": 2, \"0\": 2, \"43\": 2, \"10\": 1, \"30\": 4, \"70\": 1, \"108\": 2, \"36\": 1, \"8\": 2, \"39\": 1, \"88\": 1}, \"32\": {\"32\": 27, \"114\": 4, \"49\": 1, \"107\": 3, \"71\": 1}, \"42\": {\"42\": 13, \"125\": 2, \"86\": 1, \"5\": 3, \"37\": 1, \"52\": 1, \"48\": 1, \"25\": 1, \"123\": 1, \"6\": 2, \"28\": 2}, \"103\": {\"103\": 4, \"42\": 1, \"77\": 2, \"29\": 2, \"41\": 2, \"25\": 1, \"85\": 3, \"58\": 1}, \"87\": {\"118\": 2, \"87\": 88, \"11\": 1, \"39\": 2, \"109\": 3, \"126\": 4, \"88\": 2, \"24\": 1, \"8\": 1, \"108\": 1, \"110\": 1, \"43\": 5, \"27\": 1}, \"61\": {\"97\": 1, \"106\": 1, \"24\": 1, \"53\": 2, \"61\": 9, \"128\": 1, \"39\": 1, \"21\": 1, \"38\": 1, \"83\": 2}, \"13\": {\"13\": 8, \"78\": 1, \"80\": 2, \"116\": 2, \"65\": 1, \"129\": 1, \"108\": 1}, \"4\": {\"4\": 80, \"79\": 1, \"39\": 2, \"109\": 1, \"125\": 2}, \"15\": {\"15\": 94, \"88\": 1, \"94\": 3, \"122\": 5, \"8\": 3, \"39\": 2, \"12\": 3, \"105\": 2, \"36\": 1, \"0\": 4, \"7\": 1, \"70\": 1}, \"120\": {\"102\": 1, \"120\": 19}, \"80\": {\"80\": 15, \"59\": 1}, \"72\": {\"72\": 22, \"62\": 1, \"3\": 1, \"44\": 2, \"60\": 1, \"33\": 1}, \"64\": {\"64\": 7, \"76\": 2, \"19\": 1, \"0\": 1, \"55\": 1, \"128\": 1, \"92\": 1, \"85\": 1, \"98\": 1}, \"81\": {\"81\": 15, \"60\": 1, \"99\": 1, \"121\": 1, \"90\": 2, \"18\": 1, \"33\": 1, \"26\": 1, \"44\": 1}, \"102\": {\"102\": 109, \"119\": 1, \"42\": 1, \"5\": 1}, \"76\": {\"89\": 1, \"76\": 6, \"3\": 1, \"71\": 3, \"44\": 1, \"64\": 2, \"123\": 1, \"92\": 1}, \"49\": {\"53\": 2, \"35\": 1, \"114\": 1, \"32\": 1, \"49\": 10, \"66\": 1, \"33\": 1, \"86\": 1, \"51\": 1, \"85\": 1, \"16\": 1, \"128\": 1, \"29\": 1, \"107\": 1}, \"129\": {\"129\": 24, \"123\": 2, \"42\": 3, \"5\": 1, \"104\": 2}, \"89\": {\"89\": 26, \"82\": 2, \"119\": 1, \"38\": 1, \"126\": 1, \"92\": 2, \"51\": 1, \"67\": 2}, \"52\": {\"52\": 16, \"50\": 1, \"129\": 1, \"91\": 1, \"28\": 1}, \"35\": {\"35\": 10, \"101\": 1, \"127\": 1}, \"53\": {\"53\": 15, \"61\": 1}, \"26\": {\"26\": 108, \"93\": 10, \"69\": 4, \"16\": 1, \"18\": 1, \"87\": 1, \"8\": 1, \"24\": 1, \"78\": 1}, \"96\": {\"69\": 1, \"26\": 4, \"96\": 10, \"60\": 4, \"23\": 1}, \"27\": {\"27\": 38, \"24\": 5, \"21\": 3, \"94\": 1, \"109\": 3, \"122\": 4, \"108\": 5, \"88\": 4, \"70\": 1, \"39\": 1, \"0\": 1, \"10\": 1, \"8\": 1}, \"24\": {\"24\": 88, \"88\": 4, \"126\": 1, \"78\": 3, \"10\": 4, \"70\": 6, \"39\": 3, \"109\": 2, \"43\": 1}, \"82\": {\"82\": 24, \"108\": 1, \"73\": 1, \"39\": 1, \"90\": 2, \"46\": 1, \"89\": 2, \"92\": 1, \"21\": 1, \"81\": 1, \"10\": 1}, \"18\": {\"18\": 112, \"109\": 1, \"26\": 4, \"78\": 1, \"93\": 1, \"126\": 1, \"39\": 1, \"24\": 1, \"23\": 1, \"72\": 1, \"69\": 4}, \"69\": {\"26\": 1, \"18\": 2, \"69\": 102, \"3\": 1, \"70\": 2, \"84\": 3, \"1\": 7, \"88\": 2, \"93\": 1, \"33\": 1}, \"47\": {\"55\": 2, \"127\": 1, \"47\": 4, \"123\": 1, \"33\": 1, \"34\": 1, \"129\": 1, \"38\": 1}, \"85\": {\"67\": 2, \"29\": 1, \"112\": 1, \"85\": 21, \"49\": 1, \"104\": 1, \"68\": 1, \"91\": 1, \"129\": 1, \"66\": 1, \"75\": 1}, \"2\": {\"2\": 21, \"102\": 1, \"90\": 2, \"119\": 5, \"22\": 1, \"117\": 2}, \"67\": {\"129\": 1, \"67\": 9, \"119\": 2, \"73\": 1, \"85\": 1, \"89\": 1, \"24\": 1}, \"39\": {\"70\": 7, \"39\": 84, \"78\": 4, \"109\": 9, \"88\": 3, \"24\": 3, \"43\": 1, \"90\": 1}, \"99\": {\"99\": 29, \"20\": 1, \"18\": 1, \"121\": 1}, \"74\": {\"74\": 11, \"64\": 2, \"24\": 1, \"91\": 1, \"10\": 1}, \"105\": {\"105\": 113, \"0\": 6, \"7\": 6, \"109\": 3, \"88\": 1, \"15\": 2, \"106\": 1}, \"70\": {\"70\": 72, \"24\": 17, \"78\": 4, \"126\": 7, \"88\": 11, \"10\": 2, \"43\": 2, \"109\": 4, \"39\": 2, \"90\": 1}, \"55\": {\"55\": 6, \"85\": 1, \"92\": 3, \"128\": 2, \"56\": 2, \"107\": 1, \"28\": 1}, \"30\": {\"30\": 71, \"36\": 15, \"8\": 10, \"94\": 2, \"27\": 2, \"118\": 2, \"108\": 2, \"122\": 2, \"109\": 1, \"9\": 1, \"88\": 1, \"0\": 1, \"126\": 2}, \"60\": {\"60\": 17, \"72\": 1, \"108\": 1, \"21\": 1, \"84\": 1, \"105\": 3, \"14\": 2, \"3\": 1, \"69\": 1}, \"92\": {\"92\": 12, \"7\": 1, \"128\": 1, \"44\": 1, \"76\": 3, \"25\": 1, \"112\": 1, \"87\": 1, \"64\": 1, \"89\": 1, \"127\": 1, \"19\": 2, \"46\": 1, \"1\": 1}, \"45\": {\"92\": 1, \"73\": 1, \"45\": 11, \"46\": 1, \"64\": 1, \"109\": 1}, \"127\": {\"127\": 100, \"101\": 3, \"40\": 6, \"89\": 1, \"62\": 2}, \"9\": {\"108\": 1, \"9\": 29, \"77\": 1, \"39\": 1}, \"115\": {\"115\": 12}, \"73\": {\"73\": 20, \"50\": 1, \"85\": 1, \"44\": 1, \"19\": 2, \"92\": 1, \"112\": 1, \"54\": 1}, \"108\": {\"108\": 119, \"11\": 2, \"27\": 3, \"122\": 2, \"43\": 5, \"8\": 3, \"10\": 1, \"94\": 2, \"30\": 1}, \"114\": {\"114\": 99, \"32\": 2, \"49\": 1, \"107\": 6, \"88\": 1, \"1\": 2, \"34\": 1, \"70\": 1, \"101\": 2, \"39\": 1}, \"63\": {\"63\": 14, \"104\": 1, \"102\": 1, \"116\": 2, \"76\": 1, \"103\": 1}, \"93\": {\"93\": 109, \"26\": 3, \"105\": 3, \"84\": 1, \"16\": 5, \"43\": 1, \"7\": 2, \"23\": 1, \"118\": 1, \"69\": 1, \"122\": 1}, \"7\": {\"7\": 126, \"0\": 1, \"12\": 3, \"105\": 2}, \"31\": {\"31\": 13, \"64\": 1, \"78\": 1, \"1\": 2, \"67\": 1, \"44\": 2}, \"123\": {\"123\": 10, \"73\": 2, \"22\": 1, \"45\": 2, \"46\": 1}, \"128\": {\"47\": 2, \"56\": 2, \"128\": 7, \"107\": 4, \"58\": 1, \"9\": 2, \"76\": 2, \"61\": 1, \"54\": 1, \"49\": 1, \"44\": 1}, \"0\": {\"97\": 4, \"0\": 81, \"24\": 1, \"105\": 6, \"98\": 1, \"39\": 3, \"94\": 1, \"106\": 4, \"12\": 1, \"11\": 1, \"15\": 8, \"83\": 1, \"36\": 2, \"7\": 1, \"70\": 1}, \"3\": {\"7\": 2, \"3\": 126, \"14\": 1, \"18\": 1, \"40\": 2, \"1\": 3, \"127\": 1}, \"19\": {\"74\": 1, \"19\": 15, \"55\": 2, \"56\": 1, \"83\": 1, \"103\": 2, \"66\": 2, \"112\": 2, \"50\": 2}, \"57\": {\"57\": 15, \"83\": 2, \"2\": 1, \"24\": 1, \"90\": 1}, \"78\": {\"78\": 37, \"39\": 1, \"88\": 4, \"70\": 4, \"24\": 2}, \"95\": {\"95\": 18, \"40\": 2, \"3\": 1, \"71\": 2, \"114\": 3, \"32\": 4, \"88\": 1, \"127\": 4, \"107\": 1}, \"40\": {\"40\": 81, \"107\": 2, \"12\": 4, \"95\": 4, \"114\": 2, \"127\": 12, \"71\": 10, \"3\": 6, \"101\": 5, \"39\": 2, \"109\": 1, \"7\": 3, \"62\": 1, \"27\": 1, \"105\": 2, \"88\": 1, \"70\": 2, \"126\": 1}, \"14\": {\"78\": 2, \"40\": 4, \"14\": 23, \"16\": 1, \"3\": 4, \"95\": 2, \"70\": 3, \"71\": 3, \"107\": 2, \"108\": 1, \"88\": 1, \"1\": 2}, \"36\": {\"36\": 99, \"122\": 4, \"8\": 3, \"94\": 1, \"21\": 1, \"30\": 10, \"88\": 2, \"70\": 1, \"15\": 1, \"24\": 1, \"27\": 3, \"10\": 1, \"109\": 1}, \"56\": {\"56\": 11, \"17\": 1}, \"111\": {\"111\": 123, \"124\": 4, \"24\": 1}, \"59\": {\"59\": 12, \"126\": 1, \"111\": 2, \"78\": 1}, \"79\": {\"79\": 14, \"98\": 1, \"77\": 1}, \"62\": {\"62\": 103, \"105\": 2, \"110\": 1, \"84\": 1, \"0\": 2, \"16\": 4, \"7\": 3, \"93\": 2, \"24\": 1, \"1\": 3}, \"21\": {\"21\": 48}, \"48\": {\"48\": 17, \"116\": 2, \"102\": 1}, \"16\": {\"72\": 1, \"16\": 99, \"118\": 2, \"43\": 1, \"88\": 2, \"105\": 2, \"11\": 1, \"69\": 5, \"26\": 2, \"70\": 1, \"62\": 4, \"93\": 3, \"39\": 1}, \"50\": {\"50\": 10, \"61\": 1, \"129\": 1, \"42\": 1, \"55\": 2, \"98\": 1}, \"44\": {\"44\": 88, \"33\": 2, \"117\": 1, \"31\": 1, \"89\": 2, \"18\": 1, \"114\": 1}, \"5\": {\"5\": 98, \"111\": 7, \"124\": 1, \"43\": 1, \"91\": 1, \"102\": 1, \"109\": 1}, \"20\": {\"20\": 14, \"89\": 1, \"43\": 1}, \"1\": {\"1\": 92, \"16\": 1, \"33\": 4, \"14\": 2, \"40\": 2, \"3\": 10, \"71\": 3, \"69\": 1, \"114\": 1, \"84\": 1, \"127\": 1, \"18\": 1, \"108\": 1}, \"65\": {\"65\": 17, \"117\": 1, \"27\": 1, \"87\": 1}, \"116\": {\"116\": 27, \"119\": 1}, \"51\": {\"51\": 13, \"106\": 1, \"32\": 1, \"54\": 1, \"128\": 1, \"40\": 1, \"9\": 1, \"36\": 1}, \"75\": {\"9\": 2, \"75\": 13, \"88\": 1}, \"100\": {\"100\": 11, \"71\": 1, \"1\": 1, \"3\": 1, \"83\": 1, \"33\": 1}, \"113\": {\"113\": 69, \"109\": 1, \"23\": 2}, \"41\": {\"29\": 2, \"41\": 13, \"77\": 1, \"37\": 2, \"86\": 2}, \"29\": {\"29\": 25, \"68\": 2, \"103\": 1, \"17\": 1, \"98\": 2, \"77\": 1}, \"23\": {\"7\": 1, \"23\": 8, \"20\": 2, \"94\": 2, \"0\": 5, \"81\": 1, \"122\": 4, \"27\": 1, \"14\": 2, \"105\": 3, \"15\": 3, \"18\": 3, \"16\": 1, \"26\": 2, \"93\": 1, \"99\": 1, \"110\": 2, \"30\": 1, \"8\": 1}, \"124\": {\"124\": 107, \"111\": 8, \"5\": 7, \"21\": 1, \"44\": 1}, \"68\": {\"68\": 9, \"29\": 1, \"50\": 2, \"103\": 1, \"24\": 1, \"28\": 2}, \"71\": {\"71\": 85, \"88\": 1, \"35\": 1, \"7\": 2, \"12\": 1, \"3\": 6, \"40\": 2, \"127\": 2}, \"107\": {\"107\": 37, \"117\": 1, \"32\": 2, \"114\": 7, \"39\": 1, \"109\": 1, \"1\": 2, \"42\": 1, \"34\": 3, \"43\": 1, \"88\": 1, \"55\": 1, \"8\": 1, \"128\": 2, \"63\": 1, \"26\": 1, \"91\": 1}, \"94\": {\"94\": 38, \"0\": 4, \"109\": 1, \"8\": 1, \"36\": 5, \"122\": 3, \"15\": 3, \"105\": 1, \"118\": 1, \"12\": 2, \"70\": 1, \"110\": 1, \"88\": 2, \"11\": 1}, \"77\": {\"77\": 10, \"66\": 2, \"39\": 1, \"25\": 2, \"98\": 1}, \"8\": {\"122\": 15, \"8\": 69, \"30\": 14, \"36\": 11, \"94\": 1, \"11\": 3, \"105\": 2, \"108\": 5, \"12\": 1, \"0\": 1}, \"46\": {\"46\": 9, \"82\": 2, \"123\": 3, \"89\": 1, \"80\": 1}, \"25\": {\"25\": 12, \"91\": 1, \"103\": 2, \"42\": 1}, \"122\": {\"8\": 12, \"36\": 6, \"122\": 83, \"11\": 13, \"94\": 4, \"27\": 1, \"88\": 1, \"23\": 3, \"15\": 7, \"109\": 1, \"81\": 1, \"43\": 3, \"118\": 1, \"0\": 1, \"30\": 3}, \"58\": {\"50\": 2, \"66\": 1, \"129\": 1, \"58\": 7, \"39\": 1, \"98\": 1, \"87\": 1, \"103\": 1, \"24\": 1, \"128\": 1, \"54\": 1, \"111\": 1, \"9\": 1}, \"6\": {\"6\": 30, \"86\": 1, \"29\": 1}, \"109\": {\"88\": 10, \"109\": 67, \"70\": 8, \"24\": 4, \"39\": 9, \"78\": 1, \"87\": 1}, \"119\": {\"2\": 4, \"119\": 14, \"90\": 1, \"111\": 1}, \"34\": {\"34\": 20, \"98\": 1, \"1\": 1, \"88\": 1, \"9\": 1, \"124\": 1, \"47\": 1, \"87\": 1, \"54\": 2, \"75\": 1, \"114\": 2}, \"90\": {\"90\": 138, \"44\": 1, \"82\": 1}, \"38\": {\"38\": 16}, \"104\": {\"104\": 11, \"86\": 2, \"29\": 1, \"85\": 2, \"8\": 1, \"129\": 1, \"6\": 1, \"5\": 1}, \"84\": {\"84\": 81, \"108\": 1, \"26\": 1, \"62\": 2, \"16\": 1, \"126\": 1, \"7\": 1, \"3\": 2, \"1\": 2}, \"112\": {\"112\": 7, \"28\": 1, \"98\": 2, \"29\": 1, \"46\": 1, \"66\": 1, \"73\": 2, \"107\": 1}, \"66\": {\"28\": 4, \"129\": 1, \"66\": 7, \"39\": 1, \"116\": 1, \"54\": 1, \"38\": 1, \"87\": 1, \"86\": 1, \"85\": 1, \"5\": 1}, \"22\": {\"5\": 2, \"22\": 12, \"123\": 2, \"66\": 1, \"37\": 1, \"116\": 1, \"46\": 1}, \"37\": {\"37\": 13, \"5\": 1, \"91\": 1, \"41\": 1}, \"43\": {\"126\": 2, \"43\": 94, \"108\": 12, \"71\": 1, \"39\": 2, \"94\": 2, \"11\": 3, \"87\": 1, \"109\": 1, \"118\": 2, \"88\": 3, \"70\": 1}}}, \"per_domain_accuracy\": {\"ORACLE.run114\": {\"accuracy\": 0.7880208333333333, \"source?\": true}, \"ORACLE.run120\": {\"accuracy\": 0.9364583333333333, \"source?\": true}, \"ORACLE.run138\": {\"accuracy\": 0.5580729166666667, \"source?\": true}, \"ORACLE.run18\": {\"accuracy\": 0.7528645833333333, \"source?\": true}, \"ORACLE.run150\": {\"accuracy\": 0.4942708333333333, \"source?\": true}, \"ORACLE.run132\": {\"accuracy\": 0.528125, \"source?\": true}, \"ORACLE.run126\": {\"accuracy\": 0.3580729166666667, \"source?\": true}, \"ORACLE.run144\": {\"accuracy\": 0.47604166666666664, \"source?\": true}, \"Wisig_3\": {\"accuracy\": 0.8201754385964912, \"source?\": false}, \"Wisig_4\": {\"accuracy\": 0.7718621399176955, \"source?\": false}, \"Wisig_1\": {\"accuracy\": 0.8109042553191489, \"source?\": false}, \"Wisig_2\": {\"accuracy\": 0.7836134453781513, \"source?\": false}}}, \"history\": {\"epoch_indices\": [1, 2, 3, 4, 5], \"train_label_loss\": [0.4055890071377646, 1.0907082903577248, 0.24964452791145525, 0.20081828164762727, 0.18029057048697722], \"source_val_label_loss\": [108.58313751220703, 0.27146679162979126, 0.23378600180149078, 0.21917445957660675, 0.1901930868625641], \"target_val_label_loss\": [7299.5087890625, 3459.4775390625, 3181.191650390625, 3351.426025390625, 3867.222412109375], \"source_val_acc_label\": [0.6114908854166666, 0.9060872395833334, 0.91552734375, 0.9223307291666667, 0.93232421875], \"target_val_acc_label\": [0.7962129237288136, 0.7525158898305084, 0.783004502118644, 0.773338188559322, 0.7343087923728814]}, \"dataset_metrics\": {\"source\": {\"train\": {\"n_unique_x\": 179200, \"n_unique_y\": 16, \"n_batch/episode\": 6720}, \"val\": {\"n_unique_x\": 38400, \"n_unique_y\": 16, \"n_batch/episode\": 960}, \"test\": {\"n_unique_x\": 38400, \"n_unique_y\": 16, \"n_batch/episode\": 960}}, \"target\": {\"train\": {\"n_unique_x\": 188967, \"n_unique_y\": 130, \"n_batch/episode\": 6837}, \"val\": {\"n_unique_x\": 40068, \"n_unique_y\": 130, \"n_batch/episode\": 944}, \"test\": {\"n_unique_x\": 40816, \"n_unique_y\": 130, \"n_batch/episode\": 969}}}}'"
      ]
     },
     "execution_count": 29,
     "metadata": {},
     "output_type": "execute_result"
    }
   ],
   "source": [
    "json.dumps(experiment)"
   ]
  }
 ],
 "metadata": {
  "celltoolbar": "Tags",
  "kernelspec": {
   "display_name": "Python 3 (ipykernel)",
   "language": "python",
   "name": "python3"
  },
  "language_info": {
   "codemirror_mode": {
    "name": "ipython",
    "version": 3
   },
   "file_extension": ".py",
   "mimetype": "text/x-python",
   "name": "python",
   "nbconvert_exporter": "python",
   "pygments_lexer": "ipython3",
   "version": "3.8.12"
  },
  "papermill": {
   "default_parameters": {},
   "duration": 1511.208577,
   "end_time": "2022-03-21T07:34:52.696517",
   "environment_variables": {},
   "exception": null,
   "input_path": "/root/csc500-main/csc500-notebooks/templates/tl_ptn_template.ipynb",
   "output_path": "trial.ipynb",
   "parameters": {
    "parameters": {
     "BEST_MODEL_PATH": "./best_model.pth",
     "NUM_LOGS_PER_EPOCH": 10,
     "criteria_for_best": "target_accuracy",
     "dataset_seed": 1337,
     "datasets": [
      {
       "domain_prefix": "Wisig_",
       "domains": [
        1,
        2,
        3,
        4
       ],
       "episode_transforms": [],
       "labels": [
        "1-10",
        "1-12",
        "1-14",
        "1-16",
        "1-18",
        "1-19",
        "1-8",
        "10-11",
        "10-17",
        "10-4",
        "10-7",
        "11-1",
        "11-10",
        "11-19",
        "11-20",
        "11-4",
        "11-7",
        "12-19",
        "12-20",
        "12-7",
        "13-14",
        "13-18",
        "13-19",
        "13-20",
        "13-3",
        "13-7",
        "14-10",
        "14-11",
        "14-12",
        "14-13",
        "14-14",
        "14-19",
        "14-20",
        "14-7",
        "14-8",
        "14-9",
        "15-1",
        "15-19",
        "15-6",
        "16-1",
        "16-16",
        "16-19",
        "16-20",
        "17-10",
        "17-11",
        "18-1",
        "18-10",
        "18-11",
        "18-12",
        "18-13",
        "18-14",
        "18-15",
        "18-16",
        "18-17",
        "18-19",
        "18-2",
        "18-20",
        "18-4",
        "18-5",
        "18-7",
        "18-8",
        "18-9",
        "19-1",
        "19-10",
        "19-11",
        "19-12",
        "19-13",
        "19-14",
        "19-15",
        "19-19",
        "19-2",
        "19-20",
        "19-3",
        "19-4",
        "19-6",
        "19-7",
        "19-8",
        "19-9",
        "2-1",
        "2-13",
        "2-15",
        "2-3",
        "2-4",
        "2-5",
        "2-6",
        "2-7",
        "2-8",
        "20-1",
        "20-12",
        "20-14",
        "20-15",
        "20-16",
        "20-18",
        "20-19",
        "20-20",
        "20-3",
        "20-4",
        "20-5",
        "20-7",
        "20-8",
        "3-1",
        "3-13",
        "3-18",
        "3-2",
        "3-8",
        "4-1",
        "4-10",
        "4-11",
        "5-1",
        "5-5",
        "6-1",
        "6-15",
        "6-6",
        "7-10",
        "7-11",
        "7-12",
        "7-13",
        "7-14",
        "7-7",
        "7-8",
        "7-9",
        "8-1",
        "8-13",
        "8-14",
        "8-18",
        "8-20",
        "8-3",
        "8-8",
        "9-1",
        "9-7"
       ],
       "num_examples_per_domain_per_label": -1,
       "pickle_path": "/root/csc500-main/datasets/wisig.node3-19.stratified_ds.2022A.pkl",
       "source_or_target_dataset": "target",
       "x_transforms": []
      },
      {
       "domain_prefix": "ORACLE.run1",
       "domains": [
        32,
        38,
        8,
        44,
        14,
        50,
        20,
        26
       ],
       "episode_transforms": [],
       "labels": [
        "3123D52",
        "3123D65",
        "3123D79",
        "3123D80",
        "3123D54",
        "3123D70",
        "3123D7B",
        "3123D89",
        "3123D58",
        "3123D76",
        "3123D7D",
        "3123EFE",
        "3123D64",
        "3123D78",
        "3123D7E",
        "3124E4A"
       ],
       "num_examples_per_domain_per_label": 2000,
       "pickle_path": "/root/csc500-main/datasets/oracle.Run1_framed_2000Examples_stratified_ds.2022A.pkl",
       "source_or_target_dataset": "source",
       "x_transforms": []
      }
     ],
     "device": "cuda",
     "experiment_name": "tl_1v2:wisig-oracle.run1.framed",
     "lr": 0.0001,
     "n_epoch": 50,
     "n_query": 2,
     "n_shot": 3,
     "n_way": 16,
     "patience": 3,
     "seed": 1337,
     "test_k_factor": 2,
     "torch_default_dtype": "torch.float32",
     "train_k_factor": 3,
     "val_k_factor": 2,
     "x_net": [
      {
       "class": "nnReshape",
       "kargs": {
        "shape": [
         -1,
         1,
         2,
         256
        ]
       }
      },
      {
       "class": "Conv2d",
       "kargs": {
        "bias": false,
        "in_channels": 1,
        "kernel_size": [
         1,
         7
        ],
        "out_channels": 256,
        "padding": [
         0,
         3
        ]
       }
      },
      {
       "class": "ReLU",
       "kargs": {
        "inplace": true
       }
      },
      {
       "class": "BatchNorm2d",
       "kargs": {
        "num_features": 256
       }
      },
      {
       "class": "Conv2d",
       "kargs": {
        "bias": true,
        "in_channels": 256,
        "kernel_size": [
         2,
         7
        ],
        "out_channels": 80,
        "padding": [
         0,
         3
        ]
       }
      },
      {
       "class": "ReLU",
       "kargs": {
        "inplace": true
       }
      },
      {
       "class": "BatchNorm2d",
       "kargs": {
        "num_features": 80
       }
      },
      {
       "class": "Flatten",
       "kargs": {}
      },
      {
       "class": "Linear",
       "kargs": {
        "in_features": 20480,
        "out_features": 256
       }
      },
      {
       "class": "ReLU",
       "kargs": {
        "inplace": true
       }
      },
      {
       "class": "BatchNorm1d",
       "kargs": {
        "num_features": 256
       }
      },
      {
       "class": "Linear",
       "kargs": {
        "in_features": 256,
        "out_features": 256
       }
      }
     ]
    }
   },
   "start_time": "2022-03-21T07:09:41.487940",
   "version": "2.3.4"
  }
 },
 "nbformat": 4,
 "nbformat_minor": 5
}