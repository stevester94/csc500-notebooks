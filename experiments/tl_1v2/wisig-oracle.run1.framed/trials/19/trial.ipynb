{
 "cells": [
  {
   "cell_type": "markdown",
   "id": "9fea5f46",
   "metadata": {
    "papermill": {
     "duration": 0.028346,
     "end_time": "2022-03-21T14:14:05.792026",
     "exception": false,
     "start_time": "2022-03-21T14:14:05.763680",
     "status": "completed"
    },
    "tags": []
   },
   "source": [
    "# Transfer Learning Template"
   ]
  },
  {
   "cell_type": "code",
   "execution_count": 1,
   "id": "0902182a",
   "metadata": {
    "execution": {
     "iopub.execute_input": "2022-03-21T14:14:05.858836Z",
     "iopub.status.busy": "2022-03-21T14:14:05.857967Z",
     "iopub.status.idle": "2022-03-21T14:14:07.722282Z",
     "shell.execute_reply": "2022-03-21T14:14:07.721384Z"
    },
    "papermill": {
     "duration": 1.904324,
     "end_time": "2022-03-21T14:14:07.722488",
     "exception": false,
     "start_time": "2022-03-21T14:14:05.818164",
     "status": "completed"
    },
    "tags": []
   },
   "outputs": [],
   "source": [
    "%load_ext autoreload\n",
    "%autoreload 2\n",
    "%matplotlib inline\n",
    "\n",
    "    \n",
    "import os, json, sys, time, random\n",
    "import numpy as np\n",
    "import torch\n",
    "from torch.optim import Adam\n",
    "from  easydict import EasyDict\n",
    "import matplotlib.pyplot as plt\n",
    "\n",
    "from steves_models.steves_ptn import Steves_Prototypical_Network\n",
    "\n",
    "from steves_utils.lazy_iterable_wrapper import Lazy_Iterable_Wrapper\n",
    "from steves_utils.iterable_aggregator import Iterable_Aggregator\n",
    "from steves_utils.ptn_train_eval_test_jig import  PTN_Train_Eval_Test_Jig\n",
    "from steves_utils.torch_sequential_builder import build_sequential\n",
    "from steves_utils.torch_utils import get_dataset_metrics, ptn_confusion_by_domain_over_dataloader\n",
    "from steves_utils.utils_v2 import (per_domain_accuracy_from_confusion, get_datasets_base_path)\n",
    "from steves_utils.PTN.utils import independent_accuracy_assesment\n",
    "\n",
    "from torch.utils.data import DataLoader\n",
    "\n",
    "from steves_utils.stratified_dataset.episodic_accessor import Episodic_Accessor_Factory\n",
    "\n",
    "from steves_utils.ptn_do_report import (\n",
    "    get_loss_curve,\n",
    "    get_results_table,\n",
    "    get_parameters_table,\n",
    "    get_domain_accuracies,\n",
    ")\n",
    "\n",
    "from steves_utils.transforms import get_chained_transform"
   ]
  },
  {
   "cell_type": "markdown",
   "id": "41c840b4",
   "metadata": {
    "papermill": {
     "duration": 0.018917,
     "end_time": "2022-03-21T14:14:07.769104",
     "exception": false,
     "start_time": "2022-03-21T14:14:07.750187",
     "status": "completed"
    },
    "tags": []
   },
   "source": [
    "# Allowed Parameters\n",
    "These are allowed parameters, not defaults\n",
    "Each of these values need to be present in the injected parameters (the notebook will raise an exception if they are not present)\n",
    "\n",
    "Papermill uses the cell tag \"parameters\" to inject the real parameters below this cell.\n",
    "Enable tags to see what I mean"
   ]
  },
  {
   "cell_type": "code",
   "execution_count": 2,
   "id": "fd44eb83",
   "metadata": {
    "execution": {
     "iopub.execute_input": "2022-03-21T14:14:07.812027Z",
     "iopub.status.busy": "2022-03-21T14:14:07.811639Z",
     "iopub.status.idle": "2022-03-21T14:14:07.833166Z",
     "shell.execute_reply": "2022-03-21T14:14:07.832450Z"
    },
    "papermill": {
     "duration": 0.045345,
     "end_time": "2022-03-21T14:14:07.833322",
     "exception": false,
     "start_time": "2022-03-21T14:14:07.787977",
     "status": "completed"
    },
    "tags": []
   },
   "outputs": [],
   "source": [
    "required_parameters = {\n",
    "    \"experiment_name\",\n",
    "    \"lr\",\n",
    "    \"device\",\n",
    "    \"seed\",\n",
    "    \"dataset_seed\",\n",
    "    \"n_shot\",\n",
    "    \"n_query\",\n",
    "    \"n_way\",\n",
    "    \"train_k_factor\",\n",
    "    \"val_k_factor\",\n",
    "    \"test_k_factor\",\n",
    "    \"n_epoch\",\n",
    "    \"patience\",\n",
    "    \"criteria_for_best\",\n",
    "    \"x_net\",\n",
    "    \"datasets\",\n",
    "    \"torch_default_dtype\",\n",
    "    \"NUM_LOGS_PER_EPOCH\",\n",
    "    \"BEST_MODEL_PATH\",\n",
    "    \"x_shape\",\n",
    "}"
   ]
  },
  {
   "cell_type": "code",
   "execution_count": 3,
   "id": "fa3f0049",
   "metadata": {
    "execution": {
     "iopub.execute_input": "2022-03-21T14:14:07.893000Z",
     "iopub.status.busy": "2022-03-21T14:14:07.885075Z",
     "iopub.status.idle": "2022-03-21T14:14:07.912033Z",
     "shell.execute_reply": "2022-03-21T14:14:07.911329Z"
    },
    "papermill": {
     "duration": 0.053605,
     "end_time": "2022-03-21T14:14:07.912193",
     "exception": false,
     "start_time": "2022-03-21T14:14:07.858588",
     "status": "completed"
    },
    "tags": [
     "parameters"
    ]
   },
   "outputs": [],
   "source": [
    "from steves_utils.CORES.utils import (\n",
    "    ALL_NODES,\n",
    "    ALL_NODES_MINIMUM_1000_EXAMPLES,\n",
    "    ALL_DAYS\n",
    ")\n",
    "\n",
    "from steves_utils.ORACLE.utils_v2 import (\n",
    "    ALL_DISTANCES_FEET_NARROWED,\n",
    "    ALL_RUNS,\n",
    "    ALL_SERIAL_NUMBERS,\n",
    ")\n",
    "\n",
    "standalone_parameters = {}\n",
    "standalone_parameters[\"experiment_name\"] = \"STANDALONE PTN\"\n",
    "standalone_parameters[\"lr\"] = 0.001\n",
    "standalone_parameters[\"device\"] = \"cuda\"\n",
    "\n",
    "standalone_parameters[\"seed\"] = 1337\n",
    "standalone_parameters[\"dataset_seed\"] = 1337\n",
    "\n",
    "standalone_parameters[\"n_way\"] = 8\n",
    "standalone_parameters[\"n_shot\"] = 3\n",
    "standalone_parameters[\"n_query\"]  = 2\n",
    "standalone_parameters[\"train_k_factor\"] = 1\n",
    "standalone_parameters[\"val_k_factor\"] = 2\n",
    "standalone_parameters[\"test_k_factor\"] = 2\n",
    "\n",
    "\n",
    "standalone_parameters[\"n_epoch\"] = 50\n",
    "\n",
    "standalone_parameters[\"patience\"] = 10\n",
    "standalone_parameters[\"criteria_for_best\"] = \"source_loss\"\n",
    "\n",
    "standalone_parameters[\"datasets\"] = [\n",
    "    {\n",
    "        \"labels\": ALL_SERIAL_NUMBERS,\n",
    "        \"domains\": ALL_DISTANCES_FEET_NARROWED,\n",
    "        \"num_examples_per_domain_per_label\": 100,\n",
    "        \"pickle_path\": os.path.join(get_datasets_base_path(), \"oracle.Run1_framed_2000Examples_stratified_ds.2022A.pkl\"),\n",
    "        \"source_or_target_dataset\": \"source\",\n",
    "        \"x_transforms\": [\"unit_mag\", \"minus_two\"],\n",
    "        \"episode_transforms\": [],\n",
    "        \"domain_prefix\": \"ORACLE_\"\n",
    "    },\n",
    "    {\n",
    "        \"labels\": ALL_NODES,\n",
    "        \"domains\": ALL_DAYS,\n",
    "        \"num_examples_per_domain_per_label\": 100,\n",
    "        \"pickle_path\": os.path.join(get_datasets_base_path(), \"cores.stratified_ds.2022A.pkl\"),\n",
    "        \"source_or_target_dataset\": \"target\",\n",
    "        \"x_transforms\": [\"unit_power\", \"times_zero\"],\n",
    "        \"episode_transforms\": [],\n",
    "        \"domain_prefix\": \"CORES_\"\n",
    "    }   \n",
    "]\n",
    "\n",
    "standalone_parameters[\"torch_default_dtype\"] = \"torch.float32\" \n",
    "\n",
    "\n",
    "\n",
    "standalone_parameters[\"x_net\"] =     [\n",
    "    {\"class\": \"nnReshape\", \"kargs\": {\"shape\":[-1, 1, 2, 256]}},\n",
    "    {\"class\": \"Conv2d\", \"kargs\": { \"in_channels\":1, \"out_channels\":256, \"kernel_size\":(1,7), \"bias\":False, \"padding\":(0,3), },},\n",
    "    {\"class\": \"ReLU\", \"kargs\": {\"inplace\": True}},\n",
    "    {\"class\": \"BatchNorm2d\", \"kargs\": {\"num_features\":256}},\n",
    "\n",
    "    {\"class\": \"Conv2d\", \"kargs\": { \"in_channels\":256, \"out_channels\":80, \"kernel_size\":(2,7), \"bias\":True, \"padding\":(0,3), },},\n",
    "    {\"class\": \"ReLU\", \"kargs\": {\"inplace\": True}},\n",
    "    {\"class\": \"BatchNorm2d\", \"kargs\": {\"num_features\":80}},\n",
    "    {\"class\": \"Flatten\", \"kargs\": {}},\n",
    "\n",
    "    {\"class\": \"Linear\", \"kargs\": {\"in_features\": 80*256, \"out_features\": 256}}, # 80 units per IQ pair\n",
    "    {\"class\": \"ReLU\", \"kargs\": {\"inplace\": True}},\n",
    "    {\"class\": \"BatchNorm1d\", \"kargs\": {\"num_features\":256}},\n",
    "\n",
    "    {\"class\": \"Linear\", \"kargs\": {\"in_features\": 256, \"out_features\": 256}},\n",
    "]\n",
    "\n",
    "# Parameters relevant to results\n",
    "# These parameters will basically never need to change\n",
    "standalone_parameters[\"NUM_LOGS_PER_EPOCH\"] = 10\n",
    "standalone_parameters[\"BEST_MODEL_PATH\"] = \"./best_model.pth\"\n",
    "\n",
    "\n",
    "\n",
    "\n"
   ]
  },
  {
   "cell_type": "code",
   "execution_count": 4,
   "id": "14056611",
   "metadata": {
    "execution": {
     "iopub.execute_input": "2022-03-21T14:14:07.970679Z",
     "iopub.status.busy": "2022-03-21T14:14:07.963024Z",
     "iopub.status.idle": "2022-03-21T14:14:07.989744Z",
     "shell.execute_reply": "2022-03-21T14:14:07.989005Z"
    },
    "papermill": {
     "duration": 0.05386,
     "end_time": "2022-03-21T14:14:07.989898",
     "exception": false,
     "start_time": "2022-03-21T14:14:07.936038",
     "status": "completed"
    },
    "tags": [
     "injected-parameters"
    ]
   },
   "outputs": [],
   "source": [
    "# Parameters\n",
    "parameters = {\n",
    "    \"experiment_name\": \"tl_1v2:wisig-oracle.run1.framed\",\n",
    "    \"device\": \"cuda\",\n",
    "    \"lr\": 0.0001,\n",
    "    \"n_shot\": 3,\n",
    "    \"n_query\": 2,\n",
    "    \"train_k_factor\": 3,\n",
    "    \"val_k_factor\": 2,\n",
    "    \"test_k_factor\": 2,\n",
    "    \"torch_default_dtype\": \"torch.float32\",\n",
    "    \"n_epoch\": 50,\n",
    "    \"patience\": 3,\n",
    "    \"criteria_for_best\": \"target_accuracy\",\n",
    "    \"x_net\": [\n",
    "        {\"class\": \"nnReshape\", \"kargs\": {\"shape\": [-1, 1, 2, 256]}},\n",
    "        {\n",
    "            \"class\": \"Conv2d\",\n",
    "            \"kargs\": {\n",
    "                \"in_channels\": 1,\n",
    "                \"out_channels\": 256,\n",
    "                \"kernel_size\": [1, 7],\n",
    "                \"bias\": False,\n",
    "                \"padding\": [0, 3],\n",
    "            },\n",
    "        },\n",
    "        {\"class\": \"ReLU\", \"kargs\": {\"inplace\": True}},\n",
    "        {\"class\": \"BatchNorm2d\", \"kargs\": {\"num_features\": 256}},\n",
    "        {\n",
    "            \"class\": \"Conv2d\",\n",
    "            \"kargs\": {\n",
    "                \"in_channels\": 256,\n",
    "                \"out_channels\": 80,\n",
    "                \"kernel_size\": [2, 7],\n",
    "                \"bias\": True,\n",
    "                \"padding\": [0, 3],\n",
    "            },\n",
    "        },\n",
    "        {\"class\": \"ReLU\", \"kargs\": {\"inplace\": True}},\n",
    "        {\"class\": \"BatchNorm2d\", \"kargs\": {\"num_features\": 80}},\n",
    "        {\"class\": \"Flatten\", \"kargs\": {}},\n",
    "        {\"class\": \"Linear\", \"kargs\": {\"in_features\": 20480, \"out_features\": 256}},\n",
    "        {\"class\": \"ReLU\", \"kargs\": {\"inplace\": True}},\n",
    "        {\"class\": \"BatchNorm1d\", \"kargs\": {\"num_features\": 256}},\n",
    "        {\"class\": \"Linear\", \"kargs\": {\"in_features\": 256, \"out_features\": 256}},\n",
    "    ],\n",
    "    \"NUM_LOGS_PER_EPOCH\": 10,\n",
    "    \"BEST_MODEL_PATH\": \"./best_model.pth\",\n",
    "    \"n_way\": 16,\n",
    "    \"datasets\": [\n",
    "        {\n",
    "            \"labels\": [\n",
    "                \"1-10\",\n",
    "                \"1-12\",\n",
    "                \"1-14\",\n",
    "                \"1-16\",\n",
    "                \"1-18\",\n",
    "                \"1-19\",\n",
    "                \"1-8\",\n",
    "                \"10-11\",\n",
    "                \"10-17\",\n",
    "                \"10-4\",\n",
    "                \"10-7\",\n",
    "                \"11-1\",\n",
    "                \"11-10\",\n",
    "                \"11-19\",\n",
    "                \"11-20\",\n",
    "                \"11-4\",\n",
    "                \"11-7\",\n",
    "                \"12-19\",\n",
    "                \"12-20\",\n",
    "                \"12-7\",\n",
    "                \"13-14\",\n",
    "                \"13-18\",\n",
    "                \"13-19\",\n",
    "                \"13-20\",\n",
    "                \"13-3\",\n",
    "                \"13-7\",\n",
    "                \"14-10\",\n",
    "                \"14-11\",\n",
    "                \"14-12\",\n",
    "                \"14-13\",\n",
    "                \"14-14\",\n",
    "                \"14-19\",\n",
    "                \"14-20\",\n",
    "                \"14-7\",\n",
    "                \"14-8\",\n",
    "                \"14-9\",\n",
    "                \"15-1\",\n",
    "                \"15-19\",\n",
    "                \"15-6\",\n",
    "                \"16-1\",\n",
    "                \"16-16\",\n",
    "                \"16-19\",\n",
    "                \"16-20\",\n",
    "                \"17-10\",\n",
    "                \"17-11\",\n",
    "                \"18-1\",\n",
    "                \"18-10\",\n",
    "                \"18-11\",\n",
    "                \"18-12\",\n",
    "                \"18-13\",\n",
    "                \"18-14\",\n",
    "                \"18-15\",\n",
    "                \"18-16\",\n",
    "                \"18-17\",\n",
    "                \"18-19\",\n",
    "                \"18-2\",\n",
    "                \"18-20\",\n",
    "                \"18-4\",\n",
    "                \"18-5\",\n",
    "                \"18-7\",\n",
    "                \"18-8\",\n",
    "                \"18-9\",\n",
    "                \"19-1\",\n",
    "                \"19-10\",\n",
    "                \"19-11\",\n",
    "                \"19-12\",\n",
    "                \"19-13\",\n",
    "                \"19-14\",\n",
    "                \"19-15\",\n",
    "                \"19-19\",\n",
    "                \"19-2\",\n",
    "                \"19-20\",\n",
    "                \"19-3\",\n",
    "                \"19-4\",\n",
    "                \"19-6\",\n",
    "                \"19-7\",\n",
    "                \"19-8\",\n",
    "                \"19-9\",\n",
    "                \"2-1\",\n",
    "                \"2-13\",\n",
    "                \"2-15\",\n",
    "                \"2-3\",\n",
    "                \"2-4\",\n",
    "                \"2-5\",\n",
    "                \"2-6\",\n",
    "                \"2-7\",\n",
    "                \"2-8\",\n",
    "                \"20-1\",\n",
    "                \"20-12\",\n",
    "                \"20-14\",\n",
    "                \"20-15\",\n",
    "                \"20-16\",\n",
    "                \"20-18\",\n",
    "                \"20-19\",\n",
    "                \"20-20\",\n",
    "                \"20-3\",\n",
    "                \"20-4\",\n",
    "                \"20-5\",\n",
    "                \"20-7\",\n",
    "                \"20-8\",\n",
    "                \"3-1\",\n",
    "                \"3-13\",\n",
    "                \"3-18\",\n",
    "                \"3-2\",\n",
    "                \"3-8\",\n",
    "                \"4-1\",\n",
    "                \"4-10\",\n",
    "                \"4-11\",\n",
    "                \"5-1\",\n",
    "                \"5-5\",\n",
    "                \"6-1\",\n",
    "                \"6-15\",\n",
    "                \"6-6\",\n",
    "                \"7-10\",\n",
    "                \"7-11\",\n",
    "                \"7-12\",\n",
    "                \"7-13\",\n",
    "                \"7-14\",\n",
    "                \"7-7\",\n",
    "                \"7-8\",\n",
    "                \"7-9\",\n",
    "                \"8-1\",\n",
    "                \"8-13\",\n",
    "                \"8-14\",\n",
    "                \"8-18\",\n",
    "                \"8-20\",\n",
    "                \"8-3\",\n",
    "                \"8-8\",\n",
    "                \"9-1\",\n",
    "                \"9-7\",\n",
    "            ],\n",
    "            \"domains\": [1, 2, 3, 4],\n",
    "            \"num_examples_per_domain_per_label\": -1,\n",
    "            \"pickle_path\": \"/root/csc500-main/datasets/wisig.node3-19.stratified_ds.2022A.pkl\",\n",
    "            \"source_or_target_dataset\": \"source\",\n",
    "            \"x_transforms\": [\"unit_mag\"],\n",
    "            \"episode_transforms\": [],\n",
    "            \"domain_prefix\": \"Wisig_\",\n",
    "        },\n",
    "        {\n",
    "            \"labels\": [\n",
    "                \"3123D52\",\n",
    "                \"3123D65\",\n",
    "                \"3123D79\",\n",
    "                \"3123D80\",\n",
    "                \"3123D54\",\n",
    "                \"3123D70\",\n",
    "                \"3123D7B\",\n",
    "                \"3123D89\",\n",
    "                \"3123D58\",\n",
    "                \"3123D76\",\n",
    "                \"3123D7D\",\n",
    "                \"3123EFE\",\n",
    "                \"3123D64\",\n",
    "                \"3123D78\",\n",
    "                \"3123D7E\",\n",
    "                \"3124E4A\",\n",
    "            ],\n",
    "            \"domains\": [32, 38, 8, 44, 14, 50, 20, 26],\n",
    "            \"num_examples_per_domain_per_label\": 2000,\n",
    "            \"pickle_path\": \"/root/csc500-main/datasets/oracle.Run1_framed_2000Examples_stratified_ds.2022A.pkl\",\n",
    "            \"source_or_target_dataset\": \"target\",\n",
    "            \"x_transforms\": [\"unit_mag\"],\n",
    "            \"episode_transforms\": [],\n",
    "            \"domain_prefix\": \"ORACLE.run1\",\n",
    "        },\n",
    "    ],\n",
    "    \"dataset_seed\": 7,\n",
    "    \"seed\": 7,\n",
    "}\n"
   ]
  },
  {
   "cell_type": "code",
   "execution_count": 5,
   "id": "8fa1cc33",
   "metadata": {
    "execution": {
     "iopub.execute_input": "2022-03-21T14:14:08.042108Z",
     "iopub.status.busy": "2022-03-21T14:14:08.041516Z",
     "iopub.status.idle": "2022-03-21T14:14:08.062818Z",
     "shell.execute_reply": "2022-03-21T14:14:08.062072Z"
    },
    "papermill": {
     "duration": 0.047574,
     "end_time": "2022-03-21T14:14:08.062971",
     "exception": false,
     "start_time": "2022-03-21T14:14:08.015397",
     "status": "completed"
    },
    "tags": []
   },
   "outputs": [],
   "source": [
    "# Set this to True if you want to run this template directly\n",
    "STANDALONE = False\n",
    "if STANDALONE:\n",
    "    print(\"parameters not injected, running with standalone_parameters\")\n",
    "    parameters = standalone_parameters\n",
    "\n",
    "if not 'parameters' in locals() and not 'parameters' in globals():\n",
    "    raise Exception(\"Parameter injection failed\")\n",
    "\n",
    "#Use an easy dict for all the parameters\n",
    "p = EasyDict(parameters)\n",
    "\n",
    "if \"x_shape\" not in p:\n",
    "    p.x_shape = [2,256] # Default to this if we dont supply x_shape\n",
    "\n",
    "\n",
    "supplied_keys = set(p.keys())\n",
    "\n",
    "if  supplied_keys != required_parameters:\n",
    "    print(\"Parameters are incorrect\")\n",
    "    if len(supplied_keys - required_parameters)>0: print(\"Shouldn't have:\", str(supplied_keys - required_parameters))\n",
    "    if len(required_parameters - supplied_keys)>0: print(\"Need to have:\", str(required_parameters - supplied_keys))\n",
    "    raise RuntimeError(\"Parameters are incorrect\")"
   ]
  },
  {
   "cell_type": "code",
   "execution_count": 6,
   "id": "3a028d58",
   "metadata": {
    "execution": {
     "iopub.execute_input": "2022-03-21T14:14:08.115414Z",
     "iopub.status.busy": "2022-03-21T14:14:08.114836Z",
     "iopub.status.idle": "2022-03-21T14:14:08.127600Z",
     "shell.execute_reply": "2022-03-21T14:14:08.126838Z"
    },
    "papermill": {
     "duration": 0.039719,
     "end_time": "2022-03-21T14:14:08.127764",
     "exception": false,
     "start_time": "2022-03-21T14:14:08.088045",
     "status": "completed"
    },
    "tags": []
   },
   "outputs": [],
   "source": [
    "###################################\n",
    "# Set the RNGs and make it all deterministic\n",
    "###################################\n",
    "np.random.seed(p.seed)\n",
    "random.seed(p.seed)\n",
    "torch.manual_seed(p.seed)\n",
    "\n",
    "torch.use_deterministic_algorithms(True) "
   ]
  },
  {
   "cell_type": "code",
   "execution_count": 7,
   "id": "b691acf6",
   "metadata": {
    "execution": {
     "iopub.execute_input": "2022-03-21T14:14:08.179445Z",
     "iopub.status.busy": "2022-03-21T14:14:08.179068Z",
     "iopub.status.idle": "2022-03-21T14:14:08.204313Z",
     "shell.execute_reply": "2022-03-21T14:14:08.203567Z"
    },
    "papermill": {
     "duration": 0.048325,
     "end_time": "2022-03-21T14:14:08.204466",
     "exception": false,
     "start_time": "2022-03-21T14:14:08.156141",
     "status": "completed"
    },
    "tags": []
   },
   "outputs": [],
   "source": [
    "###########################################\n",
    "# The stratified datasets honor this\n",
    "###########################################\n",
    "torch.set_default_dtype(eval(p.torch_default_dtype))"
   ]
  },
  {
   "cell_type": "code",
   "execution_count": 8,
   "id": "b5fba671",
   "metadata": {
    "execution": {
     "iopub.execute_input": "2022-03-21T14:14:08.255850Z",
     "iopub.status.busy": "2022-03-21T14:14:08.255442Z",
     "iopub.status.idle": "2022-03-21T14:14:08.314133Z",
     "shell.execute_reply": "2022-03-21T14:14:08.313412Z"
    },
    "papermill": {
     "duration": 0.081445,
     "end_time": "2022-03-21T14:14:08.314290",
     "exception": false,
     "start_time": "2022-03-21T14:14:08.232845",
     "status": "completed"
    },
    "tags": []
   },
   "outputs": [],
   "source": [
    "###################################\n",
    "# Build the network(s)\n",
    "# Note: It's critical to do this AFTER setting the RNG\n",
    "###################################\n",
    "x_net = build_sequential(p.x_net)"
   ]
  },
  {
   "cell_type": "code",
   "execution_count": 9,
   "id": "5d7e61cc",
   "metadata": {
    "execution": {
     "iopub.execute_input": "2022-03-21T14:14:08.363692Z",
     "iopub.status.busy": "2022-03-21T14:14:08.363289Z",
     "iopub.status.idle": "2022-03-21T14:14:08.388835Z",
     "shell.execute_reply": "2022-03-21T14:14:08.388042Z"
    },
    "papermill": {
     "duration": 0.048895,
     "end_time": "2022-03-21T14:14:08.388988",
     "exception": false,
     "start_time": "2022-03-21T14:14:08.340093",
     "status": "completed"
    },
    "tags": []
   },
   "outputs": [],
   "source": [
    "start_time_secs = time.time()"
   ]
  },
  {
   "cell_type": "code",
   "execution_count": 10,
   "id": "c6b67dfd",
   "metadata": {
    "execution": {
     "iopub.execute_input": "2022-03-21T14:14:08.438524Z",
     "iopub.status.busy": "2022-03-21T14:14:08.436677Z",
     "iopub.status.idle": "2022-03-21T14:14:08.458431Z",
     "shell.execute_reply": "2022-03-21T14:14:08.457640Z"
    },
    "papermill": {
     "duration": 0.043882,
     "end_time": "2022-03-21T14:14:08.458584",
     "exception": false,
     "start_time": "2022-03-21T14:14:08.414702",
     "status": "completed"
    },
    "tags": []
   },
   "outputs": [],
   "source": [
    "p.domains_source = []\n",
    "p.domains_target = []\n",
    "\n",
    "\n",
    "train_original_source = []\n",
    "val_original_source   = []\n",
    "test_original_source  = []\n",
    "\n",
    "train_original_target = []\n",
    "val_original_target   = []\n",
    "test_original_target  = []"
   ]
  },
  {
   "cell_type": "code",
   "execution_count": 11,
   "id": "e3d9c3d3",
   "metadata": {
    "execution": {
     "iopub.execute_input": "2022-03-21T14:14:08.506773Z",
     "iopub.status.busy": "2022-03-21T14:14:08.506188Z",
     "iopub.status.idle": "2022-03-21T14:14:08.528328Z",
     "shell.execute_reply": "2022-03-21T14:14:08.527612Z"
    },
    "papermill": {
     "duration": 0.044822,
     "end_time": "2022-03-21T14:14:08.528484",
     "exception": false,
     "start_time": "2022-03-21T14:14:08.483662",
     "status": "completed"
    },
    "tags": []
   },
   "outputs": [],
   "source": [
    "# global_x_transform_func = lambda x: normalize(x.to(torch.get_default_dtype()), \"unit_power\") # unit_power, unit_mag\n",
    "# global_x_transform_func = lambda x: normalize(x, \"unit_power\") # unit_power, unit_mag"
   ]
  },
  {
   "cell_type": "code",
   "execution_count": 12,
   "id": "acb78fd2",
   "metadata": {
    "execution": {
     "iopub.execute_input": "2022-03-21T14:14:08.586829Z",
     "iopub.status.busy": "2022-03-21T14:14:08.585959Z",
     "iopub.status.idle": "2022-03-21T14:14:08.603757Z",
     "shell.execute_reply": "2022-03-21T14:14:08.602928Z"
    },
    "papermill": {
     "duration": 0.04926,
     "end_time": "2022-03-21T14:14:08.603936",
     "exception": false,
     "start_time": "2022-03-21T14:14:08.554676",
     "status": "completed"
    },
    "tags": []
   },
   "outputs": [],
   "source": [
    "def add_dataset(\n",
    "    labels,\n",
    "    domains,\n",
    "    pickle_path,\n",
    "    x_transforms,\n",
    "    episode_transforms,\n",
    "    domain_prefix,\n",
    "    num_examples_per_domain_per_label,\n",
    "    source_or_target_dataset:str,\n",
    "    iterator_seed=p.seed,\n",
    "    dataset_seed=p.dataset_seed,\n",
    "    n_shot=p.n_shot,\n",
    "    n_way=p.n_way,\n",
    "    n_query=p.n_query,\n",
    "    train_val_test_k_factors=(p.train_k_factor,p.val_k_factor,p.test_k_factor),\n",
    "):\n",
    "   \n",
    "    if x_transforms == []: x_transform = None\n",
    "    else: x_transform = get_chained_transform(x_transforms)\n",
    "    \n",
    "    if episode_transforms == []: episode_transform = None\n",
    "    else: raise Exception(\"episode_transforms not implemented\")\n",
    "    \n",
    "    episode_transform = lambda tup, _prefix=domain_prefix: (_prefix + str(tup[0]), tup[1])\n",
    "\n",
    "\n",
    "    eaf = Episodic_Accessor_Factory(\n",
    "        labels=labels,\n",
    "        domains=domains,\n",
    "        num_examples_per_domain_per_label=num_examples_per_domain_per_label,\n",
    "        iterator_seed=iterator_seed,\n",
    "        dataset_seed=dataset_seed,\n",
    "        n_shot=n_shot,\n",
    "        n_way=n_way,\n",
    "        n_query=n_query,\n",
    "        train_val_test_k_factors=train_val_test_k_factors,\n",
    "        pickle_path=pickle_path,\n",
    "        x_transform_func=x_transform,\n",
    "    )\n",
    "\n",
    "    train, val, test = eaf.get_train(), eaf.get_val(), eaf.get_test()\n",
    "    train = Lazy_Iterable_Wrapper(train, episode_transform)\n",
    "    val = Lazy_Iterable_Wrapper(val, episode_transform)\n",
    "    test = Lazy_Iterable_Wrapper(test, episode_transform)\n",
    "\n",
    "    if source_or_target_dataset==\"source\":\n",
    "        train_original_source.append(train)\n",
    "        val_original_source.append(val)\n",
    "        test_original_source.append(test)\n",
    "\n",
    "        p.domains_source.extend(\n",
    "            [domain_prefix + str(u) for u in domains]\n",
    "        )\n",
    "    elif source_or_target_dataset==\"target\":\n",
    "        train_original_target.append(train)\n",
    "        val_original_target.append(val)\n",
    "        test_original_target.append(test)\n",
    "        p.domains_target.extend(\n",
    "            [domain_prefix + str(u) for u in domains]\n",
    "        )\n",
    "    else:\n",
    "        raise Exception(f\"invalid source_or_target_dataset: {source_or_target_dataset}\")\n",
    "    "
   ]
  },
  {
   "cell_type": "code",
   "execution_count": 13,
   "id": "fe266617",
   "metadata": {
    "execution": {
     "iopub.execute_input": "2022-03-21T14:14:08.652534Z",
     "iopub.status.busy": "2022-03-21T14:14:08.651417Z",
     "iopub.status.idle": "2022-03-21T14:14:53.052331Z",
     "shell.execute_reply": "2022-03-21T14:14:53.051795Z"
    },
    "papermill": {
     "duration": 44.424099,
     "end_time": "2022-03-21T14:14:53.052482",
     "exception": false,
     "start_time": "2022-03-21T14:14:08.628383",
     "status": "completed"
    },
    "tags": []
   },
   "outputs": [],
   "source": [
    "for ds in p.datasets:\n",
    "    add_dataset(**ds)"
   ]
  },
  {
   "cell_type": "code",
   "execution_count": 14,
   "id": "b90d65ac",
   "metadata": {
    "execution": {
     "iopub.execute_input": "2022-03-21T14:14:53.102681Z",
     "iopub.status.busy": "2022-03-21T14:14:53.102276Z",
     "iopub.status.idle": "2022-03-21T14:14:53.126583Z",
     "shell.execute_reply": "2022-03-21T14:14:53.125817Z"
    },
    "papermill": {
     "duration": 0.049394,
     "end_time": "2022-03-21T14:14:53.126751",
     "exception": false,
     "start_time": "2022-03-21T14:14:53.077357",
     "status": "completed"
    },
    "tags": []
   },
   "outputs": [],
   "source": [
    "# from steves_utils.CORES.utils import (\n",
    "#     ALL_NODES,\n",
    "#     ALL_NODES_MINIMUM_1000_EXAMPLES,\n",
    "#     ALL_DAYS\n",
    "# )\n",
    "\n",
    "# add_dataset(\n",
    "#     labels=ALL_NODES,\n",
    "#     domains = ALL_DAYS,\n",
    "#     num_examples_per_domain_per_label=100,\n",
    "#     pickle_path=os.path.join(get_datasets_base_path(), \"cores.stratified_ds.2022A.pkl\"),\n",
    "#     source_or_target_dataset=\"target\",\n",
    "#     x_transform_func=global_x_transform_func,\n",
    "#     domain_modifier=lambda u: f\"cores_{u}\"\n",
    "# )"
   ]
  },
  {
   "cell_type": "code",
   "execution_count": 15,
   "id": "76db484d",
   "metadata": {
    "execution": {
     "iopub.execute_input": "2022-03-21T14:14:53.177838Z",
     "iopub.status.busy": "2022-03-21T14:14:53.177397Z",
     "iopub.status.idle": "2022-03-21T14:14:53.197436Z",
     "shell.execute_reply": "2022-03-21T14:14:53.196622Z"
    },
    "papermill": {
     "duration": 0.042928,
     "end_time": "2022-03-21T14:14:53.197597",
     "exception": false,
     "start_time": "2022-03-21T14:14:53.154669",
     "status": "completed"
    },
    "tags": []
   },
   "outputs": [],
   "source": [
    "# from steves_utils.ORACLE.utils_v2 import (\n",
    "#     ALL_DISTANCES_FEET,\n",
    "#     ALL_RUNS,\n",
    "#     ALL_SERIAL_NUMBERS,\n",
    "# )\n",
    "\n",
    "\n",
    "# add_dataset(\n",
    "#     labels=ALL_SERIAL_NUMBERS,\n",
    "#     domains = list(set(ALL_DISTANCES_FEET) - {2,62}),\n",
    "#     num_examples_per_domain_per_label=100,\n",
    "#     pickle_path=os.path.join(get_datasets_base_path(), \"oracle.Run2_framed_2000Examples_stratified_ds.2022A.pkl\"),\n",
    "#     source_or_target_dataset=\"source\",\n",
    "#     x_transform_func=global_x_transform_func,\n",
    "#     domain_modifier=lambda u: f\"oracle1_{u}\"\n",
    "# )\n"
   ]
  },
  {
   "cell_type": "code",
   "execution_count": 16,
   "id": "97dea9d2",
   "metadata": {
    "execution": {
     "iopub.execute_input": "2022-03-21T14:14:53.246961Z",
     "iopub.status.busy": "2022-03-21T14:14:53.246295Z",
     "iopub.status.idle": "2022-03-21T14:14:53.263445Z",
     "shell.execute_reply": "2022-03-21T14:14:53.262669Z"
    },
    "papermill": {
     "duration": 0.039595,
     "end_time": "2022-03-21T14:14:53.263641",
     "exception": false,
     "start_time": "2022-03-21T14:14:53.224046",
     "status": "completed"
    },
    "tags": []
   },
   "outputs": [],
   "source": [
    "# from steves_utils.ORACLE.utils_v2 import (\n",
    "#     ALL_DISTANCES_FEET,\n",
    "#     ALL_RUNS,\n",
    "#     ALL_SERIAL_NUMBERS,\n",
    "# )\n",
    "\n",
    "\n",
    "# add_dataset(\n",
    "#     labels=ALL_SERIAL_NUMBERS,\n",
    "#     domains = list(set(ALL_DISTANCES_FEET) - {2,62,56}),\n",
    "#     num_examples_per_domain_per_label=100,\n",
    "#     pickle_path=os.path.join(get_datasets_base_path(), \"oracle.Run2_framed_2000Examples_stratified_ds.2022A.pkl\"),\n",
    "#     source_or_target_dataset=\"source\",\n",
    "#     x_transform_func=global_x_transform_func,\n",
    "#     domain_modifier=lambda u: f\"oracle2_{u}\"\n",
    "# )"
   ]
  },
  {
   "cell_type": "code",
   "execution_count": 17,
   "id": "6f289866",
   "metadata": {
    "execution": {
     "iopub.execute_input": "2022-03-21T14:14:53.315892Z",
     "iopub.status.busy": "2022-03-21T14:14:53.315446Z",
     "iopub.status.idle": "2022-03-21T14:14:53.337252Z",
     "shell.execute_reply": "2022-03-21T14:14:53.336526Z"
    },
    "papermill": {
     "duration": 0.045915,
     "end_time": "2022-03-21T14:14:53.337412",
     "exception": false,
     "start_time": "2022-03-21T14:14:53.291497",
     "status": "completed"
    },
    "tags": []
   },
   "outputs": [],
   "source": [
    "# add_dataset(\n",
    "#     labels=list(range(19)),\n",
    "#     domains = [0,1,2],\n",
    "#     num_examples_per_domain_per_label=100,\n",
    "#     pickle_path=os.path.join(get_datasets_base_path(), \"metehan.stratified_ds.2022A.pkl\"),\n",
    "#     source_or_target_dataset=\"target\",\n",
    "#     x_transform_func=global_x_transform_func,\n",
    "#     domain_modifier=lambda u: f\"met_{u}\"\n",
    "# )"
   ]
  },
  {
   "cell_type": "code",
   "execution_count": 18,
   "id": "86a863c3",
   "metadata": {
    "execution": {
     "iopub.execute_input": "2022-03-21T14:14:53.389237Z",
     "iopub.status.busy": "2022-03-21T14:14:53.388635Z",
     "iopub.status.idle": "2022-03-21T14:14:53.409783Z",
     "shell.execute_reply": "2022-03-21T14:14:53.409094Z"
    },
    "papermill": {
     "duration": 0.045675,
     "end_time": "2022-03-21T14:14:53.409949",
     "exception": false,
     "start_time": "2022-03-21T14:14:53.364274",
     "status": "completed"
    },
    "tags": []
   },
   "outputs": [],
   "source": [
    "# # from steves_utils.wisig.utils import (\n",
    "# #     ALL_NODES_MINIMUM_100_EXAMPLES,\n",
    "# #     ALL_NODES_MINIMUM_500_EXAMPLES,\n",
    "# #     ALL_NODES_MINIMUM_1000_EXAMPLES,\n",
    "# #     ALL_DAYS\n",
    "# # )\n",
    "\n",
    "# import steves_utils.wisig.utils as wisig\n",
    "\n",
    "\n",
    "# add_dataset(\n",
    "#     labels=wisig.ALL_NODES_MINIMUM_100_EXAMPLES,\n",
    "#     domains = wisig.ALL_DAYS,\n",
    "#     num_examples_per_domain_per_label=100,\n",
    "#     pickle_path=os.path.join(get_datasets_base_path(), \"wisig.node3-19.stratified_ds.2022A.pkl\"),\n",
    "#     source_or_target_dataset=\"target\",\n",
    "#     x_transform_func=global_x_transform_func,\n",
    "#     domain_modifier=lambda u: f\"wisig_{u}\"\n",
    "# )"
   ]
  },
  {
   "cell_type": "code",
   "execution_count": 19,
   "id": "fd5442bc",
   "metadata": {
    "execution": {
     "iopub.execute_input": "2022-03-21T14:14:53.467153Z",
     "iopub.status.busy": "2022-03-21T14:14:53.466137Z",
     "iopub.status.idle": "2022-03-21T14:14:53.484764Z",
     "shell.execute_reply": "2022-03-21T14:14:53.483999Z"
    },
    "papermill": {
     "duration": 0.048462,
     "end_time": "2022-03-21T14:14:53.484923",
     "exception": false,
     "start_time": "2022-03-21T14:14:53.436461",
     "status": "completed"
    },
    "tags": []
   },
   "outputs": [],
   "source": [
    "###################################\n",
    "# Build the dataset\n",
    "###################################\n",
    "train_original_source = Iterable_Aggregator(train_original_source, p.seed)\n",
    "val_original_source = Iterable_Aggregator(val_original_source, p.seed)\n",
    "test_original_source = Iterable_Aggregator(test_original_source, p.seed)\n",
    "\n",
    "\n",
    "train_original_target = Iterable_Aggregator(train_original_target, p.seed)\n",
    "val_original_target = Iterable_Aggregator(val_original_target, p.seed)\n",
    "test_original_target = Iterable_Aggregator(test_original_target, p.seed)\n",
    "\n",
    "# For CNN We only use X and Y. And we only train on the source.\n",
    "# Properly form the data using a transform lambda and Lazy_Iterable_Wrapper. Finally wrap them in a dataloader\n",
    "\n",
    "transform_lambda = lambda ex: ex[1] # Original is (<domain>, <episode>) so we strip down to episode only\n",
    "\n",
    "train_processed_source = Lazy_Iterable_Wrapper(train_original_source, transform_lambda)\n",
    "val_processed_source   = Lazy_Iterable_Wrapper(val_original_source, transform_lambda)\n",
    "test_processed_source  = Lazy_Iterable_Wrapper(test_original_source, transform_lambda)\n",
    "\n",
    "train_processed_target = Lazy_Iterable_Wrapper(train_original_target, transform_lambda)\n",
    "val_processed_target   = Lazy_Iterable_Wrapper(val_original_target, transform_lambda)\n",
    "test_processed_target  = Lazy_Iterable_Wrapper(test_original_target, transform_lambda)\n",
    "\n",
    "datasets = EasyDict({\n",
    "    \"source\": {\n",
    "        \"original\": {\"train\":train_original_source, \"val\":val_original_source, \"test\":test_original_source},\n",
    "        \"processed\": {\"train\":train_processed_source, \"val\":val_processed_source, \"test\":test_processed_source}\n",
    "    },\n",
    "    \"target\": {\n",
    "        \"original\": {\"train\":train_original_target, \"val\":val_original_target, \"test\":test_original_target},\n",
    "        \"processed\": {\"train\":train_processed_target, \"val\":val_processed_target, \"test\":test_processed_target}\n",
    "    },\n",
    "})"
   ]
  },
  {
   "cell_type": "code",
   "execution_count": 20,
   "id": "5b3c01fc",
   "metadata": {
    "execution": {
     "iopub.execute_input": "2022-03-21T14:14:53.540805Z",
     "iopub.status.busy": "2022-03-21T14:14:53.539947Z",
     "iopub.status.idle": "2022-03-21T14:15:10.037004Z",
     "shell.execute_reply": "2022-03-21T14:15:10.036019Z"
    },
    "papermill": {
     "duration": 16.52301,
     "end_time": "2022-03-21T14:15:10.037179",
     "exception": false,
     "start_time": "2022-03-21T14:14:53.514169",
     "status": "completed"
    },
    "tags": []
   },
   "outputs": [
    {
     "name": "stdout",
     "output_type": "stream",
     "text": [
      "{'Wisig_3', 'Wisig_2', 'Wisig_4', 'Wisig_1'}\n"
     ]
    },
    {
     "name": "stdout",
     "output_type": "stream",
     "text": [
      "{'ORACLE.run144', 'ORACLE.run114', 'ORACLE.run150', 'ORACLE.run120', 'ORACLE.run18', 'ORACLE.run132', 'ORACLE.run126', 'ORACLE.run138'}\n"
     ]
    },
    {
     "name": "stdout",
     "output_type": "stream",
     "text": [
      "tensor([[[-0.4211,  0.5775,  1.1953,  ...,  0.1992,  0.4561,  1.0415],\n",
      "         [-0.4945, -1.0738,  0.2700,  ..., -0.2682, -0.6239, -0.0917]],\n",
      "\n",
      "        [[-0.3825,  0.7995,  1.2209,  ...,  0.1532,  0.5235,  1.1301],\n",
      "         [-0.9293, -0.9155,  0.5979,  ..., -0.3193, -0.5529, -0.0104]],\n",
      "\n",
      "        [[-0.6094,  0.8587,  1.0361,  ..., -0.4112,  0.3653,  0.9132],\n",
      "         [-0.8119, -1.0907,  0.4432,  ..., -0.5635, -1.0837, -0.0234]],\n",
      "\n",
      "        ...,\n",
      "\n",
      "        [[-0.2068,  1.1921,  1.8260,  ..., -0.3565,  1.2173,  1.1383],\n",
      "         [-0.2875, -1.2173, -0.4002,  ..., -0.4523,  0.2034,  0.5162]],\n",
      "\n",
      "        [[-0.6686,  1.1887,  1.9663,  ...,  0.2080,  0.9229,  0.1238],\n",
      "         [-0.1387, -0.2542,  0.5332,  ..., -0.2658, -0.2625,  0.8998]],\n",
      "\n",
      "        [[ 0.3971, -0.0899, -1.4323,  ...,  0.5125, -0.3292, -1.2185],\n",
      "         [-0.1527,  0.9588,  1.0929,  ...,  0.4022,  0.6449, -0.4277]]])\n"
     ]
    }
   ],
   "source": [
    "from steves_utils.transforms import get_average_magnitude, get_average_power\n",
    "\n",
    "print(set([u for u,_ in val_original_source]))\n",
    "print(set([u for u,_ in val_original_target]))\n",
    "\n",
    "s_x, s_y, q_x, q_y, _ = next(iter(train_processed_source))\n",
    "print(s_x)\n",
    "\n",
    "# for ds in [\n",
    "#     train_processed_source,\n",
    "#     val_processed_source,\n",
    "#     test_processed_source,\n",
    "#     train_processed_target,\n",
    "#     val_processed_target,\n",
    "#     test_processed_target\n",
    "# ]:\n",
    "#     for s_x, s_y, q_x, q_y, _ in ds:\n",
    "#         for X in (s_x, q_x):\n",
    "#             for x in X:\n",
    "#                 assert np.isclose(get_average_magnitude(x.numpy()), 1.0)\n",
    "#                 assert np.isclose(get_average_power(x.numpy()), 1.0)\n",
    "                "
   ]
  },
  {
   "cell_type": "code",
   "execution_count": 21,
   "id": "bbdacba1",
   "metadata": {
    "execution": {
     "iopub.execute_input": "2022-03-21T14:15:10.098259Z",
     "iopub.status.busy": "2022-03-21T14:15:10.096436Z",
     "iopub.status.idle": "2022-03-21T14:15:10.395398Z",
     "shell.execute_reply": "2022-03-21T14:15:10.394666Z"
    },
    "papermill": {
     "duration": 0.328216,
     "end_time": "2022-03-21T14:15:10.395608",
     "exception": false,
     "start_time": "2022-03-21T14:15:10.067392",
     "status": "completed"
    },
    "tags": []
   },
   "outputs": [
    {
     "name": "stdout",
     "output_type": "stream",
     "text": [
      "(2, 256)\n"
     ]
    }
   ],
   "source": [
    "###################################\n",
    "# Build the model\n",
    "###################################\n",
    "# easfsl only wants a tuple for the shape\n",
    "model = Steves_Prototypical_Network(x_net, device=p.device, x_shape=tuple(p.x_shape))\n",
    "optimizer = Adam(params=model.parameters(), lr=p.lr)"
   ]
  },
  {
   "cell_type": "code",
   "execution_count": 22,
   "id": "22b39ac5",
   "metadata": {
    "execution": {
     "iopub.execute_input": "2022-03-21T14:15:10.449787Z",
     "iopub.status.busy": "2022-03-21T14:15:10.449173Z",
     "iopub.status.idle": "2022-03-21T14:42:01.478276Z",
     "shell.execute_reply": "2022-03-21T14:42:01.477430Z"
    },
    "papermill": {
     "duration": 1611.054873,
     "end_time": "2022-03-21T14:42:01.478451",
     "exception": false,
     "start_time": "2022-03-21T14:15:10.423578",
     "status": "completed"
    },
    "tags": []
   },
   "outputs": [
    {
     "name": "stdout",
     "output_type": "stream",
     "text": [
      "epoch: 1, [batch: 1 / 6851], examples_per_second: 30.3840, train_label_loss: 2.5824, \n"
     ]
    },
    {
     "name": "stdout",
     "output_type": "stream",
     "text": [
      "epoch: 1, [batch: 686 / 6851], examples_per_second: 2290.8557, train_label_loss: 0.1845, \n"
     ]
    },
    {
     "name": "stdout",
     "output_type": "stream",
     "text": [
      "epoch: 1, [batch: 1371 / 6851], examples_per_second: 2313.6463, train_label_loss: 0.0509, \n"
     ]
    },
    {
     "name": "stdout",
     "output_type": "stream",
     "text": [
      "epoch: 1, [batch: 2056 / 6851], examples_per_second: 2521.3227, train_label_loss: 0.0095, \n"
     ]
    },
    {
     "name": "stdout",
     "output_type": "stream",
     "text": [
      "epoch: 1, [batch: 2741 / 6851], examples_per_second: 2529.1558, train_label_loss: 0.2274, \n"
     ]
    },
    {
     "name": "stdout",
     "output_type": "stream",
     "text": [
      "epoch: 1, [batch: 3426 / 6851], examples_per_second: 2593.1987, train_label_loss: 0.0296, \n"
     ]
    },
    {
     "name": "stdout",
     "output_type": "stream",
     "text": [
      "epoch: 1, [batch: 4111 / 6851], examples_per_second: 2796.3920, train_label_loss: 0.0319, \n"
     ]
    },
    {
     "name": "stdout",
     "output_type": "stream",
     "text": [
      "epoch: 1, [batch: 4796 / 6851], examples_per_second: 2894.1924, train_label_loss: 0.0385, \n"
     ]
    },
    {
     "name": "stdout",
     "output_type": "stream",
     "text": [
      "epoch: 1, [batch: 5481 / 6851], examples_per_second: 3097.4477, train_label_loss: 0.0655, \n"
     ]
    },
    {
     "name": "stdout",
     "output_type": "stream",
     "text": [
      "epoch: 1, [batch: 6166 / 6851], examples_per_second: 2953.1362, train_label_loss: 0.1249, \n"
     ]
    },
    {
     "name": "stdout",
     "output_type": "stream",
     "text": [
      "=============================================================\n",
      "epoch: 1, source_val_acc_label: 0.9599, target_val_acc_label: 0.1842, source_val_label_loss: 0.1728, target_val_label_loss: 2.4936, \n",
      "=============================================================\n"
     ]
    },
    {
     "name": "stdout",
     "output_type": "stream",
     "text": [
      "New best\n"
     ]
    },
    {
     "name": "stdout",
     "output_type": "stream",
     "text": [
      "epoch: 2, [batch: 1 / 6838], examples_per_second: 2.6254, train_label_loss: 0.1047, \n"
     ]
    },
    {
     "name": "stdout",
     "output_type": "stream",
     "text": [
      "epoch: 2, [batch: 684 / 6838], examples_per_second: 2308.6800, train_label_loss: 0.1975, \n"
     ]
    },
    {
     "name": "stdout",
     "output_type": "stream",
     "text": [
      "epoch: 2, [batch: 1368 / 6838], examples_per_second: 2326.6144, train_label_loss: 0.0663, \n"
     ]
    },
    {
     "name": "stdout",
     "output_type": "stream",
     "text": [
      "epoch: 2, [batch: 2052 / 6838], examples_per_second: 2345.0509, train_label_loss: 0.0392, \n"
     ]
    },
    {
     "name": "stdout",
     "output_type": "stream",
     "text": [
      "epoch: 2, [batch: 2735 / 6838], examples_per_second: 2299.7833, train_label_loss: 0.0668, \n"
     ]
    },
    {
     "name": "stdout",
     "output_type": "stream",
     "text": [
      "epoch: 2, [batch: 3419 / 6838], examples_per_second: 2332.9345, train_label_loss: 0.0208, \n"
     ]
    },
    {
     "name": "stdout",
     "output_type": "stream",
     "text": [
      "epoch: 2, [batch: 4103 / 6838], examples_per_second: 2564.9032, train_label_loss: 0.0087, \n"
     ]
    },
    {
     "name": "stdout",
     "output_type": "stream",
     "text": [
      "epoch: 2, [batch: 4786 / 6838], examples_per_second: 2539.5222, train_label_loss: 0.0129, \n"
     ]
    },
    {
     "name": "stdout",
     "output_type": "stream",
     "text": [
      "epoch: 2, [batch: 5470 / 6838], examples_per_second: 2478.3659, train_label_loss: 0.0819, \n"
     ]
    },
    {
     "name": "stdout",
     "output_type": "stream",
     "text": [
      "epoch: 2, [batch: 6154 / 6838], examples_per_second: 2534.5298, train_label_loss: 0.1425, \n"
     ]
    },
    {
     "name": "stdout",
     "output_type": "stream",
     "text": [
      "=============================================================\n",
      "epoch: 2, source_val_acc_label: 0.9690, target_val_acc_label: 0.2047, source_val_label_loss: 0.1374, target_val_label_loss: 2.4375, \n",
      "=============================================================\n"
     ]
    },
    {
     "name": "stdout",
     "output_type": "stream",
     "text": [
      "New best\n"
     ]
    },
    {
     "name": "stdout",
     "output_type": "stream",
     "text": [
      "epoch: 3, [batch: 1 / 6850], examples_per_second: 2.2046, train_label_loss: 0.0526, \n"
     ]
    },
    {
     "name": "stdout",
     "output_type": "stream",
     "text": [
      "epoch: 3, [batch: 685 / 6850], examples_per_second: 2286.8886, train_label_loss: 0.0030, \n"
     ]
    },
    {
     "name": "stdout",
     "output_type": "stream",
     "text": [
      "epoch: 3, [batch: 1370 / 6850], examples_per_second: 2292.3164, train_label_loss: 0.0013, \n"
     ]
    },
    {
     "name": "stdout",
     "output_type": "stream",
     "text": [
      "epoch: 3, [batch: 2055 / 6850], examples_per_second: 2306.9965, train_label_loss: 0.0575, \n"
     ]
    },
    {
     "name": "stdout",
     "output_type": "stream",
     "text": [
      "epoch: 3, [batch: 2740 / 6850], examples_per_second: 2324.8806, train_label_loss: 0.0998, \n"
     ]
    },
    {
     "name": "stdout",
     "output_type": "stream",
     "text": [
      "epoch: 3, [batch: 3425 / 6850], examples_per_second: 2567.8082, train_label_loss: 0.0472, \n"
     ]
    },
    {
     "name": "stdout",
     "output_type": "stream",
     "text": [
      "epoch: 3, [batch: 4110 / 6850], examples_per_second: 2590.0740, train_label_loss: 0.3329, \n"
     ]
    },
    {
     "name": "stdout",
     "output_type": "stream",
     "text": [
      "epoch: 3, [batch: 4795 / 6850], examples_per_second: 2516.6752, train_label_loss: 0.1276, \n"
     ]
    },
    {
     "name": "stdout",
     "output_type": "stream",
     "text": [
      "epoch: 3, [batch: 5480 / 6850], examples_per_second: 2313.6996, train_label_loss: 0.0908, \n"
     ]
    },
    {
     "name": "stdout",
     "output_type": "stream",
     "text": [
      "epoch: 3, [batch: 6165 / 6850], examples_per_second: 2550.8040, train_label_loss: 0.0030, \n"
     ]
    },
    {
     "name": "stdout",
     "output_type": "stream",
     "text": [
      "=============================================================\n",
      "epoch: 3, source_val_acc_label: 0.9713, target_val_acc_label: 0.1711, source_val_label_loss: 0.1252, target_val_label_loss: 2.5612, \n",
      "=============================================================\n"
     ]
    },
    {
     "name": "stdout",
     "output_type": "stream",
     "text": [
      "epoch: 4, [batch: 1 / 6835], examples_per_second: 2.1779, train_label_loss: 0.0163, \n"
     ]
    },
    {
     "name": "stdout",
     "output_type": "stream",
     "text": [
      "epoch: 4, [batch: 684 / 6835], examples_per_second: 2307.6075, train_label_loss: 0.3286, \n"
     ]
    },
    {
     "name": "stdout",
     "output_type": "stream",
     "text": [
      "epoch: 4, [batch: 1367 / 6835], examples_per_second: 2310.8169, train_label_loss: 0.1234, \n"
     ]
    },
    {
     "name": "stdout",
     "output_type": "stream",
     "text": [
      "epoch: 4, [batch: 2051 / 6835], examples_per_second: 2343.4472, train_label_loss: 0.0034, \n"
     ]
    },
    {
     "name": "stdout",
     "output_type": "stream",
     "text": [
      "epoch: 4, [batch: 2734 / 6835], examples_per_second: 2592.7326, train_label_loss: 0.0090, \n"
     ]
    },
    {
     "name": "stdout",
     "output_type": "stream",
     "text": [
      "epoch: 4, [batch: 3418 / 6835], examples_per_second: 2569.2013, train_label_loss: 0.1588, \n"
     ]
    },
    {
     "name": "stdout",
     "output_type": "stream",
     "text": [
      "epoch: 4, [batch: 4101 / 6835], examples_per_second: 2497.9937, train_label_loss: 0.1066, \n"
     ]
    },
    {
     "name": "stdout",
     "output_type": "stream",
     "text": [
      "epoch: 4, [batch: 4784 / 6835], examples_per_second: 2316.0386, train_label_loss: 0.0029, \n"
     ]
    },
    {
     "name": "stdout",
     "output_type": "stream",
     "text": [
      "epoch: 4, [batch: 5468 / 6835], examples_per_second: 2299.3646, train_label_loss: 0.2238, \n"
     ]
    },
    {
     "name": "stdout",
     "output_type": "stream",
     "text": [
      "epoch: 4, [batch: 6151 / 6835], examples_per_second: 2577.0918, train_label_loss: 0.0128, \n"
     ]
    },
    {
     "name": "stdout",
     "output_type": "stream",
     "text": [
      "=============================================================\n",
      "epoch: 4, source_val_acc_label: 0.9730, target_val_acc_label: 0.1416, source_val_label_loss: 0.1234, target_val_label_loss: 2.8314, \n",
      "=============================================================\n"
     ]
    },
    {
     "name": "stdout",
     "output_type": "stream",
     "text": [
      "epoch: 5, [batch: 1 / 6849], examples_per_second: 2.1509, train_label_loss: 0.0248, \n"
     ]
    },
    {
     "name": "stdout",
     "output_type": "stream",
     "text": [
      "epoch: 5, [batch: 685 / 6849], examples_per_second: 2286.7008, train_label_loss: 0.0112, \n"
     ]
    },
    {
     "name": "stdout",
     "output_type": "stream",
     "text": [
      "epoch: 5, [batch: 1370 / 6849], examples_per_second: 2325.0621, train_label_loss: 0.0753, \n"
     ]
    },
    {
     "name": "stdout",
     "output_type": "stream",
     "text": [
      "epoch: 5, [batch: 2055 / 6849], examples_per_second: 2585.1903, train_label_loss: 0.1246, \n"
     ]
    },
    {
     "name": "stdout",
     "output_type": "stream",
     "text": [
      "epoch: 5, [batch: 2740 / 6849], examples_per_second: 2566.0278, train_label_loss: 0.0909, \n"
     ]
    },
    {
     "name": "stdout",
     "output_type": "stream",
     "text": [
      "epoch: 5, [batch: 3425 / 6849], examples_per_second: 2523.7906, train_label_loss: 0.1373, \n"
     ]
    },
    {
     "name": "stdout",
     "output_type": "stream",
     "text": [
      "epoch: 5, [batch: 4109 / 6849], examples_per_second: 2315.6584, train_label_loss: 0.0129, \n"
     ]
    },
    {
     "name": "stdout",
     "output_type": "stream",
     "text": [
      "epoch: 5, [batch: 4794 / 6849], examples_per_second: 2285.1750, train_label_loss: 0.0567, \n"
     ]
    },
    {
     "name": "stdout",
     "output_type": "stream",
     "text": [
      "epoch: 5, [batch: 5479 / 6849], examples_per_second: 2368.0623, train_label_loss: 0.0023, \n"
     ]
    },
    {
     "name": "stdout",
     "output_type": "stream",
     "text": [
      "epoch: 5, [batch: 6164 / 6849], examples_per_second: 2620.4260, train_label_loss: 0.0069, \n"
     ]
    },
    {
     "name": "stdout",
     "output_type": "stream",
     "text": [
      "=============================================================\n",
      "epoch: 5, source_val_acc_label: 0.9721, target_val_acc_label: 0.1339, source_val_label_loss: 0.1282, target_val_label_loss: 2.8603, \n",
      "=============================================================\n"
     ]
    },
    {
     "name": "stdout",
     "output_type": "stream",
     "text": [
      "epoch: 6, [batch: 1 / 6851], examples_per_second: 2.3899, train_label_loss: 0.0813, \n"
     ]
    },
    {
     "name": "stdout",
     "output_type": "stream",
     "text": [
      "epoch: 6, [batch: 686 / 6851], examples_per_second: 2642.8976, train_label_loss: 0.3639, \n"
     ]
    },
    {
     "name": "stdout",
     "output_type": "stream",
     "text": [
      "epoch: 6, [batch: 1371 / 6851], examples_per_second: 2935.0183, train_label_loss: 0.0061, \n"
     ]
    },
    {
     "name": "stdout",
     "output_type": "stream",
     "text": [
      "epoch: 6, [batch: 2056 / 6851], examples_per_second: 3028.1875, train_label_loss: 0.1862, \n"
     ]
    },
    {
     "name": "stdout",
     "output_type": "stream",
     "text": [
      "epoch: 6, [batch: 2741 / 6851], examples_per_second: 2987.3021, train_label_loss: 0.0014, \n"
     ]
    },
    {
     "name": "stdout",
     "output_type": "stream",
     "text": [
      "epoch: 6, [batch: 3426 / 6851], examples_per_second: 3009.2270, train_label_loss: 0.0043, \n"
     ]
    },
    {
     "name": "stdout",
     "output_type": "stream",
     "text": [
      "epoch: 6, [batch: 4111 / 6851], examples_per_second: 2355.7866, train_label_loss: 0.0013, \n"
     ]
    },
    {
     "name": "stdout",
     "output_type": "stream",
     "text": [
      "epoch: 6, [batch: 4796 / 6851], examples_per_second: 2284.6771, train_label_loss: 0.2023, \n"
     ]
    },
    {
     "name": "stdout",
     "output_type": "stream",
     "text": [
      "epoch: 6, [batch: 5481 / 6851], examples_per_second: 2395.7261, train_label_loss: 0.0004, \n"
     ]
    },
    {
     "name": "stdout",
     "output_type": "stream",
     "text": [
      "epoch: 6, [batch: 6166 / 6851], examples_per_second: 2637.3543, train_label_loss: 0.1035, \n"
     ]
    },
    {
     "name": "stdout",
     "output_type": "stream",
     "text": [
      "=============================================================\n",
      "epoch: 6, source_val_acc_label: 0.9720, target_val_acc_label: 0.1188, source_val_label_loss: 0.1300, target_val_label_loss: 3.2643, \n",
      "=============================================================\n"
     ]
    },
    {
     "name": "stdout",
     "output_type": "stream",
     "text": [
      "Patience (3) exhausted\n"
     ]
    }
   ],
   "source": [
    "###################################\n",
    "# train\n",
    "###################################\n",
    "jig = PTN_Train_Eval_Test_Jig(model, p.BEST_MODEL_PATH, p.device)\n",
    "\n",
    "jig.train(\n",
    "    train_iterable=datasets.source.processed.train,\n",
    "    source_val_iterable=datasets.source.processed.val,\n",
    "    target_val_iterable=datasets.target.processed.val,\n",
    "    num_epochs=p.n_epoch,\n",
    "    num_logs_per_epoch=p.NUM_LOGS_PER_EPOCH,\n",
    "    patience=p.patience,\n",
    "    optimizer=optimizer,\n",
    "    criteria_for_best=p.criteria_for_best,\n",
    ")"
   ]
  },
  {
   "cell_type": "code",
   "execution_count": 23,
   "id": "31e8fabf",
   "metadata": {
    "execution": {
     "iopub.execute_input": "2022-03-21T14:42:01.573495Z",
     "iopub.status.busy": "2022-03-21T14:42:01.572652Z",
     "iopub.status.idle": "2022-03-21T14:42:01.605215Z",
     "shell.execute_reply": "2022-03-21T14:42:01.604463Z"
    },
    "papermill": {
     "duration": 0.08058,
     "end_time": "2022-03-21T14:42:01.605401",
     "exception": false,
     "start_time": "2022-03-21T14:42:01.524821",
     "status": "completed"
    },
    "tags": []
   },
   "outputs": [],
   "source": [
    "total_experiment_time_secs = time.time() - start_time_secs"
   ]
  },
  {
   "cell_type": "code",
   "execution_count": 24,
   "id": "87b9595b",
   "metadata": {
    "execution": {
     "iopub.execute_input": "2022-03-21T14:42:01.708002Z",
     "iopub.status.busy": "2022-03-21T14:42:01.707103Z",
     "iopub.status.idle": "2022-03-21T14:46:21.344445Z",
     "shell.execute_reply": "2022-03-21T14:46:21.345149Z"
    },
    "papermill": {
     "duration": 259.690464,
     "end_time": "2022-03-21T14:46:21.345411",
     "exception": false,
     "start_time": "2022-03-21T14:42:01.654947",
     "status": "completed"
    },
    "tags": []
   },
   "outputs": [],
   "source": [
    "###################################\n",
    "# Evaluate the model\n",
    "###################################\n",
    "source_test_label_accuracy, source_test_label_loss = jig.test(datasets.source.processed.test)\n",
    "target_test_label_accuracy, target_test_label_loss = jig.test(datasets.target.processed.test)\n",
    "\n",
    "source_val_label_accuracy, source_val_label_loss = jig.test(datasets.source.processed.val)\n",
    "target_val_label_accuracy, target_val_label_loss = jig.test(datasets.target.processed.val)\n",
    "\n",
    "history = jig.get_history()\n",
    "\n",
    "total_epochs_trained = len(history[\"epoch_indices\"])\n",
    "\n",
    "val_dl = Iterable_Aggregator((datasets.source.original.val,datasets.target.original.val))\n",
    "\n",
    "confusion = ptn_confusion_by_domain_over_dataloader(model, p.device, val_dl)\n",
    "per_domain_accuracy = per_domain_accuracy_from_confusion(confusion)\n",
    "\n",
    "# Add a key to per_domain_accuracy for if it was a source domain\n",
    "for domain, accuracy in per_domain_accuracy.items():\n",
    "    per_domain_accuracy[domain] = {\n",
    "        \"accuracy\": accuracy,\n",
    "        \"source?\": domain in p.domains_source\n",
    "    }\n",
    "\n",
    "# Do an independent accuracy assesment JUST TO BE SURE!\n",
    "# _source_test_label_accuracy = independent_accuracy_assesment(model, datasets.source.processed.test, p.device)\n",
    "# _target_test_label_accuracy = independent_accuracy_assesment(model, datasets.target.processed.test, p.device)\n",
    "# _source_val_label_accuracy = independent_accuracy_assesment(model, datasets.source.processed.val, p.device)\n",
    "# _target_val_label_accuracy = independent_accuracy_assesment(model, datasets.target.processed.val, p.device)\n",
    "\n",
    "# assert(_source_test_label_accuracy == source_test_label_accuracy)\n",
    "# assert(_target_test_label_accuracy == target_test_label_accuracy)\n",
    "# assert(_source_val_label_accuracy == source_val_label_accuracy)\n",
    "# assert(_target_val_label_accuracy == target_val_label_accuracy)\n",
    "\n",
    "experiment = {\n",
    "    \"experiment_name\": p.experiment_name,\n",
    "    \"parameters\": dict(p),\n",
    "    \"results\": {\n",
    "        \"source_test_label_accuracy\": source_test_label_accuracy,\n",
    "        \"source_test_label_loss\": source_test_label_loss,\n",
    "        \"target_test_label_accuracy\": target_test_label_accuracy,\n",
    "        \"target_test_label_loss\": target_test_label_loss,\n",
    "        \"source_val_label_accuracy\": source_val_label_accuracy,\n",
    "        \"source_val_label_loss\": source_val_label_loss,\n",
    "        \"target_val_label_accuracy\": target_val_label_accuracy,\n",
    "        \"target_val_label_loss\": target_val_label_loss,\n",
    "        \"total_epochs_trained\": total_epochs_trained,\n",
    "        \"total_experiment_time_secs\": total_experiment_time_secs,\n",
    "        \"confusion\": confusion,\n",
    "        \"per_domain_accuracy\": per_domain_accuracy,\n",
    "    },\n",
    "    \"history\": history,\n",
    "    \"dataset_metrics\": get_dataset_metrics(datasets, \"ptn\"),\n",
    "}"
   ]
  },
  {
   "cell_type": "code",
   "execution_count": 25,
   "id": "54a21829",
   "metadata": {
    "execution": {
     "iopub.execute_input": "2022-03-21T14:46:21.443266Z",
     "iopub.status.busy": "2022-03-21T14:46:21.442760Z",
     "iopub.status.idle": "2022-03-21T14:46:21.658990Z",
     "shell.execute_reply": "2022-03-21T14:46:21.659488Z"
    },
    "papermill": {
     "duration": 0.265469,
     "end_time": "2022-03-21T14:46:21.659701",
     "exception": false,
     "start_time": "2022-03-21T14:46:21.394232",
     "status": "completed"
    },
    "tags": []
   },
   "outputs": [
    {
     "data": {
      "image/png": "[encoded data removed]",
      "text/plain": [
       "<Figure size 1080x504 with 1 Axes>"
      ]
     },
     "metadata": {
      "needs_background": "light"
     },
     "output_type": "display_data"
    }
   ],
   "source": [
    "ax = get_loss_curve(experiment)\n",
    "plt.show()"
   ]
  },
  {
   "cell_type": "code",
   "execution_count": 26,
   "id": "fd8a0f60",
   "metadata": {
    "execution": {
     "iopub.execute_input": "2022-03-21T14:46:21.751593Z",
     "iopub.status.busy": "2022-03-21T14:46:21.751199Z",
     "iopub.status.idle": "2022-03-21T14:46:22.089547Z",
     "shell.execute_reply": "2022-03-21T14:46:22.089855Z"
    },
    "papermill": {
     "duration": 0.385319,
     "end_time": "2022-03-21T14:46:22.089969",
     "exception": false,
     "start_time": "2022-03-21T14:46:21.704650",
     "status": "completed"
    },
    "tags": []
   },
   "outputs": [
    {
     "data": {
      "text/plain": [
       "<AxesSubplot:title={'center':'Results'}>"
      ]
     },
     "execution_count": 26,
     "metadata": {},
     "output_type": "execute_result"
    },
    {
     "data": {
      "image/png": "[encoded data removed]",
      "text/plain": [
       "<Figure size 1080x504 with 1 Axes>"
      ]
     },
     "metadata": {
      "needs_background": "light"
     },
     "output_type": "display_data"
    }
   ],
   "source": [
    "get_results_table(experiment)"
   ]
  },
  {
   "cell_type": "code",
   "execution_count": 27,
   "id": "cf8dc689",
   "metadata": {
    "execution": {
     "iopub.execute_input": "2022-03-21T14:46:22.184623Z",
     "iopub.status.busy": "2022-03-21T14:46:22.183704Z",
     "iopub.status.idle": "2022-03-21T14:46:22.440506Z",
     "shell.execute_reply": "2022-03-21T14:46:22.441208Z"
    },
    "papermill": {
     "duration": 0.306394,
     "end_time": "2022-03-21T14:46:22.441426",
     "exception": false,
     "start_time": "2022-03-21T14:46:22.135032",
     "status": "completed"
    },
    "tags": []
   },
   "outputs": [
    {
     "data": {
      "text/plain": [
       "<AxesSubplot:title={'center':'Per Domain Validation Accuracy'}, xlabel='domain'>"
      ]
     },
     "execution_count": 27,
     "metadata": {},
     "output_type": "execute_result"
    },
    {
     "data": {
      "image/png": "[encoded data removed]",
      "text/plain": [
       "<Figure size 1080x504 with 1 Axes>"
      ]
     },
     "metadata": {
      "needs_background": "light"
     },
     "output_type": "display_data"
    }
   ],
   "source": [
    "get_domain_accuracies(experiment)"
   ]
  },
  {
   "cell_type": "code",
   "execution_count": 28,
   "id": "a74ae082",
   "metadata": {
    "execution": {
     "iopub.execute_input": "2022-03-21T14:46:22.541980Z",
     "iopub.status.busy": "2022-03-21T14:46:22.541329Z",
     "iopub.status.idle": "2022-03-21T14:46:22.569234Z",
     "shell.execute_reply": "2022-03-21T14:46:22.568516Z"
    },
    "papermill": {
     "duration": 0.078137,
     "end_time": "2022-03-21T14:46:22.569392",
     "exception": false,
     "start_time": "2022-03-21T14:46:22.491255",
     "status": "completed"
    },
    "tags": []
   },
   "outputs": [
    {
     "name": "stdout",
     "output_type": "stream",
     "text": [
      "Source Test Label Accuracy: 0.9679437564499485 Target Test Label Accuracy: 0.20244140625\n",
      "Source Val Label Accuracy: 0.9689809926082366 Target Val Label Accuracy: 0.20472005208333333\n"
     ]
    }
   ],
   "source": [
    "print(\"Source Test Label Accuracy:\", experiment[\"results\"][\"source_test_label_accuracy\"], \"Target Test Label Accuracy:\", experiment[\"results\"][\"target_test_label_accuracy\"])\n",
    "print(\"Source Val Label Accuracy:\", experiment[\"results\"][\"source_val_label_accuracy\"], \"Target Val Label Accuracy:\", experiment[\"results\"][\"target_val_label_accuracy\"])"
   ]
  },
  {
   "cell_type": "code",
   "execution_count": 29,
   "id": "dacca602",
   "metadata": {
    "execution": {
     "iopub.execute_input": "2022-03-21T14:46:22.669663Z",
     "iopub.status.busy": "2022-03-21T14:46:22.669100Z",
     "iopub.status.idle": "2022-03-21T14:46:22.695155Z",
     "shell.execute_reply": "2022-03-21T14:46:22.695852Z"
    },
    "papermill": {
     "duration": 0.076887,
     "end_time": "2022-03-21T14:46:22.696037",
     "exception": false,
     "start_time": "2022-03-21T14:46:22.619150",
     "status": "completed"
    },
    "tags": [
     "experiment_json"
    ]
   },
   "outputs": [
    {
     "data": {
      "text/plain": [
       "'{\"experiment_name\": \"tl_1v2:wisig-oracle.run1.framed\", \"parameters\": {\"experiment_name\": \"tl_1v2:wisig-oracle.run1.framed\", \"device\": \"cuda\", \"lr\": 0.0001, \"n_shot\": 3, \"n_query\": 2, \"train_k_factor\": 3, \"val_k_factor\": 2, \"test_k_factor\": 2, \"torch_default_dtype\": \"torch.float32\", \"n_epoch\": 50, \"patience\": 3, \"criteria_for_best\": \"target_accuracy\", \"x_net\": [{\"class\": \"nnReshape\", \"kargs\": {\"shape\": [-1, 1, 2, 256]}}, {\"class\": \"Conv2d\", \"kargs\": {\"in_channels\": 1, \"out_channels\": 256, \"kernel_size\": [1, 7], \"bias\": false, \"padding\": [0, 3]}}, {\"class\": \"ReLU\", \"kargs\": {\"inplace\": true}}, {\"class\": \"BatchNorm2d\", \"kargs\": {\"num_features\": 256}}, {\"class\": \"Conv2d\", \"kargs\": {\"in_channels\": 256, \"out_channels\": 80, \"kernel_size\": [2, 7], \"bias\": true, \"padding\": [0, 3]}}, {\"class\": \"ReLU\", \"kargs\": {\"inplace\": true}}, {\"class\": \"BatchNorm2d\", \"kargs\": {\"num_features\": 80}}, {\"class\": \"Flatten\", \"kargs\": {}}, {\"class\": \"Linear\", \"kargs\": {\"in_features\": 20480, \"out_features\": 256}}, {\"class\": \"ReLU\", \"kargs\": {\"inplace\": true}}, {\"class\": \"BatchNorm1d\", \"kargs\": {\"num_features\": 256}}, {\"class\": \"Linear\", \"kargs\": {\"in_features\": 256, \"out_features\": 256}}], \"NUM_LOGS_PER_EPOCH\": 10, \"BEST_MODEL_PATH\": \"./best_model.pth\", \"n_way\": 16, \"datasets\": [{\"labels\": [\"1-10\", \"1-12\", \"1-14\", \"1-16\", \"1-18\", \"1-19\", \"1-8\", \"10-11\", \"10-17\", \"10-4\", \"10-7\", \"11-1\", \"11-10\", \"11-19\", \"11-20\", \"11-4\", \"11-7\", \"12-19\", \"12-20\", \"12-7\", \"13-14\", \"13-18\", \"13-19\", \"13-20\", \"13-3\", \"13-7\", \"14-10\", \"14-11\", \"14-12\", \"14-13\", \"14-14\", \"14-19\", \"14-20\", \"14-7\", \"14-8\", \"14-9\", \"15-1\", \"15-19\", \"15-6\", \"16-1\", \"16-16\", \"16-19\", \"16-20\", \"17-10\", \"17-11\", \"18-1\", \"18-10\", \"18-11\", \"18-12\", \"18-13\", \"18-14\", \"18-15\", \"18-16\", \"18-17\", \"18-19\", \"18-2\", \"18-20\", \"18-4\", \"18-5\", \"18-7\", \"18-8\", \"18-9\", \"19-1\", \"19-10\", \"19-11\", \"19-12\", \"19-13\", \"19-14\", \"19-15\", \"19-19\", \"19-2\", \"19-20\", \"19-3\", \"19-4\", \"19-6\", \"19-7\", \"19-8\", \"19-9\", \"2-1\", \"2-13\", \"2-15\", \"2-3\", \"2-4\", \"2-5\", \"2-6\", \"2-7\", \"2-8\", \"20-1\", \"20-12\", \"20-14\", \"20-15\", \"20-16\", \"20-18\", \"20-19\", \"20-20\", \"20-3\", \"20-4\", \"20-5\", \"20-7\", \"20-8\", \"3-1\", \"3-13\", \"3-18\", \"3-2\", \"3-8\", \"4-1\", \"4-10\", \"4-11\", \"5-1\", \"5-5\", \"6-1\", \"6-15\", \"6-6\", \"7-10\", \"7-11\", \"7-12\", \"7-13\", \"7-14\", \"7-7\", \"7-8\", \"7-9\", \"8-1\", \"8-13\", \"8-14\", \"8-18\", \"8-20\", \"8-3\", \"8-8\", \"9-1\", \"9-7\"], \"domains\": [1, 2, 3, 4], \"num_examples_per_domain_per_label\": -1, \"pickle_path\": \"/root/csc500-main/datasets/wisig.node3-19.stratified_ds.2022A.pkl\", \"source_or_target_dataset\": \"source\", \"x_transforms\": [\"unit_mag\"], \"episode_transforms\": [], \"domain_prefix\": \"Wisig_\"}, {\"labels\": [\"3123D52\", \"3123D65\", \"3123D79\", \"3123D80\", \"3123D54\", \"3123D70\", \"3123D7B\", \"3123D89\", \"3123D58\", \"3123D76\", \"3123D7D\", \"3123EFE\", \"3123D64\", \"3123D78\", \"3123D7E\", \"3124E4A\"], \"domains\": [32, 38, 8, 44, 14, 50, 20, 26], \"num_examples_per_domain_per_label\": 2000, \"pickle_path\": \"/root/csc500-main/datasets/oracle.Run1_framed_2000Examples_stratified_ds.2022A.pkl\", \"source_or_target_dataset\": \"target\", \"x_transforms\": [\"unit_mag\"], \"episode_transforms\": [], \"domain_prefix\": \"ORACLE.run1\"}], \"dataset_seed\": 7, \"seed\": 7, \"x_shape\": [2, 256], \"domains_source\": [\"Wisig_1\", \"Wisig_2\", \"Wisig_3\", \"Wisig_4\"], \"domains_target\": [\"ORACLE.run132\", \"ORACLE.run138\", \"ORACLE.run18\", \"ORACLE.run144\", \"ORACLE.run114\", \"ORACLE.run150\", \"ORACLE.run120\", \"ORACLE.run126\"]}, \"results\": {\"source_test_label_accuracy\": 0.9679437564499485, \"source_test_label_loss\": 0.14034400880336761, \"target_test_label_accuracy\": 0.20244140625, \"target_test_label_loss\": 2.436887264251709, \"source_val_label_accuracy\": 0.9689809926082366, \"source_val_label_loss\": 0.13744215667247772, \"target_val_label_accuracy\": 0.20472005208333333, \"target_val_label_loss\": 2.4374959468841553, \"total_epochs_trained\": 6, \"total_experiment_time_secs\": 1673.215614080429, \"confusion\": {\"Wisig_4\": {\"71\": {\"71\": 103, \"70\": 1}, \"17\": {\"17\": 20}, \"105\": {\"105\": 84, \"69\": 2, \"118\": 3, \"43\": 1, \"40\": 3, \"87\": 3, \"88\": 1, \"111\": 1, \"26\": 1, \"60\": 1}, \"92\": {\"92\": 27, \"15\": 1}, \"100\": {\"100\": 20}, \"6\": {\"6\": 24}, \"36\": {\"36\": 123, \"24\": 3, \"70\": 1, \"1\": 1}, \"35\": {\"35\": 12}, \"63\": {\"63\": 16}, \"104\": {\"104\": 16}, \"114\": {\"114\": 124, \"94\": 1, \"33\": 1, \"3\": 1, \"105\": 1}, \"68\": {\"68\": 16}, \"109\": {\"109\": 114, \"84\": 1, \"88\": 1}, \"27\": {\"27\": 93, \"12\": 1, \"78\": 1, \"108\": 1, \"73\": 1, \"7\": 1, \"88\": 1, \"0\": 1}, \"79\": {\"79\": 16}, \"0\": {\"0\": 96, \"69\": 1, \"106\": 1, \"118\": 1, \"101\": 2, \"84\": 1, \"27\": 2, \"1\": 1, \"4\": 1}, \"28\": {\"28\": 19, \"0\": 1}, \"4\": {\"4\": 101, \"21\": 1, \"108\": 1, \"106\": 1}, \"106\": {\"106\": 98, \"21\": 1, \"39\": 2, \"108\": 1}, \"40\": {\"40\": 131, \"16\": 1, \"69\": 1, \"12\": 1}, \"127\": {\"127\": 106, \"83\": 1, \"12\": 1}, \"57\": {\"57\": 14, \"127\": 2}, \"60\": {\"60\": 30, \"19\": 2}, \"69\": {\"69\": 120, \"84\": 1, \"1\": 1, \"126\": 1, \"3\": 1}, \"84\": {\"84\": 128, \"108\": 1, \"78\": 1, \"121\": 1, \"3\": 1}, \"24\": {\"24\": 110, \"12\": 1, \"111\": 1, \"10\": 1, \"88\": 1, \"70\": 1, \"36\": 3, \"4\": 1, \"127\": 1}, \"94\": {\"84\": 1, \"94\": 85, \"102\": 1, \"26\": 1}, \"7\": {\"7\": 114, \"69\": 2, \"40\": 1, \"108\": 1, \"95\": 1, \"27\": 1}, \"96\": {\"96\": 16, \"84\": 1, \"89\": 1, \"82\": 1, \"2\": 1}, \"116\": {\"116\": 27, \"122\": 1}, \"47\": {\"47\": 9, \"68\": 2, \"65\": 1}, \"119\": {\"119\": 15, \"25\": 1}, \"74\": {\"74\": 15, \"73\": 1}, \"93\": {\"93\": 151, \"0\": 1}, \"2\": {\"93\": 1, \"2\": 25, \"26\": 2}, \"37\": {\"37\": 15, \"127\": 1}, \"15\": {\"15\": 125, \"26\": 1, \"12\": 1, \"110\": 1}, \"102\": {\"102\": 136}, \"87\": {\"87\": 117, \"70\": 1, \"105\": 1, \"18\": 1, \"118\": 1, \"43\": 1}, \"107\": {\"107\": 142, \"72\": 1, \"105\": 1}, \"61\": {\"61\": 14, \"84\": 1, \"21\": 1}, \"78\": {\"78\": 32, \"74\": 1, \"50\": 1, \"84\": 1, \"105\": 1}, \"9\": {\"9\": 28}, \"32\": {\"32\": 25, \"55\": 1, \"45\": 1, \"14\": 1}, \"14\": {\"14\": 111, \"78\": 1}, \"62\": {\"62\": 55, \"88\": 2, \"27\": 1, \"12\": 1, \"69\": 1}, \"1\": {\"24\": 1, \"1\": 98, \"101\": 2, \"118\": 1}, \"23\": {\"23\": 9, \"60\": 1, \"110\": 2, \"63\": 1, \"35\": 1, \"73\": 1, \"12\": 1}, \"95\": {\"95\": 31, \"1\": 1}, \"56\": {\"56\": 12}, \"91\": {\"91\": 21, \"34\": 1, \"29\": 1, \"85\": 1}, \"34\": {\"34\": 25, \"91\": 2, \"60\": 1, \"85\": 1, \"54\": 2, \"43\": 1}, \"25\": {\"25\": 16}, \"33\": {\"33\": 123, \"7\": 1}, \"16\": {\"16\": 118, \"69\": 1, \"8\": 1, \"118\": 1, \"18\": 1, \"12\": 1, \"33\": 1}, \"26\": {\"26\": 123, \"1\": 1, \"3\": 1, \"18\": 1}, \"5\": {\"5\": 128, \"16\": 1, \"93\": 2, \"15\": 1, \"53\": 1, \"71\": 1, \"105\": 1, \"108\": 1}, \"123\": {\"123\": 15, \"16\": 1}, \"8\": {\"8\": 118}, \"83\": {\"83\": 26, \"29\": 1, \"105\": 1}, \"125\": {\"125\": 134}, \"51\": {\"51\": 12, \"23\": 1, \"47\": 1, \"71\": 1, \"78\": 1}, \"22\": {\"22\": 16}, \"54\": {\"54\": 16}, \"66\": {\"66\": 16}, \"59\": {\"59\": 9, \"51\": 1, \"6\": 1, \"11\": 1}, \"111\": {\"111\": 126, \"5\": 1, \"11\": 1}, \"77\": {\"77\": 12}, \"103\": {\"103\": 16}, \"20\": {\"20\": 15, \"43\": 1}, \"124\": {\"124\": 118, \"0\": 1, \"98\": 1}, \"99\": {\"99\": 39, \"69\": 1}, \"120\": {\"84\": 1, \"120\": 18, \"21\": 1}, \"76\": {\"76\": 15, \"81\": 1}, \"110\": {\"110\": 111, \"26\": 1, \"122\": 1, \"68\": 1, \"105\": 2}, \"29\": {\"29\": 31, \"4\": 1}, \"118\": {\"118\": 105, \"12\": 1, \"71\": 1, \"106\": 1, \"78\": 2, \"21\": 1, \"11\": 1}, \"58\": {\"58\": 14, \"84\": 1, \"88\": 1}, \"13\": {\"13\": 15, \"119\": 1}, \"89\": {\"89\": 32}, \"31\": {\"31\": 15, \"95\": 1}, \"64\": {\"64\": 15, \"85\": 1}, \"65\": {\"65\": 12}, \"101\": {\"101\": 129, \"95\": 1, \"0\": 1, \"127\": 1}, \"126\": {\"126\": 116, \"111\": 1, \"122\": 1}, \"108\": {\"108\": 78, \"23\": 1, \"8\": 1, \"33\": 1, \"1\": 1, \"0\": 1, \"118\": 1, \"88\": 4, \"114\": 1, \"27\": 1, \"2\": 1, \"107\": 1}, \"45\": {\"45\": 16}, \"21\": {\"21\": 35, \"108\": 1, \"1\": 1, \"39\": 1, \"43\": 1, \"78\": 1}, \"30\": {\"30\": 74, \"39\": 1, \"127\": 1}, \"82\": {\"82\": 31, \"98\": 1}, \"85\": {\"85\": 28}, \"88\": {\"88\": 123, \"39\": 1, \"114\": 1, \"70\": 1, \"11\": 1, \"118\": 2, \"15\": 1, \"105\": 1, \"102\": 1}, \"41\": {\"41\": 15, \"88\": 1}, \"128\": {\"128\": 21, \"8\": 2, \"72\": 1}, \"39\": {\"39\": 93, \"16\": 1, \"102\": 1, \"69\": 1, \"126\": 1, \"129\": 1, \"72\": 1, \"113\": 1}, \"18\": {\"18\": 113, \"69\": 1, \"70\": 1, \"5\": 1, \"108\": 1, \"43\": 1, \"84\": 1, \"3\": 1}, \"113\": {\"113\": 122, \"114\": 1, \"84\": 1, \"26\": 1, \"41\": 1, \"68\": 1, \"69\": 1}, \"11\": {\"11\": 134, \"70\": 2, \"1\": 1, \"43\": 1}, \"43\": {\"43\": 115, \"71\": 1, \"87\": 3, \"105\": 1}, \"12\": {\"12\": 97, \"116\": 1, \"110\": 1, \"69\": 1}, \"122\": {\"122\": 79, \"105\": 1, \"24\": 1, \"109\": 1, \"88\": 1, \"84\": 1}, \"52\": {\"52\": 20}, \"44\": {\"44\": 62, \"65\": 1, \"98\": 1}, \"90\": {\"90\": 133, \"106\": 1}, \"112\": {\"112\": 15, \"42\": 1}, \"86\": {\"86\": 28}, \"3\": {\"3\": 114, \"84\": 1, \"1\": 1}, \"38\": {\"38\": 16}, \"121\": {\"38\": 2, \"121\": 24, \"44\": 3, \"51\": 2, \"74\": 1}, \"46\": {\"46\": 19, \"59\": 1}, \"70\": {\"70\": 122, \"106\": 1, \"11\": 1}, \"67\": {\"67\": 14, \"113\": 2}, \"53\": {\"53\": 16}, \"49\": {\"49\": 30, \"70\": 1, \"19\": 1}, \"42\": {\"42\": 25, \"9\": 1, \"8\": 2}, \"10\": {\"10\": 113, \"15\": 1, \"111\": 1, \"108\": 1, \"12\": 1, \"127\": 1}, \"50\": {\"50\": 16}, \"73\": {\"73\": 23, \"125\": 1}, \"115\": {\"115\": 13, \"29\": 1, \"0\": 1, \"78\": 1}, \"80\": {\"80\": 15, \"51\": 1}, \"19\": {\"19\": 26, \"26\": 1, \"27\": 1}, \"55\": {\"55\": 16}, \"72\": {\"72\": 31, \"51\": 1}, \"117\": {\"117\": 116}, \"81\": {\"81\": 33, \"72\": 1, \"69\": 1, \"78\": 1}, \"75\": {\"75\": 16}, \"98\": {\"98\": 116, \"30\": 1, \"14\": 1, \"25\": 2}, \"48\": {\"48\": 16}, \"129\": {\"129\": 27, \"0\": 1}, \"97\": {\"97\": 18, \"16\": 1, \"94\": 1}}, \"Wisig_1\": {\"105\": {\"105\": 83, \"40\": 1}, \"100\": {\"100\": 16}, \"112\": {\"112\": 16}, \"123\": {\"123\": 16}, \"13\": {\"13\": 16}, \"81\": {\"81\": 28}, \"124\": {\"124\": 119, \"125\": 1}, \"122\": {\"122\": 88}, \"111\": {\"111\": 118, \"87\": 1, \"70\": 1}, \"93\": {\"93\": 155, \"87\": 1, \"43\": 1, \"4\": 1}, \"106\": {\"106\": 115, \"127\": 1, \"33\": 1, \"108\": 1}, \"113\": {\"113\": 122, \"109\": 1, \"16\": 1}, \"95\": {\"95\": 36}, \"87\": {\"87\": 105, \"118\": 1, \"93\": 1, \"26\": 1}, \"86\": {\"86\": 35, \"71\": 1}, \"67\": {\"67\": 16}, \"85\": {\"85\": 32}, \"82\": {\"82\": 36}, \"115\": {\"115\": 12}, \"7\": {\"7\": 142}, \"44\": {\"44\": 76}, \"65\": {\"65\": 11, \"74\": 1}, \"129\": {\"129\": 26, \"27\": 1, \"101\": 1}, \"42\": {\"42\": 24, \"60\": 2, \"64\": 1, \"86\": 1}, \"28\": {\"112\": 1, \"28\": 18, \"24\": 1}, \"0\": {\"0\": 82, \"93\": 1, \"105\": 1}, \"10\": {\"10\": 119, \"85\": 1}, \"76\": {\"76\": 15, \"36\": 1}, \"88\": {\"88\": 123, \"36\": 3}, \"29\": {\"29\": 28}, \"16\": {\"16\": 105, \"43\": 1, \"73\": 1, \"69\": 1}, \"41\": {\"41\": 16}, \"27\": {\"27\": 92}, \"33\": {\"33\": 118, \"91\": 1, \"87\": 1}, \"75\": {\"75\": 16}, \"48\": {\"48\": 12}, \"56\": {\"56\": 11, \"32\": 1}, \"9\": {\"9\": 31, \"26\": 1}, \"1\": {\"1\": 125, \"109\": 1}, \"39\": {\"39\": 103, \"102\": 1}, \"50\": {\"33\": 2, \"50\": 12, \"43\": 1, \"10\": 1}, \"99\": {\"99\": 23, \"129\": 1}, \"90\": {\"90\": 122}, \"45\": {\"104\": 1, \"45\": 8, \"112\": 1, \"115\": 1, \"21\": 1}, \"5\": {\"5\": 88}, \"128\": {\"128\": 24}, \"2\": {\"2\": 28, \"82\": 1, \"45\": 1, \"34\": 1, \"100\": 1}, \"53\": {\"53\": 20}, \"104\": {\"104\": 16}, \"32\": {\"32\": 32}, \"92\": {\"92\": 28}, \"78\": {\"95\": 1, \"78\": 14, \"21\": 1}, \"19\": {\"19\": 28}, \"120\": {\"120\": 19, \"121\": 1}, \"43\": {\"43\": 123, \"12\": 2, \"106\": 1, \"70\": 1, \"84\": 1}, \"74\": {\"74\": 16}, \"11\": {\"11\": 129, \"16\": 1}, \"26\": {\"26\": 130, \"70\": 1, \"69\": 1}, \"125\": {\"125\": 132}, \"64\": {\"64\": 16}, \"127\": {\"127\": 106, \"69\": 1, \"94\": 1}, \"83\": {\"83\": 27, \"12\": 1}, \"118\": {\"118\": 83, \"93\": 1}, \"103\": {\"103\": 15, \"104\": 1}, \"55\": {\"55\": 12}, \"110\": {\"110\": 126}, \"30\": {\"30\": 51, \"62\": 1}, \"51\": {\"51\": 16}, \"6\": {\"6\": 28, \"52\": 1, \"91\": 2, \"59\": 1}, \"96\": {\"96\": 18, \"12\": 1, \"126\": 1}, \"114\": {\"114\": 142, \"93\": 1, \"39\": 1}, \"69\": {\"69\": 108}, \"60\": {\"60\": 11, \"100\": 1, \"34\": 1, \"57\": 1, \"17\": 1, \"123\": 1}, \"94\": {\"94\": 92}, \"79\": {\"79\": 12}, \"126\": {\"126\": 132, \"12\": 1, \"73\": 1}, \"68\": {\"68\": 16}, \"72\": {\"72\": 32}, \"63\": {\"63\": 16}, \"22\": {\"22\": 15, \"6\": 1}, \"121\": {\"121\": 31, \"69\": 1}, \"71\": {\"71\": 101, \"52\": 2, \"70\": 1, \"106\": 1, \"43\": 1, \"110\": 1, \"26\": 1}, \"54\": {\"54\": 15, \"70\": 1}, \"102\": {\"102\": 119, \"17\": 1}, \"73\": {\"73\": 17, \"71\": 1, \"10\": 1, \"104\": 1}, \"38\": {\"38\": 16}, \"4\": {\"4\": 95, \"105\": 2, \"102\": 1, \"69\": 2}, \"52\": {\"52\": 20}, \"70\": {\"70\": 125, \"12\": 1, \"83\": 1, \"62\": 1}, \"91\": {\"91\": 25, \"42\": 1, \"58\": 2}, \"77\": {\"77\": 15, \"61\": 1}, \"20\": {\"20\": 16}, \"59\": {\"59\": 12}, \"40\": {\"40\": 134, \"118\": 1, \"111\": 1}, \"98\": {\"98\": 108}, \"46\": {\"46\": 7, \"94\": 1, \"59\": 2, \"53\": 1, \"54\": 1}, \"34\": {\"34\": 31, \"116\": 1}, \"24\": {\"24\": 89, \"47\": 1, \"3\": 1, \"39\": 1}, \"62\": {\"62\": 118, \"74\": 1, \"82\": 1}, \"14\": {\"14\": 96}, \"12\": {\"12\": 100, \"121\": 1, \"95\": 1, \"69\": 1, \"27\": 1}, \"84\": {\"84\": 131, \"107\": 1, \"26\": 1, \"70\": 1}, \"37\": {\"37\": 16}, \"97\": {\"97\": 20}, \"57\": {\"57\": 11, \"89\": 1}, \"49\": {\"49\": 17, \"70\": 1, \"111\": 1, \"21\": 1}, \"17\": {\"17\": 14, \"2\": 1, \"71\": 1}, \"109\": {\"109\": 106}, \"80\": {\"80\": 16}, \"66\": {\"66\": 16}, \"101\": {\"101\": 123, \"105\": 1}, \"89\": {\"89\": 34, \"95\": 1, \"42\": 1}, \"31\": {\"31\": 16}, \"21\": {\"94\": 1, \"21\": 33, \"128\": 1, \"12\": 1, \"73\": 1, \"110\": 1, \"122\": 1, \"105\": 1}, \"23\": {\"23\": 20, \"70\": 1, \"91\": 1, \"52\": 2}, \"25\": {\"25\": 15, \"30\": 1}, \"107\": {\"107\": 110, \"40\": 1, \"105\": 1}, \"3\": {\"3\": 84, \"71\": 1, \"122\": 1, \"127\": 1, \"69\": 1}, \"61\": {\"61\": 11, \"10\": 1}, \"117\": {\"117\": 125, \"102\": 1}, \"119\": {\"119\": 15, \"0\": 1}, \"58\": {\"58\": 12}, \"47\": {\"47\": 12}, \"116\": {\"116\": 30, \"87\": 1, \"33\": 1}, \"18\": {\"18\": 122, \"33\": 1, \"2\": 1}, \"36\": {\"36\": 117, \"82\": 1, \"70\": 1, \"88\": 2, \"71\": 1}, \"108\": {\"108\": 112}, \"15\": {\"15\": 103, \"87\": 1}, \"8\": {\"8\": 114}, \"35\": {\"35\": 12}}, \"Wisig_2\": {\"3\": {\"3\": 128, \"26\": 1, \"61\": 1, \"39\": 1, \"70\": 1}, \"127\": {\"127\": 119, \"110\": 1}, \"58\": {\"58\": 20}, \"114\": {\"114\": 110, \"46\": 1, \"69\": 1}, \"111\": {\"111\": 142, \"15\": 1, \"40\": 1}, \"105\": {\"105\": 131, \"111\": 1}, \"118\": {\"114\": 1, \"118\": 64, \"127\": 1, \"13\": 1, \"36\": 1}, \"23\": {\"23\": 43, \"113\": 1}, \"21\": {\"21\": 40, \"114\": 1, \"12\": 1, \"17\": 1, \"69\": 1, \"31\": 1, \"85\": 1, \"24\": 1, \"71\": 1}, \"20\": {\"20\": 15, \"21\": 1}, \"75\": {\"75\": 15, \"99\": 1}, \"86\": {\"86\": 32}, \"60\": {\"60\": 24, \"57\": 1, \"115\": 1, \"87\": 1, \"17\": 1}, \"69\": {\"69\": 134, \"87\": 1, \"18\": 1, \"43\": 1, \"117\": 1, \"94\": 1, \"70\": 1}, \"99\": {\"99\": 31, \"68\": 1}, \"14\": {\"14\": 40, \"81\": 1, \"116\": 1, \"127\": 1, \"110\": 1, \"107\": 1, \"71\": 2, \"73\": 1}, \"25\": {\"25\": 15, \"18\": 1}, \"52\": {\"52\": 20}, \"47\": {\"47\": 9, \"49\": 1, \"72\": 1, \"14\": 1}, \"48\": {\"48\": 19, \"101\": 1}, \"27\": {\"27\": 60, \"78\": 1, \"87\": 1, \"24\": 1, \"84\": 1, \"114\": 1, \"94\": 1, \"85\": 1, \"62\": 1}, \"78\": {\"78\": 45, \"87\": 1, \"105\": 1, \"70\": 1}, \"8\": {\"8\": 119, \"118\": 1, \"69\": 1, \"11\": 1}, \"90\": {\"90\": 157, \"129\": 1, \"34\": 1, \"61\": 1}, \"103\": {\"103\": 16}, \"120\": {\"120\": 20}, \"96\": {\"96\": 20}, \"30\": {\"30\": 100, \"7\": 1, \"59\": 1, \"80\": 1, \"24\": 1}, \"33\": {\"33\": 146}, \"35\": {\"35\": 12}, \"108\": {\"108\": 116}, \"112\": {\"112\": 16}, \"40\": {\"40\": 131, \"21\": 1, \"4\": 1, \"62\": 1, \"94\": 1, \"70\": 1, \"127\": 2, \"12\": 1, \"18\": 1}, \"102\": {\"102\": 113, \"30\": 1, \"122\": 1, \"69\": 1}, \"56\": {\"56\": 12}, \"93\": {\"93\": 134, \"39\": 1, \"69\": 1}, \"68\": {\"68\": 15, \"107\": 1}, \"70\": {\"70\": 120, \"111\": 1, \"16\": 1, \"19\": 1, \"26\": 1}, \"7\": {\"7\": 123, \"118\": 1}, \"87\": {\"87\": 100, \"4\": 1, \"3\": 1, \"2\": 1, \"43\": 2, \"53\": 1, \"39\": 1, \"69\": 2, \"33\": 1, \"40\": 1, \"114\": 1}, \"54\": {\"56\": 1, \"54\": 19}, \"71\": {\"71\": 93, \"3\": 2, \"127\": 1, \"30\": 1, \"39\": 2, \"21\": 1}, \"80\": {\"80\": 16}, \"18\": {\"18\": 121, \"26\": 1}, \"101\": {\"101\": 120, \"78\": 1, \"79\": 1}, \"92\": {\"92\": 27, \"18\": 1}, \"32\": {\"32\": 35, \"127\": 1}, \"128\": {\"101\": 1, \"128\": 23}, \"6\": {\"6\": 31, \"103\": 1}, \"51\": {\"51\": 17, \"125\": 1, \"6\": 1, \"70\": 1}, \"85\": {\"85\": 31, \"110\": 1}, \"46\": {\"46\": 16}, \"22\": {\"22\": 20}, \"1\": {\"1\": 117, \"69\": 2, \"26\": 1, \"78\": 1, \"87\": 1}, \"37\": {\"37\": 16}, \"44\": {\"44\": 97, \"73\": 1, \"87\": 1, \"118\": 1}, \"24\": {\"24\": 103, \"13\": 1, \"62\": 2, \"39\": 1, \"26\": 1, \"21\": 1, \"15\": 1, \"110\": 1, \"122\": 1}, \"9\": {\"9\": 32}, \"116\": {\"87\": 1, \"116\": 23, \"109\": 1, \"60\": 1, \"1\": 2}, \"64\": {\"64\": 16}, \"129\": {\"129\": 32}, \"42\": {\"112\": 2, \"42\": 23, \"69\": 1, \"84\": 1, \"107\": 1}, \"117\": {\"117\": 119, \"69\": 1}, \"88\": {\"88\": 116, \"122\": 1, \"126\": 1, \"111\": 2, \"71\": 1, \"72\": 1, \"33\": 1, \"69\": 1}, \"31\": {\"31\": 20}, \"113\": {\"113\": 71, \"53\": 1}, \"38\": {\"38\": 16}, \"83\": {\"83\": 38, \"31\": 1, \"30\": 1}, \"49\": {\"49\": 21, \"11\": 1, \"71\": 1, \"47\": 1}, \"97\": {\"97\": 18, \"15\": 1, \"94\": 1}, \"76\": {\"76\": 16}, \"29\": {\"29\": 32}, \"61\": {\"61\": 20}, \"125\": {\"125\": 147, \"121\": 1}, \"126\": {\"126\": 118, \"110\": 1, \"26\": 1}, \"55\": {\"55\": 16}, \"0\": {\"0\": 103, \"27\": 1, \"101\": 1, \"118\": 1, \"111\": 1, \"18\": 1}, \"15\": {\"15\": 116, \"36\": 1, \"40\": 1, \"0\": 1, \"24\": 1}, \"26\": {\"26\": 134, \"40\": 1, \"69\": 1, \"0\": 1, \"12\": 1}, \"63\": {\"63\": 20}, \"57\": {\"57\": 20}, \"39\": {\"39\": 109, \"27\": 1, \"84\": 1, \"69\": 1}, \"62\": {\"62\": 135, \"39\": 1, \"69\": 1, \"60\": 1, \"14\": 1, \"102\": 1}, \"82\": {\"82\": 34, \"87\": 2}, \"11\": {\"11\": 78, \"1\": 1, \"69\": 1}, \"4\": {\"4\": 87, \"53\": 1}, \"41\": {\"41\": 20}, \"72\": {\"72\": 27, \"14\": 1}, \"16\": {\"16\": 119, \"15\": 1, \"39\": 1, \"110\": 1, \"93\": 1, \"88\": 1}, \"81\": {\"81\": 22, \"62\": 1, \"118\": 1}, \"67\": {\"67\": 16}, \"123\": {\"123\": 16}, \"66\": {\"66\": 19, \"86\": 1}, \"36\": {\"36\": 119, \"1\": 1, \"127\": 1, \"43\": 1, \"87\": 1, \"122\": 1, \"17\": 1, \"21\": 1, \"129\": 1, \"69\": 1}, \"115\": {\"115\": 11, \"21\": 1}, \"77\": {\"77\": 16}, \"119\": {\"119\": 20}, \"65\": {\"65\": 19, \"49\": 1}, \"34\": {\"34\": 30, \"6\": 1, \"86\": 1}, \"107\": {\"107\": 60, \"69\": 1, \"10\": 1, \"70\": 1, \"101\": 1}, \"13\": {\"13\": 16}, \"110\": {\"25\": 1, \"110\": 36, \"68\": 1, \"12\": 1, \"106\": 1}, \"106\": {\"106\": 115, \"40\": 1, \"122\": 1, \"69\": 1}, \"89\": {\"89\": 36}, \"94\": {\"94\": 55, \"122\": 1, \"87\": 1, \"21\": 1, \"24\": 1, \"69\": 1, \"81\": 1, \"71\": 1, \"49\": 1, \"88\": 1}, \"98\": {\"98\": 109, \"121\": 1, \"12\": 1, \"21\": 1}, \"91\": {\"91\": 26, \"41\": 1, \"117\": 1}, \"84\": {\"84\": 89, \"43\": 2, \"88\": 1}, \"73\": {\"118\": 1, \"73\": 27}, \"104\": {\"104\": 17, \"52\": 1, \"118\": 1, \"122\": 1}, \"59\": {\"59\": 15, \"68\": 1}, \"74\": {\"74\": 16}, \"28\": {\"28\": 19, \"68\": 1}, \"95\": {\"95\": 35, \"105\": 1}, \"2\": {\"2\": 31, \"85\": 1}, \"5\": {\"5\": 109, \"71\": 1, \"88\": 1, \"122\": 1}, \"50\": {\"50\": 15, \"69\": 1}, \"109\": {\"109\": 98, \"87\": 1, \"26\": 1}, \"10\": {\"10\": 57, \"40\": 1, \"26\": 1, \"62\": 1}, \"45\": {\"45\": 14, \"116\": 1, \"31\": 1}, \"121\": {\"121\": 29, \"28\": 1, \"23\": 1, \"18\": 1, \"38\": 1, \"65\": 1, \"37\": 2}, \"124\": {\"124\": 110}, \"53\": {\"105\": 1, \"53\": 13, \"12\": 1, \"25\": 1}, \"79\": {\"79\": 16}, \"43\": {\"43\": 110, \"26\": 1, \"122\": 1, \"101\": 1, \"16\": 1}, \"122\": {\"122\": 131, \"118\": 1, \"111\": 1, \"70\": 2, \"88\": 1, \"39\": 1, \"69\": 1}, \"100\": {\"100\": 16}, \"19\": {\"19\": 28}, \"12\": {\"12\": 84, \"127\": 2, \"70\": 1, \"69\": 1}, \"17\": {\"17\": 15, \"68\": 1}}, \"Wisig_3\": {\"38\": {\"38\": 16}, \"88\": {\"88\": 107, \"62\": 1, \"70\": 2, \"25\": 1, \"5\": 1}, \"104\": {\"104\": 16}, \"11\": {\"11\": 139, \"107\": 1}, \"103\": {\"103\": 15, \"62\": 1}, \"124\": {\"124\": 115, \"90\": 1}, \"3\": {\"3\": 112, \"43\": 1, \"105\": 2, \"62\": 1}, \"74\": {\"74\": 15, \"25\": 1}, \"126\": {\"126\": 119, \"39\": 1, \"8\": 1, \"127\": 1}, \"123\": {\"123\": 16}, \"51\": {\"51\": 15, \"111\": 1}, \"14\": {\"14\": 80}, \"16\": {\"16\": 113, \"111\": 1, \"26\": 1, \"114\": 1}, \"22\": {\"22\": 16}, \"109\": {\"109\": 122}, \"27\": {\"27\": 94, \"36\": 1, \"87\": 1}, \"75\": {\"75\": 16}, \"66\": {\"66\": 16}, \"48\": {\"48\": 13, \"53\": 3}, \"6\": {\"6\": 31, \"34\": 1}, \"10\": {\"10\": 110, \"16\": 1, \"70\": 1}, \"99\": {\"99\": 35, \"35\": 1}, \"50\": {\"50\": 16}, \"54\": {\"54\": 16}, \"55\": {\"55\": 16}, \"53\": {\"53\": 20}, \"72\": {\"72\": 28}, \"64\": {\"64\": 20}, \"115\": {\"72\": 1, \"115\": 15}, \"23\": {\"23\": 29, \"63\": 1, \"52\": 1, \"47\": 1}, \"32\": {\"32\": 32}, \"15\": {\"15\": 101, \"88\": 1, \"127\": 1, \"53\": 1}, \"43\": {\"43\": 50, \"21\": 4, \"84\": 1, \"33\": 1}, \"114\": {\"114\": 122, \"26\": 1, \"10\": 1}, \"121\": {\"23\": 2, \"121\": 27, \"91\": 2, \"80\": 1}, \"79\": {\"79\": 12}, \"81\": {\"81\": 32}, \"8\": {\"8\": 127, \"108\": 1}, \"13\": {\"121\": 1, \"13\": 13, \"16\": 1, \"103\": 1}, \"90\": {\"90\": 156}, \"41\": {\"23\": 1, \"41\": 15}, \"107\": {\"107\": 136}, \"57\": {\"57\": 20}, \"33\": {\"33\": 119, \"92\": 1}, \"35\": {\"35\": 12}, \"29\": {\"29\": 31, \"60\": 1}, \"70\": {\"70\": 67, \"84\": 1, \"105\": 1, \"69\": 1, \"110\": 1, \"8\": 1}, \"42\": {\"70\": 1, \"42\": 25, \"23\": 1, \"49\": 1}, \"93\": {\"93\": 126}, \"86\": {\"86\": 28}, \"28\": {\"28\": 16}, \"1\": {\"1\": 105, \"26\": 1, \"101\": 1, \"102\": 1}, \"125\": {\"125\": 121, \"30\": 1, \"111\": 1, \"88\": 1}, \"69\": {\"69\": 83, \"70\": 1}, \"97\": {\"97\": 20}, \"117\": {\"117\": 112}, \"68\": {\"68\": 16}, \"30\": {\"30\": 81, \"2\": 1, \"21\": 1, \"105\": 1}, \"111\": {\"111\": 132}, \"47\": {\"47\": 12}, \"102\": {\"102\": 124}, \"65\": {\"65\": 12}, \"113\": {\"113\": 117, \"106\": 1, \"10\": 1, \"33\": 1}, \"36\": {\"36\": 112, \"27\": 1, \"70\": 1}, \"119\": {\"119\": 16}, \"46\": {\"46\": 16}, \"49\": {\"49\": 21, \"70\": 1, \"0\": 1, \"75\": 1}, \"0\": {\"0\": 115, \"114\": 1}, \"58\": {\"58\": 15, \"103\": 1}, \"63\": {\"63\": 16}, \"94\": {\"94\": 84}, \"17\": {\"17\": 10, \"113\": 1, \"122\": 1, \"86\": 2, \"116\": 1, \"92\": 1}, \"9\": {\"9\": 31, \"6\": 1}, \"87\": {\"87\": 120}, \"59\": {\"59\": 11, \"30\": 1}, \"105\": {\"105\": 120}, \"80\": {\"80\": 15, \"85\": 1}, \"120\": {\"120\": 18, \"92\": 1, \"81\": 1}, \"18\": {\"18\": 129, \"34\": 1, \"127\": 1, \"90\": 1}, \"78\": {\"78\": 15, \"82\": 1}, \"25\": {\"25\": 16}, \"19\": {\"19\": 32}, \"122\": {\"122\": 56, \"114\": 2, \"71\": 1, \"70\": 1}, \"39\": {\"39\": 107, \"126\": 1}, \"76\": {\"76\": 16}, \"89\": {\"89\": 28}, \"129\": {\"129\": 31, \"110\": 1}, \"26\": {\"26\": 97, \"114\": 1, \"70\": 1, \"108\": 1}, \"85\": {\"85\": 36}, \"71\": {\"71\": 67, \"5\": 1}, \"77\": {\"77\": 16}, \"128\": {\"128\": 32}, \"2\": {\"2\": 27, \"26\": 1}, \"56\": {\"56\": 12}, \"24\": {\"24\": 48}, \"101\": {\"26\": 1, \"101\": 50, \"9\": 1}, \"52\": {\"52\": 16}, \"84\": {\"84\": 107, \"39\": 1}, \"7\": {\"7\": 109, \"84\": 1, \"8\": 1, \"69\": 1}, \"82\": {\"82\": 28}, \"60\": {\"60\": 27, \"87\": 1}, \"45\": {\"116\": 1, \"45\": 13, \"18\": 1, \"73\": 1}, \"40\": {\"40\": 124}, \"20\": {\"20\": 16}, \"4\": {\"4\": 96}, \"116\": {\"116\": 28}, \"61\": {\"61\": 16}, \"5\": {\"5\": 110, \"70\": 1, \"39\": 1}, \"106\": {\"106\": 99, \"19\": 1}, \"12\": {\"12\": 104}, \"62\": {\"62\": 118, \"69\": 1, \"105\": 1}, \"34\": {\"34\": 30, \"115\": 1, \"89\": 1}, \"91\": {\"91\": 24}, \"112\": {\"112\": 15, \"12\": 1}, \"92\": {\"92\": 32}, \"95\": {\"95\": 32}, \"96\": {\"96\": 20}, \"127\": {\"127\": 105, \"26\": 2, \"69\": 1}, \"67\": {\"67\": 15, \"114\": 1}, \"83\": {\"83\": 24}, \"21\": {\"43\": 2, \"21\": 38, \"78\": 1, \"0\": 1, \"69\": 1, \"127\": 1, \"94\": 2, \"35\": 1, \"88\": 1}, \"98\": {\"98\": 123, \"44\": 1}, \"108\": {\"108\": 130, \"8\": 2}, \"31\": {\"31\": 20}, \"118\": {\"118\": 100}, \"110\": {\"110\": 92}, \"73\": {\"73\": 40}, \"44\": {\"44\": 70, \"11\": 2}, \"37\": {\"37\": 15, \"39\": 1}, \"100\": {\"100\": 16}}, \"ORACLE.run126\": {\"0\": {\"3\": 14, \"1\": 22, \"10\": 24, \"14\": 26, \"15\": 11, \"6\": 13, \"7\": 24, \"2\": 9, \"12\": 11, \"9\": 5, \"5\": 7, \"0\": 25, \"8\": 17, \"4\": 23, \"13\": 7, \"11\": 2}, \"4\": {\"14\": 31, \"1\": 30, \"10\": 20, \"0\": 22, \"6\": 15, \"7\": 14, \"3\": 21, \"4\": 25, \"8\": 19, \"2\": 14, \"12\": 7, \"9\": 5, \"13\": 3, \"5\": 6, \"11\": 1, \"15\": 7}, \"14\": {\"3\": 12, \"9\": 10, \"1\": 31, \"0\": 32, \"14\": 24, \"7\": 19, \"6\": 18, \"10\": 24, \"4\": 29, \"8\": 15, \"15\": 6, \"2\": 9, \"5\": 3, \"11\": 1, \"12\": 7}, \"12\": {\"9\": 23, \"3\": 4, \"15\": 20, \"13\": 20, \"8\": 13, \"12\": 53, \"10\": 11, \"6\": 13, \"0\": 14, \"7\": 13, \"2\": 8, \"4\": 4, \"11\": 25, \"5\": 14, \"1\": 3, \"14\": 2}, \"8\": {\"12\": 15, \"8\": 15, \"4\": 19, \"14\": 18, \"7\": 23, \"15\": 20, \"5\": 10, \"6\": 19, \"10\": 20, \"2\": 14, \"3\": 7, \"1\": 15, \"0\": 24, \"13\": 7, \"11\": 3, \"9\": 11}, \"7\": {\"0\": 10, \"14\": 22, \"3\": 18, \"15\": 16, \"4\": 25, \"6\": 16, \"5\": 12, \"2\": 15, \"7\": 29, \"12\": 11, \"9\": 14, \"10\": 25, \"8\": 7, \"1\": 16, \"11\": 1, \"13\": 3}, \"13\": {\"12\": 22, \"7\": 9, \"11\": 32, \"5\": 31, \"2\": 19, \"9\": 21, \"13\": 42, \"6\": 9, \"15\": 25, \"8\": 7, \"10\": 3, \"0\": 4, \"3\": 11, \"4\": 5}, \"5\": {\"12\": 18, \"0\": 7, \"7\": 16, \"9\": 18, \"10\": 6, \"3\": 25, \"5\": 27, \"11\": 13, \"14\": 5, \"13\": 21, \"8\": 8, \"15\": 28, \"2\": 25, \"1\": 3, \"4\": 7, \"6\": 13}, \"15\": {\"7\": 18, \"15\": 24, \"11\": 10, \"5\": 21, \"6\": 14, \"3\": 19, \"10\": 16, \"2\": 20, \"4\": 11, \"12\": 18, \"1\": 6, \"8\": 10, \"13\": 20, \"9\": 15, \"0\": 10, \"14\": 8}, \"10\": {\"15\": 13, \"10\": 22, \"4\": 25, \"6\": 25, \"3\": 14, \"14\": 26, \"12\": 9, \"0\": 18, \"8\": 20, \"2\": 10, \"9\": 10, \"7\": 19, \"13\": 7, \"1\": 16, \"5\": 6}, \"3\": {\"5\": 13, \"14\": 30, \"7\": 14, \"2\": 18, \"4\": 12, \"15\": 27, \"10\": 14, \"3\": 30, \"0\": 10, \"13\": 19, \"9\": 11, \"12\": 7, \"6\": 14, \"1\": 7, \"8\": 13, \"11\": 1}, \"9\": {\"7\": 25, \"11\": 12, \"5\": 15, \"15\": 21, \"6\": 15, \"9\": 32, \"3\": 14, \"4\": 9, \"12\": 15, \"13\": 22, \"8\": 12, \"10\": 17, \"1\": 5, \"14\": 6, \"0\": 6, \"2\": 14}, \"6\": {\"4\": 17, \"15\": 35, \"9\": 15, \"5\": 12, \"6\": 23, \"3\": 18, \"10\": 20, \"7\": 10, \"8\": 20, \"12\": 15, \"2\": 12, \"13\": 11, \"1\": 9, \"0\": 12, \"11\": 5, \"14\": 6}, \"1\": {\"4\": 23, \"3\": 12, \"14\": 35, \"15\": 7, \"10\": 24, \"6\": 11, \"5\": 2, \"7\": 27, \"1\": 35, \"0\": 22, \"8\": 19, \"12\": 8, \"9\": 7, \"13\": 2, \"2\": 6}, \"11\": {\"11\": 108, \"12\": 33, \"15\": 12, \"2\": 3, \"0\": 3, \"3\": 1, \"13\": 41, \"9\": 11, \"5\": 19, \"8\": 2, \"6\": 5, \"10\": 1, \"4\": 1}, \"2\": {\"14\": 8, \"9\": 17, \"7\": 25, \"15\": 18, \"6\": 28, \"3\": 21, \"1\": 8, \"4\": 9, \"5\": 19, \"0\": 10, \"11\": 7, \"8\": 13, \"2\": 24, \"10\": 16, \"12\": 9, \"13\": 8}}, \"ORACLE.run144\": {\"1\": {\"12\": 60, \"3\": 42, \"9\": 7, \"2\": 22, \"1\": 46, \"7\": 25, \"5\": 2, \"10\": 27, \"4\": 3, \"13\": 3, \"14\": 2, \"6\": 1}, \"11\": {\"6\": 54, \"11\": 108, \"13\": 41, \"10\": 8, \"5\": 1, \"2\": 10, \"7\": 10, \"9\": 6, \"4\": 2}, \"3\": {\"4\": 22, \"2\": 6, \"0\": 2, \"14\": 15, \"10\": 14, \"3\": 72, \"1\": 50, \"12\": 30, \"7\": 12, \"9\": 7, \"5\": 3, \"15\": 5, \"13\": 2}, \"6\": {\"1\": 6, \"13\": 50, \"6\": 59, \"2\": 21, \"11\": 37, \"7\": 26, \"9\": 24, \"10\": 13, \"12\": 1, \"4\": 2, \"5\": 1}, \"7\": {\"2\": 41, \"4\": 5, \"9\": 36, \"12\": 20, \"6\": 15, \"13\": 25, \"7\": 39, \"11\": 9, \"10\": 24, \"3\": 6, \"1\": 15, \"5\": 1, \"14\": 4}, \"5\": {\"4\": 48, \"3\": 3, \"5\": 60, \"8\": 30, \"15\": 24, \"14\": 45, \"0\": 24, \"1\": 2, \"11\": 2, \"7\": 1, \"13\": 1}, \"2\": {\"10\": 28, \"13\": 29, \"2\": 35, \"9\": 29, \"6\": 11, \"7\": 45, \"1\": 22, \"3\": 9, \"12\": 25, \"11\": 3, \"14\": 1, \"5\": 1, \"4\": 2}, \"15\": {\"3\": 7, \"8\": 52, \"5\": 30, \"0\": 54, \"15\": 45, \"4\": 19, \"14\": 30, \"12\": 1, \"1\": 2}, \"10\": {\"7\": 30, \"1\": 35, \"9\": 26, \"12\": 39, \"10\": 34, \"13\": 15, \"11\": 6, \"2\": 33, \"6\": 7, \"14\": 2, \"3\": 11, \"4\": 2}, \"13\": {\"2\": 21, \"4\": 8, \"13\": 53, \"10\": 16, \"9\": 35, \"6\": 39, \"14\": 3, \"11\": 29, \"7\": 30, \"5\": 2, \"12\": 2, \"1\": 2}, \"8\": {\"15\": 56, \"8\": 86, \"5\": 20, \"0\": 64, \"14\": 11, \"4\": 3}, \"4\": {\"7\": 9, \"3\": 25, \"14\": 43, \"15\": 20, \"9\": 17, \"4\": 46, \"1\": 13, \"0\": 11, \"5\": 29, \"12\": 2, \"2\": 8, \"8\": 7, \"13\": 6, \"11\": 1, \"6\": 1, \"10\": 2}, \"9\": {\"2\": 28, \"4\": 7, \"6\": 16, \"9\": 48, \"13\": 34, \"1\": 11, \"10\": 25, \"7\": 41, \"12\": 10, \"11\": 9, \"3\": 4, \"5\": 2, \"14\": 5}, \"14\": {\"4\": 43, \"2\": 2, \"15\": 31, \"13\": 1, \"5\": 41, \"3\": 13, \"14\": 59, \"10\": 2, \"12\": 3, \"1\": 6, \"6\": 2, \"8\": 7, \"9\": 7, \"7\": 8, \"0\": 15}, \"0\": {\"8\": 62, \"0\": 68, \"15\": 53, \"14\": 16, \"5\": 37, \"4\": 4}, \"12\": {\"3\": 34, \"12\": 69, \"2\": 22, \"10\": 34, \"7\": 19, \"1\": 44, \"14\": 1, \"9\": 8, \"13\": 2, \"6\": 1, \"5\": 2, \"4\": 4}}, \"ORACLE.run150\": {\"15\": {\"15\": 36, \"10\": 8, \"11\": 32, \"4\": 29, \"1\": 33, \"6\": 22, \"13\": 17, \"9\": 21, \"7\": 11, \"8\": 1, \"14\": 4, \"5\": 19, \"12\": 4, \"2\": 1, \"0\": 2}, \"4\": {\"4\": 41, \"11\": 17, \"5\": 29, \"6\": 25, \"1\": 24, \"13\": 26, \"7\": 26, \"15\": 28, \"14\": 1, \"0\": 2, \"10\": 7, \"9\": 7, \"8\": 3, \"2\": 1, \"12\": 2, \"3\": 1}, \"6\": {\"1\": 38, \"7\": 21, \"6\": 28, \"15\": 23, \"5\": 24, \"13\": 21, \"4\": 25, \"14\": 7, \"11\": 16, \"0\": 8, \"10\": 13, \"3\": 2, \"9\": 6, \"12\": 3, \"2\": 2, \"8\": 3}, \"2\": {\"9\": 4, \"12\": 26, \"14\": 36, \"2\": 67, \"0\": 53, \"13\": 3, \"10\": 20, \"8\": 18, \"3\": 3, \"1\": 2, \"6\": 1, \"7\": 2, \"4\": 1, \"11\": 2, \"15\": 2}, \"5\": {\"7\": 36, \"13\": 37, \"5\": 40, \"6\": 33, \"4\": 29, \"15\": 17, \"1\": 20, \"9\": 2, \"11\": 8, \"3\": 4, \"10\": 7, \"14\": 2, \"0\": 2, \"8\": 3}, \"9\": {\"11\": 39, \"6\": 4, \"9\": 61, \"12\": 22, \"1\": 25, \"4\": 9, \"13\": 7, \"15\": 26, \"14\": 24, \"7\": 3, \"5\": 8, \"2\": 6, \"8\": 1, \"0\": 2, \"10\": 3}, \"8\": {\"8\": 66, \"6\": 2, \"7\": 7, \"0\": 33, \"3\": 57, \"10\": 43, \"9\": 1, \"14\": 2, \"2\": 11, \"13\": 6, \"5\": 5, \"1\": 4, \"11\": 1, \"4\": 1, \"15\": 1}, \"12\": {\"14\": 50, \"12\": 66, \"11\": 17, \"9\": 33, \"1\": 16, \"0\": 13, \"2\": 28, \"15\": 5, \"6\": 3, \"13\": 3, \"4\": 2, \"5\": 3, \"8\": 1}, \"10\": {\"10\": 52, \"6\": 17, \"8\": 38, \"1\": 6, \"2\": 13, \"0\": 20, \"5\": 16, \"13\": 19, \"3\": 25, \"7\": 18, \"15\": 4, \"12\": 2, \"4\": 4, \"11\": 4, \"14\": 2}, \"1\": {\"7\": 18, \"1\": 21, \"12\": 7, \"6\": 29, \"0\": 6, \"15\": 23, \"10\": 11, \"13\": 20, \"4\": 37, \"11\": 26, \"14\": 7, \"8\": 4, \"9\": 10, \"5\": 19, \"2\": 2}, \"0\": {\"8\": 38, \"6\": 2, \"2\": 52, \"12\": 6, \"0\": 53, \"10\": 33, \"7\": 6, \"1\": 4, \"5\": 6, \"9\": 4, \"14\": 16, \"3\": 8, \"15\": 2, \"13\": 6, \"11\": 2, \"4\": 2}, \"3\": {\"8\": 62, \"5\": 12, \"3\": 111, \"10\": 25, \"0\": 4, \"7\": 14, \"6\": 3, \"13\": 7, \"4\": 2}, \"13\": {\"1\": 28, \"6\": 26, \"4\": 30, \"5\": 29, \"7\": 39, \"11\": 8, \"15\": 15, \"12\": 1, \"10\": 17, \"13\": 22, \"9\": 6, \"0\": 10, \"3\": 3, \"8\": 4, \"2\": 2}, \"11\": {\"7\": 4, \"15\": 23, \"5\": 7, \"11\": 40, \"1\": 25, \"9\": 36, \"4\": 24, \"0\": 10, \"6\": 20, \"12\": 20, \"14\": 20, \"2\": 2, \"13\": 6, \"10\": 3}, \"7\": {\"7\": 38, \"3\": 8, \"6\": 20, \"4\": 22, \"13\": 35, \"8\": 13, \"15\": 14, \"5\": 36, \"1\": 16, \"10\": 23, \"11\": 4, \"0\": 7, \"12\": 2, \"2\": 1, \"9\": 1}, \"14\": {\"12\": 49, \"2\": 34, \"10\": 8, \"14\": 52, \"1\": 18, \"9\": 20, \"4\": 4, \"15\": 7, \"6\": 10, \"0\": 16, \"11\": 15, \"7\": 3, \"5\": 2, \"8\": 2}}, \"ORACLE.run138\": {\"15\": {\"6\": 26, \"13\": 31, \"11\": 3, \"9\": 12, \"15\": 47, \"1\": 22, \"8\": 23, \"0\": 7, \"5\": 16, \"2\": 30, \"7\": 4, \"10\": 8, \"14\": 7, \"3\": 4}, \"11\": {\"11\": 73, \"14\": 66, \"12\": 27, \"4\": 13, \"10\": 34, \"2\": 18, \"7\": 4, \"0\": 1, \"15\": 2, \"13\": 1, \"8\": 1}, \"10\": {\"13\": 16, \"11\": 24, \"7\": 23, \"10\": 37, \"14\": 48, \"2\": 17, \"1\": 3, \"5\": 14, \"12\": 11, \"8\": 19, \"0\": 16, \"3\": 2, \"15\": 8, \"4\": 2}, \"14\": {\"10\": 36, \"13\": 12, \"11\": 42, \"14\": 81, \"12\": 12, \"2\": 20, \"5\": 5, \"8\": 9, \"15\": 4, \"7\": 11, \"0\": 5, \"1\": 1, \"4\": 2}, \"6\": {\"9\": 48, \"6\": 65, \"1\": 43, \"8\": 18, \"15\": 7, \"13\": 15, \"0\": 3, \"3\": 14, \"5\": 19, \"2\": 5, \"7\": 1, \"14\": 1, \"10\": 1}, \"4\": {\"12\": 69, \"14\": 2, \"4\": 161, \"11\": 7, \"7\": 1}, \"13\": {\"2\": 32, \"8\": 16, \"1\": 30, \"13\": 44, \"10\": 11, \"9\": 8, \"15\": 30, \"0\": 17, \"5\": 23, \"14\": 5, \"7\": 8, \"6\": 11, \"3\": 3, \"11\": 2}, \"3\": {\"9\": 37, \"7\": 23, \"5\": 25, \"0\": 25, \"3\": 66, \"8\": 23, \"6\": 22, \"15\": 4, \"2\": 2, \"13\": 4, \"1\": 3, \"10\": 3, \"11\": 1, \"12\": 2}, \"7\": {\"10\": 28, \"0\": 41, \"5\": 15, \"7\": 62, \"8\": 30, \"14\": 18, \"11\": 5, \"3\": 17, \"9\": 3, \"15\": 3, \"12\": 8, \"13\": 3, \"2\": 4, \"6\": 3}, \"8\": {\"8\": 30, \"10\": 16, \"7\": 26, \"3\": 18, \"13\": 10, \"9\": 11, \"15\": 23, \"5\": 40, \"2\": 16, \"0\": 25, \"6\": 8, \"1\": 3, \"11\": 4, \"14\": 10}, \"1\": {\"15\": 33, \"2\": 12, \"1\": 75, \"6\": 41, \"9\": 27, \"10\": 1, \"8\": 11, \"13\": 26, \"5\": 6, \"0\": 1, \"3\": 4, \"7\": 2, \"14\": 1}, \"5\": {\"8\": 28, \"5\": 33, \"1\": 12, \"7\": 22, \"6\": 15, \"9\": 20, \"0\": 36, \"11\": 3, \"10\": 9, \"13\": 19, \"3\": 9, \"15\": 18, \"14\": 5, \"12\": 2, \"4\": 1, \"2\": 8}, \"0\": {\"7\": 39, \"0\": 39, \"10\": 25, \"9\": 5, \"13\": 10, \"5\": 27, \"8\": 23, \"14\": 14, \"3\": 18, \"2\": 7, \"12\": 3, \"11\": 7, \"1\": 5, \"6\": 9, \"15\": 9}, \"2\": {\"2\": 51, \"6\": 11, \"1\": 16, \"14\": 21, \"13\": 39, \"15\": 34, \"5\": 12, \"7\": 4, \"11\": 8, \"10\": 22, \"8\": 16, \"0\": 6}, \"12\": {\"12\": 140, \"0\": 6, \"10\": 16, \"11\": 12, \"4\": 52, \"7\": 3, \"14\": 10, \"5\": 1}, \"9\": {\"2\": 3, \"6\": 44, \"5\": 18, \"15\": 20, \"0\": 9, \"1\": 33, \"3\": 20, \"9\": 57, \"13\": 19, \"8\": 11, \"7\": 5, \"10\": 1}}, \"ORACLE.run120\": {\"10\": {\"7\": 14, \"8\": 20, \"6\": 32, \"4\": 31, \"0\": 9, \"14\": 38, \"10\": 46, \"5\": 9, \"3\": 10, \"9\": 6, \"1\": 1, \"2\": 4, \"15\": 4, \"11\": 2, \"12\": 13, \"13\": 1}, \"7\": {\"15\": 20, \"9\": 9, \"11\": 17, \"2\": 13, \"4\": 20, \"14\": 8, \"1\": 9, \"8\": 12, \"13\": 16, \"6\": 12, \"0\": 23, \"10\": 8, \"7\": 36, \"12\": 13, \"3\": 13, \"5\": 11}, \"4\": {\"5\": 14, \"4\": 28, \"6\": 31, \"3\": 13, \"8\": 27, \"14\": 27, \"10\": 27, \"9\": 8, \"12\": 12, \"15\": 5, \"2\": 10, \"0\": 5, \"1\": 6, \"7\": 18, \"13\": 8, \"11\": 1}, \"13\": {\"13\": 27, \"12\": 16, \"7\": 12, \"15\": 18, \"3\": 16, \"1\": 28, \"4\": 3, \"9\": 24, \"5\": 13, \"0\": 25, \"2\": 24, \"11\": 21, \"8\": 2, \"6\": 7, \"10\": 2, \"14\": 2}, \"1\": {\"13\": 16, \"2\": 13, \"15\": 26, \"4\": 8, \"12\": 21, \"5\": 20, \"3\": 20, \"0\": 28, \"7\": 13, \"1\": 26, \"11\": 7, \"9\": 22, \"10\": 5, \"8\": 6, \"6\": 6, \"14\": 3}, \"0\": {\"3\": 17, \"12\": 21, \"11\": 7, \"13\": 10, \"15\": 17, \"5\": 16, \"10\": 11, \"4\": 12, \"0\": 19, \"14\": 6, \"8\": 10, \"1\": 25, \"9\": 18, \"7\": 22, \"2\": 15, \"6\": 14}, \"12\": {\"1\": 23, \"5\": 11, \"15\": 18, \"0\": 15, \"8\": 12, \"9\": 23, \"3\": 17, \"2\": 16, \"12\": 23, \"6\": 14, \"13\": 12, \"4\": 12, \"10\": 10, \"14\": 7, \"7\": 20, \"11\": 7}, \"5\": {\"0\": 16, \"12\": 22, \"15\": 16, \"13\": 17, \"8\": 11, \"1\": 25, \"5\": 19, \"4\": 12, \"9\": 11, \"11\": 6, \"2\": 21, \"3\": 15, \"6\": 16, \"7\": 15, \"10\": 9, \"14\": 9}, \"6\": {\"8\": 28, \"3\": 18, \"4\": 23, \"10\": 28, \"14\": 31, \"9\": 8, \"11\": 4, \"15\": 4, \"7\": 23, \"6\": 34, \"0\": 6, \"1\": 4, \"5\": 8, \"12\": 10, \"2\": 9, \"13\": 2}, \"2\": {\"0\": 18, \"12\": 21, \"3\": 12, \"1\": 26, \"6\": 10, \"15\": 20, \"14\": 5, \"9\": 16, \"13\": 18, \"10\": 5, \"5\": 18, \"4\": 11, \"11\": 17, \"7\": 16, \"2\": 21, \"8\": 6}, \"8\": {\"13\": 6, \"8\": 27, \"6\": 24, \"10\": 27, \"1\": 10, \"0\": 17, \"14\": 20, \"7\": 21, \"12\": 8, \"9\": 12, \"5\": 14, \"4\": 21, \"2\": 8, \"15\": 5, \"3\": 19, \"11\": 1}, \"11\": {\"11\": 50, \"13\": 35, \"3\": 15, \"15\": 10, \"6\": 7, \"9\": 20, \"12\": 13, \"4\": 6, \"7\": 12, \"0\": 11, \"2\": 23, \"1\": 13, \"5\": 12, \"8\": 7, \"14\": 3, \"10\": 3}, \"9\": {\"5\": 20, \"13\": 23, \"2\": 24, \"7\": 14, \"1\": 13, \"3\": 22, \"12\": 18, \"0\": 17, \"9\": 20, \"6\": 13, \"8\": 11, \"11\": 14, \"4\": 7, \"15\": 13, \"10\": 8, \"14\": 3}, \"14\": {\"14\": 43, \"9\": 3, \"4\": 30, \"6\": 30, \"0\": 10, \"8\": 21, \"1\": 4, \"10\": 39, \"5\": 9, \"7\": 12, \"12\": 9, \"3\": 10, \"2\": 7, \"15\": 4, \"11\": 3, \"13\": 6}, \"15\": {\"12\": 22, \"9\": 22, \"15\": 31, \"1\": 18, \"14\": 2, \"13\": 29, \"3\": 18, \"11\": 12, \"2\": 18, \"5\": 20, \"0\": 19, \"4\": 9, \"10\": 1, \"7\": 11, \"8\": 5, \"6\": 3}, \"3\": {\"5\": 12, \"14\": 11, \"0\": 22, \"3\": 20, \"11\": 7, \"9\": 19, \"1\": 13, \"6\": 15, \"12\": 22, \"4\": 14, \"15\": 11, \"2\": 28, \"7\": 18, \"10\": 11, \"13\": 8, \"8\": 9}}, \"ORACLE.run114\": {\"14\": {\"13\": 35, \"7\": 3, \"5\": 14, \"4\": 18, \"6\": 36, \"14\": 35, \"15\": 10, \"0\": 16, \"11\": 16, \"10\": 21, \"9\": 5, \"2\": 18, \"3\": 10, \"1\": 3}, \"0\": {\"0\": 38, \"7\": 6, \"14\": 15, \"1\": 10, \"3\": 27, \"8\": 3, \"6\": 7, \"10\": 24, \"5\": 14, \"4\": 20, \"13\": 5, \"9\": 16, \"11\": 32, \"15\": 3, \"12\": 11, \"2\": 9}, \"4\": {\"0\": 21, \"15\": 15, \"2\": 12, \"10\": 17, \"7\": 25, \"4\": 36, \"1\": 19, \"5\": 30, \"6\": 10, \"12\": 3, \"13\": 10, \"3\": 18, \"14\": 6, \"11\": 11, \"9\": 4, \"8\": 3}, \"11\": {\"9\": 19, \"14\": 12, \"11\": 32, \"6\": 8, \"5\": 9, \"10\": 33, \"0\": 36, \"12\": 22, \"4\": 5, \"8\": 4, \"3\": 28, \"2\": 14, \"1\": 13, \"7\": 2, \"13\": 2, \"15\": 1}, \"13\": {\"15\": 18, \"13\": 34, \"6\": 48, \"14\": 42, \"4\": 6, \"10\": 13, \"7\": 8, \"5\": 6, \"2\": 38, \"3\": 9, \"0\": 5, \"9\": 1, \"1\": 1, \"11\": 11}, \"9\": {\"8\": 31, \"10\": 9, \"9\": 50, \"0\": 22, \"3\": 13, \"12\": 57, \"1\": 7, \"11\": 25, \"4\": 15, \"2\": 2, \"5\": 4, \"15\": 1, \"7\": 2, \"14\": 2}, \"3\": {\"5\": 30, \"13\": 10, \"3\": 15, \"0\": 20, \"1\": 14, \"11\": 23, \"2\": 18, \"10\": 18, \"15\": 7, \"9\": 10, \"14\": 11, \"12\": 11, \"6\": 11, \"4\": 23, \"7\": 18, \"8\": 1}, \"6\": {\"15\": 17, \"4\": 7, \"7\": 5, \"14\": 38, \"6\": 57, \"13\": 46, \"10\": 16, \"2\": 25, \"0\": 4, \"3\": 8, \"5\": 10, \"11\": 4, \"1\": 3}, \"1\": {\"7\": 24, \"1\": 37, \"9\": 15, \"0\": 23, \"2\": 6, \"8\": 16, \"15\": 9, \"6\": 3, \"4\": 33, \"5\": 24, \"10\": 10, \"13\": 3, \"14\": 5, \"11\": 14, \"3\": 15, \"12\": 3}, \"5\": {\"2\": 21, \"14\": 15, \"10\": 10, \"3\": 16, \"15\": 14, \"5\": 28, \"13\": 14, \"4\": 30, \"7\": 28, \"1\": 25, \"6\": 10, \"11\": 12, \"0\": 11, \"9\": 5, \"8\": 1}, \"12\": {\"9\": 69, \"0\": 12, \"5\": 5, \"8\": 25, \"3\": 7, \"12\": 91, \"10\": 5, \"11\": 19, \"1\": 5, \"4\": 1, \"14\": 1}, \"10\": {\"5\": 18, \"4\": 13, \"11\": 30, \"0\": 20, \"15\": 7, \"3\": 24, \"6\": 11, \"12\": 9, \"1\": 8, \"13\": 17, \"10\": 34, \"2\": 20, \"14\": 12, \"9\": 11, \"7\": 5, \"8\": 1}, \"8\": {\"1\": 27, \"9\": 50, \"8\": 77, \"12\": 21, \"0\": 13, \"4\": 13, \"5\": 8, \"7\": 13, \"3\": 11, \"11\": 5, \"10\": 2}, \"7\": {\"7\": 62, \"15\": 54, \"14\": 5, \"1\": 31, \"5\": 28, \"2\": 12, \"8\": 7, \"4\": 19, \"6\": 1, \"11\": 1, \"0\": 8, \"3\": 7, \"13\": 3, \"10\": 2}, \"15\": {\"13\": 9, \"7\": 45, \"2\": 18, \"15\": 59, \"5\": 16, \"1\": 13, \"6\": 15, \"4\": 23, \"0\": 4, \"14\": 11, \"10\": 12, \"3\": 10, \"11\": 4, \"8\": 1}, \"2\": {\"15\": 9, \"6\": 24, \"14\": 34, \"1\": 10, \"4\": 17, \"13\": 29, \"10\": 13, \"9\": 7, \"3\": 11, \"5\": 25, \"11\": 8, \"0\": 11, \"2\": 29, \"12\": 2, \"7\": 11}}, \"ORACLE.run132\": {\"11\": {\"14\": 30, \"11\": 39, \"8\": 10, \"3\": 11, \"0\": 25, \"7\": 34, \"2\": 30, \"13\": 20, \"5\": 20, \"4\": 12, \"12\": 3, \"9\": 6}, \"1\": {\"10\": 72, \"1\": 135, \"6\": 28, \"12\": 4, \"9\": 1}, \"2\": {\"0\": 27, \"4\": 36, \"13\": 14, \"9\": 26, \"2\": 28, \"11\": 22, \"7\": 30, \"5\": 14, \"3\": 5, \"8\": 5, \"14\": 27, \"12\": 5, \"6\": 1}, \"0\": {\"0\": 31, \"4\": 23, \"12\": 4, \"7\": 27, \"2\": 21, \"11\": 18, \"13\": 25, \"3\": 17, \"5\": 24, \"14\": 21, \"8\": 20, \"9\": 9}, \"3\": {\"5\": 25, \"13\": 35, \"11\": 13, \"8\": 46, \"3\": 76, \"15\": 10, \"7\": 7, \"0\": 16, \"14\": 6, \"4\": 5, \"9\": 1}, \"8\": {\"8\": 29, \"5\": 36, \"4\": 18, \"2\": 5, \"14\": 11, \"11\": 16, \"3\": 45, \"13\": 39, \"7\": 12, \"12\": 2, \"0\": 19, \"15\": 7, \"9\": 1}, \"12\": {\"10\": 36, \"6\": 28, \"12\": 97, \"9\": 52, \"2\": 9, \"5\": 4, \"1\": 3, \"4\": 5, \"14\": 1, \"13\": 1, \"7\": 1, \"0\": 2, \"8\": 1}, \"5\": {\"5\": 38, \"7\": 25, \"3\": 22, \"13\": 29, \"4\": 25, \"11\": 17, \"0\": 16, \"8\": 21, \"14\": 24, \"9\": 6, \"2\": 12, \"12\": 5}, \"15\": {\"3\": 27, \"15\": 195, \"8\": 12, \"0\": 3, \"13\": 3}, \"7\": {\"0\": 17, \"11\": 30, \"3\": 7, \"4\": 28, \"7\": 30, \"13\": 17, \"14\": 40, \"5\": 20, \"9\": 10, \"8\": 12, \"2\": 27, \"12\": 2}, \"4\": {\"4\": 39, \"13\": 29, \"3\": 9, \"14\": 23, \"7\": 28, \"2\": 28, \"11\": 15, \"8\": 12, \"12\": 6, \"0\": 23, \"5\": 20, \"9\": 8}, \"14\": {\"4\": 21, \"11\": 41, \"3\": 8, \"14\": 32, \"13\": 7, \"5\": 24, \"8\": 12, \"7\": 29, \"0\": 27, \"9\": 10, \"2\": 28, \"12\": 1}, \"10\": {\"10\": 142, \"1\": 55, \"12\": 31, \"6\": 7, \"9\": 5}, \"6\": {\"6\": 134, \"9\": 23, \"12\": 29, \"10\": 23, \"1\": 30, \"7\": 1}, \"13\": {\"3\": 27, \"0\": 20, \"8\": 38, \"4\": 24, \"2\": 9, \"14\": 17, \"13\": 37, \"9\": 6, \"7\": 23, \"11\": 12, \"5\": 18, \"12\": 7, \"15\": 2}, \"9\": {\"6\": 19, \"9\": 77, \"12\": 46, \"7\": 14, \"2\": 27, \"4\": 22, \"0\": 13, \"11\": 3, \"10\": 6, \"8\": 5, \"14\": 8}}, \"ORACLE.run18\": {\"9\": {\"9\": 181, \"5\": 9, \"13\": 11, \"0\": 14, \"14\": 8, \"10\": 14, \"4\": 2, \"6\": 1}, \"11\": {\"6\": 16, \"11\": 34, \"8\": 27, \"10\": 7, \"15\": 25, \"1\": 25, \"2\": 4, \"12\": 18, \"5\": 17, \"13\": 12, \"4\": 12, \"14\": 16, \"3\": 9, \"7\": 11, \"9\": 1, \"0\": 6}, \"8\": {\"15\": 31, \"3\": 21, \"11\": 31, \"8\": 39, \"2\": 12, \"12\": 38, \"7\": 8, \"6\": 7, \"14\": 7, \"10\": 7, \"1\": 22, \"5\": 2, \"0\": 2, \"13\": 5, \"4\": 8}, \"4\": {\"7\": 16, \"5\": 14, \"10\": 23, \"1\": 14, \"3\": 12, \"0\": 16, \"14\": 31, \"13\": 17, \"2\": 15, \"11\": 11, \"6\": 22, \"15\": 9, \"8\": 6, \"4\": 28, \"9\": 2, \"12\": 4}, \"13\": {\"4\": 21, \"10\": 31, \"0\": 20, \"6\": 23, \"13\": 27, \"14\": 20, \"7\": 14, \"15\": 3, \"9\": 9, \"5\": 16, \"1\": 13, \"2\": 20, \"8\": 8, \"3\": 8, \"11\": 6, \"12\": 1}, \"14\": {\"2\": 13, \"1\": 14, \"6\": 20, \"10\": 32, \"13\": 24, \"7\": 23, \"14\": 23, \"4\": 19, \"0\": 17, \"11\": 11, \"15\": 5, \"3\": 5, \"12\": 5, \"8\": 13, \"5\": 14, \"9\": 2}, \"2\": {\"2\": 35, \"3\": 37, \"0\": 16, \"10\": 10, \"14\": 6, \"13\": 15, \"6\": 24, \"12\": 15, \"7\": 18, \"8\": 16, \"1\": 16, \"11\": 5, \"15\": 14, \"4\": 9, \"5\": 4}, \"3\": {\"2\": 25, \"14\": 10, \"13\": 13, \"10\": 5, \"7\": 19, \"6\": 16, \"0\": 10, \"15\": 29, \"12\": 25, \"3\": 31, \"4\": 13, \"1\": 13, \"11\": 13, \"8\": 14, \"5\": 4}, \"1\": {\"3\": 6, \"0\": 6, \"12\": 13, \"6\": 18, \"13\": 13, \"1\": 30, \"11\": 30, \"10\": 15, \"5\": 11, \"7\": 9, \"8\": 28, \"15\": 27, \"4\": 16, \"2\": 4, \"14\": 14}, \"0\": {\"3\": 10, \"2\": 18, \"6\": 24, \"7\": 28, \"10\": 23, \"9\": 7, \"4\": 20, \"5\": 15, \"13\": 35, \"0\": 28, \"14\": 16, \"11\": 3, \"1\": 4, \"15\": 4, \"8\": 4, \"12\": 1}, \"5\": {\"6\": 22, \"14\": 31, \"4\": 18, \"1\": 21, \"3\": 7, \"13\": 13, \"10\": 31, \"0\": 16, \"8\": 11, \"11\": 16, \"5\": 31, \"12\": 2, \"7\": 15, \"9\": 2, \"2\": 3, \"15\": 1}, \"15\": {\"3\": 19, \"8\": 28, \"14\": 5, \"2\": 12, \"15\": 39, \"1\": 20, \"7\": 18, \"11\": 24, \"12\": 37, \"13\": 5, \"5\": 1, \"6\": 16, \"4\": 7, \"10\": 7, \"0\": 2}, \"10\": {\"14\": 26, \"15\": 4, \"13\": 32, \"0\": 17, \"6\": 21, \"3\": 5, \"10\": 14, \"2\": 12, \"4\": 23, \"7\": 19, \"5\": 21, \"1\": 23, \"11\": 13, \"9\": 4, \"8\": 5, \"12\": 1}, \"12\": {\"11\": 20, \"15\": 41, \"13\": 5, \"3\": 31, \"6\": 10, \"8\": 36, \"12\": 44, \"4\": 10, \"1\": 10, \"14\": 6, \"2\": 14, \"7\": 10, \"5\": 2, \"0\": 1}, \"6\": {\"6\": 14, \"13\": 22, \"14\": 26, \"1\": 24, \"10\": 16, \"7\": 25, \"5\": 12, \"4\": 17, \"12\": 6, \"11\": 11, \"0\": 18, \"3\": 13, \"15\": 7, \"8\": 9, \"2\": 19, \"9\": 1}, \"7\": {\"3\": 11, \"13\": 17, \"2\": 21, \"6\": 18, \"12\": 6, \"10\": 27, \"7\": 28, \"4\": 14, \"14\": 19, \"11\": 14, \"15\": 7, \"1\": 14, \"5\": 13, \"0\": 20, \"9\": 2, \"8\": 9}}}, \"per_domain_accuracy\": {\"Wisig_4\": {\"accuracy\": 0.9574331275720165, \"source?\": true}, \"Wisig_1\": {\"accuracy\": 0.9772245762711864, \"source?\": true}, \"Wisig_2\": {\"accuracy\": 0.9622123430962343, \"source?\": true}, \"Wisig_3\": {\"accuracy\": 0.9798034934497817, \"source?\": true}, \"ORACLE.run126\": {\"accuracy\": 0.14010416666666667, \"source?\": false}, \"ORACLE.run144\": {\"accuracy\": 0.24140625, \"source?\": false}, \"ORACLE.run150\": {\"accuracy\": 0.20677083333333332, \"source?\": false}, \"ORACLE.run138\": {\"accuracy\": 0.27630208333333334, \"source?\": false}, \"ORACLE.run120\": {\"accuracy\": 0.12239583333333333, \"source?\": false}, \"ORACLE.run114\": {\"accuracy\": 0.1859375, \"source?\": false}, \"ORACLE.run132\": {\"accuracy\": 0.30182291666666666, \"source?\": false}, \"ORACLE.run18\": {\"accuracy\": 0.16302083333333334, \"source?\": false}}}, \"history\": {\"epoch_indices\": [1, 2, 3, 4, 5, 6], \"train_label_loss\": [0.19600612572452766, 0.12166275973236491, 0.09807072056732294, 0.08219879684629267, 0.06808623390987154, 0.05604746255271566], \"source_val_label_loss\": [0.1727716475725174, 0.13744215667247772, 0.12522684037685394, 0.12338679283857346, 0.12821125984191895, 0.12995564937591553], \"target_val_label_loss\": [2.4935543537139893, 2.4374959468841553, 2.5611789226531982, 2.8313610553741455, 2.860290765762329, 3.2642762660980225], \"source_val_acc_label\": [0.9598732840549102, 0.9689809926082366, 0.971257919746568, 0.9730398627243928, 0.9721158922914467, 0.9720168954593453], \"target_val_acc_label\": [0.18421223958333333, 0.20472005208333333, 0.17109375, 0.14156901041666667, 0.13385416666666666, 0.11878255208333334]}, \"dataset_metrics\": {\"source\": {\"train\": {\"n_unique_x\": 189065, \"n_unique_y\": 130, \"n_batch/episode\": 6851}, \"val\": {\"n_unique_x\": 40070, \"n_unique_y\": 130, \"n_batch/episode\": 947}, \"test\": {\"n_unique_x\": 40812, \"n_unique_y\": 130, \"n_batch/episode\": 969}}, \"target\": {\"train\": {\"n_unique_x\": 179200, \"n_unique_y\": 16, \"n_batch/episode\": 6720}, \"val\": {\"n_unique_x\": 38400, \"n_unique_y\": 16, \"n_batch/episode\": 960}, \"test\": {\"n_unique_x\": 38400, \"n_unique_y\": 16, \"n_batch/episode\": 960}}}}'"
      ]
     },
     "execution_count": 29,
     "metadata": {},
     "output_type": "execute_result"
    }
   ],
   "source": [
    "json.dumps(experiment)"
   ]
  }
 ],
 "metadata": {
  "celltoolbar": "Tags",
  "kernelspec": {
   "display_name": "Python 3 (ipykernel)",
   "language": "python",
   "name": "python3"
  },
  "language_info": {
   "codemirror_mode": {
    "name": "ipython",
    "version": 3
   },
   "file_extension": ".py",
   "mimetype": "text/x-python",
   "name": "python",
   "nbconvert_exporter": "python",
   "pygments_lexer": "ipython3",
   "version": "3.8.12"
  },
  "papermill": {
   "default_parameters": {},
   "duration": 1940.457007,
   "end_time": "2022-03-21T14:46:25.362580",
   "environment_variables": {},
   "exception": null,
   "input_path": "/root/csc500-main/csc500-notebooks/templates/tl_ptn_template.ipynb",
   "output_path": "trial.ipynb",
   "parameters": {
    "parameters": {
     "BEST_MODEL_PATH": "./best_model.pth",
     "NUM_LOGS_PER_EPOCH": 10,
     "criteria_for_best": "target_accuracy",
     "dataset_seed": 7,
     "datasets": [
      {
       "domain_prefix": "Wisig_",
       "domains": [
        1,
        2,
        3,
        4
       ],
       "episode_transforms": [],
       "labels": [
        "1-10",
        "1-12",
        "1-14",
        "1-16",
        "1-18",
        "1-19",
        "1-8",
        "10-11",
        "10-17",
        "10-4",
        "10-7",
        "11-1",
        "11-10",
        "11-19",
        "11-20",
        "11-4",
        "11-7",
        "12-19",
        "12-20",
        "12-7",
        "13-14",
        "13-18",
        "13-19",
        "13-20",
        "13-3",
        "13-7",
        "14-10",
        "14-11",
        "14-12",
        "14-13",
        "14-14",
        "14-19",
        "14-20",
        "14-7",
        "14-8",
        "14-9",
        "15-1",
        "15-19",
        "15-6",
        "16-1",
        "16-16",
        "16-19",
        "16-20",
        "17-10",
        "17-11",
        "18-1",
        "18-10",
        "18-11",
        "18-12",
        "18-13",
        "18-14",
        "18-15",
        "18-16",
        "18-17",
        "18-19",
        "18-2",
        "18-20",
        "18-4",
        "18-5",
        "18-7",
        "18-8",
        "18-9",
        "19-1",
        "19-10",
        "19-11",
        "19-12",
        "19-13",
        "19-14",
        "19-15",
        "19-19",
        "19-2",
        "19-20",
        "19-3",
        "19-4",
        "19-6",
        "19-7",
        "19-8",
        "19-9",
        "2-1",
        "2-13",
        "2-15",
        "2-3",
        "2-4",
        "2-5",
        "2-6",
        "2-7",
        "2-8",
        "20-1",
        "20-12",
        "20-14",
        "20-15",
        "20-16",
        "20-18",
        "20-19",
        "20-20",
        "20-3",
        "20-4",
        "20-5",
        "20-7",
        "20-8",
        "3-1",
        "3-13",
        "3-18",
        "3-2",
        "3-8",
        "4-1",
        "4-10",
        "4-11",
        "5-1",
        "5-5",
        "6-1",
        "6-15",
        "6-6",
        "7-10",
        "7-11",
        "7-12",
        "7-13",
        "7-14",
        "7-7",
        "7-8",
        "7-9",
        "8-1",
        "8-13",
        "8-14",
        "8-18",
        "8-20",
        "8-3",
        "8-8",
        "9-1",
        "9-7"
       ],
       "num_examples_per_domain_per_label": -1,
       "pickle_path": "/root/csc500-main/datasets/wisig.node3-19.stratified_ds.2022A.pkl",
       "source_or_target_dataset": "source",
       "x_transforms": [
        "unit_mag"
       ]
      },
      {
       "domain_prefix": "ORACLE.run1",
       "domains": [
        32,
        38,
        8,
        44,
        14,
        50,
        20,
        26
       ],
       "episode_transforms": [],
       "labels": [
        "3123D52",
        "3123D65",
        "3123D79",
        "3123D80",
        "3123D54",
        "3123D70",
        "3123D7B",
        "3123D89",
        "3123D58",
        "3123D76",
        "3123D7D",
        "3123EFE",
        "3123D64",
        "3123D78",
        "3123D7E",
        "3124E4A"
       ],
       "num_examples_per_domain_per_label": 2000,
       "pickle_path": "/root/csc500-main/datasets/oracle.Run1_framed_2000Examples_stratified_ds.2022A.pkl",
       "source_or_target_dataset": "target",
       "x_transforms": [
        "unit_mag"
       ]
      }
     ],
     "device": "cuda",
     "experiment_name": "tl_1v2:wisig-oracle.run1.framed",
     "lr": 0.0001,
     "n_epoch": 50,
     "n_query": 2,
     "n_shot": 3,
     "n_way": 16,
     "patience": 3,
     "seed": 7,
     "test_k_factor": 2,
     "torch_default_dtype": "torch.float32",
     "train_k_factor": 3,
     "val_k_factor": 2,
     "x_net": [
      {
       "class": "nnReshape",
       "kargs": {
        "shape": [
         -1,
         1,
         2,
         256
        ]
       }
      },
      {
       "class": "Conv2d",
       "kargs": {
        "bias": false,
        "in_channels": 1,
        "kernel_size": [
         1,
         7
        ],
        "out_channels": 256,
        "padding": [
         0,
         3
        ]
       }
      },
      {
       "class": "ReLU",
       "kargs": {
        "inplace": true
       }
      },
      {
       "class": "BatchNorm2d",
       "kargs": {
        "num_features": 256
       }
      },
      {
       "class": "Conv2d",
       "kargs": {
        "bias": true,
        "in_channels": 256,
        "kernel_size": [
         2,
         7
        ],
        "out_channels": 80,
        "padding": [
         0,
         3
        ]
       }
      },
      {
       "class": "ReLU",
       "kargs": {
        "inplace": true
       }
      },
      {
       "class": "BatchNorm2d",
       "kargs": {
        "num_features": 80
       }
      },
      {
       "class": "Flatten",
       "kargs": {}
      },
      {
       "class": "Linear",
       "kargs": {
        "in_features": 20480,
        "out_features": 256
       }
      },
      {
       "class": "ReLU",
       "kargs": {
        "inplace": true
       }
      },
      {
       "class": "BatchNorm1d",
       "kargs": {
        "num_features": 256
       }
      },
      {
       "class": "Linear",
       "kargs": {
        "in_features": 256,
        "out_features": 256
       }
      }
     ]
    }
   },
   "start_time": "2022-03-21T14:14:04.905573",
   "version": "2.3.4"
  }
 },
 "nbformat": 4,
 "nbformat_minor": 5
}