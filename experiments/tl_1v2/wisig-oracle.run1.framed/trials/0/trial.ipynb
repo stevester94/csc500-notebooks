{
 "cells": [
  {
   "cell_type": "markdown",
   "id": "9fea5f46",
   "metadata": {
    "papermill": {
     "duration": 0.035031,
     "end_time": "2022-03-21T04:29:22.425801",
     "exception": false,
     "start_time": "2022-03-21T04:29:22.390770",
     "status": "completed"
    },
    "tags": []
   },
   "source": [
    "# Transfer Learning Template"
   ]
  },
  {
   "cell_type": "code",
   "execution_count": 1,
   "id": "0902182a",
   "metadata": {
    "execution": {
     "iopub.execute_input": "2022-03-21T04:29:22.490278Z",
     "iopub.status.busy": "2022-03-21T04:29:22.489389Z",
     "iopub.status.idle": "2022-03-21T04:29:24.459156Z",
     "shell.execute_reply": "2022-03-21T04:29:24.459489Z"
    },
    "papermill": {
     "duration": 2.009362,
     "end_time": "2022-03-21T04:29:24.459724",
     "exception": false,
     "start_time": "2022-03-21T04:29:22.450362",
     "status": "completed"
    },
    "tags": []
   },
   "outputs": [],
   "source": [
    "%load_ext autoreload\n",
    "%autoreload 2\n",
    "%matplotlib inline\n",
    "\n",
    "    \n",
    "import os, json, sys, time, random\n",
    "import numpy as np\n",
    "import torch\n",
    "from torch.optim import Adam\n",
    "from  easydict import EasyDict\n",
    "import matplotlib.pyplot as plt\n",
    "\n",
    "from steves_models.steves_ptn import Steves_Prototypical_Network\n",
    "\n",
    "from steves_utils.lazy_iterable_wrapper import Lazy_Iterable_Wrapper\n",
    "from steves_utils.iterable_aggregator import Iterable_Aggregator\n",
    "from steves_utils.ptn_train_eval_test_jig import  PTN_Train_Eval_Test_Jig\n",
    "from steves_utils.torch_sequential_builder import build_sequential\n",
    "from steves_utils.torch_utils import get_dataset_metrics, ptn_confusion_by_domain_over_dataloader\n",
    "from steves_utils.utils_v2 import (per_domain_accuracy_from_confusion, get_datasets_base_path)\n",
    "from steves_utils.PTN.utils import independent_accuracy_assesment\n",
    "\n",
    "from torch.utils.data import DataLoader\n",
    "\n",
    "from steves_utils.stratified_dataset.episodic_accessor import Episodic_Accessor_Factory\n",
    "\n",
    "from steves_utils.ptn_do_report import (\n",
    "    get_loss_curve,\n",
    "    get_results_table,\n",
    "    get_parameters_table,\n",
    "    get_domain_accuracies,\n",
    ")\n",
    "\n",
    "from steves_utils.transforms import get_chained_transform"
   ]
  },
  {
   "cell_type": "markdown",
   "id": "41c840b4",
   "metadata": {
    "papermill": {
     "duration": 0.019771,
     "end_time": "2022-03-21T04:29:24.500441",
     "exception": false,
     "start_time": "2022-03-21T04:29:24.480670",
     "status": "completed"
    },
    "tags": []
   },
   "source": [
    "# Allowed Parameters\n",
    "These are allowed parameters, not defaults\n",
    "Each of these values need to be present in the injected parameters (the notebook will raise an exception if they are not present)\n",
    "\n",
    "Papermill uses the cell tag \"parameters\" to inject the real parameters below this cell.\n",
    "Enable tags to see what I mean"
   ]
  },
  {
   "cell_type": "code",
   "execution_count": 2,
   "id": "fd44eb83",
   "metadata": {
    "execution": {
     "iopub.execute_input": "2022-03-21T04:29:24.546180Z",
     "iopub.status.busy": "2022-03-21T04:29:24.545578Z",
     "iopub.status.idle": "2022-03-21T04:29:24.574260Z",
     "shell.execute_reply": "2022-03-21T04:29:24.573534Z"
    },
    "papermill": {
     "duration": 0.054306,
     "end_time": "2022-03-21T04:29:24.574419",
     "exception": false,
     "start_time": "2022-03-21T04:29:24.520113",
     "status": "completed"
    },
    "tags": []
   },
   "outputs": [],
   "source": [
    "required_parameters = {\n",
    "    \"experiment_name\",\n",
    "    \"lr\",\n",
    "    \"device\",\n",
    "    \"seed\",\n",
    "    \"dataset_seed\",\n",
    "    \"n_shot\",\n",
    "    \"n_query\",\n",
    "    \"n_way\",\n",
    "    \"train_k_factor\",\n",
    "    \"val_k_factor\",\n",
    "    \"test_k_factor\",\n",
    "    \"n_epoch\",\n",
    "    \"patience\",\n",
    "    \"criteria_for_best\",\n",
    "    \"x_net\",\n",
    "    \"datasets\",\n",
    "    \"torch_default_dtype\",\n",
    "    \"NUM_LOGS_PER_EPOCH\",\n",
    "    \"BEST_MODEL_PATH\",\n",
    "    \"x_shape\",\n",
    "}"
   ]
  },
  {
   "cell_type": "code",
   "execution_count": 3,
   "id": "fa3f0049",
   "metadata": {
    "execution": {
     "iopub.execute_input": "2022-03-21T04:29:24.636211Z",
     "iopub.status.busy": "2022-03-21T04:29:24.635244Z",
     "iopub.status.idle": "2022-03-21T04:29:24.661719Z",
     "shell.execute_reply": "2022-03-21T04:29:24.660938Z"
    },
    "papermill": {
     "duration": 0.061549,
     "end_time": "2022-03-21T04:29:24.661902",
     "exception": false,
     "start_time": "2022-03-21T04:29:24.600353",
     "status": "completed"
    },
    "tags": [
     "parameters"
    ]
   },
   "outputs": [],
   "source": [
    "from steves_utils.CORES.utils import (\n",
    "    ALL_NODES,\n",
    "    ALL_NODES_MINIMUM_1000_EXAMPLES,\n",
    "    ALL_DAYS\n",
    ")\n",
    "\n",
    "from steves_utils.ORACLE.utils_v2 import (\n",
    "    ALL_DISTANCES_FEET_NARROWED,\n",
    "    ALL_RUNS,\n",
    "    ALL_SERIAL_NUMBERS,\n",
    ")\n",
    "\n",
    "standalone_parameters = {}\n",
    "standalone_parameters[\"experiment_name\"] = \"STANDALONE PTN\"\n",
    "standalone_parameters[\"lr\"] = 0.001\n",
    "standalone_parameters[\"device\"] = \"cuda\"\n",
    "\n",
    "standalone_parameters[\"seed\"] = 1337\n",
    "standalone_parameters[\"dataset_seed\"] = 1337\n",
    "\n",
    "standalone_parameters[\"n_way\"] = 8\n",
    "standalone_parameters[\"n_shot\"] = 3\n",
    "standalone_parameters[\"n_query\"]  = 2\n",
    "standalone_parameters[\"train_k_factor\"] = 1\n",
    "standalone_parameters[\"val_k_factor\"] = 2\n",
    "standalone_parameters[\"test_k_factor\"] = 2\n",
    "\n",
    "\n",
    "standalone_parameters[\"n_epoch\"] = 50\n",
    "\n",
    "standalone_parameters[\"patience\"] = 10\n",
    "standalone_parameters[\"criteria_for_best\"] = \"source_loss\"\n",
    "\n",
    "standalone_parameters[\"datasets\"] = [\n",
    "    {\n",
    "        \"labels\": ALL_SERIAL_NUMBERS,\n",
    "        \"domains\": ALL_DISTANCES_FEET_NARROWED,\n",
    "        \"num_examples_per_domain_per_label\": 100,\n",
    "        \"pickle_path\": os.path.join(get_datasets_base_path(), \"oracle.Run1_framed_2000Examples_stratified_ds.2022A.pkl\"),\n",
    "        \"source_or_target_dataset\": \"source\",\n",
    "        \"x_transforms\": [\"unit_mag\", \"minus_two\"],\n",
    "        \"episode_transforms\": [],\n",
    "        \"domain_prefix\": \"ORACLE_\"\n",
    "    },\n",
    "    {\n",
    "        \"labels\": ALL_NODES,\n",
    "        \"domains\": ALL_DAYS,\n",
    "        \"num_examples_per_domain_per_label\": 100,\n",
    "        \"pickle_path\": os.path.join(get_datasets_base_path(), \"cores.stratified_ds.2022A.pkl\"),\n",
    "        \"source_or_target_dataset\": \"target\",\n",
    "        \"x_transforms\": [\"unit_power\", \"times_zero\"],\n",
    "        \"episode_transforms\": [],\n",
    "        \"domain_prefix\": \"CORES_\"\n",
    "    }   \n",
    "]\n",
    "\n",
    "standalone_parameters[\"torch_default_dtype\"] = \"torch.float32\" \n",
    "\n",
    "\n",
    "\n",
    "standalone_parameters[\"x_net\"] =     [\n",
    "    {\"class\": \"nnReshape\", \"kargs\": {\"shape\":[-1, 1, 2, 256]}},\n",
    "    {\"class\": \"Conv2d\", \"kargs\": { \"in_channels\":1, \"out_channels\":256, \"kernel_size\":(1,7), \"bias\":False, \"padding\":(0,3), },},\n",
    "    {\"class\": \"ReLU\", \"kargs\": {\"inplace\": True}},\n",
    "    {\"class\": \"BatchNorm2d\", \"kargs\": {\"num_features\":256}},\n",
    "\n",
    "    {\"class\": \"Conv2d\", \"kargs\": { \"in_channels\":256, \"out_channels\":80, \"kernel_size\":(2,7), \"bias\":True, \"padding\":(0,3), },},\n",
    "    {\"class\": \"ReLU\", \"kargs\": {\"inplace\": True}},\n",
    "    {\"class\": \"BatchNorm2d\", \"kargs\": {\"num_features\":80}},\n",
    "    {\"class\": \"Flatten\", \"kargs\": {}},\n",
    "\n",
    "    {\"class\": \"Linear\", \"kargs\": {\"in_features\": 80*256, \"out_features\": 256}}, # 80 units per IQ pair\n",
    "    {\"class\": \"ReLU\", \"kargs\": {\"inplace\": True}},\n",
    "    {\"class\": \"BatchNorm1d\", \"kargs\": {\"num_features\":256}},\n",
    "\n",
    "    {\"class\": \"Linear\", \"kargs\": {\"in_features\": 256, \"out_features\": 256}},\n",
    "]\n",
    "\n",
    "# Parameters relevant to results\n",
    "# These parameters will basically never need to change\n",
    "standalone_parameters[\"NUM_LOGS_PER_EPOCH\"] = 10\n",
    "standalone_parameters[\"BEST_MODEL_PATH\"] = \"./best_model.pth\"\n",
    "\n",
    "\n",
    "\n",
    "\n"
   ]
  },
  {
   "cell_type": "code",
   "execution_count": 4,
   "id": "4cc0ccc5",
   "metadata": {
    "execution": {
     "iopub.execute_input": "2022-03-21T04:29:24.730707Z",
     "iopub.status.busy": "2022-03-21T04:29:24.725754Z",
     "iopub.status.idle": "2022-03-21T04:29:24.755331Z",
     "shell.execute_reply": "2022-03-21T04:29:24.754794Z"
    },
    "papermill": {
     "duration": 0.063881,
     "end_time": "2022-03-21T04:29:24.755463",
     "exception": false,
     "start_time": "2022-03-21T04:29:24.691582",
     "status": "completed"
    },
    "tags": [
     "injected-parameters"
    ]
   },
   "outputs": [],
   "source": [
    "# Parameters\n",
    "parameters = {\n",
    "    \"experiment_name\": \"tl_1v2:wisig-oracle.run1.framed\",\n",
    "    \"device\": \"cuda\",\n",
    "    \"lr\": 0.0001,\n",
    "    \"n_shot\": 3,\n",
    "    \"n_query\": 2,\n",
    "    \"train_k_factor\": 3,\n",
    "    \"val_k_factor\": 2,\n",
    "    \"test_k_factor\": 2,\n",
    "    \"torch_default_dtype\": \"torch.float32\",\n",
    "    \"n_epoch\": 50,\n",
    "    \"patience\": 3,\n",
    "    \"criteria_for_best\": \"target_accuracy\",\n",
    "    \"x_net\": [\n",
    "        {\"class\": \"nnReshape\", \"kargs\": {\"shape\": [-1, 1, 2, 256]}},\n",
    "        {\n",
    "            \"class\": \"Conv2d\",\n",
    "            \"kargs\": {\n",
    "                \"in_channels\": 1,\n",
    "                \"out_channels\": 256,\n",
    "                \"kernel_size\": [1, 7],\n",
    "                \"bias\": False,\n",
    "                \"padding\": [0, 3],\n",
    "            },\n",
    "        },\n",
    "        {\"class\": \"ReLU\", \"kargs\": {\"inplace\": True}},\n",
    "        {\"class\": \"BatchNorm2d\", \"kargs\": {\"num_features\": 256}},\n",
    "        {\n",
    "            \"class\": \"Conv2d\",\n",
    "            \"kargs\": {\n",
    "                \"in_channels\": 256,\n",
    "                \"out_channels\": 80,\n",
    "                \"kernel_size\": [2, 7],\n",
    "                \"bias\": True,\n",
    "                \"padding\": [0, 3],\n",
    "            },\n",
    "        },\n",
    "        {\"class\": \"ReLU\", \"kargs\": {\"inplace\": True}},\n",
    "        {\"class\": \"BatchNorm2d\", \"kargs\": {\"num_features\": 80}},\n",
    "        {\"class\": \"Flatten\", \"kargs\": {}},\n",
    "        {\"class\": \"Linear\", \"kargs\": {\"in_features\": 20480, \"out_features\": 256}},\n",
    "        {\"class\": \"ReLU\", \"kargs\": {\"inplace\": True}},\n",
    "        {\"class\": \"BatchNorm1d\", \"kargs\": {\"num_features\": 256}},\n",
    "        {\"class\": \"Linear\", \"kargs\": {\"in_features\": 256, \"out_features\": 256}},\n",
    "    ],\n",
    "    \"NUM_LOGS_PER_EPOCH\": 10,\n",
    "    \"BEST_MODEL_PATH\": \"./best_model.pth\",\n",
    "    \"n_way\": 16,\n",
    "    \"datasets\": [\n",
    "        {\n",
    "            \"labels\": [\n",
    "                \"1-10\",\n",
    "                \"1-12\",\n",
    "                \"1-14\",\n",
    "                \"1-16\",\n",
    "                \"1-18\",\n",
    "                \"1-19\",\n",
    "                \"1-8\",\n",
    "                \"10-11\",\n",
    "                \"10-17\",\n",
    "                \"10-4\",\n",
    "                \"10-7\",\n",
    "                \"11-1\",\n",
    "                \"11-10\",\n",
    "                \"11-19\",\n",
    "                \"11-20\",\n",
    "                \"11-4\",\n",
    "                \"11-7\",\n",
    "                \"12-19\",\n",
    "                \"12-20\",\n",
    "                \"12-7\",\n",
    "                \"13-14\",\n",
    "                \"13-18\",\n",
    "                \"13-19\",\n",
    "                \"13-20\",\n",
    "                \"13-3\",\n",
    "                \"13-7\",\n",
    "                \"14-10\",\n",
    "                \"14-11\",\n",
    "                \"14-12\",\n",
    "                \"14-13\",\n",
    "                \"14-14\",\n",
    "                \"14-19\",\n",
    "                \"14-20\",\n",
    "                \"14-7\",\n",
    "                \"14-8\",\n",
    "                \"14-9\",\n",
    "                \"15-1\",\n",
    "                \"15-19\",\n",
    "                \"15-6\",\n",
    "                \"16-1\",\n",
    "                \"16-16\",\n",
    "                \"16-19\",\n",
    "                \"16-20\",\n",
    "                \"17-10\",\n",
    "                \"17-11\",\n",
    "                \"18-1\",\n",
    "                \"18-10\",\n",
    "                \"18-11\",\n",
    "                \"18-12\",\n",
    "                \"18-13\",\n",
    "                \"18-14\",\n",
    "                \"18-15\",\n",
    "                \"18-16\",\n",
    "                \"18-17\",\n",
    "                \"18-19\",\n",
    "                \"18-2\",\n",
    "                \"18-20\",\n",
    "                \"18-4\",\n",
    "                \"18-5\",\n",
    "                \"18-7\",\n",
    "                \"18-8\",\n",
    "                \"18-9\",\n",
    "                \"19-1\",\n",
    "                \"19-10\",\n",
    "                \"19-11\",\n",
    "                \"19-12\",\n",
    "                \"19-13\",\n",
    "                \"19-14\",\n",
    "                \"19-15\",\n",
    "                \"19-19\",\n",
    "                \"19-2\",\n",
    "                \"19-20\",\n",
    "                \"19-3\",\n",
    "                \"19-4\",\n",
    "                \"19-6\",\n",
    "                \"19-7\",\n",
    "                \"19-8\",\n",
    "                \"19-9\",\n",
    "                \"2-1\",\n",
    "                \"2-13\",\n",
    "                \"2-15\",\n",
    "                \"2-3\",\n",
    "                \"2-4\",\n",
    "                \"2-5\",\n",
    "                \"2-6\",\n",
    "                \"2-7\",\n",
    "                \"2-8\",\n",
    "                \"20-1\",\n",
    "                \"20-12\",\n",
    "                \"20-14\",\n",
    "                \"20-15\",\n",
    "                \"20-16\",\n",
    "                \"20-18\",\n",
    "                \"20-19\",\n",
    "                \"20-20\",\n",
    "                \"20-3\",\n",
    "                \"20-4\",\n",
    "                \"20-5\",\n",
    "                \"20-7\",\n",
    "                \"20-8\",\n",
    "                \"3-1\",\n",
    "                \"3-13\",\n",
    "                \"3-18\",\n",
    "                \"3-2\",\n",
    "                \"3-8\",\n",
    "                \"4-1\",\n",
    "                \"4-10\",\n",
    "                \"4-11\",\n",
    "                \"5-1\",\n",
    "                \"5-5\",\n",
    "                \"6-1\",\n",
    "                \"6-15\",\n",
    "                \"6-6\",\n",
    "                \"7-10\",\n",
    "                \"7-11\",\n",
    "                \"7-12\",\n",
    "                \"7-13\",\n",
    "                \"7-14\",\n",
    "                \"7-7\",\n",
    "                \"7-8\",\n",
    "                \"7-9\",\n",
    "                \"8-1\",\n",
    "                \"8-13\",\n",
    "                \"8-14\",\n",
    "                \"8-18\",\n",
    "                \"8-20\",\n",
    "                \"8-3\",\n",
    "                \"8-8\",\n",
    "                \"9-1\",\n",
    "                \"9-7\",\n",
    "            ],\n",
    "            \"domains\": [1, 2, 3, 4],\n",
    "            \"num_examples_per_domain_per_label\": -1,\n",
    "            \"pickle_path\": \"/root/csc500-main/datasets/wisig.node3-19.stratified_ds.2022A.pkl\",\n",
    "            \"source_or_target_dataset\": \"source\",\n",
    "            \"x_transforms\": [\"unit_power\"],\n",
    "            \"episode_transforms\": [],\n",
    "            \"domain_prefix\": \"Wisig_\",\n",
    "        },\n",
    "        {\n",
    "            \"labels\": [\n",
    "                \"3123D52\",\n",
    "                \"3123D65\",\n",
    "                \"3123D79\",\n",
    "                \"3123D80\",\n",
    "                \"3123D54\",\n",
    "                \"3123D70\",\n",
    "                \"3123D7B\",\n",
    "                \"3123D89\",\n",
    "                \"3123D58\",\n",
    "                \"3123D76\",\n",
    "                \"3123D7D\",\n",
    "                \"3123EFE\",\n",
    "                \"3123D64\",\n",
    "                \"3123D78\",\n",
    "                \"3123D7E\",\n",
    "                \"3124E4A\",\n",
    "            ],\n",
    "            \"domains\": [32, 38, 8, 44, 14, 50, 20, 26],\n",
    "            \"num_examples_per_domain_per_label\": 2000,\n",
    "            \"pickle_path\": \"/root/csc500-main/datasets/oracle.Run1_framed_2000Examples_stratified_ds.2022A.pkl\",\n",
    "            \"source_or_target_dataset\": \"target\",\n",
    "            \"x_transforms\": [\"unit_power\"],\n",
    "            \"episode_transforms\": [],\n",
    "            \"domain_prefix\": \"ORACLE.run1\",\n",
    "        },\n",
    "    ],\n",
    "    \"dataset_seed\": 1337,\n",
    "    \"seed\": 1337,\n",
    "}\n"
   ]
  },
  {
   "cell_type": "code",
   "execution_count": 5,
   "id": "8fa1cc33",
   "metadata": {
    "execution": {
     "iopub.execute_input": "2022-03-21T04:29:24.804249Z",
     "iopub.status.busy": "2022-03-21T04:29:24.803854Z",
     "iopub.status.idle": "2022-03-21T04:29:24.827364Z",
     "shell.execute_reply": "2022-03-21T04:29:24.826632Z"
    },
    "papermill": {
     "duration": 0.048412,
     "end_time": "2022-03-21T04:29:24.827525",
     "exception": false,
     "start_time": "2022-03-21T04:29:24.779113",
     "status": "completed"
    },
    "tags": []
   },
   "outputs": [],
   "source": [
    "# Set this to True if you want to run this template directly\n",
    "STANDALONE = False\n",
    "if STANDALONE:\n",
    "    print(\"parameters not injected, running with standalone_parameters\")\n",
    "    parameters = standalone_parameters\n",
    "\n",
    "if not 'parameters' in locals() and not 'parameters' in globals():\n",
    "    raise Exception(\"Parameter injection failed\")\n",
    "\n",
    "#Use an easy dict for all the parameters\n",
    "p = EasyDict(parameters)\n",
    "\n",
    "if \"x_shape\" not in p:\n",
    "    p.x_shape = [2,256] # Default to this if we dont supply x_shape\n",
    "\n",
    "\n",
    "supplied_keys = set(p.keys())\n",
    "\n",
    "if  supplied_keys != required_parameters:\n",
    "    print(\"Parameters are incorrect\")\n",
    "    if len(supplied_keys - required_parameters)>0: print(\"Shouldn't have:\", str(supplied_keys - required_parameters))\n",
    "    if len(required_parameters - supplied_keys)>0: print(\"Need to have:\", str(required_parameters - supplied_keys))\n",
    "    raise RuntimeError(\"Parameters are incorrect\")"
   ]
  },
  {
   "cell_type": "code",
   "execution_count": 6,
   "id": "3a028d58",
   "metadata": {
    "execution": {
     "iopub.execute_input": "2022-03-21T04:29:24.881673Z",
     "iopub.status.busy": "2022-03-21T04:29:24.881002Z",
     "iopub.status.idle": "2022-03-21T04:29:24.907260Z",
     "shell.execute_reply": "2022-03-21T04:29:24.906428Z"
    },
    "papermill": {
     "duration": 0.050417,
     "end_time": "2022-03-21T04:29:24.907420",
     "exception": false,
     "start_time": "2022-03-21T04:29:24.857003",
     "status": "completed"
    },
    "tags": []
   },
   "outputs": [],
   "source": [
    "###################################\n",
    "# Set the RNGs and make it all deterministic\n",
    "###################################\n",
    "np.random.seed(p.seed)\n",
    "random.seed(p.seed)\n",
    "torch.manual_seed(p.seed)\n",
    "\n",
    "torch.use_deterministic_algorithms(True) "
   ]
  },
  {
   "cell_type": "code",
   "execution_count": 7,
   "id": "b691acf6",
   "metadata": {
    "execution": {
     "iopub.execute_input": "2022-03-21T04:29:24.959160Z",
     "iopub.status.busy": "2022-03-21T04:29:24.958767Z",
     "iopub.status.idle": "2022-03-21T04:29:24.984758Z",
     "shell.execute_reply": "2022-03-21T04:29:24.984027Z"
    },
    "papermill": {
     "duration": 0.049793,
     "end_time": "2022-03-21T04:29:24.984919",
     "exception": false,
     "start_time": "2022-03-21T04:29:24.935126",
     "status": "completed"
    },
    "tags": []
   },
   "outputs": [],
   "source": [
    "###########################################\n",
    "# The stratified datasets honor this\n",
    "###########################################\n",
    "torch.set_default_dtype(eval(p.torch_default_dtype))"
   ]
  },
  {
   "cell_type": "code",
   "execution_count": 8,
   "id": "b5fba671",
   "metadata": {
    "execution": {
     "iopub.execute_input": "2022-03-21T04:29:25.035319Z",
     "iopub.status.busy": "2022-03-21T04:29:25.033903Z",
     "iopub.status.idle": "2022-03-21T04:29:25.098738Z",
     "shell.execute_reply": "2022-03-21T04:29:25.097994Z"
    },
    "papermill": {
     "duration": 0.087272,
     "end_time": "2022-03-21T04:29:25.098898",
     "exception": false,
     "start_time": "2022-03-21T04:29:25.011626",
     "status": "completed"
    },
    "tags": []
   },
   "outputs": [],
   "source": [
    "###################################\n",
    "# Build the network(s)\n",
    "# Note: It's critical to do this AFTER setting the RNG\n",
    "###################################\n",
    "x_net = build_sequential(p.x_net)"
   ]
  },
  {
   "cell_type": "code",
   "execution_count": 9,
   "id": "5d7e61cc",
   "metadata": {
    "execution": {
     "iopub.execute_input": "2022-03-21T04:29:25.152212Z",
     "iopub.status.busy": "2022-03-21T04:29:25.151828Z",
     "iopub.status.idle": "2022-03-21T04:29:25.183187Z",
     "shell.execute_reply": "2022-03-21T04:29:25.182387Z"
    },
    "papermill": {
     "duration": 0.056199,
     "end_time": "2022-03-21T04:29:25.183377",
     "exception": false,
     "start_time": "2022-03-21T04:29:25.127178",
     "status": "completed"
    },
    "tags": []
   },
   "outputs": [],
   "source": [
    "start_time_secs = time.time()"
   ]
  },
  {
   "cell_type": "code",
   "execution_count": 10,
   "id": "c6b67dfd",
   "metadata": {
    "execution": {
     "iopub.execute_input": "2022-03-21T04:29:25.239182Z",
     "iopub.status.busy": "2022-03-21T04:29:25.238398Z",
     "iopub.status.idle": "2022-03-21T04:29:25.261589Z",
     "shell.execute_reply": "2022-03-21T04:29:25.260805Z"
    },
    "papermill": {
     "duration": 0.048295,
     "end_time": "2022-03-21T04:29:25.261755",
     "exception": false,
     "start_time": "2022-03-21T04:29:25.213460",
     "status": "completed"
    },
    "tags": []
   },
   "outputs": [],
   "source": [
    "p.domains_source = []\n",
    "p.domains_target = []\n",
    "\n",
    "\n",
    "train_original_source = []\n",
    "val_original_source   = []\n",
    "test_original_source  = []\n",
    "\n",
    "train_original_target = []\n",
    "val_original_target   = []\n",
    "test_original_target  = []"
   ]
  },
  {
   "cell_type": "code",
   "execution_count": 11,
   "id": "e3d9c3d3",
   "metadata": {
    "execution": {
     "iopub.execute_input": "2022-03-21T04:29:25.315145Z",
     "iopub.status.busy": "2022-03-21T04:29:25.314768Z",
     "iopub.status.idle": "2022-03-21T04:29:25.336130Z",
     "shell.execute_reply": "2022-03-21T04:29:25.335285Z"
    },
    "papermill": {
     "duration": 0.045667,
     "end_time": "2022-03-21T04:29:25.336287",
     "exception": false,
     "start_time": "2022-03-21T04:29:25.290620",
     "status": "completed"
    },
    "tags": []
   },
   "outputs": [],
   "source": [
    "# global_x_transform_func = lambda x: normalize(x.to(torch.get_default_dtype()), \"unit_power\") # unit_power, unit_mag\n",
    "# global_x_transform_func = lambda x: normalize(x, \"unit_power\") # unit_power, unit_mag"
   ]
  },
  {
   "cell_type": "code",
   "execution_count": 12,
   "id": "acb78fd2",
   "metadata": {
    "execution": {
     "iopub.execute_input": "2022-03-21T04:29:25.395397Z",
     "iopub.status.busy": "2022-03-21T04:29:25.394652Z",
     "iopub.status.idle": "2022-03-21T04:29:25.416438Z",
     "shell.execute_reply": "2022-03-21T04:29:25.415716Z"
    },
    "papermill": {
     "duration": 0.053402,
     "end_time": "2022-03-21T04:29:25.416595",
     "exception": false,
     "start_time": "2022-03-21T04:29:25.363193",
     "status": "completed"
    },
    "tags": []
   },
   "outputs": [],
   "source": [
    "def add_dataset(\n",
    "    labels,\n",
    "    domains,\n",
    "    pickle_path,\n",
    "    x_transforms,\n",
    "    episode_transforms,\n",
    "    domain_prefix,\n",
    "    num_examples_per_domain_per_label,\n",
    "    source_or_target_dataset:str,\n",
    "    iterator_seed=p.seed,\n",
    "    dataset_seed=p.dataset_seed,\n",
    "    n_shot=p.n_shot,\n",
    "    n_way=p.n_way,\n",
    "    n_query=p.n_query,\n",
    "    train_val_test_k_factors=(p.train_k_factor,p.val_k_factor,p.test_k_factor),\n",
    "):\n",
    "   \n",
    "    if x_transforms == []: x_transform = None\n",
    "    else: x_transform = get_chained_transform(x_transforms)\n",
    "    \n",
    "    if episode_transforms == []: episode_transform = None\n",
    "    else: raise Exception(\"episode_transforms not implemented\")\n",
    "    \n",
    "    episode_transform = lambda tup, _prefix=domain_prefix: (_prefix + str(tup[0]), tup[1])\n",
    "\n",
    "\n",
    "    eaf = Episodic_Accessor_Factory(\n",
    "        labels=labels,\n",
    "        domains=domains,\n",
    "        num_examples_per_domain_per_label=num_examples_per_domain_per_label,\n",
    "        iterator_seed=iterator_seed,\n",
    "        dataset_seed=dataset_seed,\n",
    "        n_shot=n_shot,\n",
    "        n_way=n_way,\n",
    "        n_query=n_query,\n",
    "        train_val_test_k_factors=train_val_test_k_factors,\n",
    "        pickle_path=pickle_path,\n",
    "        x_transform_func=x_transform,\n",
    "    )\n",
    "\n",
    "    train, val, test = eaf.get_train(), eaf.get_val(), eaf.get_test()\n",
    "    train = Lazy_Iterable_Wrapper(train, episode_transform)\n",
    "    val = Lazy_Iterable_Wrapper(val, episode_transform)\n",
    "    test = Lazy_Iterable_Wrapper(test, episode_transform)\n",
    "\n",
    "    if source_or_target_dataset==\"source\":\n",
    "        train_original_source.append(train)\n",
    "        val_original_source.append(val)\n",
    "        test_original_source.append(test)\n",
    "\n",
    "        p.domains_source.extend(\n",
    "            [domain_prefix + str(u) for u in domains]\n",
    "        )\n",
    "    elif source_or_target_dataset==\"target\":\n",
    "        train_original_target.append(train)\n",
    "        val_original_target.append(val)\n",
    "        test_original_target.append(test)\n",
    "        p.domains_target.extend(\n",
    "            [domain_prefix + str(u) for u in domains]\n",
    "        )\n",
    "    else:\n",
    "        raise Exception(f\"invalid source_or_target_dataset: {source_or_target_dataset}\")\n",
    "    "
   ]
  },
  {
   "cell_type": "code",
   "execution_count": 13,
   "id": "fe266617",
   "metadata": {
    "execution": {
     "iopub.execute_input": "2022-03-21T04:29:25.472019Z",
     "iopub.status.busy": "2022-03-21T04:29:25.471515Z",
     "iopub.status.idle": "2022-03-21T04:30:09.480842Z",
     "shell.execute_reply": "2022-03-21T04:30:09.480042Z"
    },
    "papermill": {
     "duration": 44.032543,
     "end_time": "2022-03-21T04:30:09.481055",
     "exception": false,
     "start_time": "2022-03-21T04:29:25.448512",
     "status": "completed"
    },
    "tags": []
   },
   "outputs": [],
   "source": [
    "for ds in p.datasets:\n",
    "    add_dataset(**ds)"
   ]
  },
  {
   "cell_type": "code",
   "execution_count": 14,
   "id": "b90d65ac",
   "metadata": {
    "execution": {
     "iopub.execute_input": "2022-03-21T04:30:09.535245Z",
     "iopub.status.busy": "2022-03-21T04:30:09.534844Z",
     "iopub.status.idle": "2022-03-21T04:30:09.560399Z",
     "shell.execute_reply": "2022-03-21T04:30:09.559459Z"
    },
    "papermill": {
     "duration": 0.052462,
     "end_time": "2022-03-21T04:30:09.560656",
     "exception": false,
     "start_time": "2022-03-21T04:30:09.508194",
     "status": "completed"
    },
    "tags": []
   },
   "outputs": [],
   "source": [
    "# from steves_utils.CORES.utils import (\n",
    "#     ALL_NODES,\n",
    "#     ALL_NODES_MINIMUM_1000_EXAMPLES,\n",
    "#     ALL_DAYS\n",
    "# )\n",
    "\n",
    "# add_dataset(\n",
    "#     labels=ALL_NODES,\n",
    "#     domains = ALL_DAYS,\n",
    "#     num_examples_per_domain_per_label=100,\n",
    "#     pickle_path=os.path.join(get_datasets_base_path(), \"cores.stratified_ds.2022A.pkl\"),\n",
    "#     source_or_target_dataset=\"target\",\n",
    "#     x_transform_func=global_x_transform_func,\n",
    "#     domain_modifier=lambda u: f\"cores_{u}\"\n",
    "# )"
   ]
  },
  {
   "cell_type": "code",
   "execution_count": 15,
   "id": "76db484d",
   "metadata": {
    "execution": {
     "iopub.execute_input": "2022-03-21T04:30:09.613983Z",
     "iopub.status.busy": "2022-03-21T04:30:09.613392Z",
     "iopub.status.idle": "2022-03-21T04:30:09.634126Z",
     "shell.execute_reply": "2022-03-21T04:30:09.633332Z"
    },
    "papermill": {
     "duration": 0.046926,
     "end_time": "2022-03-21T04:30:09.634308",
     "exception": false,
     "start_time": "2022-03-21T04:30:09.587382",
     "status": "completed"
    },
    "tags": []
   },
   "outputs": [],
   "source": [
    "# from steves_utils.ORACLE.utils_v2 import (\n",
    "#     ALL_DISTANCES_FEET,\n",
    "#     ALL_RUNS,\n",
    "#     ALL_SERIAL_NUMBERS,\n",
    "# )\n",
    "\n",
    "\n",
    "# add_dataset(\n",
    "#     labels=ALL_SERIAL_NUMBERS,\n",
    "#     domains = list(set(ALL_DISTANCES_FEET) - {2,62}),\n",
    "#     num_examples_per_domain_per_label=100,\n",
    "#     pickle_path=os.path.join(get_datasets_base_path(), \"oracle.Run2_framed_2000Examples_stratified_ds.2022A.pkl\"),\n",
    "#     source_or_target_dataset=\"source\",\n",
    "#     x_transform_func=global_x_transform_func,\n",
    "#     domain_modifier=lambda u: f\"oracle1_{u}\"\n",
    "# )\n"
   ]
  },
  {
   "cell_type": "code",
   "execution_count": 16,
   "id": "97dea9d2",
   "metadata": {
    "execution": {
     "iopub.execute_input": "2022-03-21T04:30:09.696342Z",
     "iopub.status.busy": "2022-03-21T04:30:09.695328Z",
     "iopub.status.idle": "2022-03-21T04:30:09.714674Z",
     "shell.execute_reply": "2022-03-21T04:30:09.713851Z"
    },
    "papermill": {
     "duration": 0.04933,
     "end_time": "2022-03-21T04:30:09.714848",
     "exception": false,
     "start_time": "2022-03-21T04:30:09.665518",
     "status": "completed"
    },
    "tags": []
   },
   "outputs": [],
   "source": [
    "# from steves_utils.ORACLE.utils_v2 import (\n",
    "#     ALL_DISTANCES_FEET,\n",
    "#     ALL_RUNS,\n",
    "#     ALL_SERIAL_NUMBERS,\n",
    "# )\n",
    "\n",
    "\n",
    "# add_dataset(\n",
    "#     labels=ALL_SERIAL_NUMBERS,\n",
    "#     domains = list(set(ALL_DISTANCES_FEET) - {2,62,56}),\n",
    "#     num_examples_per_domain_per_label=100,\n",
    "#     pickle_path=os.path.join(get_datasets_base_path(), \"oracle.Run2_framed_2000Examples_stratified_ds.2022A.pkl\"),\n",
    "#     source_or_target_dataset=\"source\",\n",
    "#     x_transform_func=global_x_transform_func,\n",
    "#     domain_modifier=lambda u: f\"oracle2_{u}\"\n",
    "# )"
   ]
  },
  {
   "cell_type": "code",
   "execution_count": 17,
   "id": "6f289866",
   "metadata": {
    "execution": {
     "iopub.execute_input": "2022-03-21T04:30:09.764530Z",
     "iopub.status.busy": "2022-03-21T04:30:09.763796Z",
     "iopub.status.idle": "2022-03-21T04:30:09.788626Z",
     "shell.execute_reply": "2022-03-21T04:30:09.787770Z"
    },
    "papermill": {
     "duration": 0.048246,
     "end_time": "2022-03-21T04:30:09.788795",
     "exception": false,
     "start_time": "2022-03-21T04:30:09.740549",
     "status": "completed"
    },
    "tags": []
   },
   "outputs": [],
   "source": [
    "# add_dataset(\n",
    "#     labels=list(range(19)),\n",
    "#     domains = [0,1,2],\n",
    "#     num_examples_per_domain_per_label=100,\n",
    "#     pickle_path=os.path.join(get_datasets_base_path(), \"metehan.stratified_ds.2022A.pkl\"),\n",
    "#     source_or_target_dataset=\"target\",\n",
    "#     x_transform_func=global_x_transform_func,\n",
    "#     domain_modifier=lambda u: f\"met_{u}\"\n",
    "# )"
   ]
  },
  {
   "cell_type": "code",
   "execution_count": 18,
   "id": "86a863c3",
   "metadata": {
    "execution": {
     "iopub.execute_input": "2022-03-21T04:30:09.840488Z",
     "iopub.status.busy": "2022-03-21T04:30:09.839715Z",
     "iopub.status.idle": "2022-03-21T04:30:09.863598Z",
     "shell.execute_reply": "2022-03-21T04:30:09.862851Z"
    },
    "papermill": {
     "duration": 0.047674,
     "end_time": "2022-03-21T04:30:09.863765",
     "exception": false,
     "start_time": "2022-03-21T04:30:09.816091",
     "status": "completed"
    },
    "tags": []
   },
   "outputs": [],
   "source": [
    "# # from steves_utils.wisig.utils import (\n",
    "# #     ALL_NODES_MINIMUM_100_EXAMPLES,\n",
    "# #     ALL_NODES_MINIMUM_500_EXAMPLES,\n",
    "# #     ALL_NODES_MINIMUM_1000_EXAMPLES,\n",
    "# #     ALL_DAYS\n",
    "# # )\n",
    "\n",
    "# import steves_utils.wisig.utils as wisig\n",
    "\n",
    "\n",
    "# add_dataset(\n",
    "#     labels=wisig.ALL_NODES_MINIMUM_100_EXAMPLES,\n",
    "#     domains = wisig.ALL_DAYS,\n",
    "#     num_examples_per_domain_per_label=100,\n",
    "#     pickle_path=os.path.join(get_datasets_base_path(), \"wisig.node3-19.stratified_ds.2022A.pkl\"),\n",
    "#     source_or_target_dataset=\"target\",\n",
    "#     x_transform_func=global_x_transform_func,\n",
    "#     domain_modifier=lambda u: f\"wisig_{u}\"\n",
    "# )"
   ]
  },
  {
   "cell_type": "code",
   "execution_count": 19,
   "id": "fd5442bc",
   "metadata": {
    "execution": {
     "iopub.execute_input": "2022-03-21T04:30:09.928092Z",
     "iopub.status.busy": "2022-03-21T04:30:09.927688Z",
     "iopub.status.idle": "2022-03-21T04:30:09.955121Z",
     "shell.execute_reply": "2022-03-21T04:30:09.954274Z"
    },
    "papermill": {
     "duration": 0.062042,
     "end_time": "2022-03-21T04:30:09.955292",
     "exception": false,
     "start_time": "2022-03-21T04:30:09.893250",
     "status": "completed"
    },
    "tags": []
   },
   "outputs": [],
   "source": [
    "###################################\n",
    "# Build the dataset\n",
    "###################################\n",
    "train_original_source = Iterable_Aggregator(train_original_source, p.seed)\n",
    "val_original_source = Iterable_Aggregator(val_original_source, p.seed)\n",
    "test_original_source = Iterable_Aggregator(test_original_source, p.seed)\n",
    "\n",
    "\n",
    "train_original_target = Iterable_Aggregator(train_original_target, p.seed)\n",
    "val_original_target = Iterable_Aggregator(val_original_target, p.seed)\n",
    "test_original_target = Iterable_Aggregator(test_original_target, p.seed)\n",
    "\n",
    "# For CNN We only use X and Y. And we only train on the source.\n",
    "# Properly form the data using a transform lambda and Lazy_Iterable_Wrapper. Finally wrap them in a dataloader\n",
    "\n",
    "transform_lambda = lambda ex: ex[1] # Original is (<domain>, <episode>) so we strip down to episode only\n",
    "\n",
    "train_processed_source = Lazy_Iterable_Wrapper(train_original_source, transform_lambda)\n",
    "val_processed_source   = Lazy_Iterable_Wrapper(val_original_source, transform_lambda)\n",
    "test_processed_source  = Lazy_Iterable_Wrapper(test_original_source, transform_lambda)\n",
    "\n",
    "train_processed_target = Lazy_Iterable_Wrapper(train_original_target, transform_lambda)\n",
    "val_processed_target   = Lazy_Iterable_Wrapper(val_original_target, transform_lambda)\n",
    "test_processed_target  = Lazy_Iterable_Wrapper(test_original_target, transform_lambda)\n",
    "\n",
    "datasets = EasyDict({\n",
    "    \"source\": {\n",
    "        \"original\": {\"train\":train_original_source, \"val\":val_original_source, \"test\":test_original_source},\n",
    "        \"processed\": {\"train\":train_processed_source, \"val\":val_processed_source, \"test\":test_processed_source}\n",
    "    },\n",
    "    \"target\": {\n",
    "        \"original\": {\"train\":train_original_target, \"val\":val_original_target, \"test\":test_original_target},\n",
    "        \"processed\": {\"train\":train_processed_target, \"val\":val_processed_target, \"test\":test_processed_target}\n",
    "    },\n",
    "})"
   ]
  },
  {
   "cell_type": "code",
   "execution_count": 20,
   "id": "5b3c01fc",
   "metadata": {
    "execution": {
     "iopub.execute_input": "2022-03-21T04:30:10.012157Z",
     "iopub.status.busy": "2022-03-21T04:30:10.011773Z",
     "iopub.status.idle": "2022-03-21T04:30:25.002430Z",
     "shell.execute_reply": "2022-03-21T04:30:25.003164Z"
    },
    "papermill": {
     "duration": 15.01817,
     "end_time": "2022-03-21T04:30:25.003390",
     "exception": false,
     "start_time": "2022-03-21T04:30:09.985220",
     "status": "completed"
    },
    "tags": []
   },
   "outputs": [
    {
     "name": "stdout",
     "output_type": "stream",
     "text": [
      "{'Wisig_1', 'Wisig_3', 'Wisig_2', 'Wisig_4'}\n"
     ]
    },
    {
     "name": "stdout",
     "output_type": "stream",
     "text": [
      "{'ORACLE.run120', 'ORACLE.run114', 'ORACLE.run150', 'ORACLE.run126', 'ORACLE.run144', 'ORACLE.run18', 'ORACLE.run138', 'ORACLE.run132'}\n"
     ]
    },
    {
     "name": "stdout",
     "output_type": "stream",
     "text": [
      "tensor([[[-0.0481,  1.2260,  0.0481,  ...,  0.3650,  0.7321, -0.1770],\n",
      "         [-0.9288,  0.1224,  1.4795,  ..., -0.4458,  0.2032,  1.2282]],\n",
      "\n",
      "        [[ 0.4847,  0.7729, -1.0633,  ...,  0.4389,  0.2009, -0.8515],\n",
      "         [-0.5808,  0.4891,  0.9498,  ...,  0.3188,  0.4847,  0.4913]],\n",
      "\n",
      "        [[ 0.3667,  1.3447,  0.4300,  ...,  0.5719,  1.1308, -0.0327],\n",
      "         [-0.9343,  0.4038,  1.2268,  ..., -0.6112,  0.6876,  1.3818]],\n",
      "\n",
      "        ...,\n",
      "\n",
      "        [[-0.7382, -0.7514,  0.1171,  ..., -1.3183, -0.7209, -0.4505],\n",
      "         [ 0.7576, -0.0312, -1.1055,  ..., -0.3535, -0.6287,  0.0062]],\n",
      "\n",
      "        [[-0.0416, -0.0433, -0.0552,  ...,  0.6353, -0.1170, -1.2493],\n",
      "         [-0.0683, -0.0760, -0.0059,  ..., -0.1918,  0.8444,  0.0938]],\n",
      "\n",
      "        [[-0.1019, -0.3426,  0.0021,  ..., -0.5681,  0.3029,  0.5639],\n",
      "         [-0.1738, -0.1800, -0.7816,  ..., -0.7446, -1.0251, -0.2882]]])\n"
     ]
    }
   ],
   "source": [
    "from steves_utils.transforms import get_average_magnitude, get_average_power\n",
    "\n",
    "print(set([u for u,_ in val_original_source]))\n",
    "print(set([u for u,_ in val_original_target]))\n",
    "\n",
    "s_x, s_y, q_x, q_y, _ = next(iter(train_processed_source))\n",
    "print(s_x)\n",
    "\n",
    "# for ds in [\n",
    "#     train_processed_source,\n",
    "#     val_processed_source,\n",
    "#     test_processed_source,\n",
    "#     train_processed_target,\n",
    "#     val_processed_target,\n",
    "#     test_processed_target\n",
    "# ]:\n",
    "#     for s_x, s_y, q_x, q_y, _ in ds:\n",
    "#         for X in (s_x, q_x):\n",
    "#             for x in X:\n",
    "#                 assert np.isclose(get_average_magnitude(x.numpy()), 1.0)\n",
    "#                 assert np.isclose(get_average_power(x.numpy()), 1.0)\n",
    "                "
   ]
  },
  {
   "cell_type": "code",
   "execution_count": 21,
   "id": "bbdacba1",
   "metadata": {
    "execution": {
     "iopub.execute_input": "2022-03-21T04:30:25.060162Z",
     "iopub.status.busy": "2022-03-21T04:30:25.059774Z",
     "iopub.status.idle": "2022-03-21T04:30:25.282795Z",
     "shell.execute_reply": "2022-03-21T04:30:25.283112Z"
    },
    "papermill": {
     "duration": 0.250832,
     "end_time": "2022-03-21T04:30:25.283236",
     "exception": false,
     "start_time": "2022-03-21T04:30:25.032404",
     "status": "completed"
    },
    "tags": []
   },
   "outputs": [
    {
     "name": "stdout",
     "output_type": "stream",
     "text": [
      "(2, 256)\n"
     ]
    }
   ],
   "source": [
    "###################################\n",
    "# Build the model\n",
    "###################################\n",
    "# easfsl only wants a tuple for the shape\n",
    "model = Steves_Prototypical_Network(x_net, device=p.device, x_shape=tuple(p.x_shape))\n",
    "optimizer = Adam(params=model.parameters(), lr=p.lr)"
   ]
  },
  {
   "cell_type": "code",
   "execution_count": 22,
   "id": "22b39ac5",
   "metadata": {
    "execution": {
     "iopub.execute_input": "2022-03-21T04:30:25.358019Z",
     "iopub.status.busy": "2022-03-21T04:30:25.357642Z",
     "iopub.status.idle": "2022-03-21T04:50:51.299076Z",
     "shell.execute_reply": "2022-03-21T04:50:51.298717Z"
    },
    "papermill": {
     "duration": 1225.969278,
     "end_time": "2022-03-21T04:50:51.299163",
     "exception": false,
     "start_time": "2022-03-21T04:30:25.329885",
     "status": "completed"
    },
    "tags": []
   },
   "outputs": [
    {
     "name": "stdout",
     "output_type": "stream",
     "text": [
      "epoch: 1, [batch: 1 / 6866], examples_per_second: 30.9422, train_label_loss: 2.6021, \n"
     ]
    },
    {
     "name": "stdout",
     "output_type": "stream",
     "text": [
      "epoch: 1, [batch: 687 / 6866], examples_per_second: 2865.9691, train_label_loss: 0.6548, \n"
     ]
    },
    {
     "name": "stdout",
     "output_type": "stream",
     "text": [
      "epoch: 1, [batch: 1374 / 6866], examples_per_second: 2899.0448, train_label_loss: 0.2896, \n"
     ]
    },
    {
     "name": "stdout",
     "output_type": "stream",
     "text": [
      "epoch: 1, [batch: 2060 / 6866], examples_per_second: 2886.3176, train_label_loss: 0.0433, \n"
     ]
    },
    {
     "name": "stdout",
     "output_type": "stream",
     "text": [
      "epoch: 1, [batch: 2747 / 6866], examples_per_second: 3207.5115, train_label_loss: 0.1530, \n"
     ]
    },
    {
     "name": "stdout",
     "output_type": "stream",
     "text": [
      "epoch: 1, [batch: 3433 / 6866], examples_per_second: 3360.8098, train_label_loss: 0.0492, \n"
     ]
    },
    {
     "name": "stdout",
     "output_type": "stream",
     "text": [
      "epoch: 1, [batch: 4120 / 6866], examples_per_second: 3459.9906, train_label_loss: 0.0132, \n"
     ]
    },
    {
     "name": "stdout",
     "output_type": "stream",
     "text": [
      "epoch: 1, [batch: 4806 / 6866], examples_per_second: 3397.4366, train_label_loss: 0.0453, \n"
     ]
    },
    {
     "name": "stdout",
     "output_type": "stream",
     "text": [
      "epoch: 1, [batch: 5493 / 6866], examples_per_second: 2888.2821, train_label_loss: 0.0146, \n"
     ]
    },
    {
     "name": "stdout",
     "output_type": "stream",
     "text": [
      "epoch: 1, [batch: 6179 / 6866], examples_per_second: 3014.1294, train_label_loss: 0.0069, \n"
     ]
    },
    {
     "name": "stdout",
     "output_type": "stream",
     "text": [
      "=============================================================\n",
      "epoch: 1, source_val_acc_label: 0.9616, target_val_acc_label: 0.1969, source_val_label_loss: 0.1765, target_val_label_loss: 2.5011, \n",
      "=============================================================\n"
     ]
    },
    {
     "name": "stdout",
     "output_type": "stream",
     "text": [
      "New best\n"
     ]
    },
    {
     "name": "stdout",
     "output_type": "stream",
     "text": [
      "epoch: 2, [batch: 1 / 6837], examples_per_second: 2.4843, train_label_loss: 0.0733, \n"
     ]
    },
    {
     "name": "stdout",
     "output_type": "stream",
     "text": [
      "epoch: 2, [batch: 684 / 6837], examples_per_second: 2311.3882, train_label_loss: 0.1516, \n"
     ]
    },
    {
     "name": "stdout",
     "output_type": "stream",
     "text": [
      "epoch: 2, [batch: 1368 / 6837], examples_per_second: 2306.4274, train_label_loss: 0.1685, \n"
     ]
    },
    {
     "name": "stdout",
     "output_type": "stream",
     "text": [
      "epoch: 2, [batch: 2051 / 6837], examples_per_second: 2316.3914, train_label_loss: 0.1183, \n"
     ]
    },
    {
     "name": "stdout",
     "output_type": "stream",
     "text": [
      "epoch: 2, [batch: 2735 / 6837], examples_per_second: 2549.1185, train_label_loss: 0.1962, \n"
     ]
    },
    {
     "name": "stdout",
     "output_type": "stream",
     "text": [
      "epoch: 2, [batch: 3419 / 6837], examples_per_second: 2618.0034, train_label_loss: 0.0330, \n"
     ]
    },
    {
     "name": "stdout",
     "output_type": "stream",
     "text": [
      "epoch: 2, [batch: 4102 / 6837], examples_per_second: 2535.9616, train_label_loss: 0.0024, \n"
     ]
    },
    {
     "name": "stdout",
     "output_type": "stream",
     "text": [
      "epoch: 2, [batch: 4786 / 6837], examples_per_second: 2526.9935, train_label_loss: 0.1185, \n"
     ]
    },
    {
     "name": "stdout",
     "output_type": "stream",
     "text": [
      "epoch: 2, [batch: 5469 / 6837], examples_per_second: 2643.6852, train_label_loss: 0.5194, \n"
     ]
    },
    {
     "name": "stdout",
     "output_type": "stream",
     "text": [
      "epoch: 2, [batch: 6153 / 6837], examples_per_second: 3180.1651, train_label_loss: 0.1181, \n"
     ]
    },
    {
     "name": "stdout",
     "output_type": "stream",
     "text": [
      "=============================================================\n",
      "epoch: 2, source_val_acc_label: 0.9683, target_val_acc_label: 0.1797, source_val_label_loss: 0.1378, target_val_label_loss: 2.5199, \n",
      "=============================================================\n"
     ]
    },
    {
     "name": "stdout",
     "output_type": "stream",
     "text": [
      "epoch: 3, [batch: 1 / 6844], examples_per_second: 2.6657, train_label_loss: 0.3218, \n"
     ]
    },
    {
     "name": "stdout",
     "output_type": "stream",
     "text": [
      "epoch: 3, [batch: 685 / 6844], examples_per_second: 2289.0218, train_label_loss: 0.0085, \n"
     ]
    },
    {
     "name": "stdout",
     "output_type": "stream",
     "text": [
      "epoch: 3, [batch: 1369 / 6844], examples_per_second: 2303.5159, train_label_loss: 0.0580, \n"
     ]
    },
    {
     "name": "stdout",
     "output_type": "stream",
     "text": [
      "epoch: 3, [batch: 2053 / 6844], examples_per_second: 2286.4553, train_label_loss: 0.1594, \n"
     ]
    },
    {
     "name": "stdout",
     "output_type": "stream",
     "text": [
      "epoch: 3, [batch: 2738 / 6844], examples_per_second: 2294.6873, train_label_loss: 0.0068, \n"
     ]
    },
    {
     "name": "stdout",
     "output_type": "stream",
     "text": [
      "epoch: 3, [batch: 3422 / 6844], examples_per_second: 2309.6748, train_label_loss: 0.1327, \n"
     ]
    },
    {
     "name": "stdout",
     "output_type": "stream",
     "text": [
      "epoch: 3, [batch: 4106 / 6844], examples_per_second: 2296.8928, train_label_loss: 0.0612, \n"
     ]
    },
    {
     "name": "stdout",
     "output_type": "stream",
     "text": [
      "epoch: 3, [batch: 4791 / 6844], examples_per_second: 2290.6786, train_label_loss: 0.2510, \n"
     ]
    },
    {
     "name": "stdout",
     "output_type": "stream",
     "text": [
      "epoch: 3, [batch: 5475 / 6844], examples_per_second: 2516.8355, train_label_loss: 0.0016, \n"
     ]
    },
    {
     "name": "stdout",
     "output_type": "stream",
     "text": [
      "epoch: 3, [batch: 6159 / 6844], examples_per_second: 3230.9660, train_label_loss: 0.1702, \n"
     ]
    },
    {
     "name": "stdout",
     "output_type": "stream",
     "text": [
      "=============================================================\n",
      "epoch: 3, source_val_acc_label: 0.9726, target_val_acc_label: 0.1594, source_val_label_loss: 0.1211, target_val_label_loss: 2.6122, \n",
      "=============================================================\n"
     ]
    },
    {
     "name": "stdout",
     "output_type": "stream",
     "text": [
      "epoch: 4, [batch: 1 / 6836], examples_per_second: 2.7791, train_label_loss: 0.0849, \n"
     ]
    },
    {
     "name": "stdout",
     "output_type": "stream",
     "text": [
      "epoch: 4, [batch: 684 / 6836], examples_per_second: 2935.6992, train_label_loss: 0.1570, \n"
     ]
    },
    {
     "name": "stdout",
     "output_type": "stream",
     "text": [
      "epoch: 4, [batch: 1368 / 6836], examples_per_second: 2993.4424, train_label_loss: 0.0471, \n"
     ]
    },
    {
     "name": "stdout",
     "output_type": "stream",
     "text": [
      "epoch: 4, [batch: 2051 / 6836], examples_per_second: 2579.0878, train_label_loss: 0.1855, \n"
     ]
    },
    {
     "name": "stdout",
     "output_type": "stream",
     "text": [
      "epoch: 4, [batch: 2735 / 6836], examples_per_second: 2577.0773, train_label_loss: 0.0540, \n"
     ]
    },
    {
     "name": "stdout",
     "output_type": "stream",
     "text": [
      "epoch: 4, [batch: 3418 / 6836], examples_per_second: 2533.7055, train_label_loss: 0.3687, \n"
     ]
    },
    {
     "name": "stdout",
     "output_type": "stream",
     "text": [
      "epoch: 4, [batch: 4102 / 6836], examples_per_second: 2531.5048, train_label_loss: 0.0027, \n"
     ]
    },
    {
     "name": "stdout",
     "output_type": "stream",
     "text": [
      "epoch: 4, [batch: 4785 / 6836], examples_per_second: 2833.8598, train_label_loss: 0.2029, \n"
     ]
    },
    {
     "name": "stdout",
     "output_type": "stream",
     "text": [
      "epoch: 4, [batch: 5469 / 6836], examples_per_second: 3177.8279, train_label_loss: 0.2280, \n"
     ]
    },
    {
     "name": "stdout",
     "output_type": "stream",
     "text": [
      "epoch: 4, [batch: 6152 / 6836], examples_per_second: 3392.0716, train_label_loss: 0.0840, \n"
     ]
    },
    {
     "name": "stdout",
     "output_type": "stream",
     "text": [
      "=============================================================\n",
      "epoch: 4, source_val_acc_label: 0.9731, target_val_acc_label: 0.1590, source_val_label_loss: 0.1223, target_val_label_loss: 2.6122, \n",
      "=============================================================\n"
     ]
    },
    {
     "name": "stdout",
     "output_type": "stream",
     "text": [
      "epoch: 5, [batch: 1 / 6857], examples_per_second: 3.0225, train_label_loss: 0.0980, \n"
     ]
    },
    {
     "name": "stdout",
     "output_type": "stream",
     "text": [
      "epoch: 5, [batch: 686 / 6857], examples_per_second: 3383.9059, train_label_loss: 0.1397, \n"
     ]
    },
    {
     "name": "stdout",
     "output_type": "stream",
     "text": [
      "epoch: 5, [batch: 1372 / 6857], examples_per_second: 3420.4009, train_label_loss: 0.0584, \n"
     ]
    },
    {
     "name": "stdout",
     "output_type": "stream",
     "text": [
      "epoch: 5, [batch: 2057 / 6857], examples_per_second: 3357.7364, train_label_loss: 0.0065, \n"
     ]
    },
    {
     "name": "stdout",
     "output_type": "stream",
     "text": [
      "epoch: 5, [batch: 2743 / 6857], examples_per_second: 3006.4603, train_label_loss: 0.0267, \n"
     ]
    },
    {
     "name": "stdout",
     "output_type": "stream",
     "text": [
      "epoch: 5, [batch: 3429 / 6857], examples_per_second: 2663.4067, train_label_loss: 0.0689, \n"
     ]
    },
    {
     "name": "stdout",
     "output_type": "stream",
     "text": [
      "epoch: 5, [batch: 4114 / 6857], examples_per_second: 2309.5683, train_label_loss: 0.1479, \n"
     ]
    },
    {
     "name": "stdout",
     "output_type": "stream",
     "text": [
      "epoch: 5, [batch: 4800 / 6857], examples_per_second: 2291.3451, train_label_loss: 0.0915, \n"
     ]
    },
    {
     "name": "stdout",
     "output_type": "stream",
     "text": [
      "epoch: 5, [batch: 5485 / 6857], examples_per_second: 2491.6066, train_label_loss: 0.1405, \n"
     ]
    },
    {
     "name": "stdout",
     "output_type": "stream",
     "text": [
      "epoch: 5, [batch: 6171 / 6857], examples_per_second: 2565.5668, train_label_loss: 0.0765, \n"
     ]
    },
    {
     "name": "stdout",
     "output_type": "stream",
     "text": [
      "=============================================================\n",
      "epoch: 5, source_val_acc_label: 0.9728, target_val_acc_label: 0.1390, source_val_label_loss: 0.1294, target_val_label_loss: 2.7177, \n",
      "=============================================================\n"
     ]
    },
    {
     "name": "stdout",
     "output_type": "stream",
     "text": [
      "Patience (3) exhausted\n"
     ]
    }
   ],
   "source": [
    "###################################\n",
    "# train\n",
    "###################################\n",
    "jig = PTN_Train_Eval_Test_Jig(model, p.BEST_MODEL_PATH, p.device)\n",
    "\n",
    "jig.train(\n",
    "    train_iterable=datasets.source.processed.train,\n",
    "    source_val_iterable=datasets.source.processed.val,\n",
    "    target_val_iterable=datasets.target.processed.val,\n",
    "    num_epochs=p.n_epoch,\n",
    "    num_logs_per_epoch=p.NUM_LOGS_PER_EPOCH,\n",
    "    patience=p.patience,\n",
    "    optimizer=optimizer,\n",
    "    criteria_for_best=p.criteria_for_best,\n",
    ")"
   ]
  },
  {
   "cell_type": "code",
   "execution_count": 23,
   "id": "31e8fabf",
   "metadata": {
    "execution": {
     "iopub.execute_input": "2022-03-21T04:50:51.380028Z",
     "iopub.status.busy": "2022-03-21T04:50:51.379645Z",
     "iopub.status.idle": "2022-03-21T04:50:51.410895Z",
     "shell.execute_reply": "2022-03-21T04:50:51.411613Z"
    },
    "papermill": {
     "duration": 0.07453,
     "end_time": "2022-03-21T04:50:51.411850",
     "exception": false,
     "start_time": "2022-03-21T04:50:51.337320",
     "status": "completed"
    },
    "tags": []
   },
   "outputs": [],
   "source": [
    "total_experiment_time_secs = time.time() - start_time_secs"
   ]
  },
  {
   "cell_type": "code",
   "execution_count": 24,
   "id": "87b9595b",
   "metadata": {
    "execution": {
     "iopub.execute_input": "2022-03-21T04:50:51.503292Z",
     "iopub.status.busy": "2022-03-21T04:50:51.502662Z",
     "iopub.status.idle": "2022-03-21T04:55:03.846665Z",
     "shell.execute_reply": "2022-03-21T04:55:03.845775Z"
    },
    "papermill": {
     "duration": 252.390254,
     "end_time": "2022-03-21T04:55:03.846848",
     "exception": false,
     "start_time": "2022-03-21T04:50:51.456594",
     "status": "completed"
    },
    "tags": []
   },
   "outputs": [],
   "source": [
    "###################################\n",
    "# Evaluate the model\n",
    "###################################\n",
    "source_test_label_accuracy, source_test_label_loss = jig.test(datasets.source.processed.test)\n",
    "target_test_label_accuracy, target_test_label_loss = jig.test(datasets.target.processed.test)\n",
    "\n",
    "source_val_label_accuracy, source_val_label_loss = jig.test(datasets.source.processed.val)\n",
    "target_val_label_accuracy, target_val_label_loss = jig.test(datasets.target.processed.val)\n",
    "\n",
    "history = jig.get_history()\n",
    "\n",
    "total_epochs_trained = len(history[\"epoch_indices\"])\n",
    "\n",
    "val_dl = Iterable_Aggregator((datasets.source.original.val,datasets.target.original.val))\n",
    "\n",
    "confusion = ptn_confusion_by_domain_over_dataloader(model, p.device, val_dl)\n",
    "per_domain_accuracy = per_domain_accuracy_from_confusion(confusion)\n",
    "\n",
    "# Add a key to per_domain_accuracy for if it was a source domain\n",
    "for domain, accuracy in per_domain_accuracy.items():\n",
    "    per_domain_accuracy[domain] = {\n",
    "        \"accuracy\": accuracy,\n",
    "        \"source?\": domain in p.domains_source\n",
    "    }\n",
    "\n",
    "# Do an independent accuracy assesment JUST TO BE SURE!\n",
    "# _source_test_label_accuracy = independent_accuracy_assesment(model, datasets.source.processed.test, p.device)\n",
    "# _target_test_label_accuracy = independent_accuracy_assesment(model, datasets.target.processed.test, p.device)\n",
    "# _source_val_label_accuracy = independent_accuracy_assesment(model, datasets.source.processed.val, p.device)\n",
    "# _target_val_label_accuracy = independent_accuracy_assesment(model, datasets.target.processed.val, p.device)\n",
    "\n",
    "# assert(_source_test_label_accuracy == source_test_label_accuracy)\n",
    "# assert(_target_test_label_accuracy == target_test_label_accuracy)\n",
    "# assert(_source_val_label_accuracy == source_val_label_accuracy)\n",
    "# assert(_target_val_label_accuracy == target_val_label_accuracy)\n",
    "\n",
    "experiment = {\n",
    "    \"experiment_name\": p.experiment_name,\n",
    "    \"parameters\": dict(p),\n",
    "    \"results\": {\n",
    "        \"source_test_label_accuracy\": source_test_label_accuracy,\n",
    "        \"source_test_label_loss\": source_test_label_loss,\n",
    "        \"target_test_label_accuracy\": target_test_label_accuracy,\n",
    "        \"target_test_label_loss\": target_test_label_loss,\n",
    "        \"source_val_label_accuracy\": source_val_label_accuracy,\n",
    "        \"source_val_label_loss\": source_val_label_loss,\n",
    "        \"target_val_label_accuracy\": target_val_label_accuracy,\n",
    "        \"target_val_label_loss\": target_val_label_loss,\n",
    "        \"total_epochs_trained\": total_epochs_trained,\n",
    "        \"total_experiment_time_secs\": total_experiment_time_secs,\n",
    "        \"confusion\": confusion,\n",
    "        \"per_domain_accuracy\": per_domain_accuracy,\n",
    "    },\n",
    "    \"history\": history,\n",
    "    \"dataset_metrics\": get_dataset_metrics(datasets, \"ptn\"),\n",
    "}"
   ]
  },
  {
   "cell_type": "code",
   "execution_count": 25,
   "id": "54a21829",
   "metadata": {
    "execution": {
     "iopub.execute_input": "2022-03-21T04:55:03.943005Z",
     "iopub.status.busy": "2022-03-21T04:55:03.942427Z",
     "iopub.status.idle": "2022-03-21T04:55:04.156032Z",
     "shell.execute_reply": "2022-03-21T04:55:04.156364Z"
    },
    "papermill": {
     "duration": 0.256611,
     "end_time": "2022-03-21T04:55:04.156503",
     "exception": false,
     "start_time": "2022-03-21T04:55:03.899892",
     "status": "completed"
    },
    "tags": []
   },
   "outputs": [
    {
     "data": {
      "image/png": "[encoded data removed]",
      "text/plain": [
       "<Figure size 1080x504 with 1 Axes>"
      ]
     },
     "metadata": {
      "needs_background": "light"
     },
     "output_type": "display_data"
    }
   ],
   "source": [
    "ax = get_loss_curve(experiment)\n",
    "plt.show()"
   ]
  },
  {
   "cell_type": "code",
   "execution_count": 26,
   "id": "fd8a0f60",
   "metadata": {
    "execution": {
     "iopub.execute_input": "2022-03-21T04:55:04.237777Z",
     "iopub.status.busy": "2022-03-21T04:55:04.237220Z",
     "iopub.status.idle": "2022-03-21T04:55:04.579807Z",
     "shell.execute_reply": "2022-03-21T04:55:04.580138Z"
    },
    "papermill": {
     "duration": 0.384455,
     "end_time": "2022-03-21T04:55:04.580274",
     "exception": false,
     "start_time": "2022-03-21T04:55:04.195819",
     "status": "completed"
    },
    "tags": []
   },
   "outputs": [
    {
     "data": {
      "text/plain": [
       "<AxesSubplot:title={'center':'Results'}>"
      ]
     },
     "execution_count": 26,
     "metadata": {},
     "output_type": "execute_result"
    },
    {
     "data": {
      "image/png": "[encoded data removed]",
      "text/plain": [
       "<Figure size 1080x504 with 1 Axes>"
      ]
     },
     "metadata": {
      "needs_background": "light"
     },
     "output_type": "display_data"
    }
   ],
   "source": [
    "get_results_table(experiment)"
   ]
  },
  {
   "cell_type": "code",
   "execution_count": 27,
   "id": "cf8dc689",
   "metadata": {
    "execution": {
     "iopub.execute_input": "2022-03-21T04:55:04.662895Z",
     "iopub.status.busy": "2022-03-21T04:55:04.662331Z",
     "iopub.status.idle": "2022-03-21T04:55:04.910800Z",
     "shell.execute_reply": "2022-03-21T04:55:04.910370Z"
    },
    "papermill": {
     "duration": 0.290788,
     "end_time": "2022-03-21T04:55:04.910910",
     "exception": false,
     "start_time": "2022-03-21T04:55:04.620122",
     "status": "completed"
    },
    "tags": []
   },
   "outputs": [
    {
     "data": {
      "text/plain": [
       "<AxesSubplot:title={'center':'Per Domain Validation Accuracy'}, xlabel='domain'>"
      ]
     },
     "execution_count": 27,
     "metadata": {},
     "output_type": "execute_result"
    },
    {
     "data": {
      "image/png": "[encoded data removed]",
      "text/plain": [
       "<Figure size 1080x504 with 1 Axes>"
      ]
     },
     "metadata": {
      "needs_background": "light"
     },
     "output_type": "display_data"
    }
   ],
   "source": [
    "get_domain_accuracies(experiment)"
   ]
  },
  {
   "cell_type": "code",
   "execution_count": 28,
   "id": "a74ae082",
   "metadata": {
    "execution": {
     "iopub.execute_input": "2022-03-21T04:55:04.996993Z",
     "iopub.status.busy": "2022-03-21T04:55:04.996587Z",
     "iopub.status.idle": "2022-03-21T04:55:05.025353Z",
     "shell.execute_reply": "2022-03-21T04:55:05.025819Z"
    },
    "papermill": {
     "duration": 0.07349,
     "end_time": "2022-03-21T04:55:05.025979",
     "exception": false,
     "start_time": "2022-03-21T04:55:04.952489",
     "status": "completed"
    },
    "tags": []
   },
   "outputs": [
    {
     "name": "stdout",
     "output_type": "stream",
     "text": [
      "Source Test Label Accuracy: 0.9619130546955624 Target Test Label Accuracy: 0.19977213541666666\n",
      "Source Val Label Accuracy: 0.9615664724576272 Target Val Label Accuracy: 0.19690755208333333\n"
     ]
    }
   ],
   "source": [
    "print(\"Source Test Label Accuracy:\", experiment[\"results\"][\"source_test_label_accuracy\"], \"Target Test Label Accuracy:\", experiment[\"results\"][\"target_test_label_accuracy\"])\n",
    "print(\"Source Val Label Accuracy:\", experiment[\"results\"][\"source_val_label_accuracy\"], \"Target Val Label Accuracy:\", experiment[\"results\"][\"target_val_label_accuracy\"])"
   ]
  },
  {
   "cell_type": "code",
   "execution_count": 29,
   "id": "dacca602",
   "metadata": {
    "execution": {
     "iopub.execute_input": "2022-03-21T04:55:05.117969Z",
     "iopub.status.busy": "2022-03-21T04:55:05.117389Z",
     "iopub.status.idle": "2022-03-21T04:55:05.141284Z",
     "shell.execute_reply": "2022-03-21T04:55:05.141604Z"
    },
    "papermill": {
     "duration": 0.070298,
     "end_time": "2022-03-21T04:55:05.141711",
     "exception": false,
     "start_time": "2022-03-21T04:55:05.071413",
     "status": "completed"
    },
    "tags": [
     "experiment_json"
    ]
   },
   "outputs": [
    {
     "data": {
      "text/plain": [
       "'{\"experiment_name\": \"tl_1v2:wisig-oracle.run1.framed\", \"parameters\": {\"experiment_name\": \"tl_1v2:wisig-oracle.run1.framed\", \"device\": \"cuda\", \"lr\": 0.0001, \"n_shot\": 3, \"n_query\": 2, \"train_k_factor\": 3, \"val_k_factor\": 2, \"test_k_factor\": 2, \"torch_default_dtype\": \"torch.float32\", \"n_epoch\": 50, \"patience\": 3, \"criteria_for_best\": \"target_accuracy\", \"x_net\": [{\"class\": \"nnReshape\", \"kargs\": {\"shape\": [-1, 1, 2, 256]}}, {\"class\": \"Conv2d\", \"kargs\": {\"in_channels\": 1, \"out_channels\": 256, \"kernel_size\": [1, 7], \"bias\": false, \"padding\": [0, 3]}}, {\"class\": \"ReLU\", \"kargs\": {\"inplace\": true}}, {\"class\": \"BatchNorm2d\", \"kargs\": {\"num_features\": 256}}, {\"class\": \"Conv2d\", \"kargs\": {\"in_channels\": 256, \"out_channels\": 80, \"kernel_size\": [2, 7], \"bias\": true, \"padding\": [0, 3]}}, {\"class\": \"ReLU\", \"kargs\": {\"inplace\": true}}, {\"class\": \"BatchNorm2d\", \"kargs\": {\"num_features\": 80}}, {\"class\": \"Flatten\", \"kargs\": {}}, {\"class\": \"Linear\", \"kargs\": {\"in_features\": 20480, \"out_features\": 256}}, {\"class\": \"ReLU\", \"kargs\": {\"inplace\": true}}, {\"class\": \"BatchNorm1d\", \"kargs\": {\"num_features\": 256}}, {\"class\": \"Linear\", \"kargs\": {\"in_features\": 256, \"out_features\": 256}}], \"NUM_LOGS_PER_EPOCH\": 10, \"BEST_MODEL_PATH\": \"./best_model.pth\", \"n_way\": 16, \"datasets\": [{\"labels\": [\"1-10\", \"1-12\", \"1-14\", \"1-16\", \"1-18\", \"1-19\", \"1-8\", \"10-11\", \"10-17\", \"10-4\", \"10-7\", \"11-1\", \"11-10\", \"11-19\", \"11-20\", \"11-4\", \"11-7\", \"12-19\", \"12-20\", \"12-7\", \"13-14\", \"13-18\", \"13-19\", \"13-20\", \"13-3\", \"13-7\", \"14-10\", \"14-11\", \"14-12\", \"14-13\", \"14-14\", \"14-19\", \"14-20\", \"14-7\", \"14-8\", \"14-9\", \"15-1\", \"15-19\", \"15-6\", \"16-1\", \"16-16\", \"16-19\", \"16-20\", \"17-10\", \"17-11\", \"18-1\", \"18-10\", \"18-11\", \"18-12\", \"18-13\", \"18-14\", \"18-15\", \"18-16\", \"18-17\", \"18-19\", \"18-2\", \"18-20\", \"18-4\", \"18-5\", \"18-7\", \"18-8\", \"18-9\", \"19-1\", \"19-10\", \"19-11\", \"19-12\", \"19-13\", \"19-14\", \"19-15\", \"19-19\", \"19-2\", \"19-20\", \"19-3\", \"19-4\", \"19-6\", \"19-7\", \"19-8\", \"19-9\", \"2-1\", \"2-13\", \"2-15\", \"2-3\", \"2-4\", \"2-5\", \"2-6\", \"2-7\", \"2-8\", \"20-1\", \"20-12\", \"20-14\", \"20-15\", \"20-16\", \"20-18\", \"20-19\", \"20-20\", \"20-3\", \"20-4\", \"20-5\", \"20-7\", \"20-8\", \"3-1\", \"3-13\", \"3-18\", \"3-2\", \"3-8\", \"4-1\", \"4-10\", \"4-11\", \"5-1\", \"5-5\", \"6-1\", \"6-15\", \"6-6\", \"7-10\", \"7-11\", \"7-12\", \"7-13\", \"7-14\", \"7-7\", \"7-8\", \"7-9\", \"8-1\", \"8-13\", \"8-14\", \"8-18\", \"8-20\", \"8-3\", \"8-8\", \"9-1\", \"9-7\"], \"domains\": [1, 2, 3, 4], \"num_examples_per_domain_per_label\": -1, \"pickle_path\": \"/root/csc500-main/datasets/wisig.node3-19.stratified_ds.2022A.pkl\", \"source_or_target_dataset\": \"source\", \"x_transforms\": [\"unit_power\"], \"episode_transforms\": [], \"domain_prefix\": \"Wisig_\"}, {\"labels\": [\"3123D52\", \"3123D65\", \"3123D79\", \"3123D80\", \"3123D54\", \"3123D70\", \"3123D7B\", \"3123D89\", \"3123D58\", \"3123D76\", \"3123D7D\", \"3123EFE\", \"3123D64\", \"3123D78\", \"3123D7E\", \"3124E4A\"], \"domains\": [32, 38, 8, 44, 14, 50, 20, 26], \"num_examples_per_domain_per_label\": 2000, \"pickle_path\": \"/root/csc500-main/datasets/oracle.Run1_framed_2000Examples_stratified_ds.2022A.pkl\", \"source_or_target_dataset\": \"target\", \"x_transforms\": [\"unit_power\"], \"episode_transforms\": [], \"domain_prefix\": \"ORACLE.run1\"}], \"dataset_seed\": 1337, \"seed\": 1337, \"x_shape\": [2, 256], \"domains_source\": [\"Wisig_1\", \"Wisig_2\", \"Wisig_3\", \"Wisig_4\"], \"domains_target\": [\"ORACLE.run132\", \"ORACLE.run138\", \"ORACLE.run18\", \"ORACLE.run144\", \"ORACLE.run114\", \"ORACLE.run150\", \"ORACLE.run120\", \"ORACLE.run126\"]}, \"results\": {\"source_test_label_accuracy\": 0.9619130546955624, \"source_test_label_loss\": 0.1683053970336914, \"target_test_label_accuracy\": 0.19977213541666666, \"target_test_label_loss\": 2.4944353103637695, \"source_val_label_accuracy\": 0.9615664724576272, \"source_val_label_loss\": 0.17653238773345947, \"target_val_label_accuracy\": 0.19690755208333333, \"target_val_label_loss\": 2.5011184215545654, \"total_epochs_trained\": 5, \"total_experiment_time_secs\": 1286.2292597293854, \"confusion\": {\"Wisig_3\": {\"109\": {\"109\": 126, \"70\": 1, \"118\": 1}, \"127\": {\"127\": 126, \"71\": 1, \"69\": 1}, \"14\": {\"14\": 80}, \"7\": {\"7\": 111, \"111\": 1}, \"129\": {\"129\": 29, \"110\": 2, \"70\": 1}, \"57\": {\"57\": 20}, \"84\": {\"84\": 107, \"118\": 1}, \"114\": {\"114\": 121, \"29\": 1, \"28\": 1, \"70\": 1}, \"44\": {\"44\": 72}, \"21\": {\"21\": 46, \"19\": 1, \"6\": 1}, \"46\": {\"46\": 16}, \"100\": {\"100\": 16}, \"63\": {\"63\": 15, \"21\": 1}, \"24\": {\"24\": 45, \"40\": 1, \"27\": 1, \"97\": 1}, \"107\": {\"107\": 117, \"90\": 1}, \"35\": {\"35\": 11, \"62\": 1}, \"81\": {\"81\": 32}, \"64\": {\"64\": 20}, \"59\": {\"59\": 12}, \"33\": {\"33\": 111, \"118\": 1, \"43\": 1, \"3\": 1}, \"34\": {\"34\": 23, \"32\": 4, \"8\": 1, \"124\": 1, \"77\": 1, \"128\": 1, \"91\": 1}, \"36\": {\"36\": 116, \"27\": 1, \"98\": 1, \"24\": 1, \"87\": 1}, \"79\": {\"79\": 12}, \"80\": {\"80\": 16}, \"77\": {\"77\": 15, \"81\": 1}, \"22\": {\"22\": 16}, \"124\": {\"124\": 123, \"60\": 1}, \"2\": {\"2\": 26, \"26\": 1, \"81\": 1}, \"87\": {\"87\": 112}, \"105\": {\"105\": 122}, \"95\": {\"95\": 32}, \"43\": {\"43\": 48, \"21\": 3, \"23\": 2, \"128\": 1, \"78\": 1, \"18\": 1}, \"56\": {\"56\": 12}, \"18\": {\"18\": 121, \"110\": 1, \"21\": 1, \"84\": 1}, \"85\": {\"85\": 36}, \"113\": {\"113\": 119, \"127\": 1}, \"97\": {\"97\": 18, \"60\": 1, \"122\": 1}, \"86\": {\"86\": 26, \"128\": 1, \"56\": 1}, \"128\": {\"128\": 29, \"19\": 1, \"17\": 1, \"43\": 1}, \"123\": {\"123\": 16}, \"8\": {\"8\": 130}, \"110\": {\"110\": 83, \"17\": 2, \"78\": 1, \"19\": 1, \"30\": 1, \"0\": 1, \"101\": 1}, \"126\": {\"21\": 1, \"126\": 98, \"5\": 1, \"101\": 1, \"18\": 1, \"105\": 1, \"114\": 1}, \"42\": {\"42\": 25, \"83\": 1, \"112\": 2}, \"96\": {\"96\": 20}, \"83\": {\"83\": 24}, \"54\": {\"54\": 16}, \"65\": {\"65\": 10, \"113\": 1, \"64\": 1}, \"30\": {\"30\": 82, \"36\": 1, \"70\": 1}, \"121\": {\"121\": 27, \"17\": 1, \"21\": 1, \"85\": 1, \"84\": 1, \"23\": 1}, \"68\": {\"68\": 15, \"128\": 1}, \"45\": {\"45\": 15, \"94\": 1}, \"48\": {\"48\": 8, \"65\": 1, \"78\": 1, \"77\": 1, \"53\": 2, \"79\": 3}, \"4\": {\"4\": 94, \"105\": 1, \"87\": 1}, \"67\": {\"67\": 16}, \"103\": {\"103\": 15, \"31\": 1}, \"74\": {\"74\": 16}, \"1\": {\"1\": 106, \"16\": 1, \"82\": 1}, \"61\": {\"61\": 16}, \"101\": {\"101\": 47, \"9\": 1, \"6\": 1, \"122\": 1, \"25\": 1, \"0\": 1}, \"93\": {\"93\": 138}, \"26\": {\"26\": 130}, \"71\": {\"71\": 68}, \"15\": {\"15\": 102, \"40\": 2}, \"55\": {\"55\": 16}, \"104\": {\"104\": 16}, \"112\": {\"112\": 15, \"118\": 1}, \"102\": {\"102\": 122}, \"117\": {\"117\": 112}, \"119\": {\"119\": 16}, \"20\": {\"20\": 15, \"80\": 1}, \"120\": {\"120\": 20}, \"39\": {\"39\": 101, \"40\": 1, \"88\": 1, \"5\": 1, \"122\": 1, \"70\": 1, \"19\": 1, \"8\": 1}, \"49\": {\"49\": 19, \"42\": 2, \"25\": 1, \"108\": 1, \"8\": 1}, \"53\": {\"53\": 20}, \"92\": {\"92\": 31, \"8\": 1}, \"3\": {\"3\": 114, \"71\": 2}, \"47\": {\"47\": 12}, \"115\": {\"115\": 16}, \"58\": {\"58\": 16}, \"29\": {\"29\": 32}, \"12\": {\"12\": 104}, \"62\": {\"62\": 116, \"26\": 1, \"87\": 1}, \"11\": {\"11\": 139, \"110\": 1}, \"72\": {\"72\": 28}, \"98\": {\"98\": 106}, \"122\": {\"122\": 55, \"19\": 2, \"21\": 2, \"82\": 1}, \"17\": {\"17\": 10, \"110\": 1, \"63\": 1, \"104\": 2, \"68\": 1, \"43\": 1}, \"94\": {\"94\": 84}, \"106\": {\"106\": 88, \"5\": 1, \"114\": 1}, \"28\": {\"28\": 16}, \"69\": {\"69\": 78, \"87\": 2, \"106\": 1, \"114\": 1, \"70\": 1, \"7\": 1}, \"125\": {\"125\": 111, \"70\": 1, \"39\": 1, \"11\": 1}, \"19\": {\"19\": 32}, \"41\": {\"41\": 15, \"99\": 1}, \"60\": {\"60\": 24, \"23\": 1, \"28\": 1, \"19\": 1, \"31\": 1}, \"70\": {\"70\": 68, \"122\": 1, \"92\": 1, \"106\": 1, \"110\": 1}, \"27\": {\"27\": 92, \"36\": 3, \"23\": 1}, \"10\": {\"10\": 113, \"9\": 1, \"5\": 1, \"0\": 2, \"92\": 1}, \"108\": {\"108\": 136, \"40\": 1, \"88\": 2, \"110\": 1}, \"9\": {\"9\": 32}, \"25\": {\"25\": 15, \"108\": 1}, \"37\": {\"37\": 15, \"73\": 1}, \"0\": {\"101\": 3, \"0\": 113}, \"66\": {\"66\": 16}, \"51\": {\"51\": 16}, \"76\": {\"76\": 16}, \"32\": {\"32\": 29, \"17\": 1, \"107\": 1, \"9\": 1}, \"88\": {\"88\": 104, \"108\": 3, \"85\": 1, \"70\": 1, \"19\": 1, \"113\": 1, \"114\": 1}, \"31\": {\"31\": 20}, \"91\": {\"91\": 23, \"76\": 1}, \"90\": {\"90\": 125, \"124\": 1}, \"13\": {\"13\": 10, \"90\": 1, \"82\": 1, \"44\": 3, \"101\": 1}, \"50\": {\"50\": 16}, \"78\": {\"78\": 16}, \"116\": {\"116\": 21, \"43\": 2, \"82\": 2, \"78\": 1, \"16\": 1, \"23\": 1}, \"5\": {\"5\": 111, \"40\": 1}, \"75\": {\"75\": 16}, \"89\": {\"89\": 28}, \"16\": {\"16\": 114, \"71\": 1, \"27\": 1}, \"38\": {\"38\": 15, \"89\": 1}, \"118\": {\"118\": 97, \"30\": 1, \"87\": 1, \"33\": 1}, \"99\": {\"99\": 35, \"36\": 1}, \"52\": {\"52\": 16}, \"111\": {\"111\": 128}, \"23\": {\"23\": 23, \"29\": 1, \"19\": 1, \"30\": 1, \"114\": 1, \"70\": 1, \"121\": 1, \"71\": 1, \"21\": 1, \"5\": 1}, \"73\": {\"73\": 37, \"30\": 1, \"8\": 2}, \"82\": {\"82\": 26, \"9\": 1, \"21\": 1}, \"40\": {\"40\": 127, \"70\": 1}, \"6\": {\"6\": 29, \"41\": 1, \"101\": 2}}, \"Wisig_4\": {\"28\": {\"28\": 20}, \"4\": {\"4\": 99, \"12\": 1, \"27\": 1, \"86\": 2, \"71\": 1}, \"72\": {\"72\": 31, \"115\": 1}, \"111\": {\"111\": 132, \"127\": 1, \"122\": 1, \"0\": 1, \"40\": 1}, \"108\": {\"108\": 81, \"129\": 2, \"122\": 1, \"36\": 1, \"125\": 1, \"88\": 1, \"27\": 1, \"39\": 1, \"5\": 2, \"10\": 1}, \"43\": {\"43\": 112, \"78\": 1, \"99\": 2, \"71\": 1, \"87\": 2, \"4\": 1, \"10\": 1}, \"96\": {\"96\": 20}, \"89\": {\"89\": 29, \"1\": 1, \"8\": 1, \"78\": 1}, \"31\": {\"31\": 16}, \"45\": {\"45\": 16}, \"2\": {\"2\": 24, \"96\": 1, \"26\": 3}, \"114\": {\"114\": 126, \"12\": 1, \"105\": 1}, \"11\": {\"11\": 135, \"87\": 1}, \"12\": {\"12\": 97, \"36\": 1, \"122\": 1, \"72\": 1}, \"14\": {\"14\": 111, \"8\": 1}, \"90\": {\"90\": 153, \"122\": 1}, \"10\": {\"10\": 118, \"24\": 1, \"87\": 1, \"88\": 1, \"27\": 1}, \"63\": {\"63\": 16}, \"85\": {\"85\": 27, \"1\": 1}, \"64\": {\"64\": 14, \"67\": 1, \"129\": 1}, \"82\": {\"82\": 31, \"62\": 1}, \"58\": {\"58\": 15, \"27\": 1}, \"3\": {\"3\": 131, \"101\": 1, \"21\": 2, \"88\": 1, \"27\": 1}, \"54\": {\"54\": 16}, \"121\": {\"121\": 31, \"63\": 1}, \"42\": {\"42\": 21, \"112\": 1, \"79\": 1, \"32\": 1, \"9\": 1, \"73\": 1, \"13\": 1, \"8\": 1}, \"98\": {\"98\": 114, \"26\": 1, \"44\": 1, \"3\": 1, \"81\": 1, \"24\": 1, \"39\": 1}, \"123\": {\"123\": 16}, \"91\": {\"91\": 24}, \"83\": {\"83\": 27, \"106\": 1}, \"99\": {\"99\": 40}, \"112\": {\"112\": 16}, \"119\": {\"119\": 16}, \"70\": {\"70\": 117, \"88\": 4, \"118\": 1, \"59\": 1, \"10\": 1}, \"20\": {\"20\": 15, \"1\": 1}, \"120\": {\"120\": 19, \"32\": 1}, \"7\": {\"7\": 122, \"108\": 1, \"1\": 1}, \"60\": {\"60\": 29, \"19\": 1, \"46\": 1, \"43\": 1}, \"113\": {\"113\": 115, \"21\": 1, \"87\": 1, \"0\": 1}, \"37\": {\"37\": 14, \"67\": 1, \"128\": 1}, \"124\": {\"124\": 110}, \"27\": {\"27\": 96, \"88\": 1, \"111\": 1, \"100\": 1, \"119\": 1}, \"86\": {\"86\": 28}, \"127\": {\"127\": 102, \"0\": 2, \"60\": 1, \"111\": 1, \"122\": 1, \"1\": 1}, \"62\": {\"62\": 53, \"71\": 1, \"122\": 1, \"118\": 2, \"108\": 1, \"41\": 1, \"110\": 1}, \"122\": {\"122\": 80, \"49\": 1, \"81\": 1, \"1\": 1, \"43\": 1}, \"51\": {\"51\": 9, \"6\": 1, \"30\": 1, \"21\": 1, \"95\": 1, \"23\": 1, \"62\": 1, \"55\": 1}, \"109\": {\"109\": 111, \"118\": 1, \"100\": 1, \"14\": 1}, \"106\": {\"106\": 107, \"3\": 1, \"113\": 1, \"78\": 1, \"1\": 2, \"12\": 1, \"88\": 1}, \"94\": {\"94\": 87, \"10\": 1}, \"38\": {\"38\": 15, \"66\": 1}, \"129\": {\"129\": 26, \"21\": 1, \"108\": 1}, \"116\": {\"116\": 23, \"33\": 2, \"57\": 1, \"108\": 1, \"43\": 1}, \"107\": {\"107\": 118}, \"30\": {\"6\": 1, \"30\": 72, \"0\": 1, \"36\": 1, \"27\": 1}, \"102\": {\"102\": 131, \"41\": 1}, \"74\": {\"74\": 16}, \"101\": {\"101\": 129, \"107\": 1, \"0\": 2}, \"117\": {\"117\": 119, \"71\": 1, \"78\": 1, \"10\": 1, \"26\": 1, \"81\": 1}, \"1\": {\"1\": 94, \"71\": 1, \"78\": 1, \"99\": 1, \"70\": 1, \"88\": 2, \"33\": 2, \"18\": 1, \"21\": 2, \"102\": 1, \"30\": 1, \"106\": 1}, \"84\": {\"84\": 128, \"71\": 1, \"105\": 1, \"30\": 1, \"12\": 1}, \"17\": {\"17\": 20}, \"6\": {\"6\": 24}, \"110\": {\"110\": 122, \"84\": 1, \"1\": 1}, \"77\": {\"77\": 12}, \"8\": {\"8\": 129, \"73\": 1, \"127\": 1, \"4\": 1}, \"73\": {\"73\": 21, \"10\": 2, \"36\": 1}, \"126\": {\"126\": 119, \"39\": 1, \"43\": 1, \"70\": 1, \"88\": 1, \"113\": 1}, \"57\": {\"57\": 16}, \"95\": {\"95\": 31, \"8\": 1}, \"103\": {\"103\": 16}, \"97\": {\"97\": 18, \"10\": 1, \"89\": 1}, \"39\": {\"8\": 1, \"39\": 90, \"4\": 2, \"81\": 1, \"113\": 2, \"21\": 2, \"108\": 1, \"87\": 1}, \"100\": {\"100\": 20}, \"40\": {\"40\": 109, \"69\": 1}, \"36\": {\"36\": 124, \"84\": 1, \"21\": 1}, \"19\": {\"19\": 28}, \"118\": {\"118\": 108, \"82\": 1, \"3\": 1, \"24\": 1, \"12\": 1}, \"56\": {\"56\": 12}, \"26\": {\"26\": 125, \"84\": 1}, \"5\": {\"5\": 134, \"26\": 1, \"4\": 1}, \"21\": {\"21\": 38, \"23\": 1, \"1\": 1}, \"22\": {\"22\": 15, \"36\": 1}, \"68\": {\"68\": 16}, \"9\": {\"9\": 28}, \"66\": {\"66\": 15, \"21\": 1}, \"87\": {\"87\": 120, \"105\": 2, \"43\": 1, \"12\": 1}, \"71\": {\"71\": 103, \"21\": 1}, \"115\": {\"115\": 12, \"103\": 1, \"91\": 1, \"72\": 1, \"43\": 1}, \"23\": {\"89\": 1, \"23\": 9, \"21\": 1, \"51\": 1, \"80\": 1, \"121\": 2, \"53\": 1}, \"33\": {\"33\": 116, \"0\": 1, \"84\": 1}, \"35\": {\"35\": 11, \"3\": 1}, \"125\": {\"125\": 127, \"98\": 1, \"108\": 1, \"117\": 1, \"43\": 1, \"10\": 1}, \"47\": {\"95\": 2, \"47\": 10}, \"79\": {\"79\": 16}, \"53\": {\"53\": 16}, \"67\": {\"113\": 4, \"23\": 1, \"84\": 1, \"116\": 1, \"67\": 6, \"123\": 1, \"42\": 1, \"107\": 1}, \"80\": {\"80\": 16}, \"105\": {\"105\": 95, \"70\": 1, \"71\": 2, \"15\": 1, \"60\": 1}, \"76\": {\"76\": 16}, \"46\": {\"46\": 20}, \"34\": {\"120\": 2, \"34\": 19, \"72\": 3, \"99\": 1, \"98\": 1, \"75\": 2, \"32\": 1, \"115\": 1, \"104\": 1, \"54\": 1}, \"32\": {\"32\": 23, \"120\": 1, \"29\": 1, \"109\": 1, \"118\": 2}, \"13\": {\"13\": 16}, \"78\": {\"78\": 30, \"74\": 2, \"128\": 1, \"60\": 1, \"34\": 1, \"1\": 1}, \"41\": {\"41\": 16}, \"69\": {\"69\": 124, \"87\": 1, \"4\": 1, \"88\": 1, \"71\": 1}, \"88\": {\"88\": 120, \"26\": 1, \"108\": 1, \"70\": 7, \"124\": 1, \"122\": 1, \"110\": 1}, \"15\": {\"15\": 123, \"122\": 1, \"106\": 1, \"21\": 1, \"10\": 1, \"87\": 1}, \"61\": {\"61\": 15, \"35\": 1}, \"0\": {\"0\": 112, \"84\": 1, \"105\": 1, \"3\": 1, \"4\": 1}, \"104\": {\"104\": 15, \"91\": 1}, \"48\": {\"48\": 15, \"99\": 1}, \"25\": {\"25\": 16}, \"75\": {\"75\": 16}, \"81\": {\"81\": 32, \"72\": 1, \"27\": 1, \"117\": 2}, \"50\": {\"50\": 16}, \"52\": {\"52\": 20}, \"16\": {\"16\": 117, \"108\": 1, \"3\": 1, \"43\": 1}, \"44\": {\"44\": 63, \"121\": 1}, \"29\": {\"29\": 30, \"21\": 1, \"1\": 1}, \"93\": {\"93\": 123, \"122\": 1}, \"18\": {\"18\": 114}, \"49\": {\"49\": 27, \"80\": 2, \"100\": 1, \"42\": 1, \"27\": 1}, \"55\": {\"55\": 16}, \"59\": {\"59\": 11, \"21\": 1}, \"128\": {\"128\": 17, \"26\": 1, \"122\": 1, \"8\": 2, \"41\": 1, \"98\": 1, \"91\": 1}, \"24\": {\"24\": 100, \"27\": 2, \"15\": 1, \"0\": 1, \"36\": 9, \"7\": 1, \"94\": 2, \"10\": 3, \"12\": 1}, \"65\": {\"65\": 12}, \"92\": {\"92\": 28}}, \"Wisig_1\": {\"108\": {\"108\": 124}, \"40\": {\"40\": 133, \"4\": 1, \"105\": 1, \"87\": 1}, \"68\": {\"68\": 15, \"23\": 1}, \"23\": {\"3\": 3, \"23\": 15, \"127\": 1, \"32\": 2, \"66\": 1, \"63\": 1, \"86\": 1}, \"26\": {\"26\": 118, \"30\": 1, \"6\": 1}, \"64\": {\"64\": 16}, \"22\": {\"22\": 14, \"2\": 1, \"94\": 1}, \"3\": {\"3\": 81, \"66\": 1, \"110\": 1, \"15\": 1, \"18\": 4}, \"4\": {\"4\": 99, \"68\": 1}, \"70\": {\"70\": 110, \"54\": 1, \"105\": 1, \"36\": 1, \"87\": 1, \"108\": 3, \"21\": 1, \"94\": 1, \"101\": 1}, \"57\": {\"57\": 11, \"23\": 1}, \"79\": {\"79\": 12}, \"9\": {\"9\": 32}, \"89\": {\"89\": 36}, \"110\": {\"110\": 128}, \"102\": {\"102\": 118, \"12\": 1, \"107\": 1}, \"31\": {\"31\": 16}, \"58\": {\"58\": 11, \"12\": 1}, \"47\": {\"47\": 12}, \"24\": {\"24\": 84, \"97\": 2, \"12\": 2, \"70\": 1, \"108\": 1, \"88\": 2}, \"19\": {\"19\": 28}, \"11\": {\"11\": 132}, \"52\": {\"52\": 20}, \"17\": {\"17\": 15, \"43\": 1}, \"25\": {\"25\": 16}, \"69\": {\"69\": 105, \"70\": 3}, \"96\": {\"96\": 14, \"51\": 1, \"19\": 1, \"82\": 1, \"126\": 1, \"34\": 1, \"5\": 1}, \"109\": {\"109\": 112, \"87\": 1, \"70\": 1}, \"115\": {\"115\": 12}, \"83\": {\"83\": 27, \"22\": 1}, \"84\": {\"84\": 126, \"88\": 1, \"43\": 1}, \"119\": {\"119\": 16}, \"122\": {\"122\": 84, \"87\": 2, \"21\": 2}, \"99\": {\"99\": 24}, \"1\": {\"1\": 133, \"105\": 1, \"122\": 1, \"127\": 1}, \"74\": {\"74\": 16}, \"85\": {\"85\": 32}, \"127\": {\"127\": 106, \"114\": 1, \"105\": 1}, \"111\": {\"111\": 118, \"71\": 1, \"107\": 1}, \"53\": {\"53\": 20}, \"88\": {\"88\": 124, \"97\": 2, \"36\": 3, \"24\": 1, \"27\": 2}, \"65\": {\"65\": 9, \"21\": 1, \"39\": 1, \"68\": 1}, \"7\": {\"7\": 134}, \"16\": {\"16\": 107, \"127\": 1}, \"128\": {\"128\": 20, \"52\": 1, \"72\": 2, \"21\": 1}, \"34\": {\"128\": 1, \"28\": 2, \"38\": 2, \"34\": 16, \"80\": 1, \"72\": 2, \"86\": 2, \"83\": 1, \"81\": 1, \"60\": 1, \"29\": 1, \"91\": 2}, \"129\": {\"129\": 21, \"14\": 1, \"2\": 3, \"72\": 2, \"84\": 1}, \"43\": {\"43\": 125, \"105\": 1, \"78\": 2}, \"92\": {\"92\": 28}, \"28\": {\"28\": 18, \"17\": 1, \"71\": 1}, \"27\": {\"27\": 92}, \"114\": {\"114\": 123, \"71\": 1}, \"73\": {\"73\": 20}, \"0\": {\"0\": 84}, \"104\": {\"104\": 14, \"73\": 1, \"109\": 1}, \"118\": {\"118\": 83, \"21\": 1}, \"41\": {\"41\": 16}, \"91\": {\"91\": 28}, \"124\": {\"124\": 122}, \"81\": {\"81\": 28}, \"63\": {\"63\": 16}, \"76\": {\"76\": 16}, \"10\": {\"10\": 115, \"53\": 1, \"85\": 1, \"0\": 2, \"70\": 1}, \"51\": {\"51\": 14, \"6\": 1, \"17\": 1}, \"82\": {\"82\": 36}, \"56\": {\"56\": 11, \"53\": 1}, \"30\": {\"30\": 50, \"52\": 2}, \"21\": {\"21\": 32, \"32\": 1, \"43\": 1, \"19\": 1, \"128\": 1, \"72\": 1, \"49\": 1, \"87\": 2}, \"46\": {\"46\": 8, \"124\": 2, \"6\": 1, \"94\": 1}, \"33\": {\"33\": 138}, \"101\": {\"101\": 121, \"12\": 1, \"124\": 1, \"70\": 1}, \"105\": {\"105\": 79, \"6\": 1, \"40\": 2, \"78\": 2}, \"50\": {\"50\": 15, \"80\": 1}, \"116\": {\"116\": 31, \"21\": 1}, \"77\": {\"77\": 16}, \"75\": {\"75\": 16}, \"95\": {\"95\": 36}, \"120\": {\"120\": 20}, \"18\": {\"18\": 108}, \"14\": {\"14\": 96}, \"44\": {\"44\": 76}, \"98\": {\"98\": 96}, \"121\": {\"121\": 32}, \"113\": {\"113\": 108}, \"103\": {\"103\": 16}, \"62\": {\"62\": 116, \"21\": 1, \"108\": 1, \"107\": 2}, \"32\": {\"32\": 28, \"23\": 2, \"110\": 2}, \"71\": {\"71\": 103, \"127\": 2, \"70\": 2, \"73\": 1}, \"94\": {\"94\": 89, \"105\": 1, \"122\": 1, \"87\": 1}, \"49\": {\"49\": 15, \"12\": 1, \"34\": 1, \"108\": 2, \"31\": 1}, \"12\": {\"12\": 101, \"40\": 1, \"105\": 1, \"43\": 1}, \"90\": {\"90\": 124}, \"93\": {\"93\": 124}, \"13\": {\"13\": 16}, \"67\": {\"88\": 1, \"67\": 15}, \"20\": {\"20\": 14, \"22\": 1, \"122\": 1}, \"2\": {\"119\": 1, \"2\": 29, \"25\": 1, \"11\": 1}, \"5\": {\"5\": 87, \"36\": 1}, \"54\": {\"54\": 15, \"122\": 1}, \"37\": {\"37\": 16}, \"38\": {\"38\": 16}, \"86\": {\"86\": 32, \"115\": 1, \"2\": 1, \"84\": 1, \"94\": 1}, \"55\": {\"55\": 12}, \"97\": {\"97\": 18, \"19\": 1, \"128\": 1}, \"29\": {\"29\": 28}, \"48\": {\"63\": 1, \"48\": 11}, \"60\": {\"60\": 10, \"34\": 1, \"119\": 1, \"45\": 2, \"100\": 1, \"19\": 1}, \"36\": {\"36\": 116, \"88\": 4, \"107\": 1, \"108\": 1}, \"42\": {\"42\": 24, \"91\": 2, \"40\": 1, \"109\": 1}, \"66\": {\"66\": 16}, \"126\": {\"126\": 127, \"5\": 1}, \"39\": {\"39\": 104}, \"107\": {\"107\": 123, \"4\": 1}, \"59\": {\"59\": 10, \"95\": 1, \"49\": 1}, \"117\": {\"117\": 138}, \"6\": {\"6\": 30, \"34\": 1, \"112\": 1}, \"123\": {\"123\": 16}, \"8\": {\"8\": 123, \"21\": 1}, \"112\": {\"112\": 15, \"27\": 1}, \"80\": {\"80\": 15, \"6\": 1}, \"125\": {\"125\": 136}, \"61\": {\"61\": 12}, \"45\": {\"45\": 8, \"124\": 1, \"128\": 1, \"86\": 2}, \"72\": {\"72\": 32}, \"87\": {\"87\": 107, \"122\": 1}, \"106\": {\"106\": 123, \"43\": 1}, \"35\": {\"35\": 9, \"30\": 1, \"6\": 2}, \"78\": {\"78\": 12, \"87\": 1, \"83\": 1, \"40\": 1, \"105\": 1}, \"15\": {\"15\": 97, \"111\": 2, \"87\": 1, \"40\": 1, \"70\": 1, \"30\": 1, \"21\": 1}, \"100\": {\"100\": 16}}, \"Wisig_2\": {\"91\": {\"91\": 26, \"49\": 1, \"18\": 1}, \"12\": {\"12\": 83, \"87\": 1, \"78\": 2, \"122\": 1, \"118\": 1}, \"101\": {\"101\": 147, \"87\": 1}, \"121\": {\"121\": 35, \"40\": 1}, \"118\": {\"118\": 67, \"87\": 1}, \"10\": {\"10\": 54, \"122\": 1, \"12\": 1, \"83\": 1, \"127\": 1, \"24\": 1, \"52\": 1}, \"117\": {\"117\": 118, \"31\": 1, \"18\": 1}, \"110\": {\"110\": 34, \"39\": 1, \"122\": 1, \"14\": 1, \"45\": 1, \"42\": 1, \"95\": 1}, \"97\": {\"97\": 19, \"15\": 1}, \"28\": {\"28\": 20}, \"88\": {\"88\": 117, \"122\": 2, \"43\": 2, \"40\": 1, \"3\": 1, \"96\": 1}, \"17\": {\"17\": 16}, \"126\": {\"126\": 112, \"93\": 1, \"13\": 1}, \"33\": {\"33\": 125, \"4\": 1, \"70\": 2}, \"86\": {\"86\": 32}, \"106\": {\"106\": 113, \"12\": 1, \"122\": 1, \"87\": 1, \"78\": 1, \"27\": 1, \"70\": 2}, \"54\": {\"54\": 20}, \"125\": {\"125\": 131, \"98\": 1}, \"83\": {\"83\": 39, \"4\": 1}, \"98\": {\"98\": 116, \"3\": 1, \"113\": 1, \"87\": 1, \"26\": 1}, \"11\": {\"11\": 75, \"3\": 1, \"98\": 1, \"70\": 1, \"122\": 1, \"87\": 1}, \"32\": {\"32\": 31, \"107\": 2, \"12\": 1, \"79\": 2}, \"42\": {\"42\": 27, \"46\": 1}, \"103\": {\"103\": 16}, \"87\": {\"87\": 104, \"60\": 1, \"39\": 1, \"40\": 1, \"8\": 1, \"116\": 1, \"94\": 2, \"24\": 1}, \"61\": {\"61\": 16, \"83\": 1, \"53\": 1, \"71\": 1, \"21\": 1}, \"13\": {\"13\": 13, \"14\": 2, \"122\": 1}, \"4\": {\"4\": 83, \"0\": 1, \"69\": 1, \"109\": 1}, \"15\": {\"15\": 116, \"40\": 1, \"0\": 2, \"105\": 1}, \"120\": {\"120\": 20}, \"80\": {\"80\": 16}, \"72\": {\"72\": 28}, \"64\": {\"64\": 15, \"129\": 1}, \"81\": {\"81\": 22, \"128\": 1, \"12\": 1}, \"102\": {\"102\": 112}, \"76\": {\"76\": 16}, \"49\": {\"49\": 17, \"58\": 1, \"39\": 2, \"24\": 1, \"42\": 1, \"30\": 1, \"98\": 1}, \"129\": {\"129\": 32}, \"89\": {\"89\": 34, \"112\": 1, \"41\": 1}, \"52\": {\"52\": 19, \"120\": 1}, \"35\": {\"35\": 12}, \"53\": {\"53\": 16}, \"26\": {\"26\": 124, \"87\": 1, \"129\": 1, \"128\": 1, \"78\": 1}, \"96\": {\"96\": 20}, \"27\": {\"27\": 54, \"21\": 3, \"122\": 1, \"40\": 2, \"70\": 1, \"84\": 1, \"62\": 1, \"128\": 1, \"12\": 1, \"36\": 2, \"87\": 1}, \"24\": {\"24\": 99, \"25\": 1, \"71\": 2, \"69\": 1, \"15\": 1, \"39\": 1, \"70\": 1, \"92\": 1, \"107\": 1, \"12\": 1, \"78\": 1, \"36\": 1, \"122\": 1}, \"82\": {\"82\": 32, \"107\": 2, \"42\": 1, \"87\": 1}, \"18\": {\"18\": 123, \"91\": 1, \"78\": 1, \"16\": 1, \"61\": 1, \"128\": 1}, \"69\": {\"69\": 118, \"12\": 1, \"5\": 1, \"122\": 1, \"70\": 1}, \"47\": {\"47\": 12}, \"85\": {\"85\": 31, \"73\": 1}, \"2\": {\"2\": 30, \"113\": 1, \"88\": 1}, \"67\": {\"67\": 15, \"71\": 1}, \"39\": {\"39\": 105, \"47\": 1, \"78\": 1, \"18\": 3, \"43\": 1, \"70\": 1}, \"99\": {\"99\": 32}, \"74\": {\"74\": 13, \"24\": 1, \"75\": 2}, \"105\": {\"105\": 128, \"5\": 2, \"43\": 1, \"87\": 1}, \"70\": {\"70\": 115, \"110\": 3, \"122\": 1, \"43\": 1, \"69\": 1, \"40\": 1}, \"55\": {\"55\": 16}, \"30\": {\"30\": 108, \"71\": 1, \"61\": 1, \"6\": 1, \"1\": 1}, \"60\": {\"60\": 19, \"116\": 2, \"123\": 1, \"87\": 2, \"21\": 1, \"32\": 1, \"57\": 2}, \"92\": {\"92\": 24, \"128\": 1, \"75\": 1, \"69\": 1, \"76\": 1}, \"45\": {\"45\": 15, \"19\": 1}, \"127\": {\"127\": 111, \"89\": 1}, \"9\": {\"110\": 1, \"9\": 30, \"61\": 1}, \"115\": {\"115\": 12}, \"73\": {\"73\": 28}, \"108\": {\"108\": 138}, \"114\": {\"114\": 113, \"83\": 1, \"118\": 1, \"4\": 1}, \"63\": {\"63\": 19, \"100\": 1}, \"93\": {\"93\": 128}, \"7\": {\"7\": 132}, \"31\": {\"31\": 19, \"78\": 1}, \"123\": {\"19\": 1, \"123\": 15}, \"128\": {\"128\": 17, \"59\": 1, \"14\": 1, \"23\": 1, \"114\": 1, \"30\": 1, \"49\": 1, \"52\": 1}, \"0\": {\"0\": 110, \"24\": 2, \"87\": 1, \"69\": 1, \"39\": 1, \"3\": 1}, \"3\": {\"3\": 134, \"18\": 1, \"39\": 1}, \"19\": {\"19\": 28}, \"57\": {\"57\": 19, \"47\": 1}, \"78\": {\"78\": 45, \"70\": 1, \"43\": 2}, \"95\": {\"95\": 35, \"70\": 1}, \"40\": {\"40\": 135, \"12\": 1, \"5\": 1, \"94\": 1, \"122\": 1, \"30\": 1}, \"14\": {\"78\": 1, \"14\": 40, \"85\": 1, \"12\": 1, \"18\": 1, \"122\": 1, \"88\": 1, \"118\": 2}, \"36\": {\"36\": 116, \"21\": 1, \"122\": 4, \"70\": 1, \"82\": 1, \"27\": 3, \"107\": 1, \"87\": 1}, \"56\": {\"56\": 12}, \"111\": {\"111\": 127, \"122\": 1}, \"59\": {\"59\": 14, \"106\": 1, \"24\": 1}, \"79\": {\"79\": 14, \"23\": 1, \"77\": 1}, \"62\": {\"62\": 121, \"40\": 1}, \"21\": {\"21\": 43, \"87\": 1, \"92\": 1, \"5\": 1, \"107\": 1, \"40\": 1}, \"48\": {\"48\": 20}, \"16\": {\"16\": 118, \"12\": 1, \"70\": 2, \"18\": 1, \"1\": 1, \"93\": 1}, \"50\": {\"50\": 15, \"121\": 1}, \"44\": {\"44\": 95, \"117\": 1}, \"5\": {\"5\": 109, \"12\": 1}, \"20\": {\"20\": 15, \"24\": 1}, \"1\": {\"1\": 118, \"85\": 1, \"70\": 1}, \"65\": {\"65\": 18, \"116\": 1, \"71\": 1}, \"116\": {\"116\": 26, \"80\": 1, \"23\": 1}, \"51\": {\"51\": 19, \"82\": 1}, \"75\": {\"75\": 15, \"71\": 1}, \"100\": {\"100\": 16}, \"113\": {\"113\": 71, \"65\": 1}, \"41\": {\"41\": 20}, \"29\": {\"29\": 32}, \"23\": {\"23\": 35, \"29\": 1, \"34\": 1, \"44\": 1, \"96\": 1, \"3\": 1, \"99\": 2, \"70\": 1, \"120\": 1}, \"124\": {\"124\": 122, \"21\": 1, \"117\": 1}, \"68\": {\"68\": 15, \"52\": 1}, \"71\": {\"71\": 98, \"94\": 1, \"12\": 1}, \"107\": {\"107\": 55, \"51\": 1, \"91\": 1, \"70\": 1, \"12\": 4, \"129\": 1, \"109\": 1}, \"94\": {\"94\": 58, \"12\": 1, \"118\": 1, \"70\": 1, \"36\": 2, \"110\": 1}, \"77\": {\"77\": 15, \"17\": 1}, \"8\": {\"8\": 119, \"52\": 1, \"24\": 1, \"15\": 1}, \"46\": {\"46\": 16}, \"25\": {\"25\": 14, \"109\": 1, \"113\": 1}, \"122\": {\"122\": 138, \"113\": 1, \"70\": 1}, \"58\": {\"58\": 16, \"9\": 1, \"39\": 1, \"87\": 1, \"24\": 1}, \"6\": {\"6\": 27, \"51\": 1, \"101\": 4}, \"109\": {\"109\": 94, \"87\": 1, \"93\": 2, \"122\": 1, \"70\": 2}, \"119\": {\"119\": 19, \"24\": 1}, \"34\": {\"34\": 26, \"8\": 1, \"40\": 1, \"6\": 1, \"91\": 1, \"71\": 1, \"66\": 1}, \"90\": {\"90\": 138, \"26\": 1, \"18\": 1}, \"38\": {\"38\": 16}, \"104\": {\"29\": 2, \"104\": 17, \"129\": 1}, \"84\": {\"84\": 90, \"58\": 1, \"93\": 1}, \"112\": {\"112\": 11, \"126\": 1, \"3\": 1, \"46\": 1, \"71\": 1, \"12\": 1}, \"66\": {\"66\": 17, \"107\": 1, \"13\": 1, \"27\": 1}, \"22\": {\"22\": 20}, \"37\": {\"37\": 16}, \"43\": {\"43\": 115, \"21\": 1, \"0\": 1, \"8\": 1, \"78\": 1, \"122\": 1, \"84\": 1, \"70\": 2, \"40\": 1}}, \"ORACLE.run114\": {\"15\": {\"5\": 32, \"4\": 24, \"7\": 35, \"2\": 19, \"14\": 15, \"0\": 4, \"1\": 19, \"3\": 13, \"6\": 17, \"15\": 31, \"10\": 12, \"13\": 16, \"8\": 1, \"11\": 2}, \"3\": {\"5\": 24, \"4\": 24, \"10\": 22, \"3\": 36, \"14\": 17, \"11\": 20, \"13\": 11, \"0\": 19, \"1\": 21, \"6\": 6, \"2\": 14, \"7\": 19, \"15\": 5, \"8\": 1, \"9\": 1}, \"6\": {\"4\": 10, \"6\": 35, \"14\": 37, \"2\": 31, \"15\": 17, \"5\": 15, \"0\": 5, \"11\": 5, \"13\": 45, \"3\": 14, \"10\": 18, \"1\": 4, \"7\": 4}, \"1\": {\"9\": 4, \"1\": 34, \"7\": 21, \"4\": 20, \"3\": 26, \"11\": 20, \"15\": 25, \"0\": 21, \"6\": 3, \"5\": 22, \"14\": 7, \"10\": 17, \"13\": 7, \"2\": 7, \"8\": 5, \"12\": 1}, \"8\": {\"8\": 74, \"9\": 51, \"4\": 5, \"0\": 14, \"15\": 3, \"7\": 6, \"12\": 41, \"1\": 14, \"5\": 4, \"10\": 10, \"11\": 14, \"3\": 4}, \"10\": {\"10\": 39, \"11\": 27, \"2\": 14, \"3\": 25, \"14\": 14, \"1\": 8, \"6\": 13, \"13\": 19, \"5\": 16, \"9\": 7, \"0\": 24, \"4\": 22, \"8\": 1, \"7\": 5, \"15\": 6}, \"9\": {\"10\": 12, \"9\": 63, \"11\": 20, \"12\": 60, \"8\": 28, \"4\": 7, \"0\": 20, \"5\": 4, \"1\": 16, \"3\": 7, \"7\": 3}, \"13\": {\"13\": 40, \"2\": 30, \"6\": 37, \"10\": 15, \"4\": 16, \"14\": 39, \"15\": 14, \"3\": 13, \"1\": 11, \"11\": 2, \"7\": 6, \"5\": 15, \"0\": 2}, \"12\": {\"12\": 96, \"8\": 43, \"9\": 71, \"4\": 5, \"0\": 11, \"1\": 5, \"11\": 8, \"3\": 1}, \"5\": {\"0\": 16, \"3\": 23, \"5\": 27, \"15\": 16, \"10\": 24, \"4\": 21, \"7\": 20, \"14\": 14, \"13\": 12, \"11\": 19, \"1\": 28, \"2\": 14, \"6\": 6}, \"0\": {\"10\": 22, \"11\": 35, \"3\": 30, \"4\": 23, \"14\": 15, \"5\": 14, \"7\": 9, \"0\": 31, \"9\": 10, \"2\": 11, \"12\": 2, \"1\": 25, \"15\": 7, \"13\": 4, \"8\": 1, \"6\": 1}, \"2\": {\"4\": 11, \"13\": 30, \"10\": 14, \"5\": 20, \"14\": 39, \"15\": 18, \"2\": 29, \"11\": 8, \"6\": 25, \"1\": 13, \"3\": 17, \"0\": 8, \"7\": 7, \"8\": 1}, \"11\": {\"11\": 38, \"2\": 9, \"1\": 13, \"10\": 27, \"0\": 29, \"3\": 26, \"4\": 20, \"9\": 23, \"14\": 6, \"13\": 8, \"8\": 4, \"12\": 11, \"7\": 4, \"15\": 3, \"6\": 4, \"5\": 15}, \"14\": {\"13\": 33, \"2\": 27, \"10\": 23, \"5\": 14, \"3\": 22, \"14\": 41, \"4\": 12, \"6\": 34, \"11\": 4, \"7\": 6, \"0\": 9, \"15\": 12, \"1\": 3}, \"7\": {\"5\": 25, \"1\": 31, \"4\": 30, \"3\": 16, \"8\": 3, \"10\": 15, \"15\": 35, \"7\": 36, \"14\": 7, \"13\": 9, \"2\": 14, \"0\": 9, \"6\": 6, \"11\": 4}, \"4\": {\"1\": 20, \"2\": 17, \"9\": 3, \"5\": 25, \"14\": 15, \"10\": 21, \"4\": 23, \"7\": 26, \"15\": 13, \"13\": 11, \"6\": 8, \"0\": 14, \"11\": 21, \"8\": 2, \"3\": 21}}, \"ORACLE.run120\": {\"3\": {\"1\": 18, \"12\": 17, \"9\": 33, \"2\": 14, \"11\": 8, \"13\": 21, \"5\": 18, \"8\": 13, \"14\": 11, \"10\": 2, \"7\": 13, \"6\": 13, \"0\": 17, \"3\": 22, \"15\": 12, \"4\": 8}, \"15\": {\"5\": 24, \"0\": 24, \"7\": 11, \"1\": 24, \"13\": 22, \"2\": 18, \"15\": 35, \"3\": 18, \"8\": 6, \"12\": 19, \"6\": 5, \"11\": 11, \"9\": 16, \"4\": 7}, \"8\": {\"3\": 18, \"6\": 32, \"0\": 18, \"4\": 18, \"5\": 12, \"14\": 25, \"10\": 22, \"8\": 31, \"15\": 6, \"1\": 6, \"12\": 6, \"2\": 13, \"7\": 19, \"9\": 7, \"11\": 6, \"13\": 1}, \"4\": {\"2\": 8, \"9\": 17, \"6\": 27, \"1\": 6, \"4\": 30, \"0\": 11, \"10\": 22, \"8\": 29, \"3\": 19, \"14\": 15, \"15\": 5, \"7\": 16, \"5\": 14, \"12\": 16, \"11\": 3, \"13\": 2}, \"14\": {\"8\": 28, \"3\": 12, \"10\": 34, \"14\": 55, \"4\": 30, \"9\": 2, \"6\": 34, \"7\": 12, \"0\": 4, \"5\": 6, \"12\": 12, \"1\": 4, \"15\": 2, \"13\": 1, \"2\": 2, \"11\": 2}, \"0\": {\"3\": 22, \"15\": 25, \"4\": 12, \"2\": 14, \"9\": 20, \"13\": 26, \"5\": 19, \"8\": 15, \"0\": 21, \"7\": 17, \"10\": 4, \"11\": 13, \"12\": 12, \"6\": 10, \"14\": 1, \"1\": 9}, \"7\": {\"3\": 21, \"2\": 21, \"7\": 24, \"6\": 15, \"5\": 23, \"13\": 10, \"11\": 8, \"4\": 20, \"9\": 13, \"8\": 18, \"1\": 13, \"10\": 5, \"12\": 18, \"15\": 11, \"0\": 16, \"14\": 4}, \"6\": {\"14\": 29, \"10\": 32, \"0\": 10, \"2\": 16, \"4\": 30, \"6\": 27, \"8\": 28, \"3\": 8, \"7\": 12, \"5\": 11, \"9\": 10, \"11\": 4, \"12\": 13, \"13\": 5, \"15\": 1, \"1\": 4}, \"10\": {\"0\": 5, \"4\": 36, \"10\": 53, \"9\": 10, \"2\": 6, \"14\": 35, \"12\": 9, \"8\": 26, \"6\": 28, \"3\": 9, \"1\": 6, \"7\": 5, \"5\": 7, \"15\": 2, \"13\": 2, \"11\": 1}, \"5\": {\"3\": 18, \"0\": 19, \"9\": 21, \"2\": 13, \"10\": 9, \"5\": 18, \"13\": 27, \"1\": 25, \"8\": 11, \"7\": 20, \"12\": 9, \"14\": 4, \"11\": 12, \"4\": 10, \"15\": 16, \"6\": 8}, \"2\": {\"1\": 19, \"14\": 2, \"0\": 11, \"7\": 18, \"5\": 17, \"11\": 16, \"6\": 14, \"4\": 12, \"12\": 29, \"9\": 15, \"15\": 17, \"8\": 15, \"13\": 17, \"10\": 5, \"3\": 17, \"2\": 16}, \"12\": {\"14\": 3, \"13\": 19, \"0\": 22, \"1\": 21, \"11\": 4, \"9\": 26, \"2\": 22, \"12\": 17, \"8\": 17, \"5\": 22, \"7\": 22, \"6\": 4, \"15\": 13, \"3\": 17, \"4\": 9, \"10\": 2}, \"9\": {\"3\": 21, \"15\": 24, \"9\": 26, \"2\": 21, \"5\": 16, \"1\": 26, \"12\": 19, \"7\": 16, \"8\": 5, \"6\": 5, \"10\": 2, \"4\": 11, \"0\": 18, \"13\": 17, \"14\": 2, \"11\": 11}, \"1\": {\"2\": 25, \"11\": 17, \"12\": 25, \"15\": 25, \"5\": 15, \"10\": 4, \"3\": 23, \"13\": 18, \"0\": 20, \"1\": 16, \"7\": 17, \"6\": 4, \"8\": 6, \"9\": 18, \"4\": 6, \"14\": 1}, \"11\": {\"0\": 20, \"11\": 50, \"15\": 13, \"3\": 12, \"5\": 17, \"12\": 14, \"1\": 9, \"4\": 6, \"2\": 19, \"8\": 8, \"13\": 23, \"10\": 4, \"7\": 19, \"14\": 3, \"9\": 15, \"6\": 8}, \"13\": {\"1\": 20, \"3\": 19, \"0\": 20, \"9\": 23, \"13\": 28, \"2\": 14, \"15\": 27, \"11\": 22, \"8\": 8, \"5\": 18, \"6\": 5, \"7\": 8, \"12\": 20, \"14\": 1, \"4\": 5, \"10\": 2}}, \"ORACLE.run138\": {\"5\": {\"8\": 39, \"7\": 19, \"5\": 23, \"13\": 19, \"0\": 26, \"3\": 11, \"15\": 25, \"2\": 4, \"6\": 26, \"12\": 2, \"10\": 17, \"14\": 3, \"9\": 16, \"1\": 10}, \"8\": {\"6\": 11, \"8\": 34, \"1\": 4, \"3\": 15, \"5\": 35, \"15\": 25, \"0\": 28, \"13\": 4, \"7\": 29, \"10\": 26, \"11\": 1, \"14\": 7, \"2\": 7, \"12\": 3, \"9\": 11}, \"11\": {\"11\": 87, \"14\": 64, \"10\": 16, \"12\": 18, \"2\": 14, \"13\": 10, \"4\": 15, \"3\": 1, \"15\": 2, \"8\": 2, \"7\": 8, \"0\": 2, \"5\": 1}, \"1\": {\"2\": 35, \"6\": 24, \"8\": 9, \"1\": 67, \"15\": 38, \"0\": 1, \"9\": 22, \"13\": 29, \"10\": 3, \"5\": 8, \"3\": 2, \"7\": 2}, \"10\": {\"12\": 12, \"0\": 20, \"13\": 14, \"8\": 25, \"7\": 22, \"14\": 32, \"10\": 35, \"15\": 17, \"11\": 15, \"5\": 21, \"4\": 4, \"2\": 10, \"1\": 6, \"3\": 3, \"6\": 2, \"9\": 2}, \"15\": {\"13\": 35, \"1\": 29, \"15\": 37, \"5\": 23, \"2\": 25, \"3\": 4, \"14\": 9, \"8\": 19, \"6\": 16, \"12\": 1, \"0\": 6, \"10\": 19, \"9\": 10, \"7\": 7}, \"3\": {\"7\": 36, \"8\": 23, \"5\": 28, \"6\": 17, \"15\": 8, \"0\": 27, \"3\": 55, \"9\": 31, \"13\": 5, \"10\": 5, \"1\": 4, \"2\": 1}, \"7\": {\"15\": 9, \"7\": 60, \"8\": 29, \"10\": 25, \"5\": 29, \"0\": 36, \"3\": 18, \"4\": 6, \"13\": 3, \"12\": 3, \"2\": 2, \"6\": 3, \"14\": 7, \"9\": 7, \"11\": 3}, \"4\": {\"11\": 18, \"4\": 108, \"12\": 88, \"10\": 3, \"14\": 14, \"7\": 7, \"0\": 2}, \"14\": {\"11\": 50, \"10\": 41, \"14\": 71, \"15\": 12, \"8\": 7, \"7\": 7, \"2\": 16, \"13\": 9, \"12\": 18, \"4\": 2, \"0\": 5, \"1\": 1, \"5\": 1}, \"9\": {\"9\": 40, \"8\": 17, \"15\": 16, \"5\": 25, \"13\": 15, \"3\": 32, \"0\": 20, \"6\": 33, \"1\": 27, \"7\": 9, \"2\": 5, \"10\": 1}, \"12\": {\"4\": 60, \"12\": 90, \"0\": 9, \"14\": 29, \"11\": 19, \"7\": 13, \"10\": 15, \"8\": 4, \"13\": 1}, \"6\": {\"6\": 44, \"8\": 17, \"1\": 20, \"5\": 27, \"3\": 10, \"2\": 5, \"10\": 7, \"15\": 31, \"0\": 17, \"13\": 19, \"9\": 36, \"7\": 7}, \"2\": {\"5\": 7, \"13\": 30, \"2\": 73, \"1\": 14, \"10\": 17, \"15\": 37, \"11\": 16, \"8\": 8, \"14\": 24, \"7\": 3, \"0\": 4, \"12\": 3, \"6\": 1, \"9\": 2, \"3\": 1}, \"0\": {\"7\": 31, \"0\": 33, \"5\": 27, \"8\": 40, \"15\": 17, \"14\": 6, \"13\": 7, \"10\": 20, \"9\": 12, \"3\": 11, \"12\": 12, \"6\": 12, \"2\": 6, \"4\": 1, \"1\": 3, \"11\": 2}, \"13\": {\"2\": 47, \"0\": 9, \"1\": 34, \"7\": 3, \"13\": 42, \"15\": 26, \"10\": 16, \"6\": 9, \"9\": 10, \"11\": 7, \"14\": 6, \"8\": 15, \"5\": 12, \"3\": 3, \"12\": 1}}, \"ORACLE.run18\": {\"9\": {\"9\": 209, \"0\": 11, \"10\": 4, \"5\": 7, \"7\": 2, \"13\": 4, \"4\": 2, \"14\": 1}, \"10\": {\"13\": 27, \"10\": 28, \"8\": 3, \"14\": 34, \"7\": 19, \"5\": 27, \"11\": 9, \"3\": 5, \"1\": 14, \"0\": 17, \"6\": 27, \"2\": 10, \"12\": 1, \"4\": 18, \"15\": 1}, \"13\": {\"6\": 20, \"13\": 24, \"4\": 37, \"5\": 23, \"14\": 28, \"2\": 15, \"7\": 20, \"0\": 22, \"3\": 7, \"11\": 11, \"10\": 21, \"1\": 9, \"8\": 2, \"15\": 1}, \"0\": {\"14\": 33, \"7\": 23, \"13\": 35, \"10\": 19, \"6\": 24, \"4\": 26, \"3\": 5, \"15\": 2, \"0\": 24, \"5\": 21, \"2\": 13, \"1\": 6, \"11\": 7, \"8\": 2}, \"1\": {\"13\": 12, \"8\": 27, \"5\": 26, \"7\": 15, \"6\": 17, \"1\": 26, \"11\": 35, \"14\": 21, \"15\": 19, \"3\": 5, \"10\": 9, \"4\": 19, \"2\": 5, \"12\": 4}, \"15\": {\"8\": 44, \"2\": 14, \"4\": 10, \"11\": 21, \"15\": 35, \"6\": 8, \"12\": 29, \"7\": 12, \"3\": 33, \"14\": 8, \"5\": 2, \"1\": 17, \"10\": 3, \"13\": 3, \"0\": 1}, \"5\": {\"6\": 20, \"5\": 35, \"14\": 23, \"13\": 27, \"1\": 14, \"3\": 5, \"11\": 10, \"15\": 3, \"7\": 19, \"10\": 26, \"0\": 22, \"2\": 4, \"4\": 28, \"8\": 2, \"12\": 1, \"9\": 1}, \"3\": {\"2\": 24, \"6\": 16, \"3\": 50, \"12\": 33, \"8\": 27, \"7\": 21, \"5\": 3, \"15\": 28, \"11\": 6, \"10\": 4, \"4\": 7, \"1\": 6, \"13\": 5, \"14\": 6, \"0\": 4}, \"6\": {\"2\": 28, \"6\": 30, \"4\": 19, \"13\": 21, \"14\": 26, \"5\": 17, \"15\": 7, \"11\": 6, \"7\": 13, \"10\": 18, \"0\": 11, \"3\": 11, \"12\": 4, \"1\": 20, \"8\": 9}, \"11\": {\"3\": 12, \"1\": 32, \"5\": 16, \"0\": 4, \"10\": 9, \"15\": 23, \"6\": 10, \"7\": 17, \"11\": 32, \"14\": 20, \"8\": 26, \"12\": 10, \"2\": 8, \"4\": 15, \"13\": 6}, \"8\": {\"3\": 28, \"15\": 29, \"8\": 31, \"1\": 22, \"10\": 4, \"11\": 32, \"2\": 12, \"12\": 33, \"6\": 8, \"0\": 1, \"14\": 8, \"5\": 5, \"7\": 9, \"4\": 13, \"13\": 5}, \"4\": {\"10\": 18, \"4\": 24, \"2\": 20, \"14\": 27, \"0\": 17, \"13\": 32, \"3\": 7, \"5\": 15, \"1\": 17, \"6\": 16, \"7\": 27, \"12\": 4, \"15\": 4, \"11\": 9, \"8\": 3}, \"12\": {\"15\": 40, \"12\": 48, \"10\": 3, \"11\": 21, \"8\": 30, \"7\": 9, \"2\": 17, \"3\": 40, \"1\": 10, \"4\": 3, \"6\": 8, \"14\": 8, \"13\": 2, \"5\": 1}, \"14\": {\"13\": 26, \"6\": 22, \"0\": 20, \"5\": 32, \"15\": 4, \"14\": 21, \"12\": 3, \"1\": 18, \"4\": 26, \"10\": 19, \"7\": 15, \"2\": 12, \"11\": 8, \"3\": 8, \"8\": 6}, \"2\": {\"3\": 41, \"7\": 20, \"4\": 18, \"11\": 7, \"2\": 40, \"12\": 18, \"6\": 15, \"15\": 15, \"13\": 12, \"0\": 10, \"8\": 10, \"5\": 3, \"14\": 14, \"10\": 9, \"1\": 8}, \"7\": {\"10\": 13, \"7\": 32, \"13\": 17, \"2\": 19, \"0\": 17, \"6\": 24, \"3\": 13, \"14\": 21, \"5\": 15, \"4\": 26, \"8\": 14, \"11\": 10, \"15\": 2, \"1\": 13, \"12\": 4}}, \"ORACLE.run150\": {\"7\": {\"3\": 8, \"5\": 27, \"13\": 34, \"9\": 3, \"7\": 38, \"12\": 1, \"2\": 2, \"4\": 20, \"1\": 17, \"6\": 34, \"10\": 25, \"8\": 7, \"15\": 13, \"14\": 2, \"11\": 7, \"0\": 2}, \"3\": {\"3\": 120, \"0\": 10, \"8\": 65, \"13\": 4, \"10\": 21, \"2\": 4, \"7\": 7, \"5\": 5, \"4\": 1, \"6\": 2, \"1\": 1}, \"8\": {\"8\": 73, \"3\": 57, \"0\": 36, \"13\": 7, \"2\": 23, \"10\": 32, \"14\": 1, \"6\": 4, \"7\": 6, \"5\": 1}, \"2\": {\"10\": 22, \"0\": 55, \"8\": 43, \"9\": 2, \"14\": 23, \"2\": 64, \"5\": 4, \"4\": 2, \"12\": 8, \"6\": 3, \"13\": 5, \"3\": 5, \"11\": 1, \"1\": 3}, \"14\": {\"12\": 33, \"11\": 23, \"9\": 22, \"10\": 11, \"1\": 13, \"2\": 19, \"14\": 53, \"15\": 12, \"13\": 3, \"0\": 15, \"5\": 4, \"6\": 23, \"4\": 6, \"8\": 1, \"3\": 1, \"7\": 1}, \"4\": {\"11\": 23, \"12\": 7, \"15\": 30, \"1\": 24, \"6\": 23, \"5\": 24, \"7\": 36, \"4\": 29, \"9\": 13, \"13\": 20, \"14\": 4, \"0\": 2, \"3\": 1, \"10\": 3, \"8\": 1}, \"6\": {\"6\": 32, \"13\": 22, \"5\": 24, \"11\": 11, \"3\": 3, \"1\": 26, \"8\": 2, \"7\": 25, \"14\": 18, \"15\": 26, \"0\": 2, \"9\": 10, \"4\": 27, \"10\": 7, \"12\": 4, \"2\": 1}, \"15\": {\"15\": 48, \"4\": 31, \"7\": 13, \"5\": 20, \"1\": 22, \"14\": 8, \"6\": 27, \"11\": 25, \"9\": 19, \"12\": 8, \"13\": 17, \"10\": 1, \"0\": 1}, \"10\": {\"5\": 11, \"10\": 29, \"13\": 19, \"6\": 16, \"0\": 38, \"1\": 11, \"8\": 30, \"7\": 13, \"2\": 20, \"3\": 33, \"11\": 4, \"14\": 5, \"4\": 4, \"12\": 6, \"9\": 1}, \"11\": {\"1\": 34, \"9\": 43, \"14\": 11, \"11\": 38, \"6\": 22, \"4\": 21, \"15\": 28, \"10\": 1, \"12\": 15, \"13\": 7, \"7\": 8, \"2\": 2, \"5\": 10}, \"13\": {\"5\": 38, \"14\": 5, \"13\": 29, \"6\": 33, \"4\": 28, \"1\": 25, \"10\": 13, \"7\": 38, \"3\": 1, \"8\": 2, \"0\": 6, \"9\": 2, \"15\": 15, \"11\": 4, \"2\": 1}, \"9\": {\"9\": 53, \"11\": 56, \"1\": 21, \"4\": 24, \"6\": 8, \"15\": 27, \"12\": 15, \"13\": 8, \"14\": 16, \"5\": 6, \"7\": 4, \"0\": 1, \"10\": 1}, \"0\": {\"8\": 31, \"10\": 28, \"6\": 8, \"1\": 4, \"0\": 65, \"3\": 18, \"14\": 16, \"2\": 36, \"12\": 9, \"4\": 1, \"5\": 5, \"7\": 8, \"13\": 9, \"11\": 1, \"9\": 1}, \"1\": {\"14\": 11, \"13\": 15, \"5\": 18, \"15\": 29, \"4\": 36, \"6\": 35, \"1\": 38, \"9\": 9, \"0\": 4, \"7\": 16, \"10\": 4, \"11\": 18, \"12\": 7}, \"12\": {\"11\": 28, \"1\": 20, \"9\": 25, \"4\": 13, \"15\": 8, \"12\": 51, \"14\": 41, \"6\": 13, \"2\": 16, \"5\": 5, \"10\": 5, \"13\": 5, \"0\": 6, \"8\": 1, \"3\": 2, \"7\": 1}, \"5\": {\"10\": 12, \"6\": 27, \"13\": 44, \"5\": 31, \"4\": 23, \"1\": 20, \"7\": 40, \"9\": 8, \"8\": 2, \"15\": 16, \"11\": 5, \"3\": 4, \"14\": 3, \"12\": 3, \"0\": 2}}, \"ORACLE.run132\": {\"8\": {\"4\": 20, \"15\": 11, \"13\": 40, \"5\": 38, \"11\": 17, \"14\": 17, \"7\": 11, \"8\": 37, \"0\": 20, \"3\": 24, \"2\": 4, \"9\": 1}, \"14\": {\"11\": 35, \"5\": 20, \"13\": 16, \"4\": 23, \"2\": 21, \"7\": 29, \"14\": 32, \"8\": 18, \"3\": 10, \"0\": 31, \"12\": 1, \"9\": 3, \"15\": 1}, \"2\": {\"12\": 10, \"4\": 37, \"14\": 17, \"2\": 43, \"0\": 24, \"7\": 29, \"9\": 30, \"5\": 23, \"8\": 7, \"11\": 15, \"3\": 4, \"13\": 1}, \"0\": {\"7\": 19, \"4\": 24, \"13\": 25, \"14\": 23, \"5\": 28, \"8\": 20, \"9\": 5, \"11\": 27, \"0\": 28, \"2\": 23, \"15\": 4, \"3\": 10, \"12\": 4}, \"1\": {\"1\": 153, \"12\": 2, \"6\": 36, \"10\": 49}, \"10\": {\"10\": 117, \"1\": 60, \"12\": 48, \"9\": 6, \"6\": 9}, \"11\": {\"3\": 12, \"4\": 25, \"11\": 38, \"8\": 25, \"7\": 25, \"14\": 29, \"2\": 23, \"5\": 26, \"15\": 1, \"9\": 1, \"0\": 21, \"13\": 14}, \"5\": {\"0\": 25, \"4\": 26, \"5\": 22, \"8\": 26, \"13\": 26, \"11\": 27, \"2\": 17, \"7\": 26, \"3\": 26, \"14\": 14, \"9\": 2, \"15\": 3}, \"15\": {\"15\": 131, \"3\": 32, \"8\": 26, \"5\": 9, \"13\": 24, \"4\": 4, \"14\": 4, \"11\": 5, \"0\": 3, \"2\": 1, \"7\": 1}, \"3\": {\"8\": 37, \"3\": 52, \"13\": 43, \"4\": 11, \"15\": 13, \"0\": 14, \"5\": 31, \"2\": 2, \"11\": 19, \"7\": 7, \"14\": 11}, \"12\": {\"12\": 111, \"10\": 41, \"9\": 66, \"0\": 5, \"6\": 2, \"4\": 5, \"2\": 4, \"11\": 1, \"14\": 2, \"1\": 1, \"8\": 1, \"7\": 1}, \"7\": {\"4\": 35, \"14\": 25, \"7\": 26, \"0\": 18, \"11\": 33, \"5\": 27, \"2\": 33, \"9\": 9, \"8\": 17, \"13\": 10, \"3\": 4, \"12\": 2, \"15\": 1}, \"13\": {\"8\": 35, \"3\": 35, \"7\": 16, \"4\": 23, \"13\": 34, \"14\": 17, \"0\": 15, \"5\": 34, \"2\": 10, \"11\": 16, \"9\": 4, \"15\": 1}, \"6\": {\"6\": 162, \"12\": 8, \"1\": 49, \"10\": 18, \"9\": 3}, \"4\": {\"7\": 31, \"4\": 41, \"3\": 13, \"5\": 25, \"13\": 16, \"14\": 26, \"0\": 29, \"2\": 17, \"8\": 16, \"11\": 20, \"9\": 4, \"12\": 2}, \"9\": {\"9\": 81, \"12\": 63, \"4\": 17, \"2\": 21, \"10\": 15, \"0\": 8, \"7\": 11, \"14\": 7, \"11\": 5, \"13\": 3, \"5\": 4, \"8\": 3, \"6\": 2}}, \"ORACLE.run126\": {\"4\": {\"15\": 9, \"14\": 31, \"4\": 28, \"1\": 23, \"2\": 18, \"8\": 28, \"10\": 26, \"6\": 13, \"0\": 17, \"3\": 17, \"7\": 19, \"9\": 6, \"13\": 1, \"5\": 3, \"12\": 1}, \"12\": {\"13\": 18, \"12\": 63, \"10\": 10, \"8\": 14, \"11\": 20, \"5\": 14, \"15\": 32, \"3\": 6, \"6\": 18, \"0\": 6, \"4\": 4, \"9\": 19, \"2\": 6, \"7\": 5, \"14\": 4, \"1\": 1}, \"10\": {\"3\": 18, \"2\": 12, \"13\": 6, \"12\": 11, \"14\": 17, \"8\": 24, \"15\": 13, \"7\": 20, \"0\": 29, \"9\": 10, \"6\": 15, \"1\": 23, \"4\": 20, \"10\": 15, \"5\": 7}, \"0\": {\"15\": 11, \"3\": 16, \"8\": 28, \"10\": 22, \"4\": 34, \"0\": 25, \"14\": 26, \"7\": 10, \"9\": 16, \"2\": 13, \"1\": 16, \"12\": 2, \"13\": 2, \"6\": 17, \"5\": 2}, \"13\": {\"15\": 22, \"2\": 20, \"9\": 26, \"4\": 4, \"8\": 7, \"13\": 42, \"12\": 23, \"5\": 32, \"3\": 16, \"6\": 19, \"11\": 7, \"10\": 8, \"0\": 7, \"7\": 6, \"1\": 1}, \"9\": {\"13\": 18, \"8\": 15, \"6\": 30, \"4\": 9, \"9\": 33, \"14\": 2, \"3\": 23, \"1\": 8, \"2\": 16, \"0\": 11, \"5\": 26, \"10\": 12, \"15\": 16, \"7\": 7, \"12\": 13, \"11\": 1}, \"3\": {\"8\": 21, \"15\": 19, \"7\": 19, \"4\": 18, \"10\": 24, \"1\": 18, \"2\": 25, \"3\": 30, \"14\": 12, \"13\": 4, \"0\": 24, \"6\": 12, \"9\": 6, \"5\": 8}, \"2\": {\"8\": 20, \"3\": 31, \"1\": 16, \"2\": 18, \"9\": 16, \"12\": 4, \"0\": 21, \"5\": 14, \"7\": 15, \"6\": 15, \"10\": 14, \"4\": 16, \"14\": 11, \"15\": 22, \"13\": 7}, \"5\": {\"8\": 9, \"9\": 24, \"0\": 10, \"6\": 22, \"4\": 6, \"15\": 22, \"13\": 27, \"12\": 18, \"14\": 7, \"5\": 28, \"3\": 18, \"7\": 11, \"10\": 5, \"2\": 22, \"11\": 9, \"1\": 2}, \"14\": {\"14\": 30, \"1\": 31, \"8\": 21, \"2\": 15, \"10\": 22, \"9\": 12, \"3\": 16, \"7\": 17, \"4\": 29, \"0\": 22, \"6\": 15, \"15\": 5, \"12\": 3, \"5\": 2}, \"8\": {\"7\": 20, \"4\": 19, \"5\": 8, \"8\": 21, \"9\": 21, \"10\": 14, \"0\": 18, \"3\": 17, \"2\": 20, \"1\": 15, \"15\": 18, \"12\": 7, \"6\": 22, \"14\": 15, \"13\": 5}, \"7\": {\"3\": 25, \"7\": 19, \"14\": 16, \"4\": 24, \"1\": 21, \"12\": 3, \"10\": 16, \"15\": 9, \"2\": 19, \"6\": 19, \"0\": 19, \"5\": 11, \"8\": 28, \"9\": 10, \"13\": 1}, \"6\": {\"3\": 13, \"13\": 8, \"12\": 13, \"6\": 30, \"2\": 16, \"9\": 20, \"5\": 14, \"10\": 16, \"7\": 11, \"15\": 24, \"8\": 26, \"14\": 10, \"4\": 20, \"0\": 12, \"1\": 5, \"11\": 2}, \"11\": {\"5\": 11, \"12\": 26, \"11\": 152, \"13\": 28, \"15\": 9, \"6\": 5, \"9\": 6, \"2\": 1, \"10\": 1, \"0\": 1}, \"15\": {\"8\": 24, \"13\": 23, \"5\": 12, \"10\": 11, \"7\": 18, \"12\": 11, \"6\": 28, \"3\": 23, \"14\": 10, \"0\": 13, \"2\": 17, \"15\": 23, \"4\": 8, \"1\": 5, \"9\": 14}, \"1\": {\"1\": 32, \"7\": 25, \"4\": 34, \"10\": 23, \"3\": 15, \"14\": 22, \"9\": 9, \"8\": 21, \"2\": 13, \"15\": 7, \"0\": 26, \"5\": 2, \"6\": 7, \"13\": 3, \"12\": 1}}, \"ORACLE.run144\": {\"12\": {\"12\": 39, \"10\": 36, \"2\": 32, \"7\": 21, \"1\": 49, \"3\": 41, \"6\": 1, \"9\": 14, \"13\": 6, \"5\": 1}, \"7\": {\"7\": 39, \"12\": 12, \"10\": 22, \"11\": 9, \"1\": 20, \"6\": 23, \"14\": 4, \"2\": 36, \"9\": 25, \"3\": 17, \"13\": 24, \"4\": 8, \"5\": 1}, \"5\": {\"5\": 63, \"15\": 27, \"4\": 35, \"3\": 3, \"0\": 34, \"14\": 51, \"8\": 16, \"13\": 4, \"6\": 3, \"9\": 2, \"7\": 1, \"1\": 1}, \"15\": {\"5\": 40, \"3\": 3, \"15\": 59, \"0\": 40, \"8\": 35, \"4\": 18, \"14\": 40, \"7\": 2, \"10\": 1, \"13\": 1, \"2\": 1}, \"8\": {\"0\": 74, \"5\": 21, \"8\": 87, \"15\": 47, \"14\": 9, \"4\": 2}, \"2\": {\"2\": 34, \"7\": 31, \"6\": 24, \"10\": 32, \"9\": 37, \"12\": 17, \"14\": 3, \"13\": 18, \"3\": 15, \"1\": 22, \"11\": 4, \"4\": 3}, \"13\": {\"13\": 45, \"11\": 48, \"6\": 36, \"12\": 4, \"7\": 25, \"14\": 4, \"9\": 34, \"10\": 9, \"2\": 15, \"1\": 6, \"4\": 7, \"3\": 7}, \"4\": {\"5\": 31, \"4\": 62, \"9\": 19, \"1\": 11, \"14\": 45, \"11\": 8, \"0\": 6, \"15\": 8, \"2\": 4, \"3\": 18, \"7\": 11, \"13\": 10, \"6\": 2, \"8\": 2, \"12\": 1, \"10\": 2}, \"0\": {\"15\": 51, \"5\": 23, \"4\": 9, \"8\": 71, \"14\": 12, \"0\": 72, \"11\": 1, \"3\": 1}, \"6\": {\"11\": 30, \"6\": 56, \"10\": 13, \"2\": 20, \"13\": 48, \"12\": 5, \"9\": 16, \"1\": 9, \"7\": 31, \"4\": 6, \"3\": 5, \"14\": 1}, \"9\": {\"9\": 25, \"13\": 28, \"12\": 13, \"1\": 17, \"7\": 38, \"6\": 25, \"3\": 17, \"4\": 10, \"14\": 10, \"2\": 22, \"11\": 20, \"10\": 15}, \"11\": {\"11\": 88, \"13\": 47, \"6\": 49, \"7\": 19, \"9\": 17, \"2\": 4, \"14\": 3, \"1\": 3, \"3\": 1, \"4\": 5, \"10\": 3, \"5\": 1}, \"10\": {\"1\": 30, \"2\": 40, \"10\": 34, \"7\": 31, \"6\": 7, \"9\": 24, \"3\": 21, \"14\": 1, \"13\": 9, \"12\": 36, \"11\": 7}, \"14\": {\"7\": 6, \"4\": 58, \"10\": 3, \"3\": 13, \"5\": 39, \"13\": 8, \"14\": 52, \"1\": 7, \"8\": 4, \"15\": 26, \"9\": 5, \"0\": 8, \"11\": 4, \"2\": 4, \"12\": 2, \"6\": 1}, \"1\": {\"2\": 25, \"12\": 47, \"1\": 33, \"9\": 24, \"7\": 24, \"10\": 35, \"11\": 3, \"6\": 3, \"3\": 28, \"13\": 7, \"4\": 8, \"14\": 3}, \"3\": {\"1\": 38, \"12\": 28, \"9\": 23, \"3\": 43, \"2\": 23, \"13\": 8, \"10\": 22, \"6\": 3, \"4\": 15, \"14\": 16, \"11\": 3, \"7\": 17, \"15\": 1}}}, \"per_domain_accuracy\": {\"Wisig_3\": {\"accuracy\": 0.9688870614035088, \"source?\": true}, \"Wisig_4\": {\"accuracy\": 0.9553755144032922, \"source?\": true}, \"Wisig_1\": {\"accuracy\": 0.9684840425531915, \"source?\": true}, \"Wisig_2\": {\"accuracy\": 0.9540441176470589, \"source?\": true}, \"ORACLE.run114\": {\"accuracy\": 0.17526041666666667, \"source?\": false}, \"ORACLE.run120\": {\"accuracy\": 0.12213541666666666, \"source?\": false}, \"ORACLE.run138\": {\"accuracy\": 0.23411458333333332, \"source?\": false}, \"ORACLE.run18\": {\"accuracy\": 0.17942708333333332, \"source?\": false}, \"ORACLE.run150\": {\"accuracy\": 0.20598958333333334, \"source?\": false}, \"ORACLE.run132\": {\"accuracy\": 0.28854166666666664, \"source?\": false}, \"ORACLE.run126\": {\"accuracy\": 0.15338541666666666, \"source?\": false}, \"ORACLE.run144\": {\"accuracy\": 0.21640625, \"source?\": false}}}, \"history\": {\"epoch_indices\": [1, 2, 3, 4, 5], \"train_label_loss\": [0.19317064626656671, 0.12516268638595082, 0.09942900960731658, 0.08404742038635937, 0.07002341683588693], \"source_val_label_loss\": [0.17653238773345947, 0.13780991733074188, 0.12108413875102997, 0.12232188135385513, 0.12935858964920044], \"target_val_label_loss\": [2.5011184215545654, 2.5198538303375244, 2.61222505569458, 2.612154483795166, 2.7177131175994873], \"source_val_acc_label\": [0.9615664724576272, 0.9682534427966102, 0.972556938559322, 0.9731197033898306, 0.9728217690677966], \"target_val_acc_label\": [0.19690755208333333, 0.17972005208333333, 0.159375, 0.15904947916666667, 0.13899739583333334]}, \"dataset_metrics\": {\"source\": {\"train\": {\"n_unique_x\": 189012, \"n_unique_y\": 130, \"n_batch/episode\": 6831}, \"val\": {\"n_unique_x\": 40068, \"n_unique_y\": 130, \"n_batch/episode\": 944}, \"test\": {\"n_unique_x\": 40816, \"n_unique_y\": 130, \"n_batch/episode\": 969}}, \"target\": {\"train\": {\"n_unique_x\": 179200, \"n_unique_y\": 16, \"n_batch/episode\": 6720}, \"val\": {\"n_unique_x\": 38400, \"n_unique_y\": 16, \"n_batch/episode\": 960}, \"test\": {\"n_unique_x\": 38400, \"n_unique_y\": 16, \"n_batch/episode\": 960}}}}'"
      ]
     },
     "execution_count": 29,
     "metadata": {},
     "output_type": "execute_result"
    }
   ],
   "source": [
    "json.dumps(experiment)"
   ]
  }
 ],
 "metadata": {
  "celltoolbar": "Tags",
  "kernelspec": {
   "display_name": "Python 3 (ipykernel)",
   "language": "python",
   "name": "python3"
  },
  "language_info": {
   "codemirror_mode": {
    "name": "ipython",
    "version": 3
   },
   "file_extension": ".py",
   "mimetype": "text/x-python",
   "name": "python",
   "nbconvert_exporter": "python",
   "pygments_lexer": "ipython3",
   "version": "3.8.12"
  },
  "papermill": {
   "default_parameters": {},
   "duration": 1546.711898,
   "end_time": "2022-03-21T04:55:07.694576",
   "environment_variables": {},
   "exception": null,
   "input_path": "/root/csc500-main/csc500-notebooks/templates/tl_ptn_template.ipynb",
   "output_path": "trial.ipynb",
   "parameters": {
    "parameters": {
     "BEST_MODEL_PATH": "./best_model.pth",
     "NUM_LOGS_PER_EPOCH": 10,
     "criteria_for_best": "target_accuracy",
     "dataset_seed": 1337,
     "datasets": [
      {
       "domain_prefix": "Wisig_",
       "domains": [
        1,
        2,
        3,
        4
       ],
       "episode_transforms": [],
       "labels": [
        "1-10",
        "1-12",
        "1-14",
        "1-16",
        "1-18",
        "1-19",
        "1-8",
        "10-11",
        "10-17",
        "10-4",
        "10-7",
        "11-1",
        "11-10",
        "11-19",
        "11-20",
        "11-4",
        "11-7",
        "12-19",
        "12-20",
        "12-7",
        "13-14",
        "13-18",
        "13-19",
        "13-20",
        "13-3",
        "13-7",
        "14-10",
        "14-11",
        "14-12",
        "14-13",
        "14-14",
        "14-19",
        "14-20",
        "14-7",
        "14-8",
        "14-9",
        "15-1",
        "15-19",
        "15-6",
        "16-1",
        "16-16",
        "16-19",
        "16-20",
        "17-10",
        "17-11",
        "18-1",
        "18-10",
        "18-11",
        "18-12",
        "18-13",
        "18-14",
        "18-15",
        "18-16",
        "18-17",
        "18-19",
        "18-2",
        "18-20",
        "18-4",
        "18-5",
        "18-7",
        "18-8",
        "18-9",
        "19-1",
        "19-10",
        "19-11",
        "19-12",
        "19-13",
        "19-14",
        "19-15",
        "19-19",
        "19-2",
        "19-20",
        "19-3",
        "19-4",
        "19-6",
        "19-7",
        "19-8",
        "19-9",
        "2-1",
        "2-13",
        "2-15",
        "2-3",
        "2-4",
        "2-5",
        "2-6",
        "2-7",
        "2-8",
        "20-1",
        "20-12",
        "20-14",
        "20-15",
        "20-16",
        "20-18",
        "20-19",
        "20-20",
        "20-3",
        "20-4",
        "20-5",
        "20-7",
        "20-8",
        "3-1",
        "3-13",
        "3-18",
        "3-2",
        "3-8",
        "4-1",
        "4-10",
        "4-11",
        "5-1",
        "5-5",
        "6-1",
        "6-15",
        "6-6",
        "7-10",
        "7-11",
        "7-12",
        "7-13",
        "7-14",
        "7-7",
        "7-8",
        "7-9",
        "8-1",
        "8-13",
        "8-14",
        "8-18",
        "8-20",
        "8-3",
        "8-8",
        "9-1",
        "9-7"
       ],
       "num_examples_per_domain_per_label": -1,
       "pickle_path": "/root/csc500-main/datasets/wisig.node3-19.stratified_ds.2022A.pkl",
       "source_or_target_dataset": "source",
       "x_transforms": [
        "unit_power"
       ]
      },
      {
       "domain_prefix": "ORACLE.run1",
       "domains": [
        32,
        38,
        8,
        44,
        14,
        50,
        20,
        26
       ],
       "episode_transforms": [],
       "labels": [
        "3123D52",
        "3123D65",
        "3123D79",
        "3123D80",
        "3123D54",
        "3123D70",
        "3123D7B",
        "3123D89",
        "3123D58",
        "3123D76",
        "3123D7D",
        "3123EFE",
        "3123D64",
        "3123D78",
        "3123D7E",
        "3124E4A"
       ],
       "num_examples_per_domain_per_label": 2000,
       "pickle_path": "/root/csc500-main/datasets/oracle.Run1_framed_2000Examples_stratified_ds.2022A.pkl",
       "source_or_target_dataset": "target",
       "x_transforms": [
        "unit_power"
       ]
      }
     ],
     "device": "cuda",
     "experiment_name": "tl_1v2:wisig-oracle.run1.framed",
     "lr": 0.0001,
     "n_epoch": 50,
     "n_query": 2,
     "n_shot": 3,
     "n_way": 16,
     "patience": 3,
     "seed": 1337,
     "test_k_factor": 2,
     "torch_default_dtype": "torch.float32",
     "train_k_factor": 3,
     "val_k_factor": 2,
     "x_net": [
      {
       "class": "nnReshape",
       "kargs": {
        "shape": [
         -1,
         1,
         2,
         256
        ]
       }
      },
      {
       "class": "Conv2d",
       "kargs": {
        "bias": false,
        "in_channels": 1,
        "kernel_size": [
         1,
         7
        ],
        "out_channels": 256,
        "padding": [
         0,
         3
        ]
       }
      },
      {
       "class": "ReLU",
       "kargs": {
        "inplace": true
       }
      },
      {
       "class": "BatchNorm2d",
       "kargs": {
        "num_features": 256
       }
      },
      {
       "class": "Conv2d",
       "kargs": {
        "bias": true,
        "in_channels": 256,
        "kernel_size": [
         2,
         7
        ],
        "out_channels": 80,
        "padding": [
         0,
         3
        ]
       }
      },
      {
       "class": "ReLU",
       "kargs": {
        "inplace": true
       }
      },
      {
       "class": "BatchNorm2d",
       "kargs": {
        "num_features": 80
       }
      },
      {
       "class": "Flatten",
       "kargs": {}
      },
      {
       "class": "Linear",
       "kargs": {
        "in_features": 20480,
        "out_features": 256
       }
      },
      {
       "class": "ReLU",
       "kargs": {
        "inplace": true
       }
      },
      {
       "class": "BatchNorm1d",
       "kargs": {
        "num_features": 256
       }
      },
      {
       "class": "Linear",
       "kargs": {
        "in_features": 256,
        "out_features": 256
       }
      }
     ]
    }
   },
   "start_time": "2022-03-21T04:29:20.982678",
   "version": "2.3.4"
  }
 },
 "nbformat": 4,
 "nbformat_minor": 5
}