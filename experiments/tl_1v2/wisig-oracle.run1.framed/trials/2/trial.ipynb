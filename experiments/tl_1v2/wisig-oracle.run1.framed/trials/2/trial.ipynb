{
 "cells": [
  {
   "cell_type": "markdown",
   "id": "9fea5f46",
   "metadata": {
    "papermill": {
     "duration": 0.028693,
     "end_time": "2022-03-21T05:20:29.431039",
     "exception": false,
     "start_time": "2022-03-21T05:20:29.402346",
     "status": "completed"
    },
    "tags": []
   },
   "source": [
    "# Transfer Learning Template"
   ]
  },
  {
   "cell_type": "code",
   "execution_count": 1,
   "id": "0902182a",
   "metadata": {
    "execution": {
     "iopub.execute_input": "2022-03-21T05:20:29.494178Z",
     "iopub.status.busy": "2022-03-21T05:20:29.493310Z",
     "iopub.status.idle": "2022-03-21T05:20:31.324616Z",
     "shell.execute_reply": "2022-03-21T05:20:31.324930Z"
    },
    "papermill": {
     "duration": 1.870586,
     "end_time": "2022-03-21T05:20:31.325081",
     "exception": false,
     "start_time": "2022-03-21T05:20:29.454495",
     "status": "completed"
    },
    "tags": []
   },
   "outputs": [],
   "source": [
    "%load_ext autoreload\n",
    "%autoreload 2\n",
    "%matplotlib inline\n",
    "\n",
    "    \n",
    "import os, json, sys, time, random\n",
    "import numpy as np\n",
    "import torch\n",
    "from torch.optim import Adam\n",
    "from  easydict import EasyDict\n",
    "import matplotlib.pyplot as plt\n",
    "\n",
    "from steves_models.steves_ptn import Steves_Prototypical_Network\n",
    "\n",
    "from steves_utils.lazy_iterable_wrapper import Lazy_Iterable_Wrapper\n",
    "from steves_utils.iterable_aggregator import Iterable_Aggregator\n",
    "from steves_utils.ptn_train_eval_test_jig import  PTN_Train_Eval_Test_Jig\n",
    "from steves_utils.torch_sequential_builder import build_sequential\n",
    "from steves_utils.torch_utils import get_dataset_metrics, ptn_confusion_by_domain_over_dataloader\n",
    "from steves_utils.utils_v2 import (per_domain_accuracy_from_confusion, get_datasets_base_path)\n",
    "from steves_utils.PTN.utils import independent_accuracy_assesment\n",
    "\n",
    "from torch.utils.data import DataLoader\n",
    "\n",
    "from steves_utils.stratified_dataset.episodic_accessor import Episodic_Accessor_Factory\n",
    "\n",
    "from steves_utils.ptn_do_report import (\n",
    "    get_loss_curve,\n",
    "    get_results_table,\n",
    "    get_parameters_table,\n",
    "    get_domain_accuracies,\n",
    ")\n",
    "\n",
    "from steves_utils.transforms import get_chained_transform"
   ]
  },
  {
   "cell_type": "markdown",
   "id": "41c840b4",
   "metadata": {
    "papermill": {
     "duration": 0.019196,
     "end_time": "2022-03-21T05:20:31.368705",
     "exception": false,
     "start_time": "2022-03-21T05:20:31.349509",
     "status": "completed"
    },
    "tags": []
   },
   "source": [
    "# Allowed Parameters\n",
    "These are allowed parameters, not defaults\n",
    "Each of these values need to be present in the injected parameters (the notebook will raise an exception if they are not present)\n",
    "\n",
    "Papermill uses the cell tag \"parameters\" to inject the real parameters below this cell.\n",
    "Enable tags to see what I mean"
   ]
  },
  {
   "cell_type": "code",
   "execution_count": 2,
   "id": "fd44eb83",
   "metadata": {
    "execution": {
     "iopub.execute_input": "2022-03-21T05:20:31.412748Z",
     "iopub.status.busy": "2022-03-21T05:20:31.412360Z",
     "iopub.status.idle": "2022-03-21T05:20:31.435103Z",
     "shell.execute_reply": "2022-03-21T05:20:31.434272Z"
    },
    "papermill": {
     "duration": 0.047133,
     "end_time": "2022-03-21T05:20:31.435265",
     "exception": false,
     "start_time": "2022-03-21T05:20:31.388132",
     "status": "completed"
    },
    "tags": []
   },
   "outputs": [],
   "source": [
    "required_parameters = {\n",
    "    \"experiment_name\",\n",
    "    \"lr\",\n",
    "    \"device\",\n",
    "    \"seed\",\n",
    "    \"dataset_seed\",\n",
    "    \"n_shot\",\n",
    "    \"n_query\",\n",
    "    \"n_way\",\n",
    "    \"train_k_factor\",\n",
    "    \"val_k_factor\",\n",
    "    \"test_k_factor\",\n",
    "    \"n_epoch\",\n",
    "    \"patience\",\n",
    "    \"criteria_for_best\",\n",
    "    \"x_net\",\n",
    "    \"datasets\",\n",
    "    \"torch_default_dtype\",\n",
    "    \"NUM_LOGS_PER_EPOCH\",\n",
    "    \"BEST_MODEL_PATH\",\n",
    "    \"x_shape\",\n",
    "}"
   ]
  },
  {
   "cell_type": "code",
   "execution_count": 3,
   "id": "fa3f0049",
   "metadata": {
    "execution": {
     "iopub.execute_input": "2022-03-21T05:20:31.496357Z",
     "iopub.status.busy": "2022-03-21T05:20:31.490281Z",
     "iopub.status.idle": "2022-03-21T05:20:31.514680Z",
     "shell.execute_reply": "2022-03-21T05:20:31.515360Z"
    },
    "papermill": {
     "duration": 0.053095,
     "end_time": "2022-03-21T05:20:31.515574",
     "exception": false,
     "start_time": "2022-03-21T05:20:31.462479",
     "status": "completed"
    },
    "tags": [
     "parameters"
    ]
   },
   "outputs": [],
   "source": [
    "from steves_utils.CORES.utils import (\n",
    "    ALL_NODES,\n",
    "    ALL_NODES_MINIMUM_1000_EXAMPLES,\n",
    "    ALL_DAYS\n",
    ")\n",
    "\n",
    "from steves_utils.ORACLE.utils_v2 import (\n",
    "    ALL_DISTANCES_FEET_NARROWED,\n",
    "    ALL_RUNS,\n",
    "    ALL_SERIAL_NUMBERS,\n",
    ")\n",
    "\n",
    "standalone_parameters = {}\n",
    "standalone_parameters[\"experiment_name\"] = \"STANDALONE PTN\"\n",
    "standalone_parameters[\"lr\"] = 0.001\n",
    "standalone_parameters[\"device\"] = \"cuda\"\n",
    "\n",
    "standalone_parameters[\"seed\"] = 1337\n",
    "standalone_parameters[\"dataset_seed\"] = 1337\n",
    "\n",
    "standalone_parameters[\"n_way\"] = 8\n",
    "standalone_parameters[\"n_shot\"] = 3\n",
    "standalone_parameters[\"n_query\"]  = 2\n",
    "standalone_parameters[\"train_k_factor\"] = 1\n",
    "standalone_parameters[\"val_k_factor\"] = 2\n",
    "standalone_parameters[\"test_k_factor\"] = 2\n",
    "\n",
    "\n",
    "standalone_parameters[\"n_epoch\"] = 50\n",
    "\n",
    "standalone_parameters[\"patience\"] = 10\n",
    "standalone_parameters[\"criteria_for_best\"] = \"source_loss\"\n",
    "\n",
    "standalone_parameters[\"datasets\"] = [\n",
    "    {\n",
    "        \"labels\": ALL_SERIAL_NUMBERS,\n",
    "        \"domains\": ALL_DISTANCES_FEET_NARROWED,\n",
    "        \"num_examples_per_domain_per_label\": 100,\n",
    "        \"pickle_path\": os.path.join(get_datasets_base_path(), \"oracle.Run1_framed_2000Examples_stratified_ds.2022A.pkl\"),\n",
    "        \"source_or_target_dataset\": \"source\",\n",
    "        \"x_transforms\": [\"unit_mag\", \"minus_two\"],\n",
    "        \"episode_transforms\": [],\n",
    "        \"domain_prefix\": \"ORACLE_\"\n",
    "    },\n",
    "    {\n",
    "        \"labels\": ALL_NODES,\n",
    "        \"domains\": ALL_DAYS,\n",
    "        \"num_examples_per_domain_per_label\": 100,\n",
    "        \"pickle_path\": os.path.join(get_datasets_base_path(), \"cores.stratified_ds.2022A.pkl\"),\n",
    "        \"source_or_target_dataset\": \"target\",\n",
    "        \"x_transforms\": [\"unit_power\", \"times_zero\"],\n",
    "        \"episode_transforms\": [],\n",
    "        \"domain_prefix\": \"CORES_\"\n",
    "    }   \n",
    "]\n",
    "\n",
    "standalone_parameters[\"torch_default_dtype\"] = \"torch.float32\" \n",
    "\n",
    "\n",
    "\n",
    "standalone_parameters[\"x_net\"] =     [\n",
    "    {\"class\": \"nnReshape\", \"kargs\": {\"shape\":[-1, 1, 2, 256]}},\n",
    "    {\"class\": \"Conv2d\", \"kargs\": { \"in_channels\":1, \"out_channels\":256, \"kernel_size\":(1,7), \"bias\":False, \"padding\":(0,3), },},\n",
    "    {\"class\": \"ReLU\", \"kargs\": {\"inplace\": True}},\n",
    "    {\"class\": \"BatchNorm2d\", \"kargs\": {\"num_features\":256}},\n",
    "\n",
    "    {\"class\": \"Conv2d\", \"kargs\": { \"in_channels\":256, \"out_channels\":80, \"kernel_size\":(2,7), \"bias\":True, \"padding\":(0,3), },},\n",
    "    {\"class\": \"ReLU\", \"kargs\": {\"inplace\": True}},\n",
    "    {\"class\": \"BatchNorm2d\", \"kargs\": {\"num_features\":80}},\n",
    "    {\"class\": \"Flatten\", \"kargs\": {}},\n",
    "\n",
    "    {\"class\": \"Linear\", \"kargs\": {\"in_features\": 80*256, \"out_features\": 256}}, # 80 units per IQ pair\n",
    "    {\"class\": \"ReLU\", \"kargs\": {\"inplace\": True}},\n",
    "    {\"class\": \"BatchNorm1d\", \"kargs\": {\"num_features\":256}},\n",
    "\n",
    "    {\"class\": \"Linear\", \"kargs\": {\"in_features\": 256, \"out_features\": 256}},\n",
    "]\n",
    "\n",
    "# Parameters relevant to results\n",
    "# These parameters will basically never need to change\n",
    "standalone_parameters[\"NUM_LOGS_PER_EPOCH\"] = 10\n",
    "standalone_parameters[\"BEST_MODEL_PATH\"] = \"./best_model.pth\"\n",
    "\n",
    "\n",
    "\n",
    "\n"
   ]
  },
  {
   "cell_type": "code",
   "execution_count": 4,
   "id": "dcbd34ca",
   "metadata": {
    "execution": {
     "iopub.execute_input": "2022-03-21T05:20:31.581950Z",
     "iopub.status.busy": "2022-03-21T05:20:31.580920Z",
     "iopub.status.idle": "2022-03-21T05:20:31.599457Z",
     "shell.execute_reply": "2022-03-21T05:20:31.600162Z"
    },
    "papermill": {
     "duration": 0.05787,
     "end_time": "2022-03-21T05:20:31.600347",
     "exception": false,
     "start_time": "2022-03-21T05:20:31.542477",
     "status": "completed"
    },
    "tags": [
     "injected-parameters"
    ]
   },
   "outputs": [],
   "source": [
    "# Parameters\n",
    "parameters = {\n",
    "    \"experiment_name\": \"tl_1v2:wisig-oracle.run1.framed\",\n",
    "    \"device\": \"cuda\",\n",
    "    \"lr\": 0.0001,\n",
    "    \"n_shot\": 3,\n",
    "    \"n_query\": 2,\n",
    "    \"train_k_factor\": 3,\n",
    "    \"val_k_factor\": 2,\n",
    "    \"test_k_factor\": 2,\n",
    "    \"torch_default_dtype\": \"torch.float32\",\n",
    "    \"n_epoch\": 50,\n",
    "    \"patience\": 3,\n",
    "    \"criteria_for_best\": \"target_accuracy\",\n",
    "    \"x_net\": [\n",
    "        {\"class\": \"nnReshape\", \"kargs\": {\"shape\": [-1, 1, 2, 256]}},\n",
    "        {\n",
    "            \"class\": \"Conv2d\",\n",
    "            \"kargs\": {\n",
    "                \"in_channels\": 1,\n",
    "                \"out_channels\": 256,\n",
    "                \"kernel_size\": [1, 7],\n",
    "                \"bias\": False,\n",
    "                \"padding\": [0, 3],\n",
    "            },\n",
    "        },\n",
    "        {\"class\": \"ReLU\", \"kargs\": {\"inplace\": True}},\n",
    "        {\"class\": \"BatchNorm2d\", \"kargs\": {\"num_features\": 256}},\n",
    "        {\n",
    "            \"class\": \"Conv2d\",\n",
    "            \"kargs\": {\n",
    "                \"in_channels\": 256,\n",
    "                \"out_channels\": 80,\n",
    "                \"kernel_size\": [2, 7],\n",
    "                \"bias\": True,\n",
    "                \"padding\": [0, 3],\n",
    "            },\n",
    "        },\n",
    "        {\"class\": \"ReLU\", \"kargs\": {\"inplace\": True}},\n",
    "        {\"class\": \"BatchNorm2d\", \"kargs\": {\"num_features\": 80}},\n",
    "        {\"class\": \"Flatten\", \"kargs\": {}},\n",
    "        {\"class\": \"Linear\", \"kargs\": {\"in_features\": 20480, \"out_features\": 256}},\n",
    "        {\"class\": \"ReLU\", \"kargs\": {\"inplace\": True}},\n",
    "        {\"class\": \"BatchNorm1d\", \"kargs\": {\"num_features\": 256}},\n",
    "        {\"class\": \"Linear\", \"kargs\": {\"in_features\": 256, \"out_features\": 256}},\n",
    "    ],\n",
    "    \"NUM_LOGS_PER_EPOCH\": 10,\n",
    "    \"BEST_MODEL_PATH\": \"./best_model.pth\",\n",
    "    \"n_way\": 16,\n",
    "    \"datasets\": [\n",
    "        {\n",
    "            \"labels\": [\n",
    "                \"1-10\",\n",
    "                \"1-12\",\n",
    "                \"1-14\",\n",
    "                \"1-16\",\n",
    "                \"1-18\",\n",
    "                \"1-19\",\n",
    "                \"1-8\",\n",
    "                \"10-11\",\n",
    "                \"10-17\",\n",
    "                \"10-4\",\n",
    "                \"10-7\",\n",
    "                \"11-1\",\n",
    "                \"11-10\",\n",
    "                \"11-19\",\n",
    "                \"11-20\",\n",
    "                \"11-4\",\n",
    "                \"11-7\",\n",
    "                \"12-19\",\n",
    "                \"12-20\",\n",
    "                \"12-7\",\n",
    "                \"13-14\",\n",
    "                \"13-18\",\n",
    "                \"13-19\",\n",
    "                \"13-20\",\n",
    "                \"13-3\",\n",
    "                \"13-7\",\n",
    "                \"14-10\",\n",
    "                \"14-11\",\n",
    "                \"14-12\",\n",
    "                \"14-13\",\n",
    "                \"14-14\",\n",
    "                \"14-19\",\n",
    "                \"14-20\",\n",
    "                \"14-7\",\n",
    "                \"14-8\",\n",
    "                \"14-9\",\n",
    "                \"15-1\",\n",
    "                \"15-19\",\n",
    "                \"15-6\",\n",
    "                \"16-1\",\n",
    "                \"16-16\",\n",
    "                \"16-19\",\n",
    "                \"16-20\",\n",
    "                \"17-10\",\n",
    "                \"17-11\",\n",
    "                \"18-1\",\n",
    "                \"18-10\",\n",
    "                \"18-11\",\n",
    "                \"18-12\",\n",
    "                \"18-13\",\n",
    "                \"18-14\",\n",
    "                \"18-15\",\n",
    "                \"18-16\",\n",
    "                \"18-17\",\n",
    "                \"18-19\",\n",
    "                \"18-2\",\n",
    "                \"18-20\",\n",
    "                \"18-4\",\n",
    "                \"18-5\",\n",
    "                \"18-7\",\n",
    "                \"18-8\",\n",
    "                \"18-9\",\n",
    "                \"19-1\",\n",
    "                \"19-10\",\n",
    "                \"19-11\",\n",
    "                \"19-12\",\n",
    "                \"19-13\",\n",
    "                \"19-14\",\n",
    "                \"19-15\",\n",
    "                \"19-19\",\n",
    "                \"19-2\",\n",
    "                \"19-20\",\n",
    "                \"19-3\",\n",
    "                \"19-4\",\n",
    "                \"19-6\",\n",
    "                \"19-7\",\n",
    "                \"19-8\",\n",
    "                \"19-9\",\n",
    "                \"2-1\",\n",
    "                \"2-13\",\n",
    "                \"2-15\",\n",
    "                \"2-3\",\n",
    "                \"2-4\",\n",
    "                \"2-5\",\n",
    "                \"2-6\",\n",
    "                \"2-7\",\n",
    "                \"2-8\",\n",
    "                \"20-1\",\n",
    "                \"20-12\",\n",
    "                \"20-14\",\n",
    "                \"20-15\",\n",
    "                \"20-16\",\n",
    "                \"20-18\",\n",
    "                \"20-19\",\n",
    "                \"20-20\",\n",
    "                \"20-3\",\n",
    "                \"20-4\",\n",
    "                \"20-5\",\n",
    "                \"20-7\",\n",
    "                \"20-8\",\n",
    "                \"3-1\",\n",
    "                \"3-13\",\n",
    "                \"3-18\",\n",
    "                \"3-2\",\n",
    "                \"3-8\",\n",
    "                \"4-1\",\n",
    "                \"4-10\",\n",
    "                \"4-11\",\n",
    "                \"5-1\",\n",
    "                \"5-5\",\n",
    "                \"6-1\",\n",
    "                \"6-15\",\n",
    "                \"6-6\",\n",
    "                \"7-10\",\n",
    "                \"7-11\",\n",
    "                \"7-12\",\n",
    "                \"7-13\",\n",
    "                \"7-14\",\n",
    "                \"7-7\",\n",
    "                \"7-8\",\n",
    "                \"7-9\",\n",
    "                \"8-1\",\n",
    "                \"8-13\",\n",
    "                \"8-14\",\n",
    "                \"8-18\",\n",
    "                \"8-20\",\n",
    "                \"8-3\",\n",
    "                \"8-8\",\n",
    "                \"9-1\",\n",
    "                \"9-7\",\n",
    "            ],\n",
    "            \"domains\": [1, 2, 3, 4],\n",
    "            \"num_examples_per_domain_per_label\": -1,\n",
    "            \"pickle_path\": \"/root/csc500-main/datasets/wisig.node3-19.stratified_ds.2022A.pkl\",\n",
    "            \"source_or_target_dataset\": \"source\",\n",
    "            \"x_transforms\": [],\n",
    "            \"episode_transforms\": [],\n",
    "            \"domain_prefix\": \"Wisig_\",\n",
    "        },\n",
    "        {\n",
    "            \"labels\": [\n",
    "                \"3123D52\",\n",
    "                \"3123D65\",\n",
    "                \"3123D79\",\n",
    "                \"3123D80\",\n",
    "                \"3123D54\",\n",
    "                \"3123D70\",\n",
    "                \"3123D7B\",\n",
    "                \"3123D89\",\n",
    "                \"3123D58\",\n",
    "                \"3123D76\",\n",
    "                \"3123D7D\",\n",
    "                \"3123EFE\",\n",
    "                \"3123D64\",\n",
    "                \"3123D78\",\n",
    "                \"3123D7E\",\n",
    "                \"3124E4A\",\n",
    "            ],\n",
    "            \"domains\": [32, 38, 8, 44, 14, 50, 20, 26],\n",
    "            \"num_examples_per_domain_per_label\": 2000,\n",
    "            \"pickle_path\": \"/root/csc500-main/datasets/oracle.Run1_framed_2000Examples_stratified_ds.2022A.pkl\",\n",
    "            \"source_or_target_dataset\": \"target\",\n",
    "            \"x_transforms\": [],\n",
    "            \"episode_transforms\": [],\n",
    "            \"domain_prefix\": \"ORACLE.run1\",\n",
    "        },\n",
    "    ],\n",
    "    \"dataset_seed\": 1337,\n",
    "    \"seed\": 1337,\n",
    "}\n"
   ]
  },
  {
   "cell_type": "code",
   "execution_count": 5,
   "id": "8fa1cc33",
   "metadata": {
    "execution": {
     "iopub.execute_input": "2022-03-21T05:20:31.657155Z",
     "iopub.status.busy": "2022-03-21T05:20:31.656574Z",
     "iopub.status.idle": "2022-03-21T05:20:31.679282Z",
     "shell.execute_reply": "2022-03-21T05:20:31.678565Z"
    },
    "papermill": {
     "duration": 0.049965,
     "end_time": "2022-03-21T05:20:31.679443",
     "exception": false,
     "start_time": "2022-03-21T05:20:31.629478",
     "status": "completed"
    },
    "tags": []
   },
   "outputs": [],
   "source": [
    "# Set this to True if you want to run this template directly\n",
    "STANDALONE = False\n",
    "if STANDALONE:\n",
    "    print(\"parameters not injected, running with standalone_parameters\")\n",
    "    parameters = standalone_parameters\n",
    "\n",
    "if not 'parameters' in locals() and not 'parameters' in globals():\n",
    "    raise Exception(\"Parameter injection failed\")\n",
    "\n",
    "#Use an easy dict for all the parameters\n",
    "p = EasyDict(parameters)\n",
    "\n",
    "if \"x_shape\" not in p:\n",
    "    p.x_shape = [2,256] # Default to this if we dont supply x_shape\n",
    "\n",
    "\n",
    "supplied_keys = set(p.keys())\n",
    "\n",
    "if  supplied_keys != required_parameters:\n",
    "    print(\"Parameters are incorrect\")\n",
    "    if len(supplied_keys - required_parameters)>0: print(\"Shouldn't have:\", str(supplied_keys - required_parameters))\n",
    "    if len(required_parameters - supplied_keys)>0: print(\"Need to have:\", str(required_parameters - supplied_keys))\n",
    "    raise RuntimeError(\"Parameters are incorrect\")"
   ]
  },
  {
   "cell_type": "code",
   "execution_count": 6,
   "id": "3a028d58",
   "metadata": {
    "execution": {
     "iopub.execute_input": "2022-03-21T05:20:31.731806Z",
     "iopub.status.busy": "2022-03-21T05:20:31.731384Z",
     "iopub.status.idle": "2022-03-21T05:20:31.754536Z",
     "shell.execute_reply": "2022-03-21T05:20:31.755218Z"
    },
    "papermill": {
     "duration": 0.048404,
     "end_time": "2022-03-21T05:20:31.755401",
     "exception": false,
     "start_time": "2022-03-21T05:20:31.706997",
     "status": "completed"
    },
    "tags": []
   },
   "outputs": [],
   "source": [
    "###################################\n",
    "# Set the RNGs and make it all deterministic\n",
    "###################################\n",
    "np.random.seed(p.seed)\n",
    "random.seed(p.seed)\n",
    "torch.manual_seed(p.seed)\n",
    "\n",
    "torch.use_deterministic_algorithms(True) "
   ]
  },
  {
   "cell_type": "code",
   "execution_count": 7,
   "id": "b691acf6",
   "metadata": {
    "execution": {
     "iopub.execute_input": "2022-03-21T05:20:31.805856Z",
     "iopub.status.busy": "2022-03-21T05:20:31.805456Z",
     "iopub.status.idle": "2022-03-21T05:20:31.828798Z",
     "shell.execute_reply": "2022-03-21T05:20:31.827976Z"
    },
    "papermill": {
     "duration": 0.046641,
     "end_time": "2022-03-21T05:20:31.828952",
     "exception": false,
     "start_time": "2022-03-21T05:20:31.782311",
     "status": "completed"
    },
    "tags": []
   },
   "outputs": [],
   "source": [
    "###########################################\n",
    "# The stratified datasets honor this\n",
    "###########################################\n",
    "torch.set_default_dtype(eval(p.torch_default_dtype))"
   ]
  },
  {
   "cell_type": "code",
   "execution_count": 8,
   "id": "b5fba671",
   "metadata": {
    "execution": {
     "iopub.execute_input": "2022-03-21T05:20:31.875733Z",
     "iopub.status.busy": "2022-03-21T05:20:31.875234Z",
     "iopub.status.idle": "2022-03-21T05:20:31.930798Z",
     "shell.execute_reply": "2022-03-21T05:20:31.930088Z"
    },
    "papermill": {
     "duration": 0.078361,
     "end_time": "2022-03-21T05:20:31.930954",
     "exception": false,
     "start_time": "2022-03-21T05:20:31.852593",
     "status": "completed"
    },
    "tags": []
   },
   "outputs": [],
   "source": [
    "###################################\n",
    "# Build the network(s)\n",
    "# Note: It's critical to do this AFTER setting the RNG\n",
    "###################################\n",
    "x_net = build_sequential(p.x_net)"
   ]
  },
  {
   "cell_type": "code",
   "execution_count": 9,
   "id": "5d7e61cc",
   "metadata": {
    "execution": {
     "iopub.execute_input": "2022-03-21T05:20:31.978540Z",
     "iopub.status.busy": "2022-03-21T05:20:31.978008Z",
     "iopub.status.idle": "2022-03-21T05:20:32.000326Z",
     "shell.execute_reply": "2022-03-21T05:20:31.999497Z"
    },
    "papermill": {
     "duration": 0.04504,
     "end_time": "2022-03-21T05:20:32.000481",
     "exception": false,
     "start_time": "2022-03-21T05:20:31.955441",
     "status": "completed"
    },
    "tags": []
   },
   "outputs": [],
   "source": [
    "start_time_secs = time.time()"
   ]
  },
  {
   "cell_type": "code",
   "execution_count": 10,
   "id": "c6b67dfd",
   "metadata": {
    "execution": {
     "iopub.execute_input": "2022-03-21T05:20:32.051622Z",
     "iopub.status.busy": "2022-03-21T05:20:32.051168Z",
     "iopub.status.idle": "2022-03-21T05:20:32.073688Z",
     "shell.execute_reply": "2022-03-21T05:20:32.072882Z"
    },
    "papermill": {
     "duration": 0.045522,
     "end_time": "2022-03-21T05:20:32.073842",
     "exception": false,
     "start_time": "2022-03-21T05:20:32.028320",
     "status": "completed"
    },
    "tags": []
   },
   "outputs": [],
   "source": [
    "p.domains_source = []\n",
    "p.domains_target = []\n",
    "\n",
    "\n",
    "train_original_source = []\n",
    "val_original_source   = []\n",
    "test_original_source  = []\n",
    "\n",
    "train_original_target = []\n",
    "val_original_target   = []\n",
    "test_original_target  = []"
   ]
  },
  {
   "cell_type": "code",
   "execution_count": 11,
   "id": "e3d9c3d3",
   "metadata": {
    "execution": {
     "iopub.execute_input": "2022-03-21T05:20:32.121807Z",
     "iopub.status.busy": "2022-03-21T05:20:32.121135Z",
     "iopub.status.idle": "2022-03-21T05:20:32.142113Z",
     "shell.execute_reply": "2022-03-21T05:20:32.141302Z"
    },
    "papermill": {
     "duration": 0.043517,
     "end_time": "2022-03-21T05:20:32.142267",
     "exception": false,
     "start_time": "2022-03-21T05:20:32.098750",
     "status": "completed"
    },
    "tags": []
   },
   "outputs": [],
   "source": [
    "# global_x_transform_func = lambda x: normalize(x.to(torch.get_default_dtype()), \"unit_power\") # unit_power, unit_mag\n",
    "# global_x_transform_func = lambda x: normalize(x, \"unit_power\") # unit_power, unit_mag"
   ]
  },
  {
   "cell_type": "code",
   "execution_count": 12,
   "id": "acb78fd2",
   "metadata": {
    "execution": {
     "iopub.execute_input": "2022-03-21T05:20:32.199097Z",
     "iopub.status.busy": "2022-03-21T05:20:32.198715Z",
     "iopub.status.idle": "2022-03-21T05:20:32.216888Z",
     "shell.execute_reply": "2022-03-21T05:20:32.216061Z"
    },
    "papermill": {
     "duration": 0.050095,
     "end_time": "2022-03-21T05:20:32.217043",
     "exception": false,
     "start_time": "2022-03-21T05:20:32.166948",
     "status": "completed"
    },
    "tags": []
   },
   "outputs": [],
   "source": [
    "def add_dataset(\n",
    "    labels,\n",
    "    domains,\n",
    "    pickle_path,\n",
    "    x_transforms,\n",
    "    episode_transforms,\n",
    "    domain_prefix,\n",
    "    num_examples_per_domain_per_label,\n",
    "    source_or_target_dataset:str,\n",
    "    iterator_seed=p.seed,\n",
    "    dataset_seed=p.dataset_seed,\n",
    "    n_shot=p.n_shot,\n",
    "    n_way=p.n_way,\n",
    "    n_query=p.n_query,\n",
    "    train_val_test_k_factors=(p.train_k_factor,p.val_k_factor,p.test_k_factor),\n",
    "):\n",
    "   \n",
    "    if x_transforms == []: x_transform = None\n",
    "    else: x_transform = get_chained_transform(x_transforms)\n",
    "    \n",
    "    if episode_transforms == []: episode_transform = None\n",
    "    else: raise Exception(\"episode_transforms not implemented\")\n",
    "    \n",
    "    episode_transform = lambda tup, _prefix=domain_prefix: (_prefix + str(tup[0]), tup[1])\n",
    "\n",
    "\n",
    "    eaf = Episodic_Accessor_Factory(\n",
    "        labels=labels,\n",
    "        domains=domains,\n",
    "        num_examples_per_domain_per_label=num_examples_per_domain_per_label,\n",
    "        iterator_seed=iterator_seed,\n",
    "        dataset_seed=dataset_seed,\n",
    "        n_shot=n_shot,\n",
    "        n_way=n_way,\n",
    "        n_query=n_query,\n",
    "        train_val_test_k_factors=train_val_test_k_factors,\n",
    "        pickle_path=pickle_path,\n",
    "        x_transform_func=x_transform,\n",
    "    )\n",
    "\n",
    "    train, val, test = eaf.get_train(), eaf.get_val(), eaf.get_test()\n",
    "    train = Lazy_Iterable_Wrapper(train, episode_transform)\n",
    "    val = Lazy_Iterable_Wrapper(val, episode_transform)\n",
    "    test = Lazy_Iterable_Wrapper(test, episode_transform)\n",
    "\n",
    "    if source_or_target_dataset==\"source\":\n",
    "        train_original_source.append(train)\n",
    "        val_original_source.append(val)\n",
    "        test_original_source.append(test)\n",
    "\n",
    "        p.domains_source.extend(\n",
    "            [domain_prefix + str(u) for u in domains]\n",
    "        )\n",
    "    elif source_or_target_dataset==\"target\":\n",
    "        train_original_target.append(train)\n",
    "        val_original_target.append(val)\n",
    "        test_original_target.append(test)\n",
    "        p.domains_target.extend(\n",
    "            [domain_prefix + str(u) for u in domains]\n",
    "        )\n",
    "    else:\n",
    "        raise Exception(f\"invalid source_or_target_dataset: {source_or_target_dataset}\")\n",
    "    "
   ]
  },
  {
   "cell_type": "code",
   "execution_count": 13,
   "id": "fe266617",
   "metadata": {
    "execution": {
     "iopub.execute_input": "2022-03-21T05:20:32.266553Z",
     "iopub.status.busy": "2022-03-21T05:20:32.266186Z",
     "iopub.status.idle": "2022-03-21T05:20:38.056793Z",
     "shell.execute_reply": "2022-03-21T05:20:38.056025Z"
    },
    "papermill": {
     "duration": 5.814186,
     "end_time": "2022-03-21T05:20:38.056993",
     "exception": false,
     "start_time": "2022-03-21T05:20:32.242807",
     "status": "completed"
    },
    "tags": []
   },
   "outputs": [],
   "source": [
    "for ds in p.datasets:\n",
    "    add_dataset(**ds)"
   ]
  },
  {
   "cell_type": "code",
   "execution_count": 14,
   "id": "b90d65ac",
   "metadata": {
    "execution": {
     "iopub.execute_input": "2022-03-21T05:20:38.105828Z",
     "iopub.status.busy": "2022-03-21T05:20:38.105272Z",
     "iopub.status.idle": "2022-03-21T05:20:38.131850Z",
     "shell.execute_reply": "2022-03-21T05:20:38.131038Z"
    },
    "papermill": {
     "duration": 0.049838,
     "end_time": "2022-03-21T05:20:38.132013",
     "exception": false,
     "start_time": "2022-03-21T05:20:38.082175",
     "status": "completed"
    },
    "tags": []
   },
   "outputs": [],
   "source": [
    "# from steves_utils.CORES.utils import (\n",
    "#     ALL_NODES,\n",
    "#     ALL_NODES_MINIMUM_1000_EXAMPLES,\n",
    "#     ALL_DAYS\n",
    "# )\n",
    "\n",
    "# add_dataset(\n",
    "#     labels=ALL_NODES,\n",
    "#     domains = ALL_DAYS,\n",
    "#     num_examples_per_domain_per_label=100,\n",
    "#     pickle_path=os.path.join(get_datasets_base_path(), \"cores.stratified_ds.2022A.pkl\"),\n",
    "#     source_or_target_dataset=\"target\",\n",
    "#     x_transform_func=global_x_transform_func,\n",
    "#     domain_modifier=lambda u: f\"cores_{u}\"\n",
    "# )"
   ]
  },
  {
   "cell_type": "code",
   "execution_count": 15,
   "id": "76db484d",
   "metadata": {
    "execution": {
     "iopub.execute_input": "2022-03-21T05:20:38.184225Z",
     "iopub.status.busy": "2022-03-21T05:20:38.183848Z",
     "iopub.status.idle": "2022-03-21T05:20:38.205364Z",
     "shell.execute_reply": "2022-03-21T05:20:38.204543Z"
    },
    "papermill": {
     "duration": 0.046235,
     "end_time": "2022-03-21T05:20:38.205521",
     "exception": false,
     "start_time": "2022-03-21T05:20:38.159286",
     "status": "completed"
    },
    "tags": []
   },
   "outputs": [],
   "source": [
    "# from steves_utils.ORACLE.utils_v2 import (\n",
    "#     ALL_DISTANCES_FEET,\n",
    "#     ALL_RUNS,\n",
    "#     ALL_SERIAL_NUMBERS,\n",
    "# )\n",
    "\n",
    "\n",
    "# add_dataset(\n",
    "#     labels=ALL_SERIAL_NUMBERS,\n",
    "#     domains = list(set(ALL_DISTANCES_FEET) - {2,62}),\n",
    "#     num_examples_per_domain_per_label=100,\n",
    "#     pickle_path=os.path.join(get_datasets_base_path(), \"oracle.Run2_framed_2000Examples_stratified_ds.2022A.pkl\"),\n",
    "#     source_or_target_dataset=\"source\",\n",
    "#     x_transform_func=global_x_transform_func,\n",
    "#     domain_modifier=lambda u: f\"oracle1_{u}\"\n",
    "# )\n"
   ]
  },
  {
   "cell_type": "code",
   "execution_count": 16,
   "id": "97dea9d2",
   "metadata": {
    "execution": {
     "iopub.execute_input": "2022-03-21T05:20:38.256820Z",
     "iopub.status.busy": "2022-03-21T05:20:38.256448Z",
     "iopub.status.idle": "2022-03-21T05:20:38.278154Z",
     "shell.execute_reply": "2022-03-21T05:20:38.277342Z"
    },
    "papermill": {
     "duration": 0.046579,
     "end_time": "2022-03-21T05:20:38.278311",
     "exception": false,
     "start_time": "2022-03-21T05:20:38.231732",
     "status": "completed"
    },
    "tags": []
   },
   "outputs": [],
   "source": [
    "# from steves_utils.ORACLE.utils_v2 import (\n",
    "#     ALL_DISTANCES_FEET,\n",
    "#     ALL_RUNS,\n",
    "#     ALL_SERIAL_NUMBERS,\n",
    "# )\n",
    "\n",
    "\n",
    "# add_dataset(\n",
    "#     labels=ALL_SERIAL_NUMBERS,\n",
    "#     domains = list(set(ALL_DISTANCES_FEET) - {2,62,56}),\n",
    "#     num_examples_per_domain_per_label=100,\n",
    "#     pickle_path=os.path.join(get_datasets_base_path(), \"oracle.Run2_framed_2000Examples_stratified_ds.2022A.pkl\"),\n",
    "#     source_or_target_dataset=\"source\",\n",
    "#     x_transform_func=global_x_transform_func,\n",
    "#     domain_modifier=lambda u: f\"oracle2_{u}\"\n",
    "# )"
   ]
  },
  {
   "cell_type": "code",
   "execution_count": 17,
   "id": "6f289866",
   "metadata": {
    "execution": {
     "iopub.execute_input": "2022-03-21T05:20:38.328923Z",
     "iopub.status.busy": "2022-03-21T05:20:38.328522Z",
     "iopub.status.idle": "2022-03-21T05:20:38.350179Z",
     "shell.execute_reply": "2022-03-21T05:20:38.349365Z"
    },
    "papermill": {
     "duration": 0.04599,
     "end_time": "2022-03-21T05:20:38.350333",
     "exception": false,
     "start_time": "2022-03-21T05:20:38.304343",
     "status": "completed"
    },
    "tags": []
   },
   "outputs": [],
   "source": [
    "# add_dataset(\n",
    "#     labels=list(range(19)),\n",
    "#     domains = [0,1,2],\n",
    "#     num_examples_per_domain_per_label=100,\n",
    "#     pickle_path=os.path.join(get_datasets_base_path(), \"metehan.stratified_ds.2022A.pkl\"),\n",
    "#     source_or_target_dataset=\"target\",\n",
    "#     x_transform_func=global_x_transform_func,\n",
    "#     domain_modifier=lambda u: f\"met_{u}\"\n",
    "# )"
   ]
  },
  {
   "cell_type": "code",
   "execution_count": 18,
   "id": "86a863c3",
   "metadata": {
    "execution": {
     "iopub.execute_input": "2022-03-21T05:20:38.400926Z",
     "iopub.status.busy": "2022-03-21T05:20:38.400518Z",
     "iopub.status.idle": "2022-03-21T05:20:38.421845Z",
     "shell.execute_reply": "2022-03-21T05:20:38.421135Z"
    },
    "papermill": {
     "duration": 0.045716,
     "end_time": "2022-03-21T05:20:38.421999",
     "exception": false,
     "start_time": "2022-03-21T05:20:38.376283",
     "status": "completed"
    },
    "tags": []
   },
   "outputs": [],
   "source": [
    "# # from steves_utils.wisig.utils import (\n",
    "# #     ALL_NODES_MINIMUM_100_EXAMPLES,\n",
    "# #     ALL_NODES_MINIMUM_500_EXAMPLES,\n",
    "# #     ALL_NODES_MINIMUM_1000_EXAMPLES,\n",
    "# #     ALL_DAYS\n",
    "# # )\n",
    "\n",
    "# import steves_utils.wisig.utils as wisig\n",
    "\n",
    "\n",
    "# add_dataset(\n",
    "#     labels=wisig.ALL_NODES_MINIMUM_100_EXAMPLES,\n",
    "#     domains = wisig.ALL_DAYS,\n",
    "#     num_examples_per_domain_per_label=100,\n",
    "#     pickle_path=os.path.join(get_datasets_base_path(), \"wisig.node3-19.stratified_ds.2022A.pkl\"),\n",
    "#     source_or_target_dataset=\"target\",\n",
    "#     x_transform_func=global_x_transform_func,\n",
    "#     domain_modifier=lambda u: f\"wisig_{u}\"\n",
    "# )"
   ]
  },
  {
   "cell_type": "code",
   "execution_count": 19,
   "id": "fd5442bc",
   "metadata": {
    "execution": {
     "iopub.execute_input": "2022-03-21T05:20:38.479547Z",
     "iopub.status.busy": "2022-03-21T05:20:38.478679Z",
     "iopub.status.idle": "2022-03-21T05:20:38.497179Z",
     "shell.execute_reply": "2022-03-21T05:20:38.496365Z"
    },
    "papermill": {
     "duration": 0.04882,
     "end_time": "2022-03-21T05:20:38.497333",
     "exception": false,
     "start_time": "2022-03-21T05:20:38.448513",
     "status": "completed"
    },
    "tags": []
   },
   "outputs": [],
   "source": [
    "###################################\n",
    "# Build the dataset\n",
    "###################################\n",
    "train_original_source = Iterable_Aggregator(train_original_source, p.seed)\n",
    "val_original_source = Iterable_Aggregator(val_original_source, p.seed)\n",
    "test_original_source = Iterable_Aggregator(test_original_source, p.seed)\n",
    "\n",
    "\n",
    "train_original_target = Iterable_Aggregator(train_original_target, p.seed)\n",
    "val_original_target = Iterable_Aggregator(val_original_target, p.seed)\n",
    "test_original_target = Iterable_Aggregator(test_original_target, p.seed)\n",
    "\n",
    "# For CNN We only use X and Y. And we only train on the source.\n",
    "# Properly form the data using a transform lambda and Lazy_Iterable_Wrapper. Finally wrap them in a dataloader\n",
    "\n",
    "transform_lambda = lambda ex: ex[1] # Original is (<domain>, <episode>) so we strip down to episode only\n",
    "\n",
    "train_processed_source = Lazy_Iterable_Wrapper(train_original_source, transform_lambda)\n",
    "val_processed_source   = Lazy_Iterable_Wrapper(val_original_source, transform_lambda)\n",
    "test_processed_source  = Lazy_Iterable_Wrapper(test_original_source, transform_lambda)\n",
    "\n",
    "train_processed_target = Lazy_Iterable_Wrapper(train_original_target, transform_lambda)\n",
    "val_processed_target   = Lazy_Iterable_Wrapper(val_original_target, transform_lambda)\n",
    "test_processed_target  = Lazy_Iterable_Wrapper(test_original_target, transform_lambda)\n",
    "\n",
    "datasets = EasyDict({\n",
    "    \"source\": {\n",
    "        \"original\": {\"train\":train_original_source, \"val\":val_original_source, \"test\":test_original_source},\n",
    "        \"processed\": {\"train\":train_processed_source, \"val\":val_processed_source, \"test\":test_processed_source}\n",
    "    },\n",
    "    \"target\": {\n",
    "        \"original\": {\"train\":train_original_target, \"val\":val_original_target, \"test\":test_original_target},\n",
    "        \"processed\": {\"train\":train_processed_target, \"val\":val_processed_target, \"test\":test_processed_target}\n",
    "    },\n",
    "})"
   ]
  },
  {
   "cell_type": "code",
   "execution_count": 20,
   "id": "5b3c01fc",
   "metadata": {
    "execution": {
     "iopub.execute_input": "2022-03-21T05:20:38.551127Z",
     "iopub.status.busy": "2022-03-21T05:20:38.549772Z",
     "iopub.status.idle": "2022-03-21T05:20:53.695438Z",
     "shell.execute_reply": "2022-03-21T05:20:53.694453Z"
    },
    "papermill": {
     "duration": 15.171296,
     "end_time": "2022-03-21T05:20:53.695660",
     "exception": false,
     "start_time": "2022-03-21T05:20:38.524364",
     "status": "completed"
    },
    "tags": []
   },
   "outputs": [
    {
     "name": "stdout",
     "output_type": "stream",
     "text": [
      "{'Wisig_1', 'Wisig_4', 'Wisig_3', 'Wisig_2'}\n"
     ]
    },
    {
     "name": "stdout",
     "output_type": "stream",
     "text": [
      "{'ORACLE.run150', 'ORACLE.run114', 'ORACLE.run120', 'ORACLE.run132', 'ORACLE.run138', 'ORACLE.run126', 'ORACLE.run18', 'ORACLE.run144'}\n"
     ]
    },
    {
     "name": "stdout",
     "output_type": "stream",
     "text": [
      "tensor([[[-6.7141e-04,  1.7121e-02,  6.7141e-04,  ...,  5.0966e-03,\n",
      "           1.0224e-02, -2.4720e-03],\n",
      "         [-1.2970e-02,  1.7090e-03,  2.0661e-02,  ..., -6.2258e-03,\n",
      "           2.8382e-03,  1.7151e-02]],\n",
      "\n",
      "        [[ 6.7751e-03,  1.0804e-02, -1.4863e-02,  ...,  6.1342e-03,\n",
      "           2.8077e-03, -1.1902e-02],\n",
      "         [-8.1179e-03,  6.8361e-03,  1.3276e-02,  ...,  4.4557e-03,\n",
      "           6.7751e-03,  6.8667e-03]],\n",
      "\n",
      "        [[ 5.1271e-03,  1.8799e-02,  6.0121e-03,  ...,  7.9958e-03,\n",
      "           1.5809e-02, -4.5778e-04],\n",
      "         [-1.3062e-02,  5.6459e-03,  1.7151e-02,  ..., -8.5452e-03,\n",
      "           9.6133e-03,  1.9318e-02]],\n",
      "\n",
      "        ...,\n",
      "\n",
      "        [[-3.2502e-02, -3.3082e-02,  5.1576e-03,  ..., -5.8046e-02,\n",
      "          -3.1739e-02, -1.9837e-02],\n",
      "         [ 3.3357e-02, -1.3733e-03, -4.8677e-02,  ..., -1.5564e-02,\n",
      "          -2.7680e-02,  2.7467e-04]],\n",
      "\n",
      "        [[-2.1363e-03, -2.2279e-03, -2.8382e-03,  ...,  3.2655e-02,\n",
      "          -6.0121e-03, -6.4211e-02],\n",
      "         [-3.5096e-03, -3.9064e-03, -3.0519e-04,  ..., -9.8575e-03,\n",
      "           4.3397e-02,  4.8219e-03]],\n",
      "\n",
      "        [[-4.4557e-03, -1.4985e-02,  9.1556e-05,  ..., -2.4842e-02,\n",
      "           1.3245e-02,  2.4659e-02],\n",
      "         [-7.5991e-03, -7.8738e-03, -3.4181e-02,  ..., -3.2563e-02,\n",
      "          -4.4832e-02, -1.2604e-02]]])\n"
     ]
    }
   ],
   "source": [
    "from steves_utils.transforms import get_average_magnitude, get_average_power\n",
    "\n",
    "print(set([u for u,_ in val_original_source]))\n",
    "print(set([u for u,_ in val_original_target]))\n",
    "\n",
    "s_x, s_y, q_x, q_y, _ = next(iter(train_processed_source))\n",
    "print(s_x)\n",
    "\n",
    "# for ds in [\n",
    "#     train_processed_source,\n",
    "#     val_processed_source,\n",
    "#     test_processed_source,\n",
    "#     train_processed_target,\n",
    "#     val_processed_target,\n",
    "#     test_processed_target\n",
    "# ]:\n",
    "#     for s_x, s_y, q_x, q_y, _ in ds:\n",
    "#         for X in (s_x, q_x):\n",
    "#             for x in X:\n",
    "#                 assert np.isclose(get_average_magnitude(x.numpy()), 1.0)\n",
    "#                 assert np.isclose(get_average_power(x.numpy()), 1.0)\n",
    "                "
   ]
  },
  {
   "cell_type": "code",
   "execution_count": 21,
   "id": "bbdacba1",
   "metadata": {
    "execution": {
     "iopub.execute_input": "2022-03-21T05:20:53.751475Z",
     "iopub.status.busy": "2022-03-21T05:20:53.750890Z",
     "iopub.status.idle": "2022-03-21T05:20:54.053106Z",
     "shell.execute_reply": "2022-03-21T05:20:54.052680Z"
    },
    "papermill": {
     "duration": 0.331137,
     "end_time": "2022-03-21T05:20:54.053217",
     "exception": false,
     "start_time": "2022-03-21T05:20:53.722080",
     "status": "completed"
    },
    "tags": []
   },
   "outputs": [
    {
     "name": "stdout",
     "output_type": "stream",
     "text": [
      "(2, 256)\n"
     ]
    }
   ],
   "source": [
    "###################################\n",
    "# Build the model\n",
    "###################################\n",
    "# easfsl only wants a tuple for the shape\n",
    "model = Steves_Prototypical_Network(x_net, device=p.device, x_shape=tuple(p.x_shape))\n",
    "optimizer = Adam(params=model.parameters(), lr=p.lr)"
   ]
  },
  {
   "cell_type": "code",
   "execution_count": 22,
   "id": "22b39ac5",
   "metadata": {
    "execution": {
     "iopub.execute_input": "2022-03-21T05:20:54.106322Z",
     "iopub.status.busy": "2022-03-21T05:20:54.105933Z",
     "iopub.status.idle": "2022-03-21T05:45:11.233964Z",
     "shell.execute_reply": "2022-03-21T05:45:11.233601Z"
    },
    "papermill": {
     "duration": 1457.157262,
     "end_time": "2022-03-21T05:45:11.234064",
     "exception": false,
     "start_time": "2022-03-21T05:20:54.076802",
     "status": "completed"
    },
    "tags": []
   },
   "outputs": [
    {
     "name": "stdout",
     "output_type": "stream",
     "text": [
      "epoch: 1, [batch: 1 / 6866], examples_per_second: 31.4741, train_label_loss: 2.1413, \n"
     ]
    },
    {
     "name": "stdout",
     "output_type": "stream",
     "text": [
      "epoch: 1, [batch: 687 / 6866], examples_per_second: 2978.1113, train_label_loss: 0.4094, \n"
     ]
    },
    {
     "name": "stdout",
     "output_type": "stream",
     "text": [
      "epoch: 1, [batch: 1374 / 6866], examples_per_second: 2965.7046, train_label_loss: 0.2622, \n"
     ]
    },
    {
     "name": "stdout",
     "output_type": "stream",
     "text": [
      "epoch: 1, [batch: 2060 / 6866], examples_per_second: 2944.7463, train_label_loss: 0.0322, \n"
     ]
    },
    {
     "name": "stdout",
     "output_type": "stream",
     "text": [
      "epoch: 1, [batch: 2747 / 6866], examples_per_second: 2919.5061, train_label_loss: 0.0301, \n"
     ]
    },
    {
     "name": "stdout",
     "output_type": "stream",
     "text": [
      "epoch: 1, [batch: 3433 / 6866], examples_per_second: 2849.7309, train_label_loss: 0.0607, \n"
     ]
    },
    {
     "name": "stdout",
     "output_type": "stream",
     "text": [
      "epoch: 1, [batch: 4120 / 6866], examples_per_second: 2948.1997, train_label_loss: 0.0235, \n"
     ]
    },
    {
     "name": "stdout",
     "output_type": "stream",
     "text": [
      "epoch: 1, [batch: 4806 / 6866], examples_per_second: 3519.0970, train_label_loss: 0.1832, \n"
     ]
    },
    {
     "name": "stdout",
     "output_type": "stream",
     "text": [
      "epoch: 1, [batch: 5493 / 6866], examples_per_second: 3783.1198, train_label_loss: 0.0412, \n"
     ]
    },
    {
     "name": "stdout",
     "output_type": "stream",
     "text": [
      "epoch: 1, [batch: 6179 / 6866], examples_per_second: 3941.4764, train_label_loss: 0.0165, \n"
     ]
    },
    {
     "name": "stdout",
     "output_type": "stream",
     "text": [
      "=============================================================\n",
      "epoch: 1, source_val_acc_label: 0.9558, target_val_acc_label: 0.3083, source_val_label_loss: 0.2134, target_val_label_loss: 2.4634, \n",
      "=============================================================\n"
     ]
    },
    {
     "name": "stdout",
     "output_type": "stream",
     "text": [
      "New best\n"
     ]
    },
    {
     "name": "stdout",
     "output_type": "stream",
     "text": [
      "epoch: 2, [batch: 1 / 6837], examples_per_second: 2.7493, train_label_loss: 0.4973, \n"
     ]
    },
    {
     "name": "stdout",
     "output_type": "stream",
     "text": [
      "epoch: 2, [batch: 684 / 6837], examples_per_second: 2961.1767, train_label_loss: 0.0990, \n"
     ]
    },
    {
     "name": "stdout",
     "output_type": "stream",
     "text": [
      "epoch: 2, [batch: 1368 / 6837], examples_per_second: 2971.6747, train_label_loss: 0.1684, \n"
     ]
    },
    {
     "name": "stdout",
     "output_type": "stream",
     "text": [
      "epoch: 2, [batch: 2051 / 6837], examples_per_second: 3040.4408, train_label_loss: 0.2053, \n"
     ]
    },
    {
     "name": "stdout",
     "output_type": "stream",
     "text": [
      "epoch: 2, [batch: 2735 / 6837], examples_per_second: 2531.8153, train_label_loss: 0.2270, \n"
     ]
    },
    {
     "name": "stdout",
     "output_type": "stream",
     "text": [
      "epoch: 2, [batch: 3419 / 6837], examples_per_second: 2300.9295, train_label_loss: 0.0383, \n"
     ]
    },
    {
     "name": "stdout",
     "output_type": "stream",
     "text": [
      "epoch: 2, [batch: 4102 / 6837], examples_per_second: 2363.8970, train_label_loss: 0.0029, \n"
     ]
    },
    {
     "name": "stdout",
     "output_type": "stream",
     "text": [
      "epoch: 2, [batch: 4786 / 6837], examples_per_second: 2901.8670, train_label_loss: 0.2635, \n"
     ]
    },
    {
     "name": "stdout",
     "output_type": "stream",
     "text": [
      "epoch: 2, [batch: 5469 / 6837], examples_per_second: 2873.3014, train_label_loss: 0.4059, \n"
     ]
    },
    {
     "name": "stdout",
     "output_type": "stream",
     "text": [
      "epoch: 2, [batch: 6153 / 6837], examples_per_second: 2784.1633, train_label_loss: 0.1325, \n"
     ]
    },
    {
     "name": "stdout",
     "output_type": "stream",
     "text": [
      "=============================================================\n",
      "epoch: 2, source_val_acc_label: 0.9703, target_val_acc_label: 0.3408, source_val_label_loss: 0.1279, target_val_label_loss: 2.4396, \n",
      "=============================================================\n"
     ]
    },
    {
     "name": "stdout",
     "output_type": "stream",
     "text": [
      "New best\n"
     ]
    },
    {
     "name": "stdout",
     "output_type": "stream",
     "text": [
      "epoch: 3, [batch: 1 / 6844], examples_per_second: 1.9981, train_label_loss: 0.4225, \n"
     ]
    },
    {
     "name": "stdout",
     "output_type": "stream",
     "text": [
      "epoch: 3, [batch: 685 / 6844], examples_per_second: 2289.3392, train_label_loss: 0.0246, \n"
     ]
    },
    {
     "name": "stdout",
     "output_type": "stream",
     "text": [
      "epoch: 3, [batch: 1369 / 6844], examples_per_second: 2305.3376, train_label_loss: 0.1253, \n"
     ]
    },
    {
     "name": "stdout",
     "output_type": "stream",
     "text": [
      "epoch: 3, [batch: 2053 / 6844], examples_per_second: 2312.1717, train_label_loss: 0.2112, \n"
     ]
    },
    {
     "name": "stdout",
     "output_type": "stream",
     "text": [
      "epoch: 3, [batch: 2738 / 6844], examples_per_second: 2331.2910, train_label_loss: 0.0045, \n"
     ]
    },
    {
     "name": "stdout",
     "output_type": "stream",
     "text": [
      "epoch: 3, [batch: 3422 / 6844], examples_per_second: 2283.7978, train_label_loss: 0.2809, \n"
     ]
    },
    {
     "name": "stdout",
     "output_type": "stream",
     "text": [
      "epoch: 3, [batch: 4106 / 6844], examples_per_second: 2542.1810, train_label_loss: 0.0071, \n"
     ]
    },
    {
     "name": "stdout",
     "output_type": "stream",
     "text": [
      "epoch: 3, [batch: 4791 / 6844], examples_per_second: 2960.5398, train_label_loss: 0.3812, \n"
     ]
    },
    {
     "name": "stdout",
     "output_type": "stream",
     "text": [
      "epoch: 3, [batch: 5475 / 6844], examples_per_second: 3009.9420, train_label_loss: 0.0137, \n"
     ]
    },
    {
     "name": "stdout",
     "output_type": "stream",
     "text": [
      "epoch: 3, [batch: 6159 / 6844], examples_per_second: 2542.2235, train_label_loss: 0.2582, \n"
     ]
    },
    {
     "name": "stdout",
     "output_type": "stream",
     "text": [
      "=============================================================\n",
      "epoch: 3, source_val_acc_label: 0.9729, target_val_acc_label: 0.3378, source_val_label_loss: 0.1165, target_val_label_loss: 2.3794, \n",
      "=============================================================\n"
     ]
    },
    {
     "name": "stdout",
     "output_type": "stream",
     "text": [
      "epoch: 4, [batch: 1 / 6836], examples_per_second: 2.0044, train_label_loss: 0.1580, \n"
     ]
    },
    {
     "name": "stdout",
     "output_type": "stream",
     "text": [
      "epoch: 4, [batch: 684 / 6836], examples_per_second: 2310.0827, train_label_loss: 0.3514, \n"
     ]
    },
    {
     "name": "stdout",
     "output_type": "stream",
     "text": [
      "epoch: 4, [batch: 1368 / 6836], examples_per_second: 2314.8214, train_label_loss: 0.0866, \n"
     ]
    },
    {
     "name": "stdout",
     "output_type": "stream",
     "text": [
      "epoch: 4, [batch: 2051 / 6836], examples_per_second: 2327.4723, train_label_loss: 0.0680, \n"
     ]
    },
    {
     "name": "stdout",
     "output_type": "stream",
     "text": [
      "epoch: 4, [batch: 2735 / 6836], examples_per_second: 2297.2122, train_label_loss: 0.0411, \n"
     ]
    },
    {
     "name": "stdout",
     "output_type": "stream",
     "text": [
      "epoch: 4, [batch: 3418 / 6836], examples_per_second: 2312.5807, train_label_loss: 0.4785, \n"
     ]
    },
    {
     "name": "stdout",
     "output_type": "stream",
     "text": [
      "epoch: 4, [batch: 4102 / 6836], examples_per_second: 2688.0249, train_label_loss: 0.0047, \n"
     ]
    },
    {
     "name": "stdout",
     "output_type": "stream",
     "text": [
      "epoch: 4, [batch: 4785 / 6836], examples_per_second: 2947.5974, train_label_loss: 0.3119, \n"
     ]
    },
    {
     "name": "stdout",
     "output_type": "stream",
     "text": [
      "epoch: 4, [batch: 5469 / 6836], examples_per_second: 3118.5347, train_label_loss: 0.1708, \n"
     ]
    },
    {
     "name": "stdout",
     "output_type": "stream",
     "text": [
      "epoch: 4, [batch: 6152 / 6836], examples_per_second: 2315.9372, train_label_loss: 0.0951, \n"
     ]
    },
    {
     "name": "stdout",
     "output_type": "stream",
     "text": [
      "=============================================================\n",
      "epoch: 4, source_val_acc_label: 0.9731, target_val_acc_label: 0.2627, source_val_label_loss: 0.1177, target_val_label_loss: 2.4773, \n",
      "=============================================================\n"
     ]
    },
    {
     "name": "stdout",
     "output_type": "stream",
     "text": [
      "epoch: 5, [batch: 1 / 6857], examples_per_second: 1.9999, train_label_loss: 0.0537, \n"
     ]
    },
    {
     "name": "stdout",
     "output_type": "stream",
     "text": [
      "epoch: 5, [batch: 686 / 6857], examples_per_second: 2301.4957, train_label_loss: 0.1207, \n"
     ]
    },
    {
     "name": "stdout",
     "output_type": "stream",
     "text": [
      "epoch: 5, [batch: 1372 / 6857], examples_per_second: 2327.3488, train_label_loss: 0.1210, \n"
     ]
    },
    {
     "name": "stdout",
     "output_type": "stream",
     "text": [
      "epoch: 5, [batch: 2057 / 6857], examples_per_second: 2329.2979, train_label_loss: 0.0022, \n"
     ]
    },
    {
     "name": "stdout",
     "output_type": "stream",
     "text": [
      "epoch: 5, [batch: 2743 / 6857], examples_per_second: 2289.7009, train_label_loss: 0.1314, \n"
     ]
    },
    {
     "name": "stdout",
     "output_type": "stream",
     "text": [
      "epoch: 5, [batch: 3429 / 6857], examples_per_second: 2313.0361, train_label_loss: 0.0796, \n"
     ]
    },
    {
     "name": "stdout",
     "output_type": "stream",
     "text": [
      "epoch: 5, [batch: 4114 / 6857], examples_per_second: 2808.9112, train_label_loss: 0.1641, \n"
     ]
    },
    {
     "name": "stdout",
     "output_type": "stream",
     "text": [
      "epoch: 5, [batch: 4800 / 6857], examples_per_second: 2909.0097, train_label_loss: 0.0155, \n"
     ]
    },
    {
     "name": "stdout",
     "output_type": "stream",
     "text": [
      "epoch: 5, [batch: 5485 / 6857], examples_per_second: 2925.7729, train_label_loss: 0.2611, \n"
     ]
    },
    {
     "name": "stdout",
     "output_type": "stream",
     "text": [
      "epoch: 5, [batch: 6171 / 6857], examples_per_second: 2987.3463, train_label_loss: 0.1007, \n"
     ]
    },
    {
     "name": "stdout",
     "output_type": "stream",
     "text": [
      "=============================================================\n",
      "epoch: 5, source_val_acc_label: 0.9733, target_val_acc_label: 0.2298, source_val_label_loss: 0.1125, target_val_label_loss: 2.5039, \n",
      "=============================================================\n"
     ]
    },
    {
     "name": "stdout",
     "output_type": "stream",
     "text": [
      "epoch: 6, [batch: 1 / 6831], examples_per_second: 2.6245, train_label_loss: 0.1303, \n"
     ]
    },
    {
     "name": "stdout",
     "output_type": "stream",
     "text": [
      "epoch: 6, [batch: 684 / 6831], examples_per_second: 2925.6904, train_label_loss: 0.0051, \n"
     ]
    },
    {
     "name": "stdout",
     "output_type": "stream",
     "text": [
      "epoch: 6, [batch: 1367 / 6831], examples_per_second: 2941.1380, train_label_loss: 0.0046, \n"
     ]
    },
    {
     "name": "stdout",
     "output_type": "stream",
     "text": [
      "epoch: 6, [batch: 2050 / 6831], examples_per_second: 3140.5941, train_label_loss: 0.0031, \n"
     ]
    },
    {
     "name": "stdout",
     "output_type": "stream",
     "text": [
      "epoch: 6, [batch: 2733 / 6831], examples_per_second: 3655.6779, train_label_loss: 0.0074, \n"
     ]
    },
    {
     "name": "stdout",
     "output_type": "stream",
     "text": [
      "epoch: 6, [batch: 3416 / 6831], examples_per_second: 4140.4008, train_label_loss: 0.0016, \n"
     ]
    },
    {
     "name": "stdout",
     "output_type": "stream",
     "text": [
      "epoch: 6, [batch: 4099 / 6831], examples_per_second: 4164.0136, train_label_loss: 0.1249, \n"
     ]
    },
    {
     "name": "stdout",
     "output_type": "stream",
     "text": [
      "epoch: 6, [batch: 4782 / 6831], examples_per_second: 4470.5275, train_label_loss: 0.0015, \n"
     ]
    },
    {
     "name": "stdout",
     "output_type": "stream",
     "text": [
      "epoch: 6, [batch: 5465 / 6831], examples_per_second: 4717.3990, train_label_loss: 0.3554, \n"
     ]
    },
    {
     "name": "stdout",
     "output_type": "stream",
     "text": [
      "epoch: 6, [batch: 6148 / 6831], examples_per_second: 4925.1403, train_label_loss: 0.0552, \n"
     ]
    },
    {
     "name": "stdout",
     "output_type": "stream",
     "text": [
      "=============================================================\n",
      "epoch: 6, source_val_acc_label: 0.9740, target_val_acc_label: 0.2705, source_val_label_loss: 0.1070, target_val_label_loss: 2.3849, \n",
      "=============================================================\n"
     ]
    },
    {
     "name": "stdout",
     "output_type": "stream",
     "text": [
      "Patience (3) exhausted\n"
     ]
    }
   ],
   "source": [
    "###################################\n",
    "# train\n",
    "###################################\n",
    "jig = PTN_Train_Eval_Test_Jig(model, p.BEST_MODEL_PATH, p.device)\n",
    "\n",
    "jig.train(\n",
    "    train_iterable=datasets.source.processed.train,\n",
    "    source_val_iterable=datasets.source.processed.val,\n",
    "    target_val_iterable=datasets.target.processed.val,\n",
    "    num_epochs=p.n_epoch,\n",
    "    num_logs_per_epoch=p.NUM_LOGS_PER_EPOCH,\n",
    "    patience=p.patience,\n",
    "    optimizer=optimizer,\n",
    "    criteria_for_best=p.criteria_for_best,\n",
    ")"
   ]
  },
  {
   "cell_type": "code",
   "execution_count": 23,
   "id": "31e8fabf",
   "metadata": {
    "execution": {
     "iopub.execute_input": "2022-03-21T05:45:11.321844Z",
     "iopub.status.busy": "2022-03-21T05:45:11.321465Z",
     "iopub.status.idle": "2022-03-21T05:45:11.356031Z",
     "shell.execute_reply": "2022-03-21T05:45:11.355269Z"
    },
    "papermill": {
     "duration": 0.081027,
     "end_time": "2022-03-21T05:45:11.356207",
     "exception": false,
     "start_time": "2022-03-21T05:45:11.275180",
     "status": "completed"
    },
    "tags": []
   },
   "outputs": [],
   "source": [
    "total_experiment_time_secs = time.time() - start_time_secs"
   ]
  },
  {
   "cell_type": "code",
   "execution_count": 24,
   "id": "87b9595b",
   "metadata": {
    "execution": {
     "iopub.execute_input": "2022-03-21T05:45:11.456135Z",
     "iopub.status.busy": "2022-03-21T05:45:11.453664Z",
     "iopub.status.idle": "2022-03-21T05:48:45.452867Z",
     "shell.execute_reply": "2022-03-21T05:48:45.453606Z"
    },
    "papermill": {
     "duration": 214.049565,
     "end_time": "2022-03-21T05:48:45.453865",
     "exception": false,
     "start_time": "2022-03-21T05:45:11.404300",
     "status": "completed"
    },
    "tags": []
   },
   "outputs": [],
   "source": [
    "###################################\n",
    "# Evaluate the model\n",
    "###################################\n",
    "source_test_label_accuracy, source_test_label_loss = jig.test(datasets.source.processed.test)\n",
    "target_test_label_accuracy, target_test_label_loss = jig.test(datasets.target.processed.test)\n",
    "\n",
    "source_val_label_accuracy, source_val_label_loss = jig.test(datasets.source.processed.val)\n",
    "target_val_label_accuracy, target_val_label_loss = jig.test(datasets.target.processed.val)\n",
    "\n",
    "history = jig.get_history()\n",
    "\n",
    "total_epochs_trained = len(history[\"epoch_indices\"])\n",
    "\n",
    "val_dl = Iterable_Aggregator((datasets.source.original.val,datasets.target.original.val))\n",
    "\n",
    "confusion = ptn_confusion_by_domain_over_dataloader(model, p.device, val_dl)\n",
    "per_domain_accuracy = per_domain_accuracy_from_confusion(confusion)\n",
    "\n",
    "# Add a key to per_domain_accuracy for if it was a source domain\n",
    "for domain, accuracy in per_domain_accuracy.items():\n",
    "    per_domain_accuracy[domain] = {\n",
    "        \"accuracy\": accuracy,\n",
    "        \"source?\": domain in p.domains_source\n",
    "    }\n",
    "\n",
    "# Do an independent accuracy assesment JUST TO BE SURE!\n",
    "# _source_test_label_accuracy = independent_accuracy_assesment(model, datasets.source.processed.test, p.device)\n",
    "# _target_test_label_accuracy = independent_accuracy_assesment(model, datasets.target.processed.test, p.device)\n",
    "# _source_val_label_accuracy = independent_accuracy_assesment(model, datasets.source.processed.val, p.device)\n",
    "# _target_val_label_accuracy = independent_accuracy_assesment(model, datasets.target.processed.val, p.device)\n",
    "\n",
    "# assert(_source_test_label_accuracy == source_test_label_accuracy)\n",
    "# assert(_target_test_label_accuracy == target_test_label_accuracy)\n",
    "# assert(_source_val_label_accuracy == source_val_label_accuracy)\n",
    "# assert(_target_val_label_accuracy == target_val_label_accuracy)\n",
    "\n",
    "experiment = {\n",
    "    \"experiment_name\": p.experiment_name,\n",
    "    \"parameters\": dict(p),\n",
    "    \"results\": {\n",
    "        \"source_test_label_accuracy\": source_test_label_accuracy,\n",
    "        \"source_test_label_loss\": source_test_label_loss,\n",
    "        \"target_test_label_accuracy\": target_test_label_accuracy,\n",
    "        \"target_test_label_loss\": target_test_label_loss,\n",
    "        \"source_val_label_accuracy\": source_val_label_accuracy,\n",
    "        \"source_val_label_loss\": source_val_label_loss,\n",
    "        \"target_val_label_accuracy\": target_val_label_accuracy,\n",
    "        \"target_val_label_loss\": target_val_label_loss,\n",
    "        \"total_epochs_trained\": total_epochs_trained,\n",
    "        \"total_experiment_time_secs\": total_experiment_time_secs,\n",
    "        \"confusion\": confusion,\n",
    "        \"per_domain_accuracy\": per_domain_accuracy,\n",
    "    },\n",
    "    \"history\": history,\n",
    "    \"dataset_metrics\": get_dataset_metrics(datasets, \"ptn\"),\n",
    "}"
   ]
  },
  {
   "cell_type": "code",
   "execution_count": 25,
   "id": "54a21829",
   "metadata": {
    "execution": {
     "iopub.execute_input": "2022-03-21T05:48:45.546868Z",
     "iopub.status.busy": "2022-03-21T05:48:45.546188Z",
     "iopub.status.idle": "2022-03-21T05:48:45.781610Z",
     "shell.execute_reply": "2022-03-21T05:48:45.782293Z"
    },
    "papermill": {
     "duration": 0.281596,
     "end_time": "2022-03-21T05:48:45.782524",
     "exception": false,
     "start_time": "2022-03-21T05:48:45.500928",
     "status": "completed"
    },
    "tags": []
   },
   "outputs": [
    {
     "data": {
      "image/png": "[encoded data removed]",
      "text/plain": [
       "<Figure size 1080x504 with 1 Axes>"
      ]
     },
     "metadata": {
      "needs_background": "light"
     },
     "output_type": "display_data"
    }
   ],
   "source": [
    "ax = get_loss_curve(experiment)\n",
    "plt.show()"
   ]
  },
  {
   "cell_type": "code",
   "execution_count": 26,
   "id": "fd8a0f60",
   "metadata": {
    "execution": {
     "iopub.execute_input": "2022-03-21T05:48:45.875728Z",
     "iopub.status.busy": "2022-03-21T05:48:45.875067Z",
     "iopub.status.idle": "2022-03-21T05:48:46.196268Z",
     "shell.execute_reply": "2022-03-21T05:48:46.196952Z"
    },
    "papermill": {
     "duration": 0.36704,
     "end_time": "2022-03-21T05:48:46.197183",
     "exception": false,
     "start_time": "2022-03-21T05:48:45.830143",
     "status": "completed"
    },
    "tags": []
   },
   "outputs": [
    {
     "data": {
      "text/plain": [
       "<AxesSubplot:title={'center':'Results'}>"
      ]
     },
     "execution_count": 26,
     "metadata": {},
     "output_type": "execute_result"
    },
    {
     "data": {
      "image/png": "[encoded data removed]",
      "text/plain": [
       "<Figure size 1080x504 with 1 Axes>"
      ]
     },
     "metadata": {
      "needs_background": "light"
     },
     "output_type": "display_data"
    }
   ],
   "source": [
    "get_results_table(experiment)"
   ]
  },
  {
   "cell_type": "code",
   "execution_count": 27,
   "id": "cf8dc689",
   "metadata": {
    "execution": {
     "iopub.execute_input": "2022-03-21T05:48:46.296351Z",
     "iopub.status.busy": "2022-03-21T05:48:46.295970Z",
     "iopub.status.idle": "2022-03-21T05:48:46.559884Z",
     "shell.execute_reply": "2022-03-21T05:48:46.559070Z"
    },
    "papermill": {
     "duration": 0.312656,
     "end_time": "2022-03-21T05:48:46.560078",
     "exception": false,
     "start_time": "2022-03-21T05:48:46.247422",
     "status": "completed"
    },
    "tags": []
   },
   "outputs": [
    {
     "data": {
      "text/plain": [
       "<AxesSubplot:title={'center':'Per Domain Validation Accuracy'}, xlabel='domain'>"
      ]
     },
     "execution_count": 27,
     "metadata": {},
     "output_type": "execute_result"
    },
    {
     "data": {
      "image/png": "[encoded data removed]",
      "text/plain": [
       "<Figure size 1080x504 with 1 Axes>"
      ]
     },
     "metadata": {
      "needs_background": "light"
     },
     "output_type": "display_data"
    }
   ],
   "source": [
    "get_domain_accuracies(experiment)"
   ]
  },
  {
   "cell_type": "code",
   "execution_count": 28,
   "id": "a74ae082",
   "metadata": {
    "execution": {
     "iopub.execute_input": "2022-03-21T05:48:46.661378Z",
     "iopub.status.busy": "2022-03-21T05:48:46.660670Z",
     "iopub.status.idle": "2022-03-21T05:48:46.687914Z",
     "shell.execute_reply": "2022-03-21T05:48:46.687058Z"
    },
    "papermill": {
     "duration": 0.077989,
     "end_time": "2022-03-21T05:48:46.688094",
     "exception": false,
     "start_time": "2022-03-21T05:48:46.610105",
     "status": "completed"
    },
    "tags": []
   },
   "outputs": [
    {
     "name": "stdout",
     "output_type": "stream",
     "text": [
      "Source Test Label Accuracy: 0.9713622291021672 Target Test Label Accuracy: 0.3512044270833333\n",
      "Source Val Label Accuracy: 0.9702727754237288 Target Val Label Accuracy: 0.3408203125\n"
     ]
    }
   ],
   "source": [
    "print(\"Source Test Label Accuracy:\", experiment[\"results\"][\"source_test_label_accuracy\"], \"Target Test Label Accuracy:\", experiment[\"results\"][\"target_test_label_accuracy\"])\n",
    "print(\"Source Val Label Accuracy:\", experiment[\"results\"][\"source_val_label_accuracy\"], \"Target Val Label Accuracy:\", experiment[\"results\"][\"target_val_label_accuracy\"])"
   ]
  },
  {
   "cell_type": "code",
   "execution_count": 29,
   "id": "dacca602",
   "metadata": {
    "execution": {
     "iopub.execute_input": "2022-03-21T05:48:46.788325Z",
     "iopub.status.busy": "2022-03-21T05:48:46.787955Z",
     "iopub.status.idle": "2022-03-21T05:48:46.813922Z",
     "shell.execute_reply": "2022-03-21T05:48:46.814614Z"
    },
    "papermill": {
     "duration": 0.076147,
     "end_time": "2022-03-21T05:48:46.814799",
     "exception": false,
     "start_time": "2022-03-21T05:48:46.738652",
     "status": "completed"
    },
    "tags": [
     "experiment_json"
    ]
   },
   "outputs": [
    {
     "data": {
      "text/plain": [
       "'{\"experiment_name\": \"tl_1v2:wisig-oracle.run1.framed\", \"parameters\": {\"experiment_name\": \"tl_1v2:wisig-oracle.run1.framed\", \"device\": \"cuda\", \"lr\": 0.0001, \"n_shot\": 3, \"n_query\": 2, \"train_k_factor\": 3, \"val_k_factor\": 2, \"test_k_factor\": 2, \"torch_default_dtype\": \"torch.float32\", \"n_epoch\": 50, \"patience\": 3, \"criteria_for_best\": \"target_accuracy\", \"x_net\": [{\"class\": \"nnReshape\", \"kargs\": {\"shape\": [-1, 1, 2, 256]}}, {\"class\": \"Conv2d\", \"kargs\": {\"in_channels\": 1, \"out_channels\": 256, \"kernel_size\": [1, 7], \"bias\": false, \"padding\": [0, 3]}}, {\"class\": \"ReLU\", \"kargs\": {\"inplace\": true}}, {\"class\": \"BatchNorm2d\", \"kargs\": {\"num_features\": 256}}, {\"class\": \"Conv2d\", \"kargs\": {\"in_channels\": 256, \"out_channels\": 80, \"kernel_size\": [2, 7], \"bias\": true, \"padding\": [0, 3]}}, {\"class\": \"ReLU\", \"kargs\": {\"inplace\": true}}, {\"class\": \"BatchNorm2d\", \"kargs\": {\"num_features\": 80}}, {\"class\": \"Flatten\", \"kargs\": {}}, {\"class\": \"Linear\", \"kargs\": {\"in_features\": 20480, \"out_features\": 256}}, {\"class\": \"ReLU\", \"kargs\": {\"inplace\": true}}, {\"class\": \"BatchNorm1d\", \"kargs\": {\"num_features\": 256}}, {\"class\": \"Linear\", \"kargs\": {\"in_features\": 256, \"out_features\": 256}}], \"NUM_LOGS_PER_EPOCH\": 10, \"BEST_MODEL_PATH\": \"./best_model.pth\", \"n_way\": 16, \"datasets\": [{\"labels\": [\"1-10\", \"1-12\", \"1-14\", \"1-16\", \"1-18\", \"1-19\", \"1-8\", \"10-11\", \"10-17\", \"10-4\", \"10-7\", \"11-1\", \"11-10\", \"11-19\", \"11-20\", \"11-4\", \"11-7\", \"12-19\", \"12-20\", \"12-7\", \"13-14\", \"13-18\", \"13-19\", \"13-20\", \"13-3\", \"13-7\", \"14-10\", \"14-11\", \"14-12\", \"14-13\", \"14-14\", \"14-19\", \"14-20\", \"14-7\", \"14-8\", \"14-9\", \"15-1\", \"15-19\", \"15-6\", \"16-1\", \"16-16\", \"16-19\", \"16-20\", \"17-10\", \"17-11\", \"18-1\", \"18-10\", \"18-11\", \"18-12\", \"18-13\", \"18-14\", \"18-15\", \"18-16\", \"18-17\", \"18-19\", \"18-2\", \"18-20\", \"18-4\", \"18-5\", \"18-7\", \"18-8\", \"18-9\", \"19-1\", \"19-10\", \"19-11\", \"19-12\", \"19-13\", \"19-14\", \"19-15\", \"19-19\", \"19-2\", \"19-20\", \"19-3\", \"19-4\", \"19-6\", \"19-7\", \"19-8\", \"19-9\", \"2-1\", \"2-13\", \"2-15\", \"2-3\", \"2-4\", \"2-5\", \"2-6\", \"2-7\", \"2-8\", \"20-1\", \"20-12\", \"20-14\", \"20-15\", \"20-16\", \"20-18\", \"20-19\", \"20-20\", \"20-3\", \"20-4\", \"20-5\", \"20-7\", \"20-8\", \"3-1\", \"3-13\", \"3-18\", \"3-2\", \"3-8\", \"4-1\", \"4-10\", \"4-11\", \"5-1\", \"5-5\", \"6-1\", \"6-15\", \"6-6\", \"7-10\", \"7-11\", \"7-12\", \"7-13\", \"7-14\", \"7-7\", \"7-8\", \"7-9\", \"8-1\", \"8-13\", \"8-14\", \"8-18\", \"8-20\", \"8-3\", \"8-8\", \"9-1\", \"9-7\"], \"domains\": [1, 2, 3, 4], \"num_examples_per_domain_per_label\": -1, \"pickle_path\": \"/root/csc500-main/datasets/wisig.node3-19.stratified_ds.2022A.pkl\", \"source_or_target_dataset\": \"source\", \"x_transforms\": [], \"episode_transforms\": [], \"domain_prefix\": \"Wisig_\"}, {\"labels\": [\"3123D52\", \"3123D65\", \"3123D79\", \"3123D80\", \"3123D54\", \"3123D70\", \"3123D7B\", \"3123D89\", \"3123D58\", \"3123D76\", \"3123D7D\", \"3123EFE\", \"3123D64\", \"3123D78\", \"3123D7E\", \"3124E4A\"], \"domains\": [32, 38, 8, 44, 14, 50, 20, 26], \"num_examples_per_domain_per_label\": 2000, \"pickle_path\": \"/root/csc500-main/datasets/oracle.Run1_framed_2000Examples_stratified_ds.2022A.pkl\", \"source_or_target_dataset\": \"target\", \"x_transforms\": [], \"episode_transforms\": [], \"domain_prefix\": \"ORACLE.run1\"}], \"dataset_seed\": 1337, \"seed\": 1337, \"x_shape\": [2, 256], \"domains_source\": [\"Wisig_1\", \"Wisig_2\", \"Wisig_3\", \"Wisig_4\"], \"domains_target\": [\"ORACLE.run132\", \"ORACLE.run138\", \"ORACLE.run18\", \"ORACLE.run144\", \"ORACLE.run114\", \"ORACLE.run150\", \"ORACLE.run120\", \"ORACLE.run126\"]}, \"results\": {\"source_test_label_accuracy\": 0.9713622291021672, \"source_test_label_loss\": 0.12398182600736618, \"target_test_label_accuracy\": 0.3512044270833333, \"target_test_label_loss\": 2.436699867248535, \"source_val_label_accuracy\": 0.9702727754237288, \"source_val_label_loss\": 0.12791801989078522, \"target_val_label_accuracy\": 0.3408203125, \"target_val_label_loss\": 2.4395956993103027, \"total_epochs_trained\": 6, \"total_experiment_time_secs\": 1479.3553338050842, \"confusion\": {\"Wisig_3\": {\"109\": {\"109\": 127, \"113\": 1}, \"127\": {\"127\": 126, \"110\": 1, \"69\": 1}, \"14\": {\"14\": 80}, \"7\": {\"7\": 111, \"111\": 1}, \"129\": {\"129\": 31, \"5\": 1}, \"57\": {\"57\": 20}, \"84\": {\"84\": 107, \"118\": 1}, \"114\": {\"114\": 121, \"29\": 1, \"64\": 1, \"106\": 1}, \"44\": {\"44\": 72}, \"21\": {\"21\": 47, \"101\": 1}, \"46\": {\"46\": 16}, \"100\": {\"100\": 16}, \"63\": {\"63\": 15, \"19\": 1}, \"24\": {\"24\": 47, \"71\": 1}, \"107\": {\"107\": 117, \"62\": 1}, \"35\": {\"35\": 11, \"69\": 1}, \"81\": {\"81\": 32}, \"64\": {\"64\": 20}, \"59\": {\"59\": 12}, \"33\": {\"33\": 113, \"90\": 1}, \"34\": {\"34\": 31, \"77\": 1}, \"36\": {\"36\": 118, \"125\": 1, \"111\": 1}, \"79\": {\"79\": 12}, \"80\": {\"80\": 16}, \"77\": {\"77\": 15, \"105\": 1}, \"22\": {\"22\": 16}, \"124\": {\"124\": 122, \"98\": 1, \"32\": 1}, \"2\": {\"2\": 27, \"117\": 1}, \"87\": {\"87\": 111, \"127\": 1}, \"105\": {\"105\": 122}, \"95\": {\"95\": 32}, \"43\": {\"43\": 52, \"21\": 1, \"127\": 1, \"113\": 1, \"11\": 1}, \"56\": {\"56\": 12}, \"18\": {\"18\": 121, \"88\": 1, \"21\": 1, \"33\": 1}, \"85\": {\"85\": 36}, \"113\": {\"113\": 119, \"105\": 1}, \"97\": {\"97\": 18, \"27\": 1, \"105\": 1}, \"86\": {\"86\": 26, \"84\": 1, \"55\": 1}, \"128\": {\"128\": 30, \"17\": 1, \"88\": 1}, \"123\": {\"123\": 16}, \"8\": {\"8\": 129, \"49\": 1}, \"110\": {\"110\": 82, \"88\": 1, \"17\": 1, \"70\": 1, \"44\": 1, \"98\": 1, \"82\": 1, \"69\": 1, \"106\": 1}, \"126\": {\"21\": 1, \"126\": 99, \"94\": 1, \"44\": 1, \"88\": 2}, \"42\": {\"42\": 28}, \"96\": {\"96\": 20}, \"83\": {\"83\": 24}, \"54\": {\"54\": 16}, \"65\": {\"65\": 9, \"121\": 1, \"55\": 1, \"48\": 1}, \"30\": {\"30\": 81, \"106\": 1, \"69\": 1, \"70\": 1}, \"121\": {\"121\": 27, \"127\": 3, \"21\": 1, \"100\": 1}, \"68\": {\"68\": 16}, \"45\": {\"45\": 16}, \"48\": {\"48\": 12, \"13\": 2, \"79\": 2}, \"4\": {\"4\": 94, \"105\": 1, \"87\": 1}, \"67\": {\"67\": 16}, \"103\": {\"103\": 15, \"81\": 1}, \"74\": {\"74\": 16}, \"1\": {\"1\": 106, \"16\": 1, \"3\": 1}, \"61\": {\"61\": 16}, \"101\": {\"101\": 48, \"57\": 1, \"21\": 1, \"84\": 1, \"3\": 1}, \"93\": {\"93\": 138}, \"26\": {\"26\": 130}, \"71\": {\"71\": 66, \"113\": 1, \"127\": 1}, \"15\": {\"15\": 102, \"40\": 1, \"88\": 1}, \"55\": {\"55\": 16}, \"104\": {\"104\": 16}, \"112\": {\"112\": 15, \"5\": 1}, \"102\": {\"102\": 122}, \"117\": {\"117\": 112}, \"119\": {\"119\": 16}, \"20\": {\"20\": 15, \"106\": 1}, \"120\": {\"120\": 20}, \"39\": {\"39\": 101, \"101\": 1, \"88\": 1, \"12\": 1, \"13\": 1, \"70\": 1, \"24\": 1, \"8\": 1}, \"49\": {\"49\": 24}, \"53\": {\"53\": 20}, \"92\": {\"92\": 31, \"3\": 1}, \"3\": {\"3\": 116}, \"47\": {\"47\": 12}, \"115\": {\"115\": 16}, \"58\": {\"58\": 16}, \"29\": {\"29\": 32}, \"12\": {\"12\": 104}, \"62\": {\"62\": 117, \"127\": 1}, \"11\": {\"11\": 140}, \"72\": {\"72\": 28}, \"98\": {\"98\": 106}, \"122\": {\"122\": 57, \"39\": 1, \"82\": 1, \"21\": 1}, \"17\": {\"100\": 1, \"17\": 8, \"88\": 1, \"63\": 1, \"126\": 1, \"86\": 1, \"68\": 1, \"104\": 1, \"128\": 1}, \"94\": {\"94\": 84}, \"106\": {\"106\": 88, \"94\": 1, \"126\": 1}, \"28\": {\"28\": 16}, \"69\": {\"69\": 78, \"87\": 2, \"106\": 1, \"109\": 1, \"70\": 1, \"27\": 1}, \"125\": {\"125\": 113, \"117\": 1}, \"19\": {\"19\": 32}, \"41\": {\"41\": 15, \"6\": 1}, \"60\": {\"60\": 28}, \"70\": {\"70\": 67, \"105\": 1, \"3\": 2, \"92\": 1, \"106\": 1}, \"27\": {\"27\": 93, \"6\": 1, \"24\": 2}, \"10\": {\"10\": 116, \"113\": 2}, \"108\": {\"108\": 138, \"84\": 1, \"87\": 1}, \"9\": {\"9\": 32}, \"25\": {\"25\": 15, \"68\": 1}, \"37\": {\"37\": 15, \"73\": 1}, \"0\": {\"0\": 116}, \"66\": {\"66\": 16}, \"51\": {\"51\": 16}, \"76\": {\"76\": 16}, \"32\": {\"32\": 30, \"67\": 1, \"69\": 1}, \"88\": {\"88\": 109, \"73\": 1, \"84\": 1, \"114\": 1}, \"31\": {\"31\": 20}, \"91\": {\"91\": 21, \"103\": 3}, \"90\": {\"90\": 126}, \"13\": {\"13\": 11, \"67\": 1, \"126\": 1, \"2\": 1, \"101\": 1, \"44\": 1}, \"50\": {\"50\": 16}, \"78\": {\"78\": 16}, \"116\": {\"116\": 28}, \"5\": {\"5\": 110, \"40\": 1, \"70\": 1}, \"75\": {\"75\": 16}, \"89\": {\"89\": 28}, \"16\": {\"16\": 114, \"84\": 1, \"33\": 1}, \"38\": {\"38\": 15, \"89\": 1}, \"118\": {\"118\": 97, \"62\": 1, \"105\": 1, \"16\": 1}, \"99\": {\"99\": 35, \"36\": 1}, \"52\": {\"52\": 16}, \"111\": {\"111\": 128}, \"23\": {\"23\": 28, \"110\": 2, \"30\": 1, \"87\": 1}, \"73\": {\"73\": 38, \"21\": 1, \"85\": 1}, \"82\": {\"91\": 1, \"82\": 24, \"39\": 1, \"45\": 1, \"122\": 1}, \"40\": {\"40\": 126, \"88\": 2}, \"6\": {\"6\": 31, \"58\": 1}}, \"Wisig_4\": {\"28\": {\"28\": 20}, \"4\": {\"4\": 101, \"3\": 2, \"71\": 1}, \"72\": {\"72\": 30, \"57\": 1, \"55\": 1}, \"111\": {\"111\": 132, \"24\": 1, \"122\": 1, \"0\": 1, \"1\": 1}, \"108\": {\"108\": 86, \"122\": 1, \"3\": 1, \"107\": 1, \"27\": 1, \"39\": 1, \"84\": 1}, \"43\": {\"43\": 116, \"87\": 2, \"70\": 1, \"7\": 1}, \"96\": {\"96\": 20}, \"89\": {\"89\": 29, \"1\": 1, \"72\": 1, \"81\": 1}, \"31\": {\"31\": 16}, \"45\": {\"45\": 16}, \"2\": {\"2\": 28}, \"114\": {\"114\": 126, \"12\": 1, \"105\": 1}, \"11\": {\"11\": 135, \"98\": 1}, \"12\": {\"12\": 97, \"21\": 1, \"62\": 1, \"72\": 1}, \"14\": {\"14\": 111, \"8\": 1}, \"90\": {\"90\": 153, \"33\": 1}, \"10\": {\"10\": 116, \"24\": 1, \"7\": 1, \"88\": 2, \"70\": 1, \"27\": 1}, \"63\": {\"63\": 16}, \"85\": {\"85\": 27, \"1\": 1}, \"64\": {\"64\": 14, \"84\": 1, \"71\": 1}, \"82\": {\"82\": 31, \"100\": 1}, \"58\": {\"58\": 15, \"27\": 1}, \"3\": {\"3\": 133, \"21\": 2, \"27\": 1}, \"54\": {\"54\": 14, \"47\": 1, \"108\": 1}, \"121\": {\"121\": 32}, \"42\": {\"42\": 28}, \"98\": {\"98\": 115, \"121\": 2, \"109\": 1, \"81\": 1, \"25\": 1}, \"123\": {\"123\": 16}, \"91\": {\"91\": 23, \"77\": 1}, \"83\": {\"83\": 27, \"105\": 1}, \"99\": {\"99\": 38, \"72\": 1, \"74\": 1}, \"112\": {\"112\": 16}, \"119\": {\"119\": 16}, \"70\": {\"70\": 114, \"27\": 1, \"11\": 2, \"88\": 3, \"105\": 1, \"67\": 1, \"117\": 1, \"108\": 1}, \"20\": {\"20\": 15, \"1\": 1}, \"120\": {\"120\": 18, \"64\": 2}, \"7\": {\"7\": 122, \"108\": 1, \"1\": 1}, \"60\": {\"60\": 32}, \"113\": {\"113\": 116, \"105\": 1, \"108\": 1}, \"37\": {\"37\": 14, \"84\": 1, \"71\": 1}, \"124\": {\"124\": 110}, \"27\": {\"27\": 96, \"111\": 1, \"32\": 1, \"122\": 1, \"71\": 1}, \"86\": {\"86\": 28}, \"127\": {\"127\": 102, \"105\": 1, \"3\": 1, \"111\": 1, \"0\": 1, \"122\": 1, \"1\": 1}, \"62\": {\"62\": 55, \"71\": 1, \"122\": 1, \"14\": 1, \"55\": 1, \"3\": 1}, \"122\": {\"122\": 80, \"3\": 1, \"121\": 1, \"1\": 1, \"43\": 1}, \"51\": {\"51\": 12, \"21\": 1, \"23\": 1, \"62\": 1, \"17\": 1}, \"109\": {\"109\": 113, \"122\": 1}, \"106\": {\"106\": 109, \"3\": 1, \"78\": 1, \"1\": 1, \"117\": 1, \"88\": 1}, \"94\": {\"94\": 88}, \"38\": {\"38\": 16}, \"129\": {\"129\": 27, \"21\": 1}, \"116\": {\"116\": 28}, \"107\": {\"107\": 118}, \"30\": {\"30\": 73, \"7\": 1, \"10\": 1, \"27\": 1}, \"102\": {\"102\": 131, \"62\": 1}, \"74\": {\"74\": 16}, \"101\": {\"101\": 130, \"107\": 1, \"0\": 1}, \"117\": {\"117\": 118, \"71\": 1, \"1\": 1, \"16\": 1, \"90\": 1, \"81\": 2}, \"1\": {\"1\": 95, \"71\": 2, \"88\": 2, \"24\": 2, \"18\": 1, \"128\": 3, \"21\": 2, \"14\": 1}, \"84\": {\"84\": 128, \"0\": 1, \"118\": 1, \"14\": 1, \"88\": 1}, \"17\": {\"17\": 20}, \"6\": {\"6\": 23, \"91\": 1}, \"110\": {\"110\": 122, \"84\": 1, \"1\": 1}, \"77\": {\"77\": 12}, \"8\": {\"8\": 128, \"3\": 1, \"82\": 1, \"127\": 1, \"12\": 1}, \"73\": {\"73\": 20, \"115\": 1, \"3\": 1, \"120\": 1, \"46\": 1}, \"126\": {\"126\": 121, \"27\": 1, \"106\": 1, \"88\": 1}, \"57\": {\"57\": 16}, \"95\": {\"95\": 32}, \"103\": {\"103\": 15, \"124\": 1}, \"97\": {\"97\": 17, \"8\": 1, \"10\": 1, \"78\": 1}, \"39\": {\"8\": 1, \"39\": 92, \"7\": 1, \"106\": 2, \"21\": 2, \"108\": 1, \"27\": 1}, \"100\": {\"100\": 20}, \"40\": {\"40\": 108, \"128\": 1, \"69\": 1}, \"36\": {\"36\": 124, \"84\": 1, \"21\": 1}, \"19\": {\"19\": 26, \"73\": 1, \"50\": 1}, \"118\": {\"118\": 109, \"3\": 1, \"24\": 1, \"105\": 1}, \"56\": {\"56\": 11, \"86\": 1}, \"26\": {\"26\": 125, \"84\": 1}, \"5\": {\"5\": 134, \"106\": 1, \"1\": 1}, \"21\": {\"21\": 35, \"7\": 1, \"23\": 1, \"78\": 2, \"84\": 1}, \"22\": {\"22\": 15, \"36\": 1}, \"68\": {\"68\": 16}, \"9\": {\"9\": 26, \"83\": 2}, \"66\": {\"66\": 15, \"56\": 1}, \"87\": {\"87\": 121, \"43\": 2, \"106\": 1}, \"71\": {\"71\": 103, \"21\": 1}, \"115\": {\"115\": 16}, \"23\": {\"17\": 2, \"23\": 9, \"21\": 1, \"15\": 1, \"105\": 2, \"40\": 1}, \"33\": {\"33\": 116, \"0\": 1, \"90\": 1}, \"35\": {\"35\": 11, \"3\": 1}, \"125\": {\"125\": 127, \"90\": 2, \"92\": 1, \"88\": 1, \"106\": 1}, \"47\": {\"95\": 2, \"47\": 10}, \"79\": {\"79\": 16}, \"53\": {\"53\": 16}, \"67\": {\"67\": 14, \"38\": 1, \"104\": 1}, \"80\": {\"80\": 16}, \"105\": {\"105\": 93, \"71\": 2, \"3\": 1, \"108\": 3, \"40\": 1}, \"76\": {\"76\": 16}, \"46\": {\"46\": 19, \"129\": 1}, \"34\": {\"32\": 1, \"77\": 1, \"34\": 28, \"75\": 1, \"54\": 1}, \"32\": {\"32\": 27, \"21\": 1}, \"13\": {\"13\": 16}, \"78\": {\"78\": 34, \"4\": 1, \"1\": 1}, \"41\": {\"41\": 16}, \"69\": {\"69\": 124, \"126\": 2, \"3\": 1, \"88\": 1}, \"88\": {\"88\": 123, \"74\": 1, \"70\": 5, \"3\": 1, \"122\": 1, \"90\": 1}, \"15\": {\"15\": 123, \"106\": 1, \"126\": 1, \"88\": 1, \"21\": 1, \"24\": 1}, \"61\": {\"61\": 16}, \"0\": {\"0\": 112, \"24\": 1, \"105\": 1, \"27\": 1, \"4\": 1}, \"104\": {\"104\": 15, \"70\": 1}, \"48\": {\"48\": 13, \"79\": 2, \"74\": 1}, \"25\": {\"25\": 16}, \"75\": {\"75\": 16}, \"81\": {\"81\": 36}, \"50\": {\"50\": 16}, \"52\": {\"52\": 20}, \"16\": {\"16\": 118, \"98\": 1, \"106\": 1}, \"44\": {\"44\": 63, \"88\": 1}, \"29\": {\"29\": 30, \"21\": 1, \"1\": 1}, \"93\": {\"93\": 123, \"14\": 1}, \"18\": {\"18\": 114}, \"49\": {\"49\": 32}, \"55\": {\"55\": 16}, \"59\": {\"59\": 11, \"21\": 1}, \"128\": {\"128\": 19, \"99\": 2, \"98\": 3}, \"24\": {\"24\": 114, \"27\": 3, \"7\": 1, \"10\": 2}, \"65\": {\"65\": 12}, \"92\": {\"92\": 28}}, \"Wisig_1\": {\"108\": {\"108\": 124}, \"40\": {\"40\": 136}, \"68\": {\"68\": 15, \"57\": 1}, \"23\": {\"23\": 18, \"110\": 1, \"93\": 2, \"44\": 1, \"99\": 1, \"3\": 1}, \"26\": {\"26\": 118, \"3\": 1, \"21\": 1}, \"64\": {\"64\": 16}, \"22\": {\"22\": 12, \"116\": 2, \"86\": 1, \"3\": 1}, \"3\": {\"3\": 84, \"94\": 1, \"109\": 1, \"18\": 1, \"62\": 1}, \"4\": {\"4\": 99, \"12\": 1}, \"70\": {\"70\": 119, \"84\": 1}, \"57\": {\"57\": 11, \"3\": 1}, \"79\": {\"79\": 12}, \"9\": {\"9\": 32}, \"89\": {\"89\": 36}, \"110\": {\"110\": 128}, \"102\": {\"102\": 118, \"14\": 1, \"18\": 1}, \"31\": {\"31\": 16}, \"58\": {\"58\": 11, \"42\": 1}, \"47\": {\"47\": 12}, \"24\": {\"24\": 88, \"12\": 2, \"84\": 1, \"108\": 1}, \"19\": {\"19\": 28}, \"11\": {\"11\": 132}, \"52\": {\"52\": 20}, \"17\": {\"17\": 14, \"111\": 1, \"4\": 1}, \"25\": {\"25\": 16}, \"69\": {\"69\": 105, \"62\": 1, \"12\": 1, \"14\": 1}, \"96\": {\"96\": 15, \"17\": 1, \"65\": 1, \"49\": 1, \"35\": 1, \"10\": 1}, \"109\": {\"109\": 113, \"3\": 1}, \"115\": {\"115\": 12}, \"83\": {\"83\": 27, \"114\": 1}, \"84\": {\"84\": 127, \"88\": 1}, \"119\": {\"119\": 16}, \"122\": {\"122\": 83, \"14\": 1, \"1\": 1, \"105\": 1, \"21\": 1, \"12\": 1}, \"99\": {\"99\": 24}, \"1\": {\"1\": 133, \"105\": 1, \"84\": 1, \"127\": 1}, \"74\": {\"74\": 16}, \"85\": {\"85\": 32}, \"127\": {\"127\": 106, \"114\": 1, \"105\": 1}, \"111\": {\"111\": 117, \"5\": 2, \"24\": 1}, \"53\": {\"53\": 19, \"64\": 1}, \"88\": {\"88\": 132}, \"65\": {\"65\": 9, \"55\": 1, \"28\": 1, \"67\": 1}, \"7\": {\"7\": 134}, \"16\": {\"16\": 107, \"127\": 1}, \"128\": {\"128\": 23, \"86\": 1}, \"34\": {\"34\": 30, \"52\": 1, \"77\": 1}, \"129\": {\"129\": 28}, \"43\": {\"43\": 125, \"105\": 1, \"122\": 1, \"106\": 1}, \"92\": {\"92\": 28}, \"28\": {\"28\": 18, \"41\": 1, \"78\": 1}, \"27\": {\"27\": 92}, \"114\": {\"114\": 123, \"71\": 1}, \"73\": {\"73\": 20}, \"0\": {\"0\": 84}, \"104\": {\"104\": 16}, \"118\": {\"118\": 83, \"107\": 1}, \"41\": {\"41\": 16}, \"91\": {\"91\": 28}, \"124\": {\"124\": 122}, \"81\": {\"81\": 28}, \"63\": {\"63\": 16}, \"76\": {\"76\": 16}, \"10\": {\"10\": 118, \"111\": 1, \"27\": 1}, \"51\": {\"51\": 15, \"50\": 1}, \"82\": {\"82\": 36}, \"56\": {\"56\": 12}, \"30\": {\"30\": 52}, \"21\": {\"21\": 35, \"110\": 1, \"41\": 1, \"68\": 1, \"94\": 1, \"3\": 1}, \"46\": {\"46\": 12}, \"33\": {\"33\": 138}, \"101\": {\"101\": 121, \"12\": 1, \"14\": 1, \"117\": 1}, \"105\": {\"105\": 82, \"36\": 1, \"40\": 1}, \"50\": {\"50\": 15, \"113\": 1}, \"116\": {\"116\": 32}, \"77\": {\"77\": 16}, \"75\": {\"75\": 16}, \"95\": {\"95\": 36}, \"120\": {\"120\": 20}, \"18\": {\"18\": 108}, \"14\": {\"14\": 96}, \"44\": {\"44\": 76}, \"98\": {\"98\": 96}, \"121\": {\"121\": 32}, \"113\": {\"113\": 108}, \"103\": {\"103\": 16}, \"62\": {\"62\": 116, \"84\": 2, \"7\": 1, \"107\": 1}, \"32\": {\"32\": 32}, \"71\": {\"71\": 104, \"127\": 2, \"84\": 1, \"109\": 1}, \"94\": {\"94\": 89, \"105\": 1, \"88\": 1, \"7\": 1}, \"49\": {\"49\": 17, \"77\": 1, \"31\": 1, \"72\": 1}, \"12\": {\"12\": 100, \"109\": 1, \"105\": 1, \"106\": 1, \"70\": 1}, \"90\": {\"90\": 124}, \"93\": {\"93\": 122, \"43\": 1, \"87\": 1}, \"13\": {\"13\": 16}, \"67\": {\"23\": 1, \"67\": 15}, \"20\": {\"20\": 14, \"3\": 1, \"122\": 1}, \"2\": {\"2\": 32}, \"5\": {\"5\": 87, \"36\": 1}, \"54\": {\"54\": 15, \"122\": 1}, \"37\": {\"37\": 16}, \"38\": {\"38\": 16}, \"86\": {\"86\": 32, \"6\": 2, \"84\": 1, \"33\": 1}, \"55\": {\"55\": 12}, \"97\": {\"97\": 18, \"31\": 1, \"42\": 1}, \"29\": {\"29\": 28}, \"48\": {\"63\": 1, \"48\": 11}, \"60\": {\"60\": 16}, \"36\": {\"36\": 120, \"107\": 1, \"101\": 1}, \"42\": {\"42\": 24, \"91\": 3, \"105\": 1}, \"66\": {\"66\": 16}, \"126\": {\"126\": 127, \"5\": 1}, \"39\": {\"39\": 103, \"11\": 1}, \"107\": {\"107\": 123, \"18\": 1}, \"59\": {\"59\": 9, \"111\": 1, \"95\": 1, \"66\": 1}, \"117\": {\"117\": 138}, \"6\": {\"6\": 32}, \"123\": {\"123\": 16}, \"8\": {\"8\": 123, \"24\": 1}, \"112\": {\"112\": 15, \"24\": 1}, \"80\": {\"80\": 15, \"6\": 1}, \"125\": {\"125\": 136}, \"61\": {\"61\": 12}, \"45\": {\"45\": 7, \"124\": 1, \"86\": 2, \"64\": 2}, \"72\": {\"72\": 31, \"101\": 1}, \"87\": {\"87\": 106, \"84\": 1, \"11\": 1}, \"106\": {\"106\": 124}, \"35\": {\"35\": 8, \"27\": 1, \"105\": 1, \"61\": 1, \"93\": 1}, \"78\": {\"78\": 13, \"3\": 1, \"40\": 1, \"21\": 1}, \"15\": {\"15\": 98, \"62\": 1, \"12\": 2, \"95\": 1, \"21\": 1, \"36\": 1}, \"100\": {\"100\": 15, \"99\": 1}}, \"Wisig_2\": {\"91\": {\"91\": 23, \"58\": 1, \"6\": 2, \"14\": 1, \"115\": 1}, \"12\": {\"12\": 83, \"117\": 1, \"105\": 1, \"106\": 1, \"71\": 1, \"10\": 1}, \"101\": {\"101\": 147, \"114\": 1}, \"121\": {\"121\": 35, \"109\": 1}, \"118\": {\"118\": 66, \"14\": 1, \"87\": 1}, \"10\": {\"10\": 50, \"70\": 1, \"11\": 1, \"12\": 1, \"78\": 4, \"127\": 2, \"18\": 1}, \"117\": {\"117\": 116, \"2\": 2, \"31\": 1, \"44\": 1}, \"110\": {\"110\": 33, \"120\": 1, \"8\": 1, \"114\": 1, \"14\": 1, \"90\": 1, \"84\": 1, \"95\": 1}, \"97\": {\"97\": 18, \"15\": 2}, \"28\": {\"28\": 20}, \"88\": {\"88\": 119, \"71\": 1, \"24\": 1, \"105\": 1, \"3\": 1, \"1\": 1}, \"17\": {\"17\": 16}, \"126\": {\"126\": 112, \"93\": 1, \"22\": 1}, \"33\": {\"33\": 125, \"105\": 1, \"3\": 1, \"70\": 1}, \"86\": {\"86\": 32}, \"106\": {\"106\": 117, \"21\": 1, \"70\": 1, \"62\": 1}, \"54\": {\"54\": 20}, \"125\": {\"125\": 131, \"98\": 1}, \"83\": {\"83\": 39, \"71\": 1}, \"98\": {\"98\": 119, \"117\": 1}, \"11\": {\"11\": 76, \"3\": 1, \"69\": 1, \"12\": 1, \"109\": 1}, \"32\": {\"32\": 29, \"56\": 1, \"14\": 1, \"62\": 1, \"64\": 2, \"12\": 1, \"95\": 1}, \"42\": {\"42\": 26, \"46\": 2}, \"103\": {\"103\": 16}, \"87\": {\"87\": 98, \"61\": 1, \"39\": 1, \"7\": 1, \"43\": 2, \"106\": 1, \"24\": 2, \"8\": 1, \"105\": 1, \"94\": 2, \"127\": 1, \"11\": 1}, \"61\": {\"61\": 16, \"87\": 1, \"69\": 1, \"71\": 1, \"21\": 1}, \"13\": {\"13\": 13, \"59\": 1, \"78\": 1, \"98\": 1}, \"4\": {\"4\": 83, \"0\": 1, \"69\": 1, \"109\": 1}, \"15\": {\"15\": 116, \"68\": 1, \"0\": 2, \"105\": 1}, \"120\": {\"120\": 20}, \"80\": {\"80\": 16}, \"72\": {\"72\": 28}, \"64\": {\"64\": 15, \"3\": 1}, \"81\": {\"81\": 22, \"1\": 1, \"12\": 1}, \"102\": {\"102\": 112}, \"76\": {\"76\": 16}, \"49\": {\"49\": 18, \"58\": 1, \"81\": 1, \"75\": 1, \"7\": 1, \"85\": 1, \"98\": 1}, \"129\": {\"129\": 32}, \"89\": {\"89\": 34, \"112\": 1, \"82\": 1}, \"52\": {\"52\": 18, \"72\": 1, \"91\": 1}, \"35\": {\"35\": 12}, \"53\": {\"53\": 16}, \"26\": {\"26\": 124, \"87\": 1, \"3\": 1, \"107\": 1, \"71\": 1}, \"96\": {\"96\": 20}, \"27\": {\"27\": 55, \"94\": 1, \"110\": 1, \"109\": 1, \"3\": 1, \"84\": 1, \"62\": 1, \"113\": 1, \"21\": 2, \"7\": 1, \"127\": 1, \"88\": 1, \"36\": 1}, \"24\": {\"24\": 103, \"71\": 1, \"69\": 1, \"39\": 1, \"70\": 1, \"14\": 1, \"107\": 1, \"10\": 1, \"3\": 2}, \"82\": {\"82\": 32, \"107\": 2, \"104\": 1, \"21\": 1}, \"18\": {\"18\": 123, \"109\": 1, \"14\": 2, \"16\": 1, \"61\": 1}, \"69\": {\"69\": 119, \"110\": 1, \"118\": 1, \"106\": 1}, \"47\": {\"47\": 11, \"123\": 1}, \"85\": {\"85\": 32}, \"2\": {\"2\": 32}, \"67\": {\"67\": 15, \"71\": 1}, \"39\": {\"39\": 101, \"105\": 1, \"14\": 1, \"88\": 1, \"109\": 4, \"17\": 1, \"71\": 1, \"44\": 1, \"70\": 1}, \"99\": {\"99\": 32}, \"74\": {\"74\": 13, \"24\": 1, \"34\": 1, \"33\": 1}, \"105\": {\"105\": 130, \"5\": 1, \"114\": 1}, \"70\": {\"70\": 112, \"78\": 2, \"88\": 2, \"3\": 1, \"109\": 1, \"71\": 1, \"90\": 1, \"40\": 1, \"106\": 1}, \"55\": {\"55\": 16}, \"30\": {\"30\": 108, \"122\": 1, \"71\": 1, \"61\": 1, \"1\": 1}, \"60\": {\"60\": 26, \"24\": 1, \"23\": 1}, \"92\": {\"92\": 23, \"128\": 1, \"76\": 2, \"115\": 1, \"69\": 1}, \"45\": {\"45\": 15, \"105\": 1}, \"127\": {\"127\": 111, \"89\": 1}, \"9\": {\"110\": 1, \"9\": 30, \"12\": 1}, \"115\": {\"115\": 12}, \"73\": {\"73\": 28}, \"108\": {\"108\": 138}, \"114\": {\"114\": 113, \"10\": 1, \"71\": 1, \"3\": 1}, \"63\": {\"63\": 19, \"41\": 1}, \"93\": {\"93\": 128}, \"7\": {\"7\": 132}, \"31\": {\"31\": 19, \"14\": 1}, \"123\": {\"123\": 16}, \"128\": {\"128\": 22, \"114\": 2}, \"0\": {\"0\": 109, \"24\": 1, \"7\": 1, \"30\": 1, \"69\": 1, \"39\": 1, \"83\": 1, \"3\": 1}, \"3\": {\"3\": 134, \"18\": 1, \"84\": 1}, \"19\": {\"19\": 28}, \"57\": {\"57\": 19, \"84\": 1}, \"78\": {\"78\": 46, \"49\": 1, \"39\": 1}, \"95\": {\"95\": 35, \"3\": 1}, \"40\": {\"40\": 132, \"71\": 2, \"7\": 1, \"69\": 2, \"3\": 1, \"114\": 1, \"105\": 1}, \"14\": {\"14\": 42, \"3\": 1, \"62\": 1, \"18\": 1, \"88\": 1, \"71\": 1, \"118\": 1}, \"36\": {\"36\": 119, \"21\": 1, \"118\": 1, \"70\": 1, \"24\": 1, \"71\": 2, \"107\": 1, \"105\": 1, \"3\": 1}, \"56\": {\"56\": 12}, \"111\": {\"111\": 127, \"24\": 1}, \"59\": {\"59\": 14, \"19\": 1, \"24\": 1}, \"79\": {\"79\": 14, \"11\": 1, \"88\": 1}, \"62\": {\"62\": 121, \"24\": 1}, \"21\": {\"21\": 46, \"24\": 1, \"40\": 1}, \"48\": {\"48\": 20}, \"16\": {\"16\": 118, \"12\": 1, \"3\": 1, \"70\": 1, \"18\": 1, \"1\": 1, \"93\": 1}, \"50\": {\"50\": 15, \"37\": 1}, \"44\": {\"44\": 95, \"98\": 1}, \"5\": {\"5\": 107, \"3\": 1, \"73\": 1, \"12\": 1}, \"20\": {\"20\": 15, \"24\": 1}, \"1\": {\"1\": 118, \"3\": 1, \"108\": 1}, \"65\": {\"65\": 18, \"84\": 1, \"71\": 1}, \"116\": {\"116\": 28}, \"51\": {\"51\": 17, \"127\": 1, \"9\": 1, \"71\": 1}, \"75\": {\"75\": 15, \"71\": 1}, \"100\": {\"100\": 16}, \"113\": {\"113\": 72}, \"41\": {\"41\": 20}, \"29\": {\"29\": 32}, \"23\": {\"23\": 42, \"122\": 1, \"110\": 1}, \"124\": {\"124\": 122, \"21\": 1, \"44\": 1}, \"68\": {\"68\": 15, \"127\": 1}, \"71\": {\"71\": 99, \"94\": 1}, \"107\": {\"107\": 54, \"90\": 1, \"15\": 1, \"109\": 1, \"70\": 1, \"16\": 1, \"26\": 1, \"3\": 1, \"91\": 1, \"10\": 1, \"82\": 1}, \"94\": {\"94\": 58, \"109\": 1, \"118\": 1, \"18\": 1, \"36\": 2, \"110\": 1}, \"77\": {\"77\": 15, \"17\": 1}, \"8\": {\"8\": 120, \"71\": 1, \"15\": 1}, \"46\": {\"46\": 16}, \"25\": {\"25\": 14, \"6\": 1, \"61\": 1}, \"122\": {\"122\": 136, \"40\": 1, \"106\": 1, \"81\": 1, \"43\": 1}, \"58\": {\"58\": 15, \"77\": 2, \"17\": 1, \"110\": 1, \"24\": 1}, \"6\": {\"6\": 32}, \"109\": {\"109\": 91, \"39\": 3, \"24\": 1, \"70\": 4, \"88\": 1}, \"119\": {\"119\": 19, \"82\": 1}, \"34\": {\"34\": 29, \"40\": 1, \"91\": 1, \"71\": 1}, \"90\": {\"90\": 139, \"6\": 1}, \"38\": {\"38\": 16}, \"104\": {\"3\": 2, \"104\": 17, \"6\": 1}, \"84\": {\"84\": 90, \"58\": 1, \"106\": 1}, \"112\": {\"112\": 16}, \"66\": {\"66\": 17, \"71\": 2, \"21\": 1}, \"22\": {\"22\": 20}, \"37\": {\"37\": 16}, \"43\": {\"43\": 117, \"0\": 1, \"1\": 1, \"71\": 1, \"84\": 1, \"105\": 1, \"3\": 1, \"70\": 1}}, \"ORACLE.run114\": {\"15\": {\"15\": 240}, \"3\": {\"2\": 10, \"14\": 17, \"13\": 35, \"7\": 26, \"6\": 55, \"3\": 56, \"0\": 23, \"8\": 11, \"12\": 1, \"5\": 6}, \"6\": {\"6\": 83, \"3\": 46, \"13\": 62, \"7\": 8, \"0\": 11, \"14\": 21, \"5\": 4, \"2\": 5}, \"1\": {\"9\": 92, \"1\": 96, \"12\": 1, \"10\": 46, \"4\": 5}, \"8\": {\"8\": 98, \"12\": 59, \"7\": 28, \"4\": 3, \"14\": 5, \"0\": 16, \"5\": 20, \"2\": 7, \"3\": 3, \"13\": 1}, \"10\": {\"4\": 67, \"10\": 107, \"9\": 25, \"12\": 6, \"1\": 25, \"2\": 4, \"5\": 4, \"13\": 2}, \"9\": {\"9\": 94, \"10\": 39, \"4\": 14, \"1\": 91, \"12\": 2}, \"13\": {\"14\": 29, \"12\": 8, \"7\": 9, \"2\": 21, \"6\": 44, \"15\": 19, \"3\": 25, \"0\": 15, \"13\": 33, \"4\": 14, \"5\": 17, \"8\": 3, \"10\": 3}, \"12\": {\"8\": 45, \"2\": 17, \"5\": 38, \"0\": 21, \"4\": 30, \"12\": 73, \"14\": 8, \"10\": 3, \"3\": 1, \"13\": 2, \"7\": 1, \"9\": 1}, \"5\": {\"0\": 33, \"12\": 44, \"5\": 43, \"8\": 21, \"7\": 16, \"4\": 14, \"13\": 8, \"14\": 21, \"2\": 32, \"3\": 2, \"6\": 5, \"10\": 1}, \"0\": {\"0\": 25, \"13\": 16, \"5\": 32, \"14\": 32, \"8\": 16, \"7\": 19, \"12\": 13, \"3\": 30, \"2\": 27, \"6\": 21, \"4\": 8, \"10\": 1}, \"2\": {\"4\": 21, \"12\": 18, \"3\": 20, \"5\": 31, \"7\": 7, \"14\": 37, \"2\": 26, \"10\": 3, \"6\": 14, \"13\": 20, \"0\": 35, \"8\": 8}, \"11\": {\"11\": 238, \"1\": 2}, \"14\": {\"7\": 8, \"5\": 21, \"14\": 72, \"13\": 36, \"6\": 28, \"2\": 30, \"0\": 26, \"12\": 5, \"8\": 3, \"3\": 11}, \"7\": {\"2\": 7, \"3\": 36, \"7\": 68, \"0\": 24, \"8\": 58, \"13\": 10, \"14\": 10, \"6\": 7, \"5\": 13, \"12\": 7}, \"4\": {\"10\": 48, \"12\": 35, \"4\": 94, \"9\": 7, \"5\": 21, \"14\": 4, \"8\": 4, \"2\": 17, \"1\": 5, \"7\": 1, \"13\": 3, \"0\": 1}}, \"ORACLE.run120\": {\"3\": {\"1\": 29, \"3\": 23, \"14\": 37, \"8\": 30, \"9\": 39, \"0\": 7, \"5\": 30, \"6\": 10, \"2\": 10, \"15\": 7, \"13\": 2, \"12\": 3, \"7\": 12, \"11\": 1}, \"15\": {\"15\": 48, \"9\": 20, \"13\": 21, \"4\": 8, \"12\": 22, \"1\": 20, \"7\": 23, \"2\": 30, \"3\": 7, \"6\": 21, \"5\": 18, \"14\": 2}, \"8\": {\"3\": 47, \"0\": 16, \"8\": 46, \"5\": 26, \"12\": 2, \"14\": 46, \"1\": 25, \"2\": 3, \"9\": 12, \"15\": 3, \"7\": 7, \"6\": 5, \"4\": 1, \"11\": 1}, \"4\": {\"4\": 36, \"2\": 18, \"9\": 9, \"15\": 20, \"7\": 14, \"10\": 22, \"14\": 10, \"13\": 29, \"6\": 36, \"12\": 28, \"1\": 8, \"5\": 6, \"8\": 2, \"3\": 2}, \"14\": {\"14\": 57, \"3\": 29, \"0\": 7, \"8\": 49, \"9\": 32, \"7\": 14, \"5\": 21, \"1\": 17, \"12\": 2, \"2\": 4, \"6\": 6, \"15\": 1, \"4\": 1}, \"0\": {\"5\": 13, \"11\": 62, \"0\": 94, \"8\": 25, \"9\": 8, \"3\": 18, \"14\": 17, \"1\": 2, \"15\": 1}, \"7\": {\"6\": 27, \"5\": 19, \"15\": 24, \"9\": 18, \"13\": 20, \"1\": 19, \"14\": 12, \"3\": 14, \"7\": 23, \"2\": 25, \"8\": 5, \"4\": 13, \"12\": 19, \"10\": 2}, \"6\": {\"2\": 30, \"10\": 8, \"4\": 19, \"13\": 11, \"8\": 9, \"14\": 17, \"12\": 14, \"15\": 24, \"7\": 31, \"5\": 11, \"9\": 15, \"6\": 34, \"3\": 5, \"1\": 12}, \"10\": {\"13\": 28, \"10\": 88, \"9\": 3, \"4\": 48, \"6\": 21, \"2\": 10, \"12\": 21, \"7\": 5, \"1\": 1, \"15\": 13, \"14\": 2}, \"5\": {\"3\": 41, \"9\": 26, \"15\": 17, \"8\": 30, \"14\": 25, \"1\": 30, \"0\": 3, \"7\": 12, \"5\": 32, \"12\": 1, \"6\": 11, \"13\": 5, \"2\": 5, \"11\": 1, \"4\": 1}, \"2\": {\"1\": 17, \"13\": 42, \"15\": 27, \"7\": 28, \"4\": 16, \"6\": 21, \"14\": 3, \"12\": 34, \"3\": 4, \"10\": 2, \"9\": 12, \"5\": 7, \"2\": 25, \"8\": 2}, \"12\": {\"12\": 31, \"13\": 50, \"15\": 24, \"1\": 13, \"2\": 35, \"7\": 26, \"14\": 8, \"6\": 14, \"4\": 15, \"10\": 3, \"9\": 14, \"3\": 3, \"5\": 4}, \"9\": {\"3\": 27, \"9\": 23, \"15\": 30, \"2\": 15, \"13\": 15, \"1\": 25, \"8\": 18, \"5\": 28, \"14\": 20, \"7\": 15, \"6\": 14, \"4\": 4, \"12\": 6}, \"1\": {\"5\": 24, \"9\": 31, \"8\": 14, \"15\": 26, \"7\": 26, \"6\": 13, \"3\": 20, \"1\": 26, \"13\": 8, \"2\": 22, \"12\": 16, \"14\": 9, \"4\": 3, \"0\": 2}, \"11\": {\"11\": 146, \"0\": 83, \"9\": 1, \"3\": 2, \"8\": 5, \"1\": 2, \"14\": 1}, \"13\": {\"2\": 29, \"7\": 19, \"15\": 28, \"9\": 14, \"4\": 20, \"6\": 18, \"13\": 62, \"10\": 10, \"12\": 30, \"1\": 9, \"3\": 1}}, \"ORACLE.run138\": {\"5\": {\"12\": 15, \"8\": 68, \"5\": 59, \"9\": 22, \"7\": 14, \"15\": 32, \"2\": 21, \"14\": 8, \"13\": 1}, \"8\": {\"7\": 22, \"5\": 56, \"14\": 18, \"9\": 23, \"2\": 22, \"8\": 37, \"15\": 39, \"12\": 18, \"13\": 1, \"4\": 4}, \"11\": {\"11\": 203, \"3\": 37}, \"1\": {\"15\": 14, \"1\": 119, \"6\": 106, \"12\": 1}, \"10\": {\"10\": 114, \"0\": 66, \"4\": 7, \"13\": 51, \"3\": 2}, \"15\": {\"12\": 39, \"15\": 121, \"9\": 2, \"5\": 28, \"1\": 17, \"6\": 16, \"8\": 17}, \"3\": {\"3\": 196, \"11\": 42, \"0\": 2}, \"7\": {\"9\": 21, \"4\": 28, \"14\": 47, \"13\": 3, \"2\": 56, \"7\": 65, \"8\": 11, \"5\": 4, \"12\": 1, \"0\": 4}, \"4\": {\"13\": 6, \"4\": 149, \"14\": 50, \"7\": 21, \"10\": 4, \"2\": 6, \"0\": 2, \"8\": 2}, \"14\": {\"14\": 87, \"7\": 46, \"2\": 49, \"4\": 38, \"8\": 9, \"0\": 2, \"5\": 4, \"9\": 2, \"13\": 2, \"12\": 1}, \"9\": {\"9\": 121, \"2\": 43, \"7\": 20, \"14\": 12, \"0\": 5, \"8\": 19, \"5\": 17, \"13\": 3}, \"12\": {\"12\": 193, \"5\": 9, \"8\": 12, \"15\": 25, \"14\": 1}, \"6\": {\"6\": 117, \"15\": 15, \"1\": 108}, \"2\": {\"14\": 38, \"7\": 57, \"9\": 48, \"4\": 14, \"2\": 55, \"0\": 5, \"8\": 11, \"5\": 12}, \"0\": {\"13\": 64, \"2\": 18, \"0\": 54, \"7\": 14, \"10\": 59, \"3\": 7, \"9\": 7, \"14\": 3, \"4\": 12, \"5\": 1, \"8\": 1}, \"13\": {\"0\": 64, \"13\": 109, \"9\": 17, \"10\": 36, \"7\": 1, \"14\": 3, \"2\": 7, \"4\": 3}}, \"ORACLE.run18\": {\"9\": {\"9\": 211, \"3\": 28, \"2\": 1}, \"10\": {\"5\": 42, \"8\": 3, \"6\": 27, \"10\": 46, \"7\": 40, \"4\": 11, \"1\": 26, \"13\": 39, \"11\": 5, \"12\": 1}, \"13\": {\"6\": 25, \"13\": 54, \"7\": 42, \"5\": 50, \"1\": 15, \"10\": 45, \"11\": 6, \"4\": 2, \"8\": 1}, \"0\": {\"0\": 233, \"14\": 7}, \"1\": {\"11\": 31, \"7\": 28, \"8\": 18, \"6\": 34, \"1\": 46, \"5\": 32, \"10\": 17, \"4\": 17, \"13\": 15, \"14\": 2}, \"15\": {\"15\": 105, \"12\": 90, \"2\": 41, \"3\": 4}, \"5\": {\"6\": 33, \"5\": 40, \"13\": 53, \"10\": 42, \"8\": 3, \"7\": 30, \"1\": 24, \"12\": 3, \"11\": 9, \"4\": 2, \"15\": 1}, \"3\": {\"2\": 41, \"3\": 179, \"9\": 19, \"15\": 1}, \"6\": {\"6\": 51, \"4\": 17, \"5\": 29, \"13\": 11, \"1\": 38, \"11\": 24, \"7\": 30, \"10\": 28, \"14\": 1, \"8\": 11}, \"11\": {\"5\": 15, \"1\": 34, \"11\": 42, \"10\": 11, \"4\": 26, \"6\": 32, \"8\": 40, \"13\": 10, \"7\": 21, \"14\": 9}, \"8\": {\"14\": 34, \"8\": 58, \"11\": 51, \"4\": 43, \"6\": 16, \"1\": 26, \"5\": 3, \"7\": 3, \"13\": 4, \"10\": 2}, \"4\": {\"4\": 75, \"1\": 17, \"14\": 38, \"13\": 3, \"8\": 38, \"7\": 9, \"10\": 1, \"11\": 42, \"6\": 16, \"5\": 1}, \"12\": {\"15\": 85, \"12\": 122, \"2\": 29, \"3\": 4}, \"14\": {\"14\": 110, \"8\": 34, \"4\": 68, \"1\": 4, \"6\": 6, \"11\": 17, \"0\": 1}, \"2\": {\"3\": 59, \"15\": 53, \"12\": 25, \"2\": 101, \"10\": 1, \"13\": 1}, \"7\": {\"5\": 41, \"7\": 48, \"13\": 27, \"10\": 43, \"1\": 32, \"6\": 33, \"4\": 8, \"11\": 6, \"8\": 2}}, \"ORACLE.run150\": {\"7\": {\"7\": 85, \"5\": 30, \"4\": 90, \"12\": 5, \"9\": 23, \"15\": 4, \"6\": 3}, \"3\": {\"11\": 41, \"9\": 20, \"6\": 33, \"3\": 50, \"15\": 44, \"12\": 21, \"5\": 24, \"4\": 1, \"13\": 4, \"7\": 2}, \"8\": {\"8\": 84, \"1\": 81, \"13\": 30, \"10\": 28, \"0\": 10, \"14\": 2, \"2\": 4, \"11\": 1}, \"2\": {\"2\": 83, \"14\": 73, \"0\": 64, \"10\": 20}, \"14\": {\"0\": 47, \"14\": 92, \"2\": 75, \"1\": 1, \"10\": 25}, \"4\": {\"5\": 23, \"7\": 106, \"12\": 3, \"4\": 87, \"15\": 2, \"9\": 16, \"6\": 3}, \"6\": {\"6\": 43, \"15\": 47, \"9\": 27, \"5\": 37, \"12\": 20, \"3\": 33, \"11\": 25, \"4\": 3, \"7\": 4, \"13\": 1}, \"15\": {\"15\": 43, \"11\": 27, \"5\": 35, \"9\": 33, \"12\": 17, \"6\": 44, \"3\": 31, \"4\": 6, \"7\": 4}, \"10\": {\"0\": 50, \"10\": 85, \"1\": 25, \"2\": 22, \"14\": 8, \"8\": 41, \"13\": 9}, \"11\": {\"3\": 38, \"13\": 22, \"11\": 63, \"12\": 27, \"15\": 32, \"6\": 19, \"9\": 28, \"5\": 11}, \"13\": {\"11\": 27, \"13\": 108, \"3\": 9, \"1\": 57, \"8\": 23, \"5\": 3, \"6\": 4, \"15\": 7, \"12\": 2}, \"9\": {\"3\": 5, \"11\": 17, \"9\": 64, \"12\": 55, \"6\": 35, \"15\": 20, \"5\": 31, \"4\": 2, \"7\": 11}, \"0\": {\"10\": 64, \"14\": 41, \"2\": 48, \"0\": 75, \"1\": 5, \"8\": 7}, \"1\": {\"8\": 59, \"1\": 81, \"13\": 62, \"10\": 28, \"6\": 1, \"0\": 4, \"14\": 1, \"11\": 3, \"2\": 1}, \"12\": {\"11\": 20, \"12\": 103, \"9\": 64, \"15\": 17, \"3\": 8, \"6\": 19, \"5\": 7, \"7\": 1, \"4\": 1}, \"5\": {\"9\": 23, \"4\": 23, \"7\": 38, \"5\": 41, \"6\": 27, \"15\": 42, \"13\": 7, \"12\": 9, \"11\": 11, \"8\": 2, \"3\": 17}}, \"ORACLE.run132\": {\"8\": {\"1\": 9, \"14\": 27, \"8\": 73, \"15\": 36, \"2\": 12, \"5\": 12, \"0\": 46, \"13\": 2, \"7\": 16, \"4\": 6, \"3\": 1}, \"14\": {\"8\": 30, \"14\": 76, \"5\": 21, \"7\": 44, \"2\": 21, \"0\": 39, \"1\": 4, \"4\": 3, \"3\": 1, \"15\": 1}, \"2\": {\"2\": 96, \"4\": 60, \"1\": 33, \"8\": 11, \"14\": 13, \"0\": 8, \"15\": 1, \"3\": 8, \"9\": 3, \"13\": 6, \"7\": 1}, \"0\": {\"15\": 21, \"14\": 68, \"0\": 50, \"7\": 32, \"8\": 32, \"5\": 29, \"2\": 7, \"1\": 1}, \"1\": {\"1\": 73, \"8\": 19, \"2\": 35, \"4\": 53, \"13\": 14, \"14\": 3, \"9\": 2, \"0\": 3, \"3\": 29, \"15\": 7, \"7\": 1, \"5\": 1}, \"10\": {\"6\": 43, \"12\": 68, \"10\": 122, \"9\": 3, \"13\": 1, \"11\": 3}, \"11\": {\"9\": 74, \"11\": 123, \"12\": 9, \"3\": 9, \"13\": 23, \"4\": 2}, \"5\": {\"5\": 70, \"0\": 35, \"7\": 68, \"14\": 23, \"8\": 20, \"15\": 22, \"2\": 1, \"1\": 1}, \"15\": {\"15\": 166, \"0\": 16, \"7\": 6, \"8\": 29, \"5\": 20, \"14\": 3}, \"3\": {\"3\": 78, \"13\": 70, \"4\": 42, \"1\": 17, \"9\": 15, \"2\": 11, \"11\": 7}, \"12\": {\"12\": 127, \"11\": 18, \"6\": 11, \"10\": 45, \"9\": 34, \"13\": 5}, \"7\": {\"0\": 42, \"14\": 49, \"5\": 51, \"8\": 13, \"7\": 77, \"15\": 5, \"2\": 3}, \"13\": {\"13\": 64, \"4\": 29, \"9\": 40, \"11\": 24, \"3\": 51, \"1\": 12, \"8\": 2, \"12\": 3, \"2\": 15}, \"6\": {\"6\": 188, \"10\": 47, \"9\": 1, \"12\": 4}, \"4\": {\"13\": 39, \"8\": 3, \"4\": 59, \"3\": 46, \"2\": 56, \"1\": 31, \"9\": 2, \"11\": 1, \"7\": 1, \"0\": 1, \"14\": 1}, \"9\": {\"10\": 5, \"4\": 5, \"11\": 57, \"12\": 27, \"9\": 54, \"13\": 47, \"3\": 37, \"2\": 3, \"1\": 3, \"6\": 2}}, \"ORACLE.run126\": {\"4\": {\"4\": 168, \"2\": 3, \"13\": 28, \"3\": 23, \"9\": 5, \"12\": 5, \"8\": 4, \"7\": 4}, \"12\": {\"13\": 31, \"8\": 34, \"12\": 34, \"7\": 30, \"3\": 38, \"9\": 38, \"2\": 28, \"0\": 5, \"14\": 1, \"5\": 1}, \"10\": {\"0\": 30, \"14\": 36, \"15\": 37, \"1\": 40, \"10\": 39, \"5\": 11, \"8\": 5, \"2\": 8, \"6\": 26, \"9\": 3, \"7\": 2, \"11\": 3}, \"0\": {\"14\": 40, \"2\": 29, \"10\": 38, \"0\": 54, \"7\": 7, \"8\": 17, \"15\": 16, \"9\": 9, \"1\": 12, \"6\": 11, \"12\": 1, \"5\": 3, \"3\": 2, \"13\": 1}, \"13\": {\"8\": 16, \"4\": 20, \"9\": 38, \"13\": 64, \"3\": 49, \"10\": 1, \"12\": 26, \"7\": 12, \"2\": 11, \"0\": 3}, \"9\": {\"13\": 35, \"12\": 30, \"2\": 31, \"4\": 2, \"8\": 21, \"9\": 43, \"7\": 37, \"0\": 7, \"3\": 25, \"14\": 2, \"15\": 2, \"10\": 3, \"6\": 2}, \"3\": {\"12\": 30, \"3\": 57, \"9\": 29, \"2\": 15, \"4\": 14, \"13\": 40, \"7\": 31, \"8\": 24}, \"2\": {\"8\": 43, \"2\": 39, \"9\": 32, \"7\": 36, \"3\": 15, \"12\": 19, \"0\": 21, \"14\": 5, \"13\": 12, \"10\": 10, \"15\": 4, \"6\": 3, \"1\": 1}, \"5\": {\"11\": 24, \"1\": 25, \"6\": 43, \"10\": 10, \"5\": 71, \"15\": 57, \"0\": 3, \"14\": 7}, \"14\": {\"1\": 35, \"6\": 24, \"14\": 51, \"10\": 42, \"15\": 24, \"0\": 43, \"5\": 11, \"8\": 3, \"2\": 5, \"7\": 1, \"9\": 1}, \"8\": {\"7\": 33, \"3\": 16, \"8\": 50, \"12\": 37, \"9\": 31, \"2\": 34, \"14\": 6, \"0\": 18, \"13\": 13, \"10\": 2}, \"7\": {\"3\": 39, \"12\": 30, \"8\": 37, \"7\": 34, \"2\": 35, \"9\": 34, \"0\": 10, \"13\": 18, \"4\": 2, \"14\": 1}, \"6\": {\"14\": 20, \"5\": 37, \"6\": 49, \"1\": 39, \"15\": 55, \"10\": 21, \"11\": 13, \"0\": 4, \"8\": 1, \"2\": 1}, \"11\": {\"6\": 27, \"1\": 19, \"11\": 117, \"5\": 58, \"15\": 16, \"14\": 2, \"10\": 1}, \"15\": {\"6\": 41, \"5\": 42, \"10\": 31, \"1\": 32, \"15\": 51, \"14\": 13, \"11\": 11, \"2\": 9, \"0\": 9, \"9\": 1}, \"1\": {\"1\": 61, \"14\": 31, \"15\": 34, \"10\": 32, \"6\": 40, \"0\": 17, \"5\": 20, \"11\": 5}}, \"ORACLE.run144\": {\"12\": {\"12\": 104, \"3\": 131, \"0\": 3, \"1\": 2}, \"7\": {\"7\": 40, \"4\": 26, \"6\": 20, \"10\": 45, \"9\": 33, \"5\": 28, \"14\": 26, \"15\": 16, \"13\": 4, \"2\": 2}, \"5\": {\"5\": 44, \"15\": 28, \"2\": 13, \"8\": 14, \"4\": 22, \"10\": 28, \"7\": 30, \"9\": 13, \"1\": 8, \"6\": 4, \"0\": 2, \"14\": 34}, \"15\": {\"1\": 21, \"2\": 13, \"8\": 40, \"7\": 10, \"15\": 56, \"14\": 28, \"5\": 30, \"10\": 12, \"4\": 18, \"0\": 9, \"9\": 3}, \"8\": {\"0\": 41, \"1\": 37, \"15\": 50, \"8\": 58, \"5\": 15, \"2\": 17, \"14\": 12, \"12\": 1, \"10\": 2, \"4\": 6, \"7\": 1}, \"2\": {\"1\": 53, \"5\": 8, \"2\": 106, \"7\": 4, \"0\": 10, \"8\": 22, \"14\": 13, \"15\": 8, \"10\": 6, \"4\": 5, \"9\": 5}, \"13\": {\"13\": 111, \"6\": 78, \"4\": 6, \"10\": 9, \"9\": 21, \"11\": 11, \"14\": 1, \"7\": 3}, \"4\": {\"7\": 33, \"15\": 18, \"10\": 29, \"4\": 26, \"5\": 25, \"2\": 23, \"6\": 15, \"14\": 25, \"8\": 10, \"1\": 8, \"13\": 5, \"9\": 22, \"0\": 1}, \"0\": {\"0\": 79, \"1\": 58, \"8\": 50, \"2\": 29, \"15\": 14, \"12\": 2, \"3\": 7, \"10\": 1}, \"6\": {\"6\": 105, \"10\": 7, \"13\": 60, \"7\": 14, \"9\": 41, \"4\": 10, \"14\": 2, \"5\": 1}, \"9\": {\"5\": 17, \"7\": 40, \"2\": 11, \"6\": 38, \"13\": 32, \"4\": 26, \"9\": 26, \"10\": 22, \"14\": 17, \"8\": 2, \"1\": 4, \"15\": 3, \"11\": 2}, \"11\": {\"11\": 229, \"13\": 11}, \"10\": {\"9\": 31, \"5\": 24, \"7\": 40, \"10\": 39, \"4\": 40, \"6\": 9, \"14\": 23, \"2\": 8, \"13\": 3, \"15\": 19, \"0\": 2, \"1\": 2}, \"14\": {\"5\": 30, \"15\": 44, \"14\": 46, \"10\": 31, \"9\": 17, \"7\": 26, \"4\": 30, \"8\": 7, \"1\": 2, \"2\": 7}, \"1\": {\"1\": 68, \"2\": 63, \"0\": 32, \"14\": 4, \"5\": 9, \"8\": 37, \"15\": 18, \"4\": 6, \"10\": 2, \"9\": 1}, \"3\": {\"12\": 115, \"0\": 9, \"3\": 108, \"2\": 3, \"1\": 2, \"8\": 3}}}, \"per_domain_accuracy\": {\"Wisig_3\": {\"accuracy\": 0.9780701754385965, \"source?\": true}, \"Wisig_4\": {\"accuracy\": 0.9661779835390947, \"source?\": true}, \"Wisig_1\": {\"accuracy\": 0.9799202127659574, \"source?\": true}, \"Wisig_2\": {\"accuracy\": 0.9574579831932774, \"source?\": true}, \"ORACLE.run114\": {\"accuracy\": 0.3765625, \"source?\": false}, \"ORACLE.run120\": {\"accuracy\": 0.20677083333333332, \"source?\": false}, \"ORACLE.run138\": {\"accuracy\": 0.46848958333333335, \"source?\": false}, \"ORACLE.run18\": {\"accuracy\": 0.39609375, \"source?\": false}, \"ORACLE.run150\": {\"accuracy\": 0.30911458333333336, \"source?\": false}, \"ORACLE.run132\": {\"accuracy\": 0.38958333333333334, \"source?\": false}, \"ORACLE.run126\": {\"accuracy\": 0.2557291666666667, \"source?\": false}, \"ORACLE.run144\": {\"accuracy\": 0.32421875, \"source?\": false}}}, \"history\": {\"epoch_indices\": [1, 2, 3, 4, 5, 6], \"train_label_loss\": [0.19309605404531419, 0.1356143972618903, 0.11446123216719815, 0.10256876093561774, 0.09493157288166856, 0.08943315478567912], \"source_val_label_loss\": [0.21337144076824188, 0.12791801989078522, 0.1165151447057724, 0.11766045540571213, 0.11247948557138443, 0.1070123240351677], \"target_val_label_loss\": [2.4634006023406982, 2.4395956993103027, 2.379387617111206, 2.477290153503418, 2.5038723945617676, 2.3849031925201416], \"source_val_acc_label\": [0.9558395127118644, 0.9702727754237288, 0.972854872881356, 0.9730865995762712, 0.9732521186440678, 0.9739804025423728], \"target_val_acc_label\": [0.30833333333333335, 0.3408203125, 0.33779296875, 0.2626953125, 0.22978515625, 0.27047526041666664]}, \"dataset_metrics\": {\"source\": {\"train\": {\"n_unique_x\": 188978, \"n_unique_y\": 130, \"n_batch/episode\": 6831}, \"val\": {\"n_unique_x\": 40068, \"n_unique_y\": 130, \"n_batch/episode\": 944}, \"test\": {\"n_unique_x\": 40816, \"n_unique_y\": 130, \"n_batch/episode\": 969}}, \"target\": {\"train\": {\"n_unique_x\": 179200, \"n_unique_y\": 16, \"n_batch/episode\": 6720}, \"val\": {\"n_unique_x\": 38400, \"n_unique_y\": 16, \"n_batch/episode\": 960}, \"test\": {\"n_unique_x\": 38400, \"n_unique_y\": 16, \"n_batch/episode\": 960}}}}'"
      ]
     },
     "execution_count": 29,
     "metadata": {},
     "output_type": "execute_result"
    }
   ],
   "source": [
    "json.dumps(experiment)"
   ]
  }
 ],
 "metadata": {
  "celltoolbar": "Tags",
  "kernelspec": {
   "display_name": "Python 3 (ipykernel)",
   "language": "python",
   "name": "python3"
  },
  "language_info": {
   "codemirror_mode": {
    "name": "ipython",
    "version": 3
   },
   "file_extension": ".py",
   "mimetype": "text/x-python",
   "name": "python",
   "nbconvert_exporter": "python",
   "pygments_lexer": "ipython3",
   "version": "3.8.12"
  },
  "papermill": {
   "default_parameters": {},
   "duration": 1700.132582,
   "end_time": "2022-03-21T05:48:48.783604",
   "environment_variables": {},
   "exception": null,
   "input_path": "/root/csc500-main/csc500-notebooks/templates/tl_ptn_template.ipynb",
   "output_path": "trial.ipynb",
   "parameters": {
    "parameters": {
     "BEST_MODEL_PATH": "./best_model.pth",
     "NUM_LOGS_PER_EPOCH": 10,
     "criteria_for_best": "target_accuracy",
     "dataset_seed": 1337,
     "datasets": [
      {
       "domain_prefix": "Wisig_",
       "domains": [
        1,
        2,
        3,
        4
       ],
       "episode_transforms": [],
       "labels": [
        "1-10",
        "1-12",
        "1-14",
        "1-16",
        "1-18",
        "1-19",
        "1-8",
        "10-11",
        "10-17",
        "10-4",
        "10-7",
        "11-1",
        "11-10",
        "11-19",
        "11-20",
        "11-4",
        "11-7",
        "12-19",
        "12-20",
        "12-7",
        "13-14",
        "13-18",
        "13-19",
        "13-20",
        "13-3",
        "13-7",
        "14-10",
        "14-11",
        "14-12",
        "14-13",
        "14-14",
        "14-19",
        "14-20",
        "14-7",
        "14-8",
        "14-9",
        "15-1",
        "15-19",
        "15-6",
        "16-1",
        "16-16",
        "16-19",
        "16-20",
        "17-10",
        "17-11",
        "18-1",
        "18-10",
        "18-11",
        "18-12",
        "18-13",
        "18-14",
        "18-15",
        "18-16",
        "18-17",
        "18-19",
        "18-2",
        "18-20",
        "18-4",
        "18-5",
        "18-7",
        "18-8",
        "18-9",
        "19-1",
        "19-10",
        "19-11",
        "19-12",
        "19-13",
        "19-14",
        "19-15",
        "19-19",
        "19-2",
        "19-20",
        "19-3",
        "19-4",
        "19-6",
        "19-7",
        "19-8",
        "19-9",
        "2-1",
        "2-13",
        "2-15",
        "2-3",
        "2-4",
        "2-5",
        "2-6",
        "2-7",
        "2-8",
        "20-1",
        "20-12",
        "20-14",
        "20-15",
        "20-16",
        "20-18",
        "20-19",
        "20-20",
        "20-3",
        "20-4",
        "20-5",
        "20-7",
        "20-8",
        "3-1",
        "3-13",
        "3-18",
        "3-2",
        "3-8",
        "4-1",
        "4-10",
        "4-11",
        "5-1",
        "5-5",
        "6-1",
        "6-15",
        "6-6",
        "7-10",
        "7-11",
        "7-12",
        "7-13",
        "7-14",
        "7-7",
        "7-8",
        "7-9",
        "8-1",
        "8-13",
        "8-14",
        "8-18",
        "8-20",
        "8-3",
        "8-8",
        "9-1",
        "9-7"
       ],
       "num_examples_per_domain_per_label": -1,
       "pickle_path": "/root/csc500-main/datasets/wisig.node3-19.stratified_ds.2022A.pkl",
       "source_or_target_dataset": "source",
       "x_transforms": []
      },
      {
       "domain_prefix": "ORACLE.run1",
       "domains": [
        32,
        38,
        8,
        44,
        14,
        50,
        20,
        26
       ],
       "episode_transforms": [],
       "labels": [
        "3123D52",
        "3123D65",
        "3123D79",
        "3123D80",
        "3123D54",
        "3123D70",
        "3123D7B",
        "3123D89",
        "3123D58",
        "3123D76",
        "3123D7D",
        "3123EFE",
        "3123D64",
        "3123D78",
        "3123D7E",
        "3124E4A"
       ],
       "num_examples_per_domain_per_label": 2000,
       "pickle_path": "/root/csc500-main/datasets/oracle.Run1_framed_2000Examples_stratified_ds.2022A.pkl",
       "source_or_target_dataset": "target",
       "x_transforms": []
      }
     ],
     "device": "cuda",
     "experiment_name": "tl_1v2:wisig-oracle.run1.framed",
     "lr": 0.0001,
     "n_epoch": 50,
     "n_query": 2,
     "n_shot": 3,
     "n_way": 16,
     "patience": 3,
     "seed": 1337,
     "test_k_factor": 2,
     "torch_default_dtype": "torch.float32",
     "train_k_factor": 3,
     "val_k_factor": 2,
     "x_net": [
      {
       "class": "nnReshape",
       "kargs": {
        "shape": [
         -1,
         1,
         2,
         256
        ]
       }
      },
      {
       "class": "Conv2d",
       "kargs": {
        "bias": false,
        "in_channels": 1,
        "kernel_size": [
         1,
         7
        ],
        "out_channels": 256,
        "padding": [
         0,
         3
        ]
       }
      },
      {
       "class": "ReLU",
       "kargs": {
        "inplace": true
       }
      },
      {
       "class": "BatchNorm2d",
       "kargs": {
        "num_features": 256
       }
      },
      {
       "class": "Conv2d",
       "kargs": {
        "bias": true,
        "in_channels": 256,
        "kernel_size": [
         2,
         7
        ],
        "out_channels": 80,
        "padding": [
         0,
         3
        ]
       }
      },
      {
       "class": "ReLU",
       "kargs": {
        "inplace": true
       }
      },
      {
       "class": "BatchNorm2d",
       "kargs": {
        "num_features": 80
       }
      },
      {
       "class": "Flatten",
       "kargs": {}
      },
      {
       "class": "Linear",
       "kargs": {
        "in_features": 20480,
        "out_features": 256
       }
      },
      {
       "class": "ReLU",
       "kargs": {
        "inplace": true
       }
      },
      {
       "class": "BatchNorm1d",
       "kargs": {
        "num_features": 256
       }
      },
      {
       "class": "Linear",
       "kargs": {
        "in_features": 256,
        "out_features": 256
       }
      }
     ]
    }
   },
   "start_time": "2022-03-21T05:20:28.651022",
   "version": "2.3.4"
  }
 },
 "nbformat": 4,
 "nbformat_minor": 5
}