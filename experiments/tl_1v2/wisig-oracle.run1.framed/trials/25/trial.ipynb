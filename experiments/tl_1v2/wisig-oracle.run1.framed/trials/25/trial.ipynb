{
 "cells": [
  {
   "cell_type": "markdown",
   "id": "9fea5f46",
   "metadata": {
    "papermill": {
     "duration": 0.025075,
     "end_time": "2022-03-21T17:17:51.395846",
     "exception": false,
     "start_time": "2022-03-21T17:17:51.370771",
     "status": "completed"
    },
    "tags": []
   },
   "source": [
    "# Transfer Learning Template"
   ]
  },
  {
   "cell_type": "code",
   "execution_count": 1,
   "id": "0902182a",
   "metadata": {
    "execution": {
     "iopub.execute_input": "2022-03-21T17:17:51.454547Z",
     "iopub.status.busy": "2022-03-21T17:17:51.453685Z",
     "iopub.status.idle": "2022-03-21T17:17:53.419404Z",
     "shell.execute_reply": "2022-03-21T17:17:53.418492Z"
    },
    "papermill": {
     "duration": 2.004424,
     "end_time": "2022-03-21T17:17:53.419629",
     "exception": false,
     "start_time": "2022-03-21T17:17:51.415205",
     "status": "completed"
    },
    "tags": []
   },
   "outputs": [],
   "source": [
    "%load_ext autoreload\n",
    "%autoreload 2\n",
    "%matplotlib inline\n",
    "\n",
    "    \n",
    "import os, json, sys, time, random\n",
    "import numpy as np\n",
    "import torch\n",
    "from torch.optim import Adam\n",
    "from  easydict import EasyDict\n",
    "import matplotlib.pyplot as plt\n",
    "\n",
    "from steves_models.steves_ptn import Steves_Prototypical_Network\n",
    "\n",
    "from steves_utils.lazy_iterable_wrapper import Lazy_Iterable_Wrapper\n",
    "from steves_utils.iterable_aggregator import Iterable_Aggregator\n",
    "from steves_utils.ptn_train_eval_test_jig import  PTN_Train_Eval_Test_Jig\n",
    "from steves_utils.torch_sequential_builder import build_sequential\n",
    "from steves_utils.torch_utils import get_dataset_metrics, ptn_confusion_by_domain_over_dataloader\n",
    "from steves_utils.utils_v2 import (per_domain_accuracy_from_confusion, get_datasets_base_path)\n",
    "from steves_utils.PTN.utils import independent_accuracy_assesment\n",
    "\n",
    "from torch.utils.data import DataLoader\n",
    "\n",
    "from steves_utils.stratified_dataset.episodic_accessor import Episodic_Accessor_Factory\n",
    "\n",
    "from steves_utils.ptn_do_report import (\n",
    "    get_loss_curve,\n",
    "    get_results_table,\n",
    "    get_parameters_table,\n",
    "    get_domain_accuracies,\n",
    ")\n",
    "\n",
    "from steves_utils.transforms import get_chained_transform"
   ]
  },
  {
   "cell_type": "markdown",
   "id": "41c840b4",
   "metadata": {
    "papermill": {
     "duration": 0.019319,
     "end_time": "2022-03-21T17:17:53.463873",
     "exception": false,
     "start_time": "2022-03-21T17:17:53.444554",
     "status": "completed"
    },
    "tags": []
   },
   "source": [
    "# Allowed Parameters\n",
    "These are allowed parameters, not defaults\n",
    "Each of these values need to be present in the injected parameters (the notebook will raise an exception if they are not present)\n",
    "\n",
    "Papermill uses the cell tag \"parameters\" to inject the real parameters below this cell.\n",
    "Enable tags to see what I mean"
   ]
  },
  {
   "cell_type": "code",
   "execution_count": 2,
   "id": "fd44eb83",
   "metadata": {
    "execution": {
     "iopub.execute_input": "2022-03-21T17:17:53.506446Z",
     "iopub.status.busy": "2022-03-21T17:17:53.506056Z",
     "iopub.status.idle": "2022-03-21T17:17:53.525046Z",
     "shell.execute_reply": "2022-03-21T17:17:53.524211Z"
    },
    "papermill": {
     "duration": 0.041989,
     "end_time": "2022-03-21T17:17:53.525219",
     "exception": false,
     "start_time": "2022-03-21T17:17:53.483230",
     "status": "completed"
    },
    "tags": []
   },
   "outputs": [],
   "source": [
    "required_parameters = {\n",
    "    \"experiment_name\",\n",
    "    \"lr\",\n",
    "    \"device\",\n",
    "    \"seed\",\n",
    "    \"dataset_seed\",\n",
    "    \"n_shot\",\n",
    "    \"n_query\",\n",
    "    \"n_way\",\n",
    "    \"train_k_factor\",\n",
    "    \"val_k_factor\",\n",
    "    \"test_k_factor\",\n",
    "    \"n_epoch\",\n",
    "    \"patience\",\n",
    "    \"criteria_for_best\",\n",
    "    \"x_net\",\n",
    "    \"datasets\",\n",
    "    \"torch_default_dtype\",\n",
    "    \"NUM_LOGS_PER_EPOCH\",\n",
    "    \"BEST_MODEL_PATH\",\n",
    "    \"x_shape\",\n",
    "}"
   ]
  },
  {
   "cell_type": "code",
   "execution_count": 3,
   "id": "fa3f0049",
   "metadata": {
    "execution": {
     "iopub.execute_input": "2022-03-21T17:17:53.581474Z",
     "iopub.status.busy": "2022-03-21T17:17:53.580512Z",
     "iopub.status.idle": "2022-03-21T17:17:53.600010Z",
     "shell.execute_reply": "2022-03-21T17:17:53.599155Z"
    },
    "papermill": {
     "duration": 0.048444,
     "end_time": "2022-03-21T17:17:53.600180",
     "exception": false,
     "start_time": "2022-03-21T17:17:53.551736",
     "status": "completed"
    },
    "tags": [
     "parameters"
    ]
   },
   "outputs": [],
   "source": [
    "from steves_utils.CORES.utils import (\n",
    "    ALL_NODES,\n",
    "    ALL_NODES_MINIMUM_1000_EXAMPLES,\n",
    "    ALL_DAYS\n",
    ")\n",
    "\n",
    "from steves_utils.ORACLE.utils_v2 import (\n",
    "    ALL_DISTANCES_FEET_NARROWED,\n",
    "    ALL_RUNS,\n",
    "    ALL_SERIAL_NUMBERS,\n",
    ")\n",
    "\n",
    "standalone_parameters = {}\n",
    "standalone_parameters[\"experiment_name\"] = \"STANDALONE PTN\"\n",
    "standalone_parameters[\"lr\"] = 0.001\n",
    "standalone_parameters[\"device\"] = \"cuda\"\n",
    "\n",
    "standalone_parameters[\"seed\"] = 1337\n",
    "standalone_parameters[\"dataset_seed\"] = 1337\n",
    "\n",
    "standalone_parameters[\"n_way\"] = 8\n",
    "standalone_parameters[\"n_shot\"] = 3\n",
    "standalone_parameters[\"n_query\"]  = 2\n",
    "standalone_parameters[\"train_k_factor\"] = 1\n",
    "standalone_parameters[\"val_k_factor\"] = 2\n",
    "standalone_parameters[\"test_k_factor\"] = 2\n",
    "\n",
    "\n",
    "standalone_parameters[\"n_epoch\"] = 50\n",
    "\n",
    "standalone_parameters[\"patience\"] = 10\n",
    "standalone_parameters[\"criteria_for_best\"] = \"source_loss\"\n",
    "\n",
    "standalone_parameters[\"datasets\"] = [\n",
    "    {\n",
    "        \"labels\": ALL_SERIAL_NUMBERS,\n",
    "        \"domains\": ALL_DISTANCES_FEET_NARROWED,\n",
    "        \"num_examples_per_domain_per_label\": 100,\n",
    "        \"pickle_path\": os.path.join(get_datasets_base_path(), \"oracle.Run1_framed_2000Examples_stratified_ds.2022A.pkl\"),\n",
    "        \"source_or_target_dataset\": \"source\",\n",
    "        \"x_transforms\": [\"unit_mag\", \"minus_two\"],\n",
    "        \"episode_transforms\": [],\n",
    "        \"domain_prefix\": \"ORACLE_\"\n",
    "    },\n",
    "    {\n",
    "        \"labels\": ALL_NODES,\n",
    "        \"domains\": ALL_DAYS,\n",
    "        \"num_examples_per_domain_per_label\": 100,\n",
    "        \"pickle_path\": os.path.join(get_datasets_base_path(), \"cores.stratified_ds.2022A.pkl\"),\n",
    "        \"source_or_target_dataset\": \"target\",\n",
    "        \"x_transforms\": [\"unit_power\", \"times_zero\"],\n",
    "        \"episode_transforms\": [],\n",
    "        \"domain_prefix\": \"CORES_\"\n",
    "    }   \n",
    "]\n",
    "\n",
    "standalone_parameters[\"torch_default_dtype\"] = \"torch.float32\" \n",
    "\n",
    "\n",
    "\n",
    "standalone_parameters[\"x_net\"] =     [\n",
    "    {\"class\": \"nnReshape\", \"kargs\": {\"shape\":[-1, 1, 2, 256]}},\n",
    "    {\"class\": \"Conv2d\", \"kargs\": { \"in_channels\":1, \"out_channels\":256, \"kernel_size\":(1,7), \"bias\":False, \"padding\":(0,3), },},\n",
    "    {\"class\": \"ReLU\", \"kargs\": {\"inplace\": True}},\n",
    "    {\"class\": \"BatchNorm2d\", \"kargs\": {\"num_features\":256}},\n",
    "\n",
    "    {\"class\": \"Conv2d\", \"kargs\": { \"in_channels\":256, \"out_channels\":80, \"kernel_size\":(2,7), \"bias\":True, \"padding\":(0,3), },},\n",
    "    {\"class\": \"ReLU\", \"kargs\": {\"inplace\": True}},\n",
    "    {\"class\": \"BatchNorm2d\", \"kargs\": {\"num_features\":80}},\n",
    "    {\"class\": \"Flatten\", \"kargs\": {}},\n",
    "\n",
    "    {\"class\": \"Linear\", \"kargs\": {\"in_features\": 80*256, \"out_features\": 256}}, # 80 units per IQ pair\n",
    "    {\"class\": \"ReLU\", \"kargs\": {\"inplace\": True}},\n",
    "    {\"class\": \"BatchNorm1d\", \"kargs\": {\"num_features\":256}},\n",
    "\n",
    "    {\"class\": \"Linear\", \"kargs\": {\"in_features\": 256, \"out_features\": 256}},\n",
    "]\n",
    "\n",
    "# Parameters relevant to results\n",
    "# These parameters will basically never need to change\n",
    "standalone_parameters[\"NUM_LOGS_PER_EPOCH\"] = 10\n",
    "standalone_parameters[\"BEST_MODEL_PATH\"] = \"./best_model.pth\"\n",
    "\n",
    "\n",
    "\n",
    "\n"
   ]
  },
  {
   "cell_type": "code",
   "execution_count": 4,
   "id": "5e74fad2",
   "metadata": {
    "execution": {
     "iopub.execute_input": "2022-03-21T17:17:53.658537Z",
     "iopub.status.busy": "2022-03-21T17:17:53.657836Z",
     "iopub.status.idle": "2022-03-21T17:17:53.678141Z",
     "shell.execute_reply": "2022-03-21T17:17:53.677312Z"
    },
    "papermill": {
     "duration": 0.05158,
     "end_time": "2022-03-21T17:17:53.678312",
     "exception": false,
     "start_time": "2022-03-21T17:17:53.626732",
     "status": "completed"
    },
    "tags": [
     "injected-parameters"
    ]
   },
   "outputs": [],
   "source": [
    "# Parameters\n",
    "parameters = {\n",
    "    \"experiment_name\": \"tl_1v2:wisig-oracle.run1.framed\",\n",
    "    \"device\": \"cuda\",\n",
    "    \"lr\": 0.0001,\n",
    "    \"n_shot\": 3,\n",
    "    \"n_query\": 2,\n",
    "    \"train_k_factor\": 3,\n",
    "    \"val_k_factor\": 2,\n",
    "    \"test_k_factor\": 2,\n",
    "    \"torch_default_dtype\": \"torch.float32\",\n",
    "    \"n_epoch\": 50,\n",
    "    \"patience\": 3,\n",
    "    \"criteria_for_best\": \"target_accuracy\",\n",
    "    \"x_net\": [\n",
    "        {\"class\": \"nnReshape\", \"kargs\": {\"shape\": [-1, 1, 2, 256]}},\n",
    "        {\n",
    "            \"class\": \"Conv2d\",\n",
    "            \"kargs\": {\n",
    "                \"in_channels\": 1,\n",
    "                \"out_channels\": 256,\n",
    "                \"kernel_size\": [1, 7],\n",
    "                \"bias\": False,\n",
    "                \"padding\": [0, 3],\n",
    "            },\n",
    "        },\n",
    "        {\"class\": \"ReLU\", \"kargs\": {\"inplace\": True}},\n",
    "        {\"class\": \"BatchNorm2d\", \"kargs\": {\"num_features\": 256}},\n",
    "        {\n",
    "            \"class\": \"Conv2d\",\n",
    "            \"kargs\": {\n",
    "                \"in_channels\": 256,\n",
    "                \"out_channels\": 80,\n",
    "                \"kernel_size\": [2, 7],\n",
    "                \"bias\": True,\n",
    "                \"padding\": [0, 3],\n",
    "            },\n",
    "        },\n",
    "        {\"class\": \"ReLU\", \"kargs\": {\"inplace\": True}},\n",
    "        {\"class\": \"BatchNorm2d\", \"kargs\": {\"num_features\": 80}},\n",
    "        {\"class\": \"Flatten\", \"kargs\": {}},\n",
    "        {\"class\": \"Linear\", \"kargs\": {\"in_features\": 20480, \"out_features\": 256}},\n",
    "        {\"class\": \"ReLU\", \"kargs\": {\"inplace\": True}},\n",
    "        {\"class\": \"BatchNorm1d\", \"kargs\": {\"num_features\": 256}},\n",
    "        {\"class\": \"Linear\", \"kargs\": {\"in_features\": 256, \"out_features\": 256}},\n",
    "    ],\n",
    "    \"NUM_LOGS_PER_EPOCH\": 10,\n",
    "    \"BEST_MODEL_PATH\": \"./best_model.pth\",\n",
    "    \"n_way\": 16,\n",
    "    \"datasets\": [\n",
    "        {\n",
    "            \"labels\": [\n",
    "                \"1-10\",\n",
    "                \"1-12\",\n",
    "                \"1-14\",\n",
    "                \"1-16\",\n",
    "                \"1-18\",\n",
    "                \"1-19\",\n",
    "                \"1-8\",\n",
    "                \"10-11\",\n",
    "                \"10-17\",\n",
    "                \"10-4\",\n",
    "                \"10-7\",\n",
    "                \"11-1\",\n",
    "                \"11-10\",\n",
    "                \"11-19\",\n",
    "                \"11-20\",\n",
    "                \"11-4\",\n",
    "                \"11-7\",\n",
    "                \"12-19\",\n",
    "                \"12-20\",\n",
    "                \"12-7\",\n",
    "                \"13-14\",\n",
    "                \"13-18\",\n",
    "                \"13-19\",\n",
    "                \"13-20\",\n",
    "                \"13-3\",\n",
    "                \"13-7\",\n",
    "                \"14-10\",\n",
    "                \"14-11\",\n",
    "                \"14-12\",\n",
    "                \"14-13\",\n",
    "                \"14-14\",\n",
    "                \"14-19\",\n",
    "                \"14-20\",\n",
    "                \"14-7\",\n",
    "                \"14-8\",\n",
    "                \"14-9\",\n",
    "                \"15-1\",\n",
    "                \"15-19\",\n",
    "                \"15-6\",\n",
    "                \"16-1\",\n",
    "                \"16-16\",\n",
    "                \"16-19\",\n",
    "                \"16-20\",\n",
    "                \"17-10\",\n",
    "                \"17-11\",\n",
    "                \"18-1\",\n",
    "                \"18-10\",\n",
    "                \"18-11\",\n",
    "                \"18-12\",\n",
    "                \"18-13\",\n",
    "                \"18-14\",\n",
    "                \"18-15\",\n",
    "                \"18-16\",\n",
    "                \"18-17\",\n",
    "                \"18-19\",\n",
    "                \"18-2\",\n",
    "                \"18-20\",\n",
    "                \"18-4\",\n",
    "                \"18-5\",\n",
    "                \"18-7\",\n",
    "                \"18-8\",\n",
    "                \"18-9\",\n",
    "                \"19-1\",\n",
    "                \"19-10\",\n",
    "                \"19-11\",\n",
    "                \"19-12\",\n",
    "                \"19-13\",\n",
    "                \"19-14\",\n",
    "                \"19-15\",\n",
    "                \"19-19\",\n",
    "                \"19-2\",\n",
    "                \"19-20\",\n",
    "                \"19-3\",\n",
    "                \"19-4\",\n",
    "                \"19-6\",\n",
    "                \"19-7\",\n",
    "                \"19-8\",\n",
    "                \"19-9\",\n",
    "                \"2-1\",\n",
    "                \"2-13\",\n",
    "                \"2-15\",\n",
    "                \"2-3\",\n",
    "                \"2-4\",\n",
    "                \"2-5\",\n",
    "                \"2-6\",\n",
    "                \"2-7\",\n",
    "                \"2-8\",\n",
    "                \"20-1\",\n",
    "                \"20-12\",\n",
    "                \"20-14\",\n",
    "                \"20-15\",\n",
    "                \"20-16\",\n",
    "                \"20-18\",\n",
    "                \"20-19\",\n",
    "                \"20-20\",\n",
    "                \"20-3\",\n",
    "                \"20-4\",\n",
    "                \"20-5\",\n",
    "                \"20-7\",\n",
    "                \"20-8\",\n",
    "                \"3-1\",\n",
    "                \"3-13\",\n",
    "                \"3-18\",\n",
    "                \"3-2\",\n",
    "                \"3-8\",\n",
    "                \"4-1\",\n",
    "                \"4-10\",\n",
    "                \"4-11\",\n",
    "                \"5-1\",\n",
    "                \"5-5\",\n",
    "                \"6-1\",\n",
    "                \"6-15\",\n",
    "                \"6-6\",\n",
    "                \"7-10\",\n",
    "                \"7-11\",\n",
    "                \"7-12\",\n",
    "                \"7-13\",\n",
    "                \"7-14\",\n",
    "                \"7-7\",\n",
    "                \"7-8\",\n",
    "                \"7-9\",\n",
    "                \"8-1\",\n",
    "                \"8-13\",\n",
    "                \"8-14\",\n",
    "                \"8-18\",\n",
    "                \"8-20\",\n",
    "                \"8-3\",\n",
    "                \"8-8\",\n",
    "                \"9-1\",\n",
    "                \"9-7\",\n",
    "            ],\n",
    "            \"domains\": [1, 2, 3, 4],\n",
    "            \"num_examples_per_domain_per_label\": -1,\n",
    "            \"pickle_path\": \"/root/csc500-main/datasets/wisig.node3-19.stratified_ds.2022A.pkl\",\n",
    "            \"source_or_target_dataset\": \"source\",\n",
    "            \"x_transforms\": [\"unit_mag\"],\n",
    "            \"episode_transforms\": [],\n",
    "            \"domain_prefix\": \"Wisig_\",\n",
    "        },\n",
    "        {\n",
    "            \"labels\": [\n",
    "                \"3123D52\",\n",
    "                \"3123D65\",\n",
    "                \"3123D79\",\n",
    "                \"3123D80\",\n",
    "                \"3123D54\",\n",
    "                \"3123D70\",\n",
    "                \"3123D7B\",\n",
    "                \"3123D89\",\n",
    "                \"3123D58\",\n",
    "                \"3123D76\",\n",
    "                \"3123D7D\",\n",
    "                \"3123EFE\",\n",
    "                \"3123D64\",\n",
    "                \"3123D78\",\n",
    "                \"3123D7E\",\n",
    "                \"3124E4A\",\n",
    "            ],\n",
    "            \"domains\": [32, 38, 8, 44, 14, 50, 20, 26],\n",
    "            \"num_examples_per_domain_per_label\": 2000,\n",
    "            \"pickle_path\": \"/root/csc500-main/datasets/oracle.Run1_framed_2000Examples_stratified_ds.2022A.pkl\",\n",
    "            \"source_or_target_dataset\": \"target\",\n",
    "            \"x_transforms\": [\"unit_mag\"],\n",
    "            \"episode_transforms\": [],\n",
    "            \"domain_prefix\": \"ORACLE.run1\",\n",
    "        },\n",
    "    ],\n",
    "    \"dataset_seed\": 500,\n",
    "    \"seed\": 500,\n",
    "}\n"
   ]
  },
  {
   "cell_type": "code",
   "execution_count": 5,
   "id": "8fa1cc33",
   "metadata": {
    "execution": {
     "iopub.execute_input": "2022-03-21T17:17:53.730776Z",
     "iopub.status.busy": "2022-03-21T17:17:53.730394Z",
     "iopub.status.idle": "2022-03-21T17:17:53.748527Z",
     "shell.execute_reply": "2022-03-21T17:17:53.747576Z"
    },
    "papermill": {
     "duration": 0.042631,
     "end_time": "2022-03-21T17:17:53.748757",
     "exception": false,
     "start_time": "2022-03-21T17:17:53.706126",
     "status": "completed"
    },
    "tags": []
   },
   "outputs": [],
   "source": [
    "# Set this to True if you want to run this template directly\n",
    "STANDALONE = False\n",
    "if STANDALONE:\n",
    "    print(\"parameters not injected, running with standalone_parameters\")\n",
    "    parameters = standalone_parameters\n",
    "\n",
    "if not 'parameters' in locals() and not 'parameters' in globals():\n",
    "    raise Exception(\"Parameter injection failed\")\n",
    "\n",
    "#Use an easy dict for all the parameters\n",
    "p = EasyDict(parameters)\n",
    "\n",
    "if \"x_shape\" not in p:\n",
    "    p.x_shape = [2,256] # Default to this if we dont supply x_shape\n",
    "\n",
    "\n",
    "supplied_keys = set(p.keys())\n",
    "\n",
    "if  supplied_keys != required_parameters:\n",
    "    print(\"Parameters are incorrect\")\n",
    "    if len(supplied_keys - required_parameters)>0: print(\"Shouldn't have:\", str(supplied_keys - required_parameters))\n",
    "    if len(required_parameters - supplied_keys)>0: print(\"Need to have:\", str(required_parameters - supplied_keys))\n",
    "    raise RuntimeError(\"Parameters are incorrect\")"
   ]
  },
  {
   "cell_type": "code",
   "execution_count": 6,
   "id": "3a028d58",
   "metadata": {
    "execution": {
     "iopub.execute_input": "2022-03-21T17:17:53.797359Z",
     "iopub.status.busy": "2022-03-21T17:17:53.796729Z",
     "iopub.status.idle": "2022-03-21T17:17:53.814824Z",
     "shell.execute_reply": "2022-03-21T17:17:53.814006Z"
    },
    "papermill": {
     "duration": 0.039957,
     "end_time": "2022-03-21T17:17:53.814987",
     "exception": false,
     "start_time": "2022-03-21T17:17:53.775030",
     "status": "completed"
    },
    "tags": []
   },
   "outputs": [],
   "source": [
    "###################################\n",
    "# Set the RNGs and make it all deterministic\n",
    "###################################\n",
    "np.random.seed(p.seed)\n",
    "random.seed(p.seed)\n",
    "torch.manual_seed(p.seed)\n",
    "\n",
    "torch.use_deterministic_algorithms(True) "
   ]
  },
  {
   "cell_type": "code",
   "execution_count": 7,
   "id": "b691acf6",
   "metadata": {
    "execution": {
     "iopub.execute_input": "2022-03-21T17:17:53.862316Z",
     "iopub.status.busy": "2022-03-21T17:17:53.861948Z",
     "iopub.status.idle": "2022-03-21T17:17:53.879162Z",
     "shell.execute_reply": "2022-03-21T17:17:53.878362Z"
    },
    "papermill": {
     "duration": 0.03953,
     "end_time": "2022-03-21T17:17:53.879329",
     "exception": false,
     "start_time": "2022-03-21T17:17:53.839799",
     "status": "completed"
    },
    "tags": []
   },
   "outputs": [],
   "source": [
    "###########################################\n",
    "# The stratified datasets honor this\n",
    "###########################################\n",
    "torch.set_default_dtype(eval(p.torch_default_dtype))"
   ]
  },
  {
   "cell_type": "code",
   "execution_count": 8,
   "id": "b5fba671",
   "metadata": {
    "execution": {
     "iopub.execute_input": "2022-03-21T17:17:53.929648Z",
     "iopub.status.busy": "2022-03-21T17:17:53.929275Z",
     "iopub.status.idle": "2022-03-21T17:17:53.979706Z",
     "shell.execute_reply": "2022-03-21T17:17:53.980379Z"
    },
    "papermill": {
     "duration": 0.073255,
     "end_time": "2022-03-21T17:17:53.980580",
     "exception": false,
     "start_time": "2022-03-21T17:17:53.907325",
     "status": "completed"
    },
    "tags": []
   },
   "outputs": [],
   "source": [
    "###################################\n",
    "# Build the network(s)\n",
    "# Note: It's critical to do this AFTER setting the RNG\n",
    "###################################\n",
    "x_net = build_sequential(p.x_net)"
   ]
  },
  {
   "cell_type": "code",
   "execution_count": 9,
   "id": "5d7e61cc",
   "metadata": {
    "execution": {
     "iopub.execute_input": "2022-03-21T17:17:54.039067Z",
     "iopub.status.busy": "2022-03-21T17:17:54.038689Z",
     "iopub.status.idle": "2022-03-21T17:17:54.061034Z",
     "shell.execute_reply": "2022-03-21T17:17:54.060212Z"
    },
    "papermill": {
     "duration": 0.046553,
     "end_time": "2022-03-21T17:17:54.061201",
     "exception": false,
     "start_time": "2022-03-21T17:17:54.014648",
     "status": "completed"
    },
    "tags": []
   },
   "outputs": [],
   "source": [
    "start_time_secs = time.time()"
   ]
  },
  {
   "cell_type": "code",
   "execution_count": 10,
   "id": "c6b67dfd",
   "metadata": {
    "execution": {
     "iopub.execute_input": "2022-03-21T17:17:54.114555Z",
     "iopub.status.busy": "2022-03-21T17:17:54.113965Z",
     "iopub.status.idle": "2022-03-21T17:17:54.133299Z",
     "shell.execute_reply": "2022-03-21T17:17:54.132484Z"
    },
    "papermill": {
     "duration": 0.042681,
     "end_time": "2022-03-21T17:17:54.133459",
     "exception": false,
     "start_time": "2022-03-21T17:17:54.090778",
     "status": "completed"
    },
    "tags": []
   },
   "outputs": [],
   "source": [
    "p.domains_source = []\n",
    "p.domains_target = []\n",
    "\n",
    "\n",
    "train_original_source = []\n",
    "val_original_source   = []\n",
    "test_original_source  = []\n",
    "\n",
    "train_original_target = []\n",
    "val_original_target   = []\n",
    "test_original_target  = []"
   ]
  },
  {
   "cell_type": "code",
   "execution_count": 11,
   "id": "e3d9c3d3",
   "metadata": {
    "execution": {
     "iopub.execute_input": "2022-03-21T17:17:54.184611Z",
     "iopub.status.busy": "2022-03-21T17:17:54.184113Z",
     "iopub.status.idle": "2022-03-21T17:17:54.203232Z",
     "shell.execute_reply": "2022-03-21T17:17:54.202422Z"
    },
    "papermill": {
     "duration": 0.042492,
     "end_time": "2022-03-21T17:17:54.203392",
     "exception": false,
     "start_time": "2022-03-21T17:17:54.160900",
     "status": "completed"
    },
    "tags": []
   },
   "outputs": [],
   "source": [
    "# global_x_transform_func = lambda x: normalize(x.to(torch.get_default_dtype()), \"unit_power\") # unit_power, unit_mag\n",
    "# global_x_transform_func = lambda x: normalize(x, \"unit_power\") # unit_power, unit_mag"
   ]
  },
  {
   "cell_type": "code",
   "execution_count": 12,
   "id": "acb78fd2",
   "metadata": {
    "execution": {
     "iopub.execute_input": "2022-03-21T17:17:54.260022Z",
     "iopub.status.busy": "2022-03-21T17:17:54.259330Z",
     "iopub.status.idle": "2022-03-21T17:17:54.279741Z",
     "shell.execute_reply": "2022-03-21T17:17:54.278901Z"
    },
    "papermill": {
     "duration": 0.048398,
     "end_time": "2022-03-21T17:17:54.279902",
     "exception": false,
     "start_time": "2022-03-21T17:17:54.231504",
     "status": "completed"
    },
    "tags": []
   },
   "outputs": [],
   "source": [
    "def add_dataset(\n",
    "    labels,\n",
    "    domains,\n",
    "    pickle_path,\n",
    "    x_transforms,\n",
    "    episode_transforms,\n",
    "    domain_prefix,\n",
    "    num_examples_per_domain_per_label,\n",
    "    source_or_target_dataset:str,\n",
    "    iterator_seed=p.seed,\n",
    "    dataset_seed=p.dataset_seed,\n",
    "    n_shot=p.n_shot,\n",
    "    n_way=p.n_way,\n",
    "    n_query=p.n_query,\n",
    "    train_val_test_k_factors=(p.train_k_factor,p.val_k_factor,p.test_k_factor),\n",
    "):\n",
    "   \n",
    "    if x_transforms == []: x_transform = None\n",
    "    else: x_transform = get_chained_transform(x_transforms)\n",
    "    \n",
    "    if episode_transforms == []: episode_transform = None\n",
    "    else: raise Exception(\"episode_transforms not implemented\")\n",
    "    \n",
    "    episode_transform = lambda tup, _prefix=domain_prefix: (_prefix + str(tup[0]), tup[1])\n",
    "\n",
    "\n",
    "    eaf = Episodic_Accessor_Factory(\n",
    "        labels=labels,\n",
    "        domains=domains,\n",
    "        num_examples_per_domain_per_label=num_examples_per_domain_per_label,\n",
    "        iterator_seed=iterator_seed,\n",
    "        dataset_seed=dataset_seed,\n",
    "        n_shot=n_shot,\n",
    "        n_way=n_way,\n",
    "        n_query=n_query,\n",
    "        train_val_test_k_factors=train_val_test_k_factors,\n",
    "        pickle_path=pickle_path,\n",
    "        x_transform_func=x_transform,\n",
    "    )\n",
    "\n",
    "    train, val, test = eaf.get_train(), eaf.get_val(), eaf.get_test()\n",
    "    train = Lazy_Iterable_Wrapper(train, episode_transform)\n",
    "    val = Lazy_Iterable_Wrapper(val, episode_transform)\n",
    "    test = Lazy_Iterable_Wrapper(test, episode_transform)\n",
    "\n",
    "    if source_or_target_dataset==\"source\":\n",
    "        train_original_source.append(train)\n",
    "        val_original_source.append(val)\n",
    "        test_original_source.append(test)\n",
    "\n",
    "        p.domains_source.extend(\n",
    "            [domain_prefix + str(u) for u in domains]\n",
    "        )\n",
    "    elif source_or_target_dataset==\"target\":\n",
    "        train_original_target.append(train)\n",
    "        val_original_target.append(val)\n",
    "        test_original_target.append(test)\n",
    "        p.domains_target.extend(\n",
    "            [domain_prefix + str(u) for u in domains]\n",
    "        )\n",
    "    else:\n",
    "        raise Exception(f\"invalid source_or_target_dataset: {source_or_target_dataset}\")\n",
    "    "
   ]
  },
  {
   "cell_type": "code",
   "execution_count": 13,
   "id": "fe266617",
   "metadata": {
    "execution": {
     "iopub.execute_input": "2022-03-21T17:17:54.331623Z",
     "iopub.status.busy": "2022-03-21T17:17:54.330910Z",
     "iopub.status.idle": "2022-03-21T17:18:37.536336Z",
     "shell.execute_reply": "2022-03-21T17:18:37.535595Z"
    },
    "papermill": {
     "duration": 43.228062,
     "end_time": "2022-03-21T17:18:37.536525",
     "exception": false,
     "start_time": "2022-03-21T17:17:54.308463",
     "status": "completed"
    },
    "tags": []
   },
   "outputs": [],
   "source": [
    "for ds in p.datasets:\n",
    "    add_dataset(**ds)"
   ]
  },
  {
   "cell_type": "code",
   "execution_count": 14,
   "id": "b90d65ac",
   "metadata": {
    "execution": {
     "iopub.execute_input": "2022-03-21T17:18:37.587866Z",
     "iopub.status.busy": "2022-03-21T17:18:37.587455Z",
     "iopub.status.idle": "2022-03-21T17:18:37.611944Z",
     "shell.execute_reply": "2022-03-21T17:18:37.612626Z"
    },
    "papermill": {
     "duration": 0.050149,
     "end_time": "2022-03-21T17:18:37.612828",
     "exception": false,
     "start_time": "2022-03-21T17:18:37.562679",
     "status": "completed"
    },
    "tags": []
   },
   "outputs": [],
   "source": [
    "# from steves_utils.CORES.utils import (\n",
    "#     ALL_NODES,\n",
    "#     ALL_NODES_MINIMUM_1000_EXAMPLES,\n",
    "#     ALL_DAYS\n",
    "# )\n",
    "\n",
    "# add_dataset(\n",
    "#     labels=ALL_NODES,\n",
    "#     domains = ALL_DAYS,\n",
    "#     num_examples_per_domain_per_label=100,\n",
    "#     pickle_path=os.path.join(get_datasets_base_path(), \"cores.stratified_ds.2022A.pkl\"),\n",
    "#     source_or_target_dataset=\"target\",\n",
    "#     x_transform_func=global_x_transform_func,\n",
    "#     domain_modifier=lambda u: f\"cores_{u}\"\n",
    "# )"
   ]
  },
  {
   "cell_type": "code",
   "execution_count": 15,
   "id": "76db484d",
   "metadata": {
    "execution": {
     "iopub.execute_input": "2022-03-21T17:18:37.666120Z",
     "iopub.status.busy": "2022-03-21T17:18:37.665649Z",
     "iopub.status.idle": "2022-03-21T17:18:37.689363Z",
     "shell.execute_reply": "2022-03-21T17:18:37.688547Z"
    },
    "papermill": {
     "duration": 0.049104,
     "end_time": "2022-03-21T17:18:37.689523",
     "exception": false,
     "start_time": "2022-03-21T17:18:37.640419",
     "status": "completed"
    },
    "tags": []
   },
   "outputs": [],
   "source": [
    "# from steves_utils.ORACLE.utils_v2 import (\n",
    "#     ALL_DISTANCES_FEET,\n",
    "#     ALL_RUNS,\n",
    "#     ALL_SERIAL_NUMBERS,\n",
    "# )\n",
    "\n",
    "\n",
    "# add_dataset(\n",
    "#     labels=ALL_SERIAL_NUMBERS,\n",
    "#     domains = list(set(ALL_DISTANCES_FEET) - {2,62}),\n",
    "#     num_examples_per_domain_per_label=100,\n",
    "#     pickle_path=os.path.join(get_datasets_base_path(), \"oracle.Run2_framed_2000Examples_stratified_ds.2022A.pkl\"),\n",
    "#     source_or_target_dataset=\"source\",\n",
    "#     x_transform_func=global_x_transform_func,\n",
    "#     domain_modifier=lambda u: f\"oracle1_{u}\"\n",
    "# )\n"
   ]
  },
  {
   "cell_type": "code",
   "execution_count": 16,
   "id": "97dea9d2",
   "metadata": {
    "execution": {
     "iopub.execute_input": "2022-03-21T17:18:37.741711Z",
     "iopub.status.busy": "2022-03-21T17:18:37.740085Z",
     "iopub.status.idle": "2022-03-21T17:18:37.761946Z",
     "shell.execute_reply": "2022-03-21T17:18:37.761135Z"
    },
    "papermill": {
     "duration": 0.045712,
     "end_time": "2022-03-21T17:18:37.762102",
     "exception": false,
     "start_time": "2022-03-21T17:18:37.716390",
     "status": "completed"
    },
    "tags": []
   },
   "outputs": [],
   "source": [
    "# from steves_utils.ORACLE.utils_v2 import (\n",
    "#     ALL_DISTANCES_FEET,\n",
    "#     ALL_RUNS,\n",
    "#     ALL_SERIAL_NUMBERS,\n",
    "# )\n",
    "\n",
    "\n",
    "# add_dataset(\n",
    "#     labels=ALL_SERIAL_NUMBERS,\n",
    "#     domains = list(set(ALL_DISTANCES_FEET) - {2,62,56}),\n",
    "#     num_examples_per_domain_per_label=100,\n",
    "#     pickle_path=os.path.join(get_datasets_base_path(), \"oracle.Run2_framed_2000Examples_stratified_ds.2022A.pkl\"),\n",
    "#     source_or_target_dataset=\"source\",\n",
    "#     x_transform_func=global_x_transform_func,\n",
    "#     domain_modifier=lambda u: f\"oracle2_{u}\"\n",
    "# )"
   ]
  },
  {
   "cell_type": "code",
   "execution_count": 17,
   "id": "6f289866",
   "metadata": {
    "execution": {
     "iopub.execute_input": "2022-03-21T17:18:37.811843Z",
     "iopub.status.busy": "2022-03-21T17:18:37.811342Z",
     "iopub.status.idle": "2022-03-21T17:18:37.834440Z",
     "shell.execute_reply": "2022-03-21T17:18:37.833643Z"
    },
    "papermill": {
     "duration": 0.046516,
     "end_time": "2022-03-21T17:18:37.834603",
     "exception": false,
     "start_time": "2022-03-21T17:18:37.788087",
     "status": "completed"
    },
    "tags": []
   },
   "outputs": [],
   "source": [
    "# add_dataset(\n",
    "#     labels=list(range(19)),\n",
    "#     domains = [0,1,2],\n",
    "#     num_examples_per_domain_per_label=100,\n",
    "#     pickle_path=os.path.join(get_datasets_base_path(), \"metehan.stratified_ds.2022A.pkl\"),\n",
    "#     source_or_target_dataset=\"target\",\n",
    "#     x_transform_func=global_x_transform_func,\n",
    "#     domain_modifier=lambda u: f\"met_{u}\"\n",
    "# )"
   ]
  },
  {
   "cell_type": "code",
   "execution_count": 18,
   "id": "86a863c3",
   "metadata": {
    "execution": {
     "iopub.execute_input": "2022-03-21T17:18:37.883389Z",
     "iopub.status.busy": "2022-03-21T17:18:37.883018Z",
     "iopub.status.idle": "2022-03-21T17:18:37.901203Z",
     "shell.execute_reply": "2022-03-21T17:18:37.900384Z"
    },
    "papermill": {
     "duration": 0.040881,
     "end_time": "2022-03-21T17:18:37.901363",
     "exception": false,
     "start_time": "2022-03-21T17:18:37.860482",
     "status": "completed"
    },
    "tags": []
   },
   "outputs": [],
   "source": [
    "# # from steves_utils.wisig.utils import (\n",
    "# #     ALL_NODES_MINIMUM_100_EXAMPLES,\n",
    "# #     ALL_NODES_MINIMUM_500_EXAMPLES,\n",
    "# #     ALL_NODES_MINIMUM_1000_EXAMPLES,\n",
    "# #     ALL_DAYS\n",
    "# # )\n",
    "\n",
    "# import steves_utils.wisig.utils as wisig\n",
    "\n",
    "\n",
    "# add_dataset(\n",
    "#     labels=wisig.ALL_NODES_MINIMUM_100_EXAMPLES,\n",
    "#     domains = wisig.ALL_DAYS,\n",
    "#     num_examples_per_domain_per_label=100,\n",
    "#     pickle_path=os.path.join(get_datasets_base_path(), \"wisig.node3-19.stratified_ds.2022A.pkl\"),\n",
    "#     source_or_target_dataset=\"target\",\n",
    "#     x_transform_func=global_x_transform_func,\n",
    "#     domain_modifier=lambda u: f\"wisig_{u}\"\n",
    "# )"
   ]
  },
  {
   "cell_type": "code",
   "execution_count": 19,
   "id": "fd5442bc",
   "metadata": {
    "execution": {
     "iopub.execute_input": "2022-03-21T17:18:37.961698Z",
     "iopub.status.busy": "2022-03-21T17:18:37.961121Z",
     "iopub.status.idle": "2022-03-21T17:18:37.982312Z",
     "shell.execute_reply": "2022-03-21T17:18:37.981508Z"
    },
    "papermill": {
     "duration": 0.051735,
     "end_time": "2022-03-21T17:18:37.982471",
     "exception": false,
     "start_time": "2022-03-21T17:18:37.930736",
     "status": "completed"
    },
    "tags": []
   },
   "outputs": [],
   "source": [
    "###################################\n",
    "# Build the dataset\n",
    "###################################\n",
    "train_original_source = Iterable_Aggregator(train_original_source, p.seed)\n",
    "val_original_source = Iterable_Aggregator(val_original_source, p.seed)\n",
    "test_original_source = Iterable_Aggregator(test_original_source, p.seed)\n",
    "\n",
    "\n",
    "train_original_target = Iterable_Aggregator(train_original_target, p.seed)\n",
    "val_original_target = Iterable_Aggregator(val_original_target, p.seed)\n",
    "test_original_target = Iterable_Aggregator(test_original_target, p.seed)\n",
    "\n",
    "# For CNN We only use X and Y. And we only train on the source.\n",
    "# Properly form the data using a transform lambda and Lazy_Iterable_Wrapper. Finally wrap them in a dataloader\n",
    "\n",
    "transform_lambda = lambda ex: ex[1] # Original is (<domain>, <episode>) so we strip down to episode only\n",
    "\n",
    "train_processed_source = Lazy_Iterable_Wrapper(train_original_source, transform_lambda)\n",
    "val_processed_source   = Lazy_Iterable_Wrapper(val_original_source, transform_lambda)\n",
    "test_processed_source  = Lazy_Iterable_Wrapper(test_original_source, transform_lambda)\n",
    "\n",
    "train_processed_target = Lazy_Iterable_Wrapper(train_original_target, transform_lambda)\n",
    "val_processed_target   = Lazy_Iterable_Wrapper(val_original_target, transform_lambda)\n",
    "test_processed_target  = Lazy_Iterable_Wrapper(test_original_target, transform_lambda)\n",
    "\n",
    "datasets = EasyDict({\n",
    "    \"source\": {\n",
    "        \"original\": {\"train\":train_original_source, \"val\":val_original_source, \"test\":test_original_source},\n",
    "        \"processed\": {\"train\":train_processed_source, \"val\":val_processed_source, \"test\":test_processed_source}\n",
    "    },\n",
    "    \"target\": {\n",
    "        \"original\": {\"train\":train_original_target, \"val\":val_original_target, \"test\":test_original_target},\n",
    "        \"processed\": {\"train\":train_processed_target, \"val\":val_processed_target, \"test\":test_processed_target}\n",
    "    },\n",
    "})"
   ]
  },
  {
   "cell_type": "code",
   "execution_count": 20,
   "id": "5b3c01fc",
   "metadata": {
    "execution": {
     "iopub.execute_input": "2022-03-21T17:18:38.040264Z",
     "iopub.status.busy": "2022-03-21T17:18:38.037417Z",
     "iopub.status.idle": "2022-03-21T17:18:54.054808Z",
     "shell.execute_reply": "2022-03-21T17:18:54.055573Z"
    },
    "papermill": {
     "duration": 16.044687,
     "end_time": "2022-03-21T17:18:54.055813",
     "exception": false,
     "start_time": "2022-03-21T17:18:38.011126",
     "status": "completed"
    },
    "tags": []
   },
   "outputs": [
    {
     "name": "stdout",
     "output_type": "stream",
     "text": [
      "{'Wisig_2', 'Wisig_3', 'Wisig_1', 'Wisig_4'}\n"
     ]
    },
    {
     "name": "stdout",
     "output_type": "stream",
     "text": [
      "{'ORACLE.run18', 'ORACLE.run150', 'ORACLE.run144', 'ORACLE.run120', 'ORACLE.run126', 'ORACLE.run132', 'ORACLE.run114', 'ORACLE.run138'}\n"
     ]
    },
    {
     "name": "stdout",
     "output_type": "stream",
     "text": [
      "tensor([[[ 1.2278e+00, -1.8934e-01,  6.8033e-02,  ...,  1.4056e-01,\n",
      "           1.6367e-01,  3.6199e-01],\n",
      "         [ 5.5261e-01,  8.1768e-01,  2.8304e-01,  ...,  1.4056e-01,\n",
      "           2.5480e-01, -5.1346e-02]],\n",
      "\n",
      "        [[-3.7891e-01,  5.0957e-01,  1.4372e-01,  ..., -1.6986e-01,\n",
      "           4.2272e-02, -2.2904e-01],\n",
      "         [-1.4034e+00, -3.0590e-01,  2.4595e-02,  ..., -2.7362e-01,\n",
      "          -8.6081e-02, -1.4757e-01]],\n",
      "\n",
      "        [[ 5.6680e-01, -4.7126e-02,  1.2524e-01,  ...,  2.2788e-01,\n",
      "           9.4252e-02,  5.1968e-01],\n",
      "         [ 7.8048e-01,  1.8721e-01, -1.0006e-01,  ...,  2.0658e-02,\n",
      "          -6.7138e-02, -6.8429e-01]],\n",
      "\n",
      "        ...,\n",
      "\n",
      "        [[-5.4562e-01,  6.3145e-01,  1.0030e+00,  ..., -4.8431e-01,\n",
      "          -1.1648e+00,  3.7028e-01],\n",
      "         [-6.7313e-01, -9.7353e-01,  4.3159e-01,  ...,  7.8226e-01,\n",
      "           1.2261e-03, -8.0800e-01]],\n",
      "\n",
      "        [[ 1.3243e+00, -1.1278e-01, -9.3461e-01,  ..., -6.4764e-02,\n",
      "           1.0429e+00,  8.8325e-01],\n",
      "         [ 6.3424e-01,  1.3377e+00,  1.5744e-01,  ..., -1.2729e+00,\n",
      "          -1.0474e+00, -1.3399e-02]],\n",
      "\n",
      "        [[ 2.9981e-01, -5.7755e-01, -7.9949e-01,  ..., -3.7509e-01,\n",
      "           2.1545e-01, -4.3609e-01],\n",
      "         [ 1.8560e-01,  9.0592e-01, -6.1130e-01,  ...,  1.8949e-01,\n",
      "           5.9962e-01,  8.3324e-01]]])\n"
     ]
    }
   ],
   "source": [
    "from steves_utils.transforms import get_average_magnitude, get_average_power\n",
    "\n",
    "print(set([u for u,_ in val_original_source]))\n",
    "print(set([u for u,_ in val_original_target]))\n",
    "\n",
    "s_x, s_y, q_x, q_y, _ = next(iter(train_processed_source))\n",
    "print(s_x)\n",
    "\n",
    "# for ds in [\n",
    "#     train_processed_source,\n",
    "#     val_processed_source,\n",
    "#     test_processed_source,\n",
    "#     train_processed_target,\n",
    "#     val_processed_target,\n",
    "#     test_processed_target\n",
    "# ]:\n",
    "#     for s_x, s_y, q_x, q_y, _ in ds:\n",
    "#         for X in (s_x, q_x):\n",
    "#             for x in X:\n",
    "#                 assert np.isclose(get_average_magnitude(x.numpy()), 1.0)\n",
    "#                 assert np.isclose(get_average_power(x.numpy()), 1.0)\n",
    "                "
   ]
  },
  {
   "cell_type": "code",
   "execution_count": 21,
   "id": "bbdacba1",
   "metadata": {
    "execution": {
     "iopub.execute_input": "2022-03-21T17:18:54.112116Z",
     "iopub.status.busy": "2022-03-21T17:18:54.111527Z",
     "iopub.status.idle": "2022-03-21T17:18:54.378304Z",
     "shell.execute_reply": "2022-03-21T17:18:54.377889Z"
    },
    "papermill": {
     "duration": 0.294861,
     "end_time": "2022-03-21T17:18:54.378406",
     "exception": false,
     "start_time": "2022-03-21T17:18:54.083545",
     "status": "completed"
    },
    "tags": []
   },
   "outputs": [
    {
     "name": "stdout",
     "output_type": "stream",
     "text": [
      "(2, 256)\n"
     ]
    }
   ],
   "source": [
    "###################################\n",
    "# Build the model\n",
    "###################################\n",
    "# easfsl only wants a tuple for the shape\n",
    "model = Steves_Prototypical_Network(x_net, device=p.device, x_shape=tuple(p.x_shape))\n",
    "optimizer = Adam(params=model.parameters(), lr=p.lr)"
   ]
  },
  {
   "cell_type": "code",
   "execution_count": 22,
   "id": "22b39ac5",
   "metadata": {
    "execution": {
     "iopub.execute_input": "2022-03-21T17:18:54.431886Z",
     "iopub.status.busy": "2022-03-21T17:18:54.431473Z",
     "iopub.status.idle": "2022-03-21T17:40:30.466860Z",
     "shell.execute_reply": "2022-03-21T17:40:30.466470Z"
    },
    "papermill": {
     "duration": 1296.065029,
     "end_time": "2022-03-21T17:40:30.466949",
     "exception": false,
     "start_time": "2022-03-21T17:18:54.401920",
     "status": "completed"
    },
    "tags": []
   },
   "outputs": [
    {
     "name": "stdout",
     "output_type": "stream",
     "text": [
      "epoch: 1, [batch: 1 / 6843], examples_per_second: 30.8587, train_label_loss: 2.6616, \n"
     ]
    },
    {
     "name": "stdout",
     "output_type": "stream",
     "text": [
      "epoch: 1, [batch: 685 / 6843], examples_per_second: 2278.1266, train_label_loss: 0.4947, \n"
     ]
    },
    {
     "name": "stdout",
     "output_type": "stream",
     "text": [
      "epoch: 1, [batch: 1369 / 6843], examples_per_second: 2564.7170, train_label_loss: 0.3609, \n"
     ]
    },
    {
     "name": "stdout",
     "output_type": "stream",
     "text": [
      "epoch: 1, [batch: 2053 / 6843], examples_per_second: 2589.5064, train_label_loss: 0.0093, \n"
     ]
    },
    {
     "name": "stdout",
     "output_type": "stream",
     "text": [
      "epoch: 1, [batch: 2737 / 6843], examples_per_second: 2587.7650, train_label_loss: 0.2251, \n"
     ]
    },
    {
     "name": "stdout",
     "output_type": "stream",
     "text": [
      "epoch: 1, [batch: 3422 / 6843], examples_per_second: 2488.5804, train_label_loss: 0.4158, \n"
     ]
    },
    {
     "name": "stdout",
     "output_type": "stream",
     "text": [
      "epoch: 1, [batch: 4106 / 6843], examples_per_second: 2588.1255, train_label_loss: 0.1881, \n"
     ]
    },
    {
     "name": "stdout",
     "output_type": "stream",
     "text": [
      "epoch: 1, [batch: 4790 / 6843], examples_per_second: 2555.9931, train_label_loss: 0.5805, \n"
     ]
    },
    {
     "name": "stdout",
     "output_type": "stream",
     "text": [
      "epoch: 1, [batch: 5474 / 6843], examples_per_second: 2541.5893, train_label_loss: 0.0907, \n"
     ]
    },
    {
     "name": "stdout",
     "output_type": "stream",
     "text": [
      "epoch: 1, [batch: 6158 / 6843], examples_per_second: 2578.6422, train_label_loss: 0.3154, \n"
     ]
    },
    {
     "name": "stdout",
     "output_type": "stream",
     "text": [
      "=============================================================\n",
      "epoch: 1, source_val_acc_label: 0.9610, target_val_acc_label: 0.2219, source_val_label_loss: 0.1670, target_val_label_loss: 2.4418, \n",
      "=============================================================\n"
     ]
    },
    {
     "name": "stdout",
     "output_type": "stream",
     "text": [
      "New best\n"
     ]
    },
    {
     "name": "stdout",
     "output_type": "stream",
     "text": [
      "epoch: 2, [batch: 1 / 6824], examples_per_second: 2.2553, train_label_loss: 0.0276, \n"
     ]
    },
    {
     "name": "stdout",
     "output_type": "stream",
     "text": [
      "epoch: 2, [batch: 683 / 6824], examples_per_second: 2686.5942, train_label_loss: 0.1874, \n"
     ]
    },
    {
     "name": "stdout",
     "output_type": "stream",
     "text": [
      "epoch: 2, [batch: 1365 / 6824], examples_per_second: 2974.8812, train_label_loss: 0.1988, \n"
     ]
    },
    {
     "name": "stdout",
     "output_type": "stream",
     "text": [
      "epoch: 2, [batch: 2047 / 6824], examples_per_second: 3059.2652, train_label_loss: 0.1806, \n"
     ]
    },
    {
     "name": "stdout",
     "output_type": "stream",
     "text": [
      "epoch: 2, [batch: 2730 / 6824], examples_per_second: 3353.6212, train_label_loss: 0.0145, \n"
     ]
    },
    {
     "name": "stdout",
     "output_type": "stream",
     "text": [
      "epoch: 2, [batch: 3412 / 6824], examples_per_second: 2993.7215, train_label_loss: 0.0177, \n"
     ]
    },
    {
     "name": "stdout",
     "output_type": "stream",
     "text": [
      "epoch: 2, [batch: 4094 / 6824], examples_per_second: 3063.6019, train_label_loss: 0.0209, \n"
     ]
    },
    {
     "name": "stdout",
     "output_type": "stream",
     "text": [
      "epoch: 2, [batch: 4777 / 6824], examples_per_second: 2944.2397, train_label_loss: 0.0765, \n"
     ]
    },
    {
     "name": "stdout",
     "output_type": "stream",
     "text": [
      "epoch: 2, [batch: 5459 / 6824], examples_per_second: 2931.2002, train_label_loss: 0.0159, \n"
     ]
    },
    {
     "name": "stdout",
     "output_type": "stream",
     "text": [
      "epoch: 2, [batch: 6141 / 6824], examples_per_second: 3002.5237, train_label_loss: 0.0703, \n"
     ]
    },
    {
     "name": "stdout",
     "output_type": "stream",
     "text": [
      "=============================================================\n",
      "epoch: 2, source_val_acc_label: 0.9691, target_val_acc_label: 0.1669, source_val_label_loss: 0.1352, target_val_label_loss: 2.6098, \n",
      "=============================================================\n"
     ]
    },
    {
     "name": "stdout",
     "output_type": "stream",
     "text": [
      "epoch: 3, [batch: 1 / 6845], examples_per_second: 2.5292, train_label_loss: 0.0271, \n"
     ]
    },
    {
     "name": "stdout",
     "output_type": "stream",
     "text": [
      "epoch: 3, [batch: 685 / 6845], examples_per_second: 2413.8257, train_label_loss: 0.0139, \n"
     ]
    },
    {
     "name": "stdout",
     "output_type": "stream",
     "text": [
      "epoch: 3, [batch: 1369 / 6845], examples_per_second: 2602.3787, train_label_loss: 0.1762, \n"
     ]
    },
    {
     "name": "stdout",
     "output_type": "stream",
     "text": [
      "epoch: 3, [batch: 2054 / 6845], examples_per_second: 2800.7785, train_label_loss: 0.0773, \n"
     ]
    },
    {
     "name": "stdout",
     "output_type": "stream",
     "text": [
      "epoch: 3, [batch: 2738 / 6845], examples_per_second: 2823.7241, train_label_loss: 0.0109, \n"
     ]
    },
    {
     "name": "stdout",
     "output_type": "stream",
     "text": [
      "epoch: 3, [batch: 3423 / 6845], examples_per_second: 2646.8412, train_label_loss: 0.1676, \n"
     ]
    },
    {
     "name": "stdout",
     "output_type": "stream",
     "text": [
      "epoch: 3, [batch: 4107 / 6845], examples_per_second: 2645.3013, train_label_loss: 0.0113, \n"
     ]
    },
    {
     "name": "stdout",
     "output_type": "stream",
     "text": [
      "epoch: 3, [batch: 4791 / 6845], examples_per_second: 2590.3871, train_label_loss: 0.0675, \n"
     ]
    },
    {
     "name": "stdout",
     "output_type": "stream",
     "text": [
      "epoch: 3, [batch: 5476 / 6845], examples_per_second: 2604.9462, train_label_loss: 0.0063, \n"
     ]
    },
    {
     "name": "stdout",
     "output_type": "stream",
     "text": [
      "epoch: 3, [batch: 6160 / 6845], examples_per_second: 2824.9056, train_label_loss: 0.1307, \n"
     ]
    },
    {
     "name": "stdout",
     "output_type": "stream",
     "text": [
      "=============================================================\n",
      "epoch: 3, source_val_acc_label: 0.9715, target_val_acc_label: 0.1630, source_val_label_loss: 0.1192, target_val_label_loss: 2.6297, \n",
      "=============================================================\n"
     ]
    },
    {
     "name": "stdout",
     "output_type": "stream",
     "text": [
      "epoch: 4, [batch: 1 / 6840], examples_per_second: 2.6829, train_label_loss: 0.0094, \n"
     ]
    },
    {
     "name": "stdout",
     "output_type": "stream",
     "text": [
      "epoch: 4, [batch: 684 / 6840], examples_per_second: 2351.3792, train_label_loss: 0.2221, \n"
     ]
    },
    {
     "name": "stdout",
     "output_type": "stream",
     "text": [
      "epoch: 4, [batch: 1368 / 6840], examples_per_second: 2610.2346, train_label_loss: 0.0459, \n"
     ]
    },
    {
     "name": "stdout",
     "output_type": "stream",
     "text": [
      "epoch: 4, [batch: 2052 / 6840], examples_per_second: 2567.7966, train_label_loss: 0.0017, \n"
     ]
    },
    {
     "name": "stdout",
     "output_type": "stream",
     "text": [
      "epoch: 4, [batch: 2736 / 6840], examples_per_second: 2524.2269, train_label_loss: 0.2149, \n"
     ]
    },
    {
     "name": "stdout",
     "output_type": "stream",
     "text": [
      "epoch: 4, [batch: 3420 / 6840], examples_per_second: 2299.0286, train_label_loss: 0.0642, \n"
     ]
    },
    {
     "name": "stdout",
     "output_type": "stream",
     "text": [
      "epoch: 4, [batch: 4104 / 6840], examples_per_second: 2297.1556, train_label_loss: 0.0116, \n"
     ]
    },
    {
     "name": "stdout",
     "output_type": "stream",
     "text": [
      "epoch: 4, [batch: 4788 / 6840], examples_per_second: 2304.4156, train_label_loss: 0.0913, \n"
     ]
    },
    {
     "name": "stdout",
     "output_type": "stream",
     "text": [
      "epoch: 4, [batch: 5472 / 6840], examples_per_second: 2415.0162, train_label_loss: 0.0180, \n"
     ]
    },
    {
     "name": "stdout",
     "output_type": "stream",
     "text": [
      "epoch: 4, [batch: 6156 / 6840], examples_per_second: 2591.2353, train_label_loss: 0.0871, \n"
     ]
    },
    {
     "name": "stdout",
     "output_type": "stream",
     "text": [
      "=============================================================\n",
      "epoch: 4, source_val_acc_label: 0.9727, target_val_acc_label: 0.1626, source_val_label_loss: 0.1207, target_val_label_loss: 2.6930, \n",
      "=============================================================\n"
     ]
    },
    {
     "name": "stdout",
     "output_type": "stream",
     "text": [
      "epoch: 5, [batch: 1 / 6843], examples_per_second: 2.1041, train_label_loss: 0.1657, \n"
     ]
    },
    {
     "name": "stdout",
     "output_type": "stream",
     "text": [
      "epoch: 5, [batch: 685 / 6843], examples_per_second: 2371.7322, train_label_loss: 0.0021, \n"
     ]
    },
    {
     "name": "stdout",
     "output_type": "stream",
     "text": [
      "epoch: 5, [batch: 1369 / 6843], examples_per_second: 2583.0454, train_label_loss: 0.1821, \n"
     ]
    },
    {
     "name": "stdout",
     "output_type": "stream",
     "text": [
      "epoch: 5, [batch: 2053 / 6843], examples_per_second: 2614.6535, train_label_loss: 0.0033, \n"
     ]
    },
    {
     "name": "stdout",
     "output_type": "stream",
     "text": [
      "epoch: 5, [batch: 2737 / 6843], examples_per_second: 2479.8760, train_label_loss: 0.0065, \n"
     ]
    },
    {
     "name": "stdout",
     "output_type": "stream",
     "text": [
      "epoch: 5, [batch: 3422 / 6843], examples_per_second: 2306.7905, train_label_loss: 0.2862, \n"
     ]
    },
    {
     "name": "stdout",
     "output_type": "stream",
     "text": [
      "epoch: 5, [batch: 4106 / 6843], examples_per_second: 2324.9728, train_label_loss: 0.0695, \n"
     ]
    },
    {
     "name": "stdout",
     "output_type": "stream",
     "text": [
      "epoch: 5, [batch: 4790 / 6843], examples_per_second: 2374.9016, train_label_loss: 0.0012, \n"
     ]
    },
    {
     "name": "stdout",
     "output_type": "stream",
     "text": [
      "epoch: 5, [batch: 5474 / 6843], examples_per_second: 2585.6480, train_label_loss: 0.0008, \n"
     ]
    },
    {
     "name": "stdout",
     "output_type": "stream",
     "text": [
      "epoch: 5, [batch: 6158 / 6843], examples_per_second: 2592.0365, train_label_loss: 0.0732, \n"
     ]
    },
    {
     "name": "stdout",
     "output_type": "stream",
     "text": [
      "=============================================================\n",
      "epoch: 5, source_val_acc_label: 0.9742, target_val_acc_label: 0.1466, source_val_label_loss: 0.1149, target_val_label_loss: 2.8825, \n",
      "=============================================================\n"
     ]
    },
    {
     "name": "stdout",
     "output_type": "stream",
     "text": [
      "Patience (3) exhausted\n"
     ]
    }
   ],
   "source": [
    "###################################\n",
    "# train\n",
    "###################################\n",
    "jig = PTN_Train_Eval_Test_Jig(model, p.BEST_MODEL_PATH, p.device)\n",
    "\n",
    "jig.train(\n",
    "    train_iterable=datasets.source.processed.train,\n",
    "    source_val_iterable=datasets.source.processed.val,\n",
    "    target_val_iterable=datasets.target.processed.val,\n",
    "    num_epochs=p.n_epoch,\n",
    "    num_logs_per_epoch=p.NUM_LOGS_PER_EPOCH,\n",
    "    patience=p.patience,\n",
    "    optimizer=optimizer,\n",
    "    criteria_for_best=p.criteria_for_best,\n",
    ")"
   ]
  },
  {
   "cell_type": "code",
   "execution_count": 23,
   "id": "31e8fabf",
   "metadata": {
    "execution": {
     "iopub.execute_input": "2022-03-21T17:40:30.551243Z",
     "iopub.status.busy": "2022-03-21T17:40:30.550873Z",
     "iopub.status.idle": "2022-03-21T17:40:30.584011Z",
     "shell.execute_reply": "2022-03-21T17:40:30.583135Z"
    },
    "papermill": {
     "duration": 0.076682,
     "end_time": "2022-03-21T17:40:30.584173",
     "exception": false,
     "start_time": "2022-03-21T17:40:30.507491",
     "status": "completed"
    },
    "tags": []
   },
   "outputs": [],
   "source": [
    "total_experiment_time_secs = time.time() - start_time_secs"
   ]
  },
  {
   "cell_type": "code",
   "execution_count": 24,
   "id": "87b9595b",
   "metadata": {
    "execution": {
     "iopub.execute_input": "2022-03-21T17:40:30.674429Z",
     "iopub.status.busy": "2022-03-21T17:40:30.673339Z",
     "iopub.status.idle": "2022-03-21T17:45:01.350789Z",
     "shell.execute_reply": "2022-03-21T17:45:01.351465Z"
    },
    "papermill": {
     "duration": 270.722317,
     "end_time": "2022-03-21T17:45:01.351724",
     "exception": false,
     "start_time": "2022-03-21T17:40:30.629407",
     "status": "completed"
    },
    "tags": []
   },
   "outputs": [],
   "source": [
    "###################################\n",
    "# Evaluate the model\n",
    "###################################\n",
    "source_test_label_accuracy, source_test_label_loss = jig.test(datasets.source.processed.test)\n",
    "target_test_label_accuracy, target_test_label_loss = jig.test(datasets.target.processed.test)\n",
    "\n",
    "source_val_label_accuracy, source_val_label_loss = jig.test(datasets.source.processed.val)\n",
    "target_val_label_accuracy, target_val_label_loss = jig.test(datasets.target.processed.val)\n",
    "\n",
    "history = jig.get_history()\n",
    "\n",
    "total_epochs_trained = len(history[\"epoch_indices\"])\n",
    "\n",
    "val_dl = Iterable_Aggregator((datasets.source.original.val,datasets.target.original.val))\n",
    "\n",
    "confusion = ptn_confusion_by_domain_over_dataloader(model, p.device, val_dl)\n",
    "per_domain_accuracy = per_domain_accuracy_from_confusion(confusion)\n",
    "\n",
    "# Add a key to per_domain_accuracy for if it was a source domain\n",
    "for domain, accuracy in per_domain_accuracy.items():\n",
    "    per_domain_accuracy[domain] = {\n",
    "        \"accuracy\": accuracy,\n",
    "        \"source?\": domain in p.domains_source\n",
    "    }\n",
    "\n",
    "# Do an independent accuracy assesment JUST TO BE SURE!\n",
    "# _source_test_label_accuracy = independent_accuracy_assesment(model, datasets.source.processed.test, p.device)\n",
    "# _target_test_label_accuracy = independent_accuracy_assesment(model, datasets.target.processed.test, p.device)\n",
    "# _source_val_label_accuracy = independent_accuracy_assesment(model, datasets.source.processed.val, p.device)\n",
    "# _target_val_label_accuracy = independent_accuracy_assesment(model, datasets.target.processed.val, p.device)\n",
    "\n",
    "# assert(_source_test_label_accuracy == source_test_label_accuracy)\n",
    "# assert(_target_test_label_accuracy == target_test_label_accuracy)\n",
    "# assert(_source_val_label_accuracy == source_val_label_accuracy)\n",
    "# assert(_target_val_label_accuracy == target_val_label_accuracy)\n",
    "\n",
    "experiment = {\n",
    "    \"experiment_name\": p.experiment_name,\n",
    "    \"parameters\": dict(p),\n",
    "    \"results\": {\n",
    "        \"source_test_label_accuracy\": source_test_label_accuracy,\n",
    "        \"source_test_label_loss\": source_test_label_loss,\n",
    "        \"target_test_label_accuracy\": target_test_label_accuracy,\n",
    "        \"target_test_label_loss\": target_test_label_loss,\n",
    "        \"source_val_label_accuracy\": source_val_label_accuracy,\n",
    "        \"source_val_label_loss\": source_val_label_loss,\n",
    "        \"target_val_label_accuracy\": target_val_label_accuracy,\n",
    "        \"target_val_label_loss\": target_val_label_loss,\n",
    "        \"total_epochs_trained\": total_epochs_trained,\n",
    "        \"total_experiment_time_secs\": total_experiment_time_secs,\n",
    "        \"confusion\": confusion,\n",
    "        \"per_domain_accuracy\": per_domain_accuracy,\n",
    "    },\n",
    "    \"history\": history,\n",
    "    \"dataset_metrics\": get_dataset_metrics(datasets, \"ptn\"),\n",
    "}"
   ]
  },
  {
   "cell_type": "code",
   "execution_count": 25,
   "id": "54a21829",
   "metadata": {
    "execution": {
     "iopub.execute_input": "2022-03-21T17:45:01.440226Z",
     "iopub.status.busy": "2022-03-21T17:45:01.439854Z",
     "iopub.status.idle": "2022-03-21T17:45:01.659117Z",
     "shell.execute_reply": "2022-03-21T17:45:01.659824Z"
    },
    "papermill": {
     "duration": 0.262617,
     "end_time": "2022-03-21T17:45:01.660018",
     "exception": false,
     "start_time": "2022-03-21T17:45:01.397401",
     "status": "completed"
    },
    "tags": []
   },
   "outputs": [
    {
     "data": {
      "image/png": "[encoded data removed]",
      "text/plain": [
       "<Figure size 1080x504 with 1 Axes>"
      ]
     },
     "metadata": {
      "needs_background": "light"
     },
     "output_type": "display_data"
    }
   ],
   "source": [
    "ax = get_loss_curve(experiment)\n",
    "plt.show()"
   ]
  },
  {
   "cell_type": "code",
   "execution_count": 26,
   "id": "fd8a0f60",
   "metadata": {
    "execution": {
     "iopub.execute_input": "2022-03-21T17:45:01.748910Z",
     "iopub.status.busy": "2022-03-21T17:45:01.748534Z",
     "iopub.status.idle": "2022-03-21T17:45:02.084776Z",
     "shell.execute_reply": "2022-03-21T17:45:02.084370Z"
    },
    "papermill": {
     "duration": 0.38054,
     "end_time": "2022-03-21T17:45:02.084870",
     "exception": false,
     "start_time": "2022-03-21T17:45:01.704330",
     "status": "completed"
    },
    "tags": []
   },
   "outputs": [
    {
     "data": {
      "text/plain": [
       "<AxesSubplot:title={'center':'Results'}>"
      ]
     },
     "execution_count": 26,
     "metadata": {},
     "output_type": "execute_result"
    },
    {
     "data": {
      "image/png": "[encoded data removed]",
      "text/plain": [
       "<Figure size 1080x504 with 1 Axes>"
      ]
     },
     "metadata": {
      "needs_background": "light"
     },
     "output_type": "display_data"
    }
   ],
   "source": [
    "get_results_table(experiment)"
   ]
  },
  {
   "cell_type": "code",
   "execution_count": 27,
   "id": "cf8dc689",
   "metadata": {
    "execution": {
     "iopub.execute_input": "2022-03-21T17:45:02.171600Z",
     "iopub.status.busy": "2022-03-21T17:45:02.171208Z",
     "iopub.status.idle": "2022-03-21T17:45:02.424221Z",
     "shell.execute_reply": "2022-03-21T17:45:02.423803Z"
    },
    "papermill": {
     "duration": 0.298341,
     "end_time": "2022-03-21T17:45:02.424317",
     "exception": false,
     "start_time": "2022-03-21T17:45:02.125976",
     "status": "completed"
    },
    "tags": []
   },
   "outputs": [
    {
     "data": {
      "text/plain": [
       "<AxesSubplot:title={'center':'Per Domain Validation Accuracy'}, xlabel='domain'>"
      ]
     },
     "execution_count": 27,
     "metadata": {},
     "output_type": "execute_result"
    },
    {
     "data": {
      "image/png": "[encoded data removed]",
      "text/plain": [
       "<Figure size 1080x504 with 1 Axes>"
      ]
     },
     "metadata": {
      "needs_background": "light"
     },
     "output_type": "display_data"
    }
   ],
   "source": [
    "get_domain_accuracies(experiment)"
   ]
  },
  {
   "cell_type": "code",
   "execution_count": 28,
   "id": "a74ae082",
   "metadata": {
    "execution": {
     "iopub.execute_input": "2022-03-21T17:45:02.515590Z",
     "iopub.status.busy": "2022-03-21T17:45:02.515198Z",
     "iopub.status.idle": "2022-03-21T17:45:02.544604Z",
     "shell.execute_reply": "2022-03-21T17:45:02.543795Z"
    },
    "papermill": {
     "duration": 0.077298,
     "end_time": "2022-03-21T17:45:02.544792",
     "exception": false,
     "start_time": "2022-03-21T17:45:02.467494",
     "status": "completed"
    },
    "tags": []
   },
   "outputs": [
    {
     "name": "stdout",
     "output_type": "stream",
     "text": [
      "Source Test Label Accuracy: 0.9606062564632886 Target Test Label Accuracy: 0.22106119791666667\n",
      "Source Val Label Accuracy: 0.9610363924050633 Target Val Label Accuracy: 0.221875\n"
     ]
    }
   ],
   "source": [
    "print(\"Source Test Label Accuracy:\", experiment[\"results\"][\"source_test_label_accuracy\"], \"Target Test Label Accuracy:\", experiment[\"results\"][\"target_test_label_accuracy\"])\n",
    "print(\"Source Val Label Accuracy:\", experiment[\"results\"][\"source_val_label_accuracy\"], \"Target Val Label Accuracy:\", experiment[\"results\"][\"target_val_label_accuracy\"])"
   ]
  },
  {
   "cell_type": "code",
   "execution_count": 29,
   "id": "dacca602",
   "metadata": {
    "execution": {
     "iopub.execute_input": "2022-03-21T17:45:02.639229Z",
     "iopub.status.busy": "2022-03-21T17:45:02.638856Z",
     "iopub.status.idle": "2022-03-21T17:45:02.667091Z",
     "shell.execute_reply": "2022-03-21T17:45:02.667827Z"
    },
    "papermill": {
     "duration": 0.075281,
     "end_time": "2022-03-21T17:45:02.668015",
     "exception": false,
     "start_time": "2022-03-21T17:45:02.592734",
     "status": "completed"
    },
    "tags": [
     "experiment_json"
    ]
   },
   "outputs": [
    {
     "data": {
      "text/plain": [
       "'{\"experiment_name\": \"tl_1v2:wisig-oracle.run1.framed\", \"parameters\": {\"experiment_name\": \"tl_1v2:wisig-oracle.run1.framed\", \"device\": \"cuda\", \"lr\": 0.0001, \"n_shot\": 3, \"n_query\": 2, \"train_k_factor\": 3, \"val_k_factor\": 2, \"test_k_factor\": 2, \"torch_default_dtype\": \"torch.float32\", \"n_epoch\": 50, \"patience\": 3, \"criteria_for_best\": \"target_accuracy\", \"x_net\": [{\"class\": \"nnReshape\", \"kargs\": {\"shape\": [-1, 1, 2, 256]}}, {\"class\": \"Conv2d\", \"kargs\": {\"in_channels\": 1, \"out_channels\": 256, \"kernel_size\": [1, 7], \"bias\": false, \"padding\": [0, 3]}}, {\"class\": \"ReLU\", \"kargs\": {\"inplace\": true}}, {\"class\": \"BatchNorm2d\", \"kargs\": {\"num_features\": 256}}, {\"class\": \"Conv2d\", \"kargs\": {\"in_channels\": 256, \"out_channels\": 80, \"kernel_size\": [2, 7], \"bias\": true, \"padding\": [0, 3]}}, {\"class\": \"ReLU\", \"kargs\": {\"inplace\": true}}, {\"class\": \"BatchNorm2d\", \"kargs\": {\"num_features\": 80}}, {\"class\": \"Flatten\", \"kargs\": {}}, {\"class\": \"Linear\", \"kargs\": {\"in_features\": 20480, \"out_features\": 256}}, {\"class\": \"ReLU\", \"kargs\": {\"inplace\": true}}, {\"class\": \"BatchNorm1d\", \"kargs\": {\"num_features\": 256}}, {\"class\": \"Linear\", \"kargs\": {\"in_features\": 256, \"out_features\": 256}}], \"NUM_LOGS_PER_EPOCH\": 10, \"BEST_MODEL_PATH\": \"./best_model.pth\", \"n_way\": 16, \"datasets\": [{\"labels\": [\"1-10\", \"1-12\", \"1-14\", \"1-16\", \"1-18\", \"1-19\", \"1-8\", \"10-11\", \"10-17\", \"10-4\", \"10-7\", \"11-1\", \"11-10\", \"11-19\", \"11-20\", \"11-4\", \"11-7\", \"12-19\", \"12-20\", \"12-7\", \"13-14\", \"13-18\", \"13-19\", \"13-20\", \"13-3\", \"13-7\", \"14-10\", \"14-11\", \"14-12\", \"14-13\", \"14-14\", \"14-19\", \"14-20\", \"14-7\", \"14-8\", \"14-9\", \"15-1\", \"15-19\", \"15-6\", \"16-1\", \"16-16\", \"16-19\", \"16-20\", \"17-10\", \"17-11\", \"18-1\", \"18-10\", \"18-11\", \"18-12\", \"18-13\", \"18-14\", \"18-15\", \"18-16\", \"18-17\", \"18-19\", \"18-2\", \"18-20\", \"18-4\", \"18-5\", \"18-7\", \"18-8\", \"18-9\", \"19-1\", \"19-10\", \"19-11\", \"19-12\", \"19-13\", \"19-14\", \"19-15\", \"19-19\", \"19-2\", \"19-20\", \"19-3\", \"19-4\", \"19-6\", \"19-7\", \"19-8\", \"19-9\", \"2-1\", \"2-13\", \"2-15\", \"2-3\", \"2-4\", \"2-5\", \"2-6\", \"2-7\", \"2-8\", \"20-1\", \"20-12\", \"20-14\", \"20-15\", \"20-16\", \"20-18\", \"20-19\", \"20-20\", \"20-3\", \"20-4\", \"20-5\", \"20-7\", \"20-8\", \"3-1\", \"3-13\", \"3-18\", \"3-2\", \"3-8\", \"4-1\", \"4-10\", \"4-11\", \"5-1\", \"5-5\", \"6-1\", \"6-15\", \"6-6\", \"7-10\", \"7-11\", \"7-12\", \"7-13\", \"7-14\", \"7-7\", \"7-8\", \"7-9\", \"8-1\", \"8-13\", \"8-14\", \"8-18\", \"8-20\", \"8-3\", \"8-8\", \"9-1\", \"9-7\"], \"domains\": [1, 2, 3, 4], \"num_examples_per_domain_per_label\": -1, \"pickle_path\": \"/root/csc500-main/datasets/wisig.node3-19.stratified_ds.2022A.pkl\", \"source_or_target_dataset\": \"source\", \"x_transforms\": [\"unit_mag\"], \"episode_transforms\": [], \"domain_prefix\": \"Wisig_\"}, {\"labels\": [\"3123D52\", \"3123D65\", \"3123D79\", \"3123D80\", \"3123D54\", \"3123D70\", \"3123D7B\", \"3123D89\", \"3123D58\", \"3123D76\", \"3123D7D\", \"3123EFE\", \"3123D64\", \"3123D78\", \"3123D7E\", \"3124E4A\"], \"domains\": [32, 38, 8, 44, 14, 50, 20, 26], \"num_examples_per_domain_per_label\": 2000, \"pickle_path\": \"/root/csc500-main/datasets/oracle.Run1_framed_2000Examples_stratified_ds.2022A.pkl\", \"source_or_target_dataset\": \"target\", \"x_transforms\": [\"unit_mag\"], \"episode_transforms\": [], \"domain_prefix\": \"ORACLE.run1\"}], \"dataset_seed\": 500, \"seed\": 500, \"x_shape\": [2, 256], \"domains_source\": [\"Wisig_1\", \"Wisig_2\", \"Wisig_3\", \"Wisig_4\"], \"domains_target\": [\"ORACLE.run132\", \"ORACLE.run138\", \"ORACLE.run18\", \"ORACLE.run144\", \"ORACLE.run114\", \"ORACLE.run150\", \"ORACLE.run120\", \"ORACLE.run126\"]}, \"results\": {\"source_test_label_accuracy\": 0.9606062564632886, \"source_test_label_loss\": 0.17209671437740326, \"target_test_label_accuracy\": 0.22106119791666667, \"target_test_label_loss\": 2.4400198459625244, \"source_val_label_accuracy\": 0.9610363924050633, \"source_val_label_loss\": 0.16703951358795166, \"target_val_label_accuracy\": 0.221875, \"target_val_label_loss\": 2.4418389797210693, \"total_epochs_trained\": 5, \"total_experiment_time_secs\": 1356.5223906040192, \"confusion\": {\"Wisig_3\": {\"99\": {\"99\": 34, \"25\": 1, \"112\": 1}, \"8\": {\"8\": 124}, \"65\": {\"39\": 1, \"65\": 11}, \"117\": {\"117\": 110, \"39\": 1, \"3\": 1}, \"18\": {\"18\": 121, \"116\": 1, \"39\": 1, \"126\": 1}, \"39\": {\"39\": 107, \"16\": 1}, \"102\": {\"102\": 124}, \"76\": {\"47\": 1, \"76\": 15}, \"101\": {\"101\": 51, \"94\": 1}, \"57\": {\"57\": 20}, \"86\": {\"86\": 27, \"101\": 1}, \"11\": {\"11\": 129, \"110\": 2, \"70\": 1}, \"98\": {\"98\": 127, \"90\": 1}, \"42\": {\"42\": 25, \"49\": 2, \"88\": 1}, \"47\": {\"47\": 12}, \"49\": {\"42\": 2, \"49\": 21, \"70\": 1}, \"111\": {\"111\": 131, \"124\": 1}, \"36\": {\"36\": 112, \"27\": 4}, \"124\": {\"124\": 104, \"92\": 1, \"90\": 1}, \"122\": {\"122\": 55, \"21\": 1, \"18\": 1, \"70\": 2, \"30\": 1}, \"93\": {\"93\": 142}, \"89\": {\"89\": 28}, \"51\": {\"51\": 16}, \"73\": {\"73\": 40}, \"45\": {\"45\": 16}, \"5\": {\"5\": 107, \"97\": 1, \"71\": 1, \"93\": 1, \"101\": 1, \"62\": 1}, \"69\": {\"69\": 82, \"113\": 1, \"106\": 1}, \"26\": {\"26\": 130}, \"1\": {\"1\": 107, \"39\": 1}, \"92\": {\"92\": 32}, \"96\": {\"96\": 20}, \"85\": {\"85\": 36}, \"114\": {\"114\": 125, \"128\": 1}, \"50\": {\"50\": 16}, \"81\": {\"81\": 32}, \"2\": {\"2\": 26, \"92\": 1, \"26\": 1}, \"33\": {\"33\": 145, \"21\": 1}, \"31\": {\"31\": 20}, \"90\": {\"90\": 116, \"98\": 1, \"26\": 1}, \"17\": {\"86\": 2, \"23\": 3, \"63\": 1, \"43\": 1, \"17\": 7, \"127\": 1, \"105\": 1}, \"116\": {\"116\": 22, \"60\": 2, \"33\": 1, \"29\": 1, \"92\": 1, \"82\": 1}, \"91\": {\"91\": 23, \"12\": 1}, \"120\": {\"120\": 20}, \"128\": {\"128\": 27, \"91\": 1, \"56\": 1, \"30\": 2, \"29\": 1}, \"78\": {\"128\": 1, \"78\": 11, \"84\": 1, \"5\": 1, \"92\": 2}, \"58\": {\"58\": 16}, \"23\": {\"23\": 23, \"60\": 4, \"52\": 1, \"123\": 2, \"29\": 1, \"19\": 1}, \"15\": {\"15\": 102, \"10\": 1, \"26\": 1}, \"74\": {\"74\": 16}, \"34\": {\"34\": 24, \"6\": 2, \"82\": 1, \"125\": 1, \"66\": 1, \"43\": 1, \"91\": 2}, \"103\": {\"103\": 16}, \"106\": {\"106\": 100}, \"44\": {\"44\": 70, \"64\": 1, \"113\": 1}, \"9\": {\"9\": 30, \"2\": 1, \"80\": 1}, \"97\": {\"97\": 20}, \"123\": {\"123\": 14, \"86\": 1, \"29\": 1}, \"6\": {\"6\": 24, \"101\": 1, \"98\": 3, \"90\": 1, \"34\": 1, \"91\": 1, \"73\": 1}, \"68\": {\"68\": 16}, \"24\": {\"24\": 46, \"27\": 2}, \"21\": {\"21\": 45, \"92\": 1, \"81\": 1, \"31\": 1}, \"83\": {\"83\": 22, \"30\": 1, \"113\": 1}, \"60\": {\"60\": 23, \"19\": 2, \"70\": 1, \"49\": 1, \"110\": 1}, \"87\": {\"87\": 120}, \"30\": {\"30\": 80, \"116\": 1, \"98\": 1, \"118\": 1, \"69\": 1}, \"43\": {\"43\": 51, \"33\": 2, \"73\": 1, \"21\": 2}, \"115\": {\"115\": 16}, \"40\": {\"40\": 119, \"62\": 1}, \"112\": {\"112\": 14, \"48\": 1, \"59\": 1}, \"66\": {\"66\": 16}, \"110\": {\"110\": 91, \"73\": 1}, \"3\": {\"3\": 112, \"94\": 1, \"12\": 1}, \"20\": {\"20\": 16}, \"28\": {\"28\": 16}, \"84\": {\"84\": 104, \"39\": 1, \"109\": 1, \"26\": 1, \"16\": 1}, \"79\": {\"79\": 12}, \"118\": {\"118\": 98, \"98\": 1, \"70\": 1}, \"56\": {\"56\": 10, \"70\": 1, \"21\": 1}, \"48\": {\"48\": 11, \"20\": 2, \"13\": 1, \"37\": 1, \"79\": 1}, \"77\": {\"77\": 16}, \"14\": {\"14\": 80}, \"64\": {\"64\": 20}, \"67\": {\"67\": 15, \"16\": 1}, \"62\": {\"62\": 124}, \"75\": {\"75\": 16}, \"63\": {\"63\": 13, \"100\": 1, \"60\": 1, \"116\": 1}, \"7\": {\"7\": 112}, \"125\": {\"125\": 101, \"113\": 1, \"31\": 1, \"98\": 1}, \"37\": {\"37\": 16}, \"121\": {\"121\": 22, \"23\": 2, \"13\": 1, \"27\": 1, \"19\": 1, \"48\": 1, \"113\": 1, \"18\": 1, \"11\": 2}, \"16\": {\"16\": 101, \"3\": 1, \"94\": 2}, \"35\": {\"35\": 11, \"70\": 1}, \"32\": {\"32\": 30, \"57\": 1, \"14\": 1}, \"46\": {\"46\": 16}, \"70\": {\"70\": 69, \"71\": 1, \"47\": 1, \"81\": 1}, \"129\": {\"129\": 31, \"110\": 1}, \"95\": {\"95\": 31, \"70\": 1}, \"72\": {\"72\": 28}, \"19\": {\"19\": 32}, \"52\": {\"52\": 16}, \"100\": {\"100\": 15, \"69\": 1}, \"104\": {\"104\": 16}, \"59\": {\"59\": 12}, \"109\": {\"109\": 124, \"118\": 1, \"62\": 1}, \"88\": {\"88\": 107, \"81\": 1}, \"27\": {\"27\": 84, \"21\": 1, \"36\": 6, \"94\": 2, \"110\": 1}, \"113\": {\"113\": 118, \"127\": 1, \"110\": 1}, \"105\": {\"105\": 124}, \"71\": {\"71\": 67, \"39\": 1}, \"108\": {\"108\": 123, \"70\": 1}, \"41\": {\"41\": 16}, \"80\": {\"80\": 15, \"19\": 1}, \"13\": {\"44\": 1, \"13\": 7, \"18\": 2, \"115\": 1, \"118\": 2, \"48\": 1, \"120\": 1, \"21\": 1}, \"55\": {\"55\": 16}, \"0\": {\"0\": 103, \"39\": 1, \"98\": 1, \"90\": 1}, \"25\": {\"25\": 16}, \"53\": {\"53\": 20}, \"61\": {\"61\": 16}, \"38\": {\"38\": 16}, \"127\": {\"127\": 124, \"49\": 1, \"39\": 1, \"113\": 1, \"84\": 1}, \"4\": {\"4\": 94, \"73\": 1, \"26\": 1}, \"12\": {\"12\": 104}, \"126\": {\"126\": 121, \"88\": 1, \"70\": 1, \"18\": 1}, \"29\": {\"29\": 32}, \"107\": {\"107\": 135, \"124\": 1}, \"82\": {\"82\": 28}, \"94\": {\"94\": 83, \"18\": 1}, \"54\": {\"54\": 16}, \"10\": {\"10\": 127, \"106\": 1}, \"22\": {\"22\": 16}, \"119\": {\"119\": 16}}, \"Wisig_2\": {\"73\": {\"73\": 27, \"96\": 1}, \"40\": {\"40\": 127, \"36\": 1, \"16\": 1, \"3\": 1, \"26\": 1, \"69\": 1}, \"99\": {\"99\": 29, \"83\": 1, \"48\": 1, \"27\": 1}, \"5\": {\"5\": 107, \"69\": 1, \"105\": 1, \"39\": 1, \"88\": 1, \"106\": 1}, \"108\": {\"108\": 132}, \"128\": {\"53\": 1, \"128\": 14, \"29\": 2, \"71\": 2, \"5\": 2, \"19\": 1, \"25\": 1, \"0\": 1}, \"89\": {\"89\": 35, \"40\": 1}, \"107\": {\"107\": 49, \"128\": 1, \"118\": 2, \"94\": 2, \"21\": 2, \"2\": 1, \"70\": 1, \"59\": 1, \"4\": 2, \"71\": 1, \"101\": 1, \"40\": 1}, \"2\": {\"2\": 28, \"113\": 1, \"117\": 1, \"93\": 1, \"39\": 1}, \"78\": {\"78\": 40, \"21\": 3, \"56\": 1, \"43\": 1, \"40\": 1, \"70\": 2}, \"85\": {\"85\": 32}, \"44\": {\"44\": 100}, \"58\": {\"58\": 19, \"103\": 1}, \"57\": {\"57\": 18, \"10\": 1, \"87\": 1}, \"41\": {\"41\": 19, \"13\": 1}, \"53\": {\"53\": 16}, \"14\": {\"14\": 40, \"93\": 1, \"24\": 1, \"10\": 1, \"2\": 1, \"94\": 1, \"74\": 1, \"21\": 1, \"71\": 1}, \"83\": {\"83\": 38, \"69\": 1, \"118\": 1}, \"119\": {\"119\": 20}, \"95\": {\"95\": 35, \"87\": 1}, \"28\": {\"28\": 19, \"24\": 1}, \"19\": {\"19\": 28}, \"69\": {\"69\": 125, \"105\": 1, \"7\": 2, \"3\": 2, \"13\": 1, \"40\": 1}, \"93\": {\"93\": 132, \"58\": 1, \"98\": 1}, \"9\": {\"9\": 32}, \"118\": {\"118\": 66, \"14\": 1, \"1\": 1}, \"43\": {\"43\": 112, \"60\": 1, \"14\": 1, \"94\": 1, \"105\": 1}, \"47\": {\"47\": 12}, \"125\": {\"125\": 144}, \"29\": {\"29\": 32}, \"122\": {\"122\": 135, \"40\": 1, \"70\": 1, \"105\": 1, \"11\": 1, \"26\": 1}, \"46\": {\"46\": 16}, \"86\": {\"86\": 32}, \"70\": {\"70\": 109, \"80\": 1, \"87\": 1, \"60\": 2, \"93\": 1, \"21\": 3, \"107\": 1, \"39\": 1, \"18\": 1, \"19\": 1, \"3\": 1, \"15\": 1, \"7\": 1}, \"51\": {\"51\": 17, \"21\": 2, \"10\": 1}, \"23\": {\"23\": 32, \"8\": 1, \"83\": 1, \"29\": 3, \"19\": 1, \"70\": 2, \"97\": 1, \"110\": 1, \"44\": 2}, \"121\": {\"121\": 28, \"120\": 1, \"113\": 1, \"89\": 1, \"124\": 1, \"9\": 1, \"98\": 2, \"83\": 1}, \"63\": {\"46\": 1, \"63\": 17, \"13\": 1, \"49\": 1}, \"102\": {\"102\": 121, \"40\": 1}, \"21\": {\"21\": 45, \"70\": 1, \"26\": 1, \"36\": 1}, \"55\": {\"55\": 14, \"116\": 1, \"62\": 1}, \"54\": {\"54\": 20}, \"6\": {\"6\": 30, \"51\": 1, \"34\": 1}, \"109\": {\"109\": 94, \"118\": 2, \"75\": 1, \"107\": 1, \"88\": 1, \"39\": 1}, \"64\": {\"128\": 1, \"64\": 15}, \"20\": {\"20\": 16}, \"98\": {\"98\": 112, \"13\": 1, \"26\": 1}, \"92\": {\"92\": 26, \"13\": 1, \"31\": 1}, \"35\": {\"35\": 12}, \"113\": {\"113\": 64, \"128\": 1, \"73\": 1, \"69\": 1, \"24\": 1, \"11\": 2, \"39\": 1, \"21\": 1}, \"71\": {\"71\": 96, \"118\": 1, \"13\": 1, \"87\": 2}, \"94\": {\"94\": 55, \"71\": 1, \"87\": 2, \"3\": 1, \"69\": 2, \"89\": 1, \"16\": 1, \"106\": 1}, \"52\": {\"52\": 19, \"70\": 1}, \"116\": {\"116\": 25, \"87\": 1, \"34\": 1, \"82\": 1}, \"87\": {\"87\": 102, \"94\": 1, \"60\": 2, \"109\": 1, \"43\": 3, \"19\": 1, \"105\": 1, \"117\": 1}, \"90\": {\"90\": 148}, \"91\": {\"91\": 27, \"23\": 1}, \"84\": {\"84\": 87, \"71\": 1, \"107\": 1, \"7\": 1, \"11\": 1, \"1\": 1}, \"24\": {\"24\": 102, \"69\": 1, \"12\": 1, \"27\": 1, \"94\": 2, \"0\": 1, \"36\": 1, \"106\": 1, \"117\": 1, \"30\": 1}, \"33\": {\"33\": 131, \"87\": 1, \"69\": 2}, \"81\": {\"81\": 23, \"87\": 1}, \"115\": {\"115\": 10, \"70\": 1, \"13\": 1}, \"77\": {\"77\": 16}, \"106\": {\"106\": 117, \"21\": 1, \"87\": 1, \"14\": 1}, \"42\": {\"42\": 21, \"108\": 2, \"81\": 1, \"11\": 1, \"59\": 1, \"112\": 1, \"61\": 1}, \"38\": {\"38\": 16}, \"36\": {\"36\": 105, \"68\": 1, \"14\": 1, \"2\": 1, \"39\": 1, \"105\": 1, \"113\": 1, \"87\": 1, \"24\": 1, \"16\": 1}, \"79\": {\"79\": 16}, \"60\": {\"116\": 1, \"60\": 20, \"70\": 2, \"107\": 1, \"46\": 2, \"83\": 1, \"87\": 1}, \"80\": {\"80\": 15, \"29\": 1}, \"32\": {\"32\": 34, \"14\": 2}, \"0\": {\"0\": 116}, \"127\": {\"127\": 121, \"111\": 2, \"24\": 1}, \"114\": {\"114\": 114, \"60\": 1, \"109\": 1}, \"62\": {\"62\": 138, \"21\": 1, \"87\": 1}, \"129\": {\"129\": 32}, \"56\": {\"56\": 12}, \"76\": {\"76\": 16}, \"72\": {\"72\": 26, \"21\": 1, \"115\": 1}, \"88\": {\"88\": 122, \"71\": 1, \"11\": 1}, \"68\": {\"68\": 14, \"21\": 1, \"39\": 1}, \"67\": {\"67\": 13, \"82\": 1, \"75\": 2}, \"100\": {\"100\": 16}, \"34\": {\"34\": 20, \"14\": 1, \"86\": 2, \"91\": 2, \"21\": 1, \"32\": 1, \"13\": 1, \"52\": 2, \"66\": 1, \"82\": 1}, \"16\": {\"16\": 123, \"70\": 1}, \"126\": {\"126\": 120}, \"4\": {\"4\": 84, \"120\": 1, \"14\": 1, \"69\": 1, \"107\": 1}, \"101\": {\"101\": 146}, \"104\": {\"104\": 18, \"88\": 1, \"39\": 1}, \"30\": {\"67\": 1, \"30\": 105, \"0\": 2, \"106\": 1, \"40\": 1}, \"8\": {\"8\": 126, \"66\": 1, \"117\": 1}, \"82\": {\"82\": 34, \"16\": 1, \"7\": 1}, \"26\": {\"26\": 129, \"87\": 1, \"69\": 3, \"113\": 1, \"24\": 1, \"39\": 1, \"1\": 1, \"40\": 1}, \"96\": {\"96\": 19, \"72\": 1}, \"3\": {\"3\": 133, \"39\": 2, \"111\": 1}, \"25\": {\"25\": 14, \"21\": 1, \"78\": 1}, \"13\": {\"13\": 11, \"21\": 1, \"16\": 1, \"49\": 1, \"82\": 2}, \"37\": {\"37\": 15, \"13\": 1}, \"49\": {\"49\": 17, \"16\": 1, \"11\": 4, \"19\": 1, \"61\": 1}, \"111\": {\"111\": 136}, \"105\": {\"105\": 131, \"7\": 1}, \"17\": {\"17\": 14, \"87\": 1, \"70\": 1}, \"65\": {\"65\": 18, \"57\": 1, \"73\": 1}, \"123\": {\"123\": 15, \"22\": 1}, \"74\": {\"74\": 14, \"11\": 1, \"17\": 1}, \"97\": {\"97\": 17, \"32\": 1, \"109\": 1, \"91\": 1}, \"112\": {\"112\": 11, \"3\": 1, \"108\": 3, \"59\": 1}, \"120\": {\"120\": 20}, \"50\": {\"50\": 14, \"109\": 1, \"80\": 1}, \"59\": {\"59\": 15, \"24\": 1}, \"10\": {\"10\": 57, \"81\": 1, \"12\": 1, \"49\": 1}, \"45\": {\"45\": 15, \"59\": 1}, \"12\": {\"12\": 85, \"21\": 2, \"87\": 1}, \"75\": {\"75\": 16}, \"48\": {\"48\": 20}, \"61\": {\"61\": 17, \"10\": 1, \"36\": 1, \"94\": 1}, \"124\": {\"124\": 123, \"26\": 1}, \"11\": {\"11\": 77, \"117\": 1, \"126\": 1, \"69\": 1}, \"103\": {\"103\": 14, \"31\": 1, \"109\": 1}, \"7\": {\"7\": 129, \"87\": 1, \"110\": 1, \"15\": 1}, \"18\": {\"18\": 117, \"26\": 2, \"71\": 1}, \"31\": {\"31\": 19, \"118\": 1}, \"15\": {\"15\": 115, \"40\": 1, \"3\": 1, \"111\": 1}, \"1\": {\"1\": 119, \"94\": 1, \"39\": 1, \"75\": 1}, \"66\": {\"66\": 19, \"72\": 1}, \"110\": {\"110\": 31, \"81\": 1, \"111\": 1, \"24\": 2, \"122\": 2, \"18\": 1, \"27\": 1, \"87\": 1}, \"27\": {\"27\": 58, \"36\": 2, \"58\": 1, \"94\": 1, \"71\": 2, \"10\": 1, \"11\": 2, \"26\": 1}, \"22\": {\"22\": 18, \"16\": 1, \"75\": 1}, \"117\": {\"117\": 117, \"30\": 1, \"15\": 2}, \"39\": {\"39\": 106, \"21\": 1, \"26\": 1}}, \"Wisig_1\": {\"60\": {\"60\": 10, \"34\": 2, \"83\": 1, \"109\": 1, \"119\": 1, \"23\": 1}, \"59\": {\"60\": 1, \"59\": 10, \"28\": 1}, \"107\": {\"107\": 122, \"12\": 1, \"69\": 1}, \"113\": {\"113\": 123, \"12\": 1}, \"6\": {\"6\": 26, \"49\": 1, \"12\": 1, \"98\": 1, \"46\": 1, \"59\": 1, \"23\": 1}, \"24\": {\"24\": 89, \"108\": 1, \"88\": 1, \"3\": 1}, \"50\": {\"50\": 15, \"30\": 1}, \"62\": {\"62\": 119, \"1\": 1}, \"48\": {\"48\": 12}, \"104\": {\"104\": 16}, \"105\": {\"105\": 77, \"40\": 5, \"65\": 1, \"88\": 1}, \"44\": {\"44\": 76}, \"49\": {\"49\": 14, \"128\": 2, \"111\": 1, \"101\": 2, \"12\": 1}, \"55\": {\"55\": 12}, \"4\": {\"4\": 100}, \"76\": {\"76\": 16}, \"85\": {\"85\": 32}, \"89\": {\"89\": 36}, \"74\": {\"74\": 16}, \"112\": {\"112\": 16}, \"79\": {\"79\": 12}, \"0\": {\"0\": 83, \"112\": 1}, \"91\": {\"91\": 22, \"112\": 1, \"51\": 1, \"75\": 1, \"61\": 2, \"52\": 1}, \"118\": {\"118\": 83, \"94\": 1}, \"80\": {\"80\": 16}, \"64\": {\"64\": 16}, \"97\": {\"97\": 17, \"88\": 3}, \"84\": {\"84\": 124}, \"38\": {\"38\": 16}, \"30\": {\"30\": 51, \"5\": 1}, \"32\": {\"32\": 27, \"65\": 1, \"110\": 2, \"86\": 2}, \"72\": {\"72\": 32}, \"33\": {\"33\": 130, \"14\": 1, \"70\": 1}, \"34\": {\"34\": 26, \"91\": 2, \"98\": 3, \"86\": 1}, \"28\": {\"28\": 20}, \"123\": {\"123\": 15, \"83\": 1}, \"2\": {\"2\": 22, \"83\": 1, \"95\": 2, \"129\": 1, \"42\": 1, \"96\": 1, \"13\": 1, \"82\": 1, \"114\": 1, \"12\": 1}, \"70\": {\"70\": 120, \"128\": 2, \"49\": 1, \"12\": 1}, \"127\": {\"127\": 107, \"78\": 1}, \"110\": {\"110\": 125, \"39\": 1, \"113\": 1, \"94\": 1}, \"126\": {\"126\": 134, \"109\": 2}, \"13\": {\"13\": 16}, \"15\": {\"15\": 98, \"111\": 5, \"94\": 1}, \"29\": {\"29\": 28}, \"18\": {\"18\": 119, \"23\": 1}, \"7\": {\"7\": 142}, \"56\": {\"56\": 12}, \"98\": {\"98\": 108}, \"99\": {\"99\": 24}, \"77\": {\"77\": 15, \"20\": 1}, \"103\": {\"6\": 1, \"103\": 14, \"94\": 1}, \"128\": {\"128\": 20, \"49\": 1, \"72\": 1, \"42\": 1, \"5\": 1}, \"3\": {\"3\": 84, \"71\": 1, \"127\": 2, \"15\": 1}, \"121\": {\"121\": 32}, \"42\": {\"42\": 20, \"128\": 2, \"109\": 3, \"119\": 2, \"95\": 1}, \"90\": {\"90\": 120}, \"37\": {\"37\": 16}, \"120\": {\"128\": 1, \"120\": 17, \"94\": 1, \"127\": 1}, \"117\": {\"117\": 118}, \"9\": {\"9\": 32}, \"108\": {\"108\": 122, \"47\": 1, \"88\": 1}, \"83\": {\"83\": 26, \"61\": 2}, \"14\": {\"14\": 95, \"65\": 1}, \"63\": {\"63\": 16}, \"11\": {\"11\": 117, \"26\": 1}, \"95\": {\"95\": 36}, \"26\": {\"26\": 128, \"88\": 1, \"65\": 1}, \"22\": {\"22\": 15, \"98\": 1}, \"102\": {\"102\": 120}, \"69\": {\"69\": 100, \"94\": 1, \"12\": 1, \"39\": 3, \"71\": 1}, \"1\": {\"1\": 130}, \"67\": {\"67\": 16}, \"57\": {\"57\": 12}, \"8\": {\"8\": 132, \"40\": 1, \"49\": 1}, \"109\": {\"109\": 120, \"126\": 1, \"94\": 1, \"108\": 1, \"69\": 1}, \"129\": {\"129\": 26, \"13\": 1, \"2\": 1}, \"111\": {\"111\": 120}, \"71\": {\"71\": 101, \"102\": 2, \"109\": 1, \"113\": 2, \"26\": 1, \"124\": 1}, \"47\": {\"47\": 12}, \"82\": {\"82\": 35, \"81\": 1}, \"27\": {\"27\": 91, \"108\": 1}, \"19\": {\"19\": 28}, \"122\": {\"87\": 1, \"122\": 86, \"21\": 1}, \"53\": {\"53\": 20}, \"87\": {\"87\": 106, \"108\": 1, \"37\": 1}, \"100\": {\"100\": 16}, \"66\": {\"66\": 16}, \"31\": {\"31\": 16}, \"58\": {\"58\": 11, \"106\": 1}, \"68\": {\"68\": 16}, \"88\": {\"88\": 111, \"12\": 1, \"106\": 1, \"70\": 1}, \"45\": {\"128\": 2, \"45\": 4, \"109\": 2, \"53\": 1, \"124\": 1, \"49\": 1, \"120\": 1}, \"114\": {\"114\": 128}, \"23\": {\"58\": 4, \"23\": 17, \"65\": 1, \"60\": 2}, \"65\": {\"50\": 1, \"65\": 7, \"43\": 1, \"63\": 1, \"78\": 1, \"18\": 1}, \"124\": {\"124\": 118}, \"10\": {\"10\": 115, \"118\": 1, \"70\": 1, \"26\": 1, \"85\": 1, \"12\": 1}, \"92\": {\"92\": 28}, \"40\": {\"40\": 138, \"105\": 4, \"71\": 1, \"16\": 1}, \"73\": {\"73\": 18, \"94\": 1, \"30\": 1}, \"94\": {\"94\": 92}, \"81\": {\"81\": 28}, \"101\": {\"101\": 108, \"18\": 1, \"39\": 1}, \"86\": {\"86\": 33, \"69\": 1, \"128\": 1, \"6\": 1}, \"78\": {\"78\": 10, \"87\": 2, \"40\": 3, \"22\": 1}, \"96\": {\"96\": 20}, \"5\": {\"5\": 84, \"12\": 1, \"108\": 1, \"49\": 1, \"39\": 1}, \"16\": {\"16\": 104, \"10\": 1, \"30\": 1, \"88\": 1, \"69\": 1}, \"35\": {\"35\": 12}, \"51\": {\"51\": 16}, \"46\": {\"46\": 9, \"88\": 1, \"12\": 1, \"25\": 1}, \"20\": {\"20\": 16}, \"116\": {\"116\": 30, \"61\": 1, \"94\": 1}, \"75\": {\"75\": 16}, \"43\": {\"43\": 125, \"26\": 2, \"61\": 1}, \"17\": {\"17\": 16}, \"12\": {\"12\": 103, \"108\": 1}, \"25\": {\"25\": 16}, \"54\": {\"54\": 15, \"3\": 1}, \"36\": {\"36\": 105, \"127\": 1, \"113\": 1, \"88\": 4, \"71\": 1}, \"52\": {\"52\": 20}, \"61\": {\"61\": 12}, \"106\": {\"106\": 120}, \"39\": {\"39\": 100, \"10\": 1, \"122\": 1, \"21\": 1, \"87\": 1}, \"119\": {\"119\": 16}, \"125\": {\"125\": 148}, \"93\": {\"93\": 147, \"3\": 1}, \"115\": {\"115\": 12}, \"21\": {\"21\": 33, \"94\": 1, \"122\": 1, \"82\": 1, \"28\": 1, \"30\": 1, \"12\": 1, \"83\": 1}, \"41\": {\"41\": 16}}, \"Wisig_4\": {\"55\": {\"55\": 16}, \"9\": {\"9\": 28}, \"70\": {\"70\": 116, \"39\": 1, \"88\": 4, \"69\": 1}, \"112\": {\"112\": 16}, \"115\": {\"115\": 10, \"13\": 1, \"25\": 1, \"99\": 1, \"85\": 1, \"64\": 1, \"128\": 1}, \"56\": {\"56\": 11, \"72\": 1}, \"108\": {\"111\": 1, \"108\": 81, \"25\": 1, \"129\": 1, \"0\": 1, \"21\": 1, \"39\": 1, \"27\": 2, \"20\": 1, \"24\": 1, \"98\": 1}, \"117\": {\"117\": 122, \"110\": 1, \"22\": 1}, \"111\": {\"111\": 130, \"127\": 1, \"3\": 1}, \"71\": {\"71\": 95, \"67\": 1, \"114\": 2, \"26\": 1, \"122\": 1, \"36\": 1, \"33\": 1, \"10\": 1, \"126\": 1}, \"59\": {\"59\": 10, \"94\": 2}, \"10\": {\"10\": 120, \"15\": 3, \"1\": 1}, \"83\": {\"83\": 28}, \"116\": {\"116\": 27, \"72\": 1}, \"13\": {\"13\": 16}, \"4\": {\"4\": 103, \"126\": 1}, \"125\": {\"125\": 104, \"98\": 1, \"124\": 1}, \"102\": {\"102\": 122, \"105\": 1, \"108\": 1}, \"47\": {\"47\": 12}, \"28\": {\"28\": 20}, \"82\": {\"82\": 30, \"124\": 1, \"78\": 1}, \"60\": {\"60\": 32}, \"107\": {\"107\": 129, \"21\": 1, \"122\": 2, \"78\": 1, \"62\": 1}, \"75\": {\"75\": 16}, \"31\": {\"31\": 16}, \"92\": {\"92\": 28}, \"58\": {\"58\": 16}, \"113\": {\"113\": 123, \"84\": 2, \"26\": 1, \"4\": 1, \"1\": 1}, \"95\": {\"95\": 31, \"47\": 1}, \"14\": {\"14\": 109, \"126\": 1, \"111\": 1, \"118\": 1}, \"17\": {\"17\": 20}, \"104\": {\"104\": 16}, \"72\": {\"72\": 29, \"128\": 2, \"19\": 1}, \"69\": {\"69\": 123, \"88\": 1, \"118\": 1, \"21\": 1, \"7\": 1, \"16\": 1}, \"63\": {\"63\": 16}, \"12\": {\"12\": 97, \"118\": 1, \"19\": 1, \"62\": 1}, \"25\": {\"25\": 16}, \"67\": {\"67\": 6, \"69\": 1, \"76\": 1, \"44\": 1, \"40\": 2, \"92\": 2, \"123\": 2, \"78\": 1}, \"50\": {\"50\": 16}, \"43\": {\"43\": 115, \"23\": 1, \"70\": 1, \"129\": 1, \"118\": 2}, \"96\": {\"96\": 20}, \"128\": {\"128\": 21, \"72\": 1, \"78\": 1, \"129\": 1}, \"77\": {\"77\": 12}, \"54\": {\"54\": 16}, \"118\": {\"118\": 104, \"57\": 1, \"106\": 1, \"15\": 1, \"1\": 1, \"26\": 2, \"127\": 1, \"62\": 1}, \"30\": {\"30\": 72, \"10\": 4}, \"51\": {\"51\": 13, \"41\": 1, \"30\": 1, \"25\": 1}, \"122\": {\"122\": 78, \"107\": 1, \"126\": 1, \"88\": 1, \"30\": 1, \"111\": 1, \"7\": 1}, \"46\": {\"46\": 19, \"20\": 1}, \"79\": {\"79\": 16}, \"103\": {\"103\": 16}, \"74\": {\"118\": 1, \"74\": 15}, \"90\": {\"90\": 146}, \"8\": {\"8\": 139, \"71\": 1, \"26\": 1, \"114\": 1}, \"94\": {\"94\": 84, \"1\": 1, \"15\": 1, \"111\": 1, \"69\": 1}, \"7\": {\"7\": 119, \"36\": 1, \"0\": 1, \"24\": 1}, \"61\": {\"61\": 16}, \"26\": {\"26\": 119, \"30\": 1}, \"127\": {\"127\": 107, \"26\": 1}, \"23\": {\"23\": 12, \"21\": 1, \"122\": 1, \"111\": 1, \"68\": 1}, \"1\": {\"1\": 105, \"43\": 1, \"23\": 1, \"10\": 1}, \"93\": {\"93\": 133, \"110\": 1}, \"106\": {\"106\": 106, \"118\": 2, \"18\": 1, \"84\": 2, \"39\": 1, \"109\": 1, \"2\": 1, \"62\": 1, \"26\": 1}, \"110\": {\"110\": 117, \"39\": 1}, \"76\": {\"76\": 16}, \"36\": {\"36\": 115, \"97\": 1, \"24\": 2, \"94\": 1, \"1\": 1}, \"21\": {\"21\": 37, \"84\": 1, \"78\": 1, \"62\": 1}, \"37\": {\"37\": 16}, \"11\": {\"11\": 119, \"110\": 1}, \"109\": {\"109\": 112, \"24\": 1, \"14\": 1, \"118\": 1, \"16\": 1}, \"62\": {\"21\": 1, \"62\": 55, \"81\": 1, \"113\": 2, \"26\": 1}, \"89\": {\"89\": 31, \"51\": 1}, \"126\": {\"126\": 112, \"39\": 6, \"113\": 3, \"84\": 1, \"16\": 1, \"93\": 1}, \"101\": {\"101\": 122, \"15\": 1, \"4\": 1, \"0\": 1, \"88\": 1, \"108\": 1, \"84\": 1}, \"65\": {\"65\": 12}, \"19\": {\"19\": 26, \"100\": 2}, \"27\": {\"27\": 96, \"129\": 1, \"122\": 1, \"24\": 1, \"70\": 1}, \"5\": {\"5\": 133, \"23\": 1, \"71\": 1, \"118\": 1}, \"73\": {\"73\": 24}, \"6\": {\"6\": 21, \"10\": 2, \"58\": 1}, \"29\": {\"29\": 32}, \"114\": {\"114\": 127, \"113\": 1}, \"49\": {\"49\": 22, \"70\": 4, \"10\": 1, \"53\": 2, \"51\": 1, \"111\": 2}, \"16\": {\"16\": 115, \"70\": 1, \"20\": 1, \"69\": 1}, \"68\": {\"68\": 16}, \"98\": {\"98\": 117, \"16\": 1, \"101\": 1, \"113\": 1}, \"64\": {\"64\": 16}, \"121\": {\"90\": 3, \"121\": 13, \"116\": 1, \"48\": 1, \"98\": 2, \"113\": 1, \"38\": 1, \"96\": 1, \"92\": 1, \"44\": 3, \"56\": 1, \"65\": 2, \"89\": 2}, \"124\": {\"124\": 114}, \"97\": {\"97\": 20}, \"40\": {\"40\": 135, \"105\": 1}, \"119\": {\"119\": 16}, \"100\": {\"100\": 19, \"91\": 1}, \"87\": {\"87\": 116}, \"88\": {\"88\": 114, \"112\": 1, \"73\": 1, \"108\": 3, \"70\": 5, \"26\": 1, \"105\": 1, \"21\": 1, \"113\": 1}, \"52\": {\"52\": 17, \"16\": 1, \"31\": 1, \"35\": 1}, \"80\": {\"80\": 15, \"78\": 1}, \"105\": {\"105\": 94, \"87\": 1, \"69\": 1, \"26\": 1, \"118\": 1, \"4\": 1, \"5\": 1}, \"32\": {\"14\": 6, \"32\": 19, \"118\": 2, \"100\": 1}, \"35\": {\"35\": 12}, \"99\": {\"99\": 40}, \"18\": {\"18\": 118, \"7\": 1, \"30\": 1}, \"24\": {\"24\": 110, \"36\": 2}, \"85\": {\"85\": 27, \"26\": 1}, \"39\": {\"39\": 92, \"81\": 4, \"118\": 1, \"3\": 1, \"5\": 1, \"113\": 1}, \"123\": {\"123\": 16}, \"91\": {\"91\": 23, \"78\": 1}, \"78\": {\"78\": 25, \"21\": 3, \"100\": 1, \"105\": 1, \"122\": 2, \"39\": 1, \"2\": 1, \"26\": 1, \"107\": 1}, \"38\": {\"38\": 16}, \"15\": {\"15\": 124, \"84\": 1, \"18\": 1, \"26\": 1, \"105\": 1}, \"48\": {\"48\": 16}, \"45\": {\"45\": 16}, \"120\": {\"120\": 20}, \"44\": {\"44\": 63, \"113\": 1}, \"86\": {\"86\": 27, \"21\": 1}, \"20\": {\"20\": 16}, \"33\": {\"33\": 146, \"90\": 1, \"21\": 1, \"102\": 1, \"10\": 1}, \"129\": {\"129\": 23, \"73\": 4, \"108\": 1}, \"34\": {\"34\": 17, \"128\": 1, \"75\": 1, \"45\": 2, \"32\": 2, \"91\": 2, \"94\": 1, \"104\": 2, \"25\": 2, \"85\": 1, \"129\": 1}, \"81\": {\"81\": 35, \"21\": 1}, \"57\": {\"57\": 12, \"21\": 1, \"128\": 2, \"100\": 1}, \"0\": {\"0\": 113, \"26\": 1, \"95\": 1, \"118\": 1}, \"2\": {\"2\": 28}, \"42\": {\"42\": 21, \"70\": 1, \"73\": 2, \"106\": 1, \"61\": 1, \"8\": 2}, \"84\": {\"84\": 128, \"2\": 1, \"30\": 1, \"26\": 1, \"98\": 1}, \"3\": {\"3\": 119, \"21\": 1, \"69\": 1, \"76\": 1, \"12\": 1, \"84\": 1, \"24\": 1, \"98\": 1}, \"41\": {\"41\": 15, \"100\": 1}, \"53\": {\"53\": 15, \"122\": 1}, \"66\": {\"66\": 16}, \"22\": {\"22\": 16}}, \"ORACLE.run150\": {\"7\": {\"4\": 22, \"3\": 6, \"14\": 2, \"6\": 21, \"1\": 19, \"5\": 42, \"13\": 37, \"7\": 39, \"0\": 10, \"10\": 23, \"11\": 4, \"15\": 8, \"8\": 6, \"9\": 1}, \"10\": {\"0\": 35, \"13\": 20, \"5\": 14, \"6\": 11, \"1\": 3, \"10\": 50, \"2\": 18, \"7\": 21, \"8\": 43, \"14\": 6, \"4\": 3, \"3\": 14, \"15\": 2}, \"0\": {\"14\": 17, \"8\": 23, \"2\": 51, \"10\": 44, \"5\": 6, \"0\": 59, \"6\": 5, \"3\": 11, \"13\": 6, \"7\": 4, \"12\": 5, \"1\": 6, \"4\": 1, \"15\": 1, \"11\": 1}, \"11\": {\"13\": 9, \"6\": 17, \"5\": 15, \"12\": 16, \"9\": 45, \"1\": 26, \"15\": 31, \"11\": 46, \"4\": 22, \"14\": 9, \"7\": 3, \"10\": 1}, \"2\": {\"2\": 77, \"0\": 53, \"8\": 28, \"7\": 4, \"10\": 19, \"14\": 24, \"1\": 3, \"12\": 12, \"13\": 5, \"4\": 1, \"6\": 4, \"9\": 4, \"5\": 1, \"3\": 2, \"11\": 2, \"15\": 1}, \"14\": {\"8\": 1, \"15\": 6, \"14\": 60, \"4\": 7, \"12\": 44, \"6\": 20, \"7\": 7, \"11\": 15, \"9\": 18, \"13\": 11, \"2\": 14, \"0\": 11, \"1\": 16, \"10\": 9, \"5\": 1}, \"9\": {\"1\": 20, \"14\": 25, \"11\": 46, \"9\": 60, \"15\": 22, \"12\": 31, \"6\": 10, \"4\": 14, \"13\": 6, \"5\": 5, \"7\": 1}, \"13\": {\"13\": 36, \"6\": 32, \"7\": 36, \"1\": 18, \"10\": 24, \"5\": 41, \"14\": 9, \"3\": 3, \"2\": 1, \"0\": 7, \"4\": 18, \"8\": 5, \"11\": 4, \"15\": 5, \"12\": 1}, \"8\": {\"10\": 42, \"5\": 3, \"8\": 90, \"3\": 44, \"2\": 18, \"13\": 1, \"0\": 39, \"7\": 3}, \"15\": {\"6\": 28, \"15\": 44, \"5\": 18, \"11\": 42, \"1\": 31, \"13\": 11, \"9\": 22, \"4\": 24, \"12\": 6, \"14\": 4, \"7\": 8, \"10\": 1, \"2\": 1}, \"4\": {\"4\": 44, \"1\": 31, \"13\": 20, \"11\": 25, \"7\": 20, \"5\": 24, \"10\": 4, \"9\": 10, \"14\": 9, \"15\": 27, \"6\": 19, \"12\": 7}, \"5\": {\"13\": 38, \"4\": 38, \"5\": 42, \"10\": 13, \"7\": 36, \"6\": 23, \"3\": 4, \"15\": 10, \"1\": 19, \"11\": 6, \"14\": 2, \"8\": 1, \"9\": 3, \"0\": 2, \"2\": 3}, \"3\": {\"8\": 65, \"5\": 3, \"3\": 145, \"2\": 2, \"13\": 2, \"10\": 16, \"7\": 4, \"0\": 3}, \"1\": {\"0\": 6, \"6\": 24, \"11\": 25, \"15\": 23, \"9\": 22, \"5\": 21, \"7\": 13, \"14\": 12, \"1\": 25, \"13\": 24, \"10\": 4, \"4\": 31, \"12\": 9, \"2\": 1}, \"6\": {\"10\": 10, \"1\": 31, \"4\": 24, \"6\": 37, \"5\": 22, \"13\": 28, \"12\": 6, \"14\": 14, \"7\": 20, \"15\": 17, \"9\": 8, \"0\": 5, \"8\": 3, \"11\": 12, \"3\": 1, \"2\": 2}, \"12\": {\"0\": 5, \"6\": 11, \"11\": 22, \"2\": 15, \"14\": 70, \"12\": 60, \"13\": 2, \"9\": 28, \"15\": 6, \"4\": 5, \"1\": 10, \"5\": 4, \"10\": 2}}, \"ORACLE.run114\": {\"14\": {\"6\": 30, \"2\": 31, \"4\": 14, \"15\": 10, \"10\": 12, \"3\": 20, \"13\": 33, \"14\": 47, \"5\": 19, \"7\": 11, \"11\": 2, \"0\": 6, \"1\": 5}, \"6\": {\"2\": 31, \"5\": 11, \"6\": 48, \"15\": 22, \"13\": 50, \"14\": 38, \"7\": 7, \"0\": 2, \"11\": 3, \"10\": 4, \"4\": 9, \"3\": 12, \"1\": 3}, \"5\": {\"7\": 27, \"13\": 14, \"3\": 26, \"1\": 28, \"5\": 28, \"14\": 19, \"2\": 23, \"0\": 17, \"10\": 14, \"15\": 13, \"11\": 7, \"4\": 16, \"6\": 7, \"9\": 1}, \"15\": {\"6\": 17, \"13\": 26, \"15\": 53, \"14\": 9, \"4\": 17, \"2\": 24, \"7\": 36, \"5\": 32, \"3\": 12, \"1\": 7, \"10\": 3, \"0\": 4}, \"11\": {\"15\": 1, \"0\": 44, \"14\": 8, \"11\": 54, \"10\": 24, \"9\": 26, \"7\": 5, \"3\": 19, \"8\": 5, \"1\": 8, \"5\": 10, \"4\": 15, \"13\": 6, \"2\": 7, \"12\": 5, \"6\": 3}, \"8\": {\"0\": 8, \"8\": 87, \"12\": 17, \"9\": 56, \"7\": 10, \"1\": 26, \"3\": 6, \"11\": 14, \"5\": 5, \"10\": 7, \"4\": 4}, \"12\": {\"9\": 73, \"12\": 98, \"8\": 38, \"10\": 6, \"11\": 16, \"1\": 2, \"0\": 4, \"4\": 1, \"3\": 2}, \"1\": {\"1\": 46, \"7\": 37, \"5\": 33, \"3\": 23, \"2\": 6, \"0\": 20, \"13\": 4, \"15\": 8, \"8\": 7, \"4\": 23, \"9\": 3, \"11\": 9, \"14\": 9, \"10\": 11, \"6\": 1}, \"2\": {\"1\": 11, \"15\": 17, \"14\": 36, \"13\": 38, \"5\": 23, \"7\": 12, \"0\": 7, \"6\": 18, \"11\": 1, \"3\": 23, \"10\": 12, \"4\": 14, \"2\": 28}, \"13\": {\"6\": 44, \"13\": 51, \"14\": 37, \"15\": 18, \"3\": 14, \"4\": 11, \"7\": 7, \"2\": 21, \"5\": 15, \"1\": 4, \"10\": 13, \"11\": 2, \"0\": 3}, \"3\": {\"0\": 27, \"3\": 34, \"10\": 22, \"15\": 6, \"14\": 18, \"13\": 12, \"4\": 24, \"8\": 2, \"5\": 30, \"2\": 13, \"11\": 14, \"7\": 12, \"1\": 19, \"6\": 7}, \"0\": {\"6\": 5, \"11\": 36, \"15\": 2, \"14\": 7, \"9\": 8, \"10\": 34, \"0\": 46, \"5\": 17, \"2\": 12, \"3\": 22, \"1\": 19, \"4\": 15, \"8\": 4, \"13\": 4, \"12\": 3, \"7\": 6}, \"9\": {\"4\": 2, \"9\": 64, \"0\": 10, \"12\": 63, \"8\": 52, \"11\": 25, \"10\": 10, \"3\": 5, \"7\": 2, \"1\": 6, \"5\": 1}, \"4\": {\"1\": 28, \"15\": 13, \"2\": 17, \"13\": 7, \"3\": 30, \"4\": 30, \"6\": 11, \"0\": 18, \"5\": 26, \"7\": 21, \"11\": 9, \"10\": 19, \"9\": 2, \"14\": 9}, \"7\": {\"13\": 5, \"1\": 29, \"7\": 56, \"3\": 23, \"5\": 34, \"2\": 13, \"15\": 32, \"0\": 2, \"10\": 8, \"4\": 24, \"14\": 9, \"11\": 1, \"6\": 4}, \"10\": {\"6\": 7, \"4\": 26, \"10\": 38, \"3\": 29, \"14\": 14, \"15\": 5, \"11\": 33, \"7\": 5, \"0\": 28, \"2\": 14, \"5\": 16, \"13\": 12, \"1\": 11, \"9\": 2}}, \"ORACLE.run132\": {\"4\": {\"0\": 38, \"3\": 4, \"5\": 21, \"4\": 40, \"7\": 33, \"9\": 7, \"2\": 38, \"8\": 12, \"14\": 20, \"13\": 13, \"11\": 13, \"12\": 1}, \"14\": {\"13\": 25, \"2\": 17, \"11\": 38, \"7\": 37, \"4\": 25, \"0\": 22, \"5\": 24, \"3\": 9, \"9\": 1, \"14\": 29, \"8\": 13}, \"5\": {\"13\": 37, \"5\": 32, \"4\": 35, \"7\": 22, \"8\": 27, \"2\": 13, \"14\": 18, \"3\": 23, \"0\": 16, \"9\": 1, \"11\": 15, \"15\": 1}, \"10\": {\"1\": 46, \"6\": 13, \"12\": 21, \"10\": 160}, \"13\": {\"13\": 46, \"5\": 28, \"0\": 25, \"4\": 25, \"14\": 18, \"8\": 31, \"3\": 23, \"7\": 16, \"11\": 19, \"2\": 7, \"9\": 1, \"15\": 1}, \"9\": {\"9\": 89, \"4\": 14, \"12\": 54, \"7\": 9, \"2\": 47, \"10\": 4, \"6\": 6, \"0\": 11, \"14\": 1, \"11\": 4, \"13\": 1}, \"6\": {\"6\": 163, \"1\": 22, \"10\": 28, \"12\": 23, \"9\": 4}, \"3\": {\"13\": 42, \"8\": 45, \"3\": 81, \"14\": 14, \"15\": 12, \"5\": 30, \"11\": 5, \"7\": 3, \"0\": 3, \"4\": 4, \"2\": 1}, \"15\": {\"15\": 176, \"8\": 21, \"3\": 30, \"5\": 7, \"13\": 4, \"0\": 2}, \"7\": {\"9\": 6, \"4\": 35, \"5\": 25, \"11\": 31, \"7\": 26, \"13\": 20, \"2\": 35, \"0\": 21, \"8\": 7, \"14\": 26, \"3\": 8}, \"12\": {\"12\": 116, \"9\": 66, \"10\": 31, \"4\": 4, \"6\": 12, \"2\": 7, \"8\": 1, \"5\": 1, \"14\": 1, \"0\": 1}, \"8\": {\"8\": 40, \"11\": 15, \"5\": 39, \"14\": 9, \"0\": 23, \"3\": 45, \"15\": 13, \"13\": 36, \"4\": 12, \"7\": 7, \"2\": 1}, \"11\": {\"13\": 27, \"3\": 10, \"0\": 17, \"4\": 22, \"7\": 40, \"8\": 17, \"14\": 33, \"5\": 24, \"2\": 11, \"11\": 38, \"9\": 1}, \"2\": {\"2\": 50, \"3\": 2, \"0\": 19, \"7\": 39, \"4\": 39, \"14\": 28, \"12\": 2, \"11\": 11, \"9\": 26, \"13\": 7, \"5\": 13, \"8\": 4}, \"1\": {\"1\": 153, \"6\": 17, \"10\": 68, \"12\": 2}, \"0\": {\"4\": 24, \"3\": 7, \"0\": 40, \"7\": 25, \"14\": 25, \"8\": 18, \"13\": 22, \"11\": 24, \"9\": 4, \"5\": 27, \"2\": 23, \"12\": 1}}, \"ORACLE.run144\": {\"8\": {\"0\": 85, \"15\": 51, \"8\": 72, \"5\": 25, \"14\": 4, \"4\": 3}, \"11\": {\"13\": 43, \"7\": 10, \"6\": 44, \"10\": 8, \"11\": 109, \"9\": 11, \"2\": 12, \"12\": 1, \"14\": 2}, \"14\": {\"14\": 63, \"15\": 33, \"13\": 2, \"5\": 43, \"4\": 51, \"0\": 18, \"9\": 9, \"1\": 3, \"7\": 5, \"3\": 8, \"8\": 4, \"2\": 1}, \"10\": {\"3\": 6, \"1\": 25, \"10\": 57, \"9\": 22, \"12\": 33, \"2\": 43, \"11\": 2, \"6\": 11, \"13\": 11, \"7\": 30}, \"3\": {\"3\": 90, \"13\": 4, \"1\": 39, \"12\": 31, \"9\": 15, \"4\": 9, \"2\": 14, \"7\": 17, \"10\": 12, \"14\": 8, \"15\": 1}, \"15\": {\"8\": 39, \"0\": 44, \"5\": 49, \"4\": 18, \"15\": 60, \"14\": 28, \"3\": 2}, \"2\": {\"6\": 23, \"10\": 34, \"2\": 46, \"12\": 27, \"1\": 25, \"9\": 20, \"13\": 24, \"7\": 28, \"11\": 3, \"3\": 7, \"4\": 3}, \"12\": {\"10\": 36, \"1\": 39, \"6\": 2, \"12\": 73, \"9\": 10, \"3\": 29, \"2\": 29, \"7\": 17, \"13\": 4, \"4\": 1}, \"4\": {\"14\": 69, \"4\": 62, \"13\": 6, \"8\": 4, \"5\": 25, \"3\": 20, \"15\": 22, \"2\": 3, \"0\": 5, \"9\": 8, \"7\": 7, \"12\": 3, \"6\": 1, \"1\": 5}, \"1\": {\"12\": 49, \"1\": 45, \"2\": 27, \"10\": 23, \"9\": 22, \"3\": 33, \"7\": 25, \"6\": 5, \"13\": 5, \"4\": 3, \"14\": 3}, \"0\": {\"5\": 35, \"8\": 56, \"0\": 74, \"15\": 58, \"14\": 14, \"4\": 3}, \"9\": {\"6\": 19, \"9\": 39, \"11\": 3, \"12\": 13, \"1\": 24, \"13\": 28, \"7\": 49, \"3\": 10, \"2\": 33, \"10\": 13, \"4\": 5, \"14\": 4}, \"5\": {\"5\": 71, \"4\": 34, \"8\": 26, \"0\": 33, \"14\": 40, \"15\": 33, \"12\": 1, \"9\": 1, \"3\": 1}, \"6\": {\"12\": 5, \"6\": 52, \"7\": 32, \"10\": 16, \"2\": 33, \"9\": 36, \"13\": 39, \"3\": 2, \"11\": 21, \"1\": 4}, \"7\": {\"13\": 32, \"10\": 22, \"11\": 4, \"7\": 37, \"12\": 25, \"9\": 29, \"6\": 19, \"3\": 12, \"1\": 20, \"2\": 38, \"4\": 1, \"14\": 1}, \"13\": {\"3\": 2, \"12\": 8, \"2\": 27, \"4\": 6, \"9\": 38, \"6\": 42, \"13\": 39, \"10\": 13, \"7\": 37, \"11\": 16, \"1\": 8, \"14\": 3, \"5\": 1}}, \"ORACLE.run18\": {\"13\": {\"0\": 36, \"13\": 33, \"4\": 29, \"7\": 26, \"2\": 10, \"5\": 19, \"10\": 20, \"14\": 19, \"11\": 13, \"6\": 13, \"1\": 15, \"3\": 2, \"8\": 2, \"12\": 2, \"15\": 1}, \"3\": {\"2\": 37, \"12\": 47, \"11\": 5, \"3\": 41, \"6\": 16, \"8\": 32, \"15\": 27, \"7\": 15, \"14\": 5, \"4\": 4, \"5\": 3, \"1\": 3, \"13\": 1, \"0\": 2, \"10\": 2}, \"15\": {\"8\": 33, \"15\": 39, \"12\": 26, \"2\": 34, \"6\": 9, \"3\": 26, \"1\": 12, \"5\": 5, \"4\": 8, \"7\": 16, \"14\": 9, \"11\": 16, \"13\": 3, \"10\": 2, \"0\": 2}, \"4\": {\"7\": 19, \"6\": 19, \"4\": 30, \"3\": 3, \"14\": 24, \"0\": 27, \"10\": 20, \"11\": 20, \"13\": 23, \"2\": 10, \"1\": 14, \"8\": 8, \"5\": 17, \"15\": 5, \"12\": 1}, \"7\": {\"13\": 23, \"8\": 9, \"14\": 21, \"10\": 19, \"15\": 7, \"1\": 9, \"7\": 30, \"0\": 23, \"2\": 16, \"4\": 27, \"12\": 2, \"5\": 11, \"3\": 10, \"11\": 13, \"6\": 20}, \"2\": {\"7\": 20, \"12\": 20, \"11\": 5, \"0\": 14, \"8\": 15, \"2\": 46, \"3\": 27, \"14\": 13, \"15\": 20, \"13\": 11, \"10\": 5, \"4\": 17, \"1\": 6, \"6\": 20, \"5\": 1}, \"1\": {\"6\": 17, \"7\": 18, \"14\": 25, \"1\": 27, \"11\": 35, \"13\": 17, \"10\": 20, \"12\": 3, \"4\": 27, \"8\": 15, \"5\": 20, \"0\": 12, \"2\": 1, \"3\": 1, \"15\": 2}, \"0\": {\"6\": 25, \"4\": 28, \"13\": 28, \"14\": 27, \"7\": 23, \"0\": 28, \"5\": 18, \"11\": 10, \"10\": 23, \"2\": 10, \"1\": 12, \"8\": 4, \"15\": 2, \"3\": 1, \"12\": 1}, \"12\": {\"15\": 35, \"3\": 37, \"0\": 2, \"2\": 23, \"12\": 52, \"6\": 13, \"8\": 29, \"4\": 7, \"7\": 16, \"11\": 8, \"14\": 3, \"1\": 10, \"10\": 2, \"13\": 2, \"5\": 1}, \"6\": {\"0\": 21, \"2\": 19, \"3\": 7, \"4\": 29, \"10\": 19, \"14\": 24, \"7\": 26, \"13\": 17, \"5\": 13, \"1\": 11, \"6\": 23, \"15\": 5, \"11\": 11, \"8\": 13, \"12\": 2}, \"11\": {\"7\": 17, \"6\": 18, \"4\": 25, \"2\": 5, \"8\": 21, \"11\": 34, \"13\": 13, \"0\": 5, \"1\": 30, \"10\": 9, \"5\": 18, \"3\": 4, \"15\": 13, \"14\": 26, \"12\": 2}, \"9\": {\"10\": 11, \"9\": 202, \"5\": 10, \"4\": 3, \"13\": 6, \"0\": 4, \"7\": 1, \"14\": 2, \"11\": 1}, \"5\": {\"6\": 21, \"5\": 47, \"4\": 19, \"10\": 28, \"14\": 28, \"11\": 19, \"7\": 17, \"13\": 20, \"0\": 19, \"1\": 19, \"3\": 1, \"8\": 2}, \"10\": {\"1\": 22, \"13\": 24, \"6\": 17, \"5\": 26, \"10\": 28, \"4\": 21, \"7\": 18, \"11\": 13, \"14\": 26, \"0\": 32, \"2\": 5, \"8\": 3, \"15\": 4, \"3\": 1}, \"14\": {\"14\": 23, \"3\": 8, \"4\": 22, \"0\": 27, \"5\": 24, \"13\": 13, \"6\": 23, \"10\": 29, \"1\": 18, \"11\": 13, \"12\": 3, \"7\": 20, \"8\": 7, \"2\": 10}, \"8\": {\"6\": 16, \"12\": 29, \"15\": 22, \"8\": 40, \"7\": 9, \"4\": 12, \"3\": 16, \"14\": 11, \"11\": 23, \"1\": 24, \"2\": 22, \"5\": 3, \"10\": 6, \"0\": 4, \"13\": 3}}, \"ORACLE.run120\": {\"6\": {\"7\": 16, \"5\": 8, \"14\": 38, \"10\": 29, \"4\": 19, \"0\": 8, \"11\": 14, \"1\": 4, \"3\": 9, \"2\": 14, \"9\": 13, \"8\": 31, \"6\": 26, \"12\": 9, \"15\": 1, \"13\": 1}, \"11\": {\"1\": 18, \"13\": 25, \"8\": 6, \"11\": 49, \"7\": 19, \"0\": 18, \"12\": 12, \"2\": 25, \"14\": 2, \"9\": 16, \"15\": 10, \"6\": 8, \"3\": 19, \"4\": 4, \"10\": 1, \"5\": 8}, \"5\": {\"5\": 17, \"2\": 27, \"1\": 19, \"9\": 14, \"0\": 17, \"13\": 20, \"7\": 12, \"3\": 21, \"4\": 20, \"10\": 4, \"12\": 16, \"15\": 17, \"8\": 19, \"11\": 3, \"6\": 7, \"14\": 7}, \"14\": {\"14\": 44, \"2\": 9, \"6\": 41, \"4\": 29, \"8\": 24, \"11\": 4, \"0\": 8, \"10\": 37, \"5\": 8, \"9\": 5, \"7\": 13, \"12\": 4, \"13\": 1, \"3\": 8, \"15\": 3, \"1\": 2}, \"2\": {\"3\": 28, \"5\": 20, \"9\": 22, \"1\": 14, \"12\": 24, \"11\": 18, \"15\": 12, \"7\": 21, \"0\": 15, \"13\": 17, \"4\": 8, \"2\": 19, \"8\": 9, \"10\": 4, \"14\": 5, \"6\": 4}, \"7\": {\"8\": 16, \"2\": 21, \"15\": 10, \"12\": 24, \"4\": 21, \"0\": 18, \"7\": 23, \"5\": 17, \"11\": 20, \"10\": 16, \"9\": 11, \"14\": 6, \"13\": 7, \"3\": 16, \"1\": 8, \"6\": 6}, \"3\": {\"0\": 14, \"10\": 10, \"7\": 18, \"13\": 16, \"8\": 12, \"1\": 11, \"5\": 19, \"9\": 14, \"15\": 15, \"3\": 20, \"2\": 20, \"11\": 13, \"12\": 23, \"14\": 4, \"4\": 17, \"6\": 14}, \"4\": {\"1\": 12, \"7\": 23, \"15\": 6, \"2\": 17, \"8\": 24, \"6\": 20, \"4\": 22, \"11\": 5, \"14\": 24, \"3\": 19, \"12\": 18, \"10\": 19, \"9\": 11, \"0\": 8, \"5\": 11, \"13\": 1}, \"9\": {\"10\": 9, \"0\": 14, \"2\": 23, \"8\": 13, \"4\": 7, \"7\": 20, \"11\": 22, \"1\": 21, \"13\": 16, \"5\": 13, \"12\": 23, \"15\": 9, \"3\": 23, \"6\": 8, \"9\": 15, \"14\": 4}, \"12\": {\"6\": 7, \"10\": 9, \"8\": 10, \"4\": 16, \"3\": 17, \"15\": 21, \"1\": 23, \"13\": 18, \"0\": 19, \"12\": 15, \"5\": 15, \"2\": 16, \"11\": 16, \"9\": 21, \"14\": 6, \"7\": 11}, \"0\": {\"1\": 19, \"9\": 19, \"4\": 8, \"5\": 25, \"14\": 3, \"8\": 11, \"0\": 21, \"12\": 23, \"6\": 4, \"3\": 12, \"7\": 19, \"11\": 11, \"13\": 21, \"15\": 29, \"2\": 13, \"10\": 2}, \"10\": {\"10\": 46, \"8\": 28, \"4\": 33, \"7\": 18, \"6\": 33, \"14\": 35, \"2\": 7, \"0\": 5, \"9\": 7, \"12\": 10, \"5\": 7, \"3\": 9, \"1\": 2}, \"8\": {\"2\": 15, \"7\": 21, \"13\": 2, \"1\": 9, \"14\": 22, \"8\": 28, \"15\": 7, \"3\": 16, \"11\": 6, \"10\": 19, \"4\": 28, \"6\": 24, \"0\": 10, \"9\": 14, \"12\": 9, \"5\": 10}, \"13\": {\"1\": 24, \"5\": 23, \"4\": 6, \"13\": 23, \"8\": 4, \"12\": 18, \"9\": 18, \"0\": 27, \"15\": 19, \"3\": 10, \"11\": 21, \"2\": 32, \"6\": 2, \"7\": 10, \"14\": 2, \"10\": 1}, \"1\": {\"5\": 17, \"1\": 22, \"4\": 8, \"15\": 22, \"6\": 4, \"9\": 21, \"12\": 27, \"3\": 19, \"7\": 15, \"11\": 12, \"0\": 21, \"13\": 19, \"2\": 20, \"14\": 4, \"10\": 8, \"8\": 1}, \"15\": {\"15\": 33, \"2\": 22, \"9\": 15, \"6\": 1, \"4\": 7, \"12\": 17, \"5\": 25, \"3\": 19, \"13\": 32, \"0\": 20, \"1\": 18, \"11\": 13, \"7\": 11, \"8\": 3, \"14\": 2, \"10\": 2}}, \"ORACLE.run138\": {\"3\": {\"8\": 21, \"7\": 34, \"0\": 34, \"9\": 29, \"3\": 68, \"5\": 24, \"12\": 3, \"6\": 19, \"15\": 1, \"13\": 1, \"10\": 4, \"2\": 1, \"14\": 1}, \"8\": {\"0\": 27, \"10\": 23, \"2\": 4, \"15\": 17, \"13\": 9, \"8\": 44, \"6\": 18, \"12\": 4, \"7\": 22, \"14\": 10, \"1\": 5, \"5\": 33, \"3\": 10, \"9\": 14}, \"0\": {\"14\": 6, \"5\": 26, \"3\": 23, \"7\": 43, \"0\": 31, \"6\": 16, \"8\": 36, \"9\": 7, \"10\": 24, \"12\": 12, \"11\": 1, \"15\": 8, \"2\": 3, \"13\": 4}, \"2\": {\"14\": 38, \"1\": 12, \"13\": 43, \"11\": 13, \"2\": 83, \"10\": 13, \"15\": 26, \"5\": 2, \"8\": 5, \"9\": 2, \"0\": 1, \"6\": 1, \"7\": 1}, \"4\": {\"4\": 148, \"0\": 4, \"7\": 16, \"12\": 53, \"11\": 13, \"14\": 2, \"10\": 2, \"13\": 1, \"8\": 1}, \"7\": {\"3\": 21, \"10\": 21, \"12\": 17, \"7\": 63, \"5\": 19, \"0\": 39, \"6\": 5, \"8\": 36, \"11\": 1, \"4\": 6, \"15\": 3, \"13\": 2, \"14\": 1, \"9\": 6}, \"12\": {\"8\": 16, \"4\": 35, \"7\": 18, \"12\": 113, \"10\": 18, \"0\": 14, \"14\": 13, \"11\": 10, \"5\": 2, \"2\": 1}, \"6\": {\"5\": 29, \"10\": 5, \"6\": 51, \"15\": 20, \"9\": 52, \"8\": 20, \"7\": 3, \"0\": 8, \"3\": 18, \"13\": 9, \"1\": 22, \"2\": 1, \"14\": 2}, \"15\": {\"14\": 8, \"10\": 9, \"15\": 35, \"8\": 19, \"1\": 34, \"13\": 39, \"7\": 1, \"2\": 31, \"6\": 18, \"9\": 12, \"5\": 24, \"3\": 2, \"11\": 2, \"0\": 6}, \"11\": {\"11\": 122, \"14\": 57, \"10\": 16, \"2\": 12, \"4\": 10, \"13\": 5, \"12\": 10, \"0\": 1, \"15\": 4, \"7\": 2, \"8\": 1}, \"9\": {\"9\": 51, \"2\": 1, \"6\": 56, \"3\": 36, \"15\": 23, \"13\": 9, \"10\": 1, \"5\": 25, \"8\": 12, \"1\": 12, \"0\": 7, \"7\": 5, \"14\": 1, \"12\": 1}, \"14\": {\"14\": 70, \"12\": 12, \"10\": 35, \"7\": 6, \"13\": 12, \"11\": 45, \"2\": 27, \"5\": 3, \"15\": 11, \"8\": 9, \"0\": 8, \"4\": 2}, \"10\": {\"4\": 5, \"7\": 29, \"14\": 33, \"12\": 22, \"10\": 49, \"5\": 10, \"1\": 2, \"0\": 17, \"15\": 13, \"2\": 6, \"8\": 24, \"11\": 15, \"6\": 2, \"3\": 3, \"13\": 9, \"9\": 1}, \"5\": {\"9\": 19, \"8\": 27, \"5\": 27, \"15\": 26, \"10\": 16, \"6\": 26, \"1\": 8, \"2\": 8, \"7\": 17, \"0\": 25, \"3\": 20, \"13\": 15, \"12\": 5, \"14\": 1}, \"1\": {\"1\": 87, \"5\": 10, \"15\": 41, \"13\": 23, \"6\": 32, \"2\": 16, \"9\": 17, \"10\": 5, \"8\": 6, \"0\": 2, \"14\": 1}, \"13\": {\"14\": 16, \"13\": 42, \"15\": 31, \"1\": 17, \"11\": 4, \"2\": 41, \"10\": 20, \"0\": 5, \"6\": 13, \"8\": 15, \"7\": 1, \"5\": 14, \"9\": 16, \"3\": 5}}, \"ORACLE.run126\": {\"5\": {\"12\": 11, \"14\": 5, \"3\": 22, \"9\": 27, \"2\": 14, \"1\": 5, \"13\": 26, \"6\": 17, \"5\": 38, \"15\": 28, \"4\": 5, \"8\": 12, \"11\": 4, \"10\": 12, \"7\": 7, \"0\": 7}, \"8\": {\"9\": 17, \"14\": 14, \"3\": 20, \"4\": 13, \"15\": 14, \"5\": 8, \"7\": 21, \"6\": 17, \"0\": 26, \"13\": 9, \"8\": 20, \"10\": 30, \"1\": 13, \"2\": 15, \"12\": 3}, \"4\": {\"1\": 30, \"15\": 12, \"10\": 25, \"9\": 12, \"4\": 30, \"2\": 17, \"6\": 10, \"7\": 24, \"14\": 15, \"3\": 25, \"5\": 5, \"13\": 2, \"8\": 13, \"0\": 20}, \"12\": {\"2\": 4, \"12\": 68, \"9\": 18, \"13\": 37, \"6\": 24, \"0\": 6, \"11\": 21, \"8\": 10, \"5\": 9, \"15\": 19, \"3\": 4, \"7\": 4, \"14\": 4, \"10\": 9, \"4\": 2, \"1\": 1}, \"6\": {\"9\": 21, \"2\": 18, \"8\": 21, \"12\": 18, \"13\": 17, \"14\": 6, \"15\": 16, \"1\": 6, \"3\": 20, \"4\": 10, \"10\": 14, \"6\": 29, \"0\": 16, \"7\": 15, \"5\": 13}, \"7\": {\"2\": 29, \"5\": 4, \"8\": 19, \"7\": 26, \"9\": 14, \"0\": 17, \"1\": 19, \"6\": 10, \"3\": 32, \"4\": 23, \"14\": 18, \"15\": 11, \"10\": 15, \"13\": 3}, \"10\": {\"0\": 23, \"5\": 7, \"10\": 22, \"7\": 11, \"15\": 16, \"14\": 21, \"4\": 17, \"6\": 26, \"9\": 16, \"3\": 19, \"1\": 19, \"2\": 19, \"8\": 14, \"12\": 4, \"13\": 6}, \"0\": {\"2\": 18, \"1\": 20, \"14\": 27, \"3\": 23, \"10\": 31, \"9\": 11, \"7\": 23, \"4\": 18, \"8\": 14, \"6\": 15, \"15\": 10, \"13\": 3, \"0\": 23, \"5\": 4}, \"15\": {\"0\": 13, \"14\": 3, \"7\": 14, \"2\": 14, \"13\": 32, \"10\": 13, \"1\": 8, \"9\": 25, \"6\": 13, \"5\": 24, \"15\": 37, \"8\": 12, \"3\": 18, \"4\": 5, \"12\": 9}, \"9\": {\"8\": 17, \"5\": 24, \"6\": 26, \"0\": 23, \"2\": 14, \"3\": 13, \"9\": 19, \"10\": 25, \"15\": 23, \"7\": 16, \"13\": 17, \"4\": 7, \"12\": 7, \"14\": 7, \"1\": 2}, \"11\": {\"12\": 53, \"2\": 3, \"9\": 6, \"11\": 120, \"5\": 13, \"6\": 9, \"13\": 29, \"15\": 2, \"10\": 2, \"8\": 2, \"14\": 1}, \"14\": {\"1\": 32, \"7\": 26, \"14\": 31, \"8\": 21, \"2\": 14, \"10\": 25, \"9\": 8, \"0\": 25, \"6\": 7, \"15\": 6, \"3\": 12, \"4\": 26, \"5\": 4, \"12\": 2, \"13\": 1}, \"2\": {\"2\": 24, \"6\": 15, \"5\": 27, \"0\": 7, \"14\": 9, \"3\": 20, \"9\": 18, \"1\": 16, \"7\": 24, \"10\": 24, \"15\": 18, \"8\": 24, \"13\": 4, \"4\": 9, \"12\": 1}, \"13\": {\"2\": 17, \"0\": 5, \"13\": 42, \"5\": 38, \"6\": 21, \"12\": 23, \"15\": 26, \"9\": 30, \"3\": 6, \"7\": 8, \"11\": 5, \"10\": 10, \"8\": 7, \"4\": 2}, \"3\": {\"0\": 25, \"1\": 19, \"8\": 17, \"3\": 34, \"10\": 19, \"9\": 12, \"15\": 16, \"4\": 19, \"2\": 18, \"5\": 14, \"6\": 8, \"13\": 7, \"7\": 18, \"14\": 13, \"12\": 1}, \"1\": {\"1\": 33, \"14\": 27, \"4\": 24, \"3\": 26, \"7\": 23, \"0\": 22, \"10\": 32, \"8\": 18, \"13\": 1, \"9\": 8, \"2\": 15, \"6\": 7, \"15\": 3, \"12\": 1}}}, \"per_domain_accuracy\": {\"Wisig_3\": {\"accuracy\": 0.9702510917030568, \"source?\": true}, \"Wisig_2\": {\"accuracy\": 0.9502604166666667, \"source?\": true}, \"Wisig_1\": {\"accuracy\": 0.9694120762711864, \"source?\": true}, \"Wisig_4\": {\"accuracy\": 0.9548611111111112, \"source?\": true}, \"ORACLE.run150\": {\"accuracy\": 0.23802083333333332, \"source?\": false}, \"ORACLE.run114\": {\"accuracy\": 0.21041666666666667, \"source?\": false}, \"ORACLE.run132\": {\"accuracy\": 0.33307291666666666, \"source?\": false}, \"ORACLE.run144\": {\"accuracy\": 0.25755208333333335, \"source?\": false}, \"ORACLE.run18\": {\"accuracy\": 0.18828125, \"source?\": false}, \"ORACLE.run120\": {\"accuracy\": 0.11015625, \"source?\": false}, \"ORACLE.run138\": {\"accuracy\": 0.28229166666666666, \"source?\": false}, \"ORACLE.run126\": {\"accuracy\": 0.15520833333333334, \"source?\": false}}}, \"history\": {\"epoch_indices\": [1, 2, 3, 4, 5], \"train_label_loss\": [0.1888936355837333, 0.11981880759525482, 0.09990877708721357, 0.08091619048161527, 0.0709101299705831], \"source_val_label_loss\": [0.16703951358795166, 0.13522109389305115, 0.11918614059686661, 0.12069442868232727, 0.11485389620065689], \"target_val_label_loss\": [2.4418389797210693, 2.6098315715789795, 2.6296911239624023, 2.6930060386657715, 2.8824586868286133], \"source_val_acc_label\": [0.9610363924050633, 0.969079641350211, 0.9715189873417721, 0.9727386603375527, 0.974189082278481], \"target_val_acc_label\": [0.221875, 0.16689453125, 0.16298828125, 0.16256510416666667, 0.14661458333333333]}, \"dataset_metrics\": {\"source\": {\"train\": {\"n_unique_x\": 189055, \"n_unique_y\": 130, \"n_batch/episode\": 6854}, \"val\": {\"n_unique_x\": 40070, \"n_unique_y\": 130, \"n_batch/episode\": 948}, \"test\": {\"n_unique_x\": 40836, \"n_unique_y\": 130, \"n_batch/episode\": 967}}, \"target\": {\"train\": {\"n_unique_x\": 179200, \"n_unique_y\": 16, \"n_batch/episode\": 6720}, \"val\": {\"n_unique_x\": 38400, \"n_unique_y\": 16, \"n_batch/episode\": 960}, \"test\": {\"n_unique_x\": 38400, \"n_unique_y\": 16, \"n_batch/episode\": 960}}}}'"
      ]
     },
     "execution_count": 29,
     "metadata": {},
     "output_type": "execute_result"
    }
   ],
   "source": [
    "json.dumps(experiment)"
   ]
  }
 ],
 "metadata": {
  "celltoolbar": "Tags",
  "kernelspec": {
   "display_name": "Python 3 (ipykernel)",
   "language": "python",
   "name": "python3"
  },
  "language_info": {
   "codemirror_mode": {
    "name": "ipython",
    "version": 3
   },
   "file_extension": ".py",
   "mimetype": "text/x-python",
   "name": "python",
   "nbconvert_exporter": "python",
   "pygments_lexer": "ipython3",
   "version": "3.8.12"
  },
  "papermill": {
   "default_parameters": {},
   "duration": 1635.662747,
   "end_time": "2022-03-21T17:45:06.243162",
   "environment_variables": {},
   "exception": null,
   "input_path": "/root/csc500-main/csc500-notebooks/templates/tl_ptn_template.ipynb",
   "output_path": "trial.ipynb",
   "parameters": {
    "parameters": {
     "BEST_MODEL_PATH": "./best_model.pth",
     "NUM_LOGS_PER_EPOCH": 10,
     "criteria_for_best": "target_accuracy",
     "dataset_seed": 500,
     "datasets": [
      {
       "domain_prefix": "Wisig_",
       "domains": [
        1,
        2,
        3,
        4
       ],
       "episode_transforms": [],
       "labels": [
        "1-10",
        "1-12",
        "1-14",
        "1-16",
        "1-18",
        "1-19",
        "1-8",
        "10-11",
        "10-17",
        "10-4",
        "10-7",
        "11-1",
        "11-10",
        "11-19",
        "11-20",
        "11-4",
        "11-7",
        "12-19",
        "12-20",
        "12-7",
        "13-14",
        "13-18",
        "13-19",
        "13-20",
        "13-3",
        "13-7",
        "14-10",
        "14-11",
        "14-12",
        "14-13",
        "14-14",
        "14-19",
        "14-20",
        "14-7",
        "14-8",
        "14-9",
        "15-1",
        "15-19",
        "15-6",
        "16-1",
        "16-16",
        "16-19",
        "16-20",
        "17-10",
        "17-11",
        "18-1",
        "18-10",
        "18-11",
        "18-12",
        "18-13",
        "18-14",
        "18-15",
        "18-16",
        "18-17",
        "18-19",
        "18-2",
        "18-20",
        "18-4",
        "18-5",
        "18-7",
        "18-8",
        "18-9",
        "19-1",
        "19-10",
        "19-11",
        "19-12",
        "19-13",
        "19-14",
        "19-15",
        "19-19",
        "19-2",
        "19-20",
        "19-3",
        "19-4",
        "19-6",
        "19-7",
        "19-8",
        "19-9",
        "2-1",
        "2-13",
        "2-15",
        "2-3",
        "2-4",
        "2-5",
        "2-6",
        "2-7",
        "2-8",
        "20-1",
        "20-12",
        "20-14",
        "20-15",
        "20-16",
        "20-18",
        "20-19",
        "20-20",
        "20-3",
        "20-4",
        "20-5",
        "20-7",
        "20-8",
        "3-1",
        "3-13",
        "3-18",
        "3-2",
        "3-8",
        "4-1",
        "4-10",
        "4-11",
        "5-1",
        "5-5",
        "6-1",
        "6-15",
        "6-6",
        "7-10",
        "7-11",
        "7-12",
        "7-13",
        "7-14",
        "7-7",
        "7-8",
        "7-9",
        "8-1",
        "8-13",
        "8-14",
        "8-18",
        "8-20",
        "8-3",
        "8-8",
        "9-1",
        "9-7"
       ],
       "num_examples_per_domain_per_label": -1,
       "pickle_path": "/root/csc500-main/datasets/wisig.node3-19.stratified_ds.2022A.pkl",
       "source_or_target_dataset": "source",
       "x_transforms": [
        "unit_mag"
       ]
      },
      {
       "domain_prefix": "ORACLE.run1",
       "domains": [
        32,
        38,
        8,
        44,
        14,
        50,
        20,
        26
       ],
       "episode_transforms": [],
       "labels": [
        "3123D52",
        "3123D65",
        "3123D79",
        "3123D80",
        "3123D54",
        "3123D70",
        "3123D7B",
        "3123D89",
        "3123D58",
        "3123D76",
        "3123D7D",
        "3123EFE",
        "3123D64",
        "3123D78",
        "3123D7E",
        "3124E4A"
       ],
       "num_examples_per_domain_per_label": 2000,
       "pickle_path": "/root/csc500-main/datasets/oracle.Run1_framed_2000Examples_stratified_ds.2022A.pkl",
       "source_or_target_dataset": "target",
       "x_transforms": [
        "unit_mag"
       ]
      }
     ],
     "device": "cuda",
     "experiment_name": "tl_1v2:wisig-oracle.run1.framed",
     "lr": 0.0001,
     "n_epoch": 50,
     "n_query": 2,
     "n_shot": 3,
     "n_way": 16,
     "patience": 3,
     "seed": 500,
     "test_k_factor": 2,
     "torch_default_dtype": "torch.float32",
     "train_k_factor": 3,
     "val_k_factor": 2,
     "x_net": [
      {
       "class": "nnReshape",
       "kargs": {
        "shape": [
         -1,
         1,
         2,
         256
        ]
       }
      },
      {
       "class": "Conv2d",
       "kargs": {
        "bias": false,
        "in_channels": 1,
        "kernel_size": [
         1,
         7
        ],
        "out_channels": 256,
        "padding": [
         0,
         3
        ]
       }
      },
      {
       "class": "ReLU",
       "kargs": {
        "inplace": true
       }
      },
      {
       "class": "BatchNorm2d",
       "kargs": {
        "num_features": 256
       }
      },
      {
       "class": "Conv2d",
       "kargs": {
        "bias": true,
        "in_channels": 256,
        "kernel_size": [
         2,
         7
        ],
        "out_channels": 80,
        "padding": [
         0,
         3
        ]
       }
      },
      {
       "class": "ReLU",
       "kargs": {
        "inplace": true
       }
      },
      {
       "class": "BatchNorm2d",
       "kargs": {
        "num_features": 80
       }
      },
      {
       "class": "Flatten",
       "kargs": {}
      },
      {
       "class": "Linear",
       "kargs": {
        "in_features": 20480,
        "out_features": 256
       }
      },
      {
       "class": "ReLU",
       "kargs": {
        "inplace": true
       }
      },
      {
       "class": "BatchNorm1d",
       "kargs": {
        "num_features": 256
       }
      },
      {
       "class": "Linear",
       "kargs": {
        "in_features": 256,
        "out_features": 256
       }
      }
     ]
    }
   },
   "start_time": "2022-03-21T17:17:50.580415",
   "version": "2.3.4"
  }
 },
 "nbformat": 4,
 "nbformat_minor": 5
}