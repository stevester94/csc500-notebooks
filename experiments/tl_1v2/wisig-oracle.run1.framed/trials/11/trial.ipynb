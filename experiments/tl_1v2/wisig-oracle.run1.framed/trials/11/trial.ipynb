{
 "cells": [
  {
   "cell_type": "markdown",
   "id": "9fea5f46",
   "metadata": {
    "papermill": {
     "duration": 0.026471,
     "end_time": "2022-03-21T09:50:00.872682",
     "exception": false,
     "start_time": "2022-03-21T09:50:00.846211",
     "status": "completed"
    },
    "tags": []
   },
   "source": [
    "# Transfer Learning Template"
   ]
  },
  {
   "cell_type": "code",
   "execution_count": 1,
   "id": "0902182a",
   "metadata": {
    "execution": {
     "iopub.execute_input": "2022-03-21T09:50:00.933379Z",
     "iopub.status.busy": "2022-03-21T09:50:00.932513Z",
     "iopub.status.idle": "2022-03-21T09:50:02.816721Z",
     "shell.execute_reply": "2022-03-21T09:50:02.817031Z"
    },
    "papermill": {
     "duration": 1.922211,
     "end_time": "2022-03-21T09:50:02.817179",
     "exception": false,
     "start_time": "2022-03-21T09:50:00.894968",
     "status": "completed"
    },
    "tags": []
   },
   "outputs": [],
   "source": [
    "%load_ext autoreload\n",
    "%autoreload 2\n",
    "%matplotlib inline\n",
    "\n",
    "    \n",
    "import os, json, sys, time, random\n",
    "import numpy as np\n",
    "import torch\n",
    "from torch.optim import Adam\n",
    "from  easydict import EasyDict\n",
    "import matplotlib.pyplot as plt\n",
    "\n",
    "from steves_models.steves_ptn import Steves_Prototypical_Network\n",
    "\n",
    "from steves_utils.lazy_iterable_wrapper import Lazy_Iterable_Wrapper\n",
    "from steves_utils.iterable_aggregator import Iterable_Aggregator\n",
    "from steves_utils.ptn_train_eval_test_jig import  PTN_Train_Eval_Test_Jig\n",
    "from steves_utils.torch_sequential_builder import build_sequential\n",
    "from steves_utils.torch_utils import get_dataset_metrics, ptn_confusion_by_domain_over_dataloader\n",
    "from steves_utils.utils_v2 import (per_domain_accuracy_from_confusion, get_datasets_base_path)\n",
    "from steves_utils.PTN.utils import independent_accuracy_assesment\n",
    "\n",
    "from torch.utils.data import DataLoader\n",
    "\n",
    "from steves_utils.stratified_dataset.episodic_accessor import Episodic_Accessor_Factory\n",
    "\n",
    "from steves_utils.ptn_do_report import (\n",
    "    get_loss_curve,\n",
    "    get_results_table,\n",
    "    get_parameters_table,\n",
    "    get_domain_accuracies,\n",
    ")\n",
    "\n",
    "from steves_utils.transforms import get_chained_transform"
   ]
  },
  {
   "cell_type": "markdown",
   "id": "41c840b4",
   "metadata": {
    "papermill": {
     "duration": 0.019436,
     "end_time": "2022-03-21T09:50:02.856445",
     "exception": false,
     "start_time": "2022-03-21T09:50:02.837009",
     "status": "completed"
    },
    "tags": []
   },
   "source": [
    "# Allowed Parameters\n",
    "These are allowed parameters, not defaults\n",
    "Each of these values need to be present in the injected parameters (the notebook will raise an exception if they are not present)\n",
    "\n",
    "Papermill uses the cell tag \"parameters\" to inject the real parameters below this cell.\n",
    "Enable tags to see what I mean"
   ]
  },
  {
   "cell_type": "code",
   "execution_count": 2,
   "id": "fd44eb83",
   "metadata": {
    "execution": {
     "iopub.execute_input": "2022-03-21T09:50:02.900461Z",
     "iopub.status.busy": "2022-03-21T09:50:02.900065Z",
     "iopub.status.idle": "2022-03-21T09:50:02.921357Z",
     "shell.execute_reply": "2022-03-21T09:50:02.920985Z"
    },
    "papermill": {
     "duration": 0.045569,
     "end_time": "2022-03-21T09:50:02.921429",
     "exception": false,
     "start_time": "2022-03-21T09:50:02.875860",
     "status": "completed"
    },
    "tags": []
   },
   "outputs": [],
   "source": [
    "required_parameters = {\n",
    "    \"experiment_name\",\n",
    "    \"lr\",\n",
    "    \"device\",\n",
    "    \"seed\",\n",
    "    \"dataset_seed\",\n",
    "    \"n_shot\",\n",
    "    \"n_query\",\n",
    "    \"n_way\",\n",
    "    \"train_k_factor\",\n",
    "    \"val_k_factor\",\n",
    "    \"test_k_factor\",\n",
    "    \"n_epoch\",\n",
    "    \"patience\",\n",
    "    \"criteria_for_best\",\n",
    "    \"x_net\",\n",
    "    \"datasets\",\n",
    "    \"torch_default_dtype\",\n",
    "    \"NUM_LOGS_PER_EPOCH\",\n",
    "    \"BEST_MODEL_PATH\",\n",
    "    \"x_shape\",\n",
    "}"
   ]
  },
  {
   "cell_type": "code",
   "execution_count": 3,
   "id": "fa3f0049",
   "metadata": {
    "execution": {
     "iopub.execute_input": "2022-03-21T09:50:02.973467Z",
     "iopub.status.busy": "2022-03-21T09:50:02.962789Z",
     "iopub.status.idle": "2022-03-21T09:50:02.992375Z",
     "shell.execute_reply": "2022-03-21T09:50:02.992004Z"
    },
    "papermill": {
     "duration": 0.051206,
     "end_time": "2022-03-21T09:50:02.992447",
     "exception": false,
     "start_time": "2022-03-21T09:50:02.941241",
     "status": "completed"
    },
    "tags": [
     "parameters"
    ]
   },
   "outputs": [],
   "source": [
    "from steves_utils.CORES.utils import (\n",
    "    ALL_NODES,\n",
    "    ALL_NODES_MINIMUM_1000_EXAMPLES,\n",
    "    ALL_DAYS\n",
    ")\n",
    "\n",
    "from steves_utils.ORACLE.utils_v2 import (\n",
    "    ALL_DISTANCES_FEET_NARROWED,\n",
    "    ALL_RUNS,\n",
    "    ALL_SERIAL_NUMBERS,\n",
    ")\n",
    "\n",
    "standalone_parameters = {}\n",
    "standalone_parameters[\"experiment_name\"] = \"STANDALONE PTN\"\n",
    "standalone_parameters[\"lr\"] = 0.001\n",
    "standalone_parameters[\"device\"] = \"cuda\"\n",
    "\n",
    "standalone_parameters[\"seed\"] = 1337\n",
    "standalone_parameters[\"dataset_seed\"] = 1337\n",
    "\n",
    "standalone_parameters[\"n_way\"] = 8\n",
    "standalone_parameters[\"n_shot\"] = 3\n",
    "standalone_parameters[\"n_query\"]  = 2\n",
    "standalone_parameters[\"train_k_factor\"] = 1\n",
    "standalone_parameters[\"val_k_factor\"] = 2\n",
    "standalone_parameters[\"test_k_factor\"] = 2\n",
    "\n",
    "\n",
    "standalone_parameters[\"n_epoch\"] = 50\n",
    "\n",
    "standalone_parameters[\"patience\"] = 10\n",
    "standalone_parameters[\"criteria_for_best\"] = \"source_loss\"\n",
    "\n",
    "standalone_parameters[\"datasets\"] = [\n",
    "    {\n",
    "        \"labels\": ALL_SERIAL_NUMBERS,\n",
    "        \"domains\": ALL_DISTANCES_FEET_NARROWED,\n",
    "        \"num_examples_per_domain_per_label\": 100,\n",
    "        \"pickle_path\": os.path.join(get_datasets_base_path(), \"oracle.Run1_framed_2000Examples_stratified_ds.2022A.pkl\"),\n",
    "        \"source_or_target_dataset\": \"source\",\n",
    "        \"x_transforms\": [\"unit_mag\", \"minus_two\"],\n",
    "        \"episode_transforms\": [],\n",
    "        \"domain_prefix\": \"ORACLE_\"\n",
    "    },\n",
    "    {\n",
    "        \"labels\": ALL_NODES,\n",
    "        \"domains\": ALL_DAYS,\n",
    "        \"num_examples_per_domain_per_label\": 100,\n",
    "        \"pickle_path\": os.path.join(get_datasets_base_path(), \"cores.stratified_ds.2022A.pkl\"),\n",
    "        \"source_or_target_dataset\": \"target\",\n",
    "        \"x_transforms\": [\"unit_power\", \"times_zero\"],\n",
    "        \"episode_transforms\": [],\n",
    "        \"domain_prefix\": \"CORES_\"\n",
    "    }   \n",
    "]\n",
    "\n",
    "standalone_parameters[\"torch_default_dtype\"] = \"torch.float32\" \n",
    "\n",
    "\n",
    "\n",
    "standalone_parameters[\"x_net\"] =     [\n",
    "    {\"class\": \"nnReshape\", \"kargs\": {\"shape\":[-1, 1, 2, 256]}},\n",
    "    {\"class\": \"Conv2d\", \"kargs\": { \"in_channels\":1, \"out_channels\":256, \"kernel_size\":(1,7), \"bias\":False, \"padding\":(0,3), },},\n",
    "    {\"class\": \"ReLU\", \"kargs\": {\"inplace\": True}},\n",
    "    {\"class\": \"BatchNorm2d\", \"kargs\": {\"num_features\":256}},\n",
    "\n",
    "    {\"class\": \"Conv2d\", \"kargs\": { \"in_channels\":256, \"out_channels\":80, \"kernel_size\":(2,7), \"bias\":True, \"padding\":(0,3), },},\n",
    "    {\"class\": \"ReLU\", \"kargs\": {\"inplace\": True}},\n",
    "    {\"class\": \"BatchNorm2d\", \"kargs\": {\"num_features\":80}},\n",
    "    {\"class\": \"Flatten\", \"kargs\": {}},\n",
    "\n",
    "    {\"class\": \"Linear\", \"kargs\": {\"in_features\": 80*256, \"out_features\": 256}}, # 80 units per IQ pair\n",
    "    {\"class\": \"ReLU\", \"kargs\": {\"inplace\": True}},\n",
    "    {\"class\": \"BatchNorm1d\", \"kargs\": {\"num_features\":256}},\n",
    "\n",
    "    {\"class\": \"Linear\", \"kargs\": {\"in_features\": 256, \"out_features\": 256}},\n",
    "]\n",
    "\n",
    "# Parameters relevant to results\n",
    "# These parameters will basically never need to change\n",
    "standalone_parameters[\"NUM_LOGS_PER_EPOCH\"] = 10\n",
    "standalone_parameters[\"BEST_MODEL_PATH\"] = \"./best_model.pth\"\n",
    "\n",
    "\n",
    "\n",
    "\n"
   ]
  },
  {
   "cell_type": "code",
   "execution_count": 4,
   "id": "04251b39",
   "metadata": {
    "execution": {
     "iopub.execute_input": "2022-03-21T09:50:03.049159Z",
     "iopub.status.busy": "2022-03-21T09:50:03.039833Z",
     "iopub.status.idle": "2022-03-21T09:50:03.068281Z",
     "shell.execute_reply": "2022-03-21T09:50:03.067974Z"
    },
    "papermill": {
     "duration": 0.056108,
     "end_time": "2022-03-21T09:50:03.068353",
     "exception": false,
     "start_time": "2022-03-21T09:50:03.012245",
     "status": "completed"
    },
    "tags": [
     "injected-parameters"
    ]
   },
   "outputs": [],
   "source": [
    "# Parameters\n",
    "parameters = {\n",
    "    \"experiment_name\": \"tl_1v2:wisig-oracle.run1.framed\",\n",
    "    \"device\": \"cuda\",\n",
    "    \"lr\": 0.0001,\n",
    "    \"n_shot\": 3,\n",
    "    \"n_query\": 2,\n",
    "    \"train_k_factor\": 3,\n",
    "    \"val_k_factor\": 2,\n",
    "    \"test_k_factor\": 2,\n",
    "    \"torch_default_dtype\": \"torch.float32\",\n",
    "    \"n_epoch\": 50,\n",
    "    \"patience\": 3,\n",
    "    \"criteria_for_best\": \"target_accuracy\",\n",
    "    \"x_net\": [\n",
    "        {\"class\": \"nnReshape\", \"kargs\": {\"shape\": [-1, 1, 2, 256]}},\n",
    "        {\n",
    "            \"class\": \"Conv2d\",\n",
    "            \"kargs\": {\n",
    "                \"in_channels\": 1,\n",
    "                \"out_channels\": 256,\n",
    "                \"kernel_size\": [1, 7],\n",
    "                \"bias\": False,\n",
    "                \"padding\": [0, 3],\n",
    "            },\n",
    "        },\n",
    "        {\"class\": \"ReLU\", \"kargs\": {\"inplace\": True}},\n",
    "        {\"class\": \"BatchNorm2d\", \"kargs\": {\"num_features\": 256}},\n",
    "        {\n",
    "            \"class\": \"Conv2d\",\n",
    "            \"kargs\": {\n",
    "                \"in_channels\": 256,\n",
    "                \"out_channels\": 80,\n",
    "                \"kernel_size\": [2, 7],\n",
    "                \"bias\": True,\n",
    "                \"padding\": [0, 3],\n",
    "            },\n",
    "        },\n",
    "        {\"class\": \"ReLU\", \"kargs\": {\"inplace\": True}},\n",
    "        {\"class\": \"BatchNorm2d\", \"kargs\": {\"num_features\": 80}},\n",
    "        {\"class\": \"Flatten\", \"kargs\": {}},\n",
    "        {\"class\": \"Linear\", \"kargs\": {\"in_features\": 20480, \"out_features\": 256}},\n",
    "        {\"class\": \"ReLU\", \"kargs\": {\"inplace\": True}},\n",
    "        {\"class\": \"BatchNorm1d\", \"kargs\": {\"num_features\": 256}},\n",
    "        {\"class\": \"Linear\", \"kargs\": {\"in_features\": 256, \"out_features\": 256}},\n",
    "    ],\n",
    "    \"NUM_LOGS_PER_EPOCH\": 10,\n",
    "    \"BEST_MODEL_PATH\": \"./best_model.pth\",\n",
    "    \"n_way\": 16,\n",
    "    \"datasets\": [\n",
    "        {\n",
    "            \"labels\": [\n",
    "                \"1-10\",\n",
    "                \"1-12\",\n",
    "                \"1-14\",\n",
    "                \"1-16\",\n",
    "                \"1-18\",\n",
    "                \"1-19\",\n",
    "                \"1-8\",\n",
    "                \"10-11\",\n",
    "                \"10-17\",\n",
    "                \"10-4\",\n",
    "                \"10-7\",\n",
    "                \"11-1\",\n",
    "                \"11-10\",\n",
    "                \"11-19\",\n",
    "                \"11-20\",\n",
    "                \"11-4\",\n",
    "                \"11-7\",\n",
    "                \"12-19\",\n",
    "                \"12-20\",\n",
    "                \"12-7\",\n",
    "                \"13-14\",\n",
    "                \"13-18\",\n",
    "                \"13-19\",\n",
    "                \"13-20\",\n",
    "                \"13-3\",\n",
    "                \"13-7\",\n",
    "                \"14-10\",\n",
    "                \"14-11\",\n",
    "                \"14-12\",\n",
    "                \"14-13\",\n",
    "                \"14-14\",\n",
    "                \"14-19\",\n",
    "                \"14-20\",\n",
    "                \"14-7\",\n",
    "                \"14-8\",\n",
    "                \"14-9\",\n",
    "                \"15-1\",\n",
    "                \"15-19\",\n",
    "                \"15-6\",\n",
    "                \"16-1\",\n",
    "                \"16-16\",\n",
    "                \"16-19\",\n",
    "                \"16-20\",\n",
    "                \"17-10\",\n",
    "                \"17-11\",\n",
    "                \"18-1\",\n",
    "                \"18-10\",\n",
    "                \"18-11\",\n",
    "                \"18-12\",\n",
    "                \"18-13\",\n",
    "                \"18-14\",\n",
    "                \"18-15\",\n",
    "                \"18-16\",\n",
    "                \"18-17\",\n",
    "                \"18-19\",\n",
    "                \"18-2\",\n",
    "                \"18-20\",\n",
    "                \"18-4\",\n",
    "                \"18-5\",\n",
    "                \"18-7\",\n",
    "                \"18-8\",\n",
    "                \"18-9\",\n",
    "                \"19-1\",\n",
    "                \"19-10\",\n",
    "                \"19-11\",\n",
    "                \"19-12\",\n",
    "                \"19-13\",\n",
    "                \"19-14\",\n",
    "                \"19-15\",\n",
    "                \"19-19\",\n",
    "                \"19-2\",\n",
    "                \"19-20\",\n",
    "                \"19-3\",\n",
    "                \"19-4\",\n",
    "                \"19-6\",\n",
    "                \"19-7\",\n",
    "                \"19-8\",\n",
    "                \"19-9\",\n",
    "                \"2-1\",\n",
    "                \"2-13\",\n",
    "                \"2-15\",\n",
    "                \"2-3\",\n",
    "                \"2-4\",\n",
    "                \"2-5\",\n",
    "                \"2-6\",\n",
    "                \"2-7\",\n",
    "                \"2-8\",\n",
    "                \"20-1\",\n",
    "                \"20-12\",\n",
    "                \"20-14\",\n",
    "                \"20-15\",\n",
    "                \"20-16\",\n",
    "                \"20-18\",\n",
    "                \"20-19\",\n",
    "                \"20-20\",\n",
    "                \"20-3\",\n",
    "                \"20-4\",\n",
    "                \"20-5\",\n",
    "                \"20-7\",\n",
    "                \"20-8\",\n",
    "                \"3-1\",\n",
    "                \"3-13\",\n",
    "                \"3-18\",\n",
    "                \"3-2\",\n",
    "                \"3-8\",\n",
    "                \"4-1\",\n",
    "                \"4-10\",\n",
    "                \"4-11\",\n",
    "                \"5-1\",\n",
    "                \"5-5\",\n",
    "                \"6-1\",\n",
    "                \"6-15\",\n",
    "                \"6-6\",\n",
    "                \"7-10\",\n",
    "                \"7-11\",\n",
    "                \"7-12\",\n",
    "                \"7-13\",\n",
    "                \"7-14\",\n",
    "                \"7-7\",\n",
    "                \"7-8\",\n",
    "                \"7-9\",\n",
    "                \"8-1\",\n",
    "                \"8-13\",\n",
    "                \"8-14\",\n",
    "                \"8-18\",\n",
    "                \"8-20\",\n",
    "                \"8-3\",\n",
    "                \"8-8\",\n",
    "                \"9-1\",\n",
    "                \"9-7\",\n",
    "            ],\n",
    "            \"domains\": [1, 2, 3, 4],\n",
    "            \"num_examples_per_domain_per_label\": -1,\n",
    "            \"pickle_path\": \"/root/csc500-main/datasets/wisig.node3-19.stratified_ds.2022A.pkl\",\n",
    "            \"source_or_target_dataset\": \"target\",\n",
    "            \"x_transforms\": [],\n",
    "            \"episode_transforms\": [],\n",
    "            \"domain_prefix\": \"Wisig_\",\n",
    "        },\n",
    "        {\n",
    "            \"labels\": [\n",
    "                \"3123D52\",\n",
    "                \"3123D65\",\n",
    "                \"3123D79\",\n",
    "                \"3123D80\",\n",
    "                \"3123D54\",\n",
    "                \"3123D70\",\n",
    "                \"3123D7B\",\n",
    "                \"3123D89\",\n",
    "                \"3123D58\",\n",
    "                \"3123D76\",\n",
    "                \"3123D7D\",\n",
    "                \"3123EFE\",\n",
    "                \"3123D64\",\n",
    "                \"3123D78\",\n",
    "                \"3123D7E\",\n",
    "                \"3124E4A\",\n",
    "            ],\n",
    "            \"domains\": [32, 38, 8, 44, 14, 50, 20, 26],\n",
    "            \"num_examples_per_domain_per_label\": 2000,\n",
    "            \"pickle_path\": \"/root/csc500-main/datasets/oracle.Run1_framed_2000Examples_stratified_ds.2022A.pkl\",\n",
    "            \"source_or_target_dataset\": \"source\",\n",
    "            \"x_transforms\": [],\n",
    "            \"episode_transforms\": [],\n",
    "            \"domain_prefix\": \"ORACLE.run1\",\n",
    "        },\n",
    "    ],\n",
    "    \"dataset_seed\": 420,\n",
    "    \"seed\": 420,\n",
    "}\n"
   ]
  },
  {
   "cell_type": "code",
   "execution_count": 5,
   "id": "8fa1cc33",
   "metadata": {
    "execution": {
     "iopub.execute_input": "2022-03-21T09:50:03.116960Z",
     "iopub.status.busy": "2022-03-21T09:50:03.116581Z",
     "iopub.status.idle": "2022-03-21T09:50:03.135753Z",
     "shell.execute_reply": "2022-03-21T09:50:03.135370Z"
    },
    "papermill": {
     "duration": 0.046412,
     "end_time": "2022-03-21T09:50:03.135828",
     "exception": false,
     "start_time": "2022-03-21T09:50:03.089416",
     "status": "completed"
    },
    "tags": []
   },
   "outputs": [],
   "source": [
    "# Set this to True if you want to run this template directly\n",
    "STANDALONE = False\n",
    "if STANDALONE:\n",
    "    print(\"parameters not injected, running with standalone_parameters\")\n",
    "    parameters = standalone_parameters\n",
    "\n",
    "if not 'parameters' in locals() and not 'parameters' in globals():\n",
    "    raise Exception(\"Parameter injection failed\")\n",
    "\n",
    "#Use an easy dict for all the parameters\n",
    "p = EasyDict(parameters)\n",
    "\n",
    "if \"x_shape\" not in p:\n",
    "    p.x_shape = [2,256] # Default to this if we dont supply x_shape\n",
    "\n",
    "\n",
    "supplied_keys = set(p.keys())\n",
    "\n",
    "if  supplied_keys != required_parameters:\n",
    "    print(\"Parameters are incorrect\")\n",
    "    if len(supplied_keys - required_parameters)>0: print(\"Shouldn't have:\", str(supplied_keys - required_parameters))\n",
    "    if len(required_parameters - supplied_keys)>0: print(\"Need to have:\", str(required_parameters - supplied_keys))\n",
    "    raise RuntimeError(\"Parameters are incorrect\")"
   ]
  },
  {
   "cell_type": "code",
   "execution_count": 6,
   "id": "3a028d58",
   "metadata": {
    "execution": {
     "iopub.execute_input": "2022-03-21T09:50:03.180405Z",
     "iopub.status.busy": "2022-03-21T09:50:03.179795Z",
     "iopub.status.idle": "2022-03-21T09:50:03.201369Z",
     "shell.execute_reply": "2022-03-21T09:50:03.200999Z"
    },
    "papermill": {
     "duration": 0.045737,
     "end_time": "2022-03-21T09:50:03.201440",
     "exception": false,
     "start_time": "2022-03-21T09:50:03.155703",
     "status": "completed"
    },
    "tags": []
   },
   "outputs": [],
   "source": [
    "###################################\n",
    "# Set the RNGs and make it all deterministic\n",
    "###################################\n",
    "np.random.seed(p.seed)\n",
    "random.seed(p.seed)\n",
    "torch.manual_seed(p.seed)\n",
    "\n",
    "torch.use_deterministic_algorithms(True) "
   ]
  },
  {
   "cell_type": "code",
   "execution_count": 7,
   "id": "b691acf6",
   "metadata": {
    "execution": {
     "iopub.execute_input": "2022-03-21T09:50:03.245775Z",
     "iopub.status.busy": "2022-03-21T09:50:03.243997Z",
     "iopub.status.idle": "2022-03-21T09:50:03.265549Z",
     "shell.execute_reply": "2022-03-21T09:50:03.265182Z"
    },
    "papermill": {
     "duration": 0.043949,
     "end_time": "2022-03-21T09:50:03.265620",
     "exception": false,
     "start_time": "2022-03-21T09:50:03.221671",
     "status": "completed"
    },
    "tags": []
   },
   "outputs": [],
   "source": [
    "###########################################\n",
    "# The stratified datasets honor this\n",
    "###########################################\n",
    "torch.set_default_dtype(eval(p.torch_default_dtype))"
   ]
  },
  {
   "cell_type": "code",
   "execution_count": 8,
   "id": "b5fba671",
   "metadata": {
    "execution": {
     "iopub.execute_input": "2022-03-21T09:50:03.308810Z",
     "iopub.status.busy": "2022-03-21T09:50:03.308441Z",
     "iopub.status.idle": "2022-03-21T09:50:03.358394Z",
     "shell.execute_reply": "2022-03-21T09:50:03.358074Z"
    },
    "papermill": {
     "duration": 0.072736,
     "end_time": "2022-03-21T09:50:03.358464",
     "exception": false,
     "start_time": "2022-03-21T09:50:03.285728",
     "status": "completed"
    },
    "tags": []
   },
   "outputs": [],
   "source": [
    "###################################\n",
    "# Build the network(s)\n",
    "# Note: It's critical to do this AFTER setting the RNG\n",
    "###################################\n",
    "x_net = build_sequential(p.x_net)"
   ]
  },
  {
   "cell_type": "code",
   "execution_count": 9,
   "id": "5d7e61cc",
   "metadata": {
    "execution": {
     "iopub.execute_input": "2022-03-21T09:50:03.402174Z",
     "iopub.status.busy": "2022-03-21T09:50:03.401804Z",
     "iopub.status.idle": "2022-03-21T09:50:03.423631Z",
     "shell.execute_reply": "2022-03-21T09:50:03.423254Z"
    },
    "papermill": {
     "duration": 0.044749,
     "end_time": "2022-03-21T09:50:03.423702",
     "exception": false,
     "start_time": "2022-03-21T09:50:03.378953",
     "status": "completed"
    },
    "tags": []
   },
   "outputs": [],
   "source": [
    "start_time_secs = time.time()"
   ]
  },
  {
   "cell_type": "code",
   "execution_count": 10,
   "id": "c6b67dfd",
   "metadata": {
    "execution": {
     "iopub.execute_input": "2022-03-21T09:50:03.475127Z",
     "iopub.status.busy": "2022-03-21T09:50:03.474225Z",
     "iopub.status.idle": "2022-03-21T09:50:03.486820Z",
     "shell.execute_reply": "2022-03-21T09:50:03.486501Z"
    },
    "papermill": {
     "duration": 0.042875,
     "end_time": "2022-03-21T09:50:03.486891",
     "exception": false,
     "start_time": "2022-03-21T09:50:03.444016",
     "status": "completed"
    },
    "tags": []
   },
   "outputs": [],
   "source": [
    "p.domains_source = []\n",
    "p.domains_target = []\n",
    "\n",
    "\n",
    "train_original_source = []\n",
    "val_original_source   = []\n",
    "test_original_source  = []\n",
    "\n",
    "train_original_target = []\n",
    "val_original_target   = []\n",
    "test_original_target  = []"
   ]
  },
  {
   "cell_type": "code",
   "execution_count": 11,
   "id": "e3d9c3d3",
   "metadata": {
    "execution": {
     "iopub.execute_input": "2022-03-21T09:50:03.531483Z",
     "iopub.status.busy": "2022-03-21T09:50:03.530656Z",
     "iopub.status.idle": "2022-03-21T09:50:03.552230Z",
     "shell.execute_reply": "2022-03-21T09:50:03.551864Z"
    },
    "papermill": {
     "duration": 0.044608,
     "end_time": "2022-03-21T09:50:03.552302",
     "exception": false,
     "start_time": "2022-03-21T09:50:03.507694",
     "status": "completed"
    },
    "tags": []
   },
   "outputs": [],
   "source": [
    "# global_x_transform_func = lambda x: normalize(x.to(torch.get_default_dtype()), \"unit_power\") # unit_power, unit_mag\n",
    "# global_x_transform_func = lambda x: normalize(x, \"unit_power\") # unit_power, unit_mag"
   ]
  },
  {
   "cell_type": "code",
   "execution_count": 12,
   "id": "acb78fd2",
   "metadata": {
    "execution": {
     "iopub.execute_input": "2022-03-21T09:50:03.600828Z",
     "iopub.status.busy": "2022-03-21T09:50:03.600437Z",
     "iopub.status.idle": "2022-03-21T09:50:03.617479Z",
     "shell.execute_reply": "2022-03-21T09:50:03.617110Z"
    },
    "papermill": {
     "duration": 0.044501,
     "end_time": "2022-03-21T09:50:03.617552",
     "exception": false,
     "start_time": "2022-03-21T09:50:03.573051",
     "status": "completed"
    },
    "tags": []
   },
   "outputs": [],
   "source": [
    "def add_dataset(\n",
    "    labels,\n",
    "    domains,\n",
    "    pickle_path,\n",
    "    x_transforms,\n",
    "    episode_transforms,\n",
    "    domain_prefix,\n",
    "    num_examples_per_domain_per_label,\n",
    "    source_or_target_dataset:str,\n",
    "    iterator_seed=p.seed,\n",
    "    dataset_seed=p.dataset_seed,\n",
    "    n_shot=p.n_shot,\n",
    "    n_way=p.n_way,\n",
    "    n_query=p.n_query,\n",
    "    train_val_test_k_factors=(p.train_k_factor,p.val_k_factor,p.test_k_factor),\n",
    "):\n",
    "   \n",
    "    if x_transforms == []: x_transform = None\n",
    "    else: x_transform = get_chained_transform(x_transforms)\n",
    "    \n",
    "    if episode_transforms == []: episode_transform = None\n",
    "    else: raise Exception(\"episode_transforms not implemented\")\n",
    "    \n",
    "    episode_transform = lambda tup, _prefix=domain_prefix: (_prefix + str(tup[0]), tup[1])\n",
    "\n",
    "\n",
    "    eaf = Episodic_Accessor_Factory(\n",
    "        labels=labels,\n",
    "        domains=domains,\n",
    "        num_examples_per_domain_per_label=num_examples_per_domain_per_label,\n",
    "        iterator_seed=iterator_seed,\n",
    "        dataset_seed=dataset_seed,\n",
    "        n_shot=n_shot,\n",
    "        n_way=n_way,\n",
    "        n_query=n_query,\n",
    "        train_val_test_k_factors=train_val_test_k_factors,\n",
    "        pickle_path=pickle_path,\n",
    "        x_transform_func=x_transform,\n",
    "    )\n",
    "\n",
    "    train, val, test = eaf.get_train(), eaf.get_val(), eaf.get_test()\n",
    "    train = Lazy_Iterable_Wrapper(train, episode_transform)\n",
    "    val = Lazy_Iterable_Wrapper(val, episode_transform)\n",
    "    test = Lazy_Iterable_Wrapper(test, episode_transform)\n",
    "\n",
    "    if source_or_target_dataset==\"source\":\n",
    "        train_original_source.append(train)\n",
    "        val_original_source.append(val)\n",
    "        test_original_source.append(test)\n",
    "\n",
    "        p.domains_source.extend(\n",
    "            [domain_prefix + str(u) for u in domains]\n",
    "        )\n",
    "    elif source_or_target_dataset==\"target\":\n",
    "        train_original_target.append(train)\n",
    "        val_original_target.append(val)\n",
    "        test_original_target.append(test)\n",
    "        p.domains_target.extend(\n",
    "            [domain_prefix + str(u) for u in domains]\n",
    "        )\n",
    "    else:\n",
    "        raise Exception(f\"invalid source_or_target_dataset: {source_or_target_dataset}\")\n",
    "    "
   ]
  },
  {
   "cell_type": "code",
   "execution_count": 13,
   "id": "fe266617",
   "metadata": {
    "execution": {
     "iopub.execute_input": "2022-03-21T09:50:03.663850Z",
     "iopub.status.busy": "2022-03-21T09:50:03.662815Z",
     "iopub.status.idle": "2022-03-21T09:50:07.549299Z",
     "shell.execute_reply": "2022-03-21T09:50:07.548554Z"
    },
    "papermill": {
     "duration": 3.91084,
     "end_time": "2022-03-21T09:50:07.549496",
     "exception": false,
     "start_time": "2022-03-21T09:50:03.638656",
     "status": "completed"
    },
    "tags": []
   },
   "outputs": [],
   "source": [
    "for ds in p.datasets:\n",
    "    add_dataset(**ds)"
   ]
  },
  {
   "cell_type": "code",
   "execution_count": 14,
   "id": "b90d65ac",
   "metadata": {
    "execution": {
     "iopub.execute_input": "2022-03-21T09:50:07.599252Z",
     "iopub.status.busy": "2022-03-21T09:50:07.598871Z",
     "iopub.status.idle": "2022-03-21T09:50:07.621400Z",
     "shell.execute_reply": "2022-03-21T09:50:07.620581Z"
    },
    "papermill": {
     "duration": 0.045363,
     "end_time": "2022-03-21T09:50:07.621560",
     "exception": false,
     "start_time": "2022-03-21T09:50:07.576197",
     "status": "completed"
    },
    "tags": []
   },
   "outputs": [],
   "source": [
    "# from steves_utils.CORES.utils import (\n",
    "#     ALL_NODES,\n",
    "#     ALL_NODES_MINIMUM_1000_EXAMPLES,\n",
    "#     ALL_DAYS\n",
    "# )\n",
    "\n",
    "# add_dataset(\n",
    "#     labels=ALL_NODES,\n",
    "#     domains = ALL_DAYS,\n",
    "#     num_examples_per_domain_per_label=100,\n",
    "#     pickle_path=os.path.join(get_datasets_base_path(), \"cores.stratified_ds.2022A.pkl\"),\n",
    "#     source_or_target_dataset=\"target\",\n",
    "#     x_transform_func=global_x_transform_func,\n",
    "#     domain_modifier=lambda u: f\"cores_{u}\"\n",
    "# )"
   ]
  },
  {
   "cell_type": "code",
   "execution_count": 15,
   "id": "76db484d",
   "metadata": {
    "execution": {
     "iopub.execute_input": "2022-03-21T09:50:07.672602Z",
     "iopub.status.busy": "2022-03-21T09:50:07.670469Z",
     "iopub.status.idle": "2022-03-21T09:50:07.693377Z",
     "shell.execute_reply": "2022-03-21T09:50:07.692562Z"
    },
    "papermill": {
     "duration": 0.04573,
     "end_time": "2022-03-21T09:50:07.693534",
     "exception": false,
     "start_time": "2022-03-21T09:50:07.647804",
     "status": "completed"
    },
    "tags": []
   },
   "outputs": [],
   "source": [
    "# from steves_utils.ORACLE.utils_v2 import (\n",
    "#     ALL_DISTANCES_FEET,\n",
    "#     ALL_RUNS,\n",
    "#     ALL_SERIAL_NUMBERS,\n",
    "# )\n",
    "\n",
    "\n",
    "# add_dataset(\n",
    "#     labels=ALL_SERIAL_NUMBERS,\n",
    "#     domains = list(set(ALL_DISTANCES_FEET) - {2,62}),\n",
    "#     num_examples_per_domain_per_label=100,\n",
    "#     pickle_path=os.path.join(get_datasets_base_path(), \"oracle.Run2_framed_2000Examples_stratified_ds.2022A.pkl\"),\n",
    "#     source_or_target_dataset=\"source\",\n",
    "#     x_transform_func=global_x_transform_func,\n",
    "#     domain_modifier=lambda u: f\"oracle1_{u}\"\n",
    "# )\n"
   ]
  },
  {
   "cell_type": "code",
   "execution_count": 16,
   "id": "97dea9d2",
   "metadata": {
    "execution": {
     "iopub.execute_input": "2022-03-21T09:50:07.744688Z",
     "iopub.status.busy": "2022-03-21T09:50:07.744312Z",
     "iopub.status.idle": "2022-03-21T09:50:07.765119Z",
     "shell.execute_reply": "2022-03-21T09:50:07.764414Z"
    },
    "papermill": {
     "duration": 0.045494,
     "end_time": "2022-03-21T09:50:07.765276",
     "exception": false,
     "start_time": "2022-03-21T09:50:07.719782",
     "status": "completed"
    },
    "tags": []
   },
   "outputs": [],
   "source": [
    "# from steves_utils.ORACLE.utils_v2 import (\n",
    "#     ALL_DISTANCES_FEET,\n",
    "#     ALL_RUNS,\n",
    "#     ALL_SERIAL_NUMBERS,\n",
    "# )\n",
    "\n",
    "\n",
    "# add_dataset(\n",
    "#     labels=ALL_SERIAL_NUMBERS,\n",
    "#     domains = list(set(ALL_DISTANCES_FEET) - {2,62,56}),\n",
    "#     num_examples_per_domain_per_label=100,\n",
    "#     pickle_path=os.path.join(get_datasets_base_path(), \"oracle.Run2_framed_2000Examples_stratified_ds.2022A.pkl\"),\n",
    "#     source_or_target_dataset=\"source\",\n",
    "#     x_transform_func=global_x_transform_func,\n",
    "#     domain_modifier=lambda u: f\"oracle2_{u}\"\n",
    "# )"
   ]
  },
  {
   "cell_type": "code",
   "execution_count": 17,
   "id": "6f289866",
   "metadata": {
    "execution": {
     "iopub.execute_input": "2022-03-21T09:50:07.815640Z",
     "iopub.status.busy": "2022-03-21T09:50:07.815247Z",
     "iopub.status.idle": "2022-03-21T09:50:07.837268Z",
     "shell.execute_reply": "2022-03-21T09:50:07.836466Z"
    },
    "papermill": {
     "duration": 0.045642,
     "end_time": "2022-03-21T09:50:07.837425",
     "exception": false,
     "start_time": "2022-03-21T09:50:07.791783",
     "status": "completed"
    },
    "tags": []
   },
   "outputs": [],
   "source": [
    "# add_dataset(\n",
    "#     labels=list(range(19)),\n",
    "#     domains = [0,1,2],\n",
    "#     num_examples_per_domain_per_label=100,\n",
    "#     pickle_path=os.path.join(get_datasets_base_path(), \"metehan.stratified_ds.2022A.pkl\"),\n",
    "#     source_or_target_dataset=\"target\",\n",
    "#     x_transform_func=global_x_transform_func,\n",
    "#     domain_modifier=lambda u: f\"met_{u}\"\n",
    "# )"
   ]
  },
  {
   "cell_type": "code",
   "execution_count": 18,
   "id": "86a863c3",
   "metadata": {
    "execution": {
     "iopub.execute_input": "2022-03-21T09:50:07.887589Z",
     "iopub.status.busy": "2022-03-21T09:50:07.887192Z",
     "iopub.status.idle": "2022-03-21T09:50:07.907977Z",
     "shell.execute_reply": "2022-03-21T09:50:07.908656Z"
    },
    "papermill": {
     "duration": 0.045263,
     "end_time": "2022-03-21T09:50:07.908841",
     "exception": false,
     "start_time": "2022-03-21T09:50:07.863578",
     "status": "completed"
    },
    "tags": []
   },
   "outputs": [],
   "source": [
    "# # from steves_utils.wisig.utils import (\n",
    "# #     ALL_NODES_MINIMUM_100_EXAMPLES,\n",
    "# #     ALL_NODES_MINIMUM_500_EXAMPLES,\n",
    "# #     ALL_NODES_MINIMUM_1000_EXAMPLES,\n",
    "# #     ALL_DAYS\n",
    "# # )\n",
    "\n",
    "# import steves_utils.wisig.utils as wisig\n",
    "\n",
    "\n",
    "# add_dataset(\n",
    "#     labels=wisig.ALL_NODES_MINIMUM_100_EXAMPLES,\n",
    "#     domains = wisig.ALL_DAYS,\n",
    "#     num_examples_per_domain_per_label=100,\n",
    "#     pickle_path=os.path.join(get_datasets_base_path(), \"wisig.node3-19.stratified_ds.2022A.pkl\"),\n",
    "#     source_or_target_dataset=\"target\",\n",
    "#     x_transform_func=global_x_transform_func,\n",
    "#     domain_modifier=lambda u: f\"wisig_{u}\"\n",
    "# )"
   ]
  },
  {
   "cell_type": "code",
   "execution_count": 19,
   "id": "fd5442bc",
   "metadata": {
    "execution": {
     "iopub.execute_input": "2022-03-21T09:50:07.966166Z",
     "iopub.status.busy": "2022-03-21T09:50:07.964349Z",
     "iopub.status.idle": "2022-03-21T09:50:07.984471Z",
     "shell.execute_reply": "2022-03-21T09:50:07.985112Z"
    },
    "papermill": {
     "duration": 0.049463,
     "end_time": "2022-03-21T09:50:07.985296",
     "exception": false,
     "start_time": "2022-03-21T09:50:07.935833",
     "status": "completed"
    },
    "tags": []
   },
   "outputs": [],
   "source": [
    "###################################\n",
    "# Build the dataset\n",
    "###################################\n",
    "train_original_source = Iterable_Aggregator(train_original_source, p.seed)\n",
    "val_original_source = Iterable_Aggregator(val_original_source, p.seed)\n",
    "test_original_source = Iterable_Aggregator(test_original_source, p.seed)\n",
    "\n",
    "\n",
    "train_original_target = Iterable_Aggregator(train_original_target, p.seed)\n",
    "val_original_target = Iterable_Aggregator(val_original_target, p.seed)\n",
    "test_original_target = Iterable_Aggregator(test_original_target, p.seed)\n",
    "\n",
    "# For CNN We only use X and Y. And we only train on the source.\n",
    "# Properly form the data using a transform lambda and Lazy_Iterable_Wrapper. Finally wrap them in a dataloader\n",
    "\n",
    "transform_lambda = lambda ex: ex[1] # Original is (<domain>, <episode>) so we strip down to episode only\n",
    "\n",
    "train_processed_source = Lazy_Iterable_Wrapper(train_original_source, transform_lambda)\n",
    "val_processed_source   = Lazy_Iterable_Wrapper(val_original_source, transform_lambda)\n",
    "test_processed_source  = Lazy_Iterable_Wrapper(test_original_source, transform_lambda)\n",
    "\n",
    "train_processed_target = Lazy_Iterable_Wrapper(train_original_target, transform_lambda)\n",
    "val_processed_target   = Lazy_Iterable_Wrapper(val_original_target, transform_lambda)\n",
    "test_processed_target  = Lazy_Iterable_Wrapper(test_original_target, transform_lambda)\n",
    "\n",
    "datasets = EasyDict({\n",
    "    \"source\": {\n",
    "        \"original\": {\"train\":train_original_source, \"val\":val_original_source, \"test\":test_original_source},\n",
    "        \"processed\": {\"train\":train_processed_source, \"val\":val_processed_source, \"test\":test_processed_source}\n",
    "    },\n",
    "    \"target\": {\n",
    "        \"original\": {\"train\":train_original_target, \"val\":val_original_target, \"test\":test_original_target},\n",
    "        \"processed\": {\"train\":train_processed_target, \"val\":val_processed_target, \"test\":test_processed_target}\n",
    "    },\n",
    "})"
   ]
  },
  {
   "cell_type": "code",
   "execution_count": 20,
   "id": "5b3c01fc",
   "metadata": {
    "execution": {
     "iopub.execute_input": "2022-03-21T09:50:08.037326Z",
     "iopub.status.busy": "2022-03-21T09:50:08.036334Z",
     "iopub.status.idle": "2022-03-21T09:50:23.607266Z",
     "shell.execute_reply": "2022-03-21T09:50:23.606477Z"
    },
    "papermill": {
     "duration": 15.596018,
     "end_time": "2022-03-21T09:50:23.607458",
     "exception": false,
     "start_time": "2022-03-21T09:50:08.011440",
     "status": "completed"
    },
    "tags": []
   },
   "outputs": [
    {
     "name": "stdout",
     "output_type": "stream",
     "text": [
      "{'ORACLE.run144', 'ORACLE.run18', 'ORACLE.run132', 'ORACLE.run138', 'ORACLE.run126', 'ORACLE.run114', 'ORACLE.run120', 'ORACLE.run150'}\n"
     ]
    },
    {
     "name": "stdout",
     "output_type": "stream",
     "text": [
      "{'Wisig_3', 'Wisig_1', 'Wisig_2', 'Wisig_4'}\n"
     ]
    },
    {
     "name": "stdout",
     "output_type": "stream",
     "text": [
      "tensor([[[ 2.1668e-03,  1.0681e-03, -3.2655e-03,  ..., -9.1556e-04,\n",
      "           4.6083e-03,  1.5870e-03],\n",
      "         [ 5.1881e-04,  4.0590e-03, -1.0376e-03,  ..., -3.5401e-03,\n",
      "          -5.7985e-04, -2.3499e-03]],\n",
      "\n",
      "        [[-2.1973e-03,  1.7396e-03,  1.8006e-03,  ..., -1.8006e-03,\n",
      "          -3.9979e-03, -2.5330e-03],\n",
      "         [-1.6480e-03, -3.4181e-03,  3.1434e-03,  ...,  3.4486e-03,\n",
      "          -2.5941e-03,  9.4607e-04]],\n",
      "\n",
      "        [[-1.2207e-04,  3.7538e-03, -7.6296e-04,  ..., -3.6012e-03,\n",
      "          -5.1881e-04, -2.4415e-03],\n",
      "         [-1.9227e-03, -5.4933e-04,  3.3570e-03,  ..., -6.1037e-05,\n",
      "          -4.8219e-03, -1.8311e-03]],\n",
      "\n",
      "        ...,\n",
      "\n",
      "        [[ 2.9908e-03,  6.7141e-04, -4.0284e-03,  ..., -1.1292e-03,\n",
      "           5.7375e-03,  1.6785e-03],\n",
      "         [ 7.0193e-04,  4.5778e-03, -1.7396e-03,  ..., -4.6693e-03,\n",
      "          -6.1037e-04, -3.9979e-03]],\n",
      "\n",
      "        [[ 4.4862e-03,  1.3733e-03, -5.8596e-03,  ..., -4.8830e-04,\n",
      "           4.6999e-03, -3.4181e-03],\n",
      "         [ 4.5778e-04,  3.8148e-03, -5.4933e-04,  ..., -4.3336e-03,\n",
      "          -3.7233e-03, -4.3336e-03]],\n",
      "\n",
      "        [[ 3.9064e-03,  2.4110e-03, -4.4557e-03,  ..., -3.4486e-03,\n",
      "          -9.1556e-04, -5.9816e-03],\n",
      "         [-3.1434e-03,  2.3804e-03,  4.1505e-03,  ..., -3.6317e-03,\n",
      "          -5.3713e-03,  1.0987e-03]]])\n"
     ]
    }
   ],
   "source": [
    "from steves_utils.transforms import get_average_magnitude, get_average_power\n",
    "\n",
    "print(set([u for u,_ in val_original_source]))\n",
    "print(set([u for u,_ in val_original_target]))\n",
    "\n",
    "s_x, s_y, q_x, q_y, _ = next(iter(train_processed_source))\n",
    "print(s_x)\n",
    "\n",
    "# for ds in [\n",
    "#     train_processed_source,\n",
    "#     val_processed_source,\n",
    "#     test_processed_source,\n",
    "#     train_processed_target,\n",
    "#     val_processed_target,\n",
    "#     test_processed_target\n",
    "# ]:\n",
    "#     for s_x, s_y, q_x, q_y, _ in ds:\n",
    "#         for X in (s_x, q_x):\n",
    "#             for x in X:\n",
    "#                 assert np.isclose(get_average_magnitude(x.numpy()), 1.0)\n",
    "#                 assert np.isclose(get_average_power(x.numpy()), 1.0)\n",
    "                "
   ]
  },
  {
   "cell_type": "code",
   "execution_count": 21,
   "id": "bbdacba1",
   "metadata": {
    "execution": {
     "iopub.execute_input": "2022-03-21T09:50:23.664600Z",
     "iopub.status.busy": "2022-03-21T09:50:23.664033Z",
     "iopub.status.idle": "2022-03-21T09:50:23.882961Z",
     "shell.execute_reply": "2022-03-21T09:50:23.883279Z"
    },
    "papermill": {
     "duration": 0.247165,
     "end_time": "2022-03-21T09:50:23.883399",
     "exception": false,
     "start_time": "2022-03-21T09:50:23.636234",
     "status": "completed"
    },
    "tags": []
   },
   "outputs": [
    {
     "name": "stdout",
     "output_type": "stream",
     "text": [
      "(2, 256)\n"
     ]
    }
   ],
   "source": [
    "###################################\n",
    "# Build the model\n",
    "###################################\n",
    "# easfsl only wants a tuple for the shape\n",
    "model = Steves_Prototypical_Network(x_net, device=p.device, x_shape=tuple(p.x_shape))\n",
    "optimizer = Adam(params=model.parameters(), lr=p.lr)"
   ]
  },
  {
   "cell_type": "code",
   "execution_count": 22,
   "id": "22b39ac5",
   "metadata": {
    "execution": {
     "iopub.execute_input": "2022-03-21T09:50:23.958535Z",
     "iopub.status.busy": "2022-03-21T09:50:23.957887Z",
     "iopub.status.idle": "2022-03-21T10:24:55.585216Z",
     "shell.execute_reply": "2022-03-21T10:24:55.584871Z"
    },
    "papermill": {
     "duration": 2071.655191,
     "end_time": "2022-03-21T10:24:55.585311",
     "exception": false,
     "start_time": "2022-03-21T09:50:23.930120",
     "status": "completed"
    },
    "tags": []
   },
   "outputs": [
    {
     "name": "stdout",
     "output_type": "stream",
     "text": [
      "epoch: 1, [batch: 1 / 6720], examples_per_second: 33.3464, train_label_loss: 2.9245, \n"
     ]
    },
    {
     "name": "stdout",
     "output_type": "stream",
     "text": [
      "epoch: 1, [batch: 672 / 6720], examples_per_second: 2358.4228, train_label_loss: 0.5419, \n"
     ]
    },
    {
     "name": "stdout",
     "output_type": "stream",
     "text": [
      "epoch: 1, [batch: 1344 / 6720], examples_per_second: 2537.7879, train_label_loss: 0.4279, \n"
     ]
    },
    {
     "name": "stdout",
     "output_type": "stream",
     "text": [
      "epoch: 1, [batch: 2016 / 6720], examples_per_second: 2600.5254, train_label_loss: 0.5916, \n"
     ]
    },
    {
     "name": "stdout",
     "output_type": "stream",
     "text": [
      "epoch: 1, [batch: 2688 / 6720], examples_per_second: 2812.3739, train_label_loss: 0.6834, \n"
     ]
    },
    {
     "name": "stdout",
     "output_type": "stream",
     "text": [
      "epoch: 1, [batch: 3360 / 6720], examples_per_second: 2551.0492, train_label_loss: 0.0959, \n"
     ]
    },
    {
     "name": "stdout",
     "output_type": "stream",
     "text": [
      "epoch: 1, [batch: 4032 / 6720], examples_per_second: 2546.1714, train_label_loss: 0.0831, \n"
     ]
    },
    {
     "name": "stdout",
     "output_type": "stream",
     "text": [
      "epoch: 1, [batch: 4704 / 6720], examples_per_second: 2554.6008, train_label_loss: 0.1378, \n"
     ]
    },
    {
     "name": "stdout",
     "output_type": "stream",
     "text": [
      "epoch: 1, [batch: 5376 / 6720], examples_per_second: 2534.0202, train_label_loss: 0.2118, \n"
     ]
    },
    {
     "name": "stdout",
     "output_type": "stream",
     "text": [
      "epoch: 1, [batch: 6048 / 6720], examples_per_second: 2645.4655, train_label_loss: 0.3340, \n"
     ]
    },
    {
     "name": "stdout",
     "output_type": "stream",
     "text": [
      "=============================================================\n",
      "epoch: 1, source_val_acc_label: 0.6995, target_val_acc_label: 0.7367, source_val_label_loss: 15.8548, target_val_label_loss: 4972.3555, \n",
      "=============================================================\n"
     ]
    },
    {
     "name": "stdout",
     "output_type": "stream",
     "text": [
      "New best\n"
     ]
    },
    {
     "name": "stdout",
     "output_type": "stream",
     "text": [
      "epoch: 2, [batch: 1 / 6720], examples_per_second: 3.0582, train_label_loss: 0.3487, \n"
     ]
    },
    {
     "name": "stdout",
     "output_type": "stream",
     "text": [
      "epoch: 2, [batch: 672 / 6720], examples_per_second: 2515.3370, train_label_loss: 0.1119, \n"
     ]
    },
    {
     "name": "stdout",
     "output_type": "stream",
     "text": [
      "epoch: 2, [batch: 1344 / 6720], examples_per_second: 2587.4259, train_label_loss: 0.3085, \n"
     ]
    },
    {
     "name": "stdout",
     "output_type": "stream",
     "text": [
      "epoch: 2, [batch: 2016 / 6720], examples_per_second: 2643.5680, train_label_loss: 0.1518, \n"
     ]
    },
    {
     "name": "stdout",
     "output_type": "stream",
     "text": [
      "epoch: 2, [batch: 2688 / 6720], examples_per_second: 2389.2180, train_label_loss: 0.3047, \n"
     ]
    },
    {
     "name": "stdout",
     "output_type": "stream",
     "text": [
      "epoch: 2, [batch: 3360 / 6720], examples_per_second: 2331.4787, train_label_loss: 0.2281, \n"
     ]
    },
    {
     "name": "stdout",
     "output_type": "stream",
     "text": [
      "epoch: 2, [batch: 4032 / 6720], examples_per_second: 2329.4055, train_label_loss: 0.2978, \n"
     ]
    },
    {
     "name": "stdout",
     "output_type": "stream",
     "text": [
      "epoch: 2, [batch: 4704 / 6720], examples_per_second: 2312.5263, train_label_loss: 0.2760, \n"
     ]
    },
    {
     "name": "stdout",
     "output_type": "stream",
     "text": [
      "epoch: 2, [batch: 5376 / 6720], examples_per_second: 2319.4111, train_label_loss: 0.3216, \n"
     ]
    },
    {
     "name": "stdout",
     "output_type": "stream",
     "text": [
      "epoch: 2, [batch: 6048 / 6720], examples_per_second: 2314.4500, train_label_loss: 0.1555, \n"
     ]
    },
    {
     "name": "stdout",
     "output_type": "stream",
     "text": [
      "=============================================================\n",
      "epoch: 2, source_val_acc_label: 0.9060, target_val_acc_label: 0.7638, source_val_label_loss: 0.2668, target_val_label_loss: 2906.2715, \n",
      "=============================================================\n"
     ]
    },
    {
     "name": "stdout",
     "output_type": "stream",
     "text": [
      "New best\n"
     ]
    },
    {
     "name": "stdout",
     "output_type": "stream",
     "text": [
      "epoch: 3, [batch: 1 / 6720], examples_per_second: 2.2663, train_label_loss: 0.1917, \n"
     ]
    },
    {
     "name": "stdout",
     "output_type": "stream",
     "text": [
      "epoch: 3, [batch: 672 / 6720], examples_per_second: 2600.7409, train_label_loss: 0.2973, \n"
     ]
    },
    {
     "name": "stdout",
     "output_type": "stream",
     "text": [
      "epoch: 3, [batch: 1344 / 6720], examples_per_second: 2624.2169, train_label_loss: 0.2324, \n"
     ]
    },
    {
     "name": "stdout",
     "output_type": "stream",
     "text": [
      "epoch: 3, [batch: 2016 / 6720], examples_per_second: 2564.8936, train_label_loss: 0.1924, \n"
     ]
    },
    {
     "name": "stdout",
     "output_type": "stream",
     "text": [
      "epoch: 3, [batch: 2688 / 6720], examples_per_second: 2323.3452, train_label_loss: 0.1751, \n"
     ]
    },
    {
     "name": "stdout",
     "output_type": "stream",
     "text": [
      "epoch: 3, [batch: 3360 / 6720], examples_per_second: 2316.9214, train_label_loss: 0.3609, \n"
     ]
    },
    {
     "name": "stdout",
     "output_type": "stream",
     "text": [
      "epoch: 3, [batch: 4032 / 6720], examples_per_second: 2304.9177, train_label_loss: 0.5167, \n"
     ]
    },
    {
     "name": "stdout",
     "output_type": "stream",
     "text": [
      "epoch: 3, [batch: 4704 / 6720], examples_per_second: 2308.7204, train_label_loss: 0.1198, \n"
     ]
    },
    {
     "name": "stdout",
     "output_type": "stream",
     "text": [
      "epoch: 3, [batch: 5376 / 6720], examples_per_second: 2334.1387, train_label_loss: 0.2450, \n"
     ]
    },
    {
     "name": "stdout",
     "output_type": "stream",
     "text": [
      "epoch: 3, [batch: 6048 / 6720], examples_per_second: 2303.9856, train_label_loss: 0.1890, \n"
     ]
    },
    {
     "name": "stdout",
     "output_type": "stream",
     "text": [
      "=============================================================\n",
      "epoch: 3, source_val_acc_label: 0.9348, target_val_acc_label: 0.7666, source_val_label_loss: 0.1900, target_val_label_loss: 3464.8157, \n",
      "=============================================================\n"
     ]
    },
    {
     "name": "stdout",
     "output_type": "stream",
     "text": [
      "New best\n"
     ]
    },
    {
     "name": "stdout",
     "output_type": "stream",
     "text": [
      "epoch: 4, [batch: 1 / 6720], examples_per_second: 2.2577, train_label_loss: 0.1012, \n"
     ]
    },
    {
     "name": "stdout",
     "output_type": "stream",
     "text": [
      "epoch: 4, [batch: 672 / 6720], examples_per_second: 2633.2045, train_label_loss: 0.0490, \n"
     ]
    },
    {
     "name": "stdout",
     "output_type": "stream",
     "text": [
      "epoch: 4, [batch: 1344 / 6720], examples_per_second: 2555.7820, train_label_loss: 0.1227, \n"
     ]
    },
    {
     "name": "stdout",
     "output_type": "stream",
     "text": [
      "epoch: 4, [batch: 2016 / 6720], examples_per_second: 2304.6803, train_label_loss: 0.0565, \n"
     ]
    },
    {
     "name": "stdout",
     "output_type": "stream",
     "text": [
      "epoch: 4, [batch: 2688 / 6720], examples_per_second: 2306.9919, train_label_loss: 0.2081, \n"
     ]
    },
    {
     "name": "stdout",
     "output_type": "stream",
     "text": [
      "epoch: 4, [batch: 3360 / 6720], examples_per_second: 2321.5401, train_label_loss: 0.2336, \n"
     ]
    },
    {
     "name": "stdout",
     "output_type": "stream",
     "text": [
      "epoch: 4, [batch: 4032 / 6720], examples_per_second: 2317.8879, train_label_loss: 0.2366, \n"
     ]
    },
    {
     "name": "stdout",
     "output_type": "stream",
     "text": [
      "epoch: 4, [batch: 4704 / 6720], examples_per_second: 2314.1989, train_label_loss: 0.4723, \n"
     ]
    },
    {
     "name": "stdout",
     "output_type": "stream",
     "text": [
      "epoch: 4, [batch: 5376 / 6720], examples_per_second: 2333.5924, train_label_loss: 0.0811, \n"
     ]
    },
    {
     "name": "stdout",
     "output_type": "stream",
     "text": [
      "epoch: 4, [batch: 6048 / 6720], examples_per_second: 2325.2223, train_label_loss: 0.0373, \n"
     ]
    },
    {
     "name": "stdout",
     "output_type": "stream",
     "text": [
      "=============================================================\n",
      "epoch: 4, source_val_acc_label: 0.9317, target_val_acc_label: 0.7675, source_val_label_loss: 0.1953, target_val_label_loss: 3361.3633, \n",
      "=============================================================\n"
     ]
    },
    {
     "name": "stdout",
     "output_type": "stream",
     "text": [
      "New best\n"
     ]
    },
    {
     "name": "stdout",
     "output_type": "stream",
     "text": [
      "epoch: 5, [batch: 1 / 6720], examples_per_second: 2.3338, train_label_loss: 0.2124, \n"
     ]
    },
    {
     "name": "stdout",
     "output_type": "stream",
     "text": [
      "epoch: 5, [batch: 672 / 6720], examples_per_second: 2669.4663, train_label_loss: 0.1679, \n"
     ]
    },
    {
     "name": "stdout",
     "output_type": "stream",
     "text": [
      "epoch: 5, [batch: 1344 / 6720], examples_per_second: 2664.2293, train_label_loss: 0.2518, \n"
     ]
    },
    {
     "name": "stdout",
     "output_type": "stream",
     "text": [
      "epoch: 5, [batch: 2016 / 6720], examples_per_second: 2628.0759, train_label_loss: 0.3116, \n"
     ]
    },
    {
     "name": "stdout",
     "output_type": "stream",
     "text": [
      "epoch: 5, [batch: 2688 / 6720], examples_per_second: 2583.4209, train_label_loss: 0.1282, \n"
     ]
    },
    {
     "name": "stdout",
     "output_type": "stream",
     "text": [
      "epoch: 5, [batch: 3360 / 6720], examples_per_second: 2648.6165, train_label_loss: 0.1566, \n"
     ]
    },
    {
     "name": "stdout",
     "output_type": "stream",
     "text": [
      "epoch: 5, [batch: 4032 / 6720], examples_per_second: 2647.9968, train_label_loss: 0.3843, \n"
     ]
    },
    {
     "name": "stdout",
     "output_type": "stream",
     "text": [
      "epoch: 5, [batch: 4704 / 6720], examples_per_second: 2628.6019, train_label_loss: 0.1601, \n"
     ]
    },
    {
     "name": "stdout",
     "output_type": "stream",
     "text": [
      "epoch: 5, [batch: 5376 / 6720], examples_per_second: 2599.8436, train_label_loss: 0.1224, \n"
     ]
    },
    {
     "name": "stdout",
     "output_type": "stream",
     "text": [
      "epoch: 5, [batch: 6048 / 6720], examples_per_second: 2596.7487, train_label_loss: 0.0777, \n"
     ]
    },
    {
     "name": "stdout",
     "output_type": "stream",
     "text": [
      "=============================================================\n",
      "epoch: 5, source_val_acc_label: 0.9419, target_val_acc_label: 0.7482, source_val_label_loss: 0.1623, target_val_label_loss: 5249.5625, \n",
      "=============================================================\n"
     ]
    },
    {
     "name": "stdout",
     "output_type": "stream",
     "text": [
      "epoch: 6, [batch: 1 / 6720], examples_per_second: 2.9935, train_label_loss: 0.0942, \n"
     ]
    },
    {
     "name": "stdout",
     "output_type": "stream",
     "text": [
      "epoch: 6, [batch: 672 / 6720], examples_per_second: 3628.2773, train_label_loss: 0.0786, \n"
     ]
    },
    {
     "name": "stdout",
     "output_type": "stream",
     "text": [
      "epoch: 6, [batch: 1344 / 6720], examples_per_second: 3455.4753, train_label_loss: 0.3887, \n"
     ]
    },
    {
     "name": "stdout",
     "output_type": "stream",
     "text": [
      "epoch: 6, [batch: 2016 / 6720], examples_per_second: 3369.1936, train_label_loss: 0.2720, \n"
     ]
    },
    {
     "name": "stdout",
     "output_type": "stream",
     "text": [
      "epoch: 6, [batch: 2688 / 6720], examples_per_second: 3311.2753, train_label_loss: 0.2704, \n"
     ]
    },
    {
     "name": "stdout",
     "output_type": "stream",
     "text": [
      "epoch: 6, [batch: 3360 / 6720], examples_per_second: 3447.9732, train_label_loss: 0.0501, \n"
     ]
    },
    {
     "name": "stdout",
     "output_type": "stream",
     "text": [
      "epoch: 6, [batch: 4032 / 6720], examples_per_second: 3137.3680, train_label_loss: 0.2186, \n"
     ]
    },
    {
     "name": "stdout",
     "output_type": "stream",
     "text": [
      "epoch: 6, [batch: 4704 / 6720], examples_per_second: 2655.3254, train_label_loss: 0.2632, \n"
     ]
    },
    {
     "name": "stdout",
     "output_type": "stream",
     "text": [
      "epoch: 6, [batch: 5376 / 6720], examples_per_second: 2330.0280, train_label_loss: 0.1713, \n"
     ]
    },
    {
     "name": "stdout",
     "output_type": "stream",
     "text": [
      "epoch: 6, [batch: 6048 / 6720], examples_per_second: 2319.7654, train_label_loss: 0.5230, \n"
     ]
    },
    {
     "name": "stdout",
     "output_type": "stream",
     "text": [
      "=============================================================\n",
      "epoch: 6, source_val_acc_label: 0.9394, target_val_acc_label: 0.7508, source_val_label_loss: 0.1694, target_val_label_loss: 5356.8296, \n",
      "=============================================================\n"
     ]
    },
    {
     "name": "stdout",
     "output_type": "stream",
     "text": [
      "epoch: 7, [batch: 1 / 6720], examples_per_second: 2.1951, train_label_loss: 0.0127, \n"
     ]
    },
    {
     "name": "stdout",
     "output_type": "stream",
     "text": [
      "epoch: 7, [batch: 672 / 6720], examples_per_second: 2464.0538, train_label_loss: 0.0704, \n"
     ]
    },
    {
     "name": "stdout",
     "output_type": "stream",
     "text": [
      "epoch: 7, [batch: 1344 / 6720], examples_per_second: 2338.9249, train_label_loss: 0.0464, \n"
     ]
    },
    {
     "name": "stdout",
     "output_type": "stream",
     "text": [
      "epoch: 7, [batch: 2016 / 6720], examples_per_second: 2640.7478, train_label_loss: 0.2976, \n"
     ]
    },
    {
     "name": "stdout",
     "output_type": "stream",
     "text": [
      "epoch: 7, [batch: 2688 / 6720], examples_per_second: 2610.4054, train_label_loss: 0.0805, \n"
     ]
    },
    {
     "name": "stdout",
     "output_type": "stream",
     "text": [
      "epoch: 7, [batch: 3360 / 6720], examples_per_second: 2629.2433, train_label_loss: 0.2241, \n"
     ]
    },
    {
     "name": "stdout",
     "output_type": "stream",
     "text": [
      "epoch: 7, [batch: 4032 / 6720], examples_per_second: 2323.8749, train_label_loss: 0.1939, \n"
     ]
    },
    {
     "name": "stdout",
     "output_type": "stream",
     "text": [
      "epoch: 7, [batch: 4704 / 6720], examples_per_second: 2322.1376, train_label_loss: 0.2820, \n"
     ]
    },
    {
     "name": "stdout",
     "output_type": "stream",
     "text": [
      "epoch: 7, [batch: 5376 / 6720], examples_per_second: 2341.4783, train_label_loss: 0.2536, \n"
     ]
    },
    {
     "name": "stdout",
     "output_type": "stream",
     "text": [
      "epoch: 7, [batch: 6048 / 6720], examples_per_second: 2329.5514, train_label_loss: 0.0190, \n"
     ]
    },
    {
     "name": "stdout",
     "output_type": "stream",
     "text": [
      "=============================================================\n",
      "epoch: 7, source_val_acc_label: 0.9461, target_val_acc_label: 0.7578, source_val_label_loss: 0.1525, target_val_label_loss: 3413.5312, \n",
      "=============================================================\n"
     ]
    },
    {
     "name": "stdout",
     "output_type": "stream",
     "text": [
      "epoch: 8, [batch: 1 / 6720], examples_per_second: 2.2052, train_label_loss: 0.0740, \n"
     ]
    },
    {
     "name": "stdout",
     "output_type": "stream",
     "text": [
      "epoch: 8, [batch: 672 / 6720], examples_per_second: 2521.9281, train_label_loss: 0.1448, \n"
     ]
    },
    {
     "name": "stdout",
     "output_type": "stream",
     "text": [
      "epoch: 8, [batch: 1344 / 6720], examples_per_second: 2471.4747, train_label_loss: 0.0459, \n"
     ]
    },
    {
     "name": "stdout",
     "output_type": "stream",
     "text": [
      "epoch: 8, [batch: 2016 / 6720], examples_per_second: 2662.6820, train_label_loss: 0.3410, \n"
     ]
    },
    {
     "name": "stdout",
     "output_type": "stream",
     "text": [
      "epoch: 8, [batch: 2688 / 6720], examples_per_second: 2703.4448, train_label_loss: 0.0939, \n"
     ]
    },
    {
     "name": "stdout",
     "output_type": "stream",
     "text": [
      "epoch: 8, [batch: 3360 / 6720], examples_per_second: 2400.5926, train_label_loss: 0.1125, \n"
     ]
    },
    {
     "name": "stdout",
     "output_type": "stream",
     "text": [
      "epoch: 8, [batch: 4032 / 6720], examples_per_second: 2303.6965, train_label_loss: 0.2239, \n"
     ]
    },
    {
     "name": "stdout",
     "output_type": "stream",
     "text": [
      "epoch: 8, [batch: 4704 / 6720], examples_per_second: 2312.9930, train_label_loss: 0.2644, \n"
     ]
    },
    {
     "name": "stdout",
     "output_type": "stream",
     "text": [
      "epoch: 8, [batch: 5376 / 6720], examples_per_second: 2335.7285, train_label_loss: 0.0199, \n"
     ]
    },
    {
     "name": "stdout",
     "output_type": "stream",
     "text": [
      "epoch: 8, [batch: 6048 / 6720], examples_per_second: 2314.7856, train_label_loss: 0.2036, \n"
     ]
    },
    {
     "name": "stdout",
     "output_type": "stream",
     "text": [
      "=============================================================\n",
      "epoch: 8, source_val_acc_label: 0.9482, target_val_acc_label: 0.7603, source_val_label_loss: 0.1453, target_val_label_loss: 4070.1899, \n",
      "=============================================================\n"
     ]
    },
    {
     "name": "stdout",
     "output_type": "stream",
     "text": [
      "Patience (3) exhausted\n"
     ]
    }
   ],
   "source": [
    "###################################\n",
    "# train\n",
    "###################################\n",
    "jig = PTN_Train_Eval_Test_Jig(model, p.BEST_MODEL_PATH, p.device)\n",
    "\n",
    "jig.train(\n",
    "    train_iterable=datasets.source.processed.train,\n",
    "    source_val_iterable=datasets.source.processed.val,\n",
    "    target_val_iterable=datasets.target.processed.val,\n",
    "    num_epochs=p.n_epoch,\n",
    "    num_logs_per_epoch=p.NUM_LOGS_PER_EPOCH,\n",
    "    patience=p.patience,\n",
    "    optimizer=optimizer,\n",
    "    criteria_for_best=p.criteria_for_best,\n",
    ")"
   ]
  },
  {
   "cell_type": "code",
   "execution_count": 23,
   "id": "31e8fabf",
   "metadata": {
    "execution": {
     "iopub.execute_input": "2022-03-21T10:24:55.684766Z",
     "iopub.status.busy": "2022-03-21T10:24:55.684389Z",
     "iopub.status.idle": "2022-03-21T10:24:55.716614Z",
     "shell.execute_reply": "2022-03-21T10:24:55.717276Z"
    },
    "papermill": {
     "duration": 0.084966,
     "end_time": "2022-03-21T10:24:55.717463",
     "exception": false,
     "start_time": "2022-03-21T10:24:55.632497",
     "status": "completed"
    },
    "tags": []
   },
   "outputs": [],
   "source": [
    "total_experiment_time_secs = time.time() - start_time_secs"
   ]
  },
  {
   "cell_type": "code",
   "execution_count": 24,
   "id": "87b9595b",
   "metadata": {
    "execution": {
     "iopub.execute_input": "2022-03-21T10:24:55.828527Z",
     "iopub.status.busy": "2022-03-21T10:24:55.826079Z",
     "iopub.status.idle": "2022-03-21T10:29:33.139499Z",
     "shell.execute_reply": "2022-03-21T10:29:33.140192Z"
    },
    "papermill": {
     "duration": 277.369069,
     "end_time": "2022-03-21T10:29:33.140428",
     "exception": false,
     "start_time": "2022-03-21T10:24:55.771359",
     "status": "completed"
    },
    "tags": []
   },
   "outputs": [],
   "source": [
    "###################################\n",
    "# Evaluate the model\n",
    "###################################\n",
    "source_test_label_accuracy, source_test_label_loss = jig.test(datasets.source.processed.test)\n",
    "target_test_label_accuracy, target_test_label_loss = jig.test(datasets.target.processed.test)\n",
    "\n",
    "source_val_label_accuracy, source_val_label_loss = jig.test(datasets.source.processed.val)\n",
    "target_val_label_accuracy, target_val_label_loss = jig.test(datasets.target.processed.val)\n",
    "\n",
    "history = jig.get_history()\n",
    "\n",
    "total_epochs_trained = len(history[\"epoch_indices\"])\n",
    "\n",
    "val_dl = Iterable_Aggregator((datasets.source.original.val,datasets.target.original.val))\n",
    "\n",
    "confusion = ptn_confusion_by_domain_over_dataloader(model, p.device, val_dl)\n",
    "per_domain_accuracy = per_domain_accuracy_from_confusion(confusion)\n",
    "\n",
    "# Add a key to per_domain_accuracy for if it was a source domain\n",
    "for domain, accuracy in per_domain_accuracy.items():\n",
    "    per_domain_accuracy[domain] = {\n",
    "        \"accuracy\": accuracy,\n",
    "        \"source?\": domain in p.domains_source\n",
    "    }\n",
    "\n",
    "# Do an independent accuracy assesment JUST TO BE SURE!\n",
    "# _source_test_label_accuracy = independent_accuracy_assesment(model, datasets.source.processed.test, p.device)\n",
    "# _target_test_label_accuracy = independent_accuracy_assesment(model, datasets.target.processed.test, p.device)\n",
    "# _source_val_label_accuracy = independent_accuracy_assesment(model, datasets.source.processed.val, p.device)\n",
    "# _target_val_label_accuracy = independent_accuracy_assesment(model, datasets.target.processed.val, p.device)\n",
    "\n",
    "# assert(_source_test_label_accuracy == source_test_label_accuracy)\n",
    "# assert(_target_test_label_accuracy == target_test_label_accuracy)\n",
    "# assert(_source_val_label_accuracy == source_val_label_accuracy)\n",
    "# assert(_target_val_label_accuracy == target_val_label_accuracy)\n",
    "\n",
    "experiment = {\n",
    "    \"experiment_name\": p.experiment_name,\n",
    "    \"parameters\": dict(p),\n",
    "    \"results\": {\n",
    "        \"source_test_label_accuracy\": source_test_label_accuracy,\n",
    "        \"source_test_label_loss\": source_test_label_loss,\n",
    "        \"target_test_label_accuracy\": target_test_label_accuracy,\n",
    "        \"target_test_label_loss\": target_test_label_loss,\n",
    "        \"source_val_label_accuracy\": source_val_label_accuracy,\n",
    "        \"source_val_label_loss\": source_val_label_loss,\n",
    "        \"target_val_label_accuracy\": target_val_label_accuracy,\n",
    "        \"target_val_label_loss\": target_val_label_loss,\n",
    "        \"total_epochs_trained\": total_epochs_trained,\n",
    "        \"total_experiment_time_secs\": total_experiment_time_secs,\n",
    "        \"confusion\": confusion,\n",
    "        \"per_domain_accuracy\": per_domain_accuracy,\n",
    "    },\n",
    "    \"history\": history,\n",
    "    \"dataset_metrics\": get_dataset_metrics(datasets, \"ptn\"),\n",
    "}"
   ]
  },
  {
   "cell_type": "code",
   "execution_count": 25,
   "id": "54a21829",
   "metadata": {
    "execution": {
     "iopub.execute_input": "2022-03-21T10:29:33.244377Z",
     "iopub.status.busy": "2022-03-21T10:29:33.243995Z",
     "iopub.status.idle": "2022-03-21T10:29:33.463313Z",
     "shell.execute_reply": "2022-03-21T10:29:33.464072Z"
    },
    "papermill": {
     "duration": 0.271276,
     "end_time": "2022-03-21T10:29:33.464304",
     "exception": false,
     "start_time": "2022-03-21T10:29:33.193028",
     "status": "completed"
    },
    "tags": []
   },
   "outputs": [
    {
     "data": {
      "image/png": "[encoded data removed]",
      "text/plain": [
       "<Figure size 1080x504 with 1 Axes>"
      ]
     },
     "metadata": {
      "needs_background": "light"
     },
     "output_type": "display_data"
    }
   ],
   "source": [
    "ax = get_loss_curve(experiment)\n",
    "plt.show()"
   ]
  },
  {
   "cell_type": "code",
   "execution_count": 26,
   "id": "fd8a0f60",
   "metadata": {
    "execution": {
     "iopub.execute_input": "2022-03-21T10:29:33.569809Z",
     "iopub.status.busy": "2022-03-21T10:29:33.569178Z",
     "iopub.status.idle": "2022-03-21T10:29:33.882058Z",
     "shell.execute_reply": "2022-03-21T10:29:33.882730Z"
    },
    "papermill": {
     "duration": 0.366343,
     "end_time": "2022-03-21T10:29:33.882942",
     "exception": false,
     "start_time": "2022-03-21T10:29:33.516599",
     "status": "completed"
    },
    "tags": []
   },
   "outputs": [
    {
     "data": {
      "text/plain": [
       "<AxesSubplot:title={'center':'Results'}>"
      ]
     },
     "execution_count": 26,
     "metadata": {},
     "output_type": "execute_result"
    },
    {
     "data": {
      "image/png": "[encoded data removed]",
      "text/plain": [
       "<Figure size 1080x504 with 1 Axes>"
      ]
     },
     "metadata": {
      "needs_background": "light"
     },
     "output_type": "display_data"
    }
   ],
   "source": [
    "get_results_table(experiment)"
   ]
  },
  {
   "cell_type": "code",
   "execution_count": 27,
   "id": "cf8dc689",
   "metadata": {
    "execution": {
     "iopub.execute_input": "2022-03-21T10:29:33.992736Z",
     "iopub.status.busy": "2022-03-21T10:29:33.992359Z",
     "iopub.status.idle": "2022-03-21T10:29:34.243339Z",
     "shell.execute_reply": "2022-03-21T10:29:34.244032Z"
    },
    "papermill": {
     "duration": 0.308078,
     "end_time": "2022-03-21T10:29:34.244240",
     "exception": false,
     "start_time": "2022-03-21T10:29:33.936162",
     "status": "completed"
    },
    "tags": []
   },
   "outputs": [
    {
     "data": {
      "text/plain": [
       "<AxesSubplot:title={'center':'Per Domain Validation Accuracy'}, xlabel='domain'>"
      ]
     },
     "execution_count": 27,
     "metadata": {},
     "output_type": "execute_result"
    },
    {
     "data": {
      "image/png": "[encoded data removed]",
      "text/plain": [
       "<Figure size 1080x504 with 1 Axes>"
      ]
     },
     "metadata": {
      "needs_background": "light"
     },
     "output_type": "display_data"
    }
   ],
   "source": [
    "get_domain_accuracies(experiment)"
   ]
  },
  {
   "cell_type": "code",
   "execution_count": 28,
   "id": "a74ae082",
   "metadata": {
    "execution": {
     "iopub.execute_input": "2022-03-21T10:29:34.358585Z",
     "iopub.status.busy": "2022-03-21T10:29:34.358205Z",
     "iopub.status.idle": "2022-03-21T10:29:34.385046Z",
     "shell.execute_reply": "2022-03-21T10:29:34.384343Z"
    },
    "papermill": {
     "duration": 0.084015,
     "end_time": "2022-03-21T10:29:34.385205",
     "exception": false,
     "start_time": "2022-03-21T10:29:34.301190",
     "status": "completed"
    },
    "tags": []
   },
   "outputs": [
    {
     "name": "stdout",
     "output_type": "stream",
     "text": [
      "Source Test Label Accuracy: 0.9308268229166666 Target Test Label Accuracy: 0.766110248447205\n",
      "Source Val Label Accuracy: 0.9316731770833333 Target Val Label Accuracy: 0.7674748942917548\n"
     ]
    }
   ],
   "source": [
    "print(\"Source Test Label Accuracy:\", experiment[\"results\"][\"source_test_label_accuracy\"], \"Target Test Label Accuracy:\", experiment[\"results\"][\"target_test_label_accuracy\"])\n",
    "print(\"Source Val Label Accuracy:\", experiment[\"results\"][\"source_val_label_accuracy\"], \"Target Val Label Accuracy:\", experiment[\"results\"][\"target_val_label_accuracy\"])"
   ]
  },
  {
   "cell_type": "code",
   "execution_count": 29,
   "id": "dacca602",
   "metadata": {
    "execution": {
     "iopub.execute_input": "2022-03-21T10:29:34.506261Z",
     "iopub.status.busy": "2022-03-21T10:29:34.505880Z",
     "iopub.status.idle": "2022-03-21T10:29:34.538522Z",
     "shell.execute_reply": "2022-03-21T10:29:34.539202Z"
    },
    "papermill": {
     "duration": 0.099084,
     "end_time": "2022-03-21T10:29:34.539427",
     "exception": false,
     "start_time": "2022-03-21T10:29:34.440343",
     "status": "completed"
    },
    "tags": [
     "experiment_json"
    ]
   },
   "outputs": [
    {
     "data": {
      "text/plain": [
       "'{\"experiment_name\": \"tl_1v2:wisig-oracle.run1.framed\", \"parameters\": {\"experiment_name\": \"tl_1v2:wisig-oracle.run1.framed\", \"device\": \"cuda\", \"lr\": 0.0001, \"n_shot\": 3, \"n_query\": 2, \"train_k_factor\": 3, \"val_k_factor\": 2, \"test_k_factor\": 2, \"torch_default_dtype\": \"torch.float32\", \"n_epoch\": 50, \"patience\": 3, \"criteria_for_best\": \"target_accuracy\", \"x_net\": [{\"class\": \"nnReshape\", \"kargs\": {\"shape\": [-1, 1, 2, 256]}}, {\"class\": \"Conv2d\", \"kargs\": {\"in_channels\": 1, \"out_channels\": 256, \"kernel_size\": [1, 7], \"bias\": false, \"padding\": [0, 3]}}, {\"class\": \"ReLU\", \"kargs\": {\"inplace\": true}}, {\"class\": \"BatchNorm2d\", \"kargs\": {\"num_features\": 256}}, {\"class\": \"Conv2d\", \"kargs\": {\"in_channels\": 256, \"out_channels\": 80, \"kernel_size\": [2, 7], \"bias\": true, \"padding\": [0, 3]}}, {\"class\": \"ReLU\", \"kargs\": {\"inplace\": true}}, {\"class\": \"BatchNorm2d\", \"kargs\": {\"num_features\": 80}}, {\"class\": \"Flatten\", \"kargs\": {}}, {\"class\": \"Linear\", \"kargs\": {\"in_features\": 20480, \"out_features\": 256}}, {\"class\": \"ReLU\", \"kargs\": {\"inplace\": true}}, {\"class\": \"BatchNorm1d\", \"kargs\": {\"num_features\": 256}}, {\"class\": \"Linear\", \"kargs\": {\"in_features\": 256, \"out_features\": 256}}], \"NUM_LOGS_PER_EPOCH\": 10, \"BEST_MODEL_PATH\": \"./best_model.pth\", \"n_way\": 16, \"datasets\": [{\"labels\": [\"1-10\", \"1-12\", \"1-14\", \"1-16\", \"1-18\", \"1-19\", \"1-8\", \"10-11\", \"10-17\", \"10-4\", \"10-7\", \"11-1\", \"11-10\", \"11-19\", \"11-20\", \"11-4\", \"11-7\", \"12-19\", \"12-20\", \"12-7\", \"13-14\", \"13-18\", \"13-19\", \"13-20\", \"13-3\", \"13-7\", \"14-10\", \"14-11\", \"14-12\", \"14-13\", \"14-14\", \"14-19\", \"14-20\", \"14-7\", \"14-8\", \"14-9\", \"15-1\", \"15-19\", \"15-6\", \"16-1\", \"16-16\", \"16-19\", \"16-20\", \"17-10\", \"17-11\", \"18-1\", \"18-10\", \"18-11\", \"18-12\", \"18-13\", \"18-14\", \"18-15\", \"18-16\", \"18-17\", \"18-19\", \"18-2\", \"18-20\", \"18-4\", \"18-5\", \"18-7\", \"18-8\", \"18-9\", \"19-1\", \"19-10\", \"19-11\", \"19-12\", \"19-13\", \"19-14\", \"19-15\", \"19-19\", \"19-2\", \"19-20\", \"19-3\", \"19-4\", \"19-6\", \"19-7\", \"19-8\", \"19-9\", \"2-1\", \"2-13\", \"2-15\", \"2-3\", \"2-4\", \"2-5\", \"2-6\", \"2-7\", \"2-8\", \"20-1\", \"20-12\", \"20-14\", \"20-15\", \"20-16\", \"20-18\", \"20-19\", \"20-20\", \"20-3\", \"20-4\", \"20-5\", \"20-7\", \"20-8\", \"3-1\", \"3-13\", \"3-18\", \"3-2\", \"3-8\", \"4-1\", \"4-10\", \"4-11\", \"5-1\", \"5-5\", \"6-1\", \"6-15\", \"6-6\", \"7-10\", \"7-11\", \"7-12\", \"7-13\", \"7-14\", \"7-7\", \"7-8\", \"7-9\", \"8-1\", \"8-13\", \"8-14\", \"8-18\", \"8-20\", \"8-3\", \"8-8\", \"9-1\", \"9-7\"], \"domains\": [1, 2, 3, 4], \"num_examples_per_domain_per_label\": -1, \"pickle_path\": \"/root/csc500-main/datasets/wisig.node3-19.stratified_ds.2022A.pkl\", \"source_or_target_dataset\": \"target\", \"x_transforms\": [], \"episode_transforms\": [], \"domain_prefix\": \"Wisig_\"}, {\"labels\": [\"3123D52\", \"3123D65\", \"3123D79\", \"3123D80\", \"3123D54\", \"3123D70\", \"3123D7B\", \"3123D89\", \"3123D58\", \"3123D76\", \"3123D7D\", \"3123EFE\", \"3123D64\", \"3123D78\", \"3123D7E\", \"3124E4A\"], \"domains\": [32, 38, 8, 44, 14, 50, 20, 26], \"num_examples_per_domain_per_label\": 2000, \"pickle_path\": \"/root/csc500-main/datasets/oracle.Run1_framed_2000Examples_stratified_ds.2022A.pkl\", \"source_or_target_dataset\": \"source\", \"x_transforms\": [], \"episode_transforms\": [], \"domain_prefix\": \"ORACLE.run1\"}], \"dataset_seed\": 420, \"seed\": 420, \"x_shape\": [2, 256], \"domains_source\": [\"ORACLE.run132\", \"ORACLE.run138\", \"ORACLE.run18\", \"ORACLE.run144\", \"ORACLE.run114\", \"ORACLE.run150\", \"ORACLE.run120\", \"ORACLE.run126\"], \"domains_target\": [\"Wisig_1\", \"Wisig_2\", \"Wisig_3\", \"Wisig_4\"]}, \"results\": {\"source_test_label_accuracy\": 0.9308268229166666, \"source_test_label_loss\": 0.1971708983182907, \"target_test_label_accuracy\": 0.766110248447205, \"target_test_label_loss\": 3354.372802734375, \"source_val_label_accuracy\": 0.9316731770833333, \"source_val_label_loss\": 0.19530919194221497, \"target_val_label_accuracy\": 0.7674748942917548, \"target_val_label_loss\": 3361.36328125, \"total_epochs_trained\": 8, \"total_experiment_time_secs\": 2092.292947292328, \"confusion\": {\"ORACLE.run114\": {\"15\": {\"15\": 240}, \"5\": {\"5\": 236, \"2\": 4}, \"7\": {\"7\": 240}, \"4\": {\"4\": 240}, \"10\": {\"10\": 240}, \"11\": {\"11\": 240}, \"12\": {\"12\": 240}, \"0\": {\"0\": 240}, \"14\": {\"14\": 227, \"13\": 6, \"2\": 4, \"6\": 2, \"3\": 1}, \"8\": {\"8\": 240}, \"13\": {\"6\": 101, \"13\": 91, \"14\": 35, \"3\": 1, \"2\": 10, \"15\": 2}, \"6\": {\"13\": 46, \"6\": 185, \"2\": 3, \"14\": 6}, \"1\": {\"1\": 240}, \"3\": {\"3\": 236, \"14\": 2, \"2\": 2}, \"9\": {\"9\": 240}, \"2\": {\"2\": 175, \"3\": 6, \"14\": 27, \"5\": 15, \"13\": 9, \"6\": 8}}, \"ORACLE.run120\": {\"4\": {\"4\": 240}, \"10\": {\"10\": 240}, \"15\": {\"15\": 231, \"1\": 4, \"12\": 4, \"0\": 1}, \"0\": {\"0\": 236, \"1\": 1, \"5\": 3}, \"6\": {\"6\": 238, \"7\": 2}, \"3\": {\"3\": 229, \"9\": 6, \"8\": 2, \"5\": 2, \"1\": 1}, \"7\": {\"7\": 233, \"2\": 5, \"9\": 2}, \"2\": {\"2\": 228, \"12\": 10, \"15\": 1, \"7\": 1}, \"8\": {\"8\": 239, \"3\": 1}, \"11\": {\"11\": 240}, \"14\": {\"14\": 240}, \"12\": {\"2\": 12, \"12\": 226, \"7\": 1, \"15\": 1}, \"13\": {\"13\": 240}, \"9\": {\"9\": 232, \"3\": 7, \"7\": 1}, \"5\": {\"5\": 233, \"1\": 7}, \"1\": {\"1\": 215, \"9\": 4, \"5\": 19, \"3\": 2}}, \"ORACLE.run150\": {\"5\": {\"5\": 162, \"7\": 36, \"4\": 17, \"6\": 13, \"13\": 5, \"1\": 6, \"15\": 1}, \"12\": {\"12\": 234, \"9\": 3, \"11\": 3}, \"14\": {\"14\": 240}, \"4\": {\"4\": 198, \"7\": 13, \"15\": 14, \"5\": 14, \"6\": 1}, \"13\": {\"13\": 240}, \"10\": {\"10\": 239, \"0\": 1}, \"9\": {\"9\": 227, \"12\": 9, \"11\": 4}, \"15\": {\"15\": 236, \"6\": 2, \"11\": 1, \"5\": 1}, \"6\": {\"6\": 236, \"15\": 2, \"5\": 2}, \"2\": {\"2\": 232, \"0\": 8}, \"0\": {\"0\": 228, \"2\": 10, \"10\": 2}, \"11\": {\"11\": 235, \"9\": 2, \"15\": 2, \"12\": 1}, \"3\": {\"3\": 240}, \"8\": {\"8\": 240}, \"7\": {\"7\": 232, \"5\": 8}, \"1\": {\"1\": 239, \"13\": 1}}, \"ORACLE.run126\": {\"7\": {\"7\": 201, \"3\": 4, \"2\": 12, \"8\": 23}, \"6\": {\"6\": 228, \"15\": 8, \"10\": 3, \"5\": 1}, \"14\": {\"14\": 191, \"10\": 38, \"0\": 9, \"1\": 2}, \"15\": {\"15\": 207, \"5\": 18, \"6\": 12, \"10\": 2, \"14\": 1}, \"5\": {\"5\": 229, \"15\": 11}, \"10\": {\"10\": 206, \"14\": 17, \"0\": 13, \"6\": 2, \"15\": 2}, \"4\": {\"4\": 240}, \"11\": {\"11\": 240}, \"13\": {\"13\": 220, \"9\": 6, \"2\": 13, \"3\": 1}, \"2\": {\"9\": 6, \"2\": 189, \"7\": 28, \"8\": 4, \"3\": 11, \"0\": 1, \"14\": 1}, \"0\": {\"10\": 38, \"0\": 181, \"14\": 14, \"8\": 7}, \"12\": {\"12\": 240}, \"3\": {\"3\": 224, \"2\": 4, \"7\": 12}, \"9\": {\"9\": 220, \"13\": 2, \"8\": 14, \"2\": 2, \"7\": 2}, \"8\": {\"8\": 212, \"7\": 26, \"9\": 1, \"2\": 1}, \"1\": {\"1\": 213, \"14\": 27}}, \"ORACLE.run132\": {\"7\": {\"7\": 211, \"5\": 24, \"14\": 4, \"0\": 1}, \"2\": {\"2\": 231, \"4\": 9}, \"5\": {\"5\": 165, \"7\": 59, \"8\": 11, \"0\": 2, \"14\": 3}, \"6\": {\"6\": 240}, \"13\": {\"13\": 211, \"3\": 18, \"4\": 11}, \"4\": {\"4\": 222, \"2\": 17, \"13\": 1}, \"3\": {\"3\": 239, \"13\": 1}, \"0\": {\"0\": 221, \"8\": 7, \"14\": 6, \"7\": 5, \"5\": 1}, \"9\": {\"9\": 240}, \"12\": {\"12\": 240}, \"8\": {\"8\": 223, \"5\": 6, \"0\": 9, \"14\": 2}, \"14\": {\"14\": 218, \"0\": 11, \"7\": 8, \"8\": 2, \"5\": 1}, \"15\": {\"15\": 240}, \"11\": {\"11\": 240}, \"10\": {\"10\": 240}, \"1\": {\"1\": 240}}, \"ORACLE.run144\": {\"11\": {\"11\": 240}, \"7\": {\"7\": 225, \"9\": 15}, \"6\": {\"13\": 32, \"6\": 200, \"9\": 6, \"7\": 2}, \"12\": {\"12\": 237, \"3\": 3}, \"4\": {\"4\": 152, \"14\": 87, \"15\": 1}, \"13\": {\"13\": 202, \"6\": 31, \"9\": 7}, \"8\": {\"8\": 188, \"0\": 44, \"5\": 2, \"15\": 6}, \"5\": {\"5\": 231, \"14\": 5, \"15\": 3, \"8\": 1}, \"14\": {\"14\": 178, \"4\": 55, \"15\": 5, \"5\": 2}, \"3\": {\"3\": 240}, \"10\": {\"10\": 226, \"1\": 7, \"2\": 4, \"7\": 3}, \"1\": {\"1\": 235, \"2\": 5}, \"2\": {\"2\": 238, \"1\": 2}, \"15\": {\"15\": 222, \"8\": 5, \"14\": 8, \"4\": 1, \"5\": 4}, \"9\": {\"9\": 131, \"6\": 28, \"7\": 55, \"13\": 25, \"4\": 1}, \"0\": {\"8\": 26, \"0\": 214}}, \"ORACLE.run18\": {\"10\": {\"10\": 225, \"13\": 12, \"5\": 2, \"1\": 1}, \"6\": {\"6\": 210, \"7\": 26, \"13\": 4}, \"13\": {\"13\": 210, \"10\": 26, \"7\": 3, \"6\": 1}, \"3\": {\"3\": 240}, \"9\": {\"9\": 240}, \"1\": {\"1\": 236, \"11\": 3, \"5\": 1}, \"5\": {\"5\": 221, \"10\": 12, \"14\": 2, \"1\": 4, \"11\": 1}, \"11\": {\"11\": 214, \"1\": 25, \"14\": 1}, \"4\": {\"4\": 238, \"6\": 1, \"14\": 1}, \"14\": {\"14\": 237, \"4\": 3}, \"12\": {\"12\": 207, \"15\": 33}, \"7\": {\"7\": 225, \"6\": 12, \"13\": 3}, \"0\": {\"0\": 240}, \"15\": {\"15\": 230, \"12\": 10}, \"2\": {\"2\": 238, \"15\": 1, \"3\": 1}, \"8\": {\"8\": 240}}, \"ORACLE.run138\": {\"4\": {\"4\": 240}, \"7\": {\"7\": 237, \"8\": 2, \"0\": 1}, \"12\": {\"12\": 240}, \"10\": {\"0\": 3, \"10\": 231, \"13\": 6}, \"0\": {\"0\": 205, \"7\": 6, \"5\": 3, \"3\": 10, \"10\": 7, \"13\": 7, \"8\": 2}, \"1\": {\"1\": 240}, \"5\": {\"8\": 73, \"7\": 22, \"5\": 135, \"9\": 7, \"13\": 2, \"15\": 1}, \"15\": {\"15\": 233, \"8\": 4, \"1\": 1, \"5\": 2}, \"9\": {\"9\": 239, \"5\": 1}, \"11\": {\"11\": 239, \"0\": 1}, \"14\": {\"14\": 231, \"2\": 9}, \"6\": {\"6\": 240}, \"8\": {\"8\": 182, \"5\": 46, \"7\": 9, \"15\": 1, \"0\": 2}, \"3\": {\"3\": 237, \"11\": 3}, \"2\": {\"2\": 236, \"14\": 4}, \"13\": {\"13\": 236, \"10\": 3, \"2\": 1}}, \"Wisig_3\": {\"110\": {\"110\": 70, \"122\": 1, \"44\": 1, \"60\": 1, \"16\": 1, \"8\": 4, \"108\": 2, \"87\": 5, \"27\": 1, \"107\": 1, \"88\": 1, \"118\": 1, \"36\": 2, \"40\": 1}, \"1\": {\"1\": 90, \"3\": 6, \"71\": 2, \"40\": 5, \"114\": 3, \"21\": 1, \"105\": 1}, \"2\": {\"117\": 4, \"2\": 20, \"103\": 1, \"121\": 1, \"29\": 1, \"129\": 1}, \"94\": {\"94\": 62, \"27\": 1, \"15\": 6, \"70\": 1, \"106\": 2, \"7\": 2, \"8\": 5, \"110\": 2, \"121\": 1, \"62\": 1, \"39\": 1}, \"64\": {\"64\": 18, \"29\": 2}, \"78\": {\"78\": 10, \"88\": 4, \"21\": 2}, \"47\": {\"47\": 9, \"3\": 2, \"103\": 1}, \"127\": {\"127\": 105, \"31\": 2, \"14\": 1, \"12\": 6, \"71\": 2, \"40\": 5, \"106\": 2, \"105\": 3, \"101\": 1, \"109\": 1}, \"89\": {\"47\": 2, \"89\": 12, \"103\": 1, \"120\": 1, \"99\": 1, \"82\": 3, \"92\": 2, \"128\": 2, \"44\": 3, \"90\": 1}, \"79\": {\"79\": 12}, \"22\": {\"103\": 1, \"22\": 9, \"29\": 1, \"41\": 1, \"55\": 1, \"77\": 1, \"37\": 1, \"112\": 1}, \"117\": {\"117\": 109, \"120\": 2, \"98\": 1}, \"49\": {\"49\": 11, \"94\": 1, \"69\": 2, \"84\": 2, \"101\": 1, \"14\": 3, \"7\": 2, \"116\": 1, \"16\": 1}, \"14\": {\"14\": 72, \"49\": 4, \"12\": 1, \"84\": 2, \"7\": 1}, \"103\": {\"79\": 1, \"103\": 7, \"50\": 3, \"52\": 1, \"85\": 2, \"115\": 1, \"100\": 1}, \"123\": {\"123\": 14, \"63\": 1, \"85\": 1}, \"98\": {\"19\": 4, \"53\": 2, \"98\": 100, \"83\": 2, \"52\": 2, \"40\": 1, \"1\": 2, \"33\": 2, \"5\": 2, \"114\": 2, \"90\": 2, \"34\": 1, \"9\": 1, \"46\": 2, \"103\": 1, \"107\": 2}, \"18\": {\"18\": 106, \"16\": 2}, \"61\": {\"61\": 14, \"81\": 1, \"121\": 1}, \"108\": {\"108\": 107, \"27\": 5, \"10\": 1, \"110\": 1, \"36\": 2, \"11\": 1, \"0\": 3, \"60\": 2, \"87\": 1, \"118\": 1, \"109\": 1, \"8\": 1}, \"100\": {\"19\": 1, \"100\": 11, \"121\": 1, \"83\": 1, \"9\": 1, \"128\": 1}, \"0\": {\"0\": 100, \"8\": 1, \"88\": 1, \"30\": 4, \"36\": 8, \"108\": 2}, \"107\": {\"107\": 119, \"20\": 1, \"3\": 1, \"114\": 9}, \"58\": {\"58\": 8, \"52\": 2, \"54\": 2, \"111\": 2, \"34\": 1, \"95\": 1}, \"8\": {\"8\": 106, \"94\": 2, \"108\": 2, \"101\": 1, \"15\": 4, \"0\": 2, \"23\": 1, \"36\": 1, \"62\": 1}, \"85\": {\"85\": 29, \"5\": 1, \"52\": 1, \"112\": 1, \"45\": 2, \"41\": 1, \"66\": 1}, \"31\": {\"18\": 2, \"31\": 9, \"33\": 4, \"69\": 1, \"26\": 1, \"3\": 1, \"44\": 1, \"10\": 1}, \"81\": {\"81\": 22, \"29\": 1, \"61\": 1, \"92\": 2, \"33\": 4, \"31\": 1, \"121\": 1}, \"60\": {\"60\": 17, \"118\": 1, \"87\": 1, \"23\": 1, \"110\": 1, \"62\": 1, \"24\": 1, \"122\": 2, \"30\": 2, \"8\": 1}, \"102\": {\"102\": 111, \"2\": 1, \"119\": 2, \"117\": 2}, \"19\": {\"19\": 18, \"98\": 3, \"100\": 2, \"66\": 1, \"5\": 2, \"82\": 1, \"85\": 1, \"55\": 1, \"46\": 1, \"89\": 1, \"90\": 1}, \"23\": {\"60\": 3, \"23\": 14, \"15\": 2, \"69\": 1, \"62\": 1, \"101\": 2, \"122\": 2, \"36\": 2, \"8\": 2, \"16\": 1, \"27\": 1, \"110\": 1}, \"32\": {\"100\": 1, \"99\": 2, \"32\": 19, \"72\": 1, \"17\": 2, \"9\": 1, \"28\": 2, \"98\": 1, \"38\": 1, \"76\": 1, \"114\": 1}, \"39\": {\"39\": 97, \"43\": 1, \"10\": 2, \"88\": 1, \"109\": 1, \"11\": 3, \"126\": 2, \"113\": 1}, \"129\": {\"129\": 27, \"115\": 2, \"5\": 2, \"116\": 1}, \"71\": {\"101\": 1, \"99\": 2, \"3\": 4, \"105\": 6, \"69\": 3, \"71\": 44, \"1\": 2, \"9\": 1, \"127\": 3, \"109\": 1, \"40\": 1}, \"91\": {\"91\": 11, \"121\": 1, \"112\": 1, \"111\": 1, \"5\": 1, \"57\": 2, \"37\": 2, \"103\": 1, \"52\": 1, \"73\": 1, \"70\": 1, \"83\": 1}, \"101\": {\"101\": 43, \"21\": 1, \"12\": 2, \"106\": 2, \"40\": 1, \"43\": 1, \"127\": 2}, \"62\": {\"62\": 114, \"23\": 1, \"110\": 1, \"8\": 3, \"88\": 2, \"16\": 1}, \"63\": {\"63\": 14, \"102\": 1, \"86\": 1}, \"125\": {\"125\": 116, \"9\": 1, \"4\": 1, \"90\": 1, \"19\": 1}, \"57\": {\"99\": 2, \"56\": 2, \"107\": 1, \"1\": 1, \"3\": 2, \"57\": 5, \"71\": 1, \"37\": 1, \"34\": 2, \"77\": 1, \"66\": 1, \"74\": 1}, \"28\": {\"100\": 1, \"28\": 7, \"76\": 2, \"128\": 1, \"3\": 1, \"18\": 2, \"74\": 2}, \"70\": {\"70\": 52, \"88\": 6, \"39\": 6, \"10\": 4, \"24\": 2, \"21\": 1, \"109\": 1}, \"99\": {\"99\": 17, \"32\": 2, \"35\": 1, \"76\": 1, \"65\": 1, \"21\": 1, \"40\": 1, \"128\": 1, \"1\": 1, \"72\": 2, \"83\": 2, \"75\": 1, \"34\": 2, \"56\": 1, \"38\": 1, \"105\": 1}, \"121\": {\"121\": 20, \"29\": 1, \"90\": 2, \"117\": 3, \"120\": 2, \"20\": 1, \"113\": 1, \"89\": 1, \"118\": 1}, \"4\": {\"80\": 1, \"86\": 1, \"4\": 91, \"17\": 2, \"94\": 1}, \"80\": {\"80\": 16}, \"51\": {\"51\": 11, \"59\": 1, \"101\": 1, \"47\": 1, \"124\": 1, \"7\": 1}, \"3\": {\"3\": 91, \"71\": 2, \"40\": 11, \"106\": 1, \"112\": 1, \"105\": 2, \"114\": 2, \"70\": 1, \"127\": 2, \"33\": 2, \"109\": 1}, \"9\": {\"9\": 22, \"32\": 2, \"38\": 2, \"95\": 1, \"74\": 1, \"57\": 2, \"1\": 1, \"105\": 1}, \"53\": {\"53\": 10, \"66\": 1, \"98\": 2, \"69\": 2, \"42\": 1, \"114\": 1, \"9\": 1, \"116\": 1, \"11\": 1}, \"30\": {\"30\": 69, \"27\": 2, \"122\": 2, \"0\": 3, \"36\": 6, \"7\": 1, \"116\": 1}, \"33\": {\"33\": 112, \"26\": 3, \"18\": 4, \"3\": 2, \"1\": 1}, \"15\": {\"15\": 87, \"97\": 2, \"94\": 8, \"0\": 1, \"30\": 1, \"7\": 1, \"8\": 1, \"36\": 1, \"106\": 1, \"88\": 1}, \"97\": {\"30\": 1, \"15\": 2, \"97\": 15, \"7\": 2}, \"86\": {\"4\": 2, \"86\": 18, \"59\": 1, \"48\": 2, \"42\": 1, \"124\": 1, \"104\": 1, \"119\": 1, \"8\": 1}, \"20\": {\"20\": 9, \"3\": 1, \"76\": 2, \"64\": 1, \"105\": 1, \"53\": 2}, \"66\": {\"53\": 1, \"66\": 12, \"65\": 1, \"77\": 1, \"111\": 1}, \"10\": {\"10\": 115, \"122\": 2, \"27\": 1, \"11\": 1, \"70\": 2, \"33\": 1}, \"29\": {\"29\": 28, \"90\": 2, \"22\": 1, \"19\": 1}, \"109\": {\"109\": 106, \"43\": 1, \"39\": 4, \"10\": 1, \"90\": 1, \"11\": 1}, \"52\": {\"52\": 8, \"83\": 2, \"107\": 1, \"41\": 2, \"73\": 1, \"91\": 1, \"66\": 1}, \"67\": {\"67\": 14, \"117\": 1, \"121\": 1}, \"83\": {\"83\": 15, \"78\": 1, \"100\": 1, \"107\": 2, \"70\": 1, \"128\": 1, \"72\": 1, \"98\": 2}, \"72\": {\"72\": 24, \"75\": 1, \"57\": 1, \"3\": 2}, \"90\": {\"90\": 118, \"29\": 2, \"98\": 2, \"28\": 1, \"89\": 2, \"117\": 1}, \"69\": {\"69\": 75, \"26\": 1, \"40\": 1, \"85\": 1, \"33\": 2, \"84\": 2, \"14\": 1, \"1\": 1}, \"88\": {\"88\": 109, \"10\": 1, \"39\": 1, \"78\": 1}, \"115\": {\"115\": 10, \"22\": 1, \"4\": 2, \"85\": 2, \"48\": 1}, \"73\": {\"73\": 17, \"25\": 2, \"92\": 1, \"37\": 3, \"68\": 1, \"85\": 1, \"88\": 1, \"42\": 1, \"86\": 2, \"55\": 1, \"111\": 2, \"27\": 1, \"109\": 1, \"91\": 1, \"53\": 1, \"9\": 1, \"89\": 1, \"41\": 2}, \"34\": {\"34\": 17, \"76\": 2, \"105\": 1, \"114\": 1, \"1\": 1, \"107\": 1, \"14\": 1, \"44\": 1, \"95\": 2, \"47\": 3, \"31\": 1, \"54\": 1}, \"25\": {\"25\": 13, \"73\": 1, \"77\": 1, \"95\": 1}, \"44\": {\"44\": 68, \"71\": 1, \"105\": 1, \"33\": 1, \"32\": 1}, \"112\": {\"111\": 1, \"5\": 2, \"91\": 1, \"72\": 1, \"103\": 1, \"85\": 1, \"45\": 2, \"86\": 1, \"104\": 1, \"112\": 4, \"59\": 1}, \"37\": {\"37\": 11, \"111\": 1, \"73\": 1, \"25\": 1, \"85\": 2}, \"77\": {\"77\": 13, \"57\": 1, \"46\": 1, \"22\": 1}, \"111\": {\"111\": 105, \"6\": 2, \"124\": 10, \"88\": 1, \"4\": 1, \"5\": 1, \"43\": 1, \"10\": 1}, \"119\": {\"125\": 1, \"67\": 1, \"119\": 8, \"102\": 2, \"117\": 1, \"80\": 1, \"104\": 2}, \"56\": {\"56\": 11, \"91\": 1}, \"5\": {\"112\": 1, \"5\": 99, \"129\": 3, \"124\": 4, \"70\": 1, \"98\": 1, \"21\": 1, \"111\": 2}, \"122\": {\"122\": 48, \"110\": 3, \"21\": 3, \"126\": 1, \"108\": 2, \"27\": 1, \"36\": 1, \"118\": 1}, \"74\": {\"74\": 13, \"1\": 1, \"28\": 1, \"57\": 1}, \"11\": {\"11\": 113, \"118\": 4, \"109\": 10, \"87\": 12, \"43\": 5, \"30\": 1, \"39\": 1, \"10\": 2, \"113\": 1, \"108\": 3}, \"41\": {\"52\": 2, \"41\": 10, \"42\": 2, \"98\": 1, \"73\": 1}, \"104\": {\"104\": 11, \"116\": 1, \"5\": 1, \"111\": 1, \"115\": 1, \"112\": 1}, \"21\": {\"21\": 48}, \"118\": {\"11\": 5, \"118\": 78, \"113\": 1, \"32\": 1, \"87\": 3, \"43\": 3, \"39\": 2, \"126\": 4, \"108\": 2, \"105\": 1}, \"40\": {\"40\": 68, \"21\": 1, \"3\": 10, \"105\": 8, \"71\": 4, \"14\": 4, \"127\": 12, \"30\": 1, \"16\": 1, \"12\": 4, \"84\": 4, \"49\": 1, \"69\": 2, \"114\": 1, \"1\": 1}, \"6\": {\"6\": 21, \"68\": 2, \"129\": 1, \"91\": 1, \"41\": 1, \"46\": 1, \"104\": 2, \"86\": 1, \"124\": 2}, \"27\": {\"27\": 73, \"0\": 3, \"24\": 4, \"108\": 5, \"36\": 8, \"30\": 2, \"70\": 1}, \"113\": {\"118\": 12, \"113\": 98, \"87\": 2, \"96\": 2, \"21\": 1, \"16\": 2, \"93\": 2, \"126\": 1}, \"68\": {\"68\": 13, \"41\": 1, \"85\": 1, \"73\": 1}, \"12\": {\"12\": 85, \"97\": 1, \"14\": 1, \"127\": 6, \"15\": 1, \"106\": 2, \"7\": 2, \"40\": 1, \"101\": 3}, \"54\": {\"54\": 7, \"72\": 2, \"19\": 2, \"34\": 1, \"95\": 2, \"42\": 1, \"75\": 1}, \"24\": {\"24\": 35, \"87\": 2, \"27\": 4, \"36\": 2, \"11\": 2, \"122\": 1, \"108\": 2}, \"106\": {\"106\": 81, \"101\": 4, \"3\": 1, \"7\": 3, \"12\": 4, \"127\": 2, \"126\": 1, \"60\": 1, \"113\": 1, \"94\": 2}, \"128\": {\"128\": 20, \"66\": 2, \"25\": 1, \"1\": 1, \"98\": 3, \"95\": 1, \"44\": 2, \"32\": 1, \"76\": 1}, \"48\": {\"68\": 1, \"37\": 2, \"48\": 5, \"116\": 1, \"111\": 1, \"57\": 1, \"79\": 2, \"77\": 1, \"2\": 2}, \"92\": {\"92\": 24, \"89\": 3, \"18\": 1, \"90\": 1, \"61\": 3}, \"35\": {\"35\": 10, \"59\": 1, \"6\": 1}, \"116\": {\"116\": 22, \"22\": 1, \"5\": 1, \"82\": 3, \"29\": 1}, \"38\": {\"9\": 2, \"46\": 1, \"38\": 6, \"71\": 1, \"95\": 1, \"65\": 1, \"32\": 1, \"99\": 3}, \"126\": {\"24\": 2, \"126\": 106, \"11\": 2, \"39\": 2, \"88\": 3, \"109\": 3, \"113\": 1, \"89\": 1, \"70\": 1, \"118\": 2, \"43\": 1}, \"46\": {\"46\": 12, \"57\": 1, \"25\": 1, \"74\": 1, \"48\": 1}, \"120\": {\"120\": 15, \"115\": 1, \"117\": 2, \"2\": 1, \"13\": 1}, \"7\": {\"7\": 102, \"12\": 3, \"15\": 2, \"51\": 1, \"8\": 2, \"113\": 1, \"127\": 1}, \"13\": {\"13\": 9, \"83\": 1, \"125\": 2, \"70\": 1, \"122\": 1, \"88\": 1, \"123\": 1}, \"43\": {\"43\": 36, \"0\": 1, \"87\": 2, \"11\": 5, \"122\": 2, \"70\": 1, \"126\": 2, \"118\": 2, \"39\": 3, \"109\": 1, \"10\": 1}, \"93\": {\"93\": 92, \"87\": 2, \"31\": 1, \"113\": 2, \"110\": 2, \"96\": 2, \"26\": 7, \"118\": 2, \"16\": 11, \"62\": 7, \"8\": 1, \"90\": 1, \"18\": 1, \"40\": 1}, \"26\": {\"26\": 124, \"118\": 2, \"93\": 3, \"126\": 1, \"16\": 2}, \"76\": {\"76\": 11, \"44\": 1, \"33\": 1, \"28\": 1, \"90\": 1, \"128\": 1}, \"59\": {\"59\": 10, \"6\": 1, \"104\": 1}, \"65\": {\"65\": 7, \"99\": 1, \"17\": 1, \"98\": 2, \"9\": 1}, \"87\": {\"87\": 89, \"23\": 1, \"118\": 4, \"122\": 2, \"108\": 7, \"11\": 7, \"110\": 6, \"113\": 1, \"8\": 1, \"39\": 1, \"43\": 1}, \"124\": {\"124\": 100, \"125\": 2, \"85\": 1, \"111\": 11, \"6\": 3, \"5\": 3, \"128\": 1, \"68\": 2, \"90\": 1}, \"84\": {\"84\": 88, \"16\": 5, \"111\": 1, \"127\": 1, \"62\": 3, \"14\": 3, \"49\": 1, \"23\": 2, \"40\": 2, \"93\": 1, \"69\": 1}, \"82\": {\"82\": 21, \"89\": 3, \"92\": 1, \"61\": 1, \"29\": 2}, \"75\": {\"75\": 13, \"9\": 1, \"1\": 1, \"99\": 1}, \"17\": {\"4\": 1, \"115\": 1, \"67\": 1, \"5\": 1, \"79\": 2, \"17\": 3, \"78\": 1, \"86\": 2, \"13\": 1, \"88\": 1, \"42\": 2}, \"105\": {\"105\": 109, \"1\": 1, \"14\": 1, \"40\": 3, \"114\": 1, \"127\": 3, \"71\": 4, \"3\": 2}, \"95\": {\"95\": 27, \"101\": 2, \"9\": 1, \"99\": 2}, \"42\": {\"42\": 13, \"73\": 3, \"124\": 1, \"55\": 1, \"58\": 2, \"5\": 4, \"129\": 1, \"46\": 1, \"111\": 1, \"85\": 1}, \"55\": {\"55\": 11, \"52\": 1, \"103\": 2, \"46\": 2}, \"16\": {\"16\": 79, \"14\": 2, \"94\": 1, \"93\": 16, \"110\": 3, \"26\": 4, \"84\": 4, \"96\": 1, \"113\": 1, \"23\": 4, \"8\": 1}, \"50\": {\"116\": 3, \"57\": 1, \"50\": 9, \"104\": 1, \"48\": 1, \"100\": 1}, \"96\": {\"43\": 1, \"3\": 1, \"96\": 14, \"60\": 3, \"93\": 1}, \"45\": {\"45\": 15, \"41\": 1}, \"36\": {\"36\": 93, \"30\": 8, \"108\": 3, \"27\": 4, \"11\": 1, \"0\": 8, \"10\": 1, \"24\": 1, \"110\": 1}, \"114\": {\"114\": 98, \"36\": 1, \"1\": 7, \"107\": 11, \"90\": 1, \"40\": 1, \"127\": 1, \"105\": 1, \"3\": 1, \"10\": 1, \"117\": 1}}, \"Wisig_4\": {\"113\": {\"113\": 88, \"26\": 3, \"122\": 4, \"11\": 4, \"118\": 5, \"110\": 3, \"109\": 2, \"87\": 3, \"93\": 2, \"7\": 1, \"43\": 2, \"62\": 1, \"126\": 5, \"24\": 1}, \"85\": {\"85\": 22, \"83\": 1, \"25\": 1, \"95\": 1, \"96\": 1, \"19\": 1, \"46\": 1}, \"34\": {\"53\": 2, \"34\": 12, \"71\": 3, \"72\": 1, \"12\": 2, \"49\": 2, \"75\": 1, \"89\": 4, \"52\": 2, \"82\": 1, \"95\": 2}, \"55\": {\"51\": 1, \"83\": 1, \"55\": 8, \"82\": 1, \"29\": 1, \"100\": 1, \"91\": 1, \"19\": 1, \"25\": 1}, \"42\": {\"42\": 11, \"102\": 3, \"63\": 1, \"29\": 1, \"116\": 1, \"91\": 3, \"129\": 2, \"98\": 1, \"65\": 1, \"6\": 1, \"22\": 1, \"111\": 1, \"2\": 1}, \"13\": {\"42\": 1, \"13\": 13, \"73\": 1, \"123\": 1}, \"69\": {\"72\": 1, \"49\": 3, \"69\": 88, \"39\": 2, \"88\": 4, \"84\": 8, \"40\": 1, \"18\": 1, \"106\": 1, \"26\": 3, \"11\": 2, \"81\": 1, \"74\": 1, \"71\": 2, \"127\": 4, \"14\": 1, \"108\": 1}, \"35\": {\"35\": 11, \"18\": 1}, \"83\": {\"85\": 2, \"21\": 1, \"32\": 1, \"83\": 6, \"107\": 5, \"121\": 1, \"128\": 2, \"81\": 2, \"53\": 1, \"73\": 1, \"82\": 1, \"78\": 1, \"19\": 1, \"33\": 1, \"49\": 1, \"95\": 1}, \"51\": {\"53\": 2, \"21\": 2, \"62\": 2, \"9\": 3, \"14\": 1, \"43\": 1, \"22\": 1, \"41\": 1, \"12\": 1, \"39\": 1, \"51\": 1}, \"72\": {\"72\": 17, \"62\": 1, \"71\": 4, \"69\": 1, \"84\": 1, \"78\": 1, \"99\": 3, \"14\": 2, \"34\": 1, \"40\": 1}, \"24\": {\"24\": 99, \"94\": 2, \"21\": 1, \"70\": 3, \"10\": 6, \"43\": 3, \"30\": 2, \"27\": 1, \"108\": 1, \"97\": 1, \"0\": 1}, \"53\": {\"53\": 5, \"114\": 3, \"27\": 1, \"32\": 1, \"40\": 3, \"1\": 1, \"127\": 2}, \"8\": {\"8\": 93, \"15\": 15, \"109\": 3, \"118\": 1, \"7\": 5, \"106\": 1, \"30\": 2, \"101\": 8, \"94\": 5, \"0\": 4, \"88\": 1, \"23\": 1, \"66\": 1, \"36\": 1, \"11\": 1, \"21\": 1, \"10\": 1}, \"49\": {\"85\": 1, \"49\": 13, \"12\": 2, \"105\": 1, \"106\": 1, \"44\": 2, \"3\": 1, \"95\": 1, \"76\": 1, \"81\": 1, \"40\": 1, \"1\": 1, \"71\": 1, \"5\": 3, \"32\": 1, \"127\": 1}, \"21\": {\"21\": 39, \"70\": 1}, \"18\": {\"18\": 109, \"69\": 1, \"107\": 1, \"35\": 2, \"84\": 1, \"43\": 1, \"99\": 2, \"39\": 1, \"26\": 2}, \"114\": {\"114\": 89, \"85\": 2, \"76\": 1, \"107\": 15, \"71\": 2, \"40\": 2, \"88\": 1, \"98\": 2, \"3\": 1, \"1\": 2, \"43\": 1}, \"58\": {\"58\": 10, \"31\": 1, \"29\": 2, \"85\": 1, \"25\": 2}, \"56\": {\"56\": 12}, \"80\": {\"80\": 16}, \"11\": {\"11\": 124, \"8\": 3, \"14\": 2, \"78\": 2, \"93\": 13, \"105\": 1, \"7\": 3, \"109\": 1, \"16\": 1, \"87\": 1, \"110\": 2, \"0\": 1}, \"15\": {\"15\": 80, \"94\": 8, \"87\": 2, \"60\": 1, \"8\": 17, \"106\": 1, \"30\": 3, \"78\": 1, \"101\": 8, \"88\": 2, \"11\": 2, \"36\": 1, \"0\": 1, \"7\": 1}, \"50\": {\"73\": 2, \"57\": 3, \"117\": 2, \"50\": 5, \"98\": 1, \"115\": 1, \"91\": 1, \"102\": 1}, \"111\": {\"111\": 125, \"104\": 1, \"124\": 7, \"102\": 2, \"82\": 1, \"27\": 1, \"90\": 1}, \"108\": {\"108\": 44, \"78\": 2, \"70\": 13, \"109\": 11, \"98\": 1, \"27\": 2, \"10\": 5, \"43\": 4, \"88\": 1, \"39\": 4, \"29\": 1, \"124\": 1, \"118\": 1, \"24\": 1, \"114\": 1}, \"104\": {\"111\": 3, \"104\": 7, \"55\": 1, \"17\": 1, \"25\": 1, \"91\": 1, \"4\": 1, \"29\": 1}, \"32\": {\"32\": 21, \"107\": 1, \"52\": 1, \"85\": 1, \"1\": 2, \"34\": 1, \"89\": 1}, \"68\": {\"104\": 1, \"111\": 1, \"68\": 13, \"108\": 1}, \"73\": {\"83\": 1, \"73\": 10, \"57\": 1, \"67\": 1, \"64\": 2, \"22\": 1, \"91\": 2, \"116\": 2, \"33\": 1, \"1\": 1, \"53\": 1, \"2\": 1}, \"92\": {\"107\": 2, \"92\": 16, \"9\": 1, \"45\": 1, \"19\": 3, \"66\": 1, \"76\": 1, \"33\": 1, \"90\": 2}, \"57\": {\"57\": 16}, \"40\": {\"40\": 99, \"71\": 12, \"3\": 2, \"108\": 1, \"105\": 3, \"88\": 3, \"1\": 6, \"114\": 3, \"107\": 1, \"33\": 1, \"84\": 2, \"99\": 1, \"32\": 1, \"5\": 1}, \"71\": {\"71\": 77, \"40\": 9, \"14\": 1, \"1\": 3, \"99\": 1, \"105\": 5, \"127\": 1, \"24\": 1, \"43\": 1, \"69\": 3, \"109\": 1, \"3\": 1}, \"121\": {\"121\": 18, \"83\": 1, \"19\": 1, \"21\": 1, \"90\": 4, \"33\": 2, \"57\": 1, \"81\": 1, \"55\": 2, \"18\": 1}, \"62\": {\"62\": 37, \"60\": 1, \"118\": 3, \"11\": 2, \"109\": 2, \"7\": 1, \"43\": 1, \"21\": 1, \"93\": 3, \"101\": 2, \"99\": 1, \"39\": 2, \"70\": 1, \"87\": 3}, \"39\": {\"39\": 80, \"88\": 7, \"126\": 2, \"108\": 4, \"109\": 3, \"70\": 1, \"10\": 1, \"24\": 1, \"118\": 1}, \"107\": {\"107\": 117, \"90\": 2, \"114\": 13, \"3\": 5, \"1\": 7}, \"60\": {\"7\": 9, \"60\": 15, \"96\": 1, \"11\": 3, \"12\": 1, \"69\": 2, \"0\": 1}, \"129\": {\"129\": 22, \"119\": 1, \"48\": 1, \"68\": 2, \"37\": 2}, \"84\": {\"69\": 10, \"84\": 106, \"72\": 3, \"88\": 4, \"14\": 2, \"109\": 1, \"16\": 1, \"39\": 1, \"71\": 1, \"26\": 1, \"70\": 2}, \"106\": {\"106\": 85, \"12\": 13, \"127\": 5, \"21\": 1, \"101\": 2, \"105\": 5, \"15\": 1, \"88\": 1, \"71\": 2, \"14\": 1}, \"87\": {\"87\": 119, \"113\": 2, \"70\": 1, \"43\": 3, \"0\": 2, \"36\": 1, \"27\": 3, \"24\": 1}, \"110\": {\"118\": 9, \"110\": 61, \"27\": 1, \"11\": 2, \"30\": 2, \"109\": 1, \"24\": 1, \"43\": 3, \"87\": 6, \"101\": 1, \"122\": 2, \"0\": 1, \"108\": 1, \"88\": 1, \"126\": 1, \"113\": 1}, \"118\": {\"118\": 74, \"100\": 1, \"8\": 3, \"122\": 9, \"36\": 1, \"110\": 8, \"62\": 2, \"10\": 1, \"88\": 2, \"87\": 4, \"109\": 1, \"43\": 1, \"69\": 1, \"70\": 1, \"11\": 1, \"0\": 2}, \"64\": {\"129\": 2, \"112\": 1, \"32\": 1, \"0\": 1, \"64\": 4, \"42\": 1, \"120\": 1, \"28\": 2, \"82\": 1, \"98\": 1, \"73\": 1}, \"82\": {\"129\": 1, \"32\": 1, \"22\": 1, \"17\": 1, \"56\": 1, \"76\": 1, \"28\": 1, \"82\": 8, \"49\": 2, \"41\": 2, \"128\": 1, \"120\": 2, \"20\": 1, \"83\": 2, \"92\": 2, \"29\": 2, \"34\": 1, \"98\": 2}, \"7\": {\"7\": 92, \"60\": 4, \"62\": 3, \"14\": 1, \"106\": 1, \"105\": 1, \"11\": 7, \"8\": 2, \"15\": 1, \"94\": 1, \"101\": 2, \"23\": 1, \"69\": 2, \"43\": 1, \"84\": 2, \"109\": 1, \"70\": 1, \"24\": 1}, \"0\": {\"87\": 9, \"0\": 84, \"30\": 2, \"15\": 6, \"88\": 1, \"108\": 1, \"10\": 1, \"94\": 5, \"8\": 1, \"36\": 1, \"21\": 2, \"27\": 3}, \"41\": {\"103\": 1, \"41\": 4, \"28\": 1, \"82\": 1, \"42\": 1, \"117\": 1, \"29\": 1, \"91\": 2, \"98\": 4}, \"102\": {\"102\": 114, \"119\": 1, \"124\": 3, \"111\": 2, \"98\": 1, \"126\": 1, \"19\": 1, \"48\": 2, \"2\": 1, \"86\": 1, \"117\": 3}, \"89\": {\"89\": 19, \"43\": 1, \"5\": 1, \"46\": 2, \"107\": 1, \"32\": 1, \"82\": 2, \"52\": 1, \"114\": 1, \"33\": 2, \"3\": 1}, \"26\": {\"26\": 104, \"14\": 3, \"69\": 4, \"113\": 1, \"62\": 1, \"93\": 4, \"110\": 2, \"33\": 2, \"60\": 1, \"70\": 1, \"72\": 1, \"40\": 1, \"16\": 2, \"11\": 1}, \"103\": {\"41\": 2, \"103\": 7, \"71\": 2, \"25\": 1, \"75\": 2, \"91\": 1, \"29\": 1}, \"90\": {\"90\": 114, \"5\": 1, \"117\": 2, \"92\": 1}, \"14\": {\"14\": 100, \"12\": 3, \"99\": 1, \"69\": 3, \"3\": 2, \"84\": 1, \"78\": 1, \"7\": 1}, \"9\": {\"41\": 1, \"107\": 1, \"9\": 12, \"53\": 1, \"128\": 1, \"51\": 2, \"95\": 2, \"120\": 1, \"98\": 1, \"76\": 1, \"56\": 2, \"40\": 1, \"25\": 1, \"99\": 1}, \"5\": {\"107\": 1, \"5\": 105, \"76\": 1, \"114\": 4, \"105\": 1, \"40\": 4, \"71\": 1, \"33\": 13, \"109\": 1, \"88\": 1, \"1\": 1, \"31\": 2, \"117\": 1}, \"22\": {\"22\": 10, \"100\": 2, \"46\": 1, \"41\": 1, \"28\": 2}, \"2\": {\"2\": 26, \"117\": 1, \"57\": 1}, \"77\": {\"77\": 12}, \"59\": {\"17\": 2, \"59\": 6, \"109\": 1, \"88\": 1, \"111\": 2}, \"127\": {\"127\": 89, \"0\": 1, \"90\": 1, \"88\": 1, \"105\": 6, \"14\": 2, \"117\": 1, \"10\": 1}, \"61\": {\"61\": 10, \"18\": 1, \"49\": 1, \"128\": 1, \"74\": 1, \"71\": 1, \"52\": 1}, \"17\": {\"17\": 12, \"6\": 2, \"86\": 2, \"116\": 1, \"124\": 2, \"79\": 1}, \"45\": {\"22\": 1, \"45\": 9, \"9\": 2, \"120\": 3, \"86\": 1}, \"19\": {\"90\": 2, \"19\": 19, \"100\": 1, \"54\": 1, \"66\": 1, \"92\": 1, \"56\": 1, \"83\": 1, \"1\": 1}, \"52\": {\"52\": 10, \"76\": 1, \"70\": 1, \"34\": 1, \"128\": 2, \"71\": 1, \"53\": 1, \"40\": 1, \"107\": 1, \"1\": 1}, \"123\": {\"37\": 1, \"123\": 12, \"67\": 1, \"40\": 1, \"111\": 1}, \"20\": {\"20\": 12, \"57\": 1, \"105\": 1, \"81\": 1, \"35\": 1}, \"112\": {\"64\": 1, \"37\": 1, \"28\": 2, \"74\": 1, \"112\": 7, \"9\": 1, \"66\": 2, \"2\": 1}, \"37\": {\"37\": 12, \"111\": 3, \"68\": 1}, \"29\": {\"77\": 2, \"29\": 29, \"58\": 1}, \"128\": {\"128\": 10, \"9\": 1, \"28\": 1, \"53\": 1, \"25\": 1, \"5\": 1, \"82\": 3, \"40\": 1, \"52\": 1, \"32\": 1, \"64\": 1, \"89\": 1, \"100\": 1}, \"100\": {\"100\": 9, \"89\": 2, \"128\": 1, \"19\": 1, \"41\": 1, \"114\": 1, \"52\": 1, \"38\": 2, \"56\": 2}, \"67\": {\"67\": 9, \"123\": 2, \"119\": 1, \"116\": 1, \"2\": 1, \"45\": 2}, \"12\": {\"12\": 76, \"0\": 1, \"60\": 1, \"106\": 10, \"71\": 2, \"15\": 2, \"99\": 1, \"98\": 1, \"127\": 3, \"108\": 1, \"126\": 1, \"105\": 1}, \"101\": {\"101\": 112, \"15\": 3, \"106\": 3, \"8\": 4, \"94\": 1, \"33\": 1, \"127\": 1, \"7\": 1, \"12\": 1, \"110\": 1}, \"76\": {\"76\": 15, \"40\": 1}, \"70\": {\"108\": 6, \"70\": 71, \"62\": 1, \"36\": 4, \"43\": 3, \"0\": 1, \"24\": 7, \"122\": 1, \"10\": 14, \"27\": 4, \"39\": 1, \"109\": 5, \"88\": 4, \"30\": 1, \"110\": 1}, \"31\": {\"88\": 1, \"57\": 1, \"31\": 6, \"120\": 1, \"95\": 1, \"90\": 2, \"22\": 1, \"98\": 1, \"33\": 1, \"100\": 1}, \"86\": {\"86\": 27, \"17\": 1}, \"88\": {\"88\": 113, \"39\": 4, \"78\": 2, \"109\": 5, \"10\": 1, \"70\": 5, \"108\": 1, \"24\": 1}, \"3\": {\"3\": 73, \"14\": 2, \"71\": 5, \"114\": 10, \"107\": 8, \"108\": 1, \"99\": 1, \"70\": 1, \"44\": 4, \"40\": 7, \"8\": 1, \"1\": 9, \"20\": 2, \"10\": 1, \"105\": 1}, \"117\": {\"117\": 110, \"102\": 3, \"67\": 1, \"10\": 1, \"70\": 1, \"73\": 1, \"126\": 1, \"90\": 2}, \"30\": {\"30\": 60, \"109\": 1, \"24\": 1, \"0\": 5, \"88\": 2, \"94\": 1, \"36\": 3, \"87\": 1, \"70\": 1, \"27\": 1}, \"96\": {\"122\": 2, \"96\": 8, \"113\": 1, \"118\": 2, \"16\": 1, \"126\": 1, \"62\": 1, \"27\": 2, \"105\": 2}, \"27\": {\"30\": 3, \"27\": 60, \"11\": 1, \"43\": 5, \"108\": 2, \"0\": 6, \"8\": 2, \"78\": 1, \"87\": 5, \"24\": 2, \"109\": 3, \"70\": 2, \"21\": 1, \"122\": 2, \"39\": 1, \"88\": 1, \"15\": 2, \"10\": 1}, \"122\": {\"122\": 52, \"43\": 2, \"62\": 2, \"118\": 12, \"87\": 10, \"110\": 2, \"70\": 1, \"39\": 1, \"36\": 1, \"27\": 1}, \"120\": {\"120\": 12, \"77\": 1, \"42\": 2, \"21\": 1, \"98\": 2, \"55\": 1, \"67\": 1}, \"44\": {\"92\": 2, \"44\": 44, \"18\": 2, \"121\": 1, \"81\": 3, \"5\": 4, \"90\": 1, \"66\": 1, \"99\": 1, \"33\": 2, \"83\": 1, \"3\": 1, \"98\": 1}, \"79\": {\"79\": 10, \"13\": 1, \"2\": 1, \"17\": 1, \"129\": 1, \"39\": 1, \"102\": 1}, \"105\": {\"105\": 85, \"40\": 4, \"39\": 3, \"14\": 2, \"88\": 2, \"71\": 1, \"69\": 1, \"27\": 1, \"19\": 1}, \"95\": {\"95\": 19, \"89\": 1, \"9\": 2, \"14\": 1, \"114\": 3, \"46\": 1, \"21\": 1, \"34\": 1, \"33\": 2, \"27\": 1}, \"109\": {\"109\": 94, \"70\": 5, \"88\": 3, \"121\": 1, \"43\": 1, \"108\": 7, \"10\": 1, \"107\": 1, \"39\": 1, \"27\": 1, \"126\": 1}, \"16\": {\"16\": 90, \"93\": 3, \"110\": 2, \"88\": 2, \"69\": 2, \"26\": 5, \"113\": 2, \"70\": 1, \"14\": 2, \"3\": 1, \"11\": 5, \"8\": 1, \"71\": 2}, \"36\": {\"36\": 75, \"43\": 2, \"21\": 2, \"62\": 1, \"122\": 1, \"27\": 4, \"30\": 4, \"15\": 2, \"109\": 1, \"94\": 1, \"0\": 2, \"24\": 1, \"87\": 1, \"101\": 1}, \"125\": {\"125\": 133, \"3\": 1, \"4\": 1, \"86\": 1}, \"97\": {\"8\": 2, \"97\": 14, \"10\": 2, \"102\": 2}, \"91\": {\"51\": 1, \"91\": 16, \"9\": 1, \"82\": 1, \"56\": 1, \"38\": 1, \"68\": 2, \"42\": 1}, \"28\": {\"28\": 13, \"129\": 1, \"82\": 2, \"112\": 1, \"128\": 1, \"64\": 2}, \"81\": {\"18\": 5, \"81\": 31}, \"126\": {\"126\": 97, \"88\": 1, \"109\": 5, \"39\": 7, \"113\": 2, \"78\": 1, \"43\": 1, \"10\": 1, \"87\": 1, \"122\": 1, \"110\": 3, \"118\": 1, \"70\": 1}, \"4\": {\"4\": 94, \"125\": 3, \"126\": 1, \"39\": 1, \"88\": 2, \"24\": 1, \"102\": 1, \"108\": 1}, \"10\": {\"10\": 97, \"78\": 1, \"108\": 4, \"70\": 10, \"24\": 5, \"88\": 2, \"109\": 2, \"27\": 2, \"39\": 1}, \"63\": {\"63\": 13, \"117\": 2, \"48\": 1}, \"43\": {\"43\": 95, \"122\": 7, \"118\": 5, \"109\": 1, \"27\": 4, \"3\": 1, \"87\": 2, \"110\": 1, \"24\": 1, \"108\": 1}, \"116\": {\"2\": 1, \"116\": 19, \"67\": 2, \"129\": 1, \"111\": 1, \"124\": 2, \"13\": 1, \"19\": 1}, \"1\": {\"1\": 62, \"105\": 4, \"49\": 2, \"92\": 1, \"115\": 1, \"111\": 1, \"114\": 5, \"40\": 12, \"107\": 5, \"71\": 4, \"110\": 1, \"3\": 2, \"76\": 2, \"99\": 2, \"39\": 1, \"109\": 1, \"90\": 1, \"88\": 1}, \"94\": {\"15\": 12, \"78\": 1, \"30\": 4, \"94\": 51, \"8\": 7, \"39\": 1, \"12\": 2, \"101\": 5, \"36\": 1, \"88\": 1, \"0\": 2, \"87\": 1}, \"38\": {\"38\": 4, \"114\": 2, \"81\": 4, \"44\": 1, \"43\": 1, \"53\": 1, \"84\": 1, \"66\": 2}, \"54\": {\"54\": 11, \"9\": 4, \"86\": 1}, \"74\": {\"74\": 13, \"119\": 1, \"33\": 2}, \"25\": {\"75\": 1, \"25\": 12, \"6\": 1, \"9\": 2}, \"75\": {\"103\": 1, \"75\": 11, \"29\": 1, \"41\": 1, \"54\": 1, \"55\": 1}, \"119\": {\"119\": 12, \"115\": 2, \"124\": 1, \"31\": 1}, \"46\": {\"46\": 12, \"73\": 1, \"128\": 2, \"41\": 1, \"89\": 1, \"111\": 2, \"19\": 1}, \"23\": {\"21\": 1, \"129\": 1, \"23\": 2, \"39\": 2, \"0\": 1, \"93\": 1, \"7\": 3, \"105\": 1, \"118\": 1, \"109\": 2, \"111\": 1}, \"99\": {\"99\": 21, \"34\": 1, \"95\": 1, \"69\": 1, \"1\": 2, \"44\": 1, \"3\": 2, \"40\": 2, \"84\": 1, \"14\": 2, \"114\": 1, \"71\": 1, \"105\": 1, \"89\": 1, \"107\": 2}, \"33\": {\"33\": 102, \"114\": 1, \"5\": 8, \"40\": 2, \"107\": 3, \"90\": 1, \"88\": 1}, \"47\": {\"47\": 12}, \"115\": {\"115\": 9, \"111\": 3, \"102\": 1, \"50\": 1, \"129\": 2}, \"6\": {\"6\": 21, \"112\": 1, \"42\": 1, \"39\": 1}, \"65\": {\"65\": 12}, \"66\": {\"19\": 2, \"85\": 1, \"66\": 3, \"97\": 1, \"90\": 2, \"5\": 1, \"38\": 2, \"128\": 1, \"121\": 1, \"44\": 1, \"22\": 1}, \"78\": {\"78\": 26, \"118\": 2, \"88\": 7, \"24\": 1}, \"98\": {\"98\": 102, \"29\": 1, \"46\": 1, \"1\": 2, \"5\": 2, \"56\": 1, \"89\": 1, \"73\": 1, \"100\": 1, \"40\": 1, \"33\": 3}, \"93\": {\"11\": 8, \"93\": 72, \"16\": 8, \"62\": 1, \"110\": 9, \"113\": 4, \"7\": 3, \"87\": 2, \"5\": 1, \"122\": 1, \"118\": 4, \"71\": 1, \"0\": 1, \"8\": 1}, \"48\": {\"48\": 9, \"102\": 2, \"117\": 1, \"68\": 1, \"13\": 1, \"42\": 1, \"63\": 1}, \"124\": {\"17\": 2, \"124\": 97, \"111\": 10, \"102\": 2, \"82\": 1, \"4\": 1, \"107\": 1}}, \"Wisig_2\": {\"115\": {\"115\": 12}, \"34\": {\"34\": 19, \"17\": 1, \"47\": 2, \"53\": 2, \"98\": 2, \"49\": 1, \"56\": 1, \"54\": 2, \"9\": 1, \"51\": 1}, \"97\": {\"7\": 2, \"97\": 9, \"127\": 1, \"0\": 5, \"120\": 1, \"101\": 1, \"40\": 1}, \"100\": {\"90\": 2, \"33\": 2, \"100\": 7, \"89\": 2, \"82\": 1, \"57\": 1, \"99\": 1}, \"129\": {\"129\": 30, \"5\": 2}, \"90\": {\"100\": 1, \"90\": 135, \"81\": 2, \"63\": 2, \"83\": 1, \"73\": 1}, \"125\": {\"125\": 131, \"68\": 1}, \"7\": {\"7\": 102, \"110\": 6, \"105\": 7, \"12\": 1, \"62\": 1, \"24\": 1, \"39\": 1, \"88\": 1, \"0\": 3, \"94\": 2, \"71\": 1, \"30\": 1, \"8\": 1}, \"92\": {\"33\": 1, \"100\": 1, \"19\": 2, \"92\": 12, \"74\": 1, \"63\": 1, \"107\": 1, \"128\": 1, \"82\": 2, \"89\": 2, \"55\": 1, \"104\": 1, \"98\": 2}, \"114\": {\"114\": 107, \"88\": 1, \"107\": 4, \"76\": 2, \"44\": 2}, \"80\": {\"80\": 13, \"48\": 2, \"83\": 1}, \"16\": {\"16\": 74, \"93\": 10, \"60\": 1, \"11\": 1, \"113\": 2, \"26\": 4, \"3\": 3, \"109\": 1, \"40\": 1, \"70\": 1, \"94\": 1, \"69\": 3, \"122\": 3, \"24\": 2, \"39\": 1, \"105\": 2, \"18\": 4, \"62\": 4, \"110\": 1, \"88\": 1, \"98\": 1, \"30\": 1}, \"69\": {\"69\": 97, \"72\": 2, \"24\": 1, \"3\": 3, \"26\": 4, \"84\": 4, \"108\": 1, \"21\": 1, \"88\": 1, \"18\": 2}, \"102\": {\"102\": 109, \"48\": 1, \"116\": 1, \"117\": 1, \"124\": 1, \"42\": 1}, \"33\": {\"33\": 127, \"31\": 2, \"44\": 1}, \"17\": {\"129\": 2, \"80\": 1, \"17\": 9, \"104\": 2, \"27\": 1, \"79\": 1}, \"27\": {\"27\": 53, \"108\": 1, \"36\": 3, \"78\": 2, \"11\": 2, \"70\": 1, \"109\": 1, \"30\": 4, \"88\": 1}, \"117\": {\"117\": 92, \"27\": 1, \"116\": 2, \"90\": 1, \"5\": 3, \"39\": 1, \"83\": 1, \"102\": 3, \"124\": 2}, \"14\": {\"14\": 31, \"71\": 2, \"3\": 4, \"40\": 2, \"44\": 1, \"95\": 1, \"127\": 1, \"84\": 1, \"39\": 1, \"101\": 2, \"78\": 1, \"107\": 1}, \"86\": {\"86\": 29, \"111\": 2, \"59\": 1}, \"0\": {\"0\": 95, \"21\": 1, \"10\": 1, \"122\": 1, \"7\": 5, \"94\": 3, \"36\": 2, \"15\": 1, \"105\": 4, \"39\": 1, \"8\": 2}, \"62\": {\"62\": 115, \"40\": 3, \"105\": 6, \"8\": 1, \"93\": 2, \"26\": 3, \"71\": 1, \"7\": 2, \"5\": 1, \"84\": 1, \"24\": 1, \"1\": 2}, \"39\": {\"39\": 81, \"109\": 11, \"24\": 2, \"88\": 6, \"70\": 7, \"11\": 1, \"10\": 3, \"126\": 1}, \"19\": {\"19\": 20, \"90\": 2, \"55\": 2, \"63\": 2, \"38\": 1, \"98\": 1}, \"44\": {\"14\": 1, \"44\": 77, \"33\": 11, \"1\": 5, \"3\": 1, \"71\": 1, \"18\": 2, \"127\": 1, \"90\": 1}, \"104\": {\"104\": 12, \"17\": 1, \"42\": 1, \"52\": 1, \"37\": 1, \"129\": 1, \"111\": 1, \"112\": 2}, \"3\": {\"14\": 3, \"95\": 1, \"3\": 94, \"1\": 8, \"12\": 2, \"71\": 10, \"69\": 3, \"88\": 1, \"39\": 1, \"40\": 3, \"33\": 1, \"43\": 2, \"21\": 1}, \"10\": {\"10\": 49, \"43\": 1, \"108\": 1, \"70\": 4, \"109\": 1, \"21\": 2, \"88\": 2}, \"61\": {\"61\": 8, \"68\": 1, \"36\": 1, \"1\": 1, \"70\": 1, \"74\": 1, \"64\": 1, \"101\": 1, \"49\": 2, \"39\": 2, \"95\": 1}, \"111\": {\"103\": 1, \"86\": 1, \"111\": 99, \"129\": 1, \"124\": 9, \"5\": 3}, \"68\": {\"111\": 1, \"68\": 8, \"54\": 1, \"52\": 3, \"75\": 1, \"50\": 2}, \"101\": {\"101\": 137, \"21\": 1, \"94\": 1, \"118\": 1, \"106\": 4}, \"36\": {\"36\": 90, \"8\": 9, \"30\": 8, \"88\": 2, \"23\": 3, \"87\": 1, \"15\": 4, \"105\": 2, \"109\": 3, \"43\": 1, \"122\": 2, \"24\": 1, \"94\": 1, \"70\": 1}, \"120\": {\"120\": 17, \"19\": 2, \"121\": 1}, \"103\": {\"103\": 12, \"111\": 1, \"25\": 1, \"41\": 1, \"98\": 1}, \"47\": {\"76\": 2, \"47\": 7, \"83\": 1, \"68\": 1, \"54\": 1}, \"98\": {\"98\": 107, \"107\": 1, \"34\": 2, \"29\": 2, \"89\": 2, \"19\": 1, \"72\": 1, \"66\": 2, \"111\": 1, \"4\": 1}, \"76\": {\"76\": 12, \"16\": 1, \"54\": 1, \"89\": 1, \"71\": 1}, \"88\": {\"88\": 89, \"39\": 6, \"21\": 1, \"10\": 2, \"109\": 7, \"70\": 13, \"87\": 3, \"78\": 2, \"24\": 1}, \"93\": {\"93\": 93, \"16\": 15, \"26\": 11, \"78\": 1, \"14\": 1, \"23\": 1, \"24\": 1, \"105\": 2, \"18\": 3, \"122\": 3, \"62\": 3, \"96\": 1, \"11\": 1, \"8\": 1, \"69\": 1}, \"23\": {\"16\": 2, \"36\": 4, \"11\": 4, \"23\": 8, \"72\": 3, \"0\": 1, \"18\": 1, \"94\": 4, \"69\": 1, \"10\": 1, \"30\": 1, \"7\": 2, \"84\": 1, \"15\": 3, \"62\": 4, \"8\": 1, \"26\": 1, \"118\": 1, \"12\": 1}, \"108\": {\"108\": 110, \"122\": 4, \"8\": 1, \"94\": 1, \"98\": 1, \"43\": 7}, \"51\": {\"54\": 2, \"106\": 2, \"90\": 2, \"9\": 1, \"35\": 1, \"34\": 2, \"64\": 1, \"49\": 1, \"103\": 1, \"51\": 3, \"76\": 1, \"127\": 2, \"21\": 1}, \"13\": {\"13\": 5, \"36\": 1, \"102\": 2, \"88\": 1, \"4\": 1, \"42\": 2, \"119\": 1, \"5\": 1, \"118\": 2}, \"77\": {\"77\": 13, \"68\": 1, \"55\": 1, \"41\": 1}, \"46\": {\"46\": 14, \"119\": 2}, \"96\": {\"33\": 1, \"96\": 10, \"1\": 1, \"69\": 1, \"113\": 2, \"18\": 1, \"23\": 2, \"60\": 2}, \"119\": {\"119\": 11, \"13\": 1, \"46\": 1, \"125\": 1, \"65\": 1, \"117\": 1, \"37\": 2, \"22\": 1, \"67\": 1}, \"121\": {\"82\": 4, \"121\": 24, \"81\": 2, \"57\": 1, \"63\": 2, \"123\": 1, \"120\": 1, \"46\": 1}, \"54\": {\"54\": 11, \"41\": 1, \"34\": 4, \"32\": 1, \"10\": 1, \"9\": 1, \"75\": 1}, \"82\": {\"82\": 25, \"76\": 1, \"41\": 2, \"100\": 1, \"99\": 2, \"78\": 1, \"56\": 1, \"92\": 2, \"89\": 1}, \"12\": {\"12\": 74, \"110\": 2, \"95\": 1, \"10\": 1, \"106\": 3, \"0\": 2, \"15\": 1, \"39\": 1, \"84\": 1, \"127\": 1, \"109\": 1}, \"74\": {\"74\": 12, \"127\": 2, \"105\": 1, \"31\": 1}, \"66\": {\"28\": 1, \"41\": 1, \"64\": 2, \"66\": 8, \"123\": 1, \"111\": 1, \"98\": 1, \"45\": 1, \"50\": 1, \"85\": 1, \"124\": 1, \"29\": 1}, \"28\": {\"66\": 2, \"28\": 11, \"50\": 1, \"73\": 1, \"2\": 1, \"100\": 1, \"98\": 2, \"42\": 1}, \"52\": {\"52\": 14, \"66\": 2, \"68\": 1, \"5\": 1, \"17\": 1, \"25\": 1}, \"41\": {\"41\": 10, \"54\": 1, \"112\": 2, \"129\": 1, \"5\": 2, \"17\": 1, \"77\": 1, \"103\": 1, \"114\": 1}, \"81\": {\"81\": 11, \"90\": 1, \"16\": 1, \"121\": 2, \"63\": 1, \"61\": 2, \"99\": 2, \"57\": 2, \"18\": 1, \"89\": 1}, \"48\": {\"48\": 15, \"13\": 1, \"124\": 2, \"5\": 1, \"102\": 1}, \"113\": {\"113\": 67, \"62\": 1, \"93\": 2, \"78\": 1, \"87\": 1}, \"53\": {\"54\": 2, \"53\": 10, \"34\": 1, \"82\": 1, \"1\": 2}, \"15\": {\"15\": 94, \"8\": 4, \"97\": 1, \"36\": 7, \"0\": 9, \"105\": 2, \"23\": 1, \"94\": 1, \"70\": 1}, \"30\": {\"30\": 83, \"27\": 5, \"122\": 2, \"94\": 3, \"11\": 3, \"24\": 1, \"43\": 1, \"36\": 5, \"105\": 1, \"8\": 2, \"108\": 5, \"70\": 1}, \"43\": {\"43\": 112, \"126\": 6, \"88\": 1, \"87\": 3, \"118\": 1, \"70\": 1}, \"29\": {\"29\": 28, \"91\": 2, \"19\": 1, \"59\": 1}, \"109\": {\"109\": 70, \"39\": 8, \"10\": 2, \"88\": 15, \"70\": 3, \"21\": 1, \"126\": 1}, \"60\": {\"127\": 1, \"60\": 13, \"12\": 1, \"122\": 2, \"11\": 2, \"30\": 1, \"26\": 1, \"36\": 1, \"87\": 1, \"72\": 1, \"70\": 1, \"7\": 1, \"23\": 1, \"8\": 1}, \"70\": {\"39\": 8, \"70\": 80, \"10\": 9, \"78\": 4, \"88\": 7, \"24\": 1, \"109\": 5, \"108\": 2, \"46\": 1, \"126\": 5}, \"127\": {\"127\": 113, \"101\": 3, \"40\": 4, \"24\": 1, \"106\": 3}, \"32\": {\"32\": 21, \"92\": 1, \"56\": 2, \"9\": 1, \"95\": 2, \"22\": 1, \"114\": 1, \"54\": 1, \"53\": 1, \"40\": 2, \"107\": 2, \"3\": 1}, \"73\": {\"73\": 20, \"64\": 1, \"88\": 1, \"116\": 2, \"52\": 1, \"22\": 1, \"117\": 2}, \"50\": {\"82\": 2, \"50\": 6, \"38\": 1, \"46\": 1, \"21\": 1, \"45\": 1, \"63\": 2, \"42\": 2}, \"1\": {\"1\": 100, \"105\": 1, \"27\": 1, \"38\": 1, \"42\": 1, \"3\": 6, \"40\": 2, \"44\": 3, \"33\": 4, \"109\": 1, \"88\": 1, \"84\": 1, \"24\": 1, \"101\": 1}, \"106\": {\"106\": 98, \"21\": 1, \"40\": 2, \"0\": 1, \"12\": 4, \"101\": 9, \"127\": 2, \"126\": 1, \"30\": 1, \"88\": 1}, \"123\": {\"82\": 2, \"66\": 2, \"107\": 1, \"123\": 4, \"50\": 2, \"28\": 1, \"45\": 1, \"129\": 1, \"89\": 1, \"91\": 1}, \"79\": {\"79\": 15, \"4\": 1}, \"4\": {\"4\": 78, \"125\": 4, \"78\": 1, \"126\": 1, \"108\": 1, \"79\": 1, \"5\": 2}, \"2\": {\"123\": 1, \"121\": 2, \"2\": 22, \"117\": 4, \"82\": 1, \"13\": 1, \"102\": 1}, \"8\": {\"8\": 96, \"97\": 1, \"15\": 2, \"0\": 3, \"122\": 3, \"30\": 2, \"88\": 2, \"105\": 4, \"36\": 6, \"11\": 1, \"39\": 1, \"94\": 3, \"109\": 1, \"7\": 1, \"70\": 2}, \"83\": {\"83\": 29, \"38\": 1, \"89\": 4, \"82\": 1, \"47\": 1, \"18\": 1, \"44\": 2, \"114\": 1}, \"105\": {\"8\": 5, \"105\": 114, \"0\": 2, \"7\": 7, \"39\": 1, \"40\": 1}, \"5\": {\"5\": 100, \"73\": 1, \"85\": 1, \"21\": 1, \"70\": 2, \"124\": 2, \"109\": 1, \"67\": 1, \"41\": 1, \"116\": 1, \"88\": 1}, \"99\": {\"99\": 18, \"81\": 2, \"121\": 3, \"47\": 1, \"38\": 1, \"82\": 2, \"83\": 1, \"120\": 2, \"68\": 1, \"84\": 1}, \"25\": {\"41\": 2, \"25\": 9, \"103\": 2, \"104\": 1, \"52\": 1, \"91\": 1}, \"59\": {\"59\": 5, \"17\": 1, \"21\": 2, \"6\": 2, \"5\": 3, \"86\": 1, \"70\": 1, \"85\": 1}, \"42\": {\"77\": 1, \"13\": 1, \"104\": 2, \"42\": 6, \"111\": 1, \"37\": 2, \"82\": 1, \"129\": 2, \"85\": 1, \"124\": 1, \"73\": 3, \"22\": 1, \"102\": 2, \"10\": 1, \"5\": 2, \"109\": 1}, \"55\": {\"42\": 1, \"95\": 1, \"53\": 1, \"34\": 1, \"55\": 2, \"1\": 1, \"83\": 1, \"19\": 1, \"107\": 1, \"45\": 1, \"100\": 2, \"82\": 1, \"92\": 1, \"66\": 1}, \"75\": {\"75\": 6, \"47\": 1, \"49\": 2, \"9\": 2, \"68\": 2, \"56\": 1, \"106\": 1, \"54\": 1}, \"118\": {\"118\": 50, \"43\": 6, \"108\": 3, \"11\": 2, \"27\": 2, \"113\": 1, \"87\": 1, \"122\": 2, \"126\": 1}, \"95\": {\"127\": 4, \"21\": 1, \"106\": 1, \"107\": 4, \"49\": 2, \"40\": 5, \"1\": 1, \"95\": 12, \"32\": 2, \"24\": 1, \"44\": 1, \"74\": 1, \"101\": 1}, \"122\": {\"12\": 1, \"122\": 85, \"30\": 4, \"24\": 1, \"94\": 4, \"8\": 9, \"108\": 6, \"70\": 1, \"43\": 1, \"11\": 5, \"7\": 2, \"0\": 1}, \"20\": {\"60\": 1, \"20\": 4, \"44\": 1, \"18\": 2, \"31\": 1, \"26\": 3, \"61\": 2, \"35\": 1, \"34\": 1}, \"110\": {\"110\": 19, \"16\": 1, \"57\": 1, \"0\": 1, \"7\": 8, \"26\": 1, \"6\": 1, \"21\": 1, \"105\": 2, \"88\": 1, \"87\": 2, \"27\": 1, \"62\": 1}, \"65\": {\"65\": 19, \"117\": 1}, \"37\": {\"37\": 9, \"66\": 1, \"73\": 2, \"119\": 1, \"124\": 1, \"85\": 1, \"86\": 1}, \"64\": {\"66\": 3, \"55\": 2, \"64\": 8, \"76\": 1, \"92\": 1, \"89\": 1}, \"63\": {\"92\": 2, \"63\": 14, \"116\": 1, \"17\": 1, \"82\": 1, \"19\": 1}, \"40\": {\"95\": 4, \"40\": 69, \"35\": 1, \"110\": 1, \"12\": 5, \"88\": 6, \"62\": 2, \"107\": 2, \"1\": 5, \"71\": 8, \"101\": 2, \"127\": 4, \"3\": 15, \"84\": 2, \"105\": 1, \"24\": 2, \"33\": 2, \"14\": 2, \"92\": 1, \"43\": 1, \"70\": 2, \"109\": 1, \"69\": 2}, \"21\": {\"21\": 47, \"78\": 1}, \"11\": {\"11\": 56, \"43\": 3, \"110\": 1, \"108\": 2, \"36\": 2, \"15\": 2, \"30\": 4, \"122\": 2, \"7\": 3, \"87\": 2, \"8\": 1, \"88\": 1, \"102\": 1}, \"67\": {\"123\": 1, \"67\": 9, \"129\": 1, \"86\": 1, \"5\": 1, \"46\": 1, \"124\": 1, \"28\": 1}, \"91\": {\"103\": 1, \"70\": 1, \"91\": 15, \"77\": 1, \"67\": 1, \"118\": 1, \"112\": 3, \"28\": 2, \"5\": 1, \"22\": 1, \"41\": 1}, \"87\": {\"87\": 87, \"43\": 9, \"126\": 4, \"88\": 3, \"108\": 2, \"24\": 1, \"8\": 1, \"109\": 2, \"93\": 1, \"39\": 2}, \"89\": {\"89\": 31, \"83\": 1, \"53\": 1, \"92\": 1, \"22\": 1, \"38\": 1}, \"9\": {\"9\": 30, \"34\": 2}, \"124\": {\"124\": 90, \"111\": 15, \"129\": 1, \"5\": 5, \"102\": 1, \"104\": 2}, \"56\": {\"56\": 11, \"103\": 1}, \"38\": {\"38\": 10, \"31\": 2, \"128\": 1, \"82\": 1, \"33\": 1, \"1\": 1}, \"94\": {\"94\": 28, \"97\": 1, \"8\": 5, \"0\": 7, \"15\": 4, \"110\": 1, \"105\": 3, \"36\": 4, \"109\": 2, \"7\": 4, \"102\": 1, \"88\": 2, \"87\": 1, \"39\": 1}, \"6\": {\"6\": 23, \"112\": 1, \"111\": 2, \"91\": 3, \"104\": 2, \"129\": 1}, \"58\": {\"58\": 10, \"34\": 4, \"109\": 1, \"55\": 1, \"76\": 2, \"32\": 2}, \"22\": {\"55\": 1, \"22\": 13, \"129\": 2, \"37\": 1, \"50\": 1, \"5\": 1, \"73\": 1}, \"24\": {\"108\": 1, \"10\": 2, \"118\": 1, \"39\": 4, \"24\": 84, \"126\": 4, \"109\": 4, \"36\": 2, \"78\": 1, \"87\": 1, \"70\": 2, \"111\": 1, \"88\": 3, \"43\": 1, \"101\": 1}, \"57\": {\"57\": 7, \"123\": 1, \"4\": 2, \"119\": 2, \"100\": 2, \"99\": 2, \"81\": 1, \"42\": 1, \"63\": 2}, \"112\": {\"41\": 1, \"100\": 1, \"103\": 2, \"7\": 1, \"45\": 1, \"112\": 5, \"19\": 2, \"65\": 1, \"116\": 1, \"66\": 1}, \"116\": {\"116\": 23, \"78\": 2, \"102\": 1, \"117\": 1, \"5\": 1}, \"18\": {\"18\": 92, \"23\": 2, \"109\": 1, \"14\": 2, \"87\": 1, \"84\": 4, \"107\": 1, \"78\": 1, \"70\": 2, \"26\": 5, \"88\": 1, \"24\": 1, \"69\": 6, \"96\": 2, \"93\": 2, \"44\": 2, \"39\": 1, \"33\": 2}, \"49\": {\"56\": 1, \"89\": 1, \"9\": 1, \"49\": 9, \"107\": 3, \"78\": 2, \"76\": 2, \"68\": 1, \"127\": 1, \"114\": 2, \"34\": 1}, \"45\": {\"45\": 11, \"57\": 1, \"19\": 1, \"5\": 1, \"37\": 1, \"102\": 1}, \"107\": {\"114\": 7, \"14\": 2, \"76\": 2, \"128\": 1, \"49\": 1, \"78\": 3, \"33\": 4, \"107\": 26, \"87\": 1, \"44\": 2, \"1\": 2, \"10\": 1, \"26\": 1, \"22\": 1, \"34\": 1, \"43\": 1, \"88\": 1, \"31\": 1, \"32\": 2, \"70\": 1, \"29\": 1, \"9\": 1, \"71\": 1}, \"35\": {\"35\": 10, \"1\": 1, \"84\": 1}, \"78\": {\"78\": 42, \"21\": 1, \"24\": 1, \"70\": 2, \"109\": 2}, \"126\": {\"126\": 97, \"24\": 5, \"39\": 2, \"87\": 4, \"109\": 1, \"70\": 6, \"43\": 2, \"122\": 1, \"108\": 2}, \"85\": {\"85\": 23, \"67\": 1, \"98\": 1, \"57\": 1, \"112\": 2, \"73\": 2, \"59\": 2}, \"72\": {\"72\": 15, \"62\": 1, \"26\": 1, \"84\": 1, \"33\": 3, \"21\": 1, \"40\": 2, \"95\": 1, \"1\": 1, \"3\": 2}, \"26\": {\"26\": 105, \"16\": 2, \"113\": 2, \"69\": 7, \"84\": 1, \"108\": 1, \"0\": 1, \"93\": 2, \"109\": 1, \"88\": 2}, \"84\": {\"3\": 3, \"84\": 68, \"118\": 1, \"72\": 3, \"93\": 1, \"71\": 3, \"62\": 2, \"24\": 1, \"69\": 5, \"14\": 1, \"30\": 1, \"1\": 1, \"26\": 2}, \"128\": {\"76\": 2, \"128\": 10, \"34\": 2, \"107\": 2, \"89\": 1, \"56\": 2, \"54\": 1, \"91\": 1, \"33\": 1, \"51\": 1, \"44\": 1}, \"31\": {\"31\": 17, \"33\": 2, \"95\": 1}, \"71\": {\"71\": 70, \"33\": 1, \"3\": 9, \"40\": 5, \"1\": 6, \"109\": 1, \"114\": 1, \"69\": 1, \"88\": 1, \"95\": 3, \"106\": 1, \"127\": 1}}, \"Wisig_1\": {\"22\": {\"22\": 14, \"116\": 2}, \"58\": {\"58\": 12}, \"109\": {\"109\": 108, \"70\": 7, \"78\": 2, \"10\": 5, \"108\": 1, \"39\": 1}, \"77\": {\"77\": 14, \"5\": 1, \"41\": 1}, \"74\": {\"74\": 14, \"34\": 2}, \"10\": {\"10\": 110, \"70\": 7, \"78\": 1, \"109\": 1, \"108\": 1}, \"70\": {\"70\": 111, \"93\": 1, \"10\": 6, \"109\": 8, \"90\": 1, \"108\": 1}, \"84\": {\"84\": 92, \"23\": 1, \"105\": 2, \"62\": 2, \"7\": 6, \"44\": 4, \"127\": 1}, \"52\": {\"52\": 14, \"92\": 2, \"114\": 1, \"103\": 1, \"85\": 2}, \"20\": {\"20\": 13, \"41\": 1, \"114\": 2}, \"14\": {\"14\": 86, \"74\": 1, \"1\": 3, \"10\": 1, \"40\": 3, \"44\": 1, \"105\": 1}, \"37\": {\"37\": 16}, \"42\": {\"52\": 1, \"22\": 1, \"117\": 1, \"91\": 2, \"42\": 14, \"83\": 3, \"67\": 1, \"98\": 1, \"25\": 1, \"129\": 1, \"82\": 1, \"29\": 1}, \"99\": {\"14\": 2, \"99\": 17, \"101\": 1, \"19\": 1, \"33\": 1, \"90\": 1, \"1\": 1}, \"35\": {\"35\": 12}, \"62\": {\"62\": 109, \"7\": 6, \"69\": 2, \"105\": 1, \"110\": 1, \"109\": 1}, \"61\": {\"61\": 8, \"28\": 1, \"19\": 1, \"82\": 1, \"38\": 1}, \"7\": {\"7\": 121, \"96\": 2, \"69\": 2, \"87\": 1, \"62\": 9, \"110\": 1, \"84\": 5, \"109\": 1}, \"69\": {\"69\": 88, \"26\": 3, \"62\": 3, \"10\": 1, \"108\": 1, \"118\": 1, \"7\": 4, \"0\": 1, \"109\": 1, \"11\": 1}, \"55\": {\"55\": 11, \"57\": 1}, \"41\": {\"41\": 12, \"46\": 2, \"17\": 2}, \"120\": {\"120\": 17, \"124\": 1, \"82\": 2}, \"123\": {\"123\": 14, \"129\": 1, \"5\": 1}, \"97\": {\"97\": 11, \"55\": 1, \"121\": 1, \"23\": 1, \"68\": 1, \"90\": 1, \"96\": 2, \"8\": 2}, \"102\": {\"102\": 112, \"2\": 1, \"39\": 1, \"117\": 4, \"10\": 1, \"109\": 1}, \"60\": {\"7\": 2, \"60\": 4, \"18\": 1, \"15\": 2, \"65\": 2, \"61\": 1, \"23\": 1, \"31\": 1, \"96\": 1, \"8\": 1}, \"127\": {\"127\": 92, \"10\": 2, \"11\": 1, \"71\": 4, \"101\": 4, \"78\": 1, \"40\": 2, \"12\": 2}, \"32\": {\"32\": 25, \"75\": 1, \"51\": 2, \"56\": 3, \"53\": 1}, \"3\": {\"20\": 2, \"3\": 67, \"110\": 2, \"85\": 1, \"114\": 3, \"40\": 2, \"94\": 1, \"1\": 3, \"33\": 5, \"12\": 1, \"10\": 1}, \"8\": {\"8\": 96, \"87\": 2, \"0\": 3, \"27\": 6, \"88\": 1, \"122\": 3, \"30\": 1, \"97\": 2, \"126\": 2, \"94\": 1, \"15\": 1, \"93\": 3, \"110\": 1}, \"129\": {\"117\": 1, \"55\": 1, \"129\": 19, \"13\": 1, \"2\": 1, \"5\": 4, \"102\": 1}, \"119\": {\"119\": 8, \"117\": 1, \"63\": 1, \"115\": 1, \"116\": 1, \"61\": 1, \"57\": 1, \"102\": 2}, \"21\": {\"21\": 39, \"99\": 1}, \"53\": {\"29\": 1, \"53\": 13, \"85\": 1, \"89\": 1, \"52\": 1, \"107\": 1, \"19\": 1, \"75\": 1}, \"28\": {\"53\": 1, \"28\": 8, \"65\": 1, \"60\": 1, \"73\": 2, \"5\": 2, \"98\": 1, \"67\": 1, \"81\": 1, \"82\": 1, \"33\": 1}, \"117\": {\"117\": 144}, \"112\": {\"112\": 6, \"29\": 1, \"124\": 2, \"98\": 2, \"59\": 1, \"111\": 1, \"91\": 1, \"5\": 1, \"37\": 1}, \"126\": {\"126\": 88, \"88\": 2, \"93\": 4, \"87\": 4, \"43\": 7, \"11\": 17, \"108\": 3, \"122\": 5, \"109\": 1, \"10\": 1, \"8\": 1, \"39\": 1}, \"30\": {\"30\": 42, \"96\": 2, \"97\": 4, \"108\": 4}, \"105\": {\"105\": 69, \"10\": 1, \"11\": 1, \"70\": 1, \"107\": 1, \"40\": 2, \"106\": 3, \"26\": 2, \"84\": 2, \"12\": 2}, \"29\": {\"29\": 26, \"98\": 1, \"89\": 1}, \"57\": {\"57\": 12}, \"93\": {\"93\": 123, \"30\": 1, \"24\": 4, \"11\": 1, \"126\": 1, \"15\": 2, \"122\": 1, \"88\": 4, \"36\": 1, \"108\": 1, \"8\": 1}, \"17\": {\"55\": 1, \"0\": 1, \"17\": 4, \"124\": 5, \"86\": 2, \"111\": 1, \"6\": 2}, \"44\": {\"44\": 54, \"84\": 5, \"105\": 7, \"40\": 4, \"7\": 1, \"3\": 1, \"14\": 2, \"62\": 1, \"26\": 1}, \"63\": {\"63\": 12, \"119\": 1, \"102\": 1, \"117\": 1, \"116\": 1}, \"87\": {\"87\": 90, \"8\": 4, \"109\": 1, \"122\": 7, \"43\": 3, \"93\": 1, \"10\": 1, \"126\": 1}, \"0\": {\"0\": 68, \"110\": 3, \"27\": 1, \"10\": 1, \"36\": 3, \"122\": 1, \"15\": 4, \"94\": 3}, \"96\": {\"0\": 1, \"44\": 1, \"16\": 1, \"7\": 1, \"57\": 1, \"126\": 1, \"96\": 8, \"8\": 2, \"118\": 1, \"19\": 1, \"36\": 1, \"93\": 1}, \"98\": {\"98\": 91, \"120\": 3, \"32\": 2, \"51\": 1, \"29\": 3, \"54\": 2, \"19\": 1, \"128\": 1, \"91\": 1, \"42\": 1, \"11\": 1, \"90\": 1}, \"75\": {\"75\": 6, \"92\": 1, \"53\": 1, \"107\": 1, \"51\": 2, \"34\": 1, \"32\": 1, \"49\": 1, \"85\": 2}, \"78\": {\"109\": 2, \"108\": 2, \"78\": 12}, \"116\": {\"116\": 16, \"73\": 2, \"2\": 2, \"45\": 2, \"98\": 1, \"25\": 1, \"83\": 1, \"91\": 1, \"64\": 1, \"102\": 1, \"13\": 1, \"124\": 1, \"90\": 1, \"10\": 1}, \"114\": {\"114\": 114, \"38\": 2, \"81\": 1, \"128\": 1, \"83\": 1, \"109\": 1, \"10\": 1, \"107\": 3, \"3\": 1, \"101\": 1, \"1\": 2}, \"103\": {\"103\": 8, \"37\": 2, \"29\": 1, \"86\": 1, \"100\": 1, \"111\": 1, \"19\": 1, \"91\": 1}, \"50\": {\"73\": 2, \"50\": 6, \"45\": 1, \"42\": 1, \"33\": 1, \"100\": 1, \"128\": 2, \"90\": 1, \"82\": 1}, \"124\": {\"124\": 120, \"46\": 2, \"86\": 1, \"111\": 5}, \"5\": {\"5\": 75, \"54\": 2, \"129\": 3, \"124\": 3, \"6\": 1, \"10\": 1, \"12\": 1, \"111\": 2}, \"73\": {\"50\": 2, \"44\": 1, \"61\": 1, \"54\": 2, \"73\": 13, \"101\": 1}, \"81\": {\"50\": 2, \"81\": 14, \"65\": 1, \"107\": 1, \"83\": 2, \"71\": 1, \"114\": 1, \"67\": 1, \"101\": 1, \"9\": 2, \"74\": 1, \"127\": 1}, \"49\": {\"49\": 11, \"73\": 1, \"81\": 1, \"72\": 1, \"89\": 1, \"75\": 2, \"9\": 2, \"32\": 1}, \"16\": {\"16\": 68, \"23\": 1, \"113\": 5, \"18\": 8, \"69\": 6, \"26\": 6, \"118\": 4, \"70\": 1, \"10\": 1, \"62\": 2, \"7\": 2, \"108\": 1, \"126\": 1, \"8\": 1, \"87\": 1}, \"101\": {\"101\": 93, \"71\": 8, \"12\": 11, \"29\": 1, \"127\": 8, \"40\": 1, \"106\": 1, \"107\": 1}, \"125\": {\"125\": 118}, \"65\": {\"104\": 2, \"98\": 1, \"17\": 1, \"82\": 2, \"42\": 1, \"61\": 2, \"87\": 1, \"65\": 1, \"5\": 1}, \"66\": {\"28\": 1, \"65\": 1, \"82\": 2, \"13\": 1, \"90\": 3, \"38\": 2, \"66\": 5, \"121\": 1}, \"79\": {\"104\": 1, \"79\": 8, \"86\": 2, \"4\": 1}, \"39\": {\"39\": 95, \"108\": 2, \"43\": 2, \"126\": 2, \"11\": 1, \"24\": 1, \"109\": 1}, \"104\": {\"57\": 2, \"104\": 10, \"5\": 2, \"80\": 1, \"25\": 1}, \"91\": {\"77\": 2, \"53\": 2, \"54\": 2, \"91\": 16, \"37\": 1, \"86\": 1, \"57\": 1, \"103\": 2, \"98\": 1}, \"25\": {\"82\": 1, \"25\": 9, \"116\": 1, \"98\": 1, \"67\": 1, \"1\": 1, \"121\": 1, \"22\": 1}, \"64\": {\"64\": 16}, \"34\": {\"18\": 2, \"51\": 1, \"127\": 1, \"49\": 1, \"34\": 7, \"89\": 3, \"36\": 1, \"85\": 1, \"40\": 4, \"107\": 4, \"75\": 1, \"105\": 2, \"53\": 1, \"81\": 1, \"106\": 1, \"33\": 1}, \"82\": {\"82\": 27, \"128\": 1, \"90\": 3, \"42\": 1, \"114\": 1, \"61\": 1, \"64\": 1, \"100\": 1}, \"18\": {\"18\": 89, \"26\": 17, \"16\": 7, \"113\": 4, \"7\": 3, \"69\": 2, \"62\": 2}, \"43\": {\"43\": 107, \"108\": 1, \"10\": 1, \"122\": 6, \"87\": 1, \"93\": 6, \"11\": 2, \"126\": 2, \"88\": 2}, \"47\": {\"91\": 2, \"47\": 4, \"32\": 2, \"53\": 1, \"120\": 2, \"82\": 1}, \"108\": {\"108\": 79, \"88\": 8, \"67\": 1, \"24\": 13, \"93\": 7, \"30\": 1, \"126\": 4, \"43\": 2, \"8\": 1, \"70\": 1, \"87\": 1, \"10\": 2, \"11\": 3, \"39\": 1}, \"111\": {\"111\": 103, \"68\": 2, \"70\": 1, \"124\": 1, \"59\": 1}, \"23\": {\"23\": 7, \"87\": 2, \"44\": 1, \"7\": 1, \"16\": 2, \"110\": 3, \"18\": 1, \"15\": 1, \"62\": 2, \"118\": 2, \"14\": 2}, \"90\": {\"90\": 145, \"83\": 1, \"116\": 1, \"82\": 2, \"107\": 1, \"99\": 2, \"33\": 2, \"66\": 1, \"128\": 1, \"50\": 1, \"114\": 3}, \"4\": {\"4\": 95, \"104\": 2, \"125\": 1, \"86\": 1, \"30\": 1}, \"92\": {\"92\": 28}, \"2\": {\"2\": 19, \"63\": 1, \"117\": 3, \"116\": 1, \"129\": 1, \"102\": 2, \"5\": 2, \"55\": 1, \"104\": 1, \"15\": 1}, \"45\": {\"116\": 2, \"102\": 1, \"80\": 2, \"117\": 1, \"104\": 2, \"124\": 1, \"70\": 1, \"21\": 1, \"45\": 1}, \"68\": {\"68\": 13, \"41\": 1, \"111\": 2}, \"26\": {\"26\": 112, \"69\": 2, \"18\": 7, \"16\": 2, \"62\": 1, \"118\": 1, \"7\": 2, \"113\": 1}, \"38\": {\"38\": 8, \"53\": 1, \"34\": 1, \"128\": 1, \"74\": 1, \"49\": 3, \"40\": 1}, \"40\": {\"40\": 90, \"1\": 6, \"105\": 6, \"71\": 6, \"44\": 2, \"127\": 4, \"110\": 1, \"9\": 1, \"12\": 5, \"14\": 8, \"106\": 4, \"107\": 1, \"113\": 1, \"101\": 5, \"36\": 1, \"114\": 1}, \"80\": {\"80\": 11, \"112\": 1, \"81\": 1, \"104\": 1, \"48\": 1, \"75\": 1}, \"107\": {\"107\": 104, \"72\": 1, \"93\": 1, \"9\": 1, \"89\": 3, \"10\": 2, \"114\": 5, \"40\": 1, \"90\": 1, \"50\": 2, \"39\": 1}, \"94\": {\"94\": 63, \"15\": 14, \"36\": 6, \"0\": 5, \"110\": 4}, \"115\": {\"115\": 10, \"63\": 1, \"46\": 1}, \"46\": {\"5\": 1, \"41\": 1, \"104\": 1, \"46\": 8, \"70\": 1}, \"72\": {\"72\": 18, \"107\": 3, \"40\": 3, \"89\": 2, \"127\": 2, \"101\": 1, \"9\": 1, \"114\": 2}, \"19\": {\"19\": 22, \"53\": 1, \"83\": 1, \"73\": 1, \"128\": 1, \"120\": 2}, \"100\": {\"49\": 1, \"100\": 9, \"42\": 1, \"50\": 2, \"90\": 1, \"124\": 1, \"101\": 1}, \"76\": {\"76\": 13, \"31\": 1, \"1\": 1, \"88\": 1}, \"106\": {\"106\": 127, \"127\": 1, \"101\": 1, \"12\": 2, \"110\": 1}, \"88\": {\"88\": 90, \"108\": 5, \"24\": 8, \"30\": 3, \"43\": 3, \"10\": 2, \"126\": 3, \"93\": 12, \"122\": 1, \"27\": 2, \"11\": 1}, \"15\": {\"15\": 75, \"0\": 4, \"94\": 9, \"110\": 9, \"27\": 1, \"93\": 1, \"7\": 1, \"8\": 1, \"36\": 2, \"70\": 1}, \"54\": {\"54\": 11, \"0\": 1, \"91\": 2, \"38\": 1, \"97\": 1}, \"13\": {\"13\": 14, \"102\": 2}, \"51\": {\"51\": 9, \"32\": 2, \"49\": 2, \"89\": 2, \"12\": 1}, \"24\": {\"24\": 67, \"88\": 10, \"108\": 8, \"93\": 2, \"8\": 1, \"97\": 1, \"87\": 1, \"126\": 1, \"122\": 1}, \"48\": {\"48\": 9, \"86\": 2, \"80\": 1}, \"85\": {\"85\": 31, \"5\": 1}, \"33\": {\"33\": 135, \"3\": 3, \"1\": 1, \"114\": 1}, \"71\": {\"71\": 66, \"18\": 1, \"127\": 13, \"101\": 15, \"40\": 2, \"12\": 8, \"117\": 1, \"82\": 1, \"3\": 1}, \"6\": {\"6\": 23, \"124\": 2, \"68\": 2, \"111\": 2, \"5\": 1, \"91\": 1, \"46\": 1}, \"83\": {\"83\": 14, \"45\": 1, \"31\": 1, \"73\": 3, \"2\": 2, \"74\": 1, \"91\": 1, \"50\": 1, \"85\": 1, \"128\": 1, \"107\": 1, \"1\": 1}, \"121\": {\"90\": 2, \"121\": 21, \"66\": 1, \"117\": 2, \"1\": 1, \"81\": 1, \"25\": 1, \"42\": 3}, \"31\": {\"31\": 7, \"101\": 1, \"106\": 2, \"71\": 1, \"122\": 1, \"74\": 2, \"127\": 1, \"1\": 1}, \"67\": {\"109\": 1, \"67\": 11, \"42\": 1, \"64\": 3}, \"1\": {\"1\": 123, \"9\": 2, \"33\": 1, \"101\": 2, \"40\": 5, \"14\": 1, \"78\": 1, \"34\": 1}, \"27\": {\"87\": 3, \"27\": 68, \"70\": 1, \"15\": 3, \"8\": 2, \"108\": 1, \"122\": 3, \"88\": 2, \"110\": 2, \"24\": 1, \"30\": 1, \"43\": 1, \"36\": 1, \"94\": 1, \"93\": 1, \"12\": 1}, \"118\": {\"118\": 67, \"39\": 2, \"109\": 1, \"126\": 5, \"11\": 1, \"122\": 3, \"26\": 1, \"70\": 1, \"96\": 1, \"88\": 1, \"43\": 1}, \"56\": {\"56\": 7, \"51\": 1, \"32\": 4}, \"36\": {\"36\": 97, \"110\": 17, \"94\": 8, \"0\": 3, \"70\": 1, \"15\": 2}, \"11\": {\"11\": 80, \"126\": 24, \"108\": 2, \"43\": 9, \"122\": 3, \"107\": 1, \"88\": 1, \"87\": 1, \"8\": 1, \"70\": 1, \"109\": 1, \"93\": 1, \"39\": 1}, \"110\": {\"110\": 107, \"15\": 5, \"0\": 1, \"10\": 1, \"8\": 4, \"36\": 3, \"78\": 1}, \"89\": {\"53\": 1, \"89\": 26, \"98\": 3, \"47\": 1, \"51\": 1, \"107\": 1, \"29\": 2, \"72\": 1}, \"113\": {\"26\": 7, \"113\": 82, \"108\": 1, \"11\": 4, \"122\": 4, \"18\": 2, \"118\": 1, \"8\": 1, \"69\": 4, \"110\": 1, \"16\": 3, \"43\": 1, \"126\": 3, \"33\": 1, \"87\": 1, \"10\": 1, \"39\": 1}, \"59\": {\"59\": 10, \"17\": 2}, \"9\": {\"9\": 25, \"70\": 1, \"31\": 1, \"38\": 1, \"107\": 1, \"101\": 1, \"40\": 2}, \"86\": {\"46\": 1, \"86\": 20, \"115\": 2, \"124\": 3, \"111\": 1, \"5\": 1, \"129\": 1, \"104\": 1, \"22\": 2, \"77\": 1, \"29\": 1, \"42\": 1, \"2\": 1}, \"12\": {\"12\": 72, \"71\": 3, \"101\": 10, \"70\": 1, \"106\": 12, \"127\": 2, \"109\": 2, \"39\": 1, \"105\": 1}, \"122\": {\"126\": 4, \"87\": 3, \"122\": 59, \"8\": 3, \"39\": 1, \"43\": 12, \"10\": 1, \"88\": 1, \"24\": 2, \"70\": 2}, \"128\": {\"38\": 1, \"98\": 4, \"128\": 10, \"19\": 3, \"120\": 2, \"82\": 1, \"50\": 1, \"83\": 2}, \"95\": {\"95\": 29, \"90\": 1, \"24\": 1, \"98\": 1, \"33\": 3, \"1\": 1}}}, \"per_domain_accuracy\": {\"ORACLE.run114\": {\"accuracy\": 0.9244791666666666, \"source?\": true}, \"ORACLE.run120\": {\"accuracy\": 0.9739583333333334, \"source?\": true}, \"ORACLE.run150\": {\"accuracy\": 0.9526041666666667, \"source?\": true}, \"ORACLE.run126\": {\"accuracy\": 0.89609375, \"source?\": true}, \"ORACLE.run132\": {\"accuracy\": 0.94296875, \"source?\": true}, \"ORACLE.run144\": {\"accuracy\": 0.8747395833333333, \"source?\": true}, \"ORACLE.run18\": {\"accuracy\": 0.95078125, \"source?\": true}, \"ORACLE.run138\": {\"accuracy\": 0.9377604166666667, \"source?\": true}, \"Wisig_3\": {\"accuracy\": 0.798717248908297, \"source?\": false}, \"Wisig_4\": {\"accuracy\": 0.7377324380165289, \"source?\": false}, \"Wisig_2\": {\"accuracy\": 0.7503955696202531, \"source?\": false}, \"Wisig_1\": {\"accuracy\": 0.7846638655462185, \"source?\": false}}}, \"history\": {\"epoch_indices\": [1, 2, 3, 4, 5, 6, 7, 8], \"train_label_loss\": [0.4007534895627205, 0.5206617149845919, 0.22126071201173111, 0.1895921271919395, 0.16867544784202307, 0.15536688948916327, 0.1611683987500891, 0.14756209100210288], \"source_val_label_loss\": [15.85476016998291, 0.2667810618877411, 0.18999014794826508, 0.19530919194221497, 0.16229264438152313, 0.16939739882946014, 0.15251004695892334, 0.14534077048301697], \"target_val_label_loss\": [4972.35546875, 2906.271484375, 3464.815673828125, 3361.36328125, 5249.5625, 5356.82958984375, 3413.53125, 4070.18994140625], \"source_val_acc_label\": [0.6995442708333334, 0.90595703125, 0.9348307291666667, 0.9316731770833333, 0.94189453125, 0.9393880208333333, 0.94609375, 0.9482096354166667], \"target_val_acc_label\": [0.7366543340380549, 0.7638081395348837, 0.7665829809725159, 0.7674748942917548, 0.7481501057082452, 0.7507928118393234, 0.7578290169133193, 0.7602735200845666]}, \"dataset_metrics\": {\"source\": {\"train\": {\"n_unique_x\": 179200, \"n_unique_y\": 16, \"n_batch/episode\": 6720}, \"val\": {\"n_unique_x\": 38400, \"n_unique_y\": 16, \"n_batch/episode\": 960}, \"test\": {\"n_unique_x\": 38400, \"n_unique_y\": 16, \"n_batch/episode\": 960}}, \"target\": {\"train\": {\"n_unique_x\": 189051, \"n_unique_y\": 130, \"n_batch/episode\": 6861}, \"val\": {\"n_unique_x\": 40049, \"n_unique_y\": 130, \"n_batch/episode\": 946}, \"test\": {\"n_unique_x\": 40794, \"n_unique_y\": 130, \"n_batch/episode\": 966}}}}'"
      ]
     },
     "execution_count": 29,
     "metadata": {},
     "output_type": "execute_result"
    }
   ],
   "source": [
    "json.dumps(experiment)"
   ]
  }
 ],
 "metadata": {
  "celltoolbar": "Tags",
  "kernelspec": {
   "display_name": "Python 3 (ipykernel)",
   "language": "python",
   "name": "python3"
  },
  "language_info": {
   "codemirror_mode": {
    "name": "ipython",
    "version": 3
   },
   "file_extension": ".py",
   "mimetype": "text/x-python",
   "name": "python",
   "nbconvert_exporter": "python",
   "pygments_lexer": "ipython3",
   "version": "3.8.12"
  },
  "papermill": {
   "default_parameters": {},
   "duration": 2376.615095,
   "end_time": "2022-03-21T10:29:36.616192",
   "environment_variables": {},
   "exception": null,
   "input_path": "/root/csc500-main/csc500-notebooks/templates/tl_ptn_template.ipynb",
   "output_path": "trial.ipynb",
   "parameters": {
    "parameters": {
     "BEST_MODEL_PATH": "./best_model.pth",
     "NUM_LOGS_PER_EPOCH": 10,
     "criteria_for_best": "target_accuracy",
     "dataset_seed": 420,
     "datasets": [
      {
       "domain_prefix": "Wisig_",
       "domains": [
        1,
        2,
        3,
        4
       ],
       "episode_transforms": [],
       "labels": [
        "1-10",
        "1-12",
        "1-14",
        "1-16",
        "1-18",
        "1-19",
        "1-8",
        "10-11",
        "10-17",
        "10-4",
        "10-7",
        "11-1",
        "11-10",
        "11-19",
        "11-20",
        "11-4",
        "11-7",
        "12-19",
        "12-20",
        "12-7",
        "13-14",
        "13-18",
        "13-19",
        "13-20",
        "13-3",
        "13-7",
        "14-10",
        "14-11",
        "14-12",
        "14-13",
        "14-14",
        "14-19",
        "14-20",
        "14-7",
        "14-8",
        "14-9",
        "15-1",
        "15-19",
        "15-6",
        "16-1",
        "16-16",
        "16-19",
        "16-20",
        "17-10",
        "17-11",
        "18-1",
        "18-10",
        "18-11",
        "18-12",
        "18-13",
        "18-14",
        "18-15",
        "18-16",
        "18-17",
        "18-19",
        "18-2",
        "18-20",
        "18-4",
        "18-5",
        "18-7",
        "18-8",
        "18-9",
        "19-1",
        "19-10",
        "19-11",
        "19-12",
        "19-13",
        "19-14",
        "19-15",
        "19-19",
        "19-2",
        "19-20",
        "19-3",
        "19-4",
        "19-6",
        "19-7",
        "19-8",
        "19-9",
        "2-1",
        "2-13",
        "2-15",
        "2-3",
        "2-4",
        "2-5",
        "2-6",
        "2-7",
        "2-8",
        "20-1",
        "20-12",
        "20-14",
        "20-15",
        "20-16",
        "20-18",
        "20-19",
        "20-20",
        "20-3",
        "20-4",
        "20-5",
        "20-7",
        "20-8",
        "3-1",
        "3-13",
        "3-18",
        "3-2",
        "3-8",
        "4-1",
        "4-10",
        "4-11",
        "5-1",
        "5-5",
        "6-1",
        "6-15",
        "6-6",
        "7-10",
        "7-11",
        "7-12",
        "7-13",
        "7-14",
        "7-7",
        "7-8",
        "7-9",
        "8-1",
        "8-13",
        "8-14",
        "8-18",
        "8-20",
        "8-3",
        "8-8",
        "9-1",
        "9-7"
       ],
       "num_examples_per_domain_per_label": -1,
       "pickle_path": "/root/csc500-main/datasets/wisig.node3-19.stratified_ds.2022A.pkl",
       "source_or_target_dataset": "target",
       "x_transforms": []
      },
      {
       "domain_prefix": "ORACLE.run1",
       "domains": [
        32,
        38,
        8,
        44,
        14,
        50,
        20,
        26
       ],
       "episode_transforms": [],
       "labels": [
        "3123D52",
        "3123D65",
        "3123D79",
        "3123D80",
        "3123D54",
        "3123D70",
        "3123D7B",
        "3123D89",
        "3123D58",
        "3123D76",
        "3123D7D",
        "3123EFE",
        "3123D64",
        "3123D78",
        "3123D7E",
        "3124E4A"
       ],
       "num_examples_per_domain_per_label": 2000,
       "pickle_path": "/root/csc500-main/datasets/oracle.Run1_framed_2000Examples_stratified_ds.2022A.pkl",
       "source_or_target_dataset": "source",
       "x_transforms": []
      }
     ],
     "device": "cuda",
     "experiment_name": "tl_1v2:wisig-oracle.run1.framed",
     "lr": 0.0001,
     "n_epoch": 50,
     "n_query": 2,
     "n_shot": 3,
     "n_way": 16,
     "patience": 3,
     "seed": 420,
     "test_k_factor": 2,
     "torch_default_dtype": "torch.float32",
     "train_k_factor": 3,
     "val_k_factor": 2,
     "x_net": [
      {
       "class": "nnReshape",
       "kargs": {
        "shape": [
         -1,
         1,
         2,
         256
        ]
       }
      },
      {
       "class": "Conv2d",
       "kargs": {
        "bias": false,
        "in_channels": 1,
        "kernel_size": [
         1,
         7
        ],
        "out_channels": 256,
        "padding": [
         0,
         3
        ]
       }
      },
      {
       "class": "ReLU",
       "kargs": {
        "inplace": true
       }
      },
      {
       "class": "BatchNorm2d",
       "kargs": {
        "num_features": 256
       }
      },
      {
       "class": "Conv2d",
       "kargs": {
        "bias": true,
        "in_channels": 256,
        "kernel_size": [
         2,
         7
        ],
        "out_channels": 80,
        "padding": [
         0,
         3
        ]
       }
      },
      {
       "class": "ReLU",
       "kargs": {
        "inplace": true
       }
      },
      {
       "class": "BatchNorm2d",
       "kargs": {
        "num_features": 80
       }
      },
      {
       "class": "Flatten",
       "kargs": {}
      },
      {
       "class": "Linear",
       "kargs": {
        "in_features": 20480,
        "out_features": 256
       }
      },
      {
       "class": "ReLU",
       "kargs": {
        "inplace": true
       }
      },
      {
       "class": "BatchNorm1d",
       "kargs": {
        "num_features": 256
       }
      },
      {
       "class": "Linear",
       "kargs": {
        "in_features": 256,
        "out_features": 256
       }
      }
     ]
    }
   },
   "start_time": "2022-03-21T09:50:00.001097",
   "version": "2.3.4"
  }
 },
 "nbformat": 4,
 "nbformat_minor": 5
}