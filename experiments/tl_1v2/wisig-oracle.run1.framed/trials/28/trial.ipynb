{
 "cells": [
  {
   "cell_type": "markdown",
   "id": "9fea5f46",
   "metadata": {
    "papermill": {
     "duration": 0.032821,
     "end_time": "2022-03-21T18:49:13.638293",
     "exception": false,
     "start_time": "2022-03-21T18:49:13.605472",
     "status": "completed"
    },
    "tags": []
   },
   "source": [
    "# Transfer Learning Template"
   ]
  },
  {
   "cell_type": "code",
   "execution_count": 1,
   "id": "0902182a",
   "metadata": {
    "execution": {
     "iopub.execute_input": "2022-03-21T18:49:13.701795Z",
     "iopub.status.busy": "2022-03-21T18:49:13.700912Z",
     "iopub.status.idle": "2022-03-21T18:49:15.530812Z",
     "shell.execute_reply": "2022-03-21T18:49:15.529974Z"
    },
    "papermill": {
     "duration": 1.869905,
     "end_time": "2022-03-21T18:49:15.531015",
     "exception": false,
     "start_time": "2022-03-21T18:49:13.661110",
     "status": "completed"
    },
    "tags": []
   },
   "outputs": [],
   "source": [
    "%load_ext autoreload\n",
    "%autoreload 2\n",
    "%matplotlib inline\n",
    "\n",
    "    \n",
    "import os, json, sys, time, random\n",
    "import numpy as np\n",
    "import torch\n",
    "from torch.optim import Adam\n",
    "from  easydict import EasyDict\n",
    "import matplotlib.pyplot as plt\n",
    "\n",
    "from steves_models.steves_ptn import Steves_Prototypical_Network\n",
    "\n",
    "from steves_utils.lazy_iterable_wrapper import Lazy_Iterable_Wrapper\n",
    "from steves_utils.iterable_aggregator import Iterable_Aggregator\n",
    "from steves_utils.ptn_train_eval_test_jig import  PTN_Train_Eval_Test_Jig\n",
    "from steves_utils.torch_sequential_builder import build_sequential\n",
    "from steves_utils.torch_utils import get_dataset_metrics, ptn_confusion_by_domain_over_dataloader\n",
    "from steves_utils.utils_v2 import (per_domain_accuracy_from_confusion, get_datasets_base_path)\n",
    "from steves_utils.PTN.utils import independent_accuracy_assesment\n",
    "\n",
    "from torch.utils.data import DataLoader\n",
    "\n",
    "from steves_utils.stratified_dataset.episodic_accessor import Episodic_Accessor_Factory\n",
    "\n",
    "from steves_utils.ptn_do_report import (\n",
    "    get_loss_curve,\n",
    "    get_results_table,\n",
    "    get_parameters_table,\n",
    "    get_domain_accuracies,\n",
    ")\n",
    "\n",
    "from steves_utils.transforms import get_chained_transform"
   ]
  },
  {
   "cell_type": "markdown",
   "id": "41c840b4",
   "metadata": {
    "papermill": {
     "duration": 0.018926,
     "end_time": "2022-03-21T18:49:15.574659",
     "exception": false,
     "start_time": "2022-03-21T18:49:15.555733",
     "status": "completed"
    },
    "tags": []
   },
   "source": [
    "# Allowed Parameters\n",
    "These are allowed parameters, not defaults\n",
    "Each of these values need to be present in the injected parameters (the notebook will raise an exception if they are not present)\n",
    "\n",
    "Papermill uses the cell tag \"parameters\" to inject the real parameters below this cell.\n",
    "Enable tags to see what I mean"
   ]
  },
  {
   "cell_type": "code",
   "execution_count": 2,
   "id": "fd44eb83",
   "metadata": {
    "execution": {
     "iopub.execute_input": "2022-03-21T18:49:15.618413Z",
     "iopub.status.busy": "2022-03-21T18:49:15.617837Z",
     "iopub.status.idle": "2022-03-21T18:49:15.639999Z",
     "shell.execute_reply": "2022-03-21T18:49:15.639172Z"
    },
    "papermill": {
     "duration": 0.046607,
     "end_time": "2022-03-21T18:49:15.640154",
     "exception": false,
     "start_time": "2022-03-21T18:49:15.593547",
     "status": "completed"
    },
    "tags": []
   },
   "outputs": [],
   "source": [
    "required_parameters = {\n",
    "    \"experiment_name\",\n",
    "    \"lr\",\n",
    "    \"device\",\n",
    "    \"seed\",\n",
    "    \"dataset_seed\",\n",
    "    \"n_shot\",\n",
    "    \"n_query\",\n",
    "    \"n_way\",\n",
    "    \"train_k_factor\",\n",
    "    \"val_k_factor\",\n",
    "    \"test_k_factor\",\n",
    "    \"n_epoch\",\n",
    "    \"patience\",\n",
    "    \"criteria_for_best\",\n",
    "    \"x_net\",\n",
    "    \"datasets\",\n",
    "    \"torch_default_dtype\",\n",
    "    \"NUM_LOGS_PER_EPOCH\",\n",
    "    \"BEST_MODEL_PATH\",\n",
    "    \"x_shape\",\n",
    "}"
   ]
  },
  {
   "cell_type": "code",
   "execution_count": 3,
   "id": "fa3f0049",
   "metadata": {
    "execution": {
     "iopub.execute_input": "2022-03-21T18:49:15.700743Z",
     "iopub.status.busy": "2022-03-21T18:49:15.689362Z",
     "iopub.status.idle": "2022-03-21T18:49:15.719867Z",
     "shell.execute_reply": "2022-03-21T18:49:15.719016Z"
    },
    "papermill": {
     "duration": 0.052334,
     "end_time": "2022-03-21T18:49:15.720048",
     "exception": false,
     "start_time": "2022-03-21T18:49:15.667714",
     "status": "completed"
    },
    "tags": [
     "parameters"
    ]
   },
   "outputs": [],
   "source": [
    "from steves_utils.CORES.utils import (\n",
    "    ALL_NODES,\n",
    "    ALL_NODES_MINIMUM_1000_EXAMPLES,\n",
    "    ALL_DAYS\n",
    ")\n",
    "\n",
    "from steves_utils.ORACLE.utils_v2 import (\n",
    "    ALL_DISTANCES_FEET_NARROWED,\n",
    "    ALL_RUNS,\n",
    "    ALL_SERIAL_NUMBERS,\n",
    ")\n",
    "\n",
    "standalone_parameters = {}\n",
    "standalone_parameters[\"experiment_name\"] = \"STANDALONE PTN\"\n",
    "standalone_parameters[\"lr\"] = 0.001\n",
    "standalone_parameters[\"device\"] = \"cuda\"\n",
    "\n",
    "standalone_parameters[\"seed\"] = 1337\n",
    "standalone_parameters[\"dataset_seed\"] = 1337\n",
    "\n",
    "standalone_parameters[\"n_way\"] = 8\n",
    "standalone_parameters[\"n_shot\"] = 3\n",
    "standalone_parameters[\"n_query\"]  = 2\n",
    "standalone_parameters[\"train_k_factor\"] = 1\n",
    "standalone_parameters[\"val_k_factor\"] = 2\n",
    "standalone_parameters[\"test_k_factor\"] = 2\n",
    "\n",
    "\n",
    "standalone_parameters[\"n_epoch\"] = 50\n",
    "\n",
    "standalone_parameters[\"patience\"] = 10\n",
    "standalone_parameters[\"criteria_for_best\"] = \"source_loss\"\n",
    "\n",
    "standalone_parameters[\"datasets\"] = [\n",
    "    {\n",
    "        \"labels\": ALL_SERIAL_NUMBERS,\n",
    "        \"domains\": ALL_DISTANCES_FEET_NARROWED,\n",
    "        \"num_examples_per_domain_per_label\": 100,\n",
    "        \"pickle_path\": os.path.join(get_datasets_base_path(), \"oracle.Run1_framed_2000Examples_stratified_ds.2022A.pkl\"),\n",
    "        \"source_or_target_dataset\": \"source\",\n",
    "        \"x_transforms\": [\"unit_mag\", \"minus_two\"],\n",
    "        \"episode_transforms\": [],\n",
    "        \"domain_prefix\": \"ORACLE_\"\n",
    "    },\n",
    "    {\n",
    "        \"labels\": ALL_NODES,\n",
    "        \"domains\": ALL_DAYS,\n",
    "        \"num_examples_per_domain_per_label\": 100,\n",
    "        \"pickle_path\": os.path.join(get_datasets_base_path(), \"cores.stratified_ds.2022A.pkl\"),\n",
    "        \"source_or_target_dataset\": \"target\",\n",
    "        \"x_transforms\": [\"unit_power\", \"times_zero\"],\n",
    "        \"episode_transforms\": [],\n",
    "        \"domain_prefix\": \"CORES_\"\n",
    "    }   \n",
    "]\n",
    "\n",
    "standalone_parameters[\"torch_default_dtype\"] = \"torch.float32\" \n",
    "\n",
    "\n",
    "\n",
    "standalone_parameters[\"x_net\"] =     [\n",
    "    {\"class\": \"nnReshape\", \"kargs\": {\"shape\":[-1, 1, 2, 256]}},\n",
    "    {\"class\": \"Conv2d\", \"kargs\": { \"in_channels\":1, \"out_channels\":256, \"kernel_size\":(1,7), \"bias\":False, \"padding\":(0,3), },},\n",
    "    {\"class\": \"ReLU\", \"kargs\": {\"inplace\": True}},\n",
    "    {\"class\": \"BatchNorm2d\", \"kargs\": {\"num_features\":256}},\n",
    "\n",
    "    {\"class\": \"Conv2d\", \"kargs\": { \"in_channels\":256, \"out_channels\":80, \"kernel_size\":(2,7), \"bias\":True, \"padding\":(0,3), },},\n",
    "    {\"class\": \"ReLU\", \"kargs\": {\"inplace\": True}},\n",
    "    {\"class\": \"BatchNorm2d\", \"kargs\": {\"num_features\":80}},\n",
    "    {\"class\": \"Flatten\", \"kargs\": {}},\n",
    "\n",
    "    {\"class\": \"Linear\", \"kargs\": {\"in_features\": 80*256, \"out_features\": 256}}, # 80 units per IQ pair\n",
    "    {\"class\": \"ReLU\", \"kargs\": {\"inplace\": True}},\n",
    "    {\"class\": \"BatchNorm1d\", \"kargs\": {\"num_features\":256}},\n",
    "\n",
    "    {\"class\": \"Linear\", \"kargs\": {\"in_features\": 256, \"out_features\": 256}},\n",
    "]\n",
    "\n",
    "# Parameters relevant to results\n",
    "# These parameters will basically never need to change\n",
    "standalone_parameters[\"NUM_LOGS_PER_EPOCH\"] = 10\n",
    "standalone_parameters[\"BEST_MODEL_PATH\"] = \"./best_model.pth\"\n",
    "\n",
    "\n",
    "\n",
    "\n"
   ]
  },
  {
   "cell_type": "code",
   "execution_count": 4,
   "id": "08024851",
   "metadata": {
    "execution": {
     "iopub.execute_input": "2022-03-21T18:49:15.781832Z",
     "iopub.status.busy": "2022-03-21T18:49:15.767151Z",
     "iopub.status.idle": "2022-03-21T18:49:15.800936Z",
     "shell.execute_reply": "2022-03-21T18:49:15.800130Z"
    },
    "papermill": {
     "duration": 0.055224,
     "end_time": "2022-03-21T18:49:15.801090",
     "exception": false,
     "start_time": "2022-03-21T18:49:15.745866",
     "status": "completed"
    },
    "tags": [
     "injected-parameters"
    ]
   },
   "outputs": [],
   "source": [
    "# Parameters\n",
    "parameters = {\n",
    "    \"experiment_name\": \"tl_1v2:wisig-oracle.run1.framed\",\n",
    "    \"device\": \"cuda\",\n",
    "    \"lr\": 0.0001,\n",
    "    \"n_shot\": 3,\n",
    "    \"n_query\": 2,\n",
    "    \"train_k_factor\": 3,\n",
    "    \"val_k_factor\": 2,\n",
    "    \"test_k_factor\": 2,\n",
    "    \"torch_default_dtype\": \"torch.float32\",\n",
    "    \"n_epoch\": 50,\n",
    "    \"patience\": 3,\n",
    "    \"criteria_for_best\": \"target_accuracy\",\n",
    "    \"x_net\": [\n",
    "        {\"class\": \"nnReshape\", \"kargs\": {\"shape\": [-1, 1, 2, 256]}},\n",
    "        {\n",
    "            \"class\": \"Conv2d\",\n",
    "            \"kargs\": {\n",
    "                \"in_channels\": 1,\n",
    "                \"out_channels\": 256,\n",
    "                \"kernel_size\": [1, 7],\n",
    "                \"bias\": False,\n",
    "                \"padding\": [0, 3],\n",
    "            },\n",
    "        },\n",
    "        {\"class\": \"ReLU\", \"kargs\": {\"inplace\": True}},\n",
    "        {\"class\": \"BatchNorm2d\", \"kargs\": {\"num_features\": 256}},\n",
    "        {\n",
    "            \"class\": \"Conv2d\",\n",
    "            \"kargs\": {\n",
    "                \"in_channels\": 256,\n",
    "                \"out_channels\": 80,\n",
    "                \"kernel_size\": [2, 7],\n",
    "                \"bias\": True,\n",
    "                \"padding\": [0, 3],\n",
    "            },\n",
    "        },\n",
    "        {\"class\": \"ReLU\", \"kargs\": {\"inplace\": True}},\n",
    "        {\"class\": \"BatchNorm2d\", \"kargs\": {\"num_features\": 80}},\n",
    "        {\"class\": \"Flatten\", \"kargs\": {}},\n",
    "        {\"class\": \"Linear\", \"kargs\": {\"in_features\": 20480, \"out_features\": 256}},\n",
    "        {\"class\": \"ReLU\", \"kargs\": {\"inplace\": True}},\n",
    "        {\"class\": \"BatchNorm1d\", \"kargs\": {\"num_features\": 256}},\n",
    "        {\"class\": \"Linear\", \"kargs\": {\"in_features\": 256, \"out_features\": 256}},\n",
    "    ],\n",
    "    \"NUM_LOGS_PER_EPOCH\": 10,\n",
    "    \"BEST_MODEL_PATH\": \"./best_model.pth\",\n",
    "    \"n_way\": 16,\n",
    "    \"datasets\": [\n",
    "        {\n",
    "            \"labels\": [\n",
    "                \"1-10\",\n",
    "                \"1-12\",\n",
    "                \"1-14\",\n",
    "                \"1-16\",\n",
    "                \"1-18\",\n",
    "                \"1-19\",\n",
    "                \"1-8\",\n",
    "                \"10-11\",\n",
    "                \"10-17\",\n",
    "                \"10-4\",\n",
    "                \"10-7\",\n",
    "                \"11-1\",\n",
    "                \"11-10\",\n",
    "                \"11-19\",\n",
    "                \"11-20\",\n",
    "                \"11-4\",\n",
    "                \"11-7\",\n",
    "                \"12-19\",\n",
    "                \"12-20\",\n",
    "                \"12-7\",\n",
    "                \"13-14\",\n",
    "                \"13-18\",\n",
    "                \"13-19\",\n",
    "                \"13-20\",\n",
    "                \"13-3\",\n",
    "                \"13-7\",\n",
    "                \"14-10\",\n",
    "                \"14-11\",\n",
    "                \"14-12\",\n",
    "                \"14-13\",\n",
    "                \"14-14\",\n",
    "                \"14-19\",\n",
    "                \"14-20\",\n",
    "                \"14-7\",\n",
    "                \"14-8\",\n",
    "                \"14-9\",\n",
    "                \"15-1\",\n",
    "                \"15-19\",\n",
    "                \"15-6\",\n",
    "                \"16-1\",\n",
    "                \"16-16\",\n",
    "                \"16-19\",\n",
    "                \"16-20\",\n",
    "                \"17-10\",\n",
    "                \"17-11\",\n",
    "                \"18-1\",\n",
    "                \"18-10\",\n",
    "                \"18-11\",\n",
    "                \"18-12\",\n",
    "                \"18-13\",\n",
    "                \"18-14\",\n",
    "                \"18-15\",\n",
    "                \"18-16\",\n",
    "                \"18-17\",\n",
    "                \"18-19\",\n",
    "                \"18-2\",\n",
    "                \"18-20\",\n",
    "                \"18-4\",\n",
    "                \"18-5\",\n",
    "                \"18-7\",\n",
    "                \"18-8\",\n",
    "                \"18-9\",\n",
    "                \"19-1\",\n",
    "                \"19-10\",\n",
    "                \"19-11\",\n",
    "                \"19-12\",\n",
    "                \"19-13\",\n",
    "                \"19-14\",\n",
    "                \"19-15\",\n",
    "                \"19-19\",\n",
    "                \"19-2\",\n",
    "                \"19-20\",\n",
    "                \"19-3\",\n",
    "                \"19-4\",\n",
    "                \"19-6\",\n",
    "                \"19-7\",\n",
    "                \"19-8\",\n",
    "                \"19-9\",\n",
    "                \"2-1\",\n",
    "                \"2-13\",\n",
    "                \"2-15\",\n",
    "                \"2-3\",\n",
    "                \"2-4\",\n",
    "                \"2-5\",\n",
    "                \"2-6\",\n",
    "                \"2-7\",\n",
    "                \"2-8\",\n",
    "                \"20-1\",\n",
    "                \"20-12\",\n",
    "                \"20-14\",\n",
    "                \"20-15\",\n",
    "                \"20-16\",\n",
    "                \"20-18\",\n",
    "                \"20-19\",\n",
    "                \"20-20\",\n",
    "                \"20-3\",\n",
    "                \"20-4\",\n",
    "                \"20-5\",\n",
    "                \"20-7\",\n",
    "                \"20-8\",\n",
    "                \"3-1\",\n",
    "                \"3-13\",\n",
    "                \"3-18\",\n",
    "                \"3-2\",\n",
    "                \"3-8\",\n",
    "                \"4-1\",\n",
    "                \"4-10\",\n",
    "                \"4-11\",\n",
    "                \"5-1\",\n",
    "                \"5-5\",\n",
    "                \"6-1\",\n",
    "                \"6-15\",\n",
    "                \"6-6\",\n",
    "                \"7-10\",\n",
    "                \"7-11\",\n",
    "                \"7-12\",\n",
    "                \"7-13\",\n",
    "                \"7-14\",\n",
    "                \"7-7\",\n",
    "                \"7-8\",\n",
    "                \"7-9\",\n",
    "                \"8-1\",\n",
    "                \"8-13\",\n",
    "                \"8-14\",\n",
    "                \"8-18\",\n",
    "                \"8-20\",\n",
    "                \"8-3\",\n",
    "                \"8-8\",\n",
    "                \"9-1\",\n",
    "                \"9-7\",\n",
    "            ],\n",
    "            \"domains\": [1, 2, 3, 4],\n",
    "            \"num_examples_per_domain_per_label\": -1,\n",
    "            \"pickle_path\": \"/root/csc500-main/datasets/wisig.node3-19.stratified_ds.2022A.pkl\",\n",
    "            \"source_or_target_dataset\": \"target\",\n",
    "            \"x_transforms\": [\"unit_mag\"],\n",
    "            \"episode_transforms\": [],\n",
    "            \"domain_prefix\": \"Wisig_\",\n",
    "        },\n",
    "        {\n",
    "            \"labels\": [\n",
    "                \"3123D52\",\n",
    "                \"3123D65\",\n",
    "                \"3123D79\",\n",
    "                \"3123D80\",\n",
    "                \"3123D54\",\n",
    "                \"3123D70\",\n",
    "                \"3123D7B\",\n",
    "                \"3123D89\",\n",
    "                \"3123D58\",\n",
    "                \"3123D76\",\n",
    "                \"3123D7D\",\n",
    "                \"3123EFE\",\n",
    "                \"3123D64\",\n",
    "                \"3123D78\",\n",
    "                \"3123D7E\",\n",
    "                \"3124E4A\",\n",
    "            ],\n",
    "            \"domains\": [32, 38, 8, 44, 14, 50, 20, 26],\n",
    "            \"num_examples_per_domain_per_label\": 2000,\n",
    "            \"pickle_path\": \"/root/csc500-main/datasets/oracle.Run1_framed_2000Examples_stratified_ds.2022A.pkl\",\n",
    "            \"source_or_target_dataset\": \"source\",\n",
    "            \"x_transforms\": [\"unit_mag\"],\n",
    "            \"episode_transforms\": [],\n",
    "            \"domain_prefix\": \"ORACLE.run1\",\n",
    "        },\n",
    "    ],\n",
    "    \"dataset_seed\": 500,\n",
    "    \"seed\": 500,\n",
    "}\n"
   ]
  },
  {
   "cell_type": "code",
   "execution_count": 5,
   "id": "8fa1cc33",
   "metadata": {
    "execution": {
     "iopub.execute_input": "2022-03-21T18:49:15.855358Z",
     "iopub.status.busy": "2022-03-21T18:49:15.854793Z",
     "iopub.status.idle": "2022-03-21T18:49:15.874593Z",
     "shell.execute_reply": "2022-03-21T18:49:15.875226Z"
    },
    "papermill": {
     "duration": 0.046776,
     "end_time": "2022-03-21T18:49:15.875407",
     "exception": false,
     "start_time": "2022-03-21T18:49:15.828631",
     "status": "completed"
    },
    "tags": []
   },
   "outputs": [],
   "source": [
    "# Set this to True if you want to run this template directly\n",
    "STANDALONE = False\n",
    "if STANDALONE:\n",
    "    print(\"parameters not injected, running with standalone_parameters\")\n",
    "    parameters = standalone_parameters\n",
    "\n",
    "if not 'parameters' in locals() and not 'parameters' in globals():\n",
    "    raise Exception(\"Parameter injection failed\")\n",
    "\n",
    "#Use an easy dict for all the parameters\n",
    "p = EasyDict(parameters)\n",
    "\n",
    "if \"x_shape\" not in p:\n",
    "    p.x_shape = [2,256] # Default to this if we dont supply x_shape\n",
    "\n",
    "\n",
    "supplied_keys = set(p.keys())\n",
    "\n",
    "if  supplied_keys != required_parameters:\n",
    "    print(\"Parameters are incorrect\")\n",
    "    if len(supplied_keys - required_parameters)>0: print(\"Shouldn't have:\", str(supplied_keys - required_parameters))\n",
    "    if len(required_parameters - supplied_keys)>0: print(\"Need to have:\", str(required_parameters - supplied_keys))\n",
    "    raise RuntimeError(\"Parameters are incorrect\")"
   ]
  },
  {
   "cell_type": "code",
   "execution_count": 6,
   "id": "3a028d58",
   "metadata": {
    "execution": {
     "iopub.execute_input": "2022-03-21T18:49:15.923211Z",
     "iopub.status.busy": "2022-03-21T18:49:15.922569Z",
     "iopub.status.idle": "2022-03-21T18:49:15.943147Z",
     "shell.execute_reply": "2022-03-21T18:49:15.942441Z"
    },
    "papermill": {
     "duration": 0.043921,
     "end_time": "2022-03-21T18:49:15.943299",
     "exception": false,
     "start_time": "2022-03-21T18:49:15.899378",
     "status": "completed"
    },
    "tags": []
   },
   "outputs": [],
   "source": [
    "###################################\n",
    "# Set the RNGs and make it all deterministic\n",
    "###################################\n",
    "np.random.seed(p.seed)\n",
    "random.seed(p.seed)\n",
    "torch.manual_seed(p.seed)\n",
    "\n",
    "torch.use_deterministic_algorithms(True) "
   ]
  },
  {
   "cell_type": "code",
   "execution_count": 7,
   "id": "b691acf6",
   "metadata": {
    "execution": {
     "iopub.execute_input": "2022-03-21T18:49:15.993648Z",
     "iopub.status.busy": "2022-03-21T18:49:15.992939Z",
     "iopub.status.idle": "2022-03-21T18:49:16.013556Z",
     "shell.execute_reply": "2022-03-21T18:49:16.012754Z"
    },
    "papermill": {
     "duration": 0.044122,
     "end_time": "2022-03-21T18:49:16.013710",
     "exception": false,
     "start_time": "2022-03-21T18:49:15.969588",
     "status": "completed"
    },
    "tags": []
   },
   "outputs": [],
   "source": [
    "###########################################\n",
    "# The stratified datasets honor this\n",
    "###########################################\n",
    "torch.set_default_dtype(eval(p.torch_default_dtype))"
   ]
  },
  {
   "cell_type": "code",
   "execution_count": 8,
   "id": "b5fba671",
   "metadata": {
    "execution": {
     "iopub.execute_input": "2022-03-21T18:49:16.063606Z",
     "iopub.status.busy": "2022-03-21T18:49:16.062753Z",
     "iopub.status.idle": "2022-03-21T18:49:16.116563Z",
     "shell.execute_reply": "2022-03-21T18:49:16.115855Z"
    },
    "papermill": {
     "duration": 0.077767,
     "end_time": "2022-03-21T18:49:16.116715",
     "exception": false,
     "start_time": "2022-03-21T18:49:16.038948",
     "status": "completed"
    },
    "tags": []
   },
   "outputs": [],
   "source": [
    "###################################\n",
    "# Build the network(s)\n",
    "# Note: It's critical to do this AFTER setting the RNG\n",
    "###################################\n",
    "x_net = build_sequential(p.x_net)"
   ]
  },
  {
   "cell_type": "code",
   "execution_count": 9,
   "id": "5d7e61cc",
   "metadata": {
    "execution": {
     "iopub.execute_input": "2022-03-21T18:49:16.167018Z",
     "iopub.status.busy": "2022-03-21T18:49:16.166469Z",
     "iopub.status.idle": "2022-03-21T18:49:16.192012Z",
     "shell.execute_reply": "2022-03-21T18:49:16.191175Z"
    },
    "papermill": {
     "duration": 0.049714,
     "end_time": "2022-03-21T18:49:16.192168",
     "exception": false,
     "start_time": "2022-03-21T18:49:16.142454",
     "status": "completed"
    },
    "tags": []
   },
   "outputs": [],
   "source": [
    "start_time_secs = time.time()"
   ]
  },
  {
   "cell_type": "code",
   "execution_count": 10,
   "id": "c6b67dfd",
   "metadata": {
    "execution": {
     "iopub.execute_input": "2022-03-21T18:49:16.242325Z",
     "iopub.status.busy": "2022-03-21T18:49:16.241643Z",
     "iopub.status.idle": "2022-03-21T18:49:16.264100Z",
     "shell.execute_reply": "2022-03-21T18:49:16.263260Z"
    },
    "papermill": {
     "duration": 0.045867,
     "end_time": "2022-03-21T18:49:16.264255",
     "exception": false,
     "start_time": "2022-03-21T18:49:16.218388",
     "status": "completed"
    },
    "tags": []
   },
   "outputs": [],
   "source": [
    "p.domains_source = []\n",
    "p.domains_target = []\n",
    "\n",
    "\n",
    "train_original_source = []\n",
    "val_original_source   = []\n",
    "test_original_source  = []\n",
    "\n",
    "train_original_target = []\n",
    "val_original_target   = []\n",
    "test_original_target  = []"
   ]
  },
  {
   "cell_type": "code",
   "execution_count": 11,
   "id": "e3d9c3d3",
   "metadata": {
    "execution": {
     "iopub.execute_input": "2022-03-21T18:49:16.313631Z",
     "iopub.status.busy": "2022-03-21T18:49:16.313266Z",
     "iopub.status.idle": "2022-03-21T18:49:16.329926Z",
     "shell.execute_reply": "2022-03-21T18:49:16.329214Z"
    },
    "papermill": {
     "duration": 0.03934,
     "end_time": "2022-03-21T18:49:16.330079",
     "exception": false,
     "start_time": "2022-03-21T18:49:16.290739",
     "status": "completed"
    },
    "tags": []
   },
   "outputs": [],
   "source": [
    "# global_x_transform_func = lambda x: normalize(x.to(torch.get_default_dtype()), \"unit_power\") # unit_power, unit_mag\n",
    "# global_x_transform_func = lambda x: normalize(x, \"unit_power\") # unit_power, unit_mag"
   ]
  },
  {
   "cell_type": "code",
   "execution_count": 12,
   "id": "acb78fd2",
   "metadata": {
    "execution": {
     "iopub.execute_input": "2022-03-21T18:49:16.389412Z",
     "iopub.status.busy": "2022-03-21T18:49:16.388570Z",
     "iopub.status.idle": "2022-03-21T18:49:16.406260Z",
     "shell.execute_reply": "2022-03-21T18:49:16.405458Z"
    },
    "papermill": {
     "duration": 0.050957,
     "end_time": "2022-03-21T18:49:16.406415",
     "exception": false,
     "start_time": "2022-03-21T18:49:16.355458",
     "status": "completed"
    },
    "tags": []
   },
   "outputs": [],
   "source": [
    "def add_dataset(\n",
    "    labels,\n",
    "    domains,\n",
    "    pickle_path,\n",
    "    x_transforms,\n",
    "    episode_transforms,\n",
    "    domain_prefix,\n",
    "    num_examples_per_domain_per_label,\n",
    "    source_or_target_dataset:str,\n",
    "    iterator_seed=p.seed,\n",
    "    dataset_seed=p.dataset_seed,\n",
    "    n_shot=p.n_shot,\n",
    "    n_way=p.n_way,\n",
    "    n_query=p.n_query,\n",
    "    train_val_test_k_factors=(p.train_k_factor,p.val_k_factor,p.test_k_factor),\n",
    "):\n",
    "   \n",
    "    if x_transforms == []: x_transform = None\n",
    "    else: x_transform = get_chained_transform(x_transforms)\n",
    "    \n",
    "    if episode_transforms == []: episode_transform = None\n",
    "    else: raise Exception(\"episode_transforms not implemented\")\n",
    "    \n",
    "    episode_transform = lambda tup, _prefix=domain_prefix: (_prefix + str(tup[0]), tup[1])\n",
    "\n",
    "\n",
    "    eaf = Episodic_Accessor_Factory(\n",
    "        labels=labels,\n",
    "        domains=domains,\n",
    "        num_examples_per_domain_per_label=num_examples_per_domain_per_label,\n",
    "        iterator_seed=iterator_seed,\n",
    "        dataset_seed=dataset_seed,\n",
    "        n_shot=n_shot,\n",
    "        n_way=n_way,\n",
    "        n_query=n_query,\n",
    "        train_val_test_k_factors=train_val_test_k_factors,\n",
    "        pickle_path=pickle_path,\n",
    "        x_transform_func=x_transform,\n",
    "    )\n",
    "\n",
    "    train, val, test = eaf.get_train(), eaf.get_val(), eaf.get_test()\n",
    "    train = Lazy_Iterable_Wrapper(train, episode_transform)\n",
    "    val = Lazy_Iterable_Wrapper(val, episode_transform)\n",
    "    test = Lazy_Iterable_Wrapper(test, episode_transform)\n",
    "\n",
    "    if source_or_target_dataset==\"source\":\n",
    "        train_original_source.append(train)\n",
    "        val_original_source.append(val)\n",
    "        test_original_source.append(test)\n",
    "\n",
    "        p.domains_source.extend(\n",
    "            [domain_prefix + str(u) for u in domains]\n",
    "        )\n",
    "    elif source_or_target_dataset==\"target\":\n",
    "        train_original_target.append(train)\n",
    "        val_original_target.append(val)\n",
    "        test_original_target.append(test)\n",
    "        p.domains_target.extend(\n",
    "            [domain_prefix + str(u) for u in domains]\n",
    "        )\n",
    "    else:\n",
    "        raise Exception(f\"invalid source_or_target_dataset: {source_or_target_dataset}\")\n",
    "    "
   ]
  },
  {
   "cell_type": "code",
   "execution_count": 13,
   "id": "fe266617",
   "metadata": {
    "execution": {
     "iopub.execute_input": "2022-03-21T18:49:16.454578Z",
     "iopub.status.busy": "2022-03-21T18:49:16.454213Z",
     "iopub.status.idle": "2022-03-21T18:49:59.505282Z",
     "shell.execute_reply": "2022-03-21T18:49:59.504469Z"
    },
    "papermill": {
     "duration": 43.073752,
     "end_time": "2022-03-21T18:49:59.505667",
     "exception": false,
     "start_time": "2022-03-21T18:49:16.431915",
     "status": "completed"
    },
    "tags": []
   },
   "outputs": [],
   "source": [
    "for ds in p.datasets:\n",
    "    add_dataset(**ds)"
   ]
  },
  {
   "cell_type": "code",
   "execution_count": 14,
   "id": "b90d65ac",
   "metadata": {
    "execution": {
     "iopub.execute_input": "2022-03-21T18:49:59.555902Z",
     "iopub.status.busy": "2022-03-21T18:49:59.555507Z",
     "iopub.status.idle": "2022-03-21T18:49:59.578340Z",
     "shell.execute_reply": "2022-03-21T18:49:59.577523Z"
    },
    "papermill": {
     "duration": 0.046533,
     "end_time": "2022-03-21T18:49:59.578512",
     "exception": false,
     "start_time": "2022-03-21T18:49:59.531979",
     "status": "completed"
    },
    "tags": []
   },
   "outputs": [],
   "source": [
    "# from steves_utils.CORES.utils import (\n",
    "#     ALL_NODES,\n",
    "#     ALL_NODES_MINIMUM_1000_EXAMPLES,\n",
    "#     ALL_DAYS\n",
    "# )\n",
    "\n",
    "# add_dataset(\n",
    "#     labels=ALL_NODES,\n",
    "#     domains = ALL_DAYS,\n",
    "#     num_examples_per_domain_per_label=100,\n",
    "#     pickle_path=os.path.join(get_datasets_base_path(), \"cores.stratified_ds.2022A.pkl\"),\n",
    "#     source_or_target_dataset=\"target\",\n",
    "#     x_transform_func=global_x_transform_func,\n",
    "#     domain_modifier=lambda u: f\"cores_{u}\"\n",
    "# )"
   ]
  },
  {
   "cell_type": "code",
   "execution_count": 15,
   "id": "76db484d",
   "metadata": {
    "execution": {
     "iopub.execute_input": "2022-03-21T18:49:59.631125Z",
     "iopub.status.busy": "2022-03-21T18:49:59.628785Z",
     "iopub.status.idle": "2022-03-21T18:49:59.648603Z",
     "shell.execute_reply": "2022-03-21T18:49:59.647753Z"
    },
    "papermill": {
     "duration": 0.043435,
     "end_time": "2022-03-21T18:49:59.648770",
     "exception": false,
     "start_time": "2022-03-21T18:49:59.605335",
     "status": "completed"
    },
    "tags": []
   },
   "outputs": [],
   "source": [
    "# from steves_utils.ORACLE.utils_v2 import (\n",
    "#     ALL_DISTANCES_FEET,\n",
    "#     ALL_RUNS,\n",
    "#     ALL_SERIAL_NUMBERS,\n",
    "# )\n",
    "\n",
    "\n",
    "# add_dataset(\n",
    "#     labels=ALL_SERIAL_NUMBERS,\n",
    "#     domains = list(set(ALL_DISTANCES_FEET) - {2,62}),\n",
    "#     num_examples_per_domain_per_label=100,\n",
    "#     pickle_path=os.path.join(get_datasets_base_path(), \"oracle.Run2_framed_2000Examples_stratified_ds.2022A.pkl\"),\n",
    "#     source_or_target_dataset=\"source\",\n",
    "#     x_transform_func=global_x_transform_func,\n",
    "#     domain_modifier=lambda u: f\"oracle1_{u}\"\n",
    "# )\n"
   ]
  },
  {
   "cell_type": "code",
   "execution_count": 16,
   "id": "97dea9d2",
   "metadata": {
    "execution": {
     "iopub.execute_input": "2022-03-21T18:49:59.702700Z",
     "iopub.status.busy": "2022-03-21T18:49:59.701757Z",
     "iopub.status.idle": "2022-03-21T18:49:59.722414Z",
     "shell.execute_reply": "2022-03-21T18:49:59.721609Z"
    },
    "papermill": {
     "duration": 0.046586,
     "end_time": "2022-03-21T18:49:59.722591",
     "exception": false,
     "start_time": "2022-03-21T18:49:59.676005",
     "status": "completed"
    },
    "tags": []
   },
   "outputs": [],
   "source": [
    "# from steves_utils.ORACLE.utils_v2 import (\n",
    "#     ALL_DISTANCES_FEET,\n",
    "#     ALL_RUNS,\n",
    "#     ALL_SERIAL_NUMBERS,\n",
    "# )\n",
    "\n",
    "\n",
    "# add_dataset(\n",
    "#     labels=ALL_SERIAL_NUMBERS,\n",
    "#     domains = list(set(ALL_DISTANCES_FEET) - {2,62,56}),\n",
    "#     num_examples_per_domain_per_label=100,\n",
    "#     pickle_path=os.path.join(get_datasets_base_path(), \"oracle.Run2_framed_2000Examples_stratified_ds.2022A.pkl\"),\n",
    "#     source_or_target_dataset=\"source\",\n",
    "#     x_transform_func=global_x_transform_func,\n",
    "#     domain_modifier=lambda u: f\"oracle2_{u}\"\n",
    "# )"
   ]
  },
  {
   "cell_type": "code",
   "execution_count": 17,
   "id": "6f289866",
   "metadata": {
    "execution": {
     "iopub.execute_input": "2022-03-21T18:49:59.779385Z",
     "iopub.status.busy": "2022-03-21T18:49:59.774821Z",
     "iopub.status.idle": "2022-03-21T18:49:59.794603Z",
     "shell.execute_reply": "2022-03-21T18:49:59.793786Z"
    },
    "papermill": {
     "duration": 0.044477,
     "end_time": "2022-03-21T18:49:59.794772",
     "exception": false,
     "start_time": "2022-03-21T18:49:59.750295",
     "status": "completed"
    },
    "tags": []
   },
   "outputs": [],
   "source": [
    "# add_dataset(\n",
    "#     labels=list(range(19)),\n",
    "#     domains = [0,1,2],\n",
    "#     num_examples_per_domain_per_label=100,\n",
    "#     pickle_path=os.path.join(get_datasets_base_path(), \"metehan.stratified_ds.2022A.pkl\"),\n",
    "#     source_or_target_dataset=\"target\",\n",
    "#     x_transform_func=global_x_transform_func,\n",
    "#     domain_modifier=lambda u: f\"met_{u}\"\n",
    "# )"
   ]
  },
  {
   "cell_type": "code",
   "execution_count": 18,
   "id": "86a863c3",
   "metadata": {
    "execution": {
     "iopub.execute_input": "2022-03-21T18:49:59.850817Z",
     "iopub.status.busy": "2022-03-21T18:49:59.849464Z",
     "iopub.status.idle": "2022-03-21T18:49:59.869855Z",
     "shell.execute_reply": "2022-03-21T18:49:59.869010Z"
    },
    "papermill": {
     "duration": 0.046309,
     "end_time": "2022-03-21T18:49:59.870028",
     "exception": false,
     "start_time": "2022-03-21T18:49:59.823719",
     "status": "completed"
    },
    "tags": []
   },
   "outputs": [],
   "source": [
    "# # from steves_utils.wisig.utils import (\n",
    "# #     ALL_NODES_MINIMUM_100_EXAMPLES,\n",
    "# #     ALL_NODES_MINIMUM_500_EXAMPLES,\n",
    "# #     ALL_NODES_MINIMUM_1000_EXAMPLES,\n",
    "# #     ALL_DAYS\n",
    "# # )\n",
    "\n",
    "# import steves_utils.wisig.utils as wisig\n",
    "\n",
    "\n",
    "# add_dataset(\n",
    "#     labels=wisig.ALL_NODES_MINIMUM_100_EXAMPLES,\n",
    "#     domains = wisig.ALL_DAYS,\n",
    "#     num_examples_per_domain_per_label=100,\n",
    "#     pickle_path=os.path.join(get_datasets_base_path(), \"wisig.node3-19.stratified_ds.2022A.pkl\"),\n",
    "#     source_or_target_dataset=\"target\",\n",
    "#     x_transform_func=global_x_transform_func,\n",
    "#     domain_modifier=lambda u: f\"wisig_{u}\"\n",
    "# )"
   ]
  },
  {
   "cell_type": "code",
   "execution_count": 19,
   "id": "fd5442bc",
   "metadata": {
    "execution": {
     "iopub.execute_input": "2022-03-21T18:49:59.929419Z",
     "iopub.status.busy": "2022-03-21T18:49:59.928756Z",
     "iopub.status.idle": "2022-03-21T18:49:59.946585Z",
     "shell.execute_reply": "2022-03-21T18:49:59.945769Z"
    },
    "papermill": {
     "duration": 0.049526,
     "end_time": "2022-03-21T18:49:59.946760",
     "exception": false,
     "start_time": "2022-03-21T18:49:59.897234",
     "status": "completed"
    },
    "tags": []
   },
   "outputs": [],
   "source": [
    "###################################\n",
    "# Build the dataset\n",
    "###################################\n",
    "train_original_source = Iterable_Aggregator(train_original_source, p.seed)\n",
    "val_original_source = Iterable_Aggregator(val_original_source, p.seed)\n",
    "test_original_source = Iterable_Aggregator(test_original_source, p.seed)\n",
    "\n",
    "\n",
    "train_original_target = Iterable_Aggregator(train_original_target, p.seed)\n",
    "val_original_target = Iterable_Aggregator(val_original_target, p.seed)\n",
    "test_original_target = Iterable_Aggregator(test_original_target, p.seed)\n",
    "\n",
    "# For CNN We only use X and Y. And we only train on the source.\n",
    "# Properly form the data using a transform lambda and Lazy_Iterable_Wrapper. Finally wrap them in a dataloader\n",
    "\n",
    "transform_lambda = lambda ex: ex[1] # Original is (<domain>, <episode>) so we strip down to episode only\n",
    "\n",
    "train_processed_source = Lazy_Iterable_Wrapper(train_original_source, transform_lambda)\n",
    "val_processed_source   = Lazy_Iterable_Wrapper(val_original_source, transform_lambda)\n",
    "test_processed_source  = Lazy_Iterable_Wrapper(test_original_source, transform_lambda)\n",
    "\n",
    "train_processed_target = Lazy_Iterable_Wrapper(train_original_target, transform_lambda)\n",
    "val_processed_target   = Lazy_Iterable_Wrapper(val_original_target, transform_lambda)\n",
    "test_processed_target  = Lazy_Iterable_Wrapper(test_original_target, transform_lambda)\n",
    "\n",
    "datasets = EasyDict({\n",
    "    \"source\": {\n",
    "        \"original\": {\"train\":train_original_source, \"val\":val_original_source, \"test\":test_original_source},\n",
    "        \"processed\": {\"train\":train_processed_source, \"val\":val_processed_source, \"test\":test_processed_source}\n",
    "    },\n",
    "    \"target\": {\n",
    "        \"original\": {\"train\":train_original_target, \"val\":val_original_target, \"test\":test_original_target},\n",
    "        \"processed\": {\"train\":train_processed_target, \"val\":val_processed_target, \"test\":test_processed_target}\n",
    "    },\n",
    "})"
   ]
  },
  {
   "cell_type": "code",
   "execution_count": 20,
   "id": "5b3c01fc",
   "metadata": {
    "execution": {
     "iopub.execute_input": "2022-03-21T18:50:00.000077Z",
     "iopub.status.busy": "2022-03-21T18:49:59.999656Z",
     "iopub.status.idle": "2022-03-21T18:50:16.033679Z",
     "shell.execute_reply": "2022-03-21T18:50:16.032778Z"
    },
    "papermill": {
     "duration": 16.060308,
     "end_time": "2022-03-21T18:50:16.033856",
     "exception": false,
     "start_time": "2022-03-21T18:49:59.973548",
     "status": "completed"
    },
    "tags": []
   },
   "outputs": [
    {
     "name": "stdout",
     "output_type": "stream",
     "text": [
      "{'ORACLE.run18', 'ORACLE.run150', 'ORACLE.run138', 'ORACLE.run132', 'ORACLE.run126', 'ORACLE.run120', 'ORACLE.run144', 'ORACLE.run114'}\n"
     ]
    },
    {
     "name": "stdout",
     "output_type": "stream",
     "text": [
      "{'Wisig_4', 'Wisig_2', 'Wisig_1', 'Wisig_3'}\n"
     ]
    },
    {
     "name": "stdout",
     "output_type": "stream",
     "text": [
      "tensor([[[ 0.5430,  0.9459, -0.9634,  ..., -0.7357,  0.5080, -0.8058],\n",
      "         [-0.4204,  0.3854,  0.1226,  ..., -0.4204, -1.1386, -0.9284]],\n",
      "\n",
      "        [[ 0.1073,  1.2338, -0.4828,  ..., -0.9477,  0.3576, -0.9835],\n",
      "         [-0.6795,  0.0894,  0.5901,  ..., -0.1073, -1.0729, -0.6080]],\n",
      "\n",
      "        [[-1.0279,  0.4508,  1.4246,  ..., -0.5049,  0.1984,  1.2623],\n",
      "         [-0.3066, -0.2525,  0.0361,  ...,  1.1722,  1.0459,  0.1803]],\n",
      "\n",
      "        ...,\n",
      "\n",
      "        [[-0.3467,  0.2836,  0.3782,  ..., -0.4412, -1.4339, -1.0242],\n",
      "         [-0.2836, -1.1345,  0.5988,  ...,  0.9770, -0.5673,  0.3624]],\n",
      "\n",
      "        [[ 0.5706, -0.4935, -0.6014,  ...,  0.2776,  1.3416,  0.6477],\n",
      "         [ 0.9098,  0.9252, -1.0486,  ..., -0.7710,  0.4163, -0.9561]],\n",
      "\n",
      "        [[ 0.4556, -0.7542, -0.5656,  ...,  0.8956,  1.0841,  0.3928],\n",
      "         [ 1.0684,  0.8013, -1.1627,  ..., -0.4871,  0.4714, -1.2098]]])\n"
     ]
    }
   ],
   "source": [
    "from steves_utils.transforms import get_average_magnitude, get_average_power\n",
    "\n",
    "print(set([u for u,_ in val_original_source]))\n",
    "print(set([u for u,_ in val_original_target]))\n",
    "\n",
    "s_x, s_y, q_x, q_y, _ = next(iter(train_processed_source))\n",
    "print(s_x)\n",
    "\n",
    "# for ds in [\n",
    "#     train_processed_source,\n",
    "#     val_processed_source,\n",
    "#     test_processed_source,\n",
    "#     train_processed_target,\n",
    "#     val_processed_target,\n",
    "#     test_processed_target\n",
    "# ]:\n",
    "#     for s_x, s_y, q_x, q_y, _ in ds:\n",
    "#         for X in (s_x, q_x):\n",
    "#             for x in X:\n",
    "#                 assert np.isclose(get_average_magnitude(x.numpy()), 1.0)\n",
    "#                 assert np.isclose(get_average_power(x.numpy()), 1.0)\n",
    "                "
   ]
  },
  {
   "cell_type": "code",
   "execution_count": 21,
   "id": "bbdacba1",
   "metadata": {
    "execution": {
     "iopub.execute_input": "2022-03-21T18:50:16.093001Z",
     "iopub.status.busy": "2022-03-21T18:50:16.092454Z",
     "iopub.status.idle": "2022-03-21T18:50:16.383021Z",
     "shell.execute_reply": "2022-03-21T18:50:16.383340Z"
    },
    "papermill": {
     "duration": 0.318537,
     "end_time": "2022-03-21T18:50:16.383465",
     "exception": false,
     "start_time": "2022-03-21T18:50:16.064928",
     "status": "completed"
    },
    "tags": []
   },
   "outputs": [
    {
     "name": "stdout",
     "output_type": "stream",
     "text": [
      "(2, 256)\n"
     ]
    }
   ],
   "source": [
    "###################################\n",
    "# Build the model\n",
    "###################################\n",
    "# easfsl only wants a tuple for the shape\n",
    "model = Steves_Prototypical_Network(x_net, device=p.device, x_shape=tuple(p.x_shape))\n",
    "optimizer = Adam(params=model.parameters(), lr=p.lr)"
   ]
  },
  {
   "cell_type": "code",
   "execution_count": 22,
   "id": "22b39ac5",
   "metadata": {
    "execution": {
     "iopub.execute_input": "2022-03-21T18:50:16.447342Z",
     "iopub.status.busy": "2022-03-21T18:50:16.446708Z",
     "iopub.status.idle": "2022-03-21T19:16:02.964376Z",
     "shell.execute_reply": "2022-03-21T19:16:02.964029Z"
    },
    "papermill": {
     "duration": 1546.557697,
     "end_time": "2022-03-21T19:16:02.964466",
     "exception": false,
     "start_time": "2022-03-21T18:50:16.406769",
     "status": "completed"
    },
    "tags": []
   },
   "outputs": [
    {
     "name": "stdout",
     "output_type": "stream",
     "text": [
      "epoch: 1, [batch: 1 / 6720], examples_per_second: 33.0711, train_label_loss: 2.9187, \n"
     ]
    },
    {
     "name": "stdout",
     "output_type": "stream",
     "text": [
      "epoch: 1, [batch: 672 / 6720], examples_per_second: 2386.0029, train_label_loss: 1.6592, \n"
     ]
    },
    {
     "name": "stdout",
     "output_type": "stream",
     "text": [
      "epoch: 1, [batch: 1344 / 6720], examples_per_second: 2595.5256, train_label_loss: 0.7357, \n"
     ]
    },
    {
     "name": "stdout",
     "output_type": "stream",
     "text": [
      "epoch: 1, [batch: 2016 / 6720], examples_per_second: 2694.3195, train_label_loss: 0.7290, \n"
     ]
    },
    {
     "name": "stdout",
     "output_type": "stream",
     "text": [
      "epoch: 1, [batch: 2688 / 6720], examples_per_second: 2843.5017, train_label_loss: 0.5670, \n"
     ]
    },
    {
     "name": "stdout",
     "output_type": "stream",
     "text": [
      "epoch: 1, [batch: 3360 / 6720], examples_per_second: 2664.0968, train_label_loss: 0.5410, \n"
     ]
    },
    {
     "name": "stdout",
     "output_type": "stream",
     "text": [
      "epoch: 1, [batch: 4032 / 6720], examples_per_second: 2432.7533, train_label_loss: 0.6328, \n"
     ]
    },
    {
     "name": "stdout",
     "output_type": "stream",
     "text": [
      "epoch: 1, [batch: 4704 / 6720], examples_per_second: 2286.1890, train_label_loss: 0.4294, \n"
     ]
    },
    {
     "name": "stdout",
     "output_type": "stream",
     "text": [
      "epoch: 1, [batch: 5376 / 6720], examples_per_second: 2295.9701, train_label_loss: 0.5701, \n"
     ]
    },
    {
     "name": "stdout",
     "output_type": "stream",
     "text": [
      "epoch: 1, [batch: 6048 / 6720], examples_per_second: 2308.6438, train_label_loss: 0.6145, \n"
     ]
    },
    {
     "name": "stdout",
     "output_type": "stream",
     "text": [
      "=============================================================\n",
      "epoch: 1, source_val_acc_label: 0.7296, target_val_acc_label: 0.5260, source_val_label_loss: 0.9710, target_val_label_loss: 18.3548, \n",
      "=============================================================\n"
     ]
    },
    {
     "name": "stdout",
     "output_type": "stream",
     "text": [
      "New best\n"
     ]
    },
    {
     "name": "stdout",
     "output_type": "stream",
     "text": [
      "epoch: 2, [batch: 1 / 6720], examples_per_second: 2.0240, train_label_loss: 0.8352, \n"
     ]
    },
    {
     "name": "stdout",
     "output_type": "stream",
     "text": [
      "epoch: 2, [batch: 672 / 6720], examples_per_second: 2410.1869, train_label_loss: 0.8532, \n"
     ]
    },
    {
     "name": "stdout",
     "output_type": "stream",
     "text": [
      "epoch: 2, [batch: 1344 / 6720], examples_per_second: 2613.2404, train_label_loss: 0.3959, \n"
     ]
    },
    {
     "name": "stdout",
     "output_type": "stream",
     "text": [
      "epoch: 2, [batch: 2016 / 6720], examples_per_second: 2787.4924, train_label_loss: 0.7818, \n"
     ]
    },
    {
     "name": "stdout",
     "output_type": "stream",
     "text": [
      "epoch: 2, [batch: 2688 / 6720], examples_per_second: 2964.7684, train_label_loss: 0.4742, \n"
     ]
    },
    {
     "name": "stdout",
     "output_type": "stream",
     "text": [
      "epoch: 2, [batch: 3360 / 6720], examples_per_second: 2653.5962, train_label_loss: 0.3738, \n"
     ]
    },
    {
     "name": "stdout",
     "output_type": "stream",
     "text": [
      "epoch: 2, [batch: 4032 / 6720], examples_per_second: 2644.4431, train_label_loss: 0.5970, \n"
     ]
    },
    {
     "name": "stdout",
     "output_type": "stream",
     "text": [
      "epoch: 2, [batch: 4704 / 6720], examples_per_second: 2607.4431, train_label_loss: 0.4815, \n"
     ]
    },
    {
     "name": "stdout",
     "output_type": "stream",
     "text": [
      "epoch: 2, [batch: 5376 / 6720], examples_per_second: 2574.0682, train_label_loss: 0.8795, \n"
     ]
    },
    {
     "name": "stdout",
     "output_type": "stream",
     "text": [
      "epoch: 2, [batch: 6048 / 6720], examples_per_second: 2630.7536, train_label_loss: 0.2338, \n"
     ]
    },
    {
     "name": "stdout",
     "output_type": "stream",
     "text": [
      "=============================================================\n",
      "epoch: 2, source_val_acc_label: 0.8402, target_val_acc_label: 0.6000, source_val_label_loss: 0.4440, target_val_label_loss: 15.3251, \n",
      "=============================================================\n"
     ]
    },
    {
     "name": "stdout",
     "output_type": "stream",
     "text": [
      "New best\n"
     ]
    },
    {
     "name": "stdout",
     "output_type": "stream",
     "text": [
      "epoch: 3, [batch: 1 / 6720], examples_per_second: 2.4992, train_label_loss: 0.7545, \n"
     ]
    },
    {
     "name": "stdout",
     "output_type": "stream",
     "text": [
      "epoch: 3, [batch: 672 / 6720], examples_per_second: 2928.6644, train_label_loss: 0.4987, \n"
     ]
    },
    {
     "name": "stdout",
     "output_type": "stream",
     "text": [
      "epoch: 3, [batch: 1344 / 6720], examples_per_second: 3591.5356, train_label_loss: 0.2043, \n"
     ]
    },
    {
     "name": "stdout",
     "output_type": "stream",
     "text": [
      "epoch: 3, [batch: 2016 / 6720], examples_per_second: 3934.0601, train_label_loss: 0.1544, \n"
     ]
    },
    {
     "name": "stdout",
     "output_type": "stream",
     "text": [
      "epoch: 3, [batch: 2688 / 6720], examples_per_second: 3972.7603, train_label_loss: 0.4949, \n"
     ]
    },
    {
     "name": "stdout",
     "output_type": "stream",
     "text": [
      "epoch: 3, [batch: 3360 / 6720], examples_per_second: 4010.8698, train_label_loss: 0.3224, \n"
     ]
    },
    {
     "name": "stdout",
     "output_type": "stream",
     "text": [
      "epoch: 3, [batch: 4032 / 6720], examples_per_second: 3244.3365, train_label_loss: 0.4204, \n"
     ]
    },
    {
     "name": "stdout",
     "output_type": "stream",
     "text": [
      "epoch: 3, [batch: 4704 / 6720], examples_per_second: 3032.8569, train_label_loss: 0.5051, \n"
     ]
    },
    {
     "name": "stdout",
     "output_type": "stream",
     "text": [
      "epoch: 3, [batch: 5376 / 6720], examples_per_second: 2944.5378, train_label_loss: 0.4802, \n"
     ]
    },
    {
     "name": "stdout",
     "output_type": "stream",
     "text": [
      "epoch: 3, [batch: 6048 / 6720], examples_per_second: 2995.9062, train_label_loss: 0.5212, \n"
     ]
    },
    {
     "name": "stdout",
     "output_type": "stream",
     "text": [
      "=============================================================\n",
      "epoch: 3, source_val_acc_label: 0.8712, target_val_acc_label: 0.5789, source_val_label_loss: 0.3616, target_val_label_loss: 17.8188, \n",
      "=============================================================\n"
     ]
    },
    {
     "name": "stdout",
     "output_type": "stream",
     "text": [
      "epoch: 4, [batch: 1 / 6720], examples_per_second: 2.4017, train_label_loss: 0.2961, \n"
     ]
    },
    {
     "name": "stdout",
     "output_type": "stream",
     "text": [
      "epoch: 4, [batch: 672 / 6720], examples_per_second: 2358.2663, train_label_loss: 0.2564, \n"
     ]
    },
    {
     "name": "stdout",
     "output_type": "stream",
     "text": [
      "epoch: 4, [batch: 1344 / 6720], examples_per_second: 2578.6596, train_label_loss: 0.3279, \n"
     ]
    },
    {
     "name": "stdout",
     "output_type": "stream",
     "text": [
      "epoch: 4, [batch: 2016 / 6720], examples_per_second: 2566.4602, train_label_loss: 0.1659, \n"
     ]
    },
    {
     "name": "stdout",
     "output_type": "stream",
     "text": [
      "epoch: 4, [batch: 2688 / 6720], examples_per_second: 2580.6031, train_label_loss: 0.3081, \n"
     ]
    },
    {
     "name": "stdout",
     "output_type": "stream",
     "text": [
      "epoch: 4, [batch: 3360 / 6720], examples_per_second: 2310.5428, train_label_loss: 0.5380, \n"
     ]
    },
    {
     "name": "stdout",
     "output_type": "stream",
     "text": [
      "epoch: 4, [batch: 4032 / 6720], examples_per_second: 2301.1596, train_label_loss: 0.2818, \n"
     ]
    },
    {
     "name": "stdout",
     "output_type": "stream",
     "text": [
      "epoch: 4, [batch: 4704 / 6720], examples_per_second: 2287.3852, train_label_loss: 0.8330, \n"
     ]
    },
    {
     "name": "stdout",
     "output_type": "stream",
     "text": [
      "epoch: 4, [batch: 5376 / 6720], examples_per_second: 2317.3824, train_label_loss: 0.4068, \n"
     ]
    },
    {
     "name": "stdout",
     "output_type": "stream",
     "text": [
      "epoch: 4, [batch: 6048 / 6720], examples_per_second: 2461.6933, train_label_loss: 0.2773, \n"
     ]
    },
    {
     "name": "stdout",
     "output_type": "stream",
     "text": [
      "=============================================================\n",
      "epoch: 4, source_val_acc_label: 0.8857, target_val_acc_label: 0.5598, source_val_label_loss: 0.3130, target_val_label_loss: 17.9981, \n",
      "=============================================================\n"
     ]
    },
    {
     "name": "stdout",
     "output_type": "stream",
     "text": [
      "epoch: 5, [batch: 1 / 6720], examples_per_second: 2.2304, train_label_loss: 0.2810, \n"
     ]
    },
    {
     "name": "stdout",
     "output_type": "stream",
     "text": [
      "epoch: 5, [batch: 672 / 6720], examples_per_second: 2333.2443, train_label_loss: 0.3614, \n"
     ]
    },
    {
     "name": "stdout",
     "output_type": "stream",
     "text": [
      "epoch: 5, [batch: 1344 / 6720], examples_per_second: 2591.1064, train_label_loss: 0.2825, \n"
     ]
    },
    {
     "name": "stdout",
     "output_type": "stream",
     "text": [
      "epoch: 5, [batch: 2016 / 6720], examples_per_second: 2604.9284, train_label_loss: 0.0800, \n"
     ]
    },
    {
     "name": "stdout",
     "output_type": "stream",
     "text": [
      "epoch: 5, [batch: 2688 / 6720], examples_per_second: 2574.0275, train_label_loss: 0.3461, \n"
     ]
    },
    {
     "name": "stdout",
     "output_type": "stream",
     "text": [
      "epoch: 5, [batch: 3360 / 6720], examples_per_second: 2311.3645, train_label_loss: 0.1377, \n"
     ]
    },
    {
     "name": "stdout",
     "output_type": "stream",
     "text": [
      "epoch: 5, [batch: 4032 / 6720], examples_per_second: 2319.5635, train_label_loss: 0.1241, \n"
     ]
    },
    {
     "name": "stdout",
     "output_type": "stream",
     "text": [
      "epoch: 5, [batch: 4704 / 6720], examples_per_second: 2316.3604, train_label_loss: 0.1714, \n"
     ]
    },
    {
     "name": "stdout",
     "output_type": "stream",
     "text": [
      "epoch: 5, [batch: 5376 / 6720], examples_per_second: 2319.2020, train_label_loss: 0.1025, \n"
     ]
    },
    {
     "name": "stdout",
     "output_type": "stream",
     "text": [
      "epoch: 5, [batch: 6048 / 6720], examples_per_second: 2455.4105, train_label_loss: 0.3062, \n"
     ]
    },
    {
     "name": "stdout",
     "output_type": "stream",
     "text": [
      "=============================================================\n",
      "epoch: 5, source_val_acc_label: 0.8926, target_val_acc_label: 0.5632, source_val_label_loss: 0.2995, target_val_label_loss: 19.9517, \n",
      "=============================================================\n"
     ]
    },
    {
     "name": "stdout",
     "output_type": "stream",
     "text": [
      "epoch: 6, [batch: 1 / 6720], examples_per_second: 2.2217, train_label_loss: 0.4842, \n"
     ]
    },
    {
     "name": "stdout",
     "output_type": "stream",
     "text": [
      "epoch: 6, [batch: 672 / 6720], examples_per_second: 2356.6460, train_label_loss: 0.3366, \n"
     ]
    },
    {
     "name": "stdout",
     "output_type": "stream",
     "text": [
      "epoch: 6, [batch: 1344 / 6720], examples_per_second: 2650.8802, train_label_loss: 0.1961, \n"
     ]
    },
    {
     "name": "stdout",
     "output_type": "stream",
     "text": [
      "epoch: 6, [batch: 2016 / 6720], examples_per_second: 2624.4343, train_label_loss: 0.1616, \n"
     ]
    },
    {
     "name": "stdout",
     "output_type": "stream",
     "text": [
      "epoch: 6, [batch: 2688 / 6720], examples_per_second: 2661.9542, train_label_loss: 0.2420, \n"
     ]
    },
    {
     "name": "stdout",
     "output_type": "stream",
     "text": [
      "epoch: 6, [batch: 3360 / 6720], examples_per_second: 2333.0424, train_label_loss: 0.1401, \n"
     ]
    },
    {
     "name": "stdout",
     "output_type": "stream",
     "text": [
      "epoch: 6, [batch: 4032 / 6720], examples_per_second: 2304.0453, train_label_loss: 0.2901, \n"
     ]
    },
    {
     "name": "stdout",
     "output_type": "stream",
     "text": [
      "epoch: 6, [batch: 4704 / 6720], examples_per_second: 2306.7962, train_label_loss: 0.3309, \n"
     ]
    },
    {
     "name": "stdout",
     "output_type": "stream",
     "text": [
      "epoch: 6, [batch: 5376 / 6720], examples_per_second: 2329.2082, train_label_loss: 0.0286, \n"
     ]
    },
    {
     "name": "stdout",
     "output_type": "stream",
     "text": [
      "epoch: 6, [batch: 6048 / 6720], examples_per_second: 2456.0449, train_label_loss: 0.6663, \n"
     ]
    },
    {
     "name": "stdout",
     "output_type": "stream",
     "text": [
      "=============================================================\n",
      "epoch: 6, source_val_acc_label: 0.8931, target_val_acc_label: 0.5351, source_val_label_loss: 0.2995, target_val_label_loss: 27.8608, \n",
      "=============================================================\n"
     ]
    },
    {
     "name": "stdout",
     "output_type": "stream",
     "text": [
      "Patience (3) exhausted\n"
     ]
    }
   ],
   "source": [
    "###################################\n",
    "# train\n",
    "###################################\n",
    "jig = PTN_Train_Eval_Test_Jig(model, p.BEST_MODEL_PATH, p.device)\n",
    "\n",
    "jig.train(\n",
    "    train_iterable=datasets.source.processed.train,\n",
    "    source_val_iterable=datasets.source.processed.val,\n",
    "    target_val_iterable=datasets.target.processed.val,\n",
    "    num_epochs=p.n_epoch,\n",
    "    num_logs_per_epoch=p.NUM_LOGS_PER_EPOCH,\n",
    "    patience=p.patience,\n",
    "    optimizer=optimizer,\n",
    "    criteria_for_best=p.criteria_for_best,\n",
    ")"
   ]
  },
  {
   "cell_type": "code",
   "execution_count": 23,
   "id": "31e8fabf",
   "metadata": {
    "execution": {
     "iopub.execute_input": "2022-03-21T19:16:03.056038Z",
     "iopub.status.busy": "2022-03-21T19:16:03.055663Z",
     "iopub.status.idle": "2022-03-21T19:16:03.089554Z",
     "shell.execute_reply": "2022-03-21T19:16:03.088792Z"
    },
    "papermill": {
     "duration": 0.080073,
     "end_time": "2022-03-21T19:16:03.089734",
     "exception": false,
     "start_time": "2022-03-21T19:16:03.009661",
     "status": "completed"
    },
    "tags": []
   },
   "outputs": [],
   "source": [
    "total_experiment_time_secs = time.time() - start_time_secs"
   ]
  },
  {
   "cell_type": "code",
   "execution_count": 24,
   "id": "87b9595b",
   "metadata": {
    "execution": {
     "iopub.execute_input": "2022-03-21T19:16:03.188032Z",
     "iopub.status.busy": "2022-03-21T19:16:03.187387Z",
     "iopub.status.idle": "2022-03-21T19:20:28.189686Z",
     "shell.execute_reply": "2022-03-21T19:20:28.188947Z"
    },
    "papermill": {
     "duration": 265.052044,
     "end_time": "2022-03-21T19:20:28.189873",
     "exception": false,
     "start_time": "2022-03-21T19:16:03.137829",
     "status": "completed"
    },
    "tags": []
   },
   "outputs": [],
   "source": [
    "###################################\n",
    "# Evaluate the model\n",
    "###################################\n",
    "source_test_label_accuracy, source_test_label_loss = jig.test(datasets.source.processed.test)\n",
    "target_test_label_accuracy, target_test_label_loss = jig.test(datasets.target.processed.test)\n",
    "\n",
    "source_val_label_accuracy, source_val_label_loss = jig.test(datasets.source.processed.val)\n",
    "target_val_label_accuracy, target_val_label_loss = jig.test(datasets.target.processed.val)\n",
    "\n",
    "history = jig.get_history()\n",
    "\n",
    "total_epochs_trained = len(history[\"epoch_indices\"])\n",
    "\n",
    "val_dl = Iterable_Aggregator((datasets.source.original.val,datasets.target.original.val))\n",
    "\n",
    "confusion = ptn_confusion_by_domain_over_dataloader(model, p.device, val_dl)\n",
    "per_domain_accuracy = per_domain_accuracy_from_confusion(confusion)\n",
    "\n",
    "# Add a key to per_domain_accuracy for if it was a source domain\n",
    "for domain, accuracy in per_domain_accuracy.items():\n",
    "    per_domain_accuracy[domain] = {\n",
    "        \"accuracy\": accuracy,\n",
    "        \"source?\": domain in p.domains_source\n",
    "    }\n",
    "\n",
    "# Do an independent accuracy assesment JUST TO BE SURE!\n",
    "# _source_test_label_accuracy = independent_accuracy_assesment(model, datasets.source.processed.test, p.device)\n",
    "# _target_test_label_accuracy = independent_accuracy_assesment(model, datasets.target.processed.test, p.device)\n",
    "# _source_val_label_accuracy = independent_accuracy_assesment(model, datasets.source.processed.val, p.device)\n",
    "# _target_val_label_accuracy = independent_accuracy_assesment(model, datasets.target.processed.val, p.device)\n",
    "\n",
    "# assert(_source_test_label_accuracy == source_test_label_accuracy)\n",
    "# assert(_target_test_label_accuracy == target_test_label_accuracy)\n",
    "# assert(_source_val_label_accuracy == source_val_label_accuracy)\n",
    "# assert(_target_val_label_accuracy == target_val_label_accuracy)\n",
    "\n",
    "experiment = {\n",
    "    \"experiment_name\": p.experiment_name,\n",
    "    \"parameters\": dict(p),\n",
    "    \"results\": {\n",
    "        \"source_test_label_accuracy\": source_test_label_accuracy,\n",
    "        \"source_test_label_loss\": source_test_label_loss,\n",
    "        \"target_test_label_accuracy\": target_test_label_accuracy,\n",
    "        \"target_test_label_loss\": target_test_label_loss,\n",
    "        \"source_val_label_accuracy\": source_val_label_accuracy,\n",
    "        \"source_val_label_loss\": source_val_label_loss,\n",
    "        \"target_val_label_accuracy\": target_val_label_accuracy,\n",
    "        \"target_val_label_loss\": target_val_label_loss,\n",
    "        \"total_epochs_trained\": total_epochs_trained,\n",
    "        \"total_experiment_time_secs\": total_experiment_time_secs,\n",
    "        \"confusion\": confusion,\n",
    "        \"per_domain_accuracy\": per_domain_accuracy,\n",
    "    },\n",
    "    \"history\": history,\n",
    "    \"dataset_metrics\": get_dataset_metrics(datasets, \"ptn\"),\n",
    "}"
   ]
  },
  {
   "cell_type": "code",
   "execution_count": 25,
   "id": "54a21829",
   "metadata": {
    "execution": {
     "iopub.execute_input": "2022-03-21T19:20:28.285646Z",
     "iopub.status.busy": "2022-03-21T19:20:28.285071Z",
     "iopub.status.idle": "2022-03-21T19:20:28.496294Z",
     "shell.execute_reply": "2022-03-21T19:20:28.496993Z"
    },
    "papermill": {
     "duration": 0.259135,
     "end_time": "2022-03-21T19:20:28.497213",
     "exception": false,
     "start_time": "2022-03-21T19:20:28.238078",
     "status": "completed"
    },
    "tags": []
   },
   "outputs": [
    {
     "data": {
      "image/png": "[encoded data removed]",
      "text/plain": [
       "<Figure size 1080x504 with 1 Axes>"
      ]
     },
     "metadata": {
      "needs_background": "light"
     },
     "output_type": "display_data"
    }
   ],
   "source": [
    "ax = get_loss_curve(experiment)\n",
    "plt.show()"
   ]
  },
  {
   "cell_type": "code",
   "execution_count": 26,
   "id": "fd8a0f60",
   "metadata": {
    "execution": {
     "iopub.execute_input": "2022-03-21T19:20:28.592449Z",
     "iopub.status.busy": "2022-03-21T19:20:28.592073Z",
     "iopub.status.idle": "2022-03-21T19:20:28.967849Z",
     "shell.execute_reply": "2022-03-21T19:20:28.968538Z"
    },
    "papermill": {
     "duration": 0.424054,
     "end_time": "2022-03-21T19:20:28.968733",
     "exception": false,
     "start_time": "2022-03-21T19:20:28.544679",
     "status": "completed"
    },
    "tags": []
   },
   "outputs": [
    {
     "data": {
      "text/plain": [
       "<AxesSubplot:title={'center':'Results'}>"
      ]
     },
     "execution_count": 26,
     "metadata": {},
     "output_type": "execute_result"
    },
    {
     "data": {
      "image/png": "[encoded data removed]",
      "text/plain": [
       "<Figure size 1080x504 with 1 Axes>"
      ]
     },
     "metadata": {
      "needs_background": "light"
     },
     "output_type": "display_data"
    }
   ],
   "source": [
    "get_results_table(experiment)"
   ]
  },
  {
   "cell_type": "code",
   "execution_count": 27,
   "id": "cf8dc689",
   "metadata": {
    "execution": {
     "iopub.execute_input": "2022-03-21T19:20:29.067553Z",
     "iopub.status.busy": "2022-03-21T19:20:29.067172Z",
     "iopub.status.idle": "2022-03-21T19:20:29.316484Z",
     "shell.execute_reply": "2022-03-21T19:20:29.315756Z"
    },
    "papermill": {
     "duration": 0.298221,
     "end_time": "2022-03-21T19:20:29.316649",
     "exception": false,
     "start_time": "2022-03-21T19:20:29.018428",
     "status": "completed"
    },
    "tags": []
   },
   "outputs": [
    {
     "data": {
      "text/plain": [
       "<AxesSubplot:title={'center':'Per Domain Validation Accuracy'}, xlabel='domain'>"
      ]
     },
     "execution_count": 27,
     "metadata": {},
     "output_type": "execute_result"
    },
    {
     "data": {
      "image/png": "[encoded data removed]",
      "text/plain": [
       "<Figure size 1080x504 with 1 Axes>"
      ]
     },
     "metadata": {
      "needs_background": "light"
     },
     "output_type": "display_data"
    }
   ],
   "source": [
    "get_domain_accuracies(experiment)"
   ]
  },
  {
   "cell_type": "code",
   "execution_count": 28,
   "id": "a74ae082",
   "metadata": {
    "execution": {
     "iopub.execute_input": "2022-03-21T19:20:29.417996Z",
     "iopub.status.busy": "2022-03-21T19:20:29.417606Z",
     "iopub.status.idle": "2022-03-21T19:20:29.444458Z",
     "shell.execute_reply": "2022-03-21T19:20:29.443630Z"
    },
    "papermill": {
     "duration": 0.077856,
     "end_time": "2022-03-21T19:20:29.444616",
     "exception": false,
     "start_time": "2022-03-21T19:20:29.366760",
     "status": "completed"
    },
    "tags": []
   },
   "outputs": [
    {
     "name": "stdout",
     "output_type": "stream",
     "text": [
      "Source Test Label Accuracy: 0.84267578125 Target Test Label Accuracy: 0.5989529472595657\n",
      "Source Val Label Accuracy: 0.840234375 Target Val Label Accuracy: 0.5999802215189873\n"
     ]
    }
   ],
   "source": [
    "print(\"Source Test Label Accuracy:\", experiment[\"results\"][\"source_test_label_accuracy\"], \"Target Test Label Accuracy:\", experiment[\"results\"][\"target_test_label_accuracy\"])\n",
    "print(\"Source Val Label Accuracy:\", experiment[\"results\"][\"source_val_label_accuracy\"], \"Target Val Label Accuracy:\", experiment[\"results\"][\"target_val_label_accuracy\"])"
   ]
  },
  {
   "cell_type": "code",
   "execution_count": 29,
   "id": "dacca602",
   "metadata": {
    "execution": {
     "iopub.execute_input": "2022-03-21T19:20:29.544613Z",
     "iopub.status.busy": "2022-03-21T19:20:29.544073Z",
     "iopub.status.idle": "2022-03-21T19:20:29.573818Z",
     "shell.execute_reply": "2022-03-21T19:20:29.574504Z"
    },
    "papermill": {
     "duration": 0.0799,
     "end_time": "2022-03-21T19:20:29.574686",
     "exception": false,
     "start_time": "2022-03-21T19:20:29.494786",
     "status": "completed"
    },
    "tags": [
     "experiment_json"
    ]
   },
   "outputs": [
    {
     "data": {
      "text/plain": [
       "'{\"experiment_name\": \"tl_1v2:wisig-oracle.run1.framed\", \"parameters\": {\"experiment_name\": \"tl_1v2:wisig-oracle.run1.framed\", \"device\": \"cuda\", \"lr\": 0.0001, \"n_shot\": 3, \"n_query\": 2, \"train_k_factor\": 3, \"val_k_factor\": 2, \"test_k_factor\": 2, \"torch_default_dtype\": \"torch.float32\", \"n_epoch\": 50, \"patience\": 3, \"criteria_for_best\": \"target_accuracy\", \"x_net\": [{\"class\": \"nnReshape\", \"kargs\": {\"shape\": [-1, 1, 2, 256]}}, {\"class\": \"Conv2d\", \"kargs\": {\"in_channels\": 1, \"out_channels\": 256, \"kernel_size\": [1, 7], \"bias\": false, \"padding\": [0, 3]}}, {\"class\": \"ReLU\", \"kargs\": {\"inplace\": true}}, {\"class\": \"BatchNorm2d\", \"kargs\": {\"num_features\": 256}}, {\"class\": \"Conv2d\", \"kargs\": {\"in_channels\": 256, \"out_channels\": 80, \"kernel_size\": [2, 7], \"bias\": true, \"padding\": [0, 3]}}, {\"class\": \"ReLU\", \"kargs\": {\"inplace\": true}}, {\"class\": \"BatchNorm2d\", \"kargs\": {\"num_features\": 80}}, {\"class\": \"Flatten\", \"kargs\": {}}, {\"class\": \"Linear\", \"kargs\": {\"in_features\": 20480, \"out_features\": 256}}, {\"class\": \"ReLU\", \"kargs\": {\"inplace\": true}}, {\"class\": \"BatchNorm1d\", \"kargs\": {\"num_features\": 256}}, {\"class\": \"Linear\", \"kargs\": {\"in_features\": 256, \"out_features\": 256}}], \"NUM_LOGS_PER_EPOCH\": 10, \"BEST_MODEL_PATH\": \"./best_model.pth\", \"n_way\": 16, \"datasets\": [{\"labels\": [\"1-10\", \"1-12\", \"1-14\", \"1-16\", \"1-18\", \"1-19\", \"1-8\", \"10-11\", \"10-17\", \"10-4\", \"10-7\", \"11-1\", \"11-10\", \"11-19\", \"11-20\", \"11-4\", \"11-7\", \"12-19\", \"12-20\", \"12-7\", \"13-14\", \"13-18\", \"13-19\", \"13-20\", \"13-3\", \"13-7\", \"14-10\", \"14-11\", \"14-12\", \"14-13\", \"14-14\", \"14-19\", \"14-20\", \"14-7\", \"14-8\", \"14-9\", \"15-1\", \"15-19\", \"15-6\", \"16-1\", \"16-16\", \"16-19\", \"16-20\", \"17-10\", \"17-11\", \"18-1\", \"18-10\", \"18-11\", \"18-12\", \"18-13\", \"18-14\", \"18-15\", \"18-16\", \"18-17\", \"18-19\", \"18-2\", \"18-20\", \"18-4\", \"18-5\", \"18-7\", \"18-8\", \"18-9\", \"19-1\", \"19-10\", \"19-11\", \"19-12\", \"19-13\", \"19-14\", \"19-15\", \"19-19\", \"19-2\", \"19-20\", \"19-3\", \"19-4\", \"19-6\", \"19-7\", \"19-8\", \"19-9\", \"2-1\", \"2-13\", \"2-15\", \"2-3\", \"2-4\", \"2-5\", \"2-6\", \"2-7\", \"2-8\", \"20-1\", \"20-12\", \"20-14\", \"20-15\", \"20-16\", \"20-18\", \"20-19\", \"20-20\", \"20-3\", \"20-4\", \"20-5\", \"20-7\", \"20-8\", \"3-1\", \"3-13\", \"3-18\", \"3-2\", \"3-8\", \"4-1\", \"4-10\", \"4-11\", \"5-1\", \"5-5\", \"6-1\", \"6-15\", \"6-6\", \"7-10\", \"7-11\", \"7-12\", \"7-13\", \"7-14\", \"7-7\", \"7-8\", \"7-9\", \"8-1\", \"8-13\", \"8-14\", \"8-18\", \"8-20\", \"8-3\", \"8-8\", \"9-1\", \"9-7\"], \"domains\": [1, 2, 3, 4], \"num_examples_per_domain_per_label\": -1, \"pickle_path\": \"/root/csc500-main/datasets/wisig.node3-19.stratified_ds.2022A.pkl\", \"source_or_target_dataset\": \"target\", \"x_transforms\": [\"unit_mag\"], \"episode_transforms\": [], \"domain_prefix\": \"Wisig_\"}, {\"labels\": [\"3123D52\", \"3123D65\", \"3123D79\", \"3123D80\", \"3123D54\", \"3123D70\", \"3123D7B\", \"3123D89\", \"3123D58\", \"3123D76\", \"3123D7D\", \"3123EFE\", \"3123D64\", \"3123D78\", \"3123D7E\", \"3124E4A\"], \"domains\": [32, 38, 8, 44, 14, 50, 20, 26], \"num_examples_per_domain_per_label\": 2000, \"pickle_path\": \"/root/csc500-main/datasets/oracle.Run1_framed_2000Examples_stratified_ds.2022A.pkl\", \"source_or_target_dataset\": \"source\", \"x_transforms\": [\"unit_mag\"], \"episode_transforms\": [], \"domain_prefix\": \"ORACLE.run1\"}], \"dataset_seed\": 500, \"seed\": 500, \"x_shape\": [2, 256], \"domains_source\": [\"ORACLE.run132\", \"ORACLE.run138\", \"ORACLE.run18\", \"ORACLE.run144\", \"ORACLE.run114\", \"ORACLE.run150\", \"ORACLE.run120\", \"ORACLE.run126\"], \"domains_target\": [\"Wisig_1\", \"Wisig_2\", \"Wisig_3\", \"Wisig_4\"]}, \"results\": {\"source_test_label_accuracy\": 0.84267578125, \"source_test_label_loss\": 0.439026802778244, \"target_test_label_accuracy\": 0.5989529472595657, \"target_test_label_loss\": 15.072488784790039, \"source_val_label_accuracy\": 0.840234375, \"source_val_label_loss\": 0.44400086998939514, \"target_val_label_accuracy\": 0.5999802215189873, \"target_val_label_loss\": 15.325064659118652, \"total_epochs_trained\": 6, \"total_experiment_time_secs\": 1606.897023677826, \"confusion\": {\"ORACLE.run150\": {\"7\": {\"7\": 195, \"5\": 8, \"13\": 28, \"10\": 4, \"6\": 5}, \"10\": {\"10\": 237, \"8\": 1, \"0\": 2}, \"0\": {\"0\": 217, \"2\": 18, \"10\": 5}, \"11\": {\"11\": 229, \"15\": 9, \"9\": 2}, \"2\": {\"2\": 228, \"0\": 12}, \"14\": {\"14\": 239, \"11\": 1}, \"9\": {\"9\": 226, \"11\": 11, \"12\": 3}, \"13\": {\"7\": 15, \"13\": 201, \"5\": 10, \"10\": 3, \"6\": 9, \"0\": 1, \"4\": 1}, \"8\": {\"8\": 238, \"10\": 2}, \"15\": {\"15\": 215, \"1\": 17, \"4\": 6, \"6\": 1, \"11\": 1}, \"4\": {\"4\": 143, \"5\": 38, \"15\": 17, \"1\": 29, \"13\": 4, \"6\": 4, \"7\": 2, \"11\": 3}, \"5\": {\"4\": 30, \"5\": 146, \"7\": 18, \"6\": 2, \"13\": 33, \"1\": 9, \"15\": 1, \"10\": 1}, \"3\": {\"3\": 239, \"8\": 1}, \"1\": {\"1\": 173, \"4\": 26, \"15\": 29, \"13\": 1, \"5\": 4, \"6\": 6, \"11\": 1}, \"6\": {\"1\": 3, \"6\": 225, \"13\": 7, \"7\": 2, \"4\": 2, \"5\": 1}, \"12\": {\"12\": 232, \"11\": 5, \"14\": 1, \"9\": 2}}, \"ORACLE.run114\": {\"14\": {\"14\": 218, \"2\": 17, \"13\": 5}, \"6\": {\"6\": 180, \"13\": 52, \"2\": 5, \"14\": 3}, \"5\": {\"4\": 28, \"5\": 186, \"2\": 8, \"1\": 17, \"3\": 1}, \"15\": {\"15\": 240}, \"11\": {\"11\": 227, \"9\": 13}, \"8\": {\"8\": 240}, \"12\": {\"12\": 240}, \"1\": {\"1\": 227, \"5\": 12, \"4\": 1}, \"2\": {\"2\": 146, \"14\": 41, \"13\": 8, \"4\": 3, \"3\": 6, \"6\": 13, \"5\": 23}, \"13\": {\"13\": 115, \"6\": 82, \"4\": 2, \"2\": 15, \"14\": 24, \"5\": 2}, \"3\": {\"3\": 234, \"2\": 2, \"4\": 3, \"14\": 1}, \"0\": {\"0\": 236, \"11\": 1, \"14\": 1, \"3\": 1, \"10\": 1}, \"9\": {\"9\": 240}, \"4\": {\"4\": 209, \"5\": 22, \"3\": 5, \"1\": 4}, \"7\": {\"7\": 240}, \"10\": {\"10\": 240}}, \"ORACLE.run132\": {\"4\": {\"4\": 193, \"5\": 9, \"13\": 3, \"2\": 24, \"7\": 11}, \"14\": {\"14\": 147, \"11\": 66, \"7\": 8, \"0\": 15, \"13\": 1, \"8\": 1, \"5\": 2}, \"5\": {\"5\": 130, \"7\": 36, \"4\": 14, \"13\": 38, \"2\": 2, \"11\": 3, \"3\": 9, \"8\": 3, \"14\": 1, \"0\": 4}, \"10\": {\"10\": 240}, \"13\": {\"13\": 172, \"4\": 10, \"14\": 1, \"5\": 23, \"3\": 13, \"8\": 10, \"7\": 8, \"0\": 3}, \"9\": {\"9\": 240}, \"6\": {\"6\": 240}, \"3\": {\"3\": 233, \"8\": 2, \"11\": 1, \"13\": 4}, \"15\": {\"15\": 240}, \"7\": {\"7\": 172, \"5\": 26, \"13\": 5, \"4\": 17, \"2\": 6, \"11\": 3, \"14\": 9, \"0\": 2}, \"12\": {\"12\": 240}, \"8\": {\"8\": 206, \"13\": 18, \"0\": 9, \"14\": 2, \"5\": 3, \"3\": 2}, \"11\": {\"11\": 198, \"14\": 42}, \"2\": {\"2\": 198, \"4\": 38, \"5\": 1, \"7\": 3}, \"1\": {\"1\": 239, \"10\": 1}, \"0\": {\"0\": 204, \"8\": 18, \"13\": 4, \"14\": 7, \"7\": 5, \"4\": 2}}, \"ORACLE.run144\": {\"8\": {\"8\": 155, \"0\": 79, \"5\": 4, \"15\": 2}, \"11\": {\"11\": 237, \"13\": 3}, \"14\": {\"14\": 176, \"4\": 58, \"5\": 1, \"15\": 5}, \"10\": {\"10\": 199, \"2\": 14, \"1\": 16, \"12\": 11}, \"3\": {\"3\": 230, \"1\": 7, \"12\": 3}, \"15\": {\"15\": 200, \"8\": 3, \"0\": 18, \"14\": 16, \"5\": 3}, \"2\": {\"2\": 200, \"7\": 31, \"10\": 8, \"3\": 1}, \"12\": {\"12\": 210, \"1\": 25, \"10\": 5}, \"4\": {\"14\": 68, \"4\": 172}, \"1\": {\"1\": 155, \"12\": 50, \"10\": 16, \"3\": 12, \"2\": 7}, \"0\": {\"0\": 170, \"15\": 11, \"8\": 56, \"5\": 3}, \"9\": {\"6\": 12, \"9\": 137, \"7\": 70, \"13\": 21}, \"5\": {\"5\": 203, \"0\": 15, \"14\": 12, \"8\": 3, \"15\": 7}, \"6\": {\"6\": 188, \"13\": 34, \"9\": 16, \"7\": 2}, \"7\": {\"7\": 173, \"6\": 3, \"2\": 26, \"9\": 36, \"13\": 1, \"1\": 1}, \"13\": {\"13\": 160, \"9\": 30, \"6\": 46, \"11\": 2, \"4\": 1, \"7\": 1}}, \"ORACLE.run18\": {\"13\": {\"13\": 121, \"0\": 47, \"10\": 24, \"4\": 28, \"14\": 11, \"6\": 7, \"7\": 2}, \"3\": {\"3\": 239, \"2\": 1}, \"15\": {\"12\": 29, \"15\": 211}, \"4\": {\"4\": 199, \"6\": 10, \"13\": 21, \"14\": 10}, \"7\": {\"7\": 204, \"6\": 35, \"0\": 1}, \"2\": {\"2\": 229, \"3\": 7, \"7\": 4}, \"1\": {\"1\": 236, \"14\": 3, \"11\": 1}, \"0\": {\"0\": 221, \"13\": 17, \"10\": 1, \"6\": 1}, \"12\": {\"15\": 61, \"12\": 173, \"3\": 4, \"8\": 2}, \"6\": {\"6\": 193, \"7\": 28, \"4\": 14, \"13\": 5}, \"11\": {\"11\": 230, \"1\": 10}, \"9\": {\"9\": 240}, \"5\": {\"5\": 230, \"1\": 3, \"10\": 3, \"14\": 4}, \"10\": {\"10\": 220, \"13\": 11, \"5\": 1, \"14\": 7, \"4\": 1}, \"14\": {\"14\": 188, \"10\": 17, \"4\": 26, \"13\": 5, \"1\": 4}, \"8\": {\"8\": 237, \"15\": 3}}, \"ORACLE.run120\": {\"6\": {\"6\": 230, \"14\": 9, \"8\": 1}, \"11\": {\"11\": 240}, \"5\": {\"5\": 201, \"0\": 22, \"15\": 13, \"12\": 3, \"4\": 1}, \"14\": {\"14\": 229, \"10\": 2, \"6\": 7, \"8\": 2}, \"2\": {\"2\": 168, \"9\": 45, \"12\": 8, \"3\": 7, \"13\": 3, \"7\": 7, \"1\": 2}, \"7\": {\"7\": 226, \"2\": 12, \"8\": 1, \"3\": 1}, \"3\": {\"3\": 153, \"2\": 13, \"12\": 44, \"9\": 24, \"7\": 2, \"4\": 3, \"5\": 1}, \"4\": {\"4\": 236, \"3\": 1, \"8\": 3}, \"9\": {\"9\": 169, \"12\": 7, \"2\": 33, \"3\": 31}, \"12\": {\"12\": 139, \"3\": 37, \"1\": 37, \"5\": 3, \"9\": 13, \"2\": 11}, \"0\": {\"5\": 34, \"0\": 190, \"15\": 16}, \"10\": {\"10\": 240}, \"8\": {\"8\": 232, \"14\": 1, \"4\": 7}, \"13\": {\"13\": 237, \"2\": 3}, \"1\": {\"1\": 178, \"12\": 36, \"15\": 18, \"5\": 5, \"2\": 2, \"3\": 1}, \"15\": {\"13\": 3, \"15\": 204, \"5\": 13, \"1\": 13, \"0\": 6, \"12\": 1}}, \"ORACLE.run138\": {\"3\": {\"3\": 234, \"9\": 3, \"5\": 1, \"0\": 2}, \"8\": {\"5\": 29, \"8\": 185, \"0\": 11, \"7\": 9, \"15\": 3, \"10\": 3}, \"0\": {\"0\": 158, \"7\": 23, \"10\": 5, \"8\": 39, \"5\": 5, \"3\": 10}, \"2\": {\"2\": 226, \"14\": 10, \"13\": 4}, \"4\": {\"4\": 239, \"12\": 1}, \"7\": {\"7\": 222, \"5\": 7, \"0\": 4, \"8\": 6, \"10\": 1}, \"12\": {\"12\": 238, \"4\": 2}, \"6\": {\"6\": 231, \"9\": 8, \"5\": 1}, \"15\": {\"15\": 196, \"13\": 15, \"1\": 23, \"10\": 1, \"5\": 2, \"8\": 3}, \"11\": {\"11\": 225, \"14\": 13, \"0\": 1, \"4\": 1}, \"9\": {\"6\": 28, \"9\": 211, \"3\": 1}, \"14\": {\"14\": 238, \"11\": 1, \"2\": 1}, \"10\": {\"10\": 222, \"0\": 2, \"13\": 7, \"7\": 5, \"14\": 1, \"8\": 2, \"4\": 1}, \"5\": {\"5\": 134, \"8\": 45, \"7\": 36, \"6\": 9, \"15\": 8, \"0\": 3, \"9\": 4, \"13\": 1}, \"1\": {\"1\": 237, \"15\": 3}, \"13\": {\"10\": 5, \"13\": 201, \"8\": 1, \"15\": 21, \"1\": 1, \"2\": 7, \"5\": 2, \"0\": 2}}, \"ORACLE.run126\": {\"5\": {\"5\": 200, \"13\": 21, \"2\": 12, \"9\": 3, \"15\": 2, \"3\": 2}, \"8\": {\"4\": 18, \"0\": 15, \"8\": 142, \"10\": 44, \"15\": 7, \"7\": 13, \"2\": 1}, \"4\": {\"14\": 63, \"0\": 23, \"4\": 127, \"8\": 10, \"1\": 4, \"10\": 7, \"7\": 6}, \"12\": {\"12\": 240}, \"6\": {\"6\": 208, \"15\": 4, \"10\": 10, \"9\": 15, \"0\": 3}, \"7\": {\"7\": 191, \"2\": 10, \"8\": 7, \"3\": 21, \"4\": 8, \"1\": 1, \"14\": 1, \"0\": 1}, \"10\": {\"0\": 60, \"10\": 109, \"14\": 13, \"8\": 36, \"15\": 1, \"4\": 12, \"6\": 8, \"9\": 1}, \"0\": {\"0\": 105, \"4\": 25, \"14\": 27, \"10\": 62, \"8\": 19, \"7\": 2}, \"15\": {\"15\": 153, \"9\": 66, \"6\": 10, \"10\": 1, \"7\": 1, \"13\": 3, \"5\": 2, \"2\": 1, \"8\": 3}, \"9\": {\"9\": 153, \"15\": 58, \"6\": 19, \"10\": 2, \"8\": 4, \"0\": 1, \"13\": 2, \"5\": 1}, \"11\": {\"11\": 240}, \"14\": {\"4\": 57, \"14\": 135, \"7\": 1, \"0\": 30, \"8\": 3, \"1\": 12, \"10\": 2}, \"2\": {\"2\": 118, \"3\": 75, \"15\": 13, \"7\": 11, \"8\": 4, \"5\": 17, \"13\": 1, \"9\": 1}, \"13\": {\"13\": 185, \"5\": 48, \"2\": 1, \"9\": 3, \"15\": 3}, \"3\": {\"3\": 190, \"2\": 41, \"7\": 9}, \"1\": {\"14\": 13, \"1\": 218, \"4\": 9}}, \"Wisig_3\": {\"99\": {\"99\": 25, \"86\": 3, \"25\": 1, \"128\": 1, \"127\": 2, \"105\": 1, \"97\": 1, \"3\": 1, \"71\": 1}, \"8\": {\"8\": 59, \"98\": 15, \"124\": 3, \"19\": 1, \"72\": 2, \"4\": 1, \"10\": 4, \"71\": 1, \"127\": 9, \"7\": 5, \"12\": 9, \"111\": 4, \"77\": 1, \"128\": 1, \"3\": 3, \"52\": 1, \"30\": 3, \"73\": 1, \"27\": 1}, \"65\": {\"18\": 1, \"65\": 8, \"48\": 1, \"7\": 2}, \"117\": {\"117\": 97, \"113\": 1, \"21\": 1, \"26\": 8, \"39\": 3, \"126\": 1, \"121\": 1}, \"18\": {\"18\": 115, \"113\": 1, \"39\": 4, \"81\": 2, \"11\": 1, \"117\": 1}, \"39\": {\"117\": 8, \"39\": 57, \"23\": 1, \"2\": 1, \"126\": 4, \"21\": 4, \"67\": 2, \"109\": 3, \"26\": 5, \"11\": 2, \"18\": 14, \"113\": 3, \"118\": 1, \"64\": 1, \"69\": 1, \"102\": 1}, \"102\": {\"11\": 5, \"102\": 106, \"16\": 5, \"118\": 4, \"33\": 2, \"69\": 1, \"109\": 1}, \"76\": {\"11\": 2, \"76\": 10, \"33\": 3, \"32\": 1}, \"101\": {\"101\": 29, \"58\": 1, \"59\": 2, \"8\": 1, \"73\": 3, \"12\": 3, \"111\": 3, \"18\": 1, \"37\": 2, \"51\": 2, \"117\": 1, \"30\": 4}, \"57\": {\"57\": 20}, \"86\": {\"86\": 24, \"99\": 1, \"110\": 2, \"26\": 1}, \"11\": {\"102\": 13, \"11\": 47, \"120\": 2, \"109\": 8, \"107\": 2, \"69\": 8, \"14\": 2, \"80\": 2, \"93\": 9, \"62\": 4, \"87\": 1, \"33\": 6, \"118\": 7, \"84\": 3, \"16\": 5, \"90\": 3, \"113\": 5, \"26\": 2, \"43\": 2, \"31\": 1}, \"98\": {\"8\": 19, \"98\": 64, \"68\": 4, \"7\": 7, \"95\": 4, \"12\": 7, \"34\": 2, \"0\": 4, \"107\": 1, \"124\": 4, \"127\": 4, \"112\": 2, \"72\": 2, \"3\": 1, \"90\": 1, \"94\": 1, \"111\": 1}, \"42\": {\"98\": 1, \"101\": 1, \"15\": 3, \"71\": 3, \"127\": 2, \"42\": 6, \"106\": 2, \"97\": 1, \"19\": 1, \"85\": 1, \"83\": 1, \"49\": 1, \"51\": 1, \"86\": 1, \"3\": 1, \"4\": 1, \"5\": 1}, \"47\": {\"42\": 1, \"47\": 10, \"71\": 1}, \"49\": {\"99\": 1, \"76\": 1, \"24\": 1, \"35\": 1, \"38\": 1, \"87\": 2, \"49\": 3, \"127\": 3, \"71\": 1, \"41\": 1, \"50\": 1, \"114\": 1, \"51\": 1, \"111\": 1, \"104\": 1, \"7\": 1, \"65\": 1, \"42\": 1, \"88\": 1}, \"111\": {\"111\": 111, \"73\": 2, \"37\": 1, \"106\": 2, \"0\": 2, \"12\": 1, \"15\": 4, \"94\": 2, \"30\": 2, \"26\": 1, \"97\": 1, \"98\": 2, \"8\": 1}, \"36\": {\"36\": 60, \"51\": 1, \"24\": 2, \"94\": 9, \"101\": 1, \"106\": 8, \"30\": 2, \"0\": 2, \"15\": 6, \"111\": 11, \"98\": 1, \"127\": 1, \"125\": 4, \"75\": 2, \"73\": 1, \"27\": 5}, \"124\": {\"124\": 81, \"11\": 1, \"110\": 1, \"108\": 5, \"5\": 5, \"98\": 1, \"3\": 5, \"12\": 1, \"47\": 1, \"71\": 1, \"93\": 1, \"7\": 2, \"125\": 1}, \"122\": {\"92\": 2, \"110\": 1, \"74\": 1, \"122\": 19, \"61\": 1, \"90\": 5, \"34\": 3, \"71\": 1, \"1\": 3, \"114\": 4, \"129\": 3, \"40\": 1, \"109\": 1, \"18\": 2, \"107\": 2, \"60\": 1, \"9\": 1, \"55\": 1, \"62\": 2, \"85\": 2, \"84\": 1, \"126\": 1, \"5\": 1, \"26\": 1}, \"93\": {\"45\": 2, \"93\": 71, \"33\": 20, \"92\": 1, \"11\": 7, \"62\": 2, \"102\": 5, \"84\": 5, \"16\": 7, \"122\": 1, \"87\": 2, \"107\": 6, \"109\": 2, \"80\": 1, \"69\": 4, \"89\": 1, \"113\": 2, \"88\": 1, \"14\": 1, \"90\": 1}, \"89\": {\"26\": 3, \"89\": 15, \"69\": 3, \"96\": 1, \"102\": 4, \"13\": 1, \"113\": 1}, \"51\": {\"51\": 14, \"68\": 2}, \"73\": {\"73\": 32, \"36\": 1, \"15\": 1, \"30\": 3, \"101\": 1, \"0\": 1, \"21\": 1}, \"45\": {\"93\": 1, \"45\": 11, \"107\": 2, \"29\": 1, \"44\": 1}, \"5\": {\"5\": 76, \"18\": 2, \"124\": 4, \"71\": 9, \"4\": 4, \"129\": 1, \"105\": 2, \"113\": 2, \"88\": 1, \"126\": 1, \"42\": 1, \"49\": 1, \"1\": 1, \"114\": 1, \"108\": 3, \"127\": 1, \"3\": 2}, \"69\": {\"69\": 69, \"16\": 1, \"102\": 5, \"18\": 1, \"11\": 1, \"118\": 3, \"126\": 1, \"43\": 1, \"90\": 2}, \"26\": {\"26\": 103, \"117\": 9, \"2\": 3, \"113\": 7, \"67\": 1, \"118\": 3, \"39\": 4}, \"1\": {\"1\": 76, \"114\": 9, \"105\": 4, \"22\": 1, \"122\": 1, \"90\": 2, \"76\": 1, \"29\": 1, \"110\": 5, \"60\": 1, \"86\": 2, \"44\": 2, \"39\": 1, \"118\": 1, \"5\": 1}, \"92\": {\"69\": 2, \"92\": 24, \"16\": 2, \"11\": 3, \"113\": 1}, \"96\": {\"2\": 1, \"96\": 10, \"117\": 2, \"119\": 1, \"26\": 3, \"113\": 3}, \"85\": {\"85\": 29, \"1\": 1, \"108\": 1, \"114\": 1, \"129\": 2, \"71\": 1, \"3\": 1}, \"114\": {\"1\": 14, \"114\": 89, \"110\": 6, \"104\": 1, \"49\": 1, \"55\": 2, \"16\": 1, \"88\": 1, \"5\": 2, \"87\": 1, \"105\": 3, \"122\": 1, \"4\": 2, \"3\": 1, \"108\": 1}, \"50\": {\"50\": 11, \"29\": 1, \"44\": 1, \"115\": 1, \"107\": 1, \"40\": 1}, \"81\": {\"81\": 31, \"18\": 1}, \"2\": {\"2\": 18, \"33\": 1, \"26\": 1, \"96\": 1, \"39\": 4, \"117\": 3}, \"33\": {\"33\": 122, \"16\": 3, \"69\": 4, \"93\": 10, \"84\": 1, \"82\": 3, \"26\": 1, \"11\": 1, \"109\": 1}, \"31\": {\"33\": 1, \"31\": 15, \"16\": 1, \"118\": 1, \"14\": 1, \"82\": 1}, \"90\": {\"50\": 1, \"90\": 89, \"93\": 3, \"84\": 5, \"14\": 3, \"87\": 4, \"11\": 1, \"107\": 2, \"40\": 2, \"26\": 1, \"115\": 1, \"29\": 1, \"33\": 1, \"69\": 1, \"109\": 1, \"88\": 1, \"62\": 1}, \"17\": {\"86\": 1, \"91\": 1, \"120\": 2, \"43\": 3, \"17\": 2, \"113\": 2, \"105\": 1, \"69\": 1, \"99\": 1, \"21\": 1, \"101\": 1}, \"116\": {\"96\": 1, \"116\": 15, \"78\": 1, \"69\": 2, \"33\": 1, \"62\": 1, \"43\": 1, \"113\": 1, \"40\": 1, \"92\": 1, \"89\": 1, \"82\": 2}, \"91\": {\"91\": 14, \"68\": 2, \"12\": 3, \"34\": 1, \"7\": 1, \"98\": 1, \"95\": 1, \"31\": 1}, \"120\": {\"120\": 20}, \"128\": {\"74\": 2, \"71\": 1, \"128\": 10, \"127\": 3, \"87\": 1, \"48\": 1, \"22\": 1, \"1\": 2, \"40\": 1, \"29\": 1, \"55\": 2, \"28\": 1, \"91\": 1, \"99\": 1, \"32\": 1, \"108\": 1, \"10\": 1, \"70\": 1}, \"78\": {\"120\": 1, \"17\": 1, \"78\": 5, \"40\": 1, \"113\": 3, \"74\": 1, \"32\": 2, \"64\": 1, \"39\": 1}, \"58\": {\"58\": 13, \"30\": 2, \"35\": 1}, \"23\": {\"74\": 1, \"17\": 3, \"24\": 2, \"39\": 1, \"42\": 1, \"19\": 1, \"91\": 1, \"117\": 3, \"56\": 1, \"126\": 4, \"81\": 1, \"109\": 1, \"127\": 2, \"123\": 2, \"13\": 1, \"105\": 1, \"98\": 1, \"2\": 1, \"7\": 1, \"114\": 1, \"101\": 1, \"113\": 1}, \"15\": {\"97\": 2, \"15\": 55, \"6\": 1, \"24\": 2, \"106\": 5, \"123\": 1, \"125\": 6, \"72\": 3, \"12\": 6, \"36\": 4, \"30\": 3, \"94\": 4, \"27\": 2, \"111\": 4, \"73\": 3, \"101\": 2, \"26\": 1}, \"74\": {\"74\": 16}, \"34\": {\"44\": 3, \"97\": 3, \"20\": 1, \"59\": 1, \"51\": 1, \"34\": 4, \"101\": 1, \"6\": 5, \"60\": 1, \"106\": 2, \"84\": 1, \"22\": 2, \"117\": 1, \"15\": 2, \"110\": 1, \"62\": 1, \"129\": 1, \"30\": 1}, \"103\": {\"103\": 11, \"9\": 1, \"99\": 1, \"19\": 1, \"49\": 1, \"86\": 1}, \"106\": {\"106\": 67, \"42\": 2, \"27\": 5, \"0\": 4, \"125\": 1, \"30\": 4, \"36\": 5, \"97\": 2, \"15\": 6, \"73\": 1, \"111\": 3}, \"44\": {\"44\": 58, \"55\": 1, \"120\": 1, \"64\": 1, \"34\": 1, \"87\": 2, \"107\": 2, \"40\": 1, \"80\": 1, \"118\": 1, \"1\": 1, \"113\": 1, \"88\": 1}, \"9\": {\"103\": 1, \"128\": 1, \"105\": 4, \"9\": 19, \"101\": 1, \"127\": 1, \"57\": 1, \"120\": 1, \"86\": 1, \"55\": 1, \"108\": 1}, \"97\": {\"97\": 16, \"106\": 1, \"15\": 1, \"42\": 1, \"37\": 1}, \"123\": {\"123\": 13, \"106\": 1, \"18\": 1, \"83\": 1}, \"6\": {\"6\": 25, \"98\": 1, \"0\": 1, \"90\": 1, \"12\": 2, \"125\": 1, \"106\": 1}, \"68\": {\"68\": 15, \"77\": 1}, \"24\": {\"30\": 2, \"6\": 1, \"56\": 1, \"24\": 13, \"15\": 3, \"7\": 1, \"12\": 3, \"71\": 1, \"72\": 2, \"83\": 1, \"127\": 2, \"95\": 1, \"94\": 4, \"98\": 2, \"73\": 2, \"36\": 3, \"97\": 1, \"37\": 1, \"25\": 1, \"35\": 1, \"91\": 1, \"8\": 1}, \"21\": {\"21\": 27, \"39\": 3, \"11\": 2, \"117\": 1, \"41\": 1, \"121\": 1, \"81\": 1, \"113\": 2, \"109\": 2, \"126\": 1, \"43\": 1, \"31\": 1, \"2\": 1, \"15\": 1, \"18\": 1, \"26\": 1, \"16\": 1}, \"83\": {\"83\": 18, \"118\": 1, \"12\": 2, \"61\": 1, \"49\": 1, \"51\": 1}, \"60\": {\"60\": 15, \"38\": 2, \"87\": 1, \"88\": 3, \"44\": 2, \"66\": 1, \"74\": 1, \"28\": 1, \"109\": 1, \"62\": 1}, \"87\": {\"60\": 1, \"87\": 54, \"20\": 1, \"88\": 4, \"14\": 2, \"62\": 6, \"44\": 4, \"84\": 4, \"40\": 10, \"43\": 1, \"105\": 1, \"109\": 6, \"16\": 1, \"1\": 2, \"90\": 7, \"107\": 7, \"114\": 2, \"11\": 2, \"28\": 1, \"122\": 2, \"110\": 1, \"93\": 1}, \"30\": {\"15\": 10, \"98\": 3, \"75\": 1, \"72\": 2, \"99\": 1, \"12\": 6, \"18\": 1, \"30\": 25, \"106\": 3, \"73\": 2, \"39\": 1, \"94\": 4, \"7\": 4, \"27\": 1, \"8\": 5, \"111\": 5, \"17\": 1, \"101\": 3, \"6\": 1, \"26\": 1, \"125\": 3, \"71\": 1}, \"43\": {\"21\": 3, \"115\": 1, \"118\": 2, \"43\": 29, \"76\": 1, \"96\": 1, \"31\": 1, \"16\": 2, \"11\": 3, \"102\": 1, \"33\": 1, \"93\": 3, \"69\": 2, \"120\": 2, \"113\": 1, \"109\": 3}, \"115\": {\"115\": 11, \"84\": 1, \"43\": 1, \"1\": 1, \"90\": 2}, \"40\": {\"40\": 88, \"100\": 1, \"62\": 2, \"122\": 2, \"87\": 8, \"32\": 1, \"44\": 1, \"107\": 6, \"126\": 1, \"114\": 2, \"88\": 3, \"80\": 1, \"78\": 1, \"50\": 2, \"84\": 1}, \"112\": {\"112\": 7, \"47\": 1, \"83\": 2, \"59\": 1, \"98\": 1, \"68\": 2, \"12\": 1, \"97\": 1}, \"66\": {\"66\": 14, \"34\": 1, \"55\": 1}, \"110\": {\"3\": 5, \"110\": 30, \"124\": 1, \"50\": 1, \"122\": 3, \"129\": 1, \"34\": 1, \"114\": 5, \"28\": 2, \"19\": 4, \"46\": 1, \"4\": 6, \"5\": 3, \"70\": 3, \"85\": 1, \"90\": 3, \"86\": 1, \"73\": 1, \"89\": 1, \"107\": 2, \"87\": 1, \"128\": 1, \"71\": 3, \"22\": 2, \"60\": 1, \"62\": 2, \"49\": 1, \"43\": 1, \"1\": 2, \"105\": 2, \"111\": 1}, \"3\": {\"66\": 1, \"3\": 77, \"127\": 9, \"98\": 1, \"108\": 7, \"111\": 3, \"106\": 2, \"10\": 1, \"124\": 2, \"126\": 1, \"5\": 2, \"7\": 2, \"19\": 1, \"12\": 1, \"70\": 1, \"71\": 2, \"8\": 1}, \"20\": {\"20\": 8, \"100\": 2, \"38\": 1, \"60\": 2, \"62\": 1, \"107\": 1, \"33\": 1}, \"28\": {\"28\": 14, \"128\": 1, \"22\": 1}, \"84\": {\"20\": 1, \"84\": 60, \"33\": 3, \"115\": 1, \"29\": 3, \"126\": 2, \"40\": 3, \"14\": 8, \"109\": 3, \"107\": 9, \"87\": 4, \"102\": 1, \"90\": 2, \"62\": 2, \"93\": 3, \"88\": 2, \"39\": 1}, \"79\": {\"20\": 1, \"79\": 8, \"84\": 1, \"33\": 1, \"118\": 1}, \"118\": {\"118\": 58, \"92\": 1, \"43\": 1, \"69\": 2, \"102\": 7, \"64\": 3, \"113\": 3, \"109\": 10, \"12\": 1, \"26\": 1, \"16\": 6, \"96\": 1, \"67\": 1, \"115\": 1, \"11\": 3, \"39\": 1}, \"56\": {\"77\": 2, \"36\": 1, \"56\": 6, \"46\": 1, \"7\": 1, \"75\": 1}, \"48\": {\"26\": 3, \"63\": 2, \"80\": 1, \"48\": 2, \"128\": 1, \"43\": 1, \"3\": 1, \"67\": 1, \"71\": 1, \"96\": 1, \"119\": 2}, \"77\": {\"77\": 15, \"10\": 1}, \"14\": {\"14\": 63, \"109\": 2, \"62\": 6, \"16\": 1, \"43\": 1, \"87\": 1, \"33\": 3, \"84\": 2, \"93\": 1}, \"64\": {\"64\": 19, \"96\": 1}, \"67\": {\"67\": 14, \"39\": 1, \"122\": 1}, \"62\": {\"62\": 111, \"87\": 2, \"90\": 4, \"84\": 1, \"11\": 3, \"93\": 1, \"118\": 1, \"109\": 1}, \"75\": {\"75\": 14, \"97\": 1, \"15\": 1}, \"63\": {\"63\": 12, \"109\": 1, \"101\": 1, \"116\": 1, \"123\": 1}, \"7\": {\"7\": 94, \"56\": 1, \"12\": 2, \"8\": 4, \"10\": 1, \"105\": 1, \"98\": 2, \"41\": 1, \"91\": 1, \"3\": 2, \"127\": 3}, \"125\": {\"125\": 80, \"106\": 2, \"94\": 5, \"27\": 2, \"30\": 1, \"18\": 1, \"36\": 6, \"15\": 2, \"111\": 1, \"118\": 1, \"75\": 1, \"62\": 1, \"6\": 1}, \"37\": {\"37\": 16}, \"121\": {\"121\": 17, \"39\": 1, \"13\": 2, \"27\": 1, \"82\": 1, \"26\": 1, \"113\": 1, \"2\": 2, \"21\": 2, \"117\": 2, \"126\": 2}, \"16\": {\"16\": 55, \"33\": 10, \"102\": 14, \"11\": 7, \"69\": 8, \"109\": 2, \"93\": 3, \"118\": 1, \"113\": 1, \"116\": 1, \"117\": 1, \"18\": 1}, \"35\": {\"24\": 1, \"35\": 7, \"95\": 1, \"0\": 1, \"68\": 1, \"114\": 1}, \"32\": {\"76\": 1, \"32\": 19, \"78\": 1, \"62\": 2, \"87\": 2, \"16\": 2, \"50\": 1, \"92\": 1, \"102\": 1, \"88\": 1, \"11\": 1}, \"46\": {\"46\": 12, \"23\": 1, \"5\": 1, \"99\": 1, \"1\": 1}, \"70\": {\"70\": 9, \"128\": 3, \"115\": 2, \"127\": 3, \"3\": 3, \"124\": 2, \"66\": 1, \"62\": 6, \"87\": 3, \"108\": 4, \"41\": 2, \"14\": 1, \"4\": 3, \"8\": 1, \"88\": 2, \"98\": 1, \"114\": 1, \"40\": 2, \"113\": 1, \"104\": 1, \"46\": 1, \"67\": 1, \"71\": 3, \"11\": 1, \"60\": 1, \"68\": 1, \"122\": 1, \"81\": 1, \"7\": 1, \"5\": 5, \"84\": 1, \"19\": 1, \"12\": 1, \"90\": 2}, \"129\": {\"129\": 9, \"74\": 1, \"122\": 1, \"82\": 1, \"100\": 1, \"114\": 3, \"87\": 1, \"1\": 1, \"5\": 3, \"11\": 1, \"4\": 2, \"85\": 2, \"62\": 1, \"102\": 1, \"107\": 2, \"105\": 1, \"69\": 1}, \"95\": {\"95\": 28, \"64\": 1, \"72\": 1, \"0\": 2}, \"72\": {\"72\": 24, \"98\": 1, \"12\": 1, \"24\": 1, \"8\": 1}, \"19\": {\"129\": 1, \"19\": 14, \"104\": 1, \"91\": 1, \"127\": 3, \"72\": 2, \"86\": 1, \"46\": 1, \"77\": 1, \"34\": 1, \"10\": 1, \"110\": 1, \"114\": 1, \"71\": 2, \"70\": 1}, \"52\": {\"52\": 11, \"91\": 1, \"98\": 1, \"15\": 1, \"73\": 1, \"8\": 1}, \"100\": {\"100\": 6, \"40\": 3, \"1\": 1, \"44\": 1, \"84\": 1, \"69\": 1, \"107\": 2, \"70\": 1}, \"104\": {\"40\": 1, \"104\": 7, \"66\": 2, \"114\": 4, \"105\": 1, \"5\": 1}, \"59\": {\"97\": 2, \"59\": 9, \"37\": 1}, \"109\": {\"43\": 6, \"109\": 90, \"2\": 1, \"118\": 4, \"69\": 5, \"84\": 1, \"93\": 5, \"33\": 2, \"11\": 6, \"76\": 1, \"89\": 1, \"16\": 1, \"102\": 1, \"113\": 1, \"62\": 1}, \"88\": {\"96\": 1, \"110\": 4, \"11\": 5, \"78\": 1, \"114\": 5, \"70\": 4, \"88\": 12, \"12\": 1, \"120\": 2, \"5\": 6, \"121\": 2, \"38\": 1, \"127\": 1, \"3\": 7, \"109\": 11, \"87\": 4, \"62\": 1, \"4\": 4, \"84\": 1, \"1\": 2, \"118\": 5, \"106\": 1, \"93\": 1, \"8\": 1, \"108\": 4, \"113\": 6, \"67\": 1, \"49\": 1, \"81\": 1, \"69\": 1, \"44\": 1, \"90\": 1, \"40\": 1, \"10\": 1, \"7\": 2, \"16\": 1, \"126\": 1, \"117\": 2, \"39\": 1}, \"27\": {\"27\": 44, \"106\": 7, \"49\": 1, \"68\": 1, \"6\": 2, \"24\": 4, \"124\": 1, \"125\": 2, \"111\": 5, \"85\": 1, \"21\": 1, \"36\": 4, \"98\": 5, \"94\": 5, \"117\": 1, \"30\": 2, \"15\": 1, \"26\": 1, \"25\": 1, \"37\": 1, \"10\": 1, \"126\": 1, \"3\": 1, \"0\": 1}, \"113\": {\"96\": 2, \"113\": 82, \"109\": 6, \"117\": 7, \"118\": 3, \"26\": 8, \"18\": 2, \"11\": 7, \"2\": 1, \"39\": 2}, \"105\": {\"105\": 102, \"70\": 3, \"92\": 1, \"110\": 4, \"88\": 1, \"85\": 1, \"48\": 1, \"4\": 2, \"60\": 1, \"114\": 2, \"9\": 1, \"55\": 1, \"128\": 1, \"84\": 1, \"10\": 2}, \"71\": {\"71\": 44, \"28\": 2, \"41\": 1, \"128\": 1, \"5\": 5, \"99\": 2, \"125\": 1, \"4\": 3, \"127\": 2, \"3\": 2, \"105\": 1, \"86\": 1, \"19\": 1, \"126\": 1, \"40\": 1}, \"108\": {\"41\": 2, \"108\": 33, \"30\": 1, \"71\": 5, \"105\": 7, \"85\": 1, \"124\": 10, \"127\": 6, \"11\": 1, \"110\": 3, \"114\": 2, \"3\": 11, \"73\": 1, \"4\": 8, \"7\": 3, \"1\": 1, \"5\": 10, \"90\": 1, \"8\": 3, \"10\": 3, \"9\": 3, \"35\": 1, \"98\": 5, \"44\": 1, \"88\": 1, \"109\": 1}, \"41\": {\"41\": 15, \"99\": 1}, \"80\": {\"80\": 13, \"31\": 1, \"33\": 1, \"92\": 1}, \"13\": {\"80\": 1, \"13\": 6, \"33\": 2, \"78\": 1, \"117\": 2, \"62\": 2, \"115\": 1, \"116\": 1}, \"55\": {\"108\": 1, \"55\": 15}, \"0\": {\"0\": 47, \"7\": 3, \"51\": 5, \"72\": 1, \"39\": 1, \"34\": 1, \"6\": 2, \"12\": 4, \"101\": 1, \"15\": 2, \"10\": 3, \"111\": 12, \"106\": 1, \"84\": 1, \"98\": 10, \"30\": 3, \"36\": 2, \"125\": 2, \"8\": 1, \"95\": 1, \"52\": 1, \"127\": 1, \"90\": 1}, \"25\": {\"25\": 16}, \"53\": {\"112\": 2, \"53\": 12, \"107\": 2, \"14\": 1, \"110\": 1, \"62\": 1, \"114\": 1}, \"61\": {\"61\": 16}, \"38\": {\"38\": 12, \"66\": 1, \"88\": 2, \"87\": 1}, \"127\": {\"127\": 99, \"49\": 1, \"113\": 1, \"3\": 11, \"5\": 2, \"10\": 2, \"7\": 3, \"126\": 2, \"42\": 1, \"71\": 1, \"128\": 1, \"4\": 2, \"98\": 1, \"18\": 1}, \"4\": {\"108\": 2, \"4\": 69, \"5\": 8, \"105\": 2, \"99\": 1, \"114\": 3, \"9\": 1, \"1\": 3, \"110\": 1, \"124\": 1, \"127\": 1, \"18\": 1, \"113\": 1, \"71\": 1, \"117\": 1}, \"12\": {\"68\": 2, \"12\": 65, \"30\": 1, \"98\": 7, \"95\": 2, \"127\": 3, \"8\": 10, \"124\": 1, \"7\": 4, \"111\": 4, \"52\": 1, \"91\": 1, \"128\": 1, \"42\": 1, \"0\": 1}, \"126\": {\"18\": 12, \"39\": 7, \"21\": 3, \"126\": 78, \"121\": 1, \"117\": 8, \"81\": 3, \"118\": 2, \"113\": 5, \"26\": 1, \"123\": 1, \"13\": 2, \"15\": 1}, \"29\": {\"29\": 14, \"84\": 3, \"107\": 3, \"50\": 1, \"31\": 1, \"14\": 1, \"32\": 1, \"62\": 1, \"87\": 2, \"93\": 1, \"109\": 1, \"100\": 1, \"44\": 1, \"115\": 1}, \"107\": {\"107\": 106, \"84\": 7, \"87\": 2, \"32\": 2, \"16\": 1, \"33\": 2, \"40\": 6, \"1\": 3, \"62\": 1, \"17\": 1, \"14\": 5}, \"82\": {\"82\": 23, \"45\": 1, \"100\": 1, \"79\": 1, \"33\": 2}, \"94\": {\"94\": 54, \"106\": 4, \"15\": 9, \"36\": 7, \"0\": 2, \"125\": 7, \"18\": 1}, \"54\": {\"54\": 16}, \"10\": {\"98\": 7, \"7\": 6, \"86\": 2, \"101\": 2, \"10\": 47, \"9\": 2, \"95\": 2, \"40\": 1, \"110\": 2, \"8\": 12, \"105\": 12, \"128\": 1, \"127\": 3, \"0\": 2, \"4\": 5, \"26\": 1, \"71\": 2, \"12\": 9, \"91\": 1, \"77\": 1, \"72\": 1, \"57\": 1, \"70\": 1, \"3\": 3, \"62\": 1, \"114\": 1}, \"22\": {\"22\": 14, \"38\": 1, \"28\": 1}, \"119\": {\"119\": 14, \"26\": 1, \"40\": 1}}, \"Wisig_2\": {\"73\": {\"40\": 1, \"73\": 12, \"115\": 2, \"129\": 2, \"107\": 3, \"23\": 1, \"42\": 1, \"96\": 1, \"66\": 1, \"71\": 2, \"95\": 2}, \"40\": {\"40\": 90, \"107\": 1, \"86\": 1, \"105\": 9, \"69\": 2, \"43\": 8, \"19\": 3, \"66\": 1, \"1\": 6, \"5\": 2, \"8\": 2, \"16\": 1, \"32\": 1, \"12\": 1, \"118\": 1, \"70\": 1, \"39\": 1, \"117\": 1}, \"99\": {\"99\": 22, \"21\": 1, \"26\": 2, \"88\": 2, \"18\": 2, \"16\": 1, \"39\": 2}, \"5\": {\"5\": 74, \"114\": 9, \"3\": 4, \"71\": 3, \"4\": 3, \"105\": 2, \"39\": 1, \"124\": 2, \"26\": 3, \"1\": 1, \"0\": 1, \"12\": 1, \"107\": 1, \"49\": 1, \"88\": 1, \"42\": 2, \"11\": 1, \"44\": 1, \"40\": 1}, \"108\": {\"53\": 1, \"128\": 1, \"108\": 54, \"59\": 1, \"23\": 1, \"12\": 6, \"107\": 1, \"4\": 3, \"27\": 1, \"111\": 7, \"0\": 2, \"98\": 8, \"7\": 8, \"127\": 3, \"8\": 4, \"114\": 6, \"122\": 5, \"24\": 3, \"5\": 1, \"11\": 2, \"15\": 2, \"106\": 2, \"30\": 2, \"36\": 1, \"54\": 1, \"124\": 1, \"105\": 1, \"3\": 4}, \"128\": {\"44\": 1, \"58\": 1, \"55\": 2, \"46\": 1, \"105\": 1, \"64\": 1, \"3\": 1, \"7\": 2, \"91\": 1, \"43\": 2, \"50\": 1, \"40\": 1, \"128\": 1, \"19\": 1, \"21\": 1, \"23\": 1, \"0\": 1, \"108\": 2, \"127\": 1, \"106\": 1}, \"89\": {\"89\": 26, \"92\": 2, \"99\": 1, \"16\": 1, \"31\": 1, \"126\": 1, \"60\": 1, \"81\": 1, \"87\": 1, \"82\": 1}, \"107\": {\"107\": 33, \"58\": 1, \"95\": 2, \"42\": 1, \"86\": 5, \"105\": 4, \"93\": 1, \"122\": 2, \"108\": 1, \"69\": 1, \"4\": 1, \"88\": 1, \"2\": 1, \"106\": 1, \"112\": 1, \"12\": 2, \"118\": 3, \"117\": 1, \"127\": 1, \"125\": 1}, \"2\": {\"99\": 1, \"2\": 25, \"113\": 1, \"117\": 2, \"89\": 2, \"97\": 1}, \"78\": {\"78\": 11, \"21\": 2, \"19\": 1, \"100\": 2, \"32\": 3, \"61\": 1, \"126\": 2, \"40\": 6, \"107\": 2, \"70\": 4, \"43\": 5, \"44\": 2, \"104\": 1, \"11\": 1, \"95\": 1, \"90\": 2, \"105\": 1, \"26\": 1}, \"85\": {\"73\": 2, \"95\": 1, \"85\": 17, \"47\": 1, \"43\": 1, \"40\": 1, \"72\": 1, \"124\": 1, \"28\": 1, \"44\": 1, \"13\": 1, \"46\": 1, \"75\": 1, \"50\": 1, \"42\": 1}, \"44\": {\"44\": 75, \"19\": 2, \"23\": 1, \"40\": 1, \"42\": 1, \"43\": 4, \"78\": 3, \"12\": 1, \"62\": 3, \"61\": 3, \"3\": 1, \"66\": 1, \"107\": 1, \"126\": 1, \"87\": 1, \"1\": 1}, \"58\": {\"58\": 15, \"15\": 2, \"6\": 2, \"51\": 1}, \"57\": {\"57\": 14, \"21\": 1, \"48\": 1, \"69\": 2, \"88\": 1, \"82\": 1}, \"41\": {\"41\": 17, \"13\": 1, \"91\": 1, \"11\": 1}, \"53\": {\"53\": 16}, \"14\": {\"119\": 2, \"14\": 27, \"90\": 1, \"70\": 1, \"69\": 1, \"62\": 5, \"21\": 1, \"89\": 1, \"87\": 1, \"76\": 1, \"50\": 1, \"43\": 2, \"26\": 1, \"99\": 1, \"88\": 1, \"18\": 1}, \"83\": {\"118\": 1, \"9\": 1, \"83\": 27, \"90\": 3, \"62\": 1, \"88\": 2, \"16\": 1, \"70\": 1, \"45\": 1, \"127\": 1, \"110\": 1}, \"119\": {\"119\": 20}, \"95\": {\"19\": 2, \"95\": 20, \"71\": 1, \"129\": 2, \"114\": 1, \"115\": 1, \"105\": 1, \"8\": 1, \"122\": 2, \"4\": 3, \"118\": 1, \"40\": 1}, \"28\": {\"28\": 15, \"95\": 1, \"97\": 1, \"1\": 1, \"85\": 2}, \"19\": {\"5\": 1, \"43\": 1, \"19\": 20, \"23\": 2, \"110\": 1, \"66\": 1, \"86\": 1, \"129\": 1}, \"69\": {\"14\": 2, \"69\": 110, \"82\": 2, \"16\": 4, \"102\": 4, \"26\": 1, \"117\": 1, \"13\": 1, \"88\": 1, \"93\": 1, \"18\": 2, \"39\": 1, \"109\": 2}, \"93\": {\"93\": 75, \"90\": 12, \"62\": 1, \"69\": 4, \"109\": 3, \"102\": 16, \"118\": 4, \"18\": 1, \"33\": 5, \"88\": 2, \"84\": 1, \"16\": 5, \"39\": 1, \"44\": 1, \"87\": 2, \"26\": 1}, \"9\": {\"9\": 31, \"36\": 1}, \"118\": {\"118\": 38, \"93\": 4, \"16\": 5, \"96\": 1, \"69\": 2, \"88\": 1, \"87\": 1, \"90\": 4, \"109\": 5, \"102\": 2, \"82\": 1, \"78\": 1, \"43\": 1, \"62\": 1, \"26\": 1}, \"43\": {\"118\": 3, \"19\": 1, \"62\": 11, \"90\": 10, \"40\": 4, \"128\": 1, \"81\": 1, \"114\": 2, \"86\": 1, \"1\": 11, \"71\": 3, \"43\": 32, \"107\": 2, \"5\": 4, \"78\": 1, \"88\": 3, \"2\": 1, \"105\": 5, \"3\": 3, \"126\": 4, \"87\": 1, \"122\": 1, \"70\": 5, \"85\": 1, \"109\": 2, \"83\": 1, \"7\": 1, \"44\": 1}, \"47\": {\"47\": 10, \"129\": 1, \"116\": 1}, \"125\": {\"125\": 115, \"9\": 2, \"15\": 8, \"36\": 5, \"94\": 5, \"51\": 1, \"58\": 1, \"27\": 4, \"101\": 2, \"18\": 1}, \"29\": {\"29\": 30, \"91\": 2}, \"122\": {\"122\": 43, \"95\": 3, \"71\": 4, \"55\": 1, \"112\": 2, \"66\": 1, \"4\": 3, \"41\": 1, \"40\": 6, \"10\": 3, \"107\": 4, \"114\": 9, \"44\": 2, \"3\": 4, \"62\": 1, \"105\": 7, \"24\": 1, \"8\": 8, \"7\": 6, \"11\": 2, \"70\": 2, \"5\": 4, \"30\": 1, \"127\": 1, \"39\": 1, \"124\": 1, \"38\": 1, \"58\": 1, \"34\": 1, \"126\": 2, \"73\": 1, \"110\": 1, \"29\": 1, \"108\": 1, \"12\": 3, \"18\": 2, \"102\": 1, \"87\": 1, \"90\": 1, \"43\": 1, \"98\": 1}, \"46\": {\"19\": 2, \"46\": 11, \"40\": 1, \"1\": 2}, \"86\": {\"122\": 1, \"86\": 20, \"105\": 3, \"107\": 1, \"110\": 1, \"19\": 2, \"43\": 1, \"4\": 2, \"104\": 1}, \"70\": {\"78\": 2, \"19\": 1, \"70\": 16, \"90\": 11, \"16\": 4, \"115\": 1, \"31\": 1, \"76\": 1, \"118\": 7, \"87\": 1, \"43\": 6, \"14\": 1, \"109\": 4, \"66\": 1, \"60\": 1, \"96\": 1, \"23\": 1, \"113\": 1, \"102\": 1, \"4\": 2, \"21\": 2, \"32\": 1, \"1\": 8, \"88\": 3, \"114\": 1, \"126\": 5, \"62\": 6, \"18\": 3, \"71\": 1, \"40\": 5, \"105\": 4, \"8\": 1, \"80\": 1, \"39\": 5, \"83\": 1, \"37\": 1, \"20\": 1, \"50\": 1, \"63\": 3, \"107\": 1, \"86\": 1, \"2\": 1, \"3\": 2, \"117\": 1, \"122\": 1}, \"51\": {\"51\": 13, \"38\": 1, \"94\": 2, \"27\": 1, \"52\": 1, \"58\": 1, \"16\": 1}, \"23\": {\"41\": 1, \"57\": 2, \"95\": 1, \"23\": 1, \"4\": 6, \"121\": 2, \"3\": 1, \"127\": 3, \"108\": 6, \"69\": 1, \"110\": 1, \"29\": 1, \"71\": 1, \"98\": 1, \"12\": 3, \"49\": 1, \"109\": 1, \"34\": 1, \"24\": 1, \"7\": 1, \"26\": 1, \"10\": 1, \"13\": 1, \"2\": 1, \"39\": 1, \"117\": 1, \"5\": 1, \"99\": 1}, \"121\": {\"21\": 1, \"57\": 1, \"121\": 23, \"113\": 2, \"23\": 1, \"99\": 1, \"2\": 1, \"48\": 1, \"65\": 2, \"26\": 1, \"117\": 1, \"18\": 1}, \"63\": {\"21\": 1, \"63\": 18, \"39\": 1}, \"102\": {\"102\": 112, \"16\": 3, \"93\": 4, \"39\": 1, \"88\": 1, \"69\": 1}, \"21\": {\"21\": 32, \"120\": 2, \"121\": 1, \"69\": 3, \"13\": 1, \"18\": 1, \"88\": 2, \"65\": 1, \"117\": 2, \"99\": 2, \"39\": 1}, \"55\": {\"55\": 13, \"19\": 1, \"118\": 1, \"66\": 1}, \"54\": {\"54\": 16, \"41\": 1, \"12\": 1, \"111\": 1, \"127\": 1}, \"6\": {\"6\": 24, \"94\": 1, \"15\": 2, \"51\": 2, \"75\": 1, \"97\": 2}, \"109\": {\"20\": 2, \"63\": 1, \"90\": 10, \"109\": 41, \"102\": 2, \"87\": 7, \"88\": 11, \"118\": 4, \"39\": 1, \"93\": 4, \"69\": 1, \"70\": 1, \"84\": 1, \"16\": 3, \"119\": 1, \"83\": 1, \"120\": 1, \"117\": 1, \"116\": 1, \"96\": 1, \"78\": 1, \"99\": 1, \"8\": 1, \"21\": 1, \"26\": 1}, \"64\": {\"121\": 1, \"64\": 11, \"87\": 1, \"100\": 1, \"62\": 1, \"1\": 1}, \"20\": {\"20\": 16}, \"98\": {\"54\": 1, \"35\": 1, \"98\": 61, \"34\": 1, \"49\": 1, \"121\": 1, \"0\": 5, \"12\": 6, \"24\": 3, \"111\": 9, \"127\": 7, \"30\": 8, \"7\": 2, \"91\": 1, \"88\": 1, \"108\": 3, \"106\": 2, \"69\": 1}, \"92\": {\"92\": 15, \"20\": 1, \"82\": 1, \"118\": 2, \"67\": 2, \"39\": 1, \"116\": 2, \"57\": 1, \"31\": 3}, \"35\": {\"35\": 4, \"128\": 1, \"97\": 1, \"123\": 1, \"111\": 2, \"91\": 3}, \"113\": {\"113\": 58, \"121\": 1, \"48\": 1, \"18\": 3, \"39\": 2, \"117\": 5, \"99\": 1, \"118\": 1}, \"71\": {\"95\": 1, \"122\": 4, \"71\": 59, \"129\": 3, \"121\": 1, \"4\": 6, \"37\": 1, \"18\": 2, \"5\": 3, \"32\": 1, \"114\": 6, \"107\": 1, \"7\": 1, \"12\": 1, \"11\": 1, \"117\": 1, \"104\": 1, \"110\": 2, \"105\": 1, \"24\": 1, \"87\": 1, \"3\": 2}, \"94\": {\"91\": 1, \"99\": 3, \"101\": 1, \"111\": 1, \"51\": 3, \"106\": 4, \"36\": 2, \"69\": 1, \"94\": 19, \"77\": 4, \"113\": 3, \"6\": 3, \"65\": 2, \"27\": 2, \"34\": 1, \"125\": 6, \"58\": 1, \"20\": 1, \"0\": 2, \"88\": 1, \"15\": 1, \"98\": 1, \"24\": 1}, \"52\": {\"91\": 3, \"52\": 11, \"111\": 1, \"77\": 1, \"103\": 2, \"26\": 1, \"12\": 1}, \"116\": {\"89\": 2, \"87\": 1, \"116\": 8, \"60\": 1, \"72\": 2, \"16\": 2, \"44\": 1, \"69\": 1, \"90\": 1, \"92\": 2, \"93\": 1, \"109\": 1, \"96\": 1, \"31\": 1, \"83\": 1, \"82\": 1, \"62\": 1}, \"87\": {\"64\": 3, \"87\": 23, \"83\": 3, \"118\": 5, \"33\": 16, \"70\": 1, \"113\": 2, \"90\": 8, \"67\": 2, \"69\": 2, \"102\": 1, \"93\": 2, \"18\": 4, \"117\": 2, \"84\": 8, \"126\": 2, \"1\": 2, \"16\": 1, \"109\": 5, \"88\": 5, \"26\": 1, \"37\": 1, \"89\": 2, \"116\": 1, \"119\": 1, \"63\": 1, \"39\": 1, \"78\": 1, \"43\": 3, \"44\": 3}, \"90\": {\"87\": 2, \"90\": 127, \"76\": 1, \"93\": 7, \"18\": 1, \"118\": 4, \"109\": 1, \"88\": 3, \"119\": 1, \"62\": 1}, \"91\": {\"122\": 1, \"91\": 17, \"103\": 1, \"29\": 3, \"111\": 1, \"25\": 1, \"54\": 2, \"12\": 2}, \"84\": {\"84\": 61, \"83\": 1, \"121\": 1, \"62\": 3, \"50\": 1, \"117\": 1, \"33\": 14, \"126\": 1, \"1\": 1, \"55\": 1, \"70\": 1, \"113\": 1, \"105\": 1, \"87\": 1, \"90\": 2, \"26\": 1}, \"24\": {\"90\": 1, \"122\": 3, \"36\": 5, \"111\": 6, \"50\": 1, \"24\": 10, \"95\": 2, \"6\": 1, \"25\": 2, \"125\": 12, \"65\": 1, \"124\": 3, \"129\": 1, \"93\": 1, \"4\": 1, \"27\": 2, \"15\": 9, \"39\": 2, \"70\": 1, \"109\": 1, \"43\": 6, \"30\": 1, \"101\": 8, \"106\": 5, \"18\": 2, \"108\": 2, \"127\": 2, \"56\": 1, \"23\": 1, \"97\": 1, \"103\": 1, \"84\": 1, \"9\": 1, \"105\": 1, \"11\": 1, \"3\": 2, \"94\": 1, \"0\": 2, \"12\": 1, \"5\": 2, \"117\": 2, \"88\": 1, \"40\": 1, \"7\": 1}, \"33\": {\"33\": 111, \"118\": 1, \"84\": 5, \"69\": 1, \"1\": 2, \"62\": 2, \"87\": 1, \"117\": 1, \"70\": 4, \"93\": 5, \"26\": 1}, \"81\": {\"81\": 17, \"113\": 1, \"72\": 1, \"99\": 2, \"101\": 1, \"121\": 1, \"65\": 1}, \"115\": {\"115\": 6, \"122\": 3, \"16\": 1, \"4\": 1, \"49\": 1}, \"77\": {\"77\": 13, \"52\": 1, \"79\": 1, \"97\": 1}, \"106\": {\"106\": 87, \"36\": 2, \"26\": 1, \"27\": 1, \"15\": 5, \"125\": 9, \"101\": 5, \"16\": 1, \"30\": 2, \"94\": 3, \"0\": 2, \"24\": 1, \"127\": 1}, \"42\": {\"28\": 1, \"42\": 2, \"3\": 2, \"30\": 2, \"79\": 1, \"59\": 2, \"52\": 1, \"81\": 1, \"91\": 2, \"109\": 1, \"24\": 1, \"105\": 1, \"120\": 1, \"98\": 2, \"23\": 1, \"0\": 1, \"117\": 1, \"127\": 2, \"128\": 1, \"95\": 1, \"107\": 1}, \"38\": {\"38\": 16}, \"36\": {\"36\": 53, \"121\": 1, \"15\": 7, \"27\": 9, \"58\": 1, \"14\": 1, \"101\": 9, \"2\": 1, \"106\": 6, \"127\": 1, \"39\": 1, \"30\": 2, \"26\": 2, \"125\": 10, \"113\": 1, \"9\": 1, \"0\": 2, \"117\": 1, \"24\": 3, \"111\": 2}, \"79\": {\"79\": 13, \"103\": 1, \"77\": 1, \"127\": 1}, \"60\": {\"28\": 1, \"93\": 1, \"60\": 13, \"115\": 1, \"87\": 1, \"90\": 1, \"76\": 1, \"107\": 1, \"31\": 1, \"126\": 1, \"46\": 1, \"44\": 1, \"70\": 1, \"109\": 1, \"122\": 2}, \"80\": {\"80\": 4, \"14\": 1, \"83\": 1, \"1\": 3, \"120\": 1, \"33\": 1, \"19\": 1, \"45\": 1, \"88\": 1, \"50\": 1, \"8\": 1}, \"32\": {\"62\": 2, \"32\": 25, \"122\": 1, \"105\": 4, \"44\": 1, \"3\": 1, \"14\": 2}, \"0\": {\"0\": 61, \"111\": 17, \"103\": 1, \"30\": 12, \"126\": 1, \"8\": 1, \"122\": 2, \"24\": 2, \"7\": 1, \"98\": 7, \"127\": 4, \"101\": 1, \"108\": 2, \"54\": 2, \"68\": 1, \"94\": 1}, \"127\": {\"127\": 96, \"12\": 2, \"98\": 8, \"18\": 1, \"30\": 4, \"11\": 1, \"103\": 1, \"111\": 1, \"112\": 2, \"75\": 2, \"54\": 1, \"8\": 1, \"79\": 1, \"0\": 3}, \"114\": {\"114\": 66, \"129\": 1, \"3\": 8, \"4\": 2, \"69\": 1, \"104\": 2, \"12\": 1, \"122\": 12, \"71\": 9, \"110\": 1, \"5\": 1, \"124\": 3, \"8\": 2, \"56\": 1, \"0\": 1, \"11\": 1, \"108\": 1, \"36\": 1, \"18\": 1, \"127\": 1}, \"62\": {\"90\": 1, \"62\": 126, \"69\": 1, \"43\": 2, \"26\": 1, \"70\": 2, \"33\": 1, \"32\": 1, \"88\": 1, \"1\": 1, \"126\": 1, \"84\": 1, \"44\": 1}, \"129\": {\"129\": 11, \"114\": 1, \"100\": 1, \"62\": 1, \"5\": 2, \"105\": 1, \"19\": 3, \"71\": 1, \"124\": 2, \"40\": 1, \"23\": 1, \"128\": 1, \"3\": 1, \"127\": 1, \"86\": 1, \"12\": 1, \"108\": 2}, \"56\": {\"56\": 9, \"4\": 1, \"3\": 1, \"107\": 1}, \"76\": {\"76\": 14, \"119\": 2}, \"72\": {\"72\": 23, \"89\": 1, \"90\": 1, \"88\": 1, \"9\": 1, \"96\": 1}, \"88\": {\"90\": 10, \"99\": 1, \"39\": 10, \"88\": 37, \"93\": 9, \"69\": 4, \"118\": 4, \"2\": 1, \"84\": 4, \"33\": 3, \"16\": 4, \"62\": 5, \"109\": 5, \"105\": 1, \"87\": 7, \"43\": 1, \"102\": 2, \"120\": 2, \"92\": 1, \"64\": 1, \"126\": 7, \"1\": 1, \"21\": 1, \"11\": 1, \"70\": 1, \"40\": 1}, \"68\": {\"68\": 10, \"11\": 2, \"118\": 1, \"29\": 2, \"90\": 1}, \"67\": {\"67\": 9, \"100\": 1, \"21\": 1, \"80\": 1, \"93\": 1, \"76\": 2, \"96\": 1}, \"100\": {\"126\": 1, \"100\": 7, \"73\": 1, \"64\": 1, \"71\": 1, \"16\": 2, \"89\": 2, \"93\": 1}, \"34\": {\"34\": 4, \"4\": 1, \"128\": 1, \"71\": 2, \"127\": 2, \"86\": 1, \"122\": 3, \"91\": 2, \"21\": 1, \"12\": 1, \"110\": 1, \"111\": 1, \"8\": 1, \"109\": 1, \"54\": 1, \"53\": 1, \"98\": 1, \"10\": 1, \"3\": 2, \"11\": 2, \"0\": 2}, \"16\": {\"16\": 77, \"82\": 2, \"39\": 3, \"93\": 2, \"102\": 14, \"90\": 2, \"69\": 14, \"88\": 4, \"70\": 1, \"20\": 1, \"72\": 2, \"118\": 1, \"33\": 1}, \"126\": {\"126\": 24, \"60\": 2, \"3\": 2, \"37\": 1, \"46\": 1, \"119\": 1, \"78\": 3, \"14\": 1, \"7\": 3, \"62\": 2, \"39\": 1, \"2\": 1, \"96\": 1, \"24\": 1, \"21\": 1, \"16\": 5, \"85\": 2, \"90\": 10, \"84\": 1, \"88\": 4, \"43\": 2, \"70\": 4, \"1\": 8, \"109\": 4, \"33\": 3, \"118\": 3, \"44\": 1, \"93\": 2, \"5\": 4, \"31\": 1, \"28\": 2, \"76\": 2, \"23\": 3, \"66\": 1, \"107\": 2, \"63\": 1, \"104\": 2, \"32\": 1, \"45\": 1, \"73\": 1, \"12\": 1, \"4\": 1, \"122\": 1, \"102\": 2}, \"4\": {\"4\": 47, \"40\": 1, \"5\": 3, \"3\": 3, \"107\": 4, \"120\": 1, \"14\": 1, \"122\": 3, \"8\": 4, \"114\": 2, \"71\": 3, \"26\": 1, \"7\": 1, \"110\": 2, \"0\": 1, \"19\": 1, \"104\": 1, \"86\": 1, \"74\": 1, \"108\": 1, \"95\": 6}, \"101\": {\"101\": 135, \"0\": 2, \"111\": 1, \"15\": 5, \"94\": 1, \"106\": 2}, \"104\": {\"4\": 2, \"104\": 10, \"105\": 1, \"112\": 1, \"74\": 1, \"114\": 1, \"71\": 2, \"27\": 1, \"39\": 1}, \"30\": {\"26\": 1, \"127\": 7, \"30\": 46, \"91\": 1, \"129\": 1, \"58\": 1, \"106\": 6, \"108\": 6, \"34\": 1, \"0\": 5, \"24\": 3, \"111\": 7, \"98\": 7, \"101\": 10, \"8\": 1, \"79\": 2, \"7\": 1, \"94\": 1, \"12\": 1, \"18\": 2}, \"8\": {\"127\": 2, \"8\": 56, \"50\": 1, \"71\": 2, \"12\": 3, \"11\": 6, \"122\": 13, \"4\": 8, \"34\": 1, \"107\": 1, \"114\": 3, \"0\": 2, \"108\": 6, \"7\": 3, \"24\": 2, \"5\": 5, \"3\": 3, \"93\": 1, \"95\": 2, \"49\": 1, \"86\": 1, \"113\": 1, \"36\": 1, \"10\": 1, \"111\": 1, \"124\": 1, \"105\": 1}, \"82\": {\"82\": 32, \"93\": 1, \"69\": 2, \"117\": 1}, \"26\": {\"26\": 93, \"87\": 1, \"48\": 2, \"113\": 3, \"21\": 2, \"117\": 14, \"69\": 3, \"39\": 2, \"18\": 15, \"88\": 1, \"2\": 1, \"23\": 1}, \"96\": {\"96\": 17, \"69\": 1, \"16\": 1, \"31\": 1}, \"3\": {\"8\": 4, \"112\": 1, \"35\": 1, \"128\": 2, \"5\": 7, \"3\": 66, \"124\": 4, \"114\": 13, \"42\": 2, \"7\": 5, \"105\": 2, \"122\": 6, \"70\": 1, \"110\": 1, \"11\": 3, \"43\": 2, \"30\": 3, \"50\": 1, \"59\": 1, \"129\": 1, \"2\": 1, \"12\": 1, \"95\": 1, \"71\": 4, \"24\": 1, \"102\": 1, \"62\": 1}, \"25\": {\"25\": 12, \"118\": 1, \"99\": 1, \"6\": 2}, \"13\": {\"13\": 8, \"21\": 1, \"69\": 3, \"125\": 1, \"24\": 1, \"109\": 1, \"113\": 1}, \"37\": {\"62\": 2, \"37\": 7, \"126\": 1, \"40\": 2, \"22\": 1, \"16\": 1, \"33\": 1, \"55\": 1}, \"49\": {\"98\": 3, \"113\": 1, \"111\": 2, \"4\": 1, \"95\": 1, \"54\": 1, \"7\": 2, \"92\": 1, \"71\": 1, \"8\": 1, \"12\": 2, \"127\": 1, \"26\": 1, \"49\": 1, \"110\": 1, \"39\": 1, \"124\": 1, \"3\": 2}, \"111\": {\"111\": 117, \"98\": 5, \"52\": 2, \"94\": 1, \"0\": 2, \"30\": 4, \"77\": 1, \"127\": 3, \"106\": 1}, \"105\": {\"105\": 110, \"95\": 1, \"43\": 4, \"10\": 1, \"40\": 8, \"3\": 2, \"70\": 1, \"32\": 1, \"66\": 1, \"113\": 1, \"78\": 1, \"30\": 1}, \"17\": {\"35\": 2, \"114\": 1, \"121\": 1, \"113\": 1, \"19\": 1, \"7\": 3, \"107\": 1, \"56\": 1, \"12\": 1, \"26\": 1, \"4\": 3}, \"65\": {\"65\": 15, \"2\": 1, \"18\": 2, \"26\": 2}, \"123\": {\"35\": 2, \"123\": 12, \"6\": 1, \"122\": 1}, \"74\": {\"35\": 2, \"48\": 1, \"74\": 9, \"81\": 1, \"10\": 1, \"95\": 2}, \"97\": {\"97\": 11, \"79\": 1, \"15\": 1, \"78\": 1, \"58\": 2, \"109\": 1, \"77\": 2, \"90\": 1}, \"112\": {\"112\": 8, \"59\": 1, \"24\": 1, \"54\": 1, \"12\": 1, \"47\": 1, \"95\": 1, \"94\": 1, \"42\": 1}, \"120\": {\"120\": 17, \"2\": 1, \"20\": 2}, \"50\": {\"44\": 1, \"14\": 3, \"50\": 8, \"109\": 1, \"80\": 1, \"125\": 1, \"55\": 1}, \"59\": {\"98\": 1, \"20\": 1, \"91\": 2, \"59\": 7, \"112\": 2, \"42\": 2, \"68\": 1}, \"10\": {\"44\": 1, \"53\": 2, \"61\": 2, \"10\": 17, \"63\": 1, \"34\": 2, \"60\": 2, \"81\": 1, \"70\": 1, \"29\": 4, \"32\": 2, \"4\": 1, \"113\": 1, \"110\": 1, \"27\": 1, \"122\": 4, \"43\": 3, \"98\": 1, \"22\": 1, \"50\": 1, \"42\": 1, \"39\": 1, \"71\": 2, \"78\": 1, \"12\": 1, \"8\": 3, \"87\": 2}, \"45\": {\"45\": 10, \"83\": 1, \"1\": 2, \"82\": 1, \"88\": 1, \"84\": 1}, \"12\": {\"108\": 3, \"12\": 46, \"112\": 1, \"111\": 2, \"59\": 1, \"21\": 2, \"24\": 4, \"107\": 2, \"49\": 2, \"127\": 8, \"27\": 1, \"117\": 1, \"68\": 2, \"25\": 1, \"29\": 2, \"41\": 2, \"4\": 1, \"71\": 1, \"8\": 2, \"122\": 2, \"98\": 2}, \"75\": {\"101\": 3, \"51\": 1, \"75\": 7, \"124\": 1, \"15\": 1, \"125\": 1, \"6\": 2}, \"48\": {\"48\": 16, \"26\": 1, \"72\": 1, \"81\": 1, \"69\": 1}, \"61\": {\"61\": 17, \"120\": 2, \"99\": 1}, \"124\": {\"124\": 85, \"5\": 12, \"129\": 1, \"107\": 1, \"71\": 1, \"8\": 2, \"108\": 3, \"27\": 1, \"3\": 4, \"7\": 1, \"114\": 7, \"34\": 2, \"4\": 1, \"11\": 1, \"26\": 1, \"40\": 1}, \"11\": {\"124\": 2, \"11\": 29, \"68\": 1, \"54\": 1, \"86\": 2, \"122\": 2, \"24\": 2, \"108\": 3, \"4\": 1, \"3\": 6, \"8\": 2, \"12\": 2, \"10\": 1, \"117\": 1, \"71\": 1, \"114\": 1, \"7\": 1, \"98\": 5, \"39\": 1, \"70\": 1, \"111\": 3, \"106\": 3, \"77\": 1, \"91\": 1, \"115\": 1, \"49\": 1, \"0\": 1, \"30\": 1, \"26\": 1, \"5\": 2}, \"103\": {\"103\": 11, \"79\": 1, \"69\": 1, \"30\": 1, \"109\": 1, \"34\": 1}, \"7\": {\"7\": 84, \"54\": 1, \"86\": 1, \"23\": 1, \"108\": 1, \"12\": 6, \"117\": 1, \"5\": 1, \"10\": 1, \"109\": 1, \"105\": 1, \"114\": 2, \"122\": 12, \"26\": 1, \"11\": 4, \"30\": 1, \"81\": 1, \"127\": 2, \"128\": 1, \"4\": 1, \"8\": 3, \"71\": 2, \"124\": 2, \"3\": 1}, \"18\": {\"99\": 1, \"18\": 98, \"121\": 2, \"16\": 1, \"26\": 8, \"117\": 5, \"39\": 1, \"113\": 2, \"23\": 1, \"69\": 1}, \"31\": {\"31\": 12, \"69\": 2, \"118\": 1, \"72\": 1, \"16\": 2, \"126\": 1, \"116\": 1}, \"15\": {\"6\": 1, \"36\": 6, \"15\": 51, \"25\": 2, \"125\": 9, \"75\": 1, \"106\": 9, \"51\": 2, \"24\": 3, \"0\": 1, \"101\": 17, \"117\": 2, \"30\": 4, \"27\": 2, \"58\": 2, \"9\": 2, \"127\": 4}, \"1\": {\"1\": 97, \"45\": 2, \"99\": 1, \"40\": 7, \"84\": 1, \"39\": 1, \"3\": 2, \"126\": 4, \"90\": 1, \"33\": 1, \"70\": 1, \"117\": 1, \"46\": 1, \"55\": 1, \"62\": 1}, \"66\": {\"66\": 17, \"90\": 1, \"23\": 2}, \"110\": {\"56\": 1, \"4\": 4, \"81\": 1, \"71\": 2, \"110\": 18, \"65\": 1, \"93\": 1, \"3\": 1, \"8\": 1, \"26\": 1, \"44\": 1, \"5\": 1, \"57\": 1, \"10\": 1, \"121\": 1, \"128\": 1, \"86\": 1, \"113\": 1, \"88\": 1}, \"27\": {\"27\": 22, \"79\": 1, \"15\": 3, \"103\": 2, \"36\": 5, \"117\": 3, \"69\": 1, \"24\": 2, \"2\": 1, \"101\": 6, \"106\": 5, \"94\": 2, \"125\": 6, \"52\": 1, \"6\": 1, \"9\": 1, \"99\": 1, \"111\": 2, \"102\": 1, \"113\": 1, \"118\": 1}, \"22\": {\"22\": 17, \"44\": 1, \"125\": 1, \"27\": 1}, \"117\": {\"117\": 109, \"113\": 9, \"18\": 2}, \"39\": {\"120\": 3, \"31\": 1, \"39\": 54, \"26\": 11, \"113\": 1, \"69\": 3, \"118\": 2, \"93\": 4, \"16\": 2, \"18\": 5, \"88\": 8, \"90\": 2, \"20\": 1, \"21\": 6, \"109\": 3, \"2\": 1, \"87\": 1}}, \"Wisig_1\": {\"60\": {\"48\": 1, \"44\": 1, \"96\": 2, \"23\": 2, \"34\": 1, \"65\": 1, \"8\": 1, \"60\": 2, \"90\": 1, \"11\": 1, \"104\": 1, \"26\": 1, \"13\": 1}, \"59\": {\"62\": 1, \"59\": 7, \"27\": 2, \"125\": 1, \"11\": 1}, \"107\": {\"107\": 100, \"110\": 3, \"72\": 2, \"108\": 6, \"93\": 5, \"5\": 1, \"101\": 2, \"106\": 1, \"118\": 1, \"9\": 1, \"4\": 1, \"98\": 1}, \"113\": {\"113\": 117, \"95\": 1, \"16\": 2, \"117\": 1, \"18\": 1, \"121\": 1, \"26\": 1}, \"6\": {\"6\": 11, \"59\": 1, \"13\": 1, \"127\": 3, \"27\": 1, \"111\": 1, \"15\": 1, \"71\": 2, \"88\": 4, \"58\": 1, \"95\": 1, \"52\": 2, \"125\": 2, \"69\": 1}, \"24\": {\"24\": 25, \"49\": 1, \"127\": 3, \"112\": 1, \"94\": 4, \"98\": 8, \"97\": 1, \"73\": 1, \"12\": 2, \"106\": 3, \"108\": 5, \"10\": 2, \"89\": 2, \"27\": 5, \"110\": 2, \"30\": 3, \"5\": 2, \"15\": 4, \"0\": 4, \"72\": 1, \"125\": 3, \"43\": 1, \"93\": 2, \"9\": 1, \"101\": 2, \"71\": 2, \"36\": 1, \"117\": 1}, \"50\": {\"50\": 10, \"62\": 1, \"33\": 2, \"82\": 1, \"56\": 1, \"81\": 1}, \"62\": {\"62\": 110, \"90\": 1, \"69\": 2, \"33\": 6, \"1\": 1}, \"48\": {\"48\": 12}, \"104\": {\"105\": 1, \"104\": 13, \"14\": 1, \"43\": 1}, \"105\": {\"105\": 62, \"40\": 10, \"8\": 2, \"5\": 2, \"126\": 1, \"114\": 1, \"4\": 1, \"26\": 1, \"84\": 2, \"108\": 1, \"15\": 1}, \"44\": {\"44\": 64, \"34\": 1, \"70\": 1, \"7\": 1, \"122\": 1, \"107\": 1, \"108\": 1, \"5\": 2, \"126\": 1, \"86\": 1, \"87\": 1, \"105\": 1}, \"49\": {\"55\": 1, \"6\": 2, \"29\": 1, \"98\": 1, \"107\": 1, \"49\": 5, \"127\": 2, \"77\": 2, \"47\": 1, \"37\": 1, \"52\": 1, \"125\": 1, \"5\": 1}, \"55\": {\"55\": 11, \"72\": 1}, \"4\": {\"107\": 5, \"32\": 2, \"4\": 66, \"84\": 2, \"3\": 1, \"40\": 6, \"77\": 1, \"34\": 1, \"70\": 6, \"93\": 2, \"105\": 1, \"8\": 1, \"19\": 1, \"21\": 1, \"86\": 1, \"108\": 3}, \"76\": {\"76\": 16}, \"85\": {\"85\": 23, \"0\": 3, \"32\": 1, \"92\": 2, \"110\": 1, \"101\": 1, \"10\": 1}, \"89\": {\"89\": 32, \"106\": 1, \"108\": 1, \"9\": 2}, \"74\": {\"74\": 14, \"78\": 1, \"43\": 1}, \"112\": {\"32\": 1, \"30\": 1, \"24\": 1, \"112\": 9, \"6\": 1, \"52\": 1, \"27\": 2}, \"79\": {\"79\": 10, \"87\": 1, \"9\": 1}, \"0\": {\"85\": 2, \"118\": 1, \"0\": 45, \"55\": 4, \"10\": 3, \"41\": 1, \"110\": 5, \"93\": 6, \"72\": 1, \"101\": 4, \"4\": 1, \"98\": 4, \"32\": 1, \"107\": 4, \"106\": 2}, \"91\": {\"91\": 20, \"32\": 1, \"101\": 3, \"127\": 1, \"71\": 1, \"37\": 1, \"30\": 1}, \"118\": {\"118\": 60, \"69\": 2, \"18\": 3, \"26\": 5, \"39\": 6, \"11\": 2, \"117\": 3, \"16\": 2, \"27\": 1}, \"80\": {\"84\": 2, \"80\": 8, \"90\": 1, \"23\": 2, \"87\": 1, \"70\": 2}, \"64\": {\"64\": 15, \"109\": 1}, \"97\": {\"112\": 4, \"32\": 2, \"6\": 2, \"97\": 6, \"24\": 1, \"51\": 1, \"71\": 3, \"88\": 1}, \"84\": {\"84\": 79, \"128\": 2, \"14\": 1, \"64\": 1, \"40\": 8, \"124\": 2, \"1\": 4, \"114\": 9, \"105\": 3, \"87\": 2, \"43\": 3, \"7\": 1, \"23\": 1, \"19\": 1, \"70\": 1, \"109\": 2, \"126\": 2, \"8\": 1, \"33\": 1}, \"38\": {\"38\": 13, \"82\": 1, \"42\": 1, \"96\": 1}, \"30\": {\"112\": 2, \"30\": 18, \"127\": 6, \"111\": 1, \"97\": 1, \"27\": 2, \"94\": 1, \"15\": 3, \"125\": 2, \"98\": 1, \"24\": 3, \"59\": 2, \"75\": 4, \"92\": 1, \"91\": 1, \"101\": 2, \"88\": 1, \"36\": 1}, \"32\": {\"32\": 17, \"16\": 1, \"12\": 1, \"91\": 1, \"86\": 1, \"92\": 2, \"0\": 1, \"98\": 2, \"127\": 2, \"101\": 1, \"121\": 1, \"113\": 1, \"110\": 1}, \"72\": {\"70\": 1, \"72\": 19, \"55\": 1, \"110\": 3, \"106\": 4, \"5\": 1, \"107\": 2, \"4\": 1}, \"33\": {\"33\": 117, \"65\": 1, \"96\": 1, \"69\": 1, \"102\": 5, \"11\": 2, \"62\": 4, \"3\": 1}, \"34\": {\"127\": 4, \"107\": 1, \"7\": 1, \"126\": 1, \"88\": 2, \"92\": 1, \"44\": 2, \"43\": 1, \"84\": 1, \"111\": 2, \"10\": 1, \"90\": 1, \"53\": 2, \"34\": 1, \"83\": 3, \"36\": 1, \"0\": 1, \"87\": 2, \"8\": 1, \"71\": 1, \"42\": 1, \"128\": 1}, \"28\": {\"76\": 1, \"107\": 1, \"28\": 12, \"66\": 2, \"128\": 2, \"8\": 1, \"87\": 1}, \"123\": {\"123\": 14, \"3\": 1, \"2\": 1}, \"2\": {\"33\": 2, \"2\": 7, \"102\": 4, \"16\": 3, \"69\": 2, \"3\": 1, \"45\": 1, \"118\": 1, \"117\": 1, \"95\": 3, \"13\": 1, \"113\": 2, \"82\": 1, \"122\": 1, \"11\": 1, \"116\": 1}, \"70\": {\"107\": 10, \"70\": 17, \"126\": 3, \"23\": 1, \"5\": 7, \"29\": 2, \"93\": 6, \"96\": 1, \"42\": 2, \"108\": 5, \"21\": 2, \"106\": 5, \"4\": 3, \"0\": 1, \"110\": 8, \"39\": 2, \"43\": 6, \"7\": 1, \"109\": 2, \"84\": 2, \"11\": 2, \"114\": 1, \"90\": 5, \"124\": 2, \"8\": 3, \"36\": 1, \"72\": 1, \"65\": 1, \"41\": 1, \"34\": 1, \"49\": 1, \"120\": 1, \"45\": 1, \"9\": 1, \"89\": 1, \"62\": 4, \"69\": 1, \"44\": 1, \"10\": 2, \"105\": 1, \"122\": 1, \"14\": 2, \"87\": 1, \"40\": 1, \"33\": 1}, \"127\": {\"127\": 87, \"101\": 1, \"49\": 1, \"113\": 1, \"30\": 1, \"12\": 2, \"98\": 3, \"111\": 4, \"88\": 3, \"94\": 2, \"68\": 1, \"24\": 2}, \"110\": {\"110\": 85, \"0\": 5, \"32\": 1, \"55\": 1, \"72\": 2, \"106\": 6, \"108\": 1, \"93\": 4, \"98\": 5, \"10\": 2, \"39\": 1, \"101\": 9, \"113\": 1, \"56\": 1, \"85\": 1, \"107\": 1, \"69\": 1, \"16\": 1}, \"126\": {\"126\": 44, \"64\": 1, \"9\": 1, \"3\": 4, \"1\": 2, \"114\": 3, \"71\": 1, \"8\": 4, \"87\": 5, \"108\": 3, \"109\": 5, \"90\": 4, \"21\": 1, \"62\": 2, \"70\": 3, \"105\": 4, \"107\": 11, \"124\": 2, \"14\": 2, \"7\": 3, \"43\": 7, \"98\": 1, \"122\": 2, \"106\": 5, \"5\": 3, \"120\": 1, \"72\": 1, \"44\": 1, \"84\": 6, \"91\": 1, \"93\": 2, \"110\": 1}, \"13\": {\"13\": 13, \"26\": 2, \"118\": 1}, \"15\": {\"15\": 45, \"6\": 2, \"125\": 9, \"98\": 1, \"27\": 8, \"101\": 1, \"71\": 8, \"111\": 5, \"106\": 2, \"36\": 8, \"127\": 1, \"88\": 3, \"94\": 4, \"24\": 2, \"97\": 1, \"51\": 1, \"12\": 1, \"30\": 1, \"110\": 1}, \"29\": {\"29\": 26, \"110\": 1, \"111\": 1}, \"18\": {\"18\": 103, \"117\": 5, \"39\": 1, \"69\": 1, \"118\": 4, \"26\": 3, \"2\": 2, \"95\": 1}, \"7\": {\"7\": 128, \"115\": 2, \"105\": 2, \"70\": 1, \"126\": 3, \"104\": 1, \"83\": 2, \"44\": 1, \"84\": 1, \"62\": 1}, \"56\": {\"56\": 8, \"111\": 2, \"91\": 1, \"29\": 1}, \"98\": {\"98\": 73, \"127\": 12, \"9\": 1, \"108\": 1, \"106\": 7, \"0\": 1, \"107\": 1, \"12\": 1, \"111\": 1, \"32\": 2, \"85\": 1, \"30\": 1, \"34\": 1, \"101\": 1, \"110\": 2, \"24\": 2}, \"99\": {\"99\": 9, \"18\": 1, \"42\": 2, \"80\": 1, \"65\": 1, \"109\": 1, \"23\": 1, \"1\": 1, \"120\": 1, \"25\": 1, \"11\": 1, \"19\": 2, \"114\": 2}, \"77\": {\"77\": 8, \"93\": 2, \"10\": 1, \"71\": 1, \"26\": 1, \"72\": 2, \"110\": 1}, \"103\": {\"15\": 1, \"103\": 12, \"127\": 2, \"27\": 1}, \"128\": {\"49\": 2, \"99\": 1, \"108\": 1, \"50\": 1, \"129\": 1, \"109\": 1, \"88\": 1, \"68\": 1, \"70\": 1, \"14\": 1, \"128\": 3, \"83\": 1, \"81\": 2, \"116\": 1, \"106\": 1, \"58\": 1, \"45\": 1, \"120\": 1, \"4\": 1, \"43\": 1}, \"3\": {\"80\": 1, \"42\": 1, \"3\": 61, \"81\": 1, \"25\": 1, \"33\": 4, \"122\": 3, \"14\": 5, \"125\": 1, \"88\": 1, \"62\": 2, \"82\": 1, \"1\": 2, \"109\": 1, \"71\": 1, \"69\": 1, \"36\": 1}, \"121\": {\"117\": 2, \"113\": 2, \"121\": 17, \"65\": 2, \"39\": 2, \"62\": 1, \"18\": 2, \"102\": 1, \"16\": 1, \"2\": 1, \"26\": 1}, \"42\": {\"42\": 3, \"3\": 3, \"69\": 2, \"81\": 1, \"116\": 3, \"61\": 1, \"31\": 1, \"33\": 1, \"102\": 4, \"7\": 1, \"82\": 1, \"129\": 1, \"108\": 1, \"124\": 1, \"70\": 1, \"38\": 1, \"43\": 1, \"109\": 1}, \"90\": {\"90\": 111, \"109\": 2, \"43\": 2, \"62\": 2, \"3\": 1, \"80\": 1, \"122\": 1}, \"37\": {\"37\": 13, \"112\": 1, \"58\": 2}, \"120\": {\"121\": 1, \"120\": 17, \"122\": 1, \"26\": 1}, \"117\": {\"117\": 98, \"26\": 11, \"95\": 1, \"118\": 3, \"16\": 3, \"18\": 1, \"39\": 1}, \"9\": {\"103\": 2, \"29\": 1, \"129\": 1, \"9\": 22, \"35\": 1, \"93\": 1, \"98\": 2, \"5\": 1, \"34\": 1}, \"108\": {\"9\": 1, \"108\": 30, \"107\": 4, \"47\": 2, \"44\": 3, \"89\": 2, \"86\": 2, \"115\": 1, \"87\": 4, \"98\": 8, \"8\": 3, \"116\": 1, \"127\": 3, \"101\": 9, \"93\": 5, \"84\": 1, \"5\": 5, \"24\": 2, \"70\": 4, \"106\": 9, \"12\": 2, \"110\": 3, \"7\": 2, \"0\": 1, \"53\": 2, \"49\": 2, \"128\": 1, \"29\": 1, \"125\": 1, \"72\": 1, \"40\": 1, \"1\": 1, \"90\": 1, \"71\": 1, \"88\": 1, \"111\": 2, \"43\": 2}, \"83\": {\"104\": 3, \"14\": 1, \"83\": 14, \"54\": 1, \"19\": 1, \"73\": 1, \"87\": 1, \"42\": 1, \"114\": 1, \"8\": 1, \"34\": 1, \"44\": 2}, \"14\": {\"14\": 74, \"8\": 2, \"121\": 1, \"122\": 10, \"43\": 3, \"109\": 2, \"84\": 1, \"3\": 1, \"114\": 1, \"105\": 1}, \"63\": {\"63\": 11, \"26\": 2, \"13\": 2, \"16\": 1}, \"11\": {\"11\": 57, \"102\": 8, \"100\": 1, \"2\": 3, \"116\": 1, \"1\": 1, \"39\": 3, \"26\": 4, \"69\": 14, \"109\": 4, \"33\": 12, \"90\": 2, \"66\": 1, \"23\": 1, \"13\": 1, \"118\": 2, \"122\": 2, \"3\": 1}, \"95\": {\"95\": 26, \"121\": 2, \"117\": 4, \"16\": 2, \"2\": 1, \"39\": 1}, \"26\": {\"26\": 99, \"117\": 15, \"118\": 1, \"18\": 2, \"16\": 8, \"36\": 1, \"51\": 1, \"39\": 2, \"63\": 1}, \"22\": {\"22\": 8, \"96\": 1, \"123\": 1, \"80\": 2, \"109\": 2, \"90\": 2}, \"102\": {\"102\": 104, \"67\": 2, \"100\": 1, \"62\": 2, \"33\": 6, \"69\": 3, \"43\": 1, \"11\": 1}, \"69\": {\"69\": 84, \"11\": 1, \"123\": 1, \"2\": 1, \"102\": 7, \"113\": 3, \"39\": 2, \"117\": 1, \"67\": 1, \"26\": 1, \"62\": 4}, \"1\": {\"1\": 94, \"83\": 2, \"115\": 1, \"84\": 5, \"124\": 4, \"114\": 13, \"90\": 2, \"79\": 1, \"19\": 2, \"8\": 1, \"44\": 1, \"40\": 2, \"109\": 1, \"126\": 1}, \"67\": {\"67\": 15, \"102\": 1}, \"57\": {\"57\": 12}, \"8\": {\"8\": 62, \"44\": 2, \"83\": 1, \"87\": 7, \"7\": 4, \"19\": 1, \"62\": 1, \"26\": 1, \"90\": 1, \"108\": 3, \"126\": 6, \"40\": 3, \"84\": 6, \"93\": 3, \"43\": 8, \"124\": 2, \"122\": 6, \"109\": 1, \"5\": 1, \"33\": 1, \"70\": 3, \"1\": 1, \"115\": 2, \"100\": 1, \"86\": 2, \"107\": 1, \"14\": 1, \"105\": 2, \"4\": 1}, \"109\": {\"1\": 6, \"109\": 51, \"38\": 1, \"67\": 1, \"120\": 1, \"84\": 2, \"83\": 1, \"73\": 1, \"39\": 6, \"114\": 10, \"69\": 3, \"19\": 1, \"126\": 3, \"117\": 1, \"21\": 4, \"90\": 6, \"62\": 7, \"3\": 2, \"122\": 3, \"124\": 2, \"118\": 1, \"96\": 3, \"18\": 3, \"11\": 2, \"33\": 1, \"7\": 1, \"26\": 1}, \"129\": {\"1\": 2, \"45\": 2, \"100\": 2, \"102\": 2, \"2\": 4, \"129\": 4, \"116\": 2, \"107\": 1, \"117\": 1, \"65\": 1, \"63\": 1, \"39\": 1, \"34\": 2, \"69\": 1, \"84\": 1, \"86\": 1}, \"111\": {\"111\": 88, \"112\": 3, \"53\": 1, \"127\": 5, \"15\": 2, \"12\": 1, \"88\": 3, \"24\": 4, \"98\": 3, \"110\": 1, \"101\": 3, \"125\": 1, \"71\": 3, \"106\": 1, \"94\": 1}, \"71\": {\"71\": 66, \"102\": 1, \"30\": 4, \"24\": 5, \"12\": 4, \"53\": 2, \"69\": 2, \"88\": 4, \"98\": 3, \"127\": 5, \"113\": 2, \"27\": 1, \"51\": 1, \"52\": 1, \"111\": 1, \"125\": 3, \"16\": 1, \"101\": 1, \"26\": 1}, \"47\": {\"47\": 9, \"29\": 1, \"108\": 1, \"9\": 1}, \"82\": {\"82\": 29, \"81\": 2, \"62\": 2, \"128\": 1, \"67\": 2}, \"27\": {\"71\": 6, \"27\": 44, \"30\": 2, \"88\": 5, \"12\": 5, \"24\": 4, \"125\": 4, \"127\": 2, \"94\": 4, \"15\": 7, \"36\": 4, \"111\": 5}, \"19\": {\"122\": 2, \"19\": 11, \"109\": 1, \"114\": 2, \"126\": 2, \"66\": 1, \"124\": 1, \"43\": 3, \"83\": 1, \"40\": 1, \"84\": 1, \"81\": 1, \"108\": 1}, \"122\": {\"63\": 1, \"122\": 43, \"1\": 2, \"28\": 1, \"11\": 1, \"14\": 11, \"117\": 1, \"90\": 5, \"43\": 7, \"109\": 6, \"126\": 1, \"8\": 3, \"64\": 1, \"114\": 1, \"81\": 2, \"87\": 1, \"84\": 1}, \"53\": {\"27\": 2, \"88\": 1, \"53\": 14, \"111\": 1, \"112\": 1, \"30\": 1}, \"87\": {\"104\": 1, \"122\": 3, \"1\": 1, \"87\": 36, \"43\": 8, \"79\": 1, \"120\": 1, \"7\": 4, \"23\": 1, \"40\": 8, \"115\": 2, \"28\": 1, \"14\": 3, \"124\": 1, \"94\": 1, \"8\": 3, \"114\": 4, \"105\": 4, \"126\": 6, \"109\": 1, \"70\": 1, \"84\": 3, \"90\": 2, \"37\": 1, \"73\": 1, \"44\": 2, \"34\": 1, \"78\": 1, \"86\": 1, \"21\": 1, \"4\": 3, \"62\": 1}, \"100\": {\"100\": 8, \"67\": 1, \"102\": 1, \"16\": 1, \"82\": 2, \"81\": 1, \"11\": 2}, \"66\": {\"66\": 15, \"116\": 1}, \"31\": {\"31\": 14, \"110\": 1, \"49\": 1}, \"58\": {\"58\": 11, \"92\": 1}, \"68\": {\"68\": 9, \"97\": 1, \"85\": 1, \"0\": 1, \"127\": 1, \"98\": 1, \"111\": 2}, \"88\": {\"112\": 2, \"88\": 19, \"97\": 1, \"27\": 6, \"23\": 1, \"111\": 5, \"21\": 1, \"125\": 12, \"107\": 2, \"110\": 5, \"36\": 10, \"98\": 4, \"16\": 1, \"101\": 8, \"71\": 5, \"127\": 9, \"15\": 5, \"94\": 3, \"108\": 2, \"93\": 1, \"113\": 1, \"70\": 1, \"32\": 2, \"4\": 1, \"0\": 1, \"24\": 1, \"12\": 1, \"106\": 4}, \"45\": {\"128\": 1, \"129\": 1, \"87\": 1, \"122\": 1, \"3\": 2, \"45\": 2, \"11\": 1, \"36\": 1, \"120\": 2}, \"114\": {\"114\": 86, \"1\": 10, \"124\": 4, \"107\": 1, \"43\": 4, \"84\": 7, \"126\": 3, \"105\": 1, \"122\": 1, \"40\": 3, \"8\": 3, \"64\": 1, \"7\": 1, \"14\": 1, \"5\": 1, \"87\": 1}, \"23\": {\"10\": 1, \"124\": 1, \"40\": 2, \"84\": 1, \"43\": 1, \"23\": 2, \"60\": 1, \"96\": 1, \"62\": 1, \"17\": 1, \"129\": 2, \"80\": 2, \"97\": 1, \"0\": 1, \"11\": 1, \"8\": 1, \"1\": 2, \"106\": 2}, \"65\": {\"92\": 1, \"26\": 1, \"43\": 1, \"16\": 1, \"8\": 2, \"74\": 1, \"51\": 1, \"63\": 1, \"65\": 1, \"11\": 1, \"18\": 1}, \"124\": {\"124\": 73, \"46\": 1, \"83\": 4, \"87\": 2, \"21\": 1, \"115\": 1, \"126\": 3, \"114\": 8, \"84\": 3, \"1\": 7, \"70\": 2, \"40\": 4, \"22\": 1, \"34\": 1, \"108\": 1, \"17\": 1, \"7\": 2, \"14\": 2, \"88\": 1}, \"10\": {\"10\": 33, \"85\": 7, \"97\": 1, \"29\": 1, \"110\": 15, \"4\": 3, \"32\": 2, \"126\": 2, \"41\": 1, \"44\": 3, \"0\": 11, \"93\": 6, \"15\": 1, \"8\": 6, \"39\": 2, \"105\": 2, \"98\": 4, \"7\": 2, \"106\": 2, \"87\": 2, \"70\": 5, \"40\": 3, \"26\": 1, \"43\": 2, \"101\": 1, \"108\": 1, \"90\": 1}, \"92\": {\"92\": 28}, \"40\": {\"40\": 97, \"87\": 3, \"43\": 5, \"84\": 8, \"7\": 2, \"126\": 2, \"114\": 4, \"105\": 9, \"124\": 4, \"26\": 1, \"8\": 1, \"4\": 2, \"5\": 2, \"70\": 1, \"16\": 1, \"93\": 1, \"1\": 1}, \"73\": {\"73\": 16, \"64\": 2, \"46\": 1, \"72\": 1}, \"94\": {\"94\": 31, \"92\": 1, \"6\": 2, \"36\": 6, \"24\": 5, \"52\": 1, \"27\": 7, \"15\": 9, \"71\": 7, \"30\": 2, \"12\": 5, \"88\": 5, \"111\": 6, \"125\": 2, \"59\": 1, \"98\": 1, \"118\": 1}, \"81\": {\"81\": 24, \"33\": 1, \"82\": 1, \"129\": 2}, \"101\": {\"101\": 98, \"127\": 2, \"98\": 4, \"118\": 1, \"110\": 2, \"37\": 1, \"0\": 1, \"39\": 1}, \"86\": {\"86\": 26, \"71\": 1, \"44\": 1, \"40\": 2, \"110\": 1, \"111\": 1, \"4\": 1, \"7\": 1, \"93\": 1, \"107\": 1}, \"78\": {\"38\": 1, \"96\": 3, \"74\": 2, \"115\": 1, \"33\": 1, \"109\": 3, \"78\": 2, \"43\": 1, \"42\": 1, \"81\": 1}, \"96\": {\"22\": 1, \"38\": 1, \"90\": 1, \"60\": 1, \"14\": 1, \"42\": 2, \"124\": 1, \"21\": 1, \"129\": 1, \"96\": 4, \"26\": 1, \"116\": 1, \"109\": 2, \"84\": 1, \"1\": 1}, \"5\": {\"5\": 64, \"107\": 5, \"89\": 2, \"93\": 4, \"43\": 1, \"108\": 1, \"109\": 1, \"118\": 1, \"31\": 1, \"4\": 1, \"73\": 1, \"128\": 2, \"33\": 1, \"70\": 2, \"126\": 1}, \"16\": {\"16\": 78, \"26\": 9, \"117\": 11, \"121\": 1, \"21\": 1, \"63\": 1, \"11\": 3, \"39\": 1, \"118\": 1, \"18\": 1, \"113\": 1}, \"35\": {\"5\": 1, \"35\": 8, \"34\": 1, \"77\": 1, \"17\": 1}, \"51\": {\"51\": 14, \"71\": 1, \"6\": 1}, \"46\": {\"46\": 4, \"20\": 2, \"25\": 1, \"27\": 1, \"6\": 1, \"124\": 1, \"73\": 1, \"129\": 1}, \"20\": {\"20\": 12, \"2\": 1, \"14\": 1, \"87\": 1, \"33\": 1}, \"116\": {\"116\": 19, \"90\": 1, \"39\": 1, \"102\": 3, \"11\": 2, \"45\": 1, \"62\": 1, \"33\": 1, \"50\": 1, \"14\": 1, \"15\": 1}, \"75\": {\"75\": 15, \"37\": 1}, \"43\": {\"84\": 14, \"7\": 2, \"14\": 7, \"43\": 42, \"87\": 8, \"109\": 5, \"105\": 11, \"115\": 2, \"90\": 6, \"21\": 1, \"114\": 7, \"26\": 2, \"8\": 3, \"40\": 8, \"122\": 1, \"104\": 1, \"17\": 1, \"19\": 1, \"39\": 1, \"42\": 1, \"62\": 2, \"1\": 1, \"33\": 1}, \"17\": {\"4\": 1, \"17\": 7, \"54\": 1, \"126\": 2, \"35\": 2, \"129\": 1, \"98\": 2}, \"12\": {\"12\": 72, \"88\": 4, \"30\": 3, \"24\": 1, \"98\": 4, \"111\": 7, \"26\": 1, \"101\": 4, \"75\": 1, \"52\": 2, \"15\": 1, \"71\": 3, \"127\": 1}, \"25\": {\"25\": 13, \"42\": 1, \"99\": 1, \"11\": 1}, \"54\": {\"54\": 9, \"17\": 1, \"126\": 1, \"40\": 1, \"22\": 1, \"92\": 1, \"129\": 1, \"1\": 1}, \"36\": {\"36\": 85, \"125\": 12, \"26\": 1, \"27\": 4, \"113\": 1, \"88\": 4, \"94\": 3, \"24\": 1, \"117\": 1}, \"52\": {\"52\": 18, \"30\": 1, \"24\": 1}, \"61\": {\"61\": 8, \"109\": 2, \"82\": 1, \"62\": 1}, \"106\": {\"106\": 101, \"47\": 1, \"98\": 4, \"107\": 1, \"110\": 5, \"72\": 1, \"108\": 3, \"24\": 1, \"88\": 1, \"127\": 2}, \"39\": {\"39\": 56, \"116\": 1, \"121\": 2, \"117\": 14, \"18\": 2, \"16\": 4, \"26\": 10, \"118\": 5, \"69\": 4, \"33\": 2, \"11\": 2, \"102\": 1, \"113\": 1}, \"119\": {\"119\": 13, \"69\": 1, \"95\": 1, \"123\": 1}, \"125\": {\"125\": 113, \"24\": 5, \"94\": 7, \"27\": 5, \"15\": 5, \"88\": 9, \"59\": 1, \"36\": 2, \"71\": 1}, \"93\": {\"93\": 63, \"7\": 1, \"29\": 1, \"107\": 9, \"0\": 4, \"105\": 3, \"106\": 5, \"108\": 7, \"5\": 11, \"44\": 4, \"4\": 2, \"40\": 6, \"110\": 6, \"8\": 2, \"70\": 8, \"17\": 1, \"10\": 4, \"91\": 1, \"89\": 1, \"87\": 2, \"121\": 1, \"32\": 1, \"86\": 1, \"71\": 1, \"98\": 1, \"62\": 1, \"84\": 1}, \"115\": {\"115\": 6, \"114\": 1, \"1\": 1, \"43\": 2, \"104\": 1, \"87\": 1}, \"21\": {\"69\": 2, \"96\": 1, \"25\": 1, \"7\": 1, \"70\": 1, \"44\": 1, \"62\": 2, \"39\": 2, \"105\": 1, \"94\": 1, \"118\": 2, \"54\": 1, \"90\": 2, \"21\": 6, \"11\": 2, \"128\": 1, \"66\": 2, \"92\": 1, \"2\": 1, \"108\": 1, \"33\": 1, \"109\": 3, \"18\": 1, \"113\": 1, \"87\": 1, \"122\": 1}, \"41\": {\"41\": 16}}, \"Wisig_4\": {\"55\": {\"55\": 15, \"101\": 1}, \"9\": {\"59\": 1, \"10\": 1, \"9\": 17, \"68\": 1, \"47\": 1, \"51\": 1, \"15\": 2, \"53\": 1, \"77\": 1, \"94\": 1, \"24\": 1}, \"70\": {\"112\": 1, \"115\": 1, \"14\": 3, \"32\": 2, \"128\": 1, \"85\": 3, \"70\": 18, \"49\": 2, \"108\": 3, \"43\": 3, \"27\": 7, \"105\": 1, \"0\": 3, \"114\": 3, \"71\": 5, \"87\": 4, \"62\": 1, \"33\": 1, \"90\": 5, \"111\": 1, \"86\": 1, \"122\": 1, \"107\": 1, \"110\": 3, \"39\": 1, \"7\": 2, \"98\": 9, \"10\": 2, \"1\": 2, \"118\": 1, \"15\": 1, \"4\": 5, \"101\": 3, \"34\": 1, \"11\": 1, \"83\": 1, \"95\": 2, \"106\": 2, \"66\": 1, \"60\": 1, \"82\": 1, \"93\": 2, \"3\": 5, \"117\": 1, \"88\": 1, \"127\": 2, \"124\": 1}, \"112\": {\"112\": 9, \"29\": 1, \"52\": 1, \"98\": 3, \"42\": 1, \"37\": 1}, \"115\": {\"108\": 1, \"115\": 4, \"36\": 1, \"18\": 2, \"107\": 1, \"28\": 1, \"69\": 1, \"72\": 1, \"44\": 1, \"46\": 1, \"14\": 2}, \"56\": {\"56\": 8, \"43\": 1, \"128\": 1, \"0\": 1, \"86\": 1}, \"108\": {\"13\": 1, \"4\": 1, \"107\": 7, \"108\": 12, \"25\": 1, \"109\": 5, \"80\": 1, \"43\": 4, \"62\": 3, \"50\": 1, \"19\": 1, \"26\": 1, \"93\": 5, \"40\": 5, \"129\": 1, \"33\": 2, \"1\": 1, \"84\": 3, \"10\": 1, \"90\": 6, \"88\": 2, \"16\": 3, \"118\": 2, \"5\": 5, \"94\": 2, \"122\": 3, \"69\": 2, \"32\": 2, \"83\": 1, \"14\": 2, \"78\": 1, \"11\": 2, \"87\": 1, \"36\": 1, \"110\": 1}, \"117\": {\"117\": 99, \"113\": 7, \"81\": 5, \"39\": 4, \"26\": 2, \"90\": 1, \"33\": 1, \"63\": 1, \"16\": 2, \"18\": 2}, \"111\": {\"10\": 3, \"111\": 91, \"103\": 3, \"127\": 6, \"106\": 9, \"15\": 2, \"12\": 3, \"101\": 3, \"0\": 2, \"36\": 2, \"68\": 1, \"27\": 1, \"42\": 1, \"98\": 1, \"8\": 3, \"113\": 1}, \"71\": {\"56\": 1, \"71\": 67, \"17\": 1, \"63\": 1, \"70\": 3, \"60\": 1, \"4\": 4, \"114\": 5, \"15\": 1, \"7\": 2, \"1\": 1, \"87\": 1, \"129\": 2, \"124\": 3, \"3\": 3, \"9\": 1, \"40\": 1, \"36\": 1, \"105\": 1, \"126\": 3, \"16\": 1}, \"59\": {\"59\": 7, \"25\": 2, \"6\": 3}, \"10\": {\"59\": 2, \"37\": 2, \"25\": 1, \"9\": 2, \"24\": 5, \"100\": 1, \"111\": 2, \"6\": 4, \"10\": 28, \"0\": 5, \"30\": 3, \"82\": 2, \"15\": 12, \"88\": 3, \"36\": 8, \"7\": 7, \"5\": 1, \"122\": 1, \"127\": 1, \"27\": 2, \"94\": 3, \"70\": 2, \"87\": 2, \"71\": 3, \"106\": 1, \"43\": 1, \"124\": 1, \"125\": 7, \"34\": 1, \"90\": 1, \"78\": 1, \"62\": 1, \"14\": 1, \"4\": 3, \"42\": 2, \"126\": 1, \"108\": 1}, \"83\": {\"4\": 2, \"83\": 8, \"40\": 2, \"114\": 2, \"43\": 1, \"128\": 1, \"19\": 1, \"106\": 1, \"107\": 2, \"129\": 1, \"71\": 1, \"46\": 1, \"100\": 1, \"124\": 1, \"17\": 1, \"1\": 1, \"93\": 1}, \"116\": {\"116\": 17, \"66\": 1, \"90\": 1, \"69\": 2, \"44\": 2, \"102\": 2, \"50\": 1, \"84\": 1, \"11\": 1}, \"13\": {\"13\": 14, \"109\": 2}, \"4\": {\"70\": 6, \"56\": 1, \"4\": 68, \"49\": 1, \"98\": 4, \"95\": 2, \"71\": 8, \"105\": 1, \"0\": 3, \"82\": 1, \"7\": 2, \"3\": 1, \"88\": 1, \"27\": 1, \"101\": 2, \"114\": 1, \"126\": 1}, \"125\": {\"47\": 1, \"75\": 1, \"125\": 95, \"15\": 2, \"113\": 2, \"10\": 1, \"59\": 1, \"36\": 1, \"24\": 2}, \"102\": {\"102\": 112, \"44\": 2, \"109\": 2, \"84\": 2, \"11\": 1, \"18\": 1, \"38\": 1, \"69\": 2, \"26\": 1}, \"47\": {\"58\": 2, \"47\": 10}, \"28\": {\"28\": 15, \"31\": 1, \"1\": 1, \"64\": 1, \"43\": 1, \"11\": 1}, \"82\": {\"82\": 29, \"17\": 1, \"46\": 1, \"71\": 1}, \"60\": {\"108\": 1, \"17\": 3, \"60\": 10, \"110\": 2, \"122\": 1, \"89\": 2, \"3\": 1, \"88\": 2, \"78\": 1, \"87\": 1, \"66\": 2, \"49\": 1, \"43\": 1, \"129\": 1, \"124\": 2, \"90\": 1}, \"107\": {\"14\": 4, \"28\": 1, \"107\": 96, \"129\": 1, \"90\": 1, \"5\": 4, \"43\": 2, \"33\": 4, \"40\": 12, \"93\": 1, \"110\": 2, \"72\": 1, \"62\": 1, \"69\": 1, \"88\": 2, \"7\": 1}, \"75\": {\"75\": 14, \"34\": 2}, \"31\": {\"31\": 12, \"102\": 1, \"45\": 2, \"57\": 1}, \"92\": {\"92\": 19, \"22\": 1, \"2\": 1, \"16\": 1, \"102\": 2, \"67\": 2, \"126\": 1, \"121\": 1}, \"58\": {\"58\": 14, \"15\": 2}, \"113\": {\"92\": 1, \"113\": 72, \"123\": 1, \"18\": 2, \"121\": 3, \"16\": 8, \"26\": 2, \"84\": 4, \"117\": 14, \"81\": 2, \"69\": 2, \"126\": 7, \"39\": 3, \"118\": 1, \"90\": 3, \"21\": 1, \"67\": 1, \"2\": 1}, \"95\": {\"82\": 2, \"95\": 24, \"27\": 3, \"0\": 1, \"98\": 1, \"70\": 1}, \"14\": {\"14\": 87, \"107\": 3, \"18\": 1, \"99\": 1, \"90\": 1, \"40\": 7, \"43\": 1, \"110\": 3, \"16\": 1, \"33\": 2, \"122\": 1, \"108\": 1, \"117\": 1, \"62\": 2}, \"17\": {\"82\": 3, \"128\": 3, \"17\": 9, \"46\": 1, \"60\": 1, \"19\": 2, \"129\": 1}, \"104\": {\"128\": 1, \"50\": 1, \"3\": 2, \"41\": 1, \"104\": 7, \"43\": 1, \"89\": 1, \"32\": 1, \"107\": 1}, \"72\": {\"72\": 14, \"108\": 1, \"110\": 1, \"43\": 1, \"19\": 2, \"87\": 1, \"62\": 3, \"14\": 1, \"107\": 1, \"32\": 2, \"115\": 2, \"33\": 1, \"5\": 1, \"118\": 1}, \"69\": {\"69\": 105, \"117\": 1, \"109\": 3, \"84\": 3, \"102\": 7, \"90\": 5, \"118\": 2, \"122\": 1, \"18\": 1}, \"63\": {\"63\": 15, \"26\": 1}, \"12\": {\"12\": 57, \"30\": 3, \"8\": 7, \"106\": 6, \"111\": 8, \"10\": 3, \"101\": 1, \"98\": 1, \"127\": 6, \"105\": 1, \"118\": 1, \"64\": 1, \"24\": 1, \"88\": 1, \"1\": 1, \"0\": 1, \"117\": 1}, \"25\": {\"25\": 15, \"10\": 1}, \"67\": {\"63\": 1, \"50\": 1, \"108\": 1, \"26\": 1, \"48\": 2, \"40\": 2, \"3\": 2, \"39\": 4, \"33\": 1, \"67\": 1}, \"50\": {\"50\": 9, \"43\": 1, \"14\": 2, \"93\": 1, \"33\": 2, \"44\": 1}, \"43\": {\"108\": 5, \"104\": 1, \"79\": 2, \"43\": 27, \"61\": 1, \"72\": 1, \"46\": 1, \"87\": 2, \"60\": 1, \"88\": 3, \"40\": 11, \"22\": 1, \"117\": 1, \"129\": 1, \"118\": 3, \"122\": 4, \"1\": 9, \"14\": 4, \"107\": 6, \"69\": 1, \"114\": 1, \"5\": 4, \"90\": 2, \"93\": 7, \"110\": 3, \"78\": 1, \"13\": 1, \"99\": 2, \"62\": 2, \"38\": 1, \"50\": 1, \"109\": 1, \"85\": 1, \"11\": 1, \"44\": 2, \"3\": 2, \"105\": 2, \"70\": 1}, \"96\": {\"96\": 12, \"13\": 2, \"32\": 1, \"2\": 1, \"84\": 3, \"69\": 1}, \"128\": {\"128\": 16, \"17\": 1, \"70\": 1, \"37\": 1, \"71\": 1, \"100\": 1, \"76\": 1, \"88\": 1, \"89\": 1}, \"77\": {\"77\": 12}, \"54\": {\"54\": 16}, \"118\": {\"118\": 54, \"69\": 15, \"123\": 1, \"11\": 2, \"80\": 1, \"109\": 3, \"39\": 1, \"62\": 5, \"113\": 1, \"117\": 1, \"108\": 3, \"43\": 1, \"26\": 1, \"93\": 2, \"122\": 5, \"84\": 3, \"88\": 4, \"90\": 4, \"96\": 1, \"102\": 3, \"126\": 1}, \"30\": {\"30\": 20, \"8\": 3, \"111\": 2, \"29\": 6, \"125\": 5, \"109\": 1, \"10\": 4, \"53\": 1, \"15\": 8, \"101\": 3, \"12\": 4, \"127\": 4, \"94\": 3, \"27\": 1, \"95\": 1, \"9\": 1, \"54\": 1, \"106\": 3, \"34\": 2, \"103\": 1, \"0\": 1, \"69\": 1}, \"51\": {\"30\": 2, \"111\": 2, \"34\": 2, \"51\": 3, \"15\": 1, \"125\": 1, \"97\": 1, \"94\": 3, \"9\": 1}, \"122\": {\"118\": 8, \"122\": 35, \"102\": 3, \"62\": 1, \"38\": 1, \"14\": 2, \"99\": 1, \"110\": 3, \"69\": 2, \"93\": 1, \"44\": 5, \"107\": 2, \"40\": 1, \"90\": 4, \"39\": 1, \"33\": 3, \"108\": 2, \"71\": 1, \"43\": 3, \"11\": 1, \"15\": 1, \"109\": 1, \"16\": 1, \"18\": 1}, \"46\": {\"46\": 10, \"80\": 1, \"105\": 2, \"20\": 1, \"83\": 1, \"128\": 1, \"104\": 2, \"19\": 1, \"60\": 1}, \"79\": {\"79\": 13, \"11\": 1, \"110\": 1, \"28\": 1}, \"103\": {\"103\": 16}, \"74\": {\"43\": 1, \"74\": 9, \"109\": 1, \"49\": 1, \"78\": 1, \"40\": 1, \"5\": 1, \"45\": 1}, \"90\": {\"90\": 103, \"69\": 10, \"78\": 1, \"122\": 5, \"33\": 2, \"118\": 4, \"109\": 5, \"84\": 4, \"11\": 1, \"102\": 2, \"96\": 1, \"38\": 2, \"44\": 2, \"43\": 2, \"108\": 2}, \"8\": {\"8\": 71, \"30\": 2, \"103\": 1, \"12\": 6, \"111\": 10, \"127\": 10, \"117\": 2, \"85\": 1, \"101\": 21, \"106\": 9, \"98\": 1, \"0\": 1, \"24\": 1, \"59\": 2, \"53\": 2, \"39\": 1, \"10\": 1}, \"94\": {\"94\": 43, \"125\": 8, \"9\": 3, \"106\": 6, \"34\": 1, \"111\": 2, \"15\": 8, \"24\": 4, \"30\": 1, \"107\": 1, \"1\": 1, \"6\": 1, \"54\": 1, \"10\": 2, \"21\": 1, \"109\": 1, \"36\": 2, \"49\": 1, \"126\": 1}, \"7\": {\"110\": 3, \"7\": 70, \"70\": 3, \"89\": 1, \"0\": 5, \"88\": 3, \"24\": 1, \"4\": 4, \"43\": 1, \"36\": 1, \"105\": 1, \"84\": 1, \"3\": 2, \"27\": 1, \"126\": 1, \"87\": 3, \"56\": 1, \"17\": 1, \"32\": 1, \"104\": 1, \"98\": 3, \"86\": 2, \"85\": 1, \"71\": 6, \"62\": 1, \"118\": 1, \"124\": 2, \"93\": 1}, \"61\": {\"61\": 10, \"26\": 2, \"18\": 1, \"65\": 2, \"39\": 1}, \"26\": {\"26\": 86, \"18\": 13, \"39\": 4, \"123\": 1, \"67\": 1, \"113\": 3, \"126\": 4, \"117\": 4, \"35\": 1, \"63\": 2, \"109\": 1}, \"127\": {\"127\": 73, \"37\": 1, \"101\": 5, \"111\": 4, \"86\": 1, \"106\": 2, \"30\": 1, \"27\": 3, \"8\": 8, \"12\": 1, \"26\": 1, \"98\": 5, \"103\": 2, \"10\": 1}, \"23\": {\"17\": 1, \"26\": 3, \"21\": 1, \"65\": 3, \"87\": 1, \"123\": 1, \"81\": 2, \"82\": 1, \"55\": 1, \"23\": 1, \"85\": 1}, \"1\": {\"1\": 51, \"19\": 1, \"82\": 1, \"89\": 1, \"114\": 15, \"71\": 8, \"107\": 1, \"14\": 1, \"105\": 4, \"87\": 4, \"3\": 13, \"7\": 1, \"18\": 1, \"5\": 1, \"26\": 1, \"69\": 1, \"88\": 2, \"125\": 1}, \"93\": {\"110\": 8, \"93\": 43, \"90\": 5, \"69\": 4, \"5\": 10, \"43\": 6, \"33\": 15, \"1\": 1, \"108\": 4, \"96\": 2, \"44\": 2, \"109\": 5, \"118\": 4, \"105\": 2, \"84\": 4, \"107\": 4, \"3\": 3, \"87\": 2, \"0\": 1, \"57\": 1, \"83\": 1, \"122\": 3, \"102\": 1, \"14\": 1, \"11\": 1, \"124\": 1}, \"106\": {\"106\": 61, \"12\": 9, \"10\": 2, \"123\": 1, \"18\": 4, \"24\": 2, \"127\": 2, \"97\": 3, \"34\": 2, \"111\": 10, \"117\": 2, \"15\": 4, \"113\": 1, \"101\": 1, \"61\": 1, \"27\": 3, \"30\": 2, \"81\": 1, \"0\": 1, \"103\": 1, \"62\": 1, \"8\": 2}, \"110\": {\"110\": 32, \"5\": 11, \"62\": 5, \"99\": 1, \"109\": 6, \"78\": 1, \"60\": 1, \"107\": 5, \"90\": 5, \"105\": 2, \"69\": 1, \"43\": 2, \"87\": 4, \"93\": 17, \"33\": 8, \"18\": 1, \"14\": 3, \"88\": 2, \"79\": 1, \"40\": 2, \"46\": 1, \"118\": 3, \"122\": 2, \"1\": 2}, \"76\": {\"76\": 11, \"115\": 2, \"20\": 1, \"107\": 1, \"88\": 1}, \"36\": {\"36\": 61, \"24\": 9, \"106\": 2, \"111\": 5, \"6\": 1, \"15\": 8, \"10\": 7, \"94\": 4, \"27\": 3, \"8\": 2, \"125\": 5, \"9\": 1, \"30\": 6, \"54\": 1, \"58\": 1, \"12\": 2, \"113\": 1, \"127\": 1}, \"21\": {\"26\": 2, \"23\": 1, \"126\": 1, \"123\": 2, \"21\": 21, \"78\": 2, \"18\": 1, \"63\": 1, \"117\": 1, \"81\": 3, \"39\": 1, \"62\": 2, \"122\": 2}, \"37\": {\"10\": 1, \"37\": 8, \"55\": 1, \"52\": 1, \"128\": 1, \"70\": 3, \"1\": 1}, \"11\": {\"74\": 1, \"11\": 29, \"32\": 1, \"50\": 1, \"83\": 2, \"69\": 3, \"40\": 3, \"44\": 2, \"110\": 6, \"45\": 3, \"124\": 2, \"93\": 6, \"84\": 9, \"107\": 3, \"4\": 1, \"118\": 1, \"102\": 9, \"5\": 9, \"33\": 5, \"109\": 2, \"90\": 5, \"72\": 1, \"114\": 3, \"88\": 1, \"46\": 1, \"60\": 1, \"43\": 2, \"108\": 1, \"116\": 1, \"12\": 1, \"3\": 1, \"122\": 1, \"14\": 2, \"113\": 1}, \"109\": {\"109\": 68, \"69\": 13, \"108\": 3, \"118\": 8, \"84\": 3, \"102\": 9, \"90\": 3, \"16\": 2, \"126\": 1, \"93\": 1, \"62\": 1, \"38\": 2, \"44\": 1, \"122\": 1}, \"62\": {\"21\": 1, \"62\": 30, \"108\": 3, \"126\": 1, \"72\": 2, \"118\": 4, \"66\": 2, \"109\": 1, \"78\": 2, \"96\": 1, \"26\": 2, \"43\": 1, \"99\": 1, \"88\": 1, \"117\": 1, \"122\": 1, \"69\": 2, \"33\": 1, \"113\": 1, \"93\": 1, \"11\": 1}, \"89\": {\"89\": 22, \"119\": 1, \"48\": 1, \"114\": 1, \"7\": 2, \"17\": 1, \"0\": 2, \"78\": 2}, \"126\": {\"126\": 81, \"81\": 2, \"18\": 7, \"39\": 9, \"16\": 2, \"113\": 8, \"84\": 2, \"117\": 6, \"26\": 3, \"13\": 1, \"38\": 1, \"21\": 1, \"121\": 1}, \"101\": {\"101\": 72, \"127\": 13, \"85\": 1, \"53\": 1, \"98\": 4, \"70\": 3, \"8\": 15, \"113\": 1, \"126\": 1, \"0\": 3, \"12\": 1, \"87\": 1, \"106\": 1, \"30\": 1, \"117\": 1, \"10\": 2, \"4\": 3, \"26\": 2, \"111\": 1, \"24\": 1}, \"65\": {\"65\": 12}, \"19\": {\"19\": 11, \"82\": 1, \"98\": 3, \"89\": 1, \"40\": 2, \"91\": 1, \"129\": 1, \"17\": 2, \"73\": 1, \"11\": 1, \"86\": 1, \"20\": 2, \"27\": 1}, \"27\": {\"95\": 3, \"112\": 1, \"27\": 22, \"68\": 1, \"127\": 2, \"111\": 10, \"101\": 4, \"8\": 5, \"26\": 1, \"114\": 1, \"15\": 2, \"70\": 2, \"106\": 6, \"10\": 6, \"12\": 7, \"0\": 3, \"98\": 3, \"24\": 2, \"87\": 2, \"124\": 1, \"41\": 2, \"9\": 1, \"46\": 1, \"34\": 1, \"86\": 1, \"29\": 1, \"82\": 1, \"19\": 2, \"105\": 1, \"62\": 1, \"4\": 1, \"126\": 1, \"88\": 1, \"3\": 1}, \"5\": {\"5\": 89, \"23\": 1, \"3\": 4, \"73\": 3, \"28\": 1, \"100\": 1, \"11\": 3, \"110\": 7, \"90\": 1, \"107\": 4, \"93\": 4, \"118\": 2, \"109\": 2, \"1\": 2, \"19\": 1, \"49\": 3, \"99\": 1, \"4\": 1, \"88\": 1, \"111\": 1, \"114\": 1, \"105\": 2, \"33\": 1}, \"73\": {\"19\": 3, \"5\": 3, \"3\": 2, \"73\": 10, \"88\": 1, \"47\": 1, \"110\": 1, \"14\": 1, \"79\": 2}, \"6\": {\"6\": 18, \"30\": 2, \"9\": 1, \"58\": 2, \"24\": 1}, \"29\": {\"29\": 32}, \"114\": {\"114\": 82, \"129\": 3, \"87\": 2, \"1\": 7, \"3\": 9, \"124\": 4, \"71\": 6, \"7\": 3, \"70\": 1, \"19\": 2, \"82\": 1, \"60\": 1, \"117\": 1, \"49\": 1, \"27\": 1, \"88\": 1, \"4\": 1, \"5\": 1, \"118\": 1}, \"49\": {\"49\": 4, \"31\": 1, \"74\": 2, \"119\": 1, \"62\": 1, \"37\": 1, \"15\": 1, \"0\": 1, \"5\": 2, \"52\": 1, \"12\": 3, \"53\": 1, \"122\": 2, \"3\": 1, \"60\": 1, \"106\": 3, \"30\": 1, \"111\": 1, \"127\": 1, \"11\": 1, \"87\": 1, \"14\": 1}, \"16\": {\"16\": 100, \"39\": 1, \"121\": 1, \"96\": 1, \"117\": 5, \"113\": 2, \"84\": 1, \"109\": 2, \"2\": 1, \"13\": 1, \"118\": 1, \"88\": 1, \"126\": 1}, \"68\": {\"68\": 10, \"98\": 2, \"127\": 1, \"52\": 1, \"111\": 1, \"95\": 1}, \"98\": {\"98\": 60, \"58\": 1, \"27\": 5, \"112\": 2, \"53\": 2, \"71\": 1, \"68\": 2, \"18\": 1, \"41\": 1, \"70\": 3, \"86\": 1, \"0\": 3, \"8\": 9, \"108\": 1, \"101\": 7, \"10\": 1, \"88\": 1, \"127\": 9, \"24\": 1, \"90\": 1, \"52\": 2, \"85\": 1, \"42\": 1, \"111\": 1, \"106\": 1, \"4\": 1, \"7\": 1}, \"64\": {\"64\": 13, \"20\": 1, \"11\": 1, \"69\": 1}, \"121\": {\"16\": 1, \"121\": 15, \"48\": 2, \"57\": 1, \"113\": 3, \"109\": 2, \"39\": 3, \"63\": 1, \"81\": 1, \"92\": 1, \"117\": 2}, \"124\": {\"83\": 1, \"124\": 78, \"1\": 7, \"3\": 6, \"8\": 1, \"7\": 3, \"114\": 6, \"5\": 3, \"70\": 3, \"98\": 2, \"110\": 1, \"88\": 1, \"71\": 1, \"87\": 1}, \"97\": {\"94\": 2, \"49\": 1, \"4\": 1, \"36\": 2, \"97\": 3, \"34\": 1, \"0\": 1, \"86\": 1, \"125\": 1, \"9\": 1, \"17\": 2, \"25\": 2, \"75\": 2}, \"40\": {\"40\": 95, \"107\": 17, \"72\": 2, \"104\": 1, \"43\": 4, \"14\": 5, \"87\": 1, \"105\": 1, \"110\": 3, \"33\": 3, \"93\": 2, \"73\": 1, \"1\": 1}, \"119\": {\"119\": 14, \"89\": 1, \"104\": 1}, \"100\": {\"83\": 2, \"124\": 1, \"42\": 2, \"89\": 3, \"10\": 2, \"100\": 7, \"34\": 1, \"71\": 1, \"106\": 1}, \"87\": {\"87\": 51, \"119\": 1, \"46\": 1, \"62\": 1, \"40\": 4, \"129\": 2, \"43\": 6, \"14\": 1, \"114\": 6, \"105\": 8, \"88\": 5, \"1\": 3, \"5\": 2, \"122\": 1, \"3\": 6, \"110\": 6, \"70\": 5, \"107\": 1, \"7\": 1, \"99\": 1, \"73\": 2, \"93\": 1, \"11\": 1}, \"88\": {\"114\": 3, \"26\": 3, \"88\": 13, \"51\": 1, \"19\": 3, \"101\": 1, \"109\": 14, \"4\": 4, \"98\": 3, \"118\": 5, \"22\": 2, \"78\": 2, \"90\": 6, \"105\": 3, \"86\": 1, \"122\": 6, \"8\": 1, \"33\": 2, \"70\": 7, \"71\": 2, \"124\": 3, \"1\": 2, \"3\": 2, \"113\": 3, \"7\": 6, \"84\": 3, \"110\": 3, \"0\": 2, \"50\": 1, \"112\": 1, \"128\": 2, \"21\": 2, \"17\": 1, \"57\": 1, \"69\": 1, \"56\": 1, \"43\": 1, \"82\": 1, \"108\": 2, \"62\": 1, \"10\": 1, \"18\": 1, \"14\": 1, \"87\": 1, \"93\": 1, \"102\": 1, \"16\": 1}, \"52\": {\"29\": 3, \"52\": 8, \"47\": 1, \"1\": 2, \"41\": 1, \"66\": 1, \"85\": 2, \"30\": 2}, \"80\": {\"80\": 10, \"13\": 1, \"74\": 1, \"108\": 1, \"36\": 1, \"66\": 2}, \"105\": {\"46\": 2, \"101\": 2, \"105\": 61, \"88\": 4, \"89\": 1, \"129\": 3, \"98\": 1, \"1\": 3, \"40\": 1, \"87\": 3, \"18\": 1, \"110\": 2, \"14\": 3, \"114\": 3, \"56\": 1, \"19\": 1, \"117\": 2, \"7\": 2, \"126\": 2, \"71\": 1, \"107\": 1}, \"32\": {\"14\": 4, \"90\": 1, \"32\": 16, \"62\": 1, \"118\": 4, \"115\": 1, \"102\": 1}, \"35\": {\"92\": 1, \"35\": 7, \"123\": 2, \"81\": 1, \"13\": 1}, \"99\": {\"69\": 1, \"92\": 1, \"99\": 17, \"76\": 1, \"88\": 2, \"62\": 1, \"122\": 3, \"109\": 2, \"40\": 2, \"66\": 1, \"14\": 3, \"107\": 1, \"87\": 1, \"116\": 1, \"32\": 2, \"44\": 1}, \"18\": {\"35\": 3, \"18\": 100, \"39\": 6, \"123\": 2, \"26\": 5, \"121\": 1, \"117\": 1, \"126\": 1, \"16\": 1}, \"24\": {\"12\": 1, \"128\": 1, \"70\": 3, \"127\": 3, \"0\": 2, \"24\": 28, \"8\": 2, \"98\": 6, \"27\": 8, \"107\": 1, \"36\": 5, \"88\": 1, \"94\": 5, \"4\": 2, \"10\": 11, \"124\": 1, \"125\": 11, \"111\": 4, \"114\": 2, \"15\": 2, \"7\": 1, \"42\": 1, \"25\": 1, \"86\": 1, \"101\": 2, \"9\": 1, \"85\": 2, \"49\": 1, \"62\": 1, \"30\": 1, \"106\": 1}, \"85\": {\"85\": 24, \"26\": 1, \"68\": 1, \"70\": 2}, \"39\": {\"39\": 35, \"26\": 10, \"16\": 6, \"126\": 7, \"118\": 5, \"18\": 8, \"109\": 1, \"113\": 7, \"117\": 10, \"61\": 2, \"96\": 1, \"67\": 1, \"65\": 2, \"88\": 1, \"123\": 1, \"21\": 1, \"121\": 1, \"44\": 1}, \"123\": {\"123\": 14, \"35\": 1, \"13\": 1}, \"91\": {\"91\": 13, \"95\": 2, \"30\": 1, \"112\": 2, \"8\": 2, \"53\": 1, \"55\": 1, \"98\": 1, \"101\": 1}, \"78\": {\"16\": 3, \"1\": 1, \"78\": 3, \"72\": 1, \"7\": 1, \"62\": 6, \"53\": 1, \"100\": 1, \"98\": 1, \"110\": 1, \"21\": 1, \"114\": 1, \"43\": 1, \"96\": 1, \"39\": 1, \"13\": 1, \"95\": 1, \"32\": 1, \"15\": 1, \"113\": 1, \"14\": 1, \"3\": 1, \"88\": 1, \"26\": 1, \"109\": 1, \"4\": 1, \"107\": 1}, \"38\": {\"38\": 14, \"80\": 1, \"69\": 1}, \"15\": {\"111\": 10, \"15\": 65, \"24\": 5, \"12\": 7, \"9\": 2, \"94\": 8, \"30\": 2, \"10\": 7, \"126\": 1, \"18\": 1, \"8\": 2, \"125\": 4, \"36\": 3, \"58\": 2, \"51\": 2, \"106\": 2, \"29\": 1, \"6\": 2, \"26\": 1, \"39\": 1}, \"48\": {\"48\": 16}, \"45\": {\"102\": 1, \"45\": 12, \"38\": 1, \"92\": 1, \"74\": 1}, \"120\": {\"120\": 18, \"1\": 1, \"73\": 1}, \"44\": {\"45\": 1, \"38\": 1, \"80\": 1, \"44\": 39, \"76\": 1, \"69\": 2, \"118\": 3, \"33\": 2, \"50\": 1, \"110\": 1, \"90\": 2, \"93\": 3, \"108\": 1, \"122\": 2, \"102\": 1, \"117\": 1, \"14\": 1, \"43\": 1}, \"86\": {\"86\": 25, \"65\": 1, \"81\": 1, \"52\": 1}, \"20\": {\"76\": 1, \"20\": 9, \"66\": 1, \"96\": 1, \"31\": 1, \"93\": 1, \"64\": 1, \"11\": 1}, \"33\": {\"33\": 119, \"40\": 5, \"116\": 1, \"113\": 1, \"5\": 2, \"108\": 1, \"93\": 8, \"122\": 3, \"11\": 2, \"1\": 1, \"69\": 1, \"107\": 1, \"14\": 2, \"43\": 1, \"21\": 1, \"126\": 1}, \"129\": {\"34\": 2, \"107\": 1, \"64\": 1, \"85\": 2, \"43\": 1, \"10\": 1, \"88\": 3, \"105\": 1, \"98\": 1, \"71\": 2, \"90\": 2, \"70\": 1, \"69\": 3, \"5\": 1, \"50\": 1, \"129\": 1, \"118\": 1, \"33\": 1, \"106\": 1, \"93\": 1}, \"34\": {\"9\": 4, \"34\": 4, \"128\": 1, \"94\": 1, \"106\": 1, \"49\": 2, \"114\": 3, \"10\": 3, \"89\": 3, \"15\": 1, \"122\": 1, \"125\": 1, \"87\": 1, \"97\": 1, \"37\": 1, \"98\": 1, \"1\": 2, \"129\": 1}, \"81\": {\"81\": 32, \"39\": 1, \"117\": 3}, \"57\": {\"109\": 2, \"57\": 10, \"24\": 1, \"39\": 1, \"90\": 1, \"22\": 1}, \"0\": {\"71\": 1, \"4\": 6, \"0\": 56, \"10\": 2, \"53\": 1, \"98\": 9, \"101\": 6, \"8\": 6, \"7\": 7, \"1\": 1, \"27\": 3, \"26\": 1, \"111\": 2, \"70\": 3, \"16\": 1, \"41\": 2, \"86\": 1, \"55\": 1, \"63\": 1, \"85\": 1, \"103\": 2, \"105\": 2, \"12\": 1}, \"2\": {\"81\": 1, \"102\": 3, \"2\": 15, \"62\": 1, \"117\": 5, \"18\": 1, \"38\": 1, \"84\": 1}, \"42\": {\"103\": 2, \"4\": 1, \"34\": 2, \"106\": 1, \"114\": 2, \"42\": 2, \"87\": 1, \"82\": 2, \"101\": 2, \"12\": 2, \"27\": 1, \"120\": 1, \"37\": 2, \"29\": 1, \"1\": 3, \"8\": 1, \"10\": 1, \"98\": 1}, \"84\": {\"69\": 10, \"84\": 99, \"2\": 1, \"117\": 1, \"102\": 9, \"90\": 2, \"109\": 2, \"44\": 1, \"18\": 1, \"16\": 2, \"92\": 1, \"118\": 1, \"26\": 1, \"62\": 1}, \"3\": {\"3\": 68, \"19\": 2, \"83\": 1, \"114\": 6, \"21\": 1, \"40\": 2, \"1\": 5, \"43\": 2, \"87\": 4, \"18\": 2, \"70\": 3, \"105\": 1, \"124\": 7, \"7\": 3, \"71\": 5, \"33\": 1, \"88\": 1, \"119\": 1, \"49\": 2, \"16\": 1, \"46\": 2, \"39\": 1, \"109\": 1, \"5\": 1, \"24\": 1, \"93\": 1, \"90\": 1}, \"41\": {\"86\": 1, \"42\": 2, \"52\": 3, \"41\": 7, \"70\": 1, \"98\": 1, \"21\": 1}, \"53\": {\"53\": 12, \"121\": 1, \"124\": 1, \"30\": 1, \"52\": 1}, \"66\": {\"116\": 1, \"66\": 12, \"14\": 1, \"45\": 2}, \"22\": {\"22\": 8, \"32\": 1, \"76\": 1, \"118\": 1, \"66\": 1, \"88\": 1, \"43\": 1, \"60\": 1, \"122\": 1}}}, \"per_domain_accuracy\": {\"ORACLE.run150\": {\"accuracy\": 0.8809895833333333, \"source?\": true}, \"ORACLE.run114\": {\"accuracy\": 0.8901041666666667, \"source?\": true}, \"ORACLE.run132\": {\"accuracy\": 0.8572916666666667, \"source?\": true}, \"ORACLE.run144\": {\"accuracy\": 0.7721354166666666, \"source?\": true}, \"ORACLE.run18\": {\"accuracy\": 0.8778645833333333, \"source?\": true}, \"ORACLE.run120\": {\"accuracy\": 0.8520833333333333, \"source?\": true}, \"ORACLE.run138\": {\"accuracy\": 0.8846354166666667, \"source?\": true}, \"ORACLE.run126\": {\"accuracy\": 0.7067708333333333, \"source?\": true}, \"Wisig_3\": {\"accuracy\": 0.6305949781659389, \"source?\": false}, \"Wisig_2\": {\"accuracy\": 0.5924479166666666, \"source?\": false}, \"Wisig_1\": {\"accuracy\": 0.622219279661017, \"source?\": false}, \"Wisig_4\": {\"accuracy\": 0.5569701646090535, \"source?\": false}}}, \"history\": {\"epoch_indices\": [1, 2, 3, 4, 5, 6], \"train_label_loss\": [0.8144337526456054, 0.5013450959082028, 0.3892083858325523, 0.3340566241154669, 0.29275095491701947, 0.2606963626706385], \"source_val_label_loss\": [0.970952570438385, 0.44400086998939514, 0.36159729957580566, 0.31300607323646545, 0.29950910806655884, 0.29950690269470215], \"target_val_label_loss\": [18.354793548583984, 15.325064659118652, 17.8188419342041, 17.998065948486328, 19.951725006103516, 27.860809326171875], \"source_val_acc_label\": [0.7296223958333333, 0.840234375, 0.8711588541666667, 0.8857421875, 0.8926432291666667, 0.8930989583333333], \"target_val_acc_label\": [0.5259757383966245, 0.5999802215189873, 0.5789491033755274, 0.5598299050632911, 0.5632252109704642, 0.5351397679324894]}, \"dataset_metrics\": {\"source\": {\"train\": {\"n_unique_x\": 179200, \"n_unique_y\": 16, \"n_batch/episode\": 6720}, \"val\": {\"n_unique_x\": 38400, \"n_unique_y\": 16, \"n_batch/episode\": 960}, \"test\": {\"n_unique_x\": 38400, \"n_unique_y\": 16, \"n_batch/episode\": 960}}, \"target\": {\"train\": {\"n_unique_x\": 189008, \"n_unique_y\": 130, \"n_batch/episode\": 6831}, \"val\": {\"n_unique_x\": 40070, \"n_unique_y\": 130, \"n_batch/episode\": 948}, \"test\": {\"n_unique_x\": 40836, \"n_unique_y\": 130, \"n_batch/episode\": 967}}}}'"
      ]
     },
     "execution_count": 29,
     "metadata": {},
     "output_type": "execute_result"
    }
   ],
   "source": [
    "json.dumps(experiment)"
   ]
  }
 ],
 "metadata": {
  "celltoolbar": "Tags",
  "kernelspec": {
   "display_name": "Python 3 (ipykernel)",
   "language": "python",
   "name": "python3"
  },
  "language_info": {
   "codemirror_mode": {
    "name": "ipython",
    "version": 3
   },
   "file_extension": ".py",
   "mimetype": "text/x-python",
   "name": "python",
   "nbconvert_exporter": "python",
   "pygments_lexer": "ipython3",
   "version": "3.8.12"
  },
  "papermill": {
   "default_parameters": {},
   "duration": 1879.480743,
   "end_time": "2022-03-21T19:20:32.137243",
   "environment_variables": {},
   "exception": null,
   "input_path": "/root/csc500-main/csc500-notebooks/templates/tl_ptn_template.ipynb",
   "output_path": "trial.ipynb",
   "parameters": {
    "parameters": {
     "BEST_MODEL_PATH": "./best_model.pth",
     "NUM_LOGS_PER_EPOCH": 10,
     "criteria_for_best": "target_accuracy",
     "dataset_seed": 500,
     "datasets": [
      {
       "domain_prefix": "Wisig_",
       "domains": [
        1,
        2,
        3,
        4
       ],
       "episode_transforms": [],
       "labels": [
        "1-10",
        "1-12",
        "1-14",
        "1-16",
        "1-18",
        "1-19",
        "1-8",
        "10-11",
        "10-17",
        "10-4",
        "10-7",
        "11-1",
        "11-10",
        "11-19",
        "11-20",
        "11-4",
        "11-7",
        "12-19",
        "12-20",
        "12-7",
        "13-14",
        "13-18",
        "13-19",
        "13-20",
        "13-3",
        "13-7",
        "14-10",
        "14-11",
        "14-12",
        "14-13",
        "14-14",
        "14-19",
        "14-20",
        "14-7",
        "14-8",
        "14-9",
        "15-1",
        "15-19",
        "15-6",
        "16-1",
        "16-16",
        "16-19",
        "16-20",
        "17-10",
        "17-11",
        "18-1",
        "18-10",
        "18-11",
        "18-12",
        "18-13",
        "18-14",
        "18-15",
        "18-16",
        "18-17",
        "18-19",
        "18-2",
        "18-20",
        "18-4",
        "18-5",
        "18-7",
        "18-8",
        "18-9",
        "19-1",
        "19-10",
        "19-11",
        "19-12",
        "19-13",
        "19-14",
        "19-15",
        "19-19",
        "19-2",
        "19-20",
        "19-3",
        "19-4",
        "19-6",
        "19-7",
        "19-8",
        "19-9",
        "2-1",
        "2-13",
        "2-15",
        "2-3",
        "2-4",
        "2-5",
        "2-6",
        "2-7",
        "2-8",
        "20-1",
        "20-12",
        "20-14",
        "20-15",
        "20-16",
        "20-18",
        "20-19",
        "20-20",
        "20-3",
        "20-4",
        "20-5",
        "20-7",
        "20-8",
        "3-1",
        "3-13",
        "3-18",
        "3-2",
        "3-8",
        "4-1",
        "4-10",
        "4-11",
        "5-1",
        "5-5",
        "6-1",
        "6-15",
        "6-6",
        "7-10",
        "7-11",
        "7-12",
        "7-13",
        "7-14",
        "7-7",
        "7-8",
        "7-9",
        "8-1",
        "8-13",
        "8-14",
        "8-18",
        "8-20",
        "8-3",
        "8-8",
        "9-1",
        "9-7"
       ],
       "num_examples_per_domain_per_label": -1,
       "pickle_path": "/root/csc500-main/datasets/wisig.node3-19.stratified_ds.2022A.pkl",
       "source_or_target_dataset": "target",
       "x_transforms": [
        "unit_mag"
       ]
      },
      {
       "domain_prefix": "ORACLE.run1",
       "domains": [
        32,
        38,
        8,
        44,
        14,
        50,
        20,
        26
       ],
       "episode_transforms": [],
       "labels": [
        "3123D52",
        "3123D65",
        "3123D79",
        "3123D80",
        "3123D54",
        "3123D70",
        "3123D7B",
        "3123D89",
        "3123D58",
        "3123D76",
        "3123D7D",
        "3123EFE",
        "3123D64",
        "3123D78",
        "3123D7E",
        "3124E4A"
       ],
       "num_examples_per_domain_per_label": 2000,
       "pickle_path": "/root/csc500-main/datasets/oracle.Run1_framed_2000Examples_stratified_ds.2022A.pkl",
       "source_or_target_dataset": "source",
       "x_transforms": [
        "unit_mag"
       ]
      }
     ],
     "device": "cuda",
     "experiment_name": "tl_1v2:wisig-oracle.run1.framed",
     "lr": 0.0001,
     "n_epoch": 50,
     "n_query": 2,
     "n_shot": 3,
     "n_way": 16,
     "patience": 3,
     "seed": 500,
     "test_k_factor": 2,
     "torch_default_dtype": "torch.float32",
     "train_k_factor": 3,
     "val_k_factor": 2,
     "x_net": [
      {
       "class": "nnReshape",
       "kargs": {
        "shape": [
         -1,
         1,
         2,
         256
        ]
       }
      },
      {
       "class": "Conv2d",
       "kargs": {
        "bias": false,
        "in_channels": 1,
        "kernel_size": [
         1,
         7
        ],
        "out_channels": 256,
        "padding": [
         0,
         3
        ]
       }
      },
      {
       "class": "ReLU",
       "kargs": {
        "inplace": true
       }
      },
      {
       "class": "BatchNorm2d",
       "kargs": {
        "num_features": 256
       }
      },
      {
       "class": "Conv2d",
       "kargs": {
        "bias": true,
        "in_channels": 256,
        "kernel_size": [
         2,
         7
        ],
        "out_channels": 80,
        "padding": [
         0,
         3
        ]
       }
      },
      {
       "class": "ReLU",
       "kargs": {
        "inplace": true
       }
      },
      {
       "class": "BatchNorm2d",
       "kargs": {
        "num_features": 80
       }
      },
      {
       "class": "Flatten",
       "kargs": {}
      },
      {
       "class": "Linear",
       "kargs": {
        "in_features": 20480,
        "out_features": 256
       }
      },
      {
       "class": "ReLU",
       "kargs": {
        "inplace": true
       }
      },
      {
       "class": "BatchNorm1d",
       "kargs": {
        "num_features": 256
       }
      },
      {
       "class": "Linear",
       "kargs": {
        "in_features": 256,
        "out_features": 256
       }
      }
     ]
    }
   },
   "start_time": "2022-03-21T18:49:12.656500",
   "version": "2.3.4"
  }
 },
 "nbformat": 4,
 "nbformat_minor": 5
}