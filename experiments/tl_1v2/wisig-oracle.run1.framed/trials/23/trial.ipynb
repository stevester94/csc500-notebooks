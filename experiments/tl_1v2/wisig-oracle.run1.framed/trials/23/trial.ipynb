{
 "cells": [
  {
   "cell_type": "markdown",
   "id": "9fea5f46",
   "metadata": {
    "papermill": {
     "duration": 0.03883,
     "end_time": "2022-03-21T16:15:50.875206",
     "exception": false,
     "start_time": "2022-03-21T16:15:50.836376",
     "status": "completed"
    },
    "tags": []
   },
   "source": [
    "# Transfer Learning Template"
   ]
  },
  {
   "cell_type": "code",
   "execution_count": 1,
   "id": "0902182a",
   "metadata": {
    "execution": {
     "iopub.execute_input": "2022-03-21T16:15:50.941813Z",
     "iopub.status.busy": "2022-03-21T16:15:50.940950Z",
     "iopub.status.idle": "2022-03-21T16:15:52.888337Z",
     "shell.execute_reply": "2022-03-21T16:15:52.888673Z"
    },
    "papermill": {
     "duration": 1.987359,
     "end_time": "2022-03-21T16:15:52.888870",
     "exception": false,
     "start_time": "2022-03-21T16:15:50.901511",
     "status": "completed"
    },
    "tags": []
   },
   "outputs": [],
   "source": [
    "%load_ext autoreload\n",
    "%autoreload 2\n",
    "%matplotlib inline\n",
    "\n",
    "    \n",
    "import os, json, sys, time, random\n",
    "import numpy as np\n",
    "import torch\n",
    "from torch.optim import Adam\n",
    "from  easydict import EasyDict\n",
    "import matplotlib.pyplot as plt\n",
    "\n",
    "from steves_models.steves_ptn import Steves_Prototypical_Network\n",
    "\n",
    "from steves_utils.lazy_iterable_wrapper import Lazy_Iterable_Wrapper\n",
    "from steves_utils.iterable_aggregator import Iterable_Aggregator\n",
    "from steves_utils.ptn_train_eval_test_jig import  PTN_Train_Eval_Test_Jig\n",
    "from steves_utils.torch_sequential_builder import build_sequential\n",
    "from steves_utils.torch_utils import get_dataset_metrics, ptn_confusion_by_domain_over_dataloader\n",
    "from steves_utils.utils_v2 import (per_domain_accuracy_from_confusion, get_datasets_base_path)\n",
    "from steves_utils.PTN.utils import independent_accuracy_assesment\n",
    "\n",
    "from torch.utils.data import DataLoader\n",
    "\n",
    "from steves_utils.stratified_dataset.episodic_accessor import Episodic_Accessor_Factory\n",
    "\n",
    "from steves_utils.ptn_do_report import (\n",
    "    get_loss_curve,\n",
    "    get_results_table,\n",
    "    get_parameters_table,\n",
    "    get_domain_accuracies,\n",
    ")\n",
    "\n",
    "from steves_utils.transforms import get_chained_transform"
   ]
  },
  {
   "cell_type": "markdown",
   "id": "41c840b4",
   "metadata": {
    "papermill": {
     "duration": 0.020268,
     "end_time": "2022-03-21T16:15:52.929875",
     "exception": false,
     "start_time": "2022-03-21T16:15:52.909607",
     "status": "completed"
    },
    "tags": []
   },
   "source": [
    "# Allowed Parameters\n",
    "These are allowed parameters, not defaults\n",
    "Each of these values need to be present in the injected parameters (the notebook will raise an exception if they are not present)\n",
    "\n",
    "Papermill uses the cell tag \"parameters\" to inject the real parameters below this cell.\n",
    "Enable tags to see what I mean"
   ]
  },
  {
   "cell_type": "code",
   "execution_count": 2,
   "id": "fd44eb83",
   "metadata": {
    "execution": {
     "iopub.execute_input": "2022-03-21T16:15:52.975786Z",
     "iopub.status.busy": "2022-03-21T16:15:52.974743Z",
     "iopub.status.idle": "2022-03-21T16:15:52.998410Z",
     "shell.execute_reply": "2022-03-21T16:15:52.998729Z"
    },
    "papermill": {
     "duration": 0.048963,
     "end_time": "2022-03-21T16:15:52.998862",
     "exception": false,
     "start_time": "2022-03-21T16:15:52.949899",
     "status": "completed"
    },
    "tags": []
   },
   "outputs": [],
   "source": [
    "required_parameters = {\n",
    "    \"experiment_name\",\n",
    "    \"lr\",\n",
    "    \"device\",\n",
    "    \"seed\",\n",
    "    \"dataset_seed\",\n",
    "    \"n_shot\",\n",
    "    \"n_query\",\n",
    "    \"n_way\",\n",
    "    \"train_k_factor\",\n",
    "    \"val_k_factor\",\n",
    "    \"test_k_factor\",\n",
    "    \"n_epoch\",\n",
    "    \"patience\",\n",
    "    \"criteria_for_best\",\n",
    "    \"x_net\",\n",
    "    \"datasets\",\n",
    "    \"torch_default_dtype\",\n",
    "    \"NUM_LOGS_PER_EPOCH\",\n",
    "    \"BEST_MODEL_PATH\",\n",
    "    \"x_shape\",\n",
    "}"
   ]
  },
  {
   "cell_type": "code",
   "execution_count": 3,
   "id": "fa3f0049",
   "metadata": {
    "execution": {
     "iopub.execute_input": "2022-03-21T16:15:53.052239Z",
     "iopub.status.busy": "2022-03-21T16:15:53.051542Z",
     "iopub.status.idle": "2022-03-21T16:15:53.075250Z",
     "shell.execute_reply": "2022-03-21T16:15:53.075592Z"
    },
    "papermill": {
     "duration": 0.05604,
     "end_time": "2022-03-21T16:15:53.075729",
     "exception": false,
     "start_time": "2022-03-21T16:15:53.019689",
     "status": "completed"
    },
    "tags": [
     "parameters"
    ]
   },
   "outputs": [],
   "source": [
    "from steves_utils.CORES.utils import (\n",
    "    ALL_NODES,\n",
    "    ALL_NODES_MINIMUM_1000_EXAMPLES,\n",
    "    ALL_DAYS\n",
    ")\n",
    "\n",
    "from steves_utils.ORACLE.utils_v2 import (\n",
    "    ALL_DISTANCES_FEET_NARROWED,\n",
    "    ALL_RUNS,\n",
    "    ALL_SERIAL_NUMBERS,\n",
    ")\n",
    "\n",
    "standalone_parameters = {}\n",
    "standalone_parameters[\"experiment_name\"] = \"STANDALONE PTN\"\n",
    "standalone_parameters[\"lr\"] = 0.001\n",
    "standalone_parameters[\"device\"] = \"cuda\"\n",
    "\n",
    "standalone_parameters[\"seed\"] = 1337\n",
    "standalone_parameters[\"dataset_seed\"] = 1337\n",
    "\n",
    "standalone_parameters[\"n_way\"] = 8\n",
    "standalone_parameters[\"n_shot\"] = 3\n",
    "standalone_parameters[\"n_query\"]  = 2\n",
    "standalone_parameters[\"train_k_factor\"] = 1\n",
    "standalone_parameters[\"val_k_factor\"] = 2\n",
    "standalone_parameters[\"test_k_factor\"] = 2\n",
    "\n",
    "\n",
    "standalone_parameters[\"n_epoch\"] = 50\n",
    "\n",
    "standalone_parameters[\"patience\"] = 10\n",
    "standalone_parameters[\"criteria_for_best\"] = \"source_loss\"\n",
    "\n",
    "standalone_parameters[\"datasets\"] = [\n",
    "    {\n",
    "        \"labels\": ALL_SERIAL_NUMBERS,\n",
    "        \"domains\": ALL_DISTANCES_FEET_NARROWED,\n",
    "        \"num_examples_per_domain_per_label\": 100,\n",
    "        \"pickle_path\": os.path.join(get_datasets_base_path(), \"oracle.Run1_framed_2000Examples_stratified_ds.2022A.pkl\"),\n",
    "        \"source_or_target_dataset\": \"source\",\n",
    "        \"x_transforms\": [\"unit_mag\", \"minus_two\"],\n",
    "        \"episode_transforms\": [],\n",
    "        \"domain_prefix\": \"ORACLE_\"\n",
    "    },\n",
    "    {\n",
    "        \"labels\": ALL_NODES,\n",
    "        \"domains\": ALL_DAYS,\n",
    "        \"num_examples_per_domain_per_label\": 100,\n",
    "        \"pickle_path\": os.path.join(get_datasets_base_path(), \"cores.stratified_ds.2022A.pkl\"),\n",
    "        \"source_or_target_dataset\": \"target\",\n",
    "        \"x_transforms\": [\"unit_power\", \"times_zero\"],\n",
    "        \"episode_transforms\": [],\n",
    "        \"domain_prefix\": \"CORES_\"\n",
    "    }   \n",
    "]\n",
    "\n",
    "standalone_parameters[\"torch_default_dtype\"] = \"torch.float32\" \n",
    "\n",
    "\n",
    "\n",
    "standalone_parameters[\"x_net\"] =     [\n",
    "    {\"class\": \"nnReshape\", \"kargs\": {\"shape\":[-1, 1, 2, 256]}},\n",
    "    {\"class\": \"Conv2d\", \"kargs\": { \"in_channels\":1, \"out_channels\":256, \"kernel_size\":(1,7), \"bias\":False, \"padding\":(0,3), },},\n",
    "    {\"class\": \"ReLU\", \"kargs\": {\"inplace\": True}},\n",
    "    {\"class\": \"BatchNorm2d\", \"kargs\": {\"num_features\":256}},\n",
    "\n",
    "    {\"class\": \"Conv2d\", \"kargs\": { \"in_channels\":256, \"out_channels\":80, \"kernel_size\":(2,7), \"bias\":True, \"padding\":(0,3), },},\n",
    "    {\"class\": \"ReLU\", \"kargs\": {\"inplace\": True}},\n",
    "    {\"class\": \"BatchNorm2d\", \"kargs\": {\"num_features\":80}},\n",
    "    {\"class\": \"Flatten\", \"kargs\": {}},\n",
    "\n",
    "    {\"class\": \"Linear\", \"kargs\": {\"in_features\": 80*256, \"out_features\": 256}}, # 80 units per IQ pair\n",
    "    {\"class\": \"ReLU\", \"kargs\": {\"inplace\": True}},\n",
    "    {\"class\": \"BatchNorm1d\", \"kargs\": {\"num_features\":256}},\n",
    "\n",
    "    {\"class\": \"Linear\", \"kargs\": {\"in_features\": 256, \"out_features\": 256}},\n",
    "]\n",
    "\n",
    "# Parameters relevant to results\n",
    "# These parameters will basically never need to change\n",
    "standalone_parameters[\"NUM_LOGS_PER_EPOCH\"] = 10\n",
    "standalone_parameters[\"BEST_MODEL_PATH\"] = \"./best_model.pth\"\n",
    "\n",
    "\n",
    "\n",
    "\n"
   ]
  },
  {
   "cell_type": "code",
   "execution_count": 4,
   "id": "8fb556ce",
   "metadata": {
    "execution": {
     "iopub.execute_input": "2022-03-21T16:15:53.141660Z",
     "iopub.status.busy": "2022-03-21T16:15:53.138841Z",
     "iopub.status.idle": "2022-03-21T16:15:53.166094Z",
     "shell.execute_reply": "2022-03-21T16:15:53.166417Z"
    },
    "papermill": {
     "duration": 0.062088,
     "end_time": "2022-03-21T16:15:53.166559",
     "exception": false,
     "start_time": "2022-03-21T16:15:53.104471",
     "status": "completed"
    },
    "tags": [
     "injected-parameters"
    ]
   },
   "outputs": [],
   "source": [
    "# Parameters\n",
    "parameters = {\n",
    "    \"experiment_name\": \"tl_1v2:wisig-oracle.run1.framed\",\n",
    "    \"device\": \"cuda\",\n",
    "    \"lr\": 0.0001,\n",
    "    \"n_shot\": 3,\n",
    "    \"n_query\": 2,\n",
    "    \"train_k_factor\": 3,\n",
    "    \"val_k_factor\": 2,\n",
    "    \"test_k_factor\": 2,\n",
    "    \"torch_default_dtype\": \"torch.float32\",\n",
    "    \"n_epoch\": 50,\n",
    "    \"patience\": 3,\n",
    "    \"criteria_for_best\": \"target_accuracy\",\n",
    "    \"x_net\": [\n",
    "        {\"class\": \"nnReshape\", \"kargs\": {\"shape\": [-1, 1, 2, 256]}},\n",
    "        {\n",
    "            \"class\": \"Conv2d\",\n",
    "            \"kargs\": {\n",
    "                \"in_channels\": 1,\n",
    "                \"out_channels\": 256,\n",
    "                \"kernel_size\": [1, 7],\n",
    "                \"bias\": False,\n",
    "                \"padding\": [0, 3],\n",
    "            },\n",
    "        },\n",
    "        {\"class\": \"ReLU\", \"kargs\": {\"inplace\": True}},\n",
    "        {\"class\": \"BatchNorm2d\", \"kargs\": {\"num_features\": 256}},\n",
    "        {\n",
    "            \"class\": \"Conv2d\",\n",
    "            \"kargs\": {\n",
    "                \"in_channels\": 256,\n",
    "                \"out_channels\": 80,\n",
    "                \"kernel_size\": [2, 7],\n",
    "                \"bias\": True,\n",
    "                \"padding\": [0, 3],\n",
    "            },\n",
    "        },\n",
    "        {\"class\": \"ReLU\", \"kargs\": {\"inplace\": True}},\n",
    "        {\"class\": \"BatchNorm2d\", \"kargs\": {\"num_features\": 80}},\n",
    "        {\"class\": \"Flatten\", \"kargs\": {}},\n",
    "        {\"class\": \"Linear\", \"kargs\": {\"in_features\": 20480, \"out_features\": 256}},\n",
    "        {\"class\": \"ReLU\", \"kargs\": {\"inplace\": True}},\n",
    "        {\"class\": \"BatchNorm1d\", \"kargs\": {\"num_features\": 256}},\n",
    "        {\"class\": \"Linear\", \"kargs\": {\"in_features\": 256, \"out_features\": 256}},\n",
    "    ],\n",
    "    \"NUM_LOGS_PER_EPOCH\": 10,\n",
    "    \"BEST_MODEL_PATH\": \"./best_model.pth\",\n",
    "    \"n_way\": 16,\n",
    "    \"datasets\": [\n",
    "        {\n",
    "            \"labels\": [\n",
    "                \"1-10\",\n",
    "                \"1-12\",\n",
    "                \"1-14\",\n",
    "                \"1-16\",\n",
    "                \"1-18\",\n",
    "                \"1-19\",\n",
    "                \"1-8\",\n",
    "                \"10-11\",\n",
    "                \"10-17\",\n",
    "                \"10-4\",\n",
    "                \"10-7\",\n",
    "                \"11-1\",\n",
    "                \"11-10\",\n",
    "                \"11-19\",\n",
    "                \"11-20\",\n",
    "                \"11-4\",\n",
    "                \"11-7\",\n",
    "                \"12-19\",\n",
    "                \"12-20\",\n",
    "                \"12-7\",\n",
    "                \"13-14\",\n",
    "                \"13-18\",\n",
    "                \"13-19\",\n",
    "                \"13-20\",\n",
    "                \"13-3\",\n",
    "                \"13-7\",\n",
    "                \"14-10\",\n",
    "                \"14-11\",\n",
    "                \"14-12\",\n",
    "                \"14-13\",\n",
    "                \"14-14\",\n",
    "                \"14-19\",\n",
    "                \"14-20\",\n",
    "                \"14-7\",\n",
    "                \"14-8\",\n",
    "                \"14-9\",\n",
    "                \"15-1\",\n",
    "                \"15-19\",\n",
    "                \"15-6\",\n",
    "                \"16-1\",\n",
    "                \"16-16\",\n",
    "                \"16-19\",\n",
    "                \"16-20\",\n",
    "                \"17-10\",\n",
    "                \"17-11\",\n",
    "                \"18-1\",\n",
    "                \"18-10\",\n",
    "                \"18-11\",\n",
    "                \"18-12\",\n",
    "                \"18-13\",\n",
    "                \"18-14\",\n",
    "                \"18-15\",\n",
    "                \"18-16\",\n",
    "                \"18-17\",\n",
    "                \"18-19\",\n",
    "                \"18-2\",\n",
    "                \"18-20\",\n",
    "                \"18-4\",\n",
    "                \"18-5\",\n",
    "                \"18-7\",\n",
    "                \"18-8\",\n",
    "                \"18-9\",\n",
    "                \"19-1\",\n",
    "                \"19-10\",\n",
    "                \"19-11\",\n",
    "                \"19-12\",\n",
    "                \"19-13\",\n",
    "                \"19-14\",\n",
    "                \"19-15\",\n",
    "                \"19-19\",\n",
    "                \"19-2\",\n",
    "                \"19-20\",\n",
    "                \"19-3\",\n",
    "                \"19-4\",\n",
    "                \"19-6\",\n",
    "                \"19-7\",\n",
    "                \"19-8\",\n",
    "                \"19-9\",\n",
    "                \"2-1\",\n",
    "                \"2-13\",\n",
    "                \"2-15\",\n",
    "                \"2-3\",\n",
    "                \"2-4\",\n",
    "                \"2-5\",\n",
    "                \"2-6\",\n",
    "                \"2-7\",\n",
    "                \"2-8\",\n",
    "                \"20-1\",\n",
    "                \"20-12\",\n",
    "                \"20-14\",\n",
    "                \"20-15\",\n",
    "                \"20-16\",\n",
    "                \"20-18\",\n",
    "                \"20-19\",\n",
    "                \"20-20\",\n",
    "                \"20-3\",\n",
    "                \"20-4\",\n",
    "                \"20-5\",\n",
    "                \"20-7\",\n",
    "                \"20-8\",\n",
    "                \"3-1\",\n",
    "                \"3-13\",\n",
    "                \"3-18\",\n",
    "                \"3-2\",\n",
    "                \"3-8\",\n",
    "                \"4-1\",\n",
    "                \"4-10\",\n",
    "                \"4-11\",\n",
    "                \"5-1\",\n",
    "                \"5-5\",\n",
    "                \"6-1\",\n",
    "                \"6-15\",\n",
    "                \"6-6\",\n",
    "                \"7-10\",\n",
    "                \"7-11\",\n",
    "                \"7-12\",\n",
    "                \"7-13\",\n",
    "                \"7-14\",\n",
    "                \"7-7\",\n",
    "                \"7-8\",\n",
    "                \"7-9\",\n",
    "                \"8-1\",\n",
    "                \"8-13\",\n",
    "                \"8-14\",\n",
    "                \"8-18\",\n",
    "                \"8-20\",\n",
    "                \"8-3\",\n",
    "                \"8-8\",\n",
    "                \"9-1\",\n",
    "                \"9-7\",\n",
    "            ],\n",
    "            \"domains\": [1, 2, 3, 4],\n",
    "            \"num_examples_per_domain_per_label\": -1,\n",
    "            \"pickle_path\": \"/root/csc500-main/datasets/wisig.node3-19.stratified_ds.2022A.pkl\",\n",
    "            \"source_or_target_dataset\": \"target\",\n",
    "            \"x_transforms\": [],\n",
    "            \"episode_transforms\": [],\n",
    "            \"domain_prefix\": \"Wisig_\",\n",
    "        },\n",
    "        {\n",
    "            \"labels\": [\n",
    "                \"3123D52\",\n",
    "                \"3123D65\",\n",
    "                \"3123D79\",\n",
    "                \"3123D80\",\n",
    "                \"3123D54\",\n",
    "                \"3123D70\",\n",
    "                \"3123D7B\",\n",
    "                \"3123D89\",\n",
    "                \"3123D58\",\n",
    "                \"3123D76\",\n",
    "                \"3123D7D\",\n",
    "                \"3123EFE\",\n",
    "                \"3123D64\",\n",
    "                \"3123D78\",\n",
    "                \"3123D7E\",\n",
    "                \"3124E4A\",\n",
    "            ],\n",
    "            \"domains\": [32, 38, 8, 44, 14, 50, 20, 26],\n",
    "            \"num_examples_per_domain_per_label\": 2000,\n",
    "            \"pickle_path\": \"/root/csc500-main/datasets/oracle.Run1_framed_2000Examples_stratified_ds.2022A.pkl\",\n",
    "            \"source_or_target_dataset\": \"source\",\n",
    "            \"x_transforms\": [],\n",
    "            \"episode_transforms\": [],\n",
    "            \"domain_prefix\": \"ORACLE.run1\",\n",
    "        },\n",
    "    ],\n",
    "    \"dataset_seed\": 7,\n",
    "    \"seed\": 7,\n",
    "}\n"
   ]
  },
  {
   "cell_type": "code",
   "execution_count": 5,
   "id": "8fa1cc33",
   "metadata": {
    "execution": {
     "iopub.execute_input": "2022-03-21T16:15:53.214065Z",
     "iopub.status.busy": "2022-03-21T16:15:53.213447Z",
     "iopub.status.idle": "2022-03-21T16:15:53.236500Z",
     "shell.execute_reply": "2022-03-21T16:15:53.236115Z"
    },
    "papermill": {
     "duration": 0.048794,
     "end_time": "2022-03-21T16:15:53.236606",
     "exception": false,
     "start_time": "2022-03-21T16:15:53.187812",
     "status": "completed"
    },
    "tags": []
   },
   "outputs": [],
   "source": [
    "# Set this to True if you want to run this template directly\n",
    "STANDALONE = False\n",
    "if STANDALONE:\n",
    "    print(\"parameters not injected, running with standalone_parameters\")\n",
    "    parameters = standalone_parameters\n",
    "\n",
    "if not 'parameters' in locals() and not 'parameters' in globals():\n",
    "    raise Exception(\"Parameter injection failed\")\n",
    "\n",
    "#Use an easy dict for all the parameters\n",
    "p = EasyDict(parameters)\n",
    "\n",
    "if \"x_shape\" not in p:\n",
    "    p.x_shape = [2,256] # Default to this if we dont supply x_shape\n",
    "\n",
    "\n",
    "supplied_keys = set(p.keys())\n",
    "\n",
    "if  supplied_keys != required_parameters:\n",
    "    print(\"Parameters are incorrect\")\n",
    "    if len(supplied_keys - required_parameters)>0: print(\"Shouldn't have:\", str(supplied_keys - required_parameters))\n",
    "    if len(required_parameters - supplied_keys)>0: print(\"Need to have:\", str(required_parameters - supplied_keys))\n",
    "    raise RuntimeError(\"Parameters are incorrect\")"
   ]
  },
  {
   "cell_type": "code",
   "execution_count": 6,
   "id": "3a028d58",
   "metadata": {
    "execution": {
     "iopub.execute_input": "2022-03-21T16:15:53.288363Z",
     "iopub.status.busy": "2022-03-21T16:15:53.287977Z",
     "iopub.status.idle": "2022-03-21T16:15:53.311096Z",
     "shell.execute_reply": "2022-03-21T16:15:53.310346Z"
    },
    "papermill": {
     "duration": 0.05194,
     "end_time": "2022-03-21T16:15:53.311278",
     "exception": false,
     "start_time": "2022-03-21T16:15:53.259338",
     "status": "completed"
    },
    "tags": []
   },
   "outputs": [],
   "source": [
    "###################################\n",
    "# Set the RNGs and make it all deterministic\n",
    "###################################\n",
    "np.random.seed(p.seed)\n",
    "random.seed(p.seed)\n",
    "torch.manual_seed(p.seed)\n",
    "\n",
    "torch.use_deterministic_algorithms(True) "
   ]
  },
  {
   "cell_type": "code",
   "execution_count": 7,
   "id": "b691acf6",
   "metadata": {
    "execution": {
     "iopub.execute_input": "2022-03-21T16:15:53.363342Z",
     "iopub.status.busy": "2022-03-21T16:15:53.362960Z",
     "iopub.status.idle": "2022-03-21T16:15:53.385380Z",
     "shell.execute_reply": "2022-03-21T16:15:53.384625Z"
    },
    "papermill": {
     "duration": 0.045774,
     "end_time": "2022-03-21T16:15:53.385561",
     "exception": false,
     "start_time": "2022-03-21T16:15:53.339787",
     "status": "completed"
    },
    "tags": []
   },
   "outputs": [],
   "source": [
    "###########################################\n",
    "# The stratified datasets honor this\n",
    "###########################################\n",
    "torch.set_default_dtype(eval(p.torch_default_dtype))"
   ]
  },
  {
   "cell_type": "code",
   "execution_count": 8,
   "id": "b5fba671",
   "metadata": {
    "execution": {
     "iopub.execute_input": "2022-03-21T16:15:53.437062Z",
     "iopub.status.busy": "2022-03-21T16:15:53.436679Z",
     "iopub.status.idle": "2022-03-21T16:15:53.496453Z",
     "shell.execute_reply": "2022-03-21T16:15:53.495649Z"
    },
    "papermill": {
     "duration": 0.084243,
     "end_time": "2022-03-21T16:15:53.496649",
     "exception": false,
     "start_time": "2022-03-21T16:15:53.412406",
     "status": "completed"
    },
    "tags": []
   },
   "outputs": [],
   "source": [
    "###################################\n",
    "# Build the network(s)\n",
    "# Note: It's critical to do this AFTER setting the RNG\n",
    "###################################\n",
    "x_net = build_sequential(p.x_net)"
   ]
  },
  {
   "cell_type": "code",
   "execution_count": 9,
   "id": "5d7e61cc",
   "metadata": {
    "execution": {
     "iopub.execute_input": "2022-03-21T16:15:53.548143Z",
     "iopub.status.busy": "2022-03-21T16:15:53.547762Z",
     "iopub.status.idle": "2022-03-21T16:15:53.571381Z",
     "shell.execute_reply": "2022-03-21T16:15:53.570588Z"
    },
    "papermill": {
     "duration": 0.049295,
     "end_time": "2022-03-21T16:15:53.571574",
     "exception": false,
     "start_time": "2022-03-21T16:15:53.522279",
     "status": "completed"
    },
    "tags": []
   },
   "outputs": [],
   "source": [
    "start_time_secs = time.time()"
   ]
  },
  {
   "cell_type": "code",
   "execution_count": 10,
   "id": "c6b67dfd",
   "metadata": {
    "execution": {
     "iopub.execute_input": "2022-03-21T16:15:53.623251Z",
     "iopub.status.busy": "2022-03-21T16:15:53.622569Z",
     "iopub.status.idle": "2022-03-21T16:15:53.647651Z",
     "shell.execute_reply": "2022-03-21T16:15:53.646903Z"
    },
    "papermill": {
     "duration": 0.050241,
     "end_time": "2022-03-21T16:15:53.647842",
     "exception": false,
     "start_time": "2022-03-21T16:15:53.597601",
     "status": "completed"
    },
    "tags": []
   },
   "outputs": [],
   "source": [
    "p.domains_source = []\n",
    "p.domains_target = []\n",
    "\n",
    "\n",
    "train_original_source = []\n",
    "val_original_source   = []\n",
    "test_original_source  = []\n",
    "\n",
    "train_original_target = []\n",
    "val_original_target   = []\n",
    "test_original_target  = []"
   ]
  },
  {
   "cell_type": "code",
   "execution_count": 11,
   "id": "e3d9c3d3",
   "metadata": {
    "execution": {
     "iopub.execute_input": "2022-03-21T16:15:53.698342Z",
     "iopub.status.busy": "2022-03-21T16:15:53.697956Z",
     "iopub.status.idle": "2022-03-21T16:15:53.723486Z",
     "shell.execute_reply": "2022-03-21T16:15:53.722636Z"
    },
    "papermill": {
     "duration": 0.050074,
     "end_time": "2022-03-21T16:15:53.723697",
     "exception": false,
     "start_time": "2022-03-21T16:15:53.673623",
     "status": "completed"
    },
    "tags": []
   },
   "outputs": [],
   "source": [
    "# global_x_transform_func = lambda x: normalize(x.to(torch.get_default_dtype()), \"unit_power\") # unit_power, unit_mag\n",
    "# global_x_transform_func = lambda x: normalize(x, \"unit_power\") # unit_power, unit_mag"
   ]
  },
  {
   "cell_type": "code",
   "execution_count": 12,
   "id": "acb78fd2",
   "metadata": {
    "execution": {
     "iopub.execute_input": "2022-03-21T16:15:53.786653Z",
     "iopub.status.busy": "2022-03-21T16:15:53.785783Z",
     "iopub.status.idle": "2022-03-21T16:15:53.809095Z",
     "shell.execute_reply": "2022-03-21T16:15:53.808309Z"
    },
    "papermill": {
     "duration": 0.057765,
     "end_time": "2022-03-21T16:15:53.809277",
     "exception": false,
     "start_time": "2022-03-21T16:15:53.751512",
     "status": "completed"
    },
    "tags": []
   },
   "outputs": [],
   "source": [
    "def add_dataset(\n",
    "    labels,\n",
    "    domains,\n",
    "    pickle_path,\n",
    "    x_transforms,\n",
    "    episode_transforms,\n",
    "    domain_prefix,\n",
    "    num_examples_per_domain_per_label,\n",
    "    source_or_target_dataset:str,\n",
    "    iterator_seed=p.seed,\n",
    "    dataset_seed=p.dataset_seed,\n",
    "    n_shot=p.n_shot,\n",
    "    n_way=p.n_way,\n",
    "    n_query=p.n_query,\n",
    "    train_val_test_k_factors=(p.train_k_factor,p.val_k_factor,p.test_k_factor),\n",
    "):\n",
    "   \n",
    "    if x_transforms == []: x_transform = None\n",
    "    else: x_transform = get_chained_transform(x_transforms)\n",
    "    \n",
    "    if episode_transforms == []: episode_transform = None\n",
    "    else: raise Exception(\"episode_transforms not implemented\")\n",
    "    \n",
    "    episode_transform = lambda tup, _prefix=domain_prefix: (_prefix + str(tup[0]), tup[1])\n",
    "\n",
    "\n",
    "    eaf = Episodic_Accessor_Factory(\n",
    "        labels=labels,\n",
    "        domains=domains,\n",
    "        num_examples_per_domain_per_label=num_examples_per_domain_per_label,\n",
    "        iterator_seed=iterator_seed,\n",
    "        dataset_seed=dataset_seed,\n",
    "        n_shot=n_shot,\n",
    "        n_way=n_way,\n",
    "        n_query=n_query,\n",
    "        train_val_test_k_factors=train_val_test_k_factors,\n",
    "        pickle_path=pickle_path,\n",
    "        x_transform_func=x_transform,\n",
    "    )\n",
    "\n",
    "    train, val, test = eaf.get_train(), eaf.get_val(), eaf.get_test()\n",
    "    train = Lazy_Iterable_Wrapper(train, episode_transform)\n",
    "    val = Lazy_Iterable_Wrapper(val, episode_transform)\n",
    "    test = Lazy_Iterable_Wrapper(test, episode_transform)\n",
    "\n",
    "    if source_or_target_dataset==\"source\":\n",
    "        train_original_source.append(train)\n",
    "        val_original_source.append(val)\n",
    "        test_original_source.append(test)\n",
    "\n",
    "        p.domains_source.extend(\n",
    "            [domain_prefix + str(u) for u in domains]\n",
    "        )\n",
    "    elif source_or_target_dataset==\"target\":\n",
    "        train_original_target.append(train)\n",
    "        val_original_target.append(val)\n",
    "        test_original_target.append(test)\n",
    "        p.domains_target.extend(\n",
    "            [domain_prefix + str(u) for u in domains]\n",
    "        )\n",
    "    else:\n",
    "        raise Exception(f\"invalid source_or_target_dataset: {source_or_target_dataset}\")\n",
    "    "
   ]
  },
  {
   "cell_type": "code",
   "execution_count": 13,
   "id": "fe266617",
   "metadata": {
    "execution": {
     "iopub.execute_input": "2022-03-21T16:15:53.862220Z",
     "iopub.status.busy": "2022-03-21T16:15:53.861840Z",
     "iopub.status.idle": "2022-03-21T16:15:57.729469Z",
     "shell.execute_reply": "2022-03-21T16:15:57.728729Z"
    },
    "papermill": {
     "duration": 3.891819,
     "end_time": "2022-03-21T16:15:57.729660",
     "exception": false,
     "start_time": "2022-03-21T16:15:53.837841",
     "status": "completed"
    },
    "tags": []
   },
   "outputs": [],
   "source": [
    "for ds in p.datasets:\n",
    "    add_dataset(**ds)"
   ]
  },
  {
   "cell_type": "code",
   "execution_count": 14,
   "id": "b90d65ac",
   "metadata": {
    "execution": {
     "iopub.execute_input": "2022-03-21T16:15:57.780851Z",
     "iopub.status.busy": "2022-03-21T16:15:57.780462Z",
     "iopub.status.idle": "2022-03-21T16:15:57.807934Z",
     "shell.execute_reply": "2022-03-21T16:15:57.807050Z"
    },
    "papermill": {
     "duration": 0.053038,
     "end_time": "2022-03-21T16:15:57.808104",
     "exception": false,
     "start_time": "2022-03-21T16:15:57.755066",
     "status": "completed"
    },
    "tags": []
   },
   "outputs": [],
   "source": [
    "# from steves_utils.CORES.utils import (\n",
    "#     ALL_NODES,\n",
    "#     ALL_NODES_MINIMUM_1000_EXAMPLES,\n",
    "#     ALL_DAYS\n",
    "# )\n",
    "\n",
    "# add_dataset(\n",
    "#     labels=ALL_NODES,\n",
    "#     domains = ALL_DAYS,\n",
    "#     num_examples_per_domain_per_label=100,\n",
    "#     pickle_path=os.path.join(get_datasets_base_path(), \"cores.stratified_ds.2022A.pkl\"),\n",
    "#     source_or_target_dataset=\"target\",\n",
    "#     x_transform_func=global_x_transform_func,\n",
    "#     domain_modifier=lambda u: f\"cores_{u}\"\n",
    "# )"
   ]
  },
  {
   "cell_type": "code",
   "execution_count": 15,
   "id": "76db484d",
   "metadata": {
    "execution": {
     "iopub.execute_input": "2022-03-21T16:15:57.862475Z",
     "iopub.status.busy": "2022-03-21T16:15:57.861892Z",
     "iopub.status.idle": "2022-03-21T16:15:57.888233Z",
     "shell.execute_reply": "2022-03-21T16:15:57.887372Z"
    },
    "papermill": {
     "duration": 0.051618,
     "end_time": "2022-03-21T16:15:57.888403",
     "exception": false,
     "start_time": "2022-03-21T16:15:57.836785",
     "status": "completed"
    },
    "tags": []
   },
   "outputs": [],
   "source": [
    "# from steves_utils.ORACLE.utils_v2 import (\n",
    "#     ALL_DISTANCES_FEET,\n",
    "#     ALL_RUNS,\n",
    "#     ALL_SERIAL_NUMBERS,\n",
    "# )\n",
    "\n",
    "\n",
    "# add_dataset(\n",
    "#     labels=ALL_SERIAL_NUMBERS,\n",
    "#     domains = list(set(ALL_DISTANCES_FEET) - {2,62}),\n",
    "#     num_examples_per_domain_per_label=100,\n",
    "#     pickle_path=os.path.join(get_datasets_base_path(), \"oracle.Run2_framed_2000Examples_stratified_ds.2022A.pkl\"),\n",
    "#     source_or_target_dataset=\"source\",\n",
    "#     x_transform_func=global_x_transform_func,\n",
    "#     domain_modifier=lambda u: f\"oracle1_{u}\"\n",
    "# )\n"
   ]
  },
  {
   "cell_type": "code",
   "execution_count": 16,
   "id": "97dea9d2",
   "metadata": {
    "execution": {
     "iopub.execute_input": "2022-03-21T16:15:57.944390Z",
     "iopub.status.busy": "2022-03-21T16:15:57.943507Z",
     "iopub.status.idle": "2022-03-21T16:15:57.969023Z",
     "shell.execute_reply": "2022-03-21T16:15:57.968298Z"
    },
    "papermill": {
     "duration": 0.05041,
     "end_time": "2022-03-21T16:15:57.969190",
     "exception": false,
     "start_time": "2022-03-21T16:15:57.918780",
     "status": "completed"
    },
    "tags": []
   },
   "outputs": [],
   "source": [
    "# from steves_utils.ORACLE.utils_v2 import (\n",
    "#     ALL_DISTANCES_FEET,\n",
    "#     ALL_RUNS,\n",
    "#     ALL_SERIAL_NUMBERS,\n",
    "# )\n",
    "\n",
    "\n",
    "# add_dataset(\n",
    "#     labels=ALL_SERIAL_NUMBERS,\n",
    "#     domains = list(set(ALL_DISTANCES_FEET) - {2,62,56}),\n",
    "#     num_examples_per_domain_per_label=100,\n",
    "#     pickle_path=os.path.join(get_datasets_base_path(), \"oracle.Run2_framed_2000Examples_stratified_ds.2022A.pkl\"),\n",
    "#     source_or_target_dataset=\"source\",\n",
    "#     x_transform_func=global_x_transform_func,\n",
    "#     domain_modifier=lambda u: f\"oracle2_{u}\"\n",
    "# )"
   ]
  },
  {
   "cell_type": "code",
   "execution_count": 17,
   "id": "6f289866",
   "metadata": {
    "execution": {
     "iopub.execute_input": "2022-03-21T16:15:58.024994Z",
     "iopub.status.busy": "2022-03-21T16:15:58.024612Z",
     "iopub.status.idle": "2022-03-21T16:15:58.050503Z",
     "shell.execute_reply": "2022-03-21T16:15:58.049762Z"
    },
    "papermill": {
     "duration": 0.051249,
     "end_time": "2022-03-21T16:15:58.050676",
     "exception": false,
     "start_time": "2022-03-21T16:15:57.999427",
     "status": "completed"
    },
    "tags": []
   },
   "outputs": [],
   "source": [
    "# add_dataset(\n",
    "#     labels=list(range(19)),\n",
    "#     domains = [0,1,2],\n",
    "#     num_examples_per_domain_per_label=100,\n",
    "#     pickle_path=os.path.join(get_datasets_base_path(), \"metehan.stratified_ds.2022A.pkl\"),\n",
    "#     source_or_target_dataset=\"target\",\n",
    "#     x_transform_func=global_x_transform_func,\n",
    "#     domain_modifier=lambda u: f\"met_{u}\"\n",
    "# )"
   ]
  },
  {
   "cell_type": "code",
   "execution_count": 18,
   "id": "86a863c3",
   "metadata": {
    "execution": {
     "iopub.execute_input": "2022-03-21T16:15:58.103119Z",
     "iopub.status.busy": "2022-03-21T16:15:58.102733Z",
     "iopub.status.idle": "2022-03-21T16:15:58.129157Z",
     "shell.execute_reply": "2022-03-21T16:15:58.128375Z"
    },
    "papermill": {
     "duration": 0.051536,
     "end_time": "2022-03-21T16:15:58.129332",
     "exception": false,
     "start_time": "2022-03-21T16:15:58.077796",
     "status": "completed"
    },
    "tags": []
   },
   "outputs": [],
   "source": [
    "# # from steves_utils.wisig.utils import (\n",
    "# #     ALL_NODES_MINIMUM_100_EXAMPLES,\n",
    "# #     ALL_NODES_MINIMUM_500_EXAMPLES,\n",
    "# #     ALL_NODES_MINIMUM_1000_EXAMPLES,\n",
    "# #     ALL_DAYS\n",
    "# # )\n",
    "\n",
    "# import steves_utils.wisig.utils as wisig\n",
    "\n",
    "\n",
    "# add_dataset(\n",
    "#     labels=wisig.ALL_NODES_MINIMUM_100_EXAMPLES,\n",
    "#     domains = wisig.ALL_DAYS,\n",
    "#     num_examples_per_domain_per_label=100,\n",
    "#     pickle_path=os.path.join(get_datasets_base_path(), \"wisig.node3-19.stratified_ds.2022A.pkl\"),\n",
    "#     source_or_target_dataset=\"target\",\n",
    "#     x_transform_func=global_x_transform_func,\n",
    "#     domain_modifier=lambda u: f\"wisig_{u}\"\n",
    "# )"
   ]
  },
  {
   "cell_type": "code",
   "execution_count": 19,
   "id": "fd5442bc",
   "metadata": {
    "execution": {
     "iopub.execute_input": "2022-03-21T16:15:58.190752Z",
     "iopub.status.busy": "2022-03-21T16:15:58.190083Z",
     "iopub.status.idle": "2022-03-21T16:15:58.214626Z",
     "shell.execute_reply": "2022-03-21T16:15:58.213893Z"
    },
    "papermill": {
     "duration": 0.056412,
     "end_time": "2022-03-21T16:15:58.214803",
     "exception": false,
     "start_time": "2022-03-21T16:15:58.158391",
     "status": "completed"
    },
    "tags": []
   },
   "outputs": [],
   "source": [
    "###################################\n",
    "# Build the dataset\n",
    "###################################\n",
    "train_original_source = Iterable_Aggregator(train_original_source, p.seed)\n",
    "val_original_source = Iterable_Aggregator(val_original_source, p.seed)\n",
    "test_original_source = Iterable_Aggregator(test_original_source, p.seed)\n",
    "\n",
    "\n",
    "train_original_target = Iterable_Aggregator(train_original_target, p.seed)\n",
    "val_original_target = Iterable_Aggregator(val_original_target, p.seed)\n",
    "test_original_target = Iterable_Aggregator(test_original_target, p.seed)\n",
    "\n",
    "# For CNN We only use X and Y. And we only train on the source.\n",
    "# Properly form the data using a transform lambda and Lazy_Iterable_Wrapper. Finally wrap them in a dataloader\n",
    "\n",
    "transform_lambda = lambda ex: ex[1] # Original is (<domain>, <episode>) so we strip down to episode only\n",
    "\n",
    "train_processed_source = Lazy_Iterable_Wrapper(train_original_source, transform_lambda)\n",
    "val_processed_source   = Lazy_Iterable_Wrapper(val_original_source, transform_lambda)\n",
    "test_processed_source  = Lazy_Iterable_Wrapper(test_original_source, transform_lambda)\n",
    "\n",
    "train_processed_target = Lazy_Iterable_Wrapper(train_original_target, transform_lambda)\n",
    "val_processed_target   = Lazy_Iterable_Wrapper(val_original_target, transform_lambda)\n",
    "test_processed_target  = Lazy_Iterable_Wrapper(test_original_target, transform_lambda)\n",
    "\n",
    "datasets = EasyDict({\n",
    "    \"source\": {\n",
    "        \"original\": {\"train\":train_original_source, \"val\":val_original_source, \"test\":test_original_source},\n",
    "        \"processed\": {\"train\":train_processed_source, \"val\":val_processed_source, \"test\":test_processed_source}\n",
    "    },\n",
    "    \"target\": {\n",
    "        \"original\": {\"train\":train_original_target, \"val\":val_original_target, \"test\":test_original_target},\n",
    "        \"processed\": {\"train\":train_processed_target, \"val\":val_processed_target, \"test\":test_processed_target}\n",
    "    },\n",
    "})"
   ]
  },
  {
   "cell_type": "code",
   "execution_count": 20,
   "id": "5b3c01fc",
   "metadata": {
    "execution": {
     "iopub.execute_input": "2022-03-21T16:15:58.269738Z",
     "iopub.status.busy": "2022-03-21T16:15:58.269359Z",
     "iopub.status.idle": "2022-03-21T16:16:13.765537Z",
     "shell.execute_reply": "2022-03-21T16:16:13.766258Z"
    },
    "papermill": {
     "duration": 15.52418,
     "end_time": "2022-03-21T16:16:13.766486",
     "exception": false,
     "start_time": "2022-03-21T16:15:58.242306",
     "status": "completed"
    },
    "tags": []
   },
   "outputs": [
    {
     "name": "stdout",
     "output_type": "stream",
     "text": [
      "{'ORACLE.run114', 'ORACLE.run138', 'ORACLE.run18', 'ORACLE.run150', 'ORACLE.run132', 'ORACLE.run144', 'ORACLE.run126', 'ORACLE.run120'}\n"
     ]
    },
    {
     "name": "stdout",
     "output_type": "stream",
     "text": [
      "{'Wisig_1', 'Wisig_2', 'Wisig_4', 'Wisig_3'}\n"
     ]
    },
    {
     "name": "stdout",
     "output_type": "stream",
     "text": [
      "tensor([[[ 3.1434e-03,  2.3804e-03, -3.1434e-03,  ..., -2.6246e-03,\n",
      "           3.0519e-05, -4.3031e-03],\n",
      "         [-1.9837e-03,  1.5564e-03,  3.2350e-03,  ..., -2.6856e-03,\n",
      "          -4.7609e-03, -1.2207e-04]],\n",
      "\n",
      "        [[ 1.5564e-03,  3.7233e-03, -2.5025e-03,  ..., -2.7161e-03,\n",
      "           3.1434e-03, -9.1556e-05],\n",
      "         [-1.3123e-03,  2.2279e-03,  1.1902e-03,  ..., -1.8006e-03,\n",
      "          -3.5096e-03, -3.3570e-03]],\n",
      "\n",
      "        [[-1.2207e-03, -2.4110e-03,  3.0519e-03,  ...,  2.5941e-03,\n",
      "          -3.8148e-03, -1.3123e-03],\n",
      "         [ 9.1556e-04, -3.2655e-03, -6.7141e-04,  ...,  2.7467e-03,\n",
      "           2.4720e-03,  2.8382e-03]],\n",
      "\n",
      "        ...,\n",
      "\n",
      "        [[-1.5564e-03, -3.5707e-03,  1.5259e-03,  ...,  3.5707e-03,\n",
      "           1.4954e-03,  3.9674e-03],\n",
      "         [ 3.6927e-03,  2.4415e-04, -4.2421e-03,  ...,  2.1363e-04,\n",
      "           4.4252e-03, -9.7659e-04]],\n",
      "\n",
      "        [[ 1.8921e-03,  3.0519e-05, -2.7161e-03,  ..., -2.7467e-04,\n",
      "           4.5778e-03,  2.7772e-03],\n",
      "         [ 0.0000e+00,  4.0895e-03, -1.5259e-03,  ..., -3.2350e-03,\n",
      "           5.4933e-04, -2.1363e-03]],\n",
      "\n",
      "        [[ 3.5707e-03,  1.8616e-03, -3.8453e-03,  ..., -2.5330e-03,\n",
      "           3.0519e-05, -5.1271e-03],\n",
      "         [-2.0142e-03,  1.9227e-03,  2.8687e-03,  ..., -3.1434e-03,\n",
      "          -4.4862e-03,  4.8830e-04]]])\n"
     ]
    }
   ],
   "source": [
    "from steves_utils.transforms import get_average_magnitude, get_average_power\n",
    "\n",
    "print(set([u for u,_ in val_original_source]))\n",
    "print(set([u for u,_ in val_original_target]))\n",
    "\n",
    "s_x, s_y, q_x, q_y, _ = next(iter(train_processed_source))\n",
    "print(s_x)\n",
    "\n",
    "# for ds in [\n",
    "#     train_processed_source,\n",
    "#     val_processed_source,\n",
    "#     test_processed_source,\n",
    "#     train_processed_target,\n",
    "#     val_processed_target,\n",
    "#     test_processed_target\n",
    "# ]:\n",
    "#     for s_x, s_y, q_x, q_y, _ in ds:\n",
    "#         for X in (s_x, q_x):\n",
    "#             for x in X:\n",
    "#                 assert np.isclose(get_average_magnitude(x.numpy()), 1.0)\n",
    "#                 assert np.isclose(get_average_power(x.numpy()), 1.0)\n",
    "                "
   ]
  },
  {
   "cell_type": "code",
   "execution_count": 21,
   "id": "bbdacba1",
   "metadata": {
    "execution": {
     "iopub.execute_input": "2022-03-21T16:16:13.826896Z",
     "iopub.status.busy": "2022-03-21T16:16:13.826510Z",
     "iopub.status.idle": "2022-03-21T16:16:14.084296Z",
     "shell.execute_reply": "2022-03-21T16:16:14.083436Z"
    },
    "papermill": {
     "duration": 0.28716,
     "end_time": "2022-03-21T16:16:14.084468",
     "exception": false,
     "start_time": "2022-03-21T16:16:13.797308",
     "status": "completed"
    },
    "tags": []
   },
   "outputs": [
    {
     "name": "stdout",
     "output_type": "stream",
     "text": [
      "(2, 256)\n"
     ]
    }
   ],
   "source": [
    "###################################\n",
    "# Build the model\n",
    "###################################\n",
    "# easfsl only wants a tuple for the shape\n",
    "model = Steves_Prototypical_Network(x_net, device=p.device, x_shape=tuple(p.x_shape))\n",
    "optimizer = Adam(params=model.parameters(), lr=p.lr)"
   ]
  },
  {
   "cell_type": "code",
   "execution_count": 22,
   "id": "22b39ac5",
   "metadata": {
    "execution": {
     "iopub.execute_input": "2022-03-21T16:16:14.141843Z",
     "iopub.status.busy": "2022-03-21T16:16:14.141103Z",
     "iopub.status.idle": "2022-03-21T16:46:51.060384Z",
     "shell.execute_reply": "2022-03-21T16:46:51.060037Z"
    },
    "papermill": {
     "duration": 1836.946813,
     "end_time": "2022-03-21T16:46:51.060472",
     "exception": false,
     "start_time": "2022-03-21T16:16:14.113659",
     "status": "completed"
    },
    "tags": []
   },
   "outputs": [
    {
     "name": "stdout",
     "output_type": "stream",
     "text": [
      "epoch: 1, [batch: 1 / 6720], examples_per_second: 31.0687, train_label_loss: 2.9645, \n"
     ]
    },
    {
     "name": "stdout",
     "output_type": "stream",
     "text": [
      "epoch: 1, [batch: 672 / 6720], examples_per_second: 2593.0573, train_label_loss: 0.5518, \n"
     ]
    },
    {
     "name": "stdout",
     "output_type": "stream",
     "text": [
      "epoch: 1, [batch: 1344 / 6720], examples_per_second: 2569.9247, train_label_loss: 0.5476, \n"
     ]
    },
    {
     "name": "stdout",
     "output_type": "stream",
     "text": [
      "epoch: 1, [batch: 2016 / 6720], examples_per_second: 2494.2124, train_label_loss: 0.5073, \n"
     ]
    },
    {
     "name": "stdout",
     "output_type": "stream",
     "text": [
      "epoch: 1, [batch: 2688 / 6720], examples_per_second: 2274.7762, train_label_loss: 0.2736, \n"
     ]
    },
    {
     "name": "stdout",
     "output_type": "stream",
     "text": [
      "epoch: 1, [batch: 3360 / 6720], examples_per_second: 2279.2208, train_label_loss: 0.2351, \n"
     ]
    },
    {
     "name": "stdout",
     "output_type": "stream",
     "text": [
      "epoch: 1, [batch: 4032 / 6720], examples_per_second: 2305.7056, train_label_loss: 0.2555, \n"
     ]
    },
    {
     "name": "stdout",
     "output_type": "stream",
     "text": [
      "epoch: 1, [batch: 4704 / 6720], examples_per_second: 2293.9840, train_label_loss: 0.4152, \n"
     ]
    },
    {
     "name": "stdout",
     "output_type": "stream",
     "text": [
      "epoch: 1, [batch: 5376 / 6720], examples_per_second: 2309.8143, train_label_loss: 0.4984, \n"
     ]
    },
    {
     "name": "stdout",
     "output_type": "stream",
     "text": [
      "epoch: 1, [batch: 6048 / 6720], examples_per_second: 2312.6905, train_label_loss: 0.2161, \n"
     ]
    },
    {
     "name": "stdout",
     "output_type": "stream",
     "text": [
      "=============================================================\n",
      "epoch: 1, source_val_acc_label: 0.6420, target_val_acc_label: 0.7984, source_val_label_loss: 110.6516, target_val_label_loss: 10222.7090, \n",
      "=============================================================\n"
     ]
    },
    {
     "name": "stdout",
     "output_type": "stream",
     "text": [
      "New best\n"
     ]
    },
    {
     "name": "stdout",
     "output_type": "stream",
     "text": [
      "epoch: 2, [batch: 1 / 6720], examples_per_second: 2.2194, train_label_loss: 364.7686, \n"
     ]
    },
    {
     "name": "stdout",
     "output_type": "stream",
     "text": [
      "epoch: 2, [batch: 672 / 6720], examples_per_second: 2661.7114, train_label_loss: 0.4853, \n"
     ]
    },
    {
     "name": "stdout",
     "output_type": "stream",
     "text": [
      "epoch: 2, [batch: 1344 / 6720], examples_per_second: 2646.4696, train_label_loss: 2.9322, \n"
     ]
    },
    {
     "name": "stdout",
     "output_type": "stream",
     "text": [
      "epoch: 2, [batch: 2016 / 6720], examples_per_second: 2658.6380, train_label_loss: 0.2368, \n"
     ]
    },
    {
     "name": "stdout",
     "output_type": "stream",
     "text": [
      "epoch: 2, [batch: 2688 / 6720], examples_per_second: 2613.3811, train_label_loss: 0.3122, \n"
     ]
    },
    {
     "name": "stdout",
     "output_type": "stream",
     "text": [
      "epoch: 2, [batch: 3360 / 6720], examples_per_second: 2652.9493, train_label_loss: 0.4933, \n"
     ]
    },
    {
     "name": "stdout",
     "output_type": "stream",
     "text": [
      "epoch: 2, [batch: 4032 / 6720], examples_per_second: 2605.7598, train_label_loss: 0.2754, \n"
     ]
    },
    {
     "name": "stdout",
     "output_type": "stream",
     "text": [
      "epoch: 2, [batch: 4704 / 6720], examples_per_second: 2667.3108, train_label_loss: 0.2621, \n"
     ]
    },
    {
     "name": "stdout",
     "output_type": "stream",
     "text": [
      "epoch: 2, [batch: 5376 / 6720], examples_per_second: 2620.5752, train_label_loss: 0.1596, \n"
     ]
    },
    {
     "name": "stdout",
     "output_type": "stream",
     "text": [
      "epoch: 2, [batch: 6048 / 6720], examples_per_second: 2631.3612, train_label_loss: 0.2683, \n"
     ]
    },
    {
     "name": "stdout",
     "output_type": "stream",
     "text": [
      "=============================================================\n",
      "epoch: 2, source_val_acc_label: 0.9122, target_val_acc_label: 0.4167, source_val_label_loss: 0.2645, target_val_label_loss: 1965.3110, \n",
      "=============================================================\n"
     ]
    },
    {
     "name": "stdout",
     "output_type": "stream",
     "text": [
      "epoch: 3, [batch: 1 / 6720], examples_per_second: 2.6767, train_label_loss: 0.1406, \n"
     ]
    },
    {
     "name": "stdout",
     "output_type": "stream",
     "text": [
      "epoch: 3, [batch: 672 / 6720], examples_per_second: 3143.9515, train_label_loss: 0.4496, \n"
     ]
    },
    {
     "name": "stdout",
     "output_type": "stream",
     "text": [
      "epoch: 3, [batch: 1344 / 6720], examples_per_second: 3002.1637, train_label_loss: 0.1568, \n"
     ]
    },
    {
     "name": "stdout",
     "output_type": "stream",
     "text": [
      "epoch: 3, [batch: 2016 / 6720], examples_per_second: 2983.1160, train_label_loss: 0.2657, \n"
     ]
    },
    {
     "name": "stdout",
     "output_type": "stream",
     "text": [
      "epoch: 3, [batch: 2688 / 6720], examples_per_second: 2938.3309, train_label_loss: 0.1752, \n"
     ]
    },
    {
     "name": "stdout",
     "output_type": "stream",
     "text": [
      "epoch: 3, [batch: 3360 / 6720], examples_per_second: 2932.1683, train_label_loss: 0.2743, \n"
     ]
    },
    {
     "name": "stdout",
     "output_type": "stream",
     "text": [
      "epoch: 3, [batch: 4032 / 6720], examples_per_second: 2791.5250, train_label_loss: 0.0618, \n"
     ]
    },
    {
     "name": "stdout",
     "output_type": "stream",
     "text": [
      "epoch: 3, [batch: 4704 / 6720], examples_per_second: 2316.5578, train_label_loss: 0.0344, \n"
     ]
    },
    {
     "name": "stdout",
     "output_type": "stream",
     "text": [
      "epoch: 3, [batch: 5376 / 6720], examples_per_second: 2310.5174, train_label_loss: 0.2538, \n"
     ]
    },
    {
     "name": "stdout",
     "output_type": "stream",
     "text": [
      "epoch: 3, [batch: 6048 / 6720], examples_per_second: 2309.8902, train_label_loss: 0.2211, \n"
     ]
    },
    {
     "name": "stdout",
     "output_type": "stream",
     "text": [
      "=============================================================\n",
      "epoch: 3, source_val_acc_label: 0.9169, target_val_acc_label: 0.8189, source_val_label_loss: 0.2488, target_val_label_loss: 187.4622, \n",
      "=============================================================\n"
     ]
    },
    {
     "name": "stdout",
     "output_type": "stream",
     "text": [
      "New best\n"
     ]
    },
    {
     "name": "stdout",
     "output_type": "stream",
     "text": [
      "epoch: 4, [batch: 1 / 6720], examples_per_second: 2.1977, train_label_loss: 0.2054, \n"
     ]
    },
    {
     "name": "stdout",
     "output_type": "stream",
     "text": [
      "epoch: 4, [batch: 672 / 6720], examples_per_second: 2410.5274, train_label_loss: 0.1754, \n"
     ]
    },
    {
     "name": "stdout",
     "output_type": "stream",
     "text": [
      "epoch: 4, [batch: 1344 / 6720], examples_per_second: 2286.8037, train_label_loss: 0.2061, \n"
     ]
    },
    {
     "name": "stdout",
     "output_type": "stream",
     "text": [
      "epoch: 4, [batch: 2016 / 6720], examples_per_second: 2294.5006, train_label_loss: 0.1830, \n"
     ]
    },
    {
     "name": "stdout",
     "output_type": "stream",
     "text": [
      "epoch: 4, [batch: 2688 / 6720], examples_per_second: 2571.2264, train_label_loss: 0.4827, \n"
     ]
    },
    {
     "name": "stdout",
     "output_type": "stream",
     "text": [
      "epoch: 4, [batch: 3360 / 6720], examples_per_second: 2584.3201, train_label_loss: 0.5706, \n"
     ]
    },
    {
     "name": "stdout",
     "output_type": "stream",
     "text": [
      "epoch: 4, [batch: 4032 / 6720], examples_per_second: 2590.0943, train_label_loss: 0.1969, \n"
     ]
    },
    {
     "name": "stdout",
     "output_type": "stream",
     "text": [
      "epoch: 4, [batch: 4704 / 6720], examples_per_second: 2372.6259, train_label_loss: 0.2299, \n"
     ]
    },
    {
     "name": "stdout",
     "output_type": "stream",
     "text": [
      "epoch: 4, [batch: 5376 / 6720], examples_per_second: 2577.5057, train_label_loss: 0.0500, \n"
     ]
    },
    {
     "name": "stdout",
     "output_type": "stream",
     "text": [
      "epoch: 4, [batch: 6048 / 6720], examples_per_second: 2593.4189, train_label_loss: 0.0559, \n"
     ]
    },
    {
     "name": "stdout",
     "output_type": "stream",
     "text": [
      "=============================================================\n",
      "epoch: 4, source_val_acc_label: 0.9295, target_val_acc_label: 0.7799, source_val_label_loss: 0.2025, target_val_label_loss: 970.9893, \n",
      "=============================================================\n"
     ]
    },
    {
     "name": "stdout",
     "output_type": "stream",
     "text": [
      "epoch: 5, [batch: 1 / 6720], examples_per_second: 2.4961, train_label_loss: 0.2536, \n"
     ]
    },
    {
     "name": "stdout",
     "output_type": "stream",
     "text": [
      "epoch: 5, [batch: 672 / 6720], examples_per_second: 2840.7476, train_label_loss: 0.1279, \n"
     ]
    },
    {
     "name": "stdout",
     "output_type": "stream",
     "text": [
      "epoch: 5, [batch: 1344 / 6720], examples_per_second: 2902.9962, train_label_loss: 0.1465, \n"
     ]
    },
    {
     "name": "stdout",
     "output_type": "stream",
     "text": [
      "epoch: 5, [batch: 2016 / 6720], examples_per_second: 2748.2097, train_label_loss: 0.2911, \n"
     ]
    },
    {
     "name": "stdout",
     "output_type": "stream",
     "text": [
      "epoch: 5, [batch: 2688 / 6720], examples_per_second: 2569.5952, train_label_loss: 0.0544, \n"
     ]
    },
    {
     "name": "stdout",
     "output_type": "stream",
     "text": [
      "epoch: 5, [batch: 3360 / 6720], examples_per_second: 2585.2156, train_label_loss: 0.1643, \n"
     ]
    },
    {
     "name": "stdout",
     "output_type": "stream",
     "text": [
      "epoch: 5, [batch: 4032 / 6720], examples_per_second: 2535.1896, train_label_loss: 0.1613, \n"
     ]
    },
    {
     "name": "stdout",
     "output_type": "stream",
     "text": [
      "epoch: 5, [batch: 4704 / 6720], examples_per_second: 2312.6224, train_label_loss: 0.1466, \n"
     ]
    },
    {
     "name": "stdout",
     "output_type": "stream",
     "text": [
      "epoch: 5, [batch: 5376 / 6720], examples_per_second: 2329.0901, train_label_loss: 0.0225, \n"
     ]
    },
    {
     "name": "stdout",
     "output_type": "stream",
     "text": [
      "epoch: 5, [batch: 6048 / 6720], examples_per_second: 2308.6903, train_label_loss: 0.0807, \n"
     ]
    },
    {
     "name": "stdout",
     "output_type": "stream",
     "text": [
      "=============================================================\n",
      "epoch: 5, source_val_acc_label: 0.9415, target_val_acc_label: 0.7748, source_val_label_loss: 0.1772, target_val_label_loss: 1082.7924, \n",
      "=============================================================\n"
     ]
    },
    {
     "name": "stdout",
     "output_type": "stream",
     "text": [
      "epoch: 6, [batch: 1 / 6720], examples_per_second: 2.2096, train_label_loss: 0.1280, \n"
     ]
    },
    {
     "name": "stdout",
     "output_type": "stream",
     "text": [
      "epoch: 6, [batch: 672 / 6720], examples_per_second: 2421.1825, train_label_loss: 0.2931, \n"
     ]
    },
    {
     "name": "stdout",
     "output_type": "stream",
     "text": [
      "epoch: 6, [batch: 1344 / 6720], examples_per_second: 2355.2469, train_label_loss: 0.0303, \n"
     ]
    },
    {
     "name": "stdout",
     "output_type": "stream",
     "text": [
      "epoch: 6, [batch: 2016 / 6720], examples_per_second: 2410.6604, train_label_loss: 0.1714, \n"
     ]
    },
    {
     "name": "stdout",
     "output_type": "stream",
     "text": [
      "epoch: 6, [batch: 2688 / 6720], examples_per_second: 2585.1676, train_label_loss: 0.0165, \n"
     ]
    },
    {
     "name": "stdout",
     "output_type": "stream",
     "text": [
      "epoch: 6, [batch: 3360 / 6720], examples_per_second: 2658.4904, train_label_loss: 0.1671, \n"
     ]
    },
    {
     "name": "stdout",
     "output_type": "stream",
     "text": [
      "epoch: 6, [batch: 4032 / 6720], examples_per_second: 2528.5534, train_label_loss: 0.0546, \n"
     ]
    },
    {
     "name": "stdout",
     "output_type": "stream",
     "text": [
      "epoch: 6, [batch: 4704 / 6720], examples_per_second: 2343.4569, train_label_loss: 0.2388, \n"
     ]
    },
    {
     "name": "stdout",
     "output_type": "stream",
     "text": [
      "epoch: 6, [batch: 5376 / 6720], examples_per_second: 2336.3229, train_label_loss: 0.2876, \n"
     ]
    },
    {
     "name": "stdout",
     "output_type": "stream",
     "text": [
      "epoch: 6, [batch: 6048 / 6720], examples_per_second: 2321.2324, train_label_loss: 0.1577, \n"
     ]
    },
    {
     "name": "stdout",
     "output_type": "stream",
     "text": [
      "=============================================================\n",
      "epoch: 6, source_val_acc_label: 0.9446, target_val_acc_label: 0.7838, source_val_label_loss: 0.1690, target_val_label_loss: 1566.6288, \n",
      "=============================================================\n"
     ]
    },
    {
     "name": "stdout",
     "output_type": "stream",
     "text": [
      "epoch: 7, [batch: 1 / 6720], examples_per_second: 2.1813, train_label_loss: 0.0868, \n"
     ]
    },
    {
     "name": "stdout",
     "output_type": "stream",
     "text": [
      "epoch: 7, [batch: 672 / 6720], examples_per_second: 2431.9962, train_label_loss: 0.1606, \n"
     ]
    },
    {
     "name": "stdout",
     "output_type": "stream",
     "text": [
      "epoch: 7, [batch: 1344 / 6720], examples_per_second: 2320.4205, train_label_loss: 0.3137, \n"
     ]
    },
    {
     "name": "stdout",
     "output_type": "stream",
     "text": [
      "epoch: 7, [batch: 2016 / 6720], examples_per_second: 2440.4709, train_label_loss: 0.3920, \n"
     ]
    },
    {
     "name": "stdout",
     "output_type": "stream",
     "text": [
      "epoch: 7, [batch: 2688 / 6720], examples_per_second: 2620.3666, train_label_loss: 0.0353, \n"
     ]
    },
    {
     "name": "stdout",
     "output_type": "stream",
     "text": [
      "epoch: 7, [batch: 3360 / 6720], examples_per_second: 2612.1266, train_label_loss: 0.2100, \n"
     ]
    },
    {
     "name": "stdout",
     "output_type": "stream",
     "text": [
      "epoch: 7, [batch: 4032 / 6720], examples_per_second: 2527.1714, train_label_loss: 0.0442, \n"
     ]
    },
    {
     "name": "stdout",
     "output_type": "stream",
     "text": [
      "epoch: 7, [batch: 4704 / 6720], examples_per_second: 2309.1521, train_label_loss: 0.0677, \n"
     ]
    },
    {
     "name": "stdout",
     "output_type": "stream",
     "text": [
      "epoch: 7, [batch: 5376 / 6720], examples_per_second: 2318.6158, train_label_loss: 0.1340, \n"
     ]
    },
    {
     "name": "stdout",
     "output_type": "stream",
     "text": [
      "epoch: 7, [batch: 6048 / 6720], examples_per_second: 2324.9984, train_label_loss: 0.0999, \n"
     ]
    },
    {
     "name": "stdout",
     "output_type": "stream",
     "text": [
      "=============================================================\n",
      "epoch: 7, source_val_acc_label: 0.9501, target_val_acc_label: 0.7285, source_val_label_loss: 0.1499, target_val_label_loss: 2657.4851, \n",
      "=============================================================\n"
     ]
    },
    {
     "name": "stdout",
     "output_type": "stream",
     "text": [
      "Patience (3) exhausted\n"
     ]
    }
   ],
   "source": [
    "###################################\n",
    "# train\n",
    "###################################\n",
    "jig = PTN_Train_Eval_Test_Jig(model, p.BEST_MODEL_PATH, p.device)\n",
    "\n",
    "jig.train(\n",
    "    train_iterable=datasets.source.processed.train,\n",
    "    source_val_iterable=datasets.source.processed.val,\n",
    "    target_val_iterable=datasets.target.processed.val,\n",
    "    num_epochs=p.n_epoch,\n",
    "    num_logs_per_epoch=p.NUM_LOGS_PER_EPOCH,\n",
    "    patience=p.patience,\n",
    "    optimizer=optimizer,\n",
    "    criteria_for_best=p.criteria_for_best,\n",
    ")"
   ]
  },
  {
   "cell_type": "code",
   "execution_count": 23,
   "id": "31e8fabf",
   "metadata": {
    "execution": {
     "iopub.execute_input": "2022-03-21T16:46:51.153735Z",
     "iopub.status.busy": "2022-03-21T16:46:51.152639Z",
     "iopub.status.idle": "2022-03-21T16:46:51.186328Z",
     "shell.execute_reply": "2022-03-21T16:46:51.185611Z"
    },
    "papermill": {
     "duration": 0.082241,
     "end_time": "2022-03-21T16:46:51.186486",
     "exception": false,
     "start_time": "2022-03-21T16:46:51.104245",
     "status": "completed"
    },
    "tags": []
   },
   "outputs": [],
   "source": [
    "total_experiment_time_secs = time.time() - start_time_secs"
   ]
  },
  {
   "cell_type": "code",
   "execution_count": 24,
   "id": "87b9595b",
   "metadata": {
    "execution": {
     "iopub.execute_input": "2022-03-21T16:46:51.289953Z",
     "iopub.status.busy": "2022-03-21T16:46:51.289338Z",
     "iopub.status.idle": "2022-03-21T16:51:28.854985Z",
     "shell.execute_reply": "2022-03-21T16:51:28.855331Z"
    },
    "papermill": {
     "duration": 277.617324,
     "end_time": "2022-03-21T16:51:28.855467",
     "exception": false,
     "start_time": "2022-03-21T16:46:51.238143",
     "status": "completed"
    },
    "tags": []
   },
   "outputs": [],
   "source": [
    "###################################\n",
    "# Evaluate the model\n",
    "###################################\n",
    "source_test_label_accuracy, source_test_label_loss = jig.test(datasets.source.processed.test)\n",
    "target_test_label_accuracy, target_test_label_loss = jig.test(datasets.target.processed.test)\n",
    "\n",
    "source_val_label_accuracy, source_val_label_loss = jig.test(datasets.source.processed.val)\n",
    "target_val_label_accuracy, target_val_label_loss = jig.test(datasets.target.processed.val)\n",
    "\n",
    "history = jig.get_history()\n",
    "\n",
    "total_epochs_trained = len(history[\"epoch_indices\"])\n",
    "\n",
    "val_dl = Iterable_Aggregator((datasets.source.original.val,datasets.target.original.val))\n",
    "\n",
    "confusion = ptn_confusion_by_domain_over_dataloader(model, p.device, val_dl)\n",
    "per_domain_accuracy = per_domain_accuracy_from_confusion(confusion)\n",
    "\n",
    "# Add a key to per_domain_accuracy for if it was a source domain\n",
    "for domain, accuracy in per_domain_accuracy.items():\n",
    "    per_domain_accuracy[domain] = {\n",
    "        \"accuracy\": accuracy,\n",
    "        \"source?\": domain in p.domains_source\n",
    "    }\n",
    "\n",
    "# Do an independent accuracy assesment JUST TO BE SURE!\n",
    "# _source_test_label_accuracy = independent_accuracy_assesment(model, datasets.source.processed.test, p.device)\n",
    "# _target_test_label_accuracy = independent_accuracy_assesment(model, datasets.target.processed.test, p.device)\n",
    "# _source_val_label_accuracy = independent_accuracy_assesment(model, datasets.source.processed.val, p.device)\n",
    "# _target_val_label_accuracy = independent_accuracy_assesment(model, datasets.target.processed.val, p.device)\n",
    "\n",
    "# assert(_source_test_label_accuracy == source_test_label_accuracy)\n",
    "# assert(_target_test_label_accuracy == target_test_label_accuracy)\n",
    "# assert(_source_val_label_accuracy == source_val_label_accuracy)\n",
    "# assert(_target_val_label_accuracy == target_val_label_accuracy)\n",
    "\n",
    "experiment = {\n",
    "    \"experiment_name\": p.experiment_name,\n",
    "    \"parameters\": dict(p),\n",
    "    \"results\": {\n",
    "        \"source_test_label_accuracy\": source_test_label_accuracy,\n",
    "        \"source_test_label_loss\": source_test_label_loss,\n",
    "        \"target_test_label_accuracy\": target_test_label_accuracy,\n",
    "        \"target_test_label_loss\": target_test_label_loss,\n",
    "        \"source_val_label_accuracy\": source_val_label_accuracy,\n",
    "        \"source_val_label_loss\": source_val_label_loss,\n",
    "        \"target_val_label_accuracy\": target_val_label_accuracy,\n",
    "        \"target_val_label_loss\": target_val_label_loss,\n",
    "        \"total_epochs_trained\": total_epochs_trained,\n",
    "        \"total_experiment_time_secs\": total_experiment_time_secs,\n",
    "        \"confusion\": confusion,\n",
    "        \"per_domain_accuracy\": per_domain_accuracy,\n",
    "    },\n",
    "    \"history\": history,\n",
    "    \"dataset_metrics\": get_dataset_metrics(datasets, \"ptn\"),\n",
    "}"
   ]
  },
  {
   "cell_type": "code",
   "execution_count": 25,
   "id": "54a21829",
   "metadata": {
    "execution": {
     "iopub.execute_input": "2022-03-21T16:51:28.977755Z",
     "iopub.status.busy": "2022-03-21T16:51:28.977075Z",
     "iopub.status.idle": "2022-03-21T16:51:29.193626Z",
     "shell.execute_reply": "2022-03-21T16:51:29.194312Z"
    },
    "papermill": {
     "duration": 0.278328,
     "end_time": "2022-03-21T16:51:29.194525",
     "exception": false,
     "start_time": "2022-03-21T16:51:28.916197",
     "status": "completed"
    },
    "tags": []
   },
   "outputs": [
    {
     "data": {
      "image/png": "[encoded data removed]",
      "text/plain": [
       "<Figure size 1080x504 with 1 Axes>"
      ]
     },
     "metadata": {
      "needs_background": "light"
     },
     "output_type": "display_data"
    }
   ],
   "source": [
    "ax = get_loss_curve(experiment)\n",
    "plt.show()"
   ]
  },
  {
   "cell_type": "code",
   "execution_count": 26,
   "id": "fd8a0f60",
   "metadata": {
    "execution": {
     "iopub.execute_input": "2022-03-21T16:51:29.296992Z",
     "iopub.status.busy": "2022-03-21T16:51:29.296413Z",
     "iopub.status.idle": "2022-03-21T16:51:29.668286Z",
     "shell.execute_reply": "2022-03-21T16:51:29.668977Z"
    },
    "papermill": {
     "duration": 0.422529,
     "end_time": "2022-03-21T16:51:29.669196",
     "exception": false,
     "start_time": "2022-03-21T16:51:29.246667",
     "status": "completed"
    },
    "tags": []
   },
   "outputs": [
    {
     "data": {
      "text/plain": [
       "<AxesSubplot:title={'center':'Results'}>"
      ]
     },
     "execution_count": 26,
     "metadata": {},
     "output_type": "execute_result"
    },
    {
     "data": {
      "image/png": "[encoded data removed]",
      "text/plain": [
       "<Figure size 1080x504 with 1 Axes>"
      ]
     },
     "metadata": {
      "needs_background": "light"
     },
     "output_type": "display_data"
    }
   ],
   "source": [
    "get_results_table(experiment)"
   ]
  },
  {
   "cell_type": "code",
   "execution_count": 27,
   "id": "cf8dc689",
   "metadata": {
    "execution": {
     "iopub.execute_input": "2022-03-21T16:51:29.775223Z",
     "iopub.status.busy": "2022-03-21T16:51:29.774844Z",
     "iopub.status.idle": "2022-03-21T16:51:30.026485Z",
     "shell.execute_reply": "2022-03-21T16:51:30.027188Z"
    },
    "papermill": {
     "duration": 0.303592,
     "end_time": "2022-03-21T16:51:30.027410",
     "exception": false,
     "start_time": "2022-03-21T16:51:29.723818",
     "status": "completed"
    },
    "tags": []
   },
   "outputs": [
    {
     "data": {
      "text/plain": [
       "<AxesSubplot:title={'center':'Per Domain Validation Accuracy'}, xlabel='domain'>"
      ]
     },
     "execution_count": 27,
     "metadata": {},
     "output_type": "execute_result"
    },
    {
     "data": {
      "image/png": "[encoded data removed]",
      "text/plain": [
       "<Figure size 1080x504 with 1 Axes>"
      ]
     },
     "metadata": {
      "needs_background": "light"
     },
     "output_type": "display_data"
    }
   ],
   "source": [
    "get_domain_accuracies(experiment)"
   ]
  },
  {
   "cell_type": "code",
   "execution_count": 28,
   "id": "a74ae082",
   "metadata": {
    "execution": {
     "iopub.execute_input": "2022-03-21T16:51:30.136728Z",
     "iopub.status.busy": "2022-03-21T16:51:30.136155Z",
     "iopub.status.idle": "2022-03-21T16:51:30.161981Z",
     "shell.execute_reply": "2022-03-21T16:51:30.161146Z"
    },
    "papermill": {
     "duration": 0.08061,
     "end_time": "2022-03-21T16:51:30.162152",
     "exception": false,
     "start_time": "2022-03-21T16:51:30.081542",
     "status": "completed"
    },
    "tags": []
   },
   "outputs": [
    {
     "name": "stdout",
     "output_type": "stream",
     "text": [
      "Source Test Label Accuracy: 0.9168294270833334 Target Test Label Accuracy: 0.8203366873065016\n",
      "Source Val Label Accuracy: 0.9169270833333333 Target Val Label Accuracy: 0.8189347940865892\n"
     ]
    }
   ],
   "source": [
    "print(\"Source Test Label Accuracy:\", experiment[\"results\"][\"source_test_label_accuracy\"], \"Target Test Label Accuracy:\", experiment[\"results\"][\"target_test_label_accuracy\"])\n",
    "print(\"Source Val Label Accuracy:\", experiment[\"results\"][\"source_val_label_accuracy\"], \"Target Val Label Accuracy:\", experiment[\"results\"][\"target_val_label_accuracy\"])"
   ]
  },
  {
   "cell_type": "code",
   "execution_count": 29,
   "id": "dacca602",
   "metadata": {
    "execution": {
     "iopub.execute_input": "2022-03-21T16:51:30.270618Z",
     "iopub.status.busy": "2022-03-21T16:51:30.270234Z",
     "iopub.status.idle": "2022-03-21T16:51:30.297086Z",
     "shell.execute_reply": "2022-03-21T16:51:30.297564Z"
    },
    "papermill": {
     "duration": 0.07984,
     "end_time": "2022-03-21T16:51:30.297705",
     "exception": false,
     "start_time": "2022-03-21T16:51:30.217865",
     "status": "completed"
    },
    "tags": [
     "experiment_json"
    ]
   },
   "outputs": [
    {
     "data": {
      "text/plain": [
       "'{\"experiment_name\": \"tl_1v2:wisig-oracle.run1.framed\", \"parameters\": {\"experiment_name\": \"tl_1v2:wisig-oracle.run1.framed\", \"device\": \"cuda\", \"lr\": 0.0001, \"n_shot\": 3, \"n_query\": 2, \"train_k_factor\": 3, \"val_k_factor\": 2, \"test_k_factor\": 2, \"torch_default_dtype\": \"torch.float32\", \"n_epoch\": 50, \"patience\": 3, \"criteria_for_best\": \"target_accuracy\", \"x_net\": [{\"class\": \"nnReshape\", \"kargs\": {\"shape\": [-1, 1, 2, 256]}}, {\"class\": \"Conv2d\", \"kargs\": {\"in_channels\": 1, \"out_channels\": 256, \"kernel_size\": [1, 7], \"bias\": false, \"padding\": [0, 3]}}, {\"class\": \"ReLU\", \"kargs\": {\"inplace\": true}}, {\"class\": \"BatchNorm2d\", \"kargs\": {\"num_features\": 256}}, {\"class\": \"Conv2d\", \"kargs\": {\"in_channels\": 256, \"out_channels\": 80, \"kernel_size\": [2, 7], \"bias\": true, \"padding\": [0, 3]}}, {\"class\": \"ReLU\", \"kargs\": {\"inplace\": true}}, {\"class\": \"BatchNorm2d\", \"kargs\": {\"num_features\": 80}}, {\"class\": \"Flatten\", \"kargs\": {}}, {\"class\": \"Linear\", \"kargs\": {\"in_features\": 20480, \"out_features\": 256}}, {\"class\": \"ReLU\", \"kargs\": {\"inplace\": true}}, {\"class\": \"BatchNorm1d\", \"kargs\": {\"num_features\": 256}}, {\"class\": \"Linear\", \"kargs\": {\"in_features\": 256, \"out_features\": 256}}], \"NUM_LOGS_PER_EPOCH\": 10, \"BEST_MODEL_PATH\": \"./best_model.pth\", \"n_way\": 16, \"datasets\": [{\"labels\": [\"1-10\", \"1-12\", \"1-14\", \"1-16\", \"1-18\", \"1-19\", \"1-8\", \"10-11\", \"10-17\", \"10-4\", \"10-7\", \"11-1\", \"11-10\", \"11-19\", \"11-20\", \"11-4\", \"11-7\", \"12-19\", \"12-20\", \"12-7\", \"13-14\", \"13-18\", \"13-19\", \"13-20\", \"13-3\", \"13-7\", \"14-10\", \"14-11\", \"14-12\", \"14-13\", \"14-14\", \"14-19\", \"14-20\", \"14-7\", \"14-8\", \"14-9\", \"15-1\", \"15-19\", \"15-6\", \"16-1\", \"16-16\", \"16-19\", \"16-20\", \"17-10\", \"17-11\", \"18-1\", \"18-10\", \"18-11\", \"18-12\", \"18-13\", \"18-14\", \"18-15\", \"18-16\", \"18-17\", \"18-19\", \"18-2\", \"18-20\", \"18-4\", \"18-5\", \"18-7\", \"18-8\", \"18-9\", \"19-1\", \"19-10\", \"19-11\", \"19-12\", \"19-13\", \"19-14\", \"19-15\", \"19-19\", \"19-2\", \"19-20\", \"19-3\", \"19-4\", \"19-6\", \"19-7\", \"19-8\", \"19-9\", \"2-1\", \"2-13\", \"2-15\", \"2-3\", \"2-4\", \"2-5\", \"2-6\", \"2-7\", \"2-8\", \"20-1\", \"20-12\", \"20-14\", \"20-15\", \"20-16\", \"20-18\", \"20-19\", \"20-20\", \"20-3\", \"20-4\", \"20-5\", \"20-7\", \"20-8\", \"3-1\", \"3-13\", \"3-18\", \"3-2\", \"3-8\", \"4-1\", \"4-10\", \"4-11\", \"5-1\", \"5-5\", \"6-1\", \"6-15\", \"6-6\", \"7-10\", \"7-11\", \"7-12\", \"7-13\", \"7-14\", \"7-7\", \"7-8\", \"7-9\", \"8-1\", \"8-13\", \"8-14\", \"8-18\", \"8-20\", \"8-3\", \"8-8\", \"9-1\", \"9-7\"], \"domains\": [1, 2, 3, 4], \"num_examples_per_domain_per_label\": -1, \"pickle_path\": \"/root/csc500-main/datasets/wisig.node3-19.stratified_ds.2022A.pkl\", \"source_or_target_dataset\": \"target\", \"x_transforms\": [], \"episode_transforms\": [], \"domain_prefix\": \"Wisig_\"}, {\"labels\": [\"3123D52\", \"3123D65\", \"3123D79\", \"3123D80\", \"3123D54\", \"3123D70\", \"3123D7B\", \"3123D89\", \"3123D58\", \"3123D76\", \"3123D7D\", \"3123EFE\", \"3123D64\", \"3123D78\", \"3123D7E\", \"3124E4A\"], \"domains\": [32, 38, 8, 44, 14, 50, 20, 26], \"num_examples_per_domain_per_label\": 2000, \"pickle_path\": \"/root/csc500-main/datasets/oracle.Run1_framed_2000Examples_stratified_ds.2022A.pkl\", \"source_or_target_dataset\": \"source\", \"x_transforms\": [], \"episode_transforms\": [], \"domain_prefix\": \"ORACLE.run1\"}], \"dataset_seed\": 7, \"seed\": 7, \"x_shape\": [2, 256], \"domains_source\": [\"ORACLE.run132\", \"ORACLE.run138\", \"ORACLE.run18\", \"ORACLE.run144\", \"ORACLE.run114\", \"ORACLE.run150\", \"ORACLE.run120\", \"ORACLE.run126\"], \"domains_target\": [\"Wisig_1\", \"Wisig_2\", \"Wisig_3\", \"Wisig_4\"]}, \"results\": {\"source_test_label_accuracy\": 0.9168294270833334, \"source_test_label_loss\": 0.24384334683418274, \"target_test_label_accuracy\": 0.8203366873065016, \"target_test_label_loss\": 186.47293090820312, \"source_val_label_accuracy\": 0.9169270833333333, \"source_val_label_loss\": 0.24880929291248322, \"target_val_label_accuracy\": 0.8189347940865892, \"target_val_label_loss\": 187.4622344970703, \"total_epochs_trained\": 7, \"total_experiment_time_secs\": 1857.6153395175934, \"confusion\": {\"ORACLE.run126\": {\"0\": {\"0\": 177, \"14\": 22, \"10\": 37, \"8\": 2, \"6\": 1, \"1\": 1}, \"4\": {\"4\": 240}, \"14\": {\"10\": 32, \"14\": 193, \"0\": 12, \"1\": 3}, \"12\": {\"12\": 240}, \"8\": {\"7\": 33, \"8\": 191, \"9\": 11, \"2\": 4, \"0\": 1}, \"7\": {\"7\": 217, \"8\": 13, \"3\": 3, \"2\": 7}, \"13\": {\"13\": 217, \"2\": 14, \"9\": 6, \"4\": 1, \"3\": 2}, \"5\": {\"5\": 219, \"15\": 21}, \"15\": {\"15\": 204, \"5\": 10, \"6\": 26}, \"10\": {\"10\": 178, \"14\": 38, \"0\": 20, \"1\": 1, \"15\": 1, \"6\": 2}, \"3\": {\"3\": 225, \"2\": 5, \"7\": 10}, \"9\": {\"9\": 211, \"8\": 20, \"2\": 1, \"13\": 6, \"7\": 2}, \"6\": {\"6\": 230, \"15\": 8, \"10\": 2}, \"1\": {\"1\": 215, \"14\": 25}, \"11\": {\"11\": 240}, \"2\": {\"2\": 175, \"7\": 33, \"3\": 19, \"8\": 6, \"9\": 4, \"0\": 3}}, \"ORACLE.run144\": {\"1\": {\"1\": 240}, \"11\": {\"11\": 240}, \"3\": {\"3\": 238, \"12\": 2}, \"6\": {\"6\": 199, \"13\": 30, \"9\": 10, \"7\": 1}, \"7\": {\"7\": 220, \"9\": 18, \"2\": 1, \"10\": 1}, \"5\": {\"5\": 225, \"8\": 2, \"14\": 9, \"15\": 3, \"4\": 1}, \"2\": {\"2\": 228, \"7\": 6, \"1\": 2, \"10\": 3, \"9\": 1}, \"15\": {\"15\": 220, \"5\": 7, \"8\": 1, \"14\": 11, \"4\": 1}, \"10\": {\"10\": 231, \"7\": 4, \"1\": 3, \"2\": 2}, \"13\": {\"13\": 209, \"6\": 29, \"9\": 2}, \"8\": {\"8\": 177, \"0\": 54, \"15\": 6, \"5\": 3}, \"4\": {\"4\": 193, \"14\": 46, \"5\": 1}, \"9\": {\"9\": 142, \"7\": 42, \"13\": 27, \"6\": 29}, \"14\": {\"4\": 42, \"14\": 186, \"5\": 7, \"15\": 5}, \"0\": {\"0\": 214, \"8\": 26}, \"12\": {\"12\": 238, \"3\": 2}}, \"ORACLE.run150\": {\"15\": {\"15\": 236, \"11\": 2, \"4\": 1, \"6\": 1}, \"4\": {\"4\": 201, \"5\": 11, \"15\": 12, \"7\": 15, \"6\": 1}, \"6\": {\"6\": 224, \"5\": 11, \"15\": 5}, \"2\": {\"2\": 233, \"0\": 7}, \"5\": {\"5\": 176, \"7\": 30, \"4\": 10, \"6\": 18, \"13\": 2, \"15\": 3, \"1\": 1}, \"9\": {\"9\": 222, \"12\": 8, \"11\": 10}, \"8\": {\"8\": 238, \"10\": 2}, \"12\": {\"12\": 232, \"9\": 8}, \"10\": {\"10\": 240}, \"1\": {\"1\": 238, \"13\": 1, \"5\": 1}, \"0\": {\"0\": 234, \"2\": 4, \"10\": 2}, \"3\": {\"3\": 240}, \"13\": {\"13\": 239, \"5\": 1}, \"11\": {\"11\": 221, \"12\": 6, \"9\": 7, \"15\": 6}, \"7\": {\"7\": 230, \"5\": 9, \"4\": 1}, \"14\": {\"14\": 240}}, \"ORACLE.run138\": {\"15\": {\"15\": 226, \"5\": 6, \"8\": 7, \"1\": 1}, \"11\": {\"11\": 240}, \"10\": {\"10\": 230, \"13\": 7, \"0\": 3}, \"14\": {\"14\": 231, \"2\": 8, \"13\": 1}, \"6\": {\"6\": 240}, \"4\": {\"4\": 240}, \"13\": {\"13\": 228, \"2\": 1, \"0\": 4, \"10\": 7}, \"3\": {\"3\": 240}, \"7\": {\"7\": 228, \"5\": 5, \"0\": 5, \"8\": 2}, \"8\": {\"8\": 185, \"5\": 49, \"0\": 1, \"7\": 5}, \"1\": {\"1\": 240}, \"5\": {\"5\": 118, \"15\": 5, \"8\": 94, \"7\": 13, \"9\": 10}, \"0\": {\"0\": 218, \"7\": 7, \"10\": 8, \"5\": 3, \"13\": 3, \"8\": 1}, \"2\": {\"2\": 237, \"14\": 3}, \"12\": {\"12\": 240}, \"9\": {\"9\": 239, \"5\": 1}}, \"ORACLE.run120\": {\"10\": {\"10\": 240}, \"7\": {\"7\": 221, \"9\": 6, \"2\": 12, \"4\": 1}, \"4\": {\"4\": 240}, \"13\": {\"13\": 236, \"2\": 4}, \"1\": {\"1\": 215, \"5\": 18, \"15\": 2, \"9\": 4, \"3\": 1}, \"0\": {\"5\": 1, \"0\": 238, \"8\": 1}, \"12\": {\"12\": 224, \"2\": 14, \"15\": 1, \"1\": 1}, \"5\": {\"1\": 28, \"5\": 205, \"3\": 7}, \"6\": {\"6\": 239, \"7\": 1}, \"2\": {\"12\": 29, \"2\": 189, \"7\": 16, \"9\": 4, \"1\": 1, \"15\": 1}, \"8\": {\"8\": 235, \"14\": 5}, \"11\": {\"11\": 240}, \"9\": {\"9\": 217, \"3\": 10, \"1\": 2, \"7\": 8, \"2\": 3}, \"14\": {\"14\": 236, \"8\": 4}, \"15\": {\"1\": 21, \"15\": 217, \"12\": 1, \"13\": 1}, \"3\": {\"3\": 213, \"9\": 16, \"8\": 4, \"5\": 5, \"1\": 2}}, \"ORACLE.run114\": {\"14\": {\"14\": 224, \"3\": 2, \"2\": 5, \"13\": 7, \"6\": 2}, \"0\": {\"0\": 236, \"14\": 1, \"3\": 3}, \"4\": {\"4\": 235, \"5\": 5}, \"11\": {\"11\": 240}, \"13\": {\"6\": 107, \"13\": 71, \"14\": 35, \"2\": 21, \"15\": 6}, \"9\": {\"9\": 240}, \"3\": {\"3\": 239, \"0\": 1}, \"6\": {\"13\": 53, \"6\": 183, \"14\": 3, \"2\": 1}, \"1\": {\"1\": 240}, \"5\": {\"5\": 234, \"2\": 3, \"4\": 3}, \"12\": {\"12\": 240}, \"10\": {\"10\": 240}, \"8\": {\"8\": 240}, \"7\": {\"7\": 239, \"5\": 1}, \"15\": {\"15\": 240}, \"2\": {\"14\": 32, \"2\": 143, \"6\": 18, \"5\": 37, \"13\": 7, \"4\": 3}}, \"ORACLE.run132\": {\"11\": {\"11\": 240}, \"1\": {\"1\": 240}, \"2\": {\"2\": 226, \"4\": 14}, \"0\": {\"0\": 204, \"5\": 7, \"7\": 14, \"8\": 7, \"14\": 8}, \"3\": {\"3\": 231, \"13\": 9}, \"8\": {\"5\": 10, \"8\": 215, \"0\": 11, \"14\": 4}, \"12\": {\"12\": 240}, \"5\": {\"5\": 174, \"7\": 51, \"0\": 7, \"14\": 2, \"8\": 6}, \"15\": {\"15\": 240}, \"7\": {\"7\": 185, \"5\": 35, \"0\": 11, \"14\": 8, \"8\": 1}, \"4\": {\"4\": 219, \"2\": 19, \"13\": 2}, \"14\": {\"0\": 15, \"14\": 202, \"7\": 18, \"5\": 2, \"8\": 3}, \"10\": {\"10\": 240}, \"6\": {\"6\": 240}, \"13\": {\"13\": 222, \"4\": 6, \"3\": 12}, \"9\": {\"9\": 239, \"2\": 1}}, \"ORACLE.run18\": {\"9\": {\"9\": 240}, \"11\": {\"11\": 194, \"1\": 46}, \"8\": {\"8\": 240}, \"4\": {\"4\": 239, \"14\": 1}, \"13\": {\"10\": 21, \"13\": 206, \"7\": 10, \"6\": 3}, \"14\": {\"14\": 236, \"4\": 4}, \"2\": {\"2\": 206, \"3\": 22, \"12\": 11, \"15\": 1}, \"3\": {\"3\": 240}, \"1\": {\"1\": 219, \"11\": 17, \"5\": 4}, \"0\": {\"0\": 240}, \"5\": {\"5\": 186, \"10\": 28, \"1\": 19, \"13\": 2, \"11\": 2, \"14\": 3}, \"15\": {\"15\": 230, \"12\": 10}, \"10\": {\"10\": 203, \"13\": 33, \"6\": 3, \"5\": 1}, \"12\": {\"12\": 194, \"15\": 46}, \"6\": {\"6\": 226, \"7\": 14}, \"7\": {\"7\": 227, \"6\": 13}}, \"Wisig_4\": {\"71\": {\"71\": 83, \"40\": 4, \"95\": 1, \"1\": 5, \"114\": 1, \"105\": 2, \"21\": 1, \"127\": 4, \"3\": 1, \"89\": 1, \"84\": 1}, \"17\": {\"68\": 1, \"6\": 1, \"17\": 12, \"86\": 1, \"103\": 2, \"115\": 2, \"124\": 1}, \"105\": {\"105\": 59, \"1\": 1, \"39\": 3, \"109\": 2, \"12\": 1, \"118\": 1, \"40\": 6, \"71\": 9, \"3\": 1, \"4\": 1, \"126\": 3, \"111\": 1, \"76\": 2, \"49\": 1, \"120\": 1, \"106\": 2, \"127\": 3, \"107\": 2, \"99\": 1}, \"92\": {\"92\": 17, \"1\": 1, \"44\": 1, \"15\": 1, \"40\": 1, \"83\": 2, \"45\": 2, \"5\": 3}, \"100\": {\"100\": 12, \"40\": 1, \"85\": 2, \"89\": 4, \"5\": 1}, \"6\": {\"6\": 22, \"111\": 2}, \"36\": {\"36\": 97, \"0\": 7, \"24\": 2, \"94\": 1, \"30\": 10, \"87\": 2, \"8\": 3, \"27\": 2, \"70\": 1, \"122\": 2, \"88\": 1}, \"35\": {\"35\": 12}, \"63\": {\"63\": 16}, \"104\": {\"68\": 2, \"104\": 11, \"59\": 1, \"86\": 1, \"124\": 1}, \"114\": {\"114\": 95, \"107\": 13, \"49\": 2, \"40\": 2, \"70\": 1, \"12\": 2, \"1\": 7, \"34\": 1, \"113\": 1, \"24\": 1, \"5\": 1, \"127\": 1, \"39\": 1}, \"68\": {\"68\": 15, \"25\": 1}, \"109\": {\"109\": 101, \"88\": 4, \"70\": 3, \"39\": 2, \"108\": 6}, \"27\": {\"27\": 71, \"113\": 1, \"122\": 4, \"43\": 3, \"39\": 1, \"36\": 6, \"87\": 5, \"88\": 2, \"30\": 1, \"7\": 1, \"24\": 2, \"0\": 1, \"70\": 1, \"10\": 1}, \"79\": {\"79\": 15, \"115\": 1}, \"0\": {\"0\": 78, \"30\": 5, \"8\": 6, \"39\": 3, \"70\": 1, \"36\": 2, \"15\": 1, \"101\": 2, \"21\": 1, \"60\": 2, \"7\": 1, \"87\": 1, \"27\": 1, \"108\": 1, \"109\": 1}, \"28\": {\"28\": 14, \"64\": 1, \"19\": 1, \"102\": 1, \"98\": 1, \"67\": 1, \"6\": 1}, \"4\": {\"4\": 99, \"88\": 1, \"109\": 1, \"7\": 1, \"98\": 2}, \"106\": {\"106\": 69, \"21\": 1, \"12\": 15, \"71\": 4, \"127\": 3, \"113\": 1, \"14\": 4, \"108\": 1, \"7\": 2, \"1\": 1, \"88\": 1}, \"40\": {\"40\": 89, \"71\": 11, \"107\": 4, \"1\": 17, \"105\": 3, \"16\": 1, \"114\": 4, \"3\": 2, \"113\": 1, \"99\": 1, \"18\": 1}, \"127\": {\"127\": 94, \"16\": 1, \"105\": 2, \"71\": 4, \"43\": 1, \"40\": 2, \"72\": 2, \"107\": 2}, \"57\": {\"57\": 13, \"88\": 2, \"32\": 1}, \"60\": {\"7\": 5, \"60\": 17, \"72\": 1, \"93\": 2, \"69\": 3, \"11\": 1, \"105\": 2, \"16\": 1}, \"69\": {\"69\": 105, \"84\": 4, \"108\": 1, \"60\": 4, \"44\": 1, \"27\": 1, \"70\": 1, \"43\": 2, \"11\": 1, \"7\": 1, \"39\": 1, \"5\": 1, \"14\": 1}, \"84\": {\"84\": 102, \"21\": 1, \"16\": 7, \"78\": 1, \"69\": 8, \"5\": 1, \"8\": 1, \"87\": 1, \"11\": 2, \"105\": 2, \"3\": 1, \"14\": 3, \"7\": 1, \"43\": 1}, \"24\": {\"24\": 88, \"62\": 2, \"10\": 14, \"97\": 1, \"110\": 1, \"27\": 1, \"88\": 1, \"113\": 1, \"70\": 8, \"84\": 2, \"4\": 1}, \"94\": {\"24\": 1, \"94\": 65, \"15\": 10, \"8\": 4, \"101\": 1, \"30\": 1, \"0\": 3, \"109\": 1, \"26\": 1, \"36\": 1}, \"7\": {\"7\": 104, \"24\": 1, \"60\": 3, \"8\": 5, \"109\": 2, \"126\": 1, \"87\": 1, \"0\": 2, \"27\": 1}, \"96\": {\"96\": 11, \"84\": 1, \"16\": 1, \"110\": 1, \"59\": 1, \"58\": 1, \"26\": 2, \"82\": 1, \"77\": 1}, \"116\": {\"116\": 21, \"102\": 3, \"48\": 1, \"42\": 1, \"2\": 1, \"90\": 1}, \"47\": {\"47\": 8, \"24\": 1, \"58\": 1, \"90\": 1, \"70\": 1}, \"119\": {\"119\": 10, \"37\": 2, \"13\": 1, \"64\": 1, \"50\": 2}, \"74\": {\"107\": 3, \"74\": 10, \"5\": 3}, \"93\": {\"93\": 141, \"96\": 1, \"11\": 4, \"0\": 1, \"118\": 2, \"122\": 1, \"110\": 2}, \"2\": {\"2\": 26, \"117\": 2}, \"37\": {\"104\": 2, \"37\": 7, \"88\": 1, \"29\": 2, \"124\": 2, \"6\": 2}, \"15\": {\"15\": 104, \"30\": 2, \"94\": 7, \"26\": 1, \"8\": 8, \"106\": 2, \"0\": 1, \"36\": 2, \"126\": 1}, \"102\": {\"102\": 132, \"119\": 1, \"50\": 2, \"116\": 1}, \"87\": {\"87\": 107, \"113\": 1, \"122\": 3, \"118\": 4, \"126\": 1, \"7\": 2, \"10\": 2, \"0\": 1, \"110\": 1}, \"107\": {\"107\": 122, \"1\": 6, \"34\": 1, \"33\": 1, \"114\": 10, \"71\": 2, \"39\": 1, \"40\": 1}, \"61\": {\"61\": 14, \"109\": 1, \"39\": 1}, \"78\": {\"78\": 18, \"84\": 1, \"70\": 3, \"88\": 5, \"39\": 1, \"126\": 1, \"113\": 3, \"43\": 2, \"21\": 2}, \"9\": {\"9\": 18, \"53\": 2, \"19\": 1, \"96\": 1, \"85\": 1, \"95\": 1, \"46\": 2, \"37\": 1, \"98\": 1}, \"32\": {\"32\": 24, \"107\": 1, \"33\": 1, \"89\": 1, \"114\": 1}, \"14\": {\"14\": 104, \"31\": 1, \"105\": 3, \"21\": 1, \"1\": 1, \"60\": 2}, \"62\": {\"62\": 44, \"101\": 1, \"10\": 1, \"11\": 7, \"88\": 2, \"93\": 2, \"109\": 1, \"106\": 1, \"108\": 1}, \"1\": {\"37\": 1, \"105\": 5, \"1\": 47, \"40\": 24, \"99\": 1, \"49\": 1, \"114\": 3, \"71\": 11, \"3\": 2, \"102\": 1, \"107\": 4, \"24\": 1, \"109\": 1}, \"23\": {\"62\": 1, \"23\": 3, \"93\": 1, \"72\": 2, \"33\": 1, \"108\": 1, \"26\": 2, \"38\": 1, \"0\": 1, \"113\": 1, \"12\": 1, \"101\": 1}, \"95\": {\"95\": 17, \"34\": 2, \"85\": 3, \"82\": 2, \"52\": 2, \"128\": 1, \"32\": 1, \"106\": 1, \"9\": 2, \"24\": 1}, \"56\": {\"56\": 10, \"120\": 2}, \"91\": {\"91\": 16, \"29\": 4, \"82\": 1, \"112\": 1, \"68\": 1, \"73\": 1}, \"34\": {\"34\": 11, \"1\": 1, \"76\": 1, \"99\": 2, \"107\": 6, \"103\": 1, \"71\": 1, \"52\": 1, \"3\": 1, \"43\": 1, \"54\": 2, \"93\": 1, \"114\": 2, \"105\": 1}, \"25\": {\"25\": 10, \"58\": 3, \"120\": 1, \"75\": 1, \"100\": 1}, \"33\": {\"33\": 123, \"3\": 1}, \"16\": {\"16\": 98, \"96\": 1, \"93\": 14, \"84\": 5, \"26\": 1, \"113\": 1, \"11\": 1, \"117\": 1, \"87\": 1, \"90\": 1}, \"26\": {\"26\": 114, \"113\": 2, \"21\": 1, \"3\": 1, \"18\": 3, \"16\": 1, \"11\": 1, \"62\": 1, \"93\": 2}, \"5\": {\"5\": 120, \"26\": 2, \"33\": 4, \"10\": 1, \"1\": 2, \"39\": 1, \"113\": 1, \"118\": 1, \"126\": 1, \"40\": 2, \"93\": 1}, \"123\": {\"123\": 13, \"95\": 1, \"63\": 2}, \"8\": {\"8\": 102, \"36\": 2, \"15\": 4, \"11\": 3, \"106\": 2, \"0\": 4, \"94\": 1}, \"83\": {\"83\": 10, \"28\": 1, \"64\": 1, \"19\": 2, \"71\": 1, \"36\": 1, \"50\": 1, \"114\": 3, \"51\": 1, \"78\": 1, \"76\": 1, \"14\": 1, \"128\": 1, \"107\": 2, \"34\": 1}, \"125\": {\"125\": 127, \"111\": 2, \"4\": 3, \"124\": 2}, \"51\": {\"107\": 1, \"51\": 4, \"61\": 1, \"53\": 1, \"88\": 1, \"19\": 1, \"89\": 1, \"96\": 1, \"76\": 1, \"54\": 2, \"113\": 1, \"86\": 1}, \"22\": {\"22\": 12, \"79\": 1, \"112\": 2, \"83\": 1}, \"54\": {\"54\": 10, \"58\": 1, \"68\": 1, \"86\": 1, \"17\": 1, \"77\": 1, \"115\": 1}, \"66\": {\"66\": 14, \"74\": 1, \"83\": 1}, \"59\": {\"111\": 2, \"59\": 6, \"52\": 1, \"37\": 2, \"21\": 1}, \"111\": {\"17\": 2, \"6\": 2, \"111\": 112, \"124\": 5, \"125\": 2, \"10\": 1, \"107\": 2, \"119\": 1, \"11\": 1}, \"77\": {\"77\": 12}, \"103\": {\"77\": 1, \"54\": 1, \"103\": 11, \"56\": 2, \"58\": 1}, \"20\": {\"20\": 11, \"71\": 1, \"64\": 1, \"14\": 1, \"84\": 2}, \"124\": {\"124\": 107, \"91\": 1, \"42\": 1, \"111\": 7, \"117\": 1, \"104\": 1, \"5\": 1, \"40\": 1}, \"99\": {\"99\": 28, \"40\": 4, \"3\": 2, \"49\": 1, \"12\": 1, \"71\": 1, \"105\": 1, \"109\": 1, \"14\": 1}, \"120\": {\"109\": 1, \"120\": 13, \"86\": 1, \"112\": 2, \"6\": 1, \"21\": 1, \"98\": 1}, \"76\": {\"76\": 10, \"127\": 1, \"81\": 1, \"55\": 1, \"114\": 1, \"107\": 2}, \"110\": {\"118\": 13, \"110\": 94, \"11\": 2, \"113\": 1, \"16\": 1, \"70\": 1, \"39\": 2, \"87\": 1, \"93\": 1}, \"29\": {\"29\": 28, \"10\": 1, \"82\": 2, \"129\": 1}, \"118\": {\"118\": 75, \"11\": 4, \"108\": 1, \"97\": 1, \"43\": 2, \"93\": 2, \"71\": 1, \"87\": 6, \"110\": 3, \"109\": 1, \"122\": 12, \"126\": 1, \"21\": 1, \"78\": 1, \"88\": 1}, \"58\": {\"58\": 6, \"68\": 1, \"25\": 2, \"88\": 2, \"75\": 1, \"41\": 1, \"47\": 2, \"103\": 1}, \"13\": {\"13\": 11, \"66\": 2, \"111\": 1, \"50\": 1, \"48\": 1}, \"89\": {\"83\": 2, \"89\": 26, \"85\": 1, \"100\": 1, \"114\": 2}, \"31\": {\"64\": 2, \"31\": 9, \"73\": 1, \"109\": 1, \"85\": 2, \"33\": 1}, \"64\": {\"31\": 2, \"85\": 2, \"64\": 4, \"112\": 1, \"124\": 1, \"41\": 1, \"82\": 1, \"9\": 1, \"7\": 1, \"83\": 2}, \"65\": {\"65\": 11, \"63\": 1}, \"101\": {\"101\": 125, \"38\": 1, \"11\": 1, \"93\": 1, \"7\": 2, \"117\": 1, \"12\": 1}, \"126\": {\"126\": 106, \"3\": 1, \"111\": 1, \"113\": 2, \"39\": 2, \"109\": 4, \"0\": 2}, \"108\": {\"30\": 2, \"108\": 48, \"70\": 10, \"10\": 5, \"62\": 1, \"39\": 1, \"88\": 6, \"109\": 12, \"107\": 1, \"12\": 1, \"126\": 1, \"43\": 2, \"129\": 1, \"18\": 1}, \"45\": {\"74\": 1, \"45\": 11, \"128\": 1, \"32\": 1, \"107\": 1, \"73\": 1}, \"21\": {\"21\": 26, \"88\": 5, \"10\": 1, \"109\": 2, \"22\": 1, \"39\": 2, \"78\": 1, \"108\": 2}, \"30\": {\"30\": 59, \"15\": 1, \"122\": 1, \"27\": 1, \"21\": 1, \"36\": 9, \"87\": 1, \"110\": 2, \"88\": 1}, \"82\": {\"82\": 19, \"83\": 1, \"64\": 1, \"41\": 1, \"98\": 2, \"29\": 2, \"100\": 1, \"107\": 2, \"32\": 1, \"34\": 1, \"124\": 1}, \"85\": {\"85\": 18, \"95\": 2, \"82\": 2, \"9\": 4, \"32\": 1, \"120\": 1}, \"88\": {\"88\": 96, \"126\": 2, \"24\": 1, \"109\": 6, \"78\": 5, \"39\": 11, \"21\": 1, \"108\": 3, \"70\": 5, \"118\": 1, \"10\": 1}, \"41\": {\"41\": 11, \"109\": 1, \"29\": 2, \"103\": 2}, \"128\": {\"89\": 1, \"85\": 2, \"128\": 17, \"56\": 1, \"9\": 1, \"82\": 1, \"107\": 1}, \"39\": {\"39\": 80, \"109\": 4, \"126\": 4, \"33\": 2, \"88\": 6, \"10\": 2, \"113\": 2}, \"18\": {\"18\": 102, \"113\": 1, \"70\": 1, \"26\": 8, \"108\": 1, \"84\": 2, \"39\": 1, \"126\": 1, \"16\": 2, \"3\": 1}, \"113\": {\"113\": 122, \"26\": 1, \"114\": 1, \"39\": 2, \"70\": 1, \"3\": 1}, \"11\": {\"11\": 116, \"60\": 2, \"110\": 5, \"118\": 4, \"33\": 1, \"39\": 1, \"62\": 3, \"126\": 1, \"93\": 3, \"7\": 1, \"109\": 1}, \"43\": {\"43\": 100, \"122\": 2, \"126\": 1, \"36\": 1, \"70\": 6, \"10\": 3, \"40\": 1, \"118\": 1, \"21\": 2, \"27\": 1, \"105\": 1, \"24\": 1}, \"12\": {\"12\": 88, \"30\": 1, \"15\": 1, \"71\": 1, \"106\": 7, \"109\": 1, \"39\": 1}, \"122\": {\"122\": 58, \"87\": 7, \"126\": 2, \"118\": 10, \"109\": 2, \"93\": 1, \"110\": 2, \"10\": 1, \"39\": 1}, \"52\": {\"52\": 9, \"46\": 2, \"98\": 1, \"95\": 3, \"9\": 1, \"41\": 2, \"85\": 2}, \"44\": {\"14\": 1, \"44\": 52, \"69\": 3, \"5\": 3, \"3\": 2, \"81\": 1, \"49\": 1, \"20\": 1}, \"90\": {\"90\": 133, \"2\": 1}, \"112\": {\"82\": 1, \"112\": 8, \"64\": 1, \"33\": 2, \"89\": 1, \"73\": 1, \"22\": 1, \"31\": 1}, \"86\": {\"86\": 27, \"4\": 1}, \"3\": {\"3\": 84, \"78\": 1, \"40\": 3, \"1\": 7, \"71\": 5, \"14\": 4, \"114\": 3, \"106\": 2, \"43\": 3, \"105\": 2, \"5\": 2}, \"38\": {\"38\": 16}, \"121\": {\"121\": 25, \"18\": 1, \"44\": 4, \"90\": 1, \"92\": 1}, \"46\": {\"40\": 1, \"46\": 10, \"100\": 1, \"127\": 2, \"114\": 2, \"52\": 1, \"85\": 2, \"50\": 1}, \"70\": {\"70\": 93, \"108\": 2, \"109\": 3, \"43\": 3, \"27\": 2, \"88\": 1, \"10\": 12, \"117\": 2, \"24\": 4, \"39\": 2}, \"67\": {\"46\": 1, \"67\": 7, \"65\": 3, \"98\": 1, \"52\": 1, \"123\": 2, \"19\": 1}, \"53\": {\"53\": 11, \"107\": 1, \"100\": 1, \"32\": 2, \"128\": 1}, \"49\": {\"49\": 13, \"127\": 2, \"105\": 3, \"34\": 2, \"107\": 2, \"99\": 2, \"44\": 3, \"51\": 1, \"72\": 1, \"71\": 1, \"5\": 1, \"108\": 1}, \"42\": {\"50\": 3, \"42\": 14, \"13\": 1, \"129\": 3, \"102\": 1, \"98\": 1, \"124\": 1, \"91\": 1, \"103\": 1, \"116\": 1, \"111\": 1}, \"10\": {\"43\": 3, \"10\": 88, \"70\": 7, \"27\": 2, \"24\": 11, \"39\": 2, \"108\": 4, \"127\": 1}, \"50\": {\"42\": 3, \"50\": 10, \"128\": 1, \"33\": 1, \"104\": 1}, \"73\": {\"47\": 2, \"112\": 2, \"73\": 16, \"111\": 1, \"114\": 1, \"28\": 1, \"74\": 1}, \"115\": {\"115\": 11, \"89\": 1, \"4\": 2, \"17\": 1, \"83\": 1}, \"80\": {\"80\": 15, \"41\": 1}, \"19\": {\"19\": 9, \"83\": 4, \"98\": 3, \"107\": 1, \"52\": 1, \"26\": 1, \"5\": 1, \"9\": 1, \"90\": 2, \"82\": 2, \"33\": 2, \"7\": 1}, \"55\": {\"55\": 7, \"29\": 3, \"98\": 1, \"91\": 2, \"95\": 2, \"52\": 1}, \"72\": {\"105\": 2, \"72\": 24, \"60\": 1, \"30\": 1, \"3\": 1, \"7\": 1, \"14\": 1, \"71\": 1}, \"117\": {\"117\": 115, \"63\": 1}, \"81\": {\"81\": 30, \"5\": 1, \"70\": 1, \"61\": 1, \"21\": 1, \"18\": 2}, \"75\": {\"9\": 1, \"75\": 7, \"52\": 1, \"29\": 1, \"34\": 1, \"25\": 1, \"53\": 1, \"77\": 2, \"95\": 1}, \"98\": {\"55\": 1, \"98\": 106, \"19\": 1, \"41\": 1, \"82\": 1, \"124\": 1, \"111\": 1, \"107\": 2, \"25\": 1, \"88\": 1, \"67\": 1, \"52\": 3}, \"48\": {\"48\": 14, \"90\": 1, \"22\": 1}, \"129\": {\"103\": 1, \"129\": 17, \"42\": 2, \"116\": 1, \"19\": 2, \"124\": 1, \"119\": 1, \"98\": 1, \"29\": 1, \"102\": 1}, \"97\": {\"0\": 1, \"97\": 14, \"24\": 2, \"124\": 1, \"118\": 2}}, \"Wisig_1\": {\"105\": {\"105\": 73, \"14\": 6, \"84\": 1, \"106\": 2, \"1\": 2}, \"100\": {\"100\": 12, \"99\": 2, \"74\": 1, \"1\": 1}, \"112\": {\"67\": 1, \"111\": 1, \"112\": 9, \"30\": 1, \"103\": 1, \"17\": 1, \"91\": 2}, \"123\": {\"123\": 15, \"2\": 1}, \"13\": {\"123\": 1, \"13\": 13, \"2\": 2}, \"81\": {\"81\": 19, \"105\": 3, \"74\": 1, \"34\": 1, \"1\": 1, \"114\": 1, \"101\": 1, \"36\": 1}, \"124\": {\"124\": 113, \"5\": 3, \"111\": 2, \"117\": 1, \"86\": 1}, \"122\": {\"122\": 77, \"43\": 5, \"87\": 3, \"8\": 1, \"93\": 2}, \"111\": {\"111\": 115, \"6\": 3, \"109\": 2}, \"93\": {\"93\": 143, \"30\": 1, \"43\": 3, \"21\": 1, \"8\": 1, \"122\": 3, \"24\": 1, \"126\": 1, \"87\": 2, \"27\": 1, \"88\": 1}, \"106\": {\"106\": 96, \"14\": 3, \"105\": 5, \"101\": 4, \"71\": 1, \"88\": 1, \"12\": 4, \"11\": 1, \"40\": 1, \"39\": 2}, \"113\": {\"113\": 113, \"109\": 1, \"18\": 6, \"96\": 2, \"16\": 2}, \"95\": {\"95\": 36}, \"87\": {\"93\": 5, \"122\": 6, \"87\": 81, \"118\": 1, \"8\": 11, \"43\": 3, \"15\": 1}, \"86\": {\"124\": 6, \"86\": 21, \"24\": 1, \"6\": 1, \"45\": 1, \"55\": 1, \"103\": 1, \"111\": 3, \"5\": 1}, \"67\": {\"67\": 16}, \"85\": {\"85\": 26, \"103\": 1, \"89\": 1, \"98\": 1, \"52\": 2, \"32\": 1}, \"82\": {\"82\": 28, \"28\": 2, \"19\": 1, \"61\": 1, \"25\": 1, \"83\": 1, \"90\": 1, \"98\": 1}, \"115\": {\"115\": 11, \"48\": 1}, \"7\": {\"7\": 125, \"62\": 12, \"84\": 5}, \"44\": {\"44\": 74, \"74\": 1, \"1\": 1}, \"65\": {\"42\": 1, \"65\": 8, \"98\": 1, \"102\": 1, \"83\": 1}, \"129\": {\"65\": 1, \"42\": 1, \"5\": 2, \"37\": 1, \"129\": 13, \"22\": 2, \"94\": 1, \"117\": 3, \"116\": 1, \"2\": 1, \"110\": 1, \"19\": 1}, \"42\": {\"42\": 10, \"85\": 1, \"41\": 1, \"75\": 1, \"82\": 3, \"53\": 2, \"83\": 3, \"49\": 1, \"89\": 1, \"19\": 1, \"20\": 1, \"129\": 1, \"86\": 1, \"5\": 1}, \"28\": {\"10\": 2, \"28\": 14, \"114\": 2, \"19\": 1, \"124\": 1}, \"0\": {\"0\": 60, \"39\": 1, \"110\": 6, \"15\": 11, \"36\": 2, \"10\": 1, \"94\": 3}, \"10\": {\"10\": 113, \"70\": 6, \"24\": 1}, \"76\": {\"76\": 14, \"126\": 1, \"1\": 1}, \"88\": {\"88\": 104, \"126\": 2, \"93\": 4, \"108\": 4, \"24\": 10, \"10\": 1, \"43\": 1}, \"29\": {\"29\": 28}, \"16\": {\"16\": 82, \"26\": 8, \"69\": 3, \"18\": 12, \"39\": 1, \"113\": 1, \"126\": 1}, \"41\": {\"41\": 10, \"103\": 2, \"91\": 1, \"80\": 1, \"98\": 2}, \"27\": {\"27\": 89, \"30\": 1, \"93\": 1, \"8\": 1}, \"33\": {\"33\": 114, \"3\": 2, \"1\": 2, \"121\": 1, \"54\": 1}, \"75\": {\"9\": 2, \"75\": 10, \"72\": 1, \"29\": 1, \"47\": 1, \"34\": 1}, \"48\": {\"48\": 12}, \"56\": {\"75\": 2, \"56\": 5, \"32\": 1, \"85\": 1, \"51\": 1, \"107\": 2}, \"9\": {\"9\": 26, \"127\": 1, \"89\": 1, \"72\": 1, \"14\": 1, \"10\": 1, \"40\": 1}, \"1\": {\"1\": 114, \"101\": 2, \"44\": 1, \"14\": 1, \"40\": 4, \"109\": 1, \"114\": 2, \"33\": 1}, \"39\": {\"39\": 88, \"109\": 8, \"30\": 4, \"70\": 2, \"24\": 1, \"43\": 1}, \"50\": {\"39\": 2, \"50\": 7, \"4\": 1, \"90\": 2, \"20\": 2, \"33\": 1, \"79\": 1}, \"99\": {\"50\": 1, \"99\": 16, \"100\": 1, \"90\": 1, \"39\": 1, \"84\": 1, \"23\": 1, \"33\": 2}, \"90\": {\"90\": 121, \"50\": 1}, \"45\": {\"45\": 6, \"104\": 1, \"37\": 1, \"129\": 1, \"64\": 2, \"39\": 1}, \"5\": {\"5\": 80, \"41\": 1, \"124\": 4, \"55\": 1, \"111\": 1, \"116\": 1}, \"128\": {\"53\": 2, \"33\": 2, \"128\": 10, \"98\": 1, \"114\": 2, \"25\": 1, \"89\": 1, \"82\": 1, \"100\": 1, \"67\": 1, \"73\": 1, \"52\": 1}, \"2\": {\"67\": 2, \"45\": 2, \"2\": 11, \"77\": 2, \"82\": 1, \"13\": 1, \"66\": 1, \"22\": 2, \"119\": 1, \"61\": 1, \"42\": 1, \"10\": 1, \"117\": 1, \"129\": 1, \"28\": 2, \"123\": 2}, \"53\": {\"53\": 14, \"89\": 2, \"32\": 2, \"128\": 2}, \"104\": {\"104\": 16}, \"32\": {\"32\": 30, \"52\": 1, \"29\": 1}, \"92\": {\"92\": 28}, \"78\": {\"78\": 13, \"108\": 2, \"10\": 1}, \"19\": {\"28\": 3, \"38\": 3, \"72\": 1, \"19\": 19, \"128\": 2}, \"120\": {\"120\": 13, \"93\": 1, \"42\": 2, \"89\": 2, \"19\": 2}, \"43\": {\"43\": 96, \"122\": 8, \"126\": 10, \"24\": 2, \"87\": 1, \"11\": 2, \"93\": 3, \"109\": 2, \"106\": 1, \"113\": 1, \"39\": 1, \"8\": 1}, \"74\": {\"74\": 14, \"73\": 1, \"89\": 1}, \"11\": {\"11\": 119, \"108\": 1, \"39\": 1, \"126\": 6, \"10\": 1, \"87\": 1, \"43\": 1}, \"26\": {\"26\": 114, \"69\": 4, \"16\": 4, \"18\": 8, \"39\": 2}, \"125\": {\"125\": 132}, \"64\": {\"67\": 1, \"64\": 14, \"102\": 1}, \"127\": {\"127\": 88, \"40\": 1, \"36\": 1, \"71\": 12, \"1\": 2, \"101\": 2, \"69\": 1, \"94\": 1}, \"83\": {\"83\": 11, \"31\": 1, \"57\": 1, \"9\": 1, \"98\": 2, \"30\": 1, \"73\": 1, \"42\": 2, \"71\": 1, \"72\": 2, \"120\": 1, \"77\": 2, \"89\": 2}, \"118\": {\"118\": 77, \"109\": 2, \"87\": 1, \"126\": 2, \"69\": 1, \"26\": 1}, \"103\": {\"83\": 2, \"85\": 3, \"103\": 7, \"73\": 1, \"32\": 1, \"68\": 1, \"128\": 1}, \"55\": {\"55\": 11, \"5\": 1}, \"110\": {\"110\": 118, \"0\": 4, \"84\": 2, \"7\": 2}, \"30\": {\"30\": 32, \"122\": 4, \"126\": 2, \"93\": 4, \"24\": 3, \"27\": 1, \"88\": 1, \"43\": 1, \"15\": 2, \"6\": 1, \"87\": 1}, \"51\": {\"51\": 13, \"92\": 1, \"56\": 2}, \"6\": {\"6\": 24, \"111\": 4, \"124\": 1, \"55\": 1, \"41\": 1, \"5\": 1}, \"96\": {\"69\": 2, \"105\": 1, \"122\": 2, \"30\": 2, \"108\": 2, \"96\": 10, \"12\": 1}, \"114\": {\"114\": 140, \"93\": 1, \"99\": 1, \"14\": 1, \"39\": 1}, \"69\": {\"69\": 93, \"16\": 1, \"62\": 4, \"26\": 6, \"109\": 1, \"7\": 1, \"126\": 2}, \"60\": {\"60\": 9, \"26\": 1, \"27\": 1, \"0\": 2, \"42\": 1, \"16\": 1, \"15\": 1}, \"94\": {\"94\": 74, \"15\": 5, \"0\": 4, \"36\": 5, \"27\": 1, \"109\": 1, \"12\": 2}, \"79\": {\"79\": 12}, \"126\": {\"126\": 115, \"12\": 1, \"11\": 8, \"24\": 1, \"43\": 2, \"108\": 2, \"39\": 1, \"93\": 2, \"88\": 2}, \"68\": {\"68\": 16}, \"72\": {\"75\": 3, \"72\": 21, \"74\": 1, \"71\": 1, \"101\": 4, \"49\": 1, \"105\": 1}, \"63\": {\"63\": 14, \"64\": 1, \"123\": 1}, \"22\": {\"102\": 1, \"64\": 1, \"22\": 9, \"2\": 2, \"96\": 1, \"45\": 1, \"104\": 1}, \"121\": {\"121\": 31, \"15\": 1}, \"71\": {\"71\": 73, \"85\": 1, \"70\": 1, \"101\": 12, \"40\": 1, \"127\": 12, \"12\": 1, \"106\": 1, \"43\": 1, \"52\": 1, \"105\": 2, \"90\": 1, \"39\": 1}, \"54\": {\"54\": 13, \"47\": 1, \"73\": 1, \"98\": 1}, \"102\": {\"102\": 114, \"65\": 2, \"39\": 1, \"129\": 2, \"22\": 1}, \"73\": {\"54\": 1, \"88\": 1, \"73\": 12, \"127\": 1, \"42\": 2, \"72\": 1, \"71\": 2}, \"38\": {\"38\": 16}, \"4\": {\"4\": 95, \"124\": 2, \"113\": 1, \"118\": 2}, \"52\": {\"32\": 1, \"52\": 14, \"85\": 5}, \"70\": {\"70\": 118, \"97\": 1, \"108\": 2, \"109\": 4, \"10\": 1, \"124\": 1, \"24\": 1}, \"91\": {\"91\": 24, \"92\": 1, \"53\": 1, \"98\": 1, \"41\": 1}, \"77\": {\"77\": 13, \"121\": 1, \"91\": 2}, \"20\": {\"20\": 16}, \"59\": {\"59\": 11, \"6\": 1}, \"40\": {\"40\": 85, \"0\": 1, \"34\": 1, \"9\": 4, \"101\": 4, \"118\": 1, \"105\": 2, \"114\": 2, \"127\": 5, \"14\": 5, \"71\": 6, \"106\": 4, \"12\": 7, \"108\": 2, \"35\": 3, \"72\": 1, \"1\": 2, \"109\": 1}, \"98\": {\"98\": 100, \"54\": 2, \"85\": 2, \"5\": 2, \"83\": 1, \"77\": 1}, \"46\": {\"55\": 1, \"46\": 8, \"111\": 2, \"91\": 1}, \"34\": {\"34\": 11, \"85\": 2, \"32\": 2, \"29\": 3, \"51\": 2, \"89\": 1, \"128\": 1, \"72\": 1, \"74\": 1, \"84\": 1, \"44\": 1, \"14\": 1, \"105\": 2, \"12\": 1, \"35\": 1, \"81\": 1}, \"24\": {\"24\": 67, \"113\": 1, \"93\": 3, \"126\": 3, \"88\": 8, \"10\": 2, \"97\": 1, \"108\": 3, \"122\": 1, \"30\": 1, \"39\": 2}, \"62\": {\"62\": 107, \"7\": 6, \"69\": 3, \"68\": 1, \"111\": 1, \"109\": 1, \"84\": 1}, \"14\": {\"34\": 1, \"14\": 89, \"31\": 2, \"105\": 1, \"40\": 3}, \"12\": {\"12\": 81, \"106\": 6, \"109\": 1, \"0\": 1, \"107\": 1, \"71\": 1, \"101\": 2, \"105\": 3, \"74\": 2, \"126\": 1, \"113\": 1, \"127\": 1, \"39\": 1, \"1\": 1, \"70\": 1}, \"84\": {\"84\": 117, \"35\": 2, \"7\": 7, \"8\": 1, \"62\": 3, \"105\": 2, \"109\": 1, \"39\": 1}, \"37\": {\"37\": 16}, \"97\": {\"27\": 2, \"97\": 15, \"93\": 1, \"15\": 1, \"11\": 1}, \"57\": {\"57\": 11, \"120\": 1}, \"49\": {\"49\": 13, \"9\": 1, \"114\": 2, \"72\": 2, \"73\": 1, \"29\": 1}, \"17\": {\"17\": 14, \"106\": 1, \"129\": 1}, \"109\": {\"109\": 104, \"70\": 2}, \"80\": {\"80\": 16}, \"66\": {\"64\": 2, \"66\": 13, \"45\": 1}, \"101\": {\"101\": 120, \"15\": 2, \"71\": 1, \"70\": 1}, \"89\": {\"89\": 24, \"25\": 1, \"29\": 1, \"83\": 2, \"128\": 3, \"107\": 2, \"57\": 1, \"42\": 1, \"91\": 1}, \"31\": {\"120\": 1, \"71\": 1, \"31\": 11, \"106\": 1, \"35\": 1, \"114\": 1}, \"21\": {\"21\": 29, \"108\": 2, \"85\": 1, \"109\": 2, \"106\": 1, \"39\": 2, \"98\": 1, \"70\": 2}, \"23\": {\"62\": 2, \"23\": 4, \"15\": 2, \"18\": 1, \"94\": 4, \"69\": 1, \"44\": 1, \"0\": 3, \"84\": 4, \"33\": 1, \"36\": 1}, \"25\": {\"38\": 1, \"25\": 7, \"42\": 2, \"98\": 1, \"128\": 1, \"82\": 1, \"47\": 1, \"16\": 1, \"73\": 1}, \"107\": {\"107\": 100, \"14\": 2, \"113\": 1, \"69\": 1, \"71\": 4, \"49\": 1, \"110\": 1, \"114\": 2}, \"3\": {\"60\": 2, \"3\": 82, \"110\": 1, \"10\": 1, \"0\": 1, \"125\": 1}, \"61\": {\"61\": 7, \"90\": 2, \"66\": 2, \"111\": 1}, \"117\": {\"117\": 125, \"126\": 1}, \"119\": {\"116\": 3, \"119\": 11, \"121\": 1, \"38\": 1}, \"58\": {\"58\": 12}, \"47\": {\"107\": 2, \"71\": 1, \"47\": 7, \"128\": 1, \"51\": 1}, \"116\": {\"116\": 23, \"22\": 1, \"117\": 2, \"102\": 2, \"129\": 1, \"82\": 2, \"5\": 1}, \"18\": {\"18\": 97, \"16\": 15, \"113\": 2, \"26\": 9, \"109\": 1}, \"36\": {\"36\": 95, \"118\": 1, \"110\": 10, \"94\": 4, \"15\": 2, \"0\": 6, \"39\": 1, \"97\": 2, \"71\": 1}, \"108\": {\"10\": 2, \"108\": 86, \"88\": 9, \"126\": 4, \"11\": 6, \"110\": 1, \"24\": 3, \"36\": 1}, \"15\": {\"94\": 3, \"15\": 81, \"0\": 8, \"36\": 7, \"84\": 2, \"110\": 2, \"11\": 1}, \"8\": {\"8\": 105, \"122\": 2, \"87\": 3, \"27\": 1, \"93\": 3}, \"35\": {\"35\": 12}}, \"Wisig_2\": {\"3\": {\"14\": 5, \"3\": 97, \"40\": 3, \"15\": 1, \"106\": 1, \"1\": 14, \"12\": 2, \"39\": 3, \"71\": 3, \"0\": 1, \"33\": 1, \"70\": 1}, \"127\": {\"127\": 113, \"21\": 1, \"12\": 2, \"101\": 1, \"106\": 1, \"40\": 2}, \"58\": {\"58\": 18, \"52\": 1, \"73\": 1}, \"114\": {\"127\": 4, \"114\": 96, \"107\": 2, \"95\": 4, \"3\": 2, \"71\": 2, \"118\": 1, \"21\": 1}, \"111\": {\"111\": 130, \"86\": 1, \"124\": 7, \"98\": 2, \"126\": 1, \"40\": 1, \"5\": 2}, \"105\": {\"105\": 119, \"60\": 2, \"7\": 4, \"40\": 1, \"39\": 1, \"15\": 1, \"110\": 2, \"71\": 1, \"122\": 1}, \"118\": {\"114\": 1, \"118\": 58, \"11\": 4, \"87\": 1, \"23\": 1, \"108\": 1, \"43\": 1, \"10\": 1}, \"23\": {\"105\": 2, \"23\": 12, \"60\": 1, \"87\": 2, \"113\": 3, \"122\": 4, \"8\": 4, \"93\": 4, \"110\": 2, \"18\": 2, \"26\": 3, \"94\": 1, \"7\": 1, \"0\": 2, \"43\": 1}, \"21\": {\"21\": 34, \"114\": 1, \"118\": 2, \"78\": 4, \"88\": 2, \"43\": 2, \"24\": 3}, \"20\": {\"20\": 15, \"21\": 1}, \"75\": {\"75\": 13, \"9\": 2, \"50\": 1}, \"86\": {\"111\": 3, \"86\": 29}, \"60\": {\"60\": 19, \"105\": 1, \"36\": 1, \"62\": 1, \"43\": 1, \"93\": 2, \"8\": 2, \"11\": 1}, \"69\": {\"69\": 112, \"72\": 2, \"18\": 3, \"62\": 5, \"121\": 1, \"84\": 1, \"88\": 3, \"122\": 1, \"70\": 1, \"16\": 1, \"26\": 6, \"96\": 1, \"109\": 1, \"39\": 2}, \"99\": {\"20\": 1, \"99\": 26, \"120\": 1, \"72\": 1, \"78\": 1, \"121\": 2}, \"14\": {\"14\": 19, \"60\": 3, \"33\": 2, \"3\": 4, \"95\": 2, \"113\": 1, \"43\": 1, \"1\": 5, \"12\": 1, \"61\": 2, \"70\": 1, \"40\": 2, \"78\": 1, \"107\": 1, \"88\": 1, \"126\": 1, \"21\": 1}, \"25\": {\"25\": 14, \"29\": 2}, \"52\": {\"103\": 2, \"29\": 2, \"52\": 14, \"124\": 1, \"6\": 1}, \"47\": {\"47\": 6, \"44\": 2, \"25\": 1, \"49\": 1, \"78\": 1, \"66\": 1}, \"48\": {\"48\": 17, \"46\": 1, \"5\": 1, \"2\": 1}, \"27\": {\"27\": 53, \"78\": 1, \"87\": 1, \"122\": 1, \"109\": 1, \"84\": 1, \"39\": 1, \"101\": 1, \"11\": 2, \"18\": 1, \"113\": 1, \"30\": 2, \"105\": 1, \"94\": 1}, \"78\": {\"78\": 39, \"109\": 1, \"88\": 4, \"10\": 1, \"126\": 1, \"70\": 2}, \"8\": {\"8\": 108, \"12\": 1, \"6\": 1, \"94\": 1, \"122\": 3, \"30\": 4, \"27\": 2, \"11\": 1, \"93\": 1}, \"90\": {\"90\": 153, \"126\": 1, \"63\": 1, \"19\": 1, \"61\": 1, \"89\": 1, \"117\": 1, \"44\": 1}, \"103\": {\"103\": 11, \"25\": 1, \"68\": 2, \"41\": 1, \"77\": 1}, \"120\": {\"120\": 19, \"81\": 1}, \"96\": {\"96\": 14, \"84\": 2, \"93\": 4}, \"30\": {\"30\": 76, \"36\": 8, \"0\": 5, \"122\": 1, \"8\": 7, \"108\": 2, \"114\": 1, \"11\": 2, \"106\": 1, \"110\": 1}, \"33\": {\"33\": 142, \"3\": 1, \"1\": 3}, \"35\": {\"35\": 12}, \"108\": {\"108\": 110, \"30\": 2, \"122\": 1, \"11\": 1, \"36\": 2}, \"112\": {\"54\": 1, \"112\": 10, \"98\": 1, \"129\": 1, \"50\": 1, \"41\": 1, \"104\": 1}, \"40\": {\"71\": 7, \"40\": 86, \"3\": 13, \"53\": 1, \"21\": 1, \"88\": 2, \"14\": 3, \"127\": 4, \"1\": 1, \"39\": 1, \"94\": 1, \"101\": 1, \"105\": 1, \"114\": 1, \"70\": 1, \"95\": 3, \"12\": 3, \"109\": 2, \"7\": 5, \"110\": 1, \"106\": 1, \"18\": 1}, \"102\": {\"102\": 109, \"90\": 3, \"88\": 1, \"39\": 1, \"70\": 1, \"98\": 1}, \"56\": {\"56\": 12}, \"93\": {\"93\": 123, \"72\": 1, \"16\": 7, \"90\": 1, \"18\": 2, \"39\": 1, \"69\": 1}, \"68\": {\"68\": 13, \"42\": 2, \"88\": 1}, \"70\": {\"70\": 88, \"43\": 1, \"109\": 7, \"88\": 7, \"39\": 7, \"126\": 5, \"16\": 1, \"78\": 3, \"10\": 1, \"15\": 1, \"24\": 1, \"87\": 2}, \"7\": {\"7\": 110, \"105\": 5, \"40\": 2, \"0\": 2, \"15\": 2, \"92\": 1, \"71\": 2}, \"87\": {\"87\": 82, \"88\": 3, \"122\": 2, \"14\": 2, \"109\": 2, \"10\": 4, \"43\": 6, \"126\": 5, \"16\": 2, \"113\": 1, \"39\": 3}, \"54\": {\"112\": 1, \"54\": 15, \"128\": 2, \"34\": 2}, \"71\": {\"71\": 74, \"3\": 5, \"12\": 2, \"1\": 6, \"88\": 1, \"101\": 1, \"122\": 1, \"127\": 1, \"14\": 5, \"21\": 1, \"40\": 2, \"39\": 1}, \"80\": {\"80\": 16}, \"18\": {\"18\": 104, \"72\": 2, \"26\": 2, \"69\": 7, \"87\": 2, \"93\": 2, \"62\": 2, \"39\": 1}, \"101\": {\"101\": 104, \"78\": 1, \"106\": 7, \"15\": 4, \"40\": 2, \"3\": 2, \"127\": 2}, \"92\": {\"128\": 1, \"92\": 19, \"19\": 2, \"69\": 1, \"82\": 2, \"3\": 1, \"54\": 2}, \"32\": {\"32\": 27, \"76\": 2, \"114\": 2, \"107\": 3, \"74\": 1, \"4\": 1}, \"128\": {\"51\": 2, \"128\": 9, \"1\": 1, \"107\": 5, \"114\": 1, \"89\": 2, \"56\": 1, \"75\": 1, \"33\": 1, \"32\": 1}, \"6\": {\"6\": 32}, \"51\": {\"51\": 8, \"101\": 1, \"54\": 1, \"9\": 2, \"114\": 1, \"58\": 1, \"129\": 1, \"35\": 2, \"103\": 1, \"93\": 1, \"40\": 1}, \"85\": {\"85\": 17, \"22\": 1, \"68\": 2, \"64\": 1, \"105\": 1, \"52\": 1, \"34\": 1, \"5\": 1, \"92\": 1, \"50\": 3, \"45\": 1, \"25\": 1, \"73\": 1}, \"46\": {\"92\": 2, \"46\": 10, \"48\": 1, \"45\": 2, \"112\": 1}, \"22\": {\"22\": 15, \"129\": 1, \"53\": 2, \"104\": 1, \"42\": 1}, \"1\": {\"1\": 96, \"60\": 2, \"40\": 1, \"12\": 1, \"61\": 1, \"78\": 2, \"33\": 4, \"26\": 1, \"3\": 8, \"7\": 2, \"87\": 1, \"71\": 1, \"126\": 1, \"44\": 1}, \"37\": {\"112\": 2, \"37\": 11, \"50\": 1, \"5\": 1, \"73\": 1}, \"44\": {\"44\": 91, \"82\": 1, \"109\": 1, \"33\": 1, \"71\": 1, \"126\": 1, \"50\": 1, \"89\": 1, \"23\": 1, \"90\": 1}, \"24\": {\"24\": 87, \"11\": 2, \"78\": 1, \"27\": 1, \"109\": 2, \"10\": 2, \"126\": 6, \"62\": 1, \"39\": 3, \"70\": 2, \"87\": 1, \"21\": 2, \"118\": 1, \"88\": 1}, \"9\": {\"9\": 28, \"51\": 2, \"114\": 2}, \"116\": {\"116\": 23, \"65\": 1, \"102\": 1, \"109\": 1, \"42\": 1, \"63\": 1}, \"64\": {\"64\": 14, \"56\": 1, \"123\": 1}, \"129\": {\"37\": 2, \"129\": 25, \"41\": 1, \"5\": 3, \"112\": 1}, \"42\": {\"116\": 2, \"42\": 18, \"91\": 2, \"70\": 1, \"118\": 2, \"5\": 1, \"22\": 1, \"77\": 1}, \"117\": {\"117\": 113, \"90\": 2, \"102\": 2, \"93\": 1, \"82\": 2}, \"88\": {\"88\": 92, \"109\": 13, \"43\": 2, \"78\": 1, \"21\": 2, \"10\": 2, \"126\": 3, \"39\": 7, \"87\": 2}, \"31\": {\"83\": 2, \"31\": 15, \"33\": 2, \"84\": 1}, \"113\": {\"113\": 69, \"118\": 2, \"44\": 1}, \"38\": {\"38\": 16}, \"83\": {\"83\": 35, \"25\": 1, \"31\": 1, \"44\": 1, \"90\": 1, \"124\": 1}, \"49\": {\"49\": 14, \"51\": 1, \"64\": 1, \"107\": 1, \"44\": 1, \"127\": 1, \"76\": 1, \"39\": 1, \"66\": 1, \"32\": 2}, \"97\": {\"97\": 16, \"91\": 1, \"104\": 1, \"7\": 2}, \"76\": {\"49\": 2, \"76\": 12, \"1\": 1, \"128\": 1}, \"29\": {\"29\": 27, \"28\": 2, \"77\": 1, \"98\": 2}, \"61\": {\"76\": 2, \"61\": 12, \"32\": 1, \"44\": 1, \"14\": 1, \"98\": 1, \"106\": 1, \"107\": 1}, \"125\": {\"125\": 146, \"121\": 1, \"79\": 1}, \"126\": {\"126\": 105, \"78\": 1, \"87\": 5, \"39\": 2, \"43\": 2, \"70\": 3, \"109\": 2}, \"55\": {\"55\": 14, \"114\": 2}, \"0\": {\"97\": 2, \"0\": 77, \"39\": 1, \"15\": 6, \"94\": 4, \"122\": 2, \"62\": 1, \"40\": 1, \"30\": 2, \"7\": 4, \"36\": 1, \"92\": 1, \"23\": 2, \"21\": 1, \"44\": 1, \"12\": 2}, \"15\": {\"97\": 2, \"15\": 98, \"12\": 3, \"94\": 1, \"88\": 2, \"87\": 1, \"0\": 6, \"36\": 3, \"110\": 2, \"7\": 2}, \"26\": {\"26\": 116, \"113\": 2, \"109\": 2, \"87\": 2, \"93\": 12, \"39\": 1, \"78\": 1, \"18\": 1, \"16\": 1}, \"63\": {\"63\": 17, \"45\": 1, \"89\": 2}, \"57\": {\"57\": 18, \"90\": 2}, \"39\": {\"39\": 87, \"70\": 3, \"109\": 12, \"88\": 4, \"122\": 2, \"24\": 2, \"108\": 2}, \"62\": {\"62\": 121, \"60\": 3, \"39\": 2, \"105\": 6, \"7\": 2, \"11\": 1, \"14\": 1, \"16\": 2, \"88\": 1, \"43\": 1}, \"82\": {\"90\": 1, \"82\": 25, \"45\": 2, \"119\": 1, \"116\": 1, \"87\": 1, \"61\": 1, \"63\": 1, \"113\": 1, \"95\": 1, \"23\": 1}, \"11\": {\"11\": 66, \"108\": 7, \"1\": 1, \"122\": 2, \"110\": 1, \"43\": 1, \"39\": 1, \"8\": 1}, \"4\": {\"4\": 87, \"126\": 1}, \"41\": {\"41\": 10, \"103\": 2, \"124\": 1, \"98\": 2, \"115\": 1, \"104\": 1, \"59\": 1, \"77\": 1, \"25\": 1}, \"72\": {\"72\": 22, \"84\": 1, \"69\": 4, \"14\": 1}, \"16\": {\"16\": 90, \"88\": 1, \"93\": 22, \"26\": 3, \"39\": 1, \"78\": 1, \"69\": 4, \"62\": 1, \"43\": 1}, \"81\": {\"81\": 19, \"116\": 1, \"95\": 1, \"69\": 1, \"20\": 1, \"129\": 1}, \"67\": {\"123\": 3, \"112\": 1, \"28\": 1, \"67\": 7, \"42\": 1, \"22\": 1, \"129\": 1, \"64\": 1}, \"123\": {\"123\": 14, \"22\": 1, \"92\": 1}, \"66\": {\"66\": 9, \"85\": 1, \"68\": 1, \"64\": 2, \"28\": 1, \"86\": 1, \"98\": 2, \"47\": 2, \"19\": 1}, \"36\": {\"36\": 96, \"1\": 1, \"0\": 4, \"122\": 4, \"70\": 1, \"43\": 1, \"30\": 6, \"94\": 4, \"121\": 1, \"8\": 2, \"113\": 1, \"26\": 1, \"18\": 1, \"126\": 1, \"27\": 2, \"69\": 1, \"105\": 1}, \"115\": {\"115\": 9, \"79\": 2, \"43\": 1}, \"77\": {\"77\": 10, \"68\": 1, \"85\": 2, \"103\": 1, \"5\": 2}, \"119\": {\"119\": 18, \"116\": 2}, \"65\": {\"65\": 19, \"126\": 1}, \"34\": {\"55\": 2, \"34\": 23, \"9\": 1, \"32\": 1, \"107\": 2, \"61\": 1, \"98\": 2}, \"107\": {\"114\": 5, \"55\": 1, \"107\": 46, \"53\": 1, \"69\": 1, \"10\": 1, \"34\": 1, \"32\": 5, \"28\": 1, \"70\": 1, \"58\": 1}, \"13\": {\"13\": 15, \"73\": 1}, \"110\": {\"25\": 1, \"110\": 20, \"105\": 7, \"0\": 1, \"21\": 1, \"8\": 2, \"36\": 1, \"122\": 1, \"7\": 3, \"106\": 1, \"40\": 2}, \"106\": {\"106\": 91, \"101\": 15, \"71\": 3, \"109\": 1, \"98\": 1, \"127\": 3, \"40\": 2, \"39\": 1, \"88\": 1}, \"89\": {\"89\": 30, \"38\": 1, \"90\": 1, \"110\": 1, \"44\": 1, \"28\": 1, \"82\": 1}, \"94\": {\"0\": 6, \"94\": 38, \"8\": 3, \"122\": 1, \"87\": 1, \"15\": 3, \"36\": 5, \"24\": 1, \"21\": 1, \"90\": 1, \"62\": 1, \"39\": 1, \"126\": 1, \"88\": 1}, \"98\": {\"98\": 103, \"50\": 1, \"83\": 2, \"121\": 1, \"26\": 1, \"44\": 1, \"21\": 1, \"49\": 1, \"100\": 1}, \"91\": {\"91\": 20, \"77\": 1, \"124\": 1, \"104\": 4, \"68\": 1, \"29\": 1}, \"84\": {\"84\": 76, \"62\": 3, \"14\": 2, \"44\": 1, \"69\": 1, \"105\": 1, \"1\": 3, \"7\": 2, \"88\": 1, \"3\": 2}, \"73\": {\"59\": 1, \"73\": 23, \"128\": 1, \"54\": 1, \"58\": 2}, \"104\": {\"91\": 2, \"29\": 1, \"16\": 1, \"28\": 1, \"104\": 8, \"125\": 1, \"118\": 1, \"52\": 2, \"126\": 1, \"6\": 1, \"5\": 1}, \"59\": {\"59\": 12, \"124\": 2, \"6\": 2}, \"74\": {\"74\": 9, \"104\": 1, \"73\": 1, \"128\": 1, \"95\": 2, \"35\": 1, \"107\": 1}, \"28\": {\"28\": 15, \"87\": 1, \"112\": 2, \"58\": 2}, \"95\": {\"95\": 21, \"108\": 1, \"40\": 5, \"32\": 1, \"114\": 2, \"49\": 1, \"127\": 2, \"71\": 3}, \"2\": {\"81\": 2, \"2\": 22, \"82\": 1, \"90\": 3, \"13\": 1, \"99\": 2, \"117\": 1}, \"5\": {\"5\": 101, \"129\": 3, \"111\": 2, \"10\": 1, \"22\": 1, \"88\": 1, \"39\": 1, \"124\": 2}, \"50\": {\"38\": 1, \"123\": 1, \"64\": 2, \"70\": 1, \"50\": 7, \"85\": 2, \"107\": 1, \"22\": 1}, \"109\": {\"88\": 8, \"109\": 71, \"70\": 8, \"6\": 1, \"33\": 1, \"39\": 8, \"69\": 1, \"78\": 1, \"5\": 1}, \"10\": {\"10\": 41, \"78\": 4, \"12\": 1, \"88\": 3, \"108\": 1, \"24\": 6, \"70\": 1, \"21\": 1, \"105\": 1, \"126\": 1}, \"45\": {\"45\": 13, \"122\": 1, \"55\": 1, \"24\": 1}, \"121\": {\"121\": 29, \"18\": 1, \"69\": 1, \"99\": 2, \"118\": 1, \"44\": 2}, \"124\": {\"124\": 100, \"85\": 1, \"91\": 1, \"100\": 1, \"111\": 7}, \"53\": {\"105\": 1, \"55\": 2, \"53\": 6, \"107\": 1, \"68\": 1, \"14\": 1, \"128\": 1, \"67\": 1, \"126\": 1, \"61\": 1}, \"79\": {\"79\": 16}, \"43\": {\"43\": 92, \"118\": 2, \"10\": 1, \"122\": 5, \"26\": 1, \"108\": 5, \"11\": 1, \"24\": 1, \"126\": 1, \"87\": 3, \"39\": 1, \"106\": 1}, \"122\": {\"122\": 95, \"94\": 2, \"88\": 3, \"0\": 3, \"110\": 1, \"11\": 5, \"36\": 4, \"108\": 5, \"126\": 1, \"39\": 1, \"8\": 8, \"43\": 1, \"30\": 3, \"15\": 2, \"118\": 1, \"7\": 1, \"105\": 2}, \"100\": {\"100\": 6, \"82\": 1, \"1\": 2, \"62\": 1, \"90\": 2, \"83\": 1, \"89\": 2, \"33\": 1}, \"19\": {\"92\": 1, \"19\": 25, \"44\": 2}, \"12\": {\"12\": 70, \"15\": 4, \"7\": 3, \"105\": 1, \"106\": 5, \"0\": 2, \"109\": 1, \"88\": 1, \"70\": 1}, \"17\": {\"17\": 9, \"111\": 3, \"129\": 1, \"39\": 1, \"91\": 2}}, \"Wisig_3\": {\"38\": {\"38\": 15, \"51\": 1}, \"88\": {\"88\": 99, \"39\": 4, \"70\": 5, \"21\": 3, \"36\": 1}, \"104\": {\"124\": 2, \"115\": 1, \"104\": 6, \"25\": 3, \"42\": 1, \"111\": 2, \"91\": 1}, \"11\": {\"11\": 133, \"109\": 3, \"43\": 1, \"118\": 2, \"70\": 1}, \"103\": {\"103\": 7, \"46\": 1, \"85\": 2, \"102\": 1, \"55\": 1, \"115\": 1, \"45\": 3}, \"124\": {\"124\": 104, \"111\": 9, \"5\": 2, \"90\": 1}, \"3\": {\"3\": 79, \"1\": 10, \"43\": 1, \"105\": 9, \"71\": 8, \"40\": 4, \"11\": 2, \"10\": 1, \"114\": 2}, \"74\": {\"74\": 7, \"107\": 1, \"114\": 2, \"115\": 1, \"34\": 1, \"57\": 2, \"38\": 2}, \"126\": {\"126\": 77, \"39\": 13, \"109\": 7, \"11\": 5, \"113\": 5, \"127\": 1, \"10\": 1, \"26\": 2, \"122\": 1, \"87\": 1, \"17\": 1, \"108\": 1, \"43\": 2, \"93\": 1, \"88\": 3, \"8\": 1}, \"123\": {\"123\": 16}, \"51\": {\"51\": 14, \"103\": 1, \"1\": 1}, \"14\": {\"14\": 77, \"15\": 2, \"30\": 1}, \"16\": {\"16\": 90, \"93\": 9, \"8\": 1, \"84\": 3, \"62\": 7, \"110\": 1, \"10\": 2, \"26\": 1, \"109\": 1, \"11\": 1}, \"22\": {\"22\": 15, \"5\": 1}, \"109\": {\"109\": 120, \"43\": 2}, \"27\": {\"27\": 73, \"87\": 2, \"108\": 5, \"36\": 4, \"30\": 3, \"10\": 4, \"24\": 4, \"109\": 1}, \"75\": {\"54\": 1, \"72\": 2, \"55\": 2, \"75\": 7, \"78\": 1, \"95\": 2, \"25\": 1}, \"66\": {\"66\": 8, \"55\": 2, \"54\": 1, \"77\": 2, \"50\": 1, \"41\": 1, \"65\": 1}, \"48\": {\"115\": 3, \"86\": 2, \"91\": 2, \"48\": 1, \"85\": 1, \"68\": 2, \"102\": 1, \"116\": 2, \"124\": 2}, \"6\": {\"6\": 28, \"37\": 1, \"111\": 2, \"59\": 1}, \"10\": {\"10\": 104, \"24\": 2, \"27\": 1, \"109\": 1, \"11\": 2, \"16\": 1, \"126\": 1}, \"99\": {\"99\": 25, \"35\": 1, \"107\": 2, \"34\": 1, \"51\": 1, \"47\": 2, \"72\": 1, \"32\": 1, \"105\": 1, \"9\": 1}, \"50\": {\"55\": 1, \"50\": 10, \"56\": 1, \"19\": 1, \"66\": 2, \"65\": 1}, \"54\": {\"54\": 16}, \"55\": {\"72\": 2, \"55\": 12, \"103\": 1, \"128\": 1}, \"53\": {\"53\": 14, \"107\": 2, \"76\": 2, \"20\": 2}, \"72\": {\"72\": 20, \"46\": 2, \"105\": 2, \"101\": 1, \"99\": 2, \"114\": 1}, \"64\": {\"64\": 20}, \"115\": {\"126\": 1, \"115\": 11, \"112\": 2, \"129\": 2}, \"23\": {\"10\": 2, \"23\": 14, \"81\": 1, \"0\": 2, \"26\": 2, \"93\": 2, \"15\": 2, \"84\": 1, \"8\": 2, \"94\": 3, \"18\": 1}, \"32\": {\"57\": 5, \"32\": 20, \"128\": 3, \"107\": 2, \"34\": 1, \"114\": 1}, \"15\": {\"15\": 95, \"94\": 6, \"88\": 1, \"113\": 1, \"39\": 1}, \"43\": {\"43\": 41, \"11\": 3, \"109\": 3, \"110\": 2, \"118\": 4, \"21\": 3}, \"114\": {\"114\": 92, \"107\": 14, \"70\": 1, \"3\": 8, \"1\": 3, \"126\": 1, \"98\": 1, \"105\": 3, \"53\": 1}, \"121\": {\"64\": 2, \"121\": 29, \"92\": 1}, \"79\": {\"79\": 12}, \"81\": {\"81\": 30, \"26\": 1, \"61\": 1}, \"8\": {\"8\": 107, \"23\": 1, \"101\": 1, \"0\": 7, \"15\": 4, \"110\": 3, \"94\": 2, \"36\": 1, \"27\": 2}, \"13\": {\"13\": 10, \"129\": 2, \"102\": 2, \"63\": 1, \"15\": 1}, \"90\": {\"90\": 145, \"89\": 5, \"82\": 3, \"107\": 2, \"29\": 1}, \"41\": {\"90\": 1, \"41\": 12, \"42\": 3}, \"107\": {\"114\": 14, \"107\": 115, \"74\": 2, \"1\": 3, \"105\": 1, \"40\": 1}, \"57\": {\"32\": 5, \"57\": 12, \"42\": 1, \"50\": 1, \"5\": 1}, \"33\": {\"33\": 108, \"69\": 7, \"114\": 1, \"40\": 1, \"92\": 1, \"14\": 2}, \"35\": {\"35\": 12}, \"29\": {\"29\": 31, \"90\": 1}, \"70\": {\"70\": 63, \"88\": 1, \"10\": 2, \"39\": 2, \"26\": 2, \"113\": 1, \"126\": 1}, \"42\": {\"43\": 1, \"42\": 16, \"25\": 2, \"91\": 5, \"58\": 1, \"118\": 1, \"22\": 1, \"129\": 1}, \"93\": {\"93\": 121, \"16\": 5}, \"86\": {\"86\": 22, \"42\": 1, \"111\": 2, \"68\": 2, \"124\": 1}, \"28\": {\"28\": 12, \"47\": 2, \"34\": 2}, \"1\": {\"1\": 79, \"3\": 11, \"101\": 3, \"14\": 1, \"105\": 1, \"71\": 3, \"114\": 2, \"10\": 1, \"40\": 2, \"28\": 1, \"127\": 3, \"126\": 1}, \"125\": {\"125\": 121, \"44\": 1, \"127\": 1, \"90\": 1}, \"69\": {\"69\": 78, \"21\": 1, \"109\": 1, \"14\": 1, \"39\": 1, \"62\": 2}, \"97\": {\"97\": 14, \"0\": 1, \"106\": 1, \"41\": 1, \"101\": 1, \"15\": 2}, \"117\": {\"117\": 111, \"2\": 1}, \"68\": {\"68\": 16}, \"30\": {\"30\": 63, \"122\": 2, \"36\": 9, \"0\": 3, \"8\": 2, \"39\": 1, \"21\": 1, \"15\": 2, \"70\": 1}, \"111\": {\"68\": 2, \"111\": 121, \"37\": 1, \"124\": 8}, \"47\": {\"47\": 12}, \"102\": {\"102\": 121, \"119\": 1, \"80\": 2}, \"65\": {\"65\": 12}, \"113\": {\"113\": 108, \"39\": 2, \"96\": 1, \"111\": 1, \"118\": 2, \"43\": 2, \"73\": 1, \"109\": 3}, \"36\": {\"36\": 98, \"122\": 2, \"30\": 6, \"27\": 5, \"0\": 2, \"126\": 1}, \"119\": {\"102\": 4, \"119\": 8, \"79\": 1, \"80\": 1, \"17\": 1, \"116\": 1}, \"46\": {\"46\": 9, \"103\": 1, \"98\": 3, \"19\": 2, \"65\": 1}, \"49\": {\"49\": 11, \"23\": 1, \"101\": 1, \"16\": 2, \"12\": 2, \"7\": 1, \"125\": 1, \"38\": 1, \"68\": 1, \"84\": 2, \"62\": 1}, \"0\": {\"0\": 109, \"113\": 1, \"8\": 6}, \"58\": {\"58\": 12, \"98\": 2, \"13\": 1, \"72\": 1}, \"63\": {\"63\": 12, \"119\": 2, \"82\": 2}, \"94\": {\"0\": 2, \"94\": 73, \"97\": 3, \"60\": 1, \"15\": 5}, \"17\": {\"22\": 1, \"94\": 1, \"17\": 4, \"36\": 1, \"79\": 1, \"39\": 1, \"86\": 4, \"42\": 1, \"116\": 1, \"127\": 1}, \"9\": {\"38\": 2, \"9\": 28, \"83\": 2}, \"87\": {\"87\": 116, \"108\": 3, \"110\": 1}, \"59\": {\"59\": 11, \"51\": 1}, \"105\": {\"105\": 100, \"114\": 2, \"71\": 8, \"127\": 6, \"3\": 3, \"74\": 1}, \"80\": {\"80\": 14, \"10\": 1, \"116\": 1}, \"120\": {\"80\": 1, \"120\": 11, \"89\": 1, \"79\": 1, \"92\": 3, \"2\": 1, \"102\": 1, \"13\": 1}, \"18\": {\"81\": 1, \"18\": 121, \"33\": 4, \"126\": 1, \"69\": 3, \"113\": 1, \"90\": 1}, \"78\": {\"78\": 9, \"87\": 1, \"21\": 2, \"10\": 2, \"118\": 2}, \"25\": {\"25\": 15, \"37\": 1}, \"19\": {\"19\": 17, \"25\": 1, \"83\": 2, \"95\": 1, \"77\": 1, \"50\": 2, \"128\": 1, \"82\": 1, \"114\": 1, \"65\": 1, \"57\": 1, \"55\": 1, \"32\": 1, \"103\": 1}, \"122\": {\"39\": 3, \"17\": 1, \"122\": 46, \"18\": 1, \"110\": 1, \"36\": 4, \"87\": 3, \"71\": 1}, \"39\": {\"39\": 108}, \"76\": {\"105\": 1, \"76\": 7, \"82\": 1, \"53\": 1, \"99\": 2, \"100\": 1, \"1\": 1, \"44\": 2}, \"89\": {\"89\": 23, \"90\": 4, \"32\": 1}, \"129\": {\"129\": 28, \"5\": 3, \"91\": 1}, \"26\": {\"26\": 94, \"88\": 2, \"70\": 1, \"108\": 1, \"16\": 2}, \"85\": {\"85\": 27, \"56\": 1, \"112\": 1, \"46\": 2, \"73\": 2, \"5\": 1, \"9\": 1, \"90\": 1}, \"71\": {\"71\": 51, \"107\": 2, \"40\": 1, \"88\": 1, \"3\": 6, \"114\": 2, \"105\": 4, \"1\": 1}, \"77\": {\"77\": 14, \"42\": 1, \"91\": 1}, \"128\": {\"128\": 21, \"85\": 1, \"46\": 1, \"32\": 4, \"25\": 1, \"95\": 1, \"98\": 1, \"34\": 1, \"19\": 1}, \"2\": {\"2\": 22, \"120\": 1, \"90\": 2, \"117\": 3}, \"56\": {\"56\": 11, \"19\": 1}, \"24\": {\"24\": 37, \"108\": 2, \"27\": 7, \"30\": 2}, \"101\": {\"70\": 1, \"101\": 33, \"7\": 1, \"51\": 1, \"12\": 3, \"106\": 6, \"14\": 1, \"94\": 5, \"71\": 1}, \"52\": {\"52\": 11, \"56\": 1, \"65\": 1, \"37\": 1, \"58\": 1, \"83\": 1}, \"84\": {\"23\": 1, \"84\": 89, \"16\": 5, \"14\": 3, \"69\": 2, \"7\": 2, \"39\": 1, \"62\": 3, \"60\": 2}, \"7\": {\"7\": 106, \"39\": 1, \"109\": 1, \"87\": 1, \"12\": 1, \"15\": 2}, \"82\": {\"82\": 22, \"32\": 1, \"19\": 3, \"100\": 1, \"90\": 1}, \"60\": {\"60\": 21, \"62\": 5, \"16\": 1, \"84\": 1}, \"45\": {\"113\": 1, \"45\": 11, \"18\": 1, \"5\": 1, \"115\": 1, \"118\": 1}, \"40\": {\"114\": 7, \"40\": 93, \"127\": 4, \"12\": 2, \"105\": 2, \"14\": 2, \"107\": 3, \"3\": 9, \"74\": 1, \"1\": 1}, \"20\": {\"20\": 13, \"89\": 1, \"114\": 2}, \"4\": {\"4\": 96}, \"116\": {\"116\": 18, \"48\": 2, \"89\": 2, \"90\": 1, \"129\": 1, \"80\": 2, \"112\": 1, \"102\": 1}, \"61\": {\"61\": 16}, \"5\": {\"5\": 100, \"85\": 2, \"111\": 2, \"124\": 5, \"22\": 1, \"88\": 1, \"126\": 1}, \"106\": {\"106\": 94, \"127\": 2, \"88\": 1, \"12\": 2, \"101\": 1}, \"12\": {\"12\": 101, \"106\": 1, \"101\": 2}, \"62\": {\"62\": 111, \"60\": 2, \"110\": 2, \"16\": 3, \"11\": 1, \"7\": 1}, \"34\": {\"1\": 3, \"72\": 2, \"3\": 5, \"34\": 9, \"114\": 4, \"107\": 2, \"128\": 2, \"28\": 1, \"53\": 1, \"127\": 1, \"55\": 1, \"50\": 1}, \"91\": {\"91\": 19, \"42\": 1, \"50\": 2, \"98\": 2}, \"112\": {\"112\": 7, \"85\": 1, \"109\": 1, \"5\": 1, \"57\": 1, \"48\": 1, \"19\": 2, \"52\": 2}, \"92\": {\"92\": 30, \"120\": 2}, \"95\": {\"95\": 30, \"83\": 1, \"75\": 1}, \"96\": {\"96\": 20}, \"127\": {\"127\": 93, \"105\": 1, \"126\": 3, \"88\": 1, \"3\": 4, \"114\": 2, \"7\": 1, \"40\": 3}, \"67\": {\"67\": 15, \"36\": 1}, \"83\": {\"83\": 15, \"20\": 1, \"35\": 1, \"107\": 1, \"47\": 2, \"71\": 1, \"1\": 1, \"85\": 1, \"9\": 1}, \"21\": {\"78\": 2, \"21\": 28, \"11\": 1, \"106\": 1, \"88\": 4, \"109\": 1, \"126\": 2, \"111\": 1, \"43\": 2, \"18\": 1, \"87\": 1, \"35\": 1, \"65\": 1, \"70\": 2}, \"98\": {\"98\": 122, \"44\": 1, \"5\": 1}, \"108\": {\"108\": 116, \"24\": 4, \"87\": 4, \"8\": 2, \"27\": 4, \"36\": 2}, \"31\": {\"2\": 1, \"31\": 10, \"84\": 1, \"116\": 1, \"121\": 1, \"28\": 2, \"33\": 2, \"89\": 1, \"82\": 1}, \"118\": {\"118\": 95, \"11\": 3, \"43\": 1, \"87\": 1}, \"110\": {\"110\": 81, \"122\": 7, \"87\": 4}, \"73\": {\"19\": 1, \"73\": 30, \"85\": 1, \"128\": 1, \"105\": 1, \"34\": 2, \"42\": 1, \"41\": 2, \"55\": 1}, \"44\": {\"44\": 66, \"107\": 1, \"117\": 2, \"33\": 1, \"40\": 1, \"114\": 1}, \"37\": {\"37\": 12, \"111\": 1, \"6\": 1, \"45\": 1, \"66\": 1}, \"100\": {\"100\": 16}}}, \"per_domain_accuracy\": {\"ORACLE.run126\": {\"accuracy\": 0.878125, \"source?\": true}, \"ORACLE.run144\": {\"accuracy\": 0.8854166666666666, \"source?\": true}, \"ORACLE.run150\": {\"accuracy\": 0.9489583333333333, \"source?\": true}, \"ORACLE.run138\": {\"accuracy\": 0.9322916666666666, \"source?\": true}, \"ORACLE.run120\": {\"accuracy\": 0.9388020833333334, \"source?\": true}, \"ORACLE.run114\": {\"accuracy\": 0.9072916666666667, \"source?\": true}, \"ORACLE.run132\": {\"accuracy\": 0.9263020833333333, \"source?\": true}, \"ORACLE.run18\": {\"accuracy\": 0.9182291666666667, \"source?\": true}, \"Wisig_4\": {\"accuracy\": 0.7867798353909465, \"source?\": false}, \"Wisig_1\": {\"accuracy\": 0.8411016949152542, \"source?\": false}, \"Wisig_2\": {\"accuracy\": 0.8038702928870293, \"source?\": false}, \"Wisig_3\": {\"accuracy\": 0.8459334061135371, \"source?\": false}}}, \"history\": {\"epoch_indices\": [1, 2, 3, 4, 5, 6, 7], \"train_label_loss\": [0.39671367095960747, 1.2875113021839795, 0.23131725233383588, 0.19317884899875415, 0.17276111414962325, 0.15844839535715263, 0.1434845707688683], \"source_val_label_loss\": [110.65164947509766, 0.2644902765750885, 0.24880929291248322, 0.202468141913414, 0.17724691331386566, 0.1690153330564499, 0.14994041621685028], \"target_val_label_loss\": [10222.708984375, 1965.31103515625, 187.4622344970703, 970.9893188476562, 1082.7923583984375, 1566.6287841796875, 2657.485107421875], \"source_val_acc_label\": [0.6420247395833333, 0.91220703125, 0.9169270833333333, 0.9294921875, 0.9414713541666667, 0.9445963541666667, 0.9501302083333333], \"target_val_acc_label\": [0.7983764519535375, 0.4167106652587117, 0.8189347940865892, 0.7798640443505808, 0.7747822069693769, 0.7837909186906019, 0.7284516895459345]}, \"dataset_metrics\": {\"source\": {\"train\": {\"n_unique_x\": 179200, \"n_unique_y\": 16, \"n_batch/episode\": 6720}, \"val\": {\"n_unique_x\": 38400, \"n_unique_y\": 16, \"n_batch/episode\": 960}, \"test\": {\"n_unique_x\": 38400, \"n_unique_y\": 16, \"n_batch/episode\": 960}}, \"target\": {\"train\": {\"n_unique_x\": 189001, \"n_unique_y\": 130, \"n_batch/episode\": 6847}, \"val\": {\"n_unique_x\": 40070, \"n_unique_y\": 130, \"n_batch/episode\": 947}, \"test\": {\"n_unique_x\": 40812, \"n_unique_y\": 130, \"n_batch/episode\": 969}}}}'"
      ]
     },
     "execution_count": 29,
     "metadata": {},
     "output_type": "execute_result"
    }
   ],
   "source": [
    "json.dumps(experiment)"
   ]
  }
 ],
 "metadata": {
  "celltoolbar": "Tags",
  "kernelspec": {
   "display_name": "Python 3 (ipykernel)",
   "language": "python",
   "name": "python3"
  },
  "language_info": {
   "codemirror_mode": {
    "name": "ipython",
    "version": 3
   },
   "file_extension": ".py",
   "mimetype": "text/x-python",
   "name": "python",
   "nbconvert_exporter": "python",
   "pygments_lexer": "ipython3",
   "version": "3.8.12"
  },
  "papermill": {
   "default_parameters": {},
   "duration": 2142.414808,
   "end_time": "2022-03-21T16:51:32.470683",
   "environment_variables": {},
   "exception": null,
   "input_path": "/root/csc500-main/csc500-notebooks/templates/tl_ptn_template.ipynb",
   "output_path": "trial.ipynb",
   "parameters": {
    "parameters": {
     "BEST_MODEL_PATH": "./best_model.pth",
     "NUM_LOGS_PER_EPOCH": 10,
     "criteria_for_best": "target_accuracy",
     "dataset_seed": 7,
     "datasets": [
      {
       "domain_prefix": "Wisig_",
       "domains": [
        1,
        2,
        3,
        4
       ],
       "episode_transforms": [],
       "labels": [
        "1-10",
        "1-12",
        "1-14",
        "1-16",
        "1-18",
        "1-19",
        "1-8",
        "10-11",
        "10-17",
        "10-4",
        "10-7",
        "11-1",
        "11-10",
        "11-19",
        "11-20",
        "11-4",
        "11-7",
        "12-19",
        "12-20",
        "12-7",
        "13-14",
        "13-18",
        "13-19",
        "13-20",
        "13-3",
        "13-7",
        "14-10",
        "14-11",
        "14-12",
        "14-13",
        "14-14",
        "14-19",
        "14-20",
        "14-7",
        "14-8",
        "14-9",
        "15-1",
        "15-19",
        "15-6",
        "16-1",
        "16-16",
        "16-19",
        "16-20",
        "17-10",
        "17-11",
        "18-1",
        "18-10",
        "18-11",
        "18-12",
        "18-13",
        "18-14",
        "18-15",
        "18-16",
        "18-17",
        "18-19",
        "18-2",
        "18-20",
        "18-4",
        "18-5",
        "18-7",
        "18-8",
        "18-9",
        "19-1",
        "19-10",
        "19-11",
        "19-12",
        "19-13",
        "19-14",
        "19-15",
        "19-19",
        "19-2",
        "19-20",
        "19-3",
        "19-4",
        "19-6",
        "19-7",
        "19-8",
        "19-9",
        "2-1",
        "2-13",
        "2-15",
        "2-3",
        "2-4",
        "2-5",
        "2-6",
        "2-7",
        "2-8",
        "20-1",
        "20-12",
        "20-14",
        "20-15",
        "20-16",
        "20-18",
        "20-19",
        "20-20",
        "20-3",
        "20-4",
        "20-5",
        "20-7",
        "20-8",
        "3-1",
        "3-13",
        "3-18",
        "3-2",
        "3-8",
        "4-1",
        "4-10",
        "4-11",
        "5-1",
        "5-5",
        "6-1",
        "6-15",
        "6-6",
        "7-10",
        "7-11",
        "7-12",
        "7-13",
        "7-14",
        "7-7",
        "7-8",
        "7-9",
        "8-1",
        "8-13",
        "8-14",
        "8-18",
        "8-20",
        "8-3",
        "8-8",
        "9-1",
        "9-7"
       ],
       "num_examples_per_domain_per_label": -1,
       "pickle_path": "/root/csc500-main/datasets/wisig.node3-19.stratified_ds.2022A.pkl",
       "source_or_target_dataset": "target",
       "x_transforms": []
      },
      {
       "domain_prefix": "ORACLE.run1",
       "domains": [
        32,
        38,
        8,
        44,
        14,
        50,
        20,
        26
       ],
       "episode_transforms": [],
       "labels": [
        "3123D52",
        "3123D65",
        "3123D79",
        "3123D80",
        "3123D54",
        "3123D70",
        "3123D7B",
        "3123D89",
        "3123D58",
        "3123D76",
        "3123D7D",
        "3123EFE",
        "3123D64",
        "3123D78",
        "3123D7E",
        "3124E4A"
       ],
       "num_examples_per_domain_per_label": 2000,
       "pickle_path": "/root/csc500-main/datasets/oracle.Run1_framed_2000Examples_stratified_ds.2022A.pkl",
       "source_or_target_dataset": "source",
       "x_transforms": []
      }
     ],
     "device": "cuda",
     "experiment_name": "tl_1v2:wisig-oracle.run1.framed",
     "lr": 0.0001,
     "n_epoch": 50,
     "n_query": 2,
     "n_shot": 3,
     "n_way": 16,
     "patience": 3,
     "seed": 7,
     "test_k_factor": 2,
     "torch_default_dtype": "torch.float32",
     "train_k_factor": 3,
     "val_k_factor": 2,
     "x_net": [
      {
       "class": "nnReshape",
       "kargs": {
        "shape": [
         -1,
         1,
         2,
         256
        ]
       }
      },
      {
       "class": "Conv2d",
       "kargs": {
        "bias": false,
        "in_channels": 1,
        "kernel_size": [
         1,
         7
        ],
        "out_channels": 256,
        "padding": [
         0,
         3
        ]
       }
      },
      {
       "class": "ReLU",
       "kargs": {
        "inplace": true
       }
      },
      {
       "class": "BatchNorm2d",
       "kargs": {
        "num_features": 256
       }
      },
      {
       "class": "Conv2d",
       "kargs": {
        "bias": true,
        "in_channels": 256,
        "kernel_size": [
         2,
         7
        ],
        "out_channels": 80,
        "padding": [
         0,
         3
        ]
       }
      },
      {
       "class": "ReLU",
       "kargs": {
        "inplace": true
       }
      },
      {
       "class": "BatchNorm2d",
       "kargs": {
        "num_features": 80
       }
      },
      {
       "class": "Flatten",
       "kargs": {}
      },
      {
       "class": "Linear",
       "kargs": {
        "in_features": 20480,
        "out_features": 256
       }
      },
      {
       "class": "ReLU",
       "kargs": {
        "inplace": true
       }
      },
      {
       "class": "BatchNorm1d",
       "kargs": {
        "num_features": 256
       }
      },
      {
       "class": "Linear",
       "kargs": {
        "in_features": 256,
        "out_features": 256
       }
      }
     ]
    }
   },
   "start_time": "2022-03-21T16:15:50.055875",
   "version": "2.3.4"
  }
 },
 "nbformat": 4,
 "nbformat_minor": 5
}