{
 "cells": [
  {
   "cell_type": "markdown",
   "id": "9fea5f46",
   "metadata": {
    "papermill": {
     "duration": 0.02909,
     "end_time": "2022-03-21T10:29:37.623733",
     "exception": false,
     "start_time": "2022-03-21T10:29:37.594643",
     "status": "completed"
    },
    "tags": []
   },
   "source": [
    "# Transfer Learning Template"
   ]
  },
  {
   "cell_type": "code",
   "execution_count": 1,
   "id": "0902182a",
   "metadata": {
    "execution": {
     "iopub.execute_input": "2022-03-21T10:29:37.685372Z",
     "iopub.status.busy": "2022-03-21T10:29:37.684071Z",
     "iopub.status.idle": "2022-03-21T10:29:39.526150Z",
     "shell.execute_reply": "2022-03-21T10:29:39.525250Z"
    },
    "papermill": {
     "duration": 1.880211,
     "end_time": "2022-03-21T10:29:39.526359",
     "exception": false,
     "start_time": "2022-03-21T10:29:37.646148",
     "status": "completed"
    },
    "tags": []
   },
   "outputs": [],
   "source": [
    "%load_ext autoreload\n",
    "%autoreload 2\n",
    "%matplotlib inline\n",
    "\n",
    "    \n",
    "import os, json, sys, time, random\n",
    "import numpy as np\n",
    "import torch\n",
    "from torch.optim import Adam\n",
    "from  easydict import EasyDict\n",
    "import matplotlib.pyplot as plt\n",
    "\n",
    "from steves_models.steves_ptn import Steves_Prototypical_Network\n",
    "\n",
    "from steves_utils.lazy_iterable_wrapper import Lazy_Iterable_Wrapper\n",
    "from steves_utils.iterable_aggregator import Iterable_Aggregator\n",
    "from steves_utils.ptn_train_eval_test_jig import  PTN_Train_Eval_Test_Jig\n",
    "from steves_utils.torch_sequential_builder import build_sequential\n",
    "from steves_utils.torch_utils import get_dataset_metrics, ptn_confusion_by_domain_over_dataloader\n",
    "from steves_utils.utils_v2 import (per_domain_accuracy_from_confusion, get_datasets_base_path)\n",
    "from steves_utils.PTN.utils import independent_accuracy_assesment\n",
    "\n",
    "from torch.utils.data import DataLoader\n",
    "\n",
    "from steves_utils.stratified_dataset.episodic_accessor import Episodic_Accessor_Factory\n",
    "\n",
    "from steves_utils.ptn_do_report import (\n",
    "    get_loss_curve,\n",
    "    get_results_table,\n",
    "    get_parameters_table,\n",
    "    get_domain_accuracies,\n",
    ")\n",
    "\n",
    "from steves_utils.transforms import get_chained_transform"
   ]
  },
  {
   "cell_type": "markdown",
   "id": "41c840b4",
   "metadata": {
    "papermill": {
     "duration": 0.019774,
     "end_time": "2022-03-21T10:29:39.574175",
     "exception": false,
     "start_time": "2022-03-21T10:29:39.554401",
     "status": "completed"
    },
    "tags": []
   },
   "source": [
    "# Allowed Parameters\n",
    "These are allowed parameters, not defaults\n",
    "Each of these values need to be present in the injected parameters (the notebook will raise an exception if they are not present)\n",
    "\n",
    "Papermill uses the cell tag \"parameters\" to inject the real parameters below this cell.\n",
    "Enable tags to see what I mean"
   ]
  },
  {
   "cell_type": "code",
   "execution_count": 2,
   "id": "fd44eb83",
   "metadata": {
    "execution": {
     "iopub.execute_input": "2022-03-21T10:29:39.619075Z",
     "iopub.status.busy": "2022-03-21T10:29:39.618409Z",
     "iopub.status.idle": "2022-03-21T10:29:39.643051Z",
     "shell.execute_reply": "2022-03-21T10:29:39.642303Z"
    },
    "papermill": {
     "duration": 0.049533,
     "end_time": "2022-03-21T10:29:39.643232",
     "exception": false,
     "start_time": "2022-03-21T10:29:39.593699",
     "status": "completed"
    },
    "tags": []
   },
   "outputs": [],
   "source": [
    "required_parameters = {\n",
    "    \"experiment_name\",\n",
    "    \"lr\",\n",
    "    \"device\",\n",
    "    \"seed\",\n",
    "    \"dataset_seed\",\n",
    "    \"n_shot\",\n",
    "    \"n_query\",\n",
    "    \"n_way\",\n",
    "    \"train_k_factor\",\n",
    "    \"val_k_factor\",\n",
    "    \"test_k_factor\",\n",
    "    \"n_epoch\",\n",
    "    \"patience\",\n",
    "    \"criteria_for_best\",\n",
    "    \"x_net\",\n",
    "    \"datasets\",\n",
    "    \"torch_default_dtype\",\n",
    "    \"NUM_LOGS_PER_EPOCH\",\n",
    "    \"BEST_MODEL_PATH\",\n",
    "    \"x_shape\",\n",
    "}"
   ]
  },
  {
   "cell_type": "code",
   "execution_count": 3,
   "id": "fa3f0049",
   "metadata": {
    "execution": {
     "iopub.execute_input": "2022-03-21T10:29:39.704196Z",
     "iopub.status.busy": "2022-03-21T10:29:39.703553Z",
     "iopub.status.idle": "2022-03-21T10:29:39.726759Z",
     "shell.execute_reply": "2022-03-21T10:29:39.726021Z"
    },
    "papermill": {
     "duration": 0.058153,
     "end_time": "2022-03-21T10:29:39.726923",
     "exception": false,
     "start_time": "2022-03-21T10:29:39.668770",
     "status": "completed"
    },
    "tags": [
     "parameters"
    ]
   },
   "outputs": [],
   "source": [
    "from steves_utils.CORES.utils import (\n",
    "    ALL_NODES,\n",
    "    ALL_NODES_MINIMUM_1000_EXAMPLES,\n",
    "    ALL_DAYS\n",
    ")\n",
    "\n",
    "from steves_utils.ORACLE.utils_v2 import (\n",
    "    ALL_DISTANCES_FEET_NARROWED,\n",
    "    ALL_RUNS,\n",
    "    ALL_SERIAL_NUMBERS,\n",
    ")\n",
    "\n",
    "standalone_parameters = {}\n",
    "standalone_parameters[\"experiment_name\"] = \"STANDALONE PTN\"\n",
    "standalone_parameters[\"lr\"] = 0.001\n",
    "standalone_parameters[\"device\"] = \"cuda\"\n",
    "\n",
    "standalone_parameters[\"seed\"] = 1337\n",
    "standalone_parameters[\"dataset_seed\"] = 1337\n",
    "\n",
    "standalone_parameters[\"n_way\"] = 8\n",
    "standalone_parameters[\"n_shot\"] = 3\n",
    "standalone_parameters[\"n_query\"]  = 2\n",
    "standalone_parameters[\"train_k_factor\"] = 1\n",
    "standalone_parameters[\"val_k_factor\"] = 2\n",
    "standalone_parameters[\"test_k_factor\"] = 2\n",
    "\n",
    "\n",
    "standalone_parameters[\"n_epoch\"] = 50\n",
    "\n",
    "standalone_parameters[\"patience\"] = 10\n",
    "standalone_parameters[\"criteria_for_best\"] = \"source_loss\"\n",
    "\n",
    "standalone_parameters[\"datasets\"] = [\n",
    "    {\n",
    "        \"labels\": ALL_SERIAL_NUMBERS,\n",
    "        \"domains\": ALL_DISTANCES_FEET_NARROWED,\n",
    "        \"num_examples_per_domain_per_label\": 100,\n",
    "        \"pickle_path\": os.path.join(get_datasets_base_path(), \"oracle.Run1_framed_2000Examples_stratified_ds.2022A.pkl\"),\n",
    "        \"source_or_target_dataset\": \"source\",\n",
    "        \"x_transforms\": [\"unit_mag\", \"minus_two\"],\n",
    "        \"episode_transforms\": [],\n",
    "        \"domain_prefix\": \"ORACLE_\"\n",
    "    },\n",
    "    {\n",
    "        \"labels\": ALL_NODES,\n",
    "        \"domains\": ALL_DAYS,\n",
    "        \"num_examples_per_domain_per_label\": 100,\n",
    "        \"pickle_path\": os.path.join(get_datasets_base_path(), \"cores.stratified_ds.2022A.pkl\"),\n",
    "        \"source_or_target_dataset\": \"target\",\n",
    "        \"x_transforms\": [\"unit_power\", \"times_zero\"],\n",
    "        \"episode_transforms\": [],\n",
    "        \"domain_prefix\": \"CORES_\"\n",
    "    }   \n",
    "]\n",
    "\n",
    "standalone_parameters[\"torch_default_dtype\"] = \"torch.float32\" \n",
    "\n",
    "\n",
    "\n",
    "standalone_parameters[\"x_net\"] =     [\n",
    "    {\"class\": \"nnReshape\", \"kargs\": {\"shape\":[-1, 1, 2, 256]}},\n",
    "    {\"class\": \"Conv2d\", \"kargs\": { \"in_channels\":1, \"out_channels\":256, \"kernel_size\":(1,7), \"bias\":False, \"padding\":(0,3), },},\n",
    "    {\"class\": \"ReLU\", \"kargs\": {\"inplace\": True}},\n",
    "    {\"class\": \"BatchNorm2d\", \"kargs\": {\"num_features\":256}},\n",
    "\n",
    "    {\"class\": \"Conv2d\", \"kargs\": { \"in_channels\":256, \"out_channels\":80, \"kernel_size\":(2,7), \"bias\":True, \"padding\":(0,3), },},\n",
    "    {\"class\": \"ReLU\", \"kargs\": {\"inplace\": True}},\n",
    "    {\"class\": \"BatchNorm2d\", \"kargs\": {\"num_features\":80}},\n",
    "    {\"class\": \"Flatten\", \"kargs\": {}},\n",
    "\n",
    "    {\"class\": \"Linear\", \"kargs\": {\"in_features\": 80*256, \"out_features\": 256}}, # 80 units per IQ pair\n",
    "    {\"class\": \"ReLU\", \"kargs\": {\"inplace\": True}},\n",
    "    {\"class\": \"BatchNorm1d\", \"kargs\": {\"num_features\":256}},\n",
    "\n",
    "    {\"class\": \"Linear\", \"kargs\": {\"in_features\": 256, \"out_features\": 256}},\n",
    "]\n",
    "\n",
    "# Parameters relevant to results\n",
    "# These parameters will basically never need to change\n",
    "standalone_parameters[\"NUM_LOGS_PER_EPOCH\"] = 10\n",
    "standalone_parameters[\"BEST_MODEL_PATH\"] = \"./best_model.pth\"\n",
    "\n",
    "\n",
    "\n",
    "\n"
   ]
  },
  {
   "cell_type": "code",
   "execution_count": 4,
   "id": "043b6591",
   "metadata": {
    "execution": {
     "iopub.execute_input": "2022-03-21T10:29:39.791961Z",
     "iopub.status.busy": "2022-03-21T10:29:39.785060Z",
     "iopub.status.idle": "2022-03-21T10:29:39.814919Z",
     "shell.execute_reply": "2022-03-21T10:29:39.814089Z"
    },
    "papermill": {
     "duration": 0.062899,
     "end_time": "2022-03-21T10:29:39.815083",
     "exception": false,
     "start_time": "2022-03-21T10:29:39.752184",
     "status": "completed"
    },
    "tags": [
     "injected-parameters"
    ]
   },
   "outputs": [],
   "source": [
    "# Parameters\n",
    "parameters = {\n",
    "    \"experiment_name\": \"tl_1v2:wisig-oracle.run1.framed\",\n",
    "    \"device\": \"cuda\",\n",
    "    \"lr\": 0.0001,\n",
    "    \"n_shot\": 3,\n",
    "    \"n_query\": 2,\n",
    "    \"train_k_factor\": 3,\n",
    "    \"val_k_factor\": 2,\n",
    "    \"test_k_factor\": 2,\n",
    "    \"torch_default_dtype\": \"torch.float32\",\n",
    "    \"n_epoch\": 50,\n",
    "    \"patience\": 3,\n",
    "    \"criteria_for_best\": \"target_accuracy\",\n",
    "    \"x_net\": [\n",
    "        {\"class\": \"nnReshape\", \"kargs\": {\"shape\": [-1, 1, 2, 256]}},\n",
    "        {\n",
    "            \"class\": \"Conv2d\",\n",
    "            \"kargs\": {\n",
    "                \"in_channels\": 1,\n",
    "                \"out_channels\": 256,\n",
    "                \"kernel_size\": [1, 7],\n",
    "                \"bias\": False,\n",
    "                \"padding\": [0, 3],\n",
    "            },\n",
    "        },\n",
    "        {\"class\": \"ReLU\", \"kargs\": {\"inplace\": True}},\n",
    "        {\"class\": \"BatchNorm2d\", \"kargs\": {\"num_features\": 256}},\n",
    "        {\n",
    "            \"class\": \"Conv2d\",\n",
    "            \"kargs\": {\n",
    "                \"in_channels\": 256,\n",
    "                \"out_channels\": 80,\n",
    "                \"kernel_size\": [2, 7],\n",
    "                \"bias\": True,\n",
    "                \"padding\": [0, 3],\n",
    "            },\n",
    "        },\n",
    "        {\"class\": \"ReLU\", \"kargs\": {\"inplace\": True}},\n",
    "        {\"class\": \"BatchNorm2d\", \"kargs\": {\"num_features\": 80}},\n",
    "        {\"class\": \"Flatten\", \"kargs\": {}},\n",
    "        {\"class\": \"Linear\", \"kargs\": {\"in_features\": 20480, \"out_features\": 256}},\n",
    "        {\"class\": \"ReLU\", \"kargs\": {\"inplace\": True}},\n",
    "        {\"class\": \"BatchNorm1d\", \"kargs\": {\"num_features\": 256}},\n",
    "        {\"class\": \"Linear\", \"kargs\": {\"in_features\": 256, \"out_features\": 256}},\n",
    "    ],\n",
    "    \"NUM_LOGS_PER_EPOCH\": 10,\n",
    "    \"BEST_MODEL_PATH\": \"./best_model.pth\",\n",
    "    \"n_way\": 16,\n",
    "    \"datasets\": [\n",
    "        {\n",
    "            \"labels\": [\n",
    "                \"1-10\",\n",
    "                \"1-12\",\n",
    "                \"1-14\",\n",
    "                \"1-16\",\n",
    "                \"1-18\",\n",
    "                \"1-19\",\n",
    "                \"1-8\",\n",
    "                \"10-11\",\n",
    "                \"10-17\",\n",
    "                \"10-4\",\n",
    "                \"10-7\",\n",
    "                \"11-1\",\n",
    "                \"11-10\",\n",
    "                \"11-19\",\n",
    "                \"11-20\",\n",
    "                \"11-4\",\n",
    "                \"11-7\",\n",
    "                \"12-19\",\n",
    "                \"12-20\",\n",
    "                \"12-7\",\n",
    "                \"13-14\",\n",
    "                \"13-18\",\n",
    "                \"13-19\",\n",
    "                \"13-20\",\n",
    "                \"13-3\",\n",
    "                \"13-7\",\n",
    "                \"14-10\",\n",
    "                \"14-11\",\n",
    "                \"14-12\",\n",
    "                \"14-13\",\n",
    "                \"14-14\",\n",
    "                \"14-19\",\n",
    "                \"14-20\",\n",
    "                \"14-7\",\n",
    "                \"14-8\",\n",
    "                \"14-9\",\n",
    "                \"15-1\",\n",
    "                \"15-19\",\n",
    "                \"15-6\",\n",
    "                \"16-1\",\n",
    "                \"16-16\",\n",
    "                \"16-19\",\n",
    "                \"16-20\",\n",
    "                \"17-10\",\n",
    "                \"17-11\",\n",
    "                \"18-1\",\n",
    "                \"18-10\",\n",
    "                \"18-11\",\n",
    "                \"18-12\",\n",
    "                \"18-13\",\n",
    "                \"18-14\",\n",
    "                \"18-15\",\n",
    "                \"18-16\",\n",
    "                \"18-17\",\n",
    "                \"18-19\",\n",
    "                \"18-2\",\n",
    "                \"18-20\",\n",
    "                \"18-4\",\n",
    "                \"18-5\",\n",
    "                \"18-7\",\n",
    "                \"18-8\",\n",
    "                \"18-9\",\n",
    "                \"19-1\",\n",
    "                \"19-10\",\n",
    "                \"19-11\",\n",
    "                \"19-12\",\n",
    "                \"19-13\",\n",
    "                \"19-14\",\n",
    "                \"19-15\",\n",
    "                \"19-19\",\n",
    "                \"19-2\",\n",
    "                \"19-20\",\n",
    "                \"19-3\",\n",
    "                \"19-4\",\n",
    "                \"19-6\",\n",
    "                \"19-7\",\n",
    "                \"19-8\",\n",
    "                \"19-9\",\n",
    "                \"2-1\",\n",
    "                \"2-13\",\n",
    "                \"2-15\",\n",
    "                \"2-3\",\n",
    "                \"2-4\",\n",
    "                \"2-5\",\n",
    "                \"2-6\",\n",
    "                \"2-7\",\n",
    "                \"2-8\",\n",
    "                \"20-1\",\n",
    "                \"20-12\",\n",
    "                \"20-14\",\n",
    "                \"20-15\",\n",
    "                \"20-16\",\n",
    "                \"20-18\",\n",
    "                \"20-19\",\n",
    "                \"20-20\",\n",
    "                \"20-3\",\n",
    "                \"20-4\",\n",
    "                \"20-5\",\n",
    "                \"20-7\",\n",
    "                \"20-8\",\n",
    "                \"3-1\",\n",
    "                \"3-13\",\n",
    "                \"3-18\",\n",
    "                \"3-2\",\n",
    "                \"3-8\",\n",
    "                \"4-1\",\n",
    "                \"4-10\",\n",
    "                \"4-11\",\n",
    "                \"5-1\",\n",
    "                \"5-5\",\n",
    "                \"6-1\",\n",
    "                \"6-15\",\n",
    "                \"6-6\",\n",
    "                \"7-10\",\n",
    "                \"7-11\",\n",
    "                \"7-12\",\n",
    "                \"7-13\",\n",
    "                \"7-14\",\n",
    "                \"7-7\",\n",
    "                \"7-8\",\n",
    "                \"7-9\",\n",
    "                \"8-1\",\n",
    "                \"8-13\",\n",
    "                \"8-14\",\n",
    "                \"8-18\",\n",
    "                \"8-20\",\n",
    "                \"8-3\",\n",
    "                \"8-8\",\n",
    "                \"9-1\",\n",
    "                \"9-7\",\n",
    "            ],\n",
    "            \"domains\": [1, 2, 3, 4],\n",
    "            \"num_examples_per_domain_per_label\": -1,\n",
    "            \"pickle_path\": \"/root/csc500-main/datasets/wisig.node3-19.stratified_ds.2022A.pkl\",\n",
    "            \"source_or_target_dataset\": \"source\",\n",
    "            \"x_transforms\": [\"unit_power\"],\n",
    "            \"episode_transforms\": [],\n",
    "            \"domain_prefix\": \"Wisig_\",\n",
    "        },\n",
    "        {\n",
    "            \"labels\": [\n",
    "                \"3123D52\",\n",
    "                \"3123D65\",\n",
    "                \"3123D79\",\n",
    "                \"3123D80\",\n",
    "                \"3123D54\",\n",
    "                \"3123D70\",\n",
    "                \"3123D7B\",\n",
    "                \"3123D89\",\n",
    "                \"3123D58\",\n",
    "                \"3123D76\",\n",
    "                \"3123D7D\",\n",
    "                \"3123EFE\",\n",
    "                \"3123D64\",\n",
    "                \"3123D78\",\n",
    "                \"3123D7E\",\n",
    "                \"3124E4A\",\n",
    "            ],\n",
    "            \"domains\": [32, 38, 8, 44, 14, 50, 20, 26],\n",
    "            \"num_examples_per_domain_per_label\": 2000,\n",
    "            \"pickle_path\": \"/root/csc500-main/datasets/oracle.Run1_framed_2000Examples_stratified_ds.2022A.pkl\",\n",
    "            \"source_or_target_dataset\": \"target\",\n",
    "            \"x_transforms\": [\"unit_power\"],\n",
    "            \"episode_transforms\": [],\n",
    "            \"domain_prefix\": \"ORACLE.run1\",\n",
    "        },\n",
    "    ],\n",
    "    \"dataset_seed\": 154325,\n",
    "    \"seed\": 154325,\n",
    "}\n"
   ]
  },
  {
   "cell_type": "code",
   "execution_count": 5,
   "id": "8fa1cc33",
   "metadata": {
    "execution": {
     "iopub.execute_input": "2022-03-21T10:29:39.870219Z",
     "iopub.status.busy": "2022-03-21T10:29:39.869637Z",
     "iopub.status.idle": "2022-03-21T10:29:39.892352Z",
     "shell.execute_reply": "2022-03-21T10:29:39.891505Z"
    },
    "papermill": {
     "duration": 0.049446,
     "end_time": "2022-03-21T10:29:39.892528",
     "exception": false,
     "start_time": "2022-03-21T10:29:39.843082",
     "status": "completed"
    },
    "tags": []
   },
   "outputs": [],
   "source": [
    "# Set this to True if you want to run this template directly\n",
    "STANDALONE = False\n",
    "if STANDALONE:\n",
    "    print(\"parameters not injected, running with standalone_parameters\")\n",
    "    parameters = standalone_parameters\n",
    "\n",
    "if not 'parameters' in locals() and not 'parameters' in globals():\n",
    "    raise Exception(\"Parameter injection failed\")\n",
    "\n",
    "#Use an easy dict for all the parameters\n",
    "p = EasyDict(parameters)\n",
    "\n",
    "if \"x_shape\" not in p:\n",
    "    p.x_shape = [2,256] # Default to this if we dont supply x_shape\n",
    "\n",
    "\n",
    "supplied_keys = set(p.keys())\n",
    "\n",
    "if  supplied_keys != required_parameters:\n",
    "    print(\"Parameters are incorrect\")\n",
    "    if len(supplied_keys - required_parameters)>0: print(\"Shouldn't have:\", str(supplied_keys - required_parameters))\n",
    "    if len(required_parameters - supplied_keys)>0: print(\"Need to have:\", str(required_parameters - supplied_keys))\n",
    "    raise RuntimeError(\"Parameters are incorrect\")"
   ]
  },
  {
   "cell_type": "code",
   "execution_count": 6,
   "id": "3a028d58",
   "metadata": {
    "execution": {
     "iopub.execute_input": "2022-03-21T10:29:39.945632Z",
     "iopub.status.busy": "2022-03-21T10:29:39.945252Z",
     "iopub.status.idle": "2022-03-21T10:29:39.969893Z",
     "shell.execute_reply": "2022-03-21T10:29:39.969068Z"
    },
    "papermill": {
     "duration": 0.048871,
     "end_time": "2022-03-21T10:29:39.970057",
     "exception": false,
     "start_time": "2022-03-21T10:29:39.921186",
     "status": "completed"
    },
    "tags": []
   },
   "outputs": [],
   "source": [
    "###################################\n",
    "# Set the RNGs and make it all deterministic\n",
    "###################################\n",
    "np.random.seed(p.seed)\n",
    "random.seed(p.seed)\n",
    "torch.manual_seed(p.seed)\n",
    "\n",
    "torch.use_deterministic_algorithms(True) "
   ]
  },
  {
   "cell_type": "code",
   "execution_count": 7,
   "id": "b691acf6",
   "metadata": {
    "execution": {
     "iopub.execute_input": "2022-03-21T10:29:40.023331Z",
     "iopub.status.busy": "2022-03-21T10:29:40.022958Z",
     "iopub.status.idle": "2022-03-21T10:29:40.046444Z",
     "shell.execute_reply": "2022-03-21T10:29:40.045617Z"
    },
    "papermill": {
     "duration": 0.047956,
     "end_time": "2022-03-21T10:29:40.046612",
     "exception": false,
     "start_time": "2022-03-21T10:29:39.998656",
     "status": "completed"
    },
    "tags": []
   },
   "outputs": [],
   "source": [
    "###########################################\n",
    "# The stratified datasets honor this\n",
    "###########################################\n",
    "torch.set_default_dtype(eval(p.torch_default_dtype))"
   ]
  },
  {
   "cell_type": "code",
   "execution_count": 8,
   "id": "b5fba671",
   "metadata": {
    "execution": {
     "iopub.execute_input": "2022-03-21T10:29:40.099465Z",
     "iopub.status.busy": "2022-03-21T10:29:40.098733Z",
     "iopub.status.idle": "2022-03-21T10:29:40.153788Z",
     "shell.execute_reply": "2022-03-21T10:29:40.152964Z"
    },
    "papermill": {
     "duration": 0.079315,
     "end_time": "2022-03-21T10:29:40.153954",
     "exception": false,
     "start_time": "2022-03-21T10:29:40.074639",
     "status": "completed"
    },
    "tags": []
   },
   "outputs": [],
   "source": [
    "###################################\n",
    "# Build the network(s)\n",
    "# Note: It's critical to do this AFTER setting the RNG\n",
    "###################################\n",
    "x_net = build_sequential(p.x_net)"
   ]
  },
  {
   "cell_type": "code",
   "execution_count": 9,
   "id": "5d7e61cc",
   "metadata": {
    "execution": {
     "iopub.execute_input": "2022-03-21T10:29:40.208289Z",
     "iopub.status.busy": "2022-03-21T10:29:40.207708Z",
     "iopub.status.idle": "2022-03-21T10:29:40.231915Z",
     "shell.execute_reply": "2022-03-21T10:29:40.231068Z"
    },
    "papermill": {
     "duration": 0.049242,
     "end_time": "2022-03-21T10:29:40.232079",
     "exception": false,
     "start_time": "2022-03-21T10:29:40.182837",
     "status": "completed"
    },
    "tags": []
   },
   "outputs": [],
   "source": [
    "start_time_secs = time.time()"
   ]
  },
  {
   "cell_type": "code",
   "execution_count": 10,
   "id": "c6b67dfd",
   "metadata": {
    "execution": {
     "iopub.execute_input": "2022-03-21T10:29:40.283681Z",
     "iopub.status.busy": "2022-03-21T10:29:40.283298Z",
     "iopub.status.idle": "2022-03-21T10:29:40.306556Z",
     "shell.execute_reply": "2022-03-21T10:29:40.305834Z"
    },
    "papermill": {
     "duration": 0.047464,
     "end_time": "2022-03-21T10:29:40.306719",
     "exception": false,
     "start_time": "2022-03-21T10:29:40.259255",
     "status": "completed"
    },
    "tags": []
   },
   "outputs": [],
   "source": [
    "p.domains_source = []\n",
    "p.domains_target = []\n",
    "\n",
    "\n",
    "train_original_source = []\n",
    "val_original_source   = []\n",
    "test_original_source  = []\n",
    "\n",
    "train_original_target = []\n",
    "val_original_target   = []\n",
    "test_original_target  = []"
   ]
  },
  {
   "cell_type": "code",
   "execution_count": 11,
   "id": "e3d9c3d3",
   "metadata": {
    "execution": {
     "iopub.execute_input": "2022-03-21T10:29:40.359637Z",
     "iopub.status.busy": "2022-03-21T10:29:40.359250Z",
     "iopub.status.idle": "2022-03-21T10:29:40.382311Z",
     "shell.execute_reply": "2022-03-21T10:29:40.381493Z"
    },
    "papermill": {
     "duration": 0.047051,
     "end_time": "2022-03-21T10:29:40.382475",
     "exception": false,
     "start_time": "2022-03-21T10:29:40.335424",
     "status": "completed"
    },
    "tags": []
   },
   "outputs": [],
   "source": [
    "# global_x_transform_func = lambda x: normalize(x.to(torch.get_default_dtype()), \"unit_power\") # unit_power, unit_mag\n",
    "# global_x_transform_func = lambda x: normalize(x, \"unit_power\") # unit_power, unit_mag"
   ]
  },
  {
   "cell_type": "code",
   "execution_count": 12,
   "id": "acb78fd2",
   "metadata": {
    "execution": {
     "iopub.execute_input": "2022-03-21T10:29:40.437070Z",
     "iopub.status.busy": "2022-03-21T10:29:40.436479Z",
     "iopub.status.idle": "2022-03-21T10:29:40.457431Z",
     "shell.execute_reply": "2022-03-21T10:29:40.456709Z"
    },
    "papermill": {
     "duration": 0.048795,
     "end_time": "2022-03-21T10:29:40.457599",
     "exception": false,
     "start_time": "2022-03-21T10:29:40.408804",
     "status": "completed"
    },
    "tags": []
   },
   "outputs": [],
   "source": [
    "def add_dataset(\n",
    "    labels,\n",
    "    domains,\n",
    "    pickle_path,\n",
    "    x_transforms,\n",
    "    episode_transforms,\n",
    "    domain_prefix,\n",
    "    num_examples_per_domain_per_label,\n",
    "    source_or_target_dataset:str,\n",
    "    iterator_seed=p.seed,\n",
    "    dataset_seed=p.dataset_seed,\n",
    "    n_shot=p.n_shot,\n",
    "    n_way=p.n_way,\n",
    "    n_query=p.n_query,\n",
    "    train_val_test_k_factors=(p.train_k_factor,p.val_k_factor,p.test_k_factor),\n",
    "):\n",
    "   \n",
    "    if x_transforms == []: x_transform = None\n",
    "    else: x_transform = get_chained_transform(x_transforms)\n",
    "    \n",
    "    if episode_transforms == []: episode_transform = None\n",
    "    else: raise Exception(\"episode_transforms not implemented\")\n",
    "    \n",
    "    episode_transform = lambda tup, _prefix=domain_prefix: (_prefix + str(tup[0]), tup[1])\n",
    "\n",
    "\n",
    "    eaf = Episodic_Accessor_Factory(\n",
    "        labels=labels,\n",
    "        domains=domains,\n",
    "        num_examples_per_domain_per_label=num_examples_per_domain_per_label,\n",
    "        iterator_seed=iterator_seed,\n",
    "        dataset_seed=dataset_seed,\n",
    "        n_shot=n_shot,\n",
    "        n_way=n_way,\n",
    "        n_query=n_query,\n",
    "        train_val_test_k_factors=train_val_test_k_factors,\n",
    "        pickle_path=pickle_path,\n",
    "        x_transform_func=x_transform,\n",
    "    )\n",
    "\n",
    "    train, val, test = eaf.get_train(), eaf.get_val(), eaf.get_test()\n",
    "    train = Lazy_Iterable_Wrapper(train, episode_transform)\n",
    "    val = Lazy_Iterable_Wrapper(val, episode_transform)\n",
    "    test = Lazy_Iterable_Wrapper(test, episode_transform)\n",
    "\n",
    "    if source_or_target_dataset==\"source\":\n",
    "        train_original_source.append(train)\n",
    "        val_original_source.append(val)\n",
    "        test_original_source.append(test)\n",
    "\n",
    "        p.domains_source.extend(\n",
    "            [domain_prefix + str(u) for u in domains]\n",
    "        )\n",
    "    elif source_or_target_dataset==\"target\":\n",
    "        train_original_target.append(train)\n",
    "        val_original_target.append(val)\n",
    "        test_original_target.append(test)\n",
    "        p.domains_target.extend(\n",
    "            [domain_prefix + str(u) for u in domains]\n",
    "        )\n",
    "    else:\n",
    "        raise Exception(f\"invalid source_or_target_dataset: {source_or_target_dataset}\")\n",
    "    "
   ]
  },
  {
   "cell_type": "code",
   "execution_count": 13,
   "id": "fe266617",
   "metadata": {
    "execution": {
     "iopub.execute_input": "2022-03-21T10:29:40.508416Z",
     "iopub.status.busy": "2022-03-21T10:29:40.508045Z",
     "iopub.status.idle": "2022-03-21T10:30:24.662497Z",
     "shell.execute_reply": "2022-03-21T10:30:24.661318Z"
    },
    "papermill": {
     "duration": 44.178043,
     "end_time": "2022-03-21T10:30:24.662784",
     "exception": false,
     "start_time": "2022-03-21T10:29:40.484741",
     "status": "completed"
    },
    "tags": []
   },
   "outputs": [],
   "source": [
    "for ds in p.datasets:\n",
    "    add_dataset(**ds)"
   ]
  },
  {
   "cell_type": "code",
   "execution_count": 14,
   "id": "b90d65ac",
   "metadata": {
    "execution": {
     "iopub.execute_input": "2022-03-21T10:30:24.713347Z",
     "iopub.status.busy": "2022-03-21T10:30:24.712484Z",
     "iopub.status.idle": "2022-03-21T10:30:24.733394Z",
     "shell.execute_reply": "2022-03-21T10:30:24.732655Z"
    },
    "papermill": {
     "duration": 0.045676,
     "end_time": "2022-03-21T10:30:24.733558",
     "exception": false,
     "start_time": "2022-03-21T10:30:24.687882",
     "status": "completed"
    },
    "tags": []
   },
   "outputs": [],
   "source": [
    "# from steves_utils.CORES.utils import (\n",
    "#     ALL_NODES,\n",
    "#     ALL_NODES_MINIMUM_1000_EXAMPLES,\n",
    "#     ALL_DAYS\n",
    "# )\n",
    "\n",
    "# add_dataset(\n",
    "#     labels=ALL_NODES,\n",
    "#     domains = ALL_DAYS,\n",
    "#     num_examples_per_domain_per_label=100,\n",
    "#     pickle_path=os.path.join(get_datasets_base_path(), \"cores.stratified_ds.2022A.pkl\"),\n",
    "#     source_or_target_dataset=\"target\",\n",
    "#     x_transform_func=global_x_transform_func,\n",
    "#     domain_modifier=lambda u: f\"cores_{u}\"\n",
    "# )"
   ]
  },
  {
   "cell_type": "code",
   "execution_count": 15,
   "id": "76db484d",
   "metadata": {
    "execution": {
     "iopub.execute_input": "2022-03-21T10:30:24.786965Z",
     "iopub.status.busy": "2022-03-21T10:30:24.786579Z",
     "iopub.status.idle": "2022-03-21T10:30:24.808460Z",
     "shell.execute_reply": "2022-03-21T10:30:24.809145Z"
    },
    "papermill": {
     "duration": 0.046802,
     "end_time": "2022-03-21T10:30:24.809331",
     "exception": false,
     "start_time": "2022-03-21T10:30:24.762529",
     "status": "completed"
    },
    "tags": []
   },
   "outputs": [],
   "source": [
    "# from steves_utils.ORACLE.utils_v2 import (\n",
    "#     ALL_DISTANCES_FEET,\n",
    "#     ALL_RUNS,\n",
    "#     ALL_SERIAL_NUMBERS,\n",
    "# )\n",
    "\n",
    "\n",
    "# add_dataset(\n",
    "#     labels=ALL_SERIAL_NUMBERS,\n",
    "#     domains = list(set(ALL_DISTANCES_FEET) - {2,62}),\n",
    "#     num_examples_per_domain_per_label=100,\n",
    "#     pickle_path=os.path.join(get_datasets_base_path(), \"oracle.Run2_framed_2000Examples_stratified_ds.2022A.pkl\"),\n",
    "#     source_or_target_dataset=\"source\",\n",
    "#     x_transform_func=global_x_transform_func,\n",
    "#     domain_modifier=lambda u: f\"oracle1_{u}\"\n",
    "# )\n"
   ]
  },
  {
   "cell_type": "code",
   "execution_count": 16,
   "id": "97dea9d2",
   "metadata": {
    "execution": {
     "iopub.execute_input": "2022-03-21T10:30:24.861600Z",
     "iopub.status.busy": "2022-03-21T10:30:24.861025Z",
     "iopub.status.idle": "2022-03-21T10:30:24.881944Z",
     "shell.execute_reply": "2022-03-21T10:30:24.881225Z"
    },
    "papermill": {
     "duration": 0.045522,
     "end_time": "2022-03-21T10:30:24.882101",
     "exception": false,
     "start_time": "2022-03-21T10:30:24.836579",
     "status": "completed"
    },
    "tags": []
   },
   "outputs": [],
   "source": [
    "# from steves_utils.ORACLE.utils_v2 import (\n",
    "#     ALL_DISTANCES_FEET,\n",
    "#     ALL_RUNS,\n",
    "#     ALL_SERIAL_NUMBERS,\n",
    "# )\n",
    "\n",
    "\n",
    "# add_dataset(\n",
    "#     labels=ALL_SERIAL_NUMBERS,\n",
    "#     domains = list(set(ALL_DISTANCES_FEET) - {2,62,56}),\n",
    "#     num_examples_per_domain_per_label=100,\n",
    "#     pickle_path=os.path.join(get_datasets_base_path(), \"oracle.Run2_framed_2000Examples_stratified_ds.2022A.pkl\"),\n",
    "#     source_or_target_dataset=\"source\",\n",
    "#     x_transform_func=global_x_transform_func,\n",
    "#     domain_modifier=lambda u: f\"oracle2_{u}\"\n",
    "# )"
   ]
  },
  {
   "cell_type": "code",
   "execution_count": 17,
   "id": "6f289866",
   "metadata": {
    "execution": {
     "iopub.execute_input": "2022-03-21T10:30:24.933127Z",
     "iopub.status.busy": "2022-03-21T10:30:24.932750Z",
     "iopub.status.idle": "2022-03-21T10:30:24.953668Z",
     "shell.execute_reply": "2022-03-21T10:30:24.952948Z"
    },
    "papermill": {
     "duration": 0.045018,
     "end_time": "2022-03-21T10:30:24.953828",
     "exception": false,
     "start_time": "2022-03-21T10:30:24.908810",
     "status": "completed"
    },
    "tags": []
   },
   "outputs": [],
   "source": [
    "# add_dataset(\n",
    "#     labels=list(range(19)),\n",
    "#     domains = [0,1,2],\n",
    "#     num_examples_per_domain_per_label=100,\n",
    "#     pickle_path=os.path.join(get_datasets_base_path(), \"metehan.stratified_ds.2022A.pkl\"),\n",
    "#     source_or_target_dataset=\"target\",\n",
    "#     x_transform_func=global_x_transform_func,\n",
    "#     domain_modifier=lambda u: f\"met_{u}\"\n",
    "# )"
   ]
  },
  {
   "cell_type": "code",
   "execution_count": 18,
   "id": "86a863c3",
   "metadata": {
    "execution": {
     "iopub.execute_input": "2022-03-21T10:30:25.005470Z",
     "iopub.status.busy": "2022-03-21T10:30:25.005093Z",
     "iopub.status.idle": "2022-03-21T10:30:25.021873Z",
     "shell.execute_reply": "2022-03-21T10:30:25.021154Z"
    },
    "papermill": {
     "duration": 0.041066,
     "end_time": "2022-03-21T10:30:25.022032",
     "exception": false,
     "start_time": "2022-03-21T10:30:24.980966",
     "status": "completed"
    },
    "tags": []
   },
   "outputs": [],
   "source": [
    "# # from steves_utils.wisig.utils import (\n",
    "# #     ALL_NODES_MINIMUM_100_EXAMPLES,\n",
    "# #     ALL_NODES_MINIMUM_500_EXAMPLES,\n",
    "# #     ALL_NODES_MINIMUM_1000_EXAMPLES,\n",
    "# #     ALL_DAYS\n",
    "# # )\n",
    "\n",
    "# import steves_utils.wisig.utils as wisig\n",
    "\n",
    "\n",
    "# add_dataset(\n",
    "#     labels=wisig.ALL_NODES_MINIMUM_100_EXAMPLES,\n",
    "#     domains = wisig.ALL_DAYS,\n",
    "#     num_examples_per_domain_per_label=100,\n",
    "#     pickle_path=os.path.join(get_datasets_base_path(), \"wisig.node3-19.stratified_ds.2022A.pkl\"),\n",
    "#     source_or_target_dataset=\"target\",\n",
    "#     x_transform_func=global_x_transform_func,\n",
    "#     domain_modifier=lambda u: f\"wisig_{u}\"\n",
    "# )"
   ]
  },
  {
   "cell_type": "code",
   "execution_count": 19,
   "id": "fd5442bc",
   "metadata": {
    "execution": {
     "iopub.execute_input": "2022-03-21T10:30:25.078919Z",
     "iopub.status.busy": "2022-03-21T10:30:25.078336Z",
     "iopub.status.idle": "2022-03-21T10:30:25.096945Z",
     "shell.execute_reply": "2022-03-21T10:30:25.097624Z"
    },
    "papermill": {
     "duration": 0.048727,
     "end_time": "2022-03-21T10:30:25.097808",
     "exception": false,
     "start_time": "2022-03-21T10:30:25.049081",
     "status": "completed"
    },
    "tags": []
   },
   "outputs": [],
   "source": [
    "###################################\n",
    "# Build the dataset\n",
    "###################################\n",
    "train_original_source = Iterable_Aggregator(train_original_source, p.seed)\n",
    "val_original_source = Iterable_Aggregator(val_original_source, p.seed)\n",
    "test_original_source = Iterable_Aggregator(test_original_source, p.seed)\n",
    "\n",
    "\n",
    "train_original_target = Iterable_Aggregator(train_original_target, p.seed)\n",
    "val_original_target = Iterable_Aggregator(val_original_target, p.seed)\n",
    "test_original_target = Iterable_Aggregator(test_original_target, p.seed)\n",
    "\n",
    "# For CNN We only use X and Y. And we only train on the source.\n",
    "# Properly form the data using a transform lambda and Lazy_Iterable_Wrapper. Finally wrap them in a dataloader\n",
    "\n",
    "transform_lambda = lambda ex: ex[1] # Original is (<domain>, <episode>) so we strip down to episode only\n",
    "\n",
    "train_processed_source = Lazy_Iterable_Wrapper(train_original_source, transform_lambda)\n",
    "val_processed_source   = Lazy_Iterable_Wrapper(val_original_source, transform_lambda)\n",
    "test_processed_source  = Lazy_Iterable_Wrapper(test_original_source, transform_lambda)\n",
    "\n",
    "train_processed_target = Lazy_Iterable_Wrapper(train_original_target, transform_lambda)\n",
    "val_processed_target   = Lazy_Iterable_Wrapper(val_original_target, transform_lambda)\n",
    "test_processed_target  = Lazy_Iterable_Wrapper(test_original_target, transform_lambda)\n",
    "\n",
    "datasets = EasyDict({\n",
    "    \"source\": {\n",
    "        \"original\": {\"train\":train_original_source, \"val\":val_original_source, \"test\":test_original_source},\n",
    "        \"processed\": {\"train\":train_processed_source, \"val\":val_processed_source, \"test\":test_processed_source}\n",
    "    },\n",
    "    \"target\": {\n",
    "        \"original\": {\"train\":train_original_target, \"val\":val_original_target, \"test\":test_original_target},\n",
    "        \"processed\": {\"train\":train_processed_target, \"val\":val_processed_target, \"test\":test_processed_target}\n",
    "    },\n",
    "})"
   ]
  },
  {
   "cell_type": "code",
   "execution_count": 20,
   "id": "5b3c01fc",
   "metadata": {
    "execution": {
     "iopub.execute_input": "2022-03-21T10:30:25.150066Z",
     "iopub.status.busy": "2022-03-21T10:30:25.149686Z",
     "iopub.status.idle": "2022-03-21T10:30:41.345620Z",
     "shell.execute_reply": "2022-03-21T10:30:41.346851Z"
    },
    "papermill": {
     "duration": 16.222389,
     "end_time": "2022-03-21T10:30:41.347164",
     "exception": false,
     "start_time": "2022-03-21T10:30:25.124775",
     "status": "completed"
    },
    "tags": []
   },
   "outputs": [
    {
     "name": "stdout",
     "output_type": "stream",
     "text": [
      "{'Wisig_2', 'Wisig_4', 'Wisig_3', 'Wisig_1'}\n"
     ]
    },
    {
     "name": "stdout",
     "output_type": "stream",
     "text": [
      "{'ORACLE.run18', 'ORACLE.run120', 'ORACLE.run138', 'ORACLE.run132', 'ORACLE.run144', 'ORACLE.run114', 'ORACLE.run126', 'ORACLE.run150'}\n"
     ]
    },
    {
     "name": "stdout",
     "output_type": "stream",
     "text": [
      "tensor([[[-0.1343, -0.3880, -1.0370,  ..., -0.9401, -0.8124,  0.0391],\n",
      "         [-0.0121,  0.8889,  0.8102,  ...,  0.7166, -0.3066, -0.4959]],\n",
      "\n",
      "        [[ 0.6982,  0.3944, -0.1245,  ...,  0.2967,  0.0851, -0.6944],\n",
      "         [-0.2860,  0.1054, -0.1087,  ..., -0.5069,  0.0925,  0.0257]],\n",
      "\n",
      "        [[ 0.3453,  0.9361,  1.0282,  ...,  0.4697, -0.4883, -0.1518],\n",
      "         [ 0.3234,  0.0504,  0.2954,  ...,  0.8237,  0.4653,  0.1025]],\n",
      "\n",
      "        ...,\n",
      "\n",
      "        [[ 0.7182, -1.1725, -1.0634,  ...,  0.4047, -0.4240, -0.7154],\n",
      "         [ 0.3508,  0.5828, -0.9640,  ...,  0.3397, -0.0884, -0.9764]],\n",
      "\n",
      "        [[ 0.3096,  0.6632, -0.9032,  ..., -0.2272,  0.3607, -0.6945],\n",
      "         [-0.6845,  0.4985,  0.9529,  ..., -0.1605,  0.2684,  0.3849]],\n",
      "\n",
      "        [[-0.3125,  0.6663,  0.4290,  ..., -0.1989,  0.2344,  0.1492],\n",
      "         [-0.3381, -0.6109,  0.9916,  ...,  0.2529, -0.2216,  0.5569]]])\n"
     ]
    }
   ],
   "source": [
    "from steves_utils.transforms import get_average_magnitude, get_average_power\n",
    "\n",
    "print(set([u for u,_ in val_original_source]))\n",
    "print(set([u for u,_ in val_original_target]))\n",
    "\n",
    "s_x, s_y, q_x, q_y, _ = next(iter(train_processed_source))\n",
    "print(s_x)\n",
    "\n",
    "# for ds in [\n",
    "#     train_processed_source,\n",
    "#     val_processed_source,\n",
    "#     test_processed_source,\n",
    "#     train_processed_target,\n",
    "#     val_processed_target,\n",
    "#     test_processed_target\n",
    "# ]:\n",
    "#     for s_x, s_y, q_x, q_y, _ in ds:\n",
    "#         for X in (s_x, q_x):\n",
    "#             for x in X:\n",
    "#                 assert np.isclose(get_average_magnitude(x.numpy()), 1.0)\n",
    "#                 assert np.isclose(get_average_power(x.numpy()), 1.0)\n",
    "                "
   ]
  },
  {
   "cell_type": "code",
   "execution_count": 21,
   "id": "bbdacba1",
   "metadata": {
    "execution": {
     "iopub.execute_input": "2022-03-21T10:30:41.405517Z",
     "iopub.status.busy": "2022-03-21T10:30:41.404850Z",
     "iopub.status.idle": "2022-03-21T10:30:41.682061Z",
     "shell.execute_reply": "2022-03-21T10:30:41.682735Z"
    },
    "papermill": {
     "duration": 0.30606,
     "end_time": "2022-03-21T10:30:41.682991",
     "exception": false,
     "start_time": "2022-03-21T10:30:41.376931",
     "status": "completed"
    },
    "tags": []
   },
   "outputs": [
    {
     "name": "stdout",
     "output_type": "stream",
     "text": [
      "(2, 256)\n"
     ]
    }
   ],
   "source": [
    "###################################\n",
    "# Build the model\n",
    "###################################\n",
    "# easfsl only wants a tuple for the shape\n",
    "model = Steves_Prototypical_Network(x_net, device=p.device, x_shape=tuple(p.x_shape))\n",
    "optimizer = Adam(params=model.parameters(), lr=p.lr)"
   ]
  },
  {
   "cell_type": "code",
   "execution_count": 22,
   "id": "22b39ac5",
   "metadata": {
    "execution": {
     "iopub.execute_input": "2022-03-21T10:30:41.739500Z",
     "iopub.status.busy": "2022-03-21T10:30:41.739097Z",
     "iopub.status.idle": "2022-03-21T10:52:05.919547Z",
     "shell.execute_reply": "2022-03-21T10:52:05.919184Z"
    },
    "papermill": {
     "duration": 1284.20691,
     "end_time": "2022-03-21T10:52:05.919635",
     "exception": false,
     "start_time": "2022-03-21T10:30:41.712725",
     "status": "completed"
    },
    "tags": []
   },
   "outputs": [
    {
     "name": "stdout",
     "output_type": "stream",
     "text": [
      "epoch: 1, [batch: 1 / 6847], examples_per_second: 30.6091, train_label_loss: 2.5967, \n"
     ]
    },
    {
     "name": "stdout",
     "output_type": "stream",
     "text": [
      "epoch: 1, [batch: 685 / 6847], examples_per_second: 2480.9176, train_label_loss: 0.3631, \n"
     ]
    },
    {
     "name": "stdout",
     "output_type": "stream",
     "text": [
      "epoch: 1, [batch: 1370 / 6847], examples_per_second: 2491.0645, train_label_loss: 0.3811, \n"
     ]
    },
    {
     "name": "stdout",
     "output_type": "stream",
     "text": [
      "epoch: 1, [batch: 2054 / 6847], examples_per_second: 2563.4875, train_label_loss: 0.0048, \n"
     ]
    },
    {
     "name": "stdout",
     "output_type": "stream",
     "text": [
      "epoch: 1, [batch: 2739 / 6847], examples_per_second: 2566.1785, train_label_loss: 0.2137, \n"
     ]
    },
    {
     "name": "stdout",
     "output_type": "stream",
     "text": [
      "epoch: 1, [batch: 3424 / 6847], examples_per_second: 2869.1202, train_label_loss: 0.3665, \n"
     ]
    },
    {
     "name": "stdout",
     "output_type": "stream",
     "text": [
      "epoch: 1, [batch: 4108 / 6847], examples_per_second: 3184.5917, train_label_loss: 0.1804, \n"
     ]
    },
    {
     "name": "stdout",
     "output_type": "stream",
     "text": [
      "epoch: 1, [batch: 4793 / 6847], examples_per_second: 3552.6640, train_label_loss: 0.3146, \n"
     ]
    },
    {
     "name": "stdout",
     "output_type": "stream",
     "text": [
      "epoch: 1, [batch: 5477 / 6847], examples_per_second: 3227.5858, train_label_loss: 0.0114, \n"
     ]
    },
    {
     "name": "stdout",
     "output_type": "stream",
     "text": [
      "epoch: 1, [batch: 6162 / 6847], examples_per_second: 2304.7100, train_label_loss: 0.1523, \n"
     ]
    },
    {
     "name": "stdout",
     "output_type": "stream",
     "text": [
      "=============================================================\n",
      "epoch: 1, source_val_acc_label: 0.9632, target_val_acc_label: 0.2034, source_val_label_loss: 0.1584, target_val_label_loss: 2.4970, \n",
      "=============================================================\n"
     ]
    },
    {
     "name": "stdout",
     "output_type": "stream",
     "text": [
      "New best\n"
     ]
    },
    {
     "name": "stdout",
     "output_type": "stream",
     "text": [
      "epoch: 2, [batch: 1 / 6848], examples_per_second: 2.0112, train_label_loss: 0.2316, \n"
     ]
    },
    {
     "name": "stdout",
     "output_type": "stream",
     "text": [
      "epoch: 2, [batch: 685 / 6848], examples_per_second: 2313.0217, train_label_loss: 0.0044, \n"
     ]
    },
    {
     "name": "stdout",
     "output_type": "stream",
     "text": [
      "epoch: 2, [batch: 1370 / 6848], examples_per_second: 2321.6321, train_label_loss: 0.0626, \n"
     ]
    },
    {
     "name": "stdout",
     "output_type": "stream",
     "text": [
      "epoch: 2, [batch: 2055 / 6848], examples_per_second: 2339.3628, train_label_loss: 0.0133, \n"
     ]
    },
    {
     "name": "stdout",
     "output_type": "stream",
     "text": [
      "epoch: 2, [batch: 2739 / 6848], examples_per_second: 2393.1611, train_label_loss: 0.3277, \n"
     ]
    },
    {
     "name": "stdout",
     "output_type": "stream",
     "text": [
      "epoch: 2, [batch: 3424 / 6848], examples_per_second: 2876.5519, train_label_loss: 0.1048, \n"
     ]
    },
    {
     "name": "stdout",
     "output_type": "stream",
     "text": [
      "epoch: 2, [batch: 4109 / 6848], examples_per_second: 2961.6262, train_label_loss: 0.0181, \n"
     ]
    },
    {
     "name": "stdout",
     "output_type": "stream",
     "text": [
      "epoch: 2, [batch: 4793 / 6848], examples_per_second: 2824.8038, train_label_loss: 0.3860, \n"
     ]
    },
    {
     "name": "stdout",
     "output_type": "stream",
     "text": [
      "epoch: 2, [batch: 5478 / 6848], examples_per_second: 2306.1448, train_label_loss: 0.0214, \n"
     ]
    },
    {
     "name": "stdout",
     "output_type": "stream",
     "text": [
      "epoch: 2, [batch: 6163 / 6848], examples_per_second: 2310.4009, train_label_loss: 0.0581, \n"
     ]
    },
    {
     "name": "stdout",
     "output_type": "stream",
     "text": [
      "=============================================================\n",
      "epoch: 2, source_val_acc_label: 0.9709, target_val_acc_label: 0.1525, source_val_label_loss: 0.1228, target_val_label_loss: 2.6396, \n",
      "=============================================================\n"
     ]
    },
    {
     "name": "stdout",
     "output_type": "stream",
     "text": [
      "epoch: 3, [batch: 1 / 6841], examples_per_second: 1.9938, train_label_loss: 0.0908, \n"
     ]
    },
    {
     "name": "stdout",
     "output_type": "stream",
     "text": [
      "epoch: 3, [batch: 685 / 6841], examples_per_second: 2270.4859, train_label_loss: 0.0150, \n"
     ]
    },
    {
     "name": "stdout",
     "output_type": "stream",
     "text": [
      "epoch: 3, [batch: 1369 / 6841], examples_per_second: 2302.7919, train_label_loss: 0.3378, \n"
     ]
    },
    {
     "name": "stdout",
     "output_type": "stream",
     "text": [
      "epoch: 3, [batch: 2053 / 6841], examples_per_second: 2294.1889, train_label_loss: 0.0312, \n"
     ]
    },
    {
     "name": "stdout",
     "output_type": "stream",
     "text": [
      "epoch: 3, [batch: 2737 / 6841], examples_per_second: 2672.2809, train_label_loss: 0.0126, \n"
     ]
    },
    {
     "name": "stdout",
     "output_type": "stream",
     "text": [
      "epoch: 3, [batch: 3421 / 6841], examples_per_second: 2948.5446, train_label_loss: 0.8956, \n"
     ]
    },
    {
     "name": "stdout",
     "output_type": "stream",
     "text": [
      "epoch: 3, [batch: 4105 / 6841], examples_per_second: 3001.8216, train_label_loss: 0.0106, \n"
     ]
    },
    {
     "name": "stdout",
     "output_type": "stream",
     "text": [
      "epoch: 3, [batch: 4789 / 6841], examples_per_second: 2724.9569, train_label_loss: 0.2662, \n"
     ]
    },
    {
     "name": "stdout",
     "output_type": "stream",
     "text": [
      "epoch: 3, [batch: 5473 / 6841], examples_per_second: 2592.2892, train_label_loss: 0.2170, \n"
     ]
    },
    {
     "name": "stdout",
     "output_type": "stream",
     "text": [
      "epoch: 3, [batch: 6157 / 6841], examples_per_second: 2572.9662, train_label_loss: 0.0570, \n"
     ]
    },
    {
     "name": "stdout",
     "output_type": "stream",
     "text": [
      "=============================================================\n",
      "epoch: 3, source_val_acc_label: 0.9743, target_val_acc_label: 0.1389, source_val_label_loss: 0.1103, target_val_label_loss: 2.6729, \n",
      "=============================================================\n"
     ]
    },
    {
     "name": "stdout",
     "output_type": "stream",
     "text": [
      "epoch: 4, [batch: 1 / 6852], examples_per_second: 2.2401, train_label_loss: 0.1773, \n"
     ]
    },
    {
     "name": "stdout",
     "output_type": "stream",
     "text": [
      "epoch: 4, [batch: 686 / 6852], examples_per_second: 2535.8681, train_label_loss: 0.2206, \n"
     ]
    },
    {
     "name": "stdout",
     "output_type": "stream",
     "text": [
      "epoch: 4, [batch: 1371 / 6852], examples_per_second: 2889.7827, train_label_loss: 0.1906, \n"
     ]
    },
    {
     "name": "stdout",
     "output_type": "stream",
     "text": [
      "epoch: 4, [batch: 2056 / 6852], examples_per_second: 3013.0122, train_label_loss: 0.0035, \n"
     ]
    },
    {
     "name": "stdout",
     "output_type": "stream",
     "text": [
      "epoch: 4, [batch: 2741 / 6852], examples_per_second: 3327.4058, train_label_loss: 0.0507, \n"
     ]
    },
    {
     "name": "stdout",
     "output_type": "stream",
     "text": [
      "epoch: 4, [batch: 3426 / 6852], examples_per_second: 3450.5743, train_label_loss: 0.0010, \n"
     ]
    },
    {
     "name": "stdout",
     "output_type": "stream",
     "text": [
      "epoch: 4, [batch: 4111 / 6852], examples_per_second: 3450.8642, train_label_loss: 0.0069, \n"
     ]
    },
    {
     "name": "stdout",
     "output_type": "stream",
     "text": [
      "epoch: 4, [batch: 4796 / 6852], examples_per_second: 2954.4409, train_label_loss: 0.0647, \n"
     ]
    },
    {
     "name": "stdout",
     "output_type": "stream",
     "text": [
      "epoch: 4, [batch: 5481 / 6852], examples_per_second: 3039.6656, train_label_loss: 0.0585, \n"
     ]
    },
    {
     "name": "stdout",
     "output_type": "stream",
     "text": [
      "epoch: 4, [batch: 6166 / 6852], examples_per_second: 2978.9432, train_label_loss: 0.1393, \n"
     ]
    },
    {
     "name": "stdout",
     "output_type": "stream",
     "text": [
      "=============================================================\n",
      "epoch: 4, source_val_acc_label: 0.9747, target_val_acc_label: 0.1278, source_val_label_loss: 0.1123, target_val_label_loss: 2.8197, \n",
      "=============================================================\n"
     ]
    },
    {
     "name": "stdout",
     "output_type": "stream",
     "text": [
      "epoch: 5, [batch: 1 / 6838], examples_per_second: 2.1463, train_label_loss: 0.2179, \n"
     ]
    },
    {
     "name": "stdout",
     "output_type": "stream",
     "text": [
      "epoch: 5, [batch: 684 / 6838], examples_per_second: 2273.0280, train_label_loss: 0.1006, \n"
     ]
    },
    {
     "name": "stdout",
     "output_type": "stream",
     "text": [
      "epoch: 5, [batch: 1368 / 6838], examples_per_second: 2303.1276, train_label_loss: 0.2887, \n"
     ]
    },
    {
     "name": "stdout",
     "output_type": "stream",
     "text": [
      "epoch: 5, [batch: 2052 / 6838], examples_per_second: 2324.2212, train_label_loss: 0.0267, \n"
     ]
    },
    {
     "name": "stdout",
     "output_type": "stream",
     "text": [
      "epoch: 5, [batch: 2735 / 6838], examples_per_second: 2553.0443, train_label_loss: 0.0213, \n"
     ]
    },
    {
     "name": "stdout",
     "output_type": "stream",
     "text": [
      "epoch: 5, [batch: 3419 / 6838], examples_per_second: 2556.5698, train_label_loss: 0.3295, \n"
     ]
    },
    {
     "name": "stdout",
     "output_type": "stream",
     "text": [
      "epoch: 5, [batch: 4103 / 6838], examples_per_second: 2585.4206, train_label_loss: 0.0039, \n"
     ]
    },
    {
     "name": "stdout",
     "output_type": "stream",
     "text": [
      "epoch: 5, [batch: 4786 / 6838], examples_per_second: 2922.3724, train_label_loss: 0.0031, \n"
     ]
    },
    {
     "name": "stdout",
     "output_type": "stream",
     "text": [
      "epoch: 5, [batch: 5470 / 6838], examples_per_second: 3149.6994, train_label_loss: 0.0074, \n"
     ]
    },
    {
     "name": "stdout",
     "output_type": "stream",
     "text": [
      "epoch: 5, [batch: 6154 / 6838], examples_per_second: 3273.5808, train_label_loss: 0.0661, \n"
     ]
    },
    {
     "name": "stdout",
     "output_type": "stream",
     "text": [
      "=============================================================\n",
      "epoch: 5, source_val_acc_label: 0.9748, target_val_acc_label: 0.1175, source_val_label_loss: 0.1136, target_val_label_loss: 2.9606, \n",
      "=============================================================\n"
     ]
    },
    {
     "name": "stdout",
     "output_type": "stream",
     "text": [
      "Patience (3) exhausted\n"
     ]
    }
   ],
   "source": [
    "###################################\n",
    "# train\n",
    "###################################\n",
    "jig = PTN_Train_Eval_Test_Jig(model, p.BEST_MODEL_PATH, p.device)\n",
    "\n",
    "jig.train(\n",
    "    train_iterable=datasets.source.processed.train,\n",
    "    source_val_iterable=datasets.source.processed.val,\n",
    "    target_val_iterable=datasets.target.processed.val,\n",
    "    num_epochs=p.n_epoch,\n",
    "    num_logs_per_epoch=p.NUM_LOGS_PER_EPOCH,\n",
    "    patience=p.patience,\n",
    "    optimizer=optimizer,\n",
    "    criteria_for_best=p.criteria_for_best,\n",
    ")"
   ]
  },
  {
   "cell_type": "code",
   "execution_count": 23,
   "id": "31e8fabf",
   "metadata": {
    "execution": {
     "iopub.execute_input": "2022-03-21T10:52:06.011785Z",
     "iopub.status.busy": "2022-03-21T10:52:06.011388Z",
     "iopub.status.idle": "2022-03-21T10:52:06.043922Z",
     "shell.execute_reply": "2022-03-21T10:52:06.043179Z"
    },
    "papermill": {
     "duration": 0.083695,
     "end_time": "2022-03-21T10:52:06.044091",
     "exception": false,
     "start_time": "2022-03-21T10:52:05.960396",
     "status": "completed"
    },
    "tags": []
   },
   "outputs": [],
   "source": [
    "total_experiment_time_secs = time.time() - start_time_secs"
   ]
  },
  {
   "cell_type": "code",
   "execution_count": 24,
   "id": "87b9595b",
   "metadata": {
    "execution": {
     "iopub.execute_input": "2022-03-21T10:52:06.145439Z",
     "iopub.status.busy": "2022-03-21T10:52:06.144553Z",
     "iopub.status.idle": "2022-03-21T10:55:42.557943Z",
     "shell.execute_reply": "2022-03-21T10:55:42.557075Z"
    },
    "papermill": {
     "duration": 216.462951,
     "end_time": "2022-03-21T10:55:42.558144",
     "exception": false,
     "start_time": "2022-03-21T10:52:06.095193",
     "status": "completed"
    },
    "tags": []
   },
   "outputs": [],
   "source": [
    "###################################\n",
    "# Evaluate the model\n",
    "###################################\n",
    "source_test_label_accuracy, source_test_label_loss = jig.test(datasets.source.processed.test)\n",
    "target_test_label_accuracy, target_test_label_loss = jig.test(datasets.target.processed.test)\n",
    "\n",
    "source_val_label_accuracy, source_val_label_loss = jig.test(datasets.source.processed.val)\n",
    "target_val_label_accuracy, target_val_label_loss = jig.test(datasets.target.processed.val)\n",
    "\n",
    "history = jig.get_history()\n",
    "\n",
    "total_epochs_trained = len(history[\"epoch_indices\"])\n",
    "\n",
    "val_dl = Iterable_Aggregator((datasets.source.original.val,datasets.target.original.val))\n",
    "\n",
    "confusion = ptn_confusion_by_domain_over_dataloader(model, p.device, val_dl)\n",
    "per_domain_accuracy = per_domain_accuracy_from_confusion(confusion)\n",
    "\n",
    "# Add a key to per_domain_accuracy for if it was a source domain\n",
    "for domain, accuracy in per_domain_accuracy.items():\n",
    "    per_domain_accuracy[domain] = {\n",
    "        \"accuracy\": accuracy,\n",
    "        \"source?\": domain in p.domains_source\n",
    "    }\n",
    "\n",
    "# Do an independent accuracy assesment JUST TO BE SURE!\n",
    "# _source_test_label_accuracy = independent_accuracy_assesment(model, datasets.source.processed.test, p.device)\n",
    "# _target_test_label_accuracy = independent_accuracy_assesment(model, datasets.target.processed.test, p.device)\n",
    "# _source_val_label_accuracy = independent_accuracy_assesment(model, datasets.source.processed.val, p.device)\n",
    "# _target_val_label_accuracy = independent_accuracy_assesment(model, datasets.target.processed.val, p.device)\n",
    "\n",
    "# assert(_source_test_label_accuracy == source_test_label_accuracy)\n",
    "# assert(_target_test_label_accuracy == target_test_label_accuracy)\n",
    "# assert(_source_val_label_accuracy == source_val_label_accuracy)\n",
    "# assert(_target_val_label_accuracy == target_val_label_accuracy)\n",
    "\n",
    "experiment = {\n",
    "    \"experiment_name\": p.experiment_name,\n",
    "    \"parameters\": dict(p),\n",
    "    \"results\": {\n",
    "        \"source_test_label_accuracy\": source_test_label_accuracy,\n",
    "        \"source_test_label_loss\": source_test_label_loss,\n",
    "        \"target_test_label_accuracy\": target_test_label_accuracy,\n",
    "        \"target_test_label_loss\": target_test_label_loss,\n",
    "        \"source_val_label_accuracy\": source_val_label_accuracy,\n",
    "        \"source_val_label_loss\": source_val_label_loss,\n",
    "        \"target_val_label_accuracy\": target_val_label_accuracy,\n",
    "        \"target_val_label_loss\": target_val_label_loss,\n",
    "        \"total_epochs_trained\": total_epochs_trained,\n",
    "        \"total_experiment_time_secs\": total_experiment_time_secs,\n",
    "        \"confusion\": confusion,\n",
    "        \"per_domain_accuracy\": per_domain_accuracy,\n",
    "    },\n",
    "    \"history\": history,\n",
    "    \"dataset_metrics\": get_dataset_metrics(datasets, \"ptn\"),\n",
    "}"
   ]
  },
  {
   "cell_type": "code",
   "execution_count": 25,
   "id": "54a21829",
   "metadata": {
    "execution": {
     "iopub.execute_input": "2022-03-21T10:55:42.647257Z",
     "iopub.status.busy": "2022-03-21T10:55:42.646884Z",
     "iopub.status.idle": "2022-03-21T10:55:42.864262Z",
     "shell.execute_reply": "2022-03-21T10:55:42.864936Z"
    },
    "papermill": {
     "duration": 0.262239,
     "end_time": "2022-03-21T10:55:42.865144",
     "exception": false,
     "start_time": "2022-03-21T10:55:42.602905",
     "status": "completed"
    },
    "tags": []
   },
   "outputs": [
    {
     "data": {
      "image/png": "[encoded data removed]",
      "text/plain": [
       "<Figure size 1080x504 with 1 Axes>"
      ]
     },
     "metadata": {
      "needs_background": "light"
     },
     "output_type": "display_data"
    }
   ],
   "source": [
    "ax = get_loss_curve(experiment)\n",
    "plt.show()"
   ]
  },
  {
   "cell_type": "code",
   "execution_count": 26,
   "id": "fd8a0f60",
   "metadata": {
    "execution": {
     "iopub.execute_input": "2022-03-21T10:55:42.952458Z",
     "iopub.status.busy": "2022-03-21T10:55:42.951837Z",
     "iopub.status.idle": "2022-03-21T10:55:43.280182Z",
     "shell.execute_reply": "2022-03-21T10:55:43.280666Z"
    },
    "papermill": {
     "duration": 0.37061,
     "end_time": "2022-03-21T10:55:43.280815",
     "exception": false,
     "start_time": "2022-03-21T10:55:42.910205",
     "status": "completed"
    },
    "tags": []
   },
   "outputs": [
    {
     "data": {
      "text/plain": [
       "<AxesSubplot:title={'center':'Results'}>"
      ]
     },
     "execution_count": 26,
     "metadata": {},
     "output_type": "execute_result"
    },
    {
     "data": {
      "image/png": "[encoded data removed]",
      "text/plain": [
       "<Figure size 1080x504 with 1 Axes>"
      ]
     },
     "metadata": {
      "needs_background": "light"
     },
     "output_type": "display_data"
    }
   ],
   "source": [
    "get_results_table(experiment)"
   ]
  },
  {
   "cell_type": "code",
   "execution_count": 27,
   "id": "cf8dc689",
   "metadata": {
    "execution": {
     "iopub.execute_input": "2022-03-21T10:55:43.379579Z",
     "iopub.status.busy": "2022-03-21T10:55:43.379159Z",
     "iopub.status.idle": "2022-03-21T10:55:43.633678Z",
     "shell.execute_reply": "2022-03-21T10:55:43.634381Z"
    },
    "papermill": {
     "duration": 0.300761,
     "end_time": "2022-03-21T10:55:43.634599",
     "exception": false,
     "start_time": "2022-03-21T10:55:43.333838",
     "status": "completed"
    },
    "tags": []
   },
   "outputs": [
    {
     "data": {
      "text/plain": [
       "<AxesSubplot:title={'center':'Per Domain Validation Accuracy'}, xlabel='domain'>"
      ]
     },
     "execution_count": 27,
     "metadata": {},
     "output_type": "execute_result"
    },
    {
     "data": {
      "image/png": "[encoded data removed]",
      "text/plain": [
       "<Figure size 1080x504 with 1 Axes>"
      ]
     },
     "metadata": {
      "needs_background": "light"
     },
     "output_type": "display_data"
    }
   ],
   "source": [
    "get_domain_accuracies(experiment)"
   ]
  },
  {
   "cell_type": "code",
   "execution_count": 28,
   "id": "a74ae082",
   "metadata": {
    "execution": {
     "iopub.execute_input": "2022-03-21T10:55:43.731425Z",
     "iopub.status.busy": "2022-03-21T10:55:43.730975Z",
     "iopub.status.idle": "2022-03-21T10:55:43.758478Z",
     "shell.execute_reply": "2022-03-21T10:55:43.757624Z"
    },
    "papermill": {
     "duration": 0.075208,
     "end_time": "2022-03-21T10:55:43.758659",
     "exception": false,
     "start_time": "2022-03-21T10:55:43.683451",
     "status": "completed"
    },
    "tags": []
   },
   "outputs": [
    {
     "name": "stdout",
     "output_type": "stream",
     "text": [
      "Source Test Label Accuracy: 0.9608072916666667 Target Test Label Accuracy: 0.20110677083333334\n",
      "Source Val Label Accuracy: 0.9631826617179216 Target Val Label Accuracy: 0.20335286458333332\n"
     ]
    }
   ],
   "source": [
    "print(\"Source Test Label Accuracy:\", experiment[\"results\"][\"source_test_label_accuracy\"], \"Target Test Label Accuracy:\", experiment[\"results\"][\"target_test_label_accuracy\"])\n",
    "print(\"Source Val Label Accuracy:\", experiment[\"results\"][\"source_val_label_accuracy\"], \"Target Val Label Accuracy:\", experiment[\"results\"][\"target_val_label_accuracy\"])"
   ]
  },
  {
   "cell_type": "code",
   "execution_count": 29,
   "id": "dacca602",
   "metadata": {
    "execution": {
     "iopub.execute_input": "2022-03-21T10:55:43.854385Z",
     "iopub.status.busy": "2022-03-21T10:55:43.853997Z",
     "iopub.status.idle": "2022-03-21T10:55:43.881974Z",
     "shell.execute_reply": "2022-03-21T10:55:43.882671Z"
    },
    "papermill": {
     "duration": 0.075269,
     "end_time": "2022-03-21T10:55:43.882876",
     "exception": false,
     "start_time": "2022-03-21T10:55:43.807607",
     "status": "completed"
    },
    "tags": [
     "experiment_json"
    ]
   },
   "outputs": [
    {
     "data": {
      "text/plain": [
       "'{\"experiment_name\": \"tl_1v2:wisig-oracle.run1.framed\", \"parameters\": {\"experiment_name\": \"tl_1v2:wisig-oracle.run1.framed\", \"device\": \"cuda\", \"lr\": 0.0001, \"n_shot\": 3, \"n_query\": 2, \"train_k_factor\": 3, \"val_k_factor\": 2, \"test_k_factor\": 2, \"torch_default_dtype\": \"torch.float32\", \"n_epoch\": 50, \"patience\": 3, \"criteria_for_best\": \"target_accuracy\", \"x_net\": [{\"class\": \"nnReshape\", \"kargs\": {\"shape\": [-1, 1, 2, 256]}}, {\"class\": \"Conv2d\", \"kargs\": {\"in_channels\": 1, \"out_channels\": 256, \"kernel_size\": [1, 7], \"bias\": false, \"padding\": [0, 3]}}, {\"class\": \"ReLU\", \"kargs\": {\"inplace\": true}}, {\"class\": \"BatchNorm2d\", \"kargs\": {\"num_features\": 256}}, {\"class\": \"Conv2d\", \"kargs\": {\"in_channels\": 256, \"out_channels\": 80, \"kernel_size\": [2, 7], \"bias\": true, \"padding\": [0, 3]}}, {\"class\": \"ReLU\", \"kargs\": {\"inplace\": true}}, {\"class\": \"BatchNorm2d\", \"kargs\": {\"num_features\": 80}}, {\"class\": \"Flatten\", \"kargs\": {}}, {\"class\": \"Linear\", \"kargs\": {\"in_features\": 20480, \"out_features\": 256}}, {\"class\": \"ReLU\", \"kargs\": {\"inplace\": true}}, {\"class\": \"BatchNorm1d\", \"kargs\": {\"num_features\": 256}}, {\"class\": \"Linear\", \"kargs\": {\"in_features\": 256, \"out_features\": 256}}], \"NUM_LOGS_PER_EPOCH\": 10, \"BEST_MODEL_PATH\": \"./best_model.pth\", \"n_way\": 16, \"datasets\": [{\"labels\": [\"1-10\", \"1-12\", \"1-14\", \"1-16\", \"1-18\", \"1-19\", \"1-8\", \"10-11\", \"10-17\", \"10-4\", \"10-7\", \"11-1\", \"11-10\", \"11-19\", \"11-20\", \"11-4\", \"11-7\", \"12-19\", \"12-20\", \"12-7\", \"13-14\", \"13-18\", \"13-19\", \"13-20\", \"13-3\", \"13-7\", \"14-10\", \"14-11\", \"14-12\", \"14-13\", \"14-14\", \"14-19\", \"14-20\", \"14-7\", \"14-8\", \"14-9\", \"15-1\", \"15-19\", \"15-6\", \"16-1\", \"16-16\", \"16-19\", \"16-20\", \"17-10\", \"17-11\", \"18-1\", \"18-10\", \"18-11\", \"18-12\", \"18-13\", \"18-14\", \"18-15\", \"18-16\", \"18-17\", \"18-19\", \"18-2\", \"18-20\", \"18-4\", \"18-5\", \"18-7\", \"18-8\", \"18-9\", \"19-1\", \"19-10\", \"19-11\", \"19-12\", \"19-13\", \"19-14\", \"19-15\", \"19-19\", \"19-2\", \"19-20\", \"19-3\", \"19-4\", \"19-6\", \"19-7\", \"19-8\", \"19-9\", \"2-1\", \"2-13\", \"2-15\", \"2-3\", \"2-4\", \"2-5\", \"2-6\", \"2-7\", \"2-8\", \"20-1\", \"20-12\", \"20-14\", \"20-15\", \"20-16\", \"20-18\", \"20-19\", \"20-20\", \"20-3\", \"20-4\", \"20-5\", \"20-7\", \"20-8\", \"3-1\", \"3-13\", \"3-18\", \"3-2\", \"3-8\", \"4-1\", \"4-10\", \"4-11\", \"5-1\", \"5-5\", \"6-1\", \"6-15\", \"6-6\", \"7-10\", \"7-11\", \"7-12\", \"7-13\", \"7-14\", \"7-7\", \"7-8\", \"7-9\", \"8-1\", \"8-13\", \"8-14\", \"8-18\", \"8-20\", \"8-3\", \"8-8\", \"9-1\", \"9-7\"], \"domains\": [1, 2, 3, 4], \"num_examples_per_domain_per_label\": -1, \"pickle_path\": \"/root/csc500-main/datasets/wisig.node3-19.stratified_ds.2022A.pkl\", \"source_or_target_dataset\": \"source\", \"x_transforms\": [\"unit_power\"], \"episode_transforms\": [], \"domain_prefix\": \"Wisig_\"}, {\"labels\": [\"3123D52\", \"3123D65\", \"3123D79\", \"3123D80\", \"3123D54\", \"3123D70\", \"3123D7B\", \"3123D89\", \"3123D58\", \"3123D76\", \"3123D7D\", \"3123EFE\", \"3123D64\", \"3123D78\", \"3123D7E\", \"3124E4A\"], \"domains\": [32, 38, 8, 44, 14, 50, 20, 26], \"num_examples_per_domain_per_label\": 2000, \"pickle_path\": \"/root/csc500-main/datasets/oracle.Run1_framed_2000Examples_stratified_ds.2022A.pkl\", \"source_or_target_dataset\": \"target\", \"x_transforms\": [\"unit_power\"], \"episode_transforms\": [], \"domain_prefix\": \"ORACLE.run1\"}], \"dataset_seed\": 154325, \"seed\": 154325, \"x_shape\": [2, 256], \"domains_source\": [\"Wisig_1\", \"Wisig_2\", \"Wisig_3\", \"Wisig_4\"], \"domains_target\": [\"ORACLE.run132\", \"ORACLE.run138\", \"ORACLE.run18\", \"ORACLE.run144\", \"ORACLE.run114\", \"ORACLE.run150\", \"ORACLE.run120\", \"ORACLE.run126\"]}, \"results\": {\"source_test_label_accuracy\": 0.9608072916666667, \"source_test_label_loss\": 0.1681273877620697, \"target_test_label_accuracy\": 0.20110677083333334, \"target_test_label_loss\": 2.4978413581848145, \"source_val_label_accuracy\": 0.9631826617179216, \"source_val_label_loss\": 0.15843920409679413, \"target_val_label_accuracy\": 0.20335286458333332, \"target_val_label_loss\": 2.496994972229004, \"total_epochs_trained\": 5, \"total_experiment_time_secs\": 1345.811558008194, \"confusion\": {\"Wisig_2\": {\"56\": {\"56\": 12}, \"12\": {\"12\": 84, \"8\": 1, \"78\": 1, \"94\": 1, \"70\": 1}, \"15\": {\"15\": 113, \"26\": 1, \"44\": 1, \"24\": 1}, \"26\": {\"26\": 128, \"24\": 2, \"21\": 1, \"84\": 1}, \"82\": {\"82\": 36}, \"9\": {\"9\": 32}, \"49\": {\"49\": 23, \"11\": 1}, \"55\": {\"55\": 16}, \"102\": {\"102\": 124}, \"85\": {\"85\": 32}, \"73\": {\"73\": 28}, \"47\": {\"47\": 9, \"15\": 1, \"84\": 1, \"94\": 1}, \"20\": {\"20\": 15, \"24\": 1}, \"117\": {\"117\": 112, \"87\": 1, \"21\": 2, \"39\": 1}, \"122\": {\"122\": 128, \"73\": 1, \"87\": 1, \"100\": 1, \"71\": 1, \"70\": 4, \"5\": 1, \"39\": 1, \"27\": 2}, \"113\": {\"113\": 70, \"69\": 1, \"23\": 1}, \"87\": {\"21\": 2, \"87\": 102, \"83\": 1, \"71\": 1, \"69\": 1, \"43\": 2, \"24\": 1, \"93\": 1, \"30\": 1}, \"21\": {\"21\": 47, \"59\": 1}, \"106\": {\"106\": 115, \"12\": 1, \"0\": 1, \"27\": 1, \"21\": 1, \"43\": 1}, \"3\": {\"3\": 132, \"88\": 1, \"7\": 1, \"94\": 1, \"69\": 1}, \"126\": {\"126\": 120}, \"41\": {\"41\": 19, \"52\": 1}, \"76\": {\"76\": 16}, \"60\": {\"60\": 27, \"70\": 1}, \"94\": {\"94\": 60, \"88\": 1, \"24\": 2, \"36\": 1}, \"50\": {\"50\": 16}, \"97\": {\"97\": 20}, \"115\": {\"115\": 12}, \"38\": {\"38\": 16}, \"43\": {\"43\": 114, \"0\": 1, \"94\": 1, \"106\": 1, \"84\": 1, \"113\": 1, \"5\": 1, \"21\": 1, \"78\": 1, \"70\": 1, \"24\": 1}, \"67\": {\"67\": 16}, \"18\": {\"18\": 121, \"21\": 1, \"0\": 1, \"25\": 1, \"94\": 2, \"4\": 1, \"126\": 1}, \"23\": {\"23\": 34, \"48\": 1, \"121\": 1, \"12\": 1, \"83\": 1, \"29\": 2, \"60\": 1, \"20\": 1, \"122\": 2}, \"63\": {\"63\": 20}, \"127\": {\"127\": 119, \"43\": 2, \"70\": 1, \"24\": 1, \"26\": 1}, \"72\": {\"72\": 26, \"77\": 1, \"31\": 1}, \"128\": {\"128\": 19, \"101\": 1, \"59\": 2, \"49\": 1, \"47\": 1}, \"7\": {\"7\": 124, \"88\": 1, \"26\": 1, \"127\": 1, \"33\": 1}, \"108\": {\"108\": 134}, \"16\": {\"16\": 104, \"88\": 1, \"5\": 1, \"93\": 1, \"97\": 1, \"23\": 1, \"31\": 1, \"77\": 1, \"43\": 1, \"21\": 1, \"122\": 1}, \"29\": {\"29\": 32}, \"61\": {\"61\": 19, \"94\": 1}, \"104\": {\"104\": 20}, \"120\": {\"120\": 20}, \"124\": {\"124\": 123, \"82\": 1}, \"34\": {\"115\": 1, \"34\": 29, \"8\": 1, \"45\": 1}, \"84\": {\"84\": 87, \"9\": 1, \"87\": 1, \"11\": 2, \"73\": 1}, \"103\": {\"103\": 16}, \"100\": {\"100\": 16}, \"40\": {\"40\": 130, \"11\": 1, \"43\": 1, \"108\": 1, \"113\": 1, \"111\": 1, \"21\": 1, \"101\": 1, \"39\": 1, \"24\": 1, \"122\": 1}, \"35\": {\"35\": 12}, \"96\": {\"96\": 20}, \"101\": {\"101\": 119, \"98\": 1}, \"71\": {\"71\": 95, \"24\": 1, \"36\": 1, \"4\": 2, \"105\": 1}, \"81\": {\"81\": 21, \"109\": 1, \"110\": 1, \"77\": 1}, \"74\": {\"74\": 14, \"94\": 1, \"46\": 1}, \"119\": {\"119\": 20}, \"5\": {\"5\": 108, \"17\": 1, \"69\": 1, \"24\": 1, \"115\": 1}, \"68\": {\"68\": 16}, \"37\": {\"13\": 1, \"37\": 15}, \"58\": {\"58\": 20}, \"109\": {\"107\": 1, \"109\": 93, \"44\": 1, \"18\": 1, \"5\": 1, \"118\": 1, \"94\": 1, \"0\": 1}, \"107\": {\"107\": 58, \"125\": 1, \"36\": 1, \"109\": 1, \"4\": 1, \"108\": 1, \"106\": 1}, \"13\": {\"13\": 11, \"72\": 1, \"94\": 1, \"52\": 1, \"82\": 1, \"87\": 1}, \"52\": {\"52\": 19, \"124\": 1}, \"77\": {\"77\": 15, \"23\": 1}, \"95\": {\"95\": 36}, \"44\": {\"44\": 100}, \"88\": {\"88\": 118, \"126\": 2, \"24\": 1, \"23\": 1}, \"91\": {\"91\": 25, \"29\": 2, \"107\": 1}, \"93\": {\"93\": 137, \"21\": 1}, \"8\": {\"8\": 121, \"18\": 2, \"94\": 1}, \"1\": {\"1\": 111, \"24\": 2, \"36\": 1}, \"45\": {\"45\": 15, \"59\": 1}, \"111\": {\"111\": 123, \"62\": 1, \"127\": 1, \"21\": 1}, \"116\": {\"116\": 26, \"70\": 1, \"80\": 1}, \"48\": {\"48\": 20}, \"57\": {\"57\": 18, \"68\": 1, \"24\": 1}, \"10\": {\"10\": 56, \"105\": 1, \"12\": 1, \"118\": 1, \"26\": 1}, \"129\": {\"129\": 32}, \"98\": {\"98\": 115, \"26\": 1, \"24\": 1, \"94\": 1}, \"65\": {\"65\": 19, \"10\": 1}, \"6\": {\"6\": 30, \"91\": 2}, \"75\": {\"75\": 15, \"85\": 1}, \"14\": {\"14\": 46, \"30\": 1, \"106\": 1}, \"30\": {\"30\": 104, \"54\": 1, \"12\": 1, \"102\": 1, \"93\": 1, \"3\": 1, \"59\": 2, \"39\": 1}, \"83\": {\"83\": 40}, \"69\": {\"69\": 125, \"7\": 1, \"13\": 1, \"126\": 1}, \"125\": {\"125\": 145, \"109\": 1}, \"31\": {\"31\": 20}, \"118\": {\"118\": 67, \"43\": 1}, \"53\": {\"53\": 15, \"19\": 1}, \"54\": {\"54\": 20}, \"92\": {\"92\": 28}, \"19\": {\"19\": 28}, \"27\": {\"27\": 58, \"49\": 1, \"25\": 1, \"36\": 5, \"77\": 2, \"24\": 1}, \"17\": {\"17\": 15, \"59\": 1}, \"4\": {\"4\": 87, \"16\": 1}, \"36\": {\"27\": 3, \"36\": 118, \"94\": 1, \"29\": 1, \"24\": 1, \"39\": 1, \"43\": 2, \"108\": 1}, \"90\": {\"90\": 134, \"2\": 1, \"26\": 1}, \"64\": {\"64\": 15, \"24\": 1}, \"66\": {\"66\": 19, \"86\": 1}, \"46\": {\"46\": 14, \"16\": 1, \"24\": 1}, \"86\": {\"86\": 32}, \"114\": {\"114\": 108, \"0\": 1, \"87\": 1}, \"32\": {\"86\": 1, \"32\": 20, \"101\": 1, \"82\": 1, \"10\": 1, \"75\": 1, \"66\": 1, \"104\": 2, \"107\": 1, \"95\": 1, \"50\": 1, \"34\": 1, \"14\": 3, \"88\": 1}, \"78\": {\"78\": 42, \"40\": 1, \"43\": 1, \"87\": 1, \"4\": 1, \"116\": 1, \"10\": 1}, \"33\": {\"33\": 136, \"93\": 1, \"73\": 1}, \"70\": {\"70\": 115, \"89\": 1, \"122\": 3, \"24\": 1, \"93\": 1, \"78\": 1, \"110\": 1, \"69\": 1}, \"0\": {\"0\": 111, \"39\": 2, \"26\": 1, \"69\": 2}, \"110\": {\"110\": 36, \"61\": 1, \"108\": 1, \"70\": 2}, \"2\": {\"2\": 26, \"113\": 1, \"16\": 1, \"72\": 2, \"55\": 1, \"81\": 1}, \"28\": {\"28\": 18, \"23\": 1, \"10\": 1}, \"51\": {\"51\": 17, \"58\": 1, \"9\": 1, \"77\": 1}, \"79\": {\"79\": 16}, \"42\": {\"42\": 28}, \"112\": {\"112\": 12, \"5\": 1, \"3\": 1, \"126\": 1, \"49\": 1}, \"89\": {\"89\": 34, \"92\": 2}, \"59\": {\"59\": 16}, \"105\": {\"105\": 126, \"24\": 1, \"62\": 1}, \"121\": {\"121\": 33, \"23\": 1, \"18\": 1, \"113\": 1}, \"11\": {\"11\": 74, \"98\": 1, \"49\": 2, \"126\": 1, \"23\": 1, \"94\": 1}, \"99\": {\"99\": 30, \"12\": 1, \"33\": 1}, \"25\": {\"25\": 16}, \"62\": {\"62\": 120, \"94\": 1, \"22\": 1, \"105\": 1, \"102\": 1, \"10\": 1, \"24\": 2, \"126\": 1}, \"123\": {\"123\": 16}, \"24\": {\"24\": 108, \"12\": 1, \"70\": 1, \"30\": 1, \"43\": 1}, \"80\": {\"80\": 16}, \"39\": {\"39\": 94, \"117\": 1, \"0\": 1, \"24\": 1, \"88\": 1, \"94\": 1, \"33\": 1}, \"22\": {\"22\": 18, \"10\": 1, \"112\": 1}}, \"Wisig_4\": {\"32\": {\"32\": 22, \"22\": 1, \"86\": 1, \"23\": 1, \"76\": 1, \"109\": 2}, \"22\": {\"22\": 15, \"46\": 1}, \"69\": {\"69\": 113, \"122\": 1, \"6\": 1, \"113\": 1, \"30\": 1, \"70\": 1, \"16\": 1, \"0\": 1}, \"65\": {\"65\": 12}, \"91\": {\"91\": 23, \"85\": 1}, \"63\": {\"63\": 16}, \"127\": {\"63\": 1, \"127\": 104, \"111\": 1, \"4\": 1, \"7\": 1}, \"11\": {\"11\": 136, \"36\": 1, \"81\": 1}, \"12\": {\"12\": 93, \"78\": 1, \"34\": 1, \"126\": 1, \"122\": 1, \"105\": 1, \"7\": 2}, \"111\": {\"111\": 125, \"89\": 1, \"95\": 1, \"126\": 1}, \"53\": {\"53\": 14, \"122\": 1, \"70\": 1}, \"73\": {\"73\": 22, \"53\": 1, \"78\": 1}, \"3\": {\"3\": 134, \"21\": 1, \"84\": 1}, \"83\": {\"83\": 27, \"32\": 1}, \"88\": {\"88\": 125, \"70\": 3, \"12\": 1, \"108\": 1}, \"87\": {\"87\": 127, \"108\": 1, \"105\": 4}, \"2\": {\"2\": 23, \"126\": 4, \"26\": 1}, \"86\": {\"86\": 28}, \"16\": {\"16\": 116, \"21\": 1, \"118\": 2, \"129\": 1, \"111\": 1, \"39\": 1}, \"21\": {\"21\": 31, \"100\": 1, \"0\": 1, \"12\": 1, \"1\": 1, \"60\": 1, \"58\": 1, \"121\": 1, \"51\": 1, \"122\": 1}, \"96\": {\"96\": 19, \"21\": 1}, \"100\": {\"100\": 20}, \"7\": {\"7\": 118, \"108\": 1, \"113\": 1}, \"75\": {\"75\": 15, \"54\": 1}, \"10\": {\"10\": 117, \"111\": 1, \"5\": 1, \"27\": 1, \"36\": 1, \"126\": 1, \"101\": 1, \"8\": 1}, \"43\": {\"43\": 114, \"78\": 1, \"10\": 1, \"113\": 1, \"60\": 1, \"19\": 1, \"126\": 1}, \"92\": {\"92\": 27, \"122\": 1}, \"62\": {\"62\": 54, \"113\": 1, \"40\": 1, \"43\": 1, \"84\": 1, \"69\": 2}, \"31\": {\"31\": 16}, \"0\": {\"0\": 113, \"122\": 1}, \"45\": {\"45\": 16}, \"85\": {\"85\": 27, \"54\": 1}, \"119\": {\"119\": 16}, \"46\": {\"46\": 20}, \"71\": {\"71\": 97, \"50\": 2, \"114\": 1, \"3\": 2, \"113\": 1, \"109\": 1}, \"8\": {\"8\": 129, \"10\": 1, \"7\": 1, \"70\": 1, \"27\": 1, \"113\": 1}, \"118\": {\"118\": 107, \"39\": 1, \"122\": 1, \"70\": 1, \"101\": 1, \"108\": 1}, \"1\": {\"1\": 96, \"85\": 1, \"33\": 3, \"94\": 1, \"106\": 1, \"126\": 1, \"122\": 1, \"21\": 1, \"10\": 1, \"127\": 2}, \"38\": {\"38\": 15, \"108\": 1}, \"30\": {\"30\": 70, \"49\": 1, \"24\": 1, \"51\": 1, \"21\": 1, \"42\": 1, \"10\": 1}, \"66\": {\"66\": 14, \"44\": 1, \"90\": 1}, \"9\": {\"9\": 28}, \"5\": {\"5\": 135, \"72\": 1}, \"24\": {\"24\": 104, \"36\": 11, \"15\": 1, \"30\": 1, \"26\": 1, \"27\": 1, \"10\": 1}, \"97\": {\"97\": 20}, \"67\": {\"67\": 10, \"115\": 1, \"123\": 2, \"48\": 1, \"23\": 1, \"113\": 1}, \"19\": {\"19\": 27, \"110\": 1}, \"77\": {\"77\": 12}, \"26\": {\"26\": 117, \"111\": 1}, \"115\": {\"10\": 1, \"115\": 13, \"128\": 1, \"124\": 1}, \"50\": {\"50\": 16}, \"120\": {\"120\": 20}, \"102\": {\"102\": 127, \"14\": 1}, \"29\": {\"29\": 32}, \"44\": {\"44\": 63, \"63\": 1}, \"124\": {\"124\": 117, \"118\": 1}, \"78\": {\"78\": 25, \"17\": 1, \"21\": 2, \"34\": 1, \"58\": 1, \"84\": 1, \"111\": 1, \"89\": 1, \"88\": 1, \"60\": 1, \"43\": 1}, \"104\": {\"104\": 16}, \"105\": {\"105\": 87, \"0\": 1, \"129\": 1, \"87\": 8, \"39\": 1, \"101\": 1, \"36\": 1}, \"28\": {\"28\": 20}, \"37\": {\"37\": 16}, \"107\": {\"107\": 127, \"122\": 1, \"1\": 1, \"115\": 1, \"84\": 1, \"15\": 1}, \"6\": {\"6\": 23, \"10\": 1}, \"17\": {\"17\": 18, \"104\": 2}, \"57\": {\"57\": 16}, \"121\": {\"121\": 23, \"28\": 1, \"13\": 2, \"51\": 1, \"34\": 3, \"21\": 1, \"92\": 1}, \"58\": {\"58\": 16}, \"64\": {\"64\": 16}, \"82\": {\"82\": 32}, \"39\": {\"39\": 97, \"0\": 1, \"122\": 1, \"98\": 1}, \"110\": {\"110\": 115, \"61\": 1, \"81\": 1, \"14\": 1, \"21\": 1, \"108\": 1, \"70\": 1, \"0\": 1, \"126\": 1, \"102\": 1}, \"114\": {\"114\": 126, \"49\": 1, \"71\": 1}, \"20\": {\"20\": 16}, \"117\": {\"117\": 114}, \"18\": {\"18\": 119, \"113\": 1}, \"99\": {\"99\": 39, \"122\": 1}, \"23\": {\"23\": 6, \"91\": 1, \"123\": 1, \"122\": 1, \"129\": 1, \"39\": 1, \"78\": 1, \"48\": 1, \"51\": 1, \"70\": 1, \"7\": 1}, \"128\": {\"128\": 21, \"101\": 1, \"21\": 1, \"72\": 1}, \"60\": {\"60\": 30, \"19\": 1, \"129\": 1}, \"70\": {\"70\": 109, \"7\": 1, \"88\": 8, \"111\": 1, \"69\": 1}, \"122\": {\"67\": 1, \"122\": 79, \"43\": 1, \"106\": 1, \"126\": 1, \"5\": 1}, \"101\": {\"101\": 128, \"7\": 1, \"0\": 1, \"84\": 1, \"88\": 1}, \"33\": {\"33\": 129, \"122\": 1, \"116\": 1, \"124\": 1}, \"40\": {\"40\": 124, \"39\": 1, \"33\": 1, \"121\": 1, \"88\": 1, \"70\": 1, \"0\": 1}, \"41\": {\"41\": 14, \"122\": 1, \"21\": 1}, \"59\": {\"59\": 12}, \"4\": {\"4\": 96, \"53\": 1, \"39\": 1, \"105\": 1, \"122\": 2, \"12\": 1, \"127\": 1, \"101\": 1}, \"112\": {\"112\": 15, \"67\": 1}, \"36\": {\"36\": 122, \"24\": 4, \"2\": 1, \"26\": 1}, \"48\": {\"48\": 13, \"60\": 2, \"21\": 1}, \"126\": {\"122\": 1, \"126\": 111, \"113\": 1, \"93\": 2, \"101\": 1}, \"125\": {\"125\": 119, \"7\": 1, \"98\": 1, \"84\": 1}, \"84\": {\"84\": 118, \"21\": 1, \"36\": 1, \"122\": 1, \"87\": 1, \"126\": 1, \"106\": 1, \"88\": 2, \"101\": 2}, \"80\": {\"80\": 16}, \"49\": {\"49\": 29, \"70\": 2, \"19\": 1}, \"47\": {\"25\": 1, \"47\": 11}, \"95\": {\"95\": 32}, \"54\": {\"54\": 16}, \"25\": {\"25\": 16}, \"116\": {\"116\": 25, \"92\": 1, \"33\": 1, \"78\": 1}, \"74\": {\"74\": 16}, \"35\": {\"35\": 12}, \"15\": {\"15\": 123, \"0\": 1, \"10\": 2, \"105\": 1, \"3\": 1}, \"108\": {\"108\": 82, \"73\": 1, \"71\": 1, \"94\": 1, \"27\": 1, \"113\": 1, \"19\": 2, \"51\": 1, \"84\": 1, \"88\": 1}, \"34\": {\"34\": 21, \"6\": 2, \"8\": 2, \"0\": 1, \"72\": 2, \"128\": 1, \"103\": 1, \"85\": 1, \"75\": 1}, \"81\": {\"81\": 33, \"39\": 2, \"122\": 1}, \"93\": {\"93\": 128}, \"55\": {\"55\": 16}, \"27\": {\"27\": 94, \"122\": 1, \"24\": 4, \"15\": 1}, \"109\": {\"109\": 107, \"16\": 1, \"70\": 1, \"108\": 1}, \"106\": {\"106\": 108, \"16\": 1, \"113\": 1, \"89\": 1, \"127\": 1, \"43\": 1, \"15\": 1, \"122\": 1, \"105\": 1}, \"68\": {\"68\": 15, \"108\": 1}, \"76\": {\"69\": 1, \"76\": 14, \"78\": 1}, \"103\": {\"103\": 15, \"73\": 1}, \"42\": {\"42\": 25, \"108\": 1, \"124\": 2}, \"129\": {\"110\": 1, \"129\": 25, \"73\": 1, \"19\": 1}, \"94\": {\"94\": 81, \"5\": 1, \"81\": 1, \"3\": 1, \"21\": 1, \"8\": 1, \"7\": 1, \"84\": 1}, \"123\": {\"123\": 16}, \"61\": {\"61\": 16}, \"51\": {\"73\": 1, \"51\": 8, \"12\": 1, \"44\": 1, \"129\": 1, \"58\": 1, \"98\": 1, \"47\": 2}, \"98\": {\"98\": 114, \"39\": 2, \"90\": 2}, \"56\": {\"56\": 12}, \"14\": {\"14\": 109, \"81\": 1, \"23\": 1, \"101\": 1}, \"90\": {\"90\": 136, \"126\": 1, \"66\": 1}, \"13\": {\"13\": 16}, \"89\": {\"89\": 31, \"27\": 1}, \"52\": {\"52\": 19, \"89\": 1}, \"72\": {\"72\": 31, \"21\": 1}, \"79\": {\"79\": 16}, \"113\": {\"113\": 123, \"70\": 1, \"84\": 1, \"39\": 1}}, \"Wisig_1\": {\"68\": {\"68\": 16}, \"7\": {\"7\": 142}, \"125\": {\"125\": 118}, \"111\": {\"111\": 115, \"18\": 1, \"88\": 1, \"93\": 1, \"127\": 1, \"12\": 1}, \"101\": {\"101\": 123, \"65\": 1}, \"11\": {\"11\": 136}, \"76\": {\"76\": 16}, \"5\": {\"5\": 86, \"73\": 1, \"44\": 1}, \"123\": {\"123\": 14, \"21\": 1, \"19\": 1}, \"85\": {\"85\": 32}, \"34\": {\"34\": 23, \"125\": 2, \"128\": 1, \"14\": 3, \"6\": 1, \"86\": 1, \"91\": 1}, \"42\": {\"60\": 2, \"42\": 21, \"109\": 1, \"124\": 2, \"91\": 1, \"82\": 1}, \"81\": {\"81\": 28}, \"127\": {\"127\": 106, \"101\": 1, \"88\": 1}, \"60\": {\"101\": 1, \"60\": 8, \"34\": 2, \"120\": 1, \"72\": 1, \"42\": 1, \"29\": 1, \"14\": 1}, \"77\": {\"77\": 16}, \"65\": {\"83\": 2, \"65\": 5, \"22\": 2, \"115\": 1, \"69\": 2}, \"44\": {\"44\": 76}, \"100\": {\"100\": 16}, \"80\": {\"80\": 16}, \"83\": {\"83\": 27, \"5\": 1}, \"51\": {\"51\": 16}, \"93\": {\"93\": 131, \"7\": 1, \"102\": 1, \"21\": 1}, \"31\": {\"31\": 16}, \"33\": {\"33\": 124, \"19\": 1, \"55\": 1}, \"113\": {\"113\": 121, \"69\": 1, \"16\": 1, \"43\": 1}, \"126\": {\"126\": 122, \"43\": 1, \"26\": 1}, \"10\": {\"10\": 110, \"0\": 9, \"85\": 1}, \"21\": {\"21\": 38, \"128\": 1, \"59\": 1}, \"90\": {\"90\": 131, \"113\": 1}, \"38\": {\"38\": 16}, \"96\": {\"96\": 17, \"126\": 2, \"30\": 1}, \"6\": {\"6\": 31, \"51\": 1}, \"121\": {\"121\": 32}, \"37\": {\"37\": 16}, \"88\": {\"88\": 122, \"36\": 3, \"108\": 1}, \"54\": {\"54\": 16}, \"92\": {\"92\": 28}, \"19\": {\"19\": 28}, \"47\": {\"47\": 12}, \"94\": {\"94\": 89, \"18\": 1, \"102\": 1, \"113\": 1}, \"66\": {\"66\": 16}, \"73\": {\"73\": 19, \"59\": 1}, \"75\": {\"75\": 16}, \"28\": {\"28\": 19, \"65\": 1}, \"20\": {\"20\": 16}, \"78\": {\"102\": 1, \"78\": 13, \"34\": 1, \"21\": 1}, \"71\": {\"71\": 101, \"7\": 1, \"43\": 1, \"21\": 1}, \"13\": {\"13\": 16}, \"118\": {\"118\": 83, \"111\": 1}, \"72\": {\"72\": 32}, \"24\": {\"24\": 87, \"111\": 1, \"12\": 1, \"108\": 2, \"36\": 1}, \"41\": {\"41\": 16}, \"102\": {\"102\": 119, \"18\": 1}, \"8\": {\"21\": 1, \"8\": 137}, \"39\": {\"39\": 94, \"88\": 1, \"43\": 1}, \"97\": {\"97\": 19, \"2\": 1}, \"48\": {\"48\": 12}, \"57\": {\"57\": 12}, \"29\": {\"29\": 28}, \"119\": {\"119\": 16}, \"89\": {\"89\": 36}, \"40\": {\"40\": 138, \"105\": 2}, \"22\": {\"97\": 1, \"22\": 15}, \"53\": {\"53\": 18, \"49\": 1, \"70\": 1}, \"108\": {\"108\": 124}, \"23\": {\"23\": 17, \"42\": 1, \"28\": 2, \"35\": 2, \"55\": 1, \"45\": 1}, \"109\": {\"109\": 115, \"126\": 1}, \"112\": {\"112\": 16}, \"35\": {\"35\": 12}, \"3\": {\"3\": 86, \"36\": 1, \"43\": 1}, \"103\": {\"103\": 14, \"94\": 1, \"52\": 1}, \"4\": {\"4\": 98, \"43\": 1, \"45\": 1}, \"87\": {\"87\": 107, \"93\": 1}, \"25\": {\"23\": 1, \"25\": 14, \"73\": 1}, \"15\": {\"15\": 94, \"111\": 6, \"69\": 1, \"43\": 1, \"93\": 1, \"108\": 1}, \"95\": {\"95\": 36}, \"120\": {\"120\": 18, \"6\": 1, \"102\": 1}, \"59\": {\"59\": 11, \"7\": 1}, \"49\": {\"49\": 17, \"31\": 1, \"82\": 1, \"7\": 1}, \"52\": {\"52\": 20}, \"45\": {\"49\": 1, \"45\": 8, \"46\": 1, \"47\": 1, \"122\": 1}, \"107\": {\"107\": 124}, \"106\": {\"106\": 132, \"122\": 1, \"12\": 1}, \"18\": {\"18\": 124}, \"64\": {\"64\": 16}, \"86\": {\"86\": 35, \"108\": 1}, \"14\": {\"14\": 96}, \"115\": {\"115\": 12}, \"0\": {\"0\": 83, \"49\": 1}, \"104\": {\"104\": 16}, \"61\": {\"61\": 12}, \"129\": {\"129\": 26, \"14\": 2}, \"122\": {\"122\": 86, \"105\": 1, \"43\": 1}, \"67\": {\"67\": 14, \"21\": 1, \"115\": 1}, \"128\": {\"128\": 24}, \"26\": {\"26\": 131, \"105\": 1, \"43\": 1, \"128\": 1}, \"117\": {\"117\": 136}, \"91\": {\"91\": 28}, \"12\": {\"12\": 100, \"15\": 1, \"108\": 3}, \"50\": {\"50\": 16}, \"99\": {\"99\": 24}, \"110\": {\"110\": 104}, \"43\": {\"43\": 111, \"21\": 1, \"125\": 1, \"70\": 1, \"94\": 1, \"5\": 1}, \"82\": {\"82\": 36}, \"1\": {\"1\": 95, \"126\": 1}, \"46\": {\"12\": 2, \"46\": 8, \"70\": 1, \"86\": 1}, \"16\": {\"16\": 106, \"39\": 1, \"43\": 1}, \"74\": {\"74\": 16}, \"32\": {\"32\": 29, \"127\": 1, \"93\": 1, \"30\": 1}, \"62\": {\"62\": 118, \"108\": 1, \"94\": 1}, \"27\": {\"27\": 90, \"43\": 1, \"24\": 1}, \"17\": {\"17\": 16}, \"36\": {\"36\": 131, \"88\": 1, \"122\": 1, \"24\": 1}, \"2\": {\"2\": 23, \"128\": 2, \"70\": 1, \"11\": 2, \"39\": 1, \"13\": 1, \"82\": 1, \"96\": 1}, \"70\": {\"70\": 125, \"102\": 1, \"108\": 1, \"12\": 1}, \"9\": {\"9\": 32}, \"114\": {\"114\": 130}, \"79\": {\"79\": 12}, \"56\": {\"56\": 11, \"112\": 1}, \"124\": {\"124\": 102}, \"84\": {\"84\": 134}, \"69\": {\"69\": 106, \"34\": 1, \"102\": 1}, \"58\": {\"58\": 10, \"125\": 2}, \"30\": {\"30\": 52}, \"55\": {\"55\": 12}, \"105\": {\"105\": 83, \"40\": 1}, \"63\": {\"63\": 16}, \"98\": {\"98\": 107, \"109\": 1}, \"116\": {\"116\": 31, \"102\": 1}}, \"Wisig_3\": {\"76\": {\"76\": 16}, \"6\": {\"6\": 25, \"58\": 1, \"34\": 3, \"19\": 1, \"91\": 1, \"45\": 1}, \"108\": {\"108\": 106}, \"29\": {\"29\": 32}, \"83\": {\"83\": 24}, \"18\": {\"18\": 126, \"84\": 1, \"78\": 1}, \"54\": {\"54\": 16}, \"15\": {\"15\": 104}, \"100\": {\"100\": 16}, \"90\": {\"90\": 133, \"86\": 1, \"44\": 1, \"125\": 1}, \"26\": {\"26\": 130, \"23\": 1, \"5\": 1}, \"115\": {\"115\": 16}, \"94\": {\"94\": 83, \"30\": 1}, \"46\": {\"46\": 16}, \"121\": {\"121\": 32}, \"109\": {\"109\": 125, \"118\": 2, \"21\": 1}, \"101\": {\"101\": 51, \"8\": 1}, \"99\": {\"99\": 36}, \"8\": {\"8\": 126, \"26\": 1, \"27\": 1}, \"102\": {\"102\": 104}, \"122\": {\"123\": 1, \"122\": 56, \"90\": 1, \"96\": 1, \"89\": 1}, \"36\": {\"36\": 110, \"27\": 4, \"24\": 1, \"98\": 1}, \"113\": {\"113\": 119, \"126\": 1}, \"123\": {\"123\": 16}, \"120\": {\"120\": 20}, \"125\": {\"125\": 108}, \"89\": {\"89\": 27, \"87\": 1}, \"9\": {\"9\": 32}, \"31\": {\"31\": 20}, \"62\": {\"62\": 112, \"26\": 1, \"110\": 1}, \"49\": {\"49\": 22, \"42\": 1, \"29\": 1}, \"23\": {\"23\": 21, \"52\": 1, \"73\": 1, \"70\": 1, \"64\": 2, \"26\": 2, \"19\": 1, \"60\": 1, \"21\": 2}, \"55\": {\"55\": 16}, \"128\": {\"128\": 32}, \"71\": {\"71\": 67, \"43\": 1}, \"51\": {\"51\": 16}, \"7\": {\"7\": 106}, \"117\": {\"117\": 104}, \"28\": {\"28\": 16}, \"127\": {\"127\": 127, \"17\": 1}, \"57\": {\"57\": 20}, \"78\": {\"78\": 13, \"122\": 1, \"54\": 1, \"116\": 1}, \"87\": {\"87\": 119, \"27\": 1}, \"40\": {\"40\": 127, \"23\": 1}, \"81\": {\"81\": 32}, \"2\": {\"2\": 24, \"117\": 1, \"26\": 1, \"39\": 2}, \"58\": {\"58\": 16}, \"68\": {\"68\": 15, \"101\": 1}, \"20\": {\"20\": 15, \"31\": 1}, \"35\": {\"35\": 12}, \"96\": {\"96\": 20}, \"84\": {\"84\": 108}, \"13\": {\"122\": 2, \"13\": 10, \"63\": 1, \"116\": 1, \"23\": 1, \"69\": 1}, \"64\": {\"64\": 20}, \"112\": {\"112\": 14, \"108\": 1, \"94\": 1}, \"103\": {\"103\": 16}, \"65\": {\"65\": 11, \"63\": 1}, \"118\": {\"118\": 100}, \"88\": {\"88\": 107, \"84\": 1, \"39\": 1, \"0\": 1, \"36\": 1, \"106\": 1}, \"85\": {\"85\": 36}, \"5\": {\"5\": 107, \"21\": 1, \"113\": 1, \"88\": 1, \"1\": 2}, \"93\": {\"93\": 137, \"90\": 1}, \"43\": {\"43\": 50, \"39\": 2, \"87\": 1, \"26\": 1, \"13\": 1, \"33\": 1}, \"67\": {\"67\": 15, \"19\": 1}, \"48\": {\"48\": 14, \"124\": 1, \"7\": 1}, \"73\": {\"73\": 38, \"78\": 1, \"62\": 1}, \"34\": {\"28\": 1, \"34\": 26, \"99\": 1, \"124\": 2, \"9\": 1, \"32\": 1}, \"91\": {\"91\": 22, \"28\": 1, \"21\": 1}, \"105\": {\"105\": 124}, \"10\": {\"10\": 103, \"32\": 1, \"39\": 1, \"4\": 1}, \"61\": {\"61\": 16}, \"74\": {\"74\": 15, \"82\": 1}, \"4\": {\"4\": 94, \"105\": 1, \"110\": 1}, \"37\": {\"37\": 16}, \"19\": {\"19\": 32}, \"44\": {\"44\": 72}, \"52\": {\"52\": 16}, \"92\": {\"92\": 32}, \"33\": {\"33\": 128}, \"45\": {\"45\": 16}, \"11\": {\"11\": 127, \"82\": 1}, \"129\": {\"129\": 30, \"110\": 2}, \"116\": {\"116\": 26, \"87\": 1, \"13\": 1}, \"75\": {\"75\": 16}, \"41\": {\"41\": 16}, \"21\": {\"21\": 46, \"101\": 1, \"3\": 1}, \"69\": {\"69\": 82, \"56\": 1, \"122\": 1}, \"16\": {\"16\": 107, \"21\": 1}, \"25\": {\"25\": 16}, \"12\": {\"12\": 103, \"7\": 1}, \"72\": {\"72\": 28}, \"0\": {\"0\": 115, \"26\": 1}, \"50\": {\"50\": 16}, \"107\": {\"107\": 140}, \"124\": {\"124\": 124}, \"53\": {\"53\": 18, \"85\": 1, \"127\": 1}, \"66\": {\"66\": 16}, \"47\": {\"47\": 12}, \"24\": {\"24\": 45, \"27\": 2, \"39\": 1}, \"95\": {\"95\": 31, \"23\": 1}, \"98\": {\"98\": 105, \"44\": 1}, \"63\": {\"63\": 16}, \"3\": {\"3\": 114, \"113\": 2}, \"14\": {\"14\": 80}, \"1\": {\"1\": 108}, \"38\": {\"38\": 16}, \"110\": {\"110\": 88, \"68\": 2, \"26\": 1, \"39\": 1}, \"17\": {\"67\": 1, \"17\": 8, \"82\": 1, \"40\": 2, \"23\": 1, \"65\": 2, \"78\": 1}, \"30\": {\"30\": 83, \"93\": 1}, \"56\": {\"56\": 11, \"75\": 1}, \"27\": {\"27\": 83, \"36\": 9, \"84\": 1, \"24\": 1, \"101\": 1, \"117\": 1}, \"104\": {\"104\": 16}, \"97\": {\"97\": 20}, \"42\": {\"42\": 21, \"25\": 1, \"108\": 2, \"112\": 4}, \"39\": {\"39\": 108}, \"70\": {\"70\": 71, \"101\": 1}, \"86\": {\"86\": 28}, \"119\": {\"119\": 16}, \"77\": {\"77\": 16}, \"59\": {\"59\": 12}, \"22\": {\"22\": 16}, \"79\": {\"79\": 12}, \"80\": {\"80\": 16}, \"111\": {\"111\": 129, \"82\": 1, \"124\": 1, \"5\": 1}, \"82\": {\"82\": 28}, \"126\": {\"126\": 121, \"39\": 1, \"21\": 1, \"122\": 1}, \"32\": {\"32\": 28, \"124\": 1, \"94\": 1, \"86\": 1, \"9\": 1}, \"106\": {\"106\": 98, \"116\": 1, \"39\": 1}, \"60\": {\"60\": 26, \"110\": 2}, \"114\": {\"114\": 106, \"107\": 1, \"39\": 1}}, \"ORACLE.run18\": {\"13\": {\"13\": 29, \"4\": 20, \"15\": 5, \"10\": 30, \"6\": 23, \"12\": 3, \"0\": 25, \"7\": 26, \"5\": 17, \"3\": 7, \"14\": 17, \"9\": 2, \"2\": 12, \"1\": 11, \"8\": 5, \"11\": 8}, \"9\": {\"9\": 163, \"0\": 24, \"13\": 14, \"10\": 16, \"14\": 4, \"7\": 4, \"5\": 8, \"6\": 3, \"4\": 4}, \"15\": {\"12\": 35, \"3\": 20, \"8\": 35, \"6\": 14, \"1\": 16, \"11\": 27, \"15\": 35, \"5\": 9, \"13\": 11, \"14\": 7, \"2\": 11, \"7\": 5, \"10\": 7, \"4\": 6, \"0\": 2}, \"2\": {\"12\": 6, \"13\": 20, \"3\": 30, \"8\": 6, \"2\": 47, \"14\": 18, \"6\": 15, \"0\": 33, \"10\": 14, \"5\": 7, \"7\": 19, \"1\": 3, \"4\": 14, \"11\": 6, \"15\": 2}, \"3\": {\"2\": 33, \"15\": 15, \"5\": 5, \"12\": 34, \"8\": 16, \"6\": 24, \"13\": 9, \"11\": 7, \"10\": 11, \"0\": 9, \"3\": 32, \"14\": 17, \"4\": 10, \"7\": 11, \"1\": 7}, \"8\": {\"15\": 34, \"11\": 25, \"5\": 9, \"12\": 34, \"8\": 38, \"7\": 8, \"1\": 38, \"14\": 7, \"3\": 13, \"13\": 7, \"2\": 8, \"6\": 8, \"0\": 1, \"4\": 7, \"10\": 3}, \"5\": {\"10\": 22, \"4\": 22, \"13\": 26, \"3\": 5, \"2\": 7, \"14\": 17, \"6\": 16, \"0\": 18, \"8\": 6, \"5\": 37, \"1\": 23, \"7\": 18, \"11\": 10, \"15\": 7, \"9\": 4, \"12\": 2}, \"14\": {\"0\": 17, \"4\": 18, \"14\": 23, \"6\": 24, \"10\": 27, \"11\": 17, \"2\": 8, \"5\": 24, \"13\": 24, \"7\": 28, \"15\": 6, \"8\": 6, \"1\": 9, \"3\": 7, \"9\": 2}, \"1\": {\"4\": 14, \"15\": 26, \"5\": 33, \"11\": 23, \"3\": 7, \"8\": 20, \"1\": 42, \"10\": 20, \"14\": 18, \"12\": 6, \"7\": 5, \"13\": 11, \"0\": 4, \"6\": 11}, \"0\": {\"7\": 26, \"0\": 35, \"3\": 8, \"10\": 29, \"2\": 24, \"6\": 25, \"4\": 15, \"5\": 14, \"13\": 23, \"14\": 29, \"15\": 4, \"8\": 2, \"9\": 1, \"12\": 1, \"1\": 2, \"11\": 2}, \"10\": {\"10\": 31, \"7\": 31, \"3\": 6, \"4\": 24, \"13\": 32, \"14\": 22, \"2\": 8, \"0\": 20, \"9\": 3, \"5\": 21, \"1\": 6, \"6\": 22, \"8\": 4, \"15\": 2, \"11\": 6, \"12\": 2}, \"6\": {\"13\": 22, \"2\": 11, \"10\": 30, \"11\": 7, \"4\": 23, \"14\": 19, \"0\": 14, \"1\": 14, \"7\": 22, \"3\": 16, \"5\": 13, \"12\": 9, \"6\": 20, \"8\": 11, \"15\": 9}, \"11\": {\"0\": 8, \"15\": 25, \"10\": 15, \"11\": 25, \"6\": 25, \"1\": 39, \"4\": 11, \"8\": 21, \"3\": 5, \"5\": 22, \"7\": 10, \"14\": 11, \"13\": 12, \"12\": 9, \"2\": 2}, \"7\": {\"3\": 24, \"13\": 18, \"7\": 24, \"10\": 15, \"2\": 16, \"14\": 17, \"6\": 29, \"1\": 9, \"4\": 22, \"8\": 8, \"5\": 20, \"0\": 23, \"15\": 4, \"11\": 5, \"12\": 6}, \"4\": {\"7\": 20, \"11\": 14, \"15\": 7, \"3\": 17, \"10\": 19, \"0\": 13, \"1\": 17, \"14\": 19, \"6\": 17, \"13\": 19, \"2\": 9, \"4\": 26, \"5\": 28, \"8\": 11, \"12\": 3, \"9\": 1}, \"12\": {\"2\": 14, \"4\": 9, \"15\": 40, \"8\": 32, \"12\": 40, \"6\": 13, \"11\": 17, \"7\": 11, \"3\": 21, \"0\": 4, \"1\": 15, \"13\": 7, \"5\": 8, \"14\": 7, \"10\": 2}}, \"ORACLE.run138\": {\"13\": {\"9\": 17, \"13\": 44, \"15\": 19, \"3\": 9, \"0\": 9, \"1\": 21, \"7\": 11, \"10\": 15, \"6\": 19, \"8\": 15, \"2\": 39, \"5\": 18, \"14\": 3, \"11\": 1}, \"12\": {\"4\": 52, \"0\": 4, \"12\": 117, \"10\": 15, \"8\": 2, \"7\": 7, \"14\": 22, \"11\": 20, \"5\": 1}, \"2\": {\"2\": 51, \"14\": 15, \"11\": 3, \"12\": 1, \"15\": 40, \"6\": 6, \"1\": 21, \"10\": 20, \"8\": 12, \"13\": 38, \"9\": 4, \"0\": 11, \"5\": 13, \"7\": 2, \"3\": 3}, \"9\": {\"6\": 52, \"9\": 46, \"7\": 5, \"3\": 48, \"1\": 33, \"0\": 6, \"13\": 11, \"8\": 14, \"5\": 15, \"2\": 3, \"15\": 7}, \"15\": {\"15\": 41, \"0\": 19, \"13\": 29, \"1\": 25, \"2\": 39, \"9\": 14, \"3\": 9, \"8\": 14, \"5\": 16, \"6\": 20, \"7\": 4, \"10\": 8, \"14\": 2}, \"5\": {\"0\": 22, \"13\": 15, \"7\": 14, \"8\": 34, \"1\": 15, \"15\": 23, \"5\": 38, \"3\": 22, \"9\": 16, \"6\": 18, \"2\": 12, \"14\": 3, \"10\": 7, \"12\": 1}, \"14\": {\"14\": 88, \"10\": 32, \"11\": 50, \"12\": 28, \"8\": 6, \"7\": 6, \"2\": 16, \"15\": 6, \"13\": 3, \"4\": 1, \"0\": 3, \"5\": 1}, \"0\": {\"7\": 32, \"1\": 8, \"11\": 3, \"15\": 19, \"13\": 15, \"3\": 17, \"8\": 32, \"6\": 7, \"0\": 37, \"5\": 24, \"2\": 9, \"9\": 6, \"10\": 22, \"12\": 4, \"14\": 4, \"4\": 1}, \"3\": {\"5\": 32, \"3\": 77, \"8\": 17, \"9\": 35, \"15\": 8, \"2\": 4, \"7\": 12, \"6\": 20, \"10\": 3, \"0\": 15, \"13\": 9, \"1\": 7, \"12\": 1}, \"1\": {\"9\": 29, \"1\": 69, \"6\": 37, \"15\": 22, \"13\": 18, \"2\": 26, \"8\": 7, \"3\": 10, \"5\": 13, \"10\": 1, \"14\": 2, \"0\": 4, \"7\": 2}, \"11\": {\"14\": 64, \"7\": 4, \"11\": 90, \"2\": 9, \"12\": 28, \"10\": 32, \"8\": 4, \"13\": 3, \"4\": 2, \"0\": 2, \"15\": 2}, \"7\": {\"7\": 61, \"0\": 36, \"5\": 22, \"14\": 9, \"15\": 10, \"8\": 26, \"10\": 35, \"3\": 15, \"2\": 3, \"6\": 2, \"11\": 4, \"13\": 8, \"12\": 7, \"4\": 2}, \"8\": {\"13\": 18, \"9\": 8, \"7\": 26, \"8\": 39, \"14\": 7, \"15\": 29, \"2\": 16, \"6\": 11, \"0\": 20, \"5\": 35, \"3\": 12, \"10\": 12, \"1\": 5, \"11\": 2}, \"4\": {\"4\": 156, \"12\": 63, \"11\": 14, \"0\": 1, \"10\": 3, \"14\": 2, \"7\": 1}, \"10\": {\"4\": 2, \"2\": 24, \"11\": 24, \"13\": 12, \"7\": 23, \"3\": 4, \"10\": 38, \"5\": 17, \"14\": 32, \"15\": 9, \"6\": 2, \"0\": 19, \"8\": 21, \"12\": 9, \"1\": 2, \"9\": 2}, \"6\": {\"1\": 37, \"15\": 18, \"3\": 25, \"5\": 28, \"9\": 45, \"6\": 45, \"13\": 18, \"2\": 7, \"8\": 10, \"0\": 3, \"7\": 2, \"10\": 2}}, \"ORACLE.run126\": {\"10\": {\"0\": 26, \"15\": 17, \"4\": 25, \"5\": 3, \"7\": 30, \"2\": 10, \"12\": 11, \"6\": 12, \"8\": 20, \"10\": 23, \"14\": 24, \"3\": 12, \"9\": 12, \"1\": 15}, \"12\": {\"2\": 12, \"6\": 30, \"13\": 10, \"12\": 62, \"14\": 6, \"15\": 24, \"5\": 5, \"11\": 14, \"10\": 12, \"1\": 4, \"8\": 6, \"9\": 18, \"3\": 8, \"7\": 9, \"0\": 14, \"4\": 6}, \"1\": {\"2\": 10, \"14\": 19, \"10\": 21, \"1\": 41, \"8\": 15, \"3\": 20, \"6\": 14, \"9\": 6, \"15\": 6, \"0\": 34, \"7\": 24, \"4\": 27, \"12\": 2, \"5\": 1}, \"0\": {\"2\": 16, \"8\": 26, \"1\": 34, \"3\": 12, \"6\": 14, \"0\": 26, \"10\": 21, \"12\": 8, \"4\": 21, \"7\": 26, \"9\": 9, \"15\": 8, \"14\": 16, \"11\": 1, \"5\": 2}, \"15\": {\"8\": 25, \"15\": 26, \"3\": 13, \"2\": 25, \"10\": 13, \"12\": 20, \"9\": 23, \"5\": 16, \"13\": 12, \"4\": 9, \"1\": 5, \"7\": 13, \"14\": 5, \"6\": 17, \"0\": 13, \"11\": 5}, \"13\": {\"12\": 20, \"5\": 50, \"13\": 49, \"0\": 2, \"15\": 19, \"9\": 28, \"11\": 18, \"7\": 7, \"10\": 4, \"3\": 8, \"2\": 23, \"6\": 12}, \"8\": {\"2\": 22, \"3\": 16, \"0\": 18, \"1\": 18, \"6\": 24, \"15\": 23, \"4\": 19, \"10\": 14, \"9\": 15, \"14\": 12, \"8\": 19, \"7\": 20, \"12\": 10, \"13\": 7, \"5\": 2, \"11\": 1}, \"3\": {\"5\": 15, \"2\": 17, \"10\": 19, \"3\": 33, \"4\": 10, \"14\": 10, \"7\": 20, \"6\": 13, \"9\": 22, \"8\": 22, \"13\": 7, \"15\": 16, \"12\": 11, \"1\": 15, \"11\": 3, \"0\": 7}, \"11\": {\"11\": 82, \"15\": 14, \"9\": 13, \"13\": 39, \"5\": 22, \"12\": 47, \"7\": 2, \"2\": 6, \"6\": 8, \"8\": 3, \"3\": 2, \"10\": 2}, \"4\": {\"1\": 20, \"2\": 15, \"10\": 18, \"14\": 28, \"6\": 19, \"7\": 26, \"4\": 25, \"0\": 21, \"12\": 7, \"3\": 13, \"15\": 12, \"8\": 20, \"9\": 13, \"13\": 1, \"5\": 1, \"11\": 1}, \"6\": {\"6\": 29, \"8\": 13, \"12\": 34, \"4\": 15, \"13\": 9, \"1\": 9, \"9\": 16, \"3\": 9, \"2\": 16, \"5\": 10, \"15\": 25, \"14\": 12, \"0\": 12, \"7\": 11, \"10\": 18, \"11\": 2}, \"7\": {\"7\": 25, \"8\": 29, \"10\": 25, \"3\": 16, \"4\": 18, \"1\": 19, \"2\": 20, \"14\": 21, \"12\": 4, \"6\": 16, \"15\": 12, \"9\": 14, \"0\": 9, \"5\": 8, \"13\": 4}, \"14\": {\"1\": 30, \"8\": 16, \"4\": 23, \"12\": 7, \"3\": 10, \"14\": 32, \"7\": 25, \"6\": 16, \"0\": 31, \"15\": 7, \"10\": 34, \"9\": 2, \"2\": 6, \"5\": 1}, \"2\": {\"3\": 28, \"2\": 21, \"1\": 7, \"4\": 6, \"6\": 15, \"15\": 20, \"7\": 31, \"9\": 30, \"14\": 10, \"10\": 20, \"0\": 8, \"5\": 18, \"13\": 9, \"12\": 5, \"8\": 11, \"11\": 1}, \"5\": {\"3\": 21, \"5\": 45, \"11\": 12, \"6\": 18, \"13\": 31, \"0\": 2, \"8\": 13, \"2\": 19, \"15\": 16, \"9\": 32, \"7\": 7, \"12\": 11, \"4\": 2, \"10\": 4, \"1\": 4, \"14\": 3}, \"9\": {\"5\": 21, \"2\": 36, \"0\": 8, \"12\": 14, \"7\": 12, \"6\": 22, \"3\": 12, \"4\": 5, \"9\": 29, \"13\": 14, \"14\": 4, \"15\": 35, \"10\": 8, \"1\": 5, \"8\": 12, \"11\": 3}}, \"ORACLE.run120\": {\"5\": {\"12\": 16, \"5\": 19, \"6\": 12, \"0\": 15, \"7\": 16, \"2\": 20, \"8\": 13, \"4\": 12, \"13\": 14, \"15\": 13, \"3\": 25, \"1\": 35, \"14\": 3, \"9\": 17, \"10\": 3, \"11\": 7}, \"15\": {\"15\": 17, \"13\": 27, \"12\": 17, \"11\": 8, \"7\": 19, \"0\": 18, \"2\": 27, \"9\": 21, \"3\": 18, \"1\": 21, \"5\": 25, \"4\": 6, \"14\": 4, \"8\": 8, \"10\": 2, \"6\": 2}, \"9\": {\"3\": 22, \"15\": 17, \"8\": 15, \"12\": 25, \"0\": 18, \"6\": 7, \"13\": 14, \"2\": 25, \"7\": 22, \"1\": 23, \"11\": 8, \"10\": 7, \"5\": 13, \"14\": 3, \"9\": 18, \"4\": 3}, \"7\": {\"8\": 14, \"12\": 17, \"13\": 11, \"5\": 22, \"1\": 19, \"2\": 19, \"0\": 15, \"7\": 19, \"11\": 6, \"10\": 8, \"14\": 11, \"3\": 21, \"9\": 20, \"6\": 15, \"15\": 15, \"4\": 8}, \"3\": {\"13\": 18, \"4\": 13, \"15\": 18, \"7\": 18, \"3\": 20, \"5\": 23, \"6\": 13, \"12\": 21, \"2\": 21, \"0\": 19, \"9\": 9, \"1\": 15, \"11\": 4, \"10\": 14, \"8\": 11, \"14\": 3}, \"8\": {\"15\": 10, \"10\": 30, \"8\": 21, \"4\": 32, \"6\": 27, \"14\": 14, \"2\": 13, \"12\": 14, \"3\": 16, \"7\": 16, \"11\": 2, \"9\": 10, \"0\": 8, \"1\": 11, \"5\": 9, \"13\": 7}, \"4\": {\"4\": 26, \"7\": 23, \"13\": 4, \"15\": 7, \"10\": 28, \"3\": 15, \"6\": 20, \"8\": 25, \"5\": 16, \"1\": 8, \"2\": 11, \"14\": 24, \"9\": 6, \"0\": 10, \"12\": 15, \"11\": 2}, \"6\": {\"15\": 6, \"2\": 18, \"1\": 10, \"13\": 5, \"14\": 27, \"6\": 26, \"8\": 24, \"12\": 22, \"10\": 17, \"0\": 11, \"5\": 13, \"3\": 5, \"4\": 25, \"7\": 24, \"9\": 7}, \"2\": {\"3\": 19, \"13\": 21, \"11\": 13, \"1\": 18, \"9\": 23, \"7\": 18, \"2\": 23, \"8\": 13, \"5\": 24, \"12\": 18, \"15\": 16, \"0\": 14, \"4\": 12, \"14\": 2, \"6\": 5, \"10\": 1}, \"12\": {\"7\": 16, \"15\": 23, \"4\": 7, \"0\": 15, \"2\": 18, \"8\": 16, \"12\": 10, \"13\": 16, \"3\": 20, \"1\": 32, \"5\": 19, \"9\": 17, \"11\": 8, \"10\": 11, \"6\": 11, \"14\": 1}, \"0\": {\"12\": 21, \"15\": 21, \"9\": 17, \"5\": 20, \"3\": 21, \"8\": 14, \"4\": 13, \"13\": 17, \"1\": 18, \"11\": 13, \"7\": 17, \"0\": 18, \"2\": 14, \"14\": 4, \"10\": 5, \"6\": 7}, \"13\": {\"15\": 20, \"9\": 21, \"0\": 31, \"2\": 19, \"13\": 31, \"8\": 6, \"5\": 21, \"1\": 23, \"4\": 2, \"11\": 28, \"3\": 10, \"12\": 17, \"6\": 3, \"7\": 6, \"14\": 2}, \"10\": {\"7\": 15, \"4\": 33, \"6\": 31, \"3\": 12, \"10\": 36, \"8\": 37, \"2\": 10, \"14\": 35, \"5\": 11, \"15\": 6, \"12\": 4, \"1\": 2, \"9\": 5, \"13\": 1, \"0\": 2}, \"11\": {\"15\": 19, \"3\": 10, \"6\": 8, \"11\": 53, \"0\": 14, \"9\": 29, \"2\": 34, \"12\": 16, \"7\": 8, \"8\": 4, \"13\": 27, \"1\": 5, \"5\": 10, \"4\": 2, \"14\": 1}, \"14\": {\"14\": 36, \"8\": 35, \"15\": 2, \"7\": 17, \"10\": 36, \"4\": 25, \"2\": 9, \"0\": 6, \"6\": 32, \"12\": 9, \"5\": 12, \"13\": 1, \"3\": 9, \"9\": 5, \"1\": 6}, \"1\": {\"13\": 12, \"7\": 18, \"5\": 21, \"4\": 4, \"0\": 25, \"15\": 18, \"12\": 25, \"9\": 14, \"11\": 8, \"2\": 19, \"1\": 24, \"6\": 8, \"10\": 6, \"3\": 27, \"14\": 4, \"8\": 7}}, \"ORACLE.run150\": {\"1\": {\"15\": 25, \"9\": 11, \"6\": 28, \"4\": 25, \"10\": 14, \"11\": 17, \"5\": 16, \"1\": 34, \"0\": 8, \"7\": 12, \"12\": 5, \"13\": 21, \"14\": 11, \"2\": 5, \"8\": 5, \"3\": 3}, \"2\": {\"14\": 31, \"2\": 87, \"0\": 47, \"12\": 22, \"10\": 13, \"8\": 18, \"7\": 1, \"11\": 1, \"1\": 5, \"9\": 4, \"15\": 4, \"5\": 5, \"3\": 2}, \"8\": {\"8\": 73, \"3\": 37, \"7\": 14, \"13\": 5, \"0\": 42, \"10\": 32, \"14\": 6, \"2\": 16, \"1\": 7, \"6\": 3, \"5\": 3, \"4\": 1, \"9\": 1}, \"7\": {\"8\": 10, \"1\": 20, \"13\": 31, \"6\": 17, \"5\": 41, \"9\": 3, \"0\": 11, \"3\": 14, \"11\": 9, \"15\": 17, \"7\": 36, \"4\": 13, \"14\": 3, \"10\": 15}, \"14\": {\"2\": 32, \"14\": 51, \"9\": 24, \"0\": 28, \"10\": 8, \"12\": 49, \"11\": 16, \"1\": 9, \"4\": 3, \"6\": 6, \"15\": 4, \"8\": 4, \"13\": 3, \"3\": 1, \"5\": 2}, \"6\": {\"1\": 28, \"15\": 28, \"7\": 30, \"13\": 29, \"10\": 18, \"3\": 9, \"6\": 23, \"5\": 22, \"4\": 16, \"11\": 14, \"0\": 10, \"14\": 6, \"8\": 3, \"9\": 2, \"12\": 1, \"2\": 1}, \"3\": {\"3\": 104, \"8\": 49, \"10\": 25, \"13\": 9, \"7\": 17, \"15\": 1, \"5\": 17, \"0\": 4, \"6\": 4, \"2\": 3, \"1\": 2, \"4\": 5}, \"4\": {\"1\": 27, \"15\": 33, \"10\": 10, \"11\": 19, \"4\": 30, \"9\": 11, \"2\": 2, \"0\": 2, \"7\": 24, \"14\": 10, \"13\": 22, \"5\": 28, \"3\": 5, \"8\": 6, \"6\": 10, \"12\": 1}, \"12\": {\"14\": 56, \"5\": 1, \"12\": 63, \"9\": 33, \"6\": 1, \"2\": 27, \"11\": 21, \"0\": 17, \"8\": 3, \"13\": 3, \"10\": 4, \"1\": 6, \"15\": 3, \"7\": 1, \"4\": 1}, \"15\": {\"9\": 15, \"11\": 24, \"6\": 16, \"1\": 33, \"7\": 20, \"0\": 2, \"14\": 6, \"15\": 32, \"4\": 34, \"13\": 28, \"12\": 4, \"5\": 17, \"10\": 6, \"8\": 2, \"2\": 1}, \"11\": {\"14\": 20, \"5\": 12, \"1\": 29, \"7\": 10, \"9\": 42, \"11\": 51, \"0\": 7, \"4\": 14, \"15\": 10, \"13\": 13, \"2\": 3, \"12\": 10, \"6\": 12, \"10\": 5, \"3\": 1, \"8\": 1}, \"0\": {\"14\": 21, \"10\": 34, \"4\": 2, \"8\": 40, \"0\": 54, \"2\": 38, \"1\": 9, \"11\": 5, \"3\": 9, \"9\": 7, \"13\": 7, \"12\": 5, \"7\": 4, \"5\": 2, \"6\": 1, \"15\": 2}, \"9\": {\"11\": 50, \"9\": 50, \"14\": 17, \"12\": 26, \"15\": 16, \"6\": 7, \"7\": 10, \"1\": 27, \"4\": 11, \"13\": 6, \"3\": 1, \"0\": 8, \"10\": 3, \"5\": 3, \"2\": 3, \"8\": 2}, \"10\": {\"8\": 42, \"13\": 20, \"9\": 2, \"3\": 15, \"10\": 34, \"1\": 14, \"4\": 15, \"0\": 25, \"14\": 8, \"7\": 16, \"5\": 15, \"2\": 12, \"6\": 13, \"15\": 5, \"11\": 4}, \"5\": {\"15\": 28, \"4\": 25, \"7\": 25, \"6\": 29, \"13\": 28, \"5\": 44, \"3\": 11, \"11\": 8, \"8\": 4, \"1\": 16, \"0\": 1, \"10\": 12, \"9\": 4, \"14\": 4, \"12\": 1}, \"13\": {\"10\": 19, \"11\": 13, \"7\": 30, \"1\": 26, \"9\": 5, \"4\": 12, \"8\": 14, \"5\": 32, \"15\": 25, \"13\": 25, \"2\": 1, \"0\": 3, \"3\": 13, \"6\": 18, \"14\": 4}}, \"ORACLE.run132\": {\"2\": {\"11\": 18, \"12\": 11, \"0\": 21, \"7\": 24, \"2\": 48, \"9\": 22, \"14\": 19, \"13\": 9, \"4\": 44, \"5\": 15, \"8\": 7, \"10\": 1, \"6\": 1}, \"6\": {\"6\": 145, \"1\": 29, \"9\": 29, \"10\": 8, \"12\": 25, \"2\": 4}, \"5\": {\"2\": 20, \"5\": 32, \"4\": 25, \"8\": 23, \"7\": 18, \"13\": 31, \"3\": 20, \"14\": 17, \"11\": 19, \"0\": 28, \"12\": 2, \"9\": 5}, \"12\": {\"0\": 6, \"10\": 43, \"6\": 8, \"12\": 82, \"4\": 6, \"9\": 55, \"1\": 25, \"13\": 6, \"5\": 1, \"2\": 6, \"7\": 2}, \"13\": {\"8\": 39, \"14\": 14, \"13\": 35, \"3\": 35, \"0\": 28, \"5\": 35, \"11\": 5, \"12\": 7, \"9\": 9, \"7\": 11, \"4\": 14, \"2\": 7, \"15\": 1}, \"9\": {\"10\": 9, \"9\": 72, \"1\": 5, \"6\": 17, \"0\": 19, \"12\": 42, \"2\": 27, \"7\": 12, \"5\": 8, \"14\": 6, \"4\": 15, \"13\": 3, \"11\": 3, \"8\": 2}, \"11\": {\"5\": 24, \"8\": 11, \"11\": 42, \"7\": 34, \"14\": 51, \"13\": 7, \"4\": 18, \"2\": 21, \"0\": 23, \"3\": 8, \"9\": 1}, \"1\": {\"1\": 136, \"12\": 13, \"10\": 77, \"6\": 14}, \"3\": {\"8\": 53, \"3\": 70, \"13\": 38, \"5\": 29, \"0\": 10, \"4\": 9, \"14\": 7, \"15\": 7, \"11\": 6, \"7\": 8, \"2\": 1, \"9\": 1, \"12\": 1}, \"7\": {\"4\": 26, \"14\": 27, \"2\": 37, \"5\": 18, \"7\": 31, \"11\": 36, \"0\": 22, \"8\": 10, \"13\": 16, \"9\": 11, \"3\": 4, \"12\": 2}, \"14\": {\"14\": 44, \"7\": 33, \"11\": 35, \"9\": 7, \"5\": 20, \"4\": 26, \"13\": 8, \"2\": 28, \"8\": 8, \"0\": 25, \"3\": 5, \"12\": 1}, \"8\": {\"0\": 23, \"13\": 32, \"11\": 6, \"4\": 17, \"5\": 22, \"3\": 57, \"8\": 41, \"12\": 3, \"2\": 9, \"15\": 3, \"7\": 9, \"14\": 14, \"9\": 4}, \"4\": {\"0\": 24, \"2\": 31, \"13\": 20, \"4\": 33, \"9\": 19, \"7\": 37, \"12\": 2, \"11\": 17, \"5\": 20, \"14\": 12, \"8\": 15, \"6\": 4, \"3\": 4, \"10\": 2}, \"0\": {\"5\": 23, \"4\": 20, \"11\": 22, \"7\": 22, \"8\": 24, \"0\": 32, \"13\": 24, \"2\": 20, \"14\": 13, \"3\": 18, \"9\": 13, \"12\": 9}, \"10\": {\"12\": 42, \"10\": 134, \"1\": 56, \"9\": 6, \"6\": 2}, \"15\": {\"15\": 207, \"3\": 21, \"8\": 4, \"11\": 1, \"13\": 6, \"5\": 1}}, \"ORACLE.run144\": {\"13\": {\"6\": 30, \"13\": 46, \"11\": 34, \"7\": 40, \"12\": 4, \"9\": 29, \"2\": 27, \"10\": 12, \"1\": 8, \"3\": 1, \"14\": 4, \"5\": 2, \"4\": 2, \"0\": 1}, \"4\": {\"4\": 48, \"14\": 53, \"0\": 12, \"5\": 41, \"13\": 11, \"3\": 13, \"7\": 7, \"1\": 9, \"8\": 4, \"9\": 14, \"10\": 1, \"15\": 18, \"2\": 4, \"11\": 2, \"6\": 2, \"12\": 1}, \"6\": {\"13\": 46, \"7\": 25, \"6\": 48, \"9\": 30, \"11\": 55, \"2\": 17, \"10\": 12, \"12\": 2, \"4\": 2, \"3\": 2, \"1\": 1}, \"0\": {\"0\": 71, \"15\": 51, \"14\": 21, \"8\": 65, \"5\": 29, \"4\": 3}, \"10\": {\"4\": 4, \"1\": 27, \"13\": 11, \"3\": 12, \"12\": 25, \"6\": 14, \"9\": 26, \"7\": 28, \"2\": 44, \"10\": 47, \"11\": 1, \"5\": 1}, \"7\": {\"2\": 40, \"9\": 41, \"13\": 27, \"11\": 8, \"4\": 6, \"12\": 12, \"10\": 23, \"7\": 30, \"1\": 16, \"5\": 2, \"14\": 5, \"6\": 20, \"3\": 10}, \"14\": {\"0\": 21, \"14\": 60, \"15\": 21, \"5\": 37, \"2\": 1, \"3\": 16, \"12\": 1, \"4\": 51, \"7\": 3, \"8\": 9, \"9\": 6, \"6\": 1, \"1\": 10, \"13\": 3}, \"15\": {\"15\": 49, \"8\": 55, \"4\": 17, \"14\": 31, \"0\": 50, \"5\": 30, \"1\": 1, \"3\": 7}, \"5\": {\"4\": 32, \"15\": 29, \"0\": 31, \"5\": 58, \"3\": 9, \"14\": 48, \"8\": 24, \"7\": 2, \"9\": 5, \"1\": 2}, \"2\": {\"10\": 37, \"9\": 33, \"2\": 41, \"1\": 17, \"13\": 19, \"12\": 19, \"6\": 24, \"11\": 13, \"7\": 29, \"3\": 3, \"4\": 3, \"5\": 1, \"14\": 1}, \"9\": {\"13\": 36, \"1\": 17, \"7\": 38, \"2\": 34, \"9\": 38, \"12\": 5, \"6\": 16, \"10\": 18, \"3\": 10, \"5\": 4, \"4\": 11, \"11\": 9, \"14\": 4}, \"12\": {\"3\": 35, \"1\": 37, \"14\": 2, \"12\": 55, \"10\": 46, \"7\": 19, \"2\": 19, \"13\": 6, \"4\": 9, \"9\": 7, \"6\": 3, \"5\": 2}, \"8\": {\"0\": 67, \"8\": 83, \"15\": 46, \"14\": 16, \"5\": 21, \"4\": 5, \"3\": 1, \"9\": 1}, \"3\": {\"14\": 15, \"3\": 68, \"12\": 42, \"2\": 3, \"1\": 64, \"7\": 13, \"9\": 6, \"10\": 6, \"13\": 1, \"15\": 5, \"4\": 12, \"5\": 4, \"0\": 1}, \"1\": {\"12\": 44, \"1\": 56, \"3\": 43, \"9\": 16, \"14\": 3, \"7\": 18, \"10\": 22, \"13\": 5, \"2\": 18, \"4\": 8, \"5\": 2, \"15\": 2, \"6\": 2, \"11\": 1}, \"11\": {\"2\": 13, \"9\": 14, \"6\": 49, \"11\": 96, \"7\": 19, \"13\": 42, \"10\": 7}}, \"ORACLE.run114\": {\"1\": {\"5\": 18, \"10\": 12, \"3\": 27, \"0\": 18, \"8\": 10, \"13\": 5, \"1\": 29, \"7\": 36, \"11\": 6, \"2\": 8, \"14\": 3, \"4\": 34, \"15\": 16, \"9\": 12, \"12\": 5, \"6\": 1}, \"15\": {\"5\": 23, \"4\": 29, \"1\": 27, \"11\": 1, \"2\": 6, \"7\": 43, \"15\": 69, \"6\": 8, \"3\": 8, \"14\": 4, \"13\": 15, \"0\": 4, \"10\": 1, \"8\": 2}, \"10\": {\"14\": 18, \"3\": 28, \"10\": 33, \"0\": 28, \"2\": 20, \"4\": 18, \"6\": 17, \"13\": 19, \"11\": 16, \"12\": 1, \"15\": 6, \"1\": 12, \"5\": 15, \"9\": 7, \"7\": 2}, \"2\": {\"5\": 20, \"2\": 36, \"10\": 26, \"0\": 11, \"6\": 24, \"1\": 14, \"14\": 29, \"7\": 5, \"13\": 19, \"3\": 26, \"4\": 10, \"15\": 10, \"11\": 7, \"9\": 1, \"12\": 2}, \"9\": {\"9\": 60, \"10\": 9, \"8\": 15, \"11\": 23, \"12\": 56, \"4\": 15, \"3\": 11, \"0\": 24, \"5\": 9, \"7\": 4, \"1\": 11, \"2\": 2, \"13\": 1}, \"5\": {\"1\": 22, \"3\": 35, \"5\": 34, \"15\": 21, \"13\": 10, \"11\": 8, \"4\": 32, \"2\": 16, \"14\": 12, \"7\": 21, \"9\": 3, \"0\": 12, \"10\": 11, \"6\": 2, \"8\": 1}, \"7\": {\"1\": 36, \"15\": 47, \"7\": 50, \"4\": 25, \"5\": 24, \"3\": 16, \"2\": 7, \"13\": 7, \"14\": 2, \"8\": 9, \"10\": 6, \"9\": 5, \"11\": 2, \"0\": 2, \"6\": 1, \"12\": 1}, \"13\": {\"2\": 25, \"6\": 42, \"10\": 24, \"0\": 8, \"3\": 11, \"13\": 50, \"14\": 29, \"4\": 9, \"15\": 14, \"1\": 4, \"5\": 12, \"9\": 2, \"11\": 8, \"7\": 2}, \"8\": {\"5\": 12, \"8\": 85, \"1\": 34, \"15\": 9, \"9\": 38, \"4\": 8, \"12\": 19, \"7\": 23, \"11\": 3, \"3\": 6, \"0\": 3}, \"6\": {\"6\": 43, \"10\": 25, \"2\": 26, \"15\": 11, \"13\": 49, \"11\": 8, \"14\": 39, \"3\": 14, \"5\": 9, \"0\": 5, \"9\": 1, \"4\": 8, \"1\": 1, \"7\": 1}, \"3\": {\"10\": 32, \"4\": 28, \"13\": 8, \"11\": 21, \"0\": 22, \"6\": 10, \"5\": 25, \"3\": 24, \"14\": 12, \"12\": 10, \"9\": 10, \"7\": 4, \"1\": 13, \"2\": 18, \"15\": 3}, \"12\": {\"0\": 13, \"12\": 84, \"10\": 9, \"9\": 77, \"4\": 7, \"1\": 7, \"11\": 15, \"3\": 12, \"8\": 12, \"5\": 4}, \"0\": {\"4\": 14, \"3\": 30, \"10\": 29, \"2\": 12, \"0\": 32, \"11\": 29, \"5\": 18, \"14\": 14, \"12\": 11, \"15\": 6, \"13\": 4, \"9\": 21, \"1\": 11, \"7\": 5, \"6\": 4}, \"4\": {\"5\": 27, \"4\": 29, \"3\": 29, \"7\": 14, \"2\": 17, \"15\": 19, \"11\": 12, \"1\": 21, \"13\": 12, \"0\": 19, \"6\": 5, \"14\": 7, \"9\": 5, \"10\": 17, \"8\": 5, \"12\": 2}, \"14\": {\"6\": 33, \"2\": 29, \"13\": 30, \"11\": 17, \"10\": 27, \"3\": 23, \"4\": 13, \"14\": 35, \"5\": 11, \"1\": 3, \"0\": 9, \"15\": 6, \"12\": 2, \"9\": 1, \"7\": 1}, \"11\": {\"2\": 18, \"9\": 13, \"3\": 27, \"14\": 19, \"10\": 31, \"6\": 10, \"11\": 37, \"4\": 9, \"0\": 38, \"13\": 7, \"15\": 2, \"1\": 9, \"5\": 7, \"12\": 13}}}, \"per_domain_accuracy\": {\"Wisig_2\": {\"accuracy\": 0.9553571428571429, \"source?\": true}, \"Wisig_4\": {\"accuracy\": 0.9492026748971193, \"source?\": true}, \"Wisig_1\": {\"accuracy\": 0.9736702127659574, \"source?\": true}, \"Wisig_3\": {\"accuracy\": 0.9754955947136564, \"source?\": true}, \"ORACLE.run18\": {\"accuracy\": 0.16848958333333333, \"source?\": false}, \"ORACLE.run138\": {\"accuracy\": 0.27005208333333336, \"source?\": false}, \"ORACLE.run126\": {\"accuracy\": 0.14765625, \"source?\": false}, \"ORACLE.run120\": {\"accuracy\": 0.10338541666666666, \"source?\": false}, \"ORACLE.run150\": {\"accuracy\": 0.20598958333333334, \"source?\": false}, \"ORACLE.run132\": {\"accuracy\": 0.30833333333333335, \"source?\": false}, \"ORACLE.run144\": {\"accuracy\": 0.2328125, \"source?\": false}, \"ORACLE.run114\": {\"accuracy\": 0.19010416666666666, \"source?\": false}}}, \"history\": {\"epoch_indices\": [1, 2, 3, 4, 5], \"train_label_loss\": [0.19477010878220616, 0.12387866539206145, 0.0998002143564727, 0.08247081134074744, 0.0676001530255232], \"source_val_label_loss\": [0.15843920409679413, 0.12279672175645828, 0.11025388538837433, 0.11231507360935211, 0.1136174127459526], \"target_val_label_loss\": [2.496994972229004, 2.639556407928467, 2.67288875579834, 2.819730281829834, 2.960611343383789], \"source_val_acc_label\": [0.9631826617179216, 0.9708708907741251, 0.9743173382820784, 0.9747481442205727, 0.9748144220572641], \"target_val_acc_label\": [0.20335286458333332, 0.1525390625, 0.13889973958333332, 0.12776692708333334, 0.11754557291666666]}, \"dataset_metrics\": {\"source\": {\"train\": {\"n_unique_x\": 189012, \"n_unique_y\": 130, \"n_batch/episode\": 6843}, \"val\": {\"n_unique_x\": 40019, \"n_unique_y\": 130, \"n_batch/episode\": 943}, \"test\": {\"n_unique_x\": 40738, \"n_unique_y\": 130, \"n_batch/episode\": 960}}, \"target\": {\"train\": {\"n_unique_x\": 179200, \"n_unique_y\": 16, \"n_batch/episode\": 6720}, \"val\": {\"n_unique_x\": 38400, \"n_unique_y\": 16, \"n_batch/episode\": 960}, \"test\": {\"n_unique_x\": 38400, \"n_unique_y\": 16, \"n_batch/episode\": 960}}}}'"
      ]
     },
     "execution_count": 29,
     "metadata": {},
     "output_type": "execute_result"
    }
   ],
   "source": [
    "json.dumps(experiment)"
   ]
  }
 ],
 "metadata": {
  "celltoolbar": "Tags",
  "kernelspec": {
   "display_name": "Python 3 (ipykernel)",
   "language": "python",
   "name": "python3"
  },
  "language_info": {
   "codemirror_mode": {
    "name": "ipython",
    "version": 3
   },
   "file_extension": ".py",
   "mimetype": "text/x-python",
   "name": "python",
   "nbconvert_exporter": "python",
   "pygments_lexer": "ipython3",
   "version": "3.8.12"
  },
  "papermill": {
   "default_parameters": {},
   "duration": 1570.651769,
   "end_time": "2022-03-21T10:55:47.441251",
   "environment_variables": {},
   "exception": null,
   "input_path": "/root/csc500-main/csc500-notebooks/templates/tl_ptn_template.ipynb",
   "output_path": "trial.ipynb",
   "parameters": {
    "parameters": {
     "BEST_MODEL_PATH": "./best_model.pth",
     "NUM_LOGS_PER_EPOCH": 10,
     "criteria_for_best": "target_accuracy",
     "dataset_seed": 154325,
     "datasets": [
      {
       "domain_prefix": "Wisig_",
       "domains": [
        1,
        2,
        3,
        4
       ],
       "episode_transforms": [],
       "labels": [
        "1-10",
        "1-12",
        "1-14",
        "1-16",
        "1-18",
        "1-19",
        "1-8",
        "10-11",
        "10-17",
        "10-4",
        "10-7",
        "11-1",
        "11-10",
        "11-19",
        "11-20",
        "11-4",
        "11-7",
        "12-19",
        "12-20",
        "12-7",
        "13-14",
        "13-18",
        "13-19",
        "13-20",
        "13-3",
        "13-7",
        "14-10",
        "14-11",
        "14-12",
        "14-13",
        "14-14",
        "14-19",
        "14-20",
        "14-7",
        "14-8",
        "14-9",
        "15-1",
        "15-19",
        "15-6",
        "16-1",
        "16-16",
        "16-19",
        "16-20",
        "17-10",
        "17-11",
        "18-1",
        "18-10",
        "18-11",
        "18-12",
        "18-13",
        "18-14",
        "18-15",
        "18-16",
        "18-17",
        "18-19",
        "18-2",
        "18-20",
        "18-4",
        "18-5",
        "18-7",
        "18-8",
        "18-9",
        "19-1",
        "19-10",
        "19-11",
        "19-12",
        "19-13",
        "19-14",
        "19-15",
        "19-19",
        "19-2",
        "19-20",
        "19-3",
        "19-4",
        "19-6",
        "19-7",
        "19-8",
        "19-9",
        "2-1",
        "2-13",
        "2-15",
        "2-3",
        "2-4",
        "2-5",
        "2-6",
        "2-7",
        "2-8",
        "20-1",
        "20-12",
        "20-14",
        "20-15",
        "20-16",
        "20-18",
        "20-19",
        "20-20",
        "20-3",
        "20-4",
        "20-5",
        "20-7",
        "20-8",
        "3-1",
        "3-13",
        "3-18",
        "3-2",
        "3-8",
        "4-1",
        "4-10",
        "4-11",
        "5-1",
        "5-5",
        "6-1",
        "6-15",
        "6-6",
        "7-10",
        "7-11",
        "7-12",
        "7-13",
        "7-14",
        "7-7",
        "7-8",
        "7-9",
        "8-1",
        "8-13",
        "8-14",
        "8-18",
        "8-20",
        "8-3",
        "8-8",
        "9-1",
        "9-7"
       ],
       "num_examples_per_domain_per_label": -1,
       "pickle_path": "/root/csc500-main/datasets/wisig.node3-19.stratified_ds.2022A.pkl",
       "source_or_target_dataset": "source",
       "x_transforms": [
        "unit_power"
       ]
      },
      {
       "domain_prefix": "ORACLE.run1",
       "domains": [
        32,
        38,
        8,
        44,
        14,
        50,
        20,
        26
       ],
       "episode_transforms": [],
       "labels": [
        "3123D52",
        "3123D65",
        "3123D79",
        "3123D80",
        "3123D54",
        "3123D70",
        "3123D7B",
        "3123D89",
        "3123D58",
        "3123D76",
        "3123D7D",
        "3123EFE",
        "3123D64",
        "3123D78",
        "3123D7E",
        "3124E4A"
       ],
       "num_examples_per_domain_per_label": 2000,
       "pickle_path": "/root/csc500-main/datasets/oracle.Run1_framed_2000Examples_stratified_ds.2022A.pkl",
       "source_or_target_dataset": "target",
       "x_transforms": [
        "unit_power"
       ]
      }
     ],
     "device": "cuda",
     "experiment_name": "tl_1v2:wisig-oracle.run1.framed",
     "lr": 0.0001,
     "n_epoch": 50,
     "n_query": 2,
     "n_shot": 3,
     "n_way": 16,
     "patience": 3,
     "seed": 154325,
     "test_k_factor": 2,
     "torch_default_dtype": "torch.float32",
     "train_k_factor": 3,
     "val_k_factor": 2,
     "x_net": [
      {
       "class": "nnReshape",
       "kargs": {
        "shape": [
         -1,
         1,
         2,
         256
        ]
       }
      },
      {
       "class": "Conv2d",
       "kargs": {
        "bias": false,
        "in_channels": 1,
        "kernel_size": [
         1,
         7
        ],
        "out_channels": 256,
        "padding": [
         0,
         3
        ]
       }
      },
      {
       "class": "ReLU",
       "kargs": {
        "inplace": true
       }
      },
      {
       "class": "BatchNorm2d",
       "kargs": {
        "num_features": 256
       }
      },
      {
       "class": "Conv2d",
       "kargs": {
        "bias": true,
        "in_channels": 256,
        "kernel_size": [
         2,
         7
        ],
        "out_channels": 80,
        "padding": [
         0,
         3
        ]
       }
      },
      {
       "class": "ReLU",
       "kargs": {
        "inplace": true
       }
      },
      {
       "class": "BatchNorm2d",
       "kargs": {
        "num_features": 80
       }
      },
      {
       "class": "Flatten",
       "kargs": {}
      },
      {
       "class": "Linear",
       "kargs": {
        "in_features": 20480,
        "out_features": 256
       }
      },
      {
       "class": "ReLU",
       "kargs": {
        "inplace": true
       }
      },
      {
       "class": "BatchNorm1d",
       "kargs": {
        "num_features": 256
       }
      },
      {
       "class": "Linear",
       "kargs": {
        "in_features": 256,
        "out_features": 256
       }
      }
     ]
    }
   },
   "start_time": "2022-03-21T10:29:36.789482",
   "version": "2.3.4"
  }
 },
 "nbformat": 4,
 "nbformat_minor": 5
}