{
 "cells": [
  {
   "cell_type": "markdown",
   "id": "9fea5f46",
   "metadata": {
    "papermill": {
     "duration": 0.030165,
     "end_time": "2022-03-21T17:45:07.375178",
     "exception": false,
     "start_time": "2022-03-21T17:45:07.345013",
     "status": "completed"
    },
    "tags": []
   },
   "source": [
    "# Transfer Learning Template"
   ]
  },
  {
   "cell_type": "code",
   "execution_count": 1,
   "id": "0902182a",
   "metadata": {
    "execution": {
     "iopub.execute_input": "2022-03-21T17:45:07.438869Z",
     "iopub.status.busy": "2022-03-21T17:45:07.437988Z",
     "iopub.status.idle": "2022-03-21T17:45:09.302701Z",
     "shell.execute_reply": "2022-03-21T17:45:09.301792Z"
    },
    "papermill": {
     "duration": 1.904215,
     "end_time": "2022-03-21T17:45:09.302909",
     "exception": false,
     "start_time": "2022-03-21T17:45:07.398694",
     "status": "completed"
    },
    "tags": []
   },
   "outputs": [],
   "source": [
    "%load_ext autoreload\n",
    "%autoreload 2\n",
    "%matplotlib inline\n",
    "\n",
    "    \n",
    "import os, json, sys, time, random\n",
    "import numpy as np\n",
    "import torch\n",
    "from torch.optim import Adam\n",
    "from  easydict import EasyDict\n",
    "import matplotlib.pyplot as plt\n",
    "\n",
    "from steves_models.steves_ptn import Steves_Prototypical_Network\n",
    "\n",
    "from steves_utils.lazy_iterable_wrapper import Lazy_Iterable_Wrapper\n",
    "from steves_utils.iterable_aggregator import Iterable_Aggregator\n",
    "from steves_utils.ptn_train_eval_test_jig import  PTN_Train_Eval_Test_Jig\n",
    "from steves_utils.torch_sequential_builder import build_sequential\n",
    "from steves_utils.torch_utils import get_dataset_metrics, ptn_confusion_by_domain_over_dataloader\n",
    "from steves_utils.utils_v2 import (per_domain_accuracy_from_confusion, get_datasets_base_path)\n",
    "from steves_utils.PTN.utils import independent_accuracy_assesment\n",
    "\n",
    "from torch.utils.data import DataLoader\n",
    "\n",
    "from steves_utils.stratified_dataset.episodic_accessor import Episodic_Accessor_Factory\n",
    "\n",
    "from steves_utils.ptn_do_report import (\n",
    "    get_loss_curve,\n",
    "    get_results_table,\n",
    "    get_parameters_table,\n",
    "    get_domain_accuracies,\n",
    ")\n",
    "\n",
    "from steves_utils.transforms import get_chained_transform"
   ]
  },
  {
   "cell_type": "markdown",
   "id": "41c840b4",
   "metadata": {
    "papermill": {
     "duration": 0.018413,
     "end_time": "2022-03-21T17:45:09.348053",
     "exception": false,
     "start_time": "2022-03-21T17:45:09.329640",
     "status": "completed"
    },
    "tags": []
   },
   "source": [
    "# Allowed Parameters\n",
    "These are allowed parameters, not defaults\n",
    "Each of these values need to be present in the injected parameters (the notebook will raise an exception if they are not present)\n",
    "\n",
    "Papermill uses the cell tag \"parameters\" to inject the real parameters below this cell.\n",
    "Enable tags to see what I mean"
   ]
  },
  {
   "cell_type": "code",
   "execution_count": 2,
   "id": "fd44eb83",
   "metadata": {
    "execution": {
     "iopub.execute_input": "2022-03-21T17:45:09.395957Z",
     "iopub.status.busy": "2022-03-21T17:45:09.395333Z",
     "iopub.status.idle": "2022-03-21T17:45:09.417843Z",
     "shell.execute_reply": "2022-03-21T17:45:09.417083Z"
    },
    "papermill": {
     "duration": 0.048188,
     "end_time": "2022-03-21T17:45:09.418007",
     "exception": false,
     "start_time": "2022-03-21T17:45:09.369819",
     "status": "completed"
    },
    "tags": []
   },
   "outputs": [],
   "source": [
    "required_parameters = {\n",
    "    \"experiment_name\",\n",
    "    \"lr\",\n",
    "    \"device\",\n",
    "    \"seed\",\n",
    "    \"dataset_seed\",\n",
    "    \"n_shot\",\n",
    "    \"n_query\",\n",
    "    \"n_way\",\n",
    "    \"train_k_factor\",\n",
    "    \"val_k_factor\",\n",
    "    \"test_k_factor\",\n",
    "    \"n_epoch\",\n",
    "    \"patience\",\n",
    "    \"criteria_for_best\",\n",
    "    \"x_net\",\n",
    "    \"datasets\",\n",
    "    \"torch_default_dtype\",\n",
    "    \"NUM_LOGS_PER_EPOCH\",\n",
    "    \"BEST_MODEL_PATH\",\n",
    "    \"x_shape\",\n",
    "}"
   ]
  },
  {
   "cell_type": "code",
   "execution_count": 3,
   "id": "fa3f0049",
   "metadata": {
    "execution": {
     "iopub.execute_input": "2022-03-21T17:45:09.479782Z",
     "iopub.status.busy": "2022-03-21T17:45:09.478809Z",
     "iopub.status.idle": "2022-03-21T17:45:09.500379Z",
     "shell.execute_reply": "2022-03-21T17:45:09.499527Z"
    },
    "papermill": {
     "duration": 0.056899,
     "end_time": "2022-03-21T17:45:09.500533",
     "exception": false,
     "start_time": "2022-03-21T17:45:09.443634",
     "status": "completed"
    },
    "tags": [
     "parameters"
    ]
   },
   "outputs": [],
   "source": [
    "from steves_utils.CORES.utils import (\n",
    "    ALL_NODES,\n",
    "    ALL_NODES_MINIMUM_1000_EXAMPLES,\n",
    "    ALL_DAYS\n",
    ")\n",
    "\n",
    "from steves_utils.ORACLE.utils_v2 import (\n",
    "    ALL_DISTANCES_FEET_NARROWED,\n",
    "    ALL_RUNS,\n",
    "    ALL_SERIAL_NUMBERS,\n",
    ")\n",
    "\n",
    "standalone_parameters = {}\n",
    "standalone_parameters[\"experiment_name\"] = \"STANDALONE PTN\"\n",
    "standalone_parameters[\"lr\"] = 0.001\n",
    "standalone_parameters[\"device\"] = \"cuda\"\n",
    "\n",
    "standalone_parameters[\"seed\"] = 1337\n",
    "standalone_parameters[\"dataset_seed\"] = 1337\n",
    "\n",
    "standalone_parameters[\"n_way\"] = 8\n",
    "standalone_parameters[\"n_shot\"] = 3\n",
    "standalone_parameters[\"n_query\"]  = 2\n",
    "standalone_parameters[\"train_k_factor\"] = 1\n",
    "standalone_parameters[\"val_k_factor\"] = 2\n",
    "standalone_parameters[\"test_k_factor\"] = 2\n",
    "\n",
    "\n",
    "standalone_parameters[\"n_epoch\"] = 50\n",
    "\n",
    "standalone_parameters[\"patience\"] = 10\n",
    "standalone_parameters[\"criteria_for_best\"] = \"source_loss\"\n",
    "\n",
    "standalone_parameters[\"datasets\"] = [\n",
    "    {\n",
    "        \"labels\": ALL_SERIAL_NUMBERS,\n",
    "        \"domains\": ALL_DISTANCES_FEET_NARROWED,\n",
    "        \"num_examples_per_domain_per_label\": 100,\n",
    "        \"pickle_path\": os.path.join(get_datasets_base_path(), \"oracle.Run1_framed_2000Examples_stratified_ds.2022A.pkl\"),\n",
    "        \"source_or_target_dataset\": \"source\",\n",
    "        \"x_transforms\": [\"unit_mag\", \"minus_two\"],\n",
    "        \"episode_transforms\": [],\n",
    "        \"domain_prefix\": \"ORACLE_\"\n",
    "    },\n",
    "    {\n",
    "        \"labels\": ALL_NODES,\n",
    "        \"domains\": ALL_DAYS,\n",
    "        \"num_examples_per_domain_per_label\": 100,\n",
    "        \"pickle_path\": os.path.join(get_datasets_base_path(), \"cores.stratified_ds.2022A.pkl\"),\n",
    "        \"source_or_target_dataset\": \"target\",\n",
    "        \"x_transforms\": [\"unit_power\", \"times_zero\"],\n",
    "        \"episode_transforms\": [],\n",
    "        \"domain_prefix\": \"CORES_\"\n",
    "    }   \n",
    "]\n",
    "\n",
    "standalone_parameters[\"torch_default_dtype\"] = \"torch.float32\" \n",
    "\n",
    "\n",
    "\n",
    "standalone_parameters[\"x_net\"] =     [\n",
    "    {\"class\": \"nnReshape\", \"kargs\": {\"shape\":[-1, 1, 2, 256]}},\n",
    "    {\"class\": \"Conv2d\", \"kargs\": { \"in_channels\":1, \"out_channels\":256, \"kernel_size\":(1,7), \"bias\":False, \"padding\":(0,3), },},\n",
    "    {\"class\": \"ReLU\", \"kargs\": {\"inplace\": True}},\n",
    "    {\"class\": \"BatchNorm2d\", \"kargs\": {\"num_features\":256}},\n",
    "\n",
    "    {\"class\": \"Conv2d\", \"kargs\": { \"in_channels\":256, \"out_channels\":80, \"kernel_size\":(2,7), \"bias\":True, \"padding\":(0,3), },},\n",
    "    {\"class\": \"ReLU\", \"kargs\": {\"inplace\": True}},\n",
    "    {\"class\": \"BatchNorm2d\", \"kargs\": {\"num_features\":80}},\n",
    "    {\"class\": \"Flatten\", \"kargs\": {}},\n",
    "\n",
    "    {\"class\": \"Linear\", \"kargs\": {\"in_features\": 80*256, \"out_features\": 256}}, # 80 units per IQ pair\n",
    "    {\"class\": \"ReLU\", \"kargs\": {\"inplace\": True}},\n",
    "    {\"class\": \"BatchNorm1d\", \"kargs\": {\"num_features\":256}},\n",
    "\n",
    "    {\"class\": \"Linear\", \"kargs\": {\"in_features\": 256, \"out_features\": 256}},\n",
    "]\n",
    "\n",
    "# Parameters relevant to results\n",
    "# These parameters will basically never need to change\n",
    "standalone_parameters[\"NUM_LOGS_PER_EPOCH\"] = 10\n",
    "standalone_parameters[\"BEST_MODEL_PATH\"] = \"./best_model.pth\"\n",
    "\n",
    "\n",
    "\n",
    "\n"
   ]
  },
  {
   "cell_type": "code",
   "execution_count": 4,
   "id": "c507b4ea",
   "metadata": {
    "execution": {
     "iopub.execute_input": "2022-03-21T17:45:09.562283Z",
     "iopub.status.busy": "2022-03-21T17:45:09.548244Z",
     "iopub.status.idle": "2022-03-21T17:45:09.587765Z",
     "shell.execute_reply": "2022-03-21T17:45:09.586882Z"
    },
    "papermill": {
     "duration": 0.061767,
     "end_time": "2022-03-21T17:45:09.587925",
     "exception": false,
     "start_time": "2022-03-21T17:45:09.526158",
     "status": "completed"
    },
    "tags": [
     "injected-parameters"
    ]
   },
   "outputs": [],
   "source": [
    "# Parameters\n",
    "parameters = {\n",
    "    \"experiment_name\": \"tl_1v2:wisig-oracle.run1.framed\",\n",
    "    \"device\": \"cuda\",\n",
    "    \"lr\": 0.0001,\n",
    "    \"n_shot\": 3,\n",
    "    \"n_query\": 2,\n",
    "    \"train_k_factor\": 3,\n",
    "    \"val_k_factor\": 2,\n",
    "    \"test_k_factor\": 2,\n",
    "    \"torch_default_dtype\": \"torch.float32\",\n",
    "    \"n_epoch\": 50,\n",
    "    \"patience\": 3,\n",
    "    \"criteria_for_best\": \"target_accuracy\",\n",
    "    \"x_net\": [\n",
    "        {\"class\": \"nnReshape\", \"kargs\": {\"shape\": [-1, 1, 2, 256]}},\n",
    "        {\n",
    "            \"class\": \"Conv2d\",\n",
    "            \"kargs\": {\n",
    "                \"in_channels\": 1,\n",
    "                \"out_channels\": 256,\n",
    "                \"kernel_size\": [1, 7],\n",
    "                \"bias\": False,\n",
    "                \"padding\": [0, 3],\n",
    "            },\n",
    "        },\n",
    "        {\"class\": \"ReLU\", \"kargs\": {\"inplace\": True}},\n",
    "        {\"class\": \"BatchNorm2d\", \"kargs\": {\"num_features\": 256}},\n",
    "        {\n",
    "            \"class\": \"Conv2d\",\n",
    "            \"kargs\": {\n",
    "                \"in_channels\": 256,\n",
    "                \"out_channels\": 80,\n",
    "                \"kernel_size\": [2, 7],\n",
    "                \"bias\": True,\n",
    "                \"padding\": [0, 3],\n",
    "            },\n",
    "        },\n",
    "        {\"class\": \"ReLU\", \"kargs\": {\"inplace\": True}},\n",
    "        {\"class\": \"BatchNorm2d\", \"kargs\": {\"num_features\": 80}},\n",
    "        {\"class\": \"Flatten\", \"kargs\": {}},\n",
    "        {\"class\": \"Linear\", \"kargs\": {\"in_features\": 20480, \"out_features\": 256}},\n",
    "        {\"class\": \"ReLU\", \"kargs\": {\"inplace\": True}},\n",
    "        {\"class\": \"BatchNorm1d\", \"kargs\": {\"num_features\": 256}},\n",
    "        {\"class\": \"Linear\", \"kargs\": {\"in_features\": 256, \"out_features\": 256}},\n",
    "    ],\n",
    "    \"NUM_LOGS_PER_EPOCH\": 10,\n",
    "    \"BEST_MODEL_PATH\": \"./best_model.pth\",\n",
    "    \"n_way\": 16,\n",
    "    \"datasets\": [\n",
    "        {\n",
    "            \"labels\": [\n",
    "                \"1-10\",\n",
    "                \"1-12\",\n",
    "                \"1-14\",\n",
    "                \"1-16\",\n",
    "                \"1-18\",\n",
    "                \"1-19\",\n",
    "                \"1-8\",\n",
    "                \"10-11\",\n",
    "                \"10-17\",\n",
    "                \"10-4\",\n",
    "                \"10-7\",\n",
    "                \"11-1\",\n",
    "                \"11-10\",\n",
    "                \"11-19\",\n",
    "                \"11-20\",\n",
    "                \"11-4\",\n",
    "                \"11-7\",\n",
    "                \"12-19\",\n",
    "                \"12-20\",\n",
    "                \"12-7\",\n",
    "                \"13-14\",\n",
    "                \"13-18\",\n",
    "                \"13-19\",\n",
    "                \"13-20\",\n",
    "                \"13-3\",\n",
    "                \"13-7\",\n",
    "                \"14-10\",\n",
    "                \"14-11\",\n",
    "                \"14-12\",\n",
    "                \"14-13\",\n",
    "                \"14-14\",\n",
    "                \"14-19\",\n",
    "                \"14-20\",\n",
    "                \"14-7\",\n",
    "                \"14-8\",\n",
    "                \"14-9\",\n",
    "                \"15-1\",\n",
    "                \"15-19\",\n",
    "                \"15-6\",\n",
    "                \"16-1\",\n",
    "                \"16-16\",\n",
    "                \"16-19\",\n",
    "                \"16-20\",\n",
    "                \"17-10\",\n",
    "                \"17-11\",\n",
    "                \"18-1\",\n",
    "                \"18-10\",\n",
    "                \"18-11\",\n",
    "                \"18-12\",\n",
    "                \"18-13\",\n",
    "                \"18-14\",\n",
    "                \"18-15\",\n",
    "                \"18-16\",\n",
    "                \"18-17\",\n",
    "                \"18-19\",\n",
    "                \"18-2\",\n",
    "                \"18-20\",\n",
    "                \"18-4\",\n",
    "                \"18-5\",\n",
    "                \"18-7\",\n",
    "                \"18-8\",\n",
    "                \"18-9\",\n",
    "                \"19-1\",\n",
    "                \"19-10\",\n",
    "                \"19-11\",\n",
    "                \"19-12\",\n",
    "                \"19-13\",\n",
    "                \"19-14\",\n",
    "                \"19-15\",\n",
    "                \"19-19\",\n",
    "                \"19-2\",\n",
    "                \"19-20\",\n",
    "                \"19-3\",\n",
    "                \"19-4\",\n",
    "                \"19-6\",\n",
    "                \"19-7\",\n",
    "                \"19-8\",\n",
    "                \"19-9\",\n",
    "                \"2-1\",\n",
    "                \"2-13\",\n",
    "                \"2-15\",\n",
    "                \"2-3\",\n",
    "                \"2-4\",\n",
    "                \"2-5\",\n",
    "                \"2-6\",\n",
    "                \"2-7\",\n",
    "                \"2-8\",\n",
    "                \"20-1\",\n",
    "                \"20-12\",\n",
    "                \"20-14\",\n",
    "                \"20-15\",\n",
    "                \"20-16\",\n",
    "                \"20-18\",\n",
    "                \"20-19\",\n",
    "                \"20-20\",\n",
    "                \"20-3\",\n",
    "                \"20-4\",\n",
    "                \"20-5\",\n",
    "                \"20-7\",\n",
    "                \"20-8\",\n",
    "                \"3-1\",\n",
    "                \"3-13\",\n",
    "                \"3-18\",\n",
    "                \"3-2\",\n",
    "                \"3-8\",\n",
    "                \"4-1\",\n",
    "                \"4-10\",\n",
    "                \"4-11\",\n",
    "                \"5-1\",\n",
    "                \"5-5\",\n",
    "                \"6-1\",\n",
    "                \"6-15\",\n",
    "                \"6-6\",\n",
    "                \"7-10\",\n",
    "                \"7-11\",\n",
    "                \"7-12\",\n",
    "                \"7-13\",\n",
    "                \"7-14\",\n",
    "                \"7-7\",\n",
    "                \"7-8\",\n",
    "                \"7-9\",\n",
    "                \"8-1\",\n",
    "                \"8-13\",\n",
    "                \"8-14\",\n",
    "                \"8-18\",\n",
    "                \"8-20\",\n",
    "                \"8-3\",\n",
    "                \"8-8\",\n",
    "                \"9-1\",\n",
    "                \"9-7\",\n",
    "            ],\n",
    "            \"domains\": [1, 2, 3, 4],\n",
    "            \"num_examples_per_domain_per_label\": -1,\n",
    "            \"pickle_path\": \"/root/csc500-main/datasets/wisig.node3-19.stratified_ds.2022A.pkl\",\n",
    "            \"source_or_target_dataset\": \"source\",\n",
    "            \"x_transforms\": [],\n",
    "            \"episode_transforms\": [],\n",
    "            \"domain_prefix\": \"Wisig_\",\n",
    "        },\n",
    "        {\n",
    "            \"labels\": [\n",
    "                \"3123D52\",\n",
    "                \"3123D65\",\n",
    "                \"3123D79\",\n",
    "                \"3123D80\",\n",
    "                \"3123D54\",\n",
    "                \"3123D70\",\n",
    "                \"3123D7B\",\n",
    "                \"3123D89\",\n",
    "                \"3123D58\",\n",
    "                \"3123D76\",\n",
    "                \"3123D7D\",\n",
    "                \"3123EFE\",\n",
    "                \"3123D64\",\n",
    "                \"3123D78\",\n",
    "                \"3123D7E\",\n",
    "                \"3124E4A\",\n",
    "            ],\n",
    "            \"domains\": [32, 38, 8, 44, 14, 50, 20, 26],\n",
    "            \"num_examples_per_domain_per_label\": 2000,\n",
    "            \"pickle_path\": \"/root/csc500-main/datasets/oracle.Run1_framed_2000Examples_stratified_ds.2022A.pkl\",\n",
    "            \"source_or_target_dataset\": \"target\",\n",
    "            \"x_transforms\": [],\n",
    "            \"episode_transforms\": [],\n",
    "            \"domain_prefix\": \"ORACLE.run1\",\n",
    "        },\n",
    "    ],\n",
    "    \"dataset_seed\": 500,\n",
    "    \"seed\": 500,\n",
    "}\n"
   ]
  },
  {
   "cell_type": "code",
   "execution_count": 5,
   "id": "8fa1cc33",
   "metadata": {
    "execution": {
     "iopub.execute_input": "2022-03-21T17:45:09.636554Z",
     "iopub.status.busy": "2022-03-21T17:45:09.636167Z",
     "iopub.status.idle": "2022-03-21T17:45:09.663694Z",
     "shell.execute_reply": "2022-03-21T17:45:09.662953Z"
    },
    "papermill": {
     "duration": 0.05138,
     "end_time": "2022-03-21T17:45:09.663852",
     "exception": false,
     "start_time": "2022-03-21T17:45:09.612472",
     "status": "completed"
    },
    "tags": []
   },
   "outputs": [],
   "source": [
    "# Set this to True if you want to run this template directly\n",
    "STANDALONE = False\n",
    "if STANDALONE:\n",
    "    print(\"parameters not injected, running with standalone_parameters\")\n",
    "    parameters = standalone_parameters\n",
    "\n",
    "if not 'parameters' in locals() and not 'parameters' in globals():\n",
    "    raise Exception(\"Parameter injection failed\")\n",
    "\n",
    "#Use an easy dict for all the parameters\n",
    "p = EasyDict(parameters)\n",
    "\n",
    "if \"x_shape\" not in p:\n",
    "    p.x_shape = [2,256] # Default to this if we dont supply x_shape\n",
    "\n",
    "\n",
    "supplied_keys = set(p.keys())\n",
    "\n",
    "if  supplied_keys != required_parameters:\n",
    "    print(\"Parameters are incorrect\")\n",
    "    if len(supplied_keys - required_parameters)>0: print(\"Shouldn't have:\", str(supplied_keys - required_parameters))\n",
    "    if len(required_parameters - supplied_keys)>0: print(\"Need to have:\", str(required_parameters - supplied_keys))\n",
    "    raise RuntimeError(\"Parameters are incorrect\")"
   ]
  },
  {
   "cell_type": "code",
   "execution_count": 6,
   "id": "3a028d58",
   "metadata": {
    "execution": {
     "iopub.execute_input": "2022-03-21T17:45:09.723516Z",
     "iopub.status.busy": "2022-03-21T17:45:09.723143Z",
     "iopub.status.idle": "2022-03-21T17:45:09.747337Z",
     "shell.execute_reply": "2022-03-21T17:45:09.746519Z"
    },
    "papermill": {
     "duration": 0.053078,
     "end_time": "2022-03-21T17:45:09.747503",
     "exception": false,
     "start_time": "2022-03-21T17:45:09.694425",
     "status": "completed"
    },
    "tags": []
   },
   "outputs": [],
   "source": [
    "###################################\n",
    "# Set the RNGs and make it all deterministic\n",
    "###################################\n",
    "np.random.seed(p.seed)\n",
    "random.seed(p.seed)\n",
    "torch.manual_seed(p.seed)\n",
    "\n",
    "torch.use_deterministic_algorithms(True) "
   ]
  },
  {
   "cell_type": "code",
   "execution_count": 7,
   "id": "b691acf6",
   "metadata": {
    "execution": {
     "iopub.execute_input": "2022-03-21T17:45:09.798489Z",
     "iopub.status.busy": "2022-03-21T17:45:09.797924Z",
     "iopub.status.idle": "2022-03-21T17:45:09.825452Z",
     "shell.execute_reply": "2022-03-21T17:45:09.824642Z"
    },
    "papermill": {
     "duration": 0.051998,
     "end_time": "2022-03-21T17:45:09.825609",
     "exception": false,
     "start_time": "2022-03-21T17:45:09.773611",
     "status": "completed"
    },
    "tags": []
   },
   "outputs": [],
   "source": [
    "###########################################\n",
    "# The stratified datasets honor this\n",
    "###########################################\n",
    "torch.set_default_dtype(eval(p.torch_default_dtype))"
   ]
  },
  {
   "cell_type": "code",
   "execution_count": 8,
   "id": "b5fba671",
   "metadata": {
    "execution": {
     "iopub.execute_input": "2022-03-21T17:45:09.874291Z",
     "iopub.status.busy": "2022-03-21T17:45:09.873923Z",
     "iopub.status.idle": "2022-03-21T17:45:09.929539Z",
     "shell.execute_reply": "2022-03-21T17:45:09.930217Z"
    },
    "papermill": {
     "duration": 0.079382,
     "end_time": "2022-03-21T17:45:09.930398",
     "exception": false,
     "start_time": "2022-03-21T17:45:09.851016",
     "status": "completed"
    },
    "tags": []
   },
   "outputs": [],
   "source": [
    "###################################\n",
    "# Build the network(s)\n",
    "# Note: It's critical to do this AFTER setting the RNG\n",
    "###################################\n",
    "x_net = build_sequential(p.x_net)"
   ]
  },
  {
   "cell_type": "code",
   "execution_count": 9,
   "id": "5d7e61cc",
   "metadata": {
    "execution": {
     "iopub.execute_input": "2022-03-21T17:45:09.978722Z",
     "iopub.status.busy": "2022-03-21T17:45:09.978338Z",
     "iopub.status.idle": "2022-03-21T17:45:10.003559Z",
     "shell.execute_reply": "2022-03-21T17:45:10.002721Z"
    },
    "papermill": {
     "duration": 0.048198,
     "end_time": "2022-03-21T17:45:10.003720",
     "exception": false,
     "start_time": "2022-03-21T17:45:09.955522",
     "status": "completed"
    },
    "tags": []
   },
   "outputs": [],
   "source": [
    "start_time_secs = time.time()"
   ]
  },
  {
   "cell_type": "code",
   "execution_count": 10,
   "id": "c6b67dfd",
   "metadata": {
    "execution": {
     "iopub.execute_input": "2022-03-21T17:45:10.054854Z",
     "iopub.status.busy": "2022-03-21T17:45:10.053921Z",
     "iopub.status.idle": "2022-03-21T17:45:10.074775Z",
     "shell.execute_reply": "2022-03-21T17:45:10.074066Z"
    },
    "papermill": {
     "duration": 0.044661,
     "end_time": "2022-03-21T17:45:10.074930",
     "exception": false,
     "start_time": "2022-03-21T17:45:10.030269",
     "status": "completed"
    },
    "tags": []
   },
   "outputs": [],
   "source": [
    "p.domains_source = []\n",
    "p.domains_target = []\n",
    "\n",
    "\n",
    "train_original_source = []\n",
    "val_original_source   = []\n",
    "test_original_source  = []\n",
    "\n",
    "train_original_target = []\n",
    "val_original_target   = []\n",
    "test_original_target  = []"
   ]
  },
  {
   "cell_type": "code",
   "execution_count": 11,
   "id": "e3d9c3d3",
   "metadata": {
    "execution": {
     "iopub.execute_input": "2022-03-21T17:45:10.125139Z",
     "iopub.status.busy": "2022-03-21T17:45:10.123503Z",
     "iopub.status.idle": "2022-03-21T17:45:10.149227Z",
     "shell.execute_reply": "2022-03-21T17:45:10.148416Z"
    },
    "papermill": {
     "duration": 0.047329,
     "end_time": "2022-03-21T17:45:10.149383",
     "exception": false,
     "start_time": "2022-03-21T17:45:10.102054",
     "status": "completed"
    },
    "tags": []
   },
   "outputs": [],
   "source": [
    "# global_x_transform_func = lambda x: normalize(x.to(torch.get_default_dtype()), \"unit_power\") # unit_power, unit_mag\n",
    "# global_x_transform_func = lambda x: normalize(x, \"unit_power\") # unit_power, unit_mag"
   ]
  },
  {
   "cell_type": "code",
   "execution_count": 12,
   "id": "acb78fd2",
   "metadata": {
    "execution": {
     "iopub.execute_input": "2022-03-21T17:45:10.208335Z",
     "iopub.status.busy": "2022-03-21T17:45:10.207495Z",
     "iopub.status.idle": "2022-03-21T17:45:10.236040Z",
     "shell.execute_reply": "2022-03-21T17:45:10.235176Z"
    },
    "papermill": {
     "duration": 0.061045,
     "end_time": "2022-03-21T17:45:10.236198",
     "exception": false,
     "start_time": "2022-03-21T17:45:10.175153",
     "status": "completed"
    },
    "tags": []
   },
   "outputs": [],
   "source": [
    "def add_dataset(\n",
    "    labels,\n",
    "    domains,\n",
    "    pickle_path,\n",
    "    x_transforms,\n",
    "    episode_transforms,\n",
    "    domain_prefix,\n",
    "    num_examples_per_domain_per_label,\n",
    "    source_or_target_dataset:str,\n",
    "    iterator_seed=p.seed,\n",
    "    dataset_seed=p.dataset_seed,\n",
    "    n_shot=p.n_shot,\n",
    "    n_way=p.n_way,\n",
    "    n_query=p.n_query,\n",
    "    train_val_test_k_factors=(p.train_k_factor,p.val_k_factor,p.test_k_factor),\n",
    "):\n",
    "   \n",
    "    if x_transforms == []: x_transform = None\n",
    "    else: x_transform = get_chained_transform(x_transforms)\n",
    "    \n",
    "    if episode_transforms == []: episode_transform = None\n",
    "    else: raise Exception(\"episode_transforms not implemented\")\n",
    "    \n",
    "    episode_transform = lambda tup, _prefix=domain_prefix: (_prefix + str(tup[0]), tup[1])\n",
    "\n",
    "\n",
    "    eaf = Episodic_Accessor_Factory(\n",
    "        labels=labels,\n",
    "        domains=domains,\n",
    "        num_examples_per_domain_per_label=num_examples_per_domain_per_label,\n",
    "        iterator_seed=iterator_seed,\n",
    "        dataset_seed=dataset_seed,\n",
    "        n_shot=n_shot,\n",
    "        n_way=n_way,\n",
    "        n_query=n_query,\n",
    "        train_val_test_k_factors=train_val_test_k_factors,\n",
    "        pickle_path=pickle_path,\n",
    "        x_transform_func=x_transform,\n",
    "    )\n",
    "\n",
    "    train, val, test = eaf.get_train(), eaf.get_val(), eaf.get_test()\n",
    "    train = Lazy_Iterable_Wrapper(train, episode_transform)\n",
    "    val = Lazy_Iterable_Wrapper(val, episode_transform)\n",
    "    test = Lazy_Iterable_Wrapper(test, episode_transform)\n",
    "\n",
    "    if source_or_target_dataset==\"source\":\n",
    "        train_original_source.append(train)\n",
    "        val_original_source.append(val)\n",
    "        test_original_source.append(test)\n",
    "\n",
    "        p.domains_source.extend(\n",
    "            [domain_prefix + str(u) for u in domains]\n",
    "        )\n",
    "    elif source_or_target_dataset==\"target\":\n",
    "        train_original_target.append(train)\n",
    "        val_original_target.append(val)\n",
    "        test_original_target.append(test)\n",
    "        p.domains_target.extend(\n",
    "            [domain_prefix + str(u) for u in domains]\n",
    "        )\n",
    "    else:\n",
    "        raise Exception(f\"invalid source_or_target_dataset: {source_or_target_dataset}\")\n",
    "    "
   ]
  },
  {
   "cell_type": "code",
   "execution_count": 13,
   "id": "fe266617",
   "metadata": {
    "execution": {
     "iopub.execute_input": "2022-03-21T17:45:10.286285Z",
     "iopub.status.busy": "2022-03-21T17:45:10.285919Z",
     "iopub.status.idle": "2022-03-21T17:45:14.299896Z",
     "shell.execute_reply": "2022-03-21T17:45:14.299085Z"
    },
    "papermill": {
     "duration": 4.037228,
     "end_time": "2022-03-21T17:45:14.300087",
     "exception": false,
     "start_time": "2022-03-21T17:45:10.262859",
     "status": "completed"
    },
    "tags": []
   },
   "outputs": [],
   "source": [
    "for ds in p.datasets:\n",
    "    add_dataset(**ds)"
   ]
  },
  {
   "cell_type": "code",
   "execution_count": 14,
   "id": "b90d65ac",
   "metadata": {
    "execution": {
     "iopub.execute_input": "2022-03-21T17:45:14.348839Z",
     "iopub.status.busy": "2022-03-21T17:45:14.348450Z",
     "iopub.status.idle": "2022-03-21T17:45:14.377034Z",
     "shell.execute_reply": "2022-03-21T17:45:14.377713Z"
    },
    "papermill": {
     "duration": 0.052296,
     "end_time": "2022-03-21T17:45:14.377924",
     "exception": false,
     "start_time": "2022-03-21T17:45:14.325628",
     "status": "completed"
    },
    "tags": []
   },
   "outputs": [],
   "source": [
    "# from steves_utils.CORES.utils import (\n",
    "#     ALL_NODES,\n",
    "#     ALL_NODES_MINIMUM_1000_EXAMPLES,\n",
    "#     ALL_DAYS\n",
    "# )\n",
    "\n",
    "# add_dataset(\n",
    "#     labels=ALL_NODES,\n",
    "#     domains = ALL_DAYS,\n",
    "#     num_examples_per_domain_per_label=100,\n",
    "#     pickle_path=os.path.join(get_datasets_base_path(), \"cores.stratified_ds.2022A.pkl\"),\n",
    "#     source_or_target_dataset=\"target\",\n",
    "#     x_transform_func=global_x_transform_func,\n",
    "#     domain_modifier=lambda u: f\"cores_{u}\"\n",
    "# )"
   ]
  },
  {
   "cell_type": "code",
   "execution_count": 15,
   "id": "76db484d",
   "metadata": {
    "execution": {
     "iopub.execute_input": "2022-03-21T17:45:14.429049Z",
     "iopub.status.busy": "2022-03-21T17:45:14.428402Z",
     "iopub.status.idle": "2022-03-21T17:45:14.450964Z",
     "shell.execute_reply": "2022-03-21T17:45:14.450238Z"
    },
    "papermill": {
     "duration": 0.046426,
     "end_time": "2022-03-21T17:45:14.451137",
     "exception": false,
     "start_time": "2022-03-21T17:45:14.404711",
     "status": "completed"
    },
    "tags": []
   },
   "outputs": [],
   "source": [
    "# from steves_utils.ORACLE.utils_v2 import (\n",
    "#     ALL_DISTANCES_FEET,\n",
    "#     ALL_RUNS,\n",
    "#     ALL_SERIAL_NUMBERS,\n",
    "# )\n",
    "\n",
    "\n",
    "# add_dataset(\n",
    "#     labels=ALL_SERIAL_NUMBERS,\n",
    "#     domains = list(set(ALL_DISTANCES_FEET) - {2,62}),\n",
    "#     num_examples_per_domain_per_label=100,\n",
    "#     pickle_path=os.path.join(get_datasets_base_path(), \"oracle.Run2_framed_2000Examples_stratified_ds.2022A.pkl\"),\n",
    "#     source_or_target_dataset=\"source\",\n",
    "#     x_transform_func=global_x_transform_func,\n",
    "#     domain_modifier=lambda u: f\"oracle1_{u}\"\n",
    "# )\n"
   ]
  },
  {
   "cell_type": "code",
   "execution_count": 16,
   "id": "97dea9d2",
   "metadata": {
    "execution": {
     "iopub.execute_input": "2022-03-21T17:45:14.501804Z",
     "iopub.status.busy": "2022-03-21T17:45:14.501164Z",
     "iopub.status.idle": "2022-03-21T17:45:14.522027Z",
     "shell.execute_reply": "2022-03-21T17:45:14.522701Z"
    },
    "papermill": {
     "duration": 0.045921,
     "end_time": "2022-03-21T17:45:14.522909",
     "exception": false,
     "start_time": "2022-03-21T17:45:14.476988",
     "status": "completed"
    },
    "tags": []
   },
   "outputs": [],
   "source": [
    "# from steves_utils.ORACLE.utils_v2 import (\n",
    "#     ALL_DISTANCES_FEET,\n",
    "#     ALL_RUNS,\n",
    "#     ALL_SERIAL_NUMBERS,\n",
    "# )\n",
    "\n",
    "\n",
    "# add_dataset(\n",
    "#     labels=ALL_SERIAL_NUMBERS,\n",
    "#     domains = list(set(ALL_DISTANCES_FEET) - {2,62,56}),\n",
    "#     num_examples_per_domain_per_label=100,\n",
    "#     pickle_path=os.path.join(get_datasets_base_path(), \"oracle.Run2_framed_2000Examples_stratified_ds.2022A.pkl\"),\n",
    "#     source_or_target_dataset=\"source\",\n",
    "#     x_transform_func=global_x_transform_func,\n",
    "#     domain_modifier=lambda u: f\"oracle2_{u}\"\n",
    "# )"
   ]
  },
  {
   "cell_type": "code",
   "execution_count": 17,
   "id": "6f289866",
   "metadata": {
    "execution": {
     "iopub.execute_input": "2022-03-21T17:45:14.575776Z",
     "iopub.status.busy": "2022-03-21T17:45:14.575386Z",
     "iopub.status.idle": "2022-03-21T17:45:14.598069Z",
     "shell.execute_reply": "2022-03-21T17:45:14.597266Z"
    },
    "papermill": {
     "duration": 0.046791,
     "end_time": "2022-03-21T17:45:14.598239",
     "exception": false,
     "start_time": "2022-03-21T17:45:14.551448",
     "status": "completed"
    },
    "tags": []
   },
   "outputs": [],
   "source": [
    "# add_dataset(\n",
    "#     labels=list(range(19)),\n",
    "#     domains = [0,1,2],\n",
    "#     num_examples_per_domain_per_label=100,\n",
    "#     pickle_path=os.path.join(get_datasets_base_path(), \"metehan.stratified_ds.2022A.pkl\"),\n",
    "#     source_or_target_dataset=\"target\",\n",
    "#     x_transform_func=global_x_transform_func,\n",
    "#     domain_modifier=lambda u: f\"met_{u}\"\n",
    "# )"
   ]
  },
  {
   "cell_type": "code",
   "execution_count": 18,
   "id": "86a863c3",
   "metadata": {
    "execution": {
     "iopub.execute_input": "2022-03-21T17:45:14.649306Z",
     "iopub.status.busy": "2022-03-21T17:45:14.648661Z",
     "iopub.status.idle": "2022-03-21T17:45:14.670949Z",
     "shell.execute_reply": "2022-03-21T17:45:14.670123Z"
    },
    "papermill": {
     "duration": 0.046417,
     "end_time": "2022-03-21T17:45:14.671121",
     "exception": false,
     "start_time": "2022-03-21T17:45:14.624704",
     "status": "completed"
    },
    "tags": []
   },
   "outputs": [],
   "source": [
    "# # from steves_utils.wisig.utils import (\n",
    "# #     ALL_NODES_MINIMUM_100_EXAMPLES,\n",
    "# #     ALL_NODES_MINIMUM_500_EXAMPLES,\n",
    "# #     ALL_NODES_MINIMUM_1000_EXAMPLES,\n",
    "# #     ALL_DAYS\n",
    "# # )\n",
    "\n",
    "# import steves_utils.wisig.utils as wisig\n",
    "\n",
    "\n",
    "# add_dataset(\n",
    "#     labels=wisig.ALL_NODES_MINIMUM_100_EXAMPLES,\n",
    "#     domains = wisig.ALL_DAYS,\n",
    "#     num_examples_per_domain_per_label=100,\n",
    "#     pickle_path=os.path.join(get_datasets_base_path(), \"wisig.node3-19.stratified_ds.2022A.pkl\"),\n",
    "#     source_or_target_dataset=\"target\",\n",
    "#     x_transform_func=global_x_transform_func,\n",
    "#     domain_modifier=lambda u: f\"wisig_{u}\"\n",
    "# )"
   ]
  },
  {
   "cell_type": "code",
   "execution_count": 19,
   "id": "fd5442bc",
   "metadata": {
    "execution": {
     "iopub.execute_input": "2022-03-21T17:45:14.727911Z",
     "iopub.status.busy": "2022-03-21T17:45:14.727495Z",
     "iopub.status.idle": "2022-03-21T17:45:14.747943Z",
     "shell.execute_reply": "2022-03-21T17:45:14.747182Z"
    },
    "papermill": {
     "duration": 0.050629,
     "end_time": "2022-03-21T17:45:14.748119",
     "exception": false,
     "start_time": "2022-03-21T17:45:14.697490",
     "status": "completed"
    },
    "tags": []
   },
   "outputs": [],
   "source": [
    "###################################\n",
    "# Build the dataset\n",
    "###################################\n",
    "train_original_source = Iterable_Aggregator(train_original_source, p.seed)\n",
    "val_original_source = Iterable_Aggregator(val_original_source, p.seed)\n",
    "test_original_source = Iterable_Aggregator(test_original_source, p.seed)\n",
    "\n",
    "\n",
    "train_original_target = Iterable_Aggregator(train_original_target, p.seed)\n",
    "val_original_target = Iterable_Aggregator(val_original_target, p.seed)\n",
    "test_original_target = Iterable_Aggregator(test_original_target, p.seed)\n",
    "\n",
    "# For CNN We only use X and Y. And we only train on the source.\n",
    "# Properly form the data using a transform lambda and Lazy_Iterable_Wrapper. Finally wrap them in a dataloader\n",
    "\n",
    "transform_lambda = lambda ex: ex[1] # Original is (<domain>, <episode>) so we strip down to episode only\n",
    "\n",
    "train_processed_source = Lazy_Iterable_Wrapper(train_original_source, transform_lambda)\n",
    "val_processed_source   = Lazy_Iterable_Wrapper(val_original_source, transform_lambda)\n",
    "test_processed_source  = Lazy_Iterable_Wrapper(test_original_source, transform_lambda)\n",
    "\n",
    "train_processed_target = Lazy_Iterable_Wrapper(train_original_target, transform_lambda)\n",
    "val_processed_target   = Lazy_Iterable_Wrapper(val_original_target, transform_lambda)\n",
    "test_processed_target  = Lazy_Iterable_Wrapper(test_original_target, transform_lambda)\n",
    "\n",
    "datasets = EasyDict({\n",
    "    \"source\": {\n",
    "        \"original\": {\"train\":train_original_source, \"val\":val_original_source, \"test\":test_original_source},\n",
    "        \"processed\": {\"train\":train_processed_source, \"val\":val_processed_source, \"test\":test_processed_source}\n",
    "    },\n",
    "    \"target\": {\n",
    "        \"original\": {\"train\":train_original_target, \"val\":val_original_target, \"test\":test_original_target},\n",
    "        \"processed\": {\"train\":train_processed_target, \"val\":val_processed_target, \"test\":test_processed_target}\n",
    "    },\n",
    "})"
   ]
  },
  {
   "cell_type": "code",
   "execution_count": 20,
   "id": "5b3c01fc",
   "metadata": {
    "execution": {
     "iopub.execute_input": "2022-03-21T17:45:14.800447Z",
     "iopub.status.busy": "2022-03-21T17:45:14.800067Z",
     "iopub.status.idle": "2022-03-21T17:45:30.407730Z",
     "shell.execute_reply": "2022-03-21T17:45:30.406987Z"
    },
    "papermill": {
     "duration": 15.631788,
     "end_time": "2022-03-21T17:45:30.407925",
     "exception": false,
     "start_time": "2022-03-21T17:45:14.776137",
     "status": "completed"
    },
    "tags": []
   },
   "outputs": [
    {
     "name": "stdout",
     "output_type": "stream",
     "text": [
      "{'Wisig_3', 'Wisig_4', 'Wisig_2', 'Wisig_1'}\n"
     ]
    },
    {
     "name": "stdout",
     "output_type": "stream",
     "text": [
      "{'ORACLE.run126', 'ORACLE.run132', 'ORACLE.run18', 'ORACLE.run150', 'ORACLE.run120', 'ORACLE.run144', 'ORACLE.run138', 'ORACLE.run114'}\n"
     ]
    },
    {
     "name": "stdout",
     "output_type": "stream",
     "text": [
      "tensor([[[ 5.8382e-02, -9.0030e-03,  3.2350e-03,  ...,  6.6836e-03,\n",
      "           7.7822e-03,  1.7212e-02],\n",
      "         [ 2.6276e-02,  3.8881e-02,  1.3459e-02,  ...,  6.6836e-03,\n",
      "           1.2116e-02, -2.4415e-03]],\n",
      "\n",
      "        [[-1.5046e-02,  2.0234e-02,  5.7070e-03,  ..., -6.7446e-03,\n",
      "           1.6785e-03, -9.0945e-03],\n",
      "         [-5.5727e-02, -1.2146e-02,  9.7659e-04,  ..., -1.0865e-02,\n",
      "          -3.4181e-03, -5.8596e-03]],\n",
      "\n",
      "        [[ 2.6795e-02, -2.2279e-03,  5.9206e-03,  ...,  1.0773e-02,\n",
      "           4.4557e-03,  2.4567e-02],\n",
      "         [ 3.6897e-02,  8.8504e-03, -4.7304e-03,  ...,  9.7659e-04,\n",
      "          -3.1739e-03, -3.2350e-02]],\n",
      "\n",
      "        ...,\n",
      "\n",
      "        [[-1.3581e-02,  1.5717e-02,  2.4964e-02,  ..., -1.2055e-02,\n",
      "          -2.8993e-02,  9.2166e-03],\n",
      "         [-1.6755e-02, -2.4232e-02,  1.0743e-02,  ...,  1.9471e-02,\n",
      "           3.0519e-05, -2.0112e-02]],\n",
      "\n",
      "        [[ 3.6195e-02, -3.0824e-03, -2.5544e-02,  ..., -1.7701e-03,\n",
      "           2.8504e-02,  2.4140e-02],\n",
      "         [ 1.7335e-02,  3.6561e-02,  4.3031e-03,  ..., -3.4791e-02,\n",
      "          -2.8626e-02, -3.6622e-04]],\n",
      "\n",
      "        [[ 7.0498e-03, -1.3581e-02, -1.8799e-02,  ..., -8.8198e-03,\n",
      "           5.0661e-03, -1.0254e-02],\n",
      "         [ 4.3641e-03,  2.1302e-02, -1.4374e-02,  ...,  4.4557e-03,\n",
      "           1.4100e-02,  1.9593e-02]]])\n"
     ]
    }
   ],
   "source": [
    "from steves_utils.transforms import get_average_magnitude, get_average_power\n",
    "\n",
    "print(set([u for u,_ in val_original_source]))\n",
    "print(set([u for u,_ in val_original_target]))\n",
    "\n",
    "s_x, s_y, q_x, q_y, _ = next(iter(train_processed_source))\n",
    "print(s_x)\n",
    "\n",
    "# for ds in [\n",
    "#     train_processed_source,\n",
    "#     val_processed_source,\n",
    "#     test_processed_source,\n",
    "#     train_processed_target,\n",
    "#     val_processed_target,\n",
    "#     test_processed_target\n",
    "# ]:\n",
    "#     for s_x, s_y, q_x, q_y, _ in ds:\n",
    "#         for X in (s_x, q_x):\n",
    "#             for x in X:\n",
    "#                 assert np.isclose(get_average_magnitude(x.numpy()), 1.0)\n",
    "#                 assert np.isclose(get_average_power(x.numpy()), 1.0)\n",
    "                "
   ]
  },
  {
   "cell_type": "code",
   "execution_count": 21,
   "id": "bbdacba1",
   "metadata": {
    "execution": {
     "iopub.execute_input": "2022-03-21T17:45:30.465034Z",
     "iopub.status.busy": "2022-03-21T17:45:30.464529Z",
     "iopub.status.idle": "2022-03-21T17:45:30.680415Z",
     "shell.execute_reply": "2022-03-21T17:45:30.681089Z"
    },
    "papermill": {
     "duration": 0.24407,
     "end_time": "2022-03-21T17:45:30.681337",
     "exception": false,
     "start_time": "2022-03-21T17:45:30.437267",
     "status": "completed"
    },
    "tags": []
   },
   "outputs": [
    {
     "name": "stdout",
     "output_type": "stream",
     "text": [
      "(2, 256)\n"
     ]
    }
   ],
   "source": [
    "###################################\n",
    "# Build the model\n",
    "###################################\n",
    "# easfsl only wants a tuple for the shape\n",
    "model = Steves_Prototypical_Network(x_net, device=p.device, x_shape=tuple(p.x_shape))\n",
    "optimizer = Adam(params=model.parameters(), lr=p.lr)"
   ]
  },
  {
   "cell_type": "code",
   "execution_count": 22,
   "id": "22b39ac5",
   "metadata": {
    "execution": {
     "iopub.execute_input": "2022-03-21T17:45:30.740430Z",
     "iopub.status.busy": "2022-03-21T17:45:30.740048Z",
     "iopub.status.idle": "2022-03-21T18:16:06.370925Z",
     "shell.execute_reply": "2022-03-21T18:16:06.370580Z"
    },
    "papermill": {
     "duration": 1835.658768,
     "end_time": "2022-03-21T18:16:06.371009",
     "exception": false,
     "start_time": "2022-03-21T17:45:30.712241",
     "status": "completed"
    },
    "tags": []
   },
   "outputs": [
    {
     "name": "stdout",
     "output_type": "stream",
     "text": [
      "epoch: 1, [batch: 1 / 6843], examples_per_second: 32.2084, train_label_loss: 2.1935, \n"
     ]
    },
    {
     "name": "stdout",
     "output_type": "stream",
     "text": [
      "epoch: 1, [batch: 685 / 6843], examples_per_second: 2280.5031, train_label_loss: 0.4950, \n"
     ]
    },
    {
     "name": "stdout",
     "output_type": "stream",
     "text": [
      "epoch: 1, [batch: 1369 / 6843], examples_per_second: 2486.4739, train_label_loss: 0.2610, \n"
     ]
    },
    {
     "name": "stdout",
     "output_type": "stream",
     "text": [
      "epoch: 1, [batch: 2053 / 6843], examples_per_second: 2598.5096, train_label_loss: 0.0117, \n"
     ]
    },
    {
     "name": "stdout",
     "output_type": "stream",
     "text": [
      "epoch: 1, [batch: 2737 / 6843], examples_per_second: 2612.5721, train_label_loss: 0.2321, \n"
     ]
    },
    {
     "name": "stdout",
     "output_type": "stream",
     "text": [
      "epoch: 1, [batch: 3422 / 6843], examples_per_second: 2298.5349, train_label_loss: 0.3228, \n"
     ]
    },
    {
     "name": "stdout",
     "output_type": "stream",
     "text": [
      "epoch: 1, [batch: 4106 / 6843], examples_per_second: 2326.7431, train_label_loss: 0.4473, \n"
     ]
    },
    {
     "name": "stdout",
     "output_type": "stream",
     "text": [
      "epoch: 1, [batch: 4790 / 6843], examples_per_second: 2552.3186, train_label_loss: 0.8334, \n"
     ]
    },
    {
     "name": "stdout",
     "output_type": "stream",
     "text": [
      "epoch: 1, [batch: 5474 / 6843], examples_per_second: 2536.9972, train_label_loss: 0.0735, \n"
     ]
    },
    {
     "name": "stdout",
     "output_type": "stream",
     "text": [
      "epoch: 1, [batch: 6158 / 6843], examples_per_second: 2585.2246, train_label_loss: 0.2968, \n"
     ]
    },
    {
     "name": "stdout",
     "output_type": "stream",
     "text": [
      "=============================================================\n",
      "epoch: 1, source_val_acc_label: 0.9623, target_val_acc_label: 0.2990, source_val_label_loss: 0.1809, target_val_label_loss: 2.5515, \n",
      "=============================================================\n"
     ]
    },
    {
     "name": "stdout",
     "output_type": "stream",
     "text": [
      "New best\n"
     ]
    },
    {
     "name": "stdout",
     "output_type": "stream",
     "text": [
      "epoch: 2, [batch: 1 / 6824], examples_per_second: 2.6488, train_label_loss: 0.0700, \n"
     ]
    },
    {
     "name": "stdout",
     "output_type": "stream",
     "text": [
      "epoch: 2, [batch: 683 / 6824], examples_per_second: 2995.5397, train_label_loss: 0.2089, \n"
     ]
    },
    {
     "name": "stdout",
     "output_type": "stream",
     "text": [
      "epoch: 2, [batch: 1365 / 6824], examples_per_second: 3321.8131, train_label_loss: 0.2769, \n"
     ]
    },
    {
     "name": "stdout",
     "output_type": "stream",
     "text": [
      "epoch: 2, [batch: 2047 / 6824], examples_per_second: 2671.2969, train_label_loss: 0.2782, \n"
     ]
    },
    {
     "name": "stdout",
     "output_type": "stream",
     "text": [
      "epoch: 2, [batch: 2730 / 6824], examples_per_second: 2358.9688, train_label_loss: 0.0091, \n"
     ]
    },
    {
     "name": "stdout",
     "output_type": "stream",
     "text": [
      "epoch: 2, [batch: 3412 / 6824], examples_per_second: 2299.8466, train_label_loss: 0.0188, \n"
     ]
    },
    {
     "name": "stdout",
     "output_type": "stream",
     "text": [
      "epoch: 2, [batch: 4094 / 6824], examples_per_second: 2315.4358, train_label_loss: 0.0131, \n"
     ]
    },
    {
     "name": "stdout",
     "output_type": "stream",
     "text": [
      "epoch: 2, [batch: 4777 / 6824], examples_per_second: 2317.5164, train_label_loss: 0.0124, \n"
     ]
    },
    {
     "name": "stdout",
     "output_type": "stream",
     "text": [
      "epoch: 2, [batch: 5459 / 6824], examples_per_second: 2293.2094, train_label_loss: 0.0059, \n"
     ]
    },
    {
     "name": "stdout",
     "output_type": "stream",
     "text": [
      "epoch: 2, [batch: 6141 / 6824], examples_per_second: 2318.3472, train_label_loss: 0.0269, \n"
     ]
    },
    {
     "name": "stdout",
     "output_type": "stream",
     "text": [
      "=============================================================\n",
      "epoch: 2, source_val_acc_label: 0.9708, target_val_acc_label: 0.2907, source_val_label_loss: 0.1301, target_val_label_loss: 2.5419, \n",
      "=============================================================\n"
     ]
    },
    {
     "name": "stdout",
     "output_type": "stream",
     "text": [
      "epoch: 3, [batch: 1 / 6845], examples_per_second: 2.2568, train_label_loss: 0.0215, \n"
     ]
    },
    {
     "name": "stdout",
     "output_type": "stream",
     "text": [
      "epoch: 3, [batch: 685 / 6845], examples_per_second: 2579.7236, train_label_loss: 0.0076, \n"
     ]
    },
    {
     "name": "stdout",
     "output_type": "stream",
     "text": [
      "epoch: 3, [batch: 1369 / 6845], examples_per_second: 2586.7590, train_label_loss: 0.1512, \n"
     ]
    },
    {
     "name": "stdout",
     "output_type": "stream",
     "text": [
      "epoch: 3, [batch: 2054 / 6845], examples_per_second: 2442.4288, train_label_loss: 0.1582, \n"
     ]
    },
    {
     "name": "stdout",
     "output_type": "stream",
     "text": [
      "epoch: 3, [batch: 2738 / 6845], examples_per_second: 2281.1945, train_label_loss: 0.0064, \n"
     ]
    },
    {
     "name": "stdout",
     "output_type": "stream",
     "text": [
      "epoch: 3, [batch: 3423 / 6845], examples_per_second: 2301.7146, train_label_loss: 0.2810, \n"
     ]
    },
    {
     "name": "stdout",
     "output_type": "stream",
     "text": [
      "epoch: 3, [batch: 4107 / 6845], examples_per_second: 2309.6366, train_label_loss: 0.0138, \n"
     ]
    },
    {
     "name": "stdout",
     "output_type": "stream",
     "text": [
      "epoch: 3, [batch: 4791 / 6845], examples_per_second: 2291.8440, train_label_loss: 0.1085, \n"
     ]
    },
    {
     "name": "stdout",
     "output_type": "stream",
     "text": [
      "epoch: 3, [batch: 5476 / 6845], examples_per_second: 2309.4847, train_label_loss: 0.0230, \n"
     ]
    },
    {
     "name": "stdout",
     "output_type": "stream",
     "text": [
      "epoch: 3, [batch: 6160 / 6845], examples_per_second: 2366.0898, train_label_loss: 0.1927, \n"
     ]
    },
    {
     "name": "stdout",
     "output_type": "stream",
     "text": [
      "=============================================================\n",
      "epoch: 3, source_val_acc_label: 0.9730, target_val_acc_label: 0.3252, source_val_label_loss: 0.1146, target_val_label_loss: 2.4869, \n",
      "=============================================================\n"
     ]
    },
    {
     "name": "stdout",
     "output_type": "stream",
     "text": [
      "New best\n"
     ]
    },
    {
     "name": "stdout",
     "output_type": "stream",
     "text": [
      "epoch: 4, [batch: 1 / 6840], examples_per_second: 2.3151, train_label_loss: 0.0062, \n"
     ]
    },
    {
     "name": "stdout",
     "output_type": "stream",
     "text": [
      "epoch: 4, [batch: 684 / 6840], examples_per_second: 2507.7766, train_label_loss: 0.2839, \n"
     ]
    },
    {
     "name": "stdout",
     "output_type": "stream",
     "text": [
      "epoch: 4, [batch: 1368 / 6840], examples_per_second: 2502.9815, train_label_loss: 0.0169, \n"
     ]
    },
    {
     "name": "stdout",
     "output_type": "stream",
     "text": [
      "epoch: 4, [batch: 2052 / 6840], examples_per_second: 2316.1454, train_label_loss: 0.0008, \n"
     ]
    },
    {
     "name": "stdout",
     "output_type": "stream",
     "text": [
      "epoch: 4, [batch: 2736 / 6840], examples_per_second: 2276.8771, train_label_loss: 0.2221, \n"
     ]
    },
    {
     "name": "stdout",
     "output_type": "stream",
     "text": [
      "epoch: 4, [batch: 3420 / 6840], examples_per_second: 2303.7229, train_label_loss: 0.1435, \n"
     ]
    },
    {
     "name": "stdout",
     "output_type": "stream",
     "text": [
      "epoch: 4, [batch: 4104 / 6840], examples_per_second: 2302.9824, train_label_loss: 0.0243, \n"
     ]
    },
    {
     "name": "stdout",
     "output_type": "stream",
     "text": [
      "epoch: 4, [batch: 4788 / 6840], examples_per_second: 2282.0200, train_label_loss: 0.2529, \n"
     ]
    },
    {
     "name": "stdout",
     "output_type": "stream",
     "text": [
      "epoch: 4, [batch: 5472 / 6840], examples_per_second: 2323.8768, train_label_loss: 0.0085, \n"
     ]
    },
    {
     "name": "stdout",
     "output_type": "stream",
     "text": [
      "epoch: 4, [batch: 6156 / 6840], examples_per_second: 2449.6426, train_label_loss: 0.1250, \n"
     ]
    },
    {
     "name": "stdout",
     "output_type": "stream",
     "text": [
      "=============================================================\n",
      "epoch: 4, source_val_acc_label: 0.9742, target_val_acc_label: 0.2986, source_val_label_loss: 0.1197, target_val_label_loss: 2.5018, \n",
      "=============================================================\n"
     ]
    },
    {
     "name": "stdout",
     "output_type": "stream",
     "text": [
      "epoch: 5, [batch: 1 / 6843], examples_per_second: 2.3798, train_label_loss: 0.3390, \n"
     ]
    },
    {
     "name": "stdout",
     "output_type": "stream",
     "text": [
      "epoch: 5, [batch: 685 / 6843], examples_per_second: 2613.0120, train_label_loss: 0.0211, \n"
     ]
    },
    {
     "name": "stdout",
     "output_type": "stream",
     "text": [
      "epoch: 5, [batch: 1369 / 6843], examples_per_second: 2608.6031, train_label_loss: 0.1927, \n"
     ]
    },
    {
     "name": "stdout",
     "output_type": "stream",
     "text": [
      "epoch: 5, [batch: 2053 / 6843], examples_per_second: 2571.3933, train_label_loss: 0.0036, \n"
     ]
    },
    {
     "name": "stdout",
     "output_type": "stream",
     "text": [
      "epoch: 5, [batch: 2737 / 6843], examples_per_second: 2567.7737, train_label_loss: 0.0374, \n"
     ]
    },
    {
     "name": "stdout",
     "output_type": "stream",
     "text": [
      "epoch: 5, [batch: 3422 / 6843], examples_per_second: 2596.2353, train_label_loss: 0.2854, \n"
     ]
    },
    {
     "name": "stdout",
     "output_type": "stream",
     "text": [
      "epoch: 5, [batch: 4106 / 6843], examples_per_second: 2564.1087, train_label_loss: 0.2578, \n"
     ]
    },
    {
     "name": "stdout",
     "output_type": "stream",
     "text": [
      "epoch: 5, [batch: 4790 / 6843], examples_per_second: 2560.7781, train_label_loss: 0.0021, \n"
     ]
    },
    {
     "name": "stdout",
     "output_type": "stream",
     "text": [
      "epoch: 5, [batch: 5474 / 6843], examples_per_second: 2573.3072, train_label_loss: 0.0026, \n"
     ]
    },
    {
     "name": "stdout",
     "output_type": "stream",
     "text": [
      "epoch: 5, [batch: 6158 / 6843], examples_per_second: 2739.7156, train_label_loss: 0.0819, \n"
     ]
    },
    {
     "name": "stdout",
     "output_type": "stream",
     "text": [
      "=============================================================\n",
      "epoch: 5, source_val_acc_label: 0.9742, target_val_acc_label: 0.2616, source_val_label_loss: 0.1139, target_val_label_loss: 2.5101, \n",
      "=============================================================\n"
     ]
    },
    {
     "name": "stdout",
     "output_type": "stream",
     "text": [
      "epoch: 6, [batch: 1 / 6854], examples_per_second: 3.0757, train_label_loss: 0.0930, \n"
     ]
    },
    {
     "name": "stdout",
     "output_type": "stream",
     "text": [
      "epoch: 6, [batch: 686 / 6854], examples_per_second: 3278.6553, train_label_loss: 0.0006, \n"
     ]
    },
    {
     "name": "stdout",
     "output_type": "stream",
     "text": [
      "epoch: 6, [batch: 1371 / 6854], examples_per_second: 3450.9283, train_label_loss: 0.0037, \n"
     ]
    },
    {
     "name": "stdout",
     "output_type": "stream",
     "text": [
      "epoch: 6, [batch: 2056 / 6854], examples_per_second: 3319.2848, train_label_loss: 0.0004, \n"
     ]
    },
    {
     "name": "stdout",
     "output_type": "stream",
     "text": [
      "epoch: 6, [batch: 2742 / 6854], examples_per_second: 3410.2132, train_label_loss: 0.0334, \n"
     ]
    },
    {
     "name": "stdout",
     "output_type": "stream",
     "text": [
      "epoch: 6, [batch: 3427 / 6854], examples_per_second: 2695.1071, train_label_loss: 0.0482, \n"
     ]
    },
    {
     "name": "stdout",
     "output_type": "stream",
     "text": [
      "epoch: 6, [batch: 4112 / 6854], examples_per_second: 2621.0885, train_label_loss: 0.0443, \n"
     ]
    },
    {
     "name": "stdout",
     "output_type": "stream",
     "text": [
      "epoch: 6, [batch: 4798 / 6854], examples_per_second: 2619.1841, train_label_loss: 0.0180, \n"
     ]
    },
    {
     "name": "stdout",
     "output_type": "stream",
     "text": [
      "epoch: 6, [batch: 5483 / 6854], examples_per_second: 3025.4643, train_label_loss: 0.0015, \n"
     ]
    },
    {
     "name": "stdout",
     "output_type": "stream",
     "text": [
      "epoch: 6, [batch: 6168 / 6854], examples_per_second: 2710.5862, train_label_loss: 0.1416, \n"
     ]
    },
    {
     "name": "stdout",
     "output_type": "stream",
     "text": [
      "=============================================================\n",
      "epoch: 6, source_val_acc_label: 0.9755, target_val_acc_label: 0.2893, source_val_label_loss: 0.1087, target_val_label_loss: 2.4396, \n",
      "=============================================================\n"
     ]
    },
    {
     "name": "stdout",
     "output_type": "stream",
     "text": [
      "epoch: 7, [batch: 1 / 6843], examples_per_second: 2.1972, train_label_loss: 0.0229, \n"
     ]
    },
    {
     "name": "stdout",
     "output_type": "stream",
     "text": [
      "epoch: 7, [batch: 685 / 6843], examples_per_second: 2368.7981, train_label_loss: 0.0025, \n"
     ]
    },
    {
     "name": "stdout",
     "output_type": "stream",
     "text": [
      "epoch: 7, [batch: 1369 / 6843], examples_per_second: 2551.0127, train_label_loss: 0.1153, \n"
     ]
    },
    {
     "name": "stdout",
     "output_type": "stream",
     "text": [
      "epoch: 7, [batch: 2053 / 6843], examples_per_second: 2573.6330, train_label_loss: 0.0010, \n"
     ]
    },
    {
     "name": "stdout",
     "output_type": "stream",
     "text": [
      "epoch: 7, [batch: 2737 / 6843], examples_per_second: 2458.1421, train_label_loss: 0.0441, \n"
     ]
    },
    {
     "name": "stdout",
     "output_type": "stream",
     "text": [
      "epoch: 7, [batch: 3422 / 6843], examples_per_second: 2290.2484, train_label_loss: 0.2734, \n"
     ]
    },
    {
     "name": "stdout",
     "output_type": "stream",
     "text": [
      "epoch: 7, [batch: 4106 / 6843], examples_per_second: 2297.1857, train_label_loss: 0.1762, \n"
     ]
    },
    {
     "name": "stdout",
     "output_type": "stream",
     "text": [
      "epoch: 7, [batch: 4790 / 6843], examples_per_second: 2290.6800, train_label_loss: 0.2358, \n"
     ]
    },
    {
     "name": "stdout",
     "output_type": "stream",
     "text": [
      "epoch: 7, [batch: 5474 / 6843], examples_per_second: 2295.1509, train_label_loss: 0.0041, \n"
     ]
    },
    {
     "name": "stdout",
     "output_type": "stream",
     "text": [
      "epoch: 7, [batch: 6158 / 6843], examples_per_second: 2467.4277, train_label_loss: 0.0047, \n"
     ]
    },
    {
     "name": "stdout",
     "output_type": "stream",
     "text": [
      "=============================================================\n",
      "epoch: 7, source_val_acc_label: 0.9754, target_val_acc_label: 0.2639, source_val_label_loss: 0.1051, target_val_label_loss: 2.4475, \n",
      "=============================================================\n"
     ]
    },
    {
     "name": "stdout",
     "output_type": "stream",
     "text": [
      "Patience (3) exhausted\n"
     ]
    }
   ],
   "source": [
    "###################################\n",
    "# train\n",
    "###################################\n",
    "jig = PTN_Train_Eval_Test_Jig(model, p.BEST_MODEL_PATH, p.device)\n",
    "\n",
    "jig.train(\n",
    "    train_iterable=datasets.source.processed.train,\n",
    "    source_val_iterable=datasets.source.processed.val,\n",
    "    target_val_iterable=datasets.target.processed.val,\n",
    "    num_epochs=p.n_epoch,\n",
    "    num_logs_per_epoch=p.NUM_LOGS_PER_EPOCH,\n",
    "    patience=p.patience,\n",
    "    optimizer=optimizer,\n",
    "    criteria_for_best=p.criteria_for_best,\n",
    ")"
   ]
  },
  {
   "cell_type": "code",
   "execution_count": 23,
   "id": "31e8fabf",
   "metadata": {
    "execution": {
     "iopub.execute_input": "2022-03-21T18:16:06.464182Z",
     "iopub.status.busy": "2022-03-21T18:16:06.463813Z",
     "iopub.status.idle": "2022-03-21T18:16:06.496526Z",
     "shell.execute_reply": "2022-03-21T18:16:06.495660Z"
    },
    "papermill": {
     "duration": 0.081556,
     "end_time": "2022-03-21T18:16:06.496717",
     "exception": false,
     "start_time": "2022-03-21T18:16:06.415161",
     "status": "completed"
    },
    "tags": []
   },
   "outputs": [],
   "source": [
    "total_experiment_time_secs = time.time() - start_time_secs"
   ]
  },
  {
   "cell_type": "code",
   "execution_count": 24,
   "id": "87b9595b",
   "metadata": {
    "execution": {
     "iopub.execute_input": "2022-03-21T18:16:06.597644Z",
     "iopub.status.busy": "2022-03-21T18:16:06.596394Z",
     "iopub.status.idle": "2022-03-21T18:20:14.336083Z",
     "shell.execute_reply": "2022-03-21T18:20:14.335149Z"
    },
    "papermill": {
     "duration": 247.78969,
     "end_time": "2022-03-21T18:20:14.336270",
     "exception": false,
     "start_time": "2022-03-21T18:16:06.546580",
     "status": "completed"
    },
    "tags": []
   },
   "outputs": [],
   "source": [
    "###################################\n",
    "# Evaluate the model\n",
    "###################################\n",
    "source_test_label_accuracy, source_test_label_loss = jig.test(datasets.source.processed.test)\n",
    "target_test_label_accuracy, target_test_label_loss = jig.test(datasets.target.processed.test)\n",
    "\n",
    "source_val_label_accuracy, source_val_label_loss = jig.test(datasets.source.processed.val)\n",
    "target_val_label_accuracy, target_val_label_loss = jig.test(datasets.target.processed.val)\n",
    "\n",
    "history = jig.get_history()\n",
    "\n",
    "total_epochs_trained = len(history[\"epoch_indices\"])\n",
    "\n",
    "val_dl = Iterable_Aggregator((datasets.source.original.val,datasets.target.original.val))\n",
    "\n",
    "confusion = ptn_confusion_by_domain_over_dataloader(model, p.device, val_dl)\n",
    "per_domain_accuracy = per_domain_accuracy_from_confusion(confusion)\n",
    "\n",
    "# Add a key to per_domain_accuracy for if it was a source domain\n",
    "for domain, accuracy in per_domain_accuracy.items():\n",
    "    per_domain_accuracy[domain] = {\n",
    "        \"accuracy\": accuracy,\n",
    "        \"source?\": domain in p.domains_source\n",
    "    }\n",
    "\n",
    "# Do an independent accuracy assesment JUST TO BE SURE!\n",
    "# _source_test_label_accuracy = independent_accuracy_assesment(model, datasets.source.processed.test, p.device)\n",
    "# _target_test_label_accuracy = independent_accuracy_assesment(model, datasets.target.processed.test, p.device)\n",
    "# _source_val_label_accuracy = independent_accuracy_assesment(model, datasets.source.processed.val, p.device)\n",
    "# _target_val_label_accuracy = independent_accuracy_assesment(model, datasets.target.processed.val, p.device)\n",
    "\n",
    "# assert(_source_test_label_accuracy == source_test_label_accuracy)\n",
    "# assert(_target_test_label_accuracy == target_test_label_accuracy)\n",
    "# assert(_source_val_label_accuracy == source_val_label_accuracy)\n",
    "# assert(_target_val_label_accuracy == target_val_label_accuracy)\n",
    "\n",
    "experiment = {\n",
    "    \"experiment_name\": p.experiment_name,\n",
    "    \"parameters\": dict(p),\n",
    "    \"results\": {\n",
    "        \"source_test_label_accuracy\": source_test_label_accuracy,\n",
    "        \"source_test_label_loss\": source_test_label_loss,\n",
    "        \"target_test_label_accuracy\": target_test_label_accuracy,\n",
    "        \"target_test_label_loss\": target_test_label_loss,\n",
    "        \"source_val_label_accuracy\": source_val_label_accuracy,\n",
    "        \"source_val_label_loss\": source_val_label_loss,\n",
    "        \"target_val_label_accuracy\": target_val_label_accuracy,\n",
    "        \"target_val_label_loss\": target_val_label_loss,\n",
    "        \"total_epochs_trained\": total_epochs_trained,\n",
    "        \"total_experiment_time_secs\": total_experiment_time_secs,\n",
    "        \"confusion\": confusion,\n",
    "        \"per_domain_accuracy\": per_domain_accuracy,\n",
    "    },\n",
    "    \"history\": history,\n",
    "    \"dataset_metrics\": get_dataset_metrics(datasets, \"ptn\"),\n",
    "}"
   ]
  },
  {
   "cell_type": "code",
   "execution_count": 25,
   "id": "54a21829",
   "metadata": {
    "execution": {
     "iopub.execute_input": "2022-03-21T18:20:14.435685Z",
     "iopub.status.busy": "2022-03-21T18:20:14.435300Z",
     "iopub.status.idle": "2022-03-21T18:20:14.653294Z",
     "shell.execute_reply": "2022-03-21T18:20:14.653986Z"
    },
    "papermill": {
     "duration": 0.266195,
     "end_time": "2022-03-21T18:20:14.654180",
     "exception": false,
     "start_time": "2022-03-21T18:20:14.387985",
     "status": "completed"
    },
    "tags": []
   },
   "outputs": [
    {
     "data": {
      "image/png": "[encoded data removed]",
      "text/plain": [
       "<Figure size 1080x504 with 1 Axes>"
      ]
     },
     "metadata": {
      "needs_background": "light"
     },
     "output_type": "display_data"
    }
   ],
   "source": [
    "ax = get_loss_curve(experiment)\n",
    "plt.show()"
   ]
  },
  {
   "cell_type": "code",
   "execution_count": 26,
   "id": "fd8a0f60",
   "metadata": {
    "execution": {
     "iopub.execute_input": "2022-03-21T18:20:14.751318Z",
     "iopub.status.busy": "2022-03-21T18:20:14.750941Z",
     "iopub.status.idle": "2022-03-21T18:20:15.076711Z",
     "shell.execute_reply": "2022-03-21T18:20:15.077401Z"
    },
    "papermill": {
     "duration": 0.373218,
     "end_time": "2022-03-21T18:20:15.077617",
     "exception": false,
     "start_time": "2022-03-21T18:20:14.704399",
     "status": "completed"
    },
    "tags": []
   },
   "outputs": [
    {
     "data": {
      "text/plain": [
       "<AxesSubplot:title={'center':'Results'}>"
      ]
     },
     "execution_count": 26,
     "metadata": {},
     "output_type": "execute_result"
    },
    {
     "data": {
      "image/png": "[encoded data removed]",
      "text/plain": [
       "<Figure size 1080x504 with 1 Axes>"
      ]
     },
     "metadata": {
      "needs_background": "light"
     },
     "output_type": "display_data"
    }
   ],
   "source": [
    "get_results_table(experiment)"
   ]
  },
  {
   "cell_type": "code",
   "execution_count": 27,
   "id": "cf8dc689",
   "metadata": {
    "execution": {
     "iopub.execute_input": "2022-03-21T18:20:15.184260Z",
     "iopub.status.busy": "2022-03-21T18:20:15.183881Z",
     "iopub.status.idle": "2022-03-21T18:20:15.433486Z",
     "shell.execute_reply": "2022-03-21T18:20:15.434187Z"
    },
    "papermill": {
     "duration": 0.301885,
     "end_time": "2022-03-21T18:20:15.434404",
     "exception": false,
     "start_time": "2022-03-21T18:20:15.132519",
     "status": "completed"
    },
    "tags": []
   },
   "outputs": [
    {
     "data": {
      "text/plain": [
       "<AxesSubplot:title={'center':'Per Domain Validation Accuracy'}, xlabel='domain'>"
      ]
     },
     "execution_count": 27,
     "metadata": {},
     "output_type": "execute_result"
    },
    {
     "data": {
      "image/png": "[encoded data removed]",
      "text/plain": [
       "<Figure size 1080x504 with 1 Axes>"
      ]
     },
     "metadata": {
      "needs_background": "light"
     },
     "output_type": "display_data"
    }
   ],
   "source": [
    "get_domain_accuracies(experiment)"
   ]
  },
  {
   "cell_type": "code",
   "execution_count": 28,
   "id": "a74ae082",
   "metadata": {
    "execution": {
     "iopub.execute_input": "2022-03-21T18:20:15.674354Z",
     "iopub.status.busy": "2022-03-21T18:20:15.673974Z",
     "iopub.status.idle": "2022-03-21T18:20:15.697839Z",
     "shell.execute_reply": "2022-03-21T18:20:15.697125Z"
    },
    "papermill": {
     "duration": 0.16533,
     "end_time": "2022-03-21T18:20:15.698002",
     "exception": false,
     "start_time": "2022-03-21T18:20:15.532672",
     "status": "completed"
    },
    "tags": []
   },
   "outputs": [
    {
     "name": "stdout",
     "output_type": "stream",
     "text": [
      "Source Test Label Accuracy: 0.9722078593588418 Target Test Label Accuracy: 0.3255208333333333\n",
      "Source Val Label Accuracy: 0.9730353375527426 Target Val Label Accuracy: 0.32516276041666664\n"
     ]
    }
   ],
   "source": [
    "print(\"Source Test Label Accuracy:\", experiment[\"results\"][\"source_test_label_accuracy\"], \"Target Test Label Accuracy:\", experiment[\"results\"][\"target_test_label_accuracy\"])\n",
    "print(\"Source Val Label Accuracy:\", experiment[\"results\"][\"source_val_label_accuracy\"], \"Target Val Label Accuracy:\", experiment[\"results\"][\"target_val_label_accuracy\"])"
   ]
  },
  {
   "cell_type": "code",
   "execution_count": 29,
   "id": "dacca602",
   "metadata": {
    "execution": {
     "iopub.execute_input": "2022-03-21T18:20:15.802797Z",
     "iopub.status.busy": "2022-03-21T18:20:15.802378Z",
     "iopub.status.idle": "2022-03-21T18:20:15.832592Z",
     "shell.execute_reply": "2022-03-21T18:20:15.833284Z"
    },
    "papermill": {
     "duration": 0.081359,
     "end_time": "2022-03-21T18:20:15.833481",
     "exception": false,
     "start_time": "2022-03-21T18:20:15.752122",
     "status": "completed"
    },
    "tags": [
     "experiment_json"
    ]
   },
   "outputs": [
    {
     "data": {
      "text/plain": [
       "'{\"experiment_name\": \"tl_1v2:wisig-oracle.run1.framed\", \"parameters\": {\"experiment_name\": \"tl_1v2:wisig-oracle.run1.framed\", \"device\": \"cuda\", \"lr\": 0.0001, \"n_shot\": 3, \"n_query\": 2, \"train_k_factor\": 3, \"val_k_factor\": 2, \"test_k_factor\": 2, \"torch_default_dtype\": \"torch.float32\", \"n_epoch\": 50, \"patience\": 3, \"criteria_for_best\": \"target_accuracy\", \"x_net\": [{\"class\": \"nnReshape\", \"kargs\": {\"shape\": [-1, 1, 2, 256]}}, {\"class\": \"Conv2d\", \"kargs\": {\"in_channels\": 1, \"out_channels\": 256, \"kernel_size\": [1, 7], \"bias\": false, \"padding\": [0, 3]}}, {\"class\": \"ReLU\", \"kargs\": {\"inplace\": true}}, {\"class\": \"BatchNorm2d\", \"kargs\": {\"num_features\": 256}}, {\"class\": \"Conv2d\", \"kargs\": {\"in_channels\": 256, \"out_channels\": 80, \"kernel_size\": [2, 7], \"bias\": true, \"padding\": [0, 3]}}, {\"class\": \"ReLU\", \"kargs\": {\"inplace\": true}}, {\"class\": \"BatchNorm2d\", \"kargs\": {\"num_features\": 80}}, {\"class\": \"Flatten\", \"kargs\": {}}, {\"class\": \"Linear\", \"kargs\": {\"in_features\": 20480, \"out_features\": 256}}, {\"class\": \"ReLU\", \"kargs\": {\"inplace\": true}}, {\"class\": \"BatchNorm1d\", \"kargs\": {\"num_features\": 256}}, {\"class\": \"Linear\", \"kargs\": {\"in_features\": 256, \"out_features\": 256}}], \"NUM_LOGS_PER_EPOCH\": 10, \"BEST_MODEL_PATH\": \"./best_model.pth\", \"n_way\": 16, \"datasets\": [{\"labels\": [\"1-10\", \"1-12\", \"1-14\", \"1-16\", \"1-18\", \"1-19\", \"1-8\", \"10-11\", \"10-17\", \"10-4\", \"10-7\", \"11-1\", \"11-10\", \"11-19\", \"11-20\", \"11-4\", \"11-7\", \"12-19\", \"12-20\", \"12-7\", \"13-14\", \"13-18\", \"13-19\", \"13-20\", \"13-3\", \"13-7\", \"14-10\", \"14-11\", \"14-12\", \"14-13\", \"14-14\", \"14-19\", \"14-20\", \"14-7\", \"14-8\", \"14-9\", \"15-1\", \"15-19\", \"15-6\", \"16-1\", \"16-16\", \"16-19\", \"16-20\", \"17-10\", \"17-11\", \"18-1\", \"18-10\", \"18-11\", \"18-12\", \"18-13\", \"18-14\", \"18-15\", \"18-16\", \"18-17\", \"18-19\", \"18-2\", \"18-20\", \"18-4\", \"18-5\", \"18-7\", \"18-8\", \"18-9\", \"19-1\", \"19-10\", \"19-11\", \"19-12\", \"19-13\", \"19-14\", \"19-15\", \"19-19\", \"19-2\", \"19-20\", \"19-3\", \"19-4\", \"19-6\", \"19-7\", \"19-8\", \"19-9\", \"2-1\", \"2-13\", \"2-15\", \"2-3\", \"2-4\", \"2-5\", \"2-6\", \"2-7\", \"2-8\", \"20-1\", \"20-12\", \"20-14\", \"20-15\", \"20-16\", \"20-18\", \"20-19\", \"20-20\", \"20-3\", \"20-4\", \"20-5\", \"20-7\", \"20-8\", \"3-1\", \"3-13\", \"3-18\", \"3-2\", \"3-8\", \"4-1\", \"4-10\", \"4-11\", \"5-1\", \"5-5\", \"6-1\", \"6-15\", \"6-6\", \"7-10\", \"7-11\", \"7-12\", \"7-13\", \"7-14\", \"7-7\", \"7-8\", \"7-9\", \"8-1\", \"8-13\", \"8-14\", \"8-18\", \"8-20\", \"8-3\", \"8-8\", \"9-1\", \"9-7\"], \"domains\": [1, 2, 3, 4], \"num_examples_per_domain_per_label\": -1, \"pickle_path\": \"/root/csc500-main/datasets/wisig.node3-19.stratified_ds.2022A.pkl\", \"source_or_target_dataset\": \"source\", \"x_transforms\": [], \"episode_transforms\": [], \"domain_prefix\": \"Wisig_\"}, {\"labels\": [\"3123D52\", \"3123D65\", \"3123D79\", \"3123D80\", \"3123D54\", \"3123D70\", \"3123D7B\", \"3123D89\", \"3123D58\", \"3123D76\", \"3123D7D\", \"3123EFE\", \"3123D64\", \"3123D78\", \"3123D7E\", \"3124E4A\"], \"domains\": [32, 38, 8, 44, 14, 50, 20, 26], \"num_examples_per_domain_per_label\": 2000, \"pickle_path\": \"/root/csc500-main/datasets/oracle.Run1_framed_2000Examples_stratified_ds.2022A.pkl\", \"source_or_target_dataset\": \"target\", \"x_transforms\": [], \"episode_transforms\": [], \"domain_prefix\": \"ORACLE.run1\"}], \"dataset_seed\": 500, \"seed\": 500, \"x_shape\": [2, 256], \"domains_source\": [\"Wisig_1\", \"Wisig_2\", \"Wisig_3\", \"Wisig_4\"], \"domains_target\": [\"ORACLE.run132\", \"ORACLE.run138\", \"ORACLE.run18\", \"ORACLE.run144\", \"ORACLE.run114\", \"ORACLE.run150\", \"ORACLE.run120\", \"ORACLE.run126\"]}, \"results\": {\"source_test_label_accuracy\": 0.9722078593588418, \"source_test_label_loss\": 0.11898590624332428, \"target_test_label_accuracy\": 0.3255208333333333, \"target_test_label_loss\": 2.4859511852264404, \"source_val_label_accuracy\": 0.9730353375527426, \"source_val_label_loss\": 0.114598348736763, \"target_val_label_accuracy\": 0.32516276041666664, \"target_val_label_loss\": 2.486924171447754, \"total_epochs_trained\": 7, \"total_experiment_time_secs\": 1856.4923615455627, \"confusion\": {\"Wisig_3\": {\"99\": {\"99\": 34, \"106\": 2}, \"8\": {\"8\": 124}, \"65\": {\"65\": 12}, \"117\": {\"117\": 110, \"30\": 1, \"88\": 1}, \"18\": {\"18\": 122, \"88\": 2}, \"39\": {\"39\": 106, \"126\": 1, \"16\": 1}, \"102\": {\"102\": 124}, \"76\": {\"65\": 1, \"76\": 15}, \"101\": {\"101\": 50, \"88\": 1, \"30\": 1}, \"57\": {\"57\": 19, \"74\": 1}, \"86\": {\"86\": 27, \"101\": 1}, \"11\": {\"11\": 132}, \"98\": {\"98\": 128}, \"42\": {\"42\": 28}, \"47\": {\"47\": 12}, \"49\": {\"8\": 2, \"49\": 22}, \"111\": {\"111\": 130, \"88\": 1, \"125\": 1}, \"36\": {\"36\": 115, \"27\": 1}, \"124\": {\"124\": 104, \"92\": 1, \"90\": 1}, \"122\": {\"122\": 55, \"21\": 1, \"69\": 1, \"70\": 2, \"30\": 1}, \"93\": {\"93\": 142}, \"89\": {\"89\": 28}, \"51\": {\"51\": 16}, \"73\": {\"73\": 39, \"21\": 1}, \"45\": {\"45\": 16}, \"5\": {\"5\": 107, \"26\": 1, \"70\": 1, \"88\": 2, \"18\": 1}, \"69\": {\"69\": 82, \"12\": 1, \"106\": 1}, \"26\": {\"26\": 130}, \"1\": {\"1\": 107, \"21\": 1}, \"92\": {\"92\": 32}, \"96\": {\"96\": 20}, \"85\": {\"85\": 36}, \"114\": {\"114\": 125, \"128\": 1}, \"50\": {\"50\": 16}, \"81\": {\"81\": 32}, \"2\": {\"2\": 27, \"92\": 1}, \"33\": {\"33\": 145, \"88\": 1}, \"31\": {\"31\": 20}, \"90\": {\"90\": 116, \"101\": 1, \"10\": 1}, \"17\": {\"17\": 10, \"120\": 1, \"63\": 1, \"100\": 1, \"88\": 1, \"30\": 1, \"105\": 1}, \"116\": {\"116\": 28}, \"91\": {\"91\": 23, \"32\": 1}, \"120\": {\"120\": 20}, \"128\": {\"128\": 32}, \"78\": {\"78\": 12, \"17\": 1, \"88\": 1, \"110\": 1, \"62\": 1}, \"58\": {\"58\": 16}, \"23\": {\"23\": 29, \"60\": 2, \"88\": 1}, \"15\": {\"15\": 102, \"110\": 1, \"21\": 1}, \"74\": {\"74\": 16}, \"34\": {\"34\": 31, \"1\": 1}, \"103\": {\"103\": 16}, \"106\": {\"106\": 100}, \"44\": {\"44\": 69, \"120\": 1, \"16\": 1, \"90\": 1}, \"9\": {\"9\": 31, \"43\": 1}, \"97\": {\"97\": 20}, \"123\": {\"123\": 14, \"106\": 1, \"109\": 1}, \"6\": {\"6\": 30, \"101\": 1, \"118\": 1}, \"68\": {\"68\": 16}, \"24\": {\"24\": 46, \"27\": 2}, \"21\": {\"21\": 44, \"70\": 1, \"2\": 1, \"30\": 1, \"26\": 1}, \"83\": {\"83\": 22, \"72\": 1, \"1\": 1}, \"60\": {\"60\": 28}, \"87\": {\"87\": 120}, \"30\": {\"30\": 81, \"116\": 1, \"44\": 1, \"69\": 1}, \"43\": {\"43\": 53, \"27\": 1, \"21\": 2}, \"115\": {\"115\": 16}, \"40\": {\"40\": 119, \"16\": 1}, \"112\": {\"112\": 14, \"16\": 1, \"92\": 1}, \"66\": {\"66\": 16}, \"110\": {\"110\": 91, \"24\": 1}, \"3\": {\"3\": 112, \"5\": 1, \"88\": 1}, \"20\": {\"20\": 16}, \"28\": {\"28\": 16}, \"84\": {\"84\": 103, \"39\": 2, \"0\": 1, \"16\": 1, \"33\": 1}, \"79\": {\"79\": 12}, \"118\": {\"118\": 97, \"127\": 1, \"70\": 1, \"126\": 1}, \"56\": {\"56\": 10, \"84\": 1, \"21\": 1}, \"48\": {\"48\": 12, \"63\": 2, \"13\": 1, \"79\": 1}, \"77\": {\"77\": 16}, \"14\": {\"14\": 80}, \"64\": {\"64\": 20}, \"67\": {\"67\": 15, \"27\": 1}, \"62\": {\"62\": 124}, \"75\": {\"75\": 16}, \"63\": {\"63\": 13, \"19\": 1, \"60\": 2}, \"7\": {\"7\": 112}, \"125\": {\"125\": 101, \"113\": 1, \"23\": 1, \"101\": 1}, \"37\": {\"37\": 16}, \"121\": {\"121\": 30, \"73\": 1, \"88\": 1}, \"16\": {\"16\": 101, \"88\": 1, \"94\": 1, \"26\": 1}, \"35\": {\"35\": 11, \"103\": 1}, \"32\": {\"32\": 32}, \"46\": {\"46\": 16}, \"70\": {\"70\": 70, \"12\": 1, \"30\": 1}, \"129\": {\"129\": 32}, \"95\": {\"95\": 31, \"70\": 1}, \"72\": {\"72\": 28}, \"19\": {\"19\": 32}, \"52\": {\"52\": 16}, \"100\": {\"100\": 16}, \"104\": {\"104\": 16}, \"59\": {\"59\": 12}, \"109\": {\"109\": 125, \"118\": 1}, \"88\": {\"88\": 106, \"69\": 1, \"126\": 1}, \"27\": {\"27\": 87, \"21\": 1, \"30\": 1, \"26\": 1, \"110\": 1, \"36\": 3}, \"113\": {\"113\": 118, \"71\": 1, \"82\": 1}, \"105\": {\"105\": 124}, \"71\": {\"71\": 68}, \"108\": {\"108\": 124}, \"41\": {\"41\": 16}, \"80\": {\"80\": 15, \"2\": 1}, \"13\": {\"63\": 1, \"13\": 7, \"78\": 2, \"115\": 3, \"70\": 2, \"40\": 1}, \"55\": {\"55\": 16}, \"0\": {\"0\": 103, \"16\": 2, \"19\": 1}, \"25\": {\"25\": 16}, \"53\": {\"53\": 20}, \"61\": {\"61\": 16}, \"38\": {\"38\": 16}, \"127\": {\"127\": 124, \"88\": 1, \"16\": 1, \"26\": 1, \"84\": 1}, \"4\": {\"4\": 93, \"8\": 1, \"62\": 1, \"88\": 1}, \"12\": {\"12\": 104}, \"126\": {\"126\": 119, \"88\": 2, \"109\": 1, \"39\": 2}, \"29\": {\"29\": 32}, \"107\": {\"107\": 135, \"1\": 1}, \"82\": {\"82\": 28}, \"94\": {\"94\": 83, \"18\": 1}, \"54\": {\"54\": 16}, \"10\": {\"10\": 127, \"106\": 1}, \"22\": {\"22\": 16}, \"119\": {\"119\": 16}}, \"Wisig_2\": {\"73\": {\"73\": 27, \"75\": 1}, \"40\": {\"40\": 126, \"58\": 1, \"16\": 1, \"14\": 1, \"3\": 2, \"26\": 1}, \"99\": {\"99\": 31, \"110\": 1}, \"5\": {\"5\": 107, \"26\": 2, \"3\": 1, \"88\": 1, \"0\": 1}, \"108\": {\"108\": 132}, \"128\": {\"128\": 23, \"17\": 1}, \"89\": {\"89\": 35, \"81\": 1}, \"107\": {\"107\": 53, \"5\": 1, \"122\": 1, \"21\": 2, \"0\": 1, \"70\": 1, \"71\": 1, \"15\": 1, \"62\": 1, \"14\": 2}, \"2\": {\"2\": 31, \"43\": 1}, \"78\": {\"78\": 44, \"21\": 2, \"70\": 2}, \"85\": {\"85\": 32}, \"44\": {\"44\": 100}, \"58\": {\"58\": 20}, \"57\": {\"57\": 18, \"10\": 1, \"88\": 1}, \"41\": {\"41\": 19, \"3\": 1}, \"53\": {\"53\": 16}, \"14\": {\"14\": 42, \"55\": 1, \"24\": 1, \"21\": 2, \"4\": 1, \"71\": 1}, \"83\": {\"83\": 38, \"69\": 1, \"118\": 1}, \"119\": {\"119\": 20}, \"95\": {\"95\": 35, \"87\": 1}, \"28\": {\"28\": 19, \"24\": 1}, \"19\": {\"19\": 28}, \"69\": {\"69\": 125, \"105\": 1, \"16\": 1, \"3\": 2, \"13\": 1, \"39\": 1, \"40\": 1}, \"93\": {\"93\": 132, \"109\": 1, \"62\": 1}, \"9\": {\"9\": 32}, \"118\": {\"118\": 66, \"11\": 1, \"109\": 1}, \"43\": {\"43\": 112, \"87\": 1, \"14\": 1, \"94\": 1, \"0\": 1}, \"47\": {\"47\": 11, \"13\": 1}, \"125\": {\"125\": 143, \"70\": 1}, \"29\": {\"29\": 32}, \"122\": {\"122\": 135, \"40\": 1, \"70\": 1, \"105\": 1, \"11\": 1, \"26\": 1}, \"46\": {\"46\": 16}, \"86\": {\"86\": 32}, \"70\": {\"70\": 108, \"17\": 1, \"93\": 1, \"21\": 2, \"78\": 3, \"87\": 1, \"122\": 1, \"0\": 2, \"3\": 1, \"88\": 2, \"109\": 1, \"15\": 1}, \"51\": {\"51\": 17, \"59\": 1, \"10\": 1, \"16\": 1}, \"23\": {\"23\": 41, \"8\": 1, \"110\": 2}, \"121\": {\"121\": 36}, \"63\": {\"21\": 1, \"63\": 17, \"13\": 1, \"49\": 1}, \"102\": {\"102\": 121, \"40\": 1}, \"21\": {\"21\": 48}, \"55\": {\"55\": 15, \"116\": 1}, \"54\": {\"54\": 20}, \"6\": {\"6\": 32}, \"109\": {\"109\": 89, \"78\": 1, \"70\": 2, \"107\": 1, \"88\": 1, \"87\": 1, \"39\": 5}, \"64\": {\"109\": 1, \"64\": 15}, \"20\": {\"20\": 16}, \"98\": {\"98\": 111, \"121\": 1, \"0\": 1, \"3\": 1}, \"92\": {\"92\": 25, \"76\": 1, \"13\": 1, \"11\": 1}, \"35\": {\"35\": 12}, \"113\": {\"113\": 63, \"109\": 2, \"26\": 2, \"16\": 1, \"11\": 2, \"21\": 1, \"62\": 1}, \"71\": {\"71\": 96, \"122\": 1, \"13\": 1, \"109\": 1, \"87\": 1}, \"94\": {\"94\": 54, \"71\": 1, \"87\": 2, \"3\": 1, \"26\": 3, \"72\": 1, \"16\": 1, \"11\": 1}, \"52\": {\"52\": 19, \"70\": 1}, \"116\": {\"116\": 27, \"72\": 1}, \"87\": {\"87\": 103, \"26\": 1, \"3\": 2, \"43\": 1, \"0\": 1, \"16\": 1, \"11\": 1, \"105\": 1, \"117\": 1}, \"90\": {\"90\": 148}, \"91\": {\"91\": 28}, \"84\": {\"84\": 88, \"109\": 1, \"7\": 1, \"11\": 1, \"1\": 1}, \"24\": {\"24\": 103, \"8\": 1, \"16\": 1, \"94\": 1, \"0\": 2, \"3\": 1, \"117\": 1, \"88\": 1, \"26\": 1}, \"33\": {\"33\": 131, \"87\": 1, \"69\": 1, \"26\": 1}, \"81\": {\"81\": 23, \"107\": 1}, \"115\": {\"115\": 11, \"71\": 1}, \"77\": {\"77\": 16}, \"106\": {\"106\": 117, \"21\": 1, \"30\": 1, \"24\": 1}, \"42\": {\"42\": 24, \"14\": 1, \"109\": 1, \"107\": 1, \"26\": 1}, \"38\": {\"38\": 16}, \"36\": {\"36\": 107, \"97\": 1, \"14\": 1, \"0\": 1, \"39\": 1, \"3\": 1, \"87\": 1, \"43\": 1}, \"79\": {\"79\": 16}, \"60\": {\"60\": 27, \"107\": 1}, \"80\": {\"80\": 15, \"16\": 1}, \"32\": {\"32\": 34, \"34\": 2}, \"0\": {\"0\": 115, \"87\": 1}, \"127\": {\"127\": 123, \"24\": 1}, \"114\": {\"114\": 114, \"60\": 1, \"0\": 1}, \"62\": {\"62\": 138, \"21\": 1, \"26\": 1}, \"129\": {\"129\": 31, \"73\": 1}, \"56\": {\"56\": 12}, \"76\": {\"76\": 16}, \"72\": {\"72\": 26, \"21\": 1, \"115\": 1}, \"88\": {\"88\": 122, \"71\": 1, \"11\": 1}, \"68\": {\"68\": 14, \"21\": 1, \"12\": 1}, \"67\": {\"67\": 14, \"75\": 2}, \"100\": {\"100\": 16}, \"34\": {\"34\": 29, \"91\": 1, \"21\": 1, \"24\": 1}, \"16\": {\"16\": 124}, \"126\": {\"126\": 120}, \"4\": {\"4\": 86, \"120\": 1, \"14\": 1}, \"101\": {\"101\": 146}, \"104\": {\"104\": 18, \"109\": 1, \"12\": 1}, \"30\": {\"67\": 1, \"30\": 106, \"125\": 1, \"71\": 1, \"40\": 1}, \"8\": {\"8\": 127, \"113\": 1}, \"82\": {\"82\": 34, \"16\": 1, \"70\": 1}, \"26\": {\"26\": 130, \"87\": 1, \"113\": 1, \"24\": 1, \"3\": 1, \"69\": 1, \"1\": 1, \"43\": 1, \"40\": 1}, \"96\": {\"96\": 20}, \"3\": {\"3\": 134, \"39\": 2}, \"25\": {\"25\": 14, \"21\": 1, \"3\": 1}, \"13\": {\"13\": 11, \"93\": 1, \"3\": 1, \"49\": 1, \"48\": 2}, \"37\": {\"37\": 13, \"45\": 2, \"3\": 1}, \"49\": {\"49\": 21, \"81\": 1, \"92\": 1, \"61\": 1}, \"111\": {\"111\": 136}, \"105\": {\"105\": 131, \"7\": 1}, \"17\": {\"17\": 14, \"87\": 1, \"70\": 1}, \"65\": {\"65\": 18, \"107\": 1, \"26\": 1}, \"123\": {\"123\": 15, \"39\": 1}, \"74\": {\"74\": 14, \"113\": 1, \"17\": 1}, \"97\": {\"97\": 16, \"15\": 1, \"68\": 1, \"24\": 1, \"72\": 1}, \"112\": {\"112\": 15, \"85\": 1}, \"120\": {\"120\": 19, \"121\": 1}, \"50\": {\"50\": 14, \"29\": 1, \"128\": 1}, \"59\": {\"59\": 15, \"24\": 1}, \"10\": {\"10\": 57, \"14\": 1, \"12\": 1, \"49\": 1}, \"45\": {\"45\": 15, \"88\": 1}, \"12\": {\"12\": 85, \"21\": 2, \"117\": 1}, \"75\": {\"51\": 2, \"75\": 13, \"40\": 1}, \"48\": {\"48\": 20}, \"61\": {\"61\": 19, \"10\": 1}, \"124\": {\"124\": 122, \"42\": 1, \"44\": 1}, \"11\": {\"11\": 77, \"117\": 1, \"0\": 1, \"69\": 1}, \"103\": {\"103\": 14, \"49\": 1, \"75\": 1}, \"7\": {\"7\": 126, \"109\": 1, \"110\": 1, \"3\": 1, \"68\": 1, \"105\": 2}, \"18\": {\"18\": 117, \"26\": 2, \"71\": 1}, \"31\": {\"31\": 20}, \"15\": {\"15\": 116, \"40\": 1, \"3\": 1}, \"1\": {\"1\": 119, \"3\": 1, \"39\": 1, \"75\": 1}, \"66\": {\"66\": 19, \"72\": 1}, \"110\": {\"110\": 32, \"14\": 1, \"72\": 1, \"8\": 1, \"122\": 2, \"26\": 1, \"12\": 1, \"87\": 1}, \"27\": {\"27\": 58, \"69\": 1, \"94\": 1, \"0\": 1, \"71\": 1, \"110\": 1, \"3\": 3, \"36\": 1, \"11\": 1}, \"22\": {\"22\": 18, \"3\": 1, \"75\": 1}, \"117\": {\"117\": 117, \"30\": 1, \"109\": 1, \"87\": 1}, \"39\": {\"39\": 103, \"109\": 4, \"26\": 1}}, \"Wisig_1\": {\"60\": {\"60\": 15, \"23\": 1}, \"59\": {\"60\": 1, \"59\": 10, \"29\": 1}, \"107\": {\"107\": 122, \"94\": 1, \"62\": 1}, \"113\": {\"113\": 123, \"12\": 1}, \"6\": {\"6\": 29, \"15\": 1, \"21\": 1, \"23\": 1}, \"24\": {\"24\": 88, \"108\": 1, \"88\": 2, \"3\": 1}, \"50\": {\"50\": 15, \"30\": 1}, \"62\": {\"62\": 119, \"70\": 1}, \"48\": {\"48\": 12}, \"104\": {\"104\": 15, \"46\": 1}, \"105\": {\"105\": 77, \"40\": 5, \"65\": 1, \"39\": 1}, \"44\": {\"44\": 76}, \"49\": {\"49\": 20}, \"55\": {\"55\": 12}, \"4\": {\"4\": 100}, \"76\": {\"76\": 16}, \"85\": {\"85\": 32}, \"89\": {\"89\": 36}, \"74\": {\"74\": 16}, \"112\": {\"112\": 16}, \"79\": {\"79\": 12}, \"0\": {\"0\": 83, \"84\": 1}, \"91\": {\"91\": 28}, \"118\": {\"118\": 83, \"39\": 1}, \"80\": {\"80\": 16}, \"64\": {\"64\": 16}, \"97\": {\"97\": 18, \"27\": 1, \"88\": 1}, \"84\": {\"84\": 124}, \"38\": {\"38\": 16}, \"30\": {\"30\": 52}, \"32\": {\"32\": 29, \"65\": 1, \"121\": 1, \"3\": 1}, \"72\": {\"72\": 32}, \"33\": {\"33\": 130, \"86\": 1, \"70\": 1}, \"34\": {\"34\": 31, \"91\": 1}, \"28\": {\"28\": 20}, \"123\": {\"123\": 15, \"17\": 1}, \"2\": {\"2\": 29, \"109\": 1, \"21\": 1, \"19\": 1}, \"70\": {\"70\": 123, \"109\": 1}, \"127\": {\"127\": 107, \"78\": 1}, \"110\": {\"110\": 124, \"39\": 1, \"113\": 1, \"3\": 2}, \"126\": {\"126\": 136}, \"13\": {\"13\": 16}, \"15\": {\"15\": 104}, \"29\": {\"29\": 28}, \"18\": {\"18\": 119, \"23\": 1}, \"7\": {\"7\": 142}, \"56\": {\"56\": 12}, \"98\": {\"98\": 108}, \"99\": {\"99\": 24}, \"77\": {\"77\": 15, \"90\": 1}, \"103\": {\"15\": 1, \"103\": 14, \"94\": 1}, \"128\": {\"128\": 24}, \"3\": {\"3\": 84, \"93\": 1, \"127\": 1, \"85\": 1, \"15\": 1}, \"121\": {\"121\": 32}, \"42\": {\"42\": 28}, \"90\": {\"90\": 120}, \"37\": {\"37\": 16}, \"120\": {\"50\": 1, \"120\": 17, \"21\": 1, \"78\": 1}, \"117\": {\"117\": 118}, \"9\": {\"9\": 32}, \"108\": {\"108\": 123, \"24\": 1}, \"83\": {\"83\": 28}, \"14\": {\"14\": 96}, \"63\": {\"63\": 16}, \"11\": {\"11\": 117, \"3\": 1}, \"95\": {\"95\": 36}, \"26\": {\"26\": 128, \"88\": 1, \"65\": 1}, \"22\": {\"22\": 16}, \"102\": {\"102\": 120}, \"69\": {\"69\": 100, \"94\": 1, \"84\": 1, \"39\": 2, \"109\": 1, \"1\": 1}, \"1\": {\"1\": 130}, \"67\": {\"67\": 16}, \"57\": {\"57\": 12}, \"8\": {\"8\": 132, \"40\": 1, \"1\": 1}, \"109\": {\"109\": 122, \"94\": 1, \"1\": 1}, \"129\": {\"129\": 27, \"13\": 1}, \"111\": {\"111\": 118, \"68\": 2}, \"71\": {\"71\": 101, \"102\": 2, \"8\": 1, \"93\": 1, \"26\": 1, \"70\": 1, \"62\": 1}, \"47\": {\"47\": 12}, \"82\": {\"82\": 35, \"28\": 1}, \"27\": {\"27\": 91, \"88\": 1}, \"19\": {\"19\": 28}, \"122\": {\"87\": 1, \"122\": 86, \"21\": 1}, \"53\": {\"53\": 20}, \"87\": {\"87\": 105, \"33\": 1, \"37\": 1, \"93\": 1}, \"100\": {\"100\": 16}, \"66\": {\"66\": 16}, \"31\": {\"31\": 16}, \"58\": {\"58\": 12}, \"68\": {\"68\": 16}, \"88\": {\"88\": 111, \"12\": 1, \"27\": 2}, \"45\": {\"45\": 9, \"2\": 1, \"115\": 1, \"55\": 1}, \"114\": {\"114\": 128}, \"23\": {\"23\": 24}, \"65\": {\"58\": 1, \"65\": 9, \"51\": 1, \"70\": 1}, \"124\": {\"124\": 118}, \"10\": {\"10\": 117, \"5\": 1, \"70\": 1, \"87\": 1}, \"92\": {\"92\": 28}, \"40\": {\"40\": 141, \"105\": 1, \"84\": 1, \"16\": 1}, \"73\": {\"73\": 18, \"23\": 1, \"50\": 1}, \"94\": {\"94\": 91, \"84\": 1}, \"81\": {\"81\": 28}, \"101\": {\"101\": 109, \"14\": 1}, \"86\": {\"86\": 33, \"21\": 1, \"105\": 1, \"3\": 1}, \"78\": {\"78\": 16}, \"96\": {\"96\": 18, \"99\": 2}, \"5\": {\"5\": 85, \"110\": 1, \"84\": 1, \"33\": 1}, \"16\": {\"16\": 104, \"94\": 1, \"3\": 2, \"88\": 1}, \"35\": {\"35\": 12}, \"51\": {\"51\": 16}, \"46\": {\"46\": 12}, \"20\": {\"20\": 16}, \"116\": {\"116\": 31, \"94\": 1}, \"75\": {\"75\": 16}, \"43\": {\"43\": 126, \"3\": 1, \"87\": 1}, \"17\": {\"17\": 16}, \"12\": {\"12\": 103, \"107\": 1}, \"25\": {\"25\": 16}, \"54\": {\"54\": 15, \"81\": 1}, \"36\": {\"36\": 109, \"39\": 1, \"3\": 2}, \"52\": {\"52\": 20}, \"61\": {\"61\": 12}, \"106\": {\"106\": 119, \"12\": 1}, \"39\": {\"39\": 101, \"70\": 1, \"122\": 1, \"3\": 1}, \"119\": {\"119\": 16}, \"125\": {\"125\": 148}, \"93\": {\"93\": 147, \"3\": 1}, \"115\": {\"115\": 12}, \"21\": {\"21\": 37, \"30\": 1, \"86\": 1, \"109\": 1}, \"41\": {\"41\": 16}}, \"Wisig_4\": {\"55\": {\"55\": 16}, \"9\": {\"9\": 28}, \"70\": {\"70\": 119, \"10\": 2, \"39\": 1}, \"112\": {\"112\": 16}, \"115\": {\"115\": 13, \"36\": 1, \"48\": 1, \"34\": 1}, \"56\": {\"56\": 11, \"72\": 1}, \"108\": {\"4\": 1, \"108\": 83, \"25\": 1, \"21\": 1, \"7\": 1, \"88\": 3, \"1\": 1, \"26\": 1}, \"117\": {\"117\": 122, \"11\": 1, \"22\": 1}, \"111\": {\"111\": 129, \"88\": 1, \"62\": 1, \"3\": 1}, \"71\": {\"71\": 95, \"108\": 1, \"114\": 1, \"26\": 1, \"9\": 1, \"36\": 1, \"10\": 2, \"118\": 1, \"1\": 1}, \"59\": {\"59\": 12}, \"10\": {\"10\": 122, \"24\": 1, \"1\": 1}, \"83\": {\"83\": 28}, \"116\": {\"116\": 28}, \"13\": {\"13\": 16}, \"4\": {\"4\": 103, \"69\": 1}, \"125\": {\"125\": 103, \"117\": 1, \"59\": 1, \"124\": 1}, \"102\": {\"102\": 122, \"1\": 1, \"108\": 1}, \"47\": {\"47\": 12}, \"28\": {\"28\": 18, \"79\": 2}, \"82\": {\"82\": 30, \"124\": 1, \"122\": 1}, \"60\": {\"60\": 32}, \"107\": {\"107\": 130, \"2\": 1, \"84\": 1, \"44\": 2}, \"75\": {\"75\": 16}, \"31\": {\"31\": 16}, \"92\": {\"92\": 28}, \"58\": {\"58\": 16}, \"113\": {\"113\": 123, \"21\": 1, \"4\": 1, \"110\": 1, \"3\": 1, \"1\": 1}, \"95\": {\"95\": 32}, \"14\": {\"14\": 109, \"126\": 1, \"107\": 1, \"118\": 1}, \"17\": {\"17\": 20}, \"104\": {\"104\": 16}, \"72\": {\"72\": 29, \"63\": 1, \"7\": 1, \"2\": 1}, \"69\": {\"69\": 124, \"88\": 1, \"21\": 1, \"30\": 1, \"109\": 1}, \"63\": {\"63\": 16}, \"12\": {\"12\": 96, \"88\": 2, \"82\": 1, \"1\": 1}, \"25\": {\"25\": 16}, \"67\": {\"67\": 15, \"123\": 1}, \"50\": {\"50\": 16}, \"43\": {\"43\": 115, \"23\": 2, \"44\": 1, \"118\": 1, \"84\": 1}, \"96\": {\"96\": 20}, \"128\": {\"128\": 24}, \"77\": {\"77\": 12}, \"54\": {\"54\": 16}, \"118\": {\"118\": 106, \"4\": 1, \"15\": 1, \"69\": 1, \"3\": 1, \"30\": 1, \"21\": 1}, \"30\": {\"30\": 74, \"10\": 2}, \"51\": {\"51\": 14, \"75\": 1, \"1\": 1}, \"122\": {\"122\": 79, \"30\": 2, \"10\": 1, \"111\": 1, \"7\": 1}, \"46\": {\"46\": 19, \"20\": 1}, \"79\": {\"79\": 16}, \"103\": {\"103\": 16}, \"74\": {\"12\": 1, \"74\": 15}, \"90\": {\"90\": 146}, \"8\": {\"8\": 139, \"71\": 1, \"90\": 1, \"114\": 1}, \"94\": {\"94\": 83, \"39\": 1, \"15\": 1, \"111\": 1, \"78\": 1, \"8\": 1}, \"7\": {\"7\": 119, \"36\": 1, \"1\": 1, \"3\": 1}, \"61\": {\"61\": 16}, \"26\": {\"26\": 118, \"30\": 2}, \"127\": {\"127\": 107, \"26\": 1}, \"23\": {\"23\": 15, \"21\": 1}, \"1\": {\"1\": 105, \"23\": 1, \"39\": 1, \"10\": 1}, \"93\": {\"93\": 134}, \"106\": {\"106\": 107, \"18\": 1, \"94\": 2, \"1\": 1, \"71\": 1, \"109\": 1, \"15\": 1, \"27\": 1, \"30\": 1}, \"110\": {\"110\": 117, \"11\": 1}, \"76\": {\"76\": 16}, \"36\": {\"36\": 119, \"1\": 1}, \"21\": {\"21\": 38, \"84\": 1, \"3\": 1}, \"37\": {\"37\": 16}, \"11\": {\"11\": 119, \"110\": 1}, \"109\": {\"109\": 114, \"24\": 1, \"21\": 1}, \"62\": {\"21\": 1, \"62\": 54, \"81\": 1, \"113\": 2, \"3\": 1, \"26\": 1}, \"89\": {\"89\": 31, \"48\": 1}, \"126\": {\"126\": 117, \"8\": 1, \"5\": 1, \"39\": 3, \"16\": 1, \"105\": 1}, \"101\": {\"101\": 123, \"15\": 1, \"1\": 1, \"124\": 1, \"5\": 1, \"84\": 1}, \"65\": {\"65\": 12}, \"19\": {\"19\": 28}, \"27\": {\"27\": 97, \"0\": 1, \"69\": 1, \"70\": 1}, \"5\": {\"5\": 133, \"23\": 1, \"71\": 1, \"1\": 1}, \"73\": {\"19\": 4, \"73\": 20}, \"6\": {\"6\": 24}, \"29\": {\"29\": 32}, \"114\": {\"114\": 127, \"105\": 1}, \"49\": {\"49\": 32}, \"16\": {\"16\": 114, \"5\": 1, \"88\": 1, \"118\": 1, \"69\": 1}, \"68\": {\"68\": 16}, \"98\": {\"98\": 118, \"69\": 1, \"101\": 1}, \"64\": {\"64\": 16}, \"121\": {\"121\": 31, \"19\": 1}, \"124\": {\"124\": 114}, \"97\": {\"97\": 20}, \"40\": {\"40\": 136}, \"119\": {\"119\": 16}, \"100\": {\"100\": 19, \"91\": 1}, \"87\": {\"87\": 116}, \"88\": {\"88\": 116, \"23\": 1, \"108\": 3, \"30\": 2, \"105\": 1, \"70\": 3, \"21\": 1, \"1\": 1}, \"52\": {\"52\": 16, \"83\": 1, \"48\": 1, \"53\": 1, \"72\": 1}, \"80\": {\"80\": 15, \"58\": 1}, \"105\": {\"105\": 94, \"118\": 2, \"26\": 1, \"39\": 1, \"4\": 1, \"5\": 1}, \"32\": {\"32\": 28}, \"35\": {\"35\": 12}, \"99\": {\"99\": 40}, \"18\": {\"18\": 118, \"15\": 1, \"30\": 1}, \"24\": {\"24\": 112}, \"85\": {\"85\": 27, \"26\": 1}, \"39\": {\"39\": 96, \"106\": 1, \"3\": 1, \"110\": 1, \"109\": 1}, \"123\": {\"123\": 16}, \"91\": {\"91\": 24}, \"78\": {\"78\": 31, \"21\": 1, \"72\": 1, \"88\": 1, \"106\": 1, \"26\": 1}, \"38\": {\"38\": 16}, \"15\": {\"15\": 124, \"3\": 1, \"18\": 1, \"110\": 1, \"105\": 1}, \"48\": {\"48\": 16}, \"45\": {\"45\": 16}, \"120\": {\"120\": 20}, \"44\": {\"44\": 64}, \"86\": {\"86\": 26, \"3\": 1, \"21\": 1}, \"20\": {\"20\": 16}, \"33\": {\"33\": 147, \"90\": 1, \"21\": 1, \"10\": 1}, \"129\": {\"129\": 28}, \"34\": {\"34\": 32}, \"81\": {\"81\": 35, \"21\": 1}, \"57\": {\"57\": 14, \"24\": 1, \"70\": 1}, \"0\": {\"0\": 113, \"70\": 1, \"95\": 1, \"106\": 1}, \"2\": {\"2\": 28}, \"42\": {\"42\": 28}, \"84\": {\"84\": 127, \"3\": 1, \"106\": 1, \"88\": 1, \"26\": 1, \"87\": 1}, \"3\": {\"3\": 123, \"78\": 1, \"110\": 1, \"98\": 1}, \"41\": {\"41\": 15, \"48\": 1}, \"53\": {\"53\": 14, \"41\": 1, \"0\": 1}, \"66\": {\"66\": 16}, \"22\": {\"22\": 16}}, \"ORACLE.run150\": {\"7\": {\"4\": 69, \"5\": 46, \"6\": 20, \"7\": 76, \"3\": 9, \"9\": 10, \"15\": 8, \"11\": 1, \"12\": 1}, \"10\": {\"10\": 76, \"8\": 52, \"1\": 41, \"2\": 15, \"0\": 41, \"14\": 7, \"13\": 8}, \"0\": {\"10\": 44, \"0\": 72, \"14\": 51, \"2\": 64, \"8\": 5, \"1\": 4}, \"11\": {\"12\": 47, \"9\": 27, \"6\": 23, \"11\": 51, \"15\": 27, \"13\": 30, \"5\": 5, \"1\": 7, \"3\": 20, \"4\": 2, \"8\": 1}, \"2\": {\"2\": 103, \"14\": 67, \"0\": 59, \"10\": 10, \"1\": 1}, \"14\": {\"0\": 53, \"14\": 104, \"2\": 68, \"10\": 15}, \"9\": {\"6\": 41, \"12\": 22, \"5\": 24, \"9\": 52, \"15\": 40, \"3\": 15, \"11\": 30, \"4\": 8, \"7\": 5, \"13\": 2, \"8\": 1}, \"13\": {\"13\": 74, \"8\": 30, \"3\": 10, \"1\": 44, \"11\": 38, \"5\": 5, \"15\": 8, \"10\": 2, \"6\": 10, \"12\": 16, \"9\": 3}, \"8\": {\"10\": 56, \"13\": 30, \"8\": 90, \"14\": 2, \"1\": 38, \"0\": 19, \"11\": 5}, \"15\": {\"9\": 27, \"15\": 48, \"6\": 38, \"5\": 45, \"11\": 17, \"7\": 13, \"3\": 28, \"12\": 9, \"4\": 14, \"13\": 1}, \"4\": {\"7\": 80, \"5\": 37, \"4\": 74, \"6\": 16, \"9\": 11, \"3\": 7, \"15\": 15}, \"5\": {\"7\": 52, \"5\": 51, \"15\": 19, \"6\": 26, \"11\": 10, \"4\": 42, \"12\": 5, \"9\": 13, \"3\": 12, \"8\": 1, \"1\": 2, \"13\": 7}, \"3\": {\"6\": 43, \"12\": 16, \"4\": 9, \"3\": 53, \"15\": 39, \"5\": 24, \"7\": 8, \"11\": 15, \"13\": 9, \"8\": 4, \"9\": 18, \"1\": 2}, \"1\": {\"8\": 35, \"13\": 51, \"11\": 23, \"10\": 27, \"12\": 10, \"1\": 81, \"2\": 2, \"15\": 3, \"3\": 2, \"6\": 3, \"5\": 1, \"9\": 1, \"0\": 1}, \"6\": {\"3\": 34, \"5\": 27, \"4\": 18, \"12\": 15, \"11\": 16, \"7\": 19, \"6\": 41, \"9\": 41, \"15\": 26, \"13\": 3}, \"12\": {\"12\": 79, \"1\": 11, \"13\": 12, \"11\": 40, \"3\": 13, \"6\": 14, \"9\": 46, \"5\": 6, \"8\": 5, \"15\": 14}}, \"ORACLE.run114\": {\"14\": {\"0\": 25, \"13\": 26, \"3\": 33, \"14\": 49, \"2\": 35, \"6\": 30, \"7\": 19, \"5\": 16, \"12\": 3, \"8\": 4}, \"6\": {\"6\": 94, \"13\": 53, \"2\": 14, \"3\": 32, \"14\": 24, \"0\": 10, \"7\": 3, \"15\": 4, \"5\": 6}, \"5\": {\"7\": 29, \"5\": 53, \"8\": 20, \"3\": 4, \"0\": 24, \"2\": 40, \"4\": 20, \"10\": 2, \"13\": 8, \"12\": 26, \"14\": 13, \"6\": 1}, \"15\": {\"15\": 239, \"13\": 1}, \"11\": {\"11\": 231, \"1\": 5, \"9\": 4}, \"8\": {\"12\": 53, \"8\": 79, \"3\": 1, \"0\": 12, \"4\": 16, \"7\": 36, \"2\": 5, \"10\": 3, \"5\": 30, \"9\": 1, \"13\": 3, \"14\": 1}, \"12\": {\"5\": 27, \"4\": 12, \"12\": 83, \"8\": 56, \"2\": 12, \"0\": 21, \"9\": 7, \"7\": 8, \"10\": 7, \"6\": 1, \"14\": 5, \"3\": 1}, \"1\": {\"1\": 130, \"10\": 26, \"9\": 69, \"4\": 15}, \"2\": {\"13\": 11, \"14\": 31, \"12\": 10, \"2\": 42, \"0\": 26, \"5\": 34, \"3\": 24, \"7\": 17, \"4\": 19, \"10\": 9, \"6\": 10, \"8\": 7}, \"13\": {\"5\": 13, \"13\": 39, \"6\": 54, \"4\": 8, \"2\": 25, \"14\": 27, \"3\": 25, \"0\": 11, \"15\": 18, \"10\": 1, \"7\": 11, \"8\": 6, \"12\": 2}, \"3\": {\"3\": 53, \"6\": 41, \"7\": 22, \"0\": 28, \"2\": 19, \"13\": 35, \"14\": 25, \"8\": 2, \"12\": 7, \"5\": 8}, \"0\": {\"0\": 33, \"7\": 18, \"5\": 21, \"8\": 18, \"12\": 19, \"4\": 6, \"14\": 27, \"10\": 6, \"3\": 29, \"2\": 29, \"6\": 20, \"13\": 14}, \"9\": {\"1\": 58, \"9\": 124, \"10\": 44, \"4\": 13, \"12\": 1}, \"4\": {\"5\": 29, \"2\": 18, \"1\": 10, \"10\": 50, \"4\": 70, \"13\": 3, \"12\": 17, \"14\": 1, \"8\": 18, \"0\": 10, \"3\": 1, \"9\": 11, \"7\": 2}, \"7\": {\"2\": 23, \"5\": 29, \"6\": 11, \"3\": 17, \"7\": 70, \"0\": 22, \"14\": 18, \"4\": 2, \"12\": 16, \"13\": 7, \"8\": 25}, \"10\": {\"4\": 70, \"10\": 66, \"1\": 26, \"5\": 17, \"13\": 2, \"9\": 37, \"2\": 11, \"12\": 4, \"8\": 3, \"14\": 3, \"0\": 1}}, \"ORACLE.run132\": {\"4\": {\"3\": 55, \"9\": 14, \"4\": 52, \"13\": 31, \"8\": 14, \"2\": 48, \"14\": 11, \"1\": 12, \"0\": 2, \"5\": 1}, \"14\": {\"2\": 27, \"7\": 51, \"0\": 42, \"14\": 56, \"8\": 28, \"5\": 16, \"4\": 13, \"3\": 2, \"15\": 1, \"13\": 2, \"1\": 2}, \"5\": {\"5\": 54, \"8\": 36, \"15\": 40, \"7\": 37, \"2\": 6, \"1\": 4, \"14\": 31, \"0\": 31, \"4\": 1}, \"10\": {\"10\": 125, \"12\": 83, \"9\": 11, \"6\": 14, \"11\": 6, \"13\": 1}, \"13\": {\"9\": 30, \"4\": 40, \"13\": 71, \"3\": 60, \"11\": 15, \"2\": 17, \"12\": 4, \"8\": 1, \"14\": 1, \"1\": 1}, \"9\": {\"11\": 33, \"3\": 18, \"13\": 33, \"9\": 67, \"4\": 25, \"2\": 17, \"12\": 25, \"8\": 1, \"10\": 18, \"1\": 2, \"14\": 1}, \"6\": {\"6\": 205, \"10\": 31, \"12\": 2, \"11\": 2}, \"3\": {\"13\": 63, \"4\": 48, \"3\": 77, \"9\": 13, \"2\": 21, \"8\": 9, \"1\": 2, \"14\": 5, \"12\": 1, \"11\": 1}, \"15\": {\"15\": 186, \"5\": 27, \"7\": 4, \"8\": 18, \"0\": 5}, \"7\": {\"2\": 6, \"5\": 40, \"7\": 43, \"14\": 50, \"1\": 11, \"8\": 41, \"0\": 42, \"15\": 3, \"4\": 4}, \"12\": {\"10\": 50, \"12\": 89, \"9\": 55, \"13\": 9, \"11\": 29, \"3\": 5, \"2\": 1, \"4\": 1, \"6\": 1}, \"8\": {\"8\": 60, \"0\": 38, \"3\": 4, \"7\": 29, \"2\": 11, \"14\": 37, \"5\": 30, \"15\": 18, \"1\": 3, \"13\": 1, \"4\": 9}, \"11\": {\"11\": 124, \"12\": 34, \"3\": 8, \"9\": 44, \"13\": 25, \"10\": 5}, \"2\": {\"13\": 16, \"9\": 9, \"2\": 62, \"14\": 19, \"1\": 22, \"4\": 53, \"8\": 6, \"3\": 30, \"0\": 16, \"7\": 7}, \"1\": {\"1\": 138, \"5\": 8, \"2\": 26, \"0\": 12, \"4\": 19, \"8\": 7, \"13\": 4, \"9\": 13, \"14\": 1, \"3\": 2, \"7\": 10}, \"0\": {\"14\": 47, \"5\": 40, \"0\": 47, \"8\": 39, \"7\": 42, \"15\": 7, \"3\": 1, \"2\": 15, \"4\": 2}}, \"ORACLE.run144\": {\"8\": {\"0\": 78, \"5\": 9, \"15\": 43, \"8\": 70, \"14\": 9, \"1\": 19, \"2\": 5, \"3\": 5, \"4\": 2}, \"11\": {\"11\": 215, \"13\": 18, \"6\": 7}, \"14\": {\"10\": 29, \"14\": 45, \"15\": 29, \"4\": 37, \"9\": 17, \"2\": 6, \"7\": 29, \"1\": 3, \"5\": 36, \"6\": 1, \"0\": 2, \"8\": 4, \"13\": 2}, \"10\": {\"7\": 43, \"14\": 20, \"4\": 26, \"9\": 48, \"2\": 14, \"10\": 54, \"6\": 7, \"5\": 22, \"13\": 3, \"1\": 2, \"15\": 1}, \"3\": {\"12\": 93, \"3\": 130, \"1\": 5, \"0\": 8, \"8\": 4}, \"15\": {\"1\": 17, \"0\": 27, \"8\": 44, \"15\": 51, \"14\": 29, \"5\": 40, \"2\": 9, \"10\": 7, \"4\": 10, \"7\": 5, \"9\": 1}, \"2\": {\"2\": 82, \"5\": 15, \"1\": 46, \"15\": 10, \"4\": 23, \"8\": 5, \"9\": 9, \"10\": 23, \"14\": 12, \"7\": 13, \"0\": 2}, \"12\": {\"12\": 120, \"3\": 113, \"1\": 2, \"0\": 5}, \"4\": {\"2\": 12, \"14\": 46, \"1\": 6, \"4\": 29, \"10\": 34, \"5\": 31, \"9\": 25, \"8\": 5, \"15\": 10, \"7\": 22, \"13\": 8, \"6\": 12}, \"1\": {\"5\": 12, \"1\": 87, \"8\": 20, \"2\": 54, \"10\": 6, \"15\": 22, \"3\": 5, \"0\": 20, \"4\": 7, \"9\": 2, \"7\": 1, \"14\": 3, \"12\": 1}, \"0\": {\"0\": 79, \"8\": 79, \"3\": 13, \"1\": 29, \"15\": 29, \"2\": 4, \"12\": 3, \"5\": 2, \"4\": 1, \"14\": 1}, \"9\": {\"6\": 36, \"4\": 18, \"10\": 23, \"7\": 42, \"9\": 48, \"13\": 30, \"14\": 12, \"5\": 14, \"2\": 11, \"1\": 3, \"11\": 2, \"15\": 1}, \"5\": {\"8\": 16, \"5\": 55, \"4\": 39, \"10\": 24, \"14\": 37, \"7\": 13, \"15\": 29, \"13\": 1, \"1\": 4, \"9\": 11, \"6\": 2, \"0\": 2, \"2\": 7}, \"6\": {\"6\": 95, \"13\": 65, \"11\": 9, \"7\": 27, \"9\": 29, \"10\": 7, \"4\": 7, \"14\": 1}, \"7\": {\"2\": 10, \"10\": 49, \"4\": 21, \"7\": 56, \"14\": 15, \"5\": 15, \"9\": 48, \"1\": 1, \"6\": 15, \"13\": 10}, \"13\": {\"7\": 10, \"4\": 9, \"13\": 96, \"6\": 75, \"11\": 20, \"9\": 25, \"10\": 4, \"5\": 1}}, \"ORACLE.run18\": {\"13\": {\"6\": 21, \"1\": 25, \"10\": 38, \"7\": 34, \"11\": 12, \"5\": 36, \"13\": 52, \"8\": 2, \"12\": 4, \"4\": 13, \"14\": 2, \"2\": 1}, \"3\": {\"3\": 166, \"2\": 37, \"9\": 24, \"15\": 13}, \"15\": {\"15\": 94, \"12\": 74, \"2\": 64, \"3\": 8}, \"4\": {\"6\": 31, \"4\": 60, \"14\": 45, \"7\": 14, \"11\": 24, \"10\": 12, \"1\": 13, \"8\": 34, \"13\": 3, \"5\": 4}, \"7\": {\"5\": 16, \"13\": 38, \"8\": 10, \"11\": 20, \"10\": 26, \"7\": 44, \"6\": 36, \"4\": 15, \"14\": 5, \"1\": 30}, \"2\": {\"3\": 54, \"15\": 53, \"2\": 87, \"12\": 39, \"9\": 3, \"10\": 1, \"5\": 1, \"13\": 1, \"1\": 1}, \"1\": {\"5\": 27, \"13\": 30, \"11\": 37, \"8\": 14, \"1\": 36, \"6\": 31, \"10\": 26, \"7\": 28, \"4\": 11}, \"0\": {\"0\": 231, \"14\": 9}, \"12\": {\"15\": 72, \"2\": 49, \"12\": 102, \"13\": 10, \"5\": 3, \"3\": 4}, \"6\": {\"4\": 27, \"8\": 22, \"7\": 42, \"13\": 22, \"1\": 23, \"11\": 29, \"10\": 25, \"5\": 12, \"6\": 31, \"14\": 7}, \"11\": {\"13\": 19, \"4\": 26, \"14\": 10, \"8\": 26, \"1\": 25, \"7\": 27, \"6\": 29, \"11\": 38, \"10\": 26, \"5\": 14}, \"9\": {\"3\": 19, \"9\": 212, \"2\": 8, \"15\": 1}, \"5\": {\"6\": 22, \"5\": 44, \"4\": 11, \"11\": 12, \"14\": 4, \"10\": 40, \"13\": 51, \"12\": 5, \"1\": 20, \"7\": 25, \"15\": 2, \"8\": 4}, \"10\": {\"6\": 31, \"1\": 24, \"11\": 26, \"7\": 40, \"13\": 37, \"10\": 35, \"5\": 32, \"4\": 7, \"8\": 4, \"14\": 3, \"12\": 1}, \"14\": {\"14\": 95, \"4\": 76, \"8\": 30, \"6\": 10, \"11\": 18, \"0\": 3, \"1\": 2, \"10\": 3, \"7\": 2, \"5\": 1}, \"8\": {\"7\": 25, \"4\": 36, \"8\": 44, \"5\": 5, \"1\": 25, \"6\": 28, \"11\": 42, \"10\": 12, \"14\": 16, \"13\": 7}}, \"ORACLE.run120\": {\"6\": {\"6\": 36, \"7\": 21, \"4\": 27, \"10\": 10, \"9\": 20, \"5\": 9, \"8\": 14, \"3\": 13, \"15\": 15, \"1\": 11, \"14\": 14, \"12\": 20, \"2\": 19, \"13\": 11}, \"11\": {\"14\": 6, \"0\": 91, \"5\": 6, \"11\": 108, \"8\": 19, \"3\": 8, \"1\": 2}, \"5\": {\"6\": 11, \"3\": 23, \"1\": 22, \"9\": 19, \"14\": 36, \"2\": 15, \"5\": 27, \"8\": 22, \"7\": 18, \"15\": 13, \"0\": 7, \"4\": 9, \"12\": 15, \"13\": 1, \"11\": 2}, \"14\": {\"12\": 3, \"8\": 44, \"5\": 23, \"14\": 56, \"7\": 6, \"9\": 15, \"3\": 29, \"6\": 26, \"11\": 4, \"0\": 14, \"15\": 3, \"2\": 3, \"1\": 12, \"4\": 2}, \"2\": {\"15\": 23, \"5\": 9, \"2\": 33, \"6\": 19, \"13\": 27, \"4\": 17, \"9\": 20, \"12\": 31, \"7\": 23, \"1\": 19, \"10\": 11, \"3\": 3, \"14\": 3, \"8\": 2}, \"7\": {\"4\": 22, \"9\": 19, \"2\": 23, \"3\": 8, \"1\": 23, \"10\": 4, \"12\": 25, \"14\": 9, \"6\": 19, \"7\": 26, \"15\": 30, \"8\": 11, \"13\": 11, \"5\": 9, \"0\": 1}, \"3\": {\"0\": 10, \"4\": 8, \"14\": 25, \"5\": 28, \"15\": 6, \"3\": 37, \"1\": 24, \"8\": 36, \"12\": 8, \"11\": 4, \"7\": 9, \"6\": 17, \"2\": 8, \"9\": 19, \"13\": 1}, \"4\": {\"1\": 12, \"6\": 46, \"15\": 22, \"3\": 9, \"2\": 22, \"10\": 14, \"7\": 24, \"12\": 25, \"4\": 22, \"14\": 7, \"9\": 12, \"5\": 8, \"13\": 14, \"8\": 3}, \"9\": {\"15\": 21, \"12\": 18, \"9\": 30, \"2\": 18, \"4\": 19, \"1\": 26, \"5\": 19, \"8\": 8, \"3\": 26, \"7\": 14, \"6\": 22, \"13\": 5, \"14\": 13, \"0\": 1}, \"12\": {\"7\": 27, \"10\": 8, \"2\": 24, \"4\": 25, \"6\": 17, \"13\": 23, \"15\": 39, \"12\": 23, \"1\": 17, \"9\": 15, \"5\": 10, \"3\": 9, \"14\": 1, \"8\": 2}, \"0\": {\"14\": 17, \"11\": 57, \"0\": 78, \"5\": 14, \"8\": 45, \"3\": 15, \"9\": 5, \"7\": 4, \"1\": 5}, \"10\": {\"9\": 5, \"10\": 60, \"4\": 51, \"15\": 14, \"2\": 24, \"7\": 17, \"12\": 18, \"13\": 27, \"1\": 5, \"6\": 17, \"14\": 1, \"8\": 1}, \"8\": {\"8\": 51, \"0\": 20, \"14\": 50, \"5\": 27, \"3\": 35, \"11\": 7, \"12\": 4, \"9\": 17, \"2\": 4, \"6\": 11, \"15\": 2, \"1\": 7, \"7\": 4, \"4\": 1}, \"13\": {\"15\": 32, \"2\": 32, \"12\": 31, \"6\": 15, \"13\": 62, \"7\": 25, \"4\": 15, \"10\": 10, \"1\": 11, \"9\": 5, \"5\": 2}, \"1\": {\"5\": 23, \"3\": 18, \"15\": 20, \"1\": 25, \"14\": 13, \"2\": 18, \"4\": 13, \"7\": 26, \"9\": 23, \"6\": 13, \"0\": 3, \"12\": 18, \"13\": 8, \"10\": 2, \"8\": 17}, \"15\": {\"15\": 43, \"4\": 16, \"9\": 16, \"2\": 27, \"1\": 20, \"12\": 22, \"13\": 42, \"5\": 5, \"7\": 17, \"3\": 12, \"6\": 11, \"8\": 2, \"10\": 5, \"14\": 2}}, \"ORACLE.run138\": {\"3\": {\"3\": 210, \"11\": 13, \"4\": 1, \"10\": 9, \"0\": 7}, \"8\": {\"15\": 28, \"8\": 53, \"5\": 47, \"2\": 24, \"12\": 20, \"9\": 19, \"7\": 30, \"14\": 13, \"10\": 1, \"13\": 3, \"0\": 1, \"1\": 1}, \"0\": {\"10\": 62, \"0\": 36, \"13\": 52, \"2\": 15, \"4\": 18, \"14\": 16, \"7\": 23, \"3\": 13, \"9\": 1, \"5\": 3, \"8\": 1}, \"2\": {\"13\": 15, \"0\": 14, \"9\": 24, \"2\": 69, \"7\": 51, \"14\": 30, \"5\": 19, \"8\": 15, \"10\": 2, \"12\": 1}, \"4\": {\"10\": 40, \"4\": 145, \"14\": 23, \"0\": 15, \"7\": 10, \"13\": 7}, \"7\": {\"14\": 42, \"2\": 44, \"5\": 9, \"8\": 21, \"7\": 69, \"0\": 10, \"13\": 18, \"4\": 10, \"9\": 11, \"10\": 2, \"12\": 4}, \"12\": {\"12\": 138, \"15\": 13, \"5\": 23, \"7\": 21, \"8\": 24, \"4\": 1, \"14\": 9, \"2\": 11}, \"6\": {\"1\": 116, \"6\": 112, \"15\": 12}, \"15\": {\"1\": 16, \"15\": 126, \"6\": 17, \"12\": 15, \"8\": 22, \"5\": 37, \"2\": 1, \"9\": 6}, \"11\": {\"11\": 226, \"3\": 13, \"10\": 1}, \"9\": {\"5\": 35, \"13\": 1, \"9\": 84, \"8\": 51, \"2\": 33, \"7\": 21, \"15\": 13, \"12\": 2}, \"14\": {\"14\": 66, \"7\": 51, \"4\": 23, \"5\": 12, \"2\": 41, \"13\": 16, \"0\": 7, \"8\": 10, \"10\": 6, \"9\": 3, \"12\": 5}, \"10\": {\"10\": 97, \"0\": 59, \"13\": 27, \"14\": 5, \"3\": 19, \"4\": 27, \"2\": 2, \"11\": 3, \"7\": 1}, \"5\": {\"9\": 40, \"8\": 45, \"5\": 62, \"14\": 6, \"2\": 21, \"15\": 26, \"7\": 25, \"12\": 13, \"13\": 2}, \"1\": {\"1\": 125, \"6\": 107, \"15\": 8}, \"13\": {\"14\": 20, \"13\": 67, \"7\": 14, \"0\": 62, \"4\": 7, \"10\": 36, \"2\": 29, \"9\": 1, \"8\": 4}}, \"ORACLE.run126\": {\"5\": {\"11\": 24, \"5\": 57, \"6\": 42, \"15\": 40, \"14\": 21, \"0\": 8, \"2\": 3, \"10\": 22, \"1\": 23}, \"8\": {\"8\": 39, \"9\": 28, \"12\": 22, \"3\": 25, \"0\": 28, \"13\": 8, \"7\": 38, \"2\": 28, \"15\": 5, \"6\": 1, \"14\": 8, \"10\": 8, \"4\": 2}, \"4\": {\"3\": 48, \"4\": 102, \"13\": 56, \"9\": 11, \"7\": 13, \"12\": 3, \"8\": 5, \"2\": 2}, \"12\": {\"2\": 35, \"9\": 32, \"8\": 25, \"13\": 29, \"12\": 51, \"3\": 21, \"5\": 2, \"7\": 30, \"14\": 1, \"0\": 5, \"10\": 5, \"4\": 3, \"15\": 1}, \"6\": {\"15\": 36, \"6\": 35, \"1\": 33, \"11\": 26, \"10\": 32, \"5\": 32, \"0\": 16, \"14\": 26, \"2\": 3, \"9\": 1}, \"7\": {\"3\": 32, \"7\": 33, \"2\": 46, \"12\": 29, \"8\": 36, \"0\": 17, \"9\": 25, \"4\": 3, \"10\": 3, \"13\": 13, \"15\": 2, \"14\": 1}, \"10\": {\"1\": 25, \"6\": 36, \"10\": 35, \"14\": 34, \"5\": 17, \"0\": 32, \"2\": 11, \"15\": 38, \"8\": 3, \"9\": 4, \"12\": 3, \"11\": 1, \"3\": 1}, \"0\": {\"2\": 27, \"0\": 33, \"14\": 33, \"15\": 22, \"10\": 40, \"6\": 18, \"8\": 21, \"1\": 17, \"7\": 15, \"11\": 3, \"5\": 2, \"9\": 3, \"12\": 4, \"3\": 2}, \"15\": {\"1\": 24, \"11\": 10, \"14\": 19, \"10\": 33, \"5\": 41, \"6\": 29, \"15\": 37, \"8\": 5, \"3\": 1, \"0\": 27, \"2\": 12, \"12\": 1, \"7\": 1}, \"9\": {\"13\": 24, \"7\": 33, \"8\": 31, \"3\": 26, \"2\": 30, \"12\": 38, \"9\": 37, \"0\": 10, \"10\": 6, \"4\": 2, \"14\": 2, \"15\": 1}, \"11\": {\"11\": 91, \"15\": 37, \"5\": 50, \"10\": 11, \"0\": 3, \"1\": 22, \"6\": 17, \"12\": 1, \"2\": 3, \"14\": 5}, \"14\": {\"1\": 36, \"6\": 35, \"14\": 46, \"15\": 24, \"10\": 47, \"0\": 29, \"5\": 14, \"11\": 5, \"7\": 1, \"8\": 3}, \"2\": {\"2\": 45, \"7\": 41, \"8\": 29, \"12\": 26, \"5\": 2, \"9\": 35, \"0\": 12, \"13\": 12, \"6\": 3, \"14\": 6, \"15\": 8, \"3\": 10, \"10\": 8, \"1\": 2, \"4\": 1}, \"13\": {\"3\": 41, \"13\": 81, \"4\": 32, \"8\": 6, \"12\": 23, \"9\": 39, \"2\": 11, \"7\": 7}, \"3\": {\"3\": 53, \"9\": 37, \"13\": 36, \"2\": 20, \"12\": 24, \"7\": 34, \"4\": 17, \"8\": 18, \"0\": 1}, \"1\": {\"14\": 27, \"11\": 11, \"6\": 35, \"1\": 93, \"0\": 9, \"15\": 24, \"5\": 18, \"10\": 23}}}, \"per_domain_accuracy\": {\"Wisig_3\": {\"accuracy\": 0.9789847161572053, \"source?\": true}, \"Wisig_2\": {\"accuracy\": 0.9595052083333333, \"source?\": true}, \"Wisig_1\": {\"accuracy\": 0.982521186440678, \"source?\": true}, \"Wisig_4\": {\"accuracy\": 0.9715792181069959, \"source?\": true}, \"ORACLE.run150\": {\"accuracy\": 0.29296875, \"source?\": false}, \"ORACLE.run114\": {\"accuracy\": 0.37890625, \"source?\": false}, \"ORACLE.run132\": {\"accuracy\": 0.37916666666666665, \"source?\": false}, \"ORACLE.run144\": {\"accuracy\": 0.3416666666666667, \"source?\": false}, \"ORACLE.run18\": {\"accuracy\": 0.35703125, \"source?\": false}, \"ORACLE.run120\": {\"accuracy\": 0.18671875, \"source?\": false}, \"ORACLE.run138\": {\"accuracy\": 0.4388020833333333, \"source?\": false}, \"ORACLE.run126\": {\"accuracy\": 0.22604166666666667, \"source?\": false}}}, \"history\": {\"epoch_indices\": [1, 2, 3, 4, 5, 6, 7], \"train_label_loss\": [0.19379596118388404, 0.1335845258702553, 0.11468833068459618, 0.10100617793773567, 0.09634580306816917, 0.08841886488580529, 0.08318254172128887], \"source_val_label_loss\": [0.18087023496627808, 0.13010412454605103, 0.114598348736763, 0.11967887729406357, 0.11389638483524323, 0.1087120920419693, 0.10511606931686401], \"target_val_label_loss\": [2.551546812057495, 2.5419180393218994, 2.486924171447754, 2.5018110275268555, 2.510122776031494, 2.4395968914031982, 2.4475395679473877], \"source_val_acc_label\": [0.9622890295358649, 0.9708267405063291, 0.9730353375527426, 0.9742220464135021, 0.974189082278481, 0.9755076476793249, 0.9754417194092827], \"target_val_acc_label\": [0.2990234375, 0.29072265625, 0.32516276041666664, 0.2986328125, 0.2615559895833333, 0.2892578125, 0.26389973958333335]}, \"dataset_metrics\": {\"source\": {\"train\": {\"n_unique_x\": 188973, \"n_unique_y\": 130, \"n_batch/episode\": 6829}, \"val\": {\"n_unique_x\": 40070, \"n_unique_y\": 130, \"n_batch/episode\": 948}, \"test\": {\"n_unique_x\": 40836, \"n_unique_y\": 130, \"n_batch/episode\": 967}}, \"target\": {\"train\": {\"n_unique_x\": 179200, \"n_unique_y\": 16, \"n_batch/episode\": 6720}, \"val\": {\"n_unique_x\": 38400, \"n_unique_y\": 16, \"n_batch/episode\": 960}, \"test\": {\"n_unique_x\": 38400, \"n_unique_y\": 16, \"n_batch/episode\": 960}}}}'"
      ]
     },
     "execution_count": 29,
     "metadata": {},
     "output_type": "execute_result"
    }
   ],
   "source": [
    "json.dumps(experiment)"
   ]
  }
 ],
 "metadata": {
  "celltoolbar": "Tags",
  "kernelspec": {
   "display_name": "Python 3 (ipykernel)",
   "language": "python",
   "name": "python3"
  },
  "language_info": {
   "codemirror_mode": {
    "name": "ipython",
    "version": 3
   },
   "file_extension": ".py",
   "mimetype": "text/x-python",
   "name": "python",
   "nbconvert_exporter": "python",
   "pygments_lexer": "ipython3",
   "version": "3.8.12"
  },
  "papermill": {
   "default_parameters": {},
   "duration": 2111.609967,
   "end_time": "2022-03-21T18:20:18.007811",
   "environment_variables": {},
   "exception": null,
   "input_path": "/root/csc500-main/csc500-notebooks/templates/tl_ptn_template.ipynb",
   "output_path": "trial.ipynb",
   "parameters": {
    "parameters": {
     "BEST_MODEL_PATH": "./best_model.pth",
     "NUM_LOGS_PER_EPOCH": 10,
     "criteria_for_best": "target_accuracy",
     "dataset_seed": 500,
     "datasets": [
      {
       "domain_prefix": "Wisig_",
       "domains": [
        1,
        2,
        3,
        4
       ],
       "episode_transforms": [],
       "labels": [
        "1-10",
        "1-12",
        "1-14",
        "1-16",
        "1-18",
        "1-19",
        "1-8",
        "10-11",
        "10-17",
        "10-4",
        "10-7",
        "11-1",
        "11-10",
        "11-19",
        "11-20",
        "11-4",
        "11-7",
        "12-19",
        "12-20",
        "12-7",
        "13-14",
        "13-18",
        "13-19",
        "13-20",
        "13-3",
        "13-7",
        "14-10",
        "14-11",
        "14-12",
        "14-13",
        "14-14",
        "14-19",
        "14-20",
        "14-7",
        "14-8",
        "14-9",
        "15-1",
        "15-19",
        "15-6",
        "16-1",
        "16-16",
        "16-19",
        "16-20",
        "17-10",
        "17-11",
        "18-1",
        "18-10",
        "18-11",
        "18-12",
        "18-13",
        "18-14",
        "18-15",
        "18-16",
        "18-17",
        "18-19",
        "18-2",
        "18-20",
        "18-4",
        "18-5",
        "18-7",
        "18-8",
        "18-9",
        "19-1",
        "19-10",
        "19-11",
        "19-12",
        "19-13",
        "19-14",
        "19-15",
        "19-19",
        "19-2",
        "19-20",
        "19-3",
        "19-4",
        "19-6",
        "19-7",
        "19-8",
        "19-9",
        "2-1",
        "2-13",
        "2-15",
        "2-3",
        "2-4",
        "2-5",
        "2-6",
        "2-7",
        "2-8",
        "20-1",
        "20-12",
        "20-14",
        "20-15",
        "20-16",
        "20-18",
        "20-19",
        "20-20",
        "20-3",
        "20-4",
        "20-5",
        "20-7",
        "20-8",
        "3-1",
        "3-13",
        "3-18",
        "3-2",
        "3-8",
        "4-1",
        "4-10",
        "4-11",
        "5-1",
        "5-5",
        "6-1",
        "6-15",
        "6-6",
        "7-10",
        "7-11",
        "7-12",
        "7-13",
        "7-14",
        "7-7",
        "7-8",
        "7-9",
        "8-1",
        "8-13",
        "8-14",
        "8-18",
        "8-20",
        "8-3",
        "8-8",
        "9-1",
        "9-7"
       ],
       "num_examples_per_domain_per_label": -1,
       "pickle_path": "/root/csc500-main/datasets/wisig.node3-19.stratified_ds.2022A.pkl",
       "source_or_target_dataset": "source",
       "x_transforms": []
      },
      {
       "domain_prefix": "ORACLE.run1",
       "domains": [
        32,
        38,
        8,
        44,
        14,
        50,
        20,
        26
       ],
       "episode_transforms": [],
       "labels": [
        "3123D52",
        "3123D65",
        "3123D79",
        "3123D80",
        "3123D54",
        "3123D70",
        "3123D7B",
        "3123D89",
        "3123D58",
        "3123D76",
        "3123D7D",
        "3123EFE",
        "3123D64",
        "3123D78",
        "3123D7E",
        "3124E4A"
       ],
       "num_examples_per_domain_per_label": 2000,
       "pickle_path": "/root/csc500-main/datasets/oracle.Run1_framed_2000Examples_stratified_ds.2022A.pkl",
       "source_or_target_dataset": "target",
       "x_transforms": []
      }
     ],
     "device": "cuda",
     "experiment_name": "tl_1v2:wisig-oracle.run1.framed",
     "lr": 0.0001,
     "n_epoch": 50,
     "n_query": 2,
     "n_shot": 3,
     "n_way": 16,
     "patience": 3,
     "seed": 500,
     "test_k_factor": 2,
     "torch_default_dtype": "torch.float32",
     "train_k_factor": 3,
     "val_k_factor": 2,
     "x_net": [
      {
       "class": "nnReshape",
       "kargs": {
        "shape": [
         -1,
         1,
         2,
         256
        ]
       }
      },
      {
       "class": "Conv2d",
       "kargs": {
        "bias": false,
        "in_channels": 1,
        "kernel_size": [
         1,
         7
        ],
        "out_channels": 256,
        "padding": [
         0,
         3
        ]
       }
      },
      {
       "class": "ReLU",
       "kargs": {
        "inplace": true
       }
      },
      {
       "class": "BatchNorm2d",
       "kargs": {
        "num_features": 256
       }
      },
      {
       "class": "Conv2d",
       "kargs": {
        "bias": true,
        "in_channels": 256,
        "kernel_size": [
         2,
         7
        ],
        "out_channels": 80,
        "padding": [
         0,
         3
        ]
       }
      },
      {
       "class": "ReLU",
       "kargs": {
        "inplace": true
       }
      },
      {
       "class": "BatchNorm2d",
       "kargs": {
        "num_features": 80
       }
      },
      {
       "class": "Flatten",
       "kargs": {}
      },
      {
       "class": "Linear",
       "kargs": {
        "in_features": 20480,
        "out_features": 256
       }
      },
      {
       "class": "ReLU",
       "kargs": {
        "inplace": true
       }
      },
      {
       "class": "BatchNorm1d",
       "kargs": {
        "num_features": 256
       }
      },
      {
       "class": "Linear",
       "kargs": {
        "in_features": 256,
        "out_features": 256
       }
      }
     ]
    }
   },
   "start_time": "2022-03-21T17:45:06.397844",
   "version": "2.3.4"
  }
 },
 "nbformat": 4,
 "nbformat_minor": 5
}