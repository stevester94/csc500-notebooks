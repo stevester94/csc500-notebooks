{
 "cells": [
  {
   "cell_type": "markdown",
   "id": "9fea5f46",
   "metadata": {
    "papermill": {
     "duration": 0.025727,
     "end_time": "2022-03-23T03:05:46.082985",
     "exception": false,
     "start_time": "2022-03-23T03:05:46.057258",
     "status": "completed"
    },
    "tags": []
   },
   "source": [
    "# Transfer Learning Template"
   ]
  },
  {
   "cell_type": "code",
   "execution_count": 1,
   "id": "0902182a",
   "metadata": {
    "execution": {
     "iopub.execute_input": "2022-03-23T03:05:46.136691Z",
     "iopub.status.busy": "2022-03-23T03:05:46.136124Z",
     "iopub.status.idle": "2022-03-23T03:05:48.833072Z",
     "shell.execute_reply": "2022-03-23T03:05:48.833562Z"
    },
    "papermill": {
     "duration": 2.73149,
     "end_time": "2022-03-23T03:05:48.833901",
     "exception": false,
     "start_time": "2022-03-23T03:05:46.102411",
     "status": "completed"
    },
    "tags": []
   },
   "outputs": [],
   "source": [
    "%load_ext autoreload\n",
    "%autoreload 2\n",
    "%matplotlib inline\n",
    "\n",
    "    \n",
    "import os, json, sys, time, random\n",
    "import numpy as np\n",
    "import torch\n",
    "from torch.optim import Adam\n",
    "from  easydict import EasyDict\n",
    "import matplotlib.pyplot as plt\n",
    "\n",
    "from steves_models.steves_ptn import Steves_Prototypical_Network\n",
    "\n",
    "from steves_utils.lazy_iterable_wrapper import Lazy_Iterable_Wrapper\n",
    "from steves_utils.iterable_aggregator import Iterable_Aggregator\n",
    "from steves_utils.ptn_train_eval_test_jig import  PTN_Train_Eval_Test_Jig\n",
    "from steves_utils.torch_sequential_builder import build_sequential\n",
    "from steves_utils.torch_utils import get_dataset_metrics, ptn_confusion_by_domain_over_dataloader\n",
    "from steves_utils.utils_v2 import (per_domain_accuracy_from_confusion, get_datasets_base_path)\n",
    "from steves_utils.PTN.utils import independent_accuracy_assesment\n",
    "\n",
    "from torch.utils.data import DataLoader\n",
    "\n",
    "from steves_utils.stratified_dataset.episodic_accessor import Episodic_Accessor_Factory\n",
    "\n",
    "from steves_utils.ptn_do_report import (\n",
    "    get_loss_curve,\n",
    "    get_results_table,\n",
    "    get_parameters_table,\n",
    "    get_domain_accuracies,\n",
    ")\n",
    "\n",
    "from steves_utils.transforms import get_chained_transform"
   ]
  },
  {
   "cell_type": "markdown",
   "id": "41c840b4",
   "metadata": {
    "papermill": {
     "duration": 0.028542,
     "end_time": "2022-03-23T03:05:48.892699",
     "exception": false,
     "start_time": "2022-03-23T03:05:48.864157",
     "status": "completed"
    },
    "tags": []
   },
   "source": [
    "# Allowed Parameters\n",
    "These are allowed parameters, not defaults\n",
    "Each of these values need to be present in the injected parameters (the notebook will raise an exception if they are not present)\n",
    "\n",
    "Papermill uses the cell tag \"parameters\" to inject the real parameters below this cell.\n",
    "Enable tags to see what I mean"
   ]
  },
  {
   "cell_type": "code",
   "execution_count": 2,
   "id": "fd44eb83",
   "metadata": {
    "execution": {
     "iopub.execute_input": "2022-03-23T03:05:48.937655Z",
     "iopub.status.busy": "2022-03-23T03:05:48.937002Z",
     "iopub.status.idle": "2022-03-23T03:05:48.959378Z",
     "shell.execute_reply": "2022-03-23T03:05:48.958585Z"
    },
    "papermill": {
     "duration": 0.046993,
     "end_time": "2022-03-23T03:05:48.959558",
     "exception": false,
     "start_time": "2022-03-23T03:05:48.912565",
     "status": "completed"
    },
    "tags": []
   },
   "outputs": [],
   "source": [
    "required_parameters = {\n",
    "    \"experiment_name\",\n",
    "    \"lr\",\n",
    "    \"device\",\n",
    "    \"seed\",\n",
    "    \"dataset_seed\",\n",
    "    \"n_shot\",\n",
    "    \"n_query\",\n",
    "    \"n_way\",\n",
    "    \"train_k_factor\",\n",
    "    \"val_k_factor\",\n",
    "    \"test_k_factor\",\n",
    "    \"n_epoch\",\n",
    "    \"patience\",\n",
    "    \"criteria_for_best\",\n",
    "    \"x_net\",\n",
    "    \"datasets\",\n",
    "    \"torch_default_dtype\",\n",
    "    \"NUM_LOGS_PER_EPOCH\",\n",
    "    \"BEST_MODEL_PATH\",\n",
    "    \"x_shape\",\n",
    "}"
   ]
  },
  {
   "cell_type": "code",
   "execution_count": 3,
   "id": "fa3f0049",
   "metadata": {
    "execution": {
     "iopub.execute_input": "2022-03-23T03:05:49.023593Z",
     "iopub.status.busy": "2022-03-23T03:05:49.021125Z",
     "iopub.status.idle": "2022-03-23T03:05:49.043576Z",
     "shell.execute_reply": "2022-03-23T03:05:49.042763Z"
    },
    "papermill": {
     "duration": 0.055952,
     "end_time": "2022-03-23T03:05:49.043739",
     "exception": false,
     "start_time": "2022-03-23T03:05:48.987787",
     "status": "completed"
    },
    "tags": [
     "parameters"
    ]
   },
   "outputs": [],
   "source": [
    "from steves_utils.CORES.utils import (\n",
    "    ALL_NODES,\n",
    "    ALL_NODES_MINIMUM_1000_EXAMPLES,\n",
    "    ALL_DAYS\n",
    ")\n",
    "\n",
    "from steves_utils.ORACLE.utils_v2 import (\n",
    "    ALL_DISTANCES_FEET_NARROWED,\n",
    "    ALL_RUNS,\n",
    "    ALL_SERIAL_NUMBERS,\n",
    ")\n",
    "\n",
    "standalone_parameters = {}\n",
    "standalone_parameters[\"experiment_name\"] = \"STANDALONE PTN\"\n",
    "standalone_parameters[\"lr\"] = 0.001\n",
    "standalone_parameters[\"device\"] = \"cuda\"\n",
    "\n",
    "standalone_parameters[\"seed\"] = 1337\n",
    "standalone_parameters[\"dataset_seed\"] = 1337\n",
    "\n",
    "standalone_parameters[\"n_way\"] = 8\n",
    "standalone_parameters[\"n_shot\"] = 3\n",
    "standalone_parameters[\"n_query\"]  = 2\n",
    "standalone_parameters[\"train_k_factor\"] = 1\n",
    "standalone_parameters[\"val_k_factor\"] = 2\n",
    "standalone_parameters[\"test_k_factor\"] = 2\n",
    "\n",
    "\n",
    "standalone_parameters[\"n_epoch\"] = 50\n",
    "\n",
    "standalone_parameters[\"patience\"] = 10\n",
    "standalone_parameters[\"criteria_for_best\"] = \"source_loss\"\n",
    "\n",
    "standalone_parameters[\"datasets\"] = [\n",
    "    {\n",
    "        \"labels\": ALL_SERIAL_NUMBERS,\n",
    "        \"domains\": ALL_DISTANCES_FEET_NARROWED,\n",
    "        \"num_examples_per_domain_per_label\": 100,\n",
    "        \"pickle_path\": os.path.join(get_datasets_base_path(), \"oracle.Run1_framed_2000Examples_stratified_ds.2022A.pkl\"),\n",
    "        \"source_or_target_dataset\": \"source\",\n",
    "        \"x_transforms\": [\"unit_mag\", \"minus_two\"],\n",
    "        \"episode_transforms\": [],\n",
    "        \"domain_prefix\": \"ORACLE_\"\n",
    "    },\n",
    "    {\n",
    "        \"labels\": ALL_NODES,\n",
    "        \"domains\": ALL_DAYS,\n",
    "        \"num_examples_per_domain_per_label\": 100,\n",
    "        \"pickle_path\": os.path.join(get_datasets_base_path(), \"cores.stratified_ds.2022A.pkl\"),\n",
    "        \"source_or_target_dataset\": \"target\",\n",
    "        \"x_transforms\": [\"unit_power\", \"times_zero\"],\n",
    "        \"episode_transforms\": [],\n",
    "        \"domain_prefix\": \"CORES_\"\n",
    "    }   \n",
    "]\n",
    "\n",
    "standalone_parameters[\"torch_default_dtype\"] = \"torch.float32\" \n",
    "\n",
    "\n",
    "\n",
    "standalone_parameters[\"x_net\"] =     [\n",
    "    {\"class\": \"nnReshape\", \"kargs\": {\"shape\":[-1, 1, 2, 256]}},\n",
    "    {\"class\": \"Conv2d\", \"kargs\": { \"in_channels\":1, \"out_channels\":256, \"kernel_size\":(1,7), \"bias\":False, \"padding\":(0,3), },},\n",
    "    {\"class\": \"ReLU\", \"kargs\": {\"inplace\": True}},\n",
    "    {\"class\": \"BatchNorm2d\", \"kargs\": {\"num_features\":256}},\n",
    "\n",
    "    {\"class\": \"Conv2d\", \"kargs\": { \"in_channels\":256, \"out_channels\":80, \"kernel_size\":(2,7), \"bias\":True, \"padding\":(0,3), },},\n",
    "    {\"class\": \"ReLU\", \"kargs\": {\"inplace\": True}},\n",
    "    {\"class\": \"BatchNorm2d\", \"kargs\": {\"num_features\":80}},\n",
    "    {\"class\": \"Flatten\", \"kargs\": {}},\n",
    "\n",
    "    {\"class\": \"Linear\", \"kargs\": {\"in_features\": 80*256, \"out_features\": 256}}, # 80 units per IQ pair\n",
    "    {\"class\": \"ReLU\", \"kargs\": {\"inplace\": True}},\n",
    "    {\"class\": \"BatchNorm1d\", \"kargs\": {\"num_features\":256}},\n",
    "\n",
    "    {\"class\": \"Linear\", \"kargs\": {\"in_features\": 256, \"out_features\": 256}},\n",
    "]\n",
    "\n",
    "# Parameters relevant to results\n",
    "# These parameters will basically never need to change\n",
    "standalone_parameters[\"NUM_LOGS_PER_EPOCH\"] = 10\n",
    "standalone_parameters[\"BEST_MODEL_PATH\"] = \"./best_model.pth\"\n",
    "\n",
    "\n",
    "\n",
    "\n"
   ]
  },
  {
   "cell_type": "code",
   "execution_count": 4,
   "id": "a2b304f1",
   "metadata": {
    "execution": {
     "iopub.execute_input": "2022-03-23T03:05:49.110537Z",
     "iopub.status.busy": "2022-03-23T03:05:49.109535Z",
     "iopub.status.idle": "2022-03-23T03:05:49.129766Z",
     "shell.execute_reply": "2022-03-23T03:05:49.128964Z"
    },
    "papermill": {
     "duration": 0.057276,
     "end_time": "2022-03-23T03:05:49.129933",
     "exception": false,
     "start_time": "2022-03-23T03:05:49.072657",
     "status": "completed"
    },
    "tags": [
     "injected-parameters"
    ]
   },
   "outputs": [],
   "source": [
    "# Parameters\n",
    "parameters = {\n",
    "    \"experiment_name\": \"tl_1v2:wisig-oracle.run1.limited\",\n",
    "    \"device\": \"cuda\",\n",
    "    \"lr\": 0.0001,\n",
    "    \"n_shot\": 3,\n",
    "    \"n_query\": 2,\n",
    "    \"train_k_factor\": 3,\n",
    "    \"val_k_factor\": 2,\n",
    "    \"test_k_factor\": 2,\n",
    "    \"torch_default_dtype\": \"torch.float32\",\n",
    "    \"n_epoch\": 50,\n",
    "    \"patience\": 3,\n",
    "    \"criteria_for_best\": \"target_accuracy\",\n",
    "    \"x_net\": [\n",
    "        {\"class\": \"nnReshape\", \"kargs\": {\"shape\": [-1, 1, 2, 256]}},\n",
    "        {\n",
    "            \"class\": \"Conv2d\",\n",
    "            \"kargs\": {\n",
    "                \"in_channels\": 1,\n",
    "                \"out_channels\": 256,\n",
    "                \"kernel_size\": [1, 7],\n",
    "                \"bias\": False,\n",
    "                \"padding\": [0, 3],\n",
    "            },\n",
    "        },\n",
    "        {\"class\": \"ReLU\", \"kargs\": {\"inplace\": True}},\n",
    "        {\"class\": \"BatchNorm2d\", \"kargs\": {\"num_features\": 256}},\n",
    "        {\n",
    "            \"class\": \"Conv2d\",\n",
    "            \"kargs\": {\n",
    "                \"in_channels\": 256,\n",
    "                \"out_channels\": 80,\n",
    "                \"kernel_size\": [2, 7],\n",
    "                \"bias\": True,\n",
    "                \"padding\": [0, 3],\n",
    "            },\n",
    "        },\n",
    "        {\"class\": \"ReLU\", \"kargs\": {\"inplace\": True}},\n",
    "        {\"class\": \"BatchNorm2d\", \"kargs\": {\"num_features\": 80}},\n",
    "        {\"class\": \"Flatten\", \"kargs\": {}},\n",
    "        {\"class\": \"Linear\", \"kargs\": {\"in_features\": 20480, \"out_features\": 256}},\n",
    "        {\"class\": \"ReLU\", \"kargs\": {\"inplace\": True}},\n",
    "        {\"class\": \"BatchNorm1d\", \"kargs\": {\"num_features\": 256}},\n",
    "        {\"class\": \"Linear\", \"kargs\": {\"in_features\": 256, \"out_features\": 256}},\n",
    "    ],\n",
    "    \"NUM_LOGS_PER_EPOCH\": 10,\n",
    "    \"BEST_MODEL_PATH\": \"./best_model.pth\",\n",
    "    \"n_way\": 16,\n",
    "    \"datasets\": [\n",
    "        {\n",
    "            \"labels\": [\n",
    "                \"1-10\",\n",
    "                \"1-12\",\n",
    "                \"1-14\",\n",
    "                \"1-16\",\n",
    "                \"1-18\",\n",
    "                \"1-19\",\n",
    "                \"1-8\",\n",
    "                \"10-11\",\n",
    "                \"10-17\",\n",
    "                \"10-4\",\n",
    "                \"10-7\",\n",
    "                \"11-1\",\n",
    "                \"11-10\",\n",
    "                \"11-19\",\n",
    "                \"11-20\",\n",
    "                \"11-4\",\n",
    "                \"11-7\",\n",
    "                \"12-19\",\n",
    "                \"12-20\",\n",
    "                \"12-7\",\n",
    "                \"13-14\",\n",
    "                \"13-18\",\n",
    "                \"13-19\",\n",
    "                \"13-20\",\n",
    "                \"13-3\",\n",
    "                \"13-7\",\n",
    "                \"14-10\",\n",
    "                \"14-11\",\n",
    "                \"14-12\",\n",
    "                \"14-13\",\n",
    "                \"14-14\",\n",
    "                \"14-19\",\n",
    "                \"14-20\",\n",
    "                \"14-7\",\n",
    "                \"14-8\",\n",
    "                \"14-9\",\n",
    "                \"15-1\",\n",
    "                \"15-19\",\n",
    "                \"15-6\",\n",
    "                \"16-1\",\n",
    "                \"16-16\",\n",
    "                \"16-19\",\n",
    "                \"16-20\",\n",
    "                \"17-10\",\n",
    "                \"17-11\",\n",
    "                \"18-1\",\n",
    "                \"18-10\",\n",
    "                \"18-11\",\n",
    "                \"18-12\",\n",
    "                \"18-13\",\n",
    "                \"18-14\",\n",
    "                \"18-15\",\n",
    "                \"18-16\",\n",
    "                \"18-17\",\n",
    "                \"18-19\",\n",
    "                \"18-2\",\n",
    "                \"18-20\",\n",
    "                \"18-4\",\n",
    "                \"18-5\",\n",
    "                \"18-7\",\n",
    "                \"18-8\",\n",
    "                \"18-9\",\n",
    "                \"19-1\",\n",
    "                \"19-10\",\n",
    "                \"19-11\",\n",
    "                \"19-12\",\n",
    "                \"19-13\",\n",
    "                \"19-14\",\n",
    "                \"19-15\",\n",
    "                \"19-19\",\n",
    "                \"19-2\",\n",
    "                \"19-20\",\n",
    "                \"19-3\",\n",
    "                \"19-4\",\n",
    "                \"19-6\",\n",
    "                \"19-7\",\n",
    "                \"19-8\",\n",
    "                \"19-9\",\n",
    "                \"2-1\",\n",
    "                \"2-13\",\n",
    "                \"2-15\",\n",
    "                \"2-3\",\n",
    "                \"2-4\",\n",
    "                \"2-5\",\n",
    "                \"2-6\",\n",
    "                \"2-7\",\n",
    "                \"2-8\",\n",
    "                \"20-1\",\n",
    "                \"20-12\",\n",
    "                \"20-14\",\n",
    "                \"20-15\",\n",
    "                \"20-16\",\n",
    "                \"20-18\",\n",
    "                \"20-19\",\n",
    "                \"20-20\",\n",
    "                \"20-3\",\n",
    "                \"20-4\",\n",
    "                \"20-5\",\n",
    "                \"20-7\",\n",
    "                \"20-8\",\n",
    "                \"3-1\",\n",
    "                \"3-13\",\n",
    "                \"3-18\",\n",
    "                \"3-2\",\n",
    "                \"3-8\",\n",
    "                \"4-1\",\n",
    "                \"4-10\",\n",
    "                \"4-11\",\n",
    "                \"5-1\",\n",
    "                \"5-5\",\n",
    "                \"6-1\",\n",
    "                \"6-15\",\n",
    "                \"6-6\",\n",
    "                \"7-10\",\n",
    "                \"7-11\",\n",
    "                \"7-12\",\n",
    "                \"7-13\",\n",
    "                \"7-14\",\n",
    "                \"7-7\",\n",
    "                \"7-8\",\n",
    "                \"7-9\",\n",
    "                \"8-1\",\n",
    "                \"8-13\",\n",
    "                \"8-14\",\n",
    "                \"8-18\",\n",
    "                \"8-20\",\n",
    "                \"8-3\",\n",
    "                \"8-8\",\n",
    "                \"9-1\",\n",
    "                \"9-7\",\n",
    "            ],\n",
    "            \"domains\": [1, 2, 3, 4],\n",
    "            \"num_examples_per_domain_per_label\": -1,\n",
    "            \"pickle_path\": \"/root/csc500-main/datasets/wisig.node3-19.stratified_ds.2022A.pkl\",\n",
    "            \"source_or_target_dataset\": \"source\",\n",
    "            \"x_transforms\": [],\n",
    "            \"episode_transforms\": [],\n",
    "            \"domain_prefix\": \"Wisig_\",\n",
    "        },\n",
    "        {\n",
    "            \"labels\": [\n",
    "                \"3123D52\",\n",
    "                \"3123D65\",\n",
    "                \"3123D79\",\n",
    "                \"3123D80\",\n",
    "                \"3123D54\",\n",
    "                \"3123D70\",\n",
    "                \"3123D7B\",\n",
    "                \"3123D89\",\n",
    "                \"3123D58\",\n",
    "                \"3123D76\",\n",
    "                \"3123D7D\",\n",
    "                \"3123EFE\",\n",
    "                \"3123D64\",\n",
    "                \"3123D78\",\n",
    "                \"3123D7E\",\n",
    "                \"3124E4A\",\n",
    "            ],\n",
    "            \"domains\": [32, 38, 8, 44, 14, 50, 20, 26],\n",
    "            \"num_examples_per_domain_per_label\": 2000,\n",
    "            \"pickle_path\": \"/root/csc500-main/datasets/oracle.Run1_10kExamples_stratified_ds.2022A.pkl\",\n",
    "            \"source_or_target_dataset\": \"target\",\n",
    "            \"x_transforms\": [],\n",
    "            \"episode_transforms\": [],\n",
    "            \"domain_prefix\": \"ORACLE.run1\",\n",
    "        },\n",
    "    ],\n",
    "    \"dataset_seed\": 7,\n",
    "    \"seed\": 7,\n",
    "}\n"
   ]
  },
  {
   "cell_type": "code",
   "execution_count": 5,
   "id": "8fa1cc33",
   "metadata": {
    "execution": {
     "iopub.execute_input": "2022-03-23T03:05:49.184804Z",
     "iopub.status.busy": "2022-03-23T03:05:49.184418Z",
     "iopub.status.idle": "2022-03-23T03:05:49.204068Z",
     "shell.execute_reply": "2022-03-23T03:05:49.203257Z"
    },
    "papermill": {
     "duration": 0.045476,
     "end_time": "2022-03-23T03:05:49.204230",
     "exception": false,
     "start_time": "2022-03-23T03:05:49.158754",
     "status": "completed"
    },
    "tags": []
   },
   "outputs": [],
   "source": [
    "# Set this to True if you want to run this template directly\n",
    "STANDALONE = False\n",
    "if STANDALONE:\n",
    "    print(\"parameters not injected, running with standalone_parameters\")\n",
    "    parameters = standalone_parameters\n",
    "\n",
    "if not 'parameters' in locals() and not 'parameters' in globals():\n",
    "    raise Exception(\"Parameter injection failed\")\n",
    "\n",
    "#Use an easy dict for all the parameters\n",
    "p = EasyDict(parameters)\n",
    "\n",
    "if \"x_shape\" not in p:\n",
    "    p.x_shape = [2,256] # Default to this if we dont supply x_shape\n",
    "\n",
    "\n",
    "supplied_keys = set(p.keys())\n",
    "\n",
    "if  supplied_keys != required_parameters:\n",
    "    print(\"Parameters are incorrect\")\n",
    "    if len(supplied_keys - required_parameters)>0: print(\"Shouldn't have:\", str(supplied_keys - required_parameters))\n",
    "    if len(required_parameters - supplied_keys)>0: print(\"Need to have:\", str(required_parameters - supplied_keys))\n",
    "    raise RuntimeError(\"Parameters are incorrect\")"
   ]
  },
  {
   "cell_type": "code",
   "execution_count": 6,
   "id": "3a028d58",
   "metadata": {
    "execution": {
     "iopub.execute_input": "2022-03-23T03:05:49.254214Z",
     "iopub.status.busy": "2022-03-23T03:05:49.253845Z",
     "iopub.status.idle": "2022-03-23T03:05:49.271713Z",
     "shell.execute_reply": "2022-03-23T03:05:49.270895Z"
    },
    "papermill": {
     "duration": 0.041019,
     "end_time": "2022-03-23T03:05:49.271875",
     "exception": false,
     "start_time": "2022-03-23T03:05:49.230856",
     "status": "completed"
    },
    "tags": []
   },
   "outputs": [],
   "source": [
    "###################################\n",
    "# Set the RNGs and make it all deterministic\n",
    "###################################\n",
    "np.random.seed(p.seed)\n",
    "random.seed(p.seed)\n",
    "torch.manual_seed(p.seed)\n",
    "\n",
    "torch.use_deterministic_algorithms(True) "
   ]
  },
  {
   "cell_type": "code",
   "execution_count": 7,
   "id": "b691acf6",
   "metadata": {
    "execution": {
     "iopub.execute_input": "2022-03-23T03:05:49.324620Z",
     "iopub.status.busy": "2022-03-23T03:05:49.324164Z",
     "iopub.status.idle": "2022-03-23T03:05:49.345441Z",
     "shell.execute_reply": "2022-03-23T03:05:49.344642Z"
    },
    "papermill": {
     "duration": 0.045167,
     "end_time": "2022-03-23T03:05:49.345603",
     "exception": false,
     "start_time": "2022-03-23T03:05:49.300436",
     "status": "completed"
    },
    "tags": []
   },
   "outputs": [],
   "source": [
    "###########################################\n",
    "# The stratified datasets honor this\n",
    "###########################################\n",
    "torch.set_default_dtype(eval(p.torch_default_dtype))"
   ]
  },
  {
   "cell_type": "code",
   "execution_count": 8,
   "id": "b5fba671",
   "metadata": {
    "execution": {
     "iopub.execute_input": "2022-03-23T03:05:49.401501Z",
     "iopub.status.busy": "2022-03-23T03:05:49.401120Z",
     "iopub.status.idle": "2022-03-23T03:05:49.457732Z",
     "shell.execute_reply": "2022-03-23T03:05:49.457001Z"
    },
    "papermill": {
     "duration": 0.080366,
     "end_time": "2022-03-23T03:05:49.457902",
     "exception": false,
     "start_time": "2022-03-23T03:05:49.377536",
     "status": "completed"
    },
    "tags": []
   },
   "outputs": [],
   "source": [
    "###################################\n",
    "# Build the network(s)\n",
    "# Note: It's critical to do this AFTER setting the RNG\n",
    "###################################\n",
    "x_net = build_sequential(p.x_net)"
   ]
  },
  {
   "cell_type": "code",
   "execution_count": 9,
   "id": "5d7e61cc",
   "metadata": {
    "execution": {
     "iopub.execute_input": "2022-03-23T03:05:49.509431Z",
     "iopub.status.busy": "2022-03-23T03:05:49.509061Z",
     "iopub.status.idle": "2022-03-23T03:05:49.533676Z",
     "shell.execute_reply": "2022-03-23T03:05:49.532858Z"
    },
    "papermill": {
     "duration": 0.047816,
     "end_time": "2022-03-23T03:05:49.533837",
     "exception": false,
     "start_time": "2022-03-23T03:05:49.486021",
     "status": "completed"
    },
    "tags": []
   },
   "outputs": [],
   "source": [
    "start_time_secs = time.time()"
   ]
  },
  {
   "cell_type": "code",
   "execution_count": 10,
   "id": "c6b67dfd",
   "metadata": {
    "execution": {
     "iopub.execute_input": "2022-03-23T03:05:49.583220Z",
     "iopub.status.busy": "2022-03-23T03:05:49.582837Z",
     "iopub.status.idle": "2022-03-23T03:05:49.603836Z",
     "shell.execute_reply": "2022-03-23T03:05:49.603018Z"
    },
    "papermill": {
     "duration": 0.044604,
     "end_time": "2022-03-23T03:05:49.603995",
     "exception": false,
     "start_time": "2022-03-23T03:05:49.559391",
     "status": "completed"
    },
    "tags": []
   },
   "outputs": [],
   "source": [
    "p.domains_source = []\n",
    "p.domains_target = []\n",
    "\n",
    "\n",
    "train_original_source = []\n",
    "val_original_source   = []\n",
    "test_original_source  = []\n",
    "\n",
    "train_original_target = []\n",
    "val_original_target   = []\n",
    "test_original_target  = []"
   ]
  },
  {
   "cell_type": "code",
   "execution_count": 11,
   "id": "e3d9c3d3",
   "metadata": {
    "execution": {
     "iopub.execute_input": "2022-03-23T03:05:49.654229Z",
     "iopub.status.busy": "2022-03-23T03:05:49.653859Z",
     "iopub.status.idle": "2022-03-23T03:05:49.672405Z",
     "shell.execute_reply": "2022-03-23T03:05:49.671649Z"
    },
    "papermill": {
     "duration": 0.040912,
     "end_time": "2022-03-23T03:05:49.672564",
     "exception": false,
     "start_time": "2022-03-23T03:05:49.631652",
     "status": "completed"
    },
    "tags": []
   },
   "outputs": [],
   "source": [
    "# global_x_transform_func = lambda x: normalize(x.to(torch.get_default_dtype()), \"unit_power\") # unit_power, unit_mag\n",
    "# global_x_transform_func = lambda x: normalize(x, \"unit_power\") # unit_power, unit_mag"
   ]
  },
  {
   "cell_type": "code",
   "execution_count": 12,
   "id": "acb78fd2",
   "metadata": {
    "execution": {
     "iopub.execute_input": "2022-03-23T03:05:49.734241Z",
     "iopub.status.busy": "2022-03-23T03:05:49.733361Z",
     "iopub.status.idle": "2022-03-23T03:05:49.751634Z",
     "shell.execute_reply": "2022-03-23T03:05:49.750861Z"
    },
    "papermill": {
     "duration": 0.049989,
     "end_time": "2022-03-23T03:05:49.751810",
     "exception": false,
     "start_time": "2022-03-23T03:05:49.701821",
     "status": "completed"
    },
    "tags": []
   },
   "outputs": [],
   "source": [
    "def add_dataset(\n",
    "    labels,\n",
    "    domains,\n",
    "    pickle_path,\n",
    "    x_transforms,\n",
    "    episode_transforms,\n",
    "    domain_prefix,\n",
    "    num_examples_per_domain_per_label,\n",
    "    source_or_target_dataset:str,\n",
    "    iterator_seed=p.seed,\n",
    "    dataset_seed=p.dataset_seed,\n",
    "    n_shot=p.n_shot,\n",
    "    n_way=p.n_way,\n",
    "    n_query=p.n_query,\n",
    "    train_val_test_k_factors=(p.train_k_factor,p.val_k_factor,p.test_k_factor),\n",
    "):\n",
    "   \n",
    "    if x_transforms == []: x_transform = None\n",
    "    else: x_transform = get_chained_transform(x_transforms)\n",
    "    \n",
    "    if episode_transforms == []: episode_transform = None\n",
    "    else: raise Exception(\"episode_transforms not implemented\")\n",
    "    \n",
    "    episode_transform = lambda tup, _prefix=domain_prefix: (_prefix + str(tup[0]), tup[1])\n",
    "\n",
    "\n",
    "    eaf = Episodic_Accessor_Factory(\n",
    "        labels=labels,\n",
    "        domains=domains,\n",
    "        num_examples_per_domain_per_label=num_examples_per_domain_per_label,\n",
    "        iterator_seed=iterator_seed,\n",
    "        dataset_seed=dataset_seed,\n",
    "        n_shot=n_shot,\n",
    "        n_way=n_way,\n",
    "        n_query=n_query,\n",
    "        train_val_test_k_factors=train_val_test_k_factors,\n",
    "        pickle_path=pickle_path,\n",
    "        x_transform_func=x_transform,\n",
    "    )\n",
    "\n",
    "    train, val, test = eaf.get_train(), eaf.get_val(), eaf.get_test()\n",
    "    train = Lazy_Iterable_Wrapper(train, episode_transform)\n",
    "    val = Lazy_Iterable_Wrapper(val, episode_transform)\n",
    "    test = Lazy_Iterable_Wrapper(test, episode_transform)\n",
    "\n",
    "    if source_or_target_dataset==\"source\":\n",
    "        train_original_source.append(train)\n",
    "        val_original_source.append(val)\n",
    "        test_original_source.append(test)\n",
    "\n",
    "        p.domains_source.extend(\n",
    "            [domain_prefix + str(u) for u in domains]\n",
    "        )\n",
    "    elif source_or_target_dataset==\"target\":\n",
    "        train_original_target.append(train)\n",
    "        val_original_target.append(val)\n",
    "        test_original_target.append(test)\n",
    "        p.domains_target.extend(\n",
    "            [domain_prefix + str(u) for u in domains]\n",
    "        )\n",
    "    else:\n",
    "        raise Exception(f\"invalid source_or_target_dataset: {source_or_target_dataset}\")\n",
    "    "
   ]
  },
  {
   "cell_type": "code",
   "execution_count": 13,
   "id": "fe266617",
   "metadata": {
    "execution": {
     "iopub.execute_input": "2022-03-23T03:05:49.810644Z",
     "iopub.status.busy": "2022-03-23T03:05:49.804068Z",
     "iopub.status.idle": "2022-03-23T03:05:56.994305Z",
     "shell.execute_reply": "2022-03-23T03:05:56.993198Z"
    },
    "papermill": {
     "duration": 7.214581,
     "end_time": "2022-03-23T03:05:56.994526",
     "exception": false,
     "start_time": "2022-03-23T03:05:49.779945",
     "status": "completed"
    },
    "tags": []
   },
   "outputs": [],
   "source": [
    "for ds in p.datasets:\n",
    "    add_dataset(**ds)"
   ]
  },
  {
   "cell_type": "code",
   "execution_count": 14,
   "id": "b90d65ac",
   "metadata": {
    "execution": {
     "iopub.execute_input": "2022-03-23T03:05:57.049076Z",
     "iopub.status.busy": "2022-03-23T03:05:57.048355Z",
     "iopub.status.idle": "2022-03-23T03:05:57.074161Z",
     "shell.execute_reply": "2022-03-23T03:05:57.073306Z"
    },
    "papermill": {
     "duration": 0.050238,
     "end_time": "2022-03-23T03:05:57.074334",
     "exception": false,
     "start_time": "2022-03-23T03:05:57.024096",
     "status": "completed"
    },
    "tags": []
   },
   "outputs": [],
   "source": [
    "# from steves_utils.CORES.utils import (\n",
    "#     ALL_NODES,\n",
    "#     ALL_NODES_MINIMUM_1000_EXAMPLES,\n",
    "#     ALL_DAYS\n",
    "# )\n",
    "\n",
    "# add_dataset(\n",
    "#     labels=ALL_NODES,\n",
    "#     domains = ALL_DAYS,\n",
    "#     num_examples_per_domain_per_label=100,\n",
    "#     pickle_path=os.path.join(get_datasets_base_path(), \"cores.stratified_ds.2022A.pkl\"),\n",
    "#     source_or_target_dataset=\"target\",\n",
    "#     x_transform_func=global_x_transform_func,\n",
    "#     domain_modifier=lambda u: f\"cores_{u}\"\n",
    "# )"
   ]
  },
  {
   "cell_type": "code",
   "execution_count": 15,
   "id": "76db484d",
   "metadata": {
    "execution": {
     "iopub.execute_input": "2022-03-23T03:05:57.125847Z",
     "iopub.status.busy": "2022-03-23T03:05:57.124194Z",
     "iopub.status.idle": "2022-03-23T03:05:57.145196Z",
     "shell.execute_reply": "2022-03-23T03:05:57.144433Z"
    },
    "papermill": {
     "duration": 0.044339,
     "end_time": "2022-03-23T03:05:57.145363",
     "exception": false,
     "start_time": "2022-03-23T03:05:57.101024",
     "status": "completed"
    },
    "tags": []
   },
   "outputs": [],
   "source": [
    "# from steves_utils.ORACLE.utils_v2 import (\n",
    "#     ALL_DISTANCES_FEET,\n",
    "#     ALL_RUNS,\n",
    "#     ALL_SERIAL_NUMBERS,\n",
    "# )\n",
    "\n",
    "\n",
    "# add_dataset(\n",
    "#     labels=ALL_SERIAL_NUMBERS,\n",
    "#     domains = list(set(ALL_DISTANCES_FEET) - {2,62}),\n",
    "#     num_examples_per_domain_per_label=100,\n",
    "#     pickle_path=os.path.join(get_datasets_base_path(), \"oracle.Run2_framed_2000Examples_stratified_ds.2022A.pkl\"),\n",
    "#     source_or_target_dataset=\"source\",\n",
    "#     x_transform_func=global_x_transform_func,\n",
    "#     domain_modifier=lambda u: f\"oracle1_{u}\"\n",
    "# )\n"
   ]
  },
  {
   "cell_type": "code",
   "execution_count": 16,
   "id": "97dea9d2",
   "metadata": {
    "execution": {
     "iopub.execute_input": "2022-03-23T03:05:57.192767Z",
     "iopub.status.busy": "2022-03-23T03:05:57.192230Z",
     "iopub.status.idle": "2022-03-23T03:05:57.209413Z",
     "shell.execute_reply": "2022-03-23T03:05:57.208653Z"
    },
    "papermill": {
     "duration": 0.039671,
     "end_time": "2022-03-23T03:05:57.209580",
     "exception": false,
     "start_time": "2022-03-23T03:05:57.169909",
     "status": "completed"
    },
    "tags": []
   },
   "outputs": [],
   "source": [
    "# from steves_utils.ORACLE.utils_v2 import (\n",
    "#     ALL_DISTANCES_FEET,\n",
    "#     ALL_RUNS,\n",
    "#     ALL_SERIAL_NUMBERS,\n",
    "# )\n",
    "\n",
    "\n",
    "# add_dataset(\n",
    "#     labels=ALL_SERIAL_NUMBERS,\n",
    "#     domains = list(set(ALL_DISTANCES_FEET) - {2,62,56}),\n",
    "#     num_examples_per_domain_per_label=100,\n",
    "#     pickle_path=os.path.join(get_datasets_base_path(), \"oracle.Run2_framed_2000Examples_stratified_ds.2022A.pkl\"),\n",
    "#     source_or_target_dataset=\"source\",\n",
    "#     x_transform_func=global_x_transform_func,\n",
    "#     domain_modifier=lambda u: f\"oracle2_{u}\"\n",
    "# )"
   ]
  },
  {
   "cell_type": "code",
   "execution_count": 17,
   "id": "6f289866",
   "metadata": {
    "execution": {
     "iopub.execute_input": "2022-03-23T03:05:57.260631Z",
     "iopub.status.busy": "2022-03-23T03:05:57.260155Z",
     "iopub.status.idle": "2022-03-23T03:05:57.284527Z",
     "shell.execute_reply": "2022-03-23T03:05:57.283774Z"
    },
    "papermill": {
     "duration": 0.04852,
     "end_time": "2022-03-23T03:05:57.284686",
     "exception": false,
     "start_time": "2022-03-23T03:05:57.236166",
     "status": "completed"
    },
    "tags": []
   },
   "outputs": [],
   "source": [
    "# add_dataset(\n",
    "#     labels=list(range(19)),\n",
    "#     domains = [0,1,2],\n",
    "#     num_examples_per_domain_per_label=100,\n",
    "#     pickle_path=os.path.join(get_datasets_base_path(), \"metehan.stratified_ds.2022A.pkl\"),\n",
    "#     source_or_target_dataset=\"target\",\n",
    "#     x_transform_func=global_x_transform_func,\n",
    "#     domain_modifier=lambda u: f\"met_{u}\"\n",
    "# )"
   ]
  },
  {
   "cell_type": "code",
   "execution_count": 18,
   "id": "86a863c3",
   "metadata": {
    "execution": {
     "iopub.execute_input": "2022-03-23T03:05:57.337941Z",
     "iopub.status.busy": "2022-03-23T03:05:57.337563Z",
     "iopub.status.idle": "2022-03-23T03:05:57.361773Z",
     "shell.execute_reply": "2022-03-23T03:05:57.360981Z"
    },
    "papermill": {
     "duration": 0.048099,
     "end_time": "2022-03-23T03:05:57.361930",
     "exception": false,
     "start_time": "2022-03-23T03:05:57.313831",
     "status": "completed"
    },
    "tags": []
   },
   "outputs": [],
   "source": [
    "# # from steves_utils.wisig.utils import (\n",
    "# #     ALL_NODES_MINIMUM_100_EXAMPLES,\n",
    "# #     ALL_NODES_MINIMUM_500_EXAMPLES,\n",
    "# #     ALL_NODES_MINIMUM_1000_EXAMPLES,\n",
    "# #     ALL_DAYS\n",
    "# # )\n",
    "\n",
    "# import steves_utils.wisig.utils as wisig\n",
    "\n",
    "\n",
    "# add_dataset(\n",
    "#     labels=wisig.ALL_NODES_MINIMUM_100_EXAMPLES,\n",
    "#     domains = wisig.ALL_DAYS,\n",
    "#     num_examples_per_domain_per_label=100,\n",
    "#     pickle_path=os.path.join(get_datasets_base_path(), \"wisig.node3-19.stratified_ds.2022A.pkl\"),\n",
    "#     source_or_target_dataset=\"target\",\n",
    "#     x_transform_func=global_x_transform_func,\n",
    "#     domain_modifier=lambda u: f\"wisig_{u}\"\n",
    "# )"
   ]
  },
  {
   "cell_type": "code",
   "execution_count": 19,
   "id": "fd5442bc",
   "metadata": {
    "execution": {
     "iopub.execute_input": "2022-03-23T03:05:57.418716Z",
     "iopub.status.busy": "2022-03-23T03:05:57.418180Z",
     "iopub.status.idle": "2022-03-23T03:05:57.441229Z",
     "shell.execute_reply": "2022-03-23T03:05:57.440488Z"
    },
    "papermill": {
     "duration": 0.053364,
     "end_time": "2022-03-23T03:05:57.441412",
     "exception": false,
     "start_time": "2022-03-23T03:05:57.388048",
     "status": "completed"
    },
    "tags": []
   },
   "outputs": [],
   "source": [
    "###################################\n",
    "# Build the dataset\n",
    "###################################\n",
    "train_original_source = Iterable_Aggregator(train_original_source, p.seed)\n",
    "val_original_source = Iterable_Aggregator(val_original_source, p.seed)\n",
    "test_original_source = Iterable_Aggregator(test_original_source, p.seed)\n",
    "\n",
    "\n",
    "train_original_target = Iterable_Aggregator(train_original_target, p.seed)\n",
    "val_original_target = Iterable_Aggregator(val_original_target, p.seed)\n",
    "test_original_target = Iterable_Aggregator(test_original_target, p.seed)\n",
    "\n",
    "# For CNN We only use X and Y. And we only train on the source.\n",
    "# Properly form the data using a transform lambda and Lazy_Iterable_Wrapper. Finally wrap them in a dataloader\n",
    "\n",
    "transform_lambda = lambda ex: ex[1] # Original is (<domain>, <episode>) so we strip down to episode only\n",
    "\n",
    "train_processed_source = Lazy_Iterable_Wrapper(train_original_source, transform_lambda)\n",
    "val_processed_source   = Lazy_Iterable_Wrapper(val_original_source, transform_lambda)\n",
    "test_processed_source  = Lazy_Iterable_Wrapper(test_original_source, transform_lambda)\n",
    "\n",
    "train_processed_target = Lazy_Iterable_Wrapper(train_original_target, transform_lambda)\n",
    "val_processed_target   = Lazy_Iterable_Wrapper(val_original_target, transform_lambda)\n",
    "test_processed_target  = Lazy_Iterable_Wrapper(test_original_target, transform_lambda)\n",
    "\n",
    "datasets = EasyDict({\n",
    "    \"source\": {\n",
    "        \"original\": {\"train\":train_original_source, \"val\":val_original_source, \"test\":test_original_source},\n",
    "        \"processed\": {\"train\":train_processed_source, \"val\":val_processed_source, \"test\":test_processed_source}\n",
    "    },\n",
    "    \"target\": {\n",
    "        \"original\": {\"train\":train_original_target, \"val\":val_original_target, \"test\":test_original_target},\n",
    "        \"processed\": {\"train\":train_processed_target, \"val\":val_processed_target, \"test\":test_processed_target}\n",
    "    },\n",
    "})"
   ]
  },
  {
   "cell_type": "code",
   "execution_count": 20,
   "id": "5b3c01fc",
   "metadata": {
    "execution": {
     "iopub.execute_input": "2022-03-23T03:05:57.507113Z",
     "iopub.status.busy": "2022-03-23T03:05:57.506536Z",
     "iopub.status.idle": "2022-03-23T03:06:11.996014Z",
     "shell.execute_reply": "2022-03-23T03:06:11.996804Z"
    },
    "papermill": {
     "duration": 14.516927,
     "end_time": "2022-03-23T03:06:11.997048",
     "exception": false,
     "start_time": "2022-03-23T03:05:57.480121",
     "status": "completed"
    },
    "tags": []
   },
   "outputs": [
    {
     "name": "stdout",
     "output_type": "stream",
     "text": [
      "{'Wisig_2', 'Wisig_4', 'Wisig_1', 'Wisig_3'}\n"
     ]
    },
    {
     "name": "stdout",
     "output_type": "stream",
     "text": [
      "{'ORACLE.run120', 'ORACLE.run114', 'ORACLE.run126', 'ORACLE.run18', 'ORACLE.run144', 'ORACLE.run132', 'ORACLE.run138', 'ORACLE.run150'}\n"
     ]
    },
    {
     "name": "stdout",
     "output_type": "stream",
     "text": [
      "tensor([[[-0.0147,  0.0202,  0.0417,  ...,  0.0070,  0.0159,  0.0364],\n",
      "         [-0.0173, -0.0375,  0.0094,  ..., -0.0094, -0.0218, -0.0032]],\n",
      "\n",
      "        [[-0.0135,  0.0282,  0.0431,  ...,  0.0054,  0.0185,  0.0399],\n",
      "         [-0.0328, -0.0323,  0.0211,  ..., -0.0113, -0.0195, -0.0004]],\n",
      "\n",
      "        [[-0.0215,  0.0303,  0.0365,  ..., -0.0145,  0.0129,  0.0322],\n",
      "         [-0.0286, -0.0385,  0.0156,  ..., -0.0199, -0.0382, -0.0008]],\n",
      "\n",
      "        ...,\n",
      "\n",
      "        [[-0.0038,  0.0216,  0.0331,  ..., -0.0065,  0.0221,  0.0207],\n",
      "         [-0.0052, -0.0221, -0.0073,  ..., -0.0082,  0.0037,  0.0094]],\n",
      "\n",
      "        [[-0.0124,  0.0220,  0.0363,  ...,  0.0038,  0.0171,  0.0023],\n",
      "         [-0.0026, -0.0047,  0.0099,  ..., -0.0049, -0.0049,  0.0166]],\n",
      "\n",
      "        [[ 0.0071, -0.0016, -0.0258,  ...,  0.0092, -0.0059, -0.0219],\n",
      "         [-0.0027,  0.0172,  0.0197,  ...,  0.0072,  0.0116, -0.0077]]])\n"
     ]
    }
   ],
   "source": [
    "from steves_utils.transforms import get_average_magnitude, get_average_power\n",
    "\n",
    "print(set([u for u,_ in val_original_source]))\n",
    "print(set([u for u,_ in val_original_target]))\n",
    "\n",
    "s_x, s_y, q_x, q_y, _ = next(iter(train_processed_source))\n",
    "print(s_x)\n",
    "\n",
    "# for ds in [\n",
    "#     train_processed_source,\n",
    "#     val_processed_source,\n",
    "#     test_processed_source,\n",
    "#     train_processed_target,\n",
    "#     val_processed_target,\n",
    "#     test_processed_target\n",
    "# ]:\n",
    "#     for s_x, s_y, q_x, q_y, _ in ds:\n",
    "#         for X in (s_x, q_x):\n",
    "#             for x in X:\n",
    "#                 assert np.isclose(get_average_magnitude(x.numpy()), 1.0)\n",
    "#                 assert np.isclose(get_average_power(x.numpy()), 1.0)\n",
    "                "
   ]
  },
  {
   "cell_type": "code",
   "execution_count": 21,
   "id": "bbdacba1",
   "metadata": {
    "execution": {
     "iopub.execute_input": "2022-03-23T03:06:12.051177Z",
     "iopub.status.busy": "2022-03-23T03:06:12.050787Z",
     "iopub.status.idle": "2022-03-23T03:06:12.274397Z",
     "shell.execute_reply": "2022-03-23T03:06:12.274726Z"
    },
    "papermill": {
     "duration": 0.251265,
     "end_time": "2022-03-23T03:06:12.274870",
     "exception": false,
     "start_time": "2022-03-23T03:06:12.023605",
     "status": "completed"
    },
    "tags": []
   },
   "outputs": [
    {
     "name": "stdout",
     "output_type": "stream",
     "text": [
      "(2, 256)\n"
     ]
    }
   ],
   "source": [
    "###################################\n",
    "# Build the model\n",
    "###################################\n",
    "# easfsl only wants a tuple for the shape\n",
    "model = Steves_Prototypical_Network(x_net, device=p.device, x_shape=tuple(p.x_shape))\n",
    "optimizer = Adam(params=model.parameters(), lr=p.lr)"
   ]
  },
  {
   "cell_type": "code",
   "execution_count": 22,
   "id": "22b39ac5",
   "metadata": {
    "execution": {
     "iopub.execute_input": "2022-03-23T03:06:12.327694Z",
     "iopub.status.busy": "2022-03-23T03:06:12.327284Z",
     "iopub.status.idle": "2022-03-23T03:27:09.598126Z",
     "shell.execute_reply": "2022-03-23T03:27:09.597784Z"
    },
    "papermill": {
     "duration": 1257.296844,
     "end_time": "2022-03-23T03:27:09.598212",
     "exception": false,
     "start_time": "2022-03-23T03:06:12.301368",
     "status": "completed"
    },
    "tags": []
   },
   "outputs": [
    {
     "name": "stdout",
     "output_type": "stream",
     "text": [
      "epoch: 1, [batch: 1 / 6851], examples_per_second: 30.7882, train_label_loss: 2.2783, \n"
     ]
    },
    {
     "name": "stdout",
     "output_type": "stream",
     "text": [
      "epoch: 1, [batch: 686 / 6851], examples_per_second: 2999.3804, train_label_loss: 0.0780, \n"
     ]
    },
    {
     "name": "stdout",
     "output_type": "stream",
     "text": [
      "epoch: 1, [batch: 1371 / 6851], examples_per_second: 2961.9418, train_label_loss: 0.0610, \n"
     ]
    },
    {
     "name": "stdout",
     "output_type": "stream",
     "text": [
      "epoch: 1, [batch: 2056 / 6851], examples_per_second: 3044.7718, train_label_loss: 0.0295, \n"
     ]
    },
    {
     "name": "stdout",
     "output_type": "stream",
     "text": [
      "epoch: 1, [batch: 2741 / 6851], examples_per_second: 2942.5061, train_label_loss: 0.2251, \n"
     ]
    },
    {
     "name": "stdout",
     "output_type": "stream",
     "text": [
      "epoch: 1, [batch: 3426 / 6851], examples_per_second: 2930.3587, train_label_loss: 0.0210, \n"
     ]
    },
    {
     "name": "stdout",
     "output_type": "stream",
     "text": [
      "epoch: 1, [batch: 4111 / 6851], examples_per_second: 2944.2265, train_label_loss: 0.0872, \n"
     ]
    },
    {
     "name": "stdout",
     "output_type": "stream",
     "text": [
      "epoch: 1, [batch: 4796 / 6851], examples_per_second: 2996.6782, train_label_loss: 0.0753, \n"
     ]
    },
    {
     "name": "stdout",
     "output_type": "stream",
     "text": [
      "epoch: 1, [batch: 5481 / 6851], examples_per_second: 2920.5885, train_label_loss: 0.0411, \n"
     ]
    },
    {
     "name": "stdout",
     "output_type": "stream",
     "text": [
      "epoch: 1, [batch: 6166 / 6851], examples_per_second: 2968.0769, train_label_loss: 0.0838, \n"
     ]
    },
    {
     "name": "stdout",
     "output_type": "stream",
     "text": [
      "=============================================================\n",
      "epoch: 1, source_val_acc_label: 0.9608, target_val_acc_label: 0.3104, source_val_label_loss: 0.1774, target_val_label_loss: 2.6114, \n",
      "=============================================================\n"
     ]
    },
    {
     "name": "stdout",
     "output_type": "stream",
     "text": [
      "New best\n"
     ]
    },
    {
     "name": "stdout",
     "output_type": "stream",
     "text": [
      "epoch: 2, [batch: 1 / 6838], examples_per_second: 3.1278, train_label_loss: 0.0420, \n"
     ]
    },
    {
     "name": "stdout",
     "output_type": "stream",
     "text": [
      "epoch: 2, [batch: 684 / 6838], examples_per_second: 3366.3693, train_label_loss: 0.2835, \n"
     ]
    },
    {
     "name": "stdout",
     "output_type": "stream",
     "text": [
      "epoch: 2, [batch: 1368 / 6838], examples_per_second: 3389.9212, train_label_loss: 0.1412, \n"
     ]
    },
    {
     "name": "stdout",
     "output_type": "stream",
     "text": [
      "epoch: 2, [batch: 2052 / 6838], examples_per_second: 3642.4597, train_label_loss: 0.0080, \n"
     ]
    },
    {
     "name": "stdout",
     "output_type": "stream",
     "text": [
      "epoch: 2, [batch: 2735 / 6838], examples_per_second: 3096.2694, train_label_loss: 0.0168, \n"
     ]
    },
    {
     "name": "stdout",
     "output_type": "stream",
     "text": [
      "epoch: 2, [batch: 3419 / 6838], examples_per_second: 3028.3373, train_label_loss: 0.0661, \n"
     ]
    },
    {
     "name": "stdout",
     "output_type": "stream",
     "text": [
      "epoch: 2, [batch: 4103 / 6838], examples_per_second: 3037.0026, train_label_loss: 0.0017, \n"
     ]
    },
    {
     "name": "stdout",
     "output_type": "stream",
     "text": [
      "epoch: 2, [batch: 4786 / 6838], examples_per_second: 2982.9936, train_label_loss: 0.0230, \n"
     ]
    },
    {
     "name": "stdout",
     "output_type": "stream",
     "text": [
      "epoch: 2, [batch: 5470 / 6838], examples_per_second: 2972.3179, train_label_loss: 0.1071, \n"
     ]
    },
    {
     "name": "stdout",
     "output_type": "stream",
     "text": [
      "epoch: 2, [batch: 6154 / 6838], examples_per_second: 2973.4041, train_label_loss: 0.0872, \n"
     ]
    },
    {
     "name": "stdout",
     "output_type": "stream",
     "text": [
      "=============================================================\n",
      "epoch: 2, source_val_acc_label: 0.9686, target_val_acc_label: 0.3160, source_val_label_loss: 0.1457, target_val_label_loss: 2.5385, \n",
      "=============================================================\n"
     ]
    },
    {
     "name": "stdout",
     "output_type": "stream",
     "text": [
      "New best\n"
     ]
    },
    {
     "name": "stdout",
     "output_type": "stream",
     "text": [
      "epoch: 3, [batch: 1 / 6850], examples_per_second: 2.9142, train_label_loss: 0.1456, \n"
     ]
    },
    {
     "name": "stdout",
     "output_type": "stream",
     "text": [
      "epoch: 3, [batch: 685 / 6850], examples_per_second: 3447.8071, train_label_loss: 0.0042, \n"
     ]
    },
    {
     "name": "stdout",
     "output_type": "stream",
     "text": [
      "epoch: 3, [batch: 1370 / 6850], examples_per_second: 3737.3311, train_label_loss: 0.0037, \n"
     ]
    },
    {
     "name": "stdout",
     "output_type": "stream",
     "text": [
      "epoch: 3, [batch: 2055 / 6850], examples_per_second: 3878.8064, train_label_loss: 0.0418, \n"
     ]
    },
    {
     "name": "stdout",
     "output_type": "stream",
     "text": [
      "epoch: 3, [batch: 2740 / 6850], examples_per_second: 3801.0490, train_label_loss: 0.1910, \n"
     ]
    },
    {
     "name": "stdout",
     "output_type": "stream",
     "text": [
      "epoch: 3, [batch: 3425 / 6850], examples_per_second: 4241.1472, train_label_loss: 0.1771, \n"
     ]
    },
    {
     "name": "stdout",
     "output_type": "stream",
     "text": [
      "epoch: 3, [batch: 4110 / 6850], examples_per_second: 4078.5616, train_label_loss: 0.2695, \n"
     ]
    },
    {
     "name": "stdout",
     "output_type": "stream",
     "text": [
      "epoch: 3, [batch: 4795 / 6850], examples_per_second: 3476.2664, train_label_loss: 0.1509, \n"
     ]
    },
    {
     "name": "stdout",
     "output_type": "stream",
     "text": [
      "epoch: 3, [batch: 5480 / 6850], examples_per_second: 2980.2065, train_label_loss: 0.1888, \n"
     ]
    },
    {
     "name": "stdout",
     "output_type": "stream",
     "text": [
      "epoch: 3, [batch: 6165 / 6850], examples_per_second: 2992.2821, train_label_loss: 0.0207, \n"
     ]
    },
    {
     "name": "stdout",
     "output_type": "stream",
     "text": [
      "=============================================================\n",
      "epoch: 3, source_val_acc_label: 0.9721, target_val_acc_label: 0.2849, source_val_label_loss: 0.1228, target_val_label_loss: 2.5817, \n",
      "=============================================================\n"
     ]
    },
    {
     "name": "stdout",
     "output_type": "stream",
     "text": [
      "epoch: 4, [batch: 1 / 6835], examples_per_second: 2.7597, train_label_loss: 0.0141, \n"
     ]
    },
    {
     "name": "stdout",
     "output_type": "stream",
     "text": [
      "epoch: 4, [batch: 684 / 6835], examples_per_second: 3040.7510, train_label_loss: 0.2228, \n"
     ]
    },
    {
     "name": "stdout",
     "output_type": "stream",
     "text": [
      "epoch: 4, [batch: 1367 / 6835], examples_per_second: 3033.0355, train_label_loss: 0.2045, \n"
     ]
    },
    {
     "name": "stdout",
     "output_type": "stream",
     "text": [
      "epoch: 4, [batch: 2051 / 6835], examples_per_second: 3029.8931, train_label_loss: 0.0117, \n"
     ]
    },
    {
     "name": "stdout",
     "output_type": "stream",
     "text": [
      "epoch: 4, [batch: 2734 / 6835], examples_per_second: 2950.4373, train_label_loss: 0.0218, \n"
     ]
    },
    {
     "name": "stdout",
     "output_type": "stream",
     "text": [
      "epoch: 4, [batch: 3418 / 6835], examples_per_second: 3350.0130, train_label_loss: 0.2453, \n"
     ]
    },
    {
     "name": "stdout",
     "output_type": "stream",
     "text": [
      "epoch: 4, [batch: 4101 / 6835], examples_per_second: 3446.0886, train_label_loss: 0.1046, \n"
     ]
    },
    {
     "name": "stdout",
     "output_type": "stream",
     "text": [
      "epoch: 4, [batch: 4784 / 6835], examples_per_second: 3447.9433, train_label_loss: 0.0074, \n"
     ]
    },
    {
     "name": "stdout",
     "output_type": "stream",
     "text": [
      "epoch: 4, [batch: 5468 / 6835], examples_per_second: 3405.4686, train_label_loss: 0.2115, \n"
     ]
    },
    {
     "name": "stdout",
     "output_type": "stream",
     "text": [
      "epoch: 4, [batch: 6151 / 6835], examples_per_second: 3472.8218, train_label_loss: 0.0173, \n"
     ]
    },
    {
     "name": "stdout",
     "output_type": "stream",
     "text": [
      "=============================================================\n",
      "epoch: 4, source_val_acc_label: 0.9724, target_val_acc_label: 0.2588, source_val_label_loss: 0.1176, target_val_label_loss: 2.5855, \n",
      "=============================================================\n"
     ]
    },
    {
     "name": "stdout",
     "output_type": "stream",
     "text": [
      "epoch: 5, [batch: 1 / 6849], examples_per_second: 3.2507, train_label_loss: 0.0345, \n"
     ]
    },
    {
     "name": "stdout",
     "output_type": "stream",
     "text": [
      "epoch: 5, [batch: 685 / 6849], examples_per_second: 2977.4792, train_label_loss: 0.0489, \n"
     ]
    },
    {
     "name": "stdout",
     "output_type": "stream",
     "text": [
      "epoch: 5, [batch: 1370 / 6849], examples_per_second: 3000.4385, train_label_loss: 0.0321, \n"
     ]
    },
    {
     "name": "stdout",
     "output_type": "stream",
     "text": [
      "epoch: 5, [batch: 2055 / 6849], examples_per_second: 2975.7983, train_label_loss: 0.1768, \n"
     ]
    },
    {
     "name": "stdout",
     "output_type": "stream",
     "text": [
      "epoch: 5, [batch: 2740 / 6849], examples_per_second: 3006.8154, train_label_loss: 0.3805, \n"
     ]
    },
    {
     "name": "stdout",
     "output_type": "stream",
     "text": [
      "epoch: 5, [batch: 3425 / 6849], examples_per_second: 2985.7305, train_label_loss: 0.1856, \n"
     ]
    },
    {
     "name": "stdout",
     "output_type": "stream",
     "text": [
      "epoch: 5, [batch: 4109 / 6849], examples_per_second: 3002.1931, train_label_loss: 0.0033, \n"
     ]
    },
    {
     "name": "stdout",
     "output_type": "stream",
     "text": [
      "epoch: 5, [batch: 4794 / 6849], examples_per_second: 2957.4707, train_label_loss: 0.2519, \n"
     ]
    },
    {
     "name": "stdout",
     "output_type": "stream",
     "text": [
      "epoch: 5, [batch: 5479 / 6849], examples_per_second: 3027.7485, train_label_loss: 0.0052, \n"
     ]
    },
    {
     "name": "stdout",
     "output_type": "stream",
     "text": [
      "epoch: 5, [batch: 6164 / 6849], examples_per_second: 3145.3782, train_label_loss: 0.0165, \n"
     ]
    },
    {
     "name": "stdout",
     "output_type": "stream",
     "text": [
      "=============================================================\n",
      "epoch: 5, source_val_acc_label: 0.9736, target_val_acc_label: 0.2432, source_val_label_loss: 0.1094, target_val_label_loss: 2.5623, \n",
      "=============================================================\n"
     ]
    },
    {
     "name": "stdout",
     "output_type": "stream",
     "text": [
      "epoch: 6, [batch: 1 / 6851], examples_per_second: 3.0896, train_label_loss: 0.0933, \n"
     ]
    },
    {
     "name": "stdout",
     "output_type": "stream",
     "text": [
      "epoch: 6, [batch: 686 / 6851], examples_per_second: 3341.7060, train_label_loss: 0.9463, \n"
     ]
    },
    {
     "name": "stdout",
     "output_type": "stream",
     "text": [
      "epoch: 6, [batch: 1371 / 6851], examples_per_second: 3414.5124, train_label_loss: 0.0125, \n"
     ]
    },
    {
     "name": "stdout",
     "output_type": "stream",
     "text": [
      "epoch: 6, [batch: 2056 / 6851], examples_per_second: 3698.6015, train_label_loss: 0.1264, \n"
     ]
    },
    {
     "name": "stdout",
     "output_type": "stream",
     "text": [
      "epoch: 6, [batch: 2741 / 6851], examples_per_second: 3104.9821, train_label_loss: 0.0043, \n"
     ]
    },
    {
     "name": "stdout",
     "output_type": "stream",
     "text": [
      "epoch: 6, [batch: 3426 / 6851], examples_per_second: 2994.2490, train_label_loss: 0.1532, \n"
     ]
    },
    {
     "name": "stdout",
     "output_type": "stream",
     "text": [
      "epoch: 6, [batch: 4111 / 6851], examples_per_second: 3018.7412, train_label_loss: 0.0224, \n"
     ]
    },
    {
     "name": "stdout",
     "output_type": "stream",
     "text": [
      "epoch: 6, [batch: 4796 / 6851], examples_per_second: 2938.0221, train_label_loss: 0.2924, \n"
     ]
    },
    {
     "name": "stdout",
     "output_type": "stream",
     "text": [
      "epoch: 6, [batch: 5481 / 6851], examples_per_second: 2953.6762, train_label_loss: 0.0015, \n"
     ]
    },
    {
     "name": "stdout",
     "output_type": "stream",
     "text": [
      "epoch: 6, [batch: 6166 / 6851], examples_per_second: 2971.2397, train_label_loss: 0.1296, \n"
     ]
    },
    {
     "name": "stdout",
     "output_type": "stream",
     "text": [
      "=============================================================\n",
      "epoch: 6, source_val_acc_label: 0.9741, target_val_acc_label: 0.2429, source_val_label_loss: 0.1077, target_val_label_loss: 2.5536, \n",
      "=============================================================\n"
     ]
    },
    {
     "name": "stdout",
     "output_type": "stream",
     "text": [
      "Patience (3) exhausted\n"
     ]
    }
   ],
   "source": [
    "###################################\n",
    "# train\n",
    "###################################\n",
    "jig = PTN_Train_Eval_Test_Jig(model, p.BEST_MODEL_PATH, p.device)\n",
    "\n",
    "jig.train(\n",
    "    train_iterable=datasets.source.processed.train,\n",
    "    source_val_iterable=datasets.source.processed.val,\n",
    "    target_val_iterable=datasets.target.processed.val,\n",
    "    num_epochs=p.n_epoch,\n",
    "    num_logs_per_epoch=p.NUM_LOGS_PER_EPOCH,\n",
    "    patience=p.patience,\n",
    "    optimizer=optimizer,\n",
    "    criteria_for_best=p.criteria_for_best,\n",
    ")"
   ]
  },
  {
   "cell_type": "code",
   "execution_count": 23,
   "id": "31e8fabf",
   "metadata": {
    "execution": {
     "iopub.execute_input": "2022-03-23T03:27:09.686734Z",
     "iopub.status.busy": "2022-03-23T03:27:09.686368Z",
     "iopub.status.idle": "2022-03-23T03:27:09.718353Z",
     "shell.execute_reply": "2022-03-23T03:27:09.717549Z"
    },
    "papermill": {
     "duration": 0.078709,
     "end_time": "2022-03-23T03:27:09.718511",
     "exception": false,
     "start_time": "2022-03-23T03:27:09.639802",
     "status": "completed"
    },
    "tags": []
   },
   "outputs": [],
   "source": [
    "total_experiment_time_secs = time.time() - start_time_secs"
   ]
  },
  {
   "cell_type": "code",
   "execution_count": 24,
   "id": "87b9595b",
   "metadata": {
    "execution": {
     "iopub.execute_input": "2022-03-23T03:27:10.421205Z",
     "iopub.status.busy": "2022-03-23T03:27:10.420808Z",
     "iopub.status.idle": "2022-03-23T03:30:29.578593Z",
     "shell.execute_reply": "2022-03-23T03:30:29.579274Z"
    },
    "papermill": {
     "duration": 199.811957,
     "end_time": "2022-03-23T03:30:29.579494",
     "exception": false,
     "start_time": "2022-03-23T03:27:09.767537",
     "status": "completed"
    },
    "tags": []
   },
   "outputs": [],
   "source": [
    "###################################\n",
    "# Evaluate the model\n",
    "###################################\n",
    "source_test_label_accuracy, source_test_label_loss = jig.test(datasets.source.processed.test)\n",
    "target_test_label_accuracy, target_test_label_loss = jig.test(datasets.target.processed.test)\n",
    "\n",
    "source_val_label_accuracy, source_val_label_loss = jig.test(datasets.source.processed.val)\n",
    "target_val_label_accuracy, target_val_label_loss = jig.test(datasets.target.processed.val)\n",
    "\n",
    "history = jig.get_history()\n",
    "\n",
    "total_epochs_trained = len(history[\"epoch_indices\"])\n",
    "\n",
    "val_dl = Iterable_Aggregator((datasets.source.original.val,datasets.target.original.val))\n",
    "\n",
    "confusion = ptn_confusion_by_domain_over_dataloader(model, p.device, val_dl)\n",
    "per_domain_accuracy = per_domain_accuracy_from_confusion(confusion)\n",
    "\n",
    "# Add a key to per_domain_accuracy for if it was a source domain\n",
    "for domain, accuracy in per_domain_accuracy.items():\n",
    "    per_domain_accuracy[domain] = {\n",
    "        \"accuracy\": accuracy,\n",
    "        \"source?\": domain in p.domains_source\n",
    "    }\n",
    "\n",
    "# Do an independent accuracy assesment JUST TO BE SURE!\n",
    "# _source_test_label_accuracy = independent_accuracy_assesment(model, datasets.source.processed.test, p.device)\n",
    "# _target_test_label_accuracy = independent_accuracy_assesment(model, datasets.target.processed.test, p.device)\n",
    "# _source_val_label_accuracy = independent_accuracy_assesment(model, datasets.source.processed.val, p.device)\n",
    "# _target_val_label_accuracy = independent_accuracy_assesment(model, datasets.target.processed.val, p.device)\n",
    "\n",
    "# assert(_source_test_label_accuracy == source_test_label_accuracy)\n",
    "# assert(_target_test_label_accuracy == target_test_label_accuracy)\n",
    "# assert(_source_val_label_accuracy == source_val_label_accuracy)\n",
    "# assert(_target_val_label_accuracy == target_val_label_accuracy)\n",
    "\n",
    "experiment = {\n",
    "    \"experiment_name\": p.experiment_name,\n",
    "    \"parameters\": dict(p),\n",
    "    \"results\": {\n",
    "        \"source_test_label_accuracy\": source_test_label_accuracy,\n",
    "        \"source_test_label_loss\": source_test_label_loss,\n",
    "        \"target_test_label_accuracy\": target_test_label_accuracy,\n",
    "        \"target_test_label_loss\": target_test_label_loss,\n",
    "        \"source_val_label_accuracy\": source_val_label_accuracy,\n",
    "        \"source_val_label_loss\": source_val_label_loss,\n",
    "        \"target_val_label_accuracy\": target_val_label_accuracy,\n",
    "        \"target_val_label_loss\": target_val_label_loss,\n",
    "        \"total_epochs_trained\": total_epochs_trained,\n",
    "        \"total_experiment_time_secs\": total_experiment_time_secs,\n",
    "        \"confusion\": confusion,\n",
    "        \"per_domain_accuracy\": per_domain_accuracy,\n",
    "    },\n",
    "    \"history\": history,\n",
    "    \"dataset_metrics\": get_dataset_metrics(datasets, \"ptn\"),\n",
    "}"
   ]
  },
  {
   "cell_type": "code",
   "execution_count": 25,
   "id": "54a21829",
   "metadata": {
    "execution": {
     "iopub.execute_input": "2022-03-23T03:30:29.674362Z",
     "iopub.status.busy": "2022-03-23T03:30:29.673791Z",
     "iopub.status.idle": "2022-03-23T03:30:29.911326Z",
     "shell.execute_reply": "2022-03-23T03:30:29.910541Z"
    },
    "papermill": {
     "duration": 0.282886,
     "end_time": "2022-03-23T03:30:29.911485",
     "exception": false,
     "start_time": "2022-03-23T03:30:29.628599",
     "status": "completed"
    },
    "tags": []
   },
   "outputs": [
    {
     "data": {
      "image/png": "[encoded data removed]",
      "text/plain": [
       "<Figure size 1080x504 with 1 Axes>"
      ]
     },
     "metadata": {
      "needs_background": "light"
     },
     "output_type": "display_data"
    }
   ],
   "source": [
    "ax = get_loss_curve(experiment)\n",
    "plt.show()"
   ]
  },
  {
   "cell_type": "code",
   "execution_count": 26,
   "id": "fd8a0f60",
   "metadata": {
    "execution": {
     "iopub.execute_input": "2022-03-23T03:30:30.008126Z",
     "iopub.status.busy": "2022-03-23T03:30:30.007754Z",
     "iopub.status.idle": "2022-03-23T03:30:30.379111Z",
     "shell.execute_reply": "2022-03-23T03:30:30.378344Z"
    },
    "papermill": {
     "duration": 0.417676,
     "end_time": "2022-03-23T03:30:30.379271",
     "exception": false,
     "start_time": "2022-03-23T03:30:29.961595",
     "status": "completed"
    },
    "tags": []
   },
   "outputs": [
    {
     "data": {
      "text/plain": [
       "<AxesSubplot:title={'center':'Results'}>"
      ]
     },
     "execution_count": 26,
     "metadata": {},
     "output_type": "execute_result"
    },
    {
     "data": {
      "image/png": "[encoded data removed]",
      "text/plain": [
       "<Figure size 1080x504 with 1 Axes>"
      ]
     },
     "metadata": {
      "needs_background": "light"
     },
     "output_type": "display_data"
    }
   ],
   "source": [
    "get_results_table(experiment)"
   ]
  },
  {
   "cell_type": "code",
   "execution_count": 27,
   "id": "cf8dc689",
   "metadata": {
    "execution": {
     "iopub.execute_input": "2022-03-23T03:30:30.476512Z",
     "iopub.status.busy": "2022-03-23T03:30:30.476148Z",
     "iopub.status.idle": "2022-03-23T03:30:30.726007Z",
     "shell.execute_reply": "2022-03-23T03:30:30.726684Z"
    },
    "papermill": {
     "duration": 0.298111,
     "end_time": "2022-03-23T03:30:30.726874",
     "exception": false,
     "start_time": "2022-03-23T03:30:30.428763",
     "status": "completed"
    },
    "tags": []
   },
   "outputs": [
    {
     "data": {
      "text/plain": [
       "<AxesSubplot:title={'center':'Per Domain Validation Accuracy'}, xlabel='domain'>"
      ]
     },
     "execution_count": 27,
     "metadata": {},
     "output_type": "execute_result"
    },
    {
     "data": {
      "image/png": "[encoded data removed]",
      "text/plain": [
       "<Figure size 1080x504 with 1 Axes>"
      ]
     },
     "metadata": {
      "needs_background": "light"
     },
     "output_type": "display_data"
    }
   ],
   "source": [
    "get_domain_accuracies(experiment)"
   ]
  },
  {
   "cell_type": "code",
   "execution_count": 28,
   "id": "a74ae082",
   "metadata": {
    "execution": {
     "iopub.execute_input": "2022-03-23T03:30:30.827324Z",
     "iopub.status.busy": "2022-03-23T03:30:30.826952Z",
     "iopub.status.idle": "2022-03-23T03:30:30.849083Z",
     "shell.execute_reply": "2022-03-23T03:30:30.849752Z"
    },
    "papermill": {
     "duration": 0.072078,
     "end_time": "2022-03-23T03:30:30.849936",
     "exception": false,
     "start_time": "2022-03-23T03:30:30.777858",
     "status": "completed"
    },
    "tags": []
   },
   "outputs": [
    {
     "name": "stdout",
     "output_type": "stream",
     "text": [
      "Source Test Label Accuracy: 0.9686210010319918 Target Test Label Accuracy: 0.3214192708333333\n",
      "Source Val Label Accuracy: 0.9685520063357973 Target Val Label Accuracy: 0.316015625\n"
     ]
    }
   ],
   "source": [
    "print(\"Source Test Label Accuracy:\", experiment[\"results\"][\"source_test_label_accuracy\"], \"Target Test Label Accuracy:\", experiment[\"results\"][\"target_test_label_accuracy\"])\n",
    "print(\"Source Val Label Accuracy:\", experiment[\"results\"][\"source_val_label_accuracy\"], \"Target Val Label Accuracy:\", experiment[\"results\"][\"target_val_label_accuracy\"])"
   ]
  },
  {
   "cell_type": "code",
   "execution_count": 29,
   "id": "dacca602",
   "metadata": {
    "execution": {
     "iopub.execute_input": "2022-03-23T03:30:30.954720Z",
     "iopub.status.busy": "2022-03-23T03:30:30.954350Z",
     "iopub.status.idle": "2022-03-23T03:30:30.976998Z",
     "shell.execute_reply": "2022-03-23T03:30:30.977694Z"
    },
    "papermill": {
     "duration": 0.074437,
     "end_time": "2022-03-23T03:30:30.977904",
     "exception": false,
     "start_time": "2022-03-23T03:30:30.903467",
     "status": "completed"
    },
    "tags": [
     "experiment_json"
    ]
   },
   "outputs": [
    {
     "data": {
      "text/plain": [
       "'{\"experiment_name\": \"tl_1v2:wisig-oracle.run1.limited\", \"parameters\": {\"experiment_name\": \"tl_1v2:wisig-oracle.run1.limited\", \"device\": \"cuda\", \"lr\": 0.0001, \"n_shot\": 3, \"n_query\": 2, \"train_k_factor\": 3, \"val_k_factor\": 2, \"test_k_factor\": 2, \"torch_default_dtype\": \"torch.float32\", \"n_epoch\": 50, \"patience\": 3, \"criteria_for_best\": \"target_accuracy\", \"x_net\": [{\"class\": \"nnReshape\", \"kargs\": {\"shape\": [-1, 1, 2, 256]}}, {\"class\": \"Conv2d\", \"kargs\": {\"in_channels\": 1, \"out_channels\": 256, \"kernel_size\": [1, 7], \"bias\": false, \"padding\": [0, 3]}}, {\"class\": \"ReLU\", \"kargs\": {\"inplace\": true}}, {\"class\": \"BatchNorm2d\", \"kargs\": {\"num_features\": 256}}, {\"class\": \"Conv2d\", \"kargs\": {\"in_channels\": 256, \"out_channels\": 80, \"kernel_size\": [2, 7], \"bias\": true, \"padding\": [0, 3]}}, {\"class\": \"ReLU\", \"kargs\": {\"inplace\": true}}, {\"class\": \"BatchNorm2d\", \"kargs\": {\"num_features\": 80}}, {\"class\": \"Flatten\", \"kargs\": {}}, {\"class\": \"Linear\", \"kargs\": {\"in_features\": 20480, \"out_features\": 256}}, {\"class\": \"ReLU\", \"kargs\": {\"inplace\": true}}, {\"class\": \"BatchNorm1d\", \"kargs\": {\"num_features\": 256}}, {\"class\": \"Linear\", \"kargs\": {\"in_features\": 256, \"out_features\": 256}}], \"NUM_LOGS_PER_EPOCH\": 10, \"BEST_MODEL_PATH\": \"./best_model.pth\", \"n_way\": 16, \"datasets\": [{\"labels\": [\"1-10\", \"1-12\", \"1-14\", \"1-16\", \"1-18\", \"1-19\", \"1-8\", \"10-11\", \"10-17\", \"10-4\", \"10-7\", \"11-1\", \"11-10\", \"11-19\", \"11-20\", \"11-4\", \"11-7\", \"12-19\", \"12-20\", \"12-7\", \"13-14\", \"13-18\", \"13-19\", \"13-20\", \"13-3\", \"13-7\", \"14-10\", \"14-11\", \"14-12\", \"14-13\", \"14-14\", \"14-19\", \"14-20\", \"14-7\", \"14-8\", \"14-9\", \"15-1\", \"15-19\", \"15-6\", \"16-1\", \"16-16\", \"16-19\", \"16-20\", \"17-10\", \"17-11\", \"18-1\", \"18-10\", \"18-11\", \"18-12\", \"18-13\", \"18-14\", \"18-15\", \"18-16\", \"18-17\", \"18-19\", \"18-2\", \"18-20\", \"18-4\", \"18-5\", \"18-7\", \"18-8\", \"18-9\", \"19-1\", \"19-10\", \"19-11\", \"19-12\", \"19-13\", \"19-14\", \"19-15\", \"19-19\", \"19-2\", \"19-20\", \"19-3\", \"19-4\", \"19-6\", \"19-7\", \"19-8\", \"19-9\", \"2-1\", \"2-13\", \"2-15\", \"2-3\", \"2-4\", \"2-5\", \"2-6\", \"2-7\", \"2-8\", \"20-1\", \"20-12\", \"20-14\", \"20-15\", \"20-16\", \"20-18\", \"20-19\", \"20-20\", \"20-3\", \"20-4\", \"20-5\", \"20-7\", \"20-8\", \"3-1\", \"3-13\", \"3-18\", \"3-2\", \"3-8\", \"4-1\", \"4-10\", \"4-11\", \"5-1\", \"5-5\", \"6-1\", \"6-15\", \"6-6\", \"7-10\", \"7-11\", \"7-12\", \"7-13\", \"7-14\", \"7-7\", \"7-8\", \"7-9\", \"8-1\", \"8-13\", \"8-14\", \"8-18\", \"8-20\", \"8-3\", \"8-8\", \"9-1\", \"9-7\"], \"domains\": [1, 2, 3, 4], \"num_examples_per_domain_per_label\": -1, \"pickle_path\": \"/root/csc500-main/datasets/wisig.node3-19.stratified_ds.2022A.pkl\", \"source_or_target_dataset\": \"source\", \"x_transforms\": [], \"episode_transforms\": [], \"domain_prefix\": \"Wisig_\"}, {\"labels\": [\"3123D52\", \"3123D65\", \"3123D79\", \"3123D80\", \"3123D54\", \"3123D70\", \"3123D7B\", \"3123D89\", \"3123D58\", \"3123D76\", \"3123D7D\", \"3123EFE\", \"3123D64\", \"3123D78\", \"3123D7E\", \"3124E4A\"], \"domains\": [32, 38, 8, 44, 14, 50, 20, 26], \"num_examples_per_domain_per_label\": 2000, \"pickle_path\": \"/root/csc500-main/datasets/oracle.Run1_10kExamples_stratified_ds.2022A.pkl\", \"source_or_target_dataset\": \"target\", \"x_transforms\": [], \"episode_transforms\": [], \"domain_prefix\": \"ORACLE.run1\"}], \"dataset_seed\": 7, \"seed\": 7, \"x_shape\": [2, 256], \"domains_source\": [\"Wisig_1\", \"Wisig_2\", \"Wisig_3\", \"Wisig_4\"], \"domains_target\": [\"ORACLE.run132\", \"ORACLE.run138\", \"ORACLE.run18\", \"ORACLE.run144\", \"ORACLE.run114\", \"ORACLE.run150\", \"ORACLE.run120\", \"ORACLE.run126\"]}, \"results\": {\"source_test_label_accuracy\": 0.9686210010319918, \"source_test_label_loss\": 0.14674504101276398, \"target_test_label_accuracy\": 0.3214192708333333, \"target_test_label_loss\": 2.536813974380493, \"source_val_label_accuracy\": 0.9685520063357973, \"source_val_label_loss\": 0.14567171037197113, \"target_val_label_accuracy\": 0.316015625, \"target_val_label_loss\": 2.5385162830352783, \"total_epochs_trained\": 6, \"total_experiment_time_secs\": 1280.1844062805176, \"confusion\": {\"Wisig_4\": {\"71\": {\"71\": 103, \"84\": 1}, \"17\": {\"17\": 20}, \"105\": {\"105\": 87, \"88\": 3, \"14\": 1, \"109\": 1, \"4\": 1, \"111\": 1, \"40\": 2, \"70\": 1, \"113\": 1, \"60\": 1, \"87\": 1}, \"92\": {\"92\": 27, \"111\": 1}, \"100\": {\"100\": 20}, \"6\": {\"6\": 24}, \"36\": {\"36\": 124, \"24\": 2, \"70\": 1, \"88\": 1}, \"35\": {\"35\": 12}, \"63\": {\"63\": 16}, \"104\": {\"104\": 16}, \"114\": {\"114\": 124, \"94\": 1, \"111\": 1, \"24\": 1, \"105\": 1}, \"68\": {\"68\": 16}, \"109\": {\"109\": 114, \"84\": 2}, \"27\": {\"27\": 94, \"16\": 1, \"78\": 1, \"88\": 2, \"87\": 1, \"70\": 1}, \"79\": {\"79\": 16}, \"0\": {\"0\": 98, \"70\": 2, \"118\": 1, \"84\": 1, \"87\": 1, \"107\": 1, \"43\": 1, \"14\": 1}, \"28\": {\"28\": 19, \"16\": 1}, \"4\": {\"4\": 101, \"21\": 1, \"107\": 1, \"85\": 1}, \"106\": {\"106\": 98, \"21\": 1, \"39\": 1, \"69\": 1, \"88\": 1}, \"40\": {\"40\": 131, \"16\": 1, \"69\": 1, \"18\": 1}, \"127\": {\"127\": 106, \"55\": 1, \"12\": 1}, \"57\": {\"57\": 14, \"51\": 1, \"84\": 1}, \"60\": {\"60\": 32}, \"69\": {\"69\": 120, \"84\": 1, \"27\": 1, \"111\": 1, \"3\": 1}, \"84\": {\"84\": 129, \"78\": 1, \"121\": 1, \"3\": 1}, \"24\": {\"24\": 112, \"21\": 1, \"40\": 1, \"10\": 2, \"113\": 1, \"84\": 2, \"16\": 1}, \"94\": {\"84\": 1, \"94\": 83, \"36\": 2, \"111\": 1, \"26\": 1}, \"7\": {\"7\": 114, \"84\": 1, \"111\": 1, \"88\": 1, \"10\": 1, \"85\": 1, \"27\": 1}, \"96\": {\"96\": 16, \"91\": 1, \"54\": 1, \"81\": 1, \"4\": 1}, \"116\": {\"116\": 28}, \"47\": {\"47\": 9, \"40\": 1, \"55\": 1, \"70\": 1}, \"119\": {\"119\": 15, \"68\": 1}, \"74\": {\"74\": 14, \"113\": 1, \"121\": 1}, \"93\": {\"93\": 151, \"0\": 1}, \"2\": {\"2\": 27, \"129\": 1}, \"37\": {\"37\": 15, \"51\": 1}, \"15\": {\"15\": 123, \"30\": 2, \"26\": 1, \"106\": 1, \"70\": 1}, \"102\": {\"102\": 136}, \"87\": {\"87\": 119, \"70\": 1, \"84\": 1, \"26\": 1}, \"107\": {\"107\": 142, \"98\": 1, \"88\": 1}, \"61\": {\"61\": 14, \"91\": 1, \"21\": 1}, \"78\": {\"78\": 33, \"70\": 2, \"27\": 1}, \"9\": {\"9\": 28}, \"32\": {\"32\": 25, \"55\": 2, \"89\": 1}, \"14\": {\"14\": 111, \"66\": 1}, \"62\": {\"62\": 55, \"84\": 1, \"88\": 1, \"27\": 1, \"106\": 1, \"108\": 1}, \"1\": {\"1\": 97, \"69\": 1, \"114\": 2, \"24\": 1, \"70\": 1}, \"23\": {\"23\": 9, \"15\": 2, \"48\": 1, \"110\": 1, \"35\": 1, \"51\": 1, \"12\": 1}, \"95\": {\"95\": 31, \"1\": 1}, \"56\": {\"56\": 12}, \"91\": {\"91\": 23, \"59\": 1}, \"34\": {\"34\": 25, \"120\": 2, \"85\": 2, \"54\": 2, \"72\": 1}, \"25\": {\"25\": 15, \"54\": 1}, \"33\": {\"33\": 123, \"121\": 1}, \"16\": {\"16\": 120, \"69\": 1, \"33\": 2, \"87\": 1}, \"26\": {\"26\": 124, \"21\": 1, \"18\": 1}, \"5\": {\"5\": 128, \"26\": 1, \"3\": 1, \"15\": 1, \"81\": 1, \"43\": 1, \"29\": 1, \"108\": 1, \"93\": 1}, \"123\": {\"123\": 15, \"26\": 1}, \"8\": {\"8\": 118}, \"83\": {\"83\": 25, \"111\": 1, \"86\": 1, \"78\": 1}, \"125\": {\"125\": 134}, \"51\": {\"51\": 12, \"47\": 1, \"88\": 1, \"75\": 1, \"78\": 1}, \"22\": {\"22\": 16}, \"54\": {\"54\": 16}, \"66\": {\"66\": 16}, \"59\": {\"59\": 10, \"6\": 1, \"21\": 1}, \"111\": {\"111\": 126, \"5\": 1, \"11\": 1}, \"77\": {\"77\": 12}, \"103\": {\"103\": 16}, \"20\": {\"20\": 14, \"61\": 1, \"83\": 1}, \"124\": {\"124\": 117, \"98\": 2, \"0\": 1}, \"99\": {\"99\": 39, \"69\": 1}, \"120\": {\"84\": 1, \"120\": 18, \"21\": 1}, \"76\": {\"76\": 15, \"111\": 1}, \"110\": {\"110\": 111, \"26\": 1, \"16\": 1, \"68\": 1, \"40\": 2}, \"29\": {\"29\": 31, \"24\": 1}, \"118\": {\"118\": 104, \"107\": 1, \"71\": 1, \"70\": 1, \"11\": 1, \"122\": 1, \"21\": 1, \"78\": 1, \"88\": 1}, \"58\": {\"58\": 13, \"77\": 1, \"88\": 2}, \"13\": {\"13\": 15, \"85\": 1}, \"89\": {\"89\": 32}, \"31\": {\"31\": 15, \"95\": 1}, \"64\": {\"64\": 15, \"85\": 1}, \"65\": {\"65\": 12}, \"101\": {\"101\": 130, \"19\": 1, \"127\": 1}, \"126\": {\"126\": 116, \"111\": 2}, \"108\": {\"108\": 77, \"23\": 1, \"70\": 4, \"16\": 1, \"98\": 1, \"105\": 1, \"88\": 4, \"44\": 1, \"18\": 1, \"107\": 1}, \"45\": {\"45\": 14, \"120\": 2}, \"21\": {\"21\": 33, \"84\": 1, \"88\": 1, \"109\": 2, \"4\": 1, \"78\": 2}, \"30\": {\"30\": 74, \"21\": 1, \"88\": 1}, \"82\": {\"82\": 30, \"105\": 1, \"98\": 1}, \"85\": {\"85\": 28}, \"88\": {\"88\": 126, \"70\": 1, \"118\": 1, \"108\": 1, \"26\": 1, \"105\": 1, \"27\": 1}, \"41\": {\"41\": 15, \"88\": 1}, \"128\": {\"128\": 22, \"52\": 1, \"23\": 1}, \"39\": {\"39\": 94, \"111\": 1, \"84\": 1, \"43\": 1, \"122\": 1, \"72\": 1, \"109\": 1}, \"18\": {\"18\": 113, \"69\": 1, \"21\": 1, \"5\": 1, \"111\": 1, \"16\": 1, \"84\": 1, \"3\": 1}, \"113\": {\"113\": 122, \"114\": 1, \"84\": 1, \"0\": 1, \"55\": 1, \"68\": 1, \"3\": 1}, \"11\": {\"11\": 134, \"33\": 1, \"84\": 2, \"1\": 1}, \"43\": {\"43\": 115, \"26\": 1, \"87\": 1, \"69\": 1, \"105\": 1, \"109\": 1}, \"12\": {\"12\": 97, \"111\": 1, \"110\": 1, \"84\": 1}, \"122\": {\"122\": 80, \"105\": 1, \"24\": 1, \"109\": 1, \"11\": 1}, \"52\": {\"52\": 20}, \"44\": {\"44\": 64}, \"90\": {\"90\": 133, \"98\": 1}, \"112\": {\"112\": 16}, \"86\": {\"86\": 28}, \"3\": {\"3\": 114, \"78\": 1, \"40\": 1}, \"38\": {\"38\": 16}, \"121\": {\"121\": 30, \"44\": 2}, \"46\": {\"46\": 17, \"121\": 1, \"73\": 1, \"50\": 1}, \"70\": {\"70\": 117, \"88\": 1, \"27\": 1, \"10\": 1, \"105\": 1, \"24\": 2, \"90\": 1}, \"67\": {\"67\": 16}, \"53\": {\"53\": 16}, \"49\": {\"49\": 32}, \"42\": {\"42\": 28}, \"10\": {\"10\": 113, \"24\": 1, \"111\": 1, \"108\": 1, \"12\": 1, \"127\": 1}, \"50\": {\"50\": 16}, \"73\": {\"73\": 23, \"125\": 1}, \"115\": {\"115\": 11, \"55\": 1, \"4\": 3, \"29\": 1}, \"80\": {\"80\": 15, \"51\": 1}, \"19\": {\"19\": 24, \"129\": 1, \"26\": 1, \"5\": 1, \"27\": 1}, \"55\": {\"55\": 16}, \"72\": {\"72\": 30, \"27\": 1, \"98\": 1}, \"117\": {\"117\": 115, \"89\": 1}, \"81\": {\"81\": 33, \"72\": 1, \"70\": 1, \"78\": 1}, \"75\": {\"75\": 15, \"34\": 1}, \"98\": {\"98\": 116, \"84\": 1, \"111\": 1, \"25\": 1, \"88\": 1}, \"48\": {\"48\": 16}, \"129\": {\"129\": 27, \"14\": 1}, \"97\": {\"97\": 17, \"24\": 2, \"16\": 1}}, \"Wisig_1\": {\"105\": {\"105\": 84}, \"100\": {\"100\": 16}, \"112\": {\"112\": 15, \"75\": 1}, \"123\": {\"123\": 16}, \"13\": {\"13\": 16}, \"81\": {\"81\": 28}, \"124\": {\"124\": 119, \"125\": 1}, \"122\": {\"122\": 88}, \"111\": {\"111\": 118, \"109\": 1, \"70\": 1}, \"93\": {\"93\": 154, \"21\": 1, \"43\": 3}, \"106\": {\"106\": 114, \"88\": 2, \"107\": 1, \"108\": 1}, \"113\": {\"113\": 122, \"26\": 1, \"109\": 1}, \"95\": {\"95\": 35, \"42\": 1}, \"87\": {\"87\": 105, \"16\": 1, \"43\": 1, \"18\": 1}, \"86\": {\"86\": 35, \"24\": 1}, \"67\": {\"67\": 16}, \"85\": {\"85\": 32}, \"82\": {\"82\": 36}, \"115\": {\"115\": 12}, \"7\": {\"7\": 142}, \"44\": {\"44\": 76}, \"65\": {\"65\": 11, \"74\": 1}, \"129\": {\"129\": 26, \"94\": 1, \"86\": 1}, \"42\": {\"42\": 26, \"91\": 1, \"124\": 1}, \"28\": {\"88\": 2, \"28\": 18}, \"0\": {\"0\": 82, \"41\": 1, \"24\": 1}, \"10\": {\"10\": 120}, \"76\": {\"76\": 15, \"105\": 1}, \"88\": {\"88\": 126}, \"29\": {\"29\": 28}, \"16\": {\"16\": 106, \"107\": 1, \"111\": 1}, \"41\": {\"41\": 16}, \"27\": {\"27\": 92}, \"33\": {\"33\": 118, \"121\": 1, \"111\": 1}, \"75\": {\"75\": 16}, \"48\": {\"48\": 12}, \"56\": {\"56\": 11, \"32\": 1}, \"9\": {\"9\": 31, \"26\": 1}, \"1\": {\"1\": 125, \"109\": 1}, \"39\": {\"39\": 103, \"108\": 1}, \"50\": {\"33\": 1, \"50\": 12, \"4\": 1, \"65\": 1, \"111\": 1}, \"99\": {\"99\": 23, \"108\": 1}, \"90\": {\"90\": 122}, \"45\": {\"104\": 1, \"45\": 9, \"112\": 1, \"39\": 1}, \"5\": {\"5\": 88}, \"128\": {\"128\": 22, \"25\": 1, \"19\": 1}, \"2\": {\"2\": 30, \"5\": 1, \"100\": 1}, \"53\": {\"53\": 20}, \"104\": {\"104\": 16}, \"32\": {\"32\": 32}, \"92\": {\"92\": 28}, \"78\": {\"5\": 1, \"78\": 14, \"16\": 1}, \"19\": {\"19\": 28}, \"120\": {\"120\": 19, \"58\": 1}, \"43\": {\"43\": 124, \"107\": 1, \"70\": 2, \"109\": 1}, \"74\": {\"74\": 16}, \"11\": {\"11\": 129, \"105\": 1}, \"26\": {\"26\": 129, \"70\": 2, \"69\": 1}, \"125\": {\"125\": 132}, \"64\": {\"64\": 15, \"66\": 1}, \"127\": {\"127\": 105, \"15\": 1, \"69\": 1, \"94\": 1}, \"83\": {\"83\": 27, \"12\": 1}, \"118\": {\"118\": 83, \"111\": 1}, \"103\": {\"103\": 15, \"104\": 1}, \"55\": {\"55\": 12}, \"110\": {\"110\": 126}, \"30\": {\"30\": 51, \"105\": 1}, \"51\": {\"51\": 16}, \"6\": {\"6\": 28, \"91\": 2, \"59\": 2}, \"96\": {\"96\": 19, \"30\": 1}, \"114\": {\"114\": 142, \"107\": 1, \"21\": 1}, \"69\": {\"69\": 107, \"108\": 1}, \"60\": {\"60\": 14, \"96\": 1, \"17\": 1}, \"94\": {\"94\": 91, \"109\": 1}, \"79\": {\"79\": 12}, \"126\": {\"126\": 132, \"12\": 1, \"21\": 1}, \"68\": {\"68\": 16}, \"72\": {\"72\": 32}, \"63\": {\"63\": 16}, \"22\": {\"22\": 15, \"106\": 1}, \"121\": {\"121\": 31, \"88\": 1}, \"71\": {\"71\": 101, \"81\": 1, \"70\": 1, \"24\": 1, \"43\": 1, \"9\": 1, \"1\": 1, \"26\": 1}, \"54\": {\"54\": 15, \"46\": 1}, \"102\": {\"102\": 119, \"109\": 1}, \"73\": {\"73\": 17, \"111\": 1, \"127\": 1, \"104\": 1}, \"38\": {\"38\": 16}, \"4\": {\"4\": 95, \"102\": 2, \"16\": 1, \"107\": 1, \"40\": 1}, \"52\": {\"52\": 20}, \"70\": {\"70\": 127, \"16\": 1}, \"91\": {\"91\": 25, \"42\": 1, \"58\": 2}, \"77\": {\"77\": 15, \"61\": 1}, \"20\": {\"20\": 16}, \"59\": {\"59\": 12}, \"40\": {\"40\": 133, \"105\": 1, \"118\": 1, \"70\": 1}, \"98\": {\"98\": 108}, \"46\": {\"46\": 8, \"111\": 1, \"59\": 2, \"53\": 1}, \"34\": {\"34\": 31, \"53\": 1}, \"24\": {\"24\": 88, \"16\": 1, \"97\": 1, \"3\": 1, \"108\": 1}, \"62\": {\"62\": 118, \"38\": 1, \"109\": 1}, \"14\": {\"14\": 96}, \"12\": {\"12\": 98, \"106\": 2, \"19\": 1, \"70\": 2, \"109\": 1}, \"84\": {\"84\": 131, \"107\": 1, \"26\": 1, \"70\": 1}, \"37\": {\"37\": 16}, \"97\": {\"27\": 2, \"97\": 18}, \"57\": {\"57\": 11, \"5\": 1}, \"49\": {\"49\": 20}, \"17\": {\"17\": 14, \"104\": 1, \"49\": 1}, \"109\": {\"109\": 104, \"70\": 2}, \"80\": {\"80\": 16}, \"66\": {\"66\": 16}, \"101\": {\"101\": 123, \"70\": 1}, \"89\": {\"89\": 34, \"46\": 1, \"42\": 1}, \"31\": {\"53\": 1, \"31\": 15}, \"21\": {\"21\": 38, \"95\": 1, \"69\": 1}, \"23\": {\"23\": 18, \"70\": 1, \"110\": 2, \"44\": 3}, \"25\": {\"25\": 14, \"42\": 1, \"30\": 1}, \"107\": {\"107\": 110, \"111\": 1, \"94\": 1}, \"3\": {\"3\": 86, \"111\": 2}, \"61\": {\"61\": 11, \"65\": 1}, \"117\": {\"117\": 125, \"16\": 1}, \"119\": {\"119\": 15, \"35\": 1}, \"58\": {\"58\": 12}, \"47\": {\"47\": 12}, \"116\": {\"116\": 32}, \"18\": {\"18\": 122, \"113\": 1, \"109\": 1}, \"36\": {\"36\": 119, \"70\": 2, \"71\": 1}, \"108\": {\"108\": 110, \"36\": 1, \"24\": 1}, \"15\": {\"15\": 103, \"87\": 1}, \"8\": {\"8\": 114}, \"35\": {\"35\": 12}}, \"Wisig_2\": {\"3\": {\"3\": 127, \"26\": 2, \"61\": 1, \"39\": 1, \"0\": 1}, \"127\": {\"127\": 119, \"21\": 1}, \"58\": {\"58\": 20}, \"114\": {\"114\": 110, \"41\": 1, \"69\": 1}, \"111\": {\"111\": 142, \"15\": 1, \"40\": 1}, \"105\": {\"105\": 131, \"24\": 1}, \"118\": {\"21\": 1, \"118\": 65, \"24\": 1, \"40\": 1}, \"23\": {\"23\": 39, \"60\": 1, \"87\": 1, \"122\": 2, \"43\": 1}, \"21\": {\"21\": 43, \"5\": 1, \"85\": 1, \"24\": 1, \"78\": 1, \"71\": 1}, \"20\": {\"20\": 15, \"21\": 1}, \"75\": {\"75\": 15, \"115\": 1}, \"86\": {\"86\": 32}, \"60\": {\"60\": 26, \"88\": 1, \"19\": 1}, \"69\": {\"69\": 133, \"26\": 1, \"43\": 1, \"70\": 2, \"39\": 1, \"62\": 1, \"122\": 1}, \"99\": {\"99\": 31, \"68\": 1}, \"14\": {\"14\": 37, \"45\": 1, \"111\": 2, \"72\": 2, \"107\": 2, \"78\": 1, \"71\": 1, \"40\": 1, \"21\": 1}, \"25\": {\"25\": 15, \"18\": 1}, \"52\": {\"52\": 19, \"49\": 1}, \"47\": {\"47\": 10, \"29\": 1, \"78\": 1}, \"48\": {\"48\": 19, \"81\": 1}, \"27\": {\"27\": 58, \"33\": 1, \"87\": 1, \"24\": 1, \"84\": 2, \"114\": 1, \"98\": 1, \"21\": 1, \"36\": 1, \"62\": 1}, \"78\": {\"78\": 46, \"87\": 1, \"70\": 1}, \"8\": {\"8\": 119, \"19\": 1, \"108\": 1, \"30\": 1}, \"90\": {\"90\": 153, \"41\": 1, \"116\": 1, \"19\": 1, \"61\": 2, \"44\": 1, \"33\": 1}, \"103\": {\"103\": 16}, \"120\": {\"120\": 20}, \"96\": {\"96\": 19, \"93\": 1}, \"30\": {\"30\": 100, \"69\": 1, \"59\": 1, \"0\": 1, \"27\": 1}, \"33\": {\"33\": 146}, \"35\": {\"35\": 12}, \"108\": {\"108\": 116}, \"112\": {\"112\": 15, \"5\": 1}, \"40\": {\"40\": 134, \"21\": 1, \"24\": 1, \"94\": 1, \"70\": 1, \"26\": 1, \"111\": 1}, \"102\": {\"102\": 113, \"69\": 1, \"24\": 2}, \"56\": {\"56\": 12}, \"93\": {\"93\": 134, \"90\": 1, \"39\": 1}, \"68\": {\"68\": 15, \"107\": 1}, \"70\": {\"70\": 120, \"111\": 1, \"15\": 1, \"78\": 1, \"26\": 1}, \"7\": {\"7\": 123, \"118\": 1}, \"87\": {\"70\": 2, \"87\": 103, \"95\": 1, \"43\": 1, \"26\": 1, \"107\": 1, \"69\": 1, \"40\": 1, \"16\": 1}, \"54\": {\"68\": 1, \"54\": 19}, \"71\": {\"71\": 93, \"3\": 1, \"127\": 1, \"40\": 1, \"36\": 1, \"39\": 1, \"21\": 1, \"109\": 1}, \"80\": {\"80\": 16}, \"18\": {\"18\": 121, \"26\": 1}, \"101\": {\"101\": 121, \"111\": 1}, \"92\": {\"92\": 27, \"71\": 1}, \"32\": {\"32\": 35, \"127\": 1}, \"128\": {\"51\": 1, \"128\": 23}, \"6\": {\"6\": 32}, \"51\": {\"51\": 19, \"9\": 1}, \"85\": {\"85\": 29, \"82\": 1, \"45\": 2}, \"46\": {\"46\": 16}, \"22\": {\"22\": 20}, \"1\": {\"1\": 117, \"78\": 1, \"26\": 1, \"16\": 1, \"87\": 1, \"69\": 1}, \"37\": {\"37\": 16}, \"44\": {\"44\": 97, \"109\": 1, \"0\": 1, \"40\": 1}, \"24\": {\"24\": 105, \"62\": 1, \"39\": 1, \"70\": 1, \"21\": 1, \"109\": 2, \"122\": 1}, \"9\": {\"9\": 32}, \"116\": {\"116\": 27, \"109\": 1}, \"64\": {\"64\": 16}, \"129\": {\"129\": 30, \"5\": 2}, \"42\": {\"47\": 2, \"42\": 23, \"69\": 1, \"41\": 1, \"107\": 1}, \"117\": {\"117\": 119, \"26\": 1}, \"88\": {\"88\": 119, \"109\": 1, \"111\": 2, \"70\": 2}, \"31\": {\"31\": 20}, \"113\": {\"113\": 71, \"44\": 1}, \"38\": {\"38\": 16}, \"83\": {\"83\": 37, \"31\": 1, \"41\": 1, \"27\": 1}, \"49\": {\"49\": 22, \"71\": 1, \"128\": 1}, \"97\": {\"97\": 18, \"15\": 1, \"31\": 1}, \"76\": {\"76\": 16}, \"29\": {\"29\": 32}, \"61\": {\"61\": 19, \"23\": 1}, \"125\": {\"125\": 147, \"121\": 1}, \"126\": {\"126\": 118, \"118\": 1, \"26\": 1}, \"55\": {\"55\": 16}, \"0\": {\"0\": 101, \"27\": 1, \"127\": 2, \"8\": 1, \"118\": 1, \"23\": 1, \"40\": 1}, \"15\": {\"15\": 113, \"24\": 1, \"40\": 1, \"0\": 1, \"106\": 4}, \"26\": {\"26\": 134, \"24\": 1, \"40\": 1, \"0\": 1, \"109\": 1}, \"63\": {\"63\": 20}, \"57\": {\"57\": 18, \"120\": 2}, \"39\": {\"39\": 104, \"27\": 1, \"109\": 6, \"84\": 1}, \"62\": {\"62\": 135, \"24\": 2, \"5\": 1, \"40\": 1, \"111\": 1}, \"82\": {\"82\": 33, \"55\": 1, \"87\": 1, \"26\": 1}, \"11\": {\"11\": 78, \"118\": 1, \"69\": 1}, \"4\": {\"4\": 87, \"53\": 1}, \"41\": {\"41\": 20}, \"72\": {\"72\": 27, \"14\": 1}, \"16\": {\"16\": 122, \"24\": 1, \"39\": 1}, \"81\": {\"81\": 23, \"92\": 1}, \"67\": {\"67\": 12, \"22\": 1, \"102\": 2, \"55\": 1}, \"123\": {\"123\": 16}, \"66\": {\"66\": 20}, \"36\": {\"36\": 116, \"14\": 1, \"70\": 1, \"113\": 1, \"111\": 1, \"94\": 1, \"112\": 1, \"26\": 1, \"21\": 1, \"81\": 1, \"27\": 2, \"69\": 1}, \"115\": {\"115\": 11, \"21\": 1}, \"77\": {\"77\": 16}, \"119\": {\"119\": 20}, \"65\": {\"65\": 19, \"129\": 1}, \"34\": {\"34\": 32}, \"107\": {\"107\": 61, \"71\": 1, \"70\": 1, \"61\": 1}, \"13\": {\"13\": 16}, \"110\": {\"25\": 1, \"110\": 33, \"3\": 1, \"122\": 2, \"15\": 1, \"16\": 2}, \"106\": {\"106\": 114, \"88\": 1, \"98\": 1, \"54\": 1, \"39\": 1}, \"89\": {\"89\": 36}, \"94\": {\"27\": 3, \"94\": 50, \"40\": 1, \"14\": 1, \"21\": 2, \"16\": 1, \"68\": 1, \"71\": 1, \"126\": 1, \"88\": 1, \"36\": 2}, \"98\": {\"98\": 109, \"121\": 1, \"43\": 1, \"21\": 1}, \"91\": {\"91\": 25, \"77\": 1, \"41\": 1, \"17\": 1}, \"84\": {\"84\": 91, \"88\": 1}, \"73\": {\"104\": 1, \"73\": 27}, \"104\": {\"104\": 17, \"20\": 1, \"41\": 1, \"122\": 1}, \"59\": {\"59\": 15, \"68\": 1}, \"74\": {\"74\": 16}, \"28\": {\"28\": 19, \"68\": 1}, \"95\": {\"95\": 35, \"40\": 1}, \"2\": {\"2\": 31, \"115\": 1}, \"5\": {\"5\": 109, \"10\": 1, \"88\": 1, \"69\": 1}, \"50\": {\"50\": 15, \"69\": 1}, \"109\": {\"109\": 88, \"70\": 3, \"27\": 1, \"23\": 1, \"88\": 1, \"24\": 1, \"39\": 4, \"71\": 1}, \"10\": {\"10\": 57, \"100\": 1, \"26\": 1, \"105\": 1}, \"45\": {\"45\": 13, \"124\": 1, \"87\": 1, \"21\": 1}, \"121\": {\"121\": 36}, \"124\": {\"124\": 110}, \"53\": {\"55\": 1, \"53\": 14, \"67\": 1}, \"79\": {\"79\": 16}, \"43\": {\"43\": 108, \"26\": 1, \"87\": 1, \"70\": 1, \"122\": 1, \"3\": 1, \"24\": 1}, \"122\": {\"122\": 134, \"118\": 1, \"109\": 1, \"88\": 1, \"114\": 1}, \"100\": {\"100\": 15, \"83\": 1}, \"19\": {\"19\": 28}, \"12\": {\"12\": 85, \"70\": 1, \"26\": 1, \"69\": 1}, \"17\": {\"17\": 14, \"68\": 1, \"24\": 1}}, \"Wisig_3\": {\"38\": {\"38\": 16}, \"88\": {\"88\": 110, \"70\": 1, \"5\": 1}, \"104\": {\"104\": 15, \"57\": 1}, \"11\": {\"11\": 138, \"16\": 1, \"70\": 1}, \"103\": {\"103\": 14, \"55\": 1, \"92\": 1}, \"124\": {\"124\": 115, \"90\": 1}, \"3\": {\"3\": 112, \"19\": 1, \"73\": 1, \"27\": 1, \"11\": 1}, \"74\": {\"74\": 14, \"25\": 1, \"57\": 1}, \"126\": {\"126\": 119, \"40\": 1, \"39\": 1, \"111\": 1}, \"123\": {\"123\": 16}, \"51\": {\"51\": 14, \"101\": 1, \"72\": 1}, \"14\": {\"14\": 80}, \"16\": {\"16\": 114, \"110\": 1, \"26\": 1}, \"22\": {\"22\": 16}, \"109\": {\"109\": 122}, \"27\": {\"27\": 91, \"36\": 2, \"24\": 2, \"111\": 1}, \"75\": {\"75\": 16}, \"66\": {\"66\": 16}, \"48\": {\"48\": 12, \"86\": 2, \"116\": 2}, \"6\": {\"6\": 31, \"91\": 1}, \"10\": {\"10\": 110, \"16\": 1, \"70\": 1}, \"99\": {\"99\": 35, \"54\": 1}, \"50\": {\"50\": 16}, \"54\": {\"54\": 16}, \"55\": {\"55\": 16}, \"53\": {\"53\": 20}, \"72\": {\"72\": 28}, \"64\": {\"64\": 20}, \"115\": {\"23\": 1, \"115\": 15}, \"23\": {\"23\": 30, \"110\": 1, \"122\": 1}, \"32\": {\"32\": 28, \"57\": 2, \"128\": 1, \"19\": 1}, \"15\": {\"15\": 101, \"70\": 1, \"84\": 1, \"5\": 1}, \"43\": {\"43\": 52, \"21\": 2, \"113\": 1, \"26\": 1}, \"114\": {\"114\": 121, \"128\": 1, \"40\": 1, \"98\": 1}, \"121\": {\"121\": 32}, \"79\": {\"79\": 12}, \"81\": {\"81\": 32}, \"8\": {\"8\": 127, \"15\": 1}, \"13\": {\"13\": 12, \"115\": 1, \"2\": 1, \"116\": 1, \"23\": 1}, \"90\": {\"90\": 156}, \"41\": {\"13\": 1, \"41\": 14, \"66\": 1}, \"107\": {\"107\": 135, \"34\": 1}, \"57\": {\"57\": 18, \"104\": 1, \"66\": 1}, \"33\": {\"33\": 119, \"92\": 1}, \"35\": {\"35\": 12}, \"29\": {\"29\": 32}, \"70\": {\"70\": 68, \"26\": 1, \"73\": 1, \"84\": 1, \"88\": 1}, \"42\": {\"69\": 1, \"42\": 26, \"84\": 1}, \"93\": {\"93\": 126}, \"86\": {\"86\": 28}, \"28\": {\"28\": 16}, \"1\": {\"1\": 105, \"26\": 1, \"101\": 1, \"111\": 1}, \"125\": {\"125\": 122, \"30\": 1, \"111\": 1}, \"69\": {\"69\": 81, \"21\": 1, \"84\": 1, \"70\": 1}, \"97\": {\"97\": 18, \"106\": 1, \"69\": 1}, \"117\": {\"117\": 111, \"125\": 1}, \"68\": {\"68\": 16}, \"30\": {\"30\": 81, \"88\": 1, \"21\": 1, \"70\": 1}, \"111\": {\"111\": 132}, \"47\": {\"47\": 12}, \"102\": {\"102\": 124}, \"65\": {\"65\": 12}, \"113\": {\"113\": 117, \"26\": 1, \"69\": 1, \"126\": 1}, \"36\": {\"36\": 111, \"70\": 1, \"27\": 2}, \"119\": {\"119\": 16}, \"46\": {\"46\": 16}, \"49\": {\"49\": 21, \"105\": 1, \"112\": 1, \"68\": 1}, \"0\": {\"0\": 115, \"113\": 1}, \"58\": {\"58\": 15, \"13\": 1}, \"63\": {\"63\": 16}, \"94\": {\"94\": 84}, \"17\": {\"17\": 10, \"94\": 1, \"39\": 1, \"5\": 1, \"86\": 3}, \"9\": {\"9\": 31, \"85\": 1}, \"87\": {\"87\": 120}, \"59\": {\"59\": 11, \"51\": 1}, \"105\": {\"105\": 120}, \"80\": {\"80\": 15, \"103\": 1}, \"120\": {\"120\": 17, \"13\": 1, \"57\": 1, \"103\": 1}, \"18\": {\"18\": 129, \"128\": 1, \"84\": 1, \"90\": 1}, \"78\": {\"78\": 12, \"21\": 2, \"10\": 1, \"111\": 1}, \"25\": {\"25\": 16}, \"19\": {\"19\": 31, \"77\": 1}, \"122\": {\"122\": 56, \"17\": 1, \"60\": 1, \"18\": 1, \"16\": 1}, \"39\": {\"39\": 107, \"126\": 1}, \"76\": {\"76\": 16}, \"89\": {\"89\": 28}, \"129\": {\"129\": 32}, \"26\": {\"26\": 99, \"70\": 1}, \"85\": {\"85\": 36}, \"71\": {\"71\": 66, \"5\": 1, \"18\": 1}, \"77\": {\"77\": 16}, \"128\": {\"128\": 31, \"19\": 1}, \"2\": {\"2\": 27, \"117\": 1}, \"56\": {\"56\": 12}, \"24\": {\"24\": 48}, \"101\": {\"26\": 2, \"101\": 48, \"9\": 1, \"127\": 1}, \"52\": {\"52\": 16}, \"84\": {\"84\": 107, \"70\": 1}, \"7\": {\"7\": 109, \"39\": 1, \"5\": 1, \"69\": 1}, \"82\": {\"82\": 27, \"100\": 1}, \"60\": {\"60\": 28}, \"45\": {\"40\": 1, \"45\": 12, \"18\": 1, \"115\": 1, \"84\": 1}, \"40\": {\"40\": 123, \"105\": 1}, \"20\": {\"20\": 16}, \"4\": {\"4\": 96}, \"116\": {\"116\": 28}, \"61\": {\"61\": 16}, \"5\": {\"5\": 110, \"70\": 1, \"88\": 1}, \"106\": {\"106\": 99, \"73\": 1}, \"12\": {\"12\": 104}, \"62\": {\"62\": 118, \"84\": 2}, \"34\": {\"34\": 32}, \"91\": {\"91\": 24}, \"112\": {\"112\": 15, \"101\": 1}, \"92\": {\"92\": 32}, \"95\": {\"95\": 32}, \"96\": {\"96\": 20}, \"127\": {\"127\": 104, \"26\": 2, \"40\": 1, \"111\": 1}, \"67\": {\"67\": 15, \"69\": 1}, \"83\": {\"83\": 24}, \"21\": {\"78\": 3, \"21\": 40, \"106\": 1, \"26\": 1, \"40\": 1, \"127\": 1, \"101\": 1}, \"98\": {\"98\": 123, \"44\": 1}, \"108\": {\"108\": 130, \"8\": 2}, \"31\": {\"31\": 19, \"91\": 1}, \"118\": {\"118\": 100}, \"110\": {\"110\": 92}, \"73\": {\"73\": 40}, \"44\": {\"44\": 69, \"90\": 2, \"62\": 1}, \"37\": {\"37\": 15, \"45\": 1}, \"100\": {\"100\": 16}}, \"ORACLE.run126\": {\"0\": {\"0\": 33, \"2\": 20, \"12\": 10, \"15\": 17, \"14\": 29, \"5\": 12, \"10\": 32, \"8\": 24, \"1\": 15, \"9\": 8, \"7\": 15, \"6\": 15, \"13\": 3, \"3\": 7}, \"4\": {\"4\": 97, \"7\": 23, \"8\": 17, \"9\": 13, \"13\": 27, \"3\": 42, \"12\": 15, \"2\": 5, \"10\": 1}, \"14\": {\"6\": 27, \"14\": 43, \"5\": 17, \"15\": 21, \"10\": 34, \"1\": 30, \"8\": 6, \"0\": 35, \"3\": 2, \"7\": 3, \"11\": 3, \"2\": 13, \"12\": 2, \"13\": 1, \"9\": 3}, \"12\": {\"13\": 51, \"15\": 8, \"12\": 39, \"0\": 8, \"7\": 19, \"8\": 23, \"3\": 19, \"10\": 7, \"2\": 21, \"9\": 24, \"5\": 3, \"11\": 2, \"4\": 8, \"14\": 8}, \"8\": {\"9\": 26, \"3\": 25, \"12\": 19, \"5\": 1, \"0\": 32, \"13\": 15, \"8\": 37, \"10\": 11, \"7\": 26, \"2\": 19, \"11\": 1, \"4\": 9, \"15\": 6, \"14\": 11, \"1\": 1, \"6\": 1}, \"7\": {\"9\": 24, \"14\": 9, \"12\": 28, \"8\": 26, \"6\": 2, \"3\": 27, \"2\": 26, \"0\": 11, \"7\": 42, \"13\": 16, \"4\": 13, \"5\": 3, \"15\": 4, \"10\": 8, \"1\": 1}, \"13\": {\"13\": 75, \"10\": 1, \"9\": 36, \"12\": 34, \"7\": 15, \"8\": 17, \"3\": 29, \"2\": 13, \"4\": 18, \"5\": 1, \"15\": 1}, \"5\": {\"6\": 38, \"2\": 10, \"15\": 35, \"11\": 32, \"10\": 32, \"5\": 34, \"12\": 3, \"1\": 25, \"14\": 16, \"9\": 1, \"0\": 9, \"8\": 1, \"13\": 1, \"7\": 3}, \"15\": {\"11\": 29, \"14\": 25, \"15\": 33, \"1\": 16, \"6\": 39, \"10\": 22, \"0\": 21, \"5\": 29, \"8\": 6, \"2\": 10, \"12\": 6, \"13\": 2, \"7\": 2}, \"10\": {\"2\": 8, \"12\": 6, \"14\": 46, \"1\": 37, \"0\": 27, \"11\": 5, \"9\": 7, \"5\": 22, \"15\": 27, \"6\": 18, \"10\": 26, \"13\": 2, \"7\": 4, \"8\": 4, \"3\": 1}, \"3\": {\"10\": 4, \"13\": 25, \"8\": 31, \"0\": 9, \"2\": 21, \"9\": 35, \"3\": 41, \"4\": 20, \"7\": 32, \"12\": 14, \"14\": 3, \"1\": 3, \"15\": 1, \"6\": 1}, \"9\": {\"13\": 26, \"7\": 22, \"9\": 38, \"8\": 31, \"12\": 19, \"0\": 12, \"3\": 20, \"2\": 34, \"6\": 4, \"11\": 2, \"5\": 3, \"10\": 7, \"4\": 9, \"15\": 7, \"14\": 3, \"1\": 3}, \"6\": {\"14\": 19, \"6\": 42, \"15\": 47, \"11\": 27, \"1\": 27, \"10\": 14, \"5\": 36, \"12\": 3, \"0\": 18, \"8\": 3, \"2\": 3, \"9\": 1}, \"1\": {\"1\": 74, \"6\": 32, \"11\": 6, \"10\": 24, \"14\": 30, \"0\": 20, \"5\": 23, \"15\": 21, \"2\": 6, \"12\": 1, \"7\": 2, \"8\": 1}, \"11\": {\"11\": 156, \"10\": 2, \"15\": 16, \"5\": 45, \"1\": 7, \"6\": 11, \"13\": 1, \"12\": 1, \"9\": 1}, \"2\": {\"13\": 19, \"11\": 2, \"0\": 12, \"14\": 15, \"6\": 7, \"3\": 21, \"5\": 3, \"12\": 19, \"2\": 37, \"9\": 29, \"10\": 12, \"8\": 28, \"7\": 23, \"15\": 7, \"1\": 1, \"4\": 5}}, \"ORACLE.run144\": {\"1\": {\"1\": 85, \"2\": 58, \"0\": 7, \"8\": 5, \"15\": 18, \"3\": 16, \"7\": 5, \"10\": 14, \"9\": 4, \"12\": 9, \"5\": 10, \"4\": 5, \"14\": 4}, \"11\": {\"11\": 220, \"13\": 17, \"6\": 3}, \"3\": {\"12\": 101, \"1\": 20, \"3\": 99, \"8\": 2, \"0\": 12, \"15\": 1, \"2\": 4, \"4\": 1}, \"6\": {\"6\": 90, \"4\": 4, \"9\": 33, \"13\": 74, \"7\": 25, \"11\": 2, \"10\": 12}, \"7\": {\"7\": 63, \"9\": 47, \"4\": 22, \"14\": 9, \"13\": 5, \"10\": 44, \"6\": 30, \"5\": 8, \"2\": 8, \"1\": 4}, \"5\": {\"9\": 6, \"5\": 56, \"0\": 10, \"14\": 56, \"4\": 44, \"8\": 18, \"15\": 35, \"7\": 2, \"10\": 5, \"2\": 4, \"13\": 1, \"1\": 3}, \"2\": {\"2\": 87, \"7\": 11, \"10\": 32, \"1\": 76, \"9\": 9, \"4\": 6, \"15\": 5, \"14\": 7, \"12\": 1, \"8\": 1, \"5\": 1, \"0\": 3, \"3\": 1}, \"15\": {\"15\": 48, \"8\": 50, \"5\": 55, \"4\": 15, \"14\": 28, \"1\": 11, \"0\": 18, \"10\": 4, \"9\": 3, \"2\": 5, \"7\": 3}, \"10\": {\"2\": 32, \"14\": 13, \"10\": 75, \"6\": 11, \"7\": 46, \"1\": 12, \"4\": 17, \"9\": 25, \"13\": 3, \"15\": 2, \"5\": 4}, \"13\": {\"6\": 69, \"13\": 104, \"9\": 23, \"14\": 3, \"11\": 23, \"4\": 6, \"7\": 5, \"10\": 5, \"5\": 2}, \"8\": {\"15\": 52, \"8\": 64, \"5\": 22, \"0\": 77, \"12\": 1, \"2\": 6, \"14\": 8, \"4\": 5, \"3\": 1, \"1\": 4}, \"4\": {\"4\": 46, \"5\": 27, \"2\": 11, \"1\": 9, \"13\": 12, \"14\": 43, \"9\": 26, \"7\": 22, \"10\": 10, \"6\": 7, \"8\": 4, \"15\": 22, \"0\": 1}, \"9\": {\"13\": 33, \"6\": 39, \"7\": 41, \"1\": 6, \"4\": 25, \"9\": 39, \"14\": 14, \"10\": 32, \"5\": 4, \"2\": 4, \"15\": 1, \"11\": 2}, \"14\": {\"14\": 55, \"15\": 27, \"4\": 41, \"0\": 4, \"5\": 54, \"10\": 11, \"9\": 12, \"8\": 13, \"1\": 4, \"7\": 13, \"13\": 2, \"2\": 3, \"6\": 1}, \"0\": {\"15\": 35, \"0\": 98, \"8\": 69, \"1\": 11, \"3\": 6, \"10\": 4, \"5\": 7, \"4\": 2, \"14\": 5, \"2\": 3}, \"12\": {\"12\": 130, \"3\": 88, \"1\": 13, \"2\": 7, \"0\": 2}}, \"ORACLE.run150\": {\"15\": {\"5\": 33, \"9\": 22, \"15\": 47, \"12\": 10, \"6\": 38, \"11\": 29, \"4\": 17, \"3\": 20, \"7\": 14, \"13\": 9, \"1\": 1}, \"4\": {\"7\": 71, \"4\": 96, \"5\": 31, \"11\": 4, \"6\": 12, \"15\": 20, \"3\": 4, \"12\": 1, \"9\": 1}, \"6\": {\"9\": 30, \"12\": 21, \"6\": 45, \"3\": 22, \"5\": 30, \"15\": 40, \"11\": 21, \"4\": 17, \"7\": 8, \"13\": 4, \"1\": 2}, \"2\": {\"14\": 68, \"0\": 69, \"1\": 1, \"2\": 84, \"8\": 4, \"10\": 14}, \"5\": {\"15\": 22, \"4\": 47, \"7\": 31, \"6\": 27, \"9\": 24, \"1\": 2, \"3\": 17, \"5\": 41, \"11\": 15, \"12\": 7, \"13\": 6, \"8\": 1}, \"9\": {\"15\": 39, \"9\": 54, \"6\": 31, \"11\": 23, \"12\": 33, \"7\": 7, \"5\": 24, \"4\": 6, \"13\": 9, \"1\": 3, \"3\": 11}, \"8\": {\"12\": 9, \"6\": 1, \"13\": 33, \"1\": 29, \"8\": 87, \"10\": 37, \"3\": 10, \"0\": 22, \"2\": 6, \"9\": 2, \"14\": 2, \"11\": 2}, \"12\": {\"8\": 12, \"9\": 38, \"11\": 30, \"10\": 1, \"12\": 73, \"6\": 19, \"1\": 6, \"3\": 17, \"13\": 21, \"15\": 17, \"5\": 5, \"7\": 1}, \"10\": {\"10\": 70, \"2\": 23, \"14\": 20, \"0\": 41, \"8\": 53, \"1\": 25, \"13\": 7, \"12\": 1}, \"1\": {\"9\": 6, \"13\": 55, \"8\": 22, \"12\": 6, \"10\": 30, \"3\": 3, \"1\": 74, \"5\": 3, \"11\": 28, \"15\": 6, \"0\": 1, \"14\": 5, \"2\": 1}, \"0\": {\"0\": 71, \"8\": 13, \"14\": 45, \"2\": 48, \"10\": 55, \"1\": 7, \"13\": 1}, \"3\": {\"3\": 75, \"7\": 12, \"9\": 17, \"11\": 12, \"15\": 16, \"12\": 26, \"6\": 32, \"13\": 12, \"5\": 23, \"1\": 3, \"8\": 2, \"4\": 9, \"0\": 1}, \"13\": {\"12\": 13, \"15\": 8, \"11\": 34, \"1\": 43, \"13\": 67, \"5\": 5, \"8\": 18, \"9\": 13, \"4\": 1, \"3\": 22, \"6\": 7, \"10\": 7, \"0\": 2}, \"11\": {\"5\": 9, \"6\": 27, \"12\": 26, \"3\": 13, \"15\": 27, \"13\": 28, \"11\": 46, \"9\": 33, \"1\": 19, \"4\": 3, \"8\": 7, \"7\": 1, \"10\": 1}, \"7\": {\"7\": 92, \"5\": 30, \"4\": 73, \"15\": 11, \"6\": 14, \"3\": 11, \"9\": 7, \"11\": 1, \"12\": 1}, \"14\": {\"0\": 52, \"14\": 96, \"2\": 59, \"10\": 29, \"1\": 4}}, \"ORACLE.run138\": {\"15\": {\"15\": 103, \"5\": 39, \"9\": 16, \"6\": 23, \"8\": 26, \"1\": 25, \"12\": 6, \"2\": 2}, \"11\": {\"11\": 224, \"3\": 16}, \"10\": {\"10\": 87, \"0\": 63, \"3\": 23, \"13\": 34, \"14\": 14, \"11\": 3, \"2\": 1, \"4\": 13, \"7\": 2}, \"14\": {\"4\": 15, \"14\": 71, \"13\": 26, \"7\": 54, \"10\": 6, \"2\": 30, \"8\": 13, \"0\": 17, \"9\": 5, \"12\": 1, \"5\": 2}, \"6\": {\"6\": 119, \"1\": 91, \"15\": 24, \"5\": 5, \"8\": 1}, \"4\": {\"10\": 26, \"4\": 174, \"14\": 15, \"0\": 13, \"7\": 10, \"8\": 1, \"13\": 1}, \"13\": {\"13\": 88, \"2\": 25, \"10\": 40, \"0\": 43, \"7\": 14, \"14\": 19, \"3\": 1, \"5\": 1, \"9\": 6, \"8\": 3}, \"3\": {\"3\": 195, \"11\": 27, \"10\": 12, \"0\": 5, \"13\": 1}, \"7\": {\"4\": 17, \"7\": 80, \"8\": 19, \"14\": 37, \"0\": 14, \"9\": 17, \"12\": 11, \"5\": 9, \"13\": 12, \"2\": 21, \"10\": 1, \"15\": 2}, \"8\": {\"5\": 49, \"8\": 47, \"2\": 24, \"14\": 17, \"9\": 27, \"7\": 28, \"15\": 24, \"13\": 3, \"12\": 18, \"0\": 1, \"4\": 2}, \"1\": {\"6\": 103, \"1\": 114, \"15\": 21, \"5\": 1, \"12\": 1}, \"5\": {\"5\": 55, \"8\": 50, \"7\": 21, \"9\": 51, \"14\": 8, \"15\": 21, \"2\": 15, \"12\": 8, \"13\": 5, \"0\": 3, \"6\": 1, \"1\": 1, \"4\": 1}, \"0\": {\"10\": 54, \"0\": 60, \"13\": 27, \"14\": 23, \"4\": 13, \"8\": 3, \"3\": 20, \"9\": 2, \"7\": 23, \"2\": 14, \"5\": 1}, \"2\": {\"14\": 28, \"13\": 29, \"2\": 94, \"7\": 22, \"9\": 29, \"5\": 12, \"8\": 17, \"10\": 2, \"0\": 6, \"12\": 1}, \"12\": {\"12\": 169, \"7\": 15, \"15\": 4, \"8\": 27, \"5\": 16, \"14\": 5, \"4\": 4}, \"9\": {\"15\": 6, \"7\": 11, \"2\": 38, \"5\": 49, \"8\": 27, \"9\": 96, \"14\": 4, \"12\": 3, \"0\": 2, \"13\": 3, \"4\": 1}}, \"ORACLE.run120\": {\"10\": {\"10\": 60, \"13\": 15, \"6\": 29, \"4\": 29, \"1\": 7, \"7\": 17, \"12\": 21, \"5\": 5, \"14\": 16, \"8\": 6, \"15\": 10, \"9\": 6, \"3\": 1, \"2\": 18}, \"7\": {\"1\": 18, \"8\": 13, \"7\": 17, \"9\": 15, \"3\": 15, \"13\": 12, \"15\": 19, \"14\": 14, \"6\": 22, \"4\": 22, \"5\": 13, \"12\": 23, \"10\": 15, \"2\": 18, \"0\": 3, \"11\": 1}, \"4\": {\"2\": 21, \"10\": 34, \"9\": 14, \"7\": 24, \"6\": 22, \"13\": 17, \"12\": 22, \"15\": 19, \"4\": 16, \"3\": 6, \"1\": 13, \"5\": 11, \"14\": 13, \"8\": 8}, \"13\": {\"4\": 13, \"5\": 12, \"12\": 24, \"11\": 2, \"6\": 19, \"7\": 21, \"13\": 43, \"14\": 8, \"15\": 27, \"2\": 18, \"1\": 19, \"3\": 5, \"9\": 17, \"10\": 12}, \"1\": {\"4\": 12, \"2\": 14, \"5\": 23, \"1\": 29, \"9\": 23, \"10\": 4, \"7\": 20, \"3\": 18, \"8\": 6, \"14\": 12, \"6\": 11, \"15\": 27, \"12\": 18, \"13\": 14, \"0\": 7, \"11\": 2}, \"0\": {\"6\": 3, \"5\": 12, \"0\": 70, \"14\": 13, \"1\": 15, \"8\": 17, \"11\": 75, \"3\": 16, \"15\": 5, \"2\": 1, \"9\": 10, \"7\": 2, \"12\": 1}, \"12\": {\"12\": 23, \"1\": 23, \"2\": 24, \"9\": 15, \"10\": 14, \"5\": 17, \"3\": 10, \"4\": 18, \"13\": 14, \"6\": 23, \"15\": 28, \"7\": 10, \"8\": 9, \"14\": 8, \"0\": 2, \"11\": 2}, \"5\": {\"15\": 18, \"7\": 18, \"11\": 11, \"4\": 9, \"9\": 16, \"1\": 20, \"14\": 22, \"5\": 26, \"12\": 14, \"13\": 6, \"6\": 12, \"8\": 16, \"0\": 15, \"3\": 18, \"2\": 15, \"10\": 4}, \"6\": {\"14\": 26, \"1\": 14, \"4\": 29, \"9\": 15, \"10\": 20, \"15\": 12, \"6\": 25, \"8\": 12, \"7\": 21, \"12\": 16, \"5\": 11, \"2\": 11, \"13\": 14, \"3\": 14}, \"2\": {\"12\": 27, \"7\": 23, \"2\": 17, \"4\": 25, \"10\": 16, \"6\": 18, \"9\": 16, \"15\": 16, \"13\": 27, \"3\": 10, \"1\": 11, \"8\": 11, \"5\": 12, \"11\": 2, \"0\": 3, \"14\": 6}, \"8\": {\"8\": 33, \"9\": 13, \"1\": 16, \"3\": 31, \"5\": 34, \"15\": 7, \"7\": 11, \"6\": 16, \"2\": 5, \"14\": 29, \"12\": 7, \"0\": 13, \"4\": 7, \"11\": 15, \"10\": 2, \"13\": 1}, \"11\": {\"3\": 15, \"5\": 12, \"11\": 92, \"0\": 69, \"8\": 18, \"1\": 11, \"14\": 8, \"9\": 10, \"2\": 1, \"6\": 2, \"7\": 2}, \"9\": {\"5\": 24, \"9\": 24, \"11\": 9, \"14\": 12, \"15\": 19, \"3\": 20, \"13\": 13, \"1\": 16, \"8\": 16, \"12\": 23, \"6\": 14, \"0\": 12, \"4\": 6, \"2\": 17, \"7\": 11, \"10\": 4}, \"14\": {\"14\": 45, \"9\": 16, \"11\": 6, \"5\": 17, \"8\": 30, \"13\": 1, \"3\": 24, \"6\": 21, \"0\": 9, \"2\": 12, \"4\": 17, \"10\": 7, \"12\": 7, \"7\": 11, \"1\": 10, \"15\": 7}, \"15\": {\"15\": 32, \"3\": 15, \"5\": 16, \"10\": 4, \"2\": 24, \"12\": 24, \"7\": 14, \"1\": 25, \"4\": 17, \"13\": 21, \"9\": 20, \"14\": 2, \"8\": 8, \"6\": 11, \"0\": 5, \"11\": 2}, \"3\": {\"9\": 14, \"15\": 10, \"1\": 24, \"12\": 10, \"6\": 14, \"8\": 24, \"2\": 5, \"7\": 20, \"3\": 32, \"14\": 21, \"0\": 17, \"5\": 15, \"4\": 14, \"13\": 7, \"10\": 2, \"11\": 11}}, \"ORACLE.run114\": {\"14\": {\"5\": 18, \"14\": 36, \"6\": 33, \"2\": 35, \"7\": 14, \"3\": 27, \"13\": 34, \"0\": 26, \"8\": 6, \"10\": 5, \"4\": 5, \"12\": 1}, \"0\": {\"8\": 16, \"2\": 22, \"5\": 27, \"4\": 9, \"3\": 38, \"0\": 38, \"7\": 26, \"13\": 16, \"14\": 14, \"12\": 13, \"6\": 15, \"10\": 4, \"15\": 2}, \"4\": {\"1\": 14, \"4\": 52, \"10\": 45, \"5\": 28, \"2\": 28, \"14\": 11, \"8\": 9, \"7\": 13, \"13\": 6, \"9\": 15, \"12\": 16, \"6\": 1, \"0\": 2}, \"11\": {\"11\": 224, \"1\": 10, \"9\": 4, \"10\": 2}, \"13\": {\"0\": 13, \"7\": 17, \"15\": 25, \"13\": 43, \"6\": 50, \"5\": 9, \"3\": 15, \"10\": 4, \"2\": 23, \"14\": 30, \"4\": 7, \"12\": 2, \"1\": 1, \"8\": 1}, \"9\": {\"9\": 101, \"12\": 22, \"1\": 42, \"4\": 29, \"5\": 5, \"10\": 29, \"0\": 4, \"2\": 1, \"14\": 1, \"8\": 6}, \"3\": {\"2\": 17, \"14\": 22, \"3\": 53, \"0\": 35, \"12\": 6, \"8\": 12, \"6\": 24, \"7\": 25, \"13\": 31, \"5\": 14, \"15\": 1}, \"6\": {\"0\": 21, \"7\": 16, \"13\": 49, \"2\": 13, \"6\": 51, \"14\": 35, \"3\": 33, \"5\": 13, \"12\": 1, \"15\": 5, \"8\": 1, \"4\": 2}, \"1\": {\"10\": 56, \"1\": 92, \"9\": 55, \"2\": 4, \"4\": 27, \"0\": 2, \"12\": 2, \"8\": 1, \"5\": 1}, \"5\": {\"8\": 16, \"14\": 17, \"10\": 21, \"4\": 29, \"3\": 15, \"12\": 12, \"2\": 23, \"7\": 40, \"5\": 35, \"6\": 6, \"0\": 18, \"13\": 7, \"1\": 1}, \"12\": {\"12\": 100, \"10\": 5, \"8\": 72, \"0\": 11, \"3\": 5, \"9\": 13, \"4\": 8, \"5\": 11, \"7\": 3, \"6\": 2, \"13\": 1, \"14\": 3, \"2\": 3, \"1\": 3}, \"10\": {\"9\": 24, \"14\": 6, \"10\": 62, \"4\": 50, \"1\": 35, \"8\": 5, \"12\": 9, \"5\": 20, \"2\": 17, \"0\": 6, \"6\": 2, \"13\": 3, \"7\": 1}, \"8\": {\"7\": 9, \"8\": 83, \"12\": 76, \"10\": 3, \"5\": 19, \"3\": 9, \"2\": 3, \"0\": 19, \"4\": 7, \"13\": 3, \"9\": 4, \"14\": 4, \"6\": 1}, \"7\": {\"7\": 62, \"5\": 28, \"3\": 20, \"6\": 15, \"14\": 17, \"13\": 21, \"0\": 24, \"8\": 19, \"2\": 17, \"12\": 11, \"4\": 5, \"1\": 1}, \"15\": {\"15\": 237, \"13\": 3}, \"2\": {\"14\": 28, \"7\": 16, \"3\": 20, \"4\": 24, \"0\": 24, \"2\": 29, \"6\": 25, \"5\": 15, \"13\": 25, \"10\": 17, \"1\": 7, \"8\": 6, \"9\": 1, \"12\": 3}}, \"ORACLE.run132\": {\"11\": {\"11\": 108, \"3\": 22, \"9\": 31, \"4\": 10, \"13\": 38, \"12\": 23, \"10\": 6, \"2\": 2}, \"1\": {\"1\": 170, \"2\": 16, \"4\": 7, \"7\": 7, \"14\": 6, \"9\": 15, \"0\": 11, \"5\": 6, \"8\": 2}, \"2\": {\"1\": 19, \"4\": 49, \"7\": 14, \"2\": 54, \"14\": 28, \"5\": 8, \"3\": 16, \"13\": 6, \"9\": 17, \"8\": 15, \"0\": 12, \"12\": 1, \"11\": 1}, \"0\": {\"0\": 48, \"8\": 31, \"15\": 8, \"7\": 69, \"5\": 29, \"14\": 26, \"1\": 7, \"4\": 3, \"2\": 18, \"13\": 1}, \"3\": {\"2\": 12, \"3\": 104, \"13\": 54, \"8\": 11, \"4\": 31, \"9\": 5, \"12\": 2, \"11\": 14, \"7\": 4, \"15\": 2, \"14\": 1}, \"8\": {\"5\": 28, \"7\": 35, \"15\": 34, \"0\": 30, \"14\": 31, \"8\": 55, \"2\": 4, \"4\": 7, \"3\": 12, \"13\": 2, \"9\": 1, \"1\": 1}, \"12\": {\"12\": 87, \"11\": 32, \"10\": 53, \"13\": 8, \"1\": 6, \"9\": 38, \"6\": 5, \"2\": 3, \"3\": 6, \"4\": 2}, \"5\": {\"8\": 32, \"0\": 38, \"7\": 43, \"15\": 19, \"14\": 33, \"5\": 67, \"3\": 1, \"2\": 4, \"4\": 2, \"1\": 1}, \"15\": {\"15\": 189, \"7\": 3, \"8\": 19, \"0\": 10, \"5\": 15, \"13\": 1, \"14\": 1, \"3\": 2}, \"7\": {\"5\": 38, \"0\": 50, \"1\": 8, \"7\": 53, \"2\": 9, \"15\": 8, \"14\": 42, \"8\": 26, \"13\": 1, \"4\": 5}, \"4\": {\"4\": 50, \"2\": 59, \"3\": 25, \"12\": 2, \"14\": 24, \"1\": 9, \"9\": 7, \"8\": 11, \"13\": 30, \"11\": 11, \"0\": 9, \"7\": 3}, \"14\": {\"0\": 32, \"8\": 29, \"5\": 20, \"7\": 32, \"4\": 17, \"3\": 4, \"14\": 46, \"2\": 41, \"1\": 5, \"13\": 4, \"15\": 7, \"9\": 3}, \"10\": {\"12\": 66, \"9\": 19, \"10\": 116, \"6\": 24, \"11\": 13, \"1\": 2}, \"6\": {\"6\": 180, \"12\": 13, \"10\": 43, \"9\": 1, \"11\": 3}, \"13\": {\"11\": 21, \"4\": 30, \"13\": 68, \"2\": 14, \"3\": 73, \"8\": 9, \"9\": 14, \"14\": 4, \"0\": 2, \"12\": 3, \"10\": 1, \"1\": 1}, \"9\": {\"11\": 26, \"12\": 45, \"2\": 18, \"4\": 20, \"3\": 4, \"10\": 15, \"9\": 72, \"13\": 20, \"1\": 13, \"14\": 2, \"6\": 2, \"7\": 1, \"8\": 1, \"0\": 1}}, \"ORACLE.run18\": {\"9\": {\"9\": 230, \"2\": 3, \"3\": 7}, \"11\": {\"7\": 28, \"5\": 24, \"11\": 25, \"10\": 21, \"8\": 35, \"1\": 30, \"6\": 21, \"12\": 2, \"4\": 22, \"14\": 17, \"13\": 14, \"15\": 1}, \"8\": {\"14\": 12, \"11\": 42, \"1\": 28, \"10\": 8, \"8\": 63, \"4\": 27, \"13\": 8, \"6\": 27, \"5\": 6, \"7\": 18, \"15\": 1}, \"4\": {\"10\": 23, \"1\": 15, \"8\": 30, \"14\": 40, \"4\": 46, \"6\": 24, \"11\": 22, \"13\": 8, \"7\": 20, \"5\": 11, \"0\": 1}, \"13\": {\"13\": 50, \"4\": 7, \"11\": 18, \"10\": 42, \"6\": 23, \"7\": 27, \"5\": 37, \"1\": 22, \"15\": 3, \"8\": 4, \"12\": 5, \"14\": 1, \"2\": 1}, \"14\": {\"7\": 8, \"14\": 72, \"1\": 16, \"6\": 18, \"8\": 37, \"11\": 17, \"4\": 52, \"10\": 4, \"5\": 7, \"0\": 6, \"13\": 3}, \"2\": {\"3\": 46, \"15\": 57, \"12\": 47, \"2\": 80, \"5\": 3, \"7\": 1, \"9\": 1, \"10\": 4, \"13\": 1}, \"3\": {\"3\": 150, \"2\": 52, \"9\": 13, \"12\": 9, \"15\": 16}, \"1\": {\"4\": 18, \"12\": 4, \"10\": 30, \"11\": 30, \"5\": 28, \"6\": 30, \"8\": 15, \"7\": 28, \"1\": 27, \"15\": 3, \"13\": 21, \"14\": 6}, \"0\": {\"0\": 205, \"14\": 28, \"8\": 4, \"4\": 2, \"11\": 1}, \"5\": {\"13\": 39, \"11\": 20, \"1\": 29, \"5\": 35, \"12\": 4, \"10\": 40, \"15\": 6, \"4\": 12, \"7\": 26, \"6\": 25, \"14\": 1, \"8\": 3}, \"15\": {\"12\": 76, \"2\": 59, \"15\": 77, \"9\": 1, \"3\": 22, \"5\": 1, \"13\": 3, \"10\": 1}, \"10\": {\"12\": 4, \"1\": 15, \"5\": 33, \"10\": 38, \"14\": 6, \"7\": 41, \"11\": 19, \"6\": 23, \"13\": 37, \"8\": 9, \"4\": 14, \"15\": 1}, \"12\": {\"15\": 83, \"3\": 14, \"12\": 91, \"2\": 45, \"7\": 2, \"1\": 1, \"5\": 3, \"13\": 1}, \"6\": {\"13\": 20, \"6\": 38, \"4\": 21, \"11\": 33, \"7\": 33, \"8\": 14, \"1\": 31, \"10\": 17, \"12\": 1, \"14\": 9, \"5\": 23}, \"7\": {\"7\": 32, \"1\": 26, \"5\": 29, \"6\": 29, \"10\": 40, \"8\": 10, \"14\": 6, \"11\": 31, \"13\": 21, \"4\": 15, \"12\": 1}}}, \"per_domain_accuracy\": {\"Wisig_4\": {\"accuracy\": 0.9592335390946503, \"source?\": true}, \"Wisig_1\": {\"accuracy\": 0.9782838983050848, \"source?\": true}, \"Wisig_2\": {\"accuracy\": 0.9597280334728033, \"source?\": true}, \"Wisig_3\": {\"accuracy\": 0.9776200873362445, \"source?\": true}, \"ORACLE.run126\": {\"accuracy\": 0.22057291666666667, \"source?\": false}, \"ORACLE.run144\": {\"accuracy\": 0.35390625, \"source?\": false}, \"ORACLE.run150\": {\"accuracy\": 0.2911458333333333, \"source?\": false}, \"ORACLE.run138\": {\"accuracy\": 0.4625, \"source?\": false}, \"ORACLE.run120\": {\"accuracy\": 0.15208333333333332, \"source?\": false}, \"ORACLE.run114\": {\"accuracy\": 0.3380208333333333, \"source?\": false}, \"ORACLE.run132\": {\"accuracy\": 0.38203125, \"source?\": false}, \"ORACLE.run18\": {\"accuracy\": 0.32786458333333335, \"source?\": false}}}, \"history\": {\"epoch_indices\": [1, 2, 3, 4, 5, 6], \"train_label_loss\": [0.1962647166669925, 0.13369584238296042, 0.11308006432346734, 0.1032322733256974, 0.09653497517056753, 0.09057484676071305], \"source_val_label_loss\": [0.17740674316883087, 0.14567171037197113, 0.12279631942510605, 0.11764360964298248, 0.10939650982618332, 0.10772759467363358], \"target_val_label_loss\": [2.611379623413086, 2.5385162830352783, 2.581698417663574, 2.58547306060791, 2.562330722808838, 2.553577184677124], \"source_val_acc_label\": [0.9608302534318902, 0.9685520063357973, 0.9721158922914467, 0.9724458817317846, 0.9736008447729673, 0.9740958289334741], \"target_val_acc_label\": [0.3104166666666667, 0.316015625, 0.28489583333333335, 0.2587890625, 0.24319661458333333, 0.24293619791666668]}, \"dataset_metrics\": {\"source\": {\"train\": {\"n_unique_x\": 189065, \"n_unique_y\": 130, \"n_batch/episode\": 6851}, \"val\": {\"n_unique_x\": 40070, \"n_unique_y\": 130, \"n_batch/episode\": 947}, \"test\": {\"n_unique_x\": 40812, \"n_unique_y\": 130, \"n_batch/episode\": 969}}, \"target\": {\"train\": {\"n_unique_x\": 179200, \"n_unique_y\": 16, \"n_batch/episode\": 6720}, \"val\": {\"n_unique_x\": 38400, \"n_unique_y\": 16, \"n_batch/episode\": 960}, \"test\": {\"n_unique_x\": 38400, \"n_unique_y\": 16, \"n_batch/episode\": 960}}}}'"
      ]
     },
     "execution_count": 29,
     "metadata": {},
     "output_type": "execute_result"
    }
   ],
   "source": [
    "json.dumps(experiment)"
   ]
  }
 ],
 "metadata": {
  "celltoolbar": "Tags",
  "kernelspec": {
   "display_name": "Python 3 (ipykernel)",
   "language": "python",
   "name": "python3"
  },
  "language_info": {
   "codemirror_mode": {
    "name": "ipython",
    "version": 3
   },
   "file_extension": ".py",
   "mimetype": "text/x-python",
   "name": "python",
   "nbconvert_exporter": "python",
   "pygments_lexer": "ipython3",
   "version": "3.8.12"
  },
  "papermill": {
   "default_parameters": {},
   "duration": 1488.114216,
   "end_time": "2022-03-23T03:30:33.046175",
   "environment_variables": {},
   "exception": null,
   "input_path": "/root/csc500-main/csc500-notebooks/templates/tl_ptn_template.ipynb",
   "output_path": "trial.ipynb",
   "parameters": {
    "parameters": {
     "BEST_MODEL_PATH": "./best_model.pth",
     "NUM_LOGS_PER_EPOCH": 10,
     "criteria_for_best": "target_accuracy",
     "dataset_seed": 7,
     "datasets": [
      {
       "domain_prefix": "Wisig_",
       "domains": [
        1,
        2,
        3,
        4
       ],
       "episode_transforms": [],
       "labels": [
        "1-10",
        "1-12",
        "1-14",
        "1-16",
        "1-18",
        "1-19",
        "1-8",
        "10-11",
        "10-17",
        "10-4",
        "10-7",
        "11-1",
        "11-10",
        "11-19",
        "11-20",
        "11-4",
        "11-7",
        "12-19",
        "12-20",
        "12-7",
        "13-14",
        "13-18",
        "13-19",
        "13-20",
        "13-3",
        "13-7",
        "14-10",
        "14-11",
        "14-12",
        "14-13",
        "14-14",
        "14-19",
        "14-20",
        "14-7",
        "14-8",
        "14-9",
        "15-1",
        "15-19",
        "15-6",
        "16-1",
        "16-16",
        "16-19",
        "16-20",
        "17-10",
        "17-11",
        "18-1",
        "18-10",
        "18-11",
        "18-12",
        "18-13",
        "18-14",
        "18-15",
        "18-16",
        "18-17",
        "18-19",
        "18-2",
        "18-20",
        "18-4",
        "18-5",
        "18-7",
        "18-8",
        "18-9",
        "19-1",
        "19-10",
        "19-11",
        "19-12",
        "19-13",
        "19-14",
        "19-15",
        "19-19",
        "19-2",
        "19-20",
        "19-3",
        "19-4",
        "19-6",
        "19-7",
        "19-8",
        "19-9",
        "2-1",
        "2-13",
        "2-15",
        "2-3",
        "2-4",
        "2-5",
        "2-6",
        "2-7",
        "2-8",
        "20-1",
        "20-12",
        "20-14",
        "20-15",
        "20-16",
        "20-18",
        "20-19",
        "20-20",
        "20-3",
        "20-4",
        "20-5",
        "20-7",
        "20-8",
        "3-1",
        "3-13",
        "3-18",
        "3-2",
        "3-8",
        "4-1",
        "4-10",
        "4-11",
        "5-1",
        "5-5",
        "6-1",
        "6-15",
        "6-6",
        "7-10",
        "7-11",
        "7-12",
        "7-13",
        "7-14",
        "7-7",
        "7-8",
        "7-9",
        "8-1",
        "8-13",
        "8-14",
        "8-18",
        "8-20",
        "8-3",
        "8-8",
        "9-1",
        "9-7"
       ],
       "num_examples_per_domain_per_label": -1,
       "pickle_path": "/root/csc500-main/datasets/wisig.node3-19.stratified_ds.2022A.pkl",
       "source_or_target_dataset": "source",
       "x_transforms": []
      },
      {
       "domain_prefix": "ORACLE.run1",
       "domains": [
        32,
        38,
        8,
        44,
        14,
        50,
        20,
        26
       ],
       "episode_transforms": [],
       "labels": [
        "3123D52",
        "3123D65",
        "3123D79",
        "3123D80",
        "3123D54",
        "3123D70",
        "3123D7B",
        "3123D89",
        "3123D58",
        "3123D76",
        "3123D7D",
        "3123EFE",
        "3123D64",
        "3123D78",
        "3123D7E",
        "3124E4A"
       ],
       "num_examples_per_domain_per_label": 2000,
       "pickle_path": "/root/csc500-main/datasets/oracle.Run1_10kExamples_stratified_ds.2022A.pkl",
       "source_or_target_dataset": "target",
       "x_transforms": []
      }
     ],
     "device": "cuda",
     "experiment_name": "tl_1v2:wisig-oracle.run1.limited",
     "lr": 0.0001,
     "n_epoch": 50,
     "n_query": 2,
     "n_shot": 3,
     "n_way": 16,
     "patience": 3,
     "seed": 7,
     "test_k_factor": 2,
     "torch_default_dtype": "torch.float32",
     "train_k_factor": 3,
     "val_k_factor": 2,
     "x_net": [
      {
       "class": "nnReshape",
       "kargs": {
        "shape": [
         -1,
         1,
         2,
         256
        ]
       }
      },
      {
       "class": "Conv2d",
       "kargs": {
        "bias": false,
        "in_channels": 1,
        "kernel_size": [
         1,
         7
        ],
        "out_channels": 256,
        "padding": [
         0,
         3
        ]
       }
      },
      {
       "class": "ReLU",
       "kargs": {
        "inplace": true
       }
      },
      {
       "class": "BatchNorm2d",
       "kargs": {
        "num_features": 256
       }
      },
      {
       "class": "Conv2d",
       "kargs": {
        "bias": true,
        "in_channels": 256,
        "kernel_size": [
         2,
         7
        ],
        "out_channels": 80,
        "padding": [
         0,
         3
        ]
       }
      },
      {
       "class": "ReLU",
       "kargs": {
        "inplace": true
       }
      },
      {
       "class": "BatchNorm2d",
       "kargs": {
        "num_features": 80
       }
      },
      {
       "class": "Flatten",
       "kargs": {}
      },
      {
       "class": "Linear",
       "kargs": {
        "in_features": 20480,
        "out_features": 256
       }
      },
      {
       "class": "ReLU",
       "kargs": {
        "inplace": true
       }
      },
      {
       "class": "BatchNorm1d",
       "kargs": {
        "num_features": 256
       }
      },
      {
       "class": "Linear",
       "kargs": {
        "in_features": 256,
        "out_features": 256
       }
      }
     ]
    }
   },
   "start_time": "2022-03-23T03:05:44.931959",
   "version": "2.3.4"
  }
 },
 "nbformat": 4,
 "nbformat_minor": 5
}