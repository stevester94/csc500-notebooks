{
 "cells": [
  {
   "cell_type": "markdown",
   "id": "9fea5f46",
   "metadata": {
    "papermill": {
     "duration": 0.030952,
     "end_time": "2022-03-23T05:50:15.094158",
     "exception": false,
     "start_time": "2022-03-23T05:50:15.063206",
     "status": "completed"
    },
    "tags": []
   },
   "source": [
    "# Transfer Learning Template"
   ]
  },
  {
   "cell_type": "code",
   "execution_count": 1,
   "id": "0902182a",
   "metadata": {
    "execution": {
     "iopub.execute_input": "2022-03-23T05:50:15.158597Z",
     "iopub.status.busy": "2022-03-23T05:50:15.157686Z",
     "iopub.status.idle": "2022-03-23T05:50:17.039404Z",
     "shell.execute_reply": "2022-03-23T05:50:17.038799Z"
    },
    "papermill": {
     "duration": 1.922032,
     "end_time": "2022-03-23T05:50:17.039563",
     "exception": false,
     "start_time": "2022-03-23T05:50:15.117531",
     "status": "completed"
    },
    "tags": []
   },
   "outputs": [],
   "source": [
    "%load_ext autoreload\n",
    "%autoreload 2\n",
    "%matplotlib inline\n",
    "\n",
    "    \n",
    "import os, json, sys, time, random\n",
    "import numpy as np\n",
    "import torch\n",
    "from torch.optim import Adam\n",
    "from  easydict import EasyDict\n",
    "import matplotlib.pyplot as plt\n",
    "\n",
    "from steves_models.steves_ptn import Steves_Prototypical_Network\n",
    "\n",
    "from steves_utils.lazy_iterable_wrapper import Lazy_Iterable_Wrapper\n",
    "from steves_utils.iterable_aggregator import Iterable_Aggregator\n",
    "from steves_utils.ptn_train_eval_test_jig import  PTN_Train_Eval_Test_Jig\n",
    "from steves_utils.torch_sequential_builder import build_sequential\n",
    "from steves_utils.torch_utils import get_dataset_metrics, ptn_confusion_by_domain_over_dataloader\n",
    "from steves_utils.utils_v2 import (per_domain_accuracy_from_confusion, get_datasets_base_path)\n",
    "from steves_utils.PTN.utils import independent_accuracy_assesment\n",
    "\n",
    "from torch.utils.data import DataLoader\n",
    "\n",
    "from steves_utils.stratified_dataset.episodic_accessor import Episodic_Accessor_Factory\n",
    "\n",
    "from steves_utils.ptn_do_report import (\n",
    "    get_loss_curve,\n",
    "    get_results_table,\n",
    "    get_parameters_table,\n",
    "    get_domain_accuracies,\n",
    ")\n",
    "\n",
    "from steves_utils.transforms import get_chained_transform"
   ]
  },
  {
   "cell_type": "markdown",
   "id": "41c840b4",
   "metadata": {
    "papermill": {
     "duration": 0.019556,
     "end_time": "2022-03-23T05:50:17.082478",
     "exception": false,
     "start_time": "2022-03-23T05:50:17.062922",
     "status": "completed"
    },
    "tags": []
   },
   "source": [
    "# Allowed Parameters\n",
    "These are allowed parameters, not defaults\n",
    "Each of these values need to be present in the injected parameters (the notebook will raise an exception if they are not present)\n",
    "\n",
    "Papermill uses the cell tag \"parameters\" to inject the real parameters below this cell.\n",
    "Enable tags to see what I mean"
   ]
  },
  {
   "cell_type": "code",
   "execution_count": 2,
   "id": "fd44eb83",
   "metadata": {
    "execution": {
     "iopub.execute_input": "2022-03-23T05:50:17.127119Z",
     "iopub.status.busy": "2022-03-23T05:50:17.126546Z",
     "iopub.status.idle": "2022-03-23T05:50:17.147773Z",
     "shell.execute_reply": "2022-03-23T05:50:17.147293Z"
    },
    "papermill": {
     "duration": 0.045907,
     "end_time": "2022-03-23T05:50:17.147887",
     "exception": false,
     "start_time": "2022-03-23T05:50:17.101980",
     "status": "completed"
    },
    "tags": []
   },
   "outputs": [],
   "source": [
    "required_parameters = {\n",
    "    \"experiment_name\",\n",
    "    \"lr\",\n",
    "    \"device\",\n",
    "    \"seed\",\n",
    "    \"dataset_seed\",\n",
    "    \"n_shot\",\n",
    "    \"n_query\",\n",
    "    \"n_way\",\n",
    "    \"train_k_factor\",\n",
    "    \"val_k_factor\",\n",
    "    \"test_k_factor\",\n",
    "    \"n_epoch\",\n",
    "    \"patience\",\n",
    "    \"criteria_for_best\",\n",
    "    \"x_net\",\n",
    "    \"datasets\",\n",
    "    \"torch_default_dtype\",\n",
    "    \"NUM_LOGS_PER_EPOCH\",\n",
    "    \"BEST_MODEL_PATH\",\n",
    "    \"x_shape\",\n",
    "}"
   ]
  },
  {
   "cell_type": "code",
   "execution_count": 3,
   "id": "fa3f0049",
   "metadata": {
    "execution": {
     "iopub.execute_input": "2022-03-23T05:50:17.204570Z",
     "iopub.status.busy": "2022-03-23T05:50:17.203943Z",
     "iopub.status.idle": "2022-03-23T05:50:17.223911Z",
     "shell.execute_reply": "2022-03-23T05:50:17.223299Z"
    },
    "papermill": {
     "duration": 0.053368,
     "end_time": "2022-03-23T05:50:17.224032",
     "exception": false,
     "start_time": "2022-03-23T05:50:17.170664",
     "status": "completed"
    },
    "tags": [
     "parameters"
    ]
   },
   "outputs": [],
   "source": [
    "from steves_utils.CORES.utils import (\n",
    "    ALL_NODES,\n",
    "    ALL_NODES_MINIMUM_1000_EXAMPLES,\n",
    "    ALL_DAYS\n",
    ")\n",
    "\n",
    "from steves_utils.ORACLE.utils_v2 import (\n",
    "    ALL_DISTANCES_FEET_NARROWED,\n",
    "    ALL_RUNS,\n",
    "    ALL_SERIAL_NUMBERS,\n",
    ")\n",
    "\n",
    "standalone_parameters = {}\n",
    "standalone_parameters[\"experiment_name\"] = \"STANDALONE PTN\"\n",
    "standalone_parameters[\"lr\"] = 0.001\n",
    "standalone_parameters[\"device\"] = \"cuda\"\n",
    "\n",
    "standalone_parameters[\"seed\"] = 1337\n",
    "standalone_parameters[\"dataset_seed\"] = 1337\n",
    "\n",
    "standalone_parameters[\"n_way\"] = 8\n",
    "standalone_parameters[\"n_shot\"] = 3\n",
    "standalone_parameters[\"n_query\"]  = 2\n",
    "standalone_parameters[\"train_k_factor\"] = 1\n",
    "standalone_parameters[\"val_k_factor\"] = 2\n",
    "standalone_parameters[\"test_k_factor\"] = 2\n",
    "\n",
    "\n",
    "standalone_parameters[\"n_epoch\"] = 50\n",
    "\n",
    "standalone_parameters[\"patience\"] = 10\n",
    "standalone_parameters[\"criteria_for_best\"] = \"source_loss\"\n",
    "\n",
    "standalone_parameters[\"datasets\"] = [\n",
    "    {\n",
    "        \"labels\": ALL_SERIAL_NUMBERS,\n",
    "        \"domains\": ALL_DISTANCES_FEET_NARROWED,\n",
    "        \"num_examples_per_domain_per_label\": 100,\n",
    "        \"pickle_path\": os.path.join(get_datasets_base_path(), \"oracle.Run1_framed_2000Examples_stratified_ds.2022A.pkl\"),\n",
    "        \"source_or_target_dataset\": \"source\",\n",
    "        \"x_transforms\": [\"unit_mag\", \"minus_two\"],\n",
    "        \"episode_transforms\": [],\n",
    "        \"domain_prefix\": \"ORACLE_\"\n",
    "    },\n",
    "    {\n",
    "        \"labels\": ALL_NODES,\n",
    "        \"domains\": ALL_DAYS,\n",
    "        \"num_examples_per_domain_per_label\": 100,\n",
    "        \"pickle_path\": os.path.join(get_datasets_base_path(), \"cores.stratified_ds.2022A.pkl\"),\n",
    "        \"source_or_target_dataset\": \"target\",\n",
    "        \"x_transforms\": [\"unit_power\", \"times_zero\"],\n",
    "        \"episode_transforms\": [],\n",
    "        \"domain_prefix\": \"CORES_\"\n",
    "    }   \n",
    "]\n",
    "\n",
    "standalone_parameters[\"torch_default_dtype\"] = \"torch.float32\" \n",
    "\n",
    "\n",
    "\n",
    "standalone_parameters[\"x_net\"] =     [\n",
    "    {\"class\": \"nnReshape\", \"kargs\": {\"shape\":[-1, 1, 2, 256]}},\n",
    "    {\"class\": \"Conv2d\", \"kargs\": { \"in_channels\":1, \"out_channels\":256, \"kernel_size\":(1,7), \"bias\":False, \"padding\":(0,3), },},\n",
    "    {\"class\": \"ReLU\", \"kargs\": {\"inplace\": True}},\n",
    "    {\"class\": \"BatchNorm2d\", \"kargs\": {\"num_features\":256}},\n",
    "\n",
    "    {\"class\": \"Conv2d\", \"kargs\": { \"in_channels\":256, \"out_channels\":80, \"kernel_size\":(2,7), \"bias\":True, \"padding\":(0,3), },},\n",
    "    {\"class\": \"ReLU\", \"kargs\": {\"inplace\": True}},\n",
    "    {\"class\": \"BatchNorm2d\", \"kargs\": {\"num_features\":80}},\n",
    "    {\"class\": \"Flatten\", \"kargs\": {}},\n",
    "\n",
    "    {\"class\": \"Linear\", \"kargs\": {\"in_features\": 80*256, \"out_features\": 256}}, # 80 units per IQ pair\n",
    "    {\"class\": \"ReLU\", \"kargs\": {\"inplace\": True}},\n",
    "    {\"class\": \"BatchNorm1d\", \"kargs\": {\"num_features\":256}},\n",
    "\n",
    "    {\"class\": \"Linear\", \"kargs\": {\"in_features\": 256, \"out_features\": 256}},\n",
    "]\n",
    "\n",
    "# Parameters relevant to results\n",
    "# These parameters will basically never need to change\n",
    "standalone_parameters[\"NUM_LOGS_PER_EPOCH\"] = 10\n",
    "standalone_parameters[\"BEST_MODEL_PATH\"] = \"./best_model.pth\"\n",
    "\n",
    "\n",
    "\n",
    "\n"
   ]
  },
  {
   "cell_type": "code",
   "execution_count": 4,
   "id": "a02b6003",
   "metadata": {
    "execution": {
     "iopub.execute_input": "2022-03-23T05:50:17.285796Z",
     "iopub.status.busy": "2022-03-23T05:50:17.285095Z",
     "iopub.status.idle": "2022-03-23T05:50:17.305219Z",
     "shell.execute_reply": "2022-03-23T05:50:17.304653Z"
    },
    "papermill": {
     "duration": 0.056909,
     "end_time": "2022-03-23T05:50:17.305330",
     "exception": false,
     "start_time": "2022-03-23T05:50:17.248421",
     "status": "completed"
    },
    "tags": [
     "injected-parameters"
    ]
   },
   "outputs": [],
   "source": [
    "# Parameters\n",
    "parameters = {\n",
    "    \"experiment_name\": \"tl_1v2:wisig-oracle.run1.limited\",\n",
    "    \"device\": \"cuda\",\n",
    "    \"lr\": 0.0001,\n",
    "    \"n_shot\": 3,\n",
    "    \"n_query\": 2,\n",
    "    \"train_k_factor\": 3,\n",
    "    \"val_k_factor\": 2,\n",
    "    \"test_k_factor\": 2,\n",
    "    \"torch_default_dtype\": \"torch.float32\",\n",
    "    \"n_epoch\": 50,\n",
    "    \"patience\": 3,\n",
    "    \"criteria_for_best\": \"target_accuracy\",\n",
    "    \"x_net\": [\n",
    "        {\"class\": \"nnReshape\", \"kargs\": {\"shape\": [-1, 1, 2, 256]}},\n",
    "        {\n",
    "            \"class\": \"Conv2d\",\n",
    "            \"kargs\": {\n",
    "                \"in_channels\": 1,\n",
    "                \"out_channels\": 256,\n",
    "                \"kernel_size\": [1, 7],\n",
    "                \"bias\": False,\n",
    "                \"padding\": [0, 3],\n",
    "            },\n",
    "        },\n",
    "        {\"class\": \"ReLU\", \"kargs\": {\"inplace\": True}},\n",
    "        {\"class\": \"BatchNorm2d\", \"kargs\": {\"num_features\": 256}},\n",
    "        {\n",
    "            \"class\": \"Conv2d\",\n",
    "            \"kargs\": {\n",
    "                \"in_channels\": 256,\n",
    "                \"out_channels\": 80,\n",
    "                \"kernel_size\": [2, 7],\n",
    "                \"bias\": True,\n",
    "                \"padding\": [0, 3],\n",
    "            },\n",
    "        },\n",
    "        {\"class\": \"ReLU\", \"kargs\": {\"inplace\": True}},\n",
    "        {\"class\": \"BatchNorm2d\", \"kargs\": {\"num_features\": 80}},\n",
    "        {\"class\": \"Flatten\", \"kargs\": {}},\n",
    "        {\"class\": \"Linear\", \"kargs\": {\"in_features\": 20480, \"out_features\": 256}},\n",
    "        {\"class\": \"ReLU\", \"kargs\": {\"inplace\": True}},\n",
    "        {\"class\": \"BatchNorm1d\", \"kargs\": {\"num_features\": 256}},\n",
    "        {\"class\": \"Linear\", \"kargs\": {\"in_features\": 256, \"out_features\": 256}},\n",
    "    ],\n",
    "    \"NUM_LOGS_PER_EPOCH\": 10,\n",
    "    \"BEST_MODEL_PATH\": \"./best_model.pth\",\n",
    "    \"n_way\": 16,\n",
    "    \"datasets\": [\n",
    "        {\n",
    "            \"labels\": [\n",
    "                \"1-10\",\n",
    "                \"1-12\",\n",
    "                \"1-14\",\n",
    "                \"1-16\",\n",
    "                \"1-18\",\n",
    "                \"1-19\",\n",
    "                \"1-8\",\n",
    "                \"10-11\",\n",
    "                \"10-17\",\n",
    "                \"10-4\",\n",
    "                \"10-7\",\n",
    "                \"11-1\",\n",
    "                \"11-10\",\n",
    "                \"11-19\",\n",
    "                \"11-20\",\n",
    "                \"11-4\",\n",
    "                \"11-7\",\n",
    "                \"12-19\",\n",
    "                \"12-20\",\n",
    "                \"12-7\",\n",
    "                \"13-14\",\n",
    "                \"13-18\",\n",
    "                \"13-19\",\n",
    "                \"13-20\",\n",
    "                \"13-3\",\n",
    "                \"13-7\",\n",
    "                \"14-10\",\n",
    "                \"14-11\",\n",
    "                \"14-12\",\n",
    "                \"14-13\",\n",
    "                \"14-14\",\n",
    "                \"14-19\",\n",
    "                \"14-20\",\n",
    "                \"14-7\",\n",
    "                \"14-8\",\n",
    "                \"14-9\",\n",
    "                \"15-1\",\n",
    "                \"15-19\",\n",
    "                \"15-6\",\n",
    "                \"16-1\",\n",
    "                \"16-16\",\n",
    "                \"16-19\",\n",
    "                \"16-20\",\n",
    "                \"17-10\",\n",
    "                \"17-11\",\n",
    "                \"18-1\",\n",
    "                \"18-10\",\n",
    "                \"18-11\",\n",
    "                \"18-12\",\n",
    "                \"18-13\",\n",
    "                \"18-14\",\n",
    "                \"18-15\",\n",
    "                \"18-16\",\n",
    "                \"18-17\",\n",
    "                \"18-19\",\n",
    "                \"18-2\",\n",
    "                \"18-20\",\n",
    "                \"18-4\",\n",
    "                \"18-5\",\n",
    "                \"18-7\",\n",
    "                \"18-8\",\n",
    "                \"18-9\",\n",
    "                \"19-1\",\n",
    "                \"19-10\",\n",
    "                \"19-11\",\n",
    "                \"19-12\",\n",
    "                \"19-13\",\n",
    "                \"19-14\",\n",
    "                \"19-15\",\n",
    "                \"19-19\",\n",
    "                \"19-2\",\n",
    "                \"19-20\",\n",
    "                \"19-3\",\n",
    "                \"19-4\",\n",
    "                \"19-6\",\n",
    "                \"19-7\",\n",
    "                \"19-8\",\n",
    "                \"19-9\",\n",
    "                \"2-1\",\n",
    "                \"2-13\",\n",
    "                \"2-15\",\n",
    "                \"2-3\",\n",
    "                \"2-4\",\n",
    "                \"2-5\",\n",
    "                \"2-6\",\n",
    "                \"2-7\",\n",
    "                \"2-8\",\n",
    "                \"20-1\",\n",
    "                \"20-12\",\n",
    "                \"20-14\",\n",
    "                \"20-15\",\n",
    "                \"20-16\",\n",
    "                \"20-18\",\n",
    "                \"20-19\",\n",
    "                \"20-20\",\n",
    "                \"20-3\",\n",
    "                \"20-4\",\n",
    "                \"20-5\",\n",
    "                \"20-7\",\n",
    "                \"20-8\",\n",
    "                \"3-1\",\n",
    "                \"3-13\",\n",
    "                \"3-18\",\n",
    "                \"3-2\",\n",
    "                \"3-8\",\n",
    "                \"4-1\",\n",
    "                \"4-10\",\n",
    "                \"4-11\",\n",
    "                \"5-1\",\n",
    "                \"5-5\",\n",
    "                \"6-1\",\n",
    "                \"6-15\",\n",
    "                \"6-6\",\n",
    "                \"7-10\",\n",
    "                \"7-11\",\n",
    "                \"7-12\",\n",
    "                \"7-13\",\n",
    "                \"7-14\",\n",
    "                \"7-7\",\n",
    "                \"7-8\",\n",
    "                \"7-9\",\n",
    "                \"8-1\",\n",
    "                \"8-13\",\n",
    "                \"8-14\",\n",
    "                \"8-18\",\n",
    "                \"8-20\",\n",
    "                \"8-3\",\n",
    "                \"8-8\",\n",
    "                \"9-1\",\n",
    "                \"9-7\",\n",
    "            ],\n",
    "            \"domains\": [1, 2, 3, 4],\n",
    "            \"num_examples_per_domain_per_label\": -1,\n",
    "            \"pickle_path\": \"/root/csc500-main/datasets/wisig.node3-19.stratified_ds.2022A.pkl\",\n",
    "            \"source_or_target_dataset\": \"source\",\n",
    "            \"x_transforms\": [\"unit_power\"],\n",
    "            \"episode_transforms\": [],\n",
    "            \"domain_prefix\": \"Wisig_\",\n",
    "        },\n",
    "        {\n",
    "            \"labels\": [\n",
    "                \"3123D52\",\n",
    "                \"3123D65\",\n",
    "                \"3123D79\",\n",
    "                \"3123D80\",\n",
    "                \"3123D54\",\n",
    "                \"3123D70\",\n",
    "                \"3123D7B\",\n",
    "                \"3123D89\",\n",
    "                \"3123D58\",\n",
    "                \"3123D76\",\n",
    "                \"3123D7D\",\n",
    "                \"3123EFE\",\n",
    "                \"3123D64\",\n",
    "                \"3123D78\",\n",
    "                \"3123D7E\",\n",
    "                \"3124E4A\",\n",
    "            ],\n",
    "            \"domains\": [32, 38, 8, 44, 14, 50, 20, 26],\n",
    "            \"num_examples_per_domain_per_label\": 2000,\n",
    "            \"pickle_path\": \"/root/csc500-main/datasets/oracle.Run1_10kExamples_stratified_ds.2022A.pkl\",\n",
    "            \"source_or_target_dataset\": \"target\",\n",
    "            \"x_transforms\": [\"unit_power\"],\n",
    "            \"episode_transforms\": [],\n",
    "            \"domain_prefix\": \"ORACLE.run1\",\n",
    "        },\n",
    "    ],\n",
    "    \"dataset_seed\": 500,\n",
    "    \"seed\": 500,\n",
    "}\n"
   ]
  },
  {
   "cell_type": "code",
   "execution_count": 5,
   "id": "8fa1cc33",
   "metadata": {
    "execution": {
     "iopub.execute_input": "2022-03-23T05:50:17.360805Z",
     "iopub.status.busy": "2022-03-23T05:50:17.357892Z",
     "iopub.status.idle": "2022-03-23T05:50:17.376030Z",
     "shell.execute_reply": "2022-03-23T05:50:17.375272Z"
    },
    "papermill": {
     "duration": 0.045555,
     "end_time": "2022-03-23T05:50:17.376192",
     "exception": false,
     "start_time": "2022-03-23T05:50:17.330637",
     "status": "completed"
    },
    "tags": []
   },
   "outputs": [],
   "source": [
    "# Set this to True if you want to run this template directly\n",
    "STANDALONE = False\n",
    "if STANDALONE:\n",
    "    print(\"parameters not injected, running with standalone_parameters\")\n",
    "    parameters = standalone_parameters\n",
    "\n",
    "if not 'parameters' in locals() and not 'parameters' in globals():\n",
    "    raise Exception(\"Parameter injection failed\")\n",
    "\n",
    "#Use an easy dict for all the parameters\n",
    "p = EasyDict(parameters)\n",
    "\n",
    "if \"x_shape\" not in p:\n",
    "    p.x_shape = [2,256] # Default to this if we dont supply x_shape\n",
    "\n",
    "\n",
    "supplied_keys = set(p.keys())\n",
    "\n",
    "if  supplied_keys != required_parameters:\n",
    "    print(\"Parameters are incorrect\")\n",
    "    if len(supplied_keys - required_parameters)>0: print(\"Shouldn't have:\", str(supplied_keys - required_parameters))\n",
    "    if len(required_parameters - supplied_keys)>0: print(\"Need to have:\", str(required_parameters - supplied_keys))\n",
    "    raise RuntimeError(\"Parameters are incorrect\")"
   ]
  },
  {
   "cell_type": "code",
   "execution_count": 6,
   "id": "3a028d58",
   "metadata": {
    "execution": {
     "iopub.execute_input": "2022-03-23T05:50:17.426605Z",
     "iopub.status.busy": "2022-03-23T05:50:17.426235Z",
     "iopub.status.idle": "2022-03-23T05:50:17.444198Z",
     "shell.execute_reply": "2022-03-23T05:50:17.443346Z"
    },
    "papermill": {
     "duration": 0.041504,
     "end_time": "2022-03-23T05:50:17.444355",
     "exception": false,
     "start_time": "2022-03-23T05:50:17.402851",
     "status": "completed"
    },
    "tags": []
   },
   "outputs": [],
   "source": [
    "###################################\n",
    "# Set the RNGs and make it all deterministic\n",
    "###################################\n",
    "np.random.seed(p.seed)\n",
    "random.seed(p.seed)\n",
    "torch.manual_seed(p.seed)\n",
    "\n",
    "torch.use_deterministic_algorithms(True) "
   ]
  },
  {
   "cell_type": "code",
   "execution_count": 7,
   "id": "b691acf6",
   "metadata": {
    "execution": {
     "iopub.execute_input": "2022-03-23T05:50:17.498031Z",
     "iopub.status.busy": "2022-03-23T05:50:17.497301Z",
     "iopub.status.idle": "2022-03-23T05:50:17.519238Z",
     "shell.execute_reply": "2022-03-23T05:50:17.518406Z"
    },
    "papermill": {
     "duration": 0.046055,
     "end_time": "2022-03-23T05:50:17.519404",
     "exception": false,
     "start_time": "2022-03-23T05:50:17.473349",
     "status": "completed"
    },
    "tags": []
   },
   "outputs": [],
   "source": [
    "###########################################\n",
    "# The stratified datasets honor this\n",
    "###########################################\n",
    "torch.set_default_dtype(eval(p.torch_default_dtype))"
   ]
  },
  {
   "cell_type": "code",
   "execution_count": 8,
   "id": "b5fba671",
   "metadata": {
    "execution": {
     "iopub.execute_input": "2022-03-23T05:50:17.572664Z",
     "iopub.status.busy": "2022-03-23T05:50:17.572105Z",
     "iopub.status.idle": "2022-03-23T05:50:17.622823Z",
     "shell.execute_reply": "2022-03-23T05:50:17.622091Z"
    },
    "papermill": {
     "duration": 0.074366,
     "end_time": "2022-03-23T05:50:17.622992",
     "exception": false,
     "start_time": "2022-03-23T05:50:17.548626",
     "status": "completed"
    },
    "tags": []
   },
   "outputs": [],
   "source": [
    "###################################\n",
    "# Build the network(s)\n",
    "# Note: It's critical to do this AFTER setting the RNG\n",
    "###################################\n",
    "x_net = build_sequential(p.x_net)"
   ]
  },
  {
   "cell_type": "code",
   "execution_count": 9,
   "id": "5d7e61cc",
   "metadata": {
    "execution": {
     "iopub.execute_input": "2022-03-23T05:50:17.674918Z",
     "iopub.status.busy": "2022-03-23T05:50:17.674322Z",
     "iopub.status.idle": "2022-03-23T05:50:17.696086Z",
     "shell.execute_reply": "2022-03-23T05:50:17.695236Z"
    },
    "papermill": {
     "duration": 0.045328,
     "end_time": "2022-03-23T05:50:17.696247",
     "exception": false,
     "start_time": "2022-03-23T05:50:17.650919",
     "status": "completed"
    },
    "tags": []
   },
   "outputs": [],
   "source": [
    "start_time_secs = time.time()"
   ]
  },
  {
   "cell_type": "code",
   "execution_count": 10,
   "id": "c6b67dfd",
   "metadata": {
    "execution": {
     "iopub.execute_input": "2022-03-23T05:50:17.749302Z",
     "iopub.status.busy": "2022-03-23T05:50:17.748728Z",
     "iopub.status.idle": "2022-03-23T05:50:17.766350Z",
     "shell.execute_reply": "2022-03-23T05:50:17.765532Z"
    },
    "papermill": {
     "duration": 0.040963,
     "end_time": "2022-03-23T05:50:17.766508",
     "exception": false,
     "start_time": "2022-03-23T05:50:17.725545",
     "status": "completed"
    },
    "tags": []
   },
   "outputs": [],
   "source": [
    "p.domains_source = []\n",
    "p.domains_target = []\n",
    "\n",
    "\n",
    "train_original_source = []\n",
    "val_original_source   = []\n",
    "test_original_source  = []\n",
    "\n",
    "train_original_target = []\n",
    "val_original_target   = []\n",
    "test_original_target  = []"
   ]
  },
  {
   "cell_type": "code",
   "execution_count": 11,
   "id": "e3d9c3d3",
   "metadata": {
    "execution": {
     "iopub.execute_input": "2022-03-23T05:50:17.817127Z",
     "iopub.status.busy": "2022-03-23T05:50:17.815467Z",
     "iopub.status.idle": "2022-03-23T05:50:17.837297Z",
     "shell.execute_reply": "2022-03-23T05:50:17.836477Z"
    },
    "papermill": {
     "duration": 0.044556,
     "end_time": "2022-03-23T05:50:17.837455",
     "exception": false,
     "start_time": "2022-03-23T05:50:17.792899",
     "status": "completed"
    },
    "tags": []
   },
   "outputs": [],
   "source": [
    "# global_x_transform_func = lambda x: normalize(x.to(torch.get_default_dtype()), \"unit_power\") # unit_power, unit_mag\n",
    "# global_x_transform_func = lambda x: normalize(x, \"unit_power\") # unit_power, unit_mag"
   ]
  },
  {
   "cell_type": "code",
   "execution_count": 12,
   "id": "acb78fd2",
   "metadata": {
    "execution": {
     "iopub.execute_input": "2022-03-23T05:50:17.897616Z",
     "iopub.status.busy": "2022-03-23T05:50:17.896769Z",
     "iopub.status.idle": "2022-03-23T05:50:17.914666Z",
     "shell.execute_reply": "2022-03-23T05:50:17.913856Z"
    },
    "papermill": {
     "duration": 0.05138,
     "end_time": "2022-03-23T05:50:17.914826",
     "exception": false,
     "start_time": "2022-03-23T05:50:17.863446",
     "status": "completed"
    },
    "tags": []
   },
   "outputs": [],
   "source": [
    "def add_dataset(\n",
    "    labels,\n",
    "    domains,\n",
    "    pickle_path,\n",
    "    x_transforms,\n",
    "    episode_transforms,\n",
    "    domain_prefix,\n",
    "    num_examples_per_domain_per_label,\n",
    "    source_or_target_dataset:str,\n",
    "    iterator_seed=p.seed,\n",
    "    dataset_seed=p.dataset_seed,\n",
    "    n_shot=p.n_shot,\n",
    "    n_way=p.n_way,\n",
    "    n_query=p.n_query,\n",
    "    train_val_test_k_factors=(p.train_k_factor,p.val_k_factor,p.test_k_factor),\n",
    "):\n",
    "   \n",
    "    if x_transforms == []: x_transform = None\n",
    "    else: x_transform = get_chained_transform(x_transforms)\n",
    "    \n",
    "    if episode_transforms == []: episode_transform = None\n",
    "    else: raise Exception(\"episode_transforms not implemented\")\n",
    "    \n",
    "    episode_transform = lambda tup, _prefix=domain_prefix: (_prefix + str(tup[0]), tup[1])\n",
    "\n",
    "\n",
    "    eaf = Episodic_Accessor_Factory(\n",
    "        labels=labels,\n",
    "        domains=domains,\n",
    "        num_examples_per_domain_per_label=num_examples_per_domain_per_label,\n",
    "        iterator_seed=iterator_seed,\n",
    "        dataset_seed=dataset_seed,\n",
    "        n_shot=n_shot,\n",
    "        n_way=n_way,\n",
    "        n_query=n_query,\n",
    "        train_val_test_k_factors=train_val_test_k_factors,\n",
    "        pickle_path=pickle_path,\n",
    "        x_transform_func=x_transform,\n",
    "    )\n",
    "\n",
    "    train, val, test = eaf.get_train(), eaf.get_val(), eaf.get_test()\n",
    "    train = Lazy_Iterable_Wrapper(train, episode_transform)\n",
    "    val = Lazy_Iterable_Wrapper(val, episode_transform)\n",
    "    test = Lazy_Iterable_Wrapper(test, episode_transform)\n",
    "\n",
    "    if source_or_target_dataset==\"source\":\n",
    "        train_original_source.append(train)\n",
    "        val_original_source.append(val)\n",
    "        test_original_source.append(test)\n",
    "\n",
    "        p.domains_source.extend(\n",
    "            [domain_prefix + str(u) for u in domains]\n",
    "        )\n",
    "    elif source_or_target_dataset==\"target\":\n",
    "        train_original_target.append(train)\n",
    "        val_original_target.append(val)\n",
    "        test_original_target.append(test)\n",
    "        p.domains_target.extend(\n",
    "            [domain_prefix + str(u) for u in domains]\n",
    "        )\n",
    "    else:\n",
    "        raise Exception(f\"invalid source_or_target_dataset: {source_or_target_dataset}\")\n",
    "    "
   ]
  },
  {
   "cell_type": "code",
   "execution_count": 13,
   "id": "fe266617",
   "metadata": {
    "execution": {
     "iopub.execute_input": "2022-03-23T05:50:17.968103Z",
     "iopub.status.busy": "2022-03-23T05:50:17.966443Z",
     "iopub.status.idle": "2022-03-23T05:51:04.975620Z",
     "shell.execute_reply": "2022-03-23T05:51:04.974819Z"
    },
    "papermill": {
     "duration": 47.035003,
     "end_time": "2022-03-23T05:51:04.975803",
     "exception": false,
     "start_time": "2022-03-23T05:50:17.940800",
     "status": "completed"
    },
    "tags": []
   },
   "outputs": [],
   "source": [
    "for ds in p.datasets:\n",
    "    add_dataset(**ds)"
   ]
  },
  {
   "cell_type": "code",
   "execution_count": 14,
   "id": "b90d65ac",
   "metadata": {
    "execution": {
     "iopub.execute_input": "2022-03-23T05:51:05.026773Z",
     "iopub.status.busy": "2022-03-23T05:51:05.026395Z",
     "iopub.status.idle": "2022-03-23T05:51:05.050353Z",
     "shell.execute_reply": "2022-03-23T05:51:05.049642Z"
    },
    "papermill": {
     "duration": 0.048333,
     "end_time": "2022-03-23T05:51:05.050509",
     "exception": false,
     "start_time": "2022-03-23T05:51:05.002176",
     "status": "completed"
    },
    "tags": []
   },
   "outputs": [],
   "source": [
    "# from steves_utils.CORES.utils import (\n",
    "#     ALL_NODES,\n",
    "#     ALL_NODES_MINIMUM_1000_EXAMPLES,\n",
    "#     ALL_DAYS\n",
    "# )\n",
    "\n",
    "# add_dataset(\n",
    "#     labels=ALL_NODES,\n",
    "#     domains = ALL_DAYS,\n",
    "#     num_examples_per_domain_per_label=100,\n",
    "#     pickle_path=os.path.join(get_datasets_base_path(), \"cores.stratified_ds.2022A.pkl\"),\n",
    "#     source_or_target_dataset=\"target\",\n",
    "#     x_transform_func=global_x_transform_func,\n",
    "#     domain_modifier=lambda u: f\"cores_{u}\"\n",
    "# )"
   ]
  },
  {
   "cell_type": "code",
   "execution_count": 15,
   "id": "76db484d",
   "metadata": {
    "execution": {
     "iopub.execute_input": "2022-03-23T05:51:05.102113Z",
     "iopub.status.busy": "2022-03-23T05:51:05.101548Z",
     "iopub.status.idle": "2022-03-23T05:51:05.124489Z",
     "shell.execute_reply": "2022-03-23T05:51:05.123803Z"
    },
    "papermill": {
     "duration": 0.047753,
     "end_time": "2022-03-23T05:51:05.124652",
     "exception": false,
     "start_time": "2022-03-23T05:51:05.076899",
     "status": "completed"
    },
    "tags": []
   },
   "outputs": [],
   "source": [
    "# from steves_utils.ORACLE.utils_v2 import (\n",
    "#     ALL_DISTANCES_FEET,\n",
    "#     ALL_RUNS,\n",
    "#     ALL_SERIAL_NUMBERS,\n",
    "# )\n",
    "\n",
    "\n",
    "# add_dataset(\n",
    "#     labels=ALL_SERIAL_NUMBERS,\n",
    "#     domains = list(set(ALL_DISTANCES_FEET) - {2,62}),\n",
    "#     num_examples_per_domain_per_label=100,\n",
    "#     pickle_path=os.path.join(get_datasets_base_path(), \"oracle.Run2_framed_2000Examples_stratified_ds.2022A.pkl\"),\n",
    "#     source_or_target_dataset=\"source\",\n",
    "#     x_transform_func=global_x_transform_func,\n",
    "#     domain_modifier=lambda u: f\"oracle1_{u}\"\n",
    "# )\n"
   ]
  },
  {
   "cell_type": "code",
   "execution_count": 16,
   "id": "97dea9d2",
   "metadata": {
    "execution": {
     "iopub.execute_input": "2022-03-23T05:51:05.174602Z",
     "iopub.status.busy": "2022-03-23T05:51:05.174227Z",
     "iopub.status.idle": "2022-03-23T05:51:05.196557Z",
     "shell.execute_reply": "2022-03-23T05:51:05.195842Z"
    },
    "papermill": {
     "duration": 0.046558,
     "end_time": "2022-03-23T05:51:05.196714",
     "exception": false,
     "start_time": "2022-03-23T05:51:05.150156",
     "status": "completed"
    },
    "tags": []
   },
   "outputs": [],
   "source": [
    "# from steves_utils.ORACLE.utils_v2 import (\n",
    "#     ALL_DISTANCES_FEET,\n",
    "#     ALL_RUNS,\n",
    "#     ALL_SERIAL_NUMBERS,\n",
    "# )\n",
    "\n",
    "\n",
    "# add_dataset(\n",
    "#     labels=ALL_SERIAL_NUMBERS,\n",
    "#     domains = list(set(ALL_DISTANCES_FEET) - {2,62,56}),\n",
    "#     num_examples_per_domain_per_label=100,\n",
    "#     pickle_path=os.path.join(get_datasets_base_path(), \"oracle.Run2_framed_2000Examples_stratified_ds.2022A.pkl\"),\n",
    "#     source_or_target_dataset=\"source\",\n",
    "#     x_transform_func=global_x_transform_func,\n",
    "#     domain_modifier=lambda u: f\"oracle2_{u}\"\n",
    "# )"
   ]
  },
  {
   "cell_type": "code",
   "execution_count": 17,
   "id": "6f289866",
   "metadata": {
    "execution": {
     "iopub.execute_input": "2022-03-23T05:51:05.249236Z",
     "iopub.status.busy": "2022-03-23T05:51:05.248670Z",
     "iopub.status.idle": "2022-03-23T05:51:05.271111Z",
     "shell.execute_reply": "2022-03-23T05:51:05.271810Z"
    },
    "papermill": {
     "duration": 0.047516,
     "end_time": "2022-03-23T05:51:05.271992",
     "exception": false,
     "start_time": "2022-03-23T05:51:05.224476",
     "status": "completed"
    },
    "tags": []
   },
   "outputs": [],
   "source": [
    "# add_dataset(\n",
    "#     labels=list(range(19)),\n",
    "#     domains = [0,1,2],\n",
    "#     num_examples_per_domain_per_label=100,\n",
    "#     pickle_path=os.path.join(get_datasets_base_path(), \"metehan.stratified_ds.2022A.pkl\"),\n",
    "#     source_or_target_dataset=\"target\",\n",
    "#     x_transform_func=global_x_transform_func,\n",
    "#     domain_modifier=lambda u: f\"met_{u}\"\n",
    "# )"
   ]
  },
  {
   "cell_type": "code",
   "execution_count": 18,
   "id": "86a863c3",
   "metadata": {
    "execution": {
     "iopub.execute_input": "2022-03-23T05:51:05.326694Z",
     "iopub.status.busy": "2022-03-23T05:51:05.326320Z",
     "iopub.status.idle": "2022-03-23T05:51:05.348844Z",
     "shell.execute_reply": "2022-03-23T05:51:05.348135Z"
    },
    "papermill": {
     "duration": 0.046922,
     "end_time": "2022-03-23T05:51:05.348999",
     "exception": false,
     "start_time": "2022-03-23T05:51:05.302077",
     "status": "completed"
    },
    "tags": []
   },
   "outputs": [],
   "source": [
    "# # from steves_utils.wisig.utils import (\n",
    "# #     ALL_NODES_MINIMUM_100_EXAMPLES,\n",
    "# #     ALL_NODES_MINIMUM_500_EXAMPLES,\n",
    "# #     ALL_NODES_MINIMUM_1000_EXAMPLES,\n",
    "# #     ALL_DAYS\n",
    "# # )\n",
    "\n",
    "# import steves_utils.wisig.utils as wisig\n",
    "\n",
    "\n",
    "# add_dataset(\n",
    "#     labels=wisig.ALL_NODES_MINIMUM_100_EXAMPLES,\n",
    "#     domains = wisig.ALL_DAYS,\n",
    "#     num_examples_per_domain_per_label=100,\n",
    "#     pickle_path=os.path.join(get_datasets_base_path(), \"wisig.node3-19.stratified_ds.2022A.pkl\"),\n",
    "#     source_or_target_dataset=\"target\",\n",
    "#     x_transform_func=global_x_transform_func,\n",
    "#     domain_modifier=lambda u: f\"wisig_{u}\"\n",
    "# )"
   ]
  },
  {
   "cell_type": "code",
   "execution_count": 19,
   "id": "fd5442bc",
   "metadata": {
    "execution": {
     "iopub.execute_input": "2022-03-23T05:51:05.407107Z",
     "iopub.status.busy": "2022-03-23T05:51:05.406527Z",
     "iopub.status.idle": "2022-03-23T05:51:05.425823Z",
     "shell.execute_reply": "2022-03-23T05:51:05.425112Z"
    },
    "papermill": {
     "duration": 0.04939,
     "end_time": "2022-03-23T05:51:05.425979",
     "exception": false,
     "start_time": "2022-03-23T05:51:05.376589",
     "status": "completed"
    },
    "tags": []
   },
   "outputs": [],
   "source": [
    "###################################\n",
    "# Build the dataset\n",
    "###################################\n",
    "train_original_source = Iterable_Aggregator(train_original_source, p.seed)\n",
    "val_original_source = Iterable_Aggregator(val_original_source, p.seed)\n",
    "test_original_source = Iterable_Aggregator(test_original_source, p.seed)\n",
    "\n",
    "\n",
    "train_original_target = Iterable_Aggregator(train_original_target, p.seed)\n",
    "val_original_target = Iterable_Aggregator(val_original_target, p.seed)\n",
    "test_original_target = Iterable_Aggregator(test_original_target, p.seed)\n",
    "\n",
    "# For CNN We only use X and Y. And we only train on the source.\n",
    "# Properly form the data using a transform lambda and Lazy_Iterable_Wrapper. Finally wrap them in a dataloader\n",
    "\n",
    "transform_lambda = lambda ex: ex[1] # Original is (<domain>, <episode>) so we strip down to episode only\n",
    "\n",
    "train_processed_source = Lazy_Iterable_Wrapper(train_original_source, transform_lambda)\n",
    "val_processed_source   = Lazy_Iterable_Wrapper(val_original_source, transform_lambda)\n",
    "test_processed_source  = Lazy_Iterable_Wrapper(test_original_source, transform_lambda)\n",
    "\n",
    "train_processed_target = Lazy_Iterable_Wrapper(train_original_target, transform_lambda)\n",
    "val_processed_target   = Lazy_Iterable_Wrapper(val_original_target, transform_lambda)\n",
    "test_processed_target  = Lazy_Iterable_Wrapper(test_original_target, transform_lambda)\n",
    "\n",
    "datasets = EasyDict({\n",
    "    \"source\": {\n",
    "        \"original\": {\"train\":train_original_source, \"val\":val_original_source, \"test\":test_original_source},\n",
    "        \"processed\": {\"train\":train_processed_source, \"val\":val_processed_source, \"test\":test_processed_source}\n",
    "    },\n",
    "    \"target\": {\n",
    "        \"original\": {\"train\":train_original_target, \"val\":val_original_target, \"test\":test_original_target},\n",
    "        \"processed\": {\"train\":train_processed_target, \"val\":val_processed_target, \"test\":test_processed_target}\n",
    "    },\n",
    "})"
   ]
  },
  {
   "cell_type": "code",
   "execution_count": 20,
   "id": "5b3c01fc",
   "metadata": {
    "execution": {
     "iopub.execute_input": "2022-03-23T05:51:05.478463Z",
     "iopub.status.busy": "2022-03-23T05:51:05.478039Z",
     "iopub.status.idle": "2022-03-23T05:51:21.391768Z",
     "shell.execute_reply": "2022-03-23T05:51:21.390887Z"
    },
    "papermill": {
     "duration": 15.938908,
     "end_time": "2022-03-23T05:51:21.391949",
     "exception": false,
     "start_time": "2022-03-23T05:51:05.453041",
     "status": "completed"
    },
    "tags": []
   },
   "outputs": [
    {
     "name": "stdout",
     "output_type": "stream",
     "text": [
      "{'Wisig_1', 'Wisig_4', 'Wisig_2', 'Wisig_3'}\n"
     ]
    },
    {
     "name": "stdout",
     "output_type": "stream",
     "text": [
      "{'ORACLE.run114', 'ORACLE.run126', 'ORACLE.run138', 'ORACLE.run18', 'ORACLE.run144', 'ORACLE.run120', 'ORACLE.run150', 'ORACLE.run132'}\n"
     ]
    },
    {
     "name": "stdout",
     "output_type": "stream",
     "text": [
      "tensor([[[ 1.0826e+00, -1.6694e-01,  5.9985e-02,  ...,  1.2393e-01,\n",
      "           1.4430e-01,  3.1916e-01],\n",
      "         [ 4.8724e-01,  7.2095e-01,  2.4956e-01,  ...,  1.2393e-01,\n",
      "           2.2466e-01, -4.5272e-02]],\n",
      "\n",
      "        [[-3.3355e-01,  4.4856e-01,  1.2652e-01,  ..., -1.4952e-01,\n",
      "           3.7211e-02, -2.0162e-01],\n",
      "         [-1.2354e+00, -2.6927e-01,  2.1650e-02,  ..., -2.4086e-01,\n",
      "          -7.5775e-02, -1.2990e-01]],\n",
      "\n",
      "        [[ 4.9976e-01, -4.1552e-02,  1.1043e-01,  ...,  2.0093e-01,\n",
      "           8.3104e-02,  4.5821e-01],\n",
      "         [ 6.8817e-01,  1.6507e-01, -8.8227e-02,  ...,  1.8215e-02,\n",
      "          -5.9198e-02, -6.0336e-01]],\n",
      "\n",
      "        ...,\n",
      "\n",
      "        [[-5.0337e-01,  5.8255e-01,  9.2530e-01,  ..., -4.4681e-01,\n",
      "          -1.0746e+00,  3.4161e-01],\n",
      "         [-6.2101e-01, -8.9815e-01,  3.9817e-01,  ...,  7.2169e-01,\n",
      "           1.1312e-03, -7.4544e-01]],\n",
      "\n",
      "        [[ 1.2042e+00, -1.0255e-01, -8.4983e-01,  ..., -5.8889e-02,\n",
      "           9.4831e-01,  8.0312e-01],\n",
      "         [ 5.7670e-01,  1.2164e+00,  1.4316e-01,  ..., -1.1575e+00,\n",
      "          -9.5237e-01, -1.2184e-02]],\n",
      "\n",
      "        [[ 2.7699e-01, -5.3359e-01, -7.3864e-01,  ..., -3.4654e-01,\n",
      "           1.9905e-01, -4.0289e-01],\n",
      "         [ 1.7147e-01,  8.3696e-01, -5.6477e-01,  ...,  1.7507e-01,\n",
      "           5.5398e-01,  7.6981e-01]]])\n"
     ]
    }
   ],
   "source": [
    "from steves_utils.transforms import get_average_magnitude, get_average_power\n",
    "\n",
    "print(set([u for u,_ in val_original_source]))\n",
    "print(set([u for u,_ in val_original_target]))\n",
    "\n",
    "s_x, s_y, q_x, q_y, _ = next(iter(train_processed_source))\n",
    "print(s_x)\n",
    "\n",
    "# for ds in [\n",
    "#     train_processed_source,\n",
    "#     val_processed_source,\n",
    "#     test_processed_source,\n",
    "#     train_processed_target,\n",
    "#     val_processed_target,\n",
    "#     test_processed_target\n",
    "# ]:\n",
    "#     for s_x, s_y, q_x, q_y, _ in ds:\n",
    "#         for X in (s_x, q_x):\n",
    "#             for x in X:\n",
    "#                 assert np.isclose(get_average_magnitude(x.numpy()), 1.0)\n",
    "#                 assert np.isclose(get_average_power(x.numpy()), 1.0)\n",
    "                "
   ]
  },
  {
   "cell_type": "code",
   "execution_count": 21,
   "id": "bbdacba1",
   "metadata": {
    "execution": {
     "iopub.execute_input": "2022-03-23T05:51:21.449945Z",
     "iopub.status.busy": "2022-03-23T05:51:21.447957Z",
     "iopub.status.idle": "2022-03-23T05:51:21.663486Z",
     "shell.execute_reply": "2022-03-23T05:51:21.664128Z"
    },
    "papermill": {
     "duration": 0.243047,
     "end_time": "2022-03-23T05:51:21.664327",
     "exception": false,
     "start_time": "2022-03-23T05:51:21.421280",
     "status": "completed"
    },
    "tags": []
   },
   "outputs": [
    {
     "name": "stdout",
     "output_type": "stream",
     "text": [
      "(2, 256)\n"
     ]
    }
   ],
   "source": [
    "###################################\n",
    "# Build the model\n",
    "###################################\n",
    "# easfsl only wants a tuple for the shape\n",
    "model = Steves_Prototypical_Network(x_net, device=p.device, x_shape=tuple(p.x_shape))\n",
    "optimizer = Adam(params=model.parameters(), lr=p.lr)"
   ]
  },
  {
   "cell_type": "code",
   "execution_count": 22,
   "id": "22b39ac5",
   "metadata": {
    "execution": {
     "iopub.execute_input": "2022-03-23T05:51:21.719639Z",
     "iopub.status.busy": "2022-03-23T05:51:21.719249Z",
     "iopub.status.idle": "2022-03-23T06:09:02.062499Z",
     "shell.execute_reply": "2022-03-23T06:09:02.062151Z"
    },
    "papermill": {
     "duration": 1060.370902,
     "end_time": "2022-03-23T06:09:02.062585",
     "exception": false,
     "start_time": "2022-03-23T05:51:21.691683",
     "status": "completed"
    },
    "tags": []
   },
   "outputs": [
    {
     "name": "stdout",
     "output_type": "stream",
     "text": [
      "epoch: 1, [batch: 1 / 6843], examples_per_second: 29.6706, train_label_loss: 2.6630, \n"
     ]
    },
    {
     "name": "stdout",
     "output_type": "stream",
     "text": [
      "epoch: 1, [batch: 685 / 6843], examples_per_second: 3294.3490, train_label_loss: 0.4895, \n"
     ]
    },
    {
     "name": "stdout",
     "output_type": "stream",
     "text": [
      "epoch: 1, [batch: 1369 / 6843], examples_per_second: 3406.9660, train_label_loss: 0.3537, \n"
     ]
    },
    {
     "name": "stdout",
     "output_type": "stream",
     "text": [
      "epoch: 1, [batch: 2053 / 6843], examples_per_second: 3409.5683, train_label_loss: 0.0101, \n"
     ]
    },
    {
     "name": "stdout",
     "output_type": "stream",
     "text": [
      "epoch: 1, [batch: 2737 / 6843], examples_per_second: 3348.7807, train_label_loss: 0.1611, \n"
     ]
    },
    {
     "name": "stdout",
     "output_type": "stream",
     "text": [
      "epoch: 1, [batch: 3422 / 6843], examples_per_second: 3450.6513, train_label_loss: 0.3909, \n"
     ]
    },
    {
     "name": "stdout",
     "output_type": "stream",
     "text": [
      "epoch: 1, [batch: 4106 / 6843], examples_per_second: 3419.4857, train_label_loss: 0.2164, \n"
     ]
    },
    {
     "name": "stdout",
     "output_type": "stream",
     "text": [
      "epoch: 1, [batch: 4790 / 6843], examples_per_second: 3697.2844, train_label_loss: 0.5653, \n"
     ]
    },
    {
     "name": "stdout",
     "output_type": "stream",
     "text": [
      "epoch: 1, [batch: 5474 / 6843], examples_per_second: 3493.2567, train_label_loss: 0.0863, \n"
     ]
    },
    {
     "name": "stdout",
     "output_type": "stream",
     "text": [
      "epoch: 1, [batch: 6158 / 6843], examples_per_second: 2940.5643, train_label_loss: 0.2589, \n"
     ]
    },
    {
     "name": "stdout",
     "output_type": "stream",
     "text": [
      "=============================================================\n",
      "epoch: 1, source_val_acc_label: 0.9615, target_val_acc_label: 0.1158, source_val_label_loss: 0.1644, target_val_label_loss: 2.7023, \n",
      "=============================================================\n"
     ]
    },
    {
     "name": "stdout",
     "output_type": "stream",
     "text": [
      "New best\n"
     ]
    },
    {
     "name": "stdout",
     "output_type": "stream",
     "text": [
      "epoch: 2, [batch: 1 / 6824], examples_per_second: 2.7581, train_label_loss: 0.0226, \n"
     ]
    },
    {
     "name": "stdout",
     "output_type": "stream",
     "text": [
      "epoch: 2, [batch: 683 / 6824], examples_per_second: 2931.0022, train_label_loss: 0.1821, \n"
     ]
    },
    {
     "name": "stdout",
     "output_type": "stream",
     "text": [
      "epoch: 2, [batch: 1365 / 6824], examples_per_second: 3019.9676, train_label_loss: 0.2368, \n"
     ]
    },
    {
     "name": "stdout",
     "output_type": "stream",
     "text": [
      "epoch: 2, [batch: 2047 / 6824], examples_per_second: 3022.9036, train_label_loss: 0.1575, \n"
     ]
    },
    {
     "name": "stdout",
     "output_type": "stream",
     "text": [
      "epoch: 2, [batch: 2730 / 6824], examples_per_second: 2970.6395, train_label_loss: 0.0176, \n"
     ]
    },
    {
     "name": "stdout",
     "output_type": "stream",
     "text": [
      "epoch: 2, [batch: 3412 / 6824], examples_per_second: 2993.9138, train_label_loss: 0.0214, \n"
     ]
    },
    {
     "name": "stdout",
     "output_type": "stream",
     "text": [
      "epoch: 2, [batch: 4094 / 6824], examples_per_second: 3004.0582, train_label_loss: 0.0233, \n"
     ]
    },
    {
     "name": "stdout",
     "output_type": "stream",
     "text": [
      "epoch: 2, [batch: 4777 / 6824], examples_per_second: 2976.4457, train_label_loss: 0.0387, \n"
     ]
    },
    {
     "name": "stdout",
     "output_type": "stream",
     "text": [
      "epoch: 2, [batch: 5459 / 6824], examples_per_second: 2964.4782, train_label_loss: 0.0151, \n"
     ]
    },
    {
     "name": "stdout",
     "output_type": "stream",
     "text": [
      "epoch: 2, [batch: 6141 / 6824], examples_per_second: 2998.8651, train_label_loss: 0.0364, \n"
     ]
    },
    {
     "name": "stdout",
     "output_type": "stream",
     "text": [
      "=============================================================\n",
      "epoch: 2, source_val_acc_label: 0.9692, target_val_acc_label: 0.1144, source_val_label_loss: 0.1332, target_val_label_loss: 2.6950, \n",
      "=============================================================\n"
     ]
    },
    {
     "name": "stdout",
     "output_type": "stream",
     "text": [
      "epoch: 3, [batch: 1 / 6845], examples_per_second: 2.7454, train_label_loss: 0.0222, \n"
     ]
    },
    {
     "name": "stdout",
     "output_type": "stream",
     "text": [
      "epoch: 3, [batch: 685 / 6845], examples_per_second: 2967.0926, train_label_loss: 0.0053, \n"
     ]
    },
    {
     "name": "stdout",
     "output_type": "stream",
     "text": [
      "epoch: 3, [batch: 1369 / 6845], examples_per_second: 3023.1740, train_label_loss: 0.2036, \n"
     ]
    },
    {
     "name": "stdout",
     "output_type": "stream",
     "text": [
      "epoch: 3, [batch: 2054 / 6845], examples_per_second: 2956.5061, train_label_loss: 0.0956, \n"
     ]
    },
    {
     "name": "stdout",
     "output_type": "stream",
     "text": [
      "epoch: 3, [batch: 2738 / 6845], examples_per_second: 2954.2560, train_label_loss: 0.0062, \n"
     ]
    },
    {
     "name": "stdout",
     "output_type": "stream",
     "text": [
      "epoch: 3, [batch: 3423 / 6845], examples_per_second: 2965.5911, train_label_loss: 0.1861, \n"
     ]
    },
    {
     "name": "stdout",
     "output_type": "stream",
     "text": [
      "epoch: 3, [batch: 4107 / 6845], examples_per_second: 2955.1641, train_label_loss: 0.0103, \n"
     ]
    },
    {
     "name": "stdout",
     "output_type": "stream",
     "text": [
      "epoch: 3, [batch: 4791 / 6845], examples_per_second: 2968.3475, train_label_loss: 0.0975, \n"
     ]
    },
    {
     "name": "stdout",
     "output_type": "stream",
     "text": [
      "epoch: 3, [batch: 5476 / 6845], examples_per_second: 2977.6818, train_label_loss: 0.0085, \n"
     ]
    },
    {
     "name": "stdout",
     "output_type": "stream",
     "text": [
      "epoch: 3, [batch: 6160 / 6845], examples_per_second: 2975.4085, train_label_loss: 0.1169, \n"
     ]
    },
    {
     "name": "stdout",
     "output_type": "stream",
     "text": [
      "=============================================================\n",
      "epoch: 3, source_val_acc_label: 0.9706, target_val_acc_label: 0.1081, source_val_label_loss: 0.1220, target_val_label_loss: 2.7539, \n",
      "=============================================================\n"
     ]
    },
    {
     "name": "stdout",
     "output_type": "stream",
     "text": [
      "epoch: 4, [batch: 1 / 6840], examples_per_second: 2.7075, train_label_loss: 0.0189, \n"
     ]
    },
    {
     "name": "stdout",
     "output_type": "stream",
     "text": [
      "epoch: 4, [batch: 684 / 6840], examples_per_second: 2964.4258, train_label_loss: 0.2025, \n"
     ]
    },
    {
     "name": "stdout",
     "output_type": "stream",
     "text": [
      "epoch: 4, [batch: 1368 / 6840], examples_per_second: 3001.3866, train_label_loss: 0.0287, \n"
     ]
    },
    {
     "name": "stdout",
     "output_type": "stream",
     "text": [
      "epoch: 4, [batch: 2052 / 6840], examples_per_second: 3043.4313, train_label_loss: 0.0013, \n"
     ]
    },
    {
     "name": "stdout",
     "output_type": "stream",
     "text": [
      "epoch: 4, [batch: 2736 / 6840], examples_per_second: 3078.4928, train_label_loss: 0.2007, \n"
     ]
    },
    {
     "name": "stdout",
     "output_type": "stream",
     "text": [
      "epoch: 4, [batch: 3420 / 6840], examples_per_second: 3392.3257, train_label_loss: 0.0497, \n"
     ]
    },
    {
     "name": "stdout",
     "output_type": "stream",
     "text": [
      "epoch: 4, [batch: 4104 / 6840], examples_per_second: 3405.1918, train_label_loss: 0.0065, \n"
     ]
    },
    {
     "name": "stdout",
     "output_type": "stream",
     "text": [
      "epoch: 4, [batch: 4788 / 6840], examples_per_second: 3330.6994, train_label_loss: 0.0759, \n"
     ]
    },
    {
     "name": "stdout",
     "output_type": "stream",
     "text": [
      "epoch: 4, [batch: 5472 / 6840], examples_per_second: 3354.0183, train_label_loss: 0.0248, \n"
     ]
    },
    {
     "name": "stdout",
     "output_type": "stream",
     "text": [
      "epoch: 4, [batch: 6156 / 6840], examples_per_second: 3461.0309, train_label_loss: 0.0959, \n"
     ]
    },
    {
     "name": "stdout",
     "output_type": "stream",
     "text": [
      "=============================================================\n",
      "epoch: 4, source_val_acc_label: 0.9731, target_val_acc_label: 0.1037, source_val_label_loss: 0.1153, target_val_label_loss: 2.7995, \n",
      "=============================================================\n"
     ]
    },
    {
     "name": "stdout",
     "output_type": "stream",
     "text": [
      "epoch: 5, [batch: 1 / 6843], examples_per_second: 3.6281, train_label_loss: 0.2680, \n"
     ]
    },
    {
     "name": "stdout",
     "output_type": "stream",
     "text": [
      "epoch: 5, [batch: 685 / 6843], examples_per_second: 2940.1734, train_label_loss: 0.0006, \n"
     ]
    },
    {
     "name": "stdout",
     "output_type": "stream",
     "text": [
      "epoch: 5, [batch: 1369 / 6843], examples_per_second: 2974.5472, train_label_loss: 0.2027, \n"
     ]
    },
    {
     "name": "stdout",
     "output_type": "stream",
     "text": [
      "epoch: 5, [batch: 2053 / 6843], examples_per_second: 2990.6696, train_label_loss: 0.0020, \n"
     ]
    },
    {
     "name": "stdout",
     "output_type": "stream",
     "text": [
      "epoch: 5, [batch: 2737 / 6843], examples_per_second: 3015.9778, train_label_loss: 0.0148, \n"
     ]
    },
    {
     "name": "stdout",
     "output_type": "stream",
     "text": [
      "epoch: 5, [batch: 3422 / 6843], examples_per_second: 2974.6359, train_label_loss: 0.2724, \n"
     ]
    },
    {
     "name": "stdout",
     "output_type": "stream",
     "text": [
      "epoch: 5, [batch: 4106 / 6843], examples_per_second: 2959.2896, train_label_loss: 0.0728, \n"
     ]
    },
    {
     "name": "stdout",
     "output_type": "stream",
     "text": [
      "epoch: 5, [batch: 4790 / 6843], examples_per_second: 3120.3998, train_label_loss: 0.0021, \n"
     ]
    },
    {
     "name": "stdout",
     "output_type": "stream",
     "text": [
      "epoch: 5, [batch: 5474 / 6843], examples_per_second: 3363.0354, train_label_loss: 0.0010, \n"
     ]
    },
    {
     "name": "stdout",
     "output_type": "stream",
     "text": [
      "epoch: 5, [batch: 6158 / 6843], examples_per_second: 3336.0218, train_label_loss: 0.1726, \n"
     ]
    },
    {
     "name": "stdout",
     "output_type": "stream",
     "text": [
      "=============================================================\n",
      "epoch: 5, source_val_acc_label: 0.9736, target_val_acc_label: 0.1053, source_val_label_loss: 0.1173, target_val_label_loss: 2.8788, \n",
      "=============================================================\n"
     ]
    },
    {
     "name": "stdout",
     "output_type": "stream",
     "text": [
      "Patience (3) exhausted\n"
     ]
    }
   ],
   "source": [
    "###################################\n",
    "# train\n",
    "###################################\n",
    "jig = PTN_Train_Eval_Test_Jig(model, p.BEST_MODEL_PATH, p.device)\n",
    "\n",
    "jig.train(\n",
    "    train_iterable=datasets.source.processed.train,\n",
    "    source_val_iterable=datasets.source.processed.val,\n",
    "    target_val_iterable=datasets.target.processed.val,\n",
    "    num_epochs=p.n_epoch,\n",
    "    num_logs_per_epoch=p.NUM_LOGS_PER_EPOCH,\n",
    "    patience=p.patience,\n",
    "    optimizer=optimizer,\n",
    "    criteria_for_best=p.criteria_for_best,\n",
    ")"
   ]
  },
  {
   "cell_type": "code",
   "execution_count": 23,
   "id": "31e8fabf",
   "metadata": {
    "execution": {
     "iopub.execute_input": "2022-03-23T06:09:02.145481Z",
     "iopub.status.busy": "2022-03-23T06:09:02.144840Z",
     "iopub.status.idle": "2022-03-23T06:09:02.180070Z",
     "shell.execute_reply": "2022-03-23T06:09:02.179313Z"
    },
    "papermill": {
     "duration": 0.079478,
     "end_time": "2022-03-23T06:09:02.180255",
     "exception": false,
     "start_time": "2022-03-23T06:09:02.100777",
     "status": "completed"
    },
    "tags": []
   },
   "outputs": [],
   "source": [
    "total_experiment_time_secs = time.time() - start_time_secs"
   ]
  },
  {
   "cell_type": "code",
   "execution_count": 24,
   "id": "87b9595b",
   "metadata": {
    "execution": {
     "iopub.execute_input": "2022-03-23T06:09:02.278120Z",
     "iopub.status.busy": "2022-03-23T06:09:02.277522Z",
     "iopub.status.idle": "2022-03-23T06:12:31.500405Z",
     "shell.execute_reply": "2022-03-23T06:12:31.499497Z"
    },
    "papermill": {
     "duration": 209.266255,
     "end_time": "2022-03-23T06:12:31.500599",
     "exception": false,
     "start_time": "2022-03-23T06:09:02.234344",
     "status": "completed"
    },
    "tags": []
   },
   "outputs": [],
   "source": [
    "###################################\n",
    "# Evaluate the model\n",
    "###################################\n",
    "source_test_label_accuracy, source_test_label_loss = jig.test(datasets.source.processed.test)\n",
    "target_test_label_accuracy, target_test_label_loss = jig.test(datasets.target.processed.test)\n",
    "\n",
    "source_val_label_accuracy, source_val_label_loss = jig.test(datasets.source.processed.val)\n",
    "target_val_label_accuracy, target_val_label_loss = jig.test(datasets.target.processed.val)\n",
    "\n",
    "history = jig.get_history()\n",
    "\n",
    "total_epochs_trained = len(history[\"epoch_indices\"])\n",
    "\n",
    "val_dl = Iterable_Aggregator((datasets.source.original.val,datasets.target.original.val))\n",
    "\n",
    "confusion = ptn_confusion_by_domain_over_dataloader(model, p.device, val_dl)\n",
    "per_domain_accuracy = per_domain_accuracy_from_confusion(confusion)\n",
    "\n",
    "# Add a key to per_domain_accuracy for if it was a source domain\n",
    "for domain, accuracy in per_domain_accuracy.items():\n",
    "    per_domain_accuracy[domain] = {\n",
    "        \"accuracy\": accuracy,\n",
    "        \"source?\": domain in p.domains_source\n",
    "    }\n",
    "\n",
    "# Do an independent accuracy assesment JUST TO BE SURE!\n",
    "# _source_test_label_accuracy = independent_accuracy_assesment(model, datasets.source.processed.test, p.device)\n",
    "# _target_test_label_accuracy = independent_accuracy_assesment(model, datasets.target.processed.test, p.device)\n",
    "# _source_val_label_accuracy = independent_accuracy_assesment(model, datasets.source.processed.val, p.device)\n",
    "# _target_val_label_accuracy = independent_accuracy_assesment(model, datasets.target.processed.val, p.device)\n",
    "\n",
    "# assert(_source_test_label_accuracy == source_test_label_accuracy)\n",
    "# assert(_target_test_label_accuracy == target_test_label_accuracy)\n",
    "# assert(_source_val_label_accuracy == source_val_label_accuracy)\n",
    "# assert(_target_val_label_accuracy == target_val_label_accuracy)\n",
    "\n",
    "experiment = {\n",
    "    \"experiment_name\": p.experiment_name,\n",
    "    \"parameters\": dict(p),\n",
    "    \"results\": {\n",
    "        \"source_test_label_accuracy\": source_test_label_accuracy,\n",
    "        \"source_test_label_loss\": source_test_label_loss,\n",
    "        \"target_test_label_accuracy\": target_test_label_accuracy,\n",
    "        \"target_test_label_loss\": target_test_label_loss,\n",
    "        \"source_val_label_accuracy\": source_val_label_accuracy,\n",
    "        \"source_val_label_loss\": source_val_label_loss,\n",
    "        \"target_val_label_accuracy\": target_val_label_accuracy,\n",
    "        \"target_val_label_loss\": target_val_label_loss,\n",
    "        \"total_epochs_trained\": total_epochs_trained,\n",
    "        \"total_experiment_time_secs\": total_experiment_time_secs,\n",
    "        \"confusion\": confusion,\n",
    "        \"per_domain_accuracy\": per_domain_accuracy,\n",
    "    },\n",
    "    \"history\": history,\n",
    "    \"dataset_metrics\": get_dataset_metrics(datasets, \"ptn\"),\n",
    "}"
   ]
  },
  {
   "cell_type": "code",
   "execution_count": 25,
   "id": "54a21829",
   "metadata": {
    "execution": {
     "iopub.execute_input": "2022-03-23T06:12:31.590236Z",
     "iopub.status.busy": "2022-03-23T06:12:31.589684Z",
     "iopub.status.idle": "2022-03-23T06:12:31.808264Z",
     "shell.execute_reply": "2022-03-23T06:12:31.807553Z"
    },
    "papermill": {
     "duration": 0.260977,
     "end_time": "2022-03-23T06:12:31.808429",
     "exception": false,
     "start_time": "2022-03-23T06:12:31.547452",
     "status": "completed"
    },
    "tags": []
   },
   "outputs": [
    {
     "data": {
      "image/png": "[encoded data removed]",
      "text/plain": [
       "<Figure size 1080x504 with 1 Axes>"
      ]
     },
     "metadata": {
      "needs_background": "light"
     },
     "output_type": "display_data"
    }
   ],
   "source": [
    "ax = get_loss_curve(experiment)\n",
    "plt.show()"
   ]
  },
  {
   "cell_type": "code",
   "execution_count": 26,
   "id": "fd8a0f60",
   "metadata": {
    "execution": {
     "iopub.execute_input": "2022-03-23T06:12:31.893782Z",
     "iopub.status.busy": "2022-03-23T06:12:31.893412Z",
     "iopub.status.idle": "2022-03-23T06:12:32.281020Z",
     "shell.execute_reply": "2022-03-23T06:12:32.281704Z"
    },
    "papermill": {
     "duration": 0.4303,
     "end_time": "2022-03-23T06:12:32.281920",
     "exception": false,
     "start_time": "2022-03-23T06:12:31.851620",
     "status": "completed"
    },
    "tags": []
   },
   "outputs": [
    {
     "data": {
      "text/plain": [
       "<AxesSubplot:title={'center':'Results'}>"
      ]
     },
     "execution_count": 26,
     "metadata": {},
     "output_type": "execute_result"
    },
    {
     "data": {
      "image/png": "[encoded data removed]",
      "text/plain": [
       "<Figure size 1080x504 with 1 Axes>"
      ]
     },
     "metadata": {
      "needs_background": "light"
     },
     "output_type": "display_data"
    }
   ],
   "source": [
    "get_results_table(experiment)"
   ]
  },
  {
   "cell_type": "code",
   "execution_count": 27,
   "id": "cf8dc689",
   "metadata": {
    "execution": {
     "iopub.execute_input": "2022-03-23T06:12:32.374733Z",
     "iopub.status.busy": "2022-03-23T06:12:32.374371Z",
     "iopub.status.idle": "2022-03-23T06:12:32.630138Z",
     "shell.execute_reply": "2022-03-23T06:12:32.630785Z"
    },
    "papermill": {
     "duration": 0.29986,
     "end_time": "2022-03-23T06:12:32.630976",
     "exception": false,
     "start_time": "2022-03-23T06:12:32.331116",
     "status": "completed"
    },
    "tags": []
   },
   "outputs": [
    {
     "data": {
      "text/plain": [
       "<AxesSubplot:title={'center':'Per Domain Validation Accuracy'}, xlabel='domain'>"
      ]
     },
     "execution_count": 27,
     "metadata": {},
     "output_type": "execute_result"
    },
    {
     "data": {
      "image/png": "[encoded data removed]",
      "text/plain": [
       "<Figure size 1080x504 with 1 Axes>"
      ]
     },
     "metadata": {
      "needs_background": "light"
     },
     "output_type": "display_data"
    }
   ],
   "source": [
    "get_domain_accuracies(experiment)"
   ]
  },
  {
   "cell_type": "code",
   "execution_count": 28,
   "id": "a74ae082",
   "metadata": {
    "execution": {
     "iopub.execute_input": "2022-03-23T06:12:32.725820Z",
     "iopub.status.busy": "2022-03-23T06:12:32.725444Z",
     "iopub.status.idle": "2022-03-23T06:12:32.753561Z",
     "shell.execute_reply": "2022-03-23T06:12:32.752764Z"
    },
    "papermill": {
     "duration": 0.074977,
     "end_time": "2022-03-23T06:12:32.753714",
     "exception": false,
     "start_time": "2022-03-23T06:12:32.678737",
     "status": "completed"
    },
    "tags": []
   },
   "outputs": [
    {
     "name": "stdout",
     "output_type": "stream",
     "text": [
      "Source Test Label Accuracy: 0.9609294208893485 Target Test Label Accuracy: 0.1171875\n",
      "Source Val Label Accuracy: 0.9614978902953587 Target Val Label Accuracy: 0.1158203125\n"
     ]
    }
   ],
   "source": [
    "print(\"Source Test Label Accuracy:\", experiment[\"results\"][\"source_test_label_accuracy\"], \"Target Test Label Accuracy:\", experiment[\"results\"][\"target_test_label_accuracy\"])\n",
    "print(\"Source Val Label Accuracy:\", experiment[\"results\"][\"source_val_label_accuracy\"], \"Target Val Label Accuracy:\", experiment[\"results\"][\"target_val_label_accuracy\"])"
   ]
  },
  {
   "cell_type": "code",
   "execution_count": 29,
   "id": "dacca602",
   "metadata": {
    "execution": {
     "iopub.execute_input": "2022-03-23T06:12:32.849554Z",
     "iopub.status.busy": "2022-03-23T06:12:32.849183Z",
     "iopub.status.idle": "2022-03-23T06:12:32.878716Z",
     "shell.execute_reply": "2022-03-23T06:12:32.879394Z"
    },
    "papermill": {
     "duration": 0.076752,
     "end_time": "2022-03-23T06:12:32.879605",
     "exception": false,
     "start_time": "2022-03-23T06:12:32.802853",
     "status": "completed"
    },
    "tags": [
     "experiment_json"
    ]
   },
   "outputs": [
    {
     "data": {
      "text/plain": [
       "'{\"experiment_name\": \"tl_1v2:wisig-oracle.run1.limited\", \"parameters\": {\"experiment_name\": \"tl_1v2:wisig-oracle.run1.limited\", \"device\": \"cuda\", \"lr\": 0.0001, \"n_shot\": 3, \"n_query\": 2, \"train_k_factor\": 3, \"val_k_factor\": 2, \"test_k_factor\": 2, \"torch_default_dtype\": \"torch.float32\", \"n_epoch\": 50, \"patience\": 3, \"criteria_for_best\": \"target_accuracy\", \"x_net\": [{\"class\": \"nnReshape\", \"kargs\": {\"shape\": [-1, 1, 2, 256]}}, {\"class\": \"Conv2d\", \"kargs\": {\"in_channels\": 1, \"out_channels\": 256, \"kernel_size\": [1, 7], \"bias\": false, \"padding\": [0, 3]}}, {\"class\": \"ReLU\", \"kargs\": {\"inplace\": true}}, {\"class\": \"BatchNorm2d\", \"kargs\": {\"num_features\": 256}}, {\"class\": \"Conv2d\", \"kargs\": {\"in_channels\": 256, \"out_channels\": 80, \"kernel_size\": [2, 7], \"bias\": true, \"padding\": [0, 3]}}, {\"class\": \"ReLU\", \"kargs\": {\"inplace\": true}}, {\"class\": \"BatchNorm2d\", \"kargs\": {\"num_features\": 80}}, {\"class\": \"Flatten\", \"kargs\": {}}, {\"class\": \"Linear\", \"kargs\": {\"in_features\": 20480, \"out_features\": 256}}, {\"class\": \"ReLU\", \"kargs\": {\"inplace\": true}}, {\"class\": \"BatchNorm1d\", \"kargs\": {\"num_features\": 256}}, {\"class\": \"Linear\", \"kargs\": {\"in_features\": 256, \"out_features\": 256}}], \"NUM_LOGS_PER_EPOCH\": 10, \"BEST_MODEL_PATH\": \"./best_model.pth\", \"n_way\": 16, \"datasets\": [{\"labels\": [\"1-10\", \"1-12\", \"1-14\", \"1-16\", \"1-18\", \"1-19\", \"1-8\", \"10-11\", \"10-17\", \"10-4\", \"10-7\", \"11-1\", \"11-10\", \"11-19\", \"11-20\", \"11-4\", \"11-7\", \"12-19\", \"12-20\", \"12-7\", \"13-14\", \"13-18\", \"13-19\", \"13-20\", \"13-3\", \"13-7\", \"14-10\", \"14-11\", \"14-12\", \"14-13\", \"14-14\", \"14-19\", \"14-20\", \"14-7\", \"14-8\", \"14-9\", \"15-1\", \"15-19\", \"15-6\", \"16-1\", \"16-16\", \"16-19\", \"16-20\", \"17-10\", \"17-11\", \"18-1\", \"18-10\", \"18-11\", \"18-12\", \"18-13\", \"18-14\", \"18-15\", \"18-16\", \"18-17\", \"18-19\", \"18-2\", \"18-20\", \"18-4\", \"18-5\", \"18-7\", \"18-8\", \"18-9\", \"19-1\", \"19-10\", \"19-11\", \"19-12\", \"19-13\", \"19-14\", \"19-15\", \"19-19\", \"19-2\", \"19-20\", \"19-3\", \"19-4\", \"19-6\", \"19-7\", \"19-8\", \"19-9\", \"2-1\", \"2-13\", \"2-15\", \"2-3\", \"2-4\", \"2-5\", \"2-6\", \"2-7\", \"2-8\", \"20-1\", \"20-12\", \"20-14\", \"20-15\", \"20-16\", \"20-18\", \"20-19\", \"20-20\", \"20-3\", \"20-4\", \"20-5\", \"20-7\", \"20-8\", \"3-1\", \"3-13\", \"3-18\", \"3-2\", \"3-8\", \"4-1\", \"4-10\", \"4-11\", \"5-1\", \"5-5\", \"6-1\", \"6-15\", \"6-6\", \"7-10\", \"7-11\", \"7-12\", \"7-13\", \"7-14\", \"7-7\", \"7-8\", \"7-9\", \"8-1\", \"8-13\", \"8-14\", \"8-18\", \"8-20\", \"8-3\", \"8-8\", \"9-1\", \"9-7\"], \"domains\": [1, 2, 3, 4], \"num_examples_per_domain_per_label\": -1, \"pickle_path\": \"/root/csc500-main/datasets/wisig.node3-19.stratified_ds.2022A.pkl\", \"source_or_target_dataset\": \"source\", \"x_transforms\": [\"unit_power\"], \"episode_transforms\": [], \"domain_prefix\": \"Wisig_\"}, {\"labels\": [\"3123D52\", \"3123D65\", \"3123D79\", \"3123D80\", \"3123D54\", \"3123D70\", \"3123D7B\", \"3123D89\", \"3123D58\", \"3123D76\", \"3123D7D\", \"3123EFE\", \"3123D64\", \"3123D78\", \"3123D7E\", \"3124E4A\"], \"domains\": [32, 38, 8, 44, 14, 50, 20, 26], \"num_examples_per_domain_per_label\": 2000, \"pickle_path\": \"/root/csc500-main/datasets/oracle.Run1_10kExamples_stratified_ds.2022A.pkl\", \"source_or_target_dataset\": \"target\", \"x_transforms\": [\"unit_power\"], \"episode_transforms\": [], \"domain_prefix\": \"ORACLE.run1\"}], \"dataset_seed\": 500, \"seed\": 500, \"x_shape\": [2, 256], \"domains_source\": [\"Wisig_1\", \"Wisig_2\", \"Wisig_3\", \"Wisig_4\"], \"domains_target\": [\"ORACLE.run132\", \"ORACLE.run138\", \"ORACLE.run18\", \"ORACLE.run144\", \"ORACLE.run114\", \"ORACLE.run150\", \"ORACLE.run120\", \"ORACLE.run126\"]}, \"results\": {\"source_test_label_accuracy\": 0.9609294208893485, \"source_test_label_loss\": 0.1722998470067978, \"target_test_label_accuracy\": 0.1171875, \"target_test_label_loss\": 2.6995792388916016, \"source_val_label_accuracy\": 0.9614978902953587, \"source_val_label_loss\": 0.16439063847064972, \"target_val_label_accuracy\": 0.1158203125, \"target_val_label_loss\": 2.7023372650146484, \"total_epochs_trained\": 5, \"total_experiment_time_secs\": 1124.4835107326508, \"confusion\": {\"Wisig_3\": {\"99\": {\"99\": 34, \"25\": 1, \"112\": 1}, \"8\": {\"8\": 124}, \"65\": {\"39\": 1, \"65\": 11}, \"117\": {\"117\": 110, \"39\": 1, \"3\": 1}, \"18\": {\"18\": 123, \"39\": 1}, \"39\": {\"39\": 107, \"16\": 1}, \"102\": {\"102\": 124}, \"76\": {\"47\": 1, \"76\": 15}, \"101\": {\"101\": 51, \"114\": 1}, \"57\": {\"57\": 20}, \"86\": {\"86\": 27, \"101\": 1}, \"11\": {\"11\": 129, \"110\": 2, \"70\": 1}, \"98\": {\"98\": 128}, \"42\": {\"42\": 23, \"49\": 3, \"53\": 1, \"88\": 1}, \"47\": {\"47\": 12}, \"49\": {\"42\": 2, \"49\": 21, \"70\": 1}, \"111\": {\"111\": 131, \"26\": 1}, \"36\": {\"36\": 111, \"27\": 5}, \"124\": {\"124\": 104, \"89\": 1, \"90\": 1}, \"122\": {\"122\": 55, \"21\": 1, \"18\": 2, \"70\": 2}, \"93\": {\"93\": 142}, \"89\": {\"89\": 28}, \"51\": {\"51\": 16}, \"73\": {\"73\": 40}, \"45\": {\"45\": 16}, \"5\": {\"5\": 107, \"18\": 1, \"71\": 1, \"93\": 1, \"101\": 1, \"125\": 1}, \"69\": {\"69\": 82, \"113\": 1, \"106\": 1}, \"26\": {\"26\": 130}, \"1\": {\"1\": 107, \"21\": 1}, \"92\": {\"92\": 32}, \"96\": {\"96\": 20}, \"85\": {\"85\": 36}, \"114\": {\"114\": 125, \"128\": 1}, \"50\": {\"50\": 16}, \"81\": {\"81\": 32}, \"2\": {\"2\": 26, \"92\": 1, \"26\": 1}, \"33\": {\"33\": 145, \"21\": 1}, \"31\": {\"31\": 20}, \"90\": {\"90\": 116, \"98\": 1, \"125\": 1}, \"17\": {\"86\": 2, \"23\": 3, \"63\": 1, \"43\": 1, \"17\": 6, \"75\": 1, \"73\": 1, \"105\": 1}, \"116\": {\"116\": 24, \"60\": 1, \"33\": 1, \"92\": 1, \"82\": 1}, \"91\": {\"91\": 23, \"12\": 1}, \"120\": {\"120\": 20}, \"128\": {\"128\": 26, \"91\": 1, \"19\": 2, \"30\": 2, \"29\": 1}, \"78\": {\"128\": 1, \"17\": 1, \"78\": 10, \"84\": 1, \"5\": 1, \"92\": 1, \"62\": 1}, \"58\": {\"58\": 16}, \"23\": {\"23\": 25, \"60\": 4, \"52\": 1, \"70\": 1, \"19\": 1}, \"15\": {\"15\": 102, \"10\": 1, \"21\": 1}, \"74\": {\"74\": 16}, \"34\": {\"34\": 24, \"6\": 2, \"82\": 1, \"125\": 1, \"66\": 1, \"43\": 1, \"91\": 2}, \"103\": {\"103\": 16}, \"106\": {\"106\": 100}, \"44\": {\"44\": 70, \"64\": 1, \"113\": 1}, \"9\": {\"9\": 30, \"2\": 1, \"80\": 1}, \"97\": {\"97\": 20}, \"123\": {\"123\": 14, \"86\": 1, \"47\": 1}, \"6\": {\"6\": 26, \"98\": 3, \"34\": 2, \"91\": 1}, \"68\": {\"68\": 16}, \"24\": {\"24\": 45, \"27\": 2, \"36\": 1}, \"21\": {\"21\": 44, \"92\": 1, \"81\": 1, \"23\": 1, \"17\": 1}, \"83\": {\"83\": 22, \"70\": 1, \"61\": 1}, \"60\": {\"60\": 25, \"19\": 1, \"28\": 1, \"110\": 1}, \"87\": {\"87\": 120}, \"30\": {\"30\": 79, \"116\": 1, \"98\": 1, \"94\": 1, \"73\": 1, \"69\": 1}, \"43\": {\"43\": 51, \"33\": 2, \"73\": 1, \"21\": 2}, \"115\": {\"115\": 16}, \"40\": {\"40\": 119, \"62\": 1}, \"112\": {\"112\": 14, \"48\": 1, \"92\": 1}, \"66\": {\"66\": 16}, \"110\": {\"110\": 91, \"73\": 1}, \"3\": {\"3\": 112, \"94\": 1, \"12\": 1}, \"20\": {\"20\": 16}, \"28\": {\"28\": 16}, \"84\": {\"84\": 104, \"26\": 3, \"109\": 1}, \"79\": {\"79\": 12}, \"118\": {\"118\": 97, \"113\": 1, \"70\": 1, \"5\": 1}, \"56\": {\"56\": 10, \"98\": 1, \"21\": 1}, \"48\": {\"48\": 10, \"20\": 2, \"13\": 1, \"87\": 1, \"37\": 1, \"79\": 1}, \"77\": {\"77\": 16}, \"14\": {\"14\": 80}, \"64\": {\"64\": 20}, \"67\": {\"67\": 15, \"39\": 1}, \"62\": {\"62\": 124}, \"75\": {\"75\": 16}, \"63\": {\"63\": 13, \"19\": 1, \"110\": 1, \"60\": 1}, \"7\": {\"7\": 112}, \"125\": {\"125\": 101, \"113\": 1, \"23\": 1, \"98\": 1}, \"37\": {\"37\": 16}, \"121\": {\"121\": 23, \"23\": 1, \"13\": 1, \"27\": 1, \"19\": 1, \"82\": 1, \"48\": 1, \"113\": 1, \"18\": 1, \"81\": 1}, \"16\": {\"16\": 101, \"113\": 1, \"94\": 2}, \"35\": {\"35\": 11, \"70\": 1}, \"32\": {\"32\": 30, \"57\": 1, \"14\": 1}, \"46\": {\"46\": 16}, \"70\": {\"70\": 68, \"30\": 1, \"71\": 1, \"67\": 1, \"81\": 1}, \"129\": {\"129\": 31, \"110\": 1}, \"95\": {\"95\": 31, \"3\": 1}, \"72\": {\"72\": 28}, \"19\": {\"19\": 32}, \"52\": {\"52\": 16}, \"100\": {\"100\": 14, \"69\": 1, \"11\": 1}, \"104\": {\"104\": 16}, \"59\": {\"59\": 12}, \"109\": {\"109\": 126}, \"88\": {\"88\": 107, \"81\": 1}, \"27\": {\"27\": 84, \"21\": 1, \"36\": 6, \"94\": 2, \"110\": 1}, \"113\": {\"113\": 118, \"127\": 1, \"82\": 1}, \"105\": {\"105\": 124}, \"71\": {\"71\": 67, \"39\": 1}, \"108\": {\"108\": 122, \"70\": 1, \"69\": 1}, \"41\": {\"41\": 16}, \"80\": {\"80\": 15, \"19\": 1}, \"13\": {\"44\": 1, \"13\": 7, \"18\": 2, \"115\": 1, \"118\": 2, \"48\": 1, \"120\": 1, \"21\": 1}, \"55\": {\"55\": 16}, \"0\": {\"0\": 103, \"39\": 1, \"98\": 2}, \"25\": {\"25\": 16}, \"53\": {\"53\": 20}, \"61\": {\"61\": 16}, \"38\": {\"38\": 16}, \"127\": {\"127\": 124, \"49\": 1, \"39\": 1, \"113\": 1, \"84\": 1}, \"4\": {\"4\": 94, \"18\": 1, \"26\": 1}, \"12\": {\"12\": 104}, \"126\": {\"126\": 121, \"88\": 1, \"70\": 1, \"18\": 1}, \"29\": {\"29\": 32}, \"107\": {\"107\": 136}, \"82\": {\"82\": 28}, \"94\": {\"94\": 83, \"18\": 1}, \"54\": {\"54\": 16}, \"10\": {\"10\": 127, \"106\": 1}, \"22\": {\"22\": 16}, \"119\": {\"119\": 16}}, \"Wisig_2\": {\"73\": {\"73\": 27, \"96\": 1}, \"40\": {\"40\": 128, \"69\": 1, \"16\": 1, \"3\": 1, \"26\": 1}, \"99\": {\"99\": 29, \"48\": 2, \"27\": 1}, \"5\": {\"5\": 107, \"69\": 1, \"105\": 1, \"39\": 1, \"88\": 1, \"106\": 1}, \"108\": {\"108\": 132}, \"128\": {\"53\": 1, \"128\": 14, \"29\": 2, \"71\": 2, \"5\": 2, \"19\": 1, \"17\": 1, \"0\": 1}, \"89\": {\"89\": 35, \"40\": 1}, \"107\": {\"107\": 47, \"128\": 1, \"94\": 2, \"4\": 3, \"21\": 2, \"2\": 1, \"70\": 1, \"59\": 1, \"71\": 1, \"118\": 1, \"110\": 2, \"101\": 1, \"40\": 1}, \"2\": {\"2\": 27, \"113\": 1, \"89\": 1, \"93\": 2, \"39\": 1}, \"78\": {\"78\": 42, \"21\": 3, \"43\": 1, \"70\": 2}, \"85\": {\"85\": 32}, \"44\": {\"44\": 100}, \"58\": {\"58\": 20}, \"57\": {\"57\": 18, \"10\": 1, \"87\": 1}, \"41\": {\"41\": 19, \"13\": 1}, \"53\": {\"53\": 16}, \"14\": {\"14\": 40, \"93\": 1, \"24\": 1, \"10\": 1, \"2\": 1, \"94\": 1, \"74\": 1, \"21\": 1, \"71\": 1}, \"83\": {\"83\": 38, \"69\": 1, \"118\": 1}, \"119\": {\"119\": 20}, \"95\": {\"95\": 35, \"87\": 1}, \"28\": {\"28\": 19, \"24\": 1}, \"19\": {\"19\": 28}, \"69\": {\"69\": 125, \"105\": 2, \"3\": 2, \"13\": 1, \"7\": 1, \"40\": 1}, \"93\": {\"93\": 132, \"58\": 1, \"109\": 1}, \"9\": {\"9\": 32}, \"118\": {\"118\": 66, \"14\": 1, \"1\": 1}, \"43\": {\"43\": 112, \"60\": 1, \"14\": 1, \"94\": 1, \"105\": 1}, \"47\": {\"47\": 12}, \"125\": {\"125\": 144}, \"29\": {\"29\": 32}, \"122\": {\"122\": 134, \"12\": 1, \"40\": 1, \"70\": 1, \"105\": 1, \"11\": 1, \"26\": 1}, \"46\": {\"46\": 16}, \"86\": {\"86\": 32}, \"70\": {\"70\": 108, \"87\": 1, \"84\": 1, \"60\": 2, \"93\": 1, \"21\": 3, \"107\": 1, \"122\": 1, \"18\": 1, \"19\": 1, \"110\": 1, \"3\": 1, \"15\": 1, \"7\": 1}, \"51\": {\"51\": 17, \"21\": 2, \"10\": 1}, \"23\": {\"23\": 31, \"8\": 1, \"49\": 1, \"121\": 1, \"29\": 2, \"82\": 1, \"70\": 2, \"12\": 1, \"77\": 1, \"110\": 1, \"44\": 2}, \"121\": {\"121\": 31, \"113\": 1, \"23\": 1, \"89\": 1, \"9\": 1, \"83\": 1}, \"63\": {\"46\": 1, \"63\": 17, \"13\": 1, \"87\": 1}, \"102\": {\"102\": 121, \"40\": 1}, \"21\": {\"21\": 46, \"26\": 1, \"39\": 1}, \"55\": {\"55\": 15, \"116\": 1}, \"54\": {\"54\": 20}, \"6\": {\"6\": 30, \"58\": 1, \"34\": 1}, \"109\": {\"109\": 92, \"81\": 1, \"118\": 2, \"75\": 1, \"107\": 1, \"88\": 1, \"110\": 1, \"39\": 1}, \"64\": {\"128\": 1, \"64\": 15}, \"20\": {\"20\": 16}, \"98\": {\"98\": 112, \"13\": 1, \"69\": 1}, \"92\": {\"92\": 26, \"75\": 1, \"31\": 1}, \"35\": {\"35\": 12}, \"113\": {\"113\": 65, \"128\": 1, \"109\": 1, \"19\": 1, \"24\": 1, \"39\": 1, \"21\": 1, \"11\": 1}, \"71\": {\"71\": 96, \"118\": 1, \"13\": 1, \"87\": 2}, \"94\": {\"94\": 56, \"71\": 1, \"87\": 2, \"51\": 1, \"26\": 2, \"11\": 1, \"74\": 1}, \"52\": {\"52\": 19, \"70\": 1}, \"116\": {\"116\": 24, \"87\": 1, \"34\": 1, \"96\": 1, \"82\": 1}, \"87\": {\"87\": 106, \"94\": 1, \"43\": 2, \"19\": 1, \"105\": 1, \"117\": 1}, \"90\": {\"90\": 147, \"26\": 1}, \"91\": {\"91\": 28}, \"84\": {\"84\": 87, \"71\": 1, \"107\": 1, \"7\": 1, \"11\": 1, \"1\": 1}, \"24\": {\"24\": 103, \"11\": 1, \"27\": 2, \"94\": 1, \"70\": 1, \"0\": 1, \"106\": 1, \"117\": 1, \"30\": 1}, \"33\": {\"33\": 131, \"87\": 1, \"69\": 1, \"40\": 1}, \"81\": {\"81\": 23, \"107\": 1}, \"115\": {\"115\": 9, \"104\": 1, \"13\": 1, \"34\": 1}, \"77\": {\"77\": 16}, \"106\": {\"106\": 117, \"21\": 1, \"87\": 1, \"14\": 1}, \"42\": {\"42\": 23, \"114\": 1, \"122\": 1, \"59\": 1, \"112\": 1, \"61\": 1}, \"38\": {\"38\": 16}, \"36\": {\"24\": 1, \"36\": 105, \"68\": 1, \"14\": 1, \"2\": 1, \"39\": 1, \"105\": 1, \"113\": 1, \"87\": 1, \"69\": 1}, \"79\": {\"79\": 16}, \"60\": {\"116\": 1, \"60\": 21, \"107\": 1, \"48\": 2, \"89\": 1, \"83\": 1, \"87\": 1}, \"80\": {\"80\": 15, \"29\": 1}, \"32\": {\"32\": 34, \"14\": 2}, \"0\": {\"0\": 116}, \"127\": {\"127\": 120, \"111\": 3, \"24\": 1}, \"114\": {\"114\": 114, \"13\": 1, \"109\": 1}, \"62\": {\"62\": 138, \"21\": 1, \"26\": 1}, \"129\": {\"129\": 32}, \"56\": {\"56\": 12}, \"76\": {\"76\": 16}, \"72\": {\"72\": 26, \"21\": 1, \"115\": 1}, \"88\": {\"88\": 121, \"71\": 1, \"11\": 1, \"83\": 1}, \"68\": {\"68\": 14, \"71\": 1, \"81\": 1}, \"67\": {\"67\": 13, \"82\": 1, \"75\": 2}, \"100\": {\"100\": 16}, \"34\": {\"34\": 19, \"14\": 1, \"86\": 2, \"91\": 2, \"21\": 1, \"92\": 1, \"32\": 1, \"13\": 1, \"52\": 2, \"66\": 1, \"82\": 1}, \"16\": {\"16\": 123, \"70\": 1}, \"126\": {\"126\": 120}, \"4\": {\"4\": 84, \"120\": 1, \"14\": 1, \"39\": 1, \"107\": 1}, \"101\": {\"101\": 146}, \"104\": {\"104\": 18, \"88\": 1, \"39\": 1}, \"30\": {\"67\": 1, \"30\": 105, \"0\": 2, \"71\": 1, \"40\": 1}, \"8\": {\"8\": 126, \"66\": 1, \"117\": 1}, \"82\": {\"82\": 34, \"75\": 1, \"15\": 1}, \"26\": {\"26\": 129, \"87\": 1, \"113\": 1, \"24\": 1, \"39\": 1, \"23\": 1, \"69\": 1, \"1\": 1, \"62\": 1, \"40\": 1}, \"96\": {\"96\": 19, \"72\": 1}, \"3\": {\"3\": 133, \"39\": 1, \"16\": 1, \"24\": 1}, \"25\": {\"25\": 14, \"21\": 1, \"78\": 1}, \"13\": {\"13\": 11, \"21\": 1, \"3\": 1, \"49\": 1, \"82\": 2}, \"37\": {\"37\": 15, \"13\": 1}, \"49\": {\"49\": 16, \"53\": 1, \"81\": 1, \"11\": 3, \"19\": 1, \"61\": 1, \"39\": 1}, \"111\": {\"111\": 136}, \"105\": {\"105\": 131, \"7\": 1}, \"17\": {\"17\": 13, \"42\": 1, \"87\": 1, \"70\": 1}, \"65\": {\"65\": 18, \"60\": 1, \"73\": 1}, \"123\": {\"123\": 15, \"22\": 1}, \"74\": {\"74\": 14, \"11\": 1, \"17\": 1}, \"97\": {\"97\": 16, \"122\": 1, \"32\": 1, \"109\": 1, \"91\": 1}, \"112\": {\"112\": 13, \"3\": 1, \"59\": 1, \"108\": 1}, \"120\": {\"120\": 20}, \"50\": {\"50\": 14, \"29\": 1, \"80\": 1}, \"59\": {\"59\": 15, \"24\": 1}, \"10\": {\"10\": 56, \"81\": 1, \"12\": 1, \"49\": 1, \"7\": 1}, \"45\": {\"45\": 15, \"107\": 1}, \"12\": {\"12\": 84, \"21\": 1, \"78\": 1, \"87\": 1, \"111\": 1}, \"75\": {\"75\": 15, \"30\": 1}, \"48\": {\"48\": 20}, \"61\": {\"61\": 17, \"10\": 1, \"71\": 1, \"94\": 1}, \"124\": {\"124\": 123, \"26\": 1}, \"11\": {\"11\": 77, \"117\": 1, \"126\": 1, \"69\": 1}, \"103\": {\"103\": 14, \"31\": 1, \"109\": 1}, \"7\": {\"7\": 128, \"109\": 1, \"110\": 1, \"39\": 1, \"100\": 1}, \"18\": {\"18\": 117, \"26\": 2, \"71\": 1}, \"31\": {\"31\": 19, \"118\": 1}, \"15\": {\"15\": 116, \"122\": 1, \"3\": 1}, \"1\": {\"1\": 119, \"94\": 1, \"39\": 1, \"75\": 1}, \"66\": {\"66\": 19, \"72\": 1}, \"110\": {\"110\": 31, \"114\": 1, \"94\": 1, \"24\": 2, \"122\": 2, \"18\": 1, \"27\": 1, \"87\": 1}, \"27\": {\"27\": 56, \"58\": 1, \"94\": 1, \"24\": 1, \"11\": 3, \"71\": 1, \"110\": 1, \"36\": 2, \"10\": 1, \"26\": 1}, \"22\": {\"22\": 18, \"3\": 1, \"75\": 1}, \"117\": {\"117\": 117, \"30\": 1, \"15\": 2}, \"39\": {\"39\": 107, \"26\": 1}}, \"Wisig_1\": {\"60\": {\"60\": 10, \"34\": 2, \"83\": 1, \"109\": 1, \"119\": 1, \"23\": 1}, \"59\": {\"60\": 1, \"59\": 10, \"28\": 1}, \"107\": {\"107\": 121, \"12\": 1, \"4\": 1, \"84\": 1}, \"113\": {\"113\": 123, \"69\": 1}, \"6\": {\"6\": 25, \"49\": 1, \"12\": 1, \"98\": 1, \"46\": 1, \"59\": 1, \"23\": 1, \"51\": 1}, \"24\": {\"24\": 87, \"108\": 2, \"73\": 1, \"88\": 1, \"3\": 1}, \"50\": {\"50\": 15, \"30\": 1}, \"62\": {\"62\": 119, \"1\": 1}, \"48\": {\"48\": 12}, \"104\": {\"104\": 16}, \"105\": {\"105\": 75, \"40\": 7, \"65\": 1, \"88\": 1}, \"44\": {\"44\": 76}, \"49\": {\"49\": 14, \"111\": 1, \"101\": 2, \"70\": 1, \"128\": 2}, \"55\": {\"55\": 12}, \"4\": {\"4\": 100}, \"76\": {\"76\": 16}, \"85\": {\"85\": 32}, \"89\": {\"89\": 36}, \"74\": {\"74\": 16}, \"112\": {\"112\": 16}, \"79\": {\"79\": 12}, \"0\": {\"0\": 83, \"112\": 1}, \"91\": {\"91\": 25, \"75\": 1, \"61\": 2}, \"118\": {\"118\": 83, \"94\": 1}, \"80\": {\"80\": 16}, \"64\": {\"64\": 16}, \"97\": {\"97\": 17, \"88\": 3}, \"84\": {\"84\": 124}, \"38\": {\"38\": 16}, \"30\": {\"30\": 51, \"52\": 1}, \"32\": {\"32\": 28, \"65\": 1, \"110\": 1, \"86\": 1, \"69\": 1}, \"72\": {\"72\": 32}, \"33\": {\"33\": 130, \"14\": 1, \"70\": 1}, \"34\": {\"34\": 25, \"46\": 1, \"91\": 1, \"98\": 3, \"14\": 1, \"86\": 1}, \"28\": {\"28\": 20}, \"123\": {\"123\": 15, \"83\": 1}, \"2\": {\"2\": 23, \"83\": 1, \"95\": 2, \"129\": 1, \"42\": 1, \"13\": 1, \"82\": 1, \"114\": 1, \"12\": 1}, \"70\": {\"70\": 120, \"128\": 2, \"108\": 1, \"12\": 1}, \"127\": {\"127\": 107, \"78\": 1}, \"110\": {\"110\": 125, \"39\": 1, \"113\": 1, \"69\": 1}, \"126\": {\"126\": 134, \"109\": 2}, \"13\": {\"13\": 16}, \"15\": {\"15\": 98, \"111\": 5, \"94\": 1}, \"29\": {\"29\": 28}, \"18\": {\"18\": 119, \"23\": 1}, \"7\": {\"7\": 142}, \"56\": {\"56\": 12}, \"98\": {\"98\": 108}, \"99\": {\"99\": 24}, \"77\": {\"77\": 15, \"20\": 1}, \"103\": {\"6\": 1, \"103\": 13, \"9\": 1, \"94\": 1}, \"128\": {\"128\": 19, \"49\": 1, \"72\": 2, \"42\": 1, \"5\": 1}, \"3\": {\"3\": 84, \"71\": 1, \"105\": 1, \"8\": 1, \"15\": 1}, \"121\": {\"121\": 32}, \"42\": {\"42\": 21, \"109\": 3, \"119\": 2, \"95\": 1, \"18\": 1}, \"90\": {\"90\": 120}, \"37\": {\"37\": 16}, \"120\": {\"128\": 1, \"120\": 17, \"21\": 1, \"127\": 1}, \"117\": {\"117\": 118}, \"9\": {\"9\": 32}, \"108\": {\"108\": 124}, \"83\": {\"83\": 27, \"128\": 1}, \"14\": {\"14\": 95, \"65\": 1}, \"63\": {\"63\": 16}, \"11\": {\"11\": 117, \"39\": 1}, \"95\": {\"95\": 36}, \"26\": {\"26\": 128, \"88\": 1, \"65\": 1}, \"22\": {\"22\": 15, \"98\": 1}, \"102\": {\"102\": 120}, \"69\": {\"69\": 101, \"94\": 1, \"39\": 3, \"88\": 1}, \"1\": {\"1\": 130}, \"67\": {\"67\": 16}, \"57\": {\"57\": 12}, \"8\": {\"8\": 132, \"40\": 1, \"49\": 1}, \"109\": {\"109\": 121, \"126\": 2, \"69\": 1}, \"129\": {\"129\": 25, \"13\": 1, \"19\": 1, \"2\": 1}, \"111\": {\"111\": 120}, \"71\": {\"71\": 102, \"102\": 2, \"109\": 1, \"113\": 2, \"124\": 1}, \"47\": {\"47\": 12}, \"82\": {\"82\": 35, \"128\": 1}, \"27\": {\"27\": 91, \"88\": 1}, \"19\": {\"19\": 28}, \"122\": {\"87\": 1, \"122\": 86, \"21\": 1}, \"53\": {\"53\": 20}, \"87\": {\"87\": 105, \"94\": 1, \"37\": 1, \"40\": 1}, \"100\": {\"100\": 16}, \"66\": {\"66\": 16}, \"31\": {\"31\": 16}, \"58\": {\"58\": 11, \"106\": 1}, \"68\": {\"68\": 16}, \"88\": {\"88\": 107, \"97\": 1, \"69\": 1, \"36\": 2, \"70\": 2, \"108\": 1}, \"45\": {\"45\": 5, \"44\": 1, \"109\": 2, \"124\": 1, \"95\": 1, \"120\": 1, \"14\": 1}, \"114\": {\"114\": 128}, \"23\": {\"58\": 4, \"23\": 18, \"65\": 1, \"34\": 1}, \"65\": {\"70\": 1, \"65\": 7, \"43\": 1, \"63\": 1, \"78\": 1, \"18\": 1}, \"124\": {\"124\": 118}, \"10\": {\"10\": 114, \"118\": 1, \"69\": 1, \"62\": 1, \"26\": 1, \"85\": 1, \"4\": 1}, \"92\": {\"92\": 28}, \"40\": {\"40\": 138, \"105\": 4, \"71\": 1, \"39\": 1}, \"73\": {\"73\": 18, \"94\": 1, \"30\": 1}, \"94\": {\"94\": 92}, \"81\": {\"81\": 28}, \"101\": {\"101\": 108, \"18\": 1, \"39\": 1}, \"86\": {\"86\": 33, \"69\": 2, \"2\": 1}, \"78\": {\"78\": 11, \"87\": 2, \"43\": 2, \"40\": 1}, \"96\": {\"96\": 20}, \"5\": {\"5\": 84, \"12\": 1, \"108\": 1, \"49\": 1, \"39\": 1}, \"16\": {\"16\": 104, \"10\": 1, \"21\": 1, \"88\": 1, \"69\": 1}, \"35\": {\"35\": 12}, \"51\": {\"51\": 16}, \"46\": {\"46\": 9, \"88\": 1, \"12\": 1, \"25\": 1}, \"20\": {\"20\": 16}, \"116\": {\"116\": 29, \"11\": 1, \"61\": 1, \"15\": 1}, \"75\": {\"75\": 16}, \"43\": {\"43\": 126, \"26\": 2}, \"17\": {\"17\": 16}, \"12\": {\"12\": 103, \"108\": 1}, \"25\": {\"25\": 16}, \"54\": {\"54\": 15, \"3\": 1}, \"36\": {\"36\": 107, \"127\": 1, \"113\": 1, \"88\": 2, \"71\": 1}, \"52\": {\"52\": 20}, \"61\": {\"61\": 12}, \"106\": {\"106\": 120}, \"39\": {\"39\": 100, \"10\": 1, \"62\": 1, \"21\": 1, \"87\": 1}, \"119\": {\"119\": 16}, \"125\": {\"125\": 148}, \"93\": {\"93\": 147, \"3\": 1}, \"115\": {\"115\": 12}, \"21\": {\"21\": 32, \"94\": 1, \"122\": 1, \"86\": 1, \"28\": 1, \"30\": 1, \"12\": 1, \"83\": 1, \"43\": 1}, \"41\": {\"41\": 16}}, \"Wisig_4\": {\"55\": {\"55\": 16}, \"9\": {\"9\": 28}, \"70\": {\"70\": 114, \"39\": 1, \"88\": 6, \"69\": 1}, \"112\": {\"112\": 16}, \"115\": {\"115\": 12, \"25\": 1, \"99\": 1, \"85\": 1, \"64\": 1}, \"56\": {\"56\": 11, \"72\": 1}, \"108\": {\"111\": 1, \"108\": 80, \"25\": 1, \"129\": 1, \"0\": 1, \"81\": 1, \"39\": 1, \"27\": 2, \"73\": 1, \"16\": 1, \"24\": 1, \"18\": 1}, \"117\": {\"117\": 122, \"110\": 1, \"100\": 1}, \"111\": {\"111\": 130, \"127\": 1, \"3\": 1}, \"71\": {\"71\": 93, \"67\": 1, \"114\": 3, \"26\": 1, \"122\": 1, \"36\": 1, \"113\": 1, \"118\": 1, \"10\": 1, \"126\": 1}, \"59\": {\"59\": 12}, \"10\": {\"10\": 122, \"15\": 1, \"84\": 1}, \"83\": {\"83\": 28}, \"116\": {\"116\": 28}, \"13\": {\"13\": 16}, \"4\": {\"4\": 103, \"126\": 1}, \"125\": {\"125\": 104, \"117\": 1, \"124\": 1}, \"102\": {\"102\": 122, \"105\": 1, \"26\": 1}, \"47\": {\"47\": 12}, \"28\": {\"28\": 20}, \"82\": {\"82\": 30, \"1\": 1, \"78\": 1}, \"60\": {\"60\": 32}, \"107\": {\"107\": 129, \"98\": 1, \"122\": 2, \"91\": 1, \"62\": 1}, \"75\": {\"75\": 16}, \"31\": {\"31\": 16}, \"92\": {\"92\": 28}, \"58\": {\"58\": 16}, \"113\": {\"113\": 125, \"84\": 1, \"26\": 1, \"1\": 1}, \"95\": {\"95\": 32}, \"14\": {\"14\": 109, \"126\": 1, \"111\": 1, \"118\": 1}, \"17\": {\"17\": 20}, \"104\": {\"104\": 16}, \"72\": {\"72\": 29, \"128\": 1, \"19\": 1, \"23\": 1}, \"69\": {\"69\": 124, \"88\": 1, \"21\": 1, \"39\": 1, \"84\": 1}, \"63\": {\"63\": 16}, \"12\": {\"12\": 97, \"118\": 1, \"19\": 1, \"62\": 1}, \"25\": {\"25\": 16}, \"67\": {\"67\": 6, \"69\": 1, \"76\": 1, \"44\": 1, \"40\": 2, \"92\": 2, \"123\": 2, \"78\": 1}, \"50\": {\"50\": 16}, \"43\": {\"43\": 110, \"23\": 1, \"70\": 1, \"87\": 5, \"129\": 1, \"118\": 1, \"98\": 1}, \"96\": {\"96\": 20}, \"128\": {\"128\": 22, \"72\": 1, \"78\": 1}, \"77\": {\"77\": 12}, \"54\": {\"54\": 16}, \"118\": {\"118\": 104, \"57\": 1, \"106\": 1, \"111\": 1, \"1\": 1, \"26\": 2, \"127\": 1, \"62\": 1}, \"30\": {\"30\": 73, \"10\": 3}, \"51\": {\"51\": 13, \"41\": 1, \"30\": 1, \"25\": 1}, \"122\": {\"122\": 77, \"107\": 1, \"126\": 1, \"88\": 1, \"43\": 1, \"30\": 1, \"111\": 1, \"24\": 1}, \"46\": {\"46\": 19, \"20\": 1}, \"79\": {\"79\": 16}, \"103\": {\"103\": 16}, \"74\": {\"31\": 1, \"74\": 15}, \"90\": {\"90\": 146}, \"8\": {\"8\": 138, \"71\": 1, \"15\": 1, \"26\": 1, \"114\": 1}, \"94\": {\"94\": 85, \"1\": 1, \"15\": 1, \"111\": 1}, \"7\": {\"7\": 119, \"36\": 1, \"0\": 1, \"24\": 1}, \"61\": {\"61\": 16}, \"26\": {\"26\": 119, \"30\": 1}, \"127\": {\"127\": 107, \"26\": 1}, \"23\": {\"23\": 12, \"21\": 1, \"122\": 1, \"111\": 1, \"68\": 1}, \"1\": {\"1\": 103, \"43\": 1, \"23\": 1, \"107\": 1, \"122\": 1, \"10\": 1}, \"93\": {\"93\": 133, \"110\": 1}, \"106\": {\"106\": 106, \"94\": 2, \"18\": 1, \"84\": 2, \"118\": 1, \"39\": 1, \"109\": 1, \"2\": 1, \"26\": 1}, \"110\": {\"110\": 117, \"39\": 1}, \"76\": {\"76\": 16}, \"36\": {\"36\": 116, \"24\": 2, \"94\": 1, \"1\": 1}, \"21\": {\"21\": 34, \"84\": 2, \"78\": 3, \"3\": 1}, \"37\": {\"37\": 16}, \"11\": {\"11\": 119, \"12\": 1}, \"109\": {\"109\": 112, \"24\": 1, \"14\": 1, \"118\": 1, \"16\": 1}, \"62\": {\"21\": 1, \"62\": 55, \"81\": 1, \"113\": 2, \"26\": 1}, \"89\": {\"89\": 31, \"51\": 1}, \"126\": {\"126\": 114, \"113\": 3, \"84\": 1, \"39\": 4, \"16\": 1, \"93\": 1}, \"101\": {\"101\": 123, \"111\": 1, \"4\": 1, \"88\": 1, \"108\": 1, \"84\": 1}, \"65\": {\"65\": 12}, \"19\": {\"19\": 26, \"100\": 2}, \"27\": {\"27\": 96, \"129\": 1, \"122\": 1, \"69\": 1, \"70\": 1}, \"5\": {\"5\": 133, \"23\": 1, \"71\": 1, \"118\": 1}, \"73\": {\"73\": 23, \"108\": 1}, \"6\": {\"6\": 23, \"58\": 1}, \"29\": {\"29\": 32}, \"114\": {\"114\": 127, \"113\": 1}, \"49\": {\"49\": 22, \"70\": 4, \"10\": 1, \"53\": 2, \"51\": 1, \"111\": 2}, \"16\": {\"16\": 115, \"70\": 1, \"20\": 1, \"69\": 1}, \"68\": {\"68\": 16}, \"98\": {\"98\": 117, \"16\": 1, \"101\": 1, \"3\": 1}, \"64\": {\"64\": 16}, \"121\": {\"90\": 1, \"121\": 17, \"116\": 2, \"6\": 2, \"38\": 2, \"91\": 1, \"18\": 2, \"92\": 1, \"44\": 2, \"89\": 2}, \"124\": {\"124\": 114}, \"97\": {\"97\": 20}, \"40\": {\"40\": 136}, \"119\": {\"119\": 16}, \"100\": {\"100\": 20}, \"87\": {\"87\": 115, \"105\": 1}, \"88\": {\"88\": 111, \"23\": 1, \"73\": 1, \"108\": 4, \"70\": 7, \"26\": 1, \"105\": 1, \"21\": 1, \"113\": 1}, \"52\": {\"52\": 17, \"16\": 1, \"31\": 1, \"35\": 1}, \"80\": {\"80\": 15, \"115\": 1}, \"105\": {\"105\": 94, \"87\": 1, \"91\": 1, \"26\": 1, \"118\": 1, \"4\": 1, \"5\": 1}, \"32\": {\"14\": 4, \"32\": 22, \"118\": 2}, \"35\": {\"35\": 12}, \"99\": {\"99\": 40}, \"18\": {\"18\": 118, \"7\": 1, \"30\": 1}, \"24\": {\"24\": 108, \"15\": 1, \"27\": 1, \"36\": 2}, \"85\": {\"85\": 27, \"26\": 1}, \"39\": {\"39\": 92, \"118\": 1, \"81\": 2, \"3\": 1, \"26\": 1, \"2\": 1, \"113\": 1, \"16\": 1}, \"123\": {\"123\": 16}, \"91\": {\"91\": 24}, \"78\": {\"78\": 28, \"21\": 2, \"100\": 1, \"95\": 1, \"122\": 1, \"39\": 1, \"26\": 1, \"107\": 1}, \"38\": {\"38\": 16}, \"15\": {\"15\": 124, \"84\": 1, \"18\": 1, \"26\": 1, \"105\": 1}, \"48\": {\"48\": 16}, \"45\": {\"45\": 16}, \"120\": {\"120\": 20}, \"44\": {\"44\": 63, \"113\": 1}, \"86\": {\"86\": 26, \"65\": 1, \"21\": 1}, \"20\": {\"20\": 16}, \"33\": {\"33\": 146, \"114\": 1, \"21\": 1, \"102\": 1, \"10\": 1}, \"129\": {\"129\": 23, \"73\": 4, \"108\": 1}, \"34\": {\"34\": 19, \"104\": 1, \"75\": 1, \"45\": 2, \"32\": 2, \"91\": 2, \"106\": 2, \"37\": 1, \"25\": 2}, \"81\": {\"81\": 35, \"21\": 1}, \"57\": {\"57\": 12, \"21\": 1, \"128\": 2, \"100\": 1}, \"0\": {\"0\": 113, \"26\": 1, \"95\": 1, \"63\": 1}, \"2\": {\"2\": 28}, \"42\": {\"42\": 24, \"70\": 1, \"106\": 1, \"61\": 1, \"8\": 1}, \"84\": {\"84\": 127, \"24\": 1, \"30\": 1, \"3\": 1, \"26\": 1, \"117\": 1}, \"3\": {\"3\": 119, \"21\": 1, \"69\": 1, \"55\": 1, \"12\": 1, \"84\": 1, \"24\": 1, \"98\": 1}, \"41\": {\"41\": 15, \"100\": 1}, \"53\": {\"53\": 15, \"122\": 1}, \"66\": {\"66\": 16}, \"22\": {\"22\": 16}}, \"ORACLE.run150\": {\"7\": {\"8\": 11, \"11\": 11, \"12\": 5, \"3\": 12, \"9\": 14, \"7\": 29, \"10\": 27, \"6\": 19, \"1\": 16, \"2\": 10, \"4\": 19, \"14\": 10, \"0\": 9, \"13\": 11, \"5\": 23, \"15\": 14}, \"10\": {\"13\": 21, \"5\": 12, \"2\": 22, \"6\": 15, \"10\": 19, \"8\": 23, \"3\": 21, \"9\": 5, \"11\": 7, \"0\": 28, \"7\": 24, \"4\": 13, \"1\": 8, \"14\": 6, \"15\": 10, \"12\": 6}, \"0\": {\"1\": 15, \"13\": 17, \"10\": 18, \"4\": 11, \"14\": 16, \"7\": 16, \"15\": 7, \"6\": 11, \"0\": 24, \"2\": 22, \"5\": 13, \"9\": 11, \"3\": 24, \"8\": 18, \"12\": 7, \"11\": 10}, \"11\": {\"5\": 20, \"15\": 19, \"12\": 32, \"0\": 7, \"1\": 12, \"6\": 14, \"13\": 23, \"10\": 7, \"9\": 20, \"2\": 5, \"7\": 13, \"14\": 17, \"11\": 20, \"3\": 4, \"4\": 22, \"8\": 5}, \"2\": {\"13\": 17, \"12\": 12, \"1\": 9, \"6\": 12, \"5\": 12, \"7\": 11, \"0\": 25, \"8\": 26, \"3\": 13, \"2\": 34, \"10\": 21, \"14\": 16, \"4\": 12, \"11\": 4, \"15\": 8, \"9\": 8}, \"14\": {\"1\": 19, \"9\": 19, \"2\": 18, \"14\": 34, \"6\": 15, \"13\": 10, \"11\": 19, \"7\": 10, \"15\": 14, \"4\": 14, \"12\": 18, \"0\": 14, \"8\": 4, \"10\": 14, \"5\": 11, \"3\": 7}, \"9\": {\"6\": 12, \"9\": 38, \"11\": 31, \"13\": 16, \"5\": 15, \"15\": 20, \"2\": 12, \"14\": 16, \"1\": 25, \"12\": 23, \"4\": 13, \"0\": 3, \"10\": 7, \"7\": 6, \"8\": 1, \"3\": 2}, \"13\": {\"10\": 15, \"8\": 9, \"1\": 17, \"14\": 7, \"15\": 27, \"5\": 20, \"7\": 17, \"6\": 18, \"9\": 12, \"4\": 23, \"13\": 15, \"11\": 18, \"0\": 15, \"12\": 9, \"3\": 10, \"2\": 8}, \"8\": {\"13\": 12, \"7\": 22, \"8\": 30, \"1\": 8, \"10\": 21, \"2\": 28, \"12\": 5, \"5\": 10, \"4\": 10, \"3\": 42, \"0\": 20, \"9\": 3, \"15\": 5, \"11\": 5, \"14\": 7, \"6\": 12}, \"15\": {\"9\": 17, \"11\": 19, \"13\": 24, \"5\": 20, \"1\": 22, \"4\": 28, \"15\": 31, \"8\": 2, \"6\": 15, \"7\": 14, \"14\": 15, \"10\": 4, \"0\": 12, \"12\": 13, \"3\": 3, \"2\": 1}, \"4\": {\"5\": 21, \"11\": 20, \"13\": 16, \"15\": 19, \"1\": 15, \"6\": 30, \"2\": 7, \"4\": 26, \"7\": 20, \"9\": 14, \"10\": 10, \"0\": 12, \"14\": 7, \"3\": 7, \"12\": 9, \"8\": 7}, \"5\": {\"9\": 18, \"12\": 18, \"11\": 15, \"0\": 11, \"13\": 17, \"8\": 8, \"6\": 13, \"7\": 17, \"3\": 6, \"5\": 27, \"10\": 16, \"4\": 17, \"15\": 24, \"1\": 17, \"14\": 8, \"2\": 8}, \"3\": {\"3\": 54, \"5\": 12, \"10\": 21, \"9\": 3, \"15\": 5, \"7\": 16, \"8\": 45, \"2\": 18, \"6\": 10, \"0\": 20, \"11\": 2, \"1\": 6, \"13\": 16, \"4\": 6, \"14\": 4, \"12\": 2}, \"1\": {\"5\": 18, \"4\": 29, \"11\": 19, \"1\": 14, \"6\": 12, \"13\": 16, \"10\": 7, \"9\": 22, \"2\": 10, \"15\": 19, \"7\": 18, \"0\": 13, \"3\": 11, \"8\": 5, \"14\": 10, \"12\": 17}, \"6\": {\"14\": 10, \"6\": 14, \"7\": 21, \"13\": 20, \"5\": 19, \"2\": 9, \"15\": 25, \"1\": 18, \"10\": 19, \"9\": 17, \"3\": 4, \"0\": 8, \"11\": 17, \"4\": 20, \"8\": 6, \"12\": 13}, \"12\": {\"13\": 13, \"10\": 16, \"9\": 13, \"2\": 16, \"0\": 9, \"12\": 35, \"14\": 32, \"11\": 26, \"15\": 8, \"4\": 11, \"7\": 10, \"1\": 28, \"6\": 10, \"8\": 6, \"3\": 3, \"5\": 4}}, \"ORACLE.run114\": {\"14\": {\"3\": 19, \"4\": 20, \"11\": 19, \"14\": 17, \"0\": 19, \"15\": 18, \"6\": 25, \"2\": 21, \"13\": 16, \"1\": 11, \"12\": 2, \"10\": 20, \"9\": 7, \"7\": 14, \"5\": 9, \"8\": 3}, \"6\": {\"6\": 31, \"15\": 23, \"2\": 19, \"7\": 15, \"3\": 21, \"10\": 18, \"4\": 11, \"11\": 16, \"13\": 20, \"1\": 18, \"5\": 14, \"14\": 16, \"0\": 10, \"12\": 2, \"8\": 4, \"9\": 2}, \"5\": {\"4\": 20, \"15\": 9, \"8\": 12, \"2\": 15, \"7\": 18, \"6\": 19, \"14\": 17, \"10\": 24, \"1\": 18, \"11\": 19, \"3\": 14, \"5\": 20, \"12\": 4, \"13\": 17, \"9\": 8, \"0\": 6}, \"15\": {\"2\": 18, \"13\": 20, \"5\": 23, \"15\": 30, \"1\": 19, \"7\": 20, \"3\": 18, \"0\": 9, \"12\": 1, \"6\": 20, \"10\": 13, \"8\": 12, \"4\": 21, \"9\": 4, \"14\": 8, \"11\": 4}, \"11\": {\"9\": 23, \"14\": 15, \"5\": 7, \"3\": 18, \"4\": 15, \"11\": 22, \"8\": 16, \"7\": 10, \"13\": 16, \"1\": 15, \"2\": 13, \"12\": 13, \"15\": 10, \"0\": 11, \"10\": 17, \"6\": 19}, \"8\": {\"5\": 16, \"10\": 14, \"9\": 36, \"3\": 10, \"15\": 10, \"0\": 13, \"8\": 31, \"7\": 16, \"14\": 6, \"2\": 11, \"1\": 17, \"12\": 28, \"4\": 13, \"11\": 12, \"13\": 4, \"6\": 3}, \"12\": {\"9\": 38, \"11\": 14, \"8\": 34, \"12\": 50, \"4\": 6, \"1\": 13, \"2\": 10, \"10\": 18, \"0\": 18, \"3\": 13, \"7\": 3, \"15\": 3, \"14\": 6, \"5\": 6, \"13\": 5, \"6\": 3}, \"1\": {\"15\": 18, \"1\": 18, \"14\": 13, \"8\": 19, \"13\": 6, \"11\": 16, \"3\": 18, \"7\": 20, \"4\": 16, \"5\": 18, \"0\": 15, \"6\": 13, \"2\": 16, \"12\": 6, \"9\": 9, \"10\": 19}, \"2\": {\"14\": 16, \"1\": 18, \"15\": 17, \"5\": 20, \"13\": 22, \"11\": 13, \"9\": 6, \"3\": 17, \"10\": 24, \"0\": 19, \"2\": 17, \"8\": 8, \"4\": 11, \"7\": 11, \"6\": 17, \"12\": 4}, \"13\": {\"10\": 17, \"13\": 29, \"2\": 19, \"12\": 3, \"5\": 25, \"6\": 31, \"15\": 18, \"8\": 3, \"4\": 9, \"0\": 18, \"11\": 16, \"7\": 16, \"14\": 15, \"3\": 13, \"1\": 6, \"9\": 2}, \"3\": {\"10\": 20, \"9\": 10, \"5\": 22, \"6\": 18, \"3\": 20, \"7\": 12, \"15\": 21, \"13\": 11, \"11\": 11, \"1\": 9, \"2\": 16, \"4\": 16, \"12\": 14, \"14\": 16, \"0\": 16, \"8\": 8}, \"0\": {\"0\": 16, \"12\": 12, \"1\": 17, \"11\": 20, \"9\": 14, \"5\": 20, \"14\": 17, \"13\": 18, \"4\": 12, \"7\": 19, \"3\": 14, \"2\": 12, \"6\": 13, \"15\": 9, \"8\": 9, \"10\": 18}, \"9\": {\"9\": 36, \"8\": 29, \"11\": 12, \"12\": 48, \"7\": 9, \"15\": 6, \"4\": 10, \"14\": 10, \"3\": 10, \"0\": 21, \"1\": 12, \"6\": 4, \"5\": 11, \"2\": 5, \"10\": 13, \"13\": 4}, \"4\": {\"9\": 13, \"4\": 24, \"6\": 13, \"3\": 17, \"7\": 18, \"15\": 20, \"2\": 14, \"5\": 19, \"13\": 13, \"12\": 9, \"8\": 10, \"1\": 15, \"10\": 21, \"0\": 9, \"11\": 15, \"14\": 10}, \"7\": {\"4\": 20, \"7\": 26, \"2\": 20, \"14\": 12, \"15\": 24, \"1\": 16, \"12\": 5, \"5\": 22, \"3\": 8, \"6\": 13, \"8\": 18, \"11\": 12, \"0\": 13, \"10\": 13, \"13\": 13, \"9\": 5}, \"10\": {\"5\": 18, \"10\": 13, \"11\": 10, \"12\": 16, \"1\": 13, \"2\": 26, \"3\": 21, \"14\": 20, \"0\": 12, \"13\": 16, \"6\": 18, \"4\": 16, \"7\": 11, \"9\": 7, \"15\": 13, \"8\": 10}}, \"ORACLE.run132\": {\"4\": {\"2\": 22, \"13\": 13, \"4\": 25, \"0\": 28, \"14\": 27, \"7\": 20, \"5\": 22, \"9\": 10, \"11\": 19, \"12\": 11, \"3\": 22, \"15\": 6, \"8\": 8, \"10\": 2, \"6\": 2, \"1\": 3}, \"14\": {\"7\": 24, \"8\": 11, \"2\": 26, \"13\": 25, \"0\": 29, \"3\": 19, \"5\": 21, \"4\": 23, \"11\": 23, \"15\": 4, \"12\": 7, \"14\": 16, \"9\": 7, \"6\": 3, \"10\": 2}, \"5\": {\"4\": 23, \"11\": 24, \"15\": 12, \"2\": 23, \"13\": 27, \"14\": 16, \"7\": 18, \"3\": 18, \"8\": 19, \"12\": 7, \"5\": 23, \"0\": 21, \"10\": 1, \"9\": 7, \"1\": 1}, \"10\": {\"6\": 31, \"12\": 41, \"1\": 70, \"15\": 2, \"7\": 2, \"11\": 2, \"4\": 3, \"9\": 13, \"8\": 7, \"10\": 54, \"0\": 5, \"5\": 4, \"3\": 1, \"2\": 3, \"13\": 1, \"14\": 1}, \"13\": {\"7\": 14, \"8\": 25, \"3\": 19, \"4\": 33, \"2\": 14, \"14\": 19, \"15\": 11, \"11\": 23, \"0\": 22, \"9\": 9, \"13\": 25, \"5\": 16, \"12\": 5, \"10\": 2, \"6\": 2, \"1\": 1}, \"9\": {\"10\": 17, \"2\": 27, \"14\": 12, \"9\": 31, \"6\": 25, \"12\": 35, \"0\": 18, \"11\": 16, \"1\": 7, \"15\": 2, \"4\": 14, \"13\": 10, \"8\": 6, \"3\": 5, \"7\": 7, \"5\": 8}, \"6\": {\"6\": 82, \"9\": 14, \"10\": 44, \"12\": 38, \"1\": 44, \"11\": 4, \"2\": 5, \"3\": 1, \"0\": 3, \"14\": 1, \"4\": 3, \"5\": 1}, \"3\": {\"5\": 19, \"3\": 30, \"4\": 20, \"15\": 38, \"11\": 21, \"8\": 29, \"12\": 3, \"14\": 14, \"9\": 9, \"2\": 8, \"0\": 16, \"13\": 22, \"7\": 11}, \"15\": {\"9\": 5, \"15\": 107, \"8\": 32, \"4\": 8, \"14\": 6, \"3\": 27, \"11\": 10, \"13\": 18, \"5\": 13, \"7\": 5, \"10\": 1, \"0\": 8}, \"7\": {\"7\": 21, \"11\": 31, \"6\": 2, \"10\": 7, \"2\": 23, \"0\": 17, \"9\": 14, \"8\": 19, \"3\": 15, \"13\": 16, \"4\": 20, \"5\": 16, \"14\": 30, \"15\": 5, \"12\": 4}, \"12\": {\"11\": 9, \"0\": 15, \"12\": 39, \"9\": 35, \"6\": 24, \"1\": 16, \"14\": 4, \"10\": 40, \"4\": 12, \"5\": 7, \"2\": 12, \"13\": 7, \"8\": 7, \"7\": 7, \"3\": 6}, \"8\": {\"2\": 11, \"5\": 18, \"13\": 14, \"15\": 30, \"4\": 20, \"7\": 13, \"8\": 30, \"3\": 23, \"11\": 24, \"14\": 13, \"9\": 8, \"12\": 12, \"10\": 4, \"0\": 19, \"6\": 1}, \"11\": {\"8\": 24, \"14\": 25, \"13\": 19, \"2\": 19, \"4\": 19, \"15\": 7, \"0\": 25, \"3\": 21, \"11\": 20, \"7\": 25, \"5\": 15, \"9\": 12, \"12\": 7, \"10\": 1, \"1\": 1}, \"2\": {\"8\": 21, \"12\": 9, \"2\": 36, \"11\": 29, \"0\": 16, \"5\": 22, \"10\": 4, \"9\": 18, \"3\": 12, \"14\": 19, \"15\": 3, \"13\": 6, \"4\": 25, \"6\": 3, \"7\": 15, \"1\": 2}, \"1\": {\"1\": 83, \"10\": 58, \"12\": 21, \"6\": 59, \"11\": 2, \"4\": 3, \"3\": 1, \"9\": 7, \"0\": 1, \"2\": 2, \"14\": 1, \"13\": 1, \"15\": 1}, \"0\": {\"7\": 17, \"8\": 19, \"13\": 27, \"0\": 20, \"5\": 18, \"2\": 18, \"9\": 12, \"3\": 17, \"15\": 4, \"11\": 27, \"14\": 20, \"12\": 15, \"4\": 18, \"6\": 2, \"1\": 2, \"10\": 4}}, \"ORACLE.run144\": {\"8\": {\"4\": 17, \"7\": 1, \"0\": 51, \"5\": 27, \"14\": 29, \"15\": 44, \"8\": 50, \"1\": 3, \"3\": 7, \"2\": 1, \"10\": 4, \"9\": 4, \"13\": 2}, \"11\": {\"11\": 47, \"13\": 30, \"3\": 12, \"6\": 41, \"12\": 9, \"10\": 15, \"2\": 17, \"7\": 24, \"9\": 23, \"4\": 4, \"1\": 7, \"5\": 5, \"15\": 2, \"14\": 4}, \"14\": {\"0\": 27, \"7\": 13, \"4\": 30, \"9\": 16, \"3\": 13, \"5\": 23, \"15\": 26, \"13\": 11, \"14\": 27, \"1\": 8, \"2\": 8, \"8\": 16, \"12\": 10, \"10\": 4, \"6\": 5, \"11\": 3}, \"10\": {\"14\": 8, \"9\": 24, \"11\": 18, \"7\": 26, \"12\": 15, \"6\": 23, \"3\": 20, \"10\": 27, \"1\": 14, \"5\": 6, \"4\": 10, \"2\": 23, \"13\": 24, \"0\": 1, \"15\": 1}, \"3\": {\"9\": 12, \"10\": 16, \"4\": 30, \"5\": 16, \"3\": 30, \"12\": 29, \"13\": 10, \"15\": 11, \"2\": 14, \"1\": 29, \"8\": 5, \"14\": 11, \"7\": 8, \"11\": 6, \"6\": 7, \"0\": 6}, \"15\": {\"9\": 9, \"11\": 2, \"0\": 41, \"5\": 31, \"13\": 3, \"8\": 35, \"15\": 39, \"4\": 20, \"3\": 15, \"2\": 3, \"1\": 8, \"6\": 1, \"14\": 20, \"12\": 6, \"7\": 5, \"10\": 2}, \"2\": {\"2\": 18, \"12\": 22, \"1\": 20, \"4\": 8, \"9\": 18, \"13\": 27, \"11\": 22, \"6\": 28, \"7\": 24, \"14\": 11, \"0\": 1, \"3\": 15, \"10\": 17, \"5\": 7, \"15\": 2}, \"12\": {\"11\": 11, \"1\": 25, \"7\": 17, \"12\": 38, \"2\": 22, \"3\": 30, \"13\": 22, \"10\": 21, \"6\": 10, \"4\": 8, \"9\": 14, \"5\": 3, \"14\": 9, \"0\": 2, \"15\": 5, \"8\": 3}, \"4\": {\"5\": 24, \"7\": 10, \"1\": 13, \"14\": 33, \"3\": 22, \"9\": 13, \"0\": 23, \"12\": 6, \"15\": 12, \"13\": 9, \"6\": 12, \"4\": 29, \"2\": 13, \"11\": 2, \"8\": 13, \"10\": 6}, \"1\": {\"10\": 16, \"14\": 17, \"12\": 31, \"1\": 27, \"3\": 30, \"9\": 20, \"5\": 7, \"7\": 18, \"4\": 12, \"2\": 15, \"15\": 5, \"13\": 14, \"11\": 6, \"6\": 16, \"0\": 4, \"8\": 2}, \"0\": {\"4\": 19, \"8\": 48, \"0\": 46, \"12\": 6, \"15\": 41, \"14\": 19, \"11\": 1, \"9\": 1, \"2\": 4, \"5\": 32, \"3\": 15, \"1\": 4, \"13\": 3, \"7\": 1}, \"9\": {\"5\": 13, \"3\": 7, \"12\": 12, \"7\": 12, \"10\": 33, \"9\": 20, \"11\": 13, \"1\": 15, \"2\": 21, \"14\": 11, \"15\": 13, \"13\": 30, \"4\": 12, \"6\": 25, \"8\": 2, \"0\": 1}, \"5\": {\"5\": 37, \"8\": 22, \"7\": 9, \"12\": 4, \"15\": 42, \"4\": 23, \"0\": 30, \"11\": 2, \"14\": 35, \"3\": 11, \"1\": 6, \"10\": 4, \"2\": 3, \"13\": 6, \"9\": 5, \"6\": 1}, \"6\": {\"1\": 14, \"14\": 6, \"13\": 36, \"7\": 13, \"3\": 6, \"11\": 34, \"12\": 11, \"6\": 44, \"10\": 15, \"4\": 8, \"5\": 6, \"9\": 20, \"2\": 25, \"15\": 2}, \"7\": {\"11\": 18, \"10\": 19, \"7\": 24, \"9\": 26, \"2\": 19, \"15\": 3, \"1\": 20, \"12\": 18, \"6\": 21, \"14\": 10, \"3\": 19, \"4\": 9, \"13\": 28, \"5\": 4, \"0\": 2}, \"13\": {\"7\": 27, \"12\": 22, \"1\": 12, \"2\": 21, \"4\": 7, \"13\": 26, \"9\": 24, \"11\": 31, \"15\": 2, \"3\": 9, \"6\": 28, \"8\": 2, \"0\": 3, \"10\": 18, \"14\": 6, \"5\": 2}}, \"ORACLE.run18\": {\"13\": {\"11\": 11, \"4\": 27, \"3\": 18, \"1\": 14, \"2\": 10, \"8\": 10, \"7\": 19, \"14\": 21, \"0\": 12, \"10\": 12, \"5\": 19, \"6\": 18, \"13\": 21, \"12\": 8, \"9\": 10, \"15\": 10}, \"3\": {\"2\": 12, \"3\": 24, \"7\": 17, \"15\": 25, \"0\": 11, \"5\": 10, \"8\": 26, \"13\": 15, \"6\": 16, \"4\": 17, \"1\": 13, \"12\": 18, \"14\": 14, \"10\": 9, \"11\": 12, \"9\": 1}, \"15\": {\"13\": 13, \"0\": 12, \"14\": 14, \"2\": 22, \"11\": 22, \"6\": 15, \"12\": 25, \"1\": 15, \"3\": 15, \"10\": 16, \"4\": 13, \"15\": 18, \"5\": 10, \"8\": 18, \"9\": 2, \"7\": 10}, \"4\": {\"5\": 9, \"14\": 13, \"13\": 16, \"3\": 15, \"12\": 15, \"6\": 18, \"2\": 20, \"11\": 14, \"1\": 17, \"15\": 13, \"8\": 14, \"4\": 17, \"10\": 21, \"7\": 14, \"9\": 9, \"0\": 15}, \"7\": {\"4\": 15, \"2\": 21, \"12\": 20, \"0\": 10, \"13\": 20, \"14\": 15, \"15\": 15, \"7\": 17, \"8\": 13, \"10\": 15, \"3\": 17, \"9\": 9, \"11\": 19, \"6\": 18, \"1\": 10, \"5\": 6}, \"2\": {\"3\": 17, \"5\": 10, \"12\": 16, \"10\": 15, \"2\": 23, \"8\": 9, \"6\": 23, \"7\": 15, \"15\": 20, \"0\": 14, \"13\": 21, \"14\": 13, \"1\": 9, \"9\": 1, \"4\": 19, \"11\": 15}, \"1\": {\"14\": 14, \"9\": 6, \"1\": 26, \"13\": 20, \"15\": 13, \"2\": 13, \"0\": 16, \"11\": 15, \"10\": 13, \"12\": 13, \"5\": 13, \"6\": 18, \"4\": 17, \"7\": 17, \"3\": 6, \"8\": 20}, \"0\": {\"0\": 13, \"11\": 14, \"4\": 23, \"1\": 15, \"14\": 16, \"5\": 14, \"13\": 20, \"10\": 13, \"6\": 15, \"7\": 23, \"2\": 18, \"3\": 14, \"15\": 12, \"12\": 19, \"8\": 5, \"9\": 6}, \"12\": {\"14\": 10, \"0\": 11, \"10\": 8, \"7\": 18, \"13\": 17, \"5\": 12, \"12\": 25, \"11\": 24, \"2\": 19, \"8\": 13, \"1\": 12, \"3\": 19, \"4\": 18, \"15\": 22, \"6\": 11, \"9\": 1}, \"6\": {\"10\": 20, \"7\": 17, \"3\": 25, \"4\": 16, \"8\": 15, \"2\": 18, \"14\": 14, \"1\": 8, \"13\": 14, \"5\": 14, \"6\": 12, \"11\": 17, \"12\": 13, \"15\": 10, \"0\": 17, \"9\": 10}, \"11\": {\"13\": 19, \"12\": 21, \"11\": 21, \"10\": 19, \"8\": 9, \"1\": 16, \"15\": 19, \"7\": 15, \"2\": 11, \"3\": 18, \"4\": 17, \"9\": 4, \"0\": 12, \"14\": 8, \"5\": 12, \"6\": 19}, \"9\": {\"4\": 12, \"9\": 95, \"10\": 12, \"0\": 19, \"11\": 9, \"13\": 14, \"15\": 2, \"7\": 9, \"14\": 16, \"2\": 5, \"6\": 6, \"5\": 25, \"8\": 4, \"12\": 2, \"1\": 9, \"3\": 1}, \"5\": {\"8\": 15, \"7\": 13, \"15\": 10, \"10\": 15, \"5\": 21, \"12\": 5, \"2\": 12, \"0\": 24, \"13\": 21, \"11\": 21, \"1\": 18, \"14\": 21, \"9\": 12, \"6\": 10, \"4\": 15, \"3\": 7}, \"10\": {\"11\": 22, \"13\": 18, \"2\": 10, \"0\": 17, \"6\": 19, \"8\": 8, \"4\": 14, \"5\": 15, \"3\": 13, \"14\": 14, \"9\": 14, \"10\": 19, \"7\": 18, \"1\": 16, \"12\": 11, \"15\": 12}, \"14\": {\"14\": 22, \"0\": 17, \"5\": 18, \"9\": 10, \"11\": 11, \"6\": 17, \"13\": 18, \"2\": 20, \"10\": 18, \"1\": 20, \"3\": 11, \"4\": 9, \"8\": 15, \"15\": 15, \"7\": 10, \"12\": 9}, \"8\": {\"9\": 3, \"6\": 19, \"13\": 13, \"15\": 28, \"0\": 10, \"8\": 13, \"2\": 25, \"3\": 19, \"12\": 15, \"4\": 11, \"10\": 14, \"7\": 17, \"5\": 13, \"1\": 20, \"14\": 6, \"11\": 14}}, \"ORACLE.run120\": {\"6\": {\"12\": 19, \"1\": 15, \"4\": 16, \"9\": 14, \"8\": 19, \"10\": 23, \"7\": 18, \"6\": 21, \"3\": 16, \"15\": 7, \"0\": 9, \"14\": 22, \"2\": 13, \"5\": 9, \"13\": 9, \"11\": 10}, \"11\": {\"12\": 18, \"4\": 13, \"15\": 8, \"11\": 27, \"9\": 17, \"7\": 23, \"0\": 9, \"6\": 7, \"8\": 12, \"3\": 18, \"13\": 20, \"14\": 13, \"1\": 8, \"10\": 9, \"2\": 20, \"5\": 18}, \"5\": {\"12\": 18, \"3\": 17, \"6\": 10, \"15\": 17, \"2\": 17, \"11\": 16, \"8\": 11, \"4\": 16, \"14\": 13, \"13\": 20, \"9\": 13, \"1\": 16, \"10\": 10, \"7\": 11, \"0\": 20, \"5\": 15}, \"14\": {\"12\": 18, \"5\": 13, \"11\": 13, \"0\": 12, \"8\": 24, \"15\": 7, \"9\": 8, \"3\": 21, \"10\": 20, \"4\": 21, \"7\": 16, \"6\": 19, \"14\": 18, \"2\": 15, \"1\": 6, \"13\": 9}, \"2\": {\"4\": 16, \"1\": 17, \"6\": 10, \"12\": 19, \"2\": 16, \"11\": 12, \"0\": 11, \"10\": 18, \"13\": 17, \"14\": 16, \"15\": 15, \"8\": 14, \"9\": 13, \"5\": 13, \"3\": 17, \"7\": 16}, \"7\": {\"4\": 16, \"3\": 20, \"13\": 20, \"6\": 18, \"2\": 19, \"15\": 15, \"0\": 13, \"8\": 20, \"7\": 12, \"5\": 8, \"1\": 17, \"14\": 12, \"9\": 9, \"11\": 13, \"12\": 13, \"10\": 15}, \"3\": {\"9\": 17, \"12\": 14, \"11\": 13, \"15\": 21, \"3\": 21, \"6\": 12, \"7\": 11, \"8\": 15, \"0\": 18, \"4\": 16, \"1\": 16, \"13\": 9, \"5\": 15, \"2\": 9, \"10\": 16, \"14\": 17}, \"4\": {\"7\": 15, \"14\": 13, \"11\": 15, \"4\": 18, \"0\": 13, \"13\": 18, \"10\": 20, \"15\": 12, \"8\": 11, \"5\": 17, \"9\": 10, \"6\": 20, \"1\": 15, \"2\": 20, \"3\": 14, \"12\": 9}, \"9\": {\"3\": 17, \"9\": 16, \"2\": 16, \"14\": 6, \"8\": 18, \"1\": 14, \"7\": 22, \"12\": 16, \"11\": 15, \"5\": 19, \"13\": 14, \"15\": 15, \"6\": 17, \"0\": 14, \"10\": 9, \"4\": 12}, \"12\": {\"2\": 9, \"5\": 22, \"11\": 17, \"3\": 13, \"6\": 21, \"10\": 16, \"12\": 21, \"0\": 22, \"1\": 18, \"9\": 12, \"14\": 9, \"15\": 14, \"4\": 11, \"7\": 13, \"8\": 10, \"13\": 12}, \"0\": {\"8\": 18, \"5\": 21, \"9\": 18, \"13\": 14, \"11\": 18, \"15\": 15, \"12\": 13, \"1\": 19, \"3\": 20, \"6\": 17, \"14\": 8, \"0\": 17, \"4\": 11, \"2\": 14, \"10\": 8, \"7\": 9}, \"10\": {\"8\": 20, \"14\": 17, \"4\": 20, \"11\": 14, \"6\": 22, \"1\": 8, \"10\": 17, \"2\": 20, \"5\": 15, \"9\": 13, \"15\": 12, \"7\": 15, \"3\": 17, \"12\": 12, \"13\": 8, \"0\": 10}, \"8\": {\"3\": 16, \"14\": 19, \"6\": 15, \"1\": 14, \"15\": 22, \"5\": 18, \"2\": 14, \"11\": 7, \"4\": 19, \"8\": 18, \"0\": 10, \"12\": 15, \"10\": 17, \"9\": 9, \"7\": 16, \"13\": 11}, \"13\": {\"0\": 14, \"13\": 27, \"8\": 14, \"7\": 23, \"1\": 15, \"9\": 16, \"11\": 12, \"12\": 25, \"6\": 7, \"2\": 24, \"14\": 14, \"10\": 13, \"4\": 6, \"15\": 14, \"5\": 11, \"3\": 5}, \"1\": {\"13\": 24, \"15\": 18, \"1\": 14, \"14\": 11, \"4\": 15, \"3\": 19, \"6\": 15, \"5\": 11, \"9\": 18, \"0\": 21, \"7\": 11, \"11\": 13, \"12\": 15, \"2\": 14, \"8\": 8, \"10\": 13}, \"15\": {\"0\": 16, \"8\": 7, \"11\": 13, \"9\": 20, \"7\": 12, \"12\": 15, \"14\": 9, \"3\": 17, \"13\": 21, \"4\": 16, \"15\": 19, \"1\": 21, \"6\": 15, \"5\": 17, \"2\": 16, \"10\": 6}}, \"ORACLE.run138\": {\"3\": {\"0\": 18, \"5\": 23, \"7\": 20, \"15\": 12, \"11\": 3, \"3\": 40, \"2\": 6, \"9\": 26, \"13\": 9, \"10\": 12, \"8\": 26, \"4\": 5, \"6\": 16, \"14\": 7, \"1\": 10, \"12\": 7}, \"8\": {\"7\": 22, \"10\": 19, \"15\": 16, \"1\": 10, \"2\": 13, \"3\": 14, \"9\": 15, \"13\": 20, \"12\": 12, \"5\": 15, \"8\": 15, \"14\": 17, \"4\": 6, \"6\": 16, \"11\": 9, \"0\": 21}, \"0\": {\"0\": 22, \"8\": 24, \"1\": 5, \"10\": 23, \"13\": 11, \"7\": 26, \"14\": 9, \"15\": 11, \"9\": 7, \"2\": 8, \"3\": 28, \"5\": 26, \"4\": 2, \"12\": 10, \"6\": 17, \"11\": 11}, \"2\": {\"13\": 25, \"5\": 8, \"2\": 44, \"0\": 5, \"15\": 27, \"10\": 17, \"7\": 4, \"14\": 18, \"11\": 21, \"12\": 7, \"8\": 10, \"3\": 9, \"9\": 9, \"6\": 17, \"1\": 19}, \"4\": {\"12\": 59, \"10\": 14, \"0\": 14, \"7\": 17, \"6\": 1, \"4\": 81, \"13\": 4, \"14\": 13, \"11\": 23, \"5\": 6, \"8\": 4, \"3\": 2, \"2\": 1, \"15\": 1}, \"7\": {\"3\": 21, \"12\": 23, \"7\": 29, \"5\": 15, \"0\": 22, \"2\": 7, \"13\": 10, \"9\": 7, \"4\": 9, \"8\": 28, \"14\": 17, \"1\": 5, \"10\": 17, \"15\": 10, \"6\": 9, \"11\": 11}, \"12\": {\"12\": 48, \"4\": 41, \"8\": 14, \"0\": 15, \"5\": 10, \"7\": 18, \"14\": 19, \"11\": 23, \"13\": 7, \"10\": 22, \"2\": 6, \"6\": 3, \"15\": 5, \"3\": 8, \"1\": 1}, \"6\": {\"13\": 17, \"5\": 23, \"7\": 19, \"8\": 25, \"0\": 17, \"9\": 22, \"6\": 25, \"2\": 7, \"11\": 10, \"3\": 13, \"14\": 9, \"10\": 11, \"15\": 28, \"1\": 13, \"12\": 1}, \"15\": {\"10\": 22, \"5\": 20, \"3\": 17, \"11\": 9, \"12\": 7, \"6\": 21, \"2\": 12, \"14\": 17, \"7\": 10, \"13\": 19, \"15\": 14, \"1\": 24, \"8\": 12, \"0\": 16, \"9\": 20}, \"11\": {\"4\": 18, \"2\": 15, \"0\": 10, \"14\": 31, \"5\": 10, \"15\": 9, \"12\": 34, \"11\": 31, \"8\": 10, \"13\": 10, \"1\": 8, \"6\": 4, \"10\": 23, \"9\": 10, \"3\": 6, \"7\": 11}, \"9\": {\"3\": 22, \"15\": 20, \"1\": 28, \"8\": 19, \"0\": 17, \"2\": 9, \"9\": 27, \"10\": 15, \"6\": 25, \"5\": 22, \"13\": 13, \"7\": 16, \"14\": 1, \"11\": 5, \"4\": 1}, \"14\": {\"8\": 13, \"4\": 8, \"11\": 33, \"2\": 23, \"12\": 28, \"15\": 20, \"10\": 16, \"14\": 28, \"5\": 9, \"6\": 5, \"1\": 5, \"13\": 20, \"9\": 7, \"0\": 7, \"7\": 12, \"3\": 6}, \"10\": {\"13\": 19, \"8\": 13, \"10\": 20, \"7\": 18, \"12\": 18, \"11\": 17, \"5\": 17, \"0\": 21, \"2\": 16, \"6\": 12, \"14\": 19, \"1\": 12, \"3\": 19, \"15\": 10, \"9\": 5, \"4\": 4}, \"5\": {\"10\": 14, \"0\": 20, \"9\": 20, \"7\": 15, \"8\": 24, \"2\": 11, \"3\": 15, \"11\": 10, \"15\": 17, \"14\": 17, \"5\": 18, \"6\": 15, \"13\": 18, \"4\": 5, \"12\": 13, \"1\": 8}, \"1\": {\"1\": 29, \"2\": 25, \"7\": 9, \"9\": 18, \"6\": 26, \"0\": 12, \"13\": 28, \"15\": 25, \"8\": 12, \"14\": 7, \"12\": 3, \"3\": 10, \"5\": 14, \"11\": 3, \"10\": 19}, \"13\": {\"10\": 12, \"9\": 25, \"15\": 26, \"13\": 20, \"1\": 19, \"14\": 16, \"2\": 28, \"6\": 15, \"0\": 9, \"7\": 15, \"12\": 3, \"11\": 12, \"8\": 18, \"5\": 16, \"3\": 6}}, \"ORACLE.run126\": {\"5\": {\"9\": 19, \"1\": 10, \"8\": 14, \"0\": 11, \"3\": 19, \"2\": 18, \"15\": 16, \"6\": 15, \"14\": 13, \"12\": 19, \"10\": 18, \"11\": 11, \"5\": 22, \"13\": 19, \"4\": 8, \"7\": 8}, \"8\": {\"3\": 12, \"10\": 18, \"0\": 16, \"5\": 12, \"4\": 20, \"9\": 23, \"13\": 12, \"1\": 15, \"14\": 20, \"8\": 23, \"15\": 15, \"2\": 13, \"11\": 9, \"7\": 15, \"12\": 7, \"6\": 10}, \"4\": {\"0\": 16, \"1\": 24, \"10\": 26, \"15\": 13, \"5\": 11, \"3\": 14, \"4\": 24, \"11\": 4, \"8\": 15, \"12\": 9, \"9\": 18, \"2\": 10, \"14\": 16, \"6\": 11, \"7\": 24, \"13\": 5}, \"12\": {\"3\": 17, \"9\": 29, \"11\": 27, \"8\": 11, \"1\": 7, \"12\": 33, \"14\": 5, \"13\": 20, \"4\": 10, \"15\": 13, \"0\": 15, \"2\": 10, \"7\": 11, \"6\": 16, \"10\": 8, \"5\": 8}, \"6\": {\"8\": 23, \"13\": 15, \"7\": 14, \"12\": 20, \"9\": 12, \"1\": 15, \"11\": 15, \"2\": 14, \"6\": 14, \"3\": 12, \"4\": 17, \"15\": 13, \"10\": 14, \"14\": 15, \"5\": 17, \"0\": 10}, \"7\": {\"9\": 11, \"2\": 21, \"3\": 16, \"12\": 9, \"10\": 16, \"15\": 10, \"4\": 16, \"14\": 15, \"8\": 15, \"0\": 16, \"1\": 13, \"13\": 23, \"6\": 17, \"7\": 23, \"5\": 14, \"11\": 5}, \"10\": {\"5\": 13, \"2\": 21, \"15\": 13, \"14\": 16, \"0\": 23, \"8\": 20, \"12\": 12, \"6\": 16, \"4\": 7, \"11\": 9, \"7\": 18, \"13\": 11, \"1\": 23, \"10\": 13, \"9\": 12, \"3\": 13}, \"0\": {\"1\": 21, \"4\": 20, \"10\": 20, \"15\": 22, \"13\": 7, \"7\": 12, \"6\": 16, \"0\": 16, \"8\": 19, \"12\": 12, \"2\": 18, \"3\": 17, \"9\": 15, \"14\": 14, \"5\": 6, \"11\": 5}, \"15\": {\"11\": 12, \"15\": 18, \"5\": 18, \"8\": 14, \"7\": 13, \"12\": 18, \"0\": 15, \"2\": 14, \"4\": 13, \"1\": 16, \"14\": 12, \"9\": 24, \"6\": 16, \"10\": 16, \"13\": 15, \"3\": 6}, \"9\": {\"10\": 20, \"7\": 15, \"13\": 18, \"5\": 19, \"1\": 7, \"2\": 14, \"12\": 18, \"0\": 17, \"8\": 18, \"4\": 15, \"15\": 17, \"11\": 11, \"3\": 20, \"14\": 7, \"6\": 15, \"9\": 9}, \"11\": {\"12\": 36, \"11\": 74, \"2\": 10, \"5\": 8, \"15\": 12, \"0\": 9, \"8\": 17, \"6\": 9, \"9\": 13, \"1\": 3, \"13\": 20, \"3\": 3, \"4\": 5, \"14\": 8, \"7\": 7, \"10\": 6}, \"14\": {\"12\": 10, \"14\": 18, \"1\": 29, \"7\": 23, \"10\": 15, \"2\": 16, \"9\": 15, \"15\": 18, \"3\": 13, \"4\": 16, \"6\": 13, \"5\": 11, \"13\": 4, \"0\": 16, \"8\": 19, \"11\": 4}, \"2\": {\"10\": 14, \"1\": 19, \"12\": 17, \"15\": 12, \"5\": 15, \"6\": 13, \"4\": 21, \"2\": 23, \"14\": 11, \"8\": 20, \"9\": 17, \"7\": 9, \"0\": 16, \"3\": 17, \"13\": 10, \"11\": 6}, \"13\": {\"2\": 16, \"11\": 29, \"15\": 17, \"14\": 8, \"0\": 14, \"8\": 14, \"1\": 11, \"9\": 16, \"12\": 13, \"13\": 20, \"5\": 21, \"3\": 10, \"6\": 14, \"7\": 20, \"4\": 10, \"10\": 7}, \"3\": {\"5\": 14, \"1\": 22, \"15\": 21, \"14\": 18, \"4\": 22, \"10\": 24, \"13\": 8, \"6\": 13, \"8\": 11, \"7\": 16, \"9\": 15, \"2\": 21, \"3\": 13, \"0\": 14, \"12\": 5, \"11\": 3}, \"1\": {\"14\": 16, \"15\": 8, \"12\": 6, \"8\": 19, \"10\": 20, \"1\": 25, \"7\": 21, \"4\": 20, \"0\": 18, \"9\": 18, \"2\": 17, \"3\": 21, \"13\": 8, \"6\": 9, \"11\": 5, \"5\": 9}}}, \"per_domain_accuracy\": {\"Wisig_3\": {\"accuracy\": 0.9703875545851528, \"source?\": true}, \"Wisig_2\": {\"accuracy\": 0.950390625, \"source?\": true}, \"Wisig_1\": {\"accuracy\": 0.9694120762711864, \"source?\": true}, \"Wisig_4\": {\"accuracy\": 0.9564043209876543, \"source?\": true}, \"ORACLE.run150\": {\"accuracy\": 0.115625, \"source?\": false}, \"ORACLE.run114\": {\"accuracy\": 0.10416666666666667, \"source?\": false}, \"ORACLE.run132\": {\"accuracy\": 0.1671875, \"source?\": false}, \"ORACLE.run144\": {\"accuracy\": 0.13776041666666666, \"source?\": false}, \"ORACLE.run18\": {\"accuracy\": 0.10078125, \"source?\": false}, \"ORACLE.run120\": {\"accuracy\": 0.07734375, \"source?\": false}, \"ORACLE.run138\": {\"accuracy\": 0.12786458333333334, \"source?\": false}, \"ORACLE.run126\": {\"accuracy\": 0.09583333333333334, \"source?\": false}}}, \"history\": {\"epoch_indices\": [1, 2, 3, 4, 5], \"train_label_loss\": [0.18809231441762417, 0.11993258692684752, 0.09921970271960873, 0.0803643230576465, 0.06881787507336226], \"source_val_label_loss\": [0.16439063847064972, 0.13319244980812073, 0.1220187321305275, 0.11531774699687958, 0.11734560132026672], \"target_val_label_loss\": [2.7023372650146484, 2.694951295852661, 2.7539126873016357, 2.7994723320007324, 2.878818988800049], \"source_val_acc_label\": [0.9614978902953587, 0.9692114978902954, 0.9705959915611815, 0.9730683016877637, 0.9735957278481012], \"target_val_acc_label\": [0.1158203125, 0.11438802083333334, 0.10813802083333333, 0.1037109375, 0.10530598958333333]}, \"dataset_metrics\": {\"source\": {\"train\": {\"n_unique_x\": 189055, \"n_unique_y\": 130, \"n_batch/episode\": 6854}, \"val\": {\"n_unique_x\": 40070, \"n_unique_y\": 130, \"n_batch/episode\": 948}, \"test\": {\"n_unique_x\": 40836, \"n_unique_y\": 130, \"n_batch/episode\": 967}}, \"target\": {\"train\": {\"n_unique_x\": 179200, \"n_unique_y\": 16, \"n_batch/episode\": 6720}, \"val\": {\"n_unique_x\": 38400, \"n_unique_y\": 16, \"n_batch/episode\": 960}, \"test\": {\"n_unique_x\": 38400, \"n_unique_y\": 16, \"n_batch/episode\": 960}}}}'"
      ]
     },
     "execution_count": 29,
     "metadata": {},
     "output_type": "execute_result"
    }
   ],
   "source": [
    "json.dumps(experiment)"
   ]
  }
 ],
 "metadata": {
  "celltoolbar": "Tags",
  "kernelspec": {
   "display_name": "Python 3 (ipykernel)",
   "language": "python",
   "name": "python3"
  },
  "language_info": {
   "codemirror_mode": {
    "name": "ipython",
    "version": 3
   },
   "file_extension": ".py",
   "mimetype": "text/x-python",
   "name": "python",
   "nbconvert_exporter": "python",
   "pygments_lexer": "ipython3",
   "version": "3.8.12"
  },
  "papermill": {
   "default_parameters": {},
   "duration": 1342.601189,
   "end_time": "2022-03-23T06:12:36.782390",
   "environment_variables": {},
   "exception": null,
   "input_path": "/root/csc500-main/csc500-notebooks/templates/tl_ptn_template.ipynb",
   "output_path": "trial.ipynb",
   "parameters": {
    "parameters": {
     "BEST_MODEL_PATH": "./best_model.pth",
     "NUM_LOGS_PER_EPOCH": 10,
     "criteria_for_best": "target_accuracy",
     "dataset_seed": 500,
     "datasets": [
      {
       "domain_prefix": "Wisig_",
       "domains": [
        1,
        2,
        3,
        4
       ],
       "episode_transforms": [],
       "labels": [
        "1-10",
        "1-12",
        "1-14",
        "1-16",
        "1-18",
        "1-19",
        "1-8",
        "10-11",
        "10-17",
        "10-4",
        "10-7",
        "11-1",
        "11-10",
        "11-19",
        "11-20",
        "11-4",
        "11-7",
        "12-19",
        "12-20",
        "12-7",
        "13-14",
        "13-18",
        "13-19",
        "13-20",
        "13-3",
        "13-7",
        "14-10",
        "14-11",
        "14-12",
        "14-13",
        "14-14",
        "14-19",
        "14-20",
        "14-7",
        "14-8",
        "14-9",
        "15-1",
        "15-19",
        "15-6",
        "16-1",
        "16-16",
        "16-19",
        "16-20",
        "17-10",
        "17-11",
        "18-1",
        "18-10",
        "18-11",
        "18-12",
        "18-13",
        "18-14",
        "18-15",
        "18-16",
        "18-17",
        "18-19",
        "18-2",
        "18-20",
        "18-4",
        "18-5",
        "18-7",
        "18-8",
        "18-9",
        "19-1",
        "19-10",
        "19-11",
        "19-12",
        "19-13",
        "19-14",
        "19-15",
        "19-19",
        "19-2",
        "19-20",
        "19-3",
        "19-4",
        "19-6",
        "19-7",
        "19-8",
        "19-9",
        "2-1",
        "2-13",
        "2-15",
        "2-3",
        "2-4",
        "2-5",
        "2-6",
        "2-7",
        "2-8",
        "20-1",
        "20-12",
        "20-14",
        "20-15",
        "20-16",
        "20-18",
        "20-19",
        "20-20",
        "20-3",
        "20-4",
        "20-5",
        "20-7",
        "20-8",
        "3-1",
        "3-13",
        "3-18",
        "3-2",
        "3-8",
        "4-1",
        "4-10",
        "4-11",
        "5-1",
        "5-5",
        "6-1",
        "6-15",
        "6-6",
        "7-10",
        "7-11",
        "7-12",
        "7-13",
        "7-14",
        "7-7",
        "7-8",
        "7-9",
        "8-1",
        "8-13",
        "8-14",
        "8-18",
        "8-20",
        "8-3",
        "8-8",
        "9-1",
        "9-7"
       ],
       "num_examples_per_domain_per_label": -1,
       "pickle_path": "/root/csc500-main/datasets/wisig.node3-19.stratified_ds.2022A.pkl",
       "source_or_target_dataset": "source",
       "x_transforms": [
        "unit_power"
       ]
      },
      {
       "domain_prefix": "ORACLE.run1",
       "domains": [
        32,
        38,
        8,
        44,
        14,
        50,
        20,
        26
       ],
       "episode_transforms": [],
       "labels": [
        "3123D52",
        "3123D65",
        "3123D79",
        "3123D80",
        "3123D54",
        "3123D70",
        "3123D7B",
        "3123D89",
        "3123D58",
        "3123D76",
        "3123D7D",
        "3123EFE",
        "3123D64",
        "3123D78",
        "3123D7E",
        "3124E4A"
       ],
       "num_examples_per_domain_per_label": 2000,
       "pickle_path": "/root/csc500-main/datasets/oracle.Run1_10kExamples_stratified_ds.2022A.pkl",
       "source_or_target_dataset": "target",
       "x_transforms": [
        "unit_power"
       ]
      }
     ],
     "device": "cuda",
     "experiment_name": "tl_1v2:wisig-oracle.run1.limited",
     "lr": 0.0001,
     "n_epoch": 50,
     "n_query": 2,
     "n_shot": 3,
     "n_way": 16,
     "patience": 3,
     "seed": 500,
     "test_k_factor": 2,
     "torch_default_dtype": "torch.float32",
     "train_k_factor": 3,
     "val_k_factor": 2,
     "x_net": [
      {
       "class": "nnReshape",
       "kargs": {
        "shape": [
         -1,
         1,
         2,
         256
        ]
       }
      },
      {
       "class": "Conv2d",
       "kargs": {
        "bias": false,
        "in_channels": 1,
        "kernel_size": [
         1,
         7
        ],
        "out_channels": 256,
        "padding": [
         0,
         3
        ]
       }
      },
      {
       "class": "ReLU",
       "kargs": {
        "inplace": true
       }
      },
      {
       "class": "BatchNorm2d",
       "kargs": {
        "num_features": 256
       }
      },
      {
       "class": "Conv2d",
       "kargs": {
        "bias": true,
        "in_channels": 256,
        "kernel_size": [
         2,
         7
        ],
        "out_channels": 80,
        "padding": [
         0,
         3
        ]
       }
      },
      {
       "class": "ReLU",
       "kargs": {
        "inplace": true
       }
      },
      {
       "class": "BatchNorm2d",
       "kargs": {
        "num_features": 80
       }
      },
      {
       "class": "Flatten",
       "kargs": {}
      },
      {
       "class": "Linear",
       "kargs": {
        "in_features": 20480,
        "out_features": 256
       }
      },
      {
       "class": "ReLU",
       "kargs": {
        "inplace": true
       }
      },
      {
       "class": "BatchNorm1d",
       "kargs": {
        "num_features": 256
       }
      },
      {
       "class": "Linear",
       "kargs": {
        "in_features": 256,
        "out_features": 256
       }
      }
     ]
    }
   },
   "start_time": "2022-03-23T05:50:14.181201",
   "version": "2.3.4"
  }
 },
 "nbformat": 4,
 "nbformat_minor": 5
}