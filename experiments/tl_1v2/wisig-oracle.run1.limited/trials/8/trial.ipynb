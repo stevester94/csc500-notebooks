{
 "cells": [
  {
   "cell_type": "markdown",
   "id": "9fea5f46",
   "metadata": {
    "papermill": {
     "duration": 0.029072,
     "end_time": "2022-03-22T20:40:58.191091",
     "exception": false,
     "start_time": "2022-03-22T20:40:58.162019",
     "status": "completed"
    },
    "tags": []
   },
   "source": [
    "# Transfer Learning Template"
   ]
  },
  {
   "cell_type": "code",
   "execution_count": 1,
   "id": "0902182a",
   "metadata": {
    "execution": {
     "iopub.execute_input": "2022-03-22T20:40:58.253211Z",
     "iopub.status.busy": "2022-03-22T20:40:58.252362Z",
     "iopub.status.idle": "2022-03-22T20:41:00.121188Z",
     "shell.execute_reply": "2022-03-22T20:41:00.120549Z"
    },
    "papermill": {
     "duration": 1.907823,
     "end_time": "2022-03-22T20:41:00.121330",
     "exception": false,
     "start_time": "2022-03-22T20:40:58.213507",
     "status": "completed"
    },
    "tags": []
   },
   "outputs": [],
   "source": [
    "%load_ext autoreload\n",
    "%autoreload 2\n",
    "%matplotlib inline\n",
    "\n",
    "    \n",
    "import os, json, sys, time, random\n",
    "import numpy as np\n",
    "import torch\n",
    "from torch.optim import Adam\n",
    "from  easydict import EasyDict\n",
    "import matplotlib.pyplot as plt\n",
    "\n",
    "from steves_models.steves_ptn import Steves_Prototypical_Network\n",
    "\n",
    "from steves_utils.lazy_iterable_wrapper import Lazy_Iterable_Wrapper\n",
    "from steves_utils.iterable_aggregator import Iterable_Aggregator\n",
    "from steves_utils.ptn_train_eval_test_jig import  PTN_Train_Eval_Test_Jig\n",
    "from steves_utils.torch_sequential_builder import build_sequential\n",
    "from steves_utils.torch_utils import get_dataset_metrics, ptn_confusion_by_domain_over_dataloader\n",
    "from steves_utils.utils_v2 import (per_domain_accuracy_from_confusion, get_datasets_base_path)\n",
    "from steves_utils.PTN.utils import independent_accuracy_assesment\n",
    "\n",
    "from torch.utils.data import DataLoader\n",
    "\n",
    "from steves_utils.stratified_dataset.episodic_accessor import Episodic_Accessor_Factory\n",
    "\n",
    "from steves_utils.ptn_do_report import (\n",
    "    get_loss_curve,\n",
    "    get_results_table,\n",
    "    get_parameters_table,\n",
    "    get_domain_accuracies,\n",
    ")\n",
    "\n",
    "from steves_utils.transforms import get_chained_transform"
   ]
  },
  {
   "cell_type": "markdown",
   "id": "41c840b4",
   "metadata": {
    "papermill": {
     "duration": 0.01984,
     "end_time": "2022-03-22T20:41:00.165668",
     "exception": false,
     "start_time": "2022-03-22T20:41:00.145828",
     "status": "completed"
    },
    "tags": []
   },
   "source": [
    "# Allowed Parameters\n",
    "These are allowed parameters, not defaults\n",
    "Each of these values need to be present in the injected parameters (the notebook will raise an exception if they are not present)\n",
    "\n",
    "Papermill uses the cell tag \"parameters\" to inject the real parameters below this cell.\n",
    "Enable tags to see what I mean"
   ]
  },
  {
   "cell_type": "code",
   "execution_count": 2,
   "id": "fd44eb83",
   "metadata": {
    "execution": {
     "iopub.execute_input": "2022-03-22T20:41:00.212363Z",
     "iopub.status.busy": "2022-03-22T20:41:00.211564Z",
     "iopub.status.idle": "2022-03-22T20:41:00.234148Z",
     "shell.execute_reply": "2022-03-22T20:41:00.233284Z"
    },
    "papermill": {
     "duration": 0.04899,
     "end_time": "2022-03-22T20:41:00.234394",
     "exception": false,
     "start_time": "2022-03-22T20:41:00.185404",
     "status": "completed"
    },
    "tags": []
   },
   "outputs": [],
   "source": [
    "required_parameters = {\n",
    "    \"experiment_name\",\n",
    "    \"lr\",\n",
    "    \"device\",\n",
    "    \"seed\",\n",
    "    \"dataset_seed\",\n",
    "    \"n_shot\",\n",
    "    \"n_query\",\n",
    "    \"n_way\",\n",
    "    \"train_k_factor\",\n",
    "    \"val_k_factor\",\n",
    "    \"test_k_factor\",\n",
    "    \"n_epoch\",\n",
    "    \"patience\",\n",
    "    \"criteria_for_best\",\n",
    "    \"x_net\",\n",
    "    \"datasets\",\n",
    "    \"torch_default_dtype\",\n",
    "    \"NUM_LOGS_PER_EPOCH\",\n",
    "    \"BEST_MODEL_PATH\",\n",
    "    \"x_shape\",\n",
    "}"
   ]
  },
  {
   "cell_type": "code",
   "execution_count": 3,
   "id": "fa3f0049",
   "metadata": {
    "execution": {
     "iopub.execute_input": "2022-03-22T20:41:00.301753Z",
     "iopub.status.busy": "2022-03-22T20:41:00.294911Z",
     "iopub.status.idle": "2022-03-22T20:41:00.322130Z",
     "shell.execute_reply": "2022-03-22T20:41:00.321571Z"
    },
    "papermill": {
     "duration": 0.060653,
     "end_time": "2022-03-22T20:41:00.322244",
     "exception": false,
     "start_time": "2022-03-22T20:41:00.261591",
     "status": "completed"
    },
    "tags": [
     "parameters"
    ]
   },
   "outputs": [],
   "source": [
    "from steves_utils.CORES.utils import (\n",
    "    ALL_NODES,\n",
    "    ALL_NODES_MINIMUM_1000_EXAMPLES,\n",
    "    ALL_DAYS\n",
    ")\n",
    "\n",
    "from steves_utils.ORACLE.utils_v2 import (\n",
    "    ALL_DISTANCES_FEET_NARROWED,\n",
    "    ALL_RUNS,\n",
    "    ALL_SERIAL_NUMBERS,\n",
    ")\n",
    "\n",
    "standalone_parameters = {}\n",
    "standalone_parameters[\"experiment_name\"] = \"STANDALONE PTN\"\n",
    "standalone_parameters[\"lr\"] = 0.001\n",
    "standalone_parameters[\"device\"] = \"cuda\"\n",
    "\n",
    "standalone_parameters[\"seed\"] = 1337\n",
    "standalone_parameters[\"dataset_seed\"] = 1337\n",
    "\n",
    "standalone_parameters[\"n_way\"] = 8\n",
    "standalone_parameters[\"n_shot\"] = 3\n",
    "standalone_parameters[\"n_query\"]  = 2\n",
    "standalone_parameters[\"train_k_factor\"] = 1\n",
    "standalone_parameters[\"val_k_factor\"] = 2\n",
    "standalone_parameters[\"test_k_factor\"] = 2\n",
    "\n",
    "\n",
    "standalone_parameters[\"n_epoch\"] = 50\n",
    "\n",
    "standalone_parameters[\"patience\"] = 10\n",
    "standalone_parameters[\"criteria_for_best\"] = \"source_loss\"\n",
    "\n",
    "standalone_parameters[\"datasets\"] = [\n",
    "    {\n",
    "        \"labels\": ALL_SERIAL_NUMBERS,\n",
    "        \"domains\": ALL_DISTANCES_FEET_NARROWED,\n",
    "        \"num_examples_per_domain_per_label\": 100,\n",
    "        \"pickle_path\": os.path.join(get_datasets_base_path(), \"oracle.Run1_framed_2000Examples_stratified_ds.2022A.pkl\"),\n",
    "        \"source_or_target_dataset\": \"source\",\n",
    "        \"x_transforms\": [\"unit_mag\", \"minus_two\"],\n",
    "        \"episode_transforms\": [],\n",
    "        \"domain_prefix\": \"ORACLE_\"\n",
    "    },\n",
    "    {\n",
    "        \"labels\": ALL_NODES,\n",
    "        \"domains\": ALL_DAYS,\n",
    "        \"num_examples_per_domain_per_label\": 100,\n",
    "        \"pickle_path\": os.path.join(get_datasets_base_path(), \"cores.stratified_ds.2022A.pkl\"),\n",
    "        \"source_or_target_dataset\": \"target\",\n",
    "        \"x_transforms\": [\"unit_power\", \"times_zero\"],\n",
    "        \"episode_transforms\": [],\n",
    "        \"domain_prefix\": \"CORES_\"\n",
    "    }   \n",
    "]\n",
    "\n",
    "standalone_parameters[\"torch_default_dtype\"] = \"torch.float32\" \n",
    "\n",
    "\n",
    "\n",
    "standalone_parameters[\"x_net\"] =     [\n",
    "    {\"class\": \"nnReshape\", \"kargs\": {\"shape\":[-1, 1, 2, 256]}},\n",
    "    {\"class\": \"Conv2d\", \"kargs\": { \"in_channels\":1, \"out_channels\":256, \"kernel_size\":(1,7), \"bias\":False, \"padding\":(0,3), },},\n",
    "    {\"class\": \"ReLU\", \"kargs\": {\"inplace\": True}},\n",
    "    {\"class\": \"BatchNorm2d\", \"kargs\": {\"num_features\":256}},\n",
    "\n",
    "    {\"class\": \"Conv2d\", \"kargs\": { \"in_channels\":256, \"out_channels\":80, \"kernel_size\":(2,7), \"bias\":True, \"padding\":(0,3), },},\n",
    "    {\"class\": \"ReLU\", \"kargs\": {\"inplace\": True}},\n",
    "    {\"class\": \"BatchNorm2d\", \"kargs\": {\"num_features\":80}},\n",
    "    {\"class\": \"Flatten\", \"kargs\": {}},\n",
    "\n",
    "    {\"class\": \"Linear\", \"kargs\": {\"in_features\": 80*256, \"out_features\": 256}}, # 80 units per IQ pair\n",
    "    {\"class\": \"ReLU\", \"kargs\": {\"inplace\": True}},\n",
    "    {\"class\": \"BatchNorm1d\", \"kargs\": {\"num_features\":256}},\n",
    "\n",
    "    {\"class\": \"Linear\", \"kargs\": {\"in_features\": 256, \"out_features\": 256}},\n",
    "]\n",
    "\n",
    "# Parameters relevant to results\n",
    "# These parameters will basically never need to change\n",
    "standalone_parameters[\"NUM_LOGS_PER_EPOCH\"] = 10\n",
    "standalone_parameters[\"BEST_MODEL_PATH\"] = \"./best_model.pth\"\n",
    "\n",
    "\n",
    "\n",
    "\n"
   ]
  },
  {
   "cell_type": "code",
   "execution_count": 4,
   "id": "a7116cbe",
   "metadata": {
    "execution": {
     "iopub.execute_input": "2022-03-22T20:41:00.380210Z",
     "iopub.status.busy": "2022-03-22T20:41:00.367005Z",
     "iopub.status.idle": "2022-03-22T20:41:00.401018Z",
     "shell.execute_reply": "2022-03-22T20:41:00.400470Z"
    },
    "papermill": {
     "duration": 0.055819,
     "end_time": "2022-03-22T20:41:00.401123",
     "exception": false,
     "start_time": "2022-03-22T20:41:00.345304",
     "status": "completed"
    },
    "tags": [
     "injected-parameters"
    ]
   },
   "outputs": [],
   "source": [
    "# Parameters\n",
    "parameters = {\n",
    "    \"experiment_name\": \"tl_1v2:wisig-oracle.run1.limited\",\n",
    "    \"device\": \"cuda\",\n",
    "    \"lr\": 0.0001,\n",
    "    \"n_shot\": 3,\n",
    "    \"n_query\": 2,\n",
    "    \"train_k_factor\": 3,\n",
    "    \"val_k_factor\": 2,\n",
    "    \"test_k_factor\": 2,\n",
    "    \"torch_default_dtype\": \"torch.float32\",\n",
    "    \"n_epoch\": 50,\n",
    "    \"patience\": 3,\n",
    "    \"criteria_for_best\": \"target_accuracy\",\n",
    "    \"x_net\": [\n",
    "        {\"class\": \"nnReshape\", \"kargs\": {\"shape\": [-1, 1, 2, 256]}},\n",
    "        {\n",
    "            \"class\": \"Conv2d\",\n",
    "            \"kargs\": {\n",
    "                \"in_channels\": 1,\n",
    "                \"out_channels\": 256,\n",
    "                \"kernel_size\": [1, 7],\n",
    "                \"bias\": False,\n",
    "                \"padding\": [0, 3],\n",
    "            },\n",
    "        },\n",
    "        {\"class\": \"ReLU\", \"kargs\": {\"inplace\": True}},\n",
    "        {\"class\": \"BatchNorm2d\", \"kargs\": {\"num_features\": 256}},\n",
    "        {\n",
    "            \"class\": \"Conv2d\",\n",
    "            \"kargs\": {\n",
    "                \"in_channels\": 256,\n",
    "                \"out_channels\": 80,\n",
    "                \"kernel_size\": [2, 7],\n",
    "                \"bias\": True,\n",
    "                \"padding\": [0, 3],\n",
    "            },\n",
    "        },\n",
    "        {\"class\": \"ReLU\", \"kargs\": {\"inplace\": True}},\n",
    "        {\"class\": \"BatchNorm2d\", \"kargs\": {\"num_features\": 80}},\n",
    "        {\"class\": \"Flatten\", \"kargs\": {}},\n",
    "        {\"class\": \"Linear\", \"kargs\": {\"in_features\": 20480, \"out_features\": 256}},\n",
    "        {\"class\": \"ReLU\", \"kargs\": {\"inplace\": True}},\n",
    "        {\"class\": \"BatchNorm1d\", \"kargs\": {\"num_features\": 256}},\n",
    "        {\"class\": \"Linear\", \"kargs\": {\"in_features\": 256, \"out_features\": 256}},\n",
    "    ],\n",
    "    \"NUM_LOGS_PER_EPOCH\": 10,\n",
    "    \"BEST_MODEL_PATH\": \"./best_model.pth\",\n",
    "    \"n_way\": 16,\n",
    "    \"datasets\": [\n",
    "        {\n",
    "            \"labels\": [\n",
    "                \"1-10\",\n",
    "                \"1-12\",\n",
    "                \"1-14\",\n",
    "                \"1-16\",\n",
    "                \"1-18\",\n",
    "                \"1-19\",\n",
    "                \"1-8\",\n",
    "                \"10-11\",\n",
    "                \"10-17\",\n",
    "                \"10-4\",\n",
    "                \"10-7\",\n",
    "                \"11-1\",\n",
    "                \"11-10\",\n",
    "                \"11-19\",\n",
    "                \"11-20\",\n",
    "                \"11-4\",\n",
    "                \"11-7\",\n",
    "                \"12-19\",\n",
    "                \"12-20\",\n",
    "                \"12-7\",\n",
    "                \"13-14\",\n",
    "                \"13-18\",\n",
    "                \"13-19\",\n",
    "                \"13-20\",\n",
    "                \"13-3\",\n",
    "                \"13-7\",\n",
    "                \"14-10\",\n",
    "                \"14-11\",\n",
    "                \"14-12\",\n",
    "                \"14-13\",\n",
    "                \"14-14\",\n",
    "                \"14-19\",\n",
    "                \"14-20\",\n",
    "                \"14-7\",\n",
    "                \"14-8\",\n",
    "                \"14-9\",\n",
    "                \"15-1\",\n",
    "                \"15-19\",\n",
    "                \"15-6\",\n",
    "                \"16-1\",\n",
    "                \"16-16\",\n",
    "                \"16-19\",\n",
    "                \"16-20\",\n",
    "                \"17-10\",\n",
    "                \"17-11\",\n",
    "                \"18-1\",\n",
    "                \"18-10\",\n",
    "                \"18-11\",\n",
    "                \"18-12\",\n",
    "                \"18-13\",\n",
    "                \"18-14\",\n",
    "                \"18-15\",\n",
    "                \"18-16\",\n",
    "                \"18-17\",\n",
    "                \"18-19\",\n",
    "                \"18-2\",\n",
    "                \"18-20\",\n",
    "                \"18-4\",\n",
    "                \"18-5\",\n",
    "                \"18-7\",\n",
    "                \"18-8\",\n",
    "                \"18-9\",\n",
    "                \"19-1\",\n",
    "                \"19-10\",\n",
    "                \"19-11\",\n",
    "                \"19-12\",\n",
    "                \"19-13\",\n",
    "                \"19-14\",\n",
    "                \"19-15\",\n",
    "                \"19-19\",\n",
    "                \"19-2\",\n",
    "                \"19-20\",\n",
    "                \"19-3\",\n",
    "                \"19-4\",\n",
    "                \"19-6\",\n",
    "                \"19-7\",\n",
    "                \"19-8\",\n",
    "                \"19-9\",\n",
    "                \"2-1\",\n",
    "                \"2-13\",\n",
    "                \"2-15\",\n",
    "                \"2-3\",\n",
    "                \"2-4\",\n",
    "                \"2-5\",\n",
    "                \"2-6\",\n",
    "                \"2-7\",\n",
    "                \"2-8\",\n",
    "                \"20-1\",\n",
    "                \"20-12\",\n",
    "                \"20-14\",\n",
    "                \"20-15\",\n",
    "                \"20-16\",\n",
    "                \"20-18\",\n",
    "                \"20-19\",\n",
    "                \"20-20\",\n",
    "                \"20-3\",\n",
    "                \"20-4\",\n",
    "                \"20-5\",\n",
    "                \"20-7\",\n",
    "                \"20-8\",\n",
    "                \"3-1\",\n",
    "                \"3-13\",\n",
    "                \"3-18\",\n",
    "                \"3-2\",\n",
    "                \"3-8\",\n",
    "                \"4-1\",\n",
    "                \"4-10\",\n",
    "                \"4-11\",\n",
    "                \"5-1\",\n",
    "                \"5-5\",\n",
    "                \"6-1\",\n",
    "                \"6-15\",\n",
    "                \"6-6\",\n",
    "                \"7-10\",\n",
    "                \"7-11\",\n",
    "                \"7-12\",\n",
    "                \"7-13\",\n",
    "                \"7-14\",\n",
    "                \"7-7\",\n",
    "                \"7-8\",\n",
    "                \"7-9\",\n",
    "                \"8-1\",\n",
    "                \"8-13\",\n",
    "                \"8-14\",\n",
    "                \"8-18\",\n",
    "                \"8-20\",\n",
    "                \"8-3\",\n",
    "                \"8-8\",\n",
    "                \"9-1\",\n",
    "                \"9-7\",\n",
    "            ],\n",
    "            \"domains\": [1, 2, 3, 4],\n",
    "            \"num_examples_per_domain_per_label\": -1,\n",
    "            \"pickle_path\": \"/root/csc500-main/datasets/wisig.node3-19.stratified_ds.2022A.pkl\",\n",
    "            \"source_or_target_dataset\": \"source\",\n",
    "            \"x_transforms\": [],\n",
    "            \"episode_transforms\": [],\n",
    "            \"domain_prefix\": \"Wisig_\",\n",
    "        },\n",
    "        {\n",
    "            \"labels\": [\n",
    "                \"3123D52\",\n",
    "                \"3123D65\",\n",
    "                \"3123D79\",\n",
    "                \"3123D80\",\n",
    "                \"3123D54\",\n",
    "                \"3123D70\",\n",
    "                \"3123D7B\",\n",
    "                \"3123D89\",\n",
    "                \"3123D58\",\n",
    "                \"3123D76\",\n",
    "                \"3123D7D\",\n",
    "                \"3123EFE\",\n",
    "                \"3123D64\",\n",
    "                \"3123D78\",\n",
    "                \"3123D7E\",\n",
    "                \"3124E4A\",\n",
    "            ],\n",
    "            \"domains\": [32, 38, 8, 44, 14, 50, 20, 26],\n",
    "            \"num_examples_per_domain_per_label\": 2000,\n",
    "            \"pickle_path\": \"/root/csc500-main/datasets/oracle.Run1_10kExamples_stratified_ds.2022A.pkl\",\n",
    "            \"source_or_target_dataset\": \"target\",\n",
    "            \"x_transforms\": [],\n",
    "            \"episode_transforms\": [],\n",
    "            \"domain_prefix\": \"ORACLE.run1\",\n",
    "        },\n",
    "    ],\n",
    "    \"dataset_seed\": 420,\n",
    "    \"seed\": 420,\n",
    "}\n"
   ]
  },
  {
   "cell_type": "code",
   "execution_count": 5,
   "id": "8fa1cc33",
   "metadata": {
    "execution": {
     "iopub.execute_input": "2022-03-22T20:41:00.448926Z",
     "iopub.status.busy": "2022-03-22T20:41:00.448559Z",
     "iopub.status.idle": "2022-03-22T20:41:00.468327Z",
     "shell.execute_reply": "2022-03-22T20:41:00.467761Z"
    },
    "papermill": {
     "duration": 0.042874,
     "end_time": "2022-03-22T20:41:00.468432",
     "exception": false,
     "start_time": "2022-03-22T20:41:00.425558",
     "status": "completed"
    },
    "tags": []
   },
   "outputs": [],
   "source": [
    "# Set this to True if you want to run this template directly\n",
    "STANDALONE = False\n",
    "if STANDALONE:\n",
    "    print(\"parameters not injected, running with standalone_parameters\")\n",
    "    parameters = standalone_parameters\n",
    "\n",
    "if not 'parameters' in locals() and not 'parameters' in globals():\n",
    "    raise Exception(\"Parameter injection failed\")\n",
    "\n",
    "#Use an easy dict for all the parameters\n",
    "p = EasyDict(parameters)\n",
    "\n",
    "if \"x_shape\" not in p:\n",
    "    p.x_shape = [2,256] # Default to this if we dont supply x_shape\n",
    "\n",
    "\n",
    "supplied_keys = set(p.keys())\n",
    "\n",
    "if  supplied_keys != required_parameters:\n",
    "    print(\"Parameters are incorrect\")\n",
    "    if len(supplied_keys - required_parameters)>0: print(\"Shouldn't have:\", str(supplied_keys - required_parameters))\n",
    "    if len(required_parameters - supplied_keys)>0: print(\"Need to have:\", str(required_parameters - supplied_keys))\n",
    "    raise RuntimeError(\"Parameters are incorrect\")"
   ]
  },
  {
   "cell_type": "code",
   "execution_count": 6,
   "id": "3a028d58",
   "metadata": {
    "execution": {
     "iopub.execute_input": "2022-03-22T20:41:00.513930Z",
     "iopub.status.busy": "2022-03-22T20:41:00.513478Z",
     "iopub.status.idle": "2022-03-22T20:41:00.532639Z",
     "shell.execute_reply": "2022-03-22T20:41:00.532101Z"
    },
    "papermill": {
     "duration": 0.040264,
     "end_time": "2022-03-22T20:41:00.532742",
     "exception": false,
     "start_time": "2022-03-22T20:41:00.492478",
     "status": "completed"
    },
    "tags": []
   },
   "outputs": [],
   "source": [
    "###################################\n",
    "# Set the RNGs and make it all deterministic\n",
    "###################################\n",
    "np.random.seed(p.seed)\n",
    "random.seed(p.seed)\n",
    "torch.manual_seed(p.seed)\n",
    "\n",
    "torch.use_deterministic_algorithms(True) "
   ]
  },
  {
   "cell_type": "code",
   "execution_count": 7,
   "id": "b691acf6",
   "metadata": {
    "execution": {
     "iopub.execute_input": "2022-03-22T20:41:00.580048Z",
     "iopub.status.busy": "2022-03-22T20:41:00.578960Z",
     "iopub.status.idle": "2022-03-22T20:41:00.602015Z",
     "shell.execute_reply": "2022-03-22T20:41:00.601471Z"
    },
    "papermill": {
     "duration": 0.045111,
     "end_time": "2022-03-22T20:41:00.602118",
     "exception": false,
     "start_time": "2022-03-22T20:41:00.557007",
     "status": "completed"
    },
    "tags": []
   },
   "outputs": [],
   "source": [
    "###########################################\n",
    "# The stratified datasets honor this\n",
    "###########################################\n",
    "torch.set_default_dtype(eval(p.torch_default_dtype))"
   ]
  },
  {
   "cell_type": "code",
   "execution_count": 8,
   "id": "b5fba671",
   "metadata": {
    "execution": {
     "iopub.execute_input": "2022-03-22T20:41:00.649447Z",
     "iopub.status.busy": "2022-03-22T20:41:00.648906Z",
     "iopub.status.idle": "2022-03-22T20:41:00.704326Z",
     "shell.execute_reply": "2022-03-22T20:41:00.703696Z"
    },
    "papermill": {
     "duration": 0.078427,
     "end_time": "2022-03-22T20:41:00.704476",
     "exception": false,
     "start_time": "2022-03-22T20:41:00.626049",
     "status": "completed"
    },
    "tags": []
   },
   "outputs": [],
   "source": [
    "###################################\n",
    "# Build the network(s)\n",
    "# Note: It's critical to do this AFTER setting the RNG\n",
    "###################################\n",
    "x_net = build_sequential(p.x_net)"
   ]
  },
  {
   "cell_type": "code",
   "execution_count": 9,
   "id": "5d7e61cc",
   "metadata": {
    "execution": {
     "iopub.execute_input": "2022-03-22T20:41:00.751811Z",
     "iopub.status.busy": "2022-03-22T20:41:00.750975Z",
     "iopub.status.idle": "2022-03-22T20:41:00.773741Z",
     "shell.execute_reply": "2022-03-22T20:41:00.772949Z"
    },
    "papermill": {
     "duration": 0.046056,
     "end_time": "2022-03-22T20:41:00.773893",
     "exception": false,
     "start_time": "2022-03-22T20:41:00.727837",
     "status": "completed"
    },
    "tags": []
   },
   "outputs": [],
   "source": [
    "start_time_secs = time.time()"
   ]
  },
  {
   "cell_type": "code",
   "execution_count": 10,
   "id": "c6b67dfd",
   "metadata": {
    "execution": {
     "iopub.execute_input": "2022-03-22T20:41:00.820766Z",
     "iopub.status.busy": "2022-03-22T20:41:00.820223Z",
     "iopub.status.idle": "2022-03-22T20:41:00.839267Z",
     "shell.execute_reply": "2022-03-22T20:41:00.838478Z"
    },
    "papermill": {
     "duration": 0.041018,
     "end_time": "2022-03-22T20:41:00.839417",
     "exception": false,
     "start_time": "2022-03-22T20:41:00.798399",
     "status": "completed"
    },
    "tags": []
   },
   "outputs": [],
   "source": [
    "p.domains_source = []\n",
    "p.domains_target = []\n",
    "\n",
    "\n",
    "train_original_source = []\n",
    "val_original_source   = []\n",
    "test_original_source  = []\n",
    "\n",
    "train_original_target = []\n",
    "val_original_target   = []\n",
    "test_original_target  = []"
   ]
  },
  {
   "cell_type": "code",
   "execution_count": 11,
   "id": "e3d9c3d3",
   "metadata": {
    "execution": {
     "iopub.execute_input": "2022-03-22T20:41:00.887701Z",
     "iopub.status.busy": "2022-03-22T20:41:00.887334Z",
     "iopub.status.idle": "2022-03-22T20:41:00.905966Z",
     "shell.execute_reply": "2022-03-22T20:41:00.905170Z"
    },
    "papermill": {
     "duration": 0.040259,
     "end_time": "2022-03-22T20:41:00.906118",
     "exception": false,
     "start_time": "2022-03-22T20:41:00.865859",
     "status": "completed"
    },
    "tags": []
   },
   "outputs": [],
   "source": [
    "# global_x_transform_func = lambda x: normalize(x.to(torch.get_default_dtype()), \"unit_power\") # unit_power, unit_mag\n",
    "# global_x_transform_func = lambda x: normalize(x, \"unit_power\") # unit_power, unit_mag"
   ]
  },
  {
   "cell_type": "code",
   "execution_count": 12,
   "id": "acb78fd2",
   "metadata": {
    "execution": {
     "iopub.execute_input": "2022-03-22T20:41:00.957333Z",
     "iopub.status.busy": "2022-03-22T20:41:00.956763Z",
     "iopub.status.idle": "2022-03-22T20:41:00.976607Z",
     "shell.execute_reply": "2022-03-22T20:41:00.975810Z"
    },
    "papermill": {
     "duration": 0.045844,
     "end_time": "2022-03-22T20:41:00.976759",
     "exception": false,
     "start_time": "2022-03-22T20:41:00.930915",
     "status": "completed"
    },
    "tags": []
   },
   "outputs": [],
   "source": [
    "def add_dataset(\n",
    "    labels,\n",
    "    domains,\n",
    "    pickle_path,\n",
    "    x_transforms,\n",
    "    episode_transforms,\n",
    "    domain_prefix,\n",
    "    num_examples_per_domain_per_label,\n",
    "    source_or_target_dataset:str,\n",
    "    iterator_seed=p.seed,\n",
    "    dataset_seed=p.dataset_seed,\n",
    "    n_shot=p.n_shot,\n",
    "    n_way=p.n_way,\n",
    "    n_query=p.n_query,\n",
    "    train_val_test_k_factors=(p.train_k_factor,p.val_k_factor,p.test_k_factor),\n",
    "):\n",
    "   \n",
    "    if x_transforms == []: x_transform = None\n",
    "    else: x_transform = get_chained_transform(x_transforms)\n",
    "    \n",
    "    if episode_transforms == []: episode_transform = None\n",
    "    else: raise Exception(\"episode_transforms not implemented\")\n",
    "    \n",
    "    episode_transform = lambda tup, _prefix=domain_prefix: (_prefix + str(tup[0]), tup[1])\n",
    "\n",
    "\n",
    "    eaf = Episodic_Accessor_Factory(\n",
    "        labels=labels,\n",
    "        domains=domains,\n",
    "        num_examples_per_domain_per_label=num_examples_per_domain_per_label,\n",
    "        iterator_seed=iterator_seed,\n",
    "        dataset_seed=dataset_seed,\n",
    "        n_shot=n_shot,\n",
    "        n_way=n_way,\n",
    "        n_query=n_query,\n",
    "        train_val_test_k_factors=train_val_test_k_factors,\n",
    "        pickle_path=pickle_path,\n",
    "        x_transform_func=x_transform,\n",
    "    )\n",
    "\n",
    "    train, val, test = eaf.get_train(), eaf.get_val(), eaf.get_test()\n",
    "    train = Lazy_Iterable_Wrapper(train, episode_transform)\n",
    "    val = Lazy_Iterable_Wrapper(val, episode_transform)\n",
    "    test = Lazy_Iterable_Wrapper(test, episode_transform)\n",
    "\n",
    "    if source_or_target_dataset==\"source\":\n",
    "        train_original_source.append(train)\n",
    "        val_original_source.append(val)\n",
    "        test_original_source.append(test)\n",
    "\n",
    "        p.domains_source.extend(\n",
    "            [domain_prefix + str(u) for u in domains]\n",
    "        )\n",
    "    elif source_or_target_dataset==\"target\":\n",
    "        train_original_target.append(train)\n",
    "        val_original_target.append(val)\n",
    "        test_original_target.append(test)\n",
    "        p.domains_target.extend(\n",
    "            [domain_prefix + str(u) for u in domains]\n",
    "        )\n",
    "    else:\n",
    "        raise Exception(f\"invalid source_or_target_dataset: {source_or_target_dataset}\")\n",
    "    "
   ]
  },
  {
   "cell_type": "code",
   "execution_count": 13,
   "id": "fe266617",
   "metadata": {
    "execution": {
     "iopub.execute_input": "2022-03-22T20:41:01.026736Z",
     "iopub.status.busy": "2022-03-22T20:41:01.026381Z",
     "iopub.status.idle": "2022-03-22T20:41:07.637999Z",
     "shell.execute_reply": "2022-03-22T20:41:07.637115Z"
    },
    "papermill": {
     "duration": 6.633608,
     "end_time": "2022-03-22T20:41:07.638179",
     "exception": false,
     "start_time": "2022-03-22T20:41:01.004571",
     "status": "completed"
    },
    "tags": []
   },
   "outputs": [],
   "source": [
    "for ds in p.datasets:\n",
    "    add_dataset(**ds)"
   ]
  },
  {
   "cell_type": "code",
   "execution_count": 14,
   "id": "b90d65ac",
   "metadata": {
    "execution": {
     "iopub.execute_input": "2022-03-22T20:41:07.687803Z",
     "iopub.status.busy": "2022-03-22T20:41:07.687266Z",
     "iopub.status.idle": "2022-03-22T20:41:07.713117Z",
     "shell.execute_reply": "2022-03-22T20:41:07.712317Z"
    },
    "papermill": {
     "duration": 0.048747,
     "end_time": "2022-03-22T20:41:07.713273",
     "exception": false,
     "start_time": "2022-03-22T20:41:07.664526",
     "status": "completed"
    },
    "tags": []
   },
   "outputs": [],
   "source": [
    "# from steves_utils.CORES.utils import (\n",
    "#     ALL_NODES,\n",
    "#     ALL_NODES_MINIMUM_1000_EXAMPLES,\n",
    "#     ALL_DAYS\n",
    "# )\n",
    "\n",
    "# add_dataset(\n",
    "#     labels=ALL_NODES,\n",
    "#     domains = ALL_DAYS,\n",
    "#     num_examples_per_domain_per_label=100,\n",
    "#     pickle_path=os.path.join(get_datasets_base_path(), \"cores.stratified_ds.2022A.pkl\"),\n",
    "#     source_or_target_dataset=\"target\",\n",
    "#     x_transform_func=global_x_transform_func,\n",
    "#     domain_modifier=lambda u: f\"cores_{u}\"\n",
    "# )"
   ]
  },
  {
   "cell_type": "code",
   "execution_count": 15,
   "id": "76db484d",
   "metadata": {
    "execution": {
     "iopub.execute_input": "2022-03-22T20:41:07.773003Z",
     "iopub.status.busy": "2022-03-22T20:41:07.765682Z",
     "iopub.status.idle": "2022-03-22T20:41:07.784461Z",
     "shell.execute_reply": "2022-03-22T20:41:07.783665Z"
    },
    "papermill": {
     "duration": 0.044867,
     "end_time": "2022-03-22T20:41:07.784612",
     "exception": false,
     "start_time": "2022-03-22T20:41:07.739745",
     "status": "completed"
    },
    "tags": []
   },
   "outputs": [],
   "source": [
    "# from steves_utils.ORACLE.utils_v2 import (\n",
    "#     ALL_DISTANCES_FEET,\n",
    "#     ALL_RUNS,\n",
    "#     ALL_SERIAL_NUMBERS,\n",
    "# )\n",
    "\n",
    "\n",
    "# add_dataset(\n",
    "#     labels=ALL_SERIAL_NUMBERS,\n",
    "#     domains = list(set(ALL_DISTANCES_FEET) - {2,62}),\n",
    "#     num_examples_per_domain_per_label=100,\n",
    "#     pickle_path=os.path.join(get_datasets_base_path(), \"oracle.Run2_framed_2000Examples_stratified_ds.2022A.pkl\"),\n",
    "#     source_or_target_dataset=\"source\",\n",
    "#     x_transform_func=global_x_transform_func,\n",
    "#     domain_modifier=lambda u: f\"oracle1_{u}\"\n",
    "# )\n"
   ]
  },
  {
   "cell_type": "code",
   "execution_count": 16,
   "id": "97dea9d2",
   "metadata": {
    "execution": {
     "iopub.execute_input": "2022-03-22T20:41:07.833676Z",
     "iopub.status.busy": "2022-03-22T20:41:07.833312Z",
     "iopub.status.idle": "2022-03-22T20:41:07.854388Z",
     "shell.execute_reply": "2022-03-22T20:41:07.853590Z"
    },
    "papermill": {
     "duration": 0.045401,
     "end_time": "2022-03-22T20:41:07.854539",
     "exception": false,
     "start_time": "2022-03-22T20:41:07.809138",
     "status": "completed"
    },
    "tags": []
   },
   "outputs": [],
   "source": [
    "# from steves_utils.ORACLE.utils_v2 import (\n",
    "#     ALL_DISTANCES_FEET,\n",
    "#     ALL_RUNS,\n",
    "#     ALL_SERIAL_NUMBERS,\n",
    "# )\n",
    "\n",
    "\n",
    "# add_dataset(\n",
    "#     labels=ALL_SERIAL_NUMBERS,\n",
    "#     domains = list(set(ALL_DISTANCES_FEET) - {2,62,56}),\n",
    "#     num_examples_per_domain_per_label=100,\n",
    "#     pickle_path=os.path.join(get_datasets_base_path(), \"oracle.Run2_framed_2000Examples_stratified_ds.2022A.pkl\"),\n",
    "#     source_or_target_dataset=\"source\",\n",
    "#     x_transform_func=global_x_transform_func,\n",
    "#     domain_modifier=lambda u: f\"oracle2_{u}\"\n",
    "# )"
   ]
  },
  {
   "cell_type": "code",
   "execution_count": 17,
   "id": "6f289866",
   "metadata": {
    "execution": {
     "iopub.execute_input": "2022-03-22T20:41:07.906671Z",
     "iopub.status.busy": "2022-03-22T20:41:07.905820Z",
     "iopub.status.idle": "2022-03-22T20:41:07.926630Z",
     "shell.execute_reply": "2022-03-22T20:41:07.925965Z"
    },
    "papermill": {
     "duration": 0.04416,
     "end_time": "2022-03-22T20:41:07.926786",
     "exception": false,
     "start_time": "2022-03-22T20:41:07.882626",
     "status": "completed"
    },
    "tags": []
   },
   "outputs": [],
   "source": [
    "# add_dataset(\n",
    "#     labels=list(range(19)),\n",
    "#     domains = [0,1,2],\n",
    "#     num_examples_per_domain_per_label=100,\n",
    "#     pickle_path=os.path.join(get_datasets_base_path(), \"metehan.stratified_ds.2022A.pkl\"),\n",
    "#     source_or_target_dataset=\"target\",\n",
    "#     x_transform_func=global_x_transform_func,\n",
    "#     domain_modifier=lambda u: f\"met_{u}\"\n",
    "# )"
   ]
  },
  {
   "cell_type": "code",
   "execution_count": 18,
   "id": "86a863c3",
   "metadata": {
    "execution": {
     "iopub.execute_input": "2022-03-22T20:41:07.979682Z",
     "iopub.status.busy": "2022-03-22T20:41:07.978202Z",
     "iopub.status.idle": "2022-03-22T20:41:07.998394Z",
     "shell.execute_reply": "2022-03-22T20:41:07.997599Z"
    },
    "papermill": {
     "duration": 0.046137,
     "end_time": "2022-03-22T20:41:07.998546",
     "exception": false,
     "start_time": "2022-03-22T20:41:07.952409",
     "status": "completed"
    },
    "tags": []
   },
   "outputs": [],
   "source": [
    "# # from steves_utils.wisig.utils import (\n",
    "# #     ALL_NODES_MINIMUM_100_EXAMPLES,\n",
    "# #     ALL_NODES_MINIMUM_500_EXAMPLES,\n",
    "# #     ALL_NODES_MINIMUM_1000_EXAMPLES,\n",
    "# #     ALL_DAYS\n",
    "# # )\n",
    "\n",
    "# import steves_utils.wisig.utils as wisig\n",
    "\n",
    "\n",
    "# add_dataset(\n",
    "#     labels=wisig.ALL_NODES_MINIMUM_100_EXAMPLES,\n",
    "#     domains = wisig.ALL_DAYS,\n",
    "#     num_examples_per_domain_per_label=100,\n",
    "#     pickle_path=os.path.join(get_datasets_base_path(), \"wisig.node3-19.stratified_ds.2022A.pkl\"),\n",
    "#     source_or_target_dataset=\"target\",\n",
    "#     x_transform_func=global_x_transform_func,\n",
    "#     domain_modifier=lambda u: f\"wisig_{u}\"\n",
    "# )"
   ]
  },
  {
   "cell_type": "code",
   "execution_count": 19,
   "id": "fd5442bc",
   "metadata": {
    "execution": {
     "iopub.execute_input": "2022-03-22T20:41:08.050513Z",
     "iopub.status.busy": "2022-03-22T20:41:08.049798Z",
     "iopub.status.idle": "2022-03-22T20:41:08.069162Z",
     "shell.execute_reply": "2022-03-22T20:41:08.068360Z"
    },
    "papermill": {
     "duration": 0.044687,
     "end_time": "2022-03-22T20:41:08.069312",
     "exception": false,
     "start_time": "2022-03-22T20:41:08.024625",
     "status": "completed"
    },
    "tags": []
   },
   "outputs": [],
   "source": [
    "###################################\n",
    "# Build the dataset\n",
    "###################################\n",
    "train_original_source = Iterable_Aggregator(train_original_source, p.seed)\n",
    "val_original_source = Iterable_Aggregator(val_original_source, p.seed)\n",
    "test_original_source = Iterable_Aggregator(test_original_source, p.seed)\n",
    "\n",
    "\n",
    "train_original_target = Iterable_Aggregator(train_original_target, p.seed)\n",
    "val_original_target = Iterable_Aggregator(val_original_target, p.seed)\n",
    "test_original_target = Iterable_Aggregator(test_original_target, p.seed)\n",
    "\n",
    "# For CNN We only use X and Y. And we only train on the source.\n",
    "# Properly form the data using a transform lambda and Lazy_Iterable_Wrapper. Finally wrap them in a dataloader\n",
    "\n",
    "transform_lambda = lambda ex: ex[1] # Original is (<domain>, <episode>) so we strip down to episode only\n",
    "\n",
    "train_processed_source = Lazy_Iterable_Wrapper(train_original_source, transform_lambda)\n",
    "val_processed_source   = Lazy_Iterable_Wrapper(val_original_source, transform_lambda)\n",
    "test_processed_source  = Lazy_Iterable_Wrapper(test_original_source, transform_lambda)\n",
    "\n",
    "train_processed_target = Lazy_Iterable_Wrapper(train_original_target, transform_lambda)\n",
    "val_processed_target   = Lazy_Iterable_Wrapper(val_original_target, transform_lambda)\n",
    "test_processed_target  = Lazy_Iterable_Wrapper(test_original_target, transform_lambda)\n",
    "\n",
    "datasets = EasyDict({\n",
    "    \"source\": {\n",
    "        \"original\": {\"train\":train_original_source, \"val\":val_original_source, \"test\":test_original_source},\n",
    "        \"processed\": {\"train\":train_processed_source, \"val\":val_processed_source, \"test\":test_processed_source}\n",
    "    },\n",
    "    \"target\": {\n",
    "        \"original\": {\"train\":train_original_target, \"val\":val_original_target, \"test\":test_original_target},\n",
    "        \"processed\": {\"train\":train_processed_target, \"val\":val_processed_target, \"test\":test_processed_target}\n",
    "    },\n",
    "})"
   ]
  },
  {
   "cell_type": "code",
   "execution_count": 20,
   "id": "5b3c01fc",
   "metadata": {
    "execution": {
     "iopub.execute_input": "2022-03-22T20:41:08.122443Z",
     "iopub.status.busy": "2022-03-22T20:41:08.121912Z",
     "iopub.status.idle": "2022-03-22T20:41:23.039179Z",
     "shell.execute_reply": "2022-03-22T20:41:23.038339Z"
    },
    "papermill": {
     "duration": 14.943447,
     "end_time": "2022-03-22T20:41:23.039354",
     "exception": false,
     "start_time": "2022-03-22T20:41:08.095907",
     "status": "completed"
    },
    "tags": []
   },
   "outputs": [
    {
     "name": "stdout",
     "output_type": "stream",
     "text": [
      "{'Wisig_4', 'Wisig_3', 'Wisig_2', 'Wisig_1'}\n"
     ]
    },
    {
     "name": "stdout",
     "output_type": "stream",
     "text": [
      "{'ORACLE.run138', 'ORACLE.run144', 'ORACLE.run18', 'ORACLE.run132', 'ORACLE.run120', 'ORACLE.run150', 'ORACLE.run114', 'ORACLE.run126'}\n"
     ]
    },
    {
     "name": "stdout",
     "output_type": "stream",
     "text": [
      "tensor([[[-0.0088,  0.0233,  0.0115,  ...,  0.0076,  0.0216,  0.0283],\n",
      "         [-0.0157, -0.0164,  0.0194,  ..., -0.0182, -0.0216,  0.0053]],\n",
      "\n",
      "        [[-0.0285, -0.0371,  0.0019,  ..., -0.0057, -0.0082, -0.0038],\n",
      "         [ 0.0054, -0.0265, -0.0203,  ..., -0.0016, -0.0130, -0.0116]],\n",
      "\n",
      "        [[ 0.0031, -0.0245, -0.0132,  ...,  0.0180, -0.0121, -0.0137],\n",
      "         [ 0.0246,  0.0034, -0.0192,  ...,  0.0267,  0.0221, -0.0057]],\n",
      "\n",
      "        ...,\n",
      "\n",
      "        [[-0.0111, -0.0804, -0.0345,  ..., -0.1187, -0.0739,  0.0767],\n",
      "         [ 0.0608, -0.0315, -0.0863,  ...,  0.0479, -0.1267, -0.1292]],\n",
      "\n",
      "        [[ 0.0636, -0.1413,  0.0100,  ..., -0.1149, -0.1019,  0.1310],\n",
      "         [ 0.1039, -0.0120, -0.1752,  ...,  0.0476, -0.1416, -0.1495]],\n",
      "\n",
      "        [[-0.0765,  0.0862,  0.0033,  ...,  0.0984,  0.0885, -0.0637],\n",
      "         [-0.0549, -0.0087,  0.1401,  ..., -0.0652,  0.1137,  0.1396]]])\n"
     ]
    }
   ],
   "source": [
    "from steves_utils.transforms import get_average_magnitude, get_average_power\n",
    "\n",
    "print(set([u for u,_ in val_original_source]))\n",
    "print(set([u for u,_ in val_original_target]))\n",
    "\n",
    "s_x, s_y, q_x, q_y, _ = next(iter(train_processed_source))\n",
    "print(s_x)\n",
    "\n",
    "# for ds in [\n",
    "#     train_processed_source,\n",
    "#     val_processed_source,\n",
    "#     test_processed_source,\n",
    "#     train_processed_target,\n",
    "#     val_processed_target,\n",
    "#     test_processed_target\n",
    "# ]:\n",
    "#     for s_x, s_y, q_x, q_y, _ in ds:\n",
    "#         for X in (s_x, q_x):\n",
    "#             for x in X:\n",
    "#                 assert np.isclose(get_average_magnitude(x.numpy()), 1.0)\n",
    "#                 assert np.isclose(get_average_power(x.numpy()), 1.0)\n",
    "                "
   ]
  },
  {
   "cell_type": "code",
   "execution_count": 21,
   "id": "bbdacba1",
   "metadata": {
    "execution": {
     "iopub.execute_input": "2022-03-22T20:41:23.095789Z",
     "iopub.status.busy": "2022-03-22T20:41:23.095164Z",
     "iopub.status.idle": "2022-03-22T20:41:23.373115Z",
     "shell.execute_reply": "2022-03-22T20:41:23.372730Z"
    },
    "papermill": {
     "duration": 0.30415,
     "end_time": "2022-03-22T20:41:23.373224",
     "exception": false,
     "start_time": "2022-03-22T20:41:23.069074",
     "status": "completed"
    },
    "tags": []
   },
   "outputs": [
    {
     "name": "stdout",
     "output_type": "stream",
     "text": [
      "(2, 256)\n"
     ]
    }
   ],
   "source": [
    "###################################\n",
    "# Build the model\n",
    "###################################\n",
    "# easfsl only wants a tuple for the shape\n",
    "model = Steves_Prototypical_Network(x_net, device=p.device, x_shape=tuple(p.x_shape))\n",
    "optimizer = Adam(params=model.parameters(), lr=p.lr)"
   ]
  },
  {
   "cell_type": "code",
   "execution_count": 22,
   "id": "22b39ac5",
   "metadata": {
    "execution": {
     "iopub.execute_input": "2022-03-22T20:41:23.424564Z",
     "iopub.status.busy": "2022-03-22T20:41:23.424108Z",
     "iopub.status.idle": "2022-03-22T20:52:57.161342Z",
     "shell.execute_reply": "2022-03-22T20:52:57.161007Z"
    },
    "papermill": {
     "duration": 693.764999,
     "end_time": "2022-03-22T20:52:57.161425",
     "exception": false,
     "start_time": "2022-03-22T20:41:23.396426",
     "status": "completed"
    },
    "tags": []
   },
   "outputs": [
    {
     "name": "stdout",
     "output_type": "stream",
     "text": [
      "epoch: 1, [batch: 1 / 6847], examples_per_second: 31.2739, train_label_loss: 2.1014, \n"
     ]
    },
    {
     "name": "stdout",
     "output_type": "stream",
     "text": [
      "epoch: 1, [batch: 685 / 6847], examples_per_second: 4183.2605, train_label_loss: 0.4009, \n"
     ]
    },
    {
     "name": "stdout",
     "output_type": "stream",
     "text": [
      "epoch: 1, [batch: 1370 / 6847], examples_per_second: 4101.4267, train_label_loss: 0.1516, \n"
     ]
    },
    {
     "name": "stdout",
     "output_type": "stream",
     "text": [
      "epoch: 1, [batch: 2054 / 6847], examples_per_second: 4191.8440, train_label_loss: 0.0057, \n"
     ]
    },
    {
     "name": "stdout",
     "output_type": "stream",
     "text": [
      "epoch: 1, [batch: 2739 / 6847], examples_per_second: 4164.3771, train_label_loss: 0.1404, \n"
     ]
    },
    {
     "name": "stdout",
     "output_type": "stream",
     "text": [
      "epoch: 1, [batch: 3424 / 6847], examples_per_second: 4141.1217, train_label_loss: 0.0137, \n"
     ]
    },
    {
     "name": "stdout",
     "output_type": "stream",
     "text": [
      "epoch: 1, [batch: 4108 / 6847], examples_per_second: 4110.4652, train_label_loss: 0.4604, \n"
     ]
    },
    {
     "name": "stdout",
     "output_type": "stream",
     "text": [
      "epoch: 1, [batch: 4793 / 6847], examples_per_second: 4145.5355, train_label_loss: 0.1919, \n"
     ]
    },
    {
     "name": "stdout",
     "output_type": "stream",
     "text": [
      "epoch: 1, [batch: 5477 / 6847], examples_per_second: 4492.2483, train_label_loss: 0.1233, \n"
     ]
    },
    {
     "name": "stdout",
     "output_type": "stream",
     "text": [
      "epoch: 1, [batch: 6162 / 6847], examples_per_second: 4951.2362, train_label_loss: 0.3522, \n"
     ]
    },
    {
     "name": "stdout",
     "output_type": "stream",
     "text": [
      "=============================================================\n",
      "epoch: 1, source_val_acc_label: 0.9625, target_val_acc_label: 0.2886, source_val_label_loss: 0.1647, target_val_label_loss: 2.5795, \n",
      "=============================================================\n"
     ]
    },
    {
     "name": "stdout",
     "output_type": "stream",
     "text": [
      "New best\n"
     ]
    },
    {
     "name": "stdout",
     "output_type": "stream",
     "text": [
      "epoch: 2, [batch: 1 / 6860], examples_per_second: 5.0765, train_label_loss: 0.3727, \n"
     ]
    },
    {
     "name": "stdout",
     "output_type": "stream",
     "text": [
      "epoch: 2, [batch: 686 / 6860], examples_per_second: 4963.8903, train_label_loss: 0.3643, \n"
     ]
    },
    {
     "name": "stdout",
     "output_type": "stream",
     "text": [
      "epoch: 2, [batch: 1372 / 6860], examples_per_second: 4952.1882, train_label_loss: 0.4901, \n"
     ]
    },
    {
     "name": "stdout",
     "output_type": "stream",
     "text": [
      "epoch: 2, [batch: 2058 / 6860], examples_per_second: 5095.5393, train_label_loss: 0.3807, \n"
     ]
    },
    {
     "name": "stdout",
     "output_type": "stream",
     "text": [
      "epoch: 2, [batch: 2744 / 6860], examples_per_second: 5187.1061, train_label_loss: 0.0300, \n"
     ]
    },
    {
     "name": "stdout",
     "output_type": "stream",
     "text": [
      "epoch: 2, [batch: 3430 / 6860], examples_per_second: 5079.9371, train_label_loss: 0.0187, \n"
     ]
    },
    {
     "name": "stdout",
     "output_type": "stream",
     "text": [
      "epoch: 2, [batch: 4116 / 6860], examples_per_second: 5026.8154, train_label_loss: 0.1969, \n"
     ]
    },
    {
     "name": "stdout",
     "output_type": "stream",
     "text": [
      "epoch: 2, [batch: 4802 / 6860], examples_per_second: 5189.6416, train_label_loss: 0.2950, \n"
     ]
    },
    {
     "name": "stdout",
     "output_type": "stream",
     "text": [
      "epoch: 2, [batch: 5488 / 6860], examples_per_second: 5202.3048, train_label_loss: 0.0365, \n"
     ]
    },
    {
     "name": "stdout",
     "output_type": "stream",
     "text": [
      "epoch: 2, [batch: 6174 / 6860], examples_per_second: 5265.5241, train_label_loss: 0.0420, \n"
     ]
    },
    {
     "name": "stdout",
     "output_type": "stream",
     "text": [
      "=============================================================\n",
      "epoch: 2, source_val_acc_label: 0.9714, target_val_acc_label: 0.2856, source_val_label_loss: 0.1358, target_val_label_loss: 2.5823, \n",
      "=============================================================\n"
     ]
    },
    {
     "name": "stdout",
     "output_type": "stream",
     "text": [
      "epoch: 3, [batch: 1 / 6849], examples_per_second: 5.1900, train_label_loss: 0.0523, \n"
     ]
    },
    {
     "name": "stdout",
     "output_type": "stream",
     "text": [
      "epoch: 3, [batch: 685 / 6849], examples_per_second: 4878.9335, train_label_loss: 0.0151, \n"
     ]
    },
    {
     "name": "stdout",
     "output_type": "stream",
     "text": [
      "epoch: 3, [batch: 1370 / 6849], examples_per_second: 4879.2586, train_label_loss: 0.1436, \n"
     ]
    },
    {
     "name": "stdout",
     "output_type": "stream",
     "text": [
      "epoch: 3, [batch: 2055 / 6849], examples_per_second: 4849.6339, train_label_loss: 0.0043, \n"
     ]
    },
    {
     "name": "stdout",
     "output_type": "stream",
     "text": [
      "epoch: 3, [batch: 2740 / 6849], examples_per_second: 4956.3905, train_label_loss: 0.0021, \n"
     ]
    },
    {
     "name": "stdout",
     "output_type": "stream",
     "text": [
      "epoch: 3, [batch: 3425 / 6849], examples_per_second: 5044.6191, train_label_loss: 0.2586, \n"
     ]
    },
    {
     "name": "stdout",
     "output_type": "stream",
     "text": [
      "epoch: 3, [batch: 4109 / 6849], examples_per_second: 5115.8405, train_label_loss: 0.1070, \n"
     ]
    },
    {
     "name": "stdout",
     "output_type": "stream",
     "text": [
      "epoch: 3, [batch: 4794 / 6849], examples_per_second: 4744.9085, train_label_loss: 0.0433, \n"
     ]
    },
    {
     "name": "stdout",
     "output_type": "stream",
     "text": [
      "epoch: 3, [batch: 5479 / 6849], examples_per_second: 4879.1448, train_label_loss: 0.0074, \n"
     ]
    },
    {
     "name": "stdout",
     "output_type": "stream",
     "text": [
      "epoch: 3, [batch: 6164 / 6849], examples_per_second: 5326.8325, train_label_loss: 0.0079, \n"
     ]
    },
    {
     "name": "stdout",
     "output_type": "stream",
     "text": [
      "=============================================================\n",
      "epoch: 3, source_val_acc_label: 0.9728, target_val_acc_label: 0.2436, source_val_label_loss: 0.1278, target_val_label_loss: 2.5668, \n",
      "=============================================================\n"
     ]
    },
    {
     "name": "stdout",
     "output_type": "stream",
     "text": [
      "epoch: 4, [batch: 1 / 6845], examples_per_second: 5.2123, train_label_loss: 0.1699, \n"
     ]
    },
    {
     "name": "stdout",
     "output_type": "stream",
     "text": [
      "epoch: 4, [batch: 685 / 6845], examples_per_second: 4895.5616, train_label_loss: 0.0561, \n"
     ]
    },
    {
     "name": "stdout",
     "output_type": "stream",
     "text": [
      "epoch: 4, [batch: 1369 / 6845], examples_per_second: 5187.7355, train_label_loss: 0.1388, \n"
     ]
    },
    {
     "name": "stdout",
     "output_type": "stream",
     "text": [
      "epoch: 4, [batch: 2054 / 6845], examples_per_second: 5315.0427, train_label_loss: 0.0069, \n"
     ]
    },
    {
     "name": "stdout",
     "output_type": "stream",
     "text": [
      "epoch: 4, [batch: 2738 / 6845], examples_per_second: 5225.8770, train_label_loss: 0.3789, \n"
     ]
    },
    {
     "name": "stdout",
     "output_type": "stream",
     "text": [
      "epoch: 4, [batch: 3423 / 6845], examples_per_second: 5316.6649, train_label_loss: 0.0479, \n"
     ]
    },
    {
     "name": "stdout",
     "output_type": "stream",
     "text": [
      "epoch: 4, [batch: 4107 / 6845], examples_per_second: 5387.6381, train_label_loss: 0.0185, \n"
     ]
    },
    {
     "name": "stdout",
     "output_type": "stream",
     "text": [
      "epoch: 4, [batch: 4791 / 6845], examples_per_second: 4854.7439, train_label_loss: 0.0135, \n"
     ]
    },
    {
     "name": "stdout",
     "output_type": "stream",
     "text": [
      "epoch: 4, [batch: 5476 / 6845], examples_per_second: 5175.1475, train_label_loss: 0.1853, \n"
     ]
    },
    {
     "name": "stdout",
     "output_type": "stream",
     "text": [
      "epoch: 4, [batch: 6160 / 6845], examples_per_second: 5247.8425, train_label_loss: 0.0036, \n"
     ]
    },
    {
     "name": "stdout",
     "output_type": "stream",
     "text": [
      "=============================================================\n",
      "epoch: 4, source_val_acc_label: 0.9741, target_val_acc_label: 0.2460, source_val_label_loss: 0.1097, target_val_label_loss: 2.5824, \n",
      "=============================================================\n"
     ]
    },
    {
     "name": "stdout",
     "output_type": "stream",
     "text": [
      "epoch: 5, [batch: 1 / 6835], examples_per_second: 5.1390, train_label_loss: 0.0219, \n"
     ]
    },
    {
     "name": "stdout",
     "output_type": "stream",
     "text": [
      "epoch: 5, [batch: 684 / 6835], examples_per_second: 5018.1158, train_label_loss: 0.0503, \n"
     ]
    },
    {
     "name": "stdout",
     "output_type": "stream",
     "text": [
      "epoch: 5, [batch: 1367 / 6835], examples_per_second: 3815.7371, train_label_loss: 0.0042, \n"
     ]
    },
    {
     "name": "stdout",
     "output_type": "stream",
     "text": [
      "epoch: 5, [batch: 2051 / 6835], examples_per_second: 3856.0359, train_label_loss: 0.1571, \n"
     ]
    },
    {
     "name": "stdout",
     "output_type": "stream",
     "text": [
      "epoch: 5, [batch: 2734 / 6835], examples_per_second: 3844.0388, train_label_loss: 0.3041, \n"
     ]
    },
    {
     "name": "stdout",
     "output_type": "stream",
     "text": [
      "epoch: 5, [batch: 3418 / 6835], examples_per_second: 3939.9881, train_label_loss: 0.1959, \n"
     ]
    },
    {
     "name": "stdout",
     "output_type": "stream",
     "text": [
      "epoch: 5, [batch: 4101 / 6835], examples_per_second: 3921.5787, train_label_loss: 0.0019, \n"
     ]
    },
    {
     "name": "stdout",
     "output_type": "stream",
     "text": [
      "epoch: 5, [batch: 4784 / 6835], examples_per_second: 3965.2038, train_label_loss: 0.0655, \n"
     ]
    },
    {
     "name": "stdout",
     "output_type": "stream",
     "text": [
      "epoch: 5, [batch: 5468 / 6835], examples_per_second: 3853.7651, train_label_loss: 0.0182, \n"
     ]
    },
    {
     "name": "stdout",
     "output_type": "stream",
     "text": [
      "epoch: 5, [batch: 6151 / 6835], examples_per_second: 3921.2330, train_label_loss: 0.0119, \n"
     ]
    },
    {
     "name": "stdout",
     "output_type": "stream",
     "text": [
      "=============================================================\n",
      "epoch: 5, source_val_acc_label: 0.9749, target_val_acc_label: 0.2607, source_val_label_loss: 0.1072, target_val_label_loss: 2.5597, \n",
      "=============================================================\n"
     ]
    },
    {
     "name": "stdout",
     "output_type": "stream",
     "text": [
      "Patience (3) exhausted\n"
     ]
    }
   ],
   "source": [
    "###################################\n",
    "# train\n",
    "###################################\n",
    "jig = PTN_Train_Eval_Test_Jig(model, p.BEST_MODEL_PATH, p.device)\n",
    "\n",
    "jig.train(\n",
    "    train_iterable=datasets.source.processed.train,\n",
    "    source_val_iterable=datasets.source.processed.val,\n",
    "    target_val_iterable=datasets.target.processed.val,\n",
    "    num_epochs=p.n_epoch,\n",
    "    num_logs_per_epoch=p.NUM_LOGS_PER_EPOCH,\n",
    "    patience=p.patience,\n",
    "    optimizer=optimizer,\n",
    "    criteria_for_best=p.criteria_for_best,\n",
    ")"
   ]
  },
  {
   "cell_type": "code",
   "execution_count": 23,
   "id": "31e8fabf",
   "metadata": {
    "execution": {
     "iopub.execute_input": "2022-03-22T20:52:57.242416Z",
     "iopub.status.busy": "2022-03-22T20:52:57.242059Z",
     "iopub.status.idle": "2022-03-22T20:52:57.275272Z",
     "shell.execute_reply": "2022-03-22T20:52:57.274578Z"
    },
    "papermill": {
     "duration": 0.075956,
     "end_time": "2022-03-22T20:52:57.275426",
     "exception": false,
     "start_time": "2022-03-22T20:52:57.199470",
     "status": "completed"
    },
    "tags": []
   },
   "outputs": [],
   "source": [
    "total_experiment_time_secs = time.time() - start_time_secs"
   ]
  },
  {
   "cell_type": "code",
   "execution_count": 24,
   "id": "87b9595b",
   "metadata": {
    "execution": {
     "iopub.execute_input": "2022-03-22T20:52:57.360505Z",
     "iopub.status.busy": "2022-03-22T20:52:57.360125Z",
     "iopub.status.idle": "2022-03-22T20:55:42.596676Z",
     "shell.execute_reply": "2022-03-22T20:55:42.597351Z"
    },
    "papermill": {
     "duration": 165.278666,
     "end_time": "2022-03-22T20:55:42.597571",
     "exception": false,
     "start_time": "2022-03-22T20:52:57.318905",
     "status": "completed"
    },
    "tags": []
   },
   "outputs": [],
   "source": [
    "###################################\n",
    "# Evaluate the model\n",
    "###################################\n",
    "source_test_label_accuracy, source_test_label_loss = jig.test(datasets.source.processed.test)\n",
    "target_test_label_accuracy, target_test_label_loss = jig.test(datasets.target.processed.test)\n",
    "\n",
    "source_val_label_accuracy, source_val_label_loss = jig.test(datasets.source.processed.val)\n",
    "target_val_label_accuracy, target_val_label_loss = jig.test(datasets.target.processed.val)\n",
    "\n",
    "history = jig.get_history()\n",
    "\n",
    "total_epochs_trained = len(history[\"epoch_indices\"])\n",
    "\n",
    "val_dl = Iterable_Aggregator((datasets.source.original.val,datasets.target.original.val))\n",
    "\n",
    "confusion = ptn_confusion_by_domain_over_dataloader(model, p.device, val_dl)\n",
    "per_domain_accuracy = per_domain_accuracy_from_confusion(confusion)\n",
    "\n",
    "# Add a key to per_domain_accuracy for if it was a source domain\n",
    "for domain, accuracy in per_domain_accuracy.items():\n",
    "    per_domain_accuracy[domain] = {\n",
    "        \"accuracy\": accuracy,\n",
    "        \"source?\": domain in p.domains_source\n",
    "    }\n",
    "\n",
    "# Do an independent accuracy assesment JUST TO BE SURE!\n",
    "# _source_test_label_accuracy = independent_accuracy_assesment(model, datasets.source.processed.test, p.device)\n",
    "# _target_test_label_accuracy = independent_accuracy_assesment(model, datasets.target.processed.test, p.device)\n",
    "# _source_val_label_accuracy = independent_accuracy_assesment(model, datasets.source.processed.val, p.device)\n",
    "# _target_val_label_accuracy = independent_accuracy_assesment(model, datasets.target.processed.val, p.device)\n",
    "\n",
    "# assert(_source_test_label_accuracy == source_test_label_accuracy)\n",
    "# assert(_target_test_label_accuracy == target_test_label_accuracy)\n",
    "# assert(_source_val_label_accuracy == source_val_label_accuracy)\n",
    "# assert(_target_val_label_accuracy == target_val_label_accuracy)\n",
    "\n",
    "experiment = {\n",
    "    \"experiment_name\": p.experiment_name,\n",
    "    \"parameters\": dict(p),\n",
    "    \"results\": {\n",
    "        \"source_test_label_accuracy\": source_test_label_accuracy,\n",
    "        \"source_test_label_loss\": source_test_label_loss,\n",
    "        \"target_test_label_accuracy\": target_test_label_accuracy,\n",
    "        \"target_test_label_loss\": target_test_label_loss,\n",
    "        \"source_val_label_accuracy\": source_val_label_accuracy,\n",
    "        \"source_val_label_loss\": source_val_label_loss,\n",
    "        \"target_val_label_accuracy\": target_val_label_accuracy,\n",
    "        \"target_val_label_loss\": target_val_label_loss,\n",
    "        \"total_epochs_trained\": total_epochs_trained,\n",
    "        \"total_experiment_time_secs\": total_experiment_time_secs,\n",
    "        \"confusion\": confusion,\n",
    "        \"per_domain_accuracy\": per_domain_accuracy,\n",
    "    },\n",
    "    \"history\": history,\n",
    "    \"dataset_metrics\": get_dataset_metrics(datasets, \"ptn\"),\n",
    "}"
   ]
  },
  {
   "cell_type": "code",
   "execution_count": 25,
   "id": "54a21829",
   "metadata": {
    "execution": {
     "iopub.execute_input": "2022-03-22T20:55:42.685966Z",
     "iopub.status.busy": "2022-03-22T20:55:42.685593Z",
     "iopub.status.idle": "2022-03-22T20:55:42.896825Z",
     "shell.execute_reply": "2022-03-22T20:55:42.897511Z"
    },
    "papermill": {
     "duration": 0.255175,
     "end_time": "2022-03-22T20:55:42.897731",
     "exception": false,
     "start_time": "2022-03-22T20:55:42.642556",
     "status": "completed"
    },
    "tags": []
   },
   "outputs": [
    {
     "data": {
      "image/png": "[encoded data removed]",
      "text/plain": [
       "<Figure size 1080x504 with 1 Axes>"
      ]
     },
     "metadata": {
      "needs_background": "light"
     },
     "output_type": "display_data"
    }
   ],
   "source": [
    "ax = get_loss_curve(experiment)\n",
    "plt.show()"
   ]
  },
  {
   "cell_type": "code",
   "execution_count": 26,
   "id": "fd8a0f60",
   "metadata": {
    "execution": {
     "iopub.execute_input": "2022-03-22T20:55:42.985019Z",
     "iopub.status.busy": "2022-03-22T20:55:42.984651Z",
     "iopub.status.idle": "2022-03-22T20:55:43.338237Z",
     "shell.execute_reply": "2022-03-22T20:55:43.338908Z"
    },
    "papermill": {
     "duration": 0.396971,
     "end_time": "2022-03-22T20:55:43.339122",
     "exception": false,
     "start_time": "2022-03-22T20:55:42.942151",
     "status": "completed"
    },
    "tags": []
   },
   "outputs": [
    {
     "data": {
      "text/plain": [
       "<AxesSubplot:title={'center':'Results'}>"
      ]
     },
     "execution_count": 26,
     "metadata": {},
     "output_type": "execute_result"
    },
    {
     "data": {
      "image/png": "[encoded data removed]",
      "text/plain": [
       "<Figure size 1080x504 with 1 Axes>"
      ]
     },
     "metadata": {
      "needs_background": "light"
     },
     "output_type": "display_data"
    }
   ],
   "source": [
    "get_results_table(experiment)"
   ]
  },
  {
   "cell_type": "code",
   "execution_count": 27,
   "id": "cf8dc689",
   "metadata": {
    "execution": {
     "iopub.execute_input": "2022-03-22T20:55:43.431634Z",
     "iopub.status.busy": "2022-03-22T20:55:43.431241Z",
     "iopub.status.idle": "2022-03-22T20:55:43.682531Z",
     "shell.execute_reply": "2022-03-22T20:55:43.683202Z"
    },
    "papermill": {
     "duration": 0.297583,
     "end_time": "2022-03-22T20:55:43.683433",
     "exception": false,
     "start_time": "2022-03-22T20:55:43.385850",
     "status": "completed"
    },
    "tags": []
   },
   "outputs": [
    {
     "data": {
      "text/plain": [
       "<AxesSubplot:title={'center':'Per Domain Validation Accuracy'}, xlabel='domain'>"
      ]
     },
     "execution_count": 27,
     "metadata": {},
     "output_type": "execute_result"
    },
    {
     "data": {
      "image/png": "[encoded data removed]",
      "text/plain": [
       "<Figure size 1080x504 with 1 Axes>"
      ]
     },
     "metadata": {
      "needs_background": "light"
     },
     "output_type": "display_data"
    }
   ],
   "source": [
    "get_domain_accuracies(experiment)"
   ]
  },
  {
   "cell_type": "code",
   "execution_count": 28,
   "id": "a74ae082",
   "metadata": {
    "execution": {
     "iopub.execute_input": "2022-03-22T20:55:43.779208Z",
     "iopub.status.busy": "2022-03-22T20:55:43.778829Z",
     "iopub.status.idle": "2022-03-22T20:55:43.804382Z",
     "shell.execute_reply": "2022-03-22T20:55:43.803656Z"
    },
    "papermill": {
     "duration": 0.07337,
     "end_time": "2022-03-22T20:55:43.804589",
     "exception": false,
     "start_time": "2022-03-22T20:55:43.731219",
     "status": "completed"
    },
    "tags": []
   },
   "outputs": [
    {
     "name": "stdout",
     "output_type": "stream",
     "text": [
      "Source Test Label Accuracy: 0.9631211180124224 Target Test Label Accuracy: 0.2896484375\n",
      "Source Val Label Accuracy: 0.9625396405919662 Target Val Label Accuracy: 0.28860677083333336\n"
     ]
    }
   ],
   "source": [
    "print(\"Source Test Label Accuracy:\", experiment[\"results\"][\"source_test_label_accuracy\"], \"Target Test Label Accuracy:\", experiment[\"results\"][\"target_test_label_accuracy\"])\n",
    "print(\"Source Val Label Accuracy:\", experiment[\"results\"][\"source_val_label_accuracy\"], \"Target Val Label Accuracy:\", experiment[\"results\"][\"target_val_label_accuracy\"])"
   ]
  },
  {
   "cell_type": "code",
   "execution_count": 29,
   "id": "dacca602",
   "metadata": {
    "execution": {
     "iopub.execute_input": "2022-03-22T20:55:43.901840Z",
     "iopub.status.busy": "2022-03-22T20:55:43.901265Z",
     "iopub.status.idle": "2022-03-22T20:55:43.924044Z",
     "shell.execute_reply": "2022-03-22T20:55:43.924734Z"
    },
    "papermill": {
     "duration": 0.07191,
     "end_time": "2022-03-22T20:55:43.924937",
     "exception": false,
     "start_time": "2022-03-22T20:55:43.853027",
     "status": "completed"
    },
    "tags": [
     "experiment_json"
    ]
   },
   "outputs": [
    {
     "data": {
      "text/plain": [
       "'{\"experiment_name\": \"tl_1v2:wisig-oracle.run1.limited\", \"parameters\": {\"experiment_name\": \"tl_1v2:wisig-oracle.run1.limited\", \"device\": \"cuda\", \"lr\": 0.0001, \"n_shot\": 3, \"n_query\": 2, \"train_k_factor\": 3, \"val_k_factor\": 2, \"test_k_factor\": 2, \"torch_default_dtype\": \"torch.float32\", \"n_epoch\": 50, \"patience\": 3, \"criteria_for_best\": \"target_accuracy\", \"x_net\": [{\"class\": \"nnReshape\", \"kargs\": {\"shape\": [-1, 1, 2, 256]}}, {\"class\": \"Conv2d\", \"kargs\": {\"in_channels\": 1, \"out_channels\": 256, \"kernel_size\": [1, 7], \"bias\": false, \"padding\": [0, 3]}}, {\"class\": \"ReLU\", \"kargs\": {\"inplace\": true}}, {\"class\": \"BatchNorm2d\", \"kargs\": {\"num_features\": 256}}, {\"class\": \"Conv2d\", \"kargs\": {\"in_channels\": 256, \"out_channels\": 80, \"kernel_size\": [2, 7], \"bias\": true, \"padding\": [0, 3]}}, {\"class\": \"ReLU\", \"kargs\": {\"inplace\": true}}, {\"class\": \"BatchNorm2d\", \"kargs\": {\"num_features\": 80}}, {\"class\": \"Flatten\", \"kargs\": {}}, {\"class\": \"Linear\", \"kargs\": {\"in_features\": 20480, \"out_features\": 256}}, {\"class\": \"ReLU\", \"kargs\": {\"inplace\": true}}, {\"class\": \"BatchNorm1d\", \"kargs\": {\"num_features\": 256}}, {\"class\": \"Linear\", \"kargs\": {\"in_features\": 256, \"out_features\": 256}}], \"NUM_LOGS_PER_EPOCH\": 10, \"BEST_MODEL_PATH\": \"./best_model.pth\", \"n_way\": 16, \"datasets\": [{\"labels\": [\"1-10\", \"1-12\", \"1-14\", \"1-16\", \"1-18\", \"1-19\", \"1-8\", \"10-11\", \"10-17\", \"10-4\", \"10-7\", \"11-1\", \"11-10\", \"11-19\", \"11-20\", \"11-4\", \"11-7\", \"12-19\", \"12-20\", \"12-7\", \"13-14\", \"13-18\", \"13-19\", \"13-20\", \"13-3\", \"13-7\", \"14-10\", \"14-11\", \"14-12\", \"14-13\", \"14-14\", \"14-19\", \"14-20\", \"14-7\", \"14-8\", \"14-9\", \"15-1\", \"15-19\", \"15-6\", \"16-1\", \"16-16\", \"16-19\", \"16-20\", \"17-10\", \"17-11\", \"18-1\", \"18-10\", \"18-11\", \"18-12\", \"18-13\", \"18-14\", \"18-15\", \"18-16\", \"18-17\", \"18-19\", \"18-2\", \"18-20\", \"18-4\", \"18-5\", \"18-7\", \"18-8\", \"18-9\", \"19-1\", \"19-10\", \"19-11\", \"19-12\", \"19-13\", \"19-14\", \"19-15\", \"19-19\", \"19-2\", \"19-20\", \"19-3\", \"19-4\", \"19-6\", \"19-7\", \"19-8\", \"19-9\", \"2-1\", \"2-13\", \"2-15\", \"2-3\", \"2-4\", \"2-5\", \"2-6\", \"2-7\", \"2-8\", \"20-1\", \"20-12\", \"20-14\", \"20-15\", \"20-16\", \"20-18\", \"20-19\", \"20-20\", \"20-3\", \"20-4\", \"20-5\", \"20-7\", \"20-8\", \"3-1\", \"3-13\", \"3-18\", \"3-2\", \"3-8\", \"4-1\", \"4-10\", \"4-11\", \"5-1\", \"5-5\", \"6-1\", \"6-15\", \"6-6\", \"7-10\", \"7-11\", \"7-12\", \"7-13\", \"7-14\", \"7-7\", \"7-8\", \"7-9\", \"8-1\", \"8-13\", \"8-14\", \"8-18\", \"8-20\", \"8-3\", \"8-8\", \"9-1\", \"9-7\"], \"domains\": [1, 2, 3, 4], \"num_examples_per_domain_per_label\": -1, \"pickle_path\": \"/root/csc500-main/datasets/wisig.node3-19.stratified_ds.2022A.pkl\", \"source_or_target_dataset\": \"source\", \"x_transforms\": [], \"episode_transforms\": [], \"domain_prefix\": \"Wisig_\"}, {\"labels\": [\"3123D52\", \"3123D65\", \"3123D79\", \"3123D80\", \"3123D54\", \"3123D70\", \"3123D7B\", \"3123D89\", \"3123D58\", \"3123D76\", \"3123D7D\", \"3123EFE\", \"3123D64\", \"3123D78\", \"3123D7E\", \"3124E4A\"], \"domains\": [32, 38, 8, 44, 14, 50, 20, 26], \"num_examples_per_domain_per_label\": 2000, \"pickle_path\": \"/root/csc500-main/datasets/oracle.Run1_10kExamples_stratified_ds.2022A.pkl\", \"source_or_target_dataset\": \"target\", \"x_transforms\": [], \"episode_transforms\": [], \"domain_prefix\": \"ORACLE.run1\"}], \"dataset_seed\": 420, \"seed\": 420, \"x_shape\": [2, 256], \"domains_source\": [\"Wisig_1\", \"Wisig_2\", \"Wisig_3\", \"Wisig_4\"], \"domains_target\": [\"ORACLE.run132\", \"ORACLE.run138\", \"ORACLE.run18\", \"ORACLE.run144\", \"ORACLE.run114\", \"ORACLE.run150\", \"ORACLE.run120\", \"ORACLE.run126\"]}, \"results\": {\"source_test_label_accuracy\": 0.9631211180124224, \"source_test_label_loss\": 0.16136573255062103, \"target_test_label_accuracy\": 0.2896484375, \"target_test_label_loss\": 2.5798983573913574, \"source_val_label_accuracy\": 0.9625396405919662, \"source_val_label_loss\": 0.16472986340522766, \"target_val_label_accuracy\": 0.28860677083333336, \"target_val_label_loss\": 2.5794661045074463, \"total_epochs_trained\": 5, \"total_experiment_time_secs\": 716.5016872882843, \"confusion\": {\"Wisig_3\": {\"110\": {\"110\": 88, \"44\": 1, \"111\": 1, \"11\": 1, \"98\": 1}, \"1\": {\"1\": 107, \"69\": 1}, \"2\": {\"117\": 1, \"2\": 26, \"102\": 1}, \"94\": {\"94\": 81, \"27\": 1, \"70\": 1, \"108\": 1}, \"64\": {\"64\": 20}, \"78\": {\"78\": 14, \"21\": 2}, \"47\": {\"47\": 11, \"103\": 1}, \"127\": {\"127\": 127, \"102\": 1}, \"89\": {\"89\": 28}, \"79\": {\"79\": 12}, \"22\": {\"22\": 16}, \"117\": {\"117\": 112}, \"49\": {\"49\": 20, \"94\": 1, \"8\": 1, \"108\": 1, \"82\": 1}, \"14\": {\"14\": 80}, \"103\": {\"103\": 16}, \"123\": {\"123\": 15, \"63\": 1}, \"98\": {\"98\": 127, \"117\": 1}, \"18\": {\"18\": 108}, \"61\": {\"61\": 16}, \"108\": {\"108\": 125, \"110\": 1}, \"100\": {\"100\": 16}, \"0\": {\"0\": 115, \"10\": 1}, \"107\": {\"107\": 130}, \"58\": {\"58\": 16}, \"8\": {\"8\": 120}, \"85\": {\"85\": 35, \"52\": 1}, \"31\": {\"31\": 19, \"122\": 1}, \"81\": {\"81\": 32}, \"60\": {\"60\": 26, \"23\": 2}, \"102\": {\"102\": 116}, \"19\": {\"19\": 26, \"28\": 1, \"100\": 1, \"77\": 1, \"5\": 1, \"124\": 1, \"46\": 1}, \"23\": {\"8\": 1, \"60\": 1, \"23\": 22, \"30\": 4, \"122\": 2, \"87\": 2}, \"32\": {\"32\": 28, \"65\": 1, \"107\": 1, \"14\": 2}, \"39\": {\"39\": 105, \"43\": 1, \"2\": 1, \"126\": 1}, \"129\": {\"129\": 32}, \"71\": {\"71\": 67, \"84\": 1}, \"91\": {\"91\": 17, \"57\": 1, \"29\": 1, \"58\": 1, \"82\": 1, \"6\": 2, \"70\": 1}, \"101\": {\"101\": 48, \"24\": 1, \"12\": 2, \"81\": 1}, \"62\": {\"62\": 120, \"88\": 2}, \"63\": {\"63\": 16}, \"125\": {\"125\": 116, \"112\": 1, \"102\": 1, \"88\": 1, \"24\": 1}, \"57\": {\"57\": 20}, \"28\": {\"28\": 16}, \"70\": {\"70\": 62, \"88\": 3, \"2\": 1, \"84\": 2, \"15\": 1, \"54\": 1, \"69\": 1, \"108\": 1}, \"99\": {\"99\": 33, \"21\": 1, \"27\": 1, \"12\": 1}, \"121\": {\"121\": 30, \"19\": 1, \"81\": 1}, \"4\": {\"4\": 95, \"94\": 1}, \"80\": {\"80\": 16}, \"51\": {\"97\": 1, \"51\": 13, \"33\": 1, \"57\": 1}, \"3\": {\"3\": 113, \"78\": 1, \"70\": 1, \"33\": 1}, \"9\": {\"9\": 32}, \"53\": {\"53\": 17, \"42\": 1, \"112\": 1, \"69\": 1}, \"30\": {\"30\": 83, \"116\": 1}, \"33\": {\"33\": 122}, \"15\": {\"15\": 103, \"88\": 1}, \"97\": {\"4\": 1, \"97\": 19}, \"86\": {\"86\": 27, \"84\": 1}, \"20\": {\"20\": 16}, \"66\": {\"66\": 15, \"65\": 1}, \"10\": {\"10\": 121, \"33\": 1}, \"29\": {\"29\": 31, \"83\": 1}, \"109\": {\"109\": 112, \"5\": 1, \"98\": 1}, \"52\": {\"52\": 16}, \"67\": {\"67\": 16}, \"83\": {\"83\": 22, \"69\": 1, \"43\": 1}, \"72\": {\"72\": 28}, \"90\": {\"90\": 124, \"117\": 1, \"102\": 1}, \"69\": {\"69\": 83, \"90\": 1}, \"88\": {\"88\": 111, \"8\": 1}, \"115\": {\"115\": 16}, \"73\": {\"73\": 35, \"22\": 1, \"88\": 1, \"100\": 1, \"69\": 1, \"89\": 1}, \"34\": {\"34\": 28, \"35\": 2, \"14\": 1, \"58\": 1}, \"25\": {\"25\": 16}, \"44\": {\"44\": 72}, \"112\": {\"112\": 12, \"97\": 1, \"85\": 1, \"59\": 2}, \"37\": {\"37\": 16}, \"77\": {\"77\": 16}, \"111\": {\"111\": 119, \"127\": 1, \"8\": 1, \"10\": 1}, \"119\": {\"119\": 16}, \"56\": {\"56\": 12}, \"5\": {\"5\": 109, \"70\": 1, \"98\": 1, \"87\": 1}, \"122\": {\"122\": 57, \"8\": 1, \"60\": 1, \"84\": 1}, \"74\": {\"74\": 15, \"54\": 1}, \"11\": {\"11\": 151, \"108\": 1}, \"41\": {\"41\": 16}, \"104\": {\"104\": 16}, \"21\": {\"21\": 45, \"101\": 2, \"84\": 1}, \"118\": {\"118\": 98, \"86\": 1, \"44\": 1}, \"40\": {\"40\": 121, \"21\": 1}, \"6\": {\"6\": 29, \"19\": 2, \"91\": 1}, \"27\": {\"27\": 91, \"36\": 4, \"54\": 1}, \"113\": {\"113\": 119, \"21\": 1}, \"68\": {\"68\": 16}, \"12\": {\"12\": 102}, \"54\": {\"54\": 16}, \"24\": {\"24\": 46, \"86\": 1, \"108\": 1}, \"106\": {\"106\": 96, \"87\": 1, \"84\": 1, \"97\": 1, \"15\": 1}, \"128\": {\"128\": 32}, \"48\": {\"48\": 11, \"86\": 1, \"79\": 2, \"37\": 1, \"22\": 1}, \"92\": {\"92\": 32}, \"35\": {\"35\": 10, \"26\": 1, \"6\": 1}, \"116\": {\"116\": 28}, \"38\": {\"38\": 15, \"6\": 1}, \"126\": {\"126\": 121, \"17\": 1, \"39\": 2}, \"46\": {\"46\": 15, \"77\": 1}, \"120\": {\"120\": 19, \"13\": 1}, \"7\": {\"7\": 111, \"26\": 1}, \"13\": {\"13\": 12, \"83\": 1, \"70\": 1, \"122\": 1, \"108\": 1}, \"43\": {\"43\": 52, \"70\": 1, \"30\": 1, \"69\": 1, \"108\": 1}, \"93\": {\"93\": 131, \"88\": 1}, \"26\": {\"26\": 131, \"69\": 1}, \"76\": {\"76\": 16}, \"59\": {\"59\": 12}, \"65\": {\"65\": 11, \"17\": 1}, \"87\": {\"87\": 119, \"108\": 1}, \"124\": {\"124\": 122, \"17\": 1, \"90\": 1}, \"84\": {\"84\": 108}, \"82\": {\"82\": 28}, \"75\": {\"75\": 16}, \"17\": {\"89\": 1, \"17\": 7, \"67\": 1, \"104\": 1, \"55\": 1, \"106\": 1, \"86\": 1, \"13\": 1, \"88\": 1, \"114\": 1}, \"105\": {\"105\": 124}, \"95\": {\"95\": 31, \"9\": 1}, \"42\": {\"42\": 25, \"124\": 3}, \"55\": {\"55\": 16}, \"16\": {\"16\": 115, \"84\": 1}, \"50\": {\"50\": 16}, \"96\": {\"96\": 20}, \"45\": {\"45\": 16}, \"36\": {\"36\": 118, \"27\": 2}, \"114\": {\"114\": 119, \"69\": 1, \"88\": 1, \"3\": 1, \"106\": 1, \"102\": 1}}, \"Wisig_4\": {\"113\": {\"113\": 121, \"126\": 1, \"69\": 2}, \"85\": {\"85\": 26, \"118\": 1, \"14\": 1}, \"34\": {\"34\": 28, \"91\": 1, \"106\": 1, \"47\": 2}, \"55\": {\"55\": 16}, \"42\": {\"42\": 24, \"124\": 1, \"79\": 2, \"112\": 1}, \"13\": {\"13\": 15, \"73\": 1}, \"69\": {\"69\": 117, \"39\": 1, \"7\": 1, \"88\": 2, \"1\": 1, \"21\": 1, \"16\": 1}, \"35\": {\"35\": 12}, \"83\": {\"83\": 26, \"21\": 1, \"88\": 1}, \"51\": {\"51\": 11, \"24\": 1, \"62\": 1, \"81\": 1, \"12\": 1, \"100\": 1}, \"72\": {\"72\": 32}, \"24\": {\"24\": 117, \"21\": 1, \"10\": 1, \"97\": 1}, \"53\": {\"53\": 15, \"92\": 1}, \"8\": {\"8\": 136, \"5\": 1, \"108\": 1, \"1\": 1, \"69\": 2, \"66\": 1, \"15\": 1, \"10\": 1}, \"49\": {\"49\": 23, \"12\": 1, \"106\": 3, \"114\": 1, \"25\": 2, \"52\": 1, \"5\": 1}, \"21\": {\"21\": 37, \"23\": 1, \"108\": 1, \"70\": 1}, \"18\": {\"18\": 118, \"24\": 1, \"84\": 1}, \"114\": {\"114\": 116, \"88\": 1, \"3\": 1}, \"58\": {\"58\": 15, \"2\": 1}, \"56\": {\"56\": 12}, \"80\": {\"80\": 16}, \"11\": {\"11\": 152, \"1\": 1, \"93\": 1}, \"15\": {\"15\": 124, \"36\": 1, \"105\": 1, \"40\": 1, \"69\": 1}, \"50\": {\"50\": 16}, \"111\": {\"111\": 137, \"27\": 1}, \"108\": {\"108\": 80, \"88\": 4, \"70\": 3, \"27\": 1, \"10\": 1, \"18\": 1, \"39\": 1, \"69\": 1}, \"104\": {\"104\": 16}, \"32\": {\"32\": 19, \"64\": 3, \"108\": 1, \"14\": 1, \"89\": 1, \"120\": 1, \"40\": 2}, \"68\": {\"68\": 15, \"108\": 1}, \"73\": {\"83\": 1, \"73\": 23}, \"92\": {\"92\": 28}, \"57\": {\"57\": 16}, \"40\": {\"40\": 132, \"108\": 1, \"70\": 2, \"126\": 1}, \"71\": {\"71\": 99, \"12\": 1, \"108\": 1, \"1\": 1, \"52\": 1, \"69\": 1}, \"121\": {\"121\": 29, \"21\": 1, \"41\": 1, \"38\": 1}, \"62\": {\"62\": 53, \"54\": 1, \"27\": 1, \"2\": 1, \"106\": 1, \"39\": 1, \"10\": 1, \"21\": 1}, \"39\": {\"39\": 94, \"88\": 1, \"72\": 1, \"10\": 1, \"105\": 1, \"24\": 1, \"69\": 1}, \"107\": {\"107\": 142, \"10\": 1, \"102\": 1}, \"60\": {\"60\": 29, \"72\": 1, \"106\": 1, \"23\": 1}, \"129\": {\"129\": 26, \"105\": 1, \"121\": 1}, \"84\": {\"84\": 126, \"88\": 4, \"109\": 1, \"108\": 1}, \"106\": {\"106\": 114, \"88\": 2}, \"87\": {\"87\": 131, \"43\": 1}, \"110\": {\"110\": 89, \"78\": 1, \"113\": 1, \"24\": 1, \"36\": 1, \"88\": 1}, \"118\": {\"118\": 107, \"22\": 1, \"88\": 2, \"87\": 2}, \"64\": {\"64\": 15, \"106\": 1}, \"82\": {\"129\": 1, \"82\": 30, \"17\": 1}, \"7\": {\"7\": 120, \"72\": 1, \"69\": 1, \"70\": 1, \"24\": 1}, \"0\": {\"0\": 112, \"88\": 1, \"84\": 1, \"21\": 2}, \"41\": {\"41\": 12, \"102\": 1, \"100\": 1, \"98\": 2}, \"102\": {\"102\": 127, \"70\": 1, \"126\": 1, \"2\": 1}, \"89\": {\"89\": 31, \"51\": 1}, \"26\": {\"26\": 125, \"69\": 1, \"70\": 1, \"8\": 1}, \"103\": {\"103\": 13, \"88\": 1, \"91\": 1, \"27\": 1}, \"90\": {\"90\": 114, \"98\": 1, \"63\": 1, \"117\": 1, \"88\": 1}, \"14\": {\"14\": 111, \"78\": 1}, \"9\": {\"9\": 28}, \"5\": {\"5\": 133, \"113\": 1, \"88\": 1, \"117\": 1}, \"22\": {\"22\": 16}, \"2\": {\"2\": 28}, \"77\": {\"77\": 12}, \"59\": {\"59\": 10, \"70\": 1, \"88\": 1}, \"127\": {\"127\": 95, \"23\": 1, \"4\": 1, \"88\": 1, \"105\": 2, \"80\": 1, \"10\": 1}, \"61\": {\"61\": 15, \"35\": 1}, \"17\": {\"17\": 18, \"81\": 1, \"82\": 1}, \"45\": {\"45\": 16}, \"19\": {\"19\": 27, \"129\": 1}, \"52\": {\"52\": 19, \"70\": 1}, \"123\": {\"84\": 1, \"123\": 13, \"23\": 1, \"33\": 1}, \"20\": {\"20\": 15, \"86\": 1}, \"112\": {\"112\": 13, \"6\": 1, \"79\": 1, \"71\": 1}, \"37\": {\"37\": 16}, \"29\": {\"29\": 32}, \"128\": {\"100\": 2, \"128\": 17, \"85\": 1, \"107\": 1, \"91\": 1, \"77\": 1, \"98\": 1}, \"100\": {\"100\": 20}, \"67\": {\"67\": 14, \"115\": 1, \"2\": 1}, \"12\": {\"12\": 95, \"106\": 1, \"102\": 1, \"16\": 1, \"88\": 1, \"15\": 1}, \"101\": {\"101\": 127, \"5\": 1}, \"76\": {\"76\": 16}, \"70\": {\"70\": 113, \"108\": 4, \"27\": 2, \"10\": 3, \"36\": 1, \"88\": 1}, \"31\": {\"88\": 1, \"31\": 15}, \"86\": {\"86\": 28}, \"88\": {\"88\": 127, \"78\": 1, \"69\": 1, \"70\": 1, \"94\": 1, \"108\": 1}, \"3\": {\"3\": 123, \"108\": 1, \"70\": 1, \"52\": 1}, \"117\": {\"117\": 117, \"1\": 1, \"114\": 1, \"69\": 1}, \"30\": {\"30\": 72, \"10\": 3, \"114\": 1}, \"96\": {\"96\": 18, \"122\": 2}, \"27\": {\"27\": 91, \"92\": 1, \"88\": 2, \"108\": 2, \"10\": 1, \"84\": 1, \"21\": 1, \"24\": 1}, \"122\": {\"122\": 79, \"43\": 2, \"110\": 2, \"39\": 1}, \"120\": {\"120\": 18, \"21\": 1, \"45\": 1}, \"44\": {\"44\": 60, \"121\": 2, \"90\": 1, \"127\": 1}, \"79\": {\"79\": 14, \"73\": 1, \"122\": 1}, \"105\": {\"105\": 96, \"69\": 1, \"88\": 1, \"102\": 1, \"16\": 1}, \"95\": {\"95\": 30, \"21\": 1, \"27\": 1}, \"109\": {\"109\": 114, \"121\": 1, \"102\": 1}, \"16\": {\"16\": 115, \"88\": 1, \"114\": 1, \"70\": 1}, \"36\": {\"36\": 92, \"113\": 1, \"108\": 1, \"24\": 1, \"27\": 3}, \"125\": {\"125\": 135, \"117\": 1}, \"97\": {\"36\": 2, \"97\": 15, \"10\": 2, \"102\": 1}, \"91\": {\"28\": 1, \"91\": 19, \"88\": 1, \"34\": 1, \"128\": 1, \"83\": 1}, \"28\": {\"28\": 18, \"103\": 1, \"91\": 1}, \"81\": {\"81\": 36}, \"126\": {\"126\": 113, \"88\": 1, \"78\": 1, \"106\": 1, \"84\": 1, \"81\": 1, \"22\": 1, \"113\": 3}, \"4\": {\"4\": 98, \"33\": 1, \"39\": 1, \"88\": 1, \"24\": 1, \"108\": 1, \"69\": 1}, \"10\": {\"10\": 121, \"94\": 1, \"70\": 1, \"43\": 1}, \"63\": {\"63\": 16}, \"43\": {\"43\": 118}, \"116\": {\"116\": 28}, \"1\": {\"1\": 98, \"116\": 1, \"71\": 2, \"110\": 1, \"40\": 1, \"108\": 1, \"70\": 1, \"27\": 1, \"114\": 1, \"88\": 1}, \"94\": {\"94\": 84, \"15\": 1, \"78\": 1, \"40\": 1, \"70\": 1}, \"38\": {\"38\": 16}, \"54\": {\"54\": 14, \"51\": 2}, \"74\": {\"74\": 15, \"119\": 1}, \"25\": {\"25\": 16}, \"75\": {\"75\": 16}, \"119\": {\"119\": 15, \"22\": 1}, \"46\": {\"46\": 16, \"73\": 1, \"22\": 1, \"19\": 2}, \"23\": {\"23\": 9, \"72\": 1, \"93\": 1, \"1\": 1, \"60\": 1, \"113\": 1, \"102\": 1, \"34\": 1}, \"99\": {\"99\": 40}, \"33\": {\"33\": 116, \"102\": 1, \"16\": 1}, \"47\": {\"47\": 9, \"112\": 1, \"49\": 1, \"83\": 1}, \"115\": {\"102\": 1, \"115\": 12, \"111\": 2, \"42\": 1}, \"6\": {\"6\": 21, \"58\": 1, \"91\": 1, \"84\": 1}, \"65\": {\"65\": 12}, \"66\": {\"66\": 15, \"90\": 1}, \"78\": {\"78\": 34, \"88\": 1, \"109\": 1}, \"98\": {\"98\": 116}, \"93\": {\"93\": 113, \"11\": 2, \"24\": 1}, \"48\": {\"48\": 15, \"102\": 1}, \"124\": {\"124\": 113, \"117\": 1}}, \"Wisig_2\": {\"115\": {\"115\": 12}, \"34\": {\"34\": 25, \"28\": 3, \"64\": 2, \"86\": 1, \"52\": 1}, \"97\": {\"97\": 17, \"89\": 1, \"101\": 2}, \"100\": {\"100\": 16}, \"129\": {\"129\": 31, \"73\": 1}, \"90\": {\"90\": 140, \"98\": 1, \"102\": 1}, \"125\": {\"125\": 131, \"2\": 1}, \"7\": {\"7\": 125, \"24\": 3}, \"92\": {\"92\": 25, \"55\": 2, \"89\": 1}, \"114\": {\"114\": 115, \"107\": 1}, \"80\": {\"80\": 15, \"83\": 1}, \"16\": {\"16\": 114, \"40\": 2, \"24\": 2, \"26\": 1, \"88\": 1, \"102\": 1, \"93\": 1}, \"69\": {\"69\": 112, \"24\": 2, \"70\": 1, \"88\": 1}, \"102\": {\"102\": 114}, \"33\": {\"33\": 130}, \"17\": {\"17\": 14, \"27\": 1, \"104\": 1}, \"27\": {\"27\": 64, \"24\": 2, \"109\": 1, \"26\": 1}, \"117\": {\"117\": 104, \"12\": 1, \"39\": 1}, \"14\": {\"14\": 46, \"126\": 1, \"21\": 1}, \"86\": {\"86\": 32}, \"0\": {\"0\": 113, \"21\": 1, \"69\": 1, \"24\": 1}, \"62\": {\"62\": 136, \"23\": 1, \"24\": 1}, \"39\": {\"39\": 100, \"109\": 6, \"1\": 1, \"24\": 1, \"94\": 1, \"69\": 1, \"84\": 1, \"70\": 1}, \"19\": {\"19\": 28}, \"44\": {\"44\": 100}, \"104\": {\"104\": 20}, \"3\": {\"3\": 125, \"69\": 1, \"24\": 1, \"62\": 1, \"21\": 1, \"36\": 1}, \"10\": {\"10\": 55, \"69\": 1, \"21\": 1, \"24\": 1, \"88\": 1, \"102\": 1}, \"61\": {\"61\": 16, \"121\": 1, \"70\": 1, \"126\": 2}, \"111\": {\"111\": 114}, \"68\": {\"68\": 16}, \"101\": {\"101\": 142, \"21\": 1, \"71\": 1}, \"36\": {\"36\": 119, \"121\": 1, \"18\": 1, \"62\": 1, \"70\": 1, \"16\": 1, \"24\": 2, \"4\": 1, \"117\": 1}, \"120\": {\"120\": 20}, \"103\": {\"103\": 16}, \"47\": {\"47\": 12}, \"98\": {\"98\": 119, \"3\": 1}, \"76\": {\"76\": 16}, \"88\": {\"88\": 121, \"70\": 2, \"109\": 1}, \"93\": {\"93\": 136, \"14\": 1, \"24\": 1}, \"23\": {\"93\": 2, \"23\": 30, \"14\": 1, \"87\": 1, \"126\": 2, \"16\": 2, \"101\": 1, \"110\": 1, \"96\": 1, \"60\": 2, \"113\": 1}, \"108\": {\"108\": 123, \"109\": 1}, \"51\": {\"51\": 16, \"89\": 1, \"58\": 1, \"116\": 1, \"24\": 1}, \"13\": {\"13\": 12, \"121\": 1, \"15\": 1, \"71\": 1, \"110\": 1}, \"77\": {\"77\": 16}, \"46\": {\"46\": 16}, \"96\": {\"96\": 20}, \"119\": {\"119\": 19, \"1\": 1}, \"121\": {\"121\": 36}, \"54\": {\"54\": 18, \"28\": 1, \"104\": 1}, \"82\": {\"82\": 34, \"123\": 1, \"33\": 1}, \"12\": {\"12\": 83, \"33\": 1, \"0\": 2, \"126\": 1, \"24\": 1}, \"74\": {\"74\": 15, \"22\": 1}, \"66\": {\"66\": 18, \"49\": 1, \"82\": 1}, \"28\": {\"28\": 17, \"73\": 1, \"91\": 2}, \"52\": {\"52\": 18, \"59\": 1, \"107\": 1}, \"41\": {\"41\": 18, \"52\": 1, \"98\": 1}, \"81\": {\"81\": 24}, \"48\": {\"48\": 20}, \"113\": {\"113\": 70, \"78\": 1, \"11\": 1}, \"53\": {\"53\": 16}, \"15\": {\"15\": 117, \"97\": 2, \"126\": 1}, \"30\": {\"30\": 108, \"24\": 1, \"122\": 1, \"0\": 1, \"108\": 1}, \"43\": {\"43\": 121, \"88\": 2, \"15\": 1}, \"29\": {\"29\": 31, \"91\": 1}, \"109\": {\"109\": 84, \"78\": 1, \"39\": 10, \"94\": 1, \"70\": 1, \"88\": 2, \"84\": 1}, \"60\": {\"60\": 23, \"122\": 2, \"93\": 1, \"70\": 1, \"84\": 1}, \"70\": {\"70\": 108, \"67\": 1, \"109\": 5, \"11\": 1, \"69\": 1, \"107\": 1, \"78\": 1, \"71\": 1, \"39\": 2, \"30\": 1}, \"127\": {\"127\": 123, \"16\": 1}, \"32\": {\"32\": 29, \"56\": 2, \"95\": 1, \"104\": 2, \"34\": 2}, \"73\": {\"73\": 27, \"88\": 1}, \"50\": {\"50\": 13, \"69\": 1, \"21\": 1, \"33\": 1}, \"1\": {\"1\": 119, \"69\": 1, \"12\": 1, \"102\": 1, \"88\": 1, \"126\": 1}, \"106\": {\"106\": 116, \"21\": 1, \"126\": 1, \"84\": 1, \"88\": 1}, \"123\": {\"123\": 15, \"83\": 1}, \"79\": {\"79\": 16}, \"4\": {\"4\": 85, \"84\": 1, \"126\": 1, \"31\": 1}, \"2\": {\"2\": 31, \"13\": 1}, \"8\": {\"8\": 124, \"88\": 2, \"12\": 1, \"84\": 1}, \"83\": {\"83\": 40}, \"105\": {\"105\": 129, \"21\": 1}, \"5\": {\"5\": 107, \"21\": 1, \"70\": 3, \"88\": 1}, \"99\": {\"99\": 32}, \"25\": {\"25\": 15, \"28\": 1}, \"59\": {\"59\": 13, \"21\": 2, \"126\": 1}, \"42\": {\"42\": 22, \"129\": 1, \"83\": 1, \"124\": 2, \"18\": 1, \"88\": 1}, \"55\": {\"55\": 16}, \"75\": {\"75\": 16}, \"118\": {\"118\": 65, \"39\": 1, \"31\": 1, \"43\": 1}, \"95\": {\"95\": 32, \"21\": 1, \"24\": 1, \"40\": 2}, \"122\": {\"122\": 118, \"24\": 1, \"0\": 1}, \"20\": {\"20\": 16}, \"110\": {\"110\": 31, \"123\": 1, \"1\": 1, \"6\": 1, \"21\": 1, \"24\": 1, \"14\": 2, \"31\": 1, \"19\": 1}, \"65\": {\"65\": 20}, \"37\": {\"79\": 1, \"37\": 13, \"104\": 1, \"86\": 1}, \"64\": {\"64\": 15, \"66\": 1}, \"63\": {\"63\": 19, \"49\": 1}, \"40\": {\"40\": 126, \"95\": 2, \"18\": 2, \"88\": 3, \"69\": 3, \"73\": 1, \"71\": 1, \"84\": 1, \"24\": 1}, \"21\": {\"21\": 47, \"109\": 1}, \"11\": {\"11\": 77, \"67\": 1, \"88\": 1, \"27\": 1}, \"67\": {\"67\": 16}, \"91\": {\"103\": 1, \"67\": 1, \"91\": 20, \"34\": 1, \"29\": 1, \"18\": 1, \"6\": 3}, \"87\": {\"87\": 101, \"43\": 2, \"39\": 2, \"88\": 2, \"24\": 2, \"31\": 1, \"102\": 1, \"69\": 1}, \"89\": {\"89\": 34, \"92\": 1, \"119\": 1}, \"9\": {\"9\": 32}, \"124\": {\"124\": 113, \"45\": 1}, \"56\": {\"56\": 11, \"103\": 1}, \"38\": {\"38\": 16}, \"94\": {\"94\": 57, \"109\": 1, \"108\": 1, \"26\": 1, \"118\": 1, \"102\": 1, \"24\": 1, \"39\": 1}, \"6\": {\"6\": 30, \"124\": 1, \"91\": 1}, \"58\": {\"58\": 17, \"51\": 1, \"42\": 1, \"28\": 1}, \"22\": {\"22\": 20}, \"24\": {\"108\": 2, \"24\": 102, \"118\": 1, \"70\": 1, \"69\": 1, \"98\": 1, \"109\": 1, \"39\": 1, \"15\": 1, \"88\": 1}, \"57\": {\"57\": 20}, \"112\": {\"112\": 12, \"53\": 1, \"15\": 1, \"129\": 1, \"85\": 1}, \"116\": {\"116\": 26, \"78\": 2}, \"18\": {\"18\": 120, \"42\": 1, \"7\": 1, \"84\": 1, \"70\": 1, \"24\": 3, \"71\": 1}, \"49\": {\"49\": 16, \"51\": 1, \"67\": 1, \"44\": 1, \"91\": 1, \"114\": 1, \"68\": 1, \"58\": 1, \"88\": 1}, \"45\": {\"45\": 14, \"124\": 2}, \"107\": {\"107\": 55, \"67\": 1, \"110\": 2, \"126\": 1, \"33\": 1, \"61\": 1, \"108\": 1, \"36\": 1, \"102\": 1}, \"35\": {\"35\": 12}, \"78\": {\"78\": 42, \"118\": 1, \"70\": 2, \"109\": 2, \"69\": 1}, \"126\": {\"126\": 119, \"108\": 1}, \"85\": {\"85\": 32}, \"72\": {\"72\": 27, \"24\": 1}, \"26\": {\"26\": 120, \"70\": 1, \"69\": 1, \"18\": 1, \"122\": 1}, \"84\": {\"84\": 90, \"118\": 1, \"87\": 1}, \"128\": {\"128\": 19, \"114\": 2, \"34\": 2, \"101\": 1}, \"31\": {\"31\": 20}, \"71\": {\"71\": 98, \"40\": 1, \"11\": 1}}, \"Wisig_1\": {\"22\": {\"22\": 16}, \"58\": {\"58\": 12}, \"109\": {\"109\": 123, \"108\": 1}, \"77\": {\"77\": 16}, \"74\": {\"74\": 16}, \"10\": {\"10\": 119, \"109\": 1}, \"70\": {\"70\": 126, \"126\": 1, \"108\": 1}, \"84\": {\"84\": 108}, \"52\": {\"52\": 20}, \"20\": {\"20\": 16}, \"14\": {\"14\": 95, \"108\": 1}, \"37\": {\"37\": 16}, \"42\": {\"42\": 22, \"22\": 1, \"72\": 1, \"91\": 1, \"2\": 1, \"29\": 1, \"86\": 1}, \"99\": {\"99\": 24}, \"35\": {\"35\": 12}, \"62\": {\"62\": 119, \"108\": 1}, \"61\": {\"61\": 11, \"66\": 1}, \"7\": {\"7\": 141, \"70\": 1}, \"69\": {\"69\": 100, \"88\": 1, \"108\": 1, \"102\": 1, \"36\": 1}, \"55\": {\"55\": 12}, \"41\": {\"41\": 16}, \"120\": {\"120\": 20}, \"123\": {\"123\": 16}, \"97\": {\"97\": 16, \"55\": 1, \"42\": 1, \"59\": 1, \"95\": 1}, \"102\": {\"102\": 117, \"16\": 1, \"108\": 1, \"109\": 1}, \"60\": {\"20\": 2, \"60\": 7, \"18\": 1, \"106\": 2, \"61\": 1, \"110\": 1, \"8\": 1, \"30\": 1}, \"127\": {\"127\": 104, \"114\": 1, \"88\": 1, \"11\": 1, \"43\": 1}, \"32\": {\"32\": 32}, \"3\": {\"3\": 82, \"15\": 1, \"86\": 1, \"93\": 1, \"30\": 1, \"111\": 1, \"108\": 1}, \"8\": {\"8\": 122}, \"129\": {\"129\": 24, \"13\": 1, \"2\": 1, \"5\": 2}, \"119\": {\"119\": 16}, \"21\": {\"21\": 38, \"108\": 1, \"5\": 1}, \"53\": {\"53\": 20}, \"28\": {\"28\": 20}, \"117\": {\"117\": 144}, \"112\": {\"112\": 15, \"59\": 1}, \"126\": {\"126\": 129, \"108\": 1, \"88\": 1, \"24\": 2, \"102\": 1}, \"30\": {\"30\": 52}, \"105\": {\"105\": 81, \"88\": 1, \"102\": 1, \"70\": 1}, \"29\": {\"29\": 28}, \"57\": {\"57\": 12}, \"93\": {\"93\": 140}, \"17\": {\"17\": 14, \"97\": 1, \"124\": 1}, \"44\": {\"44\": 76}, \"63\": {\"63\": 15, \"116\": 1}, \"87\": {\"87\": 106, \"109\": 1, \"108\": 1}, \"0\": {\"0\": 83, \"122\": 1}, \"96\": {\"96\": 19, \"91\": 1}, \"98\": {\"98\": 108}, \"75\": {\"75\": 16}, \"78\": {\"78\": 15, \"110\": 1}, \"116\": {\"116\": 31, \"70\": 1}, \"114\": {\"114\": 126, \"109\": 1, \"70\": 1}, \"103\": {\"103\": 16}, \"50\": {\"50\": 16}, \"124\": {\"124\": 128}, \"5\": {\"5\": 85, \"82\": 1, \"16\": 1, \"15\": 1}, \"73\": {\"73\": 19, \"49\": 1}, \"81\": {\"81\": 28}, \"49\": {\"49\": 15, \"124\": 1, \"72\": 1, \"1\": 1, \"89\": 1, \"6\": 1}, \"16\": {\"16\": 106, \"70\": 1, \"108\": 1}, \"101\": {\"101\": 124}, \"125\": {\"125\": 118}, \"65\": {\"66\": 1, \"65\": 6, \"76\": 1, \"45\": 1, \"42\": 1, \"61\": 1, \"23\": 1}, \"66\": {\"66\": 15, \"28\": 1}, \"79\": {\"79\": 12}, \"39\": {\"39\": 101, \"30\": 1, \"11\": 2}, \"104\": {\"104\": 16}, \"91\": {\"91\": 26, \"86\": 2}, \"25\": {\"25\": 15, \"42\": 1}, \"64\": {\"64\": 16}, \"34\": {\"34\": 27, \"83\": 2, \"30\": 1, \"6\": 1, \"98\": 1}, \"82\": {\"82\": 36}, \"18\": {\"18\": 124}, \"43\": {\"43\": 127, \"78\": 1}, \"47\": {\"47\": 12}, \"108\": {\"108\": 123, \"50\": 1}, \"111\": {\"111\": 107, \"70\": 1}, \"23\": {\"23\": 14, \"87\": 1, \"44\": 1, \"110\": 2, \"122\": 1, \"18\": 1, \"11\": 2, \"88\": 2}, \"90\": {\"90\": 158, \"108\": 2}, \"4\": {\"4\": 99, \"1\": 1}, \"92\": {\"92\": 28}, \"2\": {\"2\": 27, \"42\": 1, \"129\": 1, \"5\": 1, \"82\": 1, \"15\": 1}, \"45\": {\"116\": 2, \"45\": 4, \"104\": 2, \"124\": 2, \"70\": 1, \"21\": 1}, \"68\": {\"68\": 16}, \"26\": {\"26\": 128}, \"38\": {\"38\": 16}, \"40\": {\"40\": 140, \"105\": 1, \"110\": 1}, \"80\": {\"80\": 14, \"20\": 1, \"73\": 1}, \"107\": {\"107\": 118, \"65\": 1, \"108\": 1, \"39\": 1, \"16\": 1}, \"94\": {\"94\": 91, \"15\": 1}, \"115\": {\"115\": 12}, \"46\": {\"46\": 10, \"70\": 1, \"91\": 1}, \"72\": {\"72\": 32}, \"19\": {\"19\": 27, \"73\": 1}, \"100\": {\"100\": 15, \"9\": 1}, \"76\": {\"76\": 15, \"88\": 1}, \"106\": {\"106\": 132}, \"88\": {\"88\": 128, \"24\": 1, \"108\": 1}, \"15\": {\"15\": 96, \"94\": 7, \"70\": 1}, \"54\": {\"54\": 14, \"15\": 1, \"30\": 1}, \"13\": {\"13\": 16}, \"51\": {\"51\": 16}, \"24\": {\"24\": 86, \"88\": 5, \"34\": 1}, \"48\": {\"48\": 12}, \"85\": {\"85\": 32}, \"33\": {\"33\": 140}, \"71\": {\"71\": 102, \"64\": 1, \"117\": 1, \"12\": 2, \"5\": 1, \"126\": 1}, \"6\": {\"6\": 29, \"55\": 1, \"65\": 1, \"58\": 1}, \"83\": {\"83\": 26, \"102\": 1, \"2\": 1}, \"121\": {\"121\": 32}, \"31\": {\"31\": 15, \"122\": 1}, \"67\": {\"109\": 1, \"67\": 15}, \"1\": {\"1\": 135, \"110\": 1}, \"27\": {\"27\": 91, \"109\": 1}, \"118\": {\"118\": 82, \"108\": 1, \"103\": 1}, \"56\": {\"56\": 12}, \"36\": {\"36\": 127, \"70\": 1}, \"11\": {\"11\": 125, \"111\": 1}, \"110\": {\"110\": 121, \"88\": 1}, \"89\": {\"89\": 36}, \"113\": {\"113\": 112, \"43\": 1, \"110\": 2, \"33\": 1, \"108\": 1, \"39\": 1}, \"59\": {\"59\": 12}, \"9\": {\"9\": 31, \"70\": 1}, \"86\": {\"86\": 34, \"94\": 1, \"114\": 1}, \"12\": {\"12\": 98, \"70\": 2, \"109\": 1, \"106\": 2, \"24\": 1}, \"122\": {\"122\": 79, \"21\": 1, \"43\": 5, \"27\": 1, \"70\": 2}, \"128\": {\"128\": 20, \"89\": 1, \"19\": 1, \"82\": 1, \"83\": 1}, \"95\": {\"95\": 35, \"24\": 1}}, \"ORACLE.run114\": {\"15\": {\"15\": 239, \"6\": 1}, \"5\": {\"8\": 28, \"5\": 40, \"2\": 27, \"14\": 13, \"7\": 28, \"3\": 10, \"12\": 15, \"4\": 23, \"0\": 32, \"13\": 7, \"10\": 9, \"1\": 3, \"6\": 5}, \"7\": {\"7\": 49, \"6\": 14, \"14\": 35, \"2\": 19, \"5\": 20, \"3\": 24, \"13\": 18, \"8\": 19, \"0\": 24, \"4\": 7, \"12\": 9, \"10\": 2}, \"4\": {\"1\": 18, \"12\": 27, \"2\": 20, \"0\": 10, \"13\": 6, \"3\": 3, \"10\": 46, \"7\": 4, \"14\": 8, \"8\": 16, \"4\": 53, \"5\": 20, \"9\": 7, \"6\": 2}, \"10\": {\"10\": 72, \"4\": 52, \"9\": 32, \"12\": 19, \"1\": 23, \"14\": 2, \"13\": 4, \"2\": 13, \"8\": 6, \"5\": 12, \"6\": 2, \"0\": 2, \"7\": 1}, \"11\": {\"11\": 229, \"1\": 6, \"9\": 4, \"10\": 1}, \"12\": {\"4\": 20, \"12\": 78, \"14\": 5, \"9\": 11, \"5\": 17, \"6\": 2, \"8\": 51, \"10\": 15, \"13\": 1, \"7\": 10, \"2\": 9, \"3\": 5, \"0\": 11, \"1\": 5}, \"0\": {\"4\": 8, \"6\": 27, \"7\": 26, \"14\": 14, \"5\": 21, \"3\": 38, \"2\": 23, \"0\": 32, \"8\": 20, \"13\": 16, \"12\": 7, \"9\": 1, \"10\": 7}, \"14\": {\"6\": 18, \"14\": 50, \"0\": 36, \"13\": 27, \"5\": 22, \"3\": 22, \"4\": 5, \"2\": 33, \"7\": 19, \"12\": 4, \"8\": 3, \"10\": 1}, \"8\": {\"8\": 75, \"12\": 55, \"3\": 17, \"5\": 21, \"4\": 17, \"0\": 21, \"7\": 17, \"10\": 2, \"2\": 10, \"9\": 1, \"13\": 2, \"14\": 1, \"6\": 1}, \"13\": {\"2\": 17, \"14\": 30, \"13\": 43, \"6\": 43, \"0\": 15, \"15\": 30, \"5\": 11, \"4\": 7, \"3\": 20, \"7\": 18, \"8\": 4, \"10\": 1, \"12\": 1}, \"6\": {\"6\": 71, \"13\": 52, \"14\": 31, \"0\": 13, \"2\": 17, \"7\": 12, \"3\": 34, \"15\": 4, \"12\": 2, \"5\": 4}, \"1\": {\"1\": 118, \"10\": 33, \"4\": 17, \"9\": 66, \"12\": 4, \"5\": 1, \"8\": 1}, \"3\": {\"6\": 32, \"13\": 29, \"8\": 11, \"3\": 40, \"7\": 40, \"14\": 26, \"2\": 18, \"0\": 32, \"5\": 6, \"12\": 5, \"4\": 1}, \"9\": {\"12\": 16, \"1\": 70, \"10\": 35, \"9\": 102, \"8\": 6, \"4\": 11}, \"2\": {\"6\": 22, \"0\": 35, \"2\": 31, \"5\": 26, \"13\": 17, \"3\": 15, \"12\": 12, \"14\": 25, \"1\": 2, \"7\": 15, \"10\": 11, \"4\": 19, \"8\": 9, \"9\": 1}}, \"ORACLE.run120\": {\"4\": {\"15\": 17, \"4\": 20, \"1\": 16, \"10\": 23, \"13\": 17, \"6\": 23, \"14\": 14, \"7\": 29, \"8\": 5, \"2\": 16, \"5\": 6, \"3\": 13, \"12\": 24, \"0\": 4, \"9\": 13}, \"10\": {\"4\": 24, \"10\": 58, \"2\": 15, \"7\": 23, \"9\": 16, \"5\": 5, \"1\": 13, \"12\": 19, \"15\": 12, \"6\": 27, \"13\": 15, \"14\": 5, \"8\": 4, \"3\": 4}, \"15\": {\"15\": 21, \"13\": 33, \"12\": 28, \"6\": 12, \"10\": 12, \"4\": 18, \"9\": 20, \"14\": 8, \"3\": 8, \"7\": 22, \"2\": 21, \"1\": 19, \"0\": 5, \"5\": 12, \"8\": 1}, \"0\": {\"14\": 18, \"0\": 77, \"11\": 54, \"7\": 2, \"6\": 2, \"8\": 28, \"3\": 28, \"1\": 12, \"9\": 6, \"15\": 3, \"12\": 1, \"5\": 5, \"2\": 3, \"4\": 1}, \"6\": {\"13\": 14, \"1\": 12, \"7\": 25, \"2\": 17, \"8\": 14, \"14\": 27, \"9\": 21, \"5\": 7, \"15\": 16, \"6\": 29, \"3\": 12, \"4\": 18, \"12\": 12, \"10\": 16}, \"3\": {\"1\": 26, \"7\": 16, \"9\": 20, \"14\": 32, \"6\": 19, \"3\": 21, \"8\": 18, \"5\": 18, \"15\": 11, \"0\": 15, \"13\": 4, \"2\": 13, \"12\": 11, \"4\": 8, \"11\": 4, \"10\": 4}, \"7\": {\"15\": 19, \"9\": 21, \"1\": 20, \"5\": 14, \"13\": 18, \"12\": 17, \"10\": 14, \"4\": 19, \"7\": 24, \"8\": 13, \"14\": 12, \"2\": 11, \"6\": 25, \"0\": 3, \"3\": 9, \"11\": 1}, \"2\": {\"15\": 30, \"7\": 24, \"3\": 18, \"1\": 18, \"2\": 21, \"13\": 21, \"12\": 15, \"5\": 10, \"4\": 22, \"9\": 15, \"6\": 18, \"14\": 5, \"10\": 19, \"8\": 3, \"0\": 1}, \"8\": {\"0\": 34, \"11\": 16, \"9\": 14, \"5\": 20, \"15\": 8, \"14\": 29, \"13\": 4, \"1\": 13, \"7\": 8, \"8\": 39, \"3\": 22, \"6\": 14, \"4\": 6, \"2\": 4, \"12\": 6, \"10\": 3}, \"11\": {\"3\": 18, \"11\": 95, \"0\": 65, \"8\": 26, \"1\": 5, \"5\": 6, \"14\": 14, \"9\": 4, \"6\": 3, \"15\": 2, \"2\": 1, \"4\": 1}, \"14\": {\"8\": 34, \"14\": 51, \"3\": 18, \"5\": 20, \"1\": 11, \"0\": 14, \"2\": 7, \"15\": 5, \"12\": 8, \"9\": 16, \"11\": 13, \"7\": 12, \"4\": 6, \"6\": 20, \"10\": 4, \"13\": 1}, \"12\": {\"15\": 20, \"10\": 9, \"2\": 24, \"12\": 34, \"14\": 9, \"0\": 3, \"5\": 13, \"3\": 10, \"1\": 23, \"7\": 25, \"6\": 16, \"9\": 14, \"4\": 17, \"13\": 19, \"8\": 4}, \"13\": {\"2\": 23, \"13\": 39, \"7\": 20, \"1\": 23, \"6\": 13, \"15\": 32, \"12\": 21, \"4\": 14, \"9\": 17, \"14\": 8, \"3\": 9, \"10\": 12, \"5\": 7, \"8\": 2}, \"9\": {\"12\": 18, \"3\": 21, \"14\": 17, \"7\": 24, \"9\": 24, \"0\": 6, \"1\": 15, \"2\": 14, \"5\": 24, \"13\": 11, \"10\": 11, \"6\": 17, \"15\": 15, \"8\": 9, \"4\": 11, \"11\": 3}, \"5\": {\"15\": 20, \"13\": 7, \"6\": 14, \"9\": 22, \"1\": 20, \"3\": 27, \"10\": 10, \"7\": 15, \"0\": 17, \"14\": 21, \"8\": 21, \"5\": 19, \"4\": 7, \"2\": 12, \"12\": 6, \"11\": 2}, \"1\": {\"9\": 16, \"12\": 22, \"3\": 26, \"15\": 20, \"6\": 15, \"1\": 26, \"13\": 7, \"8\": 15, \"11\": 5, \"7\": 18, \"5\": 24, \"4\": 11, \"0\": 7, \"14\": 8, \"2\": 15, \"10\": 5}}, \"ORACLE.run150\": {\"5\": {\"5\": 44, \"9\": 21, \"3\": 17, \"4\": 42, \"7\": 34, \"12\": 11, \"6\": 25, \"13\": 5, \"15\": 26, \"11\": 8, \"1\": 4, \"10\": 1, \"8\": 2}, \"12\": {\"9\": 49, \"12\": 90, \"3\": 20, \"11\": 39, \"1\": 3, \"13\": 4, \"4\": 2, \"5\": 5, \"15\": 8, \"6\": 14, \"8\": 2, \"7\": 4}, \"14\": {\"2\": 68, \"10\": 27, \"1\": 8, \"14\": 80, \"0\": 54, \"8\": 2, \"13\": 1}, \"4\": {\"4\": 79, \"7\": 83, \"5\": 29, \"9\": 10, \"3\": 4, \"15\": 13, \"6\": 17, \"11\": 3, \"12\": 2}, \"13\": {\"3\": 24, \"13\": 67, \"6\": 5, \"1\": 51, \"8\": 19, \"0\": 1, \"12\": 17, \"10\": 5, \"15\": 10, \"11\": 32, \"5\": 5, \"4\": 1, \"9\": 3}, \"10\": {\"8\": 54, \"10\": 79, \"1\": 38, \"0\": 36, \"14\": 16, \"2\": 13, \"13\": 3, \"12\": 1}, \"9\": {\"12\": 50, \"9\": 39, \"15\": 29, \"13\": 4, \"3\": 26, \"1\": 2, \"11\": 22, \"5\": 18, \"6\": 29, \"4\": 13, \"7\": 7, \"8\": 1}, \"15\": {\"6\": 32, \"9\": 30, \"15\": 50, \"7\": 16, \"4\": 10, \"12\": 9, \"5\": 32, \"3\": 23, \"11\": 30, \"1\": 2, \"13\": 6}, \"6\": {\"9\": 30, \"15\": 43, \"4\": 9, \"11\": 21, \"6\": 29, \"3\": 24, \"5\": 41, \"12\": 23, \"13\": 6, \"7\": 12, \"8\": 1, \"1\": 1}, \"2\": {\"2\": 67, \"0\": 72, \"14\": 67, \"10\": 23, \"8\": 8, \"1\": 3}, \"0\": {\"14\": 57, \"10\": 42, \"2\": 48, \"0\": 72, \"8\": 16, \"1\": 5}, \"11\": {\"11\": 56, \"12\": 32, \"9\": 30, \"3\": 27, \"13\": 24, \"6\": 19, \"1\": 7, \"15\": 24, \"5\": 13, \"8\": 4, \"4\": 3, \"7\": 1}, \"3\": {\"6\": 32, \"5\": 25, \"13\": 8, \"9\": 35, \"11\": 31, \"12\": 22, \"15\": 33, \"3\": 31, \"7\": 16, \"4\": 4, \"1\": 3}, \"8\": {\"13\": 24, \"1\": 50, \"10\": 53, \"8\": 80, \"3\": 3, \"0\": 15, \"14\": 7, \"12\": 1, \"6\": 1, \"2\": 3, \"11\": 2, \"15\": 1}, \"7\": {\"4\": 75, \"7\": 82, \"5\": 37, \"3\": 6, \"15\": 15, \"9\": 7, \"12\": 3, \"6\": 15}, \"1\": {\"8\": 46, \"12\": 4, \"11\": 12, \"1\": 71, \"15\": 3, \"13\": 61, \"3\": 7, \"14\": 4, \"10\": 25, \"6\": 2, \"2\": 1, \"0\": 3, \"9\": 1}}, \"ORACLE.run126\": {\"7\": {\"2\": 23, \"9\": 30, \"8\": 33, \"10\": 9, \"3\": 34, \"12\": 20, \"7\": 43, \"14\": 5, \"0\": 17, \"13\": 17, \"4\": 3, \"15\": 3, \"11\": 1, \"6\": 1, \"5\": 1}, \"6\": {\"10\": 26, \"6\": 31, \"5\": 38, \"1\": 33, \"15\": 28, \"14\": 32, \"11\": 28, \"0\": 12, \"2\": 4, \"8\": 1, \"9\": 5, \"7\": 1, \"12\": 1}, \"14\": {\"1\": 35, \"15\": 22, \"2\": 11, \"6\": 27, \"8\": 12, \"10\": 33, \"14\": 37, \"0\": 27, \"9\": 8, \"7\": 4, \"5\": 17, \"11\": 3, \"12\": 2, \"13\": 1, \"3\": 1}, \"15\": {\"5\": 30, \"15\": 39, \"2\": 10, \"6\": 28, \"10\": 26, \"14\": 33, \"1\": 16, \"11\": 29, \"9\": 7, \"0\": 20, \"12\": 2}, \"5\": {\"10\": 17, \"0\": 16, \"15\": 48, \"5\": 40, \"1\": 24, \"11\": 39, \"6\": 36, \"14\": 11, \"8\": 4, \"2\": 2, \"12\": 2, \"9\": 1}, \"10\": {\"6\": 31, \"11\": 19, \"2\": 14, \"10\": 27, \"0\": 24, \"15\": 27, \"8\": 7, \"14\": 30, \"5\": 21, \"7\": 7, \"1\": 19, \"12\": 2, \"9\": 11, \"3\": 1}, \"4\": {\"8\": 9, \"7\": 19, \"12\": 27, \"4\": 94, \"3\": 37, \"13\": 37, \"9\": 15, \"2\": 2}, \"11\": {\"11\": 83, \"0\": 9, \"15\": 28, \"6\": 26, \"1\": 22, \"14\": 16, \"12\": 1, \"5\": 46, \"2\": 2, \"10\": 6, \"9\": 1}, \"13\": {\"12\": 40, \"3\": 30, \"4\": 30, \"8\": 22, \"13\": 48, \"2\": 15, \"7\": 29, \"9\": 20, \"15\": 1, \"0\": 3, \"14\": 1, \"10\": 1}, \"2\": {\"0\": 22, \"8\": 21, \"3\": 17, \"12\": 25, \"7\": 29, \"5\": 6, \"2\": 29, \"15\": 9, \"4\": 7, \"10\": 16, \"9\": 28, \"14\": 8, \"6\": 3, \"13\": 11, \"11\": 4, \"1\": 5}, \"0\": {\"1\": 17, \"14\": 30, \"9\": 9, \"7\": 8, \"15\": 35, \"8\": 22, \"0\": 36, \"10\": 23, \"2\": 19, \"6\": 11, \"13\": 3, \"5\": 14, \"11\": 3, \"12\": 7, \"3\": 3}, \"12\": {\"3\": 33, \"13\": 28, \"8\": 30, \"12\": 31, \"9\": 37, \"7\": 26, \"10\": 3, \"4\": 13, \"2\": 18, \"0\": 10, \"14\": 2, \"15\": 5, \"5\": 1, \"6\": 2, \"11\": 1}, \"3\": {\"8\": 29, \"12\": 33, \"4\": 23, \"2\": 24, \"3\": 47, \"7\": 32, \"10\": 2, \"13\": 19, \"9\": 25, \"0\": 3, \"11\": 2, \"14\": 1}, \"9\": {\"5\": 2, \"2\": 29, \"0\": 16, \"8\": 18, \"3\": 27, \"7\": 30, \"9\": 39, \"13\": 26, \"12\": 21, \"1\": 2, \"4\": 13, \"14\": 9, \"15\": 4, \"11\": 1, \"10\": 3}, \"8\": {\"3\": 26, \"9\": 30, \"10\": 11, \"8\": 39, \"12\": 21, \"1\": 5, \"15\": 4, \"4\": 2, \"7\": 28, \"2\": 24, \"13\": 15, \"0\": 21, \"14\": 8, \"5\": 2, \"11\": 3, \"6\": 1}, \"1\": {\"6\": 52, \"10\": 25, \"2\": 2, \"0\": 17, \"5\": 18, \"1\": 55, \"14\": 39, \"15\": 20, \"8\": 1, \"11\": 9, \"9\": 2}}, \"ORACLE.run132\": {\"7\": {\"0\": 38, \"5\": 50, \"14\": 41, \"2\": 8, \"7\": 55, \"15\": 9, \"8\": 27, \"4\": 5, \"1\": 7}, \"2\": {\"7\": 10, \"2\": 56, \"13\": 15, \"4\": 43, \"3\": 16, \"1\": 41, \"8\": 14, \"14\": 20, \"9\": 10, \"0\": 13, \"11\": 1, \"5\": 1}, \"5\": {\"0\": 48, \"8\": 37, \"5\": 63, \"14\": 27, \"7\": 42, \"15\": 12, \"2\": 4, \"1\": 4, \"4\": 2, \"3\": 1}, \"6\": {\"10\": 34, \"6\": 194, \"11\": 3, \"12\": 8, \"9\": 1}, \"13\": {\"13\": 52, \"11\": 21, \"4\": 41, \"2\": 17, \"3\": 50, \"9\": 23, \"1\": 16, \"8\": 7, \"0\": 2, \"12\": 6, \"14\": 4, \"7\": 1}, \"4\": {\"14\": 8, \"4\": 51, \"9\": 19, \"3\": 31, \"1\": 31, \"13\": 24, \"2\": 45, \"7\": 4, \"0\": 9, \"8\": 14, \"11\": 3, \"5\": 1}, \"3\": {\"3\": 64, \"13\": 54, \"4\": 40, \"2\": 26, \"8\": 11, \"9\": 7, \"1\": 12, \"11\": 13, \"14\": 4, \"7\": 2, \"12\": 1, \"5\": 1, \"15\": 4, \"0\": 1}, \"0\": {\"14\": 46, \"8\": 44, \"7\": 46, \"2\": 5, \"0\": 42, \"1\": 9, \"5\": 29, \"15\": 16, \"4\": 3}, \"9\": {\"9\": 55, \"4\": 26, \"11\": 44, \"12\": 31, \"3\": 24, \"13\": 27, \"10\": 13, \"2\": 11, \"1\": 9}, \"12\": {\"9\": 47, \"10\": 44, \"11\": 58, \"13\": 13, \"12\": 64, \"3\": 5, \"6\": 5, \"1\": 4}, \"8\": {\"0\": 38, \"1\": 13, \"7\": 30, \"15\": 23, \"2\": 14, \"5\": 29, \"8\": 52, \"3\": 5, \"4\": 7, \"14\": 27, \"13\": 2}, \"14\": {\"14\": 43, \"13\": 4, \"8\": 22, \"4\": 20, \"15\": 5, \"2\": 27, \"7\": 34, \"5\": 34, \"0\": 36, \"1\": 9, \"9\": 1, \"3\": 5}, \"15\": {\"15\": 162, \"2\": 1, \"0\": 23, \"5\": 22, \"8\": 21, \"7\": 7, \"14\": 3, \"1\": 1}, \"11\": {\"11\": 76, \"9\": 54, \"12\": 34, \"3\": 19, \"13\": 37, \"2\": 4, \"10\": 8, \"1\": 3, \"4\": 5}, \"10\": {\"9\": 14, \"10\": 105, \"6\": 26, \"12\": 64, \"11\": 27, \"3\": 2, \"13\": 1, \"4\": 1}, \"1\": {\"3\": 12, \"2\": 40, \"4\": 32, \"14\": 21, \"0\": 21, \"1\": 64, \"9\": 9, \"13\": 9, \"15\": 1, \"8\": 17, \"7\": 10, \"5\": 3, \"12\": 1}}, \"ORACLE.run144\": {\"11\": {\"11\": 219, \"6\": 8, \"13\": 12, \"9\": 1}, \"7\": {\"1\": 3, \"4\": 26, \"9\": 32, \"10\": 49, \"6\": 17, \"13\": 18, \"2\": 15, \"14\": 13, \"5\": 17, \"7\": 39, \"15\": 10, \"8\": 1}, \"6\": {\"7\": 13, \"9\": 32, \"13\": 86, \"6\": 83, \"11\": 4, \"10\": 10, \"4\": 3, \"14\": 4, \"2\": 1, \"5\": 3, \"15\": 1}, \"12\": {\"1\": 3, \"3\": 115, \"12\": 103, \"15\": 1, \"0\": 16, \"8\": 1, \"2\": 1}, \"4\": {\"14\": 28, \"15\": 19, \"4\": 39, \"7\": 25, \"5\": 33, \"6\": 16, \"9\": 23, \"0\": 2, \"10\": 22, \"8\": 8, \"2\": 10, \"1\": 11, \"13\": 4}, \"13\": {\"6\": 54, \"13\": 99, \"7\": 15, \"11\": 25, \"14\": 2, \"9\": 26, \"10\": 9, \"4\": 7, \"5\": 3}, \"8\": {\"14\": 14, \"8\": 72, \"1\": 27, \"0\": 52, \"15\": 36, \"5\": 17, \"4\": 7, \"3\": 4, \"7\": 1, \"2\": 8, \"10\": 2}, \"5\": {\"15\": 33, \"5\": 44, \"7\": 19, \"10\": 8, \"8\": 18, \"4\": 39, \"6\": 6, \"14\": 25, \"9\": 15, \"0\": 3, \"2\": 12, \"1\": 14, \"13\": 4}, \"14\": {\"14\": 30, \"4\": 37, \"15\": 26, \"5\": 42, \"10\": 27, \"7\": 23, \"9\": 12, \"2\": 17, \"8\": 13, \"13\": 1, \"1\": 5, \"6\": 2, \"0\": 5}, \"3\": {\"12\": 76, \"3\": 133, \"0\": 20, \"1\": 5, \"8\": 5, \"15\": 1}, \"10\": {\"1\": 6, \"9\": 23, \"7\": 39, \"14\": 25, \"6\": 10, \"5\": 28, \"2\": 18, \"15\": 13, \"10\": 35, \"13\": 6, \"4\": 36, \"0\": 1}, \"1\": {\"4\": 7, \"2\": 45, \"15\": 24, \"8\": 18, \"1\": 66, \"14\": 11, \"10\": 12, \"9\": 2, \"3\": 10, \"0\": 32, \"5\": 7, \"12\": 4, \"7\": 2}, \"2\": {\"1\": 50, \"2\": 56, \"4\": 23, \"8\": 8, \"9\": 8, \"5\": 23, \"10\": 18, \"0\": 5, \"7\": 17, \"14\": 13, \"6\": 3, \"15\": 14, \"3\": 1, \"13\": 1}, \"15\": {\"14\": 33, \"4\": 17, \"0\": 11, \"1\": 26, \"8\": 48, \"2\": 13, \"7\": 7, \"5\": 36, \"15\": 40, \"10\": 6, \"9\": 3}, \"9\": {\"7\": 32, \"10\": 32, \"13\": 37, \"2\": 18, \"6\": 30, \"4\": 23, \"9\": 33, \"14\": 21, \"5\": 8, \"15\": 4, \"8\": 1, \"11\": 1}, \"0\": {\"15\": 20, \"8\": 52, \"0\": 89, \"3\": 17, \"1\": 29, \"4\": 3, \"10\": 2, \"14\": 4, \"12\": 12, \"2\": 6, \"7\": 1, \"5\": 5}}, \"ORACLE.run18\": {\"10\": {\"5\": 42, \"10\": 40, \"1\": 20, \"7\": 32, \"4\": 15, \"6\": 32, \"8\": 9, \"11\": 17, \"13\": 27, \"14\": 3, \"2\": 2, \"15\": 1}, \"6\": {\"10\": 27, \"1\": 30, \"11\": 17, \"14\": 9, \"4\": 29, \"7\": 28, \"6\": 38, \"5\": 23, \"8\": 21, \"13\": 17, \"15\": 1}, \"13\": {\"7\": 36, \"1\": 26, \"6\": 19, \"4\": 8, \"10\": 36, \"13\": 38, \"11\": 17, \"12\": 8, \"2\": 2, \"5\": 37, \"8\": 7, \"14\": 4, \"15\": 2}, \"3\": {\"2\": 52, \"9\": 30, \"3\": 144, \"15\": 12, \"12\": 2}, \"9\": {\"9\": 189, \"3\": 37, \"12\": 3, \"2\": 10, \"15\": 1}, \"1\": {\"8\": 17, \"1\": 38, \"4\": 20, \"10\": 29, \"11\": 23, \"6\": 26, \"7\": 34, \"5\": 24, \"14\": 10, \"13\": 18, \"12\": 1}, \"5\": {\"1\": 36, \"11\": 23, \"4\": 12, \"5\": 31, \"7\": 22, \"6\": 25, \"10\": 39, \"13\": 26, \"12\": 5, \"14\": 3, \"8\": 13, \"15\": 4, \"2\": 1}, \"11\": {\"10\": 16, \"14\": 20, \"8\": 41, \"7\": 20, \"5\": 18, \"6\": 29, \"1\": 31, \"13\": 15, \"4\": 22, \"11\": 28}, \"4\": {\"4\": 50, \"7\": 18, \"14\": 40, \"10\": 17, \"11\": 30, \"13\": 5, \"6\": 21, \"8\": 33, \"1\": 17, \"5\": 9}, \"14\": {\"14\": 84, \"1\": 12, \"4\": 56, \"0\": 9, \"6\": 12, \"11\": 19, \"8\": 27, \"13\": 5, \"7\": 7, \"5\": 2, \"10\": 7}, \"12\": {\"12\": 101, \"15\": 84, \"13\": 1, \"3\": 9, \"2\": 42, \"5\": 2, \"1\": 1}, \"7\": {\"8\": 16, \"1\": 21, \"5\": 30, \"13\": 40, \"6\": 33, \"7\": 35, \"4\": 12, \"11\": 25, \"10\": 23, \"15\": 1, \"14\": 4}, \"0\": {\"0\": 217, \"14\": 18, \"4\": 5}, \"15\": {\"15\": 80, \"2\": 57, \"12\": 84, \"9\": 8, \"3\": 9, \"5\": 1, \"13\": 1}, \"2\": {\"2\": 83, \"12\": 45, \"15\": 47, \"3\": 48, \"9\": 12, \"5\": 2, \"13\": 3}, \"8\": {\"14\": 22, \"11\": 44, \"8\": 33, \"4\": 34, \"5\": 19, \"1\": 25, \"6\": 26, \"10\": 9, \"7\": 25, \"13\": 3}}, \"ORACLE.run138\": {\"4\": {\"4\": 147, \"2\": 5, \"10\": 31, \"14\": 15, \"13\": 18, \"0\": 19, \"7\": 4, \"3\": 1}, \"7\": {\"9\": 8, \"14\": 46, \"2\": 43, \"8\": 24, \"7\": 61, \"12\": 4, \"0\": 10, \"13\": 15, \"10\": 3, \"5\": 13, \"4\": 13}, \"12\": {\"4\": 8, \"2\": 3, \"5\": 17, \"12\": 151, \"15\": 9, \"7\": 7, \"9\": 3, \"8\": 36, \"14\": 6}, \"10\": {\"10\": 93, \"4\": 31, \"3\": 17, \"13\": 35, \"11\": 4, \"0\": 49, \"14\": 4, \"7\": 6, \"2\": 1}, \"0\": {\"10\": 46, \"7\": 17, \"13\": 49, \"0\": 54, \"14\": 21, \"2\": 17, \"4\": 10, \"3\": 18, \"11\": 3, \"12\": 1, \"9\": 3, \"8\": 1}, \"1\": {\"6\": 122, \"1\": 102, \"15\": 15, \"9\": 1}, \"5\": {\"14\": 11, \"5\": 59, \"9\": 41, \"8\": 51, \"15\": 27, \"13\": 7, \"2\": 17, \"12\": 13, \"7\": 11, \"10\": 1, \"4\": 1, \"0\": 1}, \"15\": {\"15\": 87, \"1\": 19, \"8\": 35, \"5\": 33, \"6\": 27, \"9\": 15, \"12\": 19, \"2\": 2, \"14\": 1, \"7\": 2}, \"9\": {\"13\": 6, \"9\": 82, \"7\": 14, \"8\": 34, \"14\": 11, \"5\": 46, \"2\": 34, \"4\": 1, \"12\": 5, \"15\": 6, \"0\": 1}, \"11\": {\"11\": 219, \"3\": 20, \"10\": 1}, \"14\": {\"4\": 22, \"14\": 65, \"13\": 11, \"2\": 24, \"8\": 14, \"7\": 57, \"9\": 6, \"10\": 11, \"0\": 17, \"12\": 7, \"5\": 6}, \"6\": {\"6\": 103, \"15\": 24, \"1\": 110, \"5\": 1, \"8\": 1, \"12\": 1}, \"8\": {\"13\": 4, \"12\": 38, \"7\": 24, \"5\": 44, \"9\": 28, \"15\": 24, \"14\": 9, \"8\": 45, \"2\": 19, \"6\": 1, \"0\": 2, \"1\": 2}, \"3\": {\"3\": 199, \"11\": 26, \"0\": 3, \"10\": 10, \"13\": 2}, \"2\": {\"13\": 16, \"9\": 32, \"2\": 57, \"7\": 45, \"8\": 24, \"0\": 5, \"14\": 34, \"5\": 19, \"10\": 3, \"4\": 4, \"12\": 1}, \"13\": {\"10\": 43, \"0\": 52, \"9\": 2, \"13\": 81, \"2\": 20, \"5\": 3, \"7\": 22, \"14\": 12, \"8\": 1, \"4\": 4}}}, \"per_domain_accuracy\": {\"Wisig_3\": {\"accuracy\": 0.97257096069869, \"source?\": true}, \"Wisig_4\": {\"accuracy\": 0.9541580578512396, \"source?\": true}, \"Wisig_2\": {\"accuracy\": 0.9513449367088608, \"source?\": true}, \"Wisig_1\": {\"accuracy\": 0.9725577731092437, \"source?\": true}, \"ORACLE.run114\": {\"accuracy\": 0.34427083333333336, \"source?\": false}, \"ORACLE.run120\": {\"accuracy\": 0.15572916666666667, \"source?\": false}, \"ORACLE.run150\": {\"accuracy\": 0.26458333333333334, \"source?\": false}, \"ORACLE.run126\": {\"accuracy\": 0.18697916666666667, \"source?\": false}, \"ORACLE.run132\": {\"accuracy\": 0.31197916666666664, \"source?\": false}, \"ORACLE.run144\": {\"accuracy\": 0.3072916666666667, \"source?\": false}, \"ORACLE.run18\": {\"accuracy\": 0.32005208333333335, \"source?\": false}, \"ORACLE.run138\": {\"accuracy\": 0.41796875, \"source?\": false}}}, \"history\": {\"epoch_indices\": [1, 2, 3, 4, 5], \"train_label_loss\": [0.19346860846398237, 0.13416187380828812, 0.114485990836176, 0.10482465122732687, 0.09741135596732599], \"source_val_label_loss\": [0.16472986340522766, 0.13577362895011902, 0.1278240829706192, 0.1097090095281601, 0.10724962502717972], \"target_val_label_loss\": [2.5794661045074463, 2.58232045173645, 2.566753625869751, 2.5824053287506104, 2.559713363647461], \"source_val_acc_label\": [0.9625396405919662, 0.9713596723044398, 0.9728131606765328, 0.9741014799154334, 0.9748612579281184], \"target_val_acc_label\": [0.28860677083333336, 0.28561197916666664, 0.24361979166666667, 0.24602864583333334, 0.26070963541666664]}, \"dataset_metrics\": {\"source\": {\"train\": {\"n_unique_x\": 189029, \"n_unique_y\": 130, \"n_batch/episode\": 6842}, \"val\": {\"n_unique_x\": 40049, \"n_unique_y\": 130, \"n_batch/episode\": 946}, \"test\": {\"n_unique_x\": 40794, \"n_unique_y\": 130, \"n_batch/episode\": 966}}, \"target\": {\"train\": {\"n_unique_x\": 179200, \"n_unique_y\": 16, \"n_batch/episode\": 6720}, \"val\": {\"n_unique_x\": 38400, \"n_unique_y\": 16, \"n_batch/episode\": 960}, \"test\": {\"n_unique_x\": 38400, \"n_unique_y\": 16, \"n_batch/episode\": 960}}}}'"
      ]
     },
     "execution_count": 29,
     "metadata": {},
     "output_type": "execute_result"
    }
   ],
   "source": [
    "json.dumps(experiment)"
   ]
  }
 ],
 "metadata": {
  "celltoolbar": "Tags",
  "kernelspec": {
   "display_name": "Python 3 (ipykernel)",
   "language": "python",
   "name": "python3"
  },
  "language_info": {
   "codemirror_mode": {
    "name": "ipython",
    "version": 3
   },
   "file_extension": ".py",
   "mimetype": "text/x-python",
   "name": "python",
   "nbconvert_exporter": "python",
   "pygments_lexer": "ipython3",
   "version": "3.8.12"
  },
  "papermill": {
   "default_parameters": {},
   "duration": 889.492847,
   "end_time": "2022-03-22T20:55:46.894581",
   "environment_variables": {},
   "exception": null,
   "input_path": "/root/csc500-main/csc500-notebooks/templates/tl_ptn_template.ipynb",
   "output_path": "trial.ipynb",
   "parameters": {
    "parameters": {
     "BEST_MODEL_PATH": "./best_model.pth",
     "NUM_LOGS_PER_EPOCH": 10,
     "criteria_for_best": "target_accuracy",
     "dataset_seed": 420,
     "datasets": [
      {
       "domain_prefix": "Wisig_",
       "domains": [
        1,
        2,
        3,
        4
       ],
       "episode_transforms": [],
       "labels": [
        "1-10",
        "1-12",
        "1-14",
        "1-16",
        "1-18",
        "1-19",
        "1-8",
        "10-11",
        "10-17",
        "10-4",
        "10-7",
        "11-1",
        "11-10",
        "11-19",
        "11-20",
        "11-4",
        "11-7",
        "12-19",
        "12-20",
        "12-7",
        "13-14",
        "13-18",
        "13-19",
        "13-20",
        "13-3",
        "13-7",
        "14-10",
        "14-11",
        "14-12",
        "14-13",
        "14-14",
        "14-19",
        "14-20",
        "14-7",
        "14-8",
        "14-9",
        "15-1",
        "15-19",
        "15-6",
        "16-1",
        "16-16",
        "16-19",
        "16-20",
        "17-10",
        "17-11",
        "18-1",
        "18-10",
        "18-11",
        "18-12",
        "18-13",
        "18-14",
        "18-15",
        "18-16",
        "18-17",
        "18-19",
        "18-2",
        "18-20",
        "18-4",
        "18-5",
        "18-7",
        "18-8",
        "18-9",
        "19-1",
        "19-10",
        "19-11",
        "19-12",
        "19-13",
        "19-14",
        "19-15",
        "19-19",
        "19-2",
        "19-20",
        "19-3",
        "19-4",
        "19-6",
        "19-7",
        "19-8",
        "19-9",
        "2-1",
        "2-13",
        "2-15",
        "2-3",
        "2-4",
        "2-5",
        "2-6",
        "2-7",
        "2-8",
        "20-1",
        "20-12",
        "20-14",
        "20-15",
        "20-16",
        "20-18",
        "20-19",
        "20-20",
        "20-3",
        "20-4",
        "20-5",
        "20-7",
        "20-8",
        "3-1",
        "3-13",
        "3-18",
        "3-2",
        "3-8",
        "4-1",
        "4-10",
        "4-11",
        "5-1",
        "5-5",
        "6-1",
        "6-15",
        "6-6",
        "7-10",
        "7-11",
        "7-12",
        "7-13",
        "7-14",
        "7-7",
        "7-8",
        "7-9",
        "8-1",
        "8-13",
        "8-14",
        "8-18",
        "8-20",
        "8-3",
        "8-8",
        "9-1",
        "9-7"
       ],
       "num_examples_per_domain_per_label": -1,
       "pickle_path": "/root/csc500-main/datasets/wisig.node3-19.stratified_ds.2022A.pkl",
       "source_or_target_dataset": "source",
       "x_transforms": []
      },
      {
       "domain_prefix": "ORACLE.run1",
       "domains": [
        32,
        38,
        8,
        44,
        14,
        50,
        20,
        26
       ],
       "episode_transforms": [],
       "labels": [
        "3123D52",
        "3123D65",
        "3123D79",
        "3123D80",
        "3123D54",
        "3123D70",
        "3123D7B",
        "3123D89",
        "3123D58",
        "3123D76",
        "3123D7D",
        "3123EFE",
        "3123D64",
        "3123D78",
        "3123D7E",
        "3124E4A"
       ],
       "num_examples_per_domain_per_label": 2000,
       "pickle_path": "/root/csc500-main/datasets/oracle.Run1_10kExamples_stratified_ds.2022A.pkl",
       "source_or_target_dataset": "target",
       "x_transforms": []
      }
     ],
     "device": "cuda",
     "experiment_name": "tl_1v2:wisig-oracle.run1.limited",
     "lr": 0.0001,
     "n_epoch": 50,
     "n_query": 2,
     "n_shot": 3,
     "n_way": 16,
     "patience": 3,
     "seed": 420,
     "test_k_factor": 2,
     "torch_default_dtype": "torch.float32",
     "train_k_factor": 3,
     "val_k_factor": 2,
     "x_net": [
      {
       "class": "nnReshape",
       "kargs": {
        "shape": [
         -1,
         1,
         2,
         256
        ]
       }
      },
      {
       "class": "Conv2d",
       "kargs": {
        "bias": false,
        "in_channels": 1,
        "kernel_size": [
         1,
         7
        ],
        "out_channels": 256,
        "padding": [
         0,
         3
        ]
       }
      },
      {
       "class": "ReLU",
       "kargs": {
        "inplace": true
       }
      },
      {
       "class": "BatchNorm2d",
       "kargs": {
        "num_features": 256
       }
      },
      {
       "class": "Conv2d",
       "kargs": {
        "bias": true,
        "in_channels": 256,
        "kernel_size": [
         2,
         7
        ],
        "out_channels": 80,
        "padding": [
         0,
         3
        ]
       }
      },
      {
       "class": "ReLU",
       "kargs": {
        "inplace": true
       }
      },
      {
       "class": "BatchNorm2d",
       "kargs": {
        "num_features": 80
       }
      },
      {
       "class": "Flatten",
       "kargs": {}
      },
      {
       "class": "Linear",
       "kargs": {
        "in_features": 20480,
        "out_features": 256
       }
      },
      {
       "class": "ReLU",
       "kargs": {
        "inplace": true
       }
      },
      {
       "class": "BatchNorm1d",
       "kargs": {
        "num_features": 256
       }
      },
      {
       "class": "Linear",
       "kargs": {
        "in_features": 256,
        "out_features": 256
       }
      }
     ]
    }
   },
   "start_time": "2022-03-22T20:40:57.401734",
   "version": "2.3.4"
  }
 },
 "nbformat": 4,
 "nbformat_minor": 5
}