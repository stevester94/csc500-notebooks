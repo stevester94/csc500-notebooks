{
 "cells": [
  {
   "cell_type": "markdown",
   "id": "9fea5f46",
   "metadata": {
    "papermill": {
     "duration": 0.027786,
     "end_time": "2022-03-22T22:08:55.256358",
     "exception": false,
     "start_time": "2022-03-22T22:08:55.228572",
     "status": "completed"
    },
    "tags": []
   },
   "source": [
    "# Transfer Learning Template"
   ]
  },
  {
   "cell_type": "code",
   "execution_count": 1,
   "id": "0902182a",
   "metadata": {
    "execution": {
     "iopub.execute_input": "2022-03-22T22:08:55.317460Z",
     "iopub.status.busy": "2022-03-22T22:08:55.306082Z",
     "iopub.status.idle": "2022-03-22T22:08:57.227173Z",
     "shell.execute_reply": "2022-03-22T22:08:57.226254Z"
    },
    "papermill": {
     "duration": 1.948313,
     "end_time": "2022-03-22T22:08:57.227346",
     "exception": false,
     "start_time": "2022-03-22T22:08:55.279033",
     "status": "completed"
    },
    "tags": []
   },
   "outputs": [],
   "source": [
    "%load_ext autoreload\n",
    "%autoreload 2\n",
    "%matplotlib inline\n",
    "\n",
    "    \n",
    "import os, json, sys, time, random\n",
    "import numpy as np\n",
    "import torch\n",
    "from torch.optim import Adam\n",
    "from  easydict import EasyDict\n",
    "import matplotlib.pyplot as plt\n",
    "\n",
    "from steves_models.steves_ptn import Steves_Prototypical_Network\n",
    "\n",
    "from steves_utils.lazy_iterable_wrapper import Lazy_Iterable_Wrapper\n",
    "from steves_utils.iterable_aggregator import Iterable_Aggregator\n",
    "from steves_utils.ptn_train_eval_test_jig import  PTN_Train_Eval_Test_Jig\n",
    "from steves_utils.torch_sequential_builder import build_sequential\n",
    "from steves_utils.torch_utils import get_dataset_metrics, ptn_confusion_by_domain_over_dataloader\n",
    "from steves_utils.utils_v2 import (per_domain_accuracy_from_confusion, get_datasets_base_path)\n",
    "from steves_utils.PTN.utils import independent_accuracy_assesment\n",
    "\n",
    "from torch.utils.data import DataLoader\n",
    "\n",
    "from steves_utils.stratified_dataset.episodic_accessor import Episodic_Accessor_Factory\n",
    "\n",
    "from steves_utils.ptn_do_report import (\n",
    "    get_loss_curve,\n",
    "    get_results_table,\n",
    "    get_parameters_table,\n",
    "    get_domain_accuracies,\n",
    ")\n",
    "\n",
    "from steves_utils.transforms import get_chained_transform"
   ]
  },
  {
   "cell_type": "markdown",
   "id": "41c840b4",
   "metadata": {
    "papermill": {
     "duration": 0.018995,
     "end_time": "2022-03-22T22:08:57.270595",
     "exception": false,
     "start_time": "2022-03-22T22:08:57.251600",
     "status": "completed"
    },
    "tags": []
   },
   "source": [
    "# Allowed Parameters\n",
    "These are allowed parameters, not defaults\n",
    "Each of these values need to be present in the injected parameters (the notebook will raise an exception if they are not present)\n",
    "\n",
    "Papermill uses the cell tag \"parameters\" to inject the real parameters below this cell.\n",
    "Enable tags to see what I mean"
   ]
  },
  {
   "cell_type": "code",
   "execution_count": 2,
   "id": "fd44eb83",
   "metadata": {
    "execution": {
     "iopub.execute_input": "2022-03-22T22:08:57.313248Z",
     "iopub.status.busy": "2022-03-22T22:08:57.312865Z",
     "iopub.status.idle": "2022-03-22T22:08:57.336161Z",
     "shell.execute_reply": "2022-03-22T22:08:57.335422Z"
    },
    "papermill": {
     "duration": 0.046849,
     "end_time": "2022-03-22T22:08:57.336313",
     "exception": false,
     "start_time": "2022-03-22T22:08:57.289464",
     "status": "completed"
    },
    "tags": []
   },
   "outputs": [],
   "source": [
    "required_parameters = {\n",
    "    \"experiment_name\",\n",
    "    \"lr\",\n",
    "    \"device\",\n",
    "    \"seed\",\n",
    "    \"dataset_seed\",\n",
    "    \"n_shot\",\n",
    "    \"n_query\",\n",
    "    \"n_way\",\n",
    "    \"train_k_factor\",\n",
    "    \"val_k_factor\",\n",
    "    \"test_k_factor\",\n",
    "    \"n_epoch\",\n",
    "    \"patience\",\n",
    "    \"criteria_for_best\",\n",
    "    \"x_net\",\n",
    "    \"datasets\",\n",
    "    \"torch_default_dtype\",\n",
    "    \"NUM_LOGS_PER_EPOCH\",\n",
    "    \"BEST_MODEL_PATH\",\n",
    "    \"x_shape\",\n",
    "}"
   ]
  },
  {
   "cell_type": "code",
   "execution_count": 3,
   "id": "fa3f0049",
   "metadata": {
    "execution": {
     "iopub.execute_input": "2022-03-22T22:08:57.396577Z",
     "iopub.status.busy": "2022-03-22T22:08:57.395680Z",
     "iopub.status.idle": "2022-03-22T22:08:57.417499Z",
     "shell.execute_reply": "2022-03-22T22:08:57.416698Z"
    },
    "papermill": {
     "duration": 0.055616,
     "end_time": "2022-03-22T22:08:57.417651",
     "exception": false,
     "start_time": "2022-03-22T22:08:57.362035",
     "status": "completed"
    },
    "tags": [
     "parameters"
    ]
   },
   "outputs": [],
   "source": [
    "from steves_utils.CORES.utils import (\n",
    "    ALL_NODES,\n",
    "    ALL_NODES_MINIMUM_1000_EXAMPLES,\n",
    "    ALL_DAYS\n",
    ")\n",
    "\n",
    "from steves_utils.ORACLE.utils_v2 import (\n",
    "    ALL_DISTANCES_FEET_NARROWED,\n",
    "    ALL_RUNS,\n",
    "    ALL_SERIAL_NUMBERS,\n",
    ")\n",
    "\n",
    "standalone_parameters = {}\n",
    "standalone_parameters[\"experiment_name\"] = \"STANDALONE PTN\"\n",
    "standalone_parameters[\"lr\"] = 0.001\n",
    "standalone_parameters[\"device\"] = \"cuda\"\n",
    "\n",
    "standalone_parameters[\"seed\"] = 1337\n",
    "standalone_parameters[\"dataset_seed\"] = 1337\n",
    "\n",
    "standalone_parameters[\"n_way\"] = 8\n",
    "standalone_parameters[\"n_shot\"] = 3\n",
    "standalone_parameters[\"n_query\"]  = 2\n",
    "standalone_parameters[\"train_k_factor\"] = 1\n",
    "standalone_parameters[\"val_k_factor\"] = 2\n",
    "standalone_parameters[\"test_k_factor\"] = 2\n",
    "\n",
    "\n",
    "standalone_parameters[\"n_epoch\"] = 50\n",
    "\n",
    "standalone_parameters[\"patience\"] = 10\n",
    "standalone_parameters[\"criteria_for_best\"] = \"source_loss\"\n",
    "\n",
    "standalone_parameters[\"datasets\"] = [\n",
    "    {\n",
    "        \"labels\": ALL_SERIAL_NUMBERS,\n",
    "        \"domains\": ALL_DISTANCES_FEET_NARROWED,\n",
    "        \"num_examples_per_domain_per_label\": 100,\n",
    "        \"pickle_path\": os.path.join(get_datasets_base_path(), \"oracle.Run1_framed_2000Examples_stratified_ds.2022A.pkl\"),\n",
    "        \"source_or_target_dataset\": \"source\",\n",
    "        \"x_transforms\": [\"unit_mag\", \"minus_two\"],\n",
    "        \"episode_transforms\": [],\n",
    "        \"domain_prefix\": \"ORACLE_\"\n",
    "    },\n",
    "    {\n",
    "        \"labels\": ALL_NODES,\n",
    "        \"domains\": ALL_DAYS,\n",
    "        \"num_examples_per_domain_per_label\": 100,\n",
    "        \"pickle_path\": os.path.join(get_datasets_base_path(), \"cores.stratified_ds.2022A.pkl\"),\n",
    "        \"source_or_target_dataset\": \"target\",\n",
    "        \"x_transforms\": [\"unit_power\", \"times_zero\"],\n",
    "        \"episode_transforms\": [],\n",
    "        \"domain_prefix\": \"CORES_\"\n",
    "    }   \n",
    "]\n",
    "\n",
    "standalone_parameters[\"torch_default_dtype\"] = \"torch.float32\" \n",
    "\n",
    "\n",
    "\n",
    "standalone_parameters[\"x_net\"] =     [\n",
    "    {\"class\": \"nnReshape\", \"kargs\": {\"shape\":[-1, 1, 2, 256]}},\n",
    "    {\"class\": \"Conv2d\", \"kargs\": { \"in_channels\":1, \"out_channels\":256, \"kernel_size\":(1,7), \"bias\":False, \"padding\":(0,3), },},\n",
    "    {\"class\": \"ReLU\", \"kargs\": {\"inplace\": True}},\n",
    "    {\"class\": \"BatchNorm2d\", \"kargs\": {\"num_features\":256}},\n",
    "\n",
    "    {\"class\": \"Conv2d\", \"kargs\": { \"in_channels\":256, \"out_channels\":80, \"kernel_size\":(2,7), \"bias\":True, \"padding\":(0,3), },},\n",
    "    {\"class\": \"ReLU\", \"kargs\": {\"inplace\": True}},\n",
    "    {\"class\": \"BatchNorm2d\", \"kargs\": {\"num_features\":80}},\n",
    "    {\"class\": \"Flatten\", \"kargs\": {}},\n",
    "\n",
    "    {\"class\": \"Linear\", \"kargs\": {\"in_features\": 80*256, \"out_features\": 256}}, # 80 units per IQ pair\n",
    "    {\"class\": \"ReLU\", \"kargs\": {\"inplace\": True}},\n",
    "    {\"class\": \"BatchNorm1d\", \"kargs\": {\"num_features\":256}},\n",
    "\n",
    "    {\"class\": \"Linear\", \"kargs\": {\"in_features\": 256, \"out_features\": 256}},\n",
    "]\n",
    "\n",
    "# Parameters relevant to results\n",
    "# These parameters will basically never need to change\n",
    "standalone_parameters[\"NUM_LOGS_PER_EPOCH\"] = 10\n",
    "standalone_parameters[\"BEST_MODEL_PATH\"] = \"./best_model.pth\"\n",
    "\n",
    "\n",
    "\n",
    "\n"
   ]
  },
  {
   "cell_type": "code",
   "execution_count": 4,
   "id": "a268739f",
   "metadata": {
    "execution": {
     "iopub.execute_input": "2022-03-22T22:08:57.482200Z",
     "iopub.status.busy": "2022-03-22T22:08:57.477447Z",
     "iopub.status.idle": "2022-03-22T22:08:57.503851Z",
     "shell.execute_reply": "2022-03-22T22:08:57.503019Z"
    },
    "papermill": {
     "duration": 0.059231,
     "end_time": "2022-03-22T22:08:57.504003",
     "exception": false,
     "start_time": "2022-03-22T22:08:57.444772",
     "status": "completed"
    },
    "tags": [
     "injected-parameters"
    ]
   },
   "outputs": [],
   "source": [
    "# Parameters\n",
    "parameters = {\n",
    "    \"experiment_name\": \"tl_1v2:wisig-oracle.run1.limited\",\n",
    "    \"device\": \"cuda\",\n",
    "    \"lr\": 0.0001,\n",
    "    \"n_shot\": 3,\n",
    "    \"n_query\": 2,\n",
    "    \"train_k_factor\": 3,\n",
    "    \"val_k_factor\": 2,\n",
    "    \"test_k_factor\": 2,\n",
    "    \"torch_default_dtype\": \"torch.float32\",\n",
    "    \"n_epoch\": 50,\n",
    "    \"patience\": 3,\n",
    "    \"criteria_for_best\": \"target_accuracy\",\n",
    "    \"x_net\": [\n",
    "        {\"class\": \"nnReshape\", \"kargs\": {\"shape\": [-1, 1, 2, 256]}},\n",
    "        {\n",
    "            \"class\": \"Conv2d\",\n",
    "            \"kargs\": {\n",
    "                \"in_channels\": 1,\n",
    "                \"out_channels\": 256,\n",
    "                \"kernel_size\": [1, 7],\n",
    "                \"bias\": False,\n",
    "                \"padding\": [0, 3],\n",
    "            },\n",
    "        },\n",
    "        {\"class\": \"ReLU\", \"kargs\": {\"inplace\": True}},\n",
    "        {\"class\": \"BatchNorm2d\", \"kargs\": {\"num_features\": 256}},\n",
    "        {\n",
    "            \"class\": \"Conv2d\",\n",
    "            \"kargs\": {\n",
    "                \"in_channels\": 256,\n",
    "                \"out_channels\": 80,\n",
    "                \"kernel_size\": [2, 7],\n",
    "                \"bias\": True,\n",
    "                \"padding\": [0, 3],\n",
    "            },\n",
    "        },\n",
    "        {\"class\": \"ReLU\", \"kargs\": {\"inplace\": True}},\n",
    "        {\"class\": \"BatchNorm2d\", \"kargs\": {\"num_features\": 80}},\n",
    "        {\"class\": \"Flatten\", \"kargs\": {}},\n",
    "        {\"class\": \"Linear\", \"kargs\": {\"in_features\": 20480, \"out_features\": 256}},\n",
    "        {\"class\": \"ReLU\", \"kargs\": {\"inplace\": True}},\n",
    "        {\"class\": \"BatchNorm1d\", \"kargs\": {\"num_features\": 256}},\n",
    "        {\"class\": \"Linear\", \"kargs\": {\"in_features\": 256, \"out_features\": 256}},\n",
    "    ],\n",
    "    \"NUM_LOGS_PER_EPOCH\": 10,\n",
    "    \"BEST_MODEL_PATH\": \"./best_model.pth\",\n",
    "    \"n_way\": 16,\n",
    "    \"datasets\": [\n",
    "        {\n",
    "            \"labels\": [\n",
    "                \"1-10\",\n",
    "                \"1-12\",\n",
    "                \"1-14\",\n",
    "                \"1-16\",\n",
    "                \"1-18\",\n",
    "                \"1-19\",\n",
    "                \"1-8\",\n",
    "                \"10-11\",\n",
    "                \"10-17\",\n",
    "                \"10-4\",\n",
    "                \"10-7\",\n",
    "                \"11-1\",\n",
    "                \"11-10\",\n",
    "                \"11-19\",\n",
    "                \"11-20\",\n",
    "                \"11-4\",\n",
    "                \"11-7\",\n",
    "                \"12-19\",\n",
    "                \"12-20\",\n",
    "                \"12-7\",\n",
    "                \"13-14\",\n",
    "                \"13-18\",\n",
    "                \"13-19\",\n",
    "                \"13-20\",\n",
    "                \"13-3\",\n",
    "                \"13-7\",\n",
    "                \"14-10\",\n",
    "                \"14-11\",\n",
    "                \"14-12\",\n",
    "                \"14-13\",\n",
    "                \"14-14\",\n",
    "                \"14-19\",\n",
    "                \"14-20\",\n",
    "                \"14-7\",\n",
    "                \"14-8\",\n",
    "                \"14-9\",\n",
    "                \"15-1\",\n",
    "                \"15-19\",\n",
    "                \"15-6\",\n",
    "                \"16-1\",\n",
    "                \"16-16\",\n",
    "                \"16-19\",\n",
    "                \"16-20\",\n",
    "                \"17-10\",\n",
    "                \"17-11\",\n",
    "                \"18-1\",\n",
    "                \"18-10\",\n",
    "                \"18-11\",\n",
    "                \"18-12\",\n",
    "                \"18-13\",\n",
    "                \"18-14\",\n",
    "                \"18-15\",\n",
    "                \"18-16\",\n",
    "                \"18-17\",\n",
    "                \"18-19\",\n",
    "                \"18-2\",\n",
    "                \"18-20\",\n",
    "                \"18-4\",\n",
    "                \"18-5\",\n",
    "                \"18-7\",\n",
    "                \"18-8\",\n",
    "                \"18-9\",\n",
    "                \"19-1\",\n",
    "                \"19-10\",\n",
    "                \"19-11\",\n",
    "                \"19-12\",\n",
    "                \"19-13\",\n",
    "                \"19-14\",\n",
    "                \"19-15\",\n",
    "                \"19-19\",\n",
    "                \"19-2\",\n",
    "                \"19-20\",\n",
    "                \"19-3\",\n",
    "                \"19-4\",\n",
    "                \"19-6\",\n",
    "                \"19-7\",\n",
    "                \"19-8\",\n",
    "                \"19-9\",\n",
    "                \"2-1\",\n",
    "                \"2-13\",\n",
    "                \"2-15\",\n",
    "                \"2-3\",\n",
    "                \"2-4\",\n",
    "                \"2-5\",\n",
    "                \"2-6\",\n",
    "                \"2-7\",\n",
    "                \"2-8\",\n",
    "                \"20-1\",\n",
    "                \"20-12\",\n",
    "                \"20-14\",\n",
    "                \"20-15\",\n",
    "                \"20-16\",\n",
    "                \"20-18\",\n",
    "                \"20-19\",\n",
    "                \"20-20\",\n",
    "                \"20-3\",\n",
    "                \"20-4\",\n",
    "                \"20-5\",\n",
    "                \"20-7\",\n",
    "                \"20-8\",\n",
    "                \"3-1\",\n",
    "                \"3-13\",\n",
    "                \"3-18\",\n",
    "                \"3-2\",\n",
    "                \"3-8\",\n",
    "                \"4-1\",\n",
    "                \"4-10\",\n",
    "                \"4-11\",\n",
    "                \"5-1\",\n",
    "                \"5-5\",\n",
    "                \"6-1\",\n",
    "                \"6-15\",\n",
    "                \"6-6\",\n",
    "                \"7-10\",\n",
    "                \"7-11\",\n",
    "                \"7-12\",\n",
    "                \"7-13\",\n",
    "                \"7-14\",\n",
    "                \"7-7\",\n",
    "                \"7-8\",\n",
    "                \"7-9\",\n",
    "                \"8-1\",\n",
    "                \"8-13\",\n",
    "                \"8-14\",\n",
    "                \"8-18\",\n",
    "                \"8-20\",\n",
    "                \"8-3\",\n",
    "                \"8-8\",\n",
    "                \"9-1\",\n",
    "                \"9-7\",\n",
    "            ],\n",
    "            \"domains\": [1, 2, 3, 4],\n",
    "            \"num_examples_per_domain_per_label\": -1,\n",
    "            \"pickle_path\": \"/root/csc500-main/datasets/wisig.node3-19.stratified_ds.2022A.pkl\",\n",
    "            \"source_or_target_dataset\": \"target\",\n",
    "            \"x_transforms\": [],\n",
    "            \"episode_transforms\": [],\n",
    "            \"domain_prefix\": \"Wisig_\",\n",
    "        },\n",
    "        {\n",
    "            \"labels\": [\n",
    "                \"3123D52\",\n",
    "                \"3123D65\",\n",
    "                \"3123D79\",\n",
    "                \"3123D80\",\n",
    "                \"3123D54\",\n",
    "                \"3123D70\",\n",
    "                \"3123D7B\",\n",
    "                \"3123D89\",\n",
    "                \"3123D58\",\n",
    "                \"3123D76\",\n",
    "                \"3123D7D\",\n",
    "                \"3123EFE\",\n",
    "                \"3123D64\",\n",
    "                \"3123D78\",\n",
    "                \"3123D7E\",\n",
    "                \"3124E4A\",\n",
    "            ],\n",
    "            \"domains\": [32, 38, 8, 44, 14, 50, 20, 26],\n",
    "            \"num_examples_per_domain_per_label\": 2000,\n",
    "            \"pickle_path\": \"/root/csc500-main/datasets/oracle.Run1_10kExamples_stratified_ds.2022A.pkl\",\n",
    "            \"source_or_target_dataset\": \"source\",\n",
    "            \"x_transforms\": [],\n",
    "            \"episode_transforms\": [],\n",
    "            \"domain_prefix\": \"ORACLE.run1\",\n",
    "        },\n",
    "    ],\n",
    "    \"dataset_seed\": 420,\n",
    "    \"seed\": 420,\n",
    "}\n"
   ]
  },
  {
   "cell_type": "code",
   "execution_count": 5,
   "id": "8fa1cc33",
   "metadata": {
    "execution": {
     "iopub.execute_input": "2022-03-22T22:08:57.557637Z",
     "iopub.status.busy": "2022-03-22T22:08:57.557261Z",
     "iopub.status.idle": "2022-03-22T22:08:57.582834Z",
     "shell.execute_reply": "2022-03-22T22:08:57.582122Z"
    },
    "papermill": {
     "duration": 0.05247,
     "end_time": "2022-03-22T22:08:57.582986",
     "exception": false,
     "start_time": "2022-03-22T22:08:57.530516",
     "status": "completed"
    },
    "tags": []
   },
   "outputs": [],
   "source": [
    "# Set this to True if you want to run this template directly\n",
    "STANDALONE = False\n",
    "if STANDALONE:\n",
    "    print(\"parameters not injected, running with standalone_parameters\")\n",
    "    parameters = standalone_parameters\n",
    "\n",
    "if not 'parameters' in locals() and not 'parameters' in globals():\n",
    "    raise Exception(\"Parameter injection failed\")\n",
    "\n",
    "#Use an easy dict for all the parameters\n",
    "p = EasyDict(parameters)\n",
    "\n",
    "if \"x_shape\" not in p:\n",
    "    p.x_shape = [2,256] # Default to this if we dont supply x_shape\n",
    "\n",
    "\n",
    "supplied_keys = set(p.keys())\n",
    "\n",
    "if  supplied_keys != required_parameters:\n",
    "    print(\"Parameters are incorrect\")\n",
    "    if len(supplied_keys - required_parameters)>0: print(\"Shouldn't have:\", str(supplied_keys - required_parameters))\n",
    "    if len(required_parameters - supplied_keys)>0: print(\"Need to have:\", str(required_parameters - supplied_keys))\n",
    "    raise RuntimeError(\"Parameters are incorrect\")"
   ]
  },
  {
   "cell_type": "code",
   "execution_count": 6,
   "id": "3a028d58",
   "metadata": {
    "execution": {
     "iopub.execute_input": "2022-03-22T22:08:57.631376Z",
     "iopub.status.busy": "2022-03-22T22:08:57.630981Z",
     "iopub.status.idle": "2022-03-22T22:08:57.653249Z",
     "shell.execute_reply": "2022-03-22T22:08:57.652444Z"
    },
    "papermill": {
     "duration": 0.045984,
     "end_time": "2022-03-22T22:08:57.653402",
     "exception": false,
     "start_time": "2022-03-22T22:08:57.607418",
     "status": "completed"
    },
    "tags": []
   },
   "outputs": [],
   "source": [
    "###################################\n",
    "# Set the RNGs and make it all deterministic\n",
    "###################################\n",
    "np.random.seed(p.seed)\n",
    "random.seed(p.seed)\n",
    "torch.manual_seed(p.seed)\n",
    "\n",
    "torch.use_deterministic_algorithms(True) "
   ]
  },
  {
   "cell_type": "code",
   "execution_count": 7,
   "id": "b691acf6",
   "metadata": {
    "execution": {
     "iopub.execute_input": "2022-03-22T22:08:57.702334Z",
     "iopub.status.busy": "2022-03-22T22:08:57.701486Z",
     "iopub.status.idle": "2022-03-22T22:08:57.722786Z",
     "shell.execute_reply": "2022-03-22T22:08:57.721960Z"
    },
    "papermill": {
     "duration": 0.044298,
     "end_time": "2022-03-22T22:08:57.722936",
     "exception": false,
     "start_time": "2022-03-22T22:08:57.678638",
     "status": "completed"
    },
    "tags": []
   },
   "outputs": [],
   "source": [
    "###########################################\n",
    "# The stratified datasets honor this\n",
    "###########################################\n",
    "torch.set_default_dtype(eval(p.torch_default_dtype))"
   ]
  },
  {
   "cell_type": "code",
   "execution_count": 8,
   "id": "b5fba671",
   "metadata": {
    "execution": {
     "iopub.execute_input": "2022-03-22T22:08:57.770839Z",
     "iopub.status.busy": "2022-03-22T22:08:57.770477Z",
     "iopub.status.idle": "2022-03-22T22:08:57.827430Z",
     "shell.execute_reply": "2022-03-22T22:08:57.826702Z"
    },
    "papermill": {
     "duration": 0.079828,
     "end_time": "2022-03-22T22:08:57.827597",
     "exception": false,
     "start_time": "2022-03-22T22:08:57.747769",
     "status": "completed"
    },
    "tags": []
   },
   "outputs": [],
   "source": [
    "###################################\n",
    "# Build the network(s)\n",
    "# Note: It's critical to do this AFTER setting the RNG\n",
    "###################################\n",
    "x_net = build_sequential(p.x_net)"
   ]
  },
  {
   "cell_type": "code",
   "execution_count": 9,
   "id": "5d7e61cc",
   "metadata": {
    "execution": {
     "iopub.execute_input": "2022-03-22T22:08:57.875708Z",
     "iopub.status.busy": "2022-03-22T22:08:57.875329Z",
     "iopub.status.idle": "2022-03-22T22:08:57.897794Z",
     "shell.execute_reply": "2022-03-22T22:08:57.896971Z"
    },
    "papermill": {
     "duration": 0.045524,
     "end_time": "2022-03-22T22:08:57.897946",
     "exception": false,
     "start_time": "2022-03-22T22:08:57.852422",
     "status": "completed"
    },
    "tags": []
   },
   "outputs": [],
   "source": [
    "start_time_secs = time.time()"
   ]
  },
  {
   "cell_type": "code",
   "execution_count": 10,
   "id": "c6b67dfd",
   "metadata": {
    "execution": {
     "iopub.execute_input": "2022-03-22T22:08:57.946501Z",
     "iopub.status.busy": "2022-03-22T22:08:57.946115Z",
     "iopub.status.idle": "2022-03-22T22:08:57.963154Z",
     "shell.execute_reply": "2022-03-22T22:08:57.962354Z"
    },
    "papermill": {
     "duration": 0.039882,
     "end_time": "2022-03-22T22:08:57.963306",
     "exception": false,
     "start_time": "2022-03-22T22:08:57.923424",
     "status": "completed"
    },
    "tags": []
   },
   "outputs": [],
   "source": [
    "p.domains_source = []\n",
    "p.domains_target = []\n",
    "\n",
    "\n",
    "train_original_source = []\n",
    "val_original_source   = []\n",
    "test_original_source  = []\n",
    "\n",
    "train_original_target = []\n",
    "val_original_target   = []\n",
    "test_original_target  = []"
   ]
  },
  {
   "cell_type": "code",
   "execution_count": 11,
   "id": "e3d9c3d3",
   "metadata": {
    "execution": {
     "iopub.execute_input": "2022-03-22T22:08:58.014160Z",
     "iopub.status.busy": "2022-03-22T22:08:58.013773Z",
     "iopub.status.idle": "2022-03-22T22:08:58.034217Z",
     "shell.execute_reply": "2022-03-22T22:08:58.033406Z"
    },
    "papermill": {
     "duration": 0.043803,
     "end_time": "2022-03-22T22:08:58.034371",
     "exception": false,
     "start_time": "2022-03-22T22:08:57.990568",
     "status": "completed"
    },
    "tags": []
   },
   "outputs": [],
   "source": [
    "# global_x_transform_func = lambda x: normalize(x.to(torch.get_default_dtype()), \"unit_power\") # unit_power, unit_mag\n",
    "# global_x_transform_func = lambda x: normalize(x, \"unit_power\") # unit_power, unit_mag"
   ]
  },
  {
   "cell_type": "code",
   "execution_count": 12,
   "id": "acb78fd2",
   "metadata": {
    "execution": {
     "iopub.execute_input": "2022-03-22T22:08:58.094420Z",
     "iopub.status.busy": "2022-03-22T22:08:58.093574Z",
     "iopub.status.idle": "2022-03-22T22:08:58.111300Z",
     "shell.execute_reply": "2022-03-22T22:08:58.110499Z"
    },
    "papermill": {
     "duration": 0.051075,
     "end_time": "2022-03-22T22:08:58.111453",
     "exception": false,
     "start_time": "2022-03-22T22:08:58.060378",
     "status": "completed"
    },
    "tags": []
   },
   "outputs": [],
   "source": [
    "def add_dataset(\n",
    "    labels,\n",
    "    domains,\n",
    "    pickle_path,\n",
    "    x_transforms,\n",
    "    episode_transforms,\n",
    "    domain_prefix,\n",
    "    num_examples_per_domain_per_label,\n",
    "    source_or_target_dataset:str,\n",
    "    iterator_seed=p.seed,\n",
    "    dataset_seed=p.dataset_seed,\n",
    "    n_shot=p.n_shot,\n",
    "    n_way=p.n_way,\n",
    "    n_query=p.n_query,\n",
    "    train_val_test_k_factors=(p.train_k_factor,p.val_k_factor,p.test_k_factor),\n",
    "):\n",
    "   \n",
    "    if x_transforms == []: x_transform = None\n",
    "    else: x_transform = get_chained_transform(x_transforms)\n",
    "    \n",
    "    if episode_transforms == []: episode_transform = None\n",
    "    else: raise Exception(\"episode_transforms not implemented\")\n",
    "    \n",
    "    episode_transform = lambda tup, _prefix=domain_prefix: (_prefix + str(tup[0]), tup[1])\n",
    "\n",
    "\n",
    "    eaf = Episodic_Accessor_Factory(\n",
    "        labels=labels,\n",
    "        domains=domains,\n",
    "        num_examples_per_domain_per_label=num_examples_per_domain_per_label,\n",
    "        iterator_seed=iterator_seed,\n",
    "        dataset_seed=dataset_seed,\n",
    "        n_shot=n_shot,\n",
    "        n_way=n_way,\n",
    "        n_query=n_query,\n",
    "        train_val_test_k_factors=train_val_test_k_factors,\n",
    "        pickle_path=pickle_path,\n",
    "        x_transform_func=x_transform,\n",
    "    )\n",
    "\n",
    "    train, val, test = eaf.get_train(), eaf.get_val(), eaf.get_test()\n",
    "    train = Lazy_Iterable_Wrapper(train, episode_transform)\n",
    "    val = Lazy_Iterable_Wrapper(val, episode_transform)\n",
    "    test = Lazy_Iterable_Wrapper(test, episode_transform)\n",
    "\n",
    "    if source_or_target_dataset==\"source\":\n",
    "        train_original_source.append(train)\n",
    "        val_original_source.append(val)\n",
    "        test_original_source.append(test)\n",
    "\n",
    "        p.domains_source.extend(\n",
    "            [domain_prefix + str(u) for u in domains]\n",
    "        )\n",
    "    elif source_or_target_dataset==\"target\":\n",
    "        train_original_target.append(train)\n",
    "        val_original_target.append(val)\n",
    "        test_original_target.append(test)\n",
    "        p.domains_target.extend(\n",
    "            [domain_prefix + str(u) for u in domains]\n",
    "        )\n",
    "    else:\n",
    "        raise Exception(f\"invalid source_or_target_dataset: {source_or_target_dataset}\")\n",
    "    "
   ]
  },
  {
   "cell_type": "code",
   "execution_count": 13,
   "id": "fe266617",
   "metadata": {
    "execution": {
     "iopub.execute_input": "2022-03-22T22:08:58.160656Z",
     "iopub.status.busy": "2022-03-22T22:08:58.159766Z",
     "iopub.status.idle": "2022-03-22T22:09:04.644685Z",
     "shell.execute_reply": "2022-03-22T22:09:04.643864Z"
    },
    "papermill": {
     "duration": 6.507992,
     "end_time": "2022-03-22T22:09:04.644867",
     "exception": false,
     "start_time": "2022-03-22T22:08:58.136875",
     "status": "completed"
    },
    "tags": []
   },
   "outputs": [],
   "source": [
    "for ds in p.datasets:\n",
    "    add_dataset(**ds)"
   ]
  },
  {
   "cell_type": "code",
   "execution_count": 14,
   "id": "b90d65ac",
   "metadata": {
    "execution": {
     "iopub.execute_input": "2022-03-22T22:09:04.694472Z",
     "iopub.status.busy": "2022-03-22T22:09:04.694091Z",
     "iopub.status.idle": "2022-03-22T22:09:04.718551Z",
     "shell.execute_reply": "2022-03-22T22:09:04.717737Z"
    },
    "papermill": {
     "duration": 0.048626,
     "end_time": "2022-03-22T22:09:04.718706",
     "exception": false,
     "start_time": "2022-03-22T22:09:04.670080",
     "status": "completed"
    },
    "tags": []
   },
   "outputs": [],
   "source": [
    "# from steves_utils.CORES.utils import (\n",
    "#     ALL_NODES,\n",
    "#     ALL_NODES_MINIMUM_1000_EXAMPLES,\n",
    "#     ALL_DAYS\n",
    "# )\n",
    "\n",
    "# add_dataset(\n",
    "#     labels=ALL_NODES,\n",
    "#     domains = ALL_DAYS,\n",
    "#     num_examples_per_domain_per_label=100,\n",
    "#     pickle_path=os.path.join(get_datasets_base_path(), \"cores.stratified_ds.2022A.pkl\"),\n",
    "#     source_or_target_dataset=\"target\",\n",
    "#     x_transform_func=global_x_transform_func,\n",
    "#     domain_modifier=lambda u: f\"cores_{u}\"\n",
    "# )"
   ]
  },
  {
   "cell_type": "code",
   "execution_count": 15,
   "id": "76db484d",
   "metadata": {
    "execution": {
     "iopub.execute_input": "2022-03-22T22:09:04.772996Z",
     "iopub.status.busy": "2022-03-22T22:09:04.770645Z",
     "iopub.status.idle": "2022-03-22T22:09:04.791059Z",
     "shell.execute_reply": "2022-03-22T22:09:04.790254Z"
    },
    "papermill": {
     "duration": 0.043964,
     "end_time": "2022-03-22T22:09:04.791215",
     "exception": false,
     "start_time": "2022-03-22T22:09:04.747251",
     "status": "completed"
    },
    "tags": []
   },
   "outputs": [],
   "source": [
    "# from steves_utils.ORACLE.utils_v2 import (\n",
    "#     ALL_DISTANCES_FEET,\n",
    "#     ALL_RUNS,\n",
    "#     ALL_SERIAL_NUMBERS,\n",
    "# )\n",
    "\n",
    "\n",
    "# add_dataset(\n",
    "#     labels=ALL_SERIAL_NUMBERS,\n",
    "#     domains = list(set(ALL_DISTANCES_FEET) - {2,62}),\n",
    "#     num_examples_per_domain_per_label=100,\n",
    "#     pickle_path=os.path.join(get_datasets_base_path(), \"oracle.Run2_framed_2000Examples_stratified_ds.2022A.pkl\"),\n",
    "#     source_or_target_dataset=\"source\",\n",
    "#     x_transform_func=global_x_transform_func,\n",
    "#     domain_modifier=lambda u: f\"oracle1_{u}\"\n",
    "# )\n"
   ]
  },
  {
   "cell_type": "code",
   "execution_count": 16,
   "id": "97dea9d2",
   "metadata": {
    "execution": {
     "iopub.execute_input": "2022-03-22T22:09:04.842702Z",
     "iopub.status.busy": "2022-03-22T22:09:04.842335Z",
     "iopub.status.idle": "2022-03-22T22:09:04.859262Z",
     "shell.execute_reply": "2022-03-22T22:09:04.858461Z"
    },
    "papermill": {
     "duration": 0.040013,
     "end_time": "2022-03-22T22:09:04.859415",
     "exception": false,
     "start_time": "2022-03-22T22:09:04.819402",
     "status": "completed"
    },
    "tags": []
   },
   "outputs": [],
   "source": [
    "# from steves_utils.ORACLE.utils_v2 import (\n",
    "#     ALL_DISTANCES_FEET,\n",
    "#     ALL_RUNS,\n",
    "#     ALL_SERIAL_NUMBERS,\n",
    "# )\n",
    "\n",
    "\n",
    "# add_dataset(\n",
    "#     labels=ALL_SERIAL_NUMBERS,\n",
    "#     domains = list(set(ALL_DISTANCES_FEET) - {2,62,56}),\n",
    "#     num_examples_per_domain_per_label=100,\n",
    "#     pickle_path=os.path.join(get_datasets_base_path(), \"oracle.Run2_framed_2000Examples_stratified_ds.2022A.pkl\"),\n",
    "#     source_or_target_dataset=\"source\",\n",
    "#     x_transform_func=global_x_transform_func,\n",
    "#     domain_modifier=lambda u: f\"oracle2_{u}\"\n",
    "# )"
   ]
  },
  {
   "cell_type": "code",
   "execution_count": 17,
   "id": "6f289866",
   "metadata": {
    "execution": {
     "iopub.execute_input": "2022-03-22T22:09:04.921235Z",
     "iopub.status.busy": "2022-03-22T22:09:04.913463Z",
     "iopub.status.idle": "2022-03-22T22:09:04.933084Z",
     "shell.execute_reply": "2022-03-22T22:09:04.932278Z"
    },
    "papermill": {
     "duration": 0.043645,
     "end_time": "2022-03-22T22:09:04.933239",
     "exception": false,
     "start_time": "2022-03-22T22:09:04.889594",
     "status": "completed"
    },
    "tags": []
   },
   "outputs": [],
   "source": [
    "# add_dataset(\n",
    "#     labels=list(range(19)),\n",
    "#     domains = [0,1,2],\n",
    "#     num_examples_per_domain_per_label=100,\n",
    "#     pickle_path=os.path.join(get_datasets_base_path(), \"metehan.stratified_ds.2022A.pkl\"),\n",
    "#     source_or_target_dataset=\"target\",\n",
    "#     x_transform_func=global_x_transform_func,\n",
    "#     domain_modifier=lambda u: f\"met_{u}\"\n",
    "# )"
   ]
  },
  {
   "cell_type": "code",
   "execution_count": 18,
   "id": "86a863c3",
   "metadata": {
    "execution": {
     "iopub.execute_input": "2022-03-22T22:09:04.987409Z",
     "iopub.status.busy": "2022-03-22T22:09:04.987034Z",
     "iopub.status.idle": "2022-03-22T22:09:05.008861Z",
     "shell.execute_reply": "2022-03-22T22:09:05.008064Z"
    },
    "papermill": {
     "duration": 0.046704,
     "end_time": "2022-03-22T22:09:05.009015",
     "exception": false,
     "start_time": "2022-03-22T22:09:04.962311",
     "status": "completed"
    },
    "tags": []
   },
   "outputs": [],
   "source": [
    "# # from steves_utils.wisig.utils import (\n",
    "# #     ALL_NODES_MINIMUM_100_EXAMPLES,\n",
    "# #     ALL_NODES_MINIMUM_500_EXAMPLES,\n",
    "# #     ALL_NODES_MINIMUM_1000_EXAMPLES,\n",
    "# #     ALL_DAYS\n",
    "# # )\n",
    "\n",
    "# import steves_utils.wisig.utils as wisig\n",
    "\n",
    "\n",
    "# add_dataset(\n",
    "#     labels=wisig.ALL_NODES_MINIMUM_100_EXAMPLES,\n",
    "#     domains = wisig.ALL_DAYS,\n",
    "#     num_examples_per_domain_per_label=100,\n",
    "#     pickle_path=os.path.join(get_datasets_base_path(), \"wisig.node3-19.stratified_ds.2022A.pkl\"),\n",
    "#     source_or_target_dataset=\"target\",\n",
    "#     x_transform_func=global_x_transform_func,\n",
    "#     domain_modifier=lambda u: f\"wisig_{u}\"\n",
    "# )"
   ]
  },
  {
   "cell_type": "code",
   "execution_count": 19,
   "id": "fd5442bc",
   "metadata": {
    "execution": {
     "iopub.execute_input": "2022-03-22T22:09:05.063083Z",
     "iopub.status.busy": "2022-03-22T22:09:05.062504Z",
     "iopub.status.idle": "2022-03-22T22:09:05.080779Z",
     "shell.execute_reply": "2022-03-22T22:09:05.079966Z"
    },
    "papermill": {
     "duration": 0.044318,
     "end_time": "2022-03-22T22:09:05.080933",
     "exception": false,
     "start_time": "2022-03-22T22:09:05.036615",
     "status": "completed"
    },
    "tags": []
   },
   "outputs": [],
   "source": [
    "###################################\n",
    "# Build the dataset\n",
    "###################################\n",
    "train_original_source = Iterable_Aggregator(train_original_source, p.seed)\n",
    "val_original_source = Iterable_Aggregator(val_original_source, p.seed)\n",
    "test_original_source = Iterable_Aggregator(test_original_source, p.seed)\n",
    "\n",
    "\n",
    "train_original_target = Iterable_Aggregator(train_original_target, p.seed)\n",
    "val_original_target = Iterable_Aggregator(val_original_target, p.seed)\n",
    "test_original_target = Iterable_Aggregator(test_original_target, p.seed)\n",
    "\n",
    "# For CNN We only use X and Y. And we only train on the source.\n",
    "# Properly form the data using a transform lambda and Lazy_Iterable_Wrapper. Finally wrap them in a dataloader\n",
    "\n",
    "transform_lambda = lambda ex: ex[1] # Original is (<domain>, <episode>) so we strip down to episode only\n",
    "\n",
    "train_processed_source = Lazy_Iterable_Wrapper(train_original_source, transform_lambda)\n",
    "val_processed_source   = Lazy_Iterable_Wrapper(val_original_source, transform_lambda)\n",
    "test_processed_source  = Lazy_Iterable_Wrapper(test_original_source, transform_lambda)\n",
    "\n",
    "train_processed_target = Lazy_Iterable_Wrapper(train_original_target, transform_lambda)\n",
    "val_processed_target   = Lazy_Iterable_Wrapper(val_original_target, transform_lambda)\n",
    "test_processed_target  = Lazy_Iterable_Wrapper(test_original_target, transform_lambda)\n",
    "\n",
    "datasets = EasyDict({\n",
    "    \"source\": {\n",
    "        \"original\": {\"train\":train_original_source, \"val\":val_original_source, \"test\":test_original_source},\n",
    "        \"processed\": {\"train\":train_processed_source, \"val\":val_processed_source, \"test\":test_processed_source}\n",
    "    },\n",
    "    \"target\": {\n",
    "        \"original\": {\"train\":train_original_target, \"val\":val_original_target, \"test\":test_original_target},\n",
    "        \"processed\": {\"train\":train_processed_target, \"val\":val_processed_target, \"test\":test_processed_target}\n",
    "    },\n",
    "})"
   ]
  },
  {
   "cell_type": "code",
   "execution_count": 20,
   "id": "5b3c01fc",
   "metadata": {
    "execution": {
     "iopub.execute_input": "2022-03-22T22:09:05.135200Z",
     "iopub.status.busy": "2022-03-22T22:09:05.134831Z",
     "iopub.status.idle": "2022-03-22T22:09:19.829844Z",
     "shell.execute_reply": "2022-03-22T22:09:19.830587Z"
    },
    "papermill": {
     "duration": 14.720254,
     "end_time": "2022-03-22T22:09:19.830811",
     "exception": false,
     "start_time": "2022-03-22T22:09:05.110557",
     "status": "completed"
    },
    "tags": []
   },
   "outputs": [
    {
     "name": "stdout",
     "output_type": "stream",
     "text": [
      "{'ORACLE.run132', 'ORACLE.run144', 'ORACLE.run150', 'ORACLE.run126', 'ORACLE.run18', 'ORACLE.run120', 'ORACLE.run114', 'ORACLE.run138'}\n"
     ]
    },
    {
     "name": "stdout",
     "output_type": "stream",
     "text": [
      "{'Wisig_3', 'Wisig_2', 'Wisig_4', 'Wisig_1'}\n"
     ]
    },
    {
     "name": "stdout",
     "output_type": "stream",
     "text": [
      "tensor([[[-6.1037e-04,  7.0193e-04,  1.0071e-03,  ..., -1.8921e-03,\n",
      "           2.9603e-03,  3.3265e-03],\n",
      "         [-2.9298e-03, -8.5452e-04,  1.3428e-03,  ..., -3.2044e-03,\n",
      "          -4.2421e-03, -6.4089e-04]],\n",
      "\n",
      "        [[-1.0376e-03,  7.0193e-04, -2.4415e-03,  ..., -1.2207e-03,\n",
      "          -3.5707e-03,  2.4415e-04],\n",
      "         [ 6.1037e-04, -1.5259e-03,  8.5452e-04,  ...,  3.3876e-03,\n",
      "          -1.7701e-03, -1.5870e-03]],\n",
      "\n",
      "        [[-3.1129e-03, -2.5330e-03,  8.8504e-04,  ..., -2.9908e-03,\n",
      "           1.1597e-03,  2.7467e-04],\n",
      "         [ 2.3499e-03, -1.5259e-03, -3.6317e-03,  ...,  4.2726e-04,\n",
      "          -3.3265e-03,  2.6246e-03]],\n",
      "\n",
      "        ...,\n",
      "\n",
      "        [[-2.9603e-03,  1.7396e-03,  1.0681e-03,  ..., -2.1668e-03,\n",
      "           2.7467e-03, -3.5401e-03],\n",
      "         [-3.3876e-03,  2.0447e-03,  4.6388e-03,  ...,  3.4791e-03,\n",
      "           5.3407e-03,  3.0519e-05]],\n",
      "\n",
      "        [[-5.0661e-03,  1.3733e-03, -5.7985e-04,  ..., -6.6836e-03,\n",
      "           2.9603e-03,  5.1881e-03],\n",
      "         [ 3.7233e-03,  2.3194e-03,  7.9348e-04,  ..., -7.0803e-03,\n",
      "          -4.5167e-03, -2.2889e-03]],\n",
      "\n",
      "        [[-6.4089e-03, -2.5941e-03, -9.4607e-04,  ...,  1.3428e-03,\n",
      "           3.7233e-03,  5.1271e-03],\n",
      "         [-3.1434e-03,  2.4415e-03,  3.9674e-04,  ..., -2.6856e-03,\n",
      "           3.9674e-04, -6.1037e-05]]])\n"
     ]
    }
   ],
   "source": [
    "from steves_utils.transforms import get_average_magnitude, get_average_power\n",
    "\n",
    "print(set([u for u,_ in val_original_source]))\n",
    "print(set([u for u,_ in val_original_target]))\n",
    "\n",
    "s_x, s_y, q_x, q_y, _ = next(iter(train_processed_source))\n",
    "print(s_x)\n",
    "\n",
    "# for ds in [\n",
    "#     train_processed_source,\n",
    "#     val_processed_source,\n",
    "#     test_processed_source,\n",
    "#     train_processed_target,\n",
    "#     val_processed_target,\n",
    "#     test_processed_target\n",
    "# ]:\n",
    "#     for s_x, s_y, q_x, q_y, _ in ds:\n",
    "#         for X in (s_x, q_x):\n",
    "#             for x in X:\n",
    "#                 assert np.isclose(get_average_magnitude(x.numpy()), 1.0)\n",
    "#                 assert np.isclose(get_average_power(x.numpy()), 1.0)\n",
    "                "
   ]
  },
  {
   "cell_type": "code",
   "execution_count": 21,
   "id": "bbdacba1",
   "metadata": {
    "execution": {
     "iopub.execute_input": "2022-03-22T22:09:19.889841Z",
     "iopub.status.busy": "2022-03-22T22:09:19.889465Z",
     "iopub.status.idle": "2022-03-22T22:09:20.086842Z",
     "shell.execute_reply": "2022-03-22T22:09:20.087488Z"
    },
    "papermill": {
     "duration": 0.225608,
     "end_time": "2022-03-22T22:09:20.087709",
     "exception": false,
     "start_time": "2022-03-22T22:09:19.862101",
     "status": "completed"
    },
    "tags": []
   },
   "outputs": [
    {
     "name": "stdout",
     "output_type": "stream",
     "text": [
      "(2, 256)\n"
     ]
    }
   ],
   "source": [
    "###################################\n",
    "# Build the model\n",
    "###################################\n",
    "# easfsl only wants a tuple for the shape\n",
    "model = Steves_Prototypical_Network(x_net, device=p.device, x_shape=tuple(p.x_shape))\n",
    "optimizer = Adam(params=model.parameters(), lr=p.lr)"
   ]
  },
  {
   "cell_type": "code",
   "execution_count": 22,
   "id": "22b39ac5",
   "metadata": {
    "execution": {
     "iopub.execute_input": "2022-03-22T22:09:20.139874Z",
     "iopub.status.busy": "2022-03-22T22:09:20.139497Z",
     "iopub.status.idle": "2022-03-22T23:13:31.311849Z",
     "shell.execute_reply": "2022-03-22T23:13:31.311482Z"
    },
    "papermill": {
     "duration": 3851.196949,
     "end_time": "2022-03-22T23:13:31.311954",
     "exception": false,
     "start_time": "2022-03-22T22:09:20.115005",
     "status": "completed"
    },
    "tags": []
   },
   "outputs": [
    {
     "name": "stdout",
     "output_type": "stream",
     "text": [
      "epoch: 1, [batch: 1 / 6720], examples_per_second: 32.1173, train_label_loss: 2.7336, \n"
     ]
    },
    {
     "name": "stdout",
     "output_type": "stream",
     "text": [
      "epoch: 1, [batch: 672 / 6720], examples_per_second: 3943.0903, train_label_loss: 1.3429, \n"
     ]
    },
    {
     "name": "stdout",
     "output_type": "stream",
     "text": [
      "epoch: 1, [batch: 1344 / 6720], examples_per_second: 3912.8617, train_label_loss: 1.3955, \n"
     ]
    },
    {
     "name": "stdout",
     "output_type": "stream",
     "text": [
      "epoch: 1, [batch: 2016 / 6720], examples_per_second: 3925.8602, train_label_loss: 1.4698, \n"
     ]
    },
    {
     "name": "stdout",
     "output_type": "stream",
     "text": [
      "epoch: 1, [batch: 2688 / 6720], examples_per_second: 3865.9843, train_label_loss: 1.2902, \n"
     ]
    },
    {
     "name": "stdout",
     "output_type": "stream",
     "text": [
      "epoch: 1, [batch: 3360 / 6720], examples_per_second: 3909.1074, train_label_loss: 1.2593, \n"
     ]
    },
    {
     "name": "stdout",
     "output_type": "stream",
     "text": [
      "epoch: 1, [batch: 4032 / 6720], examples_per_second: 3989.3842, train_label_loss: 1.2293, \n"
     ]
    },
    {
     "name": "stdout",
     "output_type": "stream",
     "text": [
      "epoch: 1, [batch: 4704 / 6720], examples_per_second: 3897.9710, train_label_loss: 1.2033, \n"
     ]
    },
    {
     "name": "stdout",
     "output_type": "stream",
     "text": [
      "epoch: 1, [batch: 5376 / 6720], examples_per_second: 3903.3526, train_label_loss: 1.2442, \n"
     ]
    },
    {
     "name": "stdout",
     "output_type": "stream",
     "text": [
      "epoch: 1, [batch: 6048 / 6720], examples_per_second: 3941.3507, train_label_loss: 0.8340, \n"
     ]
    },
    {
     "name": "stdout",
     "output_type": "stream",
     "text": [
      "=============================================================\n",
      "epoch: 1, source_val_acc_label: 0.6458, target_val_acc_label: 0.7021, source_val_label_loss: 1.1464, target_val_label_loss: 45.6395, \n",
      "=============================================================\n"
     ]
    },
    {
     "name": "stdout",
     "output_type": "stream",
     "text": [
      "New best\n"
     ]
    },
    {
     "name": "stdout",
     "output_type": "stream",
     "text": [
      "epoch: 2, [batch: 1 / 6720], examples_per_second: 3.8946, train_label_loss: 1.3446, \n"
     ]
    },
    {
     "name": "stdout",
     "output_type": "stream",
     "text": [
      "epoch: 2, [batch: 672 / 6720], examples_per_second: 3859.7359, train_label_loss: 1.2029, \n"
     ]
    },
    {
     "name": "stdout",
     "output_type": "stream",
     "text": [
      "epoch: 2, [batch: 1344 / 6720], examples_per_second: 3897.2448, train_label_loss: 1.2485, \n"
     ]
    },
    {
     "name": "stdout",
     "output_type": "stream",
     "text": [
      "epoch: 2, [batch: 2016 / 6720], examples_per_second: 3869.8364, train_label_loss: 0.7277, \n"
     ]
    },
    {
     "name": "stdout",
     "output_type": "stream",
     "text": [
      "epoch: 2, [batch: 2688 / 6720], examples_per_second: 3855.0621, train_label_loss: 0.7206, \n"
     ]
    },
    {
     "name": "stdout",
     "output_type": "stream",
     "text": [
      "epoch: 2, [batch: 3360 / 6720], examples_per_second: 3954.8713, train_label_loss: 0.5645, \n"
     ]
    },
    {
     "name": "stdout",
     "output_type": "stream",
     "text": [
      "epoch: 2, [batch: 4032 / 6720], examples_per_second: 3965.8668, train_label_loss: 0.2465, \n"
     ]
    },
    {
     "name": "stdout",
     "output_type": "stream",
     "text": [
      "epoch: 2, [batch: 4704 / 6720], examples_per_second: 3940.3513, train_label_loss: 0.3980, \n"
     ]
    },
    {
     "name": "stdout",
     "output_type": "stream",
     "text": [
      "epoch: 2, [batch: 5376 / 6720], examples_per_second: 3905.4203, train_label_loss: 0.6813, \n"
     ]
    },
    {
     "name": "stdout",
     "output_type": "stream",
     "text": [
      "epoch: 2, [batch: 6048 / 6720], examples_per_second: 4049.3698, train_label_loss: 0.7231, \n"
     ]
    },
    {
     "name": "stdout",
     "output_type": "stream",
     "text": [
      "=============================================================\n",
      "epoch: 2, source_val_acc_label: 0.7529, target_val_acc_label: 0.7621, source_val_label_loss: 0.6855, target_val_label_loss: 41.1021, \n",
      "=============================================================\n"
     ]
    },
    {
     "name": "stdout",
     "output_type": "stream",
     "text": [
      "New best\n"
     ]
    },
    {
     "name": "stdout",
     "output_type": "stream",
     "text": [
      "epoch: 3, [batch: 1 / 6720], examples_per_second: 3.9850, train_label_loss: 0.7581, \n"
     ]
    },
    {
     "name": "stdout",
     "output_type": "stream",
     "text": [
      "epoch: 3, [batch: 672 / 6720], examples_per_second: 3935.0110, train_label_loss: 0.6295, \n"
     ]
    },
    {
     "name": "stdout",
     "output_type": "stream",
     "text": [
      "epoch: 3, [batch: 1344 / 6720], examples_per_second: 3837.4621, train_label_loss: 0.8948, \n"
     ]
    },
    {
     "name": "stdout",
     "output_type": "stream",
     "text": [
      "epoch: 3, [batch: 2016 / 6720], examples_per_second: 3880.5854, train_label_loss: 0.5235, \n"
     ]
    },
    {
     "name": "stdout",
     "output_type": "stream",
     "text": [
      "epoch: 3, [batch: 2688 / 6720], examples_per_second: 3850.9933, train_label_loss: 0.9062, \n"
     ]
    },
    {
     "name": "stdout",
     "output_type": "stream",
     "text": [
      "epoch: 3, [batch: 3360 / 6720], examples_per_second: 3928.3313, train_label_loss: 0.5899, \n"
     ]
    },
    {
     "name": "stdout",
     "output_type": "stream",
     "text": [
      "epoch: 3, [batch: 4032 / 6720], examples_per_second: 3939.5652, train_label_loss: 0.3903, \n"
     ]
    },
    {
     "name": "stdout",
     "output_type": "stream",
     "text": [
      "epoch: 3, [batch: 4704 / 6720], examples_per_second: 3974.2340, train_label_loss: 0.6720, \n"
     ]
    },
    {
     "name": "stdout",
     "output_type": "stream",
     "text": [
      "epoch: 3, [batch: 5376 / 6720], examples_per_second: 3975.4494, train_label_loss: 0.7848, \n"
     ]
    },
    {
     "name": "stdout",
     "output_type": "stream",
     "text": [
      "epoch: 3, [batch: 6048 / 6720], examples_per_second: 3971.7828, train_label_loss: 0.3215, \n"
     ]
    },
    {
     "name": "stdout",
     "output_type": "stream",
     "text": [
      "=============================================================\n",
      "epoch: 3, source_val_acc_label: 0.7982, target_val_acc_label: 0.7987, source_val_label_loss: 0.5719, target_val_label_loss: 59.6000, \n",
      "=============================================================\n"
     ]
    },
    {
     "name": "stdout",
     "output_type": "stream",
     "text": [
      "New best\n"
     ]
    },
    {
     "name": "stdout",
     "output_type": "stream",
     "text": [
      "epoch: 4, [batch: 1 / 6720], examples_per_second: 4.3043, train_label_loss: 0.6253, \n"
     ]
    },
    {
     "name": "stdout",
     "output_type": "stream",
     "text": [
      "epoch: 4, [batch: 672 / 6720], examples_per_second: 4371.4071, train_label_loss: 0.6484, \n"
     ]
    },
    {
     "name": "stdout",
     "output_type": "stream",
     "text": [
      "epoch: 4, [batch: 1344 / 6720], examples_per_second: 4552.2552, train_label_loss: 0.4860, \n"
     ]
    },
    {
     "name": "stdout",
     "output_type": "stream",
     "text": [
      "epoch: 4, [batch: 2016 / 6720], examples_per_second: 4907.2812, train_label_loss: 0.3378, \n"
     ]
    },
    {
     "name": "stdout",
     "output_type": "stream",
     "text": [
      "epoch: 4, [batch: 2688 / 6720], examples_per_second: 4949.1366, train_label_loss: 0.4906, \n"
     ]
    },
    {
     "name": "stdout",
     "output_type": "stream",
     "text": [
      "epoch: 4, [batch: 3360 / 6720], examples_per_second: 4234.4049, train_label_loss: 0.6581, \n"
     ]
    },
    {
     "name": "stdout",
     "output_type": "stream",
     "text": [
      "epoch: 4, [batch: 4032 / 6720], examples_per_second: 3801.3053, train_label_loss: 0.3942, \n"
     ]
    },
    {
     "name": "stdout",
     "output_type": "stream",
     "text": [
      "epoch: 4, [batch: 4704 / 6720], examples_per_second: 3789.8521, train_label_loss: 0.3636, \n"
     ]
    },
    {
     "name": "stdout",
     "output_type": "stream",
     "text": [
      "epoch: 4, [batch: 5376 / 6720], examples_per_second: 3848.0599, train_label_loss: 0.4163, \n"
     ]
    },
    {
     "name": "stdout",
     "output_type": "stream",
     "text": [
      "epoch: 4, [batch: 6048 / 6720], examples_per_second: 3885.4629, train_label_loss: 0.3816, \n"
     ]
    },
    {
     "name": "stdout",
     "output_type": "stream",
     "text": [
      "=============================================================\n",
      "epoch: 4, source_val_acc_label: 0.8092, target_val_acc_label: 0.8251, source_val_label_loss: 0.5307, target_val_label_loss: 60.3601, \n",
      "=============================================================\n"
     ]
    },
    {
     "name": "stdout",
     "output_type": "stream",
     "text": [
      "New best\n"
     ]
    },
    {
     "name": "stdout",
     "output_type": "stream",
     "text": [
      "epoch: 5, [batch: 1 / 6720], examples_per_second: 3.9614, train_label_loss: 0.2252, \n"
     ]
    },
    {
     "name": "stdout",
     "output_type": "stream",
     "text": [
      "epoch: 5, [batch: 672 / 6720], examples_per_second: 3863.0736, train_label_loss: 0.4562, \n"
     ]
    },
    {
     "name": "stdout",
     "output_type": "stream",
     "text": [
      "epoch: 5, [batch: 1344 / 6720], examples_per_second: 3877.6743, train_label_loss: 0.7641, \n"
     ]
    },
    {
     "name": "stdout",
     "output_type": "stream",
     "text": [
      "epoch: 5, [batch: 2016 / 6720], examples_per_second: 4012.0384, train_label_loss: 0.4449, \n"
     ]
    },
    {
     "name": "stdout",
     "output_type": "stream",
     "text": [
      "epoch: 5, [batch: 2688 / 6720], examples_per_second: 4031.0914, train_label_loss: 0.4876, \n"
     ]
    },
    {
     "name": "stdout",
     "output_type": "stream",
     "text": [
      "epoch: 5, [batch: 3360 / 6720], examples_per_second: 4034.9433, train_label_loss: 0.7049, \n"
     ]
    },
    {
     "name": "stdout",
     "output_type": "stream",
     "text": [
      "epoch: 5, [batch: 4032 / 6720], examples_per_second: 3887.2711, train_label_loss: 0.3619, \n"
     ]
    },
    {
     "name": "stdout",
     "output_type": "stream",
     "text": [
      "epoch: 5, [batch: 4704 / 6720], examples_per_second: 3831.1070, train_label_loss: 0.4280, \n"
     ]
    },
    {
     "name": "stdout",
     "output_type": "stream",
     "text": [
      "epoch: 5, [batch: 5376 / 6720], examples_per_second: 3935.3825, train_label_loss: 0.2563, \n"
     ]
    },
    {
     "name": "stdout",
     "output_type": "stream",
     "text": [
      "epoch: 5, [batch: 6048 / 6720], examples_per_second: 4017.0059, train_label_loss: 0.4952, \n"
     ]
    },
    {
     "name": "stdout",
     "output_type": "stream",
     "text": [
      "=============================================================\n",
      "epoch: 5, source_val_acc_label: 0.8216, target_val_acc_label: 0.8350, source_val_label_loss: 0.5063, target_val_label_loss: 67.4395, \n",
      "=============================================================\n"
     ]
    },
    {
     "name": "stdout",
     "output_type": "stream",
     "text": [
      "New best\n"
     ]
    },
    {
     "name": "stdout",
     "output_type": "stream",
     "text": [
      "epoch: 6, [batch: 1 / 6720], examples_per_second: 3.9917, train_label_loss: 0.3151, \n"
     ]
    },
    {
     "name": "stdout",
     "output_type": "stream",
     "text": [
      "epoch: 6, [batch: 672 / 6720], examples_per_second: 3917.0263, train_label_loss: 0.1935, \n"
     ]
    },
    {
     "name": "stdout",
     "output_type": "stream",
     "text": [
      "epoch: 6, [batch: 1344 / 6720], examples_per_second: 3931.0575, train_label_loss: 0.2533, \n"
     ]
    },
    {
     "name": "stdout",
     "output_type": "stream",
     "text": [
      "epoch: 6, [batch: 2016 / 6720], examples_per_second: 4006.7810, train_label_loss: 0.4426, \n"
     ]
    },
    {
     "name": "stdout",
     "output_type": "stream",
     "text": [
      "epoch: 6, [batch: 2688 / 6720], examples_per_second: 3973.8165, train_label_loss: 0.2598, \n"
     ]
    },
    {
     "name": "stdout",
     "output_type": "stream",
     "text": [
      "epoch: 6, [batch: 3360 / 6720], examples_per_second: 4090.6867, train_label_loss: 0.3754, \n"
     ]
    },
    {
     "name": "stdout",
     "output_type": "stream",
     "text": [
      "epoch: 6, [batch: 4032 / 6720], examples_per_second: 4029.4283, train_label_loss: 0.2398, \n"
     ]
    },
    {
     "name": "stdout",
     "output_type": "stream",
     "text": [
      "epoch: 6, [batch: 4704 / 6720], examples_per_second: 3926.4277, train_label_loss: 0.4010, \n"
     ]
    },
    {
     "name": "stdout",
     "output_type": "stream",
     "text": [
      "epoch: 6, [batch: 5376 / 6720], examples_per_second: 3928.6088, train_label_loss: 0.5748, \n"
     ]
    },
    {
     "name": "stdout",
     "output_type": "stream",
     "text": [
      "epoch: 6, [batch: 6048 / 6720], examples_per_second: 3921.1015, train_label_loss: 0.3786, \n"
     ]
    },
    {
     "name": "stdout",
     "output_type": "stream",
     "text": [
      "=============================================================\n",
      "epoch: 6, source_val_acc_label: 0.8232, target_val_acc_label: 0.8411, source_val_label_loss: 0.5207, target_val_label_loss: 76.9301, \n",
      "=============================================================\n"
     ]
    },
    {
     "name": "stdout",
     "output_type": "stream",
     "text": [
      "New best\n"
     ]
    },
    {
     "name": "stdout",
     "output_type": "stream",
     "text": [
      "epoch: 7, [batch: 1 / 6720], examples_per_second: 3.9404, train_label_loss: 0.1220, \n"
     ]
    },
    {
     "name": "stdout",
     "output_type": "stream",
     "text": [
      "epoch: 7, [batch: 672 / 6720], examples_per_second: 3890.9984, train_label_loss: 0.8371, \n"
     ]
    },
    {
     "name": "stdout",
     "output_type": "stream",
     "text": [
      "epoch: 7, [batch: 1344 / 6720], examples_per_second: 4012.0905, train_label_loss: 0.4463, \n"
     ]
    },
    {
     "name": "stdout",
     "output_type": "stream",
     "text": [
      "epoch: 7, [batch: 2016 / 6720], examples_per_second: 4072.7799, train_label_loss: 0.2735, \n"
     ]
    },
    {
     "name": "stdout",
     "output_type": "stream",
     "text": [
      "epoch: 7, [batch: 2688 / 6720], examples_per_second: 3920.1862, train_label_loss: 0.2518, \n"
     ]
    },
    {
     "name": "stdout",
     "output_type": "stream",
     "text": [
      "epoch: 7, [batch: 3360 / 6720], examples_per_second: 3958.7357, train_label_loss: 0.5280, \n"
     ]
    },
    {
     "name": "stdout",
     "output_type": "stream",
     "text": [
      "epoch: 7, [batch: 4032 / 6720], examples_per_second: 3867.8039, train_label_loss: 0.3091, \n"
     ]
    },
    {
     "name": "stdout",
     "output_type": "stream",
     "text": [
      "epoch: 7, [batch: 4704 / 6720], examples_per_second: 3797.0151, train_label_loss: 0.4440, \n"
     ]
    },
    {
     "name": "stdout",
     "output_type": "stream",
     "text": [
      "epoch: 7, [batch: 5376 / 6720], examples_per_second: 3820.3187, train_label_loss: 0.5760, \n"
     ]
    },
    {
     "name": "stdout",
     "output_type": "stream",
     "text": [
      "epoch: 7, [batch: 6048 / 6720], examples_per_second: 3960.9047, train_label_loss: 0.1586, \n"
     ]
    },
    {
     "name": "stdout",
     "output_type": "stream",
     "text": [
      "=============================================================\n",
      "epoch: 7, source_val_acc_label: 0.8250, target_val_acc_label: 0.8424, source_val_label_loss: 0.5169, target_val_label_loss: 93.8763, \n",
      "=============================================================\n"
     ]
    },
    {
     "name": "stdout",
     "output_type": "stream",
     "text": [
      "New best\n"
     ]
    },
    {
     "name": "stdout",
     "output_type": "stream",
     "text": [
      "epoch: 8, [batch: 1 / 6720], examples_per_second: 3.9083, train_label_loss: 0.3909, \n"
     ]
    },
    {
     "name": "stdout",
     "output_type": "stream",
     "text": [
      "epoch: 8, [batch: 672 / 6720], examples_per_second: 3970.1227, train_label_loss: 0.3502, \n"
     ]
    },
    {
     "name": "stdout",
     "output_type": "stream",
     "text": [
      "epoch: 8, [batch: 1344 / 6720], examples_per_second: 4067.7761, train_label_loss: 0.3375, \n"
     ]
    },
    {
     "name": "stdout",
     "output_type": "stream",
     "text": [
      "epoch: 8, [batch: 2016 / 6720], examples_per_second: 3878.7647, train_label_loss: 0.3827, \n"
     ]
    },
    {
     "name": "stdout",
     "output_type": "stream",
     "text": [
      "epoch: 8, [batch: 2688 / 6720], examples_per_second: 3959.1721, train_label_loss: 0.3957, \n"
     ]
    },
    {
     "name": "stdout",
     "output_type": "stream",
     "text": [
      "epoch: 8, [batch: 3360 / 6720], examples_per_second: 4011.7717, train_label_loss: 0.3299, \n"
     ]
    },
    {
     "name": "stdout",
     "output_type": "stream",
     "text": [
      "epoch: 8, [batch: 4032 / 6720], examples_per_second: 4187.3651, train_label_loss: 0.3876, \n"
     ]
    },
    {
     "name": "stdout",
     "output_type": "stream",
     "text": [
      "epoch: 8, [batch: 4704 / 6720], examples_per_second: 4349.2517, train_label_loss: 0.1884, \n"
     ]
    },
    {
     "name": "stdout",
     "output_type": "stream",
     "text": [
      "epoch: 8, [batch: 5376 / 6720], examples_per_second: 4302.7894, train_label_loss: 0.2895, \n"
     ]
    },
    {
     "name": "stdout",
     "output_type": "stream",
     "text": [
      "epoch: 8, [batch: 6048 / 6720], examples_per_second: 4207.2028, train_label_loss: 0.4384, \n"
     ]
    },
    {
     "name": "stdout",
     "output_type": "stream",
     "text": [
      "=============================================================\n",
      "epoch: 8, source_val_acc_label: 0.8220, target_val_acc_label: 0.8486, source_val_label_loss: 0.5237, target_val_label_loss: 86.1385, \n",
      "=============================================================\n"
     ]
    },
    {
     "name": "stdout",
     "output_type": "stream",
     "text": [
      "New best\n"
     ]
    },
    {
     "name": "stdout",
     "output_type": "stream",
     "text": [
      "epoch: 9, [batch: 1 / 6720], examples_per_second: 4.7392, train_label_loss: 0.2704, \n"
     ]
    },
    {
     "name": "stdout",
     "output_type": "stream",
     "text": [
      "epoch: 9, [batch: 672 / 6720], examples_per_second: 5052.3326, train_label_loss: 0.0537, \n"
     ]
    },
    {
     "name": "stdout",
     "output_type": "stream",
     "text": [
      "epoch: 9, [batch: 1344 / 6720], examples_per_second: 4012.1307, train_label_loss: 0.5186, \n"
     ]
    },
    {
     "name": "stdout",
     "output_type": "stream",
     "text": [
      "epoch: 9, [batch: 2016 / 6720], examples_per_second: 3882.7254, train_label_loss: 0.4883, \n"
     ]
    },
    {
     "name": "stdout",
     "output_type": "stream",
     "text": [
      "epoch: 9, [batch: 2688 / 6720], examples_per_second: 3911.0095, train_label_loss: 0.1521, \n"
     ]
    },
    {
     "name": "stdout",
     "output_type": "stream",
     "text": [
      "epoch: 9, [batch: 3360 / 6720], examples_per_second: 4060.6763, train_label_loss: 0.3013, \n"
     ]
    },
    {
     "name": "stdout",
     "output_type": "stream",
     "text": [
      "epoch: 9, [batch: 4032 / 6720], examples_per_second: 3983.8830, train_label_loss: 0.1361, \n"
     ]
    },
    {
     "name": "stdout",
     "output_type": "stream",
     "text": [
      "epoch: 9, [batch: 4704 / 6720], examples_per_second: 3967.6668, train_label_loss: 0.1444, \n"
     ]
    },
    {
     "name": "stdout",
     "output_type": "stream",
     "text": [
      "epoch: 9, [batch: 5376 / 6720], examples_per_second: 3988.6468, train_label_loss: 0.2468, \n"
     ]
    },
    {
     "name": "stdout",
     "output_type": "stream",
     "text": [
      "epoch: 9, [batch: 6048 / 6720], examples_per_second: 3973.4953, train_label_loss: 0.2609, \n"
     ]
    },
    {
     "name": "stdout",
     "output_type": "stream",
     "text": [
      "=============================================================\n",
      "epoch: 9, source_val_acc_label: 0.8226, target_val_acc_label: 0.8557, source_val_label_loss: 0.5208, target_val_label_loss: 83.4756, \n",
      "=============================================================\n"
     ]
    },
    {
     "name": "stdout",
     "output_type": "stream",
     "text": [
      "New best\n"
     ]
    },
    {
     "name": "stdout",
     "output_type": "stream",
     "text": [
      "epoch: 10, [batch: 1 / 6720], examples_per_second: 4.0405, train_label_loss: 0.3081, \n"
     ]
    },
    {
     "name": "stdout",
     "output_type": "stream",
     "text": [
      "epoch: 10, [batch: 672 / 6720], examples_per_second: 3887.0218, train_label_loss: 0.1982, \n"
     ]
    },
    {
     "name": "stdout",
     "output_type": "stream",
     "text": [
      "epoch: 10, [batch: 1344 / 6720], examples_per_second: 3872.2781, train_label_loss: 0.3572, \n"
     ]
    },
    {
     "name": "stdout",
     "output_type": "stream",
     "text": [
      "epoch: 10, [batch: 2016 / 6720], examples_per_second: 3897.0087, train_label_loss: 0.3806, \n"
     ]
    },
    {
     "name": "stdout",
     "output_type": "stream",
     "text": [
      "epoch: 10, [batch: 2688 / 6720], examples_per_second: 3838.0961, train_label_loss: 0.1913, \n"
     ]
    },
    {
     "name": "stdout",
     "output_type": "stream",
     "text": [
      "epoch: 10, [batch: 3360 / 6720], examples_per_second: 3851.5935, train_label_loss: 0.4033, \n"
     ]
    },
    {
     "name": "stdout",
     "output_type": "stream",
     "text": [
      "epoch: 10, [batch: 4032 / 6720], examples_per_second: 3962.1458, train_label_loss: 0.3239, \n"
     ]
    },
    {
     "name": "stdout",
     "output_type": "stream",
     "text": [
      "epoch: 10, [batch: 4704 / 6720], examples_per_second: 3833.4503, train_label_loss: 0.0386, \n"
     ]
    },
    {
     "name": "stdout",
     "output_type": "stream",
     "text": [
      "epoch: 10, [batch: 5376 / 6720], examples_per_second: 3841.9691, train_label_loss: 0.1843, \n"
     ]
    },
    {
     "name": "stdout",
     "output_type": "stream",
     "text": [
      "epoch: 10, [batch: 6048 / 6720], examples_per_second: 3813.8464, train_label_loss: 0.3698, \n"
     ]
    },
    {
     "name": "stdout",
     "output_type": "stream",
     "text": [
      "=============================================================\n",
      "epoch: 10, source_val_acc_label: 0.8239, target_val_acc_label: 0.8558, source_val_label_loss: 0.5494, target_val_label_loss: 103.7581, \n",
      "=============================================================\n"
     ]
    },
    {
     "name": "stdout",
     "output_type": "stream",
     "text": [
      "New best\n"
     ]
    },
    {
     "name": "stdout",
     "output_type": "stream",
     "text": [
      "epoch: 11, [batch: 1 / 6720], examples_per_second: 3.9255, train_label_loss: 0.3351, \n"
     ]
    },
    {
     "name": "stdout",
     "output_type": "stream",
     "text": [
      "epoch: 11, [batch: 672 / 6720], examples_per_second: 3880.8478, train_label_loss: 0.1938, \n"
     ]
    },
    {
     "name": "stdout",
     "output_type": "stream",
     "text": [
      "epoch: 11, [batch: 1344 / 6720], examples_per_second: 3984.6850, train_label_loss: 0.0784, \n"
     ]
    },
    {
     "name": "stdout",
     "output_type": "stream",
     "text": [
      "epoch: 11, [batch: 2016 / 6720], examples_per_second: 3920.6861, train_label_loss: 0.1037, \n"
     ]
    },
    {
     "name": "stdout",
     "output_type": "stream",
     "text": [
      "epoch: 11, [batch: 2688 / 6720], examples_per_second: 3919.8956, train_label_loss: 0.3747, \n"
     ]
    },
    {
     "name": "stdout",
     "output_type": "stream",
     "text": [
      "epoch: 11, [batch: 3360 / 6720], examples_per_second: 3925.0942, train_label_loss: 0.3208, \n"
     ]
    },
    {
     "name": "stdout",
     "output_type": "stream",
     "text": [
      "epoch: 11, [batch: 4032 / 6720], examples_per_second: 3888.2046, train_label_loss: 0.1961, \n"
     ]
    },
    {
     "name": "stdout",
     "output_type": "stream",
     "text": [
      "epoch: 11, [batch: 4704 / 6720], examples_per_second: 3871.5169, train_label_loss: 0.2623, \n"
     ]
    },
    {
     "name": "stdout",
     "output_type": "stream",
     "text": [
      "epoch: 11, [batch: 5376 / 6720], examples_per_second: 3833.5875, train_label_loss: 0.1794, \n"
     ]
    },
    {
     "name": "stdout",
     "output_type": "stream",
     "text": [
      "epoch: 11, [batch: 6048 / 6720], examples_per_second: 3866.1189, train_label_loss: 0.3479, \n"
     ]
    },
    {
     "name": "stdout",
     "output_type": "stream",
     "text": [
      "=============================================================\n",
      "epoch: 11, source_val_acc_label: 0.8167, target_val_acc_label: 0.8571, source_val_label_loss: 0.5620, target_val_label_loss: 108.0894, \n",
      "=============================================================\n"
     ]
    },
    {
     "name": "stdout",
     "output_type": "stream",
     "text": [
      "New best\n"
     ]
    },
    {
     "name": "stdout",
     "output_type": "stream",
     "text": [
      "epoch: 12, [batch: 1 / 6720], examples_per_second: 4.0297, train_label_loss: 0.0997, \n"
     ]
    },
    {
     "name": "stdout",
     "output_type": "stream",
     "text": [
      "epoch: 12, [batch: 672 / 6720], examples_per_second: 3893.4888, train_label_loss: 0.4094, \n"
     ]
    },
    {
     "name": "stdout",
     "output_type": "stream",
     "text": [
      "epoch: 12, [batch: 1344 / 6720], examples_per_second: 3884.8308, train_label_loss: 0.4384, \n"
     ]
    },
    {
     "name": "stdout",
     "output_type": "stream",
     "text": [
      "epoch: 12, [batch: 2016 / 6720], examples_per_second: 3900.8779, train_label_loss: 0.1069, \n"
     ]
    },
    {
     "name": "stdout",
     "output_type": "stream",
     "text": [
      "epoch: 12, [batch: 2688 / 6720], examples_per_second: 3925.8729, train_label_loss: 0.0146, \n"
     ]
    },
    {
     "name": "stdout",
     "output_type": "stream",
     "text": [
      "epoch: 12, [batch: 3360 / 6720], examples_per_second: 3893.2404, train_label_loss: 0.3096, \n"
     ]
    },
    {
     "name": "stdout",
     "output_type": "stream",
     "text": [
      "epoch: 12, [batch: 4032 / 6720], examples_per_second: 3987.1424, train_label_loss: 0.2792, \n"
     ]
    },
    {
     "name": "stdout",
     "output_type": "stream",
     "text": [
      "epoch: 12, [batch: 4704 / 6720], examples_per_second: 4024.6793, train_label_loss: 0.2137, \n"
     ]
    },
    {
     "name": "stdout",
     "output_type": "stream",
     "text": [
      "epoch: 12, [batch: 5376 / 6720], examples_per_second: 3995.3978, train_label_loss: 0.2374, \n"
     ]
    },
    {
     "name": "stdout",
     "output_type": "stream",
     "text": [
      "epoch: 12, [batch: 6048 / 6720], examples_per_second: 4003.7969, train_label_loss: 0.4861, \n"
     ]
    },
    {
     "name": "stdout",
     "output_type": "stream",
     "text": [
      "=============================================================\n",
      "epoch: 12, source_val_acc_label: 0.8223, target_val_acc_label: 0.8579, source_val_label_loss: 0.5617, target_val_label_loss: 96.1675, \n",
      "=============================================================\n"
     ]
    },
    {
     "name": "stdout",
     "output_type": "stream",
     "text": [
      "New best\n"
     ]
    },
    {
     "name": "stdout",
     "output_type": "stream",
     "text": [
      "epoch: 13, [batch: 1 / 6720], examples_per_second: 3.9536, train_label_loss: 0.2061, \n"
     ]
    },
    {
     "name": "stdout",
     "output_type": "stream",
     "text": [
      "epoch: 13, [batch: 672 / 6720], examples_per_second: 3972.5383, train_label_loss: 0.0752, \n"
     ]
    },
    {
     "name": "stdout",
     "output_type": "stream",
     "text": [
      "epoch: 13, [batch: 1344 / 6720], examples_per_second: 3931.6454, train_label_loss: 0.1333, \n"
     ]
    },
    {
     "name": "stdout",
     "output_type": "stream",
     "text": [
      "epoch: 13, [batch: 2016 / 6720], examples_per_second: 4241.4821, train_label_loss: 0.2671, \n"
     ]
    },
    {
     "name": "stdout",
     "output_type": "stream",
     "text": [
      "epoch: 13, [batch: 2688 / 6720], examples_per_second: 4283.7108, train_label_loss: 0.0646, \n"
     ]
    },
    {
     "name": "stdout",
     "output_type": "stream",
     "text": [
      "epoch: 13, [batch: 3360 / 6720], examples_per_second: 4414.4122, train_label_loss: 0.3018, \n"
     ]
    },
    {
     "name": "stdout",
     "output_type": "stream",
     "text": [
      "epoch: 13, [batch: 4032 / 6720], examples_per_second: 4213.8279, train_label_loss: 0.0482, \n"
     ]
    },
    {
     "name": "stdout",
     "output_type": "stream",
     "text": [
      "epoch: 13, [batch: 4704 / 6720], examples_per_second: 4319.9532, train_label_loss: 0.1096, \n"
     ]
    },
    {
     "name": "stdout",
     "output_type": "stream",
     "text": [
      "epoch: 13, [batch: 5376 / 6720], examples_per_second: 4481.1325, train_label_loss: 0.0508, \n"
     ]
    },
    {
     "name": "stdout",
     "output_type": "stream",
     "text": [
      "epoch: 13, [batch: 6048 / 6720], examples_per_second: 5062.8357, train_label_loss: 0.4236, \n"
     ]
    },
    {
     "name": "stdout",
     "output_type": "stream",
     "text": [
      "=============================================================\n",
      "epoch: 13, source_val_acc_label: 0.8243, target_val_acc_label: 0.8611, source_val_label_loss: 0.5728, target_val_label_loss: 120.0741, \n",
      "=============================================================\n"
     ]
    },
    {
     "name": "stdout",
     "output_type": "stream",
     "text": [
      "New best\n"
     ]
    },
    {
     "name": "stdout",
     "output_type": "stream",
     "text": [
      "epoch: 14, [batch: 1 / 6720], examples_per_second: 4.3310, train_label_loss: 0.3637, \n"
     ]
    },
    {
     "name": "stdout",
     "output_type": "stream",
     "text": [
      "epoch: 14, [batch: 672 / 6720], examples_per_second: 3918.9873, train_label_loss: 0.1881, \n"
     ]
    },
    {
     "name": "stdout",
     "output_type": "stream",
     "text": [
      "epoch: 14, [batch: 1344 / 6720], examples_per_second: 3825.2366, train_label_loss: 0.1751, \n"
     ]
    },
    {
     "name": "stdout",
     "output_type": "stream",
     "text": [
      "epoch: 14, [batch: 2016 / 6720], examples_per_second: 3789.5469, train_label_loss: 0.0253, \n"
     ]
    },
    {
     "name": "stdout",
     "output_type": "stream",
     "text": [
      "epoch: 14, [batch: 2688 / 6720], examples_per_second: 3871.2069, train_label_loss: 0.1851, \n"
     ]
    },
    {
     "name": "stdout",
     "output_type": "stream",
     "text": [
      "epoch: 14, [batch: 3360 / 6720], examples_per_second: 3945.1228, train_label_loss: 0.1729, \n"
     ]
    },
    {
     "name": "stdout",
     "output_type": "stream",
     "text": [
      "epoch: 14, [batch: 4032 / 6720], examples_per_second: 3988.8008, train_label_loss: 0.1752, \n"
     ]
    },
    {
     "name": "stdout",
     "output_type": "stream",
     "text": [
      "epoch: 14, [batch: 4704 / 6720], examples_per_second: 3974.5398, train_label_loss: 0.1224, \n"
     ]
    },
    {
     "name": "stdout",
     "output_type": "stream",
     "text": [
      "epoch: 14, [batch: 5376 / 6720], examples_per_second: 4005.8422, train_label_loss: 0.1566, \n"
     ]
    },
    {
     "name": "stdout",
     "output_type": "stream",
     "text": [
      "epoch: 14, [batch: 6048 / 6720], examples_per_second: 3974.7487, train_label_loss: 0.2810, \n"
     ]
    },
    {
     "name": "stdout",
     "output_type": "stream",
     "text": [
      "=============================================================\n",
      "epoch: 14, source_val_acc_label: 0.8202, target_val_acc_label: 0.8652, source_val_label_loss: 0.5935, target_val_label_loss: 106.2113, \n",
      "=============================================================\n"
     ]
    },
    {
     "name": "stdout",
     "output_type": "stream",
     "text": [
      "New best\n"
     ]
    },
    {
     "name": "stdout",
     "output_type": "stream",
     "text": [
      "epoch: 15, [batch: 1 / 6720], examples_per_second: 3.9047, train_label_loss: 0.0974, \n"
     ]
    },
    {
     "name": "stdout",
     "output_type": "stream",
     "text": [
      "epoch: 15, [batch: 672 / 6720], examples_per_second: 3919.3707, train_label_loss: 0.1055, \n"
     ]
    },
    {
     "name": "stdout",
     "output_type": "stream",
     "text": [
      "epoch: 15, [batch: 1344 / 6720], examples_per_second: 3908.9378, train_label_loss: 0.2589, \n"
     ]
    },
    {
     "name": "stdout",
     "output_type": "stream",
     "text": [
      "epoch: 15, [batch: 2016 / 6720], examples_per_second: 4053.9160, train_label_loss: 0.2010, \n"
     ]
    },
    {
     "name": "stdout",
     "output_type": "stream",
     "text": [
      "epoch: 15, [batch: 2688 / 6720], examples_per_second: 3942.4706, train_label_loss: 0.3038, \n"
     ]
    },
    {
     "name": "stdout",
     "output_type": "stream",
     "text": [
      "epoch: 15, [batch: 3360 / 6720], examples_per_second: 3952.0594, train_label_loss: 0.1565, \n"
     ]
    },
    {
     "name": "stdout",
     "output_type": "stream",
     "text": [
      "epoch: 15, [batch: 4032 / 6720], examples_per_second: 3875.2745, train_label_loss: 0.2871, \n"
     ]
    },
    {
     "name": "stdout",
     "output_type": "stream",
     "text": [
      "epoch: 15, [batch: 4704 / 6720], examples_per_second: 3934.0901, train_label_loss: 0.0359, \n"
     ]
    },
    {
     "name": "stdout",
     "output_type": "stream",
     "text": [
      "epoch: 15, [batch: 5376 / 6720], examples_per_second: 3962.0365, train_label_loss: 0.2892, \n"
     ]
    },
    {
     "name": "stdout",
     "output_type": "stream",
     "text": [
      "epoch: 15, [batch: 6048 / 6720], examples_per_second: 3932.6541, train_label_loss: 0.0962, \n"
     ]
    },
    {
     "name": "stdout",
     "output_type": "stream",
     "text": [
      "=============================================================\n",
      "epoch: 15, source_val_acc_label: 0.8182, target_val_acc_label: 0.8705, source_val_label_loss: 0.5911, target_val_label_loss: 102.0169, \n",
      "=============================================================\n"
     ]
    },
    {
     "name": "stdout",
     "output_type": "stream",
     "text": [
      "New best\n"
     ]
    },
    {
     "name": "stdout",
     "output_type": "stream",
     "text": [
      "epoch: 16, [batch: 1 / 6720], examples_per_second: 4.0180, train_label_loss: 0.2717, \n"
     ]
    },
    {
     "name": "stdout",
     "output_type": "stream",
     "text": [
      "epoch: 16, [batch: 672 / 6720], examples_per_second: 3897.7226, train_label_loss: 0.0131, \n"
     ]
    },
    {
     "name": "stdout",
     "output_type": "stream",
     "text": [
      "epoch: 16, [batch: 1344 / 6720], examples_per_second: 4004.0728, train_label_loss: 0.0958, \n"
     ]
    },
    {
     "name": "stdout",
     "output_type": "stream",
     "text": [
      "epoch: 16, [batch: 2016 / 6720], examples_per_second: 3979.5929, train_label_loss: 0.2500, \n"
     ]
    },
    {
     "name": "stdout",
     "output_type": "stream",
     "text": [
      "epoch: 16, [batch: 2688 / 6720], examples_per_second: 3978.7476, train_label_loss: 0.0797, \n"
     ]
    },
    {
     "name": "stdout",
     "output_type": "stream",
     "text": [
      "epoch: 16, [batch: 3360 / 6720], examples_per_second: 4037.4769, train_label_loss: 0.2218, \n"
     ]
    },
    {
     "name": "stdout",
     "output_type": "stream",
     "text": [
      "epoch: 16, [batch: 4032 / 6720], examples_per_second: 3977.3281, train_label_loss: 0.0195, \n"
     ]
    },
    {
     "name": "stdout",
     "output_type": "stream",
     "text": [
      "epoch: 16, [batch: 4704 / 6720], examples_per_second: 4023.0337, train_label_loss: 0.2666, \n"
     ]
    },
    {
     "name": "stdout",
     "output_type": "stream",
     "text": [
      "epoch: 16, [batch: 5376 / 6720], examples_per_second: 3870.5416, train_label_loss: 0.1212, \n"
     ]
    },
    {
     "name": "stdout",
     "output_type": "stream",
     "text": [
      "epoch: 16, [batch: 6048 / 6720], examples_per_second: 3998.5135, train_label_loss: 0.0167, \n"
     ]
    },
    {
     "name": "stdout",
     "output_type": "stream",
     "text": [
      "=============================================================\n",
      "epoch: 16, source_val_acc_label: 0.8184, target_val_acc_label: 0.8649, source_val_label_loss: 0.5971, target_val_label_loss: 115.1957, \n",
      "=============================================================\n"
     ]
    },
    {
     "name": "stdout",
     "output_type": "stream",
     "text": [
      "epoch: 17, [batch: 1 / 6720], examples_per_second: 3.9662, train_label_loss: 0.0740, \n"
     ]
    },
    {
     "name": "stdout",
     "output_type": "stream",
     "text": [
      "epoch: 17, [batch: 672 / 6720], examples_per_second: 3914.9065, train_label_loss: 0.1395, \n"
     ]
    },
    {
     "name": "stdout",
     "output_type": "stream",
     "text": [
      "epoch: 17, [batch: 1344 / 6720], examples_per_second: 3940.9073, train_label_loss: 0.0549, \n"
     ]
    },
    {
     "name": "stdout",
     "output_type": "stream",
     "text": [
      "epoch: 17, [batch: 2016 / 6720], examples_per_second: 4024.0178, train_label_loss: 0.0879, \n"
     ]
    },
    {
     "name": "stdout",
     "output_type": "stream",
     "text": [
      "epoch: 17, [batch: 2688 / 6720], examples_per_second: 3918.1965, train_label_loss: 0.0967, \n"
     ]
    },
    {
     "name": "stdout",
     "output_type": "stream",
     "text": [
      "epoch: 17, [batch: 3360 / 6720], examples_per_second: 4047.3725, train_label_loss: 0.2902, \n"
     ]
    },
    {
     "name": "stdout",
     "output_type": "stream",
     "text": [
      "epoch: 17, [batch: 4032 / 6720], examples_per_second: 4032.8969, train_label_loss: 0.2896, \n"
     ]
    },
    {
     "name": "stdout",
     "output_type": "stream",
     "text": [
      "epoch: 17, [batch: 4704 / 6720], examples_per_second: 4022.3404, train_label_loss: 0.2393, \n"
     ]
    },
    {
     "name": "stdout",
     "output_type": "stream",
     "text": [
      "epoch: 17, [batch: 5376 / 6720], examples_per_second: 3960.6348, train_label_loss: 0.0813, \n"
     ]
    },
    {
     "name": "stdout",
     "output_type": "stream",
     "text": [
      "epoch: 17, [batch: 6048 / 6720], examples_per_second: 4033.9112, train_label_loss: 0.4376, \n"
     ]
    },
    {
     "name": "stdout",
     "output_type": "stream",
     "text": [
      "=============================================================\n",
      "epoch: 17, source_val_acc_label: 0.8140, target_val_acc_label: 0.8673, source_val_label_loss: 0.6292, target_val_label_loss: 115.5829, \n",
      "=============================================================\n"
     ]
    },
    {
     "name": "stdout",
     "output_type": "stream",
     "text": [
      "epoch: 18, [batch: 1 / 6720], examples_per_second: 4.0625, train_label_loss: 0.0661, \n"
     ]
    },
    {
     "name": "stdout",
     "output_type": "stream",
     "text": [
      "epoch: 18, [batch: 672 / 6720], examples_per_second: 4185.1228, train_label_loss: 0.3374, \n"
     ]
    },
    {
     "name": "stdout",
     "output_type": "stream",
     "text": [
      "epoch: 18, [batch: 1344 / 6720], examples_per_second: 4272.9089, train_label_loss: 0.1103, \n"
     ]
    },
    {
     "name": "stdout",
     "output_type": "stream",
     "text": [
      "epoch: 18, [batch: 2016 / 6720], examples_per_second: 4264.7218, train_label_loss: 0.0221, \n"
     ]
    },
    {
     "name": "stdout",
     "output_type": "stream",
     "text": [
      "epoch: 18, [batch: 2688 / 6720], examples_per_second: 4751.7260, train_label_loss: 0.1602, \n"
     ]
    },
    {
     "name": "stdout",
     "output_type": "stream",
     "text": [
      "epoch: 18, [batch: 3360 / 6720], examples_per_second: 5145.8229, train_label_loss: 0.2107, \n"
     ]
    },
    {
     "name": "stdout",
     "output_type": "stream",
     "text": [
      "epoch: 18, [batch: 4032 / 6720], examples_per_second: 5088.6279, train_label_loss: 0.1069, \n"
     ]
    },
    {
     "name": "stdout",
     "output_type": "stream",
     "text": [
      "epoch: 18, [batch: 4704 / 6720], examples_per_second: 4510.7391, train_label_loss: 0.0972, \n"
     ]
    },
    {
     "name": "stdout",
     "output_type": "stream",
     "text": [
      "epoch: 18, [batch: 5376 / 6720], examples_per_second: 3938.4760, train_label_loss: 0.1146, \n"
     ]
    },
    {
     "name": "stdout",
     "output_type": "stream",
     "text": [
      "epoch: 18, [batch: 6048 / 6720], examples_per_second: 4021.7327, train_label_loss: 0.0417, \n"
     ]
    },
    {
     "name": "stdout",
     "output_type": "stream",
     "text": [
      "=============================================================\n",
      "epoch: 18, source_val_acc_label: 0.8145, target_val_acc_label: 0.8675, source_val_label_loss: 0.6301, target_val_label_loss: 110.3334, \n",
      "=============================================================\n"
     ]
    },
    {
     "name": "stdout",
     "output_type": "stream",
     "text": [
      "epoch: 19, [batch: 1 / 6720], examples_per_second: 3.9736, train_label_loss: 0.1345, \n"
     ]
    },
    {
     "name": "stdout",
     "output_type": "stream",
     "text": [
      "epoch: 19, [batch: 672 / 6720], examples_per_second: 3967.5680, train_label_loss: 0.0906, \n"
     ]
    },
    {
     "name": "stdout",
     "output_type": "stream",
     "text": [
      "epoch: 19, [batch: 1344 / 6720], examples_per_second: 3950.5049, train_label_loss: 0.1738, \n"
     ]
    },
    {
     "name": "stdout",
     "output_type": "stream",
     "text": [
      "epoch: 19, [batch: 2016 / 6720], examples_per_second: 4007.6509, train_label_loss: 0.0251, \n"
     ]
    },
    {
     "name": "stdout",
     "output_type": "stream",
     "text": [
      "epoch: 19, [batch: 2688 / 6720], examples_per_second: 3892.8597, train_label_loss: 0.1951, \n"
     ]
    },
    {
     "name": "stdout",
     "output_type": "stream",
     "text": [
      "epoch: 19, [batch: 3360 / 6720], examples_per_second: 3877.6776, train_label_loss: 0.1521, \n"
     ]
    },
    {
     "name": "stdout",
     "output_type": "stream",
     "text": [
      "epoch: 19, [batch: 4032 / 6720], examples_per_second: 3921.5135, train_label_loss: 0.0813, \n"
     ]
    },
    {
     "name": "stdout",
     "output_type": "stream",
     "text": [
      "epoch: 19, [batch: 4704 / 6720], examples_per_second: 3839.7724, train_label_loss: 0.0027, \n"
     ]
    },
    {
     "name": "stdout",
     "output_type": "stream",
     "text": [
      "epoch: 19, [batch: 5376 / 6720], examples_per_second: 3887.5629, train_label_loss: 0.0785, \n"
     ]
    },
    {
     "name": "stdout",
     "output_type": "stream",
     "text": [
      "epoch: 19, [batch: 6048 / 6720], examples_per_second: 3922.1797, train_label_loss: 0.0526, \n"
     ]
    },
    {
     "name": "stdout",
     "output_type": "stream",
     "text": [
      "=============================================================\n",
      "epoch: 19, source_val_acc_label: 0.8104, target_val_acc_label: 0.8722, source_val_label_loss: 0.6519, target_val_label_loss: 103.9411, \n",
      "=============================================================\n"
     ]
    },
    {
     "name": "stdout",
     "output_type": "stream",
     "text": [
      "New best\n"
     ]
    },
    {
     "name": "stdout",
     "output_type": "stream",
     "text": [
      "epoch: 20, [batch: 1 / 6720], examples_per_second: 3.9987, train_label_loss: 0.0768, \n"
     ]
    },
    {
     "name": "stdout",
     "output_type": "stream",
     "text": [
      "epoch: 20, [batch: 672 / 6720], examples_per_second: 3855.6054, train_label_loss: 0.0925, \n"
     ]
    },
    {
     "name": "stdout",
     "output_type": "stream",
     "text": [
      "epoch: 20, [batch: 1344 / 6720], examples_per_second: 3903.7635, train_label_loss: 0.0641, \n"
     ]
    },
    {
     "name": "stdout",
     "output_type": "stream",
     "text": [
      "epoch: 20, [batch: 2016 / 6720], examples_per_second: 3894.4175, train_label_loss: 0.2125, \n"
     ]
    },
    {
     "name": "stdout",
     "output_type": "stream",
     "text": [
      "epoch: 20, [batch: 2688 / 6720], examples_per_second: 3895.8664, train_label_loss: 0.1543, \n"
     ]
    },
    {
     "name": "stdout",
     "output_type": "stream",
     "text": [
      "epoch: 20, [batch: 3360 / 6720], examples_per_second: 3990.2467, train_label_loss: 0.1247, \n"
     ]
    },
    {
     "name": "stdout",
     "output_type": "stream",
     "text": [
      "epoch: 20, [batch: 4032 / 6720], examples_per_second: 3985.2968, train_label_loss: 0.0269, \n"
     ]
    },
    {
     "name": "stdout",
     "output_type": "stream",
     "text": [
      "epoch: 20, [batch: 4704 / 6720], examples_per_second: 3946.1333, train_label_loss: 0.0422, \n"
     ]
    },
    {
     "name": "stdout",
     "output_type": "stream",
     "text": [
      "epoch: 20, [batch: 5376 / 6720], examples_per_second: 4148.7480, train_label_loss: 0.0934, \n"
     ]
    },
    {
     "name": "stdout",
     "output_type": "stream",
     "text": [
      "epoch: 20, [batch: 6048 / 6720], examples_per_second: 3836.9899, train_label_loss: 0.3818, \n"
     ]
    },
    {
     "name": "stdout",
     "output_type": "stream",
     "text": [
      "=============================================================\n",
      "epoch: 20, source_val_acc_label: 0.8126, target_val_acc_label: 0.8739, source_val_label_loss: 0.6580, target_val_label_loss: 110.1612, \n",
      "=============================================================\n"
     ]
    },
    {
     "name": "stdout",
     "output_type": "stream",
     "text": [
      "New best\n"
     ]
    },
    {
     "name": "stdout",
     "output_type": "stream",
     "text": [
      "epoch: 21, [batch: 1 / 6720], examples_per_second: 3.9451, train_label_loss: 0.3492, \n"
     ]
    },
    {
     "name": "stdout",
     "output_type": "stream",
     "text": [
      "epoch: 21, [batch: 672 / 6720], examples_per_second: 3950.0220, train_label_loss: 0.2268, \n"
     ]
    },
    {
     "name": "stdout",
     "output_type": "stream",
     "text": [
      "epoch: 21, [batch: 1344 / 6720], examples_per_second: 3953.1315, train_label_loss: 0.0927, \n"
     ]
    },
    {
     "name": "stdout",
     "output_type": "stream",
     "text": [
      "epoch: 21, [batch: 2016 / 6720], examples_per_second: 4039.2778, train_label_loss: 0.1644, \n"
     ]
    },
    {
     "name": "stdout",
     "output_type": "stream",
     "text": [
      "epoch: 21, [batch: 2688 / 6720], examples_per_second: 4000.4251, train_label_loss: 0.1436, \n"
     ]
    },
    {
     "name": "stdout",
     "output_type": "stream",
     "text": [
      "epoch: 21, [batch: 3360 / 6720], examples_per_second: 3908.3963, train_label_loss: 0.2160, \n"
     ]
    },
    {
     "name": "stdout",
     "output_type": "stream",
     "text": [
      "epoch: 21, [batch: 4032 / 6720], examples_per_second: 3915.1332, train_label_loss: 0.3587, \n"
     ]
    },
    {
     "name": "stdout",
     "output_type": "stream",
     "text": [
      "epoch: 21, [batch: 4704 / 6720], examples_per_second: 3901.4594, train_label_loss: 0.0112, \n"
     ]
    },
    {
     "name": "stdout",
     "output_type": "stream",
     "text": [
      "epoch: 21, [batch: 5376 / 6720], examples_per_second: 3908.5739, train_label_loss: 0.1887, \n"
     ]
    },
    {
     "name": "stdout",
     "output_type": "stream",
     "text": [
      "epoch: 21, [batch: 6048 / 6720], examples_per_second: 3904.6109, train_label_loss: 0.1032, \n"
     ]
    },
    {
     "name": "stdout",
     "output_type": "stream",
     "text": [
      "=============================================================\n",
      "epoch: 21, source_val_acc_label: 0.8072, target_val_acc_label: 0.8719, source_val_label_loss: 0.6454, target_val_label_loss: 109.4349, \n",
      "=============================================================\n"
     ]
    },
    {
     "name": "stdout",
     "output_type": "stream",
     "text": [
      "epoch: 22, [batch: 1 / 6720], examples_per_second: 3.9941, train_label_loss: 0.0143, \n"
     ]
    },
    {
     "name": "stdout",
     "output_type": "stream",
     "text": [
      "epoch: 22, [batch: 672 / 6720], examples_per_second: 3977.3348, train_label_loss: 0.0714, \n"
     ]
    },
    {
     "name": "stdout",
     "output_type": "stream",
     "text": [
      "epoch: 22, [batch: 1344 / 6720], examples_per_second: 4092.6850, train_label_loss: 0.2609, \n"
     ]
    },
    {
     "name": "stdout",
     "output_type": "stream",
     "text": [
      "epoch: 22, [batch: 2016 / 6720], examples_per_second: 3962.3289, train_label_loss: 0.0135, \n"
     ]
    },
    {
     "name": "stdout",
     "output_type": "stream",
     "text": [
      "epoch: 22, [batch: 2688 / 6720], examples_per_second: 3860.6210, train_label_loss: 0.0051, \n"
     ]
    },
    {
     "name": "stdout",
     "output_type": "stream",
     "text": [
      "epoch: 22, [batch: 3360 / 6720], examples_per_second: 3931.7012, train_label_loss: 0.0080, \n"
     ]
    },
    {
     "name": "stdout",
     "output_type": "stream",
     "text": [
      "epoch: 22, [batch: 4032 / 6720], examples_per_second: 3994.1791, train_label_loss: 0.1695, \n"
     ]
    },
    {
     "name": "stdout",
     "output_type": "stream",
     "text": [
      "epoch: 22, [batch: 4704 / 6720], examples_per_second: 4021.5034, train_label_loss: 0.0478, \n"
     ]
    },
    {
     "name": "stdout",
     "output_type": "stream",
     "text": [
      "epoch: 22, [batch: 5376 / 6720], examples_per_second: 4019.0147, train_label_loss: 0.2009, \n"
     ]
    },
    {
     "name": "stdout",
     "output_type": "stream",
     "text": [
      "epoch: 22, [batch: 6048 / 6720], examples_per_second: 4263.5656, train_label_loss: 0.1203, \n"
     ]
    },
    {
     "name": "stdout",
     "output_type": "stream",
     "text": [
      "=============================================================\n",
      "epoch: 22, source_val_acc_label: 0.8118, target_val_acc_label: 0.8719, source_val_label_loss: 0.6724, target_val_label_loss: 110.1691, \n",
      "=============================================================\n"
     ]
    },
    {
     "name": "stdout",
     "output_type": "stream",
     "text": [
      "epoch: 23, [batch: 1 / 6720], examples_per_second: 4.2655, train_label_loss: 0.0176, \n"
     ]
    },
    {
     "name": "stdout",
     "output_type": "stream",
     "text": [
      "epoch: 23, [batch: 672 / 6720], examples_per_second: 4414.6559, train_label_loss: 0.0244, \n"
     ]
    },
    {
     "name": "stdout",
     "output_type": "stream",
     "text": [
      "epoch: 23, [batch: 1344 / 6720], examples_per_second: 4911.8614, train_label_loss: 0.0384, \n"
     ]
    },
    {
     "name": "stdout",
     "output_type": "stream",
     "text": [
      "epoch: 23, [batch: 2016 / 6720], examples_per_second: 4963.3996, train_label_loss: 0.0207, \n"
     ]
    },
    {
     "name": "stdout",
     "output_type": "stream",
     "text": [
      "epoch: 23, [batch: 2688 / 6720], examples_per_second: 4121.3939, train_label_loss: 0.1419, \n"
     ]
    },
    {
     "name": "stdout",
     "output_type": "stream",
     "text": [
      "epoch: 23, [batch: 3360 / 6720], examples_per_second: 4008.5919, train_label_loss: 0.0793, \n"
     ]
    },
    {
     "name": "stdout",
     "output_type": "stream",
     "text": [
      "epoch: 23, [batch: 4032 / 6720], examples_per_second: 4033.4152, train_label_loss: 0.0112, \n"
     ]
    },
    {
     "name": "stdout",
     "output_type": "stream",
     "text": [
      "epoch: 23, [batch: 4704 / 6720], examples_per_second: 4021.1907, train_label_loss: 0.0863, \n"
     ]
    },
    {
     "name": "stdout",
     "output_type": "stream",
     "text": [
      "epoch: 23, [batch: 5376 / 6720], examples_per_second: 3937.5986, train_label_loss: 0.0980, \n"
     ]
    },
    {
     "name": "stdout",
     "output_type": "stream",
     "text": [
      "epoch: 23, [batch: 6048 / 6720], examples_per_second: 3915.6346, train_label_loss: 0.0587, \n"
     ]
    },
    {
     "name": "stdout",
     "output_type": "stream",
     "text": [
      "=============================================================\n",
      "epoch: 23, source_val_acc_label: 0.8127, target_val_acc_label: 0.8724, source_val_label_loss: 0.6875, target_val_label_loss: 106.6797, \n",
      "=============================================================\n"
     ]
    },
    {
     "name": "stdout",
     "output_type": "stream",
     "text": [
      "epoch: 24, [batch: 1 / 6720], examples_per_second: 3.9399, train_label_loss: 0.0717, \n"
     ]
    },
    {
     "name": "stdout",
     "output_type": "stream",
     "text": [
      "epoch: 24, [batch: 672 / 6720], examples_per_second: 3975.5352, train_label_loss: 0.0714, \n"
     ]
    },
    {
     "name": "stdout",
     "output_type": "stream",
     "text": [
      "epoch: 24, [batch: 1344 / 6720], examples_per_second: 3957.8313, train_label_loss: 0.0860, \n"
     ]
    },
    {
     "name": "stdout",
     "output_type": "stream",
     "text": [
      "epoch: 24, [batch: 2016 / 6720], examples_per_second: 3967.1852, train_label_loss: 0.0187, \n"
     ]
    },
    {
     "name": "stdout",
     "output_type": "stream",
     "text": [
      "epoch: 24, [batch: 2688 / 6720], examples_per_second: 3914.4682, train_label_loss: 0.0027, \n"
     ]
    },
    {
     "name": "stdout",
     "output_type": "stream",
     "text": [
      "epoch: 24, [batch: 3360 / 6720], examples_per_second: 4003.6130, train_label_loss: 0.5471, \n"
     ]
    },
    {
     "name": "stdout",
     "output_type": "stream",
     "text": [
      "epoch: 24, [batch: 4032 / 6720], examples_per_second: 3968.5031, train_label_loss: 0.1138, \n"
     ]
    },
    {
     "name": "stdout",
     "output_type": "stream",
     "text": [
      "epoch: 24, [batch: 4704 / 6720], examples_per_second: 3969.0728, train_label_loss: 0.1090, \n"
     ]
    },
    {
     "name": "stdout",
     "output_type": "stream",
     "text": [
      "epoch: 24, [batch: 5376 / 6720], examples_per_second: 3973.6104, train_label_loss: 0.0025, \n"
     ]
    },
    {
     "name": "stdout",
     "output_type": "stream",
     "text": [
      "epoch: 24, [batch: 6048 / 6720], examples_per_second: 3962.4051, train_label_loss: 0.0794, \n"
     ]
    },
    {
     "name": "stdout",
     "output_type": "stream",
     "text": [
      "=============================================================\n",
      "epoch: 24, source_val_acc_label: 0.8043, target_val_acc_label: 0.8738, source_val_label_loss: 0.7208, target_val_label_loss: 122.3154, \n",
      "=============================================================\n"
     ]
    },
    {
     "name": "stdout",
     "output_type": "stream",
     "text": [
      "Patience (3) exhausted\n"
     ]
    }
   ],
   "source": [
    "###################################\n",
    "# train\n",
    "###################################\n",
    "jig = PTN_Train_Eval_Test_Jig(model, p.BEST_MODEL_PATH, p.device)\n",
    "\n",
    "jig.train(\n",
    "    train_iterable=datasets.source.processed.train,\n",
    "    source_val_iterable=datasets.source.processed.val,\n",
    "    target_val_iterable=datasets.target.processed.val,\n",
    "    num_epochs=p.n_epoch,\n",
    "    num_logs_per_epoch=p.NUM_LOGS_PER_EPOCH,\n",
    "    patience=p.patience,\n",
    "    optimizer=optimizer,\n",
    "    criteria_for_best=p.criteria_for_best,\n",
    ")"
   ]
  },
  {
   "cell_type": "code",
   "execution_count": 23,
   "id": "31e8fabf",
   "metadata": {
    "execution": {
     "iopub.execute_input": "2022-03-22T23:13:31.513024Z",
     "iopub.status.busy": "2022-03-22T23:13:31.512456Z",
     "iopub.status.idle": "2022-03-22T23:13:31.542935Z",
     "shell.execute_reply": "2022-03-22T23:13:31.542146Z"
    },
    "papermill": {
     "duration": 0.134863,
     "end_time": "2022-03-22T23:13:31.543116",
     "exception": false,
     "start_time": "2022-03-22T23:13:31.408253",
     "status": "completed"
    },
    "tags": []
   },
   "outputs": [],
   "source": [
    "total_experiment_time_secs = time.time() - start_time_secs"
   ]
  },
  {
   "cell_type": "code",
   "execution_count": 24,
   "id": "87b9595b",
   "metadata": {
    "execution": {
     "iopub.execute_input": "2022-03-22T23:13:31.753222Z",
     "iopub.status.busy": "2022-03-22T23:13:31.752226Z",
     "iopub.status.idle": "2022-03-22T23:16:25.388921Z",
     "shell.execute_reply": "2022-03-22T23:16:25.389594Z"
    },
    "papermill": {
     "duration": 173.740981,
     "end_time": "2022-03-22T23:16:25.389821",
     "exception": false,
     "start_time": "2022-03-22T23:13:31.648840",
     "status": "completed"
    },
    "tags": []
   },
   "outputs": [],
   "source": [
    "###################################\n",
    "# Evaluate the model\n",
    "###################################\n",
    "source_test_label_accuracy, source_test_label_loss = jig.test(datasets.source.processed.test)\n",
    "target_test_label_accuracy, target_test_label_loss = jig.test(datasets.target.processed.test)\n",
    "\n",
    "source_val_label_accuracy, source_val_label_loss = jig.test(datasets.source.processed.val)\n",
    "target_val_label_accuracy, target_val_label_loss = jig.test(datasets.target.processed.val)\n",
    "\n",
    "history = jig.get_history()\n",
    "\n",
    "total_epochs_trained = len(history[\"epoch_indices\"])\n",
    "\n",
    "val_dl = Iterable_Aggregator((datasets.source.original.val,datasets.target.original.val))\n",
    "\n",
    "confusion = ptn_confusion_by_domain_over_dataloader(model, p.device, val_dl)\n",
    "per_domain_accuracy = per_domain_accuracy_from_confusion(confusion)\n",
    "\n",
    "# Add a key to per_domain_accuracy for if it was a source domain\n",
    "for domain, accuracy in per_domain_accuracy.items():\n",
    "    per_domain_accuracy[domain] = {\n",
    "        \"accuracy\": accuracy,\n",
    "        \"source?\": domain in p.domains_source\n",
    "    }\n",
    "\n",
    "# Do an independent accuracy assesment JUST TO BE SURE!\n",
    "# _source_test_label_accuracy = independent_accuracy_assesment(model, datasets.source.processed.test, p.device)\n",
    "# _target_test_label_accuracy = independent_accuracy_assesment(model, datasets.target.processed.test, p.device)\n",
    "# _source_val_label_accuracy = independent_accuracy_assesment(model, datasets.source.processed.val, p.device)\n",
    "# _target_val_label_accuracy = independent_accuracy_assesment(model, datasets.target.processed.val, p.device)\n",
    "\n",
    "# assert(_source_test_label_accuracy == source_test_label_accuracy)\n",
    "# assert(_target_test_label_accuracy == target_test_label_accuracy)\n",
    "# assert(_source_val_label_accuracy == source_val_label_accuracy)\n",
    "# assert(_target_val_label_accuracy == target_val_label_accuracy)\n",
    "\n",
    "experiment = {\n",
    "    \"experiment_name\": p.experiment_name,\n",
    "    \"parameters\": dict(p),\n",
    "    \"results\": {\n",
    "        \"source_test_label_accuracy\": source_test_label_accuracy,\n",
    "        \"source_test_label_loss\": source_test_label_loss,\n",
    "        \"target_test_label_accuracy\": target_test_label_accuracy,\n",
    "        \"target_test_label_loss\": target_test_label_loss,\n",
    "        \"source_val_label_accuracy\": source_val_label_accuracy,\n",
    "        \"source_val_label_loss\": source_val_label_loss,\n",
    "        \"target_val_label_accuracy\": target_val_label_accuracy,\n",
    "        \"target_val_label_loss\": target_val_label_loss,\n",
    "        \"total_epochs_trained\": total_epochs_trained,\n",
    "        \"total_experiment_time_secs\": total_experiment_time_secs,\n",
    "        \"confusion\": confusion,\n",
    "        \"per_domain_accuracy\": per_domain_accuracy,\n",
    "    },\n",
    "    \"history\": history,\n",
    "    \"dataset_metrics\": get_dataset_metrics(datasets, \"ptn\"),\n",
    "}"
   ]
  },
  {
   "cell_type": "code",
   "execution_count": 25,
   "id": "54a21829",
   "metadata": {
    "execution": {
     "iopub.execute_input": "2022-03-22T23:16:25.608354Z",
     "iopub.status.busy": "2022-03-22T23:16:25.607836Z",
     "iopub.status.idle": "2022-03-22T23:16:25.825521Z",
     "shell.execute_reply": "2022-03-22T23:16:25.824696Z"
    },
    "papermill": {
     "duration": 0.330167,
     "end_time": "2022-03-22T23:16:25.825683",
     "exception": false,
     "start_time": "2022-03-22T23:16:25.495516",
     "status": "completed"
    },
    "tags": []
   },
   "outputs": [
    {
     "data": {
      "image/png": "[encoded data removed]",
      "text/plain": [
       "<Figure size 1080x504 with 1 Axes>"
      ]
     },
     "metadata": {
      "needs_background": "light"
     },
     "output_type": "display_data"
    }
   ],
   "source": [
    "ax = get_loss_curve(experiment)\n",
    "plt.show()"
   ]
  },
  {
   "cell_type": "code",
   "execution_count": 26,
   "id": "fd8a0f60",
   "metadata": {
    "execution": {
     "iopub.execute_input": "2022-03-22T23:16:26.034592Z",
     "iopub.status.busy": "2022-03-22T23:16:26.034217Z",
     "iopub.status.idle": "2022-03-22T23:16:26.377073Z",
     "shell.execute_reply": "2022-03-22T23:16:26.377752Z"
    },
    "papermill": {
     "duration": 0.448294,
     "end_time": "2022-03-22T23:16:26.377970",
     "exception": false,
     "start_time": "2022-03-22T23:16:25.929676",
     "status": "completed"
    },
    "tags": []
   },
   "outputs": [
    {
     "data": {
      "text/plain": [
       "<AxesSubplot:title={'center':'Results'}>"
      ]
     },
     "execution_count": 26,
     "metadata": {},
     "output_type": "execute_result"
    },
    {
     "data": {
      "image/png": "[encoded data removed]",
      "text/plain": [
       "<Figure size 1080x504 with 1 Axes>"
      ]
     },
     "metadata": {
      "needs_background": "light"
     },
     "output_type": "display_data"
    }
   ],
   "source": [
    "get_results_table(experiment)"
   ]
  },
  {
   "cell_type": "code",
   "execution_count": 27,
   "id": "cf8dc689",
   "metadata": {
    "execution": {
     "iopub.execute_input": "2022-03-22T23:16:26.598351Z",
     "iopub.status.busy": "2022-03-22T23:16:26.597978Z",
     "iopub.status.idle": "2022-03-22T23:16:26.847567Z",
     "shell.execute_reply": "2022-03-22T23:16:26.846703Z"
    },
    "papermill": {
     "duration": 0.36371,
     "end_time": "2022-03-22T23:16:26.847735",
     "exception": false,
     "start_time": "2022-03-22T23:16:26.484025",
     "status": "completed"
    },
    "tags": []
   },
   "outputs": [
    {
     "data": {
      "text/plain": [
       "<AxesSubplot:title={'center':'Per Domain Validation Accuracy'}, xlabel='domain'>"
      ]
     },
     "execution_count": 27,
     "metadata": {},
     "output_type": "execute_result"
    },
    {
     "data": {
      "image/png": "[encoded data removed]",
      "text/plain": [
       "<Figure size 1080x504 with 1 Axes>"
      ]
     },
     "metadata": {
      "needs_background": "light"
     },
     "output_type": "display_data"
    }
   ],
   "source": [
    "get_domain_accuracies(experiment)"
   ]
  },
  {
   "cell_type": "code",
   "execution_count": 28,
   "id": "a74ae082",
   "metadata": {
    "execution": {
     "iopub.execute_input": "2022-03-22T23:16:27.061113Z",
     "iopub.status.busy": "2022-03-22T23:16:27.060537Z",
     "iopub.status.idle": "2022-03-22T23:16:27.084011Z",
     "shell.execute_reply": "2022-03-22T23:16:27.083284Z"
    },
    "papermill": {
     "duration": 0.12884,
     "end_time": "2022-03-22T23:16:27.084171",
     "exception": false,
     "start_time": "2022-03-22T23:16:26.955331",
     "status": "completed"
    },
    "tags": []
   },
   "outputs": [
    {
     "name": "stdout",
     "output_type": "stream",
     "text": [
      "Source Test Label Accuracy: 0.8136067708333333 Target Test Label Accuracy: 0.8768439440993789\n",
      "Source Val Label Accuracy: 0.81259765625 Target Val Label Accuracy: 0.8739098837209303\n"
     ]
    }
   ],
   "source": [
    "print(\"Source Test Label Accuracy:\", experiment[\"results\"][\"source_test_label_accuracy\"], \"Target Test Label Accuracy:\", experiment[\"results\"][\"target_test_label_accuracy\"])\n",
    "print(\"Source Val Label Accuracy:\", experiment[\"results\"][\"source_val_label_accuracy\"], \"Target Val Label Accuracy:\", experiment[\"results\"][\"target_val_label_accuracy\"])"
   ]
  },
  {
   "cell_type": "code",
   "execution_count": 29,
   "id": "dacca602",
   "metadata": {
    "execution": {
     "iopub.execute_input": "2022-03-22T23:16:27.298086Z",
     "iopub.status.busy": "2022-03-22T23:16:27.297626Z",
     "iopub.status.idle": "2022-03-22T23:16:27.321508Z",
     "shell.execute_reply": "2022-03-22T23:16:27.322194Z"
    },
    "papermill": {
     "duration": 0.130822,
     "end_time": "2022-03-22T23:16:27.322379",
     "exception": false,
     "start_time": "2022-03-22T23:16:27.191557",
     "status": "completed"
    },
    "tags": [
     "experiment_json"
    ]
   },
   "outputs": [
    {
     "data": {
      "text/plain": [
       "'{\"experiment_name\": \"tl_1v2:wisig-oracle.run1.limited\", \"parameters\": {\"experiment_name\": \"tl_1v2:wisig-oracle.run1.limited\", \"device\": \"cuda\", \"lr\": 0.0001, \"n_shot\": 3, \"n_query\": 2, \"train_k_factor\": 3, \"val_k_factor\": 2, \"test_k_factor\": 2, \"torch_default_dtype\": \"torch.float32\", \"n_epoch\": 50, \"patience\": 3, \"criteria_for_best\": \"target_accuracy\", \"x_net\": [{\"class\": \"nnReshape\", \"kargs\": {\"shape\": [-1, 1, 2, 256]}}, {\"class\": \"Conv2d\", \"kargs\": {\"in_channels\": 1, \"out_channels\": 256, \"kernel_size\": [1, 7], \"bias\": false, \"padding\": [0, 3]}}, {\"class\": \"ReLU\", \"kargs\": {\"inplace\": true}}, {\"class\": \"BatchNorm2d\", \"kargs\": {\"num_features\": 256}}, {\"class\": \"Conv2d\", \"kargs\": {\"in_channels\": 256, \"out_channels\": 80, \"kernel_size\": [2, 7], \"bias\": true, \"padding\": [0, 3]}}, {\"class\": \"ReLU\", \"kargs\": {\"inplace\": true}}, {\"class\": \"BatchNorm2d\", \"kargs\": {\"num_features\": 80}}, {\"class\": \"Flatten\", \"kargs\": {}}, {\"class\": \"Linear\", \"kargs\": {\"in_features\": 20480, \"out_features\": 256}}, {\"class\": \"ReLU\", \"kargs\": {\"inplace\": true}}, {\"class\": \"BatchNorm1d\", \"kargs\": {\"num_features\": 256}}, {\"class\": \"Linear\", \"kargs\": {\"in_features\": 256, \"out_features\": 256}}], \"NUM_LOGS_PER_EPOCH\": 10, \"BEST_MODEL_PATH\": \"./best_model.pth\", \"n_way\": 16, \"datasets\": [{\"labels\": [\"1-10\", \"1-12\", \"1-14\", \"1-16\", \"1-18\", \"1-19\", \"1-8\", \"10-11\", \"10-17\", \"10-4\", \"10-7\", \"11-1\", \"11-10\", \"11-19\", \"11-20\", \"11-4\", \"11-7\", \"12-19\", \"12-20\", \"12-7\", \"13-14\", \"13-18\", \"13-19\", \"13-20\", \"13-3\", \"13-7\", \"14-10\", \"14-11\", \"14-12\", \"14-13\", \"14-14\", \"14-19\", \"14-20\", \"14-7\", \"14-8\", \"14-9\", \"15-1\", \"15-19\", \"15-6\", \"16-1\", \"16-16\", \"16-19\", \"16-20\", \"17-10\", \"17-11\", \"18-1\", \"18-10\", \"18-11\", \"18-12\", \"18-13\", \"18-14\", \"18-15\", \"18-16\", \"18-17\", \"18-19\", \"18-2\", \"18-20\", \"18-4\", \"18-5\", \"18-7\", \"18-8\", \"18-9\", \"19-1\", \"19-10\", \"19-11\", \"19-12\", \"19-13\", \"19-14\", \"19-15\", \"19-19\", \"19-2\", \"19-20\", \"19-3\", \"19-4\", \"19-6\", \"19-7\", \"19-8\", \"19-9\", \"2-1\", \"2-13\", \"2-15\", \"2-3\", \"2-4\", \"2-5\", \"2-6\", \"2-7\", \"2-8\", \"20-1\", \"20-12\", \"20-14\", \"20-15\", \"20-16\", \"20-18\", \"20-19\", \"20-20\", \"20-3\", \"20-4\", \"20-5\", \"20-7\", \"20-8\", \"3-1\", \"3-13\", \"3-18\", \"3-2\", \"3-8\", \"4-1\", \"4-10\", \"4-11\", \"5-1\", \"5-5\", \"6-1\", \"6-15\", \"6-6\", \"7-10\", \"7-11\", \"7-12\", \"7-13\", \"7-14\", \"7-7\", \"7-8\", \"7-9\", \"8-1\", \"8-13\", \"8-14\", \"8-18\", \"8-20\", \"8-3\", \"8-8\", \"9-1\", \"9-7\"], \"domains\": [1, 2, 3, 4], \"num_examples_per_domain_per_label\": -1, \"pickle_path\": \"/root/csc500-main/datasets/wisig.node3-19.stratified_ds.2022A.pkl\", \"source_or_target_dataset\": \"target\", \"x_transforms\": [], \"episode_transforms\": [], \"domain_prefix\": \"Wisig_\"}, {\"labels\": [\"3123D52\", \"3123D65\", \"3123D79\", \"3123D80\", \"3123D54\", \"3123D70\", \"3123D7B\", \"3123D89\", \"3123D58\", \"3123D76\", \"3123D7D\", \"3123EFE\", \"3123D64\", \"3123D78\", \"3123D7E\", \"3124E4A\"], \"domains\": [32, 38, 8, 44, 14, 50, 20, 26], \"num_examples_per_domain_per_label\": 2000, \"pickle_path\": \"/root/csc500-main/datasets/oracle.Run1_10kExamples_stratified_ds.2022A.pkl\", \"source_or_target_dataset\": \"source\", \"x_transforms\": [], \"episode_transforms\": [], \"domain_prefix\": \"ORACLE.run1\"}], \"dataset_seed\": 420, \"seed\": 420, \"x_shape\": [2, 256], \"domains_source\": [\"ORACLE.run132\", \"ORACLE.run138\", \"ORACLE.run18\", \"ORACLE.run144\", \"ORACLE.run114\", \"ORACLE.run150\", \"ORACLE.run120\", \"ORACLE.run126\"], \"domains_target\": [\"Wisig_1\", \"Wisig_2\", \"Wisig_3\", \"Wisig_4\"]}, \"results\": {\"source_test_label_accuracy\": 0.8136067708333333, \"source_test_label_loss\": 0.6529570817947388, \"target_test_label_accuracy\": 0.8768439440993789, \"target_test_label_loss\": 108.51063537597656, \"source_val_label_accuracy\": 0.81259765625, \"source_val_label_loss\": 0.6579535603523254, \"target_val_label_accuracy\": 0.8739098837209303, \"target_val_label_loss\": 110.16120910644531, \"total_epochs_trained\": 24, \"total_experiment_time_secs\": 3873.644680738449, \"confusion\": {\"ORACLE.run114\": {\"15\": {\"15\": 240}, \"5\": {\"5\": 197, \"2\": 24, \"4\": 6, \"7\": 9, \"3\": 4}, \"7\": {\"7\": 236, \"5\": 4}, \"4\": {\"4\": 217, \"5\": 20, \"2\": 3}, \"10\": {\"10\": 240}, \"11\": {\"11\": 240}, \"12\": {\"12\": 240}, \"0\": {\"0\": 216, \"3\": 21, \"10\": 1, \"14\": 1, \"4\": 1}, \"14\": {\"14\": 164, \"6\": 21, \"3\": 9, \"2\": 19, \"13\": 27}, \"8\": {\"8\": 240}, \"13\": {\"14\": 58, \"13\": 62, \"6\": 94, \"2\": 9, \"15\": 14, \"4\": 1, \"3\": 2}, \"6\": {\"6\": 136, \"3\": 3, \"14\": 23, \"13\": 72, \"2\": 6}, \"1\": {\"1\": 239, \"4\": 1}, \"3\": {\"3\": 205, \"14\": 19, \"0\": 7, \"5\": 3, \"2\": 1, \"13\": 2, \"6\": 3}, \"9\": {\"9\": 240}, \"2\": {\"2\": 106, \"4\": 24, \"6\": 23, \"5\": 40, \"3\": 10, \"13\": 9, \"14\": 26, \"7\": 2}}, \"ORACLE.run120\": {\"4\": {\"4\": 202, \"7\": 5, \"12\": 17, \"2\": 8, \"13\": 1, \"15\": 1, \"10\": 5, \"6\": 1}, \"10\": {\"10\": 234, \"4\": 6}, \"15\": {\"15\": 178, \"2\": 5, \"1\": 26, \"12\": 23, \"5\": 1, \"13\": 5, \"9\": 2}, \"0\": {\"0\": 227, \"5\": 4, \"8\": 5, \"1\": 1, \"3\": 3}, \"6\": {\"7\": 11, \"6\": 226, \"4\": 1, \"14\": 2}, \"3\": {\"8\": 23, \"1\": 9, \"3\": 142, \"9\": 26, \"5\": 37, \"0\": 2, \"7\": 1}, \"7\": {\"7\": 178, \"2\": 21, \"9\": 29, \"6\": 7, \"3\": 1, \"4\": 4}, \"2\": {\"2\": 147, \"7\": 30, \"1\": 2, \"12\": 39, \"13\": 9, \"15\": 4, \"4\": 4, \"9\": 5}, \"8\": {\"8\": 193, \"14\": 31, \"3\": 15, \"0\": 1}, \"11\": {\"11\": 240}, \"14\": {\"14\": 214, \"8\": 26}, \"12\": {\"12\": 147, \"15\": 32, \"1\": 3, \"2\": 38, \"7\": 3, \"13\": 5, \"9\": 2, \"4\": 9, \"5\": 1}, \"13\": {\"13\": 227, \"2\": 3, \"12\": 3, \"15\": 6, \"4\": 1}, \"9\": {\"9\": 145, \"1\": 14, \"3\": 38, \"5\": 16, \"7\": 19, \"8\": 3, \"2\": 4, \"12\": 1}, \"5\": {\"5\": 133, \"1\": 59, \"2\": 1, \"3\": 32, \"9\": 15}, \"1\": {\"5\": 80, \"1\": 129, \"9\": 17, \"7\": 1, \"3\": 5, \"12\": 5, \"15\": 3}}, \"ORACLE.run150\": {\"5\": {\"5\": 93, \"6\": 43, \"4\": 14, \"7\": 71, \"13\": 14, \"1\": 2, \"15\": 3}, \"12\": {\"12\": 218, \"9\": 14, \"11\": 8}, \"14\": {\"14\": 240}, \"4\": {\"4\": 204, \"7\": 12, \"5\": 13, \"15\": 7, \"6\": 4}, \"13\": {\"13\": 239, \"6\": 1}, \"10\": {\"10\": 228, \"0\": 6, \"8\": 6}, \"9\": {\"12\": 24, \"9\": 190, \"11\": 26}, \"15\": {\"15\": 216, \"6\": 15, \"4\": 3, \"11\": 5, \"5\": 1}, \"6\": {\"6\": 183, \"5\": 38, \"15\": 17, \"4\": 1, \"7\": 1}, \"2\": {\"2\": 212, \"0\": 26, \"14\": 2}, \"0\": {\"0\": 214, \"2\": 16, \"10\": 10}, \"11\": {\"11\": 216, \"9\": 18, \"15\": 5, \"12\": 1}, \"3\": {\"3\": 240}, \"8\": {\"8\": 233, \"10\": 7}, \"7\": {\"7\": 218, \"5\": 20, \"4\": 2}, \"1\": {\"1\": 228, \"13\": 4, \"11\": 6, \"0\": 1, \"6\": 1}}, \"ORACLE.run126\": {\"7\": {\"7\": 141, \"8\": 37, \"3\": 32, \"2\": 25, \"9\": 5}, \"6\": {\"6\": 182, \"10\": 12, \"15\": 27, \"5\": 12, \"14\": 3, \"1\": 4}, \"14\": {\"14\": 150, \"0\": 23, \"6\": 2, \"10\": 48, \"1\": 11, \"15\": 6}, \"15\": {\"5\": 60, \"15\": 132, \"10\": 17, \"6\": 16, \"0\": 7, \"14\": 5, \"1\": 2, \"2\": 1}, \"5\": {\"5\": 162, \"15\": 65, \"6\": 13}, \"10\": {\"14\": 55, \"10\": 118, \"0\": 39, \"6\": 13, \"15\": 14, \"1\": 1}, \"4\": {\"4\": 238, \"3\": 2}, \"11\": {\"11\": 240}, \"13\": {\"13\": 199, \"3\": 9, \"9\": 14, \"2\": 14, \"4\": 2, \"8\": 1, \"7\": 1}, \"2\": {\"2\": 129, \"14\": 2, \"3\": 27, \"9\": 14, \"7\": 42, \"8\": 12, \"0\": 8, \"13\": 4, \"15\": 2}, \"0\": {\"0\": 137, \"14\": 36, \"8\": 9, \"10\": 45, \"2\": 6, \"15\": 6, \"6\": 1}, \"12\": {\"12\": 240}, \"3\": {\"3\": 200, \"7\": 28, \"2\": 11, \"4\": 1}, \"9\": {\"2\": 11, \"8\": 60, \"7\": 10, \"9\": 138, \"13\": 21}, \"8\": {\"8\": 134, \"9\": 46, \"7\": 37, \"2\": 11, \"0\": 10, \"4\": 1, \"3\": 1}, \"1\": {\"1\": 177, \"14\": 44, \"10\": 14, \"6\": 3, \"15\": 2}}, \"ORACLE.run132\": {\"7\": {\"7\": 117, \"5\": 50, \"14\": 30, \"0\": 34, \"8\": 8, \"2\": 1}, \"2\": {\"4\": 32, \"2\": 204, \"0\": 1, \"14\": 3}, \"5\": {\"8\": 44, \"5\": 103, \"7\": 45, \"0\": 37, \"14\": 11}, \"6\": {\"6\": 240}, \"13\": {\"13\": 154, \"4\": 37, \"3\": 41, \"11\": 7, \"2\": 1}, \"4\": {\"4\": 194, \"2\": 37, \"13\": 8, \"3\": 1}, \"3\": {\"3\": 217, \"13\": 23}, \"0\": {\"0\": 151, \"8\": 27, \"7\": 40, \"5\": 18, \"14\": 4}, \"9\": {\"9\": 237, \"12\": 2, \"2\": 1}, \"12\": {\"12\": 240}, \"8\": {\"8\": 176, \"0\": 21, \"5\": 28, \"4\": 7, \"7\": 3, \"2\": 2, \"15\": 1, \"14\": 2}, \"14\": {\"14\": 139, \"7\": 61, \"8\": 6, \"0\": 12, \"2\": 8, \"5\": 13, \"4\": 1}, \"15\": {\"15\": 238, \"8\": 2}, \"11\": {\"11\": 240}, \"10\": {\"10\": 240}, \"1\": {\"1\": 240}}, \"ORACLE.run144\": {\"11\": {\"11\": 240}, \"7\": {\"7\": 207, \"9\": 32, \"2\": 1}, \"6\": {\"6\": 194, \"13\": 35, \"9\": 11}, \"12\": {\"12\": 237, \"3\": 3}, \"4\": {\"15\": 4, \"4\": 148, \"14\": 88}, \"13\": {\"13\": 192, \"6\": 43, \"9\": 4, \"11\": 1}, \"8\": {\"8\": 154, \"0\": 65, \"15\": 15, \"5\": 6}, \"5\": {\"5\": 209, \"14\": 12, \"15\": 14, \"8\": 2, \"4\": 3}, \"14\": {\"4\": 69, \"14\": 148, \"15\": 12, \"5\": 11}, \"3\": {\"3\": 232, \"12\": 8}, \"10\": {\"10\": 209, \"2\": 16, \"7\": 8, \"1\": 7}, \"1\": {\"1\": 220, \"2\": 18, \"10\": 2}, \"2\": {\"2\": 219, \"1\": 12, \"7\": 2, \"10\": 7}, \"15\": {\"15\": 200, \"14\": 14, \"4\": 4, \"0\": 4, \"5\": 9, \"8\": 9}, \"9\": {\"7\": 80, \"9\": 117, \"6\": 31, \"13\": 12}, \"0\": {\"8\": 45, \"0\": 187, \"15\": 8}}, \"ORACLE.run18\": {\"10\": {\"13\": 46, \"10\": 146, \"1\": 29, \"5\": 10, \"6\": 5, \"4\": 4}, \"6\": {\"6\": 172, \"7\": 50, \"10\": 6, \"1\": 1, \"8\": 3, \"13\": 5, \"4\": 3}, \"13\": {\"13\": 184, \"10\": 28, \"6\": 8, \"7\": 19, \"1\": 1}, \"3\": {\"3\": 236, \"2\": 4}, \"9\": {\"9\": 240}, \"1\": {\"1\": 157, \"11\": 45, \"5\": 8, \"10\": 23, \"4\": 2, \"6\": 3, \"13\": 2}, \"5\": {\"5\": 165, \"10\": 37, \"1\": 22, \"4\": 4, \"11\": 6, \"13\": 6}, \"11\": {\"1\": 80, \"4\": 9, \"6\": 5, \"8\": 12, \"11\": 114, \"14\": 12, \"5\": 4, \"10\": 4}, \"4\": {\"4\": 202, \"1\": 3, \"6\": 13, \"10\": 1, \"11\": 11, \"14\": 7, \"8\": 3}, \"14\": {\"14\": 206, \"4\": 27, \"11\": 6, \"1\": 1}, \"12\": {\"12\": 177, \"15\": 61, \"2\": 2}, \"7\": {\"7\": 186, \"6\": 42, \"13\": 12}, \"0\": {\"0\": 240}, \"15\": {\"15\": 197, \"12\": 37, \"2\": 6}, \"2\": {\"2\": 185, \"15\": 15, \"3\": 20, \"12\": 20}, \"8\": {\"8\": 220, \"7\": 2, \"6\": 13, \"4\": 2, \"1\": 1, \"11\": 2}}, \"ORACLE.run138\": {\"4\": {\"4\": 240}, \"7\": {\"7\": 233, \"0\": 4, \"5\": 1, \"9\": 1, \"8\": 1}, \"12\": {\"12\": 239, \"8\": 1}, \"10\": {\"10\": 220, \"0\": 15, \"4\": 1, \"13\": 4}, \"0\": {\"3\": 14, \"0\": 160, \"13\": 7, \"7\": 39, \"10\": 16, \"8\": 2, \"5\": 2}, \"1\": {\"1\": 239, \"6\": 1}, \"5\": {\"5\": 101, \"7\": 17, \"8\": 93, \"9\": 23, \"15\": 4, \"13\": 1, \"6\": 1}, \"15\": {\"15\": 227, \"5\": 8, \"8\": 3, \"1\": 2}, \"9\": {\"9\": 231, \"8\": 2, \"7\": 1, \"5\": 6}, \"11\": {\"11\": 240}, \"14\": {\"14\": 224, \"2\": 15, \"13\": 1}, \"6\": {\"6\": 240}, \"8\": {\"7\": 20, \"8\": 147, \"5\": 63, \"15\": 5, \"13\": 4, \"0\": 1}, \"3\": {\"3\": 240}, \"2\": {\"13\": 4, \"2\": 222, \"14\": 14}, \"13\": {\"13\": 221, \"0\": 5, \"10\": 13, \"2\": 1}}, \"Wisig_3\": {\"110\": {\"110\": 75, \"44\": 1, \"87\": 8, \"30\": 3, \"107\": 1, \"11\": 1, \"122\": 2, \"40\": 1}, \"1\": {\"1\": 102, \"3\": 2, \"113\": 1, \"105\": 1, \"114\": 2}, \"2\": {\"117\": 3, \"2\": 25}, \"94\": {\"94\": 67, \"113\": 2, \"15\": 1, \"70\": 1, \"106\": 4, \"110\": 1, \"12\": 2, \"61\": 1, \"26\": 1, \"8\": 2, \"0\": 2}, \"64\": {\"64\": 20}, \"78\": {\"78\": 9, \"109\": 1, \"88\": 4, \"21\": 2}, \"47\": {\"47\": 9, \"3\": 2, \"100\": 1}, \"127\": {\"127\": 116, \"99\": 1, \"31\": 1, \"71\": 2, \"1\": 1, \"7\": 5, \"3\": 1, \"109\": 1}, \"89\": {\"64\": 2, \"89\": 21, \"120\": 1, \"92\": 2, \"121\": 2}, \"79\": {\"79\": 12}, \"22\": {\"22\": 15, \"104\": 1}, \"117\": {\"117\": 110, \"120\": 1, \"121\": 1}, \"49\": {\"49\": 15, \"94\": 3, \"16\": 2, \"50\": 1, \"15\": 2, \"84\": 1}, \"14\": {\"14\": 77, \"30\": 1, \"40\": 1, \"84\": 1}, \"103\": {\"22\": 1, \"103\": 12, \"115\": 1, \"50\": 1, \"37\": 1}, \"123\": {\"123\": 15, \"63\": 1}, \"98\": {\"98\": 123, \"41\": 1, \"40\": 1, \"33\": 1, \"117\": 1, \"107\": 1}, \"18\": {\"18\": 108}, \"61\": {\"61\": 16}, \"108\": {\"108\": 123, \"27\": 1, \"126\": 1, \"113\": 1}, \"100\": {\"19\": 1, \"100\": 8, \"28\": 2, \"107\": 1, \"40\": 2, \"105\": 1, \"128\": 1}, \"0\": {\"0\": 107, \"118\": 3, \"15\": 2, \"30\": 2, \"106\": 2}, \"107\": {\"107\": 124, \"40\": 3, \"31\": 1, \"44\": 1, \"105\": 1}, \"58\": {\"58\": 11, \"54\": 1, \"111\": 2, \"34\": 1, \"25\": 1}, \"8\": {\"8\": 108, \"108\": 4, \"15\": 2, \"0\": 1, \"30\": 3, \"94\": 2}, \"85\": {\"85\": 31, \"98\": 1, \"128\": 1, \"41\": 1, \"66\": 1, \"42\": 1}, \"31\": {\"107\": 2, \"31\": 13, \"44\": 1, \"33\": 1, \"3\": 2, \"10\": 1}, \"81\": {\"81\": 30, \"61\": 1, \"33\": 1}, \"60\": {\"60\": 26, \"23\": 2}, \"102\": {\"102\": 116}, \"19\": {\"98\": 1, \"85\": 2, \"28\": 1, \"19\": 12, \"32\": 2, \"100\": 2, \"66\": 1, \"9\": 2, \"107\": 2, \"5\": 2, \"128\": 1, \"34\": 1, \"46\": 1, \"44\": 1, \"83\": 1}, \"23\": {\"8\": 3, \"23\": 16, \"30\": 2, \"60\": 1, \"122\": 3, \"49\": 1, \"26\": 1, \"97\": 2, \"110\": 1, \"18\": 1, \"15\": 1}, \"32\": {\"100\": 1, \"32\": 15, \"44\": 6, \"107\": 3, \"28\": 2, \"19\": 2, \"38\": 1, \"95\": 1, \"90\": 1}, \"39\": {\"39\": 101, \"21\": 3, \"43\": 1, \"88\": 2, \"113\": 1}, \"129\": {\"129\": 27, \"91\": 2, \"5\": 1, \"77\": 1, \"66\": 1}, \"71\": {\"99\": 2, \"3\": 3, \"71\": 50, \"51\": 2, \"127\": 7, \"105\": 3, \"109\": 1}, \"91\": {\"91\": 14, \"129\": 1, \"5\": 3, \"57\": 2, \"72\": 1, \"52\": 2, \"70\": 1}, \"101\": {\"101\": 44, \"113\": 2, \"12\": 2, \"106\": 2, \"127\": 2}, \"62\": {\"62\": 118, \"88\": 2, \"84\": 2}, \"63\": {\"63\": 16}, \"125\": {\"125\": 116, \"4\": 1, \"102\": 1, \"90\": 1, \"19\": 1}, \"57\": {\"28\": 3, \"32\": 1, \"56\": 2, \"100\": 3, \"57\": 8, \"80\": 1, \"5\": 2}, \"28\": {\"28\": 11, \"129\": 1, \"128\": 2, \"74\": 2}, \"70\": {\"70\": 46, \"88\": 5, \"113\": 5, \"10\": 3, \"24\": 2, \"126\": 3, \"11\": 2, \"39\": 3, \"118\": 2, \"96\": 1}, \"99\": {\"99\": 18, \"32\": 1, \"3\": 2, \"21\": 1, \"40\": 1, \"27\": 1, \"9\": 1, \"1\": 1, \"128\": 1, \"71\": 2, \"12\": 1, \"34\": 1, \"56\": 1, \"38\": 1, \"105\": 3}, \"121\": {\"121\": 28, \"117\": 2, \"113\": 1, \"81\": 1}, \"4\": {\"86\": 2, \"4\": 91, \"37\": 2, \"93\": 1}, \"80\": {\"80\": 16}, \"51\": {\"51\": 11, \"59\": 1, \"47\": 1, \"124\": 1, \"7\": 2}, \"3\": {\"3\": 103, \"71\": 2, \"40\": 2, \"85\": 1, \"105\": 2, \"39\": 1, \"33\": 2, \"127\": 2, \"109\": 1}, \"9\": {\"9\": 30, \"128\": 2}, \"53\": {\"20\": 1, \"66\": 1, \"53\": 14, \"42\": 1, \"114\": 1, \"112\": 1, \"11\": 1}, \"30\": {\"30\": 76, \"122\": 2, \"87\": 2, \"10\": 1, \"8\": 1, \"69\": 1, \"36\": 1}, \"33\": {\"33\": 117, \"69\": 5}, \"15\": {\"15\": 95, \"94\": 5, \"8\": 1, \"30\": 2, \"88\": 1}, \"97\": {\"30\": 1, \"15\": 1, \"97\": 18}, \"86\": {\"86\": 24, \"4\": 1, \"48\": 2, \"84\": 1}, \"20\": {\"1\": 2, \"20\": 13, \"53\": 1}, \"66\": {\"9\": 1, \"66\": 12, \"128\": 1, \"77\": 1, \"111\": 1}, \"10\": {\"10\": 111, \"11\": 4, \"24\": 2, \"88\": 2, \"108\": 2, \"33\": 1}, \"29\": {\"29\": 29, \"45\": 2, \"90\": 1}, \"109\": {\"109\": 107, \"90\": 1, \"39\": 2, \"126\": 2, \"43\": 1, \"113\": 1}, \"52\": {\"52\": 11, \"83\": 2, \"74\": 1, \"42\": 1, \"73\": 1}, \"67\": {\"67\": 14, \"117\": 1, \"121\": 1}, \"83\": {\"83\": 19, \"78\": 1, \"43\": 1, \"128\": 1, \"99\": 2}, \"72\": {\"72\": 26, \"3\": 1, \"99\": 1}, \"90\": {\"90\": 124, \"117\": 2}, \"69\": {\"69\": 74, \"10\": 2, \"62\": 1, \"85\": 1, \"33\": 2, \"84\": 2, \"14\": 2}, \"88\": {\"88\": 109, \"113\": 1, \"78\": 1, \"109\": 1}, \"115\": {\"115\": 16}, \"73\": {\"73\": 33, \"116\": 1, \"88\": 1, \"42\": 1, \"27\": 1, \"109\": 1, \"9\": 1, \"89\": 1}, \"34\": {\"44\": 3, \"19\": 1, \"35\": 1, \"34\": 15, \"105\": 3, \"114\": 2, \"107\": 2, \"75\": 1, \"31\": 1, \"128\": 1, \"53\": 1, \"98\": 1}, \"25\": {\"25\": 15, \"73\": 1}, \"44\": {\"44\": 70, \"107\": 2}, \"112\": {\"5\": 1, \"77\": 1, \"112\": 8, \"97\": 1, \"85\": 1, \"104\": 1, \"66\": 1, \"42\": 1, \"68\": 1}, \"37\": {\"37\": 14, \"124\": 1, \"77\": 1}, \"77\": {\"77\": 16}, \"111\": {\"111\": 114, \"5\": 1, \"6\": 2, \"124\": 2, \"11\": 1, \"126\": 1, \"10\": 1}, \"119\": {\"119\": 14, \"89\": 2}, \"56\": {\"56\": 12}, \"5\": {\"5\": 102, \"124\": 4, \"126\": 1, \"98\": 2, \"87\": 1, \"111\": 2}, \"122\": {\"122\": 51, \"110\": 6, \"109\": 2, \"126\": 1}, \"74\": {\"74\": 14, \"28\": 1, \"57\": 1}, \"11\": {\"11\": 136, \"43\": 2, \"109\": 7, \"118\": 1, \"108\": 1, \"87\": 1, \"113\": 2, \"88\": 2}, \"41\": {\"52\": 1, \"129\": 1, \"41\": 10, \"103\": 2, \"98\": 1, \"124\": 1}, \"104\": {\"104\": 15, \"66\": 1}, \"21\": {\"21\": 43, \"101\": 2, \"39\": 2, \"109\": 1}, \"118\": {\"118\": 96, \"72\": 1, \"87\": 1, \"105\": 1, \"113\": 1}, \"40\": {\"40\": 99, \"21\": 1, \"1\": 4, \"14\": 3, \"114\": 3, \"107\": 3, \"105\": 1, \"44\": 2, \"84\": 2, \"127\": 3, \"7\": 1}, \"6\": {\"6\": 31, \"111\": 1}, \"27\": {\"15\": 2, \"27\": 82, \"24\": 5, \"36\": 5, \"118\": 1, \"108\": 1}, \"113\": {\"118\": 1, \"113\": 115, \"43\": 2, \"96\": 1, \"26\": 1}, \"68\": {\"68\": 16}, \"12\": {\"12\": 93, \"15\": 4, \"106\": 2, \"127\": 2, \"94\": 1}, \"54\": {\"54\": 12, \"72\": 2, \"42\": 1, \"75\": 1}, \"24\": {\"24\": 38, \"30\": 2, \"27\": 2, \"126\": 1, \"108\": 3, \"36\": 2}, \"106\": {\"106\": 93, \"15\": 3, \"127\": 1, \"87\": 1, \"113\": 1, \"101\": 1}, \"128\": {\"56\": 1, \"128\": 21, \"99\": 2, \"34\": 3, \"100\": 1, \"74\": 2, \"32\": 1, \"76\": 1}, \"48\": {\"86\": 5, \"116\": 1, \"59\": 1, \"48\": 2, \"121\": 1, \"79\": 2, \"37\": 2, \"2\": 2}, \"92\": {\"92\": 29, \"82\": 2, \"69\": 1}, \"35\": {\"35\": 10, \"54\": 1, \"91\": 1}, \"116\": {\"116\": 28}, \"38\": {\"9\": 1, \"20\": 1, \"129\": 1, \"38\": 9, \"28\": 1, \"29\": 1, \"99\": 2}, \"126\": {\"24\": 2, \"126\": 121, \"89\": 1}, \"46\": {\"46\": 12, \"128\": 1, \"98\": 1, \"1\": 1, \"77\": 1}, \"120\": {\"120\": 15, \"115\": 1, \"117\": 2, \"13\": 2}, \"7\": {\"7\": 101, \"14\": 4, \"12\": 3, \"84\": 1, \"105\": 1, \"113\": 1, \"71\": 1}, \"13\": {\"13\": 11, \"116\": 1, \"70\": 1, \"80\": 1, \"122\": 1, \"113\": 1}, \"43\": {\"43\": 41, \"109\": 2, \"10\": 1, \"118\": 2, \"122\": 2, \"11\": 3, \"113\": 2, \"126\": 2, \"39\": 1}, \"93\": {\"93\": 123, \"26\": 3, \"90\": 1, \"84\": 1, \"62\": 1, \"16\": 3}, \"26\": {\"26\": 131, \"126\": 1}, \"76\": {\"76\": 11, \"44\": 1, \"33\": 1, \"82\": 1, \"90\": 1, \"89\": 1}, \"59\": {\"59\": 12}, \"65\": {\"65\": 9, \"17\": 1, \"98\": 2}, \"87\": {\"87\": 113, \"110\": 4, \"11\": 2, \"126\": 1}, \"124\": {\"124\": 118, \"5\": 3, \"89\": 1, \"77\": 1, \"90\": 1}, \"84\": {\"84\": 97, \"111\": 1, \"62\": 5, \"16\": 2, \"14\": 1, \"40\": 2}, \"82\": {\"82\": 24, \"89\": 2, \"64\": 1, \"29\": 1}, \"75\": {\"75\": 15, \"9\": 1}, \"17\": {\"4\": 1, \"115\": 1, \"67\": 1, \"104\": 1, \"79\": 2, \"17\": 3, \"78\": 1, \"86\": 2, \"6\": 1, \"88\": 1, \"5\": 2}, \"105\": {\"105\": 114, \"3\": 5, \"99\": 1, \"107\": 1, \"114\": 2, \"71\": 1}, \"95\": {\"95\": 30, \"1\": 1, \"38\": 1}, \"42\": {\"42\": 13, \"124\": 2, \"73\": 4, \"58\": 2, \"54\": 1, \"5\": 4, \"129\": 1, \"85\": 1}, \"55\": {\"55\": 14, \"103\": 2}, \"16\": {\"16\": 110, \"93\": 3, \"113\": 1, \"23\": 2}, \"50\": {\"50\": 12, \"57\": 1, \"116\": 1, \"103\": 2}, \"96\": {\"43\": 2, \"96\": 16, \"126\": 1, \"122\": 1}, \"45\": {\"45\": 15, \"90\": 1}, \"36\": {\"36\": 120}, \"114\": {\"114\": 111, \"27\": 1, \"3\": 2, \"107\": 1, \"1\": 2, \"105\": 4, \"18\": 1, \"11\": 1, \"117\": 1}}, \"Wisig_4\": {\"113\": {\"113\": 121, \"39\": 1, \"109\": 1, \"24\": 1}, \"85\": {\"85\": 25, \"25\": 1, \"98\": 1, \"46\": 1}, \"34\": {\"49\": 3, \"34\": 14, \"71\": 3, \"72\": 1, \"12\": 1, \"75\": 1, \"3\": 1, \"114\": 2, \"52\": 2, \"58\": 2, \"95\": 2}, \"55\": {\"55\": 13, \"82\": 1, \"128\": 1, \"19\": 1}, \"42\": {\"42\": 22, \"120\": 2, \"41\": 1, \"91\": 1, \"95\": 1, \"112\": 1}, \"13\": {\"13\": 15, \"73\": 1}, \"69\": {\"72\": 2, \"69\": 101, \"70\": 1, \"118\": 1, \"84\": 6, \"88\": 2, \"16\": 3, \"26\": 1, \"74\": 2, \"93\": 2, \"21\": 1, \"5\": 2}, \"35\": {\"35\": 12}, \"83\": {\"83\": 19, \"21\": 1, \"114\": 1, \"73\": 2, \"14\": 1, \"12\": 1, \"78\": 1, \"49\": 1, \"95\": 1}, \"51\": {\"53\": 2, \"21\": 2, \"126\": 3, \"51\": 3, \"43\": 1, \"73\": 1, \"41\": 1, \"12\": 1, \"9\": 2}, \"72\": {\"72\": 18, \"62\": 1, \"99\": 7, \"43\": 1, \"3\": 2, \"40\": 2, \"14\": 1}, \"24\": {\"24\": 91, \"10\": 17, \"21\": 1, \"70\": 7, \"27\": 3, \"97\": 1}, \"53\": {\"53\": 8, \"71\": 1, \"27\": 1, \"114\": 2, \"1\": 2, \"127\": 2}, \"8\": {\"8\": 124, \"15\": 9, \"109\": 1, \"110\": 1, \"30\": 1, \"0\": 2, \"126\": 1, \"26\": 2, \"64\": 1, \"21\": 1, \"10\": 1}, \"49\": {\"49\": 19, \"12\": 3, \"106\": 2, \"1\": 1, \"40\": 2, \"53\": 1, \"71\": 1, \"5\": 3}, \"21\": {\"21\": 35, \"23\": 1, \"113\": 2, \"39\": 2}, \"18\": {\"18\": 113, \"84\": 3, \"35\": 1, \"24\": 1, \"108\": 1, \"26\": 1}, \"114\": {\"114\": 105, \"127\": 2, \"1\": 1, \"88\": 1, \"71\": 2, \"5\": 2, \"3\": 4, \"43\": 1}, \"58\": {\"58\": 14, \"45\": 1, \"108\": 1}, \"56\": {\"56\": 12}, \"80\": {\"80\": 16}, \"11\": {\"11\": 144, \"93\": 6, \"87\": 1, \"109\": 1, \"96\": 1, \"110\": 1}, \"15\": {\"15\": 102, \"36\": 1, \"94\": 10, \"87\": 1, \"60\": 1, \"16\": 1, \"0\": 2, \"8\": 6, \"88\": 1, \"11\": 2, \"26\": 1}, \"50\": {\"73\": 1, \"50\": 9, \"57\": 2, \"31\": 2, \"119\": 1, \"91\": 1}, \"111\": {\"111\": 136, \"27\": 1, \"124\": 1}, \"108\": {\"108\": 58, \"78\": 2, \"70\": 9, \"109\": 7, \"88\": 5, \"98\": 1, \"24\": 1, \"10\": 2, \"113\": 1, \"128\": 1, \"124\": 1, \"39\": 3, \"12\": 1}, \"104\": {\"104\": 12, \"67\": 1, \"82\": 1, \"91\": 1, \"4\": 1}, \"32\": {\"32\": 18, \"107\": 3, \"85\": 1, \"1\": 2, \"89\": 1, \"40\": 1, \"33\": 1, \"92\": 1}, \"68\": {\"111\": 2, \"68\": 13, \"108\": 1}, \"73\": {\"114\": 1, \"73\": 17, \"64\": 2, \"1\": 2, \"99\": 1, \"83\": 1}, \"92\": {\"121\": 1, \"92\": 21, \"45\": 2, \"44\": 1, \"33\": 1, \"90\": 2}, \"57\": {\"57\": 16}, \"40\": {\"40\": 116, \"108\": 1, \"105\": 3, \"109\": 1, \"114\": 1, \"5\": 3, \"107\": 2, \"3\": 3, \"32\": 1, \"126\": 2, \"89\": 1, \"33\": 1, \"1\": 1}, \"71\": {\"71\": 94, \"105\": 1, \"127\": 1, \"10\": 1, \"126\": 1, \"3\": 1, \"1\": 1, \"109\": 1, \"69\": 1, \"114\": 2}, \"121\": {\"121\": 29, \"21\": 1, \"33\": 2}, \"62\": {\"62\": 41, \"60\": 2, \"11\": 2, \"26\": 1, \"7\": 3, \"84\": 1, \"21\": 2, \"118\": 2, \"93\": 2, \"126\": 1, \"12\": 1, \"39\": 1, \"96\": 1}, \"39\": {\"39\": 87, \"88\": 4, \"126\": 5, \"108\": 1, \"93\": 1, \"10\": 1, \"109\": 1}, \"107\": {\"107\": 135, \"90\": 2, \"40\": 5, \"114\": 2}, \"60\": {\"60\": 28, \"18\": 2, \"84\": 1, \"23\": 1}, \"129\": {\"129\": 19, \"116\": 1, \"48\": 1, \"55\": 3, \"37\": 1, \"29\": 1, \"90\": 2}, \"84\": {\"84\": 116, \"72\": 2, \"78\": 1, \"88\": 2, \"69\": 6, \"108\": 2, \"10\": 1, \"70\": 1, \"16\": 1}, \"106\": {\"106\": 93, \"12\": 13, \"113\": 1, \"101\": 6, \"127\": 2, \"88\": 1}, \"87\": {\"87\": 127, \"11\": 2, \"110\": 3}, \"110\": {\"110\": 83, \"118\": 1, \"11\": 4, \"39\": 1, \"24\": 1, \"36\": 1, \"87\": 1, \"88\": 1, \"93\": 1}, \"118\": {\"118\": 95, \"22\": 1, \"11\": 2, \"122\": 2, \"110\": 4, \"93\": 4, \"88\": 2, \"87\": 2}, \"64\": {\"64\": 11, \"113\": 1, \"120\": 1, \"28\": 2, \"89\": 1}, \"82\": {\"129\": 1, \"32\": 1, \"82\": 22, \"17\": 1, \"56\": 1, \"76\": 1, \"41\": 1, \"97\": 1, \"55\": 1, \"29\": 2}, \"7\": {\"7\": 105, \"14\": 2, \"62\": 1, \"12\": 2, \"105\": 2, \"1\": 4, \"101\": 2, \"69\": 2, \"26\": 1, \"109\": 1, \"126\": 1, \"24\": 1}, \"0\": {\"0\": 102, \"106\": 2, \"88\": 1, \"126\": 1, \"8\": 2, \"11\": 1, \"21\": 2, \"94\": 3, \"15\": 2}, \"41\": {\"41\": 7, \"82\": 2, \"47\": 1, \"91\": 2, \"98\": 4}, \"102\": {\"102\": 123, \"40\": 1, \"126\": 1, \"19\": 1, \"50\": 2, \"67\": 2}, \"89\": {\"89\": 22, \"100\": 1, \"113\": 1, \"46\": 2, \"82\": 2, \"33\": 2, \"19\": 2}, \"26\": {\"26\": 128}, \"103\": {\"103\": 11, \"71\": 2, \"75\": 2, \"91\": 1}, \"90\": {\"90\": 113, \"66\": 2, \"117\": 2, \"57\": 1}, \"14\": {\"14\": 104, \"99\": 3, \"72\": 1, \"84\": 1, \"78\": 1, \"3\": 1, \"105\": 1}, \"9\": {\"9\": 27, \"114\": 1}, \"5\": {\"14\": 2, \"5\": 127, \"113\": 1, \"88\": 1, \"40\": 2, \"1\": 2, \"117\": 1}, \"22\": {\"22\": 16}, \"2\": {\"2\": 27, \"57\": 1}, \"77\": {\"77\": 12}, \"59\": {\"17\": 2, \"59\": 6, \"109\": 1, \"88\": 1, \"111\": 2}, \"127\": {\"127\": 89, \"113\": 1, \"90\": 1, \"88\": 1, \"105\": 6, \"3\": 2, \"80\": 1, \"10\": 1}, \"61\": {\"61\": 14, \"35\": 2}, \"17\": {\"17\": 15, \"86\": 2, \"81\": 1, \"55\": 1, \"124\": 1}, \"45\": {\"89\": 1, \"45\": 11, \"116\": 1, \"32\": 1, \"128\": 1, \"33\": 1}, \"19\": {\"64\": 2, \"19\": 13, \"100\": 1, \"38\": 1, \"74\": 3, \"58\": 1, \"76\": 1, \"56\": 1, \"46\": 1, \"33\": 2, \"28\": 1, \"1\": 1}, \"52\": {\"52\": 13, \"98\": 1, \"70\": 1, \"71\": 1, \"53\": 1, \"83\": 1, \"100\": 2}, \"123\": {\"37\": 1, \"123\": 13, \"54\": 1, \"111\": 1}, \"20\": {\"20\": 12, \"29\": 1, \"44\": 1, \"105\": 2}, \"112\": {\"112\": 7, \"77\": 1, \"120\": 2, \"1\": 1, \"128\": 1, \"85\": 2, \"103\": 1, \"2\": 1}, \"37\": {\"37\": 14, \"124\": 2}, \"29\": {\"29\": 32}, \"128\": {\"100\": 3, \"95\": 1, \"128\": 12, \"1\": 1, \"89\": 4, \"34\": 1, \"32\": 1, \"40\": 1}, \"100\": {\"100\": 13, \"105\": 1, \"128\": 1, \"95\": 1, \"33\": 1, \"114\": 1, \"31\": 1, \"9\": 1}, \"67\": {\"67\": 10, \"117\": 2, \"129\": 1, \"2\": 1, \"45\": 2}, \"12\": {\"12\": 86, \"113\": 1, \"106\": 5, \"71\": 1, \"15\": 1, \"102\": 1, \"127\": 2, \"16\": 1, \"126\": 1, \"7\": 1}, \"101\": {\"101\": 117, \"12\": 3, \"33\": 1, \"26\": 1, \"7\": 3, \"106\": 2, \"14\": 1}, \"76\": {\"76\": 16}, \"70\": {\"108\": 8, \"70\": 103, \"39\": 1, \"27\": 3, \"36\": 1, \"109\": 3, \"88\": 1, \"10\": 4}, \"31\": {\"88\": 1, \"57\": 1, \"31\": 9, \"45\": 1, \"90\": 2, \"33\": 1, \"100\": 1}, \"86\": {\"86\": 28}, \"88\": {\"88\": 117, \"39\": 2, \"78\": 4, \"108\": 3, \"69\": 1, \"70\": 1, \"109\": 1, \"10\": 2, \"43\": 1}, \"3\": {\"3\": 97, \"72\": 2, \"71\": 7, \"108\": 1, \"70\": 1, \"40\": 1, \"107\": 2, \"14\": 2, \"1\": 3, \"5\": 2, \"44\": 2, \"10\": 1, \"105\": 3, \"114\": 2}, \"117\": {\"117\": 114, \"102\": 1, \"10\": 1, \"70\": 1, \"63\": 1, \"126\": 1, \"90\": 1}, \"30\": {\"30\": 69, \"110\": 1, \"126\": 1, \"10\": 2, \"108\": 1, \"122\": 1, \"93\": 1}, \"96\": {\"96\": 12, \"122\": 1, \"118\": 2, \"16\": 1, \"27\": 2, \"62\": 2}, \"27\": {\"27\": 83, \"88\": 2, \"24\": 4, \"108\": 3, \"113\": 1, \"70\": 1, \"30\": 1, \"36\": 1, \"39\": 1, \"87\": 1, \"15\": 2}, \"122\": {\"122\": 69, \"43\": 4, \"118\": 4, \"87\": 4, \"39\": 1, \"110\": 2}, \"120\": {\"120\": 13, \"45\": 2, \"42\": 2, \"21\": 1, \"41\": 2}, \"44\": {\"92\": 1, \"40\": 1, \"44\": 55, \"85\": 1, \"5\": 2, \"121\": 1, \"107\": 2, \"64\": 1}, \"79\": {\"79\": 15, \"39\": 1}, \"105\": {\"105\": 85, \"40\": 4, \"39\": 1, \"88\": 1, \"14\": 1, \"71\": 1, \"3\": 2, \"100\": 1, \"99\": 1, \"122\": 1, \"124\": 1, \"24\": 1}, \"95\": {\"95\": 23, \"3\": 1, \"34\": 2, \"85\": 2, \"21\": 1, \"114\": 2, \"27\": 1}, \"109\": {\"109\": 107, \"39\": 3, \"70\": 1, \"90\": 1, \"108\": 3, \"107\": 1}, \"16\": {\"16\": 111, \"88\": 1, \"70\": 1, \"126\": 1, \"26\": 2, \"84\": 2}, \"36\": {\"36\": 92, \"113\": 1, \"108\": 2, \"39\": 1, \"27\": 2}, \"125\": {\"125\": 133, \"4\": 2, \"117\": 1}, \"97\": {\"36\": 2, \"84\": 1, \"97\": 12, \"10\": 2, \"18\": 1, \"124\": 2}, \"91\": {\"51\": 1, \"91\": 14, \"82\": 2, \"41\": 1, \"42\": 2, \"77\": 1, \"68\": 2, \"47\": 1}, \"28\": {\"28\": 15, \"115\": 1, \"112\": 1, \"83\": 1, \"64\": 2}, \"81\": {\"18\": 4, \"35\": 1, \"81\": 31}, \"126\": {\"126\": 112, \"109\": 5, \"39\": 3, \"113\": 1, \"70\": 1}, \"4\": {\"4\": 96, \"126\": 1, \"39\": 1, \"88\": 1, \"43\": 1, \"108\": 1, \"125\": 2, \"109\": 1}, \"10\": {\"10\": 104, \"126\": 1, \"70\": 4, \"108\": 2, \"24\": 10, \"43\": 2, \"113\": 1}, \"63\": {\"63\": 13, \"117\": 2, \"48\": 1}, \"43\": {\"43\": 112, \"110\": 2, \"10\": 1, \"122\": 1, \"109\": 2}, \"116\": {\"116\": 26, \"67\": 2}, \"1\": {\"1\": 70, \"105\": 2, \"49\": 2, \"90\": 2, \"111\": 2, \"114\": 6, \"107\": 1, \"14\": 1, \"71\": 2, \"5\": 4, \"3\": 5, \"110\": 1, \"40\": 5, \"99\": 2, \"108\": 1, \"70\": 1, \"88\": 1}, \"94\": {\"94\": 62, \"15\": 12, \"78\": 1, \"87\": 1, \"39\": 1, \"30\": 4, \"8\": 4, \"126\": 1, \"0\": 1, \"106\": 1}, \"38\": {\"38\": 8, \"5\": 2, \"81\": 1, \"83\": 1, \"44\": 1, \"40\": 2, \"107\": 1}, \"54\": {\"54\": 11, \"51\": 2, \"50\": 1, \"9\": 2}, \"74\": {\"74\": 13, \"50\": 1, \"33\": 2}, \"25\": {\"25\": 13, \"6\": 1, \"9\": 2}, \"75\": {\"25\": 1, \"75\": 14, \"41\": 1}, \"119\": {\"22\": 1, \"119\": 12, \"50\": 1, \"124\": 1, \"31\": 1}, \"46\": {\"46\": 11, \"22\": 1, \"128\": 2, \"114\": 1, \"119\": 1, \"129\": 1, \"19\": 1, \"89\": 1, \"111\": 1}, \"23\": {\"23\": 2, \"54\": 1, \"126\": 1, \"0\": 1, \"113\": 2, \"93\": 1, \"39\": 1, \"7\": 2, \"118\": 1, \"109\": 2, \"111\": 1, \"60\": 1}, \"99\": {\"99\": 27, \"40\": 4, \"14\": 3, \"72\": 1, \"5\": 1, \"105\": 2, \"114\": 1, \"71\": 1}, \"33\": {\"33\": 107, \"40\": 2, \"107\": 6, \"90\": 1, \"76\": 1, \"24\": 1}, \"47\": {\"47\": 12}, \"115\": {\"115\": 10, \"111\": 2, \"102\": 1, \"119\": 1, \"129\": 1, \"37\": 1}, \"6\": {\"6\": 22, \"37\": 1, \"39\": 1}, \"65\": {\"112\": 2, \"65\": 10}, \"66\": {\"66\": 9, \"120\": 1, \"90\": 2, \"38\": 1, \"64\": 1, \"22\": 2}, \"78\": {\"78\": 21, \"110\": 2, \"108\": 2, \"24\": 1, \"70\": 3, \"88\": 6, \"109\": 1}, \"98\": {\"98\": 115, \"103\": 1}, \"93\": {\"93\": 113, \"5\": 1, \"113\": 2}, \"48\": {\"48\": 13, \"117\": 1, \"50\": 1, \"63\": 1}, \"124\": {\"124\": 113, \"18\": 1}}, \"Wisig_2\": {\"115\": {\"115\": 12}, \"34\": {\"114\": 2, \"34\": 24, \"53\": 3, \"49\": 1, \"56\": 1, \"107\": 1}, \"97\": {\"7\": 2, \"97\": 14, \"0\": 1, \"90\": 1, \"101\": 2}, \"100\": {\"100\": 11, \"69\": 1, \"82\": 2, \"23\": 1, \"44\": 1}, \"129\": {\"129\": 30, \"5\": 2}, \"90\": {\"90\": 141, \"102\": 1}, \"125\": {\"125\": 131, \"2\": 1}, \"7\": {\"7\": 114, \"62\": 2, \"71\": 1, \"105\": 5, \"3\": 2, \"24\": 1, \"39\": 1, \"88\": 1, \"127\": 1}, \"92\": {\"100\": 1, \"90\": 1, \"92\": 16, \"74\": 1, \"107\": 1, \"128\": 1, \"89\": 3, \"55\": 1, \"63\": 1, \"82\": 2}, \"114\": {\"114\": 113, \"39\": 1, \"44\": 2}, \"80\": {\"80\": 15, \"82\": 1}, \"16\": {\"16\": 99, \"93\": 12, \"118\": 1, \"113\": 1, \"109\": 1, \"70\": 2, \"24\": 2, \"26\": 1, \"88\": 1, \"23\": 1, \"98\": 1}, \"69\": {\"69\": 101, \"72\": 1, \"113\": 1, \"18\": 4, \"26\": 4, \"84\": 2, \"93\": 1, \"87\": 1, \"109\": 1}, \"102\": {\"102\": 114}, \"33\": {\"33\": 130}, \"17\": {\"80\": 2, \"17\": 11, \"104\": 1, \"27\": 1, \"79\": 1}, \"27\": {\"27\": 58, \"24\": 1, \"70\": 1, \"94\": 1, \"109\": 1, \"8\": 1, \"11\": 1, \"78\": 1, \"30\": 1, \"36\": 1, \"39\": 1}, \"117\": {\"117\": 102, \"27\": 1, \"90\": 2, \"39\": 1}, \"14\": {\"14\": 36, \"71\": 2, \"40\": 2, \"44\": 1, \"84\": 1, \"69\": 1, \"39\": 1, \"1\": 2, \"21\": 1, \"107\": 1}, \"86\": {\"86\": 30, \"59\": 2}, \"0\": {\"0\": 105, \"21\": 1, \"10\": 1, \"36\": 1, \"30\": 1, \"16\": 1, \"97\": 1, \"12\": 2, \"24\": 1, \"8\": 2}, \"62\": {\"62\": 124, \"40\": 2, \"84\": 2, \"105\": 4, \"3\": 1, \"93\": 1, \"14\": 2, \"5\": 1, \"24\": 1}, \"39\": {\"39\": 94, \"109\": 11, \"87\": 1, \"70\": 4, \"88\": 2}, \"19\": {\"19\": 25, \"33\": 1, \"55\": 2}, \"44\": {\"14\": 1, \"44\": 97, \"3\": 1, \"62\": 1}, \"104\": {\"104\": 16, \"17\": 1, \"5\": 1, \"111\": 1, \"86\": 1}, \"3\": {\"14\": 2, \"3\": 112, \"105\": 2, \"71\": 4, \"1\": 3, \"87\": 1, \"39\": 1, \"43\": 2, \"21\": 1, \"40\": 2}, \"10\": {\"10\": 47, \"108\": 4, \"126\": 4, \"87\": 3, \"88\": 1, \"43\": 1}, \"61\": {\"61\": 9, \"76\": 1, \"36\": 1, \"70\": 1, \"74\": 2, \"66\": 1, \"19\": 1, \"107\": 2, \"39\": 1, \"126\": 1}, \"111\": {\"103\": 1, \"86\": 1, \"111\": 110, \"5\": 2}, \"68\": {\"111\": 1, \"98\": 2, \"54\": 1, \"68\": 9, \"76\": 1, \"129\": 2}, \"101\": {\"101\": 140, \"21\": 1, \"118\": 1, \"106\": 1, \"127\": 1}, \"36\": {\"36\": 115, \"96\": 1, \"15\": 1, \"88\": 1, \"30\": 2, \"8\": 2, \"109\": 3, \"16\": 1, \"87\": 1, \"70\": 1}, \"120\": {\"120\": 20}, \"103\": {\"103\": 13, \"111\": 2, \"59\": 1}, \"47\": {\"47\": 12}, \"98\": {\"98\": 116, \"34\": 2, \"5\": 1, \"33\": 1}, \"76\": {\"76\": 14, \"16\": 1, \"40\": 1}, \"88\": {\"88\": 100, \"78\": 4, \"39\": 2, \"109\": 12, \"70\": 5, \"126\": 1}, \"93\": {\"93\": 123, \"16\": 13, \"88\": 1, \"24\": 1}, \"23\": {\"93\": 1, \"36\": 2, \"11\": 3, \"18\": 2, \"110\": 2, \"72\": 3, \"0\": 2, \"23\": 8, \"69\": 1, \"70\": 1, \"16\": 1, \"94\": 5, \"30\": 3, \"118\": 2, \"96\": 1, \"15\": 2, \"26\": 1, \"113\": 3, \"12\": 1}, \"108\": {\"108\": 119, \"43\": 3, \"126\": 1, \"109\": 1}, \"51\": {\"51\": 5, \"54\": 1, \"106\": 2, \"90\": 1, \"97\": 1, \"35\": 1, \"34\": 1, \"107\": 2, \"58\": 1, \"71\": 1, \"116\": 1, \"127\": 2, \"21\": 1}, \"13\": {\"13\": 9, \"36\": 1, \"48\": 2, \"88\": 1, \"119\": 1, \"27\": 1, \"118\": 1}, \"77\": {\"77\": 16}, \"46\": {\"46\": 14, \"73\": 1, \"50\": 1}, \"96\": {\"96\": 16, \"1\": 1, \"69\": 1, \"93\": 2}, \"119\": {\"119\": 16, \"63\": 1, \"37\": 1, \"67\": 2}, \"121\": {\"121\": 36}, \"54\": {\"54\": 16, \"66\": 1, \"34\": 2, \"87\": 1}, \"82\": {\"82\": 30, \"90\": 1, \"99\": 1, \"78\": 1, \"92\": 1, \"89\": 2}, \"12\": {\"12\": 77, \"110\": 2, \"39\": 2, \"106\": 2, \"0\": 3, \"1\": 1, \"24\": 1}, \"74\": {\"74\": 13, \"32\": 2, \"105\": 1}, \"66\": {\"28\": 1, \"66\": 13, \"123\": 2, \"111\": 1, \"85\": 1, \"124\": 1, \"5\": 1}, \"28\": {\"28\": 15, \"73\": 2, \"66\": 1, \"98\": 2}, \"52\": {\"52\": 18, \"17\": 2}, \"41\": {\"41\": 12, \"52\": 1, \"5\": 2, \"17\": 2, \"124\": 1, \"114\": 1, \"91\": 1}, \"81\": {\"81\": 17, \"99\": 2, \"16\": 1, \"20\": 1, \"57\": 2, \"18\": 1}, \"48\": {\"48\": 20}, \"113\": {\"113\": 71, \"88\": 1}, \"53\": {\"53\": 15, \"74\": 1}, \"15\": {\"15\": 105, \"97\": 2, \"106\": 1, \"36\": 2, \"94\": 3, \"122\": 2, \"0\": 4, \"70\": 1}, \"30\": {\"30\": 91, \"8\": 3, \"122\": 4, \"11\": 2, \"24\": 1, \"94\": 1, \"16\": 1, \"118\": 1, \"36\": 4, \"12\": 1, \"84\": 1, \"70\": 1, \"126\": 1}, \"43\": {\"43\": 119, \"118\": 1, \"88\": 2, \"11\": 1, \"93\": 1}, \"29\": {\"29\": 29, \"91\": 3}, \"109\": {\"109\": 77, \"39\": 12, \"113\": 1, \"88\": 10}, \"60\": {\"60\": 20, \"110\": 3, \"122\": 1, \"30\": 1, \"26\": 1, \"72\": 1, \"70\": 1}, \"70\": {\"70\": 82, \"126\": 15, \"78\": 2, \"113\": 2, \"87\": 1, \"39\": 5, \"88\": 7, \"109\": 5, \"108\": 2, \"43\": 1}, \"127\": {\"127\": 116, \"101\": 2, \"40\": 2, \"24\": 1, \"3\": 2, \"71\": 1}, \"32\": {\"32\": 31, \"95\": 1, \"47\": 1, \"56\": 1, \"114\": 1, \"128\": 1}, \"73\": {\"73\": 19, \"66\": 2, \"88\": 1, \"89\": 2, \"98\": 4}, \"50\": {\"50\": 9, \"38\": 2, \"75\": 1, \"21\": 1, \"123\": 1, \"63\": 2}, \"1\": {\"1\": 112, \"8\": 1, \"14\": 1, \"93\": 1, \"69\": 2, \"40\": 3, \"87\": 1, \"88\": 1, \"126\": 1, \"3\": 1}, \"106\": {\"106\": 111, \"21\": 1, \"15\": 2, \"12\": 2, \"101\": 1, \"126\": 1, \"30\": 1, \"88\": 1}, \"123\": {\"82\": 1, \"74\": 1, \"66\": 3, \"123\": 6, \"28\": 2, \"129\": 1, \"53\": 1, \"61\": 1}, \"79\": {\"79\": 15, \"4\": 1}, \"4\": {\"4\": 80, \"125\": 3, \"78\": 1, \"126\": 1, \"108\": 1, \"5\": 2}, \"2\": {\"2\": 26, \"121\": 1, \"117\": 3, \"13\": 2}, \"8\": {\"8\": 114, \"30\": 2, \"122\": 6, \"88\": 2, \"11\": 1, \"113\": 1, \"39\": 2}, \"83\": {\"83\": 37, \"89\": 1, \"33\": 1, \"82\": 1}, \"105\": {\"105\": 127, \"21\": 1, \"7\": 2}, \"5\": {\"5\": 103, \"21\": 1, \"70\": 2, \"109\": 1, \"29\": 2, \"91\": 1, \"41\": 1, \"88\": 1}, \"99\": {\"99\": 29, \"121\": 2, \"18\": 1}, \"25\": {\"25\": 14, \"52\": 1, \"58\": 1}, \"59\": {\"59\": 7, \"17\": 1, \"21\": 2, \"6\": 1, \"5\": 3, \"86\": 1, \"70\": 1}, \"42\": {\"77\": 1, \"55\": 1, \"52\": 1, \"42\": 8, \"37\": 2, \"58\": 1, \"129\": 2, \"85\": 3, \"73\": 4, \"34\": 1, \"10\": 1, \"98\": 2, \"88\": 1}, \"55\": {\"95\": 2, \"55\": 9, \"19\": 1, \"14\": 1, \"61\": 2, \"38\": 1}, \"75\": {\"75\": 12, \"49\": 1, \"54\": 1, \"68\": 1, \"106\": 1}, \"118\": {\"118\": 66, \"43\": 1, \"87\": 1}, \"95\": {\"127\": 2, \"21\": 1, \"95\": 19, \"128\": 2, \"40\": 4, \"32\": 2, \"24\": 1, \"44\": 1, \"114\": 1, \"107\": 2, \"74\": 1}, \"122\": {\"122\": 90, \"11\": 11, \"30\": 2, \"113\": 1, \"24\": 1, \"8\": 11, \"43\": 1, \"94\": 2, \"108\": 1}, \"20\": {\"100\": 2, \"93\": 1, \"20\": 6, \"18\": 2, \"26\": 4, \"118\": 1}, \"110\": {\"110\": 25, \"11\": 1, \"57\": 1, \"84\": 1, \"6\": 1, \"21\": 1, \"122\": 2, \"39\": 1, \"87\": 2, \"118\": 1, \"71\": 1, \"52\": 1, \"30\": 2}, \"65\": {\"65\": 20}, \"37\": {\"37\": 13, \"13\": 1, \"5\": 1, \"86\": 1}, \"64\": {\"64\": 12, \"66\": 1, \"76\": 1, \"82\": 2}, \"63\": {\"92\": 2, \"63\": 16, \"116\": 1, \"17\": 1}, \"40\": {\"40\": 85, \"95\": 3, \"7\": 3, \"14\": 4, \"88\": 5, \"114\": 1, \"3\": 13, \"105\": 2, \"127\": 1, \"84\": 4, \"71\": 3, \"33\": 5, \"18\": 1, \"32\": 1, \"44\": 2, \"16\": 1, \"78\": 1, \"107\": 1, \"39\": 1, \"70\": 1, \"109\": 1, \"24\": 1}, \"21\": {\"21\": 43, \"109\": 2, \"39\": 2, \"78\": 1}, \"11\": {\"11\": 65, \"43\": 2, \"108\": 1, \"15\": 2, \"30\": 2, \"122\": 3, \"8\": 3, \"88\": 1, \"102\": 1}, \"67\": {\"66\": 1, \"67\": 12, \"129\": 1, \"119\": 2}, \"91\": {\"103\": 1, \"70\": 1, \"91\": 19, \"77\": 1, \"29\": 1, \"118\": 1, \"104\": 1, \"86\": 1, \"28\": 1, \"5\": 1}, \"87\": {\"87\": 95, \"43\": 3, \"126\": 2, \"108\": 1, \"16\": 1, \"39\": 6, \"88\": 1, \"24\": 1, \"109\": 2}, \"89\": {\"89\": 33, \"119\": 1, \"92\": 1, \"82\": 1}, \"9\": {\"9\": 32}, \"124\": {\"124\": 108, \"5\": 5, \"41\": 1}, \"56\": {\"56\": 10, \"103\": 1, \"34\": 1}, \"38\": {\"38\": 16}, \"94\": {\"94\": 35, \"97\": 1, \"0\": 5, \"110\": 1, \"108\": 2, \"36\": 2, \"30\": 3, \"8\": 3, \"109\": 2, \"102\": 1, \"15\": 5, \"87\": 2, \"39\": 2}, \"6\": {\"6\": 31, \"111\": 1}, \"58\": {\"58\": 13, \"51\": 2, \"34\": 2, \"109\": 1, \"55\": 1, \"32\": 1}, \"22\": {\"22\": 14, \"129\": 1, \"111\": 1, \"37\": 2, \"116\": 2}, \"24\": {\"10\": 2, \"24\": 89, \"118\": 1, \"126\": 4, \"109\": 3, \"21\": 1, \"36\": 1, \"78\": 4, \"70\": 1, \"111\": 1, \"39\": 2, \"101\": 1, \"88\": 2}, \"57\": {\"57\": 18, \"31\": 1, \"120\": 1}, \"112\": {\"112\": 10, \"53\": 1, \"56\": 3, \"85\": 1, \"19\": 1}, \"116\": {\"116\": 26, \"39\": 1, \"78\": 1}, \"18\": {\"18\": 103, \"109\": 1, \"87\": 1, \"84\": 2, \"26\": 8, \"78\": 1, \"70\": 2, \"88\": 1, \"24\": 2, \"69\": 5, \"93\": 2}, \"49\": {\"56\": 2, \"49\": 11, \"78\": 1, \"44\": 1, \"95\": 1, \"114\": 2, \"86\": 1, \"58\": 1, \"88\": 1, \"3\": 1, \"51\": 2}, \"45\": {\"45\": 13, \"19\": 1, \"37\": 1, \"129\": 1}, \"107\": {\"114\": 4, \"14\": 2, \"128\": 2, \"107\": 31, \"109\": 1, \"19\": 2, \"87\": 1, \"44\": 2, \"78\": 2, \"1\": 2, \"39\": 1, \"24\": 1, \"74\": 1, \"34\": 1, \"43\": 1, \"88\": 1, \"95\": 1, \"32\": 2, \"70\": 1, \"33\": 2, \"102\": 1, \"71\": 2}, \"35\": {\"35\": 10, \"1\": 2}, \"78\": {\"78\": 36, \"88\": 4, \"118\": 1, \"70\": 4, \"109\": 3}, \"126\": {\"126\": 113, \"70\": 6, \"39\": 1}, \"85\": {\"85\": 31, \"83\": 1}, \"72\": {\"72\": 26, \"69\": 1, \"21\": 1}, \"26\": {\"26\": 116, \"18\": 2, \"93\": 3, \"39\": 1, \"88\": 1, \"70\": 1}, \"84\": {\"84\": 79, \"118\": 1, \"71\": 2, \"24\": 1, \"69\": 2, \"113\": 1, \"1\": 4, \"62\": 2}, \"128\": {\"114\": 2, \"128\": 12, \"44\": 2, \"34\": 3, \"107\": 2, \"54\": 1, \"91\": 1, \"51\": 1}, \"31\": {\"31\": 20}, \"71\": {\"71\": 82, \"7\": 3, \"109\": 1, \"114\": 1, \"101\": 1, \"88\": 1, \"127\": 2, \"1\": 2, \"95\": 1, \"40\": 2, \"3\": 4}}, \"Wisig_1\": {\"22\": {\"22\": 16}, \"58\": {\"58\": 12}, \"109\": {\"109\": 117, \"70\": 7}, \"77\": {\"77\": 15, \"5\": 1}, \"74\": {\"74\": 16}, \"10\": {\"10\": 111, \"126\": 5, \"78\": 1, \"93\": 1, \"88\": 2}, \"70\": {\"109\": 8, \"70\": 118, \"90\": 1, \"108\": 1}, \"84\": {\"84\": 106, \"23\": 2}, \"52\": {\"52\": 14, \"49\": 2, \"103\": 2, \"75\": 2}, \"20\": {\"20\": 13, \"52\": 1, \"114\": 2}, \"14\": {\"14\": 90, \"105\": 2, \"118\": 1, \"44\": 3}, \"37\": {\"37\": 16}, \"42\": {\"42\": 18, \"83\": 3, \"67\": 1, \"73\": 1, \"82\": 3, \"107\": 2}, \"99\": {\"62\": 1, \"99\": 21, \"7\": 1, \"1\": 1}, \"35\": {\"35\": 12}, \"62\": {\"62\": 115, \"69\": 1, \"7\": 3, \"39\": 1}, \"61\": {\"61\": 9, \"66\": 3}, \"7\": {\"7\": 139, \"0\": 1, \"62\": 1, \"39\": 1}, \"69\": {\"69\": 98, \"11\": 2, \"108\": 1, \"39\": 1, \"7\": 1, \"26\": 1}, \"55\": {\"55\": 12}, \"41\": {\"41\": 14, \"5\": 2}, \"120\": {\"120\": 17, \"124\": 1, \"82\": 2}, \"123\": {\"123\": 16}, \"97\": {\"97\": 14, \"17\": 1, \"121\": 1, \"111\": 1, \"95\": 1, \"30\": 1, \"126\": 1}, \"102\": {\"102\": 117, \"39\": 1, \"11\": 1, \"109\": 1}, \"60\": {\"7\": 2, \"60\": 7, \"18\": 1, \"106\": 2, \"61\": 1, \"23\": 1, \"96\": 1, \"30\": 1}, \"127\": {\"127\": 93, \"34\": 1, \"10\": 2, \"71\": 6, \"11\": 1, \"78\": 1, \"40\": 2, \"12\": 2}, \"32\": {\"32\": 28, \"98\": 1, \"51\": 1, \"56\": 1, \"53\": 1}, \"3\": {\"20\": 2, \"3\": 74, \"110\": 1, \"85\": 1, \"44\": 1, \"94\": 1, \"1\": 3, \"30\": 1, \"62\": 2, \"111\": 1, \"39\": 1}, \"8\": {\"8\": 120, \"93\": 2}, \"129\": {\"129\": 19, \"55\": 1, \"67\": 2, \"2\": 1, \"5\": 2, \"54\": 1, \"116\": 1, \"42\": 1}, \"119\": {\"119\": 14, \"63\": 1, \"100\": 1}, \"21\": {\"21\": 38, \"39\": 1, \"5\": 1}, \"53\": {\"53\": 18, \"75\": 2}, \"28\": {\"28\": 13, \"65\": 1, \"90\": 4, \"64\": 2}, \"117\": {\"117\": 144}, \"112\": {\"112\": 9, \"53\": 1, \"58\": 1, \"98\": 2, \"59\": 1, \"111\": 1, \"37\": 1}, \"126\": {\"126\": 132, \"11\": 1, \"39\": 1}, \"30\": {\"30\": 40, \"96\": 2, \"97\": 4, \"108\": 4, \"36\": 1, \"11\": 1}, \"105\": {\"105\": 73, \"14\": 3, \"10\": 1, \"11\": 1, \"70\": 1, \"44\": 1, \"40\": 1, \"84\": 1, \"3\": 1, \"12\": 1}, \"29\": {\"29\": 28}, \"57\": {\"57\": 12}, \"93\": {\"93\": 135, \"8\": 1, \"43\": 3, \"11\": 1}, \"17\": {\"17\": 5, \"97\": 1, \"124\": 3, \"59\": 1, \"86\": 1, \"111\": 1, \"55\": 2, \"41\": 2}, \"44\": {\"44\": 62, \"105\": 7, \"1\": 1, \"14\": 2, \"40\": 3, \"106\": 1}, \"63\": {\"63\": 13, \"119\": 1, \"117\": 1, \"13\": 1}, \"87\": {\"87\": 92, \"8\": 7, \"43\": 2, \"109\": 1, \"122\": 4, \"93\": 1, \"108\": 1}, \"0\": {\"0\": 82, \"39\": 1, \"110\": 1}, \"96\": {\"96\": 12, \"25\": 1, \"126\": 1, \"8\": 3, \"117\": 1, \"36\": 1, \"93\": 1}, \"98\": {\"98\": 107, \"91\": 1}, \"75\": {\"75\": 9, \"53\": 2, \"32\": 3, \"49\": 2}, \"78\": {\"109\": 2, \"108\": 1, \"70\": 1, \"78\": 12}, \"116\": {\"116\": 25, \"102\": 1, \"2\": 1, \"117\": 1, \"90\": 1, \"83\": 1, \"22\": 1, \"70\": 1}, \"114\": {\"114\": 120, \"89\": 1, \"40\": 3, \"83\": 1, \"109\": 1, \"70\": 1, \"107\": 1}, \"103\": {\"103\": 13, \"29\": 2, \"1\": 1}, \"50\": {\"50\": 12, \"90\": 2, \"33\": 1, \"82\": 1}, \"124\": {\"124\": 127, \"46\": 1}, \"5\": {\"5\": 72, \"91\": 2, \"129\": 4, \"124\": 6, \"98\": 2, \"10\": 1, \"12\": 1}, \"73\": {\"114\": 1, \"49\": 1, \"54\": 4, \"73\": 8, \"83\": 4, \"44\": 1, \"105\": 1}, \"81\": {\"81\": 22, \"19\": 2, \"1\": 3, \"7\": 1}, \"49\": {\"49\": 13, \"73\": 1, \"72\": 1, \"34\": 2, \"89\": 1, \"9\": 1, \"128\": 1}, \"16\": {\"16\": 95, \"69\": 2, \"11\": 2, \"18\": 4, \"26\": 5}, \"101\": {\"101\": 118, \"29\": 1, \"12\": 3, \"107\": 1, \"106\": 1}, \"125\": {\"125\": 118}, \"65\": {\"66\": 4, \"17\": 1, \"67\": 1, \"65\": 3, \"42\": 1, \"26\": 1, \"55\": 1}, \"66\": {\"65\": 2, \"66\": 10, \"28\": 1, \"61\": 2, \"129\": 1}, \"79\": {\"104\": 1, \"79\": 10, \"86\": 1}, \"39\": {\"39\": 104}, \"104\": {\"28\": 2, \"104\": 11, \"5\": 1, \"85\": 1, \"80\": 1}, \"91\": {\"91\": 24, \"86\": 2, \"98\": 1, \"5\": 1}, \"25\": {\"82\": 1, \"25\": 11, \"42\": 2, \"100\": 1, \"107\": 1}, \"64\": {\"64\": 16}, \"34\": {\"127\": 1, \"34\": 7, \"51\": 1, \"20\": 1, \"49\": 1, \"89\": 5, \"36\": 1, \"40\": 4, \"107\": 4, \"75\": 1, \"105\": 2, \"53\": 1, \"98\": 1, \"106\": 1, \"33\": 1}, \"82\": {\"82\": 34, \"42\": 1, \"64\": 1}, \"18\": {\"18\": 116, \"16\": 5, \"26\": 3}, \"43\": {\"43\": 125, \"78\": 1, \"11\": 1, \"8\": 1}, \"47\": {\"47\": 9, \"89\": 2, \"32\": 1}, \"108\": {\"108\": 107, \"70\": 2, \"129\": 1, \"88\": 3, \"24\": 8, \"10\": 1, \"11\": 1, \"126\": 1}, \"111\": {\"111\": 104, \"68\": 1, \"70\": 1, \"59\": 2}, \"23\": {\"23\": 6, \"87\": 1, \"7\": 3, \"27\": 1, \"62\": 5, \"3\": 1, \"43\": 2, \"31\": 1, \"15\": 1, \"110\": 1, \"88\": 2}, \"90\": {\"90\": 158, \"107\": 1, \"71\": 1}, \"4\": {\"4\": 99, \"87\": 1}, \"92\": {\"92\": 28}, \"2\": {\"2\": 21, \"42\": 1, \"117\": 4, \"66\": 2, \"5\": 1, \"82\": 1, \"104\": 1, \"15\": 1}, \"45\": {\"116\": 2, \"42\": 2, \"104\": 4, \"70\": 1, \"45\": 2, \"21\": 1}, \"68\": {\"68\": 16}, \"26\": {\"26\": 127, \"16\": 1}, \"38\": {\"38\": 11, \"20\": 1, \"128\": 1, \"74\": 1, \"33\": 2}, \"40\": {\"40\": 98, \"73\": 1, \"44\": 4, \"105\": 7, \"35\": 2, \"34\": 1, \"114\": 11, \"14\": 8, \"107\": 2, \"1\": 3, \"72\": 1, \"12\": 2, \"71\": 1, \"84\": 1}, \"80\": {\"80\": 14, \"20\": 1, \"74\": 1}, \"107\": {\"107\": 109, \"49\": 1, \"93\": 1, \"114\": 5, \"11\": 1, \"40\": 2, \"19\": 1, \"39\": 1, \"126\": 1}, \"94\": {\"94\": 85, \"15\": 5, \"36\": 2}, \"115\": {\"115\": 12}, \"46\": {\"5\": 2, \"46\": 8, \"70\": 1, \"6\": 1}, \"72\": {\"72\": 23, \"44\": 1, \"107\": 2, \"127\": 1, \"101\": 1, \"12\": 1, \"35\": 1, \"114\": 1, \"71\": 1}, \"19\": {\"107\": 1, \"19\": 21, \"32\": 1, \"73\": 1, \"128\": 2, \"96\": 1, \"81\": 1}, \"100\": {\"100\": 13, \"98\": 1, \"124\": 1, \"16\": 1}, \"76\": {\"76\": 15, \"88\": 1}, \"106\": {\"106\": 130, \"12\": 2}, \"88\": {\"88\": 114, \"108\": 4, \"24\": 10, \"70\": 1, \"126\": 1}, \"15\": {\"15\": 98, \"94\": 5, \"11\": 1}, \"54\": {\"54\": 13, \"15\": 1, \"89\": 1, \"97\": 1}, \"13\": {\"13\": 15, \"102\": 1}, \"51\": {\"51\": 15, \"49\": 1}, \"24\": {\"24\": 68, \"88\": 18, \"108\": 5, \"118\": 1}, \"48\": {\"48\": 12}, \"85\": {\"85\": 31, \"98\": 1}, \"33\": {\"33\": 140}, \"71\": {\"71\": 93, \"62\": 1, \"127\": 4, \"101\": 5, \"117\": 1, \"82\": 1, \"3\": 1, \"40\": 1, \"12\": 1}, \"6\": {\"6\": 26, \"68\": 1, \"111\": 3, \"46\": 1, \"58\": 1}, \"83\": {\"83\": 22, \"47\": 1, \"2\": 2, \"85\": 1, \"128\": 1, \"34\": 1}, \"121\": {\"121\": 31, \"117\": 1}, \"31\": {\"31\": 11, \"1\": 1, \"106\": 1, \"122\": 1, \"74\": 1, \"9\": 1}, \"67\": {\"109\": 1, \"67\": 13, \"64\": 2}, \"1\": {\"1\": 131, \"14\": 2, \"33\": 1, \"105\": 1, \"78\": 1}, \"27\": {\"27\": 89, \"109\": 1, \"88\": 2}, \"118\": {\"118\": 82, \"39\": 1, \"70\": 1}, \"56\": {\"56\": 12}, \"36\": {\"36\": 125, \"39\": 1, \"94\": 2}, \"11\": {\"11\": 122, \"107\": 1, \"118\": 1, \"126\": 2}, \"110\": {\"110\": 117, \"11\": 1, \"12\": 1, \"94\": 2, \"78\": 1}, \"89\": {\"89\": 33, \"29\": 1, \"72\": 1, \"98\": 1}, \"113\": {\"113\": 110, \"108\": 1, \"12\": 1, \"16\": 2, \"125\": 1, \"126\": 1, \"1\": 1, \"39\": 1}, \"59\": {\"59\": 12}, \"9\": {\"9\": 29, \"70\": 1, \"101\": 2}, \"86\": {\"86\": 28, \"115\": 2, \"124\": 1, \"5\": 1, \"17\": 1, \"22\": 2, \"29\": 1}, \"12\": {\"12\": 81, \"106\": 13, \"71\": 2, \"70\": 1, \"101\": 4, \"109\": 1, \"24\": 1, \"39\": 1}, \"122\": {\"87\": 2, \"122\": 72, \"43\": 9, \"118\": 1, \"8\": 2, \"11\": 2}, \"128\": {\"38\": 1, \"51\": 1, \"128\": 10, \"19\": 3, \"114\": 1, \"82\": 1, \"50\": 1, \"120\": 2, \"107\": 2, \"34\": 2}, \"95\": {\"95\": 33, \"24\": 1, \"33\": 2}}}, \"per_domain_accuracy\": {\"ORACLE.run114\": {\"accuracy\": 0.8380208333333333, \"source?\": true}, \"ORACLE.run120\": {\"accuracy\": 0.7713541666666667, \"source?\": true}, \"ORACLE.run150\": {\"accuracy\": 0.878125, \"source?\": true}, \"ORACLE.run126\": {\"accuracy\": 0.7075520833333333, \"source?\": true}, \"ORACLE.run132\": {\"accuracy\": 0.8151041666666666, \"source?\": true}, \"ORACLE.run144\": {\"accuracy\": 0.8106770833333333, \"source?\": true}, \"ORACLE.run18\": {\"accuracy\": 0.78828125, \"source?\": true}, \"ORACLE.run138\": {\"accuracy\": 0.8916666666666667, \"source?\": true}, \"Wisig_3\": {\"accuracy\": 0.888646288209607, \"source?\": false}, \"Wisig_4\": {\"accuracy\": 0.8544679752066116, \"source?\": false}, \"Wisig_2\": {\"accuracy\": 0.853243670886076, \"source?\": false}, \"Wisig_1\": {\"accuracy\": 0.900078781512605, \"source?\": false}}}, \"history\": {\"epoch_indices\": [1, 2, 3, 4, 5, 6, 7, 8, 9, 10, 11, 12, 13, 14, 15, 16, 17, 18, 19, 20, 21, 22, 23, 24], \"train_label_loss\": [1.1754167173456933, 0.7334754634404643, 0.5582674444808314, 0.4514777461643375, 0.3841470400642027, 0.34543541453867443, 0.3145617136715113, 0.28763293038549215, 0.26633086185417293, 0.2517771844416746, 0.23336631850371695, 0.21908425934733325, 0.20742931945041207, 0.19586055697369115, 0.18455710791488292, 0.1745200470671253, 0.16710980114207596, 0.15664954122594715, 0.14966370472939702, 0.14329128301727298, 0.1383557078354659, 0.1328421264936272, 0.12763042023262924, 0.12364434542933861], \"source_val_label_loss\": [1.1464276313781738, 0.6855093240737915, 0.571892261505127, 0.5306568741798401, 0.5063367486000061, 0.5206635594367981, 0.516913890838623, 0.5236523151397705, 0.5207657217979431, 0.549418032169342, 0.5619504451751709, 0.5617099404335022, 0.5728490352630615, 0.5935122966766357, 0.5911475419998169, 0.597119152545929, 0.6291796565055847, 0.6300634145736694, 0.6518800854682922, 0.6579535603523254, 0.6453967690467834, 0.6723970770835876, 0.6874716877937317, 0.7208119034767151], \"target_val_label_loss\": [45.63949966430664, 41.10206604003906, 59.60002517700195, 60.36014938354492, 67.43949127197266, 76.9300765991211, 93.87629699707031, 86.13848114013672, 83.47557067871094, 103.758056640625, 108.08944702148438, 96.16746520996094, 120.0740966796875, 106.21129608154297, 102.01689910888672, 115.19572448730469, 115.58289337158203, 110.33338165283203, 103.94110870361328, 110.16120910644531, 109.43494415283203, 110.16912841796875, 106.67974090576172, 122.31538391113281], \"source_val_acc_label\": [0.64580078125, 0.7528645833333333, 0.7981770833333334, 0.8092447916666666, 0.8216471354166667, 0.8232096354166667, 0.8250325520833334, 0.82197265625, 0.8225911458333334, 0.8238932291666666, 0.81669921875, 0.8222981770833333, 0.82431640625, 0.8201822916666667, 0.8181966145833334, 0.8183919270833333, 0.8139973958333333, 0.814453125, 0.8104166666666667, 0.81259765625, 0.8071614583333333, 0.8117513020833333, 0.8126627604166666, 0.8043294270833333], \"target_val_acc_label\": [0.7020679175475687, 0.7621234143763214, 0.7986588266384778, 0.8251189217758985, 0.8349960359408034, 0.8410742600422833, 0.842362579281184, 0.8486059725158562, 0.8557412790697675, 0.8558403805496829, 0.8570626321353065, 0.8578884778012685, 0.8611257928118393, 0.8651889534883721, 0.870507399577167, 0.8648586152219874, 0.8673361522198731, 0.867468287526427, 0.8721921247357294, 0.8739098837209303, 0.8719278541226215, 0.8718617864693446, 0.8723903276955602, 0.8738438160676533]}, \"dataset_metrics\": {\"source\": {\"train\": {\"n_unique_x\": 179200, \"n_unique_y\": 16, \"n_batch/episode\": 6720}, \"val\": {\"n_unique_x\": 38400, \"n_unique_y\": 16, \"n_batch/episode\": 960}, \"test\": {\"n_unique_x\": 38400, \"n_unique_y\": 16, \"n_batch/episode\": 960}}, \"target\": {\"train\": {\"n_unique_x\": 189051, \"n_unique_y\": 130, \"n_batch/episode\": 6861}, \"val\": {\"n_unique_x\": 40049, \"n_unique_y\": 130, \"n_batch/episode\": 946}, \"test\": {\"n_unique_x\": 40794, \"n_unique_y\": 130, \"n_batch/episode\": 966}}}}'"
      ]
     },
     "execution_count": 29,
     "metadata": {},
     "output_type": "execute_result"
    }
   ],
   "source": [
    "json.dumps(experiment)"
   ]
  }
 ],
 "metadata": {
  "celltoolbar": "Tags",
  "kernelspec": {
   "display_name": "Python 3 (ipykernel)",
   "language": "python",
   "name": "python3"
  },
  "language_info": {
   "codemirror_mode": {
    "name": "ipython",
    "version": 3
   },
   "file_extension": ".py",
   "mimetype": "text/x-python",
   "name": "python",
   "nbconvert_exporter": "python",
   "pygments_lexer": "ipython3",
   "version": "3.8.12"
  },
  "papermill": {
   "default_parameters": {},
   "duration": 4055.766809,
   "end_time": "2022-03-22T23:16:30.242388",
   "environment_variables": {},
   "exception": null,
   "input_path": "/root/csc500-main/csc500-notebooks/templates/tl_ptn_template.ipynb",
   "output_path": "trial.ipynb",
   "parameters": {
    "parameters": {
     "BEST_MODEL_PATH": "./best_model.pth",
     "NUM_LOGS_PER_EPOCH": 10,
     "criteria_for_best": "target_accuracy",
     "dataset_seed": 420,
     "datasets": [
      {
       "domain_prefix": "Wisig_",
       "domains": [
        1,
        2,
        3,
        4
       ],
       "episode_transforms": [],
       "labels": [
        "1-10",
        "1-12",
        "1-14",
        "1-16",
        "1-18",
        "1-19",
        "1-8",
        "10-11",
        "10-17",
        "10-4",
        "10-7",
        "11-1",
        "11-10",
        "11-19",
        "11-20",
        "11-4",
        "11-7",
        "12-19",
        "12-20",
        "12-7",
        "13-14",
        "13-18",
        "13-19",
        "13-20",
        "13-3",
        "13-7",
        "14-10",
        "14-11",
        "14-12",
        "14-13",
        "14-14",
        "14-19",
        "14-20",
        "14-7",
        "14-8",
        "14-9",
        "15-1",
        "15-19",
        "15-6",
        "16-1",
        "16-16",
        "16-19",
        "16-20",
        "17-10",
        "17-11",
        "18-1",
        "18-10",
        "18-11",
        "18-12",
        "18-13",
        "18-14",
        "18-15",
        "18-16",
        "18-17",
        "18-19",
        "18-2",
        "18-20",
        "18-4",
        "18-5",
        "18-7",
        "18-8",
        "18-9",
        "19-1",
        "19-10",
        "19-11",
        "19-12",
        "19-13",
        "19-14",
        "19-15",
        "19-19",
        "19-2",
        "19-20",
        "19-3",
        "19-4",
        "19-6",
        "19-7",
        "19-8",
        "19-9",
        "2-1",
        "2-13",
        "2-15",
        "2-3",
        "2-4",
        "2-5",
        "2-6",
        "2-7",
        "2-8",
        "20-1",
        "20-12",
        "20-14",
        "20-15",
        "20-16",
        "20-18",
        "20-19",
        "20-20",
        "20-3",
        "20-4",
        "20-5",
        "20-7",
        "20-8",
        "3-1",
        "3-13",
        "3-18",
        "3-2",
        "3-8",
        "4-1",
        "4-10",
        "4-11",
        "5-1",
        "5-5",
        "6-1",
        "6-15",
        "6-6",
        "7-10",
        "7-11",
        "7-12",
        "7-13",
        "7-14",
        "7-7",
        "7-8",
        "7-9",
        "8-1",
        "8-13",
        "8-14",
        "8-18",
        "8-20",
        "8-3",
        "8-8",
        "9-1",
        "9-7"
       ],
       "num_examples_per_domain_per_label": -1,
       "pickle_path": "/root/csc500-main/datasets/wisig.node3-19.stratified_ds.2022A.pkl",
       "source_or_target_dataset": "target",
       "x_transforms": []
      },
      {
       "domain_prefix": "ORACLE.run1",
       "domains": [
        32,
        38,
        8,
        44,
        14,
        50,
        20,
        26
       ],
       "episode_transforms": [],
       "labels": [
        "3123D52",
        "3123D65",
        "3123D79",
        "3123D80",
        "3123D54",
        "3123D70",
        "3123D7B",
        "3123D89",
        "3123D58",
        "3123D76",
        "3123D7D",
        "3123EFE",
        "3123D64",
        "3123D78",
        "3123D7E",
        "3124E4A"
       ],
       "num_examples_per_domain_per_label": 2000,
       "pickle_path": "/root/csc500-main/datasets/oracle.Run1_10kExamples_stratified_ds.2022A.pkl",
       "source_or_target_dataset": "source",
       "x_transforms": []
      }
     ],
     "device": "cuda",
     "experiment_name": "tl_1v2:wisig-oracle.run1.limited",
     "lr": 0.0001,
     "n_epoch": 50,
     "n_query": 2,
     "n_shot": 3,
     "n_way": 16,
     "patience": 3,
     "seed": 420,
     "test_k_factor": 2,
     "torch_default_dtype": "torch.float32",
     "train_k_factor": 3,
     "val_k_factor": 2,
     "x_net": [
      {
       "class": "nnReshape",
       "kargs": {
        "shape": [
         -1,
         1,
         2,
         256
        ]
       }
      },
      {
       "class": "Conv2d",
       "kargs": {
        "bias": false,
        "in_channels": 1,
        "kernel_size": [
         1,
         7
        ],
        "out_channels": 256,
        "padding": [
         0,
         3
        ]
       }
      },
      {
       "class": "ReLU",
       "kargs": {
        "inplace": true
       }
      },
      {
       "class": "BatchNorm2d",
       "kargs": {
        "num_features": 256
       }
      },
      {
       "class": "Conv2d",
       "kargs": {
        "bias": true,
        "in_channels": 256,
        "kernel_size": [
         2,
         7
        ],
        "out_channels": 80,
        "padding": [
         0,
         3
        ]
       }
      },
      {
       "class": "ReLU",
       "kargs": {
        "inplace": true
       }
      },
      {
       "class": "BatchNorm2d",
       "kargs": {
        "num_features": 80
       }
      },
      {
       "class": "Flatten",
       "kargs": {}
      },
      {
       "class": "Linear",
       "kargs": {
        "in_features": 20480,
        "out_features": 256
       }
      },
      {
       "class": "ReLU",
       "kargs": {
        "inplace": true
       }
      },
      {
       "class": "BatchNorm1d",
       "kargs": {
        "num_features": 256
       }
      },
      {
       "class": "Linear",
       "kargs": {
        "in_features": 256,
        "out_features": 256
       }
      }
     ]
    }
   },
   "start_time": "2022-03-22T22:08:54.475579",
   "version": "2.3.4"
  }
 },
 "nbformat": 4,
 "nbformat_minor": 5
}