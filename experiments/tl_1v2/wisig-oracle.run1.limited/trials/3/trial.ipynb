{
 "cells": [
  {
   "cell_type": "markdown",
   "id": "9fea5f46",
   "metadata": {
    "papermill": {
     "duration": 0.028817,
     "end_time": "2022-03-22T16:42:35.863162",
     "exception": false,
     "start_time": "2022-03-22T16:42:35.834345",
     "status": "completed"
    },
    "tags": []
   },
   "source": [
    "# Transfer Learning Template"
   ]
  },
  {
   "cell_type": "code",
   "execution_count": 1,
   "id": "0902182a",
   "metadata": {
    "execution": {
     "iopub.execute_input": "2022-03-22T16:42:35.925100Z",
     "iopub.status.busy": "2022-03-22T16:42:35.919357Z",
     "iopub.status.idle": "2022-03-22T16:42:37.738038Z",
     "shell.execute_reply": "2022-03-22T16:42:37.737135Z"
    },
    "papermill": {
     "duration": 1.851309,
     "end_time": "2022-03-22T16:42:37.738234",
     "exception": false,
     "start_time": "2022-03-22T16:42:35.886925",
     "status": "completed"
    },
    "tags": []
   },
   "outputs": [],
   "source": [
    "%load_ext autoreload\n",
    "%autoreload 2\n",
    "%matplotlib inline\n",
    "\n",
    "    \n",
    "import os, json, sys, time, random\n",
    "import numpy as np\n",
    "import torch\n",
    "from torch.optim import Adam\n",
    "from  easydict import EasyDict\n",
    "import matplotlib.pyplot as plt\n",
    "\n",
    "from steves_models.steves_ptn import Steves_Prototypical_Network\n",
    "\n",
    "from steves_utils.lazy_iterable_wrapper import Lazy_Iterable_Wrapper\n",
    "from steves_utils.iterable_aggregator import Iterable_Aggregator\n",
    "from steves_utils.ptn_train_eval_test_jig import  PTN_Train_Eval_Test_Jig\n",
    "from steves_utils.torch_sequential_builder import build_sequential\n",
    "from steves_utils.torch_utils import get_dataset_metrics, ptn_confusion_by_domain_over_dataloader\n",
    "from steves_utils.utils_v2 import (per_domain_accuracy_from_confusion, get_datasets_base_path)\n",
    "from steves_utils.PTN.utils import independent_accuracy_assesment\n",
    "\n",
    "from torch.utils.data import DataLoader\n",
    "\n",
    "from steves_utils.stratified_dataset.episodic_accessor import Episodic_Accessor_Factory\n",
    "\n",
    "from steves_utils.ptn_do_report import (\n",
    "    get_loss_curve,\n",
    "    get_results_table,\n",
    "    get_parameters_table,\n",
    "    get_domain_accuracies,\n",
    ")\n",
    "\n",
    "from steves_utils.transforms import get_chained_transform"
   ]
  },
  {
   "cell_type": "markdown",
   "id": "41c840b4",
   "metadata": {
    "papermill": {
     "duration": 0.019065,
     "end_time": "2022-03-22T16:42:37.782591",
     "exception": false,
     "start_time": "2022-03-22T16:42:37.763526",
     "status": "completed"
    },
    "tags": []
   },
   "source": [
    "# Allowed Parameters\n",
    "These are allowed parameters, not defaults\n",
    "Each of these values need to be present in the injected parameters (the notebook will raise an exception if they are not present)\n",
    "\n",
    "Papermill uses the cell tag \"parameters\" to inject the real parameters below this cell.\n",
    "Enable tags to see what I mean"
   ]
  },
  {
   "cell_type": "code",
   "execution_count": 2,
   "id": "fd44eb83",
   "metadata": {
    "execution": {
     "iopub.execute_input": "2022-03-22T16:42:37.827197Z",
     "iopub.status.busy": "2022-03-22T16:42:37.826550Z",
     "iopub.status.idle": "2022-03-22T16:42:37.848935Z",
     "shell.execute_reply": "2022-03-22T16:42:37.848125Z"
    },
    "papermill": {
     "duration": 0.04731,
     "end_time": "2022-03-22T16:42:37.849106",
     "exception": false,
     "start_time": "2022-03-22T16:42:37.801796",
     "status": "completed"
    },
    "tags": []
   },
   "outputs": [],
   "source": [
    "required_parameters = {\n",
    "    \"experiment_name\",\n",
    "    \"lr\",\n",
    "    \"device\",\n",
    "    \"seed\",\n",
    "    \"dataset_seed\",\n",
    "    \"n_shot\",\n",
    "    \"n_query\",\n",
    "    \"n_way\",\n",
    "    \"train_k_factor\",\n",
    "    \"val_k_factor\",\n",
    "    \"test_k_factor\",\n",
    "    \"n_epoch\",\n",
    "    \"patience\",\n",
    "    \"criteria_for_best\",\n",
    "    \"x_net\",\n",
    "    \"datasets\",\n",
    "    \"torch_default_dtype\",\n",
    "    \"NUM_LOGS_PER_EPOCH\",\n",
    "    \"BEST_MODEL_PATH\",\n",
    "    \"x_shape\",\n",
    "}"
   ]
  },
  {
   "cell_type": "code",
   "execution_count": 3,
   "id": "fa3f0049",
   "metadata": {
    "execution": {
     "iopub.execute_input": "2022-03-22T16:42:37.909156Z",
     "iopub.status.busy": "2022-03-22T16:42:37.908220Z",
     "iopub.status.idle": "2022-03-22T16:42:37.927787Z",
     "shell.execute_reply": "2022-03-22T16:42:37.926956Z"
    },
    "papermill": {
     "duration": 0.049999,
     "end_time": "2022-03-22T16:42:37.927949",
     "exception": false,
     "start_time": "2022-03-22T16:42:37.877950",
     "status": "completed"
    },
    "tags": [
     "parameters"
    ]
   },
   "outputs": [],
   "source": [
    "from steves_utils.CORES.utils import (\n",
    "    ALL_NODES,\n",
    "    ALL_NODES_MINIMUM_1000_EXAMPLES,\n",
    "    ALL_DAYS\n",
    ")\n",
    "\n",
    "from steves_utils.ORACLE.utils_v2 import (\n",
    "    ALL_DISTANCES_FEET_NARROWED,\n",
    "    ALL_RUNS,\n",
    "    ALL_SERIAL_NUMBERS,\n",
    ")\n",
    "\n",
    "standalone_parameters = {}\n",
    "standalone_parameters[\"experiment_name\"] = \"STANDALONE PTN\"\n",
    "standalone_parameters[\"lr\"] = 0.001\n",
    "standalone_parameters[\"device\"] = \"cuda\"\n",
    "\n",
    "standalone_parameters[\"seed\"] = 1337\n",
    "standalone_parameters[\"dataset_seed\"] = 1337\n",
    "\n",
    "standalone_parameters[\"n_way\"] = 8\n",
    "standalone_parameters[\"n_shot\"] = 3\n",
    "standalone_parameters[\"n_query\"]  = 2\n",
    "standalone_parameters[\"train_k_factor\"] = 1\n",
    "standalone_parameters[\"val_k_factor\"] = 2\n",
    "standalone_parameters[\"test_k_factor\"] = 2\n",
    "\n",
    "\n",
    "standalone_parameters[\"n_epoch\"] = 50\n",
    "\n",
    "standalone_parameters[\"patience\"] = 10\n",
    "standalone_parameters[\"criteria_for_best\"] = \"source_loss\"\n",
    "\n",
    "standalone_parameters[\"datasets\"] = [\n",
    "    {\n",
    "        \"labels\": ALL_SERIAL_NUMBERS,\n",
    "        \"domains\": ALL_DISTANCES_FEET_NARROWED,\n",
    "        \"num_examples_per_domain_per_label\": 100,\n",
    "        \"pickle_path\": os.path.join(get_datasets_base_path(), \"oracle.Run1_framed_2000Examples_stratified_ds.2022A.pkl\"),\n",
    "        \"source_or_target_dataset\": \"source\",\n",
    "        \"x_transforms\": [\"unit_mag\", \"minus_two\"],\n",
    "        \"episode_transforms\": [],\n",
    "        \"domain_prefix\": \"ORACLE_\"\n",
    "    },\n",
    "    {\n",
    "        \"labels\": ALL_NODES,\n",
    "        \"domains\": ALL_DAYS,\n",
    "        \"num_examples_per_domain_per_label\": 100,\n",
    "        \"pickle_path\": os.path.join(get_datasets_base_path(), \"cores.stratified_ds.2022A.pkl\"),\n",
    "        \"source_or_target_dataset\": \"target\",\n",
    "        \"x_transforms\": [\"unit_power\", \"times_zero\"],\n",
    "        \"episode_transforms\": [],\n",
    "        \"domain_prefix\": \"CORES_\"\n",
    "    }   \n",
    "]\n",
    "\n",
    "standalone_parameters[\"torch_default_dtype\"] = \"torch.float32\" \n",
    "\n",
    "\n",
    "\n",
    "standalone_parameters[\"x_net\"] =     [\n",
    "    {\"class\": \"nnReshape\", \"kargs\": {\"shape\":[-1, 1, 2, 256]}},\n",
    "    {\"class\": \"Conv2d\", \"kargs\": { \"in_channels\":1, \"out_channels\":256, \"kernel_size\":(1,7), \"bias\":False, \"padding\":(0,3), },},\n",
    "    {\"class\": \"ReLU\", \"kargs\": {\"inplace\": True}},\n",
    "    {\"class\": \"BatchNorm2d\", \"kargs\": {\"num_features\":256}},\n",
    "\n",
    "    {\"class\": \"Conv2d\", \"kargs\": { \"in_channels\":256, \"out_channels\":80, \"kernel_size\":(2,7), \"bias\":True, \"padding\":(0,3), },},\n",
    "    {\"class\": \"ReLU\", \"kargs\": {\"inplace\": True}},\n",
    "    {\"class\": \"BatchNorm2d\", \"kargs\": {\"num_features\":80}},\n",
    "    {\"class\": \"Flatten\", \"kargs\": {}},\n",
    "\n",
    "    {\"class\": \"Linear\", \"kargs\": {\"in_features\": 80*256, \"out_features\": 256}}, # 80 units per IQ pair\n",
    "    {\"class\": \"ReLU\", \"kargs\": {\"inplace\": True}},\n",
    "    {\"class\": \"BatchNorm1d\", \"kargs\": {\"num_features\":256}},\n",
    "\n",
    "    {\"class\": \"Linear\", \"kargs\": {\"in_features\": 256, \"out_features\": 256}},\n",
    "]\n",
    "\n",
    "# Parameters relevant to results\n",
    "# These parameters will basically never need to change\n",
    "standalone_parameters[\"NUM_LOGS_PER_EPOCH\"] = 10\n",
    "standalone_parameters[\"BEST_MODEL_PATH\"] = \"./best_model.pth\"\n",
    "\n",
    "\n",
    "\n",
    "\n"
   ]
  },
  {
   "cell_type": "code",
   "execution_count": 4,
   "id": "99baaaf1",
   "metadata": {
    "execution": {
     "iopub.execute_input": "2022-03-22T16:42:37.979931Z",
     "iopub.status.busy": "2022-03-22T16:42:37.974399Z",
     "iopub.status.idle": "2022-03-22T16:42:38.009068Z",
     "shell.execute_reply": "2022-03-22T16:42:38.008243Z"
    },
    "papermill": {
     "duration": 0.057116,
     "end_time": "2022-03-22T16:42:38.009232",
     "exception": false,
     "start_time": "2022-03-22T16:42:37.952116",
     "status": "completed"
    },
    "tags": [
     "injected-parameters"
    ]
   },
   "outputs": [],
   "source": [
    "# Parameters\n",
    "parameters = {\n",
    "    \"experiment_name\": \"tl_1v2:wisig-oracle.run1.limited\",\n",
    "    \"device\": \"cuda\",\n",
    "    \"lr\": 0.0001,\n",
    "    \"n_shot\": 3,\n",
    "    \"n_query\": 2,\n",
    "    \"train_k_factor\": 3,\n",
    "    \"val_k_factor\": 2,\n",
    "    \"test_k_factor\": 2,\n",
    "    \"torch_default_dtype\": \"torch.float32\",\n",
    "    \"n_epoch\": 50,\n",
    "    \"patience\": 3,\n",
    "    \"criteria_for_best\": \"target_accuracy\",\n",
    "    \"x_net\": [\n",
    "        {\"class\": \"nnReshape\", \"kargs\": {\"shape\": [-1, 1, 2, 256]}},\n",
    "        {\n",
    "            \"class\": \"Conv2d\",\n",
    "            \"kargs\": {\n",
    "                \"in_channels\": 1,\n",
    "                \"out_channels\": 256,\n",
    "                \"kernel_size\": [1, 7],\n",
    "                \"bias\": False,\n",
    "                \"padding\": [0, 3],\n",
    "            },\n",
    "        },\n",
    "        {\"class\": \"ReLU\", \"kargs\": {\"inplace\": True}},\n",
    "        {\"class\": \"BatchNorm2d\", \"kargs\": {\"num_features\": 256}},\n",
    "        {\n",
    "            \"class\": \"Conv2d\",\n",
    "            \"kargs\": {\n",
    "                \"in_channels\": 256,\n",
    "                \"out_channels\": 80,\n",
    "                \"kernel_size\": [2, 7],\n",
    "                \"bias\": True,\n",
    "                \"padding\": [0, 3],\n",
    "            },\n",
    "        },\n",
    "        {\"class\": \"ReLU\", \"kargs\": {\"inplace\": True}},\n",
    "        {\"class\": \"BatchNorm2d\", \"kargs\": {\"num_features\": 80}},\n",
    "        {\"class\": \"Flatten\", \"kargs\": {}},\n",
    "        {\"class\": \"Linear\", \"kargs\": {\"in_features\": 20480, \"out_features\": 256}},\n",
    "        {\"class\": \"ReLU\", \"kargs\": {\"inplace\": True}},\n",
    "        {\"class\": \"BatchNorm1d\", \"kargs\": {\"num_features\": 256}},\n",
    "        {\"class\": \"Linear\", \"kargs\": {\"in_features\": 256, \"out_features\": 256}},\n",
    "    ],\n",
    "    \"NUM_LOGS_PER_EPOCH\": 10,\n",
    "    \"BEST_MODEL_PATH\": \"./best_model.pth\",\n",
    "    \"n_way\": 16,\n",
    "    \"datasets\": [\n",
    "        {\n",
    "            \"labels\": [\n",
    "                \"1-10\",\n",
    "                \"1-12\",\n",
    "                \"1-14\",\n",
    "                \"1-16\",\n",
    "                \"1-18\",\n",
    "                \"1-19\",\n",
    "                \"1-8\",\n",
    "                \"10-11\",\n",
    "                \"10-17\",\n",
    "                \"10-4\",\n",
    "                \"10-7\",\n",
    "                \"11-1\",\n",
    "                \"11-10\",\n",
    "                \"11-19\",\n",
    "                \"11-20\",\n",
    "                \"11-4\",\n",
    "                \"11-7\",\n",
    "                \"12-19\",\n",
    "                \"12-20\",\n",
    "                \"12-7\",\n",
    "                \"13-14\",\n",
    "                \"13-18\",\n",
    "                \"13-19\",\n",
    "                \"13-20\",\n",
    "                \"13-3\",\n",
    "                \"13-7\",\n",
    "                \"14-10\",\n",
    "                \"14-11\",\n",
    "                \"14-12\",\n",
    "                \"14-13\",\n",
    "                \"14-14\",\n",
    "                \"14-19\",\n",
    "                \"14-20\",\n",
    "                \"14-7\",\n",
    "                \"14-8\",\n",
    "                \"14-9\",\n",
    "                \"15-1\",\n",
    "                \"15-19\",\n",
    "                \"15-6\",\n",
    "                \"16-1\",\n",
    "                \"16-16\",\n",
    "                \"16-19\",\n",
    "                \"16-20\",\n",
    "                \"17-10\",\n",
    "                \"17-11\",\n",
    "                \"18-1\",\n",
    "                \"18-10\",\n",
    "                \"18-11\",\n",
    "                \"18-12\",\n",
    "                \"18-13\",\n",
    "                \"18-14\",\n",
    "                \"18-15\",\n",
    "                \"18-16\",\n",
    "                \"18-17\",\n",
    "                \"18-19\",\n",
    "                \"18-2\",\n",
    "                \"18-20\",\n",
    "                \"18-4\",\n",
    "                \"18-5\",\n",
    "                \"18-7\",\n",
    "                \"18-8\",\n",
    "                \"18-9\",\n",
    "                \"19-1\",\n",
    "                \"19-10\",\n",
    "                \"19-11\",\n",
    "                \"19-12\",\n",
    "                \"19-13\",\n",
    "                \"19-14\",\n",
    "                \"19-15\",\n",
    "                \"19-19\",\n",
    "                \"19-2\",\n",
    "                \"19-20\",\n",
    "                \"19-3\",\n",
    "                \"19-4\",\n",
    "                \"19-6\",\n",
    "                \"19-7\",\n",
    "                \"19-8\",\n",
    "                \"19-9\",\n",
    "                \"2-1\",\n",
    "                \"2-13\",\n",
    "                \"2-15\",\n",
    "                \"2-3\",\n",
    "                \"2-4\",\n",
    "                \"2-5\",\n",
    "                \"2-6\",\n",
    "                \"2-7\",\n",
    "                \"2-8\",\n",
    "                \"20-1\",\n",
    "                \"20-12\",\n",
    "                \"20-14\",\n",
    "                \"20-15\",\n",
    "                \"20-16\",\n",
    "                \"20-18\",\n",
    "                \"20-19\",\n",
    "                \"20-20\",\n",
    "                \"20-3\",\n",
    "                \"20-4\",\n",
    "                \"20-5\",\n",
    "                \"20-7\",\n",
    "                \"20-8\",\n",
    "                \"3-1\",\n",
    "                \"3-13\",\n",
    "                \"3-18\",\n",
    "                \"3-2\",\n",
    "                \"3-8\",\n",
    "                \"4-1\",\n",
    "                \"4-10\",\n",
    "                \"4-11\",\n",
    "                \"5-1\",\n",
    "                \"5-5\",\n",
    "                \"6-1\",\n",
    "                \"6-15\",\n",
    "                \"6-6\",\n",
    "                \"7-10\",\n",
    "                \"7-11\",\n",
    "                \"7-12\",\n",
    "                \"7-13\",\n",
    "                \"7-14\",\n",
    "                \"7-7\",\n",
    "                \"7-8\",\n",
    "                \"7-9\",\n",
    "                \"8-1\",\n",
    "                \"8-13\",\n",
    "                \"8-14\",\n",
    "                \"8-18\",\n",
    "                \"8-20\",\n",
    "                \"8-3\",\n",
    "                \"8-8\",\n",
    "                \"9-1\",\n",
    "                \"9-7\",\n",
    "            ],\n",
    "            \"domains\": [1, 2, 3, 4],\n",
    "            \"num_examples_per_domain_per_label\": -1,\n",
    "            \"pickle_path\": \"/root/csc500-main/datasets/wisig.node3-19.stratified_ds.2022A.pkl\",\n",
    "            \"source_or_target_dataset\": \"target\",\n",
    "            \"x_transforms\": [\"unit_power\"],\n",
    "            \"episode_transforms\": [],\n",
    "            \"domain_prefix\": \"Wisig_\",\n",
    "        },\n",
    "        {\n",
    "            \"labels\": [\n",
    "                \"3123D52\",\n",
    "                \"3123D65\",\n",
    "                \"3123D79\",\n",
    "                \"3123D80\",\n",
    "                \"3123D54\",\n",
    "                \"3123D70\",\n",
    "                \"3123D7B\",\n",
    "                \"3123D89\",\n",
    "                \"3123D58\",\n",
    "                \"3123D76\",\n",
    "                \"3123D7D\",\n",
    "                \"3123EFE\",\n",
    "                \"3123D64\",\n",
    "                \"3123D78\",\n",
    "                \"3123D7E\",\n",
    "                \"3124E4A\",\n",
    "            ],\n",
    "            \"domains\": [32, 38, 8, 44, 14, 50, 20, 26],\n",
    "            \"num_examples_per_domain_per_label\": 2000,\n",
    "            \"pickle_path\": \"/root/csc500-main/datasets/oracle.Run1_10kExamples_stratified_ds.2022A.pkl\",\n",
    "            \"source_or_target_dataset\": \"source\",\n",
    "            \"x_transforms\": [\"unit_power\"],\n",
    "            \"episode_transforms\": [],\n",
    "            \"domain_prefix\": \"ORACLE.run1\",\n",
    "        },\n",
    "    ],\n",
    "    \"dataset_seed\": 1337,\n",
    "    \"seed\": 1337,\n",
    "}\n"
   ]
  },
  {
   "cell_type": "code",
   "execution_count": 5,
   "id": "8fa1cc33",
   "metadata": {
    "execution": {
     "iopub.execute_input": "2022-03-22T16:42:38.060306Z",
     "iopub.status.busy": "2022-03-22T16:42:38.059773Z",
     "iopub.status.idle": "2022-03-22T16:42:38.077888Z",
     "shell.execute_reply": "2022-03-22T16:42:38.077084Z"
    },
    "papermill": {
     "duration": 0.042203,
     "end_time": "2022-03-22T16:42:38.078046",
     "exception": false,
     "start_time": "2022-03-22T16:42:38.035843",
     "status": "completed"
    },
    "tags": []
   },
   "outputs": [],
   "source": [
    "# Set this to True if you want to run this template directly\n",
    "STANDALONE = False\n",
    "if STANDALONE:\n",
    "    print(\"parameters not injected, running with standalone_parameters\")\n",
    "    parameters = standalone_parameters\n",
    "\n",
    "if not 'parameters' in locals() and not 'parameters' in globals():\n",
    "    raise Exception(\"Parameter injection failed\")\n",
    "\n",
    "#Use an easy dict for all the parameters\n",
    "p = EasyDict(parameters)\n",
    "\n",
    "if \"x_shape\" not in p:\n",
    "    p.x_shape = [2,256] # Default to this if we dont supply x_shape\n",
    "\n",
    "\n",
    "supplied_keys = set(p.keys())\n",
    "\n",
    "if  supplied_keys != required_parameters:\n",
    "    print(\"Parameters are incorrect\")\n",
    "    if len(supplied_keys - required_parameters)>0: print(\"Shouldn't have:\", str(supplied_keys - required_parameters))\n",
    "    if len(required_parameters - supplied_keys)>0: print(\"Need to have:\", str(required_parameters - supplied_keys))\n",
    "    raise RuntimeError(\"Parameters are incorrect\")"
   ]
  },
  {
   "cell_type": "code",
   "execution_count": 6,
   "id": "3a028d58",
   "metadata": {
    "execution": {
     "iopub.execute_input": "2022-03-22T16:42:38.127254Z",
     "iopub.status.busy": "2022-03-22T16:42:38.126878Z",
     "iopub.status.idle": "2022-03-22T16:42:38.147457Z",
     "shell.execute_reply": "2022-03-22T16:42:38.146641Z"
    },
    "papermill": {
     "duration": 0.043942,
     "end_time": "2022-03-22T16:42:38.147650",
     "exception": false,
     "start_time": "2022-03-22T16:42:38.103708",
     "status": "completed"
    },
    "tags": []
   },
   "outputs": [],
   "source": [
    "###################################\n",
    "# Set the RNGs and make it all deterministic\n",
    "###################################\n",
    "np.random.seed(p.seed)\n",
    "random.seed(p.seed)\n",
    "torch.manual_seed(p.seed)\n",
    "\n",
    "torch.use_deterministic_algorithms(True) "
   ]
  },
  {
   "cell_type": "code",
   "execution_count": 7,
   "id": "b691acf6",
   "metadata": {
    "execution": {
     "iopub.execute_input": "2022-03-22T16:42:38.199329Z",
     "iopub.status.busy": "2022-03-22T16:42:38.198627Z",
     "iopub.status.idle": "2022-03-22T16:42:38.219155Z",
     "shell.execute_reply": "2022-03-22T16:42:38.218350Z"
    },
    "papermill": {
     "duration": 0.044395,
     "end_time": "2022-03-22T16:42:38.219312",
     "exception": false,
     "start_time": "2022-03-22T16:42:38.174917",
     "status": "completed"
    },
    "tags": []
   },
   "outputs": [],
   "source": [
    "###########################################\n",
    "# The stratified datasets honor this\n",
    "###########################################\n",
    "torch.set_default_dtype(eval(p.torch_default_dtype))"
   ]
  },
  {
   "cell_type": "code",
   "execution_count": 8,
   "id": "b5fba671",
   "metadata": {
    "execution": {
     "iopub.execute_input": "2022-03-22T16:42:38.272939Z",
     "iopub.status.busy": "2022-03-22T16:42:38.272568Z",
     "iopub.status.idle": "2022-03-22T16:42:38.323422Z",
     "shell.execute_reply": "2022-03-22T16:42:38.322679Z"
    },
    "papermill": {
     "duration": 0.073787,
     "end_time": "2022-03-22T16:42:38.323615",
     "exception": false,
     "start_time": "2022-03-22T16:42:38.249828",
     "status": "completed"
    },
    "tags": []
   },
   "outputs": [],
   "source": [
    "###################################\n",
    "# Build the network(s)\n",
    "# Note: It's critical to do this AFTER setting the RNG\n",
    "###################################\n",
    "x_net = build_sequential(p.x_net)"
   ]
  },
  {
   "cell_type": "code",
   "execution_count": 9,
   "id": "5d7e61cc",
   "metadata": {
    "execution": {
     "iopub.execute_input": "2022-03-22T16:42:38.376128Z",
     "iopub.status.busy": "2022-03-22T16:42:38.375686Z",
     "iopub.status.idle": "2022-03-22T16:42:38.398105Z",
     "shell.execute_reply": "2022-03-22T16:42:38.397296Z"
    },
    "papermill": {
     "duration": 0.04662,
     "end_time": "2022-03-22T16:42:38.398262",
     "exception": false,
     "start_time": "2022-03-22T16:42:38.351642",
     "status": "completed"
    },
    "tags": []
   },
   "outputs": [],
   "source": [
    "start_time_secs = time.time()"
   ]
  },
  {
   "cell_type": "code",
   "execution_count": 10,
   "id": "c6b67dfd",
   "metadata": {
    "execution": {
     "iopub.execute_input": "2022-03-22T16:42:38.449019Z",
     "iopub.status.busy": "2022-03-22T16:42:38.448374Z",
     "iopub.status.idle": "2022-03-22T16:42:38.469052Z",
     "shell.execute_reply": "2022-03-22T16:42:38.468666Z"
    },
    "papermill": {
     "duration": 0.044864,
     "end_time": "2022-03-22T16:42:38.469129",
     "exception": false,
     "start_time": "2022-03-22T16:42:38.424265",
     "status": "completed"
    },
    "tags": []
   },
   "outputs": [],
   "source": [
    "p.domains_source = []\n",
    "p.domains_target = []\n",
    "\n",
    "\n",
    "train_original_source = []\n",
    "val_original_source   = []\n",
    "test_original_source  = []\n",
    "\n",
    "train_original_target = []\n",
    "val_original_target   = []\n",
    "test_original_target  = []"
   ]
  },
  {
   "cell_type": "code",
   "execution_count": 11,
   "id": "e3d9c3d3",
   "metadata": {
    "execution": {
     "iopub.execute_input": "2022-03-22T16:42:38.513333Z",
     "iopub.status.busy": "2022-03-22T16:42:38.512963Z",
     "iopub.status.idle": "2022-03-22T16:42:38.529017Z",
     "shell.execute_reply": "2022-03-22T16:42:38.528689Z"
    },
    "papermill": {
     "duration": 0.039197,
     "end_time": "2022-03-22T16:42:38.529094",
     "exception": false,
     "start_time": "2022-03-22T16:42:38.489897",
     "status": "completed"
    },
    "tags": []
   },
   "outputs": [],
   "source": [
    "# global_x_transform_func = lambda x: normalize(x.to(torch.get_default_dtype()), \"unit_power\") # unit_power, unit_mag\n",
    "# global_x_transform_func = lambda x: normalize(x, \"unit_power\") # unit_power, unit_mag"
   ]
  },
  {
   "cell_type": "code",
   "execution_count": 12,
   "id": "acb78fd2",
   "metadata": {
    "execution": {
     "iopub.execute_input": "2022-03-22T16:42:38.577619Z",
     "iopub.status.busy": "2022-03-22T16:42:38.577235Z",
     "iopub.status.idle": "2022-03-22T16:42:38.594317Z",
     "shell.execute_reply": "2022-03-22T16:42:38.593948Z"
    },
    "papermill": {
     "duration": 0.044692,
     "end_time": "2022-03-22T16:42:38.594392",
     "exception": false,
     "start_time": "2022-03-22T16:42:38.549700",
     "status": "completed"
    },
    "tags": []
   },
   "outputs": [],
   "source": [
    "def add_dataset(\n",
    "    labels,\n",
    "    domains,\n",
    "    pickle_path,\n",
    "    x_transforms,\n",
    "    episode_transforms,\n",
    "    domain_prefix,\n",
    "    num_examples_per_domain_per_label,\n",
    "    source_or_target_dataset:str,\n",
    "    iterator_seed=p.seed,\n",
    "    dataset_seed=p.dataset_seed,\n",
    "    n_shot=p.n_shot,\n",
    "    n_way=p.n_way,\n",
    "    n_query=p.n_query,\n",
    "    train_val_test_k_factors=(p.train_k_factor,p.val_k_factor,p.test_k_factor),\n",
    "):\n",
    "   \n",
    "    if x_transforms == []: x_transform = None\n",
    "    else: x_transform = get_chained_transform(x_transforms)\n",
    "    \n",
    "    if episode_transforms == []: episode_transform = None\n",
    "    else: raise Exception(\"episode_transforms not implemented\")\n",
    "    \n",
    "    episode_transform = lambda tup, _prefix=domain_prefix: (_prefix + str(tup[0]), tup[1])\n",
    "\n",
    "\n",
    "    eaf = Episodic_Accessor_Factory(\n",
    "        labels=labels,\n",
    "        domains=domains,\n",
    "        num_examples_per_domain_per_label=num_examples_per_domain_per_label,\n",
    "        iterator_seed=iterator_seed,\n",
    "        dataset_seed=dataset_seed,\n",
    "        n_shot=n_shot,\n",
    "        n_way=n_way,\n",
    "        n_query=n_query,\n",
    "        train_val_test_k_factors=train_val_test_k_factors,\n",
    "        pickle_path=pickle_path,\n",
    "        x_transform_func=x_transform,\n",
    "    )\n",
    "\n",
    "    train, val, test = eaf.get_train(), eaf.get_val(), eaf.get_test()\n",
    "    train = Lazy_Iterable_Wrapper(train, episode_transform)\n",
    "    val = Lazy_Iterable_Wrapper(val, episode_transform)\n",
    "    test = Lazy_Iterable_Wrapper(test, episode_transform)\n",
    "\n",
    "    if source_or_target_dataset==\"source\":\n",
    "        train_original_source.append(train)\n",
    "        val_original_source.append(val)\n",
    "        test_original_source.append(test)\n",
    "\n",
    "        p.domains_source.extend(\n",
    "            [domain_prefix + str(u) for u in domains]\n",
    "        )\n",
    "    elif source_or_target_dataset==\"target\":\n",
    "        train_original_target.append(train)\n",
    "        val_original_target.append(val)\n",
    "        test_original_target.append(test)\n",
    "        p.domains_target.extend(\n",
    "            [domain_prefix + str(u) for u in domains]\n",
    "        )\n",
    "    else:\n",
    "        raise Exception(f\"invalid source_or_target_dataset: {source_or_target_dataset}\")\n",
    "    "
   ]
  },
  {
   "cell_type": "code",
   "execution_count": 13,
   "id": "fe266617",
   "metadata": {
    "execution": {
     "iopub.execute_input": "2022-03-22T16:42:38.638851Z",
     "iopub.status.busy": "2022-03-22T16:42:38.638268Z",
     "iopub.status.idle": "2022-03-22T16:43:25.454192Z",
     "shell.execute_reply": "2022-03-22T16:43:25.453589Z"
    },
    "papermill": {
     "duration": 46.838916,
     "end_time": "2022-03-22T16:43:25.454340",
     "exception": false,
     "start_time": "2022-03-22T16:42:38.615424",
     "status": "completed"
    },
    "tags": []
   },
   "outputs": [],
   "source": [
    "for ds in p.datasets:\n",
    "    add_dataset(**ds)"
   ]
  },
  {
   "cell_type": "code",
   "execution_count": 14,
   "id": "b90d65ac",
   "metadata": {
    "execution": {
     "iopub.execute_input": "2022-03-22T16:43:25.501488Z",
     "iopub.status.busy": "2022-03-22T16:43:25.500933Z",
     "iopub.status.idle": "2022-03-22T16:43:25.524355Z",
     "shell.execute_reply": "2022-03-22T16:43:25.523965Z"
    },
    "papermill": {
     "duration": 0.045905,
     "end_time": "2022-03-22T16:43:25.524433",
     "exception": false,
     "start_time": "2022-03-22T16:43:25.478528",
     "status": "completed"
    },
    "tags": []
   },
   "outputs": [],
   "source": [
    "# from steves_utils.CORES.utils import (\n",
    "#     ALL_NODES,\n",
    "#     ALL_NODES_MINIMUM_1000_EXAMPLES,\n",
    "#     ALL_DAYS\n",
    "# )\n",
    "\n",
    "# add_dataset(\n",
    "#     labels=ALL_NODES,\n",
    "#     domains = ALL_DAYS,\n",
    "#     num_examples_per_domain_per_label=100,\n",
    "#     pickle_path=os.path.join(get_datasets_base_path(), \"cores.stratified_ds.2022A.pkl\"),\n",
    "#     source_or_target_dataset=\"target\",\n",
    "#     x_transform_func=global_x_transform_func,\n",
    "#     domain_modifier=lambda u: f\"cores_{u}\"\n",
    "# )"
   ]
  },
  {
   "cell_type": "code",
   "execution_count": 15,
   "id": "76db484d",
   "metadata": {
    "execution": {
     "iopub.execute_input": "2022-03-22T16:43:25.569210Z",
     "iopub.status.busy": "2022-03-22T16:43:25.567444Z",
     "iopub.status.idle": "2022-03-22T16:43:25.585711Z",
     "shell.execute_reply": "2022-03-22T16:43:25.585317Z"
    },
    "papermill": {
     "duration": 0.04096,
     "end_time": "2022-03-22T16:43:25.585787",
     "exception": false,
     "start_time": "2022-03-22T16:43:25.544827",
     "status": "completed"
    },
    "tags": []
   },
   "outputs": [],
   "source": [
    "# from steves_utils.ORACLE.utils_v2 import (\n",
    "#     ALL_DISTANCES_FEET,\n",
    "#     ALL_RUNS,\n",
    "#     ALL_SERIAL_NUMBERS,\n",
    "# )\n",
    "\n",
    "\n",
    "# add_dataset(\n",
    "#     labels=ALL_SERIAL_NUMBERS,\n",
    "#     domains = list(set(ALL_DISTANCES_FEET) - {2,62}),\n",
    "#     num_examples_per_domain_per_label=100,\n",
    "#     pickle_path=os.path.join(get_datasets_base_path(), \"oracle.Run2_framed_2000Examples_stratified_ds.2022A.pkl\"),\n",
    "#     source_or_target_dataset=\"source\",\n",
    "#     x_transform_func=global_x_transform_func,\n",
    "#     domain_modifier=lambda u: f\"oracle1_{u}\"\n",
    "# )\n"
   ]
  },
  {
   "cell_type": "code",
   "execution_count": 16,
   "id": "97dea9d2",
   "metadata": {
    "execution": {
     "iopub.execute_input": "2022-03-22T16:43:25.630500Z",
     "iopub.status.busy": "2022-03-22T16:43:25.629943Z",
     "iopub.status.idle": "2022-03-22T16:43:25.647113Z",
     "shell.execute_reply": "2022-03-22T16:43:25.646726Z"
    },
    "papermill": {
     "duration": 0.040775,
     "end_time": "2022-03-22T16:43:25.647190",
     "exception": false,
     "start_time": "2022-03-22T16:43:25.606415",
     "status": "completed"
    },
    "tags": []
   },
   "outputs": [],
   "source": [
    "# from steves_utils.ORACLE.utils_v2 import (\n",
    "#     ALL_DISTANCES_FEET,\n",
    "#     ALL_RUNS,\n",
    "#     ALL_SERIAL_NUMBERS,\n",
    "# )\n",
    "\n",
    "\n",
    "# add_dataset(\n",
    "#     labels=ALL_SERIAL_NUMBERS,\n",
    "#     domains = list(set(ALL_DISTANCES_FEET) - {2,62,56}),\n",
    "#     num_examples_per_domain_per_label=100,\n",
    "#     pickle_path=os.path.join(get_datasets_base_path(), \"oracle.Run2_framed_2000Examples_stratified_ds.2022A.pkl\"),\n",
    "#     source_or_target_dataset=\"source\",\n",
    "#     x_transform_func=global_x_transform_func,\n",
    "#     domain_modifier=lambda u: f\"oracle2_{u}\"\n",
    "# )"
   ]
  },
  {
   "cell_type": "code",
   "execution_count": 17,
   "id": "6f289866",
   "metadata": {
    "execution": {
     "iopub.execute_input": "2022-03-22T16:43:25.699244Z",
     "iopub.status.busy": "2022-03-22T16:43:25.697882Z",
     "iopub.status.idle": "2022-03-22T16:43:25.719487Z",
     "shell.execute_reply": "2022-03-22T16:43:25.719103Z"
    },
    "papermill": {
     "duration": 0.044796,
     "end_time": "2022-03-22T16:43:25.719574",
     "exception": false,
     "start_time": "2022-03-22T16:43:25.674778",
     "status": "completed"
    },
    "tags": []
   },
   "outputs": [],
   "source": [
    "# add_dataset(\n",
    "#     labels=list(range(19)),\n",
    "#     domains = [0,1,2],\n",
    "#     num_examples_per_domain_per_label=100,\n",
    "#     pickle_path=os.path.join(get_datasets_base_path(), \"metehan.stratified_ds.2022A.pkl\"),\n",
    "#     source_or_target_dataset=\"target\",\n",
    "#     x_transform_func=global_x_transform_func,\n",
    "#     domain_modifier=lambda u: f\"met_{u}\"\n",
    "# )"
   ]
  },
  {
   "cell_type": "code",
   "execution_count": 18,
   "id": "86a863c3",
   "metadata": {
    "execution": {
     "iopub.execute_input": "2022-03-22T16:43:25.764885Z",
     "iopub.status.busy": "2022-03-22T16:43:25.764061Z",
     "iopub.status.idle": "2022-03-22T16:43:25.781505Z",
     "shell.execute_reply": "2022-03-22T16:43:25.781119Z"
    },
    "papermill": {
     "duration": 0.040931,
     "end_time": "2022-03-22T16:43:25.781581",
     "exception": false,
     "start_time": "2022-03-22T16:43:25.740650",
     "status": "completed"
    },
    "tags": []
   },
   "outputs": [],
   "source": [
    "# # from steves_utils.wisig.utils import (\n",
    "# #     ALL_NODES_MINIMUM_100_EXAMPLES,\n",
    "# #     ALL_NODES_MINIMUM_500_EXAMPLES,\n",
    "# #     ALL_NODES_MINIMUM_1000_EXAMPLES,\n",
    "# #     ALL_DAYS\n",
    "# # )\n",
    "\n",
    "# import steves_utils.wisig.utils as wisig\n",
    "\n",
    "\n",
    "# add_dataset(\n",
    "#     labels=wisig.ALL_NODES_MINIMUM_100_EXAMPLES,\n",
    "#     domains = wisig.ALL_DAYS,\n",
    "#     num_examples_per_domain_per_label=100,\n",
    "#     pickle_path=os.path.join(get_datasets_base_path(), \"wisig.node3-19.stratified_ds.2022A.pkl\"),\n",
    "#     source_or_target_dataset=\"target\",\n",
    "#     x_transform_func=global_x_transform_func,\n",
    "#     domain_modifier=lambda u: f\"wisig_{u}\"\n",
    "# )"
   ]
  },
  {
   "cell_type": "code",
   "execution_count": 19,
   "id": "fd5442bc",
   "metadata": {
    "execution": {
     "iopub.execute_input": "2022-03-22T16:43:25.829701Z",
     "iopub.status.busy": "2022-03-22T16:43:25.828537Z",
     "iopub.status.idle": "2022-03-22T16:43:25.848267Z",
     "shell.execute_reply": "2022-03-22T16:43:25.847889Z"
    },
    "papermill": {
     "duration": 0.045604,
     "end_time": "2022-03-22T16:43:25.848343",
     "exception": false,
     "start_time": "2022-03-22T16:43:25.802739",
     "status": "completed"
    },
    "tags": []
   },
   "outputs": [],
   "source": [
    "###################################\n",
    "# Build the dataset\n",
    "###################################\n",
    "train_original_source = Iterable_Aggregator(train_original_source, p.seed)\n",
    "val_original_source = Iterable_Aggregator(val_original_source, p.seed)\n",
    "test_original_source = Iterable_Aggregator(test_original_source, p.seed)\n",
    "\n",
    "\n",
    "train_original_target = Iterable_Aggregator(train_original_target, p.seed)\n",
    "val_original_target = Iterable_Aggregator(val_original_target, p.seed)\n",
    "test_original_target = Iterable_Aggregator(test_original_target, p.seed)\n",
    "\n",
    "# For CNN We only use X and Y. And we only train on the source.\n",
    "# Properly form the data using a transform lambda and Lazy_Iterable_Wrapper. Finally wrap them in a dataloader\n",
    "\n",
    "transform_lambda = lambda ex: ex[1] # Original is (<domain>, <episode>) so we strip down to episode only\n",
    "\n",
    "train_processed_source = Lazy_Iterable_Wrapper(train_original_source, transform_lambda)\n",
    "val_processed_source   = Lazy_Iterable_Wrapper(val_original_source, transform_lambda)\n",
    "test_processed_source  = Lazy_Iterable_Wrapper(test_original_source, transform_lambda)\n",
    "\n",
    "train_processed_target = Lazy_Iterable_Wrapper(train_original_target, transform_lambda)\n",
    "val_processed_target   = Lazy_Iterable_Wrapper(val_original_target, transform_lambda)\n",
    "test_processed_target  = Lazy_Iterable_Wrapper(test_original_target, transform_lambda)\n",
    "\n",
    "datasets = EasyDict({\n",
    "    \"source\": {\n",
    "        \"original\": {\"train\":train_original_source, \"val\":val_original_source, \"test\":test_original_source},\n",
    "        \"processed\": {\"train\":train_processed_source, \"val\":val_processed_source, \"test\":test_processed_source}\n",
    "    },\n",
    "    \"target\": {\n",
    "        \"original\": {\"train\":train_original_target, \"val\":val_original_target, \"test\":test_original_target},\n",
    "        \"processed\": {\"train\":train_processed_target, \"val\":val_processed_target, \"test\":test_processed_target}\n",
    "    },\n",
    "})"
   ]
  },
  {
   "cell_type": "code",
   "execution_count": 20,
   "id": "5b3c01fc",
   "metadata": {
    "execution": {
     "iopub.execute_input": "2022-03-22T16:43:25.894825Z",
     "iopub.status.busy": "2022-03-22T16:43:25.893920Z",
     "iopub.status.idle": "2022-03-22T16:43:41.059644Z",
     "shell.execute_reply": "2022-03-22T16:43:41.060631Z"
    },
    "papermill": {
     "duration": 15.191426,
     "end_time": "2022-03-22T16:43:41.060937",
     "exception": false,
     "start_time": "2022-03-22T16:43:25.869511",
     "status": "completed"
    },
    "tags": []
   },
   "outputs": [
    {
     "name": "stdout",
     "output_type": "stream",
     "text": [
      "{'ORACLE.run114', 'ORACLE.run18', 'ORACLE.run150', 'ORACLE.run138', 'ORACLE.run120', 'ORACLE.run144', 'ORACLE.run126', 'ORACLE.run132'}\n"
     ]
    },
    {
     "name": "stdout",
     "output_type": "stream",
     "text": [
      "{'Wisig_4', 'Wisig_3', 'Wisig_1', 'Wisig_2'}\n"
     ]
    },
    {
     "name": "stdout",
     "output_type": "stream",
     "text": [
      "tensor([[[ 1.0476, -0.3400, -0.4962,  ..., -0.5054, -0.6157, -1.9757],\n",
      "         [ 0.2114,  0.6249,  0.6616,  ..., -0.0184, -0.3124, -0.2114]],\n",
      "\n",
      "        [[-0.1689,  0.2252, -0.2439,  ...,  0.1314, -0.3378, -0.5160],\n",
      "         [ 0.3659,  0.4597, -1.2478,  ...,  0.3753,  0.2252,  0.3190]],\n",
      "\n",
      "        [[ 0.3222, -0.1289,  0.0092,  ..., -0.6352, -0.3866, -0.6352],\n",
      "         [-0.8837,  0.0828,  0.4326,  ..., -0.5247, -0.7732,  0.7916]],\n",
      "\n",
      "        ...,\n",
      "\n",
      "        [[ 1.0640,  0.4671,  1.1808,  ..., -0.4282, -0.5061, -0.2984],\n",
      "         [-0.3503,  0.8240,  0.5255,  ..., -0.7072,  1.6868,  1.6155]],\n",
      "\n",
      "        [[-0.0947,  1.2061,  0.0316,  ..., -0.6314, -0.1768, -0.1263],\n",
      "         [-0.1389, -0.4862, -1.2629,  ..., -1.1619, -0.1137,  0.1705]],\n",
      "\n",
      "        [[-0.4886, -1.0609, -0.6687,  ...,  0.0579, -0.7973,  0.2958],\n",
      "         [ 0.2186,  0.1414, -0.1543,  ...,  0.0129,  0.5658, -0.9258]]])\n"
     ]
    }
   ],
   "source": [
    "from steves_utils.transforms import get_average_magnitude, get_average_power\n",
    "\n",
    "print(set([u for u,_ in val_original_source]))\n",
    "print(set([u for u,_ in val_original_target]))\n",
    "\n",
    "s_x, s_y, q_x, q_y, _ = next(iter(train_processed_source))\n",
    "print(s_x)\n",
    "\n",
    "# for ds in [\n",
    "#     train_processed_source,\n",
    "#     val_processed_source,\n",
    "#     test_processed_source,\n",
    "#     train_processed_target,\n",
    "#     val_processed_target,\n",
    "#     test_processed_target\n",
    "# ]:\n",
    "#     for s_x, s_y, q_x, q_y, _ in ds:\n",
    "#         for X in (s_x, q_x):\n",
    "#             for x in X:\n",
    "#                 assert np.isclose(get_average_magnitude(x.numpy()), 1.0)\n",
    "#                 assert np.isclose(get_average_power(x.numpy()), 1.0)\n",
    "                "
   ]
  },
  {
   "cell_type": "code",
   "execution_count": 21,
   "id": "bbdacba1",
   "metadata": {
    "execution": {
     "iopub.execute_input": "2022-03-22T16:43:41.117303Z",
     "iopub.status.busy": "2022-03-22T16:43:41.116914Z",
     "iopub.status.idle": "2022-03-22T16:43:41.365414Z",
     "shell.execute_reply": "2022-03-22T16:43:41.364819Z"
    },
    "papermill": {
     "duration": 0.277458,
     "end_time": "2022-03-22T16:43:41.365567",
     "exception": false,
     "start_time": "2022-03-22T16:43:41.088109",
     "status": "completed"
    },
    "tags": []
   },
   "outputs": [
    {
     "name": "stdout",
     "output_type": "stream",
     "text": [
      "(2, 256)\n"
     ]
    }
   ],
   "source": [
    "###################################\n",
    "# Build the model\n",
    "###################################\n",
    "# easfsl only wants a tuple for the shape\n",
    "model = Steves_Prototypical_Network(x_net, device=p.device, x_shape=tuple(p.x_shape))\n",
    "optimizer = Adam(params=model.parameters(), lr=p.lr)"
   ]
  },
  {
   "cell_type": "code",
   "execution_count": 22,
   "id": "22b39ac5",
   "metadata": {
    "execution": {
     "iopub.execute_input": "2022-03-22T16:43:41.423442Z",
     "iopub.status.busy": "2022-03-22T16:43:41.422798Z",
     "iopub.status.idle": "2022-03-22T17:35:04.923327Z",
     "shell.execute_reply": "2022-03-22T17:35:04.922975Z"
    },
    "papermill": {
     "duration": 3083.528689,
     "end_time": "2022-03-22T17:35:04.923423",
     "exception": false,
     "start_time": "2022-03-22T16:43:41.394734",
     "status": "completed"
    },
    "tags": []
   },
   "outputs": [
    {
     "name": "stdout",
     "output_type": "stream",
     "text": [
      "epoch: 1, [batch: 1 / 6720], examples_per_second: 32.9243, train_label_loss: 2.7714, \n"
     ]
    },
    {
     "name": "stdout",
     "output_type": "stream",
     "text": [
      "epoch: 1, [batch: 672 / 6720], examples_per_second: 2881.7221, train_label_loss: 2.8263, \n"
     ]
    },
    {
     "name": "stdout",
     "output_type": "stream",
     "text": [
      "epoch: 1, [batch: 1344 / 6720], examples_per_second: 2930.3013, train_label_loss: 1.4770, \n"
     ]
    },
    {
     "name": "stdout",
     "output_type": "stream",
     "text": [
      "epoch: 1, [batch: 2016 / 6720], examples_per_second: 2956.0163, train_label_loss: 1.6674, \n"
     ]
    },
    {
     "name": "stdout",
     "output_type": "stream",
     "text": [
      "epoch: 1, [batch: 2688 / 6720], examples_per_second: 3147.4953, train_label_loss: 2.1528, \n"
     ]
    },
    {
     "name": "stdout",
     "output_type": "stream",
     "text": [
      "epoch: 1, [batch: 3360 / 6720], examples_per_second: 3462.3076, train_label_loss: 1.6837, \n"
     ]
    },
    {
     "name": "stdout",
     "output_type": "stream",
     "text": [
      "epoch: 1, [batch: 4032 / 6720], examples_per_second: 3671.1883, train_label_loss: 1.3259, \n"
     ]
    },
    {
     "name": "stdout",
     "output_type": "stream",
     "text": [
      "epoch: 1, [batch: 4704 / 6720], examples_per_second: 2972.2682, train_label_loss: 0.9580, \n"
     ]
    },
    {
     "name": "stdout",
     "output_type": "stream",
     "text": [
      "epoch: 1, [batch: 5376 / 6720], examples_per_second: 2968.6815, train_label_loss: 0.8976, \n"
     ]
    },
    {
     "name": "stdout",
     "output_type": "stream",
     "text": [
      "epoch: 1, [batch: 6048 / 6720], examples_per_second: 2995.1835, train_label_loss: 1.7770, \n"
     ]
    },
    {
     "name": "stdout",
     "output_type": "stream",
     "text": [
      "=============================================================\n",
      "epoch: 1, source_val_acc_label: 0.5419, target_val_acc_label: 0.6109, source_val_label_loss: 1.2343, target_val_label_loss: 7.3869, \n",
      "=============================================================\n"
     ]
    },
    {
     "name": "stdout",
     "output_type": "stream",
     "text": [
      "New best\n"
     ]
    },
    {
     "name": "stdout",
     "output_type": "stream",
     "text": [
      "epoch: 2, [batch: 1 / 6720], examples_per_second: 2.7987, train_label_loss: 0.7226, \n"
     ]
    },
    {
     "name": "stdout",
     "output_type": "stream",
     "text": [
      "epoch: 2, [batch: 672 / 6720], examples_per_second: 2987.9519, train_label_loss: 0.8309, \n"
     ]
    },
    {
     "name": "stdout",
     "output_type": "stream",
     "text": [
      "epoch: 2, [batch: 1344 / 6720], examples_per_second: 2998.0719, train_label_loss: 0.9058, \n"
     ]
    },
    {
     "name": "stdout",
     "output_type": "stream",
     "text": [
      "epoch: 2, [batch: 2016 / 6720], examples_per_second: 2979.1057, train_label_loss: 0.6553, \n"
     ]
    },
    {
     "name": "stdout",
     "output_type": "stream",
     "text": [
      "epoch: 2, [batch: 2688 / 6720], examples_per_second: 3200.8238, train_label_loss: 0.7623, \n"
     ]
    },
    {
     "name": "stdout",
     "output_type": "stream",
     "text": [
      "epoch: 2, [batch: 3360 / 6720], examples_per_second: 3457.4063, train_label_loss: 1.0978, \n"
     ]
    },
    {
     "name": "stdout",
     "output_type": "stream",
     "text": [
      "epoch: 2, [batch: 4032 / 6720], examples_per_second: 3579.0253, train_label_loss: 1.1288, \n"
     ]
    },
    {
     "name": "stdout",
     "output_type": "stream",
     "text": [
      "epoch: 2, [batch: 4704 / 6720], examples_per_second: 2957.8213, train_label_loss: 1.3506, \n"
     ]
    },
    {
     "name": "stdout",
     "output_type": "stream",
     "text": [
      "epoch: 2, [batch: 5376 / 6720], examples_per_second: 2964.7143, train_label_loss: 1.4710, \n"
     ]
    },
    {
     "name": "stdout",
     "output_type": "stream",
     "text": [
      "epoch: 2, [batch: 6048 / 6720], examples_per_second: 2956.8029, train_label_loss: 1.0306, \n"
     ]
    },
    {
     "name": "stdout",
     "output_type": "stream",
     "text": [
      "=============================================================\n",
      "epoch: 2, source_val_acc_label: 0.5963, target_val_acc_label: 0.6466, source_val_label_loss: 1.0752, target_val_label_loss: 7.2463, \n",
      "=============================================================\n"
     ]
    },
    {
     "name": "stdout",
     "output_type": "stream",
     "text": [
      "New best\n"
     ]
    },
    {
     "name": "stdout",
     "output_type": "stream",
     "text": [
      "epoch: 3, [batch: 1 / 6720], examples_per_second: 2.7404, train_label_loss: 1.3422, \n"
     ]
    },
    {
     "name": "stdout",
     "output_type": "stream",
     "text": [
      "epoch: 3, [batch: 672 / 6720], examples_per_second: 2904.8428, train_label_loss: 0.9264, \n"
     ]
    },
    {
     "name": "stdout",
     "output_type": "stream",
     "text": [
      "epoch: 3, [batch: 1344 / 6720], examples_per_second: 3003.9960, train_label_loss: 0.9292, \n"
     ]
    },
    {
     "name": "stdout",
     "output_type": "stream",
     "text": [
      "epoch: 3, [batch: 2016 / 6720], examples_per_second: 2999.1419, train_label_loss: 0.6096, \n"
     ]
    },
    {
     "name": "stdout",
     "output_type": "stream",
     "text": [
      "epoch: 3, [batch: 2688 / 6720], examples_per_second: 3321.6174, train_label_loss: 0.8257, \n"
     ]
    },
    {
     "name": "stdout",
     "output_type": "stream",
     "text": [
      "epoch: 3, [batch: 3360 / 6720], examples_per_second: 3504.4777, train_label_loss: 1.2264, \n"
     ]
    },
    {
     "name": "stdout",
     "output_type": "stream",
     "text": [
      "epoch: 3, [batch: 4032 / 6720], examples_per_second: 3493.7494, train_label_loss: 1.1415, \n"
     ]
    },
    {
     "name": "stdout",
     "output_type": "stream",
     "text": [
      "epoch: 3, [batch: 4704 / 6720], examples_per_second: 3013.8116, train_label_loss: 0.5543, \n"
     ]
    },
    {
     "name": "stdout",
     "output_type": "stream",
     "text": [
      "epoch: 3, [batch: 5376 / 6720], examples_per_second: 3006.8678, train_label_loss: 0.4217, \n"
     ]
    },
    {
     "name": "stdout",
     "output_type": "stream",
     "text": [
      "epoch: 3, [batch: 6048 / 6720], examples_per_second: 3030.6734, train_label_loss: 0.5514, \n"
     ]
    },
    {
     "name": "stdout",
     "output_type": "stream",
     "text": [
      "=============================================================\n",
      "epoch: 3, source_val_acc_label: 0.6073, target_val_acc_label: 0.6606, source_val_label_loss: 1.0432, target_val_label_loss: 8.2806, \n",
      "=============================================================\n"
     ]
    },
    {
     "name": "stdout",
     "output_type": "stream",
     "text": [
      "New best\n"
     ]
    },
    {
     "name": "stdout",
     "output_type": "stream",
     "text": [
      "epoch: 4, [batch: 1 / 6720], examples_per_second: 2.7769, train_label_loss: 0.7974, \n"
     ]
    },
    {
     "name": "stdout",
     "output_type": "stream",
     "text": [
      "epoch: 4, [batch: 672 / 6720], examples_per_second: 2945.2463, train_label_loss: 0.6404, \n"
     ]
    },
    {
     "name": "stdout",
     "output_type": "stream",
     "text": [
      "epoch: 4, [batch: 1344 / 6720], examples_per_second: 2977.2331, train_label_loss: 1.1425, \n"
     ]
    },
    {
     "name": "stdout",
     "output_type": "stream",
     "text": [
      "epoch: 4, [batch: 2016 / 6720], examples_per_second: 2988.4585, train_label_loss: 1.1457, \n"
     ]
    },
    {
     "name": "stdout",
     "output_type": "stream",
     "text": [
      "epoch: 4, [batch: 2688 / 6720], examples_per_second: 3310.2719, train_label_loss: 0.4770, \n"
     ]
    },
    {
     "name": "stdout",
     "output_type": "stream",
     "text": [
      "epoch: 4, [batch: 3360 / 6720], examples_per_second: 3468.3404, train_label_loss: 0.4842, \n"
     ]
    },
    {
     "name": "stdout",
     "output_type": "stream",
     "text": [
      "epoch: 4, [batch: 4032 / 6720], examples_per_second: 3535.0268, train_label_loss: 1.1996, \n"
     ]
    },
    {
     "name": "stdout",
     "output_type": "stream",
     "text": [
      "epoch: 4, [batch: 4704 / 6720], examples_per_second: 3697.5449, train_label_loss: 0.9284, \n"
     ]
    },
    {
     "name": "stdout",
     "output_type": "stream",
     "text": [
      "epoch: 4, [batch: 5376 / 6720], examples_per_second: 3649.5022, train_label_loss: 0.9250, \n"
     ]
    },
    {
     "name": "stdout",
     "output_type": "stream",
     "text": [
      "epoch: 4, [batch: 6048 / 6720], examples_per_second: 3629.3441, train_label_loss: 0.7000, \n"
     ]
    },
    {
     "name": "stdout",
     "output_type": "stream",
     "text": [
      "=============================================================\n",
      "epoch: 4, source_val_acc_label: 0.6093, target_val_acc_label: 0.6523, source_val_label_loss: 1.0588, target_val_label_loss: 9.4982, \n",
      "=============================================================\n"
     ]
    },
    {
     "name": "stdout",
     "output_type": "stream",
     "text": [
      "epoch: 5, [batch: 1 / 6720], examples_per_second: 3.7275, train_label_loss: 0.5047, \n"
     ]
    },
    {
     "name": "stdout",
     "output_type": "stream",
     "text": [
      "epoch: 5, [batch: 672 / 6720], examples_per_second: 5030.0120, train_label_loss: 0.4525, \n"
     ]
    },
    {
     "name": "stdout",
     "output_type": "stream",
     "text": [
      "epoch: 5, [batch: 1344 / 6720], examples_per_second: 4749.7047, train_label_loss: 1.2469, \n"
     ]
    },
    {
     "name": "stdout",
     "output_type": "stream",
     "text": [
      "epoch: 5, [batch: 2016 / 6720], examples_per_second: 3950.4868, train_label_loss: 1.0755, \n"
     ]
    },
    {
     "name": "stdout",
     "output_type": "stream",
     "text": [
      "epoch: 5, [batch: 2688 / 6720], examples_per_second: 3836.5691, train_label_loss: 0.9181, \n"
     ]
    },
    {
     "name": "stdout",
     "output_type": "stream",
     "text": [
      "epoch: 5, [batch: 3360 / 6720], examples_per_second: 3972.9344, train_label_loss: 0.5066, \n"
     ]
    },
    {
     "name": "stdout",
     "output_type": "stream",
     "text": [
      "epoch: 5, [batch: 4032 / 6720], examples_per_second: 3984.1521, train_label_loss: 0.8365, \n"
     ]
    },
    {
     "name": "stdout",
     "output_type": "stream",
     "text": [
      "epoch: 5, [batch: 4704 / 6720], examples_per_second: 3916.9618, train_label_loss: 0.7275, \n"
     ]
    },
    {
     "name": "stdout",
     "output_type": "stream",
     "text": [
      "epoch: 5, [batch: 5376 / 6720], examples_per_second: 3946.6783, train_label_loss: 0.9088, \n"
     ]
    },
    {
     "name": "stdout",
     "output_type": "stream",
     "text": [
      "epoch: 5, [batch: 6048 / 6720], examples_per_second: 3979.2491, train_label_loss: 0.4737, \n"
     ]
    },
    {
     "name": "stdout",
     "output_type": "stream",
     "text": [
      "=============================================================\n",
      "epoch: 5, source_val_acc_label: 0.6095, target_val_acc_label: 0.6791, source_val_label_loss: 1.0973, target_val_label_loss: 10.4897, \n",
      "=============================================================\n"
     ]
    },
    {
     "name": "stdout",
     "output_type": "stream",
     "text": [
      "New best\n"
     ]
    },
    {
     "name": "stdout",
     "output_type": "stream",
     "text": [
      "epoch: 6, [batch: 1 / 6720], examples_per_second: 3.9315, train_label_loss: 0.8061, \n"
     ]
    },
    {
     "name": "stdout",
     "output_type": "stream",
     "text": [
      "epoch: 6, [batch: 672 / 6720], examples_per_second: 2987.0672, train_label_loss: 1.1500, \n"
     ]
    },
    {
     "name": "stdout",
     "output_type": "stream",
     "text": [
      "epoch: 6, [batch: 1344 / 6720], examples_per_second: 2951.1443, train_label_loss: 0.9370, \n"
     ]
    },
    {
     "name": "stdout",
     "output_type": "stream",
     "text": [
      "epoch: 6, [batch: 2016 / 6720], examples_per_second: 2918.9578, train_label_loss: 0.3581, \n"
     ]
    },
    {
     "name": "stdout",
     "output_type": "stream",
     "text": [
      "epoch: 6, [batch: 2688 / 6720], examples_per_second: 2927.6217, train_label_loss: 0.5621, \n"
     ]
    },
    {
     "name": "stdout",
     "output_type": "stream",
     "text": [
      "epoch: 6, [batch: 3360 / 6720], examples_per_second: 2949.8472, train_label_loss: 0.3753, \n"
     ]
    },
    {
     "name": "stdout",
     "output_type": "stream",
     "text": [
      "epoch: 6, [batch: 4032 / 6720], examples_per_second: 2994.6412, train_label_loss: 0.5950, \n"
     ]
    },
    {
     "name": "stdout",
     "output_type": "stream",
     "text": [
      "epoch: 6, [batch: 4704 / 6720], examples_per_second: 2934.0035, train_label_loss: 0.3665, \n"
     ]
    },
    {
     "name": "stdout",
     "output_type": "stream",
     "text": [
      "epoch: 6, [batch: 5376 / 6720], examples_per_second: 2943.7214, train_label_loss: 0.4753, \n"
     ]
    },
    {
     "name": "stdout",
     "output_type": "stream",
     "text": [
      "epoch: 6, [batch: 6048 / 6720], examples_per_second: 2953.4683, train_label_loss: 0.3527, \n"
     ]
    },
    {
     "name": "stdout",
     "output_type": "stream",
     "text": [
      "=============================================================\n",
      "epoch: 6, source_val_acc_label: 0.6088, target_val_acc_label: 0.6785, source_val_label_loss: 1.1583, target_val_label_loss: 11.3863, \n",
      "=============================================================\n"
     ]
    },
    {
     "name": "stdout",
     "output_type": "stream",
     "text": [
      "epoch: 7, [batch: 1 / 6720], examples_per_second: 3.1813, train_label_loss: 0.2824, \n"
     ]
    },
    {
     "name": "stdout",
     "output_type": "stream",
     "text": [
      "epoch: 7, [batch: 672 / 6720], examples_per_second: 2913.2841, train_label_loss: 0.9781, \n"
     ]
    },
    {
     "name": "stdout",
     "output_type": "stream",
     "text": [
      "epoch: 7, [batch: 1344 / 6720], examples_per_second: 3012.1978, train_label_loss: 0.4567, \n"
     ]
    },
    {
     "name": "stdout",
     "output_type": "stream",
     "text": [
      "epoch: 7, [batch: 2016 / 6720], examples_per_second: 3002.2491, train_label_loss: 0.9571, \n"
     ]
    },
    {
     "name": "stdout",
     "output_type": "stream",
     "text": [
      "epoch: 7, [batch: 2688 / 6720], examples_per_second: 2992.8734, train_label_loss: 0.3518, \n"
     ]
    },
    {
     "name": "stdout",
     "output_type": "stream",
     "text": [
      "epoch: 7, [batch: 3360 / 6720], examples_per_second: 2988.0864, train_label_loss: 0.8343, \n"
     ]
    },
    {
     "name": "stdout",
     "output_type": "stream",
     "text": [
      "epoch: 7, [batch: 4032 / 6720], examples_per_second: 2985.3638, train_label_loss: 0.4890, \n"
     ]
    },
    {
     "name": "stdout",
     "output_type": "stream",
     "text": [
      "epoch: 7, [batch: 4704 / 6720], examples_per_second: 2954.9926, train_label_loss: 0.3805, \n"
     ]
    },
    {
     "name": "stdout",
     "output_type": "stream",
     "text": [
      "epoch: 7, [batch: 5376 / 6720], examples_per_second: 2985.0525, train_label_loss: 0.3670, \n"
     ]
    },
    {
     "name": "stdout",
     "output_type": "stream",
     "text": [
      "epoch: 7, [batch: 6048 / 6720], examples_per_second: 3070.8828, train_label_loss: 0.4536, \n"
     ]
    },
    {
     "name": "stdout",
     "output_type": "stream",
     "text": [
      "=============================================================\n",
      "epoch: 7, source_val_acc_label: 0.6041, target_val_acc_label: 0.6783, source_val_label_loss: 1.2196, target_val_label_loss: 12.5896, \n",
      "=============================================================\n"
     ]
    },
    {
     "name": "stdout",
     "output_type": "stream",
     "text": [
      "epoch: 8, [batch: 1 / 6720], examples_per_second: 3.1353, train_label_loss: 0.7130, \n"
     ]
    },
    {
     "name": "stdout",
     "output_type": "stream",
     "text": [
      "epoch: 8, [batch: 672 / 6720], examples_per_second: 2922.2371, train_label_loss: 0.6657, \n"
     ]
    },
    {
     "name": "stdout",
     "output_type": "stream",
     "text": [
      "epoch: 8, [batch: 1344 / 6720], examples_per_second: 3012.3182, train_label_loss: 0.8219, \n"
     ]
    },
    {
     "name": "stdout",
     "output_type": "stream",
     "text": [
      "epoch: 8, [batch: 2016 / 6720], examples_per_second: 3026.5673, train_label_loss: 0.3205, \n"
     ]
    },
    {
     "name": "stdout",
     "output_type": "stream",
     "text": [
      "epoch: 8, [batch: 2688 / 6720], examples_per_second: 3007.2824, train_label_loss: 0.3671, \n"
     ]
    },
    {
     "name": "stdout",
     "output_type": "stream",
     "text": [
      "epoch: 8, [batch: 3360 / 6720], examples_per_second: 3003.3775, train_label_loss: 0.4501, \n"
     ]
    },
    {
     "name": "stdout",
     "output_type": "stream",
     "text": [
      "epoch: 8, [batch: 4032 / 6720], examples_per_second: 3017.1139, train_label_loss: 0.5874, \n"
     ]
    },
    {
     "name": "stdout",
     "output_type": "stream",
     "text": [
      "epoch: 8, [batch: 4704 / 6720], examples_per_second: 2959.2784, train_label_loss: 0.6750, \n"
     ]
    },
    {
     "name": "stdout",
     "output_type": "stream",
     "text": [
      "epoch: 8, [batch: 5376 / 6720], examples_per_second: 2963.1138, train_label_loss: 0.3248, \n"
     ]
    },
    {
     "name": "stdout",
     "output_type": "stream",
     "text": [
      "epoch: 8, [batch: 6048 / 6720], examples_per_second: 3268.3668, train_label_loss: 0.3995, \n"
     ]
    },
    {
     "name": "stdout",
     "output_type": "stream",
     "text": [
      "=============================================================\n",
      "epoch: 8, source_val_acc_label: 0.6037, target_val_acc_label: 0.6823, source_val_label_loss: 1.3329, target_val_label_loss: 14.8137, \n",
      "=============================================================\n"
     ]
    },
    {
     "name": "stdout",
     "output_type": "stream",
     "text": [
      "New best\n"
     ]
    },
    {
     "name": "stdout",
     "output_type": "stream",
     "text": [
      "epoch: 9, [batch: 1 / 6720], examples_per_second: 3.0611, train_label_loss: 0.3865, \n"
     ]
    },
    {
     "name": "stdout",
     "output_type": "stream",
     "text": [
      "epoch: 9, [batch: 672 / 6720], examples_per_second: 2923.1311, train_label_loss: 0.2392, \n"
     ]
    },
    {
     "name": "stdout",
     "output_type": "stream",
     "text": [
      "epoch: 9, [batch: 1344 / 6720], examples_per_second: 3253.2512, train_label_loss: 0.2539, \n"
     ]
    },
    {
     "name": "stdout",
     "output_type": "stream",
     "text": [
      "epoch: 9, [batch: 2016 / 6720], examples_per_second: 3390.9021, train_label_loss: 0.1226, \n"
     ]
    },
    {
     "name": "stdout",
     "output_type": "stream",
     "text": [
      "epoch: 9, [batch: 2688 / 6720], examples_per_second: 3332.4372, train_label_loss: 0.3850, \n"
     ]
    },
    {
     "name": "stdout",
     "output_type": "stream",
     "text": [
      "epoch: 9, [batch: 3360 / 6720], examples_per_second: 3334.1090, train_label_loss: 0.4997, \n"
     ]
    },
    {
     "name": "stdout",
     "output_type": "stream",
     "text": [
      "epoch: 9, [batch: 4032 / 6720], examples_per_second: 3382.3805, train_label_loss: 0.5616, \n"
     ]
    },
    {
     "name": "stdout",
     "output_type": "stream",
     "text": [
      "epoch: 9, [batch: 4704 / 6720], examples_per_second: 3515.0882, train_label_loss: 0.1209, \n"
     ]
    },
    {
     "name": "stdout",
     "output_type": "stream",
     "text": [
      "epoch: 9, [batch: 5376 / 6720], examples_per_second: 3664.1966, train_label_loss: 0.3213, \n"
     ]
    },
    {
     "name": "stdout",
     "output_type": "stream",
     "text": [
      "epoch: 9, [batch: 6048 / 6720], examples_per_second: 4460.5672, train_label_loss: 0.3784, \n"
     ]
    },
    {
     "name": "stdout",
     "output_type": "stream",
     "text": [
      "=============================================================\n",
      "epoch: 9, source_val_acc_label: 0.6036, target_val_acc_label: 0.6860, source_val_label_loss: 1.4155, target_val_label_loss: 15.5124, \n",
      "=============================================================\n"
     ]
    },
    {
     "name": "stdout",
     "output_type": "stream",
     "text": [
      "New best\n"
     ]
    },
    {
     "name": "stdout",
     "output_type": "stream",
     "text": [
      "epoch: 10, [batch: 1 / 6720], examples_per_second: 3.1323, train_label_loss: 0.4811, \n"
     ]
    },
    {
     "name": "stdout",
     "output_type": "stream",
     "text": [
      "epoch: 10, [batch: 672 / 6720], examples_per_second: 2988.2379, train_label_loss: 0.1415, \n"
     ]
    },
    {
     "name": "stdout",
     "output_type": "stream",
     "text": [
      "epoch: 10, [batch: 1344 / 6720], examples_per_second: 3023.5344, train_label_loss: 0.6720, \n"
     ]
    },
    {
     "name": "stdout",
     "output_type": "stream",
     "text": [
      "epoch: 10, [batch: 2016 / 6720], examples_per_second: 2956.0225, train_label_loss: 0.1304, \n"
     ]
    },
    {
     "name": "stdout",
     "output_type": "stream",
     "text": [
      "epoch: 10, [batch: 2688 / 6720], examples_per_second: 2923.2360, train_label_loss: 0.4914, \n"
     ]
    },
    {
     "name": "stdout",
     "output_type": "stream",
     "text": [
      "epoch: 10, [batch: 3360 / 6720], examples_per_second: 2974.7261, train_label_loss: 0.3611, \n"
     ]
    },
    {
     "name": "stdout",
     "output_type": "stream",
     "text": [
      "epoch: 10, [batch: 4032 / 6720], examples_per_second: 2961.0045, train_label_loss: 0.0981, \n"
     ]
    },
    {
     "name": "stdout",
     "output_type": "stream",
     "text": [
      "epoch: 10, [batch: 4704 / 6720], examples_per_second: 3081.4356, train_label_loss: 0.3827, \n"
     ]
    },
    {
     "name": "stdout",
     "output_type": "stream",
     "text": [
      "epoch: 10, [batch: 5376 / 6720], examples_per_second: 3400.4407, train_label_loss: 0.1171, \n"
     ]
    },
    {
     "name": "stdout",
     "output_type": "stream",
     "text": [
      "epoch: 10, [batch: 6048 / 6720], examples_per_second: 3471.4716, train_label_loss: 0.0384, \n"
     ]
    },
    {
     "name": "stdout",
     "output_type": "stream",
     "text": [
      "=============================================================\n",
      "epoch: 10, source_val_acc_label: 0.5962, target_val_acc_label: 0.6875, source_val_label_loss: 1.5495, target_val_label_loss: 16.9352, \n",
      "=============================================================\n"
     ]
    },
    {
     "name": "stdout",
     "output_type": "stream",
     "text": [
      "New best\n"
     ]
    },
    {
     "name": "stdout",
     "output_type": "stream",
     "text": [
      "epoch: 11, [batch: 1 / 6720], examples_per_second: 2.7913, train_label_loss: 0.5156, \n"
     ]
    },
    {
     "name": "stdout",
     "output_type": "stream",
     "text": [
      "epoch: 11, [batch: 672 / 6720], examples_per_second: 2910.3022, train_label_loss: 0.2909, \n"
     ]
    },
    {
     "name": "stdout",
     "output_type": "stream",
     "text": [
      "epoch: 11, [batch: 1344 / 6720], examples_per_second: 2973.9964, train_label_loss: 0.5252, \n"
     ]
    },
    {
     "name": "stdout",
     "output_type": "stream",
     "text": [
      "epoch: 11, [batch: 2016 / 6720], examples_per_second: 2983.7249, train_label_loss: 0.0481, \n"
     ]
    },
    {
     "name": "stdout",
     "output_type": "stream",
     "text": [
      "epoch: 11, [batch: 2688 / 6720], examples_per_second: 3017.6092, train_label_loss: 0.0934, \n"
     ]
    },
    {
     "name": "stdout",
     "output_type": "stream",
     "text": [
      "epoch: 11, [batch: 3360 / 6720], examples_per_second: 3008.0304, train_label_loss: 0.1888, \n"
     ]
    },
    {
     "name": "stdout",
     "output_type": "stream",
     "text": [
      "epoch: 11, [batch: 4032 / 6720], examples_per_second: 3042.3558, train_label_loss: 0.2406, \n"
     ]
    },
    {
     "name": "stdout",
     "output_type": "stream",
     "text": [
      "epoch: 11, [batch: 4704 / 6720], examples_per_second: 3396.9866, train_label_loss: 0.2696, \n"
     ]
    },
    {
     "name": "stdout",
     "output_type": "stream",
     "text": [
      "epoch: 11, [batch: 5376 / 6720], examples_per_second: 3398.5397, train_label_loss: 0.1498, \n"
     ]
    },
    {
     "name": "stdout",
     "output_type": "stream",
     "text": [
      "epoch: 11, [batch: 6048 / 6720], examples_per_second: 3224.9511, train_label_loss: 0.1416, \n"
     ]
    },
    {
     "name": "stdout",
     "output_type": "stream",
     "text": [
      "=============================================================\n",
      "epoch: 11, source_val_acc_label: 0.5964, target_val_acc_label: 0.6918, source_val_label_loss: 1.5602, target_val_label_loss: 17.8658, \n",
      "=============================================================\n"
     ]
    },
    {
     "name": "stdout",
     "output_type": "stream",
     "text": [
      "New best\n"
     ]
    },
    {
     "name": "stdout",
     "output_type": "stream",
     "text": [
      "epoch: 12, [batch: 1 / 6720], examples_per_second: 2.8060, train_label_loss: 0.2628, \n"
     ]
    },
    {
     "name": "stdout",
     "output_type": "stream",
     "text": [
      "epoch: 12, [batch: 672 / 6720], examples_per_second: 2906.9877, train_label_loss: 0.3577, \n"
     ]
    },
    {
     "name": "stdout",
     "output_type": "stream",
     "text": [
      "epoch: 12, [batch: 1344 / 6720], examples_per_second: 2951.4399, train_label_loss: 0.3557, \n"
     ]
    },
    {
     "name": "stdout",
     "output_type": "stream",
     "text": [
      "epoch: 12, [batch: 2016 / 6720], examples_per_second: 3003.4668, train_label_loss: 0.4133, \n"
     ]
    },
    {
     "name": "stdout",
     "output_type": "stream",
     "text": [
      "epoch: 12, [batch: 2688 / 6720], examples_per_second: 2978.4125, train_label_loss: 0.2297, \n"
     ]
    },
    {
     "name": "stdout",
     "output_type": "stream",
     "text": [
      "epoch: 12, [batch: 3360 / 6720], examples_per_second: 2979.6621, train_label_loss: 0.2103, \n"
     ]
    },
    {
     "name": "stdout",
     "output_type": "stream",
     "text": [
      "epoch: 12, [batch: 4032 / 6720], examples_per_second: 3268.2909, train_label_loss: 0.1644, \n"
     ]
    },
    {
     "name": "stdout",
     "output_type": "stream",
     "text": [
      "epoch: 12, [batch: 4704 / 6720], examples_per_second: 3384.1147, train_label_loss: 0.1137, \n"
     ]
    },
    {
     "name": "stdout",
     "output_type": "stream",
     "text": [
      "epoch: 12, [batch: 5376 / 6720], examples_per_second: 3371.0411, train_label_loss: 0.3479, \n"
     ]
    },
    {
     "name": "stdout",
     "output_type": "stream",
     "text": [
      "epoch: 12, [batch: 6048 / 6720], examples_per_second: 2924.5941, train_label_loss: 0.0431, \n"
     ]
    },
    {
     "name": "stdout",
     "output_type": "stream",
     "text": [
      "=============================================================\n",
      "epoch: 12, source_val_acc_label: 0.5974, target_val_acc_label: 0.6912, source_val_label_loss: 1.6586, target_val_label_loss: 18.9368, \n",
      "=============================================================\n"
     ]
    },
    {
     "name": "stdout",
     "output_type": "stream",
     "text": [
      "epoch: 13, [batch: 1 / 6720], examples_per_second: 2.7589, train_label_loss: 0.2623, \n"
     ]
    },
    {
     "name": "stdout",
     "output_type": "stream",
     "text": [
      "epoch: 13, [batch: 672 / 6720], examples_per_second: 3030.4687, train_label_loss: 0.1483, \n"
     ]
    },
    {
     "name": "stdout",
     "output_type": "stream",
     "text": [
      "epoch: 13, [batch: 1344 / 6720], examples_per_second: 2960.9040, train_label_loss: 0.3326, \n"
     ]
    },
    {
     "name": "stdout",
     "output_type": "stream",
     "text": [
      "epoch: 13, [batch: 2016 / 6720], examples_per_second: 2967.8326, train_label_loss: 0.2895, \n"
     ]
    },
    {
     "name": "stdout",
     "output_type": "stream",
     "text": [
      "epoch: 13, [batch: 2688 / 6720], examples_per_second: 2931.5619, train_label_loss: 0.0871, \n"
     ]
    },
    {
     "name": "stdout",
     "output_type": "stream",
     "text": [
      "epoch: 13, [batch: 3360 / 6720], examples_per_second: 3167.7908, train_label_loss: 0.1022, \n"
     ]
    },
    {
     "name": "stdout",
     "output_type": "stream",
     "text": [
      "epoch: 13, [batch: 4032 / 6720], examples_per_second: 3354.1176, train_label_loss: 0.0951, \n"
     ]
    },
    {
     "name": "stdout",
     "output_type": "stream",
     "text": [
      "epoch: 13, [batch: 4704 / 6720], examples_per_second: 3525.3910, train_label_loss: 0.1093, \n"
     ]
    },
    {
     "name": "stdout",
     "output_type": "stream",
     "text": [
      "epoch: 13, [batch: 5376 / 6720], examples_per_second: 3007.0043, train_label_loss: 0.2594, \n"
     ]
    },
    {
     "name": "stdout",
     "output_type": "stream",
     "text": [
      "epoch: 13, [batch: 6048 / 6720], examples_per_second: 2978.7085, train_label_loss: 0.1498, \n"
     ]
    },
    {
     "name": "stdout",
     "output_type": "stream",
     "text": [
      "=============================================================\n",
      "epoch: 13, source_val_acc_label: 0.5995, target_val_acc_label: 0.6866, source_val_label_loss: 1.7604, target_val_label_loss: 20.6329, \n",
      "=============================================================\n"
     ]
    },
    {
     "name": "stdout",
     "output_type": "stream",
     "text": [
      "epoch: 14, [batch: 1 / 6720], examples_per_second: 3.1234, train_label_loss: 0.1047, \n"
     ]
    },
    {
     "name": "stdout",
     "output_type": "stream",
     "text": [
      "epoch: 14, [batch: 672 / 6720], examples_per_second: 3340.0946, train_label_loss: 0.2696, \n"
     ]
    },
    {
     "name": "stdout",
     "output_type": "stream",
     "text": [
      "epoch: 14, [batch: 1344 / 6720], examples_per_second: 3513.3026, train_label_loss: 0.3349, \n"
     ]
    },
    {
     "name": "stdout",
     "output_type": "stream",
     "text": [
      "epoch: 14, [batch: 2016 / 6720], examples_per_second: 3521.8773, train_label_loss: 0.0918, \n"
     ]
    },
    {
     "name": "stdout",
     "output_type": "stream",
     "text": [
      "epoch: 14, [batch: 2688 / 6720], examples_per_second: 3865.9621, train_label_loss: 0.3140, \n"
     ]
    },
    {
     "name": "stdout",
     "output_type": "stream",
     "text": [
      "epoch: 14, [batch: 3360 / 6720], examples_per_second: 3784.5900, train_label_loss: 0.1694, \n"
     ]
    },
    {
     "name": "stdout",
     "output_type": "stream",
     "text": [
      "epoch: 14, [batch: 4032 / 6720], examples_per_second: 3497.3758, train_label_loss: 0.0755, \n"
     ]
    },
    {
     "name": "stdout",
     "output_type": "stream",
     "text": [
      "epoch: 14, [batch: 4704 / 6720], examples_per_second: 3089.3276, train_label_loss: 0.1257, \n"
     ]
    },
    {
     "name": "stdout",
     "output_type": "stream",
     "text": [
      "epoch: 14, [batch: 5376 / 6720], examples_per_second: 2993.0330, train_label_loss: 0.2706, \n"
     ]
    },
    {
     "name": "stdout",
     "output_type": "stream",
     "text": [
      "epoch: 14, [batch: 6048 / 6720], examples_per_second: 3000.0273, train_label_loss: 0.0501, \n"
     ]
    },
    {
     "name": "stdout",
     "output_type": "stream",
     "text": [
      "=============================================================\n",
      "epoch: 14, source_val_acc_label: 0.5980, target_val_acc_label: 0.6843, source_val_label_loss: 1.8045, target_val_label_loss: 21.3771, \n",
      "=============================================================\n"
     ]
    },
    {
     "name": "stdout",
     "output_type": "stream",
     "text": [
      "epoch: 15, [batch: 1 / 6720], examples_per_second: 2.7538, train_label_loss: 0.1296, \n"
     ]
    },
    {
     "name": "stdout",
     "output_type": "stream",
     "text": [
      "epoch: 15, [batch: 672 / 6720], examples_per_second: 2982.8102, train_label_loss: 0.1150, \n"
     ]
    },
    {
     "name": "stdout",
     "output_type": "stream",
     "text": [
      "epoch: 15, [batch: 1344 / 6720], examples_per_second: 2955.9217, train_label_loss: 0.0227, \n"
     ]
    },
    {
     "name": "stdout",
     "output_type": "stream",
     "text": [
      "epoch: 15, [batch: 2016 / 6720], examples_per_second: 3004.6708, train_label_loss: 0.0163, \n"
     ]
    },
    {
     "name": "stdout",
     "output_type": "stream",
     "text": [
      "epoch: 15, [batch: 2688 / 6720], examples_per_second: 3430.1000, train_label_loss: 0.0960, \n"
     ]
    },
    {
     "name": "stdout",
     "output_type": "stream",
     "text": [
      "epoch: 15, [batch: 3360 / 6720], examples_per_second: 3410.8370, train_label_loss: 0.2563, \n"
     ]
    },
    {
     "name": "stdout",
     "output_type": "stream",
     "text": [
      "epoch: 15, [batch: 4032 / 6720], examples_per_second: 3339.1777, train_label_loss: 0.4316, \n"
     ]
    },
    {
     "name": "stdout",
     "output_type": "stream",
     "text": [
      "epoch: 15, [batch: 4704 / 6720], examples_per_second: 2949.0387, train_label_loss: 0.1313, \n"
     ]
    },
    {
     "name": "stdout",
     "output_type": "stream",
     "text": [
      "epoch: 15, [batch: 5376 / 6720], examples_per_second: 3015.4317, train_label_loss: 0.0898, \n"
     ]
    },
    {
     "name": "stdout",
     "output_type": "stream",
     "text": [
      "epoch: 15, [batch: 6048 / 6720], examples_per_second: 3060.3772, train_label_loss: 0.0150, \n"
     ]
    },
    {
     "name": "stdout",
     "output_type": "stream",
     "text": [
      "=============================================================\n",
      "epoch: 15, source_val_acc_label: 0.5942, target_val_acc_label: 0.6853, source_val_label_loss: 1.8833, target_val_label_loss: 21.8764, \n",
      "=============================================================\n"
     ]
    },
    {
     "name": "stdout",
     "output_type": "stream",
     "text": [
      "Patience (3) exhausted\n"
     ]
    }
   ],
   "source": [
    "###################################\n",
    "# train\n",
    "###################################\n",
    "jig = PTN_Train_Eval_Test_Jig(model, p.BEST_MODEL_PATH, p.device)\n",
    "\n",
    "jig.train(\n",
    "    train_iterable=datasets.source.processed.train,\n",
    "    source_val_iterable=datasets.source.processed.val,\n",
    "    target_val_iterable=datasets.target.processed.val,\n",
    "    num_epochs=p.n_epoch,\n",
    "    num_logs_per_epoch=p.NUM_LOGS_PER_EPOCH,\n",
    "    patience=p.patience,\n",
    "    optimizer=optimizer,\n",
    "    criteria_for_best=p.criteria_for_best,\n",
    ")"
   ]
  },
  {
   "cell_type": "code",
   "execution_count": 23,
   "id": "31e8fabf",
   "metadata": {
    "execution": {
     "iopub.execute_input": "2022-03-22T17:35:05.063865Z",
     "iopub.status.busy": "2022-03-22T17:35:05.063468Z",
     "iopub.status.idle": "2022-03-22T17:35:05.095177Z",
     "shell.execute_reply": "2022-03-22T17:35:05.094507Z"
    },
    "papermill": {
     "duration": 0.104014,
     "end_time": "2022-03-22T17:35:05.095336",
     "exception": false,
     "start_time": "2022-03-22T17:35:04.991322",
     "status": "completed"
    },
    "tags": []
   },
   "outputs": [],
   "source": [
    "total_experiment_time_secs = time.time() - start_time_secs"
   ]
  },
  {
   "cell_type": "code",
   "execution_count": 24,
   "id": "87b9595b",
   "metadata": {
    "execution": {
     "iopub.execute_input": "2022-03-22T17:35:05.243474Z",
     "iopub.status.busy": "2022-03-22T17:35:05.242614Z",
     "iopub.status.idle": "2022-03-22T17:38:42.168958Z",
     "shell.execute_reply": "2022-03-22T17:38:42.168196Z"
    },
    "papermill": {
     "duration": 217.002896,
     "end_time": "2022-03-22T17:38:42.169158",
     "exception": false,
     "start_time": "2022-03-22T17:35:05.166262",
     "status": "completed"
    },
    "tags": []
   },
   "outputs": [],
   "source": [
    "###################################\n",
    "# Evaluate the model\n",
    "###################################\n",
    "source_test_label_accuracy, source_test_label_loss = jig.test(datasets.source.processed.test)\n",
    "target_test_label_accuracy, target_test_label_loss = jig.test(datasets.target.processed.test)\n",
    "\n",
    "source_val_label_accuracy, source_val_label_loss = jig.test(datasets.source.processed.val)\n",
    "target_val_label_accuracy, target_val_label_loss = jig.test(datasets.target.processed.val)\n",
    "\n",
    "history = jig.get_history()\n",
    "\n",
    "total_epochs_trained = len(history[\"epoch_indices\"])\n",
    "\n",
    "val_dl = Iterable_Aggregator((datasets.source.original.val,datasets.target.original.val))\n",
    "\n",
    "confusion = ptn_confusion_by_domain_over_dataloader(model, p.device, val_dl)\n",
    "per_domain_accuracy = per_domain_accuracy_from_confusion(confusion)\n",
    "\n",
    "# Add a key to per_domain_accuracy for if it was a source domain\n",
    "for domain, accuracy in per_domain_accuracy.items():\n",
    "    per_domain_accuracy[domain] = {\n",
    "        \"accuracy\": accuracy,\n",
    "        \"source?\": domain in p.domains_source\n",
    "    }\n",
    "\n",
    "# Do an independent accuracy assesment JUST TO BE SURE!\n",
    "# _source_test_label_accuracy = independent_accuracy_assesment(model, datasets.source.processed.test, p.device)\n",
    "# _target_test_label_accuracy = independent_accuracy_assesment(model, datasets.target.processed.test, p.device)\n",
    "# _source_val_label_accuracy = independent_accuracy_assesment(model, datasets.source.processed.val, p.device)\n",
    "# _target_val_label_accuracy = independent_accuracy_assesment(model, datasets.target.processed.val, p.device)\n",
    "\n",
    "# assert(_source_test_label_accuracy == source_test_label_accuracy)\n",
    "# assert(_target_test_label_accuracy == target_test_label_accuracy)\n",
    "# assert(_source_val_label_accuracy == source_val_label_accuracy)\n",
    "# assert(_target_val_label_accuracy == target_val_label_accuracy)\n",
    "\n",
    "experiment = {\n",
    "    \"experiment_name\": p.experiment_name,\n",
    "    \"parameters\": dict(p),\n",
    "    \"results\": {\n",
    "        \"source_test_label_accuracy\": source_test_label_accuracy,\n",
    "        \"source_test_label_loss\": source_test_label_loss,\n",
    "        \"target_test_label_accuracy\": target_test_label_accuracy,\n",
    "        \"target_test_label_loss\": target_test_label_loss,\n",
    "        \"source_val_label_accuracy\": source_val_label_accuracy,\n",
    "        \"source_val_label_loss\": source_val_label_loss,\n",
    "        \"target_val_label_accuracy\": target_val_label_accuracy,\n",
    "        \"target_val_label_loss\": target_val_label_loss,\n",
    "        \"total_epochs_trained\": total_epochs_trained,\n",
    "        \"total_experiment_time_secs\": total_experiment_time_secs,\n",
    "        \"confusion\": confusion,\n",
    "        \"per_domain_accuracy\": per_domain_accuracy,\n",
    "    },\n",
    "    \"history\": history,\n",
    "    \"dataset_metrics\": get_dataset_metrics(datasets, \"ptn\"),\n",
    "}"
   ]
  },
  {
   "cell_type": "code",
   "execution_count": 25,
   "id": "54a21829",
   "metadata": {
    "execution": {
     "iopub.execute_input": "2022-03-22T17:38:42.311745Z",
     "iopub.status.busy": "2022-03-22T17:38:42.311331Z",
     "iopub.status.idle": "2022-03-22T17:38:42.523864Z",
     "shell.execute_reply": "2022-03-22T17:38:42.524742Z"
    },
    "papermill": {
     "duration": 0.284205,
     "end_time": "2022-03-22T17:38:42.525008",
     "exception": false,
     "start_time": "2022-03-22T17:38:42.240803",
     "status": "completed"
    },
    "tags": []
   },
   "outputs": [
    {
     "data": {
      "image/png": "[encoded data removed]",
      "text/plain": [
       "<Figure size 1080x504 with 1 Axes>"
      ]
     },
     "metadata": {
      "needs_background": "light"
     },
     "output_type": "display_data"
    }
   ],
   "source": [
    "ax = get_loss_curve(experiment)\n",
    "plt.show()"
   ]
  },
  {
   "cell_type": "code",
   "execution_count": 26,
   "id": "fd8a0f60",
   "metadata": {
    "execution": {
     "iopub.execute_input": "2022-03-22T17:38:42.673746Z",
     "iopub.status.busy": "2022-03-22T17:38:42.673315Z",
     "iopub.status.idle": "2022-03-22T17:38:42.985027Z",
     "shell.execute_reply": "2022-03-22T17:38:42.985693Z"
    },
    "papermill": {
     "duration": 0.386208,
     "end_time": "2022-03-22T17:38:42.985893",
     "exception": false,
     "start_time": "2022-03-22T17:38:42.599685",
     "status": "completed"
    },
    "tags": []
   },
   "outputs": [
    {
     "data": {
      "text/plain": [
       "<AxesSubplot:title={'center':'Results'}>"
      ]
     },
     "execution_count": 26,
     "metadata": {},
     "output_type": "execute_result"
    },
    {
     "data": {
      "image/png": "[encoded data removed]",
      "text/plain": [
       "<Figure size 1080x504 with 1 Axes>"
      ]
     },
     "metadata": {
      "needs_background": "light"
     },
     "output_type": "display_data"
    }
   ],
   "source": [
    "get_results_table(experiment)"
   ]
  },
  {
   "cell_type": "code",
   "execution_count": 27,
   "id": "cf8dc689",
   "metadata": {
    "execution": {
     "iopub.execute_input": "2022-03-22T17:38:43.132090Z",
     "iopub.status.busy": "2022-03-22T17:38:43.131719Z",
     "iopub.status.idle": "2022-03-22T17:38:43.385328Z",
     "shell.execute_reply": "2022-03-22T17:38:43.384553Z"
    },
    "papermill": {
     "duration": 0.326831,
     "end_time": "2022-03-22T17:38:43.385511",
     "exception": false,
     "start_time": "2022-03-22T17:38:43.058680",
     "status": "completed"
    },
    "tags": []
   },
   "outputs": [
    {
     "data": {
      "text/plain": [
       "<AxesSubplot:title={'center':'Per Domain Validation Accuracy'}, xlabel='domain'>"
      ]
     },
     "execution_count": 27,
     "metadata": {},
     "output_type": "execute_result"
    },
    {
     "data": {
      "image/png": "[encoded data removed]",
      "text/plain": [
       "<Figure size 1080x504 with 1 Axes>"
      ]
     },
     "metadata": {
      "needs_background": "light"
     },
     "output_type": "display_data"
    }
   ],
   "source": [
    "get_domain_accuracies(experiment)"
   ]
  },
  {
   "cell_type": "code",
   "execution_count": 28,
   "id": "a74ae082",
   "metadata": {
    "execution": {
     "iopub.execute_input": "2022-03-22T17:38:43.537567Z",
     "iopub.status.busy": "2022-03-22T17:38:43.537189Z",
     "iopub.status.idle": "2022-03-22T17:38:43.564124Z",
     "shell.execute_reply": "2022-03-22T17:38:43.563338Z"
    },
    "papermill": {
     "duration": 0.102116,
     "end_time": "2022-03-22T17:38:43.564292",
     "exception": false,
     "start_time": "2022-03-22T17:38:43.462176",
     "status": "completed"
    },
    "tags": []
   },
   "outputs": [
    {
     "name": "stdout",
     "output_type": "stream",
     "text": [
      "Source Test Label Accuracy: 0.5995768229166667 Target Test Label Accuracy: 0.6954979360165119\n",
      "Source Val Label Accuracy: 0.5963541666666666 Target Val Label Accuracy: 0.6918034957627118\n"
     ]
    }
   ],
   "source": [
    "print(\"Source Test Label Accuracy:\", experiment[\"results\"][\"source_test_label_accuracy\"], \"Target Test Label Accuracy:\", experiment[\"results\"][\"target_test_label_accuracy\"])\n",
    "print(\"Source Val Label Accuracy:\", experiment[\"results\"][\"source_val_label_accuracy\"], \"Target Val Label Accuracy:\", experiment[\"results\"][\"target_val_label_accuracy\"])"
   ]
  },
  {
   "cell_type": "code",
   "execution_count": 29,
   "id": "dacca602",
   "metadata": {
    "execution": {
     "iopub.execute_input": "2022-03-22T17:38:43.714701Z",
     "iopub.status.busy": "2022-03-22T17:38:43.714341Z",
     "iopub.status.idle": "2022-03-22T17:38:43.742908Z",
     "shell.execute_reply": "2022-03-22T17:38:43.743599Z"
    },
    "papermill": {
     "duration": 0.102931,
     "end_time": "2022-03-22T17:38:43.743810",
     "exception": false,
     "start_time": "2022-03-22T17:38:43.640879",
     "status": "completed"
    },
    "tags": [
     "experiment_json"
    ]
   },
   "outputs": [
    {
     "data": {
      "text/plain": [
       "'{\"experiment_name\": \"tl_1v2:wisig-oracle.run1.limited\", \"parameters\": {\"experiment_name\": \"tl_1v2:wisig-oracle.run1.limited\", \"device\": \"cuda\", \"lr\": 0.0001, \"n_shot\": 3, \"n_query\": 2, \"train_k_factor\": 3, \"val_k_factor\": 2, \"test_k_factor\": 2, \"torch_default_dtype\": \"torch.float32\", \"n_epoch\": 50, \"patience\": 3, \"criteria_for_best\": \"target_accuracy\", \"x_net\": [{\"class\": \"nnReshape\", \"kargs\": {\"shape\": [-1, 1, 2, 256]}}, {\"class\": \"Conv2d\", \"kargs\": {\"in_channels\": 1, \"out_channels\": 256, \"kernel_size\": [1, 7], \"bias\": false, \"padding\": [0, 3]}}, {\"class\": \"ReLU\", \"kargs\": {\"inplace\": true}}, {\"class\": \"BatchNorm2d\", \"kargs\": {\"num_features\": 256}}, {\"class\": \"Conv2d\", \"kargs\": {\"in_channels\": 256, \"out_channels\": 80, \"kernel_size\": [2, 7], \"bias\": true, \"padding\": [0, 3]}}, {\"class\": \"ReLU\", \"kargs\": {\"inplace\": true}}, {\"class\": \"BatchNorm2d\", \"kargs\": {\"num_features\": 80}}, {\"class\": \"Flatten\", \"kargs\": {}}, {\"class\": \"Linear\", \"kargs\": {\"in_features\": 20480, \"out_features\": 256}}, {\"class\": \"ReLU\", \"kargs\": {\"inplace\": true}}, {\"class\": \"BatchNorm1d\", \"kargs\": {\"num_features\": 256}}, {\"class\": \"Linear\", \"kargs\": {\"in_features\": 256, \"out_features\": 256}}], \"NUM_LOGS_PER_EPOCH\": 10, \"BEST_MODEL_PATH\": \"./best_model.pth\", \"n_way\": 16, \"datasets\": [{\"labels\": [\"1-10\", \"1-12\", \"1-14\", \"1-16\", \"1-18\", \"1-19\", \"1-8\", \"10-11\", \"10-17\", \"10-4\", \"10-7\", \"11-1\", \"11-10\", \"11-19\", \"11-20\", \"11-4\", \"11-7\", \"12-19\", \"12-20\", \"12-7\", \"13-14\", \"13-18\", \"13-19\", \"13-20\", \"13-3\", \"13-7\", \"14-10\", \"14-11\", \"14-12\", \"14-13\", \"14-14\", \"14-19\", \"14-20\", \"14-7\", \"14-8\", \"14-9\", \"15-1\", \"15-19\", \"15-6\", \"16-1\", \"16-16\", \"16-19\", \"16-20\", \"17-10\", \"17-11\", \"18-1\", \"18-10\", \"18-11\", \"18-12\", \"18-13\", \"18-14\", \"18-15\", \"18-16\", \"18-17\", \"18-19\", \"18-2\", \"18-20\", \"18-4\", \"18-5\", \"18-7\", \"18-8\", \"18-9\", \"19-1\", \"19-10\", \"19-11\", \"19-12\", \"19-13\", \"19-14\", \"19-15\", \"19-19\", \"19-2\", \"19-20\", \"19-3\", \"19-4\", \"19-6\", \"19-7\", \"19-8\", \"19-9\", \"2-1\", \"2-13\", \"2-15\", \"2-3\", \"2-4\", \"2-5\", \"2-6\", \"2-7\", \"2-8\", \"20-1\", \"20-12\", \"20-14\", \"20-15\", \"20-16\", \"20-18\", \"20-19\", \"20-20\", \"20-3\", \"20-4\", \"20-5\", \"20-7\", \"20-8\", \"3-1\", \"3-13\", \"3-18\", \"3-2\", \"3-8\", \"4-1\", \"4-10\", \"4-11\", \"5-1\", \"5-5\", \"6-1\", \"6-15\", \"6-6\", \"7-10\", \"7-11\", \"7-12\", \"7-13\", \"7-14\", \"7-7\", \"7-8\", \"7-9\", \"8-1\", \"8-13\", \"8-14\", \"8-18\", \"8-20\", \"8-3\", \"8-8\", \"9-1\", \"9-7\"], \"domains\": [1, 2, 3, 4], \"num_examples_per_domain_per_label\": -1, \"pickle_path\": \"/root/csc500-main/datasets/wisig.node3-19.stratified_ds.2022A.pkl\", \"source_or_target_dataset\": \"target\", \"x_transforms\": [\"unit_power\"], \"episode_transforms\": [], \"domain_prefix\": \"Wisig_\"}, {\"labels\": [\"3123D52\", \"3123D65\", \"3123D79\", \"3123D80\", \"3123D54\", \"3123D70\", \"3123D7B\", \"3123D89\", \"3123D58\", \"3123D76\", \"3123D7D\", \"3123EFE\", \"3123D64\", \"3123D78\", \"3123D7E\", \"3124E4A\"], \"domains\": [32, 38, 8, 44, 14, 50, 20, 26], \"num_examples_per_domain_per_label\": 2000, \"pickle_path\": \"/root/csc500-main/datasets/oracle.Run1_10kExamples_stratified_ds.2022A.pkl\", \"source_or_target_dataset\": \"source\", \"x_transforms\": [\"unit_power\"], \"episode_transforms\": [], \"domain_prefix\": \"ORACLE.run1\"}], \"dataset_seed\": 1337, \"seed\": 1337, \"x_shape\": [2, 256], \"domains_source\": [\"ORACLE.run132\", \"ORACLE.run138\", \"ORACLE.run18\", \"ORACLE.run144\", \"ORACLE.run114\", \"ORACLE.run150\", \"ORACLE.run120\", \"ORACLE.run126\"], \"domains_target\": [\"Wisig_1\", \"Wisig_2\", \"Wisig_3\", \"Wisig_4\"]}, \"results\": {\"source_test_label_accuracy\": 0.5995768229166667, \"source_test_label_loss\": 1.5800752639770508, \"target_test_label_accuracy\": 0.6954979360165119, \"target_test_label_loss\": 17.73013687133789, \"source_val_label_accuracy\": 0.5963541666666666, \"source_val_label_loss\": 1.5602198839187622, \"target_val_label_accuracy\": 0.6918034957627118, \"target_val_label_loss\": 17.865800857543945, \"total_epochs_trained\": 15, \"total_experiment_time_secs\": 3146.697489261627, \"confusion\": {\"ORACLE.run114\": {\"15\": {\"15\": 213, \"7\": 25, \"2\": 1, \"5\": 1}, \"3\": {\"4\": 39, \"3\": 163, \"14\": 23, \"2\": 4, \"5\": 4, \"6\": 2, \"10\": 2, \"0\": 2, \"13\": 1}, \"6\": {\"2\": 19, \"6\": 112, \"14\": 31, \"13\": 77, \"3\": 1}, \"1\": {\"1\": 194, \"5\": 28, \"4\": 12, \"3\": 2, \"7\": 4}, \"8\": {\"8\": 239, \"1\": 1}, \"10\": {\"10\": 171, \"11\": 6, \"0\": 58, \"14\": 4, \"3\": 1}, \"9\": {\"9\": 234, \"11\": 5, \"12\": 1}, \"13\": {\"6\": 88, \"13\": 78, \"2\": 26, \"14\": 40, \"4\": 2, \"5\": 4, \"1\": 1, \"15\": 1}, \"12\": {\"12\": 230, \"9\": 10}, \"5\": {\"5\": 119, \"1\": 47, \"4\": 50, \"3\": 4, \"2\": 13, \"7\": 6, \"15\": 1}, \"0\": {\"10\": 63, \"0\": 158, \"3\": 14, \"11\": 4, \"8\": 1}, \"2\": {\"15\": 3, \"3\": 14, \"2\": 87, \"4\": 25, \"14\": 32, \"5\": 31, \"6\": 25, \"13\": 21, \"7\": 2}, \"11\": {\"11\": 196, \"9\": 19, \"0\": 8, \"10\": 17}, \"14\": {\"6\": 26, \"2\": 26, \"14\": 144, \"13\": 28, \"3\": 11, \"10\": 1, \"4\": 3, \"0\": 1}, \"7\": {\"7\": 217, \"15\": 12, \"5\": 3, \"1\": 8}, \"4\": {\"3\": 50, \"4\": 117, \"5\": 39, \"1\": 7, \"2\": 24, \"14\": 3}}, \"ORACLE.run120\": {\"3\": {\"9\": 38, \"5\": 18, \"3\": 64, \"2\": 13, \"15\": 2, \"7\": 13, \"4\": 25, \"12\": 32, \"0\": 14, \"8\": 9, \"1\": 9, \"10\": 1, \"13\": 1, \"6\": 1}, \"15\": {\"12\": 8, \"0\": 23, \"1\": 40, \"9\": 4, \"13\": 26, \"15\": 105, \"5\": 30, \"2\": 2, \"3\": 2}, \"8\": {\"4\": 40, \"10\": 37, \"8\": 94, \"9\": 3, \"6\": 11, \"14\": 8, \"7\": 30, \"3\": 13, \"12\": 2, \"2\": 2}, \"4\": {\"5\": 4, \"8\": 43, \"4\": 130, \"3\": 31, \"7\": 5, \"12\": 6, \"9\": 2, \"10\": 17, \"2\": 2}, \"14\": {\"14\": 129, \"10\": 52, \"6\": 52, \"8\": 7}, \"0\": {\"12\": 35, \"0\": 49, \"15\": 32, \"5\": 61, \"1\": 32, \"3\": 5, \"2\": 9, \"9\": 12, \"4\": 4, \"13\": 1}, \"7\": {\"7\": 113, \"9\": 20, \"2\": 49, \"8\": 23, \"3\": 17, \"4\": 2, \"6\": 10, \"12\": 3, \"14\": 3}, \"6\": {\"14\": 42, \"6\": 176, \"8\": 7, \"10\": 6, \"7\": 8, \"2\": 1}, \"10\": {\"14\": 41, \"10\": 126, \"4\": 11, \"8\": 48, \"6\": 10, \"7\": 3, \"3\": 1}, \"5\": {\"5\": 61, \"12\": 33, \"15\": 20, \"0\": 49, \"1\": 55, \"3\": 8, \"9\": 6, \"4\": 2, \"13\": 2, \"8\": 1, \"7\": 1, \"2\": 2}, \"2\": {\"2\": 77, \"3\": 17, \"13\": 28, \"9\": 49, \"7\": 34, \"5\": 6, \"12\": 13, \"1\": 6, \"8\": 5, \"4\": 5}, \"12\": {\"9\": 30, \"0\": 20, \"5\": 38, \"4\": 6, \"3\": 43, \"12\": 46, \"7\": 4, \"2\": 18, \"1\": 25, \"15\": 7, \"8\": 2, \"13\": 1}, \"9\": {\"7\": 20, \"3\": 46, \"0\": 5, \"4\": 6, \"9\": 60, \"2\": 57, \"1\": 6, \"8\": 4, \"12\": 23, \"5\": 2, \"15\": 6, \"13\": 5}, \"1\": {\"15\": 59, \"5\": 40, \"9\": 12, \"12\": 26, \"2\": 4, \"1\": 45, \"13\": 4, \"0\": 42, \"3\": 7, \"4\": 1}, \"11\": {\"11\": 237, \"9\": 1, \"7\": 1, \"13\": 1}, \"13\": {\"13\": 188, \"7\": 3, \"15\": 13, \"9\": 15, \"2\": 17, \"5\": 2, \"3\": 1, \"1\": 1}}, \"ORACLE.run138\": {\"5\": {\"5\": 100, \"0\": 35, \"15\": 12, \"6\": 7, \"8\": 54, \"7\": 15, \"9\": 5, \"13\": 2, \"1\": 3, \"3\": 6, \"10\": 1}, \"8\": {\"8\": 114, \"7\": 17, \"15\": 6, \"0\": 40, \"5\": 47, \"10\": 9, \"9\": 1, \"13\": 6}, \"11\": {\"11\": 175, \"14\": 56, \"12\": 8, \"2\": 1}, \"1\": {\"1\": 221, \"15\": 17, \"13\": 1, \"5\": 1}, \"10\": {\"10\": 150, \"12\": 35, \"8\": 10, \"14\": 5, \"13\": 27, \"15\": 4, \"2\": 2, \"11\": 1, \"0\": 6}, \"15\": {\"15\": 132, \"13\": 59, \"8\": 9, \"1\": 34, \"5\": 4, \"0\": 1, \"10\": 1}, \"3\": {\"3\": 194, \"0\": 4, \"9\": 31, \"5\": 2, \"7\": 8, \"6\": 1}, \"7\": {\"7\": 167, \"5\": 6, \"0\": 53, \"3\": 2, \"8\": 8, \"10\": 3, \"9\": 1}, \"4\": {\"4\": 219, \"12\": 20, \"10\": 1}, \"14\": {\"11\": 41, \"14\": 177, \"13\": 1, \"2\": 19, \"12\": 1, \"10\": 1}, \"9\": {\"3\": 9, \"9\": 124, \"6\": 97, \"5\": 8, \"0\": 2}, \"12\": {\"12\": 203, \"10\": 19, \"4\": 15, \"7\": 1, \"14\": 1, \"0\": 1}, \"6\": {\"6\": 167, \"9\": 66, \"5\": 6, \"3\": 1}, \"2\": {\"14\": 20, \"2\": 208, \"13\": 12}, \"0\": {\"7\": 64, \"8\": 71, \"3\": 15, \"0\": 51, \"4\": 1, \"5\": 24, \"10\": 12, \"9\": 2}, \"13\": {\"15\": 78, \"13\": 131, \"10\": 12, \"2\": 9, \"5\": 3, \"8\": 4, \"1\": 2, \"0\": 1}}, \"ORACLE.run18\": {\"9\": {\"9\": 240}, \"10\": {\"5\": 17, \"10\": 108, \"14\": 43, \"13\": 32, \"4\": 19, \"1\": 9, \"11\": 2, \"0\": 7, \"6\": 3}, \"13\": {\"0\": 72, \"10\": 19, \"14\": 17, \"13\": 61, \"4\": 49, \"6\": 14, \"7\": 3, \"1\": 3, \"8\": 1, \"5\": 1}, \"0\": {\"0\": 116, \"6\": 21, \"7\": 24, \"14\": 1, \"13\": 56, \"4\": 16, \"10\": 6}, \"1\": {\"10\": 12, \"1\": 96, \"11\": 88, \"4\": 5, \"14\": 27, \"5\": 10, \"8\": 1, \"6\": 1}, \"15\": {\"15\": 125, \"8\": 28, \"12\": 75, \"2\": 7, \"7\": 3, \"3\": 2}, \"5\": {\"5\": 192, \"10\": 26, \"14\": 4, \"1\": 12, \"0\": 1, \"11\": 4, \"13\": 1}, \"3\": {\"3\": 156, \"12\": 33, \"2\": 46, \"15\": 5}, \"6\": {\"4\": 37, \"8\": 12, \"14\": 5, \"6\": 81, \"7\": 73, \"0\": 18, \"13\": 14}, \"11\": {\"11\": 100, \"4\": 4, \"1\": 102, \"10\": 3, \"8\": 3, \"14\": 14, \"5\": 13, \"13\": 1}, \"8\": {\"8\": 192, \"15\": 31, \"12\": 1, \"6\": 7, \"7\": 8, \"4\": 1}, \"4\": {\"14\": 40, \"11\": 2, \"6\": 33, \"4\": 69, \"10\": 15, \"13\": 50, \"0\": 20, \"1\": 3, \"7\": 5, \"8\": 3}, \"12\": {\"12\": 101, \"3\": 56, \"15\": 74, \"8\": 5, \"2\": 4}, \"14\": {\"10\": 69, \"14\": 86, \"11\": 8, \"5\": 6, \"6\": 5, \"1\": 15, \"4\": 34, \"0\": 3, \"13\": 14}, \"2\": {\"2\": 158, \"3\": 55, \"7\": 8, \"15\": 13, \"12\": 5, \"6\": 1}, \"7\": {\"7\": 135, \"6\": 61, \"0\": 18, \"13\": 7, \"4\": 12, \"8\": 6, \"14\": 1}}, \"ORACLE.run150\": {\"7\": {\"10\": 17, \"7\": 132, \"13\": 48, \"5\": 42, \"4\": 1}, \"3\": {\"3\": 236, \"8\": 4}, \"8\": {\"8\": 232, \"3\": 3, \"10\": 5}, \"2\": {\"2\": 209, \"0\": 31}, \"14\": {\"14\": 230, \"12\": 6, \"11\": 3, \"9\": 1}, \"4\": {\"4\": 90, \"6\": 39, \"15\": 34, \"13\": 12, \"1\": 38, \"5\": 20, \"7\": 7}, \"6\": {\"6\": 112, \"5\": 33, \"13\": 18, \"1\": 37, \"4\": 34, \"15\": 3, \"0\": 2, \"7\": 1}, \"15\": {\"11\": 9, \"15\": 170, \"1\": 38, \"6\": 3, \"4\": 20}, \"10\": {\"10\": 205, \"7\": 10, \"8\": 4, \"13\": 5, \"0\": 16}, \"11\": {\"11\": 198, \"15\": 11, \"9\": 29, \"14\": 2}, \"13\": {\"7\": 41, \"13\": 112, \"6\": 25, \"5\": 54, \"4\": 5, \"0\": 2, \"10\": 1}, \"9\": {\"11\": 44, \"9\": 169, \"12\": 24, \"14\": 2, \"15\": 1}, \"0\": {\"0\": 180, \"2\": 40, \"10\": 17, \"6\": 2, \"13\": 1}, \"1\": {\"4\": 31, \"11\": 2, \"1\": 114, \"15\": 57, \"6\": 35, \"0\": 1}, \"12\": {\"12\": 207, \"11\": 3, \"14\": 15, \"9\": 15}, \"5\": {\"6\": 48, \"5\": 64, \"7\": 48, \"13\": 47, \"15\": 1, \"1\": 9, \"4\": 22, \"10\": 1}}, \"ORACLE.run132\": {\"8\": {\"8\": 142, \"5\": 36, \"13\": 28, \"0\": 24, \"3\": 6, \"4\": 2, \"14\": 2}, \"14\": {\"14\": 65, \"7\": 52, \"2\": 5, \"11\": 66, \"4\": 21, \"5\": 7, \"13\": 17, \"3\": 3, \"0\": 2, \"8\": 2}, \"2\": {\"2\": 169, \"4\": 45, \"7\": 7, \"14\": 2, \"0\": 16, \"5\": 1}, \"0\": {\"4\": 52, \"0\": 119, \"5\": 6, \"8\": 21, \"14\": 2, \"2\": 22, \"7\": 7, \"13\": 10, \"11\": 1}, \"1\": {\"1\": 234, \"10\": 6}, \"10\": {\"10\": 236, \"1\": 4}, \"11\": {\"14\": 53, \"11\": 165, \"7\": 7, \"3\": 7, \"13\": 6, \"5\": 2}, \"5\": {\"3\": 10, \"5\": 60, \"7\": 18, \"13\": 44, \"0\": 40, \"8\": 22, \"2\": 4, \"11\": 8, \"4\": 20, \"14\": 14}, \"15\": {\"15\": 237, \"8\": 3}, \"3\": {\"3\": 212, \"5\": 4, \"13\": 6, \"8\": 7, \"11\": 9, \"14\": 2}, \"12\": {\"12\": 240}, \"7\": {\"7\": 76, \"2\": 9, \"14\": 45, \"5\": 30, \"4\": 38, \"13\": 22, \"11\": 15, \"0\": 5}, \"13\": {\"7\": 16, \"14\": 22, \"13\": 76, \"3\": 23, \"11\": 12, \"5\": 37, \"4\": 20, \"8\": 22, \"0\": 11, \"2\": 1}, \"6\": {\"6\": 240}, \"4\": {\"8\": 3, \"7\": 38, \"5\": 21, \"4\": 67, \"0\": 44, \"2\": 52, \"13\": 11, \"14\": 4}, \"9\": {\"9\": 239, \"12\": 1}}, \"ORACLE.run126\": {\"4\": {\"0\": 40, \"3\": 3, \"10\": 19, \"4\": 51, \"7\": 30, \"8\": 24, \"14\": 41, \"6\": 1, \"1\": 30, \"5\": 1}, \"12\": {\"12\": 236, \"11\": 4}, \"10\": {\"0\": 46, \"10\": 82, \"1\": 8, \"4\": 16, \"6\": 21, \"8\": 31, \"9\": 6, \"14\": 25, \"15\": 2, \"5\": 1, \"7\": 2}, \"0\": {\"10\": 50, \"0\": 40, \"14\": 41, \"1\": 26, \"6\": 11, \"8\": 23, \"4\": 30, \"7\": 12, \"2\": 1, \"9\": 4, \"3\": 2}, \"13\": {\"13\": 157, \"2\": 5, \"6\": 7, \"5\": 45, \"15\": 17, \"9\": 9}, \"9\": {\"6\": 42, \"9\": 66, \"13\": 10, \"7\": 6, \"8\": 22, \"15\": 45, \"5\": 36, \"10\": 9, \"1\": 1, \"0\": 2, \"4\": 1}, \"3\": {\"7\": 55, \"3\": 127, \"2\": 51, \"4\": 2, \"8\": 1, \"15\": 2, \"14\": 1, \"5\": 1}, \"2\": {\"2\": 83, \"8\": 13, \"3\": 68, \"9\": 7, \"5\": 21, \"7\": 23, \"0\": 2, \"15\": 18, \"13\": 2, \"4\": 2, \"1\": 1}, \"5\": {\"5\": 82, \"15\": 69, \"9\": 28, \"13\": 34, \"2\": 17, \"8\": 5, \"6\": 3, \"7\": 1, \"4\": 1}, \"14\": {\"1\": 59, \"10\": 22, \"14\": 62, \"0\": 38, \"6\": 1, \"7\": 12, \"4\": 37, \"8\": 6, \"9\": 1, \"3\": 2}, \"8\": {\"6\": 20, \"9\": 28, \"10\": 21, \"8\": 63, \"0\": 18, \"15\": 28, \"7\": 21, \"1\": 1, \"4\": 20, \"5\": 4, \"2\": 8, \"14\": 6, \"3\": 2}, \"7\": {\"3\": 53, \"8\": 16, \"4\": 26, \"9\": 2, \"7\": 86, \"5\": 2, \"2\": 36, \"1\": 6, \"0\": 5, \"15\": 4, \"14\": 4}, \"6\": {\"9\": 37, \"6\": 133, \"10\": 30, \"8\": 12, \"0\": 6, \"15\": 11, \"14\": 1, \"5\": 2, \"13\": 8}, \"11\": {\"11\": 228, \"12\": 12}, \"15\": {\"8\": 31, \"0\": 1, \"15\": 48, \"7\": 4, \"5\": 60, \"9\": 43, \"10\": 3, \"13\": 16, \"2\": 12, \"3\": 5, \"6\": 14, \"4\": 3}, \"1\": {\"1\": 91, \"4\": 31, \"0\": 26, \"14\": 62, \"10\": 16, \"8\": 6, \"7\": 8}}, \"ORACLE.run144\": {\"12\": {\"12\": 166, \"10\": 22, \"1\": 51, \"3\": 1}, \"7\": {\"2\": 44, \"9\": 42, \"7\": 148, \"6\": 4, \"1\": 1, \"13\": 1}, \"5\": {\"5\": 188, \"14\": 14, \"0\": 24, \"8\": 3, \"15\": 11}, \"15\": {\"15\": 169, \"14\": 26, \"0\": 29, \"4\": 2, \"8\": 8, \"5\": 6}, \"8\": {\"8\": 146, \"0\": 82, \"5\": 8, \"15\": 4}, \"2\": {\"7\": 39, \"2\": 162, \"1\": 8, \"10\": 25, \"9\": 2, \"3\": 3, \"12\": 1}, \"13\": {\"6\": 44, \"7\": 3, \"13\": 144, \"11\": 14, \"9\": 32, \"4\": 3}, \"4\": {\"4\": 177, \"14\": 61, \"13\": 2}, \"0\": {\"5\": 20, \"0\": 127, \"15\": 20, \"8\": 73}, \"6\": {\"2\": 2, \"6\": 144, \"7\": 14, \"9\": 25, \"13\": 42, \"11\": 12, \"4\": 1}, \"9\": {\"9\": 117, \"6\": 35, \"13\": 30, \"7\": 56, \"2\": 2}, \"11\": {\"11\": 206, \"6\": 16, \"13\": 17, \"9\": 1}, \"10\": {\"10\": 167, \"1\": 28, \"12\": 19, \"2\": 26}, \"14\": {\"14\": 133, \"15\": 18, \"4\": 85, \"5\": 3, \"0\": 1}, \"1\": {\"3\": 31, \"1\": 132, \"2\": 10, \"10\": 21, \"12\": 45, \"7\": 1}, \"3\": {\"1\": 30, \"3\": 201, \"12\": 5, \"7\": 1, \"2\": 3}}, \"Wisig_3\": {\"109\": {\"109\": 60, \"43\": 2, \"23\": 1, \"92\": 4, \"89\": 1, \"102\": 9, \"69\": 5, \"33\": 9, \"118\": 9, \"93\": 7, \"84\": 2, \"16\": 8, \"70\": 1, \"90\": 1, \"113\": 1, \"116\": 1, \"11\": 4, \"2\": 2, \"18\": 1}, \"127\": {\"127\": 119, \"46\": 1, \"88\": 1, \"34\": 1, \"69\": 1, \"77\": 1, \"124\": 1, \"9\": 1, \"7\": 2}, \"14\": {\"100\": 4, \"14\": 64, \"93\": 1, \"107\": 1, \"122\": 1, \"50\": 2, \"45\": 1, \"31\": 1, \"62\": 1, \"40\": 2, \"87\": 1, \"26\": 1}, \"7\": {\"7\": 91, \"5\": 4, \"71\": 1, \"95\": 1, \"4\": 3, \"127\": 2, \"3\": 5, \"99\": 1, \"111\": 1, \"105\": 2, \"108\": 1}, \"129\": {\"100\": 3, \"49\": 3, \"129\": 9, \"103\": 2, \"5\": 2, \"110\": 3, \"87\": 1, \"4\": 1, \"66\": 2, \"128\": 1, \"122\": 1, \"19\": 1, \"60\": 3}, \"57\": {\"57\": 19, \"32\": 1}, \"84\": {\"44\": 5, \"116\": 1, \"29\": 2, \"84\": 75, \"90\": 12, \"62\": 9, \"16\": 1, \"82\": 1, \"92\": 1, \"88\": 1}, \"114\": {\"114\": 105, \"107\": 2, \"53\": 1, \"82\": 1, \"105\": 3, \"4\": 6, \"1\": 1, \"119\": 1, \"86\": 1, \"3\": 2, \"113\": 1}, \"44\": {\"44\": 54, \"109\": 1, \"17\": 2, \"116\": 1, \"82\": 1, \"62\": 4, \"90\": 3, \"69\": 1, \"31\": 1, \"84\": 1, \"29\": 1, \"102\": 2}, \"21\": {\"21\": 41, \"88\": 1, \"39\": 2, \"36\": 1, \"101\": 1, \"127\": 1, \"94\": 1}, \"46\": {\"46\": 13, \"127\": 1, \"71\": 1, \"85\": 1}, \"100\": {\"107\": 1, \"100\": 9, \"14\": 2, \"87\": 1, \"22\": 2, \"74\": 1}, \"63\": {\"63\": 11, \"121\": 2, \"18\": 1, \"81\": 1, \"122\": 1}, \"24\": {\"24\": 38, \"36\": 3, \"27\": 2, \"30\": 2, \"94\": 3}, \"107\": {\"107\": 113, \"57\": 1, \"32\": 1, \"14\": 1, \"1\": 1, \"90\": 1}, \"35\": {\"127\": 2, \"35\": 8, \"27\": 1, \"51\": 1}, \"81\": {\"81\": 27, \"18\": 3, \"63\": 1, \"23\": 1}, \"64\": {\"64\": 20}, \"59\": {\"59\": 12}, \"33\": {\"33\": 75, \"102\": 24, \"109\": 1, \"117\": 1, \"119\": 1, \"89\": 1, \"80\": 1, \"43\": 1, \"69\": 6, \"26\": 2, \"118\": 1}, \"34\": {\"59\": 2, \"58\": 2, \"111\": 2, \"34\": 7, \"53\": 1, \"129\": 3, \"37\": 1, \"122\": 1, \"98\": 1, \"19\": 1, \"125\": 1, \"91\": 2, \"105\": 1, \"100\": 1, \"28\": 2, \"12\": 1, \"1\": 1, \"72\": 1, \"73\": 1}, \"36\": {\"36\": 103, \"25\": 2, \"27\": 5, \"0\": 1, \"24\": 2, \"98\": 1, \"30\": 4, \"97\": 1, \"127\": 1}, \"79\": {\"22\": 1, \"79\": 8, \"87\": 1, \"90\": 1, \"48\": 1}, \"80\": {\"33\": 2, \"80\": 14}, \"77\": {\"77\": 13, \"36\": 1, \"5\": 2}, \"22\": {\"79\": 1, \"22\": 15}, \"124\": {\"124\": 103, \"10\": 5, \"98\": 12, \"16\": 1, \"12\": 1, \"85\": 1, \"62\": 1}, \"2\": {\"2\": 12, \"109\": 4, \"102\": 2, \"18\": 1, \"26\": 2, \"96\": 1, \"117\": 3, \"126\": 1, \"81\": 1, \"118\": 1}, \"87\": {\"22\": 1, \"79\": 1, \"87\": 57, \"44\": 5, \"90\": 16, \"11\": 10, \"16\": 6, \"40\": 6, \"29\": 1, \"84\": 4, \"115\": 1, \"62\": 2, \"14\": 1, \"107\": 1}, \"105\": {\"105\": 110, \"48\": 1, \"114\": 3, \"5\": 2, \"103\": 2, \"4\": 4}, \"95\": {\"95\": 31, \"99\": 1}, \"43\": {\"43\": 23, \"113\": 2, \"33\": 3, \"93\": 5, \"117\": 1, \"82\": 2, \"109\": 2, \"13\": 1, \"122\": 1, \"118\": 4, \"69\": 5, \"80\": 2, \"121\": 1, \"11\": 3, \"16\": 1}, \"56\": {\"56\": 12}, \"18\": {\"18\": 111, \"61\": 2, \"26\": 2, \"118\": 1, \"126\": 2, \"63\": 1, \"21\": 1, \"67\": 2, \"39\": 1, \"111\": 1}, \"85\": {\"85\": 35, \"46\": 1}, \"113\": {\"123\": 4, \"113\": 74, \"121\": 1, \"117\": 18, \"2\": 1, \"120\": 3, \"89\": 2, \"26\": 10, \"109\": 1, \"64\": 1, \"119\": 1, \"67\": 1, \"93\": 1, \"39\": 2}, \"97\": {\"97\": 12, \"58\": 1, \"27\": 1, \"73\": 3, \"15\": 2, \"13\": 1}, \"86\": {\"95\": 2, \"7\": 2, \"86\": 19, \"26\": 1, \"103\": 2, \"15\": 1, \"125\": 1}, \"128\": {\"85\": 4, \"55\": 1, \"107\": 3, \"72\": 2, \"14\": 1, \"128\": 5, \"23\": 2, \"124\": 1, \"10\": 1, \"68\": 1, \"28\": 2, \"22\": 1, \"104\": 1, \"57\": 2, \"32\": 1, \"101\": 1, \"122\": 2, \"98\": 1}, \"123\": {\"113\": 3, \"123\": 11, \"117\": 2}, \"8\": {\"8\": 95, \"83\": 2, \"35\": 2, \"106\": 2, \"12\": 4, \"10\": 4, \"111\": 7, \"42\": 3, \"73\": 2, \"30\": 1, \"98\": 2, \"15\": 3, \"108\": 2, \"0\": 1}, \"110\": {\"110\": 61, \"129\": 1, \"67\": 1, \"63\": 1, \"78\": 1, \"118\": 1, \"1\": 2, \"19\": 1, \"127\": 1, \"102\": 1, \"111\": 1, \"114\": 4, \"101\": 1, \"122\": 2, \"5\": 5, \"3\": 3, \"69\": 1, \"93\": 1, \"126\": 1}, \"126\": {\"126\": 71, \"61\": 2, \"113\": 4, \"101\": 1, \"39\": 4, \"18\": 11, \"106\": 1, \"81\": 3, \"63\": 1, \"123\": 1, \"5\": 1, \"117\": 1, \"110\": 1, \"26\": 2}, \"42\": {\"42\": 12, \"45\": 1, \"106\": 1, \"70\": 1, \"77\": 1, \"58\": 1, \"91\": 1, \"49\": 2, \"112\": 2, \"124\": 1, \"108\": 1, \"101\": 1, \"19\": 1, \"23\": 2}, \"96\": {\"96\": 15, \"43\": 2, \"109\": 3}, \"83\": {\"83\": 24}, \"54\": {\"54\": 16}, \"65\": {\"45\": 1, \"121\": 1, \"56\": 2, \"65\": 3, \"49\": 2, \"7\": 1, \"112\": 1, \"92\": 1}, \"30\": {\"30\": 58, \"0\": 8, \"6\": 2, \"101\": 1, \"94\": 1, \"36\": 1, \"106\": 3, \"27\": 2, \"15\": 5, \"69\": 1, \"70\": 1, \"12\": 1}, \"121\": {\"113\": 1, \"121\": 20, \"11\": 2, \"90\": 2, \"21\": 1, \"117\": 2, \"123\": 2, \"109\": 1, \"8\": 1}, \"68\": {\"45\": 2, \"68\": 13, \"119\": 1}, \"45\": {\"14\": 4, \"45\": 10, \"94\": 1, \"115\": 1}, \"48\": {\"121\": 1, \"114\": 1, \"34\": 2, \"77\": 2, \"44\": 3, \"65\": 1, \"64\": 1, \"128\": 1, \"118\": 2, \"5\": 1, \"33\": 1}, \"4\": {\"4\": 84, \"114\": 3, \"105\": 2, \"39\": 1, \"3\": 3, \"99\": 1, \"86\": 1, \"87\": 1}, \"67\": {\"123\": 3, \"67\": 12, \"113\": 1}, \"103\": {\"103\": 12, \"105\": 3, \"33\": 1}, \"74\": {\"74\": 16}, \"1\": {\"1\": 97, \"60\": 2, \"122\": 1, \"71\": 2, \"32\": 2, \"27\": 2, \"107\": 2}, \"61\": {\"61\": 16}, \"101\": {\"101\": 36, \"106\": 2, \"9\": 1, \"97\": 1, \"8\": 2, \"6\": 1, \"89\": 1, \"25\": 1, \"58\": 1, \"12\": 2, \"125\": 2, \"0\": 1, \"42\": 1}, \"93\": {\"93\": 116, \"78\": 1, \"44\": 1, \"121\": 1, \"16\": 5, \"11\": 7, \"126\": 3, \"29\": 2, \"109\": 2}, \"26\": {\"26\": 115, \"13\": 1, \"120\": 2, \"2\": 3, \"117\": 6, \"113\": 3}, \"71\": {\"4\": 3, \"71\": 41, \"118\": 1, \"113\": 1, \"99\": 2, \"7\": 4, \"105\": 1, \"3\": 8, \"96\": 1, \"127\": 2, \"5\": 2, \"23\": 1, \"86\": 1}, \"15\": {\"15\": 84, \"97\": 1, \"106\": 6, \"126\": 1, \"0\": 7, \"30\": 2, \"101\": 2, \"18\": 1}, \"55\": {\"55\": 16}, \"104\": {\"104\": 14, \"86\": 1, \"99\": 1}, \"112\": {\"112\": 12, \"85\": 2, \"47\": 1, \"27\": 1}, \"102\": {\"119\": 2, \"102\": 87, \"109\": 2, \"69\": 7, \"33\": 20, \"118\": 2, \"92\": 2}, \"117\": {\"117\": 96, \"123\": 1, \"121\": 3, \"113\": 8, \"26\": 4}, \"119\": {\"119\": 10, \"92\": 1, \"102\": 2, \"69\": 2, \"33\": 1}, \"20\": {\"20\": 7, \"106\": 1, \"114\": 2, \"122\": 3, \"60\": 1, \"128\": 1, \"129\": 1}, \"120\": {\"120\": 16, \"26\": 4}, \"39\": {\"120\": 1, \"39\": 45, \"123\": 1, \"2\": 1, \"70\": 4, \"117\": 14, \"26\": 7, \"121\": 1, \"113\": 14, \"18\": 5, \"126\": 6, \"64\": 1, \"61\": 1, \"67\": 1, \"92\": 1, \"106\": 2, \"110\": 1, \"109\": 1, \"93\": 1}, \"49\": {\"49\": 2, \"42\": 1, \"51\": 2, \"32\": 1, \"22\": 1, \"106\": 1, \"122\": 2, \"91\": 1, \"8\": 2, \"53\": 1, \"14\": 1, \"129\": 1, \"52\": 1, \"97\": 1, \"50\": 2, \"28\": 2, \"40\": 1, \"1\": 1}, \"53\": {\"49\": 2, \"53\": 17, \"65\": 1}, \"92\": {\"92\": 24, \"39\": 1, \"89\": 1, \"2\": 1, \"31\": 1, \"26\": 1, \"33\": 1, \"69\": 2}, \"3\": {\"3\": 86, \"4\": 7, \"71\": 5, \"114\": 2, \"5\": 7, \"7\": 6, \"99\": 2, \"34\": 1}, \"47\": {\"47\": 12}, \"115\": {\"115\": 13, \"32\": 1, \"40\": 2}, \"58\": {\"58\": 15, \"49\": 1}, \"29\": {\"17\": 2, \"29\": 23, \"84\": 1, \"90\": 4, \"14\": 1, \"116\": 1}, \"12\": {\"12\": 93, \"98\": 3, \"111\": 2, \"10\": 3, \"124\": 1, \"72\": 1, \"3\": 1}, \"62\": {\"62\": 89, \"44\": 5, \"26\": 2, \"18\": 1, \"84\": 9, \"90\": 10, \"116\": 1, \"36\": 1}, \"11\": {\"11\": 68, \"29\": 3, \"64\": 1, \"81\": 1, \"62\": 3, \"93\": 9, \"16\": 15, \"90\": 20, \"23\": 1, \"87\": 11, \"14\": 1, \"116\": 1, \"43\": 1, \"31\": 1, \"107\": 2, \"88\": 1, \"84\": 1}, \"72\": {\"72\": 23, \"106\": 1, \"111\": 3, \"71\": 1}, \"98\": {\"98\": 93, \"68\": 1, \"124\": 3, \"34\": 2, \"108\": 3, \"12\": 2, \"10\": 2}, \"122\": {\"122\": 26, \"28\": 1, \"74\": 1, \"1\": 6, \"19\": 3, \"49\": 1, \"115\": 1, \"129\": 5, \"99\": 1, \"23\": 1, \"110\": 2, \"39\": 1, \"107\": 1, \"57\": 2, \"88\": 2, \"55\": 1, \"32\": 1, \"84\": 1, \"114\": 1, \"16\": 1, \"113\": 1}, \"17\": {\"121\": 1, \"80\": 1, \"67\": 1, \"64\": 3, \"63\": 1, \"126\": 1, \"9\": 1, \"17\": 2, \"71\": 2, \"128\": 1, \"69\": 1, \"113\": 1}, \"94\": {\"94\": 67, \"15\": 2, \"125\": 1, \"111\": 1, \"106\": 2, \"83\": 2, \"49\": 1, \"30\": 4, \"54\": 2, \"85\": 1, \"6\": 1}, \"106\": {\"106\": 68, \"0\": 9, \"94\": 1, \"15\": 4, \"8\": 2, \"125\": 2, \"58\": 1, \"101\": 2, \"88\": 1}, \"28\": {\"28\": 12, \"60\": 2, \"100\": 1, \"32\": 1}, \"69\": {\"69\": 59, \"81\": 1, \"89\": 2, \"102\": 10, \"117\": 1, \"118\": 2, \"33\": 3, \"87\": 1, \"27\": 1, \"70\": 1, \"113\": 1, \"109\": 2}, \"125\": {\"125\": 106, \"84\": 1, \"111\": 1, \"18\": 1, \"73\": 2, \"15\": 2, \"33\": 1}, \"19\": {\"68\": 2, \"85\": 5, \"1\": 3, \"52\": 3, \"34\": 1, \"107\": 5, \"14\": 1, \"12\": 2, \"110\": 1, \"19\": 1, \"53\": 1, \"47\": 1, \"73\": 1, \"100\": 1, \"60\": 1, \"98\": 1, \"29\": 2}, \"41\": {\"41\": 12, \"91\": 2, \"127\": 1, \"34\": 1}, \"60\": {\"60\": 10, \"74\": 2, \"87\": 1, \"77\": 2, \"50\": 4, \"90\": 2, \"19\": 1, \"28\": 1, \"40\": 1, \"93\": 1, \"129\": 1, \"31\": 1, \"1\": 1}, \"70\": {\"70\": 22, \"127\": 5, \"88\": 4, \"108\": 2, \"5\": 4, \"110\": 1, \"10\": 7, \"109\": 1, \"129\": 1, \"124\": 10, \"71\": 1, \"3\": 2, \"19\": 2, \"85\": 1, \"18\": 1, \"114\": 2, \"92\": 1, \"106\": 1, \"113\": 1, \"12\": 1, \"7\": 1, \"126\": 1}, \"27\": {\"27\": 73, \"36\": 9, \"88\": 1, \"15\": 2, \"97\": 1, \"30\": 3, \"25\": 2, \"94\": 1, \"70\": 1, \"106\": 1, \"0\": 2}, \"10\": {\"68\": 4, \"10\": 43, \"88\": 1, \"108\": 12, \"51\": 1, \"12\": 4, \"8\": 7, \"70\": 3, \"127\": 5, \"34\": 1, \"124\": 10, \"98\": 18, \"3\": 1, \"39\": 1, \"24\": 1, \"85\": 1, \"73\": 1, \"92\": 1, \"111\": 2, \"7\": 1}, \"108\": {\"46\": 1, \"10\": 16, \"47\": 1, \"108\": 71, \"66\": 2, \"85\": 3, \"52\": 1, \"70\": 5, \"127\": 6, \"39\": 1, \"98\": 9, \"12\": 1, \"124\": 11, \"88\": 2, \"5\": 2, \"111\": 4, \"72\": 1, \"110\": 1, \"8\": 2}, \"9\": {\"9\": 31, \"5\": 1}, \"25\": {\"25\": 13, \"30\": 2, \"108\": 1}, \"37\": {\"37\": 15, \"16\": 1}, \"0\": {\"0\": 97, \"30\": 4, \"106\": 6, \"15\": 6, \"94\": 2, \"73\": 1}, \"66\": {\"66\": 15, \"5\": 1}, \"51\": {\"35\": 1, \"51\": 14, \"42\": 1}, \"76\": {\"76\": 16}, \"32\": {\"32\": 21, \"17\": 1, \"105\": 1, \"1\": 6, \"55\": 1, \"82\": 1, \"129\": 1}, \"88\": {\"88\": 51, \"57\": 1, \"5\": 9, \"103\": 1, \"53\": 1, \"128\": 1, \"28\": 1, \"11\": 4, \"114\": 8, \"129\": 2, \"70\": 2, \"14\": 2, \"71\": 1, \"110\": 17, \"3\": 3, \"111\": 1, \"19\": 2, \"39\": 1, \"78\": 1, \"72\": 1, \"1\": 1, \"7\": 1}, \"31\": {\"44\": 4, \"31\": 14, \"29\": 1, \"14\": 1}, \"91\": {\"91\": 16, \"12\": 1, \"85\": 1, \"124\": 1, \"27\": 1, \"65\": 1, \"10\": 1, \"98\": 2}, \"90\": {\"90\": 108, \"82\": 2, \"84\": 7, \"11\": 1, \"62\": 2, \"87\": 5, \"126\": 1}, \"13\": {\"13\": 8, \"102\": 1, \"48\": 1, \"43\": 1, \"23\": 2, \"119\": 2, \"101\": 1}, \"50\": {\"87\": 1, \"50\": 12, \"107\": 1, \"100\": 2}, \"78\": {\"50\": 3, \"78\": 5, \"29\": 3, \"107\": 1, \"70\": 1, \"74\": 1, \"11\": 1, \"87\": 1}, \"116\": {\"116\": 14, \"109\": 1, \"31\": 2, \"84\": 2, \"23\": 1, \"82\": 1, \"44\": 2, \"2\": 1, \"16\": 2, \"62\": 1, \"118\": 1}, \"5\": {\"5\": 95, \"3\": 9, \"71\": 4, \"39\": 1, \"4\": 1, \"18\": 1, \"7\": 1}, \"75\": {\"75\": 16}, \"89\": {\"89\": 25, \"102\": 2, \"26\": 1}, \"16\": {\"16\": 79, \"84\": 4, \"93\": 7, \"11\": 13, \"39\": 1, \"90\": 6, \"0\": 1, \"29\": 2, \"23\": 2, \"44\": 1}, \"38\": {\"1\": 2, \"38\": 11, \"32\": 1, \"40\": 1, \"33\": 1}, \"118\": {\"64\": 4, \"118\": 51, \"92\": 3, \"113\": 1, \"89\": 2, \"23\": 2, \"16\": 2, \"102\": 8, \"69\": 3, \"109\": 9, \"33\": 5, \"117\": 2, \"119\": 1, \"62\": 2, \"126\": 1, \"93\": 2, \"26\": 2}, \"99\": {\"99\": 29, \"4\": 3, \"36\": 1, \"114\": 2, \"7\": 1}, \"52\": {\"111\": 2, \"52\": 13, \"35\": 1}, \"111\": {\"111\": 115, \"72\": 5, \"52\": 1, \"108\": 2, \"101\": 1, \"8\": 1, \"125\": 1, \"98\": 2}, \"23\": {\"126\": 2, \"5\": 1, \"23\": 5, \"18\": 2, \"128\": 1, \"121\": 2, \"113\": 4, \"105\": 1, \"30\": 1, \"10\": 1, \"124\": 5, \"127\": 3, \"108\": 1, \"95\": 1, \"7\": 1, \"26\": 1}, \"73\": {\"73\": 31, \"106\": 1, \"101\": 1, \"6\": 1, \"111\": 2, \"8\": 1, \"15\": 1, \"0\": 2}, \"82\": {\"82\": 15, \"90\": 4, \"116\": 4, \"44\": 2, \"110\": 1, \"129\": 1, \"84\": 1}, \"40\": {\"40\": 115, \"14\": 2, \"107\": 6, \"36\": 1, \"22\": 2, \"100\": 1, \"88\": 1}, \"6\": {\"6\": 6, \"91\": 1, \"15\": 2, \"101\": 3, \"111\": 3, \"125\": 1, \"24\": 2, \"94\": 7, \"41\": 1, \"58\": 1, \"25\": 1, \"72\": 1, \"10\": 1, \"12\": 1, \"0\": 1}}, \"Wisig_4\": {\"28\": {\"28\": 16, \"122\": 1, \"3\": 2, \"72\": 1}, \"4\": {\"4\": 87, \"10\": 1, \"114\": 3, \"56\": 1, \"46\": 1, \"71\": 2, \"124\": 2, \"27\": 1, \"86\": 3, \"24\": 1, \"1\": 2}, \"72\": {\"43\": 4, \"72\": 24, \"57\": 1, \"102\": 1, \"5\": 1, \"84\": 1}, \"111\": {\"111\": 109, \"68\": 1, \"16\": 2, \"106\": 5, \"12\": 8, \"101\": 7, \"0\": 3, \"10\": 1}, \"108\": {\"108\": 29, \"3\": 3, \"60\": 3, \"129\": 1, \"11\": 6, \"7\": 5, \"14\": 5, \"122\": 1, \"88\": 6, \"93\": 8, \"36\": 1, \"110\": 6, \"5\": 5, \"30\": 1, \"126\": 1, \"107\": 1, \"39\": 1, \"109\": 1, \"114\": 2, \"105\": 1, \"1\": 2, \"127\": 1, \"87\": 1, \"24\": 1}, \"43\": {\"45\": 2, \"11\": 3, \"43\": 38, \"116\": 2, \"33\": 13, \"87\": 4, \"32\": 3, \"44\": 1, \"107\": 1, \"14\": 1, \"99\": 1, \"110\": 10, \"82\": 1, \"118\": 2, \"62\": 2, \"122\": 3, \"109\": 5, \"90\": 1, \"93\": 8, \"40\": 7, \"50\": 1, \"74\": 1, \"28\": 1, \"72\": 3, \"98\": 1, \"5\": 3, \"127\": 1, \"18\": 1}, \"96\": {\"96\": 18, \"122\": 2}, \"89\": {\"89\": 23, \"28\": 2, \"120\": 2, \"3\": 1, \"74\": 1, \"8\": 1, \"102\": 1, \"32\": 1}, \"31\": {\"31\": 11, \"2\": 1, \"118\": 2, \"90\": 2}, \"45\": {\"45\": 14, \"99\": 1, \"72\": 1}, \"2\": {\"96\": 3, \"2\": 12, \"118\": 2, \"26\": 3, \"121\": 1, \"61\": 1, \"84\": 1, \"81\": 1, \"44\": 2, \"109\": 1, \"16\": 1}, \"114\": {\"114\": 93, \"12\": 1, \"119\": 1, \"1\": 5, \"55\": 1, \"129\": 1, \"7\": 2, \"89\": 1, \"4\": 4, \"71\": 9, \"100\": 1, \"98\": 1, \"5\": 2, \"87\": 1, \"3\": 1, \"109\": 1, \"27\": 1, \"105\": 2}, \"11\": {\"72\": 4, \"2\": 1, \"11\": 65, \"40\": 3, \"87\": 14, \"115\": 1, \"105\": 1, \"110\": 10, \"82\": 1, \"93\": 6, \"5\": 13, \"98\": 2, \"14\": 3, \"109\": 1, \"107\": 4, \"48\": 1, \"99\": 1, \"22\": 2, \"45\": 1, \"43\": 1, \"1\": 1}, \"12\": {\"111\": 18, \"91\": 1, \"58\": 1, \"68\": 1, \"12\": 58, \"36\": 1, \"101\": 9, \"0\": 2, \"62\": 1, \"106\": 1, \"8\": 3, \"113\": 1, \"95\": 1, \"98\": 1, \"42\": 1}, \"14\": {\"14\": 79, \"129\": 1, \"87\": 9, \"107\": 4, \"7\": 1, \"8\": 1, \"11\": 5, \"3\": 3, \"99\": 2, \"93\": 1, \"128\": 1, \"5\": 2, \"110\": 2, \"1\": 1}, \"90\": {\"90\": 127, \"13\": 2, \"57\": 2, \"44\": 3, \"102\": 12, \"69\": 7, \"84\": 1}, \"10\": {\"10\": 58, \"94\": 8, \"97\": 4, \"9\": 1, \"8\": 6, \"75\": 1, \"24\": 11, \"30\": 6, \"125\": 1, \"36\": 7, \"106\": 1, \"27\": 4, \"18\": 1, \"70\": 1, \"15\": 6, \"54\": 1, \"101\": 2, \"0\": 1, \"127\": 1, \"88\": 1}, \"63\": {\"123\": 2, \"63\": 12, \"18\": 2}, \"85\": {\"85\": 21, \"100\": 2, \"95\": 1, \"86\": 1, \"14\": 1, \"1\": 1, \"124\": 1}, \"64\": {\"64\": 14, \"20\": 1, \"126\": 1}, \"82\": {\"64\": 4, \"82\": 15, \"32\": 2, \"99\": 1, \"40\": 3, \"107\": 3, \"45\": 2, \"101\": 1, \"62\": 1}, \"58\": {\"58\": 15, \"27\": 1}, \"3\": {\"3\": 100, \"28\": 3, \"117\": 1, \"87\": 2, \"10\": 1, \"14\": 7, \"5\": 4, \"73\": 2, \"105\": 1, \"1\": 2, \"114\": 1, \"98\": 1, \"79\": 2, \"115\": 2, \"88\": 1, \"21\": 1, \"7\": 3, \"11\": 1, \"27\": 1}, \"54\": {\"54\": 13, \"94\": 2, \"12\": 1}, \"121\": {\"121\": 22, \"123\": 3, \"26\": 1, \"117\": 1, \"2\": 1, \"16\": 3, \"84\": 1}, \"42\": {\"91\": 2, \"129\": 1, \"106\": 2, \"9\": 2, \"100\": 1, \"75\": 1, \"111\": 2, \"49\": 1, \"42\": 6, \"114\": 3, \"98\": 2, \"60\": 3, \"8\": 2}, \"98\": {\"98\": 87, \"29\": 1, \"95\": 2, \"26\": 1, \"52\": 3, \"0\": 2, \"44\": 1, \"127\": 7, \"124\": 2, \"18\": 1, \"42\": 1, \"128\": 2, \"91\": 1, \"34\": 1, \"84\": 1, \"25\": 1, \"103\": 1, \"39\": 1, \"12\": 4}, \"123\": {\"123\": 16}, \"91\": {\"91\": 15, \"103\": 3, \"68\": 2, \"101\": 1, \"29\": 1, \"127\": 1, \"0\": 1}, \"83\": {\"119\": 3, \"1\": 1, \"83\": 20, \"32\": 1, \"71\": 2, \"106\": 1}, \"99\": {\"45\": 1, \"99\": 30, \"16\": 1, \"72\": 2, \"33\": 2, \"22\": 1, \"40\": 3}, \"112\": {\"112\": 13, \"42\": 2, \"124\": 1}, \"119\": {\"119\": 11, \"1\": 2, \"7\": 1, \"73\": 2}, \"70\": {\"112\": 1, \"70\": 45, \"39\": 1, \"19\": 1, \"42\": 5, \"29\": 1, \"88\": 9, \"0\": 8, \"71\": 1, \"122\": 3, \"12\": 2, \"127\": 4, \"101\": 4, \"114\": 2, \"118\": 1, \"102\": 1, \"98\": 10, \"124\": 10, \"126\": 1, \"8\": 4, \"24\": 1, \"52\": 1, \"119\": 1, \"91\": 2, \"117\": 1, \"93\": 1, \"30\": 1, \"111\": 1, \"10\": 1}, \"20\": {\"20\": 11, \"19\": 1, \"5\": 1, \"11\": 1, \"1\": 1, \"3\": 1}, \"120\": {\"120\": 13, \"46\": 4, \"86\": 1, \"17\": 2}, \"7\": {\"7\": 79, \"1\": 4, \"105\": 7, \"107\": 5, \"89\": 3, \"71\": 2, \"49\": 1, \"3\": 7, \"14\": 3, \"87\": 5, \"108\": 1, \"40\": 1, \"50\": 1, \"17\": 1, \"60\": 2, \"128\": 1, \"11\": 1}, \"60\": {\"60\": 10, \"87\": 1, \"85\": 1, \"19\": 2, \"46\": 1, \"43\": 2, \"99\": 2, \"32\": 2, \"72\": 1, \"88\": 1, \"61\": 2, \"52\": 2, \"129\": 1, \"5\": 1, \"22\": 1, \"116\": 1, \"91\": 1}, \"113\": {\"113\": 82, \"39\": 4, \"121\": 2, \"126\": 5, \"117\": 6, \"122\": 1, \"81\": 2, \"16\": 3, \"26\": 6, \"18\": 5, \"2\": 1, \"24\": 1}, \"37\": {\"37\": 11, \"4\": 1, \"86\": 2, \"20\": 1, \"128\": 1}, \"124\": {\"124\": 107, \"60\": 1, \"85\": 2}, \"27\": {\"70\": 2, \"112\": 1, \"27\": 53, \"88\": 1, \"59\": 2, \"111\": 3, \"12\": 6, \"8\": 8, \"0\": 7, \"15\": 5, \"30\": 2, \"106\": 2, \"101\": 3, \"48\": 1, \"126\": 1, \"122\": 1, \"24\": 1, \"10\": 1}, \"86\": {\"86\": 26, \"55\": 1, \"37\": 1}, \"127\": {\"127\": 85, \"98\": 9, \"0\": 2, \"113\": 1, \"111\": 4, \"126\": 1, \"122\": 1, \"101\": 2, \"12\": 2, \"39\": 1}, \"62\": {\"62\": 32, \"71\": 1, \"102\": 5, \"44\": 9, \"122\": 2, \"118\": 5, \"108\": 1, \"90\": 1, \"92\": 2, \"60\": 1, \"110\": 1}, \"122\": {\"122\": 31, \"38\": 1, \"118\": 8, \"116\": 1, \"22\": 2, \"0\": 1, \"33\": 6, \"99\": 3, \"62\": 2, \"5\": 5, \"110\": 9, \"84\": 1, \"11\": 4, \"14\": 1, \"26\": 1, \"43\": 2, \"1\": 1, \"87\": 2, \"90\": 2, \"107\": 1}, \"51\": {\"106\": 2, \"101\": 4, \"30\": 1, \"21\": 1, \"51\": 4, \"23\": 1, \"62\": 1, \"95\": 1, \"17\": 1}, \"109\": {\"62\": 7, \"109\": 46, \"118\": 9, \"122\": 2, \"84\": 2, \"69\": 3, \"44\": 3, \"33\": 5, \"102\": 9, \"90\": 8, \"11\": 2, \"108\": 3, \"93\": 2, \"60\": 1, \"80\": 2, \"17\": 1, \"100\": 1, \"116\": 1, \"43\": 4, \"39\": 1, \"3\": 1, \"16\": 1}, \"106\": {\"106\": 68, \"129\": 1, \"39\": 1, \"101\": 8, \"8\": 13, \"34\": 1, \"111\": 5, \"0\": 5, \"10\": 1, \"124\": 2, \"12\": 2, \"126\": 2, \"78\": 1, \"1\": 1, \"125\": 1, \"117\": 1, \"88\": 1}, \"94\": {\"94\": 57, \"54\": 4, \"25\": 3, \"118\": 1, \"36\": 6, \"15\": 3, \"10\": 2, \"1\": 1, \"70\": 1, \"27\": 1, \"6\": 1, \"30\": 4, \"97\": 1, \"43\": 1, \"125\": 2}, \"38\": {\"38\": 13, \"23\": 1, \"57\": 1, \"84\": 1}, \"129\": {\"42\": 2, \"129\": 7, \"52\": 1, \"99\": 1, \"14\": 2, \"98\": 2, \"59\": 1, \"110\": 2, \"95\": 3, \"124\": 4, \"53\": 1, \"72\": 1, \"3\": 1}, \"116\": {\"62\": 4, \"33\": 3, \"116\": 15, \"44\": 2, \"69\": 1, \"118\": 2, \"66\": 1}, \"107\": {\"107\": 91, \"82\": 1, \"28\": 1, \"115\": 3, \"50\": 1, \"105\": 10, \"87\": 2, \"11\": 1, \"40\": 3, \"33\": 1, \"128\": 2, \"110\": 1, \"3\": 1}, \"30\": {\"6\": 2, \"30\": 49, \"36\": 1, \"15\": 13, \"10\": 2, \"39\": 1, \"94\": 3, \"70\": 1, \"106\": 1, \"24\": 2, \"16\": 1}, \"102\": {\"102\": 86, \"80\": 1, \"92\": 2, \"118\": 2, \"90\": 20, \"69\": 10, \"44\": 4, \"66\": 1, \"62\": 2, \"13\": 1, \"129\": 1, \"84\": 2}, \"74\": {\"102\": 1, \"74\": 8, \"99\": 1, \"62\": 2, \"44\": 1, \"31\": 2, \"22\": 1}, \"101\": {\"101\": 74, \"125\": 2, \"53\": 1, \"111\": 14, \"12\": 13, \"0\": 7, \"106\": 10, \"127\": 2, \"8\": 5, \"24\": 1, \"91\": 1, \"109\": 1, \"71\": 1}, \"117\": {\"117\": 100, \"35\": 1, \"81\": 5, \"30\": 1, \"74\": 1, \"113\": 4, \"16\": 1, \"26\": 5, \"63\": 1, \"39\": 3, \"84\": 2}, \"1\": {\"1\": 63, \"3\": 3, \"7\": 11, \"89\": 2, \"92\": 2, \"108\": 1, \"24\": 2, \"114\": 2, \"84\": 1, \"88\": 1, \"105\": 3, \"5\": 1, \"71\": 5, \"15\": 2, \"104\": 1, \"128\": 1, \"21\": 1, \"14\": 2, \"118\": 1, \"4\": 1, \"87\": 2}, \"84\": {\"84\": 104, \"96\": 2, \"109\": 1, \"118\": 2, \"69\": 5, \"117\": 3, \"90\": 6, \"38\": 1, \"92\": 1, \"121\": 1, \"14\": 1, \"33\": 2, \"16\": 1, \"102\": 1, \"88\": 1}, \"17\": {\"17\": 15, \"71\": 2, \"86\": 2, \"3\": 1}, \"6\": {\"101\": 2, \"54\": 1, \"8\": 1, \"6\": 10, \"36\": 2, \"75\": 1, \"125\": 2, \"103\": 1, \"94\": 1, \"95\": 1, \"15\": 2}, \"110\": {\"110\": 66, \"50\": 1, \"120\": 1, \"32\": 1, \"93\": 12, \"5\": 14, \"87\": 3, \"11\": 11, \"14\": 5, \"108\": 1, \"84\": 1, \"43\": 3, \"88\": 1, \"49\": 1, \"81\": 1, \"118\": 1, \"40\": 1}, \"77\": {\"77\": 12}, \"8\": {\"111\": 6, \"112\": 1, \"8\": 79, \"0\": 8, \"27\": 5, \"106\": 16, \"127\": 2, \"70\": 2, \"101\": 5, \"129\": 1, \"82\": 1, \"42\": 1, \"91\": 2, \"12\": 1, \"26\": 1, \"84\": 1}, \"73\": {\"110\": 2, \"73\": 14, \"10\": 1, \"43\": 1, \"3\": 3, \"114\": 1, \"36\": 1, \"120\": 1}, \"126\": {\"39\": 17, \"126\": 62, \"81\": 4, \"113\": 10, \"122\": 1, \"26\": 9, \"16\": 2, \"18\": 4, \"117\": 5, \"110\": 1, \"24\": 1, \"8\": 1, \"88\": 2, \"67\": 3, \"123\": 1, \"84\": 1}, \"57\": {\"57\": 12, \"69\": 1, \"13\": 1, \"90\": 1, \"38\": 1}, \"95\": {\"95\": 31, \"8\": 1}, \"103\": {\"37\": 1, \"103\": 11, \"8\": 2, \"29\": 2}, \"97\": {\"97\": 12, \"10\": 3, \"30\": 1, \"9\": 1, \"29\": 1, \"59\": 1, \"94\": 1}, \"39\": {\"126\": 4, \"39\": 40, \"26\": 7, \"113\": 6, \"117\": 5, \"3\": 1, \"61\": 3, \"69\": 2, \"35\": 1, \"127\": 2, \"81\": 5, \"44\": 1, \"24\": 1, \"10\": 1, \"84\": 4, \"106\": 3, \"105\": 1, \"80\": 2, \"2\": 2, \"18\": 1, \"21\": 2, \"108\": 1, \"70\": 1, \"109\": 3, \"5\": 1}, \"100\": {\"114\": 1, \"4\": 1, \"46\": 3, \"100\": 12, \"52\": 1, \"129\": 2}, \"40\": {\"40\": 100, \"72\": 1, \"99\": 1, \"69\": 1, \"87\": 1, \"107\": 5, \"28\": 1}, \"36\": {\"36\": 99, \"94\": 8, \"10\": 4, \"15\": 2, \"24\": 5, \"84\": 1, \"101\": 2, \"54\": 2, \"30\": 2, \"21\": 1}, \"19\": {\"129\": 1, \"122\": 2, \"62\": 1, \"14\": 1, \"53\": 2, \"11\": 2, \"127\": 2, \"107\": 1, \"19\": 3, \"111\": 1, \"0\": 2, \"72\": 1, \"98\": 3, \"33\": 1, \"115\": 1, \"118\": 1, \"12\": 1, \"99\": 2}, \"118\": {\"122\": 2, \"118\": 59, \"116\": 1, \"43\": 6, \"109\": 2, \"33\": 7, \"102\": 7, \"11\": 2, \"5\": 3, \"14\": 1, \"84\": 1, \"62\": 5, \"110\": 6, \"72\": 1, \"74\": 1, \"31\": 1, \"108\": 1, \"12\": 1, \"99\": 1, \"44\": 1, \"107\": 2, \"90\": 1}, \"56\": {\"56\": 10, \"71\": 1, \"86\": 1}, \"26\": {\"26\": 90, \"113\": 2, \"117\": 7, \"18\": 18, \"39\": 3, \"84\": 1, \"126\": 1, \"61\": 1, \"123\": 1, \"69\": 2}, \"5\": {\"5\": 103, \"19\": 1, \"110\": 8, \"14\": 3, \"87\": 1, \"1\": 1, \"11\": 9, \"108\": 1, \"93\": 1, \"7\": 1, \"43\": 2, \"104\": 1, \"26\": 1, \"98\": 1, \"122\": 1, \"4\": 1}, \"21\": {\"21\": 29, \"81\": 2, \"10\": 2, \"78\": 2, \"84\": 1, \"36\": 2, \"105\": 2}, \"22\": {\"72\": 3, \"22\": 7, \"36\": 1, \"120\": 2, \"74\": 1, \"5\": 1, \"13\": 1}, \"68\": {\"103\": 2, \"68\": 12, \"77\": 1, \"111\": 1}, \"9\": {\"30\": 2, \"9\": 24, \"51\": 2}, \"66\": {\"66\": 10, \"50\": 1, \"31\": 1, \"44\": 2, \"102\": 2}, \"87\": {\"107\": 16, \"87\": 35, \"11\": 10, \"50\": 1, \"129\": 1, \"14\": 12, \"72\": 2, \"5\": 17, \"105\": 4, \"7\": 3, \"43\": 2, \"3\": 3, \"110\": 5, \"93\": 3, \"20\": 1, \"28\": 1, \"128\": 1, \"40\": 6, \"117\": 1}, \"71\": {\"71\": 84, \"19\": 1, \"86\": 1, \"114\": 9, \"4\": 3, \"87\": 1, \"32\": 1, \"100\": 1, \"21\": 1, \"39\": 1, \"1\": 1}, \"115\": {\"115\": 12, \"107\": 2, \"40\": 1, \"99\": 1}, \"23\": {\"30\": 1, \"23\": 2, \"67\": 2, \"21\": 1, \"81\": 1, \"53\": 1, \"113\": 3, \"121\": 2, \"108\": 2, \"98\": 1}, \"33\": {\"33\": 112, \"116\": 2, \"0\": 1, \"102\": 1, \"5\": 1, \"16\": 1}, \"35\": {\"117\": 4, \"35\": 7, \"70\": 1}, \"125\": {\"125\": 123, \"75\": 2, \"90\": 1, \"101\": 2, \"26\": 1, \"81\": 1, \"69\": 1, \"10\": 1}, \"47\": {\"125\": 2, \"47\": 10}, \"79\": {\"28\": 1, \"79\": 14, \"115\": 1}, \"53\": {\"53\": 13, \"122\": 1, \"129\": 2}, \"67\": {\"113\": 4, \"67\": 5, \"64\": 1, \"35\": 1, \"123\": 1, \"122\": 1, \"8\": 1, \"116\": 1, \"118\": 1}, \"80\": {\"80\": 16}, \"105\": {\"105\": 73, \"88\": 1, \"89\": 1, \"78\": 1, \"107\": 3, \"10\": 1, \"7\": 5, \"3\": 4, \"87\": 5, \"40\": 3, \"96\": 1, \"70\": 1, \"106\": 1}, \"76\": {\"76\": 14, \"105\": 1, \"64\": 1}, \"46\": {\"37\": 1, \"46\": 15, \"100\": 3, \"124\": 1}, \"34\": {\"46\": 1, \"100\": 1, \"71\": 3, \"34\": 6, \"12\": 4, \"55\": 1, \"4\": 2, \"60\": 1, \"106\": 3, \"1\": 1, \"73\": 1, \"75\": 2, \"51\": 1, \"86\": 1, \"19\": 1, \"111\": 2, \"114\": 1}, \"32\": {\"32\": 12, \"64\": 1, \"3\": 3, \"105\": 1, \"79\": 1, \"29\": 1, \"50\": 2, \"82\": 1, \"110\": 1, \"119\": 1, \"115\": 3, \"99\": 1}, \"13\": {\"90\": 3, \"13\": 7, \"66\": 1, \"69\": 3, \"11\": 1, \"102\": 1}, \"78\": {\"3\": 2, \"78\": 8, \"107\": 1, \"89\": 2, \"19\": 1, \"32\": 1, \"74\": 2, \"11\": 1, \"114\": 1, \"93\": 1, \"5\": 1, \"60\": 1, \"18\": 2, \"91\": 1, \"115\": 1, \"10\": 1, \"109\": 1, \"126\": 1, \"72\": 1, \"81\": 1, \"117\": 1, \"99\": 1, \"1\": 1, \"87\": 2}, \"41\": {\"41\": 13, \"95\": 1, \"4\": 1, \"60\": 1}, \"69\": {\"90\": 14, \"69\": 89, \"13\": 3, \"84\": 4, \"44\": 1, \"102\": 8, \"88\": 2, \"113\": 2, \"66\": 1, \"4\": 1, \"27\": 1, \"16\": 2}, \"88\": {\"100\": 1, \"88\": 46, \"83\": 3, \"48\": 2, \"98\": 4, \"128\": 2, \"85\": 1, \"124\": 9, \"26\": 1, \"1\": 6, \"114\": 7, \"0\": 6, \"4\": 2, \"70\": 12, \"108\": 5, \"5\": 1, \"11\": 1, \"27\": 1, \"110\": 3, \"101\": 1, \"19\": 4, \"74\": 2, \"10\": 1, \"18\": 1, \"3\": 1, \"94\": 2, \"106\": 1, \"122\": 1, \"105\": 1, \"7\": 1, \"69\": 1, \"87\": 1, \"113\": 1}, \"15\": {\"15\": 107, \"30\": 4, \"10\": 3, \"122\": 1, \"27\": 3, \"106\": 1, \"111\": 1, \"54\": 1, \"9\": 1, \"6\": 1, \"21\": 1, \"12\": 1, \"8\": 1, \"125\": 1, \"24\": 1}, \"61\": {\"63\": 4, \"61\": 8, \"26\": 2, \"18\": 2}, \"0\": {\"0\": 41, \"29\": 1, \"27\": 3, \"12\": 12, \"34\": 2, \"101\": 11, \"106\": 4, \"127\": 6, \"111\": 14, \"98\": 3, \"8\": 9, \"109\": 1, \"24\": 1, \"91\": 2, \"108\": 2, \"113\": 2, \"4\": 1, \"70\": 1}, \"104\": {\"104\": 10, \"17\": 1, \"70\": 1, \"89\": 2, \"50\": 2}, \"48\": {\"48\": 5, \"69\": 2, \"121\": 2, \"2\": 1, \"102\": 1, \"31\": 2, \"125\": 1, \"16\": 1, \"92\": 1}, \"25\": {\"25\": 16}, \"75\": {\"75\": 14, \"125\": 2}, \"81\": {\"81\": 26, \"39\": 4, \"44\": 1, \"27\": 1, \"117\": 2, \"84\": 2}, \"50\": {\"50\": 15, \"72\": 1}, \"52\": {\"52\": 18, \"5\": 1, \"42\": 1}, \"16\": {\"16\": 106, \"84\": 3, \"10\": 1, \"90\": 1, \"88\": 1, \"2\": 1, \"69\": 4, \"113\": 2, \"114\": 1}, \"44\": {\"102\": 8, \"116\": 1, \"44\": 44, \"90\": 7, \"62\": 1, \"84\": 2, \"109\": 1}, \"29\": {\"29\": 28, \"21\": 1, \"98\": 1, \"91\": 1, \"1\": 1}, \"93\": {\"93\": 107, \"5\": 4, \"122\": 1, \"108\": 1, \"84\": 1, \"110\": 2, \"11\": 3, \"70\": 1, \"109\": 1, \"43\": 2, \"87\": 1}, \"18\": {\"18\": 96, \"65\": 1, \"81\": 4, \"69\": 2, \"26\": 9, \"39\": 2}, \"49\": {\"49\": 3, \"43\": 4, \"33\": 1, \"32\": 1, \"122\": 2, \"101\": 5, \"14\": 4, \"106\": 1, \"8\": 1, \"5\": 1, \"93\": 1, \"118\": 1, \"20\": 1, \"77\": 1, \"52\": 1, \"11\": 2, \"3\": 1, \"110\": 1}, \"55\": {\"55\": 14, \"86\": 1, \"37\": 1}, \"59\": {\"59\": 9, \"58\": 2, \"21\": 1}, \"128\": {\"128\": 4, \"14\": 2, \"72\": 1, \"114\": 1, \"52\": 1, \"26\": 1, \"5\": 2, \"124\": 1, \"34\": 1, \"37\": 1, \"28\": 1, \"129\": 2, \"43\": 2, \"99\": 1, \"127\": 1, \"85\": 1, \"7\": 1}, \"24\": {\"25\": 4, \"24\": 63, \"10\": 15, \"30\": 2, \"113\": 1, \"27\": 2, \"15\": 12, \"125\": 1, \"26\": 1, \"36\": 13, \"70\": 1, \"7\": 1, \"94\": 2, \"8\": 1, \"39\": 1}, \"65\": {\"65\": 9, \"18\": 1, \"26\": 2}, \"92\": {\"92\": 27, \"102\": 1}}, \"Wisig_1\": {\"108\": {\"108\": 88, \"27\": 1, \"29\": 2, \"101\": 12, \"127\": 1, \"12\": 8, \"70\": 3, \"111\": 1, \"109\": 2, \"72\": 1, \"112\": 1, \"126\": 1, \"24\": 1, \"11\": 1, \"15\": 1}, \"40\": {\"40\": 125, \"114\": 3, \"84\": 2, \"105\": 3, \"87\": 2, \"43\": 1}, \"68\": {\"68\": 12, \"79\": 1, \"58\": 1, \"127\": 2}, \"23\": {\"3\": 3, \"89\": 3, \"56\": 1, \"82\": 1, \"103\": 1, \"98\": 1, \"9\": 1, \"32\": 1, \"0\": 1, \"37\": 1, \"99\": 2, \"43\": 1, \"91\": 1, \"81\": 2, \"110\": 2, \"85\": 2}, \"26\": {\"26\": 91, \"118\": 4, \"30\": 1, \"16\": 5, \"117\": 16, \"94\": 1, \"18\": 2}, \"64\": {\"64\": 15, \"20\": 1}, \"22\": {\"22\": 9, \"114\": 2, \"43\": 1, \"69\": 1, \"81\": 1, \"120\": 1, \"94\": 1}, \"3\": {\"3\": 57, \"62\": 1, \"61\": 1, \"60\": 1, \"116\": 5, \"94\": 2, \"99\": 1, \"50\": 3, \"66\": 1, \"71\": 1, \"102\": 1, \"90\": 4, \"33\": 4, \"15\": 1, \"11\": 2, \"7\": 2, \"27\": 1}, \"4\": {\"4\": 95, \"93\": 3, \"121\": 1, \"8\": 1}, \"70\": {\"9\": 1, \"108\": 3, \"19\": 2, \"70\": 49, \"86\": 1, \"31\": 4, \"54\": 1, \"98\": 1, \"39\": 2, \"36\": 1, \"44\": 10, \"10\": 6, \"8\": 7, \"106\": 1, \"126\": 4, \"110\": 4, \"5\": 1, \"124\": 7, \"109\": 4, \"118\": 1, \"21\": 3, \"18\": 1, \"94\": 1, \"71\": 1, \"43\": 1, \"93\": 3}, \"57\": {\"57\": 11, \"88\": 1}, \"79\": {\"79\": 12}, \"9\": {\"9\": 30, \"73\": 1, \"104\": 1}, \"89\": {\"89\": 34, \"110\": 2}, \"110\": {\"110\": 100, \"56\": 2, \"98\": 15, \"0\": 6, \"106\": 5}, \"102\": {\"102\": 102, \"33\": 8, \"62\": 5, \"14\": 1, \"90\": 2, \"67\": 1, \"106\": 1}, \"31\": {\"31\": 12, \"83\": 1, \"34\": 1, \"124\": 1, \"54\": 1}, \"58\": {\"58\": 11, \"12\": 1}, \"47\": {\"47\": 12}, \"24\": {\"52\": 2, \"24\": 56, \"97\": 3, \"15\": 2, \"27\": 8, \"94\": 1, \"26\": 1, \"12\": 2, \"113\": 1, \"88\": 7, \"36\": 4, \"108\": 3, \"111\": 2}, \"19\": {\"31\": 5, \"19\": 9, \"79\": 2, \"20\": 1, \"129\": 1, \"89\": 2, \"1\": 2, \"35\": 1, \"96\": 1, \"124\": 1, \"73\": 1, \"34\": 1, \"57\": 1}, \"11\": {\"11\": 76, \"62\": 8, \"33\": 5, \"42\": 2, \"2\": 2, \"116\": 1, \"39\": 1, \"90\": 18, \"3\": 6, \"100\": 1, \"118\": 2, \"102\": 1, \"18\": 2, \"7\": 1, \"50\": 1, \"65\": 1, \"123\": 1, \"109\": 1, \"117\": 2}, \"52\": {\"52\": 20}, \"17\": {\"17\": 6, \"34\": 2, \"43\": 1, \"9\": 1, \"91\": 1, \"37\": 2, \"56\": 1, \"0\": 2}, \"25\": {\"115\": 1, \"25\": 12, \"28\": 1, \"81\": 1, \"122\": 1}, \"69\": {\"69\": 99, \"102\": 3, \"2\": 2, \"16\": 1, \"18\": 1, \"62\": 1, \"14\": 1}, \"96\": {\"109\": 3, \"96\": 12, \"51\": 1, \"43\": 1, \"26\": 1, \"122\": 1, \"44\": 1}, \"109\": {\"109\": 73, \"96\": 1, \"3\": 1, \"70\": 3, \"122\": 1, \"60\": 2, \"128\": 1, \"11\": 7, \"1\": 8, \"43\": 5, \"7\": 1, \"87\": 1, \"14\": 2, \"44\": 1, \"126\": 2, \"25\": 1, \"16\": 1, \"84\": 2, \"8\": 1}, \"115\": {\"115\": 10, \"81\": 1, \"122\": 1}, \"83\": {\"83\": 21, \"86\": 2, \"124\": 1, \"109\": 1, \"4\": 2, \"5\": 1}, \"84\": {\"84\": 94, \"14\": 7, \"105\": 3, \"87\": 3, \"1\": 7, \"114\": 11, \"88\": 1, \"39\": 1, \"40\": 1}, \"119\": {\"119\": 13, \"69\": 3}, \"122\": {\"74\": 1, \"122\": 46, \"82\": 4, \"19\": 1, \"114\": 3, \"80\": 1, \"120\": 1, \"43\": 5, \"95\": 1, \"78\": 2, \"7\": 4, \"42\": 4, \"84\": 1, \"1\": 4, \"39\": 2, \"87\": 2, \"64\": 1, \"57\": 1, \"81\": 2, \"117\": 1, \"21\": 1}, \"99\": {\"99\": 13, \"65\": 1, \"129\": 1, \"76\": 1, \"90\": 1, \"116\": 1, \"100\": 2, \"33\": 1, \"11\": 2, \"66\": 1}, \"1\": {\"1\": 112, \"79\": 1, \"118\": 1, \"129\": 3, \"42\": 1, \"122\": 2, \"39\": 1, \"87\": 3, \"43\": 5, \"14\": 2, \"38\": 1, \"84\": 3, \"16\": 1}, \"74\": {\"74\": 15, \"22\": 1}, \"85\": {\"85\": 23, \"107\": 6, \"83\": 1, \"10\": 2}, \"127\": {\"127\": 86, \"39\": 1, \"75\": 3, \"98\": 1, \"91\": 1, \"106\": 4, \"88\": 1, \"111\": 3, \"16\": 1, \"125\": 3, \"53\": 1, \"71\": 3}, \"111\": {\"111\": 102, \"51\": 1, \"112\": 2, \"71\": 5, \"12\": 6, \"106\": 1, \"32\": 1, \"127\": 1, \"24\": 1}, \"53\": {\"111\": 1, \"53\": 17, \"17\": 1, \"72\": 1}, \"88\": {\"88\": 79, \"94\": 4, \"27\": 10, \"32\": 2, \"36\": 9, \"15\": 2, \"24\": 9, \"109\": 1, \"44\": 1, \"126\": 3, \"87\": 1, \"108\": 4, \"101\": 3, \"71\": 2, \"19\": 1, \"30\": 1}, \"65\": {\"7\": 1, \"16\": 1, \"65\": 3, \"82\": 1, \"63\": 1, \"43\": 1, \"81\": 1, \"13\": 1, \"2\": 1, \"121\": 1}, \"7\": {\"7\": 115, \"38\": 3, \"74\": 2, \"81\": 1, \"122\": 2, \"43\": 9, \"80\": 1, \"28\": 1}, \"16\": {\"16\": 68, \"63\": 1, \"61\": 2, \"118\": 7, \"117\": 14, \"26\": 7, \"18\": 4, \"2\": 2, \"95\": 2, \"39\": 1}, \"128\": {\"53\": 2, \"7\": 2, \"52\": 1, \"45\": 1, \"49\": 1, \"118\": 1, \"11\": 1, \"128\": 4, \"43\": 2, \"106\": 2, \"81\": 1, \"91\": 1, \"111\": 1, \"78\": 1, \"110\": 1, \"98\": 2}, \"34\": {\"129\": 2, \"56\": 3, \"105\": 1, \"34\": 4, \"1\": 2, \"0\": 1, \"114\": 1, \"87\": 3, \"128\": 1, \"125\": 1, \"42\": 3, \"110\": 2, \"104\": 1, \"83\": 1, \"64\": 1, \"37\": 1, \"91\": 1, \"10\": 1, \"14\": 1, \"77\": 1}, \"129\": {\"129\": 5, \"73\": 1, \"104\": 1, \"14\": 1, \"19\": 3, \"42\": 2, \"3\": 4, \"86\": 3, \"100\": 1, \"31\": 1, \"99\": 2, \"93\": 1, \"49\": 1, \"84\": 1, \"4\": 1}, \"43\": {\"28\": 2, \"43\": 70, \"65\": 1, \"117\": 2, \"87\": 5, \"63\": 1, \"1\": 6, \"22\": 1, \"81\": 2, \"7\": 16, \"120\": 2, \"122\": 6, \"78\": 1, \"114\": 4, \"102\": 1, \"26\": 1, \"93\": 1, \"84\": 1, \"80\": 2, \"129\": 1, \"11\": 1, \"40\": 1}, \"92\": {\"92\": 27, \"37\": 1}, \"28\": {\"28\": 16, \"17\": 1, \"25\": 1, \"81\": 1, \"71\": 1}, \"27\": {\"27\": 62, \"24\": 11, \"94\": 6, \"88\": 7, \"30\": 2, \"15\": 1, \"97\": 1, \"126\": 1, \"108\": 1}, \"114\": {\"114\": 104, \"120\": 1, \"84\": 2, \"34\": 1, \"71\": 1, \"40\": 4, \"87\": 4, \"105\": 3, \"43\": 2, \"1\": 2}, \"73\": {\"73\": 20}, \"0\": {\"34\": 2, \"0\": 58, \"37\": 2, \"103\": 2, \"89\": 2, \"72\": 1, \"35\": 1, \"110\": 6, \"98\": 5, \"29\": 1, \"17\": 1, \"53\": 1, \"106\": 2}, \"104\": {\"129\": 1, \"73\": 1, \"104\": 12, \"49\": 2}, \"118\": {\"118\": 46, \"95\": 6, \"26\": 12, \"109\": 1, \"113\": 2, \"18\": 4, \"117\": 6, \"16\": 6, \"13\": 1}, \"41\": {\"41\": 16}, \"91\": {\"91\": 14, \"53\": 1, \"127\": 2, \"71\": 1, \"107\": 1, \"98\": 1, \"32\": 1, \"111\": 1, \"0\": 3, \"12\": 1, \"110\": 2}, \"124\": {\"104\": 1, \"124\": 108, \"79\": 2, \"8\": 5, \"70\": 1, \"128\": 1, \"86\": 1, \"93\": 2, \"5\": 1}, \"81\": {\"81\": 19, \"25\": 1, \"45\": 1, \"120\": 2, \"28\": 4, \"7\": 1}, \"63\": {\"63\": 15, \"16\": 1}, \"76\": {\"76\": 14, \"116\": 2}, \"10\": {\"10\": 39, \"111\": 1, \"70\": 6, \"0\": 3, \"107\": 17, \"93\": 5, \"4\": 2, \"8\": 5, \"44\": 5, \"98\": 1, \"126\": 8, \"110\": 9, \"55\": 3, \"34\": 1, \"72\": 1, \"19\": 1, \"77\": 1, \"96\": 1, \"124\": 2, \"9\": 1, \"85\": 1, \"5\": 3, \"14\": 1, \"71\": 2, \"16\": 1}, \"51\": {\"51\": 13, \"6\": 2, \"10\": 1}, \"82\": {\"82\": 34, \"11\": 1, \"25\": 1}, \"56\": {\"56\": 8, \"111\": 1, \"92\": 1, \"17\": 2}, \"30\": {\"30\": 25, \"27\": 6, \"15\": 1, \"24\": 3, \"94\": 4, \"6\": 2, \"36\": 6, \"52\": 2, \"126\": 1, \"88\": 1, \"8\": 1}, \"21\": {\"21\": 16, \"20\": 1, \"43\": 1, \"32\": 1, \"109\": 2, \"1\": 2, \"87\": 5, \"126\": 2, \"122\": 1, \"90\": 1, \"39\": 1, \"5\": 1, \"42\": 1, \"118\": 1, \"111\": 1, \"116\": 1, \"8\": 1, \"15\": 1}, \"46\": {\"79\": 2, \"105\": 2, \"114\": 2, \"46\": 1, \"6\": 1, \"57\": 2, \"94\": 1, \"60\": 1}, \"33\": {\"33\": 110, \"62\": 14, \"116\": 3, \"11\": 2, \"90\": 2, \"102\": 3, \"61\": 1, \"66\": 2, \"50\": 1}, \"101\": {\"101\": 112, \"49\": 1, \"108\": 1, \"12\": 4, \"11\": 1, \"47\": 1, \"15\": 2, \"106\": 1, \"102\": 1}, \"105\": {\"105\": 58, \"36\": 1, \"40\": 12, \"84\": 3, \"14\": 1, \"114\": 5, \"87\": 2, \"4\": 2}, \"50\": {\"50\": 11, \"11\": 3, \"102\": 1, \"96\": 1}, \"116\": {\"120\": 1, \"116\": 21, \"62\": 1, \"102\": 2, \"33\": 1, \"76\": 1, \"90\": 4, \"3\": 1}, \"77\": {\"77\": 12, \"31\": 2, \"0\": 2}, \"75\": {\"75\": 9, \"112\": 1, \"127\": 1, \"58\": 1, \"91\": 2, \"111\": 2}, \"95\": {\"95\": 29, \"13\": 1, \"117\": 2, \"118\": 2, \"26\": 2}, \"120\": {\"120\": 18, \"81\": 1, \"22\": 1}, \"18\": {\"18\": 96, \"95\": 1, \"118\": 1, \"117\": 4, \"69\": 1, \"26\": 1, \"123\": 1, \"119\": 1, \"39\": 2}, \"14\": {\"79\": 1, \"14\": 75, \"84\": 12, \"87\": 2, \"40\": 2, \"114\": 1, \"34\": 2, \"122\": 1}, \"44\": {\"73\": 3, \"44\": 71, \"8\": 1, \"93\": 1}, \"98\": {\"103\": 2, \"98\": 82, \"91\": 1, \"106\": 3, \"110\": 6, \"107\": 1, \"105\": 1}, \"121\": {\"121\": 26, \"26\": 3, \"113\": 2, \"123\": 1}, \"113\": {\"121\": 1, \"113\": 107}, \"103\": {\"103\": 13, \"53\": 2, \"72\": 1}, \"62\": {\"62\": 78, \"69\": 2, \"33\": 21, \"116\": 3, \"102\": 9, \"39\": 2, \"16\": 1, \"26\": 1, \"61\": 1, \"107\": 1, \"18\": 1}, \"32\": {\"49\": 1, \"32\": 6, \"9\": 1, \"111\": 1, \"0\": 1, \"51\": 1, \"112\": 1, \"101\": 2, \"125\": 2, \"98\": 4, \"127\": 2, \"6\": 1, \"110\": 2, \"91\": 3, \"23\": 1, \"12\": 1, \"53\": 2}, \"71\": {\"12\": 7, \"32\": 3, \"71\": 78, \"127\": 3, \"111\": 3, \"16\": 1, \"26\": 1, \"125\": 2, \"101\": 1, \"118\": 1, \"6\": 2, \"94\": 4, \"108\": 2}, \"94\": {\"94\": 70, \"30\": 3, \"24\": 1, \"88\": 5, \"36\": 1, \"16\": 1, \"68\": 1, \"27\": 6, \"10\": 2, \"0\": 1, \"113\": 1}, \"49\": {\"93\": 1, \"111\": 2, \"89\": 2, \"54\": 1, \"86\": 1, \"70\": 1, \"49\": 4, \"34\": 1, \"128\": 1, \"101\": 3, \"29\": 1, \"32\": 1, \"104\": 1}, \"12\": {\"12\": 78, \"111\": 12, \"127\": 3, \"71\": 2, \"106\": 1, \"109\": 1, \"98\": 1, \"101\": 2, \"75\": 2, \"21\": 1, \"108\": 1}, \"90\": {\"90\": 112, \"66\": 1, \"62\": 1, \"33\": 6, \"3\": 3, \"116\": 1}, \"93\": {\"104\": 2, \"85\": 1, \"93\": 44, \"105\": 6, \"35\": 2, \"44\": 6, \"8\": 18, \"4\": 8, \"126\": 2, \"124\": 10, \"5\": 3, \"70\": 2, \"11\": 1, \"107\": 5, \"84\": 2, \"34\": 1, \"49\": 1, \"87\": 1, \"89\": 1, \"128\": 1, \"110\": 1, \"18\": 1, \"40\": 4, \"114\": 1}, \"13\": {\"13\": 15, \"95\": 1}, \"67\": {\"94\": 1, \"67\": 12, \"62\": 1, \"69\": 2}, \"20\": {\"20\": 10, \"43\": 1, \"14\": 1, \"121\": 1, \"64\": 1, \"65\": 1, \"34\": 1}, \"2\": {\"3\": 1, \"2\": 16, \"118\": 1, \"66\": 2, \"25\": 1, \"116\": 1, \"123\": 1, \"7\": 1, \"39\": 1, \"69\": 1, \"100\": 2, \"63\": 1, \"99\": 2, \"62\": 1}, \"5\": {\"5\": 77, \"8\": 1, \"124\": 3, \"93\": 1, \"107\": 2, \"36\": 1, \"21\": 1, \"31\": 1, \"4\": 1}, \"54\": {\"54\": 11, \"107\": 1, \"31\": 3, \"75\": 1}, \"37\": {\"37\": 16}, \"38\": {\"38\": 15, \"7\": 1}, \"86\": {\"86\": 24, \"8\": 2, \"4\": 2, \"83\": 2, \"34\": 1, \"14\": 2, \"1\": 1, \"16\": 1, \"94\": 1}, \"55\": {\"55\": 11, \"107\": 1}, \"97\": {\"97\": 12, \"24\": 1, \"19\": 1, \"101\": 1, \"72\": 1, \"23\": 1, \"44\": 1, \"30\": 1, \"27\": 1}, \"29\": {\"29\": 27, \"23\": 1}, \"48\": {\"63\": 1, \"48\": 8, \"120\": 1, \"114\": 1, \"105\": 1}, \"60\": {\"60\": 2, \"34\": 1, \"13\": 1, \"18\": 2, \"83\": 1, \"119\": 1, \"117\": 2, \"26\": 2, \"49\": 1, \"86\": 2, \"19\": 1}, \"36\": {\"36\": 114, \"16\": 1, \"88\": 4, \"113\": 1, \"101\": 2}, \"42\": {\"73\": 1, \"66\": 1, \"129\": 1, \"19\": 3, \"93\": 3, \"59\": 1, \"81\": 1, \"42\": 4, \"116\": 2, \"5\": 2, \"82\": 2, \"86\": 1, \"124\": 3, \"122\": 1, \"18\": 1, \"11\": 1}, \"66\": {\"66\": 12, \"90\": 2, \"33\": 2}, \"126\": {\"126\": 83, \"19\": 3, \"21\": 3, \"44\": 9, \"124\": 7, \"93\": 4, \"14\": 1, \"108\": 1, \"5\": 1, \"70\": 8, \"8\": 3, \"96\": 2, \"73\": 1, \"84\": 2}, \"39\": {\"13\": 1, \"39\": 62, \"117\": 8, \"118\": 5, \"95\": 2, \"2\": 3, \"26\": 6, \"69\": 5, \"11\": 2, \"18\": 9, \"16\": 1}, \"107\": {\"107\": 109, \"10\": 3, \"55\": 2, \"85\": 1, \"4\": 1, \"5\": 4, \"117\": 1, \"67\": 1, \"8\": 2}, \"59\": {\"71\": 2, \"59\": 6, \"32\": 2, \"95\": 1, \"69\": 1}, \"117\": {\"117\": 108, \"95\": 2, \"26\": 11, \"16\": 8, \"18\": 3, \"118\": 6}, \"6\": {\"127\": 2, \"88\": 3, \"27\": 1, \"106\": 4, \"6\": 6, \"36\": 1, \"110\": 2, \"30\": 5, \"71\": 1, \"101\": 1, \"112\": 1, \"72\": 2, \"125\": 1, \"94\": 1, \"111\": 1}, \"123\": {\"123\": 16}, \"8\": {\"44\": 5, \"8\": 62, \"70\": 4, \"86\": 1, \"54\": 1, \"43\": 1, \"21\": 2, \"39\": 1, \"34\": 1, \"124\": 17, \"93\": 14, \"4\": 7, \"5\": 2, \"107\": 1, \"114\": 1, \"49\": 2, \"83\": 1, \"84\": 1}, \"112\": {\"127\": 1, \"112\": 10, \"71\": 1, \"32\": 1, \"36\": 1, \"56\": 1, \"17\": 1}, \"80\": {\"80\": 12, \"120\": 3, \"82\": 1}, \"125\": {\"125\": 136}, \"61\": {\"61\": 11, \"74\": 1}, \"45\": {\"45\": 3, \"43\": 1, \"25\": 3, \"129\": 1, \"81\": 1, \"7\": 1, \"64\": 2}, \"72\": {\"72\": 25, \"103\": 1, \"0\": 1, \"112\": 1, \"29\": 2, \"106\": 2}, \"87\": {\"87\": 63, \"84\": 4, \"114\": 6, \"122\": 4, \"14\": 2, \"1\": 9, \"43\": 1, \"124\": 1, \"105\": 6, \"40\": 7, \"19\": 2, \"93\": 2, \"97\": 1}, \"106\": {\"106\": 100, \"91\": 2, \"111\": 1, \"0\": 3, \"98\": 6, \"110\": 3, \"53\": 3, \"127\": 5, \"113\": 1}, \"35\": {\"35\": 6, \"106\": 1, \"31\": 2, \"9\": 1, \"6\": 2}, \"78\": {\"14\": 1, \"82\": 1, \"3\": 1, \"122\": 3, \"19\": 1, \"114\": 1, \"118\": 1, \"78\": 2, \"64\": 1, \"28\": 1, \"81\": 1, \"116\": 1, \"108\": 1}, \"15\": {\"15\": 81, \"101\": 5, \"32\": 1, \"27\": 2, \"71\": 2, \"6\": 2, \"39\": 1, \"111\": 2, \"18\": 1, \"24\": 1, \"10\": 1, \"30\": 2, \"21\": 1, \"127\": 2}, \"100\": {\"100\": 13, \"62\": 1, \"99\": 1, \"82\": 1}}, \"Wisig_2\": {\"91\": {\"91\": 19, \"17\": 2, \"123\": 2, \"98\": 1, \"12\": 2, \"49\": 1, \"101\": 1}, \"12\": {\"91\": 3, \"12\": 55, \"114\": 3, \"117\": 1, \"85\": 1, \"98\": 7, \"16\": 1, \"111\": 1, \"106\": 1, \"24\": 1, \"97\": 2, \"11\": 1, \"128\": 1, \"8\": 2, \"54\": 1, \"127\": 2, \"10\": 1, \"34\": 1, \"122\": 1, \"124\": 2}, \"101\": {\"101\": 131, \"15\": 14, \"87\": 1, \"106\": 2}, \"121\": {\"117\": 3, \"120\": 1, \"121\": 25, \"65\": 2, \"109\": 1, \"18\": 2, \"57\": 2}, \"118\": {\"118\": 29, \"33\": 5, \"62\": 2, \"116\": 1, \"84\": 8, \"67\": 1, \"70\": 1, \"14\": 1, \"60\": 1, \"16\": 5, \"44\": 2, \"87\": 4, \"55\": 1, \"38\": 2, \"100\": 1, \"80\": 1, \"82\": 1, \"90\": 1, \"93\": 1}, \"10\": {\"126\": 2, \"28\": 3, \"70\": 1, \"85\": 3, \"10\": 16, \"122\": 1, \"11\": 1, \"121\": 1, \"3\": 4, \"124\": 4, \"95\": 3, \"114\": 1, \"7\": 5, \"117\": 1, \"63\": 1, \"42\": 1, \"110\": 2, \"101\": 1, \"18\": 1, \"49\": 2, \"71\": 2, \"74\": 1, \"5\": 2, \"8\": 1}, \"117\": {\"117\": 96, \"65\": 4, \"18\": 7, \"113\": 7, \"109\": 1, \"39\": 1, \"31\": 1, \"120\": 1, \"69\": 2}, \"110\": {\"110\": 20, \"47\": 1, \"114\": 1, \"19\": 1, \"120\": 1, \"5\": 2, \"85\": 2, \"109\": 1, \"14\": 1, \"122\": 1, \"90\": 1, \"42\": 1, \"95\": 1, \"129\": 1, \"53\": 1, \"10\": 1, \"3\": 2, \"7\": 1}, \"97\": {\"106\": 3, \"97\": 14, \"58\": 1, \"52\": 1, \"0\": 1}, \"28\": {\"28\": 16, \"66\": 1, \"92\": 1, \"7\": 2}, \"88\": {\"126\": 3, \"88\": 42, \"60\": 5, \"16\": 7, \"39\": 1, \"78\": 3, \"44\": 3, \"122\": 1, \"14\": 1, \"118\": 4, \"1\": 4, \"43\": 9, \"93\": 14, \"70\": 5, \"90\": 1, \"62\": 2, \"33\": 1, \"24\": 1, \"109\": 7, \"119\": 1, \"83\": 2, \"64\": 1, \"94\": 1, \"87\": 1, \"11\": 1, \"69\": 1, \"84\": 2}, \"17\": {\"17\": 10, \"29\": 4, \"5\": 2}, \"126\": {\"126\": 90, \"70\": 7, \"44\": 4, \"27\": 1, \"78\": 1, \"43\": 1, \"10\": 1, \"94\": 1, \"102\": 1, \"88\": 2, \"19\": 1, \"116\": 1, \"16\": 1, \"30\": 2}, \"33\": {\"33\": 102, \"82\": 3, \"23\": 1, \"84\": 7, \"90\": 5, \"102\": 1, \"18\": 1, \"116\": 1, \"38\": 1, \"118\": 2, \"62\": 2, \"117\": 1, \"69\": 1}, \"86\": {\"86\": 32}, \"106\": {\"106\": 94, \"30\": 11, \"2\": 1, \"94\": 1, \"0\": 5, \"87\": 1, \"58\": 1, \"121\": 1, \"21\": 1, \"101\": 2, \"70\": 2}, \"54\": {\"54\": 16, \"91\": 1, \"35\": 1, \"127\": 2}, \"125\": {\"106\": 2, \"125\": 127, \"30\": 2, \"33\": 1}, \"83\": {\"83\": 35, \"90\": 1, \"16\": 2, \"119\": 1, \"126\": 1}, \"98\": {\"98\": 86, \"34\": 1, \"16\": 1, \"127\": 10, \"113\": 1, \"12\": 5, \"108\": 7, \"87\": 2, \"8\": 1, \"124\": 3, \"90\": 1, \"86\": 1, \"91\": 1}, \"11\": {\"98\": 7, \"11\": 44, \"12\": 4, \"17\": 2, \"20\": 1, \"122\": 5, \"34\": 2, \"91\": 1, \"127\": 1, \"124\": 5, \"69\": 1, \"114\": 2, \"8\": 1, \"86\": 1, \"43\": 1, \"10\": 1, \"109\": 1}, \"32\": {\"32\": 10, \"125\": 1, \"114\": 1, \"129\": 1, \"115\": 2, \"107\": 3, \"123\": 1, \"3\": 4, \"5\": 3, \"95\": 2, \"85\": 2, \"98\": 2, \"122\": 2, \"86\": 1, \"71\": 1}, \"42\": {\"32\": 2, \"58\": 1, \"42\": 10, \"5\": 2, \"3\": 2, \"12\": 2, \"122\": 1, \"127\": 1, \"51\": 1, \"123\": 2, \"53\": 1, \"97\": 1, \"10\": 1, \"44\": 1}, \"103\": {\"103\": 9, \"77\": 2, \"35\": 2, \"8\": 2, \"127\": 1}, \"87\": {\"118\": 5, \"87\": 28, \"48\": 2, \"96\": 1, \"119\": 3, \"72\": 1, \"116\": 5, \"89\": 3, \"90\": 16, \"33\": 5, \"16\": 11, \"70\": 1, \"39\": 1, \"126\": 1, \"93\": 6, \"106\": 1, \"24\": 2, \"102\": 4, \"113\": 1, \"80\": 2, \"82\": 1, \"94\": 2, \"27\": 2, \"83\": 2, \"84\": 4, \"62\": 2}, \"61\": {\"61\": 13, \"27\": 1, \"64\": 1, \"108\": 1, \"22\": 1, \"21\": 1, \"105\": 2}, \"13\": {\"13\": 7, \"55\": 1, \"14\": 1, \"116\": 4, \"89\": 1, \"38\": 1, \"27\": 1}, \"4\": {\"125\": 1, \"4\": 63, \"39\": 1, \"7\": 11, \"69\": 1, \"122\": 1, \"28\": 1, \"104\": 2, \"66\": 1, \"5\": 2, \"71\": 1, \"109\": 1}, \"15\": {\"15\": 83, \"109\": 1, \"94\": 4, \"12\": 2, \"106\": 7, \"101\": 12, \"6\": 2, \"0\": 5, \"51\": 2, \"58\": 1, \"30\": 1}, \"120\": {\"120\": 16, \"117\": 4}, \"80\": {\"80\": 15, \"38\": 1}, \"72\": {\"72\": 19, \"81\": 1, \"48\": 2, \"89\": 4, \"13\": 1, \"102\": 1}, \"64\": {\"64\": 12, \"19\": 1, \"3\": 1, \"40\": 2}, \"81\": {\"81\": 21, \"88\": 1, \"12\": 1, \"2\": 1}, \"102\": {\"102\": 97, \"63\": 1, \"72\": 1, \"31\": 3, \"90\": 7, \"13\": 1, \"84\": 1, \"87\": 1}, \"76\": {\"76\": 16}, \"49\": {\"52\": 5, \"114\": 3, \"49\": 2, \"9\": 1, \"86\": 1, \"58\": 1, \"85\": 2, \"101\": 1, \"19\": 1, \"39\": 1, \"32\": 1, \"125\": 1, \"111\": 2, \"53\": 1, \"91\": 1}, \"129\": {\"110\": 1, \"129\": 19, \"85\": 1, \"123\": 3, \"128\": 3, \"73\": 1, \"3\": 2, \"112\": 1, \"29\": 1}, \"89\": {\"102\": 2, \"89\": 28, \"82\": 1, \"67\": 1, \"23\": 2, \"118\": 1, \"77\": 1}, \"52\": {\"52\": 14, \"97\": 4, \"101\": 1, \"111\": 1}, \"35\": {\"98\": 2, \"35\": 6, \"77\": 1, \"127\": 1, \"103\": 1, \"59\": 1}, \"53\": {\"53\": 15, \"110\": 1}, \"26\": {\"26\": 109, \"69\": 6, \"99\": 2, \"90\": 2, \"87\": 3, \"62\": 1, \"8\": 1, \"14\": 1, \"10\": 1, \"18\": 2}, \"96\": {\"96\": 18, \"87\": 1, \"119\": 1}, \"27\": {\"27\": 36, \"24\": 1, \"21\": 2, \"51\": 1, \"15\": 7, \"99\": 1, \"109\": 1, \"88\": 2, \"10\": 1, \"84\": 1, \"62\": 1, \"9\": 2, \"113\": 1, \"36\": 7, \"18\": 1, \"7\": 1, \"39\": 1, \"8\": 1}, \"24\": {\"24\": 52, \"88\": 1, \"106\": 5, \"0\": 15, \"27\": 4, \"15\": 13, \"101\": 6, \"69\": 1, \"39\": 1, \"70\": 2, \"36\": 1, \"94\": 4, \"14\": 1, \"64\": 1, \"9\": 2, \"10\": 1, \"109\": 1, \"43\": 1}, \"82\": {\"82\": 25, \"15\": 2, \"118\": 1, \"33\": 4, \"21\": 1, \"36\": 1, \"87\": 2}, \"18\": {\"18\": 103, \"120\": 1, \"109\": 1, \"26\": 8, \"39\": 1, \"113\": 5, \"117\": 6, \"14\": 1, \"23\": 2}, \"69\": {\"89\": 1, \"26\": 6, \"69\": 99, \"90\": 1, \"2\": 2, \"124\": 1, \"16\": 2, \"102\": 7, \"5\": 1, \"109\": 1, \"93\": 1}, \"47\": {\"85\": 1, \"129\": 3, \"73\": 1, \"47\": 3, \"123\": 2, \"19\": 2}, \"85\": {\"85\": 23, \"53\": 3, \"129\": 2, \"3\": 1, \"5\": 1, \"73\": 2}, \"2\": {\"99\": 1, \"2\": 23, \"102\": 1, \"89\": 2, \"69\": 1, \"26\": 2, \"18\": 1, \"81\": 1}, \"67\": {\"55\": 1, \"67\": 12, \"84\": 2, \"72\": 1}, \"39\": {\"39\": 50, \"70\": 1, \"88\": 4, \"81\": 1, \"120\": 2, \"90\": 3, \"121\": 1, \"102\": 4, \"26\": 3, \"109\": 9, \"69\": 9, \"62\": 1, \"12\": 1, \"18\": 1, \"87\": 8, \"117\": 3, \"17\": 1, \"16\": 1, \"65\": 1, \"99\": 2, \"20\": 1, \"48\": 1, \"122\": 2, \"89\": 1, \"2\": 1}, \"99\": {\"99\": 26, \"26\": 2, \"16\": 2, \"39\": 2}, \"74\": {\"74\": 11, \"7\": 2, \"108\": 1, \"75\": 2}, \"105\": {\"55\": 1, \"105\": 95, \"61\": 2, \"14\": 1, \"40\": 21, \"7\": 3, \"5\": 1, \"109\": 1, \"43\": 1, \"87\": 1, \"95\": 2, \"62\": 3}, \"70\": {\"70\": 26, \"55\": 1, \"44\": 12, \"33\": 2, \"81\": 1, \"126\": 10, \"43\": 14, \"14\": 2, \"83\": 1, \"78\": 1, \"88\": 11, \"16\": 3, \"40\": 10, \"114\": 1, \"84\": 2, \"1\": 7, \"109\": 1, \"5\": 1, \"105\": 6, \"45\": 2, \"118\": 1, \"62\": 4, \"113\": 1, \"102\": 1, \"26\": 1}, \"55\": {\"55\": 16}, \"30\": {\"30\": 55, \"75\": 2, \"106\": 16, \"97\": 1, \"0\": 11, \"94\": 1, \"58\": 2, \"114\": 1, \"10\": 1, \"125\": 10, \"122\": 1, \"126\": 1, \"70\": 1, \"108\": 1, \"98\": 2, \"12\": 1, \"6\": 1, \"1\": 1, \"101\": 3}, \"60\": {\"47\": 1, \"55\": 1, \"44\": 3, \"21\": 1, \"60\": 7, \"116\": 1, \"5\": 1, \"1\": 2, \"3\": 2, \"119\": 1, \"96\": 1, \"92\": 2, \"31\": 1, \"46\": 1, \"90\": 2, \"33\": 1}, \"92\": {\"92\": 19, \"51\": 1, \"75\": 1, \"30\": 1, \"55\": 2, \"118\": 2, \"80\": 2}, \"45\": {\"60\": 2, \"45\": 11, \"22\": 2, \"88\": 1}, \"127\": {\"127\": 97, \"98\": 2, \"8\": 4, \"108\": 2, \"89\": 1, \"35\": 2, \"91\": 1, \"12\": 2, \"111\": 1}, \"9\": {\"120\": 1, \"9\": 30, \"113\": 1}, \"115\": {\"73\": 2, \"115\": 10}, \"73\": {\"73\": 26, \"5\": 1, \"110\": 1}, \"108\": {\"127\": 5, \"93\": 2, \"108\": 90, \"66\": 1, \"8\": 17, \"111\": 6, \"11\": 4, \"98\": 1, \"12\": 3, \"0\": 2, \"124\": 1, \"126\": 1, \"77\": 1, \"91\": 1, \"30\": 1, \"71\": 1, \"70\": 1}, \"114\": {\"114\": 100, \"32\": 1, \"71\": 2, \"122\": 3, \"117\": 1, \"124\": 2, \"17\": 1, \"86\": 2, \"94\": 1, \"7\": 1, \"4\": 1, \"113\": 1}, \"63\": {\"72\": 2, \"63\": 15, \"116\": 2, \"54\": 1}, \"93\": {\"93\": 96, \"16\": 13, \"33\": 3, \"87\": 8, \"90\": 1, \"118\": 2, \"88\": 1, \"109\": 1, \"69\": 1, \"44\": 1, \"43\": 1}, \"7\": {\"7\": 94, \"3\": 10, \"104\": 1, \"107\": 3, \"85\": 1, \"66\": 2, \"5\": 5, \"71\": 3, \"4\": 8, \"110\": 1, \"95\": 3, \"114\": 1}, \"31\": {\"31\": 15, \"14\": 1, \"81\": 2, \"48\": 1, \"90\": 1}, \"123\": {\"123\": 16}, \"128\": {\"19\": 2, \"111\": 2, \"51\": 2, \"108\": 1, \"107\": 4, \"128\": 1, \"58\": 2, \"24\": 1, \"73\": 1, \"56\": 1, \"60\": 1, \"74\": 1, \"94\": 1, \"14\": 1, \"122\": 1, \"52\": 1, \"8\": 1}, \"0\": {\"97\": 3, \"0\": 76, \"112\": 1, \"30\": 6, \"24\": 2, \"106\": 13, \"69\": 2, \"101\": 3, \"11\": 1, \"9\": 2, \"15\": 1, \"87\": 1, \"8\": 1, \"108\": 1, \"125\": 2, \"70\": 1}, \"3\": {\"7\": 9, \"19\": 1, \"3\": 96, \"85\": 1, \"32\": 2, \"4\": 2, \"71\": 5, \"102\": 1, \"5\": 14, \"107\": 1, \"122\": 2, \"90\": 1, \"98\": 1}, \"19\": {\"86\": 1, \"19\": 5, \"3\": 1, \"56\": 1, \"129\": 3, \"83\": 2, \"71\": 2, \"114\": 2, \"46\": 3, \"85\": 2, \"110\": 1, \"28\": 1, \"5\": 2, \"73\": 2}, \"57\": {\"57\": 17, \"65\": 2, \"122\": 1}, \"78\": {\"78\": 10, \"61\": 1, \"33\": 1, \"121\": 1, \"126\": 2, \"45\": 1, \"70\": 3, \"105\": 2, \"27\": 1, \"1\": 3, \"14\": 5, \"88\": 2, \"62\": 1, \"83\": 3, \"43\": 1, \"60\": 1, \"74\": 1, \"11\": 1, \"119\": 1, \"82\": 1, \"44\": 2, \"99\": 1, \"87\": 1, \"23\": 1, \"39\": 1}, \"95\": {\"95\": 25, \"107\": 2, \"3\": 1, \"105\": 1, \"88\": 1, \"7\": 6}, \"40\": {\"64\": 2, \"40\": 99, \"34\": 2, \"105\": 21, \"44\": 1, \"98\": 1, \"1\": 4, \"39\": 1, \"126\": 1, \"43\": 2, \"27\": 1, \"5\": 1, \"122\": 1, \"0\": 1, \"3\": 1, \"26\": 1}, \"14\": {\"14\": 20, \"128\": 3, \"16\": 1, \"57\": 1, \"3\": 4, \"95\": 1, \"62\": 1, \"124\": 1, \"18\": 2, \"55\": 1, \"45\": 1, \"61\": 2, \"88\": 1, \"40\": 3, \"44\": 2, \"1\": 2, \"94\": 1, \"118\": 1}, \"36\": {\"36\": 105, \"21\": 1, \"27\": 9, \"118\": 1, \"70\": 1, \"15\": 2, \"106\": 1, \"117\": 1, \"99\": 1, \"96\": 1, \"107\": 1, \"87\": 1, \"101\": 2, \"88\": 1}, \"56\": {\"56\": 11, \"7\": 1}, \"111\": {\"111\": 122, \"127\": 1, \"24\": 1, \"124\": 2, \"30\": 2}, \"59\": {\"59\": 10, \"68\": 1, \"15\": 1, \"85\": 1, \"8\": 1, \"12\": 1, \"24\": 1}, \"79\": {\"79\": 16}, \"62\": {\"62\": 100, \"92\": 1, \"38\": 1, \"82\": 3, \"43\": 1, \"84\": 3, \"102\": 1, \"87\": 2, \"33\": 7, \"109\": 1, \"24\": 1, \"90\": 1}, \"21\": {\"21\": 39, \"39\": 4, \"0\": 2, \"88\": 1, \"27\": 2}, \"48\": {\"48\": 16, \"63\": 1, \"31\": 1, \"72\": 2}, \"16\": {\"16\": 79, \"57\": 1, \"93\": 16, \"88\": 1, \"33\": 5, \"83\": 2, \"118\": 4, \"87\": 6, \"70\": 1, \"62\": 2, \"78\": 1, \"90\": 4, \"39\": 1, \"1\": 1}, \"50\": {\"50\": 14, \"61\": 1, \"118\": 1}, \"44\": {\"44\": 93, \"113\": 1, \"93\": 1, \"4\": 1}, \"5\": {\"5\": 88, \"4\": 2, \"7\": 3, \"3\": 10, \"18\": 1, \"107\": 1, \"85\": 1, \"32\": 1, \"71\": 1, \"114\": 1, \"12\": 1}, \"20\": {\"20\": 13, \"23\": 2, \"24\": 1}, \"1\": {\"50\": 3, \"61\": 1, \"1\": 91, \"57\": 1, \"22\": 3, \"60\": 1, \"40\": 2, \"43\": 10, \"62\": 2, \"70\": 1, \"78\": 3, \"44\": 1, \"84\": 1}, \"65\": {\"65\": 16, \"18\": 1, \"27\": 1, \"113\": 1, \"71\": 1}, \"116\": {\"60\": 2, \"119\": 2, \"116\": 16, \"100\": 1, \"33\": 1, \"63\": 1, \"82\": 1, \"89\": 1, \"93\": 1, \"31\": 1, \"84\": 1}, \"51\": {\"51\": 12, \"97\": 1, \"54\": 1, \"125\": 2, \"128\": 1, \"0\": 1, \"6\": 1, \"111\": 1}, \"75\": {\"75\": 13, \"11\": 1, \"102\": 1, \"106\": 1}, \"100\": {\"100\": 15, \"83\": 1}, \"113\": {\"113\": 56, \"117\": 13, \"99\": 3}, \"41\": {\"41\": 20}, \"29\": {\"29\": 29, \"128\": 2, \"86\": 1}, \"23\": {\"114\": 5, \"29\": 1, \"23\": 6, \"104\": 1, \"2\": 2, \"121\": 2, \"34\": 3, \"32\": 1, \"124\": 4, \"102\": 1, \"122\": 4, \"26\": 2, \"113\": 1, \"18\": 3, \"99\": 1, \"39\": 2, \"12\": 1, \"127\": 2, \"120\": 1, \"110\": 1}, \"124\": {\"124\": 111, \"29\": 2, \"34\": 2, \"122\": 4, \"98\": 1, \"23\": 2, \"21\": 1, \"117\": 1}, \"68\": {\"68\": 11, \"114\": 2, \"52\": 1, \"42\": 1, \"19\": 1}, \"71\": {\"71\": 57, \"107\": 2, \"122\": 1, \"104\": 1, \"86\": 1, \"114\": 4, \"4\": 10, \"5\": 6, \"7\": 6, \"3\": 5, \"101\": 1, \"66\": 1, \"129\": 1, \"32\": 1, \"110\": 1, \"12\": 2}, \"107\": {\"107\": 44, \"117\": 1, \"32\": 1, \"39\": 1, \"91\": 1, \"29\": 1, \"34\": 1, \"1\": 2, \"114\": 1, \"26\": 2, \"3\": 1, \"99\": 1, \"7\": 3, \"14\": 1, \"5\": 2, \"95\": 1}, \"94\": {\"94\": 31, \"0\": 4, \"109\": 2, \"9\": 2, \"24\": 4, \"101\": 12, \"88\": 1, \"15\": 5, \"118\": 1, \"79\": 1, \"110\": 1}, \"77\": {\"77\": 12, \"66\": 2, \"39\": 1, \"127\": 1}, \"8\": {\"77\": 3, \"8\": 87, \"49\": 2, \"111\": 4, \"12\": 2, \"108\": 18, \"127\": 1, \"35\": 1, \"75\": 1, \"101\": 1, \"7\": 1, \"5\": 1}, \"46\": {\"46\": 16}, \"25\": {\"25\": 14, \"16\": 1, \"38\": 1}, \"122\": {\"122\": 51, \"129\": 2, \"10\": 1, \"11\": 5, \"8\": 1, \"3\": 5, \"71\": 6, \"110\": 2, \"44\": 2, \"124\": 24, \"23\": 3, \"5\": 5, \"12\": 1, \"114\": 6, \"4\": 2, \"30\": 2, \"93\": 1, \"33\": 1, \"39\": 1, \"43\": 2, \"98\": 4, \"53\": 1, \"47\": 1, \"73\": 1, \"32\": 1, \"113\": 1, \"128\": 1, \"34\": 1, \"109\": 1, \"7\": 5}, \"58\": {\"97\": 2, \"49\": 1, \"9\": 1, \"58\": 13, \"17\": 1, \"110\": 1, \"24\": 1}, \"6\": {\"51\": 5, \"6\": 14, \"101\": 5, \"9\": 3, \"25\": 2, \"97\": 2, \"125\": 1}, \"109\": {\"16\": 9, \"109\": 27, \"82\": 3, \"100\": 1, \"116\": 1, \"87\": 4, \"90\": 5, \"118\": 2, \"88\": 8, \"113\": 1, \"69\": 1, \"93\": 16, \"33\": 3, \"70\": 6, \"117\": 1, \"126\": 2, \"48\": 2, \"12\": 2, \"14\": 1, \"119\": 1, \"7\": 1, \"78\": 2, \"83\": 1}, \"119\": {\"119\": 17, \"82\": 2, \"27\": 1}, \"34\": {\"122\": 1, \"34\": 23, \"98\": 1, \"29\": 1, \"11\": 1, \"91\": 1, \"71\": 1, \"124\": 2, \"114\": 1}, \"90\": {\"90\": 126, \"87\": 2, \"102\": 4, \"99\": 1, \"31\": 1, \"84\": 1, \"18\": 1, \"33\": 3, \"69\": 1}, \"38\": {\"38\": 15, \"80\": 1}, \"104\": {\"29\": 2, \"104\": 9, \"107\": 1, \"5\": 1, \"7\": 2, \"4\": 4, \"8\": 1}, \"84\": {\"84\": 64, \"65\": 1, \"62\": 4, \"82\": 3, \"33\": 12, \"118\": 2, \"106\": 1, \"116\": 1, \"102\": 2, \"1\": 2}, \"112\": {\"112\": 12, \"34\": 2, \"19\": 1, \"73\": 1}, \"66\": {\"66\": 14, \"107\": 2, \"19\": 1, \"28\": 1, \"71\": 1, \"15\": 1}, \"22\": {\"22\": 19, \"43\": 1}, \"37\": {\"40\": 3, \"37\": 13}, \"43\": {\"44\": 9, \"45\": 1, \"83\": 4, \"43\": 41, \"50\": 1, \"96\": 1, \"1\": 12, \"78\": 4, \"93\": 2, \"14\": 2, \"70\": 7, \"105\": 10, \"88\": 3, \"39\": 2, \"40\": 7, \"8\": 1, \"76\": 1, \"22\": 1, \"72\": 1, \"16\": 1, \"62\": 4, \"87\": 1, \"109\": 1, \"84\": 2, \"33\": 3, \"126\": 1, \"90\": 1}}}, \"per_domain_accuracy\": {\"ORACLE.run114\": {\"accuracy\": 0.6958333333333333, \"source?\": true}, \"ORACLE.run120\": {\"accuracy\": 0.4427083333333333, \"source?\": true}, \"ORACLE.run138\": {\"accuracy\": 0.6596354166666667, \"source?\": true}, \"ORACLE.run18\": {\"accuracy\": 0.525, \"source?\": true}, \"ORACLE.run150\": {\"accuracy\": 0.6927083333333334, \"source?\": true}, \"ORACLE.run132\": {\"accuracy\": 0.67109375, \"source?\": true}, \"ORACLE.run126\": {\"accuracy\": 0.42578125, \"source?\": true}, \"ORACLE.run144\": {\"accuracy\": 0.6580729166666667, \"source?\": true}, \"Wisig_3\": {\"accuracy\": 0.7201206140350878, \"source?\": false}, \"Wisig_4\": {\"accuracy\": 0.6493055555555556, \"source?\": false}, \"Wisig_1\": {\"accuracy\": 0.7200797872340425, \"source?\": false}, \"Wisig_2\": {\"accuracy\": 0.6801470588235294, \"source?\": false}}}, \"history\": {\"epoch_indices\": [1, 2, 3, 4, 5, 6, 7, 8, 9, 10, 11, 12, 13, 14, 15], \"train_label_loss\": [1.6694724487229473, 1.0214311438479593, 0.8566644683613309, 0.7403782691651334, 0.6439527613210625, 0.5580974831373342, 0.4812419887801211, 0.4205984095676935, 0.36637574845863996, 0.3212799383197091, 0.2830770526409781, 0.25358036889807584, 0.22736823678621607, 0.2050400715816414, 0.1900666300912538], \"source_val_label_loss\": [1.2343080043792725, 1.0752229690551758, 1.0432323217391968, 1.058800220489502, 1.0972570180892944, 1.1582838296890259, 1.219604730606079, 1.3329254388809204, 1.4154596328735352, 1.549461007118225, 1.5602198839187622, 1.6585978269577026, 1.7604354619979858, 1.8045440912246704, 1.883254885673523], \"target_val_label_loss\": [7.386878490447998, 7.24626350402832, 8.280634880065918, 9.498246192932129, 10.489742279052734, 11.386347770690918, 12.58961009979248, 14.813749313354492, 15.512417793273926, 16.935211181640625, 17.865800857543945, 18.936750411987305, 20.632930755615234, 21.37714385986328, 21.876352310180664], \"source_val_acc_label\": [0.5418619791666667, 0.5963216145833333, 0.60732421875, 0.6093098958333333, 0.6095377604166666, 0.6088216145833333, 0.6040690104166667, 0.6037434895833333, 0.6036458333333333, 0.5962239583333333, 0.5963541666666666, 0.5973958333333333, 0.59951171875, 0.598046875, 0.59423828125], \"target_val_acc_label\": [0.6108977754237288, 0.646583686440678, 0.6605865995762712, 0.6522775423728814, 0.6791247351694916, 0.6785288665254238, 0.6782640360169492, 0.6823027012711864, 0.6860434322033898, 0.6874668961864406, 0.6918034957627118, 0.6911745233050848, 0.6866393008474576, 0.684322033898305, 0.685348252118644]}, \"dataset_metrics\": {\"source\": {\"train\": {\"n_unique_x\": 179200, \"n_unique_y\": 16, \"n_batch/episode\": 6720}, \"val\": {\"n_unique_x\": 38400, \"n_unique_y\": 16, \"n_batch/episode\": 960}, \"test\": {\"n_unique_x\": 38400, \"n_unique_y\": 16, \"n_batch/episode\": 960}}, \"target\": {\"train\": {\"n_unique_x\": 188967, \"n_unique_y\": 130, \"n_batch/episode\": 6837}, \"val\": {\"n_unique_x\": 40068, \"n_unique_y\": 130, \"n_batch/episode\": 944}, \"test\": {\"n_unique_x\": 40816, \"n_unique_y\": 130, \"n_batch/episode\": 969}}}}'"
      ]
     },
     "execution_count": 29,
     "metadata": {},
     "output_type": "execute_result"
    }
   ],
   "source": [
    "json.dumps(experiment)"
   ]
  }
 ],
 "metadata": {
  "celltoolbar": "Tags",
  "kernelspec": {
   "display_name": "Python 3 (ipykernel)",
   "language": "python",
   "name": "python3"
  },
  "language_info": {
   "codemirror_mode": {
    "name": "ipython",
    "version": 3
   },
   "file_extension": ".py",
   "mimetype": "text/x-python",
   "name": "python",
   "nbconvert_exporter": "python",
   "pygments_lexer": "ipython3",
   "version": "3.8.12"
  },
  "papermill": {
   "default_parameters": {},
   "duration": 3372.36145,
   "end_time": "2022-03-22T17:38:47.344892",
   "environment_variables": {},
   "exception": null,
   "input_path": "/root/csc500-main/csc500-notebooks/templates/tl_ptn_template.ipynb",
   "output_path": "trial.ipynb",
   "parameters": {
    "parameters": {
     "BEST_MODEL_PATH": "./best_model.pth",
     "NUM_LOGS_PER_EPOCH": 10,
     "criteria_for_best": "target_accuracy",
     "dataset_seed": 1337,
     "datasets": [
      {
       "domain_prefix": "Wisig_",
       "domains": [
        1,
        2,
        3,
        4
       ],
       "episode_transforms": [],
       "labels": [
        "1-10",
        "1-12",
        "1-14",
        "1-16",
        "1-18",
        "1-19",
        "1-8",
        "10-11",
        "10-17",
        "10-4",
        "10-7",
        "11-1",
        "11-10",
        "11-19",
        "11-20",
        "11-4",
        "11-7",
        "12-19",
        "12-20",
        "12-7",
        "13-14",
        "13-18",
        "13-19",
        "13-20",
        "13-3",
        "13-7",
        "14-10",
        "14-11",
        "14-12",
        "14-13",
        "14-14",
        "14-19",
        "14-20",
        "14-7",
        "14-8",
        "14-9",
        "15-1",
        "15-19",
        "15-6",
        "16-1",
        "16-16",
        "16-19",
        "16-20",
        "17-10",
        "17-11",
        "18-1",
        "18-10",
        "18-11",
        "18-12",
        "18-13",
        "18-14",
        "18-15",
        "18-16",
        "18-17",
        "18-19",
        "18-2",
        "18-20",
        "18-4",
        "18-5",
        "18-7",
        "18-8",
        "18-9",
        "19-1",
        "19-10",
        "19-11",
        "19-12",
        "19-13",
        "19-14",
        "19-15",
        "19-19",
        "19-2",
        "19-20",
        "19-3",
        "19-4",
        "19-6",
        "19-7",
        "19-8",
        "19-9",
        "2-1",
        "2-13",
        "2-15",
        "2-3",
        "2-4",
        "2-5",
        "2-6",
        "2-7",
        "2-8",
        "20-1",
        "20-12",
        "20-14",
        "20-15",
        "20-16",
        "20-18",
        "20-19",
        "20-20",
        "20-3",
        "20-4",
        "20-5",
        "20-7",
        "20-8",
        "3-1",
        "3-13",
        "3-18",
        "3-2",
        "3-8",
        "4-1",
        "4-10",
        "4-11",
        "5-1",
        "5-5",
        "6-1",
        "6-15",
        "6-6",
        "7-10",
        "7-11",
        "7-12",
        "7-13",
        "7-14",
        "7-7",
        "7-8",
        "7-9",
        "8-1",
        "8-13",
        "8-14",
        "8-18",
        "8-20",
        "8-3",
        "8-8",
        "9-1",
        "9-7"
       ],
       "num_examples_per_domain_per_label": -1,
       "pickle_path": "/root/csc500-main/datasets/wisig.node3-19.stratified_ds.2022A.pkl",
       "source_or_target_dataset": "target",
       "x_transforms": [
        "unit_power"
       ]
      },
      {
       "domain_prefix": "ORACLE.run1",
       "domains": [
        32,
        38,
        8,
        44,
        14,
        50,
        20,
        26
       ],
       "episode_transforms": [],
       "labels": [
        "3123D52",
        "3123D65",
        "3123D79",
        "3123D80",
        "3123D54",
        "3123D70",
        "3123D7B",
        "3123D89",
        "3123D58",
        "3123D76",
        "3123D7D",
        "3123EFE",
        "3123D64",
        "3123D78",
        "3123D7E",
        "3124E4A"
       ],
       "num_examples_per_domain_per_label": 2000,
       "pickle_path": "/root/csc500-main/datasets/oracle.Run1_10kExamples_stratified_ds.2022A.pkl",
       "source_or_target_dataset": "source",
       "x_transforms": [
        "unit_power"
       ]
      }
     ],
     "device": "cuda",
     "experiment_name": "tl_1v2:wisig-oracle.run1.limited",
     "lr": 0.0001,
     "n_epoch": 50,
     "n_query": 2,
     "n_shot": 3,
     "n_way": 16,
     "patience": 3,
     "seed": 1337,
     "test_k_factor": 2,
     "torch_default_dtype": "torch.float32",
     "train_k_factor": 3,
     "val_k_factor": 2,
     "x_net": [
      {
       "class": "nnReshape",
       "kargs": {
        "shape": [
         -1,
         1,
         2,
         256
        ]
       }
      },
      {
       "class": "Conv2d",
       "kargs": {
        "bias": false,
        "in_channels": 1,
        "kernel_size": [
         1,
         7
        ],
        "out_channels": 256,
        "padding": [
         0,
         3
        ]
       }
      },
      {
       "class": "ReLU",
       "kargs": {
        "inplace": true
       }
      },
      {
       "class": "BatchNorm2d",
       "kargs": {
        "num_features": 256
       }
      },
      {
       "class": "Conv2d",
       "kargs": {
        "bias": true,
        "in_channels": 256,
        "kernel_size": [
         2,
         7
        ],
        "out_channels": 80,
        "padding": [
         0,
         3
        ]
       }
      },
      {
       "class": "ReLU",
       "kargs": {
        "inplace": true
       }
      },
      {
       "class": "BatchNorm2d",
       "kargs": {
        "num_features": 80
       }
      },
      {
       "class": "Flatten",
       "kargs": {}
      },
      {
       "class": "Linear",
       "kargs": {
        "in_features": 20480,
        "out_features": 256
       }
      },
      {
       "class": "ReLU",
       "kargs": {
        "inplace": true
       }
      },
      {
       "class": "BatchNorm1d",
       "kargs": {
        "num_features": 256
       }
      },
      {
       "class": "Linear",
       "kargs": {
        "in_features": 256,
        "out_features": 256
       }
      }
     ]
    }
   },
   "start_time": "2022-03-22T16:42:34.983442",
   "version": "2.3.4"
  }
 },
 "nbformat": 4,
 "nbformat_minor": 5
}