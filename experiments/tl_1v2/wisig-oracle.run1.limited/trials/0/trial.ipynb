{
 "cells": [
  {
   "cell_type": "markdown",
   "id": "9fea5f46",
   "metadata": {
    "papermill": {
     "duration": 0.030356,
     "end_time": "2022-03-22T15:29:33.554975",
     "exception": false,
     "start_time": "2022-03-22T15:29:33.524619",
     "status": "completed"
    },
    "tags": []
   },
   "source": [
    "# Transfer Learning Template"
   ]
  },
  {
   "cell_type": "code",
   "execution_count": 1,
   "id": "0902182a",
   "metadata": {
    "execution": {
     "iopub.execute_input": "2022-03-22T15:29:33.621625Z",
     "iopub.status.busy": "2022-03-22T15:29:33.620752Z",
     "iopub.status.idle": "2022-03-22T15:29:35.589286Z",
     "shell.execute_reply": "2022-03-22T15:29:35.589973Z"
    },
    "papermill": {
     "duration": 2.011611,
     "end_time": "2022-03-22T15:29:35.590320",
     "exception": false,
     "start_time": "2022-03-22T15:29:33.578709",
     "status": "completed"
    },
    "tags": []
   },
   "outputs": [],
   "source": [
    "%load_ext autoreload\n",
    "%autoreload 2\n",
    "%matplotlib inline\n",
    "\n",
    "    \n",
    "import os, json, sys, time, random\n",
    "import numpy as np\n",
    "import torch\n",
    "from torch.optim import Adam\n",
    "from  easydict import EasyDict\n",
    "import matplotlib.pyplot as plt\n",
    "\n",
    "from steves_models.steves_ptn import Steves_Prototypical_Network\n",
    "\n",
    "from steves_utils.lazy_iterable_wrapper import Lazy_Iterable_Wrapper\n",
    "from steves_utils.iterable_aggregator import Iterable_Aggregator\n",
    "from steves_utils.ptn_train_eval_test_jig import  PTN_Train_Eval_Test_Jig\n",
    "from steves_utils.torch_sequential_builder import build_sequential\n",
    "from steves_utils.torch_utils import get_dataset_metrics, ptn_confusion_by_domain_over_dataloader\n",
    "from steves_utils.utils_v2 import (per_domain_accuracy_from_confusion, get_datasets_base_path)\n",
    "from steves_utils.PTN.utils import independent_accuracy_assesment\n",
    "\n",
    "from torch.utils.data import DataLoader\n",
    "\n",
    "from steves_utils.stratified_dataset.episodic_accessor import Episodic_Accessor_Factory\n",
    "\n",
    "from steves_utils.ptn_do_report import (\n",
    "    get_loss_curve,\n",
    "    get_results_table,\n",
    "    get_parameters_table,\n",
    "    get_domain_accuracies,\n",
    ")\n",
    "\n",
    "from steves_utils.transforms import get_chained_transform"
   ]
  },
  {
   "cell_type": "markdown",
   "id": "41c840b4",
   "metadata": {
    "papermill": {
     "duration": 0.018759,
     "end_time": "2022-03-22T15:29:35.636302",
     "exception": false,
     "start_time": "2022-03-22T15:29:35.617543",
     "status": "completed"
    },
    "tags": []
   },
   "source": [
    "# Allowed Parameters\n",
    "These are allowed parameters, not defaults\n",
    "Each of these values need to be present in the injected parameters (the notebook will raise an exception if they are not present)\n",
    "\n",
    "Papermill uses the cell tag \"parameters\" to inject the real parameters below this cell.\n",
    "Enable tags to see what I mean"
   ]
  },
  {
   "cell_type": "code",
   "execution_count": 2,
   "id": "fd44eb83",
   "metadata": {
    "execution": {
     "iopub.execute_input": "2022-03-22T15:29:35.679250Z",
     "iopub.status.busy": "2022-03-22T15:29:35.678668Z",
     "iopub.status.idle": "2022-03-22T15:29:35.700788Z",
     "shell.execute_reply": "2022-03-22T15:29:35.700068Z"
    },
    "papermill": {
     "duration": 0.04585,
     "end_time": "2022-03-22T15:29:35.700943",
     "exception": false,
     "start_time": "2022-03-22T15:29:35.655093",
     "status": "completed"
    },
    "tags": []
   },
   "outputs": [],
   "source": [
    "required_parameters = {\n",
    "    \"experiment_name\",\n",
    "    \"lr\",\n",
    "    \"device\",\n",
    "    \"seed\",\n",
    "    \"dataset_seed\",\n",
    "    \"n_shot\",\n",
    "    \"n_query\",\n",
    "    \"n_way\",\n",
    "    \"train_k_factor\",\n",
    "    \"val_k_factor\",\n",
    "    \"test_k_factor\",\n",
    "    \"n_epoch\",\n",
    "    \"patience\",\n",
    "    \"criteria_for_best\",\n",
    "    \"x_net\",\n",
    "    \"datasets\",\n",
    "    \"torch_default_dtype\",\n",
    "    \"NUM_LOGS_PER_EPOCH\",\n",
    "    \"BEST_MODEL_PATH\",\n",
    "    \"x_shape\",\n",
    "}"
   ]
  },
  {
   "cell_type": "code",
   "execution_count": 3,
   "id": "fa3f0049",
   "metadata": {
    "execution": {
     "iopub.execute_input": "2022-03-22T15:29:35.761440Z",
     "iopub.status.busy": "2022-03-22T15:29:35.760530Z",
     "iopub.status.idle": "2022-03-22T15:29:35.780802Z",
     "shell.execute_reply": "2022-03-22T15:29:35.779986Z"
    },
    "papermill": {
     "duration": 0.052742,
     "end_time": "2022-03-22T15:29:35.780957",
     "exception": false,
     "start_time": "2022-03-22T15:29:35.728215",
     "status": "completed"
    },
    "tags": [
     "parameters"
    ]
   },
   "outputs": [],
   "source": [
    "from steves_utils.CORES.utils import (\n",
    "    ALL_NODES,\n",
    "    ALL_NODES_MINIMUM_1000_EXAMPLES,\n",
    "    ALL_DAYS\n",
    ")\n",
    "\n",
    "from steves_utils.ORACLE.utils_v2 import (\n",
    "    ALL_DISTANCES_FEET_NARROWED,\n",
    "    ALL_RUNS,\n",
    "    ALL_SERIAL_NUMBERS,\n",
    ")\n",
    "\n",
    "standalone_parameters = {}\n",
    "standalone_parameters[\"experiment_name\"] = \"STANDALONE PTN\"\n",
    "standalone_parameters[\"lr\"] = 0.001\n",
    "standalone_parameters[\"device\"] = \"cuda\"\n",
    "\n",
    "standalone_parameters[\"seed\"] = 1337\n",
    "standalone_parameters[\"dataset_seed\"] = 1337\n",
    "\n",
    "standalone_parameters[\"n_way\"] = 8\n",
    "standalone_parameters[\"n_shot\"] = 3\n",
    "standalone_parameters[\"n_query\"]  = 2\n",
    "standalone_parameters[\"train_k_factor\"] = 1\n",
    "standalone_parameters[\"val_k_factor\"] = 2\n",
    "standalone_parameters[\"test_k_factor\"] = 2\n",
    "\n",
    "\n",
    "standalone_parameters[\"n_epoch\"] = 50\n",
    "\n",
    "standalone_parameters[\"patience\"] = 10\n",
    "standalone_parameters[\"criteria_for_best\"] = \"source_loss\"\n",
    "\n",
    "standalone_parameters[\"datasets\"] = [\n",
    "    {\n",
    "        \"labels\": ALL_SERIAL_NUMBERS,\n",
    "        \"domains\": ALL_DISTANCES_FEET_NARROWED,\n",
    "        \"num_examples_per_domain_per_label\": 100,\n",
    "        \"pickle_path\": os.path.join(get_datasets_base_path(), \"oracle.Run1_framed_2000Examples_stratified_ds.2022A.pkl\"),\n",
    "        \"source_or_target_dataset\": \"source\",\n",
    "        \"x_transforms\": [\"unit_mag\", \"minus_two\"],\n",
    "        \"episode_transforms\": [],\n",
    "        \"domain_prefix\": \"ORACLE_\"\n",
    "    },\n",
    "    {\n",
    "        \"labels\": ALL_NODES,\n",
    "        \"domains\": ALL_DAYS,\n",
    "        \"num_examples_per_domain_per_label\": 100,\n",
    "        \"pickle_path\": os.path.join(get_datasets_base_path(), \"cores.stratified_ds.2022A.pkl\"),\n",
    "        \"source_or_target_dataset\": \"target\",\n",
    "        \"x_transforms\": [\"unit_power\", \"times_zero\"],\n",
    "        \"episode_transforms\": [],\n",
    "        \"domain_prefix\": \"CORES_\"\n",
    "    }   \n",
    "]\n",
    "\n",
    "standalone_parameters[\"torch_default_dtype\"] = \"torch.float32\" \n",
    "\n",
    "\n",
    "\n",
    "standalone_parameters[\"x_net\"] =     [\n",
    "    {\"class\": \"nnReshape\", \"kargs\": {\"shape\":[-1, 1, 2, 256]}},\n",
    "    {\"class\": \"Conv2d\", \"kargs\": { \"in_channels\":1, \"out_channels\":256, \"kernel_size\":(1,7), \"bias\":False, \"padding\":(0,3), },},\n",
    "    {\"class\": \"ReLU\", \"kargs\": {\"inplace\": True}},\n",
    "    {\"class\": \"BatchNorm2d\", \"kargs\": {\"num_features\":256}},\n",
    "\n",
    "    {\"class\": \"Conv2d\", \"kargs\": { \"in_channels\":256, \"out_channels\":80, \"kernel_size\":(2,7), \"bias\":True, \"padding\":(0,3), },},\n",
    "    {\"class\": \"ReLU\", \"kargs\": {\"inplace\": True}},\n",
    "    {\"class\": \"BatchNorm2d\", \"kargs\": {\"num_features\":80}},\n",
    "    {\"class\": \"Flatten\", \"kargs\": {}},\n",
    "\n",
    "    {\"class\": \"Linear\", \"kargs\": {\"in_features\": 80*256, \"out_features\": 256}}, # 80 units per IQ pair\n",
    "    {\"class\": \"ReLU\", \"kargs\": {\"inplace\": True}},\n",
    "    {\"class\": \"BatchNorm1d\", \"kargs\": {\"num_features\":256}},\n",
    "\n",
    "    {\"class\": \"Linear\", \"kargs\": {\"in_features\": 256, \"out_features\": 256}},\n",
    "]\n",
    "\n",
    "# Parameters relevant to results\n",
    "# These parameters will basically never need to change\n",
    "standalone_parameters[\"NUM_LOGS_PER_EPOCH\"] = 10\n",
    "standalone_parameters[\"BEST_MODEL_PATH\"] = \"./best_model.pth\"\n",
    "\n",
    "\n",
    "\n",
    "\n"
   ]
  },
  {
   "cell_type": "code",
   "execution_count": 4,
   "id": "8c6de783",
   "metadata": {
    "execution": {
     "iopub.execute_input": "2022-03-22T15:29:35.845868Z",
     "iopub.status.busy": "2022-03-22T15:29:35.841965Z",
     "iopub.status.idle": "2022-03-22T15:29:35.865137Z",
     "shell.execute_reply": "2022-03-22T15:29:35.864316Z"
    },
    "papermill": {
     "duration": 0.056298,
     "end_time": "2022-03-22T15:29:35.865291",
     "exception": false,
     "start_time": "2022-03-22T15:29:35.808993",
     "status": "completed"
    },
    "tags": [
     "injected-parameters"
    ]
   },
   "outputs": [],
   "source": [
    "# Parameters\n",
    "parameters = {\n",
    "    \"experiment_name\": \"tl_1v2:wisig-oracle.run1.limited\",\n",
    "    \"device\": \"cuda\",\n",
    "    \"lr\": 0.0001,\n",
    "    \"n_shot\": 3,\n",
    "    \"n_query\": 2,\n",
    "    \"train_k_factor\": 3,\n",
    "    \"val_k_factor\": 2,\n",
    "    \"test_k_factor\": 2,\n",
    "    \"torch_default_dtype\": \"torch.float32\",\n",
    "    \"n_epoch\": 50,\n",
    "    \"patience\": 3,\n",
    "    \"criteria_for_best\": \"target_accuracy\",\n",
    "    \"x_net\": [\n",
    "        {\"class\": \"nnReshape\", \"kargs\": {\"shape\": [-1, 1, 2, 256]}},\n",
    "        {\n",
    "            \"class\": \"Conv2d\",\n",
    "            \"kargs\": {\n",
    "                \"in_channels\": 1,\n",
    "                \"out_channels\": 256,\n",
    "                \"kernel_size\": [1, 7],\n",
    "                \"bias\": False,\n",
    "                \"padding\": [0, 3],\n",
    "            },\n",
    "        },\n",
    "        {\"class\": \"ReLU\", \"kargs\": {\"inplace\": True}},\n",
    "        {\"class\": \"BatchNorm2d\", \"kargs\": {\"num_features\": 256}},\n",
    "        {\n",
    "            \"class\": \"Conv2d\",\n",
    "            \"kargs\": {\n",
    "                \"in_channels\": 256,\n",
    "                \"out_channels\": 80,\n",
    "                \"kernel_size\": [2, 7],\n",
    "                \"bias\": True,\n",
    "                \"padding\": [0, 3],\n",
    "            },\n",
    "        },\n",
    "        {\"class\": \"ReLU\", \"kargs\": {\"inplace\": True}},\n",
    "        {\"class\": \"BatchNorm2d\", \"kargs\": {\"num_features\": 80}},\n",
    "        {\"class\": \"Flatten\", \"kargs\": {}},\n",
    "        {\"class\": \"Linear\", \"kargs\": {\"in_features\": 20480, \"out_features\": 256}},\n",
    "        {\"class\": \"ReLU\", \"kargs\": {\"inplace\": True}},\n",
    "        {\"class\": \"BatchNorm1d\", \"kargs\": {\"num_features\": 256}},\n",
    "        {\"class\": \"Linear\", \"kargs\": {\"in_features\": 256, \"out_features\": 256}},\n",
    "    ],\n",
    "    \"NUM_LOGS_PER_EPOCH\": 10,\n",
    "    \"BEST_MODEL_PATH\": \"./best_model.pth\",\n",
    "    \"n_way\": 16,\n",
    "    \"datasets\": [\n",
    "        {\n",
    "            \"labels\": [\n",
    "                \"1-10\",\n",
    "                \"1-12\",\n",
    "                \"1-14\",\n",
    "                \"1-16\",\n",
    "                \"1-18\",\n",
    "                \"1-19\",\n",
    "                \"1-8\",\n",
    "                \"10-11\",\n",
    "                \"10-17\",\n",
    "                \"10-4\",\n",
    "                \"10-7\",\n",
    "                \"11-1\",\n",
    "                \"11-10\",\n",
    "                \"11-19\",\n",
    "                \"11-20\",\n",
    "                \"11-4\",\n",
    "                \"11-7\",\n",
    "                \"12-19\",\n",
    "                \"12-20\",\n",
    "                \"12-7\",\n",
    "                \"13-14\",\n",
    "                \"13-18\",\n",
    "                \"13-19\",\n",
    "                \"13-20\",\n",
    "                \"13-3\",\n",
    "                \"13-7\",\n",
    "                \"14-10\",\n",
    "                \"14-11\",\n",
    "                \"14-12\",\n",
    "                \"14-13\",\n",
    "                \"14-14\",\n",
    "                \"14-19\",\n",
    "                \"14-20\",\n",
    "                \"14-7\",\n",
    "                \"14-8\",\n",
    "                \"14-9\",\n",
    "                \"15-1\",\n",
    "                \"15-19\",\n",
    "                \"15-6\",\n",
    "                \"16-1\",\n",
    "                \"16-16\",\n",
    "                \"16-19\",\n",
    "                \"16-20\",\n",
    "                \"17-10\",\n",
    "                \"17-11\",\n",
    "                \"18-1\",\n",
    "                \"18-10\",\n",
    "                \"18-11\",\n",
    "                \"18-12\",\n",
    "                \"18-13\",\n",
    "                \"18-14\",\n",
    "                \"18-15\",\n",
    "                \"18-16\",\n",
    "                \"18-17\",\n",
    "                \"18-19\",\n",
    "                \"18-2\",\n",
    "                \"18-20\",\n",
    "                \"18-4\",\n",
    "                \"18-5\",\n",
    "                \"18-7\",\n",
    "                \"18-8\",\n",
    "                \"18-9\",\n",
    "                \"19-1\",\n",
    "                \"19-10\",\n",
    "                \"19-11\",\n",
    "                \"19-12\",\n",
    "                \"19-13\",\n",
    "                \"19-14\",\n",
    "                \"19-15\",\n",
    "                \"19-19\",\n",
    "                \"19-2\",\n",
    "                \"19-20\",\n",
    "                \"19-3\",\n",
    "                \"19-4\",\n",
    "                \"19-6\",\n",
    "                \"19-7\",\n",
    "                \"19-8\",\n",
    "                \"19-9\",\n",
    "                \"2-1\",\n",
    "                \"2-13\",\n",
    "                \"2-15\",\n",
    "                \"2-3\",\n",
    "                \"2-4\",\n",
    "                \"2-5\",\n",
    "                \"2-6\",\n",
    "                \"2-7\",\n",
    "                \"2-8\",\n",
    "                \"20-1\",\n",
    "                \"20-12\",\n",
    "                \"20-14\",\n",
    "                \"20-15\",\n",
    "                \"20-16\",\n",
    "                \"20-18\",\n",
    "                \"20-19\",\n",
    "                \"20-20\",\n",
    "                \"20-3\",\n",
    "                \"20-4\",\n",
    "                \"20-5\",\n",
    "                \"20-7\",\n",
    "                \"20-8\",\n",
    "                \"3-1\",\n",
    "                \"3-13\",\n",
    "                \"3-18\",\n",
    "                \"3-2\",\n",
    "                \"3-8\",\n",
    "                \"4-1\",\n",
    "                \"4-10\",\n",
    "                \"4-11\",\n",
    "                \"5-1\",\n",
    "                \"5-5\",\n",
    "                \"6-1\",\n",
    "                \"6-15\",\n",
    "                \"6-6\",\n",
    "                \"7-10\",\n",
    "                \"7-11\",\n",
    "                \"7-12\",\n",
    "                \"7-13\",\n",
    "                \"7-14\",\n",
    "                \"7-7\",\n",
    "                \"7-8\",\n",
    "                \"7-9\",\n",
    "                \"8-1\",\n",
    "                \"8-13\",\n",
    "                \"8-14\",\n",
    "                \"8-18\",\n",
    "                \"8-20\",\n",
    "                \"8-3\",\n",
    "                \"8-8\",\n",
    "                \"9-1\",\n",
    "                \"9-7\",\n",
    "            ],\n",
    "            \"domains\": [1, 2, 3, 4],\n",
    "            \"num_examples_per_domain_per_label\": -1,\n",
    "            \"pickle_path\": \"/root/csc500-main/datasets/wisig.node3-19.stratified_ds.2022A.pkl\",\n",
    "            \"source_or_target_dataset\": \"source\",\n",
    "            \"x_transforms\": [\"unit_power\"],\n",
    "            \"episode_transforms\": [],\n",
    "            \"domain_prefix\": \"Wisig_\",\n",
    "        },\n",
    "        {\n",
    "            \"labels\": [\n",
    "                \"3123D52\",\n",
    "                \"3123D65\",\n",
    "                \"3123D79\",\n",
    "                \"3123D80\",\n",
    "                \"3123D54\",\n",
    "                \"3123D70\",\n",
    "                \"3123D7B\",\n",
    "                \"3123D89\",\n",
    "                \"3123D58\",\n",
    "                \"3123D76\",\n",
    "                \"3123D7D\",\n",
    "                \"3123EFE\",\n",
    "                \"3123D64\",\n",
    "                \"3123D78\",\n",
    "                \"3123D7E\",\n",
    "                \"3124E4A\",\n",
    "            ],\n",
    "            \"domains\": [32, 38, 8, 44, 14, 50, 20, 26],\n",
    "            \"num_examples_per_domain_per_label\": 2000,\n",
    "            \"pickle_path\": \"/root/csc500-main/datasets/oracle.Run1_10kExamples_stratified_ds.2022A.pkl\",\n",
    "            \"source_or_target_dataset\": \"target\",\n",
    "            \"x_transforms\": [\"unit_power\"],\n",
    "            \"episode_transforms\": [],\n",
    "            \"domain_prefix\": \"ORACLE.run1\",\n",
    "        },\n",
    "    ],\n",
    "    \"dataset_seed\": 1337,\n",
    "    \"seed\": 1337,\n",
    "}\n"
   ]
  },
  {
   "cell_type": "code",
   "execution_count": 5,
   "id": "8fa1cc33",
   "metadata": {
    "execution": {
     "iopub.execute_input": "2022-03-22T15:29:35.921240Z",
     "iopub.status.busy": "2022-03-22T15:29:35.920654Z",
     "iopub.status.idle": "2022-03-22T15:29:35.940775Z",
     "shell.execute_reply": "2022-03-22T15:29:35.940062Z"
    },
    "papermill": {
     "duration": 0.047781,
     "end_time": "2022-03-22T15:29:35.940928",
     "exception": false,
     "start_time": "2022-03-22T15:29:35.893147",
     "status": "completed"
    },
    "tags": []
   },
   "outputs": [],
   "source": [
    "# Set this to True if you want to run this template directly\n",
    "STANDALONE = False\n",
    "if STANDALONE:\n",
    "    print(\"parameters not injected, running with standalone_parameters\")\n",
    "    parameters = standalone_parameters\n",
    "\n",
    "if not 'parameters' in locals() and not 'parameters' in globals():\n",
    "    raise Exception(\"Parameter injection failed\")\n",
    "\n",
    "#Use an easy dict for all the parameters\n",
    "p = EasyDict(parameters)\n",
    "\n",
    "if \"x_shape\" not in p:\n",
    "    p.x_shape = [2,256] # Default to this if we dont supply x_shape\n",
    "\n",
    "\n",
    "supplied_keys = set(p.keys())\n",
    "\n",
    "if  supplied_keys != required_parameters:\n",
    "    print(\"Parameters are incorrect\")\n",
    "    if len(supplied_keys - required_parameters)>0: print(\"Shouldn't have:\", str(supplied_keys - required_parameters))\n",
    "    if len(required_parameters - supplied_keys)>0: print(\"Need to have:\", str(required_parameters - supplied_keys))\n",
    "    raise RuntimeError(\"Parameters are incorrect\")"
   ]
  },
  {
   "cell_type": "code",
   "execution_count": 6,
   "id": "3a028d58",
   "metadata": {
    "execution": {
     "iopub.execute_input": "2022-03-22T15:29:35.992131Z",
     "iopub.status.busy": "2022-03-22T15:29:35.991225Z",
     "iopub.status.idle": "2022-03-22T15:29:36.010085Z",
     "shell.execute_reply": "2022-03-22T15:29:36.009267Z"
    },
    "papermill": {
     "duration": 0.041192,
     "end_time": "2022-03-22T15:29:36.010239",
     "exception": false,
     "start_time": "2022-03-22T15:29:35.969047",
     "status": "completed"
    },
    "tags": []
   },
   "outputs": [],
   "source": [
    "###################################\n",
    "# Set the RNGs and make it all deterministic\n",
    "###################################\n",
    "np.random.seed(p.seed)\n",
    "random.seed(p.seed)\n",
    "torch.manual_seed(p.seed)\n",
    "\n",
    "torch.use_deterministic_algorithms(True) "
   ]
  },
  {
   "cell_type": "code",
   "execution_count": 7,
   "id": "b691acf6",
   "metadata": {
    "execution": {
     "iopub.execute_input": "2022-03-22T15:29:36.059352Z",
     "iopub.status.busy": "2022-03-22T15:29:36.058721Z",
     "iopub.status.idle": "2022-03-22T15:29:36.082174Z",
     "shell.execute_reply": "2022-03-22T15:29:36.081355Z"
    },
    "papermill": {
     "duration": 0.046566,
     "end_time": "2022-03-22T15:29:36.082327",
     "exception": false,
     "start_time": "2022-03-22T15:29:36.035761",
     "status": "completed"
    },
    "tags": []
   },
   "outputs": [],
   "source": [
    "###########################################\n",
    "# The stratified datasets honor this\n",
    "###########################################\n",
    "torch.set_default_dtype(eval(p.torch_default_dtype))"
   ]
  },
  {
   "cell_type": "code",
   "execution_count": 8,
   "id": "b5fba671",
   "metadata": {
    "execution": {
     "iopub.execute_input": "2022-03-22T15:29:36.134088Z",
     "iopub.status.busy": "2022-03-22T15:29:36.131289Z",
     "iopub.status.idle": "2022-03-22T15:29:36.186515Z",
     "shell.execute_reply": "2022-03-22T15:29:36.185796Z"
    },
    "papermill": {
     "duration": 0.078988,
     "end_time": "2022-03-22T15:29:36.186667",
     "exception": false,
     "start_time": "2022-03-22T15:29:36.107679",
     "status": "completed"
    },
    "tags": []
   },
   "outputs": [],
   "source": [
    "###################################\n",
    "# Build the network(s)\n",
    "# Note: It's critical to do this AFTER setting the RNG\n",
    "###################################\n",
    "x_net = build_sequential(p.x_net)"
   ]
  },
  {
   "cell_type": "code",
   "execution_count": 9,
   "id": "5d7e61cc",
   "metadata": {
    "execution": {
     "iopub.execute_input": "2022-03-22T15:29:36.236713Z",
     "iopub.status.busy": "2022-03-22T15:29:36.236342Z",
     "iopub.status.idle": "2022-03-22T15:29:36.262849Z",
     "shell.execute_reply": "2022-03-22T15:29:36.262037Z"
    },
    "papermill": {
     "duration": 0.050855,
     "end_time": "2022-03-22T15:29:36.263002",
     "exception": false,
     "start_time": "2022-03-22T15:29:36.212147",
     "status": "completed"
    },
    "tags": []
   },
   "outputs": [],
   "source": [
    "start_time_secs = time.time()"
   ]
  },
  {
   "cell_type": "code",
   "execution_count": 10,
   "id": "c6b67dfd",
   "metadata": {
    "execution": {
     "iopub.execute_input": "2022-03-22T15:29:36.321641Z",
     "iopub.status.busy": "2022-03-22T15:29:36.321073Z",
     "iopub.status.idle": "2022-03-22T15:29:36.334659Z",
     "shell.execute_reply": "2022-03-22T15:29:36.333941Z"
    },
    "papermill": {
     "duration": 0.044413,
     "end_time": "2022-03-22T15:29:36.334812",
     "exception": false,
     "start_time": "2022-03-22T15:29:36.290399",
     "status": "completed"
    },
    "tags": []
   },
   "outputs": [],
   "source": [
    "p.domains_source = []\n",
    "p.domains_target = []\n",
    "\n",
    "\n",
    "train_original_source = []\n",
    "val_original_source   = []\n",
    "test_original_source  = []\n",
    "\n",
    "train_original_target = []\n",
    "val_original_target   = []\n",
    "test_original_target  = []"
   ]
  },
  {
   "cell_type": "code",
   "execution_count": 11,
   "id": "e3d9c3d3",
   "metadata": {
    "execution": {
     "iopub.execute_input": "2022-03-22T15:29:36.385556Z",
     "iopub.status.busy": "2022-03-22T15:29:36.385187Z",
     "iopub.status.idle": "2022-03-22T15:29:36.401561Z",
     "shell.execute_reply": "2022-03-22T15:29:36.402243Z"
    },
    "papermill": {
     "duration": 0.039808,
     "end_time": "2022-03-22T15:29:36.402419",
     "exception": false,
     "start_time": "2022-03-22T15:29:36.362611",
     "status": "completed"
    },
    "tags": []
   },
   "outputs": [],
   "source": [
    "# global_x_transform_func = lambda x: normalize(x.to(torch.get_default_dtype()), \"unit_power\") # unit_power, unit_mag\n",
    "# global_x_transform_func = lambda x: normalize(x, \"unit_power\") # unit_power, unit_mag"
   ]
  },
  {
   "cell_type": "code",
   "execution_count": 12,
   "id": "acb78fd2",
   "metadata": {
    "execution": {
     "iopub.execute_input": "2022-03-22T15:29:36.455729Z",
     "iopub.status.busy": "2022-03-22T15:29:36.455126Z",
     "iopub.status.idle": "2022-03-22T15:29:36.473631Z",
     "shell.execute_reply": "2022-03-22T15:29:36.472919Z"
    },
    "papermill": {
     "duration": 0.045793,
     "end_time": "2022-03-22T15:29:36.473783",
     "exception": false,
     "start_time": "2022-03-22T15:29:36.427990",
     "status": "completed"
    },
    "tags": []
   },
   "outputs": [],
   "source": [
    "def add_dataset(\n",
    "    labels,\n",
    "    domains,\n",
    "    pickle_path,\n",
    "    x_transforms,\n",
    "    episode_transforms,\n",
    "    domain_prefix,\n",
    "    num_examples_per_domain_per_label,\n",
    "    source_or_target_dataset:str,\n",
    "    iterator_seed=p.seed,\n",
    "    dataset_seed=p.dataset_seed,\n",
    "    n_shot=p.n_shot,\n",
    "    n_way=p.n_way,\n",
    "    n_query=p.n_query,\n",
    "    train_val_test_k_factors=(p.train_k_factor,p.val_k_factor,p.test_k_factor),\n",
    "):\n",
    "   \n",
    "    if x_transforms == []: x_transform = None\n",
    "    else: x_transform = get_chained_transform(x_transforms)\n",
    "    \n",
    "    if episode_transforms == []: episode_transform = None\n",
    "    else: raise Exception(\"episode_transforms not implemented\")\n",
    "    \n",
    "    episode_transform = lambda tup, _prefix=domain_prefix: (_prefix + str(tup[0]), tup[1])\n",
    "\n",
    "\n",
    "    eaf = Episodic_Accessor_Factory(\n",
    "        labels=labels,\n",
    "        domains=domains,\n",
    "        num_examples_per_domain_per_label=num_examples_per_domain_per_label,\n",
    "        iterator_seed=iterator_seed,\n",
    "        dataset_seed=dataset_seed,\n",
    "        n_shot=n_shot,\n",
    "        n_way=n_way,\n",
    "        n_query=n_query,\n",
    "        train_val_test_k_factors=train_val_test_k_factors,\n",
    "        pickle_path=pickle_path,\n",
    "        x_transform_func=x_transform,\n",
    "    )\n",
    "\n",
    "    train, val, test = eaf.get_train(), eaf.get_val(), eaf.get_test()\n",
    "    train = Lazy_Iterable_Wrapper(train, episode_transform)\n",
    "    val = Lazy_Iterable_Wrapper(val, episode_transform)\n",
    "    test = Lazy_Iterable_Wrapper(test, episode_transform)\n",
    "\n",
    "    if source_or_target_dataset==\"source\":\n",
    "        train_original_source.append(train)\n",
    "        val_original_source.append(val)\n",
    "        test_original_source.append(test)\n",
    "\n",
    "        p.domains_source.extend(\n",
    "            [domain_prefix + str(u) for u in domains]\n",
    "        )\n",
    "    elif source_or_target_dataset==\"target\":\n",
    "        train_original_target.append(train)\n",
    "        val_original_target.append(val)\n",
    "        test_original_target.append(test)\n",
    "        p.domains_target.extend(\n",
    "            [domain_prefix + str(u) for u in domains]\n",
    "        )\n",
    "    else:\n",
    "        raise Exception(f\"invalid source_or_target_dataset: {source_or_target_dataset}\")\n",
    "    "
   ]
  },
  {
   "cell_type": "code",
   "execution_count": 13,
   "id": "fe266617",
   "metadata": {
    "execution": {
     "iopub.execute_input": "2022-03-22T15:29:36.525491Z",
     "iopub.status.busy": "2022-03-22T15:29:36.525120Z",
     "iopub.status.idle": "2022-03-22T15:30:24.220115Z",
     "shell.execute_reply": "2022-03-22T15:30:24.219332Z"
    },
    "papermill": {
     "duration": 47.720214,
     "end_time": "2022-03-22T15:30:24.220306",
     "exception": false,
     "start_time": "2022-03-22T15:29:36.500092",
     "status": "completed"
    },
    "tags": []
   },
   "outputs": [],
   "source": [
    "for ds in p.datasets:\n",
    "    add_dataset(**ds)"
   ]
  },
  {
   "cell_type": "code",
   "execution_count": 14,
   "id": "b90d65ac",
   "metadata": {
    "execution": {
     "iopub.execute_input": "2022-03-22T15:30:24.274163Z",
     "iopub.status.busy": "2022-03-22T15:30:24.273568Z",
     "iopub.status.idle": "2022-03-22T15:30:24.296364Z",
     "shell.execute_reply": "2022-03-22T15:30:24.295628Z"
    },
    "papermill": {
     "duration": 0.04739,
     "end_time": "2022-03-22T15:30:24.296530",
     "exception": false,
     "start_time": "2022-03-22T15:30:24.249140",
     "status": "completed"
    },
    "tags": []
   },
   "outputs": [],
   "source": [
    "# from steves_utils.CORES.utils import (\n",
    "#     ALL_NODES,\n",
    "#     ALL_NODES_MINIMUM_1000_EXAMPLES,\n",
    "#     ALL_DAYS\n",
    "# )\n",
    "\n",
    "# add_dataset(\n",
    "#     labels=ALL_NODES,\n",
    "#     domains = ALL_DAYS,\n",
    "#     num_examples_per_domain_per_label=100,\n",
    "#     pickle_path=os.path.join(get_datasets_base_path(), \"cores.stratified_ds.2022A.pkl\"),\n",
    "#     source_or_target_dataset=\"target\",\n",
    "#     x_transform_func=global_x_transform_func,\n",
    "#     domain_modifier=lambda u: f\"cores_{u}\"\n",
    "# )"
   ]
  },
  {
   "cell_type": "code",
   "execution_count": 15,
   "id": "76db484d",
   "metadata": {
    "execution": {
     "iopub.execute_input": "2022-03-22T15:30:24.348298Z",
     "iopub.status.busy": "2022-03-22T15:30:24.347915Z",
     "iopub.status.idle": "2022-03-22T15:30:24.366379Z",
     "shell.execute_reply": "2022-03-22T15:30:24.365530Z"
    },
    "papermill": {
     "duration": 0.042597,
     "end_time": "2022-03-22T15:30:24.366547",
     "exception": false,
     "start_time": "2022-03-22T15:30:24.323950",
     "status": "completed"
    },
    "tags": []
   },
   "outputs": [],
   "source": [
    "# from steves_utils.ORACLE.utils_v2 import (\n",
    "#     ALL_DISTANCES_FEET,\n",
    "#     ALL_RUNS,\n",
    "#     ALL_SERIAL_NUMBERS,\n",
    "# )\n",
    "\n",
    "\n",
    "# add_dataset(\n",
    "#     labels=ALL_SERIAL_NUMBERS,\n",
    "#     domains = list(set(ALL_DISTANCES_FEET) - {2,62}),\n",
    "#     num_examples_per_domain_per_label=100,\n",
    "#     pickle_path=os.path.join(get_datasets_base_path(), \"oracle.Run2_framed_2000Examples_stratified_ds.2022A.pkl\"),\n",
    "#     source_or_target_dataset=\"source\",\n",
    "#     x_transform_func=global_x_transform_func,\n",
    "#     domain_modifier=lambda u: f\"oracle1_{u}\"\n",
    "# )\n"
   ]
  },
  {
   "cell_type": "code",
   "execution_count": 16,
   "id": "97dea9d2",
   "metadata": {
    "execution": {
     "iopub.execute_input": "2022-03-22T15:30:24.418906Z",
     "iopub.status.busy": "2022-03-22T15:30:24.418524Z",
     "iopub.status.idle": "2022-03-22T15:30:24.441647Z",
     "shell.execute_reply": "2022-03-22T15:30:24.440810Z"
    },
    "papermill": {
     "duration": 0.048298,
     "end_time": "2022-03-22T15:30:24.441816",
     "exception": false,
     "start_time": "2022-03-22T15:30:24.393518",
     "status": "completed"
    },
    "tags": []
   },
   "outputs": [],
   "source": [
    "# from steves_utils.ORACLE.utils_v2 import (\n",
    "#     ALL_DISTANCES_FEET,\n",
    "#     ALL_RUNS,\n",
    "#     ALL_SERIAL_NUMBERS,\n",
    "# )\n",
    "\n",
    "\n",
    "# add_dataset(\n",
    "#     labels=ALL_SERIAL_NUMBERS,\n",
    "#     domains = list(set(ALL_DISTANCES_FEET) - {2,62,56}),\n",
    "#     num_examples_per_domain_per_label=100,\n",
    "#     pickle_path=os.path.join(get_datasets_base_path(), \"oracle.Run2_framed_2000Examples_stratified_ds.2022A.pkl\"),\n",
    "#     source_or_target_dataset=\"source\",\n",
    "#     x_transform_func=global_x_transform_func,\n",
    "#     domain_modifier=lambda u: f\"oracle2_{u}\"\n",
    "# )"
   ]
  },
  {
   "cell_type": "code",
   "execution_count": 17,
   "id": "6f289866",
   "metadata": {
    "execution": {
     "iopub.execute_input": "2022-03-22T15:30:24.495232Z",
     "iopub.status.busy": "2022-03-22T15:30:24.494845Z",
     "iopub.status.idle": "2022-03-22T15:30:24.521295Z",
     "shell.execute_reply": "2022-03-22T15:30:24.520552Z"
    },
    "papermill": {
     "duration": 0.052398,
     "end_time": "2022-03-22T15:30:24.521464",
     "exception": false,
     "start_time": "2022-03-22T15:30:24.469066",
     "status": "completed"
    },
    "tags": []
   },
   "outputs": [],
   "source": [
    "# add_dataset(\n",
    "#     labels=list(range(19)),\n",
    "#     domains = [0,1,2],\n",
    "#     num_examples_per_domain_per_label=100,\n",
    "#     pickle_path=os.path.join(get_datasets_base_path(), \"metehan.stratified_ds.2022A.pkl\"),\n",
    "#     source_or_target_dataset=\"target\",\n",
    "#     x_transform_func=global_x_transform_func,\n",
    "#     domain_modifier=lambda u: f\"met_{u}\"\n",
    "# )"
   ]
  },
  {
   "cell_type": "code",
   "execution_count": 18,
   "id": "86a863c3",
   "metadata": {
    "execution": {
     "iopub.execute_input": "2022-03-22T15:30:24.574344Z",
     "iopub.status.busy": "2022-03-22T15:30:24.573253Z",
     "iopub.status.idle": "2022-03-22T15:30:24.595663Z",
     "shell.execute_reply": "2022-03-22T15:30:24.594891Z"
    },
    "papermill": {
     "duration": 0.046994,
     "end_time": "2022-03-22T15:30:24.595830",
     "exception": false,
     "start_time": "2022-03-22T15:30:24.548836",
     "status": "completed"
    },
    "tags": []
   },
   "outputs": [],
   "source": [
    "# # from steves_utils.wisig.utils import (\n",
    "# #     ALL_NODES_MINIMUM_100_EXAMPLES,\n",
    "# #     ALL_NODES_MINIMUM_500_EXAMPLES,\n",
    "# #     ALL_NODES_MINIMUM_1000_EXAMPLES,\n",
    "# #     ALL_DAYS\n",
    "# # )\n",
    "\n",
    "# import steves_utils.wisig.utils as wisig\n",
    "\n",
    "\n",
    "# add_dataset(\n",
    "#     labels=wisig.ALL_NODES_MINIMUM_100_EXAMPLES,\n",
    "#     domains = wisig.ALL_DAYS,\n",
    "#     num_examples_per_domain_per_label=100,\n",
    "#     pickle_path=os.path.join(get_datasets_base_path(), \"wisig.node3-19.stratified_ds.2022A.pkl\"),\n",
    "#     source_or_target_dataset=\"target\",\n",
    "#     x_transform_func=global_x_transform_func,\n",
    "#     domain_modifier=lambda u: f\"wisig_{u}\"\n",
    "# )"
   ]
  },
  {
   "cell_type": "code",
   "execution_count": 19,
   "id": "fd5442bc",
   "metadata": {
    "execution": {
     "iopub.execute_input": "2022-03-22T15:30:24.651900Z",
     "iopub.status.busy": "2022-03-22T15:30:24.651288Z",
     "iopub.status.idle": "2022-03-22T15:30:24.673987Z",
     "shell.execute_reply": "2022-03-22T15:30:24.673252Z"
    },
    "papermill": {
     "duration": 0.049791,
     "end_time": "2022-03-22T15:30:24.674153",
     "exception": false,
     "start_time": "2022-03-22T15:30:24.624362",
     "status": "completed"
    },
    "tags": []
   },
   "outputs": [],
   "source": [
    "###################################\n",
    "# Build the dataset\n",
    "###################################\n",
    "train_original_source = Iterable_Aggregator(train_original_source, p.seed)\n",
    "val_original_source = Iterable_Aggregator(val_original_source, p.seed)\n",
    "test_original_source = Iterable_Aggregator(test_original_source, p.seed)\n",
    "\n",
    "\n",
    "train_original_target = Iterable_Aggregator(train_original_target, p.seed)\n",
    "val_original_target = Iterable_Aggregator(val_original_target, p.seed)\n",
    "test_original_target = Iterable_Aggregator(test_original_target, p.seed)\n",
    "\n",
    "# For CNN We only use X and Y. And we only train on the source.\n",
    "# Properly form the data using a transform lambda and Lazy_Iterable_Wrapper. Finally wrap them in a dataloader\n",
    "\n",
    "transform_lambda = lambda ex: ex[1] # Original is (<domain>, <episode>) so we strip down to episode only\n",
    "\n",
    "train_processed_source = Lazy_Iterable_Wrapper(train_original_source, transform_lambda)\n",
    "val_processed_source   = Lazy_Iterable_Wrapper(val_original_source, transform_lambda)\n",
    "test_processed_source  = Lazy_Iterable_Wrapper(test_original_source, transform_lambda)\n",
    "\n",
    "train_processed_target = Lazy_Iterable_Wrapper(train_original_target, transform_lambda)\n",
    "val_processed_target   = Lazy_Iterable_Wrapper(val_original_target, transform_lambda)\n",
    "test_processed_target  = Lazy_Iterable_Wrapper(test_original_target, transform_lambda)\n",
    "\n",
    "datasets = EasyDict({\n",
    "    \"source\": {\n",
    "        \"original\": {\"train\":train_original_source, \"val\":val_original_source, \"test\":test_original_source},\n",
    "        \"processed\": {\"train\":train_processed_source, \"val\":val_processed_source, \"test\":test_processed_source}\n",
    "    },\n",
    "    \"target\": {\n",
    "        \"original\": {\"train\":train_original_target, \"val\":val_original_target, \"test\":test_original_target},\n",
    "        \"processed\": {\"train\":train_processed_target, \"val\":val_processed_target, \"test\":test_processed_target}\n",
    "    },\n",
    "})"
   ]
  },
  {
   "cell_type": "code",
   "execution_count": 20,
   "id": "5b3c01fc",
   "metadata": {
    "execution": {
     "iopub.execute_input": "2022-03-22T15:30:24.729340Z",
     "iopub.status.busy": "2022-03-22T15:30:24.728757Z",
     "iopub.status.idle": "2022-03-22T15:30:39.278793Z",
     "shell.execute_reply": "2022-03-22T15:30:39.279633Z"
    },
    "papermill": {
     "duration": 14.578108,
     "end_time": "2022-03-22T15:30:39.279851",
     "exception": false,
     "start_time": "2022-03-22T15:30:24.701743",
     "status": "completed"
    },
    "tags": []
   },
   "outputs": [
    {
     "name": "stdout",
     "output_type": "stream",
     "text": [
      "{'Wisig_2', 'Wisig_4', 'Wisig_3', 'Wisig_1'}\n"
     ]
    },
    {
     "name": "stdout",
     "output_type": "stream",
     "text": [
      "{'ORACLE.run18', 'ORACLE.run150', 'ORACLE.run114', 'ORACLE.run138', 'ORACLE.run144', 'ORACLE.run132', 'ORACLE.run120', 'ORACLE.run126'}\n"
     ]
    },
    {
     "name": "stdout",
     "output_type": "stream",
     "text": [
      "tensor([[[-0.0481,  1.2260,  0.0481,  ...,  0.3650,  0.7321, -0.1770],\n",
      "         [-0.9288,  0.1224,  1.4795,  ..., -0.4458,  0.2032,  1.2282]],\n",
      "\n",
      "        [[ 0.4847,  0.7729, -1.0633,  ...,  0.4389,  0.2009, -0.8515],\n",
      "         [-0.5808,  0.4891,  0.9498,  ...,  0.3188,  0.4847,  0.4913]],\n",
      "\n",
      "        [[ 0.3667,  1.3447,  0.4300,  ...,  0.5719,  1.1308, -0.0327],\n",
      "         [-0.9343,  0.4038,  1.2268,  ..., -0.6112,  0.6876,  1.3818]],\n",
      "\n",
      "        ...,\n",
      "\n",
      "        [[-0.7382, -0.7514,  0.1171,  ..., -1.3183, -0.7209, -0.4505],\n",
      "         [ 0.7576, -0.0312, -1.1055,  ..., -0.3535, -0.6287,  0.0062]],\n",
      "\n",
      "        [[-0.0416, -0.0433, -0.0552,  ...,  0.6353, -0.1170, -1.2493],\n",
      "         [-0.0683, -0.0760, -0.0059,  ..., -0.1918,  0.8444,  0.0938]],\n",
      "\n",
      "        [[-0.1019, -0.3426,  0.0021,  ..., -0.5681,  0.3029,  0.5639],\n",
      "         [-0.1738, -0.1800, -0.7816,  ..., -0.7446, -1.0251, -0.2882]]])\n"
     ]
    }
   ],
   "source": [
    "from steves_utils.transforms import get_average_magnitude, get_average_power\n",
    "\n",
    "print(set([u for u,_ in val_original_source]))\n",
    "print(set([u for u,_ in val_original_target]))\n",
    "\n",
    "s_x, s_y, q_x, q_y, _ = next(iter(train_processed_source))\n",
    "print(s_x)\n",
    "\n",
    "# for ds in [\n",
    "#     train_processed_source,\n",
    "#     val_processed_source,\n",
    "#     test_processed_source,\n",
    "#     train_processed_target,\n",
    "#     val_processed_target,\n",
    "#     test_processed_target\n",
    "# ]:\n",
    "#     for s_x, s_y, q_x, q_y, _ in ds:\n",
    "#         for X in (s_x, q_x):\n",
    "#             for x in X:\n",
    "#                 assert np.isclose(get_average_magnitude(x.numpy()), 1.0)\n",
    "#                 assert np.isclose(get_average_power(x.numpy()), 1.0)\n",
    "                "
   ]
  },
  {
   "cell_type": "code",
   "execution_count": 21,
   "id": "bbdacba1",
   "metadata": {
    "execution": {
     "iopub.execute_input": "2022-03-22T15:30:39.342510Z",
     "iopub.status.busy": "2022-03-22T15:30:39.341917Z",
     "iopub.status.idle": "2022-03-22T15:30:39.567229Z",
     "shell.execute_reply": "2022-03-22T15:30:39.567899Z"
    },
    "papermill": {
     "duration": 0.252644,
     "end_time": "2022-03-22T15:30:39.568132",
     "exception": false,
     "start_time": "2022-03-22T15:30:39.315488",
     "status": "completed"
    },
    "tags": []
   },
   "outputs": [
    {
     "name": "stdout",
     "output_type": "stream",
     "text": [
      "(2, 256)\n"
     ]
    }
   ],
   "source": [
    "###################################\n",
    "# Build the model\n",
    "###################################\n",
    "# easfsl only wants a tuple for the shape\n",
    "model = Steves_Prototypical_Network(x_net, device=p.device, x_shape=tuple(p.x_shape))\n",
    "optimizer = Adam(params=model.parameters(), lr=p.lr)"
   ]
  },
  {
   "cell_type": "code",
   "execution_count": 22,
   "id": "22b39ac5",
   "metadata": {
    "execution": {
     "iopub.execute_input": "2022-03-22T15:30:39.623285Z",
     "iopub.status.busy": "2022-03-22T15:30:39.622904Z",
     "iopub.status.idle": "2022-03-22T15:51:55.085907Z",
     "shell.execute_reply": "2022-03-22T15:51:55.085565Z"
    },
    "papermill": {
     "duration": 1275.490683,
     "end_time": "2022-03-22T15:51:55.085988",
     "exception": false,
     "start_time": "2022-03-22T15:30:39.595305",
     "status": "completed"
    },
    "tags": []
   },
   "outputs": [
    {
     "name": "stdout",
     "output_type": "stream",
     "text": [
      "epoch: 1, [batch: 1 / 6866], examples_per_second: 31.8469, train_label_loss: 2.6021, \n"
     ]
    },
    {
     "name": "stdout",
     "output_type": "stream",
     "text": [
      "epoch: 1, [batch: 687 / 6866], examples_per_second: 3805.6071, train_label_loss: 0.6548, \n"
     ]
    },
    {
     "name": "stdout",
     "output_type": "stream",
     "text": [
      "epoch: 1, [batch: 1374 / 6866], examples_per_second: 3944.6591, train_label_loss: 0.2896, \n"
     ]
    },
    {
     "name": "stdout",
     "output_type": "stream",
     "text": [
      "epoch: 1, [batch: 2060 / 6866], examples_per_second: 3866.2289, train_label_loss: 0.0433, \n"
     ]
    },
    {
     "name": "stdout",
     "output_type": "stream",
     "text": [
      "epoch: 1, [batch: 2747 / 6866], examples_per_second: 3839.4321, train_label_loss: 0.1530, \n"
     ]
    },
    {
     "name": "stdout",
     "output_type": "stream",
     "text": [
      "epoch: 1, [batch: 3433 / 6866], examples_per_second: 3071.8928, train_label_loss: 0.0492, \n"
     ]
    },
    {
     "name": "stdout",
     "output_type": "stream",
     "text": [
      "epoch: 1, [batch: 4120 / 6866], examples_per_second: 2913.8263, train_label_loss: 0.0132, \n"
     ]
    },
    {
     "name": "stdout",
     "output_type": "stream",
     "text": [
      "epoch: 1, [batch: 4806 / 6866], examples_per_second: 2878.6397, train_label_loss: 0.0453, \n"
     ]
    },
    {
     "name": "stdout",
     "output_type": "stream",
     "text": [
      "epoch: 1, [batch: 5493 / 6866], examples_per_second: 2949.8006, train_label_loss: 0.0146, \n"
     ]
    },
    {
     "name": "stdout",
     "output_type": "stream",
     "text": [
      "epoch: 1, [batch: 6179 / 6866], examples_per_second: 2945.8809, train_label_loss: 0.0069, \n"
     ]
    },
    {
     "name": "stdout",
     "output_type": "stream",
     "text": [
      "=============================================================\n",
      "epoch: 1, source_val_acc_label: 0.9616, target_val_acc_label: 0.1187, source_val_label_loss: 0.1765, target_val_label_loss: 2.6959, \n",
      "=============================================================\n"
     ]
    },
    {
     "name": "stdout",
     "output_type": "stream",
     "text": [
      "New best\n"
     ]
    },
    {
     "name": "stdout",
     "output_type": "stream",
     "text": [
      "epoch: 2, [batch: 1 / 6837], examples_per_second: 2.6896, train_label_loss: 0.0733, \n"
     ]
    },
    {
     "name": "stdout",
     "output_type": "stream",
     "text": [
      "epoch: 2, [batch: 684 / 6837], examples_per_second: 2921.6779, train_label_loss: 0.1516, \n"
     ]
    },
    {
     "name": "stdout",
     "output_type": "stream",
     "text": [
      "epoch: 2, [batch: 1368 / 6837], examples_per_second: 3226.6358, train_label_loss: 0.1685, \n"
     ]
    },
    {
     "name": "stdout",
     "output_type": "stream",
     "text": [
      "epoch: 2, [batch: 2051 / 6837], examples_per_second: 3442.1396, train_label_loss: 0.1183, \n"
     ]
    },
    {
     "name": "stdout",
     "output_type": "stream",
     "text": [
      "epoch: 2, [batch: 2735 / 6837], examples_per_second: 3536.4754, train_label_loss: 0.1962, \n"
     ]
    },
    {
     "name": "stdout",
     "output_type": "stream",
     "text": [
      "epoch: 2, [batch: 3419 / 6837], examples_per_second: 2992.0286, train_label_loss: 0.0330, \n"
     ]
    },
    {
     "name": "stdout",
     "output_type": "stream",
     "text": [
      "epoch: 2, [batch: 4102 / 6837], examples_per_second: 3034.0321, train_label_loss: 0.0024, \n"
     ]
    },
    {
     "name": "stdout",
     "output_type": "stream",
     "text": [
      "epoch: 2, [batch: 4786 / 6837], examples_per_second: 2966.7221, train_label_loss: 0.1185, \n"
     ]
    },
    {
     "name": "stdout",
     "output_type": "stream",
     "text": [
      "epoch: 2, [batch: 5469 / 6837], examples_per_second: 2968.7077, train_label_loss: 0.5194, \n"
     ]
    },
    {
     "name": "stdout",
     "output_type": "stream",
     "text": [
      "epoch: 2, [batch: 6153 / 6837], examples_per_second: 2969.5398, train_label_loss: 0.1181, \n"
     ]
    },
    {
     "name": "stdout",
     "output_type": "stream",
     "text": [
      "=============================================================\n",
      "epoch: 2, source_val_acc_label: 0.9683, target_val_acc_label: 0.1188, source_val_label_loss: 0.1378, target_val_label_loss: 2.6664, \n",
      "=============================================================\n"
     ]
    },
    {
     "name": "stdout",
     "output_type": "stream",
     "text": [
      "New best\n"
     ]
    },
    {
     "name": "stdout",
     "output_type": "stream",
     "text": [
      "epoch: 3, [batch: 1 / 6844], examples_per_second: 2.7360, train_label_loss: 0.3218, \n"
     ]
    },
    {
     "name": "stdout",
     "output_type": "stream",
     "text": [
      "epoch: 3, [batch: 685 / 6844], examples_per_second: 2916.0867, train_label_loss: 0.0085, \n"
     ]
    },
    {
     "name": "stdout",
     "output_type": "stream",
     "text": [
      "epoch: 3, [batch: 1369 / 6844], examples_per_second: 3414.1687, train_label_loss: 0.0580, \n"
     ]
    },
    {
     "name": "stdout",
     "output_type": "stream",
     "text": [
      "epoch: 3, [batch: 2053 / 6844], examples_per_second: 3401.7935, train_label_loss: 0.1594, \n"
     ]
    },
    {
     "name": "stdout",
     "output_type": "stream",
     "text": [
      "epoch: 3, [batch: 2738 / 6844], examples_per_second: 3256.2312, train_label_loss: 0.0068, \n"
     ]
    },
    {
     "name": "stdout",
     "output_type": "stream",
     "text": [
      "epoch: 3, [batch: 3422 / 6844], examples_per_second: 2963.8068, train_label_loss: 0.1327, \n"
     ]
    },
    {
     "name": "stdout",
     "output_type": "stream",
     "text": [
      "epoch: 3, [batch: 4106 / 6844], examples_per_second: 3058.9644, train_label_loss: 0.0612, \n"
     ]
    },
    {
     "name": "stdout",
     "output_type": "stream",
     "text": [
      "epoch: 3, [batch: 4791 / 6844], examples_per_second: 3392.3974, train_label_loss: 0.2510, \n"
     ]
    },
    {
     "name": "stdout",
     "output_type": "stream",
     "text": [
      "epoch: 3, [batch: 5475 / 6844], examples_per_second: 3428.2078, train_label_loss: 0.0016, \n"
     ]
    },
    {
     "name": "stdout",
     "output_type": "stream",
     "text": [
      "epoch: 3, [batch: 6159 / 6844], examples_per_second: 3421.4923, train_label_loss: 0.1702, \n"
     ]
    },
    {
     "name": "stdout",
     "output_type": "stream",
     "text": [
      "=============================================================\n",
      "epoch: 3, source_val_acc_label: 0.9726, target_val_acc_label: 0.1064, source_val_label_loss: 0.1211, target_val_label_loss: 2.7211, \n",
      "=============================================================\n"
     ]
    },
    {
     "name": "stdout",
     "output_type": "stream",
     "text": [
      "epoch: 4, [batch: 1 / 6836], examples_per_second: 3.1975, train_label_loss: 0.0849, \n"
     ]
    },
    {
     "name": "stdout",
     "output_type": "stream",
     "text": [
      "epoch: 4, [batch: 684 / 6836], examples_per_second: 4007.4486, train_label_loss: 0.1570, \n"
     ]
    },
    {
     "name": "stdout",
     "output_type": "stream",
     "text": [
      "epoch: 4, [batch: 1368 / 6836], examples_per_second: 3963.4641, train_label_loss: 0.0471, \n"
     ]
    },
    {
     "name": "stdout",
     "output_type": "stream",
     "text": [
      "epoch: 4, [batch: 2051 / 6836], examples_per_second: 3568.0155, train_label_loss: 0.1855, \n"
     ]
    },
    {
     "name": "stdout",
     "output_type": "stream",
     "text": [
      "epoch: 4, [batch: 2735 / 6836], examples_per_second: 2977.3703, train_label_loss: 0.0540, \n"
     ]
    },
    {
     "name": "stdout",
     "output_type": "stream",
     "text": [
      "epoch: 4, [batch: 3418 / 6836], examples_per_second: 3022.5575, train_label_loss: 0.3687, \n"
     ]
    },
    {
     "name": "stdout",
     "output_type": "stream",
     "text": [
      "epoch: 4, [batch: 4102 / 6836], examples_per_second: 3012.8348, train_label_loss: 0.0027, \n"
     ]
    },
    {
     "name": "stdout",
     "output_type": "stream",
     "text": [
      "epoch: 4, [batch: 4785 / 6836], examples_per_second: 3010.4980, train_label_loss: 0.2029, \n"
     ]
    },
    {
     "name": "stdout",
     "output_type": "stream",
     "text": [
      "epoch: 4, [batch: 5469 / 6836], examples_per_second: 3034.7526, train_label_loss: 0.2280, \n"
     ]
    },
    {
     "name": "stdout",
     "output_type": "stream",
     "text": [
      "epoch: 4, [batch: 6152 / 6836], examples_per_second: 3032.1150, train_label_loss: 0.0840, \n"
     ]
    },
    {
     "name": "stdout",
     "output_type": "stream",
     "text": [
      "=============================================================\n",
      "epoch: 4, source_val_acc_label: 0.9731, target_val_acc_label: 0.1027, source_val_label_loss: 0.1223, target_val_label_loss: 2.7475, \n",
      "=============================================================\n"
     ]
    },
    {
     "name": "stdout",
     "output_type": "stream",
     "text": [
      "epoch: 5, [batch: 1 / 6857], examples_per_second: 2.7679, train_label_loss: 0.0980, \n"
     ]
    },
    {
     "name": "stdout",
     "output_type": "stream",
     "text": [
      "epoch: 5, [batch: 686 / 6857], examples_per_second: 3232.6999, train_label_loss: 0.1397, \n"
     ]
    },
    {
     "name": "stdout",
     "output_type": "stream",
     "text": [
      "epoch: 5, [batch: 1372 / 6857], examples_per_second: 3415.9792, train_label_loss: 0.0584, \n"
     ]
    },
    {
     "name": "stdout",
     "output_type": "stream",
     "text": [
      "epoch: 5, [batch: 2057 / 6857], examples_per_second: 3400.9455, train_label_loss: 0.0065, \n"
     ]
    },
    {
     "name": "stdout",
     "output_type": "stream",
     "text": [
      "epoch: 5, [batch: 2743 / 6857], examples_per_second: 2919.6738, train_label_loss: 0.0267, \n"
     ]
    },
    {
     "name": "stdout",
     "output_type": "stream",
     "text": [
      "epoch: 5, [batch: 3429 / 6857], examples_per_second: 2963.1312, train_label_loss: 0.0689, \n"
     ]
    },
    {
     "name": "stdout",
     "output_type": "stream",
     "text": [
      "epoch: 5, [batch: 4114 / 6857], examples_per_second: 2996.7327, train_label_loss: 0.1479, \n"
     ]
    },
    {
     "name": "stdout",
     "output_type": "stream",
     "text": [
      "epoch: 5, [batch: 4800 / 6857], examples_per_second: 2939.3328, train_label_loss: 0.0915, \n"
     ]
    },
    {
     "name": "stdout",
     "output_type": "stream",
     "text": [
      "epoch: 5, [batch: 5485 / 6857], examples_per_second: 2956.9577, train_label_loss: 0.1405, \n"
     ]
    },
    {
     "name": "stdout",
     "output_type": "stream",
     "text": [
      "epoch: 5, [batch: 6171 / 6857], examples_per_second: 2972.7035, train_label_loss: 0.0765, \n"
     ]
    },
    {
     "name": "stdout",
     "output_type": "stream",
     "text": [
      "=============================================================\n",
      "epoch: 5, source_val_acc_label: 0.9728, target_val_acc_label: 0.0959, source_val_label_loss: 0.1294, target_val_label_loss: 2.8139, \n",
      "=============================================================\n"
     ]
    },
    {
     "name": "stdout",
     "output_type": "stream",
     "text": [
      "epoch: 6, [batch: 1 / 6831], examples_per_second: 2.7304, train_label_loss: 0.0401, \n"
     ]
    },
    {
     "name": "stdout",
     "output_type": "stream",
     "text": [
      "epoch: 6, [batch: 684 / 6831], examples_per_second: 3413.3068, train_label_loss: 0.0058, \n"
     ]
    },
    {
     "name": "stdout",
     "output_type": "stream",
     "text": [
      "epoch: 6, [batch: 1367 / 6831], examples_per_second: 3430.2345, train_label_loss: 0.0286, \n"
     ]
    },
    {
     "name": "stdout",
     "output_type": "stream",
     "text": [
      "epoch: 6, [batch: 2050 / 6831], examples_per_second: 3091.6038, train_label_loss: 0.0024, \n"
     ]
    },
    {
     "name": "stdout",
     "output_type": "stream",
     "text": [
      "epoch: 6, [batch: 2733 / 6831], examples_per_second: 2975.6740, train_label_loss: 0.0022, \n"
     ]
    },
    {
     "name": "stdout",
     "output_type": "stream",
     "text": [
      "epoch: 6, [batch: 3416 / 6831], examples_per_second: 2965.0564, train_label_loss: 0.0351, \n"
     ]
    },
    {
     "name": "stdout",
     "output_type": "stream",
     "text": [
      "epoch: 6, [batch: 4099 / 6831], examples_per_second: 2933.3682, train_label_loss: 0.0647, \n"
     ]
    },
    {
     "name": "stdout",
     "output_type": "stream",
     "text": [
      "epoch: 6, [batch: 4782 / 6831], examples_per_second: 2961.1218, train_label_loss: 0.0010, \n"
     ]
    },
    {
     "name": "stdout",
     "output_type": "stream",
     "text": [
      "epoch: 6, [batch: 5465 / 6831], examples_per_second: 2938.6144, train_label_loss: 0.3366, \n"
     ]
    },
    {
     "name": "stdout",
     "output_type": "stream",
     "text": [
      "epoch: 6, [batch: 6148 / 6831], examples_per_second: 3003.7764, train_label_loss: 0.0095, \n"
     ]
    },
    {
     "name": "stdout",
     "output_type": "stream",
     "text": [
      "=============================================================\n",
      "epoch: 6, source_val_acc_label: 0.9730, target_val_acc_label: 0.0968, source_val_label_loss: 0.1265, target_val_label_loss: 2.8435, \n",
      "=============================================================\n"
     ]
    },
    {
     "name": "stdout",
     "output_type": "stream",
     "text": [
      "Patience (3) exhausted\n"
     ]
    }
   ],
   "source": [
    "###################################\n",
    "# train\n",
    "###################################\n",
    "jig = PTN_Train_Eval_Test_Jig(model, p.BEST_MODEL_PATH, p.device)\n",
    "\n",
    "jig.train(\n",
    "    train_iterable=datasets.source.processed.train,\n",
    "    source_val_iterable=datasets.source.processed.val,\n",
    "    target_val_iterable=datasets.target.processed.val,\n",
    "    num_epochs=p.n_epoch,\n",
    "    num_logs_per_epoch=p.NUM_LOGS_PER_EPOCH,\n",
    "    patience=p.patience,\n",
    "    optimizer=optimizer,\n",
    "    criteria_for_best=p.criteria_for_best,\n",
    ")"
   ]
  },
  {
   "cell_type": "code",
   "execution_count": 23,
   "id": "31e8fabf",
   "metadata": {
    "execution": {
     "iopub.execute_input": "2022-03-22T15:51:55.174389Z",
     "iopub.status.busy": "2022-03-22T15:51:55.173835Z",
     "iopub.status.idle": "2022-03-22T15:51:55.206291Z",
     "shell.execute_reply": "2022-03-22T15:51:55.205578Z"
    },
    "papermill": {
     "duration": 0.079192,
     "end_time": "2022-03-22T15:51:55.206444",
     "exception": false,
     "start_time": "2022-03-22T15:51:55.127252",
     "status": "completed"
    },
    "tags": []
   },
   "outputs": [],
   "source": [
    "total_experiment_time_secs = time.time() - start_time_secs"
   ]
  },
  {
   "cell_type": "code",
   "execution_count": 24,
   "id": "87b9595b",
   "metadata": {
    "execution": {
     "iopub.execute_input": "2022-03-22T15:51:55.298884Z",
     "iopub.status.busy": "2022-03-22T15:51:55.298490Z",
     "iopub.status.idle": "2022-03-22T15:55:32.024614Z",
     "shell.execute_reply": "2022-03-22T15:55:32.025347Z"
    },
    "papermill": {
     "duration": 216.773517,
     "end_time": "2022-03-22T15:55:32.025592",
     "exception": false,
     "start_time": "2022-03-22T15:51:55.252075",
     "status": "completed"
    },
    "tags": []
   },
   "outputs": [],
   "source": [
    "###################################\n",
    "# Evaluate the model\n",
    "###################################\n",
    "source_test_label_accuracy, source_test_label_loss = jig.test(datasets.source.processed.test)\n",
    "target_test_label_accuracy, target_test_label_loss = jig.test(datasets.target.processed.test)\n",
    "\n",
    "source_val_label_accuracy, source_val_label_loss = jig.test(datasets.source.processed.val)\n",
    "target_val_label_accuracy, target_val_label_loss = jig.test(datasets.target.processed.val)\n",
    "\n",
    "history = jig.get_history()\n",
    "\n",
    "total_epochs_trained = len(history[\"epoch_indices\"])\n",
    "\n",
    "val_dl = Iterable_Aggregator((datasets.source.original.val,datasets.target.original.val))\n",
    "\n",
    "confusion = ptn_confusion_by_domain_over_dataloader(model, p.device, val_dl)\n",
    "per_domain_accuracy = per_domain_accuracy_from_confusion(confusion)\n",
    "\n",
    "# Add a key to per_domain_accuracy for if it was a source domain\n",
    "for domain, accuracy in per_domain_accuracy.items():\n",
    "    per_domain_accuracy[domain] = {\n",
    "        \"accuracy\": accuracy,\n",
    "        \"source?\": domain in p.domains_source\n",
    "    }\n",
    "\n",
    "# Do an independent accuracy assesment JUST TO BE SURE!\n",
    "# _source_test_label_accuracy = independent_accuracy_assesment(model, datasets.source.processed.test, p.device)\n",
    "# _target_test_label_accuracy = independent_accuracy_assesment(model, datasets.target.processed.test, p.device)\n",
    "# _source_val_label_accuracy = independent_accuracy_assesment(model, datasets.source.processed.val, p.device)\n",
    "# _target_val_label_accuracy = independent_accuracy_assesment(model, datasets.target.processed.val, p.device)\n",
    "\n",
    "# assert(_source_test_label_accuracy == source_test_label_accuracy)\n",
    "# assert(_target_test_label_accuracy == target_test_label_accuracy)\n",
    "# assert(_source_val_label_accuracy == source_val_label_accuracy)\n",
    "# assert(_target_val_label_accuracy == target_val_label_accuracy)\n",
    "\n",
    "experiment = {\n",
    "    \"experiment_name\": p.experiment_name,\n",
    "    \"parameters\": dict(p),\n",
    "    \"results\": {\n",
    "        \"source_test_label_accuracy\": source_test_label_accuracy,\n",
    "        \"source_test_label_loss\": source_test_label_loss,\n",
    "        \"target_test_label_accuracy\": target_test_label_accuracy,\n",
    "        \"target_test_label_loss\": target_test_label_loss,\n",
    "        \"source_val_label_accuracy\": source_val_label_accuracy,\n",
    "        \"source_val_label_loss\": source_val_label_loss,\n",
    "        \"target_val_label_accuracy\": target_val_label_accuracy,\n",
    "        \"target_val_label_loss\": target_val_label_loss,\n",
    "        \"total_epochs_trained\": total_epochs_trained,\n",
    "        \"total_experiment_time_secs\": total_experiment_time_secs,\n",
    "        \"confusion\": confusion,\n",
    "        \"per_domain_accuracy\": per_domain_accuracy,\n",
    "    },\n",
    "    \"history\": history,\n",
    "    \"dataset_metrics\": get_dataset_metrics(datasets, \"ptn\"),\n",
    "}"
   ]
  },
  {
   "cell_type": "code",
   "execution_count": 25,
   "id": "54a21829",
   "metadata": {
    "execution": {
     "iopub.execute_input": "2022-03-22T15:55:32.119309Z",
     "iopub.status.busy": "2022-03-22T15:55:32.118925Z",
     "iopub.status.idle": "2022-03-22T15:55:32.335996Z",
     "shell.execute_reply": "2022-03-22T15:55:32.336697Z"
    },
    "papermill": {
     "duration": 0.263341,
     "end_time": "2022-03-22T15:55:32.336927",
     "exception": false,
     "start_time": "2022-03-22T15:55:32.073586",
     "status": "completed"
    },
    "tags": []
   },
   "outputs": [
    {
     "data": {
      "image/png": "[encoded data removed]",
      "text/plain": [
       "<Figure size 1080x504 with 1 Axes>"
      ]
     },
     "metadata": {
      "needs_background": "light"
     },
     "output_type": "display_data"
    }
   ],
   "source": [
    "ax = get_loss_curve(experiment)\n",
    "plt.show()"
   ]
  },
  {
   "cell_type": "code",
   "execution_count": 26,
   "id": "fd8a0f60",
   "metadata": {
    "execution": {
     "iopub.execute_input": "2022-03-22T15:55:32.429141Z",
     "iopub.status.busy": "2022-03-22T15:55:32.428746Z",
     "iopub.status.idle": "2022-03-22T15:55:32.786070Z",
     "shell.execute_reply": "2022-03-22T15:55:32.786811Z"
    },
    "papermill": {
     "duration": 0.402303,
     "end_time": "2022-03-22T15:55:32.787115",
     "exception": false,
     "start_time": "2022-03-22T15:55:32.384812",
     "status": "completed"
    },
    "tags": []
   },
   "outputs": [
    {
     "data": {
      "text/plain": [
       "<AxesSubplot:title={'center':'Results'}>"
      ]
     },
     "execution_count": 26,
     "metadata": {},
     "output_type": "execute_result"
    },
    {
     "data": {
      "image/png": "[encoded data removed]",
      "text/plain": [
       "<Figure size 1080x504 with 1 Axes>"
      ]
     },
     "metadata": {
      "needs_background": "light"
     },
     "output_type": "display_data"
    }
   ],
   "source": [
    "get_results_table(experiment)"
   ]
  },
  {
   "cell_type": "code",
   "execution_count": 27,
   "id": "cf8dc689",
   "metadata": {
    "execution": {
     "iopub.execute_input": "2022-03-22T15:55:32.893438Z",
     "iopub.status.busy": "2022-03-22T15:55:32.893039Z",
     "iopub.status.idle": "2022-03-22T15:55:33.145416Z",
     "shell.execute_reply": "2022-03-22T15:55:33.146101Z"
    },
    "papermill": {
     "duration": 0.303941,
     "end_time": "2022-03-22T15:55:33.146326",
     "exception": false,
     "start_time": "2022-03-22T15:55:32.842385",
     "status": "completed"
    },
    "tags": []
   },
   "outputs": [
    {
     "data": {
      "text/plain": [
       "<AxesSubplot:title={'center':'Per Domain Validation Accuracy'}, xlabel='domain'>"
      ]
     },
     "execution_count": 27,
     "metadata": {},
     "output_type": "execute_result"
    },
    {
     "data": {
      "image/png": "[encoded data removed]",
      "text/plain": [
       "<Figure size 1080x504 with 1 Axes>"
      ]
     },
     "metadata": {
      "needs_background": "light"
     },
     "output_type": "display_data"
    }
   ],
   "source": [
    "get_domain_accuracies(experiment)"
   ]
  },
  {
   "cell_type": "code",
   "execution_count": 28,
   "id": "a74ae082",
   "metadata": {
    "execution": {
     "iopub.execute_input": "2022-03-22T15:55:33.251381Z",
     "iopub.status.busy": "2022-03-22T15:55:33.250985Z",
     "iopub.status.idle": "2022-03-22T15:55:33.277921Z",
     "shell.execute_reply": "2022-03-22T15:55:33.276952Z"
    },
    "papermill": {
     "duration": 0.079099,
     "end_time": "2022-03-22T15:55:33.278129",
     "exception": false,
     "start_time": "2022-03-22T15:55:33.199030",
     "status": "completed"
    },
    "tags": []
   },
   "outputs": [
    {
     "name": "stdout",
     "output_type": "stream",
     "text": [
      "Source Test Label Accuracy: 0.9704592363261094 Target Test Label Accuracy: 0.11653645833333333\n",
      "Source Val Label Accuracy: 0.9682534427966102 Target Val Label Accuracy: 0.11878255208333334\n"
     ]
    }
   ],
   "source": [
    "print(\"Source Test Label Accuracy:\", experiment[\"results\"][\"source_test_label_accuracy\"], \"Target Test Label Accuracy:\", experiment[\"results\"][\"target_test_label_accuracy\"])\n",
    "print(\"Source Val Label Accuracy:\", experiment[\"results\"][\"source_val_label_accuracy\"], \"Target Val Label Accuracy:\", experiment[\"results\"][\"target_val_label_accuracy\"])"
   ]
  },
  {
   "cell_type": "code",
   "execution_count": 29,
   "id": "dacca602",
   "metadata": {
    "execution": {
     "iopub.execute_input": "2022-03-22T15:55:33.387057Z",
     "iopub.status.busy": "2022-03-22T15:55:33.386481Z",
     "iopub.status.idle": "2022-03-22T15:55:33.415469Z",
     "shell.execute_reply": "2022-03-22T15:55:33.416190Z"
    },
    "papermill": {
     "duration": 0.077617,
     "end_time": "2022-03-22T15:55:33.416406",
     "exception": false,
     "start_time": "2022-03-22T15:55:33.338789",
     "status": "completed"
    },
    "tags": [
     "experiment_json"
    ]
   },
   "outputs": [
    {
     "data": {
      "text/plain": [
       "'{\"experiment_name\": \"tl_1v2:wisig-oracle.run1.limited\", \"parameters\": {\"experiment_name\": \"tl_1v2:wisig-oracle.run1.limited\", \"device\": \"cuda\", \"lr\": 0.0001, \"n_shot\": 3, \"n_query\": 2, \"train_k_factor\": 3, \"val_k_factor\": 2, \"test_k_factor\": 2, \"torch_default_dtype\": \"torch.float32\", \"n_epoch\": 50, \"patience\": 3, \"criteria_for_best\": \"target_accuracy\", \"x_net\": [{\"class\": \"nnReshape\", \"kargs\": {\"shape\": [-1, 1, 2, 256]}}, {\"class\": \"Conv2d\", \"kargs\": {\"in_channels\": 1, \"out_channels\": 256, \"kernel_size\": [1, 7], \"bias\": false, \"padding\": [0, 3]}}, {\"class\": \"ReLU\", \"kargs\": {\"inplace\": true}}, {\"class\": \"BatchNorm2d\", \"kargs\": {\"num_features\": 256}}, {\"class\": \"Conv2d\", \"kargs\": {\"in_channels\": 256, \"out_channels\": 80, \"kernel_size\": [2, 7], \"bias\": true, \"padding\": [0, 3]}}, {\"class\": \"ReLU\", \"kargs\": {\"inplace\": true}}, {\"class\": \"BatchNorm2d\", \"kargs\": {\"num_features\": 80}}, {\"class\": \"Flatten\", \"kargs\": {}}, {\"class\": \"Linear\", \"kargs\": {\"in_features\": 20480, \"out_features\": 256}}, {\"class\": \"ReLU\", \"kargs\": {\"inplace\": true}}, {\"class\": \"BatchNorm1d\", \"kargs\": {\"num_features\": 256}}, {\"class\": \"Linear\", \"kargs\": {\"in_features\": 256, \"out_features\": 256}}], \"NUM_LOGS_PER_EPOCH\": 10, \"BEST_MODEL_PATH\": \"./best_model.pth\", \"n_way\": 16, \"datasets\": [{\"labels\": [\"1-10\", \"1-12\", \"1-14\", \"1-16\", \"1-18\", \"1-19\", \"1-8\", \"10-11\", \"10-17\", \"10-4\", \"10-7\", \"11-1\", \"11-10\", \"11-19\", \"11-20\", \"11-4\", \"11-7\", \"12-19\", \"12-20\", \"12-7\", \"13-14\", \"13-18\", \"13-19\", \"13-20\", \"13-3\", \"13-7\", \"14-10\", \"14-11\", \"14-12\", \"14-13\", \"14-14\", \"14-19\", \"14-20\", \"14-7\", \"14-8\", \"14-9\", \"15-1\", \"15-19\", \"15-6\", \"16-1\", \"16-16\", \"16-19\", \"16-20\", \"17-10\", \"17-11\", \"18-1\", \"18-10\", \"18-11\", \"18-12\", \"18-13\", \"18-14\", \"18-15\", \"18-16\", \"18-17\", \"18-19\", \"18-2\", \"18-20\", \"18-4\", \"18-5\", \"18-7\", \"18-8\", \"18-9\", \"19-1\", \"19-10\", \"19-11\", \"19-12\", \"19-13\", \"19-14\", \"19-15\", \"19-19\", \"19-2\", \"19-20\", \"19-3\", \"19-4\", \"19-6\", \"19-7\", \"19-8\", \"19-9\", \"2-1\", \"2-13\", \"2-15\", \"2-3\", \"2-4\", \"2-5\", \"2-6\", \"2-7\", \"2-8\", \"20-1\", \"20-12\", \"20-14\", \"20-15\", \"20-16\", \"20-18\", \"20-19\", \"20-20\", \"20-3\", \"20-4\", \"20-5\", \"20-7\", \"20-8\", \"3-1\", \"3-13\", \"3-18\", \"3-2\", \"3-8\", \"4-1\", \"4-10\", \"4-11\", \"5-1\", \"5-5\", \"6-1\", \"6-15\", \"6-6\", \"7-10\", \"7-11\", \"7-12\", \"7-13\", \"7-14\", \"7-7\", \"7-8\", \"7-9\", \"8-1\", \"8-13\", \"8-14\", \"8-18\", \"8-20\", \"8-3\", \"8-8\", \"9-1\", \"9-7\"], \"domains\": [1, 2, 3, 4], \"num_examples_per_domain_per_label\": -1, \"pickle_path\": \"/root/csc500-main/datasets/wisig.node3-19.stratified_ds.2022A.pkl\", \"source_or_target_dataset\": \"source\", \"x_transforms\": [\"unit_power\"], \"episode_transforms\": [], \"domain_prefix\": \"Wisig_\"}, {\"labels\": [\"3123D52\", \"3123D65\", \"3123D79\", \"3123D80\", \"3123D54\", \"3123D70\", \"3123D7B\", \"3123D89\", \"3123D58\", \"3123D76\", \"3123D7D\", \"3123EFE\", \"3123D64\", \"3123D78\", \"3123D7E\", \"3124E4A\"], \"domains\": [32, 38, 8, 44, 14, 50, 20, 26], \"num_examples_per_domain_per_label\": 2000, \"pickle_path\": \"/root/csc500-main/datasets/oracle.Run1_10kExamples_stratified_ds.2022A.pkl\", \"source_or_target_dataset\": \"target\", \"x_transforms\": [\"unit_power\"], \"episode_transforms\": [], \"domain_prefix\": \"ORACLE.run1\"}], \"dataset_seed\": 1337, \"seed\": 1337, \"x_shape\": [2, 256], \"domains_source\": [\"Wisig_1\", \"Wisig_2\", \"Wisig_3\", \"Wisig_4\"], \"domains_target\": [\"ORACLE.run132\", \"ORACLE.run138\", \"ORACLE.run18\", \"ORACLE.run144\", \"ORACLE.run114\", \"ORACLE.run150\", \"ORACLE.run120\", \"ORACLE.run126\"]}, \"results\": {\"source_test_label_accuracy\": 0.9704592363261094, \"source_test_label_loss\": 0.1280820369720459, \"target_test_label_accuracy\": 0.11653645833333333, \"target_test_label_loss\": 2.671304225921631, \"source_val_label_accuracy\": 0.9682534427966102, \"source_val_label_loss\": 0.13780991733074188, \"target_val_label_accuracy\": 0.11878255208333334, \"target_val_label_loss\": 2.666403293609619, \"total_epochs_trained\": 6, \"total_experiment_time_secs\": 1338.9431703090668, \"confusion\": {\"Wisig_3\": {\"109\": {\"109\": 127, \"127\": 1}, \"127\": {\"127\": 126, \"30\": 1, \"69\": 1}, \"14\": {\"14\": 80}, \"7\": {\"7\": 111, \"111\": 1}, \"129\": {\"129\": 32}, \"57\": {\"57\": 20}, \"84\": {\"84\": 107, \"92\": 1}, \"114\": {\"114\": 121, \"29\": 1, \"69\": 1, \"127\": 1}, \"44\": {\"44\": 71, \"113\": 1}, \"21\": {\"21\": 46, \"101\": 1, \"73\": 1}, \"46\": {\"46\": 16}, \"100\": {\"100\": 16}, \"63\": {\"63\": 15, \"122\": 1}, \"24\": {\"24\": 48}, \"107\": {\"107\": 117, \"62\": 1}, \"35\": {\"35\": 11, \"49\": 1}, \"81\": {\"81\": 32}, \"64\": {\"64\": 20}, \"59\": {\"59\": 12}, \"33\": {\"33\": 113, \"102\": 1}, \"34\": {\"34\": 28, \"14\": 1, \"77\": 1, \"103\": 1, \"32\": 1}, \"36\": {\"36\": 116, \"27\": 1, \"98\": 1, \"24\": 1, \"127\": 1}, \"79\": {\"79\": 12}, \"80\": {\"80\": 16}, \"77\": {\"77\": 15, \"59\": 1}, \"22\": {\"22\": 16}, \"124\": {\"124\": 122, \"16\": 1, \"32\": 1}, \"2\": {\"2\": 27, \"26\": 1}, \"87\": {\"87\": 111, \"30\": 1}, \"105\": {\"105\": 122}, \"95\": {\"95\": 32}, \"43\": {\"43\": 50, \"21\": 1, \"122\": 1, \"102\": 1, \"69\": 1, \"78\": 1, \"87\": 1}, \"56\": {\"56\": 12}, \"18\": {\"18\": 121, \"110\": 1, \"21\": 1, \"84\": 1}, \"85\": {\"85\": 36}, \"113\": {\"113\": 120}, \"97\": {\"97\": 18, \"27\": 1, \"13\": 1}, \"86\": {\"86\": 26, \"84\": 1, \"56\": 1}, \"128\": {\"128\": 31, \"125\": 1}, \"123\": {\"123\": 16}, \"8\": {\"8\": 130}, \"110\": {\"110\": 80, \"129\": 1, \"17\": 2, \"78\": 1, \"70\": 1, \"44\": 1, \"7\": 2, \"101\": 1, \"69\": 1}, \"126\": {\"21\": 1, \"126\": 99, \"94\": 1, \"39\": 2, \"105\": 1}, \"42\": {\"42\": 24, \"83\": 1, \"8\": 1, \"112\": 2}, \"96\": {\"96\": 20}, \"83\": {\"83\": 24}, \"54\": {\"54\": 16}, \"65\": {\"65\": 10, \"121\": 1, \"92\": 1}, \"30\": {\"30\": 81, \"36\": 1, \"69\": 1, \"70\": 1}, \"121\": {\"121\": 27, \"80\": 1, \"21\": 1, \"30\": 1, \"0\": 1, \"84\": 1}, \"68\": {\"68\": 15, \"51\": 1}, \"45\": {\"45\": 15, \"63\": 1}, \"48\": {\"48\": 13, \"13\": 2, \"65\": 1}, \"4\": {\"4\": 94, \"39\": 1, \"87\": 1}, \"67\": {\"67\": 16}, \"103\": {\"103\": 15, \"63\": 1}, \"74\": {\"74\": 16}, \"1\": {\"1\": 106, \"84\": 2}, \"61\": {\"61\": 16}, \"101\": {\"101\": 47, \"60\": 1, \"0\": 2, \"127\": 1, \"25\": 1}, \"93\": {\"93\": 138}, \"26\": {\"26\": 130}, \"71\": {\"71\": 66, \"113\": 1, \"18\": 1}, \"15\": {\"15\": 101, \"97\": 1, \"69\": 1, \"40\": 1}, \"55\": {\"55\": 16}, \"104\": {\"104\": 16}, \"112\": {\"112\": 15, \"86\": 1}, \"102\": {\"102\": 122}, \"117\": {\"117\": 112}, \"119\": {\"119\": 16}, \"20\": {\"20\": 15, \"106\": 1}, \"120\": {\"120\": 20}, \"39\": {\"39\": 103, \"18\": 1, \"13\": 1, \"70\": 1, \"24\": 1, \"8\": 1}, \"49\": {\"49\": 22, \"129\": 1, \"8\": 1}, \"53\": {\"53\": 20}, \"92\": {\"92\": 31, \"39\": 1}, \"3\": {\"3\": 116}, \"47\": {\"47\": 12}, \"115\": {\"115\": 16}, \"58\": {\"58\": 16}, \"29\": {\"29\": 32}, \"12\": {\"12\": 104}, \"62\": {\"62\": 116, \"26\": 1, \"90\": 1}, \"11\": {\"11\": 140}, \"72\": {\"72\": 28}, \"98\": {\"98\": 106}, \"122\": {\"122\": 57, \"39\": 1, \"82\": 1, \"21\": 1}, \"17\": {\"122\": 1, \"17\": 9, \"110\": 1, \"63\": 1, \"104\": 2, \"68\": 1, \"40\": 1}, \"94\": {\"94\": 83, \"73\": 1}, \"106\": {\"106\": 89, \"94\": 1}, \"28\": {\"28\": 16}, \"69\": {\"69\": 78, \"87\": 2, \"106\": 1, \"94\": 1, \"70\": 1, \"27\": 1}, \"125\": {\"125\": 112, \"98\": 1, \"62\": 1}, \"19\": {\"19\": 32}, \"41\": {\"41\": 16}, \"60\": {\"60\": 27, \"122\": 1}, \"70\": {\"70\": 66, \"84\": 1, \"111\": 1, \"92\": 1, \"106\": 1, \"110\": 1, \"126\": 1}, \"27\": {\"27\": 93, \"36\": 2, \"7\": 1}, \"10\": {\"10\": 116, \"7\": 1, \"0\": 1}, \"108\": {\"108\": 137, \"111\": 1, \"88\": 1, \"110\": 1}, \"9\": {\"9\": 32}, \"25\": {\"25\": 16}, \"37\": {\"37\": 15, \"73\": 1}, \"0\": {\"0\": 115, \"10\": 1}, \"66\": {\"66\": 16}, \"51\": {\"51\": 16}, \"76\": {\"76\": 16}, \"32\": {\"32\": 29, \"61\": 1, \"14\": 1, \"62\": 1}, \"88\": {\"88\": 108, \"70\": 2, \"29\": 1, \"106\": 1}, \"31\": {\"31\": 20}, \"91\": {\"91\": 22, \"7\": 1, \"103\": 1}, \"90\": {\"90\": 126}, \"13\": {\"13\": 12, \"30\": 1, \"25\": 1, \"44\": 2}, \"50\": {\"50\": 16}, \"78\": {\"78\": 15, \"87\": 1}, \"116\": {\"116\": 22, \"60\": 1, \"82\": 1, \"16\": 1, \"33\": 1, \"120\": 1, \"43\": 1}, \"5\": {\"5\": 111, \"39\": 1}, \"75\": {\"75\": 16}, \"89\": {\"89\": 28}, \"16\": {\"16\": 114, \"3\": 1, \"93\": 1}, \"38\": {\"38\": 15, \"63\": 1}, \"118\": {\"118\": 97, \"30\": 1, \"7\": 2}, \"99\": {\"99\": 35, \"36\": 1}, \"52\": {\"52\": 16}, \"111\": {\"111\": 128}, \"23\": {\"23\": 32}, \"73\": {\"73\": 39, \"30\": 1}, \"82\": {\"82\": 26, \"101\": 1, \"122\": 1}, \"40\": {\"40\": 126, \"94\": 1, \"70\": 1}, \"6\": {\"6\": 30, \"101\": 2}}, \"Wisig_4\": {\"28\": {\"28\": 20}, \"4\": {\"4\": 99, \"63\": 1, \"86\": 2, \"3\": 1, \"110\": 1}, \"72\": {\"72\": 30, \"69\": 1, \"63\": 1}, \"111\": {\"111\": 132, \"24\": 1, \"122\": 1, \"0\": 1, \"10\": 1}, \"108\": {\"108\": 84, \"129\": 1, \"122\": 1, \"27\": 2, \"125\": 1, \"70\": 1, \"39\": 1, \"7\": 1}, \"43\": {\"43\": 114, \"87\": 4, \"4\": 1, \"70\": 1}, \"96\": {\"96\": 20}, \"89\": {\"89\": 29, \"1\": 1, \"7\": 1, \"18\": 1}, \"31\": {\"31\": 16}, \"45\": {\"45\": 16}, \"2\": {\"2\": 25, \"96\": 1, \"26\": 2}, \"114\": {\"114\": 126, \"12\": 1, \"118\": 1}, \"11\": {\"11\": 135, \"98\": 1}, \"12\": {\"12\": 97, \"36\": 1, \"62\": 1, \"72\": 1}, \"14\": {\"14\": 111, \"7\": 1}, \"90\": {\"90\": 153, \"69\": 1}, \"10\": {\"10\": 119, \"7\": 1, \"88\": 1, \"27\": 1}, \"63\": {\"63\": 16}, \"85\": {\"85\": 27, \"1\": 1}, \"64\": {\"64\": 14, \"100\": 1, \"129\": 1}, \"82\": {\"82\": 32}, \"58\": {\"58\": 15, \"27\": 1}, \"3\": {\"3\": 132, \"101\": 1, \"10\": 1, \"21\": 1, \"27\": 1}, \"54\": {\"54\": 16}, \"121\": {\"121\": 30, \"63\": 1, \"44\": 1}, \"42\": {\"42\": 21, \"119\": 1, \"79\": 1, \"49\": 1, \"73\": 2, \"108\": 1, \"8\": 1}, \"98\": {\"98\": 117, \"126\": 1, \"25\": 1, \"121\": 1}, \"123\": {\"123\": 16}, \"91\": {\"91\": 24}, \"83\": {\"112\": 1, \"83\": 25, \"119\": 1, \"5\": 1}, \"99\": {\"99\": 40}, \"112\": {\"112\": 16}, \"119\": {\"119\": 16}, \"70\": {\"70\": 117, \"88\": 4, \"118\": 1, \"59\": 1, \"117\": 1}, \"20\": {\"20\": 15, \"1\": 1}, \"120\": {\"120\": 20}, \"7\": {\"7\": 122, \"108\": 1, \"1\": 1}, \"60\": {\"60\": 31, \"43\": 1}, \"113\": {\"113\": 116, \"118\": 1, \"0\": 1}, \"37\": {\"37\": 14, \"100\": 1, \"43\": 1}, \"124\": {\"124\": 109, \"115\": 1}, \"27\": {\"27\": 96, \"111\": 1, \"53\": 1, \"126\": 1, \"88\": 1}, \"86\": {\"86\": 28}, \"127\": {\"127\": 102, \"0\": 2, \"122\": 2, \"24\": 1, \"39\": 1}, \"62\": {\"62\": 55, \"71\": 1, \"122\": 1, \"94\": 1, \"15\": 1, \"110\": 1}, \"122\": {\"122\": 80, \"33\": 2, \"121\": 1, \"1\": 1}, \"51\": {\"51\": 9, \"114\": 1, \"30\": 1, \"21\": 1, \"53\": 1, \"23\": 1, \"62\": 1, \"118\": 1}, \"109\": {\"109\": 112, \"100\": 1, \"14\": 1}, \"106\": {\"106\": 107, \"97\": 1, \"3\": 2, \"78\": 1, \"1\": 2, \"88\": 1}, \"94\": {\"94\": 87, \"10\": 1}, \"38\": {\"38\": 16}, \"129\": {\"129\": 27, \"59\": 1}, \"116\": {\"116\": 25, \"33\": 2, \"63\": 1}, \"107\": {\"107\": 118}, \"30\": {\"30\": 73, \"39\": 1, \"36\": 1, \"27\": 1}, \"102\": {\"102\": 131, \"15\": 1}, \"74\": {\"74\": 16}, \"101\": {\"101\": 129, \"0\": 2, \"5\": 1}, \"117\": {\"117\": 119, \"71\": 1, \"1\": 1, \"24\": 1, \"90\": 1, \"81\": 1}, \"1\": {\"1\": 97, \"88\": 3, \"70\": 2, \"15\": 1, \"127\": 1, \"21\": 2, \"14\": 1, \"118\": 1}, \"84\": {\"84\": 128, \"87\": 1, \"105\": 1, \"14\": 1, \"24\": 1}, \"17\": {\"17\": 20}, \"6\": {\"6\": 24}, \"110\": {\"110\": 122, \"24\": 1, \"1\": 1}, \"77\": {\"77\": 12}, \"8\": {\"8\": 128, \"122\": 1, \"73\": 1, \"127\": 1, \"110\": 1}, \"73\": {\"73\": 21, \"10\": 1, \"3\": 1, \"7\": 1}, \"126\": {\"126\": 121, \"39\": 1, \"24\": 1, \"88\": 1}, \"57\": {\"57\": 16}, \"95\": {\"95\": 31, \"8\": 1}, \"103\": {\"103\": 16}, \"97\": {\"97\": 19, \"89\": 1}, \"39\": {\"39\": 90, \"81\": 2, \"7\": 1, \"84\": 1, \"106\": 2, \"21\": 2, \"108\": 1, \"10\": 1}, \"100\": {\"100\": 20}, \"40\": {\"40\": 109, \"69\": 1}, \"36\": {\"36\": 123, \"24\": 1, \"84\": 1, \"21\": 1}, \"19\": {\"19\": 28}, \"118\": {\"118\": 108, \"82\": 1, \"110\": 1, \"24\": 1, \"70\": 1}, \"56\": {\"56\": 12}, \"26\": {\"26\": 125, \"10\": 1}, \"5\": {\"5\": 135, \"106\": 1}, \"21\": {\"21\": 35, \"7\": 1, \"23\": 1, \"78\": 1, \"84\": 1, \"122\": 1}, \"22\": {\"22\": 15, \"36\": 1}, \"68\": {\"68\": 16}, \"9\": {\"9\": 28}, \"66\": {\"66\": 15, \"23\": 1}, \"87\": {\"87\": 121, \"105\": 1, \"43\": 1, \"24\": 1}, \"71\": {\"71\": 100, \"19\": 1, \"43\": 1, \"21\": 1, \"111\": 1}, \"115\": {\"115\": 14, \"7\": 1, \"43\": 1}, \"23\": {\"89\": 1, \"23\": 10, \"51\": 3, \"10\": 1, \"53\": 1}, \"33\": {\"33\": 116, \"0\": 1, \"90\": 1}, \"35\": {\"35\": 11, \"3\": 1}, \"125\": {\"125\": 127, \"43\": 2, \"90\": 1, \"92\": 1, \"10\": 1}, \"47\": {\"95\": 1, \"125\": 1, \"47\": 10}, \"79\": {\"79\": 16}, \"53\": {\"53\": 16}, \"67\": {\"113\": 2, \"67\": 10, \"33\": 1, \"123\": 1, \"106\": 1, \"104\": 1}, \"80\": {\"80\": 16}, \"105\": {\"105\": 92, \"70\": 1, \"36\": 1, \"3\": 1, \"87\": 2, \"0\": 1, \"60\": 1, \"113\": 1}, \"76\": {\"76\": 16}, \"46\": {\"46\": 20}, \"34\": {\"120\": 2, \"34\": 27, \"75\": 1, \"54\": 1, \"115\": 1}, \"32\": {\"32\": 22, \"120\": 1, \"60\": 1, \"118\": 3, \"45\": 1}, \"13\": {\"13\": 16}, \"78\": {\"78\": 31, \"89\": 1, \"43\": 1, \"4\": 1, \"18\": 1, \"1\": 1}, \"41\": {\"41\": 16}, \"69\": {\"69\": 124, \"15\": 1, \"3\": 1, \"88\": 1, \"27\": 1}, \"88\": {\"88\": 114, \"108\": 2, \"3\": 2, \"74\": 1, \"70\": 9, \"27\": 2, \"126\": 1, \"90\": 1}, \"15\": {\"15\": 124, \"122\": 1, \"106\": 1, \"21\": 1, \"10\": 1}, \"61\": {\"61\": 16}, \"0\": {\"0\": 112, \"24\": 1, \"7\": 1, \"3\": 1, \"4\": 1}, \"104\": {\"104\": 15, \"39\": 1}, \"48\": {\"48\": 15, \"98\": 1}, \"25\": {\"25\": 16}, \"75\": {\"75\": 16}, \"81\": {\"81\": 34, \"69\": 1, \"27\": 1}, \"50\": {\"50\": 16}, \"52\": {\"52\": 20}, \"16\": {\"16\": 117, \"70\": 1, \"3\": 1, \"43\": 1}, \"44\": {\"44\": 63, \"2\": 1}, \"29\": {\"29\": 30, \"21\": 1, \"1\": 1}, \"93\": {\"93\": 123, \"84\": 1}, \"18\": {\"18\": 114}, \"49\": {\"49\": 30, \"80\": 2}, \"55\": {\"55\": 16}, \"59\": {\"59\": 11, \"21\": 1}, \"128\": {\"128\": 18, \"49\": 1, \"8\": 2, \"91\": 1, \"98\": 2}, \"24\": {\"24\": 110, \"0\": 1, \"36\": 7, \"7\": 1, \"10\": 1}, \"65\": {\"65\": 12}, \"92\": {\"92\": 28}}, \"Wisig_1\": {\"108\": {\"108\": 124}, \"40\": {\"40\": 136}, \"68\": {\"68\": 15, \"23\": 1}, \"23\": {\"23\": 17, \"127\": 1, \"110\": 1, \"32\": 2, \"66\": 2, \"3\": 1}, \"26\": {\"26\": 118, \"12\": 1, \"6\": 1}, \"64\": {\"64\": 16}, \"22\": {\"22\": 14, \"2\": 1, \"43\": 1}, \"3\": {\"3\": 84, \"94\": 1, \"15\": 1, \"18\": 2}, \"4\": {\"4\": 99, \"94\": 1}, \"70\": {\"70\": 115, \"84\": 1, \"86\": 1, \"12\": 1, \"24\": 1, \"94\": 1}, \"57\": {\"57\": 11, \"53\": 1}, \"79\": {\"79\": 12}, \"9\": {\"9\": 32}, \"89\": {\"89\": 36}, \"110\": {\"110\": 128}, \"102\": {\"102\": 118, \"14\": 1, \"107\": 1}, \"31\": {\"31\": 16}, \"58\": {\"58\": 11, \"12\": 1}, \"47\": {\"47\": 12}, \"24\": {\"24\": 88, \"12\": 1, \"27\": 1, \"94\": 1, \"108\": 1}, \"19\": {\"19\": 28}, \"11\": {\"11\": 132}, \"52\": {\"52\": 20}, \"17\": {\"17\": 16}, \"25\": {\"25\": 16}, \"69\": {\"69\": 105, \"43\": 2, \"14\": 1}, \"96\": {\"96\": 14, \"51\": 1, \"65\": 1, \"94\": 1, \"126\": 1, \"35\": 1, \"72\": 1}, \"109\": {\"109\": 111, \"3\": 1, \"126\": 1, \"43\": 1}, \"115\": {\"115\": 12}, \"83\": {\"83\": 27, \"27\": 1}, \"84\": {\"84\": 127, \"88\": 1}, \"119\": {\"119\": 16}, \"122\": {\"122\": 84, \"43\": 1, \"105\": 1, \"21\": 1, \"7\": 1}, \"99\": {\"99\": 23, \"100\": 1}, \"1\": {\"1\": 133, \"27\": 1, \"7\": 1, \"127\": 1}, \"74\": {\"74\": 16}, \"85\": {\"85\": 32}, \"127\": {\"127\": 106, \"88\": 1, \"94\": 1}, \"111\": {\"111\": 118, \"24\": 1, \"12\": 1}, \"53\": {\"53\": 20}, \"88\": {\"88\": 130, \"97\": 1, \"126\": 1}, \"65\": {\"65\": 9, \"21\": 1, \"66\": 1, \"102\": 1}, \"7\": {\"7\": 134}, \"16\": {\"16\": 107, \"127\": 1}, \"128\": {\"128\": 22, \"0\": 1, \"72\": 1}, \"34\": {\"34\": 24, \"80\": 1, \"60\": 2, \"125\": 1, \"91\": 1, \"115\": 1, \"86\": 1, \"83\": 1}, \"129\": {\"129\": 27, \"2\": 1}, \"43\": {\"43\": 126, \"78\": 2}, \"92\": {\"92\": 28}, \"28\": {\"28\": 18, \"0\": 1, \"71\": 1}, \"27\": {\"27\": 92}, \"114\": {\"114\": 123, \"71\": 1}, \"73\": {\"73\": 20}, \"0\": {\"0\": 84}, \"104\": {\"104\": 16}, \"118\": {\"118\": 83, \"21\": 1}, \"41\": {\"41\": 16}, \"91\": {\"91\": 28}, \"124\": {\"124\": 122}, \"81\": {\"81\": 28}, \"63\": {\"63\": 16}, \"76\": {\"76\": 16}, \"10\": {\"10\": 118, \"51\": 1, \"43\": 1}, \"51\": {\"51\": 15, \"7\": 1}, \"82\": {\"82\": 36}, \"56\": {\"56\": 11, \"53\": 1}, \"30\": {\"30\": 52}, \"21\": {\"21\": 34, \"15\": 1, \"50\": 1, \"49\": 1, \"94\": 1, \"3\": 1, \"87\": 1}, \"46\": {\"46\": 11, \"94\": 1}, \"33\": {\"33\": 138}, \"101\": {\"101\": 121, \"27\": 1, \"62\": 1, \"102\": 1}, \"105\": {\"105\": 82, \"6\": 1, \"40\": 1}, \"50\": {\"50\": 15, \"36\": 1}, \"116\": {\"116\": 32}, \"77\": {\"77\": 16}, \"75\": {\"75\": 16}, \"95\": {\"95\": 36}, \"120\": {\"120\": 20}, \"18\": {\"18\": 108}, \"14\": {\"14\": 96}, \"44\": {\"44\": 76}, \"98\": {\"98\": 96}, \"121\": {\"121\": 32}, \"113\": {\"113\": 108}, \"103\": {\"103\": 16}, \"62\": {\"62\": 116, \"10\": 2, \"107\": 1, \"39\": 1}, \"32\": {\"32\": 30, \"23\": 2}, \"71\": {\"71\": 103, \"127\": 2, \"84\": 1, \"12\": 1, \"69\": 1}, \"94\": {\"94\": 91, \"14\": 1}, \"49\": {\"49\": 16, \"12\": 1, \"34\": 1, \"6\": 1, \"31\": 1}, \"12\": {\"12\": 101, \"88\": 1, \"105\": 1, \"43\": 1}, \"90\": {\"90\": 124}, \"93\": {\"93\": 122, \"43\": 1, \"87\": 1}, \"13\": {\"13\": 16}, \"67\": {\"23\": 1, \"67\": 15}, \"20\": {\"20\": 14, \"62\": 1, \"65\": 1}, \"2\": {\"2\": 31, \"11\": 1}, \"5\": {\"5\": 86, \"108\": 1, \"21\": 1}, \"54\": {\"54\": 15, \"122\": 1}, \"37\": {\"37\": 16}, \"38\": {\"38\": 16}, \"86\": {\"86\": 33, \"2\": 1, \"84\": 1, \"94\": 1}, \"55\": {\"55\": 12}, \"97\": {\"97\": 18, \"62\": 1, \"91\": 1}, \"29\": {\"29\": 28}, \"48\": {\"63\": 1, \"48\": 11}, \"60\": {\"60\": 14, \"100\": 1, \"19\": 1}, \"36\": {\"36\": 117, \"88\": 3, \"7\": 1, \"113\": 1}, \"42\": {\"58\": 1, \"42\": 18, \"91\": 4, \"49\": 2, \"122\": 1, \"86\": 1, \"109\": 1}, \"66\": {\"66\": 16}, \"126\": {\"126\": 127, \"5\": 1}, \"39\": {\"39\": 104}, \"107\": {\"107\": 123, \"39\": 1}, \"59\": {\"59\": 10, \"95\": 1, \"66\": 1}, \"117\": {\"117\": 138}, \"6\": {\"6\": 32}, \"123\": {\"123\": 16}, \"8\": {\"8\": 123, \"21\": 1}, \"112\": {\"112\": 15, \"86\": 1}, \"80\": {\"80\": 15, \"82\": 1}, \"125\": {\"125\": 136}, \"61\": {\"61\": 12}, \"45\": {\"45\": 6, \"124\": 1, \"2\": 1, \"82\": 1, \"129\": 1, \"64\": 2}, \"72\": {\"72\": 32}, \"87\": {\"87\": 107, \"27\": 1}, \"106\": {\"106\": 123, \"43\": 1}, \"35\": {\"35\": 9, \"30\": 1, \"96\": 1, \"6\": 1}, \"78\": {\"78\": 11, \"87\": 1, \"43\": 1, \"83\": 1, \"14\": 1, \"44\": 1}, \"15\": {\"15\": 98, \"39\": 1, \"40\": 2, \"111\": 1, \"69\": 1, \"21\": 1}, \"100\": {\"100\": 16}}, \"Wisig_2\": {\"91\": {\"91\": 26, \"49\": 1, \"94\": 1}, \"12\": {\"12\": 83, \"87\": 1, \"16\": 1, \"122\": 1, \"118\": 1, \"10\": 1}, \"101\": {\"101\": 147, \"94\": 1}, \"121\": {\"121\": 35, \"70\": 1}, \"118\": {\"118\": 66, \"94\": 1, \"87\": 1}, \"10\": {\"10\": 56, \"122\": 1, \"70\": 1, \"97\": 1, \"7\": 1}, \"117\": {\"117\": 118, \"15\": 1, \"44\": 1}, \"110\": {\"110\": 33, \"120\": 1, \"70\": 2, \"14\": 1, \"90\": 1, \"25\": 1, \"95\": 1}, \"97\": {\"97\": 20}, \"28\": {\"28\": 20}, \"88\": {\"88\": 118, \"118\": 1, \"24\": 1, \"43\": 1, \"3\": 2, \"70\": 1}, \"17\": {\"17\": 16}, \"126\": {\"126\": 112, \"90\": 1, \"13\": 1}, \"33\": {\"33\": 125, \"105\": 1, \"70\": 2}, \"86\": {\"86\": 32}, \"106\": {\"106\": 114, \"7\": 1, \"122\": 1, \"24\": 1, \"78\": 1, \"27\": 1, \"70\": 1}, \"54\": {\"54\": 20}, \"125\": {\"125\": 131, \"3\": 1}, \"83\": {\"83\": 39, \"0\": 1}, \"98\": {\"98\": 118, \"118\": 1, \"26\": 1}, \"11\": {\"11\": 76, \"3\": 1, \"94\": 1, \"122\": 1, \"24\": 1}, \"32\": {\"32\": 34, \"12\": 1, \"79\": 1}, \"42\": {\"42\": 28}, \"103\": {\"103\": 16}, \"87\": {\"87\": 105, \"39\": 1, \"106\": 1, \"113\": 1, \"94\": 2, \"84\": 1, \"24\": 1}, \"61\": {\"61\": 16, \"97\": 1, \"12\": 1, \"94\": 1, \"21\": 1}, \"13\": {\"13\": 13, \"61\": 1, \"14\": 1, \"98\": 1}, \"4\": {\"4\": 83, \"0\": 1, \"24\": 1, \"109\": 1}, \"15\": {\"15\": 116, \"25\": 1, \"0\": 2, \"105\": 1}, \"120\": {\"120\": 20}, \"80\": {\"80\": 16}, \"72\": {\"72\": 27, \"45\": 1}, \"64\": {\"64\": 15, \"129\": 1}, \"81\": {\"81\": 22, \"1\": 1, \"12\": 1}, \"102\": {\"102\": 112}, \"76\": {\"76\": 16}, \"49\": {\"49\": 19, \"3\": 1, \"58\": 1, \"39\": 1, \"75\": 1, \"85\": 1}, \"129\": {\"129\": 32}, \"89\": {\"89\": 34, \"15\": 1, \"37\": 1}, \"52\": {\"52\": 18, \"72\": 1, \"7\": 1}, \"35\": {\"35\": 12}, \"53\": {\"53\": 16}, \"26\": {\"26\": 124, \"87\": 1, \"129\": 1, \"24\": 1, \"10\": 1}, \"96\": {\"96\": 20}, \"27\": {\"27\": 55, \"94\": 1, \"10\": 1, \"70\": 1, \"3\": 1, \"84\": 1, \"62\": 1, \"113\": 1, \"21\": 2, \"7\": 1, \"78\": 1, \"87\": 1, \"36\": 1}, \"24\": {\"27\": 2, \"25\": 1, \"71\": 1, \"24\": 100, \"69\": 1, \"39\": 1, \"70\": 1, \"36\": 1, \"107\": 1, \"10\": 1, \"78\": 1, \"94\": 1}, \"82\": {\"82\": 32, \"15\": 2, \"87\": 1, \"7\": 1}, \"18\": {\"18\": 123, \"25\": 1, \"39\": 1, \"69\": 1, \"10\": 1, \"107\": 1}, \"69\": {\"69\": 118, \"70\": 1, \"5\": 1, \"109\": 1, \"106\": 1}, \"47\": {\"47\": 12}, \"85\": {\"85\": 32}, \"2\": {\"2\": 32}, \"67\": {\"67\": 15, \"49\": 1}, \"39\": {\"39\": 106, \"70\": 2, \"78\": 1, \"18\": 1, \"24\": 1, \"87\": 1}, \"99\": {\"99\": 32}, \"74\": {\"74\": 13, \"24\": 1, \"75\": 2}, \"105\": {\"105\": 128, \"5\": 2, \"36\": 1, \"87\": 1}, \"70\": {\"70\": 113, \"21\": 1, \"88\": 1, \"0\": 1, \"3\": 1, \"122\": 2, \"69\": 1, \"40\": 1, \"62\": 1}, \"55\": {\"55\": 16}, \"30\": {\"30\": 108, \"70\": 2, \"61\": 1, \"6\": 1}, \"60\": {\"60\": 22, \"123\": 1, \"87\": 1, \"21\": 1, \"116\": 1, \"23\": 1, \"57\": 1}, \"92\": {\"92\": 25, \"73\": 1, \"75\": 1, \"106\": 1}, \"45\": {\"45\": 15, \"70\": 1}, \"127\": {\"127\": 111, \"89\": 1}, \"9\": {\"110\": 1, \"9\": 30, \"10\": 1}, \"115\": {\"115\": 12}, \"73\": {\"73\": 28}, \"108\": {\"108\": 138}, \"114\": {\"114\": 113, \"10\": 1, \"94\": 1, \"7\": 1}, \"63\": {\"63\": 19, \"10\": 1}, \"93\": {\"93\": 128}, \"7\": {\"7\": 132}, \"31\": {\"31\": 19, \"78\": 1}, \"123\": {\"123\": 16}, \"128\": {\"128\": 19, \"111\": 1, \"114\": 1, \"21\": 1, \"30\": 1, \"52\": 1}, \"0\": {\"0\": 110, \"24\": 2, \"69\": 2, \"39\": 1, \"70\": 1}, \"3\": {\"3\": 134, \"18\": 1, \"84\": 1}, \"19\": {\"19\": 28}, \"57\": {\"57\": 19, \"47\": 1}, \"78\": {\"78\": 44, \"39\": 1, \"43\": 1, \"4\": 1, \"95\": 1}, \"95\": {\"95\": 35, \"70\": 1}, \"40\": {\"40\": 132, \"71\": 1, \"106\": 1, \"36\": 1, \"5\": 1, \"94\": 1, \"0\": 1, \"3\": 1, \"30\": 1}, \"14\": {\"14\": 41, \"83\": 1, \"10\": 1, \"18\": 1, \"122\": 1, \"88\": 1, \"94\": 2}, \"36\": {\"36\": 120, \"94\": 1, \"118\": 1, \"70\": 1, \"24\": 1, \"40\": 1, \"107\": 1, \"87\": 1, \"111\": 1}, \"56\": {\"56\": 12}, \"111\": {\"111\": 127, \"24\": 1}, \"59\": {\"59\": 14, \"106\": 1, \"24\": 1}, \"79\": {\"79\": 14, \"40\": 2}, \"62\": {\"62\": 121, \"24\": 1}, \"21\": {\"21\": 43, \"24\": 1, \"17\": 1, \"5\": 1, \"70\": 1, \"40\": 1}, \"48\": {\"48\": 20}, \"16\": {\"16\": 119, \"14\": 1, \"84\": 1, \"24\": 1, \"18\": 1, \"1\": 1}, \"50\": {\"50\": 15, \"118\": 1}, \"44\": {\"44\": 95, \"98\": 1}, \"5\": {\"5\": 109, \"12\": 1}, \"20\": {\"20\": 15, \"24\": 1}, \"1\": {\"1\": 118, \"85\": 1, \"126\": 1}, \"65\": {\"65\": 18, \"24\": 1, \"71\": 1}, \"116\": {\"116\": 28}, \"51\": {\"51\": 17, \"54\": 1, \"9\": 1, \"36\": 1}, \"75\": {\"75\": 15, \"71\": 1}, \"100\": {\"100\": 16}, \"113\": {\"113\": 72}, \"41\": {\"41\": 20}, \"29\": {\"29\": 32}, \"23\": {\"23\": 40, \"30\": 1, \"99\": 2, \"110\": 1}, \"124\": {\"124\": 122, \"21\": 1, \"117\": 1}, \"68\": {\"68\": 15, \"10\": 1}, \"71\": {\"71\": 99, \"94\": 1}, \"107\": {\"107\": 55, \"51\": 1, \"15\": 1, \"25\": 1, \"70\": 2, \"26\": 1, \"129\": 1, \"109\": 1, \"10\": 1}, \"94\": {\"94\": 63, \"110\": 1}, \"77\": {\"77\": 15, \"39\": 1}, \"8\": {\"8\": 120, \"24\": 1, \"15\": 1}, \"46\": {\"46\": 16}, \"25\": {\"25\": 14, \"59\": 1, \"61\": 1}, \"122\": {\"122\": 136, \"11\": 1, \"7\": 1, \"16\": 1, \"70\": 1}, \"58\": {\"58\": 15, \"77\": 2, \"17\": 1, \"87\": 1, \"24\": 1}, \"6\": {\"6\": 30, \"106\": 1, \"17\": 1}, \"109\": {\"109\": 96, \"3\": 1, \"24\": 1, \"70\": 2}, \"119\": {\"119\": 19, \"24\": 1}, \"34\": {\"74\": 1, \"34\": 25, \"98\": 1, \"40\": 1, \"6\": 1, \"91\": 1, \"71\": 1, \"66\": 1}, \"90\": {\"90\": 139, \"26\": 1}, \"38\": {\"38\": 16}, \"104\": {\"112\": 1, \"104\": 17, \"25\": 1, \"122\": 1}, \"84\": {\"84\": 90, \"58\": 1, \"106\": 1}, \"112\": {\"112\": 16}, \"66\": {\"66\": 17, \"107\": 1, \"71\": 1, \"27\": 1}, \"22\": {\"22\": 20}, \"37\": {\"37\": 16}, \"43\": {\"43\": 117, \"0\": 1, \"1\": 1, \"62\": 1, \"84\": 1, \"70\": 2, \"3\": 1}}, \"ORACLE.run114\": {\"15\": {\"2\": 21, \"3\": 22, \"0\": 16, \"15\": 29, \"5\": 21, \"4\": 19, \"6\": 24, \"9\": 4, \"1\": 16, \"7\": 18, \"13\": 14, \"10\": 11, \"14\": 13, \"8\": 7, \"11\": 4, \"12\": 1}, \"3\": {\"11\": 13, \"9\": 11, \"10\": 22, \"7\": 11, \"8\": 6, \"1\": 16, \"3\": 16, \"5\": 19, \"14\": 20, \"6\": 14, \"2\": 20, \"12\": 8, \"0\": 17, \"15\": 13, \"4\": 17, \"13\": 17}, \"6\": {\"14\": 20, \"10\": 13, \"7\": 15, \"13\": 25, \"11\": 10, \"4\": 21, \"3\": 20, \"6\": 24, \"2\": 23, \"5\": 16, \"8\": 3, \"15\": 24, \"1\": 13, \"9\": 3, \"0\": 9, \"12\": 1}, \"1\": {\"1\": 21, \"7\": 14, \"3\": 15, \"2\": 20, \"10\": 23, \"5\": 22, \"13\": 11, \"6\": 9, \"4\": 14, \"0\": 16, \"8\": 16, \"14\": 14, \"9\": 10, \"15\": 14, \"12\": 10, \"11\": 11}, \"8\": {\"2\": 10, \"11\": 17, \"9\": 36, \"4\": 17, \"12\": 38, \"8\": 27, \"5\": 7, \"6\": 2, \"7\": 14, \"10\": 14, \"15\": 6, \"0\": 17, \"3\": 15, \"1\": 14, \"13\": 5, \"14\": 1}, \"10\": {\"13\": 14, \"1\": 14, \"10\": 19, \"6\": 15, \"0\": 21, \"9\": 15, \"4\": 22, \"8\": 9, \"5\": 13, \"12\": 15, \"14\": 21, \"2\": 15, \"7\": 10, \"11\": 14, \"15\": 8, \"3\": 15}, \"9\": {\"8\": 31, \"9\": 38, \"11\": 26, \"3\": 12, \"10\": 14, \"12\": 46, \"14\": 3, \"0\": 22, \"1\": 11, \"5\": 11, \"13\": 5, \"4\": 13, \"15\": 2, \"2\": 5, \"7\": 1}, \"13\": {\"4\": 22, \"10\": 13, \"7\": 11, \"6\": 23, \"15\": 26, \"11\": 11, \"0\": 12, \"1\": 11, \"13\": 19, \"14\": 25, \"9\": 5, \"5\": 19, \"2\": 24, \"3\": 17, \"8\": 1, \"12\": 1}, \"12\": {\"11\": 22, \"8\": 24, \"9\": 53, \"12\": 56, \"3\": 9, \"15\": 5, \"10\": 12, \"14\": 7, \"1\": 12, \"5\": 3, \"13\": 3, \"0\": 18, \"2\": 4, \"6\": 3, \"7\": 4, \"4\": 5}, \"5\": {\"4\": 18, \"9\": 10, \"15\": 16, \"11\": 12, \"14\": 15, \"0\": 16, \"5\": 21, \"6\": 21, \"8\": 12, \"10\": 12, \"7\": 18, \"2\": 21, \"1\": 18, \"13\": 13, \"3\": 15, \"12\": 2}, \"0\": {\"7\": 15, \"4\": 19, \"10\": 18, \"3\": 12, \"0\": 17, \"2\": 15, \"15\": 8, \"6\": 18, \"9\": 13, \"8\": 15, \"14\": 20, \"12\": 15, \"13\": 12, \"5\": 18, \"11\": 16, \"1\": 9}, \"2\": {\"0\": 13, \"9\": 6, \"6\": 18, \"3\": 20, \"10\": 17, \"14\": 25, \"4\": 18, \"15\": 28, \"11\": 18, \"2\": 16, \"8\": 8, \"12\": 3, \"7\": 12, \"13\": 10, \"5\": 18, \"1\": 10}, \"11\": {\"1\": 18, \"0\": 15, \"2\": 13, \"12\": 28, \"4\": 11, \"14\": 10, \"15\": 5, \"10\": 17, \"5\": 16, \"3\": 22, \"13\": 10, \"7\": 12, \"8\": 16, \"11\": 19, \"9\": 21, \"6\": 7}, \"14\": {\"4\": 18, \"9\": 4, \"12\": 5, \"6\": 24, \"3\": 17, \"10\": 13, \"13\": 22, \"2\": 21, \"0\": 21, \"14\": 21, \"11\": 17, \"7\": 8, \"15\": 14, \"5\": 15, \"1\": 18, \"8\": 2}, \"7\": {\"2\": 17, \"0\": 11, \"13\": 17, \"15\": 29, \"5\": 20, \"6\": 15, \"11\": 16, \"7\": 23, \"3\": 14, \"8\": 14, \"14\": 17, \"10\": 12, \"4\": 12, \"1\": 14, \"9\": 4, \"12\": 5}, \"4\": {\"2\": 15, \"0\": 15, \"13\": 17, \"5\": 15, \"9\": 7, \"12\": 9, \"7\": 19, \"8\": 12, \"14\": 20, \"15\": 18, \"3\": 17, \"10\": 14, \"1\": 15, \"6\": 16, \"11\": 14, \"4\": 17}}, \"ORACLE.run120\": {\"3\": {\"6\": 14, \"4\": 11, \"2\": 23, \"3\": 18, \"10\": 16, \"9\": 16, \"12\": 13, \"15\": 10, \"1\": 16, \"7\": 23, \"13\": 12, \"0\": 16, \"11\": 10, \"8\": 15, \"5\": 13, \"14\": 14}, \"15\": {\"5\": 12, \"2\": 17, \"14\": 9, \"8\": 9, \"0\": 15, \"6\": 6, \"15\": 27, \"1\": 20, \"7\": 18, \"11\": 16, \"4\": 12, \"10\": 11, \"13\": 15, \"9\": 20, \"12\": 18, \"3\": 15}, \"8\": {\"10\": 14, \"11\": 13, \"2\": 18, \"4\": 17, \"5\": 16, \"13\": 17, \"0\": 12, \"12\": 20, \"3\": 15, \"15\": 7, \"6\": 16, \"7\": 12, \"8\": 23, \"9\": 10, \"14\": 20, \"1\": 10}, \"4\": {\"15\": 11, \"0\": 15, \"7\": 18, \"8\": 20, \"9\": 10, \"10\": 18, \"6\": 21, \"4\": 22, \"1\": 16, \"12\": 16, \"14\": 23, \"5\": 8, \"3\": 8, \"2\": 14, \"13\": 13, \"11\": 7}, \"14\": {\"6\": 20, \"10\": 21, \"0\": 11, \"7\": 13, \"11\": 13, \"8\": 17, \"13\": 10, \"14\": 22, \"3\": 15, \"9\": 15, \"1\": 13, \"2\": 15, \"15\": 7, \"5\": 10, \"12\": 15, \"4\": 23}, \"0\": {\"14\": 17, \"13\": 25, \"12\": 16, \"2\": 18, \"0\": 22, \"15\": 11, \"4\": 11, \"9\": 10, \"11\": 13, \"6\": 14, \"10\": 9, \"5\": 17, \"8\": 16, \"1\": 11, \"3\": 17, \"7\": 13}, \"7\": {\"9\": 27, \"0\": 19, \"8\": 9, \"1\": 19, \"13\": 9, \"7\": 13, \"4\": 17, \"10\": 12, \"2\": 16, \"11\": 11, \"15\": 15, \"14\": 13, \"6\": 21, \"3\": 16, \"5\": 14, \"12\": 9}, \"6\": {\"10\": 21, \"8\": 13, \"5\": 19, \"9\": 13, \"12\": 17, \"3\": 10, \"6\": 21, \"14\": 16, \"2\": 18, \"4\": 12, \"11\": 16, \"7\": 22, \"15\": 8, \"13\": 11, \"0\": 15, \"1\": 8}, \"10\": {\"15\": 7, \"10\": 17, \"14\": 33, \"9\": 18, \"6\": 22, \"12\": 14, \"0\": 8, \"8\": 20, \"1\": 10, \"2\": 15, \"7\": 17, \"5\": 13, \"3\": 13, \"13\": 9, \"4\": 19, \"11\": 5}, \"5\": {\"6\": 15, \"14\": 9, \"5\": 14, \"0\": 14, \"3\": 16, \"1\": 10, \"2\": 16, \"9\": 25, \"12\": 14, \"10\": 13, \"7\": 22, \"13\": 17, \"15\": 22, \"11\": 12, \"8\": 13, \"4\": 8}, \"2\": {\"1\": 15, \"8\": 18, \"0\": 15, \"12\": 20, \"13\": 24, \"4\": 20, \"11\": 9, \"10\": 20, \"9\": 18, \"3\": 16, \"2\": 13, \"6\": 10, \"15\": 13, \"7\": 16, \"14\": 7, \"5\": 6}, \"12\": {\"6\": 8, \"0\": 12, \"9\": 13, \"11\": 11, \"8\": 21, \"1\": 17, \"12\": 16, \"13\": 14, \"5\": 16, \"7\": 22, \"15\": 16, \"14\": 14, \"3\": 14, \"2\": 13, \"10\": 15, \"4\": 18}, \"9\": {\"10\": 20, \"7\": 23, \"0\": 15, \"15\": 25, \"12\": 17, \"5\": 14, \"1\": 15, \"9\": 21, \"14\": 13, \"2\": 17, \"13\": 9, \"11\": 12, \"6\": 9, \"4\": 8, \"8\": 9, \"3\": 13}, \"1\": {\"7\": 12, \"3\": 15, \"11\": 20, \"8\": 19, \"1\": 20, \"14\": 14, \"9\": 16, \"5\": 17, \"0\": 16, \"4\": 9, \"13\": 18, \"12\": 19, \"2\": 14, \"15\": 14, \"10\": 9, \"6\": 8}, \"11\": {\"14\": 23, \"5\": 11, \"2\": 21, \"4\": 13, \"3\": 11, \"10\": 10, \"7\": 18, \"15\": 15, \"6\": 17, \"12\": 19, \"1\": 14, \"13\": 9, \"0\": 15, \"8\": 11, \"9\": 21, \"11\": 12}, \"13\": {\"15\": 24, \"3\": 13, \"6\": 12, \"5\": 24, \"1\": 19, \"10\": 9, \"0\": 20, \"8\": 11, \"12\": 10, \"9\": 15, \"14\": 14, \"2\": 14, \"13\": 20, \"11\": 13, \"7\": 16, \"4\": 6}}, \"ORACLE.run138\": {\"5\": {\"15\": 18, \"1\": 12, \"5\": 25, \"3\": 19, \"7\": 17, \"14\": 7, \"10\": 13, \"13\": 20, \"0\": 15, \"11\": 7, \"6\": 12, \"8\": 32, \"9\": 17, \"12\": 14, \"2\": 5, \"4\": 7}, \"8\": {\"8\": 31, \"15\": 12, \"4\": 7, \"11\": 12, \"14\": 8, \"1\": 9, \"13\": 16, \"3\": 17, \"6\": 14, \"0\": 17, \"2\": 8, \"10\": 21, \"5\": 20, \"12\": 15, \"7\": 23, \"9\": 10}, \"11\": {\"14\": 32, \"2\": 30, \"13\": 13, \"7\": 13, \"10\": 25, \"11\": 37, \"9\": 6, \"8\": 9, \"15\": 12, \"4\": 13, \"3\": 2, \"0\": 11, \"1\": 11, \"12\": 13, \"5\": 11, \"6\": 2}, \"1\": {\"1\": 28, \"8\": 14, \"11\": 14, \"15\": 20, \"12\": 1, \"5\": 27, \"6\": 34, \"2\": 22, \"9\": 10, \"13\": 30, \"0\": 8, \"10\": 11, \"3\": 5, \"14\": 5, \"7\": 9, \"4\": 2}, \"10\": {\"5\": 23, \"9\": 13, \"14\": 13, \"0\": 18, \"13\": 12, \"10\": 24, \"4\": 11, \"7\": 11, \"15\": 18, \"1\": 12, \"11\": 22, \"2\": 5, \"12\": 23, \"8\": 17, \"3\": 10, \"6\": 8}, \"15\": {\"15\": 19, \"9\": 13, \"11\": 12, \"2\": 22, \"6\": 21, \"1\": 29, \"13\": 19, \"7\": 12, \"0\": 11, \"12\": 7, \"3\": 10, \"14\": 11, \"10\": 20, \"8\": 14, \"5\": 15, \"4\": 5}, \"3\": {\"15\": 7, \"7\": 31, \"0\": 26, \"6\": 20, \"9\": 18, \"13\": 10, \"14\": 5, \"3\": 46, \"8\": 26, \"12\": 15, \"4\": 7, \"2\": 4, \"10\": 3, \"5\": 12, \"1\": 9, \"11\": 1}, \"7\": {\"15\": 12, \"1\": 5, \"7\": 30, \"12\": 15, \"5\": 17, \"3\": 37, \"0\": 23, \"6\": 12, \"8\": 19, \"4\": 15, \"9\": 13, \"14\": 10, \"11\": 6, \"10\": 15, \"13\": 4, \"2\": 7}, \"4\": {\"7\": 32, \"11\": 17, \"0\": 15, \"14\": 15, \"12\": 55, \"4\": 62, \"1\": 1, \"8\": 10, \"13\": 6, \"10\": 14, \"3\": 6, \"15\": 4, \"6\": 1, \"2\": 2}, \"14\": {\"7\": 6, \"11\": 41, \"12\": 21, \"6\": 10, \"8\": 13, \"5\": 18, \"15\": 7, \"14\": 35, \"2\": 13, \"10\": 15, \"4\": 19, \"3\": 4, \"13\": 14, \"0\": 12, \"9\": 5, \"1\": 7}, \"9\": {\"8\": 20, \"14\": 5, \"12\": 5, \"3\": 22, \"6\": 28, \"1\": 19, \"7\": 20, \"0\": 15, \"15\": 18, \"13\": 23, \"10\": 13, \"5\": 18, \"9\": 24, \"2\": 8, \"11\": 2}, \"12\": {\"8\": 19, \"14\": 12, \"4\": 32, \"11\": 19, \"12\": 55, \"0\": 16, \"6\": 3, \"10\": 20, \"15\": 8, \"3\": 6, \"5\": 13, \"7\": 25, \"13\": 4, \"9\": 2, \"1\": 3, \"2\": 3}, \"6\": {\"3\": 16, \"5\": 21, \"9\": 22, \"6\": 26, \"0\": 19, \"1\": 17, \"10\": 18, \"13\": 16, \"15\": 19, \"4\": 2, \"2\": 10, \"12\": 9, \"8\": 16, \"14\": 8, \"7\": 15, \"11\": 6}, \"2\": {\"15\": 26, \"13\": 27, \"5\": 14, \"11\": 18, \"1\": 29, \"6\": 14, \"8\": 9, \"2\": 31, \"10\": 15, \"0\": 6, \"9\": 13, \"12\": 5, \"14\": 20, \"7\": 7, \"4\": 3, \"3\": 3}, \"0\": {\"5\": 24, \"7\": 18, \"9\": 10, \"10\": 21, \"13\": 9, \"0\": 16, \"2\": 12, \"8\": 28, \"3\": 25, \"1\": 9, \"14\": 12, \"15\": 11, \"12\": 16, \"6\": 12, \"4\": 8, \"11\": 9}, \"13\": {\"15\": 24, \"2\": 22, \"10\": 16, \"14\": 16, \"7\": 9, \"8\": 20, \"0\": 11, \"3\": 6, \"5\": 23, \"13\": 23, \"1\": 19, \"9\": 14, \"6\": 17, \"11\": 13, \"12\": 6, \"4\": 1}}, \"ORACLE.run18\": {\"9\": {\"9\": 124, \"10\": 11, \"4\": 14, \"5\": 22, \"8\": 2, \"0\": 8, \"13\": 14, \"14\": 16, \"6\": 6, \"1\": 8, \"12\": 2, \"2\": 3, \"11\": 7, \"7\": 2, \"15\": 1}, \"10\": {\"3\": 12, \"4\": 19, \"2\": 10, \"7\": 12, \"0\": 15, \"10\": 24, \"1\": 16, \"8\": 12, \"12\": 9, \"6\": 10, \"14\": 26, \"15\": 14, \"13\": 24, \"11\": 10, \"5\": 20, \"9\": 7}, \"13\": {\"0\": 24, \"9\": 10, \"13\": 18, \"7\": 16, \"12\": 16, \"1\": 21, \"10\": 14, \"4\": 19, \"6\": 24, \"11\": 11, \"2\": 13, \"15\": 10, \"3\": 11, \"5\": 11, \"8\": 8, \"14\": 14}, \"0\": {\"0\": 19, \"7\": 17, \"2\": 11, \"9\": 13, \"8\": 9, \"1\": 14, \"6\": 17, \"12\": 16, \"4\": 17, \"11\": 12, \"5\": 23, \"3\": 11, \"13\": 11, \"15\": 13, \"14\": 24, \"10\": 13}, \"1\": {\"7\": 18, \"10\": 11, \"1\": 22, \"8\": 19, \"11\": 21, \"0\": 16, \"5\": 24, \"3\": 8, \"2\": 14, \"4\": 15, \"6\": 13, \"14\": 12, \"12\": 18, \"15\": 11, \"9\": 5, \"13\": 13}, \"15\": {\"15\": 17, \"6\": 15, \"8\": 16, \"13\": 11, \"2\": 20, \"5\": 8, \"1\": 12, \"3\": 27, \"12\": 36, \"4\": 12, \"7\": 16, \"11\": 22, \"0\": 9, \"10\": 8, \"14\": 11}, \"5\": {\"13\": 21, \"11\": 16, \"1\": 17, \"15\": 15, \"2\": 16, \"8\": 9, \"4\": 19, \"10\": 19, \"3\": 11, \"0\": 14, \"9\": 7, \"5\": 21, \"7\": 16, \"14\": 20, \"6\": 12, \"12\": 7}, \"3\": {\"3\": 37, \"11\": 15, \"4\": 9, \"6\": 12, \"2\": 32, \"15\": 24, \"12\": 20, \"8\": 14, \"10\": 10, \"0\": 13, \"5\": 9, \"14\": 7, \"7\": 22, \"13\": 8, \"1\": 8}, \"6\": {\"12\": 17, \"15\": 22, \"6\": 17, \"2\": 13, \"13\": 17, \"11\": 20, \"14\": 10, \"10\": 10, \"1\": 19, \"9\": 2, \"4\": 14, \"3\": 14, \"5\": 16, \"0\": 17, \"8\": 17, \"7\": 15}, \"11\": {\"0\": 20, \"5\": 20, \"12\": 19, \"10\": 19, \"1\": 19, \"11\": 17, \"13\": 11, \"2\": 15, \"8\": 24, \"15\": 14, \"3\": 11, \"14\": 12, \"6\": 16, \"9\": 5, \"7\": 11, \"4\": 7}, \"8\": {\"4\": 13, \"12\": 23, \"15\": 25, \"7\": 20, \"8\": 18, \"2\": 21, \"14\": 14, \"10\": 8, \"1\": 19, \"13\": 5, \"11\": 22, \"6\": 17, \"0\": 15, \"3\": 13, \"5\": 7}, \"4\": {\"13\": 17, \"15\": 18, \"3\": 13, \"14\": 20, \"5\": 20, \"7\": 17, \"1\": 12, \"12\": 13, \"2\": 12, \"6\": 18, \"4\": 13, \"0\": 19, \"8\": 17, \"11\": 11, \"9\": 4, \"10\": 16}, \"12\": {\"15\": 27, \"2\": 21, \"4\": 8, \"12\": 34, \"11\": 21, \"10\": 6, \"3\": 31, \"1\": 9, \"0\": 6, \"7\": 17, \"14\": 11, \"5\": 10, \"8\": 19, \"6\": 16, \"13\": 4}, \"14\": {\"5\": 17, \"11\": 21, \"7\": 12, \"1\": 19, \"8\": 21, \"4\": 26, \"12\": 11, \"2\": 13, \"13\": 14, \"10\": 17, \"6\": 14, \"0\": 14, \"14\": 17, \"15\": 11, \"3\": 11, \"9\": 2}, \"2\": {\"15\": 20, \"2\": 13, \"13\": 10, \"7\": 18, \"10\": 10, \"12\": 24, \"8\": 21, \"1\": 17, \"6\": 13, \"4\": 13, \"3\": 25, \"14\": 14, \"5\": 13, \"0\": 16, \"11\": 12, \"9\": 1}, \"7\": {\"2\": 9, \"4\": 17, \"10\": 14, \"15\": 10, \"7\": 14, \"11\": 18, \"5\": 23, \"12\": 22, \"6\": 14, \"0\": 14, \"14\": 17, \"1\": 15, \"8\": 18, \"13\": 18, \"3\": 12, \"9\": 5}}, \"ORACLE.run150\": {\"7\": {\"14\": 13, \"5\": 18, \"10\": 20, \"15\": 18, \"7\": 22, \"3\": 17, \"2\": 10, \"11\": 13, \"13\": 19, \"8\": 11, \"1\": 16, \"6\": 18, \"12\": 10, \"4\": 10, \"0\": 16, \"9\": 9}, \"3\": {\"3\": 70, \"14\": 4, \"8\": 47, \"2\": 19, \"5\": 10, \"10\": 27, \"0\": 24, \"13\": 9, \"7\": 9, \"15\": 4, \"11\": 2, \"6\": 8, \"1\": 3, \"9\": 1, \"12\": 2, \"4\": 1}, \"8\": {\"12\": 7, \"0\": 26, \"6\": 8, \"8\": 44, \"13\": 9, \"2\": 22, \"11\": 5, \"4\": 5, \"3\": 48, \"10\": 30, \"1\": 5, \"7\": 10, \"5\": 8, \"14\": 6, \"9\": 3, \"15\": 4}, \"2\": {\"3\": 24, \"10\": 23, \"13\": 16, \"14\": 11, \"8\": 27, \"2\": 30, \"9\": 7, \"0\": 29, \"6\": 5, \"12\": 12, \"7\": 17, \"1\": 7, \"11\": 10, \"5\": 8, \"15\": 6, \"4\": 8}, \"14\": {\"5\": 11, \"7\": 16, \"11\": 21, \"10\": 11, \"12\": 20, \"2\": 21, \"1\": 18, \"15\": 15, \"14\": 20, \"6\": 17, \"13\": 17, \"3\": 5, \"9\": 17, \"0\": 11, \"4\": 16, \"8\": 4}, \"4\": {\"2\": 15, \"14\": 21, \"15\": 27, \"6\": 21, \"7\": 18, \"13\": 14, \"9\": 12, \"5\": 23, \"1\": 18, \"4\": 18, \"12\": 11, \"11\": 17, \"8\": 8, \"0\": 8, \"10\": 9}, \"6\": {\"4\": 29, \"7\": 12, \"8\": 11, \"2\": 10, \"5\": 16, \"6\": 18, \"11\": 19, \"1\": 20, \"10\": 13, \"13\": 16, \"15\": 16, \"3\": 5, \"14\": 22, \"12\": 8, \"9\": 10, \"0\": 15}, \"15\": {\"10\": 5, \"11\": 32, \"13\": 18, \"9\": 19, \"14\": 25, \"15\": 29, \"6\": 24, \"4\": 17, \"1\": 18, \"7\": 10, \"5\": 16, \"3\": 3, \"12\": 9, \"8\": 4, \"2\": 3, \"0\": 8}, \"10\": {\"14\": 16, \"8\": 19, \"1\": 13, \"10\": 26, \"2\": 24, \"7\": 15, \"6\": 8, \"3\": 22, \"15\": 5, \"5\": 11, \"0\": 30, \"4\": 15, \"11\": 4, \"12\": 11, \"9\": 8, \"13\": 13}, \"11\": {\"15\": 29, \"1\": 24, \"12\": 23, \"9\": 27, \"11\": 19, \"10\": 10, \"14\": 22, \"4\": 13, \"6\": 15, \"7\": 16, \"5\": 14, \"2\": 6, \"13\": 16, \"0\": 4, \"8\": 1, \"3\": 1}, \"13\": {\"5\": 35, \"8\": 11, \"1\": 18, \"12\": 10, \"13\": 19, \"7\": 12, \"9\": 7, \"10\": 24, \"6\": 19, \"4\": 21, \"0\": 20, \"11\": 11, \"15\": 11, \"2\": 10, \"3\": 6, \"14\": 6}, \"9\": {\"12\": 27, \"6\": 23, \"9\": 29, \"5\": 12, \"15\": 21, \"4\": 16, \"13\": 13, \"11\": 21, \"10\": 6, \"7\": 15, \"1\": 20, \"2\": 10, \"14\": 17, \"0\": 5, \"8\": 2, \"3\": 3}, \"0\": {\"0\": 27, \"8\": 22, \"10\": 27, \"2\": 23, \"3\": 28, \"15\": 7, \"6\": 14, \"5\": 11, \"7\": 21, \"11\": 7, \"1\": 10, \"4\": 7, \"14\": 15, \"13\": 10, \"12\": 6, \"9\": 5}, \"1\": {\"5\": 25, \"7\": 13, \"15\": 21, \"1\": 20, \"10\": 20, \"4\": 24, \"13\": 16, \"3\": 4, \"14\": 12, \"0\": 13, \"11\": 17, \"9\": 15, \"2\": 9, \"6\": 14, \"12\": 14, \"8\": 3}, \"12\": {\"9\": 36, \"10\": 15, \"7\": 8, \"13\": 11, \"2\": 19, \"4\": 21, \"12\": 32, \"14\": 24, \"15\": 5, \"6\": 16, \"11\": 14, \"5\": 13, \"3\": 2, \"1\": 7, \"0\": 16, \"8\": 1}, \"5\": {\"10\": 17, \"8\": 13, \"5\": 18, \"0\": 21, \"1\": 14, \"9\": 9, \"15\": 18, \"6\": 22, \"3\": 4, \"4\": 16, \"11\": 14, \"7\": 23, \"2\": 11, \"12\": 13, \"13\": 17, \"14\": 10}}, \"ORACLE.run132\": {\"8\": {\"8\": 23, \"9\": 8, \"0\": 29, \"7\": 22, \"13\": 26, \"11\": 25, \"14\": 22, \"2\": 15, \"3\": 11, \"5\": 20, \"4\": 22, \"15\": 16, \"12\": 1}, \"14\": {\"7\": 27, \"0\": 24, \"8\": 20, \"2\": 6, \"3\": 23, \"4\": 18, \"13\": 21, \"9\": 15, \"5\": 17, \"11\": 26, \"14\": 28, \"15\": 6, \"1\": 1, \"12\": 5, \"6\": 3}, \"2\": {\"13\": 18, \"9\": 25, \"4\": 23, \"2\": 31, \"8\": 14, \"11\": 11, \"12\": 16, \"15\": 2, \"0\": 26, \"7\": 16, \"14\": 19, \"10\": 6, \"3\": 7, \"5\": 23, \"1\": 2, \"6\": 1}, \"0\": {\"13\": 15, \"14\": 23, \"5\": 23, \"4\": 22, \"9\": 18, \"15\": 7, \"2\": 19, \"0\": 22, \"11\": 22, \"8\": 19, \"3\": 22, \"7\": 16, \"12\": 10, \"10\": 1, \"6\": 1}, \"1\": {\"1\": 115, \"12\": 19, \"10\": 47, \"6\": 52, \"9\": 6, \"5\": 1}, \"10\": {\"10\": 80, \"6\": 43, \"1\": 41, \"14\": 3, \"12\": 47, \"15\": 1, \"2\": 2, \"5\": 4, \"13\": 1, \"4\": 1, \"9\": 13, \"3\": 1, \"8\": 1, \"11\": 1, \"7\": 1}, \"11\": {\"13\": 25, \"14\": 26, \"0\": 29, \"15\": 13, \"5\": 21, \"11\": 16, \"8\": 22, \"4\": 17, \"12\": 5, \"3\": 18, \"7\": 20, \"2\": 21, \"9\": 7}, \"5\": {\"5\": 26, \"8\": 17, \"2\": 17, \"0\": 22, \"13\": 16, \"11\": 19, \"4\": 22, \"7\": 22, \"14\": 29, \"3\": 21, \"9\": 9, \"15\": 10, \"12\": 7, \"10\": 2, \"6\": 1}, \"15\": {\"15\": 77, \"5\": 16, \"0\": 16, \"7\": 13, \"8\": 35, \"3\": 28, \"11\": 14, \"13\": 14, \"14\": 16, \"9\": 2, \"4\": 6, \"2\": 2, \"12\": 1}, \"3\": {\"14\": 19, \"4\": 18, \"15\": 31, \"7\": 17, \"0\": 21, \"13\": 26, \"11\": 17, \"5\": 24, \"8\": 24, \"3\": 25, \"2\": 11, \"12\": 1, \"9\": 5, \"10\": 1}, \"12\": {\"0\": 7, \"7\": 6, \"12\": 58, \"1\": 10, \"2\": 14, \"6\": 30, \"9\": 31, \"4\": 11, \"10\": 43, \"14\": 5, \"13\": 4, \"11\": 3, \"5\": 7, \"3\": 6, \"8\": 2, \"15\": 3}, \"7\": {\"5\": 19, \"8\": 21, \"7\": 21, \"4\": 24, \"11\": 19, \"13\": 13, \"12\": 9, \"0\": 20, \"2\": 23, \"9\": 18, \"3\": 16, \"14\": 23, \"15\": 14}, \"13\": {\"13\": 27, \"11\": 16, \"8\": 30, \"5\": 19, \"3\": 29, \"4\": 23, \"0\": 19, \"15\": 14, \"7\": 16, \"14\": 26, \"9\": 7, \"2\": 10, \"12\": 2, \"10\": 2}, \"6\": {\"1\": 64, \"10\": 37, \"6\": 80, \"9\": 17, \"12\": 34, \"4\": 3, \"7\": 1, \"2\": 1, \"15\": 1, \"0\": 1, \"11\": 1}, \"4\": {\"13\": 19, \"14\": 25, \"7\": 28, \"12\": 8, \"2\": 20, \"5\": 26, \"3\": 12, \"9\": 10, \"0\": 24, \"4\": 20, \"11\": 14, \"15\": 13, \"8\": 19, \"6\": 1, \"10\": 1}, \"9\": {\"0\": 16, \"7\": 14, \"12\": 44, \"14\": 10, \"2\": 33, \"4\": 12, \"10\": 17, \"6\": 16, \"13\": 14, \"3\": 7, \"5\": 7, \"9\": 33, \"11\": 7, \"8\": 8, \"1\": 2}}, \"ORACLE.run126\": {\"4\": {\"10\": 22, \"2\": 10, \"0\": 18, \"15\": 10, \"1\": 18, \"8\": 19, \"3\": 19, \"6\": 17, \"4\": 19, \"13\": 7, \"7\": 20, \"14\": 21, \"5\": 17, \"11\": 4, \"9\": 11, \"12\": 8}, \"12\": {\"8\": 16, \"14\": 10, \"9\": 19, \"12\": 30, \"5\": 11, \"6\": 17, \"3\": 14, \"10\": 13, \"4\": 11, \"11\": 21, \"13\": 27, \"15\": 19, \"0\": 7, \"7\": 9, \"2\": 11, \"1\": 5}, \"10\": {\"15\": 17, \"10\": 18, \"4\": 14, \"8\": 13, \"14\": 11, \"0\": 18, \"1\": 20, \"7\": 19, \"5\": 20, \"3\": 14, \"6\": 15, \"13\": 15, \"11\": 6, \"9\": 14, \"12\": 12, \"2\": 14}, \"0\": {\"12\": 9, \"7\": 17, \"1\": 20, \"4\": 18, \"11\": 7, \"10\": 15, \"9\": 14, \"3\": 19, \"5\": 15, \"6\": 14, \"2\": 12, \"14\": 27, \"13\": 11, \"15\": 13, \"8\": 18, \"0\": 11}, \"13\": {\"11\": 26, \"6\": 20, \"9\": 17, \"13\": 19, \"5\": 25, \"8\": 14, \"12\": 16, \"0\": 8, \"15\": 19, \"14\": 7, \"1\": 9, \"7\": 12, \"4\": 12, \"2\": 16, \"3\": 12, \"10\": 8}, \"9\": {\"9\": 27, \"6\": 13, \"13\": 18, \"15\": 17, \"8\": 14, \"10\": 13, \"14\": 18, \"0\": 11, \"12\": 20, \"5\": 18, \"1\": 10, \"11\": 7, \"2\": 10, \"3\": 12, \"4\": 16, \"7\": 16}, \"3\": {\"5\": 19, \"9\": 14, \"4\": 12, \"15\": 16, \"2\": 20, \"3\": 28, \"0\": 12, \"1\": 15, \"13\": 9, \"8\": 20, \"14\": 19, \"6\": 8, \"12\": 8, \"7\": 20, \"10\": 15, \"11\": 5}, \"2\": {\"14\": 18, \"12\": 12, \"2\": 23, \"10\": 19, \"8\": 12, \"9\": 14, \"5\": 16, \"1\": 14, \"3\": 18, \"4\": 18, \"0\": 16, \"11\": 8, \"7\": 17, \"6\": 12, \"15\": 12, \"13\": 11}, \"5\": {\"6\": 15, \"13\": 18, \"10\": 16, \"3\": 24, \"7\": 13, \"9\": 14, \"8\": 15, \"11\": 16, \"0\": 17, \"2\": 16, \"5\": 18, \"14\": 10, \"15\": 15, \"12\": 15, \"1\": 6, \"4\": 12}, \"14\": {\"14\": 22, \"0\": 23, \"12\": 10, \"13\": 13, \"1\": 20, \"8\": 19, \"4\": 19, \"5\": 11, \"10\": 18, \"15\": 11, \"3\": 24, \"7\": 16, \"6\": 12, \"9\": 11, \"2\": 9, \"11\": 2}, \"8\": {\"12\": 7, \"3\": 19, \"9\": 16, \"4\": 11, \"15\": 18, \"7\": 17, \"6\": 19, \"11\": 9, \"10\": 17, \"14\": 19, \"0\": 19, \"1\": 12, \"2\": 19, \"5\": 13, \"8\": 15, \"13\": 10}, \"7\": {\"13\": 13, \"3\": 20, \"6\": 10, \"4\": 18, \"8\": 19, \"15\": 9, \"10\": 21, \"12\": 12, \"9\": 10, \"1\": 20, \"0\": 16, \"2\": 13, \"14\": 24, \"5\": 12, \"7\": 19, \"11\": 4}, \"6\": {\"14\": 17, \"8\": 17, \"9\": 21, \"4\": 12, \"15\": 15, \"5\": 18, \"10\": 12, \"0\": 14, \"6\": 11, \"13\": 22, \"7\": 19, \"12\": 17, \"3\": 17, \"11\": 5, \"2\": 14, \"1\": 9}, \"11\": {\"5\": 21, \"12\": 47, \"11\": 55, \"15\": 19, \"0\": 4, \"13\": 19, \"2\": 6, \"9\": 17, \"14\": 5, \"8\": 5, \"1\": 5, \"10\": 10, \"6\": 11, \"4\": 6, \"7\": 5, \"3\": 5}, \"15\": {\"1\": 14, \"6\": 19, \"11\": 13, \"2\": 20, \"5\": 14, \"10\": 18, \"3\": 16, \"0\": 12, \"14\": 18, \"7\": 17, \"15\": 14, \"9\": 10, \"8\": 19, \"13\": 12, \"4\": 15, \"12\": 9}, \"1\": {\"7\": 18, \"4\": 18, \"2\": 20, \"10\": 22, \"3\": 18, \"6\": 10, \"14\": 18, \"0\": 14, \"15\": 10, \"9\": 18, \"12\": 9, \"1\": 30, \"8\": 14, \"5\": 11, \"13\": 8, \"11\": 2}}, \"ORACLE.run144\": {\"12\": {\"6\": 17, \"2\": 27, \"11\": 16, \"10\": 22, \"3\": 23, \"1\": 28, \"4\": 6, \"9\": 23, \"12\": 28, \"8\": 3, \"13\": 12, \"5\": 3, \"7\": 19, \"0\": 3, \"14\": 9, \"15\": 1}, \"7\": {\"11\": 20, \"13\": 21, \"7\": 31, \"1\": 21, \"6\": 24, \"4\": 28, \"12\": 11, \"14\": 9, \"2\": 19, \"15\": 2, \"9\": 21, \"3\": 12, \"10\": 15, \"5\": 4, \"0\": 2}, \"5\": {\"15\": 49, \"4\": 27, \"8\": 23, \"0\": 40, \"7\": 2, \"5\": 36, \"12\": 10, \"9\": 8, \"14\": 20, \"11\": 4, \"13\": 4, \"10\": 1, \"1\": 4, \"3\": 7, \"6\": 3, \"2\": 2}, \"15\": {\"15\": 50, \"0\": 23, \"8\": 32, \"14\": 31, \"4\": 31, \"5\": 26, \"3\": 9, \"9\": 6, \"6\": 4, \"1\": 8, \"2\": 3, \"13\": 7, \"7\": 3, \"10\": 5, \"11\": 2}, \"8\": {\"14\": 23, \"0\": 66, \"8\": 62, \"15\": 28, \"5\": 40, \"12\": 1, \"4\": 10, \"3\": 3, \"11\": 2, \"13\": 2, \"9\": 2, \"10\": 1}, \"2\": {\"11\": 14, \"2\": 41, \"4\": 13, \"3\": 20, \"9\": 20, \"7\": 24, \"12\": 20, \"13\": 18, \"1\": 28, \"10\": 19, \"14\": 4, \"6\": 17, \"15\": 2}, \"13\": {\"2\": 14, \"12\": 21, \"13\": 27, \"7\": 23, \"4\": 16, \"10\": 17, \"9\": 20, \"6\": 31, \"11\": 24, \"14\": 6, \"3\": 14, \"1\": 19, \"8\": 1, \"5\": 2, \"0\": 2, \"15\": 3}, \"4\": {\"15\": 19, \"11\": 9, \"14\": 33, \"6\": 12, \"12\": 7, \"9\": 14, \"3\": 19, \"7\": 10, \"5\": 25, \"0\": 16, \"1\": 10, \"10\": 8, \"13\": 16, \"4\": 24, \"8\": 9, \"2\": 9}, \"0\": {\"0\": 49, \"9\": 6, \"14\": 28, \"8\": 48, \"15\": 27, \"4\": 18, \"2\": 4, \"12\": 3, \"1\": 4, \"13\": 4, \"5\": 41, \"11\": 2, \"10\": 3, \"7\": 2, \"3\": 1}, \"6\": {\"6\": 38, \"13\": 29, \"11\": 28, \"10\": 23, \"2\": 16, \"1\": 14, \"12\": 11, \"7\": 19, \"4\": 11, \"9\": 29, \"3\": 12, \"0\": 1, \"14\": 7, \"5\": 2}, \"9\": {\"3\": 17, \"15\": 7, \"2\": 15, \"11\": 14, \"6\": 22, \"7\": 25, \"13\": 29, \"4\": 16, \"10\": 17, \"14\": 15, \"9\": 21, \"1\": 16, \"12\": 19, \"5\": 2, \"0\": 1, \"8\": 4}, \"11\": {\"5\": 6, \"6\": 40, \"11\": 44, \"7\": 25, \"10\": 12, \"3\": 12, \"2\": 22, \"13\": 22, \"12\": 10, \"4\": 5, \"9\": 22, \"1\": 12, \"14\": 7, \"8\": 1}, \"10\": {\"12\": 23, \"4\": 6, \"2\": 29, \"11\": 13, \"10\": 18, \"13\": 21, \"3\": 24, \"9\": 23, \"6\": 17, \"1\": 30, \"7\": 27, \"14\": 3, \"8\": 1, \"15\": 2, \"5\": 2, \"0\": 1}, \"14\": {\"9\": 13, \"13\": 14, \"12\": 6, \"7\": 8, \"3\": 16, \"14\": 21, \"8\": 22, \"4\": 28, \"0\": 27, \"1\": 11, \"15\": 32, \"5\": 26, \"2\": 6, \"11\": 5, \"10\": 2, \"6\": 3}, \"1\": {\"3\": 26, \"12\": 26, \"7\": 24, \"9\": 26, \"13\": 9, \"1\": 33, \"15\": 8, \"5\": 4, \"0\": 3, \"2\": 22, \"4\": 15, \"14\": 8, \"10\": 12, \"11\": 8, \"6\": 13, \"8\": 3}, \"3\": {\"15\": 14, \"11\": 17, \"3\": 23, \"10\": 21, \"7\": 10, \"12\": 29, \"2\": 24, \"4\": 17, \"9\": 17, \"8\": 3, \"1\": 26, \"14\": 12, \"5\": 5, \"6\": 5, \"13\": 12, \"0\": 5}}}, \"per_domain_accuracy\": {\"Wisig_3\": {\"accuracy\": 0.9760142543859649, \"source?\": true}, \"Wisig_4\": {\"accuracy\": 0.9609053497942387, \"source?\": true}, \"Wisig_1\": {\"accuracy\": 0.9765957446808511, \"source?\": true}, \"Wisig_2\": {\"accuracy\": 0.9600840336134454, \"source?\": true}, \"ORACLE.run114\": {\"accuracy\": 0.09973958333333334, \"source?\": false}, \"ORACLE.run120\": {\"accuracy\": 0.07838541666666667, \"source?\": false}, \"ORACLE.run138\": {\"accuracy\": 0.13333333333333333, \"source?\": false}, \"ORACLE.run18\": {\"accuracy\": 0.11067708333333333, \"source?\": false}, \"ORACLE.run150\": {\"accuracy\": 0.11484375, \"source?\": false}, \"ORACLE.run132\": {\"accuracy\": 0.17760416666666667, \"source?\": false}, \"ORACLE.run126\": {\"accuracy\": 0.09348958333333333, \"source?\": false}, \"ORACLE.run144\": {\"accuracy\": 0.1421875, \"source?\": false}}}, \"history\": {\"epoch_indices\": [1, 2, 3, 4, 5, 6], \"train_label_loss\": [0.19317064626656671, 0.12516268638595082, 0.09942900960731658, 0.08404742038635937, 0.07002341683588693, 0.0568711382061325], \"source_val_label_loss\": [0.17653238773345947, 0.13780991733074188, 0.12108413875102997, 0.12232188135385513, 0.12935858964920044, 0.12651188671588898], \"target_val_label_loss\": [2.6959424018859863, 2.666403293609619, 2.7210896015167236, 2.7474846839904785, 2.813904047012329, 2.8435373306274414], \"source_val_acc_label\": [0.9615664724576272, 0.9682534427966102, 0.972556938559322, 0.9731197033898306, 0.9728217690677966, 0.9730203919491526], \"target_val_acc_label\": [0.11865234375, 0.11878255208333334, 0.1064453125, 0.10270182291666667, 0.09586588541666667, 0.09677734375]}, \"dataset_metrics\": {\"source\": {\"train\": {\"n_unique_x\": 188978, \"n_unique_y\": 130, \"n_batch/episode\": 6831}, \"val\": {\"n_unique_x\": 40068, \"n_unique_y\": 130, \"n_batch/episode\": 944}, \"test\": {\"n_unique_x\": 40816, \"n_unique_y\": 130, \"n_batch/episode\": 969}}, \"target\": {\"train\": {\"n_unique_x\": 179200, \"n_unique_y\": 16, \"n_batch/episode\": 6720}, \"val\": {\"n_unique_x\": 38400, \"n_unique_y\": 16, \"n_batch/episode\": 960}, \"test\": {\"n_unique_x\": 38400, \"n_unique_y\": 16, \"n_batch/episode\": 960}}}}'"
      ]
     },
     "execution_count": 29,
     "metadata": {},
     "output_type": "execute_result"
    }
   ],
   "source": [
    "json.dumps(experiment)"
   ]
  }
 ],
 "metadata": {
  "celltoolbar": "Tags",
  "kernelspec": {
   "display_name": "Python 3 (ipykernel)",
   "language": "python",
   "name": "python3"
  },
  "language_info": {
   "codemirror_mode": {
    "name": "ipython",
    "version": 3
   },
   "file_extension": ".py",
   "mimetype": "text/x-python",
   "name": "python",
   "nbconvert_exporter": "python",
   "pygments_lexer": "ipython3",
   "version": "3.8.12"
  },
  "papermill": {
   "default_parameters": {},
   "duration": 1563.655433,
   "end_time": "2022-03-22T15:55:35.978230",
   "environment_variables": {},
   "exception": null,
   "input_path": "/root/csc500-main/csc500-notebooks/templates/tl_ptn_template.ipynb",
   "output_path": "trial.ipynb",
   "parameters": {
    "parameters": {
     "BEST_MODEL_PATH": "./best_model.pth",
     "NUM_LOGS_PER_EPOCH": 10,
     "criteria_for_best": "target_accuracy",
     "dataset_seed": 1337,
     "datasets": [
      {
       "domain_prefix": "Wisig_",
       "domains": [
        1,
        2,
        3,
        4
       ],
       "episode_transforms": [],
       "labels": [
        "1-10",
        "1-12",
        "1-14",
        "1-16",
        "1-18",
        "1-19",
        "1-8",
        "10-11",
        "10-17",
        "10-4",
        "10-7",
        "11-1",
        "11-10",
        "11-19",
        "11-20",
        "11-4",
        "11-7",
        "12-19",
        "12-20",
        "12-7",
        "13-14",
        "13-18",
        "13-19",
        "13-20",
        "13-3",
        "13-7",
        "14-10",
        "14-11",
        "14-12",
        "14-13",
        "14-14",
        "14-19",
        "14-20",
        "14-7",
        "14-8",
        "14-9",
        "15-1",
        "15-19",
        "15-6",
        "16-1",
        "16-16",
        "16-19",
        "16-20",
        "17-10",
        "17-11",
        "18-1",
        "18-10",
        "18-11",
        "18-12",
        "18-13",
        "18-14",
        "18-15",
        "18-16",
        "18-17",
        "18-19",
        "18-2",
        "18-20",
        "18-4",
        "18-5",
        "18-7",
        "18-8",
        "18-9",
        "19-1",
        "19-10",
        "19-11",
        "19-12",
        "19-13",
        "19-14",
        "19-15",
        "19-19",
        "19-2",
        "19-20",
        "19-3",
        "19-4",
        "19-6",
        "19-7",
        "19-8",
        "19-9",
        "2-1",
        "2-13",
        "2-15",
        "2-3",
        "2-4",
        "2-5",
        "2-6",
        "2-7",
        "2-8",
        "20-1",
        "20-12",
        "20-14",
        "20-15",
        "20-16",
        "20-18",
        "20-19",
        "20-20",
        "20-3",
        "20-4",
        "20-5",
        "20-7",
        "20-8",
        "3-1",
        "3-13",
        "3-18",
        "3-2",
        "3-8",
        "4-1",
        "4-10",
        "4-11",
        "5-1",
        "5-5",
        "6-1",
        "6-15",
        "6-6",
        "7-10",
        "7-11",
        "7-12",
        "7-13",
        "7-14",
        "7-7",
        "7-8",
        "7-9",
        "8-1",
        "8-13",
        "8-14",
        "8-18",
        "8-20",
        "8-3",
        "8-8",
        "9-1",
        "9-7"
       ],
       "num_examples_per_domain_per_label": -1,
       "pickle_path": "/root/csc500-main/datasets/wisig.node3-19.stratified_ds.2022A.pkl",
       "source_or_target_dataset": "source",
       "x_transforms": [
        "unit_power"
       ]
      },
      {
       "domain_prefix": "ORACLE.run1",
       "domains": [
        32,
        38,
        8,
        44,
        14,
        50,
        20,
        26
       ],
       "episode_transforms": [],
       "labels": [
        "3123D52",
        "3123D65",
        "3123D79",
        "3123D80",
        "3123D54",
        "3123D70",
        "3123D7B",
        "3123D89",
        "3123D58",
        "3123D76",
        "3123D7D",
        "3123EFE",
        "3123D64",
        "3123D78",
        "3123D7E",
        "3124E4A"
       ],
       "num_examples_per_domain_per_label": 2000,
       "pickle_path": "/root/csc500-main/datasets/oracle.Run1_10kExamples_stratified_ds.2022A.pkl",
       "source_or_target_dataset": "target",
       "x_transforms": [
        "unit_power"
       ]
      }
     ],
     "device": "cuda",
     "experiment_name": "tl_1v2:wisig-oracle.run1.limited",
     "lr": 0.0001,
     "n_epoch": 50,
     "n_query": 2,
     "n_shot": 3,
     "n_way": 16,
     "patience": 3,
     "seed": 1337,
     "test_k_factor": 2,
     "torch_default_dtype": "torch.float32",
     "train_k_factor": 3,
     "val_k_factor": 2,
     "x_net": [
      {
       "class": "nnReshape",
       "kargs": {
        "shape": [
         -1,
         1,
         2,
         256
        ]
       }
      },
      {
       "class": "Conv2d",
       "kargs": {
        "bias": false,
        "in_channels": 1,
        "kernel_size": [
         1,
         7
        ],
        "out_channels": 256,
        "padding": [
         0,
         3
        ]
       }
      },
      {
       "class": "ReLU",
       "kargs": {
        "inplace": true
       }
      },
      {
       "class": "BatchNorm2d",
       "kargs": {
        "num_features": 256
       }
      },
      {
       "class": "Conv2d",
       "kargs": {
        "bias": true,
        "in_channels": 256,
        "kernel_size": [
         2,
         7
        ],
        "out_channels": 80,
        "padding": [
         0,
         3
        ]
       }
      },
      {
       "class": "ReLU",
       "kargs": {
        "inplace": true
       }
      },
      {
       "class": "BatchNorm2d",
       "kargs": {
        "num_features": 80
       }
      },
      {
       "class": "Flatten",
       "kargs": {}
      },
      {
       "class": "Linear",
       "kargs": {
        "in_features": 20480,
        "out_features": 256
       }
      },
      {
       "class": "ReLU",
       "kargs": {
        "inplace": true
       }
      },
      {
       "class": "BatchNorm1d",
       "kargs": {
        "num_features": 256
       }
      },
      {
       "class": "Linear",
       "kargs": {
        "in_features": 256,
        "out_features": 256
       }
      }
     ]
    }
   },
   "start_time": "2022-03-22T15:29:32.322797",
   "version": "2.3.4"
  }
 },
 "nbformat": 4,
 "nbformat_minor": 5
}