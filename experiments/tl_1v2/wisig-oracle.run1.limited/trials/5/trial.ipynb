{
 "cells": [
  {
   "cell_type": "markdown",
   "id": "9fea5f46",
   "metadata": {
    "papermill": {
     "duration": 0.029481,
     "end_time": "2022-03-22T18:27:35.639764",
     "exception": false,
     "start_time": "2022-03-22T18:27:35.610283",
     "status": "completed"
    },
    "tags": []
   },
   "source": [
    "# Transfer Learning Template"
   ]
  },
  {
   "cell_type": "code",
   "execution_count": 1,
   "id": "0902182a",
   "metadata": {
    "execution": {
     "iopub.execute_input": "2022-03-22T18:27:35.704688Z",
     "iopub.status.busy": "2022-03-22T18:27:35.697774Z",
     "iopub.status.idle": "2022-03-22T18:27:37.528771Z",
     "shell.execute_reply": "2022-03-22T18:27:37.527888Z"
    },
    "papermill": {
     "duration": 1.865391,
     "end_time": "2022-03-22T18:27:37.528963",
     "exception": false,
     "start_time": "2022-03-22T18:27:35.663572",
     "status": "completed"
    },
    "tags": []
   },
   "outputs": [],
   "source": [
    "%load_ext autoreload\n",
    "%autoreload 2\n",
    "%matplotlib inline\n",
    "\n",
    "    \n",
    "import os, json, sys, time, random\n",
    "import numpy as np\n",
    "import torch\n",
    "from torch.optim import Adam\n",
    "from  easydict import EasyDict\n",
    "import matplotlib.pyplot as plt\n",
    "\n",
    "from steves_models.steves_ptn import Steves_Prototypical_Network\n",
    "\n",
    "from steves_utils.lazy_iterable_wrapper import Lazy_Iterable_Wrapper\n",
    "from steves_utils.iterable_aggregator import Iterable_Aggregator\n",
    "from steves_utils.ptn_train_eval_test_jig import  PTN_Train_Eval_Test_Jig\n",
    "from steves_utils.torch_sequential_builder import build_sequential\n",
    "from steves_utils.torch_utils import get_dataset_metrics, ptn_confusion_by_domain_over_dataloader\n",
    "from steves_utils.utils_v2 import (per_domain_accuracy_from_confusion, get_datasets_base_path)\n",
    "from steves_utils.PTN.utils import independent_accuracy_assesment\n",
    "\n",
    "from torch.utils.data import DataLoader\n",
    "\n",
    "from steves_utils.stratified_dataset.episodic_accessor import Episodic_Accessor_Factory\n",
    "\n",
    "from steves_utils.ptn_do_report import (\n",
    "    get_loss_curve,\n",
    "    get_results_table,\n",
    "    get_parameters_table,\n",
    "    get_domain_accuracies,\n",
    ")\n",
    "\n",
    "from steves_utils.transforms import get_chained_transform"
   ]
  },
  {
   "cell_type": "markdown",
   "id": "41c840b4",
   "metadata": {
    "papermill": {
     "duration": 0.019318,
     "end_time": "2022-03-22T18:27:37.574386",
     "exception": false,
     "start_time": "2022-03-22T18:27:37.555068",
     "status": "completed"
    },
    "tags": []
   },
   "source": [
    "# Allowed Parameters\n",
    "These are allowed parameters, not defaults\n",
    "Each of these values need to be present in the injected parameters (the notebook will raise an exception if they are not present)\n",
    "\n",
    "Papermill uses the cell tag \"parameters\" to inject the real parameters below this cell.\n",
    "Enable tags to see what I mean"
   ]
  },
  {
   "cell_type": "code",
   "execution_count": 2,
   "id": "fd44eb83",
   "metadata": {
    "execution": {
     "iopub.execute_input": "2022-03-22T18:27:37.618939Z",
     "iopub.status.busy": "2022-03-22T18:27:37.618366Z",
     "iopub.status.idle": "2022-03-22T18:27:37.642668Z",
     "shell.execute_reply": "2022-03-22T18:27:37.641864Z"
    },
    "papermill": {
     "duration": 0.049137,
     "end_time": "2022-03-22T18:27:37.642825",
     "exception": false,
     "start_time": "2022-03-22T18:27:37.593688",
     "status": "completed"
    },
    "tags": []
   },
   "outputs": [],
   "source": [
    "required_parameters = {\n",
    "    \"experiment_name\",\n",
    "    \"lr\",\n",
    "    \"device\",\n",
    "    \"seed\",\n",
    "    \"dataset_seed\",\n",
    "    \"n_shot\",\n",
    "    \"n_query\",\n",
    "    \"n_way\",\n",
    "    \"train_k_factor\",\n",
    "    \"val_k_factor\",\n",
    "    \"test_k_factor\",\n",
    "    \"n_epoch\",\n",
    "    \"patience\",\n",
    "    \"criteria_for_best\",\n",
    "    \"x_net\",\n",
    "    \"datasets\",\n",
    "    \"torch_default_dtype\",\n",
    "    \"NUM_LOGS_PER_EPOCH\",\n",
    "    \"BEST_MODEL_PATH\",\n",
    "    \"x_shape\",\n",
    "}"
   ]
  },
  {
   "cell_type": "code",
   "execution_count": 3,
   "id": "fa3f0049",
   "metadata": {
    "execution": {
     "iopub.execute_input": "2022-03-22T18:27:37.703263Z",
     "iopub.status.busy": "2022-03-22T18:27:37.702355Z",
     "iopub.status.idle": "2022-03-22T18:27:37.724607Z",
     "shell.execute_reply": "2022-03-22T18:27:37.723801Z"
    },
    "papermill": {
     "duration": 0.055312,
     "end_time": "2022-03-22T18:27:37.724759",
     "exception": false,
     "start_time": "2022-03-22T18:27:37.669447",
     "status": "completed"
    },
    "tags": [
     "parameters"
    ]
   },
   "outputs": [],
   "source": [
    "from steves_utils.CORES.utils import (\n",
    "    ALL_NODES,\n",
    "    ALL_NODES_MINIMUM_1000_EXAMPLES,\n",
    "    ALL_DAYS\n",
    ")\n",
    "\n",
    "from steves_utils.ORACLE.utils_v2 import (\n",
    "    ALL_DISTANCES_FEET_NARROWED,\n",
    "    ALL_RUNS,\n",
    "    ALL_SERIAL_NUMBERS,\n",
    ")\n",
    "\n",
    "standalone_parameters = {}\n",
    "standalone_parameters[\"experiment_name\"] = \"STANDALONE PTN\"\n",
    "standalone_parameters[\"lr\"] = 0.001\n",
    "standalone_parameters[\"device\"] = \"cuda\"\n",
    "\n",
    "standalone_parameters[\"seed\"] = 1337\n",
    "standalone_parameters[\"dataset_seed\"] = 1337\n",
    "\n",
    "standalone_parameters[\"n_way\"] = 8\n",
    "standalone_parameters[\"n_shot\"] = 3\n",
    "standalone_parameters[\"n_query\"]  = 2\n",
    "standalone_parameters[\"train_k_factor\"] = 1\n",
    "standalone_parameters[\"val_k_factor\"] = 2\n",
    "standalone_parameters[\"test_k_factor\"] = 2\n",
    "\n",
    "\n",
    "standalone_parameters[\"n_epoch\"] = 50\n",
    "\n",
    "standalone_parameters[\"patience\"] = 10\n",
    "standalone_parameters[\"criteria_for_best\"] = \"source_loss\"\n",
    "\n",
    "standalone_parameters[\"datasets\"] = [\n",
    "    {\n",
    "        \"labels\": ALL_SERIAL_NUMBERS,\n",
    "        \"domains\": ALL_DISTANCES_FEET_NARROWED,\n",
    "        \"num_examples_per_domain_per_label\": 100,\n",
    "        \"pickle_path\": os.path.join(get_datasets_base_path(), \"oracle.Run1_framed_2000Examples_stratified_ds.2022A.pkl\"),\n",
    "        \"source_or_target_dataset\": \"source\",\n",
    "        \"x_transforms\": [\"unit_mag\", \"minus_two\"],\n",
    "        \"episode_transforms\": [],\n",
    "        \"domain_prefix\": \"ORACLE_\"\n",
    "    },\n",
    "    {\n",
    "        \"labels\": ALL_NODES,\n",
    "        \"domains\": ALL_DAYS,\n",
    "        \"num_examples_per_domain_per_label\": 100,\n",
    "        \"pickle_path\": os.path.join(get_datasets_base_path(), \"cores.stratified_ds.2022A.pkl\"),\n",
    "        \"source_or_target_dataset\": \"target\",\n",
    "        \"x_transforms\": [\"unit_power\", \"times_zero\"],\n",
    "        \"episode_transforms\": [],\n",
    "        \"domain_prefix\": \"CORES_\"\n",
    "    }   \n",
    "]\n",
    "\n",
    "standalone_parameters[\"torch_default_dtype\"] = \"torch.float32\" \n",
    "\n",
    "\n",
    "\n",
    "standalone_parameters[\"x_net\"] =     [\n",
    "    {\"class\": \"nnReshape\", \"kargs\": {\"shape\":[-1, 1, 2, 256]}},\n",
    "    {\"class\": \"Conv2d\", \"kargs\": { \"in_channels\":1, \"out_channels\":256, \"kernel_size\":(1,7), \"bias\":False, \"padding\":(0,3), },},\n",
    "    {\"class\": \"ReLU\", \"kargs\": {\"inplace\": True}},\n",
    "    {\"class\": \"BatchNorm2d\", \"kargs\": {\"num_features\":256}},\n",
    "\n",
    "    {\"class\": \"Conv2d\", \"kargs\": { \"in_channels\":256, \"out_channels\":80, \"kernel_size\":(2,7), \"bias\":True, \"padding\":(0,3), },},\n",
    "    {\"class\": \"ReLU\", \"kargs\": {\"inplace\": True}},\n",
    "    {\"class\": \"BatchNorm2d\", \"kargs\": {\"num_features\":80}},\n",
    "    {\"class\": \"Flatten\", \"kargs\": {}},\n",
    "\n",
    "    {\"class\": \"Linear\", \"kargs\": {\"in_features\": 80*256, \"out_features\": 256}}, # 80 units per IQ pair\n",
    "    {\"class\": \"ReLU\", \"kargs\": {\"inplace\": True}},\n",
    "    {\"class\": \"BatchNorm1d\", \"kargs\": {\"num_features\":256}},\n",
    "\n",
    "    {\"class\": \"Linear\", \"kargs\": {\"in_features\": 256, \"out_features\": 256}},\n",
    "]\n",
    "\n",
    "# Parameters relevant to results\n",
    "# These parameters will basically never need to change\n",
    "standalone_parameters[\"NUM_LOGS_PER_EPOCH\"] = 10\n",
    "standalone_parameters[\"BEST_MODEL_PATH\"] = \"./best_model.pth\"\n",
    "\n",
    "\n",
    "\n",
    "\n"
   ]
  },
  {
   "cell_type": "code",
   "execution_count": 4,
   "id": "45423841",
   "metadata": {
    "execution": {
     "iopub.execute_input": "2022-03-22T18:27:37.786274Z",
     "iopub.status.busy": "2022-03-22T18:27:37.785290Z",
     "iopub.status.idle": "2022-03-22T18:27:37.808040Z",
     "shell.execute_reply": "2022-03-22T18:27:37.807359Z"
    },
    "papermill": {
     "duration": 0.06017,
     "end_time": "2022-03-22T18:27:37.808198",
     "exception": false,
     "start_time": "2022-03-22T18:27:37.748028",
     "status": "completed"
    },
    "tags": [
     "injected-parameters"
    ]
   },
   "outputs": [],
   "source": [
    "# Parameters\n",
    "parameters = {\n",
    "    \"experiment_name\": \"tl_1v2:wisig-oracle.run1.limited\",\n",
    "    \"device\": \"cuda\",\n",
    "    \"lr\": 0.0001,\n",
    "    \"n_shot\": 3,\n",
    "    \"n_query\": 2,\n",
    "    \"train_k_factor\": 3,\n",
    "    \"val_k_factor\": 2,\n",
    "    \"test_k_factor\": 2,\n",
    "    \"torch_default_dtype\": \"torch.float32\",\n",
    "    \"n_epoch\": 50,\n",
    "    \"patience\": 3,\n",
    "    \"criteria_for_best\": \"target_accuracy\",\n",
    "    \"x_net\": [\n",
    "        {\"class\": \"nnReshape\", \"kargs\": {\"shape\": [-1, 1, 2, 256]}},\n",
    "        {\n",
    "            \"class\": \"Conv2d\",\n",
    "            \"kargs\": {\n",
    "                \"in_channels\": 1,\n",
    "                \"out_channels\": 256,\n",
    "                \"kernel_size\": [1, 7],\n",
    "                \"bias\": False,\n",
    "                \"padding\": [0, 3],\n",
    "            },\n",
    "        },\n",
    "        {\"class\": \"ReLU\", \"kargs\": {\"inplace\": True}},\n",
    "        {\"class\": \"BatchNorm2d\", \"kargs\": {\"num_features\": 256}},\n",
    "        {\n",
    "            \"class\": \"Conv2d\",\n",
    "            \"kargs\": {\n",
    "                \"in_channels\": 256,\n",
    "                \"out_channels\": 80,\n",
    "                \"kernel_size\": [2, 7],\n",
    "                \"bias\": True,\n",
    "                \"padding\": [0, 3],\n",
    "            },\n",
    "        },\n",
    "        {\"class\": \"ReLU\", \"kargs\": {\"inplace\": True}},\n",
    "        {\"class\": \"BatchNorm2d\", \"kargs\": {\"num_features\": 80}},\n",
    "        {\"class\": \"Flatten\", \"kargs\": {}},\n",
    "        {\"class\": \"Linear\", \"kargs\": {\"in_features\": 20480, \"out_features\": 256}},\n",
    "        {\"class\": \"ReLU\", \"kargs\": {\"inplace\": True}},\n",
    "        {\"class\": \"BatchNorm1d\", \"kargs\": {\"num_features\": 256}},\n",
    "        {\"class\": \"Linear\", \"kargs\": {\"in_features\": 256, \"out_features\": 256}},\n",
    "    ],\n",
    "    \"NUM_LOGS_PER_EPOCH\": 10,\n",
    "    \"BEST_MODEL_PATH\": \"./best_model.pth\",\n",
    "    \"n_way\": 16,\n",
    "    \"datasets\": [\n",
    "        {\n",
    "            \"labels\": [\n",
    "                \"1-10\",\n",
    "                \"1-12\",\n",
    "                \"1-14\",\n",
    "                \"1-16\",\n",
    "                \"1-18\",\n",
    "                \"1-19\",\n",
    "                \"1-8\",\n",
    "                \"10-11\",\n",
    "                \"10-17\",\n",
    "                \"10-4\",\n",
    "                \"10-7\",\n",
    "                \"11-1\",\n",
    "                \"11-10\",\n",
    "                \"11-19\",\n",
    "                \"11-20\",\n",
    "                \"11-4\",\n",
    "                \"11-7\",\n",
    "                \"12-19\",\n",
    "                \"12-20\",\n",
    "                \"12-7\",\n",
    "                \"13-14\",\n",
    "                \"13-18\",\n",
    "                \"13-19\",\n",
    "                \"13-20\",\n",
    "                \"13-3\",\n",
    "                \"13-7\",\n",
    "                \"14-10\",\n",
    "                \"14-11\",\n",
    "                \"14-12\",\n",
    "                \"14-13\",\n",
    "                \"14-14\",\n",
    "                \"14-19\",\n",
    "                \"14-20\",\n",
    "                \"14-7\",\n",
    "                \"14-8\",\n",
    "                \"14-9\",\n",
    "                \"15-1\",\n",
    "                \"15-19\",\n",
    "                \"15-6\",\n",
    "                \"16-1\",\n",
    "                \"16-16\",\n",
    "                \"16-19\",\n",
    "                \"16-20\",\n",
    "                \"17-10\",\n",
    "                \"17-11\",\n",
    "                \"18-1\",\n",
    "                \"18-10\",\n",
    "                \"18-11\",\n",
    "                \"18-12\",\n",
    "                \"18-13\",\n",
    "                \"18-14\",\n",
    "                \"18-15\",\n",
    "                \"18-16\",\n",
    "                \"18-17\",\n",
    "                \"18-19\",\n",
    "                \"18-2\",\n",
    "                \"18-20\",\n",
    "                \"18-4\",\n",
    "                \"18-5\",\n",
    "                \"18-7\",\n",
    "                \"18-8\",\n",
    "                \"18-9\",\n",
    "                \"19-1\",\n",
    "                \"19-10\",\n",
    "                \"19-11\",\n",
    "                \"19-12\",\n",
    "                \"19-13\",\n",
    "                \"19-14\",\n",
    "                \"19-15\",\n",
    "                \"19-19\",\n",
    "                \"19-2\",\n",
    "                \"19-20\",\n",
    "                \"19-3\",\n",
    "                \"19-4\",\n",
    "                \"19-6\",\n",
    "                \"19-7\",\n",
    "                \"19-8\",\n",
    "                \"19-9\",\n",
    "                \"2-1\",\n",
    "                \"2-13\",\n",
    "                \"2-15\",\n",
    "                \"2-3\",\n",
    "                \"2-4\",\n",
    "                \"2-5\",\n",
    "                \"2-6\",\n",
    "                \"2-7\",\n",
    "                \"2-8\",\n",
    "                \"20-1\",\n",
    "                \"20-12\",\n",
    "                \"20-14\",\n",
    "                \"20-15\",\n",
    "                \"20-16\",\n",
    "                \"20-18\",\n",
    "                \"20-19\",\n",
    "                \"20-20\",\n",
    "                \"20-3\",\n",
    "                \"20-4\",\n",
    "                \"20-5\",\n",
    "                \"20-7\",\n",
    "                \"20-8\",\n",
    "                \"3-1\",\n",
    "                \"3-13\",\n",
    "                \"3-18\",\n",
    "                \"3-2\",\n",
    "                \"3-8\",\n",
    "                \"4-1\",\n",
    "                \"4-10\",\n",
    "                \"4-11\",\n",
    "                \"5-1\",\n",
    "                \"5-5\",\n",
    "                \"6-1\",\n",
    "                \"6-15\",\n",
    "                \"6-6\",\n",
    "                \"7-10\",\n",
    "                \"7-11\",\n",
    "                \"7-12\",\n",
    "                \"7-13\",\n",
    "                \"7-14\",\n",
    "                \"7-7\",\n",
    "                \"7-8\",\n",
    "                \"7-9\",\n",
    "                \"8-1\",\n",
    "                \"8-13\",\n",
    "                \"8-14\",\n",
    "                \"8-18\",\n",
    "                \"8-20\",\n",
    "                \"8-3\",\n",
    "                \"8-8\",\n",
    "                \"9-1\",\n",
    "                \"9-7\",\n",
    "            ],\n",
    "            \"domains\": [1, 2, 3, 4],\n",
    "            \"num_examples_per_domain_per_label\": -1,\n",
    "            \"pickle_path\": \"/root/csc500-main/datasets/wisig.node3-19.stratified_ds.2022A.pkl\",\n",
    "            \"source_or_target_dataset\": \"target\",\n",
    "            \"x_transforms\": [],\n",
    "            \"episode_transforms\": [],\n",
    "            \"domain_prefix\": \"Wisig_\",\n",
    "        },\n",
    "        {\n",
    "            \"labels\": [\n",
    "                \"3123D52\",\n",
    "                \"3123D65\",\n",
    "                \"3123D79\",\n",
    "                \"3123D80\",\n",
    "                \"3123D54\",\n",
    "                \"3123D70\",\n",
    "                \"3123D7B\",\n",
    "                \"3123D89\",\n",
    "                \"3123D58\",\n",
    "                \"3123D76\",\n",
    "                \"3123D7D\",\n",
    "                \"3123EFE\",\n",
    "                \"3123D64\",\n",
    "                \"3123D78\",\n",
    "                \"3123D7E\",\n",
    "                \"3124E4A\",\n",
    "            ],\n",
    "            \"domains\": [32, 38, 8, 44, 14, 50, 20, 26],\n",
    "            \"num_examples_per_domain_per_label\": 2000,\n",
    "            \"pickle_path\": \"/root/csc500-main/datasets/oracle.Run1_10kExamples_stratified_ds.2022A.pkl\",\n",
    "            \"source_or_target_dataset\": \"source\",\n",
    "            \"x_transforms\": [],\n",
    "            \"episode_transforms\": [],\n",
    "            \"domain_prefix\": \"ORACLE.run1\",\n",
    "        },\n",
    "    ],\n",
    "    \"dataset_seed\": 1337,\n",
    "    \"seed\": 1337,\n",
    "}\n"
   ]
  },
  {
   "cell_type": "code",
   "execution_count": 5,
   "id": "8fa1cc33",
   "metadata": {
    "execution": {
     "iopub.execute_input": "2022-03-22T18:27:37.857960Z",
     "iopub.status.busy": "2022-03-22T18:27:37.857100Z",
     "iopub.status.idle": "2022-03-22T18:27:37.877955Z",
     "shell.execute_reply": "2022-03-22T18:27:37.877158Z"
    },
    "papermill": {
     "duration": 0.045883,
     "end_time": "2022-03-22T18:27:37.878106",
     "exception": false,
     "start_time": "2022-03-22T18:27:37.832223",
     "status": "completed"
    },
    "tags": []
   },
   "outputs": [],
   "source": [
    "# Set this to True if you want to run this template directly\n",
    "STANDALONE = False\n",
    "if STANDALONE:\n",
    "    print(\"parameters not injected, running with standalone_parameters\")\n",
    "    parameters = standalone_parameters\n",
    "\n",
    "if not 'parameters' in locals() and not 'parameters' in globals():\n",
    "    raise Exception(\"Parameter injection failed\")\n",
    "\n",
    "#Use an easy dict for all the parameters\n",
    "p = EasyDict(parameters)\n",
    "\n",
    "if \"x_shape\" not in p:\n",
    "    p.x_shape = [2,256] # Default to this if we dont supply x_shape\n",
    "\n",
    "\n",
    "supplied_keys = set(p.keys())\n",
    "\n",
    "if  supplied_keys != required_parameters:\n",
    "    print(\"Parameters are incorrect\")\n",
    "    if len(supplied_keys - required_parameters)>0: print(\"Shouldn't have:\", str(supplied_keys - required_parameters))\n",
    "    if len(required_parameters - supplied_keys)>0: print(\"Need to have:\", str(required_parameters - supplied_keys))\n",
    "    raise RuntimeError(\"Parameters are incorrect\")"
   ]
  },
  {
   "cell_type": "code",
   "execution_count": 6,
   "id": "3a028d58",
   "metadata": {
    "execution": {
     "iopub.execute_input": "2022-03-22T18:27:37.927077Z",
     "iopub.status.busy": "2022-03-22T18:27:37.926715Z",
     "iopub.status.idle": "2022-03-22T18:27:37.949015Z",
     "shell.execute_reply": "2022-03-22T18:27:37.948211Z"
    },
    "papermill": {
     "duration": 0.046172,
     "end_time": "2022-03-22T18:27:37.949169",
     "exception": false,
     "start_time": "2022-03-22T18:27:37.902997",
     "status": "completed"
    },
    "tags": []
   },
   "outputs": [],
   "source": [
    "###################################\n",
    "# Set the RNGs and make it all deterministic\n",
    "###################################\n",
    "np.random.seed(p.seed)\n",
    "random.seed(p.seed)\n",
    "torch.manual_seed(p.seed)\n",
    "\n",
    "torch.use_deterministic_algorithms(True) "
   ]
  },
  {
   "cell_type": "code",
   "execution_count": 7,
   "id": "b691acf6",
   "metadata": {
    "execution": {
     "iopub.execute_input": "2022-03-22T18:27:38.000213Z",
     "iopub.status.busy": "2022-03-22T18:27:37.999680Z",
     "iopub.status.idle": "2022-03-22T18:27:38.022933Z",
     "shell.execute_reply": "2022-03-22T18:27:38.022133Z"
    },
    "papermill": {
     "duration": 0.046029,
     "end_time": "2022-03-22T18:27:38.023085",
     "exception": false,
     "start_time": "2022-03-22T18:27:37.977056",
     "status": "completed"
    },
    "tags": []
   },
   "outputs": [],
   "source": [
    "###########################################\n",
    "# The stratified datasets honor this\n",
    "###########################################\n",
    "torch.set_default_dtype(eval(p.torch_default_dtype))"
   ]
  },
  {
   "cell_type": "code",
   "execution_count": 8,
   "id": "b5fba671",
   "metadata": {
    "execution": {
     "iopub.execute_input": "2022-03-22T18:27:38.071362Z",
     "iopub.status.busy": "2022-03-22T18:27:38.070611Z",
     "iopub.status.idle": "2022-03-22T18:27:38.128143Z",
     "shell.execute_reply": "2022-03-22T18:27:38.127323Z"
    },
    "papermill": {
     "duration": 0.080435,
     "end_time": "2022-03-22T18:27:38.128293",
     "exception": false,
     "start_time": "2022-03-22T18:27:38.047858",
     "status": "completed"
    },
    "tags": []
   },
   "outputs": [],
   "source": [
    "###################################\n",
    "# Build the network(s)\n",
    "# Note: It's critical to do this AFTER setting the RNG\n",
    "###################################\n",
    "x_net = build_sequential(p.x_net)"
   ]
  },
  {
   "cell_type": "code",
   "execution_count": 9,
   "id": "5d7e61cc",
   "metadata": {
    "execution": {
     "iopub.execute_input": "2022-03-22T18:27:38.176509Z",
     "iopub.status.busy": "2022-03-22T18:27:38.176145Z",
     "iopub.status.idle": "2022-03-22T18:27:38.200821Z",
     "shell.execute_reply": "2022-03-22T18:27:38.200017Z"
    },
    "papermill": {
     "duration": 0.048241,
     "end_time": "2022-03-22T18:27:38.200972",
     "exception": false,
     "start_time": "2022-03-22T18:27:38.152731",
     "status": "completed"
    },
    "tags": []
   },
   "outputs": [],
   "source": [
    "start_time_secs = time.time()"
   ]
  },
  {
   "cell_type": "code",
   "execution_count": 10,
   "id": "c6b67dfd",
   "metadata": {
    "execution": {
     "iopub.execute_input": "2022-03-22T18:27:38.253110Z",
     "iopub.status.busy": "2022-03-22T18:27:38.252110Z",
     "iopub.status.idle": "2022-03-22T18:27:38.275056Z",
     "shell.execute_reply": "2022-03-22T18:27:38.274257Z"
    },
    "papermill": {
     "duration": 0.047637,
     "end_time": "2022-03-22T18:27:38.275211",
     "exception": false,
     "start_time": "2022-03-22T18:27:38.227574",
     "status": "completed"
    },
    "tags": []
   },
   "outputs": [],
   "source": [
    "p.domains_source = []\n",
    "p.domains_target = []\n",
    "\n",
    "\n",
    "train_original_source = []\n",
    "val_original_source   = []\n",
    "test_original_source  = []\n",
    "\n",
    "train_original_target = []\n",
    "val_original_target   = []\n",
    "test_original_target  = []"
   ]
  },
  {
   "cell_type": "code",
   "execution_count": 11,
   "id": "e3d9c3d3",
   "metadata": {
    "execution": {
     "iopub.execute_input": "2022-03-22T18:27:38.330650Z",
     "iopub.status.busy": "2022-03-22T18:27:38.330072Z",
     "iopub.status.idle": "2022-03-22T18:27:38.353716Z",
     "shell.execute_reply": "2022-03-22T18:27:38.352919Z"
    },
    "papermill": {
     "duration": 0.04759,
     "end_time": "2022-03-22T18:27:38.353867",
     "exception": false,
     "start_time": "2022-03-22T18:27:38.306277",
     "status": "completed"
    },
    "tags": []
   },
   "outputs": [],
   "source": [
    "# global_x_transform_func = lambda x: normalize(x.to(torch.get_default_dtype()), \"unit_power\") # unit_power, unit_mag\n",
    "# global_x_transform_func = lambda x: normalize(x, \"unit_power\") # unit_power, unit_mag"
   ]
  },
  {
   "cell_type": "code",
   "execution_count": 12,
   "id": "acb78fd2",
   "metadata": {
    "execution": {
     "iopub.execute_input": "2022-03-22T18:27:38.414604Z",
     "iopub.status.busy": "2022-03-22T18:27:38.413763Z",
     "iopub.status.idle": "2022-03-22T18:27:38.432890Z",
     "shell.execute_reply": "2022-03-22T18:27:38.432091Z"
    },
    "papermill": {
     "duration": 0.053039,
     "end_time": "2022-03-22T18:27:38.433041",
     "exception": false,
     "start_time": "2022-03-22T18:27:38.380002",
     "status": "completed"
    },
    "tags": []
   },
   "outputs": [],
   "source": [
    "def add_dataset(\n",
    "    labels,\n",
    "    domains,\n",
    "    pickle_path,\n",
    "    x_transforms,\n",
    "    episode_transforms,\n",
    "    domain_prefix,\n",
    "    num_examples_per_domain_per_label,\n",
    "    source_or_target_dataset:str,\n",
    "    iterator_seed=p.seed,\n",
    "    dataset_seed=p.dataset_seed,\n",
    "    n_shot=p.n_shot,\n",
    "    n_way=p.n_way,\n",
    "    n_query=p.n_query,\n",
    "    train_val_test_k_factors=(p.train_k_factor,p.val_k_factor,p.test_k_factor),\n",
    "):\n",
    "   \n",
    "    if x_transforms == []: x_transform = None\n",
    "    else: x_transform = get_chained_transform(x_transforms)\n",
    "    \n",
    "    if episode_transforms == []: episode_transform = None\n",
    "    else: raise Exception(\"episode_transforms not implemented\")\n",
    "    \n",
    "    episode_transform = lambda tup, _prefix=domain_prefix: (_prefix + str(tup[0]), tup[1])\n",
    "\n",
    "\n",
    "    eaf = Episodic_Accessor_Factory(\n",
    "        labels=labels,\n",
    "        domains=domains,\n",
    "        num_examples_per_domain_per_label=num_examples_per_domain_per_label,\n",
    "        iterator_seed=iterator_seed,\n",
    "        dataset_seed=dataset_seed,\n",
    "        n_shot=n_shot,\n",
    "        n_way=n_way,\n",
    "        n_query=n_query,\n",
    "        train_val_test_k_factors=train_val_test_k_factors,\n",
    "        pickle_path=pickle_path,\n",
    "        x_transform_func=x_transform,\n",
    "    )\n",
    "\n",
    "    train, val, test = eaf.get_train(), eaf.get_val(), eaf.get_test()\n",
    "    train = Lazy_Iterable_Wrapper(train, episode_transform)\n",
    "    val = Lazy_Iterable_Wrapper(val, episode_transform)\n",
    "    test = Lazy_Iterable_Wrapper(test, episode_transform)\n",
    "\n",
    "    if source_or_target_dataset==\"source\":\n",
    "        train_original_source.append(train)\n",
    "        val_original_source.append(val)\n",
    "        test_original_source.append(test)\n",
    "\n",
    "        p.domains_source.extend(\n",
    "            [domain_prefix + str(u) for u in domains]\n",
    "        )\n",
    "    elif source_or_target_dataset==\"target\":\n",
    "        train_original_target.append(train)\n",
    "        val_original_target.append(val)\n",
    "        test_original_target.append(test)\n",
    "        p.domains_target.extend(\n",
    "            [domain_prefix + str(u) for u in domains]\n",
    "        )\n",
    "    else:\n",
    "        raise Exception(f\"invalid source_or_target_dataset: {source_or_target_dataset}\")\n",
    "    "
   ]
  },
  {
   "cell_type": "code",
   "execution_count": 13,
   "id": "fe266617",
   "metadata": {
    "execution": {
     "iopub.execute_input": "2022-03-22T18:27:38.484484Z",
     "iopub.status.busy": "2022-03-22T18:27:38.484122Z",
     "iopub.status.idle": "2022-03-22T18:27:45.174056Z",
     "shell.execute_reply": "2022-03-22T18:27:45.173288Z"
    },
    "papermill": {
     "duration": 6.714471,
     "end_time": "2022-03-22T18:27:45.174233",
     "exception": false,
     "start_time": "2022-03-22T18:27:38.459762",
     "status": "completed"
    },
    "tags": []
   },
   "outputs": [],
   "source": [
    "for ds in p.datasets:\n",
    "    add_dataset(**ds)"
   ]
  },
  {
   "cell_type": "code",
   "execution_count": 14,
   "id": "b90d65ac",
   "metadata": {
    "execution": {
     "iopub.execute_input": "2022-03-22T18:27:45.225915Z",
     "iopub.status.busy": "2022-03-22T18:27:45.225336Z",
     "iopub.status.idle": "2022-03-22T18:27:45.251335Z",
     "shell.execute_reply": "2022-03-22T18:27:45.250510Z"
    },
    "papermill": {
     "duration": 0.050674,
     "end_time": "2022-03-22T18:27:45.251498",
     "exception": false,
     "start_time": "2022-03-22T18:27:45.200824",
     "status": "completed"
    },
    "tags": []
   },
   "outputs": [],
   "source": [
    "# from steves_utils.CORES.utils import (\n",
    "#     ALL_NODES,\n",
    "#     ALL_NODES_MINIMUM_1000_EXAMPLES,\n",
    "#     ALL_DAYS\n",
    "# )\n",
    "\n",
    "# add_dataset(\n",
    "#     labels=ALL_NODES,\n",
    "#     domains = ALL_DAYS,\n",
    "#     num_examples_per_domain_per_label=100,\n",
    "#     pickle_path=os.path.join(get_datasets_base_path(), \"cores.stratified_ds.2022A.pkl\"),\n",
    "#     source_or_target_dataset=\"target\",\n",
    "#     x_transform_func=global_x_transform_func,\n",
    "#     domain_modifier=lambda u: f\"cores_{u}\"\n",
    "# )"
   ]
  },
  {
   "cell_type": "code",
   "execution_count": 15,
   "id": "76db484d",
   "metadata": {
    "execution": {
     "iopub.execute_input": "2022-03-22T18:27:45.307428Z",
     "iopub.status.busy": "2022-03-22T18:27:45.306824Z",
     "iopub.status.idle": "2022-03-22T18:27:45.324989Z",
     "shell.execute_reply": "2022-03-22T18:27:45.324157Z"
    },
    "papermill": {
     "duration": 0.044681,
     "end_time": "2022-03-22T18:27:45.325147",
     "exception": false,
     "start_time": "2022-03-22T18:27:45.280466",
     "status": "completed"
    },
    "tags": []
   },
   "outputs": [],
   "source": [
    "# from steves_utils.ORACLE.utils_v2 import (\n",
    "#     ALL_DISTANCES_FEET,\n",
    "#     ALL_RUNS,\n",
    "#     ALL_SERIAL_NUMBERS,\n",
    "# )\n",
    "\n",
    "\n",
    "# add_dataset(\n",
    "#     labels=ALL_SERIAL_NUMBERS,\n",
    "#     domains = list(set(ALL_DISTANCES_FEET) - {2,62}),\n",
    "#     num_examples_per_domain_per_label=100,\n",
    "#     pickle_path=os.path.join(get_datasets_base_path(), \"oracle.Run2_framed_2000Examples_stratified_ds.2022A.pkl\"),\n",
    "#     source_or_target_dataset=\"source\",\n",
    "#     x_transform_func=global_x_transform_func,\n",
    "#     domain_modifier=lambda u: f\"oracle1_{u}\"\n",
    "# )\n"
   ]
  },
  {
   "cell_type": "code",
   "execution_count": 16,
   "id": "97dea9d2",
   "metadata": {
    "execution": {
     "iopub.execute_input": "2022-03-22T18:27:45.375825Z",
     "iopub.status.busy": "2022-03-22T18:27:45.375436Z",
     "iopub.status.idle": "2022-03-22T18:27:45.392367Z",
     "shell.execute_reply": "2022-03-22T18:27:45.391557Z"
    },
    "papermill": {
     "duration": 0.040294,
     "end_time": "2022-03-22T18:27:45.392524",
     "exception": false,
     "start_time": "2022-03-22T18:27:45.352230",
     "status": "completed"
    },
    "tags": []
   },
   "outputs": [],
   "source": [
    "# from steves_utils.ORACLE.utils_v2 import (\n",
    "#     ALL_DISTANCES_FEET,\n",
    "#     ALL_RUNS,\n",
    "#     ALL_SERIAL_NUMBERS,\n",
    "# )\n",
    "\n",
    "\n",
    "# add_dataset(\n",
    "#     labels=ALL_SERIAL_NUMBERS,\n",
    "#     domains = list(set(ALL_DISTANCES_FEET) - {2,62,56}),\n",
    "#     num_examples_per_domain_per_label=100,\n",
    "#     pickle_path=os.path.join(get_datasets_base_path(), \"oracle.Run2_framed_2000Examples_stratified_ds.2022A.pkl\"),\n",
    "#     source_or_target_dataset=\"source\",\n",
    "#     x_transform_func=global_x_transform_func,\n",
    "#     domain_modifier=lambda u: f\"oracle2_{u}\"\n",
    "# )"
   ]
  },
  {
   "cell_type": "code",
   "execution_count": 17,
   "id": "6f289866",
   "metadata": {
    "execution": {
     "iopub.execute_input": "2022-03-22T18:27:45.447056Z",
     "iopub.status.busy": "2022-03-22T18:27:45.446687Z",
     "iopub.status.idle": "2022-03-22T18:27:45.469058Z",
     "shell.execute_reply": "2022-03-22T18:27:45.468248Z"
    },
    "papermill": {
     "duration": 0.046629,
     "end_time": "2022-03-22T18:27:45.469217",
     "exception": false,
     "start_time": "2022-03-22T18:27:45.422588",
     "status": "completed"
    },
    "tags": []
   },
   "outputs": [],
   "source": [
    "# add_dataset(\n",
    "#     labels=list(range(19)),\n",
    "#     domains = [0,1,2],\n",
    "#     num_examples_per_domain_per_label=100,\n",
    "#     pickle_path=os.path.join(get_datasets_base_path(), \"metehan.stratified_ds.2022A.pkl\"),\n",
    "#     source_or_target_dataset=\"target\",\n",
    "#     x_transform_func=global_x_transform_func,\n",
    "#     domain_modifier=lambda u: f\"met_{u}\"\n",
    "# )"
   ]
  },
  {
   "cell_type": "code",
   "execution_count": 18,
   "id": "86a863c3",
   "metadata": {
    "execution": {
     "iopub.execute_input": "2022-03-22T18:27:45.520674Z",
     "iopub.status.busy": "2022-03-22T18:27:45.520301Z",
     "iopub.status.idle": "2022-03-22T18:27:45.537697Z",
     "shell.execute_reply": "2022-03-22T18:27:45.536871Z"
    },
    "papermill": {
     "duration": 0.040848,
     "end_time": "2022-03-22T18:27:45.537857",
     "exception": false,
     "start_time": "2022-03-22T18:27:45.497009",
     "status": "completed"
    },
    "tags": []
   },
   "outputs": [],
   "source": [
    "# # from steves_utils.wisig.utils import (\n",
    "# #     ALL_NODES_MINIMUM_100_EXAMPLES,\n",
    "# #     ALL_NODES_MINIMUM_500_EXAMPLES,\n",
    "# #     ALL_NODES_MINIMUM_1000_EXAMPLES,\n",
    "# #     ALL_DAYS\n",
    "# # )\n",
    "\n",
    "# import steves_utils.wisig.utils as wisig\n",
    "\n",
    "\n",
    "# add_dataset(\n",
    "#     labels=wisig.ALL_NODES_MINIMUM_100_EXAMPLES,\n",
    "#     domains = wisig.ALL_DAYS,\n",
    "#     num_examples_per_domain_per_label=100,\n",
    "#     pickle_path=os.path.join(get_datasets_base_path(), \"wisig.node3-19.stratified_ds.2022A.pkl\"),\n",
    "#     source_or_target_dataset=\"target\",\n",
    "#     x_transform_func=global_x_transform_func,\n",
    "#     domain_modifier=lambda u: f\"wisig_{u}\"\n",
    "# )"
   ]
  },
  {
   "cell_type": "code",
   "execution_count": 19,
   "id": "fd5442bc",
   "metadata": {
    "execution": {
     "iopub.execute_input": "2022-03-22T18:27:45.591556Z",
     "iopub.status.busy": "2022-03-22T18:27:45.591158Z",
     "iopub.status.idle": "2022-03-22T18:27:45.609161Z",
     "shell.execute_reply": "2022-03-22T18:27:45.609804Z"
    },
    "papermill": {
     "duration": 0.044822,
     "end_time": "2022-03-22T18:27:45.609999",
     "exception": false,
     "start_time": "2022-03-22T18:27:45.565177",
     "status": "completed"
    },
    "tags": []
   },
   "outputs": [],
   "source": [
    "###################################\n",
    "# Build the dataset\n",
    "###################################\n",
    "train_original_source = Iterable_Aggregator(train_original_source, p.seed)\n",
    "val_original_source = Iterable_Aggregator(val_original_source, p.seed)\n",
    "test_original_source = Iterable_Aggregator(test_original_source, p.seed)\n",
    "\n",
    "\n",
    "train_original_target = Iterable_Aggregator(train_original_target, p.seed)\n",
    "val_original_target = Iterable_Aggregator(val_original_target, p.seed)\n",
    "test_original_target = Iterable_Aggregator(test_original_target, p.seed)\n",
    "\n",
    "# For CNN We only use X and Y. And we only train on the source.\n",
    "# Properly form the data using a transform lambda and Lazy_Iterable_Wrapper. Finally wrap them in a dataloader\n",
    "\n",
    "transform_lambda = lambda ex: ex[1] # Original is (<domain>, <episode>) so we strip down to episode only\n",
    "\n",
    "train_processed_source = Lazy_Iterable_Wrapper(train_original_source, transform_lambda)\n",
    "val_processed_source   = Lazy_Iterable_Wrapper(val_original_source, transform_lambda)\n",
    "test_processed_source  = Lazy_Iterable_Wrapper(test_original_source, transform_lambda)\n",
    "\n",
    "train_processed_target = Lazy_Iterable_Wrapper(train_original_target, transform_lambda)\n",
    "val_processed_target   = Lazy_Iterable_Wrapper(val_original_target, transform_lambda)\n",
    "test_processed_target  = Lazy_Iterable_Wrapper(test_original_target, transform_lambda)\n",
    "\n",
    "datasets = EasyDict({\n",
    "    \"source\": {\n",
    "        \"original\": {\"train\":train_original_source, \"val\":val_original_source, \"test\":test_original_source},\n",
    "        \"processed\": {\"train\":train_processed_source, \"val\":val_processed_source, \"test\":test_processed_source}\n",
    "    },\n",
    "    \"target\": {\n",
    "        \"original\": {\"train\":train_original_target, \"val\":val_original_target, \"test\":test_original_target},\n",
    "        \"processed\": {\"train\":train_processed_target, \"val\":val_processed_target, \"test\":test_processed_target}\n",
    "    },\n",
    "})"
   ]
  },
  {
   "cell_type": "code",
   "execution_count": 20,
   "id": "5b3c01fc",
   "metadata": {
    "execution": {
     "iopub.execute_input": "2022-03-22T18:27:45.665339Z",
     "iopub.status.busy": "2022-03-22T18:27:45.664069Z",
     "iopub.status.idle": "2022-03-22T18:28:00.746351Z",
     "shell.execute_reply": "2022-03-22T18:28:00.747062Z"
    },
    "papermill": {
     "duration": 15.110372,
     "end_time": "2022-03-22T18:28:00.747302",
     "exception": false,
     "start_time": "2022-03-22T18:27:45.636930",
     "status": "completed"
    },
    "tags": []
   },
   "outputs": [
    {
     "name": "stdout",
     "output_type": "stream",
     "text": [
      "{'ORACLE.run144', 'ORACLE.run150', 'ORACLE.run126', 'ORACLE.run120', 'ORACLE.run132', 'ORACLE.run138', 'ORACLE.run18', 'ORACLE.run114'}\n"
     ]
    },
    {
     "name": "stdout",
     "output_type": "stream",
     "text": [
      "{'Wisig_1', 'Wisig_3', 'Wisig_2', 'Wisig_4'}\n"
     ]
    },
    {
     "name": "stdout",
     "output_type": "stream",
     "text": [
      "tensor([[[ 3.4791e-03, -1.1292e-03, -1.6480e-03,  ..., -1.6785e-03,\n",
      "          -2.0447e-03, -6.5615e-03],\n",
      "         [ 7.0193e-04,  2.0753e-03,  2.1973e-03,  ..., -6.1037e-05,\n",
      "          -1.0376e-03, -7.0193e-04]],\n",
      "\n",
      "        [[-5.4933e-04,  7.3244e-04, -7.9348e-04,  ...,  4.2726e-04,\n",
      "          -1.0987e-03, -1.6785e-03],\n",
      "         [ 1.1902e-03,  1.4954e-03, -4.0590e-03,  ...,  1.2207e-03,\n",
      "           7.3244e-04,  1.0376e-03]],\n",
      "\n",
      "        [[ 1.0681e-03, -4.2726e-04,  3.0519e-05,  ..., -2.1058e-03,\n",
      "          -1.2818e-03, -2.1058e-03],\n",
      "         [-2.9298e-03,  2.7467e-04,  1.4344e-03,  ..., -1.7396e-03,\n",
      "          -2.5636e-03,  2.6246e-03]],\n",
      "\n",
      "        ...,\n",
      "\n",
      "        [[ 5.0050e-03,  2.1973e-03,  5.5544e-03,  ..., -2.0142e-03,\n",
      "          -2.3804e-03, -1.4039e-03],\n",
      "         [-1.6480e-03,  3.8759e-03,  2.4720e-03,  ..., -3.3265e-03,\n",
      "           7.9348e-03,  7.5991e-03]],\n",
      "\n",
      "        [[-4.5778e-04,  5.8290e-03,  1.5259e-04,  ..., -3.0519e-03,\n",
      "          -8.5452e-04, -6.1037e-04],\n",
      "         [-6.7141e-04, -2.3499e-03, -6.1037e-03,  ..., -5.6154e-03,\n",
      "          -5.4933e-04,  8.2400e-04]],\n",
      "\n",
      "        [[-2.3194e-03, -5.0356e-03, -3.1739e-03,  ...,  2.7467e-04,\n",
      "          -3.7843e-03,  1.4039e-03],\n",
      "         [ 1.0376e-03,  6.7141e-04, -7.3244e-04,  ...,  6.1037e-05,\n",
      "           2.6856e-03, -4.3947e-03]]])\n"
     ]
    }
   ],
   "source": [
    "from steves_utils.transforms import get_average_magnitude, get_average_power\n",
    "\n",
    "print(set([u for u,_ in val_original_source]))\n",
    "print(set([u for u,_ in val_original_target]))\n",
    "\n",
    "s_x, s_y, q_x, q_y, _ = next(iter(train_processed_source))\n",
    "print(s_x)\n",
    "\n",
    "# for ds in [\n",
    "#     train_processed_source,\n",
    "#     val_processed_source,\n",
    "#     test_processed_source,\n",
    "#     train_processed_target,\n",
    "#     val_processed_target,\n",
    "#     test_processed_target\n",
    "# ]:\n",
    "#     for s_x, s_y, q_x, q_y, _ in ds:\n",
    "#         for X in (s_x, q_x):\n",
    "#             for x in X:\n",
    "#                 assert np.isclose(get_average_magnitude(x.numpy()), 1.0)\n",
    "#                 assert np.isclose(get_average_power(x.numpy()), 1.0)\n",
    "                "
   ]
  },
  {
   "cell_type": "code",
   "execution_count": 21,
   "id": "bbdacba1",
   "metadata": {
    "execution": {
     "iopub.execute_input": "2022-03-22T18:28:00.818612Z",
     "iopub.status.busy": "2022-03-22T18:28:00.817980Z",
     "iopub.status.idle": "2022-03-22T18:28:01.075972Z",
     "shell.execute_reply": "2022-03-22T18:28:01.076312Z"
    },
    "papermill": {
     "duration": 0.293305,
     "end_time": "2022-03-22T18:28:01.076485",
     "exception": false,
     "start_time": "2022-03-22T18:28:00.783180",
     "status": "completed"
    },
    "tags": []
   },
   "outputs": [
    {
     "name": "stdout",
     "output_type": "stream",
     "text": [
      "(2, 256)\n"
     ]
    }
   ],
   "source": [
    "###################################\n",
    "# Build the model\n",
    "###################################\n",
    "# easfsl only wants a tuple for the shape\n",
    "model = Steves_Prototypical_Network(x_net, device=p.device, x_shape=tuple(p.x_shape))\n",
    "optimizer = Adam(params=model.parameters(), lr=p.lr)"
   ]
  },
  {
   "cell_type": "code",
   "execution_count": 22,
   "id": "22b39ac5",
   "metadata": {
    "execution": {
     "iopub.execute_input": "2022-03-22T18:28:01.128320Z",
     "iopub.status.busy": "2022-03-22T18:28:01.127952Z",
     "iopub.status.idle": "2022-03-22T19:55:47.468786Z",
     "shell.execute_reply": "2022-03-22T19:55:47.468432Z"
    },
    "papermill": {
     "duration": 5266.368659,
     "end_time": "2022-03-22T19:55:47.468880",
     "exception": false,
     "start_time": "2022-03-22T18:28:01.100221",
     "status": "completed"
    },
    "tags": []
   },
   "outputs": [
    {
     "name": "stdout",
     "output_type": "stream",
     "text": [
      "epoch: 1, [batch: 1 / 6720], examples_per_second: 33.2051, train_label_loss: 2.7066, \n"
     ]
    },
    {
     "name": "stdout",
     "output_type": "stream",
     "text": [
      "epoch: 1, [batch: 672 / 6720], examples_per_second: 3802.4766, train_label_loss: 1.4054, \n"
     ]
    },
    {
     "name": "stdout",
     "output_type": "stream",
     "text": [
      "epoch: 1, [batch: 1344 / 6720], examples_per_second: 3887.5941, train_label_loss: 1.3643, \n"
     ]
    },
    {
     "name": "stdout",
     "output_type": "stream",
     "text": [
      "epoch: 1, [batch: 2016 / 6720], examples_per_second: 3990.8800, train_label_loss: 0.9660, \n"
     ]
    },
    {
     "name": "stdout",
     "output_type": "stream",
     "text": [
      "epoch: 1, [batch: 2688 / 6720], examples_per_second: 3855.9433, train_label_loss: 1.2472, \n"
     ]
    },
    {
     "name": "stdout",
     "output_type": "stream",
     "text": [
      "epoch: 1, [batch: 3360 / 6720], examples_per_second: 3934.0769, train_label_loss: 1.3273, \n"
     ]
    },
    {
     "name": "stdout",
     "output_type": "stream",
     "text": [
      "epoch: 1, [batch: 4032 / 6720], examples_per_second: 3899.3782, train_label_loss: 1.0011, \n"
     ]
    },
    {
     "name": "stdout",
     "output_type": "stream",
     "text": [
      "epoch: 1, [batch: 4704 / 6720], examples_per_second: 3759.6191, train_label_loss: 1.2580, \n"
     ]
    },
    {
     "name": "stdout",
     "output_type": "stream",
     "text": [
      "epoch: 1, [batch: 5376 / 6720], examples_per_second: 3910.1238, train_label_loss: 0.6593, \n"
     ]
    },
    {
     "name": "stdout",
     "output_type": "stream",
     "text": [
      "epoch: 1, [batch: 6048 / 6720], examples_per_second: 3892.2087, train_label_loss: 1.1229, \n"
     ]
    },
    {
     "name": "stdout",
     "output_type": "stream",
     "text": [
      "=============================================================\n",
      "epoch: 1, source_val_acc_label: 0.6649, target_val_acc_label: 0.7058, source_val_label_loss: 1.0967, target_val_label_loss: 152.2655, \n",
      "=============================================================\n"
     ]
    },
    {
     "name": "stdout",
     "output_type": "stream",
     "text": [
      "New best\n"
     ]
    },
    {
     "name": "stdout",
     "output_type": "stream",
     "text": [
      "epoch: 2, [batch: 1 / 6720], examples_per_second: 3.8779, train_label_loss: 0.8977, \n"
     ]
    },
    {
     "name": "stdout",
     "output_type": "stream",
     "text": [
      "epoch: 2, [batch: 672 / 6720], examples_per_second: 2997.8568, train_label_loss: 0.6120, \n"
     ]
    },
    {
     "name": "stdout",
     "output_type": "stream",
     "text": [
      "epoch: 2, [batch: 1344 / 6720], examples_per_second: 2937.1903, train_label_loss: 1.1954, \n"
     ]
    },
    {
     "name": "stdout",
     "output_type": "stream",
     "text": [
      "epoch: 2, [batch: 2016 / 6720], examples_per_second: 3009.2567, train_label_loss: 0.4571, \n"
     ]
    },
    {
     "name": "stdout",
     "output_type": "stream",
     "text": [
      "epoch: 2, [batch: 2688 / 6720], examples_per_second: 2987.4855, train_label_loss: 0.7256, \n"
     ]
    },
    {
     "name": "stdout",
     "output_type": "stream",
     "text": [
      "epoch: 2, [batch: 3360 / 6720], examples_per_second: 2986.0218, train_label_loss: 0.8347, \n"
     ]
    },
    {
     "name": "stdout",
     "output_type": "stream",
     "text": [
      "epoch: 2, [batch: 4032 / 6720], examples_per_second: 3069.4154, train_label_loss: 0.5426, \n"
     ]
    },
    {
     "name": "stdout",
     "output_type": "stream",
     "text": [
      "epoch: 2, [batch: 4704 / 6720], examples_per_second: 2950.2874, train_label_loss: 0.6679, \n"
     ]
    },
    {
     "name": "stdout",
     "output_type": "stream",
     "text": [
      "epoch: 2, [batch: 5376 / 6720], examples_per_second: 3091.0471, train_label_loss: 1.1174, \n"
     ]
    },
    {
     "name": "stdout",
     "output_type": "stream",
     "text": [
      "epoch: 2, [batch: 6048 / 6720], examples_per_second: 2989.6245, train_label_loss: 0.9295, \n"
     ]
    },
    {
     "name": "stdout",
     "output_type": "stream",
     "text": [
      "=============================================================\n",
      "epoch: 2, source_val_acc_label: 0.7518, target_val_acc_label: 0.7692, source_val_label_loss: 0.7012, target_val_label_loss: 58.7091, \n",
      "=============================================================\n"
     ]
    },
    {
     "name": "stdout",
     "output_type": "stream",
     "text": [
      "New best\n"
     ]
    },
    {
     "name": "stdout",
     "output_type": "stream",
     "text": [
      "epoch: 3, [batch: 1 / 6720], examples_per_second: 3.0118, train_label_loss: 0.5059, \n"
     ]
    },
    {
     "name": "stdout",
     "output_type": "stream",
     "text": [
      "epoch: 3, [batch: 672 / 6720], examples_per_second: 3014.3352, train_label_loss: 0.3809, \n"
     ]
    },
    {
     "name": "stdout",
     "output_type": "stream",
     "text": [
      "epoch: 3, [batch: 1344 / 6720], examples_per_second: 3014.1718, train_label_loss: 0.6087, \n"
     ]
    },
    {
     "name": "stdout",
     "output_type": "stream",
     "text": [
      "epoch: 3, [batch: 2016 / 6720], examples_per_second: 3015.5519, train_label_loss: 0.4062, \n"
     ]
    },
    {
     "name": "stdout",
     "output_type": "stream",
     "text": [
      "epoch: 3, [batch: 2688 / 6720], examples_per_second: 2987.4137, train_label_loss: 0.5436, \n"
     ]
    },
    {
     "name": "stdout",
     "output_type": "stream",
     "text": [
      "epoch: 3, [batch: 3360 / 6720], examples_per_second: 3033.4175, train_label_loss: 0.9339, \n"
     ]
    },
    {
     "name": "stdout",
     "output_type": "stream",
     "text": [
      "epoch: 3, [batch: 4032 / 6720], examples_per_second: 2983.5592, train_label_loss: 0.9327, \n"
     ]
    },
    {
     "name": "stdout",
     "output_type": "stream",
     "text": [
      "epoch: 3, [batch: 4704 / 6720], examples_per_second: 3005.9279, train_label_loss: 0.8006, \n"
     ]
    },
    {
     "name": "stdout",
     "output_type": "stream",
     "text": [
      "epoch: 3, [batch: 5376 / 6720], examples_per_second: 3040.3037, train_label_loss: 0.3231, \n"
     ]
    },
    {
     "name": "stdout",
     "output_type": "stream",
     "text": [
      "epoch: 3, [batch: 6048 / 6720], examples_per_second: 3064.0833, train_label_loss: 0.3678, \n"
     ]
    },
    {
     "name": "stdout",
     "output_type": "stream",
     "text": [
      "=============================================================\n",
      "epoch: 3, source_val_acc_label: 0.7634, target_val_acc_label: 0.7920, source_val_label_loss: 0.6565, target_val_label_loss: 66.1249, \n",
      "=============================================================\n"
     ]
    },
    {
     "name": "stdout",
     "output_type": "stream",
     "text": [
      "New best\n"
     ]
    },
    {
     "name": "stdout",
     "output_type": "stream",
     "text": [
      "epoch: 4, [batch: 1 / 6720], examples_per_second: 3.0449, train_label_loss: 0.7588, \n"
     ]
    },
    {
     "name": "stdout",
     "output_type": "stream",
     "text": [
      "epoch: 4, [batch: 672 / 6720], examples_per_second: 3174.7591, train_label_loss: 0.6614, \n"
     ]
    },
    {
     "name": "stdout",
     "output_type": "stream",
     "text": [
      "epoch: 4, [batch: 1344 / 6720], examples_per_second: 3027.4495, train_label_loss: 0.8050, \n"
     ]
    },
    {
     "name": "stdout",
     "output_type": "stream",
     "text": [
      "epoch: 4, [batch: 2016 / 6720], examples_per_second: 3023.2331, train_label_loss: 0.8364, \n"
     ]
    },
    {
     "name": "stdout",
     "output_type": "stream",
     "text": [
      "epoch: 4, [batch: 2688 / 6720], examples_per_second: 2968.2329, train_label_loss: 0.2094, \n"
     ]
    },
    {
     "name": "stdout",
     "output_type": "stream",
     "text": [
      "epoch: 4, [batch: 3360 / 6720], examples_per_second: 2968.9882, train_label_loss: 0.7600, \n"
     ]
    },
    {
     "name": "stdout",
     "output_type": "stream",
     "text": [
      "epoch: 4, [batch: 4032 / 6720], examples_per_second: 3410.7834, train_label_loss: 1.0119, \n"
     ]
    },
    {
     "name": "stdout",
     "output_type": "stream",
     "text": [
      "epoch: 4, [batch: 4704 / 6720], examples_per_second: 3398.2769, train_label_loss: 0.5219, \n"
     ]
    },
    {
     "name": "stdout",
     "output_type": "stream",
     "text": [
      "epoch: 4, [batch: 5376 / 6720], examples_per_second: 3380.2541, train_label_loss: 0.8363, \n"
     ]
    },
    {
     "name": "stdout",
     "output_type": "stream",
     "text": [
      "epoch: 4, [batch: 6048 / 6720], examples_per_second: 3370.0894, train_label_loss: 1.1945, \n"
     ]
    },
    {
     "name": "stdout",
     "output_type": "stream",
     "text": [
      "=============================================================\n",
      "epoch: 4, source_val_acc_label: 0.7949, target_val_acc_label: 0.8160, source_val_label_loss: 0.5744, target_val_label_loss: 93.9685, \n",
      "=============================================================\n"
     ]
    },
    {
     "name": "stdout",
     "output_type": "stream",
     "text": [
      "New best\n"
     ]
    },
    {
     "name": "stdout",
     "output_type": "stream",
     "text": [
      "epoch: 5, [batch: 1 / 6720], examples_per_second: 3.6668, train_label_loss: 0.3854, \n"
     ]
    },
    {
     "name": "stdout",
     "output_type": "stream",
     "text": [
      "epoch: 5, [batch: 672 / 6720], examples_per_second: 3990.0646, train_label_loss: 0.2084, \n"
     ]
    },
    {
     "name": "stdout",
     "output_type": "stream",
     "text": [
      "epoch: 5, [batch: 1344 / 6720], examples_per_second: 3024.6491, train_label_loss: 0.4563, \n"
     ]
    },
    {
     "name": "stdout",
     "output_type": "stream",
     "text": [
      "epoch: 5, [batch: 2016 / 6720], examples_per_second: 2987.8312, train_label_loss: 0.5213, \n"
     ]
    },
    {
     "name": "stdout",
     "output_type": "stream",
     "text": [
      "epoch: 5, [batch: 2688 / 6720], examples_per_second: 2953.9009, train_label_loss: 0.3386, \n"
     ]
    },
    {
     "name": "stdout",
     "output_type": "stream",
     "text": [
      "epoch: 5, [batch: 3360 / 6720], examples_per_second: 3012.2398, train_label_loss: 0.3396, \n"
     ]
    },
    {
     "name": "stdout",
     "output_type": "stream",
     "text": [
      "epoch: 5, [batch: 4032 / 6720], examples_per_second: 3007.0754, train_label_loss: 0.3131, \n"
     ]
    },
    {
     "name": "stdout",
     "output_type": "stream",
     "text": [
      "epoch: 5, [batch: 4704 / 6720], examples_per_second: 2996.0176, train_label_loss: 0.3740, \n"
     ]
    },
    {
     "name": "stdout",
     "output_type": "stream",
     "text": [
      "epoch: 5, [batch: 5376 / 6720], examples_per_second: 2970.6192, train_label_loss: 0.7961, \n"
     ]
    },
    {
     "name": "stdout",
     "output_type": "stream",
     "text": [
      "epoch: 5, [batch: 6048 / 6720], examples_per_second: 3014.6901, train_label_loss: 0.4997, \n"
     ]
    },
    {
     "name": "stdout",
     "output_type": "stream",
     "text": [
      "=============================================================\n",
      "epoch: 5, source_val_acc_label: 0.8023, target_val_acc_label: 0.8228, source_val_label_loss: 0.5506, target_val_label_loss: 119.3662, \n",
      "=============================================================\n"
     ]
    },
    {
     "name": "stdout",
     "output_type": "stream",
     "text": [
      "New best\n"
     ]
    },
    {
     "name": "stdout",
     "output_type": "stream",
     "text": [
      "epoch: 6, [batch: 1 / 6720], examples_per_second: 3.0218, train_label_loss: 0.4676, \n"
     ]
    },
    {
     "name": "stdout",
     "output_type": "stream",
     "text": [
      "epoch: 6, [batch: 672 / 6720], examples_per_second: 3084.2580, train_label_loss: 0.7515, \n"
     ]
    },
    {
     "name": "stdout",
     "output_type": "stream",
     "text": [
      "epoch: 6, [batch: 1344 / 6720], examples_per_second: 3013.7899, train_label_loss: 0.3915, \n"
     ]
    },
    {
     "name": "stdout",
     "output_type": "stream",
     "text": [
      "epoch: 6, [batch: 2016 / 6720], examples_per_second: 3024.5164, train_label_loss: 0.3346, \n"
     ]
    },
    {
     "name": "stdout",
     "output_type": "stream",
     "text": [
      "epoch: 6, [batch: 2688 / 6720], examples_per_second: 3021.0264, train_label_loss: 0.5057, \n"
     ]
    },
    {
     "name": "stdout",
     "output_type": "stream",
     "text": [
      "epoch: 6, [batch: 3360 / 6720], examples_per_second: 2984.3761, train_label_loss: 0.2588, \n"
     ]
    },
    {
     "name": "stdout",
     "output_type": "stream",
     "text": [
      "epoch: 6, [batch: 4032 / 6720], examples_per_second: 3050.0165, train_label_loss: 0.2381, \n"
     ]
    },
    {
     "name": "stdout",
     "output_type": "stream",
     "text": [
      "epoch: 6, [batch: 4704 / 6720], examples_per_second: 3012.4513, train_label_loss: 0.1835, \n"
     ]
    },
    {
     "name": "stdout",
     "output_type": "stream",
     "text": [
      "epoch: 6, [batch: 5376 / 6720], examples_per_second: 3009.9634, train_label_loss: 0.3459, \n"
     ]
    },
    {
     "name": "stdout",
     "output_type": "stream",
     "text": [
      "epoch: 6, [batch: 6048 / 6720], examples_per_second: 3038.9398, train_label_loss: 0.4634, \n"
     ]
    },
    {
     "name": "stdout",
     "output_type": "stream",
     "text": [
      "=============================================================\n",
      "epoch: 6, source_val_acc_label: 0.8248, target_val_acc_label: 0.8342, source_val_label_loss: 0.5161, target_val_label_loss: 120.7750, \n",
      "=============================================================\n"
     ]
    },
    {
     "name": "stdout",
     "output_type": "stream",
     "text": [
      "New best\n"
     ]
    },
    {
     "name": "stdout",
     "output_type": "stream",
     "text": [
      "epoch: 7, [batch: 1 / 6720], examples_per_second: 3.0598, train_label_loss: 0.3951, \n"
     ]
    },
    {
     "name": "stdout",
     "output_type": "stream",
     "text": [
      "epoch: 7, [batch: 672 / 6720], examples_per_second: 3060.5603, train_label_loss: 0.5594, \n"
     ]
    },
    {
     "name": "stdout",
     "output_type": "stream",
     "text": [
      "epoch: 7, [batch: 1344 / 6720], examples_per_second: 2981.5355, train_label_loss: 0.4912, \n"
     ]
    },
    {
     "name": "stdout",
     "output_type": "stream",
     "text": [
      "epoch: 7, [batch: 2016 / 6720], examples_per_second: 2976.2525, train_label_loss: 0.4323, \n"
     ]
    },
    {
     "name": "stdout",
     "output_type": "stream",
     "text": [
      "epoch: 7, [batch: 2688 / 6720], examples_per_second: 2999.0272, train_label_loss: 0.5285, \n"
     ]
    },
    {
     "name": "stdout",
     "output_type": "stream",
     "text": [
      "epoch: 7, [batch: 3360 / 6720], examples_per_second: 2995.1574, train_label_loss: 0.4977, \n"
     ]
    },
    {
     "name": "stdout",
     "output_type": "stream",
     "text": [
      "epoch: 7, [batch: 4032 / 6720], examples_per_second: 3031.0731, train_label_loss: 0.1924, \n"
     ]
    },
    {
     "name": "stdout",
     "output_type": "stream",
     "text": [
      "epoch: 7, [batch: 4704 / 6720], examples_per_second: 2982.8834, train_label_loss: 0.5106, \n"
     ]
    },
    {
     "name": "stdout",
     "output_type": "stream",
     "text": [
      "epoch: 7, [batch: 5376 / 6720], examples_per_second: 3031.3369, train_label_loss: 0.3810, \n"
     ]
    },
    {
     "name": "stdout",
     "output_type": "stream",
     "text": [
      "epoch: 7, [batch: 6048 / 6720], examples_per_second: 2982.1106, train_label_loss: 0.0827, \n"
     ]
    },
    {
     "name": "stdout",
     "output_type": "stream",
     "text": [
      "=============================================================\n",
      "epoch: 7, source_val_acc_label: 0.8195, target_val_acc_label: 0.8397, source_val_label_loss: 0.5310, target_val_label_loss: 127.0718, \n",
      "=============================================================\n"
     ]
    },
    {
     "name": "stdout",
     "output_type": "stream",
     "text": [
      "New best\n"
     ]
    },
    {
     "name": "stdout",
     "output_type": "stream",
     "text": [
      "epoch: 8, [batch: 1 / 6720], examples_per_second: 3.0550, train_label_loss: 0.5921, \n"
     ]
    },
    {
     "name": "stdout",
     "output_type": "stream",
     "text": [
      "epoch: 8, [batch: 672 / 6720], examples_per_second: 3543.4356, train_label_loss: 0.5641, \n"
     ]
    },
    {
     "name": "stdout",
     "output_type": "stream",
     "text": [
      "epoch: 8, [batch: 1344 / 6720], examples_per_second: 3437.4000, train_label_loss: 0.2456, \n"
     ]
    },
    {
     "name": "stdout",
     "output_type": "stream",
     "text": [
      "epoch: 8, [batch: 2016 / 6720], examples_per_second: 3486.5738, train_label_loss: 0.4980, \n"
     ]
    },
    {
     "name": "stdout",
     "output_type": "stream",
     "text": [
      "epoch: 8, [batch: 2688 / 6720], examples_per_second: 3460.0808, train_label_loss: 0.3706, \n"
     ]
    },
    {
     "name": "stdout",
     "output_type": "stream",
     "text": [
      "epoch: 8, [batch: 3360 / 6720], examples_per_second: 3434.1163, train_label_loss: 0.1180, \n"
     ]
    },
    {
     "name": "stdout",
     "output_type": "stream",
     "text": [
      "epoch: 8, [batch: 4032 / 6720], examples_per_second: 3473.6592, train_label_loss: 0.2872, \n"
     ]
    },
    {
     "name": "stdout",
     "output_type": "stream",
     "text": [
      "epoch: 8, [batch: 4704 / 6720], examples_per_second: 3414.7880, train_label_loss: 0.2717, \n"
     ]
    },
    {
     "name": "stdout",
     "output_type": "stream",
     "text": [
      "epoch: 8, [batch: 5376 / 6720], examples_per_second: 3489.5520, train_label_loss: 0.3764, \n"
     ]
    },
    {
     "name": "stdout",
     "output_type": "stream",
     "text": [
      "epoch: 8, [batch: 6048 / 6720], examples_per_second: 3938.4759, train_label_loss: 0.2784, \n"
     ]
    },
    {
     "name": "stdout",
     "output_type": "stream",
     "text": [
      "=============================================================\n",
      "epoch: 8, source_val_acc_label: 0.8195, target_val_acc_label: 0.8409, source_val_label_loss: 0.5281, target_val_label_loss: 146.2641, \n",
      "=============================================================\n"
     ]
    },
    {
     "name": "stdout",
     "output_type": "stream",
     "text": [
      "New best\n"
     ]
    },
    {
     "name": "stdout",
     "output_type": "stream",
     "text": [
      "epoch: 9, [batch: 1 / 6720], examples_per_second: 3.9552, train_label_loss: 0.2131, \n"
     ]
    },
    {
     "name": "stdout",
     "output_type": "stream",
     "text": [
      "epoch: 9, [batch: 672 / 6720], examples_per_second: 3913.5739, train_label_loss: 0.2590, \n"
     ]
    },
    {
     "name": "stdout",
     "output_type": "stream",
     "text": [
      "epoch: 9, [batch: 1344 / 6720], examples_per_second: 4251.9722, train_label_loss: 0.4206, \n"
     ]
    },
    {
     "name": "stdout",
     "output_type": "stream",
     "text": [
      "epoch: 9, [batch: 2016 / 6720], examples_per_second: 4411.2472, train_label_loss: 0.0742, \n"
     ]
    },
    {
     "name": "stdout",
     "output_type": "stream",
     "text": [
      "epoch: 9, [batch: 2688 / 6720], examples_per_second: 4178.0774, train_label_loss: 0.3021, \n"
     ]
    },
    {
     "name": "stdout",
     "output_type": "stream",
     "text": [
      "epoch: 9, [batch: 3360 / 6720], examples_per_second: 4357.7904, train_label_loss: 0.3589, \n"
     ]
    },
    {
     "name": "stdout",
     "output_type": "stream",
     "text": [
      "epoch: 9, [batch: 4032 / 6720], examples_per_second: 4743.8517, train_label_loss: 0.3851, \n"
     ]
    },
    {
     "name": "stdout",
     "output_type": "stream",
     "text": [
      "epoch: 9, [batch: 4704 / 6720], examples_per_second: 4590.3107, train_label_loss: 0.1756, \n"
     ]
    },
    {
     "name": "stdout",
     "output_type": "stream",
     "text": [
      "epoch: 9, [batch: 5376 / 6720], examples_per_second: 5342.2015, train_label_loss: 0.1790, \n"
     ]
    },
    {
     "name": "stdout",
     "output_type": "stream",
     "text": [
      "epoch: 9, [batch: 6048 / 6720], examples_per_second: 5027.4860, train_label_loss: 0.2624, \n"
     ]
    },
    {
     "name": "stdout",
     "output_type": "stream",
     "text": [
      "=============================================================\n",
      "epoch: 9, source_val_acc_label: 0.8242, target_val_acc_label: 0.8502, source_val_label_loss: 0.5509, target_val_label_loss: 137.9354, \n",
      "=============================================================\n"
     ]
    },
    {
     "name": "stdout",
     "output_type": "stream",
     "text": [
      "New best\n"
     ]
    },
    {
     "name": "stdout",
     "output_type": "stream",
     "text": [
      "epoch: 10, [batch: 1 / 6720], examples_per_second: 2.7858, train_label_loss: 0.1150, \n"
     ]
    },
    {
     "name": "stdout",
     "output_type": "stream",
     "text": [
      "epoch: 10, [batch: 672 / 6720], examples_per_second: 3012.3136, train_label_loss: 0.1030, \n"
     ]
    },
    {
     "name": "stdout",
     "output_type": "stream",
     "text": [
      "epoch: 10, [batch: 1344 / 6720], examples_per_second: 2981.3990, train_label_loss: 0.0821, \n"
     ]
    },
    {
     "name": "stdout",
     "output_type": "stream",
     "text": [
      "epoch: 10, [batch: 2016 / 6720], examples_per_second: 2982.5115, train_label_loss: 0.1201, \n"
     ]
    },
    {
     "name": "stdout",
     "output_type": "stream",
     "text": [
      "epoch: 10, [batch: 2688 / 6720], examples_per_second: 3007.4264, train_label_loss: 0.1578, \n"
     ]
    },
    {
     "name": "stdout",
     "output_type": "stream",
     "text": [
      "epoch: 10, [batch: 3360 / 6720], examples_per_second: 2963.1614, train_label_loss: 0.2030, \n"
     ]
    },
    {
     "name": "stdout",
     "output_type": "stream",
     "text": [
      "epoch: 10, [batch: 4032 / 6720], examples_per_second: 3022.6683, train_label_loss: 0.3140, \n"
     ]
    },
    {
     "name": "stdout",
     "output_type": "stream",
     "text": [
      "epoch: 10, [batch: 4704 / 6720], examples_per_second: 3264.3334, train_label_loss: 0.0385, \n"
     ]
    },
    {
     "name": "stdout",
     "output_type": "stream",
     "text": [
      "epoch: 10, [batch: 5376 / 6720], examples_per_second: 3491.7158, train_label_loss: 0.5242, \n"
     ]
    },
    {
     "name": "stdout",
     "output_type": "stream",
     "text": [
      "epoch: 10, [batch: 6048 / 6720], examples_per_second: 3649.1220, train_label_loss: 0.3746, \n"
     ]
    },
    {
     "name": "stdout",
     "output_type": "stream",
     "text": [
      "=============================================================\n",
      "epoch: 10, source_val_acc_label: 0.8202, target_val_acc_label: 0.8515, source_val_label_loss: 0.5419, target_val_label_loss: 134.8558, \n",
      "=============================================================\n"
     ]
    },
    {
     "name": "stdout",
     "output_type": "stream",
     "text": [
      "New best\n"
     ]
    },
    {
     "name": "stdout",
     "output_type": "stream",
     "text": [
      "epoch: 11, [batch: 1 / 6720], examples_per_second: 2.7867, train_label_loss: 0.2490, \n"
     ]
    },
    {
     "name": "stdout",
     "output_type": "stream",
     "text": [
      "epoch: 11, [batch: 672 / 6720], examples_per_second: 3105.6979, train_label_loss: 0.1620, \n"
     ]
    },
    {
     "name": "stdout",
     "output_type": "stream",
     "text": [
      "epoch: 11, [batch: 1344 / 6720], examples_per_second: 3024.1470, train_label_loss: 0.1561, \n"
     ]
    },
    {
     "name": "stdout",
     "output_type": "stream",
     "text": [
      "epoch: 11, [batch: 2016 / 6720], examples_per_second: 3046.6219, train_label_loss: 0.3471, \n"
     ]
    },
    {
     "name": "stdout",
     "output_type": "stream",
     "text": [
      "epoch: 11, [batch: 2688 / 6720], examples_per_second: 3005.2475, train_label_loss: 0.2309, \n"
     ]
    },
    {
     "name": "stdout",
     "output_type": "stream",
     "text": [
      "epoch: 11, [batch: 3360 / 6720], examples_per_second: 3007.0904, train_label_loss: 0.2769, \n"
     ]
    },
    {
     "name": "stdout",
     "output_type": "stream",
     "text": [
      "epoch: 11, [batch: 4032 / 6720], examples_per_second: 3004.3217, train_label_loss: 0.1519, \n"
     ]
    },
    {
     "name": "stdout",
     "output_type": "stream",
     "text": [
      "epoch: 11, [batch: 4704 / 6720], examples_per_second: 3190.1074, train_label_loss: 0.5124, \n"
     ]
    },
    {
     "name": "stdout",
     "output_type": "stream",
     "text": [
      "epoch: 11, [batch: 5376 / 6720], examples_per_second: 3431.1063, train_label_loss: 0.1653, \n"
     ]
    },
    {
     "name": "stdout",
     "output_type": "stream",
     "text": [
      "epoch: 11, [batch: 6048 / 6720], examples_per_second: 3585.4195, train_label_loss: 0.2001, \n"
     ]
    },
    {
     "name": "stdout",
     "output_type": "stream",
     "text": [
      "=============================================================\n",
      "epoch: 11, source_val_acc_label: 0.8220, target_val_acc_label: 0.8505, source_val_label_loss: 0.5785, target_val_label_loss: 154.7426, \n",
      "=============================================================\n"
     ]
    },
    {
     "name": "stdout",
     "output_type": "stream",
     "text": [
      "epoch: 12, [batch: 1 / 6720], examples_per_second: 2.7825, train_label_loss: 0.1830, \n"
     ]
    },
    {
     "name": "stdout",
     "output_type": "stream",
     "text": [
      "epoch: 12, [batch: 672 / 6720], examples_per_second: 2982.4354, train_label_loss: 0.0618, \n"
     ]
    },
    {
     "name": "stdout",
     "output_type": "stream",
     "text": [
      "epoch: 12, [batch: 1344 / 6720], examples_per_second: 2989.0941, train_label_loss: 0.1692, \n"
     ]
    },
    {
     "name": "stdout",
     "output_type": "stream",
     "text": [
      "epoch: 12, [batch: 2016 / 6720], examples_per_second: 3032.0816, train_label_loss: 0.1941, \n"
     ]
    },
    {
     "name": "stdout",
     "output_type": "stream",
     "text": [
      "epoch: 12, [batch: 2688 / 6720], examples_per_second: 2989.2427, train_label_loss: 0.2210, \n"
     ]
    },
    {
     "name": "stdout",
     "output_type": "stream",
     "text": [
      "epoch: 12, [batch: 3360 / 6720], examples_per_second: 3061.0176, train_label_loss: 0.0365, \n"
     ]
    },
    {
     "name": "stdout",
     "output_type": "stream",
     "text": [
      "epoch: 12, [batch: 4032 / 6720], examples_per_second: 3009.6664, train_label_loss: 0.3621, \n"
     ]
    },
    {
     "name": "stdout",
     "output_type": "stream",
     "text": [
      "epoch: 12, [batch: 4704 / 6720], examples_per_second: 3235.4067, train_label_loss: 0.0219, \n"
     ]
    },
    {
     "name": "stdout",
     "output_type": "stream",
     "text": [
      "epoch: 12, [batch: 5376 / 6720], examples_per_second: 3398.4209, train_label_loss: 0.1143, \n"
     ]
    },
    {
     "name": "stdout",
     "output_type": "stream",
     "text": [
      "epoch: 12, [batch: 6048 / 6720], examples_per_second: 3501.5855, train_label_loss: 0.1203, \n"
     ]
    },
    {
     "name": "stdout",
     "output_type": "stream",
     "text": [
      "=============================================================\n",
      "epoch: 12, source_val_acc_label: 0.8193, target_val_acc_label: 0.8494, source_val_label_loss: 0.5713, target_val_label_loss: 163.2655, \n",
      "=============================================================\n"
     ]
    },
    {
     "name": "stdout",
     "output_type": "stream",
     "text": [
      "epoch: 13, [batch: 1 / 6720], examples_per_second: 2.7927, train_label_loss: 0.0345, \n"
     ]
    },
    {
     "name": "stdout",
     "output_type": "stream",
     "text": [
      "epoch: 13, [batch: 672 / 6720], examples_per_second: 2998.5087, train_label_loss: 0.3257, \n"
     ]
    },
    {
     "name": "stdout",
     "output_type": "stream",
     "text": [
      "epoch: 13, [batch: 1344 / 6720], examples_per_second: 2990.1134, train_label_loss: 0.1199, \n"
     ]
    },
    {
     "name": "stdout",
     "output_type": "stream",
     "text": [
      "epoch: 13, [batch: 2016 / 6720], examples_per_second: 3009.2848, train_label_loss: 0.1382, \n"
     ]
    },
    {
     "name": "stdout",
     "output_type": "stream",
     "text": [
      "epoch: 13, [batch: 2688 / 6720], examples_per_second: 2981.4413, train_label_loss: 0.1077, \n"
     ]
    },
    {
     "name": "stdout",
     "output_type": "stream",
     "text": [
      "epoch: 13, [batch: 3360 / 6720], examples_per_second: 2974.0100, train_label_loss: 0.2239, \n"
     ]
    },
    {
     "name": "stdout",
     "output_type": "stream",
     "text": [
      "epoch: 13, [batch: 4032 / 6720], examples_per_second: 2991.2342, train_label_loss: 0.2521, \n"
     ]
    },
    {
     "name": "stdout",
     "output_type": "stream",
     "text": [
      "epoch: 13, [batch: 4704 / 6720], examples_per_second: 3277.6447, train_label_loss: 0.2865, \n"
     ]
    },
    {
     "name": "stdout",
     "output_type": "stream",
     "text": [
      "epoch: 13, [batch: 5376 / 6720], examples_per_second: 3447.6758, train_label_loss: 0.2618, \n"
     ]
    },
    {
     "name": "stdout",
     "output_type": "stream",
     "text": [
      "epoch: 13, [batch: 6048 / 6720], examples_per_second: 3704.7078, train_label_loss: 0.4502, \n"
     ]
    },
    {
     "name": "stdout",
     "output_type": "stream",
     "text": [
      "=============================================================\n",
      "epoch: 13, source_val_acc_label: 0.8197, target_val_acc_label: 0.8579, source_val_label_loss: 0.5758, target_val_label_loss: 147.2469, \n",
      "=============================================================\n"
     ]
    },
    {
     "name": "stdout",
     "output_type": "stream",
     "text": [
      "New best\n"
     ]
    },
    {
     "name": "stdout",
     "output_type": "stream",
     "text": [
      "epoch: 14, [batch: 1 / 6720], examples_per_second: 3.1272, train_label_loss: 0.2160, \n"
     ]
    },
    {
     "name": "stdout",
     "output_type": "stream",
     "text": [
      "epoch: 14, [batch: 672 / 6720], examples_per_second: 3366.0376, train_label_loss: 0.0273, \n"
     ]
    },
    {
     "name": "stdout",
     "output_type": "stream",
     "text": [
      "epoch: 14, [batch: 1344 / 6720], examples_per_second: 3486.0144, train_label_loss: 0.2222, \n"
     ]
    },
    {
     "name": "stdout",
     "output_type": "stream",
     "text": [
      "epoch: 14, [batch: 2016 / 6720], examples_per_second: 3624.4732, train_label_loss: 0.0956, \n"
     ]
    },
    {
     "name": "stdout",
     "output_type": "stream",
     "text": [
      "epoch: 14, [batch: 2688 / 6720], examples_per_second: 3899.4235, train_label_loss: 0.4770, \n"
     ]
    },
    {
     "name": "stdout",
     "output_type": "stream",
     "text": [
      "epoch: 14, [batch: 3360 / 6720], examples_per_second: 3200.7086, train_label_loss: 0.0032, \n"
     ]
    },
    {
     "name": "stdout",
     "output_type": "stream",
     "text": [
      "epoch: 14, [batch: 4032 / 6720], examples_per_second: 3024.9376, train_label_loss: 0.1687, \n"
     ]
    },
    {
     "name": "stdout",
     "output_type": "stream",
     "text": [
      "epoch: 14, [batch: 4704 / 6720], examples_per_second: 3217.4883, train_label_loss: 0.1304, \n"
     ]
    },
    {
     "name": "stdout",
     "output_type": "stream",
     "text": [
      "epoch: 14, [batch: 5376 / 6720], examples_per_second: 3417.9283, train_label_loss: 0.2457, \n"
     ]
    },
    {
     "name": "stdout",
     "output_type": "stream",
     "text": [
      "epoch: 14, [batch: 6048 / 6720], examples_per_second: 3474.9235, train_label_loss: 0.1826, \n"
     ]
    },
    {
     "name": "stdout",
     "output_type": "stream",
     "text": [
      "=============================================================\n",
      "epoch: 14, source_val_acc_label: 0.8200, target_val_acc_label: 0.8581, source_val_label_loss: 0.5829, target_val_label_loss: 161.9855, \n",
      "=============================================================\n"
     ]
    },
    {
     "name": "stdout",
     "output_type": "stream",
     "text": [
      "New best\n"
     ]
    },
    {
     "name": "stdout",
     "output_type": "stream",
     "text": [
      "epoch: 15, [batch: 1 / 6720], examples_per_second: 2.7597, train_label_loss: 0.1890, \n"
     ]
    },
    {
     "name": "stdout",
     "output_type": "stream",
     "text": [
      "epoch: 15, [batch: 672 / 6720], examples_per_second: 3012.4566, train_label_loss: 0.1912, \n"
     ]
    },
    {
     "name": "stdout",
     "output_type": "stream",
     "text": [
      "epoch: 15, [batch: 1344 / 6720], examples_per_second: 3033.6795, train_label_loss: 0.2228, \n"
     ]
    },
    {
     "name": "stdout",
     "output_type": "stream",
     "text": [
      "epoch: 15, [batch: 2016 / 6720], examples_per_second: 2947.2612, train_label_loss: 0.4152, \n"
     ]
    },
    {
     "name": "stdout",
     "output_type": "stream",
     "text": [
      "epoch: 15, [batch: 2688 / 6720], examples_per_second: 2972.1737, train_label_loss: 0.1891, \n"
     ]
    },
    {
     "name": "stdout",
     "output_type": "stream",
     "text": [
      "epoch: 15, [batch: 3360 / 6720], examples_per_second: 2982.0435, train_label_loss: 0.2500, \n"
     ]
    },
    {
     "name": "stdout",
     "output_type": "stream",
     "text": [
      "epoch: 15, [batch: 4032 / 6720], examples_per_second: 2989.8247, train_label_loss: 0.1977, \n"
     ]
    },
    {
     "name": "stdout",
     "output_type": "stream",
     "text": [
      "epoch: 15, [batch: 4704 / 6720], examples_per_second: 3294.7452, train_label_loss: 0.1682, \n"
     ]
    },
    {
     "name": "stdout",
     "output_type": "stream",
     "text": [
      "epoch: 15, [batch: 5376 / 6720], examples_per_second: 3448.5628, train_label_loss: 0.2584, \n"
     ]
    },
    {
     "name": "stdout",
     "output_type": "stream",
     "text": [
      "epoch: 15, [batch: 6048 / 6720], examples_per_second: 3568.9276, train_label_loss: 0.3803, \n"
     ]
    },
    {
     "name": "stdout",
     "output_type": "stream",
     "text": [
      "=============================================================\n",
      "epoch: 15, source_val_acc_label: 0.8160, target_val_acc_label: 0.8591, source_val_label_loss: 0.6135, target_val_label_loss: 166.2494, \n",
      "=============================================================\n"
     ]
    },
    {
     "name": "stdout",
     "output_type": "stream",
     "text": [
      "New best\n"
     ]
    },
    {
     "name": "stdout",
     "output_type": "stream",
     "text": [
      "epoch: 16, [batch: 1 / 6720], examples_per_second: 2.8281, train_label_loss: 0.2158, \n"
     ]
    },
    {
     "name": "stdout",
     "output_type": "stream",
     "text": [
      "epoch: 16, [batch: 672 / 6720], examples_per_second: 3081.4185, train_label_loss: 0.2136, \n"
     ]
    },
    {
     "name": "stdout",
     "output_type": "stream",
     "text": [
      "epoch: 16, [batch: 1344 / 6720], examples_per_second: 3084.0927, train_label_loss: 0.2059, \n"
     ]
    },
    {
     "name": "stdout",
     "output_type": "stream",
     "text": [
      "epoch: 16, [batch: 2016 / 6720], examples_per_second: 2989.1968, train_label_loss: 0.2426, \n"
     ]
    },
    {
     "name": "stdout",
     "output_type": "stream",
     "text": [
      "epoch: 16, [batch: 2688 / 6720], examples_per_second: 2972.0997, train_label_loss: 0.0249, \n"
     ]
    },
    {
     "name": "stdout",
     "output_type": "stream",
     "text": [
      "epoch: 16, [batch: 3360 / 6720], examples_per_second: 3051.2758, train_label_loss: 0.3123, \n"
     ]
    },
    {
     "name": "stdout",
     "output_type": "stream",
     "text": [
      "epoch: 16, [batch: 4032 / 6720], examples_per_second: 2997.3318, train_label_loss: 0.3204, \n"
     ]
    },
    {
     "name": "stdout",
     "output_type": "stream",
     "text": [
      "epoch: 16, [batch: 4704 / 6720], examples_per_second: 3267.1839, train_label_loss: 0.1181, \n"
     ]
    },
    {
     "name": "stdout",
     "output_type": "stream",
     "text": [
      "epoch: 16, [batch: 5376 / 6720], examples_per_second: 3445.8268, train_label_loss: 0.3504, \n"
     ]
    },
    {
     "name": "stdout",
     "output_type": "stream",
     "text": [
      "epoch: 16, [batch: 6048 / 6720], examples_per_second: 3551.5845, train_label_loss: 0.0573, \n"
     ]
    },
    {
     "name": "stdout",
     "output_type": "stream",
     "text": [
      "=============================================================\n",
      "epoch: 16, source_val_acc_label: 0.8172, target_val_acc_label: 0.8630, source_val_label_loss: 0.6065, target_val_label_loss: 151.7598, \n",
      "=============================================================\n"
     ]
    },
    {
     "name": "stdout",
     "output_type": "stream",
     "text": [
      "New best\n"
     ]
    },
    {
     "name": "stdout",
     "output_type": "stream",
     "text": [
      "epoch: 17, [batch: 1 / 6720], examples_per_second: 2.7803, train_label_loss: 0.3501, \n"
     ]
    },
    {
     "name": "stdout",
     "output_type": "stream",
     "text": [
      "epoch: 17, [batch: 672 / 6720], examples_per_second: 3043.7492, train_label_loss: 0.0564, \n"
     ]
    },
    {
     "name": "stdout",
     "output_type": "stream",
     "text": [
      "epoch: 17, [batch: 1344 / 6720], examples_per_second: 2999.4109, train_label_loss: 0.1463, \n"
     ]
    },
    {
     "name": "stdout",
     "output_type": "stream",
     "text": [
      "epoch: 17, [batch: 2016 / 6720], examples_per_second: 2945.4617, train_label_loss: 0.4130, \n"
     ]
    },
    {
     "name": "stdout",
     "output_type": "stream",
     "text": [
      "epoch: 17, [batch: 2688 / 6720], examples_per_second: 2915.3746, train_label_loss: 0.1417, \n"
     ]
    },
    {
     "name": "stdout",
     "output_type": "stream",
     "text": [
      "epoch: 17, [batch: 3360 / 6720], examples_per_second: 2974.8999, train_label_loss: 0.0375, \n"
     ]
    },
    {
     "name": "stdout",
     "output_type": "stream",
     "text": [
      "epoch: 17, [batch: 4032 / 6720], examples_per_second: 3027.3989, train_label_loss: 0.2281, \n"
     ]
    },
    {
     "name": "stdout",
     "output_type": "stream",
     "text": [
      "epoch: 17, [batch: 4704 / 6720], examples_per_second: 3276.5309, train_label_loss: 0.0154, \n"
     ]
    },
    {
     "name": "stdout",
     "output_type": "stream",
     "text": [
      "epoch: 17, [batch: 5376 / 6720], examples_per_second: 3399.6515, train_label_loss: 0.1780, \n"
     ]
    },
    {
     "name": "stdout",
     "output_type": "stream",
     "text": [
      "epoch: 17, [batch: 6048 / 6720], examples_per_second: 3420.9746, train_label_loss: 0.0805, \n"
     ]
    },
    {
     "name": "stdout",
     "output_type": "stream",
     "text": [
      "=============================================================\n",
      "epoch: 17, source_val_acc_label: 0.8242, target_val_acc_label: 0.8619, source_val_label_loss: 0.6099, target_val_label_loss: 164.9942, \n",
      "=============================================================\n"
     ]
    },
    {
     "name": "stdout",
     "output_type": "stream",
     "text": [
      "epoch: 18, [batch: 1 / 6720], examples_per_second: 3.1935, train_label_loss: 0.0146, \n"
     ]
    },
    {
     "name": "stdout",
     "output_type": "stream",
     "text": [
      "epoch: 18, [batch: 672 / 6720], examples_per_second: 3451.1971, train_label_loss: 0.2310, \n"
     ]
    },
    {
     "name": "stdout",
     "output_type": "stream",
     "text": [
      "epoch: 18, [batch: 1344 / 6720], examples_per_second: 3427.0716, train_label_loss: 0.0427, \n"
     ]
    },
    {
     "name": "stdout",
     "output_type": "stream",
     "text": [
      "epoch: 18, [batch: 2016 / 6720], examples_per_second: 3426.8895, train_label_loss: 0.0819, \n"
     ]
    },
    {
     "name": "stdout",
     "output_type": "stream",
     "text": [
      "epoch: 18, [batch: 2688 / 6720], examples_per_second: 3448.0463, train_label_loss: 0.0460, \n"
     ]
    },
    {
     "name": "stdout",
     "output_type": "stream",
     "text": [
      "epoch: 18, [batch: 3360 / 6720], examples_per_second: 4361.0540, train_label_loss: 0.0495, \n"
     ]
    },
    {
     "name": "stdout",
     "output_type": "stream",
     "text": [
      "epoch: 18, [batch: 4032 / 6720], examples_per_second: 4366.1652, train_label_loss: 0.3576, \n"
     ]
    },
    {
     "name": "stdout",
     "output_type": "stream",
     "text": [
      "epoch: 18, [batch: 4704 / 6720], examples_per_second: 4472.1578, train_label_loss: 0.0925, \n"
     ]
    },
    {
     "name": "stdout",
     "output_type": "stream",
     "text": [
      "epoch: 18, [batch: 5376 / 6720], examples_per_second: 4520.4649, train_label_loss: 0.2301, \n"
     ]
    },
    {
     "name": "stdout",
     "output_type": "stream",
     "text": [
      "epoch: 18, [batch: 6048 / 6720], examples_per_second: 4843.7332, train_label_loss: 0.2356, \n"
     ]
    },
    {
     "name": "stdout",
     "output_type": "stream",
     "text": [
      "=============================================================\n",
      "epoch: 18, source_val_acc_label: 0.8185, target_val_acc_label: 0.8647, source_val_label_loss: 0.6146, target_val_label_loss: 157.4276, \n",
      "=============================================================\n"
     ]
    },
    {
     "name": "stdout",
     "output_type": "stream",
     "text": [
      "New best\n"
     ]
    },
    {
     "name": "stdout",
     "output_type": "stream",
     "text": [
      "epoch: 19, [batch: 1 / 6720], examples_per_second: 5.1873, train_label_loss: 0.1953, \n"
     ]
    },
    {
     "name": "stdout",
     "output_type": "stream",
     "text": [
      "epoch: 19, [batch: 672 / 6720], examples_per_second: 3905.7439, train_label_loss: 0.6289, \n"
     ]
    },
    {
     "name": "stdout",
     "output_type": "stream",
     "text": [
      "epoch: 19, [batch: 1344 / 6720], examples_per_second: 3950.1434, train_label_loss: 0.2870, \n"
     ]
    },
    {
     "name": "stdout",
     "output_type": "stream",
     "text": [
      "epoch: 19, [batch: 2016 / 6720], examples_per_second: 3237.3205, train_label_loss: 0.2167, \n"
     ]
    },
    {
     "name": "stdout",
     "output_type": "stream",
     "text": [
      "epoch: 19, [batch: 2688 / 6720], examples_per_second: 3025.1394, train_label_loss: 0.3275, \n"
     ]
    },
    {
     "name": "stdout",
     "output_type": "stream",
     "text": [
      "epoch: 19, [batch: 3360 / 6720], examples_per_second: 3089.8753, train_label_loss: 0.1353, \n"
     ]
    },
    {
     "name": "stdout",
     "output_type": "stream",
     "text": [
      "epoch: 19, [batch: 4032 / 6720], examples_per_second: 3015.2341, train_label_loss: 0.0615, \n"
     ]
    },
    {
     "name": "stdout",
     "output_type": "stream",
     "text": [
      "epoch: 19, [batch: 4704 / 6720], examples_per_second: 3063.1075, train_label_loss: 0.0058, \n"
     ]
    },
    {
     "name": "stdout",
     "output_type": "stream",
     "text": [
      "epoch: 19, [batch: 5376 / 6720], examples_per_second: 3044.9731, train_label_loss: 0.3003, \n"
     ]
    },
    {
     "name": "stdout",
     "output_type": "stream",
     "text": [
      "epoch: 19, [batch: 6048 / 6720], examples_per_second: 2995.0943, train_label_loss: 0.0787, \n"
     ]
    },
    {
     "name": "stdout",
     "output_type": "stream",
     "text": [
      "=============================================================\n",
      "epoch: 19, source_val_acc_label: 0.8213, target_val_acc_label: 0.8610, source_val_label_loss: 0.6313, target_val_label_loss: 158.6413, \n",
      "=============================================================\n"
     ]
    },
    {
     "name": "stdout",
     "output_type": "stream",
     "text": [
      "epoch: 20, [batch: 1 / 6720], examples_per_second: 2.7781, train_label_loss: 0.0316, \n"
     ]
    },
    {
     "name": "stdout",
     "output_type": "stream",
     "text": [
      "epoch: 20, [batch: 672 / 6720], examples_per_second: 3432.8720, train_label_loss: 0.0270, \n"
     ]
    },
    {
     "name": "stdout",
     "output_type": "stream",
     "text": [
      "epoch: 20, [batch: 1344 / 6720], examples_per_second: 3481.3532, train_label_loss: 0.4918, \n"
     ]
    },
    {
     "name": "stdout",
     "output_type": "stream",
     "text": [
      "epoch: 20, [batch: 2016 / 6720], examples_per_second: 3177.6927, train_label_loss: 0.0143, \n"
     ]
    },
    {
     "name": "stdout",
     "output_type": "stream",
     "text": [
      "epoch: 20, [batch: 2688 / 6720], examples_per_second: 2965.3735, train_label_loss: 0.3920, \n"
     ]
    },
    {
     "name": "stdout",
     "output_type": "stream",
     "text": [
      "epoch: 20, [batch: 3360 / 6720], examples_per_second: 3012.1136, train_label_loss: 0.5121, \n"
     ]
    },
    {
     "name": "stdout",
     "output_type": "stream",
     "text": [
      "epoch: 20, [batch: 4032 / 6720], examples_per_second: 3043.2274, train_label_loss: 0.1740, \n"
     ]
    },
    {
     "name": "stdout",
     "output_type": "stream",
     "text": [
      "epoch: 20, [batch: 4704 / 6720], examples_per_second: 2984.8629, train_label_loss: 0.2868, \n"
     ]
    },
    {
     "name": "stdout",
     "output_type": "stream",
     "text": [
      "epoch: 20, [batch: 5376 / 6720], examples_per_second: 2999.0323, train_label_loss: 0.0665, \n"
     ]
    },
    {
     "name": "stdout",
     "output_type": "stream",
     "text": [
      "epoch: 20, [batch: 6048 / 6720], examples_per_second: 3034.9926, train_label_loss: 0.1839, \n"
     ]
    },
    {
     "name": "stdout",
     "output_type": "stream",
     "text": [
      "=============================================================\n",
      "epoch: 20, source_val_acc_label: 0.8183, target_val_acc_label: 0.8647, source_val_label_loss: 0.6316, target_val_label_loss: 169.3031, \n",
      "=============================================================\n"
     ]
    },
    {
     "name": "stdout",
     "output_type": "stream",
     "text": [
      "New best\n"
     ]
    },
    {
     "name": "stdout",
     "output_type": "stream",
     "text": [
      "epoch: 21, [batch: 1 / 6720], examples_per_second: 2.7593, train_label_loss: 0.3259, \n"
     ]
    },
    {
     "name": "stdout",
     "output_type": "stream",
     "text": [
      "epoch: 21, [batch: 672 / 6720], examples_per_second: 3391.8554, train_label_loss: 0.1380, \n"
     ]
    },
    {
     "name": "stdout",
     "output_type": "stream",
     "text": [
      "epoch: 21, [batch: 1344 / 6720], examples_per_second: 3558.7229, train_label_loss: 0.6665, \n"
     ]
    },
    {
     "name": "stdout",
     "output_type": "stream",
     "text": [
      "epoch: 21, [batch: 2016 / 6720], examples_per_second: 3020.6960, train_label_loss: 0.3952, \n"
     ]
    },
    {
     "name": "stdout",
     "output_type": "stream",
     "text": [
      "epoch: 21, [batch: 2688 / 6720], examples_per_second: 2993.1129, train_label_loss: 0.0004, \n"
     ]
    },
    {
     "name": "stdout",
     "output_type": "stream",
     "text": [
      "epoch: 21, [batch: 3360 / 6720], examples_per_second: 3073.4038, train_label_loss: 0.1759, \n"
     ]
    },
    {
     "name": "stdout",
     "output_type": "stream",
     "text": [
      "epoch: 21, [batch: 4032 / 6720], examples_per_second: 2999.3726, train_label_loss: 0.1504, \n"
     ]
    },
    {
     "name": "stdout",
     "output_type": "stream",
     "text": [
      "epoch: 21, [batch: 4704 / 6720], examples_per_second: 2980.2425, train_label_loss: 0.2317, \n"
     ]
    },
    {
     "name": "stdout",
     "output_type": "stream",
     "text": [
      "epoch: 21, [batch: 5376 / 6720], examples_per_second: 3073.5442, train_label_loss: 0.0044, \n"
     ]
    },
    {
     "name": "stdout",
     "output_type": "stream",
     "text": [
      "epoch: 21, [batch: 6048 / 6720], examples_per_second: 3083.1907, train_label_loss: 0.0036, \n"
     ]
    },
    {
     "name": "stdout",
     "output_type": "stream",
     "text": [
      "=============================================================\n",
      "epoch: 21, source_val_acc_label: 0.8196, target_val_acc_label: 0.8636, source_val_label_loss: 0.6418, target_val_label_loss: 166.2247, \n",
      "=============================================================\n"
     ]
    },
    {
     "name": "stdout",
     "output_type": "stream",
     "text": [
      "epoch: 22, [batch: 1 / 6720], examples_per_second: 2.8050, train_label_loss: 0.1804, \n"
     ]
    },
    {
     "name": "stdout",
     "output_type": "stream",
     "text": [
      "epoch: 22, [batch: 672 / 6720], examples_per_second: 3452.1352, train_label_loss: 0.3474, \n"
     ]
    },
    {
     "name": "stdout",
     "output_type": "stream",
     "text": [
      "epoch: 22, [batch: 1344 / 6720], examples_per_second: 3597.6826, train_label_loss: 0.0209, \n"
     ]
    },
    {
     "name": "stdout",
     "output_type": "stream",
     "text": [
      "epoch: 22, [batch: 2016 / 6720], examples_per_second: 3097.8221, train_label_loss: 0.1199, \n"
     ]
    },
    {
     "name": "stdout",
     "output_type": "stream",
     "text": [
      "epoch: 22, [batch: 2688 / 6720], examples_per_second: 3006.3217, train_label_loss: 0.4650, \n"
     ]
    },
    {
     "name": "stdout",
     "output_type": "stream",
     "text": [
      "epoch: 22, [batch: 3360 / 6720], examples_per_second: 3064.5311, train_label_loss: 0.5282, \n"
     ]
    },
    {
     "name": "stdout",
     "output_type": "stream",
     "text": [
      "epoch: 22, [batch: 4032 / 6720], examples_per_second: 2967.2305, train_label_loss: 0.1573, \n"
     ]
    },
    {
     "name": "stdout",
     "output_type": "stream",
     "text": [
      "epoch: 22, [batch: 4704 / 6720], examples_per_second: 2939.9666, train_label_loss: 0.0026, \n"
     ]
    },
    {
     "name": "stdout",
     "output_type": "stream",
     "text": [
      "epoch: 22, [batch: 5376 / 6720], examples_per_second: 2944.0675, train_label_loss: 0.2792, \n"
     ]
    },
    {
     "name": "stdout",
     "output_type": "stream",
     "text": [
      "epoch: 22, [batch: 6048 / 6720], examples_per_second: 2983.1042, train_label_loss: 0.0512, \n"
     ]
    },
    {
     "name": "stdout",
     "output_type": "stream",
     "text": [
      "=============================================================\n",
      "epoch: 22, source_val_acc_label: 0.8186, target_val_acc_label: 0.8667, source_val_label_loss: 0.6790, target_val_label_loss: 160.5505, \n",
      "=============================================================\n"
     ]
    },
    {
     "name": "stdout",
     "output_type": "stream",
     "text": [
      "New best\n"
     ]
    },
    {
     "name": "stdout",
     "output_type": "stream",
     "text": [
      "epoch: 23, [batch: 1 / 6720], examples_per_second: 2.8120, train_label_loss: 0.3349, \n"
     ]
    },
    {
     "name": "stdout",
     "output_type": "stream",
     "text": [
      "epoch: 23, [batch: 672 / 6720], examples_per_second: 3856.4344, train_label_loss: 0.3862, \n"
     ]
    },
    {
     "name": "stdout",
     "output_type": "stream",
     "text": [
      "epoch: 23, [batch: 1344 / 6720], examples_per_second: 3837.6486, train_label_loss: 0.0707, \n"
     ]
    },
    {
     "name": "stdout",
     "output_type": "stream",
     "text": [
      "epoch: 23, [batch: 2016 / 6720], examples_per_second: 3399.5256, train_label_loss: 0.1316, \n"
     ]
    },
    {
     "name": "stdout",
     "output_type": "stream",
     "text": [
      "epoch: 23, [batch: 2688 / 6720], examples_per_second: 3347.4427, train_label_loss: 0.0343, \n"
     ]
    },
    {
     "name": "stdout",
     "output_type": "stream",
     "text": [
      "epoch: 23, [batch: 3360 / 6720], examples_per_second: 3478.6543, train_label_loss: 0.3266, \n"
     ]
    },
    {
     "name": "stdout",
     "output_type": "stream",
     "text": [
      "epoch: 23, [batch: 4032 / 6720], examples_per_second: 3433.2464, train_label_loss: 0.0709, \n"
     ]
    },
    {
     "name": "stdout",
     "output_type": "stream",
     "text": [
      "epoch: 23, [batch: 4704 / 6720], examples_per_second: 3968.1766, train_label_loss: 0.0097, \n"
     ]
    },
    {
     "name": "stdout",
     "output_type": "stream",
     "text": [
      "epoch: 23, [batch: 5376 / 6720], examples_per_second: 3765.7090, train_label_loss: 0.1734, \n"
     ]
    },
    {
     "name": "stdout",
     "output_type": "stream",
     "text": [
      "epoch: 23, [batch: 6048 / 6720], examples_per_second: 2998.1575, train_label_loss: 0.0772, \n"
     ]
    },
    {
     "name": "stdout",
     "output_type": "stream",
     "text": [
      "=============================================================\n",
      "epoch: 23, source_val_acc_label: 0.8142, target_val_acc_label: 0.8651, source_val_label_loss: 0.6741, target_val_label_loss: 162.7919, \n",
      "=============================================================\n"
     ]
    },
    {
     "name": "stdout",
     "output_type": "stream",
     "text": [
      "epoch: 24, [batch: 1 / 6720], examples_per_second: 2.8570, train_label_loss: 0.1551, \n"
     ]
    },
    {
     "name": "stdout",
     "output_type": "stream",
     "text": [
      "epoch: 24, [batch: 672 / 6720], examples_per_second: 3515.3846, train_label_loss: 0.0141, \n"
     ]
    },
    {
     "name": "stdout",
     "output_type": "stream",
     "text": [
      "epoch: 24, [batch: 1344 / 6720], examples_per_second: 3193.6456, train_label_loss: 0.1041, \n"
     ]
    },
    {
     "name": "stdout",
     "output_type": "stream",
     "text": [
      "epoch: 24, [batch: 2016 / 6720], examples_per_second: 2987.4994, train_label_loss: 0.0240, \n"
     ]
    },
    {
     "name": "stdout",
     "output_type": "stream",
     "text": [
      "epoch: 24, [batch: 2688 / 6720], examples_per_second: 3019.8072, train_label_loss: 0.1978, \n"
     ]
    },
    {
     "name": "stdout",
     "output_type": "stream",
     "text": [
      "epoch: 24, [batch: 3360 / 6720], examples_per_second: 3019.0116, train_label_loss: 0.0076, \n"
     ]
    },
    {
     "name": "stdout",
     "output_type": "stream",
     "text": [
      "epoch: 24, [batch: 4032 / 6720], examples_per_second: 3046.4189, train_label_loss: 0.3196, \n"
     ]
    },
    {
     "name": "stdout",
     "output_type": "stream",
     "text": [
      "epoch: 24, [batch: 4704 / 6720], examples_per_second: 3002.1472, train_label_loss: 0.0630, \n"
     ]
    },
    {
     "name": "stdout",
     "output_type": "stream",
     "text": [
      "epoch: 24, [batch: 5376 / 6720], examples_per_second: 2986.4668, train_label_loss: 0.0886, \n"
     ]
    },
    {
     "name": "stdout",
     "output_type": "stream",
     "text": [
      "epoch: 24, [batch: 6048 / 6720], examples_per_second: 3026.8821, train_label_loss: 0.2078, \n"
     ]
    },
    {
     "name": "stdout",
     "output_type": "stream",
     "text": [
      "=============================================================\n",
      "epoch: 24, source_val_acc_label: 0.8071, target_val_acc_label: 0.8641, source_val_label_loss: 0.6796, target_val_label_loss: 169.7791, \n",
      "=============================================================\n"
     ]
    },
    {
     "name": "stdout",
     "output_type": "stream",
     "text": [
      "epoch: 25, [batch: 1 / 6720], examples_per_second: 2.9026, train_label_loss: 0.0014, \n"
     ]
    },
    {
     "name": "stdout",
     "output_type": "stream",
     "text": [
      "epoch: 25, [batch: 672 / 6720], examples_per_second: 3654.2895, train_label_loss: 0.2087, \n"
     ]
    },
    {
     "name": "stdout",
     "output_type": "stream",
     "text": [
      "epoch: 25, [batch: 1344 / 6720], examples_per_second: 3102.3067, train_label_loss: 0.0432, \n"
     ]
    },
    {
     "name": "stdout",
     "output_type": "stream",
     "text": [
      "epoch: 25, [batch: 2016 / 6720], examples_per_second: 3002.8304, train_label_loss: 0.4641, \n"
     ]
    },
    {
     "name": "stdout",
     "output_type": "stream",
     "text": [
      "epoch: 25, [batch: 2688 / 6720], examples_per_second: 2978.4228, train_label_loss: 0.1879, \n"
     ]
    },
    {
     "name": "stdout",
     "output_type": "stream",
     "text": [
      "epoch: 25, [batch: 3360 / 6720], examples_per_second: 3003.7183, train_label_loss: 0.0577, \n"
     ]
    },
    {
     "name": "stdout",
     "output_type": "stream",
     "text": [
      "epoch: 25, [batch: 4032 / 6720], examples_per_second: 3008.6712, train_label_loss: 0.0750, \n"
     ]
    },
    {
     "name": "stdout",
     "output_type": "stream",
     "text": [
      "epoch: 25, [batch: 4704 / 6720], examples_per_second: 3057.0653, train_label_loss: 0.2109, \n"
     ]
    },
    {
     "name": "stdout",
     "output_type": "stream",
     "text": [
      "epoch: 25, [batch: 5376 / 6720], examples_per_second: 2974.1857, train_label_loss: 0.0157, \n"
     ]
    },
    {
     "name": "stdout",
     "output_type": "stream",
     "text": [
      "epoch: 25, [batch: 6048 / 6720], examples_per_second: 2974.9703, train_label_loss: 0.1322, \n"
     ]
    },
    {
     "name": "stdout",
     "output_type": "stream",
     "text": [
      "=============================================================\n",
      "epoch: 25, source_val_acc_label: 0.8107, target_val_acc_label: 0.8647, source_val_label_loss: 0.7034, target_val_label_loss: 171.8902, \n",
      "=============================================================\n"
     ]
    },
    {
     "name": "stdout",
     "output_type": "stream",
     "text": [
      "epoch: 26, [batch: 1 / 6720], examples_per_second: 2.9055, train_label_loss: 0.3173, \n"
     ]
    },
    {
     "name": "stdout",
     "output_type": "stream",
     "text": [
      "epoch: 26, [batch: 672 / 6720], examples_per_second: 3487.3695, train_label_loss: 0.0446, \n"
     ]
    },
    {
     "name": "stdout",
     "output_type": "stream",
     "text": [
      "epoch: 26, [batch: 1344 / 6720], examples_per_second: 3009.3100, train_label_loss: 0.0733, \n"
     ]
    },
    {
     "name": "stdout",
     "output_type": "stream",
     "text": [
      "epoch: 26, [batch: 2016 / 6720], examples_per_second: 3000.3974, train_label_loss: 0.2080, \n"
     ]
    },
    {
     "name": "stdout",
     "output_type": "stream",
     "text": [
      "epoch: 26, [batch: 2688 / 6720], examples_per_second: 3013.2748, train_label_loss: 0.2498, \n"
     ]
    },
    {
     "name": "stdout",
     "output_type": "stream",
     "text": [
      "epoch: 26, [batch: 3360 / 6720], examples_per_second: 3006.6786, train_label_loss: 0.2516, \n"
     ]
    },
    {
     "name": "stdout",
     "output_type": "stream",
     "text": [
      "epoch: 26, [batch: 4032 / 6720], examples_per_second: 3006.0446, train_label_loss: 0.0130, \n"
     ]
    },
    {
     "name": "stdout",
     "output_type": "stream",
     "text": [
      "epoch: 26, [batch: 4704 / 6720], examples_per_second: 3002.2215, train_label_loss: 0.2705, \n"
     ]
    },
    {
     "name": "stdout",
     "output_type": "stream",
     "text": [
      "epoch: 26, [batch: 5376 / 6720], examples_per_second: 3052.5206, train_label_loss: 0.0979, \n"
     ]
    },
    {
     "name": "stdout",
     "output_type": "stream",
     "text": [
      "epoch: 26, [batch: 6048 / 6720], examples_per_second: 3028.8851, train_label_loss: 0.0137, \n"
     ]
    },
    {
     "name": "stdout",
     "output_type": "stream",
     "text": [
      "=============================================================\n",
      "epoch: 26, source_val_acc_label: 0.8132, target_val_acc_label: 0.8636, source_val_label_loss: 0.7058, target_val_label_loss: 174.2656, \n",
      "=============================================================\n"
     ]
    },
    {
     "name": "stdout",
     "output_type": "stream",
     "text": [
      "Patience (3) exhausted\n"
     ]
    }
   ],
   "source": [
    "###################################\n",
    "# train\n",
    "###################################\n",
    "jig = PTN_Train_Eval_Test_Jig(model, p.BEST_MODEL_PATH, p.device)\n",
    "\n",
    "jig.train(\n",
    "    train_iterable=datasets.source.processed.train,\n",
    "    source_val_iterable=datasets.source.processed.val,\n",
    "    target_val_iterable=datasets.target.processed.val,\n",
    "    num_epochs=p.n_epoch,\n",
    "    num_logs_per_epoch=p.NUM_LOGS_PER_EPOCH,\n",
    "    patience=p.patience,\n",
    "    optimizer=optimizer,\n",
    "    criteria_for_best=p.criteria_for_best,\n",
    ")"
   ]
  },
  {
   "cell_type": "code",
   "execution_count": 23,
   "id": "31e8fabf",
   "metadata": {
    "execution": {
     "iopub.execute_input": "2022-03-22T19:55:47.675525Z",
     "iopub.status.busy": "2022-03-22T19:55:47.674894Z",
     "iopub.status.idle": "2022-03-22T19:55:47.705338Z",
     "shell.execute_reply": "2022-03-22T19:55:47.704543Z"
    },
    "papermill": {
     "duration": 0.135758,
     "end_time": "2022-03-22T19:55:47.705489",
     "exception": false,
     "start_time": "2022-03-22T19:55:47.569731",
     "status": "completed"
    },
    "tags": []
   },
   "outputs": [],
   "source": [
    "total_experiment_time_secs = time.time() - start_time_secs"
   ]
  },
  {
   "cell_type": "code",
   "execution_count": 24,
   "id": "87b9595b",
   "metadata": {
    "execution": {
     "iopub.execute_input": "2022-03-22T19:55:47.916846Z",
     "iopub.status.busy": "2022-03-22T19:55:47.916467Z",
     "iopub.status.idle": "2022-03-22T19:59:27.368471Z",
     "shell.execute_reply": "2022-03-22T19:59:27.367743Z"
    },
    "papermill": {
     "duration": 219.55575,
     "end_time": "2022-03-22T19:59:27.368671",
     "exception": false,
     "start_time": "2022-03-22T19:55:47.812921",
     "status": "completed"
    },
    "tags": []
   },
   "outputs": [],
   "source": [
    "###################################\n",
    "# Evaluate the model\n",
    "###################################\n",
    "source_test_label_accuracy, source_test_label_loss = jig.test(datasets.source.processed.test)\n",
    "target_test_label_accuracy, target_test_label_loss = jig.test(datasets.target.processed.test)\n",
    "\n",
    "source_val_label_accuracy, source_val_label_loss = jig.test(datasets.source.processed.val)\n",
    "target_val_label_accuracy, target_val_label_loss = jig.test(datasets.target.processed.val)\n",
    "\n",
    "history = jig.get_history()\n",
    "\n",
    "total_epochs_trained = len(history[\"epoch_indices\"])\n",
    "\n",
    "val_dl = Iterable_Aggregator((datasets.source.original.val,datasets.target.original.val))\n",
    "\n",
    "confusion = ptn_confusion_by_domain_over_dataloader(model, p.device, val_dl)\n",
    "per_domain_accuracy = per_domain_accuracy_from_confusion(confusion)\n",
    "\n",
    "# Add a key to per_domain_accuracy for if it was a source domain\n",
    "for domain, accuracy in per_domain_accuracy.items():\n",
    "    per_domain_accuracy[domain] = {\n",
    "        \"accuracy\": accuracy,\n",
    "        \"source?\": domain in p.domains_source\n",
    "    }\n",
    "\n",
    "# Do an independent accuracy assesment JUST TO BE SURE!\n",
    "# _source_test_label_accuracy = independent_accuracy_assesment(model, datasets.source.processed.test, p.device)\n",
    "# _target_test_label_accuracy = independent_accuracy_assesment(model, datasets.target.processed.test, p.device)\n",
    "# _source_val_label_accuracy = independent_accuracy_assesment(model, datasets.source.processed.val, p.device)\n",
    "# _target_val_label_accuracy = independent_accuracy_assesment(model, datasets.target.processed.val, p.device)\n",
    "\n",
    "# assert(_source_test_label_accuracy == source_test_label_accuracy)\n",
    "# assert(_target_test_label_accuracy == target_test_label_accuracy)\n",
    "# assert(_source_val_label_accuracy == source_val_label_accuracy)\n",
    "# assert(_target_val_label_accuracy == target_val_label_accuracy)\n",
    "\n",
    "experiment = {\n",
    "    \"experiment_name\": p.experiment_name,\n",
    "    \"parameters\": dict(p),\n",
    "    \"results\": {\n",
    "        \"source_test_label_accuracy\": source_test_label_accuracy,\n",
    "        \"source_test_label_loss\": source_test_label_loss,\n",
    "        \"target_test_label_accuracy\": target_test_label_accuracy,\n",
    "        \"target_test_label_loss\": target_test_label_loss,\n",
    "        \"source_val_label_accuracy\": source_val_label_accuracy,\n",
    "        \"source_val_label_loss\": source_val_label_loss,\n",
    "        \"target_val_label_accuracy\": target_val_label_accuracy,\n",
    "        \"target_val_label_loss\": target_val_label_loss,\n",
    "        \"total_epochs_trained\": total_epochs_trained,\n",
    "        \"total_experiment_time_secs\": total_experiment_time_secs,\n",
    "        \"confusion\": confusion,\n",
    "        \"per_domain_accuracy\": per_domain_accuracy,\n",
    "    },\n",
    "    \"history\": history,\n",
    "    \"dataset_metrics\": get_dataset_metrics(datasets, \"ptn\"),\n",
    "}"
   ]
  },
  {
   "cell_type": "code",
   "execution_count": 25,
   "id": "54a21829",
   "metadata": {
    "execution": {
     "iopub.execute_input": "2022-03-22T19:59:27.582663Z",
     "iopub.status.busy": "2022-03-22T19:59:27.582299Z",
     "iopub.status.idle": "2022-03-22T19:59:27.806827Z",
     "shell.execute_reply": "2022-03-22T19:59:27.807504Z"
    },
    "papermill": {
     "duration": 0.330239,
     "end_time": "2022-03-22T19:59:27.807778",
     "exception": false,
     "start_time": "2022-03-22T19:59:27.477539",
     "status": "completed"
    },
    "tags": []
   },
   "outputs": [
    {
     "data": {
      "image/png": "[encoded data removed]",
      "text/plain": [
       "<Figure size 1080x504 with 1 Axes>"
      ]
     },
     "metadata": {
      "needs_background": "light"
     },
     "output_type": "display_data"
    }
   ],
   "source": [
    "ax = get_loss_curve(experiment)\n",
    "plt.show()"
   ]
  },
  {
   "cell_type": "code",
   "execution_count": 26,
   "id": "fd8a0f60",
   "metadata": {
    "execution": {
     "iopub.execute_input": "2022-03-22T19:59:28.022159Z",
     "iopub.status.busy": "2022-03-22T19:59:28.021795Z",
     "iopub.status.idle": "2022-03-22T19:59:28.360029Z",
     "shell.execute_reply": "2022-03-22T19:59:28.360716Z"
    },
    "papermill": {
     "duration": 0.44464,
     "end_time": "2022-03-22T19:59:28.360945",
     "exception": false,
     "start_time": "2022-03-22T19:59:27.916305",
     "status": "completed"
    },
    "tags": []
   },
   "outputs": [
    {
     "data": {
      "text/plain": [
       "<AxesSubplot:title={'center':'Results'}>"
      ]
     },
     "execution_count": 26,
     "metadata": {},
     "output_type": "execute_result"
    },
    {
     "data": {
      "image/png": "[encoded data removed]",
      "text/plain": [
       "<Figure size 1080x504 with 1 Axes>"
      ]
     },
     "metadata": {
      "needs_background": "light"
     },
     "output_type": "display_data"
    }
   ],
   "source": [
    "get_results_table(experiment)"
   ]
  },
  {
   "cell_type": "code",
   "execution_count": 27,
   "id": "cf8dc689",
   "metadata": {
    "execution": {
     "iopub.execute_input": "2022-03-22T19:59:28.581026Z",
     "iopub.status.busy": "2022-03-22T19:59:28.580508Z",
     "iopub.status.idle": "2022-03-22T19:59:28.832362Z",
     "shell.execute_reply": "2022-03-22T19:59:28.833038Z"
    },
    "papermill": {
     "duration": 0.361473,
     "end_time": "2022-03-22T19:59:28.833226",
     "exception": false,
     "start_time": "2022-03-22T19:59:28.471753",
     "status": "completed"
    },
    "tags": []
   },
   "outputs": [
    {
     "data": {
      "text/plain": [
       "<AxesSubplot:title={'center':'Per Domain Validation Accuracy'}, xlabel='domain'>"
      ]
     },
     "execution_count": 27,
     "metadata": {},
     "output_type": "execute_result"
    },
    {
     "data": {
      "image/png": "[encoded data removed]",
      "text/plain": [
       "<Figure size 1080x504 with 1 Axes>"
      ]
     },
     "metadata": {
      "needs_background": "light"
     },
     "output_type": "display_data"
    }
   ],
   "source": [
    "get_domain_accuracies(experiment)"
   ]
  },
  {
   "cell_type": "code",
   "execution_count": 28,
   "id": "a74ae082",
   "metadata": {
    "execution": {
     "iopub.execute_input": "2022-03-22T19:59:29.059756Z",
     "iopub.status.busy": "2022-03-22T19:59:29.059363Z",
     "iopub.status.idle": "2022-03-22T19:59:29.084832Z",
     "shell.execute_reply": "2022-03-22T19:59:29.084122Z"
    },
    "papermill": {
     "duration": 0.137405,
     "end_time": "2022-03-22T19:59:29.084986",
     "exception": false,
     "start_time": "2022-03-22T19:59:28.947581",
     "status": "completed"
    },
    "tags": []
   },
   "outputs": [
    {
     "name": "stdout",
     "output_type": "stream",
     "text": [
      "Source Test Label Accuracy: 0.8168294270833333 Target Test Label Accuracy: 0.8652928276573787\n",
      "Source Val Label Accuracy: 0.8186197916666667 Target Val Label Accuracy: 0.8666909427966102\n"
     ]
    }
   ],
   "source": [
    "print(\"Source Test Label Accuracy:\", experiment[\"results\"][\"source_test_label_accuracy\"], \"Target Test Label Accuracy:\", experiment[\"results\"][\"target_test_label_accuracy\"])\n",
    "print(\"Source Val Label Accuracy:\", experiment[\"results\"][\"source_val_label_accuracy\"], \"Target Val Label Accuracy:\", experiment[\"results\"][\"target_val_label_accuracy\"])"
   ]
  },
  {
   "cell_type": "code",
   "execution_count": 29,
   "id": "dacca602",
   "metadata": {
    "execution": {
     "iopub.execute_input": "2022-03-22T19:59:29.309278Z",
     "iopub.status.busy": "2022-03-22T19:59:29.308580Z",
     "iopub.status.idle": "2022-03-22T19:59:29.335108Z",
     "shell.execute_reply": "2022-03-22T19:59:29.335840Z"
    },
    "papermill": {
     "duration": 0.136138,
     "end_time": "2022-03-22T19:59:29.336023",
     "exception": false,
     "start_time": "2022-03-22T19:59:29.199885",
     "status": "completed"
    },
    "tags": [
     "experiment_json"
    ]
   },
   "outputs": [
    {
     "data": {
      "text/plain": [
       "'{\"experiment_name\": \"tl_1v2:wisig-oracle.run1.limited\", \"parameters\": {\"experiment_name\": \"tl_1v2:wisig-oracle.run1.limited\", \"device\": \"cuda\", \"lr\": 0.0001, \"n_shot\": 3, \"n_query\": 2, \"train_k_factor\": 3, \"val_k_factor\": 2, \"test_k_factor\": 2, \"torch_default_dtype\": \"torch.float32\", \"n_epoch\": 50, \"patience\": 3, \"criteria_for_best\": \"target_accuracy\", \"x_net\": [{\"class\": \"nnReshape\", \"kargs\": {\"shape\": [-1, 1, 2, 256]}}, {\"class\": \"Conv2d\", \"kargs\": {\"in_channels\": 1, \"out_channels\": 256, \"kernel_size\": [1, 7], \"bias\": false, \"padding\": [0, 3]}}, {\"class\": \"ReLU\", \"kargs\": {\"inplace\": true}}, {\"class\": \"BatchNorm2d\", \"kargs\": {\"num_features\": 256}}, {\"class\": \"Conv2d\", \"kargs\": {\"in_channels\": 256, \"out_channels\": 80, \"kernel_size\": [2, 7], \"bias\": true, \"padding\": [0, 3]}}, {\"class\": \"ReLU\", \"kargs\": {\"inplace\": true}}, {\"class\": \"BatchNorm2d\", \"kargs\": {\"num_features\": 80}}, {\"class\": \"Flatten\", \"kargs\": {}}, {\"class\": \"Linear\", \"kargs\": {\"in_features\": 20480, \"out_features\": 256}}, {\"class\": \"ReLU\", \"kargs\": {\"inplace\": true}}, {\"class\": \"BatchNorm1d\", \"kargs\": {\"num_features\": 256}}, {\"class\": \"Linear\", \"kargs\": {\"in_features\": 256, \"out_features\": 256}}], \"NUM_LOGS_PER_EPOCH\": 10, \"BEST_MODEL_PATH\": \"./best_model.pth\", \"n_way\": 16, \"datasets\": [{\"labels\": [\"1-10\", \"1-12\", \"1-14\", \"1-16\", \"1-18\", \"1-19\", \"1-8\", \"10-11\", \"10-17\", \"10-4\", \"10-7\", \"11-1\", \"11-10\", \"11-19\", \"11-20\", \"11-4\", \"11-7\", \"12-19\", \"12-20\", \"12-7\", \"13-14\", \"13-18\", \"13-19\", \"13-20\", \"13-3\", \"13-7\", \"14-10\", \"14-11\", \"14-12\", \"14-13\", \"14-14\", \"14-19\", \"14-20\", \"14-7\", \"14-8\", \"14-9\", \"15-1\", \"15-19\", \"15-6\", \"16-1\", \"16-16\", \"16-19\", \"16-20\", \"17-10\", \"17-11\", \"18-1\", \"18-10\", \"18-11\", \"18-12\", \"18-13\", \"18-14\", \"18-15\", \"18-16\", \"18-17\", \"18-19\", \"18-2\", \"18-20\", \"18-4\", \"18-5\", \"18-7\", \"18-8\", \"18-9\", \"19-1\", \"19-10\", \"19-11\", \"19-12\", \"19-13\", \"19-14\", \"19-15\", \"19-19\", \"19-2\", \"19-20\", \"19-3\", \"19-4\", \"19-6\", \"19-7\", \"19-8\", \"19-9\", \"2-1\", \"2-13\", \"2-15\", \"2-3\", \"2-4\", \"2-5\", \"2-6\", \"2-7\", \"2-8\", \"20-1\", \"20-12\", \"20-14\", \"20-15\", \"20-16\", \"20-18\", \"20-19\", \"20-20\", \"20-3\", \"20-4\", \"20-5\", \"20-7\", \"20-8\", \"3-1\", \"3-13\", \"3-18\", \"3-2\", \"3-8\", \"4-1\", \"4-10\", \"4-11\", \"5-1\", \"5-5\", \"6-1\", \"6-15\", \"6-6\", \"7-10\", \"7-11\", \"7-12\", \"7-13\", \"7-14\", \"7-7\", \"7-8\", \"7-9\", \"8-1\", \"8-13\", \"8-14\", \"8-18\", \"8-20\", \"8-3\", \"8-8\", \"9-1\", \"9-7\"], \"domains\": [1, 2, 3, 4], \"num_examples_per_domain_per_label\": -1, \"pickle_path\": \"/root/csc500-main/datasets/wisig.node3-19.stratified_ds.2022A.pkl\", \"source_or_target_dataset\": \"target\", \"x_transforms\": [], \"episode_transforms\": [], \"domain_prefix\": \"Wisig_\"}, {\"labels\": [\"3123D52\", \"3123D65\", \"3123D79\", \"3123D80\", \"3123D54\", \"3123D70\", \"3123D7B\", \"3123D89\", \"3123D58\", \"3123D76\", \"3123D7D\", \"3123EFE\", \"3123D64\", \"3123D78\", \"3123D7E\", \"3124E4A\"], \"domains\": [32, 38, 8, 44, 14, 50, 20, 26], \"num_examples_per_domain_per_label\": 2000, \"pickle_path\": \"/root/csc500-main/datasets/oracle.Run1_10kExamples_stratified_ds.2022A.pkl\", \"source_or_target_dataset\": \"source\", \"x_transforms\": [], \"episode_transforms\": [], \"domain_prefix\": \"ORACLE.run1\"}], \"dataset_seed\": 1337, \"seed\": 1337, \"x_shape\": [2, 256], \"domains_source\": [\"ORACLE.run132\", \"ORACLE.run138\", \"ORACLE.run18\", \"ORACLE.run144\", \"ORACLE.run114\", \"ORACLE.run150\", \"ORACLE.run120\", \"ORACLE.run126\"], \"domains_target\": [\"Wisig_1\", \"Wisig_2\", \"Wisig_3\", \"Wisig_4\"]}, \"results\": {\"source_test_label_accuracy\": 0.8168294270833333, \"source_test_label_loss\": 0.669323205947876, \"target_test_label_accuracy\": 0.8652928276573787, \"target_test_label_loss\": 157.38519287109375, \"source_val_label_accuracy\": 0.8186197916666667, \"source_val_label_loss\": 0.6790071725845337, \"target_val_label_accuracy\": 0.8666909427966102, \"target_val_label_loss\": 160.550537109375, \"total_epochs_trained\": 26, \"total_experiment_time_secs\": 5289.50440788269, \"confusion\": {\"ORACLE.run114\": {\"15\": {\"15\": 240}, \"3\": {\"3\": 213, \"2\": 7, \"6\": 2, \"14\": 13, \"0\": 3, \"5\": 2}, \"6\": {\"13\": 58, \"6\": 143, \"14\": 24, \"2\": 13, \"5\": 1, \"3\": 1}, \"1\": {\"1\": 240}, \"8\": {\"8\": 240}, \"10\": {\"10\": 239, \"4\": 1}, \"9\": {\"9\": 240}, \"13\": {\"14\": 45, \"6\": 81, \"13\": 79, \"15\": 13, \"3\": 4, \"2\": 18}, \"12\": {\"12\": 240}, \"5\": {\"5\": 202, \"2\": 13, \"6\": 1, \"7\": 10, \"4\": 12, \"3\": 1, \"14\": 1}, \"0\": {\"0\": 222, \"3\": 12, \"10\": 4, \"8\": 1, \"14\": 1}, \"2\": {\"5\": 39, \"2\": 96, \"13\": 17, \"4\": 22, \"3\": 10, \"14\": 35, \"6\": 20, \"7\": 1}, \"11\": {\"11\": 240}, \"14\": {\"13\": 33, \"14\": 156, \"2\": 16, \"3\": 18, \"6\": 15, \"0\": 1, \"5\": 1}, \"7\": {\"7\": 237, \"5\": 3}, \"4\": {\"4\": 227, \"5\": 7, \"2\": 6}}, \"ORACLE.run120\": {\"3\": {\"8\": 21, \"0\": 4, \"3\": 148, \"5\": 27, \"9\": 33, \"1\": 6, \"7\": 1}, \"15\": {\"15\": 166, \"2\": 6, \"13\": 7, \"12\": 39, \"1\": 18, \"9\": 3, \"5\": 1}, \"8\": {\"8\": 186, \"14\": 35, \"3\": 18, \"0\": 1}, \"4\": {\"4\": 190, \"12\": 21, \"2\": 10, \"10\": 7, \"6\": 2, \"7\": 8, \"9\": 1, \"13\": 1}, \"14\": {\"14\": 222, \"8\": 16, \"3\": 2}, \"0\": {\"0\": 226, \"3\": 6, \"8\": 3, \"5\": 4, \"1\": 1}, \"7\": {\"7\": 168, \"2\": 27, \"4\": 3, \"9\": 29, \"6\": 12, \"14\": 1}, \"6\": {\"6\": 223, \"7\": 16, \"2\": 1}, \"10\": {\"10\": 238, \"4\": 2}, \"5\": {\"1\": 56, \"3\": 39, \"5\": 134, \"9\": 9, \"0\": 1, \"8\": 1}, \"2\": {\"4\": 8, \"2\": 136, \"13\": 11, \"12\": 42, \"9\": 12, \"7\": 25, \"1\": 2, \"15\": 4}, \"12\": {\"12\": 128, \"4\": 15, \"2\": 63, \"15\": 23, \"13\": 7, \"1\": 1, \"9\": 2, \"7\": 1}, \"9\": {\"9\": 148, \"3\": 31, \"2\": 5, \"1\": 24, \"7\": 17, \"5\": 11, \"15\": 2, \"4\": 1, \"12\": 1}, \"1\": {\"2\": 1, \"1\": 139, \"15\": 14, \"5\": 59, \"3\": 9, \"9\": 16, \"7\": 1, \"12\": 1}, \"11\": {\"11\": 240}, \"13\": {\"13\": 221, \"15\": 4, \"12\": 10, \"2\": 5}}, \"ORACLE.run138\": {\"5\": {\"5\": 117, \"8\": 85, \"7\": 25, \"15\": 6, \"9\": 7}, \"8\": {\"8\": 120, \"5\": 82, \"7\": 27, \"9\": 1, \"15\": 5, \"0\": 2, \"13\": 3}, \"11\": {\"11\": 240}, \"1\": {\"1\": 240}, \"10\": {\"10\": 216, \"0\": 7, \"13\": 16, \"4\": 1}, \"15\": {\"15\": 227, \"1\": 5, \"8\": 6, \"5\": 2}, \"3\": {\"3\": 240}, \"7\": {\"7\": 229, \"0\": 6, \"5\": 1, \"8\": 3, \"9\": 1}, \"4\": {\"4\": 238, \"10\": 1, \"0\": 1}, \"14\": {\"14\": 222, \"2\": 18}, \"9\": {\"9\": 236, \"5\": 4}, \"12\": {\"12\": 239, \"8\": 1}, \"6\": {\"6\": 240}, \"2\": {\"2\": 215, \"14\": 24, \"13\": 1}, \"0\": {\"0\": 166, \"10\": 31, \"3\": 16, \"7\": 22, \"13\": 5}, \"13\": {\"13\": 225, \"10\": 13, \"0\": 1, \"2\": 1}}, \"ORACLE.run18\": {\"9\": {\"9\": 240}, \"10\": {\"5\": 21, \"10\": 133, \"1\": 20, \"13\": 59, \"6\": 5, \"4\": 1, \"11\": 1}, \"13\": {\"7\": 14, \"10\": 25, \"13\": 195, \"1\": 1, \"6\": 5}, \"0\": {\"0\": 240}, \"1\": {\"11\": 54, \"1\": 134, \"5\": 14, \"10\": 26, \"6\": 2, \"4\": 3, \"13\": 6, \"7\": 1}, \"15\": {\"15\": 206, \"12\": 26, \"2\": 8}, \"5\": {\"10\": 47, \"5\": 162, \"1\": 20, \"11\": 5, \"4\": 2, \"13\": 3, \"14\": 1}, \"3\": {\"3\": 237, \"2\": 3}, \"6\": {\"6\": 160, \"7\": 57, \"11\": 2, \"4\": 6, \"13\": 4, \"10\": 7, \"8\": 2, \"1\": 2}, \"11\": {\"1\": 81, \"11\": 104, \"14\": 17, \"6\": 6, \"4\": 12, \"8\": 6, \"10\": 7, \"5\": 7}, \"8\": {\"7\": 3, \"8\": 226, \"6\": 7, \"4\": 2, \"14\": 1, \"11\": 1}, \"4\": {\"4\": 200, \"11\": 14, \"14\": 12, \"6\": 7, \"8\": 4, \"1\": 1, \"10\": 2}, \"12\": {\"12\": 167, \"15\": 71, \"2\": 2}, \"14\": {\"14\": 201, \"4\": 33, \"11\": 4, \"5\": 1, \"8\": 1}, \"2\": {\"2\": 182, \"12\": 14, \"3\": 30, \"15\": 14}, \"7\": {\"7\": 190, \"13\": 6, \"6\": 41, \"11\": 2, \"1\": 1}}, \"ORACLE.run150\": {\"7\": {\"7\": 224, \"5\": 10, \"4\": 6}, \"3\": {\"3\": 240}, \"8\": {\"8\": 231, \"10\": 9}, \"2\": {\"2\": 218, \"0\": 22}, \"14\": {\"14\": 240}, \"4\": {\"4\": 196, \"6\": 3, \"7\": 21, \"15\": 10, \"5\": 10}, \"6\": {\"6\": 203, \"5\": 25, \"15\": 12}, \"15\": {\"15\": 233, \"6\": 7}, \"10\": {\"10\": 238, \"8\": 1, \"0\": 1}, \"11\": {\"11\": 225, \"15\": 5, \"9\": 7, \"12\": 3}, \"13\": {\"13\": 240}, \"9\": {\"9\": 212, \"12\": 16, \"11\": 12}, \"0\": {\"0\": 223, \"2\": 15, \"10\": 2}, \"1\": {\"1\": 235, \"13\": 4, \"11\": 1}, \"12\": {\"12\": 221, \"11\": 9, \"9\": 10}, \"5\": {\"6\": 60, \"5\": 97, \"13\": 8, \"7\": 61, \"4\": 10, \"1\": 2, \"15\": 2}}, \"ORACLE.run132\": {\"8\": {\"8\": 179, \"0\": 26, \"5\": 24, \"7\": 2, \"4\": 5, \"14\": 4}, \"14\": {\"14\": 133, \"7\": 68, \"0\": 9, \"5\": 13, \"2\": 6, \"3\": 1, \"8\": 7, \"4\": 3}, \"2\": {\"2\": 204, \"4\": 35, \"14\": 1}, \"0\": {\"7\": 30, \"0\": 171, \"8\": 24, \"5\": 12, \"14\": 3}, \"1\": {\"1\": 240}, \"10\": {\"10\": 240}, \"11\": {\"11\": 238, \"13\": 2}, \"5\": {\"5\": 135, \"7\": 43, \"0\": 31, \"8\": 26, \"14\": 5}, \"15\": {\"15\": 237, \"8\": 3}, \"3\": {\"3\": 228, \"13\": 12}, \"12\": {\"12\": 240}, \"7\": {\"7\": 145, \"5\": 35, \"14\": 34, \"0\": 23, \"8\": 3}, \"13\": {\"13\": 167, \"11\": 6, \"3\": 36, \"4\": 31}, \"6\": {\"6\": 240}, \"4\": {\"4\": 191, \"2\": 39, \"8\": 3, \"13\": 6, \"14\": 1}, \"9\": {\"9\": 235, \"12\": 4, \"2\": 1}}, \"ORACLE.run126\": {\"4\": {\"4\": 226, \"3\": 9, \"13\": 1, \"7\": 3, \"9\": 1}, \"12\": {\"12\": 240}, \"10\": {\"15\": 14, \"14\": 35, \"10\": 139, \"6\": 22, \"0\": 28, \"8\": 1, \"5\": 1}, \"0\": {\"10\": 56, \"0\": 133, \"14\": 28, \"2\": 2, \"15\": 8, \"8\": 8, \"7\": 2, \"6\": 1, \"9\": 1, \"1\": 1}, \"13\": {\"13\": 195, \"2\": 7, \"9\": 21, \"3\": 8, \"7\": 4, \"4\": 3, \"8\": 2}, \"9\": {\"9\": 147, \"0\": 3, \"8\": 64, \"13\": 14, \"2\": 7, \"7\": 4, \"3\": 1}, \"3\": {\"3\": 193, \"2\": 13, \"7\": 30, \"4\": 2, \"9\": 1, \"8\": 1}, \"2\": {\"2\": 125, \"8\": 31, \"7\": 40, \"9\": 16, \"3\": 23, \"0\": 2, \"13\": 2, \"15\": 1}, \"5\": {\"5\": 169, \"6\": 17, \"15\": 54}, \"14\": {\"14\": 157, \"1\": 18, \"10\": 37, \"15\": 4, \"0\": 21, \"6\": 3}, \"8\": {\"9\": 40, \"8\": 140, \"7\": 38, \"2\": 10, \"4\": 1, \"14\": 1, \"0\": 8, \"3\": 2}, \"7\": {\"7\": 137, \"8\": 32, \"2\": 37, \"3\": 26, \"9\": 8}, \"6\": {\"6\": 183, \"10\": 19, \"14\": 4, \"15\": 22, \"5\": 10, \"0\": 1, \"1\": 1}, \"11\": {\"11\": 240}, \"15\": {\"15\": 115, \"5\": 77, \"6\": 34, \"0\": 2, \"10\": 10, \"2\": 1, \"14\": 1}, \"1\": {\"1\": 174, \"14\": 45, \"10\": 13, \"15\": 3, \"0\": 1, \"6\": 3, \"5\": 1}}, \"ORACLE.run144\": {\"12\": {\"12\": 232, \"3\": 8}, \"7\": {\"7\": 209, \"9\": 28, \"10\": 3}, \"5\": {\"5\": 214, \"14\": 11, \"15\": 10, \"8\": 4, \"4\": 1}, \"15\": {\"15\": 201, \"14\": 15, \"4\": 2, \"5\": 11, \"0\": 3, \"8\": 8}, \"8\": {\"8\": 167, \"0\": 58, \"5\": 11, \"15\": 4}, \"2\": {\"2\": 227, \"1\": 10, \"10\": 3}, \"13\": {\"13\": 192, \"6\": 44, \"9\": 3, \"11\": 1}, \"4\": {\"14\": 74, \"4\": 161, \"13\": 1, \"15\": 1, \"9\": 1, \"5\": 2}, \"0\": {\"0\": 194, \"15\": 4, \"8\": 42}, \"6\": {\"6\": 202, \"13\": 15, \"9\": 20, \"7\": 3}, \"9\": {\"13\": 24, \"9\": 96, \"6\": 41, \"7\": 77, \"2\": 2}, \"11\": {\"11\": 240}, \"10\": {\"1\": 10, \"10\": 221, \"2\": 5, \"7\": 4}, \"14\": {\"15\": 11, \"14\": 165, \"4\": 60, \"5\": 4}, \"1\": {\"1\": 228, \"2\": 11, \"10\": 1}, \"3\": {\"3\": 233, \"12\": 7}}, \"Wisig_3\": {\"109\": {\"109\": 124, \"11\": 3, \"108\": 1}, \"127\": {\"127\": 123, \"110\": 1, \"69\": 1, \"71\": 1, \"105\": 2}, \"14\": {\"14\": 76, \"122\": 1, \"40\": 2, \"18\": 1}, \"7\": {\"7\": 105, \"106\": 2, \"12\": 2, \"88\": 1, \"0\": 2}, \"129\": {\"129\": 26, \"5\": 3, \"91\": 1, \"77\": 2}, \"57\": {\"57\": 17, \"34\": 1, \"100\": 1, \"129\": 1}, \"84\": {\"14\": 2, \"84\": 93, \"26\": 3, \"62\": 6, \"16\": 1, \"113\": 1, \"110\": 1, \"88\": 1}, \"114\": {\"114\": 116, \"90\": 1, \"1\": 2, \"105\": 3, \"64\": 1, \"113\": 1}, \"44\": {\"44\": 71, \"76\": 1}, \"21\": {\"21\": 40, \"126\": 2, \"39\": 2, \"129\": 1, \"108\": 2, \"127\": 1}, \"46\": {\"46\": 13, \"107\": 1, \"74\": 1, \"66\": 1}, \"100\": {\"100\": 12, \"107\": 2, \"28\": 1, \"32\": 1}, \"63\": {\"63\": 15, \"82\": 1}, \"24\": {\"24\": 40, \"27\": 4, \"10\": 3, \"36\": 1}, \"107\": {\"107\": 114, \"90\": 1, \"99\": 2, \"114\": 1}, \"35\": {\"114\": 2, \"35\": 9, \"27\": 1}, \"81\": {\"81\": 28, \"61\": 1, \"18\": 1, \"121\": 2}, \"64\": {\"64\": 17, \"2\": 1, \"121\": 1, \"13\": 1}, \"59\": {\"59\": 12}, \"33\": {\"33\": 109, \"117\": 1, \"18\": 3, \"90\": 1}, \"34\": {\"34\": 12, \"58\": 2, \"83\": 2, \"40\": 2, \"3\": 1, \"44\": 2, \"19\": 1, \"105\": 1, \"100\": 1, \"53\": 1, \"32\": 2, \"56\": 1, \"99\": 1, \"72\": 1, \"9\": 2}, \"36\": {\"36\": 114, \"125\": 1, \"30\": 4, \"111\": 1}, \"79\": {\"79\": 11, \"48\": 1}, \"80\": {\"80\": 16}, \"77\": {\"77\": 13, \"109\": 1, \"5\": 2}, \"22\": {\"22\": 13, \"116\": 3}, \"124\": {\"124\": 120, \"111\": 1, \"98\": 1, \"86\": 1, \"32\": 1}, \"2\": {\"2\": 23, \"102\": 1, \"117\": 4}, \"87\": {\"87\": 104, \"122\": 2, \"118\": 2, \"11\": 2, \"27\": 1, \"110\": 1}, \"105\": {\"105\": 105, \"3\": 8, \"114\": 5, \"107\": 2, \"40\": 1, \"1\": 1}, \"95\": {\"95\": 31, \"72\": 1}, \"43\": {\"43\": 51, \"70\": 1, \"88\": 1, \"78\": 1, \"109\": 2}, \"56\": {\"56\": 12}, \"18\": {\"18\": 118, \"26\": 2, \"99\": 1, \"21\": 1, \"16\": 1, \"11\": 1}, \"85\": {\"85\": 27, \"128\": 1, \"42\": 1, \"52\": 1, \"34\": 2, \"112\": 1, \"56\": 1, \"73\": 2}, \"113\": {\"113\": 115, \"108\": 2, \"43\": 2, \"109\": 1}, \"97\": {\"97\": 14, \"15\": 4, \"27\": 1, \"39\": 1}, \"86\": {\"59\": 2, \"86\": 20, \"108\": 1, \"48\": 2, \"37\": 1, \"111\": 1, \"127\": 1}, \"128\": {\"128\": 22, \"56\": 1, \"92\": 1, \"52\": 1, \"28\": 1, \"38\": 1, \"32\": 2, \"57\": 1, \"124\": 1, \"76\": 1}, \"123\": {\"123\": 13, \"67\": 2, \"63\": 1}, \"8\": {\"8\": 124, \"0\": 4, \"15\": 2}, \"110\": {\"110\": 69, \"88\": 1, \"118\": 8, \"78\": 1, \"44\": 1, \"111\": 1, \"42\": 1, \"122\": 2, \"87\": 2, \"39\": 1, \"8\": 2, \"126\": 1}, \"126\": {\"126\": 100, \"111\": 1, \"88\": 1, \"109\": 1, \"39\": 1}, \"42\": {\"42\": 21, \"50\": 1, \"58\": 2, \"115\": 3, \"5\": 1}, \"96\": {\"96\": 17, \"26\": 1, \"113\": 1, \"93\": 1}, \"83\": {\"114\": 2, \"83\": 16, \"51\": 2, \"34\": 1, \"112\": 2, \"12\": 1}, \"54\": {\"54\": 16}, \"65\": {\"68\": 1, \"121\": 1, \"103\": 2, \"65\": 4, \"55\": 2, \"112\": 1, \"64\": 1}, \"30\": {\"30\": 73, \"0\": 3, \"125\": 1, \"126\": 2, \"15\": 1, \"109\": 2, \"10\": 1, \"27\": 1}, \"121\": {\"121\": 25, \"11\": 3, \"90\": 1, \"21\": 1, \"81\": 1, \"109\": 1}, \"68\": {\"42\": 2, \"68\": 13, \"51\": 1}, \"45\": {\"65\": 2, \"119\": 1, \"45\": 12, \"66\": 1}, \"48\": {\"48\": 13, \"59\": 1, \"86\": 1, \"79\": 1}, \"4\": {\"4\": 92, \"125\": 2, \"39\": 1, \"87\": 1}, \"67\": {\"67\": 14, \"123\": 1, \"92\": 1}, \"103\": {\"103\": 11, \"86\": 1, \"50\": 2, \"5\": 1, \"53\": 1}, \"74\": {\"74\": 15, \"20\": 1}, \"1\": {\"1\": 103, \"40\": 3, \"27\": 2}, \"61\": {\"61\": 16}, \"101\": {\"101\": 42, \"8\": 1, \"71\": 1, \"12\": 3, \"109\": 1, \"118\": 1, \"94\": 1, \"7\": 2}, \"93\": {\"93\": 129, \"60\": 2, \"26\": 1, \"62\": 1, \"113\": 2, \"16\": 3}, \"26\": {\"26\": 130}, \"71\": {\"1\": 2, \"71\": 46, \"62\": 1, \"3\": 9, \"113\": 1, \"127\": 7, \"18\": 1, \"110\": 1}, \"15\": {\"15\": 101, \"126\": 1, \"8\": 1, \"113\": 1}, \"55\": {\"55\": 12, \"28\": 1, \"66\": 1, \"103\": 2}, \"104\": {\"104\": 10, \"5\": 3, \"48\": 1, \"86\": 1, \"41\": 1}, \"112\": {\"46\": 1, \"112\": 9, \"57\": 1, \"85\": 1, \"42\": 1, \"5\": 1, \"27\": 1, \"98\": 1}, \"102\": {\"102\": 122}, \"117\": {\"117\": 111, \"2\": 1}, \"119\": {\"119\": 9, \"79\": 1, \"45\": 2, \"102\": 1, \"64\": 2, \"129\": 1}, \"20\": {\"53\": 2, \"20\": 8, \"125\": 1, \"1\": 1, \"114\": 1, \"128\": 1, \"32\": 2}, \"120\": {\"64\": 1, \"120\": 12, \"119\": 1, \"76\": 1, \"81\": 2, \"104\": 1, \"82\": 1, \"107\": 1}, \"39\": {\"39\": 102, \"70\": 1, \"126\": 5}, \"49\": {\"49\": 15, \"8\": 3, \"122\": 1, \"110\": 1, \"93\": 1, \"14\": 1, \"62\": 1, \"12\": 1}, \"53\": {\"20\": 2, \"105\": 2, \"114\": 2, \"53\": 11, \"32\": 1, \"31\": 2}, \"92\": {\"92\": 27, \"39\": 1, \"38\": 2, \"31\": 2}, \"3\": {\"3\": 101, \"1\": 3, \"40\": 1, \"71\": 3, \"105\": 4, \"114\": 4}, \"47\": {\"47\": 12}, \"115\": {\"115\": 16}, \"58\": {\"58\": 12, \"112\": 1, \"49\": 1, \"34\": 1, \"25\": 1}, \"29\": {\"29\": 32}, \"12\": {\"12\": 104}, \"62\": {\"62\": 103, \"26\": 2, \"102\": 1, \"16\": 3, \"84\": 6, \"93\": 2, \"108\": 1}, \"11\": {\"11\": 136, \"43\": 2, \"10\": 1, \"16\": 1}, \"72\": {\"72\": 22, \"113\": 2, \"75\": 2, \"83\": 2}, \"98\": {\"98\": 104, \"34\": 2}, \"122\": {\"122\": 52, \"108\": 2, \"110\": 3, \"39\": 1, \"82\": 1, \"113\": 1}, \"17\": {\"11\": 1, \"80\": 1, \"110\": 1, \"17\": 3, \"118\": 2, \"63\": 1, \"126\": 1, \"86\": 1, \"68\": 1, \"104\": 1, \"22\": 2, \"119\": 1}, \"94\": {\"94\": 79, \"15\": 2, \"8\": 2, \"0\": 1}, \"106\": {\"106\": 82, \"126\": 1, \"94\": 6, \"88\": 1}, \"28\": {\"55\": 1, \"28\": 12, \"128\": 2, \"50\": 1}, \"69\": {\"69\": 68, \"88\": 1, \"92\": 2, \"109\": 1, \"14\": 4, \"1\": 2, \"33\": 2, \"87\": 1, \"27\": 1, \"70\": 1, \"11\": 1}, \"125\": {\"125\": 111, \"98\": 1, \"5\": 1, \"117\": 1}, \"19\": {\"19\": 14, \"66\": 1, \"52\": 2, \"112\": 1, \"85\": 5, \"128\": 3, \"110\": 1, \"32\": 1, \"100\": 1, \"89\": 2, \"107\": 1}, \"41\": {\"41\": 9, \"19\": 1, \"128\": 1, \"42\": 2, \"98\": 1, \"124\": 1, \"20\": 1}, \"60\": {\"60\": 27, \"93\": 1}, \"70\": {\"70\": 55, \"88\": 10, \"109\": 1, \"10\": 1, \"78\": 2, \"11\": 2, \"126\": 1}, \"27\": {\"27\": 79, \"36\": 2, \"108\": 3, \"24\": 4, \"10\": 4, \"30\": 3, \"6\": 1}, \"10\": {\"10\": 101, \"108\": 9, \"39\": 1, \"11\": 4, \"24\": 1, \"113\": 1, \"27\": 1}, \"108\": {\"108\": 123, \"10\": 11, \"39\": 1, \"109\": 2, \"27\": 2, \"126\": 1}, \"9\": {\"20\": 1, \"9\": 28, \"34\": 3}, \"25\": {\"25\": 13, \"66\": 2, \"39\": 1}, \"37\": {\"37\": 13, \"73\": 1, \"77\": 1, \"42\": 1}, \"0\": {\"0\": 116}, \"66\": {\"66\": 7, \"128\": 3, \"85\": 1, \"91\": 1, \"77\": 1, \"46\": 1, \"45\": 1, \"76\": 1}, \"51\": {\"51\": 11, \"127\": 3, \"99\": 1, \"54\": 1}, \"76\": {\"76\": 15, \"120\": 1}, \"32\": {\"32\": 25, \"64\": 1, \"38\": 1, \"107\": 1, \"28\": 3, \"55\": 1}, \"88\": {\"88\": 110, \"70\": 2}, \"31\": {\"31\": 16, \"44\": 2, \"29\": 1, \"50\": 1}, \"91\": {\"91\": 17, \"42\": 1, \"85\": 1, \"73\": 1, \"52\": 3, \"103\": 1}, \"90\": {\"90\": 126}, \"13\": {\"13\": 7, \"102\": 3, \"126\": 1, \"116\": 2, \"119\": 1, \"79\": 1, \"118\": 1}, \"50\": {\"50\": 11, \"48\": 1, \"82\": 1, \"19\": 1, \"100\": 1, \"22\": 1}, \"78\": {\"78\": 14, \"70\": 2}, \"116\": {\"116\": 21, \"120\": 3, \"13\": 1, \"2\": 2, \"117\": 1}, \"5\": {\"5\": 107, \"39\": 1, \"42\": 1, \"95\": 1, \"111\": 1, \"43\": 1}, \"75\": {\"75\": 16}, \"89\": {\"38\": 1, \"89\": 20, \"90\": 1, \"120\": 1, \"76\": 1, \"82\": 2, \"92\": 1, \"29\": 1}, \"16\": {\"16\": 105, \"23\": 4, \"39\": 1, \"93\": 3, \"27\": 1, \"26\": 2}, \"38\": {\"19\": 2, \"38\": 11, \"53\": 2, \"45\": 1}, \"118\": {\"118\": 95, \"24\": 1, \"11\": 1, \"122\": 1, \"113\": 1, \"126\": 1}, \"99\": {\"32\": 1, \"99\": 25, \"3\": 3, \"106\": 1, \"47\": 1, \"100\": 1, \"114\": 3, \"40\": 1}, \"52\": {\"52\": 9, \"9\": 2, \"128\": 1, \"46\": 1, \"85\": 1, \"91\": 2}, \"111\": {\"111\": 120, \"124\": 4, \"5\": 4}, \"23\": {\"93\": 3, \"12\": 1, \"23\": 6, \"18\": 2, \"8\": 2, \"113\": 2, \"0\": 5, \"26\": 3, \"15\": 2, \"110\": 1, \"30\": 2, \"122\": 2, \"11\": 1}, \"73\": {\"73\": 31, \"9\": 3, \"98\": 2, \"6\": 1, \"34\": 1, \"85\": 1, \"71\": 1}, \"82\": {\"82\": 22, \"29\": 1, \"39\": 1, \"90\": 3, \"122\": 1}, \"40\": {\"40\": 93, \"14\": 4, \"114\": 4, \"107\": 5, \"84\": 1, \"1\": 10, \"88\": 2, \"62\": 2, \"69\": 2, \"44\": 1, \"33\": 1, \"105\": 2, \"71\": 1}, \"6\": {\"6\": 28, \"111\": 3, \"5\": 1}}, \"Wisig_4\": {\"28\": {\"45\": 1, \"28\": 15, \"19\": 2, \"100\": 2}, \"4\": {\"4\": 97, \"10\": 1, \"27\": 1, \"86\": 2, \"24\": 1, \"125\": 2}, \"72\": {\"14\": 2, \"72\": 21, \"103\": 1, \"16\": 2, \"3\": 4, \"45\": 1, \"99\": 1}, \"111\": {\"111\": 128, \"24\": 1, \"124\": 2, \"105\": 2, \"126\": 1, \"0\": 1, \"10\": 1}, \"108\": {\"108\": 66, \"109\": 10, \"122\": 1, \"94\": 1, \"27\": 1, \"98\": 1, \"126\": 1, \"70\": 7, \"39\": 1, \"43\": 2, \"101\": 1}, \"43\": {\"43\": 110, \"108\": 2, \"122\": 2, \"109\": 4, \"113\": 1, \"127\": 1}, \"96\": {\"11\": 1, \"96\": 12, \"14\": 3, \"93\": 1, \"118\": 3}, \"89\": {\"89\": 24, \"85\": 2, \"88\": 1, \"98\": 2, \"27\": 1, \"33\": 1, \"32\": 1}, \"31\": {\"90\": 4, \"31\": 8, \"83\": 1, \"121\": 1, \"48\": 1, \"74\": 1}, \"45\": {\"28\": 2, \"45\": 8, \"64\": 2, \"82\": 1, \"120\": 1, \"92\": 1, \"32\": 1}, \"2\": {\"2\": 28}, \"114\": {\"114\": 109, \"108\": 1, \"95\": 2, \"107\": 4, \"1\": 3, \"52\": 2, \"5\": 1, \"44\": 1, \"88\": 1, \"40\": 4}, \"11\": {\"11\": 126, \"96\": 1, \"118\": 3, \"87\": 4, \"126\": 1, \"110\": 1}, \"12\": {\"12\": 85, \"11\": 2, \"98\": 1, \"126\": 1, \"106\": 5, \"22\": 1, \"15\": 1, \"7\": 3, \"127\": 1}, \"14\": {\"14\": 101, \"109\": 1, \"105\": 2, \"3\": 3, \"7\": 1, \"71\": 1, \"1\": 2, \"84\": 1}, \"90\": {\"90\": 153, \"117\": 1}, \"10\": {\"10\": 95, \"43\": 2, \"24\": 10, \"70\": 10, \"88\": 2, \"109\": 1, \"84\": 1, \"39\": 1}, \"63\": {\"123\": 1, \"63\": 14, \"117\": 1}, \"85\": {\"85\": 23, \"100\": 2, \"95\": 1, \"78\": 1, \"98\": 1}, \"64\": {\"64\": 10, \"11\": 1, \"120\": 1, \"45\": 1, \"126\": 1, \"19\": 1, \"33\": 1}, \"82\": {\"85\": 1, \"64\": 1, \"107\": 1, \"9\": 1, \"28\": 1, \"32\": 1, \"55\": 1, \"73\": 1, \"82\": 17, \"56\": 1, \"45\": 1, \"33\": 2, \"129\": 1, \"89\": 2}, \"58\": {\"82\": 2, \"58\": 13, \"70\": 1}, \"3\": {\"3\": 109, \"118\": 1, \"40\": 4, \"21\": 2, \"114\": 4, \"49\": 1, \"105\": 8, \"71\": 2, \"34\": 2, \"88\": 1, \"1\": 1, \"27\": 1}, \"54\": {\"58\": 2, \"54\": 11, \"47\": 1, \"95\": 1, \"98\": 1}, \"121\": {\"121\": 30, \"33\": 1, \"32\": 1}, \"42\": {\"82\": 3, \"91\": 1, \"129\": 1, \"112\": 1, \"42\": 14, \"75\": 2, \"22\": 3, \"98\": 2, \"67\": 1}, \"98\": {\"98\": 108, \"85\": 2, \"92\": 1, \"44\": 1, \"126\": 1, \"112\": 2, \"19\": 1, \"25\": 1, \"89\": 2, \"121\": 1}, \"123\": {\"123\": 16}, \"91\": {\"91\": 16, \"112\": 2, \"103\": 1, \"77\": 1, \"68\": 1, \"47\": 2, \"111\": 1}, \"83\": {\"85\": 2, \"36\": 1, \"114\": 1, \"83\": 11, \"40\": 2, \"3\": 1, \"103\": 1, \"46\": 1, \"49\": 1, \"99\": 1, \"32\": 1, \"107\": 2, \"70\": 1, \"1\": 1, \"5\": 1}, \"99\": {\"7\": 2, \"3\": 4, \"69\": 2, \"1\": 1, \"99\": 18, \"44\": 1, \"72\": 1, \"49\": 2, \"14\": 3, \"5\": 1, \"40\": 2, \"105\": 2, \"89\": 1}, \"112\": {\"85\": 1, \"112\": 10, \"89\": 1, \"91\": 1, \"95\": 1, \"41\": 1, \"119\": 1}, \"119\": {\"119\": 12, \"37\": 1, \"104\": 2, \"17\": 1}, \"70\": {\"70\": 99, \"27\": 3, \"87\": 1, \"39\": 2, \"88\": 4, \"108\": 6, \"10\": 5, \"114\": 1, \"126\": 1, \"24\": 1, \"73\": 1}, \"20\": {\"99\": 2, \"5\": 2, \"20\": 10, \"36\": 1, \"92\": 1}, \"120\": {\"120\": 13, \"55\": 1, \"89\": 2, \"52\": 2, \"112\": 2}, \"7\": {\"7\": 118, \"1\": 1, \"12\": 1, \"108\": 1, \"60\": 2, \"78\": 1}, \"60\": {\"60\": 30, \"62\": 1, \"96\": 1}, \"113\": {\"113\": 114, \"110\": 1, \"118\": 1, \"24\": 2}, \"37\": {\"37\": 14, \"11\": 1, \"109\": 1}, \"124\": {\"124\": 108, \"111\": 1, \"17\": 1}, \"27\": {\"27\": 81, \"97\": 1, \"43\": 4, \"24\": 3, \"10\": 4, \"0\": 1, \"126\": 2, \"36\": 1, \"70\": 1, \"108\": 2}, \"86\": {\"86\": 28}, \"127\": {\"127\": 88, \"12\": 2, \"88\": 1, \"113\": 1, \"1\": 2, \"126\": 1, \"71\": 4, \"39\": 2, \"122\": 1, \"14\": 1, \"3\": 1, \"114\": 4}, \"62\": {\"62\": 47, \"39\": 1, \"109\": 2, \"93\": 4, \"108\": 1, \"16\": 2, \"15\": 1, \"7\": 2}, \"122\": {\"122\": 46, \"109\": 1, \"87\": 8, \"113\": 2, \"110\": 16, \"11\": 2, \"118\": 5, \"90\": 1, \"88\": 1, \"62\": 2}, \"51\": {\"127\": 2, \"85\": 1, \"30\": 1, \"21\": 1, \"99\": 1, \"53\": 2, \"51\": 2, \"128\": 1, \"97\": 1, \"62\": 1, \"95\": 1, \"34\": 1, \"39\": 1}, \"109\": {\"109\": 113, \"126\": 1}, \"106\": {\"106\": 91, \"7\": 5, \"39\": 1, \"88\": 2, \"114\": 2, \"12\": 5, \"101\": 2, \"109\": 2, \"78\": 2, \"127\": 1, \"126\": 1}, \"94\": {\"94\": 74, \"118\": 2, \"15\": 8, \"30\": 3, \"113\": 1}, \"38\": {\"38\": 15, \"33\": 1}, \"129\": {\"129\": 22, \"116\": 1, \"29\": 2, \"59\": 1, \"50\": 1, \"124\": 1}, \"116\": {\"116\": 28}, \"107\": {\"107\": 114, \"5\": 3, \"114\": 1}, \"30\": {\"101\": 1, \"30\": 66, \"36\": 5, \"39\": 1, \"10\": 1, \"27\": 1, \"126\": 1}, \"102\": {\"102\": 125, \"129\": 2, \"117\": 2, \"13\": 2, \"15\": 1}, \"74\": {\"74\": 12, \"44\": 1, \"89\": 1, \"19\": 2}, \"101\": {\"101\": 120, \"94\": 2, \"12\": 4, \"7\": 2, \"24\": 1, \"62\": 1, \"15\": 2}, \"117\": {\"117\": 115, \"126\": 1, \"10\": 1, \"24\": 1, \"90\": 3, \"102\": 1, \"63\": 2}, \"1\": {\"1\": 72, \"3\": 3, \"95\": 2, \"99\": 6, \"88\": 2, \"24\": 2, \"84\": 1, \"105\": 4, \"98\": 2, \"71\": 5, \"32\": 1, \"21\": 1, \"126\": 1, \"69\": 1, \"40\": 2, \"5\": 1, \"127\": 2}, \"84\": {\"84\": 107, \"5\": 2, \"69\": 6, \"0\": 1, \"49\": 1, \"109\": 1, \"16\": 3, \"10\": 1, \"18\": 2, \"14\": 4, \"126\": 1, \"40\": 2, \"88\": 1}, \"17\": {\"17\": 14, \"115\": 2, \"104\": 2, \"86\": 2}, \"6\": {\"6\": 23, \"91\": 1}, \"110\": {\"110\": 107, \"118\": 6, \"122\": 1, \"11\": 2, \"24\": 1, \"88\": 1, \"43\": 2, \"87\": 2, \"93\": 2}, \"77\": {\"77\": 12}, \"8\": {\"8\": 116, \"109\": 1, \"94\": 2, \"0\": 2, \"15\": 3, \"110\": 1, \"36\": 1, \"43\": 2, \"30\": 2, \"101\": 1, \"70\": 1}, \"73\": {\"57\": 2, \"40\": 2, \"73\": 10, \"124\": 1, \"48\": 1, \"10\": 1, \"92\": 2, \"6\": 1, \"120\": 1, \"46\": 1, \"45\": 2}, \"126\": {\"126\": 122, \"70\": 1, \"88\": 1}, \"57\": {\"57\": 14, \"103\": 1, \"121\": 1}, \"95\": {\"95\": 22, \"39\": 1, \"99\": 1, \"52\": 1, \"34\": 1, \"3\": 1, \"100\": 2, \"71\": 1, \"83\": 1, \"85\": 1}, \"103\": {\"103\": 9, \"91\": 2, \"47\": 1, \"25\": 2, \"124\": 1, \"17\": 1}, \"97\": {\"97\": 17, \"111\": 1, \"27\": 1, \"29\": 1}, \"39\": {\"126\": 3, \"39\": 92, \"10\": 1, \"21\": 2, \"108\": 1, \"109\": 1}, \"100\": {\"83\": 2, \"20\": 3, \"82\": 2, \"100\": 4, \"46\": 3, \"76\": 1, \"72\": 1, \"114\": 2, \"107\": 2}, \"40\": {\"40\": 94, \"3\": 8, \"1\": 3, \"109\": 1, \"5\": 2, \"99\": 1, \"33\": 1}, \"36\": {\"36\": 114, \"94\": 1, \"10\": 1, \"27\": 6, \"24\": 1, \"30\": 2, \"21\": 1}, \"19\": {\"56\": 2, \"121\": 1, \"64\": 1, \"107\": 1, \"19\": 11, \"73\": 2, \"75\": 1, \"128\": 1, \"55\": 1, \"41\": 2, \"98\": 3, \"38\": 1, \"74\": 1}, \"118\": {\"118\": 99, \"11\": 2, \"27\": 1, \"110\": 4, \"87\": 4, \"108\": 1, \"127\": 1}, \"56\": {\"56\": 9, \"41\": 2, \"86\": 1}, \"26\": {\"26\": 125, \"109\": 1}, \"5\": {\"5\": 124, \"95\": 2, \"3\": 3, \"105\": 2, \"40\": 3, \"117\": 1, \"108\": 1}, \"21\": {\"21\": 32, \"78\": 2, \"126\": 1, \"39\": 2, \"122\": 2, \"88\": 1}, \"22\": {\"22\": 15, \"36\": 1}, \"68\": {\"103\": 2, \"68\": 14}, \"9\": {\"107\": 1, \"106\": 1, \"9\": 15, \"23\": 1, \"52\": 2, \"21\": 2, \"105\": 2, \"49\": 1, \"51\": 2, \"25\": 1}, \"66\": {\"66\": 9, \"50\": 1, \"116\": 2, \"2\": 2, \"31\": 1, \"28\": 1}, \"87\": {\"87\": 118, \"110\": 2, \"0\": 1, \"11\": 2, \"109\": 1}, \"71\": {\"71\": 94, \"39\": 2, \"14\": 1, \"114\": 2, \"1\": 1, \"21\": 1, \"105\": 3}, \"115\": {\"17\": 2, \"115\": 8, \"104\": 1, \"13\": 1, \"79\": 1, \"116\": 2, \"102\": 1}, \"23\": {\"68\": 1, \"97\": 1, \"23\": 2, \"21\": 2, \"101\": 1, \"62\": 1, \"122\": 2, \"10\": 2, \"16\": 1, \"113\": 1, \"11\": 2}, \"33\": {\"33\": 113, \"83\": 1, \"0\": 1, \"5\": 2, \"90\": 1}, \"35\": {\"35\": 9, \"70\": 1, \"81\": 2}, \"125\": {\"125\": 127, \"90\": 3, \"117\": 1, \"10\": 1}, \"47\": {\"47\": 12}, \"79\": {\"79\": 14, \"48\": 1, \"115\": 1}, \"53\": {\"53\": 13, \"46\": 1, \"76\": 1, \"34\": 1}, \"67\": {\"67\": 10, \"64\": 1, \"61\": 1, \"116\": 1, \"123\": 1, \"126\": 1, \"82\": 1}, \"80\": {\"80\": 16}, \"105\": {\"105\": 73, \"88\": 1, \"78\": 1, \"10\": 1, \"3\": 13, \"40\": 2, \"124\": 1, \"99\": 1, \"96\": 1, \"83\": 2, \"70\": 1, \"102\": 1, \"114\": 1, \"14\": 1}, \"76\": {\"76\": 14, \"46\": 1, \"71\": 1}, \"46\": {\"100\": 3, \"46\": 11, \"111\": 1, \"107\": 2, \"129\": 1, \"85\": 1, \"114\": 1}, \"34\": {\"20\": 2, \"100\": 1, \"95\": 1, \"34\": 14, \"127\": 1, \"99\": 1, \"3\": 3, \"49\": 2, \"107\": 1, \"40\": 1, \"53\": 1, \"52\": 1, \"54\": 2, \"114\": 1}, \"32\": {\"32\": 18, \"46\": 1, \"82\": 1, \"114\": 1, \"33\": 4, \"3\": 1, \"31\": 1, \"107\": 1}, \"13\": {\"13\": 12, \"63\": 1, \"57\": 1, \"66\": 2}, \"78\": {\"78\": 28, \"10\": 3, \"88\": 3, \"109\": 1, \"126\": 1}, \"41\": {\"41\": 15, \"55\": 1}, \"69\": {\"3\": 2, \"69\": 113, \"88\": 1, \"84\": 3, \"40\": 2, \"99\": 2, \"78\": 1, \"70\": 1, \"27\": 1, \"14\": 2}, \"88\": {\"88\": 115, \"78\": 2, \"117\": 1, \"70\": 7, \"108\": 1, \"10\": 2, \"21\": 2, \"126\": 1, \"90\": 1}, \"15\": {\"15\": 117, \"94\": 3, \"24\": 2, \"126\": 1, \"0\": 1, \"88\": 1, \"21\": 1, \"8\": 2}, \"61\": {\"74\": 2, \"61\": 12, \"48\": 2}, \"0\": {\"0\": 86, \"87\": 7, \"15\": 5, \"94\": 2, \"8\": 10, \"126\": 1, \"101\": 1, \"113\": 2, \"14\": 1, \"108\": 1}, \"104\": {\"17\": 1, \"104\": 10, \"73\": 1, \"48\": 1, \"119\": 2, \"116\": 1}, \"48\": {\"48\": 5, \"116\": 2, \"123\": 2, \"102\": 2, \"65\": 2, \"98\": 1, \"117\": 2}, \"25\": {\"25\": 15, \"9\": 1}, \"75\": {\"75\": 15, \"128\": 1}, \"81\": {\"81\": 29, \"33\": 1, \"10\": 1, \"69\": 2, \"18\": 2, \"117\": 1}, \"50\": {\"50\": 12, \"22\": 1, \"86\": 1, \"119\": 1, \"104\": 1}, \"52\": {\"51\": 1, \"52\": 12, \"95\": 2, \"58\": 1, \"5\": 1, \"46\": 1, \"9\": 1, \"98\": 1}, \"16\": {\"16\": 110, \"84\": 2, \"10\": 1, \"26\": 5, \"33\": 1, \"117\": 1}, \"44\": {\"44\": 56, \"76\": 1, \"121\": 1, \"107\": 1, \"105\": 1, \"84\": 2, \"5\": 2}, \"29\": {\"29\": 30, \"21\": 1, \"36\": 1}, \"93\": {\"93\": 123, \"114\": 1}, \"18\": {\"18\": 110, \"69\": 2, \"81\": 2}, \"49\": {\"49\": 16, \"18\": 1, \"3\": 4, \"127\": 2, \"99\": 1, \"106\": 1, \"20\": 2, \"100\": 2, \"71\": 1, \"14\": 1, \"69\": 1}, \"55\": {\"55\": 14, \"17\": 2}, \"59\": {\"59\": 9, \"124\": 2, \"21\": 1}, \"128\": {\"128\": 13, \"32\": 1, \"52\": 1, \"92\": 1, \"124\": 1, \"46\": 1, \"9\": 1, \"28\": 1, \"107\": 2, \"89\": 1, \"98\": 1}, \"24\": {\"24\": 87, \"10\": 18, \"113\": 1, \"27\": 3, \"70\": 4, \"36\": 3, \"109\": 1, \"108\": 2, \"39\": 1}, \"65\": {\"65\": 12}, \"92\": {\"128\": 1, \"92\": 16, \"90\": 2, \"33\": 1, \"82\": 2, \"57\": 4, \"89\": 1, \"107\": 1}}, \"Wisig_1\": {\"108\": {\"108\": 109, \"24\": 7, \"88\": 2, \"70\": 1, \"10\": 3, \"109\": 2}, \"40\": {\"40\": 97, \"49\": 1, \"34\": 3, \"81\": 1, \"14\": 7, \"1\": 8, \"105\": 8, \"114\": 5, \"69\": 1, \"44\": 2, \"62\": 1, \"127\": 1, \"33\": 1}, \"68\": {\"68\": 13, \"64\": 1, \"17\": 1, \"112\": 1}, \"23\": {\"26\": 2, \"3\": 1, \"122\": 2, \"110\": 3, \"96\": 1, \"23\": 7, \"94\": 4, \"0\": 1, \"44\": 1, \"1\": 2}, \"26\": {\"26\": 113, \"62\": 1, \"24\": 1, \"18\": 2, \"70\": 1, \"16\": 2}, \"64\": {\"64\": 14, \"57\": 1, \"61\": 1}, \"22\": {\"22\": 12, \"116\": 2, \"74\": 1, \"43\": 1}, \"3\": {\"3\": 72, \"62\": 4, \"0\": 1, \"1\": 4, \"40\": 2, \"111\": 1, \"98\": 1, \"114\": 1, \"18\": 1, \"101\": 1}, \"4\": {\"4\": 97, \"125\": 2, \"108\": 1}, \"70\": {\"70\": 113, \"108\": 1, \"39\": 1, \"10\": 1, \"109\": 4}, \"57\": {\"57\": 11, \"103\": 1}, \"79\": {\"79\": 10, \"124\": 1, \"54\": 1}, \"9\": {\"9\": 30, \"14\": 1, \"31\": 1}, \"89\": {\"89\": 29, \"127\": 2, \"9\": 1, \"72\": 2, \"34\": 2}, \"110\": {\"110\": 125, \"0\": 1, \"84\": 2}, \"102\": {\"102\": 118, \"126\": 1, \"5\": 1}, \"31\": {\"31\": 10, \"12\": 1, \"9\": 3, \"35\": 1, \"44\": 1}, \"58\": {\"68\": 1, \"58\": 11}, \"47\": {\"47\": 5, \"52\": 1, \"107\": 1, \"40\": 1, \"29\": 2, \"49\": 2}, \"24\": {\"96\": 1, \"24\": 69, \"10\": 3, \"97\": 1, \"108\": 8, \"88\": 8, \"126\": 1, \"70\": 1}, \"19\": {\"19\": 19, \"107\": 1, \"92\": 1, \"120\": 2, \"25\": 1, \"73\": 2, \"33\": 1, \"83\": 1}, \"11\": {\"11\": 130, \"39\": 2}, \"52\": {\"52\": 20}, \"17\": {\"115\": 1, \"17\": 6, \"68\": 2, \"27\": 1, \"111\": 1, \"37\": 1, \"55\": 1, \"4\": 1, \"41\": 2}, \"25\": {\"83\": 1, \"25\": 9, \"120\": 1, \"128\": 2, \"66\": 2, \"33\": 1}, \"69\": {\"69\": 103, \"70\": 1, \"109\": 1, \"39\": 1, \"16\": 2}, \"96\": {\"96\": 7, \"68\": 1, \"23\": 1, \"65\": 1, \"12\": 1, \"121\": 1, \"1\": 1, \"126\": 1, \"109\": 1, \"93\": 1, \"74\": 1, \"35\": 1, \"122\": 1, \"7\": 1}, \"109\": {\"109\": 113, \"70\": 1}, \"115\": {\"115\": 12}, \"83\": {\"47\": 1, \"83\": 17, \"107\": 2, \"109\": 1, \"99\": 1, \"86\": 2, \"114\": 2, \"38\": 2}, \"84\": {\"84\": 118, \"105\": 1, \"7\": 2, \"88\": 1, \"69\": 2, \"39\": 1, \"23\": 1, \"44\": 2}, \"119\": {\"119\": 13, \"2\": 1, \"73\": 1, \"13\": 1}, \"122\": {\"122\": 70, \"11\": 3, \"8\": 3, \"109\": 2, \"87\": 5, \"15\": 1, \"21\": 2, \"43\": 1, \"39\": 1}, \"99\": {\"74\": 2, \"81\": 2, \"99\": 14, \"3\": 1, \"76\": 1, \"100\": 3, \"33\": 1}, \"1\": {\"1\": 131, \"118\": 1, \"39\": 1, \"99\": 2, \"10\": 1}, \"74\": {\"74\": 12, \"67\": 1, \"33\": 1, \"1\": 2}, \"85\": {\"85\": 27, \"19\": 2, \"83\": 1, \"98\": 2}, \"127\": {\"127\": 96, \"39\": 1, \"71\": 7, \"108\": 1, \"107\": 2, \"106\": 1}, \"111\": {\"111\": 114, \"68\": 1, \"124\": 4, \"39\": 1}, \"53\": {\"53\": 16, \"124\": 1, \"56\": 1, \"98\": 2}, \"88\": {\"88\": 108, \"24\": 10, \"109\": 1, \"27\": 1, \"10\": 4, \"126\": 4, \"108\": 3, \"30\": 1}, \"65\": {\"65\": 8, \"21\": 1, \"28\": 1, \"13\": 1, \"2\": 1}, \"7\": {\"7\": 134}, \"16\": {\"16\": 96, \"26\": 8, \"18\": 3, \"10\": 1}, \"128\": {\"53\": 2, \"38\": 2, \"86\": 1, \"128\": 15, \"107\": 3, \"89\": 1}, \"34\": {\"114\": 5, \"56\": 2, \"34\": 14, \"1\": 2, \"72\": 3, \"47\": 1, \"35\": 1, \"40\": 1, \"29\": 2, \"75\": 1}, \"129\": {\"129\": 19, \"104\": 1, \"112\": 1, \"42\": 1, \"66\": 1, \"2\": 5}, \"43\": {\"43\": 116, \"10\": 1, \"122\": 4, \"87\": 1, \"93\": 2, \"11\": 3, \"109\": 1}, \"92\": {\"92\": 28}, \"28\": {\"73\": 1, \"68\": 1, \"28\": 13, \"104\": 1, \"57\": 1, \"65\": 2, \"111\": 1}, \"27\": {\"27\": 85, \"15\": 1, \"30\": 4, \"126\": 1, \"8\": 1}, \"114\": {\"114\": 117, \"11\": 1, \"33\": 4, \"107\": 2}, \"73\": {\"73\": 16, \"75\": 1, \"51\": 1, \"34\": 1, \"89\": 1}, \"0\": {\"0\": 82, \"110\": 2}, \"104\": {\"129\": 2, \"104\": 12, \"61\": 2}, \"118\": {\"118\": 79, \"109\": 1, \"113\": 1, \"122\": 1, \"18\": 1, \"11\": 1}, \"41\": {\"41\": 12, \"55\": 1, \"5\": 2, \"22\": 1}, \"91\": {\"17\": 1, \"91\": 23, \"92\": 2, \"83\": 1, \"98\": 1}, \"124\": {\"124\": 122}, \"81\": {\"81\": 21, \"99\": 1, \"14\": 1, \"19\": 1, \"3\": 1, \"1\": 1, \"69\": 1, \"114\": 1}, \"63\": {\"129\": 1, \"63\": 11, \"61\": 1, \"2\": 1, \"13\": 1, \"102\": 1}, \"76\": {\"76\": 14, \"50\": 1, \"81\": 1}, \"10\": {\"10\": 102, \"111\": 1, \"108\": 10, \"126\": 1, \"70\": 2, \"122\": 2, \"78\": 1, \"109\": 1}, \"51\": {\"51\": 13, \"77\": 2, \"121\": 1}, \"82\": {\"82\": 34, \"64\": 1, \"129\": 1}, \"56\": {\"56\": 12}, \"30\": {\"30\": 44, \"27\": 2, \"15\": 1, \"24\": 2, \"88\": 2, \"126\": 1}, \"21\": {\"21\": 29, \"109\": 2, \"85\": 1, \"70\": 3, \"26\": 2, \"39\": 1, \"73\": 1, \"90\": 1}, \"46\": {\"124\": 3, \"79\": 1, \"46\": 6, \"6\": 1, \"57\": 1}, \"33\": {\"33\": 137, \"50\": 1}, \"101\": {\"101\": 116, \"107\": 1, \"24\": 1, \"14\": 1, \"71\": 2, \"127\": 2, \"26\": 1}, \"105\": {\"105\": 76, \"36\": 1, \"40\": 2, \"44\": 3, \"1\": 2}, \"50\": {\"50\": 11, \"28\": 1, \"82\": 1, \"73\": 1, \"78\": 1, \"83\": 1}, \"116\": {\"116\": 32}, \"77\": {\"77\": 12, \"83\": 2, \"104\": 1, \"68\": 1}, \"75\": {\"75\": 7, \"9\": 2, \"107\": 1, \"91\": 1, \"85\": 1, \"29\": 4}, \"95\": {\"95\": 35, \"82\": 1}, \"120\": {\"120\": 14, \"54\": 2, \"82\": 2, \"66\": 2}, \"18\": {\"18\": 104, \"16\": 4}, \"14\": {\"14\": 79, \"40\": 10, \"1\": 4, \"105\": 3}, \"44\": {\"44\": 73, \"40\": 2, \"72\": 1}, \"98\": {\"98\": 92, \"107\": 2, \"128\": 2}, \"121\": {\"121\": 32}, \"113\": {\"113\": 108}, \"103\": {\"53\": 3, \"103\": 11, \"52\": 1, \"89\": 1}, \"62\": {\"62\": 115, \"39\": 2, \"11\": 1, \"26\": 1, \"70\": 1}, \"32\": {\"32\": 27, \"29\": 2, \"52\": 1, \"53\": 2}, \"71\": {\"71\": 82, \"127\": 9, \"101\": 6, \"70\": 1, \"26\": 1, \"118\": 1, \"44\": 6, \"105\": 1, \"12\": 1}, \"94\": {\"94\": 84, \"108\": 1, \"10\": 1, \"36\": 4, \"15\": 1, \"11\": 1}, \"49\": {\"49\": 15, \"107\": 1, \"42\": 1, \"114\": 1, \"9\": 1, \"72\": 1}, \"12\": {\"12\": 96, \"106\": 3, \"101\": 2, \"109\": 1, \"21\": 1, \"70\": 1}, \"90\": {\"90\": 123, \"82\": 1}, \"93\": {\"93\": 122, \"11\": 2}, \"13\": {\"13\": 13, \"63\": 1, \"117\": 1, \"119\": 1}, \"67\": {\"111\": 1, \"67\": 7, \"2\": 1, \"90\": 1, \"61\": 1, \"82\": 1, \"38\": 2, \"107\": 1, \"95\": 1}, \"20\": {\"20\": 14, \"109\": 1, \"122\": 1}, \"2\": {\"104\": 1, \"2\": 22, \"67\": 2, \"25\": 2, \"129\": 2, \"63\": 1, \"66\": 1, \"117\": 1}, \"5\": {\"5\": 82, \"90\": 1, \"101\": 1, \"124\": 2, \"21\": 1, \"129\": 1}, \"54\": {\"54\": 12, \"107\": 2, \"122\": 1, \"34\": 1}, \"37\": {\"37\": 16}, \"38\": {\"38\": 15, \"76\": 1}, \"86\": {\"86\": 25, \"6\": 2, \"41\": 2, \"111\": 2, \"124\": 1, \"85\": 1, \"25\": 1, \"109\": 1, \"11\": 1}, \"55\": {\"55\": 12}, \"97\": {\"97\": 17, \"92\": 1, \"42\": 1, \"27\": 1}, \"29\": {\"29\": 28}, \"48\": {\"63\": 1, \"48\": 10, \"4\": 1}, \"60\": {\"60\": 12, \"84\": 1, \"18\": 1, \"26\": 2}, \"36\": {\"36\": 119, \"126\": 1, \"94\": 1, \"108\": 1}, \"42\": {\"73\": 1, \"66\": 1, \"120\": 2, \"77\": 1, \"81\": 1, \"98\": 1, \"42\": 13, \"117\": 1, \"107\": 2, \"82\": 1, \"19\": 2, \"21\": 1, \"116\": 1}, \"66\": {\"2\": 1, \"66\": 13, \"90\": 1, \"129\": 1}, \"126\": {\"126\": 121, \"93\": 1, \"11\": 2, \"109\": 1, \"10\": 1, \"88\": 2}, \"39\": {\"39\": 103, \"122\": 1}, \"107\": {\"47\": 1, \"107\": 115, \"39\": 1, \"114\": 2, \"89\": 1, \"118\": 2, \"14\": 2}, \"59\": {\"59\": 10, \"95\": 1, \"66\": 1}, \"117\": {\"117\": 138}, \"6\": {\"6\": 28, \"111\": 4}, \"123\": {\"123\": 16}, \"8\": {\"8\": 119, \"39\": 1, \"110\": 1, \"122\": 2, \"93\": 1}, \"112\": {\"112\": 12, \"111\": 1, \"83\": 1, \"24\": 1, \"91\": 1}, \"80\": {\"80\": 15, \"82\": 1}, \"125\": {\"125\": 136}, \"61\": {\"61\": 12}, \"45\": {\"43\": 1, \"64\": 3, \"45\": 6, \"86\": 2}, \"72\": {\"105\": 1, \"72\": 21, \"71\": 1, \"101\": 2, \"34\": 3, \"107\": 1, \"76\": 2, \"89\": 1}, \"87\": {\"87\": 85, \"122\": 17, \"8\": 2, \"43\": 3, \"11\": 1}, \"106\": {\"106\": 117, \"12\": 6, \"108\": 1}, \"35\": {\"35\": 7, \"29\": 1, \"105\": 2, \"6\": 1, \"93\": 1}, \"78\": {\"10\": 3, \"78\": 10, \"109\": 1, \"126\": 1, \"21\": 1}, \"15\": {\"15\": 90, \"30\": 1, \"94\": 4, \"39\": 1, \"127\": 1, \"109\": 1, \"110\": 2, \"8\": 2, \"21\": 1, \"36\": 1}, \"100\": {\"100\": 10, \"62\": 1, \"14\": 1, \"76\": 1, \"38\": 2, \"82\": 1}}, \"Wisig_2\": {\"91\": {\"91\": 19, \"85\": 1, \"123\": 2, \"42\": 1, \"54\": 1, \"68\": 1, \"24\": 1, \"124\": 2}, \"12\": {\"97\": 6, \"12\": 69, \"87\": 1, \"70\": 1, \"106\": 6, \"126\": 1, \"78\": 1, \"10\": 1, \"7\": 2}, \"101\": {\"101\": 144, \"106\": 3, \"109\": 1}, \"121\": {\"121\": 30, \"120\": 1, \"81\": 2, \"109\": 1, \"57\": 2}, \"118\": {\"118\": 63, \"88\": 1, \"122\": 3, \"87\": 1}, \"10\": {\"126\": 2, \"10\": 51, \"88\": 1, \"70\": 2, \"109\": 1, \"39\": 1, \"101\": 1, \"24\": 1}, \"117\": {\"117\": 111, \"65\": 2, \"81\": 2, \"90\": 4, \"108\": 1}, \"110\": {\"110\": 26, \"60\": 2, \"120\": 1, \"8\": 2, \"109\": 1, \"70\": 1, \"90\": 1, \"94\": 1, \"126\": 1, \"36\": 1, \"105\": 1, \"0\": 1, \"7\": 1}, \"97\": {\"12\": 1, \"97\": 14, \"15\": 2, \"106\": 1, \"0\": 2}, \"28\": {\"28\": 15, \"46\": 2, \"66\": 1, \"19\": 2}, \"88\": {\"88\": 110, \"39\": 1, \"78\": 4, \"70\": 1, \"109\": 7, \"24\": 1}, \"17\": {\"17\": 3, \"86\": 1, \"129\": 2, \"79\": 1, \"41\": 2, \"111\": 2, \"59\": 2, \"6\": 1, \"104\": 2}, \"126\": {\"126\": 108, \"70\": 4, \"90\": 1, \"57\": 1}, \"33\": {\"33\": 125, \"43\": 1, \"70\": 2}, \"86\": {\"86\": 32}, \"106\": {\"106\": 109, \"23\": 1, \"12\": 1, \"126\": 1, \"0\": 1, \"88\": 1, \"78\": 1, \"21\": 1, \"101\": 2, \"70\": 2}, \"54\": {\"54\": 14, \"56\": 2, \"5\": 1, \"32\": 2, \"85\": 1}, \"125\": {\"125\": 131, \"117\": 1}, \"83\": {\"83\": 38, \"19\": 1, \"109\": 1}, \"98\": {\"98\": 116, \"44\": 2, \"117\": 1, \"69\": 1}, \"11\": {\"11\": 70, \"122\": 3, \"30\": 2, \"70\": 1, \"8\": 2, \"39\": 1, \"109\": 1}, \"32\": {\"32\": 29, \"56\": 1, \"107\": 4, \"64\": 1, \"101\": 1}, \"42\": {\"42\": 14, \"58\": 1, \"5\": 3, \"91\": 1, \"50\": 1, \"52\": 1, \"22\": 1, \"25\": 1, \"123\": 1, \"29\": 2, \"28\": 1, \"19\": 1}, \"103\": {\"103\": 8, \"42\": 1, \"77\": 2, \"41\": 1, \"85\": 1, \"58\": 1, \"28\": 2}, \"87\": {\"87\": 89, \"10\": 4, \"39\": 1, \"109\": 3, \"43\": 8, \"88\": 1, \"24\": 2, \"27\": 2, \"78\": 1, \"108\": 1}, \"61\": {\"61\": 8, \"106\": 1, \"24\": 1, \"82\": 1, \"39\": 1, \"21\": 1, \"53\": 1, \"38\": 1, \"128\": 1, \"92\": 1, \"89\": 1, \"83\": 1, \"44\": 1}, \"13\": {\"13\": 8, \"78\": 1, \"80\": 2, \"116\": 2, \"65\": 1, \"129\": 1, \"108\": 1}, \"4\": {\"4\": 81, \"39\": 1, \"24\": 1, \"88\": 1, \"125\": 2}, \"15\": {\"15\": 108, \"88\": 1, \"94\": 2, \"122\": 1, \"39\": 2, \"8\": 2, \"12\": 2, \"36\": 1, \"70\": 1}, \"120\": {\"102\": 1, \"121\": 1, \"120\": 18}, \"80\": {\"80\": 16}, \"72\": {\"72\": 22, \"62\": 1, \"14\": 2, \"44\": 2, \"33\": 1}, \"64\": {\"53\": 1, \"76\": 2, \"92\": 1, \"0\": 1, \"55\": 1, \"64\": 6, \"29\": 1, \"45\": 2, \"98\": 1}, \"81\": {\"81\": 15, \"1\": 1, \"99\": 1, \"90\": 2, \"18\": 1, \"31\": 1, \"33\": 1, \"113\": 1, \"44\": 1}, \"102\": {\"102\": 112}, \"76\": {\"129\": 1, \"35\": 1, \"76\": 5, \"100\": 1, \"107\": 2, \"44\": 1, \"64\": 2, \"119\": 1, \"83\": 1, \"92\": 1}, \"49\": {\"35\": 2, \"114\": 3, \"49\": 9, \"66\": 1, \"33\": 1, \"86\": 1, \"71\": 1, \"111\": 1, \"39\": 1, \"32\": 1, \"85\": 1, \"107\": 2}, \"129\": {\"129\": 25, \"123\": 2, \"5\": 1, \"42\": 1, \"104\": 2, \"85\": 1}, \"89\": {\"89\": 27, \"82\": 1, \"119\": 2, \"126\": 1, \"92\": 2, \"51\": 1, \"67\": 2}, \"52\": {\"52\": 16, \"9\": 1, \"129\": 1, \"111\": 1, \"54\": 1}, \"35\": {\"35\": 12}, \"53\": {\"53\": 14, \"33\": 1, \"64\": 1}, \"26\": {\"26\": 119, \"84\": 1, \"93\": 4, \"87\": 1, \"8\": 1, \"24\": 1, \"10\": 1}, \"96\": {\"96\": 12, \"26\": 4, \"60\": 4}, \"27\": {\"27\": 51, \"109\": 5, \"94\": 1, \"24\": 2, \"88\": 3, \"10\": 2, \"70\": 1, \"39\": 2, \"21\": 1}, \"24\": {\"24\": 100, \"88\": 1, \"27\": 1, \"39\": 2, \"70\": 3, \"126\": 1, \"109\": 2, \"10\": 1, \"43\": 1}, \"82\": {\"82\": 26, \"108\": 1, \"2\": 1, \"39\": 1, \"90\": 2, \"46\": 1, \"89\": 1, \"21\": 1, \"32\": 1, \"10\": 1}, \"18\": {\"18\": 111, \"109\": 1, \"26\": 6, \"88\": 1, \"126\": 1, \"39\": 1, \"24\": 1, \"23\": 1, \"72\": 1, \"69\": 4}, \"69\": {\"18\": 3, \"69\": 100, \"3\": 2, \"70\": 2, \"99\": 2, \"1\": 7, \"33\": 3, \"88\": 2, \"62\": 1}, \"47\": {\"74\": 2, \"47\": 6, \"123\": 1, \"33\": 1, \"114\": 1, \"66\": 1}, \"85\": {\"85\": 24, \"129\": 1, \"29\": 3, \"49\": 1, \"37\": 1, \"64\": 1, \"75\": 1}, \"2\": {\"2\": 30, \"65\": 1, \"119\": 1}, \"67\": {\"67\": 13, \"73\": 1, \"119\": 1, \"24\": 1}, \"39\": {\"70\": 6, \"39\": 92, \"88\": 3, \"109\": 7, \"78\": 1, \"24\": 2, \"18\": 1}, \"99\": {\"99\": 28, \"18\": 2, \"20\": 1, \"31\": 1}, \"74\": {\"74\": 11, \"64\": 2, \"21\": 1, \"91\": 1, \"70\": 1}, \"105\": {\"105\": 120, \"7\": 6, \"109\": 3, \"88\": 1, \"1\": 2}, \"70\": {\"70\": 91, \"88\": 10, \"126\": 10, \"78\": 3, \"39\": 3, \"109\": 4, \"90\": 1}, \"55\": {\"55\": 6, \"85\": 1, \"92\": 2, \"64\": 2, \"76\": 3, \"107\": 1, \"19\": 1}, \"30\": {\"30\": 92, \"36\": 7, \"27\": 1, \"43\": 1, \"8\": 3, \"118\": 2, \"122\": 1, \"70\": 1, \"25\": 1, \"88\": 1, \"126\": 2}, \"60\": {\"60\": 23, \"21\": 1, \"105\": 3, \"14\": 1}, \"92\": {\"92\": 10, \"31\": 1, \"51\": 1, \"44\": 2, \"25\": 1, \"90\": 2, \"57\": 2, \"30\": 1, \"64\": 1, \"76\": 2, \"47\": 1, \"19\": 1, \"46\": 2, \"82\": 1}, \"45\": {\"45\": 13, \"73\": 1, \"64\": 1, \"88\": 1}, \"127\": {\"127\": 105, \"101\": 4, \"89\": 1, \"62\": 2}, \"9\": {\"108\": 1, \"9\": 30, \"39\": 1}, \"115\": {\"115\": 12}, \"73\": {\"73\": 24, \"44\": 1, \"19\": 2, \"114\": 1}, \"108\": {\"108\": 134, \"8\": 1, \"126\": 1, \"94\": 1, \"43\": 1}, \"114\": {\"114\": 109, \"107\": 2, \"39\": 2, \"1\": 2, \"70\": 1}, \"63\": {\"63\": 14, \"104\": 1, \"102\": 1, \"116\": 2, \"41\": 1, \"28\": 1}, \"93\": {\"93\": 114, \"16\": 10, \"105\": 2, \"118\": 2}, \"7\": {\"7\": 128, \"12\": 2, \"105\": 2}, \"31\": {\"31\": 15, \"78\": 1, \"107\": 2, \"1\": 1, \"67\": 1}, \"123\": {\"123\": 11, \"50\": 2, \"22\": 1, \"17\": 1, \"45\": 1}, \"128\": {\"128\": 11, \"56\": 3, \"51\": 2, \"107\": 3, \"58\": 1, \"9\": 2, \"76\": 1, \"32\": 1}, \"0\": {\"0\": 100, \"97\": 2, \"24\": 3, \"69\": 1, \"39\": 1, \"94\": 1, \"71\": 1, \"15\": 2, \"83\": 1, \"8\": 2, \"30\": 1, \"70\": 1}, \"3\": {\"7\": 3, \"3\": 125, \"71\": 3, \"33\": 1, \"1\": 3, \"105\": 1}, \"19\": {\"74\": 1, \"19\": 19, \"83\": 2, \"66\": 1, \"55\": 2, \"28\": 2, \"73\": 1}, \"57\": {\"57\": 14, \"82\": 1, \"83\": 1, \"31\": 1, \"119\": 1, \"24\": 1, \"90\": 1}, \"78\": {\"78\": 39, \"39\": 1, \"88\": 3, \"70\": 2, \"24\": 2, \"109\": 1}, \"95\": {\"95\": 20, \"40\": 1, \"56\": 1, \"100\": 1, \"71\": 2, \"114\": 2, \"44\": 2, \"32\": 4, \"3\": 1, \"88\": 1, \"107\": 1}, \"40\": {\"40\": 80, \"95\": 1, \"107\": 2, \"1\": 3, \"33\": 11, \"3\": 10, \"114\": 4, \"127\": 4, \"71\": 8, \"39\": 1, \"109\": 1, \"62\": 3, \"14\": 3, \"27\": 1, \"84\": 2, \"88\": 1, \"70\": 3, \"105\": 1, \"126\": 1}, \"14\": {\"78\": 2, \"40\": 5, \"62\": 1, \"16\": 1, \"14\": 21, \"84\": 1, \"3\": 5, \"95\": 2, \"70\": 3, \"107\": 2, \"108\": 1, \"88\": 1, \"71\": 1, \"1\": 2}, \"36\": {\"36\": 116, \"39\": 2, \"30\": 3, \"109\": 2, \"8\": 1, \"24\": 1, \"27\": 1, \"10\": 1, \"88\": 1}, \"56\": {\"56\": 12}, \"111\": {\"111\": 124, \"24\": 1, \"124\": 3}, \"59\": {\"59\": 14, \"126\": 1, \"78\": 1}, \"79\": {\"79\": 14, \"98\": 1, \"77\": 1}, \"62\": {\"62\": 111, \"84\": 2, \"40\": 3, \"7\": 3, \"26\": 2, \"24\": 1}, \"21\": {\"21\": 45, \"39\": 1, \"88\": 2}, \"48\": {\"48\": 17, \"116\": 2, \"102\": 1}, \"16\": {\"16\": 102, \"93\": 13, \"88\": 2, \"105\": 4, \"109\": 1, \"69\": 1, \"39\": 1}, \"50\": {\"50\": 10, \"61\": 1, \"129\": 1, \"42\": 1, \"55\": 2, \"38\": 1}, \"44\": {\"44\": 92, \"117\": 1, \"89\": 1, \"114\": 2}, \"5\": {\"5\": 99, \"111\": 4, \"124\": 2, \"43\": 1, \"129\": 1, \"37\": 1, \"85\": 1, \"109\": 1}, \"20\": {\"20\": 15, \"24\": 1}, \"1\": {\"1\": 108, \"16\": 1, \"14\": 1, \"40\": 5, \"71\": 2, \"62\": 2, \"43\": 1}, \"65\": {\"65\": 18, \"24\": 1, \"87\": 1}, \"116\": {\"116\": 28}, \"51\": {\"51\": 14, \"106\": 1, \"54\": 1, \"128\": 1, \"40\": 1, \"9\": 1, \"36\": 1}, \"75\": {\"9\": 1, \"56\": 1, \"75\": 13, \"88\": 1}, \"100\": {\"100\": 11, \"71\": 1, \"3\": 2, \"1\": 1, \"33\": 1}, \"113\": {\"113\": 71, \"23\": 1}, \"41\": {\"41\": 15, \"29\": 1, \"37\": 2, \"59\": 2}, \"29\": {\"29\": 32}, \"23\": {\"23\": 13, \"20\": 2, \"94\": 1, \"0\": 3, \"62\": 1, \"122\": 5, \"11\": 1, \"8\": 3, \"18\": 3, \"16\": 1, \"26\": 3, \"93\": 2, \"110\": 3, \"30\": 1, \"43\": 1, \"118\": 1}, \"124\": {\"124\": 120, \"5\": 2, \"21\": 1, \"117\": 1}, \"68\": {\"29\": 1, \"68\": 10, \"129\": 1, \"50\": 1, \"24\": 1, \"28\": 2}, \"71\": {\"71\": 85, \"88\": 1, \"35\": 1, \"7\": 2, \"101\": 1, \"3\": 6, \"40\": 2, \"127\": 2}, \"107\": {\"107\": 46, \"117\": 1, \"32\": 4, \"39\": 1, \"109\": 2, \"5\": 2, \"70\": 1, \"8\": 1, \"128\": 2, \"63\": 1, \"10\": 1, \"34\": 2}, \"94\": {\"94\": 41, \"0\": 6, \"109\": 1, \"36\": 5, \"11\": 1, \"15\": 3, \"118\": 2, \"12\": 2, \"70\": 1, \"88\": 2}, \"77\": {\"77\": 12, \"66\": 2, \"39\": 1, \"98\": 1}, \"8\": {\"8\": 116, \"122\": 2, \"36\": 2, \"12\": 1, \"15\": 1}, \"46\": {\"92\": 1, \"102\": 1, \"82\": 1, \"46\": 6, \"38\": 2, \"55\": 1, \"123\": 1, \"50\": 2, \"5\": 1}, \"25\": {\"25\": 13, \"19\": 1, \"91\": 1, \"42\": 1}, \"122\": {\"122\": 104, \"11\": 12, \"8\": 11, \"88\": 1, \"23\": 2, \"39\": 1, \"43\": 5, \"94\": 1, \"81\": 1, \"30\": 2}, \"58\": {\"9\": 2, \"66\": 2, \"58\": 8, \"39\": 1, \"98\": 1, \"87\": 1, \"103\": 1, \"24\": 1, \"54\": 2, \"111\": 1}, \"6\": {\"6\": 32}, \"109\": {\"109\": 77, \"24\": 3, \"39\": 7, \"88\": 9, \"70\": 4}, \"119\": {\"67\": 1, \"119\": 12, \"90\": 2, \"63\": 2, \"111\": 1, \"2\": 2}, \"34\": {\"74\": 1, \"34\": 20, \"98\": 3, \"107\": 1, \"112\": 1, \"88\": 1, \"124\": 1, \"87\": 1, \"54\": 1, \"114\": 2}, \"90\": {\"90\": 140}, \"38\": {\"38\": 16}, \"104\": {\"104\": 11, \"86\": 2, \"5\": 2, \"85\": 1, \"8\": 1, \"129\": 2, \"6\": 1}, \"84\": {\"84\": 83, \"108\": 1, \"62\": 3, \"126\": 1, \"1\": 4}, \"112\": {\"112\": 13, \"34\": 1, \"68\": 1, \"107\": 1}, \"66\": {\"28\": 5, \"129\": 1, \"38\": 1, \"39\": 1, \"104\": 1, \"66\": 5, \"112\": 1, \"87\": 1, \"86\": 1, \"85\": 1, \"5\": 2}, \"22\": {\"86\": 1, \"22\": 16, \"80\": 2, \"37\": 1}, \"37\": {\"37\": 16}, \"43\": {\"43\": 111, \"108\": 3, \"118\": 1, \"39\": 2, \"109\": 1, \"87\": 2, \"88\": 2, \"70\": 2}}}, \"per_domain_accuracy\": {\"ORACLE.run114\": {\"accuracy\": 0.8473958333333333, \"source?\": true}, \"ORACLE.run120\": {\"accuracy\": 0.75859375, \"source?\": true}, \"ORACLE.run138\": {\"accuracy\": 0.8880208333333334, \"source?\": true}, \"ORACLE.run18\": {\"accuracy\": 0.7752604166666667, \"source?\": true}, \"ORACLE.run150\": {\"accuracy\": 0.9052083333333333, \"source?\": true}, \"ORACLE.run132\": {\"accuracy\": 0.8393229166666667, \"source?\": true}, \"ORACLE.run126\": {\"accuracy\": 0.7065104166666667, \"source?\": true}, \"ORACLE.run144\": {\"accuracy\": 0.8286458333333333, \"source?\": true}, \"Wisig_3\": {\"accuracy\": 0.8852796052631579, \"source?\": false}, \"Wisig_4\": {\"accuracy\": 0.8450360082304527, \"source?\": false}, \"Wisig_1\": {\"accuracy\": 0.8910904255319149, \"source?\": false}, \"Wisig_2\": {\"accuracy\": 0.8469012605042017, \"source?\": false}}}, \"history\": {\"epoch_indices\": [1, 2, 3, 4, 5, 6, 7, 8, 9, 10, 11, 12, 13, 14, 15, 16, 17, 18, 19, 20, 21, 22, 23, 24, 25, 26], \"train_label_loss\": [1.1878704683899524, 0.7336997207719833, 0.6232893211656205, 0.5424900043800118, 0.4392950748880616, 0.38435183571197, 0.34581494239280886, 0.3193207688941454, 0.2907213698987367, 0.2719104680901052, 0.25600949768325204, 0.2470268027980464, 0.2348521725504378, 0.22425622580481752, 0.21472741802313283, 0.20453391961401785, 0.19813807296168198, 0.1913577984693001, 0.18241646632661065, 0.1779503443941697, 0.1706455652577125, 0.16474563495206937, 0.16056710168281824, 0.15386960128174895, 0.14875411779956488, 0.1492847115122529], \"source_val_label_loss\": [1.096699595451355, 0.7012220025062561, 0.6565352082252502, 0.5744054913520813, 0.5505751371383667, 0.5161230564117432, 0.5309820771217346, 0.5281422138214111, 0.5509045124053955, 0.541862428188324, 0.5785416960716248, 0.5713329315185547, 0.5757945775985718, 0.5829281210899353, 0.6135203242301941, 0.606458842754364, 0.60990971326828, 0.6145981550216675, 0.631305456161499, 0.6315826773643494, 0.6417561173439026, 0.6790071725845337, 0.674052894115448, 0.6795920133590698, 0.7034266591072083, 0.7058141231536865], \"target_val_label_loss\": [152.2655029296875, 58.70912170410156, 66.12492370605469, 93.9684829711914, 119.36618041992188, 120.77495574951172, 127.07176208496094, 146.26409912109375, 137.93540954589844, 134.85581970214844, 154.7425994873047, 163.2655487060547, 147.24691772460938, 161.98548889160156, 166.2493896484375, 151.75982666015625, 164.99417114257812, 157.42755126953125, 158.64126586914062, 169.3030548095703, 166.2247314453125, 160.550537109375, 162.7919158935547, 169.77914428710938, 171.89022827148438, 174.26559448242188], \"source_val_acc_label\": [0.66494140625, 0.7518229166666667, 0.76337890625, 0.794921875, 0.8023111979166667, 0.8248372395833333, 0.8194661458333333, 0.8194986979166666, 0.8241861979166667, 0.8202473958333333, 0.82197265625, 0.8192708333333333, 0.8196614583333334, 0.8199544270833333, 0.8160481770833333, 0.8171549479166667, 0.8241536458333333, 0.81845703125, 0.8212890625, 0.8182942708333333, 0.8195638020833333, 0.8186197916666667, 0.81416015625, 0.80712890625, 0.8107421875, 0.8132161458333333], \"target_val_acc_label\": [0.705806408898305, 0.7692002118644068, 0.7920087394067796, 0.8160090042372882, 0.8227621822033898, 0.8342161016949152, 0.8396782309322034, 0.8409361758474576, 0.8502052436440678, 0.8514962923728814, 0.8504700741525424, 0.8493776483050848, 0.8579184322033898, 0.8580508474576272, 0.8591432733050848, 0.8629502118644068, 0.8619239936440678, 0.8646716101694916, 0.8609970868644068, 0.8647378177966102, 0.8636453919491526, 0.8666909427966102, 0.865135063559322, 0.864108845338983, 0.8647378177966102, 0.8636122881355932]}, \"dataset_metrics\": {\"source\": {\"train\": {\"n_unique_x\": 179200, \"n_unique_y\": 16, \"n_batch/episode\": 6720}, \"val\": {\"n_unique_x\": 38400, \"n_unique_y\": 16, \"n_batch/episode\": 960}, \"test\": {\"n_unique_x\": 38400, \"n_unique_y\": 16, \"n_batch/episode\": 960}}, \"target\": {\"train\": {\"n_unique_x\": 188967, \"n_unique_y\": 130, \"n_batch/episode\": 6837}, \"val\": {\"n_unique_x\": 40068, \"n_unique_y\": 130, \"n_batch/episode\": 944}, \"test\": {\"n_unique_x\": 40816, \"n_unique_y\": 130, \"n_batch/episode\": 969}}}}'"
      ]
     },
     "execution_count": 29,
     "metadata": {},
     "output_type": "execute_result"
    }
   ],
   "source": [
    "json.dumps(experiment)"
   ]
  }
 ],
 "metadata": {
  "celltoolbar": "Tags",
  "kernelspec": {
   "display_name": "Python 3 (ipykernel)",
   "language": "python",
   "name": "python3"
  },
  "language_info": {
   "codemirror_mode": {
    "name": "ipython",
    "version": 3
   },
   "file_extension": ".py",
   "mimetype": "text/x-python",
   "name": "python",
   "nbconvert_exporter": "python",
   "pygments_lexer": "ipython3",
   "version": "3.8.12"
  },
  "papermill": {
   "default_parameters": {},
   "duration": 5516.74196,
   "end_time": "2022-03-22T19:59:31.373898",
   "environment_variables": {},
   "exception": null,
   "input_path": "/root/csc500-main/csc500-notebooks/templates/tl_ptn_template.ipynb",
   "output_path": "trial.ipynb",
   "parameters": {
    "parameters": {
     "BEST_MODEL_PATH": "./best_model.pth",
     "NUM_LOGS_PER_EPOCH": 10,
     "criteria_for_best": "target_accuracy",
     "dataset_seed": 1337,
     "datasets": [
      {
       "domain_prefix": "Wisig_",
       "domains": [
        1,
        2,
        3,
        4
       ],
       "episode_transforms": [],
       "labels": [
        "1-10",
        "1-12",
        "1-14",
        "1-16",
        "1-18",
        "1-19",
        "1-8",
        "10-11",
        "10-17",
        "10-4",
        "10-7",
        "11-1",
        "11-10",
        "11-19",
        "11-20",
        "11-4",
        "11-7",
        "12-19",
        "12-20",
        "12-7",
        "13-14",
        "13-18",
        "13-19",
        "13-20",
        "13-3",
        "13-7",
        "14-10",
        "14-11",
        "14-12",
        "14-13",
        "14-14",
        "14-19",
        "14-20",
        "14-7",
        "14-8",
        "14-9",
        "15-1",
        "15-19",
        "15-6",
        "16-1",
        "16-16",
        "16-19",
        "16-20",
        "17-10",
        "17-11",
        "18-1",
        "18-10",
        "18-11",
        "18-12",
        "18-13",
        "18-14",
        "18-15",
        "18-16",
        "18-17",
        "18-19",
        "18-2",
        "18-20",
        "18-4",
        "18-5",
        "18-7",
        "18-8",
        "18-9",
        "19-1",
        "19-10",
        "19-11",
        "19-12",
        "19-13",
        "19-14",
        "19-15",
        "19-19",
        "19-2",
        "19-20",
        "19-3",
        "19-4",
        "19-6",
        "19-7",
        "19-8",
        "19-9",
        "2-1",
        "2-13",
        "2-15",
        "2-3",
        "2-4",
        "2-5",
        "2-6",
        "2-7",
        "2-8",
        "20-1",
        "20-12",
        "20-14",
        "20-15",
        "20-16",
        "20-18",
        "20-19",
        "20-20",
        "20-3",
        "20-4",
        "20-5",
        "20-7",
        "20-8",
        "3-1",
        "3-13",
        "3-18",
        "3-2",
        "3-8",
        "4-1",
        "4-10",
        "4-11",
        "5-1",
        "5-5",
        "6-1",
        "6-15",
        "6-6",
        "7-10",
        "7-11",
        "7-12",
        "7-13",
        "7-14",
        "7-7",
        "7-8",
        "7-9",
        "8-1",
        "8-13",
        "8-14",
        "8-18",
        "8-20",
        "8-3",
        "8-8",
        "9-1",
        "9-7"
       ],
       "num_examples_per_domain_per_label": -1,
       "pickle_path": "/root/csc500-main/datasets/wisig.node3-19.stratified_ds.2022A.pkl",
       "source_or_target_dataset": "target",
       "x_transforms": []
      },
      {
       "domain_prefix": "ORACLE.run1",
       "domains": [
        32,
        38,
        8,
        44,
        14,
        50,
        20,
        26
       ],
       "episode_transforms": [],
       "labels": [
        "3123D52",
        "3123D65",
        "3123D79",
        "3123D80",
        "3123D54",
        "3123D70",
        "3123D7B",
        "3123D89",
        "3123D58",
        "3123D76",
        "3123D7D",
        "3123EFE",
        "3123D64",
        "3123D78",
        "3123D7E",
        "3124E4A"
       ],
       "num_examples_per_domain_per_label": 2000,
       "pickle_path": "/root/csc500-main/datasets/oracle.Run1_10kExamples_stratified_ds.2022A.pkl",
       "source_or_target_dataset": "source",
       "x_transforms": []
      }
     ],
     "device": "cuda",
     "experiment_name": "tl_1v2:wisig-oracle.run1.limited",
     "lr": 0.0001,
     "n_epoch": 50,
     "n_query": 2,
     "n_shot": 3,
     "n_way": 16,
     "patience": 3,
     "seed": 1337,
     "test_k_factor": 2,
     "torch_default_dtype": "torch.float32",
     "train_k_factor": 3,
     "val_k_factor": 2,
     "x_net": [
      {
       "class": "nnReshape",
       "kargs": {
        "shape": [
         -1,
         1,
         2,
         256
        ]
       }
      },
      {
       "class": "Conv2d",
       "kargs": {
        "bias": false,
        "in_channels": 1,
        "kernel_size": [
         1,
         7
        ],
        "out_channels": 256,
        "padding": [
         0,
         3
        ]
       }
      },
      {
       "class": "ReLU",
       "kargs": {
        "inplace": true
       }
      },
      {
       "class": "BatchNorm2d",
       "kargs": {
        "num_features": 256
       }
      },
      {
       "class": "Conv2d",
       "kargs": {
        "bias": true,
        "in_channels": 256,
        "kernel_size": [
         2,
         7
        ],
        "out_channels": 80,
        "padding": [
         0,
         3
        ]
       }
      },
      {
       "class": "ReLU",
       "kargs": {
        "inplace": true
       }
      },
      {
       "class": "BatchNorm2d",
       "kargs": {
        "num_features": 80
       }
      },
      {
       "class": "Flatten",
       "kargs": {}
      },
      {
       "class": "Linear",
       "kargs": {
        "in_features": 20480,
        "out_features": 256
       }
      },
      {
       "class": "ReLU",
       "kargs": {
        "inplace": true
       }
      },
      {
       "class": "BatchNorm1d",
       "kargs": {
        "num_features": 256
       }
      },
      {
       "class": "Linear",
       "kargs": {
        "in_features": 256,
        "out_features": 256
       }
      }
     ]
    }
   },
   "start_time": "2022-03-22T18:27:34.631938",
   "version": "2.3.4"
  }
 },
 "nbformat": 4,
 "nbformat_minor": 5
}