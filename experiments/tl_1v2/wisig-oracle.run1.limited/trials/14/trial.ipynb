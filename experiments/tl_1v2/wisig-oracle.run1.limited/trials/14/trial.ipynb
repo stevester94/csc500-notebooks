{
 "cells": [
  {
   "cell_type": "markdown",
   "id": "9fea5f46",
   "metadata": {
    "papermill": {
     "duration": 0.0287,
     "end_time": "2022-03-22T23:51:58.795323",
     "exception": false,
     "start_time": "2022-03-22T23:51:58.766623",
     "status": "completed"
    },
    "tags": []
   },
   "source": [
    "# Transfer Learning Template"
   ]
  },
  {
   "cell_type": "code",
   "execution_count": 1,
   "id": "0902182a",
   "metadata": {
    "execution": {
     "iopub.execute_input": "2022-03-22T23:51:58.857962Z",
     "iopub.status.busy": "2022-03-22T23:51:58.857114Z",
     "iopub.status.idle": "2022-03-22T23:52:00.821098Z",
     "shell.execute_reply": "2022-03-22T23:52:00.820583Z"
    },
    "papermill": {
     "duration": 2.00213,
     "end_time": "2022-03-22T23:52:00.821204",
     "exception": false,
     "start_time": "2022-03-22T23:51:58.819074",
     "status": "completed"
    },
    "tags": []
   },
   "outputs": [],
   "source": [
    "%load_ext autoreload\n",
    "%autoreload 2\n",
    "%matplotlib inline\n",
    "\n",
    "    \n",
    "import os, json, sys, time, random\n",
    "import numpy as np\n",
    "import torch\n",
    "from torch.optim import Adam\n",
    "from  easydict import EasyDict\n",
    "import matplotlib.pyplot as plt\n",
    "\n",
    "from steves_models.steves_ptn import Steves_Prototypical_Network\n",
    "\n",
    "from steves_utils.lazy_iterable_wrapper import Lazy_Iterable_Wrapper\n",
    "from steves_utils.iterable_aggregator import Iterable_Aggregator\n",
    "from steves_utils.ptn_train_eval_test_jig import  PTN_Train_Eval_Test_Jig\n",
    "from steves_utils.torch_sequential_builder import build_sequential\n",
    "from steves_utils.torch_utils import get_dataset_metrics, ptn_confusion_by_domain_over_dataloader\n",
    "from steves_utils.utils_v2 import (per_domain_accuracy_from_confusion, get_datasets_base_path)\n",
    "from steves_utils.PTN.utils import independent_accuracy_assesment\n",
    "\n",
    "from torch.utils.data import DataLoader\n",
    "\n",
    "from steves_utils.stratified_dataset.episodic_accessor import Episodic_Accessor_Factory\n",
    "\n",
    "from steves_utils.ptn_do_report import (\n",
    "    get_loss_curve,\n",
    "    get_results_table,\n",
    "    get_parameters_table,\n",
    "    get_domain_accuracies,\n",
    ")\n",
    "\n",
    "from steves_utils.transforms import get_chained_transform"
   ]
  },
  {
   "cell_type": "markdown",
   "id": "41c840b4",
   "metadata": {
    "papermill": {
     "duration": 0.019339,
     "end_time": "2022-03-22T23:52:00.860303",
     "exception": false,
     "start_time": "2022-03-22T23:52:00.840964",
     "status": "completed"
    },
    "tags": []
   },
   "source": [
    "# Allowed Parameters\n",
    "These are allowed parameters, not defaults\n",
    "Each of these values need to be present in the injected parameters (the notebook will raise an exception if they are not present)\n",
    "\n",
    "Papermill uses the cell tag \"parameters\" to inject the real parameters below this cell.\n",
    "Enable tags to see what I mean"
   ]
  },
  {
   "cell_type": "code",
   "execution_count": 2,
   "id": "fd44eb83",
   "metadata": {
    "execution": {
     "iopub.execute_input": "2022-03-22T23:52:00.905903Z",
     "iopub.status.busy": "2022-03-22T23:52:00.905411Z",
     "iopub.status.idle": "2022-03-22T23:52:00.927590Z",
     "shell.execute_reply": "2022-03-22T23:52:00.927215Z"
    },
    "papermill": {
     "duration": 0.047575,
     "end_time": "2022-03-22T23:52:00.927661",
     "exception": false,
     "start_time": "2022-03-22T23:52:00.880086",
     "status": "completed"
    },
    "tags": []
   },
   "outputs": [],
   "source": [
    "required_parameters = {\n",
    "    \"experiment_name\",\n",
    "    \"lr\",\n",
    "    \"device\",\n",
    "    \"seed\",\n",
    "    \"dataset_seed\",\n",
    "    \"n_shot\",\n",
    "    \"n_query\",\n",
    "    \"n_way\",\n",
    "    \"train_k_factor\",\n",
    "    \"val_k_factor\",\n",
    "    \"test_k_factor\",\n",
    "    \"n_epoch\",\n",
    "    \"patience\",\n",
    "    \"criteria_for_best\",\n",
    "    \"x_net\",\n",
    "    \"datasets\",\n",
    "    \"torch_default_dtype\",\n",
    "    \"NUM_LOGS_PER_EPOCH\",\n",
    "    \"BEST_MODEL_PATH\",\n",
    "    \"x_shape\",\n",
    "}"
   ]
  },
  {
   "cell_type": "code",
   "execution_count": 3,
   "id": "fa3f0049",
   "metadata": {
    "execution": {
     "iopub.execute_input": "2022-03-22T23:52:00.977035Z",
     "iopub.status.busy": "2022-03-22T23:52:00.976616Z",
     "iopub.status.idle": "2022-03-22T23:52:00.998200Z",
     "shell.execute_reply": "2022-03-22T23:52:00.997835Z"
    },
    "papermill": {
     "duration": 0.05073,
     "end_time": "2022-03-22T23:52:00.998269",
     "exception": false,
     "start_time": "2022-03-22T23:52:00.947539",
     "status": "completed"
    },
    "tags": [
     "parameters"
    ]
   },
   "outputs": [],
   "source": [
    "from steves_utils.CORES.utils import (\n",
    "    ALL_NODES,\n",
    "    ALL_NODES_MINIMUM_1000_EXAMPLES,\n",
    "    ALL_DAYS\n",
    ")\n",
    "\n",
    "from steves_utils.ORACLE.utils_v2 import (\n",
    "    ALL_DISTANCES_FEET_NARROWED,\n",
    "    ALL_RUNS,\n",
    "    ALL_SERIAL_NUMBERS,\n",
    ")\n",
    "\n",
    "standalone_parameters = {}\n",
    "standalone_parameters[\"experiment_name\"] = \"STANDALONE PTN\"\n",
    "standalone_parameters[\"lr\"] = 0.001\n",
    "standalone_parameters[\"device\"] = \"cuda\"\n",
    "\n",
    "standalone_parameters[\"seed\"] = 1337\n",
    "standalone_parameters[\"dataset_seed\"] = 1337\n",
    "\n",
    "standalone_parameters[\"n_way\"] = 8\n",
    "standalone_parameters[\"n_shot\"] = 3\n",
    "standalone_parameters[\"n_query\"]  = 2\n",
    "standalone_parameters[\"train_k_factor\"] = 1\n",
    "standalone_parameters[\"val_k_factor\"] = 2\n",
    "standalone_parameters[\"test_k_factor\"] = 2\n",
    "\n",
    "\n",
    "standalone_parameters[\"n_epoch\"] = 50\n",
    "\n",
    "standalone_parameters[\"patience\"] = 10\n",
    "standalone_parameters[\"criteria_for_best\"] = \"source_loss\"\n",
    "\n",
    "standalone_parameters[\"datasets\"] = [\n",
    "    {\n",
    "        \"labels\": ALL_SERIAL_NUMBERS,\n",
    "        \"domains\": ALL_DISTANCES_FEET_NARROWED,\n",
    "        \"num_examples_per_domain_per_label\": 100,\n",
    "        \"pickle_path\": os.path.join(get_datasets_base_path(), \"oracle.Run1_framed_2000Examples_stratified_ds.2022A.pkl\"),\n",
    "        \"source_or_target_dataset\": \"source\",\n",
    "        \"x_transforms\": [\"unit_mag\", \"minus_two\"],\n",
    "        \"episode_transforms\": [],\n",
    "        \"domain_prefix\": \"ORACLE_\"\n",
    "    },\n",
    "    {\n",
    "        \"labels\": ALL_NODES,\n",
    "        \"domains\": ALL_DAYS,\n",
    "        \"num_examples_per_domain_per_label\": 100,\n",
    "        \"pickle_path\": os.path.join(get_datasets_base_path(), \"cores.stratified_ds.2022A.pkl\"),\n",
    "        \"source_or_target_dataset\": \"target\",\n",
    "        \"x_transforms\": [\"unit_power\", \"times_zero\"],\n",
    "        \"episode_transforms\": [],\n",
    "        \"domain_prefix\": \"CORES_\"\n",
    "    }   \n",
    "]\n",
    "\n",
    "standalone_parameters[\"torch_default_dtype\"] = \"torch.float32\" \n",
    "\n",
    "\n",
    "\n",
    "standalone_parameters[\"x_net\"] =     [\n",
    "    {\"class\": \"nnReshape\", \"kargs\": {\"shape\":[-1, 1, 2, 256]}},\n",
    "    {\"class\": \"Conv2d\", \"kargs\": { \"in_channels\":1, \"out_channels\":256, \"kernel_size\":(1,7), \"bias\":False, \"padding\":(0,3), },},\n",
    "    {\"class\": \"ReLU\", \"kargs\": {\"inplace\": True}},\n",
    "    {\"class\": \"BatchNorm2d\", \"kargs\": {\"num_features\":256}},\n",
    "\n",
    "    {\"class\": \"Conv2d\", \"kargs\": { \"in_channels\":256, \"out_channels\":80, \"kernel_size\":(2,7), \"bias\":True, \"padding\":(0,3), },},\n",
    "    {\"class\": \"ReLU\", \"kargs\": {\"inplace\": True}},\n",
    "    {\"class\": \"BatchNorm2d\", \"kargs\": {\"num_features\":80}},\n",
    "    {\"class\": \"Flatten\", \"kargs\": {}},\n",
    "\n",
    "    {\"class\": \"Linear\", \"kargs\": {\"in_features\": 80*256, \"out_features\": 256}}, # 80 units per IQ pair\n",
    "    {\"class\": \"ReLU\", \"kargs\": {\"inplace\": True}},\n",
    "    {\"class\": \"BatchNorm1d\", \"kargs\": {\"num_features\":256}},\n",
    "\n",
    "    {\"class\": \"Linear\", \"kargs\": {\"in_features\": 256, \"out_features\": 256}},\n",
    "]\n",
    "\n",
    "# Parameters relevant to results\n",
    "# These parameters will basically never need to change\n",
    "standalone_parameters[\"NUM_LOGS_PER_EPOCH\"] = 10\n",
    "standalone_parameters[\"BEST_MODEL_PATH\"] = \"./best_model.pth\"\n",
    "\n",
    "\n",
    "\n",
    "\n"
   ]
  },
  {
   "cell_type": "code",
   "execution_count": 4,
   "id": "41b643b5",
   "metadata": {
    "execution": {
     "iopub.execute_input": "2022-03-22T23:52:01.055679Z",
     "iopub.status.busy": "2022-03-22T23:52:01.051394Z",
     "iopub.status.idle": "2022-03-22T23:52:01.076566Z",
     "shell.execute_reply": "2022-03-22T23:52:01.076203Z"
    },
    "papermill": {
     "duration": 0.058534,
     "end_time": "2022-03-22T23:52:01.076635",
     "exception": false,
     "start_time": "2022-03-22T23:52:01.018101",
     "status": "completed"
    },
    "tags": [
     "injected-parameters"
    ]
   },
   "outputs": [],
   "source": [
    "# Parameters\n",
    "parameters = {\n",
    "    \"experiment_name\": \"tl_1v2:wisig-oracle.run1.limited\",\n",
    "    \"device\": \"cuda\",\n",
    "    \"lr\": 0.0001,\n",
    "    \"n_shot\": 3,\n",
    "    \"n_query\": 2,\n",
    "    \"train_k_factor\": 3,\n",
    "    \"val_k_factor\": 2,\n",
    "    \"test_k_factor\": 2,\n",
    "    \"torch_default_dtype\": \"torch.float32\",\n",
    "    \"n_epoch\": 50,\n",
    "    \"patience\": 3,\n",
    "    \"criteria_for_best\": \"target_accuracy\",\n",
    "    \"x_net\": [\n",
    "        {\"class\": \"nnReshape\", \"kargs\": {\"shape\": [-1, 1, 2, 256]}},\n",
    "        {\n",
    "            \"class\": \"Conv2d\",\n",
    "            \"kargs\": {\n",
    "                \"in_channels\": 1,\n",
    "                \"out_channels\": 256,\n",
    "                \"kernel_size\": [1, 7],\n",
    "                \"bias\": False,\n",
    "                \"padding\": [0, 3],\n",
    "            },\n",
    "        },\n",
    "        {\"class\": \"ReLU\", \"kargs\": {\"inplace\": True}},\n",
    "        {\"class\": \"BatchNorm2d\", \"kargs\": {\"num_features\": 256}},\n",
    "        {\n",
    "            \"class\": \"Conv2d\",\n",
    "            \"kargs\": {\n",
    "                \"in_channels\": 256,\n",
    "                \"out_channels\": 80,\n",
    "                \"kernel_size\": [2, 7],\n",
    "                \"bias\": True,\n",
    "                \"padding\": [0, 3],\n",
    "            },\n",
    "        },\n",
    "        {\"class\": \"ReLU\", \"kargs\": {\"inplace\": True}},\n",
    "        {\"class\": \"BatchNorm2d\", \"kargs\": {\"num_features\": 80}},\n",
    "        {\"class\": \"Flatten\", \"kargs\": {}},\n",
    "        {\"class\": \"Linear\", \"kargs\": {\"in_features\": 20480, \"out_features\": 256}},\n",
    "        {\"class\": \"ReLU\", \"kargs\": {\"inplace\": True}},\n",
    "        {\"class\": \"BatchNorm1d\", \"kargs\": {\"num_features\": 256}},\n",
    "        {\"class\": \"Linear\", \"kargs\": {\"in_features\": 256, \"out_features\": 256}},\n",
    "    ],\n",
    "    \"NUM_LOGS_PER_EPOCH\": 10,\n",
    "    \"BEST_MODEL_PATH\": \"./best_model.pth\",\n",
    "    \"n_way\": 16,\n",
    "    \"datasets\": [\n",
    "        {\n",
    "            \"labels\": [\n",
    "                \"1-10\",\n",
    "                \"1-12\",\n",
    "                \"1-14\",\n",
    "                \"1-16\",\n",
    "                \"1-18\",\n",
    "                \"1-19\",\n",
    "                \"1-8\",\n",
    "                \"10-11\",\n",
    "                \"10-17\",\n",
    "                \"10-4\",\n",
    "                \"10-7\",\n",
    "                \"11-1\",\n",
    "                \"11-10\",\n",
    "                \"11-19\",\n",
    "                \"11-20\",\n",
    "                \"11-4\",\n",
    "                \"11-7\",\n",
    "                \"12-19\",\n",
    "                \"12-20\",\n",
    "                \"12-7\",\n",
    "                \"13-14\",\n",
    "                \"13-18\",\n",
    "                \"13-19\",\n",
    "                \"13-20\",\n",
    "                \"13-3\",\n",
    "                \"13-7\",\n",
    "                \"14-10\",\n",
    "                \"14-11\",\n",
    "                \"14-12\",\n",
    "                \"14-13\",\n",
    "                \"14-14\",\n",
    "                \"14-19\",\n",
    "                \"14-20\",\n",
    "                \"14-7\",\n",
    "                \"14-8\",\n",
    "                \"14-9\",\n",
    "                \"15-1\",\n",
    "                \"15-19\",\n",
    "                \"15-6\",\n",
    "                \"16-1\",\n",
    "                \"16-16\",\n",
    "                \"16-19\",\n",
    "                \"16-20\",\n",
    "                \"17-10\",\n",
    "                \"17-11\",\n",
    "                \"18-1\",\n",
    "                \"18-10\",\n",
    "                \"18-11\",\n",
    "                \"18-12\",\n",
    "                \"18-13\",\n",
    "                \"18-14\",\n",
    "                \"18-15\",\n",
    "                \"18-16\",\n",
    "                \"18-17\",\n",
    "                \"18-19\",\n",
    "                \"18-2\",\n",
    "                \"18-20\",\n",
    "                \"18-4\",\n",
    "                \"18-5\",\n",
    "                \"18-7\",\n",
    "                \"18-8\",\n",
    "                \"18-9\",\n",
    "                \"19-1\",\n",
    "                \"19-10\",\n",
    "                \"19-11\",\n",
    "                \"19-12\",\n",
    "                \"19-13\",\n",
    "                \"19-14\",\n",
    "                \"19-15\",\n",
    "                \"19-19\",\n",
    "                \"19-2\",\n",
    "                \"19-20\",\n",
    "                \"19-3\",\n",
    "                \"19-4\",\n",
    "                \"19-6\",\n",
    "                \"19-7\",\n",
    "                \"19-8\",\n",
    "                \"19-9\",\n",
    "                \"2-1\",\n",
    "                \"2-13\",\n",
    "                \"2-15\",\n",
    "                \"2-3\",\n",
    "                \"2-4\",\n",
    "                \"2-5\",\n",
    "                \"2-6\",\n",
    "                \"2-7\",\n",
    "                \"2-8\",\n",
    "                \"20-1\",\n",
    "                \"20-12\",\n",
    "                \"20-14\",\n",
    "                \"20-15\",\n",
    "                \"20-16\",\n",
    "                \"20-18\",\n",
    "                \"20-19\",\n",
    "                \"20-20\",\n",
    "                \"20-3\",\n",
    "                \"20-4\",\n",
    "                \"20-5\",\n",
    "                \"20-7\",\n",
    "                \"20-8\",\n",
    "                \"3-1\",\n",
    "                \"3-13\",\n",
    "                \"3-18\",\n",
    "                \"3-2\",\n",
    "                \"3-8\",\n",
    "                \"4-1\",\n",
    "                \"4-10\",\n",
    "                \"4-11\",\n",
    "                \"5-1\",\n",
    "                \"5-5\",\n",
    "                \"6-1\",\n",
    "                \"6-15\",\n",
    "                \"6-6\",\n",
    "                \"7-10\",\n",
    "                \"7-11\",\n",
    "                \"7-12\",\n",
    "                \"7-13\",\n",
    "                \"7-14\",\n",
    "                \"7-7\",\n",
    "                \"7-8\",\n",
    "                \"7-9\",\n",
    "                \"8-1\",\n",
    "                \"8-13\",\n",
    "                \"8-14\",\n",
    "                \"8-18\",\n",
    "                \"8-20\",\n",
    "                \"8-3\",\n",
    "                \"8-8\",\n",
    "                \"9-1\",\n",
    "                \"9-7\",\n",
    "            ],\n",
    "            \"domains\": [1, 2, 3, 4],\n",
    "            \"num_examples_per_domain_per_label\": -1,\n",
    "            \"pickle_path\": \"/root/csc500-main/datasets/wisig.node3-19.stratified_ds.2022A.pkl\",\n",
    "            \"source_or_target_dataset\": \"source\",\n",
    "            \"x_transforms\": [],\n",
    "            \"episode_transforms\": [],\n",
    "            \"domain_prefix\": \"Wisig_\",\n",
    "        },\n",
    "        {\n",
    "            \"labels\": [\n",
    "                \"3123D52\",\n",
    "                \"3123D65\",\n",
    "                \"3123D79\",\n",
    "                \"3123D80\",\n",
    "                \"3123D54\",\n",
    "                \"3123D70\",\n",
    "                \"3123D7B\",\n",
    "                \"3123D89\",\n",
    "                \"3123D58\",\n",
    "                \"3123D76\",\n",
    "                \"3123D7D\",\n",
    "                \"3123EFE\",\n",
    "                \"3123D64\",\n",
    "                \"3123D78\",\n",
    "                \"3123D7E\",\n",
    "                \"3124E4A\",\n",
    "            ],\n",
    "            \"domains\": [32, 38, 8, 44, 14, 50, 20, 26],\n",
    "            \"num_examples_per_domain_per_label\": 2000,\n",
    "            \"pickle_path\": \"/root/csc500-main/datasets/oracle.Run1_10kExamples_stratified_ds.2022A.pkl\",\n",
    "            \"source_or_target_dataset\": \"target\",\n",
    "            \"x_transforms\": [],\n",
    "            \"episode_transforms\": [],\n",
    "            \"domain_prefix\": \"ORACLE.run1\",\n",
    "        },\n",
    "    ],\n",
    "    \"dataset_seed\": 154325,\n",
    "    \"seed\": 154325,\n",
    "}\n"
   ]
  },
  {
   "cell_type": "code",
   "execution_count": 5,
   "id": "8fa1cc33",
   "metadata": {
    "execution": {
     "iopub.execute_input": "2022-03-22T23:52:01.121248Z",
     "iopub.status.busy": "2022-03-22T23:52:01.120425Z",
     "iopub.status.idle": "2022-03-22T23:52:01.139874Z",
     "shell.execute_reply": "2022-03-22T23:52:01.139501Z"
    },
    "papermill": {
     "duration": 0.043182,
     "end_time": "2022-03-22T23:52:01.139943",
     "exception": false,
     "start_time": "2022-03-22T23:52:01.096761",
     "status": "completed"
    },
    "tags": []
   },
   "outputs": [],
   "source": [
    "# Set this to True if you want to run this template directly\n",
    "STANDALONE = False\n",
    "if STANDALONE:\n",
    "    print(\"parameters not injected, running with standalone_parameters\")\n",
    "    parameters = standalone_parameters\n",
    "\n",
    "if not 'parameters' in locals() and not 'parameters' in globals():\n",
    "    raise Exception(\"Parameter injection failed\")\n",
    "\n",
    "#Use an easy dict for all the parameters\n",
    "p = EasyDict(parameters)\n",
    "\n",
    "if \"x_shape\" not in p:\n",
    "    p.x_shape = [2,256] # Default to this if we dont supply x_shape\n",
    "\n",
    "\n",
    "supplied_keys = set(p.keys())\n",
    "\n",
    "if  supplied_keys != required_parameters:\n",
    "    print(\"Parameters are incorrect\")\n",
    "    if len(supplied_keys - required_parameters)>0: print(\"Shouldn't have:\", str(supplied_keys - required_parameters))\n",
    "    if len(required_parameters - supplied_keys)>0: print(\"Need to have:\", str(required_parameters - supplied_keys))\n",
    "    raise RuntimeError(\"Parameters are incorrect\")"
   ]
  },
  {
   "cell_type": "code",
   "execution_count": 6,
   "id": "3a028d58",
   "metadata": {
    "execution": {
     "iopub.execute_input": "2022-03-22T23:52:01.182995Z",
     "iopub.status.busy": "2022-03-22T23:52:01.182632Z",
     "iopub.status.idle": "2022-03-22T23:52:01.201504Z",
     "shell.execute_reply": "2022-03-22T23:52:01.201143Z"
    },
    "papermill": {
     "duration": 0.041515,
     "end_time": "2022-03-22T23:52:01.201573",
     "exception": false,
     "start_time": "2022-03-22T23:52:01.160058",
     "status": "completed"
    },
    "tags": []
   },
   "outputs": [],
   "source": [
    "###################################\n",
    "# Set the RNGs and make it all deterministic\n",
    "###################################\n",
    "np.random.seed(p.seed)\n",
    "random.seed(p.seed)\n",
    "torch.manual_seed(p.seed)\n",
    "\n",
    "torch.use_deterministic_algorithms(True) "
   ]
  },
  {
   "cell_type": "code",
   "execution_count": 7,
   "id": "b691acf6",
   "metadata": {
    "execution": {
     "iopub.execute_input": "2022-03-22T23:52:01.246766Z",
     "iopub.status.busy": "2022-03-22T23:52:01.246298Z",
     "iopub.status.idle": "2022-03-22T23:52:01.268981Z",
     "shell.execute_reply": "2022-03-22T23:52:01.269281Z"
    },
    "papermill": {
     "duration": 0.047343,
     "end_time": "2022-03-22T23:52:01.269361",
     "exception": false,
     "start_time": "2022-03-22T23:52:01.222018",
     "status": "completed"
    },
    "tags": []
   },
   "outputs": [],
   "source": [
    "###########################################\n",
    "# The stratified datasets honor this\n",
    "###########################################\n",
    "torch.set_default_dtype(eval(p.torch_default_dtype))"
   ]
  },
  {
   "cell_type": "code",
   "execution_count": 8,
   "id": "b5fba671",
   "metadata": {
    "execution": {
     "iopub.execute_input": "2022-03-22T23:52:01.314543Z",
     "iopub.status.busy": "2022-03-22T23:52:01.314178Z",
     "iopub.status.idle": "2022-03-22T23:52:01.368669Z",
     "shell.execute_reply": "2022-03-22T23:52:01.368307Z"
    },
    "papermill": {
     "duration": 0.079045,
     "end_time": "2022-03-22T23:52:01.368738",
     "exception": false,
     "start_time": "2022-03-22T23:52:01.289693",
     "status": "completed"
    },
    "tags": []
   },
   "outputs": [],
   "source": [
    "###################################\n",
    "# Build the network(s)\n",
    "# Note: It's critical to do this AFTER setting the RNG\n",
    "###################################\n",
    "x_net = build_sequential(p.x_net)"
   ]
  },
  {
   "cell_type": "code",
   "execution_count": 9,
   "id": "5d7e61cc",
   "metadata": {
    "execution": {
     "iopub.execute_input": "2022-03-22T23:52:01.414367Z",
     "iopub.status.busy": "2022-03-22T23:52:01.414007Z",
     "iopub.status.idle": "2022-03-22T23:52:01.436022Z",
     "shell.execute_reply": "2022-03-22T23:52:01.435658Z"
    },
    "papermill": {
     "duration": 0.046431,
     "end_time": "2022-03-22T23:52:01.436090",
     "exception": false,
     "start_time": "2022-03-22T23:52:01.389659",
     "status": "completed"
    },
    "tags": []
   },
   "outputs": [],
   "source": [
    "start_time_secs = time.time()"
   ]
  },
  {
   "cell_type": "code",
   "execution_count": 10,
   "id": "c6b67dfd",
   "metadata": {
    "execution": {
     "iopub.execute_input": "2022-03-22T23:52:01.484077Z",
     "iopub.status.busy": "2022-03-22T23:52:01.483599Z",
     "iopub.status.idle": "2022-03-22T23:52:01.504143Z",
     "shell.execute_reply": "2022-03-22T23:52:01.503779Z"
    },
    "papermill": {
     "duration": 0.047667,
     "end_time": "2022-03-22T23:52:01.504212",
     "exception": false,
     "start_time": "2022-03-22T23:52:01.456545",
     "status": "completed"
    },
    "tags": []
   },
   "outputs": [],
   "source": [
    "p.domains_source = []\n",
    "p.domains_target = []\n",
    "\n",
    "\n",
    "train_original_source = []\n",
    "val_original_source   = []\n",
    "test_original_source  = []\n",
    "\n",
    "train_original_target = []\n",
    "val_original_target   = []\n",
    "test_original_target  = []"
   ]
  },
  {
   "cell_type": "code",
   "execution_count": 11,
   "id": "e3d9c3d3",
   "metadata": {
    "execution": {
     "iopub.execute_input": "2022-03-22T23:52:01.551020Z",
     "iopub.status.busy": "2022-03-22T23:52:01.550613Z",
     "iopub.status.idle": "2022-03-22T23:52:01.570692Z",
     "shell.execute_reply": "2022-03-22T23:52:01.570327Z"
    },
    "papermill": {
     "duration": 0.045623,
     "end_time": "2022-03-22T23:52:01.570761",
     "exception": false,
     "start_time": "2022-03-22T23:52:01.525138",
     "status": "completed"
    },
    "tags": []
   },
   "outputs": [],
   "source": [
    "# global_x_transform_func = lambda x: normalize(x.to(torch.get_default_dtype()), \"unit_power\") # unit_power, unit_mag\n",
    "# global_x_transform_func = lambda x: normalize(x, \"unit_power\") # unit_power, unit_mag"
   ]
  },
  {
   "cell_type": "code",
   "execution_count": 12,
   "id": "acb78fd2",
   "metadata": {
    "execution": {
     "iopub.execute_input": "2022-03-22T23:52:01.618764Z",
     "iopub.status.busy": "2022-03-22T23:52:01.618382Z",
     "iopub.status.idle": "2022-03-22T23:52:01.637259Z",
     "shell.execute_reply": "2022-03-22T23:52:01.636897Z"
    },
    "papermill": {
     "duration": 0.04602,
     "end_time": "2022-03-22T23:52:01.637328",
     "exception": false,
     "start_time": "2022-03-22T23:52:01.591308",
     "status": "completed"
    },
    "tags": []
   },
   "outputs": [],
   "source": [
    "def add_dataset(\n",
    "    labels,\n",
    "    domains,\n",
    "    pickle_path,\n",
    "    x_transforms,\n",
    "    episode_transforms,\n",
    "    domain_prefix,\n",
    "    num_examples_per_domain_per_label,\n",
    "    source_or_target_dataset:str,\n",
    "    iterator_seed=p.seed,\n",
    "    dataset_seed=p.dataset_seed,\n",
    "    n_shot=p.n_shot,\n",
    "    n_way=p.n_way,\n",
    "    n_query=p.n_query,\n",
    "    train_val_test_k_factors=(p.train_k_factor,p.val_k_factor,p.test_k_factor),\n",
    "):\n",
    "   \n",
    "    if x_transforms == []: x_transform = None\n",
    "    else: x_transform = get_chained_transform(x_transforms)\n",
    "    \n",
    "    if episode_transforms == []: episode_transform = None\n",
    "    else: raise Exception(\"episode_transforms not implemented\")\n",
    "    \n",
    "    episode_transform = lambda tup, _prefix=domain_prefix: (_prefix + str(tup[0]), tup[1])\n",
    "\n",
    "\n",
    "    eaf = Episodic_Accessor_Factory(\n",
    "        labels=labels,\n",
    "        domains=domains,\n",
    "        num_examples_per_domain_per_label=num_examples_per_domain_per_label,\n",
    "        iterator_seed=iterator_seed,\n",
    "        dataset_seed=dataset_seed,\n",
    "        n_shot=n_shot,\n",
    "        n_way=n_way,\n",
    "        n_query=n_query,\n",
    "        train_val_test_k_factors=train_val_test_k_factors,\n",
    "        pickle_path=pickle_path,\n",
    "        x_transform_func=x_transform,\n",
    "    )\n",
    "\n",
    "    train, val, test = eaf.get_train(), eaf.get_val(), eaf.get_test()\n",
    "    train = Lazy_Iterable_Wrapper(train, episode_transform)\n",
    "    val = Lazy_Iterable_Wrapper(val, episode_transform)\n",
    "    test = Lazy_Iterable_Wrapper(test, episode_transform)\n",
    "\n",
    "    if source_or_target_dataset==\"source\":\n",
    "        train_original_source.append(train)\n",
    "        val_original_source.append(val)\n",
    "        test_original_source.append(test)\n",
    "\n",
    "        p.domains_source.extend(\n",
    "            [domain_prefix + str(u) for u in domains]\n",
    "        )\n",
    "    elif source_or_target_dataset==\"target\":\n",
    "        train_original_target.append(train)\n",
    "        val_original_target.append(val)\n",
    "        test_original_target.append(test)\n",
    "        p.domains_target.extend(\n",
    "            [domain_prefix + str(u) for u in domains]\n",
    "        )\n",
    "    else:\n",
    "        raise Exception(f\"invalid source_or_target_dataset: {source_or_target_dataset}\")\n",
    "    "
   ]
  },
  {
   "cell_type": "code",
   "execution_count": 13,
   "id": "fe266617",
   "metadata": {
    "execution": {
     "iopub.execute_input": "2022-03-22T23:52:01.681385Z",
     "iopub.status.busy": "2022-03-22T23:52:01.681023Z",
     "iopub.status.idle": "2022-03-22T23:52:08.271065Z",
     "shell.execute_reply": "2022-03-22T23:52:08.270328Z"
    },
    "papermill": {
     "duration": 6.613375,
     "end_time": "2022-03-22T23:52:08.271252",
     "exception": false,
     "start_time": "2022-03-22T23:52:01.657877",
     "status": "completed"
    },
    "tags": []
   },
   "outputs": [],
   "source": [
    "for ds in p.datasets:\n",
    "    add_dataset(**ds)"
   ]
  },
  {
   "cell_type": "code",
   "execution_count": 14,
   "id": "b90d65ac",
   "metadata": {
    "execution": {
     "iopub.execute_input": "2022-03-22T23:52:08.321476Z",
     "iopub.status.busy": "2022-03-22T23:52:08.320912Z",
     "iopub.status.idle": "2022-03-22T23:52:08.343791Z",
     "shell.execute_reply": "2022-03-22T23:52:08.342940Z"
    },
    "papermill": {
     "duration": 0.046719,
     "end_time": "2022-03-22T23:52:08.343948",
     "exception": false,
     "start_time": "2022-03-22T23:52:08.297229",
     "status": "completed"
    },
    "tags": []
   },
   "outputs": [],
   "source": [
    "# from steves_utils.CORES.utils import (\n",
    "#     ALL_NODES,\n",
    "#     ALL_NODES_MINIMUM_1000_EXAMPLES,\n",
    "#     ALL_DAYS\n",
    "# )\n",
    "\n",
    "# add_dataset(\n",
    "#     labels=ALL_NODES,\n",
    "#     domains = ALL_DAYS,\n",
    "#     num_examples_per_domain_per_label=100,\n",
    "#     pickle_path=os.path.join(get_datasets_base_path(), \"cores.stratified_ds.2022A.pkl\"),\n",
    "#     source_or_target_dataset=\"target\",\n",
    "#     x_transform_func=global_x_transform_func,\n",
    "#     domain_modifier=lambda u: f\"cores_{u}\"\n",
    "# )"
   ]
  },
  {
   "cell_type": "code",
   "execution_count": 15,
   "id": "76db484d",
   "metadata": {
    "execution": {
     "iopub.execute_input": "2022-03-22T23:52:08.399861Z",
     "iopub.status.busy": "2022-03-22T23:52:08.398245Z",
     "iopub.status.idle": "2022-03-22T23:52:08.418721Z",
     "shell.execute_reply": "2022-03-22T23:52:08.417912Z"
    },
    "papermill": {
     "duration": 0.045354,
     "end_time": "2022-03-22T23:52:08.418875",
     "exception": false,
     "start_time": "2022-03-22T23:52:08.373521",
     "status": "completed"
    },
    "tags": []
   },
   "outputs": [],
   "source": [
    "# from steves_utils.ORACLE.utils_v2 import (\n",
    "#     ALL_DISTANCES_FEET,\n",
    "#     ALL_RUNS,\n",
    "#     ALL_SERIAL_NUMBERS,\n",
    "# )\n",
    "\n",
    "\n",
    "# add_dataset(\n",
    "#     labels=ALL_SERIAL_NUMBERS,\n",
    "#     domains = list(set(ALL_DISTANCES_FEET) - {2,62}),\n",
    "#     num_examples_per_domain_per_label=100,\n",
    "#     pickle_path=os.path.join(get_datasets_base_path(), \"oracle.Run2_framed_2000Examples_stratified_ds.2022A.pkl\"),\n",
    "#     source_or_target_dataset=\"source\",\n",
    "#     x_transform_func=global_x_transform_func,\n",
    "#     domain_modifier=lambda u: f\"oracle1_{u}\"\n",
    "# )\n"
   ]
  },
  {
   "cell_type": "code",
   "execution_count": 16,
   "id": "97dea9d2",
   "metadata": {
    "execution": {
     "iopub.execute_input": "2022-03-22T23:52:08.483200Z",
     "iopub.status.busy": "2022-03-22T23:52:08.482824Z",
     "iopub.status.idle": "2022-03-22T23:52:08.499684Z",
     "shell.execute_reply": "2022-03-22T23:52:08.498841Z"
    },
    "papermill": {
     "duration": 0.055063,
     "end_time": "2022-03-22T23:52:08.499839",
     "exception": false,
     "start_time": "2022-03-22T23:52:08.444776",
     "status": "completed"
    },
    "tags": []
   },
   "outputs": [],
   "source": [
    "# from steves_utils.ORACLE.utils_v2 import (\n",
    "#     ALL_DISTANCES_FEET,\n",
    "#     ALL_RUNS,\n",
    "#     ALL_SERIAL_NUMBERS,\n",
    "# )\n",
    "\n",
    "\n",
    "# add_dataset(\n",
    "#     labels=ALL_SERIAL_NUMBERS,\n",
    "#     domains = list(set(ALL_DISTANCES_FEET) - {2,62,56}),\n",
    "#     num_examples_per_domain_per_label=100,\n",
    "#     pickle_path=os.path.join(get_datasets_base_path(), \"oracle.Run2_framed_2000Examples_stratified_ds.2022A.pkl\"),\n",
    "#     source_or_target_dataset=\"source\",\n",
    "#     x_transform_func=global_x_transform_func,\n",
    "#     domain_modifier=lambda u: f\"oracle2_{u}\"\n",
    "# )"
   ]
  },
  {
   "cell_type": "code",
   "execution_count": 17,
   "id": "6f289866",
   "metadata": {
    "execution": {
     "iopub.execute_input": "2022-03-22T23:52:08.553893Z",
     "iopub.status.busy": "2022-03-22T23:52:08.552401Z",
     "iopub.status.idle": "2022-03-22T23:52:08.573434Z",
     "shell.execute_reply": "2022-03-22T23:52:08.572628Z"
    },
    "papermill": {
     "duration": 0.046037,
     "end_time": "2022-03-22T23:52:08.573589",
     "exception": false,
     "start_time": "2022-03-22T23:52:08.527552",
     "status": "completed"
    },
    "tags": []
   },
   "outputs": [],
   "source": [
    "# add_dataset(\n",
    "#     labels=list(range(19)),\n",
    "#     domains = [0,1,2],\n",
    "#     num_examples_per_domain_per_label=100,\n",
    "#     pickle_path=os.path.join(get_datasets_base_path(), \"metehan.stratified_ds.2022A.pkl\"),\n",
    "#     source_or_target_dataset=\"target\",\n",
    "#     x_transform_func=global_x_transform_func,\n",
    "#     domain_modifier=lambda u: f\"met_{u}\"\n",
    "# )"
   ]
  },
  {
   "cell_type": "code",
   "execution_count": 18,
   "id": "86a863c3",
   "metadata": {
    "execution": {
     "iopub.execute_input": "2022-03-22T23:52:08.626917Z",
     "iopub.status.busy": "2022-03-22T23:52:08.625105Z",
     "iopub.status.idle": "2022-03-22T23:52:08.646153Z",
     "shell.execute_reply": "2022-03-22T23:52:08.645346Z"
    },
    "papermill": {
     "duration": 0.045739,
     "end_time": "2022-03-22T23:52:08.646308",
     "exception": false,
     "start_time": "2022-03-22T23:52:08.600569",
     "status": "completed"
    },
    "tags": []
   },
   "outputs": [],
   "source": [
    "# # from steves_utils.wisig.utils import (\n",
    "# #     ALL_NODES_MINIMUM_100_EXAMPLES,\n",
    "# #     ALL_NODES_MINIMUM_500_EXAMPLES,\n",
    "# #     ALL_NODES_MINIMUM_1000_EXAMPLES,\n",
    "# #     ALL_DAYS\n",
    "# # )\n",
    "\n",
    "# import steves_utils.wisig.utils as wisig\n",
    "\n",
    "\n",
    "# add_dataset(\n",
    "#     labels=wisig.ALL_NODES_MINIMUM_100_EXAMPLES,\n",
    "#     domains = wisig.ALL_DAYS,\n",
    "#     num_examples_per_domain_per_label=100,\n",
    "#     pickle_path=os.path.join(get_datasets_base_path(), \"wisig.node3-19.stratified_ds.2022A.pkl\"),\n",
    "#     source_or_target_dataset=\"target\",\n",
    "#     x_transform_func=global_x_transform_func,\n",
    "#     domain_modifier=lambda u: f\"wisig_{u}\"\n",
    "# )"
   ]
  },
  {
   "cell_type": "code",
   "execution_count": 19,
   "id": "fd5442bc",
   "metadata": {
    "execution": {
     "iopub.execute_input": "2022-03-22T23:52:08.704922Z",
     "iopub.status.busy": "2022-03-22T23:52:08.704346Z",
     "iopub.status.idle": "2022-03-22T23:52:08.723261Z",
     "shell.execute_reply": "2022-03-22T23:52:08.722455Z"
    },
    "papermill": {
     "duration": 0.049853,
     "end_time": "2022-03-22T23:52:08.723415",
     "exception": false,
     "start_time": "2022-03-22T23:52:08.673562",
     "status": "completed"
    },
    "tags": []
   },
   "outputs": [],
   "source": [
    "###################################\n",
    "# Build the dataset\n",
    "###################################\n",
    "train_original_source = Iterable_Aggregator(train_original_source, p.seed)\n",
    "val_original_source = Iterable_Aggregator(val_original_source, p.seed)\n",
    "test_original_source = Iterable_Aggregator(test_original_source, p.seed)\n",
    "\n",
    "\n",
    "train_original_target = Iterable_Aggregator(train_original_target, p.seed)\n",
    "val_original_target = Iterable_Aggregator(val_original_target, p.seed)\n",
    "test_original_target = Iterable_Aggregator(test_original_target, p.seed)\n",
    "\n",
    "# For CNN We only use X and Y. And we only train on the source.\n",
    "# Properly form the data using a transform lambda and Lazy_Iterable_Wrapper. Finally wrap them in a dataloader\n",
    "\n",
    "transform_lambda = lambda ex: ex[1] # Original is (<domain>, <episode>) so we strip down to episode only\n",
    "\n",
    "train_processed_source = Lazy_Iterable_Wrapper(train_original_source, transform_lambda)\n",
    "val_processed_source   = Lazy_Iterable_Wrapper(val_original_source, transform_lambda)\n",
    "test_processed_source  = Lazy_Iterable_Wrapper(test_original_source, transform_lambda)\n",
    "\n",
    "train_processed_target = Lazy_Iterable_Wrapper(train_original_target, transform_lambda)\n",
    "val_processed_target   = Lazy_Iterable_Wrapper(val_original_target, transform_lambda)\n",
    "test_processed_target  = Lazy_Iterable_Wrapper(test_original_target, transform_lambda)\n",
    "\n",
    "datasets = EasyDict({\n",
    "    \"source\": {\n",
    "        \"original\": {\"train\":train_original_source, \"val\":val_original_source, \"test\":test_original_source},\n",
    "        \"processed\": {\"train\":train_processed_source, \"val\":val_processed_source, \"test\":test_processed_source}\n",
    "    },\n",
    "    \"target\": {\n",
    "        \"original\": {\"train\":train_original_target, \"val\":val_original_target, \"test\":test_original_target},\n",
    "        \"processed\": {\"train\":train_processed_target, \"val\":val_processed_target, \"test\":test_processed_target}\n",
    "    },\n",
    "})"
   ]
  },
  {
   "cell_type": "code",
   "execution_count": 20,
   "id": "5b3c01fc",
   "metadata": {
    "execution": {
     "iopub.execute_input": "2022-03-22T23:52:08.779092Z",
     "iopub.status.busy": "2022-03-22T23:52:08.778719Z",
     "iopub.status.idle": "2022-03-22T23:52:23.423516Z",
     "shell.execute_reply": "2022-03-22T23:52:23.422653Z"
    },
    "papermill": {
     "duration": 14.669846,
     "end_time": "2022-03-22T23:52:23.423723",
     "exception": false,
     "start_time": "2022-03-22T23:52:08.753877",
     "status": "completed"
    },
    "tags": []
   },
   "outputs": [
    {
     "name": "stdout",
     "output_type": "stream",
     "text": [
      "{'Wisig_1', 'Wisig_2', 'Wisig_4', 'Wisig_3'}\n"
     ]
    },
    {
     "name": "stdout",
     "output_type": "stream",
     "text": [
      "{'ORACLE.run114', 'ORACLE.run144', 'ORACLE.run138', 'ORACLE.run18', 'ORACLE.run150', 'ORACLE.run126', 'ORACLE.run120', 'ORACLE.run132'}\n"
     ]
    },
    {
     "name": "stdout",
     "output_type": "stream",
     "text": [
      "tensor([[[-0.0074, -0.0215, -0.0575,  ..., -0.0521, -0.0450,  0.0022],\n",
      "         [-0.0007,  0.0493,  0.0449,  ...,  0.0397, -0.0170, -0.0275]],\n",
      "\n",
      "        [[ 0.0714,  0.0403, -0.0127,  ...,  0.0303,  0.0087, -0.0710],\n",
      "         [-0.0292,  0.0108, -0.0111,  ..., -0.0518,  0.0095,  0.0026]],\n",
      "\n",
      "        [[ 0.0192,  0.0521,  0.0573,  ...,  0.0262, -0.0272, -0.0085],\n",
      "         [ 0.0180,  0.0028,  0.0164,  ...,  0.0459,  0.0259,  0.0057]],\n",
      "\n",
      "        ...,\n",
      "\n",
      "        [[ 0.0159, -0.0259, -0.0235,  ...,  0.0089, -0.0094, -0.0158],\n",
      "         [ 0.0078,  0.0129, -0.0213,  ...,  0.0075, -0.0020, -0.0216]],\n",
      "\n",
      "        [[ 0.0067,  0.0143, -0.0194,  ..., -0.0049,  0.0078, -0.0149],\n",
      "         [-0.0147,  0.0107,  0.0205,  ..., -0.0034,  0.0058,  0.0083]],\n",
      "\n",
      "        [[-0.0067,  0.0143,  0.0092,  ..., -0.0043,  0.0050,  0.0032],\n",
      "         [-0.0073, -0.0131,  0.0213,  ...,  0.0054, -0.0048,  0.0120]]])\n"
     ]
    }
   ],
   "source": [
    "from steves_utils.transforms import get_average_magnitude, get_average_power\n",
    "\n",
    "print(set([u for u,_ in val_original_source]))\n",
    "print(set([u for u,_ in val_original_target]))\n",
    "\n",
    "s_x, s_y, q_x, q_y, _ = next(iter(train_processed_source))\n",
    "print(s_x)\n",
    "\n",
    "# for ds in [\n",
    "#     train_processed_source,\n",
    "#     val_processed_source,\n",
    "#     test_processed_source,\n",
    "#     train_processed_target,\n",
    "#     val_processed_target,\n",
    "#     test_processed_target\n",
    "# ]:\n",
    "#     for s_x, s_y, q_x, q_y, _ in ds:\n",
    "#         for X in (s_x, q_x):\n",
    "#             for x in X:\n",
    "#                 assert np.isclose(get_average_magnitude(x.numpy()), 1.0)\n",
    "#                 assert np.isclose(get_average_power(x.numpy()), 1.0)\n",
    "                "
   ]
  },
  {
   "cell_type": "code",
   "execution_count": 21,
   "id": "bbdacba1",
   "metadata": {
    "execution": {
     "iopub.execute_input": "2022-03-22T23:52:23.482303Z",
     "iopub.status.busy": "2022-03-22T23:52:23.481735Z",
     "iopub.status.idle": "2022-03-22T23:52:23.685203Z",
     "shell.execute_reply": "2022-03-22T23:52:23.684812Z"
    },
    "papermill": {
     "duration": 0.231289,
     "end_time": "2022-03-22T23:52:23.685315",
     "exception": false,
     "start_time": "2022-03-22T23:52:23.454026",
     "status": "completed"
    },
    "tags": []
   },
   "outputs": [
    {
     "name": "stdout",
     "output_type": "stream",
     "text": [
      "(2, 256)\n"
     ]
    }
   ],
   "source": [
    "###################################\n",
    "# Build the model\n",
    "###################################\n",
    "# easfsl only wants a tuple for the shape\n",
    "model = Steves_Prototypical_Network(x_net, device=p.device, x_shape=tuple(p.x_shape))\n",
    "optimizer = Adam(params=model.parameters(), lr=p.lr)"
   ]
  },
  {
   "cell_type": "code",
   "execution_count": 22,
   "id": "22b39ac5",
   "metadata": {
    "execution": {
     "iopub.execute_input": "2022-03-22T23:52:23.736829Z",
     "iopub.status.busy": "2022-03-22T23:52:23.736462Z",
     "iopub.status.idle": "2022-03-23T00:11:17.513521Z",
     "shell.execute_reply": "2022-03-23T00:11:17.513184Z"
    },
    "papermill": {
     "duration": 1133.804918,
     "end_time": "2022-03-23T00:11:17.513605",
     "exception": false,
     "start_time": "2022-03-22T23:52:23.708687",
     "status": "completed"
    },
    "tags": []
   },
   "outputs": [
    {
     "name": "stdout",
     "output_type": "stream",
     "text": [
      "epoch: 1, [batch: 1 / 6847], examples_per_second: 30.8611, train_label_loss: 2.1681, \n"
     ]
    },
    {
     "name": "stdout",
     "output_type": "stream",
     "text": [
      "epoch: 1, [batch: 685 / 6847], examples_per_second: 3879.5399, train_label_loss: 0.2839, \n"
     ]
    },
    {
     "name": "stdout",
     "output_type": "stream",
     "text": [
      "epoch: 1, [batch: 1370 / 6847], examples_per_second: 3956.6285, train_label_loss: 0.2547, \n"
     ]
    },
    {
     "name": "stdout",
     "output_type": "stream",
     "text": [
      "epoch: 1, [batch: 2054 / 6847], examples_per_second: 4004.8412, train_label_loss: 0.0172, \n"
     ]
    },
    {
     "name": "stdout",
     "output_type": "stream",
     "text": [
      "epoch: 1, [batch: 2739 / 6847], examples_per_second: 3887.0254, train_label_loss: 0.0684, \n"
     ]
    },
    {
     "name": "stdout",
     "output_type": "stream",
     "text": [
      "epoch: 1, [batch: 3424 / 6847], examples_per_second: 3863.3255, train_label_loss: 0.3437, \n"
     ]
    },
    {
     "name": "stdout",
     "output_type": "stream",
     "text": [
      "epoch: 1, [batch: 4108 / 6847], examples_per_second: 3929.9554, train_label_loss: 0.1669, \n"
     ]
    },
    {
     "name": "stdout",
     "output_type": "stream",
     "text": [
      "epoch: 1, [batch: 4793 / 6847], examples_per_second: 3873.0698, train_label_loss: 0.1963, \n"
     ]
    },
    {
     "name": "stdout",
     "output_type": "stream",
     "text": [
      "epoch: 1, [batch: 5477 / 6847], examples_per_second: 3869.2372, train_label_loss: 0.0488, \n"
     ]
    },
    {
     "name": "stdout",
     "output_type": "stream",
     "text": [
      "epoch: 1, [batch: 6162 / 6847], examples_per_second: 3888.8845, train_label_loss: 0.1422, \n"
     ]
    },
    {
     "name": "stdout",
     "output_type": "stream",
     "text": [
      "=============================================================\n",
      "epoch: 1, source_val_acc_label: 0.9655, target_val_acc_label: 0.2854, source_val_label_loss: 0.1514, target_val_label_loss: 2.5562, \n",
      "=============================================================\n"
     ]
    },
    {
     "name": "stdout",
     "output_type": "stream",
     "text": [
      "New best\n"
     ]
    },
    {
     "name": "stdout",
     "output_type": "stream",
     "text": [
      "epoch: 2, [batch: 1 / 6848], examples_per_second: 3.8557, train_label_loss: 0.1486, \n"
     ]
    },
    {
     "name": "stdout",
     "output_type": "stream",
     "text": [
      "epoch: 2, [batch: 685 / 6848], examples_per_second: 3999.6172, train_label_loss: 0.0175, \n"
     ]
    },
    {
     "name": "stdout",
     "output_type": "stream",
     "text": [
      "epoch: 2, [batch: 1370 / 6848], examples_per_second: 3978.5041, train_label_loss: 0.0477, \n"
     ]
    },
    {
     "name": "stdout",
     "output_type": "stream",
     "text": [
      "epoch: 2, [batch: 2055 / 6848], examples_per_second: 4183.0804, train_label_loss: 0.0130, \n"
     ]
    },
    {
     "name": "stdout",
     "output_type": "stream",
     "text": [
      "epoch: 2, [batch: 2739 / 6848], examples_per_second: 4248.6366, train_label_loss: 0.2262, \n"
     ]
    },
    {
     "name": "stdout",
     "output_type": "stream",
     "text": [
      "epoch: 2, [batch: 3424 / 6848], examples_per_second: 4230.6497, train_label_loss: 0.1946, \n"
     ]
    },
    {
     "name": "stdout",
     "output_type": "stream",
     "text": [
      "epoch: 2, [batch: 4109 / 6848], examples_per_second: 4419.8209, train_label_loss: 0.0711, \n"
     ]
    },
    {
     "name": "stdout",
     "output_type": "stream",
     "text": [
      "epoch: 2, [batch: 4793 / 6848], examples_per_second: 4554.5995, train_label_loss: 0.4345, \n"
     ]
    },
    {
     "name": "stdout",
     "output_type": "stream",
     "text": [
      "epoch: 2, [batch: 5478 / 6848], examples_per_second: 5024.3125, train_label_loss: 0.0043, \n"
     ]
    },
    {
     "name": "stdout",
     "output_type": "stream",
     "text": [
      "epoch: 2, [batch: 6163 / 6848], examples_per_second: 5021.8420, train_label_loss: 0.0331, \n"
     ]
    },
    {
     "name": "stdout",
     "output_type": "stream",
     "text": [
      "=============================================================\n",
      "epoch: 2, source_val_acc_label: 0.9717, target_val_acc_label: 0.2731, source_val_label_loss: 0.1220, target_val_label_loss: 2.5996, \n",
      "=============================================================\n"
     ]
    },
    {
     "name": "stdout",
     "output_type": "stream",
     "text": [
      "epoch: 3, [batch: 1 / 6841], examples_per_second: 4.0102, train_label_loss: 0.0914, \n"
     ]
    },
    {
     "name": "stdout",
     "output_type": "stream",
     "text": [
      "epoch: 3, [batch: 685 / 6841], examples_per_second: 3848.0270, train_label_loss: 0.0095, \n"
     ]
    },
    {
     "name": "stdout",
     "output_type": "stream",
     "text": [
      "epoch: 3, [batch: 1369 / 6841], examples_per_second: 3823.7561, train_label_loss: 0.3430, \n"
     ]
    },
    {
     "name": "stdout",
     "output_type": "stream",
     "text": [
      "epoch: 3, [batch: 2053 / 6841], examples_per_second: 3966.0587, train_label_loss: 0.1093, \n"
     ]
    },
    {
     "name": "stdout",
     "output_type": "stream",
     "text": [
      "epoch: 3, [batch: 2737 / 6841], examples_per_second: 3897.8765, train_label_loss: 0.0044, \n"
     ]
    },
    {
     "name": "stdout",
     "output_type": "stream",
     "text": [
      "epoch: 3, [batch: 3421 / 6841], examples_per_second: 3939.3044, train_label_loss: 0.4475, \n"
     ]
    },
    {
     "name": "stdout",
     "output_type": "stream",
     "text": [
      "epoch: 3, [batch: 4105 / 6841], examples_per_second: 4022.6398, train_label_loss: 0.0114, \n"
     ]
    },
    {
     "name": "stdout",
     "output_type": "stream",
     "text": [
      "epoch: 3, [batch: 4789 / 6841], examples_per_second: 4001.2623, train_label_loss: 0.1829, \n"
     ]
    },
    {
     "name": "stdout",
     "output_type": "stream",
     "text": [
      "epoch: 3, [batch: 5473 / 6841], examples_per_second: 3953.8856, train_label_loss: 0.5894, \n"
     ]
    },
    {
     "name": "stdout",
     "output_type": "stream",
     "text": [
      "epoch: 3, [batch: 6157 / 6841], examples_per_second: 3917.9073, train_label_loss: 0.0784, \n"
     ]
    },
    {
     "name": "stdout",
     "output_type": "stream",
     "text": [
      "=============================================================\n",
      "epoch: 3, source_val_acc_label: 0.9743, target_val_acc_label: 0.2860, source_val_label_loss: 0.1083, target_val_label_loss: 2.4973, \n",
      "=============================================================\n"
     ]
    },
    {
     "name": "stdout",
     "output_type": "stream",
     "text": [
      "New best\n"
     ]
    },
    {
     "name": "stdout",
     "output_type": "stream",
     "text": [
      "epoch: 4, [batch: 1 / 6852], examples_per_second: 3.8913, train_label_loss: 0.3154, \n"
     ]
    },
    {
     "name": "stdout",
     "output_type": "stream",
     "text": [
      "epoch: 4, [batch: 686 / 6852], examples_per_second: 3950.5620, train_label_loss: 0.2252, \n"
     ]
    },
    {
     "name": "stdout",
     "output_type": "stream",
     "text": [
      "epoch: 4, [batch: 1371 / 6852], examples_per_second: 3945.2805, train_label_loss: 0.1904, \n"
     ]
    },
    {
     "name": "stdout",
     "output_type": "stream",
     "text": [
      "epoch: 4, [batch: 2056 / 6852], examples_per_second: 3886.0926, train_label_loss: 0.0051, \n"
     ]
    },
    {
     "name": "stdout",
     "output_type": "stream",
     "text": [
      "epoch: 4, [batch: 2741 / 6852], examples_per_second: 3892.3125, train_label_loss: 0.0680, \n"
     ]
    },
    {
     "name": "stdout",
     "output_type": "stream",
     "text": [
      "epoch: 4, [batch: 3426 / 6852], examples_per_second: 3989.0291, train_label_loss: 0.0015, \n"
     ]
    },
    {
     "name": "stdout",
     "output_type": "stream",
     "text": [
      "epoch: 4, [batch: 4111 / 6852], examples_per_second: 4032.8950, train_label_loss: 0.0362, \n"
     ]
    },
    {
     "name": "stdout",
     "output_type": "stream",
     "text": [
      "epoch: 4, [batch: 4796 / 6852], examples_per_second: 3988.8921, train_label_loss: 0.0322, \n"
     ]
    },
    {
     "name": "stdout",
     "output_type": "stream",
     "text": [
      "epoch: 4, [batch: 5481 / 6852], examples_per_second: 3996.3253, train_label_loss: 0.0140, \n"
     ]
    },
    {
     "name": "stdout",
     "output_type": "stream",
     "text": [
      "epoch: 4, [batch: 6166 / 6852], examples_per_second: 4089.9014, train_label_loss: 0.1563, \n"
     ]
    },
    {
     "name": "stdout",
     "output_type": "stream",
     "text": [
      "=============================================================\n",
      "epoch: 4, source_val_acc_label: 0.9746, target_val_acc_label: 0.2566, source_val_label_loss: 0.1105, target_val_label_loss: 2.5533, \n",
      "=============================================================\n"
     ]
    },
    {
     "name": "stdout",
     "output_type": "stream",
     "text": [
      "epoch: 5, [batch: 1 / 6838], examples_per_second: 4.0141, train_label_loss: 0.3571, \n"
     ]
    },
    {
     "name": "stdout",
     "output_type": "stream",
     "text": [
      "epoch: 5, [batch: 684 / 6838], examples_per_second: 3882.2705, train_label_loss: 0.0928, \n"
     ]
    },
    {
     "name": "stdout",
     "output_type": "stream",
     "text": [
      "epoch: 5, [batch: 1368 / 6838], examples_per_second: 3927.7953, train_label_loss: 0.1846, \n"
     ]
    },
    {
     "name": "stdout",
     "output_type": "stream",
     "text": [
      "epoch: 5, [batch: 2052 / 6838], examples_per_second: 3944.6707, train_label_loss: 0.0563, \n"
     ]
    },
    {
     "name": "stdout",
     "output_type": "stream",
     "text": [
      "epoch: 5, [batch: 2735 / 6838], examples_per_second: 4003.2931, train_label_loss: 0.0156, \n"
     ]
    },
    {
     "name": "stdout",
     "output_type": "stream",
     "text": [
      "epoch: 5, [batch: 3419 / 6838], examples_per_second: 3939.1184, train_label_loss: 0.4744, \n"
     ]
    },
    {
     "name": "stdout",
     "output_type": "stream",
     "text": [
      "epoch: 5, [batch: 4103 / 6838], examples_per_second: 3940.7503, train_label_loss: 0.0046, \n"
     ]
    },
    {
     "name": "stdout",
     "output_type": "stream",
     "text": [
      "epoch: 5, [batch: 4786 / 6838], examples_per_second: 3901.4429, train_label_loss: 0.0026, \n"
     ]
    },
    {
     "name": "stdout",
     "output_type": "stream",
     "text": [
      "epoch: 5, [batch: 5470 / 6838], examples_per_second: 3893.5934, train_label_loss: 0.0064, \n"
     ]
    },
    {
     "name": "stdout",
     "output_type": "stream",
     "text": [
      "epoch: 5, [batch: 6154 / 6838], examples_per_second: 3877.7818, train_label_loss: 0.1964, \n"
     ]
    },
    {
     "name": "stdout",
     "output_type": "stream",
     "text": [
      "=============================================================\n",
      "epoch: 5, source_val_acc_label: 0.9755, target_val_acc_label: 0.2631, source_val_label_loss: 0.1033, target_val_label_loss: 2.4868, \n",
      "=============================================================\n"
     ]
    },
    {
     "name": "stdout",
     "output_type": "stream",
     "text": [
      "epoch: 6, [batch: 1 / 6843], examples_per_second: 3.9259, train_label_loss: 0.1201, \n"
     ]
    },
    {
     "name": "stdout",
     "output_type": "stream",
     "text": [
      "epoch: 6, [batch: 685 / 6843], examples_per_second: 3916.9354, train_label_loss: 0.0048, \n"
     ]
    },
    {
     "name": "stdout",
     "output_type": "stream",
     "text": [
      "epoch: 6, [batch: 1369 / 6843], examples_per_second: 3921.1038, train_label_loss: 0.0831, \n"
     ]
    },
    {
     "name": "stdout",
     "output_type": "stream",
     "text": [
      "epoch: 6, [batch: 2053 / 6843], examples_per_second: 3992.8289, train_label_loss: 0.0295, \n"
     ]
    },
    {
     "name": "stdout",
     "output_type": "stream",
     "text": [
      "epoch: 6, [batch: 2737 / 6843], examples_per_second: 3951.6972, train_label_loss: 0.0016, \n"
     ]
    },
    {
     "name": "stdout",
     "output_type": "stream",
     "text": [
      "epoch: 6, [batch: 3422 / 6843], examples_per_second: 4017.6874, train_label_loss: 0.0135, \n"
     ]
    },
    {
     "name": "stdout",
     "output_type": "stream",
     "text": [
      "epoch: 6, [batch: 4106 / 6843], examples_per_second: 4068.9361, train_label_loss: 0.0066, \n"
     ]
    },
    {
     "name": "stdout",
     "output_type": "stream",
     "text": [
      "epoch: 6, [batch: 4790 / 6843], examples_per_second: 3998.1545, train_label_loss: 0.3427, \n"
     ]
    },
    {
     "name": "stdout",
     "output_type": "stream",
     "text": [
      "epoch: 6, [batch: 5474 / 6843], examples_per_second: 3981.6133, train_label_loss: 0.0631, \n"
     ]
    },
    {
     "name": "stdout",
     "output_type": "stream",
     "text": [
      "epoch: 6, [batch: 6158 / 6843], examples_per_second: 4076.9366, train_label_loss: 0.0145, \n"
     ]
    },
    {
     "name": "stdout",
     "output_type": "stream",
     "text": [
      "=============================================================\n",
      "epoch: 6, source_val_acc_label: 0.9757, target_val_acc_label: 0.2147, source_val_label_loss: 0.0999, target_val_label_loss: 2.5523, \n",
      "=============================================================\n"
     ]
    },
    {
     "name": "stdout",
     "output_type": "stream",
     "text": [
      "epoch: 7, [batch: 1 / 6858], examples_per_second: 4.1753, train_label_loss: 0.0153, \n"
     ]
    },
    {
     "name": "stdout",
     "output_type": "stream",
     "text": [
      "epoch: 7, [batch: 686 / 6858], examples_per_second: 4160.6405, train_label_loss: 0.0613, \n"
     ]
    },
    {
     "name": "stdout",
     "output_type": "stream",
     "text": [
      "epoch: 7, [batch: 1372 / 6858], examples_per_second: 4586.2947, train_label_loss: 0.0057, \n"
     ]
    },
    {
     "name": "stdout",
     "output_type": "stream",
     "text": [
      "epoch: 7, [batch: 2058 / 6858], examples_per_second: 4530.4784, train_label_loss: 0.0008, \n"
     ]
    },
    {
     "name": "stdout",
     "output_type": "stream",
     "text": [
      "epoch: 7, [batch: 2743 / 6858], examples_per_second: 4920.1560, train_label_loss: 0.1284, \n"
     ]
    },
    {
     "name": "stdout",
     "output_type": "stream",
     "text": [
      "epoch: 7, [batch: 3429 / 6858], examples_per_second: 4959.3758, train_label_loss: 0.0144, \n"
     ]
    },
    {
     "name": "stdout",
     "output_type": "stream",
     "text": [
      "epoch: 7, [batch: 4115 / 6858], examples_per_second: 4105.3246, train_label_loss: 0.0140, \n"
     ]
    },
    {
     "name": "stdout",
     "output_type": "stream",
     "text": [
      "epoch: 7, [batch: 4800 / 6858], examples_per_second: 3967.8202, train_label_loss: 0.0292, \n"
     ]
    },
    {
     "name": "stdout",
     "output_type": "stream",
     "text": [
      "epoch: 7, [batch: 5486 / 6858], examples_per_second: 4010.7969, train_label_loss: 0.0285, \n"
     ]
    },
    {
     "name": "stdout",
     "output_type": "stream",
     "text": [
      "epoch: 7, [batch: 6172 / 6858], examples_per_second: 4064.2847, train_label_loss: 0.0013, \n"
     ]
    },
    {
     "name": "stdout",
     "output_type": "stream",
     "text": [
      "=============================================================\n",
      "epoch: 7, source_val_acc_label: 0.9761, target_val_acc_label: 0.2123, source_val_label_loss: 0.0950, target_val_label_loss: 2.5427, \n",
      "=============================================================\n"
     ]
    },
    {
     "name": "stdout",
     "output_type": "stream",
     "text": [
      "Patience (3) exhausted\n"
     ]
    }
   ],
   "source": [
    "###################################\n",
    "# train\n",
    "###################################\n",
    "jig = PTN_Train_Eval_Test_Jig(model, p.BEST_MODEL_PATH, p.device)\n",
    "\n",
    "jig.train(\n",
    "    train_iterable=datasets.source.processed.train,\n",
    "    source_val_iterable=datasets.source.processed.val,\n",
    "    target_val_iterable=datasets.target.processed.val,\n",
    "    num_epochs=p.n_epoch,\n",
    "    num_logs_per_epoch=p.NUM_LOGS_PER_EPOCH,\n",
    "    patience=p.patience,\n",
    "    optimizer=optimizer,\n",
    "    criteria_for_best=p.criteria_for_best,\n",
    ")"
   ]
  },
  {
   "cell_type": "code",
   "execution_count": 23,
   "id": "31e8fabf",
   "metadata": {
    "execution": {
     "iopub.execute_input": "2022-03-23T00:11:17.606783Z",
     "iopub.status.busy": "2022-03-23T00:11:17.606227Z",
     "iopub.status.idle": "2022-03-23T00:11:17.639712Z",
     "shell.execute_reply": "2022-03-23T00:11:17.639025Z"
    },
    "papermill": {
     "duration": 0.082946,
     "end_time": "2022-03-23T00:11:17.639869",
     "exception": false,
     "start_time": "2022-03-23T00:11:17.556923",
     "status": "completed"
    },
    "tags": []
   },
   "outputs": [],
   "source": [
    "total_experiment_time_secs = time.time() - start_time_secs"
   ]
  },
  {
   "cell_type": "code",
   "execution_count": 24,
   "id": "87b9595b",
   "metadata": {
    "execution": {
     "iopub.execute_input": "2022-03-23T00:11:17.739108Z",
     "iopub.status.busy": "2022-03-23T00:11:17.738689Z",
     "iopub.status.idle": "2022-03-23T00:14:10.420079Z",
     "shell.execute_reply": "2022-03-23T00:14:10.420587Z"
    },
    "papermill": {
     "duration": 172.732682,
     "end_time": "2022-03-23T00:14:10.420757",
     "exception": false,
     "start_time": "2022-03-23T00:11:17.688075",
     "status": "completed"
    },
    "tags": []
   },
   "outputs": [],
   "source": [
    "###################################\n",
    "# Evaluate the model\n",
    "###################################\n",
    "source_test_label_accuracy, source_test_label_loss = jig.test(datasets.source.processed.test)\n",
    "target_test_label_accuracy, target_test_label_loss = jig.test(datasets.target.processed.test)\n",
    "\n",
    "source_val_label_accuracy, source_val_label_loss = jig.test(datasets.source.processed.val)\n",
    "target_val_label_accuracy, target_val_label_loss = jig.test(datasets.target.processed.val)\n",
    "\n",
    "history = jig.get_history()\n",
    "\n",
    "total_epochs_trained = len(history[\"epoch_indices\"])\n",
    "\n",
    "val_dl = Iterable_Aggregator((datasets.source.original.val,datasets.target.original.val))\n",
    "\n",
    "confusion = ptn_confusion_by_domain_over_dataloader(model, p.device, val_dl)\n",
    "per_domain_accuracy = per_domain_accuracy_from_confusion(confusion)\n",
    "\n",
    "# Add a key to per_domain_accuracy for if it was a source domain\n",
    "for domain, accuracy in per_domain_accuracy.items():\n",
    "    per_domain_accuracy[domain] = {\n",
    "        \"accuracy\": accuracy,\n",
    "        \"source?\": domain in p.domains_source\n",
    "    }\n",
    "\n",
    "# Do an independent accuracy assesment JUST TO BE SURE!\n",
    "# _source_test_label_accuracy = independent_accuracy_assesment(model, datasets.source.processed.test, p.device)\n",
    "# _target_test_label_accuracy = independent_accuracy_assesment(model, datasets.target.processed.test, p.device)\n",
    "# _source_val_label_accuracy = independent_accuracy_assesment(model, datasets.source.processed.val, p.device)\n",
    "# _target_val_label_accuracy = independent_accuracy_assesment(model, datasets.target.processed.val, p.device)\n",
    "\n",
    "# assert(_source_test_label_accuracy == source_test_label_accuracy)\n",
    "# assert(_target_test_label_accuracy == target_test_label_accuracy)\n",
    "# assert(_source_val_label_accuracy == source_val_label_accuracy)\n",
    "# assert(_target_val_label_accuracy == target_val_label_accuracy)\n",
    "\n",
    "experiment = {\n",
    "    \"experiment_name\": p.experiment_name,\n",
    "    \"parameters\": dict(p),\n",
    "    \"results\": {\n",
    "        \"source_test_label_accuracy\": source_test_label_accuracy,\n",
    "        \"source_test_label_loss\": source_test_label_loss,\n",
    "        \"target_test_label_accuracy\": target_test_label_accuracy,\n",
    "        \"target_test_label_loss\": target_test_label_loss,\n",
    "        \"source_val_label_accuracy\": source_val_label_accuracy,\n",
    "        \"source_val_label_loss\": source_val_label_loss,\n",
    "        \"target_val_label_accuracy\": target_val_label_accuracy,\n",
    "        \"target_val_label_loss\": target_val_label_loss,\n",
    "        \"total_epochs_trained\": total_epochs_trained,\n",
    "        \"total_experiment_time_secs\": total_experiment_time_secs,\n",
    "        \"confusion\": confusion,\n",
    "        \"per_domain_accuracy\": per_domain_accuracy,\n",
    "    },\n",
    "    \"history\": history,\n",
    "    \"dataset_metrics\": get_dataset_metrics(datasets, \"ptn\"),\n",
    "}"
   ]
  },
  {
   "cell_type": "code",
   "execution_count": 25,
   "id": "54a21829",
   "metadata": {
    "execution": {
     "iopub.execute_input": "2022-03-23T00:14:10.518106Z",
     "iopub.status.busy": "2022-03-23T00:14:10.517543Z",
     "iopub.status.idle": "2022-03-23T00:14:10.739446Z",
     "shell.execute_reply": "2022-03-23T00:14:10.738644Z"
    },
    "papermill": {
     "duration": 0.270792,
     "end_time": "2022-03-23T00:14:10.739638",
     "exception": false,
     "start_time": "2022-03-23T00:14:10.468846",
     "status": "completed"
    },
    "tags": []
   },
   "outputs": [
    {
     "data": {
      "image/png": "[encoded data removed]",
      "text/plain": [
       "<Figure size 1080x504 with 1 Axes>"
      ]
     },
     "metadata": {
      "needs_background": "light"
     },
     "output_type": "display_data"
    }
   ],
   "source": [
    "ax = get_loss_curve(experiment)\n",
    "plt.show()"
   ]
  },
  {
   "cell_type": "code",
   "execution_count": 26,
   "id": "fd8a0f60",
   "metadata": {
    "execution": {
     "iopub.execute_input": "2022-03-23T00:14:10.841499Z",
     "iopub.status.busy": "2022-03-23T00:14:10.841134Z",
     "iopub.status.idle": "2022-03-23T00:14:11.181268Z",
     "shell.execute_reply": "2022-03-23T00:14:11.181577Z"
    },
    "papermill": {
     "duration": 0.389671,
     "end_time": "2022-03-23T00:14:11.181684",
     "exception": false,
     "start_time": "2022-03-23T00:14:10.792013",
     "status": "completed"
    },
    "tags": []
   },
   "outputs": [
    {
     "data": {
      "text/plain": [
       "<AxesSubplot:title={'center':'Results'}>"
      ]
     },
     "execution_count": 26,
     "metadata": {},
     "output_type": "execute_result"
    },
    {
     "data": {
      "image/png": "[encoded data removed]",
      "text/plain": [
       "<Figure size 1080x504 with 1 Axes>"
      ]
     },
     "metadata": {
      "needs_background": "light"
     },
     "output_type": "display_data"
    }
   ],
   "source": [
    "get_results_table(experiment)"
   ]
  },
  {
   "cell_type": "code",
   "execution_count": 27,
   "id": "cf8dc689",
   "metadata": {
    "execution": {
     "iopub.execute_input": "2022-03-23T00:14:11.280515Z",
     "iopub.status.busy": "2022-03-23T00:14:11.280140Z",
     "iopub.status.idle": "2022-03-23T00:14:11.534290Z",
     "shell.execute_reply": "2022-03-23T00:14:11.533894Z"
    },
    "papermill": {
     "duration": 0.304577,
     "end_time": "2022-03-23T00:14:11.534375",
     "exception": false,
     "start_time": "2022-03-23T00:14:11.229798",
     "status": "completed"
    },
    "tags": []
   },
   "outputs": [
    {
     "data": {
      "text/plain": [
       "<AxesSubplot:title={'center':'Per Domain Validation Accuracy'}, xlabel='domain'>"
      ]
     },
     "execution_count": 27,
     "metadata": {},
     "output_type": "execute_result"
    },
    {
     "data": {
      "image/png": "[encoded data removed]",
      "text/plain": [
       "<Figure size 1080x504 with 1 Axes>"
      ]
     },
     "metadata": {
      "needs_background": "light"
     },
     "output_type": "display_data"
    }
   ],
   "source": [
    "get_domain_accuracies(experiment)"
   ]
  },
  {
   "cell_type": "code",
   "execution_count": 28,
   "id": "a74ae082",
   "metadata": {
    "execution": {
     "iopub.execute_input": "2022-03-23T00:14:11.636485Z",
     "iopub.status.busy": "2022-03-23T00:14:11.636077Z",
     "iopub.status.idle": "2022-03-23T00:14:11.661234Z",
     "shell.execute_reply": "2022-03-23T00:14:11.660866Z"
    },
    "papermill": {
     "duration": 0.077398,
     "end_time": "2022-03-23T00:14:11.661304",
     "exception": false,
     "start_time": "2022-03-23T00:14:11.583906",
     "status": "completed"
    },
    "tags": []
   },
   "outputs": [
    {
     "name": "stdout",
     "output_type": "stream",
     "text": [
      "Source Test Label Accuracy: 0.97353515625 Target Test Label Accuracy: 0.2828125\n",
      "Source Val Label Accuracy: 0.9742841993637328 Target Val Label Accuracy: 0.2859700520833333\n"
     ]
    }
   ],
   "source": [
    "print(\"Source Test Label Accuracy:\", experiment[\"results\"][\"source_test_label_accuracy\"], \"Target Test Label Accuracy:\", experiment[\"results\"][\"target_test_label_accuracy\"])\n",
    "print(\"Source Val Label Accuracy:\", experiment[\"results\"][\"source_val_label_accuracy\"], \"Target Val Label Accuracy:\", experiment[\"results\"][\"target_val_label_accuracy\"])"
   ]
  },
  {
   "cell_type": "code",
   "execution_count": 29,
   "id": "dacca602",
   "metadata": {
    "execution": {
     "iopub.execute_input": "2022-03-23T00:14:11.761726Z",
     "iopub.status.busy": "2022-03-23T00:14:11.761304Z",
     "iopub.status.idle": "2022-03-23T00:14:11.783503Z",
     "shell.execute_reply": "2022-03-23T00:14:11.784197Z"
    },
    "papermill": {
     "duration": 0.074163,
     "end_time": "2022-03-23T00:14:11.784380",
     "exception": false,
     "start_time": "2022-03-23T00:14:11.710217",
     "status": "completed"
    },
    "tags": [
     "experiment_json"
    ]
   },
   "outputs": [
    {
     "data": {
      "text/plain": [
       "'{\"experiment_name\": \"tl_1v2:wisig-oracle.run1.limited\", \"parameters\": {\"experiment_name\": \"tl_1v2:wisig-oracle.run1.limited\", \"device\": \"cuda\", \"lr\": 0.0001, \"n_shot\": 3, \"n_query\": 2, \"train_k_factor\": 3, \"val_k_factor\": 2, \"test_k_factor\": 2, \"torch_default_dtype\": \"torch.float32\", \"n_epoch\": 50, \"patience\": 3, \"criteria_for_best\": \"target_accuracy\", \"x_net\": [{\"class\": \"nnReshape\", \"kargs\": {\"shape\": [-1, 1, 2, 256]}}, {\"class\": \"Conv2d\", \"kargs\": {\"in_channels\": 1, \"out_channels\": 256, \"kernel_size\": [1, 7], \"bias\": false, \"padding\": [0, 3]}}, {\"class\": \"ReLU\", \"kargs\": {\"inplace\": true}}, {\"class\": \"BatchNorm2d\", \"kargs\": {\"num_features\": 256}}, {\"class\": \"Conv2d\", \"kargs\": {\"in_channels\": 256, \"out_channels\": 80, \"kernel_size\": [2, 7], \"bias\": true, \"padding\": [0, 3]}}, {\"class\": \"ReLU\", \"kargs\": {\"inplace\": true}}, {\"class\": \"BatchNorm2d\", \"kargs\": {\"num_features\": 80}}, {\"class\": \"Flatten\", \"kargs\": {}}, {\"class\": \"Linear\", \"kargs\": {\"in_features\": 20480, \"out_features\": 256}}, {\"class\": \"ReLU\", \"kargs\": {\"inplace\": true}}, {\"class\": \"BatchNorm1d\", \"kargs\": {\"num_features\": 256}}, {\"class\": \"Linear\", \"kargs\": {\"in_features\": 256, \"out_features\": 256}}], \"NUM_LOGS_PER_EPOCH\": 10, \"BEST_MODEL_PATH\": \"./best_model.pth\", \"n_way\": 16, \"datasets\": [{\"labels\": [\"1-10\", \"1-12\", \"1-14\", \"1-16\", \"1-18\", \"1-19\", \"1-8\", \"10-11\", \"10-17\", \"10-4\", \"10-7\", \"11-1\", \"11-10\", \"11-19\", \"11-20\", \"11-4\", \"11-7\", \"12-19\", \"12-20\", \"12-7\", \"13-14\", \"13-18\", \"13-19\", \"13-20\", \"13-3\", \"13-7\", \"14-10\", \"14-11\", \"14-12\", \"14-13\", \"14-14\", \"14-19\", \"14-20\", \"14-7\", \"14-8\", \"14-9\", \"15-1\", \"15-19\", \"15-6\", \"16-1\", \"16-16\", \"16-19\", \"16-20\", \"17-10\", \"17-11\", \"18-1\", \"18-10\", \"18-11\", \"18-12\", \"18-13\", \"18-14\", \"18-15\", \"18-16\", \"18-17\", \"18-19\", \"18-2\", \"18-20\", \"18-4\", \"18-5\", \"18-7\", \"18-8\", \"18-9\", \"19-1\", \"19-10\", \"19-11\", \"19-12\", \"19-13\", \"19-14\", \"19-15\", \"19-19\", \"19-2\", \"19-20\", \"19-3\", \"19-4\", \"19-6\", \"19-7\", \"19-8\", \"19-9\", \"2-1\", \"2-13\", \"2-15\", \"2-3\", \"2-4\", \"2-5\", \"2-6\", \"2-7\", \"2-8\", \"20-1\", \"20-12\", \"20-14\", \"20-15\", \"20-16\", \"20-18\", \"20-19\", \"20-20\", \"20-3\", \"20-4\", \"20-5\", \"20-7\", \"20-8\", \"3-1\", \"3-13\", \"3-18\", \"3-2\", \"3-8\", \"4-1\", \"4-10\", \"4-11\", \"5-1\", \"5-5\", \"6-1\", \"6-15\", \"6-6\", \"7-10\", \"7-11\", \"7-12\", \"7-13\", \"7-14\", \"7-7\", \"7-8\", \"7-9\", \"8-1\", \"8-13\", \"8-14\", \"8-18\", \"8-20\", \"8-3\", \"8-8\", \"9-1\", \"9-7\"], \"domains\": [1, 2, 3, 4], \"num_examples_per_domain_per_label\": -1, \"pickle_path\": \"/root/csc500-main/datasets/wisig.node3-19.stratified_ds.2022A.pkl\", \"source_or_target_dataset\": \"source\", \"x_transforms\": [], \"episode_transforms\": [], \"domain_prefix\": \"Wisig_\"}, {\"labels\": [\"3123D52\", \"3123D65\", \"3123D79\", \"3123D80\", \"3123D54\", \"3123D70\", \"3123D7B\", \"3123D89\", \"3123D58\", \"3123D76\", \"3123D7D\", \"3123EFE\", \"3123D64\", \"3123D78\", \"3123D7E\", \"3124E4A\"], \"domains\": [32, 38, 8, 44, 14, 50, 20, 26], \"num_examples_per_domain_per_label\": 2000, \"pickle_path\": \"/root/csc500-main/datasets/oracle.Run1_10kExamples_stratified_ds.2022A.pkl\", \"source_or_target_dataset\": \"target\", \"x_transforms\": [], \"episode_transforms\": [], \"domain_prefix\": \"ORACLE.run1\"}], \"dataset_seed\": 154325, \"seed\": 154325, \"x_shape\": [2, 256], \"domains_source\": [\"Wisig_1\", \"Wisig_2\", \"Wisig_3\", \"Wisig_4\"], \"domains_target\": [\"ORACLE.run132\", \"ORACLE.run138\", \"ORACLE.run18\", \"ORACLE.run144\", \"ORACLE.run114\", \"ORACLE.run150\", \"ORACLE.run120\", \"ORACLE.run126\"]}, \"results\": {\"source_test_label_accuracy\": 0.97353515625, \"source_test_label_loss\": 0.1122523695230484, \"target_test_label_accuracy\": 0.2828125, \"target_test_label_loss\": 2.4964799880981445, \"source_val_label_accuracy\": 0.9742841993637328, \"source_val_label_loss\": 0.10834415256977081, \"target_val_label_accuracy\": 0.2859700520833333, \"target_val_label_loss\": 2.4972543716430664, \"total_epochs_trained\": 7, \"total_experiment_time_secs\": 1156.2026810646057, \"confusion\": {\"Wisig_2\": {\"56\": {\"56\": 12}, \"12\": {\"12\": 84, \"94\": 2, \"62\": 1, \"70\": 1}, \"15\": {\"15\": 113, \"55\": 1, \"44\": 1, \"27\": 1}, \"26\": {\"26\": 128, \"105\": 1, \"21\": 1, \"71\": 1, \"4\": 1}, \"82\": {\"82\": 36}, \"9\": {\"9\": 32}, \"49\": {\"49\": 24}, \"55\": {\"55\": 16}, \"102\": {\"102\": 124}, \"85\": {\"85\": 32}, \"73\": {\"73\": 27, \"112\": 1}, \"47\": {\"47\": 10, \"128\": 1, \"111\": 1}, \"20\": {\"20\": 15, \"24\": 1}, \"117\": {\"117\": 112, \"87\": 1, \"21\": 2, \"27\": 1}, \"122\": {\"122\": 133, \"87\": 1, \"103\": 1, \"71\": 1, \"111\": 1, \"5\": 1, \"27\": 2}, \"113\": {\"113\": 70, \"124\": 1, \"95\": 1}, \"87\": {\"21\": 2, \"87\": 104, \"71\": 1, \"69\": 1, \"88\": 1, \"109\": 1, \"0\": 1, \"24\": 1}, \"21\": {\"21\": 45, \"109\": 1, \"31\": 1, \"78\": 1}, \"106\": {\"106\": 115, \"91\": 1, \"70\": 1, \"62\": 2, \"21\": 1}, \"3\": {\"3\": 132, \"88\": 1, \"7\": 1, \"26\": 1, \"62\": 1}, \"126\": {\"126\": 120}, \"41\": {\"41\": 19, \"52\": 1}, \"76\": {\"76\": 16}, \"60\": {\"60\": 28}, \"94\": {\"94\": 58, \"88\": 1, \"62\": 2, \"24\": 1, \"29\": 1, \"36\": 1}, \"50\": {\"50\": 16}, \"97\": {\"97\": 20}, \"115\": {\"115\": 12}, \"38\": {\"38\": 16}, \"43\": {\"43\": 116, \"111\": 2, \"94\": 1, \"106\": 1, \"27\": 1, \"5\": 1, \"39\": 1, \"109\": 1}, \"67\": {\"67\": 16}, \"18\": {\"18\": 121, \"21\": 1, \"0\": 1, \"25\": 1, \"27\": 1, \"4\": 1, \"94\": 1, \"111\": 1}, \"23\": {\"23\": 42, \"43\": 1, \"122\": 1}, \"63\": {\"63\": 20}, \"127\": {\"127\": 119, \"29\": 1, \"62\": 2, \"106\": 1, \"26\": 1}, \"72\": {\"72\": 26, \"77\": 1, \"31\": 1}, \"128\": {\"128\": 23, \"47\": 1}, \"7\": {\"7\": 124, \"88\": 1, \"107\": 1, \"18\": 1, \"33\": 1}, \"108\": {\"108\": 134}, \"16\": {\"16\": 101, \"105\": 1, \"93\": 3, \"24\": 1, \"69\": 1, \"62\": 1, \"84\": 1, \"31\": 1, \"77\": 1, \"21\": 2, \"27\": 1}, \"29\": {\"29\": 32}, \"61\": {\"61\": 19, \"91\": 1}, \"104\": {\"104\": 20}, \"120\": {\"120\": 20}, \"124\": {\"124\": 123, \"125\": 1}, \"34\": {\"34\": 32}, \"84\": {\"84\": 85, \"21\": 1, \"11\": 1, \"33\": 1, \"109\": 2, \"68\": 1, \"98\": 1}, \"103\": {\"103\": 16}, \"100\": {\"100\": 16}, \"40\": {\"40\": 130, \"24\": 2, \"43\": 1, \"21\": 2, \"27\": 1, \"62\": 2, \"4\": 1, \"39\": 1}, \"35\": {\"35\": 12}, \"96\": {\"96\": 20}, \"101\": {\"101\": 119, \"98\": 1}, \"71\": {\"71\": 95, \"107\": 1, \"0\": 1, \"62\": 2, \"105\": 1}, \"81\": {\"81\": 21, \"68\": 1, \"65\": 1, \"52\": 1}, \"74\": {\"74\": 14, \"36\": 1, \"29\": 1}, \"119\": {\"119\": 20}, \"5\": {\"5\": 109, \"17\": 1, \"18\": 2}, \"68\": {\"68\": 16}, \"37\": {\"68\": 1, \"37\": 15}, \"58\": {\"58\": 20}, \"109\": {\"68\": 2, \"109\": 93, \"39\": 1, \"18\": 1, \"24\": 1, \"105\": 1, \"94\": 1}, \"107\": {\"107\": 61, \"21\": 1, \"36\": 1, \"3\": 1}, \"13\": {\"13\": 13, \"94\": 1, \"31\": 1, \"87\": 1}, \"52\": {\"52\": 19, \"124\": 1}, \"77\": {\"77\": 15, \"81\": 1}, \"95\": {\"95\": 36}, \"44\": {\"44\": 100}, \"88\": {\"88\": 114, \"70\": 4, \"24\": 2, \"62\": 1, \"109\": 1}, \"91\": {\"91\": 25, \"28\": 2, \"5\": 1}, \"93\": {\"93\": 135, \"21\": 1, \"4\": 1, \"1\": 1}, \"8\": {\"8\": 121, \"18\": 2, \"26\": 1}, \"1\": {\"1\": 111, \"24\": 1, \"111\": 1, \"36\": 1}, \"45\": {\"45\": 15, \"59\": 1}, \"111\": {\"111\": 124, \"62\": 1, \"21\": 1}, \"116\": {\"116\": 28}, \"48\": {\"48\": 19, \"129\": 1}, \"57\": {\"57\": 18, \"68\": 1, \"24\": 1}, \"10\": {\"10\": 58, \"12\": 1, \"26\": 1}, \"129\": {\"129\": 32}, \"98\": {\"98\": 115, \"26\": 1, \"18\": 1, \"94\": 1}, \"65\": {\"65\": 19, \"68\": 1}, \"6\": {\"6\": 32}, \"75\": {\"75\": 15, \"111\": 1}, \"14\": {\"14\": 46, \"111\": 1, \"0\": 1}, \"30\": {\"30\": 105, \"40\": 1, \"15\": 1, \"93\": 1, \"24\": 1, \"59\": 2, \"39\": 1}, \"83\": {\"83\": 40}, \"69\": {\"69\": 124, \"109\": 1, \"7\": 1, \"68\": 1, \"111\": 1}, \"125\": {\"125\": 146}, \"31\": {\"31\": 20}, \"118\": {\"118\": 67, \"43\": 1}, \"53\": {\"53\": 16}, \"54\": {\"54\": 18, \"59\": 1, \"103\": 1}, \"92\": {\"92\": 28}, \"19\": {\"19\": 28}, \"27\": {\"27\": 63, \"77\": 2, \"36\": 3}, \"17\": {\"17\": 14, \"59\": 1, \"4\": 1}, \"4\": {\"4\": 87, \"16\": 1}, \"36\": {\"27\": 4, \"36\": 118, \"29\": 1, \"24\": 1, \"98\": 1, \"62\": 1, \"108\": 1, \"111\": 1}, \"90\": {\"90\": 131, \"2\": 1, \"15\": 1, \"98\": 1, \"4\": 1, \"125\": 1}, \"64\": {\"64\": 15, \"17\": 1}, \"66\": {\"66\": 19, \"104\": 1}, \"46\": {\"46\": 14, \"16\": 1, \"24\": 1}, \"86\": {\"86\": 32}, \"114\": {\"114\": 108, \"0\": 1, \"62\": 1}, \"32\": {\"74\": 1, \"32\": 33, \"75\": 1, \"88\": 1}, \"78\": {\"78\": 44, \"109\": 3, \"77\": 1}, \"33\": {\"33\": 136, \"111\": 1, \"62\": 1}, \"70\": {\"70\": 112, \"116\": 1, \"88\": 4, \"18\": 1, \"24\": 2, \"69\": 1, \"109\": 1, \"71\": 1, \"62\": 1}, \"0\": {\"0\": 110, \"117\": 1, \"125\": 2, \"69\": 1, \"15\": 2}, \"110\": {\"110\": 38, \"62\": 1, \"107\": 1}, \"2\": {\"2\": 31, \"55\": 1}, \"28\": {\"28\": 18, \"7\": 2}, \"51\": {\"51\": 16, \"75\": 1, \"9\": 3}, \"79\": {\"79\": 16}, \"42\": {\"42\": 28}, \"112\": {\"112\": 16}, \"89\": {\"89\": 36}, \"59\": {\"59\": 15, \"111\": 1}, \"105\": {\"105\": 126, \"24\": 1, \"62\": 1}, \"121\": {\"121\": 35, \"36\": 1}, \"11\": {\"11\": 76, \"111\": 1, \"68\": 1, \"35\": 1, \"94\": 1}, \"99\": {\"99\": 30, \"91\": 1, \"111\": 1}, \"25\": {\"25\": 16}, \"62\": {\"62\": 124, \"94\": 1, \"77\": 1, \"24\": 1, \"4\": 1}, \"123\": {\"123\": 16}, \"24\": {\"24\": 108, \"91\": 1, \"111\": 1, \"62\": 1, \"127\": 1}, \"80\": {\"80\": 16}, \"39\": {\"39\": 86, \"117\": 1, \"109\": 8, \"7\": 1, \"111\": 1, \"88\": 1, \"26\": 1, \"33\": 1}, \"22\": {\"22\": 19, \"111\": 1}}, \"Wisig_4\": {\"32\": {\"32\": 25, \"41\": 1, \"69\": 1, \"82\": 1}, \"22\": {\"22\": 15, \"46\": 1}, \"69\": {\"69\": 113, \"55\": 1, \"24\": 2, \"113\": 1, \"111\": 1, \"70\": 1, \"126\": 1}, \"65\": {\"65\": 12}, \"91\": {\"91\": 24}, \"63\": {\"63\": 16}, \"127\": {\"69\": 2, \"127\": 105, \"55\": 1}, \"11\": {\"11\": 136, \"36\": 1, \"81\": 1}, \"12\": {\"12\": 93, \"82\": 1, \"24\": 2, \"106\": 1, \"5\": 1, \"105\": 1, \"111\": 1}, \"111\": {\"111\": 127, \"126\": 1}, \"53\": {\"53\": 15, \"125\": 1}, \"73\": {\"73\": 23, \"100\": 1}, \"3\": {\"3\": 133, \"21\": 1, \"49\": 1, \"101\": 1}, \"83\": {\"83\": 27, \"19\": 1}, \"88\": {\"88\": 128, \"70\": 2}, \"87\": {\"87\": 131, \"108\": 1}, \"2\": {\"2\": 27, \"1\": 1}, \"86\": {\"86\": 28}, \"16\": {\"16\": 117, \"88\": 1, \"118\": 1, \"39\": 1, \"3\": 1, \"127\": 1}, \"21\": {\"21\": 36, \"88\": 1, \"128\": 1, \"62\": 1, \"51\": 1}, \"96\": {\"96\": 19, \"21\": 1}, \"100\": {\"100\": 20}, \"7\": {\"7\": 118, \"108\": 1, \"109\": 1}, \"75\": {\"75\": 15, \"21\": 1}, \"10\": {\"10\": 115, \"24\": 3, \"111\": 1, \"5\": 1, \"70\": 1, \"1\": 1, \"62\": 1, \"27\": 1}, \"43\": {\"43\": 116, \"103\": 1, \"0\": 1, \"95\": 1, \"14\": 1}, \"92\": {\"92\": 27, \"9\": 1}, \"62\": {\"62\": 58, \"40\": 1, \"56\": 1}, \"31\": {\"31\": 16}, \"0\": {\"0\": 112, \"1\": 1, \"122\": 1}, \"45\": {\"45\": 16}, \"85\": {\"85\": 27, \"54\": 1}, \"119\": {\"119\": 16}, \"46\": {\"46\": 20}, \"71\": {\"71\": 102, \"18\": 1, \"109\": 1}, \"8\": {\"8\": 130, \"111\": 2, \"36\": 1, \"109\": 1}, \"118\": {\"118\": 107, \"111\": 1, \"39\": 1, \"36\": 1, \"15\": 1, \"4\": 1}, \"1\": {\"1\": 100, \"34\": 1, \"126\": 1, \"106\": 1, \"111\": 2, \"21\": 1, \"4\": 1, \"101\": 1}, \"38\": {\"38\": 15, \"75\": 1}, \"30\": {\"30\": 70, \"15\": 2, \"127\": 1, \"115\": 1, \"21\": 1, \"126\": 1}, \"66\": {\"66\": 16}, \"9\": {\"9\": 28}, \"5\": {\"5\": 135, \"81\": 1}, \"24\": {\"24\": 117, \"30\": 1, \"36\": 1, \"4\": 1}, \"97\": {\"97\": 19, \"24\": 1}, \"67\": {\"67\": 16}, \"19\": {\"19\": 28}, \"77\": {\"77\": 12}, \"26\": {\"26\": 116, \"111\": 1, \"69\": 1}, \"115\": {\"24\": 1, \"115\": 15}, \"50\": {\"50\": 16}, \"120\": {\"120\": 19, \"45\": 1}, \"102\": {\"102\": 127, \"14\": 1}, \"29\": {\"29\": 32}, \"44\": {\"44\": 64}, \"124\": {\"124\": 117, \"121\": 1}, \"78\": {\"78\": 27, \"17\": 1, \"21\": 2, \"0\": 1, \"62\": 1, \"111\": 2, \"88\": 2}, \"104\": {\"104\": 16}, \"105\": {\"105\": 94, \"40\": 1, \"33\": 2, \"118\": 1, \"101\": 1, \"36\": 1}, \"28\": {\"28\": 20}, \"37\": {\"37\": 16}, \"107\": {\"107\": 128, \"124\": 1, \"3\": 1, \"98\": 1, \"111\": 1}, \"6\": {\"6\": 24}, \"17\": {\"17\": 20}, \"57\": {\"57\": 16}, \"121\": {\"121\": 31, \"21\": 1}, \"58\": {\"58\": 16}, \"64\": {\"64\": 16}, \"82\": {\"82\": 32}, \"39\": {\"39\": 99, \"126\": 1}, \"110\": {\"110\": 116, \"61\": 1, \"16\": 1, \"39\": 1, \"21\": 1, \"50\": 1, \"0\": 1, \"8\": 1, \"88\": 1}, \"114\": {\"114\": 127, \"39\": 1}, \"20\": {\"20\": 16}, \"117\": {\"117\": 114}, \"18\": {\"18\": 119, \"36\": 1}, \"99\": {\"99\": 40}, \"23\": {\"23\": 13, \"51\": 1, \"56\": 1, \"7\": 1}, \"128\": {\"128\": 22, \"101\": 1, \"86\": 1}, \"60\": {\"60\": 32}, \"70\": {\"70\": 113, \"110\": 1, \"11\": 1, \"88\": 2, \"111\": 1, \"27\": 1, \"69\": 1}, \"122\": {\"122\": 80, \"126\": 1, \"18\": 1, \"5\": 1, \"109\": 1}, \"101\": {\"101\": 128, \"7\": 1, \"0\": 1, \"111\": 1, \"105\": 1}, \"33\": {\"33\": 129, \"67\": 1, \"86\": 1, \"124\": 1}, \"40\": {\"40\": 124, \"4\": 2, \"18\": 2, \"69\": 1, \"105\": 1}, \"41\": {\"41\": 14, \"110\": 1, \"21\": 1}, \"59\": {\"59\": 12}, \"4\": {\"4\": 99, \"86\": 1, \"51\": 1, \"39\": 1, \"24\": 1, \"101\": 1}, \"112\": {\"112\": 15, \"42\": 1}, \"36\": {\"36\": 125, \"24\": 1, \"1\": 1, \"4\": 1}, \"48\": {\"48\": 15, \"51\": 1}, \"126\": {\"29\": 1, \"126\": 113, \"10\": 1, \"101\": 1}, \"125\": {\"125\": 120, \"33\": 1, \"98\": 1}, \"84\": {\"84\": 117, \"21\": 1, \"36\": 1, \"39\": 1, \"111\": 3, \"126\": 1, \"106\": 1, \"88\": 1, \"101\": 2}, \"80\": {\"80\": 16}, \"49\": {\"49\": 32}, \"47\": {\"25\": 1, \"47\": 11}, \"95\": {\"95\": 32}, \"54\": {\"54\": 16}, \"25\": {\"25\": 16}, \"116\": {\"116\": 28}, \"74\": {\"74\": 16}, \"35\": {\"35\": 12}, \"15\": {\"15\": 125, \"0\": 1, \"105\": 1, \"36\": 1}, \"108\": {\"108\": 82, \"81\": 1, \"27\": 1, \"98\": 1, \"69\": 1, \"70\": 2, \"59\": 1, \"51\": 1, \"84\": 1, \"9\": 1}, \"34\": {\"34\": 32}, \"81\": {\"81\": 35, \"73\": 1}, \"93\": {\"93\": 128}, \"55\": {\"55\": 16}, \"27\": {\"27\": 94, \"97\": 1, \"122\": 1, \"5\": 1, \"3\": 1, \"36\": 1, \"70\": 1}, \"109\": {\"109\": 107, \"16\": 1, \"107\": 1, \"43\": 1}, \"106\": {\"106\": 109, \"101\": 1, \"12\": 1, \"127\": 1, \"126\": 2, \"69\": 1, \"105\": 1}, \"68\": {\"68\": 16}, \"76\": {\"18\": 1, \"76\": 14, \"78\": 1}, \"103\": {\"103\": 15, \"106\": 1}, \"42\": {\"42\": 28}, \"129\": {\"129\": 28}, \"94\": {\"94\": 81, \"29\": 2, \"3\": 2, \"21\": 1, \"118\": 1, \"109\": 1}, \"123\": {\"123\": 16}, \"61\": {\"61\": 16}, \"51\": {\"4\": 2, \"51\": 12, \"111\": 1, \"58\": 1}, \"98\": {\"98\": 116, \"69\": 1, \"121\": 1}, \"56\": {\"56\": 12}, \"14\": {\"14\": 109, \"81\": 1, \"23\": 1, \"101\": 1}, \"90\": {\"90\": 138}, \"13\": {\"13\": 16}, \"89\": {\"89\": 31, \"5\": 1}, \"52\": {\"52\": 18, \"89\": 1, \"119\": 1}, \"72\": {\"72\": 31, \"116\": 1}, \"79\": {\"79\": 16}, \"113\": {\"113\": 122, \"0\": 1, \"111\": 1, \"39\": 1, \"126\": 1}}, \"Wisig_1\": {\"68\": {\"68\": 16}, \"7\": {\"7\": 142}, \"125\": {\"125\": 118}, \"111\": {\"111\": 118, \"116\": 1, \"21\": 1}, \"101\": {\"101\": 123, \"4\": 1}, \"11\": {\"11\": 136}, \"76\": {\"76\": 15, \"41\": 1}, \"5\": {\"5\": 86, \"68\": 1, \"39\": 1}, \"123\": {\"123\": 14, \"83\": 1, \"85\": 1}, \"85\": {\"85\": 32}, \"34\": {\"34\": 29, \"89\": 1, \"75\": 1, \"14\": 1}, \"42\": {\"42\": 28}, \"81\": {\"81\": 27, \"19\": 1}, \"127\": {\"127\": 106, \"98\": 1, \"111\": 1}, \"60\": {\"60\": 15, \"14\": 1}, \"77\": {\"77\": 16}, \"65\": {\"65\": 12}, \"44\": {\"44\": 76}, \"100\": {\"100\": 15, \"99\": 1}, \"80\": {\"80\": 16}, \"83\": {\"83\": 26, \"88\": 1, \"105\": 1}, \"51\": {\"51\": 16}, \"93\": {\"93\": 133, \"5\": 1}, \"31\": {\"31\": 16}, \"33\": {\"33\": 124, \"85\": 2}, \"113\": {\"113\": 121, \"69\": 1, \"16\": 1, \"43\": 1}, \"126\": {\"126\": 122, \"62\": 1, \"26\": 1}, \"10\": {\"10\": 120}, \"21\": {\"21\": 38, \"62\": 1, \"5\": 1}, \"90\": {\"90\": 131, \"125\": 1}, \"38\": {\"38\": 16}, \"96\": {\"96\": 19, \"86\": 1}, \"6\": {\"6\": 32}, \"121\": {\"121\": 32}, \"37\": {\"37\": 16}, \"88\": {\"88\": 126}, \"54\": {\"54\": 16}, \"92\": {\"92\": 28}, \"19\": {\"19\": 28}, \"47\": {\"47\": 12}, \"94\": {\"94\": 89, \"110\": 1, \"111\": 1, \"62\": 1}, \"66\": {\"66\": 16}, \"73\": {\"73\": 19, \"59\": 1}, \"75\": {\"75\": 16}, \"28\": {\"28\": 18, \"50\": 1, \"101\": 1}, \"20\": {\"20\": 16}, \"78\": {\"21\": 1, \"78\": 15}, \"71\": {\"71\": 101, \"26\": 1, \"36\": 1, \"85\": 1}, \"13\": {\"13\": 16}, \"118\": {\"118\": 83, \"4\": 1}, \"72\": {\"72\": 32}, \"24\": {\"24\": 86, \"111\": 1, \"12\": 1, \"108\": 2, \"88\": 2}, \"41\": {\"41\": 16}, \"102\": {\"102\": 119, \"87\": 1}, \"8\": {\"21\": 1, \"8\": 137}, \"39\": {\"39\": 93, \"111\": 1, \"62\": 1, \"98\": 1}, \"97\": {\"97\": 17, \"24\": 2, \"2\": 1}, \"48\": {\"48\": 12}, \"57\": {\"57\": 12}, \"29\": {\"29\": 28}, \"119\": {\"119\": 16}, \"89\": {\"89\": 36}, \"40\": {\"40\": 140}, \"22\": {\"111\": 1, \"22\": 15}, \"53\": {\"53\": 18, \"49\": 1, \"73\": 1}, \"108\": {\"108\": 124}, \"23\": {\"23\": 21, \"4\": 1, \"8\": 1, \"110\": 1}, \"109\": {\"109\": 115, \"70\": 1}, \"112\": {\"112\": 16}, \"35\": {\"35\": 12}, \"3\": {\"3\": 84, \"111\": 4}, \"103\": {\"103\": 14, \"127\": 1, \"83\": 1}, \"4\": {\"4\": 100}, \"87\": {\"87\": 107, \"127\": 1}, \"25\": {\"25\": 15, \"73\": 1}, \"15\": {\"15\": 101, \"69\": 1, \"62\": 1, \"102\": 1}, \"95\": {\"95\": 36}, \"120\": {\"120\": 18, \"123\": 1, \"4\": 1}, \"59\": {\"59\": 11, \"83\": 1}, \"49\": {\"49\": 17, \"52\": 1, \"85\": 1, \"53\": 1}, \"52\": {\"52\": 18, \"70\": 1, \"24\": 1}, \"45\": {\"45\": 8, \"46\": 1, \"47\": 1, \"59\": 1, \"85\": 1}, \"107\": {\"107\": 124}, \"106\": {\"106\": 133, \"10\": 1}, \"18\": {\"18\": 124}, \"64\": {\"64\": 16}, \"86\": {\"86\": 36}, \"14\": {\"14\": 96}, \"115\": {\"115\": 12}, \"0\": {\"0\": 83, \"111\": 1}, \"104\": {\"104\": 16}, \"61\": {\"61\": 12}, \"129\": {\"129\": 28}, \"122\": {\"122\": 86, \"4\": 2}, \"67\": {\"67\": 14, \"21\": 1, \"68\": 1}, \"128\": {\"128\": 24}, \"26\": {\"26\": 132, \"105\": 1, \"17\": 1}, \"117\": {\"117\": 136}, \"91\": {\"91\": 27, \"86\": 1}, \"12\": {\"12\": 99, \"70\": 1, \"88\": 2, \"108\": 2}, \"50\": {\"50\": 16}, \"99\": {\"99\": 24}, \"110\": {\"110\": 104}, \"43\": {\"43\": 112, \"111\": 1, \"106\": 1, \"94\": 1, \"5\": 1}, \"82\": {\"82\": 36}, \"1\": {\"1\": 96}, \"46\": {\"112\": 1, \"46\": 10, \"86\": 1}, \"16\": {\"16\": 106, \"94\": 1, \"26\": 1}, \"74\": {\"74\": 16}, \"32\": {\"32\": 32}, \"62\": {\"62\": 118, \"109\": 1, \"84\": 1}, \"27\": {\"27\": 90, \"4\": 1, \"111\": 1}, \"17\": {\"17\": 16}, \"36\": {\"36\": 133, \"39\": 1}, \"2\": {\"2\": 31, \"129\": 1}, \"70\": {\"70\": 126, \"85\": 1, \"62\": 1}, \"9\": {\"9\": 32}, \"114\": {\"114\": 130}, \"79\": {\"79\": 12}, \"56\": {\"56\": 12}, \"124\": {\"124\": 102}, \"84\": {\"84\": 134}, \"69\": {\"69\": 105, \"17\": 1, \"118\": 1, \"62\": 1}, \"58\": {\"58\": 10, \"86\": 1, \"111\": 1}, \"30\": {\"30\": 52}, \"55\": {\"55\": 12}, \"105\": {\"105\": 84}, \"63\": {\"63\": 16}, \"98\": {\"98\": 107, \"86\": 1}, \"116\": {\"116\": 31, \"102\": 1}}, \"Wisig_3\": {\"76\": {\"76\": 16}, \"6\": {\"6\": 30, \"48\": 1, \"45\": 1}, \"108\": {\"108\": 106}, \"29\": {\"29\": 31, \"1\": 1}, \"83\": {\"83\": 24}, \"18\": {\"18\": 126, \"39\": 1, \"78\": 1}, \"54\": {\"54\": 16}, \"15\": {\"15\": 104}, \"100\": {\"100\": 16}, \"90\": {\"90\": 132, \"86\": 1, \"94\": 1, \"82\": 1, \"125\": 1}, \"26\": {\"26\": 129, \"86\": 1, \"5\": 1, \"125\": 1}, \"115\": {\"115\": 16}, \"94\": {\"94\": 83, \"86\": 1}, \"46\": {\"46\": 16}, \"121\": {\"121\": 32}, \"109\": {\"109\": 126, \"118\": 2}, \"101\": {\"101\": 52}, \"99\": {\"99\": 36}, \"8\": {\"8\": 126, \"5\": 1, \"27\": 1}, \"102\": {\"102\": 104}, \"122\": {\"62\": 1, \"122\": 55, \"20\": 1, \"43\": 1, \"4\": 1, \"14\": 1}, \"36\": {\"36\": 114, \"24\": 1, \"124\": 1}, \"113\": {\"113\": 119, \"7\": 1}, \"123\": {\"123\": 16}, \"120\": {\"120\": 20}, \"125\": {\"125\": 107, \"32\": 1}, \"89\": {\"89\": 27, \"69\": 1}, \"9\": {\"9\": 32}, \"31\": {\"31\": 20}, \"62\": {\"62\": 113, \"110\": 1}, \"49\": {\"49\": 23, \"29\": 1}, \"23\": {\"23\": 31, \"110\": 1}, \"55\": {\"55\": 16}, \"128\": {\"128\": 32}, \"71\": {\"71\": 67, \"69\": 1}, \"51\": {\"51\": 16}, \"7\": {\"7\": 106}, \"117\": {\"117\": 104}, \"28\": {\"28\": 16}, \"127\": {\"127\": 127, \"17\": 1}, \"57\": {\"57\": 20}, \"78\": {\"78\": 15, \"54\": 1}, \"87\": {\"87\": 119, \"27\": 1}, \"40\": {\"40\": 126, \"86\": 1, \"69\": 1}, \"81\": {\"81\": 32}, \"2\": {\"2\": 28}, \"58\": {\"58\": 16}, \"68\": {\"68\": 15, \"59\": 1}, \"20\": {\"20\": 15, \"32\": 1}, \"35\": {\"35\": 12}, \"96\": {\"96\": 20}, \"84\": {\"84\": 108}, \"13\": {\"88\": 1, \"5\": 1, \"13\": 11, \"63\": 1, \"43\": 1, \"69\": 1}, \"64\": {\"64\": 20}, \"112\": {\"112\": 13, \"47\": 1, \"59\": 1, \"42\": 1}, \"103\": {\"103\": 16}, \"65\": {\"65\": 12}, \"118\": {\"118\": 100}, \"88\": {\"88\": 108, \"39\": 1, \"111\": 1, \"69\": 1, \"16\": 1}, \"85\": {\"85\": 36}, \"5\": {\"5\": 110, \"21\": 1, \"111\": 1}, \"93\": {\"93\": 137, \"107\": 1}, \"43\": {\"43\": 53, \"62\": 1, \"109\": 1, \"69\": 1}, \"67\": {\"67\": 15, \"77\": 1}, \"48\": {\"48\": 16}, \"73\": {\"73\": 38, \"83\": 1, \"62\": 1}, \"34\": {\"34\": 32}, \"91\": {\"91\": 23, \"68\": 1}, \"105\": {\"105\": 124}, \"10\": {\"10\": 105, \"5\": 1}, \"61\": {\"61\": 16}, \"74\": {\"74\": 15, \"19\": 1}, \"4\": {\"4\": 95, \"110\": 1}, \"37\": {\"37\": 16}, \"19\": {\"19\": 32}, \"44\": {\"44\": 72}, \"52\": {\"52\": 16}, \"92\": {\"92\": 32}, \"33\": {\"33\": 128}, \"45\": {\"45\": 16}, \"11\": {\"11\": 127, \"19\": 1}, \"129\": {\"129\": 32}, \"116\": {\"116\": 27, \"59\": 1}, \"75\": {\"75\": 16}, \"41\": {\"41\": 16}, \"21\": {\"21\": 45, \"86\": 1, \"101\": 2}, \"69\": {\"69\": 82, \"97\": 1, \"122\": 1}, \"16\": {\"16\": 107, \"21\": 1}, \"25\": {\"25\": 16}, \"12\": {\"12\": 103, \"88\": 1}, \"72\": {\"72\": 28}, \"0\": {\"0\": 115, \"4\": 1}, \"50\": {\"50\": 16}, \"107\": {\"107\": 139, \"111\": 1}, \"124\": {\"124\": 124}, \"53\": {\"53\": 19, \"127\": 1}, \"66\": {\"66\": 16}, \"47\": {\"47\": 12}, \"24\": {\"24\": 45, \"27\": 2, \"43\": 1}, \"95\": {\"95\": 31, \"25\": 1}, \"98\": {\"98\": 105, \"44\": 1}, \"63\": {\"63\": 16}, \"3\": {\"3\": 113, \"27\": 1, \"111\": 1, \"36\": 1}, \"14\": {\"14\": 80}, \"1\": {\"1\": 108}, \"38\": {\"38\": 16}, \"110\": {\"110\": 86, \"68\": 2, \"69\": 1, \"111\": 1, \"4\": 1, \"62\": 1}, \"17\": {\"67\": 1, \"17\": 11, \"82\": 1, \"2\": 1, \"65\": 2}, \"30\": {\"30\": 83, \"125\": 1}, \"56\": {\"56\": 11, \"75\": 1}, \"27\": {\"27\": 94, \"36\": 1, \"101\": 1}, \"104\": {\"104\": 16}, \"97\": {\"97\": 19, \"15\": 1}, \"42\": {\"42\": 27, \"25\": 1}, \"39\": {\"39\": 108}, \"70\": {\"70\": 70, \"53\": 1, \"21\": 1}, \"86\": {\"86\": 28}, \"119\": {\"119\": 16}, \"77\": {\"77\": 16}, \"59\": {\"59\": 12}, \"22\": {\"22\": 16}, \"79\": {\"79\": 12}, \"80\": {\"80\": 16}, \"111\": {\"111\": 130, \"49\": 1, \"114\": 1}, \"82\": {\"82\": 28}, \"126\": {\"126\": 122, \"21\": 1, \"122\": 1}, \"32\": {\"32\": 31, \"71\": 1}, \"106\": {\"106\": 98, \"95\": 1, \"62\": 1}, \"60\": {\"60\": 27, \"110\": 1}, \"114\": {\"114\": 106, \"18\": 1, \"62\": 1}}, \"ORACLE.run18\": {\"13\": {\"7\": 29, \"13\": 36, \"6\": 31, \"1\": 27, \"10\": 38, \"11\": 13, \"5\": 35, \"4\": 9, \"14\": 6, \"12\": 4, \"15\": 4, \"8\": 8}, \"9\": {\"2\": 11, \"9\": 188, \"3\": 36, \"5\": 1, \"15\": 3, \"12\": 1}, \"15\": {\"12\": 59, \"15\": 65, \"3\": 32, \"2\": 81, \"5\": 2, \"9\": 1}, \"2\": {\"3\": 47, \"2\": 79, \"12\": 41, \"5\": 3, \"15\": 59, \"9\": 8, \"13\": 2, \"7\": 1}, \"3\": {\"3\": 143, \"15\": 15, \"9\": 37, \"2\": 40, \"12\": 5}, \"8\": {\"8\": 54, \"14\": 24, \"11\": 40, \"1\": 23, \"7\": 15, \"4\": 27, \"10\": 12, \"5\": 11, \"6\": 16, \"13\": 18}, \"5\": {\"5\": 29, \"12\": 11, \"11\": 24, \"1\": 28, \"13\": 26, \"4\": 15, \"10\": 33, \"7\": 28, \"2\": 3, \"6\": 21, \"15\": 8, \"8\": 10, \"14\": 4}, \"14\": {\"6\": 19, \"4\": 40, \"14\": 57, \"8\": 27, \"10\": 10, \"13\": 11, \"1\": 21, \"0\": 10, \"7\": 15, \"11\": 25, \"5\": 5}, \"1\": {\"7\": 21, \"10\": 15, \"5\": 30, \"1\": 47, \"4\": 16, \"11\": 35, \"8\": 29, \"13\": 18, \"6\": 17, \"12\": 7, \"15\": 1, \"14\": 4}, \"0\": {\"0\": 206, \"14\": 22, \"8\": 7, \"4\": 4, \"11\": 1}, \"10\": {\"1\": 32, \"6\": 24, \"13\": 30, \"5\": 37, \"10\": 27, \"4\": 10, \"7\": 30, \"12\": 7, \"15\": 2, \"8\": 18, \"14\": 8, \"11\": 15}, \"6\": {\"6\": 32, \"7\": 33, \"8\": 20, \"13\": 25, \"1\": 29, \"11\": 27, \"5\": 25, \"10\": 21, \"4\": 18, \"14\": 10}, \"11\": {\"8\": 24, \"1\": 15, \"10\": 31, \"7\": 32, \"5\": 24, \"11\": 42, \"14\": 14, \"4\": 19, \"6\": 19, \"13\": 16, \"12\": 3, \"15\": 1}, \"7\": {\"7\": 34, \"6\": 40, \"10\": 23, \"5\": 23, \"13\": 30, \"4\": 18, \"1\": 25, \"8\": 18, \"14\": 6, \"11\": 19, \"12\": 2, \"2\": 1, \"15\": 1}, \"4\": {\"10\": 14, \"7\": 28, \"4\": 41, \"14\": 34, \"8\": 38, \"1\": 16, \"11\": 27, \"6\": 20, \"13\": 11, \"5\": 8, \"15\": 1, \"0\": 2}, \"12\": {\"12\": 98, \"13\": 4, \"15\": 73, \"2\": 44, \"7\": 2, \"3\": 14, \"10\": 1, \"5\": 2, \"1\": 2}}, \"ORACLE.run138\": {\"13\": {\"13\": 75, \"0\": 63, \"2\": 21, \"10\": 43, \"7\": 10, \"14\": 15, \"3\": 2, \"5\": 1, \"4\": 3, \"9\": 5, \"11\": 1, \"8\": 1}, \"12\": {\"12\": 146, \"14\": 13, \"8\": 22, \"15\": 10, \"7\": 15, \"4\": 6, \"2\": 3, \"9\": 4, \"5\": 21}, \"2\": {\"13\": 22, \"0\": 21, \"7\": 32, \"5\": 18, \"2\": 49, \"9\": 24, \"14\": 43, \"8\": 18, \"10\": 6, \"4\": 4, \"15\": 2, \"12\": 1}, \"9\": {\"9\": 82, \"13\": 4, \"2\": 42, \"7\": 24, \"5\": 45, \"14\": 7, \"0\": 5, \"8\": 17, \"15\": 10, \"12\": 4}, \"15\": {\"9\": 9, \"1\": 28, \"5\": 22, \"8\": 26, \"6\": 22, \"15\": 117, \"12\": 15, \"2\": 1}, \"5\": {\"13\": 1, \"5\": 48, \"8\": 46, \"9\": 38, \"12\": 20, \"15\": 44, \"14\": 14, \"0\": 2, \"2\": 12, \"6\": 1, \"7\": 14}, \"14\": {\"10\": 14, \"13\": 22, \"4\": 26, \"2\": 34, \"7\": 47, \"5\": 10, \"8\": 17, \"14\": 48, \"9\": 6, \"0\": 15, \"12\": 1}, \"0\": {\"13\": 43, \"0\": 60, \"10\": 42, \"4\": 17, \"14\": 20, \"7\": 17, \"3\": 20, \"9\": 5, \"2\": 12, \"8\": 2, \"5\": 1, \"11\": 1}, \"3\": {\"3\": 176, \"10\": 16, \"11\": 42, \"0\": 5, \"13\": 1}, \"1\": {\"15\": 35, \"6\": 92, \"1\": 108, \"12\": 1, \"5\": 3, \"8\": 1}, \"11\": {\"11\": 203, \"3\": 37}, \"7\": {\"7\": 61, \"13\": 8, \"8\": 33, \"12\": 6, \"5\": 12, \"2\": 39, \"0\": 11, \"14\": 35, \"4\": 16, \"9\": 15, \"10\": 4}, \"8\": {\"7\": 27, \"12\": 24, \"15\": 24, \"9\": 28, \"2\": 25, \"5\": 35, \"14\": 17, \"8\": 49, \"13\": 7, \"0\": 2, \"6\": 1, \"4\": 1}, \"4\": {\"0\": 23, \"4\": 155, \"10\": 22, \"14\": 23, \"7\": 11, \"2\": 1, \"3\": 2, \"13\": 2, \"11\": 1}, \"10\": {\"0\": 51, \"13\": 39, \"10\": 91, \"3\": 18, \"4\": 29, \"14\": 4, \"11\": 2, \"7\": 5, \"2\": 1}, \"6\": {\"1\": 99, \"6\": 123, \"15\": 17, \"9\": 1}}, \"ORACLE.run126\": {\"10\": {\"15\": 28, \"10\": 33, \"1\": 26, \"14\": 34, \"5\": 25, \"0\": 22, \"2\": 10, \"6\": 18, \"8\": 6, \"9\": 9, \"12\": 8, \"7\": 9, \"13\": 2, \"11\": 9, \"3\": 1}, \"12\": {\"12\": 34, \"7\": 31, \"9\": 29, \"13\": 25, \"10\": 8, \"2\": 23, \"3\": 23, \"8\": 20, \"15\": 9, \"5\": 6, \"0\": 17, \"14\": 5, \"4\": 5, \"6\": 4, \"11\": 1}, \"1\": {\"14\": 32, \"15\": 27, \"10\": 21, \"5\": 19, \"6\": 41, \"1\": 65, \"0\": 15, \"2\": 3, \"7\": 1, \"11\": 11, \"9\": 3, \"8\": 2}, \"0\": {\"10\": 21, \"0\": 26, \"8\": 22, \"9\": 11, \"5\": 15, \"2\": 20, \"14\": 36, \"3\": 7, \"7\": 12, \"6\": 16, \"15\": 15, \"1\": 22, \"12\": 11, \"4\": 1, \"13\": 4, \"11\": 1}, \"15\": {\"6\": 29, \"0\": 18, \"3\": 1, \"15\": 34, \"5\": 34, \"11\": 17, \"13\": 4, \"10\": 25, \"7\": 3, \"8\": 6, \"1\": 24, \"14\": 22, \"2\": 10, \"9\": 9, \"12\": 4}, \"13\": {\"2\": 13, \"13\": 71, \"8\": 14, \"4\": 18, \"3\": 33, \"9\": 38, \"12\": 20, \"7\": 20, \"0\": 2, \"5\": 2, \"10\": 3, \"1\": 1, \"15\": 2, \"14\": 2, \"6\": 1}, \"8\": {\"0\": 17, \"6\": 3, \"7\": 36, \"8\": 41, \"12\": 17, \"9\": 21, \"15\": 8, \"2\": 29, \"13\": 14, \"4\": 4, \"3\": 22, \"14\": 8, \"10\": 13, \"5\": 4, \"11\": 1, \"1\": 2}, \"3\": {\"12\": 23, \"7\": 26, \"2\": 22, \"3\": 46, \"4\": 21, \"9\": 25, \"8\": 23, \"13\": 32, \"5\": 1, \"10\": 3, \"14\": 4, \"0\": 8, \"11\": 1, \"15\": 4, \"1\": 1}, \"11\": {\"11\": 113, \"10\": 8, \"5\": 38, \"15\": 27, \"1\": 13, \"14\": 5, \"6\": 30, \"12\": 1, \"7\": 1, \"0\": 3, \"2\": 1}, \"4\": {\"9\": 9, \"4\": 96, \"8\": 15, \"3\": 37, \"13\": 31, \"2\": 11, \"7\": 29, \"12\": 11, \"0\": 1}, \"6\": {\"6\": 41, \"0\": 16, \"1\": 25, \"5\": 36, \"8\": 3, \"15\": 48, \"10\": 21, \"11\": 19, \"2\": 5, \"14\": 21, \"9\": 2, \"12\": 1, \"7\": 2}, \"7\": {\"4\": 11, \"7\": 41, \"8\": 29, \"0\": 18, \"2\": 21, \"13\": 22, \"9\": 27, \"3\": 28, \"6\": 1, \"12\": 20, \"5\": 3, \"10\": 10, \"15\": 1, \"14\": 5, \"11\": 1, \"1\": 2}, \"14\": {\"10\": 25, \"0\": 29, \"5\": 18, \"1\": 33, \"9\": 2, \"6\": 28, \"14\": 43, \"15\": 20, \"7\": 5, \"8\": 13, \"2\": 14, \"12\": 7, \"3\": 1, \"11\": 2}, \"2\": {\"12\": 20, \"7\": 28, \"10\": 14, \"0\": 24, \"9\": 27, \"8\": 35, \"2\": 26, \"3\": 23, \"13\": 7, \"14\": 11, \"15\": 8, \"5\": 3, \"6\": 7, \"1\": 3, \"4\": 4}, \"5\": {\"15\": 37, \"5\": 47, \"0\": 22, \"2\": 13, \"1\": 18, \"10\": 17, \"14\": 16, \"6\": 31, \"11\": 23, \"9\": 4, \"8\": 8, \"12\": 2, \"7\": 2}, \"9\": {\"8\": 28, \"0\": 17, \"7\": 32, \"9\": 28, \"10\": 9, \"3\": 26, \"13\": 22, \"4\": 6, \"12\": 27, \"2\": 27, \"14\": 7, \"15\": 5, \"1\": 2, \"5\": 4}}, \"ORACLE.run120\": {\"5\": {\"1\": 27, \"8\": 18, \"13\": 16, \"14\": 23, \"10\": 2, \"2\": 11, \"15\": 13, \"5\": 17, \"7\": 11, \"6\": 9, \"0\": 18, \"12\": 14, \"3\": 20, \"4\": 10, \"11\": 13, \"9\": 18}, \"15\": {\"2\": 19, \"11\": 2, \"8\": 13, \"1\": 13, \"0\": 8, \"3\": 13, \"14\": 8, \"7\": 27, \"12\": 26, \"15\": 16, \"4\": 10, \"6\": 17, \"13\": 26, \"10\": 11, \"5\": 14, \"9\": 17}, \"9\": {\"7\": 24, \"5\": 16, \"11\": 13, \"4\": 16, \"0\": 11, \"13\": 20, \"1\": 18, \"12\": 8, \"14\": 11, \"2\": 21, \"15\": 19, \"3\": 14, \"8\": 10, \"6\": 15, \"9\": 17, \"10\": 7}, \"7\": {\"6\": 17, \"3\": 15, \"12\": 18, \"11\": 1, \"4\": 22, \"1\": 14, \"8\": 19, \"2\": 22, \"7\": 22, \"13\": 17, \"10\": 15, \"14\": 9, \"15\": 12, \"9\": 16, \"0\": 5, \"5\": 16}, \"3\": {\"10\": 4, \"0\": 22, \"8\": 21, \"14\": 20, \"5\": 27, \"1\": 25, \"9\": 12, \"13\": 8, \"12\": 6, \"4\": 15, \"7\": 18, \"11\": 7, \"3\": 22, \"2\": 13, \"6\": 11, \"15\": 9}, \"8\": {\"14\": 43, \"8\": 39, \"4\": 13, \"11\": 10, \"9\": 20, \"3\": 17, \"2\": 7, \"5\": 24, \"15\": 6, \"0\": 22, \"1\": 17, \"7\": 5, \"6\": 11, \"12\": 4, \"13\": 1, \"10\": 1}, \"4\": {\"1\": 16, \"15\": 9, \"2\": 15, \"13\": 12, \"4\": 34, \"10\": 28, \"6\": 28, \"14\": 19, \"0\": 4, \"9\": 13, \"12\": 16, \"8\": 10, \"7\": 17, \"5\": 9, \"3\": 8, \"11\": 2}, \"6\": {\"9\": 24, \"14\": 28, \"8\": 14, \"1\": 20, \"7\": 18, \"2\": 16, \"10\": 19, \"6\": 22, \"13\": 8, \"0\": 3, \"4\": 14, \"15\": 12, \"3\": 18, \"11\": 1, \"12\": 13, \"5\": 10}, \"2\": {\"6\": 21, \"1\": 20, \"8\": 12, \"10\": 12, \"12\": 25, \"4\": 23, \"13\": 24, \"5\": 10, \"7\": 22, \"9\": 20, \"14\": 7, \"15\": 23, \"0\": 2, \"2\": 15, \"3\": 3, \"11\": 1}, \"12\": {\"7\": 24, \"1\": 13, \"13\": 38, \"9\": 17, \"15\": 16, \"12\": 18, \"0\": 1, \"8\": 8, \"10\": 17, \"5\": 13, \"2\": 21, \"6\": 19, \"14\": 8, \"4\": 19, \"3\": 7, \"11\": 1}, \"0\": {\"0\": 79, \"7\": 4, \"8\": 25, \"11\": 50, \"3\": 12, \"5\": 20, \"9\": 7, \"15\": 6, \"1\": 14, \"4\": 5, \"14\": 12, \"6\": 3, \"13\": 1, \"2\": 1, \"12\": 1}, \"13\": {\"15\": 16, \"4\": 18, \"2\": 27, \"7\": 18, \"1\": 13, \"12\": 23, \"6\": 13, \"13\": 63, \"10\": 23, \"3\": 6, \"9\": 8, \"5\": 7, \"8\": 1, \"0\": 2, \"14\": 2}, \"10\": {\"4\": 31, \"7\": 13, \"1\": 8, \"13\": 24, \"10\": 51, \"0\": 2, \"6\": 28, \"12\": 12, \"14\": 13, \"3\": 9, \"9\": 11, \"2\": 16, \"15\": 12, \"8\": 3, \"5\": 7}, \"11\": {\"11\": 83, \"0\": 54, \"1\": 10, \"9\": 9, \"15\": 4, \"8\": 26, \"7\": 5, \"3\": 16, \"5\": 11, \"14\": 12, \"2\": 4, \"12\": 2, \"13\": 2, \"6\": 1, \"4\": 1}, \"14\": {\"8\": 30, \"4\": 24, \"5\": 9, \"0\": 17, \"10\": 7, \"11\": 9, \"15\": 6, \"3\": 28, \"9\": 16, \"2\": 8, \"6\": 13, \"14\": 45, \"1\": 11, \"7\": 6, \"12\": 9, \"13\": 2}, \"1\": {\"12\": 19, \"8\": 17, \"2\": 25, \"5\": 22, \"9\": 19, \"11\": 3, \"7\": 18, \"6\": 13, \"15\": 16, \"4\": 10, \"3\": 15, \"14\": 17, \"13\": 16, \"1\": 22, \"0\": 4, \"10\": 4}}, \"ORACLE.run150\": {\"1\": {\"13\": 57, \"1\": 75, \"8\": 32, \"0\": 12, \"11\": 16, \"10\": 27, \"5\": 2, \"6\": 2, \"3\": 1, \"14\": 5, \"12\": 4, \"15\": 3, \"2\": 2, \"9\": 2}, \"2\": {\"0\": 55, \"8\": 7, \"2\": 81, \"14\": 76, \"10\": 19, \"1\": 2}, \"8\": {\"10\": 31, \"1\": 40, \"12\": 13, \"15\": 3, \"13\": 29, \"8\": 73, \"0\": 15, \"11\": 17, \"2\": 3, \"14\": 5, \"3\": 5, \"6\": 3, \"5\": 2, \"9\": 1}, \"7\": {\"7\": 86, \"4\": 74, \"15\": 13, \"6\": 10, \"5\": 35, \"3\": 8, \"9\": 10, \"12\": 3, \"11\": 1}, \"14\": {\"14\": 98, \"2\": 67, \"10\": 12, \"0\": 53, \"1\": 6, \"8\": 4}, \"6\": {\"6\": 43, \"13\": 13, \"9\": 37, \"7\": 9, \"15\": 36, \"5\": 25, \"3\": 25, \"12\": 23, \"11\": 15, \"4\": 12, \"1\": 1, \"8\": 1}, \"3\": {\"5\": 31, \"4\": 5, \"3\": 48, \"11\": 20, \"9\": 19, \"12\": 21, \"6\": 43, \"13\": 16, \"15\": 22, \"8\": 1, \"1\": 3, \"7\": 11}, \"4\": {\"4\": 69, \"9\": 6, \"7\": 86, \"6\": 18, \"15\": 12, \"11\": 1, \"5\": 36, \"3\": 11, \"12\": 1}, \"12\": {\"3\": 17, \"1\": 7, \"15\": 17, \"12\": 68, \"11\": 42, \"6\": 19, \"5\": 10, \"9\": 30, \"13\": 18, \"4\": 3, \"8\": 5, \"7\": 4}, \"15\": {\"3\": 29, \"15\": 46, \"5\": 33, \"11\": 16, \"7\": 18, \"9\": 34, \"6\": 37, \"13\": 6, \"4\": 9, \"12\": 10, \"1\": 2}, \"11\": {\"11\": 57, \"3\": 32, \"6\": 17, \"9\": 24, \"13\": 20, \"15\": 30, \"12\": 28, \"5\": 11, \"1\": 9, \"7\": 1, \"8\": 7, \"4\": 2, \"0\": 2}, \"0\": {\"0\": 65, \"2\": 66, \"13\": 1, \"10\": 45, \"8\": 15, \"1\": 6, \"14\": 41, \"12\": 1}, \"9\": {\"6\": 32, \"9\": 40, \"12\": 30, \"5\": 20, \"11\": 29, \"4\": 9, \"15\": 31, \"3\": 25, \"8\": 2, \"13\": 11, \"7\": 9, \"1\": 2}, \"10\": {\"8\": 43, \"10\": 62, \"1\": 32, \"0\": 42, \"13\": 21, \"14\": 23, \"2\": 15, \"11\": 2}, \"5\": {\"6\": 33, \"12\": 5, \"15\": 21, \"7\": 57, \"5\": 37, \"4\": 36, \"13\": 10, \"11\": 7, \"9\": 16, \"1\": 1, \"3\": 16, \"8\": 1}, \"13\": {\"3\": 17, \"13\": 53, \"8\": 16, \"11\": 35, \"15\": 16, \"9\": 15, \"1\": 52, \"12\": 21, \"6\": 3, \"5\": 6, \"10\": 5, \"14\": 1}}, \"ORACLE.run132\": {\"2\": {\"2\": 55, \"1\": 27, \"13\": 17, \"0\": 10, \"8\": 15, \"3\": 15, \"5\": 4, \"14\": 26, \"9\": 18, \"4\": 40, \"11\": 4, \"7\": 8, \"12\": 1}, \"6\": {\"6\": 190, \"12\": 15, \"10\": 27, \"11\": 8}, \"5\": {\"14\": 24, \"0\": 53, \"5\": 53, \"7\": 40, \"8\": 24, \"15\": 27, \"1\": 8, \"2\": 9, \"13\": 1, \"4\": 1}, \"12\": {\"10\": 44, \"13\": 15, \"12\": 73, \"1\": 7, \"3\": 4, \"6\": 9, \"11\": 47, \"9\": 32, \"2\": 2, \"4\": 6, \"14\": 1}, \"13\": {\"11\": 29, \"13\": 50, \"9\": 29, \"4\": 34, \"2\": 19, \"3\": 54, \"8\": 8, \"12\": 7, \"14\": 2, \"1\": 5, \"0\": 2, \"10\": 1}, \"9\": {\"12\": 32, \"9\": 59, \"1\": 14, \"11\": 38, \"4\": 14, \"3\": 19, \"13\": 31, \"6\": 1, \"2\": 19, \"0\": 1, \"10\": 9, \"5\": 1, \"14\": 1, \"7\": 1}, \"11\": {\"3\": 15, \"9\": 51, \"11\": 89, \"4\": 8, \"2\": 7, \"13\": 27, \"10\": 12, \"12\": 27, \"6\": 4}, \"1\": {\"1\": 85, \"9\": 12, \"0\": 20, \"15\": 4, \"8\": 16, \"14\": 22, \"7\": 23, \"2\": 31, \"4\": 13, \"3\": 2, \"13\": 4, \"5\": 8}, \"3\": {\"4\": 37, \"3\": 64, \"11\": 19, \"13\": 48, \"14\": 5, \"0\": 4, \"8\": 16, \"2\": 24, \"1\": 3, \"9\": 10, \"12\": 3, \"15\": 2, \"5\": 3, \"7\": 2}, \"7\": {\"0\": 45, \"14\": 40, \"7\": 52, \"5\": 39, \"8\": 32, \"1\": 11, \"2\": 10, \"15\": 7, \"4\": 4}, \"14\": {\"0\": 31, \"5\": 30, \"15\": 8, \"7\": 36, \"14\": 41, \"3\": 5, \"1\": 10, \"2\": 25, \"4\": 14, \"8\": 31, \"13\": 4, \"9\": 5}, \"8\": {\"8\": 51, \"14\": 28, \"0\": 40, \"7\": 17, \"13\": 4, \"5\": 31, \"1\": 10, \"15\": 32, \"2\": 14, \"4\": 7, \"3\": 6}, \"4\": {\"3\": 37, \"11\": 9, \"0\": 11, \"2\": 36, \"13\": 30, \"9\": 13, \"4\": 44, \"1\": 20, \"8\": 15, \"14\": 19, \"12\": 2, \"7\": 1, \"5\": 2, \"15\": 1}, \"0\": {\"4\": 9, \"7\": 39, \"3\": 3, \"8\": 34, \"5\": 41, \"0\": 30, \"14\": 50, \"2\": 9, \"15\": 10, \"1\": 15}, \"10\": {\"12\": 62, \"9\": 25, \"11\": 30, \"13\": 9, \"10\": 79, \"6\": 30, \"3\": 2, \"2\": 2, \"4\": 1}, \"15\": {\"8\": 30, \"0\": 11, \"14\": 3, \"15\": 161, \"7\": 4, \"5\": 31}}, \"ORACLE.run144\": {\"13\": {\"6\": 60, \"11\": 31, \"13\": 102, \"9\": 32, \"7\": 6, \"5\": 2, \"14\": 2, \"4\": 4, \"10\": 1}, \"4\": {\"5\": 35, \"4\": 35, \"14\": 34, \"6\": 16, \"2\": 13, \"9\": 23, \"15\": 13, \"8\": 7, \"13\": 9, \"10\": 22, \"7\": 23, \"0\": 3, \"1\": 7}, \"6\": {\"10\": 13, \"9\": 31, \"6\": 77, \"13\": 73, \"11\": 8, \"7\": 27, \"4\": 6, \"5\": 1, \"14\": 3, \"2\": 1}, \"0\": {\"0\": 79, \"5\": 9, \"1\": 29, \"8\": 54, \"10\": 1, \"2\": 9, \"4\": 4, \"14\": 5, \"15\": 31, \"3\": 12, \"12\": 6, \"7\": 1}, \"10\": {\"2\": 27, \"1\": 13, \"10\": 55, \"9\": 17, \"14\": 17, \"5\": 25, \"4\": 22, \"13\": 8, \"15\": 4, \"6\": 13, \"7\": 38, \"8\": 1}, \"7\": {\"10\": 35, \"5\": 18, \"9\": 29, \"7\": 64, \"4\": 31, \"2\": 10, \"6\": 21, \"13\": 8, \"14\": 20, \"8\": 2, \"15\": 1, \"1\": 1}, \"14\": {\"5\": 51, \"15\": 18, \"2\": 16, \"7\": 13, \"4\": 37, \"6\": 11, \"10\": 21, \"1\": 8, \"9\": 16, \"14\": 35, \"0\": 3, \"8\": 11}, \"15\": {\"4\": 18, \"8\": 39, \"15\": 56, \"5\": 37, \"1\": 15, \"0\": 21, \"14\": 33, \"7\": 6, \"10\": 11, \"2\": 4}, \"5\": {\"2\": 8, \"0\": 6, \"14\": 43, \"1\": 11, \"7\": 15, \"10\": 13, \"15\": 21, \"5\": 36, \"4\": 45, \"8\": 15, \"6\": 9, \"13\": 4, \"9\": 14}, \"2\": {\"1\": 54, \"15\": 8, \"9\": 11, \"0\": 9, \"10\": 33, \"2\": 73, \"4\": 11, \"7\": 11, \"8\": 6, \"14\": 12, \"5\": 9, \"3\": 3}, \"9\": {\"6\": 30, \"9\": 37, \"4\": 24, \"13\": 37, \"11\": 10, \"15\": 4, \"5\": 9, \"10\": 26, \"2\": 9, \"14\": 13, \"7\": 36, \"1\": 4, \"8\": 1}, \"12\": {\"12\": 140, \"3\": 85, \"8\": 1, \"2\": 6, \"0\": 2, \"1\": 6}, \"8\": {\"8\": 72, \"15\": 60, \"0\": 53, \"4\": 5, \"1\": 19, \"2\": 3, \"14\": 8, \"5\": 9, \"12\": 1, \"3\": 7, \"7\": 1, \"10\": 2}, \"3\": {\"12\": 85, \"3\": 115, \"0\": 14, \"8\": 7, \"1\": 13, \"2\": 5, \"15\": 1}, \"1\": {\"2\": 46, \"1\": 75, \"5\": 13, \"10\": 11, \"4\": 8, \"12\": 3, \"15\": 14, \"0\": 26, \"8\": 17, \"3\": 10, \"14\": 7, \"7\": 4, \"9\": 6}, \"11\": {\"11\": 222, \"9\": 2, \"13\": 13, \"6\": 3}}, \"ORACLE.run114\": {\"1\": {\"1\": 108, \"10\": 27, \"12\": 9, \"9\": 70, \"5\": 3, \"8\": 3, \"4\": 17, \"11\": 2, \"0\": 1}, \"15\": {\"15\": 233, \"6\": 2, \"13\": 2, \"3\": 3}, \"10\": {\"7\": 7, \"1\": 30, \"10\": 54, \"4\": 56, \"14\": 9, \"2\": 14, \"12\": 11, \"9\": 22, \"5\": 21, \"0\": 4, \"3\": 2, \"8\": 5, \"13\": 5}, \"2\": {\"14\": 28, \"7\": 22, \"2\": 28, \"4\": 14, \"13\": 29, \"3\": 17, \"8\": 12, \"10\": 9, \"5\": 28, \"12\": 5, \"0\": 25, \"6\": 22, \"1\": 1}, \"9\": {\"10\": 26, \"9\": 81, \"12\": 20, \"1\": 80, \"8\": 11, \"4\": 15, \"5\": 3, \"2\": 3, \"11\": 1}, \"5\": {\"14\": 20, \"2\": 31, \"8\": 20, \"13\": 13, \"6\": 7, \"4\": 26, \"0\": 23, \"5\": 32, \"3\": 19, \"12\": 12, \"7\": 24, \"10\": 9, \"9\": 1, \"1\": 3}, \"7\": {\"8\": 19, \"5\": 28, \"6\": 12, \"7\": 44, \"0\": 24, \"10\": 6, \"4\": 15, \"14\": 19, \"13\": 16, \"3\": 27, \"12\": 12, \"2\": 18}, \"13\": {\"6\": 43, \"13\": 50, \"7\": 13, \"3\": 26, \"14\": 39, \"2\": 12, \"15\": 21, \"0\": 13, \"4\": 4, \"10\": 4, \"5\": 8, \"8\": 6, \"12\": 1}, \"8\": {\"8\": 69, \"13\": 3, \"6\": 2, \"0\": 18, \"12\": 44, \"5\": 24, \"4\": 12, \"2\": 5, \"10\": 12, \"7\": 21, \"3\": 12, \"9\": 9, \"14\": 5, \"1\": 4}, \"6\": {\"6\": 65, \"14\": 35, \"13\": 52, \"12\": 1, \"3\": 32, \"2\": 21, \"0\": 12, \"7\": 8, \"15\": 8, \"5\": 4, \"4\": 2}, \"3\": {\"3\": 46, \"0\": 40, \"14\": 28, \"5\": 13, \"12\": 5, \"6\": 31, \"2\": 19, \"7\": 24, \"8\": 12, \"13\": 15, \"15\": 2, \"4\": 4, \"10\": 1}, \"12\": {\"8\": 46, \"12\": 79, \"14\": 7, \"9\": 13, \"5\": 14, \"2\": 8, \"7\": 16, \"1\": 4, \"10\": 14, \"0\": 16, \"4\": 15, \"3\": 6, \"13\": 1, \"6\": 1}, \"0\": {\"3\": 37, \"6\": 14, \"7\": 19, \"5\": 30, \"8\": 8, \"0\": 29, \"4\": 7, \"14\": 28, \"13\": 26, \"10\": 4, \"12\": 15, \"2\": 19, \"9\": 2, \"15\": 2}, \"4\": {\"12\": 20, \"14\": 11, \"5\": 24, \"1\": 21, \"10\": 41, \"4\": 41, \"13\": 11, \"0\": 9, \"2\": 25, \"7\": 6, \"8\": 12, \"9\": 14, \"3\": 3, \"6\": 2}, \"14\": {\"7\": 21, \"2\": 43, \"0\": 12, \"14\": 43, \"5\": 19, \"6\": 33, \"3\": 30, \"13\": 27, \"8\": 3, \"12\": 5, \"10\": 2, \"4\": 2}, \"11\": {\"11\": 214, \"1\": 19, \"9\": 6, \"10\": 1}}}, \"per_domain_accuracy\": {\"Wisig_2\": {\"accuracy\": 0.9615283613445378, \"source?\": true}, \"Wisig_4\": {\"accuracy\": 0.9679783950617284, \"source?\": true}, \"Wisig_1\": {\"accuracy\": 0.9837765957446809, \"source?\": true}, \"Wisig_3\": {\"accuracy\": 0.9845814977973568, \"source?\": true}, \"ORACLE.run18\": {\"accuracy\": 0.3067708333333333, \"source?\": false}, \"ORACLE.run138\": {\"accuracy\": 0.41432291666666665, \"source?\": false}, \"ORACLE.run126\": {\"accuracy\": 0.20442708333333334, \"source?\": false}, \"ORACLE.run120\": {\"accuracy\": 0.14713541666666666, \"source?\": false}, \"ORACLE.run150\": {\"accuracy\": 0.26067708333333334, \"source?\": false}, \"ORACLE.run132\": {\"accuracy\": 0.30625, \"source?\": false}, \"ORACLE.run144\": {\"accuracy\": 0.33151041666666664, \"source?\": false}, \"ORACLE.run114\": {\"accuracy\": 0.31666666666666665, \"source?\": false}}}, \"history\": {\"epoch_indices\": [1, 2, 3, 4, 5, 6, 7], \"train_label_loss\": [0.1973302754486914, 0.13644193282818598, 0.11449779158473021, 0.10443120980075975, 0.09555365817261907, 0.08900281142772785, 0.08550794199316768], \"source_val_label_loss\": [0.15135584771633148, 0.12197510153055191, 0.10834415256977081, 0.1104787141084671, 0.10332054644823074, 0.09989776462316513, 0.09498755633831024], \"target_val_label_loss\": [2.5561697483062744, 2.5996241569519043, 2.4972543716430664, 2.5533435344696045, 2.486767292022705, 2.552260160446167, 2.542710781097412], \"source_val_acc_label\": [0.9654692470837752, 0.9716993637327678, 0.9742841993637328, 0.9745824496288441, 0.9755103393425238, 0.9757423117709438, 0.9761399787910923], \"target_val_acc_label\": [0.28538411458333335, 0.2731119791666667, 0.2859700520833333, 0.256640625, 0.2630533854166667, 0.21471354166666667, 0.21227213541666667]}, \"dataset_metrics\": {\"source\": {\"train\": {\"n_unique_x\": 189014, \"n_unique_y\": 130, \"n_batch/episode\": 6848}, \"val\": {\"n_unique_x\": 40019, \"n_unique_y\": 130, \"n_batch/episode\": 943}, \"test\": {\"n_unique_x\": 40738, \"n_unique_y\": 130, \"n_batch/episode\": 960}}, \"target\": {\"train\": {\"n_unique_x\": 179200, \"n_unique_y\": 16, \"n_batch/episode\": 6720}, \"val\": {\"n_unique_x\": 38400, \"n_unique_y\": 16, \"n_batch/episode\": 960}, \"test\": {\"n_unique_x\": 38400, \"n_unique_y\": 16, \"n_batch/episode\": 960}}}}'"
      ]
     },
     "execution_count": 29,
     "metadata": {},
     "output_type": "execute_result"
    }
   ],
   "source": [
    "json.dumps(experiment)"
   ]
  }
 ],
 "metadata": {
  "celltoolbar": "Tags",
  "kernelspec": {
   "display_name": "Python 3 (ipykernel)",
   "language": "python",
   "name": "python3"
  },
  "language_info": {
   "codemirror_mode": {
    "name": "ipython",
    "version": 3
   },
   "file_extension": ".py",
   "mimetype": "text/x-python",
   "name": "python",
   "nbconvert_exporter": "python",
   "pygments_lexer": "ipython3",
   "version": "3.8.12"
  },
  "papermill": {
   "default_parameters": {},
   "duration": 1336.138798,
   "end_time": "2022-03-23T00:14:13.956670",
   "environment_variables": {},
   "exception": null,
   "input_path": "/root/csc500-main/csc500-notebooks/templates/tl_ptn_template.ipynb",
   "output_path": "trial.ipynb",
   "parameters": {
    "parameters": {
     "BEST_MODEL_PATH": "./best_model.pth",
     "NUM_LOGS_PER_EPOCH": 10,
     "criteria_for_best": "target_accuracy",
     "dataset_seed": 154325,
     "datasets": [
      {
       "domain_prefix": "Wisig_",
       "domains": [
        1,
        2,
        3,
        4
       ],
       "episode_transforms": [],
       "labels": [
        "1-10",
        "1-12",
        "1-14",
        "1-16",
        "1-18",
        "1-19",
        "1-8",
        "10-11",
        "10-17",
        "10-4",
        "10-7",
        "11-1",
        "11-10",
        "11-19",
        "11-20",
        "11-4",
        "11-7",
        "12-19",
        "12-20",
        "12-7",
        "13-14",
        "13-18",
        "13-19",
        "13-20",
        "13-3",
        "13-7",
        "14-10",
        "14-11",
        "14-12",
        "14-13",
        "14-14",
        "14-19",
        "14-20",
        "14-7",
        "14-8",
        "14-9",
        "15-1",
        "15-19",
        "15-6",
        "16-1",
        "16-16",
        "16-19",
        "16-20",
        "17-10",
        "17-11",
        "18-1",
        "18-10",
        "18-11",
        "18-12",
        "18-13",
        "18-14",
        "18-15",
        "18-16",
        "18-17",
        "18-19",
        "18-2",
        "18-20",
        "18-4",
        "18-5",
        "18-7",
        "18-8",
        "18-9",
        "19-1",
        "19-10",
        "19-11",
        "19-12",
        "19-13",
        "19-14",
        "19-15",
        "19-19",
        "19-2",
        "19-20",
        "19-3",
        "19-4",
        "19-6",
        "19-7",
        "19-8",
        "19-9",
        "2-1",
        "2-13",
        "2-15",
        "2-3",
        "2-4",
        "2-5",
        "2-6",
        "2-7",
        "2-8",
        "20-1",
        "20-12",
        "20-14",
        "20-15",
        "20-16",
        "20-18",
        "20-19",
        "20-20",
        "20-3",
        "20-4",
        "20-5",
        "20-7",
        "20-8",
        "3-1",
        "3-13",
        "3-18",
        "3-2",
        "3-8",
        "4-1",
        "4-10",
        "4-11",
        "5-1",
        "5-5",
        "6-1",
        "6-15",
        "6-6",
        "7-10",
        "7-11",
        "7-12",
        "7-13",
        "7-14",
        "7-7",
        "7-8",
        "7-9",
        "8-1",
        "8-13",
        "8-14",
        "8-18",
        "8-20",
        "8-3",
        "8-8",
        "9-1",
        "9-7"
       ],
       "num_examples_per_domain_per_label": -1,
       "pickle_path": "/root/csc500-main/datasets/wisig.node3-19.stratified_ds.2022A.pkl",
       "source_or_target_dataset": "source",
       "x_transforms": []
      },
      {
       "domain_prefix": "ORACLE.run1",
       "domains": [
        32,
        38,
        8,
        44,
        14,
        50,
        20,
        26
       ],
       "episode_transforms": [],
       "labels": [
        "3123D52",
        "3123D65",
        "3123D79",
        "3123D80",
        "3123D54",
        "3123D70",
        "3123D7B",
        "3123D89",
        "3123D58",
        "3123D76",
        "3123D7D",
        "3123EFE",
        "3123D64",
        "3123D78",
        "3123D7E",
        "3124E4A"
       ],
       "num_examples_per_domain_per_label": 2000,
       "pickle_path": "/root/csc500-main/datasets/oracle.Run1_10kExamples_stratified_ds.2022A.pkl",
       "source_or_target_dataset": "target",
       "x_transforms": []
      }
     ],
     "device": "cuda",
     "experiment_name": "tl_1v2:wisig-oracle.run1.limited",
     "lr": 0.0001,
     "n_epoch": 50,
     "n_query": 2,
     "n_shot": 3,
     "n_way": 16,
     "patience": 3,
     "seed": 154325,
     "test_k_factor": 2,
     "torch_default_dtype": "torch.float32",
     "train_k_factor": 3,
     "val_k_factor": 2,
     "x_net": [
      {
       "class": "nnReshape",
       "kargs": {
        "shape": [
         -1,
         1,
         2,
         256
        ]
       }
      },
      {
       "class": "Conv2d",
       "kargs": {
        "bias": false,
        "in_channels": 1,
        "kernel_size": [
         1,
         7
        ],
        "out_channels": 256,
        "padding": [
         0,
         3
        ]
       }
      },
      {
       "class": "ReLU",
       "kargs": {
        "inplace": true
       }
      },
      {
       "class": "BatchNorm2d",
       "kargs": {
        "num_features": 256
       }
      },
      {
       "class": "Conv2d",
       "kargs": {
        "bias": true,
        "in_channels": 256,
        "kernel_size": [
         2,
         7
        ],
        "out_channels": 80,
        "padding": [
         0,
         3
        ]
       }
      },
      {
       "class": "ReLU",
       "kargs": {
        "inplace": true
       }
      },
      {
       "class": "BatchNorm2d",
       "kargs": {
        "num_features": 80
       }
      },
      {
       "class": "Flatten",
       "kargs": {}
      },
      {
       "class": "Linear",
       "kargs": {
        "in_features": 20480,
        "out_features": 256
       }
      },
      {
       "class": "ReLU",
       "kargs": {
        "inplace": true
       }
      },
      {
       "class": "BatchNorm1d",
       "kargs": {
        "num_features": 256
       }
      },
      {
       "class": "Linear",
       "kargs": {
        "in_features": 256,
        "out_features": 256
       }
      }
     ]
    }
   },
   "start_time": "2022-03-22T23:51:57.817872",
   "version": "2.3.4"
  }
 },
 "nbformat": 4,
 "nbformat_minor": 5
}