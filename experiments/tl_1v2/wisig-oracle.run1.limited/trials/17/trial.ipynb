{
 "cells": [
  {
   "cell_type": "markdown",
   "id": "9fea5f46",
   "metadata": {
    "papermill": {
     "duration": 0.032455,
     "end_time": "2022-03-23T02:04:50.308877",
     "exception": false,
     "start_time": "2022-03-23T02:04:50.276422",
     "status": "completed"
    },
    "tags": []
   },
   "source": [
    "# Transfer Learning Template"
   ]
  },
  {
   "cell_type": "code",
   "execution_count": 1,
   "id": "0902182a",
   "metadata": {
    "execution": {
     "iopub.execute_input": "2022-03-23T02:04:50.377724Z",
     "iopub.status.busy": "2022-03-23T02:04:50.376872Z",
     "iopub.status.idle": "2022-03-23T02:04:52.234219Z",
     "shell.execute_reply": "2022-03-23T02:04:52.233321Z"
    },
    "papermill": {
     "duration": 1.897238,
     "end_time": "2022-03-23T02:04:52.234402",
     "exception": false,
     "start_time": "2022-03-23T02:04:50.337164",
     "status": "completed"
    },
    "tags": []
   },
   "outputs": [],
   "source": [
    "%load_ext autoreload\n",
    "%autoreload 2\n",
    "%matplotlib inline\n",
    "\n",
    "    \n",
    "import os, json, sys, time, random\n",
    "import numpy as np\n",
    "import torch\n",
    "from torch.optim import Adam\n",
    "from  easydict import EasyDict\n",
    "import matplotlib.pyplot as plt\n",
    "\n",
    "from steves_models.steves_ptn import Steves_Prototypical_Network\n",
    "\n",
    "from steves_utils.lazy_iterable_wrapper import Lazy_Iterable_Wrapper\n",
    "from steves_utils.iterable_aggregator import Iterable_Aggregator\n",
    "from steves_utils.ptn_train_eval_test_jig import  PTN_Train_Eval_Test_Jig\n",
    "from steves_utils.torch_sequential_builder import build_sequential\n",
    "from steves_utils.torch_utils import get_dataset_metrics, ptn_confusion_by_domain_over_dataloader\n",
    "from steves_utils.utils_v2 import (per_domain_accuracy_from_confusion, get_datasets_base_path)\n",
    "from steves_utils.PTN.utils import independent_accuracy_assesment\n",
    "\n",
    "from torch.utils.data import DataLoader\n",
    "\n",
    "from steves_utils.stratified_dataset.episodic_accessor import Episodic_Accessor_Factory\n",
    "\n",
    "from steves_utils.ptn_do_report import (\n",
    "    get_loss_curve,\n",
    "    get_results_table,\n",
    "    get_parameters_table,\n",
    "    get_domain_accuracies,\n",
    ")\n",
    "\n",
    "from steves_utils.transforms import get_chained_transform"
   ]
  },
  {
   "cell_type": "markdown",
   "id": "41c840b4",
   "metadata": {
    "papermill": {
     "duration": 0.019197,
     "end_time": "2022-03-23T02:04:52.279039",
     "exception": false,
     "start_time": "2022-03-23T02:04:52.259842",
     "status": "completed"
    },
    "tags": []
   },
   "source": [
    "# Allowed Parameters\n",
    "These are allowed parameters, not defaults\n",
    "Each of these values need to be present in the injected parameters (the notebook will raise an exception if they are not present)\n",
    "\n",
    "Papermill uses the cell tag \"parameters\" to inject the real parameters below this cell.\n",
    "Enable tags to see what I mean"
   ]
  },
  {
   "cell_type": "code",
   "execution_count": 2,
   "id": "fd44eb83",
   "metadata": {
    "execution": {
     "iopub.execute_input": "2022-03-23T02:04:52.323218Z",
     "iopub.status.busy": "2022-03-23T02:04:52.322574Z",
     "iopub.status.idle": "2022-03-23T02:04:52.345481Z",
     "shell.execute_reply": "2022-03-23T02:04:52.344673Z"
    },
    "papermill": {
     "duration": 0.047279,
     "end_time": "2022-03-23T02:04:52.345635",
     "exception": false,
     "start_time": "2022-03-23T02:04:52.298356",
     "status": "completed"
    },
    "tags": []
   },
   "outputs": [],
   "source": [
    "required_parameters = {\n",
    "    \"experiment_name\",\n",
    "    \"lr\",\n",
    "    \"device\",\n",
    "    \"seed\",\n",
    "    \"dataset_seed\",\n",
    "    \"n_shot\",\n",
    "    \"n_query\",\n",
    "    \"n_way\",\n",
    "    \"train_k_factor\",\n",
    "    \"val_k_factor\",\n",
    "    \"test_k_factor\",\n",
    "    \"n_epoch\",\n",
    "    \"patience\",\n",
    "    \"criteria_for_best\",\n",
    "    \"x_net\",\n",
    "    \"datasets\",\n",
    "    \"torch_default_dtype\",\n",
    "    \"NUM_LOGS_PER_EPOCH\",\n",
    "    \"BEST_MODEL_PATH\",\n",
    "    \"x_shape\",\n",
    "}"
   ]
  },
  {
   "cell_type": "code",
   "execution_count": 3,
   "id": "fa3f0049",
   "metadata": {
    "execution": {
     "iopub.execute_input": "2022-03-23T02:04:52.404260Z",
     "iopub.status.busy": "2022-03-23T02:04:52.403341Z",
     "iopub.status.idle": "2022-03-23T02:04:52.425289Z",
     "shell.execute_reply": "2022-03-23T02:04:52.424493Z"
    },
    "papermill": {
     "duration": 0.054181,
     "end_time": "2022-03-23T02:04:52.425445",
     "exception": false,
     "start_time": "2022-03-23T02:04:52.371264",
     "status": "completed"
    },
    "tags": [
     "parameters"
    ]
   },
   "outputs": [],
   "source": [
    "from steves_utils.CORES.utils import (\n",
    "    ALL_NODES,\n",
    "    ALL_NODES_MINIMUM_1000_EXAMPLES,\n",
    "    ALL_DAYS\n",
    ")\n",
    "\n",
    "from steves_utils.ORACLE.utils_v2 import (\n",
    "    ALL_DISTANCES_FEET_NARROWED,\n",
    "    ALL_RUNS,\n",
    "    ALL_SERIAL_NUMBERS,\n",
    ")\n",
    "\n",
    "standalone_parameters = {}\n",
    "standalone_parameters[\"experiment_name\"] = \"STANDALONE PTN\"\n",
    "standalone_parameters[\"lr\"] = 0.001\n",
    "standalone_parameters[\"device\"] = \"cuda\"\n",
    "\n",
    "standalone_parameters[\"seed\"] = 1337\n",
    "standalone_parameters[\"dataset_seed\"] = 1337\n",
    "\n",
    "standalone_parameters[\"n_way\"] = 8\n",
    "standalone_parameters[\"n_shot\"] = 3\n",
    "standalone_parameters[\"n_query\"]  = 2\n",
    "standalone_parameters[\"train_k_factor\"] = 1\n",
    "standalone_parameters[\"val_k_factor\"] = 2\n",
    "standalone_parameters[\"test_k_factor\"] = 2\n",
    "\n",
    "\n",
    "standalone_parameters[\"n_epoch\"] = 50\n",
    "\n",
    "standalone_parameters[\"patience\"] = 10\n",
    "standalone_parameters[\"criteria_for_best\"] = \"source_loss\"\n",
    "\n",
    "standalone_parameters[\"datasets\"] = [\n",
    "    {\n",
    "        \"labels\": ALL_SERIAL_NUMBERS,\n",
    "        \"domains\": ALL_DISTANCES_FEET_NARROWED,\n",
    "        \"num_examples_per_domain_per_label\": 100,\n",
    "        \"pickle_path\": os.path.join(get_datasets_base_path(), \"oracle.Run1_framed_2000Examples_stratified_ds.2022A.pkl\"),\n",
    "        \"source_or_target_dataset\": \"source\",\n",
    "        \"x_transforms\": [\"unit_mag\", \"minus_two\"],\n",
    "        \"episode_transforms\": [],\n",
    "        \"domain_prefix\": \"ORACLE_\"\n",
    "    },\n",
    "    {\n",
    "        \"labels\": ALL_NODES,\n",
    "        \"domains\": ALL_DAYS,\n",
    "        \"num_examples_per_domain_per_label\": 100,\n",
    "        \"pickle_path\": os.path.join(get_datasets_base_path(), \"cores.stratified_ds.2022A.pkl\"),\n",
    "        \"source_or_target_dataset\": \"target\",\n",
    "        \"x_transforms\": [\"unit_power\", \"times_zero\"],\n",
    "        \"episode_transforms\": [],\n",
    "        \"domain_prefix\": \"CORES_\"\n",
    "    }   \n",
    "]\n",
    "\n",
    "standalone_parameters[\"torch_default_dtype\"] = \"torch.float32\" \n",
    "\n",
    "\n",
    "\n",
    "standalone_parameters[\"x_net\"] =     [\n",
    "    {\"class\": \"nnReshape\", \"kargs\": {\"shape\":[-1, 1, 2, 256]}},\n",
    "    {\"class\": \"Conv2d\", \"kargs\": { \"in_channels\":1, \"out_channels\":256, \"kernel_size\":(1,7), \"bias\":False, \"padding\":(0,3), },},\n",
    "    {\"class\": \"ReLU\", \"kargs\": {\"inplace\": True}},\n",
    "    {\"class\": \"BatchNorm2d\", \"kargs\": {\"num_features\":256}},\n",
    "\n",
    "    {\"class\": \"Conv2d\", \"kargs\": { \"in_channels\":256, \"out_channels\":80, \"kernel_size\":(2,7), \"bias\":True, \"padding\":(0,3), },},\n",
    "    {\"class\": \"ReLU\", \"kargs\": {\"inplace\": True}},\n",
    "    {\"class\": \"BatchNorm2d\", \"kargs\": {\"num_features\":80}},\n",
    "    {\"class\": \"Flatten\", \"kargs\": {}},\n",
    "\n",
    "    {\"class\": \"Linear\", \"kargs\": {\"in_features\": 80*256, \"out_features\": 256}}, # 80 units per IQ pair\n",
    "    {\"class\": \"ReLU\", \"kargs\": {\"inplace\": True}},\n",
    "    {\"class\": \"BatchNorm1d\", \"kargs\": {\"num_features\":256}},\n",
    "\n",
    "    {\"class\": \"Linear\", \"kargs\": {\"in_features\": 256, \"out_features\": 256}},\n",
    "]\n",
    "\n",
    "# Parameters relevant to results\n",
    "# These parameters will basically never need to change\n",
    "standalone_parameters[\"NUM_LOGS_PER_EPOCH\"] = 10\n",
    "standalone_parameters[\"BEST_MODEL_PATH\"] = \"./best_model.pth\"\n",
    "\n",
    "\n",
    "\n",
    "\n"
   ]
  },
  {
   "cell_type": "code",
   "execution_count": 4,
   "id": "65f040c4",
   "metadata": {
    "execution": {
     "iopub.execute_input": "2022-03-23T02:04:52.490076Z",
     "iopub.status.busy": "2022-03-23T02:04:52.489085Z",
     "iopub.status.idle": "2022-03-23T02:04:52.510312Z",
     "shell.execute_reply": "2022-03-23T02:04:52.509636Z"
    },
    "papermill": {
     "duration": 0.059628,
     "end_time": "2022-03-23T02:04:52.510470",
     "exception": false,
     "start_time": "2022-03-23T02:04:52.450842",
     "status": "completed"
    },
    "tags": [
     "injected-parameters"
    ]
   },
   "outputs": [],
   "source": [
    "# Parameters\n",
    "parameters = {\n",
    "    \"experiment_name\": \"tl_1v2:wisig-oracle.run1.limited\",\n",
    "    \"device\": \"cuda\",\n",
    "    \"lr\": 0.0001,\n",
    "    \"n_shot\": 3,\n",
    "    \"n_query\": 2,\n",
    "    \"train_k_factor\": 3,\n",
    "    \"val_k_factor\": 2,\n",
    "    \"test_k_factor\": 2,\n",
    "    \"torch_default_dtype\": \"torch.float32\",\n",
    "    \"n_epoch\": 50,\n",
    "    \"patience\": 3,\n",
    "    \"criteria_for_best\": \"target_accuracy\",\n",
    "    \"x_net\": [\n",
    "        {\"class\": \"nnReshape\", \"kargs\": {\"shape\": [-1, 1, 2, 256]}},\n",
    "        {\n",
    "            \"class\": \"Conv2d\",\n",
    "            \"kargs\": {\n",
    "                \"in_channels\": 1,\n",
    "                \"out_channels\": 256,\n",
    "                \"kernel_size\": [1, 7],\n",
    "                \"bias\": False,\n",
    "                \"padding\": [0, 3],\n",
    "            },\n",
    "        },\n",
    "        {\"class\": \"ReLU\", \"kargs\": {\"inplace\": True}},\n",
    "        {\"class\": \"BatchNorm2d\", \"kargs\": {\"num_features\": 256}},\n",
    "        {\n",
    "            \"class\": \"Conv2d\",\n",
    "            \"kargs\": {\n",
    "                \"in_channels\": 256,\n",
    "                \"out_channels\": 80,\n",
    "                \"kernel_size\": [2, 7],\n",
    "                \"bias\": True,\n",
    "                \"padding\": [0, 3],\n",
    "            },\n",
    "        },\n",
    "        {\"class\": \"ReLU\", \"kargs\": {\"inplace\": True}},\n",
    "        {\"class\": \"BatchNorm2d\", \"kargs\": {\"num_features\": 80}},\n",
    "        {\"class\": \"Flatten\", \"kargs\": {}},\n",
    "        {\"class\": \"Linear\", \"kargs\": {\"in_features\": 20480, \"out_features\": 256}},\n",
    "        {\"class\": \"ReLU\", \"kargs\": {\"inplace\": True}},\n",
    "        {\"class\": \"BatchNorm1d\", \"kargs\": {\"num_features\": 256}},\n",
    "        {\"class\": \"Linear\", \"kargs\": {\"in_features\": 256, \"out_features\": 256}},\n",
    "    ],\n",
    "    \"NUM_LOGS_PER_EPOCH\": 10,\n",
    "    \"BEST_MODEL_PATH\": \"./best_model.pth\",\n",
    "    \"n_way\": 16,\n",
    "    \"datasets\": [\n",
    "        {\n",
    "            \"labels\": [\n",
    "                \"1-10\",\n",
    "                \"1-12\",\n",
    "                \"1-14\",\n",
    "                \"1-16\",\n",
    "                \"1-18\",\n",
    "                \"1-19\",\n",
    "                \"1-8\",\n",
    "                \"10-11\",\n",
    "                \"10-17\",\n",
    "                \"10-4\",\n",
    "                \"10-7\",\n",
    "                \"11-1\",\n",
    "                \"11-10\",\n",
    "                \"11-19\",\n",
    "                \"11-20\",\n",
    "                \"11-4\",\n",
    "                \"11-7\",\n",
    "                \"12-19\",\n",
    "                \"12-20\",\n",
    "                \"12-7\",\n",
    "                \"13-14\",\n",
    "                \"13-18\",\n",
    "                \"13-19\",\n",
    "                \"13-20\",\n",
    "                \"13-3\",\n",
    "                \"13-7\",\n",
    "                \"14-10\",\n",
    "                \"14-11\",\n",
    "                \"14-12\",\n",
    "                \"14-13\",\n",
    "                \"14-14\",\n",
    "                \"14-19\",\n",
    "                \"14-20\",\n",
    "                \"14-7\",\n",
    "                \"14-8\",\n",
    "                \"14-9\",\n",
    "                \"15-1\",\n",
    "                \"15-19\",\n",
    "                \"15-6\",\n",
    "                \"16-1\",\n",
    "                \"16-16\",\n",
    "                \"16-19\",\n",
    "                \"16-20\",\n",
    "                \"17-10\",\n",
    "                \"17-11\",\n",
    "                \"18-1\",\n",
    "                \"18-10\",\n",
    "                \"18-11\",\n",
    "                \"18-12\",\n",
    "                \"18-13\",\n",
    "                \"18-14\",\n",
    "                \"18-15\",\n",
    "                \"18-16\",\n",
    "                \"18-17\",\n",
    "                \"18-19\",\n",
    "                \"18-2\",\n",
    "                \"18-20\",\n",
    "                \"18-4\",\n",
    "                \"18-5\",\n",
    "                \"18-7\",\n",
    "                \"18-8\",\n",
    "                \"18-9\",\n",
    "                \"19-1\",\n",
    "                \"19-10\",\n",
    "                \"19-11\",\n",
    "                \"19-12\",\n",
    "                \"19-13\",\n",
    "                \"19-14\",\n",
    "                \"19-15\",\n",
    "                \"19-19\",\n",
    "                \"19-2\",\n",
    "                \"19-20\",\n",
    "                \"19-3\",\n",
    "                \"19-4\",\n",
    "                \"19-6\",\n",
    "                \"19-7\",\n",
    "                \"19-8\",\n",
    "                \"19-9\",\n",
    "                \"2-1\",\n",
    "                \"2-13\",\n",
    "                \"2-15\",\n",
    "                \"2-3\",\n",
    "                \"2-4\",\n",
    "                \"2-5\",\n",
    "                \"2-6\",\n",
    "                \"2-7\",\n",
    "                \"2-8\",\n",
    "                \"20-1\",\n",
    "                \"20-12\",\n",
    "                \"20-14\",\n",
    "                \"20-15\",\n",
    "                \"20-16\",\n",
    "                \"20-18\",\n",
    "                \"20-19\",\n",
    "                \"20-20\",\n",
    "                \"20-3\",\n",
    "                \"20-4\",\n",
    "                \"20-5\",\n",
    "                \"20-7\",\n",
    "                \"20-8\",\n",
    "                \"3-1\",\n",
    "                \"3-13\",\n",
    "                \"3-18\",\n",
    "                \"3-2\",\n",
    "                \"3-8\",\n",
    "                \"4-1\",\n",
    "                \"4-10\",\n",
    "                \"4-11\",\n",
    "                \"5-1\",\n",
    "                \"5-5\",\n",
    "                \"6-1\",\n",
    "                \"6-15\",\n",
    "                \"6-6\",\n",
    "                \"7-10\",\n",
    "                \"7-11\",\n",
    "                \"7-12\",\n",
    "                \"7-13\",\n",
    "                \"7-14\",\n",
    "                \"7-7\",\n",
    "                \"7-8\",\n",
    "                \"7-9\",\n",
    "                \"8-1\",\n",
    "                \"8-13\",\n",
    "                \"8-14\",\n",
    "                \"8-18\",\n",
    "                \"8-20\",\n",
    "                \"8-3\",\n",
    "                \"8-8\",\n",
    "                \"9-1\",\n",
    "                \"9-7\",\n",
    "            ],\n",
    "            \"domains\": [1, 2, 3, 4],\n",
    "            \"num_examples_per_domain_per_label\": -1,\n",
    "            \"pickle_path\": \"/root/csc500-main/datasets/wisig.node3-19.stratified_ds.2022A.pkl\",\n",
    "            \"source_or_target_dataset\": \"target\",\n",
    "            \"x_transforms\": [],\n",
    "            \"episode_transforms\": [],\n",
    "            \"domain_prefix\": \"Wisig_\",\n",
    "        },\n",
    "        {\n",
    "            \"labels\": [\n",
    "                \"3123D52\",\n",
    "                \"3123D65\",\n",
    "                \"3123D79\",\n",
    "                \"3123D80\",\n",
    "                \"3123D54\",\n",
    "                \"3123D70\",\n",
    "                \"3123D7B\",\n",
    "                \"3123D89\",\n",
    "                \"3123D58\",\n",
    "                \"3123D76\",\n",
    "                \"3123D7D\",\n",
    "                \"3123EFE\",\n",
    "                \"3123D64\",\n",
    "                \"3123D78\",\n",
    "                \"3123D7E\",\n",
    "                \"3124E4A\",\n",
    "            ],\n",
    "            \"domains\": [32, 38, 8, 44, 14, 50, 20, 26],\n",
    "            \"num_examples_per_domain_per_label\": 2000,\n",
    "            \"pickle_path\": \"/root/csc500-main/datasets/oracle.Run1_10kExamples_stratified_ds.2022A.pkl\",\n",
    "            \"source_or_target_dataset\": \"source\",\n",
    "            \"x_transforms\": [],\n",
    "            \"episode_transforms\": [],\n",
    "            \"domain_prefix\": \"ORACLE.run1\",\n",
    "        },\n",
    "    ],\n",
    "    \"dataset_seed\": 154325,\n",
    "    \"seed\": 154325,\n",
    "}\n"
   ]
  },
  {
   "cell_type": "code",
   "execution_count": 5,
   "id": "8fa1cc33",
   "metadata": {
    "execution": {
     "iopub.execute_input": "2022-03-23T02:04:52.563098Z",
     "iopub.status.busy": "2022-03-23T02:04:52.562528Z",
     "iopub.status.idle": "2022-03-23T02:04:52.586448Z",
     "shell.execute_reply": "2022-03-23T02:04:52.585643Z"
    },
    "papermill": {
     "duration": 0.050753,
     "end_time": "2022-03-23T02:04:52.586601",
     "exception": false,
     "start_time": "2022-03-23T02:04:52.535848",
     "status": "completed"
    },
    "tags": []
   },
   "outputs": [],
   "source": [
    "# Set this to True if you want to run this template directly\n",
    "STANDALONE = False\n",
    "if STANDALONE:\n",
    "    print(\"parameters not injected, running with standalone_parameters\")\n",
    "    parameters = standalone_parameters\n",
    "\n",
    "if not 'parameters' in locals() and not 'parameters' in globals():\n",
    "    raise Exception(\"Parameter injection failed\")\n",
    "\n",
    "#Use an easy dict for all the parameters\n",
    "p = EasyDict(parameters)\n",
    "\n",
    "if \"x_shape\" not in p:\n",
    "    p.x_shape = [2,256] # Default to this if we dont supply x_shape\n",
    "\n",
    "\n",
    "supplied_keys = set(p.keys())\n",
    "\n",
    "if  supplied_keys != required_parameters:\n",
    "    print(\"Parameters are incorrect\")\n",
    "    if len(supplied_keys - required_parameters)>0: print(\"Shouldn't have:\", str(supplied_keys - required_parameters))\n",
    "    if len(required_parameters - supplied_keys)>0: print(\"Need to have:\", str(required_parameters - supplied_keys))\n",
    "    raise RuntimeError(\"Parameters are incorrect\")"
   ]
  },
  {
   "cell_type": "code",
   "execution_count": 6,
   "id": "3a028d58",
   "metadata": {
    "execution": {
     "iopub.execute_input": "2022-03-23T02:04:52.637877Z",
     "iopub.status.busy": "2022-03-23T02:04:52.637510Z",
     "iopub.status.idle": "2022-03-23T02:04:52.661079Z",
     "shell.execute_reply": "2022-03-23T02:04:52.660383Z"
    },
    "papermill": {
     "duration": 0.047146,
     "end_time": "2022-03-23T02:04:52.661228",
     "exception": false,
     "start_time": "2022-03-23T02:04:52.614082",
     "status": "completed"
    },
    "tags": []
   },
   "outputs": [],
   "source": [
    "###################################\n",
    "# Set the RNGs and make it all deterministic\n",
    "###################################\n",
    "np.random.seed(p.seed)\n",
    "random.seed(p.seed)\n",
    "torch.manual_seed(p.seed)\n",
    "\n",
    "torch.use_deterministic_algorithms(True) "
   ]
  },
  {
   "cell_type": "code",
   "execution_count": 7,
   "id": "b691acf6",
   "metadata": {
    "execution": {
     "iopub.execute_input": "2022-03-23T02:04:52.710709Z",
     "iopub.status.busy": "2022-03-23T02:04:52.710311Z",
     "iopub.status.idle": "2022-03-23T02:04:52.733656Z",
     "shell.execute_reply": "2022-03-23T02:04:52.732960Z"
    },
    "papermill": {
     "duration": 0.046764,
     "end_time": "2022-03-23T02:04:52.733808",
     "exception": false,
     "start_time": "2022-03-23T02:04:52.687044",
     "status": "completed"
    },
    "tags": []
   },
   "outputs": [],
   "source": [
    "###########################################\n",
    "# The stratified datasets honor this\n",
    "###########################################\n",
    "torch.set_default_dtype(eval(p.torch_default_dtype))"
   ]
  },
  {
   "cell_type": "code",
   "execution_count": 8,
   "id": "b5fba671",
   "metadata": {
    "execution": {
     "iopub.execute_input": "2022-03-23T02:04:52.783227Z",
     "iopub.status.busy": "2022-03-23T02:04:52.782864Z",
     "iopub.status.idle": "2022-03-23T02:04:52.834284Z",
     "shell.execute_reply": "2022-03-23T02:04:52.833588Z"
    },
    "papermill": {
     "duration": 0.07313,
     "end_time": "2022-03-23T02:04:52.834434",
     "exception": false,
     "start_time": "2022-03-23T02:04:52.761304",
     "status": "completed"
    },
    "tags": []
   },
   "outputs": [],
   "source": [
    "###################################\n",
    "# Build the network(s)\n",
    "# Note: It's critical to do this AFTER setting the RNG\n",
    "###################################\n",
    "x_net = build_sequential(p.x_net)"
   ]
  },
  {
   "cell_type": "code",
   "execution_count": 9,
   "id": "5d7e61cc",
   "metadata": {
    "execution": {
     "iopub.execute_input": "2022-03-23T02:04:52.884582Z",
     "iopub.status.busy": "2022-03-23T02:04:52.884217Z",
     "iopub.status.idle": "2022-03-23T02:04:52.904521Z",
     "shell.execute_reply": "2022-03-23T02:04:52.903826Z"
    },
    "papermill": {
     "duration": 0.042703,
     "end_time": "2022-03-23T02:04:52.904671",
     "exception": false,
     "start_time": "2022-03-23T02:04:52.861968",
     "status": "completed"
    },
    "tags": []
   },
   "outputs": [],
   "source": [
    "start_time_secs = time.time()"
   ]
  },
  {
   "cell_type": "code",
   "execution_count": 10,
   "id": "c6b67dfd",
   "metadata": {
    "execution": {
     "iopub.execute_input": "2022-03-23T02:04:52.957017Z",
     "iopub.status.busy": "2022-03-23T02:04:52.956475Z",
     "iopub.status.idle": "2022-03-23T02:04:52.979245Z",
     "shell.execute_reply": "2022-03-23T02:04:52.978476Z"
    },
    "papermill": {
     "duration": 0.046349,
     "end_time": "2022-03-23T02:04:52.979393",
     "exception": false,
     "start_time": "2022-03-23T02:04:52.933044",
     "status": "completed"
    },
    "tags": []
   },
   "outputs": [],
   "source": [
    "p.domains_source = []\n",
    "p.domains_target = []\n",
    "\n",
    "\n",
    "train_original_source = []\n",
    "val_original_source   = []\n",
    "test_original_source  = []\n",
    "\n",
    "train_original_target = []\n",
    "val_original_target   = []\n",
    "test_original_target  = []"
   ]
  },
  {
   "cell_type": "code",
   "execution_count": 11,
   "id": "e3d9c3d3",
   "metadata": {
    "execution": {
     "iopub.execute_input": "2022-03-23T02:04:53.027852Z",
     "iopub.status.busy": "2022-03-23T02:04:53.027478Z",
     "iopub.status.idle": "2022-03-23T02:04:53.049992Z",
     "shell.execute_reply": "2022-03-23T02:04:53.050639Z"
    },
    "papermill": {
     "duration": 0.045043,
     "end_time": "2022-03-23T02:04:53.050809",
     "exception": false,
     "start_time": "2022-03-23T02:04:53.005766",
     "status": "completed"
    },
    "tags": []
   },
   "outputs": [],
   "source": [
    "# global_x_transform_func = lambda x: normalize(x.to(torch.get_default_dtype()), \"unit_power\") # unit_power, unit_mag\n",
    "# global_x_transform_func = lambda x: normalize(x, \"unit_power\") # unit_power, unit_mag"
   ]
  },
  {
   "cell_type": "code",
   "execution_count": 12,
   "id": "acb78fd2",
   "metadata": {
    "execution": {
     "iopub.execute_input": "2022-03-23T02:04:53.101577Z",
     "iopub.status.busy": "2022-03-23T02:04:53.101009Z",
     "iopub.status.idle": "2022-03-23T02:04:53.120358Z",
     "shell.execute_reply": "2022-03-23T02:04:53.119670Z"
    },
    "papermill": {
     "duration": 0.045278,
     "end_time": "2022-03-23T02:04:53.120506",
     "exception": false,
     "start_time": "2022-03-23T02:04:53.075228",
     "status": "completed"
    },
    "tags": []
   },
   "outputs": [],
   "source": [
    "def add_dataset(\n",
    "    labels,\n",
    "    domains,\n",
    "    pickle_path,\n",
    "    x_transforms,\n",
    "    episode_transforms,\n",
    "    domain_prefix,\n",
    "    num_examples_per_domain_per_label,\n",
    "    source_or_target_dataset:str,\n",
    "    iterator_seed=p.seed,\n",
    "    dataset_seed=p.dataset_seed,\n",
    "    n_shot=p.n_shot,\n",
    "    n_way=p.n_way,\n",
    "    n_query=p.n_query,\n",
    "    train_val_test_k_factors=(p.train_k_factor,p.val_k_factor,p.test_k_factor),\n",
    "):\n",
    "   \n",
    "    if x_transforms == []: x_transform = None\n",
    "    else: x_transform = get_chained_transform(x_transforms)\n",
    "    \n",
    "    if episode_transforms == []: episode_transform = None\n",
    "    else: raise Exception(\"episode_transforms not implemented\")\n",
    "    \n",
    "    episode_transform = lambda tup, _prefix=domain_prefix: (_prefix + str(tup[0]), tup[1])\n",
    "\n",
    "\n",
    "    eaf = Episodic_Accessor_Factory(\n",
    "        labels=labels,\n",
    "        domains=domains,\n",
    "        num_examples_per_domain_per_label=num_examples_per_domain_per_label,\n",
    "        iterator_seed=iterator_seed,\n",
    "        dataset_seed=dataset_seed,\n",
    "        n_shot=n_shot,\n",
    "        n_way=n_way,\n",
    "        n_query=n_query,\n",
    "        train_val_test_k_factors=train_val_test_k_factors,\n",
    "        pickle_path=pickle_path,\n",
    "        x_transform_func=x_transform,\n",
    "    )\n",
    "\n",
    "    train, val, test = eaf.get_train(), eaf.get_val(), eaf.get_test()\n",
    "    train = Lazy_Iterable_Wrapper(train, episode_transform)\n",
    "    val = Lazy_Iterable_Wrapper(val, episode_transform)\n",
    "    test = Lazy_Iterable_Wrapper(test, episode_transform)\n",
    "\n",
    "    if source_or_target_dataset==\"source\":\n",
    "        train_original_source.append(train)\n",
    "        val_original_source.append(val)\n",
    "        test_original_source.append(test)\n",
    "\n",
    "        p.domains_source.extend(\n",
    "            [domain_prefix + str(u) for u in domains]\n",
    "        )\n",
    "    elif source_or_target_dataset==\"target\":\n",
    "        train_original_target.append(train)\n",
    "        val_original_target.append(val)\n",
    "        test_original_target.append(test)\n",
    "        p.domains_target.extend(\n",
    "            [domain_prefix + str(u) for u in domains]\n",
    "        )\n",
    "    else:\n",
    "        raise Exception(f\"invalid source_or_target_dataset: {source_or_target_dataset}\")\n",
    "    "
   ]
  },
  {
   "cell_type": "code",
   "execution_count": 13,
   "id": "fe266617",
   "metadata": {
    "execution": {
     "iopub.execute_input": "2022-03-23T02:04:53.167773Z",
     "iopub.status.busy": "2022-03-23T02:04:53.167271Z",
     "iopub.status.idle": "2022-03-23T02:04:59.546287Z",
     "shell.execute_reply": "2022-03-23T02:04:59.545547Z"
    },
    "papermill": {
     "duration": 6.40176,
     "end_time": "2022-03-23T02:04:59.546471",
     "exception": false,
     "start_time": "2022-03-23T02:04:53.144711",
     "status": "completed"
    },
    "tags": []
   },
   "outputs": [],
   "source": [
    "for ds in p.datasets:\n",
    "    add_dataset(**ds)"
   ]
  },
  {
   "cell_type": "code",
   "execution_count": 14,
   "id": "b90d65ac",
   "metadata": {
    "execution": {
     "iopub.execute_input": "2022-03-23T02:04:59.598692Z",
     "iopub.status.busy": "2022-03-23T02:04:59.598321Z",
     "iopub.status.idle": "2022-03-23T02:04:59.623374Z",
     "shell.execute_reply": "2022-03-23T02:04:59.622675Z"
    },
    "papermill": {
     "duration": 0.048395,
     "end_time": "2022-03-23T02:04:59.623526",
     "exception": false,
     "start_time": "2022-03-23T02:04:59.575131",
     "status": "completed"
    },
    "tags": []
   },
   "outputs": [],
   "source": [
    "# from steves_utils.CORES.utils import (\n",
    "#     ALL_NODES,\n",
    "#     ALL_NODES_MINIMUM_1000_EXAMPLES,\n",
    "#     ALL_DAYS\n",
    "# )\n",
    "\n",
    "# add_dataset(\n",
    "#     labels=ALL_NODES,\n",
    "#     domains = ALL_DAYS,\n",
    "#     num_examples_per_domain_per_label=100,\n",
    "#     pickle_path=os.path.join(get_datasets_base_path(), \"cores.stratified_ds.2022A.pkl\"),\n",
    "#     source_or_target_dataset=\"target\",\n",
    "#     x_transform_func=global_x_transform_func,\n",
    "#     domain_modifier=lambda u: f\"cores_{u}\"\n",
    "# )"
   ]
  },
  {
   "cell_type": "code",
   "execution_count": 15,
   "id": "76db484d",
   "metadata": {
    "execution": {
     "iopub.execute_input": "2022-03-23T02:04:59.677447Z",
     "iopub.status.busy": "2022-03-23T02:04:59.676889Z",
     "iopub.status.idle": "2022-03-23T02:04:59.698277Z",
     "shell.execute_reply": "2022-03-23T02:04:59.697573Z"
    },
    "papermill": {
     "duration": 0.045325,
     "end_time": "2022-03-23T02:04:59.698445",
     "exception": false,
     "start_time": "2022-03-23T02:04:59.653120",
     "status": "completed"
    },
    "tags": []
   },
   "outputs": [],
   "source": [
    "# from steves_utils.ORACLE.utils_v2 import (\n",
    "#     ALL_DISTANCES_FEET,\n",
    "#     ALL_RUNS,\n",
    "#     ALL_SERIAL_NUMBERS,\n",
    "# )\n",
    "\n",
    "\n",
    "# add_dataset(\n",
    "#     labels=ALL_SERIAL_NUMBERS,\n",
    "#     domains = list(set(ALL_DISTANCES_FEET) - {2,62}),\n",
    "#     num_examples_per_domain_per_label=100,\n",
    "#     pickle_path=os.path.join(get_datasets_base_path(), \"oracle.Run2_framed_2000Examples_stratified_ds.2022A.pkl\"),\n",
    "#     source_or_target_dataset=\"source\",\n",
    "#     x_transform_func=global_x_transform_func,\n",
    "#     domain_modifier=lambda u: f\"oracle1_{u}\"\n",
    "# )\n"
   ]
  },
  {
   "cell_type": "code",
   "execution_count": 16,
   "id": "97dea9d2",
   "metadata": {
    "execution": {
     "iopub.execute_input": "2022-03-23T02:04:59.748895Z",
     "iopub.status.busy": "2022-03-23T02:04:59.748394Z",
     "iopub.status.idle": "2022-03-23T02:04:59.765163Z",
     "shell.execute_reply": "2022-03-23T02:04:59.764452Z"
    },
    "papermill": {
     "duration": 0.040911,
     "end_time": "2022-03-23T02:04:59.765320",
     "exception": false,
     "start_time": "2022-03-23T02:04:59.724409",
     "status": "completed"
    },
    "tags": []
   },
   "outputs": [],
   "source": [
    "# from steves_utils.ORACLE.utils_v2 import (\n",
    "#     ALL_DISTANCES_FEET,\n",
    "#     ALL_RUNS,\n",
    "#     ALL_SERIAL_NUMBERS,\n",
    "# )\n",
    "\n",
    "\n",
    "# add_dataset(\n",
    "#     labels=ALL_SERIAL_NUMBERS,\n",
    "#     domains = list(set(ALL_DISTANCES_FEET) - {2,62,56}),\n",
    "#     num_examples_per_domain_per_label=100,\n",
    "#     pickle_path=os.path.join(get_datasets_base_path(), \"oracle.Run2_framed_2000Examples_stratified_ds.2022A.pkl\"),\n",
    "#     source_or_target_dataset=\"source\",\n",
    "#     x_transform_func=global_x_transform_func,\n",
    "#     domain_modifier=lambda u: f\"oracle2_{u}\"\n",
    "# )"
   ]
  },
  {
   "cell_type": "code",
   "execution_count": 17,
   "id": "6f289866",
   "metadata": {
    "execution": {
     "iopub.execute_input": "2022-03-23T02:04:59.817737Z",
     "iopub.status.busy": "2022-03-23T02:04:59.817368Z",
     "iopub.status.idle": "2022-03-23T02:04:59.838306Z",
     "shell.execute_reply": "2022-03-23T02:04:59.837593Z"
    },
    "papermill": {
     "duration": 0.045632,
     "end_time": "2022-03-23T02:04:59.838462",
     "exception": false,
     "start_time": "2022-03-23T02:04:59.792830",
     "status": "completed"
    },
    "tags": []
   },
   "outputs": [],
   "source": [
    "# add_dataset(\n",
    "#     labels=list(range(19)),\n",
    "#     domains = [0,1,2],\n",
    "#     num_examples_per_domain_per_label=100,\n",
    "#     pickle_path=os.path.join(get_datasets_base_path(), \"metehan.stratified_ds.2022A.pkl\"),\n",
    "#     source_or_target_dataset=\"target\",\n",
    "#     x_transform_func=global_x_transform_func,\n",
    "#     domain_modifier=lambda u: f\"met_{u}\"\n",
    "# )"
   ]
  },
  {
   "cell_type": "code",
   "execution_count": 18,
   "id": "86a863c3",
   "metadata": {
    "execution": {
     "iopub.execute_input": "2022-03-23T02:04:59.889618Z",
     "iopub.status.busy": "2022-03-23T02:04:59.889248Z",
     "iopub.status.idle": "2022-03-23T02:04:59.906206Z",
     "shell.execute_reply": "2022-03-23T02:04:59.905496Z"
    },
    "papermill": {
     "duration": 0.041049,
     "end_time": "2022-03-23T02:04:59.906362",
     "exception": false,
     "start_time": "2022-03-23T02:04:59.865313",
     "status": "completed"
    },
    "tags": []
   },
   "outputs": [],
   "source": [
    "# # from steves_utils.wisig.utils import (\n",
    "# #     ALL_NODES_MINIMUM_100_EXAMPLES,\n",
    "# #     ALL_NODES_MINIMUM_500_EXAMPLES,\n",
    "# #     ALL_NODES_MINIMUM_1000_EXAMPLES,\n",
    "# #     ALL_DAYS\n",
    "# # )\n",
    "\n",
    "# import steves_utils.wisig.utils as wisig\n",
    "\n",
    "\n",
    "# add_dataset(\n",
    "#     labels=wisig.ALL_NODES_MINIMUM_100_EXAMPLES,\n",
    "#     domains = wisig.ALL_DAYS,\n",
    "#     num_examples_per_domain_per_label=100,\n",
    "#     pickle_path=os.path.join(get_datasets_base_path(), \"wisig.node3-19.stratified_ds.2022A.pkl\"),\n",
    "#     source_or_target_dataset=\"target\",\n",
    "#     x_transform_func=global_x_transform_func,\n",
    "#     domain_modifier=lambda u: f\"wisig_{u}\"\n",
    "# )"
   ]
  },
  {
   "cell_type": "code",
   "execution_count": 19,
   "id": "fd5442bc",
   "metadata": {
    "execution": {
     "iopub.execute_input": "2022-03-23T02:04:59.964007Z",
     "iopub.status.busy": "2022-03-23T02:04:59.963625Z",
     "iopub.status.idle": "2022-03-23T02:04:59.983005Z",
     "shell.execute_reply": "2022-03-23T02:04:59.982289Z"
    },
    "papermill": {
     "duration": 0.049659,
     "end_time": "2022-03-23T02:04:59.983164",
     "exception": false,
     "start_time": "2022-03-23T02:04:59.933505",
     "status": "completed"
    },
    "tags": []
   },
   "outputs": [],
   "source": [
    "###################################\n",
    "# Build the dataset\n",
    "###################################\n",
    "train_original_source = Iterable_Aggregator(train_original_source, p.seed)\n",
    "val_original_source = Iterable_Aggregator(val_original_source, p.seed)\n",
    "test_original_source = Iterable_Aggregator(test_original_source, p.seed)\n",
    "\n",
    "\n",
    "train_original_target = Iterable_Aggregator(train_original_target, p.seed)\n",
    "val_original_target = Iterable_Aggregator(val_original_target, p.seed)\n",
    "test_original_target = Iterable_Aggregator(test_original_target, p.seed)\n",
    "\n",
    "# For CNN We only use X and Y. And we only train on the source.\n",
    "# Properly form the data using a transform lambda and Lazy_Iterable_Wrapper. Finally wrap them in a dataloader\n",
    "\n",
    "transform_lambda = lambda ex: ex[1] # Original is (<domain>, <episode>) so we strip down to episode only\n",
    "\n",
    "train_processed_source = Lazy_Iterable_Wrapper(train_original_source, transform_lambda)\n",
    "val_processed_source   = Lazy_Iterable_Wrapper(val_original_source, transform_lambda)\n",
    "test_processed_source  = Lazy_Iterable_Wrapper(test_original_source, transform_lambda)\n",
    "\n",
    "train_processed_target = Lazy_Iterable_Wrapper(train_original_target, transform_lambda)\n",
    "val_processed_target   = Lazy_Iterable_Wrapper(val_original_target, transform_lambda)\n",
    "test_processed_target  = Lazy_Iterable_Wrapper(test_original_target, transform_lambda)\n",
    "\n",
    "datasets = EasyDict({\n",
    "    \"source\": {\n",
    "        \"original\": {\"train\":train_original_source, \"val\":val_original_source, \"test\":test_original_source},\n",
    "        \"processed\": {\"train\":train_processed_source, \"val\":val_processed_source, \"test\":test_processed_source}\n",
    "    },\n",
    "    \"target\": {\n",
    "        \"original\": {\"train\":train_original_target, \"val\":val_original_target, \"test\":test_original_target},\n",
    "        \"processed\": {\"train\":train_processed_target, \"val\":val_processed_target, \"test\":test_processed_target}\n",
    "    },\n",
    "})"
   ]
  },
  {
   "cell_type": "code",
   "execution_count": 20,
   "id": "5b3c01fc",
   "metadata": {
    "execution": {
     "iopub.execute_input": "2022-03-23T02:05:00.034827Z",
     "iopub.status.busy": "2022-03-23T02:05:00.034450Z",
     "iopub.status.idle": "2022-03-23T02:05:14.775671Z",
     "shell.execute_reply": "2022-03-23T02:05:14.776359Z"
    },
    "papermill": {
     "duration": 14.766592,
     "end_time": "2022-03-23T02:05:14.776576",
     "exception": false,
     "start_time": "2022-03-23T02:05:00.009984",
     "status": "completed"
    },
    "tags": []
   },
   "outputs": [
    {
     "name": "stdout",
     "output_type": "stream",
     "text": [
      "{'ORACLE.run150', 'ORACLE.run126', 'ORACLE.run138', 'ORACLE.run18', 'ORACLE.run132', 'ORACLE.run114', 'ORACLE.run120', 'ORACLE.run144'}\n"
     ]
    },
    {
     "name": "stdout",
     "output_type": "stream",
     "text": [
      "{'Wisig_2', 'Wisig_1', 'Wisig_3', 'Wisig_4'}\n"
     ]
    },
    {
     "name": "stdout",
     "output_type": "stream",
     "text": [
      "tensor([[[ 1.4344e-03, -2.2279e-03, -4.6388e-03,  ...,  1.0987e-03,\n",
      "          -4.8830e-04,  2.1668e-03],\n",
      "         [ 6.1037e-05,  5.8901e-03, -2.4110e-03,  ...,  9.1556e-05,\n",
      "           1.4039e-03,  5.2797e-03]],\n",
      "\n",
      "        [[-2.1973e-03, -3.7233e-03,  3.2350e-03,  ...,  2.6856e-03,\n",
      "          -1.8006e-03, -1.8311e-04],\n",
      "         [ 6.4089e-04, -6.7141e-04,  1.0804e-02,  ...,  4.7914e-03,\n",
      "           3.0519e-04, -3.6317e-03]],\n",
      "\n",
      "        [[ 1.7396e-03, -1.8921e-03, -3.6927e-03,  ..., -8.2400e-03,\n",
      "           8.8504e-04,  8.5147e-03],\n",
      "         [-7.3550e-03, -7.9348e-04,  3.2350e-03,  ...,  2.3804e-03,\n",
      "           3.8759e-03,  3.2960e-03]],\n",
      "\n",
      "        ...,\n",
      "\n",
      "        [[ 3.5707e-03,  5.9206e-03,  5.0050e-03,  ...,  3.0519e-03,\n",
      "          -2.8687e-03, -6.4394e-03],\n",
      "         [ 8.2400e-04,  4.1200e-03, -4.6693e-03,  ...,  1.4649e-03,\n",
      "           2.5330e-03, -1.8921e-03]],\n",
      "\n",
      "        [[ 1.8311e-03, -9.7659e-04, -6.5920e-03,  ...,  3.3265e-03,\n",
      "           5.0356e-03, -8.2400e-04],\n",
      "         [-3.8453e-03,  2.8993e-03, -7.9348e-04,  ..., -3.4791e-03,\n",
      "           3.3570e-04,  8.1179e-03]],\n",
      "\n",
      "        [[-7.1108e-03, -2.1973e-03,  1.9532e-03,  ..., -5.8290e-03,\n",
      "           1.1597e-03, -7.3244e-04],\n",
      "         [ 7.3244e-04, -4.8524e-03, -5.1576e-03,  ..., -4.8830e-04,\n",
      "           2.7161e-03,  5.0356e-03]]])\n"
     ]
    }
   ],
   "source": [
    "from steves_utils.transforms import get_average_magnitude, get_average_power\n",
    "\n",
    "print(set([u for u,_ in val_original_source]))\n",
    "print(set([u for u,_ in val_original_target]))\n",
    "\n",
    "s_x, s_y, q_x, q_y, _ = next(iter(train_processed_source))\n",
    "print(s_x)\n",
    "\n",
    "# for ds in [\n",
    "#     train_processed_source,\n",
    "#     val_processed_source,\n",
    "#     test_processed_source,\n",
    "#     train_processed_target,\n",
    "#     val_processed_target,\n",
    "#     test_processed_target\n",
    "# ]:\n",
    "#     for s_x, s_y, q_x, q_y, _ in ds:\n",
    "#         for X in (s_x, q_x):\n",
    "#             for x in X:\n",
    "#                 assert np.isclose(get_average_magnitude(x.numpy()), 1.0)\n",
    "#                 assert np.isclose(get_average_power(x.numpy()), 1.0)\n",
    "                "
   ]
  },
  {
   "cell_type": "code",
   "execution_count": 21,
   "id": "bbdacba1",
   "metadata": {
    "execution": {
     "iopub.execute_input": "2022-03-23T02:05:14.831780Z",
     "iopub.status.busy": "2022-03-23T02:05:14.831380Z",
     "iopub.status.idle": "2022-03-23T02:05:15.079286Z",
     "shell.execute_reply": "2022-03-23T02:05:15.079985Z"
    },
    "papermill": {
     "duration": 0.274386,
     "end_time": "2022-03-23T02:05:15.080208",
     "exception": false,
     "start_time": "2022-03-23T02:05:14.805822",
     "status": "completed"
    },
    "tags": []
   },
   "outputs": [
    {
     "name": "stdout",
     "output_type": "stream",
     "text": [
      "(2, 256)\n"
     ]
    }
   ],
   "source": [
    "###################################\n",
    "# Build the model\n",
    "###################################\n",
    "# easfsl only wants a tuple for the shape\n",
    "model = Steves_Prototypical_Network(x_net, device=p.device, x_shape=tuple(p.x_shape))\n",
    "optimizer = Adam(params=model.parameters(), lr=p.lr)"
   ]
  },
  {
   "cell_type": "code",
   "execution_count": 22,
   "id": "22b39ac5",
   "metadata": {
    "execution": {
     "iopub.execute_input": "2022-03-23T02:05:15.137634Z",
     "iopub.status.busy": "2022-03-23T02:05:15.137012Z",
     "iopub.status.idle": "2022-03-23T02:26:39.545384Z",
     "shell.execute_reply": "2022-03-23T02:26:39.545032Z"
    },
    "papermill": {
     "duration": 1284.435664,
     "end_time": "2022-03-23T02:26:39.545473",
     "exception": false,
     "start_time": "2022-03-23T02:05:15.109809",
     "status": "completed"
    },
    "tags": []
   },
   "outputs": [
    {
     "name": "stdout",
     "output_type": "stream",
     "text": [
      "epoch: 1, [batch: 1 / 6720], examples_per_second: 33.2874, train_label_loss: 2.7390, \n"
     ]
    },
    {
     "name": "stdout",
     "output_type": "stream",
     "text": [
      "epoch: 1, [batch: 672 / 6720], examples_per_second: 3817.3631, train_label_loss: 1.4362, \n"
     ]
    },
    {
     "name": "stdout",
     "output_type": "stream",
     "text": [
      "epoch: 1, [batch: 1344 / 6720], examples_per_second: 3828.2141, train_label_loss: 1.3582, \n"
     ]
    },
    {
     "name": "stdout",
     "output_type": "stream",
     "text": [
      "epoch: 1, [batch: 2016 / 6720], examples_per_second: 3944.6298, train_label_loss: 1.2547, \n"
     ]
    },
    {
     "name": "stdout",
     "output_type": "stream",
     "text": [
      "epoch: 1, [batch: 2688 / 6720], examples_per_second: 3892.4920, train_label_loss: 1.5160, \n"
     ]
    },
    {
     "name": "stdout",
     "output_type": "stream",
     "text": [
      "epoch: 1, [batch: 3360 / 6720], examples_per_second: 3993.8354, train_label_loss: 1.0885, \n"
     ]
    },
    {
     "name": "stdout",
     "output_type": "stream",
     "text": [
      "epoch: 1, [batch: 4032 / 6720], examples_per_second: 3887.6515, train_label_loss: 0.8302, \n"
     ]
    },
    {
     "name": "stdout",
     "output_type": "stream",
     "text": [
      "epoch: 1, [batch: 4704 / 6720], examples_per_second: 3872.0061, train_label_loss: 1.2159, \n"
     ]
    },
    {
     "name": "stdout",
     "output_type": "stream",
     "text": [
      "epoch: 1, [batch: 5376 / 6720], examples_per_second: 3980.7789, train_label_loss: 0.5703, \n"
     ]
    },
    {
     "name": "stdout",
     "output_type": "stream",
     "text": [
      "epoch: 1, [batch: 6048 / 6720], examples_per_second: 4014.9288, train_label_loss: 0.3374, \n"
     ]
    },
    {
     "name": "stdout",
     "output_type": "stream",
     "text": [
      "=============================================================\n",
      "epoch: 1, source_val_acc_label: 0.6129, target_val_acc_label: 0.7188, source_val_label_loss: 1.8727, target_val_label_loss: 218.8611, \n",
      "=============================================================\n"
     ]
    },
    {
     "name": "stdout",
     "output_type": "stream",
     "text": [
      "New best\n"
     ]
    },
    {
     "name": "stdout",
     "output_type": "stream",
     "text": [
      "epoch: 2, [batch: 1 / 6720], examples_per_second: 3.9109, train_label_loss: 2.9072, \n"
     ]
    },
    {
     "name": "stdout",
     "output_type": "stream",
     "text": [
      "epoch: 2, [batch: 672 / 6720], examples_per_second: 3995.8473, train_label_loss: 0.4938, \n"
     ]
    },
    {
     "name": "stdout",
     "output_type": "stream",
     "text": [
      "epoch: 2, [batch: 1344 / 6720], examples_per_second: 3919.9445, train_label_loss: 1.1896, \n"
     ]
    },
    {
     "name": "stdout",
     "output_type": "stream",
     "text": [
      "epoch: 2, [batch: 2016 / 6720], examples_per_second: 3860.3828, train_label_loss: 0.4988, \n"
     ]
    },
    {
     "name": "stdout",
     "output_type": "stream",
     "text": [
      "epoch: 2, [batch: 2688 / 6720], examples_per_second: 3862.6129, train_label_loss: 0.7281, \n"
     ]
    },
    {
     "name": "stdout",
     "output_type": "stream",
     "text": [
      "epoch: 2, [batch: 3360 / 6720], examples_per_second: 3919.0721, train_label_loss: 0.7175, \n"
     ]
    },
    {
     "name": "stdout",
     "output_type": "stream",
     "text": [
      "epoch: 2, [batch: 4032 / 6720], examples_per_second: 4021.5374, train_label_loss: 0.6916, \n"
     ]
    },
    {
     "name": "stdout",
     "output_type": "stream",
     "text": [
      "epoch: 2, [batch: 4704 / 6720], examples_per_second: 3987.5209, train_label_loss: 0.5191, \n"
     ]
    },
    {
     "name": "stdout",
     "output_type": "stream",
     "text": [
      "epoch: 2, [batch: 5376 / 6720], examples_per_second: 3942.7516, train_label_loss: 1.0345, \n"
     ]
    },
    {
     "name": "stdout",
     "output_type": "stream",
     "text": [
      "epoch: 2, [batch: 6048 / 6720], examples_per_second: 3989.1742, train_label_loss: 0.4700, \n"
     ]
    },
    {
     "name": "stdout",
     "output_type": "stream",
     "text": [
      "=============================================================\n",
      "epoch: 2, source_val_acc_label: 0.7396, target_val_acc_label: 0.8121, source_val_label_loss: 0.6984, target_val_label_loss: 31.8794, \n",
      "=============================================================\n"
     ]
    },
    {
     "name": "stdout",
     "output_type": "stream",
     "text": [
      "New best\n"
     ]
    },
    {
     "name": "stdout",
     "output_type": "stream",
     "text": [
      "epoch: 3, [batch: 1 / 6720], examples_per_second: 4.1292, train_label_loss: 1.0101, \n"
     ]
    },
    {
     "name": "stdout",
     "output_type": "stream",
     "text": [
      "epoch: 3, [batch: 672 / 6720], examples_per_second: 4228.0376, train_label_loss: 0.6348, \n"
     ]
    },
    {
     "name": "stdout",
     "output_type": "stream",
     "text": [
      "epoch: 3, [batch: 1344 / 6720], examples_per_second: 4162.4611, train_label_loss: 0.4405, \n"
     ]
    },
    {
     "name": "stdout",
     "output_type": "stream",
     "text": [
      "epoch: 3, [batch: 2016 / 6720], examples_per_second: 4492.9209, train_label_loss: 0.3888, \n"
     ]
    },
    {
     "name": "stdout",
     "output_type": "stream",
     "text": [
      "epoch: 3, [batch: 2688 / 6720], examples_per_second: 4843.4235, train_label_loss: 0.3794, \n"
     ]
    },
    {
     "name": "stdout",
     "output_type": "stream",
     "text": [
      "epoch: 3, [batch: 3360 / 6720], examples_per_second: 4970.2467, train_label_loss: 0.3682, \n"
     ]
    },
    {
     "name": "stdout",
     "output_type": "stream",
     "text": [
      "epoch: 3, [batch: 4032 / 6720], examples_per_second: 4252.2110, train_label_loss: 0.6778, \n"
     ]
    },
    {
     "name": "stdout",
     "output_type": "stream",
     "text": [
      "epoch: 3, [batch: 4704 / 6720], examples_per_second: 3923.4339, train_label_loss: 0.4180, \n"
     ]
    },
    {
     "name": "stdout",
     "output_type": "stream",
     "text": [
      "epoch: 3, [batch: 5376 / 6720], examples_per_second: 4003.5011, train_label_loss: 0.4108, \n"
     ]
    },
    {
     "name": "stdout",
     "output_type": "stream",
     "text": [
      "epoch: 3, [batch: 6048 / 6720], examples_per_second: 4139.7287, train_label_loss: 0.2472, \n"
     ]
    },
    {
     "name": "stdout",
     "output_type": "stream",
     "text": [
      "=============================================================\n",
      "epoch: 3, source_val_acc_label: 0.8050, target_val_acc_label: 0.8373, source_val_label_loss: 0.5518, target_val_label_loss: 45.5872, \n",
      "=============================================================\n"
     ]
    },
    {
     "name": "stdout",
     "output_type": "stream",
     "text": [
      "New best\n"
     ]
    },
    {
     "name": "stdout",
     "output_type": "stream",
     "text": [
      "epoch: 4, [batch: 1 / 6720], examples_per_second: 3.9805, train_label_loss: 0.2285, \n"
     ]
    },
    {
     "name": "stdout",
     "output_type": "stream",
     "text": [
      "epoch: 4, [batch: 672 / 6720], examples_per_second: 3821.5330, train_label_loss: 0.2661, \n"
     ]
    },
    {
     "name": "stdout",
     "output_type": "stream",
     "text": [
      "epoch: 4, [batch: 1344 / 6720], examples_per_second: 3870.6873, train_label_loss: 0.2752, \n"
     ]
    },
    {
     "name": "stdout",
     "output_type": "stream",
     "text": [
      "epoch: 4, [batch: 2016 / 6720], examples_per_second: 4017.1162, train_label_loss: 0.1557, \n"
     ]
    },
    {
     "name": "stdout",
     "output_type": "stream",
     "text": [
      "epoch: 4, [batch: 2688 / 6720], examples_per_second: 3971.6772, train_label_loss: 0.2984, \n"
     ]
    },
    {
     "name": "stdout",
     "output_type": "stream",
     "text": [
      "epoch: 4, [batch: 3360 / 6720], examples_per_second: 3934.3697, train_label_loss: 0.1044, \n"
     ]
    },
    {
     "name": "stdout",
     "output_type": "stream",
     "text": [
      "epoch: 4, [batch: 4032 / 6720], examples_per_second: 3918.7357, train_label_loss: 0.6444, \n"
     ]
    },
    {
     "name": "stdout",
     "output_type": "stream",
     "text": [
      "epoch: 4, [batch: 4704 / 6720], examples_per_second: 3952.4876, train_label_loss: 0.1424, \n"
     ]
    },
    {
     "name": "stdout",
     "output_type": "stream",
     "text": [
      "epoch: 4, [batch: 5376 / 6720], examples_per_second: 3984.3428, train_label_loss: 0.1749, \n"
     ]
    },
    {
     "name": "stdout",
     "output_type": "stream",
     "text": [
      "epoch: 4, [batch: 6048 / 6720], examples_per_second: 3838.7467, train_label_loss: 0.2836, \n"
     ]
    },
    {
     "name": "stdout",
     "output_type": "stream",
     "text": [
      "=============================================================\n",
      "epoch: 4, source_val_acc_label: 0.8145, target_val_acc_label: 0.8464, source_val_label_loss: 0.5256, target_val_label_loss: 53.2830, \n",
      "=============================================================\n"
     ]
    },
    {
     "name": "stdout",
     "output_type": "stream",
     "text": [
      "New best\n"
     ]
    },
    {
     "name": "stdout",
     "output_type": "stream",
     "text": [
      "epoch: 5, [batch: 1 / 6720], examples_per_second: 3.9367, train_label_loss: 0.3336, \n"
     ]
    },
    {
     "name": "stdout",
     "output_type": "stream",
     "text": [
      "epoch: 5, [batch: 672 / 6720], examples_per_second: 4002.7179, train_label_loss: 0.3782, \n"
     ]
    },
    {
     "name": "stdout",
     "output_type": "stream",
     "text": [
      "epoch: 5, [batch: 1344 / 6720], examples_per_second: 4016.4572, train_label_loss: 0.4476, \n"
     ]
    },
    {
     "name": "stdout",
     "output_type": "stream",
     "text": [
      "epoch: 5, [batch: 2016 / 6720], examples_per_second: 4002.9029, train_label_loss: 0.3611, \n"
     ]
    },
    {
     "name": "stdout",
     "output_type": "stream",
     "text": [
      "epoch: 5, [batch: 2688 / 6720], examples_per_second: 4108.3641, train_label_loss: 0.2340, \n"
     ]
    },
    {
     "name": "stdout",
     "output_type": "stream",
     "text": [
      "epoch: 5, [batch: 3360 / 6720], examples_per_second: 3949.3903, train_label_loss: 0.4217, \n"
     ]
    },
    {
     "name": "stdout",
     "output_type": "stream",
     "text": [
      "epoch: 5, [batch: 4032 / 6720], examples_per_second: 3891.3057, train_label_loss: 0.1397, \n"
     ]
    },
    {
     "name": "stdout",
     "output_type": "stream",
     "text": [
      "epoch: 5, [batch: 4704 / 6720], examples_per_second: 3872.6837, train_label_loss: 0.4007, \n"
     ]
    },
    {
     "name": "stdout",
     "output_type": "stream",
     "text": [
      "epoch: 5, [batch: 5376 / 6720], examples_per_second: 4007.0396, train_label_loss: 0.1549, \n"
     ]
    },
    {
     "name": "stdout",
     "output_type": "stream",
     "text": [
      "epoch: 5, [batch: 6048 / 6720], examples_per_second: 3988.3061, train_label_loss: 0.1681, \n"
     ]
    },
    {
     "name": "stdout",
     "output_type": "stream",
     "text": [
      "=============================================================\n",
      "epoch: 5, source_val_acc_label: 0.8114, target_val_acc_label: 0.8461, source_val_label_loss: 0.5105, target_val_label_loss: 40.6108, \n",
      "=============================================================\n"
     ]
    },
    {
     "name": "stdout",
     "output_type": "stream",
     "text": [
      "epoch: 6, [batch: 1 / 6720], examples_per_second: 3.8849, train_label_loss: 0.2838, \n"
     ]
    },
    {
     "name": "stdout",
     "output_type": "stream",
     "text": [
      "epoch: 6, [batch: 672 / 6720], examples_per_second: 3950.6904, train_label_loss: 0.2767, \n"
     ]
    },
    {
     "name": "stdout",
     "output_type": "stream",
     "text": [
      "epoch: 6, [batch: 1344 / 6720], examples_per_second: 4015.0791, train_label_loss: 0.3892, \n"
     ]
    },
    {
     "name": "stdout",
     "output_type": "stream",
     "text": [
      "epoch: 6, [batch: 2016 / 6720], examples_per_second: 3860.2920, train_label_loss: 0.5864, \n"
     ]
    },
    {
     "name": "stdout",
     "output_type": "stream",
     "text": [
      "epoch: 6, [batch: 2688 / 6720], examples_per_second: 3895.4519, train_label_loss: 0.3864, \n"
     ]
    },
    {
     "name": "stdout",
     "output_type": "stream",
     "text": [
      "epoch: 6, [batch: 3360 / 6720], examples_per_second: 3888.3707, train_label_loss: 0.2701, \n"
     ]
    },
    {
     "name": "stdout",
     "output_type": "stream",
     "text": [
      "epoch: 6, [batch: 4032 / 6720], examples_per_second: 3839.1529, train_label_loss: 0.1090, \n"
     ]
    },
    {
     "name": "stdout",
     "output_type": "stream",
     "text": [
      "epoch: 6, [batch: 4704 / 6720], examples_per_second: 3898.0455, train_label_loss: 0.3662, \n"
     ]
    },
    {
     "name": "stdout",
     "output_type": "stream",
     "text": [
      "epoch: 6, [batch: 5376 / 6720], examples_per_second: 3991.4842, train_label_loss: 0.3178, \n"
     ]
    },
    {
     "name": "stdout",
     "output_type": "stream",
     "text": [
      "epoch: 6, [batch: 6048 / 6720], examples_per_second: 3937.0299, train_label_loss: 0.4617, \n"
     ]
    },
    {
     "name": "stdout",
     "output_type": "stream",
     "text": [
      "=============================================================\n",
      "epoch: 6, source_val_acc_label: 0.8128, target_val_acc_label: 0.8415, source_val_label_loss: 0.5422, target_val_label_loss: 46.3449, \n",
      "=============================================================\n"
     ]
    },
    {
     "name": "stdout",
     "output_type": "stream",
     "text": [
      "epoch: 7, [batch: 1 / 6720], examples_per_second: 3.9502, train_label_loss: 0.2318, \n"
     ]
    },
    {
     "name": "stdout",
     "output_type": "stream",
     "text": [
      "epoch: 7, [batch: 672 / 6720], examples_per_second: 3901.0007, train_label_loss: 0.1278, \n"
     ]
    },
    {
     "name": "stdout",
     "output_type": "stream",
     "text": [
      "epoch: 7, [batch: 1344 / 6720], examples_per_second: 3914.8006, train_label_loss: 0.3590, \n"
     ]
    },
    {
     "name": "stdout",
     "output_type": "stream",
     "text": [
      "epoch: 7, [batch: 2016 / 6720], examples_per_second: 3940.1509, train_label_loss: 0.2302, \n"
     ]
    },
    {
     "name": "stdout",
     "output_type": "stream",
     "text": [
      "epoch: 7, [batch: 2688 / 6720], examples_per_second: 3851.5141, train_label_loss: 0.2184, \n"
     ]
    },
    {
     "name": "stdout",
     "output_type": "stream",
     "text": [
      "epoch: 7, [batch: 3360 / 6720], examples_per_second: 3907.2304, train_label_loss: 0.1102, \n"
     ]
    },
    {
     "name": "stdout",
     "output_type": "stream",
     "text": [
      "epoch: 7, [batch: 4032 / 6720], examples_per_second: 3852.7934, train_label_loss: 0.1141, \n"
     ]
    },
    {
     "name": "stdout",
     "output_type": "stream",
     "text": [
      "epoch: 7, [batch: 4704 / 6720], examples_per_second: 4154.1123, train_label_loss: 0.2105, \n"
     ]
    },
    {
     "name": "stdout",
     "output_type": "stream",
     "text": [
      "epoch: 7, [batch: 5376 / 6720], examples_per_second: 4220.0608, train_label_loss: 0.2128, \n"
     ]
    },
    {
     "name": "stdout",
     "output_type": "stream",
     "text": [
      "epoch: 7, [batch: 6048 / 6720], examples_per_second: 4220.5726, train_label_loss: 0.2469, \n"
     ]
    },
    {
     "name": "stdout",
     "output_type": "stream",
     "text": [
      "=============================================================\n",
      "epoch: 7, source_val_acc_label: 0.8205, target_val_acc_label: 0.8448, source_val_label_loss: 0.5678, target_val_label_loss: 64.5972, \n",
      "=============================================================\n"
     ]
    },
    {
     "name": "stdout",
     "output_type": "stream",
     "text": [
      "epoch: 8, [batch: 1 / 6720], examples_per_second: 4.6133, train_label_loss: 0.4245, \n"
     ]
    },
    {
     "name": "stdout",
     "output_type": "stream",
     "text": [
      "epoch: 8, [batch: 672 / 6720], examples_per_second: 5127.4193, train_label_loss: 0.1278, \n"
     ]
    },
    {
     "name": "stdout",
     "output_type": "stream",
     "text": [
      "epoch: 8, [batch: 1344 / 6720], examples_per_second: 4379.5423, train_label_loss: 0.1183, \n"
     ]
    },
    {
     "name": "stdout",
     "output_type": "stream",
     "text": [
      "epoch: 8, [batch: 2016 / 6720], examples_per_second: 3897.2142, train_label_loss: 0.2381, \n"
     ]
    },
    {
     "name": "stdout",
     "output_type": "stream",
     "text": [
      "epoch: 8, [batch: 2688 / 6720], examples_per_second: 3864.3868, train_label_loss: 0.4419, \n"
     ]
    },
    {
     "name": "stdout",
     "output_type": "stream",
     "text": [
      "epoch: 8, [batch: 3360 / 6720], examples_per_second: 3902.4238, train_label_loss: 0.0716, \n"
     ]
    },
    {
     "name": "stdout",
     "output_type": "stream",
     "text": [
      "epoch: 8, [batch: 4032 / 6720], examples_per_second: 3922.7880, train_label_loss: 0.0976, \n"
     ]
    },
    {
     "name": "stdout",
     "output_type": "stream",
     "text": [
      "epoch: 8, [batch: 4704 / 6720], examples_per_second: 3914.8836, train_label_loss: 0.1036, \n"
     ]
    },
    {
     "name": "stdout",
     "output_type": "stream",
     "text": [
      "epoch: 8, [batch: 5376 / 6720], examples_per_second: 3982.8739, train_label_loss: 0.2312, \n"
     ]
    },
    {
     "name": "stdout",
     "output_type": "stream",
     "text": [
      "epoch: 8, [batch: 6048 / 6720], examples_per_second: 3941.3443, train_label_loss: 0.4563, \n"
     ]
    },
    {
     "name": "stdout",
     "output_type": "stream",
     "text": [
      "=============================================================\n",
      "epoch: 8, source_val_acc_label: 0.8154, target_val_acc_label: 0.8429, source_val_label_loss: 0.5512, target_val_label_loss: 65.1165, \n",
      "=============================================================\n"
     ]
    },
    {
     "name": "stdout",
     "output_type": "stream",
     "text": [
      "Patience (3) exhausted\n"
     ]
    }
   ],
   "source": [
    "###################################\n",
    "# train\n",
    "###################################\n",
    "jig = PTN_Train_Eval_Test_Jig(model, p.BEST_MODEL_PATH, p.device)\n",
    "\n",
    "jig.train(\n",
    "    train_iterable=datasets.source.processed.train,\n",
    "    source_val_iterable=datasets.source.processed.val,\n",
    "    target_val_iterable=datasets.target.processed.val,\n",
    "    num_epochs=p.n_epoch,\n",
    "    num_logs_per_epoch=p.NUM_LOGS_PER_EPOCH,\n",
    "    patience=p.patience,\n",
    "    optimizer=optimizer,\n",
    "    criteria_for_best=p.criteria_for_best,\n",
    ")"
   ]
  },
  {
   "cell_type": "code",
   "execution_count": 23,
   "id": "31e8fabf",
   "metadata": {
    "execution": {
     "iopub.execute_input": "2022-03-23T02:26:39.656477Z",
     "iopub.status.busy": "2022-03-23T02:26:39.655959Z",
     "iopub.status.idle": "2022-03-23T02:26:39.687711Z",
     "shell.execute_reply": "2022-03-23T02:26:39.686830Z"
    },
    "papermill": {
     "duration": 0.085071,
     "end_time": "2022-03-23T02:26:39.687876",
     "exception": false,
     "start_time": "2022-03-23T02:26:39.602805",
     "status": "completed"
    },
    "tags": []
   },
   "outputs": [],
   "source": [
    "total_experiment_time_secs = time.time() - start_time_secs"
   ]
  },
  {
   "cell_type": "code",
   "execution_count": 24,
   "id": "87b9595b",
   "metadata": {
    "execution": {
     "iopub.execute_input": "2022-03-23T02:26:39.803245Z",
     "iopub.status.busy": "2022-03-23T02:26:39.802776Z",
     "iopub.status.idle": "2022-03-23T02:29:32.048938Z",
     "shell.execute_reply": "2022-03-23T02:29:32.048166Z"
    },
    "papermill": {
     "duration": 172.304454,
     "end_time": "2022-03-23T02:29:32.049117",
     "exception": false,
     "start_time": "2022-03-23T02:26:39.744663",
     "status": "completed"
    },
    "tags": []
   },
   "outputs": [],
   "source": [
    "###################################\n",
    "# Evaluate the model\n",
    "###################################\n",
    "source_test_label_accuracy, source_test_label_loss = jig.test(datasets.source.processed.test)\n",
    "target_test_label_accuracy, target_test_label_loss = jig.test(datasets.target.processed.test)\n",
    "\n",
    "source_val_label_accuracy, source_val_label_loss = jig.test(datasets.source.processed.val)\n",
    "target_val_label_accuracy, target_val_label_loss = jig.test(datasets.target.processed.val)\n",
    "\n",
    "history = jig.get_history()\n",
    "\n",
    "total_epochs_trained = len(history[\"epoch_indices\"])\n",
    "\n",
    "val_dl = Iterable_Aggregator((datasets.source.original.val,datasets.target.original.val))\n",
    "\n",
    "confusion = ptn_confusion_by_domain_over_dataloader(model, p.device, val_dl)\n",
    "per_domain_accuracy = per_domain_accuracy_from_confusion(confusion)\n",
    "\n",
    "# Add a key to per_domain_accuracy for if it was a source domain\n",
    "for domain, accuracy in per_domain_accuracy.items():\n",
    "    per_domain_accuracy[domain] = {\n",
    "        \"accuracy\": accuracy,\n",
    "        \"source?\": domain in p.domains_source\n",
    "    }\n",
    "\n",
    "# Do an independent accuracy assesment JUST TO BE SURE!\n",
    "# _source_test_label_accuracy = independent_accuracy_assesment(model, datasets.source.processed.test, p.device)\n",
    "# _target_test_label_accuracy = independent_accuracy_assesment(model, datasets.target.processed.test, p.device)\n",
    "# _source_val_label_accuracy = independent_accuracy_assesment(model, datasets.source.processed.val, p.device)\n",
    "# _target_val_label_accuracy = independent_accuracy_assesment(model, datasets.target.processed.val, p.device)\n",
    "\n",
    "# assert(_source_test_label_accuracy == source_test_label_accuracy)\n",
    "# assert(_target_test_label_accuracy == target_test_label_accuracy)\n",
    "# assert(_source_val_label_accuracy == source_val_label_accuracy)\n",
    "# assert(_target_val_label_accuracy == target_val_label_accuracy)\n",
    "\n",
    "experiment = {\n",
    "    \"experiment_name\": p.experiment_name,\n",
    "    \"parameters\": dict(p),\n",
    "    \"results\": {\n",
    "        \"source_test_label_accuracy\": source_test_label_accuracy,\n",
    "        \"source_test_label_loss\": source_test_label_loss,\n",
    "        \"target_test_label_accuracy\": target_test_label_accuracy,\n",
    "        \"target_test_label_loss\": target_test_label_loss,\n",
    "        \"source_val_label_accuracy\": source_val_label_accuracy,\n",
    "        \"source_val_label_loss\": source_val_label_loss,\n",
    "        \"target_val_label_accuracy\": target_val_label_accuracy,\n",
    "        \"target_val_label_loss\": target_val_label_loss,\n",
    "        \"total_epochs_trained\": total_epochs_trained,\n",
    "        \"total_experiment_time_secs\": total_experiment_time_secs,\n",
    "        \"confusion\": confusion,\n",
    "        \"per_domain_accuracy\": per_domain_accuracy,\n",
    "    },\n",
    "    \"history\": history,\n",
    "    \"dataset_metrics\": get_dataset_metrics(datasets, \"ptn\"),\n",
    "}"
   ]
  },
  {
   "cell_type": "code",
   "execution_count": 25,
   "id": "54a21829",
   "metadata": {
    "execution": {
     "iopub.execute_input": "2022-03-23T02:29:32.153905Z",
     "iopub.status.busy": "2022-03-23T02:29:32.153471Z",
     "iopub.status.idle": "2022-03-23T02:29:32.369246Z",
     "shell.execute_reply": "2022-03-23T02:29:32.368505Z"
    },
    "papermill": {
     "duration": 0.267836,
     "end_time": "2022-03-23T02:29:32.369405",
     "exception": false,
     "start_time": "2022-03-23T02:29:32.101569",
     "status": "completed"
    },
    "tags": []
   },
   "outputs": [
    {
     "data": {
      "image/png": "[encoded data removed]",
      "text/plain": [
       "<Figure size 1080x504 with 1 Axes>"
      ]
     },
     "metadata": {
      "needs_background": "light"
     },
     "output_type": "display_data"
    }
   ],
   "source": [
    "ax = get_loss_curve(experiment)\n",
    "plt.show()"
   ]
  },
  {
   "cell_type": "code",
   "execution_count": 26,
   "id": "fd8a0f60",
   "metadata": {
    "execution": {
     "iopub.execute_input": "2022-03-23T02:29:32.475499Z",
     "iopub.status.busy": "2022-03-23T02:29:32.475129Z",
     "iopub.status.idle": "2022-03-23T02:29:32.783945Z",
     "shell.execute_reply": "2022-03-23T02:29:32.784259Z"
    },
    "papermill": {
     "duration": 0.362157,
     "end_time": "2022-03-23T02:29:32.784344",
     "exception": false,
     "start_time": "2022-03-23T02:29:32.422187",
     "status": "completed"
    },
    "tags": []
   },
   "outputs": [
    {
     "data": {
      "text/plain": [
       "<AxesSubplot:title={'center':'Results'}>"
      ]
     },
     "execution_count": 26,
     "metadata": {},
     "output_type": "execute_result"
    },
    {
     "data": {
      "image/png": "[encoded data removed]",
      "text/plain": [
       "<Figure size 1080x504 with 1 Axes>"
      ]
     },
     "metadata": {
      "needs_background": "light"
     },
     "output_type": "display_data"
    }
   ],
   "source": [
    "get_results_table(experiment)"
   ]
  },
  {
   "cell_type": "code",
   "execution_count": 27,
   "id": "cf8dc689",
   "metadata": {
    "execution": {
     "iopub.execute_input": "2022-03-23T02:29:32.889721Z",
     "iopub.status.busy": "2022-03-23T02:29:32.889354Z",
     "iopub.status.idle": "2022-03-23T02:29:33.139730Z",
     "shell.execute_reply": "2022-03-23T02:29:33.140412Z"
    },
    "papermill": {
     "duration": 0.305385,
     "end_time": "2022-03-23T02:29:33.140599",
     "exception": false,
     "start_time": "2022-03-23T02:29:32.835214",
     "status": "completed"
    },
    "tags": []
   },
   "outputs": [
    {
     "data": {
      "text/plain": [
       "<AxesSubplot:title={'center':'Per Domain Validation Accuracy'}, xlabel='domain'>"
      ]
     },
     "execution_count": 27,
     "metadata": {},
     "output_type": "execute_result"
    },
    {
     "data": {
      "image/png": "[encoded data removed]",
      "text/plain": [
       "<Figure size 1080x504 with 1 Axes>"
      ]
     },
     "metadata": {
      "needs_background": "light"
     },
     "output_type": "display_data"
    }
   ],
   "source": [
    "get_domain_accuracies(experiment)"
   ]
  },
  {
   "cell_type": "code",
   "execution_count": 28,
   "id": "a74ae082",
   "metadata": {
    "execution": {
     "iopub.execute_input": "2022-03-23T02:29:33.252764Z",
     "iopub.status.busy": "2022-03-23T02:29:33.252388Z",
     "iopub.status.idle": "2022-03-23T02:29:33.278266Z",
     "shell.execute_reply": "2022-03-23T02:29:33.278915Z"
    },
    "papermill": {
     "duration": 0.082674,
     "end_time": "2022-03-23T02:29:33.279104",
     "exception": false,
     "start_time": "2022-03-23T02:29:33.196430",
     "status": "completed"
    },
    "tags": []
   },
   "outputs": [
    {
     "name": "stdout",
     "output_type": "stream",
     "text": [
      "Source Test Label Accuracy: 0.8187825520833333 Target Test Label Accuracy: 0.8461263020833333\n",
      "Source Val Label Accuracy: 0.8145182291666667 Target Val Label Accuracy: 0.8463679745493107\n"
     ]
    }
   ],
   "source": [
    "print(\"Source Test Label Accuracy:\", experiment[\"results\"][\"source_test_label_accuracy\"], \"Target Test Label Accuracy:\", experiment[\"results\"][\"target_test_label_accuracy\"])\n",
    "print(\"Source Val Label Accuracy:\", experiment[\"results\"][\"source_val_label_accuracy\"], \"Target Val Label Accuracy:\", experiment[\"results\"][\"target_val_label_accuracy\"])"
   ]
  },
  {
   "cell_type": "code",
   "execution_count": 29,
   "id": "dacca602",
   "metadata": {
    "execution": {
     "iopub.execute_input": "2022-03-23T02:29:33.392291Z",
     "iopub.status.busy": "2022-03-23T02:29:33.391667Z",
     "iopub.status.idle": "2022-03-23T02:29:33.418681Z",
     "shell.execute_reply": "2022-03-23T02:29:33.419358Z"
    },
    "papermill": {
     "duration": 0.083476,
     "end_time": "2022-03-23T02:29:33.419570",
     "exception": false,
     "start_time": "2022-03-23T02:29:33.336094",
     "status": "completed"
    },
    "tags": [
     "experiment_json"
    ]
   },
   "outputs": [
    {
     "data": {
      "text/plain": [
       "'{\"experiment_name\": \"tl_1v2:wisig-oracle.run1.limited\", \"parameters\": {\"experiment_name\": \"tl_1v2:wisig-oracle.run1.limited\", \"device\": \"cuda\", \"lr\": 0.0001, \"n_shot\": 3, \"n_query\": 2, \"train_k_factor\": 3, \"val_k_factor\": 2, \"test_k_factor\": 2, \"torch_default_dtype\": \"torch.float32\", \"n_epoch\": 50, \"patience\": 3, \"criteria_for_best\": \"target_accuracy\", \"x_net\": [{\"class\": \"nnReshape\", \"kargs\": {\"shape\": [-1, 1, 2, 256]}}, {\"class\": \"Conv2d\", \"kargs\": {\"in_channels\": 1, \"out_channels\": 256, \"kernel_size\": [1, 7], \"bias\": false, \"padding\": [0, 3]}}, {\"class\": \"ReLU\", \"kargs\": {\"inplace\": true}}, {\"class\": \"BatchNorm2d\", \"kargs\": {\"num_features\": 256}}, {\"class\": \"Conv2d\", \"kargs\": {\"in_channels\": 256, \"out_channels\": 80, \"kernel_size\": [2, 7], \"bias\": true, \"padding\": [0, 3]}}, {\"class\": \"ReLU\", \"kargs\": {\"inplace\": true}}, {\"class\": \"BatchNorm2d\", \"kargs\": {\"num_features\": 80}}, {\"class\": \"Flatten\", \"kargs\": {}}, {\"class\": \"Linear\", \"kargs\": {\"in_features\": 20480, \"out_features\": 256}}, {\"class\": \"ReLU\", \"kargs\": {\"inplace\": true}}, {\"class\": \"BatchNorm1d\", \"kargs\": {\"num_features\": 256}}, {\"class\": \"Linear\", \"kargs\": {\"in_features\": 256, \"out_features\": 256}}], \"NUM_LOGS_PER_EPOCH\": 10, \"BEST_MODEL_PATH\": \"./best_model.pth\", \"n_way\": 16, \"datasets\": [{\"labels\": [\"1-10\", \"1-12\", \"1-14\", \"1-16\", \"1-18\", \"1-19\", \"1-8\", \"10-11\", \"10-17\", \"10-4\", \"10-7\", \"11-1\", \"11-10\", \"11-19\", \"11-20\", \"11-4\", \"11-7\", \"12-19\", \"12-20\", \"12-7\", \"13-14\", \"13-18\", \"13-19\", \"13-20\", \"13-3\", \"13-7\", \"14-10\", \"14-11\", \"14-12\", \"14-13\", \"14-14\", \"14-19\", \"14-20\", \"14-7\", \"14-8\", \"14-9\", \"15-1\", \"15-19\", \"15-6\", \"16-1\", \"16-16\", \"16-19\", \"16-20\", \"17-10\", \"17-11\", \"18-1\", \"18-10\", \"18-11\", \"18-12\", \"18-13\", \"18-14\", \"18-15\", \"18-16\", \"18-17\", \"18-19\", \"18-2\", \"18-20\", \"18-4\", \"18-5\", \"18-7\", \"18-8\", \"18-9\", \"19-1\", \"19-10\", \"19-11\", \"19-12\", \"19-13\", \"19-14\", \"19-15\", \"19-19\", \"19-2\", \"19-20\", \"19-3\", \"19-4\", \"19-6\", \"19-7\", \"19-8\", \"19-9\", \"2-1\", \"2-13\", \"2-15\", \"2-3\", \"2-4\", \"2-5\", \"2-6\", \"2-7\", \"2-8\", \"20-1\", \"20-12\", \"20-14\", \"20-15\", \"20-16\", \"20-18\", \"20-19\", \"20-20\", \"20-3\", \"20-4\", \"20-5\", \"20-7\", \"20-8\", \"3-1\", \"3-13\", \"3-18\", \"3-2\", \"3-8\", \"4-1\", \"4-10\", \"4-11\", \"5-1\", \"5-5\", \"6-1\", \"6-15\", \"6-6\", \"7-10\", \"7-11\", \"7-12\", \"7-13\", \"7-14\", \"7-7\", \"7-8\", \"7-9\", \"8-1\", \"8-13\", \"8-14\", \"8-18\", \"8-20\", \"8-3\", \"8-8\", \"9-1\", \"9-7\"], \"domains\": [1, 2, 3, 4], \"num_examples_per_domain_per_label\": -1, \"pickle_path\": \"/root/csc500-main/datasets/wisig.node3-19.stratified_ds.2022A.pkl\", \"source_or_target_dataset\": \"target\", \"x_transforms\": [], \"episode_transforms\": [], \"domain_prefix\": \"Wisig_\"}, {\"labels\": [\"3123D52\", \"3123D65\", \"3123D79\", \"3123D80\", \"3123D54\", \"3123D70\", \"3123D7B\", \"3123D89\", \"3123D58\", \"3123D76\", \"3123D7D\", \"3123EFE\", \"3123D64\", \"3123D78\", \"3123D7E\", \"3124E4A\"], \"domains\": [32, 38, 8, 44, 14, 50, 20, 26], \"num_examples_per_domain_per_label\": 2000, \"pickle_path\": \"/root/csc500-main/datasets/oracle.Run1_10kExamples_stratified_ds.2022A.pkl\", \"source_or_target_dataset\": \"source\", \"x_transforms\": [], \"episode_transforms\": [], \"domain_prefix\": \"ORACLE.run1\"}], \"dataset_seed\": 154325, \"seed\": 154325, \"x_shape\": [2, 256], \"domains_source\": [\"ORACLE.run132\", \"ORACLE.run138\", \"ORACLE.run18\", \"ORACLE.run144\", \"ORACLE.run114\", \"ORACLE.run150\", \"ORACLE.run120\", \"ORACLE.run126\"], \"domains_target\": [\"Wisig_1\", \"Wisig_2\", \"Wisig_3\", \"Wisig_4\"]}, \"results\": {\"source_test_label_accuracy\": 0.8187825520833333, \"source_test_label_loss\": 0.5143958926200867, \"target_test_label_accuracy\": 0.8461263020833333, \"target_test_label_loss\": 58.260162353515625, \"source_val_label_accuracy\": 0.8145182291666667, \"source_val_label_loss\": 0.5256471633911133, \"target_val_label_accuracy\": 0.8463679745493107, \"target_val_label_loss\": 53.28300476074219, \"total_epochs_trained\": 8, \"total_experiment_time_secs\": 1306.7823367118835, \"confusion\": {\"ORACLE.run18\": {\"13\": {\"13\": 170, \"7\": 19, \"10\": 43, \"6\": 5, \"5\": 2, \"1\": 1}, \"9\": {\"9\": 240}, \"15\": {\"12\": 41, \"15\": 188, \"2\": 11}, \"2\": {\"3\": 37, \"2\": 147, \"15\": 28, \"12\": 28}, \"3\": {\"3\": 240}, \"8\": {\"8\": 220, \"6\": 13, \"4\": 4, \"7\": 3}, \"5\": {\"1\": 18, \"5\": 160, \"11\": 14, \"10\": 41, \"13\": 6, \"4\": 1}, \"14\": {\"14\": 213, \"4\": 23, \"11\": 4}, \"1\": {\"11\": 58, \"1\": 134, \"10\": 26, \"5\": 14, \"13\": 5, \"6\": 3}, \"0\": {\"0\": 240}, \"10\": {\"10\": 141, \"5\": 29, \"13\": 32, \"1\": 27, \"6\": 7, \"11\": 3, \"4\": 1}, \"6\": {\"6\": 183, \"7\": 47, \"13\": 2, \"10\": 3, \"8\": 2, \"11\": 2, \"1\": 1}, \"11\": {\"11\": 94, \"1\": 87, \"6\": 10, \"10\": 8, \"4\": 21, \"8\": 2, \"14\": 11, \"5\": 5, \"13\": 2}, \"7\": {\"7\": 182, \"13\": 7, \"6\": 51}, \"4\": {\"4\": 218, \"11\": 8, \"6\": 4, \"1\": 1, \"8\": 3, \"14\": 6}, \"12\": {\"12\": 177, \"15\": 56, \"2\": 7}}, \"ORACLE.run138\": {\"13\": {\"13\": 220, \"14\": 3, \"10\": 17}, \"12\": {\"12\": 240}, \"2\": {\"2\": 217, \"13\": 1, \"14\": 22}, \"9\": {\"9\": 230, \"5\": 6, \"7\": 3, \"8\": 1}, \"15\": {\"15\": 226, \"5\": 3, \"1\": 4, \"8\": 6, \"12\": 1}, \"5\": {\"8\": 89, \"13\": 1, \"9\": 26, \"5\": 98, \"7\": 20, \"15\": 3, \"12\": 1, \"0\": 2}, \"14\": {\"14\": 219, \"2\": 21}, \"0\": {\"7\": 39, \"3\": 11, \"0\": 160, \"10\": 25, \"5\": 1, \"13\": 4}, \"3\": {\"3\": 240}, \"1\": {\"1\": 240}, \"11\": {\"11\": 240}, \"7\": {\"7\": 220, \"0\": 6, \"5\": 4, \"9\": 4, \"8\": 6}, \"8\": {\"8\": 125, \"5\": 84, \"0\": 4, \"13\": 4, \"7\": 23}, \"4\": {\"4\": 240}, \"10\": {\"10\": 204, \"0\": 17, \"13\": 15, \"4\": 4}, \"6\": {\"6\": 239, \"1\": 1}}, \"ORACLE.run126\": {\"10\": {\"0\": 15, \"10\": 150, \"15\": 14, \"14\": 50, \"1\": 4, \"6\": 7}, \"12\": {\"12\": 240}, \"1\": {\"1\": 188, \"10\": 8, \"14\": 31, \"15\": 4, \"6\": 6, \"5\": 3}, \"0\": {\"0\": 162, \"14\": 20, \"10\": 35, \"8\": 10, \"1\": 1, \"2\": 6, \"15\": 4, \"6\": 1, \"9\": 1}, \"15\": {\"5\": 51, \"15\": 117, \"10\": 24, \"1\": 2, \"6\": 36, \"14\": 8, \"0\": 2}, \"13\": {\"13\": 203, \"4\": 6, \"7\": 5, \"9\": 19, \"2\": 2, \"3\": 5}, \"8\": {\"2\": 6, \"7\": 41, \"8\": 142, \"9\": 47, \"13\": 1, \"0\": 3}, \"3\": {\"3\": 208, \"7\": 26, \"2\": 3, \"4\": 3}, \"11\": {\"11\": 240}, \"4\": {\"4\": 240}, \"6\": {\"6\": 181, \"10\": 9, \"5\": 21, \"15\": 28, \"1\": 1}, \"7\": {\"7\": 141, \"2\": 22, \"8\": 31, \"3\": 35, \"9\": 11}, \"14\": {\"14\": 145, \"10\": 50, \"1\": 20, \"15\": 9, \"0\": 16}, \"2\": {\"2\": 136, \"0\": 16, \"7\": 38, \"8\": 22, \"3\": 19, \"9\": 8, \"13\": 1}, \"5\": {\"5\": 164, \"15\": 47, \"1\": 6, \"6\": 20, \"10\": 3}, \"9\": {\"3\": 3, \"7\": 7, \"9\": 131, \"8\": 69, \"2\": 7, \"13\": 22, \"4\": 1}}, \"ORACLE.run120\": {\"5\": {\"3\": 28, \"1\": 78, \"5\": 121, \"9\": 10, \"15\": 2, \"12\": 1}, \"15\": {\"15\": 164, \"12\": 44, \"9\": 5, \"13\": 4, \"1\": 17, \"2\": 5, \"5\": 1}, \"9\": {\"9\": 140, \"5\": 18, \"7\": 22, \"1\": 16, \"2\": 3, \"3\": 33, \"4\": 1, \"12\": 4, \"15\": 3}, \"7\": {\"9\": 21, \"7\": 174, \"2\": 24, \"6\": 12, \"3\": 2, \"4\": 5, \"12\": 2}, \"3\": {\"3\": 142, \"9\": 35, \"5\": 30, \"7\": 3, \"1\": 8, \"8\": 20, \"0\": 1, \"14\": 1}, \"8\": {\"8\": 201, \"14\": 21, \"3\": 18}, \"4\": {\"4\": 181, \"12\": 18, \"2\": 17, \"7\": 16, \"10\": 2, \"6\": 3, \"15\": 1, \"9\": 2}, \"6\": {\"6\": 225, \"7\": 12, \"14\": 2, \"4\": 1}, \"2\": {\"2\": 111, \"12\": 38, \"4\": 16, \"15\": 14, \"7\": 40, \"9\": 15, \"5\": 1, \"13\": 5}, \"12\": {\"15\": 38, \"12\": 139, \"2\": 41, \"9\": 5, \"4\": 8, \"13\": 5, \"7\": 3, \"1\": 1}, \"0\": {\"0\": 231, \"5\": 8, \"3\": 1}, \"13\": {\"15\": 5, \"13\": 214, \"2\": 11, \"12\": 10}, \"10\": {\"10\": 235, \"4\": 5}, \"11\": {\"11\": 240}, \"14\": {\"14\": 221, \"8\": 18, \"6\": 1}, \"1\": {\"15\": 16, \"1\": 131, \"5\": 61, \"2\": 3, \"9\": 22, \"3\": 4, \"12\": 2, \"7\": 1}}, \"ORACLE.run150\": {\"1\": {\"13\": 8, \"1\": 226, \"11\": 3, \"0\": 1, \"15\": 1, \"6\": 1}, \"2\": {\"2\": 228, \"0\": 12}, \"8\": {\"8\": 239, \"10\": 1}, \"7\": {\"7\": 208, \"5\": 25, \"4\": 7}, \"14\": {\"14\": 240}, \"6\": {\"6\": 195, \"4\": 1, \"5\": 29, \"15\": 15}, \"3\": {\"3\": 240}, \"4\": {\"4\": 203, \"7\": 17, \"5\": 6, \"15\": 10, \"6\": 4}, \"12\": {\"12\": 214, \"11\": 9, \"9\": 17}, \"15\": {\"15\": 213, \"4\": 2, \"6\": 11, \"5\": 2, \"11\": 11, \"9\": 1}, \"11\": {\"11\": 218, \"9\": 15, \"15\": 6, \"12\": 1}, \"0\": {\"0\": 208, \"10\": 7, \"2\": 25}, \"9\": {\"12\": 29, \"9\": 186, \"11\": 23, \"15\": 2}, \"10\": {\"10\": 234, \"0\": 4, \"8\": 2}, \"5\": {\"5\": 82, \"7\": 74, \"6\": 62, \"1\": 2, \"4\": 15, \"15\": 1, \"13\": 4}, \"13\": {\"13\": 239, \"1\": 1}}, \"ORACLE.run132\": {\"2\": {\"2\": 211, \"4\": 29}, \"6\": {\"6\": 240}, \"5\": {\"7\": 48, \"5\": 128, \"14\": 16, \"8\": 26, \"0\": 22}, \"12\": {\"12\": 240}, \"13\": {\"13\": 177, \"4\": 28, \"11\": 9, \"3\": 26}, \"9\": {\"9\": 240}, \"11\": {\"11\": 240}, \"1\": {\"1\": 240}, \"3\": {\"3\": 228, \"13\": 12}, \"7\": {\"7\": 153, \"5\": 41, \"0\": 21, \"14\": 21, \"8\": 4}, \"14\": {\"7\": 69, \"14\": 120, \"0\": 15, \"8\": 10, \"5\": 12, \"2\": 4, \"13\": 1, \"4\": 7, \"3\": 2}, \"8\": {\"8\": 172, \"14\": 3, \"0\": 34, \"4\": 6, \"7\": 4, \"5\": 20, \"13\": 1}, \"4\": {\"4\": 190, \"2\": 46, \"13\": 4}, \"0\": {\"0\": 161, \"7\": 40, \"14\": 7, \"8\": 20, \"5\": 12}, \"10\": {\"10\": 240}, \"15\": {\"15\": 238, \"5\": 2}}, \"ORACLE.run144\": {\"13\": {\"13\": 195, \"6\": 37, \"11\": 2, \"9\": 6}, \"4\": {\"4\": 156, \"15\": 5, \"14\": 78, \"13\": 1}, \"6\": {\"6\": 197, \"13\": 32, \"9\": 11}, \"0\": {\"0\": 202, \"8\": 36, \"15\": 2}, \"10\": {\"10\": 224, \"1\": 4, \"2\": 6, \"7\": 6}, \"7\": {\"7\": 200, \"9\": 37, \"10\": 2, \"6\": 1}, \"14\": {\"15\": 13, \"4\": 65, \"14\": 156, \"5\": 6}, \"15\": {\"15\": 200, \"5\": 11, \"14\": 16, \"4\": 2, \"8\": 9, \"0\": 2}, \"5\": {\"5\": 209, \"15\": 15, \"14\": 10, \"8\": 5, \"4\": 1}, \"2\": {\"2\": 219, \"10\": 6, \"1\": 14, \"7\": 1}, \"9\": {\"7\": 67, \"9\": 117, \"13\": 19, \"6\": 36, \"4\": 1}, \"12\": {\"12\": 234, \"3\": 6}, \"8\": {\"8\": 169, \"0\": 56, \"5\": 6, \"15\": 9}, \"3\": {\"3\": 234, \"12\": 6}, \"1\": {\"1\": 227, \"2\": 12, \"10\": 1}, \"11\": {\"11\": 240}}, \"ORACLE.run114\": {\"1\": {\"1\": 240}, \"15\": {\"15\": 240}, \"10\": {\"10\": 240}, \"2\": {\"2\": 110, \"4\": 13, \"13\": 15, \"5\": 38, \"14\": 30, \"6\": 26, \"3\": 6, \"7\": 2}, \"9\": {\"9\": 240}, \"5\": {\"5\": 200, \"7\": 4, \"2\": 29, \"4\": 5, \"14\": 2}, \"7\": {\"7\": 235, \"5\": 4, \"2\": 1}, \"13\": {\"14\": 52, \"13\": 64, \"6\": 90, \"2\": 19, \"3\": 4, \"4\": 4, \"15\": 5, \"5\": 2}, \"8\": {\"8\": 239, \"0\": 1}, \"6\": {\"13\": 60, \"6\": 147, \"14\": 21, \"2\": 9, \"3\": 3}, \"3\": {\"3\": 214, \"14\": 19, \"0\": 5, \"6\": 2}, \"12\": {\"12\": 240}, \"0\": {\"0\": 214, \"14\": 4, \"3\": 19, \"8\": 1, \"10\": 2}, \"4\": {\"4\": 231, \"2\": 4, \"5\": 4, \"10\": 1}, \"14\": {\"14\": 195, \"2\": 6, \"3\": 7, \"6\": 13, \"13\": 19}, \"11\": {\"11\": 240}}, \"Wisig_2\": {\"56\": {\"56\": 12}, \"12\": {\"12\": 72, \"105\": 2, \"106\": 6, \"88\": 2, \"40\": 2, \"74\": 2, \"109\": 1, \"70\": 1}, \"15\": {\"15\": 104, \"122\": 2, \"0\": 5, \"110\": 2, \"78\": 1, \"70\": 1, \"39\": 1}, \"26\": {\"20\": 2, \"26\": 106, \"31\": 2, \"84\": 3, \"69\": 5, \"62\": 2, \"18\": 8, \"24\": 2, \"21\": 1, \"88\": 1}, \"82\": {\"82\": 26, \"73\": 1, \"45\": 3, \"63\": 1, \"89\": 1, \"119\": 1, \"29\": 1, \"92\": 1, \"90\": 1}, \"9\": {\"9\": 32}, \"49\": {\"47\": 2, \"49\": 15, \"124\": 1, \"128\": 3, \"44\": 1, \"71\": 1, \"95\": 1}, \"55\": {\"56\": 2, \"82\": 3, \"55\": 10, \"50\": 1}, \"102\": {\"102\": 123, \"48\": 1}, \"85\": {\"85\": 26, \"98\": 1, \"19\": 1, \"83\": 1, \"91\": 2, \"75\": 1}, \"73\": {\"73\": 27, \"52\": 1}, \"47\": {\"47\": 6, \"127\": 1, \"27\": 1, \"53\": 1, \"71\": 1, \"95\": 2}, \"20\": {\"20\": 10, \"26\": 1, \"100\": 1, \"18\": 2, \"24\": 1, \"72\": 1}, \"117\": {\"117\": 108, \"87\": 1, \"44\": 2, \"26\": 1, \"21\": 1, \"39\": 1, \"90\": 2}, \"122\": {\"122\": 112, \"21\": 1, \"43\": 1, \"88\": 1, \"0\": 2, \"11\": 6, \"30\": 1, \"8\": 11, \"70\": 1, \"15\": 1, \"39\": 1, \"24\": 2}, \"113\": {\"113\": 64, \"118\": 2, \"26\": 2, \"90\": 1, \"121\": 1, \"39\": 2}, \"87\": {\"21\": 2, \"87\": 94, \"108\": 1, \"126\": 4, \"70\": 1, \"39\": 1, \"1\": 1, \"88\": 1, \"10\": 2, \"43\": 3, \"109\": 1, \"24\": 1}, \"21\": {\"21\": 46, \"78\": 1, \"70\": 1}, \"106\": {\"106\": 109, \"15\": 2, \"101\": 2, \"24\": 2, \"70\": 2, \"127\": 2, \"21\": 1}, \"3\": {\"3\": 124, \"88\": 1, \"40\": 2, \"127\": 2, \"39\": 3, \"62\": 2, \"1\": 2}, \"126\": {\"126\": 110, \"10\": 4, \"70\": 2, \"109\": 2, \"87\": 1, \"39\": 1}, \"41\": {\"41\": 10, \"5\": 6, \"66\": 1, \"90\": 1, \"86\": 1, \"124\": 1}, \"76\": {\"49\": 2, \"76\": 6, \"19\": 2, \"82\": 1, \"129\": 1, \"98\": 1, \"33\": 1, \"124\": 1, \"38\": 1}, \"60\": {\"60\": 22, \"84\": 2, \"62\": 2, \"23\": 1, \"16\": 1}, \"94\": {\"94\": 36, \"88\": 1, \"109\": 1, \"108\": 1, \"122\": 4, \"43\": 1, \"11\": 2, \"24\": 1, \"36\": 3, \"15\": 5, \"30\": 1, \"126\": 2, \"8\": 4, \"124\": 1, \"0\": 1}, \"50\": {\"50\": 8, \"92\": 2, \"123\": 2, \"89\": 1, \"22\": 1, \"91\": 2}, \"97\": {\"97\": 20}, \"115\": {\"115\": 12}, \"38\": {\"38\": 13, \"92\": 2, \"76\": 1}, \"43\": {\"43\": 102, \"70\": 1, \"94\": 1, \"122\": 3, \"39\": 1, \"87\": 6, \"88\": 1, \"8\": 1, \"118\": 2, \"109\": 2, \"15\": 2, \"108\": 2}, \"67\": {\"63\": 3, \"45\": 1, \"67\": 3, \"102\": 1, \"89\": 2, \"50\": 1, \"22\": 3, \"73\": 2}, \"18\": {\"18\": 97, \"26\": 8, \"84\": 2, \"88\": 2, \"69\": 12, \"10\": 1, \"39\": 1, \"27\": 1, \"113\": 1, \"109\": 1, \"21\": 1, \"70\": 1}, \"23\": {\"15\": 2, \"18\": 2, \"23\": 18, \"93\": 1, \"26\": 2, \"122\": 3, \"69\": 1, \"11\": 1, \"78\": 1, \"0\": 5, \"105\": 1, \"84\": 2, \"20\": 1, \"72\": 1, \"43\": 1, \"94\": 1, \"106\": 1}, \"63\": {\"63\": 15, \"92\": 2, \"117\": 1, \"119\": 2}, \"127\": {\"127\": 112, \"126\": 1, \"3\": 2, \"101\": 2, \"90\": 1, \"121\": 1, \"71\": 1, \"7\": 2, \"88\": 1, \"111\": 1}, \"72\": {\"72\": 20, \"26\": 2, \"1\": 1, \"33\": 2, \"27\": 1, \"111\": 1, \"83\": 1}, \"128\": {\"47\": 2, \"128\": 13, \"94\": 1, \"53\": 1, \"9\": 1, \"114\": 1, \"54\": 2, \"74\": 1, \"49\": 1, \"109\": 1}, \"7\": {\"7\": 120, \"88\": 2, \"12\": 2, \"105\": 2, \"10\": 1, \"109\": 1}, \"108\": {\"108\": 126, \"10\": 1, \"30\": 2, \"87\": 1, \"118\": 1, \"126\": 2, \"122\": 1}, \"16\": {\"23\": 1, \"16\": 77, \"60\": 2, \"93\": 14, \"12\": 2, \"88\": 2, \"105\": 2, \"70\": 3, \"69\": 1, \"108\": 1, \"115\": 1, \"84\": 1, \"96\": 1, \"122\": 1, \"30\": 2, \"27\": 1, \"21\": 1, \"26\": 1}, \"29\": {\"29\": 32}, \"61\": {\"61\": 12, \"82\": 2, \"83\": 2, \"44\": 1, \"53\": 1, \"126\": 1, \"31\": 1}, \"104\": {\"104\": 17, \"124\": 1, \"66\": 1, \"91\": 1}, \"120\": {\"124\": 1, \"120\": 16, \"116\": 1, \"90\": 2}, \"124\": {\"124\": 120, \"86\": 1, \"89\": 1, \"41\": 1, \"111\": 1}, \"34\": {\"34\": 23, \"53\": 2, \"54\": 2, \"95\": 1, \"107\": 2, \"128\": 1, \"33\": 1}, \"84\": {\"84\": 68, \"9\": 1, \"47\": 2, \"62\": 7, \"30\": 1, \"93\": 2, \"109\": 1, \"124\": 1, \"40\": 3, \"126\": 1, \"3\": 4, \"16\": 1}, \"103\": {\"104\": 1, \"124\": 2, \"41\": 2, \"103\": 10, \"111\": 1}, \"100\": {\"61\": 1, \"100\": 10, \"26\": 1, \"55\": 1, \"7\": 1, \"83\": 2}, \"40\": {\"128\": 1, \"84\": 5, \"40\": 65, \"24\": 2, \"3\": 14, \"1\": 13, \"95\": 4, \"71\": 7, \"70\": 1, \"107\": 2, \"21\": 2, \"39\": 3, \"44\": 5, \"33\": 7, \"109\": 1, \"114\": 4, \"14\": 1, \"32\": 1, \"101\": 1, \"88\": 1}, \"35\": {\"35\": 12}, \"96\": {\"96\": 10, \"47\": 1, \"26\": 2, \"16\": 4, \"31\": 2, \"72\": 1}, \"101\": {\"101\": 110, \"105\": 4, \"127\": 2, \"106\": 2, \"16\": 1, \"7\": 1}, \"71\": {\"71\": 88, \"24\": 1, \"14\": 1, \"127\": 1, \"10\": 1, \"40\": 2, \"3\": 2, \"26\": 1, \"78\": 1, \"70\": 1, \"1\": 1}, \"81\": {\"81\": 14, \"31\": 1, \"89\": 2, \"90\": 1, \"83\": 1, \"121\": 3, \"19\": 1, \"91\": 1}, \"74\": {\"107\": 2, \"100\": 1, \"36\": 1, \"74\": 7, \"14\": 2, \"122\": 1, \"127\": 2}, \"119\": {\"119\": 7, \"116\": 1, \"90\": 1, \"38\": 2, \"57\": 1, \"63\": 1, \"80\": 1, \"67\": 2, \"31\": 2, \"92\": 2}, \"5\": {\"5\": 101, \"42\": 3, \"43\": 1, \"109\": 1, \"70\": 1, \"111\": 2, \"67\": 1, \"126\": 1, \"124\": 1}, \"68\": {\"68\": 11, \"46\": 2, \"34\": 1, \"112\": 2}, \"37\": {\"109\": 1, \"37\": 10, \"129\": 2, \"41\": 2, \"48\": 1}, \"58\": {\"9\": 4, \"58\": 13, \"34\": 2, \"112\": 1}, \"109\": {\"109\": 80, \"78\": 3, \"39\": 4, \"88\": 9, \"24\": 1, \"70\": 3}, \"107\": {\"107\": 38, \"114\": 6, \"71\": 1, \"83\": 2, \"36\": 1, \"32\": 1, \"118\": 1, \"95\": 2, \"0\": 1, \"44\": 5, \"51\": 1, \"53\": 2, \"19\": 1, \"40\": 2}, \"13\": {\"13\": 11, \"115\": 1, \"109\": 1, \"129\": 1, \"118\": 1, \"87\": 1}, \"52\": {\"58\": 2, \"52\": 14, \"41\": 1, \"75\": 1, \"34\": 1, \"119\": 1}, \"77\": {\"77\": 13, \"22\": 1, \"91\": 2}, \"95\": {\"35\": 1, \"95\": 20, \"1\": 1, \"3\": 3, \"32\": 3, \"107\": 2, \"40\": 2, \"54\": 1, \"14\": 1, \"49\": 1, \"114\": 1}, \"44\": {\"44\": 96, \"74\": 1, \"32\": 1, \"1\": 2}, \"88\": {\"88\": 98, \"126\": 1, \"78\": 3, \"70\": 9, \"109\": 9, \"39\": 2}, \"91\": {\"52\": 1, \"91\": 17, \"111\": 1, \"5\": 1, \"29\": 2, \"104\": 2, \"17\": 1, \"126\": 1, \"77\": 1, \"85\": 1}, \"93\": {\"93\": 114, \"23\": 2, \"21\": 1, \"84\": 2, \"62\": 3, \"16\": 10, \"69\": 3, \"109\": 1, \"70\": 2}, \"8\": {\"8\": 110, \"122\": 7, \"94\": 2, \"18\": 1, \"69\": 1, \"30\": 2, \"26\": 1}, \"1\": {\"1\": 91, \"95\": 1, \"40\": 10, \"24\": 2, \"3\": 5, \"84\": 1, \"7\": 1, \"39\": 1, \"62\": 2}, \"45\": {\"45\": 15, \"21\": 1}, \"111\": {\"111\": 122, \"24\": 1, \"21\": 1, \"124\": 2}, \"116\": {\"116\": 23, \"119\": 1, \"22\": 1, \"48\": 2, \"67\": 1}, \"48\": {\"48\": 13, \"102\": 3, \"2\": 2, \"129\": 2}, \"57\": {\"57\": 15, \"90\": 2, \"78\": 1, \"24\": 1, \"99\": 1}, \"10\": {\"10\": 45, \"126\": 12, \"108\": 1, \"87\": 2}, \"129\": {\"37\": 1, \"129\": 27, \"42\": 1, \"5\": 1, \"85\": 1, \"41\": 1}, \"98\": {\"98\": 113, \"88\": 1, \"70\": 1, \"39\": 1, \"16\": 2}, \"65\": {\"65\": 18, \"121\": 1, \"109\": 1}, \"6\": {\"6\": 32}, \"75\": {\"9\": 1, \"49\": 2, \"52\": 2, \"75\": 7, \"126\": 1, \"54\": 2, \"128\": 1}, \"14\": {\"14\": 28, \"78\": 2, \"64\": 2, \"127\": 1, \"1\": 4, \"3\": 5, \"84\": 1, \"72\": 2, \"40\": 3}, \"30\": {\"30\": 85, \"36\": 2, \"122\": 2, \"8\": 9, \"109\": 1, \"88\": 1, \"126\": 1, \"24\": 1, \"39\": 3, \"94\": 2, \"11\": 1, \"43\": 3, \"108\": 1}, \"83\": {\"83\": 39, \"69\": 1}, \"69\": {\"69\": 117, \"18\": 2, \"40\": 1, \"109\": 1, \"39\": 1, \"33\": 2, \"72\": 2, \"126\": 1, \"88\": 1}, \"125\": {\"125\": 145, \"98\": 1}, \"31\": {\"31\": 8, \"74\": 1, \"119\": 1, \"100\": 2, \"67\": 1, \"95\": 1, \"44\": 1, \"61\": 1, \"35\": 2, \"72\": 1, \"129\": 1}, \"118\": {\"87\": 2, \"118\": 61, \"11\": 2, \"105\": 2, \"43\": 1}, \"53\": {\"56\": 2, \"53\": 9, \"49\": 1, \"32\": 1, \"44\": 1, \"34\": 2}, \"54\": {\"54\": 12, \"51\": 2, \"83\": 2, \"61\": 2, \"22\": 1, \"29\": 1}, \"92\": {\"31\": 1, \"92\": 15, \"55\": 2, \"38\": 2, \"83\": 1, \"89\": 2, \"46\": 1, \"74\": 1, \"107\": 1, \"82\": 2}, \"19\": {\"19\": 20, \"53\": 2, \"112\": 1, \"83\": 1, \"32\": 1, \"28\": 1, \"92\": 1, \"98\": 1}, \"27\": {\"27\": 45, \"11\": 2, \"94\": 4, \"15\": 1, \"36\": 8, \"30\": 1, \"39\": 1, \"108\": 3, \"43\": 2, \"24\": 1}, \"17\": {\"17\": 7, \"21\": 1, \"43\": 1, \"79\": 1, \"111\": 2, \"129\": 1, \"125\": 2, \"6\": 1}, \"4\": {\"4\": 85, \"87\": 1, \"125\": 2}, \"36\": {\"27\": 4, \"36\": 109, \"15\": 2, \"78\": 1, \"127\": 1, \"88\": 2, \"98\": 1, \"108\": 2, \"39\": 1, \"30\": 4, \"70\": 1}, \"90\": {\"90\": 134, \"89\": 1, \"2\": 1}, \"64\": {\"64\": 7, \"66\": 1, \"19\": 1, \"63\": 1, \"45\": 2, \"28\": 1, \"24\": 1, \"82\": 1, \"37\": 1}, \"66\": {\"64\": 1, \"66\": 13, \"90\": 2, \"28\": 2, \"45\": 2}, \"46\": {\"119\": 1, \"46\": 13, \"109\": 1, \"24\": 1}, \"86\": {\"86\": 30, \"124\": 1, \"41\": 1}, \"114\": {\"114\": 99, \"68\": 1, \"95\": 2, \"10\": 1, \"127\": 1, \"33\": 1, \"71\": 2, \"44\": 2, \"126\": 1}, \"32\": {\"32\": 26, \"114\": 2, \"86\": 1, \"28\": 1, \"107\": 3, \"61\": 1, \"102\": 1, \"44\": 1}, \"78\": {\"78\": 36, \"109\": 7, \"88\": 3, \"39\": 1, \"70\": 1}, \"33\": {\"100\": 1, \"33\": 123, \"40\": 4, \"1\": 6, \"126\": 1, \"122\": 1, \"14\": 2}, \"70\": {\"70\": 91, \"109\": 10, \"89\": 1, \"78\": 3, \"87\": 1, \"88\": 7, \"39\": 3, \"10\": 1, \"126\": 5, \"24\": 2}, \"0\": {\"0\": 94, \"122\": 3, \"30\": 3, \"44\": 1, \"117\": 1, \"15\": 4, \"39\": 1, \"106\": 2, \"11\": 2, \"8\": 2, \"90\": 1, \"18\": 1, \"105\": 1}, \"110\": {\"110\": 34, \"0\": 1, \"23\": 1, \"70\": 1, \"42\": 1, \"122\": 2}, \"2\": {\"2\": 29, \"65\": 2, \"85\": 1}, \"28\": {\"28\": 15, \"67\": 1, \"80\": 1, \"29\": 2, \"102\": 1}, \"51\": {\"51\": 13, \"71\": 1, \"91\": 1, \"75\": 1, \"49\": 1, \"58\": 1, \"9\": 1, \"128\": 1}, \"79\": {\"79\": 16}, \"42\": {\"116\": 2, \"112\": 1, \"42\": 13, \"91\": 2, \"5\": 2, \"77\": 1, \"29\": 1, \"59\": 1, \"119\": 1, \"124\": 2, \"111\": 1, \"48\": 1}, \"112\": {\"112\": 15, \"98\": 1}, \"89\": {\"89\": 31, \"92\": 2, \"90\": 2, \"46\": 1}, \"59\": {\"17\": 2, \"59\": 9, \"124\": 2, \"79\": 1, \"86\": 1, \"104\": 1}, \"105\": {\"105\": 124, \"70\": 1, \"39\": 1, \"84\": 2}, \"121\": {\"121\": 31, \"90\": 2, \"36\": 1, \"81\": 2}, \"11\": {\"11\": 58, \"15\": 1, \"118\": 1, \"8\": 7, \"43\": 2, \"122\": 8, \"126\": 1, \"88\": 1, \"39\": 1}, \"99\": {\"18\": 1, \"99\": 25, \"69\": 1, \"44\": 1, \"24\": 1, \"83\": 1, \"87\": 1, \"33\": 1}, \"25\": {\"25\": 14, \"54\": 1, \"34\": 1}, \"62\": {\"62\": 108, \"94\": 1, \"84\": 4, \"16\": 1, \"26\": 3, \"93\": 2, \"105\": 3, \"108\": 1, \"78\": 1, \"24\": 2, \"126\": 1, \"33\": 1}, \"123\": {\"123\": 13, \"124\": 1, \"129\": 1, \"55\": 1}, \"24\": {\"24\": 100, \"70\": 7, \"78\": 1, \"126\": 1, \"88\": 1, \"39\": 2}, \"80\": {\"80\": 16}, \"39\": {\"39\": 84, \"109\": 7, \"88\": 4, \"70\": 2, \"126\": 2, \"24\": 1}, \"22\": {\"22\": 15, \"80\": 2, \"129\": 1, \"126\": 1, \"119\": 1}}, \"Wisig_4\": {\"32\": {\"32\": 19, \"83\": 1, \"33\": 3, \"66\": 1, \"19\": 1, \"82\": 1, \"5\": 1, \"38\": 1}, \"22\": {\"22\": 10, \"45\": 2, \"129\": 2, \"79\": 1, \"111\": 1}, \"69\": {\"69\": 106, \"108\": 1, \"24\": 4, \"72\": 1, \"84\": 2, \"70\": 2, \"44\": 1, \"3\": 1, \"71\": 2}, \"65\": {\"65\": 12}, \"91\": {\"91\": 16, \"73\": 1, \"68\": 1, \"82\": 2, \"120\": 2, \"103\": 1, \"41\": 1}, \"63\": {\"63\": 13, \"48\": 1, \"90\": 2}, \"127\": {\"88\": 1, \"127\": 87, \"49\": 2, \"107\": 2, \"14\": 4, \"3\": 4, \"34\": 1, \"114\": 2, \"96\": 1, \"106\": 2, \"118\": 1, \"12\": 1}, \"11\": {\"11\": 125, \"110\": 1, \"36\": 1, \"26\": 1, \"24\": 1, \"118\": 1, \"93\": 3, \"16\": 3, \"87\": 2}, \"12\": {\"12\": 81, \"106\": 10, \"78\": 1, \"109\": 1, \"60\": 2, \"126\": 1, \"90\": 1, \"111\": 1, \"110\": 1, \"24\": 1}, \"111\": {\"111\": 118, \"124\": 5, \"43\": 1, \"68\": 2, \"96\": 1, \"126\": 1}, \"53\": {\"53\": 13, \"121\": 1, \"9\": 2}, \"73\": {\"73\": 8, \"114\": 2, \"33\": 1, \"42\": 1, \"112\": 2, \"98\": 2, \"40\": 1, \"85\": 1, \"45\": 1, \"129\": 1, \"28\": 2, \"82\": 2}, \"3\": {\"3\": 100, \"1\": 6, \"49\": 5, \"21\": 1, \"105\": 17, \"14\": 2, \"88\": 1, \"114\": 2, \"40\": 2}, \"83\": {\"83\": 13, \"32\": 1, \"89\": 2, \"38\": 1, \"40\": 1, \"128\": 1, \"95\": 2, \"5\": 2, \"107\": 2, \"114\": 1, \"85\": 2}, \"88\": {\"88\": 127, \"70\": 3}, \"87\": {\"87\": 122, \"108\": 1, \"118\": 2, \"122\": 3, \"110\": 3, \"11\": 1}, \"2\": {\"2\": 27, \"65\": 1}, \"86\": {\"86\": 28}, \"16\": {\"16\": 102, \"88\": 1, \"69\": 3, \"26\": 6, \"14\": 2, \"84\": 4, \"10\": 1, \"96\": 1, \"99\": 1, \"39\": 1}, \"21\": {\"88\": 5, \"21\": 31, \"39\": 1, \"110\": 1, \"108\": 1, \"126\": 1}, \"96\": {\"16\": 4, \"87\": 1, \"64\": 1, \"96\": 6, \"0\": 1, \"8\": 1, \"110\": 2, \"93\": 1, \"1\": 1, \"118\": 1, \"122\": 1}, \"100\": {\"100\": 8, \"3\": 2, \"53\": 2, \"14\": 1, \"1\": 3, \"114\": 4}, \"7\": {\"7\": 98, \"101\": 9, \"60\": 2, \"108\": 1, \"12\": 2, \"71\": 1, \"14\": 1, \"23\": 2, \"11\": 2, \"16\": 1, \"113\": 1}, \"75\": {\"75\": 9, \"5\": 1, \"29\": 1, \"47\": 2, \"15\": 1, \"34\": 2}, \"10\": {\"10\": 93, \"24\": 18, \"1\": 1, \"39\": 1, \"70\": 2, \"97\": 2, \"78\": 1, \"12\": 2, \"126\": 1, \"88\": 2, \"43\": 1}, \"43\": {\"43\": 109, \"10\": 3, \"0\": 1, \"113\": 1, \"126\": 4, \"30\": 1, \"110\": 1}, \"92\": {\"92\": 20, \"90\": 6, \"128\": 1, \"45\": 1}, \"62\": {\"62\": 38, \"11\": 5, \"93\": 4, \"113\": 1, \"5\": 1, \"40\": 1, \"88\": 1, \"36\": 1, \"108\": 1, \"60\": 4, \"118\": 2, \"0\": 1}, \"31\": {\"38\": 1, \"45\": 1, \"107\": 2, \"31\": 6, \"33\": 1, \"82\": 1, \"41\": 1, \"19\": 1, \"66\": 2}, \"0\": {\"0\": 85, \"15\": 4, \"122\": 3, \"106\": 2, \"87\": 2, \"110\": 5, \"8\": 11, \"10\": 1, \"101\": 1}, \"45\": {\"45\": 9, \"19\": 2, \"76\": 1, \"92\": 1, \"28\": 1, \"102\": 1, \"111\": 1}, \"85\": {\"85\": 24, \"98\": 1, \"54\": 1, \"128\": 1, \"73\": 1}, \"119\": {\"119\": 10, \"115\": 4, \"104\": 2}, \"46\": {\"85\": 2, \"32\": 2, \"46\": 14, \"95\": 2}, \"71\": {\"71\": 87, \"1\": 6, \"3\": 5, \"105\": 2, \"49\": 1, \"113\": 1, \"127\": 1, \"70\": 1}, \"8\": {\"8\": 117, \"0\": 5, \"10\": 1, \"15\": 4, \"113\": 1, \"126\": 2, \"94\": 2, \"30\": 2}, \"118\": {\"118\": 87, \"8\": 2, \"122\": 2, \"90\": 1, \"110\": 5, \"39\": 1, \"87\": 6, \"93\": 1, \"0\": 2, \"11\": 1, \"36\": 1, \"101\": 1, \"109\": 1, \"70\": 1}, \"1\": {\"1\": 82, \"14\": 2, \"85\": 1, \"3\": 13, \"124\": 1, \"105\": 2, \"24\": 1, \"126\": 1, \"10\": 2, \"21\": 1, \"111\": 2}, \"38\": {\"38\": 12, \"57\": 2, \"5\": 1, \"108\": 1}, \"30\": {\"30\": 65, \"24\": 3, \"94\": 2, \"108\": 1, \"87\": 1, \"109\": 1, \"36\": 1, \"122\": 1, \"8\": 1}, \"66\": {\"119\": 2, \"66\": 10, \"48\": 1, \"22\": 2, \"90\": 1}, \"9\": {\"1\": 2, \"114\": 2, \"9\": 15, \"53\": 5, \"3\": 2, \"127\": 2}, \"5\": {\"5\": 115, \"105\": 3, \"40\": 8, \"114\": 4, \"69\": 1, \"45\": 1, \"110\": 2, \"107\": 2}, \"24\": {\"24\": 90, \"70\": 5, \"30\": 1, \"10\": 20, \"43\": 1, \"88\": 1, \"108\": 1, \"27\": 1}, \"97\": {\"50\": 1, \"24\": 1, \"27\": 2, \"97\": 14, \"88\": 2}, \"67\": {\"67\": 11, \"66\": 1, \"48\": 1, \"82\": 1, \"2\": 1, \"90\": 1}, \"19\": {\"120\": 2, \"32\": 2, \"56\": 1, \"98\": 1, \"89\": 4, \"85\": 2, \"52\": 2, \"19\": 9, \"31\": 1, \"83\": 1, \"33\": 1, \"107\": 1, \"44\": 1}, \"77\": {\"77\": 12}, \"26\": {\"26\": 114, \"16\": 2, \"78\": 1, \"43\": 1}, \"115\": {\"88\": 1, \"115\": 9, \"119\": 2, \"37\": 2, \"86\": 1, \"80\": 1}, \"50\": {\"50\": 9, \"115\": 1, \"22\": 1, \"119\": 2, \"37\": 1, \"64\": 2}, \"120\": {\"120\": 11, \"82\": 2, \"73\": 2, \"37\": 1, \"102\": 1, \"86\": 1, \"90\": 2}, \"102\": {\"102\": 121, \"37\": 2, \"39\": 1, \"125\": 2, \"117\": 2}, \"29\": {\"29\": 29, \"42\": 2, \"98\": 1}, \"44\": {\"44\": 47, \"72\": 1, \"1\": 1, \"5\": 6, \"33\": 1, \"107\": 4, \"105\": 2, \"40\": 2}, \"124\": {\"124\": 111, \"37\": 2, \"121\": 1, \"102\": 2, \"111\": 2}, \"78\": {\"78\": 24, \"118\": 1, \"21\": 2, \"39\": 1, \"113\": 1, \"108\": 1, \"43\": 1, \"88\": 4, \"109\": 1}, \"104\": {\"104\": 8, \"37\": 1, \"17\": 2, \"42\": 1, \"116\": 1, \"119\": 1, \"4\": 1, \"22\": 1}, \"105\": {\"105\": 73, \"49\": 2, \"3\": 12, \"70\": 1, \"10\": 1, \"14\": 5, \"78\": 1, \"102\": 1, \"88\": 1, \"113\": 1, \"127\": 2}, \"28\": {\"28\": 13, \"41\": 1, \"74\": 1, \"73\": 2, \"120\": 2, \"64\": 1}, \"37\": {\"17\": 1, \"37\": 15}, \"107\": {\"107\": 113, \"33\": 3, \"108\": 1, \"5\": 5, \"114\": 1, \"40\": 6, \"46\": 2, \"88\": 1}, \"6\": {\"6\": 20, \"124\": 1, \"111\": 3}, \"17\": {\"37\": 2, \"17\": 14, \"124\": 1, \"4\": 1, \"104\": 1, \"129\": 1}, \"57\": {\"57\": 12, \"90\": 2, \"61\": 2}, \"121\": {\"57\": 1, \"121\": 25, \"128\": 1, \"33\": 1, \"21\": 1, \"61\": 1, \"89\": 1, \"81\": 1}, \"58\": {\"58\": 16}, \"64\": {\"28\": 2, \"64\": 6, \"55\": 2, \"73\": 3, \"115\": 1, \"46\": 1, \"22\": 1}, \"82\": {\"82\": 20, \"31\": 1, \"74\": 1, \"19\": 2, \"33\": 2, \"32\": 2, \"28\": 1, \"92\": 1, \"29\": 2}, \"39\": {\"39\": 93, \"70\": 2, \"88\": 1, \"108\": 1, \"109\": 2, \"126\": 1}, \"110\": {\"110\": 106, \"0\": 2, \"96\": 1, \"61\": 1, \"109\": 1, \"87\": 4, \"39\": 1, \"113\": 1, \"21\": 1, \"9\": 1, \"69\": 1, \"118\": 2, \"126\": 1, \"88\": 1}, \"114\": {\"114\": 115, \"20\": 2, \"1\": 3, \"69\": 2, \"5\": 1, \"39\": 1, \"40\": 2, \"3\": 2}, \"20\": {\"20\": 15, \"99\": 1}, \"117\": {\"117\": 108, \"63\": 2, \"90\": 2, \"2\": 2}, \"18\": {\"18\": 117, \"26\": 2, \"113\": 1}, \"99\": {\"20\": 1, \"99\": 27, \"3\": 2, \"69\": 1, \"40\": 1, \"44\": 4, \"1\": 1, \"72\": 2, \"14\": 1}, \"23\": {\"39\": 3, \"0\": 1, \"11\": 2, \"106\": 1, \"108\": 1, \"78\": 1, \"93\": 1, \"23\": 3, \"21\": 1, \"88\": 1, \"70\": 1}, \"128\": {\"128\": 16, \"33\": 1, \"83\": 1, \"46\": 1, \"117\": 1, \"85\": 1, \"120\": 1, \"90\": 1, \"100\": 1}, \"60\": {\"60\": 29, \"127\": 2, \"11\": 1}, \"70\": {\"88\": 5, \"70\": 96, \"110\": 1, \"97\": 1, \"108\": 3, \"109\": 7, \"118\": 1, \"10\": 2, \"36\": 1, \"30\": 1, \"126\": 1, \"113\": 1}, \"122\": {\"122\": 68, \"110\": 4, \"23\": 1, \"10\": 1, \"87\": 4, \"126\": 1, \"94\": 2, \"109\": 1, \"43\": 2}, \"101\": {\"101\": 110, \"60\": 3, \"11\": 2, \"78\": 1, \"71\": 2, \"127\": 2, \"10\": 1, \"8\": 5, \"106\": 2, \"88\": 1, \"110\": 1, \"12\": 1, \"1\": 1}, \"33\": {\"33\": 125, \"92\": 2, \"2\": 1, \"5\": 1, \"107\": 2, \"98\": 1}, \"40\": {\"40\": 96, \"5\": 11, \"83\": 1, \"33\": 3, \"3\": 2, \"39\": 1, \"1\": 3, \"114\": 1, \"126\": 1, \"107\": 4, \"109\": 1, \"88\": 1, \"10\": 1, \"108\": 1, \"71\": 1, \"110\": 2}, \"41\": {\"41\": 9, \"56\": 1, \"13\": 1, \"86\": 1, \"77\": 2, \"102\": 1, \"21\": 1}, \"59\": {\"59\": 12}, \"4\": {\"4\": 94, \"39\": 2, \"27\": 1, \"108\": 2, \"24\": 2, \"86\": 2, \"109\": 1}, \"112\": {\"41\": 2, \"112\": 11, \"119\": 1, \"56\": 1, \"27\": 1}, \"36\": {\"30\": 7, \"36\": 109, \"109\": 1, \"24\": 4, \"39\": 1, \"27\": 2, \"94\": 2, \"8\": 2}, \"48\": {\"48\": 10, \"67\": 1, \"117\": 2, \"31\": 1, \"129\": 1, \"63\": 1}, \"126\": {\"10\": 1, \"126\": 113, \"39\": 2}, \"125\": {\"125\": 119, \"107\": 1, \"98\": 1, \"90\": 1}, \"84\": {\"84\": 105, \"21\": 1, \"71\": 1, \"36\": 1, \"14\": 3, \"88\": 4, \"10\": 2, \"69\": 5, \"96\": 1, \"99\": 1, \"15\": 1, \"126\": 2, \"26\": 1}, \"80\": {\"80\": 16}, \"49\": {\"20\": 2, \"49\": 9, \"106\": 1, \"72\": 3, \"8\": 1, \"127\": 2, \"3\": 3, \"44\": 1, \"71\": 1, \"5\": 4, \"12\": 2, \"69\": 2, \"40\": 1}, \"47\": {\"25\": 1, \"47\": 8, \"91\": 1, \"129\": 2}, \"95\": {\"95\": 23, \"1\": 1, \"46\": 1, \"34\": 1, \"40\": 2, \"49\": 2, \"83\": 2}, \"54\": {\"25\": 2, \"54\": 13, \"103\": 1}, \"25\": {\"25\": 15, \"46\": 1}, \"116\": {\"116\": 28}, \"74\": {\"74\": 16}, \"35\": {\"35\": 12}, \"15\": {\"15\": 113, \"94\": 9, \"8\": 2, \"109\": 1, \"10\": 1, \"88\": 1, \"87\": 1}, \"108\": {\"70\": 10, \"108\": 67, \"109\": 5, \"39\": 2, \"90\": 1, \"98\": 1, \"126\": 2, \"91\": 1, \"24\": 2, \"72\": 1}, \"34\": {\"53\": 2, \"25\": 1, \"114\": 2, \"3\": 4, \"34\": 11, \"49\": 1, \"95\": 1, \"1\": 1, \"40\": 1, \"71\": 4, \"52\": 2, \"99\": 2}, \"81\": {\"81\": 30, \"18\": 3, \"44\": 1, \"35\": 1, \"117\": 1}, \"93\": {\"93\": 126, \"26\": 1, \"11\": 1}, \"55\": {\"73\": 2, \"42\": 2, \"55\": 7, \"56\": 1, \"129\": 1, \"89\": 1, \"83\": 2}, \"27\": {\"27\": 89, \"88\": 1, \"108\": 2, \"125\": 1, \"111\": 1, \"36\": 1, \"109\": 2, \"43\": 2, \"8\": 1}, \"109\": {\"109\": 101, \"39\": 2, \"90\": 1, \"126\": 2, \"24\": 1, \"108\": 2, \"70\": 1}, \"106\": {\"106\": 85, \"7\": 3, \"12\": 16, \"101\": 3, \"70\": 1, \"113\": 1, \"36\": 1, \"60\": 2, \"10\": 1, \"126\": 1, \"24\": 2}, \"68\": {\"68\": 13, \"91\": 2, \"24\": 1}, \"76\": {\"36\": 1, \"76\": 13, \"32\": 1, \"78\": 1}, \"103\": {\"103\": 6, \"42\": 2, \"10\": 1, \"112\": 1, \"128\": 2, \"95\": 2, \"75\": 2}, \"42\": {\"45\": 1, \"42\": 15, \"56\": 2, \"29\": 1, \"48\": 1, \"124\": 1, \"119\": 1, \"41\": 2, \"103\": 1, \"98\": 1, \"129\": 2}, \"129\": {\"91\": 2, \"129\": 20, \"120\": 1, \"50\": 2, \"48\": 1, \"111\": 2}, \"94\": {\"94\": 68, \"39\": 1, \"15\": 10, \"113\": 1, \"10\": 1, \"21\": 1, \"8\": 2, \"27\": 1, \"11\": 1, \"109\": 1, \"108\": 1}, \"123\": {\"123\": 16}, \"61\": {\"61\": 13, \"18\": 1, \"121\": 1, \"57\": 1}, \"51\": {\"39\": 1, \"51\": 2, \"97\": 1, \"27\": 2, \"5\": 1, \"107\": 1, \"21\": 2, \"20\": 1, \"108\": 1, \"53\": 1, \"9\": 1, \"71\": 2}, \"98\": {\"73\": 1, \"112\": 1, \"98\": 105, \"55\": 1, \"129\": 1, \"74\": 1, \"18\": 2, \"90\": 1, \"33\": 4, \"121\": 1}, \"56\": {\"56\": 8, \"42\": 2, \"91\": 1, \"83\": 1}, \"14\": {\"14\": 100, \"1\": 2, \"109\": 1, \"105\": 1, \"127\": 3, \"23\": 1, \"69\": 2, \"39\": 1, \"71\": 1}, \"90\": {\"90\": 138}, \"13\": {\"117\": 1, \"13\": 13, \"50\": 1, \"102\": 1}, \"89\": {\"89\": 28, \"4\": 1, \"33\": 2, \"19\": 1}, \"52\": {\"95\": 2, \"37\": 1, \"40\": 2, \"52\": 11, \"119\": 1, \"34\": 1, \"114\": 1, \"73\": 1}, \"72\": {\"72\": 15, \"62\": 1, \"3\": 3, \"7\": 3, \"14\": 3, \"105\": 3, \"93\": 1, \"106\": 1, \"99\": 1, \"98\": 1}, \"79\": {\"116\": 1, \"79\": 14, \"4\": 1}, \"113\": {\"113\": 115, \"118\": 3, \"90\": 1, \"70\": 1, \"108\": 1, \"87\": 2, \"39\": 1, \"93\": 1, \"126\": 1}}, \"Wisig_1\": {\"68\": {\"68\": 14, \"77\": 1, \"5\": 1}, \"7\": {\"7\": 142}, \"125\": {\"125\": 118}, \"111\": {\"111\": 112, \"68\": 2, \"90\": 1, \"101\": 1, \"98\": 1, \"21\": 1, \"5\": 2}, \"101\": {\"101\": 120, \"71\": 2, \"114\": 1, \"11\": 1}, \"11\": {\"11\": 133, \"8\": 1, \"43\": 2}, \"76\": {\"76\": 10, \"81\": 1, \"42\": 2, \"33\": 2, \"105\": 1}, \"5\": {\"5\": 86, \"0\": 1, \"39\": 1}, \"123\": {\"123\": 13, \"83\": 1, \"119\": 1, \"85\": 1}, \"85\": {\"85\": 23, \"104\": 1, \"83\": 3, \"92\": 4, \"128\": 1}, \"34\": {\"34\": 13, \"51\": 1, \"35\": 1, \"89\": 3, \"52\": 1, \"75\": 3, \"14\": 4, \"105\": 2, \"107\": 1, \"40\": 1, \"47\": 1, \"49\": 1}, \"42\": {\"85\": 1, \"42\": 14, \"66\": 1, \"41\": 1, \"98\": 3, \"82\": 2, \"92\": 1, \"64\": 1, \"28\": 2, \"91\": 2}, \"81\": {\"76\": 2, \"81\": 22, \"31\": 1, \"20\": 1, \"40\": 1, \"34\": 1}, \"127\": {\"101\": 5, \"127\": 101, \"126\": 1, \"70\": 1}, \"60\": {\"127\": 2, \"60\": 10, \"18\": 1, \"110\": 1, \"7\": 1, \"106\": 1}, \"77\": {\"77\": 16}, \"65\": {\"65\": 10, \"116\": 1, \"37\": 1}, \"44\": {\"44\": 60, \"105\": 8, \"40\": 3, \"9\": 1, \"35\": 1, \"101\": 1, \"114\": 2}, \"100\": {\"33\": 1, \"100\": 8, \"31\": 1, \"120\": 1, \"50\": 1, \"72\": 1, \"19\": 1, \"114\": 1, \"85\": 1}, \"80\": {\"80\": 16}, \"83\": {\"83\": 14, \"92\": 2, \"54\": 2, \"32\": 1, \"10\": 1, \"77\": 1, \"52\": 1, \"91\": 2, \"85\": 2, \"17\": 1, \"107\": 1}, \"51\": {\"51\": 14, \"107\": 2}, \"93\": {\"93\": 129, \"70\": 1, \"43\": 1, \"11\": 2, \"8\": 1}, \"31\": {\"31\": 11, \"89\": 2, \"127\": 1, \"35\": 1, \"23\": 1}, \"33\": {\"33\": 124, \"64\": 1, \"45\": 1}, \"113\": {\"113\": 117, \"18\": 5, \"39\": 1, \"70\": 1}, \"126\": {\"126\": 116, \"70\": 2, \"27\": 1, \"11\": 2, \"43\": 1, \"10\": 2}, \"10\": {\"10\": 91, \"97\": 1, \"70\": 2, \"27\": 1, \"108\": 15, \"109\": 3, \"88\": 2, \"126\": 5}, \"21\": {\"21\": 36, \"109\": 4}, \"90\": {\"90\": 132}, \"38\": {\"38\": 16}, \"96\": {\"113\": 1, \"94\": 1, \"96\": 13, \"62\": 1, \"106\": 1, \"7\": 2, \"24\": 1}, \"6\": {\"37\": 2, \"6\": 25, \"111\": 2, \"124\": 1, \"112\": 2}, \"121\": {\"121\": 30, \"95\": 2}, \"37\": {\"37\": 14, \"6\": 1, \"79\": 1}, \"88\": {\"88\": 97, \"10\": 4, \"24\": 15, \"108\": 8, \"30\": 1, \"126\": 1}, \"54\": {\"54\": 13, \"85\": 2, \"89\": 1}, \"92\": {\"92\": 28}, \"19\": {\"73\": 1, \"96\": 1, \"19\": 18, \"81\": 2, \"107\": 2, \"9\": 1, \"20\": 1, \"114\": 1, \"82\": 1}, \"47\": {\"73\": 1, \"47\": 6, \"114\": 1, \"98\": 1, \"9\": 1, \"56\": 1, \"34\": 1}, \"94\": {\"94\": 79, \"36\": 3, \"10\": 1, \"15\": 7, \"88\": 1, \"126\": 1}, \"66\": {\"66\": 14, \"102\": 1, \"124\": 1}, \"73\": {\"83\": 1, \"96\": 1, \"73\": 12, \"10\": 1, \"32\": 2, \"34\": 1, \"53\": 2}, \"75\": {\"75\": 9, \"89\": 3, \"29\": 1, \"9\": 2, \"34\": 1}, \"28\": {\"28\": 10, \"120\": 2, \"50\": 1, \"61\": 1, \"38\": 3, \"65\": 1, \"82\": 1, \"42\": 1}, \"20\": {\"20\": 16}, \"78\": {\"21\": 1, \"78\": 14, \"10\": 1}, \"71\": {\"71\": 76, \"12\": 4, \"109\": 1, \"127\": 10, \"101\": 5, \"44\": 2, \"126\": 1, \"1\": 2, \"21\": 1, \"105\": 2}, \"13\": {\"13\": 8, \"102\": 2, \"117\": 2, \"119\": 1, \"2\": 2, \"63\": 1}, \"118\": {\"118\": 82, \"69\": 1, \"10\": 1}, \"72\": {\"72\": 20, \"101\": 2, \"127\": 3, \"44\": 3, \"29\": 1, \"9\": 2, \"49\": 1}, \"24\": {\"24\": 60, \"88\": 15, \"108\": 12, \"43\": 1, \"70\": 1, \"27\": 2, \"126\": 1}, \"41\": {\"41\": 7, \"112\": 2, \"124\": 2, \"45\": 1, \"104\": 2, \"42\": 2}, \"102\": {\"102\": 116, \"116\": 2, \"124\": 2}, \"8\": {\"21\": 1, \"8\": 127, \"122\": 2, \"11\": 2, \"87\": 5, \"110\": 1}, \"39\": {\"39\": 87, \"11\": 2, \"109\": 1, \"126\": 3, \"111\": 1, \"70\": 1, \"12\": 1}, \"97\": {\"97\": 15, \"30\": 2, \"11\": 2, \"82\": 1}, \"48\": {\"48\": 12}, \"57\": {\"57\": 11, \"80\": 1}, \"29\": {\"29\": 28}, \"119\": {\"119\": 13, \"45\": 1, \"61\": 1, \"116\": 1}, \"89\": {\"89\": 25, \"75\": 2, \"53\": 1, \"98\": 1, \"128\": 1, \"34\": 3, \"56\": 2, \"32\": 1}, \"40\": {\"29\": 2, \"40\": 83, \"14\": 13, \"34\": 1, \"76\": 1, \"105\": 4, \"114\": 7, \"107\": 1, \"1\": 15, \"71\": 4, \"31\": 1, \"81\": 1, \"44\": 5, \"127\": 1, \"101\": 1}, \"22\": {\"108\": 1, \"22\": 13, \"5\": 2}, \"53\": {\"53\": 16, \"32\": 2, \"92\": 1, \"6\": 1}, \"108\": {\"108\": 98, \"10\": 13, \"24\": 4, \"88\": 5, \"126\": 2, \"11\": 1, \"109\": 1}, \"23\": {\"23\": 8, \"3\": 1, \"87\": 3, \"127\": 1, \"8\": 4, \"110\": 1, \"94\": 1, \"69\": 1, \"105\": 1, \"43\": 1, \"84\": 2}, \"109\": {\"109\": 102, \"70\": 12, \"108\": 1, \"10\": 1}, \"112\": {\"112\": 11, \"111\": 3, \"91\": 1, \"58\": 1}, \"35\": {\"3\": 2, \"35\": 10}, \"3\": {\"3\": 80, \"62\": 2, \"111\": 4, \"14\": 2}, \"103\": {\"103\": 12, \"127\": 1, \"91\": 1, \"98\": 1, \"52\": 1}, \"4\": {\"4\": 98, \"109\": 1, \"84\": 1}, \"87\": {\"87\": 90, \"8\": 8, \"122\": 6, \"109\": 1, \"96\": 2, \"43\": 1}, \"25\": {\"87\": 1, \"120\": 1, \"25\": 5, \"104\": 1, \"67\": 1, \"34\": 1, \"82\": 1, \"83\": 1, \"38\": 3, \"11\": 1}, \"15\": {\"15\": 87, \"94\": 13, \"39\": 1, \"36\": 1, \"21\": 1, \"109\": 1}, \"95\": {\"95\": 33, \"33\": 2, \"82\": 1}, \"120\": {\"120\": 14, \"2\": 1, \"28\": 2, \"8\": 1, \"85\": 2}, \"59\": {\"59\": 11, \"50\": 1}, \"49\": {\"49\": 11, \"31\": 1, \"9\": 3, \"85\": 1, \"107\": 1, \"34\": 1, \"73\": 1, \"89\": 1}, \"52\": {\"52\": 16, \"34\": 1, \"70\": 1, \"85\": 1, \"24\": 1}, \"45\": {\"22\": 2, \"119\": 1, \"46\": 1, \"92\": 2, \"45\": 3, \"116\": 2, \"24\": 1}, \"107\": {\"107\": 116, \"34\": 1, \"89\": 2, \"114\": 2, \"128\": 1, \"29\": 2}, \"106\": {\"106\": 126, \"10\": 1, \"12\": 5, \"84\": 2}, \"18\": {\"18\": 121, \"16\": 3}, \"64\": {\"64\": 14, \"66\": 1, \"28\": 1}, \"86\": {\"115\": 1, \"86\": 23, \"48\": 2, \"79\": 2, \"111\": 1, \"102\": 1, \"46\": 1, \"108\": 1, \"17\": 1, \"5\": 1, \"4\": 1, \"2\": 1}, \"14\": {\"44\": 6, \"14\": 78, \"72\": 2, \"40\": 3, \"1\": 4, \"84\": 2, \"71\": 1}, \"115\": {\"115\": 12}, \"0\": {\"0\": 74, \"7\": 1, \"110\": 4, \"106\": 1, \"71\": 1, \"10\": 1, \"84\": 2}, \"104\": {\"104\": 16}, \"61\": {\"61\": 12}, \"129\": {\"129\": 14, \"104\": 1, \"41\": 2, \"119\": 2, \"5\": 2, \"55\": 1, \"117\": 1, \"46\": 1, \"121\": 1, \"67\": 1, \"61\": 2}, \"122\": {\"122\": 77, \"11\": 2, \"87\": 5, \"70\": 1, \"39\": 1, \"0\": 2}, \"67\": {\"67\": 14, \"21\": 1, \"39\": 1}, \"128\": {\"85\": 2, \"107\": 5, \"72\": 1, \"38\": 1, \"128\": 13, \"49\": 1, \"29\": 1}, \"26\": {\"26\": 129, \"10\": 1, \"126\": 2, \"16\": 2}, \"117\": {\"117\": 136}, \"91\": {\"91\": 22, \"85\": 1, \"28\": 1, \"92\": 2, \"77\": 1, \"68\": 1}, \"12\": {\"12\": 87, \"70\": 2, \"108\": 3, \"101\": 6, \"106\": 4, \"0\": 2}, \"50\": {\"100\": 2, \"40\": 1, \"50\": 9, \"82\": 1, \"83\": 3}, \"99\": {\"99\": 17, \"72\": 1, \"105\": 1, \"44\": 1, \"20\": 2, \"26\": 1, \"40\": 1}, \"110\": {\"110\": 99, \"0\": 1, \"15\": 2, \"106\": 2}, \"43\": {\"43\": 92, \"87\": 3, \"96\": 2, \"8\": 2, \"21\": 1, \"122\": 4, \"93\": 4, \"11\": 6, \"106\": 2}, \"82\": {\"82\": 29, \"33\": 2, \"61\": 1, \"100\": 1, \"64\": 1, \"99\": 1, \"2\": 1}, \"1\": {\"1\": 89, \"14\": 2, \"105\": 1, \"40\": 3, \"33\": 1}, \"46\": {\"111\": 1, \"46\": 7, \"55\": 1, \"112\": 1, \"22\": 1, \"17\": 1}, \"16\": {\"16\": 102, \"39\": 1, \"69\": 2, \"109\": 1, \"62\": 2}, \"74\": {\"74\": 11, \"28\": 1, \"107\": 1, \"114\": 2, \"82\": 1}, \"32\": {\"32\": 26, \"56\": 1, \"29\": 2, \"51\": 1, \"53\": 2}, \"62\": {\"62\": 110, \"14\": 1, \"18\": 3, \"69\": 4, \"70\": 1, \"102\": 1}, \"27\": {\"27\": 81, \"87\": 1, \"108\": 1, \"30\": 4, \"126\": 3, \"24\": 1, \"109\": 1}, \"17\": {\"5\": 3, \"79\": 1, \"17\": 6, \"124\": 2, \"37\": 2, \"129\": 1, \"46\": 1}, \"36\": {\"36\": 128, \"94\": 2, \"15\": 3, \"39\": 1}, \"2\": {\"2\": 21, \"129\": 2, \"116\": 1, \"117\": 5, \"82\": 2, \"64\": 1}, \"70\": {\"70\": 119, \"109\": 8, \"10\": 1}, \"9\": {\"9\": 26, \"32\": 1, \"72\": 4, \"98\": 1}, \"114\": {\"114\": 130}, \"79\": {\"79\": 11, \"5\": 1}, \"56\": {\"56\": 9, \"98\": 1, \"32\": 1, \"107\": 1}, \"124\": {\"124\": 102}, \"84\": {\"84\": 132, \"105\": 1, \"7\": 1}, \"69\": {\"69\": 102, \"109\": 1, \"26\": 2, \"16\": 2, \"70\": 1}, \"58\": {\"58\": 11, \"111\": 1}, \"30\": {\"30\": 50, \"126\": 2}, \"55\": {\"55\": 9, \"46\": 1, \"5\": 2}, \"105\": {\"105\": 70, \"44\": 6, \"14\": 2, \"71\": 1, \"3\": 1, \"84\": 1, \"74\": 2, \"40\": 1}, \"63\": {\"63\": 13, \"117\": 1, \"102\": 2}, \"98\": {\"98\": 100, \"111\": 4, \"107\": 2, \"109\": 1, \"103\": 1}, \"116\": {\"116\": 29, \"21\": 1, \"129\": 2}}, \"Wisig_3\": {\"76\": {\"100\": 2, \"50\": 1, \"76\": 8, \"20\": 2, \"44\": 1, \"74\": 1, \"66\": 1}, \"6\": {\"6\": 20, \"111\": 9, \"77\": 1, \"59\": 1, \"82\": 1}, \"108\": {\"108\": 94, \"10\": 11, \"11\": 1}, \"29\": {\"29\": 28, \"115\": 1, \"111\": 1, \"82\": 2}, \"83\": {\"83\": 17, \"34\": 1, \"3\": 2, \"9\": 1, \"35\": 1, \"114\": 1, \"1\": 1}, \"18\": {\"18\": 126, \"88\": 1, \"78\": 1}, \"54\": {\"54\": 14, \"83\": 2}, \"15\": {\"15\": 100, \"94\": 4}, \"100\": {\"100\": 13, \"74\": 1, \"44\": 1, \"99\": 1}, \"90\": {\"90\": 128, \"111\": 1, \"82\": 3, \"86\": 1, \"45\": 1, \"5\": 2}, \"26\": {\"26\": 123, \"39\": 1, \"88\": 1, \"90\": 1, \"40\": 2, \"18\": 2, \"62\": 2}, \"115\": {\"115\": 13, \"55\": 2, \"2\": 1}, \"94\": {\"15\": 11, \"94\": 72, \"98\": 1}, \"46\": {\"46\": 14, \"95\": 2}, \"121\": {\"121\": 26, \"22\": 1, \"61\": 3, \"81\": 1, \"29\": 1}, \"109\": {\"109\": 121, \"118\": 2, \"27\": 2, \"43\": 1, \"11\": 2}, \"101\": {\"101\": 43, \"49\": 2, \"98\": 1, \"12\": 2, \"94\": 2, \"23\": 2}, \"99\": {\"99\": 21, \"9\": 3, \"71\": 4, \"47\": 3, \"1\": 1, \"114\": 1, \"127\": 1, \"3\": 2}, \"8\": {\"8\": 117, \"36\": 1, \"94\": 2, \"0\": 4, \"109\": 1, \"27\": 1, \"87\": 2}, \"102\": {\"102\": 104}, \"122\": {\"113\": 1, \"122\": 45, \"90\": 1, \"87\": 2, \"110\": 6, \"15\": 1, \"43\": 1, \"126\": 1, \"127\": 1, \"8\": 1}, \"36\": {\"36\": 104, \"24\": 2, \"27\": 1, \"10\": 3, \"108\": 3, \"30\": 2, \"124\": 1}, \"113\": {\"113\": 119, \"126\": 1}, \"123\": {\"102\": 1, \"123\": 14, \"117\": 1}, \"120\": {\"102\": 1, \"120\": 12, \"61\": 2, \"64\": 2, \"116\": 1, \"67\": 1, \"121\": 1}, \"125\": {\"125\": 105, \"4\": 2, \"98\": 1}, \"89\": {\"89\": 20, \"76\": 1, \"100\": 1, \"107\": 1, \"120\": 2, \"29\": 1, \"44\": 1, \"32\": 1}, \"9\": {\"9\": 28, \"53\": 1, \"83\": 1, \"19\": 1, \"105\": 1}, \"31\": {\"31\": 17, \"82\": 1, \"74\": 2}, \"62\": {\"62\": 101, \"84\": 7, \"93\": 1, \"16\": 3, \"126\": 1, \"113\": 1}, \"49\": {\"7\": 3, \"49\": 6, \"14\": 2, \"84\": 2, \"16\": 3, \"62\": 2, \"101\": 2, \"69\": 1, \"6\": 1, \"60\": 2}, \"23\": {\"18\": 3, \"49\": 2, \"23\": 12, \"30\": 1, \"26\": 4, \"0\": 1, \"93\": 1, \"8\": 2, \"110\": 3, \"16\": 2, \"84\": 1}, \"55\": {\"55\": 16}, \"128\": {\"128\": 22, \"57\": 1, \"95\": 2, \"38\": 1, \"71\": 2, \"9\": 1, \"19\": 2, \"99\": 1}, \"71\": {\"127\": 2, \"71\": 59, \"105\": 2, \"89\": 1, \"114\": 2, \"3\": 2}, \"51\": {\"127\": 4, \"51\": 10, \"7\": 2}, \"7\": {\"7\": 101, \"101\": 2, \"127\": 2, \"106\": 1}, \"117\": {\"117\": 100, \"98\": 2, \"102\": 2}, \"28\": {\"28\": 16}, \"127\": {\"127\": 118, \"12\": 2, \"7\": 3, \"62\": 2, \"78\": 1, \"71\": 2}, \"57\": {\"57\": 13, \"103\": 1, \"79\": 1, \"85\": 1, \"95\": 2, \"112\": 1, \"90\": 1}, \"78\": {\"78\": 12, \"122\": 1, \"11\": 1, \"127\": 1, \"88\": 1}, \"87\": {\"87\": 119, \"27\": 1}, \"40\": {\"20\": 1, \"40\": 68, \"105\": 6, \"44\": 3, \"107\": 10, \"23\": 1, \"71\": 3, \"14\": 10, \"1\": 12, \"33\": 5, \"127\": 3, \"49\": 1, \"53\": 1, \"3\": 2, \"114\": 2}, \"81\": {\"81\": 29, \"92\": 1, \"120\": 1, \"33\": 1}, \"2\": {\"2\": 26, \"120\": 1, \"117\": 1}, \"58\": {\"58\": 8, \"19\": 1, \"95\": 1, \"55\": 1, \"91\": 2, \"25\": 1, \"83\": 1, \"52\": 1}, \"68\": {\"68\": 13, \"77\": 2, \"108\": 1}, \"20\": {\"9\": 1, \"20\": 6, \"99\": 1, \"34\": 1, \"105\": 2, \"31\": 1, \"53\": 1, \"107\": 1, \"103\": 1, \"114\": 1}, \"35\": {\"35\": 12}, \"96\": {\"96\": 17, \"118\": 2, \"113\": 1}, \"84\": {\"84\": 97, \"14\": 2, \"62\": 9}, \"13\": {\"88\": 1, \"118\": 1, \"13\": 8, \"80\": 4, \"43\": 2}, \"64\": {\"64\": 16, \"55\": 2, \"29\": 1, \"44\": 1}, \"112\": {\"65\": 1, \"85\": 1, \"5\": 1, \"112\": 4, \"57\": 2, \"41\": 2, \"47\": 1, \"95\": 1, \"66\": 1, \"52\": 1, \"42\": 1}, \"103\": {\"103\": 7, \"50\": 2, \"42\": 1, \"55\": 2, \"80\": 1, \"90\": 2, \"29\": 1}, \"65\": {\"65\": 11, \"17\": 1}, \"118\": {\"118\": 97, \"113\": 3}, \"88\": {\"88\": 102, \"70\": 5, \"126\": 1, \"124\": 1, \"21\": 2, \"5\": 1}, \"85\": {\"85\": 35, \"91\": 1}, \"5\": {\"5\": 97, \"85\": 1, \"21\": 1, \"90\": 8, \"124\": 2, \"113\": 1, \"129\": 1, \"126\": 1}, \"93\": {\"93\": 127, \"60\": 2, \"16\": 6, \"33\": 1, \"90\": 1, \"40\": 1}, \"43\": {\"87\": 1, \"43\": 47, \"39\": 2, \"109\": 5, \"11\": 1}, \"67\": {\"67\": 13, \"116\": 2, \"10\": 1}, \"48\": {\"48\": 13, \"4\": 2, \"102\": 1}, \"73\": {\"73\": 32, \"34\": 1, \"19\": 1, \"75\": 1, \"92\": 1, \"98\": 3, \"90\": 1}, \"34\": {\"105\": 1, \"112\": 1, \"99\": 1, \"34\": 11, \"107\": 3, \"95\": 1, \"83\": 1, \"3\": 2, \"47\": 1, \"53\": 1, \"46\": 2, \"65\": 1, \"54\": 1, \"38\": 1, \"9\": 1, \"72\": 2, \"40\": 1}, \"91\": {\"5\": 1, \"73\": 1, \"91\": 12, \"98\": 2, \"66\": 1, \"85\": 2, \"129\": 2, \"86\": 1, \"46\": 1, \"65\": 1}, \"105\": {\"105\": 94, \"1\": 4, \"114\": 19, \"3\": 6, \"71\": 1}, \"10\": {\"10\": 93, \"108\": 10, \"27\": 2, \"113\": 1}, \"61\": {\"61\": 14, \"92\": 2}, \"74\": {\"74\": 12, \"38\": 2, \"82\": 1, \"112\": 1}, \"4\": {\"4\": 91, \"37\": 2, \"88\": 1, \"125\": 2}, \"37\": {\"37\": 12, \"129\": 1, \"104\": 2, \"125\": 1}, \"19\": {\"19\": 21, \"66\": 1, \"9\": 2, \"100\": 1, \"95\": 1, \"91\": 1, \"32\": 2, \"128\": 2, \"28\": 1}, \"44\": {\"44\": 66, \"33\": 2, \"69\": 2, \"40\": 2}, \"52\": {\"52\": 11, \"68\": 1, \"25\": 1, \"91\": 1, \"83\": 1, \"112\": 1}, \"92\": {\"92\": 30, \"74\": 1, \"26\": 1}, \"33\": {\"33\": 126, \"107\": 2}, \"45\": {\"129\": 1, \"45\": 13, \"50\": 1, \"29\": 1}, \"11\": {\"11\": 115, \"109\": 9, \"0\": 1, \"10\": 2, \"36\": 1}, \"129\": {\"45\": 1, \"129\": 27, \"50\": 1, \"104\": 1, \"42\": 1, \"5\": 1}, \"116\": {\"116\": 26, \"119\": 1, \"129\": 1}, \"75\": {\"25\": 2, \"75\": 12, \"72\": 1, \"46\": 1}, \"41\": {\"41\": 6, \"103\": 1, \"111\": 1, \"77\": 1, \"112\": 1, \"68\": 2, \"65\": 1, \"55\": 1, \"124\": 2}, \"21\": {\"21\": 41, \"88\": 4, \"39\": 1, \"126\": 1, \"86\": 1}, \"69\": {\"69\": 74, \"88\": 1, \"26\": 4, \"1\": 2, \"33\": 2, \"126\": 1}, \"16\": {\"16\": 99, \"26\": 1, \"93\": 3, \"126\": 1, \"62\": 4}, \"25\": {\"25\": 10, \"24\": 2, \"34\": 1, \"58\": 2, \"95\": 1}, \"12\": {\"12\": 100, \"101\": 1, \"106\": 2, \"88\": 1}, \"72\": {\"72\": 22, \"75\": 2, \"24\": 1, \"71\": 1, \"34\": 2}, \"0\": {\"0\": 108, \"8\": 7, \"126\": 1}, \"50\": {\"5\": 3, \"50\": 8, \"56\": 1, \"42\": 1, \"119\": 1, \"103\": 1, \"66\": 1}, \"107\": {\"107\": 133, \"40\": 5, \"20\": 1, \"114\": 1}, \"124\": {\"124\": 120, \"111\": 4}, \"53\": {\"53\": 12, \"56\": 1, \"31\": 2, \"44\": 1, \"99\": 1, \"88\": 1, \"100\": 1, \"114\": 1}, \"66\": {\"66\": 7, \"103\": 1, \"116\": 1, \"95\": 1, \"91\": 1, \"77\": 2, \"112\": 1, \"129\": 1, \"32\": 1}, \"47\": {\"47\": 12}, \"24\": {\"24\": 38, \"27\": 3, \"36\": 2, \"88\": 2, \"12\": 2, \"43\": 1}, \"95\": {\"95\": 25, \"39\": 1, \"38\": 1, \"72\": 1, \"128\": 2, \"98\": 2}, \"98\": {\"98\": 103, \"53\": 2, \"44\": 1}, \"63\": {\"63\": 16}, \"3\": {\"3\": 96, \"105\": 6, \"1\": 4, \"39\": 1, \"107\": 1, \"127\": 1, \"109\": 1, \"71\": 2, \"40\": 2, \"114\": 1, \"113\": 1}, \"14\": {\"14\": 76, \"1\": 1, \"84\": 2, \"122\": 1}, \"1\": {\"1\": 89, \"40\": 7, \"105\": 5, \"3\": 2, \"114\": 2, \"71\": 2, \"127\": 1}, \"38\": {\"38\": 15, \"82\": 1}, \"110\": {\"110\": 74, \"88\": 2, \"8\": 5, \"93\": 1, \"39\": 1, \"15\": 1, \"122\": 3, \"87\": 2, \"111\": 1, \"0\": 1, \"126\": 1}, \"17\": {\"109\": 1, \"17\": 8, \"124\": 2, \"129\": 2, \"119\": 1, \"68\": 2}, \"30\": {\"30\": 79, \"102\": 1, \"36\": 1, \"122\": 1, \"110\": 2}, \"56\": {\"56\": 8, \"57\": 2, \"72\": 1, \"46\": 1}, \"27\": {\"27\": 73, \"11\": 1, \"36\": 9, \"10\": 6, \"88\": 1, \"24\": 1, \"30\": 1, \"126\": 1, \"108\": 2, \"39\": 1}, \"104\": {\"104\": 10, \"37\": 1, \"91\": 1, \"124\": 2, \"48\": 1, \"41\": 1}, \"97\": {\"97\": 16, \"15\": 1, \"94\": 1, \"49\": 2}, \"42\": {\"42\": 15, \"56\": 1, \"25\": 1, \"85\": 2, \"95\": 1, \"68\": 1, \"41\": 1, \"58\": 2, \"55\": 1, \"124\": 1, \"66\": 2}, \"39\": {\"39\": 107, \"109\": 1}, \"70\": {\"70\": 55, \"88\": 10, \"10\": 3, \"21\": 1, \"39\": 2, \"108\": 1}, \"86\": {\"86\": 24, \"111\": 2, \"115\": 2}, \"119\": {\"119\": 13, \"102\": 1, \"2\": 1, \"48\": 1}, \"77\": {\"77\": 16}, \"59\": {\"59\": 12}, \"22\": {\"79\": 1, \"103\": 1, \"22\": 10, \"42\": 1, \"80\": 1, \"48\": 2}, \"79\": {\"79\": 11, \"17\": 1}, \"80\": {\"80\": 16}, \"111\": {\"111\": 126, \"71\": 1, \"98\": 1, \"68\": 1, \"124\": 3}, \"82\": {\"82\": 21, \"90\": 4, \"98\": 2, \"29\": 1}, \"126\": {\"126\": 121, \"87\": 2, \"121\": 1}, \"32\": {\"32\": 27, \"38\": 1, \"98\": 1, \"19\": 1, \"44\": 1, \"128\": 1}, \"106\": {\"106\": 98, \"109\": 1, \"39\": 1}, \"60\": {\"49\": 1, \"60\": 26, \"23\": 1}, \"114\": {\"114\": 92, \"105\": 7, \"40\": 3, \"107\": 2, \"1\": 1, \"39\": 1, \"3\": 2}}}, \"per_domain_accuracy\": {\"ORACLE.run18\": {\"accuracy\": 0.7674479166666667, \"source?\": true}, \"ORACLE.run138\": {\"accuracy\": 0.8744791666666667, \"source?\": true}, \"ORACLE.run126\": {\"accuracy\": 0.7260416666666667, \"source?\": true}, \"ORACLE.run120\": {\"accuracy\": 0.7473958333333334, \"source?\": true}, \"ORACLE.run150\": {\"accuracy\": 0.8783854166666667, \"source?\": true}, \"ORACLE.run132\": {\"accuracy\": 0.8380208333333333, \"source?\": true}, \"ORACLE.run144\": {\"accuracy\": 0.8278645833333333, \"source?\": true}, \"ORACLE.run114\": {\"accuracy\": 0.8565104166666667, \"source?\": true}, \"Wisig_2\": {\"accuracy\": 0.8230042016806722, \"source?\": false}, \"Wisig_4\": {\"accuracy\": 0.8244598765432098, \"source?\": false}, \"Wisig_1\": {\"accuracy\": 0.8711436170212766, \"source?\": false}, \"Wisig_3\": {\"accuracy\": 0.8686674008810573, \"source?\": false}}}, \"history\": {\"epoch_indices\": [1, 2, 3, 4, 5, 6, 7, 8], \"train_label_loss\": [1.14598906384781, 0.7256941587442444, 0.521709469871019, 0.40495851599511556, 0.34033584216931123, 0.28919340546985733, 0.2515264669502531, 0.2198456428817562], \"source_val_label_loss\": [1.8726831674575806, 0.6983706951141357, 0.551800012588501, 0.5256471633911133, 0.5104537606239319, 0.542243242263794, 0.5677807331085205, 0.5511688590049744], \"target_val_label_loss\": [218.86111450195312, 31.879365921020508, 45.5871696472168, 53.28300476074219, 40.61075973510742, 46.34490966796875, 64.59724426269531, 65.116455078125], \"source_val_acc_label\": [0.6128580729166667, 0.7396484375, 0.80498046875, 0.8145182291666667, 0.8113606770833334, 0.8127604166666667, 0.8204752604166666, 0.8154296875], \"target_val_acc_label\": [0.7187831389183457, 0.8121023329798516, 0.8372547720042418, 0.8463679745493107, 0.8461360021208908, 0.8414965535524921, 0.8447773064687168, 0.8429215270413574]}, \"dataset_metrics\": {\"source\": {\"train\": {\"n_unique_x\": 179200, \"n_unique_y\": 16, \"n_batch/episode\": 6720}, \"val\": {\"n_unique_x\": 38400, \"n_unique_y\": 16, \"n_batch/episode\": 960}, \"test\": {\"n_unique_x\": 38400, \"n_unique_y\": 16, \"n_batch/episode\": 960}}, \"target\": {\"train\": {\"n_unique_x\": 188974, \"n_unique_y\": 130, \"n_batch/episode\": 6847}, \"val\": {\"n_unique_x\": 40019, \"n_unique_y\": 130, \"n_batch/episode\": 943}, \"test\": {\"n_unique_x\": 40738, \"n_unique_y\": 130, \"n_batch/episode\": 960}}}}'"
      ]
     },
     "execution_count": 29,
     "metadata": {},
     "output_type": "execute_result"
    }
   ],
   "source": [
    "json.dumps(experiment)"
   ]
  }
 ],
 "metadata": {
  "celltoolbar": "Tags",
  "kernelspec": {
   "display_name": "Python 3 (ipykernel)",
   "language": "python",
   "name": "python3"
  },
  "language_info": {
   "codemirror_mode": {
    "name": "ipython",
    "version": 3
   },
   "file_extension": ".py",
   "mimetype": "text/x-python",
   "name": "python",
   "nbconvert_exporter": "python",
   "pygments_lexer": "ipython3",
   "version": "3.8.12"
  },
  "papermill": {
   "default_parameters": {},
   "duration": 1486.107243,
   "end_time": "2022-03-23T02:29:35.394183",
   "environment_variables": {},
   "exception": null,
   "input_path": "/root/csc500-main/csc500-notebooks/templates/tl_ptn_template.ipynb",
   "output_path": "trial.ipynb",
   "parameters": {
    "parameters": {
     "BEST_MODEL_PATH": "./best_model.pth",
     "NUM_LOGS_PER_EPOCH": 10,
     "criteria_for_best": "target_accuracy",
     "dataset_seed": 154325,
     "datasets": [
      {
       "domain_prefix": "Wisig_",
       "domains": [
        1,
        2,
        3,
        4
       ],
       "episode_transforms": [],
       "labels": [
        "1-10",
        "1-12",
        "1-14",
        "1-16",
        "1-18",
        "1-19",
        "1-8",
        "10-11",
        "10-17",
        "10-4",
        "10-7",
        "11-1",
        "11-10",
        "11-19",
        "11-20",
        "11-4",
        "11-7",
        "12-19",
        "12-20",
        "12-7",
        "13-14",
        "13-18",
        "13-19",
        "13-20",
        "13-3",
        "13-7",
        "14-10",
        "14-11",
        "14-12",
        "14-13",
        "14-14",
        "14-19",
        "14-20",
        "14-7",
        "14-8",
        "14-9",
        "15-1",
        "15-19",
        "15-6",
        "16-1",
        "16-16",
        "16-19",
        "16-20",
        "17-10",
        "17-11",
        "18-1",
        "18-10",
        "18-11",
        "18-12",
        "18-13",
        "18-14",
        "18-15",
        "18-16",
        "18-17",
        "18-19",
        "18-2",
        "18-20",
        "18-4",
        "18-5",
        "18-7",
        "18-8",
        "18-9",
        "19-1",
        "19-10",
        "19-11",
        "19-12",
        "19-13",
        "19-14",
        "19-15",
        "19-19",
        "19-2",
        "19-20",
        "19-3",
        "19-4",
        "19-6",
        "19-7",
        "19-8",
        "19-9",
        "2-1",
        "2-13",
        "2-15",
        "2-3",
        "2-4",
        "2-5",
        "2-6",
        "2-7",
        "2-8",
        "20-1",
        "20-12",
        "20-14",
        "20-15",
        "20-16",
        "20-18",
        "20-19",
        "20-20",
        "20-3",
        "20-4",
        "20-5",
        "20-7",
        "20-8",
        "3-1",
        "3-13",
        "3-18",
        "3-2",
        "3-8",
        "4-1",
        "4-10",
        "4-11",
        "5-1",
        "5-5",
        "6-1",
        "6-15",
        "6-6",
        "7-10",
        "7-11",
        "7-12",
        "7-13",
        "7-14",
        "7-7",
        "7-8",
        "7-9",
        "8-1",
        "8-13",
        "8-14",
        "8-18",
        "8-20",
        "8-3",
        "8-8",
        "9-1",
        "9-7"
       ],
       "num_examples_per_domain_per_label": -1,
       "pickle_path": "/root/csc500-main/datasets/wisig.node3-19.stratified_ds.2022A.pkl",
       "source_or_target_dataset": "target",
       "x_transforms": []
      },
      {
       "domain_prefix": "ORACLE.run1",
       "domains": [
        32,
        38,
        8,
        44,
        14,
        50,
        20,
        26
       ],
       "episode_transforms": [],
       "labels": [
        "3123D52",
        "3123D65",
        "3123D79",
        "3123D80",
        "3123D54",
        "3123D70",
        "3123D7B",
        "3123D89",
        "3123D58",
        "3123D76",
        "3123D7D",
        "3123EFE",
        "3123D64",
        "3123D78",
        "3123D7E",
        "3124E4A"
       ],
       "num_examples_per_domain_per_label": 2000,
       "pickle_path": "/root/csc500-main/datasets/oracle.Run1_10kExamples_stratified_ds.2022A.pkl",
       "source_or_target_dataset": "source",
       "x_transforms": []
      }
     ],
     "device": "cuda",
     "experiment_name": "tl_1v2:wisig-oracle.run1.limited",
     "lr": 0.0001,
     "n_epoch": 50,
     "n_query": 2,
     "n_shot": 3,
     "n_way": 16,
     "patience": 3,
     "seed": 154325,
     "test_k_factor": 2,
     "torch_default_dtype": "torch.float32",
     "train_k_factor": 3,
     "val_k_factor": 2,
     "x_net": [
      {
       "class": "nnReshape",
       "kargs": {
        "shape": [
         -1,
         1,
         2,
         256
        ]
       }
      },
      {
       "class": "Conv2d",
       "kargs": {
        "bias": false,
        "in_channels": 1,
        "kernel_size": [
         1,
         7
        ],
        "out_channels": 256,
        "padding": [
         0,
         3
        ]
       }
      },
      {
       "class": "ReLU",
       "kargs": {
        "inplace": true
       }
      },
      {
       "class": "BatchNorm2d",
       "kargs": {
        "num_features": 256
       }
      },
      {
       "class": "Conv2d",
       "kargs": {
        "bias": true,
        "in_channels": 256,
        "kernel_size": [
         2,
         7
        ],
        "out_channels": 80,
        "padding": [
         0,
         3
        ]
       }
      },
      {
       "class": "ReLU",
       "kargs": {
        "inplace": true
       }
      },
      {
       "class": "BatchNorm2d",
       "kargs": {
        "num_features": 80
       }
      },
      {
       "class": "Flatten",
       "kargs": {}
      },
      {
       "class": "Linear",
       "kargs": {
        "in_features": 20480,
        "out_features": 256
       }
      },
      {
       "class": "ReLU",
       "kargs": {
        "inplace": true
       }
      },
      {
       "class": "BatchNorm1d",
       "kargs": {
        "num_features": 256
       }
      },
      {
       "class": "Linear",
       "kargs": {
        "in_features": 256,
        "out_features": 256
       }
      }
     ]
    }
   },
   "start_time": "2022-03-23T02:04:49.286940",
   "version": "2.3.4"
  }
 },
 "nbformat": 4,
 "nbformat_minor": 5
}