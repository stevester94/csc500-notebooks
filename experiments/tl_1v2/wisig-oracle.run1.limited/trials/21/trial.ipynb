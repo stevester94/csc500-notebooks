{
 "cells": [
  {
   "cell_type": "markdown",
   "id": "9fea5f46",
   "metadata": {
    "papermill": {
     "duration": 0.025889,
     "end_time": "2022-03-23T03:30:34.059098",
     "exception": false,
     "start_time": "2022-03-23T03:30:34.033209",
     "status": "completed"
    },
    "tags": []
   },
   "source": [
    "# Transfer Learning Template"
   ]
  },
  {
   "cell_type": "code",
   "execution_count": 1,
   "id": "0902182a",
   "metadata": {
    "execution": {
     "iopub.execute_input": "2022-03-23T03:30:34.116504Z",
     "iopub.status.busy": "2022-03-23T03:30:34.115660Z",
     "iopub.status.idle": "2022-03-23T03:30:36.022027Z",
     "shell.execute_reply": "2022-03-23T03:30:36.021595Z"
    },
    "papermill": {
     "duration": 1.944102,
     "end_time": "2022-03-23T03:30:36.022126",
     "exception": false,
     "start_time": "2022-03-23T03:30:34.078024",
     "status": "completed"
    },
    "tags": []
   },
   "outputs": [],
   "source": [
    "%load_ext autoreload\n",
    "%autoreload 2\n",
    "%matplotlib inline\n",
    "\n",
    "    \n",
    "import os, json, sys, time, random\n",
    "import numpy as np\n",
    "import torch\n",
    "from torch.optim import Adam\n",
    "from  easydict import EasyDict\n",
    "import matplotlib.pyplot as plt\n",
    "\n",
    "from steves_models.steves_ptn import Steves_Prototypical_Network\n",
    "\n",
    "from steves_utils.lazy_iterable_wrapper import Lazy_Iterable_Wrapper\n",
    "from steves_utils.iterable_aggregator import Iterable_Aggregator\n",
    "from steves_utils.ptn_train_eval_test_jig import  PTN_Train_Eval_Test_Jig\n",
    "from steves_utils.torch_sequential_builder import build_sequential\n",
    "from steves_utils.torch_utils import get_dataset_metrics, ptn_confusion_by_domain_over_dataloader\n",
    "from steves_utils.utils_v2 import (per_domain_accuracy_from_confusion, get_datasets_base_path)\n",
    "from steves_utils.PTN.utils import independent_accuracy_assesment\n",
    "\n",
    "from torch.utils.data import DataLoader\n",
    "\n",
    "from steves_utils.stratified_dataset.episodic_accessor import Episodic_Accessor_Factory\n",
    "\n",
    "from steves_utils.ptn_do_report import (\n",
    "    get_loss_curve,\n",
    "    get_results_table,\n",
    "    get_parameters_table,\n",
    "    get_domain_accuracies,\n",
    ")\n",
    "\n",
    "from steves_utils.transforms import get_chained_transform"
   ]
  },
  {
   "cell_type": "markdown",
   "id": "41c840b4",
   "metadata": {
    "papermill": {
     "duration": 0.019361,
     "end_time": "2022-03-23T03:30:36.061503",
     "exception": false,
     "start_time": "2022-03-23T03:30:36.042142",
     "status": "completed"
    },
    "tags": []
   },
   "source": [
    "# Allowed Parameters\n",
    "These are allowed parameters, not defaults\n",
    "Each of these values need to be present in the injected parameters (the notebook will raise an exception if they are not present)\n",
    "\n",
    "Papermill uses the cell tag \"parameters\" to inject the real parameters below this cell.\n",
    "Enable tags to see what I mean"
   ]
  },
  {
   "cell_type": "code",
   "execution_count": 2,
   "id": "fd44eb83",
   "metadata": {
    "execution": {
     "iopub.execute_input": "2022-03-23T03:30:36.106484Z",
     "iopub.status.busy": "2022-03-23T03:30:36.106099Z",
     "iopub.status.idle": "2022-03-23T03:30:36.133423Z",
     "shell.execute_reply": "2022-03-23T03:30:36.133052Z"
    },
    "papermill": {
     "duration": 0.052697,
     "end_time": "2022-03-23T03:30:36.133494",
     "exception": false,
     "start_time": "2022-03-23T03:30:36.080797",
     "status": "completed"
    },
    "tags": []
   },
   "outputs": [],
   "source": [
    "required_parameters = {\n",
    "    \"experiment_name\",\n",
    "    \"lr\",\n",
    "    \"device\",\n",
    "    \"seed\",\n",
    "    \"dataset_seed\",\n",
    "    \"n_shot\",\n",
    "    \"n_query\",\n",
    "    \"n_way\",\n",
    "    \"train_k_factor\",\n",
    "    \"val_k_factor\",\n",
    "    \"test_k_factor\",\n",
    "    \"n_epoch\",\n",
    "    \"patience\",\n",
    "    \"criteria_for_best\",\n",
    "    \"x_net\",\n",
    "    \"datasets\",\n",
    "    \"torch_default_dtype\",\n",
    "    \"NUM_LOGS_PER_EPOCH\",\n",
    "    \"BEST_MODEL_PATH\",\n",
    "    \"x_shape\",\n",
    "}"
   ]
  },
  {
   "cell_type": "code",
   "execution_count": 3,
   "id": "fa3f0049",
   "metadata": {
    "execution": {
     "iopub.execute_input": "2022-03-23T03:30:36.185983Z",
     "iopub.status.busy": "2022-03-23T03:30:36.185572Z",
     "iopub.status.idle": "2022-03-23T03:30:36.209690Z",
     "shell.execute_reply": "2022-03-23T03:30:36.209327Z"
    },
    "papermill": {
     "duration": 0.056661,
     "end_time": "2022-03-23T03:30:36.209759",
     "exception": false,
     "start_time": "2022-03-23T03:30:36.153098",
     "status": "completed"
    },
    "tags": [
     "parameters"
    ]
   },
   "outputs": [],
   "source": [
    "from steves_utils.CORES.utils import (\n",
    "    ALL_NODES,\n",
    "    ALL_NODES_MINIMUM_1000_EXAMPLES,\n",
    "    ALL_DAYS\n",
    ")\n",
    "\n",
    "from steves_utils.ORACLE.utils_v2 import (\n",
    "    ALL_DISTANCES_FEET_NARROWED,\n",
    "    ALL_RUNS,\n",
    "    ALL_SERIAL_NUMBERS,\n",
    ")\n",
    "\n",
    "standalone_parameters = {}\n",
    "standalone_parameters[\"experiment_name\"] = \"STANDALONE PTN\"\n",
    "standalone_parameters[\"lr\"] = 0.001\n",
    "standalone_parameters[\"device\"] = \"cuda\"\n",
    "\n",
    "standalone_parameters[\"seed\"] = 1337\n",
    "standalone_parameters[\"dataset_seed\"] = 1337\n",
    "\n",
    "standalone_parameters[\"n_way\"] = 8\n",
    "standalone_parameters[\"n_shot\"] = 3\n",
    "standalone_parameters[\"n_query\"]  = 2\n",
    "standalone_parameters[\"train_k_factor\"] = 1\n",
    "standalone_parameters[\"val_k_factor\"] = 2\n",
    "standalone_parameters[\"test_k_factor\"] = 2\n",
    "\n",
    "\n",
    "standalone_parameters[\"n_epoch\"] = 50\n",
    "\n",
    "standalone_parameters[\"patience\"] = 10\n",
    "standalone_parameters[\"criteria_for_best\"] = \"source_loss\"\n",
    "\n",
    "standalone_parameters[\"datasets\"] = [\n",
    "    {\n",
    "        \"labels\": ALL_SERIAL_NUMBERS,\n",
    "        \"domains\": ALL_DISTANCES_FEET_NARROWED,\n",
    "        \"num_examples_per_domain_per_label\": 100,\n",
    "        \"pickle_path\": os.path.join(get_datasets_base_path(), \"oracle.Run1_framed_2000Examples_stratified_ds.2022A.pkl\"),\n",
    "        \"source_or_target_dataset\": \"source\",\n",
    "        \"x_transforms\": [\"unit_mag\", \"minus_two\"],\n",
    "        \"episode_transforms\": [],\n",
    "        \"domain_prefix\": \"ORACLE_\"\n",
    "    },\n",
    "    {\n",
    "        \"labels\": ALL_NODES,\n",
    "        \"domains\": ALL_DAYS,\n",
    "        \"num_examples_per_domain_per_label\": 100,\n",
    "        \"pickle_path\": os.path.join(get_datasets_base_path(), \"cores.stratified_ds.2022A.pkl\"),\n",
    "        \"source_or_target_dataset\": \"target\",\n",
    "        \"x_transforms\": [\"unit_power\", \"times_zero\"],\n",
    "        \"episode_transforms\": [],\n",
    "        \"domain_prefix\": \"CORES_\"\n",
    "    }   \n",
    "]\n",
    "\n",
    "standalone_parameters[\"torch_default_dtype\"] = \"torch.float32\" \n",
    "\n",
    "\n",
    "\n",
    "standalone_parameters[\"x_net\"] =     [\n",
    "    {\"class\": \"nnReshape\", \"kargs\": {\"shape\":[-1, 1, 2, 256]}},\n",
    "    {\"class\": \"Conv2d\", \"kargs\": { \"in_channels\":1, \"out_channels\":256, \"kernel_size\":(1,7), \"bias\":False, \"padding\":(0,3), },},\n",
    "    {\"class\": \"ReLU\", \"kargs\": {\"inplace\": True}},\n",
    "    {\"class\": \"BatchNorm2d\", \"kargs\": {\"num_features\":256}},\n",
    "\n",
    "    {\"class\": \"Conv2d\", \"kargs\": { \"in_channels\":256, \"out_channels\":80, \"kernel_size\":(2,7), \"bias\":True, \"padding\":(0,3), },},\n",
    "    {\"class\": \"ReLU\", \"kargs\": {\"inplace\": True}},\n",
    "    {\"class\": \"BatchNorm2d\", \"kargs\": {\"num_features\":80}},\n",
    "    {\"class\": \"Flatten\", \"kargs\": {}},\n",
    "\n",
    "    {\"class\": \"Linear\", \"kargs\": {\"in_features\": 80*256, \"out_features\": 256}}, # 80 units per IQ pair\n",
    "    {\"class\": \"ReLU\", \"kargs\": {\"inplace\": True}},\n",
    "    {\"class\": \"BatchNorm1d\", \"kargs\": {\"num_features\":256}},\n",
    "\n",
    "    {\"class\": \"Linear\", \"kargs\": {\"in_features\": 256, \"out_features\": 256}},\n",
    "]\n",
    "\n",
    "# Parameters relevant to results\n",
    "# These parameters will basically never need to change\n",
    "standalone_parameters[\"NUM_LOGS_PER_EPOCH\"] = 10\n",
    "standalone_parameters[\"BEST_MODEL_PATH\"] = \"./best_model.pth\"\n",
    "\n",
    "\n",
    "\n",
    "\n"
   ]
  },
  {
   "cell_type": "code",
   "execution_count": 4,
   "id": "c1140c34",
   "metadata": {
    "execution": {
     "iopub.execute_input": "2022-03-23T03:30:36.267064Z",
     "iopub.status.busy": "2022-03-23T03:30:36.262113Z",
     "iopub.status.idle": "2022-03-23T03:30:36.291129Z",
     "shell.execute_reply": "2022-03-23T03:30:36.290766Z"
    },
    "papermill": {
     "duration": 0.061951,
     "end_time": "2022-03-23T03:30:36.291199",
     "exception": false,
     "start_time": "2022-03-23T03:30:36.229248",
     "status": "completed"
    },
    "tags": [
     "injected-parameters"
    ]
   },
   "outputs": [],
   "source": [
    "# Parameters\n",
    "parameters = {\n",
    "    \"experiment_name\": \"tl_1v2:wisig-oracle.run1.limited\",\n",
    "    \"device\": \"cuda\",\n",
    "    \"lr\": 0.0001,\n",
    "    \"n_shot\": 3,\n",
    "    \"n_query\": 2,\n",
    "    \"train_k_factor\": 3,\n",
    "    \"val_k_factor\": 2,\n",
    "    \"test_k_factor\": 2,\n",
    "    \"torch_default_dtype\": \"torch.float32\",\n",
    "    \"n_epoch\": 50,\n",
    "    \"patience\": 3,\n",
    "    \"criteria_for_best\": \"target_accuracy\",\n",
    "    \"x_net\": [\n",
    "        {\"class\": \"nnReshape\", \"kargs\": {\"shape\": [-1, 1, 2, 256]}},\n",
    "        {\n",
    "            \"class\": \"Conv2d\",\n",
    "            \"kargs\": {\n",
    "                \"in_channels\": 1,\n",
    "                \"out_channels\": 256,\n",
    "                \"kernel_size\": [1, 7],\n",
    "                \"bias\": False,\n",
    "                \"padding\": [0, 3],\n",
    "            },\n",
    "        },\n",
    "        {\"class\": \"ReLU\", \"kargs\": {\"inplace\": True}},\n",
    "        {\"class\": \"BatchNorm2d\", \"kargs\": {\"num_features\": 256}},\n",
    "        {\n",
    "            \"class\": \"Conv2d\",\n",
    "            \"kargs\": {\n",
    "                \"in_channels\": 256,\n",
    "                \"out_channels\": 80,\n",
    "                \"kernel_size\": [2, 7],\n",
    "                \"bias\": True,\n",
    "                \"padding\": [0, 3],\n",
    "            },\n",
    "        },\n",
    "        {\"class\": \"ReLU\", \"kargs\": {\"inplace\": True}},\n",
    "        {\"class\": \"BatchNorm2d\", \"kargs\": {\"num_features\": 80}},\n",
    "        {\"class\": \"Flatten\", \"kargs\": {}},\n",
    "        {\"class\": \"Linear\", \"kargs\": {\"in_features\": 20480, \"out_features\": 256}},\n",
    "        {\"class\": \"ReLU\", \"kargs\": {\"inplace\": True}},\n",
    "        {\"class\": \"BatchNorm1d\", \"kargs\": {\"num_features\": 256}},\n",
    "        {\"class\": \"Linear\", \"kargs\": {\"in_features\": 256, \"out_features\": 256}},\n",
    "    ],\n",
    "    \"NUM_LOGS_PER_EPOCH\": 10,\n",
    "    \"BEST_MODEL_PATH\": \"./best_model.pth\",\n",
    "    \"n_way\": 16,\n",
    "    \"datasets\": [\n",
    "        {\n",
    "            \"labels\": [\n",
    "                \"1-10\",\n",
    "                \"1-12\",\n",
    "                \"1-14\",\n",
    "                \"1-16\",\n",
    "                \"1-18\",\n",
    "                \"1-19\",\n",
    "                \"1-8\",\n",
    "                \"10-11\",\n",
    "                \"10-17\",\n",
    "                \"10-4\",\n",
    "                \"10-7\",\n",
    "                \"11-1\",\n",
    "                \"11-10\",\n",
    "                \"11-19\",\n",
    "                \"11-20\",\n",
    "                \"11-4\",\n",
    "                \"11-7\",\n",
    "                \"12-19\",\n",
    "                \"12-20\",\n",
    "                \"12-7\",\n",
    "                \"13-14\",\n",
    "                \"13-18\",\n",
    "                \"13-19\",\n",
    "                \"13-20\",\n",
    "                \"13-3\",\n",
    "                \"13-7\",\n",
    "                \"14-10\",\n",
    "                \"14-11\",\n",
    "                \"14-12\",\n",
    "                \"14-13\",\n",
    "                \"14-14\",\n",
    "                \"14-19\",\n",
    "                \"14-20\",\n",
    "                \"14-7\",\n",
    "                \"14-8\",\n",
    "                \"14-9\",\n",
    "                \"15-1\",\n",
    "                \"15-19\",\n",
    "                \"15-6\",\n",
    "                \"16-1\",\n",
    "                \"16-16\",\n",
    "                \"16-19\",\n",
    "                \"16-20\",\n",
    "                \"17-10\",\n",
    "                \"17-11\",\n",
    "                \"18-1\",\n",
    "                \"18-10\",\n",
    "                \"18-11\",\n",
    "                \"18-12\",\n",
    "                \"18-13\",\n",
    "                \"18-14\",\n",
    "                \"18-15\",\n",
    "                \"18-16\",\n",
    "                \"18-17\",\n",
    "                \"18-19\",\n",
    "                \"18-2\",\n",
    "                \"18-20\",\n",
    "                \"18-4\",\n",
    "                \"18-5\",\n",
    "                \"18-7\",\n",
    "                \"18-8\",\n",
    "                \"18-9\",\n",
    "                \"19-1\",\n",
    "                \"19-10\",\n",
    "                \"19-11\",\n",
    "                \"19-12\",\n",
    "                \"19-13\",\n",
    "                \"19-14\",\n",
    "                \"19-15\",\n",
    "                \"19-19\",\n",
    "                \"19-2\",\n",
    "                \"19-20\",\n",
    "                \"19-3\",\n",
    "                \"19-4\",\n",
    "                \"19-6\",\n",
    "                \"19-7\",\n",
    "                \"19-8\",\n",
    "                \"19-9\",\n",
    "                \"2-1\",\n",
    "                \"2-13\",\n",
    "                \"2-15\",\n",
    "                \"2-3\",\n",
    "                \"2-4\",\n",
    "                \"2-5\",\n",
    "                \"2-6\",\n",
    "                \"2-7\",\n",
    "                \"2-8\",\n",
    "                \"20-1\",\n",
    "                \"20-12\",\n",
    "                \"20-14\",\n",
    "                \"20-15\",\n",
    "                \"20-16\",\n",
    "                \"20-18\",\n",
    "                \"20-19\",\n",
    "                \"20-20\",\n",
    "                \"20-3\",\n",
    "                \"20-4\",\n",
    "                \"20-5\",\n",
    "                \"20-7\",\n",
    "                \"20-8\",\n",
    "                \"3-1\",\n",
    "                \"3-13\",\n",
    "                \"3-18\",\n",
    "                \"3-2\",\n",
    "                \"3-8\",\n",
    "                \"4-1\",\n",
    "                \"4-10\",\n",
    "                \"4-11\",\n",
    "                \"5-1\",\n",
    "                \"5-5\",\n",
    "                \"6-1\",\n",
    "                \"6-15\",\n",
    "                \"6-6\",\n",
    "                \"7-10\",\n",
    "                \"7-11\",\n",
    "                \"7-12\",\n",
    "                \"7-13\",\n",
    "                \"7-14\",\n",
    "                \"7-7\",\n",
    "                \"7-8\",\n",
    "                \"7-9\",\n",
    "                \"8-1\",\n",
    "                \"8-13\",\n",
    "                \"8-14\",\n",
    "                \"8-18\",\n",
    "                \"8-20\",\n",
    "                \"8-3\",\n",
    "                \"8-8\",\n",
    "                \"9-1\",\n",
    "                \"9-7\",\n",
    "            ],\n",
    "            \"domains\": [1, 2, 3, 4],\n",
    "            \"num_examples_per_domain_per_label\": -1,\n",
    "            \"pickle_path\": \"/root/csc500-main/datasets/wisig.node3-19.stratified_ds.2022A.pkl\",\n",
    "            \"source_or_target_dataset\": \"target\",\n",
    "            \"x_transforms\": [\"unit_power\"],\n",
    "            \"episode_transforms\": [],\n",
    "            \"domain_prefix\": \"Wisig_\",\n",
    "        },\n",
    "        {\n",
    "            \"labels\": [\n",
    "                \"3123D52\",\n",
    "                \"3123D65\",\n",
    "                \"3123D79\",\n",
    "                \"3123D80\",\n",
    "                \"3123D54\",\n",
    "                \"3123D70\",\n",
    "                \"3123D7B\",\n",
    "                \"3123D89\",\n",
    "                \"3123D58\",\n",
    "                \"3123D76\",\n",
    "                \"3123D7D\",\n",
    "                \"3123EFE\",\n",
    "                \"3123D64\",\n",
    "                \"3123D78\",\n",
    "                \"3123D7E\",\n",
    "                \"3124E4A\",\n",
    "            ],\n",
    "            \"domains\": [32, 38, 8, 44, 14, 50, 20, 26],\n",
    "            \"num_examples_per_domain_per_label\": 2000,\n",
    "            \"pickle_path\": \"/root/csc500-main/datasets/oracle.Run1_10kExamples_stratified_ds.2022A.pkl\",\n",
    "            \"source_or_target_dataset\": \"source\",\n",
    "            \"x_transforms\": [\"unit_power\"],\n",
    "            \"episode_transforms\": [],\n",
    "            \"domain_prefix\": \"ORACLE.run1\",\n",
    "        },\n",
    "    ],\n",
    "    \"dataset_seed\": 7,\n",
    "    \"seed\": 7,\n",
    "}\n"
   ]
  },
  {
   "cell_type": "code",
   "execution_count": 5,
   "id": "8fa1cc33",
   "metadata": {
    "execution": {
     "iopub.execute_input": "2022-03-23T03:30:36.335044Z",
     "iopub.status.busy": "2022-03-23T03:30:36.334538Z",
     "iopub.status.idle": "2022-03-23T03:30:36.356966Z",
     "shell.execute_reply": "2022-03-23T03:30:36.356601Z"
    },
    "papermill": {
     "duration": 0.045981,
     "end_time": "2022-03-23T03:30:36.357035",
     "exception": false,
     "start_time": "2022-03-23T03:30:36.311054",
     "status": "completed"
    },
    "tags": []
   },
   "outputs": [],
   "source": [
    "# Set this to True if you want to run this template directly\n",
    "STANDALONE = False\n",
    "if STANDALONE:\n",
    "    print(\"parameters not injected, running with standalone_parameters\")\n",
    "    parameters = standalone_parameters\n",
    "\n",
    "if not 'parameters' in locals() and not 'parameters' in globals():\n",
    "    raise Exception(\"Parameter injection failed\")\n",
    "\n",
    "#Use an easy dict for all the parameters\n",
    "p = EasyDict(parameters)\n",
    "\n",
    "if \"x_shape\" not in p:\n",
    "    p.x_shape = [2,256] # Default to this if we dont supply x_shape\n",
    "\n",
    "\n",
    "supplied_keys = set(p.keys())\n",
    "\n",
    "if  supplied_keys != required_parameters:\n",
    "    print(\"Parameters are incorrect\")\n",
    "    if len(supplied_keys - required_parameters)>0: print(\"Shouldn't have:\", str(supplied_keys - required_parameters))\n",
    "    if len(required_parameters - supplied_keys)>0: print(\"Need to have:\", str(required_parameters - supplied_keys))\n",
    "    raise RuntimeError(\"Parameters are incorrect\")"
   ]
  },
  {
   "cell_type": "code",
   "execution_count": 6,
   "id": "3a028d58",
   "metadata": {
    "execution": {
     "iopub.execute_input": "2022-03-23T03:30:36.401697Z",
     "iopub.status.busy": "2022-03-23T03:30:36.400955Z",
     "iopub.status.idle": "2022-03-23T03:30:36.428237Z",
     "shell.execute_reply": "2022-03-23T03:30:36.427871Z"
    },
    "papermill": {
     "duration": 0.051604,
     "end_time": "2022-03-23T03:30:36.428305",
     "exception": false,
     "start_time": "2022-03-23T03:30:36.376701",
     "status": "completed"
    },
    "tags": []
   },
   "outputs": [],
   "source": [
    "###################################\n",
    "# Set the RNGs and make it all deterministic\n",
    "###################################\n",
    "np.random.seed(p.seed)\n",
    "random.seed(p.seed)\n",
    "torch.manual_seed(p.seed)\n",
    "\n",
    "torch.use_deterministic_algorithms(True) "
   ]
  },
  {
   "cell_type": "code",
   "execution_count": 7,
   "id": "b691acf6",
   "metadata": {
    "execution": {
     "iopub.execute_input": "2022-03-23T03:30:36.472649Z",
     "iopub.status.busy": "2022-03-23T03:30:36.472285Z",
     "iopub.status.idle": "2022-03-23T03:30:36.496911Z",
     "shell.execute_reply": "2022-03-23T03:30:36.496549Z"
    },
    "papermill": {
     "duration": 0.048735,
     "end_time": "2022-03-23T03:30:36.496979",
     "exception": false,
     "start_time": "2022-03-23T03:30:36.448244",
     "status": "completed"
    },
    "tags": []
   },
   "outputs": [],
   "source": [
    "###########################################\n",
    "# The stratified datasets honor this\n",
    "###########################################\n",
    "torch.set_default_dtype(eval(p.torch_default_dtype))"
   ]
  },
  {
   "cell_type": "code",
   "execution_count": 8,
   "id": "b5fba671",
   "metadata": {
    "execution": {
     "iopub.execute_input": "2022-03-23T03:30:36.541190Z",
     "iopub.status.busy": "2022-03-23T03:30:36.540209Z",
     "iopub.status.idle": "2022-03-23T03:30:36.596736Z",
     "shell.execute_reply": "2022-03-23T03:30:36.596370Z"
    },
    "papermill": {
     "duration": 0.079907,
     "end_time": "2022-03-23T03:30:36.596806",
     "exception": false,
     "start_time": "2022-03-23T03:30:36.516899",
     "status": "completed"
    },
    "tags": []
   },
   "outputs": [],
   "source": [
    "###################################\n",
    "# Build the network(s)\n",
    "# Note: It's critical to do this AFTER setting the RNG\n",
    "###################################\n",
    "x_net = build_sequential(p.x_net)"
   ]
  },
  {
   "cell_type": "code",
   "execution_count": 9,
   "id": "5d7e61cc",
   "metadata": {
    "execution": {
     "iopub.execute_input": "2022-03-23T03:30:36.640199Z",
     "iopub.status.busy": "2022-03-23T03:30:36.639757Z",
     "iopub.status.idle": "2022-03-23T03:30:36.661270Z",
     "shell.execute_reply": "2022-03-23T03:30:36.660908Z"
    },
    "papermill": {
     "duration": 0.044332,
     "end_time": "2022-03-23T03:30:36.661339",
     "exception": false,
     "start_time": "2022-03-23T03:30:36.617007",
     "status": "completed"
    },
    "tags": []
   },
   "outputs": [],
   "source": [
    "start_time_secs = time.time()"
   ]
  },
  {
   "cell_type": "code",
   "execution_count": 10,
   "id": "c6b67dfd",
   "metadata": {
    "execution": {
     "iopub.execute_input": "2022-03-23T03:30:36.705420Z",
     "iopub.status.busy": "2022-03-23T03:30:36.705054Z",
     "iopub.status.idle": "2022-03-23T03:30:36.725483Z",
     "shell.execute_reply": "2022-03-23T03:30:36.725123Z"
    },
    "papermill": {
     "duration": 0.043835,
     "end_time": "2022-03-23T03:30:36.725551",
     "exception": false,
     "start_time": "2022-03-23T03:30:36.681716",
     "status": "completed"
    },
    "tags": []
   },
   "outputs": [],
   "source": [
    "p.domains_source = []\n",
    "p.domains_target = []\n",
    "\n",
    "\n",
    "train_original_source = []\n",
    "val_original_source   = []\n",
    "test_original_source  = []\n",
    "\n",
    "train_original_target = []\n",
    "val_original_target   = []\n",
    "test_original_target  = []"
   ]
  },
  {
   "cell_type": "code",
   "execution_count": 11,
   "id": "e3d9c3d3",
   "metadata": {
    "execution": {
     "iopub.execute_input": "2022-03-23T03:30:36.770012Z",
     "iopub.status.busy": "2022-03-23T03:30:36.769395Z",
     "iopub.status.idle": "2022-03-23T03:30:36.795125Z",
     "shell.execute_reply": "2022-03-23T03:30:36.794764Z"
    },
    "papermill": {
     "duration": 0.049158,
     "end_time": "2022-03-23T03:30:36.795194",
     "exception": false,
     "start_time": "2022-03-23T03:30:36.746036",
     "status": "completed"
    },
    "tags": []
   },
   "outputs": [],
   "source": [
    "# global_x_transform_func = lambda x: normalize(x.to(torch.get_default_dtype()), \"unit_power\") # unit_power, unit_mag\n",
    "# global_x_transform_func = lambda x: normalize(x, \"unit_power\") # unit_power, unit_mag"
   ]
  },
  {
   "cell_type": "code",
   "execution_count": 12,
   "id": "acb78fd2",
   "metadata": {
    "execution": {
     "iopub.execute_input": "2022-03-23T03:30:36.842986Z",
     "iopub.status.busy": "2022-03-23T03:30:36.842607Z",
     "iopub.status.idle": "2022-03-23T03:30:36.864288Z",
     "shell.execute_reply": "2022-03-23T03:30:36.863925Z"
    },
    "papermill": {
     "duration": 0.048805,
     "end_time": "2022-03-23T03:30:36.864357",
     "exception": false,
     "start_time": "2022-03-23T03:30:36.815552",
     "status": "completed"
    },
    "tags": []
   },
   "outputs": [],
   "source": [
    "def add_dataset(\n",
    "    labels,\n",
    "    domains,\n",
    "    pickle_path,\n",
    "    x_transforms,\n",
    "    episode_transforms,\n",
    "    domain_prefix,\n",
    "    num_examples_per_domain_per_label,\n",
    "    source_or_target_dataset:str,\n",
    "    iterator_seed=p.seed,\n",
    "    dataset_seed=p.dataset_seed,\n",
    "    n_shot=p.n_shot,\n",
    "    n_way=p.n_way,\n",
    "    n_query=p.n_query,\n",
    "    train_val_test_k_factors=(p.train_k_factor,p.val_k_factor,p.test_k_factor),\n",
    "):\n",
    "   \n",
    "    if x_transforms == []: x_transform = None\n",
    "    else: x_transform = get_chained_transform(x_transforms)\n",
    "    \n",
    "    if episode_transforms == []: episode_transform = None\n",
    "    else: raise Exception(\"episode_transforms not implemented\")\n",
    "    \n",
    "    episode_transform = lambda tup, _prefix=domain_prefix: (_prefix + str(tup[0]), tup[1])\n",
    "\n",
    "\n",
    "    eaf = Episodic_Accessor_Factory(\n",
    "        labels=labels,\n",
    "        domains=domains,\n",
    "        num_examples_per_domain_per_label=num_examples_per_domain_per_label,\n",
    "        iterator_seed=iterator_seed,\n",
    "        dataset_seed=dataset_seed,\n",
    "        n_shot=n_shot,\n",
    "        n_way=n_way,\n",
    "        n_query=n_query,\n",
    "        train_val_test_k_factors=train_val_test_k_factors,\n",
    "        pickle_path=pickle_path,\n",
    "        x_transform_func=x_transform,\n",
    "    )\n",
    "\n",
    "    train, val, test = eaf.get_train(), eaf.get_val(), eaf.get_test()\n",
    "    train = Lazy_Iterable_Wrapper(train, episode_transform)\n",
    "    val = Lazy_Iterable_Wrapper(val, episode_transform)\n",
    "    test = Lazy_Iterable_Wrapper(test, episode_transform)\n",
    "\n",
    "    if source_or_target_dataset==\"source\":\n",
    "        train_original_source.append(train)\n",
    "        val_original_source.append(val)\n",
    "        test_original_source.append(test)\n",
    "\n",
    "        p.domains_source.extend(\n",
    "            [domain_prefix + str(u) for u in domains]\n",
    "        )\n",
    "    elif source_or_target_dataset==\"target\":\n",
    "        train_original_target.append(train)\n",
    "        val_original_target.append(val)\n",
    "        test_original_target.append(test)\n",
    "        p.domains_target.extend(\n",
    "            [domain_prefix + str(u) for u in domains]\n",
    "        )\n",
    "    else:\n",
    "        raise Exception(f\"invalid source_or_target_dataset: {source_or_target_dataset}\")\n",
    "    "
   ]
  },
  {
   "cell_type": "code",
   "execution_count": 13,
   "id": "fe266617",
   "metadata": {
    "execution": {
     "iopub.execute_input": "2022-03-23T03:30:36.910642Z",
     "iopub.status.busy": "2022-03-23T03:30:36.909054Z",
     "iopub.status.idle": "2022-03-23T03:31:23.493017Z",
     "shell.execute_reply": "2022-03-23T03:31:23.492165Z"
    },
    "papermill": {
     "duration": 46.608085,
     "end_time": "2022-03-23T03:31:23.493201",
     "exception": false,
     "start_time": "2022-03-23T03:30:36.885116",
     "status": "completed"
    },
    "tags": []
   },
   "outputs": [],
   "source": [
    "for ds in p.datasets:\n",
    "    add_dataset(**ds)"
   ]
  },
  {
   "cell_type": "code",
   "execution_count": 14,
   "id": "b90d65ac",
   "metadata": {
    "execution": {
     "iopub.execute_input": "2022-03-23T03:31:23.543255Z",
     "iopub.status.busy": "2022-03-23T03:31:23.542619Z",
     "iopub.status.idle": "2022-03-23T03:31:23.568758Z",
     "shell.execute_reply": "2022-03-23T03:31:23.567973Z"
    },
    "papermill": {
     "duration": 0.050291,
     "end_time": "2022-03-23T03:31:23.568877",
     "exception": false,
     "start_time": "2022-03-23T03:31:23.518586",
     "status": "completed"
    },
    "tags": []
   },
   "outputs": [],
   "source": [
    "# from steves_utils.CORES.utils import (\n",
    "#     ALL_NODES,\n",
    "#     ALL_NODES_MINIMUM_1000_EXAMPLES,\n",
    "#     ALL_DAYS\n",
    "# )\n",
    "\n",
    "# add_dataset(\n",
    "#     labels=ALL_NODES,\n",
    "#     domains = ALL_DAYS,\n",
    "#     num_examples_per_domain_per_label=100,\n",
    "#     pickle_path=os.path.join(get_datasets_base_path(), \"cores.stratified_ds.2022A.pkl\"),\n",
    "#     source_or_target_dataset=\"target\",\n",
    "#     x_transform_func=global_x_transform_func,\n",
    "#     domain_modifier=lambda u: f\"cores_{u}\"\n",
    "# )"
   ]
  },
  {
   "cell_type": "code",
   "execution_count": 15,
   "id": "76db484d",
   "metadata": {
    "execution": {
     "iopub.execute_input": "2022-03-23T03:31:23.616472Z",
     "iopub.status.busy": "2022-03-23T03:31:23.616013Z",
     "iopub.status.idle": "2022-03-23T03:31:23.634182Z",
     "shell.execute_reply": "2022-03-23T03:31:23.634896Z"
    },
    "papermill": {
     "duration": 0.042713,
     "end_time": "2022-03-23T03:31:23.635090",
     "exception": false,
     "start_time": "2022-03-23T03:31:23.592377",
     "status": "completed"
    },
    "tags": []
   },
   "outputs": [],
   "source": [
    "# from steves_utils.ORACLE.utils_v2 import (\n",
    "#     ALL_DISTANCES_FEET,\n",
    "#     ALL_RUNS,\n",
    "#     ALL_SERIAL_NUMBERS,\n",
    "# )\n",
    "\n",
    "\n",
    "# add_dataset(\n",
    "#     labels=ALL_SERIAL_NUMBERS,\n",
    "#     domains = list(set(ALL_DISTANCES_FEET) - {2,62}),\n",
    "#     num_examples_per_domain_per_label=100,\n",
    "#     pickle_path=os.path.join(get_datasets_base_path(), \"oracle.Run2_framed_2000Examples_stratified_ds.2022A.pkl\"),\n",
    "#     source_or_target_dataset=\"source\",\n",
    "#     x_transform_func=global_x_transform_func,\n",
    "#     domain_modifier=lambda u: f\"oracle1_{u}\"\n",
    "# )\n"
   ]
  },
  {
   "cell_type": "code",
   "execution_count": 16,
   "id": "97dea9d2",
   "metadata": {
    "execution": {
     "iopub.execute_input": "2022-03-23T03:31:23.687420Z",
     "iopub.status.busy": "2022-03-23T03:31:23.687044Z",
     "iopub.status.idle": "2022-03-23T03:31:23.704423Z",
     "shell.execute_reply": "2022-03-23T03:31:23.703611Z"
    },
    "papermill": {
     "duration": 0.040785,
     "end_time": "2022-03-23T03:31:23.704580",
     "exception": false,
     "start_time": "2022-03-23T03:31:23.663795",
     "status": "completed"
    },
    "tags": []
   },
   "outputs": [],
   "source": [
    "# from steves_utils.ORACLE.utils_v2 import (\n",
    "#     ALL_DISTANCES_FEET,\n",
    "#     ALL_RUNS,\n",
    "#     ALL_SERIAL_NUMBERS,\n",
    "# )\n",
    "\n",
    "\n",
    "# add_dataset(\n",
    "#     labels=ALL_SERIAL_NUMBERS,\n",
    "#     domains = list(set(ALL_DISTANCES_FEET) - {2,62,56}),\n",
    "#     num_examples_per_domain_per_label=100,\n",
    "#     pickle_path=os.path.join(get_datasets_base_path(), \"oracle.Run2_framed_2000Examples_stratified_ds.2022A.pkl\"),\n",
    "#     source_or_target_dataset=\"source\",\n",
    "#     x_transform_func=global_x_transform_func,\n",
    "#     domain_modifier=lambda u: f\"oracle2_{u}\"\n",
    "# )"
   ]
  },
  {
   "cell_type": "code",
   "execution_count": 17,
   "id": "6f289866",
   "metadata": {
    "execution": {
     "iopub.execute_input": "2022-03-23T03:31:23.763089Z",
     "iopub.status.busy": "2022-03-23T03:31:23.762249Z",
     "iopub.status.idle": "2022-03-23T03:31:23.775100Z",
     "shell.execute_reply": "2022-03-23T03:31:23.774286Z"
    },
    "papermill": {
     "duration": 0.043542,
     "end_time": "2022-03-23T03:31:23.775260",
     "exception": false,
     "start_time": "2022-03-23T03:31:23.731718",
     "status": "completed"
    },
    "tags": []
   },
   "outputs": [],
   "source": [
    "# add_dataset(\n",
    "#     labels=list(range(19)),\n",
    "#     domains = [0,1,2],\n",
    "#     num_examples_per_domain_per_label=100,\n",
    "#     pickle_path=os.path.join(get_datasets_base_path(), \"metehan.stratified_ds.2022A.pkl\"),\n",
    "#     source_or_target_dataset=\"target\",\n",
    "#     x_transform_func=global_x_transform_func,\n",
    "#     domain_modifier=lambda u: f\"met_{u}\"\n",
    "# )"
   ]
  },
  {
   "cell_type": "code",
   "execution_count": 18,
   "id": "86a863c3",
   "metadata": {
    "execution": {
     "iopub.execute_input": "2022-03-23T03:31:23.829257Z",
     "iopub.status.busy": "2022-03-23T03:31:23.828613Z",
     "iopub.status.idle": "2022-03-23T03:31:23.849864Z",
     "shell.execute_reply": "2022-03-23T03:31:23.849046Z"
    },
    "papermill": {
     "duration": 0.046351,
     "end_time": "2022-03-23T03:31:23.850037",
     "exception": false,
     "start_time": "2022-03-23T03:31:23.803686",
     "status": "completed"
    },
    "tags": []
   },
   "outputs": [],
   "source": [
    "# # from steves_utils.wisig.utils import (\n",
    "# #     ALL_NODES_MINIMUM_100_EXAMPLES,\n",
    "# #     ALL_NODES_MINIMUM_500_EXAMPLES,\n",
    "# #     ALL_NODES_MINIMUM_1000_EXAMPLES,\n",
    "# #     ALL_DAYS\n",
    "# # )\n",
    "\n",
    "# import steves_utils.wisig.utils as wisig\n",
    "\n",
    "\n",
    "# add_dataset(\n",
    "#     labels=wisig.ALL_NODES_MINIMUM_100_EXAMPLES,\n",
    "#     domains = wisig.ALL_DAYS,\n",
    "#     num_examples_per_domain_per_label=100,\n",
    "#     pickle_path=os.path.join(get_datasets_base_path(), \"wisig.node3-19.stratified_ds.2022A.pkl\"),\n",
    "#     source_or_target_dataset=\"target\",\n",
    "#     x_transform_func=global_x_transform_func,\n",
    "#     domain_modifier=lambda u: f\"wisig_{u}\"\n",
    "# )"
   ]
  },
  {
   "cell_type": "code",
   "execution_count": 19,
   "id": "fd5442bc",
   "metadata": {
    "execution": {
     "iopub.execute_input": "2022-03-23T03:31:23.912417Z",
     "iopub.status.busy": "2022-03-23T03:31:23.908123Z",
     "iopub.status.idle": "2022-03-23T03:31:23.928591Z",
     "shell.execute_reply": "2022-03-23T03:31:23.929254Z"
    },
    "papermill": {
     "duration": 0.052245,
     "end_time": "2022-03-23T03:31:23.929446",
     "exception": false,
     "start_time": "2022-03-23T03:31:23.877201",
     "status": "completed"
    },
    "tags": []
   },
   "outputs": [],
   "source": [
    "###################################\n",
    "# Build the dataset\n",
    "###################################\n",
    "train_original_source = Iterable_Aggregator(train_original_source, p.seed)\n",
    "val_original_source = Iterable_Aggregator(val_original_source, p.seed)\n",
    "test_original_source = Iterable_Aggregator(test_original_source, p.seed)\n",
    "\n",
    "\n",
    "train_original_target = Iterable_Aggregator(train_original_target, p.seed)\n",
    "val_original_target = Iterable_Aggregator(val_original_target, p.seed)\n",
    "test_original_target = Iterable_Aggregator(test_original_target, p.seed)\n",
    "\n",
    "# For CNN We only use X and Y. And we only train on the source.\n",
    "# Properly form the data using a transform lambda and Lazy_Iterable_Wrapper. Finally wrap them in a dataloader\n",
    "\n",
    "transform_lambda = lambda ex: ex[1] # Original is (<domain>, <episode>) so we strip down to episode only\n",
    "\n",
    "train_processed_source = Lazy_Iterable_Wrapper(train_original_source, transform_lambda)\n",
    "val_processed_source   = Lazy_Iterable_Wrapper(val_original_source, transform_lambda)\n",
    "test_processed_source  = Lazy_Iterable_Wrapper(test_original_source, transform_lambda)\n",
    "\n",
    "train_processed_target = Lazy_Iterable_Wrapper(train_original_target, transform_lambda)\n",
    "val_processed_target   = Lazy_Iterable_Wrapper(val_original_target, transform_lambda)\n",
    "test_processed_target  = Lazy_Iterable_Wrapper(test_original_target, transform_lambda)\n",
    "\n",
    "datasets = EasyDict({\n",
    "    \"source\": {\n",
    "        \"original\": {\"train\":train_original_source, \"val\":val_original_source, \"test\":test_original_source},\n",
    "        \"processed\": {\"train\":train_processed_source, \"val\":val_processed_source, \"test\":test_processed_source}\n",
    "    },\n",
    "    \"target\": {\n",
    "        \"original\": {\"train\":train_original_target, \"val\":val_original_target, \"test\":test_original_target},\n",
    "        \"processed\": {\"train\":train_processed_target, \"val\":val_processed_target, \"test\":test_processed_target}\n",
    "    },\n",
    "})"
   ]
  },
  {
   "cell_type": "code",
   "execution_count": 20,
   "id": "5b3c01fc",
   "metadata": {
    "execution": {
     "iopub.execute_input": "2022-03-23T03:31:23.984050Z",
     "iopub.status.busy": "2022-03-23T03:31:23.983440Z",
     "iopub.status.idle": "2022-03-23T03:31:39.039518Z",
     "shell.execute_reply": "2022-03-23T03:31:39.038820Z"
    },
    "papermill": {
     "duration": 15.080603,
     "end_time": "2022-03-23T03:31:39.039715",
     "exception": false,
     "start_time": "2022-03-23T03:31:23.959112",
     "status": "completed"
    },
    "tags": []
   },
   "outputs": [
    {
     "name": "stdout",
     "output_type": "stream",
     "text": [
      "{'ORACLE.run138', 'ORACLE.run114', 'ORACLE.run150', 'ORACLE.run132', 'ORACLE.run18', 'ORACLE.run126', 'ORACLE.run144', 'ORACLE.run120'}\n"
     ]
    },
    {
     "name": "stdout",
     "output_type": "stream",
     "text": [
      "{'Wisig_3', 'Wisig_2', 'Wisig_4', 'Wisig_1'}\n"
     ]
    },
    {
     "name": "stdout",
     "output_type": "stream",
     "text": [
      "tensor([[[-0.5157,  1.0145,  1.3442,  ...,  0.0000, -0.4481,  1.2259],\n",
      "         [-0.0845, -0.3720, -0.9807,  ...,  0.1099, -0.7947,  0.3973]],\n",
      "\n",
      "        [[-0.5868, -0.5700,  1.8694,  ...,  0.3102,  0.1844, -0.8131],\n",
      "         [-0.1174,  0.6958, -0.5868,  ...,  0.4359,  0.2766,  0.0503]],\n",
      "\n",
      "        [[-2.2739, -0.3356,  1.0488,  ...,  0.5454, -0.8810, -0.2769],\n",
      "         [ 0.5118,  0.6041, -1.1411,  ...,  0.3524,  0.9062, -1.2502]],\n",
      "\n",
      "        ...,\n",
      "\n",
      "        [[-0.6893, -0.6220,  1.3282,  ..., -0.1597,  0.9667,  1.0423],\n",
      "         [ 0.7734, -0.2774,  0.1681,  ..., -0.4960,  0.8742,  0.9331]],\n",
      "\n",
      "        [[-0.7212,  0.3487, -0.0238,  ..., -0.2932, -0.0872,  0.1664],\n",
      "         [-1.1174, -0.7767,  0.2853,  ...,  0.4121,  0.7846,  0.2615]],\n",
      "\n",
      "        [[-0.2759,  1.1037,  0.5113,  ...,  0.2516,  0.9414,  0.5437],\n",
      "         [-0.2678,  0.0649,  1.2011,  ...,  0.5032,  0.8034,  0.3977]]])\n"
     ]
    }
   ],
   "source": [
    "from steves_utils.transforms import get_average_magnitude, get_average_power\n",
    "\n",
    "print(set([u for u,_ in val_original_source]))\n",
    "print(set([u for u,_ in val_original_target]))\n",
    "\n",
    "s_x, s_y, q_x, q_y, _ = next(iter(train_processed_source))\n",
    "print(s_x)\n",
    "\n",
    "# for ds in [\n",
    "#     train_processed_source,\n",
    "#     val_processed_source,\n",
    "#     test_processed_source,\n",
    "#     train_processed_target,\n",
    "#     val_processed_target,\n",
    "#     test_processed_target\n",
    "# ]:\n",
    "#     for s_x, s_y, q_x, q_y, _ in ds:\n",
    "#         for X in (s_x, q_x):\n",
    "#             for x in X:\n",
    "#                 assert np.isclose(get_average_magnitude(x.numpy()), 1.0)\n",
    "#                 assert np.isclose(get_average_power(x.numpy()), 1.0)\n",
    "                "
   ]
  },
  {
   "cell_type": "code",
   "execution_count": 21,
   "id": "bbdacba1",
   "metadata": {
    "execution": {
     "iopub.execute_input": "2022-03-23T03:31:39.094348Z",
     "iopub.status.busy": "2022-03-23T03:31:39.093972Z",
     "iopub.status.idle": "2022-03-23T03:31:39.368535Z",
     "shell.execute_reply": "2022-03-23T03:31:39.367715Z"
    },
    "papermill": {
     "duration": 0.301956,
     "end_time": "2022-03-23T03:31:39.368725",
     "exception": false,
     "start_time": "2022-03-23T03:31:39.066769",
     "status": "completed"
    },
    "tags": []
   },
   "outputs": [
    {
     "name": "stdout",
     "output_type": "stream",
     "text": [
      "(2, 256)\n"
     ]
    }
   ],
   "source": [
    "###################################\n",
    "# Build the model\n",
    "###################################\n",
    "# easfsl only wants a tuple for the shape\n",
    "model = Steves_Prototypical_Network(x_net, device=p.device, x_shape=tuple(p.x_shape))\n",
    "optimizer = Adam(params=model.parameters(), lr=p.lr)"
   ]
  },
  {
   "cell_type": "code",
   "execution_count": 22,
   "id": "22b39ac5",
   "metadata": {
    "execution": {
     "iopub.execute_input": "2022-03-23T03:31:39.426555Z",
     "iopub.status.busy": "2022-03-23T03:31:39.426181Z",
     "iopub.status.idle": "2022-03-23T04:16:04.180839Z",
     "shell.execute_reply": "2022-03-23T04:16:04.180498Z"
    },
    "papermill": {
     "duration": 2664.782072,
     "end_time": "2022-03-23T04:16:04.180923",
     "exception": false,
     "start_time": "2022-03-23T03:31:39.398851",
     "status": "completed"
    },
    "tags": []
   },
   "outputs": [
    {
     "name": "stdout",
     "output_type": "stream",
     "text": [
      "epoch: 1, [batch: 1 / 6720], examples_per_second: 33.0280, train_label_loss: 2.7969, \n"
     ]
    },
    {
     "name": "stdout",
     "output_type": "stream",
     "text": [
      "epoch: 1, [batch: 672 / 6720], examples_per_second: 3324.7713, train_label_loss: 2.7717, \n"
     ]
    },
    {
     "name": "stdout",
     "output_type": "stream",
     "text": [
      "epoch: 1, [batch: 1344 / 6720], examples_per_second: 3391.4810, train_label_loss: 1.6583, \n"
     ]
    },
    {
     "name": "stdout",
     "output_type": "stream",
     "text": [
      "epoch: 1, [batch: 2016 / 6720], examples_per_second: 3513.8054, train_label_loss: 1.3377, \n"
     ]
    },
    {
     "name": "stdout",
     "output_type": "stream",
     "text": [
      "epoch: 1, [batch: 2688 / 6720], examples_per_second: 3376.8547, train_label_loss: 1.2816, \n"
     ]
    },
    {
     "name": "stdout",
     "output_type": "stream",
     "text": [
      "epoch: 1, [batch: 3360 / 6720], examples_per_second: 3387.8542, train_label_loss: 1.1381, \n"
     ]
    },
    {
     "name": "stdout",
     "output_type": "stream",
     "text": [
      "epoch: 1, [batch: 4032 / 6720], examples_per_second: 3392.6607, train_label_loss: 0.8632, \n"
     ]
    },
    {
     "name": "stdout",
     "output_type": "stream",
     "text": [
      "epoch: 1, [batch: 4704 / 6720], examples_per_second: 3405.9788, train_label_loss: 1.8375, \n"
     ]
    },
    {
     "name": "stdout",
     "output_type": "stream",
     "text": [
      "epoch: 1, [batch: 5376 / 6720], examples_per_second: 3366.2615, train_label_loss: 1.4966, \n"
     ]
    },
    {
     "name": "stdout",
     "output_type": "stream",
     "text": [
      "epoch: 1, [batch: 6048 / 6720], examples_per_second: 3449.9020, train_label_loss: 0.8018, \n"
     ]
    },
    {
     "name": "stdout",
     "output_type": "stream",
     "text": [
      "=============================================================\n",
      "epoch: 1, source_val_acc_label: 0.5429, target_val_acc_label: 0.6112, source_val_label_loss: 1.2015, target_val_label_loss: 5.5983, \n",
      "=============================================================\n"
     ]
    },
    {
     "name": "stdout",
     "output_type": "stream",
     "text": [
      "New best\n"
     ]
    },
    {
     "name": "stdout",
     "output_type": "stream",
     "text": [
      "epoch: 2, [batch: 1 / 6720], examples_per_second: 3.2004, train_label_loss: 1.4609, \n"
     ]
    },
    {
     "name": "stdout",
     "output_type": "stream",
     "text": [
      "epoch: 2, [batch: 672 / 6720], examples_per_second: 3339.3038, train_label_loss: 1.6285, \n"
     ]
    },
    {
     "name": "stdout",
     "output_type": "stream",
     "text": [
      "epoch: 2, [batch: 1344 / 6720], examples_per_second: 3363.9294, train_label_loss: 0.7087, \n"
     ]
    },
    {
     "name": "stdout",
     "output_type": "stream",
     "text": [
      "epoch: 2, [batch: 2016 / 6720], examples_per_second: 3585.2671, train_label_loss: 0.6032, \n"
     ]
    },
    {
     "name": "stdout",
     "output_type": "stream",
     "text": [
      "epoch: 2, [batch: 2688 / 6720], examples_per_second: 3362.1869, train_label_loss: 0.8394, \n"
     ]
    },
    {
     "name": "stdout",
     "output_type": "stream",
     "text": [
      "epoch: 2, [batch: 3360 / 6720], examples_per_second: 3394.3107, train_label_loss: 1.1493, \n"
     ]
    },
    {
     "name": "stdout",
     "output_type": "stream",
     "text": [
      "epoch: 2, [batch: 4032 / 6720], examples_per_second: 3394.8389, train_label_loss: 0.5375, \n"
     ]
    },
    {
     "name": "stdout",
     "output_type": "stream",
     "text": [
      "epoch: 2, [batch: 4704 / 6720], examples_per_second: 3394.7062, train_label_loss: 1.4550, \n"
     ]
    },
    {
     "name": "stdout",
     "output_type": "stream",
     "text": [
      "epoch: 2, [batch: 5376 / 6720], examples_per_second: 3395.0055, train_label_loss: 0.6432, \n"
     ]
    },
    {
     "name": "stdout",
     "output_type": "stream",
     "text": [
      "epoch: 2, [batch: 6048 / 6720], examples_per_second: 3382.6454, train_label_loss: 0.4633, \n"
     ]
    },
    {
     "name": "stdout",
     "output_type": "stream",
     "text": [
      "=============================================================\n",
      "epoch: 2, source_val_acc_label: 0.5943, target_val_acc_label: 0.6448, source_val_label_loss: 1.0693, target_val_label_loss: 7.0780, \n",
      "=============================================================\n"
     ]
    },
    {
     "name": "stdout",
     "output_type": "stream",
     "text": [
      "New best\n"
     ]
    },
    {
     "name": "stdout",
     "output_type": "stream",
     "text": [
      "epoch: 3, [batch: 1 / 6720], examples_per_second: 3.1142, train_label_loss: 0.8080, \n"
     ]
    },
    {
     "name": "stdout",
     "output_type": "stream",
     "text": [
      "epoch: 3, [batch: 672 / 6720], examples_per_second: 3335.3985, train_label_loss: 1.3012, \n"
     ]
    },
    {
     "name": "stdout",
     "output_type": "stream",
     "text": [
      "epoch: 3, [batch: 1344 / 6720], examples_per_second: 3361.4876, train_label_loss: 0.5064, \n"
     ]
    },
    {
     "name": "stdout",
     "output_type": "stream",
     "text": [
      "epoch: 3, [batch: 2016 / 6720], examples_per_second: 3897.3092, train_label_loss: 1.1411, \n"
     ]
    },
    {
     "name": "stdout",
     "output_type": "stream",
     "text": [
      "epoch: 3, [batch: 2688 / 6720], examples_per_second: 3884.1632, train_label_loss: 1.2317, \n"
     ]
    },
    {
     "name": "stdout",
     "output_type": "stream",
     "text": [
      "epoch: 3, [batch: 3360 / 6720], examples_per_second: 3949.8232, train_label_loss: 1.0705, \n"
     ]
    },
    {
     "name": "stdout",
     "output_type": "stream",
     "text": [
      "epoch: 3, [batch: 4032 / 6720], examples_per_second: 3993.6551, train_label_loss: 0.5358, \n"
     ]
    },
    {
     "name": "stdout",
     "output_type": "stream",
     "text": [
      "epoch: 3, [batch: 4704 / 6720], examples_per_second: 3894.5029, train_label_loss: 0.9896, \n"
     ]
    },
    {
     "name": "stdout",
     "output_type": "stream",
     "text": [
      "epoch: 3, [batch: 5376 / 6720], examples_per_second: 4051.2143, train_label_loss: 0.9557, \n"
     ]
    },
    {
     "name": "stdout",
     "output_type": "stream",
     "text": [
      "epoch: 3, [batch: 6048 / 6720], examples_per_second: 3853.3037, train_label_loss: 0.5330, \n"
     ]
    },
    {
     "name": "stdout",
     "output_type": "stream",
     "text": [
      "=============================================================\n",
      "epoch: 3, source_val_acc_label: 0.6111, target_val_acc_label: 0.6602, source_val_label_loss: 1.0471, target_val_label_loss: 8.3452, \n",
      "=============================================================\n"
     ]
    },
    {
     "name": "stdout",
     "output_type": "stream",
     "text": [
      "New best\n"
     ]
    },
    {
     "name": "stdout",
     "output_type": "stream",
     "text": [
      "epoch: 4, [batch: 1 / 6720], examples_per_second: 3.8956, train_label_loss: 0.8051, \n"
     ]
    },
    {
     "name": "stdout",
     "output_type": "stream",
     "text": [
      "epoch: 4, [batch: 672 / 6720], examples_per_second: 3875.2968, train_label_loss: 0.4578, \n"
     ]
    },
    {
     "name": "stdout",
     "output_type": "stream",
     "text": [
      "epoch: 4, [batch: 1344 / 6720], examples_per_second: 3912.6300, train_label_loss: 0.8377, \n"
     ]
    },
    {
     "name": "stdout",
     "output_type": "stream",
     "text": [
      "epoch: 4, [batch: 2016 / 6720], examples_per_second: 3938.7217, train_label_loss: 0.4639, \n"
     ]
    },
    {
     "name": "stdout",
     "output_type": "stream",
     "text": [
      "epoch: 4, [batch: 2688 / 6720], examples_per_second: 3886.3701, train_label_loss: 0.4003, \n"
     ]
    },
    {
     "name": "stdout",
     "output_type": "stream",
     "text": [
      "epoch: 4, [batch: 3360 / 6720], examples_per_second: 3955.5241, train_label_loss: 0.6000, \n"
     ]
    },
    {
     "name": "stdout",
     "output_type": "stream",
     "text": [
      "epoch: 4, [batch: 4032 / 6720], examples_per_second: 4170.9247, train_label_loss: 0.4902, \n"
     ]
    },
    {
     "name": "stdout",
     "output_type": "stream",
     "text": [
      "epoch: 4, [batch: 4704 / 6720], examples_per_second: 4011.8078, train_label_loss: 0.6392, \n"
     ]
    },
    {
     "name": "stdout",
     "output_type": "stream",
     "text": [
      "epoch: 4, [batch: 5376 / 6720], examples_per_second: 4150.9638, train_label_loss: 0.3832, \n"
     ]
    },
    {
     "name": "stdout",
     "output_type": "stream",
     "text": [
      "epoch: 4, [batch: 6048 / 6720], examples_per_second: 4509.3328, train_label_loss: 0.9311, \n"
     ]
    },
    {
     "name": "stdout",
     "output_type": "stream",
     "text": [
      "=============================================================\n",
      "epoch: 4, source_val_acc_label: 0.6113, target_val_acc_label: 0.6572, source_val_label_loss: 1.0693, target_val_label_loss: 9.8865, \n",
      "=============================================================\n"
     ]
    },
    {
     "name": "stdout",
     "output_type": "stream",
     "text": [
      "epoch: 5, [batch: 1 / 6720], examples_per_second: 5.0671, train_label_loss: 0.8448, \n"
     ]
    },
    {
     "name": "stdout",
     "output_type": "stream",
     "text": [
      "epoch: 5, [batch: 672 / 6720], examples_per_second: 3928.0818, train_label_loss: 0.4207, \n"
     ]
    },
    {
     "name": "stdout",
     "output_type": "stream",
     "text": [
      "epoch: 5, [batch: 1344 / 6720], examples_per_second: 3892.3147, train_label_loss: 0.6313, \n"
     ]
    },
    {
     "name": "stdout",
     "output_type": "stream",
     "text": [
      "epoch: 5, [batch: 2016 / 6720], examples_per_second: 3894.5990, train_label_loss: 0.5740, \n"
     ]
    },
    {
     "name": "stdout",
     "output_type": "stream",
     "text": [
      "epoch: 5, [batch: 2688 / 6720], examples_per_second: 3851.8852, train_label_loss: 0.7566, \n"
     ]
    },
    {
     "name": "stdout",
     "output_type": "stream",
     "text": [
      "epoch: 5, [batch: 3360 / 6720], examples_per_second: 3939.6754, train_label_loss: 0.5184, \n"
     ]
    },
    {
     "name": "stdout",
     "output_type": "stream",
     "text": [
      "epoch: 5, [batch: 4032 / 6720], examples_per_second: 4015.0810, train_label_loss: 0.3371, \n"
     ]
    },
    {
     "name": "stdout",
     "output_type": "stream",
     "text": [
      "epoch: 5, [batch: 4704 / 6720], examples_per_second: 3997.4728, train_label_loss: 0.9731, \n"
     ]
    },
    {
     "name": "stdout",
     "output_type": "stream",
     "text": [
      "epoch: 5, [batch: 5376 / 6720], examples_per_second: 4029.2502, train_label_loss: 0.3801, \n"
     ]
    },
    {
     "name": "stdout",
     "output_type": "stream",
     "text": [
      "epoch: 5, [batch: 6048 / 6720], examples_per_second: 4023.9975, train_label_loss: 0.6073, \n"
     ]
    },
    {
     "name": "stdout",
     "output_type": "stream",
     "text": [
      "=============================================================\n",
      "epoch: 5, source_val_acc_label: 0.6184, target_val_acc_label: 0.6800, source_val_label_loss: 1.0838, target_val_label_loss: 10.5545, \n",
      "=============================================================\n"
     ]
    },
    {
     "name": "stdout",
     "output_type": "stream",
     "text": [
      "New best\n"
     ]
    },
    {
     "name": "stdout",
     "output_type": "stream",
     "text": [
      "epoch: 6, [batch: 1 / 6720], examples_per_second: 3.9022, train_label_loss: 0.3955, \n"
     ]
    },
    {
     "name": "stdout",
     "output_type": "stream",
     "text": [
      "epoch: 6, [batch: 672 / 6720], examples_per_second: 2930.4934, train_label_loss: 0.9072, \n"
     ]
    },
    {
     "name": "stdout",
     "output_type": "stream",
     "text": [
      "epoch: 6, [batch: 1344 / 6720], examples_per_second: 2940.2936, train_label_loss: 0.5269, \n"
     ]
    },
    {
     "name": "stdout",
     "output_type": "stream",
     "text": [
      "epoch: 6, [batch: 2016 / 6720], examples_per_second: 2961.2743, train_label_loss: 0.6621, \n"
     ]
    },
    {
     "name": "stdout",
     "output_type": "stream",
     "text": [
      "epoch: 6, [batch: 2688 / 6720], examples_per_second: 2936.6508, train_label_loss: 0.5351, \n"
     ]
    },
    {
     "name": "stdout",
     "output_type": "stream",
     "text": [
      "epoch: 6, [batch: 3360 / 6720], examples_per_second: 2984.9061, train_label_loss: 0.6579, \n"
     ]
    },
    {
     "name": "stdout",
     "output_type": "stream",
     "text": [
      "epoch: 6, [batch: 4032 / 6720], examples_per_second: 2950.2178, train_label_loss: 0.3531, \n"
     ]
    },
    {
     "name": "stdout",
     "output_type": "stream",
     "text": [
      "epoch: 6, [batch: 4704 / 6720], examples_per_second: 2993.1627, train_label_loss: 1.0287, \n"
     ]
    },
    {
     "name": "stdout",
     "output_type": "stream",
     "text": [
      "epoch: 6, [batch: 5376 / 6720], examples_per_second: 3002.5150, train_label_loss: 0.4252, \n"
     ]
    },
    {
     "name": "stdout",
     "output_type": "stream",
     "text": [
      "epoch: 6, [batch: 6048 / 6720], examples_per_second: 2981.7024, train_label_loss: 0.4100, \n"
     ]
    },
    {
     "name": "stdout",
     "output_type": "stream",
     "text": [
      "=============================================================\n",
      "epoch: 6, source_val_acc_label: 0.6002, target_val_acc_label: 0.6729, source_val_label_loss: 1.1604, target_val_label_loss: 11.4948, \n",
      "=============================================================\n"
     ]
    },
    {
     "name": "stdout",
     "output_type": "stream",
     "text": [
      "epoch: 7, [batch: 1 / 6720], examples_per_second: 3.0431, train_label_loss: 0.5701, \n"
     ]
    },
    {
     "name": "stdout",
     "output_type": "stream",
     "text": [
      "epoch: 7, [batch: 672 / 6720], examples_per_second: 3308.5247, train_label_loss: 0.3806, \n"
     ]
    },
    {
     "name": "stdout",
     "output_type": "stream",
     "text": [
      "epoch: 7, [batch: 1344 / 6720], examples_per_second: 3350.4098, train_label_loss: 0.5479, \n"
     ]
    },
    {
     "name": "stdout",
     "output_type": "stream",
     "text": [
      "epoch: 7, [batch: 2016 / 6720], examples_per_second: 3479.1969, train_label_loss: 0.3558, \n"
     ]
    },
    {
     "name": "stdout",
     "output_type": "stream",
     "text": [
      "epoch: 7, [batch: 2688 / 6720], examples_per_second: 3614.1704, train_label_loss: 0.3214, \n"
     ]
    },
    {
     "name": "stdout",
     "output_type": "stream",
     "text": [
      "epoch: 7, [batch: 3360 / 6720], examples_per_second: 2992.1680, train_label_loss: 0.1608, \n"
     ]
    },
    {
     "name": "stdout",
     "output_type": "stream",
     "text": [
      "epoch: 7, [batch: 4032 / 6720], examples_per_second: 2972.7261, train_label_loss: 0.6495, \n"
     ]
    },
    {
     "name": "stdout",
     "output_type": "stream",
     "text": [
      "epoch: 7, [batch: 4704 / 6720], examples_per_second: 2975.8065, train_label_loss: 0.6230, \n"
     ]
    },
    {
     "name": "stdout",
     "output_type": "stream",
     "text": [
      "epoch: 7, [batch: 5376 / 6720], examples_per_second: 3028.2167, train_label_loss: 0.5016, \n"
     ]
    },
    {
     "name": "stdout",
     "output_type": "stream",
     "text": [
      "epoch: 7, [batch: 6048 / 6720], examples_per_second: 2992.6341, train_label_loss: 0.8218, \n"
     ]
    },
    {
     "name": "stdout",
     "output_type": "stream",
     "text": [
      "=============================================================\n",
      "epoch: 7, source_val_acc_label: 0.6105, target_val_acc_label: 0.6784, source_val_label_loss: 1.2299, target_val_label_loss: 13.1138, \n",
      "=============================================================\n"
     ]
    },
    {
     "name": "stdout",
     "output_type": "stream",
     "text": [
      "epoch: 8, [batch: 1 / 6720], examples_per_second: 2.7742, train_label_loss: 0.3682, \n"
     ]
    },
    {
     "name": "stdout",
     "output_type": "stream",
     "text": [
      "epoch: 8, [batch: 672 / 6720], examples_per_second: 2995.4211, train_label_loss: 0.5343, \n"
     ]
    },
    {
     "name": "stdout",
     "output_type": "stream",
     "text": [
      "epoch: 8, [batch: 1344 / 6720], examples_per_second: 3235.7022, train_label_loss: 0.8049, \n"
     ]
    },
    {
     "name": "stdout",
     "output_type": "stream",
     "text": [
      "epoch: 8, [batch: 2016 / 6720], examples_per_second: 3470.8654, train_label_loss: 0.1743, \n"
     ]
    },
    {
     "name": "stdout",
     "output_type": "stream",
     "text": [
      "epoch: 8, [batch: 2688 / 6720], examples_per_second: 3412.0894, train_label_loss: 0.3492, \n"
     ]
    },
    {
     "name": "stdout",
     "output_type": "stream",
     "text": [
      "epoch: 8, [batch: 3360 / 6720], examples_per_second: 3347.7438, train_label_loss: 0.6573, \n"
     ]
    },
    {
     "name": "stdout",
     "output_type": "stream",
     "text": [
      "epoch: 8, [batch: 4032 / 6720], examples_per_second: 3413.2602, train_label_loss: 0.3200, \n"
     ]
    },
    {
     "name": "stdout",
     "output_type": "stream",
     "text": [
      "epoch: 8, [batch: 4704 / 6720], examples_per_second: 3534.4103, train_label_loss: 0.3618, \n"
     ]
    },
    {
     "name": "stdout",
     "output_type": "stream",
     "text": [
      "epoch: 8, [batch: 5376 / 6720], examples_per_second: 3411.7554, train_label_loss: 0.5020, \n"
     ]
    },
    {
     "name": "stdout",
     "output_type": "stream",
     "text": [
      "epoch: 8, [batch: 6048 / 6720], examples_per_second: 3517.1736, train_label_loss: 0.6238, \n"
     ]
    },
    {
     "name": "stdout",
     "output_type": "stream",
     "text": [
      "=============================================================\n",
      "epoch: 8, source_val_acc_label: 0.6053, target_val_acc_label: 0.6770, source_val_label_loss: 1.2945, target_val_label_loss: 13.6583, \n",
      "=============================================================\n"
     ]
    },
    {
     "name": "stdout",
     "output_type": "stream",
     "text": [
      "epoch: 9, [batch: 1 / 6720], examples_per_second: 2.7376, train_label_loss: 0.2484, \n"
     ]
    },
    {
     "name": "stdout",
     "output_type": "stream",
     "text": [
      "epoch: 9, [batch: 672 / 6720], examples_per_second: 3313.4633, train_label_loss: 0.1551, \n"
     ]
    },
    {
     "name": "stdout",
     "output_type": "stream",
     "text": [
      "epoch: 9, [batch: 1344 / 6720], examples_per_second: 3341.6123, train_label_loss: 0.5700, \n"
     ]
    },
    {
     "name": "stdout",
     "output_type": "stream",
     "text": [
      "epoch: 9, [batch: 2016 / 6720], examples_per_second: 3466.4735, train_label_loss: 0.3533, \n"
     ]
    },
    {
     "name": "stdout",
     "output_type": "stream",
     "text": [
      "epoch: 9, [batch: 2688 / 6720], examples_per_second: 3384.8254, train_label_loss: 0.1936, \n"
     ]
    },
    {
     "name": "stdout",
     "output_type": "stream",
     "text": [
      "epoch: 9, [batch: 3360 / 6720], examples_per_second: 3377.9969, train_label_loss: 0.1342, \n"
     ]
    },
    {
     "name": "stdout",
     "output_type": "stream",
     "text": [
      "epoch: 9, [batch: 4032 / 6720], examples_per_second: 3548.0703, train_label_loss: 0.2498, \n"
     ]
    },
    {
     "name": "stdout",
     "output_type": "stream",
     "text": [
      "epoch: 9, [batch: 4704 / 6720], examples_per_second: 3944.8176, train_label_loss: 0.2524, \n"
     ]
    },
    {
     "name": "stdout",
     "output_type": "stream",
     "text": [
      "epoch: 9, [batch: 5376 / 6720], examples_per_second: 4284.9033, train_label_loss: 0.6832, \n"
     ]
    },
    {
     "name": "stdout",
     "output_type": "stream",
     "text": [
      "epoch: 9, [batch: 6048 / 6720], examples_per_second: 3746.6955, train_label_loss: 0.2641, \n"
     ]
    },
    {
     "name": "stdout",
     "output_type": "stream",
     "text": [
      "=============================================================\n",
      "epoch: 9, source_val_acc_label: 0.6085, target_val_acc_label: 0.6805, source_val_label_loss: 1.3713, target_val_label_loss: 15.1339, \n",
      "=============================================================\n"
     ]
    },
    {
     "name": "stdout",
     "output_type": "stream",
     "text": [
      "New best\n"
     ]
    },
    {
     "name": "stdout",
     "output_type": "stream",
     "text": [
      "epoch: 10, [batch: 1 / 6720], examples_per_second: 3.1673, train_label_loss: 0.6740, \n"
     ]
    },
    {
     "name": "stdout",
     "output_type": "stream",
     "text": [
      "epoch: 10, [batch: 672 / 6720], examples_per_second: 3011.6406, train_label_loss: 0.4089, \n"
     ]
    },
    {
     "name": "stdout",
     "output_type": "stream",
     "text": [
      "epoch: 10, [batch: 1344 / 6720], examples_per_second: 3018.7230, train_label_loss: 0.6041, \n"
     ]
    },
    {
     "name": "stdout",
     "output_type": "stream",
     "text": [
      "epoch: 10, [batch: 2016 / 6720], examples_per_second: 2999.6762, train_label_loss: 0.3273, \n"
     ]
    },
    {
     "name": "stdout",
     "output_type": "stream",
     "text": [
      "epoch: 10, [batch: 2688 / 6720], examples_per_second: 2946.5512, train_label_loss: 0.4742, \n"
     ]
    },
    {
     "name": "stdout",
     "output_type": "stream",
     "text": [
      "epoch: 10, [batch: 3360 / 6720], examples_per_second: 2981.4991, train_label_loss: 0.6330, \n"
     ]
    },
    {
     "name": "stdout",
     "output_type": "stream",
     "text": [
      "epoch: 10, [batch: 4032 / 6720], examples_per_second: 3001.9346, train_label_loss: 0.1833, \n"
     ]
    },
    {
     "name": "stdout",
     "output_type": "stream",
     "text": [
      "epoch: 10, [batch: 4704 / 6720], examples_per_second: 2975.7364, train_label_loss: 0.0928, \n"
     ]
    },
    {
     "name": "stdout",
     "output_type": "stream",
     "text": [
      "epoch: 10, [batch: 5376 / 6720], examples_per_second: 2983.3796, train_label_loss: 0.3954, \n"
     ]
    },
    {
     "name": "stdout",
     "output_type": "stream",
     "text": [
      "epoch: 10, [batch: 6048 / 6720], examples_per_second: 2983.8099, train_label_loss: 0.2088, \n"
     ]
    },
    {
     "name": "stdout",
     "output_type": "stream",
     "text": [
      "=============================================================\n",
      "epoch: 10, source_val_acc_label: 0.5998, target_val_acc_label: 0.6886, source_val_label_loss: 1.4823, target_val_label_loss: 16.1956, \n",
      "=============================================================\n"
     ]
    },
    {
     "name": "stdout",
     "output_type": "stream",
     "text": [
      "New best\n"
     ]
    },
    {
     "name": "stdout",
     "output_type": "stream",
     "text": [
      "epoch: 11, [batch: 1 / 6720], examples_per_second: 3.0029, train_label_loss: 0.2535, \n"
     ]
    },
    {
     "name": "stdout",
     "output_type": "stream",
     "text": [
      "epoch: 11, [batch: 672 / 6720], examples_per_second: 3381.6600, train_label_loss: 0.1747, \n"
     ]
    },
    {
     "name": "stdout",
     "output_type": "stream",
     "text": [
      "epoch: 11, [batch: 1344 / 6720], examples_per_second: 3368.6275, train_label_loss: 0.5975, \n"
     ]
    },
    {
     "name": "stdout",
     "output_type": "stream",
     "text": [
      "epoch: 11, [batch: 2016 / 6720], examples_per_second: 3335.2217, train_label_loss: 0.0551, \n"
     ]
    },
    {
     "name": "stdout",
     "output_type": "stream",
     "text": [
      "epoch: 11, [batch: 2688 / 6720], examples_per_second: 3450.9056, train_label_loss: 0.2929, \n"
     ]
    },
    {
     "name": "stdout",
     "output_type": "stream",
     "text": [
      "epoch: 11, [batch: 3360 / 6720], examples_per_second: 3384.4219, train_label_loss: 0.1624, \n"
     ]
    },
    {
     "name": "stdout",
     "output_type": "stream",
     "text": [
      "epoch: 11, [batch: 4032 / 6720], examples_per_second: 2960.7731, train_label_loss: 0.3685, \n"
     ]
    },
    {
     "name": "stdout",
     "output_type": "stream",
     "text": [
      "epoch: 11, [batch: 4704 / 6720], examples_per_second: 2959.0750, train_label_loss: 0.3396, \n"
     ]
    },
    {
     "name": "stdout",
     "output_type": "stream",
     "text": [
      "epoch: 11, [batch: 5376 / 6720], examples_per_second: 2934.1194, train_label_loss: 0.1616, \n"
     ]
    },
    {
     "name": "stdout",
     "output_type": "stream",
     "text": [
      "epoch: 11, [batch: 6048 / 6720], examples_per_second: 2961.1861, train_label_loss: 0.2430, \n"
     ]
    },
    {
     "name": "stdout",
     "output_type": "stream",
     "text": [
      "=============================================================\n",
      "epoch: 11, source_val_acc_label: 0.6004, target_val_acc_label: 0.6820, source_val_label_loss: 1.4966, target_val_label_loss: 16.7128, \n",
      "=============================================================\n"
     ]
    },
    {
     "name": "stdout",
     "output_type": "stream",
     "text": [
      "epoch: 12, [batch: 1 / 6720], examples_per_second: 2.7555, train_label_loss: 0.4845, \n"
     ]
    },
    {
     "name": "stdout",
     "output_type": "stream",
     "text": [
      "epoch: 12, [batch: 672 / 6720], examples_per_second: 2928.5987, train_label_loss: 0.3204, \n"
     ]
    },
    {
     "name": "stdout",
     "output_type": "stream",
     "text": [
      "epoch: 12, [batch: 1344 / 6720], examples_per_second: 2987.4590, train_label_loss: 0.2719, \n"
     ]
    },
    {
     "name": "stdout",
     "output_type": "stream",
     "text": [
      "epoch: 12, [batch: 2016 / 6720], examples_per_second: 3391.3065, train_label_loss: 0.0930, \n"
     ]
    },
    {
     "name": "stdout",
     "output_type": "stream",
     "text": [
      "epoch: 12, [batch: 2688 / 6720], examples_per_second: 3406.2541, train_label_loss: 0.0770, \n"
     ]
    },
    {
     "name": "stdout",
     "output_type": "stream",
     "text": [
      "epoch: 12, [batch: 3360 / 6720], examples_per_second: 3370.7000, train_label_loss: 0.1839, \n"
     ]
    },
    {
     "name": "stdout",
     "output_type": "stream",
     "text": [
      "epoch: 12, [batch: 4032 / 6720], examples_per_second: 3380.2263, train_label_loss: 0.3087, \n"
     ]
    },
    {
     "name": "stdout",
     "output_type": "stream",
     "text": [
      "epoch: 12, [batch: 4704 / 6720], examples_per_second: 3417.7510, train_label_loss: 0.5155, \n"
     ]
    },
    {
     "name": "stdout",
     "output_type": "stream",
     "text": [
      "epoch: 12, [batch: 5376 / 6720], examples_per_second: 3323.7084, train_label_loss: 0.2771, \n"
     ]
    },
    {
     "name": "stdout",
     "output_type": "stream",
     "text": [
      "epoch: 12, [batch: 6048 / 6720], examples_per_second: 3469.7846, train_label_loss: 0.0082, \n"
     ]
    },
    {
     "name": "stdout",
     "output_type": "stream",
     "text": [
      "=============================================================\n",
      "epoch: 12, source_val_acc_label: 0.5921, target_val_acc_label: 0.6843, source_val_label_loss: 1.6495, target_val_label_loss: 18.1569, \n",
      "=============================================================\n"
     ]
    },
    {
     "name": "stdout",
     "output_type": "stream",
     "text": [
      "epoch: 13, [batch: 1 / 6720], examples_per_second: 3.1413, train_label_loss: 0.3731, \n"
     ]
    },
    {
     "name": "stdout",
     "output_type": "stream",
     "text": [
      "epoch: 13, [batch: 672 / 6720], examples_per_second: 3343.1573, train_label_loss: 0.5251, \n"
     ]
    },
    {
     "name": "stdout",
     "output_type": "stream",
     "text": [
      "epoch: 13, [batch: 1344 / 6720], examples_per_second: 3407.7442, train_label_loss: 0.1780, \n"
     ]
    },
    {
     "name": "stdout",
     "output_type": "stream",
     "text": [
      "epoch: 13, [batch: 2016 / 6720], examples_per_second: 3616.9142, train_label_loss: 0.0181, \n"
     ]
    },
    {
     "name": "stdout",
     "output_type": "stream",
     "text": [
      "epoch: 13, [batch: 2688 / 6720], examples_per_second: 3421.6880, train_label_loss: 0.1023, \n"
     ]
    },
    {
     "name": "stdout",
     "output_type": "stream",
     "text": [
      "epoch: 13, [batch: 3360 / 6720], examples_per_second: 3401.1076, train_label_loss: 0.4110, \n"
     ]
    },
    {
     "name": "stdout",
     "output_type": "stream",
     "text": [
      "epoch: 13, [batch: 4032 / 6720], examples_per_second: 3424.4722, train_label_loss: 0.3682, \n"
     ]
    },
    {
     "name": "stdout",
     "output_type": "stream",
     "text": [
      "epoch: 13, [batch: 4704 / 6720], examples_per_second: 3435.2035, train_label_loss: 0.1082, \n"
     ]
    },
    {
     "name": "stdout",
     "output_type": "stream",
     "text": [
      "epoch: 13, [batch: 5376 / 6720], examples_per_second: 3448.8476, train_label_loss: 0.2286, \n"
     ]
    },
    {
     "name": "stdout",
     "output_type": "stream",
     "text": [
      "epoch: 13, [batch: 6048 / 6720], examples_per_second: 3924.6239, train_label_loss: 0.0174, \n"
     ]
    },
    {
     "name": "stdout",
     "output_type": "stream",
     "text": [
      "=============================================================\n",
      "epoch: 13, source_val_acc_label: 0.5957, target_val_acc_label: 0.6846, source_val_label_loss: 1.6909, target_val_label_loss: 19.3854, \n",
      "=============================================================\n"
     ]
    },
    {
     "name": "stdout",
     "output_type": "stream",
     "text": [
      "epoch: 14, [batch: 1 / 6720], examples_per_second: 3.5048, train_label_loss: 0.2202, \n"
     ]
    },
    {
     "name": "stdout",
     "output_type": "stream",
     "text": [
      "epoch: 14, [batch: 672 / 6720], examples_per_second: 3714.8278, train_label_loss: 0.2249, \n"
     ]
    },
    {
     "name": "stdout",
     "output_type": "stream",
     "text": [
      "epoch: 14, [batch: 1344 / 6720], examples_per_second: 3955.0087, train_label_loss: 0.5476, \n"
     ]
    },
    {
     "name": "stdout",
     "output_type": "stream",
     "text": [
      "epoch: 14, [batch: 2016 / 6720], examples_per_second: 4108.6938, train_label_loss: 0.0079, \n"
     ]
    },
    {
     "name": "stdout",
     "output_type": "stream",
     "text": [
      "epoch: 14, [batch: 2688 / 6720], examples_per_second: 3508.8052, train_label_loss: 0.2068, \n"
     ]
    },
    {
     "name": "stdout",
     "output_type": "stream",
     "text": [
      "epoch: 14, [batch: 3360 / 6720], examples_per_second: 3386.7749, train_label_loss: 0.3255, \n"
     ]
    },
    {
     "name": "stdout",
     "output_type": "stream",
     "text": [
      "epoch: 14, [batch: 4032 / 6720], examples_per_second: 3380.9083, train_label_loss: 0.1279, \n"
     ]
    },
    {
     "name": "stdout",
     "output_type": "stream",
     "text": [
      "epoch: 14, [batch: 4704 / 6720], examples_per_second: 3381.3530, train_label_loss: 0.1123, \n"
     ]
    },
    {
     "name": "stdout",
     "output_type": "stream",
     "text": [
      "epoch: 14, [batch: 5376 / 6720], examples_per_second: 3827.0957, train_label_loss: 0.5118, \n"
     ]
    },
    {
     "name": "stdout",
     "output_type": "stream",
     "text": [
      "epoch: 14, [batch: 6048 / 6720], examples_per_second: 3807.0527, train_label_loss: 0.0896, \n"
     ]
    },
    {
     "name": "stdout",
     "output_type": "stream",
     "text": [
      "=============================================================\n",
      "epoch: 14, source_val_acc_label: 0.5959, target_val_acc_label: 0.6872, source_val_label_loss: 1.7839, target_val_label_loss: 20.5549, \n",
      "=============================================================\n"
     ]
    },
    {
     "name": "stdout",
     "output_type": "stream",
     "text": [
      "Patience (3) exhausted\n"
     ]
    }
   ],
   "source": [
    "###################################\n",
    "# train\n",
    "###################################\n",
    "jig = PTN_Train_Eval_Test_Jig(model, p.BEST_MODEL_PATH, p.device)\n",
    "\n",
    "jig.train(\n",
    "    train_iterable=datasets.source.processed.train,\n",
    "    source_val_iterable=datasets.source.processed.val,\n",
    "    target_val_iterable=datasets.target.processed.val,\n",
    "    num_epochs=p.n_epoch,\n",
    "    num_logs_per_epoch=p.NUM_LOGS_PER_EPOCH,\n",
    "    patience=p.patience,\n",
    "    optimizer=optimizer,\n",
    "    criteria_for_best=p.criteria_for_best,\n",
    ")"
   ]
  },
  {
   "cell_type": "code",
   "execution_count": 23,
   "id": "31e8fabf",
   "metadata": {
    "execution": {
     "iopub.execute_input": "2022-03-23T04:16:04.317130Z",
     "iopub.status.busy": "2022-03-23T04:16:04.316562Z",
     "iopub.status.idle": "2022-03-23T04:16:04.346883Z",
     "shell.execute_reply": "2022-03-23T04:16:04.346402Z"
    },
    "papermill": {
     "duration": 0.098884,
     "end_time": "2022-03-23T04:16:04.346988",
     "exception": false,
     "start_time": "2022-03-23T04:16:04.248104",
     "status": "completed"
    },
    "tags": []
   },
   "outputs": [],
   "source": [
    "total_experiment_time_secs = time.time() - start_time_secs"
   ]
  },
  {
   "cell_type": "code",
   "execution_count": 24,
   "id": "87b9595b",
   "metadata": {
    "execution": {
     "iopub.execute_input": "2022-03-23T04:16:04.492660Z",
     "iopub.status.busy": "2022-03-23T04:16:04.492066Z",
     "iopub.status.idle": "2022-03-23T04:18:57.347326Z",
     "shell.execute_reply": "2022-03-23T04:18:57.348072Z"
    },
    "papermill": {
     "duration": 172.93026,
     "end_time": "2022-03-23T04:18:57.348335",
     "exception": false,
     "start_time": "2022-03-23T04:16:04.418075",
     "status": "completed"
    },
    "tags": []
   },
   "outputs": [],
   "source": [
    "###################################\n",
    "# Evaluate the model\n",
    "###################################\n",
    "source_test_label_accuracy, source_test_label_loss = jig.test(datasets.source.processed.test)\n",
    "target_test_label_accuracy, target_test_label_loss = jig.test(datasets.target.processed.test)\n",
    "\n",
    "source_val_label_accuracy, source_val_label_loss = jig.test(datasets.source.processed.val)\n",
    "target_val_label_accuracy, target_val_label_loss = jig.test(datasets.target.processed.val)\n",
    "\n",
    "history = jig.get_history()\n",
    "\n",
    "total_epochs_trained = len(history[\"epoch_indices\"])\n",
    "\n",
    "val_dl = Iterable_Aggregator((datasets.source.original.val,datasets.target.original.val))\n",
    "\n",
    "confusion = ptn_confusion_by_domain_over_dataloader(model, p.device, val_dl)\n",
    "per_domain_accuracy = per_domain_accuracy_from_confusion(confusion)\n",
    "\n",
    "# Add a key to per_domain_accuracy for if it was a source domain\n",
    "for domain, accuracy in per_domain_accuracy.items():\n",
    "    per_domain_accuracy[domain] = {\n",
    "        \"accuracy\": accuracy,\n",
    "        \"source?\": domain in p.domains_source\n",
    "    }\n",
    "\n",
    "# Do an independent accuracy assesment JUST TO BE SURE!\n",
    "# _source_test_label_accuracy = independent_accuracy_assesment(model, datasets.source.processed.test, p.device)\n",
    "# _target_test_label_accuracy = independent_accuracy_assesment(model, datasets.target.processed.test, p.device)\n",
    "# _source_val_label_accuracy = independent_accuracy_assesment(model, datasets.source.processed.val, p.device)\n",
    "# _target_val_label_accuracy = independent_accuracy_assesment(model, datasets.target.processed.val, p.device)\n",
    "\n",
    "# assert(_source_test_label_accuracy == source_test_label_accuracy)\n",
    "# assert(_target_test_label_accuracy == target_test_label_accuracy)\n",
    "# assert(_source_val_label_accuracy == source_val_label_accuracy)\n",
    "# assert(_target_val_label_accuracy == target_val_label_accuracy)\n",
    "\n",
    "experiment = {\n",
    "    \"experiment_name\": p.experiment_name,\n",
    "    \"parameters\": dict(p),\n",
    "    \"results\": {\n",
    "        \"source_test_label_accuracy\": source_test_label_accuracy,\n",
    "        \"source_test_label_loss\": source_test_label_loss,\n",
    "        \"target_test_label_accuracy\": target_test_label_accuracy,\n",
    "        \"target_test_label_loss\": target_test_label_loss,\n",
    "        \"source_val_label_accuracy\": source_val_label_accuracy,\n",
    "        \"source_val_label_loss\": source_val_label_loss,\n",
    "        \"target_val_label_accuracy\": target_val_label_accuracy,\n",
    "        \"target_val_label_loss\": target_val_label_loss,\n",
    "        \"total_epochs_trained\": total_epochs_trained,\n",
    "        \"total_experiment_time_secs\": total_experiment_time_secs,\n",
    "        \"confusion\": confusion,\n",
    "        \"per_domain_accuracy\": per_domain_accuracy,\n",
    "    },\n",
    "    \"history\": history,\n",
    "    \"dataset_metrics\": get_dataset_metrics(datasets, \"ptn\"),\n",
    "}"
   ]
  },
  {
   "cell_type": "code",
   "execution_count": 25,
   "id": "54a21829",
   "metadata": {
    "execution": {
     "iopub.execute_input": "2022-03-23T04:18:57.500005Z",
     "iopub.status.busy": "2022-03-23T04:18:57.499611Z",
     "iopub.status.idle": "2022-03-23T04:18:57.728647Z",
     "shell.execute_reply": "2022-03-23T04:18:57.729343Z"
    },
    "papermill": {
     "duration": 0.304645,
     "end_time": "2022-03-23T04:18:57.729583",
     "exception": false,
     "start_time": "2022-03-23T04:18:57.424938",
     "status": "completed"
    },
    "tags": []
   },
   "outputs": [
    {
     "data": {
      "image/png": "[encoded data removed]",
      "text/plain": [
       "<Figure size 1080x504 with 1 Axes>"
      ]
     },
     "metadata": {
      "needs_background": "light"
     },
     "output_type": "display_data"
    }
   ],
   "source": [
    "ax = get_loss_curve(experiment)\n",
    "plt.show()"
   ]
  },
  {
   "cell_type": "code",
   "execution_count": 26,
   "id": "fd8a0f60",
   "metadata": {
    "execution": {
     "iopub.execute_input": "2022-03-23T04:18:57.878739Z",
     "iopub.status.busy": "2022-03-23T04:18:57.878356Z",
     "iopub.status.idle": "2022-03-23T04:18:58.198317Z",
     "shell.execute_reply": "2022-03-23T04:18:58.198965Z"
    },
    "papermill": {
     "duration": 0.394904,
     "end_time": "2022-03-23T04:18:58.199202",
     "exception": false,
     "start_time": "2022-03-23T04:18:57.804298",
     "status": "completed"
    },
    "tags": []
   },
   "outputs": [
    {
     "data": {
      "text/plain": [
       "<AxesSubplot:title={'center':'Results'}>"
      ]
     },
     "execution_count": 26,
     "metadata": {},
     "output_type": "execute_result"
    },
    {
     "data": {
      "image/png": "[encoded data removed]",
      "text/plain": [
       "<Figure size 1080x504 with 1 Axes>"
      ]
     },
     "metadata": {
      "needs_background": "light"
     },
     "output_type": "display_data"
    }
   ],
   "source": [
    "get_results_table(experiment)"
   ]
  },
  {
   "cell_type": "code",
   "execution_count": 27,
   "id": "cf8dc689",
   "metadata": {
    "execution": {
     "iopub.execute_input": "2022-03-23T04:18:58.355994Z",
     "iopub.status.busy": "2022-03-23T04:18:58.355295Z",
     "iopub.status.idle": "2022-03-23T04:18:58.603196Z",
     "shell.execute_reply": "2022-03-23T04:18:58.603958Z"
    },
    "papermill": {
     "duration": 0.327612,
     "end_time": "2022-03-23T04:18:58.604208",
     "exception": false,
     "start_time": "2022-03-23T04:18:58.276596",
     "status": "completed"
    },
    "tags": []
   },
   "outputs": [
    {
     "data": {
      "text/plain": [
       "<AxesSubplot:title={'center':'Per Domain Validation Accuracy'}, xlabel='domain'>"
      ]
     },
     "execution_count": 27,
     "metadata": {},
     "output_type": "execute_result"
    },
    {
     "data": {
      "image/png": "[encoded data removed]",
      "text/plain": [
       "<Figure size 1080x504 with 1 Axes>"
      ]
     },
     "metadata": {
      "needs_background": "light"
     },
     "output_type": "display_data"
    }
   ],
   "source": [
    "get_domain_accuracies(experiment)"
   ]
  },
  {
   "cell_type": "code",
   "execution_count": 28,
   "id": "a74ae082",
   "metadata": {
    "execution": {
     "iopub.execute_input": "2022-03-23T04:18:58.753083Z",
     "iopub.status.busy": "2022-03-23T04:18:58.752696Z",
     "iopub.status.idle": "2022-03-23T04:18:58.780209Z",
     "shell.execute_reply": "2022-03-23T04:18:58.779308Z"
    },
    "papermill": {
     "duration": 0.101575,
     "end_time": "2022-03-23T04:18:58.780391",
     "exception": false,
     "start_time": "2022-03-23T04:18:58.678816",
     "status": "completed"
    },
    "tags": []
   },
   "outputs": [
    {
     "name": "stdout",
     "output_type": "stream",
     "text": [
      "Source Test Label Accuracy: 0.60205078125 Target Test Label Accuracy: 0.6833720330237358\n",
      "Source Val Label Accuracy: 0.5998372395833333 Target Val Label Accuracy: 0.6885889651531151\n"
     ]
    }
   ],
   "source": [
    "print(\"Source Test Label Accuracy:\", experiment[\"results\"][\"source_test_label_accuracy\"], \"Target Test Label Accuracy:\", experiment[\"results\"][\"target_test_label_accuracy\"])\n",
    "print(\"Source Val Label Accuracy:\", experiment[\"results\"][\"source_val_label_accuracy\"], \"Target Val Label Accuracy:\", experiment[\"results\"][\"target_val_label_accuracy\"])"
   ]
  },
  {
   "cell_type": "code",
   "execution_count": 29,
   "id": "dacca602",
   "metadata": {
    "execution": {
     "iopub.execute_input": "2022-03-23T04:18:58.927735Z",
     "iopub.status.busy": "2022-03-23T04:18:58.927354Z",
     "iopub.status.idle": "2022-03-23T04:18:58.959461Z",
     "shell.execute_reply": "2022-03-23T04:18:58.960159Z"
    },
    "papermill": {
     "duration": 0.105364,
     "end_time": "2022-03-23T04:18:58.960374",
     "exception": false,
     "start_time": "2022-03-23T04:18:58.855010",
     "status": "completed"
    },
    "tags": [
     "experiment_json"
    ]
   },
   "outputs": [
    {
     "data": {
      "text/plain": [
       "'{\"experiment_name\": \"tl_1v2:wisig-oracle.run1.limited\", \"parameters\": {\"experiment_name\": \"tl_1v2:wisig-oracle.run1.limited\", \"device\": \"cuda\", \"lr\": 0.0001, \"n_shot\": 3, \"n_query\": 2, \"train_k_factor\": 3, \"val_k_factor\": 2, \"test_k_factor\": 2, \"torch_default_dtype\": \"torch.float32\", \"n_epoch\": 50, \"patience\": 3, \"criteria_for_best\": \"target_accuracy\", \"x_net\": [{\"class\": \"nnReshape\", \"kargs\": {\"shape\": [-1, 1, 2, 256]}}, {\"class\": \"Conv2d\", \"kargs\": {\"in_channels\": 1, \"out_channels\": 256, \"kernel_size\": [1, 7], \"bias\": false, \"padding\": [0, 3]}}, {\"class\": \"ReLU\", \"kargs\": {\"inplace\": true}}, {\"class\": \"BatchNorm2d\", \"kargs\": {\"num_features\": 256}}, {\"class\": \"Conv2d\", \"kargs\": {\"in_channels\": 256, \"out_channels\": 80, \"kernel_size\": [2, 7], \"bias\": true, \"padding\": [0, 3]}}, {\"class\": \"ReLU\", \"kargs\": {\"inplace\": true}}, {\"class\": \"BatchNorm2d\", \"kargs\": {\"num_features\": 80}}, {\"class\": \"Flatten\", \"kargs\": {}}, {\"class\": \"Linear\", \"kargs\": {\"in_features\": 20480, \"out_features\": 256}}, {\"class\": \"ReLU\", \"kargs\": {\"inplace\": true}}, {\"class\": \"BatchNorm1d\", \"kargs\": {\"num_features\": 256}}, {\"class\": \"Linear\", \"kargs\": {\"in_features\": 256, \"out_features\": 256}}], \"NUM_LOGS_PER_EPOCH\": 10, \"BEST_MODEL_PATH\": \"./best_model.pth\", \"n_way\": 16, \"datasets\": [{\"labels\": [\"1-10\", \"1-12\", \"1-14\", \"1-16\", \"1-18\", \"1-19\", \"1-8\", \"10-11\", \"10-17\", \"10-4\", \"10-7\", \"11-1\", \"11-10\", \"11-19\", \"11-20\", \"11-4\", \"11-7\", \"12-19\", \"12-20\", \"12-7\", \"13-14\", \"13-18\", \"13-19\", \"13-20\", \"13-3\", \"13-7\", \"14-10\", \"14-11\", \"14-12\", \"14-13\", \"14-14\", \"14-19\", \"14-20\", \"14-7\", \"14-8\", \"14-9\", \"15-1\", \"15-19\", \"15-6\", \"16-1\", \"16-16\", \"16-19\", \"16-20\", \"17-10\", \"17-11\", \"18-1\", \"18-10\", \"18-11\", \"18-12\", \"18-13\", \"18-14\", \"18-15\", \"18-16\", \"18-17\", \"18-19\", \"18-2\", \"18-20\", \"18-4\", \"18-5\", \"18-7\", \"18-8\", \"18-9\", \"19-1\", \"19-10\", \"19-11\", \"19-12\", \"19-13\", \"19-14\", \"19-15\", \"19-19\", \"19-2\", \"19-20\", \"19-3\", \"19-4\", \"19-6\", \"19-7\", \"19-8\", \"19-9\", \"2-1\", \"2-13\", \"2-15\", \"2-3\", \"2-4\", \"2-5\", \"2-6\", \"2-7\", \"2-8\", \"20-1\", \"20-12\", \"20-14\", \"20-15\", \"20-16\", \"20-18\", \"20-19\", \"20-20\", \"20-3\", \"20-4\", \"20-5\", \"20-7\", \"20-8\", \"3-1\", \"3-13\", \"3-18\", \"3-2\", \"3-8\", \"4-1\", \"4-10\", \"4-11\", \"5-1\", \"5-5\", \"6-1\", \"6-15\", \"6-6\", \"7-10\", \"7-11\", \"7-12\", \"7-13\", \"7-14\", \"7-7\", \"7-8\", \"7-9\", \"8-1\", \"8-13\", \"8-14\", \"8-18\", \"8-20\", \"8-3\", \"8-8\", \"9-1\", \"9-7\"], \"domains\": [1, 2, 3, 4], \"num_examples_per_domain_per_label\": -1, \"pickle_path\": \"/root/csc500-main/datasets/wisig.node3-19.stratified_ds.2022A.pkl\", \"source_or_target_dataset\": \"target\", \"x_transforms\": [\"unit_power\"], \"episode_transforms\": [], \"domain_prefix\": \"Wisig_\"}, {\"labels\": [\"3123D52\", \"3123D65\", \"3123D79\", \"3123D80\", \"3123D54\", \"3123D70\", \"3123D7B\", \"3123D89\", \"3123D58\", \"3123D76\", \"3123D7D\", \"3123EFE\", \"3123D64\", \"3123D78\", \"3123D7E\", \"3124E4A\"], \"domains\": [32, 38, 8, 44, 14, 50, 20, 26], \"num_examples_per_domain_per_label\": 2000, \"pickle_path\": \"/root/csc500-main/datasets/oracle.Run1_10kExamples_stratified_ds.2022A.pkl\", \"source_or_target_dataset\": \"source\", \"x_transforms\": [\"unit_power\"], \"episode_transforms\": [], \"domain_prefix\": \"ORACLE.run1\"}], \"dataset_seed\": 7, \"seed\": 7, \"x_shape\": [2, 256], \"domains_source\": [\"ORACLE.run132\", \"ORACLE.run138\", \"ORACLE.run18\", \"ORACLE.run144\", \"ORACLE.run114\", \"ORACLE.run150\", \"ORACLE.run120\", \"ORACLE.run126\"], \"domains_target\": [\"Wisig_1\", \"Wisig_2\", \"Wisig_3\", \"Wisig_4\"]}, \"results\": {\"source_test_label_accuracy\": 0.60205078125, \"source_test_label_loss\": 1.4626985788345337, \"target_test_label_accuracy\": 0.6833720330237358, \"target_test_label_loss\": 16.541419982910156, \"source_val_label_accuracy\": 0.5998372395833333, \"source_val_label_loss\": 1.4822964668273926, \"target_val_label_accuracy\": 0.6885889651531151, \"target_val_label_loss\": 16.195592880249023, \"total_epochs_trained\": 14, \"total_experiment_time_secs\": 2727.6854343414307, \"confusion\": {\"ORACLE.run126\": {\"0\": {\"8\": 27, \"4\": 23, \"7\": 7, \"14\": 39, \"1\": 23, \"0\": 54, \"10\": 55, \"6\": 9, \"9\": 2, \"15\": 1}, \"4\": {\"2\": 2, \"4\": 73, \"8\": 27, \"7\": 28, \"14\": 32, \"1\": 35, \"10\": 8, \"0\": 33, \"3\": 1, \"9\": 1}, \"14\": {\"10\": 22, \"14\": 68, \"4\": 37, \"0\": 32, \"1\": 54, \"2\": 1, \"8\": 20, \"7\": 6}, \"12\": {\"12\": 234, \"11\": 6}, \"8\": {\"15\": 19, \"8\": 61, \"6\": 17, \"0\": 27, \"7\": 15, \"9\": 28, \"14\": 13, \"4\": 16, \"10\": 29, \"3\": 2, \"2\": 7, \"5\": 4, \"1\": 2}, \"7\": {\"2\": 31, \"7\": 99, \"9\": 2, \"4\": 27, \"15\": 5, \"3\": 45, \"8\": 13, \"5\": 3, \"1\": 2, \"0\": 4, \"14\": 8, \"10\": 1}, \"13\": {\"13\": 156, \"5\": 50, \"15\": 8, \"9\": 11, \"6\": 12, \"8\": 2, \"2\": 1}, \"5\": {\"9\": 36, \"5\": 79, \"13\": 29, \"15\": 58, \"6\": 5, \"7\": 7, \"2\": 15, \"8\": 8, \"3\": 3}, \"15\": {\"9\": 50, \"15\": 66, \"5\": 48, \"3\": 2, \"2\": 16, \"8\": 17, \"6\": 12, \"13\": 17, \"7\": 8, \"10\": 3, \"0\": 1}, \"10\": {\"10\": 73, \"7\": 8, \"0\": 57, \"8\": 31, \"6\": 21, \"14\": 18, \"15\": 4, \"9\": 9, \"4\": 8, \"1\": 11}, \"3\": {\"3\": 127, \"2\": 57, \"7\": 51, \"15\": 2, \"4\": 1, \"1\": 1, \"5\": 1}, \"9\": {\"9\": 66, \"8\": 21, \"5\": 25, \"15\": 54, \"13\": 7, \"6\": 36, \"10\": 8, \"7\": 3, \"2\": 12, \"14\": 3, \"0\": 3, \"4\": 2}, \"6\": {\"6\": 141, \"9\": 34, \"5\": 7, \"8\": 16, \"10\": 13, \"13\": 8, \"15\": 15, \"0\": 6}, \"1\": {\"10\": 21, \"14\": 73, \"1\": 88, \"7\": 7, \"0\": 25, \"8\": 2, \"4\": 24}, \"11\": {\"11\": 230, \"12\": 10}, \"2\": {\"15\": 24, \"2\": 76, \"3\": 74, \"4\": 3, \"5\": 20, \"7\": 25, \"8\": 8, \"9\": 6, \"13\": 2, \"10\": 2}}, \"ORACLE.run144\": {\"1\": {\"12\": 56, \"1\": 115, \"10\": 22, \"2\": 11, \"3\": 34, \"7\": 2}, \"11\": {\"13\": 25, \"6\": 24, \"11\": 190, \"9\": 1}, \"3\": {\"12\": 7, \"3\": 196, \"1\": 34, \"7\": 2, \"10\": 1}, \"6\": {\"6\": 149, \"13\": 45, \"11\": 16, \"9\": 25, \"7\": 5}, \"7\": {\"7\": 140, \"9\": 54, \"2\": 40, \"6\": 4, \"3\": 2}, \"5\": {\"5\": 194, \"0\": 17, \"14\": 10, \"15\": 14, \"8\": 4, \"4\": 1}, \"2\": {\"2\": 157, \"7\": 46, \"1\": 10, \"3\": 3, \"10\": 21, \"6\": 2, \"9\": 1}, \"15\": {\"15\": 183, \"0\": 24, \"14\": 22, \"5\": 6, \"4\": 3, \"8\": 2}, \"10\": {\"10\": 160, \"2\": 14, \"1\": 34, \"12\": 28, \"7\": 3, \"3\": 1}, \"13\": {\"13\": 145, \"6\": 43, \"11\": 23, \"9\": 29}, \"8\": {\"0\": 73, \"8\": 156, \"15\": 9, \"5\": 2}, \"4\": {\"4\": 162, \"14\": 69, \"13\": 5, \"5\": 2, \"15\": 2}, \"9\": {\"9\": 133, \"6\": 21, \"7\": 61, \"13\": 20, \"2\": 5}, \"14\": {\"15\": 21, \"4\": 78, \"14\": 135, \"5\": 6}, \"0\": {\"0\": 136, \"8\": 69, \"5\": 17, \"15\": 18}, \"12\": {\"12\": 160, \"1\": 56, \"10\": 17, \"2\": 4, \"3\": 3}}, \"ORACLE.run150\": {\"15\": {\"1\": 51, \"15\": 147, \"4\": 30, \"11\": 11, \"6\": 1}, \"4\": {\"4\": 76, \"5\": 20, \"1\": 45, \"6\": 38, \"13\": 7, \"15\": 53, \"7\": 1}, \"6\": {\"6\": 107, \"13\": 19, \"4\": 48, \"1\": 40, \"5\": 22, \"7\": 1, \"2\": 2, \"15\": 1}, \"2\": {\"2\": 226, \"0\": 14}, \"5\": {\"13\": 45, \"5\": 65, \"7\": 52, \"6\": 51, \"4\": 24, \"1\": 2, \"10\": 1}, \"9\": {\"9\": 169, \"11\": 47, \"12\": 23, \"14\": 1}, \"8\": {\"8\": 224, \"10\": 10, \"3\": 6}, \"12\": {\"12\": 195, \"14\": 18, \"9\": 22, \"11\": 5}, \"10\": {\"10\": 202, \"7\": 8, \"13\": 4, \"8\": 11, \"0\": 15}, \"1\": {\"1\": 125, \"6\": 40, \"15\": 43, \"4\": 31, \"11\": 1}, \"0\": {\"0\": 177, \"2\": 35, \"6\": 6, \"10\": 22}, \"3\": {\"3\": 232, \"8\": 8}, \"13\": {\"13\": 122, \"5\": 50, \"7\": 44, \"10\": 4, \"6\": 16, \"4\": 4}, \"11\": {\"9\": 18, \"11\": 210, \"15\": 7, \"4\": 1, \"12\": 2, \"14\": 2}, \"7\": {\"13\": 53, \"7\": 136, \"5\": 39, \"10\": 10, \"6\": 1, \"4\": 1}, \"14\": {\"14\": 221, \"12\": 13, \"15\": 1, \"11\": 4, \"9\": 1}}, \"ORACLE.run138\": {\"15\": {\"13\": 51, \"15\": 148, \"5\": 5, \"8\": 12, \"1\": 19, \"10\": 5}, \"11\": {\"14\": 65, \"11\": 172, \"12\": 2, \"10\": 1}, \"10\": {\"10\": 148, \"12\": 34, \"5\": 2, \"13\": 21, \"8\": 15, \"15\": 2, \"11\": 1, \"2\": 1, \"14\": 6, \"4\": 1, \"0\": 8, \"7\": 1}, \"14\": {\"14\": 165, \"13\": 3, \"11\": 44, \"2\": 23, \"12\": 2, \"10\": 3}, \"6\": {\"6\": 172, \"9\": 65, \"5\": 3}, \"4\": {\"4\": 212, \"12\": 28}, \"13\": {\"13\": 147, \"10\": 21, \"15\": 62, \"1\": 2, \"2\": 7, \"8\": 1}, \"3\": {\"7\": 10, \"3\": 195, \"6\": 4, \"0\": 5, \"9\": 24, \"5\": 2}, \"7\": {\"0\": 57, \"7\": 157, \"5\": 16, \"8\": 9, \"3\": 1}, \"8\": {\"5\": 59, \"8\": 119, \"0\": 45, \"13\": 1, \"15\": 4, \"10\": 3, \"7\": 9}, \"1\": {\"15\": 16, \"1\": 222, \"13\": 1, \"5\": 1}, \"5\": {\"8\": 61, \"5\": 89, \"9\": 5, \"0\": 34, \"15\": 17, \"3\": 5, \"1\": 3, \"13\": 4, \"7\": 11, \"10\": 1, \"6\": 10}, \"0\": {\"8\": 49, \"0\": 57, \"5\": 43, \"9\": 2, \"3\": 14, \"7\": 66, \"10\": 6, \"12\": 3}, \"2\": {\"2\": 213, \"14\": 19, \"13\": 8}, \"12\": {\"12\": 184, \"4\": 21, \"10\": 32, \"7\": 1, \"11\": 1, \"0\": 1}, \"9\": {\"3\": 21, \"9\": 134, \"5\": 3, \"6\": 81, \"0\": 1}}, \"ORACLE.run120\": {\"10\": {\"8\": 32, \"10\": 123, \"14\": 68, \"4\": 12, \"7\": 1, \"6\": 4}, \"7\": {\"7\": 122, \"3\": 8, \"9\": 34, \"13\": 2, \"8\": 14, \"2\": 48, \"10\": 2, \"6\": 5, \"14\": 2, \"4\": 3}, \"4\": {\"4\": 125, \"8\": 41, \"12\": 9, \"3\": 18, \"10\": 30, \"7\": 2, \"2\": 2, \"14\": 4, \"9\": 5, \"0\": 2, \"5\": 2}, \"13\": {\"13\": 184, \"9\": 14, \"5\": 2, \"2\": 14, \"15\": 15, \"12\": 5, \"1\": 5, \"0\": 1}, \"1\": {\"0\": 46, \"1\": 57, \"15\": 45, \"3\": 11, \"5\": 41, \"12\": 29, \"9\": 6, \"13\": 3, \"2\": 2}, \"0\": {\"1\": 42, \"9\": 4, \"0\": 61, \"15\": 29, \"12\": 25, \"5\": 56, \"3\": 12, \"8\": 2, \"4\": 4, \"2\": 5}, \"12\": {\"0\": 21, \"5\": 29, \"2\": 17, \"12\": 47, \"9\": 19, \"13\": 5, \"1\": 32, \"8\": 2, \"3\": 47, \"4\": 10, \"7\": 5, \"15\": 6}, \"5\": {\"1\": 35, \"0\": 52, \"12\": 38, \"3\": 20, \"5\": 67, \"4\": 2, \"2\": 7, \"15\": 12, \"9\": 4, \"13\": 3}, \"6\": {\"14\": 44, \"6\": 178, \"8\": 5, \"10\": 6, \"7\": 6, \"9\": 1}, \"2\": {\"9\": 51, \"7\": 43, \"12\": 14, \"5\": 3, \"13\": 24, \"2\": 78, \"3\": 12, \"8\": 6, \"15\": 3, \"0\": 1, \"11\": 1, \"4\": 2, \"1\": 2}, \"8\": {\"8\": 91, \"12\": 6, \"10\": 39, \"3\": 10, \"7\": 33, \"9\": 4, \"14\": 9, \"4\": 35, \"6\": 8, \"2\": 5}, \"11\": {\"11\": 235, \"2\": 3, \"7\": 2}, \"9\": {\"12\": 22, \"13\": 16, \"7\": 23, \"9\": 61, \"2\": 53, \"0\": 2, \"3\": 41, \"15\": 2, \"4\": 9, \"1\": 4, \"8\": 4, \"5\": 3}, \"14\": {\"14\": 138, \"6\": 51, \"10\": 47, \"8\": 3, \"7\": 1}, \"15\": {\"13\": 20, \"15\": 112, \"1\": 34, \"0\": 26, \"5\": 27, \"12\": 13, \"2\": 4, \"3\": 2, \"9\": 2}, \"3\": {\"12\": 32, \"13\": 4, \"2\": 23, \"4\": 25, \"7\": 15, \"9\": 42, \"3\": 60, \"15\": 4, \"8\": 14, \"5\": 9, \"1\": 7, \"0\": 4, \"10\": 1}}, \"ORACLE.run114\": {\"14\": {\"13\": 41, \"14\": 141, \"2\": 19, \"6\": 28, \"3\": 8, \"4\": 3}, \"0\": {\"0\": 167, \"10\": 52, \"11\": 13, \"3\": 7, \"8\": 1}, \"4\": {\"5\": 46, \"4\": 104, \"2\": 31, \"3\": 47, \"1\": 8, \"14\": 4}, \"11\": {\"11\": 195, \"10\": 19, \"9\": 17, \"0\": 9}, \"13\": {\"6\": 73, \"14\": 56, \"13\": 75, \"2\": 25, \"5\": 5, \"3\": 2, \"4\": 2, \"10\": 1, \"15\": 1}, \"9\": {\"9\": 229, \"11\": 4, \"12\": 7}, \"3\": {\"4\": 33, \"3\": 180, \"5\": 1, \"2\": 6, \"0\": 6, \"14\": 9, \"6\": 1, \"13\": 1, \"1\": 2, \"10\": 1}, \"6\": {\"13\": 77, \"6\": 102, \"14\": 26, \"2\": 35}, \"1\": {\"1\": 195, \"5\": 38, \"4\": 6, \"7\": 1}, \"5\": {\"5\": 121, \"1\": 38, \"4\": 44, \"2\": 19, \"15\": 6, \"7\": 5, \"3\": 7}, \"12\": {\"12\": 238, \"9\": 2}, \"10\": {\"0\": 55, \"10\": 175, \"13\": 1, \"11\": 8, \"14\": 1}, \"8\": {\"8\": 240}, \"7\": {\"7\": 206, \"15\": 32, \"1\": 1, \"5\": 1}, \"15\": {\"15\": 217, \"7\": 20, \"5\": 2, \"2\": 1}, \"2\": {\"2\": 93, \"14\": 31, \"1\": 1, \"13\": 22, \"4\": 27, \"6\": 19, \"5\": 31, \"3\": 13, \"15\": 3}}, \"ORACLE.run132\": {\"11\": {\"11\": 145, \"14\": 67, \"7\": 12, \"5\": 4, \"13\": 5, \"3\": 7}, \"1\": {\"1\": 231, \"10\": 9}, \"2\": {\"2\": 183, \"4\": 33, \"7\": 5, \"0\": 18, \"14\": 1}, \"0\": {\"0\": 111, \"2\": 18, \"4\": 55, \"13\": 11, \"8\": 19, \"5\": 13, \"7\": 12, \"14\": 1}, \"3\": {\"3\": 216, \"11\": 2, \"13\": 13, \"7\": 1, \"14\": 4, \"8\": 2, \"5\": 2}, \"8\": {\"8\": 163, \"13\": 24, \"4\": 1, \"0\": 25, \"5\": 22, \"3\": 3, \"15\": 1, \"7\": 1}, \"12\": {\"12\": 239, \"9\": 1}, \"5\": {\"5\": 53, \"8\": 27, \"0\": 18, \"3\": 10, \"13\": 65, \"11\": 5, \"4\": 25, \"7\": 21, \"14\": 13, \"2\": 3}, \"15\": {\"15\": 234, \"8\": 6}, \"7\": {\"0\": 11, \"11\": 13, \"4\": 37, \"13\": 26, \"7\": 80, \"5\": 24, \"14\": 37, \"2\": 12}, \"4\": {\"2\": 44, \"7\": 30, \"4\": 96, \"0\": 40, \"5\": 17, \"14\": 3, \"13\": 9, \"8\": 1}, \"14\": {\"4\": 14, \"11\": 79, \"3\": 8, \"7\": 45, \"14\": 54, \"5\": 17, \"13\": 20, \"2\": 1, \"0\": 2}, \"10\": {\"10\": 234, \"1\": 6}, \"6\": {\"6\": 240}, \"13\": {\"7\": 24, \"0\": 8, \"5\": 73, \"14\": 12, \"4\": 13, \"13\": 62, \"11\": 4, \"3\": 19, \"8\": 24, \"2\": 1}, \"9\": {\"9\": 239, \"12\": 1}}, \"ORACLE.run18\": {\"9\": {\"9\": 240}, \"11\": {\"1\": 85, \"11\": 114, \"5\": 14, \"4\": 4, \"8\": 9, \"14\": 12, \"10\": 2}, \"8\": {\"8\": 205, \"15\": 16, \"12\": 6, \"6\": 8, \"11\": 2, \"7\": 3}, \"4\": {\"0\": 29, \"4\": 73, \"10\": 15, \"11\": 3, \"14\": 37, \"13\": 43, \"6\": 31, \"7\": 5, \"1\": 3, \"8\": 1}, \"13\": {\"10\": 29, \"0\": 54, \"14\": 27, \"13\": 66, \"4\": 43, \"6\": 10, \"7\": 6, \"11\": 1, \"5\": 2, \"1\": 2}, \"14\": {\"14\": 81, \"10\": 48, \"1\": 22, \"13\": 27, \"4\": 40, \"5\": 3, \"11\": 8, \"6\": 9, \"0\": 2}, \"2\": {\"2\": 166, \"12\": 8, \"3\": 46, \"7\": 10, \"15\": 10}, \"3\": {\"3\": 146, \"12\": 29, \"2\": 55, \"15\": 10}, \"1\": {\"1\": 112, \"11\": 75, \"5\": 18, \"14\": 25, \"10\": 6, \"8\": 1, \"4\": 1, \"13\": 2}, \"0\": {\"7\": 25, \"4\": 32, \"6\": 18, \"14\": 4, \"13\": 42, \"0\": 108, \"10\": 11}, \"5\": {\"5\": 186, \"1\": 20, \"10\": 23, \"14\": 7, \"11\": 3, \"4\": 1}, \"15\": {\"15\": 117, \"8\": 26, \"12\": 70, \"3\": 15, \"2\": 10, \"7\": 2}, \"10\": {\"10\": 101, \"1\": 6, \"14\": 70, \"5\": 19, \"13\": 30, \"4\": 12, \"0\": 1, \"7\": 1}, \"12\": {\"15\": 84, \"12\": 99, \"8\": 7, \"3\": 44, \"2\": 6}, \"6\": {\"4\": 29, \"7\": 49, \"13\": 14, \"8\": 9, \"6\": 109, \"0\": 22, \"14\": 4, \"11\": 2, \"15\": 1, \"10\": 1}, \"7\": {\"7\": 137, \"6\": 61, \"2\": 5, \"4\": 4, \"0\": 24, \"13\": 1, \"8\": 5, \"10\": 1, \"15\": 1, \"14\": 1}}, \"Wisig_4\": {\"71\": {\"114\": 11, \"17\": 2, \"71\": 68, \"46\": 2, \"56\": 1, \"55\": 1, \"1\": 2, \"124\": 1, \"4\": 9, \"107\": 1, \"119\": 1, \"42\": 1, \"99\": 1, \"84\": 1, \"43\": 1, \"127\": 1}, \"17\": {\"17\": 20}, \"105\": {\"105\": 59, \"62\": 1, \"82\": 3, \"88\": 2, \"107\": 13, \"118\": 1, \"24\": 1, \"40\": 4, \"12\": 1, \"7\": 2, \"87\": 1, \"113\": 1, \"111\": 1, \"3\": 1, \"10\": 1, \"104\": 2, \"126\": 1, \"32\": 2, \"27\": 1, \"36\": 1, \"5\": 1}, \"92\": {\"92\": 19, \"84\": 1, \"102\": 1, \"15\": 1, \"90\": 2, \"62\": 1, \"45\": 2, \"69\": 1}, \"100\": {\"100\": 20}, \"6\": {\"6\": 16, \"68\": 1, \"94\": 2, \"125\": 3, \"111\": 1, \"12\": 1}, \"36\": {\"6\": 1, \"36\": 88, \"54\": 1, \"24\": 12, \"94\": 10, \"15\": 3, \"30\": 2, \"27\": 1, \"10\": 8, \"26\": 1, \"18\": 1}, \"35\": {\"35\": 9, \"2\": 1, \"117\": 2}, \"63\": {\"63\": 13, \"81\": 1, \"26\": 1, \"113\": 1}, \"104\": {\"104\": 15, \"107\": 1}, \"114\": {\"114\": 96, \"71\": 9, \"86\": 1, \"127\": 1, \"73\": 1, \"7\": 2, \"94\": 1, \"98\": 2, \"4\": 4, \"87\": 1, \"107\": 1, \"17\": 1, \"44\": 1, \"24\": 2, \"124\": 2, \"105\": 1, \"1\": 2}, \"68\": {\"68\": 11, \"91\": 1, \"34\": 1, \"127\": 1, \"95\": 1, \"111\": 1}, \"109\": {\"109\": 56, \"92\": 1, \"118\": 9, \"61\": 1, \"88\": 2, \"122\": 6, \"69\": 6, \"44\": 2, \"110\": 2, \"26\": 1, \"102\": 4, \"8\": 2, \"84\": 2, \"90\": 1, \"11\": 2, \"96\": 1, \"43\": 7, \"116\": 2, \"126\": 1, \"33\": 6, \"39\": 1, \"113\": 1}, \"27\": {\"27\": 59, \"58\": 2, \"81\": 1, \"88\": 3, \"106\": 8, \"12\": 2, \"78\": 1, \"8\": 10, \"111\": 3, \"15\": 2, \"0\": 2, \"70\": 1, \"7\": 1, \"30\": 3, \"10\": 1, \"24\": 1}, \"79\": {\"79\": 13, \"14\": 2, \"11\": 1}, \"0\": {\"0\": 65, \"68\": 1, \"12\": 4, \"29\": 3, \"53\": 2, \"111\": 5, \"14\": 2, \"8\": 4, \"10\": 1, \"101\": 9, \"70\": 1, \"118\": 1, \"106\": 2, \"21\": 1, \"7\": 1, \"107\": 1, \"1\": 1, \"39\": 1, \"24\": 1}, \"28\": {\"28\": 16, \"5\": 1, \"14\": 1, \"101\": 1, \"89\": 1}, \"4\": {\"4\": 92, \"86\": 4, \"55\": 1, \"95\": 1, \"26\": 1, \"36\": 1, \"85\": 1, \"71\": 1, \"98\": 2}, \"106\": {\"106\": 67, \"21\": 1, \"101\": 3, \"8\": 7, \"12\": 4, \"111\": 5, \"0\": 8, \"113\": 1, \"85\": 1, \"125\": 1, \"98\": 1, \"15\": 1, \"108\": 1, \"88\": 1}, \"40\": {\"40\": 112, \"99\": 3, \"115\": 1, \"107\": 5, \"62\": 1, \"82\": 1, \"16\": 1, \"87\": 4, \"33\": 2, \"69\": 1, \"105\": 2, \"18\": 1}, \"127\": {\"127\": 93, \"16\": 1, \"129\": 2, \"124\": 1, \"34\": 3, \"33\": 1, \"85\": 2, \"101\": 5}, \"57\": {\"57\": 10, \"116\": 1, \"127\": 1, \"102\": 1, \"66\": 1, \"84\": 1, \"47\": 1}, \"60\": {\"4\": 2, \"64\": 1, \"112\": 1, \"74\": 2, \"56\": 1, \"88\": 2, \"122\": 3, \"60\": 4, \"129\": 1, \"62\": 2, \"46\": 1, \"14\": 2, \"42\": 1, \"49\": 3, \"33\": 2, \"43\": 2, \"84\": 1, \"128\": 1}, \"69\": {\"69\": 90, \"90\": 12, \"84\": 6, \"62\": 2, \"16\": 1, \"102\": 6, \"27\": 1, \"36\": 1, \"44\": 2, \"92\": 2, \"3\": 1}, \"84\": {\"84\": 90, \"35\": 1, \"66\": 1, \"57\": 2, \"16\": 6, \"78\": 1, \"90\": 9, \"44\": 4, \"102\": 6, \"69\": 5, \"118\": 4, \"3\": 1, \"43\": 2}, \"24\": {\"24\": 74, \"94\": 5, \"25\": 2, \"36\": 5, \"10\": 11, \"21\": 1, \"97\": 1, \"18\": 2, \"30\": 4, \"15\": 7, \"84\": 1, \"27\": 4, \"8\": 1, \"4\": 1, \"127\": 1}, \"94\": {\"84\": 1, \"94\": 66, \"15\": 4, \"36\": 3, \"30\": 3, \"108\": 1, \"54\": 1, \"125\": 2, \"6\": 1, \"88\": 2, \"126\": 1, \"24\": 2, \"10\": 1}, \"7\": {\"60\": 1, \"84\": 1, \"7\": 66, \"17\": 1, \"99\": 1, \"19\": 1, \"50\": 1, \"107\": 6, \"79\": 1, \"105\": 7, \"128\": 2, \"14\": 7, \"3\": 14, \"32\": 1, \"1\": 3, \"36\": 1, \"113\": 1, \"10\": 1, \"87\": 2, \"80\": 1, \"5\": 1}, \"96\": {\"96\": 12, \"109\": 1, \"59\": 1, \"77\": 1, \"92\": 2, \"68\": 1, \"105\": 1, \"63\": 1}, \"116\": {\"116\": 21, \"102\": 3, \"62\": 2, \"44\": 2}, \"47\": {\"47\": 7, \"24\": 1, \"127\": 2, \"65\": 1, \"97\": 1}, \"119\": {\"119\": 12, \"25\": 1, \"1\": 1, \"64\": 2}, \"74\": {\"102\": 1, \"109\": 1, \"74\": 13, \"107\": 1}, \"93\": {\"93\": 113, \"5\": 9, \"20\": 1, \"110\": 16, \"19\": 1, \"44\": 1, \"0\": 1, \"11\": 4, \"43\": 2, \"14\": 2, \"108\": 2}, \"2\": {\"109\": 2, \"84\": 2, \"74\": 1, \"61\": 1, \"96\": 3, \"26\": 1, \"122\": 1, \"35\": 2, \"2\": 1, \"102\": 1, \"81\": 1, \"44\": 5, \"18\": 1, \"92\": 1, \"117\": 3, \"121\": 2}, \"37\": {\"37\": 9, \"95\": 2, \"127\": 1, \"55\": 2, \"100\": 2}, \"15\": {\"9\": 1, \"15\": 109, \"54\": 2, \"30\": 7, \"26\": 1, \"94\": 1, \"27\": 1, \"106\": 2, \"6\": 1, \"10\": 1, \"69\": 1, \"24\": 1}, \"102\": {\"102\": 116, \"44\": 5, \"92\": 1, \"90\": 7, \"33\": 1, \"69\": 4, \"84\": 1, \"62\": 1}, \"87\": {\"87\": 34, \"32\": 1, \"40\": 14, \"121\": 1, \"82\": 2, \"107\": 21, \"72\": 1, \"11\": 14, \"105\": 6, \"93\": 6, \"5\": 7, \"7\": 5, \"126\": 1, \"60\": 1, \"98\": 2, \"118\": 1, \"99\": 1, \"14\": 3, \"110\": 1}, \"107\": {\"32\": 1, \"107\": 109, \"14\": 3, \"50\": 2, \"22\": 2, \"7\": 8, \"109\": 1, \"3\": 3, \"87\": 6, \"108\": 1, \"40\": 1, \"115\": 1, \"82\": 2, \"105\": 3, \"93\": 1}, \"61\": {\"61\": 13, \"91\": 1, \"21\": 1, \"81\": 1}, \"78\": {\"74\": 1, \"32\": 1, \"122\": 1, \"78\": 11, \"50\": 2, \"26\": 1, \"107\": 2, \"13\": 1, \"99\": 1, \"8\": 1, \"40\": 1, \"88\": 2, \"105\": 2, \"3\": 1, \"96\": 1, \"89\": 1, \"73\": 1, \"23\": 2, \"93\": 1, \"72\": 1, \"110\": 1}, \"9\": {\"9\": 27, \"37\": 1}, \"32\": {\"32\": 19, \"107\": 1, \"28\": 1, \"99\": 1, \"7\": 1, \"3\": 1, \"1\": 1, \"87\": 1, \"14\": 1, \"122\": 1}, \"14\": {\"14\": 87, \"31\": 1, \"79\": 2, \"3\": 5, \"1\": 2, \"73\": 1, \"87\": 2, \"11\": 6, \"110\": 1, \"107\": 1, \"32\": 1, \"20\": 2, \"7\": 1}, \"62\": {\"62\": 35, \"102\": 4, \"33\": 5, \"90\": 2, \"116\": 1, \"118\": 4, \"113\": 1, \"88\": 1, \"69\": 3, \"44\": 1, \"109\": 1, \"117\": 1, \"108\": 1}, \"1\": {\"25\": 1, \"1\": 64, \"120\": 1, \"115\": 1, \"49\": 1, \"71\": 11, \"14\": 3, \"3\": 5, \"12\": 1, \"87\": 2, \"114\": 5, \"107\": 4, \"24\": 1, \"7\": 1, \"15\": 1}, \"23\": {\"23\": 4, \"92\": 1, \"103\": 1, \"112\": 2, \"113\": 2, \"110\": 1, \"2\": 1, \"117\": 1, \"0\": 1, \"49\": 2}, \"95\": {\"95\": 26, \"85\": 1, \"55\": 1, \"4\": 1, \"37\": 1, \"41\": 1, \"76\": 1}, \"56\": {\"56\": 11, \"4\": 1}, \"91\": {\"91\": 13, \"29\": 4, \"101\": 1, \"111\": 2, \"95\": 3, \"53\": 1}, \"34\": {\"34\": 8, \"37\": 1, \"119\": 1, \"120\": 2, \"83\": 4, \"86\": 2, \"49\": 1, \"125\": 1, \"8\": 1, \"46\": 2, \"29\": 3, \"4\": 1, \"93\": 1, \"85\": 1, \"42\": 1, \"127\": 1, \"129\": 1}, \"25\": {\"25\": 16}, \"33\": {\"33\": 107, \"31\": 1, \"62\": 2, \"122\": 4, \"69\": 1, \"118\": 1, \"16\": 1, \"57\": 1, \"116\": 2, \"102\": 1, \"109\": 1, \"43\": 2}, \"16\": {\"16\": 102, \"38\": 1, \"117\": 3, \"18\": 1, \"121\": 2, \"90\": 2, \"84\": 6, \"87\": 1, \"2\": 1, \"113\": 4, \"69\": 1}, \"26\": {\"123\": 2, \"26\": 86, \"61\": 1, \"113\": 4, \"21\": 1, \"18\": 14, \"39\": 6, \"3\": 1, \"63\": 1, \"121\": 2, \"81\": 3, \"117\": 2, \"126\": 3}, \"5\": {\"5\": 97, \"26\": 2, \"93\": 4, \"11\": 10, \"73\": 1, \"72\": 3, \"110\": 8, \"40\": 1, \"1\": 1, \"43\": 1, \"39\": 1, \"123\": 1, \"87\": 4, \"102\": 1, \"88\": 1}, \"123\": {\"123\": 11, \"6\": 1, \"81\": 2, \"63\": 2}, \"8\": {\"8\": 82, \"101\": 6, \"9\": 2, \"12\": 3, \"0\": 6, \"111\": 7, \"106\": 10, \"34\": 1, \"5\": 1}, \"83\": {\"83\": 16, \"71\": 1, \"19\": 2, \"46\": 1, \"36\": 1, \"50\": 1, \"51\": 1, \"105\": 1, \"60\": 2, \"42\": 1, \"129\": 1}, \"125\": {\"125\": 126, \"101\": 2, \"127\": 2, \"0\": 4}, \"51\": {\"51\": 4, \"127\": 1, \"26\": 1, \"71\": 1, \"106\": 2, \"75\": 1, \"9\": 1, \"111\": 2, \"77\": 1, \"23\": 1, \"15\": 1}, \"22\": {\"74\": 3, \"22\": 12, \"31\": 1}, \"54\": {\"54\": 16}, \"66\": {\"66\": 16}, \"59\": {\"51\": 2, \"59\": 8, \"6\": 1, \"21\": 1}, \"111\": {\"111\": 107, \"12\": 10, \"101\": 7, \"127\": 2, \"5\": 1, \"11\": 1}, \"77\": {\"77\": 7, \"51\": 2, \"68\": 2, \"12\": 1}, \"103\": {\"103\": 16}, \"20\": {\"20\": 15, \"110\": 1}, \"124\": {\"124\": 113, \"100\": 1, \"18\": 2, \"98\": 1, \"60\": 2, \"84\": 1}, \"99\": {\"76\": 1, \"99\": 29, \"40\": 4, \"64\": 1, \"115\": 1, \"82\": 2, \"60\": 1, \"69\": 1}, \"120\": {\"91\": 1, \"120\": 16, \"71\": 1, \"128\": 1, \"21\": 1}, \"76\": {\"76\": 9, \"5\": 1, \"104\": 1, \"105\": 2, \"115\": 1, \"107\": 2}, \"110\": {\"110\": 53, \"93\": 19, \"79\": 2, \"99\": 1, \"11\": 9, \"5\": 11, \"14\": 2, \"113\": 2, \"43\": 4, \"122\": 1, \"16\": 1, \"97\": 1, \"60\": 1, \"72\": 1, \"102\": 1, \"36\": 2, \"87\": 2, \"40\": 1, \"109\": 1, \"107\": 1}, \"29\": {\"29\": 28, \"127\": 1, \"24\": 1, \"12\": 2}, \"118\": {\"109\": 7, \"118\": 50, \"12\": 1, \"116\": 2, \"45\": 1, \"69\": 3, \"62\": 3, \"44\": 1, \"33\": 14, \"102\": 10, \"71\": 1, \"90\": 2, \"122\": 10, \"5\": 1, \"106\": 1, \"88\": 1, \"23\": 1, \"21\": 1, \"78\": 1, \"110\": 1}, \"58\": {\"58\": 14, \"88\": 2}, \"13\": {\"13\": 11, \"62\": 2, \"94\": 1, \"44\": 1, \"118\": 1}, \"89\": {\"99\": 2, \"89\": 25, \"104\": 2, \"105\": 1, \"1\": 2}, \"31\": {\"31\": 10, \"33\": 3, \"95\": 1, \"62\": 1, \"87\": 1}, \"64\": {\"31\": 2, \"64\": 11, \"82\": 1, \"85\": 1, \"62\": 1}, \"65\": {\"65\": 10, \"61\": 2}, \"101\": {\"101\": 74, \"18\": 1, \"0\": 7, \"103\": 1, \"12\": 13, \"111\": 15, \"11\": 1, \"88\": 1, \"8\": 6, \"108\": 1, \"106\": 6, \"34\": 1, \"42\": 1, \"43\": 1, \"29\": 1, \"102\": 1, \"26\": 1}, \"126\": {\"65\": 1, \"126\": 68, \"63\": 2, \"26\": 15, \"121\": 1, \"117\": 2, \"18\": 6, \"70\": 2, \"111\": 1, \"113\": 8, \"39\": 8, \"61\": 1, \"109\": 1, \"3\": 1, \"127\": 1}, \"108\": {\"93\": 10, \"108\": 29, \"7\": 1, \"78\": 1, \"79\": 1, \"11\": 7, \"62\": 1, \"73\": 1, \"21\": 1, \"1\": 1, \"36\": 1, \"94\": 1, \"111\": 1, \"70\": 2, \"98\": 1, \"126\": 1, \"88\": 6, \"114\": 2, \"14\": 5, \"109\": 3, \"3\": 1, \"49\": 2, \"19\": 2, \"30\": 1, \"18\": 1, \"72\": 2, \"110\": 2, \"5\": 4, \"107\": 1}, \"45\": {\"45\": 14, \"69\": 1, \"40\": 1}, \"21\": {\"21\": 36, \"10\": 1, \"88\": 2, \"22\": 1}, \"30\": {\"106\": 1, \"30\": 54, \"24\": 3, \"27\": 1, \"126\": 1, \"15\": 7, \"10\": 2, \"25\": 1, \"6\": 2, \"94\": 3, \"88\": 1}, \"82\": {\"82\": 27, \"12\": 1, \"40\": 2, \"99\": 1, \"71\": 1}, \"85\": {\"85\": 17, \"86\": 4, \"41\": 2, \"4\": 2, \"124\": 1, \"56\": 1, \"37\": 1}, \"88\": {\"88\": 61, \"101\": 1, \"83\": 2, \"51\": 3, \"27\": 5, \"78\": 3, \"0\": 3, \"129\": 1, \"70\": 6, \"42\": 2, \"8\": 1, \"108\": 2, \"124\": 10, \"98\": 2, \"87\": 1, \"113\": 1, \"109\": 1, \"3\": 2, \"1\": 5, \"114\": 3, \"118\": 3, \"15\": 2, \"95\": 1, \"31\": 1, \"119\": 1, \"7\": 1, \"107\": 1, \"14\": 1, \"105\": 1, \"4\": 1, \"110\": 1, \"71\": 2, \"93\": 1}, \"41\": {\"85\": 1, \"41\": 8, \"88\": 1, \"55\": 4, \"95\": 2}, \"128\": {\"41\": 2, \"85\": 2, \"53\": 1, \"4\": 1, \"129\": 2, \"22\": 1, \"37\": 3, \"128\": 4, \"82\": 1, \"40\": 1, \"107\": 2, \"111\": 1, \"0\": 1, \"114\": 2}, \"39\": {\"113\": 16, \"39\": 32, \"16\": 1, \"109\": 2, \"69\": 1, \"126\": 12, \"18\": 7, \"26\": 9, \"117\": 11, \"11\": 1, \"84\": 1, \"111\": 1, \"105\": 1, \"61\": 2, \"81\": 1, \"116\": 1, \"70\": 1}, \"18\": {\"18\": 98, \"126\": 3, \"70\": 1, \"26\": 12, \"108\": 1, \"113\": 4, \"39\": 1}, \"113\": {\"113\": 83, \"121\": 3, \"16\": 6, \"81\": 6, \"39\": 4, \"26\": 5, \"117\": 8, \"18\": 5, \"36\": 1, \"126\": 4, \"67\": 1, \"41\": 1, \"97\": 1}, \"11\": {\"32\": 1, \"11\": 67, \"110\": 7, \"72\": 1, \"5\": 12, \"40\": 1, \"87\": 13, \"93\": 12, \"107\": 3, \"3\": 3, \"14\": 4, \"33\": 1, \"39\": 1, \"50\": 1, \"115\": 2, \"60\": 1, \"20\": 3, \"126\": 1, \"122\": 1, \"43\": 2, \"109\": 1}, \"43\": {\"64\": 3, \"33\": 9, \"62\": 1, \"43\": 32, \"122\": 1, \"99\": 6, \"110\": 11, \"82\": 2, \"93\": 10, \"44\": 1, \"40\": 11, \"5\": 2, \"87\": 2, \"118\": 2, \"107\": 5, \"111\": 1, \"36\": 1, \"109\": 8, \"7\": 1, \"102\": 3, \"98\": 1, \"50\": 1, \"72\": 1, \"22\": 1, \"49\": 1, \"105\": 2, \"3\": 1}, \"12\": {\"12\": 65, \"5\": 1, \"15\": 2, \"0\": 2, \"111\": 16, \"101\": 9, \"106\": 1, \"68\": 1, \"8\": 1, \"109\": 1, \"39\": 1}, \"122\": {\"45\": 3, \"122\": 33, \"43\": 5, \"33\": 11, \"14\": 1, \"40\": 5, \"87\": 4, \"99\": 4, \"72\": 1, \"81\": 1, \"94\": 1, \"109\": 2, \"70\": 1, \"110\": 1, \"24\": 1, \"11\": 1, \"96\": 1, \"126\": 3, \"118\": 3, \"93\": 1, \"16\": 1}, \"52\": {\"52\": 19, \"127\": 1}, \"44\": {\"92\": 1, \"102\": 11, \"116\": 2, \"44\": 35, \"69\": 6, \"62\": 1, \"90\": 2, \"16\": 1, \"13\": 1, \"126\": 1, \"121\": 1, \"74\": 1, \"26\": 1}, \"90\": {\"90\": 115, \"92\": 1, \"44\": 3, \"69\": 10, \"102\": 2, \"43\": 1, \"84\": 1, \"18\": 1}, \"112\": {\"112\": 16}, \"86\": {\"86\": 25, \"55\": 1, \"4\": 2}, \"3\": {\"3\": 77, \"78\": 1, \"14\": 8, \"7\": 9, \"107\": 3, \"16\": 1, \"1\": 4, \"114\": 2, \"43\": 3, \"46\": 1, \"32\": 3, \"19\": 1, \"71\": 1, \"11\": 1, \"8\": 1}, \"38\": {\"38\": 12, \"67\": 1, \"84\": 2, \"57\": 1}, \"121\": {\"121\": 18, \"67\": 1, \"44\": 1, \"26\": 4, \"117\": 2, \"39\": 2, \"69\": 1, \"113\": 1, \"2\": 1, \"81\": 1}, \"46\": {\"87\": 1, \"116\": 1, \"46\": 14, \"34\": 1, \"124\": 1, \"78\": 2}, \"70\": {\"70\": 48, \"46\": 1, \"124\": 17, \"113\": 2, \"34\": 1, \"108\": 2, \"98\": 13, \"27\": 1, \"8\": 2, \"127\": 1, \"0\": 7, \"1\": 2, \"111\": 2, \"125\": 1, \"114\": 2, \"117\": 1, \"12\": 3, \"5\": 1, \"129\": 1, \"85\": 1, \"91\": 1, \"52\": 1, \"100\": 1, \"103\": 1, \"11\": 2, \"128\": 2, \"88\": 1, \"18\": 1, \"10\": 1, \"101\": 3, \"93\": 1}, \"67\": {\"116\": 1, \"121\": 1, \"81\": 1, \"65\": 1, \"18\": 1, \"74\": 1, \"16\": 1, \"67\": 3, \"61\": 1, \"102\": 1, \"123\": 2, \"113\": 2}, \"53\": {\"53\": 16}, \"49\": {\"122\": 3, \"43\": 1, \"49\": 2, \"127\": 1, \"112\": 2, \"53\": 1, \"11\": 1, \"125\": 1, \"34\": 3, \"2\": 1, \"8\": 1, \"98\": 2, \"60\": 2, \"123\": 2, \"40\": 1, \"101\": 2, \"72\": 2, \"91\": 1, \"5\": 1, \"12\": 2}, \"42\": {\"49\": 3, \"42\": 8, \"53\": 1, \"88\": 1, \"129\": 1, \"52\": 1, \"46\": 2, \"124\": 1, \"12\": 3, \"8\": 2, \"114\": 1, \"71\": 2, \"103\": 1, \"1\": 1}, \"10\": {\"10\": 64, \"24\": 9, \"101\": 2, \"94\": 7, \"30\": 5, \"27\": 3, \"36\": 9, \"15\": 14, \"108\": 2, \"98\": 1, \"39\": 1, \"127\": 1}, \"50\": {\"50\": 12, \"107\": 1, \"87\": 2, \"99\": 1}, \"73\": {\"73\": 13, \"49\": 2, \"14\": 1, \"93\": 1, \"5\": 1, \"101\": 1, \"3\": 3, \"28\": 2}, \"115\": {\"115\": 11, \"40\": 2, \"122\": 1, \"107\": 1, \"3\": 1}, \"80\": {\"80\": 13, \"30\": 1, \"44\": 2}, \"19\": {\"109\": 1, \"83\": 4, \"52\": 2, \"103\": 1, \"129\": 1, \"48\": 1, \"72\": 2, \"19\": 2, \"93\": 1, \"111\": 2, \"40\": 1, \"98\": 4, \"122\": 2, \"11\": 1, \"127\": 1, \"27\": 1, \"118\": 1}, \"55\": {\"55\": 15, \"41\": 1}, \"72\": {\"64\": 1, \"72\": 20, \"30\": 1, \"5\": 3, \"43\": 1, \"11\": 1, \"40\": 1, \"87\": 1, \"16\": 1, \"107\": 2}, \"117\": {\"81\": 3, \"117\": 106, \"26\": 2, \"126\": 2, \"113\": 1, \"122\": 2}, \"81\": {\"81\": 23, \"117\": 1, \"63\": 1, \"80\": 1, \"26\": 1, \"69\": 1, \"123\": 3, \"78\": 1, \"18\": 2, \"39\": 1, \"113\": 1}, \"75\": {\"75\": 13, \"34\": 1, \"77\": 2}, \"98\": {\"98\": 104, \"127\": 1, \"41\": 2, \"30\": 1, \"24\": 1, \"101\": 1, \"111\": 2, \"25\": 1, \"88\": 1, \"95\": 1, \"70\": 1, \"52\": 2, \"124\": 2}, \"48\": {\"48\": 10, \"90\": 2, \"113\": 2, \"16\": 2}, \"129\": {\"103\": 1, \"129\": 8, \"110\": 2, \"11\": 3, \"93\": 1, \"32\": 1, \"87\": 2, \"124\": 1, \"127\": 2, \"98\": 2, \"10\": 1, \"107\": 1, \"5\": 2, \"34\": 1}, \"97\": {\"97\": 15, \"24\": 2, \"15\": 1, \"94\": 1, \"25\": 1}}, \"Wisig_1\": {\"105\": {\"105\": 71, \"84\": 1, \"40\": 6, \"114\": 2, \"1\": 2, \"46\": 2}, \"100\": {\"100\": 14, \"129\": 1, \"99\": 1}, \"112\": {\"112\": 16}, \"123\": {\"123\": 15, \"121\": 1}, \"13\": {\"95\": 1, \"13\": 11, \"11\": 2, \"18\": 2}, \"81\": {\"81\": 18, \"122\": 1, \"120\": 1, \"64\": 1, \"82\": 1, \"20\": 1, \"7\": 3, \"87\": 2}, \"124\": {\"124\": 108, \"8\": 3, \"93\": 5, \"117\": 1, \"19\": 3}, \"122\": {\"81\": 3, \"122\": 44, \"28\": 1, \"38\": 4, \"61\": 2, \"129\": 1, \"22\": 1, \"43\": 11, \"1\": 4, \"7\": 7, \"40\": 1, \"120\": 2, \"60\": 2, \"42\": 1, \"82\": 2, \"87\": 2}, \"111\": {\"112\": 1, \"111\": 109, \"71\": 4, \"12\": 4, \"26\": 1, \"102\": 1}, \"93\": {\"93\": 67, \"124\": 16, \"55\": 2, \"31\": 1, \"107\": 7, \"35\": 1, \"109\": 2, \"23\": 1, \"8\": 13, \"4\": 8, \"44\": 4, \"10\": 3, \"15\": 1, \"5\": 3, \"87\": 3, \"11\": 2, \"14\": 3, \"40\": 6, \"7\": 1, \"70\": 5, \"84\": 1, \"114\": 1, \"19\": 1, \"128\": 2, \"86\": 2, \"126\": 2}, \"106\": {\"106\": 92, \"0\": 3, \"70\": 2, \"127\": 6, \"98\": 6, \"110\": 2, \"88\": 1, \"12\": 2, \"6\": 1, \"24\": 1, \"113\": 1, \"39\": 1}, \"113\": {\"113\": 109, \"18\": 2, \"118\": 2, \"16\": 2, \"66\": 2, \"63\": 2, \"123\": 1, \"26\": 2, \"117\": 2}, \"95\": {\"95\": 28, \"26\": 2, \"69\": 1, \"11\": 1, \"119\": 1, \"117\": 2, \"118\": 1}, \"87\": {\"122\": 3, \"114\": 15, \"1\": 12, \"118\": 1, \"87\": 43, \"129\": 3, \"84\": 4, \"43\": 2, \"105\": 4, \"14\": 6, \"40\": 7, \"124\": 1, \"64\": 1, \"81\": 1, \"42\": 2, \"7\": 1, \"18\": 1, \"93\": 1}, \"86\": {\"93\": 1, \"86\": 28, \"27\": 1, \"45\": 2, \"83\": 2, \"10\": 1, \"31\": 1}, \"67\": {\"67\": 11, \"76\": 1, \"116\": 2, \"90\": 2}, \"85\": {\"85\": 29, \"107\": 3}, \"82\": {\"82\": 31, \"7\": 1, \"81\": 2, \"25\": 2}, \"115\": {\"115\": 10, \"7\": 1, \"120\": 1}, \"7\": {\"28\": 4, \"115\": 1, \"7\": 121, \"62\": 1, \"129\": 1, \"82\": 1, \"122\": 2, \"43\": 9, \"11\": 1, \"38\": 1}, \"44\": {\"44\": 70, \"8\": 1, \"70\": 1, \"87\": 1, \"73\": 1, \"14\": 1, \"126\": 1}, \"65\": {\"16\": 1, \"115\": 1, \"65\": 2, \"7\": 1, \"95\": 2, \"74\": 1, \"63\": 2, \"119\": 1, \"28\": 1}, \"129\": {\"65\": 2, \"5\": 2, \"19\": 1, \"129\": 7, \"62\": 1, \"23\": 1, \"27\": 1, \"99\": 1, \"3\": 2, \"73\": 1, \"83\": 1, \"33\": 1, \"8\": 3, \"7\": 1, \"11\": 2, \"101\": 1}, \"42\": {\"82\": 5, \"44\": 1, \"9\": 1, \"93\": 1, \"86\": 2, \"73\": 2, \"124\": 1, \"116\": 1, \"1\": 1, \"83\": 1, \"49\": 2, \"99\": 1, \"31\": 2, \"19\": 1, \"62\": 1, \"42\": 2, \"20\": 1, \"129\": 1, \"5\": 1}, \"28\": {\"10\": 1, \"28\": 16, \"74\": 1, \"11\": 1, \"24\": 1}, \"0\": {\"0\": 48, \"39\": 1, \"110\": 9, \"91\": 3, \"10\": 2, \"98\": 13, \"106\": 2, \"5\": 1, \"37\": 1, \"24\": 1, \"49\": 2, \"8\": 1}, \"10\": {\"10\": 49, \"85\": 4, \"91\": 2, \"98\": 4, \"108\": 2, \"44\": 2, \"35\": 1, \"9\": 2, \"107\": 15, \"93\": 2, \"70\": 7, \"126\": 13, \"5\": 5, \"0\": 3, \"106\": 1, \"86\": 2, \"37\": 1, \"31\": 1, \"8\": 1, \"4\": 2, \"124\": 1}, \"76\": {\"76\": 9, \"62\": 1, \"66\": 1, \"33\": 1, \"126\": 1, \"3\": 1, \"80\": 2}, \"88\": {\"88\": 70, \"6\": 1, \"109\": 2, \"58\": 1, \"30\": 1, \"27\": 9, \"129\": 1, \"94\": 9, \"15\": 5, \"36\": 12, \"24\": 8, \"108\": 2, \"101\": 2, \"12\": 2, \"126\": 1}, \"29\": {\"29\": 24, \"75\": 1, \"72\": 2, \"128\": 1}, \"16\": {\"16\": 77, \"118\": 14, \"26\": 8, \"63\": 1, \"117\": 4, \"39\": 1, \"113\": 1, \"18\": 2}, \"41\": {\"41\": 15, \"4\": 1}, \"27\": {\"27\": 77, \"94\": 3, \"88\": 4, \"70\": 1, \"15\": 4, \"30\": 2, \"110\": 1}, \"33\": {\"33\": 93, \"116\": 2, \"62\": 8, \"3\": 2, \"90\": 9, \"102\": 3, \"50\": 1, \"121\": 1, \"87\": 1}, \"75\": {\"75\": 15, \"53\": 1}, \"48\": {\"48\": 12}, \"56\": {\"75\": 2, \"56\": 5, \"27\": 1, \"98\": 2, \"91\": 2}, \"9\": {\"9\": 28, \"49\": 1, \"23\": 2, \"26\": 1}, \"1\": {\"1\": 104, \"42\": 2, \"87\": 8, \"14\": 2, \"84\": 7, \"122\": 1, \"117\": 1, \"43\": 1}, \"39\": {\"39\": 41, \"65\": 1, \"117\": 13, \"119\": 1, \"18\": 22, \"25\": 1, \"95\": 3, \"26\": 4, \"16\": 7, \"11\": 1, \"118\": 2, \"33\": 3, \"2\": 1, \"13\": 2, \"70\": 1, \"109\": 1}, \"50\": {\"39\": 2, \"50\": 7, \"90\": 2, \"4\": 1, \"116\": 1, \"61\": 1, \"33\": 1, \"10\": 1}, \"99\": {\"99\": 17, \"100\": 2, \"39\": 1, \"82\": 2, \"3\": 1, \"116\": 1}, \"90\": {\"67\": 1, \"90\": 113, \"116\": 1, \"62\": 5, \"33\": 1, \"102\": 1}, \"45\": {\"78\": 1, \"45\": 6, \"112\": 1, \"82\": 1, \"64\": 2, \"39\": 1}, \"5\": {\"5\": 80, \"128\": 1, \"10\": 4, \"93\": 2, \"124\": 1}, \"128\": {\"53\": 2, \"119\": 2, \"28\": 1, \"98\": 2, \"68\": 1, \"80\": 1, \"43\": 1, \"128\": 3, \"7\": 3, \"74\": 1, \"47\": 1, \"72\": 1, \"115\": 1, \"81\": 1, \"103\": 1, \"11\": 1, \"106\": 1}, \"2\": {\"7\": 1, \"90\": 1, \"76\": 1, \"2\": 10, \"74\": 2, \"82\": 2, \"66\": 1, \"60\": 1, \"18\": 1, \"33\": 2, \"119\": 1, \"25\": 1, \"97\": 1, \"50\": 1, \"39\": 1, \"129\": 1, \"100\": 2, \"118\": 1, \"16\": 1}, \"53\": {\"53\": 18, \"32\": 1, \"75\": 1}, \"104\": {\"104\": 12, \"34\": 2, \"73\": 2}, \"32\": {\"53\": 3, \"72\": 1, \"52\": 1, \"104\": 1, \"32\": 12, \"71\": 1, \"58\": 3, \"91\": 3, \"106\": 2, \"125\": 1, \"110\": 2, \"101\": 2}, \"92\": {\"92\": 28}, \"78\": {\"104\": 1, \"7\": 1, \"1\": 2, \"115\": 1, \"78\": 3, \"80\": 1, \"129\": 2, \"74\": 2, \"22\": 1, \"81\": 1, \"110\": 1}, \"19\": {\"86\": 3, \"64\": 2, \"1\": 3, \"84\": 1, \"9\": 1, \"14\": 2, \"19\": 5, \"81\": 1, \"89\": 2, \"42\": 2, \"124\": 2, \"91\": 1, \"0\": 1, \"129\": 2}, \"120\": {\"120\": 15, \"74\": 1, \"47\": 1, \"115\": 1, \"81\": 2}, \"43\": {\"64\": 2, \"81\": 2, \"57\": 1, \"43\": 57, \"122\": 13, \"14\": 1, \"25\": 1, \"114\": 3, \"1\": 12, \"109\": 2, \"7\": 15, \"84\": 6, \"40\": 2, \"24\": 1, \"106\": 1, \"28\": 1, \"38\": 1, \"82\": 1, \"80\": 1, \"113\": 1, \"93\": 2, \"39\": 1, \"88\": 1}, \"74\": {\"74\": 15, \"82\": 1}, \"11\": {\"28\": 1, \"11\": 80, \"115\": 1, \"78\": 1, \"50\": 3, \"3\": 9, \"33\": 6, \"117\": 1, \"122\": 1, \"90\": 8, \"108\": 1, \"62\": 3, \"7\": 7, \"74\": 1, \"119\": 1, \"65\": 1, \"26\": 1, \"82\": 1, \"43\": 1, \"109\": 2}, \"26\": {\"26\": 83, \"13\": 3, \"95\": 3, \"119\": 1, \"118\": 11, \"18\": 5, \"117\": 13, \"16\": 6, \"69\": 3, \"39\": 4}, \"125\": {\"125\": 131, \"112\": 1}, \"64\": {\"64\": 15, \"20\": 1}, \"127\": {\"53\": 1, \"127\": 89, \"58\": 1, \"15\": 1, \"111\": 4, \"106\": 1, \"71\": 3, \"68\": 3, \"75\": 1, \"12\": 1, \"91\": 1, \"69\": 1, \"94\": 1}, \"83\": {\"83\": 19, \"86\": 2, \"114\": 2, \"30\": 1, \"8\": 2, \"124\": 2}, \"118\": {\"118\": 35, \"13\": 1, \"16\": 12, \"116\": 2, \"26\": 16, \"18\": 6, \"95\": 6, \"121\": 1, \"69\": 1, \"117\": 2, \"109\": 1, \"39\": 1}, \"103\": {\"103\": 11, \"29\": 2, \"9\": 1, \"104\": 1, \"71\": 1}, \"55\": {\"55\": 12}, \"110\": {\"0\": 10, \"110\": 87, \"103\": 1, \"98\": 20, \"4\": 1, \"12\": 2, \"106\": 5}, \"30\": {\"83\": 1, \"30\": 20, \"70\": 1, \"52\": 3, \"94\": 3, \"53\": 2, \"15\": 4, \"21\": 1, \"88\": 2, \"24\": 3, \"27\": 2, \"11\": 1, \"59\": 2, \"72\": 1, \"129\": 1, \"10\": 2, \"12\": 2, \"14\": 1}, \"51\": {\"51\": 16}, \"6\": {\"110\": 3, \"6\": 12, \"75\": 2, \"52\": 1, \"68\": 1, \"127\": 2, \"106\": 2, \"27\": 1, \"51\": 1, \"34\": 2, \"89\": 2, \"111\": 1, \"98\": 1, \"88\": 1}, \"96\": {\"60\": 1, \"1\": 1, \"96\": 11, \"70\": 1, \"79\": 1, \"20\": 2, \"12\": 1, \"76\": 2}, \"114\": {\"114\": 123, \"87\": 4, \"121\": 1, \"57\": 3, \"105\": 3, \"84\": 7, \"129\": 1, \"122\": 1, \"39\": 1}, \"69\": {\"69\": 94, \"95\": 1, \"39\": 1, \"90\": 1, \"117\": 2, \"76\": 2, \"62\": 1, \"118\": 1, \"102\": 2, \"33\": 2, \"18\": 1}, \"60\": {\"60\": 2, \"69\": 1, \"34\": 1, \"13\": 1, \"66\": 1, \"3\": 1, \"19\": 1, \"81\": 1, \"16\": 1, \"42\": 1, \"2\": 1, \"95\": 1, \"83\": 1, \"26\": 1, \"87\": 1}, \"94\": {\"94\": 60, \"27\": 8, \"89\": 1, \"15\": 3, \"88\": 7, \"6\": 2, \"36\": 2, \"30\": 5, \"101\": 1, \"24\": 1, \"14\": 1, \"98\": 1}, \"79\": {\"1\": 2, \"79\": 10}, \"126\": {\"126\": 93, \"73\": 2, \"12\": 1, \"31\": 2, \"104\": 1, \"70\": 6, \"8\": 6, \"109\": 1, \"93\": 2, \"10\": 2, \"124\": 4, \"39\": 1, \"79\": 1, \"83\": 1, \"14\": 1, \"44\": 9, \"1\": 1}, \"68\": {\"68\": 15, \"127\": 1}, \"72\": {\"72\": 26, \"75\": 1, \"29\": 3, \"128\": 2}, \"63\": {\"63\": 15, \"95\": 1}, \"22\": {\"22\": 13, \"1\": 2, \"6\": 1}, \"121\": {\"63\": 2, \"121\": 22, \"16\": 2, \"123\": 3, \"117\": 2, \"15\": 1}, \"71\": {\"111\": 6, \"6\": 1, \"71\": 79, \"24\": 2, \"16\": 1, \"53\": 1, \"101\": 2, \"12\": 8, \"127\": 1, \"43\": 1, \"125\": 1, \"52\": 1, \"106\": 1, \"110\": 1, \"102\": 1, \"113\": 1}, \"54\": {\"54\": 13, \"19\": 1, \"93\": 1, \"10\": 1}, \"102\": {\"102\": 106, \"113\": 1, \"66\": 1, \"69\": 3, \"33\": 4, \"62\": 3, \"2\": 2}, \"73\": {\"73\": 15, \"29\": 1, \"58\": 1, \"49\": 2, \"71\": 1}, \"38\": {\"38\": 12, \"23\": 1, \"122\": 1, \"114\": 1, \"28\": 1}, \"4\": {\"4\": 86, \"86\": 2, \"105\": 2, \"113\": 1, \"107\": 3, \"34\": 1, \"93\": 3, \"118\": 2}, \"52\": {\"52\": 20}, \"70\": {\"91\": 1, \"86\": 1, \"70\": 36, \"126\": 11, \"34\": 1, \"89\": 3, \"9\": 5, \"44\": 5, \"23\": 1, \"83\": 3, \"124\": 19, \"128\": 2, \"10\": 5, \"5\": 5, \"109\": 2, \"118\": 1, \"14\": 1, \"8\": 7, \"108\": 2, \"93\": 8, \"103\": 1, \"12\": 4, \"98\": 1, \"125\": 1, \"107\": 2}, \"91\": {\"91\": 14, \"17\": 1, \"53\": 1, \"35\": 1, \"127\": 5, \"32\": 1, \"46\": 2, \"0\": 1, \"12\": 1, \"89\": 1}, \"77\": {\"77\": 12, \"34\": 1, \"117\": 1, \"91\": 2}, \"20\": {\"20\": 14, \"64\": 2}, \"59\": {\"59\": 12}, \"40\": {\"40\": 120, \"87\": 2, \"118\": 1, \"105\": 4, \"114\": 4, \"84\": 2, \"28\": 1, \"41\": 1, \"102\": 1}, \"98\": {\"46\": 1, \"98\": 89, \"110\": 11, \"0\": 4, \"106\": 2, \"91\": 1}, \"46\": {\"40\": 1, \"59\": 3, \"94\": 1, \"46\": 1, \"3\": 1, \"71\": 1, \"75\": 1, \"114\": 1, \"93\": 1, \"58\": 1}, \"34\": {\"14\": 2, \"72\": 1, \"77\": 4, \"34\": 10, \"89\": 1, \"81\": 1, \"98\": 1, \"93\": 3, \"37\": 2, \"84\": 2, \"114\": 1, \"124\": 1, \"68\": 1, \"53\": 1, \"83\": 1}, \"24\": {\"27\": 8, \"24\": 53, \"113\": 2, \"30\": 3, \"101\": 2, \"36\": 1, \"88\": 9, \"94\": 4, \"15\": 6, \"71\": 1, \"97\": 2, \"39\": 1}, \"62\": {\"62\": 70, \"66\": 1, \"2\": 1, \"116\": 4, \"90\": 14, \"43\": 1, \"102\": 6, \"33\": 16, \"11\": 1, \"7\": 1, \"3\": 2, \"125\": 1, \"113\": 1, \"26\": 1}, \"14\": {\"34\": 2, \"14\": 80, \"93\": 3, \"8\": 1, \"87\": 1, \"84\": 3, \"42\": 2, \"38\": 1, \"122\": 1, \"1\": 1, \"43\": 1}, \"12\": {\"112\": 2, \"12\": 70, \"106\": 5, \"111\": 10, \"71\": 4, \"101\": 1, \"0\": 1, \"47\": 1, \"127\": 1, \"75\": 3, \"121\": 1, \"113\": 1, \"39\": 1, \"98\": 2, \"24\": 1}, \"84\": {\"84\": 102, \"87\": 3, \"114\": 14, \"105\": 1, \"14\": 5, \"107\": 1, \"1\": 3, \"40\": 2, \"109\": 1, \"8\": 1, \"39\": 1}, \"37\": {\"37\": 16}, \"97\": {\"27\": 1, \"32\": 1, \"12\": 2, \"97\": 8, \"101\": 2, \"15\": 2, \"29\": 2, \"127\": 1, \"49\": 1}, \"57\": {\"57\": 11, \"39\": 1}, \"49\": {\"32\": 1, \"49\": 5, \"101\": 2, \"10\": 1, \"9\": 1, \"124\": 2, \"12\": 1, \"31\": 3, \"58\": 1, \"23\": 1, \"71\": 2}, \"17\": {\"98\": 1, \"49\": 1, \"77\": 2, \"91\": 2, \"17\": 6, \"2\": 1, \"106\": 1, \"15\": 1, \"0\": 1}, \"109\": {\"1\": 10, \"39\": 1, \"122\": 1, \"70\": 3, \"109\": 60, \"82\": 2, \"3\": 3, \"14\": 3, \"87\": 1, \"5\": 1, \"8\": 2, \"126\": 3, \"11\": 3, \"84\": 3, \"25\": 2, \"71\": 2, \"21\": 1, \"113\": 1, \"43\": 4}, \"80\": {\"7\": 1, \"80\": 13, \"43\": 2}, \"66\": {\"66\": 15, \"62\": 1}, \"101\": {\"101\": 120, \"15\": 2, \"12\": 1, \"117\": 1}, \"89\": {\"89\": 33, \"23\": 2, \"1\": 1}, \"31\": {\"89\": 2, \"31\": 10, \"124\": 1, \"10\": 2, \"23\": 1}, \"21\": {\"94\": 1, \"21\": 18, \"1\": 5, \"8\": 1, \"15\": 1, \"44\": 1, \"12\": 1, \"87\": 2, \"106\": 1, \"39\": 2, \"14\": 1, \"71\": 1, \"126\": 1, \"122\": 1, \"108\": 1, \"116\": 1, \"84\": 1}, \"23\": {\"100\": 1, \"76\": 1, \"62\": 1, \"72\": 1, \"18\": 1, \"110\": 2, \"23\": 1, \"98\": 1, \"69\": 1, \"11\": 1, \"0\": 2, \"29\": 3, \"50\": 1, \"55\": 1, \"44\": 1, \"2\": 1, \"91\": 1, \"82\": 1, \"66\": 1, \"49\": 1}, \"25\": {\"25\": 8, \"82\": 2, \"43\": 2, \"30\": 1, \"74\": 1, \"45\": 2}, \"107\": {\"107\": 101, \"5\": 2, \"113\": 1, \"4\": 3, \"70\": 1, \"110\": 1, \"94\": 1, \"10\": 2}, \"3\": {\"60\": 2, \"3\": 77, \"24\": 1, \"126\": 1, \"88\": 2, \"33\": 3, \"62\": 1, \"11\": 1}, \"61\": {\"61\": 6, \"116\": 2, \"66\": 1, \"32\": 1, \"50\": 1, \"2\": 1}, \"117\": {\"117\": 99, \"26\": 14, \"118\": 1, \"16\": 5, \"18\": 2, \"95\": 4, \"39\": 1}, \"119\": {\"119\": 12, \"33\": 2, \"90\": 1, \"110\": 1}, \"58\": {\"58\": 10, \"71\": 1, \"46\": 1}, \"47\": {\"47\": 12}, \"116\": {\"116\": 18, \"33\": 8, \"62\": 3, \"102\": 1, \"67\": 1, \"3\": 1}, \"18\": {\"18\": 95, \"16\": 5, \"118\": 5, \"117\": 8, \"26\": 6, \"113\": 2, \"39\": 2, \"69\": 1}, \"36\": {\"36\": 111, \"118\": 1, \"6\": 2, \"88\": 2, \"39\": 1, \"97\": 2, \"24\": 2, \"113\": 1}, \"108\": {\"17\": 2, \"29\": 1, \"88\": 4, \"108\": 65, \"101\": 16, \"12\": 3, \"126\": 2, \"127\": 2, \"36\": 2, \"70\": 1, \"109\": 2, \"47\": 2, \"103\": 1, \"111\": 3, \"97\": 1, \"53\": 1, \"21\": 1, \"24\": 2, \"106\": 1}, \"15\": {\"15\": 75, \"111\": 3, \"125\": 2, \"101\": 3, \"71\": 3, \"27\": 4, \"127\": 3, \"88\": 2, \"112\": 1, \"12\": 3, \"94\": 4, \"117\": 1}, \"8\": {\"8\": 51, \"93\": 19, \"42\": 1, \"10\": 3, \"14\": 5, \"4\": 5, \"83\": 1, \"5\": 6, \"124\": 8, \"70\": 1, \"44\": 3, \"87\": 1, \"84\": 4, \"126\": 3, \"105\": 1, \"43\": 1, \"107\": 1}, \"35\": {\"35\": 6, \"10\": 3, \"89\": 1, \"42\": 1, \"34\": 1}}, \"Wisig_2\": {\"3\": {\"3\": 96, \"66\": 1, \"53\": 1, \"73\": 6, \"107\": 3, \"5\": 6, \"71\": 1, \"7\": 5, \"105\": 2, \"124\": 2, \"26\": 1, \"28\": 1, \"32\": 2, \"85\": 1, \"39\": 2, \"70\": 1, \"117\": 1}, \"127\": {\"127\": 104, \"21\": 1, \"12\": 5, \"98\": 4, \"124\": 1, \"122\": 1, \"91\": 1, \"110\": 2, \"111\": 1}, \"58\": {\"58\": 19, \"101\": 1}, \"114\": {\"86\": 4, \"114\": 90, \"32\": 2, \"71\": 5, \"4\": 4, \"5\": 3, \"46\": 1, \"54\": 1, \"21\": 1, \"7\": 1}, \"111\": {\"111\": 133, \"127\": 5, \"114\": 2, \"15\": 1, \"93\": 1, \"30\": 2}, \"105\": {\"105\": 101, \"40\": 22, \"55\": 1, \"74\": 1, \"14\": 1, \"122\": 1, \"22\": 1, \"73\": 1, \"1\": 1, \"7\": 1, \"33\": 1}, \"118\": {\"114\": 1, \"118\": 27, \"92\": 3, \"89\": 1, \"72\": 1, \"84\": 5, \"109\": 1, \"33\": 6, \"16\": 3, \"14\": 1, \"90\": 1, \"43\": 1, \"93\": 1, \"31\": 1, \"38\": 1, \"116\": 2, \"96\": 1, \"55\": 1, \"94\": 1, \"62\": 3, \"119\": 2, \"13\": 2, \"36\": 1, \"82\": 1}, \"23\": {\"86\": 1, \"99\": 2, \"129\": 1, \"117\": 5, \"113\": 5, \"11\": 4, \"122\": 3, \"78\": 1, \"4\": 1, \"23\": 6, \"2\": 2, \"18\": 2, \"10\": 1, \"126\": 1, \"26\": 2, \"112\": 1, \"34\": 2, \"87\": 1, \"124\": 1, \"44\": 1, \"85\": 1}, \"21\": {\"21\": 40, \"118\": 2, \"70\": 1, \"24\": 3, \"85\": 1, \"27\": 1}, \"20\": {\"20\": 13, \"116\": 2, \"21\": 1}, \"75\": {\"75\": 11, \"49\": 2, \"1\": 1, \"125\": 2}, \"86\": {\"86\": 26, \"114\": 4, \"19\": 1, \"32\": 1}, \"60\": {\"118\": 2, \"14\": 1, \"116\": 2, \"60\": 6, \"78\": 1, \"89\": 2, \"28\": 2, \"62\": 1, \"88\": 1, \"82\": 2, \"3\": 1, \"44\": 1, \"38\": 1, \"46\": 1, \"43\": 1, \"81\": 1, \"36\": 1, \"84\": 1}, \"69\": {\"69\": 109, \"117\": 3, \"72\": 3, \"102\": 4, \"90\": 5, \"121\": 1, \"18\": 3, \"88\": 1, \"43\": 1, \"26\": 2, \"57\": 1, \"31\": 1, \"2\": 1, \"109\": 1, \"94\": 1, \"39\": 2, \"62\": 1}, \"99\": {\"99\": 27, \"26\": 2, \"85\": 1, \"2\": 2}, \"14\": {\"14\": 23, \"78\": 2, \"55\": 2, \"45\": 2, \"116\": 2, \"72\": 2, \"61\": 2, \"96\": 1, \"110\": 1, \"115\": 2, \"107\": 1, \"40\": 1, \"37\": 2, \"71\": 1, \"28\": 2, \"126\": 1, \"21\": 1}, \"25\": {\"25\": 15, \"15\": 1}, \"52\": {\"30\": 2, \"51\": 4, \"52\": 14}, \"47\": {\"47\": 7, \"29\": 1, \"101\": 1, \"118\": 1, \"122\": 1, \"30\": 1}, \"48\": {\"48\": 16, \"72\": 1, \"15\": 1, \"90\": 2}, \"27\": {\"27\": 43, \"20\": 1, \"0\": 2, \"87\": 1, \"15\": 2, \"70\": 1, \"24\": 4, \"11\": 1, \"36\": 5, \"39\": 1, \"8\": 1, \"18\": 1, \"113\": 1, \"101\": 3, \"126\": 1}, \"78\": {\"78\": 10, \"33\": 1, \"66\": 1, \"115\": 3, \"126\": 3, \"64\": 2, \"49\": 1, \"50\": 1, \"61\": 1, \"23\": 1, \"88\": 3, \"43\": 2, \"40\": 1, \"121\": 1, \"10\": 1, \"44\": 2, \"118\": 1, \"76\": 2, \"37\": 1, \"46\": 1, \"1\": 4, \"105\": 2, \"113\": 1, \"70\": 1, \"62\": 1}, \"8\": {\"8\": 70, \"52\": 1, \"127\": 9, \"108\": 8, \"77\": 2, \"29\": 3, \"128\": 2, \"5\": 2, \"12\": 7, \"126\": 2, \"98\": 4, \"124\": 1, \"16\": 1, \"111\": 3, \"101\": 2, \"42\": 1, \"129\": 1, \"11\": 2, \"88\": 1}, \"90\": {\"90\": 129, \"99\": 1, \"102\": 21, \"31\": 3, \"89\": 2, \"33\": 1, \"26\": 1, \"116\": 1, \"117\": 1}, \"103\": {\"103\": 16}, \"120\": {\"120\": 18, \"117\": 1, \"121\": 1}, \"96\": {\"96\": 12, \"119\": 2, \"93\": 4, \"13\": 2}, \"30\": {\"30\": 55, \"6\": 3, \"101\": 2, \"52\": 2, \"125\": 13, \"106\": 10, \"0\": 5, \"111\": 1, \"8\": 1, \"15\": 1, \"108\": 2, \"16\": 1, \"75\": 1, \"11\": 1, \"54\": 1, \"83\": 1, \"24\": 2, \"10\": 1, \"43\": 1}, \"33\": {\"33\": 125, \"84\": 8, \"92\": 2, \"89\": 1, \"62\": 4, \"118\": 2, \"67\": 1, \"116\": 1, \"93\": 1, \"90\": 1}, \"35\": {\"103\": 2, \"35\": 10}, \"108\": {\"108\": 58, \"112\": 2, \"29\": 4, \"124\": 4, \"8\": 16, \"98\": 5, \"0\": 1, \"127\": 10, \"12\": 6, \"111\": 6, \"101\": 2, \"52\": 1, \"88\": 1}, \"112\": {\"112\": 14, \"124\": 2}, \"40\": {\"105\": 21, \"40\": 87, \"107\": 2, \"28\": 1, \"62\": 3, \"21\": 1, \"10\": 1, \"108\": 2, \"94\": 1, \"3\": 4, \"84\": 1, \"70\": 3, \"1\": 2, \"50\": 1, \"14\": 2, \"7\": 3, \"5\": 1, \"44\": 1, \"26\": 1, \"43\": 1, \"18\": 1}, \"102\": {\"102\": 96, \"90\": 13, \"13\": 1, \"30\": 1, \"122\": 1, \"72\": 1, \"26\": 2, \"70\": 1}, \"56\": {\"7\": 2, \"56\": 10}, \"93\": {\"87\": 6, \"93\": 96, \"96\": 2, \"82\": 1, \"118\": 1, \"84\": 3, \"16\": 17, \"88\": 4, \"90\": 1, \"1\": 1, \"39\": 1, \"109\": 2, \"33\": 1}, \"68\": {\"68\": 12, \"54\": 1, \"42\": 2, \"14\": 1}, \"70\": {\"70\": 41, \"105\": 6, \"43\": 12, \"23\": 1, \"28\": 1, \"118\": 2, \"82\": 2, \"44\": 6, \"126\": 6, \"14\": 2, \"109\": 4, \"1\": 10, \"16\": 4, \"87\": 1, \"88\": 8, \"62\": 2, \"93\": 1, \"3\": 1, \"40\": 5, \"117\": 1, \"45\": 1, \"78\": 4, \"113\": 1, \"26\": 2}, \"7\": {\"71\": 4, \"56\": 2, \"4\": 15, \"7\": 83, \"19\": 1, \"104\": 2, \"122\": 3, \"107\": 1, \"5\": 3, \"3\": 2, \"32\": 1, \"92\": 1, \"66\": 2, \"110\": 1, \"114\": 3}, \"87\": {\"93\": 7, \"60\": 1, \"116\": 2, \"87\": 28, \"48\": 1, \"88\": 2, \"100\": 1, \"89\": 3, \"83\": 1, \"13\": 1, \"92\": 2, \"62\": 1, \"10\": 1, \"33\": 8, \"84\": 6, \"90\": 9, \"102\": 10, \"16\": 4, \"109\": 11, \"69\": 2, \"44\": 1, \"118\": 1, \"39\": 2, \"43\": 1, \"113\": 1, \"26\": 1, \"1\": 1, \"2\": 1, \"40\": 1, \"70\": 1}, \"54\": {\"40\": 1, \"54\": 18, \"91\": 1}, \"71\": {\"71\": 61, \"4\": 8, \"85\": 1, \"49\": 1, \"107\": 3, \"3\": 2, \"114\": 4, \"11\": 1, \"19\": 2, \"5\": 6, \"88\": 1, \"36\": 1, \"7\": 3, \"39\": 2, \"122\": 2, \"21\": 1, \"98\": 1}, \"80\": {\"80\": 16}, \"18\": {\"18\": 92, \"65\": 2, \"26\": 2, \"121\": 2, \"117\": 16, \"33\": 4, \"69\": 4}, \"101\": {\"101\": 99, \"126\": 1, \"15\": 11, \"106\": 2, \"94\": 3, \"125\": 2, \"0\": 2, \"111\": 2}, \"92\": {\"92\": 25, \"71\": 1, \"13\": 2}, \"32\": {\"128\": 1, \"32\": 18, \"28\": 2, \"86\": 2, \"122\": 2, \"3\": 3, \"107\": 2, \"74\": 1, \"34\": 1, \"37\": 1, \"71\": 1, \"58\": 1, \"7\": 1}, \"128\": {\"51\": 3, \"30\": 2, \"66\": 2, \"128\": 2, \"14\": 3, \"107\": 4, \"127\": 1, \"104\": 2, \"22\": 1, \"5\": 1, \"64\": 1, \"37\": 2}, \"6\": {\"51\": 2, \"6\": 19, \"15\": 1, \"9\": 2, \"106\": 3, \"75\": 1, \"103\": 1, \"101\": 2, \"35\": 1}, \"51\": {\"6\": 2, \"51\": 11, \"8\": 1, \"15\": 1, \"125\": 1, \"0\": 1, \"30\": 2, \"10\": 1}, \"85\": {\"85\": 20, \"115\": 2, \"124\": 1, \"128\": 1, \"23\": 1, \"10\": 1, \"114\": 1, \"74\": 1, \"32\": 2, \"110\": 2}, \"46\": {\"22\": 1, \"128\": 1, \"46\": 12, \"45\": 2}, \"22\": {\"22\": 18, \"78\": 1, \"64\": 1}, \"1\": {\"1\": 99, \"78\": 3, \"23\": 1, \"61\": 2, \"43\": 8, \"33\": 1, \"18\": 1, \"62\": 1, \"44\": 2, \"100\": 1, \"16\": 1, \"87\": 1, \"126\": 1}, \"37\": {\"37\": 15, \"66\": 1}, \"44\": {\"44\": 91, \"109\": 1, \"70\": 1, \"5\": 2, \"0\": 1, \"46\": 1, \"60\": 2, \"23\": 1}, \"24\": {\"42\": 1, \"9\": 4, \"24\": 60, \"15\": 14, \"0\": 4, \"127\": 1, \"27\": 2, \"101\": 4, \"106\": 3, \"62\": 1, \"94\": 3, \"36\": 2, \"39\": 2, \"26\": 1, \"108\": 1, \"30\": 1, \"12\": 1, \"21\": 1, \"97\": 1, \"125\": 3, \"122\": 1, \"18\": 1}, \"9\": {\"9\": 29, \"6\": 1, \"111\": 2}, \"116\": {\"60\": 1, \"116\": 15, \"82\": 6, \"102\": 1, \"126\": 1, \"31\": 1, \"84\": 2, \"16\": 1}, \"64\": {\"64\": 10, \"50\": 2, \"22\": 3, \"80\": 1}, \"129\": {\"129\": 19, \"112\": 2, \"123\": 3, \"5\": 1, \"110\": 1, \"86\": 1, \"122\": 2, \"100\": 1, \"3\": 1, \"124\": 1}, \"42\": {\"47\": 2, \"42\": 9, \"97\": 1, \"69\": 1, \"122\": 2, \"110\": 1, \"0\": 1, \"30\": 2, \"46\": 1, \"5\": 1, \"8\": 1, \"3\": 1, \"77\": 1, \"123\": 1, \"66\": 1, \"125\": 1, \"71\": 1}, \"117\": {\"117\": 93, \"18\": 14, \"99\": 1, \"121\": 1, \"69\": 2, \"39\": 2, \"93\": 1, \"65\": 2, \"113\": 2, \"26\": 2}, \"88\": {\"61\": 1, \"83\": 2, \"88\": 41, \"109\": 7, \"43\": 7, \"62\": 2, \"36\": 2, \"44\": 3, \"118\": 1, \"1\": 8, \"17\": 2, \"16\": 11, \"70\": 7, \"19\": 1, \"93\": 8, \"12\": 1, \"0\": 1, \"87\": 1, \"105\": 1, \"84\": 2, \"67\": 2, \"14\": 2, \"45\": 1, \"71\": 1, \"33\": 2, \"10\": 1, \"117\": 4, \"126\": 1, \"26\": 1}, \"31\": {\"31\": 18, \"33\": 1, \"69\": 1}, \"113\": {\"113\": 62, \"117\": 2, \"18\": 4, \"65\": 1, \"63\": 1, \"23\": 2}, \"38\": {\"38\": 16}, \"83\": {\"83\": 28, \"101\": 1, \"46\": 1, \"118\": 2, \"119\": 2, \"13\": 1, \"125\": 1, \"82\": 3, \"1\": 1}, \"49\": {\"97\": 2, \"79\": 2, \"51\": 2, \"64\": 1, \"49\": 6, \"5\": 2, \"129\": 2, \"128\": 1, \"91\": 1, \"106\": 1, \"3\": 1, \"86\": 1, \"88\": 1, \"30\": 1}, \"97\": {\"101\": 2, \"97\": 12, \"0\": 5, \"127\": 1}, \"76\": {\"76\": 12, \"80\": 2, \"67\": 2}, \"29\": {\"29\": 28, \"98\": 2, \"49\": 1, \"8\": 1}, \"61\": {\"76\": 2, \"61\": 12, \"43\": 2, \"5\": 1, \"115\": 1, \"82\": 2}, \"125\": {\"125\": 145, \"102\": 1, \"79\": 2}, \"126\": {\"126\": 80, \"57\": 1, \"44\": 9, \"121\": 1, \"88\": 1, \"62\": 3, \"19\": 1, \"43\": 1, \"5\": 1, \"70\": 10, \"122\": 3, \"71\": 1, \"108\": 1, \"77\": 1, \"129\": 1, \"85\": 1, \"53\": 1, \"10\": 1, \"3\": 1, \"16\": 1}, \"55\": {\"55\": 15, \"62\": 1}, \"0\": {\"97\": 3, \"0\": 61, \"27\": 1, \"101\": 4, \"125\": 2, \"8\": 2, \"111\": 3, \"106\": 16, \"30\": 6, \"15\": 2, \"92\": 1, \"108\": 1, \"42\": 1, \"58\": 2, \"21\": 1, \"33\": 1, \"88\": 1}, \"15\": {\"15\": 90, \"94\": 5, \"24\": 4, \"40\": 1, \"101\": 14, \"0\": 1, \"30\": 1, \"111\": 2, \"58\": 2}, \"26\": {\"26\": 108, \"18\": 5, \"99\": 2, \"117\": 7, \"39\": 5, \"121\": 3, \"40\": 1, \"2\": 2, \"57\": 1, \"0\": 1, \"93\": 1, \"69\": 2}, \"63\": {\"63\": 20}, \"57\": {\"57\": 19, \"26\": 1}, \"39\": {\"39\": 44, \"31\": 1, \"27\": 1, \"13\": 1, \"18\": 4, \"102\": 4, \"109\": 6, \"23\": 1, \"69\": 13, \"87\": 1, \"16\": 2, \"26\": 16, \"88\": 3, \"90\": 2, \"93\": 1, \"70\": 4, \"57\": 3, \"20\": 1, \"99\": 1, \"84\": 1, \"2\": 1, \"117\": 1}, \"62\": {\"62\": 108, \"83\": 4, \"55\": 3, \"39\": 1, \"43\": 4, \"40\": 2, \"33\": 9, \"70\": 1, \"36\": 1, \"84\": 2, \"119\": 1, \"82\": 2, \"88\": 1, \"101\": 1}, \"82\": {\"82\": 33, \"87\": 1, \"53\": 1, \"83\": 1}, \"11\": {\"11\": 45, \"29\": 3, \"70\": 1, \"129\": 1, \"98\": 1, \"59\": 3, \"12\": 1, \"24\": 1, \"122\": 6, \"86\": 1, \"34\": 1, \"127\": 1, \"128\": 2, \"112\": 1, \"23\": 1, \"124\": 7, \"10\": 1, \"8\": 2, \"108\": 1}, \"4\": {\"4\": 70, \"41\": 1, \"95\": 1, \"71\": 5, \"107\": 2, \"7\": 6, \"53\": 1, \"114\": 1, \"5\": 1}, \"41\": {\"41\": 19, \"34\": 1}, \"72\": {\"90\": 1, \"72\": 16, \"48\": 2, \"69\": 2, \"93\": 2, \"14\": 1, \"13\": 1, \"31\": 1, \"118\": 2}, \"16\": {\"82\": 3, \"16\": 72, \"24\": 1, \"93\": 13, \"84\": 3, \"102\": 3, \"87\": 8, \"33\": 10, \"90\": 3, \"39\": 1, \"110\": 1, \"67\": 1, \"119\": 1, \"83\": 1, \"118\": 2, \"1\": 1}, \"81\": {\"57\": 2, \"81\": 17, \"65\": 1, \"54\": 2, \"20\": 2}, \"67\": {\"67\": 10, \"84\": 2, \"55\": 2, \"76\": 1, \"80\": 1}, \"123\": {\"123\": 15, \"129\": 1}, \"66\": {\"66\": 10, \"56\": 1, \"115\": 2, \"28\": 2, \"32\": 2, \"14\": 1, \"122\": 1, \"71\": 1}, \"36\": {\"36\": 95, \"1\": 1, \"9\": 3, \"96\": 1, \"43\": 1, \"24\": 7, \"27\": 7, \"6\": 3, \"94\": 3, \"39\": 1, \"101\": 1, \"121\": 1, \"17\": 1, \"18\": 1, \"65\": 1, \"69\": 1}, \"115\": {\"115\": 9, \"40\": 2, \"21\": 1}, \"77\": {\"77\": 11, \"106\": 2, \"79\": 1, \"128\": 2}, \"119\": {\"119\": 18, \"82\": 1, \"16\": 1}, \"65\": {\"120\": 2, \"65\": 14, \"121\": 2, \"113\": 1, \"126\": 1}, \"34\": {\"42\": 2, \"34\": 24, \"32\": 1, \"11\": 1, \"54\": 1, \"86\": 1, \"71\": 1, \"4\": 1}, \"107\": {\"114\": 4, \"28\": 1, \"107\": 43, \"3\": 1, \"71\": 3, \"10\": 1, \"5\": 1, \"7\": 3, \"32\": 2, \"4\": 2, \"70\": 1, \"66\": 1, \"101\": 1}, \"13\": {\"13\": 11, \"102\": 1, \"69\": 2, \"89\": 2}, \"110\": {\"101\": 1, \"110\": 15, \"85\": 2, \"5\": 5, \"3\": 5, \"0\": 1, \"21\": 1, \"19\": 1, \"73\": 2, \"129\": 1, \"7\": 1, \"106\": 1, \"107\": 2, \"126\": 1, \"40\": 1}, \"106\": {\"106\": 96, \"101\": 4, \"125\": 4, \"0\": 7, \"7\": 1, \"51\": 2, \"111\": 2, \"114\": 1, \"88\": 1}, \"89\": {\"89\": 33, \"90\": 3}, \"94\": {\"0\": 3, \"94\": 33, \"40\": 1, \"87\": 1, \"12\": 1, \"9\": 1, \"21\": 2, \"101\": 5, \"106\": 3, \"16\": 1, \"24\": 3, \"15\": 5, \"92\": 1, \"71\": 1, \"36\": 1, \"88\": 1, \"127\": 1}, \"98\": {\"98\": 86, \"79\": 1, \"102\": 1, \"124\": 4, \"13\": 1, \"12\": 7, \"113\": 1, \"111\": 1, \"26\": 1, \"127\": 3, \"93\": 1, \"21\": 1, \"90\": 1, \"71\": 2, \"8\": 1}, \"91\": {\"98\": 2, \"59\": 3, \"91\": 16, \"114\": 2, \"12\": 1, \"35\": 1, \"68\": 1, \"92\": 1, \"54\": 1}, \"84\": {\"84\": 61, \"118\": 3, \"92\": 1, \"33\": 16, \"89\": 1, \"116\": 1, \"16\": 2, \"90\": 2, \"62\": 2, \"83\": 2, \"88\": 1}, \"73\": {\"9\": 1, \"73\": 21, \"3\": 5, \"19\": 1}, \"104\": {\"74\": 2, \"114\": 1, \"52\": 1, \"4\": 2, \"104\": 8, \"95\": 1, \"46\": 1, \"7\": 1, \"126\": 1, \"5\": 2}, \"59\": {\"59\": 8, \"30\": 1, \"127\": 1, \"128\": 4, \"49\": 2}, \"74\": {\"74\": 11, \"28\": 1, \"73\": 2, \"7\": 1, \"4\": 1}, \"28\": {\"28\": 13, \"53\": 1, \"59\": 1, \"5\": 1, \"107\": 4}, \"95\": {\"95\": 30, \"104\": 1, \"108\": 1, \"105\": 1, \"22\": 1, \"5\": 2}, \"2\": {\"81\": 2, \"102\": 1, \"2\": 20, \"69\": 2, \"13\": 1, \"23\": 2, \"99\": 1, \"39\": 1, \"16\": 1, \"117\": 1}, \"5\": {\"5\": 102, \"110\": 2, \"10\": 2, \"3\": 3, \"122\": 1, \"88\": 1, \"117\": 1}, \"50\": {\"50\": 12, \"69\": 1, \"61\": 1, \"22\": 2}, \"109\": {\"48\": 2, \"109\": 38, \"49\": 1, \"15\": 1, \"70\": 3, \"16\": 4, \"93\": 8, \"43\": 2, \"118\": 5, \"113\": 1, \"87\": 10, \"88\": 7, \"69\": 1, \"26\": 1, \"90\": 2, \"71\": 1, \"18\": 2, \"126\": 1, \"96\": 1, \"13\": 1, \"1\": 2, \"33\": 3, \"39\": 1, \"84\": 1, \"102\": 1}, \"10\": {\"10\": 16, \"71\": 6, \"108\": 3, \"95\": 2, \"73\": 1, \"5\": 2, \"4\": 3, \"88\": 1, \"7\": 8, \"126\": 5, \"44\": 3, \"70\": 1, \"107\": 2, \"3\": 1, \"85\": 2, \"21\": 1, \"114\": 1, \"11\": 1, \"109\": 1}, \"45\": {\"45\": 12, \"64\": 1, \"87\": 1, \"22\": 1, \"26\": 1}, \"121\": {\"65\": 4, \"121\": 19, \"113\": 4, \"18\": 3, \"117\": 1, \"120\": 2, \"99\": 3}, \"124\": {\"124\": 103, \"122\": 2, \"129\": 1, \"11\": 2, \"98\": 2}, \"53\": {\"79\": 1, \"110\": 3, \"53\": 7, \"3\": 3, \"67\": 1, \"25\": 1}, \"79\": {\"79\": 15, \"103\": 1}, \"43\": {\"55\": 1, \"43\": 46, \"70\": 2, \"61\": 3, \"44\": 2, \"81\": 1, \"62\": 10, \"1\": 9, \"78\": 3, \"40\": 5, \"110\": 1, \"88\": 6, \"105\": 6, \"109\": 2, \"18\": 1, \"93\": 2, \"33\": 4, \"76\": 2, \"82\": 2, \"39\": 1, \"5\": 1, \"122\": 1, \"15\": 1, \"16\": 1, \"24\": 1}, \"122\": {\"110\": 1, \"122\": 53, \"49\": 2, \"104\": 1, \"88\": 2, \"32\": 3, \"126\": 3, \"43\": 1, \"129\": 1, \"107\": 1, \"71\": 6, \"70\": 2, \"12\": 2, \"19\": 1, \"11\": 4, \"10\": 1, \"114\": 2, \"4\": 2, \"3\": 3, \"39\": 1, \"8\": 1, \"98\": 5, \"5\": 7, \"124\": 17, \"7\": 4, \"108\": 2, \"40\": 1, \"123\": 1, \"112\": 1, \"100\": 1, \"47\": 1, \"29\": 1, \"86\": 1, \"16\": 1, \"127\": 1, \"18\": 1}, \"100\": {\"100\": 12, \"1\": 2, \"83\": 1, \"119\": 1}, \"19\": {\"28\": 2, \"19\": 11, \"114\": 1, \"122\": 2, \"110\": 1, \"44\": 4, \"23\": 1, \"60\": 1, \"5\": 1, \"3\": 1, \"86\": 1, \"1\": 1, \"11\": 1}, \"12\": {\"110\": 4, \"111\": 3, \"29\": 1, \"114\": 2, \"12\": 45, \"127\": 8, \"59\": 1, \"98\": 9, \"8\": 4, \"88\": 2, \"122\": 1, \"42\": 1, \"91\": 1, \"49\": 1, \"124\": 3, \"109\": 1, \"70\": 1}, \"17\": {\"17\": 9, \"34\": 2, \"12\": 2, \"24\": 1, \"125\": 2}}, \"Wisig_3\": {\"38\": {\"74\": 1, \"38\": 13, \"57\": 1, \"1\": 1}, \"88\": {\"3\": 4, \"107\": 3, \"92\": 1, \"110\": 18, \"94\": 1, \"88\": 36, \"15\": 1, \"19\": 1, \"86\": 1, \"27\": 2, \"85\": 1, \"5\": 3, \"108\": 1, \"60\": 1, \"122\": 2, \"70\": 3, \"16\": 1, \"8\": 4, \"1\": 1, \"114\": 7, \"109\": 1, \"7\": 1, \"30\": 1, \"25\": 1, \"28\": 1, \"21\": 2, \"49\": 1, \"71\": 1, \"9\": 1, \"128\": 1, \"124\": 1, \"11\": 3, \"93\": 1, \"10\": 2, \"118\": 1, \"36\": 1}, \"104\": {\"3\": 1, \"104\": 14, \"4\": 1}, \"11\": {\"11\": 65, \"16\": 16, \"93\": 21, \"44\": 2, \"14\": 2, \"90\": 7, \"84\": 2, \"87\": 11, \"107\": 3, \"109\": 1, \"26\": 1, \"126\": 1, \"78\": 2, \"49\": 1, \"62\": 1, \"40\": 1, \"29\": 2, \"18\": 1}, \"103\": {\"38\": 1, \"103\": 14, \"102\": 1}, \"124\": {\"124\": 98, \"10\": 8, \"98\": 2, \"8\": 1, \"127\": 1, \"108\": 3, \"77\": 1, \"85\": 1, \"117\": 1}, \"3\": {\"3\": 82, \"101\": 2, \"86\": 1, \"71\": 8, \"9\": 1, \"4\": 12, \"27\": 1, \"5\": 2, \"7\": 1, \"34\": 2, \"105\": 2, \"114\": 1, \"11\": 1}, \"74\": {\"22\": 2, \"74\": 6, \"100\": 2, \"25\": 1, \"40\": 2, \"48\": 1, \"57\": 1, \"122\": 1}, \"126\": {\"126\": 86, \"123\": 1, \"113\": 2, \"81\": 1, \"18\": 15, \"39\": 3, \"127\": 1, \"117\": 6, \"33\": 1, \"122\": 1, \"121\": 1, \"67\": 1, \"26\": 1, \"8\": 2}, \"123\": {\"123\": 15, \"26\": 1}, \"51\": {\"51\": 14, \"127\": 1, \"112\": 1}, \"14\": {\"14\": 69, \"107\": 4, \"39\": 1, \"28\": 1, \"23\": 2, \"117\": 1, \"60\": 2}, \"16\": {\"11\": 6, \"16\": 83, \"31\": 1, \"93\": 4, \"87\": 12, \"84\": 4, \"18\": 2, \"90\": 1, \"109\": 1, \"0\": 1, \"110\": 1}, \"22\": {\"22\": 14, \"82\": 1, \"87\": 1}, \"109\": {\"109\": 54, \"11\": 2, \"43\": 3, \"92\": 4, \"96\": 2, \"33\": 18, \"118\": 6, \"126\": 1, \"69\": 8, \"93\": 6, \"102\": 14, \"89\": 1, \"113\": 1, \"62\": 2}, \"27\": {\"27\": 74, \"94\": 1, \"15\": 5, \"24\": 6, \"36\": 8, \"30\": 1, \"113\": 1}, \"75\": {\"6\": 1, \"75\": 15}, \"66\": {\"53\": 1, \"66\": 13, \"56\": 2}, \"48\": {\"64\": 1, \"99\": 3, \"86\": 2, \"48\": 2, \"84\": 1, \"125\": 2, \"74\": 1, \"102\": 1, \"14\": 1, \"116\": 1, \"19\": 1}, \"6\": {\"54\": 3, \"6\": 12, \"98\": 2, \"125\": 3, \"73\": 2, \"111\": 3, \"94\": 2, \"15\": 1, \"72\": 1, \"58\": 1, \"12\": 1, \"101\": 1}, \"10\": {\"10\": 44, \"68\": 4, \"101\": 1, \"72\": 1, \"91\": 1, \"42\": 2, \"12\": 8, \"108\": 7, \"70\": 2, \"7\": 1, \"127\": 6, \"98\": 16, \"124\": 6, \"8\": 6, \"16\": 1, \"41\": 1, \"83\": 1, \"35\": 1, \"23\": 1, \"85\": 1, \"126\": 1}, \"99\": {\"99\": 32, \"54\": 1, \"4\": 1, \"71\": 2}, \"50\": {\"50\": 14, \"48\": 1, \"107\": 1}, \"54\": {\"54\": 16}, \"55\": {\"55\": 15, \"115\": 1}, \"53\": {\"53\": 13, \"45\": 1, \"107\": 2, \"20\": 1, \"114\": 1, \"32\": 1, \"11\": 1}, \"72\": {\"72\": 22, \"111\": 4, \"52\": 2}, \"64\": {\"64\": 18, \"118\": 1, \"113\": 1}, \"115\": {\"126\": 1, \"115\": 6, \"9\": 1, \"45\": 1, \"74\": 2, \"28\": 1, \"100\": 2, \"87\": 2}, \"23\": {\"126\": 2, \"23\": 7, \"81\": 1, \"46\": 1, \"63\": 1, \"2\": 2, \"89\": 2, \"70\": 2, \"85\": 3, \"39\": 1, \"19\": 2, \"77\": 1, \"96\": 1, \"66\": 1, \"121\": 2, \"127\": 1, \"118\": 1, \"18\": 1}, \"32\": {\"114\": 1, \"57\": 4, \"14\": 1, \"32\": 16, \"107\": 2, \"40\": 1, \"50\": 1, \"34\": 1, \"69\": 1, \"19\": 2, \"1\": 1, \"23\": 1}, \"15\": {\"15\": 82, \"94\": 3, \"43\": 1, \"0\": 9, \"106\": 4, \"30\": 3, \"18\": 1, \"39\": 1}, \"43\": {\"43\": 22, \"64\": 2, \"69\": 3, \"93\": 1, \"89\": 2, \"102\": 1, \"48\": 1, \"123\": 1, \"116\": 1, \"109\": 5, \"92\": 5, \"21\": 2, \"118\": 5, \"33\": 1, \"117\": 1, \"120\": 1, \"26\": 1, \"62\": 1}, \"114\": {\"114\": 106, \"104\": 1, \"122\": 2, \"70\": 1, \"1\": 1, \"3\": 5, \"126\": 1, \"30\": 1, \"98\": 2, \"129\": 1, \"20\": 1, \"53\": 2}, \"121\": {\"121\": 29, \"67\": 2, \"113\": 1}, \"79\": {\"79\": 12}, \"81\": {\"81\": 28, \"18\": 4}, \"8\": {\"8\": 89, \"52\": 1, \"12\": 11, \"10\": 3, \"73\": 1, \"98\": 1, \"111\": 9, \"15\": 1, \"108\": 5, \"124\": 3, \"85\": 2, \"101\": 1, \"106\": 1}, \"13\": {\"13\": 10, \"92\": 3, \"109\": 2, \"113\": 1}, \"90\": {\"90\": 120, \"44\": 6, \"62\": 14, \"84\": 10, \"87\": 3, \"82\": 1, \"29\": 2}, \"41\": {\"64\": 1, \"41\": 12, \"65\": 1, \"66\": 2}, \"107\": {\"107\": 124, \"57\": 1, \"32\": 2, \"115\": 1, \"71\": 1, \"122\": 1, \"1\": 2, \"50\": 1, \"14\": 2, \"60\": 1}, \"57\": {\"57\": 17, \"32\": 1, \"48\": 1, \"86\": 1}, \"33\": {\"33\": 87, \"69\": 8, \"119\": 1, \"89\": 1, \"102\": 11, \"118\": 4, \"90\": 3, \"26\": 1, \"120\": 1, \"116\": 1, \"109\": 2}, \"35\": {\"35\": 8, \"72\": 2, \"12\": 1, \"11\": 1}, \"29\": {\"29\": 25, \"62\": 2, \"82\": 1, \"90\": 4}, \"70\": {\"42\": 2, \"70\": 27, \"101\": 2, \"127\": 2, \"88\": 6, \"110\": 5, \"108\": 4, \"39\": 1, \"98\": 3, \"3\": 1, \"124\": 4, \"71\": 3, \"78\": 1, \"19\": 1, \"12\": 1, \"10\": 3, \"113\": 1, \"5\": 4, \"126\": 1}, \"42\": {\"43\": 1, \"42\": 9, \"97\": 1, \"106\": 1, \"0\": 3, \"101\": 2, \"15\": 2, \"91\": 1, \"111\": 2, \"19\": 1, \"58\": 2, \"117\": 1, \"49\": 1, \"73\": 1}, \"93\": {\"93\": 106, \"11\": 6, \"16\": 9, \"102\": 1, \"87\": 2, \"117\": 1, \"39\": 1}, \"86\": {\"86\": 22, \"4\": 1, \"95\": 2, \"55\": 1, \"128\": 1, \"105\": 1}, \"28\": {\"28\": 8, \"1\": 2, \"122\": 2, \"115\": 2, \"45\": 2}, \"1\": {\"1\": 85, \"55\": 2, \"32\": 2, \"128\": 2, \"122\": 5, \"105\": 3, \"18\": 1, \"3\": 2, \"60\": 2, \"101\": 1, \"107\": 1, \"14\": 1, \"11\": 1}, \"125\": {\"125\": 116, \"111\": 4, \"102\": 1, \"68\": 1, \"0\": 1, \"118\": 1}, \"69\": {\"69\": 60, \"33\": 7, \"18\": 2, \"113\": 1, \"109\": 1, \"102\": 10, \"118\": 1, \"90\": 2}, \"97\": {\"97\": 14, \"0\": 1, \"83\": 1, \"58\": 2, \"101\": 1, \"106\": 1}, \"117\": {\"117\": 95, \"123\": 1, \"113\": 1, \"26\": 12, \"39\": 2, \"2\": 1}, \"68\": {\"68\": 16}, \"30\": {\"93\": 1, \"30\": 41, \"0\": 8, \"119\": 1, \"83\": 2, \"94\": 3, \"1\": 1, \"15\": 14, \"125\": 2, \"24\": 1, \"106\": 5, \"8\": 1, \"39\": 1, \"97\": 1, \"21\": 1, \"70\": 1}, \"111\": {\"111\": 127, \"12\": 1, \"52\": 1, \"72\": 2, \"8\": 1}, \"47\": {\"47\": 12}, \"102\": {\"102\": 93, \"33\": 11, \"89\": 1, \"80\": 3, \"43\": 1, \"118\": 5, \"69\": 7, \"109\": 3}, \"65\": {\"65\": 11, \"41\": 1}, \"113\": {\"117\": 12, \"26\": 11, \"113\": 70, \"81\": 1, \"69\": 1, \"123\": 1, \"39\": 11, \"18\": 5, \"2\": 1, \"106\": 1, \"109\": 3, \"118\": 1, \"120\": 1, \"0\": 1}, \"36\": {\"36\": 91, \"94\": 5, \"27\": 12, \"15\": 2, \"54\": 1, \"126\": 1, \"24\": 2}, \"119\": {\"102\": 5, \"43\": 1, \"119\": 8, \"116\": 2}, \"46\": {\"46\": 14, \"19\": 2}, \"49\": {\"23\": 2, \"20\": 1, \"42\": 2, \"48\": 1, \"60\": 1, \"106\": 2, \"12\": 1, \"49\": 4, \"108\": 1, \"0\": 1, \"115\": 2, \"112\": 1, \"75\": 1, \"52\": 1, \"14\": 1, \"109\": 1, \"11\": 1}, \"0\": {\"58\": 1, \"0\": 71, \"15\": 8, \"106\": 15, \"30\": 5, \"113\": 1, \"97\": 3, \"101\": 5, \"73\": 3, \"83\": 1, \"8\": 2, \"125\": 1}, \"58\": {\"58\": 15, \"15\": 1}, \"63\": {\"63\": 12, \"117\": 2, \"61\": 2}, \"94\": {\"0\": 4, \"94\": 74, \"92\": 1, \"106\": 1, \"15\": 4}, \"17\": {\"3\": 1, \"17\": 8, \"120\": 1, \"95\": 1, \"56\": 1, \"89\": 1, \"86\": 3}, \"9\": {\"46\": 2, \"9\": 22, \"127\": 4, \"7\": 1, \"118\": 1, \"128\": 1, \"71\": 1}, \"87\": {\"87\": 62, \"115\": 1, \"113\": 2, \"44\": 3, \"11\": 5, \"90\": 10, \"100\": 1, \"16\": 14, \"40\": 4, \"84\": 7, \"62\": 6, \"23\": 1, \"93\": 4}, \"59\": {\"59\": 10, \"101\": 1, \"30\": 1}, \"105\": {\"105\": 115, \"4\": 2, \"103\": 1, \"104\": 1, \"86\": 1}, \"80\": {\"80\": 11, \"10\": 1, \"116\": 2, \"102\": 1, \"64\": 1}, \"120\": {\"120\": 17, \"2\": 2, \"76\": 1}, \"18\": {\"81\": 7, \"18\": 114, \"63\": 1, \"33\": 1, \"118\": 2, \"61\": 2, \"127\": 1, \"126\": 1, \"121\": 1, \"113\": 2}, \"78\": {\"78\": 4, \"9\": 1, \"20\": 1, \"90\": 2, \"21\": 1, \"28\": 1, \"68\": 1, \"79\": 1, \"101\": 1, \"100\": 2, \"96\": 1}, \"25\": {\"25\": 16}, \"19\": {\"129\": 1, \"72\": 2, \"106\": 1, \"85\": 1, \"16\": 1, \"77\": 1, \"19\": 6, \"124\": 4, \"60\": 2, \"122\": 1, \"128\": 1, \"8\": 1, \"14\": 3, \"12\": 2, \"38\": 1, \"51\": 1, \"57\": 1, \"91\": 1, \"10\": 1}, \"122\": {\"129\": 2, \"81\": 1, \"122\": 25, \"60\": 4, \"45\": 1, \"53\": 4, \"32\": 3, \"18\": 3, \"1\": 6, \"114\": 1, \"105\": 2, \"110\": 1, \"88\": 1, \"55\": 1, \"128\": 3, \"43\": 1, \"107\": 1}, \"39\": {\"39\": 58, \"117\": 5, \"81\": 2, \"113\": 13, \"123\": 1, \"26\": 5, \"89\": 2, \"30\": 1, \"33\": 2, \"71\": 2, \"93\": 2, \"109\": 3, \"126\": 1, \"67\": 1, \"63\": 2, \"43\": 1, \"15\": 1, \"18\": 2, \"70\": 1, \"88\": 1, \"1\": 2}, \"76\": {\"76\": 12, \"33\": 1, \"116\": 1, \"44\": 2}, \"89\": {\"89\": 25, \"43\": 1, \"121\": 1, \"118\": 1}, \"129\": {\"129\": 11, \"19\": 1, \"14\": 4, \"107\": 3, \"127\": 1, \"28\": 2, \"5\": 3, \"110\": 3, \"3\": 2, \"87\": 1, \"1\": 1}, \"26\": {\"26\": 68, \"113\": 4, \"2\": 3, \"121\": 1, \"81\": 1, \"117\": 18, \"11\": 1, \"70\": 1, \"108\": 1, \"118\": 2}, \"85\": {\"85\": 35, \"23\": 1}, \"71\": {\"128\": 1, \"71\": 45, \"66\": 2, \"127\": 1, \"7\": 5, \"18\": 2, \"3\": 9, \"114\": 2, \"5\": 1}, \"77\": {\"85\": 3, \"124\": 1, \"77\": 11, \"114\": 1}, \"128\": {\"77\": 3, \"103\": 2, \"128\": 8, \"85\": 1, \"32\": 2, \"74\": 1, \"111\": 1, \"7\": 1, \"107\": 1, \"1\": 1, \"59\": 1, \"55\": 3, \"98\": 1, \"91\": 1, \"40\": 1, \"34\": 1, \"23\": 1, \"124\": 1, \"122\": 1}, \"2\": {\"2\": 8, \"26\": 1, \"43\": 2, \"96\": 2, \"118\": 7, \"120\": 1, \"18\": 2, \"67\": 1, \"117\": 2, \"123\": 2}, \"56\": {\"56\": 12}, \"24\": {\"24\": 32, \"54\": 1, \"58\": 1, \"0\": 1, \"36\": 5, \"27\": 5, \"30\": 3}, \"101\": {\"26\": 1, \"52\": 1, \"58\": 4, \"2\": 1, \"42\": 1, \"51\": 2, \"106\": 9, \"101\": 23, \"8\": 2, \"73\": 5, \"59\": 1, \"9\": 1, \"124\": 1}, \"52\": {\"52\": 15, \"72\": 1}, \"84\": {\"29\": 3, \"31\": 4, \"84\": 56, \"62\": 11, \"90\": 15, \"44\": 8, \"39\": 1, \"1\": 3, \"82\": 2, \"87\": 3, \"14\": 2}, \"7\": {\"7\": 91, \"3\": 7, \"66\": 3, \"9\": 1, \"5\": 1, \"39\": 1, \"36\": 1, \"127\": 3, \"110\": 1, \"4\": 2, \"71\": 1}, \"82\": {\"82\": 18, \"44\": 2, \"29\": 1, \"90\": 3, \"62\": 1, \"31\": 3}, \"60\": {\"122\": 1, \"20\": 1, \"29\": 2, \"110\": 2, \"50\": 1, \"60\": 10, \"31\": 1, \"107\": 1, \"16\": 1, \"87\": 1, \"104\": 2, \"40\": 1, \"124\": 1, \"90\": 1, \"129\": 2}, \"45\": {\"24\": 1, \"45\": 9, \"18\": 1, \"115\": 1, \"122\": 1, \"87\": 1, \"14\": 1, \"117\": 1}, \"40\": {\"40\": 120, \"14\": 1, \"107\": 3}, \"20\": {\"20\": 15, \"114\": 1}, \"4\": {\"4\": 87, \"99\": 1, \"105\": 5, \"3\": 2, \"7\": 1}, \"116\": {\"116\": 21, \"31\": 1, \"90\": 2, \"69\": 1, \"44\": 2, \"96\": 1}, \"61\": {\"18\": 1, \"61\": 13, \"63\": 1, \"81\": 1}, \"5\": {\"5\": 98, \"3\": 2, \"71\": 2, \"127\": 2, \"114\": 3, \"4\": 1, \"34\": 1, \"7\": 1, \"18\": 1, \"126\": 1}, \"106\": {\"42\": 1, \"106\": 86, \"72\": 2, \"102\": 1, \"0\": 6, \"94\": 1, \"101\": 1, \"97\": 1, \"19\": 1}, \"12\": {\"12\": 94, \"8\": 2, \"111\": 5, \"72\": 1, \"49\": 1, \"35\": 1}, \"62\": {\"62\": 86, \"116\": 1, \"84\": 6, \"82\": 1, \"90\": 15, \"44\": 5, \"118\": 1, \"69\": 1, \"15\": 1, \"29\": 1, \"33\": 1, \"39\": 1}, \"34\": {\"1\": 4, \"72\": 2, \"19\": 1, \"12\": 3, \"60\": 1, \"122\": 2, \"34\": 5, \"73\": 5, \"114\": 1, \"53\": 1, \"118\": 1, \"55\": 1, \"35\": 1, \"32\": 1, \"107\": 1, \"129\": 1, \"14\": 1}, \"91\": {\"12\": 1, \"34\": 1, \"91\": 13, \"65\": 1, \"10\": 2, \"98\": 5, \"127\": 1}, \"112\": {\"112\": 10, \"13\": 1, \"10\": 1, \"51\": 2, \"47\": 2}, \"92\": {\"92\": 24, \"118\": 3, \"89\": 1, \"109\": 1, \"33\": 2, \"26\": 1}, \"95\": {\"95\": 32}, \"96\": {\"96\": 16, \"109\": 1, \"119\": 1, \"69\": 2}, \"127\": {\"127\": 99, \"70\": 1, \"88\": 1, \"7\": 2, \"46\": 2, \"56\": 1, \"36\": 1, \"126\": 1}, \"67\": {\"67\": 12, \"117\": 1, \"81\": 2, \"36\": 1}, \"83\": {\"83\": 24}, \"21\": {\"97\": 2, \"21\": 34, \"67\": 1, \"6\": 1, \"18\": 2, \"27\": 2, \"126\": 2, \"94\": 1, \"0\": 1, \"36\": 1, \"88\": 1}, \"98\": {\"98\": 108, \"12\": 4, \"127\": 3, \"117\": 1, \"10\": 2, \"124\": 3, \"46\": 1, \"91\": 2}, \"108\": {\"98\": 6, \"108\": 78, \"10\": 8, \"124\": 17, \"70\": 5, \"111\": 2, \"8\": 4, \"127\": 2, \"5\": 2, \"110\": 2, \"42\": 1, \"46\": 1, \"83\": 1, \"12\": 1, \"85\": 1, \"88\": 1}, \"31\": {\"16\": 1, \"31\": 13, \"62\": 1, \"84\": 2, \"82\": 2, \"80\": 1}, \"118\": {\"96\": 1, \"118\": 62, \"33\": 4, \"2\": 1, \"109\": 6, \"121\": 2, \"43\": 6, \"62\": 1, \"69\": 8, \"102\": 3, \"64\": 2, \"80\": 1, \"89\": 1, \"44\": 1, \"113\": 1}, \"110\": {\"110\": 79, \"129\": 2, \"4\": 1, \"114\": 1, \"108\": 3, \"5\": 2, \"70\": 1, \"122\": 3}, \"73\": {\"73\": 38, \"101\": 1, \"42\": 1}, \"44\": {\"44\": 53, \"43\": 1, \"29\": 1, \"82\": 1, \"33\": 1, \"84\": 4, \"62\": 5, \"117\": 1, \"102\": 1, \"90\": 3, \"26\": 1}, \"37\": {\"37\": 13, \"52\": 2, \"118\": 1}, \"100\": {\"100\": 15, \"107\": 1}}}, \"per_domain_accuracy\": {\"ORACLE.run126\": {\"accuracy\": 0.44036458333333334, \"source?\": true}, \"ORACLE.run144\": {\"accuracy\": 0.65390625, \"source?\": true}, \"ORACLE.run150\": {\"accuracy\": 0.6859375, \"source?\": true}, \"ORACLE.run138\": {\"accuracy\": 0.6598958333333333, \"source?\": true}, \"ORACLE.run120\": {\"accuracy\": 0.45286458333333335, \"source?\": true}, \"ORACLE.run114\": {\"accuracy\": 0.6973958333333333, \"source?\": true}, \"ORACLE.run132\": {\"accuracy\": 0.671875, \"source?\": true}, \"ORACLE.run18\": {\"accuracy\": 0.5364583333333334, \"source?\": true}, \"Wisig_4\": {\"accuracy\": 0.6613940329218106, \"source?\": false}, \"Wisig_1\": {\"accuracy\": 0.703125, \"source?\": false}, \"Wisig_2\": {\"accuracy\": 0.6740324267782427, \"source?\": false}, \"Wisig_3\": {\"accuracy\": 0.7176582969432315, \"source?\": false}}}, \"history\": {\"epoch_indices\": [1, 2, 3, 4, 5, 6, 7, 8, 9, 10, 11, 12, 13, 14], \"train_label_loss\": [1.5990667697219623, 1.0112516507328975, 0.8546900090162776, 0.7441199467118297, 0.6501147600179095, 0.5662082915454881, 0.49668406707711427, 0.43419593864015216, 0.37948423804967507, 0.33689017387687703, 0.29650304803296984, 0.26249784415905153, 0.23829532707549378, 0.21601931658786358], \"source_val_label_loss\": [1.201539397239685, 1.0693119764328003, 1.047145128250122, 1.069334626197815, 1.083757758140564, 1.160354495048523, 1.2299233675003052, 1.2944504022598267, 1.3713124990463257, 1.4822964668273926, 1.4966341257095337, 1.6494776010513306, 1.690915584564209, 1.7838609218597412], \"target_val_label_loss\": [5.598283290863037, 7.078001976013184, 8.345158576965332, 9.886516571044922, 10.554544448852539, 11.494832992553711, 13.113799095153809, 13.65830135345459, 15.133901596069336, 16.195592880249023, 16.712764739990234, 18.15689468383789, 19.385393142700195, 20.554853439331055], \"source_val_acc_label\": [0.5429036458333333, 0.5943033854166667, 0.6110677083333333, 0.611328125, 0.6184244791666667, 0.6001627604166667, 0.6105143229166666, 0.6052734375, 0.6085286458333333, 0.5998372395833333, 0.6004231770833334, 0.59208984375, 0.5956705729166667, 0.5958984375], \"target_val_acc_label\": [0.6112064413938754, 0.6447993664202746, 0.6601768743400211, 0.6572399683210137, 0.6800422386483632, 0.6729474656810982, 0.6784252903907075, 0.6770063357972544, 0.6805372228088701, 0.6885889651531151, 0.6819561774023232, 0.6842661034846885, 0.6845960929250264, 0.6872360084477297]}, \"dataset_metrics\": {\"source\": {\"train\": {\"n_unique_x\": 179200, \"n_unique_y\": 16, \"n_batch/episode\": 6720}, \"val\": {\"n_unique_x\": 38400, \"n_unique_y\": 16, \"n_batch/episode\": 960}, \"test\": {\"n_unique_x\": 38400, \"n_unique_y\": 16, \"n_batch/episode\": 960}}, \"target\": {\"train\": {\"n_unique_x\": 189001, \"n_unique_y\": 130, \"n_batch/episode\": 6847}, \"val\": {\"n_unique_x\": 40070, \"n_unique_y\": 130, \"n_batch/episode\": 947}, \"test\": {\"n_unique_x\": 40812, \"n_unique_y\": 130, \"n_batch/episode\": 969}}}}'"
      ]
     },
     "execution_count": 29,
     "metadata": {},
     "output_type": "execute_result"
    }
   ],
   "source": [
    "json.dumps(experiment)"
   ]
  }
 ],
 "metadata": {
  "celltoolbar": "Tags",
  "kernelspec": {
   "display_name": "Python 3 (ipykernel)",
   "language": "python",
   "name": "python3"
  },
  "language_info": {
   "codemirror_mode": {
    "name": "ipython",
    "version": 3
   },
   "file_extension": ".py",
   "mimetype": "text/x-python",
   "name": "python",
   "nbconvert_exporter": "python",
   "pygments_lexer": "ipython3",
   "version": "3.8.12"
  },
  "papermill": {
   "default_parameters": {},
   "duration": 2909.174614,
   "end_time": "2022-03-23T04:19:02.392140",
   "environment_variables": {},
   "exception": null,
   "input_path": "/root/csc500-main/csc500-notebooks/templates/tl_ptn_template.ipynb",
   "output_path": "trial.ipynb",
   "parameters": {
    "parameters": {
     "BEST_MODEL_PATH": "./best_model.pth",
     "NUM_LOGS_PER_EPOCH": 10,
     "criteria_for_best": "target_accuracy",
     "dataset_seed": 7,
     "datasets": [
      {
       "domain_prefix": "Wisig_",
       "domains": [
        1,
        2,
        3,
        4
       ],
       "episode_transforms": [],
       "labels": [
        "1-10",
        "1-12",
        "1-14",
        "1-16",
        "1-18",
        "1-19",
        "1-8",
        "10-11",
        "10-17",
        "10-4",
        "10-7",
        "11-1",
        "11-10",
        "11-19",
        "11-20",
        "11-4",
        "11-7",
        "12-19",
        "12-20",
        "12-7",
        "13-14",
        "13-18",
        "13-19",
        "13-20",
        "13-3",
        "13-7",
        "14-10",
        "14-11",
        "14-12",
        "14-13",
        "14-14",
        "14-19",
        "14-20",
        "14-7",
        "14-8",
        "14-9",
        "15-1",
        "15-19",
        "15-6",
        "16-1",
        "16-16",
        "16-19",
        "16-20",
        "17-10",
        "17-11",
        "18-1",
        "18-10",
        "18-11",
        "18-12",
        "18-13",
        "18-14",
        "18-15",
        "18-16",
        "18-17",
        "18-19",
        "18-2",
        "18-20",
        "18-4",
        "18-5",
        "18-7",
        "18-8",
        "18-9",
        "19-1",
        "19-10",
        "19-11",
        "19-12",
        "19-13",
        "19-14",
        "19-15",
        "19-19",
        "19-2",
        "19-20",
        "19-3",
        "19-4",
        "19-6",
        "19-7",
        "19-8",
        "19-9",
        "2-1",
        "2-13",
        "2-15",
        "2-3",
        "2-4",
        "2-5",
        "2-6",
        "2-7",
        "2-8",
        "20-1",
        "20-12",
        "20-14",
        "20-15",
        "20-16",
        "20-18",
        "20-19",
        "20-20",
        "20-3",
        "20-4",
        "20-5",
        "20-7",
        "20-8",
        "3-1",
        "3-13",
        "3-18",
        "3-2",
        "3-8",
        "4-1",
        "4-10",
        "4-11",
        "5-1",
        "5-5",
        "6-1",
        "6-15",
        "6-6",
        "7-10",
        "7-11",
        "7-12",
        "7-13",
        "7-14",
        "7-7",
        "7-8",
        "7-9",
        "8-1",
        "8-13",
        "8-14",
        "8-18",
        "8-20",
        "8-3",
        "8-8",
        "9-1",
        "9-7"
       ],
       "num_examples_per_domain_per_label": -1,
       "pickle_path": "/root/csc500-main/datasets/wisig.node3-19.stratified_ds.2022A.pkl",
       "source_or_target_dataset": "target",
       "x_transforms": [
        "unit_power"
       ]
      },
      {
       "domain_prefix": "ORACLE.run1",
       "domains": [
        32,
        38,
        8,
        44,
        14,
        50,
        20,
        26
       ],
       "episode_transforms": [],
       "labels": [
        "3123D52",
        "3123D65",
        "3123D79",
        "3123D80",
        "3123D54",
        "3123D70",
        "3123D7B",
        "3123D89",
        "3123D58",
        "3123D76",
        "3123D7D",
        "3123EFE",
        "3123D64",
        "3123D78",
        "3123D7E",
        "3124E4A"
       ],
       "num_examples_per_domain_per_label": 2000,
       "pickle_path": "/root/csc500-main/datasets/oracle.Run1_10kExamples_stratified_ds.2022A.pkl",
       "source_or_target_dataset": "source",
       "x_transforms": [
        "unit_power"
       ]
      }
     ],
     "device": "cuda",
     "experiment_name": "tl_1v2:wisig-oracle.run1.limited",
     "lr": 0.0001,
     "n_epoch": 50,
     "n_query": 2,
     "n_shot": 3,
     "n_way": 16,
     "patience": 3,
     "seed": 7,
     "test_k_factor": 2,
     "torch_default_dtype": "torch.float32",
     "train_k_factor": 3,
     "val_k_factor": 2,
     "x_net": [
      {
       "class": "nnReshape",
       "kargs": {
        "shape": [
         -1,
         1,
         2,
         256
        ]
       }
      },
      {
       "class": "Conv2d",
       "kargs": {
        "bias": false,
        "in_channels": 1,
        "kernel_size": [
         1,
         7
        ],
        "out_channels": 256,
        "padding": [
         0,
         3
        ]
       }
      },
      {
       "class": "ReLU",
       "kargs": {
        "inplace": true
       }
      },
      {
       "class": "BatchNorm2d",
       "kargs": {
        "num_features": 256
       }
      },
      {
       "class": "Conv2d",
       "kargs": {
        "bias": true,
        "in_channels": 256,
        "kernel_size": [
         2,
         7
        ],
        "out_channels": 80,
        "padding": [
         0,
         3
        ]
       }
      },
      {
       "class": "ReLU",
       "kargs": {
        "inplace": true
       }
      },
      {
       "class": "BatchNorm2d",
       "kargs": {
        "num_features": 80
       }
      },
      {
       "class": "Flatten",
       "kargs": {}
      },
      {
       "class": "Linear",
       "kargs": {
        "in_features": 20480,
        "out_features": 256
       }
      },
      {
       "class": "ReLU",
       "kargs": {
        "inplace": true
       }
      },
      {
       "class": "BatchNorm1d",
       "kargs": {
        "num_features": 256
       }
      },
      {
       "class": "Linear",
       "kargs": {
        "in_features": 256,
        "out_features": 256
       }
      }
     ]
    }
   },
   "start_time": "2022-03-23T03:30:33.217526",
   "version": "2.3.4"
  }
 },
 "nbformat": 4,
 "nbformat_minor": 5
}