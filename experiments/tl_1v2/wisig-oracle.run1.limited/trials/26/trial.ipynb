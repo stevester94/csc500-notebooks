{
 "cells": [
  {
   "cell_type": "markdown",
   "id": "9fea5f46",
   "metadata": {
    "papermill": {
     "duration": 0.024775,
     "end_time": "2022-03-23T06:38:42.540329",
     "exception": false,
     "start_time": "2022-03-23T06:38:42.515554",
     "status": "completed"
    },
    "tags": []
   },
   "source": [
    "# Transfer Learning Template"
   ]
  },
  {
   "cell_type": "code",
   "execution_count": 1,
   "id": "0902182a",
   "metadata": {
    "execution": {
     "iopub.execute_input": "2022-03-23T06:38:42.603163Z",
     "iopub.status.busy": "2022-03-23T06:38:42.602316Z",
     "iopub.status.idle": "2022-03-23T06:38:44.424084Z",
     "shell.execute_reply": "2022-03-23T06:38:44.423081Z"
    },
    "papermill": {
     "duration": 1.864208,
     "end_time": "2022-03-23T06:38:44.424200",
     "exception": false,
     "start_time": "2022-03-23T06:38:42.559992",
     "status": "completed"
    },
    "tags": []
   },
   "outputs": [],
   "source": [
    "%load_ext autoreload\n",
    "%autoreload 2\n",
    "%matplotlib inline\n",
    "\n",
    "    \n",
    "import os, json, sys, time, random\n",
    "import numpy as np\n",
    "import torch\n",
    "from torch.optim import Adam\n",
    "from  easydict import EasyDict\n",
    "import matplotlib.pyplot as plt\n",
    "\n",
    "from steves_models.steves_ptn import Steves_Prototypical_Network\n",
    "\n",
    "from steves_utils.lazy_iterable_wrapper import Lazy_Iterable_Wrapper\n",
    "from steves_utils.iterable_aggregator import Iterable_Aggregator\n",
    "from steves_utils.ptn_train_eval_test_jig import  PTN_Train_Eval_Test_Jig\n",
    "from steves_utils.torch_sequential_builder import build_sequential\n",
    "from steves_utils.torch_utils import get_dataset_metrics, ptn_confusion_by_domain_over_dataloader\n",
    "from steves_utils.utils_v2 import (per_domain_accuracy_from_confusion, get_datasets_base_path)\n",
    "from steves_utils.PTN.utils import independent_accuracy_assesment\n",
    "\n",
    "from torch.utils.data import DataLoader\n",
    "\n",
    "from steves_utils.stratified_dataset.episodic_accessor import Episodic_Accessor_Factory\n",
    "\n",
    "from steves_utils.ptn_do_report import (\n",
    "    get_loss_curve,\n",
    "    get_results_table,\n",
    "    get_parameters_table,\n",
    "    get_domain_accuracies,\n",
    ")\n",
    "\n",
    "from steves_utils.transforms import get_chained_transform"
   ]
  },
  {
   "cell_type": "markdown",
   "id": "41c840b4",
   "metadata": {
    "papermill": {
     "duration": 0.031407,
     "end_time": "2022-03-23T06:38:44.480542",
     "exception": false,
     "start_time": "2022-03-23T06:38:44.449135",
     "status": "completed"
    },
    "tags": []
   },
   "source": [
    "# Allowed Parameters\n",
    "These are allowed parameters, not defaults\n",
    "Each of these values need to be present in the injected parameters (the notebook will raise an exception if they are not present)\n",
    "\n",
    "Papermill uses the cell tag \"parameters\" to inject the real parameters below this cell.\n",
    "Enable tags to see what I mean"
   ]
  },
  {
   "cell_type": "code",
   "execution_count": 2,
   "id": "fd44eb83",
   "metadata": {
    "execution": {
     "iopub.execute_input": "2022-03-23T06:38:44.525926Z",
     "iopub.status.busy": "2022-03-23T06:38:44.525541Z",
     "iopub.status.idle": "2022-03-23T06:38:44.550859Z",
     "shell.execute_reply": "2022-03-23T06:38:44.550046Z"
    },
    "papermill": {
     "duration": 0.050768,
     "end_time": "2022-03-23T06:38:44.551033",
     "exception": false,
     "start_time": "2022-03-23T06:38:44.500265",
     "status": "completed"
    },
    "tags": []
   },
   "outputs": [],
   "source": [
    "required_parameters = {\n",
    "    \"experiment_name\",\n",
    "    \"lr\",\n",
    "    \"device\",\n",
    "    \"seed\",\n",
    "    \"dataset_seed\",\n",
    "    \"n_shot\",\n",
    "    \"n_query\",\n",
    "    \"n_way\",\n",
    "    \"train_k_factor\",\n",
    "    \"val_k_factor\",\n",
    "    \"test_k_factor\",\n",
    "    \"n_epoch\",\n",
    "    \"patience\",\n",
    "    \"criteria_for_best\",\n",
    "    \"x_net\",\n",
    "    \"datasets\",\n",
    "    \"torch_default_dtype\",\n",
    "    \"NUM_LOGS_PER_EPOCH\",\n",
    "    \"BEST_MODEL_PATH\",\n",
    "    \"x_shape\",\n",
    "}"
   ]
  },
  {
   "cell_type": "code",
   "execution_count": 3,
   "id": "fa3f0049",
   "metadata": {
    "execution": {
     "iopub.execute_input": "2022-03-23T06:38:44.611372Z",
     "iopub.status.busy": "2022-03-23T06:38:44.610466Z",
     "iopub.status.idle": "2022-03-23T06:38:44.631841Z",
     "shell.execute_reply": "2022-03-23T06:38:44.631034Z"
    },
    "papermill": {
     "duration": 0.055406,
     "end_time": "2022-03-23T06:38:44.632025",
     "exception": false,
     "start_time": "2022-03-23T06:38:44.576619",
     "status": "completed"
    },
    "tags": [
     "parameters"
    ]
   },
   "outputs": [],
   "source": [
    "from steves_utils.CORES.utils import (\n",
    "    ALL_NODES,\n",
    "    ALL_NODES_MINIMUM_1000_EXAMPLES,\n",
    "    ALL_DAYS\n",
    ")\n",
    "\n",
    "from steves_utils.ORACLE.utils_v2 import (\n",
    "    ALL_DISTANCES_FEET_NARROWED,\n",
    "    ALL_RUNS,\n",
    "    ALL_SERIAL_NUMBERS,\n",
    ")\n",
    "\n",
    "standalone_parameters = {}\n",
    "standalone_parameters[\"experiment_name\"] = \"STANDALONE PTN\"\n",
    "standalone_parameters[\"lr\"] = 0.001\n",
    "standalone_parameters[\"device\"] = \"cuda\"\n",
    "\n",
    "standalone_parameters[\"seed\"] = 1337\n",
    "standalone_parameters[\"dataset_seed\"] = 1337\n",
    "\n",
    "standalone_parameters[\"n_way\"] = 8\n",
    "standalone_parameters[\"n_shot\"] = 3\n",
    "standalone_parameters[\"n_query\"]  = 2\n",
    "standalone_parameters[\"train_k_factor\"] = 1\n",
    "standalone_parameters[\"val_k_factor\"] = 2\n",
    "standalone_parameters[\"test_k_factor\"] = 2\n",
    "\n",
    "\n",
    "standalone_parameters[\"n_epoch\"] = 50\n",
    "\n",
    "standalone_parameters[\"patience\"] = 10\n",
    "standalone_parameters[\"criteria_for_best\"] = \"source_loss\"\n",
    "\n",
    "standalone_parameters[\"datasets\"] = [\n",
    "    {\n",
    "        \"labels\": ALL_SERIAL_NUMBERS,\n",
    "        \"domains\": ALL_DISTANCES_FEET_NARROWED,\n",
    "        \"num_examples_per_domain_per_label\": 100,\n",
    "        \"pickle_path\": os.path.join(get_datasets_base_path(), \"oracle.Run1_framed_2000Examples_stratified_ds.2022A.pkl\"),\n",
    "        \"source_or_target_dataset\": \"source\",\n",
    "        \"x_transforms\": [\"unit_mag\", \"minus_two\"],\n",
    "        \"episode_transforms\": [],\n",
    "        \"domain_prefix\": \"ORACLE_\"\n",
    "    },\n",
    "    {\n",
    "        \"labels\": ALL_NODES,\n",
    "        \"domains\": ALL_DAYS,\n",
    "        \"num_examples_per_domain_per_label\": 100,\n",
    "        \"pickle_path\": os.path.join(get_datasets_base_path(), \"cores.stratified_ds.2022A.pkl\"),\n",
    "        \"source_or_target_dataset\": \"target\",\n",
    "        \"x_transforms\": [\"unit_power\", \"times_zero\"],\n",
    "        \"episode_transforms\": [],\n",
    "        \"domain_prefix\": \"CORES_\"\n",
    "    }   \n",
    "]\n",
    "\n",
    "standalone_parameters[\"torch_default_dtype\"] = \"torch.float32\" \n",
    "\n",
    "\n",
    "\n",
    "standalone_parameters[\"x_net\"] =     [\n",
    "    {\"class\": \"nnReshape\", \"kargs\": {\"shape\":[-1, 1, 2, 256]}},\n",
    "    {\"class\": \"Conv2d\", \"kargs\": { \"in_channels\":1, \"out_channels\":256, \"kernel_size\":(1,7), \"bias\":False, \"padding\":(0,3), },},\n",
    "    {\"class\": \"ReLU\", \"kargs\": {\"inplace\": True}},\n",
    "    {\"class\": \"BatchNorm2d\", \"kargs\": {\"num_features\":256}},\n",
    "\n",
    "    {\"class\": \"Conv2d\", \"kargs\": { \"in_channels\":256, \"out_channels\":80, \"kernel_size\":(2,7), \"bias\":True, \"padding\":(0,3), },},\n",
    "    {\"class\": \"ReLU\", \"kargs\": {\"inplace\": True}},\n",
    "    {\"class\": \"BatchNorm2d\", \"kargs\": {\"num_features\":80}},\n",
    "    {\"class\": \"Flatten\", \"kargs\": {}},\n",
    "\n",
    "    {\"class\": \"Linear\", \"kargs\": {\"in_features\": 80*256, \"out_features\": 256}}, # 80 units per IQ pair\n",
    "    {\"class\": \"ReLU\", \"kargs\": {\"inplace\": True}},\n",
    "    {\"class\": \"BatchNorm1d\", \"kargs\": {\"num_features\":256}},\n",
    "\n",
    "    {\"class\": \"Linear\", \"kargs\": {\"in_features\": 256, \"out_features\": 256}},\n",
    "]\n",
    "\n",
    "# Parameters relevant to results\n",
    "# These parameters will basically never need to change\n",
    "standalone_parameters[\"NUM_LOGS_PER_EPOCH\"] = 10\n",
    "standalone_parameters[\"BEST_MODEL_PATH\"] = \"./best_model.pth\"\n",
    "\n",
    "\n",
    "\n",
    "\n"
   ]
  },
  {
   "cell_type": "code",
   "execution_count": 4,
   "id": "dad021ce",
   "metadata": {
    "execution": {
     "iopub.execute_input": "2022-03-23T06:38:44.698868Z",
     "iopub.status.busy": "2022-03-23T06:38:44.685853Z",
     "iopub.status.idle": "2022-03-23T06:38:44.719836Z",
     "shell.execute_reply": "2022-03-23T06:38:44.719019Z"
    },
    "papermill": {
     "duration": 0.057622,
     "end_time": "2022-03-23T06:38:44.720026",
     "exception": false,
     "start_time": "2022-03-23T06:38:44.662404",
     "status": "completed"
    },
    "tags": [
     "injected-parameters"
    ]
   },
   "outputs": [],
   "source": [
    "# Parameters\n",
    "parameters = {\n",
    "    \"experiment_name\": \"tl_1v2:wisig-oracle.run1.limited\",\n",
    "    \"device\": \"cuda\",\n",
    "    \"lr\": 0.0001,\n",
    "    \"n_shot\": 3,\n",
    "    \"n_query\": 2,\n",
    "    \"train_k_factor\": 3,\n",
    "    \"val_k_factor\": 2,\n",
    "    \"test_k_factor\": 2,\n",
    "    \"torch_default_dtype\": \"torch.float32\",\n",
    "    \"n_epoch\": 50,\n",
    "    \"patience\": 3,\n",
    "    \"criteria_for_best\": \"target_accuracy\",\n",
    "    \"x_net\": [\n",
    "        {\"class\": \"nnReshape\", \"kargs\": {\"shape\": [-1, 1, 2, 256]}},\n",
    "        {\n",
    "            \"class\": \"Conv2d\",\n",
    "            \"kargs\": {\n",
    "                \"in_channels\": 1,\n",
    "                \"out_channels\": 256,\n",
    "                \"kernel_size\": [1, 7],\n",
    "                \"bias\": False,\n",
    "                \"padding\": [0, 3],\n",
    "            },\n",
    "        },\n",
    "        {\"class\": \"ReLU\", \"kargs\": {\"inplace\": True}},\n",
    "        {\"class\": \"BatchNorm2d\", \"kargs\": {\"num_features\": 256}},\n",
    "        {\n",
    "            \"class\": \"Conv2d\",\n",
    "            \"kargs\": {\n",
    "                \"in_channels\": 256,\n",
    "                \"out_channels\": 80,\n",
    "                \"kernel_size\": [2, 7],\n",
    "                \"bias\": True,\n",
    "                \"padding\": [0, 3],\n",
    "            },\n",
    "        },\n",
    "        {\"class\": \"ReLU\", \"kargs\": {\"inplace\": True}},\n",
    "        {\"class\": \"BatchNorm2d\", \"kargs\": {\"num_features\": 80}},\n",
    "        {\"class\": \"Flatten\", \"kargs\": {}},\n",
    "        {\"class\": \"Linear\", \"kargs\": {\"in_features\": 20480, \"out_features\": 256}},\n",
    "        {\"class\": \"ReLU\", \"kargs\": {\"inplace\": True}},\n",
    "        {\"class\": \"BatchNorm1d\", \"kargs\": {\"num_features\": 256}},\n",
    "        {\"class\": \"Linear\", \"kargs\": {\"in_features\": 256, \"out_features\": 256}},\n",
    "    ],\n",
    "    \"NUM_LOGS_PER_EPOCH\": 10,\n",
    "    \"BEST_MODEL_PATH\": \"./best_model.pth\",\n",
    "    \"n_way\": 16,\n",
    "    \"datasets\": [\n",
    "        {\n",
    "            \"labels\": [\n",
    "                \"1-10\",\n",
    "                \"1-12\",\n",
    "                \"1-14\",\n",
    "                \"1-16\",\n",
    "                \"1-18\",\n",
    "                \"1-19\",\n",
    "                \"1-8\",\n",
    "                \"10-11\",\n",
    "                \"10-17\",\n",
    "                \"10-4\",\n",
    "                \"10-7\",\n",
    "                \"11-1\",\n",
    "                \"11-10\",\n",
    "                \"11-19\",\n",
    "                \"11-20\",\n",
    "                \"11-4\",\n",
    "                \"11-7\",\n",
    "                \"12-19\",\n",
    "                \"12-20\",\n",
    "                \"12-7\",\n",
    "                \"13-14\",\n",
    "                \"13-18\",\n",
    "                \"13-19\",\n",
    "                \"13-20\",\n",
    "                \"13-3\",\n",
    "                \"13-7\",\n",
    "                \"14-10\",\n",
    "                \"14-11\",\n",
    "                \"14-12\",\n",
    "                \"14-13\",\n",
    "                \"14-14\",\n",
    "                \"14-19\",\n",
    "                \"14-20\",\n",
    "                \"14-7\",\n",
    "                \"14-8\",\n",
    "                \"14-9\",\n",
    "                \"15-1\",\n",
    "                \"15-19\",\n",
    "                \"15-6\",\n",
    "                \"16-1\",\n",
    "                \"16-16\",\n",
    "                \"16-19\",\n",
    "                \"16-20\",\n",
    "                \"17-10\",\n",
    "                \"17-11\",\n",
    "                \"18-1\",\n",
    "                \"18-10\",\n",
    "                \"18-11\",\n",
    "                \"18-12\",\n",
    "                \"18-13\",\n",
    "                \"18-14\",\n",
    "                \"18-15\",\n",
    "                \"18-16\",\n",
    "                \"18-17\",\n",
    "                \"18-19\",\n",
    "                \"18-2\",\n",
    "                \"18-20\",\n",
    "                \"18-4\",\n",
    "                \"18-5\",\n",
    "                \"18-7\",\n",
    "                \"18-8\",\n",
    "                \"18-9\",\n",
    "                \"19-1\",\n",
    "                \"19-10\",\n",
    "                \"19-11\",\n",
    "                \"19-12\",\n",
    "                \"19-13\",\n",
    "                \"19-14\",\n",
    "                \"19-15\",\n",
    "                \"19-19\",\n",
    "                \"19-2\",\n",
    "                \"19-20\",\n",
    "                \"19-3\",\n",
    "                \"19-4\",\n",
    "                \"19-6\",\n",
    "                \"19-7\",\n",
    "                \"19-8\",\n",
    "                \"19-9\",\n",
    "                \"2-1\",\n",
    "                \"2-13\",\n",
    "                \"2-15\",\n",
    "                \"2-3\",\n",
    "                \"2-4\",\n",
    "                \"2-5\",\n",
    "                \"2-6\",\n",
    "                \"2-7\",\n",
    "                \"2-8\",\n",
    "                \"20-1\",\n",
    "                \"20-12\",\n",
    "                \"20-14\",\n",
    "                \"20-15\",\n",
    "                \"20-16\",\n",
    "                \"20-18\",\n",
    "                \"20-19\",\n",
    "                \"20-20\",\n",
    "                \"20-3\",\n",
    "                \"20-4\",\n",
    "                \"20-5\",\n",
    "                \"20-7\",\n",
    "                \"20-8\",\n",
    "                \"3-1\",\n",
    "                \"3-13\",\n",
    "                \"3-18\",\n",
    "                \"3-2\",\n",
    "                \"3-8\",\n",
    "                \"4-1\",\n",
    "                \"4-10\",\n",
    "                \"4-11\",\n",
    "                \"5-1\",\n",
    "                \"5-5\",\n",
    "                \"6-1\",\n",
    "                \"6-15\",\n",
    "                \"6-6\",\n",
    "                \"7-10\",\n",
    "                \"7-11\",\n",
    "                \"7-12\",\n",
    "                \"7-13\",\n",
    "                \"7-14\",\n",
    "                \"7-7\",\n",
    "                \"7-8\",\n",
    "                \"7-9\",\n",
    "                \"8-1\",\n",
    "                \"8-13\",\n",
    "                \"8-14\",\n",
    "                \"8-18\",\n",
    "                \"8-20\",\n",
    "                \"8-3\",\n",
    "                \"8-8\",\n",
    "                \"9-1\",\n",
    "                \"9-7\",\n",
    "            ],\n",
    "            \"domains\": [1, 2, 3, 4],\n",
    "            \"num_examples_per_domain_per_label\": -1,\n",
    "            \"pickle_path\": \"/root/csc500-main/datasets/wisig.node3-19.stratified_ds.2022A.pkl\",\n",
    "            \"source_or_target_dataset\": \"source\",\n",
    "            \"x_transforms\": [],\n",
    "            \"episode_transforms\": [],\n",
    "            \"domain_prefix\": \"Wisig_\",\n",
    "        },\n",
    "        {\n",
    "            \"labels\": [\n",
    "                \"3123D52\",\n",
    "                \"3123D65\",\n",
    "                \"3123D79\",\n",
    "                \"3123D80\",\n",
    "                \"3123D54\",\n",
    "                \"3123D70\",\n",
    "                \"3123D7B\",\n",
    "                \"3123D89\",\n",
    "                \"3123D58\",\n",
    "                \"3123D76\",\n",
    "                \"3123D7D\",\n",
    "                \"3123EFE\",\n",
    "                \"3123D64\",\n",
    "                \"3123D78\",\n",
    "                \"3123D7E\",\n",
    "                \"3124E4A\",\n",
    "            ],\n",
    "            \"domains\": [32, 38, 8, 44, 14, 50, 20, 26],\n",
    "            \"num_examples_per_domain_per_label\": 2000,\n",
    "            \"pickle_path\": \"/root/csc500-main/datasets/oracle.Run1_10kExamples_stratified_ds.2022A.pkl\",\n",
    "            \"source_or_target_dataset\": \"target\",\n",
    "            \"x_transforms\": [],\n",
    "            \"episode_transforms\": [],\n",
    "            \"domain_prefix\": \"ORACLE.run1\",\n",
    "        },\n",
    "    ],\n",
    "    \"dataset_seed\": 500,\n",
    "    \"seed\": 500,\n",
    "}\n"
   ]
  },
  {
   "cell_type": "code",
   "execution_count": 5,
   "id": "8fa1cc33",
   "metadata": {
    "execution": {
     "iopub.execute_input": "2022-03-23T06:38:44.780856Z",
     "iopub.status.busy": "2022-03-23T06:38:44.776367Z",
     "iopub.status.idle": "2022-03-23T06:38:44.796211Z",
     "shell.execute_reply": "2022-03-23T06:38:44.795302Z"
    },
    "papermill": {
     "duration": 0.047147,
     "end_time": "2022-03-23T06:38:44.796390",
     "exception": false,
     "start_time": "2022-03-23T06:38:44.749243",
     "status": "completed"
    },
    "tags": []
   },
   "outputs": [],
   "source": [
    "# Set this to True if you want to run this template directly\n",
    "STANDALONE = False\n",
    "if STANDALONE:\n",
    "    print(\"parameters not injected, running with standalone_parameters\")\n",
    "    parameters = standalone_parameters\n",
    "\n",
    "if not 'parameters' in locals() and not 'parameters' in globals():\n",
    "    raise Exception(\"Parameter injection failed\")\n",
    "\n",
    "#Use an easy dict for all the parameters\n",
    "p = EasyDict(parameters)\n",
    "\n",
    "if \"x_shape\" not in p:\n",
    "    p.x_shape = [2,256] # Default to this if we dont supply x_shape\n",
    "\n",
    "\n",
    "supplied_keys = set(p.keys())\n",
    "\n",
    "if  supplied_keys != required_parameters:\n",
    "    print(\"Parameters are incorrect\")\n",
    "    if len(supplied_keys - required_parameters)>0: print(\"Shouldn't have:\", str(supplied_keys - required_parameters))\n",
    "    if len(required_parameters - supplied_keys)>0: print(\"Need to have:\", str(required_parameters - supplied_keys))\n",
    "    raise RuntimeError(\"Parameters are incorrect\")"
   ]
  },
  {
   "cell_type": "code",
   "execution_count": 6,
   "id": "3a028d58",
   "metadata": {
    "execution": {
     "iopub.execute_input": "2022-03-23T06:38:44.848393Z",
     "iopub.status.busy": "2022-03-23T06:38:44.847827Z",
     "iopub.status.idle": "2022-03-23T06:38:44.865648Z",
     "shell.execute_reply": "2022-03-23T06:38:44.864878Z"
    },
    "papermill": {
     "duration": 0.042345,
     "end_time": "2022-03-23T06:38:44.865819",
     "exception": false,
     "start_time": "2022-03-23T06:38:44.823474",
     "status": "completed"
    },
    "tags": []
   },
   "outputs": [],
   "source": [
    "###################################\n",
    "# Set the RNGs and make it all deterministic\n",
    "###################################\n",
    "np.random.seed(p.seed)\n",
    "random.seed(p.seed)\n",
    "torch.manual_seed(p.seed)\n",
    "\n",
    "torch.use_deterministic_algorithms(True) "
   ]
  },
  {
   "cell_type": "code",
   "execution_count": 7,
   "id": "b691acf6",
   "metadata": {
    "execution": {
     "iopub.execute_input": "2022-03-23T06:38:44.916893Z",
     "iopub.status.busy": "2022-03-23T06:38:44.915036Z",
     "iopub.status.idle": "2022-03-23T06:38:44.940226Z",
     "shell.execute_reply": "2022-03-23T06:38:44.939442Z"
    },
    "papermill": {
     "duration": 0.047978,
     "end_time": "2022-03-23T06:38:44.940399",
     "exception": false,
     "start_time": "2022-03-23T06:38:44.892421",
     "status": "completed"
    },
    "tags": []
   },
   "outputs": [],
   "source": [
    "###########################################\n",
    "# The stratified datasets honor this\n",
    "###########################################\n",
    "torch.set_default_dtype(eval(p.torch_default_dtype))"
   ]
  },
  {
   "cell_type": "code",
   "execution_count": 8,
   "id": "b5fba671",
   "metadata": {
    "execution": {
     "iopub.execute_input": "2022-03-23T06:38:45.000879Z",
     "iopub.status.busy": "2022-03-23T06:38:45.000055Z",
     "iopub.status.idle": "2022-03-23T06:38:45.054720Z",
     "shell.execute_reply": "2022-03-23T06:38:45.053962Z"
    },
    "papermill": {
     "duration": 0.086673,
     "end_time": "2022-03-23T06:38:45.054903",
     "exception": false,
     "start_time": "2022-03-23T06:38:44.968230",
     "status": "completed"
    },
    "tags": []
   },
   "outputs": [],
   "source": [
    "###################################\n",
    "# Build the network(s)\n",
    "# Note: It's critical to do this AFTER setting the RNG\n",
    "###################################\n",
    "x_net = build_sequential(p.x_net)"
   ]
  },
  {
   "cell_type": "code",
   "execution_count": 9,
   "id": "5d7e61cc",
   "metadata": {
    "execution": {
     "iopub.execute_input": "2022-03-23T06:38:45.114811Z",
     "iopub.status.busy": "2022-03-23T06:38:45.114250Z",
     "iopub.status.idle": "2022-03-23T06:38:45.138474Z",
     "shell.execute_reply": "2022-03-23T06:38:45.137660Z"
    },
    "papermill": {
     "duration": 0.048607,
     "end_time": "2022-03-23T06:38:45.138638",
     "exception": false,
     "start_time": "2022-03-23T06:38:45.090031",
     "status": "completed"
    },
    "tags": []
   },
   "outputs": [],
   "source": [
    "start_time_secs = time.time()"
   ]
  },
  {
   "cell_type": "code",
   "execution_count": 10,
   "id": "c6b67dfd",
   "metadata": {
    "execution": {
     "iopub.execute_input": "2022-03-23T06:38:45.192981Z",
     "iopub.status.busy": "2022-03-23T06:38:45.186619Z",
     "iopub.status.idle": "2022-03-23T06:38:45.206538Z",
     "shell.execute_reply": "2022-03-23T06:38:45.205835Z"
    },
    "papermill": {
     "duration": 0.043119,
     "end_time": "2022-03-23T06:38:45.206689",
     "exception": false,
     "start_time": "2022-03-23T06:38:45.163570",
     "status": "completed"
    },
    "tags": []
   },
   "outputs": [],
   "source": [
    "p.domains_source = []\n",
    "p.domains_target = []\n",
    "\n",
    "\n",
    "train_original_source = []\n",
    "val_original_source   = []\n",
    "test_original_source  = []\n",
    "\n",
    "train_original_target = []\n",
    "val_original_target   = []\n",
    "test_original_target  = []"
   ]
  },
  {
   "cell_type": "code",
   "execution_count": 11,
   "id": "e3d9c3d3",
   "metadata": {
    "execution": {
     "iopub.execute_input": "2022-03-23T06:38:45.255612Z",
     "iopub.status.busy": "2022-03-23T06:38:45.255112Z",
     "iopub.status.idle": "2022-03-23T06:38:45.276839Z",
     "shell.execute_reply": "2022-03-23T06:38:45.276034Z"
    },
    "papermill": {
     "duration": 0.045177,
     "end_time": "2022-03-23T06:38:45.276996",
     "exception": false,
     "start_time": "2022-03-23T06:38:45.231819",
     "status": "completed"
    },
    "tags": []
   },
   "outputs": [],
   "source": [
    "# global_x_transform_func = lambda x: normalize(x.to(torch.get_default_dtype()), \"unit_power\") # unit_power, unit_mag\n",
    "# global_x_transform_func = lambda x: normalize(x, \"unit_power\") # unit_power, unit_mag"
   ]
  },
  {
   "cell_type": "code",
   "execution_count": 12,
   "id": "acb78fd2",
   "metadata": {
    "execution": {
     "iopub.execute_input": "2022-03-23T06:38:45.332121Z",
     "iopub.status.busy": "2022-03-23T06:38:45.331740Z",
     "iopub.status.idle": "2022-03-23T06:38:45.349702Z",
     "shell.execute_reply": "2022-03-23T06:38:45.348897Z"
    },
    "papermill": {
     "duration": 0.044945,
     "end_time": "2022-03-23T06:38:45.349856",
     "exception": false,
     "start_time": "2022-03-23T06:38:45.304911",
     "status": "completed"
    },
    "tags": []
   },
   "outputs": [],
   "source": [
    "def add_dataset(\n",
    "    labels,\n",
    "    domains,\n",
    "    pickle_path,\n",
    "    x_transforms,\n",
    "    episode_transforms,\n",
    "    domain_prefix,\n",
    "    num_examples_per_domain_per_label,\n",
    "    source_or_target_dataset:str,\n",
    "    iterator_seed=p.seed,\n",
    "    dataset_seed=p.dataset_seed,\n",
    "    n_shot=p.n_shot,\n",
    "    n_way=p.n_way,\n",
    "    n_query=p.n_query,\n",
    "    train_val_test_k_factors=(p.train_k_factor,p.val_k_factor,p.test_k_factor),\n",
    "):\n",
    "   \n",
    "    if x_transforms == []: x_transform = None\n",
    "    else: x_transform = get_chained_transform(x_transforms)\n",
    "    \n",
    "    if episode_transforms == []: episode_transform = None\n",
    "    else: raise Exception(\"episode_transforms not implemented\")\n",
    "    \n",
    "    episode_transform = lambda tup, _prefix=domain_prefix: (_prefix + str(tup[0]), tup[1])\n",
    "\n",
    "\n",
    "    eaf = Episodic_Accessor_Factory(\n",
    "        labels=labels,\n",
    "        domains=domains,\n",
    "        num_examples_per_domain_per_label=num_examples_per_domain_per_label,\n",
    "        iterator_seed=iterator_seed,\n",
    "        dataset_seed=dataset_seed,\n",
    "        n_shot=n_shot,\n",
    "        n_way=n_way,\n",
    "        n_query=n_query,\n",
    "        train_val_test_k_factors=train_val_test_k_factors,\n",
    "        pickle_path=pickle_path,\n",
    "        x_transform_func=x_transform,\n",
    "    )\n",
    "\n",
    "    train, val, test = eaf.get_train(), eaf.get_val(), eaf.get_test()\n",
    "    train = Lazy_Iterable_Wrapper(train, episode_transform)\n",
    "    val = Lazy_Iterable_Wrapper(val, episode_transform)\n",
    "    test = Lazy_Iterable_Wrapper(test, episode_transform)\n",
    "\n",
    "    if source_or_target_dataset==\"source\":\n",
    "        train_original_source.append(train)\n",
    "        val_original_source.append(val)\n",
    "        test_original_source.append(test)\n",
    "\n",
    "        p.domains_source.extend(\n",
    "            [domain_prefix + str(u) for u in domains]\n",
    "        )\n",
    "    elif source_or_target_dataset==\"target\":\n",
    "        train_original_target.append(train)\n",
    "        val_original_target.append(val)\n",
    "        test_original_target.append(test)\n",
    "        p.domains_target.extend(\n",
    "            [domain_prefix + str(u) for u in domains]\n",
    "        )\n",
    "    else:\n",
    "        raise Exception(f\"invalid source_or_target_dataset: {source_or_target_dataset}\")\n",
    "    "
   ]
  },
  {
   "cell_type": "code",
   "execution_count": 13,
   "id": "fe266617",
   "metadata": {
    "execution": {
     "iopub.execute_input": "2022-03-23T06:38:45.403663Z",
     "iopub.status.busy": "2022-03-23T06:38:45.398051Z",
     "iopub.status.idle": "2022-03-23T06:38:51.439020Z",
     "shell.execute_reply": "2022-03-23T06:38:51.438234Z"
    },
    "papermill": {
     "duration": 6.063631,
     "end_time": "2022-03-23T06:38:51.439213",
     "exception": false,
     "start_time": "2022-03-23T06:38:45.375582",
     "status": "completed"
    },
    "tags": []
   },
   "outputs": [],
   "source": [
    "for ds in p.datasets:\n",
    "    add_dataset(**ds)"
   ]
  },
  {
   "cell_type": "code",
   "execution_count": 14,
   "id": "b90d65ac",
   "metadata": {
    "execution": {
     "iopub.execute_input": "2022-03-23T06:38:51.491215Z",
     "iopub.status.busy": "2022-03-23T06:38:51.490840Z",
     "iopub.status.idle": "2022-03-23T06:38:51.513554Z",
     "shell.execute_reply": "2022-03-23T06:38:51.512753Z"
    },
    "papermill": {
     "duration": 0.046463,
     "end_time": "2022-03-23T06:38:51.513711",
     "exception": false,
     "start_time": "2022-03-23T06:38:51.467248",
     "status": "completed"
    },
    "tags": []
   },
   "outputs": [],
   "source": [
    "# from steves_utils.CORES.utils import (\n",
    "#     ALL_NODES,\n",
    "#     ALL_NODES_MINIMUM_1000_EXAMPLES,\n",
    "#     ALL_DAYS\n",
    "# )\n",
    "\n",
    "# add_dataset(\n",
    "#     labels=ALL_NODES,\n",
    "#     domains = ALL_DAYS,\n",
    "#     num_examples_per_domain_per_label=100,\n",
    "#     pickle_path=os.path.join(get_datasets_base_path(), \"cores.stratified_ds.2022A.pkl\"),\n",
    "#     source_or_target_dataset=\"target\",\n",
    "#     x_transform_func=global_x_transform_func,\n",
    "#     domain_modifier=lambda u: f\"cores_{u}\"\n",
    "# )"
   ]
  },
  {
   "cell_type": "code",
   "execution_count": 15,
   "id": "76db484d",
   "metadata": {
    "execution": {
     "iopub.execute_input": "2022-03-23T06:38:51.563201Z",
     "iopub.status.busy": "2022-03-23T06:38:51.562006Z",
     "iopub.status.idle": "2022-03-23T06:38:51.585182Z",
     "shell.execute_reply": "2022-03-23T06:38:51.584480Z"
    },
    "papermill": {
     "duration": 0.045707,
     "end_time": "2022-03-23T06:38:51.585338",
     "exception": false,
     "start_time": "2022-03-23T06:38:51.539631",
     "status": "completed"
    },
    "tags": []
   },
   "outputs": [],
   "source": [
    "# from steves_utils.ORACLE.utils_v2 import (\n",
    "#     ALL_DISTANCES_FEET,\n",
    "#     ALL_RUNS,\n",
    "#     ALL_SERIAL_NUMBERS,\n",
    "# )\n",
    "\n",
    "\n",
    "# add_dataset(\n",
    "#     labels=ALL_SERIAL_NUMBERS,\n",
    "#     domains = list(set(ALL_DISTANCES_FEET) - {2,62}),\n",
    "#     num_examples_per_domain_per_label=100,\n",
    "#     pickle_path=os.path.join(get_datasets_base_path(), \"oracle.Run2_framed_2000Examples_stratified_ds.2022A.pkl\"),\n",
    "#     source_or_target_dataset=\"source\",\n",
    "#     x_transform_func=global_x_transform_func,\n",
    "#     domain_modifier=lambda u: f\"oracle1_{u}\"\n",
    "# )\n"
   ]
  },
  {
   "cell_type": "code",
   "execution_count": 16,
   "id": "97dea9d2",
   "metadata": {
    "execution": {
     "iopub.execute_input": "2022-03-23T06:38:51.640032Z",
     "iopub.status.busy": "2022-03-23T06:38:51.636539Z",
     "iopub.status.idle": "2022-03-23T06:38:51.657248Z",
     "shell.execute_reply": "2022-03-23T06:38:51.656447Z"
    },
    "papermill": {
     "duration": 0.045994,
     "end_time": "2022-03-23T06:38:51.657405",
     "exception": false,
     "start_time": "2022-03-23T06:38:51.611411",
     "status": "completed"
    },
    "tags": []
   },
   "outputs": [],
   "source": [
    "# from steves_utils.ORACLE.utils_v2 import (\n",
    "#     ALL_DISTANCES_FEET,\n",
    "#     ALL_RUNS,\n",
    "#     ALL_SERIAL_NUMBERS,\n",
    "# )\n",
    "\n",
    "\n",
    "# add_dataset(\n",
    "#     labels=ALL_SERIAL_NUMBERS,\n",
    "#     domains = list(set(ALL_DISTANCES_FEET) - {2,62,56}),\n",
    "#     num_examples_per_domain_per_label=100,\n",
    "#     pickle_path=os.path.join(get_datasets_base_path(), \"oracle.Run2_framed_2000Examples_stratified_ds.2022A.pkl\"),\n",
    "#     source_or_target_dataset=\"source\",\n",
    "#     x_transform_func=global_x_transform_func,\n",
    "#     domain_modifier=lambda u: f\"oracle2_{u}\"\n",
    "# )"
   ]
  },
  {
   "cell_type": "code",
   "execution_count": 17,
   "id": "6f289866",
   "metadata": {
    "execution": {
     "iopub.execute_input": "2022-03-23T06:38:51.707735Z",
     "iopub.status.busy": "2022-03-23T06:38:51.706851Z",
     "iopub.status.idle": "2022-03-23T06:38:51.729089Z",
     "shell.execute_reply": "2022-03-23T06:38:51.728393Z"
    },
    "papermill": {
     "duration": 0.045322,
     "end_time": "2022-03-23T06:38:51.729245",
     "exception": false,
     "start_time": "2022-03-23T06:38:51.683923",
     "status": "completed"
    },
    "tags": []
   },
   "outputs": [],
   "source": [
    "# add_dataset(\n",
    "#     labels=list(range(19)),\n",
    "#     domains = [0,1,2],\n",
    "#     num_examples_per_domain_per_label=100,\n",
    "#     pickle_path=os.path.join(get_datasets_base_path(), \"metehan.stratified_ds.2022A.pkl\"),\n",
    "#     source_or_target_dataset=\"target\",\n",
    "#     x_transform_func=global_x_transform_func,\n",
    "#     domain_modifier=lambda u: f\"met_{u}\"\n",
    "# )"
   ]
  },
  {
   "cell_type": "code",
   "execution_count": 18,
   "id": "86a863c3",
   "metadata": {
    "execution": {
     "iopub.execute_input": "2022-03-23T06:38:51.786135Z",
     "iopub.status.busy": "2022-03-23T06:38:51.785748Z",
     "iopub.status.idle": "2022-03-23T06:38:51.800635Z",
     "shell.execute_reply": "2022-03-23T06:38:51.799834Z"
    },
    "papermill": {
     "duration": 0.045268,
     "end_time": "2022-03-23T06:38:51.800792",
     "exception": false,
     "start_time": "2022-03-23T06:38:51.755524",
     "status": "completed"
    },
    "tags": []
   },
   "outputs": [],
   "source": [
    "# # from steves_utils.wisig.utils import (\n",
    "# #     ALL_NODES_MINIMUM_100_EXAMPLES,\n",
    "# #     ALL_NODES_MINIMUM_500_EXAMPLES,\n",
    "# #     ALL_NODES_MINIMUM_1000_EXAMPLES,\n",
    "# #     ALL_DAYS\n",
    "# # )\n",
    "\n",
    "# import steves_utils.wisig.utils as wisig\n",
    "\n",
    "\n",
    "# add_dataset(\n",
    "#     labels=wisig.ALL_NODES_MINIMUM_100_EXAMPLES,\n",
    "#     domains = wisig.ALL_DAYS,\n",
    "#     num_examples_per_domain_per_label=100,\n",
    "#     pickle_path=os.path.join(get_datasets_base_path(), \"wisig.node3-19.stratified_ds.2022A.pkl\"),\n",
    "#     source_or_target_dataset=\"target\",\n",
    "#     x_transform_func=global_x_transform_func,\n",
    "#     domain_modifier=lambda u: f\"wisig_{u}\"\n",
    "# )"
   ]
  },
  {
   "cell_type": "code",
   "execution_count": 19,
   "id": "fd5442bc",
   "metadata": {
    "execution": {
     "iopub.execute_input": "2022-03-23T06:38:51.859599Z",
     "iopub.status.busy": "2022-03-23T06:38:51.857824Z",
     "iopub.status.idle": "2022-03-23T06:38:51.878396Z",
     "shell.execute_reply": "2022-03-23T06:38:51.877601Z"
    },
    "papermill": {
     "duration": 0.048626,
     "end_time": "2022-03-23T06:38:51.878552",
     "exception": false,
     "start_time": "2022-03-23T06:38:51.829926",
     "status": "completed"
    },
    "tags": []
   },
   "outputs": [],
   "source": [
    "###################################\n",
    "# Build the dataset\n",
    "###################################\n",
    "train_original_source = Iterable_Aggregator(train_original_source, p.seed)\n",
    "val_original_source = Iterable_Aggregator(val_original_source, p.seed)\n",
    "test_original_source = Iterable_Aggregator(test_original_source, p.seed)\n",
    "\n",
    "\n",
    "train_original_target = Iterable_Aggregator(train_original_target, p.seed)\n",
    "val_original_target = Iterable_Aggregator(val_original_target, p.seed)\n",
    "test_original_target = Iterable_Aggregator(test_original_target, p.seed)\n",
    "\n",
    "# For CNN We only use X and Y. And we only train on the source.\n",
    "# Properly form the data using a transform lambda and Lazy_Iterable_Wrapper. Finally wrap them in a dataloader\n",
    "\n",
    "transform_lambda = lambda ex: ex[1] # Original is (<domain>, <episode>) so we strip down to episode only\n",
    "\n",
    "train_processed_source = Lazy_Iterable_Wrapper(train_original_source, transform_lambda)\n",
    "val_processed_source   = Lazy_Iterable_Wrapper(val_original_source, transform_lambda)\n",
    "test_processed_source  = Lazy_Iterable_Wrapper(test_original_source, transform_lambda)\n",
    "\n",
    "train_processed_target = Lazy_Iterable_Wrapper(train_original_target, transform_lambda)\n",
    "val_processed_target   = Lazy_Iterable_Wrapper(val_original_target, transform_lambda)\n",
    "test_processed_target  = Lazy_Iterable_Wrapper(test_original_target, transform_lambda)\n",
    "\n",
    "datasets = EasyDict({\n",
    "    \"source\": {\n",
    "        \"original\": {\"train\":train_original_source, \"val\":val_original_source, \"test\":test_original_source},\n",
    "        \"processed\": {\"train\":train_processed_source, \"val\":val_processed_source, \"test\":test_processed_source}\n",
    "    },\n",
    "    \"target\": {\n",
    "        \"original\": {\"train\":train_original_target, \"val\":val_original_target, \"test\":test_original_target},\n",
    "        \"processed\": {\"train\":train_processed_target, \"val\":val_processed_target, \"test\":test_processed_target}\n",
    "    },\n",
    "})"
   ]
  },
  {
   "cell_type": "code",
   "execution_count": 20,
   "id": "5b3c01fc",
   "metadata": {
    "execution": {
     "iopub.execute_input": "2022-03-23T06:38:51.935825Z",
     "iopub.status.busy": "2022-03-23T06:38:51.933084Z",
     "iopub.status.idle": "2022-03-23T06:39:06.997592Z",
     "shell.execute_reply": "2022-03-23T06:39:06.996727Z"
    },
    "papermill": {
     "duration": 15.090824,
     "end_time": "2022-03-23T06:39:06.997767",
     "exception": false,
     "start_time": "2022-03-23T06:38:51.906943",
     "status": "completed"
    },
    "tags": []
   },
   "outputs": [
    {
     "name": "stdout",
     "output_type": "stream",
     "text": [
      "{'Wisig_2', 'Wisig_3', 'Wisig_1', 'Wisig_4'}\n"
     ]
    },
    {
     "name": "stdout",
     "output_type": "stream",
     "text": [
      "{'ORACLE.run114', 'ORACLE.run132', 'ORACLE.run18', 'ORACLE.run144', 'ORACLE.run120', 'ORACLE.run138', 'ORACLE.run150', 'ORACLE.run126'}\n"
     ]
    },
    {
     "name": "stdout",
     "output_type": "stream",
     "text": [
      "tensor([[[ 5.8382e-02, -9.0030e-03,  3.2350e-03,  ...,  6.6836e-03,\n",
      "           7.7822e-03,  1.7212e-02],\n",
      "         [ 2.6276e-02,  3.8881e-02,  1.3459e-02,  ...,  6.6836e-03,\n",
      "           1.2116e-02, -2.4415e-03]],\n",
      "\n",
      "        [[-1.5046e-02,  2.0234e-02,  5.7070e-03,  ..., -6.7446e-03,\n",
      "           1.6785e-03, -9.0945e-03],\n",
      "         [-5.5727e-02, -1.2146e-02,  9.7659e-04,  ..., -1.0865e-02,\n",
      "          -3.4181e-03, -5.8596e-03]],\n",
      "\n",
      "        [[ 2.6795e-02, -2.2279e-03,  5.9206e-03,  ...,  1.0773e-02,\n",
      "           4.4557e-03,  2.4567e-02],\n",
      "         [ 3.6897e-02,  8.8504e-03, -4.7304e-03,  ...,  9.7659e-04,\n",
      "          -3.1739e-03, -3.2350e-02]],\n",
      "\n",
      "        ...,\n",
      "\n",
      "        [[-1.3581e-02,  1.5717e-02,  2.4964e-02,  ..., -1.2055e-02,\n",
      "          -2.8993e-02,  9.2166e-03],\n",
      "         [-1.6755e-02, -2.4232e-02,  1.0743e-02,  ...,  1.9471e-02,\n",
      "           3.0519e-05, -2.0112e-02]],\n",
      "\n",
      "        [[ 3.6195e-02, -3.0824e-03, -2.5544e-02,  ..., -1.7701e-03,\n",
      "           2.8504e-02,  2.4140e-02],\n",
      "         [ 1.7335e-02,  3.6561e-02,  4.3031e-03,  ..., -3.4791e-02,\n",
      "          -2.8626e-02, -3.6622e-04]],\n",
      "\n",
      "        [[ 7.0498e-03, -1.3581e-02, -1.8799e-02,  ..., -8.8198e-03,\n",
      "           5.0661e-03, -1.0254e-02],\n",
      "         [ 4.3641e-03,  2.1302e-02, -1.4374e-02,  ...,  4.4557e-03,\n",
      "           1.4100e-02,  1.9593e-02]]])\n"
     ]
    }
   ],
   "source": [
    "from steves_utils.transforms import get_average_magnitude, get_average_power\n",
    "\n",
    "print(set([u for u,_ in val_original_source]))\n",
    "print(set([u for u,_ in val_original_target]))\n",
    "\n",
    "s_x, s_y, q_x, q_y, _ = next(iter(train_processed_source))\n",
    "print(s_x)\n",
    "\n",
    "# for ds in [\n",
    "#     train_processed_source,\n",
    "#     val_processed_source,\n",
    "#     test_processed_source,\n",
    "#     train_processed_target,\n",
    "#     val_processed_target,\n",
    "#     test_processed_target\n",
    "# ]:\n",
    "#     for s_x, s_y, q_x, q_y, _ in ds:\n",
    "#         for X in (s_x, q_x):\n",
    "#             for x in X:\n",
    "#                 assert np.isclose(get_average_magnitude(x.numpy()), 1.0)\n",
    "#                 assert np.isclose(get_average_power(x.numpy()), 1.0)\n",
    "                "
   ]
  },
  {
   "cell_type": "code",
   "execution_count": 21,
   "id": "bbdacba1",
   "metadata": {
    "execution": {
     "iopub.execute_input": "2022-03-23T06:39:07.050776Z",
     "iopub.status.busy": "2022-03-23T06:39:07.050407Z",
     "iopub.status.idle": "2022-03-23T06:39:07.278856Z",
     "shell.execute_reply": "2022-03-23T06:39:07.279175Z"
    },
    "papermill": {
     "duration": 0.254632,
     "end_time": "2022-03-23T06:39:07.279326",
     "exception": false,
     "start_time": "2022-03-23T06:39:07.024694",
     "status": "completed"
    },
    "tags": []
   },
   "outputs": [
    {
     "name": "stdout",
     "output_type": "stream",
     "text": [
      "(2, 256)\n"
     ]
    }
   ],
   "source": [
    "###################################\n",
    "# Build the model\n",
    "###################################\n",
    "# easfsl only wants a tuple for the shape\n",
    "model = Steves_Prototypical_Network(x_net, device=p.device, x_shape=tuple(p.x_shape))\n",
    "optimizer = Adam(params=model.parameters(), lr=p.lr)"
   ]
  },
  {
   "cell_type": "code",
   "execution_count": 22,
   "id": "22b39ac5",
   "metadata": {
    "execution": {
     "iopub.execute_input": "2022-03-23T06:39:07.328872Z",
     "iopub.status.busy": "2022-03-23T06:39:07.328500Z",
     "iopub.status.idle": "2022-03-23T06:53:52.886667Z",
     "shell.execute_reply": "2022-03-23T06:53:52.886325Z"
    },
    "papermill": {
     "duration": 885.584336,
     "end_time": "2022-03-23T06:53:52.886754",
     "exception": false,
     "start_time": "2022-03-23T06:39:07.302418",
     "status": "completed"
    },
    "tags": []
   },
   "outputs": [
    {
     "name": "stdout",
     "output_type": "stream",
     "text": [
      "epoch: 1, [batch: 1 / 6843], examples_per_second: 30.8311, train_label_loss: 2.1935, \n"
     ]
    },
    {
     "name": "stdout",
     "output_type": "stream",
     "text": [
      "epoch: 1, [batch: 685 / 6843], examples_per_second: 3454.7795, train_label_loss: 0.4950, \n"
     ]
    },
    {
     "name": "stdout",
     "output_type": "stream",
     "text": [
      "epoch: 1, [batch: 1369 / 6843], examples_per_second: 3520.0143, train_label_loss: 0.2610, \n"
     ]
    },
    {
     "name": "stdout",
     "output_type": "stream",
     "text": [
      "epoch: 1, [batch: 2053 / 6843], examples_per_second: 3454.0736, train_label_loss: 0.0117, \n"
     ]
    },
    {
     "name": "stdout",
     "output_type": "stream",
     "text": [
      "epoch: 1, [batch: 2737 / 6843], examples_per_second: 3312.0894, train_label_loss: 0.2321, \n"
     ]
    },
    {
     "name": "stdout",
     "output_type": "stream",
     "text": [
      "epoch: 1, [batch: 3422 / 6843], examples_per_second: 3343.1209, train_label_loss: 0.3228, \n"
     ]
    },
    {
     "name": "stdout",
     "output_type": "stream",
     "text": [
      "epoch: 1, [batch: 4106 / 6843], examples_per_second: 3436.2137, train_label_loss: 0.4473, \n"
     ]
    },
    {
     "name": "stdout",
     "output_type": "stream",
     "text": [
      "epoch: 1, [batch: 4790 / 6843], examples_per_second: 3357.0474, train_label_loss: 0.8334, \n"
     ]
    },
    {
     "name": "stdout",
     "output_type": "stream",
     "text": [
      "epoch: 1, [batch: 5474 / 6843], examples_per_second: 3495.4473, train_label_loss: 0.0735, \n"
     ]
    },
    {
     "name": "stdout",
     "output_type": "stream",
     "text": [
      "epoch: 1, [batch: 6158 / 6843], examples_per_second: 3452.6336, train_label_loss: 0.2968, \n"
     ]
    },
    {
     "name": "stdout",
     "output_type": "stream",
     "text": [
      "=============================================================\n",
      "epoch: 1, source_val_acc_label: 0.9623, target_val_acc_label: 0.2646, source_val_label_loss: 0.1809, target_val_label_loss: 2.5742, \n",
      "=============================================================\n"
     ]
    },
    {
     "name": "stdout",
     "output_type": "stream",
     "text": [
      "New best\n"
     ]
    },
    {
     "name": "stdout",
     "output_type": "stream",
     "text": [
      "epoch: 2, [batch: 1 / 6824], examples_per_second: 3.0859, train_label_loss: 0.0700, \n"
     ]
    },
    {
     "name": "stdout",
     "output_type": "stream",
     "text": [
      "epoch: 2, [batch: 683 / 6824], examples_per_second: 3357.4586, train_label_loss: 0.2089, \n"
     ]
    },
    {
     "name": "stdout",
     "output_type": "stream",
     "text": [
      "epoch: 2, [batch: 1365 / 6824], examples_per_second: 3459.8670, train_label_loss: 0.2769, \n"
     ]
    },
    {
     "name": "stdout",
     "output_type": "stream",
     "text": [
      "epoch: 2, [batch: 2047 / 6824], examples_per_second: 3433.4096, train_label_loss: 0.2782, \n"
     ]
    },
    {
     "name": "stdout",
     "output_type": "stream",
     "text": [
      "epoch: 2, [batch: 2730 / 6824], examples_per_second: 3364.0762, train_label_loss: 0.0091, \n"
     ]
    },
    {
     "name": "stdout",
     "output_type": "stream",
     "text": [
      "epoch: 2, [batch: 3412 / 6824], examples_per_second: 3392.1477, train_label_loss: 0.0188, \n"
     ]
    },
    {
     "name": "stdout",
     "output_type": "stream",
     "text": [
      "epoch: 2, [batch: 4094 / 6824], examples_per_second: 3381.7455, train_label_loss: 0.0131, \n"
     ]
    },
    {
     "name": "stdout",
     "output_type": "stream",
     "text": [
      "epoch: 2, [batch: 4777 / 6824], examples_per_second: 3372.8057, train_label_loss: 0.0124, \n"
     ]
    },
    {
     "name": "stdout",
     "output_type": "stream",
     "text": [
      "epoch: 2, [batch: 5459 / 6824], examples_per_second: 3402.9241, train_label_loss: 0.0059, \n"
     ]
    },
    {
     "name": "stdout",
     "output_type": "stream",
     "text": [
      "epoch: 2, [batch: 6141 / 6824], examples_per_second: 3392.4704, train_label_loss: 0.0269, \n"
     ]
    },
    {
     "name": "stdout",
     "output_type": "stream",
     "text": [
      "=============================================================\n",
      "epoch: 2, source_val_acc_label: 0.9708, target_val_acc_label: 0.2635, source_val_label_loss: 0.1301, target_val_label_loss: 2.5713, \n",
      "=============================================================\n"
     ]
    },
    {
     "name": "stdout",
     "output_type": "stream",
     "text": [
      "epoch: 3, [batch: 1 / 6845], examples_per_second: 3.0961, train_label_loss: 0.0215, \n"
     ]
    },
    {
     "name": "stdout",
     "output_type": "stream",
     "text": [
      "epoch: 3, [batch: 685 / 6845], examples_per_second: 3338.2909, train_label_loss: 0.0076, \n"
     ]
    },
    {
     "name": "stdout",
     "output_type": "stream",
     "text": [
      "epoch: 3, [batch: 1369 / 6845], examples_per_second: 3922.0200, train_label_loss: 0.1512, \n"
     ]
    },
    {
     "name": "stdout",
     "output_type": "stream",
     "text": [
      "epoch: 3, [batch: 2054 / 6845], examples_per_second: 3960.1035, train_label_loss: 0.1582, \n"
     ]
    },
    {
     "name": "stdout",
     "output_type": "stream",
     "text": [
      "epoch: 3, [batch: 2738 / 6845], examples_per_second: 3904.2245, train_label_loss: 0.0064, \n"
     ]
    },
    {
     "name": "stdout",
     "output_type": "stream",
     "text": [
      "epoch: 3, [batch: 3423 / 6845], examples_per_second: 3902.2707, train_label_loss: 0.2810, \n"
     ]
    },
    {
     "name": "stdout",
     "output_type": "stream",
     "text": [
      "epoch: 3, [batch: 4107 / 6845], examples_per_second: 3929.3377, train_label_loss: 0.0138, \n"
     ]
    },
    {
     "name": "stdout",
     "output_type": "stream",
     "text": [
      "epoch: 3, [batch: 4791 / 6845], examples_per_second: 3924.7627, train_label_loss: 0.1085, \n"
     ]
    },
    {
     "name": "stdout",
     "output_type": "stream",
     "text": [
      "epoch: 3, [batch: 5476 / 6845], examples_per_second: 3886.5703, train_label_loss: 0.0230, \n"
     ]
    },
    {
     "name": "stdout",
     "output_type": "stream",
     "text": [
      "epoch: 3, [batch: 6160 / 6845], examples_per_second: 3993.7363, train_label_loss: 0.1927, \n"
     ]
    },
    {
     "name": "stdout",
     "output_type": "stream",
     "text": [
      "=============================================================\n",
      "epoch: 3, source_val_acc_label: 0.9730, target_val_acc_label: 0.2536, source_val_label_loss: 0.1146, target_val_label_loss: 2.5358, \n",
      "=============================================================\n"
     ]
    },
    {
     "name": "stdout",
     "output_type": "stream",
     "text": [
      "epoch: 4, [batch: 1 / 6840], examples_per_second: 3.8412, train_label_loss: 0.0062, \n"
     ]
    },
    {
     "name": "stdout",
     "output_type": "stream",
     "text": [
      "epoch: 4, [batch: 684 / 6840], examples_per_second: 3923.2442, train_label_loss: 0.2839, \n"
     ]
    },
    {
     "name": "stdout",
     "output_type": "stream",
     "text": [
      "epoch: 4, [batch: 1368 / 6840], examples_per_second: 3908.4481, train_label_loss: 0.0169, \n"
     ]
    },
    {
     "name": "stdout",
     "output_type": "stream",
     "text": [
      "epoch: 4, [batch: 2052 / 6840], examples_per_second: 3952.9483, train_label_loss: 0.0008, \n"
     ]
    },
    {
     "name": "stdout",
     "output_type": "stream",
     "text": [
      "epoch: 4, [batch: 2736 / 6840], examples_per_second: 4085.8647, train_label_loss: 0.2221, \n"
     ]
    },
    {
     "name": "stdout",
     "output_type": "stream",
     "text": [
      "epoch: 4, [batch: 3420 / 6840], examples_per_second: 4313.5957, train_label_loss: 0.1435, \n"
     ]
    },
    {
     "name": "stdout",
     "output_type": "stream",
     "text": [
      "epoch: 4, [batch: 4104 / 6840], examples_per_second: 4310.8497, train_label_loss: 0.0243, \n"
     ]
    },
    {
     "name": "stdout",
     "output_type": "stream",
     "text": [
      "epoch: 4, [batch: 4788 / 6840], examples_per_second: 4301.2758, train_label_loss: 0.2529, \n"
     ]
    },
    {
     "name": "stdout",
     "output_type": "stream",
     "text": [
      "epoch: 4, [batch: 5472 / 6840], examples_per_second: 4554.9447, train_label_loss: 0.0085, \n"
     ]
    },
    {
     "name": "stdout",
     "output_type": "stream",
     "text": [
      "epoch: 4, [batch: 6156 / 6840], examples_per_second: 4494.2773, train_label_loss: 0.1250, \n"
     ]
    },
    {
     "name": "stdout",
     "output_type": "stream",
     "text": [
      "=============================================================\n",
      "epoch: 4, source_val_acc_label: 0.9742, target_val_acc_label: 0.2520, source_val_label_loss: 0.1197, target_val_label_loss: 2.5457, \n",
      "=============================================================\n"
     ]
    },
    {
     "name": "stdout",
     "output_type": "stream",
     "text": [
      "epoch: 5, [batch: 1 / 6843], examples_per_second: 5.0883, train_label_loss: 0.3390, \n"
     ]
    },
    {
     "name": "stdout",
     "output_type": "stream",
     "text": [
      "epoch: 5, [batch: 685 / 6843], examples_per_second: 3975.9341, train_label_loss: 0.0211, \n"
     ]
    },
    {
     "name": "stdout",
     "output_type": "stream",
     "text": [
      "epoch: 5, [batch: 1369 / 6843], examples_per_second: 3926.0661, train_label_loss: 0.1927, \n"
     ]
    },
    {
     "name": "stdout",
     "output_type": "stream",
     "text": [
      "epoch: 5, [batch: 2053 / 6843], examples_per_second: 3886.9045, train_label_loss: 0.0036, \n"
     ]
    },
    {
     "name": "stdout",
     "output_type": "stream",
     "text": [
      "epoch: 5, [batch: 2737 / 6843], examples_per_second: 3884.0667, train_label_loss: 0.0374, \n"
     ]
    },
    {
     "name": "stdout",
     "output_type": "stream",
     "text": [
      "epoch: 5, [batch: 3422 / 6843], examples_per_second: 4005.3402, train_label_loss: 0.2854, \n"
     ]
    },
    {
     "name": "stdout",
     "output_type": "stream",
     "text": [
      "epoch: 5, [batch: 4106 / 6843], examples_per_second: 4022.1939, train_label_loss: 0.2578, \n"
     ]
    },
    {
     "name": "stdout",
     "output_type": "stream",
     "text": [
      "epoch: 5, [batch: 4790 / 6843], examples_per_second: 4011.8560, train_label_loss: 0.0021, \n"
     ]
    },
    {
     "name": "stdout",
     "output_type": "stream",
     "text": [
      "epoch: 5, [batch: 5474 / 6843], examples_per_second: 4020.7172, train_label_loss: 0.0026, \n"
     ]
    },
    {
     "name": "stdout",
     "output_type": "stream",
     "text": [
      "epoch: 5, [batch: 6158 / 6843], examples_per_second: 4006.4225, train_label_loss: 0.0819, \n"
     ]
    },
    {
     "name": "stdout",
     "output_type": "stream",
     "text": [
      "=============================================================\n",
      "epoch: 5, source_val_acc_label: 0.9742, target_val_acc_label: 0.2257, source_val_label_loss: 0.1139, target_val_label_loss: 2.5499, \n",
      "=============================================================\n"
     ]
    },
    {
     "name": "stdout",
     "output_type": "stream",
     "text": [
      "Patience (3) exhausted\n"
     ]
    }
   ],
   "source": [
    "###################################\n",
    "# train\n",
    "###################################\n",
    "jig = PTN_Train_Eval_Test_Jig(model, p.BEST_MODEL_PATH, p.device)\n",
    "\n",
    "jig.train(\n",
    "    train_iterable=datasets.source.processed.train,\n",
    "    source_val_iterable=datasets.source.processed.val,\n",
    "    target_val_iterable=datasets.target.processed.val,\n",
    "    num_epochs=p.n_epoch,\n",
    "    num_logs_per_epoch=p.NUM_LOGS_PER_EPOCH,\n",
    "    patience=p.patience,\n",
    "    optimizer=optimizer,\n",
    "    criteria_for_best=p.criteria_for_best,\n",
    ")"
   ]
  },
  {
   "cell_type": "code",
   "execution_count": 23,
   "id": "31e8fabf",
   "metadata": {
    "execution": {
     "iopub.execute_input": "2022-03-23T06:53:52.965016Z",
     "iopub.status.busy": "2022-03-23T06:53:52.964060Z",
     "iopub.status.idle": "2022-03-23T06:53:52.994762Z",
     "shell.execute_reply": "2022-03-23T06:53:52.994031Z"
    },
    "papermill": {
     "duration": 0.070983,
     "end_time": "2022-03-23T06:53:52.994945",
     "exception": false,
     "start_time": "2022-03-23T06:53:52.923962",
     "status": "completed"
    },
    "tags": []
   },
   "outputs": [],
   "source": [
    "total_experiment_time_secs = time.time() - start_time_secs"
   ]
  },
  {
   "cell_type": "code",
   "execution_count": 24,
   "id": "87b9595b",
   "metadata": {
    "execution": {
     "iopub.execute_input": "2022-03-23T06:53:53.084183Z",
     "iopub.status.busy": "2022-03-23T06:53:53.083796Z",
     "iopub.status.idle": "2022-03-23T06:57:37.877031Z",
     "shell.execute_reply": "2022-03-23T06:57:37.875903Z"
    },
    "papermill": {
     "duration": 224.836183,
     "end_time": "2022-03-23T06:57:37.877322",
     "exception": false,
     "start_time": "2022-03-23T06:53:53.041139",
     "status": "completed"
    },
    "tags": []
   },
   "outputs": [],
   "source": [
    "###################################\n",
    "# Evaluate the model\n",
    "###################################\n",
    "source_test_label_accuracy, source_test_label_loss = jig.test(datasets.source.processed.test)\n",
    "target_test_label_accuracy, target_test_label_loss = jig.test(datasets.target.processed.test)\n",
    "\n",
    "source_val_label_accuracy, source_val_label_loss = jig.test(datasets.source.processed.val)\n",
    "target_val_label_accuracy, target_val_label_loss = jig.test(datasets.target.processed.val)\n",
    "\n",
    "history = jig.get_history()\n",
    "\n",
    "total_epochs_trained = len(history[\"epoch_indices\"])\n",
    "\n",
    "val_dl = Iterable_Aggregator((datasets.source.original.val,datasets.target.original.val))\n",
    "\n",
    "confusion = ptn_confusion_by_domain_over_dataloader(model, p.device, val_dl)\n",
    "per_domain_accuracy = per_domain_accuracy_from_confusion(confusion)\n",
    "\n",
    "# Add a key to per_domain_accuracy for if it was a source domain\n",
    "for domain, accuracy in per_domain_accuracy.items():\n",
    "    per_domain_accuracy[domain] = {\n",
    "        \"accuracy\": accuracy,\n",
    "        \"source?\": domain in p.domains_source\n",
    "    }\n",
    "\n",
    "# Do an independent accuracy assesment JUST TO BE SURE!\n",
    "# _source_test_label_accuracy = independent_accuracy_assesment(model, datasets.source.processed.test, p.device)\n",
    "# _target_test_label_accuracy = independent_accuracy_assesment(model, datasets.target.processed.test, p.device)\n",
    "# _source_val_label_accuracy = independent_accuracy_assesment(model, datasets.source.processed.val, p.device)\n",
    "# _target_val_label_accuracy = independent_accuracy_assesment(model, datasets.target.processed.val, p.device)\n",
    "\n",
    "# assert(_source_test_label_accuracy == source_test_label_accuracy)\n",
    "# assert(_target_test_label_accuracy == target_test_label_accuracy)\n",
    "# assert(_source_val_label_accuracy == source_val_label_accuracy)\n",
    "# assert(_target_val_label_accuracy == target_val_label_accuracy)\n",
    "\n",
    "experiment = {\n",
    "    \"experiment_name\": p.experiment_name,\n",
    "    \"parameters\": dict(p),\n",
    "    \"results\": {\n",
    "        \"source_test_label_accuracy\": source_test_label_accuracy,\n",
    "        \"source_test_label_loss\": source_test_label_loss,\n",
    "        \"target_test_label_accuracy\": target_test_label_accuracy,\n",
    "        \"target_test_label_loss\": target_test_label_loss,\n",
    "        \"source_val_label_accuracy\": source_val_label_accuracy,\n",
    "        \"source_val_label_loss\": source_val_label_loss,\n",
    "        \"target_val_label_accuracy\": target_val_label_accuracy,\n",
    "        \"target_val_label_loss\": target_val_label_loss,\n",
    "        \"total_epochs_trained\": total_epochs_trained,\n",
    "        \"total_experiment_time_secs\": total_experiment_time_secs,\n",
    "        \"confusion\": confusion,\n",
    "        \"per_domain_accuracy\": per_domain_accuracy,\n",
    "    },\n",
    "    \"history\": history,\n",
    "    \"dataset_metrics\": get_dataset_metrics(datasets, \"ptn\"),\n",
    "}"
   ]
  },
  {
   "cell_type": "code",
   "execution_count": 25,
   "id": "54a21829",
   "metadata": {
    "execution": {
     "iopub.execute_input": "2022-03-23T06:57:37.965002Z",
     "iopub.status.busy": "2022-03-23T06:57:37.964423Z",
     "iopub.status.idle": "2022-03-23T06:57:38.175781Z",
     "shell.execute_reply": "2022-03-23T06:57:38.176488Z"
    },
    "papermill": {
     "duration": 0.254572,
     "end_time": "2022-03-23T06:57:38.176726",
     "exception": false,
     "start_time": "2022-03-23T06:57:37.922154",
     "status": "completed"
    },
    "tags": []
   },
   "outputs": [
    {
     "data": {
      "image/png": "[encoded data removed]",
      "text/plain": [
       "<Figure size 1080x504 with 1 Axes>"
      ]
     },
     "metadata": {
      "needs_background": "light"
     },
     "output_type": "display_data"
    }
   ],
   "source": [
    "ax = get_loss_curve(experiment)\n",
    "plt.show()"
   ]
  },
  {
   "cell_type": "code",
   "execution_count": 26,
   "id": "fd8a0f60",
   "metadata": {
    "execution": {
     "iopub.execute_input": "2022-03-23T06:57:38.265573Z",
     "iopub.status.busy": "2022-03-23T06:57:38.265204Z",
     "iopub.status.idle": "2022-03-23T06:57:38.578122Z",
     "shell.execute_reply": "2022-03-23T06:57:38.578794Z"
    },
    "papermill": {
     "duration": 0.356466,
     "end_time": "2022-03-23T06:57:38.579020",
     "exception": false,
     "start_time": "2022-03-23T06:57:38.222554",
     "status": "completed"
    },
    "tags": []
   },
   "outputs": [
    {
     "data": {
      "text/plain": [
       "<AxesSubplot:title={'center':'Results'}>"
      ]
     },
     "execution_count": 26,
     "metadata": {},
     "output_type": "execute_result"
    },
    {
     "data": {
      "image/png": "[encoded data removed]",
      "text/plain": [
       "<Figure size 1080x504 with 1 Axes>"
      ]
     },
     "metadata": {
      "needs_background": "light"
     },
     "output_type": "display_data"
    }
   ],
   "source": [
    "get_results_table(experiment)"
   ]
  },
  {
   "cell_type": "code",
   "execution_count": 27,
   "id": "cf8dc689",
   "metadata": {
    "execution": {
     "iopub.execute_input": "2022-03-23T06:57:38.668024Z",
     "iopub.status.busy": "2022-03-23T06:57:38.667643Z",
     "iopub.status.idle": "2022-03-23T06:57:38.918176Z",
     "shell.execute_reply": "2022-03-23T06:57:38.917470Z"
    },
    "papermill": {
     "duration": 0.293682,
     "end_time": "2022-03-23T06:57:38.918353",
     "exception": false,
     "start_time": "2022-03-23T06:57:38.624671",
     "status": "completed"
    },
    "tags": []
   },
   "outputs": [
    {
     "data": {
      "text/plain": [
       "<AxesSubplot:title={'center':'Per Domain Validation Accuracy'}, xlabel='domain'>"
      ]
     },
     "execution_count": 27,
     "metadata": {},
     "output_type": "execute_result"
    },
    {
     "data": {
      "image/png": "[encoded data removed]",
      "text/plain": [
       "<Figure size 1080x504 with 1 Axes>"
      ]
     },
     "metadata": {
      "needs_background": "light"
     },
     "output_type": "display_data"
    }
   ],
   "source": [
    "get_domain_accuracies(experiment)"
   ]
  },
  {
   "cell_type": "code",
   "execution_count": 28,
   "id": "a74ae082",
   "metadata": {
    "execution": {
     "iopub.execute_input": "2022-03-23T06:57:39.012240Z",
     "iopub.status.busy": "2022-03-23T06:57:39.011823Z",
     "iopub.status.idle": "2022-03-23T06:57:39.038966Z",
     "shell.execute_reply": "2022-03-23T06:57:39.038151Z"
    },
    "papermill": {
     "duration": 0.073563,
     "end_time": "2022-03-23T06:57:39.039132",
     "exception": false,
     "start_time": "2022-03-23T06:57:38.965569",
     "status": "completed"
    },
    "tags": []
   },
   "outputs": [
    {
     "name": "stdout",
     "output_type": "stream",
     "text": [
      "Source Test Label Accuracy: 0.9611556359875905 Target Test Label Accuracy: 0.26614583333333336\n",
      "Source Val Label Accuracy: 0.9622890295358649 Target Val Label Accuracy: 0.26455078125\n"
     ]
    }
   ],
   "source": [
    "print(\"Source Test Label Accuracy:\", experiment[\"results\"][\"source_test_label_accuracy\"], \"Target Test Label Accuracy:\", experiment[\"results\"][\"target_test_label_accuracy\"])\n",
    "print(\"Source Val Label Accuracy:\", experiment[\"results\"][\"source_val_label_accuracy\"], \"Target Val Label Accuracy:\", experiment[\"results\"][\"target_val_label_accuracy\"])"
   ]
  },
  {
   "cell_type": "code",
   "execution_count": 29,
   "id": "dacca602",
   "metadata": {
    "execution": {
     "iopub.execute_input": "2022-03-23T06:57:39.132390Z",
     "iopub.status.busy": "2022-03-23T06:57:39.131503Z",
     "iopub.status.idle": "2022-03-23T06:57:39.155837Z",
     "shell.execute_reply": "2022-03-23T06:57:39.156405Z"
    },
    "papermill": {
     "duration": 0.070611,
     "end_time": "2022-03-23T06:57:39.156543",
     "exception": false,
     "start_time": "2022-03-23T06:57:39.085932",
     "status": "completed"
    },
    "tags": [
     "experiment_json"
    ]
   },
   "outputs": [
    {
     "data": {
      "text/plain": [
       "'{\"experiment_name\": \"tl_1v2:wisig-oracle.run1.limited\", \"parameters\": {\"experiment_name\": \"tl_1v2:wisig-oracle.run1.limited\", \"device\": \"cuda\", \"lr\": 0.0001, \"n_shot\": 3, \"n_query\": 2, \"train_k_factor\": 3, \"val_k_factor\": 2, \"test_k_factor\": 2, \"torch_default_dtype\": \"torch.float32\", \"n_epoch\": 50, \"patience\": 3, \"criteria_for_best\": \"target_accuracy\", \"x_net\": [{\"class\": \"nnReshape\", \"kargs\": {\"shape\": [-1, 1, 2, 256]}}, {\"class\": \"Conv2d\", \"kargs\": {\"in_channels\": 1, \"out_channels\": 256, \"kernel_size\": [1, 7], \"bias\": false, \"padding\": [0, 3]}}, {\"class\": \"ReLU\", \"kargs\": {\"inplace\": true}}, {\"class\": \"BatchNorm2d\", \"kargs\": {\"num_features\": 256}}, {\"class\": \"Conv2d\", \"kargs\": {\"in_channels\": 256, \"out_channels\": 80, \"kernel_size\": [2, 7], \"bias\": true, \"padding\": [0, 3]}}, {\"class\": \"ReLU\", \"kargs\": {\"inplace\": true}}, {\"class\": \"BatchNorm2d\", \"kargs\": {\"num_features\": 80}}, {\"class\": \"Flatten\", \"kargs\": {}}, {\"class\": \"Linear\", \"kargs\": {\"in_features\": 20480, \"out_features\": 256}}, {\"class\": \"ReLU\", \"kargs\": {\"inplace\": true}}, {\"class\": \"BatchNorm1d\", \"kargs\": {\"num_features\": 256}}, {\"class\": \"Linear\", \"kargs\": {\"in_features\": 256, \"out_features\": 256}}], \"NUM_LOGS_PER_EPOCH\": 10, \"BEST_MODEL_PATH\": \"./best_model.pth\", \"n_way\": 16, \"datasets\": [{\"labels\": [\"1-10\", \"1-12\", \"1-14\", \"1-16\", \"1-18\", \"1-19\", \"1-8\", \"10-11\", \"10-17\", \"10-4\", \"10-7\", \"11-1\", \"11-10\", \"11-19\", \"11-20\", \"11-4\", \"11-7\", \"12-19\", \"12-20\", \"12-7\", \"13-14\", \"13-18\", \"13-19\", \"13-20\", \"13-3\", \"13-7\", \"14-10\", \"14-11\", \"14-12\", \"14-13\", \"14-14\", \"14-19\", \"14-20\", \"14-7\", \"14-8\", \"14-9\", \"15-1\", \"15-19\", \"15-6\", \"16-1\", \"16-16\", \"16-19\", \"16-20\", \"17-10\", \"17-11\", \"18-1\", \"18-10\", \"18-11\", \"18-12\", \"18-13\", \"18-14\", \"18-15\", \"18-16\", \"18-17\", \"18-19\", \"18-2\", \"18-20\", \"18-4\", \"18-5\", \"18-7\", \"18-8\", \"18-9\", \"19-1\", \"19-10\", \"19-11\", \"19-12\", \"19-13\", \"19-14\", \"19-15\", \"19-19\", \"19-2\", \"19-20\", \"19-3\", \"19-4\", \"19-6\", \"19-7\", \"19-8\", \"19-9\", \"2-1\", \"2-13\", \"2-15\", \"2-3\", \"2-4\", \"2-5\", \"2-6\", \"2-7\", \"2-8\", \"20-1\", \"20-12\", \"20-14\", \"20-15\", \"20-16\", \"20-18\", \"20-19\", \"20-20\", \"20-3\", \"20-4\", \"20-5\", \"20-7\", \"20-8\", \"3-1\", \"3-13\", \"3-18\", \"3-2\", \"3-8\", \"4-1\", \"4-10\", \"4-11\", \"5-1\", \"5-5\", \"6-1\", \"6-15\", \"6-6\", \"7-10\", \"7-11\", \"7-12\", \"7-13\", \"7-14\", \"7-7\", \"7-8\", \"7-9\", \"8-1\", \"8-13\", \"8-14\", \"8-18\", \"8-20\", \"8-3\", \"8-8\", \"9-1\", \"9-7\"], \"domains\": [1, 2, 3, 4], \"num_examples_per_domain_per_label\": -1, \"pickle_path\": \"/root/csc500-main/datasets/wisig.node3-19.stratified_ds.2022A.pkl\", \"source_or_target_dataset\": \"source\", \"x_transforms\": [], \"episode_transforms\": [], \"domain_prefix\": \"Wisig_\"}, {\"labels\": [\"3123D52\", \"3123D65\", \"3123D79\", \"3123D80\", \"3123D54\", \"3123D70\", \"3123D7B\", \"3123D89\", \"3123D58\", \"3123D76\", \"3123D7D\", \"3123EFE\", \"3123D64\", \"3123D78\", \"3123D7E\", \"3124E4A\"], \"domains\": [32, 38, 8, 44, 14, 50, 20, 26], \"num_examples_per_domain_per_label\": 2000, \"pickle_path\": \"/root/csc500-main/datasets/oracle.Run1_10kExamples_stratified_ds.2022A.pkl\", \"source_or_target_dataset\": \"target\", \"x_transforms\": [], \"episode_transforms\": [], \"domain_prefix\": \"ORACLE.run1\"}], \"dataset_seed\": 500, \"seed\": 500, \"x_shape\": [2, 256], \"domains_source\": [\"Wisig_1\", \"Wisig_2\", \"Wisig_3\", \"Wisig_4\"], \"domains_target\": [\"ORACLE.run132\", \"ORACLE.run138\", \"ORACLE.run18\", \"ORACLE.run144\", \"ORACLE.run114\", \"ORACLE.run150\", \"ORACLE.run120\", \"ORACLE.run126\"]}, \"results\": {\"source_test_label_accuracy\": 0.9611556359875905, \"source_test_label_loss\": 0.17601169645786285, \"target_test_label_accuracy\": 0.26614583333333336, \"target_test_label_loss\": 2.5717480182647705, \"source_val_label_accuracy\": 0.9622890295358649, \"source_val_label_loss\": 0.18087023496627808, \"target_val_label_accuracy\": 0.26455078125, \"target_val_label_loss\": 2.57417368888855, \"total_epochs_trained\": 5, \"total_experiment_time_secs\": 907.8556787967682, \"confusion\": {\"Wisig_3\": {\"99\": {\"99\": 34, \"25\": 1, \"97\": 1}, \"8\": {\"8\": 124}, \"65\": {\"18\": 1, \"65\": 11}, \"117\": {\"117\": 110, \"7\": 1, \"106\": 1}, \"18\": {\"18\": 123, \"88\": 1}, \"39\": {\"39\": 107, \"16\": 1}, \"102\": {\"102\": 124}, \"76\": {\"57\": 1, \"76\": 15}, \"101\": {\"101\": 50, \"26\": 1, \"34\": 1}, \"57\": {\"57\": 20}, \"86\": {\"86\": 26, \"4\": 1, \"9\": 1}, \"11\": {\"11\": 130, \"110\": 2}, \"98\": {\"98\": 128}, \"42\": {\"42\": 26, \"53\": 1, \"85\": 1}, \"47\": {\"47\": 12}, \"49\": {\"49\": 24}, \"111\": {\"111\": 130, \"124\": 1, \"125\": 1}, \"36\": {\"36\": 116}, \"124\": {\"124\": 104, \"2\": 1, \"90\": 1}, \"122\": {\"122\": 54, \"21\": 1, \"87\": 1, \"18\": 1, \"84\": 1, \"26\": 1, \"40\": 1}, \"93\": {\"93\": 142}, \"89\": {\"89\": 27, \"57\": 1}, \"51\": {\"51\": 16}, \"73\": {\"73\": 39, \"21\": 1}, \"45\": {\"45\": 16}, \"5\": {\"5\": 107, \"26\": 1, \"84\": 1, \"88\": 1, \"101\": 1, \"127\": 1}, \"69\": {\"69\": 83, \"113\": 1}, \"26\": {\"26\": 130}, \"1\": {\"1\": 107, \"69\": 1}, \"92\": {\"92\": 32}, \"96\": {\"96\": 20}, \"85\": {\"85\": 36}, \"114\": {\"114\": 125, \"85\": 1}, \"50\": {\"50\": 16}, \"81\": {\"81\": 32}, \"2\": {\"2\": 25, \"92\": 1, \"117\": 2}, \"33\": {\"33\": 145, \"30\": 1}, \"31\": {\"31\": 20}, \"90\": {\"90\": 115, \"98\": 2, \"124\": 1}, \"17\": {\"50\": 2, \"78\": 1, \"120\": 1, \"63\": 1, \"100\": 1, \"17\": 6, \"127\": 1, \"23\": 2, \"115\": 1}, \"116\": {\"116\": 27, \"29\": 1}, \"91\": {\"91\": 21, \"34\": 2, \"129\": 1}, \"120\": {\"120\": 19, \"92\": 1}, \"128\": {\"128\": 30, \"100\": 1, \"19\": 1}, \"78\": {\"17\": 2, \"78\": 11, \"88\": 1, \"92\": 2}, \"58\": {\"58\": 15, \"65\": 1}, \"23\": {\"23\": 25, \"60\": 3, \"110\": 2, \"0\": 1, \"101\": 1}, \"15\": {\"15\": 102, \"105\": 1, \"69\": 1}, \"74\": {\"74\": 16}, \"34\": {\"34\": 28, \"124\": 1, \"107\": 1, \"91\": 1, \"41\": 1}, \"103\": {\"103\": 16}, \"106\": {\"106\": 100}, \"44\": {\"44\": 70, \"120\": 1, \"90\": 1}, \"9\": {\"9\": 30, \"26\": 1, \"120\": 1}, \"97\": {\"97\": 20}, \"123\": {\"123\": 14, \"86\": 1, \"114\": 1}, \"6\": {\"6\": 27, \"34\": 2, \"98\": 1, \"91\": 1, \"69\": 1}, \"68\": {\"68\": 16}, \"24\": {\"24\": 47, \"27\": 1}, \"21\": {\"21\": 41, \"2\": 1, \"70\": 1, \"60\": 1, \"31\": 1, \"30\": 1, \"18\": 1, \"69\": 1}, \"83\": {\"83\": 22, \"70\": 1, \"61\": 1}, \"60\": {\"60\": 28}, \"87\": {\"87\": 120}, \"30\": {\"30\": 80, \"116\": 1, \"114\": 1, \"17\": 1, \"69\": 1}, \"43\": {\"43\": 53, \"27\": 1, \"21\": 2}, \"115\": {\"115\": 16}, \"40\": {\"40\": 119, \"84\": 1}, \"112\": {\"112\": 13, \"16\": 1, \"53\": 1, \"69\": 1}, \"66\": {\"66\": 16}, \"110\": {\"110\": 91, \"7\": 1}, \"3\": {\"3\": 112, \"94\": 1, \"88\": 1}, \"20\": {\"20\": 16}, \"28\": {\"28\": 16}, \"84\": {\"84\": 104, \"69\": 1, \"89\": 1, \"26\": 1, \"39\": 1}, \"79\": {\"79\": 12}, \"118\": {\"118\": 95, \"12\": 1, \"70\": 1, \"113\": 2, \"39\": 1}, \"56\": {\"56\": 10, \"84\": 1, \"21\": 1}, \"48\": {\"48\": 11, \"59\": 3, \"6\": 1, \"79\": 1}, \"77\": {\"77\": 16}, \"14\": {\"14\": 80}, \"64\": {\"64\": 20}, \"67\": {\"67\": 15, \"69\": 1}, \"62\": {\"62\": 124}, \"75\": {\"75\": 16}, \"63\": {\"63\": 13, \"59\": 1, \"60\": 1, \"116\": 1}, \"7\": {\"7\": 112}, \"125\": {\"125\": 101, \"11\": 1, \"31\": 1, \"98\": 1}, \"37\": {\"37\": 16}, \"121\": {\"121\": 27, \"27\": 1, \"19\": 3, \"120\": 1}, \"16\": {\"16\": 102, \"127\": 1, \"26\": 1}, \"35\": {\"35\": 11, \"8\": 1}, \"32\": {\"32\": 30, \"14\": 1, \"38\": 1}, \"46\": {\"46\": 16}, \"70\": {\"70\": 68, \"88\": 2, \"84\": 1, \"69\": 1}, \"129\": {\"129\": 32}, \"95\": {\"95\": 31, \"84\": 1}, \"72\": {\"72\": 28}, \"19\": {\"19\": 31, \"100\": 1}, \"52\": {\"52\": 16}, \"100\": {\"100\": 15, \"69\": 1}, \"104\": {\"104\": 16}, \"59\": {\"59\": 12}, \"109\": {\"109\": 125, \"118\": 1}, \"88\": {\"88\": 107, \"69\": 1}, \"27\": {\"27\": 83, \"24\": 1, \"21\": 1, \"11\": 1, \"26\": 2, \"36\": 6}, \"113\": {\"113\": 118, \"84\": 1, \"82\": 1}, \"105\": {\"105\": 124}, \"71\": {\"71\": 66, \"127\": 2}, \"108\": {\"108\": 124}, \"41\": {\"41\": 16}, \"80\": {\"80\": 15, \"2\": 1}, \"13\": {\"63\": 1, \"13\": 11, \"18\": 2, \"70\": 2}, \"55\": {\"55\": 16}, \"0\": {\"0\": 103, \"71\": 1, \"98\": 2}, \"25\": {\"25\": 15, \"52\": 1}, \"53\": {\"53\": 20}, \"61\": {\"61\": 16}, \"38\": {\"38\": 16}, \"127\": {\"127\": 124, \"88\": 1, \"14\": 1, \"40\": 1, \"84\": 1}, \"4\": {\"4\": 93, \"84\": 1, \"11\": 1, \"88\": 1}, \"12\": {\"12\": 104}, \"126\": {\"126\": 120, \"88\": 1, \"70\": 1, \"39\": 2}, \"29\": {\"29\": 32}, \"107\": {\"107\": 135, \"124\": 1}, \"82\": {\"82\": 28}, \"94\": {\"94\": 83, \"18\": 1}, \"54\": {\"54\": 15, \"61\": 1}, \"10\": {\"10\": 127, \"106\": 1}, \"22\": {\"22\": 16}, \"119\": {\"119\": 16}}, \"Wisig_2\": {\"73\": {\"73\": 27, \"67\": 1}, \"40\": {\"40\": 127, \"69\": 3, \"88\": 2}, \"99\": {\"99\": 29, \"83\": 2, \"62\": 1}, \"5\": {\"5\": 107, \"69\": 3, \"88\": 1, \"33\": 1}, \"108\": {\"108\": 132}, \"128\": {\"128\": 16, \"98\": 2, \"46\": 2, \"100\": 2, \"114\": 1, \"17\": 1}, \"89\": {\"89\": 32, \"92\": 3, \"81\": 1}, \"107\": {\"107\": 52, \"108\": 1, \"21\": 2, \"84\": 1, \"70\": 1, \"67\": 2, \"71\": 1, \"15\": 1, \"94\": 1, \"40\": 2}, \"2\": {\"2\": 27, \"117\": 3, \"46\": 1, \"3\": 1}, \"78\": {\"78\": 42, \"21\": 2, \"70\": 4}, \"85\": {\"85\": 31, \"47\": 1}, \"44\": {\"44\": 100}, \"58\": {\"58\": 20}, \"57\": {\"57\": 16, \"46\": 1, \"40\": 1, \"88\": 1, \"116\": 1}, \"41\": {\"41\": 19, \"40\": 1}, \"53\": {\"53\": 16}, \"14\": {\"14\": 43, \"55\": 1, \"69\": 1, \"21\": 1, \"6\": 1, \"88\": 1}, \"83\": {\"83\": 38, \"69\": 1, \"7\": 1}, \"119\": {\"119\": 20}, \"95\": {\"95\": 35, \"88\": 1}, \"28\": {\"28\": 19, \"24\": 1}, \"19\": {\"19\": 27, \"82\": 1}, \"69\": {\"69\": 128, \"105\": 1, \"13\": 1, \"39\": 1, \"40\": 1}, \"93\": {\"93\": 131, \"125\": 1, \"26\": 1, \"16\": 1}, \"9\": {\"9\": 32}, \"118\": {\"118\": 66, \"14\": 1, \"109\": 1}, \"43\": {\"43\": 110, \"87\": 1, \"14\": 1, \"40\": 1, \"122\": 2, \"88\": 1}, \"47\": {\"47\": 12}, \"125\": {\"125\": 143, \"88\": 1}, \"29\": {\"29\": 32}, \"122\": {\"122\": 135, \"40\": 1, \"70\": 1, \"105\": 1, \"11\": 1, \"26\": 1}, \"46\": {\"46\": 16}, \"86\": {\"86\": 31, \"79\": 1}, \"70\": {\"70\": 109, \"87\": 3, \"21\": 2, \"78\": 2, \"62\": 1, \"88\": 4, \"3\": 1, \"109\": 1, \"39\": 1}, \"51\": {\"51\": 17, \"59\": 1, \"24\": 1, \"70\": 1}, \"23\": {\"122\": 1, \"23\": 35, \"8\": 1, \"121\": 1, \"110\": 3, \"87\": 1, \"93\": 2}, \"121\": {\"121\": 33, \"123\": 1, \"65\": 1, \"81\": 1}, \"63\": {\"21\": 1, \"63\": 17, \"13\": 1, \"39\": 1}, \"102\": {\"102\": 121, \"40\": 1}, \"21\": {\"21\": 48}, \"55\": {\"55\": 15, \"116\": 1}, \"54\": {\"54\": 20}, \"6\": {\"6\": 29, \"124\": 2, \"34\": 1}, \"109\": {\"109\": 85, \"88\": 2, \"78\": 2, \"70\": 3, \"75\": 1, \"107\": 1, \"87\": 1, \"39\": 5}, \"64\": {\"55\": 1, \"64\": 15}, \"20\": {\"20\": 15, \"83\": 1}, \"98\": {\"98\": 111, \"121\": 1, \"123\": 1, \"69\": 1}, \"92\": {\"92\": 25, \"76\": 1, \"13\": 1, \"129\": 1}, \"35\": {\"35\": 12}, \"113\": {\"113\": 63, \"121\": 1, \"109\": 1, \"26\": 1, \"24\": 1, \"62\": 2, \"107\": 1, \"21\": 1, \"70\": 1}, \"71\": {\"71\": 95, \"84\": 1, \"107\": 1, \"69\": 1, \"12\": 1, \"87\": 1}, \"94\": {\"94\": 53, \"71\": 1, \"87\": 1, \"107\": 1, \"26\": 2, \"69\": 1, \"72\": 1, \"59\": 1, \"88\": 1, \"106\": 1, \"24\": 1}, \"52\": {\"91\": 3, \"52\": 16, \"70\": 1}, \"116\": {\"116\": 27, \"82\": 1}, \"87\": {\"87\": 103, \"26\": 1, \"109\": 2, \"69\": 1, \"88\": 2, \"40\": 1, \"24\": 1, \"84\": 1}, \"90\": {\"90\": 148}, \"91\": {\"91\": 25, \"77\": 1, \"66\": 2}, \"84\": {\"84\": 88, \"107\": 1, \"7\": 1, \"11\": 1, \"26\": 1}, \"24\": {\"24\": 102, \"69\": 1, \"110\": 1, \"70\": 1, \"88\": 2, \"84\": 1, \"126\": 1, \"33\": 1, \"62\": 1, \"26\": 1}, \"33\": {\"33\": 131, \"69\": 3}, \"81\": {\"81\": 23, \"87\": 1}, \"115\": {\"115\": 10, \"67\": 1, \"84\": 1}, \"77\": {\"77\": 16}, \"106\": {\"106\": 116, \"21\": 1, \"62\": 1, \"90\": 1, \"24\": 1}, \"42\": {\"42\": 17, \"91\": 2, \"77\": 2, \"114\": 1, \"109\": 1, \"44\": 1, \"112\": 1, \"107\": 1, \"20\": 1, \"26\": 1}, \"38\": {\"38\": 16}, \"36\": {\"36\": 104, \"68\": 1, \"27\": 2, \"14\": 1, \"84\": 1, \"39\": 1, \"69\": 1, \"107\": 1, \"87\": 1, \"88\": 1}, \"79\": {\"79\": 15, \"104\": 1}, \"60\": {\"60\": 25, \"84\": 1, \"98\": 1, \"16\": 1}, \"80\": {\"80\": 15, \"120\": 1}, \"32\": {\"32\": 34, \"34\": 2}, \"0\": {\"0\": 115, \"87\": 1}, \"127\": {\"127\": 123, \"69\": 1}, \"114\": {\"114\": 114, \"13\": 1, \"117\": 1}, \"62\": {\"62\": 138, \"21\": 1, \"69\": 1}, \"129\": {\"129\": 32}, \"56\": {\"56\": 11, \"107\": 1}, \"76\": {\"76\": 16}, \"72\": {\"72\": 26, \"21\": 1, \"115\": 1}, \"88\": {\"88\": 123, \"70\": 1}, \"68\": {\"68\": 14, \"21\": 1, \"105\": 1}, \"67\": {\"67\": 14, \"75\": 2}, \"100\": {\"100\": 16}, \"34\": {\"34\": 20, \"14\": 1, \"52\": 3, \"91\": 2, \"21\": 1, \"32\": 1, \"24\": 1, \"66\": 1, \"28\": 1, \"89\": 1}, \"16\": {\"16\": 123, \"88\": 1}, \"126\": {\"126\": 120}, \"4\": {\"4\": 85, \"120\": 1, \"14\": 1, \"69\": 1}, \"101\": {\"101\": 146}, \"104\": {\"104\": 16, \"74\": 1, \"79\": 1, \"16\": 1, \"24\": 1}, \"30\": {\"67\": 1, \"30\": 105, \"28\": 1, \"0\": 1, \"14\": 1, \"40\": 1}, \"8\": {\"8\": 127, \"113\": 1}, \"82\": {\"82\": 34, \"16\": 1, \"70\": 1}, \"26\": {\"26\": 128, \"107\": 1, \"87\": 1, \"69\": 3, \"62\": 2, \"24\": 1, \"88\": 1, \"40\": 1}, \"96\": {\"96\": 20}, \"3\": {\"3\": 134, \"16\": 1, \"88\": 1}, \"25\": {\"25\": 13, \"21\": 1, \"126\": 1, \"49\": 1}, \"13\": {\"13\": 13, \"93\": 1, \"40\": 1, \"31\": 1}, \"37\": {\"37\": 13, \"45\": 2, \"40\": 1}, \"49\": {\"49\": 19, \"81\": 1, \"92\": 1, \"61\": 1, \"126\": 1, \"98\": 1}, \"111\": {\"111\": 136}, \"105\": {\"105\": 131, \"7\": 1}, \"17\": {\"17\": 12, \"61\": 1, \"31\": 1, \"26\": 1, \"37\": 1}, \"65\": {\"65\": 18, \"107\": 1, \"111\": 1}, \"123\": {\"123\": 13, \"124\": 1, \"48\": 1, \"11\": 1}, \"74\": {\"74\": 14, \"40\": 2}, \"97\": {\"97\": 16, \"15\": 1, \"121\": 1, \"85\": 1, \"25\": 1}, \"112\": {\"112\": 12, \"119\": 1, \"20\": 1, \"25\": 1, \"73\": 1}, \"120\": {\"120\": 19, \"121\": 1}, \"50\": {\"50\": 14, \"80\": 1, \"8\": 1}, \"59\": {\"59\": 15, \"24\": 1}, \"10\": {\"10\": 57, \"114\": 1, \"21\": 1, \"62\": 1}, \"45\": {\"45\": 15, \"88\": 1}, \"12\": {\"12\": 84, \"21\": 2, \"69\": 1, \"97\": 1}, \"75\": {\"51\": 2, \"75\": 13, \"40\": 1}, \"48\": {\"48\": 20}, \"61\": {\"61\": 18, \"69\": 1, \"88\": 1}, \"124\": {\"124\": 123, \"44\": 1}, \"11\": {\"11\": 77, \"69\": 2, \"40\": 1}, \"103\": {\"103\": 12, \"45\": 1, \"37\": 1, \"28\": 1, \"66\": 1}, \"7\": {\"7\": 126, \"107\": 1, \"110\": 1, \"69\": 1, \"40\": 1, \"105\": 2}, \"18\": {\"18\": 117, \"55\": 1, \"14\": 1, \"26\": 1}, \"31\": {\"31\": 20}, \"15\": {\"15\": 116, \"40\": 1, \"3\": 1}, \"1\": {\"1\": 119, \"107\": 1, \"39\": 1, \"75\": 1}, \"66\": {\"66\": 19, \"89\": 1}, \"110\": {\"110\": 31, \"114\": 1, \"94\": 1, \"122\": 2, \"26\": 1, \"12\": 1, \"62\": 2, \"127\": 1}, \"27\": {\"27\": 58, \"69\": 1, \"107\": 1, \"84\": 1, \"71\": 1, \"62\": 3, \"105\": 1, \"36\": 1, \"70\": 1}, \"22\": {\"22\": 18, \"3\": 1, \"15\": 1}, \"117\": {\"117\": 117, \"69\": 1, \"109\": 1, \"88\": 1}, \"39\": {\"39\": 103, \"109\": 3, \"26\": 1, \"0\": 1}}, \"Wisig_1\": {\"60\": {\"60\": 12, \"14\": 1, \"45\": 1, \"23\": 2}, \"59\": {\"104\": 1, \"59\": 8, \"6\": 1, \"91\": 1, \"128\": 1}, \"107\": {\"107\": 122, \"111\": 1, \"26\": 1}, \"113\": {\"113\": 123, \"105\": 1}, \"6\": {\"6\": 26, \"46\": 2, \"124\": 1, \"21\": 1, \"125\": 1, \"11\": 1}, \"24\": {\"24\": 89, \"108\": 1, \"88\": 1, \"62\": 1}, \"50\": {\"50\": 15, \"30\": 1}, \"62\": {\"62\": 119, \"70\": 1}, \"48\": {\"48\": 12}, \"104\": {\"104\": 16}, \"105\": {\"105\": 80, \"40\": 2, \"65\": 1, \"84\": 1}, \"44\": {\"44\": 76}, \"49\": {\"49\": 16, \"101\": 2, \"52\": 1, \"128\": 1}, \"55\": {\"55\": 12}, \"4\": {\"4\": 100}, \"76\": {\"76\": 16}, \"85\": {\"85\": 32}, \"89\": {\"89\": 36}, \"74\": {\"74\": 16}, \"112\": {\"112\": 16}, \"79\": {\"79\": 12}, \"0\": {\"0\": 83, \"84\": 1}, \"91\": {\"91\": 28}, \"118\": {\"118\": 83, \"16\": 1}, \"80\": {\"80\": 15, \"57\": 1}, \"64\": {\"64\": 16}, \"97\": {\"97\": 17, \"27\": 1, \"24\": 1, \"88\": 1}, \"84\": {\"84\": 124}, \"38\": {\"38\": 16}, \"30\": {\"30\": 52}, \"32\": {\"32\": 29, \"65\": 1, \"121\": 1, \"69\": 1}, \"72\": {\"72\": 32}, \"33\": {\"33\": 130, \"14\": 1, \"70\": 1}, \"34\": {\"34\": 27, \"91\": 2, \"98\": 3}, \"28\": {\"28\": 20}, \"123\": {\"123\": 14, \"17\": 1, \"2\": 1}, \"2\": {\"2\": 25, \"104\": 1, \"109\": 2, \"86\": 1, \"116\": 2, \"19\": 1}, \"70\": {\"70\": 124}, \"127\": {\"127\": 107, \"78\": 1}, \"110\": {\"110\": 125, \"114\": 1, \"84\": 1, \"109\": 1}, \"126\": {\"126\": 136}, \"13\": {\"13\": 16}, \"15\": {\"15\": 98, \"27\": 1, \"94\": 5}, \"29\": {\"29\": 28}, \"18\": {\"18\": 119, \"23\": 1}, \"7\": {\"7\": 142}, \"56\": {\"56\": 12}, \"98\": {\"98\": 108}, \"99\": {\"99\": 24}, \"77\": {\"77\": 15, \"20\": 1}, \"103\": {\"15\": 1, \"103\": 14, \"94\": 1}, \"128\": {\"128\": 18, \"49\": 2, \"72\": 2, \"29\": 1, \"89\": 1}, \"3\": {\"3\": 84, \"93\": 1, \"40\": 1, \"85\": 1, \"15\": 1}, \"121\": {\"121\": 31, \"2\": 1}, \"42\": {\"42\": 20, \"99\": 1, \"6\": 2, \"61\": 2, \"119\": 2, \"95\": 1}, \"90\": {\"90\": 120}, \"37\": {\"37\": 16}, \"120\": {\"84\": 1, \"120\": 17, \"21\": 1, \"127\": 1}, \"117\": {\"117\": 118}, \"9\": {\"9\": 32}, \"108\": {\"108\": 123, \"15\": 1}, \"83\": {\"83\": 27, \"20\": 1}, \"14\": {\"14\": 95, \"65\": 1}, \"63\": {\"63\": 15, \"116\": 1}, \"11\": {\"11\": 117, \"26\": 1}, \"95\": {\"95\": 36}, \"26\": {\"26\": 128, \"88\": 1, \"48\": 1}, \"22\": {\"22\": 16}, \"102\": {\"102\": 120}, \"69\": {\"69\": 101, \"109\": 2, \"105\": 1, \"114\": 1, \"26\": 1}, \"1\": {\"1\": 130}, \"67\": {\"67\": 16}, \"57\": {\"57\": 12}, \"8\": {\"8\": 132, \"40\": 1, \"35\": 1}, \"109\": {\"109\": 123, \"69\": 1}, \"129\": {\"102\": 3, \"129\": 19, \"116\": 1, \"89\": 1, \"13\": 2, \"81\": 1, \"2\": 1}, \"111\": {\"111\": 120}, \"71\": {\"71\": 99, \"109\": 1, \"12\": 2, \"114\": 2, \"26\": 1, \"27\": 1, \"70\": 1, \"124\": 1}, \"47\": {\"47\": 12}, \"82\": {\"82\": 36}, \"27\": {\"27\": 92}, \"19\": {\"19\": 27, \"29\": 1}, \"122\": {\"87\": 1, \"122\": 84, \"21\": 1, \"43\": 2}, \"53\": {\"53\": 20}, \"87\": {\"87\": 105, \"122\": 1, \"70\": 1, \"37\": 1}, \"100\": {\"100\": 16}, \"66\": {\"66\": 16}, \"31\": {\"31\": 16}, \"58\": {\"58\": 11, \"25\": 1}, \"68\": {\"68\": 16}, \"88\": {\"88\": 109, \"14\": 1, \"108\": 2, \"24\": 1, \"27\": 1}, \"45\": {\"45\": 5, \"2\": 2, \"109\": 1, \"124\": 1, \"84\": 1, \"128\": 2}, \"114\": {\"114\": 128}, \"23\": {\"122\": 1, \"23\": 16, \"12\": 1, \"87\": 1, \"110\": 1, \"84\": 2, \"106\": 2}, \"65\": {\"26\": 2, \"65\": 7, \"68\": 1, \"61\": 1, \"70\": 1}, \"124\": {\"124\": 118}, \"10\": {\"10\": 116, \"109\": 1, \"70\": 2, \"87\": 1}, \"92\": {\"92\": 28}, \"40\": {\"40\": 138, \"105\": 5, \"84\": 1}, \"73\": {\"73\": 18, \"109\": 1, \"108\": 1}, \"94\": {\"94\": 89, \"27\": 2, \"84\": 1}, \"81\": {\"81\": 28}, \"101\": {\"101\": 108, \"98\": 1, \"1\": 1}, \"86\": {\"86\": 33, \"21\": 1, \"105\": 1, \"81\": 1}, \"78\": {\"78\": 14, \"87\": 2}, \"96\": {\"96\": 20}, \"5\": {\"5\": 85, \"70\": 1, \"109\": 2}, \"16\": {\"16\": 104, \"69\": 2, \"21\": 1, \"105\": 1}, \"35\": {\"35\": 10, \"40\": 2}, \"51\": {\"51\": 16}, \"46\": {\"46\": 12}, \"20\": {\"20\": 16}, \"116\": {\"116\": 27, \"66\": 2, \"61\": 2, \"108\": 1}, \"75\": {\"75\": 16}, \"43\": {\"43\": 123, \"26\": 2, \"93\": 1, \"122\": 2}, \"17\": {\"17\": 15, \"81\": 1}, \"12\": {\"12\": 103, \"107\": 1}, \"25\": {\"25\": 16}, \"54\": {\"54\": 13, \"83\": 2, \"106\": 1}, \"36\": {\"36\": 109, \"26\": 1, \"105\": 1, \"84\": 1}, \"52\": {\"52\": 19, \"77\": 1}, \"61\": {\"61\": 12}, \"106\": {\"106\": 120}, \"39\": {\"39\": 101, \"109\": 1, \"62\": 2}, \"119\": {\"119\": 16}, \"125\": {\"125\": 148}, \"93\": {\"93\": 145, \"43\": 1, \"87\": 1, \"33\": 1}, \"115\": {\"115\": 12}, \"21\": {\"21\": 38, \"94\": 1, \"116\": 1}, \"41\": {\"41\": 16}}, \"Wisig_4\": {\"55\": {\"55\": 16}, \"9\": {\"9\": 28}, \"70\": {\"70\": 118, \"39\": 1, \"69\": 1, \"88\": 2}, \"112\": {\"112\": 12, \"83\": 2, \"9\": 2}, \"115\": {\"115\": 12, \"10\": 1, \"18\": 1, \"64\": 1, \"111\": 1}, \"56\": {\"56\": 11, \"61\": 1}, \"108\": {\"111\": 1, \"108\": 83, \"25\": 1, \"15\": 1, \"10\": 1, \"88\": 1, \"94\": 1, \"36\": 1, \"70\": 2}, \"117\": {\"117\": 121, \"88\": 1, \"124\": 1, \"61\": 1}, \"111\": {\"111\": 129, \"88\": 1, \"101\": 2}, \"71\": {\"71\": 94, \"69\": 1, \"3\": 1, \"114\": 1, \"15\": 1, \"9\": 1, \"36\": 1, \"113\": 1, \"10\": 2, \"84\": 1}, \"59\": {\"59\": 12}, \"10\": {\"10\": 111, \"70\": 8, \"88\": 2, \"27\": 1, \"78\": 1, \"1\": 1}, \"83\": {\"112\": 1, \"83\": 27}, \"116\": {\"116\": 27, \"107\": 1}, \"13\": {\"13\": 16}, \"4\": {\"4\": 103, \"69\": 1}, \"125\": {\"125\": 105, \"124\": 1}, \"102\": {\"102\": 122, \"105\": 1, \"108\": 1}, \"47\": {\"47\": 12}, \"28\": {\"28\": 20}, \"82\": {\"82\": 30, \"124\": 1, \"88\": 1}, \"60\": {\"60\": 32}, \"107\": {\"107\": 129, \"14\": 1, \"2\": 1, \"72\": 1, \"108\": 1, \"44\": 1}, \"75\": {\"75\": 16}, \"31\": {\"31\": 16}, \"92\": {\"92\": 28}, \"58\": {\"58\": 16}, \"113\": {\"113\": 122, \"21\": 1, \"84\": 1, \"110\": 1, \"70\": 1, \"126\": 1, \"108\": 1}, \"95\": {\"95\": 31, \"77\": 1}, \"14\": {\"14\": 110, \"126\": 1, \"105\": 1}, \"17\": {\"17\": 20}, \"104\": {\"104\": 16}, \"72\": {\"72\": 29, \"50\": 1, \"92\": 1, \"2\": 1}, \"69\": {\"69\": 124, \"88\": 1, \"21\": 1, \"105\": 1, \"84\": 1}, \"63\": {\"63\": 16}, \"12\": {\"12\": 97, \"111\": 1, \"103\": 1, \"84\": 1}, \"25\": {\"25\": 16}, \"67\": {\"67\": 5, \"17\": 1, \"76\": 1, \"44\": 2, \"40\": 2, \"92\": 2, \"123\": 1, \"85\": 1, \"2\": 1}, \"50\": {\"50\": 16}, \"43\": {\"43\": 114, \"23\": 1, \"70\": 1, \"87\": 1, \"88\": 2, \"118\": 1}, \"96\": {\"96\": 20}, \"128\": {\"128\": 19, \"98\": 1, \"41\": 1, \"100\": 2, \"21\": 1}, \"77\": {\"77\": 12}, \"54\": {\"54\": 16}, \"118\": {\"118\": 103, \"108\": 1, \"111\": 1, \"81\": 1, \"69\": 2, \"71\": 1, \"127\": 1, \"21\": 1, \"122\": 1}, \"30\": {\"30\": 69, \"36\": 1, \"10\": 1, \"15\": 4, \"27\": 1}, \"51\": {\"51\": 11, \"75\": 2, \"34\": 1, \"82\": 1, \"30\": 1}, \"122\": {\"122\": 79, \"10\": 1, \"30\": 1, \"43\": 1, \"84\": 1, \"40\": 1}, \"46\": {\"46\": 19, \"20\": 1}, \"79\": {\"79\": 16}, \"103\": {\"103\": 16}, \"74\": {\"103\": 1, \"74\": 14, \"91\": 1}, \"90\": {\"90\": 146}, \"8\": {\"8\": 139, \"1\": 1, \"33\": 1, \"88\": 1}, \"94\": {\"94\": 82, \"16\": 1, \"15\": 2, \"111\": 1, \"78\": 1, \"69\": 1}, \"7\": {\"7\": 119, \"36\": 1, \"43\": 1, \"118\": 1}, \"61\": {\"61\": 16}, \"26\": {\"26\": 119, \"30\": 1}, \"127\": {\"127\": 107, \"84\": 1}, \"23\": {\"23\": 9, \"93\": 1, \"21\": 1, \"14\": 1, \"122\": 2, \"72\": 2}, \"1\": {\"1\": 100, \"107\": 2, \"114\": 3, \"88\": 1, \"10\": 1, \"7\": 1}, \"93\": {\"93\": 133, \"11\": 1}, \"106\": {\"106\": 106, \"71\": 1, \"18\": 1, \"84\": 1, \"1\": 1, \"39\": 1, \"88\": 1, \"70\": 1, \"69\": 1, \"21\": 1, \"26\": 1}, \"110\": {\"110\": 117, \"39\": 1}, \"76\": {\"76\": 16}, \"36\": {\"36\": 118, \"97\": 1, \"105\": 1}, \"21\": {\"21\": 37, \"84\": 1, \"3\": 1, \"81\": 1}, \"37\": {\"37\": 15, \"28\": 1}, \"11\": {\"11\": 119, \"6\": 1}, \"109\": {\"109\": 115, \"24\": 1}, \"62\": {\"21\": 1, \"62\": 54, \"81\": 1, \"113\": 2, \"84\": 1, \"69\": 1}, \"89\": {\"89\": 31, \"1\": 1}, \"126\": {\"126\": 116, \"84\": 2, \"39\": 3, \"16\": 1, \"105\": 1, \"113\": 1}, \"101\": {\"101\": 123, \"88\": 3, \"1\": 2}, \"65\": {\"65\": 12}, \"19\": {\"19\": 26, \"129\": 1, \"121\": 1}, \"27\": {\"27\": 97, \"70\": 2, \"69\": 1}, \"5\": {\"5\": 133, \"21\": 1, \"88\": 1, \"1\": 1}, \"73\": {\"19\": 2, \"73\": 20, \"95\": 1, \"46\": 1}, \"6\": {\"6\": 23, \"59\": 1}, \"29\": {\"29\": 32}, \"114\": {\"114\": 127, \"105\": 1}, \"49\": {\"49\": 24, \"106\": 2, \"51\": 1, \"53\": 1, \"114\": 3, \"12\": 1}, \"16\": {\"16\": 115, \"70\": 1, \"88\": 1, \"69\": 1}, \"68\": {\"68\": 16}, \"98\": {\"98\": 118, \"69\": 1, \"101\": 1}, \"64\": {\"64\": 16}, \"121\": {\"121\": 28, \"19\": 1, \"61\": 1, \"44\": 2}, \"124\": {\"124\": 114}, \"97\": {\"97\": 20}, \"40\": {\"40\": 136}, \"119\": {\"119\": 16}, \"100\": {\"119\": 1, \"89\": 1, \"100\": 15, \"88\": 1, \"128\": 2}, \"87\": {\"87\": 116}, \"88\": {\"88\": 115, \"23\": 1, \"108\": 2, \"26\": 1, \"70\": 5, \"105\": 2, \"21\": 1, \"1\": 1}, \"52\": {\"52\": 15, \"128\": 1, \"78\": 1, \"109\": 1, \"53\": 1, \"30\": 1}, \"80\": {\"80\": 15, \"69\": 1}, \"105\": {\"105\": 98, \"69\": 1, \"88\": 1}, \"32\": {\"14\": 1, \"32\": 27}, \"35\": {\"35\": 12}, \"99\": {\"99\": 39, \"1\": 1}, \"18\": {\"18\": 118, \"16\": 1, \"30\": 1}, \"24\": {\"24\": 109, \"70\": 2, \"27\": 1}, \"85\": {\"85\": 26, \"26\": 1, \"98\": 1}, \"39\": {\"39\": 96, \"106\": 1, \"40\": 1, \"110\": 1, \"109\": 1}, \"123\": {\"123\": 16}, \"91\": {\"91\": 24}, \"78\": {\"78\": 31, \"21\": 1, \"72\": 1, \"69\": 1, \"70\": 1, \"26\": 1}, \"38\": {\"38\": 16}, \"15\": {\"15\": 124, \"69\": 2, \"18\": 1, \"26\": 1}, \"48\": {\"48\": 16}, \"45\": {\"45\": 16}, \"120\": {\"120\": 18, \"37\": 1, \"45\": 1}, \"44\": {\"44\": 64}, \"86\": {\"86\": 26, \"65\": 1, \"21\": 1}, \"20\": {\"20\": 16}, \"33\": {\"33\": 147, \"111\": 1, \"21\": 1, \"10\": 1}, \"129\": {\"129\": 26, \"73\": 2}, \"34\": {\"106\": 3, \"34\": 22, \"32\": 1, \"14\": 1, \"91\": 1, \"45\": 2, \"25\": 2}, \"81\": {\"81\": 35, \"21\": 1}, \"57\": {\"57\": 12, \"24\": 1, \"128\": 2, \"70\": 1}, \"0\": {\"0\": 110, \"84\": 1, \"87\": 3, \"95\": 1, \"106\": 1}, \"2\": {\"2\": 28}, \"42\": {\"42\": 24, \"5\": 1, \"83\": 1, \"61\": 1, \"124\": 1}, \"84\": {\"84\": 128, \"70\": 1, \"88\": 1, \"26\": 1, \"125\": 1}, \"3\": {\"3\": 118, \"21\": 1, \"71\": 1, \"69\": 1, \"72\": 1, \"78\": 1, \"88\": 1, \"11\": 1, \"98\": 1}, \"41\": {\"41\": 15, \"21\": 1}, \"53\": {\"53\": 13, \"41\": 1, \"122\": 1, \"52\": 1}, \"66\": {\"66\": 16}, \"22\": {\"22\": 15, \"92\": 1}}, \"ORACLE.run150\": {\"7\": {\"4\": 73, \"9\": 16, \"7\": 70, \"6\": 15, \"5\": 40, \"15\": 17, \"3\": 5, \"12\": 4}, \"10\": {\"13\": 11, \"14\": 22, \"10\": 64, \"8\": 58, \"2\": 17, \"1\": 35, \"0\": 30, \"15\": 1, \"6\": 1, \"11\": 1}, \"0\": {\"14\": 57, \"10\": 42, \"0\": 49, \"8\": 23, \"1\": 15, \"13\": 1, \"2\": 53}, \"11\": {\"3\": 34, \"13\": 24, \"8\": 7, \"11\": 39, \"5\": 11, \"6\": 20, \"4\": 2, \"9\": 29, \"15\": 21, \"12\": 42, \"1\": 11}, \"2\": {\"0\": 62, \"2\": 59, \"14\": 63, \"13\": 2, \"10\": 42, \"8\": 8, \"1\": 4}, \"14\": {\"0\": 56, \"8\": 10, \"2\": 73, \"10\": 27, \"14\": 67, \"1\": 7}, \"9\": {\"12\": 45, \"5\": 22, \"11\": 27, \"6\": 30, \"7\": 17, \"3\": 13, \"15\": 30, \"9\": 40, \"4\": 12, \"13\": 3, \"1\": 1}, \"13\": {\"13\": 66, \"15\": 14, \"10\": 8, \"1\": 49, \"5\": 10, \"8\": 22, \"11\": 25, \"3\": 20, \"9\": 6, \"6\": 8, \"12\": 8, \"0\": 3, \"4\": 1}, \"8\": {\"10\": 43, \"8\": 55, \"0\": 19, \"13\": 31, \"2\": 9, \"1\": 54, \"14\": 10, \"6\": 1, \"3\": 5, \"11\": 8, \"12\": 3, \"5\": 2}, \"15\": {\"15\": 45, \"3\": 28, \"11\": 28, \"7\": 8, \"1\": 1, \"6\": 32, \"9\": 33, \"12\": 15, \"5\": 32, \"4\": 11, \"13\": 6, \"8\": 1}, \"4\": {\"4\": 73, \"5\": 32, \"7\": 85, \"15\": 17, \"9\": 8, \"12\": 3, \"3\": 7, \"6\": 14, \"11\": 1}, \"5\": {\"7\": 30, \"6\": 32, \"15\": 36, \"10\": 2, \"4\": 32, \"3\": 16, \"9\": 17, \"11\": 15, \"13\": 8, \"5\": 39, \"12\": 11, \"0\": 1, \"1\": 1}, \"3\": {\"5\": 28, \"6\": 27, \"15\": 32, \"11\": 31, \"3\": 36, \"12\": 19, \"7\": 5, \"1\": 9, \"9\": 18, \"4\": 8, \"13\": 26, \"8\": 1}, \"1\": {\"10\": 33, \"8\": 45, \"1\": 63, \"0\": 7, \"13\": 45, \"6\": 3, \"2\": 5, \"11\": 16, \"3\": 9, \"9\": 3, \"14\": 2, \"12\": 6, \"15\": 2, \"5\": 1}, \"6\": {\"5\": 26, \"11\": 26, \"15\": 40, \"3\": 31, \"12\": 23, \"6\": 34, \"9\": 24, \"4\": 10, \"7\": 15, \"13\": 9, \"1\": 1, \"8\": 1}, \"12\": {\"13\": 6, \"9\": 35, \"12\": 83, \"11\": 47, \"5\": 7, \"3\": 10, \"15\": 21, \"6\": 21, \"8\": 1, \"7\": 4, \"4\": 4, \"1\": 1}}, \"ORACLE.run114\": {\"14\": {\"3\": 23, \"7\": 14, \"10\": 5, \"13\": 18, \"2\": 32, \"14\": 45, \"0\": 30, \"6\": 31, \"4\": 10, \"5\": 18, \"8\": 8, \"12\": 5, \"9\": 1}, \"6\": {\"6\": 49, \"2\": 19, \"14\": 27, \"5\": 7, \"4\": 3, \"13\": 44, \"7\": 20, \"8\": 1, \"3\": 41, \"0\": 24, \"10\": 1, \"15\": 4}, \"5\": {\"0\": 32, \"5\": 23, \"10\": 7, \"14\": 25, \"8\": 19, \"7\": 24, \"12\": 23, \"13\": 15, \"2\": 33, \"4\": 20, \"3\": 12, \"6\": 6, \"1\": 1}, \"15\": {\"15\": 235, \"7\": 1, \"6\": 1, \"13\": 2, \"3\": 1}, \"11\": {\"11\": 224, \"1\": 11, \"9\": 4, \"10\": 1}, \"8\": {\"5\": 32, \"10\": 4, \"8\": 64, \"12\": 39, \"7\": 29, \"0\": 18, \"14\": 5, \"3\": 11, \"2\": 12, \"13\": 9, \"1\": 2, \"6\": 3, \"4\": 11, \"9\": 1}, \"12\": {\"5\": 36, \"4\": 22, \"12\": 47, \"14\": 7, \"3\": 10, \"7\": 20, \"8\": 42, \"10\": 15, \"0\": 15, \"2\": 8, \"9\": 10, \"1\": 3, \"13\": 3, \"6\": 2}, \"1\": {\"1\": 87, \"9\": 65, \"4\": 26, \"10\": 44, \"8\": 3, \"12\": 8, \"5\": 3, \"2\": 4}, \"2\": {\"14\": 27, \"0\": 29, \"13\": 19, \"10\": 12, \"3\": 19, \"7\": 15, \"4\": 22, \"8\": 12, \"5\": 26, \"12\": 6, \"15\": 2, \"2\": 33, \"6\": 13, \"1\": 1, \"9\": 4}, \"13\": {\"15\": 24, \"3\": 30, \"13\": 41, \"2\": 27, \"5\": 12, \"6\": 26, \"7\": 12, \"8\": 3, \"14\": 28, \"10\": 6, \"0\": 19, \"9\": 1, \"4\": 7, \"12\": 4}, \"3\": {\"6\": 39, \"7\": 26, \"13\": 31, \"14\": 22, \"3\": 46, \"8\": 12, \"5\": 16, \"2\": 16, \"12\": 5, \"0\": 24, \"4\": 1, \"10\": 1, \"15\": 1}, \"0\": {\"3\": 31, \"6\": 12, \"8\": 12, \"4\": 12, \"0\": 37, \"5\": 30, \"12\": 13, \"14\": 22, \"2\": 22, \"7\": 22, \"13\": 24, \"10\": 2, \"9\": 1}, \"9\": {\"9\": 87, \"1\": 71, \"4\": 22, \"10\": 31, \"12\": 9, \"5\": 7, \"8\": 10, \"0\": 3}, \"4\": {\"12\": 36, \"10\": 45, \"9\": 17, \"14\": 9, \"2\": 21, \"8\": 25, \"0\": 13, \"1\": 11, \"5\": 18, \"4\": 35, \"6\": 2, \"3\": 1, \"13\": 4, \"7\": 3}, \"7\": {\"7\": 53, \"8\": 29, \"13\": 13, \"0\": 30, \"2\": 17, \"3\": 33, \"4\": 5, \"14\": 14, \"6\": 9, \"5\": 24, \"12\": 12, \"15\": 1}, \"10\": {\"10\": 73, \"12\": 18, \"8\": 10, \"1\": 28, \"4\": 40, \"2\": 11, \"9\": 28, \"14\": 5, \"0\": 9, \"13\": 5, \"5\": 12, \"7\": 1}}, \"ORACLE.run132\": {\"4\": {\"8\": 11, \"13\": 33, \"2\": 41, \"7\": 7, \"9\": 15, \"5\": 2, \"1\": 28, \"4\": 45, \"3\": 35, \"14\": 7, \"0\": 4, \"11\": 10, \"15\": 2}, \"14\": {\"7\": 43, \"14\": 52, \"5\": 28, \"2\": 21, \"4\": 11, \"8\": 36, \"1\": 9, \"0\": 34, \"13\": 1, \"15\": 4, \"3\": 1}, \"5\": {\"5\": 68, \"7\": 47, \"15\": 16, \"14\": 41, \"0\": 29, \"8\": 31, \"2\": 5, \"3\": 1, \"13\": 1, \"1\": 1}, \"10\": {\"10\": 102, \"11\": 9, \"6\": 32, \"12\": 80, \"9\": 10, \"13\": 1, \"3\": 3, \"1\": 2, \"4\": 1}, \"13\": {\"12\": 13, \"2\": 17, \"3\": 41, \"1\": 18, \"13\": 51, \"9\": 38, \"5\": 2, \"11\": 18, \"7\": 2, \"10\": 1, \"4\": 35, \"0\": 2, \"14\": 2}, \"9\": {\"11\": 52, \"13\": 34, \"4\": 13, \"3\": 23, \"9\": 44, \"12\": 39, \"1\": 14, \"2\": 6, \"10\": 11, \"8\": 2, \"6\": 2}, \"6\": {\"6\": 156, \"10\": 52, \"12\": 20, \"11\": 10, \"9\": 2}, \"3\": {\"1\": 44, \"11\": 12, \"4\": 40, \"2\": 20, \"9\": 14, \"13\": 43, \"8\": 4, \"3\": 44, \"15\": 4, \"12\": 8, \"14\": 2, \"0\": 2, \"5\": 2, \"7\": 1}, \"15\": {\"15\": 150, \"8\": 28, \"0\": 16, \"5\": 31, \"7\": 7, \"1\": 4, \"4\": 1, \"14\": 3}, \"7\": {\"4\": 3, \"8\": 25, \"5\": 41, \"2\": 11, \"7\": 55, \"0\": 41, \"14\": 50, \"1\": 7, \"15\": 6, \"3\": 1}, \"12\": {\"12\": 71, \"1\": 4, \"9\": 31, \"3\": 16, \"10\": 66, \"11\": 34, \"13\": 8, \"6\": 9, \"4\": 1}, \"8\": {\"8\": 50, \"0\": 27, \"15\": 28, \"4\": 11, \"5\": 28, \"7\": 21, \"14\": 16, \"9\": 2, \"1\": 20, \"2\": 23, \"3\": 11, \"13\": 2, \"11\": 1}, \"11\": {\"13\": 38, \"9\": 52, \"11\": 82, \"10\": 7, \"12\": 25, \"3\": 15, \"4\": 13, \"1\": 2, \"6\": 3, \"0\": 1, \"2\": 2}, \"2\": {\"8\": 22, \"13\": 24, \"0\": 19, \"4\": 38, \"1\": 30, \"14\": 21, \"3\": 16, \"2\": 42, \"9\": 8, \"7\": 15, \"11\": 1, \"5\": 4}, \"1\": {\"1\": 46, \"2\": 21, \"12\": 6, \"15\": 10, \"5\": 5, \"4\": 31, \"8\": 19, \"9\": 6, \"7\": 4, \"13\": 26, \"3\": 35, \"0\": 16, \"14\": 10, \"11\": 5}, \"0\": {\"5\": 35, \"0\": 44, \"15\": 19, \"2\": 10, \"8\": 31, \"7\": 49, \"14\": 29, \"1\": 10, \"13\": 2, \"3\": 3, \"4\": 7, \"9\": 1}}, \"ORACLE.run144\": {\"8\": {\"8\": 33, \"15\": 49, \"14\": 15, \"1\": 46, \"0\": 33, \"2\": 21, \"3\": 6, \"5\": 17, \"9\": 3, \"7\": 5, \"10\": 4, \"4\": 7, \"6\": 1}, \"11\": {\"11\": 205, \"13\": 29, \"6\": 6}, \"14\": {\"14\": 33, \"5\": 34, \"15\": 32, \"8\": 7, \"9\": 23, \"7\": 20, \"1\": 10, \"10\": 26, \"2\": 18, \"4\": 23, \"0\": 2, \"13\": 6, \"6\": 4, \"11\": 2}, \"10\": {\"5\": 20, \"9\": 30, \"10\": 29, \"2\": 24, \"7\": 24, \"4\": 29, \"6\": 18, \"14\": 34, \"15\": 12, \"1\": 4, \"8\": 4, \"13\": 9, \"0\": 2, \"11\": 1}, \"3\": {\"12\": 83, \"3\": 100, \"8\": 8, \"0\": 28, \"1\": 16, \"15\": 5}, \"15\": {\"8\": 39, \"5\": 22, \"14\": 22, \"1\": 25, \"4\": 17, \"15\": 45, \"2\": 21, \"0\": 17, \"10\": 15, \"7\": 6, \"9\": 6, \"6\": 3, \"12\": 1, \"13\": 1}, \"2\": {\"7\": 15, \"1\": 32, \"2\": 67, \"14\": 18, \"0\": 12, \"5\": 21, \"8\": 15, \"4\": 10, \"3\": 1, \"9\": 15, \"10\": 17, \"15\": 14, \"12\": 3}, \"12\": {\"12\": 120, \"3\": 84, \"8\": 6, \"1\": 8, \"0\": 18, \"2\": 3, \"15\": 1}, \"4\": {\"4\": 32, \"7\": 20, \"13\": 11, \"15\": 17, \"9\": 31, \"8\": 4, \"14\": 20, \"10\": 33, \"2\": 22, \"5\": 25, \"0\": 1, \"6\": 13, \"1\": 10, \"11\": 1}, \"1\": {\"2\": 31, \"1\": 51, \"14\": 12, \"0\": 32, \"15\": 28, \"7\": 5, \"10\": 14, \"8\": 37, \"4\": 3, \"9\": 5, \"12\": 7, \"3\": 7, \"5\": 8}, \"0\": {\"3\": 27, \"0\": 54, \"8\": 39, \"12\": 14, \"15\": 24, \"1\": 47, \"4\": 6, \"14\": 2, \"2\": 20, \"9\": 1, \"7\": 1, \"10\": 3, \"5\": 2}, \"9\": {\"9\": 39, \"14\": 18, \"4\": 18, \"6\": 32, \"7\": 23, \"8\": 4, \"11\": 5, \"10\": 31, \"5\": 12, \"13\": 33, \"15\": 10, \"2\": 9, \"12\": 1, \"1\": 5}, \"5\": {\"0\": 4, \"1\": 13, \"2\": 24, \"10\": 19, \"4\": 30, \"7\": 25, \"15\": 20, \"14\": 34, \"6\": 7, \"5\": 26, \"8\": 19, \"9\": 16, \"13\": 3}, \"6\": {\"6\": 75, \"9\": 32, \"13\": 69, \"7\": 24, \"14\": 2, \"11\": 7, \"10\": 17, \"4\": 13, \"5\": 1}, \"7\": {\"7\": 30, \"14\": 25, \"4\": 26, \"5\": 26, \"10\": 39, \"9\": 40, \"2\": 14, \"6\": 19, \"1\": 4, \"15\": 7, \"13\": 8, \"8\": 2}, \"13\": {\"9\": 19, \"13\": 97, \"6\": 73, \"5\": 2, \"7\": 16, \"11\": 17, \"10\": 8, \"4\": 6, \"14\": 2}}, \"ORACLE.run18\": {\"13\": {\"7\": 35, \"6\": 21, \"13\": 40, \"10\": 39, \"4\": 12, \"12\": 11, \"5\": 35, \"11\": 15, \"8\": 10, \"2\": 1, \"1\": 19, \"14\": 1, \"15\": 1}, \"3\": {\"12\": 8, \"2\": 44, \"3\": 125, \"9\": 49, \"15\": 14}, \"15\": {\"15\": 84, \"3\": 15, \"2\": 60, \"12\": 76, \"9\": 2, \"5\": 1, \"1\": 1, \"10\": 1}, \"4\": {\"6\": 18, \"14\": 34, \"11\": 22, \"8\": 31, \"5\": 15, \"7\": 21, \"4\": 36, \"13\": 14, \"1\": 19, \"10\": 30}, \"7\": {\"1\": 29, \"5\": 36, \"11\": 22, \"7\": 30, \"4\": 16, \"13\": 24, \"6\": 37, \"10\": 27, \"12\": 3, \"14\": 3, \"8\": 12, \"2\": 1}, \"2\": {\"2\": 64, \"12\": 46, \"3\": 53, \"15\": 54, \"9\": 18, \"5\": 3, \"10\": 1, \"13\": 1}, \"1\": {\"5\": 21, \"10\": 26, \"7\": 27, \"1\": 31, \"6\": 27, \"11\": 37, \"8\": 20, \"13\": 29, \"4\": 16, \"14\": 4, \"15\": 1, \"12\": 1}, \"0\": {\"0\": 200, \"14\": 28, \"4\": 5, \"8\": 3, \"11\": 3, \"1\": 1}, \"12\": {\"15\": 83, \"10\": 5, \"2\": 42, \"12\": 90, \"3\": 8, \"13\": 3, \"5\": 4, \"1\": 1, \"9\": 2, \"6\": 1, \"11\": 1}, \"6\": {\"5\": 26, \"11\": 21, \"1\": 28, \"13\": 23, \"10\": 23, \"4\": 17, \"8\": 26, \"14\": 11, \"15\": 1, \"6\": 31, \"7\": 33}, \"11\": {\"7\": 23, \"6\": 32, \"10\": 17, \"8\": 35, \"13\": 16, \"1\": 24, \"11\": 35, \"4\": 20, \"5\": 19, \"14\": 17, \"0\": 1, \"2\": 1}, \"9\": {\"9\": 161, \"3\": 50, \"2\": 26, \"15\": 2, \"12\": 1}, \"5\": {\"4\": 9, \"14\": 6, \"1\": 29, \"5\": 33, \"6\": 23, \"13\": 36, \"7\": 32, \"12\": 10, \"8\": 12, \"10\": 27, \"11\": 17, \"2\": 1, \"15\": 5}, \"10\": {\"7\": 34, \"5\": 28, \"1\": 32, \"6\": 30, \"4\": 14, \"13\": 37, \"11\": 31, \"10\": 20, \"12\": 1, \"8\": 10, \"14\": 2, \"2\": 1}, \"14\": {\"14\": 86, \"5\": 8, \"0\": 4, \"10\": 7, \"8\": 30, \"4\": 48, \"11\": 23, \"6\": 13, \"13\": 7, \"7\": 6, \"1\": 8}, \"8\": {\"5\": 19, \"8\": 49, \"13\": 10, \"11\": 31, \"1\": 30, \"6\": 31, \"14\": 20, \"7\": 15, \"4\": 24, \"10\": 11}}, \"ORACLE.run120\": {\"6\": {\"1\": 25, \"9\": 18, \"7\": 18, \"12\": 18, \"4\": 18, \"2\": 19, \"5\": 15, \"15\": 18, \"6\": 22, \"3\": 17, \"8\": 10, \"13\": 17, \"14\": 10, \"10\": 13, \"11\": 1, \"0\": 1}, \"11\": {\"11\": 109, \"0\": 74, \"8\": 15, \"14\": 10, \"5\": 11, \"9\": 6, \"3\": 7, \"2\": 1, \"7\": 2, \"1\": 3, \"12\": 1, \"4\": 1}, \"5\": {\"9\": 23, \"8\": 19, \"5\": 20, \"15\": 18, \"6\": 10, \"4\": 8, \"3\": 20, \"12\": 19, \"14\": 14, \"2\": 14, \"10\": 6, \"1\": 24, \"11\": 8, \"13\": 12, \"7\": 13, \"0\": 12}, \"14\": {\"4\": 6, \"7\": 19, \"15\": 12, \"14\": 38, \"8\": 37, \"3\": 18, \"12\": 9, \"9\": 17, \"1\": 11, \"10\": 13, \"2\": 6, \"6\": 15, \"5\": 15, \"0\": 16, \"13\": 1, \"11\": 7}, \"2\": {\"15\": 29, \"2\": 14, \"7\": 19, \"1\": 23, \"12\": 26, \"13\": 17, \"4\": 18, \"14\": 9, \"6\": 14, \"9\": 18, \"5\": 13, \"8\": 13, \"10\": 13, \"11\": 2, \"0\": 5, \"3\": 7}, \"7\": {\"3\": 17, \"15\": 22, \"7\": 21, \"13\": 12, \"8\": 15, \"12\": 14, \"2\": 22, \"4\": 18, \"9\": 15, \"1\": 18, \"5\": 15, \"14\": 11, \"6\": 20, \"10\": 14, \"11\": 4, \"0\": 2}, \"3\": {\"2\": 17, \"6\": 9, \"1\": 17, \"0\": 14, \"8\": 23, \"7\": 19, \"14\": 23, \"12\": 11, \"3\": 22, \"5\": 22, \"9\": 20, \"11\": 10, \"15\": 12, \"4\": 7, \"13\": 8, \"10\": 6}, \"4\": {\"15\": 18, \"6\": 20, \"1\": 19, \"10\": 32, \"2\": 24, \"7\": 19, \"4\": 23, \"13\": 17, \"9\": 14, \"8\": 7, \"14\": 12, \"5\": 9, \"12\": 15, \"3\": 9, \"0\": 2}, \"9\": {\"1\": 13, \"14\": 17, \"6\": 22, \"0\": 6, \"4\": 17, \"11\": 4, \"13\": 19, \"12\": 18, \"15\": 16, \"2\": 18, \"10\": 10, \"9\": 27, \"8\": 8, \"3\": 12, \"5\": 12, \"7\": 21}, \"12\": {\"2\": 28, \"10\": 26, \"4\": 17, \"1\": 20, \"6\": 18, \"13\": 25, \"7\": 16, \"15\": 16, \"9\": 20, \"14\": 11, \"5\": 13, \"12\": 15, \"8\": 4, \"11\": 1, \"3\": 9, \"0\": 1}, \"0\": {\"11\": 56, \"0\": 54, \"3\": 19, \"5\": 17, \"15\": 9, \"9\": 13, \"14\": 17, \"6\": 4, \"1\": 12, \"7\": 4, \"8\": 26, \"2\": 4, \"12\": 4, \"13\": 1}, \"10\": {\"4\": 38, \"10\": 59, \"13\": 24, \"12\": 18, \"6\": 20, \"1\": 8, \"15\": 13, \"9\": 13, \"14\": 6, \"2\": 23, \"7\": 9, \"3\": 4, \"5\": 2, \"8\": 3}, \"8\": {\"3\": 24, \"2\": 9, \"14\": 36, \"9\": 11, \"5\": 20, \"0\": 20, \"8\": 34, \"4\": 9, \"7\": 11, \"1\": 23, \"11\": 15, \"6\": 15, \"13\": 2, \"12\": 4, \"15\": 6, \"10\": 1}, \"13\": {\"13\": 37, \"7\": 21, \"4\": 15, \"2\": 28, \"15\": 28, \"12\": 25, \"3\": 8, \"6\": 8, \"14\": 5, \"1\": 19, \"10\": 23, \"5\": 8, \"9\": 12, \"8\": 2, \"0\": 1}, \"1\": {\"14\": 14, \"5\": 22, \"3\": 18, \"4\": 17, \"9\": 26, \"10\": 12, \"2\": 15, \"0\": 5, \"15\": 17, \"8\": 12, \"7\": 24, \"13\": 8, \"6\": 13, \"1\": 23, \"12\": 11, \"11\": 3}, \"15\": {\"4\": 26, \"6\": 20, \"2\": 24, \"1\": 15, \"12\": 22, \"10\": 14, \"7\": 19, \"5\": 21, \"14\": 10, \"13\": 15, \"9\": 17, \"15\": 19, \"8\": 6, \"3\": 10, \"0\": 2}}, \"ORACLE.run138\": {\"3\": {\"11\": 31, \"3\": 202, \"0\": 2, \"10\": 5}, \"8\": {\"2\": 26, \"15\": 31, \"9\": 25, \"5\": 35, \"4\": 4, \"7\": 28, \"12\": 23, \"8\": 38, \"0\": 4, \"14\": 13, \"13\": 7, \"1\": 3, \"10\": 3}, \"0\": {\"7\": 17, \"0\": 60, \"10\": 59, \"2\": 17, \"8\": 1, \"13\": 48, \"3\": 11, \"4\": 5, \"11\": 4, \"14\": 12, \"5\": 5, \"9\": 1}, \"2\": {\"5\": 21, \"2\": 47, \"9\": 22, \"14\": 46, \"4\": 8, \"7\": 40, \"10\": 2, \"8\": 24, \"0\": 11, \"15\": 1, \"13\": 16, \"12\": 2}, \"4\": {\"4\": 144, \"0\": 23, \"10\": 18, \"14\": 22, \"13\": 10, \"7\": 13, \"2\": 8, \"8\": 1, \"12\": 1}, \"7\": {\"2\": 51, \"7\": 49, \"12\": 3, \"0\": 16, \"5\": 12, \"14\": 50, \"9\": 21, \"10\": 6, \"13\": 12, \"4\": 11, \"8\": 9}, \"12\": {\"12\": 149, \"15\": 23, \"5\": 18, \"7\": 4, \"4\": 3, \"8\": 30, \"14\": 10, \"1\": 1, \"9\": 1, \"2\": 1}, \"6\": {\"6\": 118, \"1\": 95, \"15\": 21, \"12\": 5, \"9\": 1}, \"15\": {\"15\": 84, \"8\": 28, \"9\": 13, \"5\": 27, \"12\": 35, \"1\": 24, \"7\": 3, \"6\": 21, \"2\": 4, \"14\": 1}, \"11\": {\"11\": 204, \"3\": 31, \"10\": 4, \"13\": 1}, \"9\": {\"9\": 104, \"2\": 29, \"7\": 23, \"5\": 31, \"8\": 29, \"13\": 13, \"0\": 2, \"14\": 7, \"15\": 2}, \"14\": {\"14\": 58, \"2\": 32, \"4\": 26, \"10\": 7, \"7\": 42, \"12\": 16, \"9\": 10, \"8\": 17, \"0\": 6, \"5\": 13, \"13\": 13}, \"10\": {\"13\": 37, \"10\": 98, \"0\": 64, \"4\": 18, \"14\": 4, \"3\": 9, \"7\": 6, \"2\": 3, \"11\": 1}, \"5\": {\"9\": 28, \"2\": 24, \"15\": 34, \"5\": 53, \"7\": 11, \"8\": 51, \"14\": 12, \"12\": 19, \"6\": 2, \"0\": 2, \"13\": 2, \"1\": 2}, \"1\": {\"6\": 104, \"1\": 101, \"15\": 33, \"5\": 1, \"8\": 1}, \"13\": {\"13\": 66, \"10\": 50, \"7\": 18, \"0\": 58, \"9\": 7, \"2\": 14, \"3\": 5, \"14\": 10, \"4\": 9, \"5\": 3}}, \"ORACLE.run126\": {\"5\": {\"11\": 37, \"14\": 20, \"0\": 6, \"15\": 37, \"5\": 47, \"1\": 20, \"10\": 22, \"6\": 31, \"2\": 9, \"3\": 1, \"9\": 2, \"7\": 3, \"12\": 3, \"8\": 2}, \"8\": {\"3\": 17, \"8\": 38, \"9\": 28, \"14\": 9, \"2\": 24, \"10\": 12, \"7\": 25, \"4\": 10, \"12\": 26, \"0\": 21, \"15\": 6, \"13\": 9, \"6\": 4, \"11\": 2, \"1\": 5, \"5\": 4}, \"4\": {\"4\": 110, \"8\": 14, \"3\": 28, \"9\": 21, \"7\": 16, \"13\": 38, \"12\": 9, \"2\": 4}, \"12\": {\"3\": 32, \"12\": 37, \"4\": 9, \"8\": 26, \"7\": 38, \"9\": 30, \"2\": 25, \"5\": 2, \"13\": 25, \"15\": 6, \"10\": 5, \"0\": 4, \"14\": 1}, \"6\": {\"5\": 32, \"10\": 38, \"1\": 31, \"15\": 35, \"0\": 16, \"14\": 33, \"11\": 23, \"6\": 21, \"8\": 3, \"9\": 4, \"2\": 3, \"7\": 1}, \"7\": {\"2\": 32, \"9\": 23, \"13\": 20, \"3\": 25, \"7\": 36, \"12\": 28, \"0\": 18, \"10\": 4, \"4\": 15, \"14\": 10, \"8\": 22, \"1\": 3, \"15\": 3, \"5\": 1}, \"10\": {\"10\": 34, \"7\": 9, \"5\": 16, \"14\": 45, \"0\": 22, \"1\": 28, \"2\": 11, \"6\": 20, \"3\": 4, \"8\": 7, \"15\": 29, \"12\": 3, \"11\": 8, \"9\": 4}, \"0\": {\"7\": 11, \"12\": 8, \"5\": 15, \"3\": 9, \"14\": 34, \"2\": 25, \"9\": 10, \"6\": 15, \"1\": 11, \"8\": 19, \"0\": 34, \"10\": 21, \"15\": 20, \"11\": 6, \"13\": 2}, \"15\": {\"11\": 32, \"10\": 29, \"15\": 40, \"1\": 21, \"8\": 3, \"5\": 32, \"0\": 12, \"6\": 32, \"14\": 20, \"7\": 5, \"2\": 4, \"9\": 7, \"13\": 2, \"12\": 1}, \"9\": {\"3\": 28, \"15\": 4, \"2\": 31, \"13\": 31, \"12\": 33, \"9\": 27, \"7\": 30, \"10\": 4, \"0\": 8, \"6\": 3, \"8\": 21, \"14\": 4, \"11\": 3, \"4\": 6, \"5\": 7}, \"11\": {\"11\": 85, \"5\": 51, \"15\": 30, \"6\": 33, \"1\": 20, \"0\": 4, \"14\": 7, \"2\": 2, \"10\": 8}, \"14\": {\"1\": 32, \"0\": 29, \"10\": 34, \"14\": 44, \"6\": 24, \"5\": 12, \"2\": 10, \"11\": 10, \"15\": 24, \"9\": 7, \"3\": 3, \"12\": 1, \"7\": 4, \"4\": 1, \"8\": 5}, \"2\": {\"2\": 40, \"8\": 25, \"7\": 13, \"4\": 5, \"13\": 20, \"9\": 33, \"3\": 20, \"14\": 8, \"12\": 14, \"11\": 4, \"0\": 17, \"15\": 11, \"6\": 7, \"10\": 11, \"5\": 8, \"1\": 4}, \"13\": {\"4\": 20, \"12\": 30, \"3\": 29, \"9\": 31, \"8\": 30, \"7\": 30, \"2\": 14, \"13\": 43, \"6\": 1, \"0\": 3, \"15\": 2, \"10\": 4, \"5\": 2, \"14\": 1}, \"3\": {\"8\": 27, \"4\": 34, \"3\": 26, \"2\": 21, \"12\": 34, \"13\": 27, \"10\": 2, \"0\": 9, \"7\": 32, \"9\": 21, \"14\": 3, \"15\": 2, \"11\": 1, \"6\": 1}, \"1\": {\"10\": 31, \"1\": 39, \"11\": 27, \"5\": 19, \"14\": 37, \"6\": 35, \"2\": 3, \"15\": 24, \"0\": 18, \"9\": 3, \"7\": 1, \"12\": 1, \"8\": 2}}}, \"per_domain_accuracy\": {\"Wisig_3\": {\"accuracy\": 0.9732532751091703, \"source?\": true}, \"Wisig_2\": {\"accuracy\": 0.948046875, \"source?\": true}, \"Wisig_1\": {\"accuracy\": 0.9713983050847458, \"source?\": true}, \"Wisig_4\": {\"accuracy\": 0.9571759259259259, \"source?\": true}, \"ORACLE.run150\": {\"accuracy\": 0.2296875, \"source?\": false}, \"ORACLE.run114\": {\"accuracy\": 0.30703125, \"source?\": false}, \"ORACLE.run132\": {\"accuracy\": 0.2869791666666667, \"source?\": false}, \"ORACLE.run144\": {\"accuracy\": 0.26979166666666665, \"source?\": false}, \"ORACLE.run18\": {\"accuracy\": 0.2903645833333333, \"source?\": false}, \"ORACLE.run120\": {\"accuracy\": 0.13984375, \"source?\": false}, \"ORACLE.run138\": {\"accuracy\": 0.41015625, \"source?\": false}, \"ORACLE.run126\": {\"accuracy\": 0.18255208333333334, \"source?\": false}}}, \"history\": {\"epoch_indices\": [1, 2, 3, 4, 5], \"train_label_loss\": [0.19379596118388404, 0.1335845258702553, 0.11468833068459618, 0.10100617793773567, 0.09634580306816917], \"source_val_label_loss\": [0.18087023496627808, 0.13010412454605103, 0.114598348736763, 0.11967887729406357, 0.11389638483524323], \"target_val_label_loss\": [2.57417368888855, 2.5712647438049316, 2.5358214378356934, 2.5456881523132324, 2.549949884414673], \"source_val_acc_label\": [0.9622890295358649, 0.9708267405063291, 0.9730353375527426, 0.9742220464135021, 0.974189082278481], \"target_val_acc_label\": [0.26455078125, 0.2635091145833333, 0.25361328125, 0.25201822916666666, 0.22565104166666666]}, \"dataset_metrics\": {\"source\": {\"train\": {\"n_unique_x\": 189055, \"n_unique_y\": 130, \"n_batch/episode\": 6854}, \"val\": {\"n_unique_x\": 40070, \"n_unique_y\": 130, \"n_batch/episode\": 948}, \"test\": {\"n_unique_x\": 40836, \"n_unique_y\": 130, \"n_batch/episode\": 967}}, \"target\": {\"train\": {\"n_unique_x\": 179200, \"n_unique_y\": 16, \"n_batch/episode\": 6720}, \"val\": {\"n_unique_x\": 38400, \"n_unique_y\": 16, \"n_batch/episode\": 960}, \"test\": {\"n_unique_x\": 38400, \"n_unique_y\": 16, \"n_batch/episode\": 960}}}}'"
      ]
     },
     "execution_count": 29,
     "metadata": {},
     "output_type": "execute_result"
    }
   ],
   "source": [
    "json.dumps(experiment)"
   ]
  }
 ],
 "metadata": {
  "celltoolbar": "Tags",
  "kernelspec": {
   "display_name": "Python 3 (ipykernel)",
   "language": "python",
   "name": "python3"
  },
  "language_info": {
   "codemirror_mode": {
    "name": "ipython",
    "version": 3
   },
   "file_extension": ".py",
   "mimetype": "text/x-python",
   "name": "python",
   "nbconvert_exporter": "python",
   "pygments_lexer": "ipython3",
   "version": "3.8.12"
  },
  "papermill": {
   "default_parameters": {},
   "duration": 1139.505584,
   "end_time": "2022-03-23T06:57:41.219177",
   "environment_variables": {},
   "exception": null,
   "input_path": "/root/csc500-main/csc500-notebooks/templates/tl_ptn_template.ipynb",
   "output_path": "trial.ipynb",
   "parameters": {
    "parameters": {
     "BEST_MODEL_PATH": "./best_model.pth",
     "NUM_LOGS_PER_EPOCH": 10,
     "criteria_for_best": "target_accuracy",
     "dataset_seed": 500,
     "datasets": [
      {
       "domain_prefix": "Wisig_",
       "domains": [
        1,
        2,
        3,
        4
       ],
       "episode_transforms": [],
       "labels": [
        "1-10",
        "1-12",
        "1-14",
        "1-16",
        "1-18",
        "1-19",
        "1-8",
        "10-11",
        "10-17",
        "10-4",
        "10-7",
        "11-1",
        "11-10",
        "11-19",
        "11-20",
        "11-4",
        "11-7",
        "12-19",
        "12-20",
        "12-7",
        "13-14",
        "13-18",
        "13-19",
        "13-20",
        "13-3",
        "13-7",
        "14-10",
        "14-11",
        "14-12",
        "14-13",
        "14-14",
        "14-19",
        "14-20",
        "14-7",
        "14-8",
        "14-9",
        "15-1",
        "15-19",
        "15-6",
        "16-1",
        "16-16",
        "16-19",
        "16-20",
        "17-10",
        "17-11",
        "18-1",
        "18-10",
        "18-11",
        "18-12",
        "18-13",
        "18-14",
        "18-15",
        "18-16",
        "18-17",
        "18-19",
        "18-2",
        "18-20",
        "18-4",
        "18-5",
        "18-7",
        "18-8",
        "18-9",
        "19-1",
        "19-10",
        "19-11",
        "19-12",
        "19-13",
        "19-14",
        "19-15",
        "19-19",
        "19-2",
        "19-20",
        "19-3",
        "19-4",
        "19-6",
        "19-7",
        "19-8",
        "19-9",
        "2-1",
        "2-13",
        "2-15",
        "2-3",
        "2-4",
        "2-5",
        "2-6",
        "2-7",
        "2-8",
        "20-1",
        "20-12",
        "20-14",
        "20-15",
        "20-16",
        "20-18",
        "20-19",
        "20-20",
        "20-3",
        "20-4",
        "20-5",
        "20-7",
        "20-8",
        "3-1",
        "3-13",
        "3-18",
        "3-2",
        "3-8",
        "4-1",
        "4-10",
        "4-11",
        "5-1",
        "5-5",
        "6-1",
        "6-15",
        "6-6",
        "7-10",
        "7-11",
        "7-12",
        "7-13",
        "7-14",
        "7-7",
        "7-8",
        "7-9",
        "8-1",
        "8-13",
        "8-14",
        "8-18",
        "8-20",
        "8-3",
        "8-8",
        "9-1",
        "9-7"
       ],
       "num_examples_per_domain_per_label": -1,
       "pickle_path": "/root/csc500-main/datasets/wisig.node3-19.stratified_ds.2022A.pkl",
       "source_or_target_dataset": "source",
       "x_transforms": []
      },
      {
       "domain_prefix": "ORACLE.run1",
       "domains": [
        32,
        38,
        8,
        44,
        14,
        50,
        20,
        26
       ],
       "episode_transforms": [],
       "labels": [
        "3123D52",
        "3123D65",
        "3123D79",
        "3123D80",
        "3123D54",
        "3123D70",
        "3123D7B",
        "3123D89",
        "3123D58",
        "3123D76",
        "3123D7D",
        "3123EFE",
        "3123D64",
        "3123D78",
        "3123D7E",
        "3124E4A"
       ],
       "num_examples_per_domain_per_label": 2000,
       "pickle_path": "/root/csc500-main/datasets/oracle.Run1_10kExamples_stratified_ds.2022A.pkl",
       "source_or_target_dataset": "target",
       "x_transforms": []
      }
     ],
     "device": "cuda",
     "experiment_name": "tl_1v2:wisig-oracle.run1.limited",
     "lr": 0.0001,
     "n_epoch": 50,
     "n_query": 2,
     "n_shot": 3,
     "n_way": 16,
     "patience": 3,
     "seed": 500,
     "test_k_factor": 2,
     "torch_default_dtype": "torch.float32",
     "train_k_factor": 3,
     "val_k_factor": 2,
     "x_net": [
      {
       "class": "nnReshape",
       "kargs": {
        "shape": [
         -1,
         1,
         2,
         256
        ]
       }
      },
      {
       "class": "Conv2d",
       "kargs": {
        "bias": false,
        "in_channels": 1,
        "kernel_size": [
         1,
         7
        ],
        "out_channels": 256,
        "padding": [
         0,
         3
        ]
       }
      },
      {
       "class": "ReLU",
       "kargs": {
        "inplace": true
       }
      },
      {
       "class": "BatchNorm2d",
       "kargs": {
        "num_features": 256
       }
      },
      {
       "class": "Conv2d",
       "kargs": {
        "bias": true,
        "in_channels": 256,
        "kernel_size": [
         2,
         7
        ],
        "out_channels": 80,
        "padding": [
         0,
         3
        ]
       }
      },
      {
       "class": "ReLU",
       "kargs": {
        "inplace": true
       }
      },
      {
       "class": "BatchNorm2d",
       "kargs": {
        "num_features": 80
       }
      },
      {
       "class": "Flatten",
       "kargs": {}
      },
      {
       "class": "Linear",
       "kargs": {
        "in_features": 20480,
        "out_features": 256
       }
      },
      {
       "class": "ReLU",
       "kargs": {
        "inplace": true
       }
      },
      {
       "class": "BatchNorm1d",
       "kargs": {
        "num_features": 256
       }
      },
      {
       "class": "Linear",
       "kargs": {
        "in_features": 256,
        "out_features": 256
       }
      }
     ]
    }
   },
   "start_time": "2022-03-23T06:38:41.713593",
   "version": "2.3.4"
  }
 },
 "nbformat": 4,
 "nbformat_minor": 5
}