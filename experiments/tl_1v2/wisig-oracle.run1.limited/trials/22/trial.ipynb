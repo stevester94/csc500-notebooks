{
 "cells": [
  {
   "cell_type": "markdown",
   "id": "9fea5f46",
   "metadata": {
    "papermill": {
     "duration": 0.028985,
     "end_time": "2022-03-23T04:19:03.630143",
     "exception": false,
     "start_time": "2022-03-23T04:19:03.601158",
     "status": "completed"
    },
    "tags": []
   },
   "source": [
    "# Transfer Learning Template"
   ]
  },
  {
   "cell_type": "code",
   "execution_count": 1,
   "id": "0902182a",
   "metadata": {
    "execution": {
     "iopub.execute_input": "2022-03-23T04:19:03.694563Z",
     "iopub.status.busy": "2022-03-23T04:19:03.685785Z",
     "iopub.status.idle": "2022-03-23T04:19:05.522694Z",
     "shell.execute_reply": "2022-03-23T04:19:05.523010Z"
    },
    "papermill": {
     "duration": 1.870373,
     "end_time": "2022-03-23T04:19:05.523228",
     "exception": false,
     "start_time": "2022-03-23T04:19:03.652855",
     "status": "completed"
    },
    "tags": []
   },
   "outputs": [],
   "source": [
    "%load_ext autoreload\n",
    "%autoreload 2\n",
    "%matplotlib inline\n",
    "\n",
    "    \n",
    "import os, json, sys, time, random\n",
    "import numpy as np\n",
    "import torch\n",
    "from torch.optim import Adam\n",
    "from  easydict import EasyDict\n",
    "import matplotlib.pyplot as plt\n",
    "\n",
    "from steves_models.steves_ptn import Steves_Prototypical_Network\n",
    "\n",
    "from steves_utils.lazy_iterable_wrapper import Lazy_Iterable_Wrapper\n",
    "from steves_utils.iterable_aggregator import Iterable_Aggregator\n",
    "from steves_utils.ptn_train_eval_test_jig import  PTN_Train_Eval_Test_Jig\n",
    "from steves_utils.torch_sequential_builder import build_sequential\n",
    "from steves_utils.torch_utils import get_dataset_metrics, ptn_confusion_by_domain_over_dataloader\n",
    "from steves_utils.utils_v2 import (per_domain_accuracy_from_confusion, get_datasets_base_path)\n",
    "from steves_utils.PTN.utils import independent_accuracy_assesment\n",
    "\n",
    "from torch.utils.data import DataLoader\n",
    "\n",
    "from steves_utils.stratified_dataset.episodic_accessor import Episodic_Accessor_Factory\n",
    "\n",
    "from steves_utils.ptn_do_report import (\n",
    "    get_loss_curve,\n",
    "    get_results_table,\n",
    "    get_parameters_table,\n",
    "    get_domain_accuracies,\n",
    ")\n",
    "\n",
    "from steves_utils.transforms import get_chained_transform"
   ]
  },
  {
   "cell_type": "markdown",
   "id": "41c840b4",
   "metadata": {
    "papermill": {
     "duration": 0.018572,
     "end_time": "2022-03-23T04:19:05.561505",
     "exception": false,
     "start_time": "2022-03-23T04:19:05.542933",
     "status": "completed"
    },
    "tags": []
   },
   "source": [
    "# Allowed Parameters\n",
    "These are allowed parameters, not defaults\n",
    "Each of these values need to be present in the injected parameters (the notebook will raise an exception if they are not present)\n",
    "\n",
    "Papermill uses the cell tag \"parameters\" to inject the real parameters below this cell.\n",
    "Enable tags to see what I mean"
   ]
  },
  {
   "cell_type": "code",
   "execution_count": 2,
   "id": "fd44eb83",
   "metadata": {
    "execution": {
     "iopub.execute_input": "2022-03-23T04:19:05.603304Z",
     "iopub.status.busy": "2022-03-23T04:19:05.602928Z",
     "iopub.status.idle": "2022-03-23T04:19:05.623428Z",
     "shell.execute_reply": "2022-03-23T04:19:05.623752Z"
    },
    "papermill": {
     "duration": 0.043897,
     "end_time": "2022-03-23T04:19:05.623838",
     "exception": false,
     "start_time": "2022-03-23T04:19:05.579941",
     "status": "completed"
    },
    "tags": []
   },
   "outputs": [],
   "source": [
    "required_parameters = {\n",
    "    \"experiment_name\",\n",
    "    \"lr\",\n",
    "    \"device\",\n",
    "    \"seed\",\n",
    "    \"dataset_seed\",\n",
    "    \"n_shot\",\n",
    "    \"n_query\",\n",
    "    \"n_way\",\n",
    "    \"train_k_factor\",\n",
    "    \"val_k_factor\",\n",
    "    \"test_k_factor\",\n",
    "    \"n_epoch\",\n",
    "    \"patience\",\n",
    "    \"criteria_for_best\",\n",
    "    \"x_net\",\n",
    "    \"datasets\",\n",
    "    \"torch_default_dtype\",\n",
    "    \"NUM_LOGS_PER_EPOCH\",\n",
    "    \"BEST_MODEL_PATH\",\n",
    "    \"x_shape\",\n",
    "}"
   ]
  },
  {
   "cell_type": "code",
   "execution_count": 3,
   "id": "fa3f0049",
   "metadata": {
    "execution": {
     "iopub.execute_input": "2022-03-23T04:19:05.676846Z",
     "iopub.status.busy": "2022-03-23T04:19:05.676226Z",
     "iopub.status.idle": "2022-03-23T04:19:05.694222Z",
     "shell.execute_reply": "2022-03-23T04:19:05.694879Z"
    },
    "papermill": {
     "duration": 0.046493,
     "end_time": "2022-03-23T04:19:05.695054",
     "exception": false,
     "start_time": "2022-03-23T04:19:05.648561",
     "status": "completed"
    },
    "tags": [
     "parameters"
    ]
   },
   "outputs": [],
   "source": [
    "from steves_utils.CORES.utils import (\n",
    "    ALL_NODES,\n",
    "    ALL_NODES_MINIMUM_1000_EXAMPLES,\n",
    "    ALL_DAYS\n",
    ")\n",
    "\n",
    "from steves_utils.ORACLE.utils_v2 import (\n",
    "    ALL_DISTANCES_FEET_NARROWED,\n",
    "    ALL_RUNS,\n",
    "    ALL_SERIAL_NUMBERS,\n",
    ")\n",
    "\n",
    "standalone_parameters = {}\n",
    "standalone_parameters[\"experiment_name\"] = \"STANDALONE PTN\"\n",
    "standalone_parameters[\"lr\"] = 0.001\n",
    "standalone_parameters[\"device\"] = \"cuda\"\n",
    "\n",
    "standalone_parameters[\"seed\"] = 1337\n",
    "standalone_parameters[\"dataset_seed\"] = 1337\n",
    "\n",
    "standalone_parameters[\"n_way\"] = 8\n",
    "standalone_parameters[\"n_shot\"] = 3\n",
    "standalone_parameters[\"n_query\"]  = 2\n",
    "standalone_parameters[\"train_k_factor\"] = 1\n",
    "standalone_parameters[\"val_k_factor\"] = 2\n",
    "standalone_parameters[\"test_k_factor\"] = 2\n",
    "\n",
    "\n",
    "standalone_parameters[\"n_epoch\"] = 50\n",
    "\n",
    "standalone_parameters[\"patience\"] = 10\n",
    "standalone_parameters[\"criteria_for_best\"] = \"source_loss\"\n",
    "\n",
    "standalone_parameters[\"datasets\"] = [\n",
    "    {\n",
    "        \"labels\": ALL_SERIAL_NUMBERS,\n",
    "        \"domains\": ALL_DISTANCES_FEET_NARROWED,\n",
    "        \"num_examples_per_domain_per_label\": 100,\n",
    "        \"pickle_path\": os.path.join(get_datasets_base_path(), \"oracle.Run1_framed_2000Examples_stratified_ds.2022A.pkl\"),\n",
    "        \"source_or_target_dataset\": \"source\",\n",
    "        \"x_transforms\": [\"unit_mag\", \"minus_two\"],\n",
    "        \"episode_transforms\": [],\n",
    "        \"domain_prefix\": \"ORACLE_\"\n",
    "    },\n",
    "    {\n",
    "        \"labels\": ALL_NODES,\n",
    "        \"domains\": ALL_DAYS,\n",
    "        \"num_examples_per_domain_per_label\": 100,\n",
    "        \"pickle_path\": os.path.join(get_datasets_base_path(), \"cores.stratified_ds.2022A.pkl\"),\n",
    "        \"source_or_target_dataset\": \"target\",\n",
    "        \"x_transforms\": [\"unit_power\", \"times_zero\"],\n",
    "        \"episode_transforms\": [],\n",
    "        \"domain_prefix\": \"CORES_\"\n",
    "    }   \n",
    "]\n",
    "\n",
    "standalone_parameters[\"torch_default_dtype\"] = \"torch.float32\" \n",
    "\n",
    "\n",
    "\n",
    "standalone_parameters[\"x_net\"] =     [\n",
    "    {\"class\": \"nnReshape\", \"kargs\": {\"shape\":[-1, 1, 2, 256]}},\n",
    "    {\"class\": \"Conv2d\", \"kargs\": { \"in_channels\":1, \"out_channels\":256, \"kernel_size\":(1,7), \"bias\":False, \"padding\":(0,3), },},\n",
    "    {\"class\": \"ReLU\", \"kargs\": {\"inplace\": True}},\n",
    "    {\"class\": \"BatchNorm2d\", \"kargs\": {\"num_features\":256}},\n",
    "\n",
    "    {\"class\": \"Conv2d\", \"kargs\": { \"in_channels\":256, \"out_channels\":80, \"kernel_size\":(2,7), \"bias\":True, \"padding\":(0,3), },},\n",
    "    {\"class\": \"ReLU\", \"kargs\": {\"inplace\": True}},\n",
    "    {\"class\": \"BatchNorm2d\", \"kargs\": {\"num_features\":80}},\n",
    "    {\"class\": \"Flatten\", \"kargs\": {}},\n",
    "\n",
    "    {\"class\": \"Linear\", \"kargs\": {\"in_features\": 80*256, \"out_features\": 256}}, # 80 units per IQ pair\n",
    "    {\"class\": \"ReLU\", \"kargs\": {\"inplace\": True}},\n",
    "    {\"class\": \"BatchNorm1d\", \"kargs\": {\"num_features\":256}},\n",
    "\n",
    "    {\"class\": \"Linear\", \"kargs\": {\"in_features\": 256, \"out_features\": 256}},\n",
    "]\n",
    "\n",
    "# Parameters relevant to results\n",
    "# These parameters will basically never need to change\n",
    "standalone_parameters[\"NUM_LOGS_PER_EPOCH\"] = 10\n",
    "standalone_parameters[\"BEST_MODEL_PATH\"] = \"./best_model.pth\"\n",
    "\n",
    "\n",
    "\n",
    "\n"
   ]
  },
  {
   "cell_type": "code",
   "execution_count": 4,
   "id": "cba64e49",
   "metadata": {
    "execution": {
     "iopub.execute_input": "2022-03-23T04:19:05.757739Z",
     "iopub.status.busy": "2022-03-23T04:19:05.753810Z",
     "iopub.status.idle": "2022-03-23T04:19:05.776881Z",
     "shell.execute_reply": "2022-03-23T04:19:05.776191Z"
    },
    "papermill": {
     "duration": 0.055385,
     "end_time": "2022-03-23T04:19:05.777031",
     "exception": false,
     "start_time": "2022-03-23T04:19:05.721646",
     "status": "completed"
    },
    "tags": [
     "injected-parameters"
    ]
   },
   "outputs": [],
   "source": [
    "# Parameters\n",
    "parameters = {\n",
    "    \"experiment_name\": \"tl_1v2:wisig-oracle.run1.limited\",\n",
    "    \"device\": \"cuda\",\n",
    "    \"lr\": 0.0001,\n",
    "    \"n_shot\": 3,\n",
    "    \"n_query\": 2,\n",
    "    \"train_k_factor\": 3,\n",
    "    \"val_k_factor\": 2,\n",
    "    \"test_k_factor\": 2,\n",
    "    \"torch_default_dtype\": \"torch.float32\",\n",
    "    \"n_epoch\": 50,\n",
    "    \"patience\": 3,\n",
    "    \"criteria_for_best\": \"target_accuracy\",\n",
    "    \"x_net\": [\n",
    "        {\"class\": \"nnReshape\", \"kargs\": {\"shape\": [-1, 1, 2, 256]}},\n",
    "        {\n",
    "            \"class\": \"Conv2d\",\n",
    "            \"kargs\": {\n",
    "                \"in_channels\": 1,\n",
    "                \"out_channels\": 256,\n",
    "                \"kernel_size\": [1, 7],\n",
    "                \"bias\": False,\n",
    "                \"padding\": [0, 3],\n",
    "            },\n",
    "        },\n",
    "        {\"class\": \"ReLU\", \"kargs\": {\"inplace\": True}},\n",
    "        {\"class\": \"BatchNorm2d\", \"kargs\": {\"num_features\": 256}},\n",
    "        {\n",
    "            \"class\": \"Conv2d\",\n",
    "            \"kargs\": {\n",
    "                \"in_channels\": 256,\n",
    "                \"out_channels\": 80,\n",
    "                \"kernel_size\": [2, 7],\n",
    "                \"bias\": True,\n",
    "                \"padding\": [0, 3],\n",
    "            },\n",
    "        },\n",
    "        {\"class\": \"ReLU\", \"kargs\": {\"inplace\": True}},\n",
    "        {\"class\": \"BatchNorm2d\", \"kargs\": {\"num_features\": 80}},\n",
    "        {\"class\": \"Flatten\", \"kargs\": {}},\n",
    "        {\"class\": \"Linear\", \"kargs\": {\"in_features\": 20480, \"out_features\": 256}},\n",
    "        {\"class\": \"ReLU\", \"kargs\": {\"inplace\": True}},\n",
    "        {\"class\": \"BatchNorm1d\", \"kargs\": {\"num_features\": 256}},\n",
    "        {\"class\": \"Linear\", \"kargs\": {\"in_features\": 256, \"out_features\": 256}},\n",
    "    ],\n",
    "    \"NUM_LOGS_PER_EPOCH\": 10,\n",
    "    \"BEST_MODEL_PATH\": \"./best_model.pth\",\n",
    "    \"n_way\": 16,\n",
    "    \"datasets\": [\n",
    "        {\n",
    "            \"labels\": [\n",
    "                \"1-10\",\n",
    "                \"1-12\",\n",
    "                \"1-14\",\n",
    "                \"1-16\",\n",
    "                \"1-18\",\n",
    "                \"1-19\",\n",
    "                \"1-8\",\n",
    "                \"10-11\",\n",
    "                \"10-17\",\n",
    "                \"10-4\",\n",
    "                \"10-7\",\n",
    "                \"11-1\",\n",
    "                \"11-10\",\n",
    "                \"11-19\",\n",
    "                \"11-20\",\n",
    "                \"11-4\",\n",
    "                \"11-7\",\n",
    "                \"12-19\",\n",
    "                \"12-20\",\n",
    "                \"12-7\",\n",
    "                \"13-14\",\n",
    "                \"13-18\",\n",
    "                \"13-19\",\n",
    "                \"13-20\",\n",
    "                \"13-3\",\n",
    "                \"13-7\",\n",
    "                \"14-10\",\n",
    "                \"14-11\",\n",
    "                \"14-12\",\n",
    "                \"14-13\",\n",
    "                \"14-14\",\n",
    "                \"14-19\",\n",
    "                \"14-20\",\n",
    "                \"14-7\",\n",
    "                \"14-8\",\n",
    "                \"14-9\",\n",
    "                \"15-1\",\n",
    "                \"15-19\",\n",
    "                \"15-6\",\n",
    "                \"16-1\",\n",
    "                \"16-16\",\n",
    "                \"16-19\",\n",
    "                \"16-20\",\n",
    "                \"17-10\",\n",
    "                \"17-11\",\n",
    "                \"18-1\",\n",
    "                \"18-10\",\n",
    "                \"18-11\",\n",
    "                \"18-12\",\n",
    "                \"18-13\",\n",
    "                \"18-14\",\n",
    "                \"18-15\",\n",
    "                \"18-16\",\n",
    "                \"18-17\",\n",
    "                \"18-19\",\n",
    "                \"18-2\",\n",
    "                \"18-20\",\n",
    "                \"18-4\",\n",
    "                \"18-5\",\n",
    "                \"18-7\",\n",
    "                \"18-8\",\n",
    "                \"18-9\",\n",
    "                \"19-1\",\n",
    "                \"19-10\",\n",
    "                \"19-11\",\n",
    "                \"19-12\",\n",
    "                \"19-13\",\n",
    "                \"19-14\",\n",
    "                \"19-15\",\n",
    "                \"19-19\",\n",
    "                \"19-2\",\n",
    "                \"19-20\",\n",
    "                \"19-3\",\n",
    "                \"19-4\",\n",
    "                \"19-6\",\n",
    "                \"19-7\",\n",
    "                \"19-8\",\n",
    "                \"19-9\",\n",
    "                \"2-1\",\n",
    "                \"2-13\",\n",
    "                \"2-15\",\n",
    "                \"2-3\",\n",
    "                \"2-4\",\n",
    "                \"2-5\",\n",
    "                \"2-6\",\n",
    "                \"2-7\",\n",
    "                \"2-8\",\n",
    "                \"20-1\",\n",
    "                \"20-12\",\n",
    "                \"20-14\",\n",
    "                \"20-15\",\n",
    "                \"20-16\",\n",
    "                \"20-18\",\n",
    "                \"20-19\",\n",
    "                \"20-20\",\n",
    "                \"20-3\",\n",
    "                \"20-4\",\n",
    "                \"20-5\",\n",
    "                \"20-7\",\n",
    "                \"20-8\",\n",
    "                \"3-1\",\n",
    "                \"3-13\",\n",
    "                \"3-18\",\n",
    "                \"3-2\",\n",
    "                \"3-8\",\n",
    "                \"4-1\",\n",
    "                \"4-10\",\n",
    "                \"4-11\",\n",
    "                \"5-1\",\n",
    "                \"5-5\",\n",
    "                \"6-1\",\n",
    "                \"6-15\",\n",
    "                \"6-6\",\n",
    "                \"7-10\",\n",
    "                \"7-11\",\n",
    "                \"7-12\",\n",
    "                \"7-13\",\n",
    "                \"7-14\",\n",
    "                \"7-7\",\n",
    "                \"7-8\",\n",
    "                \"7-9\",\n",
    "                \"8-1\",\n",
    "                \"8-13\",\n",
    "                \"8-14\",\n",
    "                \"8-18\",\n",
    "                \"8-20\",\n",
    "                \"8-3\",\n",
    "                \"8-8\",\n",
    "                \"9-1\",\n",
    "                \"9-7\",\n",
    "            ],\n",
    "            \"domains\": [1, 2, 3, 4],\n",
    "            \"num_examples_per_domain_per_label\": -1,\n",
    "            \"pickle_path\": \"/root/csc500-main/datasets/wisig.node3-19.stratified_ds.2022A.pkl\",\n",
    "            \"source_or_target_dataset\": \"target\",\n",
    "            \"x_transforms\": [\"unit_mag\"],\n",
    "            \"episode_transforms\": [],\n",
    "            \"domain_prefix\": \"Wisig_\",\n",
    "        },\n",
    "        {\n",
    "            \"labels\": [\n",
    "                \"3123D52\",\n",
    "                \"3123D65\",\n",
    "                \"3123D79\",\n",
    "                \"3123D80\",\n",
    "                \"3123D54\",\n",
    "                \"3123D70\",\n",
    "                \"3123D7B\",\n",
    "                \"3123D89\",\n",
    "                \"3123D58\",\n",
    "                \"3123D76\",\n",
    "                \"3123D7D\",\n",
    "                \"3123EFE\",\n",
    "                \"3123D64\",\n",
    "                \"3123D78\",\n",
    "                \"3123D7E\",\n",
    "                \"3124E4A\",\n",
    "            ],\n",
    "            \"domains\": [32, 38, 8, 44, 14, 50, 20, 26],\n",
    "            \"num_examples_per_domain_per_label\": 2000,\n",
    "            \"pickle_path\": \"/root/csc500-main/datasets/oracle.Run1_10kExamples_stratified_ds.2022A.pkl\",\n",
    "            \"source_or_target_dataset\": \"source\",\n",
    "            \"x_transforms\": [\"unit_mag\"],\n",
    "            \"episode_transforms\": [],\n",
    "            \"domain_prefix\": \"ORACLE.run1\",\n",
    "        },\n",
    "    ],\n",
    "    \"dataset_seed\": 7,\n",
    "    \"seed\": 7,\n",
    "}\n"
   ]
  },
  {
   "cell_type": "code",
   "execution_count": 5,
   "id": "8fa1cc33",
   "metadata": {
    "execution": {
     "iopub.execute_input": "2022-03-23T04:19:05.824996Z",
     "iopub.status.busy": "2022-03-23T04:19:05.824630Z",
     "iopub.status.idle": "2022-03-23T04:19:05.843421Z",
     "shell.execute_reply": "2022-03-23T04:19:05.844114Z"
    },
    "papermill": {
     "duration": 0.04212,
     "end_time": "2022-03-23T04:19:05.844289",
     "exception": false,
     "start_time": "2022-03-23T04:19:05.802169",
     "status": "completed"
    },
    "tags": []
   },
   "outputs": [],
   "source": [
    "# Set this to True if you want to run this template directly\n",
    "STANDALONE = False\n",
    "if STANDALONE:\n",
    "    print(\"parameters not injected, running with standalone_parameters\")\n",
    "    parameters = standalone_parameters\n",
    "\n",
    "if not 'parameters' in locals() and not 'parameters' in globals():\n",
    "    raise Exception(\"Parameter injection failed\")\n",
    "\n",
    "#Use an easy dict for all the parameters\n",
    "p = EasyDict(parameters)\n",
    "\n",
    "if \"x_shape\" not in p:\n",
    "    p.x_shape = [2,256] # Default to this if we dont supply x_shape\n",
    "\n",
    "\n",
    "supplied_keys = set(p.keys())\n",
    "\n",
    "if  supplied_keys != required_parameters:\n",
    "    print(\"Parameters are incorrect\")\n",
    "    if len(supplied_keys - required_parameters)>0: print(\"Shouldn't have:\", str(supplied_keys - required_parameters))\n",
    "    if len(required_parameters - supplied_keys)>0: print(\"Need to have:\", str(required_parameters - supplied_keys))\n",
    "    raise RuntimeError(\"Parameters are incorrect\")"
   ]
  },
  {
   "cell_type": "code",
   "execution_count": 6,
   "id": "3a028d58",
   "metadata": {
    "execution": {
     "iopub.execute_input": "2022-03-23T04:19:05.892652Z",
     "iopub.status.busy": "2022-03-23T04:19:05.892291Z",
     "iopub.status.idle": "2022-03-23T04:19:05.913184Z",
     "shell.execute_reply": "2022-03-23T04:19:05.913845Z"
    },
    "papermill": {
     "duration": 0.044308,
     "end_time": "2022-03-23T04:19:05.914020",
     "exception": false,
     "start_time": "2022-03-23T04:19:05.869712",
     "status": "completed"
    },
    "tags": []
   },
   "outputs": [],
   "source": [
    "###################################\n",
    "# Set the RNGs and make it all deterministic\n",
    "###################################\n",
    "np.random.seed(p.seed)\n",
    "random.seed(p.seed)\n",
    "torch.manual_seed(p.seed)\n",
    "\n",
    "torch.use_deterministic_algorithms(True) "
   ]
  },
  {
   "cell_type": "code",
   "execution_count": 7,
   "id": "b691acf6",
   "metadata": {
    "execution": {
     "iopub.execute_input": "2022-03-23T04:19:05.961192Z",
     "iopub.status.busy": "2022-03-23T04:19:05.960832Z",
     "iopub.status.idle": "2022-03-23T04:19:05.982788Z",
     "shell.execute_reply": "2022-03-23T04:19:05.983583Z"
    },
    "papermill": {
     "duration": 0.045197,
     "end_time": "2022-03-23T04:19:05.983762",
     "exception": false,
     "start_time": "2022-03-23T04:19:05.938565",
     "status": "completed"
    },
    "tags": []
   },
   "outputs": [],
   "source": [
    "###########################################\n",
    "# The stratified datasets honor this\n",
    "###########################################\n",
    "torch.set_default_dtype(eval(p.torch_default_dtype))"
   ]
  },
  {
   "cell_type": "code",
   "execution_count": 8,
   "id": "b5fba671",
   "metadata": {
    "execution": {
     "iopub.execute_input": "2022-03-23T04:19:06.031656Z",
     "iopub.status.busy": "2022-03-23T04:19:06.031280Z",
     "iopub.status.idle": "2022-03-23T04:19:06.086077Z",
     "shell.execute_reply": "2022-03-23T04:19:06.086705Z"
    },
    "papermill": {
     "duration": 0.077179,
     "end_time": "2022-03-23T04:19:06.086885",
     "exception": false,
     "start_time": "2022-03-23T04:19:06.009706",
     "status": "completed"
    },
    "tags": []
   },
   "outputs": [],
   "source": [
    "###################################\n",
    "# Build the network(s)\n",
    "# Note: It's critical to do this AFTER setting the RNG\n",
    "###################################\n",
    "x_net = build_sequential(p.x_net)"
   ]
  },
  {
   "cell_type": "code",
   "execution_count": 9,
   "id": "5d7e61cc",
   "metadata": {
    "execution": {
     "iopub.execute_input": "2022-03-23T04:19:06.134396Z",
     "iopub.status.busy": "2022-03-23T04:19:06.134040Z",
     "iopub.status.idle": "2022-03-23T04:19:06.155234Z",
     "shell.execute_reply": "2022-03-23T04:19:06.155932Z"
    },
    "papermill": {
     "duration": 0.044263,
     "end_time": "2022-03-23T04:19:06.156107",
     "exception": false,
     "start_time": "2022-03-23T04:19:06.111844",
     "status": "completed"
    },
    "tags": []
   },
   "outputs": [],
   "source": [
    "start_time_secs = time.time()"
   ]
  },
  {
   "cell_type": "code",
   "execution_count": 10,
   "id": "c6b67dfd",
   "metadata": {
    "execution": {
     "iopub.execute_input": "2022-03-23T04:19:06.204997Z",
     "iopub.status.busy": "2022-03-23T04:19:06.203336Z",
     "iopub.status.idle": "2022-03-23T04:19:06.224886Z",
     "shell.execute_reply": "2022-03-23T04:19:06.225540Z"
    },
    "papermill": {
     "duration": 0.043743,
     "end_time": "2022-03-23T04:19:06.225716",
     "exception": false,
     "start_time": "2022-03-23T04:19:06.181973",
     "status": "completed"
    },
    "tags": []
   },
   "outputs": [],
   "source": [
    "p.domains_source = []\n",
    "p.domains_target = []\n",
    "\n",
    "\n",
    "train_original_source = []\n",
    "val_original_source   = []\n",
    "test_original_source  = []\n",
    "\n",
    "train_original_target = []\n",
    "val_original_target   = []\n",
    "test_original_target  = []"
   ]
  },
  {
   "cell_type": "code",
   "execution_count": 11,
   "id": "e3d9c3d3",
   "metadata": {
    "execution": {
     "iopub.execute_input": "2022-03-23T04:19:06.271945Z",
     "iopub.status.busy": "2022-03-23T04:19:06.271577Z",
     "iopub.status.idle": "2022-03-23T04:19:06.286813Z",
     "shell.execute_reply": "2022-03-23T04:19:06.287437Z"
    },
    "papermill": {
     "duration": 0.037076,
     "end_time": "2022-03-23T04:19:06.287631",
     "exception": false,
     "start_time": "2022-03-23T04:19:06.250555",
     "status": "completed"
    },
    "tags": []
   },
   "outputs": [],
   "source": [
    "# global_x_transform_func = lambda x: normalize(x.to(torch.get_default_dtype()), \"unit_power\") # unit_power, unit_mag\n",
    "# global_x_transform_func = lambda x: normalize(x, \"unit_power\") # unit_power, unit_mag"
   ]
  },
  {
   "cell_type": "code",
   "execution_count": 12,
   "id": "acb78fd2",
   "metadata": {
    "execution": {
     "iopub.execute_input": "2022-03-23T04:19:06.348121Z",
     "iopub.status.busy": "2022-03-23T04:19:06.347545Z",
     "iopub.status.idle": "2022-03-23T04:19:06.364925Z",
     "shell.execute_reply": "2022-03-23T04:19:06.365584Z"
    },
    "papermill": {
     "duration": 0.049902,
     "end_time": "2022-03-23T04:19:06.365758",
     "exception": false,
     "start_time": "2022-03-23T04:19:06.315856",
     "status": "completed"
    },
    "tags": []
   },
   "outputs": [],
   "source": [
    "def add_dataset(\n",
    "    labels,\n",
    "    domains,\n",
    "    pickle_path,\n",
    "    x_transforms,\n",
    "    episode_transforms,\n",
    "    domain_prefix,\n",
    "    num_examples_per_domain_per_label,\n",
    "    source_or_target_dataset:str,\n",
    "    iterator_seed=p.seed,\n",
    "    dataset_seed=p.dataset_seed,\n",
    "    n_shot=p.n_shot,\n",
    "    n_way=p.n_way,\n",
    "    n_query=p.n_query,\n",
    "    train_val_test_k_factors=(p.train_k_factor,p.val_k_factor,p.test_k_factor),\n",
    "):\n",
    "   \n",
    "    if x_transforms == []: x_transform = None\n",
    "    else: x_transform = get_chained_transform(x_transforms)\n",
    "    \n",
    "    if episode_transforms == []: episode_transform = None\n",
    "    else: raise Exception(\"episode_transforms not implemented\")\n",
    "    \n",
    "    episode_transform = lambda tup, _prefix=domain_prefix: (_prefix + str(tup[0]), tup[1])\n",
    "\n",
    "\n",
    "    eaf = Episodic_Accessor_Factory(\n",
    "        labels=labels,\n",
    "        domains=domains,\n",
    "        num_examples_per_domain_per_label=num_examples_per_domain_per_label,\n",
    "        iterator_seed=iterator_seed,\n",
    "        dataset_seed=dataset_seed,\n",
    "        n_shot=n_shot,\n",
    "        n_way=n_way,\n",
    "        n_query=n_query,\n",
    "        train_val_test_k_factors=train_val_test_k_factors,\n",
    "        pickle_path=pickle_path,\n",
    "        x_transform_func=x_transform,\n",
    "    )\n",
    "\n",
    "    train, val, test = eaf.get_train(), eaf.get_val(), eaf.get_test()\n",
    "    train = Lazy_Iterable_Wrapper(train, episode_transform)\n",
    "    val = Lazy_Iterable_Wrapper(val, episode_transform)\n",
    "    test = Lazy_Iterable_Wrapper(test, episode_transform)\n",
    "\n",
    "    if source_or_target_dataset==\"source\":\n",
    "        train_original_source.append(train)\n",
    "        val_original_source.append(val)\n",
    "        test_original_source.append(test)\n",
    "\n",
    "        p.domains_source.extend(\n",
    "            [domain_prefix + str(u) for u in domains]\n",
    "        )\n",
    "    elif source_or_target_dataset==\"target\":\n",
    "        train_original_target.append(train)\n",
    "        val_original_target.append(val)\n",
    "        test_original_target.append(test)\n",
    "        p.domains_target.extend(\n",
    "            [domain_prefix + str(u) for u in domains]\n",
    "        )\n",
    "    else:\n",
    "        raise Exception(f\"invalid source_or_target_dataset: {source_or_target_dataset}\")\n",
    "    "
   ]
  },
  {
   "cell_type": "code",
   "execution_count": 13,
   "id": "fe266617",
   "metadata": {
    "execution": {
     "iopub.execute_input": "2022-03-23T04:19:06.413583Z",
     "iopub.status.busy": "2022-03-23T04:19:06.413226Z",
     "iopub.status.idle": "2022-03-23T04:19:52.886915Z",
     "shell.execute_reply": "2022-03-23T04:19:52.886178Z"
    },
    "papermill": {
     "duration": 46.496043,
     "end_time": "2022-03-23T04:19:52.887099",
     "exception": false,
     "start_time": "2022-03-23T04:19:06.391056",
     "status": "completed"
    },
    "tags": []
   },
   "outputs": [],
   "source": [
    "for ds in p.datasets:\n",
    "    add_dataset(**ds)"
   ]
  },
  {
   "cell_type": "code",
   "execution_count": 14,
   "id": "b90d65ac",
   "metadata": {
    "execution": {
     "iopub.execute_input": "2022-03-23T04:19:52.937918Z",
     "iopub.status.busy": "2022-03-23T04:19:52.937543Z",
     "iopub.status.idle": "2022-03-23T04:19:52.960075Z",
     "shell.execute_reply": "2022-03-23T04:19:52.959225Z"
    },
    "papermill": {
     "duration": 0.046367,
     "end_time": "2022-03-23T04:19:52.960232",
     "exception": false,
     "start_time": "2022-03-23T04:19:52.913865",
     "status": "completed"
    },
    "tags": []
   },
   "outputs": [],
   "source": [
    "# from steves_utils.CORES.utils import (\n",
    "#     ALL_NODES,\n",
    "#     ALL_NODES_MINIMUM_1000_EXAMPLES,\n",
    "#     ALL_DAYS\n",
    "# )\n",
    "\n",
    "# add_dataset(\n",
    "#     labels=ALL_NODES,\n",
    "#     domains = ALL_DAYS,\n",
    "#     num_examples_per_domain_per_label=100,\n",
    "#     pickle_path=os.path.join(get_datasets_base_path(), \"cores.stratified_ds.2022A.pkl\"),\n",
    "#     source_or_target_dataset=\"target\",\n",
    "#     x_transform_func=global_x_transform_func,\n",
    "#     domain_modifier=lambda u: f\"cores_{u}\"\n",
    "# )"
   ]
  },
  {
   "cell_type": "code",
   "execution_count": 15,
   "id": "76db484d",
   "metadata": {
    "execution": {
     "iopub.execute_input": "2022-03-23T04:19:53.013417Z",
     "iopub.status.busy": "2022-03-23T04:19:53.012655Z",
     "iopub.status.idle": "2022-03-23T04:19:53.034036Z",
     "shell.execute_reply": "2022-03-23T04:19:53.033227Z"
    },
    "papermill": {
     "duration": 0.046225,
     "end_time": "2022-03-23T04:19:53.034191",
     "exception": false,
     "start_time": "2022-03-23T04:19:52.987966",
     "status": "completed"
    },
    "tags": []
   },
   "outputs": [],
   "source": [
    "# from steves_utils.ORACLE.utils_v2 import (\n",
    "#     ALL_DISTANCES_FEET,\n",
    "#     ALL_RUNS,\n",
    "#     ALL_SERIAL_NUMBERS,\n",
    "# )\n",
    "\n",
    "\n",
    "# add_dataset(\n",
    "#     labels=ALL_SERIAL_NUMBERS,\n",
    "#     domains = list(set(ALL_DISTANCES_FEET) - {2,62}),\n",
    "#     num_examples_per_domain_per_label=100,\n",
    "#     pickle_path=os.path.join(get_datasets_base_path(), \"oracle.Run2_framed_2000Examples_stratified_ds.2022A.pkl\"),\n",
    "#     source_or_target_dataset=\"source\",\n",
    "#     x_transform_func=global_x_transform_func,\n",
    "#     domain_modifier=lambda u: f\"oracle1_{u}\"\n",
    "# )\n"
   ]
  },
  {
   "cell_type": "code",
   "execution_count": 16,
   "id": "97dea9d2",
   "metadata": {
    "execution": {
     "iopub.execute_input": "2022-03-23T04:19:53.085622Z",
     "iopub.status.busy": "2022-03-23T04:19:53.084452Z",
     "iopub.status.idle": "2022-03-23T04:19:53.106463Z",
     "shell.execute_reply": "2022-03-23T04:19:53.105650Z"
    },
    "papermill": {
     "duration": 0.045472,
     "end_time": "2022-03-23T04:19:53.106619",
     "exception": false,
     "start_time": "2022-03-23T04:19:53.061147",
     "status": "completed"
    },
    "tags": []
   },
   "outputs": [],
   "source": [
    "# from steves_utils.ORACLE.utils_v2 import (\n",
    "#     ALL_DISTANCES_FEET,\n",
    "#     ALL_RUNS,\n",
    "#     ALL_SERIAL_NUMBERS,\n",
    "# )\n",
    "\n",
    "\n",
    "# add_dataset(\n",
    "#     labels=ALL_SERIAL_NUMBERS,\n",
    "#     domains = list(set(ALL_DISTANCES_FEET) - {2,62,56}),\n",
    "#     num_examples_per_domain_per_label=100,\n",
    "#     pickle_path=os.path.join(get_datasets_base_path(), \"oracle.Run2_framed_2000Examples_stratified_ds.2022A.pkl\"),\n",
    "#     source_or_target_dataset=\"source\",\n",
    "#     x_transform_func=global_x_transform_func,\n",
    "#     domain_modifier=lambda u: f\"oracle2_{u}\"\n",
    "# )"
   ]
  },
  {
   "cell_type": "code",
   "execution_count": 17,
   "id": "6f289866",
   "metadata": {
    "execution": {
     "iopub.execute_input": "2022-03-23T04:19:53.157130Z",
     "iopub.status.busy": "2022-03-23T04:19:53.156761Z",
     "iopub.status.idle": "2022-03-23T04:19:53.173581Z",
     "shell.execute_reply": "2022-03-23T04:19:53.172770Z"
    },
    "papermill": {
     "duration": 0.040519,
     "end_time": "2022-03-23T04:19:53.173736",
     "exception": false,
     "start_time": "2022-03-23T04:19:53.133217",
     "status": "completed"
    },
    "tags": []
   },
   "outputs": [],
   "source": [
    "# add_dataset(\n",
    "#     labels=list(range(19)),\n",
    "#     domains = [0,1,2],\n",
    "#     num_examples_per_domain_per_label=100,\n",
    "#     pickle_path=os.path.join(get_datasets_base_path(), \"metehan.stratified_ds.2022A.pkl\"),\n",
    "#     source_or_target_dataset=\"target\",\n",
    "#     x_transform_func=global_x_transform_func,\n",
    "#     domain_modifier=lambda u: f\"met_{u}\"\n",
    "# )"
   ]
  },
  {
   "cell_type": "code",
   "execution_count": 18,
   "id": "86a863c3",
   "metadata": {
    "execution": {
     "iopub.execute_input": "2022-03-23T04:19:53.233886Z",
     "iopub.status.busy": "2022-03-23T04:19:53.232343Z",
     "iopub.status.idle": "2022-03-23T04:19:53.245519Z",
     "shell.execute_reply": "2022-03-23T04:19:53.244711Z"
    },
    "papermill": {
     "duration": 0.044671,
     "end_time": "2022-03-23T04:19:53.245673",
     "exception": false,
     "start_time": "2022-03-23T04:19:53.201002",
     "status": "completed"
    },
    "tags": []
   },
   "outputs": [],
   "source": [
    "# # from steves_utils.wisig.utils import (\n",
    "# #     ALL_NODES_MINIMUM_100_EXAMPLES,\n",
    "# #     ALL_NODES_MINIMUM_500_EXAMPLES,\n",
    "# #     ALL_NODES_MINIMUM_1000_EXAMPLES,\n",
    "# #     ALL_DAYS\n",
    "# # )\n",
    "\n",
    "# import steves_utils.wisig.utils as wisig\n",
    "\n",
    "\n",
    "# add_dataset(\n",
    "#     labels=wisig.ALL_NODES_MINIMUM_100_EXAMPLES,\n",
    "#     domains = wisig.ALL_DAYS,\n",
    "#     num_examples_per_domain_per_label=100,\n",
    "#     pickle_path=os.path.join(get_datasets_base_path(), \"wisig.node3-19.stratified_ds.2022A.pkl\"),\n",
    "#     source_or_target_dataset=\"target\",\n",
    "#     x_transform_func=global_x_transform_func,\n",
    "#     domain_modifier=lambda u: f\"wisig_{u}\"\n",
    "# )"
   ]
  },
  {
   "cell_type": "code",
   "execution_count": 19,
   "id": "fd5442bc",
   "metadata": {
    "execution": {
     "iopub.execute_input": "2022-03-23T04:19:53.303746Z",
     "iopub.status.busy": "2022-03-23T04:19:53.300770Z",
     "iopub.status.idle": "2022-03-23T04:19:53.320948Z",
     "shell.execute_reply": "2022-03-23T04:19:53.320117Z"
    },
    "papermill": {
     "duration": 0.048367,
     "end_time": "2022-03-23T04:19:53.321102",
     "exception": false,
     "start_time": "2022-03-23T04:19:53.272735",
     "status": "completed"
    },
    "tags": []
   },
   "outputs": [],
   "source": [
    "###################################\n",
    "# Build the dataset\n",
    "###################################\n",
    "train_original_source = Iterable_Aggregator(train_original_source, p.seed)\n",
    "val_original_source = Iterable_Aggregator(val_original_source, p.seed)\n",
    "test_original_source = Iterable_Aggregator(test_original_source, p.seed)\n",
    "\n",
    "\n",
    "train_original_target = Iterable_Aggregator(train_original_target, p.seed)\n",
    "val_original_target = Iterable_Aggregator(val_original_target, p.seed)\n",
    "test_original_target = Iterable_Aggregator(test_original_target, p.seed)\n",
    "\n",
    "# For CNN We only use X and Y. And we only train on the source.\n",
    "# Properly form the data using a transform lambda and Lazy_Iterable_Wrapper. Finally wrap them in a dataloader\n",
    "\n",
    "transform_lambda = lambda ex: ex[1] # Original is (<domain>, <episode>) so we strip down to episode only\n",
    "\n",
    "train_processed_source = Lazy_Iterable_Wrapper(train_original_source, transform_lambda)\n",
    "val_processed_source   = Lazy_Iterable_Wrapper(val_original_source, transform_lambda)\n",
    "test_processed_source  = Lazy_Iterable_Wrapper(test_original_source, transform_lambda)\n",
    "\n",
    "train_processed_target = Lazy_Iterable_Wrapper(train_original_target, transform_lambda)\n",
    "val_processed_target   = Lazy_Iterable_Wrapper(val_original_target, transform_lambda)\n",
    "test_processed_target  = Lazy_Iterable_Wrapper(test_original_target, transform_lambda)\n",
    "\n",
    "datasets = EasyDict({\n",
    "    \"source\": {\n",
    "        \"original\": {\"train\":train_original_source, \"val\":val_original_source, \"test\":test_original_source},\n",
    "        \"processed\": {\"train\":train_processed_source, \"val\":val_processed_source, \"test\":test_processed_source}\n",
    "    },\n",
    "    \"target\": {\n",
    "        \"original\": {\"train\":train_original_target, \"val\":val_original_target, \"test\":test_original_target},\n",
    "        \"processed\": {\"train\":train_processed_target, \"val\":val_processed_target, \"test\":test_processed_target}\n",
    "    },\n",
    "})"
   ]
  },
  {
   "cell_type": "code",
   "execution_count": 20,
   "id": "5b3c01fc",
   "metadata": {
    "execution": {
     "iopub.execute_input": "2022-03-23T04:19:53.372060Z",
     "iopub.status.busy": "2022-03-23T04:19:53.371556Z",
     "iopub.status.idle": "2022-03-23T04:20:08.146860Z",
     "shell.execute_reply": "2022-03-23T04:20:08.147586Z"
    },
    "papermill": {
     "duration": 14.801758,
     "end_time": "2022-03-23T04:20:08.147807",
     "exception": false,
     "start_time": "2022-03-23T04:19:53.346049",
     "status": "completed"
    },
    "tags": []
   },
   "outputs": [
    {
     "name": "stdout",
     "output_type": "stream",
     "text": [
      "{'ORACLE.run18', 'ORACLE.run132', 'ORACLE.run114', 'ORACLE.run144', 'ORACLE.run120', 'ORACLE.run126', 'ORACLE.run138', 'ORACLE.run150'}\n"
     ]
    },
    {
     "name": "stdout",
     "output_type": "stream",
     "text": [
      "{'Wisig_2', 'Wisig_1', 'Wisig_3', 'Wisig_4'}\n"
     ]
    },
    {
     "name": "stdout",
     "output_type": "stream",
     "text": [
      "tensor([[[-0.5826,  1.1462,  1.5187,  ...,  0.0000, -0.5062,  1.3849],\n",
      "         [-0.0955, -0.4203, -1.1079,  ...,  0.1242, -0.8978,  0.4489]],\n",
      "\n",
      "        [[-0.6710, -0.6518,  2.1377,  ...,  0.3547,  0.2109, -0.9298],\n",
      "         [-0.1342,  0.7956, -0.6710,  ...,  0.4985,  0.3163,  0.0575]],\n",
      "\n",
      "        [[-2.5312, -0.3736,  1.1675,  ...,  0.6071, -0.9807, -0.3082],\n",
      "         [ 0.5698,  0.6725, -1.2703,  ...,  0.3923,  1.0088, -1.3917]],\n",
      "\n",
      "        ...,\n",
      "\n",
      "        [[-0.7807, -0.7045,  1.5042,  ..., -0.1809,  1.0948,  1.1805],\n",
      "         [ 0.8759, -0.3142,  0.1904,  ..., -0.5617,  0.9901,  1.0568]],\n",
      "\n",
      "        [[-0.8022,  0.3879, -0.0264,  ..., -0.3262, -0.0970,  0.1851],\n",
      "         [-1.2429, -0.8639,  0.3173,  ...,  0.4584,  0.8727,  0.2909]],\n",
      "\n",
      "        [[-0.3070,  1.2280,  0.5688,  ...,  0.2799,  1.0474,  0.6049],\n",
      "         [-0.2980,  0.0722,  1.3363,  ...,  0.5598,  0.8939,  0.4424]]])\n"
     ]
    }
   ],
   "source": [
    "from steves_utils.transforms import get_average_magnitude, get_average_power\n",
    "\n",
    "print(set([u for u,_ in val_original_source]))\n",
    "print(set([u for u,_ in val_original_target]))\n",
    "\n",
    "s_x, s_y, q_x, q_y, _ = next(iter(train_processed_source))\n",
    "print(s_x)\n",
    "\n",
    "# for ds in [\n",
    "#     train_processed_source,\n",
    "#     val_processed_source,\n",
    "#     test_processed_source,\n",
    "#     train_processed_target,\n",
    "#     val_processed_target,\n",
    "#     test_processed_target\n",
    "# ]:\n",
    "#     for s_x, s_y, q_x, q_y, _ in ds:\n",
    "#         for X in (s_x, q_x):\n",
    "#             for x in X:\n",
    "#                 assert np.isclose(get_average_magnitude(x.numpy()), 1.0)\n",
    "#                 assert np.isclose(get_average_power(x.numpy()), 1.0)\n",
    "                "
   ]
  },
  {
   "cell_type": "code",
   "execution_count": 21,
   "id": "bbdacba1",
   "metadata": {
    "execution": {
     "iopub.execute_input": "2022-03-23T04:20:08.206453Z",
     "iopub.status.busy": "2022-03-23T04:20:08.205886Z",
     "iopub.status.idle": "2022-03-23T04:20:08.381991Z",
     "shell.execute_reply": "2022-03-23T04:20:08.381620Z"
    },
    "papermill": {
     "duration": 0.204963,
     "end_time": "2022-03-23T04:20:08.382104",
     "exception": false,
     "start_time": "2022-03-23T04:20:08.177141",
     "status": "completed"
    },
    "tags": []
   },
   "outputs": [
    {
     "name": "stdout",
     "output_type": "stream",
     "text": [
      "(2, 256)\n"
     ]
    }
   ],
   "source": [
    "###################################\n",
    "# Build the model\n",
    "###################################\n",
    "# easfsl only wants a tuple for the shape\n",
    "model = Steves_Prototypical_Network(x_net, device=p.device, x_shape=tuple(p.x_shape))\n",
    "optimizer = Adam(params=model.parameters(), lr=p.lr)"
   ]
  },
  {
   "cell_type": "code",
   "execution_count": 22,
   "id": "22b39ac5",
   "metadata": {
    "execution": {
     "iopub.execute_input": "2022-03-23T04:20:08.445705Z",
     "iopub.status.busy": "2022-03-23T04:20:08.445337Z",
     "iopub.status.idle": "2022-03-23T04:56:17.507347Z",
     "shell.execute_reply": "2022-03-23T04:56:17.507011Z"
    },
    "papermill": {
     "duration": 2169.102492,
     "end_time": "2022-03-23T04:56:17.507430",
     "exception": false,
     "start_time": "2022-03-23T04:20:08.404938",
     "status": "completed"
    },
    "tags": []
   },
   "outputs": [
    {
     "name": "stdout",
     "output_type": "stream",
     "text": [
      "epoch: 1, [batch: 1 / 6720], examples_per_second: 33.1782, train_label_loss: 2.7959, \n"
     ]
    },
    {
     "name": "stdout",
     "output_type": "stream",
     "text": [
      "epoch: 1, [batch: 672 / 6720], examples_per_second: 3608.7677, train_label_loss: 2.8416, \n"
     ]
    },
    {
     "name": "stdout",
     "output_type": "stream",
     "text": [
      "epoch: 1, [batch: 1344 / 6720], examples_per_second: 2999.6437, train_label_loss: 1.7210, \n"
     ]
    },
    {
     "name": "stdout",
     "output_type": "stream",
     "text": [
      "epoch: 1, [batch: 2016 / 6720], examples_per_second: 2974.6085, train_label_loss: 1.3410, \n"
     ]
    },
    {
     "name": "stdout",
     "output_type": "stream",
     "text": [
      "epoch: 1, [batch: 2688 / 6720], examples_per_second: 2975.4504, train_label_loss: 1.3741, \n"
     ]
    },
    {
     "name": "stdout",
     "output_type": "stream",
     "text": [
      "epoch: 1, [batch: 3360 / 6720], examples_per_second: 2946.3954, train_label_loss: 1.4174, \n"
     ]
    },
    {
     "name": "stdout",
     "output_type": "stream",
     "text": [
      "epoch: 1, [batch: 4032 / 6720], examples_per_second: 2936.2556, train_label_loss: 1.0019, \n"
     ]
    },
    {
     "name": "stdout",
     "output_type": "stream",
     "text": [
      "epoch: 1, [batch: 4704 / 6720], examples_per_second: 2942.7368, train_label_loss: 2.1439, \n"
     ]
    },
    {
     "name": "stdout",
     "output_type": "stream",
     "text": [
      "epoch: 1, [batch: 5376 / 6720], examples_per_second: 2960.6258, train_label_loss: 1.4996, \n"
     ]
    },
    {
     "name": "stdout",
     "output_type": "stream",
     "text": [
      "epoch: 1, [batch: 6048 / 6720], examples_per_second: 2943.8974, train_label_loss: 1.1184, \n"
     ]
    },
    {
     "name": "stdout",
     "output_type": "stream",
     "text": [
      "=============================================================\n",
      "epoch: 1, source_val_acc_label: 0.5313, target_val_acc_label: 0.6426, source_val_label_loss: 1.2348, target_val_label_loss: 4.8783, \n",
      "=============================================================\n"
     ]
    },
    {
     "name": "stdout",
     "output_type": "stream",
     "text": [
      "New best\n"
     ]
    },
    {
     "name": "stdout",
     "output_type": "stream",
     "text": [
      "epoch: 2, [batch: 1 / 6720], examples_per_second: 2.8753, train_label_loss: 1.5736, \n"
     ]
    },
    {
     "name": "stdout",
     "output_type": "stream",
     "text": [
      "epoch: 2, [batch: 672 / 6720], examples_per_second: 3355.2525, train_label_loss: 1.7183, \n"
     ]
    },
    {
     "name": "stdout",
     "output_type": "stream",
     "text": [
      "epoch: 2, [batch: 1344 / 6720], examples_per_second: 3400.0754, train_label_loss: 0.8737, \n"
     ]
    },
    {
     "name": "stdout",
     "output_type": "stream",
     "text": [
      "epoch: 2, [batch: 2016 / 6720], examples_per_second: 3429.7468, train_label_loss: 0.5840, \n"
     ]
    },
    {
     "name": "stdout",
     "output_type": "stream",
     "text": [
      "epoch: 2, [batch: 2688 / 6720], examples_per_second: 3383.4872, train_label_loss: 0.7982, \n"
     ]
    },
    {
     "name": "stdout",
     "output_type": "stream",
     "text": [
      "epoch: 2, [batch: 3360 / 6720], examples_per_second: 3669.8718, train_label_loss: 1.1789, \n"
     ]
    },
    {
     "name": "stdout",
     "output_type": "stream",
     "text": [
      "epoch: 2, [batch: 4032 / 6720], examples_per_second: 3165.6643, train_label_loss: 0.6196, \n"
     ]
    },
    {
     "name": "stdout",
     "output_type": "stream",
     "text": [
      "epoch: 2, [batch: 4704 / 6720], examples_per_second: 3284.6488, train_label_loss: 1.5484, \n"
     ]
    },
    {
     "name": "stdout",
     "output_type": "stream",
     "text": [
      "epoch: 2, [batch: 5376 / 6720], examples_per_second: 3470.4182, train_label_loss: 0.7582, \n"
     ]
    },
    {
     "name": "stdout",
     "output_type": "stream",
     "text": [
      "epoch: 2, [batch: 6048 / 6720], examples_per_second: 3399.8926, train_label_loss: 0.6988, \n"
     ]
    },
    {
     "name": "stdout",
     "output_type": "stream",
     "text": [
      "=============================================================\n",
      "epoch: 2, source_val_acc_label: 0.5868, target_val_acc_label: 0.6657, source_val_label_loss: 1.0897, target_val_label_loss: 6.3363, \n",
      "=============================================================\n"
     ]
    },
    {
     "name": "stdout",
     "output_type": "stream",
     "text": [
      "New best\n"
     ]
    },
    {
     "name": "stdout",
     "output_type": "stream",
     "text": [
      "epoch: 3, [batch: 1 / 6720], examples_per_second: 3.1980, train_label_loss: 0.8464, \n"
     ]
    },
    {
     "name": "stdout",
     "output_type": "stream",
     "text": [
      "epoch: 3, [batch: 672 / 6720], examples_per_second: 3801.7554, train_label_loss: 1.4337, \n"
     ]
    },
    {
     "name": "stdout",
     "output_type": "stream",
     "text": [
      "epoch: 3, [batch: 1344 / 6720], examples_per_second: 3794.2984, train_label_loss: 0.4985, \n"
     ]
    },
    {
     "name": "stdout",
     "output_type": "stream",
     "text": [
      "epoch: 3, [batch: 2016 / 6720], examples_per_second: 3065.8691, train_label_loss: 0.7770, \n"
     ]
    },
    {
     "name": "stdout",
     "output_type": "stream",
     "text": [
      "epoch: 3, [batch: 2688 / 6720], examples_per_second: 3424.3574, train_label_loss: 1.2244, \n"
     ]
    },
    {
     "name": "stdout",
     "output_type": "stream",
     "text": [
      "epoch: 3, [batch: 3360 / 6720], examples_per_second: 3392.8661, train_label_loss: 0.9558, \n"
     ]
    },
    {
     "name": "stdout",
     "output_type": "stream",
     "text": [
      "epoch: 3, [batch: 4032 / 6720], examples_per_second: 3496.4769, train_label_loss: 0.5516, \n"
     ]
    },
    {
     "name": "stdout",
     "output_type": "stream",
     "text": [
      "epoch: 3, [batch: 4704 / 6720], examples_per_second: 3433.9047, train_label_loss: 0.9812, \n"
     ]
    },
    {
     "name": "stdout",
     "output_type": "stream",
     "text": [
      "epoch: 3, [batch: 5376 / 6720], examples_per_second: 3466.2890, train_label_loss: 0.9010, \n"
     ]
    },
    {
     "name": "stdout",
     "output_type": "stream",
     "text": [
      "epoch: 3, [batch: 6048 / 6720], examples_per_second: 3413.7397, train_label_loss: 0.6130, \n"
     ]
    },
    {
     "name": "stdout",
     "output_type": "stream",
     "text": [
      "=============================================================\n",
      "epoch: 3, source_val_acc_label: 0.6015, target_val_acc_label: 0.6876, source_val_label_loss: 1.0722, target_val_label_loss: 7.6982, \n",
      "=============================================================\n"
     ]
    },
    {
     "name": "stdout",
     "output_type": "stream",
     "text": [
      "New best\n"
     ]
    },
    {
     "name": "stdout",
     "output_type": "stream",
     "text": [
      "epoch: 4, [batch: 1 / 6720], examples_per_second: 2.8771, train_label_loss: 1.0717, \n"
     ]
    },
    {
     "name": "stdout",
     "output_type": "stream",
     "text": [
      "epoch: 4, [batch: 672 / 6720], examples_per_second: 2959.1284, train_label_loss: 0.4602, \n"
     ]
    },
    {
     "name": "stdout",
     "output_type": "stream",
     "text": [
      "epoch: 4, [batch: 1344 / 6720], examples_per_second: 3005.9344, train_label_loss: 0.6872, \n"
     ]
    },
    {
     "name": "stdout",
     "output_type": "stream",
     "text": [
      "epoch: 4, [batch: 2016 / 6720], examples_per_second: 3063.2797, train_label_loss: 0.4995, \n"
     ]
    },
    {
     "name": "stdout",
     "output_type": "stream",
     "text": [
      "epoch: 4, [batch: 2688 / 6720], examples_per_second: 2989.3564, train_label_loss: 0.4603, \n"
     ]
    },
    {
     "name": "stdout",
     "output_type": "stream",
     "text": [
      "epoch: 4, [batch: 3360 / 6720], examples_per_second: 2976.0605, train_label_loss: 0.4965, \n"
     ]
    },
    {
     "name": "stdout",
     "output_type": "stream",
     "text": [
      "epoch: 4, [batch: 4032 / 6720], examples_per_second: 2994.0667, train_label_loss: 0.7172, \n"
     ]
    },
    {
     "name": "stdout",
     "output_type": "stream",
     "text": [
      "epoch: 4, [batch: 4704 / 6720], examples_per_second: 2947.6639, train_label_loss: 0.5634, \n"
     ]
    },
    {
     "name": "stdout",
     "output_type": "stream",
     "text": [
      "epoch: 4, [batch: 5376 / 6720], examples_per_second: 3205.5981, train_label_loss: 0.4361, \n"
     ]
    },
    {
     "name": "stdout",
     "output_type": "stream",
     "text": [
      "epoch: 4, [batch: 6048 / 6720], examples_per_second: 3508.6602, train_label_loss: 0.8217, \n"
     ]
    },
    {
     "name": "stdout",
     "output_type": "stream",
     "text": [
      "=============================================================\n",
      "epoch: 4, source_val_acc_label: 0.6115, target_val_acc_label: 0.6908, source_val_label_loss: 1.0677, target_val_label_loss: 8.7963, \n",
      "=============================================================\n"
     ]
    },
    {
     "name": "stdout",
     "output_type": "stream",
     "text": [
      "New best\n"
     ]
    },
    {
     "name": "stdout",
     "output_type": "stream",
     "text": [
      "epoch: 5, [batch: 1 / 6720], examples_per_second: 3.1302, train_label_loss: 0.8414, \n"
     ]
    },
    {
     "name": "stdout",
     "output_type": "stream",
     "text": [
      "epoch: 5, [batch: 672 / 6720], examples_per_second: 3407.1918, train_label_loss: 0.2657, \n"
     ]
    },
    {
     "name": "stdout",
     "output_type": "stream",
     "text": [
      "epoch: 5, [batch: 1344 / 6720], examples_per_second: 3434.2257, train_label_loss: 0.4550, \n"
     ]
    },
    {
     "name": "stdout",
     "output_type": "stream",
     "text": [
      "epoch: 5, [batch: 2016 / 6720], examples_per_second: 2989.3962, train_label_loss: 0.4860, \n"
     ]
    },
    {
     "name": "stdout",
     "output_type": "stream",
     "text": [
      "epoch: 5, [batch: 2688 / 6720], examples_per_second: 3016.5008, train_label_loss: 0.9001, \n"
     ]
    },
    {
     "name": "stdout",
     "output_type": "stream",
     "text": [
      "epoch: 5, [batch: 3360 / 6720], examples_per_second: 2955.6046, train_label_loss: 0.4533, \n"
     ]
    },
    {
     "name": "stdout",
     "output_type": "stream",
     "text": [
      "epoch: 5, [batch: 4032 / 6720], examples_per_second: 3009.0332, train_label_loss: 0.2763, \n"
     ]
    },
    {
     "name": "stdout",
     "output_type": "stream",
     "text": [
      "epoch: 5, [batch: 4704 / 6720], examples_per_second: 2953.1007, train_label_loss: 0.7847, \n"
     ]
    },
    {
     "name": "stdout",
     "output_type": "stream",
     "text": [
      "epoch: 5, [batch: 5376 / 6720], examples_per_second: 2952.6257, train_label_loss: 0.6638, \n"
     ]
    },
    {
     "name": "stdout",
     "output_type": "stream",
     "text": [
      "epoch: 5, [batch: 6048 / 6720], examples_per_second: 2967.5753, train_label_loss: 0.4590, \n"
     ]
    },
    {
     "name": "stdout",
     "output_type": "stream",
     "text": [
      "=============================================================\n",
      "epoch: 5, source_val_acc_label: 0.6130, target_val_acc_label: 0.6995, source_val_label_loss: 1.1053, target_val_label_loss: 9.5999, \n",
      "=============================================================\n"
     ]
    },
    {
     "name": "stdout",
     "output_type": "stream",
     "text": [
      "New best\n"
     ]
    },
    {
     "name": "stdout",
     "output_type": "stream",
     "text": [
      "epoch: 6, [batch: 1 / 6720], examples_per_second: 2.8048, train_label_loss: 0.3615, \n"
     ]
    },
    {
     "name": "stdout",
     "output_type": "stream",
     "text": [
      "epoch: 6, [batch: 672 / 6720], examples_per_second: 3439.6523, train_label_loss: 1.0822, \n"
     ]
    },
    {
     "name": "stdout",
     "output_type": "stream",
     "text": [
      "epoch: 6, [batch: 1344 / 6720], examples_per_second: 3431.0432, train_label_loss: 0.4497, \n"
     ]
    },
    {
     "name": "stdout",
     "output_type": "stream",
     "text": [
      "epoch: 6, [batch: 2016 / 6720], examples_per_second: 3493.6269, train_label_loss: 0.7486, \n"
     ]
    },
    {
     "name": "stdout",
     "output_type": "stream",
     "text": [
      "epoch: 6, [batch: 2688 / 6720], examples_per_second: 3451.6645, train_label_loss: 0.3593, \n"
     ]
    },
    {
     "name": "stdout",
     "output_type": "stream",
     "text": [
      "epoch: 6, [batch: 3360 / 6720], examples_per_second: 3384.1187, train_label_loss: 0.3517, \n"
     ]
    },
    {
     "name": "stdout",
     "output_type": "stream",
     "text": [
      "epoch: 6, [batch: 4032 / 6720], examples_per_second: 3774.5173, train_label_loss: 0.3898, \n"
     ]
    },
    {
     "name": "stdout",
     "output_type": "stream",
     "text": [
      "epoch: 6, [batch: 4704 / 6720], examples_per_second: 3008.6829, train_label_loss: 0.7922, \n"
     ]
    },
    {
     "name": "stdout",
     "output_type": "stream",
     "text": [
      "epoch: 6, [batch: 5376 / 6720], examples_per_second: 3019.1153, train_label_loss: 0.4622, \n"
     ]
    },
    {
     "name": "stdout",
     "output_type": "stream",
     "text": [
      "epoch: 6, [batch: 6048 / 6720], examples_per_second: 2976.8351, train_label_loss: 0.4408, \n"
     ]
    },
    {
     "name": "stdout",
     "output_type": "stream",
     "text": [
      "=============================================================\n",
      "epoch: 6, source_val_acc_label: 0.6012, target_val_acc_label: 0.6956, source_val_label_loss: 1.1591, target_val_label_loss: 10.4964, \n",
      "=============================================================\n"
     ]
    },
    {
     "name": "stdout",
     "output_type": "stream",
     "text": [
      "epoch: 7, [batch: 1 / 6720], examples_per_second: 2.7576, train_label_loss: 0.5424, \n"
     ]
    },
    {
     "name": "stdout",
     "output_type": "stream",
     "text": [
      "epoch: 7, [batch: 672 / 6720], examples_per_second: 3035.0053, train_label_loss: 0.5515, \n"
     ]
    },
    {
     "name": "stdout",
     "output_type": "stream",
     "text": [
      "epoch: 7, [batch: 1344 / 6720], examples_per_second: 3338.4105, train_label_loss: 0.2303, \n"
     ]
    },
    {
     "name": "stdout",
     "output_type": "stream",
     "text": [
      "epoch: 7, [batch: 2016 / 6720], examples_per_second: 3425.4192, train_label_loss: 0.4024, \n"
     ]
    },
    {
     "name": "stdout",
     "output_type": "stream",
     "text": [
      "epoch: 7, [batch: 2688 / 6720], examples_per_second: 3498.9207, train_label_loss: 0.4870, \n"
     ]
    },
    {
     "name": "stdout",
     "output_type": "stream",
     "text": [
      "epoch: 7, [batch: 3360 / 6720], examples_per_second: 3909.3095, train_label_loss: 0.2460, \n"
     ]
    },
    {
     "name": "stdout",
     "output_type": "stream",
     "text": [
      "epoch: 7, [batch: 4032 / 6720], examples_per_second: 3754.9749, train_label_loss: 0.5077, \n"
     ]
    },
    {
     "name": "stdout",
     "output_type": "stream",
     "text": [
      "epoch: 7, [batch: 4704 / 6720], examples_per_second: 3907.0061, train_label_loss: 0.6056, \n"
     ]
    },
    {
     "name": "stdout",
     "output_type": "stream",
     "text": [
      "epoch: 7, [batch: 5376 / 6720], examples_per_second: 3899.4605, train_label_loss: 0.5501, \n"
     ]
    },
    {
     "name": "stdout",
     "output_type": "stream",
     "text": [
      "epoch: 7, [batch: 6048 / 6720], examples_per_second: 4395.2280, train_label_loss: 0.7836, \n"
     ]
    },
    {
     "name": "stdout",
     "output_type": "stream",
     "text": [
      "=============================================================\n",
      "epoch: 7, source_val_acc_label: 0.6035, target_val_acc_label: 0.7010, source_val_label_loss: 1.2512, target_val_label_loss: 11.6799, \n",
      "=============================================================\n"
     ]
    },
    {
     "name": "stdout",
     "output_type": "stream",
     "text": [
      "New best\n"
     ]
    },
    {
     "name": "stdout",
     "output_type": "stream",
     "text": [
      "epoch: 8, [batch: 1 / 6720], examples_per_second: 3.2247, train_label_loss: 0.4642, \n"
     ]
    },
    {
     "name": "stdout",
     "output_type": "stream",
     "text": [
      "epoch: 8, [batch: 672 / 6720], examples_per_second: 2982.2200, train_label_loss: 0.5945, \n"
     ]
    },
    {
     "name": "stdout",
     "output_type": "stream",
     "text": [
      "epoch: 8, [batch: 1344 / 6720], examples_per_second: 2973.9363, train_label_loss: 0.5918, \n"
     ]
    },
    {
     "name": "stdout",
     "output_type": "stream",
     "text": [
      "epoch: 8, [batch: 2016 / 6720], examples_per_second: 3036.9678, train_label_loss: 0.2842, \n"
     ]
    },
    {
     "name": "stdout",
     "output_type": "stream",
     "text": [
      "epoch: 8, [batch: 2688 / 6720], examples_per_second: 2963.0386, train_label_loss: 0.2602, \n"
     ]
    },
    {
     "name": "stdout",
     "output_type": "stream",
     "text": [
      "epoch: 8, [batch: 3360 / 6720], examples_per_second: 2987.7193, train_label_loss: 0.5717, \n"
     ]
    },
    {
     "name": "stdout",
     "output_type": "stream",
     "text": [
      "epoch: 8, [batch: 4032 / 6720], examples_per_second: 3018.1587, train_label_loss: 0.2302, \n"
     ]
    },
    {
     "name": "stdout",
     "output_type": "stream",
     "text": [
      "epoch: 8, [batch: 4704 / 6720], examples_per_second: 3007.8341, train_label_loss: 0.3424, \n"
     ]
    },
    {
     "name": "stdout",
     "output_type": "stream",
     "text": [
      "epoch: 8, [batch: 5376 / 6720], examples_per_second: 3133.5935, train_label_loss: 0.5472, \n"
     ]
    },
    {
     "name": "stdout",
     "output_type": "stream",
     "text": [
      "epoch: 8, [batch: 6048 / 6720], examples_per_second: 3445.8534, train_label_loss: 0.4965, \n"
     ]
    },
    {
     "name": "stdout",
     "output_type": "stream",
     "text": [
      "=============================================================\n",
      "epoch: 8, source_val_acc_label: 0.6007, target_val_acc_label: 0.6988, source_val_label_loss: 1.3285, target_val_label_loss: 12.5820, \n",
      "=============================================================\n"
     ]
    },
    {
     "name": "stdout",
     "output_type": "stream",
     "text": [
      "epoch: 9, [batch: 1 / 6720], examples_per_second: 3.1275, train_label_loss: 0.2961, \n"
     ]
    },
    {
     "name": "stdout",
     "output_type": "stream",
     "text": [
      "epoch: 9, [batch: 672 / 6720], examples_per_second: 3447.4164, train_label_loss: 0.0637, \n"
     ]
    },
    {
     "name": "stdout",
     "output_type": "stream",
     "text": [
      "epoch: 9, [batch: 1344 / 6720], examples_per_second: 3562.5777, train_label_loss: 0.5774, \n"
     ]
    },
    {
     "name": "stdout",
     "output_type": "stream",
     "text": [
      "epoch: 9, [batch: 2016 / 6720], examples_per_second: 3501.7932, train_label_loss: 0.2416, \n"
     ]
    },
    {
     "name": "stdout",
     "output_type": "stream",
     "text": [
      "epoch: 9, [batch: 2688 / 6720], examples_per_second: 3393.8374, train_label_loss: 0.2660, \n"
     ]
    },
    {
     "name": "stdout",
     "output_type": "stream",
     "text": [
      "epoch: 9, [batch: 3360 / 6720], examples_per_second: 3354.0774, train_label_loss: 0.3577, \n"
     ]
    },
    {
     "name": "stdout",
     "output_type": "stream",
     "text": [
      "epoch: 9, [batch: 4032 / 6720], examples_per_second: 3390.7321, train_label_loss: 0.2452, \n"
     ]
    },
    {
     "name": "stdout",
     "output_type": "stream",
     "text": [
      "epoch: 9, [batch: 4704 / 6720], examples_per_second: 3422.4936, train_label_loss: 0.2342, \n"
     ]
    },
    {
     "name": "stdout",
     "output_type": "stream",
     "text": [
      "epoch: 9, [batch: 5376 / 6720], examples_per_second: 3412.1468, train_label_loss: 0.7559, \n"
     ]
    },
    {
     "name": "stdout",
     "output_type": "stream",
     "text": [
      "epoch: 9, [batch: 6048 / 6720], examples_per_second: 3587.8984, train_label_loss: 0.2902, \n"
     ]
    },
    {
     "name": "stdout",
     "output_type": "stream",
     "text": [
      "=============================================================\n",
      "epoch: 9, source_val_acc_label: 0.6020, target_val_acc_label: 0.6957, source_val_label_loss: 1.4019, target_val_label_loss: 13.7887, \n",
      "=============================================================\n"
     ]
    },
    {
     "name": "stdout",
     "output_type": "stream",
     "text": [
      "epoch: 10, [batch: 1 / 6720], examples_per_second: 3.1040, train_label_loss: 0.5476, \n"
     ]
    },
    {
     "name": "stdout",
     "output_type": "stream",
     "text": [
      "epoch: 10, [batch: 672 / 6720], examples_per_second: 3497.9167, train_label_loss: 0.5459, \n"
     ]
    },
    {
     "name": "stdout",
     "output_type": "stream",
     "text": [
      "epoch: 10, [batch: 1344 / 6720], examples_per_second: 3498.4809, train_label_loss: 0.5801, \n"
     ]
    },
    {
     "name": "stdout",
     "output_type": "stream",
     "text": [
      "epoch: 10, [batch: 2016 / 6720], examples_per_second: 3597.5518, train_label_loss: 0.3835, \n"
     ]
    },
    {
     "name": "stdout",
     "output_type": "stream",
     "text": [
      "epoch: 10, [batch: 2688 / 6720], examples_per_second: 3449.2131, train_label_loss: 0.4997, \n"
     ]
    },
    {
     "name": "stdout",
     "output_type": "stream",
     "text": [
      "epoch: 10, [batch: 3360 / 6720], examples_per_second: 3508.3203, train_label_loss: 0.4525, \n"
     ]
    },
    {
     "name": "stdout",
     "output_type": "stream",
     "text": [
      "epoch: 10, [batch: 4032 / 6720], examples_per_second: 3431.3052, train_label_loss: 0.1776, \n"
     ]
    },
    {
     "name": "stdout",
     "output_type": "stream",
     "text": [
      "epoch: 10, [batch: 4704 / 6720], examples_per_second: 3417.8540, train_label_loss: 0.1434, \n"
     ]
    },
    {
     "name": "stdout",
     "output_type": "stream",
     "text": [
      "epoch: 10, [batch: 5376 / 6720], examples_per_second: 3447.1913, train_label_loss: 0.2296, \n"
     ]
    },
    {
     "name": "stdout",
     "output_type": "stream",
     "text": [
      "epoch: 10, [batch: 6048 / 6720], examples_per_second: 3465.0732, train_label_loss: 0.3406, \n"
     ]
    },
    {
     "name": "stdout",
     "output_type": "stream",
     "text": [
      "=============================================================\n",
      "epoch: 10, source_val_acc_label: 0.5984, target_val_acc_label: 0.6919, source_val_label_loss: 1.4679, target_val_label_loss: 14.7610, \n",
      "=============================================================\n"
     ]
    },
    {
     "name": "stdout",
     "output_type": "stream",
     "text": [
      "epoch: 11, [batch: 1 / 6720], examples_per_second: 3.1213, train_label_loss: 0.1255, \n"
     ]
    },
    {
     "name": "stdout",
     "output_type": "stream",
     "text": [
      "epoch: 11, [batch: 672 / 6720], examples_per_second: 3356.8276, train_label_loss: 0.2073, \n"
     ]
    },
    {
     "name": "stdout",
     "output_type": "stream",
     "text": [
      "epoch: 11, [batch: 1344 / 6720], examples_per_second: 3636.6103, train_label_loss: 0.4402, \n"
     ]
    },
    {
     "name": "stdout",
     "output_type": "stream",
     "text": [
      "epoch: 11, [batch: 2016 / 6720], examples_per_second: 3943.7690, train_label_loss: 0.1034, \n"
     ]
    },
    {
     "name": "stdout",
     "output_type": "stream",
     "text": [
      "epoch: 11, [batch: 2688 / 6720], examples_per_second: 3941.6766, train_label_loss: 0.3074, \n"
     ]
    },
    {
     "name": "stdout",
     "output_type": "stream",
     "text": [
      "epoch: 11, [batch: 3360 / 6720], examples_per_second: 4032.8761, train_label_loss: 0.2199, \n"
     ]
    },
    {
     "name": "stdout",
     "output_type": "stream",
     "text": [
      "epoch: 11, [batch: 4032 / 6720], examples_per_second: 4042.4409, train_label_loss: 0.4393, \n"
     ]
    },
    {
     "name": "stdout",
     "output_type": "stream",
     "text": [
      "epoch: 11, [batch: 4704 / 6720], examples_per_second: 3983.0893, train_label_loss: 0.2034, \n"
     ]
    },
    {
     "name": "stdout",
     "output_type": "stream",
     "text": [
      "epoch: 11, [batch: 5376 / 6720], examples_per_second: 3942.8501, train_label_loss: 0.1323, \n"
     ]
    },
    {
     "name": "stdout",
     "output_type": "stream",
     "text": [
      "epoch: 11, [batch: 6048 / 6720], examples_per_second: 3951.0321, train_label_loss: 0.2522, \n"
     ]
    },
    {
     "name": "stdout",
     "output_type": "stream",
     "text": [
      "=============================================================\n",
      "epoch: 11, source_val_acc_label: 0.5934, target_val_acc_label: 0.6979, source_val_label_loss: 1.5631, target_val_label_loss: 15.6129, \n",
      "=============================================================\n"
     ]
    },
    {
     "name": "stdout",
     "output_type": "stream",
     "text": [
      "Patience (3) exhausted\n"
     ]
    }
   ],
   "source": [
    "###################################\n",
    "# train\n",
    "###################################\n",
    "jig = PTN_Train_Eval_Test_Jig(model, p.BEST_MODEL_PATH, p.device)\n",
    "\n",
    "jig.train(\n",
    "    train_iterable=datasets.source.processed.train,\n",
    "    source_val_iterable=datasets.source.processed.val,\n",
    "    target_val_iterable=datasets.target.processed.val,\n",
    "    num_epochs=p.n_epoch,\n",
    "    num_logs_per_epoch=p.NUM_LOGS_PER_EPOCH,\n",
    "    patience=p.patience,\n",
    "    optimizer=optimizer,\n",
    "    criteria_for_best=p.criteria_for_best,\n",
    ")"
   ]
  },
  {
   "cell_type": "code",
   "execution_count": 23,
   "id": "31e8fabf",
   "metadata": {
    "execution": {
     "iopub.execute_input": "2022-03-23T04:56:17.627040Z",
     "iopub.status.busy": "2022-03-23T04:56:17.626679Z",
     "iopub.status.idle": "2022-03-23T04:56:17.658567Z",
     "shell.execute_reply": "2022-03-23T04:56:17.657773Z"
    },
    "papermill": {
     "duration": 0.093509,
     "end_time": "2022-03-23T04:56:17.658725",
     "exception": false,
     "start_time": "2022-03-23T04:56:17.565216",
     "status": "completed"
    },
    "tags": []
   },
   "outputs": [],
   "source": [
    "total_experiment_time_secs = time.time() - start_time_secs"
   ]
  },
  {
   "cell_type": "code",
   "execution_count": 24,
   "id": "87b9595b",
   "metadata": {
    "execution": {
     "iopub.execute_input": "2022-03-23T04:56:17.786122Z",
     "iopub.status.busy": "2022-03-23T04:56:17.785542Z",
     "iopub.status.idle": "2022-03-23T04:59:00.695056Z",
     "shell.execute_reply": "2022-03-23T04:59:00.694337Z"
    },
    "papermill": {
     "duration": 162.975475,
     "end_time": "2022-03-23T04:59:00.695241",
     "exception": false,
     "start_time": "2022-03-23T04:56:17.719766",
     "status": "completed"
    },
    "tags": []
   },
   "outputs": [],
   "source": [
    "###################################\n",
    "# Evaluate the model\n",
    "###################################\n",
    "source_test_label_accuracy, source_test_label_loss = jig.test(datasets.source.processed.test)\n",
    "target_test_label_accuracy, target_test_label_loss = jig.test(datasets.target.processed.test)\n",
    "\n",
    "source_val_label_accuracy, source_val_label_loss = jig.test(datasets.source.processed.val)\n",
    "target_val_label_accuracy, target_val_label_loss = jig.test(datasets.target.processed.val)\n",
    "\n",
    "history = jig.get_history()\n",
    "\n",
    "total_epochs_trained = len(history[\"epoch_indices\"])\n",
    "\n",
    "val_dl = Iterable_Aggregator((datasets.source.original.val,datasets.target.original.val))\n",
    "\n",
    "confusion = ptn_confusion_by_domain_over_dataloader(model, p.device, val_dl)\n",
    "per_domain_accuracy = per_domain_accuracy_from_confusion(confusion)\n",
    "\n",
    "# Add a key to per_domain_accuracy for if it was a source domain\n",
    "for domain, accuracy in per_domain_accuracy.items():\n",
    "    per_domain_accuracy[domain] = {\n",
    "        \"accuracy\": accuracy,\n",
    "        \"source?\": domain in p.domains_source\n",
    "    }\n",
    "\n",
    "# Do an independent accuracy assesment JUST TO BE SURE!\n",
    "# _source_test_label_accuracy = independent_accuracy_assesment(model, datasets.source.processed.test, p.device)\n",
    "# _target_test_label_accuracy = independent_accuracy_assesment(model, datasets.target.processed.test, p.device)\n",
    "# _source_val_label_accuracy = independent_accuracy_assesment(model, datasets.source.processed.val, p.device)\n",
    "# _target_val_label_accuracy = independent_accuracy_assesment(model, datasets.target.processed.val, p.device)\n",
    "\n",
    "# assert(_source_test_label_accuracy == source_test_label_accuracy)\n",
    "# assert(_target_test_label_accuracy == target_test_label_accuracy)\n",
    "# assert(_source_val_label_accuracy == source_val_label_accuracy)\n",
    "# assert(_target_val_label_accuracy == target_val_label_accuracy)\n",
    "\n",
    "experiment = {\n",
    "    \"experiment_name\": p.experiment_name,\n",
    "    \"parameters\": dict(p),\n",
    "    \"results\": {\n",
    "        \"source_test_label_accuracy\": source_test_label_accuracy,\n",
    "        \"source_test_label_loss\": source_test_label_loss,\n",
    "        \"target_test_label_accuracy\": target_test_label_accuracy,\n",
    "        \"target_test_label_loss\": target_test_label_loss,\n",
    "        \"source_val_label_accuracy\": source_val_label_accuracy,\n",
    "        \"source_val_label_loss\": source_val_label_loss,\n",
    "        \"target_val_label_accuracy\": target_val_label_accuracy,\n",
    "        \"target_val_label_loss\": target_val_label_loss,\n",
    "        \"total_epochs_trained\": total_epochs_trained,\n",
    "        \"total_experiment_time_secs\": total_experiment_time_secs,\n",
    "        \"confusion\": confusion,\n",
    "        \"per_domain_accuracy\": per_domain_accuracy,\n",
    "    },\n",
    "    \"history\": history,\n",
    "    \"dataset_metrics\": get_dataset_metrics(datasets, \"ptn\"),\n",
    "}"
   ]
  },
  {
   "cell_type": "code",
   "execution_count": 25,
   "id": "54a21829",
   "metadata": {
    "execution": {
     "iopub.execute_input": "2022-03-23T04:59:00.819829Z",
     "iopub.status.busy": "2022-03-23T04:59:00.819434Z",
     "iopub.status.idle": "2022-03-23T04:59:01.055414Z",
     "shell.execute_reply": "2022-03-23T04:59:01.054671Z"
    },
    "papermill": {
     "duration": 0.297033,
     "end_time": "2022-03-23T04:59:01.055612",
     "exception": false,
     "start_time": "2022-03-23T04:59:00.758579",
     "status": "completed"
    },
    "tags": []
   },
   "outputs": [
    {
     "data": {
      "image/png": "[encoded data removed]",
      "text/plain": [
       "<Figure size 1080x504 with 1 Axes>"
      ]
     },
     "metadata": {
      "needs_background": "light"
     },
     "output_type": "display_data"
    }
   ],
   "source": [
    "ax = get_loss_curve(experiment)\n",
    "plt.show()"
   ]
  },
  {
   "cell_type": "code",
   "execution_count": 26,
   "id": "fd8a0f60",
   "metadata": {
    "execution": {
     "iopub.execute_input": "2022-03-23T04:59:01.184651Z",
     "iopub.status.busy": "2022-03-23T04:59:01.184280Z",
     "iopub.status.idle": "2022-03-23T04:59:01.539403Z",
     "shell.execute_reply": "2022-03-23T04:59:01.538609Z"
    },
    "papermill": {
     "duration": 0.417578,
     "end_time": "2022-03-23T04:59:01.539587",
     "exception": false,
     "start_time": "2022-03-23T04:59:01.122009",
     "status": "completed"
    },
    "tags": []
   },
   "outputs": [
    {
     "data": {
      "text/plain": [
       "<AxesSubplot:title={'center':'Results'}>"
      ]
     },
     "execution_count": 26,
     "metadata": {},
     "output_type": "execute_result"
    },
    {
     "data": {
      "image/png": "[encoded data removed]",
      "text/plain": [
       "<Figure size 1080x504 with 1 Axes>"
      ]
     },
     "metadata": {
      "needs_background": "light"
     },
     "output_type": "display_data"
    }
   ],
   "source": [
    "get_results_table(experiment)"
   ]
  },
  {
   "cell_type": "code",
   "execution_count": 27,
   "id": "cf8dc689",
   "metadata": {
    "execution": {
     "iopub.execute_input": "2022-03-23T04:59:01.675725Z",
     "iopub.status.busy": "2022-03-23T04:59:01.675341Z",
     "iopub.status.idle": "2022-03-23T04:59:01.921254Z",
     "shell.execute_reply": "2022-03-23T04:59:01.921948Z"
    },
    "papermill": {
     "duration": 0.317156,
     "end_time": "2022-03-23T04:59:01.922168",
     "exception": false,
     "start_time": "2022-03-23T04:59:01.605012",
     "status": "completed"
    },
    "tags": []
   },
   "outputs": [
    {
     "data": {
      "text/plain": [
       "<AxesSubplot:title={'center':'Per Domain Validation Accuracy'}, xlabel='domain'>"
      ]
     },
     "execution_count": 27,
     "metadata": {},
     "output_type": "execute_result"
    },
    {
     "data": {
      "image/png": "[encoded data removed]",
      "text/plain": [
       "<Figure size 1080x504 with 1 Axes>"
      ]
     },
     "metadata": {
      "needs_background": "light"
     },
     "output_type": "display_data"
    }
   ],
   "source": [
    "get_domain_accuracies(experiment)"
   ]
  },
  {
   "cell_type": "code",
   "execution_count": 28,
   "id": "a74ae082",
   "metadata": {
    "execution": {
     "iopub.execute_input": "2022-03-23T04:59:02.050733Z",
     "iopub.status.busy": "2022-03-23T04:59:02.050360Z",
     "iopub.status.idle": "2022-03-23T04:59:02.079120Z",
     "shell.execute_reply": "2022-03-23T04:59:02.078412Z"
    },
    "papermill": {
     "duration": 0.093518,
     "end_time": "2022-03-23T04:59:02.079283",
     "exception": false,
     "start_time": "2022-03-23T04:59:01.985765",
     "status": "completed"
    },
    "tags": []
   },
   "outputs": [
    {
     "name": "stdout",
     "output_type": "stream",
     "text": [
      "Source Test Label Accuracy: 0.6064453125 Target Test Label Accuracy: 0.6987229102167183\n",
      "Source Val Label Accuracy: 0.6034505208333333 Target Val Label Accuracy: 0.7010295670538543\n"
     ]
    }
   ],
   "source": [
    "print(\"Source Test Label Accuracy:\", experiment[\"results\"][\"source_test_label_accuracy\"], \"Target Test Label Accuracy:\", experiment[\"results\"][\"target_test_label_accuracy\"])\n",
    "print(\"Source Val Label Accuracy:\", experiment[\"results\"][\"source_val_label_accuracy\"], \"Target Val Label Accuracy:\", experiment[\"results\"][\"target_val_label_accuracy\"])"
   ]
  },
  {
   "cell_type": "code",
   "execution_count": 29,
   "id": "dacca602",
   "metadata": {
    "execution": {
     "iopub.execute_input": "2022-03-23T04:59:02.207758Z",
     "iopub.status.busy": "2022-03-23T04:59:02.207376Z",
     "iopub.status.idle": "2022-03-23T04:59:02.234717Z",
     "shell.execute_reply": "2022-03-23T04:59:02.235383Z"
    },
    "papermill": {
     "duration": 0.090168,
     "end_time": "2022-03-23T04:59:02.235576",
     "exception": false,
     "start_time": "2022-03-23T04:59:02.145408",
     "status": "completed"
    },
    "tags": [
     "experiment_json"
    ]
   },
   "outputs": [
    {
     "data": {
      "text/plain": [
       "'{\"experiment_name\": \"tl_1v2:wisig-oracle.run1.limited\", \"parameters\": {\"experiment_name\": \"tl_1v2:wisig-oracle.run1.limited\", \"device\": \"cuda\", \"lr\": 0.0001, \"n_shot\": 3, \"n_query\": 2, \"train_k_factor\": 3, \"val_k_factor\": 2, \"test_k_factor\": 2, \"torch_default_dtype\": \"torch.float32\", \"n_epoch\": 50, \"patience\": 3, \"criteria_for_best\": \"target_accuracy\", \"x_net\": [{\"class\": \"nnReshape\", \"kargs\": {\"shape\": [-1, 1, 2, 256]}}, {\"class\": \"Conv2d\", \"kargs\": {\"in_channels\": 1, \"out_channels\": 256, \"kernel_size\": [1, 7], \"bias\": false, \"padding\": [0, 3]}}, {\"class\": \"ReLU\", \"kargs\": {\"inplace\": true}}, {\"class\": \"BatchNorm2d\", \"kargs\": {\"num_features\": 256}}, {\"class\": \"Conv2d\", \"kargs\": {\"in_channels\": 256, \"out_channels\": 80, \"kernel_size\": [2, 7], \"bias\": true, \"padding\": [0, 3]}}, {\"class\": \"ReLU\", \"kargs\": {\"inplace\": true}}, {\"class\": \"BatchNorm2d\", \"kargs\": {\"num_features\": 80}}, {\"class\": \"Flatten\", \"kargs\": {}}, {\"class\": \"Linear\", \"kargs\": {\"in_features\": 20480, \"out_features\": 256}}, {\"class\": \"ReLU\", \"kargs\": {\"inplace\": true}}, {\"class\": \"BatchNorm1d\", \"kargs\": {\"num_features\": 256}}, {\"class\": \"Linear\", \"kargs\": {\"in_features\": 256, \"out_features\": 256}}], \"NUM_LOGS_PER_EPOCH\": 10, \"BEST_MODEL_PATH\": \"./best_model.pth\", \"n_way\": 16, \"datasets\": [{\"labels\": [\"1-10\", \"1-12\", \"1-14\", \"1-16\", \"1-18\", \"1-19\", \"1-8\", \"10-11\", \"10-17\", \"10-4\", \"10-7\", \"11-1\", \"11-10\", \"11-19\", \"11-20\", \"11-4\", \"11-7\", \"12-19\", \"12-20\", \"12-7\", \"13-14\", \"13-18\", \"13-19\", \"13-20\", \"13-3\", \"13-7\", \"14-10\", \"14-11\", \"14-12\", \"14-13\", \"14-14\", \"14-19\", \"14-20\", \"14-7\", \"14-8\", \"14-9\", \"15-1\", \"15-19\", \"15-6\", \"16-1\", \"16-16\", \"16-19\", \"16-20\", \"17-10\", \"17-11\", \"18-1\", \"18-10\", \"18-11\", \"18-12\", \"18-13\", \"18-14\", \"18-15\", \"18-16\", \"18-17\", \"18-19\", \"18-2\", \"18-20\", \"18-4\", \"18-5\", \"18-7\", \"18-8\", \"18-9\", \"19-1\", \"19-10\", \"19-11\", \"19-12\", \"19-13\", \"19-14\", \"19-15\", \"19-19\", \"19-2\", \"19-20\", \"19-3\", \"19-4\", \"19-6\", \"19-7\", \"19-8\", \"19-9\", \"2-1\", \"2-13\", \"2-15\", \"2-3\", \"2-4\", \"2-5\", \"2-6\", \"2-7\", \"2-8\", \"20-1\", \"20-12\", \"20-14\", \"20-15\", \"20-16\", \"20-18\", \"20-19\", \"20-20\", \"20-3\", \"20-4\", \"20-5\", \"20-7\", \"20-8\", \"3-1\", \"3-13\", \"3-18\", \"3-2\", \"3-8\", \"4-1\", \"4-10\", \"4-11\", \"5-1\", \"5-5\", \"6-1\", \"6-15\", \"6-6\", \"7-10\", \"7-11\", \"7-12\", \"7-13\", \"7-14\", \"7-7\", \"7-8\", \"7-9\", \"8-1\", \"8-13\", \"8-14\", \"8-18\", \"8-20\", \"8-3\", \"8-8\", \"9-1\", \"9-7\"], \"domains\": [1, 2, 3, 4], \"num_examples_per_domain_per_label\": -1, \"pickle_path\": \"/root/csc500-main/datasets/wisig.node3-19.stratified_ds.2022A.pkl\", \"source_or_target_dataset\": \"target\", \"x_transforms\": [\"unit_mag\"], \"episode_transforms\": [], \"domain_prefix\": \"Wisig_\"}, {\"labels\": [\"3123D52\", \"3123D65\", \"3123D79\", \"3123D80\", \"3123D54\", \"3123D70\", \"3123D7B\", \"3123D89\", \"3123D58\", \"3123D76\", \"3123D7D\", \"3123EFE\", \"3123D64\", \"3123D78\", \"3123D7E\", \"3124E4A\"], \"domains\": [32, 38, 8, 44, 14, 50, 20, 26], \"num_examples_per_domain_per_label\": 2000, \"pickle_path\": \"/root/csc500-main/datasets/oracle.Run1_10kExamples_stratified_ds.2022A.pkl\", \"source_or_target_dataset\": \"source\", \"x_transforms\": [\"unit_mag\"], \"episode_transforms\": [], \"domain_prefix\": \"ORACLE.run1\"}], \"dataset_seed\": 7, \"seed\": 7, \"x_shape\": [2, 256], \"domains_source\": [\"ORACLE.run132\", \"ORACLE.run138\", \"ORACLE.run18\", \"ORACLE.run144\", \"ORACLE.run114\", \"ORACLE.run150\", \"ORACLE.run120\", \"ORACLE.run126\"], \"domains_target\": [\"Wisig_1\", \"Wisig_2\", \"Wisig_3\", \"Wisig_4\"]}, \"results\": {\"source_test_label_accuracy\": 0.6064453125, \"source_test_label_loss\": 1.2457280158996582, \"target_test_label_accuracy\": 0.6987229102167183, \"target_test_label_loss\": 11.901542663574219, \"source_val_label_accuracy\": 0.6034505208333333, \"source_val_label_loss\": 1.2511805295944214, \"target_val_label_accuracy\": 0.7010295670538543, \"target_val_label_loss\": 11.679906845092773, \"total_epochs_trained\": 11, \"total_experiment_time_secs\": 2231.5018644332886, \"confusion\": {\"ORACLE.run126\": {\"0\": {\"1\": 21, \"0\": 61, \"4\": 25, \"10\": 51, \"14\": 38, \"8\": 27, \"7\": 7, \"9\": 2, \"6\": 6, \"15\": 2}, \"4\": {\"3\": 2, \"4\": 69, \"0\": 24, \"7\": 33, \"14\": 34, \"1\": 40, \"10\": 15, \"8\": 21, \"9\": 1, \"15\": 1}, \"14\": {\"14\": 62, \"1\": 56, \"0\": 40, \"4\": 35, \"10\": 23, \"9\": 1, \"3\": 1, \"7\": 8, \"8\": 13, \"6\": 1}, \"12\": {\"12\": 236, \"11\": 4}, \"8\": {\"8\": 60, \"6\": 20, \"9\": 37, \"15\": 11, \"0\": 17, \"2\": 3, \"7\": 20, \"4\": 22, \"14\": 13, \"10\": 30, \"3\": 3, \"5\": 3, \"1\": 1}, \"7\": {\"7\": 98, \"2\": 37, \"3\": 41, \"0\": 3, \"8\": 13, \"4\": 23, \"15\": 6, \"5\": 1, \"1\": 10, \"9\": 3, \"14\": 4, \"10\": 1}, \"13\": {\"13\": 159, \"5\": 50, \"15\": 12, \"9\": 9, \"6\": 7, \"2\": 2, \"3\": 1}, \"5\": {\"9\": 30, \"5\": 90, \"13\": 34, \"15\": 49, \"6\": 7, \"8\": 6, \"2\": 17, \"10\": 2, \"7\": 3, \"3\": 1, \"4\": 1}, \"15\": {\"9\": 53, \"5\": 53, \"6\": 11, \"15\": 52, \"2\": 21, \"13\": 20, \"7\": 9, \"4\": 3, \"8\": 12, \"14\": 1, \"3\": 4, \"10\": 1}, \"10\": {\"8\": 46, \"4\": 10, \"0\": 49, \"10\": 67, \"6\": 27, \"1\": 14, \"5\": 1, \"14\": 16, \"15\": 1, \"7\": 3, \"9\": 6}, \"3\": {\"3\": 133, \"2\": 50, \"7\": 50, \"15\": 1, \"5\": 2, \"14\": 1, \"4\": 2, \"8\": 1}, \"9\": {\"6\": 40, \"15\": 45, \"9\": 67, \"5\": 37, \"8\": 25, \"13\": 8, \"10\": 8, \"2\": 6, \"0\": 2, \"3\": 1, \"4\": 1}, \"6\": {\"6\": 146, \"5\": 11, \"10\": 25, \"9\": 27, \"8\": 9, \"13\": 8, \"15\": 10, \"0\": 4}, \"1\": {\"1\": 88, \"14\": 70, \"10\": 10, \"0\": 27, \"4\": 32, \"8\": 5, \"3\": 1, \"7\": 7}, \"11\": {\"11\": 230, \"12\": 10}, \"2\": {\"15\": 17, \"7\": 39, \"2\": 74, \"3\": 67, \"8\": 13, \"9\": 12, \"5\": 11, \"13\": 6, \"4\": 1}}, \"ORACLE.run144\": {\"1\": {\"10\": 22, \"1\": 121, \"12\": 46, \"3\": 36, \"7\": 5, \"2\": 10}, \"11\": {\"6\": 23, \"11\": 192, \"13\": 25}, \"3\": {\"1\": 36, \"3\": 192, \"7\": 2, \"12\": 9, \"2\": 1}, \"6\": {\"6\": 155, \"9\": 23, \"13\": 42, \"11\": 13, \"7\": 6, \"2\": 1}, \"7\": {\"7\": 160, \"9\": 33, \"2\": 40, \"13\": 2, \"3\": 1, \"6\": 4}, \"5\": {\"5\": 193, \"0\": 22, \"15\": 10, \"14\": 9, \"8\": 6}, \"2\": {\"2\": 165, \"10\": 21, \"7\": 35, \"3\": 4, \"1\": 11, \"6\": 2, \"9\": 2}, \"15\": {\"15\": 180, \"14\": 26, \"5\": 13, \"0\": 19, \"8\": 2}, \"10\": {\"10\": 167, \"2\": 26, \"12\": 27, \"1\": 20}, \"13\": {\"13\": 136, \"11\": 21, \"6\": 52, \"7\": 2, \"4\": 2, \"9\": 27}, \"8\": {\"0\": 76, \"8\": 150, \"15\": 13, \"5\": 1}, \"4\": {\"4\": 171, \"13\": 3, \"14\": 65, \"5\": 1}, \"9\": {\"9\": 126, \"6\": 26, \"7\": 61, \"2\": 4, \"13\": 23}, \"14\": {\"14\": 135, \"4\": 78, \"15\": 20, \"5\": 7}, \"0\": {\"0\": 138, \"8\": 66, \"15\": 22, \"5\": 14}, \"12\": {\"12\": 146, \"1\": 66, \"2\": 2, \"10\": 20, \"3\": 6}}, \"ORACLE.run150\": {\"15\": {\"1\": 48, \"4\": 30, \"15\": 153, \"11\": 6, \"6\": 2, \"14\": 1}, \"4\": {\"4\": 85, \"5\": 17, \"15\": 54, \"6\": 37, \"1\": 40, \"13\": 6, \"7\": 1}, \"6\": {\"4\": 49, \"13\": 16, \"6\": 107, \"1\": 38, \"5\": 25, \"7\": 1, \"0\": 1, \"2\": 2, \"15\": 1}, \"2\": {\"0\": 27, \"2\": 213}, \"5\": {\"13\": 48, \"7\": 57, \"6\": 47, \"5\": 58, \"4\": 23, \"1\": 5, \"10\": 2}, \"9\": {\"9\": 172, \"11\": 45, \"12\": 20, \"14\": 3}, \"8\": {\"8\": 222, \"10\": 13, \"3\": 5}, \"12\": {\"12\": 200, \"9\": 24, \"14\": 15, \"11\": 1}, \"10\": {\"10\": 197, \"0\": 16, \"7\": 11, \"8\": 5, \"13\": 10, \"5\": 1}, \"1\": {\"15\": 47, \"1\": 110, \"6\": 46, \"4\": 36, \"11\": 1}, \"0\": {\"0\": 196, \"2\": 27, \"10\": 12, \"6\": 2, \"13\": 3}, \"3\": {\"3\": 232, \"8\": 8}, \"13\": {\"13\": 100, \"7\": 57, \"5\": 60, \"10\": 5, \"0\": 1, \"6\": 17}, \"11\": {\"11\": 191, \"9\": 32, \"14\": 5, \"15\": 8, \"12\": 3, \"1\": 1}, \"7\": {\"13\": 55, \"7\": 136, \"5\": 35, \"10\": 14}, \"14\": {\"14\": 225, \"12\": 8, \"15\": 1, \"11\": 5, \"9\": 1}}, \"ORACLE.run138\": {\"15\": {\"15\": 140, \"13\": 64, \"1\": 18, \"5\": 7, \"8\": 8, \"10\": 3}, \"11\": {\"11\": 168, \"12\": 4, \"14\": 68}, \"10\": {\"10\": 158, \"13\": 25, \"12\": 32, \"14\": 5, \"8\": 7, \"15\": 3, \"11\": 1, \"4\": 2, \"0\": 6, \"5\": 1}, \"14\": {\"2\": 21, \"14\": 157, \"11\": 54, \"10\": 5, \"12\": 1, \"13\": 2}, \"6\": {\"6\": 163, \"1\": 1, \"9\": 72, \"5\": 4}, \"4\": {\"4\": 217, \"10\": 1, \"12\": 21, \"0\": 1}, \"13\": {\"13\": 139, \"15\": 72, \"10\": 16, \"2\": 9, \"8\": 1, \"1\": 3}, \"3\": {\"7\": 15, \"3\": 190, \"6\": 4, \"0\": 4, \"9\": 24, \"5\": 3}, \"7\": {\"0\": 55, \"7\": 158, \"5\": 13, \"8\": 6, \"3\": 7, \"10\": 1}, \"8\": {\"5\": 63, \"0\": 35, \"8\": 122, \"1\": 1, \"13\": 3, \"15\": 3, \"10\": 6, \"7\": 7}, \"1\": {\"15\": 16, \"1\": 220, \"13\": 2, \"5\": 1, \"8\": 1}, \"5\": {\"8\": 74, \"5\": 87, \"1\": 4, \"6\": 4, \"0\": 37, \"7\": 9, \"3\": 6, \"15\": 13, \"9\": 4, \"10\": 2}, \"0\": {\"8\": 46, \"0\": 62, \"5\": 48, \"7\": 62, \"3\": 16, \"9\": 1, \"6\": 1, \"12\": 2, \"10\": 2}, \"2\": {\"2\": 212, \"13\": 5, \"14\": 21, \"11\": 1, \"10\": 1}, \"12\": {\"12\": 189, \"4\": 21, \"10\": 28, \"11\": 1, \"0\": 1}, \"9\": {\"6\": 94, \"5\": 2, \"9\": 130, \"3\": 14}}, \"ORACLE.run120\": {\"10\": {\"4\": 20, \"10\": 130, \"8\": 27, \"14\": 58, \"6\": 3, \"7\": 2}, \"7\": {\"7\": 122, \"8\": 25, \"4\": 5, \"3\": 9, \"13\": 6, \"6\": 9, \"9\": 27, \"2\": 30, \"14\": 3, \"12\": 4}, \"4\": {\"4\": 147, \"8\": 47, \"10\": 16, \"14\": 2, \"3\": 14, \"12\": 6, \"0\": 2, \"7\": 1, \"9\": 2, \"5\": 2, \"6\": 1}, \"13\": {\"13\": 192, \"2\": 12, \"15\": 18, \"1\": 3, \"9\": 11, \"7\": 2, \"12\": 2}, \"1\": {\"1\": 49, \"0\": 48, \"15\": 54, \"5\": 43, \"12\": 21, \"3\": 8, \"4\": 5, \"13\": 4, \"2\": 5, \"9\": 3}, \"0\": {\"1\": 46, \"0\": 56, \"5\": 53, \"9\": 8, \"15\": 39, \"2\": 6, \"3\": 16, \"4\": 3, \"12\": 13}, \"12\": {\"0\": 20, \"3\": 43, \"12\": 48, \"5\": 27, \"2\": 19, \"15\": 9, \"1\": 28, \"9\": 21, \"8\": 2, \"7\": 5, \"4\": 12, \"13\": 6}, \"5\": {\"5\": 61, \"1\": 38, \"12\": 33, \"3\": 21, \"0\": 48, \"9\": 5, \"2\": 6, \"15\": 24, \"4\": 2, \"13\": 2}, \"6\": {\"14\": 35, \"6\": 191, \"8\": 3, \"7\": 6, \"10\": 5}, \"2\": {\"9\": 49, \"7\": 39, \"0\": 2, \"12\": 12, \"13\": 26, \"2\": 71, \"3\": 26, \"8\": 5, \"5\": 1, \"1\": 8, \"6\": 1}, \"8\": {\"10\": 38, \"8\": 95, \"3\": 9, \"7\": 28, \"2\": 4, \"4\": 42, \"14\": 14, \"9\": 4, \"6\": 6}, \"11\": {\"11\": 238, \"7\": 2}, \"9\": {\"3\": 35, \"7\": 22, \"0\": 3, \"12\": 38, \"9\": 54, \"2\": 50, \"13\": 10, \"15\": 7, \"4\": 5, \"5\": 6, \"1\": 3, \"8\": 7}, \"14\": {\"14\": 137, \"6\": 34, \"10\": 67, \"8\": 1, \"4\": 1}, \"15\": {\"0\": 32, \"1\": 45, \"15\": 106, \"9\": 6, \"5\": 12, \"13\": 16, \"12\": 12, \"3\": 4, \"2\": 7}, \"3\": {\"12\": 41, \"2\": 20, \"0\": 8, \"7\": 9, \"1\": 2, \"3\": 64, \"4\": 25, \"8\": 17, \"9\": 35, \"5\": 16, \"13\": 1, \"15\": 2}}, \"ORACLE.run114\": {\"14\": {\"14\": 145, \"13\": 31, \"6\": 27, \"2\": 16, \"3\": 16, \"4\": 5}, \"0\": {\"0\": 162, \"10\": 63, \"11\": 9, \"3\": 6}, \"4\": {\"4\": 107, \"2\": 33, \"3\": 50, \"5\": 44, \"14\": 3, \"1\": 3}, \"11\": {\"11\": 195, \"0\": 8, \"10\": 25, \"9\": 12}, \"13\": {\"6\": 81, \"14\": 48, \"13\": 73, \"2\": 32, \"10\": 2, \"3\": 1, \"5\": 2, \"4\": 1}, \"9\": {\"9\": 232, \"12\": 4, \"11\": 4}, \"3\": {\"2\": 6, \"4\": 43, \"3\": 166, \"14\": 17, \"13\": 1, \"5\": 1, \"0\": 6}, \"6\": {\"13\": 69, \"6\": 108, \"14\": 32, \"2\": 31}, \"1\": {\"1\": 193, \"5\": 33, \"7\": 7, \"4\": 7}, \"5\": {\"5\": 124, \"4\": 51, \"1\": 39, \"7\": 8, \"3\": 5, \"2\": 12, \"15\": 1}, \"12\": {\"12\": 236, \"9\": 4}, \"10\": {\"10\": 187, \"0\": 48, \"14\": 1, \"11\": 4}, \"8\": {\"8\": 239, \"1\": 1}, \"7\": {\"1\": 4, \"7\": 209, \"15\": 26, \"5\": 1}, \"15\": {\"7\": 27, \"15\": 212, \"2\": 1}, \"2\": {\"13\": 16, \"2\": 118, \"6\": 20, \"14\": 23, \"1\": 1, \"5\": 24, \"4\": 25, \"3\": 8, \"15\": 5}}, \"ORACLE.run132\": {\"11\": {\"11\": 158, \"13\": 3, \"14\": 56, \"7\": 10, \"3\": 9, \"5\": 4}, \"1\": {\"1\": 234, \"10\": 6}, \"2\": {\"2\": 175, \"4\": 46, \"7\": 4, \"0\": 14, \"14\": 1}, \"0\": {\"0\": 115, \"2\": 25, \"4\": 48, \"13\": 8, \"8\": 18, \"5\": 19, \"7\": 7}, \"3\": {\"3\": 221, \"11\": 3, \"8\": 5, \"13\": 4, \"5\": 5, \"14\": 2}, \"8\": {\"8\": 164, \"13\": 25, \"5\": 22, \"14\": 1, \"0\": 20, \"3\": 6, \"4\": 1, \"7\": 1}, \"12\": {\"12\": 239, \"9\": 1}, \"5\": {\"5\": 67, \"0\": 25, \"3\": 15, \"11\": 5, \"4\": 20, \"13\": 56, \"8\": 20, \"14\": 10, \"7\": 22}, \"15\": {\"15\": 237, \"8\": 2, \"3\": 1}, \"7\": {\"7\": 80, \"11\": 15, \"4\": 41, \"5\": 26, \"2\": 15, \"13\": 12, \"14\": 40, \"0\": 11}, \"4\": {\"0\": 46, \"7\": 44, \"4\": 85, \"2\": 45, \"5\": 9, \"13\": 7, \"14\": 4}, \"14\": {\"4\": 8, \"11\": 77, \"3\": 7, \"7\": 44, \"14\": 68, \"5\": 14, \"13\": 18, \"2\": 1, \"0\": 2, \"8\": 1}, \"10\": {\"10\": 236, \"1\": 4}, \"6\": {\"6\": 240}, \"13\": {\"14\": 5, \"3\": 24, \"0\": 11, \"5\": 53, \"13\": 71, \"8\": 33, \"4\": 15, \"11\": 6, \"7\": 22}, \"9\": {\"9\": 238, \"12\": 2}}, \"ORACLE.run18\": {\"9\": {\"9\": 240}, \"11\": {\"14\": 5, \"1\": 110, \"11\": 104, \"5\": 11, \"6\": 1, \"8\": 4, \"4\": 5}, \"8\": {\"8\": 209, \"7\": 2, \"15\": 22, \"6\": 5, \"12\": 2}, \"4\": {\"4\": 78, \"10\": 11, \"1\": 4, \"14\": 47, \"13\": 45, \"0\": 16, \"6\": 34, \"7\": 5}, \"13\": {\"13\": 63, \"6\": 15, \"14\": 22, \"4\": 37, \"0\": 62, \"10\": 34, \"7\": 4, \"1\": 3}, \"14\": {\"10\": 58, \"1\": 15, \"14\": 75, \"13\": 28, \"4\": 45, \"11\": 10, \"6\": 3, \"0\": 2, \"5\": 4}, \"2\": {\"2\": 178, \"15\": 15, \"3\": 38, \"7\": 2, \"12\": 6, \"8\": 1}, \"3\": {\"3\": 150, \"2\": 49, \"12\": 30, \"15\": 11}, \"1\": {\"8\": 1, \"5\": 12, \"1\": 124, \"11\": 72, \"14\": 22, \"10\": 5, \"4\": 4}, \"0\": {\"7\": 22, \"0\": 114, \"13\": 53, \"10\": 5, \"6\": 24, \"14\": 4, \"4\": 18}, \"5\": {\"5\": 183, \"10\": 27, \"1\": 16, \"14\": 9, \"11\": 5}, \"15\": {\"15\": 129, \"2\": 10, \"12\": 66, \"8\": 25, \"3\": 9, \"7\": 1}, \"10\": {\"13\": 22, \"10\": 120, \"5\": 12, \"14\": 53, \"11\": 1, \"4\": 23, \"6\": 1, \"1\": 5, \"0\": 3}, \"12\": {\"12\": 98, \"15\": 81, \"8\": 9, \"3\": 47, \"2\": 5}, \"6\": {\"6\": 104, \"7\": 69, \"13\": 9, \"0\": 23, \"8\": 7, \"4\": 21, \"14\": 6, \"1\": 1}, \"7\": {\"7\": 146, \"6\": 62, \"0\": 20, \"13\": 3, \"15\": 1, \"4\": 3, \"8\": 3, \"2\": 2}}, \"Wisig_4\": {\"71\": {\"114\": 8, \"71\": 76, \"56\": 1, \"46\": 1, \"55\": 1, \"1\": 2, \"4\": 7, \"107\": 1, \"119\": 2, \"42\": 1, \"82\": 1, \"84\": 1, \"109\": 1, \"127\": 1}, \"17\": {\"17\": 19, \"89\": 1}, \"105\": {\"105\": 59, \"62\": 1, \"76\": 1, \"7\": 2, \"107\": 12, \"88\": 2, \"90\": 1, \"24\": 1, \"40\": 2, \"12\": 1, \"113\": 1, \"39\": 1, \"3\": 3, \"10\": 1, \"104\": 2, \"126\": 1, \"32\": 3, \"82\": 2, \"27\": 1, \"14\": 1, \"36\": 1, \"114\": 1}, \"92\": {\"92\": 22, \"13\": 2, \"102\": 1, \"15\": 1, \"45\": 2}, \"100\": {\"100\": 13, \"86\": 2, \"46\": 1, \"124\": 2, \"4\": 2}, \"6\": {\"6\": 15, \"68\": 1, \"111\": 2, \"94\": 2, \"101\": 2, \"0\": 1, \"12\": 1}, \"36\": {\"6\": 1, \"36\": 95, \"24\": 10, \"94\": 8, \"10\": 11, \"27\": 1, \"26\": 1, \"18\": 1}, \"35\": {\"35\": 9, \"2\": 1, \"117\": 2}, \"63\": {\"63\": 11, \"65\": 3, \"26\": 1, \"61\": 1}, \"104\": {\"104\": 16}, \"114\": {\"114\": 101, \"71\": 8, \"127\": 1, \"7\": 3, \"94\": 1, \"98\": 2, \"107\": 2, \"4\": 2, \"122\": 1, \"24\": 2, \"124\": 1, \"14\": 1, \"105\": 1, \"1\": 2}, \"68\": {\"68\": 11, \"91\": 1, \"34\": 1, \"127\": 1, \"95\": 1, \"12\": 1}, \"109\": {\"109\": 54, \"92\": 1, \"118\": 9, \"61\": 1, \"80\": 1, \"122\": 5, \"105\": 1, \"69\": 9, \"43\": 7, \"110\": 2, \"26\": 1, \"102\": 3, \"44\": 2, \"8\": 2, \"84\": 2, \"90\": 1, \"88\": 1, \"11\": 3, \"62\": 2, \"116\": 2, \"126\": 1, \"106\": 1, \"33\": 3, \"39\": 1, \"113\": 1}, \"27\": {\"27\": 64, \"101\": 3, \"58\": 2, \"113\": 1, \"88\": 4, \"78\": 1, \"8\": 9, \"106\": 5, \"111\": 1, \"0\": 5, \"126\": 1, \"30\": 3, \"24\": 1}, \"79\": {\"79\": 10, \"71\": 1, \"14\": 3, \"7\": 1, \"11\": 1}, \"0\": {\"0\": 64, \"68\": 1, \"111\": 7, \"53\": 2, \"14\": 1, \"8\": 4, \"12\": 3, \"10\": 1, \"101\": 9, \"70\": 1, \"118\": 1, \"106\": 4, \"29\": 2, \"39\": 2, \"126\": 1, \"107\": 1, \"1\": 1, \"110\": 1}, \"28\": {\"28\": 18, \"32\": 1, \"101\": 1}, \"4\": {\"4\": 93, \"55\": 1, \"26\": 1, \"36\": 1, \"124\": 1, \"86\": 3, \"85\": 1, \"46\": 1, \"98\": 2}, \"106\": {\"106\": 61, \"21\": 1, \"29\": 2, \"101\": 4, \"8\": 6, \"12\": 8, \"111\": 2, \"0\": 10, \"113\": 1, \"85\": 1, \"125\": 2, \"98\": 1, \"27\": 1, \"108\": 1, \"88\": 1}, \"40\": {\"40\": 119, \"99\": 2, \"115\": 1, \"107\": 3, \"62\": 1, \"16\": 1, \"33\": 2, \"82\": 1, \"87\": 1, \"11\": 1, \"69\": 1, \"18\": 1}, \"127\": {\"127\": 83, \"95\": 2, \"98\": 7, \"16\": 1, \"128\": 2, \"34\": 2, \"33\": 1, \"8\": 1, \"85\": 1, \"101\": 3, \"91\": 1, \"1\": 2, \"12\": 2}, \"57\": {\"116\": 1, \"57\": 9, \"51\": 1, \"102\": 1, \"66\": 2, \"67\": 1, \"27\": 1}, \"60\": {\"4\": 2, \"92\": 1, \"112\": 1, \"118\": 2, \"56\": 1, \"86\": 1, \"122\": 3, \"60\": 4, \"129\": 1, \"62\": 3, \"46\": 1, \"93\": 1, \"42\": 1, \"49\": 2, \"120\": 1, \"74\": 2, \"88\": 1, \"33\": 1, \"43\": 1, \"84\": 1, \"70\": 1}, \"69\": {\"69\": 84, \"90\": 14, \"102\": 10, \"84\": 4, \"16\": 2, \"44\": 6, \"27\": 1, \"126\": 1, \"62\": 1, \"3\": 1}, \"84\": {\"84\": 92, \"35\": 1, \"57\": 2, \"38\": 1, \"78\": 1, \"90\": 11, \"69\": 3, \"44\": 5, \"102\": 7, \"80\": 1, \"118\": 4, \"126\": 1, \"16\": 1, \"43\": 2}, \"24\": {\"24\": 73, \"94\": 5, \"25\": 2, \"10\": 14, \"21\": 1, \"97\": 1, \"18\": 3, \"36\": 4, \"30\": 6, \"27\": 5, \"15\": 4, \"84\": 1, \"127\": 1}, \"94\": {\"84\": 1, \"94\": 67, \"36\": 3, \"24\": 2, \"30\": 2, \"108\": 1, \"10\": 2, \"54\": 1, \"15\": 3, \"125\": 2, \"6\": 1, \"88\": 2, \"126\": 1}, \"7\": {\"28\": 1, \"84\": 1, \"7\": 69, \"17\": 1, \"107\": 7, \"79\": 1, \"105\": 5, \"14\": 8, \"87\": 2, \"3\": 12, \"32\": 1, \"1\": 2, \"36\": 1, \"113\": 1, \"124\": 1, \"10\": 1, \"104\": 1, \"80\": 1, \"60\": 1, \"19\": 1, \"5\": 1, \"114\": 1}, \"96\": {\"69\": 1, \"96\": 10, \"109\": 1, \"59\": 1, \"68\": 2, \"84\": 1, \"92\": 1, \"31\": 1, \"105\": 1, \"63\": 1}, \"116\": {\"116\": 17, \"69\": 1, \"102\": 3, \"33\": 2, \"62\": 2, \"90\": 1, \"44\": 2}, \"47\": {\"47\": 7, \"24\": 1, \"127\": 2, \"65\": 1, \"97\": 1}, \"119\": {\"119\": 13, \"25\": 1, \"95\": 2}, \"74\": {\"109\": 2, \"74\": 13, \"60\": 1}, \"93\": {\"93\": 127, \"110\": 15, \"5\": 3, \"44\": 1, \"39\": 1, \"43\": 2, \"14\": 2, \"87\": 1}, \"2\": {\"109\": 2, \"2\": 5, \"84\": 1, \"61\": 1, \"96\": 3, \"44\": 6, \"35\": 2, \"90\": 1, \"81\": 1, \"18\": 1, \"117\": 3, \"121\": 2}, \"37\": {\"37\": 13, \"51\": 1, \"100\": 2}, \"15\": {\"15\": 114, \"54\": 2, \"30\": 6, \"26\": 1, \"125\": 1, \"106\": 1, \"6\": 1, \"69\": 1, \"24\": 1}, \"102\": {\"102\": 111, \"90\": 9, \"92\": 1, \"69\": 10, \"44\": 1, \"33\": 1, \"57\": 1, \"116\": 2}, \"87\": {\"107\": 21, \"87\": 43, \"113\": 1, \"82\": 2, \"40\": 13, \"32\": 1, \"11\": 8, \"105\": 6, \"5\": 3, \"3\": 6, \"126\": 1, \"7\": 3, \"93\": 3, \"14\": 3, \"73\": 1, \"118\": 1, \"99\": 1, \"110\": 3, \"1\": 1, \"98\": 1}, \"107\": {\"107\": 111, \"50\": 2, \"105\": 7, \"109\": 1, \"11\": 3, \"40\": 4, \"7\": 3, \"108\": 1, \"87\": 6, \"82\": 4, \"93\": 1, \"14\": 1}, \"61\": {\"61\": 14, \"91\": 1, \"21\": 1}, \"78\": {\"74\": 1, \"32\": 1, \"122\": 1, \"78\": 12, \"50\": 2, \"26\": 1, \"7\": 1, \"13\": 1, \"107\": 1, \"8\": 1, \"40\": 2, \"3\": 1, \"105\": 1, \"96\": 1, \"88\": 1, \"23\": 3, \"73\": 1, \"115\": 1, \"93\": 1, \"72\": 1, \"110\": 1}, \"9\": {\"9\": 28}, \"32\": {\"32\": 21, \"107\": 1, \"28\": 1, \"7\": 2, \"1\": 1, \"3\": 2}, \"14\": {\"14\": 85, \"31\": 1, \"3\": 12, \"7\": 2, \"105\": 4, \"1\": 2, \"73\": 1, \"107\": 1, \"19\": 1, \"20\": 2, \"87\": 1}, \"62\": {\"62\": 37, \"33\": 7, \"90\": 2, \"118\": 3, \"113\": 1, \"88\": 1, \"102\": 4, \"122\": 1, \"109\": 1, \"117\": 1, \"69\": 1, \"108\": 1}, \"1\": {\"25\": 1, \"119\": 1, \"89\": 2, \"1\": 65, \"49\": 2, \"71\": 12, \"14\": 4, \"3\": 4, \"12\": 1, \"87\": 2, \"107\": 4, \"114\": 2, \"24\": 1, \"15\": 1}, \"23\": {\"23\": 3, \"92\": 1, \"103\": 1, \"63\": 1, \"91\": 2, \"113\": 2, \"110\": 1, \"2\": 1, \"117\": 1, \"0\": 1, \"128\": 1, \"101\": 1}, \"95\": {\"95\": 27, \"85\": 2, \"55\": 1, \"4\": 1, \"76\": 1}, \"56\": {\"56\": 12}, \"91\": {\"91\": 16, \"124\": 1, \"29\": 3, \"111\": 1, \"95\": 2, \"127\": 1}, \"34\": {\"34\": 8, \"95\": 1, \"119\": 2, \"83\": 4, \"86\": 2, \"49\": 1, \"125\": 1, \"8\": 1, \"46\": 1, \"29\": 3, \"4\": 1, \"101\": 1, \"120\": 1, \"85\": 1, \"12\": 1, \"42\": 1, \"127\": 1, \"129\": 1}, \"25\": {\"25\": 16}, \"33\": {\"33\": 111, \"62\": 2, \"122\": 6, \"118\": 2, \"16\": 1, \"38\": 1, \"116\": 1}, \"16\": {\"16\": 101, \"117\": 5, \"18\": 1, \"121\": 2, \"90\": 2, \"84\": 6, \"87\": 1, \"2\": 1, \"113\": 5}, \"26\": {\"26\": 92, \"113\": 4, \"21\": 1, \"117\": 4, \"39\": 3, \"3\": 1, \"18\": 13, \"63\": 1, \"121\": 2, \"81\": 3, \"126\": 2}, \"5\": {\"5\": 108, \"26\": 2, \"11\": 1, \"72\": 3, \"93\": 2, \"14\": 1, \"110\": 7, \"40\": 1, \"1\": 1, \"43\": 3, \"39\": 1, \"113\": 1, \"102\": 1, \"88\": 1, \"87\": 3}, \"123\": {\"26\": 1, \"6\": 1, \"123\": 11, \"18\": 1, \"63\": 2}, \"8\": {\"8\": 88, \"9\": 2, \"12\": 3, \"0\": 6, \"101\": 10, \"111\": 3, \"27\": 1, \"106\": 4, \"5\": 1}, \"83\": {\"119\": 1, \"83\": 11, \"71\": 4, \"46\": 1, \"36\": 1, \"50\": 1, \"114\": 1, \"51\": 1, \"105\": 1, \"34\": 1, \"60\": 1, \"42\": 1, \"19\": 1, \"129\": 2}, \"125\": {\"125\": 126, \"29\": 2, \"127\": 2, \"0\": 4}, \"51\": {\"51\": 3, \"127\": 1, \"61\": 1, \"71\": 1, \"106\": 2, \"75\": 2, \"111\": 2, \"77\": 2, \"23\": 1, \"94\": 1}, \"22\": {\"74\": 4, \"22\": 10, \"45\": 1, \"49\": 1}, \"54\": {\"54\": 16}, \"66\": {\"66\": 15, \"13\": 1}, \"59\": {\"51\": 2, \"59\": 7, \"111\": 1, \"52\": 1, \"21\": 1}, \"111\": {\"111\": 94, \"59\": 1, \"6\": 1, \"12\": 14, \"29\": 2, \"101\": 7, \"127\": 2, \"5\": 1, \"68\": 1, \"106\": 2, \"11\": 1, \"0\": 1, \"8\": 1}, \"77\": {\"77\": 11, \"111\": 1}, \"103\": {\"103\": 16}, \"20\": {\"20\": 12, \"28\": 1, \"11\": 3}, \"124\": {\"124\": 109, \"120\": 1, \"55\": 1, \"4\": 1, \"117\": 1, \"98\": 1, \"60\": 1, \"1\": 1, \"71\": 1, \"26\": 1, \"127\": 1, \"109\": 1}, \"99\": {\"76\": 1, \"99\": 24, \"40\": 4, \"115\": 2, \"32\": 1, \"50\": 3, \"107\": 2, \"60\": 1, \"69\": 1, \"11\": 1}, \"120\": {\"91\": 1, \"120\": 10, \"4\": 3, \"1\": 1, \"56\": 2, \"17\": 1, \"21\": 1, \"105\": 1}, \"76\": {\"76\": 12, \"112\": 1, \"104\": 1, \"107\": 2}, \"110\": {\"110\": 62, \"93\": 20, \"22\": 2, \"33\": 1, \"11\": 5, \"5\": 10, \"113\": 2, \"43\": 5, \"122\": 1, \"16\": 1, \"97\": 1, \"109\": 2, \"36\": 2, \"87\": 2}, \"29\": {\"29\": 25, \"24\": 1, \"12\": 3, \"111\": 1, \"34\": 2}, \"118\": {\"118\": 52, \"12\": 1, \"5\": 2, \"90\": 4, \"109\": 5, \"62\": 5, \"44\": 2, \"33\": 13, \"102\": 10, \"71\": 1, \"69\": 2, \"122\": 6, \"110\": 3, \"106\": 1, \"88\": 1, \"21\": 1, \"113\": 1, \"43\": 1, \"116\": 1}, \"58\": {\"58\": 14, \"88\": 2}, \"13\": {\"13\": 12, \"92\": 1, \"62\": 2, \"94\": 1}, \"89\": {\"83\": 2, \"89\": 26, \"28\": 1, \"3\": 1, \"1\": 2}, \"31\": {\"31\": 13, \"95\": 1, \"62\": 2}, \"64\": {\"31\": 1, \"99\": 1, \"64\": 13, \"85\": 1}, \"65\": {\"65\": 10, \"63\": 2}, \"101\": {\"101\": 69, \"106\": 9, \"18\": 1, \"0\": 8, \"12\": 14, \"111\": 13, \"11\": 1, \"88\": 1, \"8\": 10, \"108\": 1, \"34\": 1, \"42\": 1, \"43\": 1, \"113\": 1, \"26\": 1}, \"126\": {\"65\": 1, \"126\": 65, \"63\": 2, \"26\": 12, \"121\": 1, \"117\": 3, \"113\": 10, \"18\": 7, \"70\": 2, \"16\": 1, \"39\": 8, \"7\": 1, \"109\": 1, \"11\": 1, \"3\": 2, \"127\": 1}, \"108\": {\"14\": 9, \"108\": 28, \"7\": 2, \"78\": 1, \"79\": 2, \"62\": 1, \"73\": 1, \"21\": 1, \"87\": 4, \"1\": 2, \"93\": 5, \"36\": 1, \"94\": 1, \"111\": 1, \"11\": 2, \"98\": 2, \"126\": 1, \"88\": 6, \"114\": 2, \"70\": 2, \"109\": 2, \"3\": 3, \"49\": 2, \"19\": 2, \"30\": 1, \"18\": 1, \"72\": 2, \"110\": 1, \"105\": 1, \"107\": 1, \"5\": 1, \"27\": 1}, \"45\": {\"74\": 1, \"45\": 10, \"22\": 1, \"69\": 1, \"107\": 1, \"40\": 2}, \"21\": {\"21\": 37, \"88\": 2, \"22\": 1}, \"30\": {\"106\": 2, \"30\": 59, \"24\": 3, \"27\": 1, \"126\": 1, \"10\": 2, \"15\": 5, \"6\": 2, \"88\": 1}, \"82\": {\"82\": 19, \"20\": 1, \"105\": 3, \"107\": 3, \"12\": 1, \"87\": 1, \"40\": 2, \"11\": 1, \"71\": 1}, \"85\": {\"85\": 18, \"86\": 4, \"95\": 4, \"124\": 1, \"56\": 1}, \"88\": {\"88\": 56, \"101\": 1, \"83\": 2, \"51\": 3, \"27\": 5, \"78\": 4, \"0\": 3, \"127\": 1, \"10\": 1, \"70\": 4, \"42\": 2, \"124\": 9, \"108\": 4, \"71\": 4, \"98\": 1, \"87\": 1, \"113\": 1, \"3\": 3, \"1\": 4, \"114\": 4, \"118\": 3, \"15\": 2, \"95\": 1, \"85\": 1, \"119\": 1, \"105\": 3, \"60\": 1, \"7\": 1, \"107\": 1, \"4\": 2, \"110\": 1, \"93\": 1, \"106\": 1}, \"41\": {\"41\": 12, \"88\": 1, \"37\": 2, \"95\": 1}, \"128\": {\"85\": 2, \"53\": 1, \"4\": 1, \"128\": 3, \"45\": 1, \"95\": 2, \"129\": 1, \"7\": 1, \"41\": 1, \"82\": 1, \"40\": 1, \"42\": 1, \"107\": 2, \"34\": 1, \"49\": 1, \"111\": 2, \"114\": 2}, \"39\": {\"18\": 10, \"39\": 34, \"16\": 2, \"109\": 2, \"90\": 1, \"126\": 13, \"113\": 12, \"26\": 8, \"11\": 1, \"33\": 1, \"111\": 1, \"108\": 1, \"105\": 2, \"117\": 8, \"118\": 2, \"116\": 1, \"70\": 1}, \"18\": {\"61\": 2, \"123\": 1, \"18\": 94, \"21\": 1, \"26\": 14, \"108\": 1, \"113\": 4, \"39\": 1, \"126\": 2}, \"113\": {\"113\": 91, \"121\": 5, \"81\": 6, \"39\": 4, \"26\": 1, \"16\": 4, \"18\": 4, \"117\": 6, \"0\": 1, \"126\": 4, \"41\": 1, \"97\": 1}, \"11\": {\"32\": 2, \"20\": 4, \"14\": 6, \"5\": 12, \"11\": 60, \"110\": 4, \"82\": 2, \"40\": 4, \"93\": 6, \"107\": 12, \"87\": 11, \"3\": 6, \"33\": 1, \"39\": 1, \"99\": 1, \"79\": 1, \"115\": 2, \"126\": 1, \"7\": 1, \"109\": 1}, \"43\": {\"64\": 2, \"82\": 3, \"3\": 1, \"43\": 39, \"122\": 4, \"33\": 12, \"118\": 3, \"99\": 5, \"110\": 13, \"93\": 8, \"5\": 5, \"87\": 2, \"126\": 1, \"26\": 1, \"11\": 3, \"109\": 5, \"98\": 1, \"80\": 1, \"123\": 1, \"72\": 1, \"129\": 1, \"62\": 1, \"40\": 5, \"105\": 1, \"107\": 1}, \"12\": {\"12\": 65, \"81\": 1, \"111\": 16, \"15\": 1, \"56\": 1, \"101\": 8, \"106\": 3, \"68\": 1, \"91\": 1, \"29\": 1, \"110\": 1, \"39\": 1}, \"122\": {\"45\": 3, \"122\": 37, \"43\": 5, \"33\": 11, \"14\": 1, \"102\": 2, \"118\": 4, \"113\": 1, \"94\": 1, \"109\": 2, \"5\": 3, \"110\": 2, \"24\": 1, \"79\": 1, \"126\": 3, \"93\": 1, \"11\": 3, \"116\": 1, \"40\": 1, \"16\": 1}, \"52\": {\"52\": 18, \"127\": 1, \"98\": 1}, \"44\": {\"44\": 46, \"102\": 6, \"90\": 2, \"116\": 1, \"69\": 5, \"66\": 1, \"80\": 1, \"122\": 1, \"121\": 1}, \"90\": {\"90\": 107, \"102\": 7, \"44\": 4, \"69\": 12, \"84\": 3, \"18\": 1}, \"112\": {\"112\": 15, \"42\": 1}, \"86\": {\"86\": 26, \"100\": 1, \"4\": 1}, \"3\": {\"3\": 71, \"78\": 1, \"105\": 1, \"14\": 9, \"107\": 4, \"102\": 1, \"11\": 3, \"1\": 5, \"114\": 3, \"7\": 3, \"87\": 5, \"43\": 2, \"46\": 1, \"49\": 1, \"32\": 2, \"19\": 1, \"98\": 1, \"71\": 1, \"8\": 1}, \"38\": {\"38\": 12, \"67\": 1, \"57\": 1, \"48\": 2}, \"121\": {\"121\": 16, \"67\": 1, \"69\": 3, \"116\": 1, \"18\": 1, \"44\": 1, \"26\": 4, \"113\": 1, \"117\": 2, \"39\": 2}, \"46\": {\"87\": 1, \"116\": 1, \"46\": 12, \"100\": 1, \"127\": 1, \"34\": 1, \"78\": 1, \"85\": 1, \"71\": 1}, \"70\": {\"70\": 49, \"46\": 1, \"124\": 18, \"113\": 1, \"34\": 1, \"128\": 3, \"105\": 1, \"108\": 1, \"88\": 3, \"27\": 2, \"98\": 10, \"8\": 1, \"127\": 4, \"0\": 7, \"1\": 2, \"12\": 2, \"4\": 1, \"117\": 1, \"101\": 4, \"5\": 1, \"129\": 1, \"91\": 1, \"52\": 1, \"100\": 1, \"103\": 1, \"11\": 1, \"18\": 1, \"114\": 2, \"93\": 2}, \"67\": {\"116\": 1, \"121\": 1, \"81\": 2, \"18\": 1, \"74\": 1, \"16\": 1, \"83\": 1, \"63\": 1, \"102\": 1, \"123\": 2, \"113\": 2, \"67\": 2}, \"53\": {\"53\": 15, \"12\": 1}, \"49\": {\"122\": 5, \"49\": 2, \"127\": 1, \"95\": 2, \"53\": 1, \"11\": 1, \"34\": 4, \"2\": 1, \"8\": 1, \"98\": 2, \"60\": 2, \"123\": 2, \"62\": 1, \"101\": 2, \"72\": 2, \"91\": 1, \"12\": 2}, \"42\": {\"49\": 4, \"51\": 1, \"88\": 1, \"129\": 1, \"52\": 1, \"46\": 2, \"124\": 1, \"125\": 2, \"8\": 2, \"42\": 6, \"12\": 1, \"114\": 1, \"43\": 1, \"71\": 1, \"103\": 1, \"1\": 1, \"111\": 1}, \"10\": {\"9\": 4, \"24\": 7, \"101\": 2, \"94\": 6, \"10\": 65, \"30\": 5, \"27\": 3, \"36\": 8, \"15\": 13, \"108\": 2, \"98\": 1, \"39\": 1, \"26\": 1}, \"50\": {\"50\": 14, \"115\": 1, \"40\": 1}, \"73\": {\"73\": 15, \"49\": 2, \"14\": 1, \"5\": 1, \"101\": 1, \"3\": 2, \"119\": 2}, \"115\": {\"47\": 1, \"115\": 9, \"84\": 1, \"87\": 1, \"44\": 1, \"107\": 1, \"40\": 1, \"72\": 1}, \"80\": {\"80\": 13, \"30\": 1, \"66\": 1, \"44\": 1}, \"19\": {\"109\": 1, \"83\": 4, \"52\": 2, \"103\": 1, \"122\": 2, \"48\": 1, \"5\": 1, \"19\": 2, \"93\": 1, \"127\": 2, \"111\": 1, \"40\": 1, \"98\": 4, \"110\": 2, \"33\": 1, \"27\": 1, \"118\": 1}, \"55\": {\"4\": 1, \"55\": 15}, \"72\": {\"72\": 21, \"128\": 1, \"30\": 1, \"5\": 2, \"11\": 1, \"43\": 2, \"87\": 1, \"113\": 1, \"107\": 2}, \"117\": {\"117\": 93, \"16\": 4, \"26\": 4, \"126\": 2, \"39\": 1, \"113\": 4, \"123\": 1, \"67\": 1, \"122\": 2, \"121\": 2, \"81\": 2}, \"81\": {\"81\": 28, \"117\": 1, \"80\": 1, \"69\": 1, \"18\": 2, \"78\": 1, \"16\": 1, \"39\": 1}, \"75\": {\"75\": 10, \"47\": 2, \"34\": 2, \"77\": 2}, \"98\": {\"127\": 9, \"98\": 97, \"41\": 2, \"30\": 1, \"24\": 1, \"111\": 2, \"25\": 1, \"88\": 1, \"52\": 4, \"124\": 2}, \"48\": {\"48\": 12, \"113\": 2, \"16\": 2}, \"129\": {\"103\": 1, \"129\": 5, \"110\": 2, \"11\": 3, \"93\": 1, \"32\": 1, \"87\": 2, \"5\": 3, \"124\": 1, \"83\": 1, \"55\": 1, \"127\": 2, \"98\": 2, \"10\": 1, \"107\": 1, \"34\": 1}, \"97\": {\"97\": 13, \"9\": 2, \"6\": 1, \"24\": 1, \"15\": 1, \"94\": 1, \"25\": 1}}, \"Wisig_1\": {\"105\": {\"105\": 70, \"84\": 1, \"40\": 6, \"114\": 3, \"1\": 2, \"46\": 2}, \"100\": {\"100\": 14, \"129\": 1, \"99\": 1}, \"112\": {\"112\": 15, \"111\": 1}, \"123\": {\"123\": 15, \"121\": 1}, \"13\": {\"13\": 8, \"26\": 3, \"11\": 2, \"118\": 1, \"18\": 2}, \"81\": {\"81\": 22, \"122\": 1, \"60\": 1, \"20\": 1, \"114\": 1, \"7\": 2}, \"124\": {\"124\": 88, \"31\": 2, \"93\": 5, \"8\": 11, \"5\": 6, \"107\": 2, \"70\": 1, \"117\": 1, \"4\": 2, \"34\": 1, \"19\": 1}, \"122\": {\"81\": 2, \"122\": 58, \"38\": 1, \"23\": 1, \"22\": 1, \"43\": 9, \"7\": 5, \"1\": 4, \"120\": 2, \"60\": 2, \"84\": 1, \"82\": 1, \"14\": 1}, \"111\": {\"112\": 1, \"111\": 102, \"71\": 7, \"49\": 1, \"127\": 2, \"18\": 1, \"125\": 3, \"32\": 2, \"102\": 1}, \"93\": {\"86\": 3, \"124\": 17, \"93\": 71, \"31\": 1, \"109\": 2, \"23\": 1, \"8\": 15, \"85\": 1, \"44\": 5, \"10\": 2, \"15\": 1, \"4\": 5, \"87\": 1, \"11\": 2, \"14\": 2, \"40\": 6, \"7\": 1, \"70\": 5, \"84\": 1, \"55\": 1, \"19\": 1, \"128\": 2, \"126\": 3, \"129\": 1, \"105\": 1, \"5\": 3, \"114\": 1, \"107\": 3}, \"106\": {\"106\": 93, \"0\": 2, \"127\": 4, \"70\": 2, \"98\": 8, \"88\": 1, \"12\": 2, \"110\": 2, \"24\": 1, \"113\": 1, \"111\": 1, \"39\": 1}, \"113\": {\"113\": 110, \"18\": 6, \"118\": 2, \"16\": 4, \"66\": 2}, \"95\": {\"95\": 29, \"26\": 3, \"118\": 3, \"117\": 1}, \"87\": {\"122\": 2, \"87\": 48, \"14\": 8, \"16\": 1, \"129\": 2, \"1\": 9, \"114\": 16, \"84\": 6, \"105\": 4, \"40\": 6, \"64\": 1, \"81\": 1, \"42\": 1, \"18\": 1, \"93\": 1, \"43\": 1}, \"86\": {\"86\": 26, \"24\": 1, \"93\": 1, \"83\": 3, \"4\": 3, \"31\": 2}, \"67\": {\"67\": 13, \"116\": 3}, \"85\": {\"85\": 27, \"86\": 1, \"107\": 4}, \"82\": {\"82\": 34, \"25\": 1, \"7\": 1}, \"115\": {\"115\": 11, \"25\": 1}, \"7\": {\"7\": 127, \"82\": 3, \"81\": 1, \"28\": 3, \"62\": 1, \"129\": 1, \"25\": 2, \"11\": 1, \"114\": 1, \"43\": 2}, \"44\": {\"44\": 71, \"19\": 1, \"70\": 1, \"14\": 2, \"42\": 1}, \"65\": {\"16\": 1, \"115\": 1, \"65\": 2, \"7\": 1, \"95\": 2, \"74\": 1, \"63\": 1, \"33\": 1, \"119\": 1, \"28\": 1}, \"129\": {\"65\": 1, \"76\": 1, \"128\": 2, \"19\": 1, \"129\": 7, \"62\": 1, \"23\": 1, \"27\": 1, \"99\": 2, \"3\": 1, \"73\": 2, \"33\": 1, \"8\": 3, \"7\": 1, \"11\": 2, \"101\": 1}, \"42\": {\"129\": 2, \"85\": 1, \"93\": 2, \"60\": 2, \"86\": 2, \"31\": 4, \"4\": 2, \"62\": 2, \"1\": 1, \"49\": 2, \"3\": 1, \"19\": 1, \"42\": 2, \"20\": 1, \"82\": 2, \"5\": 1}, \"28\": {\"10\": 1, \"28\": 14, \"74\": 2, \"7\": 2, \"24\": 1}, \"0\": {\"0\": 55, \"39\": 1, \"110\": 11, \"91\": 2, \"10\": 1, \"98\": 7, \"107\": 1, \"37\": 1, \"103\": 1, \"24\": 1, \"29\": 1, \"49\": 1, \"124\": 1}, \"10\": {\"10\": 52, \"85\": 3, \"42\": 1, \"54\": 1, \"108\": 2, \"35\": 1, \"107\": 14, \"89\": 2, \"70\": 7, \"126\": 12, \"23\": 1, \"5\": 6, \"4\": 2, \"8\": 4, \"110\": 1, \"93\": 1, \"124\": 4, \"86\": 2, \"31\": 2, \"0\": 2}, \"76\": {\"76\": 8, \"66\": 1, \"62\": 1, \"33\": 1, \"126\": 1, \"99\": 2, \"80\": 2}, \"88\": {\"88\": 73, \"6\": 1, \"109\": 3, \"58\": 1, \"27\": 12, \"12\": 3, \"94\": 7, \"15\": 3, \"36\": 12, \"24\": 9, \"108\": 2}, \"29\": {\"29\": 21, \"0\": 1, \"75\": 1, \"72\": 4, \"49\": 1}, \"16\": {\"16\": 79, \"118\": 11, \"26\": 5, \"63\": 1, \"117\": 4, \"18\": 6, \"39\": 1, \"113\": 1}, \"41\": {\"41\": 16}, \"27\": {\"27\": 75, \"94\": 3, \"88\": 5, \"15\": 4, \"70\": 1, \"30\": 2, \"24\": 1, \"0\": 1}, \"33\": {\"33\": 89, \"2\": 1, \"62\": 11, \"102\": 5, \"90\": 11, \"67\": 1, \"121\": 1, \"87\": 1}, \"75\": {\"75\": 15, \"89\": 1}, \"48\": {\"48\": 10, \"22\": 1, \"120\": 1}, \"56\": {\"75\": 2, \"92\": 2, \"56\": 2, \"27\": 1, \"37\": 1, \"98\": 2, \"91\": 2}, \"9\": {\"9\": 25, \"49\": 1, \"10\": 1, \"23\": 3, \"29\": 1, \"117\": 1}, \"1\": {\"1\": 106, \"42\": 3, \"122\": 2, \"87\": 3, \"43\": 4, \"84\": 6, \"18\": 1, \"7\": 1}, \"39\": {\"39\": 41, \"65\": 1, \"117\": 17, \"119\": 1, \"18\": 19, \"25\": 1, \"95\": 1, \"118\": 3, \"26\": 7, \"11\": 2, \"16\": 3, \"33\": 2, \"67\": 1, \"2\": 1, \"13\": 2, \"70\": 1, \"109\": 1}, \"50\": {\"39\": 2, \"50\": 10, \"4\": 1, \"11\": 1, \"90\": 1, \"10\": 1}, \"99\": {\"99\": 18, \"100\": 1, \"39\": 1, \"3\": 1, \"62\": 1, \"33\": 1, \"116\": 1}, \"90\": {\"90\": 92, \"33\": 13, \"116\": 1, \"62\": 15, \"102\": 1}, \"45\": {\"78\": 1, \"7\": 1, \"112\": 1, \"28\": 1, \"45\": 2, \"64\": 2, \"115\": 2, \"20\": 1, \"39\": 1}, \"5\": {\"5\": 66, \"128\": 1, \"124\": 9, \"8\": 9, \"93\": 2, \"4\": 1}, \"128\": {\"53\": 2, \"119\": 2, \"28\": 1, \"98\": 1, \"128\": 4, \"80\": 1, \"99\": 1, \"23\": 1, \"25\": 1, \"74\": 1, \"47\": 1, \"7\": 2, \"72\": 1, \"115\": 1, \"81\": 1, \"103\": 1, \"11\": 1, \"106\": 1}, \"2\": {\"7\": 1, \"90\": 1, \"76\": 1, \"2\": 10, \"74\": 2, \"82\": 2, \"66\": 1, \"60\": 2, \"18\": 1, \"33\": 2, \"119\": 1, \"10\": 1, \"50\": 1, \"39\": 1, \"129\": 1, \"100\": 2, \"102\": 2}, \"53\": {\"53\": 15, \"32\": 2, \"75\": 3}, \"104\": {\"104\": 10, \"34\": 2, \"73\": 2, \"19\": 2}, \"32\": {\"32\": 18, \"53\": 1, \"72\": 1, \"97\": 1, \"58\": 2, \"12\": 2, \"91\": 1, \"106\": 2, \"111\": 2, \"46\": 1, \"110\": 1}, \"92\": {\"92\": 28}, \"78\": {\"129\": 3, \"7\": 1, \"64\": 1, \"13\": 1, \"78\": 4, \"80\": 1, \"74\": 2, \"22\": 1, \"90\": 1, \"81\": 1}, \"19\": {\"86\": 2, \"64\": 2, \"1\": 3, \"84\": 1, \"9\": 1, \"14\": 1, \"104\": 3, \"19\": 4, \"57\": 1, \"89\": 1, \"42\": 2, \"93\": 1, \"0\": 2, \"107\": 1, \"128\": 1, \"129\": 2}, \"120\": {\"120\": 16, \"22\": 1, \"47\": 1, \"81\": 2}, \"43\": {\"64\": 2, \"60\": 1, \"57\": 1, \"43\": 68, \"122\": 12, \"25\": 1, \"114\": 4, \"1\": 14, \"7\": 10, \"87\": 1, \"24\": 1, \"106\": 1, \"38\": 1, \"81\": 2, \"113\": 1, \"84\": 3, \"93\": 1, \"39\": 1, \"109\": 3}, \"74\": {\"28\": 2, \"74\": 13, \"7\": 1}, \"11\": {\"28\": 1, \"11\": 76, \"13\": 1, \"78\": 1, \"3\": 9, \"33\": 7, \"117\": 1, \"43\": 1, \"90\": 11, \"108\": 1, \"62\": 3, \"7\": 10, \"74\": 2, \"50\": 1, \"118\": 1, \"26\": 1, \"129\": 2, \"82\": 1}, \"26\": {\"26\": 93, \"95\": 3, \"119\": 1, \"16\": 8, \"118\": 8, \"117\": 7, \"18\": 5, \"39\": 4, \"69\": 3}, \"125\": {\"125\": 128, \"111\": 3, \"112\": 1}, \"64\": {\"64\": 14, \"1\": 1, \"20\": 1}, \"127\": {\"53\": 1, \"127\": 83, \"32\": 2, \"58\": 1, \"15\": 1, \"111\": 7, \"106\": 1, \"71\": 3, \"98\": 1, \"68\": 4, \"12\": 1, \"91\": 1, \"69\": 1, \"94\": 1}, \"83\": {\"83\": 17, \"86\": 4, \"40\": 2, \"30\": 1, \"41\": 1, \"4\": 1, \"124\": 2}, \"118\": {\"118\": 42, \"2\": 1, \"16\": 8, \"116\": 2, \"63\": 1, \"26\": 13, \"18\": 9, \"119\": 1, \"117\": 3, \"95\": 2, \"109\": 1, \"39\": 1}, \"103\": {\"103\": 10, \"72\": 1, \"29\": 2, \"71\": 1, \"106\": 2}, \"55\": {\"55\": 12}, \"110\": {\"103\": 2, \"110\": 99, \"0\": 9, \"98\": 9, \"4\": 1, \"23\": 1, \"12\": 2, \"6\": 2, \"106\": 1}, \"30\": {\"55\": 1, \"30\": 21, \"70\": 1, \"94\": 3, \"53\": 2, \"15\": 4, \"52\": 3, \"21\": 1, \"24\": 3, \"27\": 2, \"88\": 1, \"11\": 1, \"59\": 2, \"72\": 1, \"4\": 1, \"10\": 2, \"12\": 2, \"14\": 1}, \"51\": {\"51\": 14, \"111\": 1, \"32\": 1}, \"6\": {\"103\": 2, \"6\": 11, \"75\": 2, \"52\": 1, \"68\": 1, \"110\": 2, \"98\": 2, \"127\": 1, \"106\": 2, \"27\": 1, \"51\": 1, \"29\": 1, \"34\": 1, \"89\": 2, \"94\": 1, \"88\": 1}, \"96\": {\"60\": 1, \"79\": 2, \"96\": 11, \"1\": 1, \"20\": 2, \"12\": 1, \"126\": 1, \"14\": 1}, \"114\": {\"114\": 133, \"87\": 5, \"121\": 1, \"40\": 1, \"122\": 1, \"39\": 1, \"84\": 2}, \"69\": {\"69\": 95, \"39\": 1, \"117\": 2, \"102\": 4, \"76\": 2, \"26\": 2, \"18\": 1, \"33\": 1}, \"60\": {\"60\": 2, \"26\": 1, \"34\": 1, \"13\": 1, \"66\": 1, \"107\": 1, \"42\": 2, \"57\": 1, \"16\": 1, \"2\": 1, \"118\": 1, \"4\": 1, \"69\": 1, \"85\": 1}, \"94\": {\"94\": 69, \"27\": 5, \"89\": 1, \"15\": 2, \"6\": 1, \"36\": 2, \"30\": 5, \"101\": 1, \"88\": 4, \"14\": 1, \"98\": 1}, \"79\": {\"79\": 11, \"14\": 1}, \"126\": {\"126\": 108, \"70\": 6, \"73\": 1, \"12\": 1, \"104\": 1, \"87\": 1, \"93\": 3, \"8\": 2, \"124\": 2, \"39\": 1, \"79\": 1, \"44\": 7}, \"68\": {\"68\": 14, \"111\": 1, \"127\": 1}, \"72\": {\"75\": 1, \"72\": 25, \"29\": 5, \"128\": 1}, \"63\": {\"63\": 12, \"16\": 2, \"118\": 1, \"95\": 1}, \"22\": {\"22\": 11, \"120\": 1, \"1\": 2, \"7\": 1, \"6\": 1}, \"121\": {\"63\": 2, \"121\": 20, \"118\": 2, \"117\": 4, \"123\": 3, \"15\": 1}, \"71\": {\"111\": 9, \"6\": 1, \"71\": 82, \"27\": 1, \"118\": 1, \"53\": 1, \"58\": 1, \"12\": 4, \"127\": 1, \"24\": 1, \"43\": 1, \"52\": 1, \"106\": 1, \"110\": 1, \"102\": 1, \"113\": 1}, \"54\": {\"54\": 15, \"98\": 1}, \"102\": {\"102\": 106, \"113\": 1, \"33\": 7, \"90\": 2, \"2\": 2, \"69\": 1, \"62\": 1}, \"73\": {\"73\": 17, \"29\": 1, \"58\": 1, \"71\": 1}, \"38\": {\"38\": 16}, \"4\": {\"86\": 4, \"4\": 69, \"124\": 2, \"93\": 6, \"8\": 6, \"105\": 1, \"113\": 1, \"5\": 4, \"60\": 1, \"83\": 2, \"107\": 2, \"118\": 2}, \"52\": {\"52\": 20}, \"70\": {\"91\": 1, \"86\": 3, \"70\": 36, \"126\": 10, \"34\": 2, \"10\": 8, \"44\": 3, \"23\": 1, \"83\": 1, \"124\": 17, \"128\": 2, \"5\": 6, \"109\": 1, \"8\": 9, \"118\": 1, \"14\": 2, \"93\": 11, \"108\": 2, \"107\": 3, \"89\": 2, \"9\": 2, \"12\": 4, \"125\": 1}, \"91\": {\"72\": 1, \"91\": 13, \"17\": 1, \"53\": 1, \"35\": 1, \"127\": 5, \"32\": 1, \"46\": 2, \"0\": 1, \"112\": 1, \"89\": 1}, \"77\": {\"77\": 13, \"117\": 1, \"91\": 2}, \"20\": {\"20\": 13, \"64\": 2, \"115\": 1}, \"59\": {\"59\": 12}, \"40\": {\"40\": 122, \"87\": 2, \"118\": 1, \"105\": 4, \"7\": 1, \"114\": 3, \"28\": 1, \"41\": 1, \"102\": 1}, \"98\": {\"46\": 1, \"98\": 95, \"106\": 4, \"110\": 6, \"91\": 2}, \"46\": {\"40\": 1, \"59\": 3, \"94\": 1, \"38\": 1, \"120\": 1, \"32\": 2, \"53\": 1, \"114\": 1, \"87\": 1}, \"34\": {\"14\": 2, \"72\": 1, \"77\": 4, \"34\": 11, \"68\": 1, \"98\": 1, \"23\": 1, \"37\": 2, \"84\": 2, \"93\": 3, \"124\": 1, \"91\": 1, \"53\": 1, \"43\": 1}, \"24\": {\"24\": 57, \"27\": 8, \"113\": 2, \"30\": 2, \"101\": 2, \"36\": 1, \"88\": 11, \"94\": 3, \"15\": 3, \"97\": 2, \"39\": 1}, \"62\": {\"62\": 86, \"76\": 1, \"66\": 1, \"90\": 15, \"33\": 6, \"102\": 3, \"11\": 1, \"74\": 1, \"3\": 3, \"125\": 1, \"113\": 1, \"26\": 1}, \"14\": {\"14\": 89, \"79\": 1, \"87\": 2, \"93\": 2, \"84\": 1, \"43\": 1}, \"12\": {\"12\": 79, \"51\": 3, \"32\": 1, \"106\": 3, \"111\": 7, \"101\": 1, \"0\": 1, \"47\": 1, \"75\": 1, \"121\": 1, \"71\": 1, \"113\": 1, \"39\": 1, \"98\": 2, \"24\": 1}, \"84\": {\"84\": 111, \"87\": 5, \"114\": 5, \"14\": 3, \"107\": 1, \"1\": 3, \"8\": 1, \"40\": 2, \"109\": 1, \"105\": 1, \"39\": 1}, \"37\": {\"37\": 16}, \"97\": {\"97\": 11, \"32\": 1, \"12\": 2, \"101\": 1, \"29\": 2, \"128\": 1, \"15\": 1, \"49\": 1}, \"57\": {\"57\": 11, \"39\": 1}, \"49\": {\"32\": 2, \"49\": 5, \"101\": 1, \"35\": 2, \"124\": 2, \"12\": 1, \"31\": 2, \"10\": 1, \"58\": 1, \"23\": 1, \"71\": 2}, \"17\": {\"98\": 2, \"77\": 2, \"92\": 2, \"91\": 1, \"17\": 6, \"2\": 1, \"15\": 1, \"0\": 1}, \"109\": {\"1\": 5, \"39\": 1, \"122\": 3, \"109\": 70, \"82\": 2, \"3\": 3, \"7\": 1, \"70\": 1, \"43\": 6, \"5\": 1, \"62\": 1, \"106\": 1, \"11\": 2, \"84\": 2, \"100\": 2, \"71\": 2, \"21\": 1, \"126\": 1, \"113\": 1}, \"80\": {\"80\": 15, \"43\": 1}, \"66\": {\"66\": 16}, \"101\": {\"101\": 121, \"15\": 2, \"117\": 1}, \"89\": {\"89\": 32, \"23\": 2, \"107\": 1, \"84\": 1}, \"31\": {\"31\": 14, \"124\": 1, \"10\": 1}, \"21\": {\"94\": 1, \"21\": 18, \"14\": 3, \"1\": 4, \"15\": 1, \"44\": 1, \"12\": 1, \"87\": 2, \"113\": 1, \"39\": 2, \"71\": 1, \"126\": 1, \"122\": 1, \"109\": 1, \"116\": 1, \"84\": 1}, \"23\": {\"100\": 2, \"62\": 1, \"34\": 1, \"18\": 1, \"110\": 2, \"23\": 1, \"98\": 1, \"69\": 1, \"11\": 1, \"0\": 2, \"29\": 2, \"47\": 1, \"50\": 1, \"55\": 2, \"99\": 1, \"91\": 1, \"82\": 1, \"66\": 1, \"49\": 1}, \"25\": {\"23\": 1, \"25\": 7, \"43\": 3, \"7\": 1, \"74\": 2, \"30\": 1, \"115\": 1}, \"107\": {\"107\": 101, \"85\": 1, \"8\": 2, \"5\": 1, \"113\": 1, \"110\": 2, \"70\": 1, \"124\": 1, \"94\": 1, \"10\": 1}, \"3\": {\"60\": 2, \"3\": 75, \"24\": 1, \"62\": 2, \"33\": 3, \"126\": 1, \"66\": 1, \"88\": 2, \"90\": 1}, \"61\": {\"61\": 9, \"116\": 1, \"90\": 1, \"32\": 1}, \"117\": {\"117\": 97, \"26\": 7, \"18\": 11, \"16\": 4, \"69\": 4, \"95\": 1, \"39\": 2}, \"119\": {\"119\": 13, \"16\": 1, \"33\": 1, \"0\": 1}, \"58\": {\"58\": 12}, \"47\": {\"47\": 12}, \"116\": {\"116\": 16, \"22\": 1, \"33\": 6, \"69\": 2, \"62\": 3, \"102\": 1, \"67\": 1, \"119\": 1, \"11\": 1}, \"18\": {\"18\": 98, \"16\": 4, \"117\": 12, \"39\": 4, \"113\": 2, \"118\": 2, \"26\": 2}, \"36\": {\"36\": 111, \"118\": 1, \"6\": 2, \"88\": 2, \"39\": 1, \"97\": 2, \"24\": 2, \"113\": 1}, \"108\": {\"17\": 1, \"91\": 1, \"29\": 2, \"108\": 74, \"101\": 14, \"12\": 3, \"88\": 2, \"126\": 1, \"36\": 2, \"70\": 1, \"109\": 2, \"47\": 2, \"104\": 1, \"72\": 1, \"96\": 1, \"53\": 1, \"21\": 1, \"71\": 1, \"106\": 1}, \"15\": {\"15\": 84, \"111\": 4, \"125\": 2, \"71\": 4, \"127\": 3, \"112\": 1, \"12\": 1, \"94\": 3, \"117\": 1, \"101\": 1}, \"8\": {\"128\": 2, \"4\": 11, \"8\": 51, \"44\": 3, \"83\": 1, \"93\": 21, \"124\": 9, \"5\": 5, \"10\": 3, \"86\": 1, \"107\": 5, \"70\": 1, \"84\": 1}, \"35\": {\"31\": 2, \"35\": 9, \"34\": 1}}, \"Wisig_2\": {\"3\": {\"3\": 102, \"110\": 1, \"107\": 2, \"5\": 6, \"122\": 6, \"7\": 5, \"105\": 1, \"124\": 1, \"117\": 2, \"73\": 2, \"39\": 2, \"71\": 1, \"70\": 1}, \"127\": {\"127\": 96, \"21\": 1, \"12\": 4, \"98\": 10, \"8\": 3, \"124\": 1, \"111\": 1, \"122\": 1, \"35\": 1, \"110\": 2}, \"58\": {\"58\": 20}, \"114\": {\"86\": 2, \"114\": 96, \"32\": 2, \"85\": 1, \"4\": 2, \"7\": 1, \"71\": 4, \"46\": 1, \"21\": 1, \"5\": 1, \"124\": 1}, \"111\": {\"111\": 131, \"77\": 1, \"127\": 4, \"114\": 1, \"15\": 2, \"125\": 1, \"98\": 1, \"93\": 1, \"30\": 2}, \"105\": {\"105\": 113, \"40\": 13, \"55\": 1, \"122\": 1, \"73\": 1, \"1\": 1, \"7\": 1, \"33\": 1}, \"118\": {\"114\": 1, \"118\": 32, \"102\": 2, \"62\": 3, \"84\": 7, \"33\": 5, \"16\": 4, \"14\": 1, \"90\": 2, \"43\": 1, \"93\": 1, \"38\": 1, \"116\": 1, \"96\": 2, \"94\": 1, \"119\": 2, \"13\": 1, \"36\": 1}, \"23\": {\"86\": 1, \"99\": 2, \"112\": 2, \"117\": 5, \"113\": 5, \"11\": 2, \"122\": 3, \"78\": 1, \"124\": 2, \"23\": 7, \"2\": 2, \"18\": 2, \"1\": 1, \"34\": 3, \"26\": 2, \"87\": 1, \"73\": 1, \"85\": 1, \"4\": 1}, \"21\": {\"21\": 42, \"118\": 2, \"24\": 3, \"85\": 1}, \"20\": {\"99\": 1, \"20\": 12, \"16\": 2, \"21\": 1}, \"75\": {\"75\": 13, \"49\": 2, \"1\": 1}, \"86\": {\"86\": 30, \"114\": 2}, \"60\": {\"118\": 2, \"14\": 1, \"116\": 2, \"60\": 6, \"78\": 1, \"83\": 1, \"95\": 1, \"44\": 2, \"62\": 1, \"88\": 1, \"82\": 1, \"3\": 1, \"38\": 2, \"46\": 1, \"89\": 1, \"43\": 1, \"81\": 1, \"36\": 1, \"84\": 1}, \"69\": {\"69\": 111, \"120\": 2, \"72\": 2, \"102\": 5, \"90\": 5, \"121\": 1, \"18\": 3, \"88\": 1, \"43\": 1, \"117\": 1, \"26\": 1, \"57\": 2, \"109\": 1, \"94\": 1, \"39\": 2, \"62\": 1}, \"99\": {\"99\": 27, \"20\": 1, \"120\": 1, \"85\": 1, \"2\": 2}, \"14\": {\"14\": 23, \"78\": 2, \"55\": 2, \"45\": 2, \"116\": 2, \"72\": 2, \"61\": 2, \"96\": 1, \"110\": 1, \"115\": 2, \"107\": 1, \"40\": 1, \"73\": 2, \"71\": 1, \"42\": 1, \"105\": 1, \"126\": 1, \"21\": 1}, \"25\": {\"25\": 15, \"15\": 1}, \"52\": {\"30\": 2, \"125\": 1, \"51\": 2, \"52\": 14, \"75\": 1}, \"47\": {\"47\": 8, \"29\": 1, \"101\": 1, \"118\": 1, \"30\": 1}, \"48\": {\"48\": 16, \"15\": 1, \"90\": 1, \"92\": 1, \"63\": 1}, \"27\": {\"27\": 46, \"20\": 1, \"0\": 2, \"87\": 1, \"101\": 3, \"70\": 1, \"24\": 3, \"11\": 1, \"39\": 1, \"8\": 1, \"18\": 1, \"36\": 2, \"113\": 1, \"15\": 2, \"109\": 1, \"126\": 1}, \"78\": {\"78\": 10, \"33\": 1, \"66\": 1, \"115\": 1, \"126\": 3, \"105\": 3, \"49\": 1, \"50\": 3, \"61\": 1, \"1\": 7, \"88\": 2, \"121\": 1, \"10\": 2, \"44\": 2, \"118\": 1, \"62\": 3, \"14\": 1, \"55\": 1, \"60\": 2, \"113\": 1, \"70\": 1}, \"8\": {\"8\": 84, \"35\": 1, \"108\": 5, \"77\": 2, \"29\": 2, \"128\": 2, \"11\": 1, \"126\": 2, \"12\": 3, \"127\": 9, \"111\": 3, \"98\": 2, \"124\": 1, \"93\": 1, \"101\": 2, \"5\": 1, \"88\": 1}, \"90\": {\"90\": 141, \"99\": 1, \"102\": 10, \"87\": 3, \"26\": 1, \"116\": 1, \"31\": 1, \"83\": 1, \"117\": 1}, \"103\": {\"103\": 14, \"111\": 1, \"59\": 1}, \"120\": {\"120\": 15, \"117\": 1, \"18\": 1, \"121\": 2, \"26\": 1}, \"96\": {\"96\": 11, \"119\": 2, \"93\": 4, \"87\": 1, \"13\": 2}, \"30\": {\"30\": 64, \"6\": 3, \"101\": 2, \"52\": 2, \"125\": 7, \"0\": 6, \"106\": 9, \"8\": 1, \"15\": 1, \"16\": 1, \"75\": 1, \"11\": 1, \"54\": 1, \"108\": 1, \"90\": 1, \"24\": 1, \"10\": 1, \"109\": 1}, \"33\": {\"33\": 133, \"80\": 2, \"84\": 7, \"118\": 1, \"81\": 1, \"82\": 1, \"90\": 1}, \"35\": {\"35\": 11, \"30\": 1}, \"108\": {\"108\": 55, \"68\": 1, \"79\": 1, \"124\": 4, \"12\": 8, \"8\": 13, \"98\": 4, \"0\": 1, \"127\": 14, \"111\": 6, \"101\": 2, \"49\": 2, \"29\": 4, \"88\": 1}, \"112\": {\"112\": 11, \"124\": 2, \"11\": 1, \"122\": 2}, \"40\": {\"40\": 94, \"28\": 2, \"3\": 8, \"21\": 1, \"78\": 1, \"105\": 15, \"10\": 1, \"108\": 2, \"94\": 1, \"44\": 1, \"70\": 2, \"1\": 2, \"14\": 2, \"7\": 4, \"4\": 1, \"5\": 1, \"26\": 1, \"18\": 1}, \"102\": {\"102\": 97, \"90\": 14, \"30\": 1, \"122\": 1, \"26\": 1, \"1\": 1, \"70\": 1}, \"56\": {\"56\": 12}, \"93\": {\"93\": 114, \"96\": 3, \"16\": 10, \"109\": 1, \"87\": 4, \"90\": 1, \"84\": 1, \"39\": 1, \"33\": 1}, \"68\": {\"68\": 12, \"127\": 1, \"42\": 2, \"14\": 1}, \"70\": {\"70\": 40, \"105\": 8, \"43\": 14, \"23\": 1, \"84\": 3, \"118\": 1, \"44\": 9, \"82\": 2, \"126\": 7, \"1\": 8, \"16\": 3, \"87\": 1, \"107\": 1, \"62\": 3, \"3\": 1, \"40\": 2, \"117\": 1, \"50\": 1, \"78\": 3, \"113\": 1, \"14\": 1, \"88\": 7, \"109\": 2, \"33\": 2, \"26\": 2}, \"7\": {\"71\": 9, \"7\": 78, \"19\": 3, \"4\": 16, \"129\": 1, \"122\": 3, \"3\": 2, \"5\": 5, \"56\": 1, \"32\": 2, \"92\": 1, \"66\": 1, \"110\": 1, \"114\": 1}, \"87\": {\"93\": 7, \"60\": 1, \"87\": 39, \"123\": 1, \"38\": 1, \"88\": 2, \"116\": 2, \"83\": 1, \"89\": 2, \"13\": 2, \"62\": 1, \"10\": 1, \"33\": 7, \"90\": 10, \"7\": 1, \"84\": 3, \"102\": 7, \"16\": 3, \"69\": 1, \"109\": 10, \"44\": 1, \"63\": 1, \"43\": 1, \"113\": 1, \"1\": 2, \"39\": 1, \"2\": 1, \"40\": 1, \"70\": 1}, \"54\": {\"40\": 1, \"54\": 17, \"124\": 2}, \"71\": {\"71\": 57, \"110\": 1, \"4\": 10, \"107\": 4, \"11\": 2, \"5\": 6, \"32\": 1, \"88\": 1, \"36\": 1, \"7\": 3, \"39\": 2, \"114\": 2, \"122\": 2, \"23\": 1, \"21\": 1, \"85\": 1, \"3\": 2, \"19\": 2, \"98\": 1}, \"80\": {\"80\": 16}, \"18\": {\"18\": 87, \"65\": 2, \"117\": 18, \"121\": 5, \"33\": 4, \"69\": 4, \"26\": 2}, \"101\": {\"101\": 102, \"126\": 1, \"15\": 6, \"106\": 3, \"30\": 1, \"125\": 2, \"94\": 3, \"0\": 2, \"111\": 2}, \"92\": {\"92\": 25, \"71\": 1, \"13\": 2}, \"32\": {\"128\": 1, \"32\": 13, \"28\": 2, \"5\": 1, \"95\": 1, \"86\": 1, \"40\": 1, \"122\": 3, \"3\": 2, \"1\": 1, \"107\": 2, \"7\": 2, \"74\": 1, \"34\": 1, \"37\": 1, \"71\": 2, \"58\": 1}, \"128\": {\"51\": 4, \"40\": 2, \"128\": 2, \"14\": 3, \"46\": 2, \"127\": 1, \"45\": 2, \"5\": 1, \"104\": 1, \"60\": 2, \"64\": 1, \"125\": 1, \"37\": 2}, \"6\": {\"51\": 2, \"15\": 1, \"6\": 17, \"127\": 1, \"106\": 3, \"75\": 1, \"103\": 1, \"27\": 2, \"94\": 2, \"36\": 1, \"35\": 1}, \"51\": {\"6\": 2, \"51\": 14, \"8\": 1, \"54\": 1, \"125\": 1, \"10\": 1}, \"85\": {\"32\": 3, \"85\": 19, \"115\": 2, \"71\": 1, \"110\": 1, \"124\": 1, \"128\": 1, \"5\": 2, \"114\": 2}, \"46\": {\"22\": 4, \"46\": 10, \"115\": 1, \"1\": 1}, \"22\": {\"22\": 18, \"78\": 1, \"45\": 1}, \"1\": {\"1\": 102, \"78\": 4, \"61\": 2, \"43\": 6, \"33\": 1, \"18\": 1, \"62\": 2, \"16\": 1, \"87\": 1, \"69\": 1, \"44\": 1}, \"37\": {\"37\": 16}, \"44\": {\"44\": 93, \"109\": 1, \"43\": 2, \"0\": 1, \"60\": 2, \"23\": 1}, \"24\": {\"42\": 1, \"24\": 57, \"0\": 10, \"15\": 14, \"127\": 1, \"27\": 2, \"101\": 5, \"106\": 2, \"62\": 1, \"94\": 3, \"16\": 1, \"39\": 2, \"26\": 1, \"125\": 4, \"30\": 1, \"12\": 1, \"21\": 1, \"97\": 2, \"36\": 2, \"18\": 1}, \"9\": {\"9\": 30, \"111\": 2}, \"116\": {\"116\": 12, \"82\": 7, \"87\": 1, \"102\": 1, \"48\": 1, \"126\": 1, \"67\": 1, \"80\": 1, \"89\": 1, \"118\": 1, \"84\": 1}, \"64\": {\"64\": 15, \"105\": 1}, \"129\": {\"129\": 19, \"112\": 2, \"11\": 1, \"123\": 3, \"5\": 2, \"110\": 1, \"122\": 2, \"100\": 1, \"3\": 1}, \"42\": {\"47\": 2, \"42\": 8, \"97\": 1, \"3\": 2, \"69\": 1, \"122\": 1, \"110\": 2, \"0\": 1, \"127\": 1, \"46\": 1, \"5\": 1, \"51\": 1, \"77\": 1, \"123\": 1, \"66\": 1, \"125\": 1, \"71\": 1, \"30\": 1}, \"117\": {\"117\": 90, \"18\": 13, \"65\": 3, \"120\": 1, \"69\": 2, \"26\": 5, \"39\": 2, \"93\": 1, \"113\": 3}, \"88\": {\"61\": 1, \"83\": 2, \"88\": 40, \"109\": 7, \"60\": 1, \"62\": 4, \"36\": 2, \"33\": 4, \"118\": 3, \"43\": 6, \"1\": 7, \"93\": 9, \"70\": 7, \"16\": 9, \"12\": 1, \"87\": 1, \"105\": 1, \"84\": 2, \"90\": 1, \"67\": 2, \"14\": 1, \"45\": 2, \"71\": 1, \"100\": 1, \"10\": 1, \"117\": 4, \"44\": 2, \"126\": 1, \"26\": 1}, \"31\": {\"31\": 16, \"33\": 1, \"13\": 1, \"90\": 1, \"69\": 1}, \"113\": {\"113\": 66, \"117\": 1, \"18\": 2, \"63\": 1, \"23\": 2}, \"38\": {\"38\": 16}, \"83\": {\"83\": 31, \"101\": 1, \"118\": 4, \"119\": 2, \"102\": 1, \"30\": 1}, \"49\": {\"29\": 1, \"97\": 1, \"79\": 2, \"51\": 2, \"110\": 2, \"49\": 6, \"129\": 1, \"53\": 1, \"5\": 1, \"106\": 1, \"3\": 1, \"124\": 1, \"88\": 1, \"30\": 1, \"128\": 1, \"32\": 1}, \"97\": {\"101\": 2, \"97\": 12, \"0\": 3, \"79\": 1, \"127\": 1, \"108\": 1}, \"76\": {\"76\": 14, \"64\": 2}, \"29\": {\"29\": 28, \"91\": 1, \"98\": 3}, \"61\": {\"40\": 2, \"61\": 11, \"43\": 2, \"50\": 1, \"5\": 1, \"115\": 1, \"82\": 2}, \"125\": {\"125\": 143, \"102\": 1, \"75\": 1, \"79\": 2, \"111\": 1}, \"126\": {\"126\": 79, \"57\": 1, \"99\": 1, \"44\": 8, \"0\": 1, \"9\": 1, \"62\": 3, \"19\": 1, \"70\": 13, \"43\": 1, \"71\": 1, \"3\": 3, \"77\": 2, \"129\": 1, \"73\": 1, \"53\": 1, \"10\": 1, \"87\": 1}, \"55\": {\"55\": 16}, \"0\": {\"97\": 3, \"0\": 67, \"27\": 1, \"101\": 6, \"125\": 2, \"24\": 3, \"8\": 2, \"111\": 2, \"106\": 6, \"30\": 5, \"15\": 2, \"92\": 1, \"108\": 1, \"42\": 1, \"58\": 2, \"21\": 1, \"33\": 1, \"70\": 1, \"98\": 1}, \"15\": {\"15\": 92, \"101\": 14, \"94\": 3, \"24\": 3, \"40\": 1, \"0\": 1, \"30\": 2, \"25\": 1, \"6\": 1, \"111\": 2}, \"26\": {\"26\": 109, \"99\": 2, \"117\": 6, \"39\": 5, \"121\": 1, \"18\": 6, \"40\": 1, \"2\": 2, \"65\": 1, \"63\": 1, \"0\": 1, \"93\": 1, \"69\": 2}, \"63\": {\"63\": 20}, \"57\": {\"57\": 20}, \"39\": {\"90\": 3, \"31\": 1, \"27\": 1, \"39\": 37, \"102\": 5, \"18\": 6, \"109\": 7, \"26\": 17, \"69\": 14, \"87\": 2, \"62\": 1, \"88\": 2, \"93\": 2, \"117\": 1, \"70\": 4, \"63\": 1, \"2\": 2, \"99\": 1, \"57\": 2, \"84\": 1, \"10\": 1, \"126\": 1}, \"62\": {\"62\": 108, \"43\": 5, \"55\": 1, \"81\": 1, \"83\": 3, \"1\": 4, \"39\": 1, \"100\": 2, \"16\": 2, \"70\": 1, \"33\": 6, \"47\": 1, \"116\": 1, \"82\": 2, \"88\": 1, \"101\": 1}, \"82\": {\"82\": 29, \"38\": 2, \"83\": 2, \"87\": 1, \"53\": 1, \"33\": 1}, \"11\": {\"11\": 58, \"49\": 2, \"70\": 1, \"129\": 1, \"112\": 1, \"124\": 7, \"24\": 1, \"122\": 5, \"114\": 1, \"128\": 2, \"39\": 1}, \"4\": {\"4\": 67, \"71\": 10, \"5\": 1, \"107\": 1, \"7\": 6, \"53\": 2, \"32\": 1}, \"41\": {\"41\": 20}, \"72\": {\"72\": 16, \"69\": 2, \"93\": 2, \"14\": 1, \"90\": 1, \"13\": 1, \"102\": 2, \"23\": 1, \"118\": 2}, \"16\": {\"16\": 72, \"82\": 1, \"116\": 1, \"24\": 1, \"93\": 15, \"102\": 4, \"87\": 8, \"33\": 7, \"90\": 7, \"39\": 1, \"110\": 1, \"67\": 1, \"119\": 1, \"84\": 2, \"118\": 2}, \"81\": {\"81\": 18, \"2\": 1, \"65\": 1, \"86\": 1, \"20\": 2, \"54\": 1}, \"67\": {\"67\": 12, \"84\": 2, \"55\": 2}, \"123\": {\"123\": 15, \"129\": 1}, \"66\": {\"66\": 11, \"56\": 1, \"115\": 2, \"28\": 2, \"32\": 2, \"122\": 1, \"14\": 1}, \"36\": {\"36\": 99, \"1\": 1, \"9\": 1, \"15\": 2, \"96\": 1, \"43\": 1, \"24\": 7, \"27\": 4, \"6\": 3, \"94\": 2, \"39\": 1, \"101\": 1, \"121\": 1, \"117\": 1, \"18\": 1, \"65\": 1, \"69\": 1}, \"115\": {\"115\": 9, \"74\": 2, \"21\": 1}, \"77\": {\"77\": 11, \"106\": 2, \"79\": 1, \"128\": 2}, \"119\": {\"119\": 19, \"83\": 1}, \"65\": {\"120\": 2, \"65\": 16, \"117\": 1, \"126\": 1}, \"34\": {\"42\": 2, \"34\": 21, \"98\": 2, \"32\": 1, \"11\": 1, \"68\": 1, \"54\": 1, \"86\": 1, \"122\": 1, \"29\": 1}, \"107\": {\"114\": 4, \"107\": 40, \"110\": 1, \"71\": 3, \"5\": 8, \"10\": 1, \"32\": 3, \"70\": 1, \"7\": 2, \"101\": 1}, \"13\": {\"13\": 11, \"102\": 2, \"69\": 1, \"89\": 2}, \"110\": {\"101\": 1, \"110\": 16, \"5\": 4, \"3\": 6, \"0\": 1, \"2\": 1, \"19\": 1, \"95\": 1, \"73\": 1, \"129\": 1, \"7\": 1, \"120\": 1, \"85\": 1, \"107\": 2, \"126\": 1, \"40\": 1}, \"106\": {\"106\": 96, \"101\": 5, \"30\": 3, \"125\": 2, \"98\": 1, \"51\": 2, \"111\": 2, \"114\": 1, \"88\": 1, \"0\": 3, \"15\": 2}, \"89\": {\"89\": 36}, \"94\": {\"0\": 5, \"94\": 30, \"40\": 1, \"58\": 1, \"87\": 1, \"12\": 1, \"6\": 1, \"15\": 6, \"21\": 2, \"101\": 6, \"106\": 1, \"16\": 1, \"90\": 1, \"24\": 3, \"71\": 1, \"126\": 1, \"88\": 1, \"127\": 1}, \"98\": {\"98\": 86, \"79\": 1, \"102\": 2, \"91\": 2, \"12\": 4, \"113\": 1, \"127\": 6, \"111\": 2, \"26\": 1, \"84\": 1, \"21\": 1, \"90\": 1, \"71\": 1, \"125\": 1, \"124\": 2}, \"91\": {\"91\": 20, \"59\": 2, \"98\": 1, \"125\": 1, \"114\": 1, \"35\": 1, \"92\": 1, \"54\": 1}, \"84\": {\"84\": 67, \"33\": 16, \"16\": 1, \"90\": 2, \"62\": 2, \"118\": 1, \"83\": 2, \"69\": 1}, \"73\": {\"9\": 1, \"73\": 21, \"3\": 5, \"19\": 1}, \"104\": {\"37\": 5, \"52\": 1, \"104\": 12, \"46\": 1, \"126\": 1}, \"59\": {\"59\": 9, \"30\": 1, \"127\": 1, \"91\": 1, \"128\": 2, \"49\": 2}, \"74\": {\"74\": 13, \"73\": 1, \"105\": 1, \"4\": 1}, \"28\": {\"28\": 13, \"59\": 1, \"4\": 1, \"95\": 2, \"85\": 1, \"107\": 2}, \"95\": {\"28\": 2, \"108\": 1, \"95\": 28, \"105\": 1, \"55\": 1, \"71\": 1, \"5\": 2}, \"2\": {\"81\": 2, \"2\": 20, \"69\": 3, \"23\": 2, \"48\": 1, \"99\": 1, \"39\": 1, \"33\": 1, \"117\": 1}, \"5\": {\"5\": 101, \"98\": 1, \"110\": 3, \"10\": 1, \"71\": 2, \"3\": 1, \"7\": 1, \"88\": 1, \"39\": 1}, \"50\": {\"50\": 11, \"69\": 1, \"40\": 1, \"45\": 1, \"22\": 2}, \"109\": {\"88\": 7, \"38\": 1, \"109\": 33, \"49\": 2, \"15\": 1, \"70\": 2, \"16\": 1, \"93\": 5, \"69\": 2, \"118\": 5, \"33\": 4, \"113\": 1, \"87\": 14, \"114\": 1, \"26\": 1, \"90\": 3, \"71\": 1, \"111\": 1, \"40\": 2, \"18\": 2, \"126\": 2, \"96\": 2, \"1\": 2, \"84\": 2, \"39\": 2, \"102\": 1}, \"10\": {\"10\": 21, \"71\": 6, \"108\": 3, \"95\": 2, \"5\": 3, \"4\": 3, \"88\": 1, \"129\": 2, \"126\": 3, \"11\": 4, \"7\": 3, \"107\": 2, \"85\": 2, \"117\": 1, \"32\": 1, \"19\": 1, \"3\": 1, \"109\": 1}, \"45\": {\"45\": 11, \"105\": 1, \"87\": 1, \"22\": 2, \"21\": 1}, \"121\": {\"121\": 23, \"65\": 1, \"113\": 5, \"18\": 3, \"117\": 2, \"99\": 1, \"120\": 1}, \"124\": {\"124\": 100, \"122\": 3, \"49\": 1, \"42\": 1, \"127\": 2, \"11\": 1, \"98\": 1, \"7\": 1}, \"53\": {\"79\": 1, \"110\": 4, \"53\": 7, \"3\": 2, \"67\": 1, \"25\": 1}, \"79\": {\"79\": 16}, \"43\": {\"55\": 2, \"62\": 8, \"70\": 2, \"44\": 3, \"61\": 2, \"43\": 49, \"81\": 1, \"1\": 11, \"78\": 3, \"40\": 3, \"110\": 1, \"88\": 5, \"105\": 8, \"109\": 2, \"18\": 1, \"3\": 1, \"84\": 1, \"33\": 2, \"82\": 2, \"16\": 2, \"122\": 1, \"101\": 1, \"93\": 2, \"24\": 1}, \"122\": {\"110\": 1, \"42\": 1, \"49\": 2, \"95\": 1, \"118\": 1, \"32\": 1, \"122\": 61, \"19\": 3, \"43\": 1, \"124\": 15, \"71\": 5, \"70\": 2, \"12\": 1, \"11\": 4, \"98\": 3, \"10\": 1, \"107\": 1, \"126\": 2, \"114\": 2, \"4\": 4, \"88\": 1, \"39\": 1, \"7\": 3, \"108\": 2, \"5\": 6, \"123\": 1, \"112\": 1, \"100\": 2, \"47\": 2, \"29\": 1, \"86\": 1, \"16\": 1, \"3\": 1, \"127\": 2, \"18\": 1}, \"100\": {\"100\": 10, \"1\": 2, \"44\": 1, \"70\": 1, \"118\": 1, \"62\": 1}, \"19\": {\"19\": 11, \"32\": 1, \"71\": 2, \"5\": 3, \"44\": 5, \"11\": 1, \"23\": 2, \"60\": 1, \"1\": 1, \"122\": 1}, \"12\": {\"12\": 43, \"110\": 3, \"77\": 1, \"29\": 2, \"114\": 2, \"127\": 9, \"98\": 5, \"108\": 1, \"8\": 2, \"88\": 2, \"122\": 1, \"124\": 7, \"5\": 1, \"128\": 1, \"49\": 2, \"11\": 1, \"109\": 1, \"111\": 3, \"70\": 1}, \"17\": {\"17\": 9, \"86\": 1, \"34\": 1, \"12\": 2, \"24\": 1, \"125\": 2}}, \"Wisig_3\": {\"38\": {\"38\": 15, \"115\": 1}, \"88\": {\"3\": 6, \"22\": 1, \"92\": 1, \"110\": 17, \"94\": 1, \"88\": 35, \"15\": 1, \"19\": 1, \"86\": 1, \"67\": 1, \"27\": 2, \"5\": 4, \"107\": 4, \"60\": 1, \"122\": 2, \"14\": 1, \"87\": 1, \"12\": 1, \"114\": 9, \"1\": 2, \"109\": 1, \"105\": 1, \"30\": 1, \"28\": 2, \"21\": 2, \"71\": 1, \"9\": 1, \"8\": 3, \"128\": 1, \"70\": 2, \"127\": 1, \"93\": 1, \"11\": 1, \"118\": 1, \"117\": 1}, \"104\": {\"104\": 15, \"4\": 1}, \"11\": {\"11\": 55, \"16\": 4, \"93\": 25, \"90\": 21, \"110\": 1, \"87\": 6, \"14\": 1, \"62\": 11, \"84\": 4, \"107\": 2, \"109\": 1, \"26\": 1, \"126\": 1, \"31\": 1, \"78\": 1, \"49\": 1, \"1\": 1, \"44\": 1, \"29\": 1, \"18\": 1}, \"103\": {\"103\": 13, \"102\": 1, \"105\": 1, \"1\": 1}, \"124\": {\"124\": 102, \"77\": 1, \"12\": 4, \"98\": 1, \"10\": 1, \"127\": 1, \"8\": 1, \"108\": 3, \"85\": 1, \"90\": 1}, \"3\": {\"3\": 85, \"101\": 2, \"86\": 3, \"71\": 3, \"9\": 1, \"4\": 10, \"5\": 5, \"114\": 3, \"0\": 1, \"105\": 2, \"11\": 1}, \"74\": {\"22\": 2, \"74\": 8, \"100\": 2, \"25\": 1, \"40\": 1, \"48\": 2}, \"126\": {\"126\": 92, \"70\": 1, \"81\": 1, \"18\": 13, \"62\": 2, \"39\": 3, \"117\": 6, \"122\": 2, \"115\": 1, \"113\": 1}, \"123\": {\"123\": 15, \"113\": 1}, \"51\": {\"51\": 11, \"58\": 1, \"127\": 1, \"112\": 1, \"72\": 1, \"59\": 1}, \"14\": {\"14\": 68, \"22\": 2, \"107\": 5, \"39\": 1, \"45\": 1, \"23\": 2, \"113\": 1}, \"16\": {\"11\": 5, \"16\": 80, \"31\": 2, \"93\": 4, \"84\": 7, \"90\": 7, \"87\": 4, \"44\": 1, \"62\": 2, \"18\": 2, \"29\": 1, \"0\": 1}, \"22\": {\"22\": 13, \"82\": 1, \"87\": 2}, \"109\": {\"109\": 50, \"43\": 3, \"92\": 3, \"13\": 1, \"96\": 2, \"33\": 18, \"44\": 4, \"126\": 1, \"84\": 1, \"69\": 9, \"93\": 8, \"102\": 12, \"118\": 3, \"62\": 2, \"101\": 1, \"90\": 1, \"11\": 1, \"113\": 1, \"26\": 1}, \"27\": {\"27\": 73, \"94\": 2, \"24\": 8, \"36\": 8, \"30\": 1, \"15\": 3, \"113\": 1}, \"75\": {\"75\": 16}, \"66\": {\"55\": 1, \"66\": 13, \"56\": 2}, \"48\": {\"64\": 1, \"104\": 1, \"86\": 2, \"99\": 2, \"48\": 1, \"31\": 1, \"125\": 2, \"115\": 1, \"102\": 1, \"116\": 2, \"20\": 2}, \"6\": {\"54\": 3, \"6\": 8, \"98\": 2, \"12\": 4, \"73\": 2, \"111\": 3, \"94\": 2, \"15\": 1, \"125\": 2, \"91\": 1, \"52\": 1, \"97\": 1, \"108\": 1, \"36\": 1}, \"10\": {\"10\": 52, \"101\": 1, \"85\": 5, \"42\": 2, \"12\": 7, \"108\": 7, \"127\": 7, \"98\": 9, \"124\": 10, \"8\": 6, \"16\": 1, \"41\": 1, \"68\": 1, \"35\": 1, \"70\": 1, \"126\": 1}, \"99\": {\"99\": 32, \"54\": 1, \"56\": 1, \"71\": 2}, \"50\": {\"50\": 13, \"107\": 1, \"1\": 1, \"32\": 1}, \"54\": {\"54\": 16}, \"55\": {\"55\": 14, \"50\": 1, \"103\": 1}, \"53\": {\"50\": 2, \"53\": 11, \"45\": 1, \"122\": 1, \"107\": 2, \"23\": 2, \"32\": 1}, \"72\": {\"72\": 18, \"58\": 1, \"111\": 5, \"59\": 1, \"51\": 1, \"52\": 2}, \"64\": {\"64\": 20}, \"115\": {\"126\": 1, \"115\": 12, \"45\": 1, \"87\": 1, \"114\": 1}, \"23\": {\"126\": 2, \"23\": 7, \"81\": 1, \"46\": 1, \"63\": 1, \"2\": 2, \"89\": 2, \"70\": 1, \"85\": 3, \"39\": 1, \"19\": 2, \"77\": 1, \"96\": 1, \"66\": 1, \"121\": 2, \"127\": 1, \"34\": 1, \"118\": 1, \"18\": 1}, \"32\": {\"114\": 2, \"57\": 4, \"32\": 18, \"14\": 1, \"1\": 1, \"50\": 3, \"90\": 1, \"128\": 2}, \"15\": {\"15\": 94, \"43\": 1, \"106\": 3, \"18\": 1, \"39\": 1, \"58\": 1, \"94\": 2, \"0\": 1}, \"43\": {\"43\": 24, \"13\": 1, \"69\": 1, \"119\": 1, \"102\": 2, \"93\": 1, \"117\": 3, \"109\": 4, \"92\": 5, \"118\": 5, \"33\": 1, \"21\": 2, \"2\": 1, \"120\": 2, \"64\": 1, \"26\": 1, \"62\": 1}, \"114\": {\"114\": 109, \"128\": 1, \"70\": 1, \"1\": 1, \"126\": 1, \"3\": 3, \"30\": 1, \"129\": 1, \"20\": 1, \"53\": 2, \"4\": 2, \"5\": 1}, \"121\": {\"81\": 1, \"121\": 25, \"67\": 2, \"113\": 1, \"26\": 2, \"123\": 1}, \"79\": {\"79\": 12}, \"81\": {\"81\": 27, \"121\": 1, \"18\": 4}, \"8\": {\"8\": 99, \"52\": 1, \"10\": 1, \"73\": 3, \"111\": 3, \"108\": 3, \"12\": 12, \"106\": 1, \"101\": 1, \"85\": 2, \"124\": 2}, \"13\": {\"13\": 11, \"109\": 2, \"102\": 1, \"120\": 1, \"113\": 1}, \"90\": {\"90\": 118, \"116\": 1, \"84\": 8, \"62\": 13, \"16\": 4, \"87\": 3, \"11\": 2, \"1\": 1, \"31\": 1, \"82\": 2, \"29\": 1, \"44\": 2}, \"41\": {\"90\": 1, \"41\": 13, \"66\": 2}, \"107\": {\"32\": 1, \"107\": 126, \"100\": 2, \"14\": 2, \"1\": 1, \"40\": 2, \"74\": 1, \"60\": 1}, \"57\": {\"57\": 17, \"128\": 1, \"32\": 1, \"48\": 1}, \"33\": {\"33\": 93, \"102\": 11, \"80\": 2, \"69\": 6, \"90\": 3, \"116\": 1, \"118\": 2, \"109\": 2}, \"35\": {\"35\": 9, \"106\": 2, \"55\": 1}, \"29\": {\"29\": 21, \"84\": 3, \"62\": 1, \"44\": 1, \"82\": 2, \"90\": 4}, \"70\": {\"42\": 2, \"70\": 30, \"101\": 2, \"127\": 3, \"88\": 3, \"110\": 6, \"108\": 5, \"39\": 1, \"98\": 2, \"3\": 1, \"71\": 3, \"78\": 1, \"19\": 1, \"12\": 1, \"124\": 1, \"5\": 6, \"113\": 1, \"10\": 2, \"126\": 1}, \"42\": {\"43\": 1, \"42\": 7, \"97\": 1, \"106\": 1, \"0\": 3, \"75\": 1, \"10\": 1, \"15\": 2, \"91\": 1, \"72\": 1, \"19\": 1, \"58\": 2, \"73\": 2, \"117\": 1, \"49\": 1, \"46\": 1, \"111\": 1}, \"93\": {\"93\": 114, \"16\": 4, \"102\": 1, \"11\": 5, \"117\": 1, \"39\": 1}, \"86\": {\"86\": 22, \"4\": 1, \"95\": 2, \"55\": 1, \"3\": 2}, \"28\": {\"28\": 8, \"1\": 3, \"11\": 1, \"45\": 3, \"103\": 1}, \"1\": {\"1\": 92, \"55\": 2, \"105\": 3, \"18\": 1, \"3\": 2, \"32\": 2, \"101\": 1, \"107\": 1, \"14\": 3, \"109\": 1}, \"125\": {\"125\": 112, \"111\": 7, \"102\": 1, \"8\": 1, \"68\": 2, \"118\": 1}, \"69\": {\"69\": 63, \"89\": 2, \"33\": 5, \"18\": 2, \"113\": 1, \"102\": 7, \"118\": 1, \"119\": 1, \"62\": 2}, \"97\": {\"97\": 16, \"0\": 1, \"83\": 1, \"101\": 1, \"106\": 1}, \"117\": {\"117\": 100, \"123\": 1, \"113\": 2, \"39\": 1, \"26\": 5, \"2\": 2, \"43\": 1}, \"68\": {\"68\": 16}, \"30\": {\"93\": 1, \"30\": 44, \"0\": 14, \"122\": 1, \"83\": 2, \"58\": 1, \"100\": 1, \"15\": 9, \"125\": 1, \"8\": 1, \"36\": 1, \"106\": 3, \"39\": 1, \"97\": 1, \"21\": 1, \"94\": 1, \"70\": 1}, \"111\": {\"111\": 127, \"59\": 1, \"12\": 1, \"72\": 3}, \"47\": {\"10\": 1, \"47\": 10, \"124\": 1}, \"102\": {\"102\": 105, \"69\": 9, \"109\": 4, \"33\": 6}, \"65\": {\"65\": 11, \"19\": 1}, \"113\": {\"117\": 13, \"113\": 69, \"69\": 1, \"39\": 16, \"17\": 1, \"18\": 4, \"2\": 2, \"0\": 2, \"26\": 6, \"109\": 3, \"118\": 1, \"121\": 1, \"126\": 1}, \"36\": {\"36\": 91, \"94\": 6, \"27\": 13, \"6\": 2, \"126\": 1, \"24\": 1}, \"119\": {\"102\": 5, \"119\": 9, \"116\": 2}, \"46\": {\"46\": 15, \"9\": 1}, \"49\": {\"23\": 2, \"90\": 1, \"42\": 2, \"93\": 1, \"60\": 1, \"12\": 3, \"49\": 4, \"108\": 1, \"0\": 1, \"87\": 2, \"112\": 1, \"75\": 1, \"52\": 1, \"14\": 1, \"109\": 1, \"11\": 1}, \"0\": {\"58\": 1, \"0\": 84, \"83\": 2, \"6\": 1, \"106\": 10, \"15\": 6, \"30\": 6, \"113\": 1, \"97\": 3, \"8\": 2}, \"58\": {\"58\": 15, \"15\": 1}, \"63\": {\"63\": 12, \"117\": 2, \"61\": 2}, \"94\": {\"0\": 3, \"94\": 76, \"92\": 1, \"15\": 3, \"6\": 1}, \"17\": {\"3\": 1, \"17\": 8, \"120\": 1, \"95\": 1, \"56\": 1, \"89\": 1, \"86\": 1, \"126\": 1, \"46\": 1}, \"9\": {\"46\": 2, \"9\": 24, \"127\": 3, \"118\": 1, \"128\": 2}, \"87\": {\"87\": 73, \"113\": 2, \"11\": 12, \"90\": 6, \"40\": 2, \"84\": 7, \"16\": 11, \"62\": 4, \"22\": 1, \"82\": 1, \"93\": 1}, \"59\": {\"111\": 1, \"59\": 10, \"30\": 1}, \"105\": {\"105\": 115, \"4\": 2, \"114\": 2, \"103\": 1}, \"80\": {\"80\": 12, \"10\": 1, \"31\": 1, \"116\": 2}, \"120\": {\"120\": 17, \"117\": 1, \"31\": 1, \"43\": 1}, \"18\": {\"18\": 114, \"81\": 4, \"123\": 1, \"61\": 3, \"118\": 3, \"26\": 1, \"126\": 2, \"63\": 1, \"121\": 1, \"113\": 2}, \"78\": {\"78\": 5, \"20\": 1, \"90\": 2, \"21\": 1, \"28\": 1, \"112\": 1, \"79\": 1, \"101\": 1, \"100\": 2, \"96\": 1}, \"25\": {\"25\": 16}, \"19\": {\"129\": 1, \"72\": 1, \"106\": 1, \"85\": 2, \"16\": 1, \"77\": 1, \"19\": 6, \"124\": 3, \"60\": 2, \"122\": 1, \"8\": 1, \"14\": 3, \"52\": 1, \"12\": 2, \"49\": 1, \"51\": 1, \"10\": 2, \"57\": 1, \"91\": 1}, \"122\": {\"129\": 1, \"19\": 1, \"81\": 1, \"122\": 29, \"55\": 2, \"60\": 4, \"53\": 1, \"32\": 3, \"18\": 2, \"110\": 1, \"1\": 8, \"114\": 2, \"88\": 1, \"128\": 1, \"43\": 1, \"107\": 1, \"39\": 1}, \"39\": {\"122\": 1, \"117\": 5, \"81\": 2, \"39\": 57, \"113\": 13, \"33\": 3, \"26\": 4, \"43\": 2, \"126\": 2, \"18\": 6, \"109\": 4, \"71\": 2, \"8\": 1, \"93\": 2, \"88\": 1, \"67\": 1, \"1\": 2}, \"76\": {\"76\": 12, \"116\": 2, \"44\": 2}, \"89\": {\"89\": 26, \"121\": 1, \"118\": 1}, \"129\": {\"129\": 7, \"19\": 2, \"14\": 4, \"107\": 3, \"86\": 1, \"28\": 2, \"5\": 4, \"110\": 3, \"3\": 4, \"87\": 1, \"1\": 1}, \"26\": {\"26\": 78, \"2\": 3, \"81\": 1, \"117\": 11, \"53\": 1, \"121\": 1, \"70\": 1, \"39\": 1, \"118\": 2, \"113\": 1}, \"85\": {\"77\": 3, \"85\": 31, \"128\": 1, \"124\": 1}, \"71\": {\"71\": 49, \"4\": 1, \"95\": 2, \"7\": 5, \"18\": 2, \"3\": 4, \"114\": 1, \"8\": 1, \"5\": 3}, \"77\": {\"77\": 15, \"48\": 1}, \"128\": {\"77\": 2, \"74\": 1, \"57\": 1, \"85\": 2, \"128\": 9, \"32\": 2, \"111\": 1, \"7\": 1, \"1\": 2, \"95\": 1, \"55\": 3, \"72\": 1, \"91\": 1, \"122\": 1, \"124\": 2, \"23\": 1, \"40\": 1}, \"2\": {\"2\": 8, \"84\": 1, \"43\": 1, \"118\": 7, \"120\": 1, \"18\": 2, \"26\": 2, \"16\": 1, \"123\": 2, \"109\": 1, \"117\": 1, \"33\": 1}, \"56\": {\"56\": 12}, \"24\": {\"24\": 34, \"58\": 1, \"36\": 5, \"27\": 5, \"30\": 3}, \"101\": {\"26\": 1, \"52\": 1, \"101\": 24, \"58\": 3, \"2\": 1, \"42\": 1, \"51\": 2, \"106\": 9, \"8\": 2, \"73\": 5, \"18\": 1, \"9\": 1, \"124\": 1}, \"52\": {\"85\": 1, \"52\": 13, \"68\": 1, \"12\": 1}, \"84\": {\"84\": 65, \"31\": 6, \"62\": 11, \"16\": 3, \"90\": 11, \"116\": 1, \"44\": 2, \"87\": 1, \"39\": 1, \"82\": 3, \"1\": 2, \"14\": 1, \"93\": 1}, \"7\": {\"7\": 94, \"86\": 1, \"66\": 3, \"9\": 3, \"39\": 1, \"109\": 1, \"3\": 3, \"127\": 2, \"110\": 1, \"4\": 1, \"71\": 1, \"105\": 1}, \"82\": {\"82\": 25, \"44\": 3}, \"60\": {\"114\": 2, \"20\": 1, \"29\": 2, \"62\": 1, \"86\": 1, \"31\": 1, \"45\": 1, \"60\": 6, \"16\": 1, \"87\": 1, \"122\": 1, \"7\": 2, \"110\": 1, \"124\": 1, \"90\": 1, \"71\": 1, \"5\": 2, \"107\": 2}, \"45\": {\"24\": 1, \"45\": 5, \"79\": 1, \"18\": 1, \"107\": 1, \"53\": 1, \"87\": 1, \"28\": 2, \"115\": 1, \"117\": 1, \"103\": 1}, \"40\": {\"40\": 123, \"107\": 1}, \"20\": {\"20\": 14, \"53\": 1, \"114\": 1}, \"4\": {\"4\": 87, \"9\": 1, \"3\": 4, \"5\": 1, \"124\": 1, \"105\": 2}, \"116\": {\"64\": 2, \"116\": 18, \"31\": 1, \"62\": 1, \"69\": 2, \"33\": 1, \"76\": 1, \"14\": 1, \"90\": 1}, \"61\": {\"61\": 16}, \"5\": {\"5\": 90, \"3\": 8, \"71\": 4, \"127\": 5, \"4\": 2, \"34\": 1, \"18\": 1, \"126\": 1}, \"106\": {\"106\": 83, \"72\": 3, \"8\": 2, \"102\": 1, \"0\": 3, \"101\": 1, \"73\": 4, \"51\": 1, \"19\": 1, \"111\": 1}, \"12\": {\"12\": 95, \"101\": 2, \"111\": 2, \"124\": 3, \"52\": 1, \"35\": 1}, \"62\": {\"62\": 84, \"84\": 6, \"29\": 1, \"90\": 17, \"118\": 1, \"87\": 3, \"16\": 2, \"127\": 1, \"11\": 1, \"44\": 3, \"39\": 1}, \"34\": {\"1\": 4, \"72\": 1, \"19\": 1, \"12\": 3, \"122\": 4, \"107\": 1, \"34\": 2, \"73\": 6, \"114\": 1, \"125\": 1, \"64\": 1, \"55\": 1, \"35\": 1, \"32\": 1, \"57\": 1, \"98\": 1, \"129\": 2}, \"91\": {\"91\": 14, \"34\": 1, \"41\": 1, \"65\": 1, \"37\": 2, \"77\": 2, \"98\": 2, \"127\": 1}, \"112\": {\"112\": 12, \"92\": 1, \"10\": 1, \"47\": 2}, \"92\": {\"92\": 22, \"118\": 2, \"43\": 3, \"109\": 1, \"33\": 3, \"64\": 1}, \"95\": {\"95\": 31, \"86\": 1}, \"96\": {\"96\": 19, \"109\": 1}, \"127\": {\"127\": 99, \"70\": 1, \"109\": 1, \"108\": 1, \"7\": 1, \"46\": 2, \"9\": 1, \"39\": 1, \"126\": 1}, \"67\": {\"67\": 13, \"81\": 2, \"36\": 1}, \"83\": {\"83\": 20, \"0\": 2, \"30\": 2}, \"21\": {\"21\": 38, \"67\": 1, \"6\": 1, \"18\": 2, \"27\": 1, \"126\": 2, \"94\": 1, \"0\": 1, \"36\": 1}, \"98\": {\"12\": 2, \"98\": 99, \"37\": 2, \"91\": 3, \"127\": 3, \"124\": 6, \"117\": 1, \"10\": 2, \"68\": 1, \"72\": 1, \"111\": 3, \"125\": 1}, \"108\": {\"98\": 2, \"108\": 86, \"10\": 8, \"124\": 12, \"70\": 4, \"8\": 3, \"127\": 5, \"5\": 2, \"3\": 2, \"42\": 2, \"83\": 1, \"4\": 1, \"85\": 1, \"30\": 1, \"88\": 1, \"126\": 1}, \"31\": {\"31\": 16, \"62\": 1, \"84\": 1, \"82\": 2}, \"118\": {\"96\": 1, \"118\": 70, \"69\": 3, \"120\": 1, \"43\": 7, \"33\": 4, \"109\": 3, \"64\": 2, \"102\": 4, \"93\": 1, \"2\": 1, \"29\": 1, \"44\": 1, \"113\": 1}, \"110\": {\"110\": 78, \"129\": 2, \"4\": 2, \"114\": 1, \"108\": 3, \"3\": 2, \"70\": 1, \"122\": 3}, \"73\": {\"73\": 40}, \"44\": {\"44\": 57, \"43\": 1, \"33\": 2, \"84\": 3, \"62\": 4, \"117\": 1, \"90\": 2, \"26\": 1, \"29\": 1}, \"37\": {\"37\": 13, \"52\": 2, \"118\": 1}, \"100\": {\"100\": 15, \"107\": 1}}}, \"per_domain_accuracy\": {\"ORACLE.run126\": {\"accuracy\": 0.440625, \"source?\": true}, \"ORACLE.run144\": {\"accuracy\": 0.6580729166666667, \"source?\": true}, \"ORACLE.run150\": {\"accuracy\": 0.6763020833333333, \"source?\": true}, \"ORACLE.run138\": {\"accuracy\": 0.6541666666666667, \"source?\": true}, \"ORACLE.run120\": {\"accuracy\": 0.45859375, \"source?\": true}, \"ORACLE.run114\": {\"accuracy\": 0.7046875, \"source?\": true}, \"ORACLE.run132\": {\"accuracy\": 0.684375, \"source?\": true}, \"ORACLE.run18\": {\"accuracy\": 0.55078125, \"source?\": true}, \"Wisig_4\": {\"accuracy\": 0.6633230452674898, \"source?\": false}, \"Wisig_1\": {\"accuracy\": 0.7176906779661016, \"source?\": false}, \"Wisig_2\": {\"accuracy\": 0.6906380753138075, \"source?\": false}, \"Wisig_3\": {\"accuracy\": 0.7347161572052402, \"source?\": false}}}, \"history\": {\"epoch_indices\": [1, 2, 3, 4, 5, 6, 7, 8, 9, 10, 11], \"train_label_loss\": [1.6305153133879815, 1.028318554433506, 0.858243343850509, 0.7427020965986664, 0.6448822950267987, 0.5591539680004297, 0.48565741854863953, 0.4236158169451214, 0.3686258094496138, 0.32481372899034927, 0.28482449145591265], \"source_val_label_loss\": [1.2347608804702759, 1.0896927118301392, 1.0722025632858276, 1.067705512046814, 1.1053104400634766, 1.15912926197052, 1.2511805295944214, 1.328535556793213, 1.4019477367401123, 1.467893123626709, 1.563059687614441], \"target_val_label_loss\": [4.878310680389404, 6.336334705352783, 7.698194980621338, 8.79633617401123, 9.599947929382324, 10.496356010437012, 11.679906845092773, 12.58203125, 13.788655281066895, 14.761000633239746, 15.612889289855957], \"source_val_acc_label\": [0.5312825520833333, 0.5867513020833334, 0.6015299479166667, 0.6114908854166666, 0.61298828125, 0.6012369791666666, 0.6034505208333333, 0.6007486979166666, 0.6020182291666667, 0.5984049479166667, 0.5933919270833333], \"target_val_acc_label\": [0.6425554382259767, 0.6656876979936642, 0.6875659978880676, 0.6908328933474129, 0.6995116156282999, 0.6956177402323126, 0.7010295670538543, 0.6987526399155227, 0.695716737064414, 0.691921858500528, 0.6978616684266103]}, \"dataset_metrics\": {\"source\": {\"train\": {\"n_unique_x\": 179200, \"n_unique_y\": 16, \"n_batch/episode\": 6720}, \"val\": {\"n_unique_x\": 38400, \"n_unique_y\": 16, \"n_batch/episode\": 960}, \"test\": {\"n_unique_x\": 38400, \"n_unique_y\": 16, \"n_batch/episode\": 960}}, \"target\": {\"train\": {\"n_unique_x\": 189001, \"n_unique_y\": 130, \"n_batch/episode\": 6847}, \"val\": {\"n_unique_x\": 40070, \"n_unique_y\": 130, \"n_batch/episode\": 947}, \"test\": {\"n_unique_x\": 40812, \"n_unique_y\": 130, \"n_batch/episode\": 969}}}}'"
      ]
     },
     "execution_count": 29,
     "metadata": {},
     "output_type": "execute_result"
    }
   ],
   "source": [
    "json.dumps(experiment)"
   ]
  }
 ],
 "metadata": {
  "celltoolbar": "Tags",
  "kernelspec": {
   "display_name": "Python 3 (ipykernel)",
   "language": "python",
   "name": "python3"
  },
  "language_info": {
   "codemirror_mode": {
    "name": "ipython",
    "version": 3
   },
   "file_extension": ".py",
   "mimetype": "text/x-python",
   "name": "python",
   "nbconvert_exporter": "python",
   "pygments_lexer": "ipython3",
   "version": "3.8.12"
  },
  "papermill": {
   "default_parameters": {},
   "duration": 2403.075078,
   "end_time": "2022-03-23T04:59:05.677160",
   "environment_variables": {},
   "exception": null,
   "input_path": "/root/csc500-main/csc500-notebooks/templates/tl_ptn_template.ipynb",
   "output_path": "trial.ipynb",
   "parameters": {
    "parameters": {
     "BEST_MODEL_PATH": "./best_model.pth",
     "NUM_LOGS_PER_EPOCH": 10,
     "criteria_for_best": "target_accuracy",
     "dataset_seed": 7,
     "datasets": [
      {
       "domain_prefix": "Wisig_",
       "domains": [
        1,
        2,
        3,
        4
       ],
       "episode_transforms": [],
       "labels": [
        "1-10",
        "1-12",
        "1-14",
        "1-16",
        "1-18",
        "1-19",
        "1-8",
        "10-11",
        "10-17",
        "10-4",
        "10-7",
        "11-1",
        "11-10",
        "11-19",
        "11-20",
        "11-4",
        "11-7",
        "12-19",
        "12-20",
        "12-7",
        "13-14",
        "13-18",
        "13-19",
        "13-20",
        "13-3",
        "13-7",
        "14-10",
        "14-11",
        "14-12",
        "14-13",
        "14-14",
        "14-19",
        "14-20",
        "14-7",
        "14-8",
        "14-9",
        "15-1",
        "15-19",
        "15-6",
        "16-1",
        "16-16",
        "16-19",
        "16-20",
        "17-10",
        "17-11",
        "18-1",
        "18-10",
        "18-11",
        "18-12",
        "18-13",
        "18-14",
        "18-15",
        "18-16",
        "18-17",
        "18-19",
        "18-2",
        "18-20",
        "18-4",
        "18-5",
        "18-7",
        "18-8",
        "18-9",
        "19-1",
        "19-10",
        "19-11",
        "19-12",
        "19-13",
        "19-14",
        "19-15",
        "19-19",
        "19-2",
        "19-20",
        "19-3",
        "19-4",
        "19-6",
        "19-7",
        "19-8",
        "19-9",
        "2-1",
        "2-13",
        "2-15",
        "2-3",
        "2-4",
        "2-5",
        "2-6",
        "2-7",
        "2-8",
        "20-1",
        "20-12",
        "20-14",
        "20-15",
        "20-16",
        "20-18",
        "20-19",
        "20-20",
        "20-3",
        "20-4",
        "20-5",
        "20-7",
        "20-8",
        "3-1",
        "3-13",
        "3-18",
        "3-2",
        "3-8",
        "4-1",
        "4-10",
        "4-11",
        "5-1",
        "5-5",
        "6-1",
        "6-15",
        "6-6",
        "7-10",
        "7-11",
        "7-12",
        "7-13",
        "7-14",
        "7-7",
        "7-8",
        "7-9",
        "8-1",
        "8-13",
        "8-14",
        "8-18",
        "8-20",
        "8-3",
        "8-8",
        "9-1",
        "9-7"
       ],
       "num_examples_per_domain_per_label": -1,
       "pickle_path": "/root/csc500-main/datasets/wisig.node3-19.stratified_ds.2022A.pkl",
       "source_or_target_dataset": "target",
       "x_transforms": [
        "unit_mag"
       ]
      },
      {
       "domain_prefix": "ORACLE.run1",
       "domains": [
        32,
        38,
        8,
        44,
        14,
        50,
        20,
        26
       ],
       "episode_transforms": [],
       "labels": [
        "3123D52",
        "3123D65",
        "3123D79",
        "3123D80",
        "3123D54",
        "3123D70",
        "3123D7B",
        "3123D89",
        "3123D58",
        "3123D76",
        "3123D7D",
        "3123EFE",
        "3123D64",
        "3123D78",
        "3123D7E",
        "3124E4A"
       ],
       "num_examples_per_domain_per_label": 2000,
       "pickle_path": "/root/csc500-main/datasets/oracle.Run1_10kExamples_stratified_ds.2022A.pkl",
       "source_or_target_dataset": "source",
       "x_transforms": [
        "unit_mag"
       ]
      }
     ],
     "device": "cuda",
     "experiment_name": "tl_1v2:wisig-oracle.run1.limited",
     "lr": 0.0001,
     "n_epoch": 50,
     "n_query": 2,
     "n_shot": 3,
     "n_way": 16,
     "patience": 3,
     "seed": 7,
     "test_k_factor": 2,
     "torch_default_dtype": "torch.float32",
     "train_k_factor": 3,
     "val_k_factor": 2,
     "x_net": [
      {
       "class": "nnReshape",
       "kargs": {
        "shape": [
         -1,
         1,
         2,
         256
        ]
       }
      },
      {
       "class": "Conv2d",
       "kargs": {
        "bias": false,
        "in_channels": 1,
        "kernel_size": [
         1,
         7
        ],
        "out_channels": 256,
        "padding": [
         0,
         3
        ]
       }
      },
      {
       "class": "ReLU",
       "kargs": {
        "inplace": true
       }
      },
      {
       "class": "BatchNorm2d",
       "kargs": {
        "num_features": 256
       }
      },
      {
       "class": "Conv2d",
       "kargs": {
        "bias": true,
        "in_channels": 256,
        "kernel_size": [
         2,
         7
        ],
        "out_channels": 80,
        "padding": [
         0,
         3
        ]
       }
      },
      {
       "class": "ReLU",
       "kargs": {
        "inplace": true
       }
      },
      {
       "class": "BatchNorm2d",
       "kargs": {
        "num_features": 80
       }
      },
      {
       "class": "Flatten",
       "kargs": {}
      },
      {
       "class": "Linear",
       "kargs": {
        "in_features": 20480,
        "out_features": 256
       }
      },
      {
       "class": "ReLU",
       "kargs": {
        "inplace": true
       }
      },
      {
       "class": "BatchNorm1d",
       "kargs": {
        "num_features": 256
       }
      },
      {
       "class": "Linear",
       "kargs": {
        "in_features": 256,
        "out_features": 256
       }
      }
     ]
    }
   },
   "start_time": "2022-03-23T04:19:02.602082",
   "version": "2.3.4"
  }
 },
 "nbformat": 4,
 "nbformat_minor": 5
}