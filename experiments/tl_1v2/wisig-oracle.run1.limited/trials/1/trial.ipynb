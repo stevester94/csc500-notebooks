{
 "cells": [
  {
   "cell_type": "markdown",
   "id": "9fea5f46",
   "metadata": {
    "papermill": {
     "duration": 0.027563,
     "end_time": "2022-03-22T15:55:36.907155",
     "exception": false,
     "start_time": "2022-03-22T15:55:36.879592",
     "status": "completed"
    },
    "tags": []
   },
   "source": [
    "# Transfer Learning Template"
   ]
  },
  {
   "cell_type": "code",
   "execution_count": 1,
   "id": "0902182a",
   "metadata": {
    "execution": {
     "iopub.execute_input": "2022-03-22T15:55:36.973415Z",
     "iopub.status.busy": "2022-03-22T15:55:36.972544Z",
     "iopub.status.idle": "2022-03-22T15:55:38.826949Z",
     "shell.execute_reply": "2022-03-22T15:55:38.826514Z"
    },
    "papermill": {
     "duration": 1.893389,
     "end_time": "2022-03-22T15:55:38.827069",
     "exception": false,
     "start_time": "2022-03-22T15:55:36.933680",
     "status": "completed"
    },
    "tags": []
   },
   "outputs": [],
   "source": [
    "%load_ext autoreload\n",
    "%autoreload 2\n",
    "%matplotlib inline\n",
    "\n",
    "    \n",
    "import os, json, sys, time, random\n",
    "import numpy as np\n",
    "import torch\n",
    "from torch.optim import Adam\n",
    "from  easydict import EasyDict\n",
    "import matplotlib.pyplot as plt\n",
    "\n",
    "from steves_models.steves_ptn import Steves_Prototypical_Network\n",
    "\n",
    "from steves_utils.lazy_iterable_wrapper import Lazy_Iterable_Wrapper\n",
    "from steves_utils.iterable_aggregator import Iterable_Aggregator\n",
    "from steves_utils.ptn_train_eval_test_jig import  PTN_Train_Eval_Test_Jig\n",
    "from steves_utils.torch_sequential_builder import build_sequential\n",
    "from steves_utils.torch_utils import get_dataset_metrics, ptn_confusion_by_domain_over_dataloader\n",
    "from steves_utils.utils_v2 import (per_domain_accuracy_from_confusion, get_datasets_base_path)\n",
    "from steves_utils.PTN.utils import independent_accuracy_assesment\n",
    "\n",
    "from torch.utils.data import DataLoader\n",
    "\n",
    "from steves_utils.stratified_dataset.episodic_accessor import Episodic_Accessor_Factory\n",
    "\n",
    "from steves_utils.ptn_do_report import (\n",
    "    get_loss_curve,\n",
    "    get_results_table,\n",
    "    get_parameters_table,\n",
    "    get_domain_accuracies,\n",
    ")\n",
    "\n",
    "from steves_utils.transforms import get_chained_transform"
   ]
  },
  {
   "cell_type": "markdown",
   "id": "41c840b4",
   "metadata": {
    "papermill": {
     "duration": 0.019766,
     "end_time": "2022-03-22T15:55:38.867962",
     "exception": false,
     "start_time": "2022-03-22T15:55:38.848196",
     "status": "completed"
    },
    "tags": []
   },
   "source": [
    "# Allowed Parameters\n",
    "These are allowed parameters, not defaults\n",
    "Each of these values need to be present in the injected parameters (the notebook will raise an exception if they are not present)\n",
    "\n",
    "Papermill uses the cell tag \"parameters\" to inject the real parameters below this cell.\n",
    "Enable tags to see what I mean"
   ]
  },
  {
   "cell_type": "code",
   "execution_count": 2,
   "id": "fd44eb83",
   "metadata": {
    "execution": {
     "iopub.execute_input": "2022-03-22T15:55:38.911346Z",
     "iopub.status.busy": "2022-03-22T15:55:38.910949Z",
     "iopub.status.idle": "2022-03-22T15:55:38.930506Z",
     "shell.execute_reply": "2022-03-22T15:55:38.929644Z"
    },
    "papermill": {
     "duration": 0.042934,
     "end_time": "2022-03-22T15:55:38.930668",
     "exception": false,
     "start_time": "2022-03-22T15:55:38.887734",
     "status": "completed"
    },
    "tags": []
   },
   "outputs": [],
   "source": [
    "required_parameters = {\n",
    "    \"experiment_name\",\n",
    "    \"lr\",\n",
    "    \"device\",\n",
    "    \"seed\",\n",
    "    \"dataset_seed\",\n",
    "    \"n_shot\",\n",
    "    \"n_query\",\n",
    "    \"n_way\",\n",
    "    \"train_k_factor\",\n",
    "    \"val_k_factor\",\n",
    "    \"test_k_factor\",\n",
    "    \"n_epoch\",\n",
    "    \"patience\",\n",
    "    \"criteria_for_best\",\n",
    "    \"x_net\",\n",
    "    \"datasets\",\n",
    "    \"torch_default_dtype\",\n",
    "    \"NUM_LOGS_PER_EPOCH\",\n",
    "    \"BEST_MODEL_PATH\",\n",
    "    \"x_shape\",\n",
    "}"
   ]
  },
  {
   "cell_type": "code",
   "execution_count": 3,
   "id": "fa3f0049",
   "metadata": {
    "execution": {
     "iopub.execute_input": "2022-03-22T15:55:38.989365Z",
     "iopub.status.busy": "2022-03-22T15:55:38.988705Z",
     "iopub.status.idle": "2022-03-22T15:55:39.009202Z",
     "shell.execute_reply": "2022-03-22T15:55:39.008343Z"
    },
    "papermill": {
     "duration": 0.050221,
     "end_time": "2022-03-22T15:55:39.009358",
     "exception": false,
     "start_time": "2022-03-22T15:55:38.959137",
     "status": "completed"
    },
    "tags": [
     "parameters"
    ]
   },
   "outputs": [],
   "source": [
    "from steves_utils.CORES.utils import (\n",
    "    ALL_NODES,\n",
    "    ALL_NODES_MINIMUM_1000_EXAMPLES,\n",
    "    ALL_DAYS\n",
    ")\n",
    "\n",
    "from steves_utils.ORACLE.utils_v2 import (\n",
    "    ALL_DISTANCES_FEET_NARROWED,\n",
    "    ALL_RUNS,\n",
    "    ALL_SERIAL_NUMBERS,\n",
    ")\n",
    "\n",
    "standalone_parameters = {}\n",
    "standalone_parameters[\"experiment_name\"] = \"STANDALONE PTN\"\n",
    "standalone_parameters[\"lr\"] = 0.001\n",
    "standalone_parameters[\"device\"] = \"cuda\"\n",
    "\n",
    "standalone_parameters[\"seed\"] = 1337\n",
    "standalone_parameters[\"dataset_seed\"] = 1337\n",
    "\n",
    "standalone_parameters[\"n_way\"] = 8\n",
    "standalone_parameters[\"n_shot\"] = 3\n",
    "standalone_parameters[\"n_query\"]  = 2\n",
    "standalone_parameters[\"train_k_factor\"] = 1\n",
    "standalone_parameters[\"val_k_factor\"] = 2\n",
    "standalone_parameters[\"test_k_factor\"] = 2\n",
    "\n",
    "\n",
    "standalone_parameters[\"n_epoch\"] = 50\n",
    "\n",
    "standalone_parameters[\"patience\"] = 10\n",
    "standalone_parameters[\"criteria_for_best\"] = \"source_loss\"\n",
    "\n",
    "standalone_parameters[\"datasets\"] = [\n",
    "    {\n",
    "        \"labels\": ALL_SERIAL_NUMBERS,\n",
    "        \"domains\": ALL_DISTANCES_FEET_NARROWED,\n",
    "        \"num_examples_per_domain_per_label\": 100,\n",
    "        \"pickle_path\": os.path.join(get_datasets_base_path(), \"oracle.Run1_framed_2000Examples_stratified_ds.2022A.pkl\"),\n",
    "        \"source_or_target_dataset\": \"source\",\n",
    "        \"x_transforms\": [\"unit_mag\", \"minus_two\"],\n",
    "        \"episode_transforms\": [],\n",
    "        \"domain_prefix\": \"ORACLE_\"\n",
    "    },\n",
    "    {\n",
    "        \"labels\": ALL_NODES,\n",
    "        \"domains\": ALL_DAYS,\n",
    "        \"num_examples_per_domain_per_label\": 100,\n",
    "        \"pickle_path\": os.path.join(get_datasets_base_path(), \"cores.stratified_ds.2022A.pkl\"),\n",
    "        \"source_or_target_dataset\": \"target\",\n",
    "        \"x_transforms\": [\"unit_power\", \"times_zero\"],\n",
    "        \"episode_transforms\": [],\n",
    "        \"domain_prefix\": \"CORES_\"\n",
    "    }   \n",
    "]\n",
    "\n",
    "standalone_parameters[\"torch_default_dtype\"] = \"torch.float32\" \n",
    "\n",
    "\n",
    "\n",
    "standalone_parameters[\"x_net\"] =     [\n",
    "    {\"class\": \"nnReshape\", \"kargs\": {\"shape\":[-1, 1, 2, 256]}},\n",
    "    {\"class\": \"Conv2d\", \"kargs\": { \"in_channels\":1, \"out_channels\":256, \"kernel_size\":(1,7), \"bias\":False, \"padding\":(0,3), },},\n",
    "    {\"class\": \"ReLU\", \"kargs\": {\"inplace\": True}},\n",
    "    {\"class\": \"BatchNorm2d\", \"kargs\": {\"num_features\":256}},\n",
    "\n",
    "    {\"class\": \"Conv2d\", \"kargs\": { \"in_channels\":256, \"out_channels\":80, \"kernel_size\":(2,7), \"bias\":True, \"padding\":(0,3), },},\n",
    "    {\"class\": \"ReLU\", \"kargs\": {\"inplace\": True}},\n",
    "    {\"class\": \"BatchNorm2d\", \"kargs\": {\"num_features\":80}},\n",
    "    {\"class\": \"Flatten\", \"kargs\": {}},\n",
    "\n",
    "    {\"class\": \"Linear\", \"kargs\": {\"in_features\": 80*256, \"out_features\": 256}}, # 80 units per IQ pair\n",
    "    {\"class\": \"ReLU\", \"kargs\": {\"inplace\": True}},\n",
    "    {\"class\": \"BatchNorm1d\", \"kargs\": {\"num_features\":256}},\n",
    "\n",
    "    {\"class\": \"Linear\", \"kargs\": {\"in_features\": 256, \"out_features\": 256}},\n",
    "]\n",
    "\n",
    "# Parameters relevant to results\n",
    "# These parameters will basically never need to change\n",
    "standalone_parameters[\"NUM_LOGS_PER_EPOCH\"] = 10\n",
    "standalone_parameters[\"BEST_MODEL_PATH\"] = \"./best_model.pth\"\n",
    "\n",
    "\n",
    "\n",
    "\n"
   ]
  },
  {
   "cell_type": "code",
   "execution_count": 4,
   "id": "2f82584d",
   "metadata": {
    "execution": {
     "iopub.execute_input": "2022-03-22T15:55:39.076727Z",
     "iopub.status.busy": "2022-03-22T15:55:39.066923Z",
     "iopub.status.idle": "2022-03-22T15:55:39.097616Z",
     "shell.execute_reply": "2022-03-22T15:55:39.096761Z"
    },
    "papermill": {
     "duration": 0.060135,
     "end_time": "2022-03-22T15:55:39.097773",
     "exception": false,
     "start_time": "2022-03-22T15:55:39.037638",
     "status": "completed"
    },
    "tags": [
     "injected-parameters"
    ]
   },
   "outputs": [],
   "source": [
    "# Parameters\n",
    "parameters = {\n",
    "    \"experiment_name\": \"tl_1v2:wisig-oracle.run1.limited\",\n",
    "    \"device\": \"cuda\",\n",
    "    \"lr\": 0.0001,\n",
    "    \"n_shot\": 3,\n",
    "    \"n_query\": 2,\n",
    "    \"train_k_factor\": 3,\n",
    "    \"val_k_factor\": 2,\n",
    "    \"test_k_factor\": 2,\n",
    "    \"torch_default_dtype\": \"torch.float32\",\n",
    "    \"n_epoch\": 50,\n",
    "    \"patience\": 3,\n",
    "    \"criteria_for_best\": \"target_accuracy\",\n",
    "    \"x_net\": [\n",
    "        {\"class\": \"nnReshape\", \"kargs\": {\"shape\": [-1, 1, 2, 256]}},\n",
    "        {\n",
    "            \"class\": \"Conv2d\",\n",
    "            \"kargs\": {\n",
    "                \"in_channels\": 1,\n",
    "                \"out_channels\": 256,\n",
    "                \"kernel_size\": [1, 7],\n",
    "                \"bias\": False,\n",
    "                \"padding\": [0, 3],\n",
    "            },\n",
    "        },\n",
    "        {\"class\": \"ReLU\", \"kargs\": {\"inplace\": True}},\n",
    "        {\"class\": \"BatchNorm2d\", \"kargs\": {\"num_features\": 256}},\n",
    "        {\n",
    "            \"class\": \"Conv2d\",\n",
    "            \"kargs\": {\n",
    "                \"in_channels\": 256,\n",
    "                \"out_channels\": 80,\n",
    "                \"kernel_size\": [2, 7],\n",
    "                \"bias\": True,\n",
    "                \"padding\": [0, 3],\n",
    "            },\n",
    "        },\n",
    "        {\"class\": \"ReLU\", \"kargs\": {\"inplace\": True}},\n",
    "        {\"class\": \"BatchNorm2d\", \"kargs\": {\"num_features\": 80}},\n",
    "        {\"class\": \"Flatten\", \"kargs\": {}},\n",
    "        {\"class\": \"Linear\", \"kargs\": {\"in_features\": 20480, \"out_features\": 256}},\n",
    "        {\"class\": \"ReLU\", \"kargs\": {\"inplace\": True}},\n",
    "        {\"class\": \"BatchNorm1d\", \"kargs\": {\"num_features\": 256}},\n",
    "        {\"class\": \"Linear\", \"kargs\": {\"in_features\": 256, \"out_features\": 256}},\n",
    "    ],\n",
    "    \"NUM_LOGS_PER_EPOCH\": 10,\n",
    "    \"BEST_MODEL_PATH\": \"./best_model.pth\",\n",
    "    \"n_way\": 16,\n",
    "    \"datasets\": [\n",
    "        {\n",
    "            \"labels\": [\n",
    "                \"1-10\",\n",
    "                \"1-12\",\n",
    "                \"1-14\",\n",
    "                \"1-16\",\n",
    "                \"1-18\",\n",
    "                \"1-19\",\n",
    "                \"1-8\",\n",
    "                \"10-11\",\n",
    "                \"10-17\",\n",
    "                \"10-4\",\n",
    "                \"10-7\",\n",
    "                \"11-1\",\n",
    "                \"11-10\",\n",
    "                \"11-19\",\n",
    "                \"11-20\",\n",
    "                \"11-4\",\n",
    "                \"11-7\",\n",
    "                \"12-19\",\n",
    "                \"12-20\",\n",
    "                \"12-7\",\n",
    "                \"13-14\",\n",
    "                \"13-18\",\n",
    "                \"13-19\",\n",
    "                \"13-20\",\n",
    "                \"13-3\",\n",
    "                \"13-7\",\n",
    "                \"14-10\",\n",
    "                \"14-11\",\n",
    "                \"14-12\",\n",
    "                \"14-13\",\n",
    "                \"14-14\",\n",
    "                \"14-19\",\n",
    "                \"14-20\",\n",
    "                \"14-7\",\n",
    "                \"14-8\",\n",
    "                \"14-9\",\n",
    "                \"15-1\",\n",
    "                \"15-19\",\n",
    "                \"15-6\",\n",
    "                \"16-1\",\n",
    "                \"16-16\",\n",
    "                \"16-19\",\n",
    "                \"16-20\",\n",
    "                \"17-10\",\n",
    "                \"17-11\",\n",
    "                \"18-1\",\n",
    "                \"18-10\",\n",
    "                \"18-11\",\n",
    "                \"18-12\",\n",
    "                \"18-13\",\n",
    "                \"18-14\",\n",
    "                \"18-15\",\n",
    "                \"18-16\",\n",
    "                \"18-17\",\n",
    "                \"18-19\",\n",
    "                \"18-2\",\n",
    "                \"18-20\",\n",
    "                \"18-4\",\n",
    "                \"18-5\",\n",
    "                \"18-7\",\n",
    "                \"18-8\",\n",
    "                \"18-9\",\n",
    "                \"19-1\",\n",
    "                \"19-10\",\n",
    "                \"19-11\",\n",
    "                \"19-12\",\n",
    "                \"19-13\",\n",
    "                \"19-14\",\n",
    "                \"19-15\",\n",
    "                \"19-19\",\n",
    "                \"19-2\",\n",
    "                \"19-20\",\n",
    "                \"19-3\",\n",
    "                \"19-4\",\n",
    "                \"19-6\",\n",
    "                \"19-7\",\n",
    "                \"19-8\",\n",
    "                \"19-9\",\n",
    "                \"2-1\",\n",
    "                \"2-13\",\n",
    "                \"2-15\",\n",
    "                \"2-3\",\n",
    "                \"2-4\",\n",
    "                \"2-5\",\n",
    "                \"2-6\",\n",
    "                \"2-7\",\n",
    "                \"2-8\",\n",
    "                \"20-1\",\n",
    "                \"20-12\",\n",
    "                \"20-14\",\n",
    "                \"20-15\",\n",
    "                \"20-16\",\n",
    "                \"20-18\",\n",
    "                \"20-19\",\n",
    "                \"20-20\",\n",
    "                \"20-3\",\n",
    "                \"20-4\",\n",
    "                \"20-5\",\n",
    "                \"20-7\",\n",
    "                \"20-8\",\n",
    "                \"3-1\",\n",
    "                \"3-13\",\n",
    "                \"3-18\",\n",
    "                \"3-2\",\n",
    "                \"3-8\",\n",
    "                \"4-1\",\n",
    "                \"4-10\",\n",
    "                \"4-11\",\n",
    "                \"5-1\",\n",
    "                \"5-5\",\n",
    "                \"6-1\",\n",
    "                \"6-15\",\n",
    "                \"6-6\",\n",
    "                \"7-10\",\n",
    "                \"7-11\",\n",
    "                \"7-12\",\n",
    "                \"7-13\",\n",
    "                \"7-14\",\n",
    "                \"7-7\",\n",
    "                \"7-8\",\n",
    "                \"7-9\",\n",
    "                \"8-1\",\n",
    "                \"8-13\",\n",
    "                \"8-14\",\n",
    "                \"8-18\",\n",
    "                \"8-20\",\n",
    "                \"8-3\",\n",
    "                \"8-8\",\n",
    "                \"9-1\",\n",
    "                \"9-7\",\n",
    "            ],\n",
    "            \"domains\": [1, 2, 3, 4],\n",
    "            \"num_examples_per_domain_per_label\": -1,\n",
    "            \"pickle_path\": \"/root/csc500-main/datasets/wisig.node3-19.stratified_ds.2022A.pkl\",\n",
    "            \"source_or_target_dataset\": \"source\",\n",
    "            \"x_transforms\": [\"unit_mag\"],\n",
    "            \"episode_transforms\": [],\n",
    "            \"domain_prefix\": \"Wisig_\",\n",
    "        },\n",
    "        {\n",
    "            \"labels\": [\n",
    "                \"3123D52\",\n",
    "                \"3123D65\",\n",
    "                \"3123D79\",\n",
    "                \"3123D80\",\n",
    "                \"3123D54\",\n",
    "                \"3123D70\",\n",
    "                \"3123D7B\",\n",
    "                \"3123D89\",\n",
    "                \"3123D58\",\n",
    "                \"3123D76\",\n",
    "                \"3123D7D\",\n",
    "                \"3123EFE\",\n",
    "                \"3123D64\",\n",
    "                \"3123D78\",\n",
    "                \"3123D7E\",\n",
    "                \"3124E4A\",\n",
    "            ],\n",
    "            \"domains\": [32, 38, 8, 44, 14, 50, 20, 26],\n",
    "            \"num_examples_per_domain_per_label\": 2000,\n",
    "            \"pickle_path\": \"/root/csc500-main/datasets/oracle.Run1_10kExamples_stratified_ds.2022A.pkl\",\n",
    "            \"source_or_target_dataset\": \"target\",\n",
    "            \"x_transforms\": [\"unit_mag\"],\n",
    "            \"episode_transforms\": [],\n",
    "            \"domain_prefix\": \"ORACLE.run1\",\n",
    "        },\n",
    "    ],\n",
    "    \"dataset_seed\": 1337,\n",
    "    \"seed\": 1337,\n",
    "}\n"
   ]
  },
  {
   "cell_type": "code",
   "execution_count": 5,
   "id": "8fa1cc33",
   "metadata": {
    "execution": {
     "iopub.execute_input": "2022-03-22T15:55:39.151858Z",
     "iopub.status.busy": "2022-03-22T15:55:39.151371Z",
     "iopub.status.idle": "2022-03-22T15:55:39.172710Z",
     "shell.execute_reply": "2022-03-22T15:55:39.171644Z"
    },
    "papermill": {
     "duration": 0.049029,
     "end_time": "2022-03-22T15:55:39.172901",
     "exception": false,
     "start_time": "2022-03-22T15:55:39.123872",
     "status": "completed"
    },
    "tags": []
   },
   "outputs": [],
   "source": [
    "# Set this to True if you want to run this template directly\n",
    "STANDALONE = False\n",
    "if STANDALONE:\n",
    "    print(\"parameters not injected, running with standalone_parameters\")\n",
    "    parameters = standalone_parameters\n",
    "\n",
    "if not 'parameters' in locals() and not 'parameters' in globals():\n",
    "    raise Exception(\"Parameter injection failed\")\n",
    "\n",
    "#Use an easy dict for all the parameters\n",
    "p = EasyDict(parameters)\n",
    "\n",
    "if \"x_shape\" not in p:\n",
    "    p.x_shape = [2,256] # Default to this if we dont supply x_shape\n",
    "\n",
    "\n",
    "supplied_keys = set(p.keys())\n",
    "\n",
    "if  supplied_keys != required_parameters:\n",
    "    print(\"Parameters are incorrect\")\n",
    "    if len(supplied_keys - required_parameters)>0: print(\"Shouldn't have:\", str(supplied_keys - required_parameters))\n",
    "    if len(required_parameters - supplied_keys)>0: print(\"Need to have:\", str(required_parameters - supplied_keys))\n",
    "    raise RuntimeError(\"Parameters are incorrect\")"
   ]
  },
  {
   "cell_type": "code",
   "execution_count": 6,
   "id": "3a028d58",
   "metadata": {
    "execution": {
     "iopub.execute_input": "2022-03-22T15:55:39.223860Z",
     "iopub.status.busy": "2022-03-22T15:55:39.222890Z",
     "iopub.status.idle": "2022-03-22T15:55:39.243718Z",
     "shell.execute_reply": "2022-03-22T15:55:39.242946Z"
    },
    "papermill": {
     "duration": 0.045786,
     "end_time": "2022-03-22T15:55:39.243873",
     "exception": false,
     "start_time": "2022-03-22T15:55:39.198087",
     "status": "completed"
    },
    "tags": []
   },
   "outputs": [],
   "source": [
    "###################################\n",
    "# Set the RNGs and make it all deterministic\n",
    "###################################\n",
    "np.random.seed(p.seed)\n",
    "random.seed(p.seed)\n",
    "torch.manual_seed(p.seed)\n",
    "\n",
    "torch.use_deterministic_algorithms(True) "
   ]
  },
  {
   "cell_type": "code",
   "execution_count": 7,
   "id": "b691acf6",
   "metadata": {
    "execution": {
     "iopub.execute_input": "2022-03-22T15:55:39.296611Z",
     "iopub.status.busy": "2022-03-22T15:55:39.296170Z",
     "iopub.status.idle": "2022-03-22T15:55:39.317879Z",
     "shell.execute_reply": "2022-03-22T15:55:39.316790Z"
    },
    "papermill": {
     "duration": 0.04654,
     "end_time": "2022-03-22T15:55:39.318130",
     "exception": false,
     "start_time": "2022-03-22T15:55:39.271590",
     "status": "completed"
    },
    "tags": []
   },
   "outputs": [],
   "source": [
    "###########################################\n",
    "# The stratified datasets honor this\n",
    "###########################################\n",
    "torch.set_default_dtype(eval(p.torch_default_dtype))"
   ]
  },
  {
   "cell_type": "code",
   "execution_count": 8,
   "id": "b5fba671",
   "metadata": {
    "execution": {
     "iopub.execute_input": "2022-03-22T15:55:39.369559Z",
     "iopub.status.busy": "2022-03-22T15:55:39.369183Z",
     "iopub.status.idle": "2022-03-22T15:55:39.419615Z",
     "shell.execute_reply": "2022-03-22T15:55:39.418814Z"
    },
    "papermill": {
     "duration": 0.073297,
     "end_time": "2022-03-22T15:55:39.419775",
     "exception": false,
     "start_time": "2022-03-22T15:55:39.346478",
     "status": "completed"
    },
    "tags": []
   },
   "outputs": [],
   "source": [
    "###################################\n",
    "# Build the network(s)\n",
    "# Note: It's critical to do this AFTER setting the RNG\n",
    "###################################\n",
    "x_net = build_sequential(p.x_net)"
   ]
  },
  {
   "cell_type": "code",
   "execution_count": 9,
   "id": "5d7e61cc",
   "metadata": {
    "execution": {
     "iopub.execute_input": "2022-03-22T15:55:39.469254Z",
     "iopub.status.busy": "2022-03-22T15:55:39.468875Z",
     "iopub.status.idle": "2022-03-22T15:55:39.494162Z",
     "shell.execute_reply": "2022-03-22T15:55:39.493339Z"
    },
    "papermill": {
     "duration": 0.049479,
     "end_time": "2022-03-22T15:55:39.494317",
     "exception": false,
     "start_time": "2022-03-22T15:55:39.444838",
     "status": "completed"
    },
    "tags": []
   },
   "outputs": [],
   "source": [
    "start_time_secs = time.time()"
   ]
  },
  {
   "cell_type": "code",
   "execution_count": 10,
   "id": "c6b67dfd",
   "metadata": {
    "execution": {
     "iopub.execute_input": "2022-03-22T15:55:39.544380Z",
     "iopub.status.busy": "2022-03-22T15:55:39.543527Z",
     "iopub.status.idle": "2022-03-22T15:55:39.565475Z",
     "shell.execute_reply": "2022-03-22T15:55:39.564652Z"
    },
    "papermill": {
     "duration": 0.046061,
     "end_time": "2022-03-22T15:55:39.565626",
     "exception": false,
     "start_time": "2022-03-22T15:55:39.519565",
     "status": "completed"
    },
    "tags": []
   },
   "outputs": [],
   "source": [
    "p.domains_source = []\n",
    "p.domains_target = []\n",
    "\n",
    "\n",
    "train_original_source = []\n",
    "val_original_source   = []\n",
    "test_original_source  = []\n",
    "\n",
    "train_original_target = []\n",
    "val_original_target   = []\n",
    "test_original_target  = []"
   ]
  },
  {
   "cell_type": "code",
   "execution_count": 11,
   "id": "e3d9c3d3",
   "metadata": {
    "execution": {
     "iopub.execute_input": "2022-03-22T15:55:39.616336Z",
     "iopub.status.busy": "2022-03-22T15:55:39.615349Z",
     "iopub.status.idle": "2022-03-22T15:55:39.637267Z",
     "shell.execute_reply": "2022-03-22T15:55:39.636551Z"
    },
    "papermill": {
     "duration": 0.045241,
     "end_time": "2022-03-22T15:55:39.637418",
     "exception": false,
     "start_time": "2022-03-22T15:55:39.592177",
     "status": "completed"
    },
    "tags": []
   },
   "outputs": [],
   "source": [
    "# global_x_transform_func = lambda x: normalize(x.to(torch.get_default_dtype()), \"unit_power\") # unit_power, unit_mag\n",
    "# global_x_transform_func = lambda x: normalize(x, \"unit_power\") # unit_power, unit_mag"
   ]
  },
  {
   "cell_type": "code",
   "execution_count": 12,
   "id": "acb78fd2",
   "metadata": {
    "execution": {
     "iopub.execute_input": "2022-03-22T15:55:39.694685Z",
     "iopub.status.busy": "2022-03-22T15:55:39.694107Z",
     "iopub.status.idle": "2022-03-22T15:55:39.712121Z",
     "shell.execute_reply": "2022-03-22T15:55:39.711329Z"
    },
    "papermill": {
     "duration": 0.04872,
     "end_time": "2022-03-22T15:55:39.712274",
     "exception": false,
     "start_time": "2022-03-22T15:55:39.663554",
     "status": "completed"
    },
    "tags": []
   },
   "outputs": [],
   "source": [
    "def add_dataset(\n",
    "    labels,\n",
    "    domains,\n",
    "    pickle_path,\n",
    "    x_transforms,\n",
    "    episode_transforms,\n",
    "    domain_prefix,\n",
    "    num_examples_per_domain_per_label,\n",
    "    source_or_target_dataset:str,\n",
    "    iterator_seed=p.seed,\n",
    "    dataset_seed=p.dataset_seed,\n",
    "    n_shot=p.n_shot,\n",
    "    n_way=p.n_way,\n",
    "    n_query=p.n_query,\n",
    "    train_val_test_k_factors=(p.train_k_factor,p.val_k_factor,p.test_k_factor),\n",
    "):\n",
    "   \n",
    "    if x_transforms == []: x_transform = None\n",
    "    else: x_transform = get_chained_transform(x_transforms)\n",
    "    \n",
    "    if episode_transforms == []: episode_transform = None\n",
    "    else: raise Exception(\"episode_transforms not implemented\")\n",
    "    \n",
    "    episode_transform = lambda tup, _prefix=domain_prefix: (_prefix + str(tup[0]), tup[1])\n",
    "\n",
    "\n",
    "    eaf = Episodic_Accessor_Factory(\n",
    "        labels=labels,\n",
    "        domains=domains,\n",
    "        num_examples_per_domain_per_label=num_examples_per_domain_per_label,\n",
    "        iterator_seed=iterator_seed,\n",
    "        dataset_seed=dataset_seed,\n",
    "        n_shot=n_shot,\n",
    "        n_way=n_way,\n",
    "        n_query=n_query,\n",
    "        train_val_test_k_factors=train_val_test_k_factors,\n",
    "        pickle_path=pickle_path,\n",
    "        x_transform_func=x_transform,\n",
    "    )\n",
    "\n",
    "    train, val, test = eaf.get_train(), eaf.get_val(), eaf.get_test()\n",
    "    train = Lazy_Iterable_Wrapper(train, episode_transform)\n",
    "    val = Lazy_Iterable_Wrapper(val, episode_transform)\n",
    "    test = Lazy_Iterable_Wrapper(test, episode_transform)\n",
    "\n",
    "    if source_or_target_dataset==\"source\":\n",
    "        train_original_source.append(train)\n",
    "        val_original_source.append(val)\n",
    "        test_original_source.append(test)\n",
    "\n",
    "        p.domains_source.extend(\n",
    "            [domain_prefix + str(u) for u in domains]\n",
    "        )\n",
    "    elif source_or_target_dataset==\"target\":\n",
    "        train_original_target.append(train)\n",
    "        val_original_target.append(val)\n",
    "        test_original_target.append(test)\n",
    "        p.domains_target.extend(\n",
    "            [domain_prefix + str(u) for u in domains]\n",
    "        )\n",
    "    else:\n",
    "        raise Exception(f\"invalid source_or_target_dataset: {source_or_target_dataset}\")\n",
    "    "
   ]
  },
  {
   "cell_type": "code",
   "execution_count": 13,
   "id": "fe266617",
   "metadata": {
    "execution": {
     "iopub.execute_input": "2022-03-22T15:55:39.761494Z",
     "iopub.status.busy": "2022-03-22T15:55:39.760948Z",
     "iopub.status.idle": "2022-03-22T15:56:24.743869Z",
     "shell.execute_reply": "2022-03-22T15:56:24.743084Z"
    },
    "papermill": {
     "duration": 45.007993,
     "end_time": "2022-03-22T15:56:24.744042",
     "exception": false,
     "start_time": "2022-03-22T15:55:39.736049",
     "status": "completed"
    },
    "tags": []
   },
   "outputs": [],
   "source": [
    "for ds in p.datasets:\n",
    "    add_dataset(**ds)"
   ]
  },
  {
   "cell_type": "code",
   "execution_count": 14,
   "id": "b90d65ac",
   "metadata": {
    "execution": {
     "iopub.execute_input": "2022-03-22T15:56:24.793677Z",
     "iopub.status.busy": "2022-03-22T15:56:24.793037Z",
     "iopub.status.idle": "2022-03-22T15:56:24.816624Z",
     "shell.execute_reply": "2022-03-22T15:56:24.815827Z"
    },
    "papermill": {
     "duration": 0.047271,
     "end_time": "2022-03-22T15:56:24.816773",
     "exception": false,
     "start_time": "2022-03-22T15:56:24.769502",
     "status": "completed"
    },
    "tags": []
   },
   "outputs": [],
   "source": [
    "# from steves_utils.CORES.utils import (\n",
    "#     ALL_NODES,\n",
    "#     ALL_NODES_MINIMUM_1000_EXAMPLES,\n",
    "#     ALL_DAYS\n",
    "# )\n",
    "\n",
    "# add_dataset(\n",
    "#     labels=ALL_NODES,\n",
    "#     domains = ALL_DAYS,\n",
    "#     num_examples_per_domain_per_label=100,\n",
    "#     pickle_path=os.path.join(get_datasets_base_path(), \"cores.stratified_ds.2022A.pkl\"),\n",
    "#     source_or_target_dataset=\"target\",\n",
    "#     x_transform_func=global_x_transform_func,\n",
    "#     domain_modifier=lambda u: f\"cores_{u}\"\n",
    "# )"
   ]
  },
  {
   "cell_type": "code",
   "execution_count": 15,
   "id": "76db484d",
   "metadata": {
    "execution": {
     "iopub.execute_input": "2022-03-22T15:56:24.869932Z",
     "iopub.status.busy": "2022-03-22T15:56:24.869303Z",
     "iopub.status.idle": "2022-03-22T15:56:24.892735Z",
     "shell.execute_reply": "2022-03-22T15:56:24.891927Z"
    },
    "papermill": {
     "duration": 0.046871,
     "end_time": "2022-03-22T15:56:24.892886",
     "exception": false,
     "start_time": "2022-03-22T15:56:24.846015",
     "status": "completed"
    },
    "tags": []
   },
   "outputs": [],
   "source": [
    "# from steves_utils.ORACLE.utils_v2 import (\n",
    "#     ALL_DISTANCES_FEET,\n",
    "#     ALL_RUNS,\n",
    "#     ALL_SERIAL_NUMBERS,\n",
    "# )\n",
    "\n",
    "\n",
    "# add_dataset(\n",
    "#     labels=ALL_SERIAL_NUMBERS,\n",
    "#     domains = list(set(ALL_DISTANCES_FEET) - {2,62}),\n",
    "#     num_examples_per_domain_per_label=100,\n",
    "#     pickle_path=os.path.join(get_datasets_base_path(), \"oracle.Run2_framed_2000Examples_stratified_ds.2022A.pkl\"),\n",
    "#     source_or_target_dataset=\"source\",\n",
    "#     x_transform_func=global_x_transform_func,\n",
    "#     domain_modifier=lambda u: f\"oracle1_{u}\"\n",
    "# )\n"
   ]
  },
  {
   "cell_type": "code",
   "execution_count": 16,
   "id": "97dea9d2",
   "metadata": {
    "execution": {
     "iopub.execute_input": "2022-03-22T15:56:24.944475Z",
     "iopub.status.busy": "2022-03-22T15:56:24.943996Z",
     "iopub.status.idle": "2022-03-22T15:56:24.960862Z",
     "shell.execute_reply": "2022-03-22T15:56:24.960038Z"
    },
    "papermill": {
     "duration": 0.039568,
     "end_time": "2022-03-22T15:56:24.961009",
     "exception": false,
     "start_time": "2022-03-22T15:56:24.921441",
     "status": "completed"
    },
    "tags": []
   },
   "outputs": [],
   "source": [
    "# from steves_utils.ORACLE.utils_v2 import (\n",
    "#     ALL_DISTANCES_FEET,\n",
    "#     ALL_RUNS,\n",
    "#     ALL_SERIAL_NUMBERS,\n",
    "# )\n",
    "\n",
    "\n",
    "# add_dataset(\n",
    "#     labels=ALL_SERIAL_NUMBERS,\n",
    "#     domains = list(set(ALL_DISTANCES_FEET) - {2,62,56}),\n",
    "#     num_examples_per_domain_per_label=100,\n",
    "#     pickle_path=os.path.join(get_datasets_base_path(), \"oracle.Run2_framed_2000Examples_stratified_ds.2022A.pkl\"),\n",
    "#     source_or_target_dataset=\"source\",\n",
    "#     x_transform_func=global_x_transform_func,\n",
    "#     domain_modifier=lambda u: f\"oracle2_{u}\"\n",
    "# )"
   ]
  },
  {
   "cell_type": "code",
   "execution_count": 17,
   "id": "6f289866",
   "metadata": {
    "execution": {
     "iopub.execute_input": "2022-03-22T15:56:25.017359Z",
     "iopub.status.busy": "2022-03-22T15:56:25.016798Z",
     "iopub.status.idle": "2022-03-22T15:56:25.029822Z",
     "shell.execute_reply": "2022-03-22T15:56:25.029026Z"
    },
    "papermill": {
     "duration": 0.042846,
     "end_time": "2022-03-22T15:56:25.029968",
     "exception": false,
     "start_time": "2022-03-22T15:56:24.987122",
     "status": "completed"
    },
    "tags": []
   },
   "outputs": [],
   "source": [
    "# add_dataset(\n",
    "#     labels=list(range(19)),\n",
    "#     domains = [0,1,2],\n",
    "#     num_examples_per_domain_per_label=100,\n",
    "#     pickle_path=os.path.join(get_datasets_base_path(), \"metehan.stratified_ds.2022A.pkl\"),\n",
    "#     source_or_target_dataset=\"target\",\n",
    "#     x_transform_func=global_x_transform_func,\n",
    "#     domain_modifier=lambda u: f\"met_{u}\"\n",
    "# )"
   ]
  },
  {
   "cell_type": "code",
   "execution_count": 18,
   "id": "86a863c3",
   "metadata": {
    "execution": {
     "iopub.execute_input": "2022-03-22T15:56:25.082355Z",
     "iopub.status.busy": "2022-03-22T15:56:25.081988Z",
     "iopub.status.idle": "2022-03-22T15:56:25.104796Z",
     "shell.execute_reply": "2022-03-22T15:56:25.103991Z"
    },
    "papermill": {
     "duration": 0.046542,
     "end_time": "2022-03-22T15:56:25.104946",
     "exception": false,
     "start_time": "2022-03-22T15:56:25.058404",
     "status": "completed"
    },
    "tags": []
   },
   "outputs": [],
   "source": [
    "# # from steves_utils.wisig.utils import (\n",
    "# #     ALL_NODES_MINIMUM_100_EXAMPLES,\n",
    "# #     ALL_NODES_MINIMUM_500_EXAMPLES,\n",
    "# #     ALL_NODES_MINIMUM_1000_EXAMPLES,\n",
    "# #     ALL_DAYS\n",
    "# # )\n",
    "\n",
    "# import steves_utils.wisig.utils as wisig\n",
    "\n",
    "\n",
    "# add_dataset(\n",
    "#     labels=wisig.ALL_NODES_MINIMUM_100_EXAMPLES,\n",
    "#     domains = wisig.ALL_DAYS,\n",
    "#     num_examples_per_domain_per_label=100,\n",
    "#     pickle_path=os.path.join(get_datasets_base_path(), \"wisig.node3-19.stratified_ds.2022A.pkl\"),\n",
    "#     source_or_target_dataset=\"target\",\n",
    "#     x_transform_func=global_x_transform_func,\n",
    "#     domain_modifier=lambda u: f\"wisig_{u}\"\n",
    "# )"
   ]
  },
  {
   "cell_type": "code",
   "execution_count": 19,
   "id": "fd5442bc",
   "metadata": {
    "execution": {
     "iopub.execute_input": "2022-03-22T15:56:25.164949Z",
     "iopub.status.busy": "2022-03-22T15:56:25.164103Z",
     "iopub.status.idle": "2022-03-22T15:56:25.187374Z",
     "shell.execute_reply": "2022-03-22T15:56:25.186549Z"
    },
    "papermill": {
     "duration": 0.053182,
     "end_time": "2022-03-22T15:56:25.187565",
     "exception": false,
     "start_time": "2022-03-22T15:56:25.134383",
     "status": "completed"
    },
    "tags": []
   },
   "outputs": [],
   "source": [
    "###################################\n",
    "# Build the dataset\n",
    "###################################\n",
    "train_original_source = Iterable_Aggregator(train_original_source, p.seed)\n",
    "val_original_source = Iterable_Aggregator(val_original_source, p.seed)\n",
    "test_original_source = Iterable_Aggregator(test_original_source, p.seed)\n",
    "\n",
    "\n",
    "train_original_target = Iterable_Aggregator(train_original_target, p.seed)\n",
    "val_original_target = Iterable_Aggregator(val_original_target, p.seed)\n",
    "test_original_target = Iterable_Aggregator(test_original_target, p.seed)\n",
    "\n",
    "# For CNN We only use X and Y. And we only train on the source.\n",
    "# Properly form the data using a transform lambda and Lazy_Iterable_Wrapper. Finally wrap them in a dataloader\n",
    "\n",
    "transform_lambda = lambda ex: ex[1] # Original is (<domain>, <episode>) so we strip down to episode only\n",
    "\n",
    "train_processed_source = Lazy_Iterable_Wrapper(train_original_source, transform_lambda)\n",
    "val_processed_source   = Lazy_Iterable_Wrapper(val_original_source, transform_lambda)\n",
    "test_processed_source  = Lazy_Iterable_Wrapper(test_original_source, transform_lambda)\n",
    "\n",
    "train_processed_target = Lazy_Iterable_Wrapper(train_original_target, transform_lambda)\n",
    "val_processed_target   = Lazy_Iterable_Wrapper(val_original_target, transform_lambda)\n",
    "test_processed_target  = Lazy_Iterable_Wrapper(test_original_target, transform_lambda)\n",
    "\n",
    "datasets = EasyDict({\n",
    "    \"source\": {\n",
    "        \"original\": {\"train\":train_original_source, \"val\":val_original_source, \"test\":test_original_source},\n",
    "        \"processed\": {\"train\":train_processed_source, \"val\":val_processed_source, \"test\":test_processed_source}\n",
    "    },\n",
    "    \"target\": {\n",
    "        \"original\": {\"train\":train_original_target, \"val\":val_original_target, \"test\":test_original_target},\n",
    "        \"processed\": {\"train\":train_processed_target, \"val\":val_processed_target, \"test\":test_processed_target}\n",
    "    },\n",
    "})"
   ]
  },
  {
   "cell_type": "code",
   "execution_count": 20,
   "id": "5b3c01fc",
   "metadata": {
    "execution": {
     "iopub.execute_input": "2022-03-22T15:56:25.240886Z",
     "iopub.status.busy": "2022-03-22T15:56:25.240428Z",
     "iopub.status.idle": "2022-03-22T15:56:39.569028Z",
     "shell.execute_reply": "2022-03-22T15:56:39.569761Z"
    },
    "papermill": {
     "duration": 14.356196,
     "end_time": "2022-03-22T15:56:39.569943",
     "exception": false,
     "start_time": "2022-03-22T15:56:25.213747",
     "status": "completed"
    },
    "tags": []
   },
   "outputs": [
    {
     "name": "stdout",
     "output_type": "stream",
     "text": [
      "{'Wisig_3', 'Wisig_1', 'Wisig_4', 'Wisig_2'}\n"
     ]
    },
    {
     "name": "stdout",
     "output_type": "stream",
     "text": [
      "{'ORACLE.run120', 'ORACLE.run150', 'ORACLE.run126', 'ORACLE.run138', 'ORACLE.run132', 'ORACLE.run18', 'ORACLE.run114', 'ORACLE.run144'}\n"
     ]
    },
    {
     "name": "stdout",
     "output_type": "stream",
     "text": [
      "tensor([[[-0.0552,  1.4067,  0.0552,  ...,  0.4187,  0.8400, -0.2031],\n",
      "         [-1.0657,  0.1404,  1.6975,  ..., -0.5115,  0.2332,  1.4092]],\n",
      "\n",
      "        [[ 0.5538,  0.8831, -1.2149,  ...,  0.5014,  0.2295, -0.9729],\n",
      "         [-0.6636,  0.5588,  1.0851,  ...,  0.3642,  0.5538,  0.5613]],\n",
      "\n",
      "        [[ 0.4174,  1.5304,  0.4894,  ...,  0.6509,  1.2869, -0.0373],\n",
      "         [-1.0633,  0.4596,  1.3963,  ..., -0.6956,  0.7826,  1.5727]],\n",
      "\n",
      "        ...,\n",
      "\n",
      "        [[-0.7961, -0.8103,  0.1263,  ..., -1.4218, -0.7774, -0.4859],\n",
      "         [ 0.8171, -0.0336, -1.1923,  ..., -0.3812, -0.6780,  0.0067]],\n",
      "\n",
      "        [[-0.0493, -0.0514, -0.0655,  ...,  0.7536, -0.1388, -1.4819],\n",
      "         [-0.0810, -0.0902, -0.0070,  ..., -0.2275,  1.0016,  0.1113]],\n",
      "\n",
      "        [[-0.1101, -0.3701,  0.0023,  ..., -0.6136,  0.3272,  0.6091],\n",
      "         [-0.1877, -0.1945, -0.8443,  ..., -0.8044, -1.1074, -0.3113]]])\n"
     ]
    }
   ],
   "source": [
    "from steves_utils.transforms import get_average_magnitude, get_average_power\n",
    "\n",
    "print(set([u for u,_ in val_original_source]))\n",
    "print(set([u for u,_ in val_original_target]))\n",
    "\n",
    "s_x, s_y, q_x, q_y, _ = next(iter(train_processed_source))\n",
    "print(s_x)\n",
    "\n",
    "# for ds in [\n",
    "#     train_processed_source,\n",
    "#     val_processed_source,\n",
    "#     test_processed_source,\n",
    "#     train_processed_target,\n",
    "#     val_processed_target,\n",
    "#     test_processed_target\n",
    "# ]:\n",
    "#     for s_x, s_y, q_x, q_y, _ in ds:\n",
    "#         for X in (s_x, q_x):\n",
    "#             for x in X:\n",
    "#                 assert np.isclose(get_average_magnitude(x.numpy()), 1.0)\n",
    "#                 assert np.isclose(get_average_power(x.numpy()), 1.0)\n",
    "                "
   ]
  },
  {
   "cell_type": "code",
   "execution_count": 21,
   "id": "bbdacba1",
   "metadata": {
    "execution": {
     "iopub.execute_input": "2022-03-22T15:56:39.623822Z",
     "iopub.status.busy": "2022-03-22T15:56:39.623248Z",
     "iopub.status.idle": "2022-03-22T15:56:39.872758Z",
     "shell.execute_reply": "2022-03-22T15:56:39.872321Z"
    },
    "papermill": {
     "duration": 0.277071,
     "end_time": "2022-03-22T15:56:39.872866",
     "exception": false,
     "start_time": "2022-03-22T15:56:39.595795",
     "status": "completed"
    },
    "tags": []
   },
   "outputs": [
    {
     "name": "stdout",
     "output_type": "stream",
     "text": [
      "(2, 256)\n"
     ]
    }
   ],
   "source": [
    "###################################\n",
    "# Build the model\n",
    "###################################\n",
    "# easfsl only wants a tuple for the shape\n",
    "model = Steves_Prototypical_Network(x_net, device=p.device, x_shape=tuple(p.x_shape))\n",
    "optimizer = Adam(params=model.parameters(), lr=p.lr)"
   ]
  },
  {
   "cell_type": "code",
   "execution_count": 22,
   "id": "22b39ac5",
   "metadata": {
    "execution": {
     "iopub.execute_input": "2022-03-22T15:56:39.923662Z",
     "iopub.status.busy": "2022-03-22T15:56:39.923272Z",
     "iopub.status.idle": "2022-03-22T16:13:32.740550Z",
     "shell.execute_reply": "2022-03-22T16:13:32.740206Z"
    },
    "papermill": {
     "duration": 1012.844936,
     "end_time": "2022-03-22T16:13:32.740634",
     "exception": false,
     "start_time": "2022-03-22T15:56:39.895698",
     "status": "completed"
    },
    "tags": []
   },
   "outputs": [
    {
     "name": "stdout",
     "output_type": "stream",
     "text": [
      "epoch: 1, [batch: 1 / 6866], examples_per_second: 32.3893, train_label_loss: 2.6028, \n"
     ]
    },
    {
     "name": "stdout",
     "output_type": "stream",
     "text": [
      "epoch: 1, [batch: 687 / 6866], examples_per_second: 2968.5406, train_label_loss: 0.6380, \n"
     ]
    },
    {
     "name": "stdout",
     "output_type": "stream",
     "text": [
      "epoch: 1, [batch: 1374 / 6866], examples_per_second: 2961.7796, train_label_loss: 0.3055, \n"
     ]
    },
    {
     "name": "stdout",
     "output_type": "stream",
     "text": [
      "epoch: 1, [batch: 2060 / 6866], examples_per_second: 3147.4722, train_label_loss: 0.0585, \n"
     ]
    },
    {
     "name": "stdout",
     "output_type": "stream",
     "text": [
      "epoch: 1, [batch: 2747 / 6866], examples_per_second: 3390.9573, train_label_loss: 0.1608, \n"
     ]
    },
    {
     "name": "stdout",
     "output_type": "stream",
     "text": [
      "epoch: 1, [batch: 3433 / 6866], examples_per_second: 3526.3110, train_label_loss: 0.0594, \n"
     ]
    },
    {
     "name": "stdout",
     "output_type": "stream",
     "text": [
      "epoch: 1, [batch: 4120 / 6866], examples_per_second: 2990.0725, train_label_loss: 0.0103, \n"
     ]
    },
    {
     "name": "stdout",
     "output_type": "stream",
     "text": [
      "epoch: 1, [batch: 4806 / 6866], examples_per_second: 2973.7003, train_label_loss: 0.0605, \n"
     ]
    },
    {
     "name": "stdout",
     "output_type": "stream",
     "text": [
      "epoch: 1, [batch: 5493 / 6866], examples_per_second: 2988.0796, train_label_loss: 0.0156, \n"
     ]
    },
    {
     "name": "stdout",
     "output_type": "stream",
     "text": [
      "epoch: 1, [batch: 6179 / 6866], examples_per_second: 3019.8042, train_label_loss: 0.0108, \n"
     ]
    },
    {
     "name": "stdout",
     "output_type": "stream",
     "text": [
      "=============================================================\n",
      "epoch: 1, source_val_acc_label: 0.9618, target_val_acc_label: 0.1201, source_val_label_loss: 0.1720, target_val_label_loss: 2.6824, \n",
      "=============================================================\n"
     ]
    },
    {
     "name": "stdout",
     "output_type": "stream",
     "text": [
      "New best\n"
     ]
    },
    {
     "name": "stdout",
     "output_type": "stream",
     "text": [
      "epoch: 2, [batch: 1 / 6837], examples_per_second: 2.8125, train_label_loss: 0.0631, \n"
     ]
    },
    {
     "name": "stdout",
     "output_type": "stream",
     "text": [
      "epoch: 2, [batch: 684 / 6837], examples_per_second: 2989.4887, train_label_loss: 0.1153, \n"
     ]
    },
    {
     "name": "stdout",
     "output_type": "stream",
     "text": [
      "epoch: 2, [batch: 1368 / 6837], examples_per_second: 2975.4000, train_label_loss: 0.1404, \n"
     ]
    },
    {
     "name": "stdout",
     "output_type": "stream",
     "text": [
      "epoch: 2, [batch: 2051 / 6837], examples_per_second: 3232.6596, train_label_loss: 0.1489, \n"
     ]
    },
    {
     "name": "stdout",
     "output_type": "stream",
     "text": [
      "epoch: 2, [batch: 2735 / 6837], examples_per_second: 3520.3947, train_label_loss: 0.1615, \n"
     ]
    },
    {
     "name": "stdout",
     "output_type": "stream",
     "text": [
      "epoch: 2, [batch: 3419 / 6837], examples_per_second: 3549.4703, train_label_loss: 0.0293, \n"
     ]
    },
    {
     "name": "stdout",
     "output_type": "stream",
     "text": [
      "epoch: 2, [batch: 4102 / 6837], examples_per_second: 2974.1087, train_label_loss: 0.0015, \n"
     ]
    },
    {
     "name": "stdout",
     "output_type": "stream",
     "text": [
      "epoch: 2, [batch: 4786 / 6837], examples_per_second: 2944.0459, train_label_loss: 0.1383, \n"
     ]
    },
    {
     "name": "stdout",
     "output_type": "stream",
     "text": [
      "epoch: 2, [batch: 5469 / 6837], examples_per_second: 3016.2617, train_label_loss: 0.4881, \n"
     ]
    },
    {
     "name": "stdout",
     "output_type": "stream",
     "text": [
      "epoch: 2, [batch: 6153 / 6837], examples_per_second: 3027.5125, train_label_loss: 0.0922, \n"
     ]
    },
    {
     "name": "stdout",
     "output_type": "stream",
     "text": [
      "=============================================================\n",
      "epoch: 2, source_val_acc_label: 0.9678, target_val_acc_label: 0.1162, source_val_label_loss: 0.1408, target_val_label_loss: 2.6757, \n",
      "=============================================================\n"
     ]
    },
    {
     "name": "stdout",
     "output_type": "stream",
     "text": [
      "epoch: 3, [batch: 1 / 6844], examples_per_second: 2.8133, train_label_loss: 0.3445, \n"
     ]
    },
    {
     "name": "stdout",
     "output_type": "stream",
     "text": [
      "epoch: 3, [batch: 685 / 6844], examples_per_second: 3025.4600, train_label_loss: 0.0068, \n"
     ]
    },
    {
     "name": "stdout",
     "output_type": "stream",
     "text": [
      "epoch: 3, [batch: 1369 / 6844], examples_per_second: 3065.1576, train_label_loss: 0.0380, \n"
     ]
    },
    {
     "name": "stdout",
     "output_type": "stream",
     "text": [
      "epoch: 3, [batch: 2053 / 6844], examples_per_second: 3345.5283, train_label_loss: 0.1410, \n"
     ]
    },
    {
     "name": "stdout",
     "output_type": "stream",
     "text": [
      "epoch: 3, [batch: 2738 / 6844], examples_per_second: 3458.8750, train_label_loss: 0.0053, \n"
     ]
    },
    {
     "name": "stdout",
     "output_type": "stream",
     "text": [
      "epoch: 3, [batch: 3422 / 6844], examples_per_second: 3531.4460, train_label_loss: 0.1317, \n"
     ]
    },
    {
     "name": "stdout",
     "output_type": "stream",
     "text": [
      "epoch: 3, [batch: 4106 / 6844], examples_per_second: 3029.1290, train_label_loss: 0.0619, \n"
     ]
    },
    {
     "name": "stdout",
     "output_type": "stream",
     "text": [
      "epoch: 3, [batch: 4791 / 6844], examples_per_second: 2967.5238, train_label_loss: 0.3272, \n"
     ]
    },
    {
     "name": "stdout",
     "output_type": "stream",
     "text": [
      "epoch: 3, [batch: 5475 / 6844], examples_per_second: 2984.7360, train_label_loss: 0.0028, \n"
     ]
    },
    {
     "name": "stdout",
     "output_type": "stream",
     "text": [
      "epoch: 3, [batch: 6159 / 6844], examples_per_second: 2999.0494, train_label_loss: 0.1810, \n"
     ]
    },
    {
     "name": "stdout",
     "output_type": "stream",
     "text": [
      "=============================================================\n",
      "epoch: 3, source_val_acc_label: 0.9721, target_val_acc_label: 0.1065, source_val_label_loss: 0.1220, target_val_label_loss: 2.7354, \n",
      "=============================================================\n"
     ]
    },
    {
     "name": "stdout",
     "output_type": "stream",
     "text": [
      "epoch: 4, [batch: 1 / 6836], examples_per_second: 2.7771, train_label_loss: 0.0797, \n"
     ]
    },
    {
     "name": "stdout",
     "output_type": "stream",
     "text": [
      "epoch: 4, [batch: 684 / 6836], examples_per_second: 3022.5938, train_label_loss: 0.1451, \n"
     ]
    },
    {
     "name": "stdout",
     "output_type": "stream",
     "text": [
      "epoch: 4, [batch: 1368 / 6836], examples_per_second: 3036.8770, train_label_loss: 0.0969, \n"
     ]
    },
    {
     "name": "stdout",
     "output_type": "stream",
     "text": [
      "epoch: 4, [batch: 2051 / 6836], examples_per_second: 3353.3638, train_label_loss: 0.1768, \n"
     ]
    },
    {
     "name": "stdout",
     "output_type": "stream",
     "text": [
      "epoch: 4, [batch: 2735 / 6836], examples_per_second: 3378.2491, train_label_loss: 0.0950, \n"
     ]
    },
    {
     "name": "stdout",
     "output_type": "stream",
     "text": [
      "epoch: 4, [batch: 3418 / 6836], examples_per_second: 3443.0889, train_label_loss: 0.4518, \n"
     ]
    },
    {
     "name": "stdout",
     "output_type": "stream",
     "text": [
      "epoch: 4, [batch: 4102 / 6836], examples_per_second: 3423.7998, train_label_loss: 0.0016, \n"
     ]
    },
    {
     "name": "stdout",
     "output_type": "stream",
     "text": [
      "epoch: 4, [batch: 4785 / 6836], examples_per_second: 3462.5237, train_label_loss: 0.2975, \n"
     ]
    },
    {
     "name": "stdout",
     "output_type": "stream",
     "text": [
      "epoch: 4, [batch: 5469 / 6836], examples_per_second: 3489.8433, train_label_loss: 0.2374, \n"
     ]
    },
    {
     "name": "stdout",
     "output_type": "stream",
     "text": [
      "epoch: 4, [batch: 6152 / 6836], examples_per_second: 3439.2016, train_label_loss: 0.0984, \n"
     ]
    },
    {
     "name": "stdout",
     "output_type": "stream",
     "text": [
      "=============================================================\n",
      "epoch: 4, source_val_acc_label: 0.9722, target_val_acc_label: 0.1027, source_val_label_loss: 0.1251, target_val_label_loss: 2.7504, \n",
      "=============================================================\n"
     ]
    },
    {
     "name": "stdout",
     "output_type": "stream",
     "text": [
      "epoch: 5, [batch: 1 / 6857], examples_per_second: 3.2922, train_label_loss: 0.0935, \n"
     ]
    },
    {
     "name": "stdout",
     "output_type": "stream",
     "text": [
      "epoch: 5, [batch: 686 / 6857], examples_per_second: 4100.4780, train_label_loss: 0.1065, \n"
     ]
    },
    {
     "name": "stdout",
     "output_type": "stream",
     "text": [
      "epoch: 5, [batch: 1372 / 6857], examples_per_second: 4319.8361, train_label_loss: 0.0764, \n"
     ]
    },
    {
     "name": "stdout",
     "output_type": "stream",
     "text": [
      "epoch: 5, [batch: 2057 / 6857], examples_per_second: 4604.3395, train_label_loss: 0.0039, \n"
     ]
    },
    {
     "name": "stdout",
     "output_type": "stream",
     "text": [
      "epoch: 5, [batch: 2743 / 6857], examples_per_second: 4867.2087, train_label_loss: 0.1650, \n"
     ]
    },
    {
     "name": "stdout",
     "output_type": "stream",
     "text": [
      "epoch: 5, [batch: 3429 / 6857], examples_per_second: 5368.1255, train_label_loss: 0.0384, \n"
     ]
    },
    {
     "name": "stdout",
     "output_type": "stream",
     "text": [
      "epoch: 5, [batch: 4114 / 6857], examples_per_second: 5118.2152, train_label_loss: 0.1964, \n"
     ]
    },
    {
     "name": "stdout",
     "output_type": "stream",
     "text": [
      "epoch: 5, [batch: 4800 / 6857], examples_per_second: 3828.3195, train_label_loss: 0.1013, \n"
     ]
    },
    {
     "name": "stdout",
     "output_type": "stream",
     "text": [
      "epoch: 5, [batch: 5485 / 6857], examples_per_second: 3786.9328, train_label_loss: 0.1787, \n"
     ]
    },
    {
     "name": "stdout",
     "output_type": "stream",
     "text": [
      "epoch: 5, [batch: 6171 / 6857], examples_per_second: 3847.8010, train_label_loss: 0.0690, \n"
     ]
    },
    {
     "name": "stdout",
     "output_type": "stream",
     "text": [
      "=============================================================\n",
      "epoch: 5, source_val_acc_label: 0.9728, target_val_acc_label: 0.0924, source_val_label_loss: 0.1262, target_val_label_loss: 2.8543, \n",
      "=============================================================\n"
     ]
    },
    {
     "name": "stdout",
     "output_type": "stream",
     "text": [
      "Patience (3) exhausted\n"
     ]
    }
   ],
   "source": [
    "###################################\n",
    "# train\n",
    "###################################\n",
    "jig = PTN_Train_Eval_Test_Jig(model, p.BEST_MODEL_PATH, p.device)\n",
    "\n",
    "jig.train(\n",
    "    train_iterable=datasets.source.processed.train,\n",
    "    source_val_iterable=datasets.source.processed.val,\n",
    "    target_val_iterable=datasets.target.processed.val,\n",
    "    num_epochs=p.n_epoch,\n",
    "    num_logs_per_epoch=p.NUM_LOGS_PER_EPOCH,\n",
    "    patience=p.patience,\n",
    "    optimizer=optimizer,\n",
    "    criteria_for_best=p.criteria_for_best,\n",
    ")"
   ]
  },
  {
   "cell_type": "code",
   "execution_count": 23,
   "id": "31e8fabf",
   "metadata": {
    "execution": {
     "iopub.execute_input": "2022-03-22T16:13:32.822119Z",
     "iopub.status.busy": "2022-03-22T16:13:32.821552Z",
     "iopub.status.idle": "2022-03-22T16:13:32.853399Z",
     "shell.execute_reply": "2022-03-22T16:13:32.852603Z"
    },
    "papermill": {
     "duration": 0.074759,
     "end_time": "2022-03-22T16:13:32.853576",
     "exception": false,
     "start_time": "2022-03-22T16:13:32.778817",
     "status": "completed"
    },
    "tags": []
   },
   "outputs": [],
   "source": [
    "total_experiment_time_secs = time.time() - start_time_secs"
   ]
  },
  {
   "cell_type": "code",
   "execution_count": 24,
   "id": "87b9595b",
   "metadata": {
    "execution": {
     "iopub.execute_input": "2022-03-22T16:13:32.944528Z",
     "iopub.status.busy": "2022-03-22T16:13:32.943927Z",
     "iopub.status.idle": "2022-03-22T16:17:10.868674Z",
     "shell.execute_reply": "2022-03-22T16:17:10.869369Z"
    },
    "papermill": {
     "duration": 217.972675,
     "end_time": "2022-03-22T16:17:10.869605",
     "exception": false,
     "start_time": "2022-03-22T16:13:32.896930",
     "status": "completed"
    },
    "tags": []
   },
   "outputs": [],
   "source": [
    "###################################\n",
    "# Evaluate the model\n",
    "###################################\n",
    "source_test_label_accuracy, source_test_label_loss = jig.test(datasets.source.processed.test)\n",
    "target_test_label_accuracy, target_test_label_loss = jig.test(datasets.target.processed.test)\n",
    "\n",
    "source_val_label_accuracy, source_val_label_loss = jig.test(datasets.source.processed.val)\n",
    "target_val_label_accuracy, target_val_label_loss = jig.test(datasets.target.processed.val)\n",
    "\n",
    "history = jig.get_history()\n",
    "\n",
    "total_epochs_trained = len(history[\"epoch_indices\"])\n",
    "\n",
    "val_dl = Iterable_Aggregator((datasets.source.original.val,datasets.target.original.val))\n",
    "\n",
    "confusion = ptn_confusion_by_domain_over_dataloader(model, p.device, val_dl)\n",
    "per_domain_accuracy = per_domain_accuracy_from_confusion(confusion)\n",
    "\n",
    "# Add a key to per_domain_accuracy for if it was a source domain\n",
    "for domain, accuracy in per_domain_accuracy.items():\n",
    "    per_domain_accuracy[domain] = {\n",
    "        \"accuracy\": accuracy,\n",
    "        \"source?\": domain in p.domains_source\n",
    "    }\n",
    "\n",
    "# Do an independent accuracy assesment JUST TO BE SURE!\n",
    "# _source_test_label_accuracy = independent_accuracy_assesment(model, datasets.source.processed.test, p.device)\n",
    "# _target_test_label_accuracy = independent_accuracy_assesment(model, datasets.target.processed.test, p.device)\n",
    "# _source_val_label_accuracy = independent_accuracy_assesment(model, datasets.source.processed.val, p.device)\n",
    "# _target_val_label_accuracy = independent_accuracy_assesment(model, datasets.target.processed.val, p.device)\n",
    "\n",
    "# assert(_source_test_label_accuracy == source_test_label_accuracy)\n",
    "# assert(_target_test_label_accuracy == target_test_label_accuracy)\n",
    "# assert(_source_val_label_accuracy == source_val_label_accuracy)\n",
    "# assert(_target_val_label_accuracy == target_val_label_accuracy)\n",
    "\n",
    "experiment = {\n",
    "    \"experiment_name\": p.experiment_name,\n",
    "    \"parameters\": dict(p),\n",
    "    \"results\": {\n",
    "        \"source_test_label_accuracy\": source_test_label_accuracy,\n",
    "        \"source_test_label_loss\": source_test_label_loss,\n",
    "        \"target_test_label_accuracy\": target_test_label_accuracy,\n",
    "        \"target_test_label_loss\": target_test_label_loss,\n",
    "        \"source_val_label_accuracy\": source_val_label_accuracy,\n",
    "        \"source_val_label_loss\": source_val_label_loss,\n",
    "        \"target_val_label_accuracy\": target_val_label_accuracy,\n",
    "        \"target_val_label_loss\": target_val_label_loss,\n",
    "        \"total_epochs_trained\": total_epochs_trained,\n",
    "        \"total_experiment_time_secs\": total_experiment_time_secs,\n",
    "        \"confusion\": confusion,\n",
    "        \"per_domain_accuracy\": per_domain_accuracy,\n",
    "    },\n",
    "    \"history\": history,\n",
    "    \"dataset_metrics\": get_dataset_metrics(datasets, \"ptn\"),\n",
    "}"
   ]
  },
  {
   "cell_type": "code",
   "execution_count": 25,
   "id": "54a21829",
   "metadata": {
    "execution": {
     "iopub.execute_input": "2022-03-22T16:17:10.954983Z",
     "iopub.status.busy": "2022-03-22T16:17:10.954607Z",
     "iopub.status.idle": "2022-03-22T16:17:11.170142Z",
     "shell.execute_reply": "2022-03-22T16:17:11.170828Z"
    },
    "papermill": {
     "duration": 0.258922,
     "end_time": "2022-03-22T16:17:11.171013",
     "exception": false,
     "start_time": "2022-03-22T16:17:10.912091",
     "status": "completed"
    },
    "tags": []
   },
   "outputs": [
    {
     "data": {
      "image/png": "[encoded data removed]",
      "text/plain": [
       "<Figure size 1080x504 with 1 Axes>"
      ]
     },
     "metadata": {
      "needs_background": "light"
     },
     "output_type": "display_data"
    }
   ],
   "source": [
    "ax = get_loss_curve(experiment)\n",
    "plt.show()"
   ]
  },
  {
   "cell_type": "code",
   "execution_count": 26,
   "id": "fd8a0f60",
   "metadata": {
    "execution": {
     "iopub.execute_input": "2022-03-22T16:17:11.256622Z",
     "iopub.status.busy": "2022-03-22T16:17:11.256039Z",
     "iopub.status.idle": "2022-03-22T16:17:11.579519Z",
     "shell.execute_reply": "2022-03-22T16:17:11.580208Z"
    },
    "papermill": {
     "duration": 0.367366,
     "end_time": "2022-03-22T16:17:11.580390",
     "exception": false,
     "start_time": "2022-03-22T16:17:11.213024",
     "status": "completed"
    },
    "tags": []
   },
   "outputs": [
    {
     "data": {
      "text/plain": [
       "<AxesSubplot:title={'center':'Results'}>"
      ]
     },
     "execution_count": 26,
     "metadata": {},
     "output_type": "execute_result"
    },
    {
     "data": {
      "image/png": "[encoded data removed]",
      "text/plain": [
       "<Figure size 1080x504 with 1 Axes>"
      ]
     },
     "metadata": {
      "needs_background": "light"
     },
     "output_type": "display_data"
    }
   ],
   "source": [
    "get_results_table(experiment)"
   ]
  },
  {
   "cell_type": "code",
   "execution_count": 27,
   "id": "cf8dc689",
   "metadata": {
    "execution": {
     "iopub.execute_input": "2022-03-22T16:17:11.670058Z",
     "iopub.status.busy": "2022-03-22T16:17:11.669425Z",
     "iopub.status.idle": "2022-03-22T16:17:11.921974Z",
     "shell.execute_reply": "2022-03-22T16:17:11.922649Z"
    },
    "papermill": {
     "duration": 0.297496,
     "end_time": "2022-03-22T16:17:11.922832",
     "exception": false,
     "start_time": "2022-03-22T16:17:11.625336",
     "status": "completed"
    },
    "tags": []
   },
   "outputs": [
    {
     "data": {
      "text/plain": [
       "<AxesSubplot:title={'center':'Per Domain Validation Accuracy'}, xlabel='domain'>"
      ]
     },
     "execution_count": 27,
     "metadata": {},
     "output_type": "execute_result"
    },
    {
     "data": {
      "image/png": "[encoded data removed]",
      "text/plain": [
       "<Figure size 1080x504 with 1 Axes>"
      ]
     },
     "metadata": {
      "needs_background": "light"
     },
     "output_type": "display_data"
    }
   ],
   "source": [
    "get_domain_accuracies(experiment)"
   ]
  },
  {
   "cell_type": "code",
   "execution_count": 28,
   "id": "a74ae082",
   "metadata": {
    "execution": {
     "iopub.execute_input": "2022-03-22T16:17:12.014327Z",
     "iopub.status.busy": "2022-03-22T16:17:12.013952Z",
     "iopub.status.idle": "2022-03-22T16:17:12.039736Z",
     "shell.execute_reply": "2022-03-22T16:17:12.039025Z"
    },
    "papermill": {
     "duration": 0.071888,
     "end_time": "2022-03-22T16:17:12.039900",
     "exception": false,
     "start_time": "2022-03-22T16:17:11.968012",
     "status": "completed"
    },
    "tags": []
   },
   "outputs": [
    {
     "name": "stdout",
     "output_type": "stream",
     "text": [
      "Source Test Label Accuracy: 0.9626547987616099 Target Test Label Accuracy: 0.12141927083333333\n",
      "Source Val Label Accuracy: 0.961765095338983 Target Val Label Accuracy: 0.12005208333333334\n"
     ]
    }
   ],
   "source": [
    "print(\"Source Test Label Accuracy:\", experiment[\"results\"][\"source_test_label_accuracy\"], \"Target Test Label Accuracy:\", experiment[\"results\"][\"target_test_label_accuracy\"])\n",
    "print(\"Source Val Label Accuracy:\", experiment[\"results\"][\"source_val_label_accuracy\"], \"Target Val Label Accuracy:\", experiment[\"results\"][\"target_val_label_accuracy\"])"
   ]
  },
  {
   "cell_type": "code",
   "execution_count": 29,
   "id": "dacca602",
   "metadata": {
    "execution": {
     "iopub.execute_input": "2022-03-22T16:17:12.185954Z",
     "iopub.status.busy": "2022-03-22T16:17:12.185582Z",
     "iopub.status.idle": "2022-03-22T16:17:12.211831Z",
     "shell.execute_reply": "2022-03-22T16:17:12.212500Z"
    },
    "papermill": {
     "duration": 0.123893,
     "end_time": "2022-03-22T16:17:12.212692",
     "exception": false,
     "start_time": "2022-03-22T16:17:12.088799",
     "status": "completed"
    },
    "tags": [
     "experiment_json"
    ]
   },
   "outputs": [
    {
     "data": {
      "text/plain": [
       "'{\"experiment_name\": \"tl_1v2:wisig-oracle.run1.limited\", \"parameters\": {\"experiment_name\": \"tl_1v2:wisig-oracle.run1.limited\", \"device\": \"cuda\", \"lr\": 0.0001, \"n_shot\": 3, \"n_query\": 2, \"train_k_factor\": 3, \"val_k_factor\": 2, \"test_k_factor\": 2, \"torch_default_dtype\": \"torch.float32\", \"n_epoch\": 50, \"patience\": 3, \"criteria_for_best\": \"target_accuracy\", \"x_net\": [{\"class\": \"nnReshape\", \"kargs\": {\"shape\": [-1, 1, 2, 256]}}, {\"class\": \"Conv2d\", \"kargs\": {\"in_channels\": 1, \"out_channels\": 256, \"kernel_size\": [1, 7], \"bias\": false, \"padding\": [0, 3]}}, {\"class\": \"ReLU\", \"kargs\": {\"inplace\": true}}, {\"class\": \"BatchNorm2d\", \"kargs\": {\"num_features\": 256}}, {\"class\": \"Conv2d\", \"kargs\": {\"in_channels\": 256, \"out_channels\": 80, \"kernel_size\": [2, 7], \"bias\": true, \"padding\": [0, 3]}}, {\"class\": \"ReLU\", \"kargs\": {\"inplace\": true}}, {\"class\": \"BatchNorm2d\", \"kargs\": {\"num_features\": 80}}, {\"class\": \"Flatten\", \"kargs\": {}}, {\"class\": \"Linear\", \"kargs\": {\"in_features\": 20480, \"out_features\": 256}}, {\"class\": \"ReLU\", \"kargs\": {\"inplace\": true}}, {\"class\": \"BatchNorm1d\", \"kargs\": {\"num_features\": 256}}, {\"class\": \"Linear\", \"kargs\": {\"in_features\": 256, \"out_features\": 256}}], \"NUM_LOGS_PER_EPOCH\": 10, \"BEST_MODEL_PATH\": \"./best_model.pth\", \"n_way\": 16, \"datasets\": [{\"labels\": [\"1-10\", \"1-12\", \"1-14\", \"1-16\", \"1-18\", \"1-19\", \"1-8\", \"10-11\", \"10-17\", \"10-4\", \"10-7\", \"11-1\", \"11-10\", \"11-19\", \"11-20\", \"11-4\", \"11-7\", \"12-19\", \"12-20\", \"12-7\", \"13-14\", \"13-18\", \"13-19\", \"13-20\", \"13-3\", \"13-7\", \"14-10\", \"14-11\", \"14-12\", \"14-13\", \"14-14\", \"14-19\", \"14-20\", \"14-7\", \"14-8\", \"14-9\", \"15-1\", \"15-19\", \"15-6\", \"16-1\", \"16-16\", \"16-19\", \"16-20\", \"17-10\", \"17-11\", \"18-1\", \"18-10\", \"18-11\", \"18-12\", \"18-13\", \"18-14\", \"18-15\", \"18-16\", \"18-17\", \"18-19\", \"18-2\", \"18-20\", \"18-4\", \"18-5\", \"18-7\", \"18-8\", \"18-9\", \"19-1\", \"19-10\", \"19-11\", \"19-12\", \"19-13\", \"19-14\", \"19-15\", \"19-19\", \"19-2\", \"19-20\", \"19-3\", \"19-4\", \"19-6\", \"19-7\", \"19-8\", \"19-9\", \"2-1\", \"2-13\", \"2-15\", \"2-3\", \"2-4\", \"2-5\", \"2-6\", \"2-7\", \"2-8\", \"20-1\", \"20-12\", \"20-14\", \"20-15\", \"20-16\", \"20-18\", \"20-19\", \"20-20\", \"20-3\", \"20-4\", \"20-5\", \"20-7\", \"20-8\", \"3-1\", \"3-13\", \"3-18\", \"3-2\", \"3-8\", \"4-1\", \"4-10\", \"4-11\", \"5-1\", \"5-5\", \"6-1\", \"6-15\", \"6-6\", \"7-10\", \"7-11\", \"7-12\", \"7-13\", \"7-14\", \"7-7\", \"7-8\", \"7-9\", \"8-1\", \"8-13\", \"8-14\", \"8-18\", \"8-20\", \"8-3\", \"8-8\", \"9-1\", \"9-7\"], \"domains\": [1, 2, 3, 4], \"num_examples_per_domain_per_label\": -1, \"pickle_path\": \"/root/csc500-main/datasets/wisig.node3-19.stratified_ds.2022A.pkl\", \"source_or_target_dataset\": \"source\", \"x_transforms\": [\"unit_mag\"], \"episode_transforms\": [], \"domain_prefix\": \"Wisig_\"}, {\"labels\": [\"3123D52\", \"3123D65\", \"3123D79\", \"3123D80\", \"3123D54\", \"3123D70\", \"3123D7B\", \"3123D89\", \"3123D58\", \"3123D76\", \"3123D7D\", \"3123EFE\", \"3123D64\", \"3123D78\", \"3123D7E\", \"3124E4A\"], \"domains\": [32, 38, 8, 44, 14, 50, 20, 26], \"num_examples_per_domain_per_label\": 2000, \"pickle_path\": \"/root/csc500-main/datasets/oracle.Run1_10kExamples_stratified_ds.2022A.pkl\", \"source_or_target_dataset\": \"target\", \"x_transforms\": [\"unit_mag\"], \"episode_transforms\": [], \"domain_prefix\": \"ORACLE.run1\"}], \"dataset_seed\": 1337, \"seed\": 1337, \"x_shape\": [2, 256], \"domains_source\": [\"Wisig_1\", \"Wisig_2\", \"Wisig_3\", \"Wisig_4\"], \"domains_target\": [\"ORACLE.run132\", \"ORACLE.run138\", \"ORACLE.run18\", \"ORACLE.run144\", \"ORACLE.run114\", \"ORACLE.run150\", \"ORACLE.run120\", \"ORACLE.run126\"]}, \"results\": {\"source_test_label_accuracy\": 0.9626547987616099, \"source_test_label_loss\": 0.16437682509422302, \"target_test_label_accuracy\": 0.12141927083333333, \"target_test_label_loss\": 2.6850483417510986, \"source_val_label_accuracy\": 0.961765095338983, \"source_val_label_loss\": 0.17195343971252441, \"target_val_label_accuracy\": 0.12005208333333334, \"target_val_label_loss\": 2.682436943054199, \"total_epochs_trained\": 5, \"total_experiment_time_secs\": 1073.359054327011, \"confusion\": {\"Wisig_3\": {\"109\": {\"109\": 126, \"70\": 1, \"118\": 1}, \"127\": {\"127\": 125, \"39\": 1, \"69\": 1, \"4\": 1}, \"14\": {\"14\": 80}, \"7\": {\"7\": 111, \"111\": 1}, \"129\": {\"129\": 29, \"110\": 2, \"70\": 1}, \"57\": {\"57\": 20}, \"84\": {\"84\": 107, \"118\": 1}, \"114\": {\"114\": 121, \"29\": 1, \"28\": 1, \"70\": 1}, \"44\": {\"44\": 72}, \"21\": {\"21\": 47, \"6\": 1}, \"46\": {\"46\": 16}, \"100\": {\"100\": 16}, \"63\": {\"63\": 15, \"21\": 1}, \"24\": {\"24\": 46, \"40\": 1, \"97\": 1}, \"107\": {\"107\": 117, \"8\": 1}, \"35\": {\"35\": 11, \"4\": 1}, \"81\": {\"81\": 32}, \"64\": {\"64\": 20}, \"59\": {\"59\": 12}, \"33\": {\"33\": 112, \"117\": 1, \"3\": 1}, \"34\": {\"34\": 23, \"8\": 1, \"110\": 1, \"124\": 1, \"77\": 1, \"128\": 1, \"32\": 3, \"91\": 1}, \"36\": {\"36\": 115, \"27\": 2, \"98\": 1, \"24\": 1, \"87\": 1}, \"79\": {\"79\": 12}, \"80\": {\"80\": 16}, \"77\": {\"77\": 15, \"34\": 1}, \"22\": {\"22\": 16}, \"124\": {\"124\": 123, \"60\": 1}, \"2\": {\"2\": 22, \"117\": 3, \"26\": 1, \"93\": 1, \"81\": 1}, \"87\": {\"87\": 111, \"127\": 1}, \"105\": {\"105\": 122}, \"95\": {\"95\": 32}, \"43\": {\"43\": 49, \"21\": 2, \"122\": 1, \"23\": 2, \"128\": 1, \"78\": 1}, \"56\": {\"56\": 12}, \"18\": {\"18\": 121, \"110\": 1, \"86\": 1, \"84\": 1}, \"85\": {\"85\": 35, \"108\": 1}, \"113\": {\"113\": 119, \"105\": 1}, \"97\": {\"97\": 18, \"60\": 1, \"122\": 1}, \"86\": {\"86\": 26, \"128\": 1, \"56\": 1}, \"128\": {\"128\": 30, \"17\": 1, \"43\": 1}, \"123\": {\"123\": 16}, \"8\": {\"8\": 129, \"124\": 1}, \"110\": {\"110\": 81, \"17\": 2, \"78\": 1, \"19\": 2, \"44\": 1, \"0\": 1, \"101\": 1, \"69\": 1}, \"126\": {\"21\": 1, \"126\": 98, \"5\": 1, \"101\": 1, \"39\": 1, \"105\": 1, \"114\": 1}, \"42\": {\"42\": 26, \"112\": 2}, \"96\": {\"96\": 20}, \"83\": {\"83\": 24}, \"54\": {\"54\": 16}, \"65\": {\"65\": 10, \"113\": 1, \"64\": 1}, \"30\": {\"30\": 81, \"36\": 1, \"69\": 1, \"70\": 1}, \"121\": {\"121\": 27, \"29\": 1, \"21\": 1, \"85\": 1, \"84\": 2}, \"68\": {\"68\": 15, \"128\": 1}, \"45\": {\"45\": 15, \"94\": 1}, \"48\": {\"48\": 6, \"65\": 2, \"78\": 2, \"53\": 3, \"79\": 3}, \"4\": {\"4\": 94, \"105\": 1, \"87\": 1}, \"67\": {\"67\": 16}, \"103\": {\"103\": 15, \"31\": 1}, \"74\": {\"74\": 16}, \"1\": {\"1\": 106, \"16\": 1, \"82\": 1}, \"61\": {\"61\": 16}, \"101\": {\"101\": 48, \"9\": 1, \"6\": 1, \"70\": 1, \"25\": 1}, \"93\": {\"93\": 138}, \"26\": {\"26\": 130}, \"71\": {\"71\": 66, \"113\": 1, \"86\": 1}, \"15\": {\"15\": 102, \"40\": 2}, \"55\": {\"55\": 16}, \"104\": {\"104\": 16}, \"112\": {\"112\": 15, \"118\": 1}, \"102\": {\"102\": 122}, \"117\": {\"117\": 112}, \"119\": {\"119\": 16}, \"20\": {\"20\": 15, \"106\": 1}, \"120\": {\"120\": 20}, \"39\": {\"39\": 101, \"40\": 1, \"5\": 2, \"13\": 1, \"70\": 1, \"19\": 1, \"8\": 1}, \"49\": {\"49\": 20, \"42\": 2, \"108\": 1, \"8\": 1}, \"53\": {\"53\": 20}, \"92\": {\"92\": 31, \"114\": 1}, \"3\": {\"3\": 116}, \"47\": {\"47\": 12}, \"115\": {\"115\": 16}, \"58\": {\"58\": 16}, \"29\": {\"29\": 32}, \"12\": {\"12\": 104}, \"62\": {\"62\": 116, \"26\": 1, \"127\": 1}, \"11\": {\"11\": 140}, \"72\": {\"72\": 28}, \"98\": {\"98\": 106}, \"122\": {\"122\": 56, \"19\": 1, \"21\": 2, \"82\": 1}, \"17\": {\"98\": 1, \"17\": 7, \"110\": 1, \"63\": 1, \"104\": 2, \"68\": 1, \"43\": 1, \"35\": 1, \"94\": 1}, \"94\": {\"94\": 84}, \"106\": {\"106\": 88, \"5\": 1, \"127\": 1}, \"28\": {\"28\": 16}, \"69\": {\"69\": 78, \"87\": 2, \"106\": 1, \"12\": 1, \"70\": 1, \"7\": 1}, \"125\": {\"125\": 112, \"98\": 1, \"11\": 1}, \"19\": {\"19\": 32}, \"41\": {\"41\": 15, \"99\": 1}, \"60\": {\"60\": 24, \"28\": 2, \"19\": 1, \"31\": 1}, \"70\": {\"70\": 68, \"86\": 1, \"92\": 1, \"106\": 1, \"110\": 1}, \"27\": {\"27\": 93, \"6\": 1, \"36\": 2}, \"10\": {\"10\": 114, \"9\": 1, \"5\": 1, \"0\": 1, \"92\": 1}, \"108\": {\"108\": 137, \"40\": 1, \"88\": 1, \"110\": 1}, \"9\": {\"9\": 32}, \"25\": {\"25\": 15, \"108\": 1}, \"37\": {\"37\": 15, \"73\": 1}, \"0\": {\"101\": 1, \"0\": 115}, \"66\": {\"66\": 16}, \"51\": {\"51\": 16}, \"76\": {\"76\": 16}, \"32\": {\"32\": 27, \"67\": 1, \"107\": 1, \"40\": 1, \"55\": 1, \"9\": 1}, \"88\": {\"88\": 100, \"108\": 6, \"49\": 1, \"85\": 1, \"70\": 1, \"19\": 1, \"113\": 1, \"114\": 1}, \"31\": {\"31\": 20}, \"91\": {\"91\": 23, \"4\": 1}, \"90\": {\"90\": 125, \"124\": 1}, \"13\": {\"13\": 10, \"90\": 1, \"30\": 1, \"44\": 3, \"101\": 1}, \"50\": {\"50\": 16}, \"78\": {\"78\": 15, \"122\": 1}, \"116\": {\"116\": 21, \"43\": 2, \"82\": 2, \"78\": 1, \"16\": 1, \"120\": 1}, \"5\": {\"5\": 111, \"40\": 1}, \"75\": {\"75\": 16}, \"89\": {\"89\": 28}, \"16\": {\"16\": 114, \"110\": 1, \"62\": 1}, \"38\": {\"38\": 15, \"126\": 1}, \"118\": {\"118\": 97, \"30\": 1, \"105\": 1, \"33\": 1}, \"99\": {\"99\": 35, \"36\": 1}, \"52\": {\"52\": 16}, \"111\": {\"111\": 128}, \"23\": {\"23\": 25, \"29\": 1, \"19\": 1, \"70\": 1, \"121\": 1, \"71\": 1, \"21\": 1, \"5\": 1}, \"73\": {\"73\": 39, \"30\": 1}, \"82\": {\"82\": 26, \"101\": 1, \"21\": 1}, \"40\": {\"40\": 128}, \"6\": {\"6\": 29, \"41\": 1, \"101\": 2}}, \"Wisig_4\": {\"28\": {\"28\": 20}, \"4\": {\"4\": 99, \"12\": 1, \"27\": 1, \"86\": 2, \"71\": 1}, \"72\": {\"72\": 31, \"115\": 1}, \"111\": {\"111\": 132, \"10\": 2, \"122\": 1, \"0\": 1}, \"108\": {\"108\": 81, \"129\": 2, \"88\": 3, \"122\": 1, \"36\": 1, \"125\": 1, \"27\": 1, \"39\": 1, \"10\": 1}, \"43\": {\"43\": 114, \"99\": 2, \"87\": 2, \"78\": 1, \"10\": 1}, \"96\": {\"96\": 20}, \"89\": {\"89\": 29, \"1\": 1, \"8\": 1, \"78\": 1}, \"31\": {\"31\": 16}, \"45\": {\"45\": 16}, \"2\": {\"2\": 25, \"26\": 3}, \"114\": {\"114\": 126, \"12\": 1, \"105\": 1}, \"11\": {\"11\": 135, \"87\": 1}, \"12\": {\"12\": 97, \"36\": 1, \"122\": 1, \"21\": 1}, \"14\": {\"14\": 111, \"8\": 1}, \"90\": {\"90\": 153, \"122\": 1}, \"10\": {\"10\": 117, \"24\": 1, \"87\": 1, \"88\": 1, \"12\": 1, \"30\": 1}, \"63\": {\"63\": 16}, \"85\": {\"85\": 27, \"1\": 1}, \"64\": {\"64\": 14, \"67\": 1, \"129\": 1}, \"82\": {\"82\": 31, \"62\": 1}, \"58\": {\"58\": 15, \"27\": 1}, \"3\": {\"3\": 131, \"101\": 1, \"21\": 2, \"43\": 1, \"27\": 1}, \"54\": {\"54\": 16}, \"121\": {\"121\": 30, \"63\": 1, \"11\": 1}, \"42\": {\"42\": 22, \"112\": 1, \"79\": 1, \"9\": 1, \"73\": 1, \"13\": 1, \"8\": 1}, \"98\": {\"98\": 114, \"26\": 1, \"44\": 1, \"3\": 1, \"81\": 1, \"24\": 1, \"39\": 1}, \"123\": {\"123\": 16}, \"91\": {\"91\": 24}, \"83\": {\"83\": 27, \"106\": 1}, \"99\": {\"99\": 40}, \"112\": {\"112\": 16}, \"119\": {\"119\": 16}, \"70\": {\"70\": 116, \"88\": 5, \"118\": 1, \"59\": 1, \"10\": 1}, \"20\": {\"20\": 15, \"1\": 1}, \"120\": {\"120\": 18, \"32\": 2}, \"7\": {\"7\": 122, \"108\": 1, \"1\": 1}, \"60\": {\"60\": 29, \"46\": 1, \"3\": 1, \"50\": 1}, \"113\": {\"113\": 115, \"21\": 1, \"40\": 1, \"0\": 1}, \"37\": {\"37\": 14, \"67\": 1, \"128\": 1}, \"124\": {\"124\": 110}, \"27\": {\"27\": 94, \"78\": 1, \"111\": 1, \"8\": 1, \"100\": 1, \"119\": 1, \"70\": 1}, \"86\": {\"86\": 28}, \"127\": {\"127\": 102, \"0\": 2, \"10\": 1, \"111\": 1, \"122\": 1, \"1\": 1}, \"62\": {\"62\": 54, \"71\": 1, \"122\": 1, \"118\": 1, \"108\": 1, \"41\": 1, \"110\": 1}, \"122\": {\"122\": 81, \"3\": 1, \"81\": 1, \"1\": 1}, \"51\": {\"51\": 7, \"85\": 1, \"30\": 1, \"21\": 1, \"10\": 1, \"53\": 1, \"9\": 1, \"23\": 1, \"62\": 1, \"55\": 1}, \"109\": {\"109\": 112, \"118\": 1, \"100\": 1}, \"106\": {\"106\": 107, \"111\": 2, \"78\": 1, \"1\": 2, \"12\": 1, \"88\": 1}, \"94\": {\"94\": 87, \"10\": 1}, \"38\": {\"38\": 16}, \"129\": {\"129\": 25, \"21\": 1, \"19\": 1, \"108\": 1}, \"116\": {\"116\": 25, \"33\": 1, \"57\": 1, \"108\": 1}, \"107\": {\"107\": 118}, \"30\": {\"30\": 73, \"0\": 1, \"36\": 1, \"27\": 1}, \"102\": {\"102\": 131, \"41\": 1}, \"74\": {\"74\": 16}, \"101\": {\"101\": 130, \"107\": 1, \"0\": 1}, \"117\": {\"117\": 119, \"71\": 1, \"1\": 1, \"10\": 1, \"26\": 1, \"81\": 1}, \"1\": {\"1\": 96, \"40\": 1, \"70\": 1, \"87\": 1, \"33\": 1, \"18\": 1, \"88\": 1, \"21\": 2, \"122\": 2, \"14\": 1, \"106\": 1}, \"84\": {\"84\": 128, \"0\": 1, \"105\": 1, \"14\": 1, \"40\": 1}, \"17\": {\"17\": 20}, \"6\": {\"6\": 24}, \"110\": {\"110\": 122, \"84\": 1, \"1\": 1}, \"77\": {\"77\": 12}, \"8\": {\"8\": 128, \"3\": 1, \"73\": 1, \"127\": 1, \"84\": 1}, \"73\": {\"73\": 21, \"10\": 1, \"3\": 1, \"36\": 1}, \"126\": {\"126\": 120, \"39\": 1, \"27\": 1, \"40\": 1, \"88\": 1}, \"57\": {\"57\": 16}, \"95\": {\"95\": 31, \"8\": 1}, \"103\": {\"103\": 16}, \"97\": {\"97\": 18, \"10\": 1, \"89\": 1}, \"39\": {\"8\": 1, \"39\": 88, \"4\": 1, \"81\": 3, \"84\": 2, \"113\": 1, \"21\": 2, \"108\": 1, \"27\": 1}, \"100\": {\"100\": 20}, \"40\": {\"40\": 109, \"69\": 1}, \"36\": {\"36\": 123, \"24\": 1, \"84\": 1, \"21\": 1}, \"19\": {\"19\": 28}, \"118\": {\"118\": 109, \"3\": 1, \"24\": 1, \"67\": 1}, \"56\": {\"56\": 12}, \"26\": {\"26\": 125, \"84\": 1}, \"5\": {\"5\": 134, \"26\": 1, \"4\": 1}, \"21\": {\"21\": 37, \"23\": 1, \"1\": 1, \"84\": 1}, \"22\": {\"22\": 15, \"94\": 1}, \"68\": {\"68\": 16}, \"9\": {\"9\": 28}, \"66\": {\"66\": 15, \"21\": 1}, \"87\": {\"87\": 122, \"105\": 1, \"0\": 1}, \"71\": {\"71\": 103, \"21\": 1}, \"115\": {\"115\": 12, \"103\": 1, \"116\": 1, \"72\": 1, \"43\": 1}, \"23\": {\"89\": 1, \"23\": 9, \"21\": 1, \"51\": 1, \"113\": 1, \"121\": 2, \"53\": 1}, \"33\": {\"33\": 116, \"0\": 1, \"84\": 1}, \"35\": {\"35\": 11, \"3\": 1}, \"125\": {\"125\": 127, \"43\": 2, \"108\": 1, \"117\": 1, \"10\": 1}, \"47\": {\"47\": 11, \"95\": 1}, \"79\": {\"79\": 16}, \"53\": {\"53\": 16}, \"67\": {\"113\": 4, \"23\": 1, \"120\": 1, \"33\": 1, \"67\": 6, \"123\": 1, \"8\": 1, \"107\": 1}, \"80\": {\"80\": 16}, \"105\": {\"105\": 95, \"70\": 1, \"81\": 1, \"10\": 1, \"60\": 1, \"71\": 1}, \"76\": {\"76\": 16}, \"46\": {\"46\": 20}, \"34\": {\"120\": 2, \"34\": 18, \"60\": 1, \"72\": 2, \"99\": 1, \"98\": 1, \"128\": 1, \"75\": 2, \"32\": 1, \"19\": 1, \"104\": 1, \"54\": 1}, \"32\": {\"32\": 25, \"120\": 1, \"29\": 1, \"8\": 1}, \"13\": {\"13\": 16}, \"78\": {\"78\": 33, \"128\": 1, \"4\": 1, \"1\": 1}, \"41\": {\"41\": 16}, \"69\": {\"69\": 124, \"87\": 1, \"4\": 1, \"88\": 1, \"27\": 1}, \"88\": {\"88\": 120, \"59\": 1, \"26\": 1, \"108\": 1, \"70\": 6, \"124\": 1, \"40\": 1, \"113\": 1}, \"15\": {\"15\": 123, \"122\": 1, \"106\": 1, \"21\": 1, \"10\": 1, \"87\": 1}, \"61\": {\"61\": 16}, \"0\": {\"0\": 112, \"84\": 1, \"105\": 1, \"27\": 1, \"4\": 1}, \"104\": {\"104\": 15, \"69\": 1}, \"48\": {\"48\": 15, \"105\": 1}, \"25\": {\"25\": 16}, \"75\": {\"75\": 16}, \"81\": {\"81\": 33, \"124\": 1, \"27\": 1, \"117\": 1}, \"50\": {\"50\": 16}, \"52\": {\"52\": 20}, \"16\": {\"16\": 117, \"108\": 1, \"3\": 1, \"43\": 1}, \"44\": {\"44\": 63, \"121\": 1}, \"29\": {\"29\": 30, \"21\": 1, \"1\": 1}, \"93\": {\"93\": 123, \"122\": 1}, \"18\": {\"18\": 114}, \"49\": {\"49\": 28, \"80\": 2, \"42\": 2}, \"55\": {\"55\": 16}, \"59\": {\"59\": 11, \"21\": 1}, \"128\": {\"128\": 16, \"26\": 1, \"122\": 1, \"8\": 1, \"43\": 1, \"41\": 1, \"98\": 1, \"91\": 1, \"99\": 1}, \"24\": {\"24\": 101, \"27\": 3, \"15\": 1, \"36\": 9, \"7\": 1, \"10\": 3, \"12\": 1, \"94\": 1}, \"65\": {\"65\": 12}, \"92\": {\"92\": 28}}, \"Wisig_1\": {\"108\": {\"108\": 124}, \"40\": {\"40\": 134, \"4\": 1, \"87\": 1}, \"68\": {\"68\": 15, \"57\": 1}, \"23\": {\"23\": 17, \"3\": 2, \"127\": 1, \"32\": 2, \"63\": 2}, \"26\": {\"26\": 118, \"27\": 1, \"6\": 1}, \"64\": {\"64\": 16}, \"22\": {\"22\": 15, \"94\": 1}, \"3\": {\"3\": 81, \"66\": 1, \"110\": 1, \"15\": 1, \"18\": 4}, \"4\": {\"4\": 99, \"68\": 1}, \"70\": {\"70\": 110, \"54\": 1, \"105\": 1, \"36\": 1, \"87\": 1, \"108\": 3, \"8\": 1, \"94\": 1, \"101\": 1}, \"57\": {\"57\": 11, \"23\": 1}, \"79\": {\"79\": 12}, \"9\": {\"9\": 32}, \"89\": {\"89\": 36}, \"110\": {\"110\": 128}, \"102\": {\"102\": 118, \"14\": 1, \"18\": 1}, \"31\": {\"31\": 16}, \"58\": {\"58\": 11, \"12\": 1}, \"47\": {\"47\": 12}, \"24\": {\"24\": 86, \"97\": 1, \"12\": 2, \"70\": 1, \"108\": 1, \"88\": 1}, \"19\": {\"19\": 28}, \"11\": {\"11\": 132}, \"52\": {\"52\": 20}, \"17\": {\"17\": 15, \"128\": 1}, \"25\": {\"25\": 16}, \"69\": {\"69\": 105, \"70\": 3}, \"96\": {\"96\": 14, \"51\": 1, \"19\": 1, \"82\": 1, \"126\": 1, \"34\": 1, \"5\": 1}, \"109\": {\"109\": 111, \"87\": 1, \"126\": 1, \"70\": 1}, \"115\": {\"115\": 12}, \"83\": {\"83\": 27, \"22\": 1}, \"84\": {\"84\": 126, \"88\": 1, \"43\": 1}, \"119\": {\"119\": 16}, \"122\": {\"122\": 84, \"70\": 2, \"105\": 1, \"21\": 1}, \"99\": {\"99\": 24}, \"1\": {\"1\": 133, \"105\": 1, \"122\": 1, \"127\": 1}, \"74\": {\"74\": 16}, \"85\": {\"85\": 32}, \"127\": {\"127\": 106, \"6\": 1, \"105\": 1}, \"111\": {\"111\": 117, \"71\": 2, \"107\": 1}, \"53\": {\"53\": 20}, \"88\": {\"88\": 125, \"97\": 1, \"36\": 2, \"24\": 1, \"27\": 3}, \"65\": {\"65\": 8, \"21\": 1, \"20\": 1, \"102\": 1, \"33\": 1}, \"7\": {\"7\": 134}, \"16\": {\"16\": 107, \"127\": 1}, \"128\": {\"128\": 20, \"52\": 1, \"72\": 2, \"21\": 1}, \"34\": {\"128\": 2, \"38\": 2, \"34\": 16, \"80\": 1, \"60\": 2, \"81\": 3, \"125\": 1, \"72\": 1, \"91\": 2, \"86\": 1, \"77\": 1}, \"129\": {\"129\": 20, \"14\": 1, \"1\": 2, \"2\": 2, \"19\": 1, \"72\": 2}, \"43\": {\"43\": 122, \"105\": 2, \"78\": 2, \"87\": 1, \"70\": 1}, \"92\": {\"92\": 28}, \"28\": {\"28\": 18, \"17\": 1, \"71\": 1}, \"27\": {\"27\": 92}, \"114\": {\"114\": 123, \"71\": 1}, \"73\": {\"73\": 20}, \"0\": {\"0\": 84}, \"104\": {\"104\": 14, \"109\": 2}, \"118\": {\"118\": 82, \"21\": 1, \"69\": 1}, \"41\": {\"41\": 16}, \"91\": {\"91\": 28}, \"124\": {\"124\": 122}, \"81\": {\"81\": 28}, \"63\": {\"63\": 16}, \"76\": {\"76\": 16}, \"10\": {\"10\": 116, \"51\": 1, \"85\": 1, \"0\": 1, \"70\": 1}, \"51\": {\"51\": 14, \"6\": 1, \"17\": 1}, \"82\": {\"82\": 36}, \"56\": {\"56\": 11, \"53\": 1}, \"30\": {\"30\": 52}, \"21\": {\"21\": 29, \"32\": 1, \"43\": 1, \"19\": 1, \"83\": 1, \"128\": 1, \"72\": 1, \"5\": 1, \"49\": 1, \"3\": 1, \"87\": 2}, \"46\": {\"46\": 9, \"6\": 1, \"94\": 1, \"83\": 1}, \"33\": {\"33\": 138}, \"101\": {\"101\": 121, \"12\": 1, \"124\": 1, \"70\": 1}, \"105\": {\"105\": 79, \"6\": 1, \"40\": 2, \"78\": 2}, \"50\": {\"50\": 15, \"107\": 1}, \"116\": {\"116\": 31, \"21\": 1}, \"77\": {\"77\": 16}, \"75\": {\"75\": 16}, \"95\": {\"95\": 36}, \"120\": {\"120\": 20}, \"18\": {\"18\": 108}, \"14\": {\"14\": 96}, \"44\": {\"44\": 76}, \"98\": {\"98\": 96}, \"121\": {\"121\": 32}, \"113\": {\"113\": 108}, \"103\": {\"103\": 16}, \"62\": {\"62\": 116, \"21\": 1, \"108\": 1, \"107\": 2}, \"32\": {\"32\": 28, \"23\": 2, \"110\": 2}, \"71\": {\"71\": 101, \"127\": 2, \"12\": 2, \"70\": 1, \"18\": 1, \"73\": 1}, \"94\": {\"94\": 89, \"105\": 1, \"122\": 1, \"87\": 1}, \"49\": {\"49\": 17, \"12\": 1, \"34\": 1, \"31\": 1}, \"12\": {\"12\": 101, \"122\": 1, \"105\": 1, \"40\": 1}, \"90\": {\"90\": 124}, \"93\": {\"93\": 124}, \"13\": {\"13\": 16}, \"67\": {\"88\": 1, \"67\": 15}, \"20\": {\"20\": 14, \"22\": 1, \"122\": 1}, \"2\": {\"54\": 1, \"2\": 29, \"25\": 1, \"11\": 1}, \"5\": {\"5\": 86, \"36\": 1, \"49\": 1}, \"54\": {\"54\": 15, \"122\": 1}, \"37\": {\"37\": 16}, \"38\": {\"38\": 16}, \"86\": {\"86\": 32, \"115\": 1, \"84\": 2, \"94\": 1}, \"55\": {\"55\": 12}, \"97\": {\"97\": 18, \"19\": 1, \"128\": 1}, \"29\": {\"29\": 28}, \"48\": {\"63\": 1, \"48\": 11}, \"60\": {\"60\": 10, \"34\": 1, \"119\": 1, \"45\": 2, \"100\": 1, \"81\": 1}, \"36\": {\"36\": 117, \"107\": 1, \"88\": 3, \"108\": 1}, \"42\": {\"42\": 25, \"91\": 2, \"105\": 1}, \"66\": {\"66\": 16}, \"126\": {\"126\": 127, \"5\": 1}, \"39\": {\"39\": 104}, \"107\": {\"107\": 123, \"70\": 1}, \"59\": {\"59\": 10, \"95\": 1, \"6\": 1}, \"117\": {\"117\": 138}, \"6\": {\"6\": 31, \"34\": 1}, \"123\": {\"123\": 16}, \"8\": {\"8\": 123, \"128\": 1}, \"112\": {\"112\": 15, \"27\": 1}, \"80\": {\"80\": 15, \"6\": 1}, \"125\": {\"125\": 136}, \"61\": {\"61\": 12}, \"45\": {\"45\": 8, \"124\": 1, \"3\": 1, \"19\": 1, \"64\": 1}, \"72\": {\"72\": 32}, \"87\": {\"87\": 107, \"122\": 1}, \"106\": {\"106\": 123, \"43\": 1}, \"35\": {\"35\": 9, \"30\": 1, \"6\": 2}, \"78\": {\"78\": 12, \"87\": 1, \"83\": 1, \"128\": 1, \"105\": 1}, \"15\": {\"15\": 97, \"111\": 2, \"87\": 1, \"40\": 1, \"70\": 1, \"30\": 1, \"21\": 1}, \"100\": {\"100\": 16}}, \"Wisig_2\": {\"91\": {\"91\": 26, \"49\": 1, \"18\": 1}, \"12\": {\"12\": 83, \"87\": 1, \"78\": 2, \"122\": 1, \"118\": 1}, \"101\": {\"101\": 147, \"87\": 1}, \"121\": {\"121\": 35, \"40\": 1}, \"118\": {\"118\": 66, \"32\": 1, \"87\": 1}, \"10\": {\"10\": 54, \"122\": 1, \"12\": 1, \"11\": 1, \"127\": 1, \"18\": 1, \"52\": 1}, \"117\": {\"117\": 118, \"31\": 1, \"18\": 1}, \"110\": {\"110\": 34, \"63\": 1, \"122\": 1, \"14\": 1, \"45\": 1, \"42\": 1, \"95\": 1}, \"97\": {\"97\": 19, \"15\": 1}, \"28\": {\"28\": 20}, \"88\": {\"88\": 117, \"122\": 2, \"43\": 1, \"40\": 1, \"3\": 1, \"96\": 1, \"30\": 1}, \"17\": {\"17\": 16}, \"126\": {\"126\": 112, \"98\": 1, \"37\": 1}, \"33\": {\"33\": 125, \"4\": 1, \"70\": 2}, \"86\": {\"86\": 32}, \"106\": {\"106\": 113, \"12\": 1, \"122\": 1, \"18\": 1, \"78\": 1, \"27\": 1, \"70\": 1, \"111\": 1}, \"54\": {\"54\": 20}, \"125\": {\"125\": 131, \"98\": 1}, \"83\": {\"83\": 39, \"4\": 1}, \"98\": {\"98\": 117, \"113\": 1, \"90\": 1, \"26\": 1}, \"11\": {\"11\": 76, \"3\": 1, \"69\": 1, \"12\": 1, \"109\": 1}, \"32\": {\"32\": 27, \"107\": 3, \"14\": 1, \"62\": 1, \"12\": 1, \"82\": 1, \"79\": 2}, \"42\": {\"42\": 27, \"46\": 1}, \"103\": {\"103\": 16}, \"87\": {\"87\": 105, \"60\": 1, \"39\": 1, \"40\": 1, \"8\": 1, \"94\": 2, \"24\": 1}, \"61\": {\"61\": 16, \"87\": 1, \"53\": 1, \"128\": 1, \"21\": 1}, \"13\": {\"13\": 13, \"14\": 2, \"122\": 1}, \"4\": {\"4\": 83, \"0\": 1, \"69\": 1, \"109\": 1}, \"15\": {\"15\": 116, \"40\": 1, \"0\": 2, \"105\": 1}, \"120\": {\"120\": 20}, \"80\": {\"80\": 16}, \"72\": {\"72\": 27, \"45\": 1}, \"64\": {\"64\": 15, \"129\": 1}, \"81\": {\"81\": 22, \"128\": 1, \"12\": 1}, \"102\": {\"102\": 112}, \"76\": {\"76\": 16}, \"49\": {\"49\": 15, \"3\": 2, \"58\": 1, \"39\": 1, \"41\": 1, \"24\": 1, \"42\": 1, \"30\": 1, \"53\": 1}, \"129\": {\"129\": 32}, \"89\": {\"89\": 34, \"112\": 1, \"37\": 1}, \"52\": {\"52\": 18, \"120\": 1, \"68\": 1}, \"35\": {\"35\": 12}, \"53\": {\"53\": 16}, \"26\": {\"26\": 124, \"87\": 1, \"129\": 1, \"128\": 1, \"78\": 1}, \"96\": {\"96\": 20}, \"27\": {\"27\": 53, \"21\": 3, \"122\": 1, \"40\": 2, \"3\": 1, \"84\": 1, \"62\": 1, \"128\": 1, \"7\": 1, \"36\": 3, \"87\": 1}, \"24\": {\"24\": 100, \"25\": 1, \"71\": 2, \"69\": 1, \"39\": 1, \"70\": 1, \"36\": 2, \"107\": 1, \"12\": 1, \"78\": 1, \"122\": 1}, \"82\": {\"82\": 32, \"107\": 2, \"104\": 1, \"87\": 1}, \"18\": {\"18\": 123, \"91\": 1, \"39\": 1, \"16\": 1, \"12\": 1, \"128\": 1}, \"69\": {\"69\": 118, \"12\": 1, \"5\": 1, \"109\": 1, \"70\": 1}, \"47\": {\"47\": 12}, \"85\": {\"85\": 31, \"73\": 1}, \"2\": {\"47\": 1, \"2\": 29, \"113\": 1, \"88\": 1}, \"67\": {\"67\": 15, \"49\": 1}, \"39\": {\"39\": 107, \"47\": 1, \"18\": 2, \"17\": 1, \"70\": 1}, \"99\": {\"99\": 32}, \"74\": {\"74\": 13, \"106\": 1, \"75\": 2}, \"105\": {\"105\": 128, \"5\": 2, \"43\": 1, \"87\": 1}, \"70\": {\"70\": 113, \"110\": 3, \"88\": 1, \"122\": 1, \"43\": 2, \"69\": 1, \"40\": 1}, \"55\": {\"55\": 16}, \"30\": {\"30\": 110, \"70\": 1, \"61\": 1}, \"60\": {\"60\": 21, \"123\": 2, \"87\": 2, \"21\": 1, \"116\": 1, \"57\": 1}, \"92\": {\"92\": 24, \"116\": 1, \"75\": 1, \"112\": 1, \"76\": 1}, \"45\": {\"45\": 15, \"105\": 1}, \"127\": {\"127\": 111, \"89\": 1}, \"9\": {\"110\": 1, \"9\": 30, \"61\": 1}, \"115\": {\"115\": 12}, \"73\": {\"73\": 28}, \"108\": {\"108\": 138}, \"114\": {\"114\": 113, \"83\": 1, \"118\": 1, \"39\": 1}, \"63\": {\"63\": 19, \"33\": 1}, \"93\": {\"93\": 127, \"88\": 1}, \"7\": {\"7\": 132}, \"31\": {\"31\": 19, \"78\": 1}, \"123\": {\"19\": 1, \"123\": 15}, \"128\": {\"128\": 17, \"111\": 1, \"14\": 1, \"23\": 1, \"21\": 1, \"30\": 1, \"49\": 1, \"122\": 1}, \"0\": {\"0\": 110, \"24\": 2, \"98\": 1, \"69\": 1, \"39\": 1, \"70\": 1}, \"3\": {\"3\": 134, \"18\": 1, \"39\": 1}, \"19\": {\"19\": 28}, \"57\": {\"57\": 19, \"84\": 1}, \"78\": {\"78\": 42, \"39\": 1, \"43\": 3, \"40\": 1, \"87\": 1}, \"95\": {\"95\": 35, \"70\": 1}, \"40\": {\"40\": 136, \"12\": 1, \"5\": 1, \"4\": 1, \"30\": 1}, \"14\": {\"78\": 1, \"14\": 40, \"85\": 1, \"12\": 1, \"18\": 1, \"122\": 1, \"88\": 1, \"118\": 2}, \"36\": {\"36\": 118, \"21\": 1, \"122\": 3, \"70\": 1, \"82\": 1, \"40\": 1, \"107\": 1, \"87\": 1, \"27\": 1}, \"56\": {\"56\": 12}, \"111\": {\"111\": 127, \"122\": 1}, \"59\": {\"59\": 14, \"13\": 1, \"24\": 1}, \"79\": {\"79\": 14, \"23\": 1, \"77\": 1}, \"62\": {\"62\": 121, \"40\": 1}, \"21\": {\"21\": 43, \"87\": 1, \"118\": 1, \"17\": 1, \"5\": 1, \"40\": 1}, \"48\": {\"48\": 20}, \"16\": {\"16\": 117, \"57\": 1, \"70\": 2, \"88\": 1, \"18\": 1, \"1\": 1, \"93\": 1}, \"50\": {\"50\": 15, \"109\": 1}, \"44\": {\"44\": 95, \"117\": 1}, \"5\": {\"5\": 109, \"12\": 1}, \"20\": {\"20\": 15, \"24\": 1}, \"1\": {\"1\": 118, \"85\": 1, \"126\": 1}, \"65\": {\"65\": 18, \"116\": 1, \"71\": 1}, \"116\": {\"116\": 27, \"80\": 1}, \"51\": {\"51\": 15, \"6\": 1, \"30\": 1, \"125\": 1, \"49\": 1, \"111\": 1}, \"75\": {\"75\": 15, \"71\": 1}, \"100\": {\"100\": 16}, \"113\": {\"113\": 71, \"65\": 1}, \"41\": {\"41\": 20}, \"29\": {\"29\": 32}, \"23\": {\"23\": 35, \"29\": 1, \"44\": 1, \"96\": 1, \"78\": 1, \"99\": 2, \"70\": 1, \"120\": 1, \"110\": 1}, \"124\": {\"124\": 122, \"21\": 1, \"117\": 1}, \"68\": {\"68\": 15, \"52\": 1}, \"71\": {\"71\": 99, \"94\": 1}, \"107\": {\"107\": 54, \"51\": 1, \"82\": 1, \"91\": 2, \"113\": 1, \"12\": 2, \"129\": 1, \"109\": 1, \"14\": 1}, \"94\": {\"94\": 60, \"12\": 1, \"118\": 1, \"36\": 1, \"110\": 1}, \"77\": {\"77\": 15, \"17\": 1}, \"8\": {\"8\": 119, \"52\": 1, \"24\": 1, \"18\": 1}, \"46\": {\"46\": 16}, \"25\": {\"25\": 14, \"109\": 1, \"39\": 1}, \"122\": {\"122\": 137, \"40\": 1, \"113\": 1, \"70\": 1}, \"58\": {\"58\": 16, \"77\": 1, \"17\": 1, \"87\": 1, \"24\": 1}, \"6\": {\"6\": 28, \"51\": 1, \"101\": 3}, \"109\": {\"109\": 94, \"84\": 1, \"93\": 2, \"122\": 1, \"70\": 2}, \"119\": {\"119\": 19, \"24\": 1}, \"34\": {\"34\": 26, \"8\": 1, \"40\": 1, \"6\": 1, \"91\": 1, \"71\": 1, \"66\": 1}, \"90\": {\"90\": 138, \"6\": 1, \"18\": 1}, \"38\": {\"38\": 16}, \"104\": {\"29\": 2, \"104\": 17, \"129\": 1}, \"84\": {\"84\": 90, \"58\": 1, \"93\": 1}, \"112\": {\"112\": 11, \"126\": 1, \"21\": 1, \"3\": 1, \"46\": 1, \"12\": 1}, \"66\": {\"66\": 17, \"107\": 1, \"13\": 1, \"27\": 1}, \"22\": {\"22\": 20}, \"37\": {\"37\": 16}, \"43\": {\"43\": 116, \"0\": 1, \"8\": 1, \"78\": 1, \"88\": 1, \"84\": 1, \"70\": 2, \"40\": 1}}, \"ORACLE.run114\": {\"15\": {\"4\": 20, \"5\": 14, \"14\": 12, \"15\": 39, \"13\": 17, \"8\": 10, \"6\": 15, \"10\": 14, \"1\": 18, \"12\": 6, \"3\": 11, \"7\": 19, \"0\": 11, \"9\": 5, \"2\": 17, \"11\": 12}, \"3\": {\"14\": 19, \"9\": 9, \"6\": 14, \"11\": 15, \"8\": 10, \"2\": 17, \"4\": 29, \"0\": 17, \"7\": 18, \"1\": 18, \"3\": 15, \"10\": 12, \"13\": 13, \"15\": 15, \"5\": 12, \"12\": 7}, \"6\": {\"8\": 4, \"14\": 26, \"5\": 12, \"0\": 7, \"4\": 21, \"11\": 20, \"3\": 14, \"1\": 15, \"7\": 17, \"15\": 14, \"13\": 27, \"6\": 24, \"10\": 17, \"2\": 15, \"9\": 4, \"12\": 3}, \"1\": {\"1\": 17, \"13\": 10, \"2\": 16, \"7\": 17, \"15\": 24, \"4\": 15, \"6\": 9, \"14\": 14, \"5\": 18, \"11\": 16, \"3\": 19, \"0\": 14, \"10\": 18, \"8\": 16, \"9\": 13, \"12\": 4}, \"8\": {\"14\": 6, \"15\": 12, \"8\": 25, \"9\": 30, \"12\": 23, \"7\": 18, \"5\": 10, \"13\": 5, \"6\": 8, \"11\": 14, \"10\": 18, \"1\": 26, \"4\": 12, \"0\": 12, \"2\": 5, \"3\": 16}, \"10\": {\"13\": 16, \"14\": 22, \"6\": 22, \"5\": 21, \"1\": 19, \"11\": 16, \"2\": 15, \"10\": 14, \"4\": 14, \"8\": 14, \"0\": 17, \"12\": 6, \"15\": 14, \"3\": 14, \"7\": 9, \"9\": 7}, \"9\": {\"1\": 21, \"13\": 6, \"4\": 11, \"12\": 34, \"14\": 6, \"7\": 13, \"15\": 4, \"11\": 25, \"9\": 26, \"0\": 15, \"8\": 36, \"10\": 13, \"2\": 7, \"5\": 10, \"6\": 4, \"3\": 9}, \"13\": {\"6\": 27, \"13\": 23, \"3\": 14, \"10\": 21, \"5\": 15, \"9\": 6, \"14\": 22, \"4\": 15, \"2\": 20, \"11\": 15, \"8\": 4, \"7\": 9, \"1\": 12, \"15\": 25, \"0\": 12}, \"12\": {\"11\": 15, \"12\": 49, \"9\": 49, \"8\": 32, \"7\": 9, \"5\": 9, \"2\": 12, \"10\": 9, \"15\": 4, \"1\": 3, \"0\": 17, \"13\": 5, \"4\": 8, \"14\": 8, \"3\": 7, \"6\": 4}, \"5\": {\"13\": 9, \"2\": 19, \"5\": 17, \"1\": 20, \"6\": 12, \"15\": 23, \"11\": 19, \"3\": 17, \"9\": 11, \"10\": 15, \"14\": 17, \"4\": 16, \"0\": 11, \"8\": 12, \"7\": 16, \"12\": 6}, \"0\": {\"13\": 23, \"2\": 18, \"6\": 17, \"3\": 17, \"0\": 17, \"9\": 16, \"1\": 18, \"4\": 9, \"5\": 14, \"8\": 11, \"7\": 15, \"15\": 12, \"10\": 21, \"14\": 13, \"11\": 12, \"12\": 7}, \"2\": {\"10\": 23, \"9\": 2, \"7\": 8, \"1\": 13, \"14\": 34, \"13\": 17, \"3\": 16, \"6\": 17, \"2\": 29, \"11\": 13, \"8\": 3, \"4\": 15, \"0\": 11, \"5\": 18, \"15\": 19, \"12\": 2}, \"11\": {\"1\": 18, \"5\": 18, \"13\": 15, \"6\": 9, \"11\": 24, \"10\": 23, \"7\": 11, \"2\": 12, \"0\": 16, \"8\": 11, \"12\": 18, \"9\": 17, \"3\": 17, \"4\": 7, \"15\": 9, \"14\": 15}, \"14\": {\"6\": 24, \"11\": 17, \"7\": 13, \"15\": 16, \"1\": 13, \"0\": 16, \"4\": 13, \"3\": 19, \"10\": 19, \"13\": 23, \"14\": 22, \"12\": 2, \"9\": 6, \"2\": 24, \"5\": 10, \"8\": 3}, \"7\": {\"4\": 20, \"5\": 17, \"1\": 18, \"7\": 24, \"3\": 15, \"8\": 13, \"6\": 11, \"13\": 16, \"10\": 12, \"0\": 8, \"15\": 32, \"11\": 18, \"14\": 9, \"2\": 11, \"9\": 13, \"12\": 3}, \"4\": {\"10\": 17, \"5\": 16, \"6\": 13, \"4\": 20, \"7\": 19, \"8\": 13, \"14\": 16, \"2\": 15, \"0\": 13, \"3\": 10, \"15\": 15, \"1\": 18, \"12\": 7, \"9\": 10, \"13\": 19, \"11\": 19}}, \"ORACLE.run120\": {\"3\": {\"0\": 18, \"3\": 22, \"4\": 18, \"14\": 16, \"6\": 9, \"7\": 13, \"12\": 14, \"2\": 20, \"11\": 15, \"1\": 14, \"8\": 21, \"13\": 10, \"9\": 12, \"15\": 12, \"10\": 10, \"5\": 16}, \"15\": {\"2\": 20, \"8\": 7, \"5\": 25, \"4\": 12, \"15\": 17, \"6\": 12, \"1\": 13, \"9\": 21, \"13\": 11, \"12\": 18, \"7\": 17, \"10\": 11, \"3\": 10, \"14\": 9, \"0\": 20, \"11\": 17}, \"8\": {\"1\": 8, \"11\": 15, \"15\": 8, \"3\": 20, \"4\": 17, \"9\": 11, \"13\": 18, \"2\": 10, \"8\": 19, \"12\": 12, \"0\": 18, \"7\": 12, \"5\": 17, \"6\": 23, \"10\": 13, \"14\": 19}, \"4\": {\"6\": 26, \"10\": 21, \"15\": 7, \"13\": 11, \"8\": 18, \"0\": 13, \"7\": 16, \"12\": 16, \"14\": 23, \"1\": 13, \"9\": 12, \"5\": 15, \"11\": 11, \"4\": 20, \"2\": 11, \"3\": 7}, \"14\": {\"6\": 20, \"7\": 15, \"13\": 8, \"10\": 31, \"8\": 17, \"11\": 9, \"14\": 28, \"3\": 11, \"4\": 23, \"0\": 11, \"5\": 9, \"9\": 10, \"2\": 13, \"15\": 12, \"1\": 11, \"12\": 12}, \"0\": {\"13\": 11, \"9\": 13, \"5\": 11, \"2\": 20, \"1\": 22, \"14\": 10, \"4\": 12, \"0\": 24, \"3\": 16, \"8\": 15, \"6\": 13, \"7\": 10, \"15\": 19, \"11\": 18, \"12\": 17, \"10\": 9}, \"7\": {\"1\": 16, \"6\": 15, \"8\": 13, \"0\": 18, \"10\": 17, \"2\": 13, \"12\": 22, \"3\": 17, \"7\": 14, \"14\": 12, \"11\": 15, \"9\": 14, \"15\": 16, \"13\": 12, \"5\": 16, \"4\": 10}, \"6\": {\"3\": 16, \"1\": 10, \"11\": 17, \"9\": 20, \"10\": 17, \"14\": 21, \"5\": 16, \"8\": 13, \"12\": 18, \"4\": 21, \"6\": 20, \"7\": 14, \"15\": 15, \"2\": 5, \"0\": 11, \"13\": 6}, \"10\": {\"7\": 9, \"1\": 13, \"3\": 17, \"9\": 12, \"8\": 22, \"4\": 20, \"14\": 29, \"10\": 23, \"13\": 5, \"6\": 25, \"2\": 12, \"15\": 7, \"5\": 13, \"12\": 9, \"11\": 13, \"0\": 11}, \"5\": {\"6\": 15, \"5\": 14, \"9\": 16, \"2\": 19, \"12\": 21, \"7\": 18, \"4\": 13, \"13\": 15, \"1\": 15, \"0\": 21, \"14\": 11, \"10\": 13, \"15\": 10, \"3\": 16, \"8\": 13, \"11\": 10}, \"2\": {\"13\": 19, \"3\": 17, \"1\": 10, \"12\": 11, \"4\": 9, \"10\": 19, \"9\": 21, \"2\": 10, \"11\": 16, \"8\": 21, \"7\": 16, \"5\": 14, \"15\": 21, \"0\": 17, \"14\": 11, \"6\": 8}, \"12\": {\"6\": 14, \"10\": 17, \"0\": 19, \"13\": 21, \"4\": 12, \"8\": 9, \"1\": 20, \"12\": 13, \"15\": 13, \"2\": 12, \"5\": 16, \"11\": 16, \"9\": 12, \"3\": 21, \"7\": 13, \"14\": 12}, \"9\": {\"1\": 20, \"15\": 18, \"7\": 17, \"10\": 14, \"11\": 18, \"0\": 10, \"9\": 21, \"8\": 17, \"2\": 13, \"5\": 16, \"14\": 12, \"6\": 16, \"12\": 13, \"3\": 8, \"4\": 14, \"13\": 13}, \"1\": {\"7\": 19, \"6\": 12, \"5\": 19, \"1\": 21, \"11\": 11, \"14\": 12, \"2\": 15, \"3\": 21, \"10\": 11, \"15\": 12, \"12\": 18, \"9\": 20, \"13\": 15, \"8\": 16, \"4\": 6, \"0\": 12}, \"11\": {\"2\": 15, \"12\": 15, \"15\": 24, \"4\": 12, \"6\": 13, \"14\": 11, \"5\": 16, \"0\": 18, \"9\": 16, \"7\": 17, \"1\": 8, \"11\": 16, \"3\": 16, \"13\": 13, \"8\": 15, \"10\": 15}, \"13\": {\"15\": 26, \"10\": 10, \"8\": 18, \"2\": 20, \"1\": 19, \"11\": 10, \"13\": 16, \"9\": 15, \"3\": 20, \"4\": 11, \"12\": 11, \"0\": 13, \"7\": 19, \"14\": 9, \"5\": 16, \"6\": 7}}, \"ORACLE.run138\": {\"5\": {\"6\": 20, \"12\": 12, \"15\": 12, \"11\": 10, \"14\": 11, \"10\": 16, \"9\": 19, \"7\": 19, \"5\": 21, \"8\": 25, \"2\": 9, \"0\": 17, \"3\": 19, \"13\": 22, \"1\": 7, \"4\": 1}, \"8\": {\"13\": 14, \"2\": 10, \"1\": 7, \"7\": 17, \"5\": 24, \"10\": 24, \"8\": 30, \"15\": 12, \"3\": 8, \"11\": 10, \"6\": 21, \"12\": 9, \"9\": 16, \"0\": 17, \"14\": 19, \"4\": 2}, \"11\": {\"10\": 22, \"11\": 37, \"14\": 35, \"15\": 11, \"12\": 28, \"6\": 6, \"8\": 11, \"7\": 10, \"9\": 5, \"1\": 10, \"13\": 10, \"2\": 22, \"0\": 7, \"4\": 15, \"3\": 6, \"5\": 5}, \"1\": {\"1\": 41, \"2\": 36, \"3\": 11, \"0\": 6, \"13\": 24, \"5\": 19, \"8\": 11, \"10\": 14, \"11\": 9, \"6\": 22, \"9\": 21, \"14\": 7, \"15\": 15, \"7\": 4}, \"10\": {\"14\": 27, \"7\": 12, \"10\": 12, \"11\": 18, \"6\": 12, \"4\": 5, \"15\": 21, \"1\": 11, \"9\": 16, \"0\": 19, \"2\": 9, \"12\": 20, \"13\": 13, \"5\": 16, \"3\": 13, \"8\": 16}, \"15\": {\"15\": 19, \"14\": 16, \"11\": 14, \"13\": 18, \"2\": 17, \"8\": 13, \"1\": 26, \"6\": 18, \"0\": 16, \"5\": 20, \"9\": 11, \"3\": 8, \"10\": 22, \"7\": 17, \"12\": 5}, \"3\": {\"8\": 21, \"0\": 24, \"13\": 9, \"9\": 27, \"3\": 48, \"14\": 7, \"5\": 18, \"7\": 28, \"10\": 10, \"11\": 4, \"6\": 20, \"15\": 5, \"12\": 7, \"1\": 7, \"2\": 4, \"4\": 1}, \"7\": {\"5\": 16, \"12\": 15, \"3\": 17, \"6\": 11, \"10\": 24, \"4\": 15, \"0\": 22, \"8\": 19, \"15\": 15, \"9\": 15, \"1\": 6, \"7\": 26, \"2\": 6, \"13\": 8, \"14\": 13, \"11\": 12}, \"4\": {\"11\": 25, \"5\": 6, \"8\": 10, \"0\": 11, \"4\": 90, \"12\": 53, \"14\": 14, \"10\": 11, \"7\": 11, \"15\": 3, \"9\": 1, \"13\": 1, \"1\": 2, \"3\": 2}, \"14\": {\"12\": 21, \"11\": 37, \"7\": 10, \"6\": 9, \"5\": 12, \"13\": 12, \"8\": 12, \"4\": 16, \"9\": 9, \"3\": 6, \"14\": 41, \"10\": 17, \"15\": 7, \"1\": 8, \"2\": 11, \"0\": 12}, \"9\": {\"0\": 18, \"9\": 30, \"8\": 10, \"6\": 29, \"7\": 16, \"1\": 20, \"5\": 10, \"13\": 27, \"15\": 16, \"3\": 27, \"2\": 16, \"11\": 1, \"10\": 11, \"14\": 7, \"12\": 2}, \"12\": {\"8\": 7, \"14\": 21, \"4\": 48, \"12\": 53, \"11\": 29, \"7\": 24, \"2\": 3, \"10\": 23, \"0\": 7, \"3\": 8, \"5\": 7, \"13\": 2, \"1\": 2, \"9\": 1, \"6\": 2, \"15\": 3}, \"6\": {\"8\": 16, \"5\": 19, \"9\": 25, \"10\": 14, \"6\": 25, \"2\": 13, \"15\": 15, \"7\": 17, \"12\": 6, \"0\": 17, \"14\": 10, \"13\": 17, \"1\": 19, \"3\": 18, \"11\": 8, \"4\": 1}, \"2\": {\"0\": 11, \"13\": 25, \"6\": 16, \"1\": 28, \"7\": 6, \"14\": 16, \"8\": 11, \"11\": 19, \"2\": 37, \"5\": 20, \"3\": 10, \"10\": 11, \"9\": 9, \"15\": 15, \"12\": 3, \"4\": 3}, \"0\": {\"0\": 22, \"7\": 16, \"9\": 29, \"3\": 25, \"12\": 23, \"10\": 18, \"5\": 19, \"14\": 9, \"2\": 4, \"1\": 12, \"6\": 13, \"8\": 19, \"13\": 9, \"15\": 8, \"11\": 9, \"4\": 5}, \"13\": {\"15\": 23, \"2\": 14, \"13\": 25, \"1\": 24, \"10\": 25, \"6\": 23, \"8\": 17, \"3\": 11, \"0\": 10, \"14\": 13, \"9\": 19, \"5\": 19, \"11\": 9, \"7\": 4, \"12\": 2, \"4\": 2}}, \"ORACLE.run18\": {\"9\": {\"9\": 135, \"5\": 13, \"13\": 14, \"6\": 8, \"4\": 8, \"10\": 19, \"7\": 4, \"11\": 7, \"2\": 3, \"1\": 3, \"0\": 15, \"14\": 6, \"3\": 1, \"8\": 4}, \"10\": {\"8\": 12, \"1\": 15, \"4\": 20, \"5\": 18, \"2\": 14, \"3\": 12, \"10\": 16, \"14\": 17, \"7\": 13, \"0\": 29, \"6\": 20, \"13\": 15, \"15\": 10, \"12\": 13, \"11\": 10, \"9\": 6}, \"13\": {\"1\": 12, \"5\": 23, \"3\": 9, \"7\": 21, \"12\": 18, \"14\": 18, \"8\": 9, \"6\": 14, \"4\": 21, \"13\": 19, \"11\": 14, \"10\": 12, \"15\": 12, \"0\": 18, \"2\": 15, \"9\": 5}, \"0\": {\"8\": 6, \"6\": 11, \"2\": 18, \"5\": 14, \"15\": 15, \"1\": 10, \"11\": 11, \"12\": 11, \"13\": 23, \"10\": 19, \"14\": 21, \"4\": 19, \"3\": 13, \"7\": 19, \"0\": 21, \"9\": 9}, \"1\": {\"11\": 18, \"14\": 23, \"3\": 12, \"5\": 22, \"1\": 22, \"8\": 19, \"2\": 15, \"7\": 24, \"12\": 12, \"15\": 14, \"10\": 12, \"0\": 14, \"4\": 16, \"6\": 10, \"13\": 6, \"9\": 1}, \"15\": {\"15\": 20, \"11\": 15, \"14\": 16, \"3\": 22, \"12\": 36, \"6\": 8, \"0\": 10, \"8\": 20, \"7\": 16, \"13\": 9, \"2\": 23, \"1\": 19, \"4\": 16, \"5\": 6, \"10\": 4}, \"5\": {\"11\": 10, \"12\": 8, \"0\": 18, \"5\": 19, \"8\": 14, \"4\": 17, \"6\": 19, \"2\": 15, \"1\": 22, \"14\": 19, \"3\": 10, \"10\": 19, \"7\": 13, \"13\": 21, \"15\": 8, \"9\": 8}, \"3\": {\"3\": 31, \"11\": 10, \"4\": 15, \"15\": 18, \"13\": 11, \"5\": 5, \"2\": 29, \"1\": 13, \"6\": 23, \"12\": 17, \"14\": 16, \"0\": 13, \"10\": 10, \"7\": 13, \"8\": 16}, \"6\": {\"8\": 20, \"12\": 12, \"5\": 18, \"14\": 12, \"11\": 14, \"1\": 16, \"4\": 11, \"6\": 17, \"10\": 13, \"13\": 19, \"15\": 10, \"3\": 17, \"2\": 19, \"7\": 11, \"0\": 22, \"9\": 9}, \"11\": {\"10\": 17, \"5\": 12, \"12\": 24, \"6\": 14, \"8\": 21, \"1\": 18, \"15\": 17, \"7\": 14, \"4\": 17, \"2\": 16, \"11\": 19, \"3\": 15, \"13\": 9, \"0\": 15, \"14\": 12}, \"8\": {\"10\": 11, \"11\": 28, \"15\": 29, \"3\": 18, \"12\": 22, \"14\": 14, \"8\": 21, \"7\": 13, \"2\": 19, \"13\": 10, \"4\": 14, \"1\": 9, \"5\": 7, \"9\": 1, \"0\": 10, \"6\": 14}, \"4\": {\"11\": 16, \"15\": 9, \"14\": 16, \"3\": 16, \"7\": 17, \"2\": 18, \"12\": 11, \"5\": 19, \"1\": 11, \"13\": 16, \"8\": 12, \"6\": 17, \"10\": 21, \"0\": 23, \"4\": 15, \"9\": 3}, \"12\": {\"2\": 17, \"7\": 16, \"14\": 8, \"11\": 22, \"12\": 33, \"3\": 21, \"15\": 27, \"10\": 9, \"0\": 9, \"1\": 15, \"8\": 22, \"5\": 9, \"13\": 9, \"4\": 11, \"6\": 12}, \"14\": {\"2\": 14, \"1\": 26, \"11\": 20, \"0\": 21, \"10\": 21, \"7\": 12, \"4\": 14, \"13\": 11, \"15\": 10, \"5\": 12, \"14\": 20, \"6\": 15, \"8\": 19, \"12\": 10, \"3\": 11, \"9\": 4}, \"2\": {\"15\": 13, \"7\": 16, \"5\": 14, \"2\": 24, \"4\": 8, \"12\": 20, \"1\": 11, \"8\": 17, \"6\": 16, \"0\": 20, \"3\": 25, \"14\": 15, \"11\": 14, \"13\": 16, \"10\": 11}, \"7\": {\"2\": 18, \"1\": 20, \"7\": 19, \"6\": 11, \"4\": 15, \"15\": 14, \"12\": 17, \"11\": 11, \"0\": 16, \"5\": 17, \"14\": 17, \"3\": 19, \"13\": 14, \"10\": 17, \"8\": 14, \"9\": 1}}, \"ORACLE.run150\": {\"7\": {\"0\": 10, \"9\": 16, \"11\": 11, \"15\": 13, \"7\": 17, \"10\": 21, \"4\": 23, \"1\": 20, \"2\": 6, \"13\": 16, \"14\": 13, \"8\": 9, \"3\": 14, \"12\": 4, \"6\": 26, \"5\": 21}, \"3\": {\"15\": 3, \"14\": 9, \"3\": 46, \"2\": 18, \"10\": 32, \"6\": 6, \"8\": 38, \"0\": 23, \"1\": 11, \"5\": 10, \"4\": 6, \"12\": 5, \"7\": 14, \"11\": 3, \"13\": 15, \"9\": 1}, \"8\": {\"7\": 8, \"0\": 26, \"9\": 4, \"8\": 48, \"2\": 29, \"5\": 9, \"3\": 42, \"14\": 10, \"4\": 7, \"12\": 9, \"10\": 29, \"1\": 3, \"13\": 7, \"6\": 6, \"15\": 1, \"11\": 2}, \"2\": {\"10\": 23, \"5\": 14, \"14\": 15, \"2\": 32, \"13\": 7, \"12\": 19, \"0\": 28, \"8\": 28, \"6\": 9, \"4\": 13, \"3\": 23, \"11\": 9, \"7\": 8, \"1\": 6, \"15\": 3, \"9\": 3}, \"14\": {\"11\": 20, \"12\": 20, \"1\": 17, \"3\": 5, \"2\": 16, \"8\": 10, \"5\": 14, \"14\": 25, \"0\": 14, \"15\": 8, \"9\": 24, \"6\": 22, \"10\": 9, \"13\": 16, \"7\": 11, \"4\": 9}, \"4\": {\"15\": 19, \"1\": 19, \"6\": 32, \"7\": 26, \"5\": 24, \"13\": 16, \"4\": 25, \"11\": 20, \"9\": 13, \"14\": 11, \"10\": 9, \"12\": 12, \"0\": 7, \"3\": 3, \"2\": 2, \"8\": 2}, \"6\": {\"4\": 29, \"10\": 12, \"1\": 18, \"15\": 17, \"13\": 21, \"11\": 19, \"6\": 18, \"9\": 11, \"5\": 16, \"2\": 9, \"8\": 9, \"14\": 17, \"12\": 13, \"7\": 14, \"0\": 12, \"3\": 5}, \"15\": {\"10\": 9, \"4\": 35, \"7\": 19, \"6\": 14, \"11\": 29, \"13\": 12, \"14\": 16, \"12\": 14, \"1\": 19, \"15\": 23, \"2\": 3, \"9\": 20, \"5\": 16, \"3\": 3, \"0\": 8}, \"10\": {\"1\": 9, \"3\": 28, \"8\": 29, \"0\": 26, \"12\": 12, \"13\": 13, \"7\": 20, \"6\": 11, \"5\": 12, \"2\": 20, \"14\": 7, \"10\": 19, \"11\": 9, \"9\": 9, \"15\": 8, \"4\": 8}, \"11\": {\"6\": 29, \"7\": 19, \"15\": 21, \"1\": 20, \"11\": 19, \"9\": 21, \"2\": 7, \"13\": 13, \"14\": 15, \"5\": 15, \"4\": 18, \"3\": 1, \"10\": 8, \"0\": 9, \"8\": 5, \"12\": 20}, \"13\": {\"5\": 28, \"7\": 18, \"14\": 11, \"6\": 21, \"12\": 15, \"15\": 12, \"11\": 9, \"10\": 15, \"13\": 18, \"8\": 11, \"1\": 19, \"0\": 12, \"9\": 12, \"4\": 26, \"3\": 8, \"2\": 5}, \"9\": {\"11\": 19, \"7\": 21, \"15\": 20, \"6\": 22, \"14\": 23, \"13\": 10, \"9\": 31, \"12\": 23, \"1\": 21, \"4\": 14, \"2\": 9, \"10\": 4, \"8\": 4, \"5\": 11, \"0\": 7, \"3\": 1}, \"0\": {\"10\": 20, \"3\": 23, \"6\": 13, \"14\": 19, \"5\": 9, \"8\": 30, \"4\": 12, \"2\": 23, \"1\": 11, \"0\": 34, \"11\": 6, \"15\": 5, \"9\": 5, \"12\": 11, \"13\": 7, \"7\": 12}, \"1\": {\"5\": 21, \"2\": 9, \"1\": 13, \"9\": 22, \"14\": 12, \"6\": 19, \"7\": 20, \"13\": 15, \"10\": 14, \"0\": 13, \"11\": 21, \"8\": 6, \"4\": 24, \"15\": 15, \"12\": 12, \"3\": 4}, \"12\": {\"6\": 12, \"9\": 26, \"15\": 7, \"12\": 24, \"14\": 26, \"2\": 17, \"4\": 20, \"11\": 18, \"1\": 18, \"0\": 8, \"3\": 6, \"7\": 17, \"10\": 10, \"5\": 17, \"8\": 7, \"13\": 7}, \"5\": {\"2\": 13, \"8\": 9, \"5\": 20, \"0\": 14, \"15\": 11, \"1\": 21, \"9\": 12, \"11\": 18, \"4\": 20, \"13\": 14, \"7\": 28, \"14\": 10, \"6\": 22, \"12\": 9, \"3\": 9, \"10\": 10}}, \"ORACLE.run132\": {\"8\": {\"5\": 20, \"8\": 33, \"0\": 17, \"9\": 9, \"7\": 20, \"13\": 25, \"14\": 14, \"3\": 29, \"11\": 17, \"4\": 16, \"2\": 14, \"15\": 17, \"12\": 9}, \"14\": {\"7\": 28, \"0\": 21, \"13\": 12, \"9\": 20, \"14\": 25, \"12\": 7, \"2\": 23, \"8\": 19, \"5\": 21, \"3\": 17, \"11\": 21, \"4\": 16, \"15\": 4, \"6\": 2, \"1\": 1, \"10\": 3}, \"2\": {\"13\": 16, \"11\": 19, \"12\": 20, \"9\": 22, \"2\": 29, \"7\": 22, \"0\": 23, \"4\": 21, \"3\": 15, \"14\": 24, \"8\": 10, \"15\": 3, \"5\": 14, \"10\": 1, \"6\": 1}, \"0\": {\"7\": 22, \"14\": 32, \"3\": 21, \"9\": 16, \"0\": 20, \"11\": 23, \"5\": 17, \"4\": 15, \"8\": 17, \"13\": 19, \"2\": 20, \"10\": 3, \"12\": 9, \"15\": 5, \"6\": 1}, \"1\": {\"10\": 54, \"1\": 110, \"6\": 44, \"12\": 12, \"14\": 2, \"9\": 13, \"15\": 2, \"7\": 1, \"2\": 1, \"0\": 1}, \"10\": {\"10\": 72, \"12\": 43, \"6\": 24, \"1\": 56, \"14\": 5, \"13\": 5, \"0\": 3, \"11\": 1, \"5\": 1, \"9\": 15, \"4\": 6, \"2\": 2, \"7\": 2, \"8\": 3, \"15\": 2}, \"11\": {\"3\": 21, \"8\": 21, \"13\": 20, \"0\": 22, \"5\": 28, \"15\": 6, \"7\": 12, \"4\": 17, \"9\": 7, \"14\": 31, \"2\": 24, \"11\": 24, \"12\": 6, \"10\": 1}, \"5\": {\"5\": 22, \"2\": 23, \"6\": 1, \"14\": 24, \"3\": 23, \"8\": 25, \"13\": 19, \"0\": 19, \"11\": 21, \"4\": 20, \"9\": 9, \"7\": 13, \"12\": 12, \"15\": 9}, \"15\": {\"3\": 37, \"15\": 89, \"12\": 6, \"13\": 14, \"14\": 12, \"8\": 21, \"5\": 16, \"4\": 10, \"0\": 10, \"7\": 13, \"11\": 4, \"2\": 6, \"10\": 2}, \"3\": {\"14\": 13, \"4\": 19, \"2\": 8, \"9\": 8, \"13\": 22, \"15\": 27, \"7\": 16, \"3\": 34, \"5\": 25, \"0\": 16, \"8\": 27, \"11\": 14, \"12\": 6, \"1\": 1, \"10\": 4}, \"12\": {\"14\": 7, \"7\": 11, \"12\": 54, \"1\": 7, \"13\": 8, \"2\": 20, \"5\": 9, \"10\": 39, \"11\": 6, \"9\": 33, \"4\": 10, \"8\": 5, \"0\": 11, \"6\": 15, \"15\": 3, \"3\": 2}, \"7\": {\"13\": 19, \"2\": 30, \"9\": 15, \"0\": 30, \"1\": 2, \"7\": 14, \"14\": 29, \"3\": 18, \"12\": 12, \"4\": 14, \"15\": 5, \"8\": 13, \"5\": 23, \"11\": 14, \"10\": 2}, \"13\": {\"14\": 17, \"7\": 20, \"5\": 16, \"8\": 24, \"11\": 20, \"0\": 14, \"12\": 11, \"4\": 19, \"13\": 28, \"15\": 13, \"9\": 5, \"3\": 34, \"2\": 17, \"10\": 2}, \"6\": {\"6\": 81, \"1\": 60, \"10\": 46, \"9\": 14, \"12\": 29, \"14\": 1, \"5\": 2, \"2\": 4, \"0\": 2, \"13\": 1}, \"4\": {\"13\": 15, \"9\": 10, \"10\": 4, \"0\": 32, \"7\": 26, \"2\": 21, \"14\": 19, \"15\": 13, \"3\": 21, \"11\": 18, \"4\": 22, \"8\": 10, \"12\": 14, \"5\": 14, \"6\": 1}, \"9\": {\"5\": 11, \"7\": 13, \"1\": 4, \"0\": 15, \"6\": 13, \"10\": 19, \"9\": 26, \"14\": 13, \"4\": 19, \"12\": 33, \"8\": 13, \"13\": 19, \"11\": 9, \"3\": 8, \"2\": 21, \"15\": 4}}, \"ORACLE.run126\": {\"4\": {\"13\": 10, \"7\": 15, \"10\": 15, \"11\": 1, \"1\": 22, \"12\": 19, \"3\": 17, \"6\": 13, \"8\": 17, \"2\": 15, \"9\": 9, \"0\": 19, \"15\": 9, \"5\": 14, \"14\": 20, \"4\": 25}, \"12\": {\"5\": 18, \"12\": 26, \"9\": 13, \"8\": 17, \"15\": 14, \"11\": 26, \"0\": 11, \"10\": 22, \"7\": 3, \"3\": 11, \"13\": 23, \"1\": 9, \"6\": 21, \"2\": 7, \"4\": 10, \"14\": 9}, \"10\": {\"14\": 14, \"6\": 20, \"11\": 3, \"2\": 21, \"9\": 14, \"4\": 12, \"8\": 19, \"0\": 17, \"7\": 13, \"3\": 23, \"1\": 11, \"10\": 19, \"12\": 15, \"5\": 14, \"13\": 11, \"15\": 14}, \"0\": {\"13\": 11, \"0\": 18, \"8\": 24, \"7\": 19, \"14\": 20, \"10\": 18, \"3\": 17, \"2\": 12, \"6\": 19, \"15\": 17, \"5\": 19, \"1\": 14, \"4\": 13, \"9\": 13, \"12\": 5, \"11\": 1}, \"13\": {\"2\": 19, \"14\": 8, \"6\": 19, \"10\": 12, \"8\": 15, \"5\": 20, \"11\": 20, \"0\": 9, \"9\": 12, \"15\": 23, \"3\": 11, \"1\": 6, \"13\": 27, \"12\": 19, \"4\": 7, \"7\": 13}, \"9\": {\"0\": 16, \"6\": 23, \"8\": 12, \"12\": 19, \"9\": 17, \"1\": 12, \"10\": 8, \"14\": 17, \"3\": 11, \"4\": 8, \"5\": 22, \"11\": 10, \"15\": 13, \"13\": 22, \"2\": 14, \"7\": 16}, \"3\": {\"5\": 9, \"2\": 16, \"15\": 13, \"12\": 10, \"7\": 20, \"1\": 15, \"4\": 19, \"13\": 18, \"8\": 21, \"3\": 23, \"14\": 16, \"6\": 17, \"0\": 12, \"9\": 11, \"10\": 18, \"11\": 2}, \"2\": {\"15\": 11, \"0\": 11, \"9\": 14, \"5\": 20, \"8\": 18, \"4\": 21, \"11\": 1, \"14\": 16, \"13\": 15, \"1\": 17, \"2\": 20, \"10\": 10, \"6\": 17, \"7\": 15, \"12\": 12, \"3\": 22}, \"5\": {\"10\": 11, \"5\": 21, \"0\": 10, \"2\": 17, \"1\": 12, \"9\": 26, \"8\": 16, \"6\": 17, \"13\": 23, \"15\": 15, \"3\": 17, \"4\": 13, \"14\": 9, \"12\": 11, \"7\": 10, \"11\": 12}, \"14\": {\"3\": 17, \"7\": 20, \"9\": 11, \"15\": 10, \"8\": 22, \"10\": 22, \"2\": 15, \"0\": 17, \"5\": 10, \"14\": 20, \"4\": 16, \"1\": 26, \"12\": 12, \"6\": 14, \"13\": 7, \"11\": 1}, \"8\": {\"15\": 13, \"9\": 13, \"8\": 25, \"6\": 15, \"7\": 12, \"3\": 26, \"4\": 12, \"1\": 19, \"0\": 16, \"14\": 20, \"5\": 11, \"12\": 8, \"13\": 13, \"10\": 21, \"2\": 14, \"11\": 2}, \"7\": {\"3\": 15, \"13\": 12, \"15\": 16, \"7\": 16, \"6\": 21, \"9\": 13, \"2\": 17, \"0\": 16, \"14\": 17, \"1\": 24, \"5\": 9, \"10\": 18, \"8\": 19, \"12\": 8, \"4\": 19}, \"6\": {\"14\": 16, \"15\": 20, \"8\": 17, \"11\": 6, \"5\": 15, \"9\": 23, \"6\": 12, \"3\": 22, \"12\": 10, \"4\": 15, \"7\": 23, \"0\": 18, \"10\": 7, \"13\": 10, \"2\": 10, \"1\": 16}, \"11\": {\"5\": 18, \"11\": 79, \"7\": 3, \"12\": 32, \"13\": 23, \"9\": 12, \"15\": 19, \"14\": 6, \"6\": 12, \"0\": 4, \"8\": 6, \"10\": 7, \"1\": 8, \"3\": 4, \"4\": 4, \"2\": 3}, \"15\": {\"5\": 18, \"14\": 8, \"9\": 21, \"12\": 15, \"2\": 19, \"10\": 18, \"13\": 15, \"7\": 16, \"15\": 15, \"3\": 18, \"4\": 19, \"8\": 17, \"6\": 15, \"0\": 13, \"1\": 9, \"11\": 4}, \"1\": {\"3\": 13, \"7\": 20, \"2\": 15, \"4\": 20, \"10\": 22, \"14\": 21, \"15\": 10, \"13\": 13, \"12\": 8, \"1\": 19, \"8\": 17, \"0\": 17, \"6\": 16, \"5\": 15, \"9\": 13, \"11\": 1}}, \"ORACLE.run144\": {\"12\": {\"1\": 29, \"3\": 20, \"10\": 24, \"11\": 20, \"4\": 11, \"9\": 21, \"13\": 18, \"2\": 13, \"7\": 23, \"15\": 9, \"14\": 9, \"6\": 14, \"8\": 2, \"12\": 23, \"0\": 2, \"5\": 2}, \"7\": {\"1\": 20, \"13\": 19, \"14\": 10, \"7\": 26, \"10\": 23, \"2\": 25, \"12\": 16, \"6\": 20, \"4\": 12, \"9\": 28, \"11\": 16, \"3\": 16, \"5\": 3, \"8\": 2, \"0\": 2, \"15\": 2}, \"5\": {\"7\": 6, \"14\": 33, \"5\": 49, \"0\": 26, \"4\": 16, \"15\": 34, \"13\": 8, \"11\": 5, \"8\": 24, \"1\": 9, \"10\": 4, \"3\": 12, \"6\": 3, \"9\": 7, \"12\": 3, \"2\": 1}, \"15\": {\"9\": 7, \"14\": 27, \"15\": 34, \"5\": 35, \"8\": 39, \"11\": 2, \"4\": 17, \"0\": 41, \"1\": 6, \"2\": 2, \"3\": 10, \"12\": 11, \"10\": 4, \"6\": 2, \"13\": 2, \"7\": 1}, \"8\": {\"4\": 14, \"15\": 37, \"12\": 4, \"0\": 60, \"8\": 59, \"5\": 30, \"14\": 22, \"11\": 2, \"2\": 2, \"3\": 2, \"13\": 2, \"1\": 2, \"9\": 2, \"10\": 2}, \"2\": {\"12\": 19, \"9\": 27, \"2\": 29, \"6\": 35, \"13\": 13, \"3\": 13, \"1\": 23, \"15\": 4, \"5\": 2, \"10\": 20, \"14\": 6, \"7\": 17, \"11\": 25, \"0\": 1, \"4\": 6}, \"13\": {\"14\": 9, \"10\": 16, \"11\": 30, \"7\": 30, \"2\": 22, \"6\": 33, \"12\": 8, \"0\": 2, \"1\": 25, \"13\": 23, \"3\": 8, \"8\": 1, \"9\": 18, \"15\": 4, \"4\": 7, \"5\": 4}, \"4\": {\"9\": 16, \"6\": 7, \"14\": 20, \"13\": 11, \"10\": 9, \"12\": 14, \"4\": 28, \"15\": 21, \"2\": 14, \"1\": 11, \"3\": 19, \"8\": 9, \"5\": 31, \"0\": 16, \"11\": 8, \"7\": 6}, \"0\": {\"15\": 53, \"14\": 28, \"0\": 41, \"4\": 10, \"5\": 24, \"8\": 55, \"12\": 6, \"2\": 3, \"13\": 3, \"3\": 7, \"1\": 6, \"10\": 1, \"9\": 3}, \"6\": {\"6\": 44, \"7\": 15, \"11\": 40, \"10\": 15, \"13\": 28, \"12\": 7, \"9\": 31, \"1\": 11, \"3\": 10, \"2\": 27, \"4\": 5, \"8\": 1, \"5\": 1, \"14\": 3, \"15\": 2}, \"9\": {\"1\": 14, \"10\": 20, \"2\": 19, \"5\": 5, \"4\": 18, \"14\": 9, \"12\": 19, \"9\": 28, \"13\": 26, \"7\": 21, \"15\": 2, \"11\": 22, \"3\": 16, \"6\": 18, \"8\": 1, \"0\": 2}, \"11\": {\"6\": 37, \"13\": 27, \"10\": 21, \"11\": 35, \"12\": 8, \"2\": 28, \"1\": 15, \"7\": 20, \"9\": 20, \"5\": 5, \"4\": 7, \"3\": 9, \"8\": 1, \"0\": 2, \"14\": 3, \"15\": 2}, \"10\": {\"12\": 20, \"14\": 5, \"9\": 22, \"10\": 28, \"1\": 17, \"2\": 31, \"11\": 23, \"0\": 3, \"4\": 7, \"6\": 23, \"5\": 6, \"7\": 25, \"3\": 13, \"13\": 15, \"15\": 2}, \"14\": {\"9\": 14, \"14\": 22, \"5\": 32, \"12\": 10, \"3\": 12, \"7\": 11, \"15\": 29, \"4\": 26, \"8\": 17, \"2\": 8, \"0\": 20, \"1\": 16, \"6\": 5, \"13\": 9, \"10\": 7, \"11\": 2}, \"1\": {\"3\": 28, \"1\": 27, \"7\": 26, \"9\": 26, \"4\": 11, \"5\": 7, \"14\": 8, \"13\": 16, \"12\": 20, \"11\": 11, \"15\": 9, \"2\": 20, \"10\": 16, \"6\": 9, \"0\": 5, \"8\": 1}, \"3\": {\"0\": 14, \"9\": 16, \"12\": 28, \"14\": 16, \"10\": 18, \"4\": 23, \"3\": 24, \"1\": 24, \"13\": 6, \"7\": 13, \"2\": 15, \"5\": 12, \"15\": 9, \"11\": 12, \"6\": 9, \"8\": 1}}}, \"per_domain_accuracy\": {\"Wisig_3\": {\"accuracy\": 0.9684758771929824, \"source?\": true}, \"Wisig_4\": {\"accuracy\": 0.9569187242798354, \"source?\": true}, \"Wisig_1\": {\"accuracy\": 0.96875, \"source?\": true}, \"Wisig_2\": {\"accuracy\": 0.9533876050420168, \"source?\": true}, \"ORACLE.run114\": {\"accuracy\": 0.10026041666666667, \"source?\": false}, \"ORACLE.run120\": {\"accuracy\": 0.07760416666666667, \"source?\": false}, \"ORACLE.run138\": {\"accuracy\": 0.14505208333333333, \"source?\": false}, \"ORACLE.run18\": {\"accuracy\": 0.11744791666666667, \"source?\": false}, \"ORACLE.run150\": {\"accuracy\": 0.10729166666666666, \"source?\": false}, \"ORACLE.run132\": {\"accuracy\": 0.17786458333333333, \"source?\": false}, \"ORACLE.run126\": {\"accuracy\": 0.09947916666666666, \"source?\": false}, \"ORACLE.run144\": {\"accuracy\": 0.13541666666666666, \"source?\": false}}}, \"history\": {\"epoch_indices\": [1, 2, 3, 4, 5], \"train_label_loss\": [0.1938738649240638, 0.12507039258720276, 0.1000052752293235, 0.08488315792571376, 0.07176989001315166], \"source_val_label_loss\": [0.17195343971252441, 0.1408075988292694, 0.12198544293642044, 0.12514454126358032, 0.12615354359149933], \"target_val_label_loss\": [2.682436943054199, 2.6756911277770996, 2.735405683517456, 2.7503695487976074, 2.854323387145996], \"source_val_acc_label\": [0.961765095338983, 0.9677899894067796, 0.9720603813559322, 0.9721927966101694, 0.9727886652542372], \"target_val_acc_label\": [0.12005208333333334, 0.11617838541666667, 0.10651041666666666, 0.10266927083333334, 0.09244791666666667]}, \"dataset_metrics\": {\"source\": {\"train\": {\"n_unique_x\": 189012, \"n_unique_y\": 130, \"n_batch/episode\": 6831}, \"val\": {\"n_unique_x\": 40068, \"n_unique_y\": 130, \"n_batch/episode\": 944}, \"test\": {\"n_unique_x\": 40816, \"n_unique_y\": 130, \"n_batch/episode\": 969}}, \"target\": {\"train\": {\"n_unique_x\": 179200, \"n_unique_y\": 16, \"n_batch/episode\": 6720}, \"val\": {\"n_unique_x\": 38400, \"n_unique_y\": 16, \"n_batch/episode\": 960}, \"test\": {\"n_unique_x\": 38400, \"n_unique_y\": 16, \"n_batch/episode\": 960}}}}'"
      ]
     },
     "execution_count": 29,
     "metadata": {},
     "output_type": "execute_result"
    }
   ],
   "source": [
    "json.dumps(experiment)"
   ]
  }
 ],
 "metadata": {
  "celltoolbar": "Tags",
  "kernelspec": {
   "display_name": "Python 3 (ipykernel)",
   "language": "python",
   "name": "python3"
  },
  "language_info": {
   "codemirror_mode": {
    "name": "ipython",
    "version": 3
   },
   "file_extension": ".py",
   "mimetype": "text/x-python",
   "name": "python",
   "nbconvert_exporter": "python",
   "pygments_lexer": "ipython3",
   "version": "3.8.12"
  },
  "papermill": {
   "default_parameters": {},
   "duration": 1299.60169,
   "end_time": "2022-03-22T16:17:15.739340",
   "environment_variables": {},
   "exception": null,
   "input_path": "/root/csc500-main/csc500-notebooks/templates/tl_ptn_template.ipynb",
   "output_path": "trial.ipynb",
   "parameters": {
    "parameters": {
     "BEST_MODEL_PATH": "./best_model.pth",
     "NUM_LOGS_PER_EPOCH": 10,
     "criteria_for_best": "target_accuracy",
     "dataset_seed": 1337,
     "datasets": [
      {
       "domain_prefix": "Wisig_",
       "domains": [
        1,
        2,
        3,
        4
       ],
       "episode_transforms": [],
       "labels": [
        "1-10",
        "1-12",
        "1-14",
        "1-16",
        "1-18",
        "1-19",
        "1-8",
        "10-11",
        "10-17",
        "10-4",
        "10-7",
        "11-1",
        "11-10",
        "11-19",
        "11-20",
        "11-4",
        "11-7",
        "12-19",
        "12-20",
        "12-7",
        "13-14",
        "13-18",
        "13-19",
        "13-20",
        "13-3",
        "13-7",
        "14-10",
        "14-11",
        "14-12",
        "14-13",
        "14-14",
        "14-19",
        "14-20",
        "14-7",
        "14-8",
        "14-9",
        "15-1",
        "15-19",
        "15-6",
        "16-1",
        "16-16",
        "16-19",
        "16-20",
        "17-10",
        "17-11",
        "18-1",
        "18-10",
        "18-11",
        "18-12",
        "18-13",
        "18-14",
        "18-15",
        "18-16",
        "18-17",
        "18-19",
        "18-2",
        "18-20",
        "18-4",
        "18-5",
        "18-7",
        "18-8",
        "18-9",
        "19-1",
        "19-10",
        "19-11",
        "19-12",
        "19-13",
        "19-14",
        "19-15",
        "19-19",
        "19-2",
        "19-20",
        "19-3",
        "19-4",
        "19-6",
        "19-7",
        "19-8",
        "19-9",
        "2-1",
        "2-13",
        "2-15",
        "2-3",
        "2-4",
        "2-5",
        "2-6",
        "2-7",
        "2-8",
        "20-1",
        "20-12",
        "20-14",
        "20-15",
        "20-16",
        "20-18",
        "20-19",
        "20-20",
        "20-3",
        "20-4",
        "20-5",
        "20-7",
        "20-8",
        "3-1",
        "3-13",
        "3-18",
        "3-2",
        "3-8",
        "4-1",
        "4-10",
        "4-11",
        "5-1",
        "5-5",
        "6-1",
        "6-15",
        "6-6",
        "7-10",
        "7-11",
        "7-12",
        "7-13",
        "7-14",
        "7-7",
        "7-8",
        "7-9",
        "8-1",
        "8-13",
        "8-14",
        "8-18",
        "8-20",
        "8-3",
        "8-8",
        "9-1",
        "9-7"
       ],
       "num_examples_per_domain_per_label": -1,
       "pickle_path": "/root/csc500-main/datasets/wisig.node3-19.stratified_ds.2022A.pkl",
       "source_or_target_dataset": "source",
       "x_transforms": [
        "unit_mag"
       ]
      },
      {
       "domain_prefix": "ORACLE.run1",
       "domains": [
        32,
        38,
        8,
        44,
        14,
        50,
        20,
        26
       ],
       "episode_transforms": [],
       "labels": [
        "3123D52",
        "3123D65",
        "3123D79",
        "3123D80",
        "3123D54",
        "3123D70",
        "3123D7B",
        "3123D89",
        "3123D58",
        "3123D76",
        "3123D7D",
        "3123EFE",
        "3123D64",
        "3123D78",
        "3123D7E",
        "3124E4A"
       ],
       "num_examples_per_domain_per_label": 2000,
       "pickle_path": "/root/csc500-main/datasets/oracle.Run1_10kExamples_stratified_ds.2022A.pkl",
       "source_or_target_dataset": "target",
       "x_transforms": [
        "unit_mag"
       ]
      }
     ],
     "device": "cuda",
     "experiment_name": "tl_1v2:wisig-oracle.run1.limited",
     "lr": 0.0001,
     "n_epoch": 50,
     "n_query": 2,
     "n_shot": 3,
     "n_way": 16,
     "patience": 3,
     "seed": 1337,
     "test_k_factor": 2,
     "torch_default_dtype": "torch.float32",
     "train_k_factor": 3,
     "val_k_factor": 2,
     "x_net": [
      {
       "class": "nnReshape",
       "kargs": {
        "shape": [
         -1,
         1,
         2,
         256
        ]
       }
      },
      {
       "class": "Conv2d",
       "kargs": {
        "bias": false,
        "in_channels": 1,
        "kernel_size": [
         1,
         7
        ],
        "out_channels": 256,
        "padding": [
         0,
         3
        ]
       }
      },
      {
       "class": "ReLU",
       "kargs": {
        "inplace": true
       }
      },
      {
       "class": "BatchNorm2d",
       "kargs": {
        "num_features": 256
       }
      },
      {
       "class": "Conv2d",
       "kargs": {
        "bias": true,
        "in_channels": 256,
        "kernel_size": [
         2,
         7
        ],
        "out_channels": 80,
        "padding": [
         0,
         3
        ]
       }
      },
      {
       "class": "ReLU",
       "kargs": {
        "inplace": true
       }
      },
      {
       "class": "BatchNorm2d",
       "kargs": {
        "num_features": 80
       }
      },
      {
       "class": "Flatten",
       "kargs": {}
      },
      {
       "class": "Linear",
       "kargs": {
        "in_features": 20480,
        "out_features": 256
       }
      },
      {
       "class": "ReLU",
       "kargs": {
        "inplace": true
       }
      },
      {
       "class": "BatchNorm1d",
       "kargs": {
        "num_features": 256
       }
      },
      {
       "class": "Linear",
       "kargs": {
        "in_features": 256,
        "out_features": 256
       }
      }
     ]
    }
   },
   "start_time": "2022-03-22T15:55:36.137650",
   "version": "2.3.4"
  }
 },
 "nbformat": 4,
 "nbformat_minor": 5
}