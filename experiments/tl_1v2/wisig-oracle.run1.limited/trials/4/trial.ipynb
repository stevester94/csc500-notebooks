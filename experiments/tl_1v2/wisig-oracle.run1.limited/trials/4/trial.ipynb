{
 "cells": [
  {
   "cell_type": "markdown",
   "id": "9fea5f46",
   "metadata": {
    "papermill": {
     "duration": 0.032881,
     "end_time": "2022-03-22T17:38:48.380899",
     "exception": false,
     "start_time": "2022-03-22T17:38:48.348018",
     "status": "completed"
    },
    "tags": []
   },
   "source": [
    "# Transfer Learning Template"
   ]
  },
  {
   "cell_type": "code",
   "execution_count": 1,
   "id": "0902182a",
   "metadata": {
    "execution": {
     "iopub.execute_input": "2022-03-22T17:38:48.448489Z",
     "iopub.status.busy": "2022-03-22T17:38:48.447641Z",
     "iopub.status.idle": "2022-03-22T17:38:50.335085Z",
     "shell.execute_reply": "2022-03-22T17:38:50.334373Z"
    },
    "papermill": {
     "duration": 1.926521,
     "end_time": "2022-03-22T17:38:50.335243",
     "exception": false,
     "start_time": "2022-03-22T17:38:48.408722",
     "status": "completed"
    },
    "tags": []
   },
   "outputs": [],
   "source": [
    "%load_ext autoreload\n",
    "%autoreload 2\n",
    "%matplotlib inline\n",
    "\n",
    "    \n",
    "import os, json, sys, time, random\n",
    "import numpy as np\n",
    "import torch\n",
    "from torch.optim import Adam\n",
    "from  easydict import EasyDict\n",
    "import matplotlib.pyplot as plt\n",
    "\n",
    "from steves_models.steves_ptn import Steves_Prototypical_Network\n",
    "\n",
    "from steves_utils.lazy_iterable_wrapper import Lazy_Iterable_Wrapper\n",
    "from steves_utils.iterable_aggregator import Iterable_Aggregator\n",
    "from steves_utils.ptn_train_eval_test_jig import  PTN_Train_Eval_Test_Jig\n",
    "from steves_utils.torch_sequential_builder import build_sequential\n",
    "from steves_utils.torch_utils import get_dataset_metrics, ptn_confusion_by_domain_over_dataloader\n",
    "from steves_utils.utils_v2 import (per_domain_accuracy_from_confusion, get_datasets_base_path)\n",
    "from steves_utils.PTN.utils import independent_accuracy_assesment\n",
    "\n",
    "from torch.utils.data import DataLoader\n",
    "\n",
    "from steves_utils.stratified_dataset.episodic_accessor import Episodic_Accessor_Factory\n",
    "\n",
    "from steves_utils.ptn_do_report import (\n",
    "    get_loss_curve,\n",
    "    get_results_table,\n",
    "    get_parameters_table,\n",
    "    get_domain_accuracies,\n",
    ")\n",
    "\n",
    "from steves_utils.transforms import get_chained_transform"
   ]
  },
  {
   "cell_type": "markdown",
   "id": "41c840b4",
   "metadata": {
    "papermill": {
     "duration": 0.019733,
     "end_time": "2022-03-22T17:38:50.378825",
     "exception": false,
     "start_time": "2022-03-22T17:38:50.359092",
     "status": "completed"
    },
    "tags": []
   },
   "source": [
    "# Allowed Parameters\n",
    "These are allowed parameters, not defaults\n",
    "Each of these values need to be present in the injected parameters (the notebook will raise an exception if they are not present)\n",
    "\n",
    "Papermill uses the cell tag \"parameters\" to inject the real parameters below this cell.\n",
    "Enable tags to see what I mean"
   ]
  },
  {
   "cell_type": "code",
   "execution_count": 2,
   "id": "fd44eb83",
   "metadata": {
    "execution": {
     "iopub.execute_input": "2022-03-22T17:38:50.424124Z",
     "iopub.status.busy": "2022-03-22T17:38:50.423727Z",
     "iopub.status.idle": "2022-03-22T17:38:50.447255Z",
     "shell.execute_reply": "2022-03-22T17:38:50.446519Z"
    },
    "papermill": {
     "duration": 0.048772,
     "end_time": "2022-03-22T17:38:50.447426",
     "exception": false,
     "start_time": "2022-03-22T17:38:50.398654",
     "status": "completed"
    },
    "tags": []
   },
   "outputs": [],
   "source": [
    "required_parameters = {\n",
    "    \"experiment_name\",\n",
    "    \"lr\",\n",
    "    \"device\",\n",
    "    \"seed\",\n",
    "    \"dataset_seed\",\n",
    "    \"n_shot\",\n",
    "    \"n_query\",\n",
    "    \"n_way\",\n",
    "    \"train_k_factor\",\n",
    "    \"val_k_factor\",\n",
    "    \"test_k_factor\",\n",
    "    \"n_epoch\",\n",
    "    \"patience\",\n",
    "    \"criteria_for_best\",\n",
    "    \"x_net\",\n",
    "    \"datasets\",\n",
    "    \"torch_default_dtype\",\n",
    "    \"NUM_LOGS_PER_EPOCH\",\n",
    "    \"BEST_MODEL_PATH\",\n",
    "    \"x_shape\",\n",
    "}"
   ]
  },
  {
   "cell_type": "code",
   "execution_count": 3,
   "id": "fa3f0049",
   "metadata": {
    "execution": {
     "iopub.execute_input": "2022-03-22T17:38:50.513745Z",
     "iopub.status.busy": "2022-03-22T17:38:50.512818Z",
     "iopub.status.idle": "2022-03-22T17:38:50.532602Z",
     "shell.execute_reply": "2022-03-22T17:38:50.531879Z"
    },
    "papermill": {
     "duration": 0.055392,
     "end_time": "2022-03-22T17:38:50.532768",
     "exception": false,
     "start_time": "2022-03-22T17:38:50.477376",
     "status": "completed"
    },
    "tags": [
     "parameters"
    ]
   },
   "outputs": [],
   "source": [
    "from steves_utils.CORES.utils import (\n",
    "    ALL_NODES,\n",
    "    ALL_NODES_MINIMUM_1000_EXAMPLES,\n",
    "    ALL_DAYS\n",
    ")\n",
    "\n",
    "from steves_utils.ORACLE.utils_v2 import (\n",
    "    ALL_DISTANCES_FEET_NARROWED,\n",
    "    ALL_RUNS,\n",
    "    ALL_SERIAL_NUMBERS,\n",
    ")\n",
    "\n",
    "standalone_parameters = {}\n",
    "standalone_parameters[\"experiment_name\"] = \"STANDALONE PTN\"\n",
    "standalone_parameters[\"lr\"] = 0.001\n",
    "standalone_parameters[\"device\"] = \"cuda\"\n",
    "\n",
    "standalone_parameters[\"seed\"] = 1337\n",
    "standalone_parameters[\"dataset_seed\"] = 1337\n",
    "\n",
    "standalone_parameters[\"n_way\"] = 8\n",
    "standalone_parameters[\"n_shot\"] = 3\n",
    "standalone_parameters[\"n_query\"]  = 2\n",
    "standalone_parameters[\"train_k_factor\"] = 1\n",
    "standalone_parameters[\"val_k_factor\"] = 2\n",
    "standalone_parameters[\"test_k_factor\"] = 2\n",
    "\n",
    "\n",
    "standalone_parameters[\"n_epoch\"] = 50\n",
    "\n",
    "standalone_parameters[\"patience\"] = 10\n",
    "standalone_parameters[\"criteria_for_best\"] = \"source_loss\"\n",
    "\n",
    "standalone_parameters[\"datasets\"] = [\n",
    "    {\n",
    "        \"labels\": ALL_SERIAL_NUMBERS,\n",
    "        \"domains\": ALL_DISTANCES_FEET_NARROWED,\n",
    "        \"num_examples_per_domain_per_label\": 100,\n",
    "        \"pickle_path\": os.path.join(get_datasets_base_path(), \"oracle.Run1_framed_2000Examples_stratified_ds.2022A.pkl\"),\n",
    "        \"source_or_target_dataset\": \"source\",\n",
    "        \"x_transforms\": [\"unit_mag\", \"minus_two\"],\n",
    "        \"episode_transforms\": [],\n",
    "        \"domain_prefix\": \"ORACLE_\"\n",
    "    },\n",
    "    {\n",
    "        \"labels\": ALL_NODES,\n",
    "        \"domains\": ALL_DAYS,\n",
    "        \"num_examples_per_domain_per_label\": 100,\n",
    "        \"pickle_path\": os.path.join(get_datasets_base_path(), \"cores.stratified_ds.2022A.pkl\"),\n",
    "        \"source_or_target_dataset\": \"target\",\n",
    "        \"x_transforms\": [\"unit_power\", \"times_zero\"],\n",
    "        \"episode_transforms\": [],\n",
    "        \"domain_prefix\": \"CORES_\"\n",
    "    }   \n",
    "]\n",
    "\n",
    "standalone_parameters[\"torch_default_dtype\"] = \"torch.float32\" \n",
    "\n",
    "\n",
    "\n",
    "standalone_parameters[\"x_net\"] =     [\n",
    "    {\"class\": \"nnReshape\", \"kargs\": {\"shape\":[-1, 1, 2, 256]}},\n",
    "    {\"class\": \"Conv2d\", \"kargs\": { \"in_channels\":1, \"out_channels\":256, \"kernel_size\":(1,7), \"bias\":False, \"padding\":(0,3), },},\n",
    "    {\"class\": \"ReLU\", \"kargs\": {\"inplace\": True}},\n",
    "    {\"class\": \"BatchNorm2d\", \"kargs\": {\"num_features\":256}},\n",
    "\n",
    "    {\"class\": \"Conv2d\", \"kargs\": { \"in_channels\":256, \"out_channels\":80, \"kernel_size\":(2,7), \"bias\":True, \"padding\":(0,3), },},\n",
    "    {\"class\": \"ReLU\", \"kargs\": {\"inplace\": True}},\n",
    "    {\"class\": \"BatchNorm2d\", \"kargs\": {\"num_features\":80}},\n",
    "    {\"class\": \"Flatten\", \"kargs\": {}},\n",
    "\n",
    "    {\"class\": \"Linear\", \"kargs\": {\"in_features\": 80*256, \"out_features\": 256}}, # 80 units per IQ pair\n",
    "    {\"class\": \"ReLU\", \"kargs\": {\"inplace\": True}},\n",
    "    {\"class\": \"BatchNorm1d\", \"kargs\": {\"num_features\":256}},\n",
    "\n",
    "    {\"class\": \"Linear\", \"kargs\": {\"in_features\": 256, \"out_features\": 256}},\n",
    "]\n",
    "\n",
    "# Parameters relevant to results\n",
    "# These parameters will basically never need to change\n",
    "standalone_parameters[\"NUM_LOGS_PER_EPOCH\"] = 10\n",
    "standalone_parameters[\"BEST_MODEL_PATH\"] = \"./best_model.pth\"\n",
    "\n",
    "\n",
    "\n",
    "\n"
   ]
  },
  {
   "cell_type": "code",
   "execution_count": 4,
   "id": "15ccd94f",
   "metadata": {
    "execution": {
     "iopub.execute_input": "2022-03-22T17:38:50.601355Z",
     "iopub.status.busy": "2022-03-22T17:38:50.595410Z",
     "iopub.status.idle": "2022-03-22T17:38:50.620764Z",
     "shell.execute_reply": "2022-03-22T17:38:50.619963Z"
    },
    "papermill": {
     "duration": 0.05904,
     "end_time": "2022-03-22T17:38:50.620940",
     "exception": false,
     "start_time": "2022-03-22T17:38:50.561900",
     "status": "completed"
    },
    "tags": [
     "injected-parameters"
    ]
   },
   "outputs": [],
   "source": [
    "# Parameters\n",
    "parameters = {\n",
    "    \"experiment_name\": \"tl_1v2:wisig-oracle.run1.limited\",\n",
    "    \"device\": \"cuda\",\n",
    "    \"lr\": 0.0001,\n",
    "    \"n_shot\": 3,\n",
    "    \"n_query\": 2,\n",
    "    \"train_k_factor\": 3,\n",
    "    \"val_k_factor\": 2,\n",
    "    \"test_k_factor\": 2,\n",
    "    \"torch_default_dtype\": \"torch.float32\",\n",
    "    \"n_epoch\": 50,\n",
    "    \"patience\": 3,\n",
    "    \"criteria_for_best\": \"target_accuracy\",\n",
    "    \"x_net\": [\n",
    "        {\"class\": \"nnReshape\", \"kargs\": {\"shape\": [-1, 1, 2, 256]}},\n",
    "        {\n",
    "            \"class\": \"Conv2d\",\n",
    "            \"kargs\": {\n",
    "                \"in_channels\": 1,\n",
    "                \"out_channels\": 256,\n",
    "                \"kernel_size\": [1, 7],\n",
    "                \"bias\": False,\n",
    "                \"padding\": [0, 3],\n",
    "            },\n",
    "        },\n",
    "        {\"class\": \"ReLU\", \"kargs\": {\"inplace\": True}},\n",
    "        {\"class\": \"BatchNorm2d\", \"kargs\": {\"num_features\": 256}},\n",
    "        {\n",
    "            \"class\": \"Conv2d\",\n",
    "            \"kargs\": {\n",
    "                \"in_channels\": 256,\n",
    "                \"out_channels\": 80,\n",
    "                \"kernel_size\": [2, 7],\n",
    "                \"bias\": True,\n",
    "                \"padding\": [0, 3],\n",
    "            },\n",
    "        },\n",
    "        {\"class\": \"ReLU\", \"kargs\": {\"inplace\": True}},\n",
    "        {\"class\": \"BatchNorm2d\", \"kargs\": {\"num_features\": 80}},\n",
    "        {\"class\": \"Flatten\", \"kargs\": {}},\n",
    "        {\"class\": \"Linear\", \"kargs\": {\"in_features\": 20480, \"out_features\": 256}},\n",
    "        {\"class\": \"ReLU\", \"kargs\": {\"inplace\": True}},\n",
    "        {\"class\": \"BatchNorm1d\", \"kargs\": {\"num_features\": 256}},\n",
    "        {\"class\": \"Linear\", \"kargs\": {\"in_features\": 256, \"out_features\": 256}},\n",
    "    ],\n",
    "    \"NUM_LOGS_PER_EPOCH\": 10,\n",
    "    \"BEST_MODEL_PATH\": \"./best_model.pth\",\n",
    "    \"n_way\": 16,\n",
    "    \"datasets\": [\n",
    "        {\n",
    "            \"labels\": [\n",
    "                \"1-10\",\n",
    "                \"1-12\",\n",
    "                \"1-14\",\n",
    "                \"1-16\",\n",
    "                \"1-18\",\n",
    "                \"1-19\",\n",
    "                \"1-8\",\n",
    "                \"10-11\",\n",
    "                \"10-17\",\n",
    "                \"10-4\",\n",
    "                \"10-7\",\n",
    "                \"11-1\",\n",
    "                \"11-10\",\n",
    "                \"11-19\",\n",
    "                \"11-20\",\n",
    "                \"11-4\",\n",
    "                \"11-7\",\n",
    "                \"12-19\",\n",
    "                \"12-20\",\n",
    "                \"12-7\",\n",
    "                \"13-14\",\n",
    "                \"13-18\",\n",
    "                \"13-19\",\n",
    "                \"13-20\",\n",
    "                \"13-3\",\n",
    "                \"13-7\",\n",
    "                \"14-10\",\n",
    "                \"14-11\",\n",
    "                \"14-12\",\n",
    "                \"14-13\",\n",
    "                \"14-14\",\n",
    "                \"14-19\",\n",
    "                \"14-20\",\n",
    "                \"14-7\",\n",
    "                \"14-8\",\n",
    "                \"14-9\",\n",
    "                \"15-1\",\n",
    "                \"15-19\",\n",
    "                \"15-6\",\n",
    "                \"16-1\",\n",
    "                \"16-16\",\n",
    "                \"16-19\",\n",
    "                \"16-20\",\n",
    "                \"17-10\",\n",
    "                \"17-11\",\n",
    "                \"18-1\",\n",
    "                \"18-10\",\n",
    "                \"18-11\",\n",
    "                \"18-12\",\n",
    "                \"18-13\",\n",
    "                \"18-14\",\n",
    "                \"18-15\",\n",
    "                \"18-16\",\n",
    "                \"18-17\",\n",
    "                \"18-19\",\n",
    "                \"18-2\",\n",
    "                \"18-20\",\n",
    "                \"18-4\",\n",
    "                \"18-5\",\n",
    "                \"18-7\",\n",
    "                \"18-8\",\n",
    "                \"18-9\",\n",
    "                \"19-1\",\n",
    "                \"19-10\",\n",
    "                \"19-11\",\n",
    "                \"19-12\",\n",
    "                \"19-13\",\n",
    "                \"19-14\",\n",
    "                \"19-15\",\n",
    "                \"19-19\",\n",
    "                \"19-2\",\n",
    "                \"19-20\",\n",
    "                \"19-3\",\n",
    "                \"19-4\",\n",
    "                \"19-6\",\n",
    "                \"19-7\",\n",
    "                \"19-8\",\n",
    "                \"19-9\",\n",
    "                \"2-1\",\n",
    "                \"2-13\",\n",
    "                \"2-15\",\n",
    "                \"2-3\",\n",
    "                \"2-4\",\n",
    "                \"2-5\",\n",
    "                \"2-6\",\n",
    "                \"2-7\",\n",
    "                \"2-8\",\n",
    "                \"20-1\",\n",
    "                \"20-12\",\n",
    "                \"20-14\",\n",
    "                \"20-15\",\n",
    "                \"20-16\",\n",
    "                \"20-18\",\n",
    "                \"20-19\",\n",
    "                \"20-20\",\n",
    "                \"20-3\",\n",
    "                \"20-4\",\n",
    "                \"20-5\",\n",
    "                \"20-7\",\n",
    "                \"20-8\",\n",
    "                \"3-1\",\n",
    "                \"3-13\",\n",
    "                \"3-18\",\n",
    "                \"3-2\",\n",
    "                \"3-8\",\n",
    "                \"4-1\",\n",
    "                \"4-10\",\n",
    "                \"4-11\",\n",
    "                \"5-1\",\n",
    "                \"5-5\",\n",
    "                \"6-1\",\n",
    "                \"6-15\",\n",
    "                \"6-6\",\n",
    "                \"7-10\",\n",
    "                \"7-11\",\n",
    "                \"7-12\",\n",
    "                \"7-13\",\n",
    "                \"7-14\",\n",
    "                \"7-7\",\n",
    "                \"7-8\",\n",
    "                \"7-9\",\n",
    "                \"8-1\",\n",
    "                \"8-13\",\n",
    "                \"8-14\",\n",
    "                \"8-18\",\n",
    "                \"8-20\",\n",
    "                \"8-3\",\n",
    "                \"8-8\",\n",
    "                \"9-1\",\n",
    "                \"9-7\",\n",
    "            ],\n",
    "            \"domains\": [1, 2, 3, 4],\n",
    "            \"num_examples_per_domain_per_label\": -1,\n",
    "            \"pickle_path\": \"/root/csc500-main/datasets/wisig.node3-19.stratified_ds.2022A.pkl\",\n",
    "            \"source_or_target_dataset\": \"target\",\n",
    "            \"x_transforms\": [\"unit_mag\"],\n",
    "            \"episode_transforms\": [],\n",
    "            \"domain_prefix\": \"Wisig_\",\n",
    "        },\n",
    "        {\n",
    "            \"labels\": [\n",
    "                \"3123D52\",\n",
    "                \"3123D65\",\n",
    "                \"3123D79\",\n",
    "                \"3123D80\",\n",
    "                \"3123D54\",\n",
    "                \"3123D70\",\n",
    "                \"3123D7B\",\n",
    "                \"3123D89\",\n",
    "                \"3123D58\",\n",
    "                \"3123D76\",\n",
    "                \"3123D7D\",\n",
    "                \"3123EFE\",\n",
    "                \"3123D64\",\n",
    "                \"3123D78\",\n",
    "                \"3123D7E\",\n",
    "                \"3124E4A\",\n",
    "            ],\n",
    "            \"domains\": [32, 38, 8, 44, 14, 50, 20, 26],\n",
    "            \"num_examples_per_domain_per_label\": 2000,\n",
    "            \"pickle_path\": \"/root/csc500-main/datasets/oracle.Run1_10kExamples_stratified_ds.2022A.pkl\",\n",
    "            \"source_or_target_dataset\": \"source\",\n",
    "            \"x_transforms\": [\"unit_mag\"],\n",
    "            \"episode_transforms\": [],\n",
    "            \"domain_prefix\": \"ORACLE.run1\",\n",
    "        },\n",
    "    ],\n",
    "    \"dataset_seed\": 1337,\n",
    "    \"seed\": 1337,\n",
    "}\n"
   ]
  },
  {
   "cell_type": "code",
   "execution_count": 5,
   "id": "8fa1cc33",
   "metadata": {
    "execution": {
     "iopub.execute_input": "2022-03-22T17:38:50.680728Z",
     "iopub.status.busy": "2022-03-22T17:38:50.673504Z",
     "iopub.status.idle": "2022-03-22T17:38:50.696771Z",
     "shell.execute_reply": "2022-03-22T17:38:50.695683Z"
    },
    "papermill": {
     "duration": 0.050085,
     "end_time": "2022-03-22T17:38:50.696957",
     "exception": false,
     "start_time": "2022-03-22T17:38:50.646872",
     "status": "completed"
    },
    "tags": []
   },
   "outputs": [],
   "source": [
    "# Set this to True if you want to run this template directly\n",
    "STANDALONE = False\n",
    "if STANDALONE:\n",
    "    print(\"parameters not injected, running with standalone_parameters\")\n",
    "    parameters = standalone_parameters\n",
    "\n",
    "if not 'parameters' in locals() and not 'parameters' in globals():\n",
    "    raise Exception(\"Parameter injection failed\")\n",
    "\n",
    "#Use an easy dict for all the parameters\n",
    "p = EasyDict(parameters)\n",
    "\n",
    "if \"x_shape\" not in p:\n",
    "    p.x_shape = [2,256] # Default to this if we dont supply x_shape\n",
    "\n",
    "\n",
    "supplied_keys = set(p.keys())\n",
    "\n",
    "if  supplied_keys != required_parameters:\n",
    "    print(\"Parameters are incorrect\")\n",
    "    if len(supplied_keys - required_parameters)>0: print(\"Shouldn't have:\", str(supplied_keys - required_parameters))\n",
    "    if len(required_parameters - supplied_keys)>0: print(\"Need to have:\", str(required_parameters - supplied_keys))\n",
    "    raise RuntimeError(\"Parameters are incorrect\")"
   ]
  },
  {
   "cell_type": "code",
   "execution_count": 6,
   "id": "3a028d58",
   "metadata": {
    "execution": {
     "iopub.execute_input": "2022-03-22T17:38:50.747510Z",
     "iopub.status.busy": "2022-03-22T17:38:50.746358Z",
     "iopub.status.idle": "2022-03-22T17:38:50.770206Z",
     "shell.execute_reply": "2022-03-22T17:38:50.769413Z"
    },
    "papermill": {
     "duration": 0.048528,
     "end_time": "2022-03-22T17:38:50.770376",
     "exception": false,
     "start_time": "2022-03-22T17:38:50.721848",
     "status": "completed"
    },
    "tags": []
   },
   "outputs": [],
   "source": [
    "###################################\n",
    "# Set the RNGs and make it all deterministic\n",
    "###################################\n",
    "np.random.seed(p.seed)\n",
    "random.seed(p.seed)\n",
    "torch.manual_seed(p.seed)\n",
    "\n",
    "torch.use_deterministic_algorithms(True) "
   ]
  },
  {
   "cell_type": "code",
   "execution_count": 7,
   "id": "b691acf6",
   "metadata": {
    "execution": {
     "iopub.execute_input": "2022-03-22T17:38:50.822715Z",
     "iopub.status.busy": "2022-03-22T17:38:50.822250Z",
     "iopub.status.idle": "2022-03-22T17:38:50.843142Z",
     "shell.execute_reply": "2022-03-22T17:38:50.842154Z"
    },
    "papermill": {
     "duration": 0.046582,
     "end_time": "2022-03-22T17:38:50.843384",
     "exception": false,
     "start_time": "2022-03-22T17:38:50.796802",
     "status": "completed"
    },
    "tags": []
   },
   "outputs": [],
   "source": [
    "###########################################\n",
    "# The stratified datasets honor this\n",
    "###########################################\n",
    "torch.set_default_dtype(eval(p.torch_default_dtype))"
   ]
  },
  {
   "cell_type": "code",
   "execution_count": 8,
   "id": "b5fba671",
   "metadata": {
    "execution": {
     "iopub.execute_input": "2022-03-22T17:38:50.896716Z",
     "iopub.status.busy": "2022-03-22T17:38:50.895914Z",
     "iopub.status.idle": "2022-03-22T17:38:50.946305Z",
     "shell.execute_reply": "2022-03-22T17:38:50.945833Z"
    },
    "papermill": {
     "duration": 0.07443,
     "end_time": "2022-03-22T17:38:50.946434",
     "exception": false,
     "start_time": "2022-03-22T17:38:50.872004",
     "status": "completed"
    },
    "tags": []
   },
   "outputs": [],
   "source": [
    "###################################\n",
    "# Build the network(s)\n",
    "# Note: It's critical to do this AFTER setting the RNG\n",
    "###################################\n",
    "x_net = build_sequential(p.x_net)"
   ]
  },
  {
   "cell_type": "code",
   "execution_count": 9,
   "id": "5d7e61cc",
   "metadata": {
    "execution": {
     "iopub.execute_input": "2022-03-22T17:38:50.998361Z",
     "iopub.status.busy": "2022-03-22T17:38:50.997715Z",
     "iopub.status.idle": "2022-03-22T17:38:51.022119Z",
     "shell.execute_reply": "2022-03-22T17:38:51.021287Z"
    },
    "papermill": {
     "duration": 0.050191,
     "end_time": "2022-03-22T17:38:51.022288",
     "exception": false,
     "start_time": "2022-03-22T17:38:50.972097",
     "status": "completed"
    },
    "tags": []
   },
   "outputs": [],
   "source": [
    "start_time_secs = time.time()"
   ]
  },
  {
   "cell_type": "code",
   "execution_count": 10,
   "id": "c6b67dfd",
   "metadata": {
    "execution": {
     "iopub.execute_input": "2022-03-22T17:38:51.079284Z",
     "iopub.status.busy": "2022-03-22T17:38:51.072679Z",
     "iopub.status.idle": "2022-03-22T17:38:51.093348Z",
     "shell.execute_reply": "2022-03-22T17:38:51.092519Z"
    },
    "papermill": {
     "duration": 0.044643,
     "end_time": "2022-03-22T17:38:51.093516",
     "exception": false,
     "start_time": "2022-03-22T17:38:51.048873",
     "status": "completed"
    },
    "tags": []
   },
   "outputs": [],
   "source": [
    "p.domains_source = []\n",
    "p.domains_target = []\n",
    "\n",
    "\n",
    "train_original_source = []\n",
    "val_original_source   = []\n",
    "test_original_source  = []\n",
    "\n",
    "train_original_target = []\n",
    "val_original_target   = []\n",
    "test_original_target  = []"
   ]
  },
  {
   "cell_type": "code",
   "execution_count": 11,
   "id": "e3d9c3d3",
   "metadata": {
    "execution": {
     "iopub.execute_input": "2022-03-22T17:38:51.152051Z",
     "iopub.status.busy": "2022-03-22T17:38:51.151500Z",
     "iopub.status.idle": "2022-03-22T17:38:51.169047Z",
     "shell.execute_reply": "2022-03-22T17:38:51.167810Z"
    },
    "papermill": {
     "duration": 0.048487,
     "end_time": "2022-03-22T17:38:51.169294",
     "exception": false,
     "start_time": "2022-03-22T17:38:51.120807",
     "status": "completed"
    },
    "tags": []
   },
   "outputs": [],
   "source": [
    "# global_x_transform_func = lambda x: normalize(x.to(torch.get_default_dtype()), \"unit_power\") # unit_power, unit_mag\n",
    "# global_x_transform_func = lambda x: normalize(x, \"unit_power\") # unit_power, unit_mag"
   ]
  },
  {
   "cell_type": "code",
   "execution_count": 12,
   "id": "acb78fd2",
   "metadata": {
    "execution": {
     "iopub.execute_input": "2022-03-22T17:38:51.227161Z",
     "iopub.status.busy": "2022-03-22T17:38:51.226284Z",
     "iopub.status.idle": "2022-03-22T17:38:51.244143Z",
     "shell.execute_reply": "2022-03-22T17:38:51.243257Z"
    },
    "papermill": {
     "duration": 0.049138,
     "end_time": "2022-03-22T17:38:51.244311",
     "exception": false,
     "start_time": "2022-03-22T17:38:51.195173",
     "status": "completed"
    },
    "tags": []
   },
   "outputs": [],
   "source": [
    "def add_dataset(\n",
    "    labels,\n",
    "    domains,\n",
    "    pickle_path,\n",
    "    x_transforms,\n",
    "    episode_transforms,\n",
    "    domain_prefix,\n",
    "    num_examples_per_domain_per_label,\n",
    "    source_or_target_dataset:str,\n",
    "    iterator_seed=p.seed,\n",
    "    dataset_seed=p.dataset_seed,\n",
    "    n_shot=p.n_shot,\n",
    "    n_way=p.n_way,\n",
    "    n_query=p.n_query,\n",
    "    train_val_test_k_factors=(p.train_k_factor,p.val_k_factor,p.test_k_factor),\n",
    "):\n",
    "   \n",
    "    if x_transforms == []: x_transform = None\n",
    "    else: x_transform = get_chained_transform(x_transforms)\n",
    "    \n",
    "    if episode_transforms == []: episode_transform = None\n",
    "    else: raise Exception(\"episode_transforms not implemented\")\n",
    "    \n",
    "    episode_transform = lambda tup, _prefix=domain_prefix: (_prefix + str(tup[0]), tup[1])\n",
    "\n",
    "\n",
    "    eaf = Episodic_Accessor_Factory(\n",
    "        labels=labels,\n",
    "        domains=domains,\n",
    "        num_examples_per_domain_per_label=num_examples_per_domain_per_label,\n",
    "        iterator_seed=iterator_seed,\n",
    "        dataset_seed=dataset_seed,\n",
    "        n_shot=n_shot,\n",
    "        n_way=n_way,\n",
    "        n_query=n_query,\n",
    "        train_val_test_k_factors=train_val_test_k_factors,\n",
    "        pickle_path=pickle_path,\n",
    "        x_transform_func=x_transform,\n",
    "    )\n",
    "\n",
    "    train, val, test = eaf.get_train(), eaf.get_val(), eaf.get_test()\n",
    "    train = Lazy_Iterable_Wrapper(train, episode_transform)\n",
    "    val = Lazy_Iterable_Wrapper(val, episode_transform)\n",
    "    test = Lazy_Iterable_Wrapper(test, episode_transform)\n",
    "\n",
    "    if source_or_target_dataset==\"source\":\n",
    "        train_original_source.append(train)\n",
    "        val_original_source.append(val)\n",
    "        test_original_source.append(test)\n",
    "\n",
    "        p.domains_source.extend(\n",
    "            [domain_prefix + str(u) for u in domains]\n",
    "        )\n",
    "    elif source_or_target_dataset==\"target\":\n",
    "        train_original_target.append(train)\n",
    "        val_original_target.append(val)\n",
    "        test_original_target.append(test)\n",
    "        p.domains_target.extend(\n",
    "            [domain_prefix + str(u) for u in domains]\n",
    "        )\n",
    "    else:\n",
    "        raise Exception(f\"invalid source_or_target_dataset: {source_or_target_dataset}\")\n",
    "    "
   ]
  },
  {
   "cell_type": "code",
   "execution_count": 13,
   "id": "fe266617",
   "metadata": {
    "execution": {
     "iopub.execute_input": "2022-03-22T17:38:51.296738Z",
     "iopub.status.busy": "2022-03-22T17:38:51.296198Z",
     "iopub.status.idle": "2022-03-22T17:39:36.556740Z",
     "shell.execute_reply": "2022-03-22T17:39:36.556036Z"
    },
    "papermill": {
     "duration": 45.284676,
     "end_time": "2022-03-22T17:39:36.556890",
     "exception": false,
     "start_time": "2022-03-22T17:38:51.272214",
     "status": "completed"
    },
    "tags": []
   },
   "outputs": [],
   "source": [
    "for ds in p.datasets:\n",
    "    add_dataset(**ds)"
   ]
  },
  {
   "cell_type": "code",
   "execution_count": 14,
   "id": "b90d65ac",
   "metadata": {
    "execution": {
     "iopub.execute_input": "2022-03-22T17:39:36.614696Z",
     "iopub.status.busy": "2022-03-22T17:39:36.614295Z",
     "iopub.status.idle": "2022-03-22T17:39:36.640888Z",
     "shell.execute_reply": "2022-03-22T17:39:36.640241Z"
    },
    "papermill": {
     "duration": 0.055159,
     "end_time": "2022-03-22T17:39:36.641049",
     "exception": false,
     "start_time": "2022-03-22T17:39:36.585890",
     "status": "completed"
    },
    "tags": []
   },
   "outputs": [],
   "source": [
    "# from steves_utils.CORES.utils import (\n",
    "#     ALL_NODES,\n",
    "#     ALL_NODES_MINIMUM_1000_EXAMPLES,\n",
    "#     ALL_DAYS\n",
    "# )\n",
    "\n",
    "# add_dataset(\n",
    "#     labels=ALL_NODES,\n",
    "#     domains = ALL_DAYS,\n",
    "#     num_examples_per_domain_per_label=100,\n",
    "#     pickle_path=os.path.join(get_datasets_base_path(), \"cores.stratified_ds.2022A.pkl\"),\n",
    "#     source_or_target_dataset=\"target\",\n",
    "#     x_transform_func=global_x_transform_func,\n",
    "#     domain_modifier=lambda u: f\"cores_{u}\"\n",
    "# )"
   ]
  },
  {
   "cell_type": "code",
   "execution_count": 15,
   "id": "76db484d",
   "metadata": {
    "execution": {
     "iopub.execute_input": "2022-03-22T17:39:36.695309Z",
     "iopub.status.busy": "2022-03-22T17:39:36.694912Z",
     "iopub.status.idle": "2022-03-22T17:39:36.711714Z",
     "shell.execute_reply": "2022-03-22T17:39:36.711063Z"
    },
    "papermill": {
     "duration": 0.043205,
     "end_time": "2022-03-22T17:39:36.711863",
     "exception": false,
     "start_time": "2022-03-22T17:39:36.668658",
     "status": "completed"
    },
    "tags": []
   },
   "outputs": [],
   "source": [
    "# from steves_utils.ORACLE.utils_v2 import (\n",
    "#     ALL_DISTANCES_FEET,\n",
    "#     ALL_RUNS,\n",
    "#     ALL_SERIAL_NUMBERS,\n",
    "# )\n",
    "\n",
    "\n",
    "# add_dataset(\n",
    "#     labels=ALL_SERIAL_NUMBERS,\n",
    "#     domains = list(set(ALL_DISTANCES_FEET) - {2,62}),\n",
    "#     num_examples_per_domain_per_label=100,\n",
    "#     pickle_path=os.path.join(get_datasets_base_path(), \"oracle.Run2_framed_2000Examples_stratified_ds.2022A.pkl\"),\n",
    "#     source_or_target_dataset=\"source\",\n",
    "#     x_transform_func=global_x_transform_func,\n",
    "#     domain_modifier=lambda u: f\"oracle1_{u}\"\n",
    "# )\n"
   ]
  },
  {
   "cell_type": "code",
   "execution_count": 16,
   "id": "97dea9d2",
   "metadata": {
    "execution": {
     "iopub.execute_input": "2022-03-22T17:39:36.769445Z",
     "iopub.status.busy": "2022-03-22T17:39:36.768510Z",
     "iopub.status.idle": "2022-03-22T17:39:36.790044Z",
     "shell.execute_reply": "2022-03-22T17:39:36.788925Z"
    },
    "papermill": {
     "duration": 0.048036,
     "end_time": "2022-03-22T17:39:36.790249",
     "exception": false,
     "start_time": "2022-03-22T17:39:36.742213",
     "status": "completed"
    },
    "tags": []
   },
   "outputs": [],
   "source": [
    "# from steves_utils.ORACLE.utils_v2 import (\n",
    "#     ALL_DISTANCES_FEET,\n",
    "#     ALL_RUNS,\n",
    "#     ALL_SERIAL_NUMBERS,\n",
    "# )\n",
    "\n",
    "\n",
    "# add_dataset(\n",
    "#     labels=ALL_SERIAL_NUMBERS,\n",
    "#     domains = list(set(ALL_DISTANCES_FEET) - {2,62,56}),\n",
    "#     num_examples_per_domain_per_label=100,\n",
    "#     pickle_path=os.path.join(get_datasets_base_path(), \"oracle.Run2_framed_2000Examples_stratified_ds.2022A.pkl\"),\n",
    "#     source_or_target_dataset=\"source\",\n",
    "#     x_transform_func=global_x_transform_func,\n",
    "#     domain_modifier=lambda u: f\"oracle2_{u}\"\n",
    "# )"
   ]
  },
  {
   "cell_type": "code",
   "execution_count": 17,
   "id": "6f289866",
   "metadata": {
    "execution": {
     "iopub.execute_input": "2022-03-22T17:39:36.844903Z",
     "iopub.status.busy": "2022-03-22T17:39:36.844522Z",
     "iopub.status.idle": "2022-03-22T17:39:36.861158Z",
     "shell.execute_reply": "2022-03-22T17:39:36.860341Z"
    },
    "papermill": {
     "duration": 0.039873,
     "end_time": "2022-03-22T17:39:36.861323",
     "exception": false,
     "start_time": "2022-03-22T17:39:36.821450",
     "status": "completed"
    },
    "tags": []
   },
   "outputs": [],
   "source": [
    "# add_dataset(\n",
    "#     labels=list(range(19)),\n",
    "#     domains = [0,1,2],\n",
    "#     num_examples_per_domain_per_label=100,\n",
    "#     pickle_path=os.path.join(get_datasets_base_path(), \"metehan.stratified_ds.2022A.pkl\"),\n",
    "#     source_or_target_dataset=\"target\",\n",
    "#     x_transform_func=global_x_transform_func,\n",
    "#     domain_modifier=lambda u: f\"met_{u}\"\n",
    "# )"
   ]
  },
  {
   "cell_type": "code",
   "execution_count": 18,
   "id": "86a863c3",
   "metadata": {
    "execution": {
     "iopub.execute_input": "2022-03-22T17:39:36.922443Z",
     "iopub.status.busy": "2022-03-22T17:39:36.921609Z",
     "iopub.status.idle": "2022-03-22T17:39:36.933185Z",
     "shell.execute_reply": "2022-03-22T17:39:36.932377Z"
    },
    "papermill": {
     "duration": 0.044513,
     "end_time": "2022-03-22T17:39:36.933339",
     "exception": false,
     "start_time": "2022-03-22T17:39:36.888826",
     "status": "completed"
    },
    "tags": []
   },
   "outputs": [],
   "source": [
    "# # from steves_utils.wisig.utils import (\n",
    "# #     ALL_NODES_MINIMUM_100_EXAMPLES,\n",
    "# #     ALL_NODES_MINIMUM_500_EXAMPLES,\n",
    "# #     ALL_NODES_MINIMUM_1000_EXAMPLES,\n",
    "# #     ALL_DAYS\n",
    "# # )\n",
    "\n",
    "# import steves_utils.wisig.utils as wisig\n",
    "\n",
    "\n",
    "# add_dataset(\n",
    "#     labels=wisig.ALL_NODES_MINIMUM_100_EXAMPLES,\n",
    "#     domains = wisig.ALL_DAYS,\n",
    "#     num_examples_per_domain_per_label=100,\n",
    "#     pickle_path=os.path.join(get_datasets_base_path(), \"wisig.node3-19.stratified_ds.2022A.pkl\"),\n",
    "#     source_or_target_dataset=\"target\",\n",
    "#     x_transform_func=global_x_transform_func,\n",
    "#     domain_modifier=lambda u: f\"wisig_{u}\"\n",
    "# )"
   ]
  },
  {
   "cell_type": "code",
   "execution_count": 19,
   "id": "fd5442bc",
   "metadata": {
    "execution": {
     "iopub.execute_input": "2022-03-22T17:39:36.991625Z",
     "iopub.status.busy": "2022-03-22T17:39:36.990758Z",
     "iopub.status.idle": "2022-03-22T17:39:37.009855Z",
     "shell.execute_reply": "2022-03-22T17:39:37.009045Z"
    },
    "papermill": {
     "duration": 0.049677,
     "end_time": "2022-03-22T17:39:37.010009",
     "exception": false,
     "start_time": "2022-03-22T17:39:36.960332",
     "status": "completed"
    },
    "tags": []
   },
   "outputs": [],
   "source": [
    "###################################\n",
    "# Build the dataset\n",
    "###################################\n",
    "train_original_source = Iterable_Aggregator(train_original_source, p.seed)\n",
    "val_original_source = Iterable_Aggregator(val_original_source, p.seed)\n",
    "test_original_source = Iterable_Aggregator(test_original_source, p.seed)\n",
    "\n",
    "\n",
    "train_original_target = Iterable_Aggregator(train_original_target, p.seed)\n",
    "val_original_target = Iterable_Aggregator(val_original_target, p.seed)\n",
    "test_original_target = Iterable_Aggregator(test_original_target, p.seed)\n",
    "\n",
    "# For CNN We only use X and Y. And we only train on the source.\n",
    "# Properly form the data using a transform lambda and Lazy_Iterable_Wrapper. Finally wrap them in a dataloader\n",
    "\n",
    "transform_lambda = lambda ex: ex[1] # Original is (<domain>, <episode>) so we strip down to episode only\n",
    "\n",
    "train_processed_source = Lazy_Iterable_Wrapper(train_original_source, transform_lambda)\n",
    "val_processed_source   = Lazy_Iterable_Wrapper(val_original_source, transform_lambda)\n",
    "test_processed_source  = Lazy_Iterable_Wrapper(test_original_source, transform_lambda)\n",
    "\n",
    "train_processed_target = Lazy_Iterable_Wrapper(train_original_target, transform_lambda)\n",
    "val_processed_target   = Lazy_Iterable_Wrapper(val_original_target, transform_lambda)\n",
    "test_processed_target  = Lazy_Iterable_Wrapper(test_original_target, transform_lambda)\n",
    "\n",
    "datasets = EasyDict({\n",
    "    \"source\": {\n",
    "        \"original\": {\"train\":train_original_source, \"val\":val_original_source, \"test\":test_original_source},\n",
    "        \"processed\": {\"train\":train_processed_source, \"val\":val_processed_source, \"test\":test_processed_source}\n",
    "    },\n",
    "    \"target\": {\n",
    "        \"original\": {\"train\":train_original_target, \"val\":val_original_target, \"test\":test_original_target},\n",
    "        \"processed\": {\"train\":train_processed_target, \"val\":val_processed_target, \"test\":test_processed_target}\n",
    "    },\n",
    "})"
   ]
  },
  {
   "cell_type": "code",
   "execution_count": 20,
   "id": "5b3c01fc",
   "metadata": {
    "execution": {
     "iopub.execute_input": "2022-03-22T17:39:37.068660Z",
     "iopub.status.busy": "2022-03-22T17:39:37.064107Z",
     "iopub.status.idle": "2022-03-22T17:39:51.964851Z",
     "shell.execute_reply": "2022-03-22T17:39:51.964135Z"
    },
    "papermill": {
     "duration": 14.928001,
     "end_time": "2022-03-22T17:39:51.965033",
     "exception": false,
     "start_time": "2022-03-22T17:39:37.037032",
     "status": "completed"
    },
    "tags": []
   },
   "outputs": [
    {
     "name": "stdout",
     "output_type": "stream",
     "text": [
      "{'ORACLE.run114', 'ORACLE.run120', 'ORACLE.run144', 'ORACLE.run126', 'ORACLE.run18', 'ORACLE.run132', 'ORACLE.run138', 'ORACLE.run150'}\n"
     ]
    },
    {
     "name": "stdout",
     "output_type": "stream",
     "text": [
      "{'Wisig_3', 'Wisig_1', 'Wisig_4', 'Wisig_2'}\n"
     ]
    },
    {
     "name": "stdout",
     "output_type": "stream",
     "text": [
      "tensor([[[ 1.1692, -0.3795, -0.5538,  ..., -0.5641, -0.6872, -2.2051],\n",
      "         [ 0.2359,  0.6974,  0.7385,  ..., -0.0205, -0.3487, -0.2359]],\n",
      "\n",
      "        [[-0.1891,  0.2521, -0.2732,  ...,  0.1471, -0.3782, -0.5778],\n",
      "         [ 0.4097,  0.5148, -1.3973,  ...,  0.4202,  0.2521,  0.3572]],\n",
      "\n",
      "        [[ 0.3558, -0.1423,  0.0102,  ..., -0.7014, -0.4270, -0.7014],\n",
      "         [-0.9759,  0.0915,  0.4778,  ..., -0.5795, -0.8539,  0.8743]],\n",
      "\n",
      "        ...,\n",
      "\n",
      "        [[ 1.1792,  0.5177,  1.3086,  ..., -0.4746, -0.5608, -0.3308],\n",
      "         [-0.3883,  0.9132,  0.5824,  ..., -0.7837,  1.8695,  1.7904]],\n",
      "\n",
      "        [[-0.1060,  1.3495,  0.0353,  ..., -0.7066, -0.1978, -0.1413],\n",
      "         [-0.1554, -0.5441, -1.4131,  ..., -1.3001, -0.1272,  0.1908]],\n",
      "\n",
      "        [[-0.5448, -1.1828, -0.7455,  ...,  0.0645, -0.8889,  0.3298],\n",
      "         [ 0.2437,  0.1577, -0.1720,  ...,  0.0143,  0.6308, -1.0323]]])\n"
     ]
    }
   ],
   "source": [
    "from steves_utils.transforms import get_average_magnitude, get_average_power\n",
    "\n",
    "print(set([u for u,_ in val_original_source]))\n",
    "print(set([u for u,_ in val_original_target]))\n",
    "\n",
    "s_x, s_y, q_x, q_y, _ = next(iter(train_processed_source))\n",
    "print(s_x)\n",
    "\n",
    "# for ds in [\n",
    "#     train_processed_source,\n",
    "#     val_processed_source,\n",
    "#     test_processed_source,\n",
    "#     train_processed_target,\n",
    "#     val_processed_target,\n",
    "#     test_processed_target\n",
    "# ]:\n",
    "#     for s_x, s_y, q_x, q_y, _ in ds:\n",
    "#         for X in (s_x, q_x):\n",
    "#             for x in X:\n",
    "#                 assert np.isclose(get_average_magnitude(x.numpy()), 1.0)\n",
    "#                 assert np.isclose(get_average_power(x.numpy()), 1.0)\n",
    "                "
   ]
  },
  {
   "cell_type": "code",
   "execution_count": 21,
   "id": "bbdacba1",
   "metadata": {
    "execution": {
     "iopub.execute_input": "2022-03-22T17:39:52.019453Z",
     "iopub.status.busy": "2022-03-22T17:39:52.018708Z",
     "iopub.status.idle": "2022-03-22T17:39:52.269628Z",
     "shell.execute_reply": "2022-03-22T17:39:52.269956Z"
    },
    "papermill": {
     "duration": 0.27873,
     "end_time": "2022-03-22T17:39:52.270109",
     "exception": false,
     "start_time": "2022-03-22T17:39:51.991379",
     "status": "completed"
    },
    "tags": []
   },
   "outputs": [
    {
     "name": "stdout",
     "output_type": "stream",
     "text": [
      "(2, 256)\n"
     ]
    }
   ],
   "source": [
    "###################################\n",
    "# Build the model\n",
    "###################################\n",
    "# easfsl only wants a tuple for the shape\n",
    "model = Steves_Prototypical_Network(x_net, device=p.device, x_shape=tuple(p.x_shape))\n",
    "optimizer = Adam(params=model.parameters(), lr=p.lr)"
   ]
  },
  {
   "cell_type": "code",
   "execution_count": 22,
   "id": "22b39ac5",
   "metadata": {
    "execution": {
     "iopub.execute_input": "2022-03-22T17:39:52.321031Z",
     "iopub.status.busy": "2022-03-22T17:39:52.320660Z",
     "iopub.status.idle": "2022-03-22T18:24:36.552994Z",
     "shell.execute_reply": "2022-03-22T18:24:36.552646Z"
    },
    "papermill": {
     "duration": 2684.259645,
     "end_time": "2022-03-22T18:24:36.553082",
     "exception": false,
     "start_time": "2022-03-22T17:39:52.293437",
     "status": "completed"
    },
    "tags": []
   },
   "outputs": [
    {
     "name": "stdout",
     "output_type": "stream",
     "text": [
      "epoch: 1, [batch: 1 / 6720], examples_per_second: 33.9837, train_label_loss: 2.7719, \n"
     ]
    },
    {
     "name": "stdout",
     "output_type": "stream",
     "text": [
      "epoch: 1, [batch: 672 / 6720], examples_per_second: 2959.5383, train_label_loss: 2.7658, \n"
     ]
    },
    {
     "name": "stdout",
     "output_type": "stream",
     "text": [
      "epoch: 1, [batch: 1344 / 6720], examples_per_second: 3045.4359, train_label_loss: 1.4396, \n"
     ]
    },
    {
     "name": "stdout",
     "output_type": "stream",
     "text": [
      "epoch: 1, [batch: 2016 / 6720], examples_per_second: 2965.9600, train_label_loss: 1.6737, \n"
     ]
    },
    {
     "name": "stdout",
     "output_type": "stream",
     "text": [
      "epoch: 1, [batch: 2688 / 6720], examples_per_second: 2963.0393, train_label_loss: 2.1454, \n"
     ]
    },
    {
     "name": "stdout",
     "output_type": "stream",
     "text": [
      "epoch: 1, [batch: 3360 / 6720], examples_per_second: 3002.4623, train_label_loss: 1.6055, \n"
     ]
    },
    {
     "name": "stdout",
     "output_type": "stream",
     "text": [
      "epoch: 1, [batch: 4032 / 6720], examples_per_second: 3151.9762, train_label_loss: 1.3321, \n"
     ]
    },
    {
     "name": "stdout",
     "output_type": "stream",
     "text": [
      "epoch: 1, [batch: 4704 / 6720], examples_per_second: 3413.7674, train_label_loss: 0.9546, \n"
     ]
    },
    {
     "name": "stdout",
     "output_type": "stream",
     "text": [
      "epoch: 1, [batch: 5376 / 6720], examples_per_second: 3475.2023, train_label_loss: 0.8435, \n"
     ]
    },
    {
     "name": "stdout",
     "output_type": "stream",
     "text": [
      "epoch: 1, [batch: 6048 / 6720], examples_per_second: 3541.6240, train_label_loss: 1.6996, \n"
     ]
    },
    {
     "name": "stdout",
     "output_type": "stream",
     "text": [
      "=============================================================\n",
      "epoch: 1, source_val_acc_label: 0.5318, target_val_acc_label: 0.6206, source_val_label_loss: 1.2631, target_val_label_loss: 6.5536, \n",
      "=============================================================\n"
     ]
    },
    {
     "name": "stdout",
     "output_type": "stream",
     "text": [
      "New best\n"
     ]
    },
    {
     "name": "stdout",
     "output_type": "stream",
     "text": [
      "epoch: 2, [batch: 1 / 6720], examples_per_second: 3.5969, train_label_loss: 0.5604, \n"
     ]
    },
    {
     "name": "stdout",
     "output_type": "stream",
     "text": [
      "epoch: 2, [batch: 672 / 6720], examples_per_second: 3723.2551, train_label_loss: 0.8967, \n"
     ]
    },
    {
     "name": "stdout",
     "output_type": "stream",
     "text": [
      "epoch: 2, [batch: 1344 / 6720], examples_per_second: 3771.9302, train_label_loss: 0.8482, \n"
     ]
    },
    {
     "name": "stdout",
     "output_type": "stream",
     "text": [
      "epoch: 2, [batch: 2016 / 6720], examples_per_second: 4426.6424, train_label_loss: 0.6624, \n"
     ]
    },
    {
     "name": "stdout",
     "output_type": "stream",
     "text": [
      "epoch: 2, [batch: 2688 / 6720], examples_per_second: 4962.4180, train_label_loss: 0.9831, \n"
     ]
    },
    {
     "name": "stdout",
     "output_type": "stream",
     "text": [
      "epoch: 2, [batch: 3360 / 6720], examples_per_second: 4363.9581, train_label_loss: 0.9812, \n"
     ]
    },
    {
     "name": "stdout",
     "output_type": "stream",
     "text": [
      "epoch: 2, [batch: 4032 / 6720], examples_per_second: 4041.0370, train_label_loss: 0.9250, \n"
     ]
    },
    {
     "name": "stdout",
     "output_type": "stream",
     "text": [
      "epoch: 2, [batch: 4704 / 6720], examples_per_second: 3857.1441, train_label_loss: 1.5230, \n"
     ]
    },
    {
     "name": "stdout",
     "output_type": "stream",
     "text": [
      "epoch: 2, [batch: 5376 / 6720], examples_per_second: 3942.0981, train_label_loss: 1.2545, \n"
     ]
    },
    {
     "name": "stdout",
     "output_type": "stream",
     "text": [
      "epoch: 2, [batch: 6048 / 6720], examples_per_second: 3879.8562, train_label_loss: 1.0475, \n"
     ]
    },
    {
     "name": "stdout",
     "output_type": "stream",
     "text": [
      "=============================================================\n",
      "epoch: 2, source_val_acc_label: 0.5877, target_val_acc_label: 0.6542, source_val_label_loss: 1.0915, target_val_label_loss: 6.5963, \n",
      "=============================================================\n"
     ]
    },
    {
     "name": "stdout",
     "output_type": "stream",
     "text": [
      "New best\n"
     ]
    },
    {
     "name": "stdout",
     "output_type": "stream",
     "text": [
      "epoch: 3, [batch: 1 / 6720], examples_per_second: 3.9464, train_label_loss: 1.4064, \n"
     ]
    },
    {
     "name": "stdout",
     "output_type": "stream",
     "text": [
      "epoch: 3, [batch: 672 / 6720], examples_per_second: 3871.0607, train_label_loss: 0.7652, \n"
     ]
    },
    {
     "name": "stdout",
     "output_type": "stream",
     "text": [
      "epoch: 3, [batch: 1344 / 6720], examples_per_second: 3986.1735, train_label_loss: 0.7947, \n"
     ]
    },
    {
     "name": "stdout",
     "output_type": "stream",
     "text": [
      "epoch: 3, [batch: 2016 / 6720], examples_per_second: 3641.5568, train_label_loss: 0.4297, \n"
     ]
    },
    {
     "name": "stdout",
     "output_type": "stream",
     "text": [
      "epoch: 3, [batch: 2688 / 6720], examples_per_second: 2976.4016, train_label_loss: 0.9209, \n"
     ]
    },
    {
     "name": "stdout",
     "output_type": "stream",
     "text": [
      "epoch: 3, [batch: 3360 / 6720], examples_per_second: 2993.5414, train_label_loss: 1.5155, \n"
     ]
    },
    {
     "name": "stdout",
     "output_type": "stream",
     "text": [
      "epoch: 3, [batch: 4032 / 6720], examples_per_second: 3004.9079, train_label_loss: 1.2958, \n"
     ]
    },
    {
     "name": "stdout",
     "output_type": "stream",
     "text": [
      "epoch: 3, [batch: 4704 / 6720], examples_per_second: 2967.0259, train_label_loss: 0.5380, \n"
     ]
    },
    {
     "name": "stdout",
     "output_type": "stream",
     "text": [
      "epoch: 3, [batch: 5376 / 6720], examples_per_second: 3041.1741, train_label_loss: 0.4959, \n"
     ]
    },
    {
     "name": "stdout",
     "output_type": "stream",
     "text": [
      "epoch: 3, [batch: 6048 / 6720], examples_per_second: 2925.5925, train_label_loss: 0.7272, \n"
     ]
    },
    {
     "name": "stdout",
     "output_type": "stream",
     "text": [
      "=============================================================\n",
      "epoch: 3, source_val_acc_label: 0.6010, target_val_acc_label: 0.6677, source_val_label_loss: 1.0535, target_val_label_loss: 7.6036, \n",
      "=============================================================\n"
     ]
    },
    {
     "name": "stdout",
     "output_type": "stream",
     "text": [
      "New best\n"
     ]
    },
    {
     "name": "stdout",
     "output_type": "stream",
     "text": [
      "epoch: 4, [batch: 1 / 6720], examples_per_second: 2.7519, train_label_loss: 0.9375, \n"
     ]
    },
    {
     "name": "stdout",
     "output_type": "stream",
     "text": [
      "epoch: 4, [batch: 672 / 6720], examples_per_second: 3456.1615, train_label_loss: 0.5919, \n"
     ]
    },
    {
     "name": "stdout",
     "output_type": "stream",
     "text": [
      "epoch: 4, [batch: 1344 / 6720], examples_per_second: 3540.7198, train_label_loss: 1.1580, \n"
     ]
    },
    {
     "name": "stdout",
     "output_type": "stream",
     "text": [
      "epoch: 4, [batch: 2016 / 6720], examples_per_second: 2989.3038, train_label_loss: 1.3630, \n"
     ]
    },
    {
     "name": "stdout",
     "output_type": "stream",
     "text": [
      "epoch: 4, [batch: 2688 / 6720], examples_per_second: 2991.5170, train_label_loss: 0.6954, \n"
     ]
    },
    {
     "name": "stdout",
     "output_type": "stream",
     "text": [
      "epoch: 4, [batch: 3360 / 6720], examples_per_second: 3041.6812, train_label_loss: 0.5350, \n"
     ]
    },
    {
     "name": "stdout",
     "output_type": "stream",
     "text": [
      "epoch: 4, [batch: 4032 / 6720], examples_per_second: 2996.5250, train_label_loss: 1.1892, \n"
     ]
    },
    {
     "name": "stdout",
     "output_type": "stream",
     "text": [
      "epoch: 4, [batch: 4704 / 6720], examples_per_second: 2942.0982, train_label_loss: 0.9575, \n"
     ]
    },
    {
     "name": "stdout",
     "output_type": "stream",
     "text": [
      "epoch: 4, [batch: 5376 / 6720], examples_per_second: 3033.7154, train_label_loss: 0.9904, \n"
     ]
    },
    {
     "name": "stdout",
     "output_type": "stream",
     "text": [
      "epoch: 4, [batch: 6048 / 6720], examples_per_second: 2973.8261, train_label_loss: 0.7290, \n"
     ]
    },
    {
     "name": "stdout",
     "output_type": "stream",
     "text": [
      "=============================================================\n",
      "epoch: 4, source_val_acc_label: 0.6002, target_val_acc_label: 0.6650, source_val_label_loss: 1.0827, target_val_label_loss: 8.8382, \n",
      "=============================================================\n"
     ]
    },
    {
     "name": "stdout",
     "output_type": "stream",
     "text": [
      "epoch: 5, [batch: 1 / 6720], examples_per_second: 2.8502, train_label_loss: 0.4838, \n"
     ]
    },
    {
     "name": "stdout",
     "output_type": "stream",
     "text": [
      "epoch: 5, [batch: 672 / 6720], examples_per_second: 3600.2402, train_label_loss: 0.4680, \n"
     ]
    },
    {
     "name": "stdout",
     "output_type": "stream",
     "text": [
      "epoch: 5, [batch: 1344 / 6720], examples_per_second: 2995.1487, train_label_loss: 1.0547, \n"
     ]
    },
    {
     "name": "stdout",
     "output_type": "stream",
     "text": [
      "epoch: 5, [batch: 2016 / 6720], examples_per_second: 3011.7127, train_label_loss: 1.1760, \n"
     ]
    },
    {
     "name": "stdout",
     "output_type": "stream",
     "text": [
      "epoch: 5, [batch: 2688 / 6720], examples_per_second: 2993.3729, train_label_loss: 0.7148, \n"
     ]
    },
    {
     "name": "stdout",
     "output_type": "stream",
     "text": [
      "epoch: 5, [batch: 3360 / 6720], examples_per_second: 3048.3993, train_label_loss: 0.6135, \n"
     ]
    },
    {
     "name": "stdout",
     "output_type": "stream",
     "text": [
      "epoch: 5, [batch: 4032 / 6720], examples_per_second: 2966.5838, train_label_loss: 0.7561, \n"
     ]
    },
    {
     "name": "stdout",
     "output_type": "stream",
     "text": [
      "epoch: 5, [batch: 4704 / 6720], examples_per_second: 2948.6443, train_label_loss: 0.6796, \n"
     ]
    },
    {
     "name": "stdout",
     "output_type": "stream",
     "text": [
      "epoch: 5, [batch: 5376 / 6720], examples_per_second: 2998.0783, train_label_loss: 0.8749, \n"
     ]
    },
    {
     "name": "stdout",
     "output_type": "stream",
     "text": [
      "epoch: 5, [batch: 6048 / 6720], examples_per_second: 2995.9091, train_label_loss: 0.3358, \n"
     ]
    },
    {
     "name": "stdout",
     "output_type": "stream",
     "text": [
      "=============================================================\n",
      "epoch: 5, source_val_acc_label: 0.6006, target_val_acc_label: 0.6642, source_val_label_loss: 1.1277, target_val_label_loss: 10.0909, \n",
      "=============================================================\n"
     ]
    },
    {
     "name": "stdout",
     "output_type": "stream",
     "text": [
      "epoch: 6, [batch: 1 / 6720], examples_per_second: 2.9808, train_label_loss: 0.7280, \n"
     ]
    },
    {
     "name": "stdout",
     "output_type": "stream",
     "text": [
      "epoch: 6, [batch: 672 / 6720], examples_per_second: 3115.5168, train_label_loss: 1.1893, \n"
     ]
    },
    {
     "name": "stdout",
     "output_type": "stream",
     "text": [
      "epoch: 6, [batch: 1344 / 6720], examples_per_second: 3004.1083, train_label_loss: 0.8470, \n"
     ]
    },
    {
     "name": "stdout",
     "output_type": "stream",
     "text": [
      "epoch: 6, [batch: 2016 / 6720], examples_per_second: 3015.7892, train_label_loss: 0.3271, \n"
     ]
    },
    {
     "name": "stdout",
     "output_type": "stream",
     "text": [
      "epoch: 6, [batch: 2688 / 6720], examples_per_second: 2957.5508, train_label_loss: 0.4105, \n"
     ]
    },
    {
     "name": "stdout",
     "output_type": "stream",
     "text": [
      "epoch: 6, [batch: 3360 / 6720], examples_per_second: 3365.7180, train_label_loss: 0.1875, \n"
     ]
    },
    {
     "name": "stdout",
     "output_type": "stream",
     "text": [
      "epoch: 6, [batch: 4032 / 6720], examples_per_second: 3410.9524, train_label_loss: 0.7473, \n"
     ]
    },
    {
     "name": "stdout",
     "output_type": "stream",
     "text": [
      "epoch: 6, [batch: 4704 / 6720], examples_per_second: 3412.5711, train_label_loss: 0.8018, \n"
     ]
    },
    {
     "name": "stdout",
     "output_type": "stream",
     "text": [
      "epoch: 6, [batch: 5376 / 6720], examples_per_second: 3441.0151, train_label_loss: 0.6261, \n"
     ]
    },
    {
     "name": "stdout",
     "output_type": "stream",
     "text": [
      "epoch: 6, [batch: 6048 / 6720], examples_per_second: 3398.1712, train_label_loss: 0.4691, \n"
     ]
    },
    {
     "name": "stdout",
     "output_type": "stream",
     "text": [
      "=============================================================\n",
      "epoch: 6, source_val_acc_label: 0.6010, target_val_acc_label: 0.6840, source_val_label_loss: 1.1692, target_val_label_loss: 10.8976, \n",
      "=============================================================\n"
     ]
    },
    {
     "name": "stdout",
     "output_type": "stream",
     "text": [
      "New best\n"
     ]
    },
    {
     "name": "stdout",
     "output_type": "stream",
     "text": [
      "epoch: 7, [batch: 1 / 6720], examples_per_second: 4.0986, train_label_loss: 0.3386, \n"
     ]
    },
    {
     "name": "stdout",
     "output_type": "stream",
     "text": [
      "epoch: 7, [batch: 672 / 6720], examples_per_second: 3445.2117, train_label_loss: 0.7335, \n"
     ]
    },
    {
     "name": "stdout",
     "output_type": "stream",
     "text": [
      "epoch: 7, [batch: 1344 / 6720], examples_per_second: 3031.9579, train_label_loss: 0.7286, \n"
     ]
    },
    {
     "name": "stdout",
     "output_type": "stream",
     "text": [
      "epoch: 7, [batch: 2016 / 6720], examples_per_second: 3013.3239, train_label_loss: 1.0489, \n"
     ]
    },
    {
     "name": "stdout",
     "output_type": "stream",
     "text": [
      "epoch: 7, [batch: 2688 / 6720], examples_per_second: 3007.6527, train_label_loss: 0.4539, \n"
     ]
    },
    {
     "name": "stdout",
     "output_type": "stream",
     "text": [
      "epoch: 7, [batch: 3360 / 6720], examples_per_second: 3004.1140, train_label_loss: 0.6375, \n"
     ]
    },
    {
     "name": "stdout",
     "output_type": "stream",
     "text": [
      "epoch: 7, [batch: 4032 / 6720], examples_per_second: 3014.6022, train_label_loss: 0.4958, \n"
     ]
    },
    {
     "name": "stdout",
     "output_type": "stream",
     "text": [
      "epoch: 7, [batch: 4704 / 6720], examples_per_second: 2969.1361, train_label_loss: 0.2976, \n"
     ]
    },
    {
     "name": "stdout",
     "output_type": "stream",
     "text": [
      "epoch: 7, [batch: 5376 / 6720], examples_per_second: 2985.3241, train_label_loss: 0.3600, \n"
     ]
    },
    {
     "name": "stdout",
     "output_type": "stream",
     "text": [
      "epoch: 7, [batch: 6048 / 6720], examples_per_second: 2990.1175, train_label_loss: 0.4629, \n"
     ]
    },
    {
     "name": "stdout",
     "output_type": "stream",
     "text": [
      "=============================================================\n",
      "epoch: 7, source_val_acc_label: 0.5996, target_val_acc_label: 0.6792, source_val_label_loss: 1.2370, target_val_label_loss: 12.1046, \n",
      "=============================================================\n"
     ]
    },
    {
     "name": "stdout",
     "output_type": "stream",
     "text": [
      "epoch: 8, [batch: 1 / 6720], examples_per_second: 3.1963, train_label_loss: 0.6508, \n"
     ]
    },
    {
     "name": "stdout",
     "output_type": "stream",
     "text": [
      "epoch: 8, [batch: 672 / 6720], examples_per_second: 2968.7995, train_label_loss: 0.6886, \n"
     ]
    },
    {
     "name": "stdout",
     "output_type": "stream",
     "text": [
      "epoch: 8, [batch: 1344 / 6720], examples_per_second: 2971.6849, train_label_loss: 0.7464, \n"
     ]
    },
    {
     "name": "stdout",
     "output_type": "stream",
     "text": [
      "epoch: 8, [batch: 2016 / 6720], examples_per_second: 2968.3916, train_label_loss: 0.3697, \n"
     ]
    },
    {
     "name": "stdout",
     "output_type": "stream",
     "text": [
      "epoch: 8, [batch: 2688 / 6720], examples_per_second: 2957.1459, train_label_loss: 0.3927, \n"
     ]
    },
    {
     "name": "stdout",
     "output_type": "stream",
     "text": [
      "epoch: 8, [batch: 3360 / 6720], examples_per_second: 2963.4444, train_label_loss: 0.7326, \n"
     ]
    },
    {
     "name": "stdout",
     "output_type": "stream",
     "text": [
      "epoch: 8, [batch: 4032 / 6720], examples_per_second: 2962.5222, train_label_loss: 0.5440, \n"
     ]
    },
    {
     "name": "stdout",
     "output_type": "stream",
     "text": [
      "epoch: 8, [batch: 4704 / 6720], examples_per_second: 3009.9359, train_label_loss: 0.5384, \n"
     ]
    },
    {
     "name": "stdout",
     "output_type": "stream",
     "text": [
      "epoch: 8, [batch: 5376 / 6720], examples_per_second: 2984.9621, train_label_loss: 0.4072, \n"
     ]
    },
    {
     "name": "stdout",
     "output_type": "stream",
     "text": [
      "epoch: 8, [batch: 6048 / 6720], examples_per_second: 3293.1138, train_label_loss: 0.3979, \n"
     ]
    },
    {
     "name": "stdout",
     "output_type": "stream",
     "text": [
      "=============================================================\n",
      "epoch: 8, source_val_acc_label: 0.5992, target_val_acc_label: 0.6759, source_val_label_loss: 1.3347, target_val_label_loss: 13.8226, \n",
      "=============================================================\n"
     ]
    },
    {
     "name": "stdout",
     "output_type": "stream",
     "text": [
      "epoch: 9, [batch: 1 / 6720], examples_per_second: 3.1894, train_label_loss: 0.7040, \n"
     ]
    },
    {
     "name": "stdout",
     "output_type": "stream",
     "text": [
      "epoch: 9, [batch: 672 / 6720], examples_per_second: 2987.1974, train_label_loss: 0.1157, \n"
     ]
    },
    {
     "name": "stdout",
     "output_type": "stream",
     "text": [
      "epoch: 9, [batch: 1344 / 6720], examples_per_second: 3017.3608, train_label_loss: 0.2072, \n"
     ]
    },
    {
     "name": "stdout",
     "output_type": "stream",
     "text": [
      "epoch: 9, [batch: 2016 / 6720], examples_per_second: 2991.6444, train_label_loss: 0.1357, \n"
     ]
    },
    {
     "name": "stdout",
     "output_type": "stream",
     "text": [
      "epoch: 9, [batch: 2688 / 6720], examples_per_second: 2985.9399, train_label_loss: 0.2988, \n"
     ]
    },
    {
     "name": "stdout",
     "output_type": "stream",
     "text": [
      "epoch: 9, [batch: 3360 / 6720], examples_per_second: 3056.2958, train_label_loss: 0.5668, \n"
     ]
    },
    {
     "name": "stdout",
     "output_type": "stream",
     "text": [
      "epoch: 9, [batch: 4032 / 6720], examples_per_second: 2992.0127, train_label_loss: 0.5535, \n"
     ]
    },
    {
     "name": "stdout",
     "output_type": "stream",
     "text": [
      "epoch: 9, [batch: 4704 / 6720], examples_per_second: 2945.1047, train_label_loss: 0.1211, \n"
     ]
    },
    {
     "name": "stdout",
     "output_type": "stream",
     "text": [
      "epoch: 9, [batch: 5376 / 6720], examples_per_second: 3033.4564, train_label_loss: 0.2089, \n"
     ]
    },
    {
     "name": "stdout",
     "output_type": "stream",
     "text": [
      "epoch: 9, [batch: 6048 / 6720], examples_per_second: 3450.1194, train_label_loss: 0.1774, \n"
     ]
    },
    {
     "name": "stdout",
     "output_type": "stream",
     "text": [
      "=============================================================\n",
      "epoch: 9, source_val_acc_label: 0.5960, target_val_acc_label: 0.6851, source_val_label_loss: 1.4231, target_val_label_loss: 15.0842, \n",
      "=============================================================\n"
     ]
    },
    {
     "name": "stdout",
     "output_type": "stream",
     "text": [
      "New best\n"
     ]
    },
    {
     "name": "stdout",
     "output_type": "stream",
     "text": [
      "epoch: 10, [batch: 1 / 6720], examples_per_second: 3.2136, train_label_loss: 0.5448, \n"
     ]
    },
    {
     "name": "stdout",
     "output_type": "stream",
     "text": [
      "epoch: 10, [batch: 672 / 6720], examples_per_second: 3434.2205, train_label_loss: 0.1947, \n"
     ]
    },
    {
     "name": "stdout",
     "output_type": "stream",
     "text": [
      "epoch: 10, [batch: 1344 / 6720], examples_per_second: 3421.5556, train_label_loss: 0.5561, \n"
     ]
    },
    {
     "name": "stdout",
     "output_type": "stream",
     "text": [
      "epoch: 10, [batch: 2016 / 6720], examples_per_second: 3399.4504, train_label_loss: 0.0939, \n"
     ]
    },
    {
     "name": "stdout",
     "output_type": "stream",
     "text": [
      "epoch: 10, [batch: 2688 / 6720], examples_per_second: 3383.7863, train_label_loss: 0.5331, \n"
     ]
    },
    {
     "name": "stdout",
     "output_type": "stream",
     "text": [
      "epoch: 10, [batch: 3360 / 6720], examples_per_second: 3431.5025, train_label_loss: 0.2976, \n"
     ]
    },
    {
     "name": "stdout",
     "output_type": "stream",
     "text": [
      "epoch: 10, [batch: 4032 / 6720], examples_per_second: 3643.7586, train_label_loss: 0.0725, \n"
     ]
    },
    {
     "name": "stdout",
     "output_type": "stream",
     "text": [
      "epoch: 10, [batch: 4704 / 6720], examples_per_second: 3923.6164, train_label_loss: 0.1858, \n"
     ]
    },
    {
     "name": "stdout",
     "output_type": "stream",
     "text": [
      "epoch: 10, [batch: 5376 / 6720], examples_per_second: 4059.2803, train_label_loss: 0.1314, \n"
     ]
    },
    {
     "name": "stdout",
     "output_type": "stream",
     "text": [
      "epoch: 10, [batch: 6048 / 6720], examples_per_second: 3973.3717, train_label_loss: 0.0155, \n"
     ]
    },
    {
     "name": "stdout",
     "output_type": "stream",
     "text": [
      "=============================================================\n",
      "epoch: 10, source_val_acc_label: 0.5958, target_val_acc_label: 0.6994, source_val_label_loss: 1.5075, target_val_label_loss: 15.9785, \n",
      "=============================================================\n"
     ]
    },
    {
     "name": "stdout",
     "output_type": "stream",
     "text": [
      "New best\n"
     ]
    },
    {
     "name": "stdout",
     "output_type": "stream",
     "text": [
      "epoch: 11, [batch: 1 / 6720], examples_per_second: 3.8665, train_label_loss: 0.6523, \n"
     ]
    },
    {
     "name": "stdout",
     "output_type": "stream",
     "text": [
      "epoch: 11, [batch: 672 / 6720], examples_per_second: 3982.4511, train_label_loss: 0.1601, \n"
     ]
    },
    {
     "name": "stdout",
     "output_type": "stream",
     "text": [
      "epoch: 11, [batch: 1344 / 6720], examples_per_second: 4413.3589, train_label_loss: 0.2239, \n"
     ]
    },
    {
     "name": "stdout",
     "output_type": "stream",
     "text": [
      "epoch: 11, [batch: 2016 / 6720], examples_per_second: 3787.6364, train_label_loss: 0.0697, \n"
     ]
    },
    {
     "name": "stdout",
     "output_type": "stream",
     "text": [
      "epoch: 11, [batch: 2688 / 6720], examples_per_second: 3343.7982, train_label_loss: 0.2400, \n"
     ]
    },
    {
     "name": "stdout",
     "output_type": "stream",
     "text": [
      "epoch: 11, [batch: 3360 / 6720], examples_per_second: 3370.9923, train_label_loss: 0.2457, \n"
     ]
    },
    {
     "name": "stdout",
     "output_type": "stream",
     "text": [
      "epoch: 11, [batch: 4032 / 6720], examples_per_second: 3544.0416, train_label_loss: 0.0744, \n"
     ]
    },
    {
     "name": "stdout",
     "output_type": "stream",
     "text": [
      "epoch: 11, [batch: 4704 / 6720], examples_per_second: 3441.7112, train_label_loss: 0.3414, \n"
     ]
    },
    {
     "name": "stdout",
     "output_type": "stream",
     "text": [
      "epoch: 11, [batch: 5376 / 6720], examples_per_second: 3417.1901, train_label_loss: 0.0587, \n"
     ]
    },
    {
     "name": "stdout",
     "output_type": "stream",
     "text": [
      "epoch: 11, [batch: 6048 / 6720], examples_per_second: 3377.6036, train_label_loss: 0.1701, \n"
     ]
    },
    {
     "name": "stdout",
     "output_type": "stream",
     "text": [
      "=============================================================\n",
      "epoch: 11, source_val_acc_label: 0.5996, target_val_acc_label: 0.6895, source_val_label_loss: 1.5630, target_val_label_loss: 17.3030, \n",
      "=============================================================\n"
     ]
    },
    {
     "name": "stdout",
     "output_type": "stream",
     "text": [
      "epoch: 12, [batch: 1 / 6720], examples_per_second: 3.1578, train_label_loss: 0.1976, \n"
     ]
    },
    {
     "name": "stdout",
     "output_type": "stream",
     "text": [
      "epoch: 12, [batch: 672 / 6720], examples_per_second: 3863.3916, train_label_loss: 0.2514, \n"
     ]
    },
    {
     "name": "stdout",
     "output_type": "stream",
     "text": [
      "epoch: 12, [batch: 1344 / 6720], examples_per_second: 3713.5753, train_label_loss: 0.3298, \n"
     ]
    },
    {
     "name": "stdout",
     "output_type": "stream",
     "text": [
      "epoch: 12, [batch: 2016 / 6720], examples_per_second: 3489.8492, train_label_loss: 0.3823, \n"
     ]
    },
    {
     "name": "stdout",
     "output_type": "stream",
     "text": [
      "epoch: 12, [batch: 2688 / 6720], examples_per_second: 3401.7784, train_label_loss: 0.2610, \n"
     ]
    },
    {
     "name": "stdout",
     "output_type": "stream",
     "text": [
      "epoch: 12, [batch: 3360 / 6720], examples_per_second: 3397.3883, train_label_loss: 0.2725, \n"
     ]
    },
    {
     "name": "stdout",
     "output_type": "stream",
     "text": [
      "epoch: 12, [batch: 4032 / 6720], examples_per_second: 3418.1781, train_label_loss: 0.2014, \n"
     ]
    },
    {
     "name": "stdout",
     "output_type": "stream",
     "text": [
      "epoch: 12, [batch: 4704 / 6720], examples_per_second: 3487.6668, train_label_loss: 0.1820, \n"
     ]
    },
    {
     "name": "stdout",
     "output_type": "stream",
     "text": [
      "epoch: 12, [batch: 5376 / 6720], examples_per_second: 3498.9672, train_label_loss: 0.1492, \n"
     ]
    },
    {
     "name": "stdout",
     "output_type": "stream",
     "text": [
      "epoch: 12, [batch: 6048 / 6720], examples_per_second: 3399.2550, train_label_loss: 0.1533, \n"
     ]
    },
    {
     "name": "stdout",
     "output_type": "stream",
     "text": [
      "=============================================================\n",
      "epoch: 12, source_val_acc_label: 0.5955, target_val_acc_label: 0.6964, source_val_label_loss: 1.6537, target_val_label_loss: 18.1813, \n",
      "=============================================================\n"
     ]
    },
    {
     "name": "stdout",
     "output_type": "stream",
     "text": [
      "epoch: 13, [batch: 1 / 6720], examples_per_second: 3.3542, train_label_loss: 0.2026, \n"
     ]
    },
    {
     "name": "stdout",
     "output_type": "stream",
     "text": [
      "epoch: 13, [batch: 672 / 6720], examples_per_second: 3727.9351, train_label_loss: 0.3812, \n"
     ]
    },
    {
     "name": "stdout",
     "output_type": "stream",
     "text": [
      "epoch: 13, [batch: 1344 / 6720], examples_per_second: 3332.9560, train_label_loss: 0.2112, \n"
     ]
    },
    {
     "name": "stdout",
     "output_type": "stream",
     "text": [
      "epoch: 13, [batch: 2016 / 6720], examples_per_second: 3373.3229, train_label_loss: 0.2706, \n"
     ]
    },
    {
     "name": "stdout",
     "output_type": "stream",
     "text": [
      "epoch: 13, [batch: 2688 / 6720], examples_per_second: 3340.2211, train_label_loss: 0.1615, \n"
     ]
    },
    {
     "name": "stdout",
     "output_type": "stream",
     "text": [
      "epoch: 13, [batch: 3360 / 6720], examples_per_second: 3370.7726, train_label_loss: 0.1950, \n"
     ]
    },
    {
     "name": "stdout",
     "output_type": "stream",
     "text": [
      "epoch: 13, [batch: 4032 / 6720], examples_per_second: 3565.8114, train_label_loss: 0.0460, \n"
     ]
    },
    {
     "name": "stdout",
     "output_type": "stream",
     "text": [
      "epoch: 13, [batch: 4704 / 6720], examples_per_second: 3977.9134, train_label_loss: 0.0225, \n"
     ]
    },
    {
     "name": "stdout",
     "output_type": "stream",
     "text": [
      "epoch: 13, [batch: 5376 / 6720], examples_per_second: 4019.6088, train_label_loss: 0.0936, \n"
     ]
    },
    {
     "name": "stdout",
     "output_type": "stream",
     "text": [
      "epoch: 13, [batch: 6048 / 6720], examples_per_second: 4009.8729, train_label_loss: 0.0375, \n"
     ]
    },
    {
     "name": "stdout",
     "output_type": "stream",
     "text": [
      "=============================================================\n",
      "epoch: 13, source_val_acc_label: 0.5970, target_val_acc_label: 0.6883, source_val_label_loss: 1.6979, target_val_label_loss: 18.5335, \n",
      "=============================================================\n"
     ]
    },
    {
     "name": "stdout",
     "output_type": "stream",
     "text": [
      "epoch: 14, [batch: 1 / 6720], examples_per_second: 4.2344, train_label_loss: 0.2184, \n"
     ]
    },
    {
     "name": "stdout",
     "output_type": "stream",
     "text": [
      "epoch: 14, [batch: 672 / 6720], examples_per_second: 3865.8295, train_label_loss: 0.1347, \n"
     ]
    },
    {
     "name": "stdout",
     "output_type": "stream",
     "text": [
      "epoch: 14, [batch: 1344 / 6720], examples_per_second: 3889.2341, train_label_loss: 0.1598, \n"
     ]
    },
    {
     "name": "stdout",
     "output_type": "stream",
     "text": [
      "epoch: 14, [batch: 2016 / 6720], examples_per_second: 3931.3993, train_label_loss: 0.1484, \n"
     ]
    },
    {
     "name": "stdout",
     "output_type": "stream",
     "text": [
      "epoch: 14, [batch: 2688 / 6720], examples_per_second: 3963.0779, train_label_loss: 0.4124, \n"
     ]
    },
    {
     "name": "stdout",
     "output_type": "stream",
     "text": [
      "epoch: 14, [batch: 3360 / 6720], examples_per_second: 4023.1570, train_label_loss: 0.6042, \n"
     ]
    },
    {
     "name": "stdout",
     "output_type": "stream",
     "text": [
      "epoch: 14, [batch: 4032 / 6720], examples_per_second: 3929.9451, train_label_loss: 0.0252, \n"
     ]
    },
    {
     "name": "stdout",
     "output_type": "stream",
     "text": [
      "epoch: 14, [batch: 4704 / 6720], examples_per_second: 3904.0005, train_label_loss: 0.1485, \n"
     ]
    },
    {
     "name": "stdout",
     "output_type": "stream",
     "text": [
      "epoch: 14, [batch: 5376 / 6720], examples_per_second: 3877.6840, train_label_loss: 0.2427, \n"
     ]
    },
    {
     "name": "stdout",
     "output_type": "stream",
     "text": [
      "epoch: 14, [batch: 6048 / 6720], examples_per_second: 3835.7300, train_label_loss: 0.1255, \n"
     ]
    },
    {
     "name": "stdout",
     "output_type": "stream",
     "text": [
      "=============================================================\n",
      "epoch: 14, source_val_acc_label: 0.5882, target_val_acc_label: 0.6928, source_val_label_loss: 1.8271, target_val_label_loss: 19.9798, \n",
      "=============================================================\n"
     ]
    },
    {
     "name": "stdout",
     "output_type": "stream",
     "text": [
      "Patience (3) exhausted\n"
     ]
    }
   ],
   "source": [
    "###################################\n",
    "# train\n",
    "###################################\n",
    "jig = PTN_Train_Eval_Test_Jig(model, p.BEST_MODEL_PATH, p.device)\n",
    "\n",
    "jig.train(\n",
    "    train_iterable=datasets.source.processed.train,\n",
    "    source_val_iterable=datasets.source.processed.val,\n",
    "    target_val_iterable=datasets.target.processed.val,\n",
    "    num_epochs=p.n_epoch,\n",
    "    num_logs_per_epoch=p.NUM_LOGS_PER_EPOCH,\n",
    "    patience=p.patience,\n",
    "    optimizer=optimizer,\n",
    "    criteria_for_best=p.criteria_for_best,\n",
    ")"
   ]
  },
  {
   "cell_type": "code",
   "execution_count": 23,
   "id": "31e8fabf",
   "metadata": {
    "execution": {
     "iopub.execute_input": "2022-03-22T18:24:36.688544Z",
     "iopub.status.busy": "2022-03-22T18:24:36.688170Z",
     "iopub.status.idle": "2022-03-22T18:24:36.720831Z",
     "shell.execute_reply": "2022-03-22T18:24:36.720092Z"
    },
    "papermill": {
     "duration": 0.102748,
     "end_time": "2022-03-22T18:24:36.721001",
     "exception": false,
     "start_time": "2022-03-22T18:24:36.618253",
     "status": "completed"
    },
    "tags": []
   },
   "outputs": [],
   "source": [
    "total_experiment_time_secs = time.time() - start_time_secs"
   ]
  },
  {
   "cell_type": "code",
   "execution_count": 24,
   "id": "87b9595b",
   "metadata": {
    "execution": {
     "iopub.execute_input": "2022-03-22T18:24:36.923352Z",
     "iopub.status.busy": "2022-03-22T18:24:36.922470Z",
     "iopub.status.idle": "2022-03-22T18:27:30.054307Z",
     "shell.execute_reply": "2022-03-22T18:27:30.053563Z"
    },
    "papermill": {
     "duration": 173.2055,
     "end_time": "2022-03-22T18:27:30.054498",
     "exception": false,
     "start_time": "2022-03-22T18:24:36.848998",
     "status": "completed"
    },
    "tags": []
   },
   "outputs": [],
   "source": [
    "###################################\n",
    "# Evaluate the model\n",
    "###################################\n",
    "source_test_label_accuracy, source_test_label_loss = jig.test(datasets.source.processed.test)\n",
    "target_test_label_accuracy, target_test_label_loss = jig.test(datasets.target.processed.test)\n",
    "\n",
    "source_val_label_accuracy, source_val_label_loss = jig.test(datasets.source.processed.val)\n",
    "target_val_label_accuracy, target_val_label_loss = jig.test(datasets.target.processed.val)\n",
    "\n",
    "history = jig.get_history()\n",
    "\n",
    "total_epochs_trained = len(history[\"epoch_indices\"])\n",
    "\n",
    "val_dl = Iterable_Aggregator((datasets.source.original.val,datasets.target.original.val))\n",
    "\n",
    "confusion = ptn_confusion_by_domain_over_dataloader(model, p.device, val_dl)\n",
    "per_domain_accuracy = per_domain_accuracy_from_confusion(confusion)\n",
    "\n",
    "# Add a key to per_domain_accuracy for if it was a source domain\n",
    "for domain, accuracy in per_domain_accuracy.items():\n",
    "    per_domain_accuracy[domain] = {\n",
    "        \"accuracy\": accuracy,\n",
    "        \"source?\": domain in p.domains_source\n",
    "    }\n",
    "\n",
    "# Do an independent accuracy assesment JUST TO BE SURE!\n",
    "# _source_test_label_accuracy = independent_accuracy_assesment(model, datasets.source.processed.test, p.device)\n",
    "# _target_test_label_accuracy = independent_accuracy_assesment(model, datasets.target.processed.test, p.device)\n",
    "# _source_val_label_accuracy = independent_accuracy_assesment(model, datasets.source.processed.val, p.device)\n",
    "# _target_val_label_accuracy = independent_accuracy_assesment(model, datasets.target.processed.val, p.device)\n",
    "\n",
    "# assert(_source_test_label_accuracy == source_test_label_accuracy)\n",
    "# assert(_target_test_label_accuracy == target_test_label_accuracy)\n",
    "# assert(_source_val_label_accuracy == source_val_label_accuracy)\n",
    "# assert(_target_val_label_accuracy == target_val_label_accuracy)\n",
    "\n",
    "experiment = {\n",
    "    \"experiment_name\": p.experiment_name,\n",
    "    \"parameters\": dict(p),\n",
    "    \"results\": {\n",
    "        \"source_test_label_accuracy\": source_test_label_accuracy,\n",
    "        \"source_test_label_loss\": source_test_label_loss,\n",
    "        \"target_test_label_accuracy\": target_test_label_accuracy,\n",
    "        \"target_test_label_loss\": target_test_label_loss,\n",
    "        \"source_val_label_accuracy\": source_val_label_accuracy,\n",
    "        \"source_val_label_loss\": source_val_label_loss,\n",
    "        \"target_val_label_accuracy\": target_val_label_accuracy,\n",
    "        \"target_val_label_loss\": target_val_label_loss,\n",
    "        \"total_epochs_trained\": total_epochs_trained,\n",
    "        \"total_experiment_time_secs\": total_experiment_time_secs,\n",
    "        \"confusion\": confusion,\n",
    "        \"per_domain_accuracy\": per_domain_accuracy,\n",
    "    },\n",
    "    \"history\": history,\n",
    "    \"dataset_metrics\": get_dataset_metrics(datasets, \"ptn\"),\n",
    "}"
   ]
  },
  {
   "cell_type": "code",
   "execution_count": 25,
   "id": "54a21829",
   "metadata": {
    "execution": {
     "iopub.execute_input": "2022-03-22T18:27:30.196810Z",
     "iopub.status.busy": "2022-03-22T18:27:30.196292Z",
     "iopub.status.idle": "2022-03-22T18:27:30.424703Z",
     "shell.execute_reply": "2022-03-22T18:27:30.423981Z"
    },
    "papermill": {
     "duration": 0.297451,
     "end_time": "2022-03-22T18:27:30.424861",
     "exception": false,
     "start_time": "2022-03-22T18:27:30.127410",
     "status": "completed"
    },
    "tags": []
   },
   "outputs": [
    {
     "data": {
      "image/png": "[encoded data removed]",
      "text/plain": [
       "<Figure size 1080x504 with 1 Axes>"
      ]
     },
     "metadata": {
      "needs_background": "light"
     },
     "output_type": "display_data"
    }
   ],
   "source": [
    "ax = get_loss_curve(experiment)\n",
    "plt.show()"
   ]
  },
  {
   "cell_type": "code",
   "execution_count": 26,
   "id": "fd8a0f60",
   "metadata": {
    "execution": {
     "iopub.execute_input": "2022-03-22T18:27:30.567453Z",
     "iopub.status.busy": "2022-03-22T18:27:30.567061Z",
     "iopub.status.idle": "2022-03-22T18:27:30.879491Z",
     "shell.execute_reply": "2022-03-22T18:27:30.880199Z"
    },
    "papermill": {
     "duration": 0.383187,
     "end_time": "2022-03-22T18:27:30.880383",
     "exception": false,
     "start_time": "2022-03-22T18:27:30.497196",
     "status": "completed"
    },
    "tags": []
   },
   "outputs": [
    {
     "data": {
      "text/plain": [
       "<AxesSubplot:title={'center':'Results'}>"
      ]
     },
     "execution_count": 26,
     "metadata": {},
     "output_type": "execute_result"
    },
    {
     "data": {
      "image/png": "[encoded data removed]",
      "text/plain": [
       "<Figure size 1080x504 with 1 Axes>"
      ]
     },
     "metadata": {
      "needs_background": "light"
     },
     "output_type": "display_data"
    }
   ],
   "source": [
    "get_results_table(experiment)"
   ]
  },
  {
   "cell_type": "code",
   "execution_count": 27,
   "id": "cf8dc689",
   "metadata": {
    "execution": {
     "iopub.execute_input": "2022-03-22T18:27:31.031123Z",
     "iopub.status.busy": "2022-03-22T18:27:31.030502Z",
     "iopub.status.idle": "2022-03-22T18:27:31.280993Z",
     "shell.execute_reply": "2022-03-22T18:27:31.280093Z"
    },
    "papermill": {
     "duration": 0.323726,
     "end_time": "2022-03-22T18:27:31.281157",
     "exception": false,
     "start_time": "2022-03-22T18:27:30.957431",
     "status": "completed"
    },
    "tags": []
   },
   "outputs": [
    {
     "data": {
      "text/plain": [
       "<AxesSubplot:title={'center':'Per Domain Validation Accuracy'}, xlabel='domain'>"
      ]
     },
     "execution_count": 27,
     "metadata": {},
     "output_type": "execute_result"
    },
    {
     "data": {
      "image/png": "[encoded data removed]",
      "text/plain": [
       "<Figure size 1080x504 with 1 Axes>"
      ]
     },
     "metadata": {
      "needs_background": "light"
     },
     "output_type": "display_data"
    }
   ],
   "source": [
    "get_domain_accuracies(experiment)"
   ]
  },
  {
   "cell_type": "code",
   "execution_count": 28,
   "id": "a74ae082",
   "metadata": {
    "execution": {
     "iopub.execute_input": "2022-03-22T18:27:31.433651Z",
     "iopub.status.busy": "2022-03-22T18:27:31.433004Z",
     "iopub.status.idle": "2022-03-22T18:27:31.458545Z",
     "shell.execute_reply": "2022-03-22T18:27:31.457880Z"
    },
    "papermill": {
     "duration": 0.099867,
     "end_time": "2022-03-22T18:27:31.458704",
     "exception": false,
     "start_time": "2022-03-22T18:27:31.358837",
     "status": "completed"
    },
    "tags": []
   },
   "outputs": [
    {
     "name": "stdout",
     "output_type": "stream",
     "text": [
      "Source Test Label Accuracy: 0.58984375 Target Test Label Accuracy: 0.7013673890608875\n",
      "Source Val Label Accuracy: 0.5957682291666667 Target Val Label Accuracy: 0.699417372881356\n"
     ]
    }
   ],
   "source": [
    "print(\"Source Test Label Accuracy:\", experiment[\"results\"][\"source_test_label_accuracy\"], \"Target Test Label Accuracy:\", experiment[\"results\"][\"target_test_label_accuracy\"])\n",
    "print(\"Source Val Label Accuracy:\", experiment[\"results\"][\"source_val_label_accuracy\"], \"Target Val Label Accuracy:\", experiment[\"results\"][\"target_val_label_accuracy\"])"
   ]
  },
  {
   "cell_type": "code",
   "execution_count": 29,
   "id": "dacca602",
   "metadata": {
    "execution": {
     "iopub.execute_input": "2022-03-22T18:27:31.612446Z",
     "iopub.status.busy": "2022-03-22T18:27:31.611736Z",
     "iopub.status.idle": "2022-03-22T18:27:31.639767Z",
     "shell.execute_reply": "2022-03-22T18:27:31.640444Z"
    },
    "papermill": {
     "duration": 0.10313,
     "end_time": "2022-03-22T18:27:31.640586",
     "exception": false,
     "start_time": "2022-03-22T18:27:31.537456",
     "status": "completed"
    },
    "tags": [
     "experiment_json"
    ]
   },
   "outputs": [
    {
     "data": {
      "text/plain": [
       "'{\"experiment_name\": \"tl_1v2:wisig-oracle.run1.limited\", \"parameters\": {\"experiment_name\": \"tl_1v2:wisig-oracle.run1.limited\", \"device\": \"cuda\", \"lr\": 0.0001, \"n_shot\": 3, \"n_query\": 2, \"train_k_factor\": 3, \"val_k_factor\": 2, \"test_k_factor\": 2, \"torch_default_dtype\": \"torch.float32\", \"n_epoch\": 50, \"patience\": 3, \"criteria_for_best\": \"target_accuracy\", \"x_net\": [{\"class\": \"nnReshape\", \"kargs\": {\"shape\": [-1, 1, 2, 256]}}, {\"class\": \"Conv2d\", \"kargs\": {\"in_channels\": 1, \"out_channels\": 256, \"kernel_size\": [1, 7], \"bias\": false, \"padding\": [0, 3]}}, {\"class\": \"ReLU\", \"kargs\": {\"inplace\": true}}, {\"class\": \"BatchNorm2d\", \"kargs\": {\"num_features\": 256}}, {\"class\": \"Conv2d\", \"kargs\": {\"in_channels\": 256, \"out_channels\": 80, \"kernel_size\": [2, 7], \"bias\": true, \"padding\": [0, 3]}}, {\"class\": \"ReLU\", \"kargs\": {\"inplace\": true}}, {\"class\": \"BatchNorm2d\", \"kargs\": {\"num_features\": 80}}, {\"class\": \"Flatten\", \"kargs\": {}}, {\"class\": \"Linear\", \"kargs\": {\"in_features\": 20480, \"out_features\": 256}}, {\"class\": \"ReLU\", \"kargs\": {\"inplace\": true}}, {\"class\": \"BatchNorm1d\", \"kargs\": {\"num_features\": 256}}, {\"class\": \"Linear\", \"kargs\": {\"in_features\": 256, \"out_features\": 256}}], \"NUM_LOGS_PER_EPOCH\": 10, \"BEST_MODEL_PATH\": \"./best_model.pth\", \"n_way\": 16, \"datasets\": [{\"labels\": [\"1-10\", \"1-12\", \"1-14\", \"1-16\", \"1-18\", \"1-19\", \"1-8\", \"10-11\", \"10-17\", \"10-4\", \"10-7\", \"11-1\", \"11-10\", \"11-19\", \"11-20\", \"11-4\", \"11-7\", \"12-19\", \"12-20\", \"12-7\", \"13-14\", \"13-18\", \"13-19\", \"13-20\", \"13-3\", \"13-7\", \"14-10\", \"14-11\", \"14-12\", \"14-13\", \"14-14\", \"14-19\", \"14-20\", \"14-7\", \"14-8\", \"14-9\", \"15-1\", \"15-19\", \"15-6\", \"16-1\", \"16-16\", \"16-19\", \"16-20\", \"17-10\", \"17-11\", \"18-1\", \"18-10\", \"18-11\", \"18-12\", \"18-13\", \"18-14\", \"18-15\", \"18-16\", \"18-17\", \"18-19\", \"18-2\", \"18-20\", \"18-4\", \"18-5\", \"18-7\", \"18-8\", \"18-9\", \"19-1\", \"19-10\", \"19-11\", \"19-12\", \"19-13\", \"19-14\", \"19-15\", \"19-19\", \"19-2\", \"19-20\", \"19-3\", \"19-4\", \"19-6\", \"19-7\", \"19-8\", \"19-9\", \"2-1\", \"2-13\", \"2-15\", \"2-3\", \"2-4\", \"2-5\", \"2-6\", \"2-7\", \"2-8\", \"20-1\", \"20-12\", \"20-14\", \"20-15\", \"20-16\", \"20-18\", \"20-19\", \"20-20\", \"20-3\", \"20-4\", \"20-5\", \"20-7\", \"20-8\", \"3-1\", \"3-13\", \"3-18\", \"3-2\", \"3-8\", \"4-1\", \"4-10\", \"4-11\", \"5-1\", \"5-5\", \"6-1\", \"6-15\", \"6-6\", \"7-10\", \"7-11\", \"7-12\", \"7-13\", \"7-14\", \"7-7\", \"7-8\", \"7-9\", \"8-1\", \"8-13\", \"8-14\", \"8-18\", \"8-20\", \"8-3\", \"8-8\", \"9-1\", \"9-7\"], \"domains\": [1, 2, 3, 4], \"num_examples_per_domain_per_label\": -1, \"pickle_path\": \"/root/csc500-main/datasets/wisig.node3-19.stratified_ds.2022A.pkl\", \"source_or_target_dataset\": \"target\", \"x_transforms\": [\"unit_mag\"], \"episode_transforms\": [], \"domain_prefix\": \"Wisig_\"}, {\"labels\": [\"3123D52\", \"3123D65\", \"3123D79\", \"3123D80\", \"3123D54\", \"3123D70\", \"3123D7B\", \"3123D89\", \"3123D58\", \"3123D76\", \"3123D7D\", \"3123EFE\", \"3123D64\", \"3123D78\", \"3123D7E\", \"3124E4A\"], \"domains\": [32, 38, 8, 44, 14, 50, 20, 26], \"num_examples_per_domain_per_label\": 2000, \"pickle_path\": \"/root/csc500-main/datasets/oracle.Run1_10kExamples_stratified_ds.2022A.pkl\", \"source_or_target_dataset\": \"source\", \"x_transforms\": [\"unit_mag\"], \"episode_transforms\": [], \"domain_prefix\": \"ORACLE.run1\"}], \"dataset_seed\": 1337, \"seed\": 1337, \"x_shape\": [2, 256], \"domains_source\": [\"ORACLE.run132\", \"ORACLE.run138\", \"ORACLE.run18\", \"ORACLE.run144\", \"ORACLE.run114\", \"ORACLE.run150\", \"ORACLE.run120\", \"ORACLE.run126\"], \"domains_target\": [\"Wisig_1\", \"Wisig_2\", \"Wisig_3\", \"Wisig_4\"]}, \"results\": {\"source_test_label_accuracy\": 0.58984375, \"source_test_label_loss\": 1.5377413034439087, \"target_test_label_accuracy\": 0.7013673890608875, \"target_test_label_loss\": 15.789554595947266, \"source_val_label_accuracy\": 0.5957682291666667, \"source_val_label_loss\": 1.5075217485427856, \"target_val_label_accuracy\": 0.699417372881356, \"target_val_label_loss\": 15.978503227233887, \"total_epochs_trained\": 14, \"total_experiment_time_secs\": 2745.6983711719513, \"confusion\": {\"ORACLE.run114\": {\"15\": {\"15\": 202, \"7\": 36, \"5\": 1, \"2\": 1}, \"3\": {\"3\": 166, \"14\": 21, \"4\": 34, \"2\": 9, \"1\": 2, \"5\": 3, \"10\": 2, \"0\": 2, \"6\": 1}, \"6\": {\"2\": 18, \"6\": 120, \"14\": 31, \"13\": 70, \"4\": 1}, \"1\": {\"1\": 198, \"7\": 2, \"4\": 7, \"5\": 33}, \"8\": {\"8\": 238, \"3\": 1, \"1\": 1}, \"10\": {\"0\": 60, \"10\": 168, \"11\": 7, \"14\": 4, \"3\": 1}, \"9\": {\"9\": 234, \"8\": 1, \"12\": 1, \"11\": 4}, \"13\": {\"13\": 81, \"6\": 90, \"14\": 37, \"2\": 29, \"5\": 2, \"10\": 1}, \"12\": {\"12\": 234, \"9\": 6}, \"5\": {\"5\": 130, \"4\": 53, \"1\": 34, \"15\": 4, \"3\": 5, \"2\": 13, \"7\": 1}, \"0\": {\"10\": 65, \"0\": 150, \"3\": 18, \"11\": 7}, \"2\": {\"15\": 6, \"3\": 9, \"5\": 25, \"2\": 103, \"4\": 22, \"14\": 39, \"13\": 14, \"6\": 20, \"7\": 1, \"1\": 1}, \"11\": {\"11\": 190, \"9\": 14, \"0\": 13, \"10\": 23}, \"14\": {\"13\": 37, \"3\": 13, \"14\": 125, \"2\": 30, \"6\": 24, \"10\": 3, \"4\": 8}, \"7\": {\"7\": 212, \"15\": 16, \"5\": 5, \"1\": 7}, \"4\": {\"4\": 117, \"5\": 35, \"2\": 33, \"3\": 50, \"1\": 3, \"14\": 2}}, \"ORACLE.run120\": {\"3\": {\"8\": 16, \"2\": 28, \"15\": 3, \"5\": 13, \"4\": 27, \"3\": 49, \"0\": 10, \"9\": 34, \"1\": 9, \"12\": 39, \"7\": 12}, \"15\": {\"15\": 100, \"5\": 28, \"1\": 32, \"12\": 9, \"0\": 30, \"13\": 31, \"9\": 6, \"2\": 2, \"3\": 2}, \"8\": {\"8\": 88, \"4\": 38, \"7\": 39, \"10\": 36, \"14\": 9, \"3\": 16, \"6\": 6, \"9\": 2, \"5\": 2, \"2\": 3, \"12\": 1}, \"4\": {\"8\": 58, \"9\": 4, \"10\": 17, \"4\": 129, \"3\": 15, \"12\": 5, \"7\": 6, \"5\": 3, \"1\": 1, \"0\": 2}, \"14\": {\"14\": 124, \"7\": 4, \"6\": 49, \"10\": 55, \"4\": 2, \"8\": 6}, \"0\": {\"15\": 31, \"1\": 45, \"0\": 61, \"12\": 32, \"5\": 39, \"8\": 2, \"9\": 10, \"3\": 10, \"7\": 2, \"2\": 4, \"13\": 3, \"4\": 1}, \"7\": {\"7\": 123, \"8\": 25, \"12\": 4, \"2\": 36, \"9\": 19, \"3\": 17, \"6\": 8, \"4\": 2, \"14\": 2, \"13\": 2, \"10\": 2}, \"6\": {\"6\": 169, \"8\": 2, \"14\": 47, \"10\": 13, \"7\": 8, \"11\": 1}, \"10\": {\"14\": 41, \"10\": 133, \"8\": 31, \"4\": 14, \"6\": 15, \"7\": 2, \"3\": 4}, \"5\": {\"12\": 31, \"0\": 55, \"5\": 61, \"15\": 28, \"4\": 3, \"3\": 11, \"1\": 34, \"9\": 12, \"2\": 5}, \"2\": {\"2\": 77, \"13\": 29, \"3\": 17, \"1\": 8, \"7\": 36, \"15\": 2, \"12\": 13, \"9\": 43, \"4\": 2, \"8\": 3, \"5\": 7, \"0\": 3}, \"12\": {\"9\": 24, \"0\": 17, \"3\": 38, \"4\": 8, \"1\": 24, \"7\": 4, \"15\": 12, \"12\": 60, \"5\": 31, \"2\": 16, \"13\": 4, \"8\": 2}, \"9\": {\"2\": 56, \"7\": 28, \"3\": 43, \"4\": 7, \"9\": 47, \"12\": 29, \"8\": 4, \"13\": 9, \"5\": 4, \"15\": 2, \"0\": 5, \"1\": 6}, \"1\": {\"15\": 45, \"1\": 52, \"0\": 33, \"9\": 6, \"13\": 7, \"12\": 36, \"5\": 50, \"4\": 2, \"3\": 7, \"2\": 2}, \"11\": {\"11\": 239, \"2\": 1}, \"13\": {\"13\": 179, \"15\": 14, \"9\": 8, \"1\": 4, \"11\": 2, \"2\": 23, \"12\": 2, \"3\": 2, \"5\": 6}}, \"ORACLE.run138\": {\"5\": {\"5\": 102, \"8\": 55, \"0\": 34, \"15\": 6, \"1\": 7, \"7\": 16, \"6\": 7, \"10\": 2, \"3\": 5, \"9\": 6}, \"8\": {\"5\": 58, \"8\": 122, \"15\": 4, \"10\": 10, \"0\": 37, \"7\": 7, \"1\": 1, \"13\": 1}, \"11\": {\"14\": 78, \"11\": 156, \"12\": 4, \"10\": 2}, \"1\": {\"1\": 213, \"15\": 22, \"6\": 3, \"13\": 1, \"5\": 1}, \"10\": {\"10\": 135, \"13\": 26, \"8\": 13, \"12\": 44, \"15\": 7, \"0\": 7, \"14\": 5, \"2\": 1, \"5\": 1, \"7\": 1}, \"15\": {\"15\": 146, \"13\": 57, \"8\": 11, \"1\": 19, \"10\": 2, \"5\": 4, \"2\": 1}, \"3\": {\"3\": 196, \"0\": 6, \"6\": 4, \"9\": 28, \"7\": 6}, \"7\": {\"7\": 162, \"0\": 53, \"3\": 3, \"8\": 13, \"5\": 7, \"10\": 1, \"9\": 1}, \"4\": {\"4\": 220, \"12\": 20}, \"14\": {\"11\": 56, \"14\": 163, \"2\": 19, \"12\": 2}, \"9\": {\"3\": 16, \"9\": 126, \"6\": 94, \"5\": 4}, \"12\": {\"12\": 196, \"4\": 18, \"10\": 24, \"7\": 1, \"14\": 1}, \"6\": {\"9\": 76, \"6\": 157, \"0\": 1, \"5\": 5, \"3\": 1}, \"2\": {\"2\": 211, \"14\": 16, \"13\": 11, \"11\": 2}, \"0\": {\"7\": 75, \"5\": 28, \"3\": 10, \"8\": 59, \"0\": 49, \"15\": 3, \"10\": 12, \"13\": 1, \"9\": 3}, \"13\": {\"13\": 129, \"15\": 68, \"10\": 18, \"2\": 8, \"1\": 5, \"14\": 2, \"5\": 1, \"8\": 7, \"0\": 2}}, \"ORACLE.run18\": {\"9\": {\"9\": 240}, \"10\": {\"1\": 4, \"13\": 22, \"5\": 15, \"10\": 133, \"14\": 49, \"4\": 8, \"11\": 4, \"0\": 4, \"6\": 1}, \"13\": {\"6\": 20, \"14\": 23, \"13\": 53, \"0\": 65, \"4\": 43, \"10\": 22, \"7\": 11, \"1\": 3}, \"0\": {\"4\": 21, \"0\": 108, \"6\": 22, \"13\": 55, \"7\": 23, \"10\": 8, \"14\": 3}, \"1\": {\"5\": 15, \"11\": 97, \"4\": 2, \"1\": 88, \"14\": 27, \"13\": 5, \"10\": 6}, \"15\": {\"8\": 22, \"2\": 4, \"15\": 144, \"12\": 59, \"3\": 9, \"7\": 2}, \"5\": {\"5\": 194, \"10\": 20, \"14\": 4, \"1\": 14, \"11\": 8}, \"3\": {\"3\": 159, \"12\": 41, \"2\": 35, \"15\": 5}, \"6\": {\"4\": 33, \"7\": 59, \"6\": 103, \"0\": 15, \"8\": 10, \"13\": 14, \"11\": 2, \"1\": 1, \"14\": 3}, \"11\": {\"11\": 100, \"14\": 17, \"1\": 93, \"5\": 20, \"8\": 4, \"10\": 2, \"13\": 2, \"4\": 2}, \"8\": {\"8\": 192, \"15\": 35, \"12\": 1, \"6\": 7, \"1\": 1, \"7\": 4}, \"4\": {\"4\": 67, \"11\": 2, \"6\": 39, \"14\": 29, \"10\": 17, \"7\": 9, \"13\": 50, \"0\": 24, \"1\": 1, \"8\": 2}, \"12\": {\"12\": 111, \"15\": 63, \"3\": 51, \"8\": 10, \"2\": 5}, \"14\": {\"14\": 81, \"10\": 47, \"5\": 9, \"4\": 38, \"1\": 21, \"11\": 10, \"13\": 24, \"6\": 6, \"0\": 4}, \"2\": {\"3\": 62, \"2\": 145, \"8\": 6, \"15\": 6, \"7\": 9, \"12\": 11, \"6\": 1}, \"7\": {\"7\": 137, \"0\": 22, \"6\": 55, \"13\": 7, \"14\": 3, \"8\": 7, \"4\": 7, \"2\": 2}}, \"ORACLE.run150\": {\"7\": {\"13\": 58, \"7\": 129, \"5\": 32, \"10\": 18, \"0\": 2, \"6\": 1}, \"3\": {\"3\": 229, \"8\": 11}, \"8\": {\"8\": 234, \"10\": 5, \"3\": 1}, \"2\": {\"2\": 206, \"0\": 33, \"1\": 1}, \"14\": {\"14\": 231, \"12\": 8, \"1\": 1}, \"4\": {\"4\": 86, \"6\": 30, \"15\": 44, \"13\": 10, \"1\": 41, \"5\": 23, \"7\": 6}, \"6\": {\"6\": 122, \"5\": 25, \"4\": 38, \"13\": 18, \"1\": 31, \"15\": 3, \"2\": 2, \"0\": 1}, \"15\": {\"15\": 162, \"1\": 44, \"4\": 23, \"11\": 7, \"6\": 4}, \"10\": {\"10\": 200, \"0\": 21, \"7\": 12, \"8\": 3, \"13\": 3, \"5\": 1}, \"11\": {\"9\": 26, \"11\": 193, \"15\": 16, \"1\": 1, \"14\": 3, \"12\": 1}, \"13\": {\"7\": 55, \"13\": 102, \"5\": 52, \"6\": 24, \"10\": 2, \"4\": 3, \"0\": 2}, \"9\": {\"9\": 179, \"11\": 42, \"12\": 19}, \"0\": {\"0\": 183, \"2\": 39, \"10\": 12, \"13\": 1, \"1\": 1, \"6\": 4}, \"1\": {\"6\": 38, \"15\": 57, \"1\": 114, \"4\": 29, \"2\": 1, \"5\": 1}, \"12\": {\"12\": 197, \"11\": 4, \"14\": 14, \"9\": 25}, \"5\": {\"6\": 48, \"7\": 50, \"13\": 50, \"5\": 53, \"4\": 27, \"1\": 10, \"15\": 1, \"10\": 1}}, \"ORACLE.run132\": {\"8\": {\"8\": 159, \"5\": 34, \"13\": 24, \"0\": 15, \"7\": 1, \"3\": 6, \"4\": 1}, \"14\": {\"11\": 73, \"14\": 68, \"7\": 48, \"5\": 12, \"4\": 18, \"13\": 11, \"0\": 3, \"8\": 3, \"2\": 1, \"3\": 3}, \"2\": {\"2\": 164, \"7\": 11, \"4\": 42, \"0\": 17, \"14\": 4, \"5\": 2}, \"0\": {\"7\": 9, \"2\": 24, \"0\": 101, \"8\": 21, \"14\": 1, \"5\": 14, \"4\": 61, \"13\": 8, \"11\": 1}, \"1\": {\"1\": 237, \"10\": 3}, \"10\": {\"10\": 239, \"1\": 1}, \"11\": {\"11\": 150, \"14\": 55, \"7\": 14, \"13\": 8, \"3\": 9, \"5\": 4}, \"5\": {\"3\": 14, \"13\": 52, \"5\": 56, \"7\": 22, \"4\": 27, \"0\": 33, \"8\": 16, \"11\": 8, \"2\": 4, \"14\": 8}, \"15\": {\"15\": 238, \"3\": 1, \"8\": 1}, \"3\": {\"3\": 220, \"5\": 5, \"13\": 8, \"11\": 5, \"14\": 1, \"8\": 1}, \"12\": {\"12\": 240}, \"7\": {\"7\": 79, \"14\": 52, \"13\": 20, \"5\": 18, \"11\": 16, \"0\": 10, \"4\": 34, \"3\": 1, \"2\": 6, \"8\": 4}, \"13\": {\"5\": 50, \"13\": 68, \"8\": 32, \"11\": 11, \"3\": 19, \"14\": 19, \"0\": 18, \"7\": 8, \"4\": 15}, \"6\": {\"6\": 240}, \"4\": {\"0\": 62, \"4\": 82, \"5\": 15, \"2\": 38, \"7\": 24, \"8\": 2, \"13\": 11, \"14\": 5, \"11\": 1}, \"9\": {\"9\": 240}}, \"ORACLE.run126\": {\"4\": {\"0\": 31, \"3\": 1, \"4\": 43, \"1\": 41, \"10\": 8, \"14\": 52, \"8\": 30, \"7\": 29, \"9\": 2, \"6\": 2, \"2\": 1}, \"12\": {\"12\": 236, \"11\": 4}, \"10\": {\"9\": 6, \"0\": 44, \"6\": 23, \"10\": 73, \"14\": 26, \"8\": 32, \"4\": 19, \"1\": 12, \"15\": 3, \"7\": 1, \"5\": 1}, \"0\": {\"10\": 47, \"14\": 48, \"0\": 42, \"8\": 19, \"4\": 33, \"6\": 13, \"3\": 2, \"1\": 17, \"7\": 12, \"15\": 3, \"9\": 3, \"2\": 1}, \"13\": {\"5\": 40, \"13\": 144, \"15\": 23, \"9\": 14, \"6\": 10, \"2\": 6, \"12\": 1, \"10\": 1, \"3\": 1}, \"9\": {\"6\": 40, \"9\": 71, \"8\": 14, \"4\": 2, \"13\": 8, \"15\": 46, \"5\": 39, \"10\": 8, \"7\": 5, \"0\": 3, \"2\": 4}, \"3\": {\"3\": 133, \"2\": 54, \"5\": 4, \"7\": 45, \"1\": 1, \"4\": 3}, \"2\": {\"2\": 85, \"15\": 22, \"3\": 67, \"7\": 26, \"8\": 12, \"5\": 18, \"9\": 6, \"0\": 2, \"6\": 1, \"1\": 1}, \"5\": {\"5\": 83, \"13\": 32, \"15\": 68, \"8\": 9, \"9\": 22, \"3\": 4, \"6\": 7, \"2\": 14, \"7\": 1}, \"14\": {\"1\": 59, \"14\": 67, \"0\": 32, \"10\": 21, \"4\": 38, \"7\": 10, \"8\": 11, \"2\": 1, \"9\": 1}, \"8\": {\"0\": 20, \"6\": 13, \"10\": 26, \"8\": 59, \"4\": 22, \"9\": 29, \"14\": 10, \"7\": 21, \"15\": 23, \"5\": 4, \"1\": 4, \"3\": 5, \"2\": 4}, \"7\": {\"7\": 88, \"8\": 22, \"2\": 25, \"14\": 8, \"3\": 52, \"4\": 21, \"5\": 3, \"0\": 5, \"1\": 3, \"15\": 7, \"10\": 3, \"9\": 3}, \"6\": {\"6\": 142, \"10\": 25, \"9\": 39, \"14\": 1, \"0\": 5, \"4\": 1, \"15\": 11, \"8\": 8, \"5\": 2, \"13\": 6}, \"11\": {\"11\": 225, \"12\": 15}, \"15\": {\"8\": 16, \"6\": 18, \"5\": 56, \"9\": 49, \"2\": 14, \"15\": 58, \"13\": 19, \"0\": 1, \"10\": 2, \"7\": 5, \"3\": 1, \"4\": 1}, \"1\": {\"1\": 94, \"8\": 7, \"0\": 20, \"14\": 66, \"4\": 35, \"10\": 11, \"7\": 5, \"3\": 1, \"6\": 1}}, \"ORACLE.run144\": {\"12\": {\"12\": 172, \"10\": 17, \"1\": 47, \"3\": 4}, \"7\": {\"7\": 148, \"9\": 43, \"13\": 5, \"2\": 42, \"6\": 2}, \"5\": {\"5\": 198, \"14\": 10, \"0\": 21, \"8\": 2, \"15\": 9}, \"15\": {\"15\": 178, \"0\": 23, \"14\": 22, \"4\": 6, \"5\": 5, \"8\": 6}, \"8\": {\"8\": 158, \"0\": 70, \"15\": 4, \"5\": 8}, \"2\": {\"10\": 40, \"7\": 33, \"2\": 152, \"1\": 13, \"3\": 2}, \"13\": {\"13\": 150, \"9\": 34, \"6\": 34, \"11\": 18, \"4\": 4}, \"4\": {\"4\": 174, \"14\": 65, \"13\": 1}, \"0\": {\"5\": 28, \"0\": 118, \"15\": 21, \"8\": 73}, \"6\": {\"6\": 146, \"13\": 44, \"9\": 18, \"7\": 16, \"11\": 14, \"2\": 2}, \"9\": {\"9\": 136, \"7\": 56, \"6\": 20, \"13\": 22, \"4\": 3, \"2\": 3}, \"11\": {\"11\": 207, \"13\": 17, \"6\": 15, \"9\": 1}, \"10\": {\"10\": 162, \"1\": 17, \"12\": 35, \"2\": 25, \"7\": 1}, \"14\": {\"14\": 122, \"4\": 91, \"15\": 24, \"5\": 3}, \"1\": {\"1\": 131, \"10\": 16, \"12\": 54, \"3\": 32, \"2\": 7}, \"3\": {\"1\": 26, \"3\": 209, \"2\": 4, \"7\": 1}}, \"Wisig_3\": {\"109\": {\"109\": 49, \"44\": 2, \"64\": 1, \"80\": 1, \"43\": 3, \"23\": 1, \"92\": 2, \"89\": 1, \"102\": 13, \"69\": 5, \"33\": 10, \"118\": 8, \"16\": 10, \"117\": 1, \"93\": 8, \"87\": 1, \"116\": 3, \"11\": 4, \"84\": 2, \"2\": 1, \"18\": 1, \"26\": 1}, \"127\": {\"127\": 116, \"46\": 1, \"88\": 1, \"34\": 2, \"69\": 1, \"108\": 1, \"95\": 1, \"98\": 2, \"7\": 3}, \"14\": {\"14\": 69, \"100\": 3, \"93\": 1, \"90\": 1, \"122\": 1, \"19\": 1, \"84\": 1, \"87\": 1, \"62\": 1, \"26\": 1}, \"7\": {\"7\": 99, \"5\": 1, \"4\": 1, \"71\": 1, \"127\": 4, \"3\": 2, \"117\": 1, \"105\": 2, \"108\": 1}, \"129\": {\"100\": 2, \"14\": 1, \"129\": 10, \"49\": 1, \"110\": 5, \"103\": 2, \"3\": 1, \"87\": 2, \"114\": 2, \"5\": 2, \"122\": 1, \"60\": 3}, \"57\": {\"57\": 15, \"55\": 1, \"4\": 1, \"74\": 1, \"32\": 1, \"105\": 1}, \"84\": {\"44\": 3, \"84\": 76, \"82\": 2, \"29\": 1, \"90\": 13, \"62\": 10, \"87\": 1, \"92\": 1, \"88\": 1}, \"114\": {\"114\": 110, \"107\": 1, \"31\": 1, \"1\": 5, \"105\": 2, \"3\": 3, \"69\": 1, \"113\": 1}, \"44\": {\"44\": 62, \"109\": 1, \"31\": 4, \"29\": 3, \"102\": 1, \"62\": 1}, \"21\": {\"21\": 45, \"36\": 1, \"26\": 1, \"94\": 1}, \"46\": {\"46\": 10, \"127\": 1, \"85\": 2, \"34\": 1, \"91\": 1, \"66\": 1}, \"100\": {\"100\": 12, \"14\": 1, \"87\": 1, \"50\": 2}, \"63\": {\"63\": 11, \"121\": 2, \"18\": 1, \"81\": 1, \"122\": 1}, \"24\": {\"24\": 34, \"93\": 1, \"36\": 5, \"27\": 2, \"30\": 2, \"94\": 4}, \"107\": {\"14\": 1, \"107\": 113, \"1\": 1, \"33\": 1, \"23\": 2}, \"35\": {\"46\": 2, \"35\": 8, \"27\": 1, \"52\": 1}, \"81\": {\"81\": 30, \"18\": 1, \"63\": 1}, \"64\": {\"64\": 17, \"92\": 3}, \"59\": {\"59\": 11, \"51\": 1}, \"33\": {\"33\": 94, \"102\": 14, \"117\": 1, \"43\": 1, \"113\": 1, \"118\": 1, \"69\": 2}, \"34\": {\"124\": 2, \"47\": 2, \"52\": 3, \"34\": 7, \"53\": 1, \"129\": 3, \"37\": 1, \"122\": 1, \"98\": 1, \"19\": 1, \"125\": 1, \"105\": 1, \"50\": 1, \"103\": 1, \"28\": 1, \"12\": 1, \"1\": 1, \"111\": 1, \"91\": 2}, \"36\": {\"36\": 102, \"25\": 2, \"24\": 2, \"27\": 4, \"127\": 2, \"94\": 3, \"30\": 3, \"15\": 1, \"97\": 1}, \"79\": {\"79\": 11, \"90\": 1}, \"80\": {\"109\": 1, \"80\": 14, \"43\": 1}, \"77\": {\"77\": 12, \"36\": 1, \"124\": 1, \"5\": 2}, \"22\": {\"22\": 15, \"28\": 1}, \"124\": {\"124\": 108, \"77\": 2, \"98\": 6, \"12\": 2, \"19\": 1, \"16\": 1, \"85\": 2, \"62\": 1, \"127\": 1}, \"2\": {\"2\": 13, \"64\": 1, \"102\": 2, \"26\": 3, \"43\": 1, \"96\": 1, \"117\": 3, \"33\": 1, \"109\": 2, \"118\": 1}, \"87\": {\"79\": 5, \"87\": 58, \"62\": 6, \"11\": 11, \"16\": 7, \"84\": 6, \"90\": 13, \"40\": 2, \"29\": 1, \"32\": 1, \"93\": 2}, \"105\": {\"105\": 108, \"48\": 1, \"3\": 1, \"114\": 3, \"5\": 2, \"95\": 1, \"57\": 1, \"86\": 1, \"4\": 4}, \"95\": {\"95\": 32}, \"43\": {\"43\": 23, \"113\": 2, \"33\": 2, \"80\": 3, \"93\": 5, \"117\": 1, \"82\": 2, \"109\": 5, \"18\": 1, \"118\": 5, \"69\": 3, \"64\": 1, \"121\": 1, \"44\": 2}, \"56\": {\"128\": 2, \"56\": 10}, \"18\": {\"18\": 115, \"26\": 2, \"118\": 1, \"126\": 2, \"21\": 1, \"67\": 2, \"111\": 1}, \"85\": {\"86\": 1, \"85\": 31, \"66\": 1, \"46\": 1, \"98\": 1, \"56\": 1}, \"113\": {\"113\": 90, \"121\": 1, \"117\": 14, \"120\": 2, \"26\": 9, \"39\": 1, \"119\": 2, \"93\": 1}, \"97\": {\"97\": 13, \"15\": 2, \"58\": 1, \"27\": 1, \"73\": 2, \"13\": 1}, \"86\": {\"95\": 2, \"129\": 2, \"86\": 18, \"26\": 1, \"128\": 2, \"15\": 1, \"55\": 1, \"125\": 1}, \"128\": {\"85\": 4, \"50\": 1, \"115\": 3, \"5\": 2, \"86\": 1, \"128\": 5, \"23\": 2, \"124\": 1, \"107\": 1, \"91\": 1, \"68\": 1, \"114\": 1, \"22\": 2, \"53\": 1, \"32\": 2, \"40\": 1, \"101\": 1, \"122\": 1, \"98\": 1}, \"123\": {\"18\": 1, \"123\": 14, \"67\": 1}, \"8\": {\"59\": 1, \"8\": 80, \"83\": 2, \"35\": 2, \"12\": 7, \"124\": 3, \"10\": 16, \"34\": 2, \"111\": 2, \"98\": 3, \"42\": 3, \"128\": 1, \"73\": 1, \"101\": 1, \"30\": 1, \"108\": 3, \"125\": 1, \"0\": 1}, \"110\": {\"110\": 62, \"67\": 1, \"63\": 1, \"78\": 1, \"62\": 1, \"1\": 3, \"19\": 2, \"102\": 1, \"0\": 1, \"3\": 5, \"114\": 3, \"101\": 1, \"9\": 1, \"122\": 1, \"5\": 2, \"69\": 1, \"93\": 1, \"126\": 1, \"127\": 1}, \"126\": {\"126\": 74, \"15\": 1, \"39\": 4, \"18\": 9, \"106\": 1, \"113\": 3, \"81\": 4, \"63\": 2, \"5\": 1, \"117\": 1, \"110\": 1, \"26\": 1, \"16\": 2}, \"42\": {\"42\": 9, \"45\": 1, \"101\": 3, \"70\": 1, \"60\": 1, \"91\": 1, \"58\": 2, \"72\": 1, \"112\": 2, \"20\": 1, \"51\": 1, \"108\": 1, \"0\": 1, \"19\": 1, \"23\": 2}, \"96\": {\"96\": 13, \"113\": 1, \"43\": 2, \"109\": 3, \"2\": 1}, \"83\": {\"83\": 24}, \"54\": {\"54\": 13, \"94\": 3}, \"65\": {\"45\": 1, \"121\": 1, \"56\": 2, \"65\": 4, \"49\": 2, \"112\": 1, \"92\": 1}, \"30\": {\"30\": 58, \"112\": 1, \"58\": 1, \"0\": 9, \"36\": 1, \"106\": 2, \"27\": 1, \"69\": 1, \"15\": 4, \"73\": 3, \"126\": 1, \"10\": 2}, \"121\": {\"113\": 1, \"121\": 19, \"11\": 2, \"90\": 2, \"21\": 1, \"117\": 3, \"123\": 2, \"109\": 1, \"8\": 1}, \"68\": {\"42\": 1, \"45\": 1, \"68\": 12, \"72\": 1, \"119\": 1}, \"45\": {\"65\": 2, \"45\": 13, \"94\": 1}, \"48\": {\"121\": 1, \"45\": 1, \"34\": 2, \"77\": 1, \"50\": 1, \"120\": 2, \"112\": 1, \"92\": 1, \"128\": 1, \"44\": 1, \"118\": 2, \"5\": 1, \"33\": 1}, \"4\": {\"4\": 79, \"3\": 3, \"114\": 2, \"71\": 3, \"39\": 1, \"105\": 3, \"5\": 2, \"95\": 1, \"86\": 1, \"87\": 1}, \"67\": {\"67\": 16}, \"103\": {\"1\": 1, \"103\": 11, \"32\": 3, \"33\": 1}, \"74\": {\"74\": 16}, \"1\": {\"103\": 1, \"1\": 96, \"20\": 1, \"71\": 1, \"107\": 3, \"114\": 4, \"27\": 2}, \"61\": {\"61\": 16}, \"101\": {\"101\": 38, \"9\": 1, \"42\": 1, \"8\": 2, \"6\": 1, \"89\": 1, \"25\": 1, \"58\": 1, \"51\": 2, \"12\": 2, \"0\": 2}, \"93\": {\"93\": 115, \"78\": 1, \"44\": 3, \"121\": 1, \"16\": 5, \"11\": 8, \"126\": 3, \"109\": 2}, \"26\": {\"26\": 114, \"120\": 2, \"117\": 10, \"113\": 2, \"2\": 2}, \"71\": {\"56\": 1, \"4\": 1, \"71\": 42, \"62\": 1, \"113\": 1, \"127\": 4, \"3\": 8, \"105\": 1, \"31\": 1, \"5\": 5, \"86\": 1, \"23\": 1, \"7\": 1}, \"15\": {\"15\": 94, \"97\": 1, \"106\": 1, \"126\": 1, \"30\": 2, \"94\": 2, \"0\": 2, \"18\": 1}, \"55\": {\"55\": 14, \"74\": 2}, \"104\": {\"104\": 16}, \"112\": {\"112\": 13, \"85\": 2, \"27\": 1}, \"102\": {\"102\": 92, \"109\": 1, \"33\": 23, \"90\": 1, \"69\": 4, \"118\": 1}, \"117\": {\"117\": 105, \"121\": 2, \"113\": 5}, \"119\": {\"119\": 15, \"120\": 1}, \"20\": {\"20\": 8, \"122\": 2, \"106\": 1, \"74\": 1, \"114\": 1, \"129\": 2, \"32\": 1}, \"120\": {\"120\": 17, \"26\": 3}, \"39\": {\"120\": 1, \"39\": 47, \"123\": 1, \"2\": 2, \"70\": 3, \"117\": 17, \"26\": 6, \"121\": 1, \"113\": 12, \"18\": 4, \"126\": 7, \"61\": 1, \"67\": 1, \"106\": 1, \"110\": 1, \"109\": 1, \"16\": 1, \"93\": 1}, \"49\": {\"49\": 2, \"42\": 1, \"51\": 1, \"10\": 2, \"11\": 2, \"75\": 1, \"122\": 1, \"91\": 1, \"8\": 2, \"93\": 1, \"14\": 3, \"129\": 1, \"52\": 1, \"79\": 1, \"28\": 2, \"82\": 2}, \"53\": {\"53\": 19, \"14\": 1}, \"92\": {\"92\": 23, \"39\": 1, \"2\": 2, \"43\": 1, \"31\": 2, \"80\": 1, \"118\": 2}, \"3\": {\"114\": 4, \"3\": 95, \"86\": 3, \"5\": 11, \"71\": 2, \"34\": 1}, \"47\": {\"47\": 12}, \"115\": {\"115\": 15, \"65\": 1}, \"58\": {\"58\": 15, \"106\": 1}, \"29\": {\"29\": 28, \"90\": 1, \"11\": 1, \"84\": 1, \"44\": 1}, \"12\": {\"12\": 93, \"124\": 3, \"111\": 4, \"10\": 3, \"34\": 1}, \"62\": {\"62\": 91, \"11\": 3, \"82\": 1, \"44\": 1, \"18\": 1, \"102\": 1, \"84\": 8, \"90\": 8, \"16\": 1, \"17\": 1, \"29\": 1, \"36\": 1}, \"11\": {\"11\": 62, \"62\": 17, \"64\": 1, \"116\": 3, \"81\": 1, \"93\": 9, \"16\": 8, \"14\": 2, \"40\": 1, \"90\": 16, \"84\": 5, \"87\": 10, \"109\": 1, \"43\": 1, \"31\": 1, \"29\": 1, \"33\": 1}, \"72\": {\"72\": 19, \"73\": 1, \"111\": 5, \"59\": 2, \"5\": 1}, \"98\": {\"98\": 87, \"77\": 2, \"124\": 8, \"34\": 2, \"41\": 1, \"125\": 1, \"108\": 3, \"12\": 1, \"7\": 1}, \"122\": {\"122\": 27, \"74\": 2, \"1\": 4, \"45\": 1, \"19\": 5, \"49\": 1, \"107\": 1, \"3\": 1, \"71\": 1, \"129\": 4, \"23\": 1, \"110\": 1, \"39\": 1, \"32\": 2, \"40\": 1, \"88\": 2, \"115\": 1, \"48\": 1, \"55\": 1, \"84\": 1, \"113\": 1}, \"17\": {\"121\": 2, \"67\": 1, \"64\": 2, \"63\": 1, \"93\": 1, \"104\": 2, \"17\": 2, \"71\": 1, \"113\": 2, \"35\": 1, \"117\": 1}, \"94\": {\"94\": 65, \"15\": 4, \"111\": 2, \"106\": 2, \"83\": 1, \"51\": 1, \"49\": 1, \"73\": 3, \"36\": 1, \"85\": 1, \"6\": 2, \"30\": 1}, \"106\": {\"106\": 69, \"75\": 1, \"126\": 1, \"0\": 10, \"15\": 5, \"125\": 2, \"58\": 1, \"88\": 1}, \"28\": {\"28\": 11, \"50\": 2, \"53\": 2, \"22\": 1}, \"69\": {\"69\": 60, \"81\": 1, \"89\": 2, \"102\": 7, \"117\": 1, \"118\": 2, \"33\": 5, \"87\": 1, \"93\": 1, \"70\": 1, \"113\": 1, \"109\": 2}, \"125\": {\"125\": 101, \"111\": 6, \"109\": 1, \"18\": 1, \"73\": 2, \"8\": 1, \"15\": 1, \"118\": 1}, \"19\": {\"68\": 2, \"85\": 5, \"16\": 1, \"52\": 4, \"50\": 1, \"14\": 3, \"12\": 1, \"107\": 4, \"110\": 1, \"53\": 1, \"47\": 1, \"73\": 1, \"34\": 1, \"60\": 1, \"98\": 1, \"29\": 1, \"11\": 1, \"19\": 1, \"1\": 1}, \"41\": {\"41\": 14, \"91\": 2}, \"60\": {\"60\": 6, \"28\": 4, \"57\": 1, \"87\": 1, \"50\": 2, \"90\": 2, \"19\": 1, \"62\": 2, \"44\": 1, \"65\": 1, \"29\": 2, \"129\": 1, \"31\": 1, \"11\": 1, \"86\": 1, \"122\": 1}, \"70\": {\"70\": 20, \"112\": 2, \"88\": 4, \"108\": 6, \"3\": 5, \"110\": 1, \"127\": 5, \"109\": 1, \"73\": 2, \"1\": 1, \"10\": 2, \"99\": 1, \"5\": 6, \"71\": 1, \"124\": 1, \"19\": 2, \"18\": 1, \"114\": 2, \"92\": 1, \"91\": 1, \"9\": 1, \"98\": 1, \"106\": 1, \"113\": 1, \"7\": 2, \"126\": 1}, \"27\": {\"27\": 74, \"25\": 3, \"36\": 6, \"88\": 1, \"97\": 1, \"30\": 2, \"94\": 3, \"15\": 1, \"24\": 1, \"70\": 1, \"106\": 1, \"0\": 2}, \"10\": {\"68\": 2, \"10\": 50, \"108\": 11, \"51\": 1, \"12\": 11, \"8\": 12, \"70\": 2, \"125\": 3, \"110\": 1, \"124\": 11, \"39\": 1, \"111\": 4, \"98\": 3, \"59\": 1, \"85\": 1, \"73\": 1, \"0\": 1, \"92\": 1, \"7\": 1}, \"108\": {\"46\": 1, \"108\": 73, \"47\": 1, \"127\": 19, \"10\": 4, \"66\": 2, \"9\": 1, \"85\": 3, \"70\": 6, \"39\": 1, \"88\": 2, \"3\": 2, \"124\": 6, \"5\": 3, \"111\": 1, \"98\": 9, \"49\": 1, \"34\": 1, \"95\": 1, \"126\": 1, \"8\": 2}, \"9\": {\"46\": 1, \"9\": 31}, \"25\": {\"25\": 13, \"30\": 2, \"108\": 1}, \"37\": {\"37\": 15, \"16\": 1}, \"0\": {\"0\": 98, \"8\": 1, \"101\": 1, \"30\": 5, \"106\": 7, \"94\": 1, \"73\": 1, \"15\": 2}, \"66\": {\"66\": 15, \"46\": 1}, \"51\": {\"35\": 1, \"51\": 13, \"59\": 2}, \"76\": {\"76\": 16}, \"32\": {\"45\": 1, \"64\": 1, \"115\": 2, \"32\": 13, \"105\": 3, \"107\": 4, \"40\": 2, \"53\": 2, \"4\": 1, \"103\": 1, \"1\": 2}, \"88\": {\"88\": 48, \"57\": 1, \"5\": 3, \"87\": 1, \"103\": 1, \"60\": 2, \"3\": 10, \"11\": 1, \"71\": 2, \"1\": 2, \"114\": 9, \"129\": 2, \"70\": 3, \"14\": 2, \"110\": 15, \"111\": 2, \"19\": 2, \"39\": 1, \"78\": 1, \"95\": 1, \"105\": 1, \"107\": 1, \"108\": 1}, \"31\": {\"44\": 5, \"31\": 13, \"29\": 1, \"62\": 1}, \"91\": {\"56\": 1, \"47\": 1, \"125\": 2, \"66\": 1, \"85\": 1, \"12\": 2, \"91\": 6, \"9\": 3, \"52\": 4, \"27\": 1, \"65\": 1, \"7\": 1}, \"90\": {\"90\": 103, \"87\": 7, \"29\": 1, \"84\": 8, \"62\": 3, \"16\": 1, \"11\": 2, \"126\": 1}, \"13\": {\"13\": 6, \"102\": 1, \"43\": 2, \"48\": 1, \"109\": 1, \"23\": 2, \"33\": 1, \"119\": 1, \"101\": 1}, \"50\": {\"50\": 12, \"107\": 2, \"22\": 1, \"1\": 1}, \"78\": {\"50\": 2, \"60\": 1, \"78\": 3, \"90\": 3, \"109\": 1, \"107\": 1, \"70\": 1, \"74\": 1, \"11\": 1, \"93\": 1, \"87\": 1}, \"116\": {\"11\": 3, \"116\": 11, \"109\": 3, \"29\": 3, \"31\": 2, \"82\": 1, \"44\": 1, \"16\": 2, \"84\": 1, \"118\": 1}, \"5\": {\"5\": 85, \"114\": 1, \"71\": 7, \"7\": 3, \"127\": 1, \"39\": 1, \"3\": 7, \"4\": 2, \"105\": 1, \"128\": 1, \"95\": 1, \"18\": 1, \"98\": 1}, \"75\": {\"75\": 15, \"101\": 1}, \"89\": {\"89\": 27, \"26\": 1}, \"16\": {\"16\": 80, \"11\": 14, \"84\": 2, \"93\": 4, \"39\": 1, \"90\": 8, \"87\": 2, \"0\": 1, \"29\": 2, \"44\": 2}, \"38\": {\"86\": 2, \"38\": 13, \"33\": 1}, \"118\": {\"64\": 4, \"118\": 54, \"102\": 12, \"23\": 3, \"113\": 2, \"109\": 8, \"11\": 1, \"69\": 3, \"117\": 2, \"33\": 1, \"43\": 1, \"119\": 1, \"120\": 2, \"93\": 4, \"126\": 1, \"26\": 1}, \"99\": {\"99\": 28, \"41\": 2, \"36\": 1, \"104\": 1, \"4\": 2, \"127\": 2}, \"52\": {\"52\": 14, \"111\": 1, \"35\": 1}, \"111\": {\"111\": 108, \"37\": 1, \"72\": 1, \"73\": 1, \"6\": 1, \"125\": 10, \"108\": 2, \"101\": 1, \"10\": 3}, \"23\": {\"126\": 2, \"12\": 1, \"13\": 1, \"18\": 2, \"19\": 1, \"121\": 2, \"113\": 4, \"105\": 1, \"30\": 1, \"10\": 1, \"124\": 3, \"23\": 4, \"127\": 3, \"98\": 1, \"108\": 1, \"95\": 1, \"7\": 1, \"26\": 1, \"9\": 1}, \"73\": {\"73\": 32, \"101\": 1, \"6\": 1, \"111\": 2, \"8\": 2, \"0\": 2}, \"82\": {\"82\": 22, \"29\": 1, \"90\": 1, \"116\": 2, \"110\": 1, \"129\": 1}, \"40\": {\"40\": 117, \"32\": 1, \"14\": 2, \"107\": 4, \"36\": 1, \"22\": 2, \"88\": 1}, \"6\": {\"6\": 6, \"91\": 1, \"101\": 2, \"15\": 2, \"73\": 1, \"12\": 3, \"125\": 1, \"24\": 2, \"94\": 6, \"124\": 1, \"46\": 1, \"83\": 1, \"72\": 1, \"127\": 1, \"106\": 1, \"10\": 1, \"7\": 1}}, \"Wisig_4\": {\"28\": {\"28\": 18, \"31\": 1, \"72\": 1}, \"4\": {\"4\": 81, \"10\": 1, \"85\": 4, \"86\": 4, \"56\": 1, \"71\": 2, \"46\": 1, \"124\": 4, \"27\": 1, \"24\": 1, \"114\": 2, \"1\": 2}, \"72\": {\"11\": 2, \"72\": 25, \"57\": 1, \"102\": 1, \"33\": 2, \"5\": 1}, \"111\": {\"111\": 105, \"12\": 14, \"16\": 2, \"106\": 2, \"125\": 1, \"101\": 8, \"0\": 1, \"91\": 1, \"26\": 1, \"10\": 1}, \"108\": {\"108\": 26, \"3\": 5, \"60\": 1, \"14\": 9, \"109\": 2, \"129\": 1, \"11\": 6, \"7\": 5, \"122\": 1, \"88\": 6, \"110\": 6, \"36\": 1, \"5\": 7, \"30\": 1, \"126\": 1, \"93\": 6, \"107\": 1, \"39\": 1, \"1\": 2, \"127\": 2, \"87\": 1, \"24\": 1}, \"43\": {\"31\": 1, \"43\": 49, \"116\": 2, \"33\": 11, \"87\": 2, \"118\": 5, \"14\": 2, \"107\": 1, \"102\": 4, \"62\": 4, \"93\": 8, \"110\": 6, \"82\": 1, \"5\": 3, \"122\": 3, \"109\": 5, \"11\": 5, \"50\": 1, \"72\": 4, \"98\": 1, \"0\": 1, \"84\": 1}, \"96\": {\"90\": 4, \"96\": 15, \"44\": 1}, \"89\": {\"89\": 21, \"71\": 2, \"85\": 2, \"74\": 1, \"98\": 2, \"8\": 1, \"102\": 1, \"114\": 1, \"1\": 1}, \"31\": {\"31\": 12, \"90\": 2, \"118\": 1, \"74\": 1}, \"45\": {\"45\": 12, \"99\": 1, \"120\": 2, \"32\": 1}, \"2\": {\"96\": 3, \"2\": 12, \"118\": 1, \"113\": 1, \"121\": 2, \"84\": 1, \"44\": 2, \"39\": 1, \"78\": 1, \"66\": 1, \"16\": 3}, \"114\": {\"114\": 93, \"12\": 1, \"1\": 5, \"128\": 1, \"86\": 1, \"129\": 2, \"89\": 1, \"71\": 8, \"4\": 4, \"118\": 2, \"7\": 1, \"55\": 1, \"100\": 2, \"87\": 1, \"109\": 1, \"88\": 1, \"5\": 1, \"105\": 2}, \"11\": {\"72\": 4, \"2\": 1, \"11\": 68, \"87\": 10, \"48\": 2, \"110\": 10, \"82\": 1, \"5\": 11, \"43\": 3, \"118\": 1, \"3\": 1, \"98\": 2, \"33\": 6, \"109\": 1, \"107\": 2, \"40\": 6, \"93\": 2, \"22\": 3, \"99\": 1, \"45\": 1}, \"12\": {\"111\": 16, \"91\": 2, \"12\": 57, \"101\": 15, \"36\": 1, \"62\": 1, \"8\": 3, \"113\": 1, \"95\": 1, \"34\": 1, \"106\": 1, \"0\": 1}, \"14\": {\"14\": 78, \"3\": 12, \"32\": 1, \"87\": 5, \"107\": 3, \"7\": 3, \"81\": 1, \"105\": 1, \"40\": 1, \"83\": 2, \"128\": 1, \"110\": 2, \"1\": 2}, \"90\": {\"90\": 140, \"44\": 8, \"102\": 1, \"84\": 3, \"109\": 1, \"57\": 1}, \"10\": {\"10\": 56, \"54\": 2, \"94\": 7, \"97\": 2, \"9\": 1, \"8\": 5, \"75\": 1, \"27\": 3, \"24\": 11, \"15\": 10, \"36\": 7, \"125\": 1, \"106\": 2, \"18\": 1, \"70\": 1, \"30\": 7, \"101\": 3, \"0\": 1, \"88\": 1}, \"63\": {\"123\": 2, \"63\": 10, \"18\": 4}, \"85\": {\"85\": 19, \"4\": 4, \"86\": 2, \"14\": 1, \"124\": 1, \"1\": 1}, \"64\": {\"64\": 14, \"20\": 1, \"8\": 1}, \"82\": {\"11\": 2, \"82\": 14, \"32\": 3, \"99\": 4, \"87\": 1, \"14\": 2, \"105\": 1, \"3\": 1, \"120\": 1, \"101\": 1, \"33\": 1, \"89\": 1}, \"58\": {\"58\": 14, \"27\": 1, \"106\": 1}, \"3\": {\"3\": 102, \"35\": 1, \"87\": 4, \"10\": 1, \"14\": 8, \"5\": 3, \"73\": 2, \"11\": 2, \"7\": 5, \"89\": 2, \"115\": 1, \"19\": 1, \"88\": 1, \"1\": 1, \"21\": 1, \"117\": 1}, \"54\": {\"54\": 13, \"94\": 2, \"22\": 1}, \"121\": {\"121\": 22, \"39\": 2, \"2\": 1, \"84\": 2, \"16\": 3, \"57\": 1, \"117\": 1}, \"42\": {\"91\": 2, \"112\": 1, \"106\": 1, \"9\": 2, \"42\": 4, \"75\": 2, \"111\": 2, \"49\": 1, \"114\": 3, \"52\": 2, \"98\": 2, \"60\": 2, \"29\": 1, \"70\": 1, \"8\": 2}, \"98\": {\"98\": 77, \"95\": 3, \"128\": 4, \"26\": 1, \"52\": 4, \"124\": 10, \"4\": 2, \"44\": 1, \"127\": 5, \"18\": 1, \"91\": 1, \"34\": 1, \"84\": 1, \"25\": 1, \"49\": 1, \"85\": 2, \"39\": 1, \"71\": 2, \"0\": 2}, \"123\": {\"63\": 1, \"123\": 13, \"26\": 2}, \"91\": {\"91\": 16, \"95\": 2, \"42\": 1, \"68\": 1, \"6\": 1, \"101\": 2, \"127\": 1}, \"83\": {\"119\": 3, \"1\": 2, \"83\": 18, \"7\": 1, \"62\": 1, \"71\": 2, \"106\": 1}, \"99\": {\"99\": 29, \"69\": 1, \"87\": 1, \"82\": 2, \"40\": 4, \"115\": 1, \"72\": 1, \"107\": 1}, \"112\": {\"112\": 14, \"42\": 2}, \"119\": {\"119\": 11, \"83\": 1, \"1\": 2, \"73\": 2}, \"70\": {\"112\": 1, \"70\": 47, \"39\": 1, \"124\": 9, \"42\": 4, \"29\": 1, \"88\": 10, \"71\": 2, \"122\": 2, \"12\": 2, \"127\": 5, \"114\": 4, \"118\": 1, \"87\": 1, \"98\": 13, \"0\": 4, \"101\": 2, \"126\": 1, \"8\": 5, \"129\": 1, \"119\": 1, \"34\": 1, \"49\": 1, \"117\": 1, \"30\": 1, \"90\": 1, \"4\": 2}, \"20\": {\"20\": 12, \"5\": 2, \"1\": 1, \"43\": 1}, \"120\": {\"124\": 2, \"120\": 13, \"100\": 1, \"55\": 1, \"46\": 1, \"17\": 2}, \"7\": {\"83\": 1, \"7\": 82, \"28\": 1, \"82\": 1, \"115\": 1, \"105\": 3, \"107\": 8, \"14\": 7, \"3\": 6, \"87\": 5, \"108\": 1, \"40\": 2, \"60\": 2, \"89\": 2, \"1\": 1, \"128\": 1}, \"60\": {\"60\": 7, \"33\": 1, \"85\": 1, \"19\": 1, \"86\": 1, \"46\": 1, \"43\": 3, \"129\": 1, \"32\": 1, \"122\": 1, \"4\": 1, \"62\": 2, \"88\": 1, \"109\": 3, \"100\": 1, \"42\": 3, \"79\": 1, \"66\": 1, \"91\": 1}, \"113\": {\"113\": 93, \"39\": 4, \"117\": 6, \"121\": 2, \"126\": 5, \"122\": 1, \"16\": 3, \"81\": 1, \"24\": 2, \"26\": 1}, \"37\": {\"37\": 14, \"20\": 1, \"128\": 1}, \"124\": {\"124\": 96, \"60\": 1, \"86\": 1, \"114\": 1, \"98\": 5, \"120\": 1, \"95\": 2, \"4\": 3}, \"27\": {\"70\": 2, \"58\": 2, \"27\": 57, \"88\": 1, \"59\": 2, \"111\": 3, \"12\": 5, \"0\": 6, \"8\": 6, \"125\": 2, \"30\": 2, \"126\": 2, \"106\": 1, \"101\": 4, \"48\": 1, \"22\": 1, \"9\": 1, \"122\": 1, \"10\": 1}, \"86\": {\"86\": 27, \"46\": 1}, \"127\": {\"127\": 85, \"98\": 9, \"0\": 2, \"113\": 1, \"111\": 3, \"124\": 1, \"126\": 1, \"122\": 1, \"101\": 2, \"12\": 2, \"39\": 1}, \"62\": {\"116\": 4, \"62\": 34, \"71\": 1, \"122\": 2, \"118\": 5, \"44\": 4, \"43\": 1, \"33\": 2, \"108\": 1, \"90\": 1, \"72\": 2, \"9\": 1, \"11\": 1, \"110\": 1}, \"122\": {\"122\": 27, \"38\": 1, \"118\": 7, \"62\": 5, \"102\": 1, \"72\": 1, \"93\": 4, \"109\": 2, \"33\": 6, \"99\": 2, \"5\": 7, \"84\": 1, \"11\": 4, \"110\": 6, \"43\": 2, \"26\": 1, \"1\": 1, \"87\": 2, \"90\": 2, \"40\": 1, \"107\": 1}, \"51\": {\"106\": 2, \"101\": 3, \"30\": 1, \"21\": 1, \"51\": 3, \"59\": 1, \"23\": 1, \"62\": 1, \"95\": 1, \"34\": 1, \"17\": 1}, \"109\": {\"116\": 1, \"62\": 7, \"109\": 42, \"118\": 7, \"69\": 7, \"84\": 3, \"44\": 5, \"33\": 4, \"102\": 11, \"3\": 2, \"90\": 9, \"11\": 3, \"108\": 2, \"93\": 3, \"60\": 1, \"80\": 1, \"100\": 1, \"43\": 3, \"106\": 1, \"122\": 1}, \"106\": {\"106\": 76, \"129\": 1, \"39\": 1, \"125\": 5, \"8\": 11, \"12\": 1, \"10\": 1, \"124\": 2, \"101\": 6, \"126\": 2, \"58\": 1, \"77\": 1, \"78\": 1, \"1\": 1, \"27\": 1, \"0\": 1, \"117\": 1, \"88\": 1}, \"94\": {\"94\": 56, \"54\": 4, \"25\": 3, \"118\": 1, \"30\": 3, \"15\": 3, \"10\": 2, \"36\": 8, \"1\": 1, \"70\": 1, \"27\": 1, \"6\": 1, \"97\": 1, \"43\": 1, \"125\": 2}, \"38\": {\"38\": 15, \"23\": 1}, \"129\": {\"42\": 2, \"129\": 8, \"52\": 2, \"3\": 1, \"14\": 1, \"98\": 2, \"59\": 1, \"110\": 2, \"108\": 1, \"95\": 1, \"124\": 3, \"53\": 1, \"72\": 3}, \"116\": {\"62\": 3, \"118\": 1, \"116\": 17, \"102\": 1, \"44\": 2, \"33\": 2, \"69\": 1, \"74\": 1}, \"107\": {\"107\": 100, \"28\": 2, \"105\": 8, \"40\": 4, \"33\": 1, \"115\": 1, \"128\": 1, \"7\": 1}, \"30\": {\"6\": 2, \"30\": 54, \"15\": 11, \"10\": 2, \"39\": 1, \"94\": 2, \"54\": 1, \"70\": 1, \"106\": 1, \"16\": 1}, \"102\": {\"102\": 103, \"116\": 1, \"118\": 3, \"69\": 15, \"11\": 1, \"90\": 2, \"66\": 2, \"80\": 1, \"84\": 3, \"16\": 1}, \"74\": {\"74\": 8, \"118\": 2, \"62\": 2, \"31\": 4}, \"101\": {\"101\": 79, \"125\": 3, \"53\": 1, \"111\": 11, \"12\": 18, \"0\": 8, \"127\": 2, \"8\": 5, \"106\": 1, \"24\": 1, \"91\": 1, \"109\": 1, \"71\": 1}, \"117\": {\"117\": 105, \"2\": 1, \"30\": 1, \"74\": 1, \"16\": 1, \"26\": 4, \"113\": 2, \"81\": 5, \"39\": 2, \"84\": 2}, \"1\": {\"89\": 4, \"1\": 64, \"83\": 1, \"3\": 2, \"7\": 9, \"43\": 2, \"108\": 1, \"24\": 2, \"114\": 3, \"33\": 1, \"88\": 1, \"105\": 3, \"87\": 1, \"15\": 2, \"71\": 4, \"104\": 1, \"86\": 1, \"128\": 1, \"21\": 1, \"14\": 3, \"118\": 1}, \"84\": {\"84\": 101, \"96\": 2, \"69\": 7, \"0\": 1, \"118\": 2, \"90\": 8, \"117\": 2, \"16\": 1, \"43\": 1, \"44\": 2, \"14\": 1, \"33\": 2, \"102\": 1, \"88\": 1}, \"17\": {\"17\": 14, \"85\": 2, \"4\": 1, \"104\": 1, \"86\": 2}, \"6\": {\"101\": 2, \"54\": 1, \"8\": 1, \"6\": 10, \"36\": 2, \"49\": 1, \"111\": 1, \"0\": 2, \"103\": 1, \"95\": 2, \"15\": 1}, \"110\": {\"110\": 69, \"22\": 1, \"129\": 2, \"93\": 11, \"5\": 16, \"14\": 2, \"11\": 9, \"3\": 4, \"108\": 2, \"84\": 1, \"43\": 1, \"88\": 1, \"49\": 1, \"81\": 1, \"62\": 1, \"87\": 2}, \"77\": {\"77\": 12}, \"8\": {\"111\": 9, \"8\": 77, \"93\": 1, \"0\": 9, \"106\": 12, \"27\": 5, \"125\": 2, \"127\": 2, \"70\": 2, \"12\": 2, \"101\": 5, \"129\": 1, \"82\": 1, \"42\": 1, \"91\": 1, \"26\": 1, \"84\": 1}, \"73\": {\"110\": 2, \"73\": 14, \"10\": 1, \"87\": 1, \"3\": 3, \"36\": 1, \"7\": 1, \"119\": 1}, \"126\": {\"39\": 12, \"126\": 64, \"70\": 2, \"81\": 5, \"117\": 6, \"62\": 1, \"108\": 1, \"111\": 1, \"26\": 11, \"18\": 4, \"16\": 2, \"113\": 6, \"24\": 1, \"8\": 1, \"88\": 2, \"67\": 3, \"123\": 1, \"1\": 1}, \"57\": {\"57\": 14, \"69\": 2}, \"95\": {\"95\": 29, \"8\": 1, \"55\": 1, \"124\": 1}, \"103\": {\"4\": 1, \"103\": 11, \"8\": 2, \"29\": 2}, \"97\": {\"97\": 15, \"10\": 3, \"29\": 1, \"94\": 1}, \"39\": {\"126\": 4, \"39\": 41, \"26\": 8, \"71\": 1, \"113\": 6, \"117\": 6, \"3\": 1, \"35\": 1, \"69\": 1, \"63\": 1, \"87\": 1, \"81\": 5, \"44\": 1, \"24\": 1, \"62\": 1, \"10\": 1, \"84\": 3, \"106\": 2, \"105\": 1, \"80\": 2, \"2\": 2, \"18\": 2, \"21\": 2, \"108\": 1, \"70\": 1, \"5\": 2, \"109\": 1, \"1\": 1}, \"100\": {\"114\": 1, \"4\": 1, \"46\": 3, \"100\": 12, \"3\": 1, \"128\": 1, \"129\": 1}, \"40\": {\"40\": 98, \"115\": 1, \"128\": 1, \"69\": 1, \"107\": 5, \"28\": 1, \"45\": 1, \"7\": 1, \"87\": 1}, \"36\": {\"36\": 97, \"94\": 8, \"10\": 5, \"15\": 3, \"24\": 5, \"84\": 1, \"101\": 2, \"54\": 2, \"30\": 2, \"21\": 1}, \"19\": {\"129\": 1, \"122\": 2, \"62\": 2, \"53\": 3, \"11\": 2, \"127\": 2, \"93\": 1, \"19\": 3, \"55\": 1, \"0\": 2, \"72\": 1, \"98\": 2, \"33\": 1, \"86\": 1, \"34\": 1, \"96\": 1, \"118\": 1, \"69\": 1}, \"118\": {\"122\": 2, \"118\": 52, \"79\": 1, \"45\": 1, \"116\": 1, \"19\": 2, \"74\": 2, \"109\": 2, \"33\": 9, \"102\": 7, \"62\": 6, \"11\": 3, \"43\": 6, \"5\": 5, \"110\": 2, \"44\": 1, \"31\": 1, \"93\": 2, \"108\": 1, \"12\": 1, \"90\": 2, \"107\": 2, \"84\": 1}, \"56\": {\"56\": 9, \"4\": 1, \"71\": 2}, \"26\": {\"26\": 92, \"39\": 5, \"18\": 19, \"84\": 1, \"117\": 1, \"126\": 2, \"65\": 3, \"81\": 1, \"69\": 2}, \"5\": {\"5\": 104, \"19\": 1, \"110\": 11, \"11\": 9, \"122\": 2, \"108\": 1, \"93\": 1, \"104\": 1, \"72\": 1, \"43\": 1, \"26\": 1, \"14\": 2, \"4\": 1}, \"21\": {\"21\": 33, \"81\": 2, \"10\": 1, \"78\": 1, \"84\": 1, \"105\": 2}, \"22\": {\"72\": 5, \"22\": 8, \"36\": 1, \"79\": 2}, \"68\": {\"68\": 14, \"111\": 1, \"12\": 1}, \"9\": {\"106\": 1, \"30\": 1, \"9\": 24, \"51\": 2}, \"66\": {\"66\": 13, \"71\": 1, \"44\": 2}, \"87\": {\"115\": 1, \"87\": 39, \"11\": 8, \"50\": 1, \"129\": 1, \"107\": 14, \"14\": 12, \"3\": 8, \"105\": 4, \"7\": 5, \"5\": 10, \"110\": 7, \"93\": 3, \"40\": 9, \"33\": 1, \"117\": 1}, \"71\": {\"71\": 89, \"19\": 1, \"86\": 1, \"114\": 8, \"87\": 1, \"32\": 1, \"100\": 1, \"21\": 1, \"39\": 1}, \"115\": {\"107\": 3, \"79\": 4, \"115\": 7, \"72\": 1, \"11\": 1}, \"23\": {\"30\": 1, \"23\": 2, \"67\": 2, \"21\": 1, \"81\": 1, \"53\": 1, \"113\": 3, \"121\": 2, \"108\": 2, \"98\": 1}, \"33\": {\"33\": 110, \"116\": 2, \"0\": 1, \"102\": 1, \"5\": 1, \"122\": 1, \"43\": 1, \"16\": 1}, \"35\": {\"117\": 2, \"35\": 7, \"70\": 1, \"18\": 1, \"81\": 1}, \"125\": {\"125\": 121, \"84\": 2, \"12\": 1, \"101\": 3, \"26\": 1, \"34\": 2, \"81\": 1, \"10\": 1}, \"47\": {\"125\": 1, \"47\": 11}, \"79\": {\"79\": 15, \"32\": 1}, \"53\": {\"53\": 13, \"67\": 1, \"129\": 2}, \"67\": {\"113\": 4, \"67\": 5, \"11\": 1, \"35\": 1, \"123\": 1, \"122\": 1, \"8\": 1, \"116\": 1, \"118\": 1}, \"80\": {\"80\": 16}, \"105\": {\"105\": 72, \"88\": 1, \"78\": 1, \"107\": 4, \"10\": 1, \"7\": 8, \"1\": 2, \"87\": 3, \"40\": 3, \"96\": 1, \"70\": 1, \"106\": 1, \"3\": 1, \"14\": 1}, \"76\": {\"76\": 16}, \"46\": {\"100\": 2, \"46\": 13, \"71\": 1, \"86\": 1, \"114\": 2, \"85\": 1}, \"34\": {\"100\": 2, \"71\": 2, \"34\": 5, \"0\": 1, \"55\": 1, \"4\": 3, \"49\": 1, \"106\": 3, \"1\": 1, \"75\": 2, \"51\": 1, \"86\": 1, \"91\": 2, \"98\": 1, \"12\": 3, \"111\": 2, \"114\": 1}, \"32\": {\"32\": 19, \"11\": 1, \"3\": 1, \"105\": 2, \"29\": 1, \"82\": 1, \"119\": 2, \"107\": 1}, \"13\": {\"13\": 16}, \"78\": {\"56\": 1, \"78\": 8, \"19\": 1, \"89\": 2, \"32\": 1, \"73\": 1, \"74\": 2, \"105\": 1, \"114\": 1, \"93\": 1, \"128\": 1, \"60\": 1, \"18\": 2, \"8\": 1, \"115\": 1, \"10\": 1, \"109\": 1, \"126\": 1, \"72\": 1, \"81\": 1, \"3\": 1, \"117\": 1, \"99\": 1, \"1\": 1, \"87\": 1, \"107\": 1}, \"41\": {\"4\": 3, \"41\": 11, \"95\": 1, \"55\": 1}, \"69\": {\"90\": 11, \"69\": 95, \"84\": 3, \"109\": 1, \"44\": 2, \"102\": 6, \"88\": 2, \"113\": 1, \"11\": 2, \"22\": 1, \"4\": 1, \"27\": 1, \"122\": 2}, \"88\": {\"100\": 1, \"88\": 44, \"112\": 2, \"127\": 1, \"48\": 1, \"98\": 4, \"114\": 14, \"85\": 1, \"96\": 1, \"26\": 1, \"1\": 9, \"71\": 1, \"0\": 8, \"124\": 5, \"70\": 11, \"108\": 3, \"24\": 1, \"3\": 2, \"4\": 2, \"27\": 1, \"110\": 3, \"101\": 1, \"19\": 4, \"74\": 2, \"128\": 1, \"18\": 1, \"94\": 1, \"106\": 1, \"122\": 1, \"105\": 1, \"69\": 1, \"84\": 1, \"113\": 1}, \"15\": {\"15\": 107, \"10\": 7, \"122\": 1, \"27\": 2, \"106\": 1, \"54\": 2, \"6\": 1, \"94\": 1, \"30\": 3, \"21\": 1, \"12\": 1, \"24\": 1}, \"61\": {\"63\": 4, \"61\": 8, \"26\": 2, \"18\": 2}, \"0\": {\"0\": 42, \"29\": 1, \"27\": 2, \"12\": 12, \"34\": 3, \"106\": 3, \"101\": 12, \"127\": 3, \"125\": 1, \"111\": 16, \"98\": 1, \"8\": 10, \"109\": 1, \"26\": 1, \"59\": 1, \"103\": 1, \"91\": 2, \"117\": 1, \"113\": 1, \"4\": 1, \"70\": 1}, \"104\": {\"17\": 1, \"104\": 13, \"70\": 1, \"41\": 1}, \"48\": {\"48\": 5, \"69\": 2, \"121\": 2, \"102\": 1, \"113\": 1, \"31\": 1, \"126\": 1, \"125\": 1, \"16\": 2}, \"25\": {\"25\": 15, \"94\": 1}, \"75\": {\"75\": 14, \"125\": 2}, \"81\": {\"81\": 30, \"26\": 1, \"44\": 1, \"27\": 1, \"126\": 2, \"117\": 1}, \"50\": {\"50\": 15, \"120\": 1}, \"52\": {\"52\": 19, \"98\": 1}, \"16\": {\"16\": 104, \"117\": 1, \"84\": 2, \"10\": 1, \"90\": 1, \"88\": 1, \"38\": 1, \"121\": 1, \"2\": 1, \"113\": 4, \"69\": 2, \"114\": 1}, \"44\": {\"44\": 53, \"69\": 1, \"102\": 3, \"90\": 4, \"84\": 2, \"109\": 1}, \"29\": {\"29\": 26, \"21\": 1, \"98\": 1, \"101\": 1, \"91\": 1, \"34\": 1, \"1\": 1}, \"93\": {\"93\": 111, \"5\": 3, \"87\": 1, \"122\": 1, \"110\": 3, \"43\": 2, \"49\": 1, \"84\": 1, \"109\": 1}, \"18\": {\"63\": 1, \"18\": 83, \"65\": 2, \"81\": 3, \"117\": 1, \"69\": 2, \"26\": 21, \"39\": 1}, \"49\": {\"49\": 2, \"43\": 4, \"33\": 1, \"122\": 3, \"101\": 5, \"102\": 1, \"87\": 1, \"106\": 1, \"8\": 1, \"62\": 1, \"93\": 1, \"20\": 1, \"118\": 1, \"52\": 2, \"14\": 2, \"11\": 2, \"3\": 1, \"110\": 2}, \"55\": {\"55\": 12, \"95\": 1, \"86\": 1, \"124\": 1, \"120\": 1}, \"59\": {\"59\": 9, \"58\": 2, \"21\": 1}, \"128\": {\"98\": 1, \"14\": 3, \"11\": 1, \"114\": 2, \"128\": 5, \"52\": 1, \"18\": 1, \"124\": 1, \"34\": 1, \"86\": 1, \"5\": 1, \"28\": 1, \"43\": 1, \"89\": 1, \"127\": 1, \"4\": 1, \"7\": 1}, \"24\": {\"24\": 59, \"25\": 3, \"10\": 17, \"113\": 1, \"27\": 2, \"15\": 15, \"30\": 1, \"125\": 1, \"26\": 1, \"36\": 13, \"70\": 1, \"7\": 1, \"108\": 1, \"94\": 2, \"12\": 1, \"39\": 1}, \"65\": {\"65\": 9, \"18\": 1, \"26\": 2}, \"92\": {\"92\": 28}}, \"Wisig_1\": {\"108\": {\"108\": 86, \"9\": 1, \"27\": 1, \"29\": 2, \"101\": 5, \"44\": 1, \"127\": 1, \"12\": 6, \"10\": 4, \"70\": 3, \"110\": 1, \"111\": 2, \"109\": 2, \"106\": 2, \"24\": 4, \"72\": 2, \"11\": 1}, \"40\": {\"40\": 119, \"38\": 1, \"42\": 2, \"105\": 6, \"87\": 3, \"84\": 1, \"93\": 1, \"43\": 1, \"114\": 2}, \"68\": {\"68\": 10, \"79\": 1, \"91\": 1, \"51\": 2, \"127\": 2}, \"23\": {\"3\": 4, \"127\": 1, \"53\": 1, \"56\": 1, \"33\": 1, \"103\": 2, \"32\": 2, \"0\": 2, \"37\": 1, \"66\": 2, \"91\": 1, \"76\": 2, \"110\": 2, \"125\": 2}, \"26\": {\"26\": 97, \"39\": 1, \"117\": 9, \"30\": 1, \"16\": 8, \"118\": 3, \"94\": 1}, \"64\": {\"64\": 14, \"60\": 1, \"19\": 1}, \"22\": {\"22\": 11, \"20\": 2, \"69\": 1, \"25\": 1, \"94\": 1}, \"3\": {\"3\": 63, \"2\": 2, \"94\": 2, \"50\": 3, \"66\": 1, \"71\": 2, \"11\": 5, \"82\": 1, \"116\": 1, \"15\": 1, \"33\": 2, \"39\": 1, \"7\": 1, \"90\": 2, \"27\": 1}, \"4\": {\"4\": 89, \"93\": 4, \"5\": 1, \"107\": 1, \"124\": 3, \"83\": 1, \"121\": 1}, \"70\": {\"70\": 44, \"108\": 3, \"19\": 2, \"86\": 1, \"8\": 15, \"9\": 3, \"98\": 3, \"39\": 2, \"36\": 1, \"44\": 4, \"107\": 1, \"93\": 7, \"4\": 1, \"124\": 8, \"5\": 2, \"10\": 5, \"126\": 4, \"110\": 1, \"109\": 4, \"118\": 1, \"31\": 2, \"21\": 3, \"18\": 1, \"94\": 1, \"43\": 1}, \"57\": {\"57\": 9, \"124\": 1, \"88\": 1, \"40\": 1}, \"79\": {\"57\": 1, \"79\": 11}, \"9\": {\"9\": 30, \"73\": 1, \"35\": 1}, \"89\": {\"89\": 32, \"49\": 1, \"34\": 1, \"10\": 1, \"110\": 1}, \"110\": {\"110\": 105, \"56\": 1, \"127\": 1, \"98\": 8, \"106\": 7, \"92\": 3, \"0\": 2, \"89\": 1}, \"102\": {\"102\": 107, \"62\": 4, \"14\": 1, \"33\": 3, \"90\": 4, \"106\": 1}, \"31\": {\"31\": 13, \"93\": 1, \"124\": 2}, \"58\": {\"58\": 12}, \"47\": {\"47\": 11, \"108\": 1}, \"24\": {\"52\": 2, \"24\": 58, \"10\": 1, \"97\": 3, \"27\": 9, \"26\": 1, \"12\": 4, \"113\": 1, \"94\": 1, \"101\": 1, \"36\": 3, \"108\": 2, \"88\": 3, \"15\": 1, \"111\": 2}, \"19\": {\"31\": 4, \"124\": 3, \"65\": 1, \"19\": 8, \"20\": 1, \"1\": 1, \"109\": 1, \"86\": 1, \"5\": 1, \"96\": 1, \"67\": 1, \"48\": 1, \"9\": 1, \"73\": 1, \"115\": 1, \"57\": 1}, \"11\": {\"25\": 1, \"11\": 74, \"42\": 2, \"2\": 2, \"33\": 9, \"116\": 1, \"7\": 5, \"39\": 2, \"90\": 11, \"62\": 6, \"3\": 2, \"43\": 1, \"102\": 6, \"18\": 2, \"99\": 1, \"50\": 1, \"123\": 1, \"1\": 1, \"69\": 2, \"109\": 1, \"117\": 1}, \"52\": {\"52\": 20}, \"17\": {\"17\": 6, \"92\": 1, \"73\": 1, \"53\": 1, \"68\": 1, \"37\": 2, \"34\": 1, \"56\": 1, \"0\": 2}, \"25\": {\"25\": 14, \"45\": 1, \"7\": 1}, \"69\": {\"69\": 98, \"102\": 5, \"2\": 2, \"16\": 1, \"18\": 1, \"14\": 1}, \"96\": {\"115\": 1, \"109\": 2, \"96\": 12, \"111\": 1, \"79\": 1, \"26\": 1, \"122\": 2}, \"109\": {\"109\": 74, \"24\": 1, \"3\": 3, \"70\": 1, \"60\": 3, \"11\": 6, \"1\": 7, \"90\": 3, \"7\": 2, \"43\": 8, \"44\": 1, \"62\": 1, \"126\": 2, \"122\": 1, \"16\": 1}, \"115\": {\"115\": 12}, \"83\": {\"83\": 25, \"109\": 1, \"4\": 2}, \"84\": {\"84\": 102, \"14\": 8, \"42\": 2, \"87\": 2, \"1\": 3, \"114\": 8, \"93\": 1, \"88\": 1, \"39\": 1}, \"119\": {\"119\": 16}, \"122\": {\"74\": 3, \"23\": 1, \"82\": 4, \"122\": 43, \"19\": 1, \"114\": 4, \"80\": 1, \"43\": 7, \"95\": 1, \"78\": 1, \"42\": 3, \"1\": 3, \"109\": 1, \"7\": 3, \"39\": 2, \"64\": 1, \"28\": 2, \"81\": 2, \"87\": 3, \"117\": 1, \"21\": 1}, \"99\": {\"99\": 11, \"76\": 2, \"65\": 1, \"3\": 2, \"100\": 1, \"62\": 1, \"33\": 1, \"2\": 1, \"11\": 1, \"66\": 2, \"90\": 1}, \"1\": {\"1\": 110, \"79\": 1, \"118\": 1, \"84\": 3, \"39\": 1, \"43\": 9, \"14\": 2, \"87\": 1, \"114\": 2, \"42\": 1, \"122\": 1, \"60\": 1, \"129\": 2, \"117\": 1}, \"74\": {\"74\": 14, \"25\": 1, \"22\": 1}, \"85\": {\"85\": 22, \"89\": 1, \"107\": 6, \"46\": 2, \"54\": 1}, \"127\": {\"127\": 80, \"39\": 1, \"112\": 1, \"75\": 3, \"111\": 4, \"98\": 1, \"106\": 4, \"71\": 4, \"88\": 1, \"125\": 7, \"16\": 1, \"110\": 1}, \"111\": {\"111\": 97, \"51\": 1, \"125\": 8, \"71\": 2, \"106\": 2, \"127\": 5, \"32\": 1, \"12\": 3, \"24\": 1}, \"53\": {\"53\": 19, \"103\": 1}, \"88\": {\"88\": 79, \"94\": 4, \"27\": 10, \"32\": 2, \"15\": 6, \"24\": 7, \"1\": 1, \"44\": 1, \"126\": 3, \"14\": 1, \"108\": 2, \"101\": 3, \"71\": 3, \"36\": 6, \"125\": 1, \"19\": 1, \"6\": 1, \"30\": 1}, \"65\": {\"23\": 1, \"16\": 2, \"65\": 3, \"63\": 1, \"20\": 2, \"13\": 1, \"93\": 1, \"121\": 1}, \"7\": {\"7\": 124, \"28\": 2, \"43\": 4, \"20\": 1, \"25\": 1, \"128\": 2}, \"16\": {\"16\": 64, \"61\": 2, \"18\": 3, \"95\": 3, \"26\": 12, \"117\": 15, \"2\": 2, \"118\": 7}, \"128\": {\"104\": 1, \"53\": 1, \"7\": 3, \"52\": 1, \"45\": 1, \"91\": 1, \"78\": 2, \"11\": 2, \"128\": 3, \"106\": 1, \"81\": 1, \"0\": 1, \"70\": 1, \"110\": 1, \"10\": 1, \"43\": 1, \"98\": 2}, \"34\": {\"129\": 2, \"103\": 1, \"56\": 1, \"34\": 7, \"124\": 1, \"0\": 1, \"114\": 1, \"128\": 1, \"125\": 1, \"84\": 2, \"110\": 4, \"104\": 1, \"64\": 2, \"37\": 1, \"86\": 1, \"92\": 1, \"42\": 1, \"10\": 1, \"87\": 1, \"77\": 1}, \"129\": {\"129\": 5, \"73\": 1, \"124\": 1, \"23\": 1, \"19\": 2, \"66\": 3, \"3\": 3, \"86\": 3, \"90\": 1, \"93\": 3, \"62\": 1, \"31\": 1, \"9\": 1, \"4\": 2}, \"43\": {\"28\": 1, \"114\": 6, \"43\": 78, \"65\": 1, \"117\": 2, \"63\": 1, \"1\": 7, \"22\": 1, \"45\": 1, \"81\": 2, \"122\": 4, \"118\": 1, \"87\": 4, \"102\": 1, \"26\": 1, \"93\": 1, \"7\": 9, \"80\": 2, \"129\": 1, \"23\": 1, \"128\": 2, \"11\": 1}, \"92\": {\"92\": 27, \"37\": 1}, \"28\": {\"28\": 15, \"17\": 1, \"25\": 3, \"71\": 1}, \"27\": {\"27\": 64, \"88\": 9, \"24\": 5, \"15\": 3, \"30\": 3, \"94\": 4, \"112\": 2, \"126\": 1, \"108\": 1}, \"114\": {\"114\": 106, \"87\": 9, \"128\": 1, \"86\": 1, \"69\": 1, \"84\": 3, \"14\": 1, \"105\": 2}, \"73\": {\"73\": 18, \"44\": 2}, \"0\": {\"0\": 46, \"53\": 4, \"37\": 2, \"75\": 1, \"89\": 1, \"29\": 4, \"72\": 1, \"86\": 2, \"92\": 2, \"32\": 1, \"110\": 6, \"106\": 5, \"98\": 5, \"103\": 1, \"17\": 1, \"91\": 1, \"10\": 1}, \"104\": {\"129\": 1, \"43\": 1, \"104\": 12, \"126\": 1, \"49\": 1}, \"118\": {\"118\": 52, \"95\": 3, \"109\": 1, \"26\": 10, \"113\": 2, \"18\": 3, \"16\": 7, \"2\": 1, \"117\": 5}, \"41\": {\"41\": 14, \"46\": 2}, \"91\": {\"9\": 1, \"111\": 2, \"91\": 8, \"6\": 1, \"92\": 1, \"98\": 1, \"49\": 1, \"32\": 2, \"29\": 2, \"0\": 2, \"107\": 2, \"110\": 1, \"85\": 1, \"71\": 2, \"89\": 1}, \"124\": {\"124\": 104, \"4\": 5, \"5\": 8, \"93\": 1, \"107\": 1, \"31\": 1, \"42\": 1, \"8\": 1}, \"81\": {\"81\": 26, \"43\": 1, \"114\": 1}, \"63\": {\"63\": 16}, \"76\": {\"76\": 12, \"50\": 3, \"116\": 1}, \"10\": {\"10\": 43, \"111\": 1, \"70\": 7, \"0\": 5, \"107\": 13, \"93\": 2, \"4\": 1, \"8\": 9, \"98\": 5, \"44\": 5, \"126\": 3, \"110\": 8, \"55\": 3, \"47\": 2, \"34\": 1, \"35\": 2, \"29\": 1, \"89\": 2, \"108\": 2, \"85\": 1, \"106\": 1, \"71\": 1, \"5\": 1, \"16\": 1}, \"51\": {\"91\": 1, \"51\": 12, \"12\": 2, \"10\": 1}, \"82\": {\"82\": 35, \"7\": 1}, \"56\": {\"56\": 9, \"111\": 1, \"17\": 1, \"91\": 1}, \"30\": {\"30\": 25, \"27\": 6, \"15\": 3, \"36\": 6, \"127\": 1, \"24\": 2, \"97\": 1, \"52\": 2, \"44\": 1, \"94\": 3, \"88\": 1, \"70\": 1}, \"21\": {\"21\": 16, \"43\": 2, \"51\": 1, \"109\": 2, \"19\": 1, \"87\": 6, \"126\": 2, \"122\": 1, \"90\": 2, \"39\": 1, \"110\": 1, \"118\": 1, \"6\": 1, \"1\": 1, \"114\": 1, \"15\": 1}, \"46\": {\"79\": 1, \"124\": 1, \"105\": 1, \"120\": 2, \"40\": 1, \"41\": 1, \"101\": 1, \"38\": 2, \"94\": 1, \"19\": 1}, \"33\": {\"33\": 122, \"62\": 9, \"90\": 3, \"102\": 2, \"61\": 1, \"50\": 1}, \"101\": {\"101\": 110, \"12\": 6, \"49\": 1, \"108\": 1, \"11\": 1, \"47\": 1, \"71\": 3, \"102\": 1}, \"105\": {\"105\": 65, \"86\": 1, \"36\": 1, \"4\": 4, \"40\": 7, \"83\": 1, \"114\": 4, \"93\": 1}, \"50\": {\"50\": 7, \"76\": 2, \"11\": 2, \"102\": 1, \"90\": 2, \"96\": 1, \"33\": 1}, \"116\": {\"116\": 25, \"67\": 1, \"102\": 2, \"33\": 2, \"100\": 1, \"90\": 1}, \"77\": {\"77\": 12, \"83\": 2, \"0\": 2}, \"75\": {\"75\": 11, \"112\": 1, \"127\": 4}, \"95\": {\"95\": 33, \"16\": 1, \"26\": 2}, \"120\": {\"120\": 18, \"80\": 1, \"81\": 1}, \"18\": {\"18\": 93, \"16\": 2, \"69\": 1, \"117\": 10, \"39\": 2}, \"14\": {\"79\": 1, \"14\": 76, \"84\": 14, \"44\": 1, \"40\": 1, \"87\": 2, \"122\": 1}, \"44\": {\"23\": 1, \"73\": 3, \"44\": 71, \"34\": 1}, \"98\": {\"103\": 1, \"98\": 83, \"106\": 3, \"110\": 4, \"10\": 2, \"125\": 2, \"107\": 1}, \"121\": {\"113\": 3, \"69\": 1, \"121\": 21, \"118\": 2, \"26\": 3, \"18\": 1, \"123\": 1}, \"113\": {\"113\": 108}, \"103\": {\"103\": 16}, \"62\": {\"62\": 87, \"69\": 1, \"2\": 1, \"33\": 12, \"102\": 6, \"39\": 1, \"90\": 4, \"16\": 1, \"26\": 1, \"11\": 1, \"61\": 2, \"107\": 1, \"18\": 2}, \"32\": {\"111\": 3, \"32\": 14, \"51\": 1, \"127\": 1, \"101\": 1, \"125\": 2, \"6\": 2, \"98\": 1, \"110\": 2, \"68\": 2, \"52\": 1, \"91\": 1, \"106\": 1}, \"71\": {\"12\": 10, \"71\": 73, \"111\": 5, \"127\": 3, \"16\": 1, \"18\": 1, \"125\": 4, \"101\": 1, \"58\": 1, \"118\": 1, \"6\": 2, \"94\": 3, \"89\": 1, \"108\": 2}, \"94\": {\"94\": 69, \"30\": 2, \"24\": 1, \"88\": 8, \"16\": 1, \"51\": 1, \"27\": 5, \"10\": 2, \"36\": 1, \"0\": 1, \"113\": 1}, \"49\": {\"93\": 1, \"71\": 1, \"5\": 2, \"49\": 5, \"70\": 1, \"34\": 1, \"128\": 1, \"101\": 2, \"47\": 1, \"111\": 1, \"6\": 1, \"32\": 1, \"104\": 1, \"73\": 1}, \"12\": {\"12\": 87, \"111\": 6, \"35\": 1, \"101\": 4, \"109\": 1, \"71\": 2, \"75\": 1, \"21\": 1, \"108\": 1}, \"90\": {\"90\": 108, \"99\": 2, \"66\": 1, \"3\": 3, \"11\": 4, \"33\": 4, \"62\": 2}, \"93\": {\"93\": 50, \"40\": 3, \"105\": 7, \"35\": 1, \"84\": 4, \"44\": 7, \"43\": 1, \"4\": 6, \"87\": 1, \"14\": 4, \"3\": 1, \"8\": 8, \"5\": 3, \"70\": 2, \"124\": 11, \"90\": 1, \"107\": 6, \"126\": 1, \"104\": 1, \"49\": 1, \"85\": 1, \"128\": 1, \"98\": 1, \"18\": 1, \"1\": 1}, \"13\": {\"13\": 16}, \"67\": {\"94\": 1, \"67\": 13, \"69\": 2}, \"20\": {\"20\": 14, \"121\": 1, \"65\": 1}, \"2\": {\"28\": 1, \"2\": 16, \"66\": 1, \"118\": 1, \"25\": 2, \"62\": 1, \"7\": 1, \"39\": 2, \"100\": 2, \"81\": 1, \"63\": 1, \"99\": 1, \"80\": 1, \"11\": 1}, \"5\": {\"5\": 71, \"60\": 1, \"34\": 1, \"124\": 6, \"4\": 1, \"93\": 3, \"14\": 1, \"107\": 1, \"36\": 1, \"21\": 1, \"89\": 1}, \"54\": {\"89\": 1, \"54\": 9, \"107\": 2, \"110\": 1, \"31\": 1, \"46\": 1, \"75\": 1}, \"37\": {\"37\": 16}, \"38\": {\"38\": 15, \"40\": 1}, \"86\": {\"86\": 23, \"40\": 1, \"70\": 1, \"4\": 2, \"128\": 1, \"83\": 2, \"14\": 1, \"105\": 1, \"1\": 1, \"2\": 1, \"124\": 1, \"27\": 1}, \"55\": {\"55\": 10, \"107\": 1, \"83\": 1}, \"97\": {\"97\": 12, \"24\": 2, \"114\": 1, \"101\": 1, \"72\": 1, \"128\": 1, \"44\": 1, \"30\": 1}, \"29\": {\"29\": 27, \"0\": 1}, \"48\": {\"63\": 1, \"48\": 9, \"81\": 1, \"114\": 1}, \"60\": {\"60\": 2, \"128\": 1, \"13\": 1, \"18\": 2, \"83\": 1, \"119\": 1, \"117\": 2, \"26\": 1, \"49\": 1, \"86\": 2, \"118\": 1, \"19\": 1}, \"36\": {\"36\": 116, \"16\": 1, \"88\": 2, \"113\": 1, \"101\": 2}, \"42\": {\"55\": 1, \"66\": 1, \"105\": 2, \"93\": 3, \"98\": 1, \"81\": 1, \"42\": 2, \"109\": 2, \"107\": 5, \"82\": 2, \"85\": 3, \"116\": 1, \"18\": 1, \"76\": 2, \"11\": 1}, \"66\": {\"66\": 15, \"62\": 1}, \"126\": {\"126\": 90, \"19\": 3, \"21\": 3, \"14\": 3, \"108\": 1, \"44\": 8, \"5\": 1, \"70\": 4, \"124\": 1, \"1\": 2, \"96\": 2, \"9\": 1, \"8\": 1, \"84\": 2, \"93\": 6}, \"39\": {\"13\": 1, \"39\": 59, \"117\": 11, \"118\": 10, \"95\": 1, \"69\": 4, \"16\": 4, \"90\": 1, \"18\": 5, \"99\": 1, \"26\": 5, \"2\": 1, \"62\": 1}, \"107\": {\"107\": 104, \"85\": 3, \"4\": 1, \"5\": 4, \"117\": 1, \"8\": 10, \"67\": 1}, \"59\": {\"71\": 2, \"59\": 6, \"32\": 2, \"95\": 1, \"69\": 1}, \"117\": {\"117\": 121, \"18\": 5, \"16\": 9, \"118\": 1, \"26\": 2}, \"6\": {\"127\": 2, \"88\": 3, \"27\": 1, \"6\": 4, \"106\": 3, \"36\": 1, \"110\": 3, \"30\": 5, \"111\": 2, \"32\": 2, \"101\": 2, \"112\": 1, \"72\": 2, \"94\": 1}, \"123\": {\"123\": 15, \"121\": 1}, \"8\": {\"23\": 2, \"8\": 66, \"70\": 5, \"83\": 2, \"72\": 1, \"128\": 1, \"129\": 2, \"39\": 1, \"5\": 4, \"107\": 17, \"124\": 5, \"44\": 3, \"10\": 2, \"93\": 4, \"104\": 1, \"49\": 1, \"85\": 1, \"9\": 1, \"4\": 5}, \"112\": {\"112\": 10, \"125\": 1, \"111\": 1, \"32\": 1, \"36\": 1, \"108\": 1, \"17\": 1}, \"80\": {\"80\": 12, \"120\": 1, \"122\": 2, \"82\": 1}, \"125\": {\"125\": 126, \"32\": 3, \"111\": 4, \"127\": 3}, \"61\": {\"61\": 10, \"33\": 2}, \"45\": {\"45\": 2, \"43\": 1, \"115\": 1, \"19\": 2, \"7\": 2, \"25\": 2, \"60\": 2}, \"72\": {\"72\": 27, \"103\": 1, \"0\": 2, \"53\": 2}, \"87\": {\"87\": 55, \"84\": 7, \"114\": 8, \"122\": 4, \"14\": 4, \"120\": 3, \"43\": 2, \"105\": 5, \"1\": 10, \"40\": 5, \"19\": 2, \"97\": 1, \"128\": 1, \"3\": 1}, \"106\": {\"106\": 109, \"6\": 2, \"91\": 1, \"0\": 1, \"110\": 2, \"127\": 3, \"125\": 2, \"32\": 1, \"12\": 1, \"111\": 1, \"113\": 1}, \"35\": {\"35\": 4, \"27\": 1, \"8\": 1, \"83\": 1, \"9\": 1, \"107\": 1, \"32\": 1, \"6\": 1, \"10\": 1}, \"78\": {\"14\": 1, \"82\": 2, \"3\": 2, \"19\": 1, \"114\": 1, \"122\": 2, \"78\": 3, \"64\": 1, \"28\": 1, \"81\": 1, \"108\": 1}, \"15\": {\"15\": 71, \"52\": 1, \"32\": 1, \"27\": 4, \"71\": 5, \"6\": 1, \"30\": 3, \"94\": 7, \"39\": 1, \"88\": 3, \"111\": 1, \"18\": 1, \"24\": 1, \"21\": 1, \"127\": 1, \"12\": 1, \"101\": 1}, \"100\": {\"100\": 13, \"62\": 2, \"99\": 1}}, \"Wisig_2\": {\"91\": {\"91\": 16, \"86\": 1, \"32\": 2, \"30\": 1, \"54\": 1, \"8\": 1, \"68\": 1, \"98\": 1, \"49\": 1, \"101\": 1, \"12\": 2}, \"12\": {\"91\": 3, \"12\": 48, \"114\": 2, \"29\": 1, \"117\": 1, \"8\": 6, \"59\": 1, \"98\": 2, \"34\": 1, \"16\": 1, \"127\": 7, \"108\": 1, \"111\": 2, \"106\": 1, \"24\": 1, \"86\": 2, \"128\": 2, \"54\": 1, \"10\": 1, \"124\": 3, \"122\": 1}, \"101\": {\"101\": 141, \"106\": 5, \"87\": 1, \"15\": 1}, \"121\": {\"117\": 4, \"120\": 1, \"121\": 23, \"65\": 2, \"109\": 1, \"18\": 2, \"2\": 1, \"57\": 2}, \"118\": {\"118\": 32, \"33\": 4, \"119\": 1, \"116\": 1, \"38\": 1, \"63\": 3, \"14\": 1, \"60\": 1, \"16\": 8, \"44\": 2, \"84\": 6, \"100\": 1, \"102\": 1, \"90\": 1, \"82\": 3, \"93\": 1, \"87\": 1}, \"10\": {\"126\": 2, \"114\": 7, \"10\": 21, \"66\": 2, \"122\": 1, \"11\": 1, \"121\": 1, \"124\": 4, \"95\": 2, \"98\": 1, \"7\": 1, \"117\": 1, \"63\": 1, \"85\": 1, \"86\": 1, \"42\": 1, \"110\": 2, \"101\": 1, \"18\": 1, \"49\": 1, \"32\": 1, \"74\": 1, \"107\": 1, \"5\": 1, \"8\": 1, \"71\": 2}, \"117\": {\"117\": 107, \"18\": 4, \"113\": 3, \"109\": 2, \"31\": 1, \"65\": 1, \"69\": 2}, \"110\": {\"110\": 19, \"53\": 1, \"47\": 1, \"114\": 2, \"120\": 1, \"71\": 2, \"5\": 3, \"109\": 1, \"14\": 1, \"90\": 1, \"129\": 2, \"19\": 1, \"42\": 1, \"95\": 1, \"10\": 1, \"7\": 2}, \"97\": {\"106\": 3, \"97\": 14, \"0\": 1, \"75\": 1, \"101\": 1}, \"28\": {\"28\": 18, \"37\": 2}, \"88\": {\"88\": 41, \"118\": 4, \"60\": 2, \"1\": 6, \"16\": 12, \"39\": 1, \"78\": 2, \"44\": 4, \"23\": 1, \"14\": 2, \"43\": 11, \"93\": 14, \"10\": 1, \"90\": 1, \"109\": 8, \"33\": 1, \"126\": 2, \"70\": 1, \"106\": 1, \"24\": 1, \"119\": 1, \"83\": 2, \"64\": 1, \"87\": 1, \"11\": 1, \"69\": 1, \"84\": 1}, \"17\": {\"17\": 10, \"29\": 4, \"5\": 1, \"77\": 1}, \"126\": {\"126\": 80, \"70\": 12, \"44\": 6, \"71\": 1, \"78\": 1, \"94\": 1, \"102\": 1, \"3\": 5, \"88\": 1, \"19\": 1, \"116\": 1, \"1\": 1, \"16\": 1, \"30\": 2}, \"33\": {\"33\": 112, \"23\": 1, \"84\": 5, \"90\": 4, \"18\": 1, \"38\": 2, \"82\": 1, \"117\": 1, \"62\": 1}, \"86\": {\"86\": 32}, \"106\": {\"106\": 101, \"81\": 1, \"94\": 1, \"0\": 3, \"30\": 6, \"87\": 1, \"58\": 1, \"121\": 1, \"21\": 1, \"101\": 2, \"70\": 2}, \"54\": {\"54\": 16, \"59\": 1, \"127\": 1, \"91\": 2}, \"125\": {\"103\": 2, \"125\": 123, \"30\": 2, \"111\": 3, \"52\": 1, \"18\": 1}, \"83\": {\"83\": 35, \"90\": 1, \"16\": 2, \"119\": 1, \"126\": 1}, \"98\": {\"98\": 77, \"97\": 1, \"29\": 3, \"34\": 3, \"23\": 2, \"111\": 1, \"16\": 1, \"127\": 4, \"124\": 11, \"113\": 1, \"30\": 2, \"108\": 5, \"87\": 1, \"8\": 1, \"114\": 1, \"90\": 1, \"86\": 2, \"26\": 1, \"12\": 1, \"122\": 1}, \"11\": {\"42\": 1, \"11\": 48, \"3\": 1, \"20\": 1, \"122\": 8, \"10\": 4, \"124\": 3, \"69\": 1, \"108\": 2, \"129\": 2, \"8\": 1, \"43\": 1, \"114\": 3, \"23\": 1, \"98\": 2, \"109\": 1}, \"32\": {\"32\": 19, \"4\": 4, \"114\": 1, \"7\": 1, \"3\": 2, \"5\": 3, \"95\": 2, \"86\": 1, \"112\": 1, \"71\": 2}, \"42\": {\"11\": 2, \"58\": 1, \"42\": 10, \"5\": 3, \"14\": 1, \"3\": 1, \"12\": 2, \"127\": 1, \"51\": 1, \"123\": 2, \"53\": 1, \"75\": 1, \"44\": 2}, \"103\": {\"103\": 12, \"77\": 2, \"59\": 2}, \"87\": {\"118\": 5, \"87\": 35, \"119\": 4, \"116\": 6, \"82\": 1, \"109\": 2, \"33\": 5, \"16\": 9, \"93\": 8, \"90\": 14, \"39\": 3, \"126\": 1, \"24\": 2, \"102\": 4, \"113\": 1, \"72\": 1, \"94\": 2, \"27\": 2, \"83\": 1, \"84\": 5, \"62\": 1}, \"61\": {\"61\": 9, \"27\": 1, \"128\": 1, \"108\": 1, \"115\": 2, \"14\": 1, \"21\": 1, \"105\": 4}, \"13\": {\"13\": 7, \"55\": 1, \"14\": 1, \"116\": 4, \"89\": 1, \"38\": 1, \"27\": 1}, \"4\": {\"32\": 1, \"4\": 64, \"85\": 3, \"39\": 1, \"7\": 10, \"69\": 1, \"114\": 1, \"5\": 2, \"107\": 1, \"109\": 1, \"122\": 1}, \"15\": {\"15\": 91, \"25\": 2, \"109\": 1, \"94\": 3, \"12\": 2, \"106\": 5, \"101\": 11, \"0\": 2, \"51\": 2, \"30\": 1}, \"120\": {\"120\": 19, \"99\": 1}, \"80\": {\"80\": 16}, \"72\": {\"72\": 19, \"120\": 1, \"48\": 2, \"89\": 3, \"102\": 2, \"13\": 1}, \"64\": {\"64\": 12, \"7\": 1, \"3\": 1, \"40\": 2}, \"81\": {\"81\": 21, \"88\": 1, \"43\": 1, \"2\": 1}, \"102\": {\"102\": 106, \"89\": 1, \"31\": 3, \"90\": 1, \"69\": 1}, \"76\": {\"76\": 16}, \"49\": {\"52\": 2, \"3\": 2, \"49\": 4, \"123\": 1, \"42\": 1, \"58\": 2, \"7\": 1, \"0\": 1, \"77\": 1, \"101\": 1, \"5\": 1, \"19\": 1, \"39\": 1, \"73\": 1, \"111\": 2, \"53\": 1, \"91\": 1}, \"129\": {\"53\": 1, \"129\": 24, \"3\": 4, \"123\": 2, \"112\": 1}, \"89\": {\"89\": 28, \"82\": 2, \"63\": 2, \"23\": 2, \"118\": 1, \"49\": 1}, \"52\": {\"52\": 15, \"97\": 2, \"111\": 2, \"101\": 1}, \"35\": {\"52\": 1, \"98\": 1, \"35\": 8, \"127\": 2}, \"53\": {\"53\": 16}, \"26\": {\"18\": 4, \"26\": 108, \"69\": 4, \"90\": 2, \"87\": 3, \"62\": 1, \"25\": 1, \"14\": 1, \"2\": 3, \"10\": 1}, \"96\": {\"96\": 17, \"119\": 2, \"90\": 1}, \"27\": {\"27\": 37, \"21\": 2, \"0\": 1, \"15\": 5, \"99\": 1, \"109\": 1, \"101\": 2, \"88\": 2, \"10\": 1, \"84\": 1, \"62\": 1, \"9\": 2, \"113\": 1, \"36\": 7, \"18\": 1, \"7\": 1, \"39\": 1, \"8\": 1}, \"24\": {\"24\": 51, \"25\": 2, \"88\": 1, \"106\": 8, \"0\": 10, \"15\": 8, \"27\": 5, \"101\": 11, \"127\": 1, \"94\": 4, \"69\": 1, \"39\": 1, \"70\": 2, \"36\": 2, \"14\": 1, \"64\": 1, \"10\": 1, \"109\": 1, \"43\": 1}, \"82\": {\"82\": 28, \"33\": 4, \"15\": 2, \"21\": 1, \"10\": 1}, \"18\": {\"18\": 104, \"117\": 4, \"65\": 1, \"109\": 1, \"26\": 7, \"39\": 1, \"113\": 5, \"99\": 2, \"14\": 1, \"23\": 2}, \"69\": {\"89\": 2, \"69\": 100, \"90\": 2, \"2\": 2, \"26\": 3, \"84\": 1, \"16\": 1, \"39\": 2, \"102\": 5, \"5\": 1, \"109\": 1, \"93\": 2}, \"47\": {\"129\": 4, \"73\": 1, \"47\": 3, \"123\": 2, \"22\": 1, \"19\": 1}, \"85\": {\"74\": 1, \"85\": 25, \"7\": 1, \"3\": 2, \"5\": 1, \"32\": 1, \"73\": 1}, \"2\": {\"99\": 1, \"2\": 25, \"89\": 1, \"69\": 1, \"26\": 2, \"39\": 1, \"81\": 1}, \"67\": {\"67\": 12, \"45\": 1, \"84\": 2, \"72\": 1}, \"39\": {\"39\": 51, \"70\": 1, \"88\": 6, \"81\": 2, \"120\": 2, \"90\": 2, \"113\": 1, \"18\": 2, \"102\": 4, \"26\": 2, \"109\": 7, \"69\": 9, \"62\": 1, \"12\": 1, \"87\": 8, \"65\": 2, \"17\": 1, \"16\": 1, \"2\": 2, \"48\": 2, \"20\": 1, \"122\": 1, \"89\": 1, \"117\": 1, \"127\": 1}, \"99\": {\"99\": 27, \"26\": 1, \"16\": 2, \"39\": 2}, \"74\": {\"74\": 6, \"85\": 2, \"7\": 4, \"106\": 1, \"71\": 1, \"75\": 2}, \"105\": {\"55\": 2, \"105\": 100, \"45\": 1, \"14\": 1, \"40\": 15, \"4\": 2, \"5\": 2, \"43\": 1, \"50\": 1, \"87\": 1, \"95\": 2, \"62\": 4}, \"70\": {\"70\": 25, \"105\": 12, \"44\": 10, \"33\": 1, \"81\": 1, \"126\": 10, \"22\": 2, \"43\": 11, \"14\": 2, \"83\": 1, \"78\": 1, \"88\": 10, \"40\": 8, \"124\": 1, \"62\": 5, \"16\": 2, \"114\": 1, \"84\": 1, \"1\": 6, \"109\": 2, \"12\": 1, \"5\": 1, \"19\": 1, \"71\": 1, \"3\": 2, \"113\": 1, \"69\": 1, \"98\": 1, \"93\": 1}, \"55\": {\"55\": 13, \"67\": 3}, \"30\": {\"30\": 46, \"75\": 2, \"97\": 2, \"0\": 15, \"58\": 3, \"106\": 9, \"6\": 2, \"101\": 8, \"114\": 1, \"10\": 1, \"125\": 15, \"122\": 1, \"126\": 1, \"70\": 1, \"108\": 1, \"98\": 2, \"12\": 1, \"1\": 1}, \"60\": {\"47\": 1, \"60\": 7, \"44\": 3, \"21\": 1, \"116\": 1, \"71\": 1, \"1\": 1, \"3\": 3, \"119\": 1, \"96\": 1, \"92\": 1, \"31\": 1, \"10\": 1, \"43\": 1, \"105\": 1, \"90\": 2, \"33\": 1}, \"92\": {\"92\": 18, \"51\": 1, \"76\": 1, \"75\": 1, \"30\": 1, \"55\": 2, \"118\": 2, \"80\": 2}, \"45\": {\"60\": 1, \"55\": 1, \"45\": 13, \"88\": 1}, \"127\": {\"127\": 97, \"8\": 3, \"108\": 3, \"89\": 1, \"77\": 1, \"91\": 2, \"12\": 3, \"98\": 1, \"125\": 1}, \"9\": {\"120\": 1, \"9\": 30, \"113\": 1}, \"115\": {\"73\": 2, \"115\": 10}, \"73\": {\"73\": 24, \"71\": 1, \"19\": 1, \"3\": 2}, \"108\": {\"127\": 5, \"60\": 1, \"108\": 99, \"29\": 1, \"66\": 1, \"8\": 9, \"124\": 5, \"11\": 3, \"122\": 2, \"114\": 2, \"98\": 2, \"12\": 3, \"126\": 1, \"71\": 1, \"111\": 1, \"93\": 1, \"70\": 1}, \"114\": {\"114\": 99, \"7\": 2, \"122\": 4, \"117\": 1, \"124\": 3, \"4\": 2, \"71\": 1, \"94\": 1, \"10\": 2, \"113\": 1}, \"63\": {\"55\": 2, \"63\": 12, \"33\": 2, \"116\": 3, \"127\": 1}, \"93\": {\"93\": 98, \"16\": 11, \"90\": 4, \"84\": 1, \"87\": 7, \"33\": 1, \"118\": 2, \"88\": 2, \"44\": 1, \"43\": 1}, \"7\": {\"7\": 103, \"32\": 1, \"85\": 3, \"114\": 3, \"3\": 3, \"107\": 2, \"5\": 5, \"4\": 5, \"74\": 2, \"71\": 4, \"95\": 1}, \"31\": {\"31\": 13, \"14\": 1, \"102\": 2, \"1\": 1, \"81\": 1, \"48\": 1, \"90\": 1}, \"123\": {\"123\": 16}, \"128\": {\"19\": 2, \"111\": 2, \"51\": 2, \"108\": 1, \"61\": 1, \"107\": 1, \"23\": 1, \"128\": 2, \"30\": 1, \"42\": 1, \"73\": 1, \"123\": 1, \"105\": 1, \"94\": 1, \"125\": 1, \"14\": 1, \"122\": 1, \"52\": 1, \"3\": 1, \"8\": 1}, \"0\": {\"97\": 5, \"0\": 75, \"10\": 1, \"30\": 12, \"24\": 2, \"106\": 7, \"69\": 2, \"101\": 3, \"11\": 1, \"98\": 2, \"87\": 1, \"8\": 1, \"108\": 1, \"125\": 2, \"70\": 1}, \"3\": {\"19\": 1, \"7\": 2, \"3\": 116, \"71\": 3, \"18\": 1, \"5\": 7, \"129\": 2, \"73\": 1, \"122\": 1, \"39\": 1, \"98\": 1}, \"19\": {\"128\": 1, \"19\": 4, \"7\": 1, \"56\": 1, \"32\": 3, \"40\": 1, \"83\": 1, \"71\": 2, \"114\": 3, \"122\": 1, \"37\": 1, \"46\": 3, \"22\": 1, \"110\": 1, \"4\": 1, \"104\": 1, \"42\": 2}, \"57\": {\"57\": 17, \"65\": 2, \"122\": 1}, \"78\": {\"78\": 11, \"61\": 1, \"33\": 1, \"121\": 1, \"126\": 4, \"105\": 5, \"70\": 2, \"1\": 3, \"88\": 2, \"62\": 1, \"83\": 2, \"14\": 4, \"43\": 1, \"92\": 1, \"80\": 1, \"50\": 1, \"82\": 2, \"44\": 3, \"87\": 1, \"39\": 1}, \"95\": {\"95\": 27, \"105\": 1, \"88\": 1, \"28\": 2, \"4\": 1, \"7\": 3, \"107\": 1}, \"40\": {\"61\": 1, \"40\": 104, \"34\": 2, \"105\": 16, \"98\": 2, \"1\": 4, \"39\": 1, \"126\": 1, \"43\": 2, \"27\": 1, \"5\": 1, \"122\": 1, \"0\": 1, \"117\": 1, \"3\": 1, \"26\": 1}, \"14\": {\"14\": 21, \"61\": 1, \"45\": 1, \"16\": 1, \"57\": 1, \"128\": 1, \"3\": 4, \"5\": 1, \"62\": 1, \"124\": 1, \"18\": 2, \"55\": 1, \"22\": 1, \"105\": 2, \"88\": 1, \"40\": 2, \"44\": 2, \"1\": 2, \"94\": 1, \"118\": 1}, \"36\": {\"36\": 102, \"24\": 2, \"21\": 1, \"27\": 9, \"118\": 1, \"70\": 1, \"15\": 3, \"106\": 1, \"117\": 1, \"99\": 1, \"31\": 1, \"107\": 1, \"87\": 1, \"101\": 2, \"88\": 1}, \"56\": {\"56\": 9, \"7\": 3}, \"111\": {\"111\": 115, \"6\": 1, \"127\": 3, \"24\": 1, \"12\": 1, \"77\": 2, \"59\": 1, \"51\": 1, \"124\": 2, \"30\": 1}, \"59\": {\"54\": 1, \"59\": 11, \"29\": 1, \"15\": 1, \"35\": 1, \"24\": 1}, \"79\": {\"91\": 2, \"79\": 14}, \"62\": {\"62\": 101, \"83\": 1, \"84\": 2, \"33\": 6, \"16\": 3, \"43\": 6, \"119\": 1, \"24\": 1, \"1\": 1}, \"21\": {\"21\": 41, \"39\": 4, \"0\": 2, \"88\": 1}, \"48\": {\"48\": 20}, \"16\": {\"16\": 76, \"118\": 5, \"57\": 1, \"93\": 16, \"88\": 1, \"83\": 3, \"87\": 7, \"70\": 1, \"33\": 4, \"90\": 6, \"100\": 1, \"38\": 1, \"39\": 1, \"1\": 1}, \"50\": {\"50\": 15, \"33\": 1}, \"44\": {\"44\": 93, \"113\": 1, \"93\": 2}, \"5\": {\"73\": 1, \"5\": 81, \"71\": 6, \"7\": 5, \"4\": 2, \"3\": 5, \"114\": 3, \"93\": 1, \"107\": 2, \"124\": 1, \"32\": 2, \"12\": 1}, \"20\": {\"20\": 13, \"23\": 2, \"24\": 1}, \"1\": {\"50\": 2, \"1\": 102, \"57\": 1, \"105\": 1, \"118\": 1, \"43\": 10, \"62\": 1, \"44\": 1, \"84\": 1}, \"65\": {\"65\": 17, \"27\": 1, \"113\": 1, \"71\": 1}, \"116\": {\"60\": 2, \"116\": 19, \"63\": 2, \"100\": 1, \"84\": 1, \"33\": 1, \"82\": 1, \"93\": 1}, \"51\": {\"51\": 16, \"125\": 2, \"128\": 1, \"0\": 1}, \"75\": {\"75\": 13, \"11\": 1, \"102\": 1, \"103\": 1}, \"100\": {\"100\": 13, \"60\": 1, \"83\": 2}, \"113\": {\"113\": 59, \"117\": 10, \"99\": 2, \"18\": 1}, \"41\": {\"41\": 20}, \"29\": {\"29\": 28, \"68\": 1, \"124\": 1, \"98\": 1, \"128\": 1}, \"23\": {\"29\": 2, \"23\": 7, \"114\": 4, \"104\": 1, \"81\": 1, \"121\": 2, \"34\": 5, \"32\": 1, \"124\": 3, \"102\": 1, \"26\": 2, \"117\": 1, \"18\": 3, \"99\": 2, \"39\": 2, \"127\": 2, \"122\": 2, \"120\": 1, \"71\": 1, \"98\": 1}, \"124\": {\"29\": 2, \"124\": 96, \"86\": 1, \"34\": 5, \"98\": 12, \"122\": 2, \"114\": 3, \"23\": 1, \"21\": 1, \"117\": 1}, \"68\": {\"68\": 11, \"114\": 2, \"18\": 1, \"19\": 2}, \"71\": {\"71\": 68, \"107\": 1, \"122\": 2, \"73\": 1, \"5\": 10, \"7\": 2, \"101\": 1, \"114\": 2, \"4\": 4, \"74\": 2, \"129\": 2, \"32\": 1, \"110\": 2, \"98\": 2}, \"107\": {\"107\": 42, \"117\": 1, \"32\": 1, \"39\": 1, \"91\": 1, \"112\": 1, \"98\": 1, \"14\": 2, \"114\": 2, \"7\": 4, \"26\": 2, \"99\": 1, \"74\": 1, \"5\": 2, \"71\": 1, \"105\": 1}, \"94\": {\"94\": 27, \"0\": 4, \"109\": 2, \"101\": 12, \"88\": 1, \"106\": 8, \"15\": 2, \"118\": 1, \"79\": 1, \"24\": 4, \"18\": 1, \"110\": 1}, \"77\": {\"77\": 11, \"75\": 1, \"49\": 1, \"66\": 1, \"39\": 1, \"51\": 1}, \"8\": {\"35\": 2, \"8\": 79, \"49\": 2, \"29\": 1, \"91\": 1, \"111\": 8, \"0\": 1, \"12\": 2, \"127\": 5, \"108\": 15, \"75\": 1, \"77\": 1, \"101\": 1, \"125\": 1, \"114\": 1, \"5\": 1}, \"46\": {\"46\": 14, \"60\": 2}, \"25\": {\"25\": 14, \"83\": 1, \"38\": 1}, \"122\": {\"122\": 50, \"34\": 5, \"129\": 2, \"10\": 2, \"11\": 7, \"41\": 1, \"8\": 2, \"95\": 1, \"107\": 1, \"114\": 7, \"110\": 2, \"105\": 1, \"124\": 18, \"23\": 2, \"7\": 6, \"44\": 1, \"12\": 2, \"3\": 4, \"71\": 6, \"98\": 7, \"126\": 1, \"39\": 1, \"43\": 2, \"5\": 3, \"19\": 1, \"32\": 1, \"113\": 1, \"4\": 1, \"108\": 2}, \"58\": {\"97\": 2, \"49\": 2, \"58\": 13, \"17\": 1, \"110\": 1, \"24\": 1}, \"6\": {\"51\": 5, \"6\": 12, \"101\": 5, \"9\": 2, \"15\": 1, \"125\": 2, \"12\": 1, \"25\": 2, \"29\": 1, \"52\": 1}, \"109\": {\"16\": 10, \"109\": 27, \"82\": 2, \"46\": 2, \"116\": 1, \"87\": 5, \"90\": 8, \"118\": 2, \"88\": 7, \"113\": 1, \"84\": 2, \"93\": 12, \"33\": 2, \"70\": 5, \"117\": 1, \"126\": 2, \"38\": 2, \"63\": 1, \"12\": 1, \"14\": 1, \"119\": 1, \"7\": 2, \"78\": 1, \"83\": 2}, \"119\": {\"119\": 15, \"90\": 2, \"118\": 2, \"27\": 1}, \"34\": {\"122\": 1, \"29\": 2, \"98\": 3, \"11\": 1, \"34\": 18, \"114\": 3, \"91\": 2, \"71\": 2}, \"90\": {\"102\": 7, \"90\": 127, \"87\": 2, \"99\": 1, \"118\": 1, \"18\": 1, \"26\": 1}, \"38\": {\"38\": 13, \"84\": 2, \"116\": 1}, \"104\": {\"8\": 1, \"104\": 15, \"86\": 2, \"129\": 1, \"29\": 1}, \"84\": {\"84\": 66, \"65\": 1, \"119\": 1, \"33\": 10, \"118\": 3, \"62\": 3, \"43\": 2, \"106\": 1, \"116\": 2, \"102\": 1, \"93\": 2}, \"112\": {\"112\": 10, \"10\": 1, \"34\": 2, \"19\": 2, \"73\": 1}, \"66\": {\"66\": 13, \"114\": 2, \"19\": 1, \"28\": 1, \"71\": 1, \"104\": 1, \"15\": 1}, \"22\": {\"22\": 20}, \"37\": {\"37\": 15, \"28\": 1}, \"43\": {\"78\": 5, \"62\": 12, \"83\": 3, \"43\": 45, \"96\": 1, \"1\": 15, \"93\": 1, \"105\": 8, \"88\": 2, \"39\": 2, \"44\": 4, \"70\": 6, \"124\": 1, \"8\": 1, \"40\": 1, \"33\": 4, \"55\": 1, \"16\": 2, \"122\": 1, \"72\": 1, \"107\": 1, \"87\": 1, \"109\": 1, \"118\": 1, \"84\": 2, \"126\": 1, \"90\": 1}}}, \"per_domain_accuracy\": {\"ORACLE.run114\": {\"accuracy\": 0.6947916666666667, \"source?\": true}, \"ORACLE.run120\": {\"accuracy\": 0.44036458333333334, \"source?\": true}, \"ORACLE.run138\": {\"accuracy\": 0.6466145833333333, \"source?\": true}, \"ORACLE.run18\": {\"accuracy\": 0.53515625, \"source?\": true}, \"ORACLE.run150\": {\"accuracy\": 0.6822916666666666, \"source?\": true}, \"ORACLE.run132\": {\"accuracy\": 0.6721354166666667, \"source?\": true}, \"ORACLE.run126\": {\"accuracy\": 0.4278645833333333, \"source?\": true}, \"ORACLE.run144\": {\"accuracy\": 0.6669270833333333, \"source?\": true}, \"Wisig_3\": {\"accuracy\": 0.7250548245614035, \"source?\": false}, \"Wisig_4\": {\"accuracy\": 0.6577932098765432, \"source?\": false}, \"Wisig_1\": {\"accuracy\": 0.7257978723404256, \"source?\": false}, \"Wisig_2\": {\"accuracy\": 0.6913077731092437, \"source?\": false}}}, \"history\": {\"epoch_indices\": [1, 2, 3, 4, 5, 6, 7, 8, 9, 10, 11, 12, 13, 14], \"train_label_loss\": [1.6813343117013573, 1.040908590185323, 0.8696315866850671, 0.7530108370108619, 0.6567456628362249, 0.5738820759468668, 0.49807747931086593, 0.4362923247573365, 0.3795903263675947, 0.33380203460456825, 0.2974916294253836, 0.26675305995789433, 0.24006210034581488, 0.21626568675888155], \"source_val_label_loss\": [1.2630536556243896, 1.0915169715881348, 1.053457498550415, 1.0827301740646362, 1.1277401447296143, 1.1691821813583374, 1.2370251417160034, 1.3347445726394653, 1.4230782985687256, 1.5075217485427856, 1.5630401372909546, 1.653749704360962, 1.697935938835144, 1.8271033763885498], \"target_val_label_loss\": [6.5535688400268555, 6.596290111541748, 7.60362434387207, 8.838151931762695, 10.09085464477539, 10.8975830078125, 12.10461139678955, 13.822620391845703, 15.08416748046875, 15.978503227233887, 17.302997589111328, 18.181259155273438, 18.533544540405273, 19.979782104492188], \"source_val_acc_label\": [0.5317708333333333, 0.5876627604166667, 0.6010091145833333, 0.6001953125, 0.6005533854166667, 0.6010416666666667, 0.5995768229166667, 0.59921875, 0.5959635416666667, 0.5957682291666667, 0.599609375, 0.5954752604166667, 0.5970052083333334, 0.5882486979166667], \"target_val_acc_label\": [0.6205971927966102, 0.6541644597457628, 0.6677370233050848, 0.6649563029661016, 0.6642280190677966, 0.6839909957627118, 0.6791578389830508, 0.6759136652542372, 0.6850834216101694, 0.699417372881356, 0.6894862288135594, 0.6963718220338984, 0.6882944915254238, 0.6927966101694916]}, \"dataset_metrics\": {\"source\": {\"train\": {\"n_unique_x\": 179200, \"n_unique_y\": 16, \"n_batch/episode\": 6720}, \"val\": {\"n_unique_x\": 38400, \"n_unique_y\": 16, \"n_batch/episode\": 960}, \"test\": {\"n_unique_x\": 38400, \"n_unique_y\": 16, \"n_batch/episode\": 960}}, \"target\": {\"train\": {\"n_unique_x\": 188967, \"n_unique_y\": 130, \"n_batch/episode\": 6837}, \"val\": {\"n_unique_x\": 40068, \"n_unique_y\": 130, \"n_batch/episode\": 944}, \"test\": {\"n_unique_x\": 40816, \"n_unique_y\": 130, \"n_batch/episode\": 969}}}}'"
      ]
     },
     "execution_count": 29,
     "metadata": {},
     "output_type": "execute_result"
    }
   ],
   "source": [
    "json.dumps(experiment)"
   ]
  }
 ],
 "metadata": {
  "celltoolbar": "Tags",
  "kernelspec": {
   "display_name": "Python 3 (ipykernel)",
   "language": "python",
   "name": "python3"
  },
  "language_info": {
   "codemirror_mode": {
    "name": "ipython",
    "version": 3
   },
   "file_extension": ".py",
   "mimetype": "text/x-python",
   "name": "python",
   "nbconvert_exporter": "python",
   "pygments_lexer": "ipython3",
   "version": "3.8.12"
  },
  "papermill": {
   "default_parameters": {},
   "duration": 2926.873072,
   "end_time": "2022-03-22T18:27:34.429835",
   "environment_variables": {},
   "exception": null,
   "input_path": "/root/csc500-main/csc500-notebooks/templates/tl_ptn_template.ipynb",
   "output_path": "trial.ipynb",
   "parameters": {
    "parameters": {
     "BEST_MODEL_PATH": "./best_model.pth",
     "NUM_LOGS_PER_EPOCH": 10,
     "criteria_for_best": "target_accuracy",
     "dataset_seed": 1337,
     "datasets": [
      {
       "domain_prefix": "Wisig_",
       "domains": [
        1,
        2,
        3,
        4
       ],
       "episode_transforms": [],
       "labels": [
        "1-10",
        "1-12",
        "1-14",
        "1-16",
        "1-18",
        "1-19",
        "1-8",
        "10-11",
        "10-17",
        "10-4",
        "10-7",
        "11-1",
        "11-10",
        "11-19",
        "11-20",
        "11-4",
        "11-7",
        "12-19",
        "12-20",
        "12-7",
        "13-14",
        "13-18",
        "13-19",
        "13-20",
        "13-3",
        "13-7",
        "14-10",
        "14-11",
        "14-12",
        "14-13",
        "14-14",
        "14-19",
        "14-20",
        "14-7",
        "14-8",
        "14-9",
        "15-1",
        "15-19",
        "15-6",
        "16-1",
        "16-16",
        "16-19",
        "16-20",
        "17-10",
        "17-11",
        "18-1",
        "18-10",
        "18-11",
        "18-12",
        "18-13",
        "18-14",
        "18-15",
        "18-16",
        "18-17",
        "18-19",
        "18-2",
        "18-20",
        "18-4",
        "18-5",
        "18-7",
        "18-8",
        "18-9",
        "19-1",
        "19-10",
        "19-11",
        "19-12",
        "19-13",
        "19-14",
        "19-15",
        "19-19",
        "19-2",
        "19-20",
        "19-3",
        "19-4",
        "19-6",
        "19-7",
        "19-8",
        "19-9",
        "2-1",
        "2-13",
        "2-15",
        "2-3",
        "2-4",
        "2-5",
        "2-6",
        "2-7",
        "2-8",
        "20-1",
        "20-12",
        "20-14",
        "20-15",
        "20-16",
        "20-18",
        "20-19",
        "20-20",
        "20-3",
        "20-4",
        "20-5",
        "20-7",
        "20-8",
        "3-1",
        "3-13",
        "3-18",
        "3-2",
        "3-8",
        "4-1",
        "4-10",
        "4-11",
        "5-1",
        "5-5",
        "6-1",
        "6-15",
        "6-6",
        "7-10",
        "7-11",
        "7-12",
        "7-13",
        "7-14",
        "7-7",
        "7-8",
        "7-9",
        "8-1",
        "8-13",
        "8-14",
        "8-18",
        "8-20",
        "8-3",
        "8-8",
        "9-1",
        "9-7"
       ],
       "num_examples_per_domain_per_label": -1,
       "pickle_path": "/root/csc500-main/datasets/wisig.node3-19.stratified_ds.2022A.pkl",
       "source_or_target_dataset": "target",
       "x_transforms": [
        "unit_mag"
       ]
      },
      {
       "domain_prefix": "ORACLE.run1",
       "domains": [
        32,
        38,
        8,
        44,
        14,
        50,
        20,
        26
       ],
       "episode_transforms": [],
       "labels": [
        "3123D52",
        "3123D65",
        "3123D79",
        "3123D80",
        "3123D54",
        "3123D70",
        "3123D7B",
        "3123D89",
        "3123D58",
        "3123D76",
        "3123D7D",
        "3123EFE",
        "3123D64",
        "3123D78",
        "3123D7E",
        "3124E4A"
       ],
       "num_examples_per_domain_per_label": 2000,
       "pickle_path": "/root/csc500-main/datasets/oracle.Run1_10kExamples_stratified_ds.2022A.pkl",
       "source_or_target_dataset": "source",
       "x_transforms": [
        "unit_mag"
       ]
      }
     ],
     "device": "cuda",
     "experiment_name": "tl_1v2:wisig-oracle.run1.limited",
     "lr": 0.0001,
     "n_epoch": 50,
     "n_query": 2,
     "n_shot": 3,
     "n_way": 16,
     "patience": 3,
     "seed": 1337,
     "test_k_factor": 2,
     "torch_default_dtype": "torch.float32",
     "train_k_factor": 3,
     "val_k_factor": 2,
     "x_net": [
      {
       "class": "nnReshape",
       "kargs": {
        "shape": [
         -1,
         1,
         2,
         256
        ]
       }
      },
      {
       "class": "Conv2d",
       "kargs": {
        "bias": false,
        "in_channels": 1,
        "kernel_size": [
         1,
         7
        ],
        "out_channels": 256,
        "padding": [
         0,
         3
        ]
       }
      },
      {
       "class": "ReLU",
       "kargs": {
        "inplace": true
       }
      },
      {
       "class": "BatchNorm2d",
       "kargs": {
        "num_features": 256
       }
      },
      {
       "class": "Conv2d",
       "kargs": {
        "bias": true,
        "in_channels": 256,
        "kernel_size": [
         2,
         7
        ],
        "out_channels": 80,
        "padding": [
         0,
         3
        ]
       }
      },
      {
       "class": "ReLU",
       "kargs": {
        "inplace": true
       }
      },
      {
       "class": "BatchNorm2d",
       "kargs": {
        "num_features": 80
       }
      },
      {
       "class": "Flatten",
       "kargs": {}
      },
      {
       "class": "Linear",
       "kargs": {
        "in_features": 20480,
        "out_features": 256
       }
      },
      {
       "class": "ReLU",
       "kargs": {
        "inplace": true
       }
      },
      {
       "class": "BatchNorm1d",
       "kargs": {
        "num_features": 256
       }
      },
      {
       "class": "Linear",
       "kargs": {
        "in_features": 256,
        "out_features": 256
       }
      }
     ]
    }
   },
   "start_time": "2022-03-22T17:38:47.556763",
   "version": "2.3.4"
  }
 },
 "nbformat": 4,
 "nbformat_minor": 5
}