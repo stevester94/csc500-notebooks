{
 "cells": [
  {
   "cell_type": "markdown",
   "id": "9fea5f46",
   "metadata": {
    "papermill": {
     "duration": 0.029305,
     "end_time": "2022-03-22T20:55:48.098364",
     "exception": false,
     "start_time": "2022-03-22T20:55:48.069059",
     "status": "completed"
    },
    "tags": []
   },
   "source": [
    "# Transfer Learning Template"
   ]
  },
  {
   "cell_type": "code",
   "execution_count": 1,
   "id": "0902182a",
   "metadata": {
    "execution": {
     "iopub.execute_input": "2022-03-22T20:55:48.158162Z",
     "iopub.status.busy": "2022-03-22T20:55:48.157322Z",
     "iopub.status.idle": "2022-03-22T20:55:50.023659Z",
     "shell.execute_reply": "2022-03-22T20:55:50.022734Z"
    },
    "papermill": {
     "duration": 1.903789,
     "end_time": "2022-03-22T20:55:50.023854",
     "exception": false,
     "start_time": "2022-03-22T20:55:48.120065",
     "status": "completed"
    },
    "tags": []
   },
   "outputs": [],
   "source": [
    "%load_ext autoreload\n",
    "%autoreload 2\n",
    "%matplotlib inline\n",
    "\n",
    "    \n",
    "import os, json, sys, time, random\n",
    "import numpy as np\n",
    "import torch\n",
    "from torch.optim import Adam\n",
    "from  easydict import EasyDict\n",
    "import matplotlib.pyplot as plt\n",
    "\n",
    "from steves_models.steves_ptn import Steves_Prototypical_Network\n",
    "\n",
    "from steves_utils.lazy_iterable_wrapper import Lazy_Iterable_Wrapper\n",
    "from steves_utils.iterable_aggregator import Iterable_Aggregator\n",
    "from steves_utils.ptn_train_eval_test_jig import  PTN_Train_Eval_Test_Jig\n",
    "from steves_utils.torch_sequential_builder import build_sequential\n",
    "from steves_utils.torch_utils import get_dataset_metrics, ptn_confusion_by_domain_over_dataloader\n",
    "from steves_utils.utils_v2 import (per_domain_accuracy_from_confusion, get_datasets_base_path)\n",
    "from steves_utils.PTN.utils import independent_accuracy_assesment\n",
    "\n",
    "from torch.utils.data import DataLoader\n",
    "\n",
    "from steves_utils.stratified_dataset.episodic_accessor import Episodic_Accessor_Factory\n",
    "\n",
    "from steves_utils.ptn_do_report import (\n",
    "    get_loss_curve,\n",
    "    get_results_table,\n",
    "    get_parameters_table,\n",
    "    get_domain_accuracies,\n",
    ")\n",
    "\n",
    "from steves_utils.transforms import get_chained_transform"
   ]
  },
  {
   "cell_type": "markdown",
   "id": "41c840b4",
   "metadata": {
    "papermill": {
     "duration": 0.019407,
     "end_time": "2022-03-22T20:55:50.067286",
     "exception": false,
     "start_time": "2022-03-22T20:55:50.047879",
     "status": "completed"
    },
    "tags": []
   },
   "source": [
    "# Allowed Parameters\n",
    "These are allowed parameters, not defaults\n",
    "Each of these values need to be present in the injected parameters (the notebook will raise an exception if they are not present)\n",
    "\n",
    "Papermill uses the cell tag \"parameters\" to inject the real parameters below this cell.\n",
    "Enable tags to see what I mean"
   ]
  },
  {
   "cell_type": "code",
   "execution_count": 2,
   "id": "fd44eb83",
   "metadata": {
    "execution": {
     "iopub.execute_input": "2022-03-22T20:55:50.109617Z",
     "iopub.status.busy": "2022-03-22T20:55:50.109152Z",
     "iopub.status.idle": "2022-03-22T20:55:50.130180Z",
     "shell.execute_reply": "2022-03-22T20:55:50.129375Z"
    },
    "papermill": {
     "duration": 0.043885,
     "end_time": "2022-03-22T20:55:50.130334",
     "exception": false,
     "start_time": "2022-03-22T20:55:50.086449",
     "status": "completed"
    },
    "tags": []
   },
   "outputs": [],
   "source": [
    "required_parameters = {\n",
    "    \"experiment_name\",\n",
    "    \"lr\",\n",
    "    \"device\",\n",
    "    \"seed\",\n",
    "    \"dataset_seed\",\n",
    "    \"n_shot\",\n",
    "    \"n_query\",\n",
    "    \"n_way\",\n",
    "    \"train_k_factor\",\n",
    "    \"val_k_factor\",\n",
    "    \"test_k_factor\",\n",
    "    \"n_epoch\",\n",
    "    \"patience\",\n",
    "    \"criteria_for_best\",\n",
    "    \"x_net\",\n",
    "    \"datasets\",\n",
    "    \"torch_default_dtype\",\n",
    "    \"NUM_LOGS_PER_EPOCH\",\n",
    "    \"BEST_MODEL_PATH\",\n",
    "    \"x_shape\",\n",
    "}"
   ]
  },
  {
   "cell_type": "code",
   "execution_count": 3,
   "id": "fa3f0049",
   "metadata": {
    "execution": {
     "iopub.execute_input": "2022-03-22T20:55:50.184033Z",
     "iopub.status.busy": "2022-03-22T20:55:50.183626Z",
     "iopub.status.idle": "2022-03-22T20:55:50.206144Z",
     "shell.execute_reply": "2022-03-22T20:55:50.205347Z"
    },
    "papermill": {
     "duration": 0.050754,
     "end_time": "2022-03-22T20:55:50.206296",
     "exception": false,
     "start_time": "2022-03-22T20:55:50.155542",
     "status": "completed"
    },
    "tags": [
     "parameters"
    ]
   },
   "outputs": [],
   "source": [
    "from steves_utils.CORES.utils import (\n",
    "    ALL_NODES,\n",
    "    ALL_NODES_MINIMUM_1000_EXAMPLES,\n",
    "    ALL_DAYS\n",
    ")\n",
    "\n",
    "from steves_utils.ORACLE.utils_v2 import (\n",
    "    ALL_DISTANCES_FEET_NARROWED,\n",
    "    ALL_RUNS,\n",
    "    ALL_SERIAL_NUMBERS,\n",
    ")\n",
    "\n",
    "standalone_parameters = {}\n",
    "standalone_parameters[\"experiment_name\"] = \"STANDALONE PTN\"\n",
    "standalone_parameters[\"lr\"] = 0.001\n",
    "standalone_parameters[\"device\"] = \"cuda\"\n",
    "\n",
    "standalone_parameters[\"seed\"] = 1337\n",
    "standalone_parameters[\"dataset_seed\"] = 1337\n",
    "\n",
    "standalone_parameters[\"n_way\"] = 8\n",
    "standalone_parameters[\"n_shot\"] = 3\n",
    "standalone_parameters[\"n_query\"]  = 2\n",
    "standalone_parameters[\"train_k_factor\"] = 1\n",
    "standalone_parameters[\"val_k_factor\"] = 2\n",
    "standalone_parameters[\"test_k_factor\"] = 2\n",
    "\n",
    "\n",
    "standalone_parameters[\"n_epoch\"] = 50\n",
    "\n",
    "standalone_parameters[\"patience\"] = 10\n",
    "standalone_parameters[\"criteria_for_best\"] = \"source_loss\"\n",
    "\n",
    "standalone_parameters[\"datasets\"] = [\n",
    "    {\n",
    "        \"labels\": ALL_SERIAL_NUMBERS,\n",
    "        \"domains\": ALL_DISTANCES_FEET_NARROWED,\n",
    "        \"num_examples_per_domain_per_label\": 100,\n",
    "        \"pickle_path\": os.path.join(get_datasets_base_path(), \"oracle.Run1_framed_2000Examples_stratified_ds.2022A.pkl\"),\n",
    "        \"source_or_target_dataset\": \"source\",\n",
    "        \"x_transforms\": [\"unit_mag\", \"minus_two\"],\n",
    "        \"episode_transforms\": [],\n",
    "        \"domain_prefix\": \"ORACLE_\"\n",
    "    },\n",
    "    {\n",
    "        \"labels\": ALL_NODES,\n",
    "        \"domains\": ALL_DAYS,\n",
    "        \"num_examples_per_domain_per_label\": 100,\n",
    "        \"pickle_path\": os.path.join(get_datasets_base_path(), \"cores.stratified_ds.2022A.pkl\"),\n",
    "        \"source_or_target_dataset\": \"target\",\n",
    "        \"x_transforms\": [\"unit_power\", \"times_zero\"],\n",
    "        \"episode_transforms\": [],\n",
    "        \"domain_prefix\": \"CORES_\"\n",
    "    }   \n",
    "]\n",
    "\n",
    "standalone_parameters[\"torch_default_dtype\"] = \"torch.float32\" \n",
    "\n",
    "\n",
    "\n",
    "standalone_parameters[\"x_net\"] =     [\n",
    "    {\"class\": \"nnReshape\", \"kargs\": {\"shape\":[-1, 1, 2, 256]}},\n",
    "    {\"class\": \"Conv2d\", \"kargs\": { \"in_channels\":1, \"out_channels\":256, \"kernel_size\":(1,7), \"bias\":False, \"padding\":(0,3), },},\n",
    "    {\"class\": \"ReLU\", \"kargs\": {\"inplace\": True}},\n",
    "    {\"class\": \"BatchNorm2d\", \"kargs\": {\"num_features\":256}},\n",
    "\n",
    "    {\"class\": \"Conv2d\", \"kargs\": { \"in_channels\":256, \"out_channels\":80, \"kernel_size\":(2,7), \"bias\":True, \"padding\":(0,3), },},\n",
    "    {\"class\": \"ReLU\", \"kargs\": {\"inplace\": True}},\n",
    "    {\"class\": \"BatchNorm2d\", \"kargs\": {\"num_features\":80}},\n",
    "    {\"class\": \"Flatten\", \"kargs\": {}},\n",
    "\n",
    "    {\"class\": \"Linear\", \"kargs\": {\"in_features\": 80*256, \"out_features\": 256}}, # 80 units per IQ pair\n",
    "    {\"class\": \"ReLU\", \"kargs\": {\"inplace\": True}},\n",
    "    {\"class\": \"BatchNorm1d\", \"kargs\": {\"num_features\":256}},\n",
    "\n",
    "    {\"class\": \"Linear\", \"kargs\": {\"in_features\": 256, \"out_features\": 256}},\n",
    "]\n",
    "\n",
    "# Parameters relevant to results\n",
    "# These parameters will basically never need to change\n",
    "standalone_parameters[\"NUM_LOGS_PER_EPOCH\"] = 10\n",
    "standalone_parameters[\"BEST_MODEL_PATH\"] = \"./best_model.pth\"\n",
    "\n",
    "\n",
    "\n",
    "\n"
   ]
  },
  {
   "cell_type": "code",
   "execution_count": 4,
   "id": "7a6d6ba5",
   "metadata": {
    "execution": {
     "iopub.execute_input": "2022-03-22T20:55:50.262300Z",
     "iopub.status.busy": "2022-03-22T20:55:50.261324Z",
     "iopub.status.idle": "2022-03-22T20:55:50.283337Z",
     "shell.execute_reply": "2022-03-22T20:55:50.282546Z"
    },
    "papermill": {
     "duration": 0.052402,
     "end_time": "2022-03-22T20:55:50.283487",
     "exception": false,
     "start_time": "2022-03-22T20:55:50.231085",
     "status": "completed"
    },
    "tags": [
     "injected-parameters"
    ]
   },
   "outputs": [],
   "source": [
    "# Parameters\n",
    "parameters = {\n",
    "    \"experiment_name\": \"tl_1v2:wisig-oracle.run1.limited\",\n",
    "    \"device\": \"cuda\",\n",
    "    \"lr\": 0.0001,\n",
    "    \"n_shot\": 3,\n",
    "    \"n_query\": 2,\n",
    "    \"train_k_factor\": 3,\n",
    "    \"val_k_factor\": 2,\n",
    "    \"test_k_factor\": 2,\n",
    "    \"torch_default_dtype\": \"torch.float32\",\n",
    "    \"n_epoch\": 50,\n",
    "    \"patience\": 3,\n",
    "    \"criteria_for_best\": \"target_accuracy\",\n",
    "    \"x_net\": [\n",
    "        {\"class\": \"nnReshape\", \"kargs\": {\"shape\": [-1, 1, 2, 256]}},\n",
    "        {\n",
    "            \"class\": \"Conv2d\",\n",
    "            \"kargs\": {\n",
    "                \"in_channels\": 1,\n",
    "                \"out_channels\": 256,\n",
    "                \"kernel_size\": [1, 7],\n",
    "                \"bias\": False,\n",
    "                \"padding\": [0, 3],\n",
    "            },\n",
    "        },\n",
    "        {\"class\": \"ReLU\", \"kargs\": {\"inplace\": True}},\n",
    "        {\"class\": \"BatchNorm2d\", \"kargs\": {\"num_features\": 256}},\n",
    "        {\n",
    "            \"class\": \"Conv2d\",\n",
    "            \"kargs\": {\n",
    "                \"in_channels\": 256,\n",
    "                \"out_channels\": 80,\n",
    "                \"kernel_size\": [2, 7],\n",
    "                \"bias\": True,\n",
    "                \"padding\": [0, 3],\n",
    "            },\n",
    "        },\n",
    "        {\"class\": \"ReLU\", \"kargs\": {\"inplace\": True}},\n",
    "        {\"class\": \"BatchNorm2d\", \"kargs\": {\"num_features\": 80}},\n",
    "        {\"class\": \"Flatten\", \"kargs\": {}},\n",
    "        {\"class\": \"Linear\", \"kargs\": {\"in_features\": 20480, \"out_features\": 256}},\n",
    "        {\"class\": \"ReLU\", \"kargs\": {\"inplace\": True}},\n",
    "        {\"class\": \"BatchNorm1d\", \"kargs\": {\"num_features\": 256}},\n",
    "        {\"class\": \"Linear\", \"kargs\": {\"in_features\": 256, \"out_features\": 256}},\n",
    "    ],\n",
    "    \"NUM_LOGS_PER_EPOCH\": 10,\n",
    "    \"BEST_MODEL_PATH\": \"./best_model.pth\",\n",
    "    \"n_way\": 16,\n",
    "    \"datasets\": [\n",
    "        {\n",
    "            \"labels\": [\n",
    "                \"1-10\",\n",
    "                \"1-12\",\n",
    "                \"1-14\",\n",
    "                \"1-16\",\n",
    "                \"1-18\",\n",
    "                \"1-19\",\n",
    "                \"1-8\",\n",
    "                \"10-11\",\n",
    "                \"10-17\",\n",
    "                \"10-4\",\n",
    "                \"10-7\",\n",
    "                \"11-1\",\n",
    "                \"11-10\",\n",
    "                \"11-19\",\n",
    "                \"11-20\",\n",
    "                \"11-4\",\n",
    "                \"11-7\",\n",
    "                \"12-19\",\n",
    "                \"12-20\",\n",
    "                \"12-7\",\n",
    "                \"13-14\",\n",
    "                \"13-18\",\n",
    "                \"13-19\",\n",
    "                \"13-20\",\n",
    "                \"13-3\",\n",
    "                \"13-7\",\n",
    "                \"14-10\",\n",
    "                \"14-11\",\n",
    "                \"14-12\",\n",
    "                \"14-13\",\n",
    "                \"14-14\",\n",
    "                \"14-19\",\n",
    "                \"14-20\",\n",
    "                \"14-7\",\n",
    "                \"14-8\",\n",
    "                \"14-9\",\n",
    "                \"15-1\",\n",
    "                \"15-19\",\n",
    "                \"15-6\",\n",
    "                \"16-1\",\n",
    "                \"16-16\",\n",
    "                \"16-19\",\n",
    "                \"16-20\",\n",
    "                \"17-10\",\n",
    "                \"17-11\",\n",
    "                \"18-1\",\n",
    "                \"18-10\",\n",
    "                \"18-11\",\n",
    "                \"18-12\",\n",
    "                \"18-13\",\n",
    "                \"18-14\",\n",
    "                \"18-15\",\n",
    "                \"18-16\",\n",
    "                \"18-17\",\n",
    "                \"18-19\",\n",
    "                \"18-2\",\n",
    "                \"18-20\",\n",
    "                \"18-4\",\n",
    "                \"18-5\",\n",
    "                \"18-7\",\n",
    "                \"18-8\",\n",
    "                \"18-9\",\n",
    "                \"19-1\",\n",
    "                \"19-10\",\n",
    "                \"19-11\",\n",
    "                \"19-12\",\n",
    "                \"19-13\",\n",
    "                \"19-14\",\n",
    "                \"19-15\",\n",
    "                \"19-19\",\n",
    "                \"19-2\",\n",
    "                \"19-20\",\n",
    "                \"19-3\",\n",
    "                \"19-4\",\n",
    "                \"19-6\",\n",
    "                \"19-7\",\n",
    "                \"19-8\",\n",
    "                \"19-9\",\n",
    "                \"2-1\",\n",
    "                \"2-13\",\n",
    "                \"2-15\",\n",
    "                \"2-3\",\n",
    "                \"2-4\",\n",
    "                \"2-5\",\n",
    "                \"2-6\",\n",
    "                \"2-7\",\n",
    "                \"2-8\",\n",
    "                \"20-1\",\n",
    "                \"20-12\",\n",
    "                \"20-14\",\n",
    "                \"20-15\",\n",
    "                \"20-16\",\n",
    "                \"20-18\",\n",
    "                \"20-19\",\n",
    "                \"20-20\",\n",
    "                \"20-3\",\n",
    "                \"20-4\",\n",
    "                \"20-5\",\n",
    "                \"20-7\",\n",
    "                \"20-8\",\n",
    "                \"3-1\",\n",
    "                \"3-13\",\n",
    "                \"3-18\",\n",
    "                \"3-2\",\n",
    "                \"3-8\",\n",
    "                \"4-1\",\n",
    "                \"4-10\",\n",
    "                \"4-11\",\n",
    "                \"5-1\",\n",
    "                \"5-5\",\n",
    "                \"6-1\",\n",
    "                \"6-15\",\n",
    "                \"6-6\",\n",
    "                \"7-10\",\n",
    "                \"7-11\",\n",
    "                \"7-12\",\n",
    "                \"7-13\",\n",
    "                \"7-14\",\n",
    "                \"7-7\",\n",
    "                \"7-8\",\n",
    "                \"7-9\",\n",
    "                \"8-1\",\n",
    "                \"8-13\",\n",
    "                \"8-14\",\n",
    "                \"8-18\",\n",
    "                \"8-20\",\n",
    "                \"8-3\",\n",
    "                \"8-8\",\n",
    "                \"9-1\",\n",
    "                \"9-7\",\n",
    "            ],\n",
    "            \"domains\": [1, 2, 3, 4],\n",
    "            \"num_examples_per_domain_per_label\": -1,\n",
    "            \"pickle_path\": \"/root/csc500-main/datasets/wisig.node3-19.stratified_ds.2022A.pkl\",\n",
    "            \"source_or_target_dataset\": \"target\",\n",
    "            \"x_transforms\": [\"unit_power\"],\n",
    "            \"episode_transforms\": [],\n",
    "            \"domain_prefix\": \"Wisig_\",\n",
    "        },\n",
    "        {\n",
    "            \"labels\": [\n",
    "                \"3123D52\",\n",
    "                \"3123D65\",\n",
    "                \"3123D79\",\n",
    "                \"3123D80\",\n",
    "                \"3123D54\",\n",
    "                \"3123D70\",\n",
    "                \"3123D7B\",\n",
    "                \"3123D89\",\n",
    "                \"3123D58\",\n",
    "                \"3123D76\",\n",
    "                \"3123D7D\",\n",
    "                \"3123EFE\",\n",
    "                \"3123D64\",\n",
    "                \"3123D78\",\n",
    "                \"3123D7E\",\n",
    "                \"3124E4A\",\n",
    "            ],\n",
    "            \"domains\": [32, 38, 8, 44, 14, 50, 20, 26],\n",
    "            \"num_examples_per_domain_per_label\": 2000,\n",
    "            \"pickle_path\": \"/root/csc500-main/datasets/oracle.Run1_10kExamples_stratified_ds.2022A.pkl\",\n",
    "            \"source_or_target_dataset\": \"source\",\n",
    "            \"x_transforms\": [\"unit_power\"],\n",
    "            \"episode_transforms\": [],\n",
    "            \"domain_prefix\": \"ORACLE.run1\",\n",
    "        },\n",
    "    ],\n",
    "    \"dataset_seed\": 420,\n",
    "    \"seed\": 420,\n",
    "}\n"
   ]
  },
  {
   "cell_type": "code",
   "execution_count": 5,
   "id": "8fa1cc33",
   "metadata": {
    "execution": {
     "iopub.execute_input": "2022-03-22T20:55:50.335831Z",
     "iopub.status.busy": "2022-03-22T20:55:50.335031Z",
     "iopub.status.idle": "2022-03-22T20:55:50.355631Z",
     "shell.execute_reply": "2022-03-22T20:55:50.354823Z"
    },
    "papermill": {
     "duration": 0.043878,
     "end_time": "2022-03-22T20:55:50.355785",
     "exception": false,
     "start_time": "2022-03-22T20:55:50.311907",
     "status": "completed"
    },
    "tags": []
   },
   "outputs": [],
   "source": [
    "# Set this to True if you want to run this template directly\n",
    "STANDALONE = False\n",
    "if STANDALONE:\n",
    "    print(\"parameters not injected, running with standalone_parameters\")\n",
    "    parameters = standalone_parameters\n",
    "\n",
    "if not 'parameters' in locals() and not 'parameters' in globals():\n",
    "    raise Exception(\"Parameter injection failed\")\n",
    "\n",
    "#Use an easy dict for all the parameters\n",
    "p = EasyDict(parameters)\n",
    "\n",
    "if \"x_shape\" not in p:\n",
    "    p.x_shape = [2,256] # Default to this if we dont supply x_shape\n",
    "\n",
    "\n",
    "supplied_keys = set(p.keys())\n",
    "\n",
    "if  supplied_keys != required_parameters:\n",
    "    print(\"Parameters are incorrect\")\n",
    "    if len(supplied_keys - required_parameters)>0: print(\"Shouldn't have:\", str(supplied_keys - required_parameters))\n",
    "    if len(required_parameters - supplied_keys)>0: print(\"Need to have:\", str(required_parameters - supplied_keys))\n",
    "    raise RuntimeError(\"Parameters are incorrect\")"
   ]
  },
  {
   "cell_type": "code",
   "execution_count": 6,
   "id": "3a028d58",
   "metadata": {
    "execution": {
     "iopub.execute_input": "2022-03-22T20:55:50.405887Z",
     "iopub.status.busy": "2022-03-22T20:55:50.405155Z",
     "iopub.status.idle": "2022-03-22T20:55:50.425614Z",
     "shell.execute_reply": "2022-03-22T20:55:50.424917Z"
    },
    "papermill": {
     "duration": 0.041914,
     "end_time": "2022-03-22T20:55:50.425765",
     "exception": false,
     "start_time": "2022-03-22T20:55:50.383851",
     "status": "completed"
    },
    "tags": []
   },
   "outputs": [],
   "source": [
    "###################################\n",
    "# Set the RNGs and make it all deterministic\n",
    "###################################\n",
    "np.random.seed(p.seed)\n",
    "random.seed(p.seed)\n",
    "torch.manual_seed(p.seed)\n",
    "\n",
    "torch.use_deterministic_algorithms(True) "
   ]
  },
  {
   "cell_type": "code",
   "execution_count": 7,
   "id": "b691acf6",
   "metadata": {
    "execution": {
     "iopub.execute_input": "2022-03-22T20:55:50.475142Z",
     "iopub.status.busy": "2022-03-22T20:55:50.474560Z",
     "iopub.status.idle": "2022-03-22T20:55:50.500881Z",
     "shell.execute_reply": "2022-03-22T20:55:50.500106Z"
    },
    "papermill": {
     "duration": 0.050314,
     "end_time": "2022-03-22T20:55:50.501060",
     "exception": false,
     "start_time": "2022-03-22T20:55:50.450746",
     "status": "completed"
    },
    "tags": []
   },
   "outputs": [],
   "source": [
    "###########################################\n",
    "# The stratified datasets honor this\n",
    "###########################################\n",
    "torch.set_default_dtype(eval(p.torch_default_dtype))"
   ]
  },
  {
   "cell_type": "code",
   "execution_count": 8,
   "id": "b5fba671",
   "metadata": {
    "execution": {
     "iopub.execute_input": "2022-03-22T20:55:50.550825Z",
     "iopub.status.busy": "2022-03-22T20:55:50.550459Z",
     "iopub.status.idle": "2022-03-22T20:55:50.612623Z",
     "shell.execute_reply": "2022-03-22T20:55:50.611918Z"
    },
    "papermill": {
     "duration": 0.085518,
     "end_time": "2022-03-22T20:55:50.612776",
     "exception": false,
     "start_time": "2022-03-22T20:55:50.527258",
     "status": "completed"
    },
    "tags": []
   },
   "outputs": [],
   "source": [
    "###################################\n",
    "# Build the network(s)\n",
    "# Note: It's critical to do this AFTER setting the RNG\n",
    "###################################\n",
    "x_net = build_sequential(p.x_net)"
   ]
  },
  {
   "cell_type": "code",
   "execution_count": 9,
   "id": "5d7e61cc",
   "metadata": {
    "execution": {
     "iopub.execute_input": "2022-03-22T20:55:50.665662Z",
     "iopub.status.busy": "2022-03-22T20:55:50.665307Z",
     "iopub.status.idle": "2022-03-22T20:55:50.693548Z",
     "shell.execute_reply": "2022-03-22T20:55:50.692743Z"
    },
    "papermill": {
     "duration": 0.052284,
     "end_time": "2022-03-22T20:55:50.693699",
     "exception": false,
     "start_time": "2022-03-22T20:55:50.641415",
     "status": "completed"
    },
    "tags": []
   },
   "outputs": [],
   "source": [
    "start_time_secs = time.time()"
   ]
  },
  {
   "cell_type": "code",
   "execution_count": 10,
   "id": "c6b67dfd",
   "metadata": {
    "execution": {
     "iopub.execute_input": "2022-03-22T20:55:50.743609Z",
     "iopub.status.busy": "2022-03-22T20:55:50.742949Z",
     "iopub.status.idle": "2022-03-22T20:55:50.766381Z",
     "shell.execute_reply": "2022-03-22T20:55:50.767047Z"
    },
    "papermill": {
     "duration": 0.047982,
     "end_time": "2022-03-22T20:55:50.767223",
     "exception": false,
     "start_time": "2022-03-22T20:55:50.719241",
     "status": "completed"
    },
    "tags": []
   },
   "outputs": [],
   "source": [
    "p.domains_source = []\n",
    "p.domains_target = []\n",
    "\n",
    "\n",
    "train_original_source = []\n",
    "val_original_source   = []\n",
    "test_original_source  = []\n",
    "\n",
    "train_original_target = []\n",
    "val_original_target   = []\n",
    "test_original_target  = []"
   ]
  },
  {
   "cell_type": "code",
   "execution_count": 11,
   "id": "e3d9c3d3",
   "metadata": {
    "execution": {
     "iopub.execute_input": "2022-03-22T20:55:50.819591Z",
     "iopub.status.busy": "2022-03-22T20:55:50.818771Z",
     "iopub.status.idle": "2022-03-22T20:55:50.845839Z",
     "shell.execute_reply": "2022-03-22T20:55:50.845046Z"
    },
    "papermill": {
     "duration": 0.051662,
     "end_time": "2022-03-22T20:55:50.845989",
     "exception": false,
     "start_time": "2022-03-22T20:55:50.794327",
     "status": "completed"
    },
    "tags": []
   },
   "outputs": [],
   "source": [
    "# global_x_transform_func = lambda x: normalize(x.to(torch.get_default_dtype()), \"unit_power\") # unit_power, unit_mag\n",
    "# global_x_transform_func = lambda x: normalize(x, \"unit_power\") # unit_power, unit_mag"
   ]
  },
  {
   "cell_type": "code",
   "execution_count": 12,
   "id": "acb78fd2",
   "metadata": {
    "execution": {
     "iopub.execute_input": "2022-03-22T20:55:50.901471Z",
     "iopub.status.busy": "2022-03-22T20:55:50.893111Z",
     "iopub.status.idle": "2022-03-22T20:55:50.923113Z",
     "shell.execute_reply": "2022-03-22T20:55:50.923775Z"
    },
    "papermill": {
     "duration": 0.052524,
     "end_time": "2022-03-22T20:55:50.923956",
     "exception": false,
     "start_time": "2022-03-22T20:55:50.871432",
     "status": "completed"
    },
    "tags": []
   },
   "outputs": [],
   "source": [
    "def add_dataset(\n",
    "    labels,\n",
    "    domains,\n",
    "    pickle_path,\n",
    "    x_transforms,\n",
    "    episode_transforms,\n",
    "    domain_prefix,\n",
    "    num_examples_per_domain_per_label,\n",
    "    source_or_target_dataset:str,\n",
    "    iterator_seed=p.seed,\n",
    "    dataset_seed=p.dataset_seed,\n",
    "    n_shot=p.n_shot,\n",
    "    n_way=p.n_way,\n",
    "    n_query=p.n_query,\n",
    "    train_val_test_k_factors=(p.train_k_factor,p.val_k_factor,p.test_k_factor),\n",
    "):\n",
    "   \n",
    "    if x_transforms == []: x_transform = None\n",
    "    else: x_transform = get_chained_transform(x_transforms)\n",
    "    \n",
    "    if episode_transforms == []: episode_transform = None\n",
    "    else: raise Exception(\"episode_transforms not implemented\")\n",
    "    \n",
    "    episode_transform = lambda tup, _prefix=domain_prefix: (_prefix + str(tup[0]), tup[1])\n",
    "\n",
    "\n",
    "    eaf = Episodic_Accessor_Factory(\n",
    "        labels=labels,\n",
    "        domains=domains,\n",
    "        num_examples_per_domain_per_label=num_examples_per_domain_per_label,\n",
    "        iterator_seed=iterator_seed,\n",
    "        dataset_seed=dataset_seed,\n",
    "        n_shot=n_shot,\n",
    "        n_way=n_way,\n",
    "        n_query=n_query,\n",
    "        train_val_test_k_factors=train_val_test_k_factors,\n",
    "        pickle_path=pickle_path,\n",
    "        x_transform_func=x_transform,\n",
    "    )\n",
    "\n",
    "    train, val, test = eaf.get_train(), eaf.get_val(), eaf.get_test()\n",
    "    train = Lazy_Iterable_Wrapper(train, episode_transform)\n",
    "    val = Lazy_Iterable_Wrapper(val, episode_transform)\n",
    "    test = Lazy_Iterable_Wrapper(test, episode_transform)\n",
    "\n",
    "    if source_or_target_dataset==\"source\":\n",
    "        train_original_source.append(train)\n",
    "        val_original_source.append(val)\n",
    "        test_original_source.append(test)\n",
    "\n",
    "        p.domains_source.extend(\n",
    "            [domain_prefix + str(u) for u in domains]\n",
    "        )\n",
    "    elif source_or_target_dataset==\"target\":\n",
    "        train_original_target.append(train)\n",
    "        val_original_target.append(val)\n",
    "        test_original_target.append(test)\n",
    "        p.domains_target.extend(\n",
    "            [domain_prefix + str(u) for u in domains]\n",
    "        )\n",
    "    else:\n",
    "        raise Exception(f\"invalid source_or_target_dataset: {source_or_target_dataset}\")\n",
    "    "
   ]
  },
  {
   "cell_type": "code",
   "execution_count": 13,
   "id": "fe266617",
   "metadata": {
    "execution": {
     "iopub.execute_input": "2022-03-22T20:55:50.973793Z",
     "iopub.status.busy": "2022-03-22T20:55:50.973436Z",
     "iopub.status.idle": "2022-03-22T20:56:37.950460Z",
     "shell.execute_reply": "2022-03-22T20:56:37.949663Z"
    },
    "papermill": {
     "duration": 46.999728,
     "end_time": "2022-03-22T20:56:37.950652",
     "exception": false,
     "start_time": "2022-03-22T20:55:50.950924",
     "status": "completed"
    },
    "tags": []
   },
   "outputs": [],
   "source": [
    "for ds in p.datasets:\n",
    "    add_dataset(**ds)"
   ]
  },
  {
   "cell_type": "code",
   "execution_count": 14,
   "id": "b90d65ac",
   "metadata": {
    "execution": {
     "iopub.execute_input": "2022-03-22T20:56:38.000837Z",
     "iopub.status.busy": "2022-03-22T20:56:38.000272Z",
     "iopub.status.idle": "2022-03-22T20:56:38.024552Z",
     "shell.execute_reply": "2022-03-22T20:56:38.023767Z"
    },
    "papermill": {
     "duration": 0.047757,
     "end_time": "2022-03-22T20:56:38.024705",
     "exception": false,
     "start_time": "2022-03-22T20:56:37.976948",
     "status": "completed"
    },
    "tags": []
   },
   "outputs": [],
   "source": [
    "# from steves_utils.CORES.utils import (\n",
    "#     ALL_NODES,\n",
    "#     ALL_NODES_MINIMUM_1000_EXAMPLES,\n",
    "#     ALL_DAYS\n",
    "# )\n",
    "\n",
    "# add_dataset(\n",
    "#     labels=ALL_NODES,\n",
    "#     domains = ALL_DAYS,\n",
    "#     num_examples_per_domain_per_label=100,\n",
    "#     pickle_path=os.path.join(get_datasets_base_path(), \"cores.stratified_ds.2022A.pkl\"),\n",
    "#     source_or_target_dataset=\"target\",\n",
    "#     x_transform_func=global_x_transform_func,\n",
    "#     domain_modifier=lambda u: f\"cores_{u}\"\n",
    "# )"
   ]
  },
  {
   "cell_type": "code",
   "execution_count": 15,
   "id": "76db484d",
   "metadata": {
    "execution": {
     "iopub.execute_input": "2022-03-22T20:56:38.076824Z",
     "iopub.status.busy": "2022-03-22T20:56:38.076226Z",
     "iopub.status.idle": "2022-03-22T20:56:38.097825Z",
     "shell.execute_reply": "2022-03-22T20:56:38.097031Z"
    },
    "papermill": {
     "duration": 0.045182,
     "end_time": "2022-03-22T20:56:38.097977",
     "exception": false,
     "start_time": "2022-03-22T20:56:38.052795",
     "status": "completed"
    },
    "tags": []
   },
   "outputs": [],
   "source": [
    "# from steves_utils.ORACLE.utils_v2 import (\n",
    "#     ALL_DISTANCES_FEET,\n",
    "#     ALL_RUNS,\n",
    "#     ALL_SERIAL_NUMBERS,\n",
    "# )\n",
    "\n",
    "\n",
    "# add_dataset(\n",
    "#     labels=ALL_SERIAL_NUMBERS,\n",
    "#     domains = list(set(ALL_DISTANCES_FEET) - {2,62}),\n",
    "#     num_examples_per_domain_per_label=100,\n",
    "#     pickle_path=os.path.join(get_datasets_base_path(), \"oracle.Run2_framed_2000Examples_stratified_ds.2022A.pkl\"),\n",
    "#     source_or_target_dataset=\"source\",\n",
    "#     x_transform_func=global_x_transform_func,\n",
    "#     domain_modifier=lambda u: f\"oracle1_{u}\"\n",
    "# )\n"
   ]
  },
  {
   "cell_type": "code",
   "execution_count": 16,
   "id": "97dea9d2",
   "metadata": {
    "execution": {
     "iopub.execute_input": "2022-03-22T20:56:38.146772Z",
     "iopub.status.busy": "2022-03-22T20:56:38.146408Z",
     "iopub.status.idle": "2022-03-22T20:56:38.163736Z",
     "shell.execute_reply": "2022-03-22T20:56:38.162902Z"
    },
    "papermill": {
     "duration": 0.040154,
     "end_time": "2022-03-22T20:56:38.163888",
     "exception": false,
     "start_time": "2022-03-22T20:56:38.123734",
     "status": "completed"
    },
    "tags": []
   },
   "outputs": [],
   "source": [
    "# from steves_utils.ORACLE.utils_v2 import (\n",
    "#     ALL_DISTANCES_FEET,\n",
    "#     ALL_RUNS,\n",
    "#     ALL_SERIAL_NUMBERS,\n",
    "# )\n",
    "\n",
    "\n",
    "# add_dataset(\n",
    "#     labels=ALL_SERIAL_NUMBERS,\n",
    "#     domains = list(set(ALL_DISTANCES_FEET) - {2,62,56}),\n",
    "#     num_examples_per_domain_per_label=100,\n",
    "#     pickle_path=os.path.join(get_datasets_base_path(), \"oracle.Run2_framed_2000Examples_stratified_ds.2022A.pkl\"),\n",
    "#     source_or_target_dataset=\"source\",\n",
    "#     x_transform_func=global_x_transform_func,\n",
    "#     domain_modifier=lambda u: f\"oracle2_{u}\"\n",
    "# )"
   ]
  },
  {
   "cell_type": "code",
   "execution_count": 17,
   "id": "6f289866",
   "metadata": {
    "execution": {
     "iopub.execute_input": "2022-03-22T20:56:38.214681Z",
     "iopub.status.busy": "2022-03-22T20:56:38.212651Z",
     "iopub.status.idle": "2022-03-22T20:56:38.233880Z",
     "shell.execute_reply": "2022-03-22T20:56:38.233088Z"
    },
    "papermill": {
     "duration": 0.043396,
     "end_time": "2022-03-22T20:56:38.234072",
     "exception": false,
     "start_time": "2022-03-22T20:56:38.190676",
     "status": "completed"
    },
    "tags": []
   },
   "outputs": [],
   "source": [
    "# add_dataset(\n",
    "#     labels=list(range(19)),\n",
    "#     domains = [0,1,2],\n",
    "#     num_examples_per_domain_per_label=100,\n",
    "#     pickle_path=os.path.join(get_datasets_base_path(), \"metehan.stratified_ds.2022A.pkl\"),\n",
    "#     source_or_target_dataset=\"target\",\n",
    "#     x_transform_func=global_x_transform_func,\n",
    "#     domain_modifier=lambda u: f\"met_{u}\"\n",
    "# )"
   ]
  },
  {
   "cell_type": "code",
   "execution_count": 18,
   "id": "86a863c3",
   "metadata": {
    "execution": {
     "iopub.execute_input": "2022-03-22T20:56:38.291182Z",
     "iopub.status.busy": "2022-03-22T20:56:38.288079Z",
     "iopub.status.idle": "2022-03-22T20:56:38.309743Z",
     "shell.execute_reply": "2022-03-22T20:56:38.308933Z"
    },
    "papermill": {
     "duration": 0.046193,
     "end_time": "2022-03-22T20:56:38.309897",
     "exception": false,
     "start_time": "2022-03-22T20:56:38.263704",
     "status": "completed"
    },
    "tags": []
   },
   "outputs": [],
   "source": [
    "# # from steves_utils.wisig.utils import (\n",
    "# #     ALL_NODES_MINIMUM_100_EXAMPLES,\n",
    "# #     ALL_NODES_MINIMUM_500_EXAMPLES,\n",
    "# #     ALL_NODES_MINIMUM_1000_EXAMPLES,\n",
    "# #     ALL_DAYS\n",
    "# # )\n",
    "\n",
    "# import steves_utils.wisig.utils as wisig\n",
    "\n",
    "\n",
    "# add_dataset(\n",
    "#     labels=wisig.ALL_NODES_MINIMUM_100_EXAMPLES,\n",
    "#     domains = wisig.ALL_DAYS,\n",
    "#     num_examples_per_domain_per_label=100,\n",
    "#     pickle_path=os.path.join(get_datasets_base_path(), \"wisig.node3-19.stratified_ds.2022A.pkl\"),\n",
    "#     source_or_target_dataset=\"target\",\n",
    "#     x_transform_func=global_x_transform_func,\n",
    "#     domain_modifier=lambda u: f\"wisig_{u}\"\n",
    "# )"
   ]
  },
  {
   "cell_type": "code",
   "execution_count": 19,
   "id": "fd5442bc",
   "metadata": {
    "execution": {
     "iopub.execute_input": "2022-03-22T20:56:38.367324Z",
     "iopub.status.busy": "2022-03-22T20:56:38.366617Z",
     "iopub.status.idle": "2022-03-22T20:56:38.385348Z",
     "shell.execute_reply": "2022-03-22T20:56:38.386019Z"
    },
    "papermill": {
     "duration": 0.049767,
     "end_time": "2022-03-22T20:56:38.386239",
     "exception": false,
     "start_time": "2022-03-22T20:56:38.336472",
     "status": "completed"
    },
    "tags": []
   },
   "outputs": [],
   "source": [
    "###################################\n",
    "# Build the dataset\n",
    "###################################\n",
    "train_original_source = Iterable_Aggregator(train_original_source, p.seed)\n",
    "val_original_source = Iterable_Aggregator(val_original_source, p.seed)\n",
    "test_original_source = Iterable_Aggregator(test_original_source, p.seed)\n",
    "\n",
    "\n",
    "train_original_target = Iterable_Aggregator(train_original_target, p.seed)\n",
    "val_original_target = Iterable_Aggregator(val_original_target, p.seed)\n",
    "test_original_target = Iterable_Aggregator(test_original_target, p.seed)\n",
    "\n",
    "# For CNN We only use X and Y. And we only train on the source.\n",
    "# Properly form the data using a transform lambda and Lazy_Iterable_Wrapper. Finally wrap them in a dataloader\n",
    "\n",
    "transform_lambda = lambda ex: ex[1] # Original is (<domain>, <episode>) so we strip down to episode only\n",
    "\n",
    "train_processed_source = Lazy_Iterable_Wrapper(train_original_source, transform_lambda)\n",
    "val_processed_source   = Lazy_Iterable_Wrapper(val_original_source, transform_lambda)\n",
    "test_processed_source  = Lazy_Iterable_Wrapper(test_original_source, transform_lambda)\n",
    "\n",
    "train_processed_target = Lazy_Iterable_Wrapper(train_original_target, transform_lambda)\n",
    "val_processed_target   = Lazy_Iterable_Wrapper(val_original_target, transform_lambda)\n",
    "test_processed_target  = Lazy_Iterable_Wrapper(test_original_target, transform_lambda)\n",
    "\n",
    "datasets = EasyDict({\n",
    "    \"source\": {\n",
    "        \"original\": {\"train\":train_original_source, \"val\":val_original_source, \"test\":test_original_source},\n",
    "        \"processed\": {\"train\":train_processed_source, \"val\":val_processed_source, \"test\":test_processed_source}\n",
    "    },\n",
    "    \"target\": {\n",
    "        \"original\": {\"train\":train_original_target, \"val\":val_original_target, \"test\":test_original_target},\n",
    "        \"processed\": {\"train\":train_processed_target, \"val\":val_processed_target, \"test\":test_processed_target}\n",
    "    },\n",
    "})"
   ]
  },
  {
   "cell_type": "code",
   "execution_count": 20,
   "id": "5b3c01fc",
   "metadata": {
    "execution": {
     "iopub.execute_input": "2022-03-22T20:56:38.436763Z",
     "iopub.status.busy": "2022-03-22T20:56:38.436140Z",
     "iopub.status.idle": "2022-03-22T20:56:53.456624Z",
     "shell.execute_reply": "2022-03-22T20:56:53.457332Z"
    },
    "papermill": {
     "duration": 15.044874,
     "end_time": "2022-03-22T20:56:53.457541",
     "exception": false,
     "start_time": "2022-03-22T20:56:38.412667",
     "status": "completed"
    },
    "tags": []
   },
   "outputs": [
    {
     "name": "stdout",
     "output_type": "stream",
     "text": [
      "{'ORACLE.run144', 'ORACLE.run138', 'ORACLE.run120', 'ORACLE.run114', 'ORACLE.run126', 'ORACLE.run18', 'ORACLE.run150', 'ORACLE.run132'}\n"
     ]
    },
    {
     "name": "stdout",
     "output_type": "stream",
     "text": [
      "{'Wisig_1', 'Wisig_4', 'Wisig_3', 'Wisig_2'}\n"
     ]
    },
    {
     "name": "stdout",
     "output_type": "stream",
     "text": [
      "tensor([[[-0.1920,  0.2208,  0.3168,  ..., -0.5952,  0.9311,  1.0463],\n",
      "         [-0.9215, -0.2688,  0.4224,  ..., -1.0079, -1.3343, -0.2016]],\n",
      "\n",
      "        [[-0.3228,  0.2184, -0.7596,  ..., -0.3798, -1.1109,  0.0760],\n",
      "         [ 0.1899, -0.4747,  0.2659,  ...,  1.0539, -0.5507, -0.4937]],\n",
      "\n",
      "        [[-0.9435, -0.7677,  0.2682,  ..., -0.9065,  0.3515,  0.0832],\n",
      "         [ 0.7122, -0.4625, -1.1007,  ...,  0.1295, -1.0082,  0.7955]],\n",
      "\n",
      "        ...,\n",
      "\n",
      "        [[-0.6804,  0.3998,  0.2455,  ..., -0.4980,  0.6313, -0.8136],\n",
      "         [-0.7786,  0.4699,  1.0661,  ...,  0.7996,  1.2275,  0.0070]],\n",
      "\n",
      "        [[-1.1254,  0.3051, -0.1288,  ..., -1.4847,  0.6576,  1.1525],\n",
      "         [ 0.8271,  0.5152,  0.1763,  ..., -1.5728, -1.0033, -0.5084]],\n",
      "\n",
      "        [[-1.4265, -0.5774, -0.2106,  ...,  0.2989,  0.8287,  1.1412],\n",
      "         [-0.6996,  0.5434,  0.0883,  ..., -0.5978,  0.0883, -0.0136]]])\n"
     ]
    }
   ],
   "source": [
    "from steves_utils.transforms import get_average_magnitude, get_average_power\n",
    "\n",
    "print(set([u for u,_ in val_original_source]))\n",
    "print(set([u for u,_ in val_original_target]))\n",
    "\n",
    "s_x, s_y, q_x, q_y, _ = next(iter(train_processed_source))\n",
    "print(s_x)\n",
    "\n",
    "# for ds in [\n",
    "#     train_processed_source,\n",
    "#     val_processed_source,\n",
    "#     test_processed_source,\n",
    "#     train_processed_target,\n",
    "#     val_processed_target,\n",
    "#     test_processed_target\n",
    "# ]:\n",
    "#     for s_x, s_y, q_x, q_y, _ in ds:\n",
    "#         for X in (s_x, q_x):\n",
    "#             for x in X:\n",
    "#                 assert np.isclose(get_average_magnitude(x.numpy()), 1.0)\n",
    "#                 assert np.isclose(get_average_power(x.numpy()), 1.0)\n",
    "                "
   ]
  },
  {
   "cell_type": "code",
   "execution_count": 21,
   "id": "bbdacba1",
   "metadata": {
    "execution": {
     "iopub.execute_input": "2022-03-22T20:56:53.514091Z",
     "iopub.status.busy": "2022-03-22T20:56:53.513522Z",
     "iopub.status.idle": "2022-03-22T20:56:53.688106Z",
     "shell.execute_reply": "2022-03-22T20:56:53.687725Z"
    },
    "papermill": {
     "duration": 0.20221,
     "end_time": "2022-03-22T20:56:53.688224",
     "exception": false,
     "start_time": "2022-03-22T20:56:53.486014",
     "status": "completed"
    },
    "tags": []
   },
   "outputs": [
    {
     "name": "stdout",
     "output_type": "stream",
     "text": [
      "(2, 256)\n"
     ]
    }
   ],
   "source": [
    "###################################\n",
    "# Build the model\n",
    "###################################\n",
    "# easfsl only wants a tuple for the shape\n",
    "model = Steves_Prototypical_Network(x_net, device=p.device, x_shape=tuple(p.x_shape))\n",
    "optimizer = Adam(params=model.parameters(), lr=p.lr)"
   ]
  },
  {
   "cell_type": "code",
   "execution_count": 22,
   "id": "22b39ac5",
   "metadata": {
    "execution": {
     "iopub.execute_input": "2022-03-22T20:56:53.751719Z",
     "iopub.status.busy": "2022-03-22T20:56:53.751344Z",
     "iopub.status.idle": "2022-03-22T21:34:57.636115Z",
     "shell.execute_reply": "2022-03-22T21:34:57.635767Z"
    },
    "papermill": {
     "duration": 2283.924695,
     "end_time": "2022-03-22T21:34:57.636203",
     "exception": false,
     "start_time": "2022-03-22T20:56:53.711508",
     "status": "completed"
    },
    "tags": []
   },
   "outputs": [
    {
     "name": "stdout",
     "output_type": "stream",
     "text": [
      "epoch: 1, [batch: 1 / 6720], examples_per_second: 32.7420, train_label_loss: 2.7850, \n"
     ]
    },
    {
     "name": "stdout",
     "output_type": "stream",
     "text": [
      "epoch: 1, [batch: 672 / 6720], examples_per_second: 3823.3300, train_label_loss: 2.8154, \n"
     ]
    },
    {
     "name": "stdout",
     "output_type": "stream",
     "text": [
      "epoch: 1, [batch: 1344 / 6720], examples_per_second: 3945.8050, train_label_loss: 1.5034, \n"
     ]
    },
    {
     "name": "stdout",
     "output_type": "stream",
     "text": [
      "epoch: 1, [batch: 2016 / 6720], examples_per_second: 4007.1023, train_label_loss: 2.2045, \n"
     ]
    },
    {
     "name": "stdout",
     "output_type": "stream",
     "text": [
      "epoch: 1, [batch: 2688 / 6720], examples_per_second: 3946.1700, train_label_loss: 1.4265, \n"
     ]
    },
    {
     "name": "stdout",
     "output_type": "stream",
     "text": [
      "epoch: 1, [batch: 3360 / 6720], examples_per_second: 3782.6060, train_label_loss: 1.3998, \n"
     ]
    },
    {
     "name": "stdout",
     "output_type": "stream",
     "text": [
      "epoch: 1, [batch: 4032 / 6720], examples_per_second: 4341.2227, train_label_loss: 1.9135, \n"
     ]
    },
    {
     "name": "stdout",
     "output_type": "stream",
     "text": [
      "epoch: 1, [batch: 4704 / 6720], examples_per_second: 4244.6725, train_label_loss: 1.1880, \n"
     ]
    },
    {
     "name": "stdout",
     "output_type": "stream",
     "text": [
      "epoch: 1, [batch: 5376 / 6720], examples_per_second: 4275.3183, train_label_loss: 1.5621, \n"
     ]
    },
    {
     "name": "stdout",
     "output_type": "stream",
     "text": [
      "epoch: 1, [batch: 6048 / 6720], examples_per_second: 4287.3934, train_label_loss: 1.1992, \n"
     ]
    },
    {
     "name": "stdout",
     "output_type": "stream",
     "text": [
      "=============================================================\n",
      "epoch: 1, source_val_acc_label: 0.5334, target_val_acc_label: 0.6059, source_val_label_loss: 1.2253, target_val_label_loss: 6.5763, \n",
      "=============================================================\n"
     ]
    },
    {
     "name": "stdout",
     "output_type": "stream",
     "text": [
      "New best\n"
     ]
    },
    {
     "name": "stdout",
     "output_type": "stream",
     "text": [
      "epoch: 2, [batch: 1 / 6720], examples_per_second: 4.5510, train_label_loss: 1.7335, \n"
     ]
    },
    {
     "name": "stdout",
     "output_type": "stream",
     "text": [
      "epoch: 2, [batch: 672 / 6720], examples_per_second: 3861.5722, train_label_loss: 1.3584, \n"
     ]
    },
    {
     "name": "stdout",
     "output_type": "stream",
     "text": [
      "epoch: 2, [batch: 1344 / 6720], examples_per_second: 3934.3628, train_label_loss: 1.1424, \n"
     ]
    },
    {
     "name": "stdout",
     "output_type": "stream",
     "text": [
      "epoch: 2, [batch: 2016 / 6720], examples_per_second: 3972.6387, train_label_loss: 1.0826, \n"
     ]
    },
    {
     "name": "stdout",
     "output_type": "stream",
     "text": [
      "epoch: 2, [batch: 2688 / 6720], examples_per_second: 3953.4062, train_label_loss: 1.3498, \n"
     ]
    },
    {
     "name": "stdout",
     "output_type": "stream",
     "text": [
      "epoch: 2, [batch: 3360 / 6720], examples_per_second: 3950.4239, train_label_loss: 0.8281, \n"
     ]
    },
    {
     "name": "stdout",
     "output_type": "stream",
     "text": [
      "epoch: 2, [batch: 4032 / 6720], examples_per_second: 3947.3353, train_label_loss: 0.7160, \n"
     ]
    },
    {
     "name": "stdout",
     "output_type": "stream",
     "text": [
      "epoch: 2, [batch: 4704 / 6720], examples_per_second: 3968.0905, train_label_loss: 1.0021, \n"
     ]
    },
    {
     "name": "stdout",
     "output_type": "stream",
     "text": [
      "epoch: 2, [batch: 5376 / 6720], examples_per_second: 4022.7591, train_label_loss: 0.7678, \n"
     ]
    },
    {
     "name": "stdout",
     "output_type": "stream",
     "text": [
      "epoch: 2, [batch: 6048 / 6720], examples_per_second: 4240.4502, train_label_loss: 0.9183, \n"
     ]
    },
    {
     "name": "stdout",
     "output_type": "stream",
     "text": [
      "=============================================================\n",
      "epoch: 2, source_val_acc_label: 0.5932, target_val_acc_label: 0.6593, source_val_label_loss: 1.0646, target_val_label_loss: 7.3282, \n",
      "=============================================================\n"
     ]
    },
    {
     "name": "stdout",
     "output_type": "stream",
     "text": [
      "New best\n"
     ]
    },
    {
     "name": "stdout",
     "output_type": "stream",
     "text": [
      "epoch: 3, [batch: 1 / 6720], examples_per_second: 4.2247, train_label_loss: 0.6942, \n"
     ]
    },
    {
     "name": "stdout",
     "output_type": "stream",
     "text": [
      "epoch: 3, [batch: 672 / 6720], examples_per_second: 4351.6539, train_label_loss: 0.6222, \n"
     ]
    },
    {
     "name": "stdout",
     "output_type": "stream",
     "text": [
      "epoch: 3, [batch: 1344 / 6720], examples_per_second: 4130.6667, train_label_loss: 1.6279, \n"
     ]
    },
    {
     "name": "stdout",
     "output_type": "stream",
     "text": [
      "epoch: 3, [batch: 2016 / 6720], examples_per_second: 4015.1267, train_label_loss: 1.0621, \n"
     ]
    },
    {
     "name": "stdout",
     "output_type": "stream",
     "text": [
      "epoch: 3, [batch: 2688 / 6720], examples_per_second: 3952.8547, train_label_loss: 0.9570, \n"
     ]
    },
    {
     "name": "stdout",
     "output_type": "stream",
     "text": [
      "epoch: 3, [batch: 3360 / 6720], examples_per_second: 3991.5300, train_label_loss: 0.7509, \n"
     ]
    },
    {
     "name": "stdout",
     "output_type": "stream",
     "text": [
      "epoch: 3, [batch: 4032 / 6720], examples_per_second: 4004.7666, train_label_loss: 0.4305, \n"
     ]
    },
    {
     "name": "stdout",
     "output_type": "stream",
     "text": [
      "epoch: 3, [batch: 4704 / 6720], examples_per_second: 4009.6225, train_label_loss: 0.7397, \n"
     ]
    },
    {
     "name": "stdout",
     "output_type": "stream",
     "text": [
      "epoch: 3, [batch: 5376 / 6720], examples_per_second: 4026.7693, train_label_loss: 0.7965, \n"
     ]
    },
    {
     "name": "stdout",
     "output_type": "stream",
     "text": [
      "epoch: 3, [batch: 6048 / 6720], examples_per_second: 3988.8202, train_label_loss: 0.5758, \n"
     ]
    },
    {
     "name": "stdout",
     "output_type": "stream",
     "text": [
      "=============================================================\n",
      "epoch: 3, source_val_acc_label: 0.6044, target_val_acc_label: 0.6788, source_val_label_loss: 1.0464, target_val_label_loss: 7.8359, \n",
      "=============================================================\n"
     ]
    },
    {
     "name": "stdout",
     "output_type": "stream",
     "text": [
      "New best\n"
     ]
    },
    {
     "name": "stdout",
     "output_type": "stream",
     "text": [
      "epoch: 4, [batch: 1 / 6720], examples_per_second: 4.0715, train_label_loss: 0.8916, \n"
     ]
    },
    {
     "name": "stdout",
     "output_type": "stream",
     "text": [
      "epoch: 4, [batch: 672 / 6720], examples_per_second: 4227.4091, train_label_loss: 1.1153, \n"
     ]
    },
    {
     "name": "stdout",
     "output_type": "stream",
     "text": [
      "epoch: 4, [batch: 1344 / 6720], examples_per_second: 4464.7326, train_label_loss: 0.6995, \n"
     ]
    },
    {
     "name": "stdout",
     "output_type": "stream",
     "text": [
      "epoch: 4, [batch: 2016 / 6720], examples_per_second: 4395.2043, train_label_loss: 0.5196, \n"
     ]
    },
    {
     "name": "stdout",
     "output_type": "stream",
     "text": [
      "epoch: 4, [batch: 2688 / 6720], examples_per_second: 5094.2272, train_label_loss: 1.0899, \n"
     ]
    },
    {
     "name": "stdout",
     "output_type": "stream",
     "text": [
      "epoch: 4, [batch: 3360 / 6720], examples_per_second: 4043.7649, train_label_loss: 1.1073, \n"
     ]
    },
    {
     "name": "stdout",
     "output_type": "stream",
     "text": [
      "epoch: 4, [batch: 4032 / 6720], examples_per_second: 4059.5908, train_label_loss: 0.5472, \n"
     ]
    },
    {
     "name": "stdout",
     "output_type": "stream",
     "text": [
      "epoch: 4, [batch: 4704 / 6720], examples_per_second: 3786.2827, train_label_loss: 0.4380, \n"
     ]
    },
    {
     "name": "stdout",
     "output_type": "stream",
     "text": [
      "epoch: 4, [batch: 5376 / 6720], examples_per_second: 3805.8419, train_label_loss: 0.6859, \n"
     ]
    },
    {
     "name": "stdout",
     "output_type": "stream",
     "text": [
      "epoch: 4, [batch: 6048 / 6720], examples_per_second: 3779.4399, train_label_loss: 0.9088, \n"
     ]
    },
    {
     "name": "stdout",
     "output_type": "stream",
     "text": [
      "=============================================================\n",
      "epoch: 4, source_val_acc_label: 0.6106, target_val_acc_label: 0.6851, source_val_label_loss: 1.0657, target_val_label_loss: 9.3032, \n",
      "=============================================================\n"
     ]
    },
    {
     "name": "stdout",
     "output_type": "stream",
     "text": [
      "New best\n"
     ]
    },
    {
     "name": "stdout",
     "output_type": "stream",
     "text": [
      "epoch: 5, [batch: 1 / 6720], examples_per_second: 3.8813, train_label_loss: 0.6955, \n"
     ]
    },
    {
     "name": "stdout",
     "output_type": "stream",
     "text": [
      "epoch: 5, [batch: 672 / 6720], examples_per_second: 3832.1435, train_label_loss: 0.7284, \n"
     ]
    },
    {
     "name": "stdout",
     "output_type": "stream",
     "text": [
      "epoch: 5, [batch: 1344 / 6720], examples_per_second: 4251.6245, train_label_loss: 0.5338, \n"
     ]
    },
    {
     "name": "stdout",
     "output_type": "stream",
     "text": [
      "epoch: 5, [batch: 2016 / 6720], examples_per_second: 4200.8322, train_label_loss: 0.3655, \n"
     ]
    },
    {
     "name": "stdout",
     "output_type": "stream",
     "text": [
      "epoch: 5, [batch: 2688 / 6720], examples_per_second: 4248.1001, train_label_loss: 0.9946, \n"
     ]
    },
    {
     "name": "stdout",
     "output_type": "stream",
     "text": [
      "epoch: 5, [batch: 3360 / 6720], examples_per_second: 4337.0471, train_label_loss: 0.8563, \n"
     ]
    },
    {
     "name": "stdout",
     "output_type": "stream",
     "text": [
      "epoch: 5, [batch: 4032 / 6720], examples_per_second: 4362.3228, train_label_loss: 0.7130, \n"
     ]
    },
    {
     "name": "stdout",
     "output_type": "stream",
     "text": [
      "epoch: 5, [batch: 4704 / 6720], examples_per_second: 4590.3197, train_label_loss: 1.0263, \n"
     ]
    },
    {
     "name": "stdout",
     "output_type": "stream",
     "text": [
      "epoch: 5, [batch: 5376 / 6720], examples_per_second: 3817.9831, train_label_loss: 0.7201, \n"
     ]
    },
    {
     "name": "stdout",
     "output_type": "stream",
     "text": [
      "epoch: 5, [batch: 6048 / 6720], examples_per_second: 3861.1153, train_label_loss: 0.6293, \n"
     ]
    },
    {
     "name": "stdout",
     "output_type": "stream",
     "text": [
      "=============================================================\n",
      "epoch: 5, source_val_acc_label: 0.6094, target_val_acc_label: 0.6817, source_val_label_loss: 1.1004, target_val_label_loss: 10.1804, \n",
      "=============================================================\n"
     ]
    },
    {
     "name": "stdout",
     "output_type": "stream",
     "text": [
      "epoch: 6, [batch: 1 / 6720], examples_per_second: 3.8473, train_label_loss: 0.4235, \n"
     ]
    },
    {
     "name": "stdout",
     "output_type": "stream",
     "text": [
      "epoch: 6, [batch: 672 / 6720], examples_per_second: 3832.9524, train_label_loss: 0.5911, \n"
     ]
    },
    {
     "name": "stdout",
     "output_type": "stream",
     "text": [
      "epoch: 6, [batch: 1344 / 6720], examples_per_second: 3900.6656, train_label_loss: 0.9262, \n"
     ]
    },
    {
     "name": "stdout",
     "output_type": "stream",
     "text": [
      "epoch: 6, [batch: 2016 / 6720], examples_per_second: 3860.2306, train_label_loss: 0.8311, \n"
     ]
    },
    {
     "name": "stdout",
     "output_type": "stream",
     "text": [
      "epoch: 6, [batch: 2688 / 6720], examples_per_second: 3995.0838, train_label_loss: 0.4297, \n"
     ]
    },
    {
     "name": "stdout",
     "output_type": "stream",
     "text": [
      "epoch: 6, [batch: 3360 / 6720], examples_per_second: 4312.7029, train_label_loss: 0.5426, \n"
     ]
    },
    {
     "name": "stdout",
     "output_type": "stream",
     "text": [
      "epoch: 6, [batch: 4032 / 6720], examples_per_second: 4431.9487, train_label_loss: 0.2545, \n"
     ]
    },
    {
     "name": "stdout",
     "output_type": "stream",
     "text": [
      "epoch: 6, [batch: 4704 / 6720], examples_per_second: 4496.4371, train_label_loss: 0.1234, \n"
     ]
    },
    {
     "name": "stdout",
     "output_type": "stream",
     "text": [
      "epoch: 6, [batch: 5376 / 6720], examples_per_second: 4333.9807, train_label_loss: 0.8293, \n"
     ]
    },
    {
     "name": "stdout",
     "output_type": "stream",
     "text": [
      "epoch: 6, [batch: 6048 / 6720], examples_per_second: 4323.0392, train_label_loss: 0.1769, \n"
     ]
    },
    {
     "name": "stdout",
     "output_type": "stream",
     "text": [
      "=============================================================\n",
      "epoch: 6, source_val_acc_label: 0.6157, target_val_acc_label: 0.6942, source_val_label_loss: 1.1502, target_val_label_loss: 11.2494, \n",
      "=============================================================\n"
     ]
    },
    {
     "name": "stdout",
     "output_type": "stream",
     "text": [
      "New best\n"
     ]
    },
    {
     "name": "stdout",
     "output_type": "stream",
     "text": [
      "epoch: 7, [batch: 1 / 6720], examples_per_second: 4.1225, train_label_loss: 0.7645, \n"
     ]
    },
    {
     "name": "stdout",
     "output_type": "stream",
     "text": [
      "epoch: 7, [batch: 672 / 6720], examples_per_second: 3865.4017, train_label_loss: 0.8652, \n"
     ]
    },
    {
     "name": "stdout",
     "output_type": "stream",
     "text": [
      "epoch: 7, [batch: 1344 / 6720], examples_per_second: 3924.2466, train_label_loss: 0.6359, \n"
     ]
    },
    {
     "name": "stdout",
     "output_type": "stream",
     "text": [
      "epoch: 7, [batch: 2016 / 6720], examples_per_second: 3916.7751, train_label_loss: 0.4009, \n"
     ]
    },
    {
     "name": "stdout",
     "output_type": "stream",
     "text": [
      "epoch: 7, [batch: 2688 / 6720], examples_per_second: 3915.8629, train_label_loss: 0.3960, \n"
     ]
    },
    {
     "name": "stdout",
     "output_type": "stream",
     "text": [
      "epoch: 7, [batch: 3360 / 6720], examples_per_second: 3973.4500, train_label_loss: 0.3062, \n"
     ]
    },
    {
     "name": "stdout",
     "output_type": "stream",
     "text": [
      "epoch: 7, [batch: 4032 / 6720], examples_per_second: 3933.3917, train_label_loss: 0.5613, \n"
     ]
    },
    {
     "name": "stdout",
     "output_type": "stream",
     "text": [
      "epoch: 7, [batch: 4704 / 6720], examples_per_second: 4104.1739, train_label_loss: 0.5232, \n"
     ]
    },
    {
     "name": "stdout",
     "output_type": "stream",
     "text": [
      "epoch: 7, [batch: 5376 / 6720], examples_per_second: 4496.5047, train_label_loss: 0.5990, \n"
     ]
    },
    {
     "name": "stdout",
     "output_type": "stream",
     "text": [
      "epoch: 7, [batch: 6048 / 6720], examples_per_second: 4379.8665, train_label_loss: 0.2851, \n"
     ]
    },
    {
     "name": "stdout",
     "output_type": "stream",
     "text": [
      "=============================================================\n",
      "epoch: 7, source_val_acc_label: 0.6131, target_val_acc_label: 0.6962, source_val_label_loss: 1.2376, target_val_label_loss: 12.8195, \n",
      "=============================================================\n"
     ]
    },
    {
     "name": "stdout",
     "output_type": "stream",
     "text": [
      "New best\n"
     ]
    },
    {
     "name": "stdout",
     "output_type": "stream",
     "text": [
      "epoch: 8, [batch: 1 / 6720], examples_per_second: 4.3185, train_label_loss: 0.5938, \n"
     ]
    },
    {
     "name": "stdout",
     "output_type": "stream",
     "text": [
      "epoch: 8, [batch: 672 / 6720], examples_per_second: 4224.6059, train_label_loss: 0.5096, \n"
     ]
    },
    {
     "name": "stdout",
     "output_type": "stream",
     "text": [
      "epoch: 8, [batch: 1344 / 6720], examples_per_second: 4165.3559, train_label_loss: 0.3019, \n"
     ]
    },
    {
     "name": "stdout",
     "output_type": "stream",
     "text": [
      "epoch: 8, [batch: 2016 / 6720], examples_per_second: 4242.5328, train_label_loss: 0.3287, \n"
     ]
    },
    {
     "name": "stdout",
     "output_type": "stream",
     "text": [
      "epoch: 8, [batch: 2688 / 6720], examples_per_second: 4155.0347, train_label_loss: 0.2576, \n"
     ]
    },
    {
     "name": "stdout",
     "output_type": "stream",
     "text": [
      "epoch: 8, [batch: 3360 / 6720], examples_per_second: 4462.3525, train_label_loss: 0.4693, \n"
     ]
    },
    {
     "name": "stdout",
     "output_type": "stream",
     "text": [
      "epoch: 8, [batch: 4032 / 6720], examples_per_second: 4340.8935, train_label_loss: 0.9341, \n"
     ]
    },
    {
     "name": "stdout",
     "output_type": "stream",
     "text": [
      "epoch: 8, [batch: 4704 / 6720], examples_per_second: 4168.7049, train_label_loss: 0.1783, \n"
     ]
    },
    {
     "name": "stdout",
     "output_type": "stream",
     "text": [
      "epoch: 8, [batch: 5376 / 6720], examples_per_second: 4232.9480, train_label_loss: 0.3166, \n"
     ]
    },
    {
     "name": "stdout",
     "output_type": "stream",
     "text": [
      "epoch: 8, [batch: 6048 / 6720], examples_per_second: 4168.6073, train_label_loss: 0.5948, \n"
     ]
    },
    {
     "name": "stdout",
     "output_type": "stream",
     "text": [
      "=============================================================\n",
      "epoch: 8, source_val_acc_label: 0.6065, target_val_acc_label: 0.6954, source_val_label_loss: 1.3225, target_val_label_loss: 13.9642, \n",
      "=============================================================\n"
     ]
    },
    {
     "name": "stdout",
     "output_type": "stream",
     "text": [
      "epoch: 9, [batch: 1 / 6720], examples_per_second: 4.3738, train_label_loss: 0.4076, \n"
     ]
    },
    {
     "name": "stdout",
     "output_type": "stream",
     "text": [
      "epoch: 9, [batch: 672 / 6720], examples_per_second: 4162.4011, train_label_loss: 0.7122, \n"
     ]
    },
    {
     "name": "stdout",
     "output_type": "stream",
     "text": [
      "epoch: 9, [batch: 1344 / 6720], examples_per_second: 4332.3421, train_label_loss: 0.2569, \n"
     ]
    },
    {
     "name": "stdout",
     "output_type": "stream",
     "text": [
      "epoch: 9, [batch: 2016 / 6720], examples_per_second: 4178.3923, train_label_loss: 0.2171, \n"
     ]
    },
    {
     "name": "stdout",
     "output_type": "stream",
     "text": [
      "epoch: 9, [batch: 2688 / 6720], examples_per_second: 4120.1023, train_label_loss: 0.2411, \n"
     ]
    },
    {
     "name": "stdout",
     "output_type": "stream",
     "text": [
      "epoch: 9, [batch: 3360 / 6720], examples_per_second: 4189.2294, train_label_loss: 0.7256, \n"
     ]
    },
    {
     "name": "stdout",
     "output_type": "stream",
     "text": [
      "epoch: 9, [batch: 4032 / 6720], examples_per_second: 4349.0302, train_label_loss: 0.0782, \n"
     ]
    },
    {
     "name": "stdout",
     "output_type": "stream",
     "text": [
      "epoch: 9, [batch: 4704 / 6720], examples_per_second: 4750.5374, train_label_loss: 0.3755, \n"
     ]
    },
    {
     "name": "stdout",
     "output_type": "stream",
     "text": [
      "epoch: 9, [batch: 5376 / 6720], examples_per_second: 5037.0982, train_label_loss: 0.0943, \n"
     ]
    },
    {
     "name": "stdout",
     "output_type": "stream",
     "text": [
      "epoch: 9, [batch: 6048 / 6720], examples_per_second: 5091.3971, train_label_loss: 0.1718, \n"
     ]
    },
    {
     "name": "stdout",
     "output_type": "stream",
     "text": [
      "=============================================================\n",
      "epoch: 9, source_val_acc_label: 0.6029, target_val_acc_label: 0.6912, source_val_label_loss: 1.3966, target_val_label_loss: 15.0453, \n",
      "=============================================================\n"
     ]
    },
    {
     "name": "stdout",
     "output_type": "stream",
     "text": [
      "epoch: 10, [batch: 1 / 6720], examples_per_second: 5.1349, train_label_loss: 0.1581, \n"
     ]
    },
    {
     "name": "stdout",
     "output_type": "stream",
     "text": [
      "epoch: 10, [batch: 672 / 6720], examples_per_second: 4689.6088, train_label_loss: 0.1556, \n"
     ]
    },
    {
     "name": "stdout",
     "output_type": "stream",
     "text": [
      "epoch: 10, [batch: 1344 / 6720], examples_per_second: 4850.6100, train_label_loss: 0.1828, \n"
     ]
    },
    {
     "name": "stdout",
     "output_type": "stream",
     "text": [
      "epoch: 10, [batch: 2016 / 6720], examples_per_second: 4939.7893, train_label_loss: 0.3108, \n"
     ]
    },
    {
     "name": "stdout",
     "output_type": "stream",
     "text": [
      "epoch: 10, [batch: 2688 / 6720], examples_per_second: 4849.5965, train_label_loss: 0.2708, \n"
     ]
    },
    {
     "name": "stdout",
     "output_type": "stream",
     "text": [
      "epoch: 10, [batch: 3360 / 6720], examples_per_second: 4988.3358, train_label_loss: 0.1360, \n"
     ]
    },
    {
     "name": "stdout",
     "output_type": "stream",
     "text": [
      "epoch: 10, [batch: 4032 / 6720], examples_per_second: 4905.8288, train_label_loss: 0.0925, \n"
     ]
    },
    {
     "name": "stdout",
     "output_type": "stream",
     "text": [
      "epoch: 10, [batch: 4704 / 6720], examples_per_second: 5061.2601, train_label_loss: 0.5219, \n"
     ]
    },
    {
     "name": "stdout",
     "output_type": "stream",
     "text": [
      "epoch: 10, [batch: 5376 / 6720], examples_per_second: 5029.1844, train_label_loss: 0.6688, \n"
     ]
    },
    {
     "name": "stdout",
     "output_type": "stream",
     "text": [
      "epoch: 10, [batch: 6048 / 6720], examples_per_second: 4982.1334, train_label_loss: 0.0965, \n"
     ]
    },
    {
     "name": "stdout",
     "output_type": "stream",
     "text": [
      "=============================================================\n",
      "epoch: 10, source_val_acc_label: 0.6042, target_val_acc_label: 0.6979, source_val_label_loss: 1.4720, target_val_label_loss: 15.8984, \n",
      "=============================================================\n"
     ]
    },
    {
     "name": "stdout",
     "output_type": "stream",
     "text": [
      "New best\n"
     ]
    },
    {
     "name": "stdout",
     "output_type": "stream",
     "text": [
      "epoch: 11, [batch: 1 / 6720], examples_per_second: 5.2499, train_label_loss: 0.0629, \n"
     ]
    },
    {
     "name": "stdout",
     "output_type": "stream",
     "text": [
      "epoch: 11, [batch: 672 / 6720], examples_per_second: 4943.8622, train_label_loss: 0.1241, \n"
     ]
    },
    {
     "name": "stdout",
     "output_type": "stream",
     "text": [
      "epoch: 11, [batch: 1344 / 6720], examples_per_second: 5395.1754, train_label_loss: 0.4002, \n"
     ]
    },
    {
     "name": "stdout",
     "output_type": "stream",
     "text": [
      "epoch: 11, [batch: 2016 / 6720], examples_per_second: 5138.5157, train_label_loss: 0.7045, \n"
     ]
    },
    {
     "name": "stdout",
     "output_type": "stream",
     "text": [
      "epoch: 11, [batch: 2688 / 6720], examples_per_second: 5095.3618, train_label_loss: 0.2737, \n"
     ]
    },
    {
     "name": "stdout",
     "output_type": "stream",
     "text": [
      "epoch: 11, [batch: 3360 / 6720], examples_per_second: 4897.2470, train_label_loss: 0.5791, \n"
     ]
    },
    {
     "name": "stdout",
     "output_type": "stream",
     "text": [
      "epoch: 11, [batch: 4032 / 6720], examples_per_second: 4884.6307, train_label_loss: 0.5302, \n"
     ]
    },
    {
     "name": "stdout",
     "output_type": "stream",
     "text": [
      "epoch: 11, [batch: 4704 / 6720], examples_per_second: 4853.6728, train_label_loss: 0.4509, \n"
     ]
    },
    {
     "name": "stdout",
     "output_type": "stream",
     "text": [
      "epoch: 11, [batch: 5376 / 6720], examples_per_second: 4907.7505, train_label_loss: 0.0670, \n"
     ]
    },
    {
     "name": "stdout",
     "output_type": "stream",
     "text": [
      "epoch: 11, [batch: 6048 / 6720], examples_per_second: 4865.9986, train_label_loss: 0.3502, \n"
     ]
    },
    {
     "name": "stdout",
     "output_type": "stream",
     "text": [
      "=============================================================\n",
      "epoch: 11, source_val_acc_label: 0.6090, target_val_acc_label: 0.7032, source_val_label_loss: 1.5698, target_val_label_loss: 17.1596, \n",
      "=============================================================\n"
     ]
    },
    {
     "name": "stdout",
     "output_type": "stream",
     "text": [
      "New best\n"
     ]
    },
    {
     "name": "stdout",
     "output_type": "stream",
     "text": [
      "epoch: 12, [batch: 1 / 6720], examples_per_second: 5.1057, train_label_loss: 0.6190, \n"
     ]
    },
    {
     "name": "stdout",
     "output_type": "stream",
     "text": [
      "epoch: 12, [batch: 672 / 6720], examples_per_second: 3819.4420, train_label_loss: 0.0418, \n"
     ]
    },
    {
     "name": "stdout",
     "output_type": "stream",
     "text": [
      "epoch: 12, [batch: 1344 / 6720], examples_per_second: 3897.1237, train_label_loss: 0.1466, \n"
     ]
    },
    {
     "name": "stdout",
     "output_type": "stream",
     "text": [
      "epoch: 12, [batch: 2016 / 6720], examples_per_second: 3854.7673, train_label_loss: 0.4583, \n"
     ]
    },
    {
     "name": "stdout",
     "output_type": "stream",
     "text": [
      "epoch: 12, [batch: 2688 / 6720], examples_per_second: 3857.3894, train_label_loss: 0.2292, \n"
     ]
    },
    {
     "name": "stdout",
     "output_type": "stream",
     "text": [
      "epoch: 12, [batch: 3360 / 6720], examples_per_second: 3829.6477, train_label_loss: 0.4521, \n"
     ]
    },
    {
     "name": "stdout",
     "output_type": "stream",
     "text": [
      "epoch: 12, [batch: 4032 / 6720], examples_per_second: 3883.7375, train_label_loss: 0.5283, \n"
     ]
    },
    {
     "name": "stdout",
     "output_type": "stream",
     "text": [
      "epoch: 12, [batch: 4704 / 6720], examples_per_second: 3943.6292, train_label_loss: 0.0652, \n"
     ]
    },
    {
     "name": "stdout",
     "output_type": "stream",
     "text": [
      "epoch: 12, [batch: 5376 / 6720], examples_per_second: 3989.1771, train_label_loss: 0.2170, \n"
     ]
    },
    {
     "name": "stdout",
     "output_type": "stream",
     "text": [
      "epoch: 12, [batch: 6048 / 6720], examples_per_second: 4023.3135, train_label_loss: 0.2196, \n"
     ]
    },
    {
     "name": "stdout",
     "output_type": "stream",
     "text": [
      "=============================================================\n",
      "epoch: 12, source_val_acc_label: 0.6047, target_val_acc_label: 0.6984, source_val_label_loss: 1.6571, target_val_label_loss: 18.3768, \n",
      "=============================================================\n"
     ]
    },
    {
     "name": "stdout",
     "output_type": "stream",
     "text": [
      "epoch: 13, [batch: 1 / 6720], examples_per_second: 4.2856, train_label_loss: 0.4386, \n"
     ]
    },
    {
     "name": "stdout",
     "output_type": "stream",
     "text": [
      "epoch: 13, [batch: 672 / 6720], examples_per_second: 4081.1884, train_label_loss: 0.2484, \n"
     ]
    },
    {
     "name": "stdout",
     "output_type": "stream",
     "text": [
      "epoch: 13, [batch: 1344 / 6720], examples_per_second: 5075.5674, train_label_loss: 0.2251, \n"
     ]
    },
    {
     "name": "stdout",
     "output_type": "stream",
     "text": [
      "epoch: 13, [batch: 2016 / 6720], examples_per_second: 4000.0912, train_label_loss: 0.6161, \n"
     ]
    },
    {
     "name": "stdout",
     "output_type": "stream",
     "text": [
      "epoch: 13, [batch: 2688 / 6720], examples_per_second: 3935.8705, train_label_loss: 0.0657, \n"
     ]
    },
    {
     "name": "stdout",
     "output_type": "stream",
     "text": [
      "epoch: 13, [batch: 3360 / 6720], examples_per_second: 3921.1961, train_label_loss: 0.0943, \n"
     ]
    },
    {
     "name": "stdout",
     "output_type": "stream",
     "text": [
      "epoch: 13, [batch: 4032 / 6720], examples_per_second: 3918.3103, train_label_loss: 0.3630, \n"
     ]
    },
    {
     "name": "stdout",
     "output_type": "stream",
     "text": [
      "epoch: 13, [batch: 4704 / 6720], examples_per_second: 3933.8947, train_label_loss: 0.1022, \n"
     ]
    },
    {
     "name": "stdout",
     "output_type": "stream",
     "text": [
      "epoch: 13, [batch: 5376 / 6720], examples_per_second: 4026.7490, train_label_loss: 0.2355, \n"
     ]
    },
    {
     "name": "stdout",
     "output_type": "stream",
     "text": [
      "epoch: 13, [batch: 6048 / 6720], examples_per_second: 4014.0321, train_label_loss: 0.0558, \n"
     ]
    },
    {
     "name": "stdout",
     "output_type": "stream",
     "text": [
      "=============================================================\n",
      "epoch: 13, source_val_acc_label: 0.5959, target_val_acc_label: 0.6973, source_val_label_loss: 1.7402, target_val_label_loss: 19.4203, \n",
      "=============================================================\n"
     ]
    },
    {
     "name": "stdout",
     "output_type": "stream",
     "text": [
      "epoch: 14, [batch: 1 / 6720], examples_per_second: 4.0191, train_label_loss: 0.1772, \n"
     ]
    },
    {
     "name": "stdout",
     "output_type": "stream",
     "text": [
      "epoch: 14, [batch: 672 / 6720], examples_per_second: 4077.4287, train_label_loss: 0.2513, \n"
     ]
    },
    {
     "name": "stdout",
     "output_type": "stream",
     "text": [
      "epoch: 14, [batch: 1344 / 6720], examples_per_second: 4236.3506, train_label_loss: 0.7662, \n"
     ]
    },
    {
     "name": "stdout",
     "output_type": "stream",
     "text": [
      "epoch: 14, [batch: 2016 / 6720], examples_per_second: 4161.4892, train_label_loss: 0.2410, \n"
     ]
    },
    {
     "name": "stdout",
     "output_type": "stream",
     "text": [
      "epoch: 14, [batch: 2688 / 6720], examples_per_second: 4492.1573, train_label_loss: 0.1587, \n"
     ]
    },
    {
     "name": "stdout",
     "output_type": "stream",
     "text": [
      "epoch: 14, [batch: 3360 / 6720], examples_per_second: 4403.5509, train_label_loss: 0.2308, \n"
     ]
    },
    {
     "name": "stdout",
     "output_type": "stream",
     "text": [
      "epoch: 14, [batch: 4032 / 6720], examples_per_second: 3931.3859, train_label_loss: 0.1354, \n"
     ]
    },
    {
     "name": "stdout",
     "output_type": "stream",
     "text": [
      "epoch: 14, [batch: 4704 / 6720], examples_per_second: 3855.0505, train_label_loss: 0.0275, \n"
     ]
    },
    {
     "name": "stdout",
     "output_type": "stream",
     "text": [
      "epoch: 14, [batch: 5376 / 6720], examples_per_second: 4002.6021, train_label_loss: 0.0723, \n"
     ]
    },
    {
     "name": "stdout",
     "output_type": "stream",
     "text": [
      "epoch: 14, [batch: 6048 / 6720], examples_per_second: 4037.3887, train_label_loss: 0.1742, \n"
     ]
    },
    {
     "name": "stdout",
     "output_type": "stream",
     "text": [
      "=============================================================\n",
      "epoch: 14, source_val_acc_label: 0.5991, target_val_acc_label: 0.7002, source_val_label_loss: 1.7981, target_val_label_loss: 20.0150, \n",
      "=============================================================\n"
     ]
    },
    {
     "name": "stdout",
     "output_type": "stream",
     "text": [
      "epoch: 15, [batch: 1 / 6720], examples_per_second: 3.9429, train_label_loss: 0.0086, \n"
     ]
    },
    {
     "name": "stdout",
     "output_type": "stream",
     "text": [
      "epoch: 15, [batch: 672 / 6720], examples_per_second: 3803.4392, train_label_loss: 0.7428, \n"
     ]
    },
    {
     "name": "stdout",
     "output_type": "stream",
     "text": [
      "epoch: 15, [batch: 1344 / 6720], examples_per_second: 4084.3473, train_label_loss: 0.0085, \n"
     ]
    },
    {
     "name": "stdout",
     "output_type": "stream",
     "text": [
      "epoch: 15, [batch: 2016 / 6720], examples_per_second: 4465.0416, train_label_loss: 0.3751, \n"
     ]
    },
    {
     "name": "stdout",
     "output_type": "stream",
     "text": [
      "epoch: 15, [batch: 2688 / 6720], examples_per_second: 4194.4917, train_label_loss: 0.3853, \n"
     ]
    },
    {
     "name": "stdout",
     "output_type": "stream",
     "text": [
      "epoch: 15, [batch: 3360 / 6720], examples_per_second: 4170.5958, train_label_loss: 0.1592, \n"
     ]
    },
    {
     "name": "stdout",
     "output_type": "stream",
     "text": [
      "epoch: 15, [batch: 4032 / 6720], examples_per_second: 4236.2590, train_label_loss: 0.5350, \n"
     ]
    },
    {
     "name": "stdout",
     "output_type": "stream",
     "text": [
      "epoch: 15, [batch: 4704 / 6720], examples_per_second: 4634.8293, train_label_loss: 0.1745, \n"
     ]
    },
    {
     "name": "stdout",
     "output_type": "stream",
     "text": [
      "epoch: 15, [batch: 5376 / 6720], examples_per_second: 3946.5899, train_label_loss: 0.1332, \n"
     ]
    },
    {
     "name": "stdout",
     "output_type": "stream",
     "text": [
      "epoch: 15, [batch: 6048 / 6720], examples_per_second: 3849.9933, train_label_loss: 0.0414, \n"
     ]
    },
    {
     "name": "stdout",
     "output_type": "stream",
     "text": [
      "=============================================================\n",
      "epoch: 15, source_val_acc_label: 0.6043, target_val_acc_label: 0.7001, source_val_label_loss: 1.8734, target_val_label_loss: 21.5530, \n",
      "=============================================================\n"
     ]
    },
    {
     "name": "stdout",
     "output_type": "stream",
     "text": [
      "Patience (3) exhausted\n"
     ]
    }
   ],
   "source": [
    "###################################\n",
    "# train\n",
    "###################################\n",
    "jig = PTN_Train_Eval_Test_Jig(model, p.BEST_MODEL_PATH, p.device)\n",
    "\n",
    "jig.train(\n",
    "    train_iterable=datasets.source.processed.train,\n",
    "    source_val_iterable=datasets.source.processed.val,\n",
    "    target_val_iterable=datasets.target.processed.val,\n",
    "    num_epochs=p.n_epoch,\n",
    "    num_logs_per_epoch=p.NUM_LOGS_PER_EPOCH,\n",
    "    patience=p.patience,\n",
    "    optimizer=optimizer,\n",
    "    criteria_for_best=p.criteria_for_best,\n",
    ")"
   ]
  },
  {
   "cell_type": "code",
   "execution_count": 23,
   "id": "31e8fabf",
   "metadata": {
    "execution": {
     "iopub.execute_input": "2022-03-22T21:34:57.780860Z",
     "iopub.status.busy": "2022-03-22T21:34:57.780296Z",
     "iopub.status.idle": "2022-03-22T21:34:57.813834Z",
     "shell.execute_reply": "2022-03-22T21:34:57.813116Z"
    },
    "papermill": {
     "duration": 0.107918,
     "end_time": "2022-03-22T21:34:57.813995",
     "exception": false,
     "start_time": "2022-03-22T21:34:57.706077",
     "status": "completed"
    },
    "tags": []
   },
   "outputs": [],
   "source": [
    "total_experiment_time_secs = time.time() - start_time_secs"
   ]
  },
  {
   "cell_type": "code",
   "execution_count": 24,
   "id": "87b9595b",
   "metadata": {
    "execution": {
     "iopub.execute_input": "2022-03-22T21:34:57.969144Z",
     "iopub.status.busy": "2022-03-22T21:34:57.968743Z",
     "iopub.status.idle": "2022-03-22T21:37:49.873822Z",
     "shell.execute_reply": "2022-03-22T21:37:49.873082Z"
    },
    "papermill": {
     "duration": 171.985023,
     "end_time": "2022-03-22T21:37:49.874009",
     "exception": false,
     "start_time": "2022-03-22T21:34:57.888986",
     "status": "completed"
    },
    "tags": []
   },
   "outputs": [],
   "source": [
    "###################################\n",
    "# Evaluate the model\n",
    "###################################\n",
    "source_test_label_accuracy, source_test_label_loss = jig.test(datasets.source.processed.test)\n",
    "target_test_label_accuracy, target_test_label_loss = jig.test(datasets.target.processed.test)\n",
    "\n",
    "source_val_label_accuracy, source_val_label_loss = jig.test(datasets.source.processed.val)\n",
    "target_val_label_accuracy, target_val_label_loss = jig.test(datasets.target.processed.val)\n",
    "\n",
    "history = jig.get_history()\n",
    "\n",
    "total_epochs_trained = len(history[\"epoch_indices\"])\n",
    "\n",
    "val_dl = Iterable_Aggregator((datasets.source.original.val,datasets.target.original.val))\n",
    "\n",
    "confusion = ptn_confusion_by_domain_over_dataloader(model, p.device, val_dl)\n",
    "per_domain_accuracy = per_domain_accuracy_from_confusion(confusion)\n",
    "\n",
    "# Add a key to per_domain_accuracy for if it was a source domain\n",
    "for domain, accuracy in per_domain_accuracy.items():\n",
    "    per_domain_accuracy[domain] = {\n",
    "        \"accuracy\": accuracy,\n",
    "        \"source?\": domain in p.domains_source\n",
    "    }\n",
    "\n",
    "# Do an independent accuracy assesment JUST TO BE SURE!\n",
    "# _source_test_label_accuracy = independent_accuracy_assesment(model, datasets.source.processed.test, p.device)\n",
    "# _target_test_label_accuracy = independent_accuracy_assesment(model, datasets.target.processed.test, p.device)\n",
    "# _source_val_label_accuracy = independent_accuracy_assesment(model, datasets.source.processed.val, p.device)\n",
    "# _target_val_label_accuracy = independent_accuracy_assesment(model, datasets.target.processed.val, p.device)\n",
    "\n",
    "# assert(_source_test_label_accuracy == source_test_label_accuracy)\n",
    "# assert(_target_test_label_accuracy == target_test_label_accuracy)\n",
    "# assert(_source_val_label_accuracy == source_val_label_accuracy)\n",
    "# assert(_target_val_label_accuracy == target_val_label_accuracy)\n",
    "\n",
    "experiment = {\n",
    "    \"experiment_name\": p.experiment_name,\n",
    "    \"parameters\": dict(p),\n",
    "    \"results\": {\n",
    "        \"source_test_label_accuracy\": source_test_label_accuracy,\n",
    "        \"source_test_label_loss\": source_test_label_loss,\n",
    "        \"target_test_label_accuracy\": target_test_label_accuracy,\n",
    "        \"target_test_label_loss\": target_test_label_loss,\n",
    "        \"source_val_label_accuracy\": source_val_label_accuracy,\n",
    "        \"source_val_label_loss\": source_val_label_loss,\n",
    "        \"target_val_label_accuracy\": target_val_label_accuracy,\n",
    "        \"target_val_label_loss\": target_val_label_loss,\n",
    "        \"total_epochs_trained\": total_epochs_trained,\n",
    "        \"total_experiment_time_secs\": total_experiment_time_secs,\n",
    "        \"confusion\": confusion,\n",
    "        \"per_domain_accuracy\": per_domain_accuracy,\n",
    "    },\n",
    "    \"history\": history,\n",
    "    \"dataset_metrics\": get_dataset_metrics(datasets, \"ptn\"),\n",
    "}"
   ]
  },
  {
   "cell_type": "code",
   "execution_count": 25,
   "id": "54a21829",
   "metadata": {
    "execution": {
     "iopub.execute_input": "2022-03-22T21:37:50.026531Z",
     "iopub.status.busy": "2022-03-22T21:37:50.026143Z",
     "iopub.status.idle": "2022-03-22T21:37:50.243670Z",
     "shell.execute_reply": "2022-03-22T21:37:50.244344Z"
    },
    "papermill": {
     "duration": 0.292515,
     "end_time": "2022-03-22T21:37:50.244556",
     "exception": false,
     "start_time": "2022-03-22T21:37:49.952041",
     "status": "completed"
    },
    "tags": []
   },
   "outputs": [
    {
     "data": {
      "image/png": "[encoded data removed]",
      "text/plain": [
       "<Figure size 1080x504 with 1 Axes>"
      ]
     },
     "metadata": {
      "needs_background": "light"
     },
     "output_type": "display_data"
    }
   ],
   "source": [
    "ax = get_loss_curve(experiment)\n",
    "plt.show()"
   ]
  },
  {
   "cell_type": "code",
   "execution_count": 26,
   "id": "fd8a0f60",
   "metadata": {
    "execution": {
     "iopub.execute_input": "2022-03-22T21:37:50.397163Z",
     "iopub.status.busy": "2022-03-22T21:37:50.396793Z",
     "iopub.status.idle": "2022-03-22T21:37:50.775738Z",
     "shell.execute_reply": "2022-03-22T21:37:50.776413Z"
    },
    "papermill": {
     "duration": 0.454568,
     "end_time": "2022-03-22T21:37:50.776624",
     "exception": false,
     "start_time": "2022-03-22T21:37:50.322056",
     "status": "completed"
    },
    "tags": []
   },
   "outputs": [
    {
     "data": {
      "text/plain": [
       "<AxesSubplot:title={'center':'Results'}>"
      ]
     },
     "execution_count": 26,
     "metadata": {},
     "output_type": "execute_result"
    },
    {
     "data": {
      "image/png": "[encoded data removed]",
      "text/plain": [
       "<Figure size 1080x504 with 1 Axes>"
      ]
     },
     "metadata": {
      "needs_background": "light"
     },
     "output_type": "display_data"
    }
   ],
   "source": [
    "get_results_table(experiment)"
   ]
  },
  {
   "cell_type": "code",
   "execution_count": 27,
   "id": "cf8dc689",
   "metadata": {
    "execution": {
     "iopub.execute_input": "2022-03-22T21:37:50.932185Z",
     "iopub.status.busy": "2022-03-22T21:37:50.931802Z",
     "iopub.status.idle": "2022-03-22T21:37:51.184826Z",
     "shell.execute_reply": "2022-03-22T21:37:51.184001Z"
    },
    "papermill": {
     "duration": 0.328379,
     "end_time": "2022-03-22T21:37:51.184995",
     "exception": false,
     "start_time": "2022-03-22T21:37:50.856616",
     "status": "completed"
    },
    "tags": []
   },
   "outputs": [
    {
     "data": {
      "text/plain": [
       "<AxesSubplot:title={'center':'Per Domain Validation Accuracy'}, xlabel='domain'>"
      ]
     },
     "execution_count": 27,
     "metadata": {},
     "output_type": "execute_result"
    },
    {
     "data": {
      "image/png": "[encoded data removed]",
      "text/plain": [
       "<Figure size 1080x504 with 1 Axes>"
      ]
     },
     "metadata": {
      "needs_background": "light"
     },
     "output_type": "display_data"
    }
   ],
   "source": [
    "get_domain_accuracies(experiment)"
   ]
  },
  {
   "cell_type": "code",
   "execution_count": 28,
   "id": "a74ae082",
   "metadata": {
    "execution": {
     "iopub.execute_input": "2022-03-22T21:37:51.344260Z",
     "iopub.status.busy": "2022-03-22T21:37:51.343886Z",
     "iopub.status.idle": "2022-03-22T21:37:51.369832Z",
     "shell.execute_reply": "2022-03-22T21:37:51.369104Z"
    },
    "papermill": {
     "duration": 0.104233,
     "end_time": "2022-03-22T21:37:51.370000",
     "exception": false,
     "start_time": "2022-03-22T21:37:51.265767",
     "status": "completed"
    },
    "tags": []
   },
   "outputs": [
    {
     "name": "stdout",
     "output_type": "stream",
     "text": [
      "Source Test Label Accuracy: 0.6020182291666667 Target Test Label Accuracy: 0.7039337474120083\n",
      "Source Val Label Accuracy: 0.6089518229166667 Target Val Label Accuracy: 0.7031580338266384\n"
     ]
    }
   ],
   "source": [
    "print(\"Source Test Label Accuracy:\", experiment[\"results\"][\"source_test_label_accuracy\"], \"Target Test Label Accuracy:\", experiment[\"results\"][\"target_test_label_accuracy\"])\n",
    "print(\"Source Val Label Accuracy:\", experiment[\"results\"][\"source_val_label_accuracy\"], \"Target Val Label Accuracy:\", experiment[\"results\"][\"target_val_label_accuracy\"])"
   ]
  },
  {
   "cell_type": "code",
   "execution_count": 29,
   "id": "dacca602",
   "metadata": {
    "execution": {
     "iopub.execute_input": "2022-03-22T21:37:51.527374Z",
     "iopub.status.busy": "2022-03-22T21:37:51.527008Z",
     "iopub.status.idle": "2022-03-22T21:37:51.559780Z",
     "shell.execute_reply": "2022-03-22T21:37:51.560502Z"
    },
    "papermill": {
     "duration": 0.110996,
     "end_time": "2022-03-22T21:37:51.560713",
     "exception": false,
     "start_time": "2022-03-22T21:37:51.449717",
     "status": "completed"
    },
    "tags": [
     "experiment_json"
    ]
   },
   "outputs": [
    {
     "data": {
      "text/plain": [
       "'{\"experiment_name\": \"tl_1v2:wisig-oracle.run1.limited\", \"parameters\": {\"experiment_name\": \"tl_1v2:wisig-oracle.run1.limited\", \"device\": \"cuda\", \"lr\": 0.0001, \"n_shot\": 3, \"n_query\": 2, \"train_k_factor\": 3, \"val_k_factor\": 2, \"test_k_factor\": 2, \"torch_default_dtype\": \"torch.float32\", \"n_epoch\": 50, \"patience\": 3, \"criteria_for_best\": \"target_accuracy\", \"x_net\": [{\"class\": \"nnReshape\", \"kargs\": {\"shape\": [-1, 1, 2, 256]}}, {\"class\": \"Conv2d\", \"kargs\": {\"in_channels\": 1, \"out_channels\": 256, \"kernel_size\": [1, 7], \"bias\": false, \"padding\": [0, 3]}}, {\"class\": \"ReLU\", \"kargs\": {\"inplace\": true}}, {\"class\": \"BatchNorm2d\", \"kargs\": {\"num_features\": 256}}, {\"class\": \"Conv2d\", \"kargs\": {\"in_channels\": 256, \"out_channels\": 80, \"kernel_size\": [2, 7], \"bias\": true, \"padding\": [0, 3]}}, {\"class\": \"ReLU\", \"kargs\": {\"inplace\": true}}, {\"class\": \"BatchNorm2d\", \"kargs\": {\"num_features\": 80}}, {\"class\": \"Flatten\", \"kargs\": {}}, {\"class\": \"Linear\", \"kargs\": {\"in_features\": 20480, \"out_features\": 256}}, {\"class\": \"ReLU\", \"kargs\": {\"inplace\": true}}, {\"class\": \"BatchNorm1d\", \"kargs\": {\"num_features\": 256}}, {\"class\": \"Linear\", \"kargs\": {\"in_features\": 256, \"out_features\": 256}}], \"NUM_LOGS_PER_EPOCH\": 10, \"BEST_MODEL_PATH\": \"./best_model.pth\", \"n_way\": 16, \"datasets\": [{\"labels\": [\"1-10\", \"1-12\", \"1-14\", \"1-16\", \"1-18\", \"1-19\", \"1-8\", \"10-11\", \"10-17\", \"10-4\", \"10-7\", \"11-1\", \"11-10\", \"11-19\", \"11-20\", \"11-4\", \"11-7\", \"12-19\", \"12-20\", \"12-7\", \"13-14\", \"13-18\", \"13-19\", \"13-20\", \"13-3\", \"13-7\", \"14-10\", \"14-11\", \"14-12\", \"14-13\", \"14-14\", \"14-19\", \"14-20\", \"14-7\", \"14-8\", \"14-9\", \"15-1\", \"15-19\", \"15-6\", \"16-1\", \"16-16\", \"16-19\", \"16-20\", \"17-10\", \"17-11\", \"18-1\", \"18-10\", \"18-11\", \"18-12\", \"18-13\", \"18-14\", \"18-15\", \"18-16\", \"18-17\", \"18-19\", \"18-2\", \"18-20\", \"18-4\", \"18-5\", \"18-7\", \"18-8\", \"18-9\", \"19-1\", \"19-10\", \"19-11\", \"19-12\", \"19-13\", \"19-14\", \"19-15\", \"19-19\", \"19-2\", \"19-20\", \"19-3\", \"19-4\", \"19-6\", \"19-7\", \"19-8\", \"19-9\", \"2-1\", \"2-13\", \"2-15\", \"2-3\", \"2-4\", \"2-5\", \"2-6\", \"2-7\", \"2-8\", \"20-1\", \"20-12\", \"20-14\", \"20-15\", \"20-16\", \"20-18\", \"20-19\", \"20-20\", \"20-3\", \"20-4\", \"20-5\", \"20-7\", \"20-8\", \"3-1\", \"3-13\", \"3-18\", \"3-2\", \"3-8\", \"4-1\", \"4-10\", \"4-11\", \"5-1\", \"5-5\", \"6-1\", \"6-15\", \"6-6\", \"7-10\", \"7-11\", \"7-12\", \"7-13\", \"7-14\", \"7-7\", \"7-8\", \"7-9\", \"8-1\", \"8-13\", \"8-14\", \"8-18\", \"8-20\", \"8-3\", \"8-8\", \"9-1\", \"9-7\"], \"domains\": [1, 2, 3, 4], \"num_examples_per_domain_per_label\": -1, \"pickle_path\": \"/root/csc500-main/datasets/wisig.node3-19.stratified_ds.2022A.pkl\", \"source_or_target_dataset\": \"target\", \"x_transforms\": [\"unit_power\"], \"episode_transforms\": [], \"domain_prefix\": \"Wisig_\"}, {\"labels\": [\"3123D52\", \"3123D65\", \"3123D79\", \"3123D80\", \"3123D54\", \"3123D70\", \"3123D7B\", \"3123D89\", \"3123D58\", \"3123D76\", \"3123D7D\", \"3123EFE\", \"3123D64\", \"3123D78\", \"3123D7E\", \"3124E4A\"], \"domains\": [32, 38, 8, 44, 14, 50, 20, 26], \"num_examples_per_domain_per_label\": 2000, \"pickle_path\": \"/root/csc500-main/datasets/oracle.Run1_10kExamples_stratified_ds.2022A.pkl\", \"source_or_target_dataset\": \"source\", \"x_transforms\": [\"unit_power\"], \"episode_transforms\": [], \"domain_prefix\": \"ORACLE.run1\"}], \"dataset_seed\": 420, \"seed\": 420, \"x_shape\": [2, 256], \"domains_source\": [\"ORACLE.run132\", \"ORACLE.run138\", \"ORACLE.run18\", \"ORACLE.run144\", \"ORACLE.run114\", \"ORACLE.run150\", \"ORACLE.run120\", \"ORACLE.run126\"], \"domains_target\": [\"Wisig_1\", \"Wisig_2\", \"Wisig_3\", \"Wisig_4\"]}, \"results\": {\"source_test_label_accuracy\": 0.6020182291666667, \"source_test_label_loss\": 1.5840119123458862, \"target_test_label_accuracy\": 0.7039337474120083, \"target_test_label_loss\": 16.87961769104004, \"source_val_label_accuracy\": 0.6089518229166667, \"source_val_label_loss\": 1.5697963237762451, \"target_val_label_accuracy\": 0.7031580338266384, \"target_val_label_loss\": 17.15958595275879, \"total_epochs_trained\": 15, \"total_experiment_time_secs\": 2347.1206681728363, \"confusion\": {\"ORACLE.run114\": {\"15\": {\"15\": 213, \"7\": 27}, \"5\": {\"4\": 53, \"2\": 14, \"5\": 123, \"1\": 39, \"7\": 4, \"3\": 5, \"15\": 2}, \"7\": {\"7\": 215, \"15\": 15, \"1\": 9, \"5\": 1}, \"4\": {\"4\": 128, \"14\": 2, \"5\": 36, \"3\": 36, \"2\": 30, \"1\": 8}, \"10\": {\"0\": 38, \"10\": 188, \"11\": 12, \"14\": 2}, \"11\": {\"11\": 186, \"9\": 13, \"10\": 29, \"0\": 12}, \"12\": {\"12\": 235, \"9\": 5}, \"0\": {\"0\": 166, \"11\": 9, \"10\": 54, \"3\": 9, \"14\": 1, \"9\": 1}, \"14\": {\"14\": 140, \"6\": 35, \"13\": 33, \"3\": 11, \"2\": 16, \"4\": 5}, \"8\": {\"8\": 240}, \"13\": {\"6\": 88, \"14\": 57, \"13\": 63, \"2\": 21, \"5\": 6, \"15\": 2, \"3\": 1, \"10\": 1, \"4\": 1}, \"6\": {\"6\": 112, \"13\": 72, \"14\": 35, \"2\": 19, \"15\": 2}, \"1\": {\"1\": 186, \"5\": 43, \"4\": 6, \"7\": 5}, \"3\": {\"3\": 166, \"4\": 47, \"2\": 8, \"14\": 11, \"5\": 2, \"0\": 3, \"10\": 3}, \"9\": {\"9\": 237, \"11\": 3}, \"2\": {\"4\": 32, \"2\": 85, \"13\": 17, \"6\": 29, \"3\": 18, \"5\": 35, \"14\": 19, \"15\": 5}}, \"ORACLE.run120\": {\"4\": {\"4\": 145, \"10\": 12, \"3\": 19, \"8\": 42, \"0\": 3, \"14\": 2, \"2\": 2, \"12\": 3, \"7\": 3, \"5\": 4, \"9\": 4, \"1\": 1}, \"10\": {\"10\": 141, \"8\": 26, \"14\": 54, \"4\": 13, \"6\": 3, \"7\": 3}, \"15\": {\"1\": 51, \"15\": 106, \"0\": 34, \"2\": 4, \"9\": 3, \"13\": 12, \"5\": 19, \"12\": 11}, \"0\": {\"1\": 39, \"0\": 69, \"5\": 50, \"15\": 43, \"12\": 20, \"4\": 5, \"3\": 7, \"9\": 4, \"2\": 1, \"8\": 2}, \"6\": {\"6\": 178, \"14\": 45, \"7\": 7, \"8\": 5, \"10\": 5}, \"3\": {\"8\": 14, \"12\": 39, \"3\": 70, \"4\": 24, \"9\": 24, \"7\": 10, \"5\": 13, \"0\": 11, \"2\": 21, \"1\": 13, \"15\": 1}, \"7\": {\"7\": 119, \"2\": 44, \"8\": 32, \"6\": 10, \"9\": 21, \"13\": 2, \"3\": 9, \"4\": 2, \"12\": 1}, \"2\": {\"7\": 45, \"9\": 55, \"2\": 80, \"8\": 3, \"12\": 13, \"3\": 18, \"13\": 13, \"1\": 4, \"0\": 3, \"15\": 3, \"5\": 2, \"4\": 1}, \"8\": {\"8\": 99, \"2\": 2, \"14\": 7, \"4\": 45, \"7\": 31, \"10\": 27, \"3\": 19, \"9\": 5, \"12\": 2, \"6\": 2, \"0\": 1}, \"11\": {\"11\": 236, \"7\": 3, \"2\": 1}, \"14\": {\"14\": 140, \"10\": 50, \"6\": 42, \"8\": 7, \"7\": 1}, \"12\": {\"12\": 47, \"3\": 41, \"15\": 10, \"9\": 33, \"5\": 35, \"2\": 19, \"1\": 23, \"0\": 22, \"4\": 5, \"7\": 2, \"13\": 2, \"8\": 1}, \"13\": {\"13\": 174, \"7\": 4, \"1\": 9, \"2\": 26, \"9\": 9, \"12\": 2, \"15\": 12, \"0\": 2, \"5\": 2}, \"9\": {\"12\": 18, \"7\": 32, \"3\": 38, \"9\": 58, \"2\": 51, \"13\": 11, \"1\": 9, \"0\": 1, \"15\": 5, \"8\": 10, \"5\": 4, \"4\": 3}, \"5\": {\"5\": 60, \"1\": 29, \"0\": 50, \"9\": 15, \"4\": 10, \"2\": 7, \"15\": 22, \"12\": 29, \"3\": 14, \"13\": 4}, \"1\": {\"15\": 47, \"5\": 50, \"12\": 26, \"1\": 53, \"0\": 48, \"3\": 7, \"9\": 3, \"13\": 3, \"2\": 2, \"4\": 1}}, \"ORACLE.run150\": {\"5\": {\"5\": 68, \"4\": 14, \"6\": 41, \"13\": 42, \"7\": 57, \"1\": 13, \"0\": 3, \"10\": 2}, \"12\": {\"12\": 196, \"14\": 15, \"9\": 22, \"11\": 7}, \"14\": {\"14\": 231, \"11\": 3, \"12\": 6}, \"4\": {\"15\": 47, \"4\": 77, \"6\": 35, \"5\": 21, \"1\": 46, \"13\": 6, \"7\": 7, \"11\": 1}, \"13\": {\"13\": 133, \"5\": 43, \"7\": 37, \"4\": 2, \"6\": 20, \"10\": 5}, \"10\": {\"10\": 203, \"7\": 11, \"0\": 14, \"8\": 8, \"13\": 4}, \"9\": {\"12\": 23, \"11\": 39, \"9\": 171, \"14\": 7}, \"15\": {\"15\": 165, \"1\": 37, \"6\": 2, \"4\": 29, \"11\": 7}, \"6\": {\"6\": 120, \"5\": 26, \"13\": 20, \"1\": 26, \"4\": 43, \"0\": 3, \"7\": 1, \"15\": 1}, \"2\": {\"2\": 215, \"1\": 1, \"0\": 24}, \"0\": {\"0\": 184, \"10\": 24, \"2\": 27, \"7\": 1, \"6\": 2, \"13\": 2}, \"11\": {\"11\": 198, \"9\": 34, \"15\": 5, \"14\": 2, \"12\": 1}, \"3\": {\"3\": 232, \"8\": 8}, \"8\": {\"8\": 234, \"10\": 5, \"3\": 1}, \"7\": {\"7\": 148, \"13\": 55, \"5\": 28, \"6\": 2, \"10\": 6, \"4\": 1}, \"1\": {\"15\": 65, \"1\": 117, \"6\": 31, \"4\": 23, \"5\": 1, \"14\": 1, \"11\": 2}}, \"ORACLE.run126\": {\"7\": {\"3\": 50, \"7\": 81, \"2\": 36, \"8\": 23, \"4\": 23, \"10\": 4, \"14\": 5, \"15\": 8, \"5\": 2, \"0\": 3, \"9\": 3, \"1\": 2}, \"6\": {\"10\": 23, \"6\": 140, \"9\": 37, \"0\": 6, \"5\": 6, \"13\": 8, \"15\": 7, \"8\": 8, \"12\": 1, \"14\": 2, \"1\": 1, \"4\": 1}, \"14\": {\"1\": 52, \"7\": 9, \"14\": 67, \"0\": 37, \"10\": 23, \"8\": 13, \"4\": 38, \"3\": 1}, \"15\": {\"5\": 49, \"9\": 50, \"15\": 69, \"6\": 14, \"8\": 12, \"2\": 16, \"10\": 4, \"13\": 13, \"3\": 3, \"7\": 5, \"4\": 2, \"0\": 3}, \"5\": {\"15\": 60, \"13\": 30, \"5\": 89, \"6\": 7, \"9\": 29, \"2\": 9, \"8\": 8, \"3\": 6, \"7\": 2}, \"10\": {\"0\": 38, \"10\": 69, \"9\": 14, \"14\": 27, \"6\": 30, \"1\": 15, \"4\": 15, \"8\": 29, \"15\": 3}, \"4\": {\"4\": 63, \"2\": 6, \"1\": 26, \"8\": 16, \"10\": 28, \"0\": 36, \"14\": 34, \"7\": 24, \"9\": 2, \"3\": 2, \"6\": 3}, \"11\": {\"11\": 231, \"12\": 9}, \"13\": {\"6\": 9, \"13\": 148, \"15\": 14, \"9\": 9, \"5\": 52, \"3\": 1, \"2\": 6, \"7\": 1}, \"2\": {\"15\": 25, \"7\": 22, \"3\": 81, \"2\": 74, \"8\": 13, \"9\": 6, \"5\": 16, \"10\": 2, \"4\": 1}, \"0\": {\"8\": 22, \"0\": 53, \"14\": 33, \"10\": 45, \"4\": 33, \"1\": 30, \"15\": 2, \"6\": 10, \"7\": 8, \"9\": 3, \"2\": 1}, \"12\": {\"12\": 231, \"11\": 9}, \"3\": {\"3\": 117, \"7\": 59, \"2\": 56, \"5\": 1, \"13\": 1, \"8\": 1, \"4\": 2, \"9\": 1, \"14\": 1, \"15\": 1}, \"9\": {\"15\": 50, \"5\": 20, \"8\": 25, \"10\": 10, \"9\": 73, \"6\": 35, \"2\": 11, \"13\": 10, \"7\": 4, \"0\": 1, \"4\": 1}, \"8\": {\"4\": 26, \"2\": 14, \"8\": 60, \"15\": 20, \"7\": 21, \"6\": 8, \"10\": 33, \"0\": 19, \"9\": 33, \"5\": 1, \"14\": 4, \"1\": 1}, \"1\": {\"1\": 113, \"14\": 51, \"10\": 10, \"4\": 34, \"0\": 16, \"8\": 5, \"7\": 8, \"9\": 1, \"6\": 1, \"3\": 1}}, \"ORACLE.run132\": {\"7\": {\"7\": 69, \"4\": 27, \"14\": 50, \"0\": 10, \"5\": 30, \"2\": 10, \"11\": 17, \"13\": 26, \"8\": 1}, \"2\": {\"2\": 184, \"4\": 42, \"0\": 10, \"5\": 2, \"7\": 2}, \"5\": {\"8\": 34, \"0\": 23, \"4\": 22, \"13\": 53, \"7\": 24, \"5\": 61, \"14\": 8, \"11\": 4, \"3\": 10, \"2\": 1}, \"6\": {\"6\": 240}, \"13\": {\"5\": 57, \"13\": 73, \"8\": 25, \"3\": 19, \"4\": 15, \"14\": 12, \"0\": 13, \"7\": 18, \"11\": 8}, \"4\": {\"4\": 90, \"7\": 24, \"13\": 9, \"2\": 36, \"0\": 46, \"14\": 8, \"5\": 22, \"8\": 4, \"11\": 1}, \"3\": {\"3\": 209, \"14\": 4, \"13\": 11, \"11\": 12, \"8\": 2, \"5\": 2}, \"0\": {\"4\": 38, \"8\": 28, \"0\": 128, \"2\": 17, \"7\": 9, \"5\": 14, \"13\": 6}, \"9\": {\"9\": 239, \"12\": 1}, \"12\": {\"12\": 240}, \"8\": {\"0\": 25, \"8\": 163, \"5\": 20, \"13\": 27, \"7\": 1, \"3\": 4}, \"14\": {\"11\": 58, \"7\": 58, \"13\": 16, \"0\": 2, \"14\": 69, \"3\": 6, \"5\": 19, \"4\": 6, \"2\": 5, \"8\": 1}, \"15\": {\"15\": 237, \"3\": 3}, \"11\": {\"14\": 53, \"11\": 160, \"13\": 8, \"5\": 4, \"7\": 10, \"3\": 5}, \"10\": {\"10\": 238, \"1\": 2}, \"1\": {\"1\": 238, \"10\": 2}}, \"ORACLE.run144\": {\"11\": {\"11\": 200, \"6\": 18, \"13\": 22}, \"7\": {\"7\": 148, \"2\": 40, \"9\": 45, \"3\": 2, \"6\": 2, \"13\": 1, \"10\": 2}, \"6\": {\"6\": 158, \"9\": 27, \"13\": 39, \"11\": 11, \"7\": 5}, \"12\": {\"12\": 172, \"10\": 20, \"1\": 43, \"3\": 5}, \"4\": {\"14\": 69, \"4\": 166, \"13\": 2, \"15\": 3}, \"13\": {\"13\": 148, \"9\": 32, \"6\": 41, \"11\": 14, \"4\": 2, \"7\": 3}, \"8\": {\"8\": 139, \"0\": 93, \"15\": 5, \"5\": 3}, \"5\": {\"5\": 178, \"15\": 20, \"0\": 28, \"14\": 8, \"8\": 4, \"4\": 2}, \"14\": {\"4\": 87, \"14\": 131, \"5\": 8, \"15\": 14}, \"3\": {\"3\": 199, \"1\": 37, \"12\": 2, \"2\": 2}, \"10\": {\"1\": 45, \"2\": 24, \"10\": 140, \"12\": 31}, \"1\": {\"1\": 132, \"12\": 52, \"10\": 19, \"2\": 9, \"3\": 28}, \"2\": {\"2\": 160, \"10\": 28, \"7\": 34, \"1\": 9, \"9\": 5, \"3\": 4}, \"15\": {\"15\": 177, \"4\": 4, \"14\": 24, \"0\": 20, \"5\": 12, \"8\": 3}, \"9\": {\"7\": 62, \"9\": 129, \"6\": 17, \"2\": 7, \"13\": 25}, \"0\": {\"8\": 66, \"0\": 145, \"15\": 17, \"5\": 12}}, \"ORACLE.run18\": {\"10\": {\"10\": 134, \"14\": 44, \"13\": 17, \"5\": 8, \"4\": 21, \"0\": 5, \"1\": 6, \"6\": 2, \"11\": 3}, \"6\": {\"6\": 107, \"7\": 63, \"4\": 27, \"1\": 1, \"8\": 11, \"0\": 15, \"13\": 8, \"14\": 8}, \"13\": {\"13\": 67, \"10\": 21, \"4\": 37, \"5\": 2, \"14\": 20, \"0\": 62, \"6\": 24, \"7\": 6, \"1\": 1}, \"3\": {\"12\": 43, \"3\": 157, \"2\": 34, \"15\": 6}, \"9\": {\"9\": 240}, \"1\": {\"11\": 86, \"1\": 111, \"10\": 8, \"4\": 3, \"14\": 20, \"5\": 12}, \"5\": {\"10\": 15, \"5\": 201, \"14\": 3, \"1\": 12, \"11\": 9}, \"11\": {\"11\": 106, \"10\": 5, \"8\": 7, \"1\": 90, \"14\": 10, \"4\": 3, \"5\": 16, \"7\": 1, \"6\": 2}, \"4\": {\"0\": 32, \"13\": 44, \"10\": 9, \"4\": 73, \"7\": 9, \"14\": 44, \"6\": 27, \"1\": 2}, \"14\": {\"1\": 28, \"13\": 24, \"10\": 57, \"14\": 87, \"4\": 31, \"0\": 4, \"6\": 5, \"11\": 3, \"7\": 1}, \"12\": {\"12\": 118, \"15\": 59, \"2\": 8, \"3\": 44, \"8\": 11}, \"7\": {\"7\": 146, \"0\": 28, \"6\": 49, \"13\": 4, \"2\": 1, \"8\": 4, \"15\": 6, \"4\": 2}, \"0\": {\"0\": 111, \"13\": 58, \"6\": 24, \"4\": 17, \"7\": 24, \"10\": 3, \"14\": 3}, \"15\": {\"15\": 155, \"12\": 49, \"8\": 23, \"3\": 6, \"2\": 5, \"6\": 2}, \"2\": {\"2\": 161, \"12\": 9, \"3\": 46, \"15\": 15, \"7\": 9}, \"8\": {\"8\": 207, \"6\": 6, \"15\": 21, \"7\": 2, \"12\": 1, \"4\": 2, \"11\": 1}}, \"ORACLE.run138\": {\"4\": {\"12\": 25, \"4\": 215}, \"7\": {\"7\": 157, \"0\": 66, \"5\": 5, \"8\": 7, \"3\": 5}, \"12\": {\"12\": 188, \"4\": 11, \"10\": 36, \"11\": 3, \"7\": 1, \"14\": 1}, \"10\": {\"11\": 1, \"12\": 46, \"13\": 17, \"8\": 23, \"10\": 136, \"0\": 8, \"14\": 5, \"7\": 2, \"15\": 1, \"5\": 1}, \"0\": {\"7\": 82, \"8\": 55, \"5\": 27, \"0\": 59, \"3\": 8, \"12\": 2, \"6\": 1, \"10\": 3, \"9\": 1, \"15\": 2}, \"1\": {\"1\": 220, \"15\": 18, \"13\": 1, \"5\": 1}, \"5\": {\"6\": 11, \"5\": 100, \"7\": 12, \"8\": 64, \"0\": 26, \"13\": 4, \"9\": 7, \"3\": 4, \"15\": 9, \"10\": 1, \"1\": 2}, \"15\": {\"15\": 134, \"13\": 66, \"8\": 9, \"1\": 23, \"5\": 4, \"0\": 2, \"10\": 2}, \"9\": {\"6\": 87, \"5\": 2, \"9\": 132, \"3\": 17, \"0\": 2}, \"11\": {\"11\": 164, \"14\": 65, \"12\": 6, \"2\": 1, \"10\": 4}, \"14\": {\"11\": 44, \"14\": 173, \"2\": 20, \"13\": 2, \"10\": 1}, \"6\": {\"6\": 168, \"9\": 66, \"5\": 4, \"1\": 1, \"3\": 1}, \"8\": {\"5\": 51, \"13\": 2, \"8\": 125, \"0\": 41, \"10\": 4, \"7\": 6, \"15\": 10, \"6\": 1}, \"3\": {\"3\": 212, \"9\": 16, \"0\": 5, \"5\": 3, \"7\": 3, \"8\": 1}, \"2\": {\"13\": 9, \"14\": 19, \"2\": 211, \"11\": 1}, \"13\": {\"15\": 64, \"5\": 1, \"13\": 144, \"10\": 12, \"2\": 9, \"8\": 7, \"1\": 2, \"14\": 1}}, \"Wisig_3\": {\"110\": {\"110\": 68, \"129\": 2, \"44\": 1, \"111\": 1, \"3\": 4, \"88\": 3, \"114\": 8, \"5\": 2, \"87\": 1, \"11\": 1, \"43\": 1}, \"1\": {\"1\": 98, \"53\": 1, \"105\": 2, \"100\": 1, \"122\": 2, \"107\": 1, \"69\": 1, \"114\": 2}, \"2\": {\"117\": 2, \"23\": 3, \"18\": 1, \"26\": 2, \"64\": 2, \"62\": 1, \"2\": 8, \"89\": 1, \"109\": 3, \"120\": 2, \"121\": 1, \"69\": 1, \"44\": 1}, \"94\": {\"94\": 61, \"27\": 4, \"70\": 1, \"125\": 2, \"30\": 2, \"106\": 1, \"110\": 1, \"54\": 1, \"36\": 1, \"15\": 4, \"11\": 1, \"111\": 2, \"0\": 2, \"39\": 1}, \"64\": {\"64\": 20}, \"78\": {\"22\": 3, \"29\": 1, \"121\": 1, \"17\": 1, \"14\": 2, \"11\": 1, \"45\": 1, \"60\": 2, \"34\": 1, \"48\": 1, \"93\": 1, \"21\": 1}, \"47\": {\"47\": 9, \"12\": 2, \"18\": 1}, \"127\": {\"127\": 115, \"91\": 2, \"114\": 1, \"98\": 1, \"7\": 4, \"108\": 2, \"65\": 1, \"111\": 1, \"18\": 1}, \"89\": {\"89\": 28}, \"79\": {\"79\": 7, \"29\": 1, \"87\": 1, \"16\": 1, \"14\": 1, \"44\": 1}, \"22\": {\"22\": 15, \"115\": 1}, \"117\": {\"117\": 82, \"123\": 3, \"113\": 10, \"121\": 3, \"26\": 12, \"109\": 2}, \"49\": {\"79\": 1, \"47\": 1, \"124\": 3, \"1\": 2, \"45\": 1, \"49\": 3, \"101\": 1, \"14\": 2, \"11\": 1, \"83\": 1, \"73\": 2, \"118\": 1, \"10\": 1, \"129\": 1, \"0\": 1, \"16\": 2}, \"14\": {\"79\": 3, \"14\": 64, \"50\": 1, \"45\": 1, \"122\": 1, \"107\": 5, \"113\": 1, \"16\": 2, \"84\": 1, \"40\": 1}, \"103\": {\"103\": 15, \"105\": 1}, \"123\": {\"123\": 16}, \"98\": {\"98\": 96, \"23\": 1, \"52\": 1, \"77\": 1, \"19\": 2, \"118\": 1, \"124\": 12, \"12\": 1, \"127\": 2, \"108\": 1, \"46\": 1, \"72\": 1, \"85\": 1, \"109\": 1, \"10\": 4, \"117\": 1, \"102\": 1}, \"18\": {\"61\": 3, \"18\": 104, \"81\": 1}, \"61\": {\"61\": 16}, \"108\": {\"85\": 2, \"108\": 63, \"47\": 1, \"106\": 1, \"110\": 2, \"83\": 1, \"124\": 18, \"8\": 3, \"70\": 5, \"10\": 15, \"30\": 1, \"111\": 2, \"98\": 4, \"52\": 2, \"23\": 1, \"5\": 1, \"94\": 1, \"88\": 2, \"113\": 1}, \"100\": {\"107\": 3, \"28\": 1, \"100\": 12}, \"0\": {\"0\": 87, \"106\": 6, \"15\": 11, \"114\": 1, \"94\": 2, \"10\": 1, \"30\": 5, \"6\": 1, \"129\": 1, \"111\": 1}, \"107\": {\"107\": 121, \"1\": 6, \"45\": 1, \"122\": 1, \"14\": 1}, \"58\": {\"58\": 13, \"101\": 1, \"59\": 2}, \"8\": {\"8\": 86, \"108\": 4, \"124\": 1, \"106\": 9, \"12\": 8, \"101\": 1, \"0\": 1, \"111\": 6, \"42\": 1, \"30\": 1, \"94\": 2}, \"85\": {\"85\": 32, \"124\": 2, \"128\": 1, \"98\": 1}, \"31\": {\"31\": 16, \"87\": 2, \"84\": 1, \"36\": 1}, \"81\": {\"18\": 1, \"61\": 2, \"81\": 29}, \"60\": {\"100\": 2, \"107\": 1, \"32\": 1, \"23\": 1, \"31\": 1, \"22\": 2, \"86\": 1, \"60\": 6, \"48\": 2, \"98\": 2, \"53\": 1, \"122\": 3, \"3\": 1, \"110\": 1, \"69\": 1, \"11\": 2}, \"102\": {\"102\": 94, \"119\": 1, \"33\": 18, \"69\": 1, \"109\": 1, \"62\": 1}, \"19\": {\"98\": 2, \"129\": 1, \"91\": 1, \"32\": 2, \"1\": 1, \"77\": 1, \"15\": 1, \"19\": 7, \"107\": 3, \"124\": 3, \"45\": 1, \"85\": 1, \"122\": 1, \"51\": 1, \"34\": 2, \"111\": 1, \"60\": 1, \"49\": 1, \"106\": 1}, \"23\": {\"85\": 3, \"23\": 7, \"66\": 1, \"67\": 2, \"10\": 2, \"61\": 1, \"41\": 1, \"81\": 2, \"18\": 2, \"68\": 1, \"72\": 1, \"7\": 1, \"63\": 1, \"109\": 1, \"91\": 1, \"98\": 1, \"71\": 2, \"39\": 1, \"124\": 1}, \"32\": {\"28\": 2, \"32\": 23, \"107\": 3, \"100\": 1, \"14\": 1, \"38\": 1, \"1\": 1}, \"39\": {\"63\": 1, \"71\": 1, \"123\": 2, \"67\": 3, \"43\": 2, \"118\": 3, \"113\": 16, \"126\": 5, \"39\": 40, \"121\": 1, \"26\": 3, \"10\": 2, \"15\": 4, \"117\": 7, \"18\": 6, \"87\": 1, \"92\": 2, \"109\": 2, \"0\": 1, \"23\": 1, \"21\": 1, \"16\": 1, \"33\": 2, \"93\": 1}, \"129\": {\"28\": 1, \"129\": 15, \"34\": 3, \"23\": 2, \"88\": 1, \"38\": 1, \"5\": 2, \"49\": 4, \"3\": 1, \"45\": 1, \"9\": 1}, \"71\": {\"99\": 2, \"71\": 57, \"5\": 6, \"127\": 2, \"109\": 1}, \"91\": {\"91\": 14, \"62\": 1, \"111\": 2, \"37\": 1, \"72\": 1, \"128\": 1, \"124\": 2, \"70\": 1, \"44\": 1}, \"101\": {\"101\": 37, \"106\": 6, \"6\": 1, \"126\": 1, \"30\": 1, \"12\": 1, \"98\": 1, \"54\": 1, \"113\": 1, \"15\": 2}, \"62\": {\"62\": 103, \"44\": 2, \"29\": 1, \"102\": 1, \"84\": 7, \"26\": 4, \"88\": 1, \"33\": 1, \"36\": 1, \"16\": 1}, \"63\": {\"63\": 15, \"18\": 1}, \"125\": {\"125\": 105, \"111\": 5, \"73\": 1, \"26\": 1, \"101\": 2, \"12\": 2, \"8\": 1, \"72\": 1, \"19\": 1, \"6\": 1}, \"57\": {\"32\": 1, \"57\": 12, \"50\": 2, \"48\": 2, \"14\": 1, \"100\": 2}, \"28\": {\"28\": 12, \"100\": 1, \"65\": 1, \"115\": 2}, \"70\": {\"70\": 21, \"47\": 1, \"123\": 2, \"39\": 1, \"10\": 4, \"129\": 1, \"88\": 4, \"77\": 1, \"98\": 1, \"126\": 5, \"19\": 1, \"108\": 5, \"5\": 6, \"94\": 1, \"15\": 1, \"124\": 3, \"61\": 1, \"8\": 2, \"85\": 2, \"91\": 1, \"83\": 2, \"110\": 1, \"12\": 1, \"69\": 1, \"18\": 1, \"33\": 1, \"36\": 1}, \"99\": {\"99\": 20, \"32\": 1, \"86\": 2, \"105\": 2, \"21\": 1, \"104\": 1, \"27\": 1, \"95\": 3, \"4\": 2, \"58\": 1, \"7\": 1, \"122\": 1}, \"121\": {\"121\": 16, \"109\": 1, \"67\": 3, \"117\": 3, \"26\": 4, \"120\": 2, \"18\": 1, \"97\": 1, \"113\": 1}, \"4\": {\"86\": 3, \"4\": 79, \"103\": 2, \"34\": 3, \"105\": 4, \"99\": 1, \"7\": 1, \"94\": 1, \"1\": 1, \"5\": 1}, \"80\": {\"80\": 12, \"76\": 2, \"16\": 2}, \"51\": {\"15\": 1, \"51\": 12, \"0\": 1, \"30\": 1, \"73\": 1}, \"3\": {\"3\": 94, \"71\": 3, \"128\": 2, \"30\": 1, \"5\": 4, \"70\": 1, \"4\": 2, \"7\": 2, \"114\": 2, \"98\": 2, \"127\": 1, \"1\": 1, \"8\": 1}, \"9\": {\"9\": 30, \"103\": 1, \"128\": 1}, \"53\": {\"53\": 14, \"122\": 2, \"10\": 1, \"60\": 1, \"20\": 1, \"81\": 1}, \"30\": {\"97\": 4, \"30\": 49, \"54\": 1, \"122\": 1, \"87\": 1, \"83\": 1, \"15\": 12, \"0\": 6, \"94\": 3, \"112\": 1, \"69\": 1, \"58\": 1, \"88\": 1, \"36\": 1, \"110\": 1}, \"33\": {\"33\": 93, \"64\": 2, \"69\": 6, \"102\": 15, \"109\": 3, \"117\": 1, \"26\": 1, \"39\": 1}, \"15\": {\"30\": 9, \"94\": 2, \"6\": 1, \"15\": 75, \"0\": 11, \"101\": 1, \"8\": 1, \"97\": 2, \"106\": 1, \"88\": 1}, \"97\": {\"30\": 2, \"15\": 2, \"97\": 15, \"73\": 1}, \"86\": {\"86\": 25, \"105\": 2, \"81\": 1}, \"20\": {\"20\": 16}, \"66\": {\"66\": 12, \"65\": 1, \"128\": 1, \"3\": 2}, \"10\": {\"52\": 1, \"10\": 51, \"70\": 3, \"73\": 2, \"34\": 2, \"129\": 1, \"77\": 1, \"124\": 8, \"12\": 5, \"71\": 1, \"94\": 1, \"127\": 8, \"8\": 4, \"108\": 7, \"98\": 12, \"3\": 1, \"88\": 2, \"111\": 1, \"46\": 2, \"91\": 1, \"112\": 2, \"41\": 1, \"114\": 2, \"5\": 2, \"109\": 1}, \"29\": {\"29\": 26, \"22\": 1, \"87\": 2, \"79\": 1, \"84\": 2}, \"109\": {\"109\": 51, \"63\": 1, \"33\": 14, \"11\": 1, \"93\": 6, \"119\": 2, \"64\": 1, \"5\": 1, \"69\": 3, \"43\": 6, \"118\": 6, \"2\": 1, \"16\": 1, \"39\": 1, \"102\": 8, \"84\": 1, \"116\": 1, \"92\": 2, \"13\": 2, \"62\": 2, \"23\": 2, \"113\": 1}, \"52\": {\"52\": 15, \"12\": 1}, \"67\": {\"67\": 13, \"117\": 2, \"121\": 1}, \"83\": {\"83\": 18, \"121\": 1, \"43\": 1, \"72\": 2, \"15\": 2}, \"72\": {\"72\": 27, \"4\": 1}, \"90\": {\"29\": 1, \"90\": 107, \"84\": 7, \"44\": 6, \"87\": 1, \"114\": 1, \"18\": 1, \"26\": 1, \"62\": 1}, \"69\": {\"69\": 68, \"89\": 7, \"26\": 1, \"62\": 1, \"122\": 1, \"102\": 3, \"33\": 3}, \"88\": {\"70\": 2, \"88\": 45, \"78\": 2, \"5\": 8, \"124\": 3, \"49\": 5, \"110\": 10, \"85\": 2, \"125\": 1, \"71\": 1, \"113\": 1, \"122\": 2, \"7\": 1, \"107\": 1, \"11\": 2, \"114\": 8, \"3\": 3, \"93\": 1, \"8\": 1, \"108\": 3, \"129\": 2, \"34\": 1, \"19\": 1, \"66\": 2, \"39\": 1, \"1\": 1, \"27\": 1, \"36\": 1}, \"115\": {\"22\": 1, \"32\": 1, \"115\": 10, \"50\": 2, \"107\": 1, \"38\": 1}, \"73\": {\"73\": 27, \"92\": 1, \"72\": 2, \"88\": 1, \"42\": 1, \"58\": 2, \"27\": 1, \"108\": 1, \"51\": 1, \"76\": 1, \"10\": 2}, \"34\": {\"129\": 2, \"35\": 1, \"34\": 10, \"122\": 4, \"86\": 1, \"1\": 2, \"14\": 1, \"110\": 1, \"111\": 1, \"37\": 1, \"105\": 1, \"38\": 1, \"53\": 1, \"51\": 4, \"98\": 1}, \"25\": {\"25\": 16}, \"44\": {\"80\": 1, \"44\": 60, \"29\": 1, \"90\": 4, \"84\": 4, \"116\": 1, \"62\": 1}, \"112\": {\"112\": 12, \"30\": 1, \"59\": 2, \"42\": 1}, \"37\": {\"56\": 2, \"37\": 12, \"9\": 1, \"85\": 1}, \"77\": {\"77\": 15, \"98\": 1}, \"111\": {\"111\": 107, \"51\": 2, \"73\": 2, \"12\": 3, \"127\": 1, \"98\": 2, \"126\": 1, \"106\": 2, \"125\": 1, \"10\": 1}, \"119\": {\"119\": 14, \"102\": 1, \"89\": 1}, \"56\": {\"56\": 10, \"9\": 1, \"48\": 1}, \"5\": {\"5\": 94, \"71\": 3, \"73\": 1, \"3\": 6, \"128\": 1, \"126\": 1, \"7\": 2, \"19\": 1, \"4\": 2, \"87\": 1}, \"122\": {\"122\": 34, \"103\": 3, \"129\": 4, \"1\": 5, \"21\": 2, \"45\": 1, \"107\": 4, \"128\": 1, \"60\": 2, \"105\": 1, \"126\": 1, \"32\": 1, \"110\": 1}, \"74\": {\"74\": 15, \"116\": 1}, \"11\": {\"79\": 1, \"11\": 70, \"115\": 2, \"87\": 13, \"16\": 13, \"90\": 15, \"29\": 1, \"118\": 1, \"93\": 16, \"14\": 3, \"84\": 3, \"107\": 3, \"88\": 1, \"39\": 2, \"44\": 2, \"23\": 2, \"117\": 1, \"110\": 1, \"109\": 1, \"113\": 1}, \"41\": {\"41\": 15, \"127\": 1}, \"104\": {\"104\": 16}, \"21\": {\"21\": 42, \"101\": 2, \"30\": 1, \"83\": 2, \"117\": 1}, \"118\": {\"118\": 47, \"62\": 3, \"89\": 3, \"6\": 1, \"43\": 7, \"64\": 1, \"69\": 9, \"11\": 2, \"2\": 2, \"109\": 4, \"92\": 1, \"93\": 1, \"33\": 7, \"113\": 1, \"80\": 1, \"102\": 9, \"24\": 1}, \"40\": {\"40\": 118, \"21\": 1, \"62\": 3}, \"6\": {\"68\": 2, \"94\": 2, \"125\": 2, \"25\": 1, \"35\": 1, \"54\": 1, \"6\": 6, \"111\": 4, \"127\": 1, \"36\": 1, \"106\": 2, \"12\": 2, \"0\": 2, \"30\": 2, \"124\": 2, \"15\": 1}, \"27\": {\"94\": 2, \"27\": 71, \"25\": 1, \"54\": 2, \"24\": 3, \"36\": 16, \"61\": 1}, \"113\": {\"113\": 73, \"117\": 10, \"43\": 2, \"26\": 17, \"109\": 1, \"63\": 1, \"39\": 6, \"18\": 2, \"67\": 2, \"121\": 1, \"92\": 1, \"118\": 3, \"126\": 1}, \"68\": {\"68\": 16}, \"12\": {\"12\": 78, \"111\": 10, \"19\": 2, \"124\": 5, \"94\": 1, \"98\": 1, \"52\": 1, \"8\": 2, \"10\": 1, \"0\": 1}, \"54\": {\"54\": 14, \"94\": 2}, \"24\": {\"24\": 31, \"54\": 1, \"30\": 2, \"27\": 4, \"36\": 3, \"75\": 2, \"86\": 1, \"18\": 1, \"125\": 1, \"15\": 2}, \"106\": {\"106\": 76, \"59\": 1, \"101\": 6, \"124\": 1, \"125\": 2, \"0\": 5, \"111\": 2, \"87\": 1, \"73\": 1, \"58\": 1, \"121\": 1, \"91\": 1, \"15\": 2}, \"128\": {\"10\": 2, \"48\": 1, \"77\": 2, \"46\": 2, \"124\": 6, \"55\": 1, \"1\": 1, \"85\": 2, \"128\": 5, \"98\": 2, \"100\": 1, \"127\": 1, \"122\": 2, \"32\": 3, \"111\": 1}, \"48\": {\"4\": 2, \"116\": 1, \"86\": 4, \"60\": 1, \"31\": 1, \"92\": 1, \"84\": 2, \"95\": 2, \"33\": 2}, \"92\": {\"92\": 20, \"119\": 4, \"118\": 4, \"102\": 2, \"26\": 2}, \"35\": {\"35\": 9, \"54\": 1, \"6\": 1, \"27\": 1}, \"116\": {\"92\": 1, \"116\": 19, \"44\": 2, \"82\": 3, \"109\": 2, \"64\": 1}, \"38\": {\"38\": 13, \"13\": 1, \"48\": 2}, \"126\": {\"81\": 6, \"126\": 93, \"39\": 7, \"86\": 2, \"18\": 10, \"117\": 1, \"26\": 1, \"113\": 3, \"17\": 1}, \"46\": {\"46\": 15, \"77\": 1}, \"120\": {\"120\": 20}, \"7\": {\"4\": 9, \"7\": 89, \"105\": 2, \"3\": 2, \"34\": 2, \"9\": 2, \"97\": 1, \"71\": 2, \"99\": 1, \"5\": 2}, \"13\": {\"13\": 9, \"116\": 1, \"69\": 2, \"70\": 1, \"122\": 1, \"120\": 1, \"17\": 1}, \"43\": {\"102\": 2, \"43\": 20, \"118\": 7, \"31\": 1, \"33\": 1, \"109\": 3, \"92\": 4, \"2\": 1, \"96\": 2, \"62\": 3, \"121\": 1, \"113\": 3, \"18\": 1, \"69\": 1, \"83\": 1, \"23\": 2, \"39\": 2, \"126\": 1}, \"93\": {\"93\": 117, \"11\": 7, \"16\": 6, \"18\": 1, \"109\": 1}, \"26\": {\"26\": 119, \"109\": 2, \"117\": 8, \"126\": 1, \"81\": 2}, \"76\": {\"76\": 16}, \"59\": {\"59\": 12}, \"65\": {\"65\": 8, \"69\": 1, \"34\": 2, \"127\": 1}, \"87\": {\"87\": 43, \"84\": 8, \"16\": 13, \"14\": 1, \"93\": 13, \"60\": 1, \"29\": 5, \"90\": 15, \"11\": 7, \"110\": 1, \"40\": 7, \"62\": 2, \"48\": 1, \"31\": 1, \"74\": 1, \"126\": 1}, \"124\": {\"124\": 107, \"127\": 1, \"52\": 1, \"42\": 1, \"98\": 6, \"10\": 1, \"12\": 1, \"47\": 1, \"89\": 1, \"32\": 1, \"46\": 1, \"108\": 1, \"113\": 1}, \"84\": {\"84\": 78, \"90\": 11, \"44\": 9, \"15\": 1, \"40\": 1, \"69\": 1, \"87\": 1, \"62\": 4, \"11\": 1, \"29\": 1}, \"82\": {\"82\": 24, \"84\": 2, \"29\": 2}, \"75\": {\"75\": 16}, \"17\": {\"103\": 1, \"23\": 1, \"116\": 1, \"5\": 1, \"7\": 3, \"69\": 1, \"109\": 1, \"117\": 1, \"17\": 2, \"106\": 1, \"86\": 1, \"89\": 1, \"0\": 1}, \"105\": {\"105\": 117, \"86\": 1, \"4\": 3, \"104\": 1, \"107\": 1, \"99\": 1}, \"95\": {\"95\": 29, \"99\": 2, \"115\": 1}, \"42\": {\"42\": 15, \"0\": 1, \"97\": 2, \"73\": 1, \"106\": 1, \"58\": 1, \"59\": 1, \"70\": 1, \"112\": 2, \"101\": 1, \"85\": 2}, \"55\": {\"55\": 15, \"103\": 1}, \"16\": {\"16\": 99, \"11\": 6, \"29\": 1, \"87\": 4, \"93\": 3, \"121\": 1, \"23\": 2}, \"50\": {\"50\": 15, \"48\": 1}, \"96\": {\"96\": 18, \"29\": 1, \"118\": 1}, \"45\": {\"45\": 14, \"74\": 1, \"14\": 1}, \"36\": {\"36\": 107, \"24\": 2, \"27\": 9, \"125\": 1, \"94\": 1}, \"114\": {\"114\": 102, \"101\": 1, \"3\": 8, \"0\": 1, \"1\": 5, \"124\": 1, \"53\": 1, \"110\": 1, \"107\": 1, \"18\": 1, \"106\": 1, \"117\": 1}}, \"Wisig_4\": {\"113\": {\"35\": 2, \"18\": 2, \"113\": 74, \"61\": 3, \"80\": 1, \"117\": 12, \"2\": 2, \"121\": 2, \"26\": 9, \"126\": 8, \"123\": 1, \"63\": 1, \"16\": 4, \"27\": 1, \"109\": 1, \"106\": 1}, \"85\": {\"34\": 1, \"55\": 1, \"85\": 21, \"36\": 1, \"95\": 1, \"86\": 1, \"30\": 1, \"46\": 1}, \"34\": {\"83\": 2, \"34\": 5, \"71\": 3, \"119\": 2, \"98\": 3, \"1\": 1, \"75\": 1, \"47\": 4, \"114\": 1, \"52\": 2, \"124\": 4, \"58\": 2, \"12\": 2}, \"55\": {\"55\": 14, \"4\": 2}, \"42\": {\"53\": 1, \"51\": 1, \"42\": 11, \"111\": 4, \"12\": 3, \"8\": 1, \"100\": 1, \"91\": 1, \"83\": 1, \"0\": 2, \"112\": 1, \"46\": 1}, \"13\": {\"13\": 15, \"84\": 1}, \"69\": {\"13\": 2, \"69\": 81, \"84\": 8, \"57\": 2, \"70\": 1, \"8\": 1, \"90\": 15, \"36\": 1, \"102\": 4, \"26\": 1, \"44\": 2, \"92\": 1, \"33\": 1, \"118\": 1, \"21\": 1, \"40\": 1, \"16\": 1}, \"35\": {\"35\": 9, \"18\": 1, \"63\": 2}, \"83\": {\"83\": 22, \"21\": 1, \"73\": 2, \"88\": 1, \"71\": 2}, \"51\": {\"51\": 7, \"69\": 1, \"62\": 2, \"1\": 1, \"126\": 1, \"68\": 2, \"21\": 1, \"0\": 1}, \"72\": {\"72\": 26, \"85\": 1, \"11\": 3, \"45\": 1, \"87\": 1}, \"24\": {\"24\": 64, \"30\": 10, \"10\": 14, \"94\": 13, \"21\": 1, \"106\": 2, \"15\": 2, \"36\": 9, \"75\": 1, \"91\": 1, \"97\": 1, \"27\": 2}, \"53\": {\"53\": 11, \"106\": 1, \"92\": 1, \"101\": 1, \"111\": 2}, \"8\": {\"8\": 90, \"106\": 17, \"53\": 1, \"97\": 2, \"12\": 4, \"30\": 1, \"112\": 1, \"27\": 3, \"110\": 1, \"101\": 6, \"0\": 2, \"15\": 1, \"88\": 1, \"111\": 5, \"18\": 1, \"26\": 3, \"58\": 1, \"47\": 1, \"42\": 1, \"21\": 1, \"10\": 1}, \"49\": {\"72\": 2, \"11\": 5, \"8\": 2, \"32\": 1, \"106\": 2, \"5\": 3, \"124\": 1, \"12\": 2, \"3\": 1, \"40\": 2, \"111\": 2, \"122\": 1, \"129\": 1, \"110\": 1, \"49\": 5, \"83\": 1}, \"21\": {\"21\": 37, \"23\": 1, \"61\": 1, \"126\": 1}, \"18\": {\"18\": 103, \"84\": 2, \"63\": 2, \"24\": 1, \"26\": 9, \"16\": 2, \"108\": 1}, \"114\": {\"114\": 97, \"71\": 7, \"85\": 2, \"4\": 2, \"113\": 1, \"7\": 4, \"3\": 5}, \"58\": {\"58\": 12, \"2\": 1, \"106\": 1, \"12\": 2}, \"56\": {\"56\": 12}, \"80\": {\"80\": 15, \"2\": 1}, \"11\": {\"73\": 3, \"11\": 61, \"45\": 1, \"20\": 1, \"32\": 1, \"28\": 2, \"99\": 1, \"19\": 1, \"110\": 11, \"5\": 23, \"93\": 9, \"87\": 12, \"78\": 1, \"122\": 2, \"3\": 2, \"107\": 5, \"7\": 2, \"14\": 8, \"2\": 1, \"72\": 2, \"49\": 1, \"98\": 1, \"43\": 3}, \"15\": {\"15\": 109, \"9\": 1, \"105\": 1, \"94\": 1, \"106\": 1, \"24\": 1, \"108\": 1, \"8\": 4, \"30\": 3, \"40\": 1, \"6\": 1, \"12\": 2, \"69\": 1, \"125\": 1}, \"50\": {\"50\": 10, \"115\": 4, \"32\": 2}, \"111\": {\"111\": 116, \"101\": 9, \"12\": 4, \"106\": 4, \"98\": 1, \"0\": 2, \"29\": 1, \"27\": 1}, \"108\": {\"108\": 27, \"20\": 4, \"49\": 2, \"129\": 1, \"93\": 11, \"11\": 4, \"88\": 4, \"70\": 2, \"78\": 1, \"24\": 2, \"98\": 1, \"110\": 2, \"1\": 2, \"3\": 4, \"27\": 1, \"71\": 1, \"7\": 1, \"127\": 2, \"5\": 8, \"73\": 2, \"119\": 2, \"18\": 1, \"10\": 1, \"79\": 1, \"106\": 1, \"39\": 1, \"43\": 1, \"114\": 1, \"8\": 1}, \"104\": {\"104\": 14, \"89\": 2}, \"32\": {\"50\": 4, \"107\": 2, \"7\": 3, \"32\": 11, \"83\": 1, \"40\": 3, \"99\": 1, \"66\": 1, \"45\": 1, \"90\": 1}, \"68\": {\"111\": 2, \"68\": 13, \"51\": 1}, \"73\": {\"83\": 1, \"11\": 1, \"73\": 20, \"49\": 1, \"14\": 1}, \"92\": {\"92\": 18, \"44\": 2, \"66\": 1, \"69\": 2, \"102\": 2, \"90\": 1, \"118\": 2}, \"57\": {\"92\": 1, \"121\": 1, \"57\": 13, \"90\": 1}, \"40\": {\"40\": 119, \"45\": 1, \"82\": 1, \"108\": 1, \"18\": 1, \"87\": 2, \"107\": 3, \"76\": 2, \"126\": 2, \"72\": 2, \"11\": 2}, \"71\": {\"71\": 78, \"42\": 1, \"120\": 1, \"114\": 13, \"4\": 2, \"3\": 2, \"88\": 1, \"127\": 1, \"10\": 1, \"105\": 1, \"1\": 1, \"113\": 1, \"69\": 1}, \"121\": {\"121\": 9, \"38\": 2, \"117\": 1, \"21\": 1, \"90\": 2, \"113\": 1, \"69\": 1, \"39\": 2, \"26\": 2, \"57\": 1, \"123\": 1, \"63\": 1, \"44\": 2, \"48\": 1, \"84\": 2, \"67\": 1, \"18\": 2}, \"62\": {\"62\": 25, \"102\": 9, \"2\": 2, \"44\": 3, \"26\": 1, \"22\": 2, \"31\": 2, \"84\": 1, \"21\": 2, \"116\": 2, \"90\": 4, \"69\": 1, \"66\": 2, \"126\": 1, \"106\": 1, \"39\": 1, \"61\": 1}, \"39\": {\"39\": 50, \"109\": 5, \"88\": 1, \"102\": 2, \"118\": 1, \"81\": 5, \"26\": 3, \"113\": 9, \"117\": 6, \"7\": 1, \"108\": 1, \"15\": 2, \"18\": 5, \"16\": 3, \"126\": 3, \"84\": 1, \"78\": 1, \"94\": 1}, \"107\": {\"107\": 114, \"32\": 1, \"7\": 4, \"44\": 1, \"105\": 11, \"40\": 3, \"1\": 1, \"87\": 6, \"102\": 1, \"3\": 1, \"11\": 1}, \"60\": {\"129\": 2, \"84\": 1, \"60\": 3, \"128\": 1, \"18\": 1, \"22\": 2, \"46\": 2, \"37\": 2, \"71\": 1, \"13\": 1, \"32\": 2, \"19\": 1, \"87\": 2, \"74\": 2, \"123\": 1, \"41\": 1, \"95\": 1, \"85\": 1, \"79\": 1, \"122\": 1, \"62\": 2, \"70\": 1}, \"129\": {\"0\": 4, \"11\": 2, \"129\": 4, \"87\": 1, \"28\": 1, \"32\": 1, \"112\": 1, \"70\": 1, \"19\": 1, \"43\": 1, \"52\": 2, \"5\": 1, \"95\": 1, \"68\": 1, \"75\": 1, \"53\": 2, \"49\": 1, \"12\": 2}, \"84\": {\"84\": 102, \"69\": 13, \"90\": 1, \"13\": 2, \"95\": 1, \"117\": 1, \"88\": 1, \"106\": 2, \"121\": 1, \"48\": 1, \"44\": 1, \"108\": 1, \"10\": 1, \"11\": 2, \"16\": 2}, \"106\": {\"106\": 74, \"8\": 4, \"12\": 5, \"113\": 1, \"125\": 4, \"101\": 9, \"111\": 13, \"98\": 1, \"0\": 5}, \"87\": {\"110\": 7, \"87\": 41, \"107\": 12, \"115\": 1, \"129\": 1, \"105\": 13, \"40\": 9, \"14\": 6, \"3\": 7, \"122\": 1, \"93\": 1, \"5\": 11, \"7\": 3, \"33\": 2, \"76\": 1, \"11\": 10, \"82\": 2, \"60\": 1, \"19\": 1, \"108\": 1, \"70\": 1}, \"110\": {\"110\": 49, \"11\": 10, \"14\": 2, \"5\": 6, \"87\": 3, \"78\": 1, \"93\": 13, \"113\": 1, \"122\": 2, \"24\": 1, \"36\": 1, \"43\": 3, \"72\": 1, \"16\": 1}, \"118\": {\"118\": 52, \"57\": 4, \"123\": 1, \"102\": 16, \"62\": 1, \"96\": 1, \"122\": 4, \"11\": 2, \"74\": 2, \"116\": 1, \"44\": 1, \"43\": 4, \"90\": 3, \"33\": 8, \"22\": 1, \"109\": 4, \"94\": 1, \"40\": 1, \"69\": 3, \"110\": 1, \"107\": 1}, \"64\": {\"64\": 14, \"106\": 1, \"99\": 1}, \"82\": {\"129\": 1, \"64\": 1, \"82\": 21, \"76\": 4, \"23\": 1, \"102\": 1, \"105\": 1, \"107\": 1, \"99\": 1}, \"7\": {\"107\": 7, \"7\": 62, \"73\": 1, \"11\": 1, \"99\": 1, \"1\": 5, \"105\": 10, \"3\": 10, \"78\": 2, \"14\": 7, \"5\": 1, \"71\": 1, \"87\": 4, \"28\": 1, \"128\": 1, \"32\": 2, \"26\": 1, \"4\": 1, \"40\": 1, \"89\": 1, \"101\": 1, \"10\": 1, \"126\": 1, \"24\": 1}, \"0\": {\"0\": 55, \"8\": 9, \"29\": 2, \"103\": 1, \"12\": 11, \"111\": 12, \"101\": 11, \"88\": 1, \"98\": 3, \"126\": 1, \"94\": 1, \"93\": 1, \"124\": 1, \"112\": 2, \"21\": 2, \"125\": 3}, \"41\": {\"41\": 9, \"85\": 1, \"102\": 1, \"30\": 1, \"34\": 1, \"124\": 1, \"4\": 2}, \"102\": {\"102\": 113, \"118\": 1, \"44\": 5, \"69\": 1, \"43\": 2, \"127\": 1, \"62\": 1, \"48\": 1, \"92\": 1, \"90\": 2, \"107\": 2}, \"89\": {\"89\": 20, \"82\": 1, \"18\": 1, \"7\": 3, \"107\": 1, \"17\": 2, \"114\": 2, \"3\": 1, \"28\": 1}, \"26\": {\"18\": 9, \"113\": 2, \"26\": 99, \"61\": 1, \"65\": 2, \"81\": 1, \"117\": 7, \"126\": 3, \"69\": 1, \"123\": 1, \"8\": 1, \"39\": 1}, \"103\": {\"68\": 1, \"103\": 8, \"91\": 1, \"19\": 1, \"106\": 2, \"127\": 1, \"112\": 1, \"29\": 1}, \"90\": {\"90\": 92, \"13\": 1, \"84\": 1, \"92\": 3, \"102\": 8, \"66\": 1, \"43\": 1, \"40\": 2, \"69\": 7, \"63\": 1, \"113\": 1}, \"14\": {\"14\": 85, \"3\": 5, \"11\": 3, \"32\": 1, \"84\": 1, \"79\": 2, \"87\": 2, \"39\": 1, \"107\": 3, \"28\": 1, \"88\": 1, \"33\": 1, \"7\": 2, \"105\": 2, \"90\": 1, \"5\": 1}, \"9\": {\"9\": 28}, \"5\": {\"14\": 2, \"20\": 3, \"5\": 113, \"129\": 1, \"49\": 1, \"11\": 9, \"108\": 1, \"113\": 1, \"40\": 2, \"87\": 2, \"110\": 1}, \"22\": {\"45\": 1, \"22\": 10, \"118\": 2, \"76\": 2, \"62\": 1}, \"2\": {\"61\": 1, \"2\": 10, \"11\": 2, \"96\": 2, \"117\": 2, \"92\": 1, \"20\": 1, \"16\": 1, \"18\": 1, \"121\": 2, \"44\": 2, \"26\": 2, \"80\": 1}, \"77\": {\"77\": 11, \"111\": 1}, \"59\": {\"77\": 2, \"59\": 6, \"109\": 1, \"88\": 1, \"111\": 2}, \"127\": {\"127\": 88, \"113\": 2, \"98\": 1, \"8\": 1, \"111\": 2, \"0\": 2, \"103\": 2, \"18\": 1, \"10\": 1, \"4\": 2}, \"61\": {\"61\": 13, \"26\": 1, \"35\": 2}, \"17\": {\"89\": 1, \"17\": 16, \"81\": 1, \"72\": 2}, \"45\": {\"45\": 15, \"72\": 1}, \"19\": {\"11\": 3, \"19\": 2, \"128\": 1, \"0\": 2, \"14\": 1, \"43\": 2, \"106\": 1, \"125\": 1, \"52\": 1, \"5\": 3, \"20\": 1, \"79\": 1, \"53\": 1, \"72\": 2, \"111\": 1, \"109\": 1, \"8\": 1, \"124\": 2, \"87\": 1}, \"52\": {\"52\": 14, \"74\": 1, \"98\": 1, \"12\": 1, \"103\": 1, \"100\": 2}, \"123\": {\"77\": 1, \"123\": 9, \"113\": 2, \"54\": 1, \"81\": 1, \"75\": 1, \"117\": 1}, \"20\": {\"20\": 10, \"76\": 1, \"11\": 3, \"96\": 1, \"5\": 1}, \"112\": {\"112\": 12, \"77\": 1, \"120\": 1, \"71\": 1, \"61\": 1}, \"37\": {\"37\": 15, \"56\": 1}, \"29\": {\"29\": 32}, \"128\": {\"100\": 2, \"128\": 7, \"91\": 1, \"127\": 2, \"89\": 2, \"40\": 1, \"115\": 2, \"52\": 1, \"32\": 1, \"119\": 1, \"29\": 1, \"70\": 2, \"98\": 1}, \"100\": {\"100\": 14, \"128\": 1, \"11\": 1, \"124\": 2, \"14\": 1, \"37\": 1}, \"67\": {\"67\": 4, \"113\": 1, \"117\": 1, \"102\": 3, \"39\": 1, \"126\": 1, \"2\": 1, \"33\": 2, \"18\": 2}, \"12\": {\"12\": 65, \"113\": 1, \"111\": 14, \"34\": 1, \"8\": 1, \"0\": 3, \"71\": 1, \"27\": 1, \"101\": 6, \"106\": 1, \"29\": 2, \"51\": 1, \"16\": 1, \"14\": 1, \"124\": 1}, \"101\": {\"29\": 2, \"101\": 71, \"111\": 17, \"0\": 10, \"12\": 6, \"106\": 8, \"5\": 1, \"125\": 4, \"26\": 1, \"124\": 1, \"51\": 1, \"53\": 1, \"44\": 1, \"8\": 2, \"3\": 1, \"90\": 1}, \"76\": {\"76\": 16}, \"70\": {\"86\": 1, \"29\": 1, \"109\": 1, \"70\": 50, \"23\": 2, \"12\": 2, \"39\": 1, \"124\": 9, \"98\": 12, \"108\": 4, \"27\": 3, \"1\": 3, \"88\": 11, \"10\": 1, \"94\": 2, \"0\": 2, \"106\": 1, \"3\": 1, \"34\": 1, \"53\": 2, \"111\": 3, \"52\": 1, \"89\": 1, \"8\": 3, \"4\": 1, \"127\": 2, \"113\": 1, \"114\": 2}, \"31\": {\"39\": 1, \"118\": 1, \"33\": 2, \"31\": 8, \"2\": 1, \"45\": 1, \"43\": 1, \"44\": 1}, \"86\": {\"86\": 26, \"85\": 1, \"4\": 1}, \"88\": {\"39\": 2, \"108\": 3, \"94\": 3, \"19\": 1, \"88\": 44, \"119\": 1, \"42\": 2, \"93\": 3, \"95\": 1, \"3\": 4, \"101\": 3, \"124\": 12, \"98\": 5, \"1\": 6, \"114\": 9, \"8\": 2, \"71\": 5, \"0\": 1, \"69\": 2, \"40\": 3, \"70\": 5, \"112\": 2, \"111\": 1, \"49\": 1, \"83\": 1, \"109\": 1, \"60\": 1, \"10\": 2, \"78\": 1, \"106\": 1, \"5\": 2, \"16\": 1, \"11\": 1}, \"3\": {\"3\": 83, \"19\": 1, \"1\": 5, \"28\": 1, \"79\": 1, \"7\": 9, \"129\": 1, \"107\": 4, \"71\": 1, \"108\": 1, \"27\": 1, \"87\": 2, \"14\": 9, \"73\": 2, \"32\": 1, \"52\": 1, \"105\": 1, \"5\": 2}, \"117\": {\"117\": 101, \"113\": 3, \"63\": 1, \"81\": 1, \"10\": 1, \"114\": 1, \"26\": 4, \"18\": 1, \"16\": 4, \"121\": 2, \"8\": 1}, \"30\": {\"30\": 48, \"10\": 5, \"47\": 3, \"78\": 1, \"15\": 6, \"90\": 1, \"36\": 1, \"27\": 1, \"24\": 1, \"54\": 1, \"9\": 1, \"58\": 2, \"18\": 1, \"94\": 1, \"6\": 2, \"114\": 1}, \"96\": {\"96\": 12, \"19\": 1, \"44\": 2, \"2\": 1, \"13\": 2, \"74\": 1, \"62\": 1}, \"27\": {\"27\": 54, \"92\": 1, \"103\": 1, \"106\": 6, \"88\": 1, \"8\": 9, \"125\": 2, \"111\": 2, \"24\": 4, \"0\": 6, \"113\": 1, \"21\": 1, \"94\": 2, \"34\": 1, \"15\": 2, \"30\": 3, \"110\": 1, \"97\": 1, \"70\": 1, \"18\": 1}, \"122\": {\"122\": 42, \"72\": 2, \"74\": 2, \"119\": 1, \"26\": 1, \"43\": 5, \"40\": 3, \"33\": 5, \"118\": 2, \"39\": 1, \"93\": 2, \"11\": 4, \"90\": 1, \"64\": 2, \"45\": 1, \"17\": 1, \"99\": 3, \"44\": 1, \"79\": 1, \"116\": 1, \"62\": 1, \"16\": 1, \"84\": 1}, \"120\": {\"71\": 3, \"120\": 14, \"21\": 1, \"7\": 2}, \"44\": {\"96\": 1, \"44\": 46, \"92\": 2, \"102\": 7, \"90\": 2, \"117\": 2, \"39\": 1, \"16\": 1, \"118\": 1, \"84\": 1}, \"79\": {\"5\": 1, \"79\": 9, \"73\": 1, \"20\": 1, \"60\": 1, \"19\": 1, \"122\": 1, \"72\": 1}, \"105\": {\"105\": 79, \"40\": 2, \"76\": 1, \"30\": 1, \"107\": 2, \"78\": 2, \"88\": 1, \"14\": 2, \"87\": 2, \"115\": 2, \"89\": 1, \"64\": 2, \"72\": 1, \"81\": 1, \"24\": 1}, \"95\": {\"95\": 23, \"127\": 1, \"85\": 1, \"86\": 1, \"34\": 1, \"114\": 3, \"21\": 1, \"27\": 1}, \"109\": {\"109\": 45, \"96\": 2, \"74\": 1, \"72\": 1, \"62\": 2, \"116\": 4, \"44\": 9, \"99\": 1, \"108\": 1, \"102\": 10, \"90\": 2, \"5\": 2, \"40\": 1, \"122\": 4, \"93\": 2, \"33\": 5, \"84\": 1, \"87\": 1, \"129\": 1, \"126\": 1, \"118\": 6, \"92\": 1, \"110\": 3, \"43\": 3, \"78\": 1, \"69\": 2, \"107\": 2, \"11\": 2}, \"16\": {\"16\": 94, \"67\": 1, \"88\": 1, \"84\": 5, \"113\": 2, \"114\": 1, \"126\": 2, \"90\": 1, \"117\": 2, \"44\": 1, \"121\": 2, \"26\": 4, \"69\": 2}, \"36\": {\"36\": 82, \"113\": 1, \"6\": 2, \"27\": 3, \"24\": 6, \"10\": 2, \"108\": 1, \"39\": 1}, \"125\": {\"125\": 125, \"106\": 2, \"117\": 1, \"101\": 4, \"1\": 2, \"127\": 2}, \"97\": {\"36\": 2, \"112\": 1, \"97\": 10, \"10\": 2, \"25\": 1, \"18\": 1, \"24\": 1, \"1\": 1, \"11\": 1}, \"91\": {\"111\": 1, \"91\": 11, \"15\": 1, \"0\": 1, \"101\": 1, \"127\": 1, \"34\": 1, \"12\": 1, \"41\": 1, \"42\": 1, \"52\": 1, \"103\": 2, \"30\": 1}, \"28\": {\"3\": 3, \"28\": 15, \"14\": 2}, \"81\": {\"123\": 2, \"81\": 25, \"113\": 2, \"26\": 4, \"63\": 1, \"117\": 2}, \"126\": {\"123\": 2, \"126\": 59, \"2\": 2, \"117\": 16, \"39\": 6, \"78\": 1, \"84\": 1, \"113\": 13, \"26\": 9, \"30\": 1, \"18\": 4, \"109\": 2, \"127\": 1, \"16\": 1, \"65\": 1, \"44\": 1, \"61\": 1, \"24\": 1}, \"4\": {\"4\": 90, \"27\": 1, \"124\": 4, \"39\": 1, \"10\": 1, \"18\": 1, \"71\": 2, \"110\": 1, \"69\": 1, \"1\": 2}, \"10\": {\"30\": 11, \"10\": 65, \"36\": 7, \"15\": 12, \"6\": 1, \"126\": 1, \"8\": 2, \"94\": 5, \"27\": 3, \"88\": 2, \"24\": 10, \"70\": 1, \"0\": 1, \"52\": 1, \"97\": 1, \"39\": 1}, \"63\": {\"63\": 13, \"35\": 2, \"121\": 1}, \"43\": {\"122\": 6, \"116\": 1, \"74\": 2, \"22\": 1, \"20\": 1, \"76\": 1, \"62\": 1, \"72\": 1, \"43\": 37, \"118\": 3, \"110\": 6, \"33\": 14, \"40\": 8, \"5\": 4, \"109\": 8, \"44\": 1, \"93\": 3, \"117\": 1, \"87\": 4, \"11\": 5, \"107\": 2, \"90\": 1, \"99\": 2, \"14\": 1, \"105\": 1, \"64\": 1, \"102\": 2}, \"116\": {\"122\": 1, \"116\": 23, \"102\": 2, \"99\": 2}, \"1\": {\"1\": 74, \"49\": 1, \"23\": 2, \"99\": 1, \"10\": 1, \"101\": 1, \"14\": 1, \"107\": 4, \"71\": 2, \"3\": 4, \"93\": 1, \"120\": 2, \"87\": 2, \"129\": 1, \"7\": 5, \"98\": 1, \"108\": 1, \"70\": 1, \"114\": 2, \"36\": 1}, \"94\": {\"54\": 2, \"10\": 3, \"78\": 1, \"94\": 59, \"44\": 1, \"15\": 4, \"18\": 1, \"30\": 4, \"106\": 2, \"126\": 1, \"24\": 7, \"36\": 2, \"27\": 1}, \"38\": {\"84\": 2, \"38\": 9, \"62\": 2, \"121\": 2, \"44\": 1}, \"54\": {\"54\": 16}, \"74\": {\"74\": 12, \"87\": 2, \"7\": 1, \"44\": 1}, \"25\": {\"25\": 16}, \"75\": {\"75\": 15, \"125\": 1}, \"119\": {\"119\": 12, \"28\": 2, \"60\": 1, \"123\": 1}, \"46\": {\"46\": 13, \"128\": 2, \"114\": 2, \"7\": 1, \"129\": 1, \"44\": 1}, \"23\": {\"23\": 2, \"54\": 1, \"39\": 2, \"42\": 1, \"113\": 1, \"102\": 1, \"86\": 2, \"121\": 1, \"77\": 1, \"10\": 1, \"18\": 1, \"75\": 1, \"98\": 1}, \"99\": {\"33\": 1, \"99\": 31, \"40\": 3, \"105\": 1, \"66\": 1, \"64\": 2, \"45\": 1}, \"33\": {\"33\": 106, \"118\": 2, \"40\": 2, \"102\": 1, \"22\": 1, \"31\": 1, \"45\": 1, \"2\": 1, \"24\": 1, \"107\": 2}, \"47\": {\"47\": 9, \"30\": 2, \"10\": 1}, \"115\": {\"87\": 1, \"115\": 14, \"76\": 1}, \"6\": {\"125\": 2, \"6\": 6, \"25\": 1, \"71\": 1, \"58\": 2, \"75\": 2, \"15\": 2, \"10\": 1, \"29\": 2, \"0\": 1, \"42\": 2, \"106\": 1, \"27\": 1}, \"65\": {\"65\": 8, \"26\": 4}, \"66\": {\"66\": 7, \"92\": 1, \"84\": 2, \"90\": 2, \"62\": 2, \"38\": 2}, \"78\": {\"32\": 2, \"8\": 2, \"78\": 5, \"11\": 1, \"95\": 2, \"87\": 3, \"127\": 1, \"40\": 2, \"108\": 2, \"14\": 1, \"88\": 4, \"107\": 1, \"3\": 1, \"49\": 1, \"1\": 1, \"70\": 1, \"98\": 1, \"109\": 1, \"122\": 2, \"105\": 2}, \"98\": {\"98\": 100, \"34\": 3, \"114\": 2, \"127\": 2, \"0\": 3, \"124\": 3, \"52\": 1, \"70\": 1, \"1\": 1}, \"93\": {\"93\": 100, \"5\": 7, \"69\": 1, \"110\": 3, \"11\": 4, \"43\": 1}, \"48\": {\"48\": 13, \"44\": 2, \"50\": 1}, \"124\": {\"98\": 3, \"124\": 104, \"70\": 2, \"4\": 2, \"100\": 1, \"82\": 1, \"24\": 1}}, \"Wisig_2\": {\"115\": {\"115\": 12}, \"34\": {\"34\": 27, \"114\": 1, \"86\": 1, \"128\": 1, \"124\": 1, \"12\": 1}, \"97\": {\"125\": 1, \"97\": 13, \"127\": 1, \"100\": 1, \"30\": 1, \"94\": 1, \"6\": 2}, \"100\": {\"100\": 16}, \"129\": {\"129\": 23, \"49\": 1, \"122\": 1, \"124\": 1, \"32\": 3, \"53\": 1, \"98\": 1, \"3\": 1}, \"90\": {\"90\": 127, \"116\": 1, \"72\": 1, \"33\": 1, \"102\": 11, \"69\": 1}, \"125\": {\"125\": 123, \"107\": 2, \"75\": 1, \"12\": 2, \"30\": 1, \"2\": 1, \"101\": 2}, \"7\": {\"7\": 94, \"95\": 4, \"56\": 1, \"10\": 1, \"114\": 2, \"110\": 2, \"71\": 6, \"5\": 1, \"4\": 5, \"127\": 2, \"18\": 1, \"122\": 1, \"3\": 1, \"117\": 1, \"47\": 1, \"107\": 4, \"24\": 1}, \"92\": {\"33\": 1, \"90\": 1, \"92\": 21, \"38\": 1, \"82\": 2, \"89\": 1, \"31\": 1}, \"114\": {\"114\": 100, \"19\": 1, \"39\": 1, \"122\": 4, \"86\": 2, \"71\": 4, \"124\": 2, \"7\": 1, \"12\": 1}, \"80\": {\"80\": 15, \"2\": 1}, \"16\": {\"16\": 84, \"93\": 9, \"82\": 3, \"118\": 4, \"109\": 1, \"24\": 1, \"87\": 3, \"84\": 3, \"33\": 9, \"70\": 1, \"95\": 1, \"96\": 2, \"88\": 1}, \"69\": {\"69\": 102, \"113\": 1, \"18\": 2, \"39\": 2, \"117\": 1, \"84\": 1, \"26\": 2, \"21\": 1, \"88\": 1, \"90\": 3}, \"102\": {\"90\": 8, \"102\": 103, \"13\": 1, \"31\": 1, \"89\": 1}, \"33\": {\"33\": 113, \"118\": 2, \"90\": 1, \"62\": 9, \"84\": 5}, \"17\": {\"34\": 1, \"114\": 1, \"17\": 11, \"86\": 1, \"26\": 1, \"41\": 1}, \"27\": {\"27\": 46, \"25\": 1, \"36\": 10, \"24\": 3, \"94\": 3, \"9\": 2, \"15\": 2, \"87\": 1}, \"117\": {\"117\": 82, \"121\": 1, \"12\": 1, \"18\": 13, \"65\": 1, \"26\": 5, \"120\": 1, \"102\": 2}, \"14\": {\"14\": 37, \"107\": 3, \"78\": 2, \"37\": 1, \"40\": 1, \"82\": 1, \"58\": 1, \"128\": 1, \"21\": 1}, \"86\": {\"86\": 31, \"114\": 1}, \"0\": {\"0\": 86, \"106\": 8, \"21\": 1, \"52\": 1, \"6\": 1, \"101\": 3, \"30\": 3, \"70\": 1, \"24\": 2, \"98\": 1, \"97\": 2, \"111\": 4, \"94\": 2, \"108\": 1}, \"62\": {\"80\": 2, \"92\": 1, \"62\": 98, \"67\": 1, \"82\": 2, \"33\": 13, \"102\": 1, \"18\": 1, \"43\": 5, \"84\": 8, \"90\": 1, \"40\": 2, \"0\": 1, \"24\": 1, \"105\": 1}, \"39\": {\"39\": 45, \"81\": 1, \"78\": 2, \"110\": 1, \"26\": 12, \"117\": 2, \"69\": 7, \"11\": 1, \"18\": 7, \"94\": 2, \"89\": 1, \"87\": 1, \"113\": 1, \"16\": 2, \"7\": 2, \"109\": 7, \"88\": 3, \"93\": 1, \"70\": 2, \"121\": 2, \"31\": 1, \"90\": 3, \"102\": 3, \"2\": 2, \"3\": 1}, \"19\": {\"14\": 2, \"22\": 1, \"73\": 1, \"19\": 12, \"1\": 2, \"35\": 1, \"110\": 1, \"37\": 1, \"44\": 1, \"122\": 1, \"85\": 1, \"5\": 1, \"83\": 1, \"10\": 1, \"7\": 1}, \"44\": {\"44\": 99, \"43\": 1}, \"104\": {\"86\": 4, \"17\": 3, \"104\": 10, \"10\": 2, \"14\": 1}, \"3\": {\"19\": 3, \"14\": 1, \"3\": 99, \"73\": 2, \"107\": 3, \"114\": 1, \"109\": 1, \"5\": 6, \"87\": 1, \"24\": 1, \"122\": 6, \"26\": 1, \"21\": 1, \"85\": 1, \"36\": 1, \"1\": 2}, \"10\": {\"14\": 2, \"10\": 19, \"53\": 1, \"66\": 1, \"74\": 1, \"5\": 3, \"100\": 1, \"32\": 2, \"112\": 1, \"47\": 1, \"95\": 2, \"107\": 6, \"71\": 2, \"108\": 2, \"126\": 4, \"19\": 1, \"42\": 1, \"21\": 2, \"7\": 3, \"4\": 1, \"8\": 1, \"18\": 1, \"124\": 1, \"3\": 1}, \"61\": {\"23\": 2, \"61\": 10, \"51\": 1, \"30\": 1, \"64\": 2, \"50\": 2, \"58\": 2}, \"111\": {\"103\": 2, \"111\": 108, \"127\": 4}, \"68\": {\"98\": 2, \"68\": 10, \"86\": 2, \"54\": 2}, \"101\": {\"101\": 123, \"15\": 10, \"21\": 1, \"94\": 4, \"106\": 5, \"71\": 1}, \"36\": {\"36\": 106, \"121\": 1, \"27\": 5, \"18\": 2, \"30\": 1, \"24\": 3, \"117\": 2, \"16\": 1, \"9\": 1, \"101\": 4, \"4\": 1, \"109\": 1}, \"120\": {\"120\": 15, \"65\": 3, \"117\": 2}, \"103\": {\"103\": 14, \"54\": 2}, \"47\": {\"47\": 10, \"129\": 2}, \"98\": {\"98\": 94, \"35\": 2, \"91\": 1, \"124\": 1, \"29\": 5, \"8\": 2, \"11\": 3, \"71\": 1, \"72\": 1, \"129\": 1, \"12\": 7, \"127\": 1, \"122\": 1}, \"76\": {\"76\": 15, \"64\": 1}, \"88\": {\"61\": 1, \"93\": 16, \"88\": 40, \"16\": 7, \"23\": 4, \"14\": 1, \"78\": 1, \"18\": 1, \"22\": 1, \"1\": 3, \"94\": 1, \"11\": 1, \"83\": 5, \"109\": 10, \"118\": 3, \"126\": 4, \"40\": 1, \"44\": 3, \"43\": 6, \"70\": 7, \"87\": 2, \"119\": 1, \"103\": 1, \"90\": 1, \"62\": 2, \"3\": 1}, \"93\": {\"93\": 107, \"118\": 2, \"96\": 3, \"16\": 14, \"109\": 3, \"83\": 1, \"14\": 1, \"24\": 1, \"33\": 1, \"78\": 1, \"84\": 2, \"62\": 2}, \"23\": {\"120\": 1, \"86\": 1, \"11\": 2, \"19\": 1, \"99\": 4, \"71\": 4, \"72\": 1, \"29\": 2, \"18\": 2, \"124\": 1, \"69\": 1, \"126\": 1, \"117\": 3, \"5\": 5, \"114\": 4, \"84\": 1, \"116\": 2, \"34\": 2, \"121\": 1, \"4\": 1, \"129\": 1, \"113\": 1, \"23\": 2}, \"108\": {\"108\": 81, \"112\": 1, \"11\": 1, \"47\": 1, \"30\": 1, \"79\": 1, \"8\": 18, \"98\": 5, \"126\": 2, \"40\": 1, \"12\": 2, \"70\": 1, \"43\": 1, \"107\": 2, \"127\": 1, \"124\": 1, \"111\": 4}, \"51\": {\"77\": 2, \"79\": 2, \"100\": 1, \"51\": 7, \"8\": 2, \"58\": 2, \"6\": 1, \"83\": 1, \"127\": 1, \"21\": 1}, \"13\": {\"13\": 6, \"51\": 1, \"118\": 2, \"92\": 2, \"89\": 2, \"48\": 2, \"71\": 1}, \"77\": {\"77\": 15, \"97\": 1}, \"46\": {\"46\": 15, \"43\": 1}, \"96\": {\"96\": 17, \"87\": 1, \"16\": 1, \"93\": 1}, \"119\": {\"96\": 1, \"119\": 18, \"94\": 1}, \"121\": {\"13\": 2, \"121\": 22, \"117\": 3, \"81\": 1, \"65\": 3, \"26\": 1, \"120\": 2, \"102\": 1, \"18\": 1}, \"54\": {\"54\": 11, \"12\": 1, \"74\": 1, \"68\": 1, \"35\": 2, \"104\": 1, \"121\": 1, \"127\": 2}, \"82\": {\"82\": 27, \"33\": 2, \"84\": 1, \"60\": 2, \"65\": 1, \"116\": 1, \"119\": 2}, \"12\": {\"12\": 59, \"108\": 4, \"91\": 4, \"111\": 4, \"98\": 8, \"10\": 1, \"127\": 5, \"8\": 1, \"27\": 1, \"24\": 1}, \"74\": {\"74\": 13, \"32\": 2, \"22\": 1}, \"66\": {\"28\": 2, \"66\": 16, \"15\": 1, \"27\": 1}, \"28\": {\"28\": 13, \"5\": 1, \"73\": 2, \"3\": 2, \"32\": 2}, \"52\": {\"52\": 19, \"106\": 1}, \"41\": {\"41\": 16, \"15\": 1, \"4\": 2, \"125\": 1}, \"81\": {\"81\": 22, \"99\": 2}, \"48\": {\"13\": 1, \"48\": 17, \"23\": 1, \"31\": 1}, \"113\": {\"113\": 58, \"121\": 2, \"69\": 2, \"117\": 5, \"18\": 2, \"81\": 2, \"5\": 1}, \"53\": {\"53\": 16}, \"15\": {\"15\": 89, \"127\": 2, \"6\": 3, \"101\": 16, \"94\": 2, \"108\": 1, \"125\": 1, \"24\": 2, \"0\": 3, \"30\": 1}, \"30\": {\"30\": 62, \"8\": 2, \"25\": 1, \"52\": 1, \"0\": 13, \"97\": 1, \"79\": 1, \"24\": 4, \"10\": 1, \"125\": 5, \"6\": 1, \"101\": 1, \"126\": 1, \"16\": 1, \"58\": 2, \"110\": 1, \"106\": 6, \"118\": 1, \"111\": 2, \"108\": 1, \"69\": 1, \"15\": 2, \"26\": 1}, \"43\": {\"43\": 59, \"56\": 2, \"1\": 7, \"22\": 1, \"23\": 3, \"16\": 2, \"109\": 1, \"62\": 3, \"93\": 6, \"70\": 5, \"84\": 1, \"44\": 5, \"105\": 5, \"18\": 1, \"40\": 7, \"87\": 2, \"124\": 1, \"42\": 1, \"64\": 2, \"88\": 3, \"83\": 3, \"78\": 1, \"3\": 2, \"26\": 1}, \"29\": {\"29\": 26, \"91\": 2, \"98\": 3, \"4\": 1}, \"109\": {\"70\": 2, \"39\": 3, \"118\": 2, \"109\": 34, \"90\": 5, \"99\": 2, \"1\": 3, \"119\": 1, \"126\": 2, \"120\": 1, \"33\": 4, \"93\": 6, \"16\": 6, \"87\": 9, \"23\": 1, \"88\": 5, \"43\": 2, \"69\": 1, \"116\": 1, \"60\": 1, \"15\": 1, \"102\": 1, \"84\": 6, \"18\": 1}, \"60\": {\"43\": 1, \"60\": 6, \"46\": 2, \"129\": 1, \"1\": 1, \"2\": 1, \"3\": 5, \"128\": 1, \"116\": 1, \"70\": 1, \"16\": 1, \"82\": 1, \"5\": 2, \"83\": 1, \"44\": 1, \"73\": 2}, \"70\": {\"74\": 1, \"43\": 11, \"1\": 17, \"70\": 26, \"115\": 1, \"78\": 2, \"50\": 1, \"118\": 2, \"126\": 8, \"113\": 1, \"94\": 2, \"23\": 2, \"44\": 2, \"88\": 8, \"117\": 2, \"62\": 1, \"40\": 8, \"16\": 1, \"108\": 2, \"105\": 2, \"15\": 2, \"60\": 2, \"107\": 1, \"93\": 2, \"95\": 1, \"109\": 2, \"5\": 1, \"71\": 2, \"39\": 1, \"87\": 2, \"14\": 2, \"3\": 2, \"26\": 1, \"124\": 1}, \"127\": {\"127\": 103, \"59\": 2, \"12\": 5, \"35\": 2, \"98\": 4, \"111\": 4, \"125\": 2, \"16\": 1, \"54\": 1}, \"32\": {\"10\": 4, \"32\": 14, \"95\": 2, \"129\": 4, \"124\": 1, \"108\": 1, \"122\": 2, \"4\": 2, \"114\": 1, \"128\": 1, \"53\": 1, \"5\": 1, \"14\": 1, \"3\": 1}, \"73\": {\"73\": 16, \"5\": 1, \"129\": 1, \"19\": 1, \"88\": 1, \"71\": 2, \"3\": 6}, \"50\": {\"50\": 13, \"75\": 1, \"21\": 1, \"101\": 1}, \"1\": {\"1\": 107, \"105\": 1, \"117\": 1, \"83\": 2, \"43\": 3, \"70\": 2, \"23\": 1, \"40\": 3, \"44\": 1, \"87\": 1, \"109\": 1, \"126\": 1}, \"106\": {\"106\": 95, \"21\": 1, \"15\": 4, \"0\": 5, \"30\": 7, \"101\": 2, \"36\": 2, \"77\": 2, \"94\": 1, \"88\": 1}, \"123\": {\"123\": 16}, \"79\": {\"79\": 16}, \"4\": {\"4\": 73, \"105\": 1, \"23\": 1, \"7\": 4, \"94\": 1, \"66\": 1, \"126\": 1, \"108\": 1, \"41\": 1, \"107\": 2, \"3\": 2}, \"2\": {\"121\": 2, \"90\": 5, \"2\": 14, \"18\": 4, \"93\": 1, \"72\": 1, \"26\": 2, \"102\": 1, \"117\": 2}, \"8\": {\"8\": 81, \"88\": 2, \"127\": 1, \"108\": 17, \"126\": 2, \"98\": 8, \"117\": 1, \"5\": 1, \"29\": 1, \"70\": 1, \"111\": 4, \"12\": 3, \"0\": 1, \"11\": 2, \"84\": 1, \"3\": 1, \"1\": 1}, \"83\": {\"83\": 37, \"43\": 1, \"23\": 2}, \"105\": {\"74\": 1, \"1\": 3, \"105\": 96, \"40\": 26, \"22\": 2, \"115\": 1, \"21\": 1}, \"5\": {\"5\": 89, \"53\": 1, \"85\": 1, \"82\": 1, \"110\": 2, \"114\": 1, \"3\": 6, \"70\": 2, \"122\": 1, \"71\": 4, \"127\": 2, \"18\": 2}, \"99\": {\"99\": 26, \"81\": 1, \"121\": 2, \"2\": 2, \"26\": 1}, \"25\": {\"25\": 15, \"28\": 1}, \"59\": {\"59\": 6, \"17\": 1, \"21\": 2, \"124\": 1, \"34\": 1, \"98\": 2, \"12\": 1, \"93\": 1, \"29\": 1}, \"42\": {\"77\": 1, \"8\": 3, \"52\": 1, \"108\": 1, \"11\": 1, \"51\": 2, \"111\": 3, \"128\": 1, \"129\": 2, \"73\": 1, \"54\": 1, \"53\": 1, \"10\": 2, \"107\": 2, \"42\": 3, \"98\": 1, \"30\": 1, \"85\": 1}, \"55\": {\"118\": 2, \"22\": 1, \"55\": 11, \"84\": 1, \"33\": 1}, \"75\": {\"75\": 15, \"125\": 1}, \"118\": {\"118\": 27, \"67\": 2, \"90\": 5, \"55\": 1, \"82\": 3, \"89\": 4, \"48\": 1, \"84\": 6, \"62\": 2, \"93\": 2, \"119\": 2, \"92\": 1, \"116\": 2, \"99\": 1, \"109\": 1, \"16\": 4, \"43\": 2, \"33\": 1, \"87\": 1}, \"95\": {\"55\": 2, \"21\": 1, \"95\": 26, \"40\": 1, \"24\": 1, \"7\": 3, \"4\": 2}, \"122\": {\"42\": 1, \"68\": 1, \"32\": 4, \"129\": 2, \"122\": 51, \"128\": 1, \"110\": 4, \"113\": 1, \"24\": 1, \"5\": 6, \"12\": 1, \"10\": 4, \"30\": 1, \"11\": 3, \"114\": 11, \"124\": 6, \"8\": 2, \"125\": 1, \"98\": 3, \"1\": 1, \"3\": 3, \"108\": 3, \"112\": 1, \"107\": 1, \"49\": 1, \"53\": 1, \"44\": 1, \"23\": 1, \"85\": 1, \"127\": 1, \"7\": 1}, \"20\": {\"20\": 10, \"18\": 2, \"26\": 2, \"23\": 2}, \"110\": {\"110\": 22, \"53\": 2, \"123\": 1, \"26\": 1, \"85\": 1, \"35\": 1, \"6\": 1, \"21\": 1, \"86\": 1, \"5\": 2, \"39\": 1, \"17\": 2, \"99\": 1, \"28\": 1, \"7\": 2}, \"65\": {\"65\": 19, \"117\": 1}, \"37\": {\"66\": 1, \"37\": 14, \"104\": 1}, \"64\": {\"64\": 15, \"22\": 1}, \"63\": {\"63\": 19, \"18\": 1}, \"40\": {\"40\": 98, \"105\": 18, \"18\": 2, \"24\": 1, \"1\": 2, \"88\": 2, \"3\": 2, \"87\": 1, \"43\": 4, \"62\": 2, \"16\": 1, \"71\": 1, \"113\": 1, \"111\": 1, \"126\": 1, \"7\": 2, \"69\": 1}, \"21\": {\"21\": 39, \"121\": 1, \"109\": 2, \"82\": 1, \"88\": 1, \"11\": 3, \"18\": 1}, \"11\": {\"11\": 45, \"129\": 2, \"112\": 2, \"42\": 1, \"123\": 1, \"108\": 2, \"34\": 1, \"114\": 2, \"126\": 1, \"124\": 5, \"5\": 2, \"98\": 4, \"83\": 1, \"68\": 1, \"86\": 2, \"47\": 1, \"8\": 2, \"122\": 3, \"18\": 1, \"71\": 1}, \"67\": {\"67\": 16}, \"91\": {\"91\": 19, \"70\": 1, \"18\": 1, \"12\": 4, \"103\": 1, \"11\": 2}, \"87\": {\"87\": 26, \"67\": 1, \"93\": 14, \"60\": 1, \"82\": 1, \"109\": 7, \"92\": 2, \"62\": 3, \"89\": 5, \"2\": 1, \"43\": 3, \"102\": 12, \"118\": 1, \"39\": 3, \"90\": 11, \"84\": 4, \"88\": 4, \"16\": 4, \"69\": 1, \"70\": 2, \"33\": 2, \"24\": 1, \"11\": 1, \"117\": 1, \"23\": 1}, \"89\": {\"90\": 1, \"89\": 32, \"72\": 1, \"18\": 1, \"13\": 1}, \"9\": {\"9\": 32}, \"124\": {\"124\": 94, \"112\": 2, \"122\": 5, \"98\": 2, \"29\": 1, \"12\": 1, \"127\": 1, \"5\": 1, \"11\": 2, \"8\": 2, \"128\": 1, \"34\": 1, \"53\": 1}, \"56\": {\"56\": 8, \"32\": 1, \"6\": 1, \"125\": 1, \"114\": 1}, \"38\": {\"38\": 15, \"80\": 1}, \"94\": {\"94\": 20, \"9\": 2, \"101\": 11, \"0\": 2, \"106\": 4, \"88\": 1, \"15\": 10, \"30\": 4, \"27\": 1, \"98\": 1, \"111\": 1, \"87\": 1, \"117\": 1, \"7\": 1, \"109\": 1, \"24\": 1, \"18\": 1, \"8\": 1}, \"6\": {\"6\": 17, \"101\": 2, \"103\": 1, \"111\": 4, \"91\": 1, \"9\": 1, \"36\": 1, \"24\": 1, \"35\": 2, \"51\": 1, \"15\": 1}, \"58\": {\"58\": 12, \"0\": 2, \"42\": 1, \"106\": 1, \"30\": 2, \"6\": 2}, \"22\": {\"22\": 14, \"40\": 2, \"105\": 2, \"61\": 2}, \"24\": {\"24\": 67, \"108\": 1, \"118\": 1, \"101\": 8, \"36\": 5, \"42\": 1, \"94\": 3, \"18\": 2, \"27\": 3, \"106\": 2, \"70\": 1, \"0\": 3, \"15\": 5, \"25\": 1, \"114\": 1, \"30\": 2, \"117\": 1, \"7\": 1, \"107\": 1, \"9\": 1, \"109\": 1, \"3\": 1}, \"57\": {\"57\": 18, \"26\": 1, \"81\": 1}, \"112\": {\"112\": 9, \"53\": 1, \"24\": 1, \"129\": 1, \"34\": 1, \"122\": 2, \"19\": 1}, \"116\": {\"118\": 4, \"90\": 4, \"24\": 1, \"72\": 1, \"31\": 1, \"116\": 11, \"33\": 1, \"102\": 1, \"92\": 1, \"62\": 1, \"5\": 1, \"93\": 1}, \"18\": {\"18\": 84, \"121\": 5, \"99\": 2, \"117\": 13, \"1\": 1, \"89\": 2, \"102\": 2, \"26\": 7, \"94\": 1, \"70\": 3, \"16\": 1, \"113\": 2, \"90\": 2, \"0\": 1, \"69\": 2}, \"49\": {\"86\": 3, \"49\": 7, \"8\": 1, \"51\": 3, \"19\": 1, \"75\": 1, \"11\": 1, \"29\": 1, \"30\": 2, \"59\": 1, \"77\": 2, \"5\": 1}, \"45\": {\"45\": 12, \"23\": 2, \"37\": 2}, \"107\": {\"114\": 1, \"4\": 2, \"28\": 3, \"95\": 2, \"107\": 30, \"99\": 1, \"86\": 1, \"3\": 3, \"0\": 1, \"14\": 2, \"85\": 1, \"94\": 1, \"7\": 6, \"10\": 1, \"61\": 1, \"24\": 1, \"42\": 1, \"32\": 2, \"9\": 1, \"122\": 2, \"87\": 1}, \"35\": {\"111\": 2, \"35\": 8, \"6\": 1, \"98\": 1}, \"78\": {\"78\": 11, \"50\": 4, \"64\": 2, \"43\": 3, \"20\": 1, \"16\": 1, \"93\": 1, \"14\": 2, \"118\": 1, \"126\": 2, \"39\": 1, \"40\": 6, \"70\": 2, \"94\": 1, \"104\": 1, \"22\": 2, \"36\": 1, \"76\": 1, \"109\": 2, \"100\": 1, \"87\": 1, \"1\": 1}, \"126\": {\"126\": 94, \"3\": 2, \"19\": 2, \"44\": 7, \"23\": 1, \"7\": 1, \"40\": 5, \"71\": 1, \"70\": 2, \"123\": 2, \"78\": 1, \"88\": 2}, \"85\": {\"85\": 24, \"5\": 4, \"110\": 1, \"19\": 1, \"122\": 1, \"10\": 1}, \"72\": {\"72\": 22, \"116\": 1, \"26\": 1, \"102\": 1, \"21\": 1, \"82\": 2}, \"26\": {\"26\": 107, \"57\": 1, \"81\": 2, \"69\": 6, \"99\": 1, \"113\": 2, \"2\": 1, \"109\": 1, \"18\": 2, \"117\": 1}, \"84\": {\"84\": 68, \"125\": 1, \"33\": 11, \"90\": 6, \"87\": 1, \"113\": 1, \"102\": 2, \"62\": 2}, \"128\": {\"107\": 4, \"85\": 2, \"37\": 1, \"125\": 2, \"3\": 3, \"7\": 1, \"128\": 2, \"79\": 2, \"30\": 1, \"0\": 1, \"101\": 1, \"73\": 1, \"106\": 1, \"14\": 1, \"1\": 1}, \"31\": {\"31\": 15, \"92\": 1, \"116\": 1, \"48\": 3}, \"71\": {\"71\": 73, \"107\": 1, \"7\": 4, \"16\": 1, \"122\": 3, \"5\": 5, \"11\": 1, \"3\": 6, \"86\": 3, \"53\": 1, \"114\": 2}}, \"Wisig_1\": {\"22\": {\"22\": 14, \"122\": 1, \"93\": 1}, \"58\": {\"58\": 10, \"53\": 1, \"111\": 1}, \"109\": {\"20\": 1, \"42\": 1, \"109\": 88, \"96\": 1, \"93\": 2, \"25\": 2, \"76\": 2, \"21\": 2, \"19\": 1, \"87\": 2, \"1\": 3, \"3\": 1, \"122\": 1, \"126\": 5, \"114\": 1, \"12\": 1, \"124\": 2, \"99\": 1, \"14\": 2, \"11\": 2, \"8\": 1, \"107\": 1, \"70\": 1}, \"77\": {\"77\": 16}, \"74\": {\"74\": 16}, \"10\": {\"77\": 2, \"107\": 14, \"54\": 2, \"10\": 38, \"47\": 1, \"104\": 1, \"41\": 2, \"86\": 4, \"44\": 7, \"110\": 2, \"4\": 7, \"85\": 1, \"89\": 1, \"93\": 3, \"70\": 5, \"0\": 2, \"14\": 1, \"126\": 14, \"8\": 3, \"40\": 1, \"37\": 1, \"96\": 1, \"36\": 1, \"105\": 3, \"5\": 1, \"124\": 2}, \"70\": {\"109\": 5, \"10\": 8, \"8\": 9, \"84\": 3, \"70\": 47, \"93\": 7, \"2\": 1, \"128\": 2, \"5\": 4, \"44\": 9, \"126\": 7, \"124\": 10, \"29\": 1, \"26\": 1, \"113\": 1, \"110\": 1, \"35\": 1, \"73\": 2, \"86\": 1, \"89\": 1, \"108\": 4, \"127\": 1, \"107\": 2}, \"84\": {\"14\": 7, \"84\": 79, \"87\": 9, \"8\": 2, \"114\": 6, \"93\": 2, \"1\": 3}, \"52\": {\"52\": 17, \"27\": 2, \"59\": 1}, \"20\": {\"20\": 12, \"97\": 1, \"64\": 1, \"43\": 2}, \"14\": {\"84\": 12, \"14\": 72, \"87\": 1, \"1\": 4, \"113\": 1, \"8\": 4, \"114\": 2}, \"37\": {\"37\": 15, \"56\": 1}, \"42\": {\"14\": 2, \"99\": 2, \"60\": 1, \"54\": 1, \"84\": 1, \"83\": 2, \"11\": 2, \"42\": 4, \"73\": 1, \"34\": 1, \"82\": 2, \"100\": 1, \"25\": 1, \"38\": 2, \"124\": 1, \"86\": 3, \"109\": 1}, \"99\": {\"99\": 19, \"3\": 2, \"78\": 1, \"2\": 1, \"90\": 1}, \"35\": {\"35\": 12}, \"62\": {\"62\": 84, \"33\": 10, \"18\": 4, \"90\": 6, \"69\": 3, \"102\": 9, \"66\": 1, \"76\": 2, \"113\": 1}, \"61\": {\"61\": 11, \"90\": 1}, \"7\": {\"120\": 2, \"7\": 119, \"81\": 6, \"38\": 1, \"116\": 1, \"22\": 1, \"43\": 3, \"122\": 2, \"28\": 4, \"82\": 1, \"33\": 1, \"39\": 1}, \"69\": {\"69\": 94, \"18\": 3, \"95\": 1, \"117\": 2, \"39\": 1, \"36\": 1, \"26\": 2}, \"55\": {\"55\": 12}, \"41\": {\"41\": 15, \"40\": 1}, \"120\": {\"120\": 15, \"80\": 4, \"57\": 1}, \"123\": {\"123\": 15, \"121\": 1}, \"97\": {\"97\": 11, \"75\": 1, \"18\": 1, \"49\": 2, \"59\": 1, \"119\": 1, \"24\": 2, \"126\": 1}, \"102\": {\"102\": 106, \"116\": 2, \"33\": 5, \"16\": 2, \"90\": 1, \"113\": 1, \"62\": 2, \"69\": 1}, \"60\": {\"20\": 1, \"55\": 2, \"64\": 1, \"18\": 1, \"73\": 2, \"117\": 2, \"66\": 2, \"21\": 2, \"119\": 1, \"19\": 1, \"30\": 1}, \"127\": {\"127\": 90, \"32\": 2, \"68\": 3, \"4\": 1, \"26\": 1, \"11\": 1, \"71\": 2, \"78\": 1, \"125\": 1, \"111\": 6}, \"32\": {\"127\": 1, \"32\": 14, \"91\": 3, \"98\": 1, \"51\": 2, \"29\": 2, \"111\": 1, \"112\": 2, \"71\": 1, \"89\": 1, \"58\": 2, \"6\": 2}, \"3\": {\"61\": 2, \"3\": 60, \"100\": 1, \"88\": 2, \"15\": 1, \"90\": 9, \"11\": 8, \"36\": 1, \"43\": 1, \"30\": 1, \"99\": 1, \"113\": 1}, \"8\": {\"21\": 1, \"126\": 1, \"8\": 74, \"104\": 1, \"5\": 6, \"124\": 13, \"83\": 3, \"84\": 1, \"14\": 6, \"10\": 5, \"114\": 1, \"86\": 1, \"44\": 2, \"93\": 6, \"4\": 1}, \"129\": {\"129\": 9, \"8\": 2, \"124\": 1, \"100\": 1, \"82\": 1, \"5\": 2, \"86\": 1, \"3\": 1, \"83\": 2, \"64\": 1, \"34\": 1, \"73\": 1, \"66\": 1, \"44\": 1, \"20\": 1, \"31\": 1, \"38\": 1}, \"119\": {\"119\": 16}, \"21\": {\"109\": 2, \"8\": 2, \"21\": 21, \"78\": 1, \"108\": 1, \"105\": 1, \"72\": 1, \"23\": 2, \"19\": 1, \"1\": 1, \"7\": 1, \"60\": 1, \"111\": 1, \"20\": 1, \"9\": 1, \"12\": 1, \"43\": 1}, \"53\": {\"53\": 20}, \"28\": {\"28\": 18, \"80\": 1, \"7\": 1}, \"117\": {\"117\": 109, \"118\": 9, \"16\": 12, \"18\": 6, \"26\": 4, \"63\": 1, \"95\": 1, \"69\": 1, \"39\": 1}, \"112\": {\"58\": 2, \"112\": 11, \"32\": 2, \"68\": 1}, \"126\": {\"126\": 97, \"10\": 3, \"73\": 1, \"93\": 1, \"21\": 1, \"44\": 5, \"70\": 16, \"109\": 1, \"113\": 1, \"124\": 5, \"8\": 2, \"39\": 1}, \"30\": {\"30\": 39, \"97\": 1, \"24\": 1, \"88\": 2, \"108\": 3, \"94\": 1, \"111\": 1, \"15\": 2, \"27\": 1, \"21\": 1}, \"105\": {\"105\": 65, \"41\": 3, \"26\": 2, \"18\": 1, \"40\": 7, \"114\": 2, \"87\": 2, \"43\": 2}, \"29\": {\"29\": 28}, \"57\": {\"57\": 12}, \"93\": {\"93\": 46, \"114\": 9, \"105\": 9, \"4\": 9, \"40\": 10, \"34\": 1, \"86\": 5, \"44\": 1, \"128\": 1, \"8\": 10, \"124\": 11, \"1\": 2, \"10\": 1, \"84\": 3, \"87\": 2, \"70\": 4, \"14\": 1, \"102\": 1, \"16\": 1, \"107\": 1, \"23\": 1, \"46\": 1, \"19\": 1, \"5\": 3, \"42\": 2, \"126\": 2, \"26\": 1, \"18\": 1}, \"17\": {\"0\": 1, \"97\": 1, \"17\": 12, \"85\": 2}, \"44\": {\"44\": 70, \"124\": 2, \"87\": 1, \"8\": 1, \"70\": 2}, \"63\": {\"63\": 14, \"117\": 2}, \"87\": {\"57\": 1, \"87\": 40, \"23\": 1, \"84\": 6, \"120\": 2, \"40\": 11, \"48\": 1, \"64\": 1, \"114\": 14, \"8\": 2, \"105\": 4, \"1\": 8, \"124\": 1, \"24\": 1, \"93\": 1, \"104\": 2, \"65\": 1, \"122\": 1, \"43\": 3, \"20\": 1, \"14\": 4, \"42\": 1, \"126\": 1}, \"0\": {\"0\": 53, \"98\": 11, \"91\": 2, \"72\": 3, \"110\": 7, \"122\": 1, \"106\": 3, \"124\": 2, \"89\": 1, \"29\": 1}, \"96\": {\"96\": 16, \"25\": 1, \"10\": 1, \"117\": 1, \"44\": 1}, \"98\": {\"98\": 94, \"106\": 6, \"110\": 4, \"0\": 2, \"91\": 2}, \"75\": {\"75\": 12, \"91\": 1, \"32\": 2, \"53\": 1}, \"78\": {\"57\": 1, \"109\": 1, \"87\": 1, \"120\": 3, \"40\": 2, \"43\": 1, \"78\": 2, \"99\": 1, \"80\": 1, \"110\": 1, \"81\": 2}, \"116\": {\"116\": 18, \"50\": 1, \"90\": 6, \"2\": 1, \"48\": 1, \"66\": 2, \"33\": 2, \"111\": 1}, \"114\": {\"87\": 4, \"114\": 111, \"40\": 2, \"115\": 1, \"26\": 1, \"84\": 2, \"122\": 1, \"14\": 3, \"121\": 1, \"1\": 2}, \"103\": {\"103\": 11, \"29\": 2, \"91\": 2, \"106\": 1}, \"50\": {\"50\": 13, \"90\": 3}, \"124\": {\"124\": 102, \"129\": 2, \"23\": 1, \"8\": 18, \"93\": 3, \"83\": 2}, \"5\": {\"5\": 71, \"54\": 3, \"44\": 1, \"0\": 1, \"124\": 6, \"8\": 2, \"93\": 1, \"107\": 1, \"27\": 1, \"15\": 1}, \"73\": {\"73\": 19, \"49\": 1}, \"81\": {\"81\": 24, \"115\": 1, \"120\": 2, \"43\": 1}, \"49\": {\"49\": 10, \"93\": 2, \"112\": 1, \"70\": 1, \"32\": 1, \"9\": 2, \"10\": 1, \"124\": 1, \"101\": 1}, \"16\": {\"16\": 72, \"117\": 9, \"123\": 1, \"118\": 10, \"26\": 7, \"63\": 2, \"95\": 4, \"18\": 3}, \"101\": {\"101\": 119, \"71\": 1, \"12\": 1, \"15\": 2, \"106\": 1}, \"125\": {\"125\": 116, \"51\": 1, \"32\": 1}, \"65\": {\"39\": 1, \"28\": 1, \"112\": 1, \"67\": 1, \"81\": 1, \"33\": 1, \"38\": 1, \"74\": 1, \"2\": 1, \"7\": 1, \"65\": 1, \"76\": 1}, \"66\": {\"66\": 12, \"61\": 1, \"90\": 2, \"62\": 1}, \"79\": {\"8\": 1, \"79\": 8, \"104\": 2, \"128\": 1}, \"39\": {\"39\": 57, \"117\": 13, \"16\": 4, \"21\": 1, \"24\": 1, \"69\": 2, \"18\": 16, \"11\": 2, \"3\": 2, \"129\": 1, \"109\": 2, \"102\": 1, \"26\": 2}, \"104\": {\"104\": 14, \"79\": 1, \"19\": 1}, \"91\": {\"91\": 15, \"53\": 2, \"0\": 2, \"110\": 1, \"103\": 2, \"72\": 1, \"106\": 2, \"128\": 2, \"111\": 1}, \"25\": {\"82\": 1, \"25\": 15}, \"64\": {\"64\": 13, \"1\": 1, \"129\": 2}, \"34\": {\"64\": 2, \"98\": 3, \"8\": 1, \"56\": 1, \"1\": 1, \"34\": 2, \"110\": 1, \"89\": 3, \"30\": 1, \"4\": 1, \"5\": 2, \"55\": 1, \"17\": 1, \"77\": 2, \"79\": 2, \"83\": 1, \"84\": 3, \"93\": 1, \"107\": 1, \"106\": 2}, \"82\": {\"82\": 36}, \"18\": {\"18\": 96, \"2\": 2, \"117\": 6, \"39\": 9, \"16\": 1, \"95\": 4, \"102\": 1, \"69\": 2, \"63\": 2, \"26\": 1}, \"43\": {\"25\": 1, \"43\": 60, \"115\": 2, \"23\": 1, \"38\": 1, \"78\": 1, \"127\": 1, \"122\": 14, \"120\": 1, \"129\": 1, \"40\": 6, \"87\": 4, \"7\": 11, \"11\": 1, \"69\": 1, \"109\": 1, \"113\": 1, \"105\": 1, \"114\": 2, \"1\": 6, \"14\": 1, \"70\": 1, \"80\": 1, \"45\": 2, \"81\": 2, \"20\": 1, \"74\": 1, \"16\": 1, \"84\": 1}, \"47\": {\"47\": 12}, \"108\": {\"97\": 2, \"108\": 80, \"1\": 1, \"127\": 2, \"88\": 2, \"129\": 1, \"5\": 3, \"101\": 13, \"15\": 3, \"122\": 1, \"70\": 1, \"12\": 1, \"24\": 3, \"72\": 3, \"106\": 2, \"71\": 4, \"94\": 1, \"113\": 1}, \"111\": {\"111\": 96, \"70\": 1, \"12\": 7, \"112\": 2, \"53\": 1, \"32\": 1}, \"23\": {\"50\": 1, \"68\": 1, \"23\": 2, \"82\": 2, \"129\": 1, \"90\": 2, \"3\": 2, \"98\": 3, \"47\": 1, \"60\": 1, \"110\": 2, \"2\": 2, \"107\": 1, \"72\": 1, \"74\": 2}, \"90\": {\"90\": 139, \"76\": 2, \"66\": 2, \"88\": 2, \"33\": 8, \"11\": 2, \"61\": 1, \"116\": 1, \"102\": 2, \"113\": 1}, \"4\": {\"4\": 93, \"85\": 2, \"93\": 3, \"105\": 1, \"16\": 1}, \"92\": {\"92\": 28}, \"2\": {\"2\": 14, \"50\": 1, \"117\": 2, \"90\": 1, \"82\": 2, \"16\": 1, \"43\": 2, \"18\": 3, \"11\": 2, \"102\": 1, \"15\": 1, \"33\": 2}, \"45\": {\"23\": 2, \"80\": 1, \"84\": 1, \"79\": 2, \"42\": 1, \"25\": 1, \"70\": 1, \"45\": 2, \"117\": 1}, \"68\": {\"68\": 14, \"75\": 1, \"127\": 1}, \"26\": {\"26\": 99, \"63\": 2, \"118\": 6, \"16\": 4, \"95\": 3, \"117\": 11, \"39\": 3}, \"38\": {\"38\": 11, \"57\": 1, \"7\": 1, \"128\": 1, \"43\": 2}, \"40\": {\"40\": 130, \"105\": 5, \"122\": 1, \"14\": 2, \"43\": 1, \"4\": 2, \"114\": 1}, \"80\": {\"80\": 14, \"28\": 1, \"69\": 1}, \"107\": {\"107\": 108, \"65\": 1, \"35\": 1, \"5\": 2, \"108\": 1, \"10\": 4, \"86\": 1, \"77\": 1, \"39\": 1, \"126\": 1, \"1\": 1}, \"94\": {\"94\": 78, \"27\": 3, \"15\": 2, \"6\": 1, \"30\": 2, \"88\": 4, \"36\": 2}, \"115\": {\"81\": 1, \"115\": 10, \"38\": 1}, \"46\": {\"41\": 1, \"32\": 1, \"105\": 2, \"52\": 2, \"70\": 1, \"46\": 1, \"72\": 2, \"115\": 1, \"94\": 1}, \"72\": {\"72\": 30, \"89\": 1, \"9\": 1}, \"19\": {\"49\": 1, \"19\": 11, \"31\": 2, \"126\": 1, \"5\": 2, \"124\": 1, \"122\": 1, \"14\": 2, \"1\": 3, \"96\": 2, \"104\": 1, \"43\": 1}, \"100\": {\"100\": 14, \"72\": 1, \"88\": 1}, \"76\": {\"76\": 10, \"67\": 2, \"33\": 2, \"66\": 1, \"88\": 1}, \"106\": {\"106\": 120, \"127\": 2, \"98\": 2, \"110\": 1, \"103\": 1, \"68\": 3, \"91\": 2, \"72\": 1}, \"88\": {\"94\": 7, \"88\": 81, \"24\": 8, \"30\": 2, \"15\": 4, \"36\": 13, \"27\": 10, \"70\": 1, \"21\": 1, \"126\": 2, \"71\": 1}, \"15\": {\"15\": 79, \"6\": 2, \"101\": 8, \"71\": 8, \"12\": 2, \"111\": 1, \"88\": 1, \"94\": 2, \"113\": 1}, \"54\": {\"54\": 13, \"15\": 1, \"35\": 1, \"97\": 1}, \"13\": {\"13\": 16}, \"51\": {\"51\": 13, \"106\": 1, \"125\": 2}, \"24\": {\"24\": 58, \"97\": 1, \"88\": 11, \"27\": 11, \"8\": 1, \"15\": 5, \"108\": 2, \"30\": 1, \"94\": 1, \"118\": 1}, \"48\": {\"38\": 2, \"48\": 10}, \"85\": {\"85\": 30, \"10\": 2}, \"33\": {\"33\": 125, \"102\": 1, \"90\": 9, \"62\": 3, \"69\": 1, \"76\": 1}, \"71\": {\"71\": 84, \"121\": 1, \"127\": 2, \"110\": 2, \"111\": 3, \"125\": 7, \"16\": 2, \"12\": 5, \"123\": 1, \"101\": 1}, \"6\": {\"6\": 12, \"71\": 1, \"106\": 4, \"68\": 3, \"15\": 2, \"9\": 1, \"111\": 1, \"12\": 1, \"125\": 1, \"51\": 1, \"36\": 2, \"75\": 1, \"91\": 1, \"94\": 1}, \"83\": {\"83\": 26, \"18\": 1, \"118\": 1}, \"121\": {\"123\": 4, \"121\": 26, \"117\": 2}, \"31\": {\"31\": 11, \"122\": 1, \"55\": 2, \"5\": 1, \"8\": 1}, \"67\": {\"76\": 1, \"67\": 12, \"33\": 3}, \"1\": {\"1\": 130, \"128\": 2, \"14\": 1, \"18\": 1, \"93\": 1, \"84\": 1}, \"27\": {\"27\": 56, \"88\": 11, \"24\": 7, \"107\": 1, \"94\": 7, \"30\": 5, \"15\": 4, \"36\": 1}, \"118\": {\"118\": 54, \"117\": 11, \"26\": 3, \"95\": 5, \"16\": 7, \"39\": 1, \"113\": 1, \"119\": 1, \"18\": 1}, \"56\": {\"56\": 11, \"37\": 1}, \"36\": {\"36\": 125, \"16\": 1, \"88\": 2}, \"11\": {\"11\": 76, \"100\": 1, \"90\": 15, \"3\": 8, \"82\": 1, \"16\": 1, \"18\": 2, \"33\": 4, \"102\": 4, \"126\": 1, \"120\": 2, \"70\": 1, \"81\": 2, \"93\": 2, \"118\": 1, \"7\": 3, \"109\": 1, \"26\": 1}, \"110\": {\"110\": 82, \"98\": 18, \"0\": 10, \"16\": 1, \"107\": 4, \"10\": 2, \"18\": 1, \"17\": 2, \"29\": 1, \"108\": 1}, \"89\": {\"89\": 34, \"124\": 1, \"0\": 1}, \"113\": {\"113\": 108, \"108\": 1, \"117\": 2, \"106\": 1, \"16\": 1, \"26\": 1, \"125\": 1, \"18\": 1, \"107\": 1, \"126\": 1}, \"59\": {\"59\": 8, \"30\": 2, \"112\": 2}, \"9\": {\"9\": 26, \"26\": 1, \"49\": 2, \"0\": 2, \"128\": 1}, \"86\": {\"86\": 30, \"14\": 2, \"5\": 2, \"94\": 1, \"12\": 1}, \"12\": {\"12\": 77, \"111\": 7, \"127\": 1, \"71\": 6, \"125\": 3, \"113\": 1, \"101\": 1, \"108\": 1, \"106\": 3, \"112\": 1, \"6\": 1, \"24\": 1, \"39\": 1}, \"122\": {\"48\": 2, \"122\": 51, \"43\": 12, \"23\": 1, \"7\": 9, \"114\": 1, \"93\": 1, \"1\": 5, \"87\": 2, \"117\": 1, \"40\": 1, \"113\": 1, \"26\": 1}, \"128\": {\"128\": 4, \"98\": 1, \"110\": 2, \"99\": 2, \"106\": 3, \"111\": 1, \"9\": 1, \"82\": 1, \"45\": 2, \"120\": 2, \"43\": 1, \"72\": 2, \"53\": 2}, \"95\": {\"16\": 3, \"95\": 19, \"118\": 1, \"24\": 1, \"26\": 6, \"63\": 2, \"117\": 3, \"18\": 1}}}, \"per_domain_accuracy\": {\"ORACLE.run114\": {\"accuracy\": 0.6986979166666667, \"source?\": true}, \"ORACLE.run120\": {\"accuracy\": 0.4622395833333333, \"source?\": true}, \"ORACLE.run150\": {\"accuracy\": 0.7010416666666667, \"source?\": true}, \"ORACLE.run126\": {\"accuracy\": 0.43697916666666664, \"source?\": true}, \"ORACLE.run132\": {\"accuracy\": 0.6869791666666667, \"source?\": true}, \"ORACLE.run144\": {\"accuracy\": 0.6567708333333333, \"source?\": true}, \"ORACLE.run18\": {\"accuracy\": 0.56796875, \"source?\": true}, \"ORACLE.run138\": {\"accuracy\": 0.6609375, \"source?\": true}, \"Wisig_3\": {\"accuracy\": 0.7272106986899564, \"source?\": false}, \"Wisig_4\": {\"accuracy\": 0.6567665289256198, \"source?\": false}, \"Wisig_2\": {\"accuracy\": 0.6948839662447257, \"source?\": false}, \"Wisig_1\": {\"accuracy\": 0.7354254201680672, \"source?\": false}}}, \"history\": {\"epoch_indices\": [1, 2, 3, 4, 5, 6, 7, 8, 9, 10, 11, 12, 13, 14, 15], \"train_label_loss\": [1.7115117441862822, 1.0268065086166773, 0.8560664211976386, 0.7396416178394464, 0.6451689712958233, 0.5607006583346187, 0.4914280262016248, 0.42424405463597004, 0.3726538424832619, 0.3269629494332808, 0.2872688871458411, 0.2551747444559753, 0.23099398855255068, 0.20848315433277526, 0.19247927361727005], \"source_val_label_loss\": [1.225273847579956, 1.0645865201950073, 1.0463906526565552, 1.0657342672348022, 1.1004302501678467, 1.150222897529602, 1.2376275062561035, 1.3225438594818115, 1.3966213464736938, 1.4720021486282349, 1.5697963237762451, 1.657060146331787, 1.7401608228683472, 1.798094391822815, 1.8733915090560913], \"target_val_label_loss\": [6.576263427734375, 7.328158855438232, 7.835937023162842, 9.303167343139648, 10.180364608764648, 11.24940013885498, 12.819534301757812, 13.964159965515137, 15.04532241821289, 15.898416519165039, 17.15958595275879, 18.376842498779297, 19.420318603515625, 20.014970779418945, 21.553041458129883], \"source_val_acc_label\": [0.5333658854166666, 0.5932291666666667, 0.6043619791666667, 0.6105794270833333, 0.609375, 0.61572265625, 0.6131184895833334, 0.60654296875, 0.6028645833333334, 0.6042317708333333, 0.6089518229166667, 0.6047200520833333, 0.5959309895833333, 0.5990559895833333, 0.604296875], \"target_val_acc_label\": [0.6058734143763214, 0.6592560782241015, 0.6788451374207188, 0.6850554968287527, 0.6817190803382663, 0.6942389006342494, 0.6962209302325582, 0.6954281183932347, 0.6912328224101479, 0.6979056553911205, 0.7031580338266384, 0.6984341966173362, 0.6973440803382663, 0.700151955602537, 0.7000858879492601]}, \"dataset_metrics\": {\"source\": {\"train\": {\"n_unique_x\": 179200, \"n_unique_y\": 16, \"n_batch/episode\": 6720}, \"val\": {\"n_unique_x\": 38400, \"n_unique_y\": 16, \"n_batch/episode\": 960}, \"test\": {\"n_unique_x\": 38400, \"n_unique_y\": 16, \"n_batch/episode\": 960}}, \"target\": {\"train\": {\"n_unique_x\": 189051, \"n_unique_y\": 130, \"n_batch/episode\": 6861}, \"val\": {\"n_unique_x\": 40049, \"n_unique_y\": 130, \"n_batch/episode\": 946}, \"test\": {\"n_unique_x\": 40794, \"n_unique_y\": 130, \"n_batch/episode\": 966}}}}'"
      ]
     },
     "execution_count": 29,
     "metadata": {},
     "output_type": "execute_result"
    }
   ],
   "source": [
    "json.dumps(experiment)"
   ]
  }
 ],
 "metadata": {
  "celltoolbar": "Tags",
  "kernelspec": {
   "display_name": "Python 3 (ipykernel)",
   "language": "python",
   "name": "python3"
  },
  "language_info": {
   "codemirror_mode": {
    "name": "ipython",
    "version": 3
   },
   "file_extension": ".py",
   "mimetype": "text/x-python",
   "name": "python",
   "nbconvert_exporter": "python",
   "pygments_lexer": "ipython3",
   "version": "3.8.12"
  },
  "papermill": {
   "default_parameters": {},
   "duration": 2528.079008,
   "end_time": "2022-03-22T21:37:55.127606",
   "environment_variables": {},
   "exception": null,
   "input_path": "/root/csc500-main/csc500-notebooks/templates/tl_ptn_template.ipynb",
   "output_path": "trial.ipynb",
   "parameters": {
    "parameters": {
     "BEST_MODEL_PATH": "./best_model.pth",
     "NUM_LOGS_PER_EPOCH": 10,
     "criteria_for_best": "target_accuracy",
     "dataset_seed": 420,
     "datasets": [
      {
       "domain_prefix": "Wisig_",
       "domains": [
        1,
        2,
        3,
        4
       ],
       "episode_transforms": [],
       "labels": [
        "1-10",
        "1-12",
        "1-14",
        "1-16",
        "1-18",
        "1-19",
        "1-8",
        "10-11",
        "10-17",
        "10-4",
        "10-7",
        "11-1",
        "11-10",
        "11-19",
        "11-20",
        "11-4",
        "11-7",
        "12-19",
        "12-20",
        "12-7",
        "13-14",
        "13-18",
        "13-19",
        "13-20",
        "13-3",
        "13-7",
        "14-10",
        "14-11",
        "14-12",
        "14-13",
        "14-14",
        "14-19",
        "14-20",
        "14-7",
        "14-8",
        "14-9",
        "15-1",
        "15-19",
        "15-6",
        "16-1",
        "16-16",
        "16-19",
        "16-20",
        "17-10",
        "17-11",
        "18-1",
        "18-10",
        "18-11",
        "18-12",
        "18-13",
        "18-14",
        "18-15",
        "18-16",
        "18-17",
        "18-19",
        "18-2",
        "18-20",
        "18-4",
        "18-5",
        "18-7",
        "18-8",
        "18-9",
        "19-1",
        "19-10",
        "19-11",
        "19-12",
        "19-13",
        "19-14",
        "19-15",
        "19-19",
        "19-2",
        "19-20",
        "19-3",
        "19-4",
        "19-6",
        "19-7",
        "19-8",
        "19-9",
        "2-1",
        "2-13",
        "2-15",
        "2-3",
        "2-4",
        "2-5",
        "2-6",
        "2-7",
        "2-8",
        "20-1",
        "20-12",
        "20-14",
        "20-15",
        "20-16",
        "20-18",
        "20-19",
        "20-20",
        "20-3",
        "20-4",
        "20-5",
        "20-7",
        "20-8",
        "3-1",
        "3-13",
        "3-18",
        "3-2",
        "3-8",
        "4-1",
        "4-10",
        "4-11",
        "5-1",
        "5-5",
        "6-1",
        "6-15",
        "6-6",
        "7-10",
        "7-11",
        "7-12",
        "7-13",
        "7-14",
        "7-7",
        "7-8",
        "7-9",
        "8-1",
        "8-13",
        "8-14",
        "8-18",
        "8-20",
        "8-3",
        "8-8",
        "9-1",
        "9-7"
       ],
       "num_examples_per_domain_per_label": -1,
       "pickle_path": "/root/csc500-main/datasets/wisig.node3-19.stratified_ds.2022A.pkl",
       "source_or_target_dataset": "target",
       "x_transforms": [
        "unit_power"
       ]
      },
      {
       "domain_prefix": "ORACLE.run1",
       "domains": [
        32,
        38,
        8,
        44,
        14,
        50,
        20,
        26
       ],
       "episode_transforms": [],
       "labels": [
        "3123D52",
        "3123D65",
        "3123D79",
        "3123D80",
        "3123D54",
        "3123D70",
        "3123D7B",
        "3123D89",
        "3123D58",
        "3123D76",
        "3123D7D",
        "3123EFE",
        "3123D64",
        "3123D78",
        "3123D7E",
        "3124E4A"
       ],
       "num_examples_per_domain_per_label": 2000,
       "pickle_path": "/root/csc500-main/datasets/oracle.Run1_10kExamples_stratified_ds.2022A.pkl",
       "source_or_target_dataset": "source",
       "x_transforms": [
        "unit_power"
       ]
      }
     ],
     "device": "cuda",
     "experiment_name": "tl_1v2:wisig-oracle.run1.limited",
     "lr": 0.0001,
     "n_epoch": 50,
     "n_query": 2,
     "n_shot": 3,
     "n_way": 16,
     "patience": 3,
     "seed": 420,
     "test_k_factor": 2,
     "torch_default_dtype": "torch.float32",
     "train_k_factor": 3,
     "val_k_factor": 2,
     "x_net": [
      {
       "class": "nnReshape",
       "kargs": {
        "shape": [
         -1,
         1,
         2,
         256
        ]
       }
      },
      {
       "class": "Conv2d",
       "kargs": {
        "bias": false,
        "in_channels": 1,
        "kernel_size": [
         1,
         7
        ],
        "out_channels": 256,
        "padding": [
         0,
         3
        ]
       }
      },
      {
       "class": "ReLU",
       "kargs": {
        "inplace": true
       }
      },
      {
       "class": "BatchNorm2d",
       "kargs": {
        "num_features": 256
       }
      },
      {
       "class": "Conv2d",
       "kargs": {
        "bias": true,
        "in_channels": 256,
        "kernel_size": [
         2,
         7
        ],
        "out_channels": 80,
        "padding": [
         0,
         3
        ]
       }
      },
      {
       "class": "ReLU",
       "kargs": {
        "inplace": true
       }
      },
      {
       "class": "BatchNorm2d",
       "kargs": {
        "num_features": 80
       }
      },
      {
       "class": "Flatten",
       "kargs": {}
      },
      {
       "class": "Linear",
       "kargs": {
        "in_features": 20480,
        "out_features": 256
       }
      },
      {
       "class": "ReLU",
       "kargs": {
        "inplace": true
       }
      },
      {
       "class": "BatchNorm1d",
       "kargs": {
        "num_features": 256
       }
      },
      {
       "class": "Linear",
       "kargs": {
        "in_features": 256,
        "out_features": 256
       }
      }
     ]
    }
   },
   "start_time": "2022-03-22T20:55:47.048598",
   "version": "2.3.4"
  }
 },
 "nbformat": 4,
 "nbformat_minor": 5
}