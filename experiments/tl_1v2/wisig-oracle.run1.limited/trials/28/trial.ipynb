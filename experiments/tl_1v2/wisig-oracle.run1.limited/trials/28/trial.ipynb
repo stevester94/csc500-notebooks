{
 "cells": [
  {
   "cell_type": "markdown",
   "id": "9fea5f46",
   "metadata": {
    "papermill": {
     "duration": 0.029057,
     "end_time": "2022-03-23T07:42:56.747462",
     "exception": false,
     "start_time": "2022-03-23T07:42:56.718405",
     "status": "completed"
    },
    "tags": []
   },
   "source": [
    "# Transfer Learning Template"
   ]
  },
  {
   "cell_type": "code",
   "execution_count": 1,
   "id": "0902182a",
   "metadata": {
    "execution": {
     "iopub.execute_input": "2022-03-23T07:42:56.813468Z",
     "iopub.status.busy": "2022-03-23T07:42:56.812633Z",
     "iopub.status.idle": "2022-03-23T07:42:58.604868Z",
     "shell.execute_reply": "2022-03-23T07:42:58.604428Z"
    },
    "papermill": {
     "duration": 1.830888,
     "end_time": "2022-03-23T07:42:58.604971",
     "exception": false,
     "start_time": "2022-03-23T07:42:56.774083",
     "status": "completed"
    },
    "tags": []
   },
   "outputs": [],
   "source": [
    "%load_ext autoreload\n",
    "%autoreload 2\n",
    "%matplotlib inline\n",
    "\n",
    "    \n",
    "import os, json, sys, time, random\n",
    "import numpy as np\n",
    "import torch\n",
    "from torch.optim import Adam\n",
    "from  easydict import EasyDict\n",
    "import matplotlib.pyplot as plt\n",
    "\n",
    "from steves_models.steves_ptn import Steves_Prototypical_Network\n",
    "\n",
    "from steves_utils.lazy_iterable_wrapper import Lazy_Iterable_Wrapper\n",
    "from steves_utils.iterable_aggregator import Iterable_Aggregator\n",
    "from steves_utils.ptn_train_eval_test_jig import  PTN_Train_Eval_Test_Jig\n",
    "from steves_utils.torch_sequential_builder import build_sequential\n",
    "from steves_utils.torch_utils import get_dataset_metrics, ptn_confusion_by_domain_over_dataloader\n",
    "from steves_utils.utils_v2 import (per_domain_accuracy_from_confusion, get_datasets_base_path)\n",
    "from steves_utils.PTN.utils import independent_accuracy_assesment\n",
    "\n",
    "from torch.utils.data import DataLoader\n",
    "\n",
    "from steves_utils.stratified_dataset.episodic_accessor import Episodic_Accessor_Factory\n",
    "\n",
    "from steves_utils.ptn_do_report import (\n",
    "    get_loss_curve,\n",
    "    get_results_table,\n",
    "    get_parameters_table,\n",
    "    get_domain_accuracies,\n",
    ")\n",
    "\n",
    "from steves_utils.transforms import get_chained_transform"
   ]
  },
  {
   "cell_type": "markdown",
   "id": "41c840b4",
   "metadata": {
    "papermill": {
     "duration": 0.018925,
     "end_time": "2022-03-23T07:42:58.643672",
     "exception": false,
     "start_time": "2022-03-23T07:42:58.624747",
     "status": "completed"
    },
    "tags": []
   },
   "source": [
    "# Allowed Parameters\n",
    "These are allowed parameters, not defaults\n",
    "Each of these values need to be present in the injected parameters (the notebook will raise an exception if they are not present)\n",
    "\n",
    "Papermill uses the cell tag \"parameters\" to inject the real parameters below this cell.\n",
    "Enable tags to see what I mean"
   ]
  },
  {
   "cell_type": "code",
   "execution_count": 2,
   "id": "fd44eb83",
   "metadata": {
    "execution": {
     "iopub.execute_input": "2022-03-23T07:42:58.687113Z",
     "iopub.status.busy": "2022-03-23T07:42:58.686740Z",
     "iopub.status.idle": "2022-03-23T07:42:58.710373Z",
     "shell.execute_reply": "2022-03-23T07:42:58.709577Z"
    },
    "papermill": {
     "duration": 0.047981,
     "end_time": "2022-03-23T07:42:58.710525",
     "exception": false,
     "start_time": "2022-03-23T07:42:58.662544",
     "status": "completed"
    },
    "tags": []
   },
   "outputs": [],
   "source": [
    "required_parameters = {\n",
    "    \"experiment_name\",\n",
    "    \"lr\",\n",
    "    \"device\",\n",
    "    \"seed\",\n",
    "    \"dataset_seed\",\n",
    "    \"n_shot\",\n",
    "    \"n_query\",\n",
    "    \"n_way\",\n",
    "    \"train_k_factor\",\n",
    "    \"val_k_factor\",\n",
    "    \"test_k_factor\",\n",
    "    \"n_epoch\",\n",
    "    \"patience\",\n",
    "    \"criteria_for_best\",\n",
    "    \"x_net\",\n",
    "    \"datasets\",\n",
    "    \"torch_default_dtype\",\n",
    "    \"NUM_LOGS_PER_EPOCH\",\n",
    "    \"BEST_MODEL_PATH\",\n",
    "    \"x_shape\",\n",
    "}"
   ]
  },
  {
   "cell_type": "code",
   "execution_count": 3,
   "id": "fa3f0049",
   "metadata": {
    "execution": {
     "iopub.execute_input": "2022-03-23T07:42:58.772573Z",
     "iopub.status.busy": "2022-03-23T07:42:58.771667Z",
     "iopub.status.idle": "2022-03-23T07:42:58.791496Z",
     "shell.execute_reply": "2022-03-23T07:42:58.790801Z"
    },
    "papermill": {
     "duration": 0.054431,
     "end_time": "2022-03-23T07:42:58.791679",
     "exception": false,
     "start_time": "2022-03-23T07:42:58.737248",
     "status": "completed"
    },
    "tags": [
     "parameters"
    ]
   },
   "outputs": [],
   "source": [
    "from steves_utils.CORES.utils import (\n",
    "    ALL_NODES,\n",
    "    ALL_NODES_MINIMUM_1000_EXAMPLES,\n",
    "    ALL_DAYS\n",
    ")\n",
    "\n",
    "from steves_utils.ORACLE.utils_v2 import (\n",
    "    ALL_DISTANCES_FEET_NARROWED,\n",
    "    ALL_RUNS,\n",
    "    ALL_SERIAL_NUMBERS,\n",
    ")\n",
    "\n",
    "standalone_parameters = {}\n",
    "standalone_parameters[\"experiment_name\"] = \"STANDALONE PTN\"\n",
    "standalone_parameters[\"lr\"] = 0.001\n",
    "standalone_parameters[\"device\"] = \"cuda\"\n",
    "\n",
    "standalone_parameters[\"seed\"] = 1337\n",
    "standalone_parameters[\"dataset_seed\"] = 1337\n",
    "\n",
    "standalone_parameters[\"n_way\"] = 8\n",
    "standalone_parameters[\"n_shot\"] = 3\n",
    "standalone_parameters[\"n_query\"]  = 2\n",
    "standalone_parameters[\"train_k_factor\"] = 1\n",
    "standalone_parameters[\"val_k_factor\"] = 2\n",
    "standalone_parameters[\"test_k_factor\"] = 2\n",
    "\n",
    "\n",
    "standalone_parameters[\"n_epoch\"] = 50\n",
    "\n",
    "standalone_parameters[\"patience\"] = 10\n",
    "standalone_parameters[\"criteria_for_best\"] = \"source_loss\"\n",
    "\n",
    "standalone_parameters[\"datasets\"] = [\n",
    "    {\n",
    "        \"labels\": ALL_SERIAL_NUMBERS,\n",
    "        \"domains\": ALL_DISTANCES_FEET_NARROWED,\n",
    "        \"num_examples_per_domain_per_label\": 100,\n",
    "        \"pickle_path\": os.path.join(get_datasets_base_path(), \"oracle.Run1_framed_2000Examples_stratified_ds.2022A.pkl\"),\n",
    "        \"source_or_target_dataset\": \"source\",\n",
    "        \"x_transforms\": [\"unit_mag\", \"minus_two\"],\n",
    "        \"episode_transforms\": [],\n",
    "        \"domain_prefix\": \"ORACLE_\"\n",
    "    },\n",
    "    {\n",
    "        \"labels\": ALL_NODES,\n",
    "        \"domains\": ALL_DAYS,\n",
    "        \"num_examples_per_domain_per_label\": 100,\n",
    "        \"pickle_path\": os.path.join(get_datasets_base_path(), \"cores.stratified_ds.2022A.pkl\"),\n",
    "        \"source_or_target_dataset\": \"target\",\n",
    "        \"x_transforms\": [\"unit_power\", \"times_zero\"],\n",
    "        \"episode_transforms\": [],\n",
    "        \"domain_prefix\": \"CORES_\"\n",
    "    }   \n",
    "]\n",
    "\n",
    "standalone_parameters[\"torch_default_dtype\"] = \"torch.float32\" \n",
    "\n",
    "\n",
    "\n",
    "standalone_parameters[\"x_net\"] =     [\n",
    "    {\"class\": \"nnReshape\", \"kargs\": {\"shape\":[-1, 1, 2, 256]}},\n",
    "    {\"class\": \"Conv2d\", \"kargs\": { \"in_channels\":1, \"out_channels\":256, \"kernel_size\":(1,7), \"bias\":False, \"padding\":(0,3), },},\n",
    "    {\"class\": \"ReLU\", \"kargs\": {\"inplace\": True}},\n",
    "    {\"class\": \"BatchNorm2d\", \"kargs\": {\"num_features\":256}},\n",
    "\n",
    "    {\"class\": \"Conv2d\", \"kargs\": { \"in_channels\":256, \"out_channels\":80, \"kernel_size\":(2,7), \"bias\":True, \"padding\":(0,3), },},\n",
    "    {\"class\": \"ReLU\", \"kargs\": {\"inplace\": True}},\n",
    "    {\"class\": \"BatchNorm2d\", \"kargs\": {\"num_features\":80}},\n",
    "    {\"class\": \"Flatten\", \"kargs\": {}},\n",
    "\n",
    "    {\"class\": \"Linear\", \"kargs\": {\"in_features\": 80*256, \"out_features\": 256}}, # 80 units per IQ pair\n",
    "    {\"class\": \"ReLU\", \"kargs\": {\"inplace\": True}},\n",
    "    {\"class\": \"BatchNorm1d\", \"kargs\": {\"num_features\":256}},\n",
    "\n",
    "    {\"class\": \"Linear\", \"kargs\": {\"in_features\": 256, \"out_features\": 256}},\n",
    "]\n",
    "\n",
    "# Parameters relevant to results\n",
    "# These parameters will basically never need to change\n",
    "standalone_parameters[\"NUM_LOGS_PER_EPOCH\"] = 10\n",
    "standalone_parameters[\"BEST_MODEL_PATH\"] = \"./best_model.pth\"\n",
    "\n",
    "\n",
    "\n",
    "\n"
   ]
  },
  {
   "cell_type": "code",
   "execution_count": 4,
   "id": "e6a8b606",
   "metadata": {
    "execution": {
     "iopub.execute_input": "2022-03-23T07:42:58.854449Z",
     "iopub.status.busy": "2022-03-23T07:42:58.840542Z",
     "iopub.status.idle": "2022-03-23T07:42:58.873790Z",
     "shell.execute_reply": "2022-03-23T07:42:58.873128Z"
    },
    "papermill": {
     "duration": 0.056063,
     "end_time": "2022-03-23T07:42:58.873945",
     "exception": false,
     "start_time": "2022-03-23T07:42:58.817882",
     "status": "completed"
    },
    "tags": [
     "injected-parameters"
    ]
   },
   "outputs": [],
   "source": [
    "# Parameters\n",
    "parameters = {\n",
    "    \"experiment_name\": \"tl_1v2:wisig-oracle.run1.limited\",\n",
    "    \"device\": \"cuda\",\n",
    "    \"lr\": 0.0001,\n",
    "    \"n_shot\": 3,\n",
    "    \"n_query\": 2,\n",
    "    \"train_k_factor\": 3,\n",
    "    \"val_k_factor\": 2,\n",
    "    \"test_k_factor\": 2,\n",
    "    \"torch_default_dtype\": \"torch.float32\",\n",
    "    \"n_epoch\": 50,\n",
    "    \"patience\": 3,\n",
    "    \"criteria_for_best\": \"target_accuracy\",\n",
    "    \"x_net\": [\n",
    "        {\"class\": \"nnReshape\", \"kargs\": {\"shape\": [-1, 1, 2, 256]}},\n",
    "        {\n",
    "            \"class\": \"Conv2d\",\n",
    "            \"kargs\": {\n",
    "                \"in_channels\": 1,\n",
    "                \"out_channels\": 256,\n",
    "                \"kernel_size\": [1, 7],\n",
    "                \"bias\": False,\n",
    "                \"padding\": [0, 3],\n",
    "            },\n",
    "        },\n",
    "        {\"class\": \"ReLU\", \"kargs\": {\"inplace\": True}},\n",
    "        {\"class\": \"BatchNorm2d\", \"kargs\": {\"num_features\": 256}},\n",
    "        {\n",
    "            \"class\": \"Conv2d\",\n",
    "            \"kargs\": {\n",
    "                \"in_channels\": 256,\n",
    "                \"out_channels\": 80,\n",
    "                \"kernel_size\": [2, 7],\n",
    "                \"bias\": True,\n",
    "                \"padding\": [0, 3],\n",
    "            },\n",
    "        },\n",
    "        {\"class\": \"ReLU\", \"kargs\": {\"inplace\": True}},\n",
    "        {\"class\": \"BatchNorm2d\", \"kargs\": {\"num_features\": 80}},\n",
    "        {\"class\": \"Flatten\", \"kargs\": {}},\n",
    "        {\"class\": \"Linear\", \"kargs\": {\"in_features\": 20480, \"out_features\": 256}},\n",
    "        {\"class\": \"ReLU\", \"kargs\": {\"inplace\": True}},\n",
    "        {\"class\": \"BatchNorm1d\", \"kargs\": {\"num_features\": 256}},\n",
    "        {\"class\": \"Linear\", \"kargs\": {\"in_features\": 256, \"out_features\": 256}},\n",
    "    ],\n",
    "    \"NUM_LOGS_PER_EPOCH\": 10,\n",
    "    \"BEST_MODEL_PATH\": \"./best_model.pth\",\n",
    "    \"n_way\": 16,\n",
    "    \"datasets\": [\n",
    "        {\n",
    "            \"labels\": [\n",
    "                \"1-10\",\n",
    "                \"1-12\",\n",
    "                \"1-14\",\n",
    "                \"1-16\",\n",
    "                \"1-18\",\n",
    "                \"1-19\",\n",
    "                \"1-8\",\n",
    "                \"10-11\",\n",
    "                \"10-17\",\n",
    "                \"10-4\",\n",
    "                \"10-7\",\n",
    "                \"11-1\",\n",
    "                \"11-10\",\n",
    "                \"11-19\",\n",
    "                \"11-20\",\n",
    "                \"11-4\",\n",
    "                \"11-7\",\n",
    "                \"12-19\",\n",
    "                \"12-20\",\n",
    "                \"12-7\",\n",
    "                \"13-14\",\n",
    "                \"13-18\",\n",
    "                \"13-19\",\n",
    "                \"13-20\",\n",
    "                \"13-3\",\n",
    "                \"13-7\",\n",
    "                \"14-10\",\n",
    "                \"14-11\",\n",
    "                \"14-12\",\n",
    "                \"14-13\",\n",
    "                \"14-14\",\n",
    "                \"14-19\",\n",
    "                \"14-20\",\n",
    "                \"14-7\",\n",
    "                \"14-8\",\n",
    "                \"14-9\",\n",
    "                \"15-1\",\n",
    "                \"15-19\",\n",
    "                \"15-6\",\n",
    "                \"16-1\",\n",
    "                \"16-16\",\n",
    "                \"16-19\",\n",
    "                \"16-20\",\n",
    "                \"17-10\",\n",
    "                \"17-11\",\n",
    "                \"18-1\",\n",
    "                \"18-10\",\n",
    "                \"18-11\",\n",
    "                \"18-12\",\n",
    "                \"18-13\",\n",
    "                \"18-14\",\n",
    "                \"18-15\",\n",
    "                \"18-16\",\n",
    "                \"18-17\",\n",
    "                \"18-19\",\n",
    "                \"18-2\",\n",
    "                \"18-20\",\n",
    "                \"18-4\",\n",
    "                \"18-5\",\n",
    "                \"18-7\",\n",
    "                \"18-8\",\n",
    "                \"18-9\",\n",
    "                \"19-1\",\n",
    "                \"19-10\",\n",
    "                \"19-11\",\n",
    "                \"19-12\",\n",
    "                \"19-13\",\n",
    "                \"19-14\",\n",
    "                \"19-15\",\n",
    "                \"19-19\",\n",
    "                \"19-2\",\n",
    "                \"19-20\",\n",
    "                \"19-3\",\n",
    "                \"19-4\",\n",
    "                \"19-6\",\n",
    "                \"19-7\",\n",
    "                \"19-8\",\n",
    "                \"19-9\",\n",
    "                \"2-1\",\n",
    "                \"2-13\",\n",
    "                \"2-15\",\n",
    "                \"2-3\",\n",
    "                \"2-4\",\n",
    "                \"2-5\",\n",
    "                \"2-6\",\n",
    "                \"2-7\",\n",
    "                \"2-8\",\n",
    "                \"20-1\",\n",
    "                \"20-12\",\n",
    "                \"20-14\",\n",
    "                \"20-15\",\n",
    "                \"20-16\",\n",
    "                \"20-18\",\n",
    "                \"20-19\",\n",
    "                \"20-20\",\n",
    "                \"20-3\",\n",
    "                \"20-4\",\n",
    "                \"20-5\",\n",
    "                \"20-7\",\n",
    "                \"20-8\",\n",
    "                \"3-1\",\n",
    "                \"3-13\",\n",
    "                \"3-18\",\n",
    "                \"3-2\",\n",
    "                \"3-8\",\n",
    "                \"4-1\",\n",
    "                \"4-10\",\n",
    "                \"4-11\",\n",
    "                \"5-1\",\n",
    "                \"5-5\",\n",
    "                \"6-1\",\n",
    "                \"6-15\",\n",
    "                \"6-6\",\n",
    "                \"7-10\",\n",
    "                \"7-11\",\n",
    "                \"7-12\",\n",
    "                \"7-13\",\n",
    "                \"7-14\",\n",
    "                \"7-7\",\n",
    "                \"7-8\",\n",
    "                \"7-9\",\n",
    "                \"8-1\",\n",
    "                \"8-13\",\n",
    "                \"8-14\",\n",
    "                \"8-18\",\n",
    "                \"8-20\",\n",
    "                \"8-3\",\n",
    "                \"8-8\",\n",
    "                \"9-1\",\n",
    "                \"9-7\",\n",
    "            ],\n",
    "            \"domains\": [1, 2, 3, 4],\n",
    "            \"num_examples_per_domain_per_label\": -1,\n",
    "            \"pickle_path\": \"/root/csc500-main/datasets/wisig.node3-19.stratified_ds.2022A.pkl\",\n",
    "            \"source_or_target_dataset\": \"target\",\n",
    "            \"x_transforms\": [\"unit_mag\"],\n",
    "            \"episode_transforms\": [],\n",
    "            \"domain_prefix\": \"Wisig_\",\n",
    "        },\n",
    "        {\n",
    "            \"labels\": [\n",
    "                \"3123D52\",\n",
    "                \"3123D65\",\n",
    "                \"3123D79\",\n",
    "                \"3123D80\",\n",
    "                \"3123D54\",\n",
    "                \"3123D70\",\n",
    "                \"3123D7B\",\n",
    "                \"3123D89\",\n",
    "                \"3123D58\",\n",
    "                \"3123D76\",\n",
    "                \"3123D7D\",\n",
    "                \"3123EFE\",\n",
    "                \"3123D64\",\n",
    "                \"3123D78\",\n",
    "                \"3123D7E\",\n",
    "                \"3124E4A\",\n",
    "            ],\n",
    "            \"domains\": [32, 38, 8, 44, 14, 50, 20, 26],\n",
    "            \"num_examples_per_domain_per_label\": 2000,\n",
    "            \"pickle_path\": \"/root/csc500-main/datasets/oracle.Run1_10kExamples_stratified_ds.2022A.pkl\",\n",
    "            \"source_or_target_dataset\": \"source\",\n",
    "            \"x_transforms\": [\"unit_mag\"],\n",
    "            \"episode_transforms\": [],\n",
    "            \"domain_prefix\": \"ORACLE.run1\",\n",
    "        },\n",
    "    ],\n",
    "    \"dataset_seed\": 500,\n",
    "    \"seed\": 500,\n",
    "}\n"
   ]
  },
  {
   "cell_type": "code",
   "execution_count": 5,
   "id": "8fa1cc33",
   "metadata": {
    "execution": {
     "iopub.execute_input": "2022-03-23T07:42:58.929073Z",
     "iopub.status.busy": "2022-03-23T07:42:58.923726Z",
     "iopub.status.idle": "2022-03-23T07:42:58.944175Z",
     "shell.execute_reply": "2022-03-23T07:42:58.943439Z"
    },
    "papermill": {
     "duration": 0.045187,
     "end_time": "2022-03-23T07:42:58.944326",
     "exception": false,
     "start_time": "2022-03-23T07:42:58.899139",
     "status": "completed"
    },
    "tags": []
   },
   "outputs": [],
   "source": [
    "# Set this to True if you want to run this template directly\n",
    "STANDALONE = False\n",
    "if STANDALONE:\n",
    "    print(\"parameters not injected, running with standalone_parameters\")\n",
    "    parameters = standalone_parameters\n",
    "\n",
    "if not 'parameters' in locals() and not 'parameters' in globals():\n",
    "    raise Exception(\"Parameter injection failed\")\n",
    "\n",
    "#Use an easy dict for all the parameters\n",
    "p = EasyDict(parameters)\n",
    "\n",
    "if \"x_shape\" not in p:\n",
    "    p.x_shape = [2,256] # Default to this if we dont supply x_shape\n",
    "\n",
    "\n",
    "supplied_keys = set(p.keys())\n",
    "\n",
    "if  supplied_keys != required_parameters:\n",
    "    print(\"Parameters are incorrect\")\n",
    "    if len(supplied_keys - required_parameters)>0: print(\"Shouldn't have:\", str(supplied_keys - required_parameters))\n",
    "    if len(required_parameters - supplied_keys)>0: print(\"Need to have:\", str(required_parameters - supplied_keys))\n",
    "    raise RuntimeError(\"Parameters are incorrect\")"
   ]
  },
  {
   "cell_type": "code",
   "execution_count": 6,
   "id": "3a028d58",
   "metadata": {
    "execution": {
     "iopub.execute_input": "2022-03-23T07:42:58.993060Z",
     "iopub.status.busy": "2022-03-23T07:42:58.992696Z",
     "iopub.status.idle": "2022-03-23T07:42:59.010346Z",
     "shell.execute_reply": "2022-03-23T07:42:59.009647Z"
    },
    "papermill": {
     "duration": 0.040253,
     "end_time": "2022-03-23T07:42:59.010497",
     "exception": false,
     "start_time": "2022-03-23T07:42:58.970244",
     "status": "completed"
    },
    "tags": []
   },
   "outputs": [],
   "source": [
    "###################################\n",
    "# Set the RNGs and make it all deterministic\n",
    "###################################\n",
    "np.random.seed(p.seed)\n",
    "random.seed(p.seed)\n",
    "torch.manual_seed(p.seed)\n",
    "\n",
    "torch.use_deterministic_algorithms(True) "
   ]
  },
  {
   "cell_type": "code",
   "execution_count": 7,
   "id": "b691acf6",
   "metadata": {
    "execution": {
     "iopub.execute_input": "2022-03-23T07:42:59.058481Z",
     "iopub.status.busy": "2022-03-23T07:42:59.058117Z",
     "iopub.status.idle": "2022-03-23T07:42:59.088365Z",
     "shell.execute_reply": "2022-03-23T07:42:59.087662Z"
    },
    "papermill": {
     "duration": 0.052968,
     "end_time": "2022-03-23T07:42:59.088516",
     "exception": false,
     "start_time": "2022-03-23T07:42:59.035548",
     "status": "completed"
    },
    "tags": []
   },
   "outputs": [],
   "source": [
    "###########################################\n",
    "# The stratified datasets honor this\n",
    "###########################################\n",
    "torch.set_default_dtype(eval(p.torch_default_dtype))"
   ]
  },
  {
   "cell_type": "code",
   "execution_count": 8,
   "id": "b5fba671",
   "metadata": {
    "execution": {
     "iopub.execute_input": "2022-03-23T07:42:59.140817Z",
     "iopub.status.busy": "2022-03-23T07:42:59.140453Z",
     "iopub.status.idle": "2022-03-23T07:42:59.203806Z",
     "shell.execute_reply": "2022-03-23T07:42:59.202992Z"
    },
    "papermill": {
     "duration": 0.087453,
     "end_time": "2022-03-23T07:42:59.203957",
     "exception": false,
     "start_time": "2022-03-23T07:42:59.116504",
     "status": "completed"
    },
    "tags": []
   },
   "outputs": [],
   "source": [
    "###################################\n",
    "# Build the network(s)\n",
    "# Note: It's critical to do this AFTER setting the RNG\n",
    "###################################\n",
    "x_net = build_sequential(p.x_net)"
   ]
  },
  {
   "cell_type": "code",
   "execution_count": 9,
   "id": "5d7e61cc",
   "metadata": {
    "execution": {
     "iopub.execute_input": "2022-03-23T07:42:59.252314Z",
     "iopub.status.busy": "2022-03-23T07:42:59.251954Z",
     "iopub.status.idle": "2022-03-23T07:42:59.276419Z",
     "shell.execute_reply": "2022-03-23T07:42:59.275619Z"
    },
    "papermill": {
     "duration": 0.048103,
     "end_time": "2022-03-23T07:42:59.276570",
     "exception": false,
     "start_time": "2022-03-23T07:42:59.228467",
     "status": "completed"
    },
    "tags": []
   },
   "outputs": [],
   "source": [
    "start_time_secs = time.time()"
   ]
  },
  {
   "cell_type": "code",
   "execution_count": 10,
   "id": "c6b67dfd",
   "metadata": {
    "execution": {
     "iopub.execute_input": "2022-03-23T07:42:59.328552Z",
     "iopub.status.busy": "2022-03-23T07:42:59.327893Z",
     "iopub.status.idle": "2022-03-23T07:42:59.352629Z",
     "shell.execute_reply": "2022-03-23T07:42:59.351826Z"
    },
    "papermill": {
     "duration": 0.048102,
     "end_time": "2022-03-23T07:42:59.352781",
     "exception": false,
     "start_time": "2022-03-23T07:42:59.304679",
     "status": "completed"
    },
    "tags": []
   },
   "outputs": [],
   "source": [
    "p.domains_source = []\n",
    "p.domains_target = []\n",
    "\n",
    "\n",
    "train_original_source = []\n",
    "val_original_source   = []\n",
    "test_original_source  = []\n",
    "\n",
    "train_original_target = []\n",
    "val_original_target   = []\n",
    "test_original_target  = []"
   ]
  },
  {
   "cell_type": "code",
   "execution_count": 11,
   "id": "e3d9c3d3",
   "metadata": {
    "execution": {
     "iopub.execute_input": "2022-03-23T07:42:59.402244Z",
     "iopub.status.busy": "2022-03-23T07:42:59.401803Z",
     "iopub.status.idle": "2022-03-23T07:42:59.426236Z",
     "shell.execute_reply": "2022-03-23T07:42:59.425541Z"
    },
    "papermill": {
     "duration": 0.047266,
     "end_time": "2022-03-23T07:42:59.426388",
     "exception": false,
     "start_time": "2022-03-23T07:42:59.379122",
     "status": "completed"
    },
    "tags": []
   },
   "outputs": [],
   "source": [
    "# global_x_transform_func = lambda x: normalize(x.to(torch.get_default_dtype()), \"unit_power\") # unit_power, unit_mag\n",
    "# global_x_transform_func = lambda x: normalize(x, \"unit_power\") # unit_power, unit_mag"
   ]
  },
  {
   "cell_type": "code",
   "execution_count": 12,
   "id": "acb78fd2",
   "metadata": {
    "execution": {
     "iopub.execute_input": "2022-03-23T07:42:59.484360Z",
     "iopub.status.busy": "2022-03-23T07:42:59.483781Z",
     "iopub.status.idle": "2022-03-23T07:42:59.511299Z",
     "shell.execute_reply": "2022-03-23T07:42:59.510504Z"
    },
    "papermill": {
     "duration": 0.059778,
     "end_time": "2022-03-23T07:42:59.511450",
     "exception": false,
     "start_time": "2022-03-23T07:42:59.451672",
     "status": "completed"
    },
    "tags": []
   },
   "outputs": [],
   "source": [
    "def add_dataset(\n",
    "    labels,\n",
    "    domains,\n",
    "    pickle_path,\n",
    "    x_transforms,\n",
    "    episode_transforms,\n",
    "    domain_prefix,\n",
    "    num_examples_per_domain_per_label,\n",
    "    source_or_target_dataset:str,\n",
    "    iterator_seed=p.seed,\n",
    "    dataset_seed=p.dataset_seed,\n",
    "    n_shot=p.n_shot,\n",
    "    n_way=p.n_way,\n",
    "    n_query=p.n_query,\n",
    "    train_val_test_k_factors=(p.train_k_factor,p.val_k_factor,p.test_k_factor),\n",
    "):\n",
    "   \n",
    "    if x_transforms == []: x_transform = None\n",
    "    else: x_transform = get_chained_transform(x_transforms)\n",
    "    \n",
    "    if episode_transforms == []: episode_transform = None\n",
    "    else: raise Exception(\"episode_transforms not implemented\")\n",
    "    \n",
    "    episode_transform = lambda tup, _prefix=domain_prefix: (_prefix + str(tup[0]), tup[1])\n",
    "\n",
    "\n",
    "    eaf = Episodic_Accessor_Factory(\n",
    "        labels=labels,\n",
    "        domains=domains,\n",
    "        num_examples_per_domain_per_label=num_examples_per_domain_per_label,\n",
    "        iterator_seed=iterator_seed,\n",
    "        dataset_seed=dataset_seed,\n",
    "        n_shot=n_shot,\n",
    "        n_way=n_way,\n",
    "        n_query=n_query,\n",
    "        train_val_test_k_factors=train_val_test_k_factors,\n",
    "        pickle_path=pickle_path,\n",
    "        x_transform_func=x_transform,\n",
    "    )\n",
    "\n",
    "    train, val, test = eaf.get_train(), eaf.get_val(), eaf.get_test()\n",
    "    train = Lazy_Iterable_Wrapper(train, episode_transform)\n",
    "    val = Lazy_Iterable_Wrapper(val, episode_transform)\n",
    "    test = Lazy_Iterable_Wrapper(test, episode_transform)\n",
    "\n",
    "    if source_or_target_dataset==\"source\":\n",
    "        train_original_source.append(train)\n",
    "        val_original_source.append(val)\n",
    "        test_original_source.append(test)\n",
    "\n",
    "        p.domains_source.extend(\n",
    "            [domain_prefix + str(u) for u in domains]\n",
    "        )\n",
    "    elif source_or_target_dataset==\"target\":\n",
    "        train_original_target.append(train)\n",
    "        val_original_target.append(val)\n",
    "        test_original_target.append(test)\n",
    "        p.domains_target.extend(\n",
    "            [domain_prefix + str(u) for u in domains]\n",
    "        )\n",
    "    else:\n",
    "        raise Exception(f\"invalid source_or_target_dataset: {source_or_target_dataset}\")\n",
    "    "
   ]
  },
  {
   "cell_type": "code",
   "execution_count": 13,
   "id": "fe266617",
   "metadata": {
    "execution": {
     "iopub.execute_input": "2022-03-23T07:42:59.561723Z",
     "iopub.status.busy": "2022-03-23T07:42:59.561177Z",
     "iopub.status.idle": "2022-03-23T07:43:45.740890Z",
     "shell.execute_reply": "2022-03-23T07:43:45.740167Z"
    },
    "papermill": {
     "duration": 46.204529,
     "end_time": "2022-03-23T07:43:45.741072",
     "exception": false,
     "start_time": "2022-03-23T07:42:59.536543",
     "status": "completed"
    },
    "tags": []
   },
   "outputs": [],
   "source": [
    "for ds in p.datasets:\n",
    "    add_dataset(**ds)"
   ]
  },
  {
   "cell_type": "code",
   "execution_count": 14,
   "id": "b90d65ac",
   "metadata": {
    "execution": {
     "iopub.execute_input": "2022-03-23T07:43:45.791168Z",
     "iopub.status.busy": "2022-03-23T07:43:45.790651Z",
     "iopub.status.idle": "2022-03-23T07:43:45.814261Z",
     "shell.execute_reply": "2022-03-23T07:43:45.813440Z"
    },
    "papermill": {
     "duration": 0.047561,
     "end_time": "2022-03-23T07:43:45.814434",
     "exception": false,
     "start_time": "2022-03-23T07:43:45.766873",
     "status": "completed"
    },
    "tags": []
   },
   "outputs": [],
   "source": [
    "# from steves_utils.CORES.utils import (\n",
    "#     ALL_NODES,\n",
    "#     ALL_NODES_MINIMUM_1000_EXAMPLES,\n",
    "#     ALL_DAYS\n",
    "# )\n",
    "\n",
    "# add_dataset(\n",
    "#     labels=ALL_NODES,\n",
    "#     domains = ALL_DAYS,\n",
    "#     num_examples_per_domain_per_label=100,\n",
    "#     pickle_path=os.path.join(get_datasets_base_path(), \"cores.stratified_ds.2022A.pkl\"),\n",
    "#     source_or_target_dataset=\"target\",\n",
    "#     x_transform_func=global_x_transform_func,\n",
    "#     domain_modifier=lambda u: f\"cores_{u}\"\n",
    "# )"
   ]
  },
  {
   "cell_type": "code",
   "execution_count": 15,
   "id": "76db484d",
   "metadata": {
    "execution": {
     "iopub.execute_input": "2022-03-23T07:43:45.865885Z",
     "iopub.status.busy": "2022-03-23T07:43:45.865505Z",
     "iopub.status.idle": "2022-03-23T07:43:45.884261Z",
     "shell.execute_reply": "2022-03-23T07:43:45.883439Z"
    },
    "papermill": {
     "duration": 0.042876,
     "end_time": "2022-03-23T07:43:45.884432",
     "exception": false,
     "start_time": "2022-03-23T07:43:45.841556",
     "status": "completed"
    },
    "tags": []
   },
   "outputs": [],
   "source": [
    "# from steves_utils.ORACLE.utils_v2 import (\n",
    "#     ALL_DISTANCES_FEET,\n",
    "#     ALL_RUNS,\n",
    "#     ALL_SERIAL_NUMBERS,\n",
    "# )\n",
    "\n",
    "\n",
    "# add_dataset(\n",
    "#     labels=ALL_SERIAL_NUMBERS,\n",
    "#     domains = list(set(ALL_DISTANCES_FEET) - {2,62}),\n",
    "#     num_examples_per_domain_per_label=100,\n",
    "#     pickle_path=os.path.join(get_datasets_base_path(), \"oracle.Run2_framed_2000Examples_stratified_ds.2022A.pkl\"),\n",
    "#     source_or_target_dataset=\"source\",\n",
    "#     x_transform_func=global_x_transform_func,\n",
    "#     domain_modifier=lambda u: f\"oracle1_{u}\"\n",
    "# )\n"
   ]
  },
  {
   "cell_type": "code",
   "execution_count": 16,
   "id": "97dea9d2",
   "metadata": {
    "execution": {
     "iopub.execute_input": "2022-03-23T07:43:45.938170Z",
     "iopub.status.busy": "2022-03-23T07:43:45.937793Z",
     "iopub.status.idle": "2022-03-23T07:43:45.954864Z",
     "shell.execute_reply": "2022-03-23T07:43:45.954139Z"
    },
    "papermill": {
     "duration": 0.041887,
     "end_time": "2022-03-23T07:43:45.955035",
     "exception": false,
     "start_time": "2022-03-23T07:43:45.913148",
     "status": "completed"
    },
    "tags": []
   },
   "outputs": [],
   "source": [
    "# from steves_utils.ORACLE.utils_v2 import (\n",
    "#     ALL_DISTANCES_FEET,\n",
    "#     ALL_RUNS,\n",
    "#     ALL_SERIAL_NUMBERS,\n",
    "# )\n",
    "\n",
    "\n",
    "# add_dataset(\n",
    "#     labels=ALL_SERIAL_NUMBERS,\n",
    "#     domains = list(set(ALL_DISTANCES_FEET) - {2,62,56}),\n",
    "#     num_examples_per_domain_per_label=100,\n",
    "#     pickle_path=os.path.join(get_datasets_base_path(), \"oracle.Run2_framed_2000Examples_stratified_ds.2022A.pkl\"),\n",
    "#     source_or_target_dataset=\"source\",\n",
    "#     x_transform_func=global_x_transform_func,\n",
    "#     domain_modifier=lambda u: f\"oracle2_{u}\"\n",
    "# )"
   ]
  },
  {
   "cell_type": "code",
   "execution_count": 17,
   "id": "6f289866",
   "metadata": {
    "execution": {
     "iopub.execute_input": "2022-03-23T07:43:46.006659Z",
     "iopub.status.busy": "2022-03-23T07:43:46.006288Z",
     "iopub.status.idle": "2022-03-23T07:43:46.023391Z",
     "shell.execute_reply": "2022-03-23T07:43:46.022586Z"
    },
    "papermill": {
     "duration": 0.041484,
     "end_time": "2022-03-23T07:43:46.023573",
     "exception": false,
     "start_time": "2022-03-23T07:43:45.982089",
     "status": "completed"
    },
    "tags": []
   },
   "outputs": [],
   "source": [
    "# add_dataset(\n",
    "#     labels=list(range(19)),\n",
    "#     domains = [0,1,2],\n",
    "#     num_examples_per_domain_per_label=100,\n",
    "#     pickle_path=os.path.join(get_datasets_base_path(), \"metehan.stratified_ds.2022A.pkl\"),\n",
    "#     source_or_target_dataset=\"target\",\n",
    "#     x_transform_func=global_x_transform_func,\n",
    "#     domain_modifier=lambda u: f\"met_{u}\"\n",
    "# )"
   ]
  },
  {
   "cell_type": "code",
   "execution_count": 18,
   "id": "86a863c3",
   "metadata": {
    "execution": {
     "iopub.execute_input": "2022-03-23T07:43:46.080381Z",
     "iopub.status.busy": "2022-03-23T07:43:46.080005Z",
     "iopub.status.idle": "2022-03-23T07:43:46.096179Z",
     "shell.execute_reply": "2022-03-23T07:43:46.095528Z"
    },
    "papermill": {
     "duration": 0.040583,
     "end_time": "2022-03-23T07:43:46.096349",
     "exception": false,
     "start_time": "2022-03-23T07:43:46.055766",
     "status": "completed"
    },
    "tags": []
   },
   "outputs": [],
   "source": [
    "# # from steves_utils.wisig.utils import (\n",
    "# #     ALL_NODES_MINIMUM_100_EXAMPLES,\n",
    "# #     ALL_NODES_MINIMUM_500_EXAMPLES,\n",
    "# #     ALL_NODES_MINIMUM_1000_EXAMPLES,\n",
    "# #     ALL_DAYS\n",
    "# # )\n",
    "\n",
    "# import steves_utils.wisig.utils as wisig\n",
    "\n",
    "\n",
    "# add_dataset(\n",
    "#     labels=wisig.ALL_NODES_MINIMUM_100_EXAMPLES,\n",
    "#     domains = wisig.ALL_DAYS,\n",
    "#     num_examples_per_domain_per_label=100,\n",
    "#     pickle_path=os.path.join(get_datasets_base_path(), \"wisig.node3-19.stratified_ds.2022A.pkl\"),\n",
    "#     source_or_target_dataset=\"target\",\n",
    "#     x_transform_func=global_x_transform_func,\n",
    "#     domain_modifier=lambda u: f\"wisig_{u}\"\n",
    "# )"
   ]
  },
  {
   "cell_type": "code",
   "execution_count": 19,
   "id": "fd5442bc",
   "metadata": {
    "execution": {
     "iopub.execute_input": "2022-03-23T07:43:46.151575Z",
     "iopub.status.busy": "2022-03-23T07:43:46.151166Z",
     "iopub.status.idle": "2022-03-23T07:43:46.171108Z",
     "shell.execute_reply": "2022-03-23T07:43:46.170389Z"
    },
    "papermill": {
     "duration": 0.04856,
     "end_time": "2022-03-23T07:43:46.171278",
     "exception": false,
     "start_time": "2022-03-23T07:43:46.122718",
     "status": "completed"
    },
    "tags": []
   },
   "outputs": [],
   "source": [
    "###################################\n",
    "# Build the dataset\n",
    "###################################\n",
    "train_original_source = Iterable_Aggregator(train_original_source, p.seed)\n",
    "val_original_source = Iterable_Aggregator(val_original_source, p.seed)\n",
    "test_original_source = Iterable_Aggregator(test_original_source, p.seed)\n",
    "\n",
    "\n",
    "train_original_target = Iterable_Aggregator(train_original_target, p.seed)\n",
    "val_original_target = Iterable_Aggregator(val_original_target, p.seed)\n",
    "test_original_target = Iterable_Aggregator(test_original_target, p.seed)\n",
    "\n",
    "# For CNN We only use X and Y. And we only train on the source.\n",
    "# Properly form the data using a transform lambda and Lazy_Iterable_Wrapper. Finally wrap them in a dataloader\n",
    "\n",
    "transform_lambda = lambda ex: ex[1] # Original is (<domain>, <episode>) so we strip down to episode only\n",
    "\n",
    "train_processed_source = Lazy_Iterable_Wrapper(train_original_source, transform_lambda)\n",
    "val_processed_source   = Lazy_Iterable_Wrapper(val_original_source, transform_lambda)\n",
    "test_processed_source  = Lazy_Iterable_Wrapper(test_original_source, transform_lambda)\n",
    "\n",
    "train_processed_target = Lazy_Iterable_Wrapper(train_original_target, transform_lambda)\n",
    "val_processed_target   = Lazy_Iterable_Wrapper(val_original_target, transform_lambda)\n",
    "test_processed_target  = Lazy_Iterable_Wrapper(test_original_target, transform_lambda)\n",
    "\n",
    "datasets = EasyDict({\n",
    "    \"source\": {\n",
    "        \"original\": {\"train\":train_original_source, \"val\":val_original_source, \"test\":test_original_source},\n",
    "        \"processed\": {\"train\":train_processed_source, \"val\":val_processed_source, \"test\":test_processed_source}\n",
    "    },\n",
    "    \"target\": {\n",
    "        \"original\": {\"train\":train_original_target, \"val\":val_original_target, \"test\":test_original_target},\n",
    "        \"processed\": {\"train\":train_processed_target, \"val\":val_processed_target, \"test\":test_processed_target}\n",
    "    },\n",
    "})"
   ]
  },
  {
   "cell_type": "code",
   "execution_count": 20,
   "id": "5b3c01fc",
   "metadata": {
    "execution": {
     "iopub.execute_input": "2022-03-23T07:43:46.231298Z",
     "iopub.status.busy": "2022-03-23T07:43:46.230724Z",
     "iopub.status.idle": "2022-03-23T07:44:01.920783Z",
     "shell.execute_reply": "2022-03-23T07:44:01.921541Z"
    },
    "papermill": {
     "duration": 15.715247,
     "end_time": "2022-03-23T07:44:01.921765",
     "exception": false,
     "start_time": "2022-03-23T07:43:46.206518",
     "status": "completed"
    },
    "tags": []
   },
   "outputs": [
    {
     "name": "stdout",
     "output_type": "stream",
     "text": [
      "{'ORACLE.run120', 'ORACLE.run138', 'ORACLE.run150', 'ORACLE.run18', 'ORACLE.run132', 'ORACLE.run144', 'ORACLE.run126', 'ORACLE.run114'}\n"
     ]
    },
    {
     "name": "stdout",
     "output_type": "stream",
     "text": [
      "{'Wisig_1', 'Wisig_2', 'Wisig_3', 'Wisig_4'}\n"
     ]
    },
    {
     "name": "stdout",
     "output_type": "stream",
     "text": [
      "tensor([[[-0.8050, -0.5750, -0.4408,  ...,  0.0000, -0.0767, -0.0575],\n",
      "         [-0.0383, -0.5558,  1.2267,  ...,  0.0958,  1.2075,  1.0350]],\n",
      "\n",
      "        [[ 0.7685,  1.2103,  0.4419,  ...,  1.0758,  1.3448,  0.6340],\n",
      "         [-0.6724,  0.3650,  1.2487,  ...,  0.9029, -0.1921,  0.3458]],\n",
      "\n",
      "        [[ 0.3968, -2.0408, -0.4535,  ..., -0.1134, -0.0945,  0.4724],\n",
      "         [ 0.4157, -0.0945, -0.3590,  ..., -0.9826, -1.7007, -1.1149]],\n",
      "\n",
      "        ...,\n",
      "\n",
      "        [[ 1.2230,  0.7923, -0.1206,  ...,  0.6890, -0.2584,  0.2928],\n",
      "         [-1.1885, -0.9818,  0.2411,  ..., -1.0679, -0.2928, -1.4986]],\n",
      "\n",
      "        [[ 0.7245, -0.7076,  0.5054,  ..., -1.3816,  0.3370,  1.6174],\n",
      "         [-0.2527,  0.8593, -0.2359,  ...,  0.8087,  0.5223, -0.2190]],\n",
      "\n",
      "        [[-0.1196, -0.8200, -0.3587,  ...,  0.1025, -0.6662, -0.2904],\n",
      "         [ 0.0171,  0.3075, -0.8029,  ..., -1.9133, -0.8029,  0.7346]]])\n"
     ]
    }
   ],
   "source": [
    "from steves_utils.transforms import get_average_magnitude, get_average_power\n",
    "\n",
    "print(set([u for u,_ in val_original_source]))\n",
    "print(set([u for u,_ in val_original_target]))\n",
    "\n",
    "s_x, s_y, q_x, q_y, _ = next(iter(train_processed_source))\n",
    "print(s_x)\n",
    "\n",
    "# for ds in [\n",
    "#     train_processed_source,\n",
    "#     val_processed_source,\n",
    "#     test_processed_source,\n",
    "#     train_processed_target,\n",
    "#     val_processed_target,\n",
    "#     test_processed_target\n",
    "# ]:\n",
    "#     for s_x, s_y, q_x, q_y, _ in ds:\n",
    "#         for X in (s_x, q_x):\n",
    "#             for x in X:\n",
    "#                 assert np.isclose(get_average_magnitude(x.numpy()), 1.0)\n",
    "#                 assert np.isclose(get_average_power(x.numpy()), 1.0)\n",
    "                "
   ]
  },
  {
   "cell_type": "code",
   "execution_count": 21,
   "id": "bbdacba1",
   "metadata": {
    "execution": {
     "iopub.execute_input": "2022-03-23T07:44:01.978054Z",
     "iopub.status.busy": "2022-03-23T07:44:01.977337Z",
     "iopub.status.idle": "2022-03-23T07:44:02.227600Z",
     "shell.execute_reply": "2022-03-23T07:44:02.226833Z"
    },
    "papermill": {
     "duration": 0.27869,
     "end_time": "2022-03-23T07:44:02.227797",
     "exception": false,
     "start_time": "2022-03-23T07:44:01.949107",
     "status": "completed"
    },
    "tags": []
   },
   "outputs": [
    {
     "name": "stdout",
     "output_type": "stream",
     "text": [
      "(2, 256)\n"
     ]
    }
   ],
   "source": [
    "###################################\n",
    "# Build the model\n",
    "###################################\n",
    "# easfsl only wants a tuple for the shape\n",
    "model = Steves_Prototypical_Network(x_net, device=p.device, x_shape=tuple(p.x_shape))\n",
    "optimizer = Adam(params=model.parameters(), lr=p.lr)"
   ]
  },
  {
   "cell_type": "code",
   "execution_count": 22,
   "id": "22b39ac5",
   "metadata": {
    "execution": {
     "iopub.execute_input": "2022-03-23T07:44:02.289049Z",
     "iopub.status.busy": "2022-03-23T07:44:02.288315Z",
     "iopub.status.idle": "2022-03-23T08:39:07.805513Z",
     "shell.execute_reply": "2022-03-23T08:39:07.805171Z"
    },
    "papermill": {
     "duration": 3305.547761,
     "end_time": "2022-03-23T08:39:07.805598",
     "exception": false,
     "start_time": "2022-03-23T07:44:02.257837",
     "status": "completed"
    },
    "tags": []
   },
   "outputs": [
    {
     "name": "stdout",
     "output_type": "stream",
     "text": [
      "epoch: 1, [batch: 1 / 6720], examples_per_second: 33.4357, train_label_loss: 2.7858, \n"
     ]
    },
    {
     "name": "stdout",
     "output_type": "stream",
     "text": [
      "epoch: 1, [batch: 672 / 6720], examples_per_second: 2975.8501, train_label_loss: 2.6910, \n"
     ]
    },
    {
     "name": "stdout",
     "output_type": "stream",
     "text": [
      "epoch: 1, [batch: 1344 / 6720], examples_per_second: 2951.0502, train_label_loss: 1.6188, \n"
     ]
    },
    {
     "name": "stdout",
     "output_type": "stream",
     "text": [
      "epoch: 1, [batch: 2016 / 6720], examples_per_second: 3005.5826, train_label_loss: 1.4803, \n"
     ]
    },
    {
     "name": "stdout",
     "output_type": "stream",
     "text": [
      "epoch: 1, [batch: 2688 / 6720], examples_per_second: 3003.1214, train_label_loss: 1.3145, \n"
     ]
    },
    {
     "name": "stdout",
     "output_type": "stream",
     "text": [
      "epoch: 1, [batch: 3360 / 6720], examples_per_second: 3003.7684, train_label_loss: 1.4256, \n"
     ]
    },
    {
     "name": "stdout",
     "output_type": "stream",
     "text": [
      "epoch: 1, [batch: 4032 / 6720], examples_per_second: 2949.6694, train_label_loss: 1.0471, \n"
     ]
    },
    {
     "name": "stdout",
     "output_type": "stream",
     "text": [
      "epoch: 1, [batch: 4704 / 6720], examples_per_second: 2924.8595, train_label_loss: 1.0231, \n"
     ]
    },
    {
     "name": "stdout",
     "output_type": "stream",
     "text": [
      "epoch: 1, [batch: 5376 / 6720], examples_per_second: 2963.4683, train_label_loss: 0.8299, \n"
     ]
    },
    {
     "name": "stdout",
     "output_type": "stream",
     "text": [
      "epoch: 1, [batch: 6048 / 6720], examples_per_second: 3404.6408, train_label_loss: 0.7414, \n"
     ]
    },
    {
     "name": "stdout",
     "output_type": "stream",
     "text": [
      "=============================================================\n",
      "epoch: 1, source_val_acc_label: 0.5390, target_val_acc_label: 0.6325, source_val_label_loss: 1.1957, target_val_label_loss: 4.9471, \n",
      "=============================================================\n"
     ]
    },
    {
     "name": "stdout",
     "output_type": "stream",
     "text": [
      "New best\n"
     ]
    },
    {
     "name": "stdout",
     "output_type": "stream",
     "text": [
      "epoch: 2, [batch: 1 / 6720], examples_per_second: 3.1700, train_label_loss: 0.6198, \n"
     ]
    },
    {
     "name": "stdout",
     "output_type": "stream",
     "text": [
      "epoch: 2, [batch: 672 / 6720], examples_per_second: 3376.3536, train_label_loss: 1.7172, \n"
     ]
    },
    {
     "name": "stdout",
     "output_type": "stream",
     "text": [
      "epoch: 2, [batch: 1344 / 6720], examples_per_second: 3495.4365, train_label_loss: 1.4946, \n"
     ]
    },
    {
     "name": "stdout",
     "output_type": "stream",
     "text": [
      "epoch: 2, [batch: 2016 / 6720], examples_per_second: 3416.9614, train_label_loss: 0.8584, \n"
     ]
    },
    {
     "name": "stdout",
     "output_type": "stream",
     "text": [
      "epoch: 2, [batch: 2688 / 6720], examples_per_second: 3368.5446, train_label_loss: 0.5164, \n"
     ]
    },
    {
     "name": "stdout",
     "output_type": "stream",
     "text": [
      "epoch: 2, [batch: 3360 / 6720], examples_per_second: 3372.3209, train_label_loss: 1.2585, \n"
     ]
    },
    {
     "name": "stdout",
     "output_type": "stream",
     "text": [
      "epoch: 2, [batch: 4032 / 6720], examples_per_second: 3420.8200, train_label_loss: 1.4409, \n"
     ]
    },
    {
     "name": "stdout",
     "output_type": "stream",
     "text": [
      "epoch: 2, [batch: 4704 / 6720], examples_per_second: 3436.1163, train_label_loss: 0.6605, \n"
     ]
    },
    {
     "name": "stdout",
     "output_type": "stream",
     "text": [
      "epoch: 2, [batch: 5376 / 6720], examples_per_second: 3438.9184, train_label_loss: 0.5733, \n"
     ]
    },
    {
     "name": "stdout",
     "output_type": "stream",
     "text": [
      "epoch: 2, [batch: 6048 / 6720], examples_per_second: 3759.9634, train_label_loss: 0.8816, \n"
     ]
    },
    {
     "name": "stdout",
     "output_type": "stream",
     "text": [
      "=============================================================\n",
      "epoch: 2, source_val_acc_label: 0.5928, target_val_acc_label: 0.6775, source_val_label_loss: 1.0692, target_val_label_loss: 6.5343, \n",
      "=============================================================\n"
     ]
    },
    {
     "name": "stdout",
     "output_type": "stream",
     "text": [
      "New best\n"
     ]
    },
    {
     "name": "stdout",
     "output_type": "stream",
     "text": [
      "epoch: 3, [batch: 1 / 6720], examples_per_second: 3.5242, train_label_loss: 1.3698, \n"
     ]
    },
    {
     "name": "stdout",
     "output_type": "stream",
     "text": [
      "epoch: 3, [batch: 672 / 6720], examples_per_second: 3821.8495, train_label_loss: 0.8350, \n"
     ]
    },
    {
     "name": "stdout",
     "output_type": "stream",
     "text": [
      "epoch: 3, [batch: 1344 / 6720], examples_per_second: 4146.5137, train_label_loss: 0.6178, \n"
     ]
    },
    {
     "name": "stdout",
     "output_type": "stream",
     "text": [
      "epoch: 3, [batch: 2016 / 6720], examples_per_second: 4415.2445, train_label_loss: 0.5688, \n"
     ]
    },
    {
     "name": "stdout",
     "output_type": "stream",
     "text": [
      "epoch: 3, [batch: 2688 / 6720], examples_per_second: 4405.2293, train_label_loss: 0.6527, \n"
     ]
    },
    {
     "name": "stdout",
     "output_type": "stream",
     "text": [
      "epoch: 3, [batch: 3360 / 6720], examples_per_second: 3493.1764, train_label_loss: 1.0346, \n"
     ]
    },
    {
     "name": "stdout",
     "output_type": "stream",
     "text": [
      "epoch: 3, [batch: 4032 / 6720], examples_per_second: 3368.9750, train_label_loss: 0.6494, \n"
     ]
    },
    {
     "name": "stdout",
     "output_type": "stream",
     "text": [
      "epoch: 3, [batch: 4704 / 6720], examples_per_second: 3426.3134, train_label_loss: 0.5915, \n"
     ]
    },
    {
     "name": "stdout",
     "output_type": "stream",
     "text": [
      "epoch: 3, [batch: 5376 / 6720], examples_per_second: 3399.2156, train_label_loss: 1.0353, \n"
     ]
    },
    {
     "name": "stdout",
     "output_type": "stream",
     "text": [
      "epoch: 3, [batch: 6048 / 6720], examples_per_second: 3413.4240, train_label_loss: 0.4668, \n"
     ]
    },
    {
     "name": "stdout",
     "output_type": "stream",
     "text": [
      "=============================================================\n",
      "epoch: 3, source_val_acc_label: 0.5998, target_val_acc_label: 0.6819, source_val_label_loss: 1.0704, target_val_label_loss: 7.7877, \n",
      "=============================================================\n"
     ]
    },
    {
     "name": "stdout",
     "output_type": "stream",
     "text": [
      "New best\n"
     ]
    },
    {
     "name": "stdout",
     "output_type": "stream",
     "text": [
      "epoch: 4, [batch: 1 / 6720], examples_per_second: 3.1305, train_label_loss: 0.8691, \n"
     ]
    },
    {
     "name": "stdout",
     "output_type": "stream",
     "text": [
      "epoch: 4, [batch: 672 / 6720], examples_per_second: 3614.8931, train_label_loss: 0.7891, \n"
     ]
    },
    {
     "name": "stdout",
     "output_type": "stream",
     "text": [
      "epoch: 4, [batch: 1344 / 6720], examples_per_second: 3868.1757, train_label_loss: 0.5501, \n"
     ]
    },
    {
     "name": "stdout",
     "output_type": "stream",
     "text": [
      "epoch: 4, [batch: 2016 / 6720], examples_per_second: 4000.1299, train_label_loss: 0.7323, \n"
     ]
    },
    {
     "name": "stdout",
     "output_type": "stream",
     "text": [
      "epoch: 4, [batch: 2688 / 6720], examples_per_second: 4004.1826, train_label_loss: 0.9326, \n"
     ]
    },
    {
     "name": "stdout",
     "output_type": "stream",
     "text": [
      "epoch: 4, [batch: 3360 / 6720], examples_per_second: 3845.1916, train_label_loss: 0.8793, \n"
     ]
    },
    {
     "name": "stdout",
     "output_type": "stream",
     "text": [
      "epoch: 4, [batch: 4032 / 6720], examples_per_second: 3879.2291, train_label_loss: 1.0593, \n"
     ]
    },
    {
     "name": "stdout",
     "output_type": "stream",
     "text": [
      "epoch: 4, [batch: 4704 / 6720], examples_per_second: 4004.9652, train_label_loss: 0.7899, \n"
     ]
    },
    {
     "name": "stdout",
     "output_type": "stream",
     "text": [
      "epoch: 4, [batch: 5376 / 6720], examples_per_second: 3899.8700, train_label_loss: 0.7248, \n"
     ]
    },
    {
     "name": "stdout",
     "output_type": "stream",
     "text": [
      "epoch: 4, [batch: 6048 / 6720], examples_per_second: 3940.2788, train_label_loss: 0.8688, \n"
     ]
    },
    {
     "name": "stdout",
     "output_type": "stream",
     "text": [
      "=============================================================\n",
      "epoch: 4, source_val_acc_label: 0.6117, target_val_acc_label: 0.6861, source_val_label_loss: 1.0754, target_val_label_loss: 8.8253, \n",
      "=============================================================\n"
     ]
    },
    {
     "name": "stdout",
     "output_type": "stream",
     "text": [
      "New best\n"
     ]
    },
    {
     "name": "stdout",
     "output_type": "stream",
     "text": [
      "epoch: 5, [batch: 1 / 6720], examples_per_second: 3.8676, train_label_loss: 0.6419, \n"
     ]
    },
    {
     "name": "stdout",
     "output_type": "stream",
     "text": [
      "epoch: 5, [batch: 672 / 6720], examples_per_second: 3983.0392, train_label_loss: 0.7396, \n"
     ]
    },
    {
     "name": "stdout",
     "output_type": "stream",
     "text": [
      "epoch: 5, [batch: 1344 / 6720], examples_per_second: 3961.7426, train_label_loss: 0.5730, \n"
     ]
    },
    {
     "name": "stdout",
     "output_type": "stream",
     "text": [
      "epoch: 5, [batch: 2016 / 6720], examples_per_second: 4036.9708, train_label_loss: 0.2898, \n"
     ]
    },
    {
     "name": "stdout",
     "output_type": "stream",
     "text": [
      "epoch: 5, [batch: 2688 / 6720], examples_per_second: 3924.8874, train_label_loss: 0.6493, \n"
     ]
    },
    {
     "name": "stdout",
     "output_type": "stream",
     "text": [
      "epoch: 5, [batch: 3360 / 6720], examples_per_second: 3798.9267, train_label_loss: 0.5078, \n"
     ]
    },
    {
     "name": "stdout",
     "output_type": "stream",
     "text": [
      "epoch: 5, [batch: 4032 / 6720], examples_per_second: 3897.7226, train_label_loss: 0.5199, \n"
     ]
    },
    {
     "name": "stdout",
     "output_type": "stream",
     "text": [
      "epoch: 5, [batch: 4704 / 6720], examples_per_second: 3817.0211, train_label_loss: 0.1824, \n"
     ]
    },
    {
     "name": "stdout",
     "output_type": "stream",
     "text": [
      "epoch: 5, [batch: 5376 / 6720], examples_per_second: 3884.9844, train_label_loss: 0.4609, \n"
     ]
    },
    {
     "name": "stdout",
     "output_type": "stream",
     "text": [
      "epoch: 5, [batch: 6048 / 6720], examples_per_second: 3893.7054, train_label_loss: 0.5318, \n"
     ]
    },
    {
     "name": "stdout",
     "output_type": "stream",
     "text": [
      "=============================================================\n",
      "epoch: 5, source_val_acc_label: 0.6115, target_val_acc_label: 0.6930, source_val_label_loss: 1.1103, target_val_label_loss: 9.8740, \n",
      "=============================================================\n"
     ]
    },
    {
     "name": "stdout",
     "output_type": "stream",
     "text": [
      "New best\n"
     ]
    },
    {
     "name": "stdout",
     "output_type": "stream",
     "text": [
      "epoch: 6, [batch: 1 / 6720], examples_per_second: 3.9212, train_label_loss: 0.7610, \n"
     ]
    },
    {
     "name": "stdout",
     "output_type": "stream",
     "text": [
      "epoch: 6, [batch: 672 / 6720], examples_per_second: 3926.9440, train_label_loss: 0.5865, \n"
     ]
    },
    {
     "name": "stdout",
     "output_type": "stream",
     "text": [
      "epoch: 6, [batch: 1344 / 6720], examples_per_second: 3923.9715, train_label_loss: 0.7871, \n"
     ]
    },
    {
     "name": "stdout",
     "output_type": "stream",
     "text": [
      "epoch: 6, [batch: 2016 / 6720], examples_per_second: 3825.2523, train_label_loss: 0.5306, \n"
     ]
    },
    {
     "name": "stdout",
     "output_type": "stream",
     "text": [
      "epoch: 6, [batch: 2688 / 6720], examples_per_second: 3924.1848, train_label_loss: 0.4488, \n"
     ]
    },
    {
     "name": "stdout",
     "output_type": "stream",
     "text": [
      "epoch: 6, [batch: 3360 / 6720], examples_per_second: 4011.9344, train_label_loss: 0.2662, \n"
     ]
    },
    {
     "name": "stdout",
     "output_type": "stream",
     "text": [
      "epoch: 6, [batch: 4032 / 6720], examples_per_second: 3994.0187, train_label_loss: 0.8469, \n"
     ]
    },
    {
     "name": "stdout",
     "output_type": "stream",
     "text": [
      "epoch: 6, [batch: 4704 / 6720], examples_per_second: 4038.9026, train_label_loss: 0.8568, \n"
     ]
    },
    {
     "name": "stdout",
     "output_type": "stream",
     "text": [
      "epoch: 6, [batch: 5376 / 6720], examples_per_second: 3873.9578, train_label_loss: 0.3473, \n"
     ]
    },
    {
     "name": "stdout",
     "output_type": "stream",
     "text": [
      "epoch: 6, [batch: 6048 / 6720], examples_per_second: 3570.6129, train_label_loss: 0.8565, \n"
     ]
    },
    {
     "name": "stdout",
     "output_type": "stream",
     "text": [
      "=============================================================\n",
      "epoch: 6, source_val_acc_label: 0.6032, target_val_acc_label: 0.6918, source_val_label_loss: 1.1790, target_val_label_loss: 11.2307, \n",
      "=============================================================\n"
     ]
    },
    {
     "name": "stdout",
     "output_type": "stream",
     "text": [
      "epoch: 7, [batch: 1 / 6720], examples_per_second: 2.7591, train_label_loss: 0.6124, \n"
     ]
    },
    {
     "name": "stdout",
     "output_type": "stream",
     "text": [
      "epoch: 7, [batch: 672 / 6720], examples_per_second: 2930.4785, train_label_loss: 0.3030, \n"
     ]
    },
    {
     "name": "stdout",
     "output_type": "stream",
     "text": [
      "epoch: 7, [batch: 1344 / 6720], examples_per_second: 2930.4712, train_label_loss: 0.9419, \n"
     ]
    },
    {
     "name": "stdout",
     "output_type": "stream",
     "text": [
      "epoch: 7, [batch: 2016 / 6720], examples_per_second: 2959.9980, train_label_loss: 0.4885, \n"
     ]
    },
    {
     "name": "stdout",
     "output_type": "stream",
     "text": [
      "epoch: 7, [batch: 2688 / 6720], examples_per_second: 2940.3503, train_label_loss: 0.7379, \n"
     ]
    },
    {
     "name": "stdout",
     "output_type": "stream",
     "text": [
      "epoch: 7, [batch: 3360 / 6720], examples_per_second: 3175.4320, train_label_loss: 0.8153, \n"
     ]
    },
    {
     "name": "stdout",
     "output_type": "stream",
     "text": [
      "epoch: 7, [batch: 4032 / 6720], examples_per_second: 3561.3094, train_label_loss: 0.2449, \n"
     ]
    },
    {
     "name": "stdout",
     "output_type": "stream",
     "text": [
      "epoch: 7, [batch: 4704 / 6720], examples_per_second: 3856.6896, train_label_loss: 0.6541, \n"
     ]
    },
    {
     "name": "stdout",
     "output_type": "stream",
     "text": [
      "epoch: 7, [batch: 5376 / 6720], examples_per_second: 3663.6825, train_label_loss: 0.5401, \n"
     ]
    },
    {
     "name": "stdout",
     "output_type": "stream",
     "text": [
      "epoch: 7, [batch: 6048 / 6720], examples_per_second: 3655.8233, train_label_loss: 0.6478, \n"
     ]
    },
    {
     "name": "stdout",
     "output_type": "stream",
     "text": [
      "=============================================================\n",
      "epoch: 7, source_val_acc_label: 0.6016, target_val_acc_label: 0.6870, source_val_label_loss: 1.2398, target_val_label_loss: 12.1416, \n",
      "=============================================================\n"
     ]
    },
    {
     "name": "stdout",
     "output_type": "stream",
     "text": [
      "epoch: 8, [batch: 1 / 6720], examples_per_second: 4.0851, train_label_loss: 0.3072, \n"
     ]
    },
    {
     "name": "stdout",
     "output_type": "stream",
     "text": [
      "epoch: 8, [batch: 672 / 6720], examples_per_second: 3462.7226, train_label_loss: 0.7095, \n"
     ]
    },
    {
     "name": "stdout",
     "output_type": "stream",
     "text": [
      "epoch: 8, [batch: 1344 / 6720], examples_per_second: 3014.7698, train_label_loss: 0.4279, \n"
     ]
    },
    {
     "name": "stdout",
     "output_type": "stream",
     "text": [
      "epoch: 8, [batch: 2016 / 6720], examples_per_second: 3049.1012, train_label_loss: 0.7353, \n"
     ]
    },
    {
     "name": "stdout",
     "output_type": "stream",
     "text": [
      "epoch: 8, [batch: 2688 / 6720], examples_per_second: 2958.9657, train_label_loss: 0.5256, \n"
     ]
    },
    {
     "name": "stdout",
     "output_type": "stream",
     "text": [
      "epoch: 8, [batch: 3360 / 6720], examples_per_second: 3022.6956, train_label_loss: 0.3105, \n"
     ]
    },
    {
     "name": "stdout",
     "output_type": "stream",
     "text": [
      "epoch: 8, [batch: 4032 / 6720], examples_per_second: 2991.1492, train_label_loss: 0.6141, \n"
     ]
    },
    {
     "name": "stdout",
     "output_type": "stream",
     "text": [
      "epoch: 8, [batch: 4704 / 6720], examples_per_second: 3009.2424, train_label_loss: 0.1597, \n"
     ]
    },
    {
     "name": "stdout",
     "output_type": "stream",
     "text": [
      "epoch: 8, [batch: 5376 / 6720], examples_per_second: 3085.1803, train_label_loss: 0.3771, \n"
     ]
    },
    {
     "name": "stdout",
     "output_type": "stream",
     "text": [
      "epoch: 8, [batch: 6048 / 6720], examples_per_second: 2949.2447, train_label_loss: 0.5927, \n"
     ]
    },
    {
     "name": "stdout",
     "output_type": "stream",
     "text": [
      "=============================================================\n",
      "epoch: 8, source_val_acc_label: 0.6062, target_val_acc_label: 0.6922, source_val_label_loss: 1.3262, target_val_label_loss: 13.3127, \n",
      "=============================================================\n"
     ]
    },
    {
     "name": "stdout",
     "output_type": "stream",
     "text": [
      "epoch: 9, [batch: 1 / 6720], examples_per_second: 3.1156, train_label_loss: 0.5517, \n"
     ]
    },
    {
     "name": "stdout",
     "output_type": "stream",
     "text": [
      "epoch: 9, [batch: 672 / 6720], examples_per_second: 3365.8630, train_label_loss: 0.3189, \n"
     ]
    },
    {
     "name": "stdout",
     "output_type": "stream",
     "text": [
      "epoch: 9, [batch: 1344 / 6720], examples_per_second: 3375.3135, train_label_loss: 0.3115, \n"
     ]
    },
    {
     "name": "stdout",
     "output_type": "stream",
     "text": [
      "epoch: 9, [batch: 2016 / 6720], examples_per_second: 3521.5708, train_label_loss: 0.4805, \n"
     ]
    },
    {
     "name": "stdout",
     "output_type": "stream",
     "text": [
      "epoch: 9, [batch: 2688 / 6720], examples_per_second: 3234.6821, train_label_loss: 0.3146, \n"
     ]
    },
    {
     "name": "stdout",
     "output_type": "stream",
     "text": [
      "epoch: 9, [batch: 3360 / 6720], examples_per_second: 3025.9746, train_label_loss: 0.2599, \n"
     ]
    },
    {
     "name": "stdout",
     "output_type": "stream",
     "text": [
      "epoch: 9, [batch: 4032 / 6720], examples_per_second: 2964.3519, train_label_loss: 0.3155, \n"
     ]
    },
    {
     "name": "stdout",
     "output_type": "stream",
     "text": [
      "epoch: 9, [batch: 4704 / 6720], examples_per_second: 2976.6004, train_label_loss: 0.3749, \n"
     ]
    },
    {
     "name": "stdout",
     "output_type": "stream",
     "text": [
      "epoch: 9, [batch: 5376 / 6720], examples_per_second: 2997.4641, train_label_loss: 0.2022, \n"
     ]
    },
    {
     "name": "stdout",
     "output_type": "stream",
     "text": [
      "epoch: 9, [batch: 6048 / 6720], examples_per_second: 2995.2693, train_label_loss: 0.5020, \n"
     ]
    },
    {
     "name": "stdout",
     "output_type": "stream",
     "text": [
      "=============================================================\n",
      "epoch: 9, source_val_acc_label: 0.6025, target_val_acc_label: 0.6933, source_val_label_loss: 1.4378, target_val_label_loss: 14.7662, \n",
      "=============================================================\n"
     ]
    },
    {
     "name": "stdout",
     "output_type": "stream",
     "text": [
      "New best\n"
     ]
    },
    {
     "name": "stdout",
     "output_type": "stream",
     "text": [
      "epoch: 10, [batch: 1 / 6720], examples_per_second: 2.7523, train_label_loss: 0.3807, \n"
     ]
    },
    {
     "name": "stdout",
     "output_type": "stream",
     "text": [
      "epoch: 10, [batch: 672 / 6720], examples_per_second: 3368.9993, train_label_loss: 0.2765, \n"
     ]
    },
    {
     "name": "stdout",
     "output_type": "stream",
     "text": [
      "epoch: 10, [batch: 1344 / 6720], examples_per_second: 3460.4468, train_label_loss: 0.4067, \n"
     ]
    },
    {
     "name": "stdout",
     "output_type": "stream",
     "text": [
      "epoch: 10, [batch: 2016 / 6720], examples_per_second: 3376.5279, train_label_loss: 0.0748, \n"
     ]
    },
    {
     "name": "stdout",
     "output_type": "stream",
     "text": [
      "epoch: 10, [batch: 2688 / 6720], examples_per_second: 3390.2218, train_label_loss: 0.5384, \n"
     ]
    },
    {
     "name": "stdout",
     "output_type": "stream",
     "text": [
      "epoch: 10, [batch: 3360 / 6720], examples_per_second: 3423.2509, train_label_loss: 0.3696, \n"
     ]
    },
    {
     "name": "stdout",
     "output_type": "stream",
     "text": [
      "epoch: 10, [batch: 4032 / 6720], examples_per_second: 3451.0665, train_label_loss: 0.1983, \n"
     ]
    },
    {
     "name": "stdout",
     "output_type": "stream",
     "text": [
      "epoch: 10, [batch: 4704 / 6720], examples_per_second: 3603.9705, train_label_loss: 0.1281, \n"
     ]
    },
    {
     "name": "stdout",
     "output_type": "stream",
     "text": [
      "epoch: 10, [batch: 5376 / 6720], examples_per_second: 3077.3078, train_label_loss: 0.1485, \n"
     ]
    },
    {
     "name": "stdout",
     "output_type": "stream",
     "text": [
      "epoch: 10, [batch: 6048 / 6720], examples_per_second: 3030.8654, train_label_loss: 0.0646, \n"
     ]
    },
    {
     "name": "stdout",
     "output_type": "stream",
     "text": [
      "=============================================================\n",
      "epoch: 10, source_val_acc_label: 0.5942, target_val_acc_label: 0.6930, source_val_label_loss: 1.4821, target_val_label_loss: 15.4403, \n",
      "=============================================================\n"
     ]
    },
    {
     "name": "stdout",
     "output_type": "stream",
     "text": [
      "epoch: 11, [batch: 1 / 6720], examples_per_second: 2.7501, train_label_loss: 0.2789, \n"
     ]
    },
    {
     "name": "stdout",
     "output_type": "stream",
     "text": [
      "epoch: 11, [batch: 672 / 6720], examples_per_second: 3023.9771, train_label_loss: 0.1615, \n"
     ]
    },
    {
     "name": "stdout",
     "output_type": "stream",
     "text": [
      "epoch: 11, [batch: 1344 / 6720], examples_per_second: 3020.5385, train_label_loss: 0.3281, \n"
     ]
    },
    {
     "name": "stdout",
     "output_type": "stream",
     "text": [
      "epoch: 11, [batch: 2016 / 6720], examples_per_second: 2979.7626, train_label_loss: 0.3593, \n"
     ]
    },
    {
     "name": "stdout",
     "output_type": "stream",
     "text": [
      "epoch: 11, [batch: 2688 / 6720], examples_per_second: 3055.1454, train_label_loss: 0.1203, \n"
     ]
    },
    {
     "name": "stdout",
     "output_type": "stream",
     "text": [
      "epoch: 11, [batch: 3360 / 6720], examples_per_second: 3471.1793, train_label_loss: 0.5686, \n"
     ]
    },
    {
     "name": "stdout",
     "output_type": "stream",
     "text": [
      "epoch: 11, [batch: 4032 / 6720], examples_per_second: 3430.0907, train_label_loss: 0.2985, \n"
     ]
    },
    {
     "name": "stdout",
     "output_type": "stream",
     "text": [
      "epoch: 11, [batch: 4704 / 6720], examples_per_second: 3373.5250, train_label_loss: 0.1423, \n"
     ]
    },
    {
     "name": "stdout",
     "output_type": "stream",
     "text": [
      "epoch: 11, [batch: 5376 / 6720], examples_per_second: 3396.8179, train_label_loss: 0.4036, \n"
     ]
    },
    {
     "name": "stdout",
     "output_type": "stream",
     "text": [
      "epoch: 11, [batch: 6048 / 6720], examples_per_second: 3409.0776, train_label_loss: 0.1771, \n"
     ]
    },
    {
     "name": "stdout",
     "output_type": "stream",
     "text": [
      "=============================================================\n",
      "epoch: 11, source_val_acc_label: 0.6000, target_val_acc_label: 0.6913, source_val_label_loss: 1.5575, target_val_label_loss: 16.8744, \n",
      "=============================================================\n"
     ]
    },
    {
     "name": "stdout",
     "output_type": "stream",
     "text": [
      "epoch: 12, [batch: 1 / 6720], examples_per_second: 3.1397, train_label_loss: 0.6890, \n"
     ]
    },
    {
     "name": "stdout",
     "output_type": "stream",
     "text": [
      "epoch: 12, [batch: 672 / 6720], examples_per_second: 3086.3203, train_label_loss: 0.5962, \n"
     ]
    },
    {
     "name": "stdout",
     "output_type": "stream",
     "text": [
      "epoch: 12, [batch: 1344 / 6720], examples_per_second: 3343.1087, train_label_loss: 0.1747, \n"
     ]
    },
    {
     "name": "stdout",
     "output_type": "stream",
     "text": [
      "epoch: 12, [batch: 2016 / 6720], examples_per_second: 3349.4263, train_label_loss: 0.5938, \n"
     ]
    },
    {
     "name": "stdout",
     "output_type": "stream",
     "text": [
      "epoch: 12, [batch: 2688 / 6720], examples_per_second: 3333.4844, train_label_loss: 0.2959, \n"
     ]
    },
    {
     "name": "stdout",
     "output_type": "stream",
     "text": [
      "epoch: 12, [batch: 3360 / 6720], examples_per_second: 3386.9953, train_label_loss: 0.1096, \n"
     ]
    },
    {
     "name": "stdout",
     "output_type": "stream",
     "text": [
      "epoch: 12, [batch: 4032 / 6720], examples_per_second: 3486.7840, train_label_loss: 0.0515, \n"
     ]
    },
    {
     "name": "stdout",
     "output_type": "stream",
     "text": [
      "epoch: 12, [batch: 4704 / 6720], examples_per_second: 3492.2602, train_label_loss: 0.4061, \n"
     ]
    },
    {
     "name": "stdout",
     "output_type": "stream",
     "text": [
      "epoch: 12, [batch: 5376 / 6720], examples_per_second: 3948.1702, train_label_loss: 0.5690, \n"
     ]
    },
    {
     "name": "stdout",
     "output_type": "stream",
     "text": [
      "epoch: 12, [batch: 6048 / 6720], examples_per_second: 4506.3614, train_label_loss: 0.5600, \n"
     ]
    },
    {
     "name": "stdout",
     "output_type": "stream",
     "text": [
      "=============================================================\n",
      "epoch: 12, source_val_acc_label: 0.5926, target_val_acc_label: 0.6926, source_val_label_loss: 1.6716, target_val_label_loss: 17.4558, \n",
      "=============================================================\n"
     ]
    },
    {
     "name": "stdout",
     "output_type": "stream",
     "text": [
      "epoch: 13, [batch: 1 / 6720], examples_per_second: 3.1922, train_label_loss: 0.2650, \n"
     ]
    },
    {
     "name": "stdout",
     "output_type": "stream",
     "text": [
      "epoch: 13, [batch: 672 / 6720], examples_per_second: 3400.6597, train_label_loss: 0.3794, \n"
     ]
    },
    {
     "name": "stdout",
     "output_type": "stream",
     "text": [
      "epoch: 13, [batch: 1344 / 6720], examples_per_second: 3364.3830, train_label_loss: 0.1410, \n"
     ]
    },
    {
     "name": "stdout",
     "output_type": "stream",
     "text": [
      "epoch: 13, [batch: 2016 / 6720], examples_per_second: 2992.4018, train_label_loss: 0.3982, \n"
     ]
    },
    {
     "name": "stdout",
     "output_type": "stream",
     "text": [
      "epoch: 13, [batch: 2688 / 6720], examples_per_second: 3035.8931, train_label_loss: 0.4173, \n"
     ]
    },
    {
     "name": "stdout",
     "output_type": "stream",
     "text": [
      "epoch: 13, [batch: 3360 / 6720], examples_per_second: 3026.6080, train_label_loss: 0.1167, \n"
     ]
    },
    {
     "name": "stdout",
     "output_type": "stream",
     "text": [
      "epoch: 13, [batch: 4032 / 6720], examples_per_second: 3091.5488, train_label_loss: 0.2439, \n"
     ]
    },
    {
     "name": "stdout",
     "output_type": "stream",
     "text": [
      "epoch: 13, [batch: 4704 / 6720], examples_per_second: 2975.6679, train_label_loss: 0.3037, \n"
     ]
    },
    {
     "name": "stdout",
     "output_type": "stream",
     "text": [
      "epoch: 13, [batch: 5376 / 6720], examples_per_second: 2989.4021, train_label_loss: 0.2579, \n"
     ]
    },
    {
     "name": "stdout",
     "output_type": "stream",
     "text": [
      "epoch: 13, [batch: 6048 / 6720], examples_per_second: 2976.0099, train_label_loss: 0.4457, \n"
     ]
    },
    {
     "name": "stdout",
     "output_type": "stream",
     "text": [
      "=============================================================\n",
      "epoch: 13, source_val_acc_label: 0.5875, target_val_acc_label: 0.6978, source_val_label_loss: 1.7102, target_val_label_loss: 18.1594, \n",
      "=============================================================\n"
     ]
    },
    {
     "name": "stdout",
     "output_type": "stream",
     "text": [
      "New best\n"
     ]
    },
    {
     "name": "stdout",
     "output_type": "stream",
     "text": [
      "epoch: 14, [batch: 1 / 6720], examples_per_second: 2.9453, train_label_loss: 0.0643, \n"
     ]
    },
    {
     "name": "stdout",
     "output_type": "stream",
     "text": [
      "epoch: 14, [batch: 672 / 6720], examples_per_second: 3359.0892, train_label_loss: 0.1197, \n"
     ]
    },
    {
     "name": "stdout",
     "output_type": "stream",
     "text": [
      "epoch: 14, [batch: 1344 / 6720], examples_per_second: 3517.1572, train_label_loss: 0.0304, \n"
     ]
    },
    {
     "name": "stdout",
     "output_type": "stream",
     "text": [
      "epoch: 14, [batch: 2016 / 6720], examples_per_second: 3365.5118, train_label_loss: 0.2042, \n"
     ]
    },
    {
     "name": "stdout",
     "output_type": "stream",
     "text": [
      "epoch: 14, [batch: 2688 / 6720], examples_per_second: 3386.4140, train_label_loss: 0.1279, \n"
     ]
    },
    {
     "name": "stdout",
     "output_type": "stream",
     "text": [
      "epoch: 14, [batch: 3360 / 6720], examples_per_second: 3630.2576, train_label_loss: 0.1157, \n"
     ]
    },
    {
     "name": "stdout",
     "output_type": "stream",
     "text": [
      "epoch: 14, [batch: 4032 / 6720], examples_per_second: 3245.0642, train_label_loss: 0.1186, \n"
     ]
    },
    {
     "name": "stdout",
     "output_type": "stream",
     "text": [
      "epoch: 14, [batch: 4704 / 6720], examples_per_second: 3005.7709, train_label_loss: 0.2600, \n"
     ]
    },
    {
     "name": "stdout",
     "output_type": "stream",
     "text": [
      "epoch: 14, [batch: 5376 / 6720], examples_per_second: 3004.0431, train_label_loss: 0.0027, \n"
     ]
    },
    {
     "name": "stdout",
     "output_type": "stream",
     "text": [
      "epoch: 14, [batch: 6048 / 6720], examples_per_second: 2989.8107, train_label_loss: 0.0821, \n"
     ]
    },
    {
     "name": "stdout",
     "output_type": "stream",
     "text": [
      "=============================================================\n",
      "epoch: 14, source_val_acc_label: 0.5974, target_val_acc_label: 0.6900, source_val_label_loss: 1.7534, target_val_label_loss: 19.5690, \n",
      "=============================================================\n"
     ]
    },
    {
     "name": "stdout",
     "output_type": "stream",
     "text": [
      "epoch: 15, [batch: 1 / 6720], examples_per_second: 2.7942, train_label_loss: 0.2442, \n"
     ]
    },
    {
     "name": "stdout",
     "output_type": "stream",
     "text": [
      "epoch: 15, [batch: 672 / 6720], examples_per_second: 3078.4702, train_label_loss: 0.0580, \n"
     ]
    },
    {
     "name": "stdout",
     "output_type": "stream",
     "text": [
      "epoch: 15, [batch: 1344 / 6720], examples_per_second: 3060.9170, train_label_loss: 0.4152, \n"
     ]
    },
    {
     "name": "stdout",
     "output_type": "stream",
     "text": [
      "epoch: 15, [batch: 2016 / 6720], examples_per_second: 3417.0845, train_label_loss: 0.0392, \n"
     ]
    },
    {
     "name": "stdout",
     "output_type": "stream",
     "text": [
      "epoch: 15, [batch: 2688 / 6720], examples_per_second: 3470.2189, train_label_loss: 0.2925, \n"
     ]
    },
    {
     "name": "stdout",
     "output_type": "stream",
     "text": [
      "epoch: 15, [batch: 3360 / 6720], examples_per_second: 3394.8882, train_label_loss: 0.2138, \n"
     ]
    },
    {
     "name": "stdout",
     "output_type": "stream",
     "text": [
      "epoch: 15, [batch: 4032 / 6720], examples_per_second: 3437.6394, train_label_loss: 0.0083, \n"
     ]
    },
    {
     "name": "stdout",
     "output_type": "stream",
     "text": [
      "epoch: 15, [batch: 4704 / 6720], examples_per_second: 3376.4422, train_label_loss: 0.3618, \n"
     ]
    },
    {
     "name": "stdout",
     "output_type": "stream",
     "text": [
      "epoch: 15, [batch: 5376 / 6720], examples_per_second: 3344.3087, train_label_loss: 0.0933, \n"
     ]
    },
    {
     "name": "stdout",
     "output_type": "stream",
     "text": [
      "epoch: 15, [batch: 6048 / 6720], examples_per_second: 3689.7488, train_label_loss: 0.0556, \n"
     ]
    },
    {
     "name": "stdout",
     "output_type": "stream",
     "text": [
      "=============================================================\n",
      "epoch: 15, source_val_acc_label: 0.5926, target_val_acc_label: 0.6935, source_val_label_loss: 1.8653, target_val_label_loss: 20.7859, \n",
      "=============================================================\n"
     ]
    },
    {
     "name": "stdout",
     "output_type": "stream",
     "text": [
      "epoch: 16, [batch: 1 / 6720], examples_per_second: 2.7948, train_label_loss: 0.1435, \n"
     ]
    },
    {
     "name": "stdout",
     "output_type": "stream",
     "text": [
      "epoch: 16, [batch: 672 / 6720], examples_per_second: 2994.8625, train_label_loss: 0.3437, \n"
     ]
    },
    {
     "name": "stdout",
     "output_type": "stream",
     "text": [
      "epoch: 16, [batch: 1344 / 6720], examples_per_second: 3033.6829, train_label_loss: 0.6607, \n"
     ]
    },
    {
     "name": "stdout",
     "output_type": "stream",
     "text": [
      "epoch: 16, [batch: 2016 / 6720], examples_per_second: 3005.5374, train_label_loss: 0.3138, \n"
     ]
    },
    {
     "name": "stdout",
     "output_type": "stream",
     "text": [
      "epoch: 16, [batch: 2688 / 6720], examples_per_second: 3032.3544, train_label_loss: 0.1183, \n"
     ]
    },
    {
     "name": "stdout",
     "output_type": "stream",
     "text": [
      "epoch: 16, [batch: 3360 / 6720], examples_per_second: 3004.9364, train_label_loss: 0.1548, \n"
     ]
    },
    {
     "name": "stdout",
     "output_type": "stream",
     "text": [
      "epoch: 16, [batch: 4032 / 6720], examples_per_second: 3112.2425, train_label_loss: 0.1398, \n"
     ]
    },
    {
     "name": "stdout",
     "output_type": "stream",
     "text": [
      "epoch: 16, [batch: 4704 / 6720], examples_per_second: 3378.4574, train_label_loss: 0.1263, \n"
     ]
    },
    {
     "name": "stdout",
     "output_type": "stream",
     "text": [
      "epoch: 16, [batch: 5376 / 6720], examples_per_second: 3426.0204, train_label_loss: 0.0969, \n"
     ]
    },
    {
     "name": "stdout",
     "output_type": "stream",
     "text": [
      "epoch: 16, [batch: 6048 / 6720], examples_per_second: 3460.5272, train_label_loss: 0.2770, \n"
     ]
    },
    {
     "name": "stdout",
     "output_type": "stream",
     "text": [
      "=============================================================\n",
      "epoch: 16, source_val_acc_label: 0.5895, target_val_acc_label: 0.6960, source_val_label_loss: 1.8810, target_val_label_loss: 20.7000, \n",
      "=============================================================\n"
     ]
    },
    {
     "name": "stdout",
     "output_type": "stream",
     "text": [
      "epoch: 17, [batch: 1 / 6720], examples_per_second: 3.4254, train_label_loss: 0.2711, \n"
     ]
    },
    {
     "name": "stdout",
     "output_type": "stream",
     "text": [
      "epoch: 17, [batch: 672 / 6720], examples_per_second: 3773.7602, train_label_loss: 0.1390, \n"
     ]
    },
    {
     "name": "stdout",
     "output_type": "stream",
     "text": [
      "epoch: 17, [batch: 1344 / 6720], examples_per_second: 3437.4282, train_label_loss: 0.1359, \n"
     ]
    },
    {
     "name": "stdout",
     "output_type": "stream",
     "text": [
      "epoch: 17, [batch: 2016 / 6720], examples_per_second: 3485.0145, train_label_loss: 0.0052, \n"
     ]
    },
    {
     "name": "stdout",
     "output_type": "stream",
     "text": [
      "epoch: 17, [batch: 2688 / 6720], examples_per_second: 3788.9696, train_label_loss: 0.0082, \n"
     ]
    },
    {
     "name": "stdout",
     "output_type": "stream",
     "text": [
      "epoch: 17, [batch: 3360 / 6720], examples_per_second: 3961.4796, train_label_loss: 0.2403, \n"
     ]
    },
    {
     "name": "stdout",
     "output_type": "stream",
     "text": [
      "epoch: 17, [batch: 4032 / 6720], examples_per_second: 3121.3823, train_label_loss: 0.2381, \n"
     ]
    },
    {
     "name": "stdout",
     "output_type": "stream",
     "text": [
      "epoch: 17, [batch: 4704 / 6720], examples_per_second: 3009.2724, train_label_loss: 0.2747, \n"
     ]
    },
    {
     "name": "stdout",
     "output_type": "stream",
     "text": [
      "epoch: 17, [batch: 5376 / 6720], examples_per_second: 2992.3229, train_label_loss: 0.1691, \n"
     ]
    },
    {
     "name": "stdout",
     "output_type": "stream",
     "text": [
      "epoch: 17, [batch: 6048 / 6720], examples_per_second: 3011.0828, train_label_loss: 0.0066, \n"
     ]
    },
    {
     "name": "stdout",
     "output_type": "stream",
     "text": [
      "=============================================================\n",
      "epoch: 17, source_val_acc_label: 0.5999, target_val_acc_label: 0.6964, source_val_label_loss: 1.9096, target_val_label_loss: 21.8731, \n",
      "=============================================================\n"
     ]
    },
    {
     "name": "stdout",
     "output_type": "stream",
     "text": [
      "Patience (3) exhausted\n"
     ]
    }
   ],
   "source": [
    "###################################\n",
    "# train\n",
    "###################################\n",
    "jig = PTN_Train_Eval_Test_Jig(model, p.BEST_MODEL_PATH, p.device)\n",
    "\n",
    "jig.train(\n",
    "    train_iterable=datasets.source.processed.train,\n",
    "    source_val_iterable=datasets.source.processed.val,\n",
    "    target_val_iterable=datasets.target.processed.val,\n",
    "    num_epochs=p.n_epoch,\n",
    "    num_logs_per_epoch=p.NUM_LOGS_PER_EPOCH,\n",
    "    patience=p.patience,\n",
    "    optimizer=optimizer,\n",
    "    criteria_for_best=p.criteria_for_best,\n",
    ")"
   ]
  },
  {
   "cell_type": "code",
   "execution_count": 23,
   "id": "31e8fabf",
   "metadata": {
    "execution": {
     "iopub.execute_input": "2022-03-23T08:39:07.959772Z",
     "iopub.status.busy": "2022-03-23T08:39:07.959396Z",
     "iopub.status.idle": "2022-03-23T08:39:07.992303Z",
     "shell.execute_reply": "2022-03-23T08:39:07.991525Z"
    },
    "papermill": {
     "duration": 0.111499,
     "end_time": "2022-03-23T08:39:07.992487",
     "exception": false,
     "start_time": "2022-03-23T08:39:07.880988",
     "status": "completed"
    },
    "tags": []
   },
   "outputs": [],
   "source": [
    "total_experiment_time_secs = time.time() - start_time_secs"
   ]
  },
  {
   "cell_type": "code",
   "execution_count": 24,
   "id": "87b9595b",
   "metadata": {
    "execution": {
     "iopub.execute_input": "2022-03-23T08:39:08.156859Z",
     "iopub.status.busy": "2022-03-23T08:39:08.153356Z",
     "iopub.status.idle": "2022-03-23T08:42:33.825169Z",
     "shell.execute_reply": "2022-03-23T08:42:33.824424Z"
    },
    "papermill": {
     "duration": 205.75219,
     "end_time": "2022-03-23T08:42:33.825363",
     "exception": false,
     "start_time": "2022-03-23T08:39:08.073173",
     "status": "completed"
    },
    "tags": []
   },
   "outputs": [],
   "source": [
    "###################################\n",
    "# Evaluate the model\n",
    "###################################\n",
    "source_test_label_accuracy, source_test_label_loss = jig.test(datasets.source.processed.test)\n",
    "target_test_label_accuracy, target_test_label_loss = jig.test(datasets.target.processed.test)\n",
    "\n",
    "source_val_label_accuracy, source_val_label_loss = jig.test(datasets.source.processed.val)\n",
    "target_val_label_accuracy, target_val_label_loss = jig.test(datasets.target.processed.val)\n",
    "\n",
    "history = jig.get_history()\n",
    "\n",
    "total_epochs_trained = len(history[\"epoch_indices\"])\n",
    "\n",
    "val_dl = Iterable_Aggregator((datasets.source.original.val,datasets.target.original.val))\n",
    "\n",
    "confusion = ptn_confusion_by_domain_over_dataloader(model, p.device, val_dl)\n",
    "per_domain_accuracy = per_domain_accuracy_from_confusion(confusion)\n",
    "\n",
    "# Add a key to per_domain_accuracy for if it was a source domain\n",
    "for domain, accuracy in per_domain_accuracy.items():\n",
    "    per_domain_accuracy[domain] = {\n",
    "        \"accuracy\": accuracy,\n",
    "        \"source?\": domain in p.domains_source\n",
    "    }\n",
    "\n",
    "# Do an independent accuracy assesment JUST TO BE SURE!\n",
    "# _source_test_label_accuracy = independent_accuracy_assesment(model, datasets.source.processed.test, p.device)\n",
    "# _target_test_label_accuracy = independent_accuracy_assesment(model, datasets.target.processed.test, p.device)\n",
    "# _source_val_label_accuracy = independent_accuracy_assesment(model, datasets.source.processed.val, p.device)\n",
    "# _target_val_label_accuracy = independent_accuracy_assesment(model, datasets.target.processed.val, p.device)\n",
    "\n",
    "# assert(_source_test_label_accuracy == source_test_label_accuracy)\n",
    "# assert(_target_test_label_accuracy == target_test_label_accuracy)\n",
    "# assert(_source_val_label_accuracy == source_val_label_accuracy)\n",
    "# assert(_target_val_label_accuracy == target_val_label_accuracy)\n",
    "\n",
    "experiment = {\n",
    "    \"experiment_name\": p.experiment_name,\n",
    "    \"parameters\": dict(p),\n",
    "    \"results\": {\n",
    "        \"source_test_label_accuracy\": source_test_label_accuracy,\n",
    "        \"source_test_label_loss\": source_test_label_loss,\n",
    "        \"target_test_label_accuracy\": target_test_label_accuracy,\n",
    "        \"target_test_label_loss\": target_test_label_loss,\n",
    "        \"source_val_label_accuracy\": source_val_label_accuracy,\n",
    "        \"source_val_label_loss\": source_val_label_loss,\n",
    "        \"target_val_label_accuracy\": target_val_label_accuracy,\n",
    "        \"target_val_label_loss\": target_val_label_loss,\n",
    "        \"total_epochs_trained\": total_epochs_trained,\n",
    "        \"total_experiment_time_secs\": total_experiment_time_secs,\n",
    "        \"confusion\": confusion,\n",
    "        \"per_domain_accuracy\": per_domain_accuracy,\n",
    "    },\n",
    "    \"history\": history,\n",
    "    \"dataset_metrics\": get_dataset_metrics(datasets, \"ptn\"),\n",
    "}"
   ]
  },
  {
   "cell_type": "code",
   "execution_count": 25,
   "id": "54a21829",
   "metadata": {
    "execution": {
     "iopub.execute_input": "2022-03-23T08:42:33.982399Z",
     "iopub.status.busy": "2022-03-23T08:42:33.981674Z",
     "iopub.status.idle": "2022-03-23T08:42:34.198600Z",
     "shell.execute_reply": "2022-03-23T08:42:34.197890Z"
    },
    "papermill": {
     "duration": 0.293516,
     "end_time": "2022-03-23T08:42:34.198759",
     "exception": false,
     "start_time": "2022-03-23T08:42:33.905243",
     "status": "completed"
    },
    "tags": []
   },
   "outputs": [
    {
     "data": {
      "image/png": "[encoded data removed]",
      "text/plain": [
       "<Figure size 1080x504 with 1 Axes>"
      ]
     },
     "metadata": {
      "needs_background": "light"
     },
     "output_type": "display_data"
    }
   ],
   "source": [
    "ax = get_loss_curve(experiment)\n",
    "plt.show()"
   ]
  },
  {
   "cell_type": "code",
   "execution_count": 26,
   "id": "fd8a0f60",
   "metadata": {
    "execution": {
     "iopub.execute_input": "2022-03-23T08:42:34.351919Z",
     "iopub.status.busy": "2022-03-23T08:42:34.351545Z",
     "iopub.status.idle": "2022-03-23T08:42:34.676887Z",
     "shell.execute_reply": "2022-03-23T08:42:34.677557Z"
    },
    "papermill": {
     "duration": 0.402228,
     "end_time": "2022-03-23T08:42:34.677740",
     "exception": false,
     "start_time": "2022-03-23T08:42:34.275512",
     "status": "completed"
    },
    "tags": []
   },
   "outputs": [
    {
     "data": {
      "text/plain": [
       "<AxesSubplot:title={'center':'Results'}>"
      ]
     },
     "execution_count": 26,
     "metadata": {},
     "output_type": "execute_result"
    },
    {
     "data": {
      "image/png": "[encoded data removed]",
      "text/plain": [
       "<Figure size 1080x504 with 1 Axes>"
      ]
     },
     "metadata": {
      "needs_background": "light"
     },
     "output_type": "display_data"
    }
   ],
   "source": [
    "get_results_table(experiment)"
   ]
  },
  {
   "cell_type": "code",
   "execution_count": 27,
   "id": "cf8dc689",
   "metadata": {
    "execution": {
     "iopub.execute_input": "2022-03-23T08:42:34.842398Z",
     "iopub.status.busy": "2022-03-23T08:42:34.841839Z",
     "iopub.status.idle": "2022-03-23T08:42:35.092648Z",
     "shell.execute_reply": "2022-03-23T08:42:35.091920Z"
    },
    "papermill": {
     "duration": 0.331067,
     "end_time": "2022-03-23T08:42:35.092808",
     "exception": false,
     "start_time": "2022-03-23T08:42:34.761741",
     "status": "completed"
    },
    "tags": []
   },
   "outputs": [
    {
     "data": {
      "text/plain": [
       "<AxesSubplot:title={'center':'Per Domain Validation Accuracy'}, xlabel='domain'>"
      ]
     },
     "execution_count": 27,
     "metadata": {},
     "output_type": "execute_result"
    },
    {
     "data": {
      "image/png": "[encoded data removed]",
      "text/plain": [
       "<Figure size 1080x504 with 1 Axes>"
      ]
     },
     "metadata": {
      "needs_background": "light"
     },
     "output_type": "display_data"
    }
   ],
   "source": [
    "get_domain_accuracies(experiment)"
   ]
  },
  {
   "cell_type": "code",
   "execution_count": 28,
   "id": "a74ae082",
   "metadata": {
    "execution": {
     "iopub.execute_input": "2022-03-23T08:42:35.259425Z",
     "iopub.status.busy": "2022-03-23T08:42:35.259049Z",
     "iopub.status.idle": "2022-03-23T08:42:35.285851Z",
     "shell.execute_reply": "2022-03-23T08:42:35.285135Z"
    },
    "papermill": {
     "duration": 0.109608,
     "end_time": "2022-03-23T08:42:35.286008",
     "exception": false,
     "start_time": "2022-03-23T08:42:35.176400",
     "status": "completed"
    },
    "tags": []
   },
   "outputs": [
    {
     "name": "stdout",
     "output_type": "stream",
     "text": [
      "Source Test Label Accuracy: 0.5913411458333333 Target Test Label Accuracy: 0.6906346949327818\n",
      "Source Val Label Accuracy: 0.5875325520833333 Target Val Label Accuracy: 0.6977848101265823\n"
     ]
    }
   ],
   "source": [
    "print(\"Source Test Label Accuracy:\", experiment[\"results\"][\"source_test_label_accuracy\"], \"Target Test Label Accuracy:\", experiment[\"results\"][\"target_test_label_accuracy\"])\n",
    "print(\"Source Val Label Accuracy:\", experiment[\"results\"][\"source_val_label_accuracy\"], \"Target Val Label Accuracy:\", experiment[\"results\"][\"target_val_label_accuracy\"])"
   ]
  },
  {
   "cell_type": "code",
   "execution_count": 29,
   "id": "dacca602",
   "metadata": {
    "execution": {
     "iopub.execute_input": "2022-03-23T08:42:35.453517Z",
     "iopub.status.busy": "2022-03-23T08:42:35.452964Z",
     "iopub.status.idle": "2022-03-23T08:42:35.480676Z",
     "shell.execute_reply": "2022-03-23T08:42:35.481137Z"
    },
    "papermill": {
     "duration": 0.111379,
     "end_time": "2022-03-23T08:42:35.481261",
     "exception": false,
     "start_time": "2022-03-23T08:42:35.369882",
     "status": "completed"
    },
    "tags": [
     "experiment_json"
    ]
   },
   "outputs": [
    {
     "data": {
      "text/plain": [
       "'{\"experiment_name\": \"tl_1v2:wisig-oracle.run1.limited\", \"parameters\": {\"experiment_name\": \"tl_1v2:wisig-oracle.run1.limited\", \"device\": \"cuda\", \"lr\": 0.0001, \"n_shot\": 3, \"n_query\": 2, \"train_k_factor\": 3, \"val_k_factor\": 2, \"test_k_factor\": 2, \"torch_default_dtype\": \"torch.float32\", \"n_epoch\": 50, \"patience\": 3, \"criteria_for_best\": \"target_accuracy\", \"x_net\": [{\"class\": \"nnReshape\", \"kargs\": {\"shape\": [-1, 1, 2, 256]}}, {\"class\": \"Conv2d\", \"kargs\": {\"in_channels\": 1, \"out_channels\": 256, \"kernel_size\": [1, 7], \"bias\": false, \"padding\": [0, 3]}}, {\"class\": \"ReLU\", \"kargs\": {\"inplace\": true}}, {\"class\": \"BatchNorm2d\", \"kargs\": {\"num_features\": 256}}, {\"class\": \"Conv2d\", \"kargs\": {\"in_channels\": 256, \"out_channels\": 80, \"kernel_size\": [2, 7], \"bias\": true, \"padding\": [0, 3]}}, {\"class\": \"ReLU\", \"kargs\": {\"inplace\": true}}, {\"class\": \"BatchNorm2d\", \"kargs\": {\"num_features\": 80}}, {\"class\": \"Flatten\", \"kargs\": {}}, {\"class\": \"Linear\", \"kargs\": {\"in_features\": 20480, \"out_features\": 256}}, {\"class\": \"ReLU\", \"kargs\": {\"inplace\": true}}, {\"class\": \"BatchNorm1d\", \"kargs\": {\"num_features\": 256}}, {\"class\": \"Linear\", \"kargs\": {\"in_features\": 256, \"out_features\": 256}}], \"NUM_LOGS_PER_EPOCH\": 10, \"BEST_MODEL_PATH\": \"./best_model.pth\", \"n_way\": 16, \"datasets\": [{\"labels\": [\"1-10\", \"1-12\", \"1-14\", \"1-16\", \"1-18\", \"1-19\", \"1-8\", \"10-11\", \"10-17\", \"10-4\", \"10-7\", \"11-1\", \"11-10\", \"11-19\", \"11-20\", \"11-4\", \"11-7\", \"12-19\", \"12-20\", \"12-7\", \"13-14\", \"13-18\", \"13-19\", \"13-20\", \"13-3\", \"13-7\", \"14-10\", \"14-11\", \"14-12\", \"14-13\", \"14-14\", \"14-19\", \"14-20\", \"14-7\", \"14-8\", \"14-9\", \"15-1\", \"15-19\", \"15-6\", \"16-1\", \"16-16\", \"16-19\", \"16-20\", \"17-10\", \"17-11\", \"18-1\", \"18-10\", \"18-11\", \"18-12\", \"18-13\", \"18-14\", \"18-15\", \"18-16\", \"18-17\", \"18-19\", \"18-2\", \"18-20\", \"18-4\", \"18-5\", \"18-7\", \"18-8\", \"18-9\", \"19-1\", \"19-10\", \"19-11\", \"19-12\", \"19-13\", \"19-14\", \"19-15\", \"19-19\", \"19-2\", \"19-20\", \"19-3\", \"19-4\", \"19-6\", \"19-7\", \"19-8\", \"19-9\", \"2-1\", \"2-13\", \"2-15\", \"2-3\", \"2-4\", \"2-5\", \"2-6\", \"2-7\", \"2-8\", \"20-1\", \"20-12\", \"20-14\", \"20-15\", \"20-16\", \"20-18\", \"20-19\", \"20-20\", \"20-3\", \"20-4\", \"20-5\", \"20-7\", \"20-8\", \"3-1\", \"3-13\", \"3-18\", \"3-2\", \"3-8\", \"4-1\", \"4-10\", \"4-11\", \"5-1\", \"5-5\", \"6-1\", \"6-15\", \"6-6\", \"7-10\", \"7-11\", \"7-12\", \"7-13\", \"7-14\", \"7-7\", \"7-8\", \"7-9\", \"8-1\", \"8-13\", \"8-14\", \"8-18\", \"8-20\", \"8-3\", \"8-8\", \"9-1\", \"9-7\"], \"domains\": [1, 2, 3, 4], \"num_examples_per_domain_per_label\": -1, \"pickle_path\": \"/root/csc500-main/datasets/wisig.node3-19.stratified_ds.2022A.pkl\", \"source_or_target_dataset\": \"target\", \"x_transforms\": [\"unit_mag\"], \"episode_transforms\": [], \"domain_prefix\": \"Wisig_\"}, {\"labels\": [\"3123D52\", \"3123D65\", \"3123D79\", \"3123D80\", \"3123D54\", \"3123D70\", \"3123D7B\", \"3123D89\", \"3123D58\", \"3123D76\", \"3123D7D\", \"3123EFE\", \"3123D64\", \"3123D78\", \"3123D7E\", \"3124E4A\"], \"domains\": [32, 38, 8, 44, 14, 50, 20, 26], \"num_examples_per_domain_per_label\": 2000, \"pickle_path\": \"/root/csc500-main/datasets/oracle.Run1_10kExamples_stratified_ds.2022A.pkl\", \"source_or_target_dataset\": \"source\", \"x_transforms\": [\"unit_mag\"], \"episode_transforms\": [], \"domain_prefix\": \"ORACLE.run1\"}], \"dataset_seed\": 500, \"seed\": 500, \"x_shape\": [2, 256], \"domains_source\": [\"ORACLE.run132\", \"ORACLE.run138\", \"ORACLE.run18\", \"ORACLE.run144\", \"ORACLE.run114\", \"ORACLE.run150\", \"ORACLE.run120\", \"ORACLE.run126\"], \"domains_target\": [\"Wisig_1\", \"Wisig_2\", \"Wisig_3\", \"Wisig_4\"]}, \"results\": {\"source_test_label_accuracy\": 0.5913411458333333, \"source_test_label_loss\": 1.685462474822998, \"target_test_label_accuracy\": 0.6906346949327818, \"target_test_label_loss\": 18.048280715942383, \"source_val_label_accuracy\": 0.5875325520833333, \"source_val_label_loss\": 1.710163950920105, \"target_val_label_accuracy\": 0.6977848101265823, \"target_val_label_loss\": 18.159400939941406, \"total_epochs_trained\": 17, \"total_experiment_time_secs\": 3368.7157831192017, \"confusion\": {\"ORACLE.run150\": {\"7\": {\"13\": 42, \"5\": 33, \"7\": 146, \"10\": 12, \"4\": 1, \"6\": 5, \"0\": 1}, \"10\": {\"10\": 206, \"5\": 1, \"7\": 15, \"0\": 12, \"8\": 4, \"13\": 2}, \"0\": {\"0\": 182, \"2\": 41, \"10\": 15, \"5\": 1, \"13\": 1}, \"11\": {\"11\": 182, \"9\": 42, \"15\": 11, \"14\": 2, \"12\": 1, \"1\": 2}, \"2\": {\"2\": 205, \"0\": 35}, \"14\": {\"14\": 227, \"12\": 11, \"11\": 2}, \"9\": {\"9\": 184, \"11\": 40, \"14\": 1, \"12\": 15}, \"13\": {\"13\": 110, \"7\": 49, \"5\": 55, \"10\": 5, \"0\": 1, \"4\": 6, \"6\": 14}, \"8\": {\"8\": 228, \"10\": 9, \"3\": 3}, \"15\": {\"15\": 157, \"1\": 55, \"11\": 10, \"4\": 16, \"6\": 2}, \"4\": {\"6\": 47, \"1\": 42, \"5\": 22, \"7\": 9, \"4\": 79, \"15\": 37, \"13\": 4}, \"5\": {\"6\": 42, \"1\": 11, \"5\": 61, \"4\": 18, \"13\": 51, \"7\": 56, \"10\": 1}, \"3\": {\"3\": 235, \"8\": 5}, \"1\": {\"4\": 32, \"1\": 127, \"6\": 24, \"15\": 55, \"11\": 2}, \"6\": {\"6\": 107, \"1\": 24, \"13\": 23, \"4\": 46, \"5\": 34, \"15\": 3, \"7\": 2, \"0\": 1}, \"12\": {\"12\": 219, \"9\": 12, \"14\": 7, \"11\": 2}}, \"ORACLE.run114\": {\"14\": {\"14\": 135, \"2\": 16, \"10\": 4, \"6\": 29, \"3\": 18, \"13\": 33, \"4\": 5}, \"6\": {\"13\": 68, \"6\": 113, \"2\": 20, \"14\": 35, \"3\": 2, \"4\": 2}, \"5\": {\"5\": 132, \"3\": 5, \"2\": 19, \"1\": 36, \"4\": 43, \"13\": 1, \"7\": 4}, \"15\": {\"15\": 208, \"2\": 2, \"7\": 28, \"5\": 2}, \"11\": {\"11\": 196, \"10\": 24, \"9\": 15, \"0\": 5}, \"8\": {\"8\": 240}, \"12\": {\"12\": 235, \"9\": 5}, \"1\": {\"1\": 188, \"4\": 13, \"5\": 37, \"7\": 2}, \"2\": {\"13\": 17, \"14\": 29, \"4\": 22, \"2\": 76, \"6\": 35, \"3\": 20, \"5\": 35, \"1\": 3, \"15\": 3}, \"13\": {\"14\": 49, \"6\": 86, \"13\": 75, \"2\": 19, \"10\": 2, \"3\": 3, \"4\": 1, \"5\": 5}, \"3\": {\"3\": 152, \"4\": 48, \"5\": 5, \"10\": 5, \"0\": 3, \"14\": 18, \"2\": 7, \"13\": 1, \"1\": 1}, \"0\": {\"0\": 157, \"10\": 68, \"3\": 7, \"11\": 7, \"9\": 1}, \"9\": {\"9\": 232, \"11\": 5, \"12\": 2, \"0\": 1}, \"4\": {\"3\": 53, \"4\": 104, \"2\": 21, \"5\": 46, \"1\": 14, \"14\": 1, \"13\": 1}, \"7\": {\"7\": 204, \"15\": 24, \"1\": 9, \"2\": 1, \"5\": 2}, \"10\": {\"10\": 177, \"0\": 54, \"3\": 1, \"14\": 3, \"11\": 5}}, \"ORACLE.run132\": {\"4\": {\"5\": 17, \"14\": 8, \"4\": 89, \"7\": 32, \"0\": 49, \"2\": 37, \"13\": 6, \"8\": 2}, \"14\": {\"5\": 14, \"11\": 77, \"13\": 20, \"7\": 46, \"4\": 18, \"14\": 47, \"2\": 5, \"0\": 4, \"3\": 5, \"8\": 4}, \"5\": {\"4\": 20, \"5\": 42, \"13\": 67, \"8\": 32, \"2\": 2, \"7\": 25, \"14\": 17, \"0\": 19, \"11\": 7, \"3\": 9}, \"10\": {\"10\": 240}, \"13\": {\"13\": 76, \"3\": 25, \"5\": 46, \"11\": 11, \"8\": 25, \"7\": 19, \"4\": 16, \"14\": 13, \"0\": 9}, \"9\": {\"9\": 237, \"12\": 3}, \"6\": {\"6\": 240}, \"3\": {\"3\": 202, \"11\": 8, \"5\": 8, \"13\": 13, \"8\": 8, \"14\": 1}, \"15\": {\"15\": 234, \"8\": 3, \"3\": 3}, \"7\": {\"5\": 23, \"14\": 64, \"4\": 37, \"7\": 62, \"13\": 23, \"11\": 13, \"0\": 9, \"2\": 5, \"3\": 2, \"8\": 2}, \"12\": {\"12\": 240}, \"8\": {\"8\": 160, \"13\": 24, \"0\": 28, \"5\": 18, \"3\": 4, \"4\": 6}, \"11\": {\"11\": 162, \"7\": 9, \"14\": 45, \"5\": 5, \"3\": 12, \"13\": 7}, \"2\": {\"2\": 165, \"0\": 17, \"4\": 52, \"7\": 3, \"14\": 2, \"5\": 1}, \"1\": {\"1\": 238, \"10\": 2}, \"0\": {\"0\": 101, \"4\": 56, \"13\": 7, \"7\": 15, \"5\": 11, \"8\": 33, \"2\": 15, \"14\": 2}}, \"ORACLE.run144\": {\"8\": {\"8\": 158, \"0\": 66, \"15\": 13, \"5\": 3}, \"11\": {\"11\": 192, \"13\": 26, \"6\": 21, \"9\": 1}, \"14\": {\"4\": 100, \"5\": 7, \"14\": 126, \"15\": 7}, \"10\": {\"10\": 152, \"1\": 32, \"12\": 27, \"2\": 27, \"3\": 2}, \"3\": {\"1\": 29, \"3\": 203, \"2\": 6, \"12\": 2}, \"15\": {\"0\": 18, \"15\": 186, \"14\": 23, \"5\": 11, \"4\": 2}, \"2\": {\"2\": 156, \"7\": 39, \"1\": 13, \"10\": 24, \"6\": 1, \"3\": 7}, \"12\": {\"1\": 60, \"12\": 147, \"3\": 7, \"10\": 26}, \"4\": {\"4\": 163, \"14\": 73, \"15\": 4}, \"1\": {\"1\": 118, \"10\": 14, \"12\": 61, \"3\": 28, \"2\": 17, \"7\": 2}, \"0\": {\"8\": 73, \"0\": 127, \"5\": 25, \"15\": 15}, \"9\": {\"7\": 67, \"6\": 30, \"13\": 33, \"9\": 108, \"2\": 2}, \"5\": {\"0\": 20, \"5\": 199, \"14\": 8, \"8\": 2, \"4\": 4, \"15\": 7}, \"6\": {\"6\": 132, \"13\": 46, \"11\": 19, \"9\": 27, \"7\": 15, \"2\": 1}, \"7\": {\"9\": 41, \"7\": 147, \"6\": 11, \"10\": 1, \"2\": 37, \"13\": 1, \"3\": 1, \"1\": 1}, \"13\": {\"13\": 135, \"6\": 49, \"9\": 36, \"7\": 1, \"11\": 18, \"4\": 1}}, \"ORACLE.run18\": {\"13\": {\"13\": 61, \"4\": 34, \"10\": 36, \"0\": 54, \"14\": 24, \"6\": 21, \"11\": 2, \"7\": 7, \"5\": 1}, \"3\": {\"3\": 149, \"2\": 41, \"12\": 42, \"15\": 8}, \"15\": {\"15\": 128, \"12\": 66, \"8\": 24, \"3\": 8, \"2\": 11, \"6\": 1, \"7\": 2}, \"4\": {\"6\": 33, \"4\": 78, \"14\": 34, \"10\": 18, \"13\": 44, \"0\": 25, \"11\": 1, \"7\": 4, \"8\": 2, \"1\": 1}, \"7\": {\"6\": 69, \"7\": 140, \"4\": 5, \"2\": 7, \"8\": 4, \"0\": 8, \"15\": 2, \"13\": 3, \"11\": 2}, \"2\": {\"3\": 58, \"12\": 5, \"15\": 10, \"2\": 152, \"7\": 6, \"8\": 3, \"6\": 6}, \"1\": {\"14\": 21, \"11\": 100, \"1\": 93, \"5\": 14, \"10\": 9, \"4\": 2, \"13\": 1}, \"0\": {\"7\": 23, \"0\": 94, \"4\": 21, \"13\": 68, \"6\": 24, \"10\": 5, \"14\": 5}, \"12\": {\"15\": 72, \"2\": 9, \"12\": 104, \"3\": 47, \"8\": 8}, \"6\": {\"7\": 58, \"4\": 37, \"6\": 93, \"14\": 8, \"8\": 9, \"13\": 11, \"0\": 22, \"2\": 1, \"15\": 1}, \"11\": {\"8\": 8, \"14\": 13, \"11\": 100, \"1\": 91, \"4\": 4, \"5\": 16, \"10\": 6, \"13\": 1, \"6\": 1}, \"9\": {\"9\": 240}, \"5\": {\"10\": 21, \"5\": 204, \"1\": 9, \"14\": 4, \"11\": 2}, \"10\": {\"10\": 118, \"14\": 51, \"0\": 4, \"13\": 23, \"5\": 22, \"4\": 13, \"6\": 2, \"1\": 5, \"11\": 2}, \"14\": {\"10\": 60, \"6\": 6, \"14\": 75, \"4\": 46, \"11\": 13, \"1\": 17, \"13\": 18, \"0\": 5}, \"8\": {\"15\": 44, \"8\": 176, \"12\": 2, \"6\": 8, \"11\": 2, \"4\": 2, \"7\": 4, \"14\": 2}}, \"ORACLE.run120\": {\"6\": {\"6\": 186, \"7\": 13, \"14\": 34, \"10\": 3, \"8\": 4}, \"11\": {\"11\": 234, \"7\": 5, \"6\": 1}, \"5\": {\"1\": 41, \"12\": 33, \"0\": 41, \"5\": 60, \"9\": 10, \"4\": 7, \"3\": 15, \"15\": 28, \"2\": 4, \"13\": 1}, \"14\": {\"14\": 117, \"6\": 54, \"8\": 14, \"10\": 53, \"4\": 2}, \"2\": {\"2\": 79, \"13\": 28, \"9\": 42, \"7\": 36, \"3\": 21, \"12\": 10, \"8\": 7, \"15\": 6, \"4\": 1, \"1\": 8, \"6\": 1, \"5\": 1}, \"7\": {\"7\": 113, \"9\": 23, \"8\": 26, \"2\": 37, \"4\": 3, \"11\": 2, \"3\": 16, \"6\": 11, \"13\": 4, \"10\": 1, \"12\": 4}, \"3\": {\"3\": 49, \"7\": 16, \"12\": 36, \"9\": 34, \"1\": 10, \"8\": 22, \"0\": 9, \"4\": 14, \"5\": 19, \"2\": 26, \"14\": 1, \"10\": 2, \"15\": 2}, \"4\": {\"8\": 39, \"4\": 140, \"3\": 27, \"12\": 8, \"9\": 3, \"2\": 1, \"0\": 3, \"10\": 13, \"7\": 4, \"6\": 1, \"14\": 1}, \"9\": {\"9\": 55, \"2\": 46, \"13\": 9, \"7\": 25, \"3\": 43, \"12\": 28, \"4\": 4, \"0\": 2, \"15\": 6, \"5\": 4, \"8\": 11, \"1\": 6, \"6\": 1}, \"12\": {\"12\": 46, \"1\": 21, \"5\": 30, \"15\": 10, \"2\": 17, \"4\": 18, \"3\": 38, \"8\": 5, \"0\": 24, \"13\": 5, \"9\": 24, \"7\": 2}, \"0\": {\"15\": 31, \"12\": 29, \"0\": 64, \"5\": 57, \"13\": 3, \"3\": 11, \"1\": 31, \"4\": 6, \"9\": 4, \"2\": 4}, \"10\": {\"14\": 70, \"10\": 108, \"4\": 22, \"7\": 3, \"8\": 33, \"6\": 4}, \"8\": {\"7\": 21, \"8\": 92, \"4\": 44, \"10\": 32, \"14\": 13, \"12\": 3, \"3\": 21, \"2\": 2, \"9\": 3, \"6\": 9}, \"13\": {\"13\": 173, \"2\": 34, \"9\": 5, \"15\": 16, \"3\": 1, \"12\": 4, \"1\": 4, \"7\": 3}, \"1\": {\"1\": 42, \"5\": 66, \"15\": 41, \"2\": 7, \"0\": 34, \"12\": 29, \"3\": 8, \"13\": 7, \"9\": 5, \"4\": 1}, \"15\": {\"15\": 120, \"13\": 20, \"0\": 25, \"1\": 33, \"5\": 19, \"2\": 6, \"12\": 10, \"9\": 3, \"3\": 4}}, \"ORACLE.run138\": {\"3\": {\"3\": 186, \"6\": 5, \"9\": 27, \"0\": 10, \"7\": 8, \"5\": 4}, \"8\": {\"10\": 7, \"0\": 32, \"8\": 121, \"5\": 55, \"15\": 15, \"7\": 7, \"13\": 3}, \"0\": {\"5\": 35, \"0\": 60, \"8\": 60, \"7\": 57, \"3\": 12, \"12\": 1, \"4\": 1, \"6\": 2, \"10\": 5, \"9\": 3, \"15\": 3, \"13\": 1}, \"2\": {\"2\": 209, \"14\": 20, \"13\": 8, \"10\": 3}, \"4\": {\"4\": 215, \"12\": 24, \"10\": 1}, \"7\": {\"7\": 161, \"0\": 56, \"10\": 1, \"8\": 10, \"5\": 12}, \"12\": {\"12\": 193, \"4\": 14, \"10\": 30, \"11\": 2, \"7\": 1}, \"6\": {\"6\": 168, \"9\": 70, \"5\": 2}, \"15\": {\"8\": 12, \"15\": 128, \"13\": 69, \"1\": 21, \"5\": 8, \"10\": 2}, \"11\": {\"11\": 154, \"14\": 75, \"12\": 7, \"2\": 3, \"4\": 1}, \"9\": {\"9\": 126, \"3\": 22, \"6\": 88, \"5\": 4}, \"14\": {\"14\": 182, \"11\": 38, \"2\": 17, \"12\": 3}, \"10\": {\"10\": 154, \"12\": 30, \"13\": 21, \"8\": 17, \"14\": 5, \"0\": 7, \"15\": 6}, \"5\": {\"5\": 82, \"8\": 63, \"6\": 11, \"0\": 34, \"15\": 11, \"7\": 14, \"13\": 4, \"9\": 11, \"3\": 8, \"1\": 1, \"10\": 1}, \"1\": {\"1\": 218, \"15\": 19, \"6\": 1, \"5\": 1, \"13\": 1}, \"13\": {\"15\": 56, \"13\": 157, \"10\": 15, \"2\": 7, \"0\": 1, \"8\": 1, \"1\": 2, \"5\": 1}}, \"ORACLE.run126\": {\"5\": {\"15\": 55, \"5\": 100, \"13\": 34, \"2\": 17, \"9\": 22, \"3\": 2, \"8\": 5, \"7\": 1, \"6\": 2, \"10\": 2}, \"8\": {\"8\": 55, \"1\": 11, \"10\": 29, \"0\": 20, \"6\": 15, \"15\": 25, \"7\": 21, \"14\": 12, \"3\": 3, \"4\": 18, \"9\": 19, \"5\": 8, \"2\": 4}, \"4\": {\"7\": 31, \"14\": 45, \"2\": 2, \"0\": 28, \"1\": 34, \"4\": 50, \"8\": 27, \"10\": 16, \"9\": 4, \"3\": 3}, \"12\": {\"12\": 232, \"11\": 8}, \"6\": {\"9\": 32, \"6\": 129, \"8\": 17, \"0\": 8, \"10\": 28, \"5\": 4, \"15\": 11, \"13\": 8, \"14\": 2, \"4\": 1}, \"7\": {\"7\": 87, \"8\": 19, \"2\": 44, \"4\": 22, \"3\": 38, \"14\": 6, \"0\": 4, \"1\": 6, \"9\": 5, \"10\": 3, \"5\": 4, \"15\": 1, \"6\": 1}, \"10\": {\"4\": 25, \"9\": 5, \"10\": 63, \"0\": 43, \"6\": 24, \"8\": 38, \"1\": 13, \"14\": 21, \"7\": 5, \"15\": 3}, \"0\": {\"10\": 40, \"9\": 3, \"14\": 50, \"1\": 31, \"4\": 28, \"8\": 26, \"0\": 46, \"7\": 11, \"6\": 4, \"3\": 1}, \"15\": {\"8\": 19, \"15\": 56, \"9\": 49, \"6\": 12, \"5\": 54, \"2\": 14, \"13\": 17, \"7\": 11, \"0\": 2, \"10\": 5, \"4\": 1}, \"9\": {\"15\": 66, \"6\": 36, \"8\": 28, \"13\": 11, \"9\": 54, \"5\": 26, \"0\": 3, \"4\": 3, \"10\": 7, \"7\": 3, \"2\": 2, \"3\": 1}, \"11\": {\"11\": 228, \"12\": 12}, \"14\": {\"14\": 62, \"8\": 15, \"1\": 60, \"10\": 27, \"7\": 6, \"4\": 36, \"6\": 1, \"0\": 32, \"3\": 1}, \"2\": {\"2\": 72, \"15\": 18, \"0\": 2, \"7\": 35, \"3\": 75, \"5\": 23, \"8\": 7, \"13\": 2, \"9\": 5, \"4\": 1}, \"13\": {\"13\": 147, \"9\": 13, \"5\": 55, \"15\": 20, \"6\": 4, \"2\": 1}, \"3\": {\"7\": 46, \"2\": 65, \"3\": 118, \"9\": 1, \"15\": 4, \"8\": 5, \"0\": 1}, \"1\": {\"8\": 4, \"14\": 54, \"4\": 45, \"1\": 90, \"0\": 23, \"3\": 2, \"10\": 16, \"7\": 6}}, \"Wisig_3\": {\"99\": {\"99\": 34, \"25\": 1, \"97\": 1}, \"8\": {\"49\": 2, \"8\": 97, \"72\": 1, \"101\": 2, \"12\": 7, \"124\": 3, \"108\": 1, \"10\": 5, \"111\": 4, \"0\": 2}, \"65\": {\"18\": 1, \"98\": 2, \"65\": 6, \"77\": 1, \"46\": 1, \"91\": 1}, \"117\": {\"117\": 100, \"7\": 1, \"113\": 4, \"43\": 2, \"67\": 1, \"26\": 1, \"39\": 2, \"88\": 1}, \"18\": {\"18\": 114, \"11\": 1, \"33\": 2, \"113\": 2, \"81\": 2, \"126\": 1, \"39\": 2}, \"39\": {\"117\": 9, \"39\": 51, \"23\": 2, \"120\": 2, \"18\": 4, \"30\": 1, \"2\": 2, \"11\": 2, \"67\": 3, \"94\": 2, \"26\": 3, \"113\": 9, \"93\": 1, \"118\": 3, \"7\": 2, \"109\": 1, \"121\": 1, \"10\": 4, \"126\": 2, \"40\": 2, \"12\": 1, \"16\": 1}, \"102\": {\"102\": 88, \"62\": 1, \"118\": 4, \"33\": 22, \"69\": 4, \"109\": 4, \"116\": 1}, \"76\": {\"102\": 1, \"76\": 15}, \"101\": {\"101\": 35, \"106\": 1, \"59\": 2, \"73\": 6, \"12\": 2, \"111\": 1, \"18\": 1, \"51\": 2, \"129\": 1, \"8\": 1}, \"57\": {\"57\": 18, \"32\": 2}, \"86\": {\"86\": 23, \"110\": 2, \"34\": 1, \"4\": 1, \"101\": 1}, \"11\": {\"11\": 49, \"74\": 1, \"84\": 2, \"14\": 9, \"92\": 1, \"78\": 3, \"103\": 1, \"62\": 2, \"110\": 4, \"107\": 7, \"16\": 13, \"90\": 11, \"129\": 1, \"87\": 13, \"93\": 8, \"128\": 1, \"44\": 1, \"40\": 3, \"18\": 1, \"100\": 1}, \"98\": {\"65\": 2, \"98\": 101, \"85\": 3, \"77\": 2, \"110\": 1, \"34\": 1, \"108\": 2, \"102\": 1, \"124\": 5, \"111\": 2, \"127\": 3, \"12\": 2, \"10\": 1, \"72\": 1, \"23\": 1}, \"42\": {\"47\": 1, \"101\": 2, \"15\": 3, \"108\": 2, \"42\": 9, \"75\": 1, \"106\": 1, \"127\": 1, \"73\": 1, \"83\": 1, \"111\": 1, \"124\": 1, \"9\": 1, \"70\": 2, \"88\": 1}, \"47\": {\"47\": 11, \"42\": 1}, \"49\": {\"11\": 2, \"42\": 4, \"87\": 3, \"92\": 1, \"49\": 3, \"17\": 1, \"70\": 1, \"50\": 1, \"22\": 1, \"0\": 1, \"51\": 1, \"98\": 1, \"65\": 1, \"103\": 1, \"71\": 1, \"109\": 1}, \"111\": {\"111\": 122, \"72\": 2, \"12\": 4, \"26\": 1, \"125\": 3}, \"36\": {\"36\": 104, \"24\": 5, \"27\": 7}, \"124\": {\"124\": 94, \"69\": 1, \"85\": 2, \"128\": 1, \"12\": 4, \"111\": 1, \"102\": 1, \"98\": 2}, \"122\": {\"122\": 29, \"57\": 1, \"61\": 1, \"34\": 4, \"1\": 3, \"9\": 1, \"114\": 6, \"110\": 3, \"18\": 1, \"105\": 2, \"107\": 2, \"60\": 1, \"3\": 2, \"53\": 1, \"126\": 2, \"26\": 1}, \"93\": {\"93\": 126, \"16\": 7, \"11\": 7, \"87\": 1, \"23\": 1}, \"89\": {\"89\": 25, \"69\": 2, \"13\": 1}, \"51\": {\"51\": 14, \"73\": 1, \"52\": 1}, \"73\": {\"73\": 37, \"101\": 2, \"21\": 1}, \"45\": {\"45\": 11, \"28\": 1, \"14\": 1, \"23\": 2, \"115\": 1}, \"5\": {\"5\": 85, \"18\": 2, \"128\": 1, \"3\": 9, \"4\": 4, \"71\": 5, \"126\": 1, \"114\": 1, \"105\": 2, \"113\": 1, \"127\": 1}, \"69\": {\"69\": 65, \"33\": 4, \"89\": 1, \"44\": 1, \"84\": 3, \"102\": 5, \"122\": 1, \"119\": 2, \"106\": 1, \"109\": 1}, \"26\": {\"26\": 118, \"117\": 7, \"123\": 1, \"120\": 3, \"113\": 1}, \"1\": {\"1\": 86, \"114\": 8, \"128\": 2, \"122\": 3, \"32\": 3, \"107\": 1, \"60\": 1, \"98\": 1, \"21\": 1, \"87\": 1, \"5\": 1}, \"92\": {\"92\": 27, \"69\": 2, \"118\": 1, \"89\": 2}, \"96\": {\"96\": 16, \"33\": 1, \"109\": 1, \"80\": 1, \"64\": 1}, \"85\": {\"85\": 34, \"98\": 2}, \"114\": {\"114\": 108, \"105\": 3, \"102\": 1, \"32\": 1, \"3\": 4, \"4\": 3, \"1\": 3, \"60\": 2, \"103\": 1}, \"50\": {\"50\": 13, \"74\": 2, \"28\": 1}, \"81\": {\"81\": 32}, \"2\": {\"2\": 9, \"33\": 1, \"92\": 2, \"109\": 1, \"117\": 3, \"43\": 3, \"80\": 1, \"26\": 3, \"64\": 1, \"102\": 1, \"121\": 1, \"67\": 2}, \"33\": {\"33\": 110, \"69\": 4, \"92\": 1, \"102\": 26, \"90\": 2, \"109\": 1, \"21\": 1, \"117\": 1}, \"31\": {\"90\": 2, \"31\": 15, \"44\": 2, \"92\": 1}, \"90\": {\"90\": 91, \"31\": 1, \"33\": 1, \"84\": 4, \"87\": 7, \"16\": 4, \"11\": 2, \"62\": 6, \"26\": 1, \"82\": 1}, \"17\": {\"86\": 2, \"120\": 2, \"43\": 3, \"17\": 3, \"113\": 1, \"95\": 1, \"33\": 1, \"99\": 1, \"23\": 1, \"7\": 1}, \"116\": {\"116\": 17, \"33\": 1, \"44\": 3, \"109\": 1, \"23\": 1, \"62\": 2, \"96\": 1, \"82\": 2}, \"91\": {\"85\": 3, \"91\": 11, \"37\": 1, \"46\": 1, \"77\": 1, \"34\": 3, \"52\": 1, \"98\": 2, \"31\": 1}, \"120\": {\"120\": 18, \"26\": 2}, \"128\": {\"44\": 2, \"91\": 2, \"128\": 5, \"127\": 3, \"103\": 1, \"48\": 2, \"22\": 1, \"85\": 1, \"1\": 1, \"124\": 1, \"40\": 2, \"55\": 3, \"98\": 2, \"84\": 1, \"32\": 1, \"108\": 2, \"107\": 2}, \"78\": {\"78\": 5, \"17\": 1, \"28\": 1, \"88\": 1, \"60\": 2, \"87\": 1, \"16\": 2, \"39\": 1, \"14\": 1, \"113\": 1}, \"58\": {\"58\": 14, \"73\": 2}, \"23\": {\"34\": 1, \"120\": 2, \"98\": 3, \"46\": 1, \"19\": 2, \"121\": 1, \"88\": 1, \"126\": 2, \"81\": 2, \"118\": 1, \"127\": 1, \"18\": 2, \"70\": 1, \"85\": 2, \"43\": 2, \"112\": 1, \"2\": 1, \"7\": 1, \"117\": 2, \"123\": 1, \"3\": 1, \"17\": 1}, \"15\": {\"15\": 90, \"97\": 1, \"10\": 1, \"94\": 4, \"8\": 4, \"30\": 2, \"0\": 1, \"21\": 1}, \"74\": {\"74\": 13, \"28\": 2, \"78\": 1}, \"34\": {\"103\": 1, \"106\": 2, \"20\": 1, \"52\": 1, \"34\": 9, \"6\": 1, \"72\": 1, \"91\": 2, \"1\": 2, \"111\": 4, \"60\": 2, \"41\": 1, \"0\": 1, \"53\": 2, \"45\": 1, \"127\": 1}, \"103\": {\"103\": 7, \"114\": 4, \"55\": 2, \"1\": 1, \"86\": 2}, \"106\": {\"58\": 2, \"106\": 83, \"42\": 2, \"101\": 1, \"0\": 5, \"30\": 3, \"15\": 2, \"59\": 2}, \"44\": {\"44\": 56, \"31\": 1, \"82\": 1, \"64\": 1, \"62\": 4, \"87\": 1, \"84\": 3, \"118\": 1, \"90\": 4}, \"9\": {\"9\": 23, \"127\": 5, \"101\": 1, \"56\": 1, \"82\": 1, \"5\": 1}, \"97\": {\"106\": 2, \"97\": 14, \"0\": 1, \"85\": 1, \"58\": 1, \"75\": 1}, \"123\": {\"123\": 14, \"106\": 1, \"83\": 1}, \"6\": {\"15\": 2, \"6\": 10, \"101\": 1, \"54\": 4, \"98\": 4, \"72\": 2, \"12\": 1, \"33\": 1, \"34\": 2, \"91\": 2, \"106\": 2, \"30\": 1}, \"68\": {\"68\": 14, \"98\": 1, \"35\": 1}, \"24\": {\"24\": 27, \"15\": 4, \"27\": 5, \"36\": 4, \"30\": 2, \"97\": 1, \"25\": 1, \"94\": 3, \"8\": 1}, \"21\": {\"21\": 37, \"49\": 1, \"69\": 1, \"41\": 1, \"81\": 1, \"24\": 2, \"82\": 1, \"43\": 1, \"30\": 1, \"18\": 1, \"26\": 1}, \"83\": {\"83\": 21, \"70\": 1, \"0\": 2}, \"60\": {\"60\": 8, \"48\": 1, \"62\": 1, \"87\": 3, \"105\": 1, \"84\": 1, \"3\": 1, \"115\": 1, \"114\": 1, \"34\": 1, \"22\": 1, \"50\": 1, \"90\": 1, \"79\": 2, \"20\": 1, \"122\": 1, \"1\": 1, \"45\": 1}, \"87\": {\"87\": 75, \"84\": 8, \"11\": 7, \"16\": 9, \"107\": 1, \"14\": 1, \"40\": 5, \"62\": 1, \"90\": 9, \"93\": 1, \"29\": 1, \"44\": 2}, \"30\": {\"15\": 8, \"42\": 2, \"30\": 61, \"18\": 1, \"117\": 1, \"94\": 1, \"0\": 2, \"17\": 1, \"93\": 1, \"73\": 2, \"26\": 1, \"88\": 1, \"101\": 2}, \"43\": {\"123\": 2, \"118\": 3, \"43\": 30, \"23\": 2, \"96\": 1, \"117\": 5, \"26\": 2, \"33\": 3, \"89\": 2, \"109\": 3, \"21\": 2, \"69\": 1}, \"115\": {\"115\": 12, \"14\": 1, \"79\": 1, \"48\": 1, \"1\": 1}, \"40\": {\"40\": 111, \"103\": 2, \"126\": 1, \"87\": 3, \"80\": 1, \"16\": 2}, \"112\": {\"112\": 10, \"59\": 2, \"77\": 3, \"10\": 1}, \"66\": {\"66\": 15, \"7\": 1}, \"110\": {\"3\": 1, \"110\": 81, \"53\": 2, \"114\": 2, \"43\": 2, \"5\": 1, \"70\": 2, \"90\": 1}, \"3\": {\"3\": 90, \"95\": 2, \"86\": 4, \"5\": 4, \"71\": 3, \"0\": 1, \"105\": 2, \"107\": 2, \"32\": 1, \"108\": 1, \"114\": 2, \"4\": 2}, \"20\": {\"3\": 2, \"20\": 9, \"103\": 1, \"5\": 1, \"1\": 2, \"88\": 1}, \"28\": {\"28\": 12, \"79\": 1, \"45\": 1, \"50\": 2}, \"84\": {\"84\": 77, \"33\": 2, \"29\": 4, \"44\": 4, \"126\": 2, \"90\": 6, \"62\": 3, \"87\": 5, \"102\": 2, \"39\": 1, \"16\": 1, \"109\": 1}, \"79\": {\"79\": 9, \"28\": 2, \"115\": 1}, \"118\": {\"43\": 6, \"118\": 42, \"92\": 1, \"23\": 3, \"102\": 9, \"64\": 3, \"109\": 9, \"33\": 5, \"69\": 5, \"62\": 2, \"26\": 3, \"8\": 1, \"70\": 1, \"117\": 1, \"119\": 2, \"96\": 2, \"113\": 1, \"44\": 2, \"93\": 2}, \"56\": {\"7\": 3, \"72\": 1, \"56\": 7, \"0\": 1}, \"48\": {\"62\": 2, \"43\": 4, \"13\": 1, \"95\": 2, \"4\": 1, \"48\": 2, \"71\": 1, \"90\": 1, \"119\": 2}, \"77\": {\"77\": 15, \"128\": 1}, \"14\": {\"14\": 64, \"60\": 1, \"74\": 1, \"103\": 2, \"87\": 1, \"107\": 7, \"28\": 1, \"40\": 2, \"11\": 1}, \"64\": {\"64\": 18, \"118\": 1, \"92\": 1}, \"67\": {\"67\": 11, \"39\": 2, \"27\": 1, \"118\": 2}, \"62\": {\"62\": 95, \"102\": 2, \"44\": 7, \"87\": 3, \"119\": 1, \"84\": 6, \"116\": 3, \"69\": 1, \"90\": 1, \"31\": 1, \"82\": 1, \"26\": 1, \"33\": 1, \"109\": 1}, \"75\": {\"75\": 15, \"72\": 1}, \"63\": {\"63\": 12, \"43\": 1, \"83\": 1, \"81\": 1, \"64\": 1}, \"7\": {\"7\": 97, \"56\": 1, \"19\": 1, \"110\": 2, \"71\": 1, \"127\": 5, \"105\": 2, \"86\": 2, \"111\": 1}, \"125\": {\"125\": 87, \"106\": 2, \"111\": 7, \"94\": 2, \"39\": 1, \"127\": 1, \"118\": 1, \"62\": 1, \"124\": 2}, \"37\": {\"37\": 16}, \"121\": {\"121\": 16, \"120\": 3, \"113\": 2, \"13\": 1, \"27\": 1, \"23\": 1, \"26\": 2, \"81\": 3, \"39\": 1, \"102\": 2}, \"16\": {\"93\": 7, \"16\": 79, \"11\": 7, \"44\": 1, \"87\": 4, \"84\": 1, \"90\": 2, \"113\": 1, \"117\": 1, \"18\": 1}, \"35\": {\"35\": 7, \"51\": 2, \"124\": 2, \"70\": 1}, \"32\": {\"32\": 26, \"57\": 1, \"60\": 1, \"1\": 1, \"107\": 1, \"128\": 2}, \"46\": {\"46\": 13, \"5\": 1, \"127\": 1, \"9\": 1}, \"70\": {\"19\": 4, \"70\": 32, \"60\": 3, \"108\": 8, \"53\": 1, \"85\": 1, \"98\": 1, \"94\": 1, \"3\": 1, \"88\": 2, \"10\": 1, \"114\": 1, \"110\": 1, \"7\": 1, \"71\": 2, \"129\": 2, \"67\": 1, \"35\": 1, \"112\": 1, \"77\": 1, \"5\": 3, \"81\": 1, \"12\": 2}, \"129\": {\"129\": 18, \"74\": 1, \"122\": 1, \"100\": 2, \"87\": 1, \"110\": 1, \"31\": 1, \"19\": 1, \"107\": 3, \"114\": 2, \"44\": 1}, \"95\": {\"95\": 29, \"64\": 1, \"71\": 1, \"86\": 1}, \"72\": {\"72\": 27, \"6\": 1}, \"19\": {\"28\": 1, \"72\": 3, \"52\": 2, \"100\": 1, \"19\": 6, \"68\": 3, \"50\": 1, \"124\": 4, \"98\": 1, \"106\": 1, \"127\": 1, \"77\": 1, \"10\": 1, \"45\": 1, \"91\": 1, \"107\": 2, \"12\": 2}, \"52\": {\"52\": 16}, \"100\": {\"100\": 8, \"1\": 1, \"84\": 1, \"27\": 1, \"107\": 2, \"79\": 2, \"57\": 1}, \"104\": {\"104\": 16}, \"59\": {\"59\": 12}, \"109\": {\"43\": 4, \"109\": 57, \"61\": 1, \"33\": 19, \"69\": 5, \"94\": 2, \"89\": 2, \"93\": 3, \"102\": 7, \"62\": 5, \"16\": 4, \"118\": 5, \"39\": 3, \"90\": 2, \"96\": 1, \"84\": 3, \"117\": 1, \"12\": 1, \"11\": 1}, \"88\": {\"88\": 47, \"112\": 1, \"49\": 1, \"35\": 1, \"110\": 6, \"70\": 1, \"60\": 1, \"128\": 1, \"3\": 9, \"11\": 4, \"114\": 5, \"1\": 3, \"127\": 3, \"107\": 1, \"5\": 7, \"7\": 1, \"98\": 1, \"93\": 2, \"10\": 2, \"13\": 1, \"67\": 1, \"81\": 1, \"101\": 1, \"4\": 1, \"118\": 1, \"71\": 1, \"94\": 1, \"108\": 2, \"18\": 1}, \"27\": {\"27\": 68, \"51\": 2, \"24\": 3, \"15\": 1, \"30\": 1, \"21\": 1, \"36\": 12, \"26\": 2, \"25\": 1, \"98\": 2, \"110\": 1}, \"113\": {\"113\": 88, \"123\": 1, \"121\": 4, \"43\": 1, \"117\": 11, \"39\": 3, \"26\": 10, \"109\": 1, \"108\": 1}, \"105\": {\"105\": 108, \"28\": 1, \"4\": 8, \"3\": 4, \"114\": 2, \"107\": 1}, \"71\": {\"71\": 42, \"92\": 1, \"48\": 1, \"49\": 2, \"122\": 1, \"95\": 1, \"5\": 8, \"105\": 2, \"4\": 1, \"3\": 4, \"31\": 1, \"127\": 2, \"126\": 1, \"109\": 1}, \"108\": {\"108\": 67, \"98\": 8, \"101\": 1, \"70\": 5, \"127\": 5, \"88\": 4, \"0\": 1, \"124\": 6, \"10\": 15, \"8\": 4, \"7\": 1, \"52\": 1, \"4\": 1, \"9\": 1, \"65\": 1, \"35\": 2, \"3\": 1}, \"41\": {\"41\": 16}, \"80\": {\"80\": 14, \"44\": 1, \"64\": 1}, \"13\": {\"13\": 7, \"33\": 3, \"89\": 2, \"43\": 2, \"119\": 1, \"118\": 1}, \"55\": {\"55\": 15, \"103\": 1}, \"0\": {\"0\": 84, \"15\": 5, \"8\": 1, \"39\": 1, \"83\": 1, \"106\": 8, \"12\": 2, \"84\": 1, \"30\": 1, \"62\": 1, \"94\": 1}, \"25\": {\"25\": 16}, \"53\": {\"53\": 15, \"71\": 1, \"14\": 2, \"114\": 2}, \"61\": {\"61\": 16}, \"38\": {\"38\": 16}, \"127\": {\"127\": 107, \"113\": 2, \"19\": 1, \"9\": 2, \"125\": 2, \"111\": 1, \"39\": 1, \"3\": 4, \"46\": 3, \"124\": 2, \"4\": 2, \"84\": 1}, \"4\": {\"71\": 5, \"4\": 75, \"114\": 3, \"5\": 1, \"122\": 1, \"32\": 1, \"105\": 3, \"86\": 1, \"7\": 1, \"18\": 1, \"26\": 1, \"3\": 2, \"88\": 1}, \"12\": {\"68\": 2, \"12\": 80, \"83\": 1, \"85\": 1, \"8\": 4, \"124\": 7, \"111\": 5, \"91\": 1, \"52\": 1, \"108\": 2}, \"126\": {\"18\": 11, \"126\": 86, \"81\": 4, \"1\": 1, \"109\": 3, \"118\": 1, \"39\": 4, \"113\": 3, \"108\": 1, \"40\": 2, \"61\": 1, \"70\": 1, \"15\": 1, \"110\": 2, \"26\": 1, \"117\": 2}, \"29\": {\"29\": 26, \"82\": 1, \"100\": 1, \"84\": 1, \"87\": 2, \"90\": 1}, \"107\": {\"107\": 123, \"28\": 1, \"14\": 3, \"20\": 1, \"1\": 2, \"45\": 2, \"40\": 1, \"90\": 2, \"102\": 1}, \"82\": {\"82\": 26, \"100\": 1, \"31\": 1}, \"94\": {\"94\": 66, \"15\": 10, \"0\": 6, \"30\": 1, \"18\": 1}, \"54\": {\"54\": 14, \"25\": 2}, \"10\": {\"52\": 1, \"124\": 19, \"10\": 65, \"77\": 2, \"98\": 12, \"108\": 12, \"26\": 1, \"70\": 1, \"12\": 8, \"85\": 2, \"127\": 2, \"8\": 3}, \"22\": {\"22\": 15, \"29\": 1}, \"119\": {\"119\": 15, \"69\": 1}}, \"Wisig_2\": {\"73\": {\"73\": 20, \"5\": 1, \"115\": 1, \"122\": 1, \"7\": 2, \"67\": 1, \"66\": 2}, \"40\": {\"40\": 95, \"105\": 16, \"61\": 1, \"58\": 1, \"19\": 2, \"1\": 1, \"4\": 1, \"43\": 4, \"16\": 1, \"74\": 1, \"95\": 2, \"14\": 1, \"7\": 1, \"3\": 1, \"117\": 1, \"5\": 2, \"108\": 1}, \"99\": {\"99\": 26, \"26\": 3, \"92\": 2, \"27\": 1}, \"5\": {\"5\": 94, \"114\": 2, \"3\": 2, \"4\": 2, \"85\": 1, \"24\": 1, \"101\": 1, \"39\": 1, \"110\": 2, \"88\": 1, \"71\": 3, \"0\": 1, \"7\": 1}, \"108\": {\"44\": 1, \"108\": 81, \"124\": 3, \"79\": 1, \"34\": 1, \"12\": 6, \"107\": 2, \"8\": 16, \"127\": 4, \"11\": 2, \"98\": 3, \"111\": 3, \"88\": 2, \"128\": 1, \"73\": 1, \"91\": 1, \"30\": 2, \"0\": 1, \"70\": 1}, \"128\": {\"40\": 1, \"108\": 3, \"98\": 2, \"95\": 1, \"7\": 1, \"73\": 2, \"128\": 3, \"125\": 1, \"3\": 1, \"5\": 2, \"19\": 1, \"21\": 1, \"4\": 1, \"0\": 1, \"105\": 1, \"106\": 2}, \"89\": {\"89\": 30, \"33\": 1, \"90\": 1, \"60\": 2, \"81\": 1, \"48\": 1}, \"107\": {\"73\": 3, \"58\": 1, \"7\": 8, \"107\": 29, \"110\": 1, \"122\": 2, \"71\": 3, \"94\": 1, \"21\": 1, \"2\": 1, \"106\": 1, \"3\": 1, \"32\": 2, \"86\": 1, \"5\": 2, \"114\": 1, \"87\": 1, \"117\": 1, \"15\": 1, \"125\": 1, \"14\": 2}, \"2\": {\"57\": 1, \"2\": 19, \"121\": 2, \"89\": 2, \"117\": 2, \"63\": 3, \"26\": 2, \"97\": 1}, \"78\": {\"78\": 10, \"23\": 1, \"55\": 1, \"100\": 1, \"73\": 1, \"1\": 10, \"22\": 2, \"99\": 1, \"126\": 3, \"70\": 3, \"84\": 1, \"40\": 3, \"43\": 1, \"105\": 3, \"95\": 2, \"15\": 1, \"114\": 1, \"87\": 1, \"21\": 1, \"62\": 1}, \"85\": {\"85\": 30, \"122\": 1, \"114\": 1}, \"44\": {\"44\": 92, \"10\": 1, \"19\": 2, \"60\": 1, \"110\": 1, \"107\": 2, \"3\": 1}, \"58\": {\"58\": 15, \"30\": 2, \"106\": 1, \"6\": 2}, \"57\": {\"57\": 15, \"10\": 1, \"69\": 2, \"92\": 1, \"88\": 1}, \"41\": {\"41\": 16, \"28\": 1, \"13\": 1, \"7\": 2}, \"53\": {\"53\": 13, \"3\": 3}, \"14\": {\"19\": 4, \"70\": 2, \"24\": 2, \"14\": 20, \"115\": 1, \"20\": 1, \"110\": 1, \"43\": 3, \"3\": 3, \"23\": 1, \"21\": 2, \"89\": 1, \"22\": 1, \"40\": 1, \"73\": 1, \"62\": 1, \"74\": 1, \"44\": 1, \"105\": 1}, \"83\": {\"83\": 37, \"125\": 1, \"23\": 1, \"8\": 1}, \"119\": {\"119\": 18, \"118\": 1, \"93\": 1}, \"95\": {\"28\": 2, \"95\": 31, \"4\": 2, \"24\": 1}, \"28\": {\"28\": 17, \"41\": 2, \"97\": 1}, \"19\": {\"19\": 9, \"85\": 2, \"41\": 1, \"78\": 1, \"23\": 2, \"128\": 1, \"43\": 2, \"86\": 2, \"71\": 1, \"53\": 1, \"1\": 1, \"114\": 1, \"73\": 2, \"46\": 1, \"14\": 1}, \"69\": {\"118\": 2, \"69\": 117, \"81\": 1, \"92\": 1, \"102\": 2, \"101\": 1, \"3\": 2, \"90\": 1, \"20\": 1, \"39\": 2, \"26\": 1, \"40\": 1}, \"93\": {\"93\": 100, \"118\": 2, \"87\": 1, \"113\": 1, \"119\": 1, \"109\": 6, \"18\": 1, \"16\": 15, \"90\": 5, \"44\": 1, \"26\": 1}, \"9\": {\"9\": 32}, \"118\": {\"118\": 32, \"33\": 5, \"83\": 1, \"82\": 4, \"93\": 7, \"16\": 2, \"90\": 4, \"102\": 1, \"84\": 6, \"62\": 3, \"119\": 1, \"116\": 1, \"1\": 1}, \"43\": {\"83\": 2, \"60\": 1, \"16\": 2, \"22\": 2, \"14\": 1, \"43\": 53, \"62\": 3, \"1\": 17, \"40\": 4, \"44\": 3, \"2\": 1, \"105\": 4, \"84\": 1, \"88\": 5, \"70\": 4, \"87\": 2, \"33\": 2, \"23\": 2, \"109\": 2, \"102\": 1, \"78\": 1, \"18\": 1, \"93\": 2}, \"47\": {\"47\": 11, \"129\": 1}, \"125\": {\"125\": 140, \"30\": 3, \"18\": 1}, \"29\": {\"29\": 29, \"91\": 1, \"98\": 2}, \"122\": {\"86\": 3, \"19\": 1, \"95\": 1, \"122\": 56, \"73\": 1, \"12\": 2, \"112\": 2, \"68\": 1, \"32\": 1, \"128\": 1, \"3\": 7, \"70\": 3, \"85\": 2, \"11\": 5, \"124\": 14, \"114\": 13, \"71\": 2, \"98\": 4, \"5\": 3, \"0\": 1, \"1\": 1, \"7\": 3, \"40\": 1, \"91\": 1, \"115\": 1, \"29\": 1, \"49\": 1, \"10\": 1, \"107\": 1, \"93\": 2, \"109\": 1, \"44\": 1, \"18\": 1, \"108\": 1}, \"46\": {\"78\": 2, \"46\": 12, \"1\": 1, \"60\": 1}, \"86\": {\"86\": 31, \"85\": 1}, \"70\": {\"78\": 4, \"70\": 30, \"126\": 10, \"14\": 4, \"69\": 1, \"17\": 2, \"10\": 4, \"43\": 9, \"40\": 1, \"60\": 3, \"62\": 7, \"107\": 1, \"44\": 3, \"1\": 7, \"87\": 4, \"16\": 4, \"3\": 4, \"122\": 2, \"11\": 1, \"5\": 1, \"18\": 1, \"88\": 2, \"33\": 3, \"23\": 3, \"123\": 1, \"21\": 1, \"93\": 3, \"127\": 1, \"61\": 1, \"45\": 1, \"4\": 1, \"26\": 1, \"105\": 2, \"15\": 1}, \"51\": {\"51\": 14, \"99\": 1, \"94\": 1, \"52\": 1, \"127\": 2, \"69\": 1}, \"23\": {\"86\": 4, \"57\": 1, \"129\": 2, \"23\": 2, \"120\": 1, \"49\": 1, \"121\": 2, \"114\": 1, \"19\": 2, \"127\": 1, \"5\": 2, \"69\": 1, \"110\": 1, \"29\": 2, \"12\": 3, \"124\": 4, \"4\": 4, \"109\": 1, \"26\": 1, \"128\": 2, \"20\": 1, \"2\": 1, \"63\": 1, \"117\": 1, \"32\": 1, \"99\": 1}, \"121\": {\"57\": 3, \"121\": 21, \"113\": 2, \"23\": 1, \"120\": 1, \"117\": 5, \"65\": 2, \"18\": 1}, \"63\": {\"21\": 1, \"57\": 1, \"63\": 16, \"82\": 1, \"49\": 1}, \"102\": {\"102\": 93, \"87\": 3, \"90\": 20, \"69\": 3, \"40\": 1, \"72\": 2}, \"21\": {\"21\": 46, \"45\": 1, \"117\": 1}, \"55\": {\"55\": 14, \"80\": 1, \"87\": 1}, \"54\": {\"54\": 18, \"29\": 1, \"98\": 1}, \"6\": {\"6\": 11, \"15\": 4, \"51\": 1, \"103\": 2, \"52\": 2, \"75\": 1, \"127\": 1, \"94\": 2, \"111\": 4, \"91\": 2, \"79\": 1, \"9\": 1}, \"109\": {\"109\": 37, \"24\": 1, \"90\": 3, \"70\": 2, \"44\": 1, \"87\": 4, \"84\": 2, \"88\": 12, \"78\": 1, \"62\": 1, \"118\": 1, \"126\": 3, \"102\": 3, \"16\": 9, \"93\": 8, \"18\": 1, \"43\": 1, \"33\": 1, \"119\": 3, \"117\": 1, \"67\": 1, \"82\": 1, \"110\": 1, \"39\": 1, \"1\": 1}, \"64\": {\"109\": 1, \"64\": 15}, \"20\": {\"20\": 16}, \"98\": {\"29\": 4, \"68\": 1, \"98\": 88, \"121\": 1, \"12\": 2, \"124\": 6, \"91\": 3, \"11\": 2, \"34\": 1, \"127\": 1, \"62\": 1, \"122\": 3, \"108\": 1}, \"92\": {\"92\": 20, \"55\": 1, \"118\": 2, \"76\": 1, \"90\": 1, \"113\": 1, \"84\": 1, \"31\": 1}, \"35\": {\"35\": 2, \"29\": 1, \"123\": 2, \"111\": 3, \"91\": 2, \"12\": 2}, \"113\": {\"113\": 51, \"109\": 1, \"40\": 1, \"48\": 3, \"2\": 2, \"117\": 6, \"26\": 2, \"18\": 1, \"24\": 2, \"23\": 1, \"21\": 2}, \"71\": {\"95\": 1, \"47\": 1, \"71\": 62, \"114\": 5, \"53\": 2, \"84\": 1, \"28\": 1, \"4\": 5, \"85\": 2, \"122\": 3, \"5\": 6, \"32\": 1, \"107\": 2, \"7\": 1, \"3\": 1, \"13\": 1, \"110\": 1, \"109\": 1, \"10\": 2, \"27\": 1}, \"94\": {\"94\": 28, \"71\": 1, \"101\": 10, \"6\": 4, \"42\": 2, \"99\": 1, \"26\": 1, \"113\": 1, \"89\": 1, \"108\": 1, \"24\": 3, \"97\": 2, \"65\": 1, \"8\": 1, \"88\": 1, \"11\": 1, \"74\": 1, \"15\": 2, \"125\": 2}, \"52\": {\"52\": 16, \"103\": 1, \"30\": 1, \"27\": 1, \"51\": 1}, \"116\": {\"87\": 3, \"38\": 1, \"90\": 1, \"116\": 14, \"72\": 1, \"89\": 1, \"83\": 1, \"43\": 1, \"57\": 1, \"62\": 2, \"118\": 1, \"16\": 1}, \"87\": {\"116\": 2, \"72\": 2, \"87\": 27, \"118\": 4, \"82\": 4, \"31\": 1, \"113\": 1, \"83\": 1, \"16\": 3, \"90\": 9, \"33\": 8, \"88\": 2, \"24\": 2, \"93\": 8, \"78\": 2, \"84\": 9, \"102\": 8, \"69\": 1, \"43\": 4, \"0\": 1, \"18\": 1, \"109\": 1, \"92\": 1, \"119\": 3, \"62\": 5, \"10\": 1, \"117\": 1}, \"90\": {\"116\": 2, \"87\": 3, \"90\": 110, \"60\": 1, \"72\": 4, \"69\": 1, \"102\": 18, \"118\": 3, \"33\": 3, \"31\": 1, \"84\": 2}, \"91\": {\"91\": 18, \"68\": 1, \"114\": 2, \"124\": 1, \"29\": 1, \"111\": 2, \"17\": 1, \"54\": 2}, \"84\": {\"33\": 11, \"84\": 61, \"62\": 8, \"116\": 1, \"109\": 2, \"90\": 3, \"118\": 1, \"119\": 1, \"31\": 1, \"82\": 1, \"7\": 1, \"1\": 1}, \"24\": {\"24\": 51, \"36\": 5, \"0\": 12, \"94\": 4, \"25\": 2, \"109\": 2, \"97\": 1, \"15\": 5, \"70\": 1, \"30\": 3, \"101\": 12, \"106\": 6, \"88\": 3, \"17\": 2, \"103\": 1, \"117\": 1, \"111\": 1}, \"33\": {\"90\": 3, \"33\": 100, \"82\": 2, \"118\": 2, \"87\": 1, \"102\": 5, \"62\": 11, \"84\": 6, \"88\": 1, \"38\": 1, \"26\": 1, \"108\": 1}, \"81\": {\"81\": 20, \"113\": 2, \"69\": 1, \"97\": 1}, \"115\": {\"115\": 8, \"60\": 1, \"49\": 1, \"5\": 2}, \"77\": {\"77\": 14, \"111\": 1, \"79\": 1}, \"106\": {\"106\": 95, \"97\": 1, \"30\": 11, \"6\": 1, \"21\": 1, \"24\": 1, \"125\": 1, \"0\": 2, \"7\": 1, \"94\": 4, \"101\": 2}, \"42\": {\"71\": 1, \"79\": 1, \"114\": 2, \"30\": 2, \"77\": 2, \"52\": 1, \"81\": 1, \"42\": 3, \"91\": 1, \"109\": 1, \"12\": 1, \"47\": 1, \"107\": 1, \"112\": 1, \"10\": 4, \"127\": 1, \"117\": 1, \"106\": 1, \"5\": 1, \"73\": 1}, \"38\": {\"38\": 15, \"33\": 1}, \"36\": {\"36\": 84, \"121\": 1, \"27\": 9, \"14\": 1, \"24\": 4, \"2\": 1, \"30\": 1, \"15\": 5, \"101\": 2, \"113\": 1, \"9\": 1, \"106\": 1, \"0\": 1, \"111\": 1, \"43\": 1}, \"79\": {\"79\": 14, \"103\": 1, \"77\": 1}, \"60\": {\"14\": 2, \"38\": 1, \"60\": 11, \"13\": 1, \"62\": 2, \"107\": 1, \"44\": 3, \"31\": 1, \"70\": 2, \"84\": 2, \"82\": 1, \"119\": 1}, \"80\": {\"80\": 9, \"55\": 1, \"92\": 1, \"1\": 3, \"84\": 1, \"50\": 1}, \"32\": {\"114\": 5, \"4\": 3, \"11\": 1, \"85\": 2, \"122\": 1, \"32\": 9, \"7\": 1, \"3\": 3, \"105\": 1, \"71\": 1, \"86\": 1, \"95\": 1, \"34\": 2, \"14\": 2, \"124\": 2, \"107\": 1}, \"0\": {\"0\": 94, \"111\": 3, \"24\": 2, \"108\": 1, \"8\": 2, \"101\": 4, \"106\": 3, \"30\": 4, \"54\": 1, \"15\": 1, \"10\": 1}, \"127\": {\"127\": 104, \"12\": 3, \"111\": 4, \"124\": 5, \"98\": 1, \"8\": 1, \"18\": 1, \"35\": 1, \"86\": 2, \"79\": 1, \"122\": 1}, \"114\": {\"114\": 104, \"69\": 1, \"85\": 4, \"5\": 2, \"122\": 1, \"124\": 1, \"7\": 1, \"86\": 1, \"118\": 1}, \"62\": {\"116\": 2, \"62\": 105, \"21\": 1, \"82\": 1, \"33\": 9, \"87\": 1, \"84\": 8, \"102\": 4, \"3\": 1, \"43\": 1, \"83\": 1, \"23\": 1, \"55\": 1, \"1\": 2, \"118\": 2}, \"129\": {\"129\": 22, \"73\": 2, \"47\": 1, \"105\": 1, \"19\": 3, \"11\": 1, \"122\": 1, \"0\": 1}, \"56\": {\"56\": 10, \"28\": 2}, \"76\": {\"76\": 16}, \"72\": {\"90\": 5, \"72\": 18, \"26\": 1, \"21\": 1, \"116\": 1, \"52\": 1, \"102\": 1}, \"88\": {\"62\": 3, \"71\": 4, \"88\": 33, \"14\": 1, \"87\": 4, \"3\": 3, \"118\": 1, \"43\": 15, \"93\": 12, \"16\": 7, \"44\": 5, \"39\": 1, \"126\": 2, \"1\": 7, \"70\": 7, \"11\": 2, \"109\": 2, \"18\": 1, \"33\": 1, \"89\": 1, \"83\": 2, \"116\": 1, \"127\": 1, \"82\": 1, \"40\": 1, \"4\": 1, \"78\": 1, \"21\": 1, \"5\": 1, \"84\": 1, \"105\": 1}, \"68\": {\"68\": 5, \"98\": 1, \"54\": 2, \"29\": 5, \"45\": 1, \"12\": 1, \"34\": 1}, \"67\": {\"67\": 7, \"82\": 3, \"21\": 1, \"1\": 1, \"80\": 1, \"90\": 2, \"75\": 1}, \"100\": {\"100\": 15, \"70\": 1}, \"34\": {\"34\": 13, \"98\": 1, \"29\": 2, \"122\": 2, \"17\": 2, \"21\": 1, \"32\": 1, \"49\": 1, \"24\": 1, \"11\": 3, \"108\": 1, \"124\": 2, \"68\": 2}, \"16\": {\"16\": 87, \"116\": 2, \"109\": 1, \"93\": 6, \"33\": 7, \"90\": 4, \"43\": 2, \"62\": 3, \"118\": 6, \"23\": 2, \"84\": 2, \"36\": 1, \"88\": 1}, \"126\": {\"126\": 92, \"123\": 1, \"78\": 1, \"44\": 7, \"40\": 1, \"43\": 2, \"70\": 4, \"105\": 1, \"60\": 2, \"14\": 2, \"129\": 1, \"72\": 1, \"10\": 2, \"4\": 1, \"3\": 2}, \"4\": {\"4\": 61, \"66\": 1, \"5\": 3, \"71\": 3, \"120\": 1, \"14\": 1, \"107\": 4, \"7\": 7, \"10\": 1, \"85\": 1, \"3\": 2, \"32\": 1, \"95\": 2}, \"101\": {\"101\": 131, \"94\": 4, \"129\": 1, \"108\": 1, \"15\": 3, \"0\": 2, \"124\": 1, \"106\": 3}, \"104\": {\"4\": 4, \"104\": 12, \"74\": 1, \"98\": 1, \"15\": 1, \"24\": 1}, \"30\": {\"67\": 1, \"30\": 64, \"103\": 1, \"98\": 1, \"58\": 1, \"106\": 15, \"49\": 1, \"0\": 5, \"111\": 2, \"108\": 1, \"127\": 1, \"11\": 1, \"125\": 7, \"84\": 1, \"93\": 1, \"110\": 1, \"101\": 3, \"24\": 1, \"114\": 1, \"40\": 1}, \"8\": {\"30\": 1, \"8\": 92, \"111\": 6, \"12\": 4, \"77\": 1, \"98\": 2, \"5\": 1, \"127\": 4, \"108\": 5, \"124\": 3, \"126\": 1, \"128\": 1, \"94\": 1, \"79\": 3, \"122\": 1, \"113\": 1, \"93\": 1}, \"82\": {\"82\": 29, \"16\": 1, \"62\": 2, \"92\": 1, \"1\": 2, \"70\": 1}, \"26\": {\"26\": 115, \"87\": 1, \"113\": 3, \"117\": 7, \"24\": 1, \"69\": 3, \"126\": 1, \"65\": 1, \"2\": 1, \"99\": 1, \"39\": 1, \"1\": 1, \"43\": 1, \"40\": 1}, \"96\": {\"96\": 16, \"93\": 3, \"16\": 1}, \"3\": {\"3\": 105, \"35\": 1, \"73\": 2, \"129\": 2, \"5\": 10, \"44\": 2, \"40\": 2, \"122\": 3, \"7\": 1, \"30\": 1, \"71\": 3, \"111\": 1, \"88\": 1, \"114\": 2}, \"25\": {\"25\": 12, \"36\": 1, \"126\": 1, \"6\": 2}, \"13\": {\"62\": 2, \"13\": 5, \"69\": 1, \"90\": 1, \"125\": 1, \"89\": 1, \"43\": 1, \"119\": 1, \"113\": 1, \"63\": 1, \"48\": 1}, \"37\": {\"95\": 2, \"37\": 9, \"40\": 2, \"13\": 1, \"3\": 2}, \"49\": {\"47\": 1, \"53\": 1, \"87\": 1, \"111\": 1, \"4\": 2, \"0\": 1, \"107\": 1, \"82\": 1, \"71\": 2, \"3\": 1, \"8\": 2, \"85\": 1, \"110\": 2, \"75\": 1, \"5\": 1, \"61\": 1, \"49\": 1, \"124\": 2, \"122\": 1}, \"111\": {\"111\": 131, \"127\": 2, \"77\": 1, \"125\": 2}, \"105\": {\"105\": 108, \"61\": 1, \"46\": 1, \"14\": 2, \"40\": 9, \"44\": 2, \"1\": 4, \"45\": 2, \"7\": 3}, \"17\": {\"35\": 1, \"123\": 1, \"114\": 1, \"42\": 1, \"87\": 1, \"127\": 3, \"17\": 3, \"26\": 1, \"29\": 2, \"91\": 1, \"128\": 1}, \"65\": {\"65\": 15, \"10\": 1, \"113\": 1, \"117\": 2, \"126\": 1}, \"123\": {\"35\": 1, \"3\": 1, \"123\": 11, \"129\": 2, \"52\": 1}, \"74\": {\"3\": 2, \"11\": 1, \"74\": 9, \"17\": 1, \"110\": 1, \"95\": 2}, \"97\": {\"97\": 15, \"1\": 1, \"58\": 1, \"119\": 1, \"8\": 1, \"72\": 1}, \"112\": {\"112\": 13, \"123\": 1, \"86\": 1, \"122\": 1}, \"120\": {\"65\": 1, \"120\": 17, \"117\": 2}, \"50\": {\"14\": 1, \"83\": 1, \"50\": 9, \"61\": 1, \"84\": 1, \"40\": 1, \"125\": 1, \"23\": 1}, \"59\": {\"59\": 8, \"24\": 1, \"91\": 2, \"111\": 1, \"86\": 2, \"29\": 2}, \"10\": {\"10\": 21, \"53\": 1, \"49\": 2, \"5\": 3, \"7\": 1, \"81\": 1, \"14\": 2, \"71\": 5, \"44\": 1, \"3\": 7, \"126\": 2, \"85\": 1, \"114\": 2, \"21\": 1, \"122\": 3, \"39\": 1, \"32\": 1, \"11\": 4, \"108\": 1}, \"45\": {\"14\": 2, \"45\": 6, \"1\": 1, \"74\": 2, \"57\": 1, \"105\": 3, \"127\": 1}, \"12\": {\"108\": 1, \"12\": 60, \"68\": 3, \"35\": 1, \"91\": 1, \"21\": 2, \"86\": 2, \"111\": 3, \"117\": 1, \"127\": 4, \"97\": 2, \"29\": 2, \"8\": 3, \"124\": 1, \"98\": 2}, \"75\": {\"51\": 2, \"75\": 9, \"40\": 1, \"103\": 2, \"108\": 2}, \"48\": {\"48\": 20}, \"61\": {\"61\": 13, \"40\": 1, \"10\": 1, \"36\": 1, \"50\": 1, \"89\": 1, \"95\": 2}, \"124\": {\"124\": 113, \"86\": 1, \"34\": 2, \"12\": 3, \"42\": 1, \"122\": 1, \"26\": 1, \"98\": 2}, \"11\": {\"124\": 8, \"122\": 4, \"11\": 53, \"10\": 2, \"117\": 1, \"39\": 1, \"98\": 1, \"108\": 5, \"49\": 2, \"8\": 2, \"69\": 1}, \"103\": {\"103\": 13, \"1\": 1, \"83\": 1, \"75\": 1}, \"7\": {\"71\": 5, \"95\": 1, \"7\": 96, \"110\": 3, \"3\": 1, \"14\": 2, \"109\": 2, \"4\": 4, \"5\": 5, \"39\": 1, \"40\": 2, \"28\": 1, \"78\": 1, \"37\": 1, \"32\": 2, \"107\": 2, \"10\": 1, \"114\": 2}, \"18\": {\"18\": 85, \"121\": 2, \"117\": 14, \"26\": 3, \"87\": 2, \"90\": 5, \"39\": 1, \"113\": 3, \"108\": 1, \"24\": 1, \"30\": 1, \"69\": 2}, \"31\": {\"31\": 11, \"69\": 2, \"102\": 2, \"62\": 2, \"13\": 2, \"84\": 1}, \"15\": {\"15\": 81, \"6\": 3, \"0\": 2, \"101\": 13, \"40\": 1, \"36\": 1, \"106\": 5, \"3\": 1, \"30\": 3, \"8\": 2, \"127\": 2, \"94\": 2, \"24\": 2}, \"1\": {\"1\": 105, \"99\": 1, \"36\": 1, \"43\": 7, \"3\": 1, \"105\": 1, \"75\": 1, \"22\": 1, \"70\": 4}, \"66\": {\"66\": 17, \"33\": 1, \"4\": 2}, \"110\": {\"68\": 1, \"110\": 19, \"81\": 1, \"71\": 3, \"85\": 2, \"65\": 1, \"109\": 1, \"122\": 1, \"114\": 1, \"3\": 1, \"26\": 1, \"5\": 2, \"4\": 1, \"14\": 1, \"12\": 1, \"113\": 1, \"73\": 1, \"88\": 1}, \"27\": {\"27\": 36, \"36\": 8, \"117\": 1, \"96\": 1, \"24\": 4, \"15\": 3, \"2\": 1, \"101\": 6, \"71\": 1, \"126\": 1, \"9\": 1, \"107\": 2, \"10\": 1, \"11\": 1, \"39\": 1}, \"22\": {\"78\": 2, \"22\": 14, \"125\": 1, \"27\": 1, \"1\": 2}, \"117\": {\"117\": 96, \"120\": 3, \"121\": 3, \"113\": 2, \"26\": 5, \"18\": 3, \"30\": 1, \"69\": 2, \"2\": 1, \"15\": 2, \"90\": 2}, \"39\": {\"39\": 43, \"89\": 4, \"69\": 9, \"16\": 2, \"93\": 2, \"26\": 8, \"118\": 1, \"102\": 3, \"109\": 4, \"24\": 1, \"18\": 3, \"3\": 1, \"90\": 2, \"88\": 4, \"20\": 1, \"10\": 1, \"81\": 2, \"82\": 2, \"43\": 1, \"2\": 1, \"63\": 1, \"121\": 1, \"70\": 3, \"78\": 1, \"113\": 1, \"33\": 1, \"62\": 1, \"7\": 1, \"117\": 3}}, \"Wisig_1\": {\"60\": {\"44\": 1, \"55\": 1, \"96\": 1, \"38\": 1, \"34\": 2, \"95\": 1, \"83\": 1, \"107\": 1, \"4\": 1, \"116\": 1, \"60\": 2, \"10\": 1, \"26\": 1, \"13\": 1}, \"59\": {\"62\": 1, \"59\": 7, \"6\": 2, \"125\": 1, \"13\": 1}, \"107\": {\"55\": 1, \"107\": 102, \"34\": 3, \"85\": 3, \"124\": 3, \"93\": 4, \"8\": 4, \"94\": 1, \"5\": 2, \"4\": 1}, \"113\": {\"113\": 118, \"90\": 2, \"117\": 2, \"118\": 2}, \"6\": {\"49\": 1, \"59\": 1, \"103\": 2, \"126\": 1, \"53\": 2, \"27\": 3, \"75\": 1, \"15\": 3, \"0\": 1, \"88\": 2, \"36\": 1, \"112\": 1, \"21\": 1, \"98\": 1, \"6\": 5, \"23\": 1, \"51\": 1, \"94\": 2, \"89\": 1, \"127\": 1}, \"24\": {\"24\": 80, \"108\": 2, \"27\": 2, \"15\": 2, \"30\": 2, \"88\": 1, \"36\": 1, \"117\": 1, \"101\": 1}, \"50\": {\"50\": 10, \"99\": 3, \"23\": 1, \"33\": 1, \"30\": 1}, \"62\": {\"62\": 65, \"50\": 1, \"102\": 16, \"116\": 1, \"33\": 13, \"95\": 1, \"90\": 13, \"66\": 1, \"69\": 1, \"11\": 1, \"39\": 1, \"65\": 1, \"118\": 1, \"3\": 2, \"70\": 1, \"117\": 1}, \"48\": {\"48\": 11, \"57\": 1}, \"104\": {\"104\": 16}, \"105\": {\"105\": 63, \"40\": 14, \"77\": 1, \"65\": 1, \"114\": 1, \"87\": 1, \"84\": 2, \"15\": 1}, \"44\": {\"44\": 70, \"10\": 1, \"93\": 2, \"70\": 3}, \"49\": {\"44\": 1, \"6\": 1, \"128\": 1, \"34\": 1, \"111\": 1, \"49\": 4, \"124\": 2, \"31\": 3, \"101\": 2, \"125\": 1, \"83\": 1, \"127\": 2}, \"55\": {\"107\": 1, \"55\": 9, \"85\": 1, \"8\": 1}, \"4\": {\"4\": 76, \"38\": 2, \"83\": 1, \"40\": 4, \"86\": 6, \"105\": 1, \"93\": 8, \"42\": 1, \"5\": 1}, \"76\": {\"76\": 12, \"33\": 2, \"102\": 1, \"61\": 1}, \"85\": {\"85\": 29, \"8\": 1, \"107\": 1, \"93\": 1}, \"89\": {\"89\": 34, \"0\": 2}, \"74\": {\"80\": 1, \"74\": 13, \"100\": 1, \"7\": 1}, \"112\": {\"112\": 12, \"127\": 2, \"111\": 1, \"106\": 1}, \"79\": {\"84\": 1, \"79\": 11}, \"0\": {\"89\": 2, \"118\": 1, \"98\": 7, \"0\": 59, \"72\": 1, \"23\": 1, \"46\": 1, \"49\": 4, \"110\": 5, \"1\": 1, \"9\": 1, \"10\": 1}, \"91\": {\"112\": 1, \"89\": 1, \"110\": 4, \"91\": 12, \"71\": 2, \"127\": 1, \"103\": 2, \"9\": 1, \"107\": 2, \"93\": 2}, \"118\": {\"118\": 50, \"95\": 5, \"69\": 2, \"26\": 8, \"16\": 6, \"18\": 3, \"117\": 7, \"39\": 1, \"101\": 1, \"11\": 1}, \"80\": {\"80\": 12, \"74\": 2, \"120\": 2}, \"64\": {\"64\": 15, \"129\": 1}, \"97\": {\"97\": 12, \"88\": 1, \"112\": 1, \"101\": 1, \"94\": 1, \"71\": 1, \"72\": 2, \"15\": 1}, \"84\": {\"84\": 94, \"14\": 9, \"114\": 4, \"87\": 9, \"1\": 8}, \"38\": {\"38\": 16}, \"30\": {\"30\": 32, \"24\": 5, \"27\": 4, \"94\": 3, \"15\": 3, \"98\": 1, \"88\": 2, \"36\": 2}, \"32\": {\"32\": 16, \"59\": 1, \"65\": 1, \"68\": 1, \"49\": 1, \"91\": 1, \"106\": 1, \"71\": 2, \"51\": 1, \"53\": 1, \"127\": 2, \"121\": 1, \"113\": 1, \"0\": 1, \"110\": 1}, \"72\": {\"72\": 28, \"9\": 4}, \"33\": {\"76\": 1, \"33\": 99, \"65\": 2, \"102\": 4, \"14\": 1, \"62\": 11, \"90\": 14}, \"34\": {\"110\": 1, \"79\": 1, \"34\": 6, \"46\": 2, \"98\": 3, \"44\": 2, \"84\": 3, \"127\": 1, \"124\": 1, \"4\": 1, \"53\": 2, \"0\": 2, \"87\": 1, \"37\": 1, \"14\": 1, \"114\": 1, \"89\": 1, \"81\": 1, \"42\": 1}, \"28\": {\"38\": 2, \"28\": 16, \"82\": 2}, \"123\": {\"123\": 15, \"34\": 1}, \"2\": {\"33\": 2, \"2\": 14, \"11\": 2, \"28\": 1, \"16\": 1, \"3\": 1, \"109\": 1, \"99\": 1, \"95\": 1, \"18\": 2, \"13\": 1, \"116\": 2, \"69\": 1, \"21\": 1, \"102\": 1}, \"70\": {\"34\": 1, \"70\": 44, \"124\": 8, \"50\": 1, \"128\": 1, \"96\": 1, \"89\": 1, \"126\": 12, \"44\": 6, \"93\": 6, \"110\": 1, \"18\": 1, \"26\": 1, \"5\": 4, \"10\": 11, \"94\": 1, \"108\": 4, \"39\": 1, \"107\": 2, \"8\": 3, \"117\": 1, \"87\": 1, \"79\": 1, \"4\": 1, \"49\": 1, \"19\": 1, \"0\": 4, \"84\": 1, \"15\": 1, \"102\": 1, \"106\": 1}, \"127\": {\"127\": 85, \"68\": 1, \"91\": 1, \"78\": 1, \"111\": 7, \"125\": 3, \"0\": 1, \"98\": 3, \"106\": 5, \"110\": 1}, \"110\": {\"91\": 1, \"110\": 81, \"0\": 8, \"32\": 1, \"106\": 9, \"89\": 3, \"93\": 1, \"98\": 14, \"127\": 2, \"39\": 1, \"113\": 1, \"37\": 2, \"53\": 1, \"77\": 1, \"69\": 1, \"16\": 1}, \"126\": {\"126\": 112, \"104\": 1, \"21\": 1, \"44\": 2, \"87\": 1, \"70\": 9, \"10\": 4, \"124\": 1, \"3\": 1, \"93\": 2, \"43\": 1, \"8\": 1}, \"13\": {\"13\": 16}, \"15\": {\"15\": 70, \"30\": 2, \"27\": 7, \"101\": 6, \"71\": 6, \"106\": 2, \"94\": 2, \"111\": 1, \"97\": 1, \"125\": 1, \"12\": 2, \"68\": 1, \"88\": 2, \"24\": 1}, \"29\": {\"49\": 1, \"29\": 27}, \"18\": {\"18\": 92, \"23\": 1, \"26\": 2, \"117\": 10, \"118\": 4, \"16\": 2, \"39\": 2, \"33\": 2, \"2\": 2, \"95\": 1, \"62\": 2}, \"7\": {\"7\": 133, \"43\": 2, \"122\": 1, \"11\": 4, \"25\": 2}, \"56\": {\"56\": 12}, \"98\": {\"6\": 1, \"98\": 91, \"89\": 2, \"0\": 1, \"106\": 3, \"110\": 10}, \"99\": {\"99\": 20, \"23\": 2, \"3\": 1, \"50\": 1}, \"77\": {\"77\": 9, \"37\": 1, \"17\": 2, \"10\": 1, \"26\": 1, \"110\": 2}, \"103\": {\"15\": 1, \"103\": 10, \"110\": 1, \"9\": 1, \"94\": 1, \"75\": 2}, \"128\": {\"49\": 2, \"7\": 3, \"9\": 1, \"80\": 1, \"48\": 2, \"72\": 2, \"29\": 2, \"82\": 2, \"128\": 4, \"81\": 1, \"110\": 1, \"28\": 1, \"0\": 1, \"43\": 1}, \"3\": {\"99\": 2, \"3\": 66, \"23\": 1, \"81\": 1, \"43\": 1, \"62\": 1, \"90\": 2, \"122\": 2, \"88\": 1, \"27\": 1, \"102\": 3, \"11\": 3, \"69\": 2, \"71\": 1, \"15\": 1}, \"121\": {\"121\": 27, \"123\": 2, \"18\": 2, \"63\": 1}, \"42\": {\"9\": 1, \"99\": 2, \"74\": 2, \"85\": 1, \"43\": 4, \"31\": 1, \"102\": 1, \"20\": 1, \"4\": 2, \"42\": 3, \"3\": 2, \"129\": 4, \"55\": 2, \"109\": 1, \"107\": 1}, \"90\": {\"90\": 107, \"102\": 2, \"66\": 1, \"3\": 1, \"33\": 5, \"11\": 1, \"116\": 1, \"62\": 2}, \"37\": {\"37\": 12, \"77\": 1, \"9\": 1, \"83\": 1, \"17\": 1}, \"120\": {\"108\": 1, \"120\": 15, \"45\": 2, \"21\": 1, \"78\": 1}, \"117\": {\"117\": 99, \"95\": 1, \"118\": 3, \"18\": 8, \"39\": 1, \"16\": 3, \"26\": 2, \"69\": 1}, \"9\": {\"9\": 29, \"124\": 1, \"72\": 2}, \"108\": {\"108\": 81, \"96\": 2, \"71\": 3, \"127\": 4, \"101\": 12, \"5\": 1, \"12\": 11, \"10\": 1, \"88\": 2, \"49\": 1, \"15\": 1, \"87\": 1, \"106\": 1, \"111\": 1, \"24\": 1, \"126\": 1}, \"83\": {\"14\": 2, \"83\": 15, \"8\": 1, \"4\": 5, \"40\": 2, \"42\": 1, \"93\": 1, \"85\": 1}, \"14\": {\"14\": 75, \"83\": 1, \"65\": 1, \"84\": 6, \"93\": 2, \"114\": 1, \"43\": 3, \"87\": 2, \"42\": 2, \"1\": 1, \"8\": 1, \"124\": 1}, \"63\": {\"26\": 2, \"63\": 11, \"16\": 3}, \"11\": {\"28\": 1, \"11\": 68, \"82\": 2, \"3\": 11, \"102\": 3, \"7\": 12, \"39\": 1, \"90\": 8, \"43\": 5, \"62\": 1, \"74\": 1, \"65\": 1, \"2\": 1, \"99\": 1, \"18\": 1, \"33\": 1}, \"95\": {\"95\": 31, \"118\": 2, \"117\": 2, \"2\": 1}, \"26\": {\"95\": 3, \"26\": 95, \"16\": 18, \"18\": 2, \"118\": 2, \"117\": 7, \"36\": 1, \"97\": 1, \"63\": 1}, \"22\": {\"22\": 6, \"81\": 1, \"74\": 1, \"7\": 3, \"123\": 1, \"80\": 2, \"28\": 2}, \"102\": {\"76\": 2, \"90\": 8, \"67\": 2, \"102\": 77, \"116\": 2, \"33\": 12, \"62\": 16, \"69\": 1}, \"69\": {\"69\": 88, \"2\": 1, \"119\": 2, \"113\": 2, \"39\": 3, \"18\": 3, \"102\": 1, \"26\": 2, \"62\": 2, \"117\": 2}, \"1\": {\"1\": 117, \"87\": 5, \"84\": 6, \"43\": 2}, \"67\": {\"67\": 16}, \"57\": {\"57\": 12}, \"8\": {\"8\": 57, \"83\": 2, \"124\": 15, \"107\": 15, \"4\": 3, \"19\": 1, \"89\": 1, \"44\": 4, \"86\": 1, \"93\": 10, \"62\": 1, \"40\": 1, \"5\": 5, \"10\": 8, \"1\": 1, \"66\": 1, \"55\": 2, \"84\": 1, \"71\": 1, \"70\": 2, \"85\": 1, \"0\": 1}, \"109\": {\"109\": 84, \"64\": 2, \"78\": 1, \"96\": 2, \"120\": 1, \"43\": 4, \"84\": 2, \"19\": 1, \"71\": 1, \"39\": 1, \"108\": 1, \"1\": 4, \"124\": 1, \"26\": 1, \"15\": 1, \"70\": 1, \"0\": 1, \"21\": 2, \"87\": 2, \"83\": 1, \"14\": 3, \"114\": 1, \"3\": 1, \"10\": 1, \"122\": 2, \"127\": 1, \"18\": 1}, \"129\": {\"44\": 4, \"31\": 2, \"102\": 2, \"129\": 7, \"62\": 2, \"8\": 1, \"23\": 1, \"65\": 2, \"66\": 2, \"34\": 1, \"99\": 1, \"11\": 1, \"10\": 2}, \"111\": {\"111\": 98, \"6\": 1, \"112\": 2, \"125\": 11, \"127\": 3, \"71\": 3, \"32\": 1, \"58\": 1}, \"71\": {\"71\": 78, \"102\": 1, \"125\": 3, \"12\": 6, \"106\": 1, \"108\": 1, \"69\": 1, \"127\": 3, \"110\": 2, \"113\": 2, \"46\": 1, \"91\": 1, \"101\": 3, \"0\": 1, \"39\": 1, \"111\": 1, \"126\": 1, \"62\": 1}, \"47\": {\"47\": 12}, \"82\": {\"82\": 23, \"122\": 1, \"45\": 1, \"28\": 3, \"83\": 1, \"81\": 1, \"11\": 1, \"100\": 2, \"7\": 2, \"43\": 1}, \"27\": {\"27\": 66, \"30\": 4, \"88\": 7, \"94\": 7, \"24\": 3, \"36\": 1, \"15\": 3, \"6\": 1}, \"19\": {\"31\": 1, \"104\": 1, \"19\": 12, \"73\": 1, \"8\": 2, \"10\": 2, \"93\": 1, \"64\": 1, \"85\": 1, \"42\": 2, \"34\": 1, \"44\": 1, \"124\": 2}, \"122\": {\"87\": 4, \"122\": 44, \"1\": 4, \"82\": 1, \"39\": 1, \"93\": 1, \"84\": 3, \"43\": 12, \"114\": 5, \"109\": 1, \"7\": 5, \"81\": 2, \"25\": 1, \"38\": 1, \"42\": 1, \"14\": 1, \"90\": 1}, \"53\": {\"53\": 18, \"29\": 1, \"9\": 1}, \"87\": {\"120\": 1, \"104\": 1, \"87\": 39, \"25\": 1, \"79\": 1, \"114\": 12, \"129\": 2, \"20\": 2, \"81\": 1, \"93\": 2, \"1\": 7, \"14\": 8, \"40\": 6, \"94\": 1, \"84\": 13, \"122\": 1, \"109\": 1, \"37\": 1, \"43\": 4, \"105\": 3, \"8\": 1}, \"100\": {\"100\": 9, \"74\": 1, \"28\": 1, \"7\": 1, \"61\": 2, \"11\": 2}, \"66\": {\"66\": 13, \"90\": 1, \"62\": 1, \"76\": 1}, \"31\": {\"31\": 14, \"124\": 1, \"8\": 1}, \"58\": {\"58\": 12}, \"68\": {\"68\": 15, \"32\": 1}, \"88\": {\"88\": 73, \"27\": 10, \"78\": 1, \"24\": 4, \"36\": 5, \"94\": 6, \"126\": 2, \"15\": 5, \"10\": 1, \"101\": 2, \"1\": 1, \"96\": 1, \"109\": 1, \"70\": 1, \"108\": 1}, \"45\": {\"57\": 1, \"129\": 1, \"45\": 3, \"20\": 1, \"122\": 2, \"116\": 1, \"28\": 1, \"127\": 1, \"7\": 1}, \"114\": {\"114\": 112, \"1\": 1, \"40\": 4, \"105\": 5, \"84\": 4, \"87\": 1, \"122\": 1}, \"23\": {\"92\": 1, \"99\": 3, \"72\": 1, \"2\": 1, \"32\": 1, \"90\": 3, \"62\": 1, \"54\": 1, \"23\": 3, \"110\": 1, \"9\": 1, \"0\": 1, \"11\": 4, \"106\": 2}, \"65\": {\"58\": 1, \"102\": 1, \"129\": 1, \"16\": 1, \"25\": 2, \"74\": 1, \"32\": 1, \"63\": 1, \"65\": 1, \"62\": 1, \"18\": 1}, \"124\": {\"124\": 88, \"8\": 9, \"34\": 1, \"4\": 2, \"19\": 1, \"93\": 6, \"107\": 1, \"5\": 9, \"70\": 1}, \"10\": {\"10\": 33, \"124\": 10, \"85\": 3, \"54\": 1, \"79\": 1, \"4\": 1, \"107\": 9, \"70\": 10, \"126\": 15, \"44\": 3, \"8\": 12, \"15\": 1, \"7\": 1, \"43\": 2, \"94\": 1, \"5\": 5, \"71\": 1, \"93\": 1, \"98\": 2, \"77\": 1, \"19\": 1, \"89\": 1, \"0\": 2, \"86\": 1, \"11\": 1, \"87\": 1}, \"92\": {\"92\": 27, \"85\": 1}, \"40\": {\"40\": 118, \"87\": 1, \"93\": 1, \"41\": 1, \"7\": 1, \"114\": 6, \"43\": 1, \"84\": 1, \"105\": 8, \"26\": 1, \"4\": 3, \"38\": 1, \"39\": 1}, \"73\": {\"73\": 18, \"24\": 1, \"30\": 1}, \"94\": {\"94\": 57, \"6\": 1, \"36\": 2, \"27\": 12, \"30\": 3, \"88\": 4, \"101\": 1, \"15\": 5, \"106\": 1, \"4\": 1, \"29\": 1, \"24\": 2, \"118\": 1, \"111\": 1}, \"81\": {\"81\": 18, \"38\": 1, \"25\": 3, \"115\": 1, \"128\": 2, \"122\": 2, \"7\": 1}, \"101\": {\"101\": 107, \"62\": 1, \"12\": 1, \"33\": 1}, \"86\": {\"86\": 32, \"71\": 1, \"4\": 1, \"111\": 1, \"15\": 1}, \"78\": {\"78\": 4, \"22\": 1, \"20\": 1, \"74\": 1, \"25\": 3, \"96\": 1, \"81\": 1, \"87\": 1, \"109\": 2, \"120\": 1}, \"96\": {\"96\": 15, \"14\": 1, \"21\": 1, \"129\": 2, \"63\": 1}, \"5\": {\"5\": 58, \"124\": 8, \"107\": 2, \"93\": 9, \"108\": 2, \"8\": 4, \"24\": 1, \"31\": 1, \"42\": 2, \"88\": 1}, \"16\": {\"26\": 17, \"16\": 65, \"63\": 3, \"69\": 2, \"117\": 9, \"18\": 5, \"21\": 1, \"118\": 4, \"39\": 1, \"113\": 1}, \"35\": {\"35\": 8, \"124\": 1, \"107\": 1, \"85\": 1, \"55\": 1}, \"51\": {\"51\": 12, \"91\": 1, \"127\": 2, \"111\": 1}, \"46\": {\"46\": 7, \"25\": 1, \"75\": 1, \"12\": 1, \"14\": 1, \"85\": 1}, \"20\": {\"20\": 12, \"78\": 1, \"43\": 2, \"1\": 1}, \"116\": {\"74\": 2, \"116\": 18, \"66\": 3, \"61\": 2, \"90\": 1, \"102\": 3, \"33\": 1, \"2\": 1, \"15\": 1}, \"75\": {\"75\": 14, \"29\": 1, \"12\": 1}, \"43\": {\"43\": 66, \"22\": 1, \"80\": 1, \"20\": 1, \"42\": 1, \"115\": 3, \"87\": 4, \"109\": 1, \"84\": 2, \"7\": 10, \"39\": 2, \"11\": 2, \"1\": 12, \"122\": 11, \"105\": 2, \"114\": 3, \"40\": 1, \"100\": 2, \"81\": 2, \"82\": 1}, \"17\": {\"17\": 9, \"98\": 3, \"54\": 2, \"37\": 2}, \"12\": {\"12\": 95, \"6\": 1, \"107\": 1, \"111\": 1, \"101\": 4, \"106\": 1, \"71\": 1}, \"25\": {\"23\": 1, \"25\": 12, \"81\": 3}, \"54\": {\"17\": 3, \"54\": 11, \"107\": 1, \"58\": 1}, \"36\": {\"36\": 103, \"39\": 1, \"113\": 1, \"101\": 2, \"9\": 1, \"94\": 2, \"117\": 1, \"88\": 1}, \"52\": {\"52\": 20}, \"61\": {\"61\": 11, \"116\": 1}, \"106\": {\"110\": 6, \"106\": 108, \"127\": 1, \"98\": 2, \"111\": 1, \"91\": 1, \"29\": 1}, \"39\": {\"39\": 58, \"16\": 7, \"10\": 1, \"117\": 15, \"26\": 7, \"18\": 5, \"122\": 1, \"33\": 2, \"69\": 2, \"127\": 1, \"3\": 2, \"90\": 1, \"113\": 2}, \"119\": {\"119\": 16}, \"125\": {\"125\": 142, \"111\": 5, \"51\": 1}, \"93\": {\"128\": 1, \"14\": 7, \"93\": 53, \"4\": 10, \"85\": 1, \"41\": 1, \"126\": 2, \"83\": 1, \"44\": 11, \"40\": 12, \"105\": 5, \"0\": 2, \"107\": 5, \"8\": 6, \"124\": 2, \"114\": 3, \"5\": 5, \"46\": 2, \"19\": 2, \"54\": 1, \"116\": 1, \"121\": 1, \"84\": 5, \"86\": 2, \"87\": 1, \"10\": 2, \"70\": 1, \"69\": 1, \"1\": 2}, \"115\": {\"115\": 8, \"43\": 2, \"45\": 2}, \"21\": {\"21\": 18, \"96\": 2, \"42\": 2, \"87\": 1, \"39\": 1, \"43\": 1, \"94\": 1, \"44\": 2, \"90\": 1, \"18\": 2, \"81\": 1, \"127\": 1, \"19\": 1, \"36\": 1, \"14\": 1, \"83\": 1, \"113\": 1, \"8\": 1, \"122\": 1}, \"41\": {\"41\": 16}}, \"Wisig_4\": {\"55\": {\"55\": 15, \"120\": 1}, \"9\": {\"9\": 24, \"15\": 2, \"8\": 2}, \"70\": {\"112\": 2, \"4\": 2, \"23\": 2, \"128\": 2, \"70\": 59, \"94\": 1, \"100\": 2, \"49\": 1, \"0\": 2, \"124\": 16, \"114\": 4, \"86\": 1, \"110\": 2, \"27\": 3, \"39\": 1, \"88\": 3, \"127\": 5, \"129\": 2, \"16\": 1, \"85\": 1, \"1\": 1, \"117\": 1, \"98\": 6, \"84\": 1, \"113\": 1}, \"112\": {\"112\": 11, \"70\": 1, \"52\": 1, \"83\": 1, \"73\": 2}, \"115\": {\"115\": 8, \"36\": 1, \"76\": 2, \"18\": 2, \"28\": 2, \"7\": 1}, \"56\": {\"56\": 6, \"43\": 1, \"17\": 1, \"128\": 1, \"7\": 1, \"86\": 2}, \"108\": {\"111\": 1, \"71\": 3, \"14\": 6, \"108\": 36, \"25\": 1, \"11\": 4, \"109\": 2, \"112\": 1, \"119\": 1, \"62\": 1, \"129\": 1, \"19\": 1, \"51\": 1, \"10\": 1, \"105\": 1, \"118\": 1, \"1\": 2, \"5\": 8, \"3\": 4, \"15\": 1, \"39\": 1, \"46\": 1, \"124\": 1, \"78\": 1, \"7\": 1, \"93\": 6, \"94\": 1, \"88\": 1, \"36\": 1, \"110\": 1}, \"117\": {\"117\": 110, \"121\": 2, \"113\": 10, \"40\": 1, \"89\": 1}, \"111\": {\"59\": 1, \"112\": 1, \"111\": 101, \"103\": 2, \"29\": 2, \"101\": 4, \"106\": 5, \"12\": 5, \"98\": 1, \"125\": 4, \"127\": 5, \"113\": 1}, \"71\": {\"71\": 69, \"108\": 1, \"128\": 1, \"4\": 7, \"114\": 13, \"83\": 1, \"86\": 1, \"15\": 1, \"1\": 1, \"7\": 2, \"8\": 1, \"36\": 1, \"10\": 2, \"87\": 1, \"126\": 2}, \"59\": {\"59\": 10, \"8\": 1, \"6\": 1}, \"10\": {\"10\": 76, \"25\": 1, \"15\": 16, \"0\": 1, \"30\": 6, \"70\": 1, \"24\": 7, \"94\": 3, \"106\": 1, \"1\": 1, \"36\": 5, \"111\": 3, \"8\": 2, \"126\": 1}, \"83\": {\"83\": 18, \"55\": 1, \"119\": 3, \"128\": 3, \"46\": 1, \"86\": 2}, \"116\": {\"116\": 14, \"13\": 1, \"62\": 1, \"66\": 2, \"45\": 1, \"90\": 1, \"69\": 1, \"44\": 3, \"89\": 2, \"33\": 1, \"118\": 1}, \"13\": {\"13\": 16}, \"4\": {\"56\": 1, \"55\": 1, \"4\": 91, \"7\": 1, \"124\": 1, \"71\": 4, \"85\": 2, \"105\": 1, \"98\": 1, \"126\": 1}, \"125\": {\"47\": 1, \"125\": 101, \"117\": 1, \"113\": 1, \"101\": 2}, \"102\": {\"31\": 1, \"102\": 102, \"67\": 1, \"62\": 4, \"69\": 6, \"1\": 1, \"44\": 4, \"90\": 3, \"118\": 1, \"108\": 1}, \"47\": {\"47\": 12}, \"28\": {\"28\": 17, \"105\": 1, \"114\": 1, \"1\": 1}, \"82\": {\"82\": 28, \"87\": 1, \"90\": 1, \"72\": 1, \"122\": 1}, \"60\": {\"60\": 9, \"17\": 1, \"82\": 2, \"122\": 2, \"98\": 1, \"62\": 1, \"43\": 3, \"110\": 2, \"109\": 1, \"83\": 1, \"19\": 1, \"53\": 1, \"118\": 1, \"129\": 1, \"71\": 2, \"46\": 2, \"86\": 1}, \"107\": {\"107\": 103, \"32\": 2, \"89\": 1, \"2\": 1, \"3\": 2, \"14\": 2, \"105\": 3, \"40\": 2, \"87\": 3, \"7\": 7, \"11\": 2, \"84\": 1, \"99\": 1, \"82\": 1, \"44\": 1, \"102\": 1, \"98\": 1}, \"75\": {\"125\": 1, \"75\": 14, \"34\": 1}, \"31\": {\"31\": 16}, \"92\": {\"92\": 27, \"116\": 1}, \"58\": {\"58\": 14, \"6\": 1, \"59\": 1}, \"113\": {\"113\": 89, \"117\": 14, \"21\": 1, \"121\": 2, \"10\": 1, \"84\": 2, \"26\": 2, \"126\": 5, \"39\": 5, \"70\": 1, \"16\": 4, \"1\": 1, \"18\": 1}, \"95\": {\"17\": 2, \"95\": 26, \"73\": 2, \"98\": 2}, \"14\": {\"60\": 1, \"82\": 1, \"14\": 74, \"107\": 6, \"73\": 3, \"43\": 2, \"3\": 9, \"11\": 6, \"87\": 2, \"40\": 1, \"16\": 1, \"7\": 2, \"20\": 2, \"118\": 1, \"113\": 1}, \"17\": {\"17\": 19, \"56\": 1}, \"104\": {\"104\": 15, \"7\": 1}, \"72\": {\"72\": 22, \"50\": 1, \"87\": 2, \"74\": 1, \"45\": 4, \"99\": 1, \"102\": 1}, \"69\": {\"69\": 90, \"66\": 1, \"44\": 6, \"88\": 1, \"90\": 12, \"102\": 5, \"118\": 2, \"84\": 4, \"116\": 1, \"21\": 1, \"18\": 1, \"62\": 1, \"33\": 2, \"109\": 1}, \"63\": {\"67\": 1, \"63\": 11, \"123\": 1, \"26\": 2, \"81\": 1}, \"12\": {\"12\": 63, \"103\": 1, \"8\": 2, \"106\": 5, \"29\": 3, \"111\": 8, \"101\": 7, \"0\": 4, \"3\": 1, \"91\": 2, \"105\": 1, \"30\": 1, \"1\": 1, \"62\": 1}, \"25\": {\"25\": 13, \"10\": 2, \"30\": 1}, \"67\": {\"63\": 1, \"13\": 1, \"74\": 3, \"26\": 1, \"44\": 2, \"92\": 2, \"67\": 3, \"123\": 2, \"33\": 1}, \"50\": {\"50\": 15, \"105\": 1}, \"43\": {\"108\": 1, \"72\": 2, \"74\": 2, \"110\": 3, \"23\": 1, \"43\": 46, \"33\": 19, \"51\": 1, \"22\": 2, \"70\": 2, \"1\": 1, \"107\": 2, \"109\": 6, \"26\": 1, \"122\": 3, \"118\": 7, \"93\": 5, \"87\": 1, \"40\": 6, \"88\": 1, \"49\": 1, \"5\": 2, \"84\": 1, \"69\": 1, \"102\": 2, \"15\": 1}, \"96\": {\"96\": 16, \"62\": 2, \"118\": 2}, \"128\": {\"71\": 2, \"72\": 1, \"64\": 1, \"98\": 1, \"79\": 1, \"128\": 4, \"52\": 2, \"46\": 1, \"95\": 1, \"41\": 1, \"127\": 1, \"108\": 1, \"129\": 1, \"76\": 1, \"83\": 1, \"86\": 1, \"124\": 1, \"60\": 1, \"4\": 1}, \"77\": {\"77\": 12}, \"54\": {\"54\": 15, \"106\": 1}, \"118\": {\"122\": 11, \"118\": 49, \"102\": 7, \"108\": 1, \"62\": 4, \"22\": 1, \"43\": 7, \"109\": 2, \"69\": 3, \"15\": 1, \"39\": 2, \"33\": 14, \"92\": 1, \"31\": 2, \"116\": 2, \"126\": 1, \"127\": 1, \"5\": 1, \"21\": 1, \"93\": 1}, \"30\": {\"30\": 46, \"109\": 1, \"27\": 4, \"15\": 9, \"8\": 2, \"10\": 5, \"94\": 4, \"24\": 1, \"9\": 1, \"0\": 2, \"39\": 1}, \"51\": {\"103\": 1, \"8\": 1, \"75\": 4, \"51\": 3, \"9\": 2, \"106\": 2, \"94\": 1, \"111\": 1, \"25\": 1}, \"122\": {\"74\": 4, \"45\": 1, \"102\": 3, \"122\": 34, \"5\": 2, \"110\": 3, \"118\": 5, \"38\": 1, \"49\": 2, \"22\": 1, \"43\": 7, \"40\": 2, \"11\": 2, \"87\": 1, \"1\": 1, \"126\": 1, \"33\": 6, \"39\": 1, \"88\": 1, \"109\": 1, \"30\": 1, \"113\": 1, \"93\": 1, \"111\": 1, \"7\": 1}, \"46\": {\"46\": 13, \"85\": 1, \"128\": 2, \"55\": 2, \"114\": 2}, \"79\": {\"79\": 16}, \"103\": {\"103\": 12, \"29\": 3, \"12\": 1}, \"74\": {\"79\": 1, \"74\": 12, \"33\": 1, \"118\": 2}, \"90\": {\"90\": 119, \"102\": 8, \"116\": 1, \"118\": 3, \"44\": 4, \"69\": 6, \"84\": 3, \"62\": 1, \"33\": 1}, \"8\": {\"8\": 105, \"75\": 1, \"12\": 1, \"1\": 1, \"106\": 14, \"27\": 5, \"101\": 10, \"9\": 1, \"91\": 2, \"26\": 1, \"114\": 1}, \"94\": {\"94\": 56, \"97\": 2, \"9\": 3, \"109\": 1, \"10\": 5, \"125\": 2, \"15\": 2, \"24\": 2, \"106\": 1, \"84\": 1, \"54\": 1, \"25\": 1, \"126\": 2, \"78\": 1, \"27\": 1, \"0\": 1, \"36\": 5, \"88\": 1}, \"7\": {\"7\": 77, \"107\": 9, \"89\": 2, \"20\": 1, \"105\": 7, \"11\": 3, \"36\": 1, \"14\": 5, \"1\": 1, \"3\": 7, \"126\": 1, \"50\": 1, \"28\": 2, \"32\": 1, \"79\": 1, \"60\": 3}, \"61\": {\"26\": 4, \"61\": 8, \"18\": 2, \"65\": 2}, \"26\": {\"26\": 92, \"18\": 12, \"39\": 2, \"117\": 1, \"126\": 3, \"113\": 4, \"16\": 1, \"123\": 2, \"35\": 1, \"84\": 2}, \"127\": {\"127\": 98, \"124\": 4, \"98\": 2, \"126\": 1, \"103\": 1, \"8\": 2}, \"23\": {\"127\": 1, \"61\": 1, \"21\": 1, \"65\": 2, \"52\": 2, \"26\": 2, \"23\": 4, \"122\": 1, \"111\": 2}, \"1\": {\"1\": 59, \"89\": 2, \"114\": 9, \"71\": 10, \"14\": 4, \"105\": 3, \"86\": 1, \"3\": 9, \"7\": 5, \"10\": 2, \"88\": 2, \"98\": 1, \"93\": 1}, \"93\": {\"93\": 113, \"110\": 13, \"5\": 5, \"96\": 1, \"11\": 1, \"43\": 1}, \"106\": {\"106\": 81, \"123\": 1, \"12\": 3, \"18\": 2, \"75\": 2, \"111\": 6, \"0\": 5, \"39\": 1, \"101\": 5, \"8\": 2, \"118\": 1, \"27\": 2, \"42\": 2, \"109\": 1, \"67\": 1, \"62\": 1}, \"110\": {\"43\": 8, \"110\": 56, \"122\": 5, \"5\": 14, \"73\": 1, \"11\": 5, \"3\": 2, \"93\": 17, \"10\": 1, \"87\": 4, \"118\": 3, \"33\": 2}, \"76\": {\"76\": 13, \"40\": 1, \"115\": 1, \"56\": 1}, \"36\": {\"36\": 96, \"24\": 9, \"6\": 2, \"97\": 1, \"10\": 7, \"15\": 1, \"30\": 2, \"94\": 1, \"109\": 1}, \"21\": {\"21\": 33, \"23\": 2, \"84\": 1, \"3\": 1, \"62\": 1, \"81\": 1, \"36\": 1}, \"37\": {\"37\": 11, \"127\": 2, \"95\": 1, \"86\": 2}, \"11\": {\"11\": 39, \"82\": 3, \"107\": 13, \"79\": 2, \"40\": 8, \"87\": 9, \"5\": 11, \"20\": 3, \"7\": 5, \"105\": 4, \"3\": 4, \"14\": 7, \"110\": 5, \"72\": 1, \"33\": 1, \"49\": 1, \"1\": 1, \"90\": 1, \"43\": 1, \"114\": 1}, \"109\": {\"74\": 2, \"109\": 59, \"80\": 1, \"33\": 11, \"44\": 3, \"105\": 1, \"106\": 1, \"118\": 11, \"62\": 2, \"110\": 1, \"90\": 3, \"5\": 4, \"16\": 1, \"126\": 1, \"93\": 5, \"0\": 1, \"60\": 1, \"92\": 1, \"122\": 3, \"113\": 1, \"102\": 2, \"11\": 1}, \"62\": {\"21\": 1, \"82\": 1, \"92\": 2, \"81\": 1, \"62\": 28, \"84\": 4, \"66\": 3, \"102\": 3, \"90\": 3, \"113\": 2, \"118\": 4, \"33\": 2, \"116\": 1, \"122\": 1, \"44\": 2, \"69\": 1, \"126\": 1}, \"89\": {\"89\": 24, \"7\": 1, \"48\": 1, \"14\": 1, \"32\": 3, \"60\": 1, \"107\": 1}, \"126\": {\"126\": 71, \"117\": 4, \"18\": 3, \"39\": 7, \"113\": 10, \"73\": 1, \"71\": 1, \"84\": 4, \"81\": 2, \"26\": 6, \"27\": 1, \"16\": 3, \"65\": 2, \"35\": 1, \"38\": 1, \"111\": 1, \"2\": 1, \"122\": 1, \"105\": 1, \"69\": 2, \"109\": 1}, \"101\": {\"101\": 84, \"68\": 2, \"53\": 1, \"42\": 1, \"8\": 9, \"15\": 1, \"111\": 6, \"12\": 8, \"1\": 1, \"127\": 1, \"106\": 5, \"0\": 3, \"109\": 1, \"91\": 1, \"93\": 1, \"117\": 1, \"18\": 1, \"88\": 1}, \"65\": {\"65\": 12}, \"19\": {\"5\": 1, \"73\": 2, \"19\": 6, \"98\": 3, \"109\": 1, \"12\": 2, \"0\": 3, \"43\": 1, \"129\": 2, \"14\": 1, \"11\": 1, \"110\": 1, \"20\": 2, \"118\": 1, \"127\": 1}, \"27\": {\"27\": 72, \"101\": 4, \"8\": 8, \"0\": 3, \"70\": 2, \"15\": 1, \"125\": 1, \"9\": 1, \"57\": 2, \"106\": 2, \"111\": 1, \"4\": 1, \"39\": 1, \"127\": 1}, \"5\": {\"5\": 114, \"23\": 1, \"60\": 1, \"110\": 3, \"3\": 2, \"87\": 5, \"43\": 1, \"88\": 1, \"14\": 1, \"49\": 1, \"11\": 4, \"122\": 1, \"1\": 1}, \"73\": {\"19\": 4, \"60\": 2, \"73\": 14, \"9\": 1, \"79\": 3}, \"6\": {\"101\": 1, \"25\": 1, \"29\": 3, \"6\": 6, \"68\": 1, \"98\": 1, \"111\": 1, \"94\": 1, \"59\": 1, \"36\": 1, \"77\": 1, \"54\": 1, \"12\": 2, \"24\": 1, \"15\": 2}, \"29\": {\"29\": 29, \"68\": 2, \"12\": 1}, \"114\": {\"114\": 107, \"85\": 1, \"71\": 12, \"7\": 2, \"83\": 1, \"27\": 1, \"87\": 1, \"14\": 1, \"1\": 2}, \"49\": {\"19\": 2, \"49\": 6, \"32\": 2, \"106\": 4, \"0\": 5, \"5\": 2, \"52\": 1, \"12\": 1, \"53\": 1, \"60\": 2, \"111\": 2, \"122\": 2, \"11\": 2}, \"16\": {\"16\": 105, \"90\": 1, \"113\": 2, \"117\": 4, \"108\": 1, \"84\": 4, \"126\": 1}, \"68\": {\"68\": 13, \"34\": 1, \"111\": 1, \"29\": 1}, \"98\": {\"98\": 92, \"58\": 1, \"73\": 2, \"18\": 1, \"91\": 1, \"69\": 1, \"127\": 4, \"124\": 12, \"90\": 1, \"52\": 2, \"29\": 1, \"85\": 2}, \"64\": {\"64\": 16}, \"121\": {\"16\": 1, \"121\": 10, \"48\": 2, \"26\": 3, \"69\": 2, \"117\": 4, \"67\": 1, \"63\": 1, \"81\": 2, \"18\": 1, \"65\": 2, \"113\": 1, \"39\": 2}, \"124\": {\"124\": 96, \"98\": 12, \"127\": 3, \"70\": 1, \"42\": 1, \"4\": 1}, \"97\": {\"94\": 1, \"97\": 15, \"36\": 2, \"25\": 2}, \"40\": {\"40\": 119, \"7\": 1, \"32\": 1, \"74\": 1, \"107\": 6, \"99\": 4, \"72\": 1, \"82\": 1, \"105\": 1, \"33\": 1}, \"119\": {\"119\": 16}, \"100\": {\"55\": 1, \"124\": 1, \"100\": 13, \"98\": 2, \"15\": 1, \"46\": 1, \"83\": 1}, \"87\": {\"87\": 40, \"7\": 5, \"40\": 14, \"82\": 1, \"110\": 6, \"93\": 4, \"105\": 6, \"101\": 1, \"5\": 9, \"122\": 1, \"11\": 6, \"3\": 3, \"14\": 3, \"107\": 13, \"50\": 2, \"99\": 1, \"43\": 1}, \"88\": {\"83\": 1, \"112\": 2, \"88\": 44, \"8\": 1, \"19\": 3, \"124\": 10, \"98\": 8, \"14\": 2, \"100\": 1, \"114\": 8, \"70\": 8, \"86\": 1, \"101\": 2, \"122\": 1, \"69\": 2, \"26\": 2, \"36\": 2, \"105\": 1, \"3\": 1, \"5\": 1, \"15\": 4, \"93\": 2, \"107\": 1, \"0\": 2, \"7\": 1, \"109\": 1, \"106\": 1, \"46\": 1, \"85\": 1, \"21\": 1, \"108\": 3, \"78\": 1, \"113\": 1, \"30\": 1, \"12\": 1, \"1\": 2, \"127\": 2, \"71\": 1}, \"52\": {\"52\": 15, \"47\": 1, \"87\": 1, \"105\": 1, \"53\": 1, \"30\": 1}, \"80\": {\"80\": 11, \"90\": 2, \"2\": 2, \"6\": 1}, \"105\": {\"105\": 61, \"101\": 2, \"14\": 5, \"89\": 2, \"87\": 1, \"91\": 1, \"40\": 5, \"3\": 3, \"39\": 1, \"107\": 8, \"7\": 4, \"98\": 1, \"5\": 1, \"88\": 1, \"117\": 1, \"4\": 1, \"33\": 1, \"126\": 1}, \"32\": {\"50\": 2, \"105\": 1, \"32\": 7, \"7\": 2, \"107\": 5, \"22\": 1, \"14\": 1, \"99\": 2, \"89\": 1, \"72\": 1, \"28\": 2, \"11\": 2, \"114\": 1}, \"35\": {\"26\": 5, \"35\": 4, \"123\": 1, \"81\": 2}, \"99\": {\"99\": 32, \"40\": 7, \"82\": 1}, \"18\": {\"18\": 107, \"35\": 2, \"123\": 2, \"26\": 4, \"39\": 2, \"113\": 1, \"117\": 2}, \"24\": {\"24\": 74, \"10\": 13, \"36\": 7, \"15\": 9, \"94\": 4, \"25\": 1, \"9\": 1, \"30\": 1, \"8\": 1, \"27\": 1}, \"85\": {\"85\": 22, \"26\": 1, \"86\": 2, \"11\": 1, \"4\": 2}, \"39\": {\"39\": 36, \"26\": 13, \"16\": 3, \"126\": 9, \"94\": 1, \"106\": 1, \"113\": 4, \"109\": 3, \"81\": 2, \"18\": 4, \"36\": 1, \"117\": 12, \"118\": 3, \"33\": 1, \"11\": 1, \"80\": 1, \"67\": 1, \"69\": 1, \"65\": 2, \"123\": 1}, \"123\": {\"123\": 14, \"26\": 1, \"35\": 1}, \"91\": {\"52\": 1, \"91\": 11, \"106\": 2, \"34\": 2, \"98\": 3, \"58\": 1, \"100\": 1, \"129\": 1, \"12\": 1, \"101\": 1}, \"78\": {\"83\": 1, \"78\": 7, \"5\": 2, \"21\": 1, \"72\": 1, \"7\": 1, \"97\": 1, \"42\": 1, \"53\": 1, \"3\": 4, \"88\": 1, \"70\": 1, \"20\": 1, \"107\": 3, \"122\": 1, \"43\": 1, \"114\": 1, \"101\": 1, \"14\": 3, \"26\": 1, \"30\": 1, \"62\": 1}, \"38\": {\"38\": 15, \"121\": 1}, \"15\": {\"30\": 4, \"8\": 5, \"15\": 102, \"94\": 3, \"10\": 4, \"18\": 1, \"111\": 1, \"0\": 1, \"106\": 3, \"26\": 1, \"24\": 1, \"70\": 2}, \"48\": {\"48\": 15, \"66\": 1}, \"45\": {\"45\": 12, \"72\": 1, \"74\": 2, \"82\": 1}, \"120\": {\"120\": 15, \"1\": 1, \"56\": 2, \"55\": 2}, \"44\": {\"102\": 7, \"67\": 1, \"44\": 42, \"69\": 4, \"62\": 4, \"90\": 4, \"84\": 1, \"126\": 1}, \"86\": {\"86\": 25, \"27\": 1, \"114\": 1, \"21\": 1}, \"20\": {\"20\": 13, \"14\": 2, \"11\": 1}, \"33\": {\"33\": 136, \"113\": 1, \"102\": 2, \"118\": 3, \"5\": 1, \"105\": 1, \"43\": 1, \"90\": 1, \"31\": 2, \"21\": 1, \"10\": 1}, \"129\": {\"34\": 2, \"32\": 1, \"129\": 3, \"52\": 2, \"43\": 3, \"100\": 1, \"5\": 5, \"98\": 3, \"70\": 1, \"14\": 1, \"108\": 1, \"96\": 1, \"3\": 2, \"0\": 1, \"20\": 1}, \"34\": {\"106\": 2, \"34\": 6, \"128\": 1, \"75\": 1, \"19\": 1, \"4\": 1, \"49\": 1, \"114\": 2, \"98\": 1, \"91\": 2, \"95\": 1, \"125\": 1, \"100\": 2, \"29\": 2, \"120\": 2, \"127\": 2, \"70\": 1, \"85\": 2, \"129\": 1}, \"81\": {\"81\": 29, \"117\": 4, \"26\": 2, \"21\": 1}, \"57\": {\"44\": 4, \"84\": 1, \"24\": 1, \"57\": 5, \"90\": 2, \"70\": 1, \"66\": 1, \"31\": 1}, \"0\": {\"0\": 68, \"53\": 3, \"12\": 13, \"101\": 12, \"8\": 3, \"111\": 4, \"126\": 1, \"88\": 1, \"125\": 1, \"95\": 1, \"59\": 2, \"19\": 1, \"26\": 1, \"106\": 2, \"62\": 1, \"27\": 2}, \"2\": {\"117\": 7, \"102\": 3, \"43\": 2, \"126\": 1, \"96\": 1, \"80\": 3, \"90\": 2, \"2\": 7, \"62\": 1, \"122\": 1}, \"42\": {\"103\": 2, \"119\": 1, \"34\": 2, \"106\": 1, \"100\": 1, \"70\": 1, \"29\": 1, \"73\": 1, \"42\": 7, \"101\": 2, \"12\": 1, \"125\": 4, \"88\": 1, \"75\": 1, \"1\": 1, \"19\": 1}, \"84\": {\"69\": 15, \"84\": 95, \"44\": 4, \"39\": 1, \"117\": 1, \"90\": 7, \"30\": 2, \"102\": 1, \"88\": 1, \"92\": 2, \"113\": 1, \"40\": 2}, \"3\": {\"3\": 83, \"79\": 3, \"107\": 8, \"21\": 1, \"14\": 6, \"105\": 1, \"126\": 1, \"7\": 7, \"5\": 1, \"87\": 2, \"1\": 2, \"11\": 2, \"60\": 2, \"23\": 1, \"39\": 1, \"114\": 1, \"49\": 1, \"24\": 2, \"33\": 1}, \"41\": {\"86\": 2, \"41\": 12, \"37\": 1, \"48\": 1}, \"53\": {\"101\": 4, \"53\": 8, \"0\": 2, \"5\": 2}, \"66\": {\"66\": 11, \"62\": 1, \"69\": 1, \"116\": 1, \"57\": 1, \"48\": 1}, \"22\": {\"5\": 1, \"33\": 1, \"22\": 12, \"43\": 2}}}, \"per_domain_accuracy\": {\"ORACLE.run150\": {\"accuracy\": 0.69140625, \"source?\": true}, \"ORACLE.run114\": {\"accuracy\": 0.6833333333333333, \"source?\": true}, \"ORACLE.run132\": {\"accuracy\": 0.66015625, \"source?\": true}, \"ORACLE.run144\": {\"accuracy\": 0.6377604166666667, \"source?\": true}, \"ORACLE.run18\": {\"accuracy\": 0.5221354166666666, \"source?\": true}, \"ORACLE.run120\": {\"accuracy\": 0.43697916666666664, \"source?\": true}, \"ORACLE.run138\": {\"accuracy\": 0.6546875, \"source?\": true}, \"ORACLE.run126\": {\"accuracy\": 0.41380208333333335, \"source?\": true}, \"Wisig_3\": {\"accuracy\": 0.7336244541484717, \"source?\": false}, \"Wisig_2\": {\"accuracy\": 0.680078125, \"source?\": false}, \"Wisig_1\": {\"accuracy\": 0.7085540254237288, \"source?\": false}, \"Wisig_4\": {\"accuracy\": 0.6710390946502057, \"source?\": false}}}, \"history\": {\"epoch_indices\": [1, 2, 3, 4, 5, 6, 7, 8, 9, 10, 11, 12, 13, 14, 15, 16, 17], \"train_label_loss\": [1.6031639050071438, 1.0075134199689186, 0.851825870034684, 0.7386810331915815, 0.6455280895367087, 0.5609961678451371, 0.48959972922679124, 0.4254107332056654, 0.37155264765051904, 0.32771903295859894, 0.2916632924088931, 0.2577366263042287, 0.23286864927885334, 0.21329830284802093, 0.19337980951952757, 0.1767997045136023, 0.16668612286927478], \"source_val_label_loss\": [1.1956884860992432, 1.069179892539978, 1.070430040359497, 1.0754486322402954, 1.1103365421295166, 1.1790128946304321, 1.2398078441619873, 1.3261845111846924, 1.4377602338790894, 1.4821231365203857, 1.5574709177017212, 1.67164146900177, 1.710163950920105, 1.753394365310669, 1.8653062582015991, 1.8810005187988281, 1.9096451997756958], \"target_val_label_loss\": [4.9471282958984375, 6.534273147583008, 7.787665367126465, 8.825291633605957, 9.873952865600586, 11.23065185546875, 12.141623497009277, 13.312687873840332, 14.766227722167969, 15.440284729003906, 16.874385833740234, 17.455820083618164, 18.159400939941406, 19.569042205810547, 20.785858154296875, 20.699960708618164, 21.873090744018555], \"source_val_acc_label\": [0.5390299479166667, 0.5928059895833333, 0.5998372395833333, 0.61171875, 0.6114908854166666, 0.60322265625, 0.6015950520833333, 0.60625, 0.6025390625, 0.5941731770833333, 0.5999674479166667, 0.5926106770833334, 0.5875325520833333, 0.5974283854166667, 0.592578125, 0.589453125, 0.5999348958333334], \"target_val_acc_label\": [0.632482858649789, 0.6774789029535865, 0.6819290611814346, 0.6861484704641351, 0.6930379746835443, 0.6917523734177216, 0.6869725738396625, 0.692246835443038, 0.6933346518987342, 0.6930050105485233, 0.6912908755274262, 0.6926424050632911, 0.6977848101265823, 0.6900052742616034, 0.6935324367088608, 0.6960377109704642, 0.6963673523206751]}, \"dataset_metrics\": {\"source\": {\"train\": {\"n_unique_x\": 179200, \"n_unique_y\": 16, \"n_batch/episode\": 6720}, \"val\": {\"n_unique_x\": 38400, \"n_unique_y\": 16, \"n_batch/episode\": 960}, \"test\": {\"n_unique_x\": 38400, \"n_unique_y\": 16, \"n_batch/episode\": 960}}, \"target\": {\"train\": {\"n_unique_x\": 189008, \"n_unique_y\": 130, \"n_batch/episode\": 6831}, \"val\": {\"n_unique_x\": 40070, \"n_unique_y\": 130, \"n_batch/episode\": 948}, \"test\": {\"n_unique_x\": 40836, \"n_unique_y\": 130, \"n_batch/episode\": 967}}}}'"
      ]
     },
     "execution_count": 29,
     "metadata": {},
     "output_type": "execute_result"
    }
   ],
   "source": [
    "json.dumps(experiment)"
   ]
  }
 ],
 "metadata": {
  "celltoolbar": "Tags",
  "kernelspec": {
   "display_name": "Python 3 (ipykernel)",
   "language": "python",
   "name": "python3"
  },
  "language_info": {
   "codemirror_mode": {
    "name": "ipython",
    "version": 3
   },
   "file_extension": ".py",
   "mimetype": "text/x-python",
   "name": "python",
   "nbconvert_exporter": "python",
   "pygments_lexer": "ipython3",
   "version": "3.8.12"
  },
  "papermill": {
   "default_parameters": {},
   "duration": 3582.399656,
   "end_time": "2022-03-23T08:42:38.180397",
   "environment_variables": {},
   "exception": null,
   "input_path": "/root/csc500-main/csc500-notebooks/templates/tl_ptn_template.ipynb",
   "output_path": "trial.ipynb",
   "parameters": {
    "parameters": {
     "BEST_MODEL_PATH": "./best_model.pth",
     "NUM_LOGS_PER_EPOCH": 10,
     "criteria_for_best": "target_accuracy",
     "dataset_seed": 500,
     "datasets": [
      {
       "domain_prefix": "Wisig_",
       "domains": [
        1,
        2,
        3,
        4
       ],
       "episode_transforms": [],
       "labels": [
        "1-10",
        "1-12",
        "1-14",
        "1-16",
        "1-18",
        "1-19",
        "1-8",
        "10-11",
        "10-17",
        "10-4",
        "10-7",
        "11-1",
        "11-10",
        "11-19",
        "11-20",
        "11-4",
        "11-7",
        "12-19",
        "12-20",
        "12-7",
        "13-14",
        "13-18",
        "13-19",
        "13-20",
        "13-3",
        "13-7",
        "14-10",
        "14-11",
        "14-12",
        "14-13",
        "14-14",
        "14-19",
        "14-20",
        "14-7",
        "14-8",
        "14-9",
        "15-1",
        "15-19",
        "15-6",
        "16-1",
        "16-16",
        "16-19",
        "16-20",
        "17-10",
        "17-11",
        "18-1",
        "18-10",
        "18-11",
        "18-12",
        "18-13",
        "18-14",
        "18-15",
        "18-16",
        "18-17",
        "18-19",
        "18-2",
        "18-20",
        "18-4",
        "18-5",
        "18-7",
        "18-8",
        "18-9",
        "19-1",
        "19-10",
        "19-11",
        "19-12",
        "19-13",
        "19-14",
        "19-15",
        "19-19",
        "19-2",
        "19-20",
        "19-3",
        "19-4",
        "19-6",
        "19-7",
        "19-8",
        "19-9",
        "2-1",
        "2-13",
        "2-15",
        "2-3",
        "2-4",
        "2-5",
        "2-6",
        "2-7",
        "2-8",
        "20-1",
        "20-12",
        "20-14",
        "20-15",
        "20-16",
        "20-18",
        "20-19",
        "20-20",
        "20-3",
        "20-4",
        "20-5",
        "20-7",
        "20-8",
        "3-1",
        "3-13",
        "3-18",
        "3-2",
        "3-8",
        "4-1",
        "4-10",
        "4-11",
        "5-1",
        "5-5",
        "6-1",
        "6-15",
        "6-6",
        "7-10",
        "7-11",
        "7-12",
        "7-13",
        "7-14",
        "7-7",
        "7-8",
        "7-9",
        "8-1",
        "8-13",
        "8-14",
        "8-18",
        "8-20",
        "8-3",
        "8-8",
        "9-1",
        "9-7"
       ],
       "num_examples_per_domain_per_label": -1,
       "pickle_path": "/root/csc500-main/datasets/wisig.node3-19.stratified_ds.2022A.pkl",
       "source_or_target_dataset": "target",
       "x_transforms": [
        "unit_mag"
       ]
      },
      {
       "domain_prefix": "ORACLE.run1",
       "domains": [
        32,
        38,
        8,
        44,
        14,
        50,
        20,
        26
       ],
       "episode_transforms": [],
       "labels": [
        "3123D52",
        "3123D65",
        "3123D79",
        "3123D80",
        "3123D54",
        "3123D70",
        "3123D7B",
        "3123D89",
        "3123D58",
        "3123D76",
        "3123D7D",
        "3123EFE",
        "3123D64",
        "3123D78",
        "3123D7E",
        "3124E4A"
       ],
       "num_examples_per_domain_per_label": 2000,
       "pickle_path": "/root/csc500-main/datasets/oracle.Run1_10kExamples_stratified_ds.2022A.pkl",
       "source_or_target_dataset": "source",
       "x_transforms": [
        "unit_mag"
       ]
      }
     ],
     "device": "cuda",
     "experiment_name": "tl_1v2:wisig-oracle.run1.limited",
     "lr": 0.0001,
     "n_epoch": 50,
     "n_query": 2,
     "n_shot": 3,
     "n_way": 16,
     "patience": 3,
     "seed": 500,
     "test_k_factor": 2,
     "torch_default_dtype": "torch.float32",
     "train_k_factor": 3,
     "val_k_factor": 2,
     "x_net": [
      {
       "class": "nnReshape",
       "kargs": {
        "shape": [
         -1,
         1,
         2,
         256
        ]
       }
      },
      {
       "class": "Conv2d",
       "kargs": {
        "bias": false,
        "in_channels": 1,
        "kernel_size": [
         1,
         7
        ],
        "out_channels": 256,
        "padding": [
         0,
         3
        ]
       }
      },
      {
       "class": "ReLU",
       "kargs": {
        "inplace": true
       }
      },
      {
       "class": "BatchNorm2d",
       "kargs": {
        "num_features": 256
       }
      },
      {
       "class": "Conv2d",
       "kargs": {
        "bias": true,
        "in_channels": 256,
        "kernel_size": [
         2,
         7
        ],
        "out_channels": 80,
        "padding": [
         0,
         3
        ]
       }
      },
      {
       "class": "ReLU",
       "kargs": {
        "inplace": true
       }
      },
      {
       "class": "BatchNorm2d",
       "kargs": {
        "num_features": 80
       }
      },
      {
       "class": "Flatten",
       "kargs": {}
      },
      {
       "class": "Linear",
       "kargs": {
        "in_features": 20480,
        "out_features": 256
       }
      },
      {
       "class": "ReLU",
       "kargs": {
        "inplace": true
       }
      },
      {
       "class": "BatchNorm1d",
       "kargs": {
        "num_features": 256
       }
      },
      {
       "class": "Linear",
       "kargs": {
        "in_features": 256,
        "out_features": 256
       }
      }
     ]
    }
   },
   "start_time": "2022-03-23T07:42:55.780741",
   "version": "2.3.4"
  }
 },
 "nbformat": 4,
 "nbformat_minor": 5
}