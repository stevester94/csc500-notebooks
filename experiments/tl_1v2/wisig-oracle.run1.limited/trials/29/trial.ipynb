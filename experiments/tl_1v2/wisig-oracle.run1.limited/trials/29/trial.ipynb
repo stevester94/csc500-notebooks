{
 "cells": [
  {
   "cell_type": "markdown",
   "id": "9fea5f46",
   "metadata": {
    "papermill": {
     "duration": 0.028261,
     "end_time": "2022-03-23T08:42:39.157174",
     "exception": false,
     "start_time": "2022-03-23T08:42:39.128913",
     "status": "completed"
    },
    "tags": []
   },
   "source": [
    "# Transfer Learning Template"
   ]
  },
  {
   "cell_type": "code",
   "execution_count": 1,
   "id": "0902182a",
   "metadata": {
    "execution": {
     "iopub.execute_input": "2022-03-23T08:42:39.215783Z",
     "iopub.status.busy": "2022-03-23T08:42:39.203444Z",
     "iopub.status.idle": "2022-03-23T08:42:41.120484Z",
     "shell.execute_reply": "2022-03-23T08:42:41.120042Z"
    },
    "papermill": {
     "duration": 1.943869,
     "end_time": "2022-03-23T08:42:41.120592",
     "exception": false,
     "start_time": "2022-03-23T08:42:39.176723",
     "status": "completed"
    },
    "tags": []
   },
   "outputs": [],
   "source": [
    "%load_ext autoreload\n",
    "%autoreload 2\n",
    "%matplotlib inline\n",
    "\n",
    "    \n",
    "import os, json, sys, time, random\n",
    "import numpy as np\n",
    "import torch\n",
    "from torch.optim import Adam\n",
    "from  easydict import EasyDict\n",
    "import matplotlib.pyplot as plt\n",
    "\n",
    "from steves_models.steves_ptn import Steves_Prototypical_Network\n",
    "\n",
    "from steves_utils.lazy_iterable_wrapper import Lazy_Iterable_Wrapper\n",
    "from steves_utils.iterable_aggregator import Iterable_Aggregator\n",
    "from steves_utils.ptn_train_eval_test_jig import  PTN_Train_Eval_Test_Jig\n",
    "from steves_utils.torch_sequential_builder import build_sequential\n",
    "from steves_utils.torch_utils import get_dataset_metrics, ptn_confusion_by_domain_over_dataloader\n",
    "from steves_utils.utils_v2 import (per_domain_accuracy_from_confusion, get_datasets_base_path)\n",
    "from steves_utils.PTN.utils import independent_accuracy_assesment\n",
    "\n",
    "from torch.utils.data import DataLoader\n",
    "\n",
    "from steves_utils.stratified_dataset.episodic_accessor import Episodic_Accessor_Factory\n",
    "\n",
    "from steves_utils.ptn_do_report import (\n",
    "    get_loss_curve,\n",
    "    get_results_table,\n",
    "    get_parameters_table,\n",
    "    get_domain_accuracies,\n",
    ")\n",
    "\n",
    "from steves_utils.transforms import get_chained_transform"
   ]
  },
  {
   "cell_type": "markdown",
   "id": "41c840b4",
   "metadata": {
    "papermill": {
     "duration": 0.019453,
     "end_time": "2022-03-23T08:42:41.160345",
     "exception": false,
     "start_time": "2022-03-23T08:42:41.140892",
     "status": "completed"
    },
    "tags": []
   },
   "source": [
    "# Allowed Parameters\n",
    "These are allowed parameters, not defaults\n",
    "Each of these values need to be present in the injected parameters (the notebook will raise an exception if they are not present)\n",
    "\n",
    "Papermill uses the cell tag \"parameters\" to inject the real parameters below this cell.\n",
    "Enable tags to see what I mean"
   ]
  },
  {
   "cell_type": "code",
   "execution_count": 2,
   "id": "fd44eb83",
   "metadata": {
    "execution": {
     "iopub.execute_input": "2022-03-23T08:42:41.203126Z",
     "iopub.status.busy": "2022-03-23T08:42:41.202607Z",
     "iopub.status.idle": "2022-03-23T08:42:41.225715Z",
     "shell.execute_reply": "2022-03-23T08:42:41.225359Z"
    },
    "papermill": {
     "duration": 0.045839,
     "end_time": "2022-03-23T08:42:41.225815",
     "exception": false,
     "start_time": "2022-03-23T08:42:41.179976",
     "status": "completed"
    },
    "tags": []
   },
   "outputs": [],
   "source": [
    "required_parameters = {\n",
    "    \"experiment_name\",\n",
    "    \"lr\",\n",
    "    \"device\",\n",
    "    \"seed\",\n",
    "    \"dataset_seed\",\n",
    "    \"n_shot\",\n",
    "    \"n_query\",\n",
    "    \"n_way\",\n",
    "    \"train_k_factor\",\n",
    "    \"val_k_factor\",\n",
    "    \"test_k_factor\",\n",
    "    \"n_epoch\",\n",
    "    \"patience\",\n",
    "    \"criteria_for_best\",\n",
    "    \"x_net\",\n",
    "    \"datasets\",\n",
    "    \"torch_default_dtype\",\n",
    "    \"NUM_LOGS_PER_EPOCH\",\n",
    "    \"BEST_MODEL_PATH\",\n",
    "    \"x_shape\",\n",
    "}"
   ]
  },
  {
   "cell_type": "code",
   "execution_count": 3,
   "id": "fa3f0049",
   "metadata": {
    "execution": {
     "iopub.execute_input": "2022-03-23T08:42:41.281028Z",
     "iopub.status.busy": "2022-03-23T08:42:41.274004Z",
     "iopub.status.idle": "2022-03-23T08:42:41.305677Z",
     "shell.execute_reply": "2022-03-23T08:42:41.304872Z"
    },
    "papermill": {
     "duration": 0.05967,
     "end_time": "2022-03-23T08:42:41.305840",
     "exception": false,
     "start_time": "2022-03-23T08:42:41.246170",
     "status": "completed"
    },
    "tags": [
     "parameters"
    ]
   },
   "outputs": [],
   "source": [
    "from steves_utils.CORES.utils import (\n",
    "    ALL_NODES,\n",
    "    ALL_NODES_MINIMUM_1000_EXAMPLES,\n",
    "    ALL_DAYS\n",
    ")\n",
    "\n",
    "from steves_utils.ORACLE.utils_v2 import (\n",
    "    ALL_DISTANCES_FEET_NARROWED,\n",
    "    ALL_RUNS,\n",
    "    ALL_SERIAL_NUMBERS,\n",
    ")\n",
    "\n",
    "standalone_parameters = {}\n",
    "standalone_parameters[\"experiment_name\"] = \"STANDALONE PTN\"\n",
    "standalone_parameters[\"lr\"] = 0.001\n",
    "standalone_parameters[\"device\"] = \"cuda\"\n",
    "\n",
    "standalone_parameters[\"seed\"] = 1337\n",
    "standalone_parameters[\"dataset_seed\"] = 1337\n",
    "\n",
    "standalone_parameters[\"n_way\"] = 8\n",
    "standalone_parameters[\"n_shot\"] = 3\n",
    "standalone_parameters[\"n_query\"]  = 2\n",
    "standalone_parameters[\"train_k_factor\"] = 1\n",
    "standalone_parameters[\"val_k_factor\"] = 2\n",
    "standalone_parameters[\"test_k_factor\"] = 2\n",
    "\n",
    "\n",
    "standalone_parameters[\"n_epoch\"] = 50\n",
    "\n",
    "standalone_parameters[\"patience\"] = 10\n",
    "standalone_parameters[\"criteria_for_best\"] = \"source_loss\"\n",
    "\n",
    "standalone_parameters[\"datasets\"] = [\n",
    "    {\n",
    "        \"labels\": ALL_SERIAL_NUMBERS,\n",
    "        \"domains\": ALL_DISTANCES_FEET_NARROWED,\n",
    "        \"num_examples_per_domain_per_label\": 100,\n",
    "        \"pickle_path\": os.path.join(get_datasets_base_path(), \"oracle.Run1_framed_2000Examples_stratified_ds.2022A.pkl\"),\n",
    "        \"source_or_target_dataset\": \"source\",\n",
    "        \"x_transforms\": [\"unit_mag\", \"minus_two\"],\n",
    "        \"episode_transforms\": [],\n",
    "        \"domain_prefix\": \"ORACLE_\"\n",
    "    },\n",
    "    {\n",
    "        \"labels\": ALL_NODES,\n",
    "        \"domains\": ALL_DAYS,\n",
    "        \"num_examples_per_domain_per_label\": 100,\n",
    "        \"pickle_path\": os.path.join(get_datasets_base_path(), \"cores.stratified_ds.2022A.pkl\"),\n",
    "        \"source_or_target_dataset\": \"target\",\n",
    "        \"x_transforms\": [\"unit_power\", \"times_zero\"],\n",
    "        \"episode_transforms\": [],\n",
    "        \"domain_prefix\": \"CORES_\"\n",
    "    }   \n",
    "]\n",
    "\n",
    "standalone_parameters[\"torch_default_dtype\"] = \"torch.float32\" \n",
    "\n",
    "\n",
    "\n",
    "standalone_parameters[\"x_net\"] =     [\n",
    "    {\"class\": \"nnReshape\", \"kargs\": {\"shape\":[-1, 1, 2, 256]}},\n",
    "    {\"class\": \"Conv2d\", \"kargs\": { \"in_channels\":1, \"out_channels\":256, \"kernel_size\":(1,7), \"bias\":False, \"padding\":(0,3), },},\n",
    "    {\"class\": \"ReLU\", \"kargs\": {\"inplace\": True}},\n",
    "    {\"class\": \"BatchNorm2d\", \"kargs\": {\"num_features\":256}},\n",
    "\n",
    "    {\"class\": \"Conv2d\", \"kargs\": { \"in_channels\":256, \"out_channels\":80, \"kernel_size\":(2,7), \"bias\":True, \"padding\":(0,3), },},\n",
    "    {\"class\": \"ReLU\", \"kargs\": {\"inplace\": True}},\n",
    "    {\"class\": \"BatchNorm2d\", \"kargs\": {\"num_features\":80}},\n",
    "    {\"class\": \"Flatten\", \"kargs\": {}},\n",
    "\n",
    "    {\"class\": \"Linear\", \"kargs\": {\"in_features\": 80*256, \"out_features\": 256}}, # 80 units per IQ pair\n",
    "    {\"class\": \"ReLU\", \"kargs\": {\"inplace\": True}},\n",
    "    {\"class\": \"BatchNorm1d\", \"kargs\": {\"num_features\":256}},\n",
    "\n",
    "    {\"class\": \"Linear\", \"kargs\": {\"in_features\": 256, \"out_features\": 256}},\n",
    "]\n",
    "\n",
    "# Parameters relevant to results\n",
    "# These parameters will basically never need to change\n",
    "standalone_parameters[\"NUM_LOGS_PER_EPOCH\"] = 10\n",
    "standalone_parameters[\"BEST_MODEL_PATH\"] = \"./best_model.pth\"\n",
    "\n",
    "\n",
    "\n",
    "\n"
   ]
  },
  {
   "cell_type": "code",
   "execution_count": 4,
   "id": "f80aa819",
   "metadata": {
    "execution": {
     "iopub.execute_input": "2022-03-23T08:42:41.367699Z",
     "iopub.status.busy": "2022-03-23T08:42:41.366689Z",
     "iopub.status.idle": "2022-03-23T08:42:41.389414Z",
     "shell.execute_reply": "2022-03-23T08:42:41.388713Z"
    },
    "papermill": {
     "duration": 0.058256,
     "end_time": "2022-03-23T08:42:41.389567",
     "exception": false,
     "start_time": "2022-03-23T08:42:41.331311",
     "status": "completed"
    },
    "tags": [
     "injected-parameters"
    ]
   },
   "outputs": [],
   "source": [
    "# Parameters\n",
    "parameters = {\n",
    "    \"experiment_name\": \"tl_1v2:wisig-oracle.run1.limited\",\n",
    "    \"device\": \"cuda\",\n",
    "    \"lr\": 0.0001,\n",
    "    \"n_shot\": 3,\n",
    "    \"n_query\": 2,\n",
    "    \"train_k_factor\": 3,\n",
    "    \"val_k_factor\": 2,\n",
    "    \"test_k_factor\": 2,\n",
    "    \"torch_default_dtype\": \"torch.float32\",\n",
    "    \"n_epoch\": 50,\n",
    "    \"patience\": 3,\n",
    "    \"criteria_for_best\": \"target_accuracy\",\n",
    "    \"x_net\": [\n",
    "        {\"class\": \"nnReshape\", \"kargs\": {\"shape\": [-1, 1, 2, 256]}},\n",
    "        {\n",
    "            \"class\": \"Conv2d\",\n",
    "            \"kargs\": {\n",
    "                \"in_channels\": 1,\n",
    "                \"out_channels\": 256,\n",
    "                \"kernel_size\": [1, 7],\n",
    "                \"bias\": False,\n",
    "                \"padding\": [0, 3],\n",
    "            },\n",
    "        },\n",
    "        {\"class\": \"ReLU\", \"kargs\": {\"inplace\": True}},\n",
    "        {\"class\": \"BatchNorm2d\", \"kargs\": {\"num_features\": 256}},\n",
    "        {\n",
    "            \"class\": \"Conv2d\",\n",
    "            \"kargs\": {\n",
    "                \"in_channels\": 256,\n",
    "                \"out_channels\": 80,\n",
    "                \"kernel_size\": [2, 7],\n",
    "                \"bias\": True,\n",
    "                \"padding\": [0, 3],\n",
    "            },\n",
    "        },\n",
    "        {\"class\": \"ReLU\", \"kargs\": {\"inplace\": True}},\n",
    "        {\"class\": \"BatchNorm2d\", \"kargs\": {\"num_features\": 80}},\n",
    "        {\"class\": \"Flatten\", \"kargs\": {}},\n",
    "        {\"class\": \"Linear\", \"kargs\": {\"in_features\": 20480, \"out_features\": 256}},\n",
    "        {\"class\": \"ReLU\", \"kargs\": {\"inplace\": True}},\n",
    "        {\"class\": \"BatchNorm1d\", \"kargs\": {\"num_features\": 256}},\n",
    "        {\"class\": \"Linear\", \"kargs\": {\"in_features\": 256, \"out_features\": 256}},\n",
    "    ],\n",
    "    \"NUM_LOGS_PER_EPOCH\": 10,\n",
    "    \"BEST_MODEL_PATH\": \"./best_model.pth\",\n",
    "    \"n_way\": 16,\n",
    "    \"datasets\": [\n",
    "        {\n",
    "            \"labels\": [\n",
    "                \"1-10\",\n",
    "                \"1-12\",\n",
    "                \"1-14\",\n",
    "                \"1-16\",\n",
    "                \"1-18\",\n",
    "                \"1-19\",\n",
    "                \"1-8\",\n",
    "                \"10-11\",\n",
    "                \"10-17\",\n",
    "                \"10-4\",\n",
    "                \"10-7\",\n",
    "                \"11-1\",\n",
    "                \"11-10\",\n",
    "                \"11-19\",\n",
    "                \"11-20\",\n",
    "                \"11-4\",\n",
    "                \"11-7\",\n",
    "                \"12-19\",\n",
    "                \"12-20\",\n",
    "                \"12-7\",\n",
    "                \"13-14\",\n",
    "                \"13-18\",\n",
    "                \"13-19\",\n",
    "                \"13-20\",\n",
    "                \"13-3\",\n",
    "                \"13-7\",\n",
    "                \"14-10\",\n",
    "                \"14-11\",\n",
    "                \"14-12\",\n",
    "                \"14-13\",\n",
    "                \"14-14\",\n",
    "                \"14-19\",\n",
    "                \"14-20\",\n",
    "                \"14-7\",\n",
    "                \"14-8\",\n",
    "                \"14-9\",\n",
    "                \"15-1\",\n",
    "                \"15-19\",\n",
    "                \"15-6\",\n",
    "                \"16-1\",\n",
    "                \"16-16\",\n",
    "                \"16-19\",\n",
    "                \"16-20\",\n",
    "                \"17-10\",\n",
    "                \"17-11\",\n",
    "                \"18-1\",\n",
    "                \"18-10\",\n",
    "                \"18-11\",\n",
    "                \"18-12\",\n",
    "                \"18-13\",\n",
    "                \"18-14\",\n",
    "                \"18-15\",\n",
    "                \"18-16\",\n",
    "                \"18-17\",\n",
    "                \"18-19\",\n",
    "                \"18-2\",\n",
    "                \"18-20\",\n",
    "                \"18-4\",\n",
    "                \"18-5\",\n",
    "                \"18-7\",\n",
    "                \"18-8\",\n",
    "                \"18-9\",\n",
    "                \"19-1\",\n",
    "                \"19-10\",\n",
    "                \"19-11\",\n",
    "                \"19-12\",\n",
    "                \"19-13\",\n",
    "                \"19-14\",\n",
    "                \"19-15\",\n",
    "                \"19-19\",\n",
    "                \"19-2\",\n",
    "                \"19-20\",\n",
    "                \"19-3\",\n",
    "                \"19-4\",\n",
    "                \"19-6\",\n",
    "                \"19-7\",\n",
    "                \"19-8\",\n",
    "                \"19-9\",\n",
    "                \"2-1\",\n",
    "                \"2-13\",\n",
    "                \"2-15\",\n",
    "                \"2-3\",\n",
    "                \"2-4\",\n",
    "                \"2-5\",\n",
    "                \"2-6\",\n",
    "                \"2-7\",\n",
    "                \"2-8\",\n",
    "                \"20-1\",\n",
    "                \"20-12\",\n",
    "                \"20-14\",\n",
    "                \"20-15\",\n",
    "                \"20-16\",\n",
    "                \"20-18\",\n",
    "                \"20-19\",\n",
    "                \"20-20\",\n",
    "                \"20-3\",\n",
    "                \"20-4\",\n",
    "                \"20-5\",\n",
    "                \"20-7\",\n",
    "                \"20-8\",\n",
    "                \"3-1\",\n",
    "                \"3-13\",\n",
    "                \"3-18\",\n",
    "                \"3-2\",\n",
    "                \"3-8\",\n",
    "                \"4-1\",\n",
    "                \"4-10\",\n",
    "                \"4-11\",\n",
    "                \"5-1\",\n",
    "                \"5-5\",\n",
    "                \"6-1\",\n",
    "                \"6-15\",\n",
    "                \"6-6\",\n",
    "                \"7-10\",\n",
    "                \"7-11\",\n",
    "                \"7-12\",\n",
    "                \"7-13\",\n",
    "                \"7-14\",\n",
    "                \"7-7\",\n",
    "                \"7-8\",\n",
    "                \"7-9\",\n",
    "                \"8-1\",\n",
    "                \"8-13\",\n",
    "                \"8-14\",\n",
    "                \"8-18\",\n",
    "                \"8-20\",\n",
    "                \"8-3\",\n",
    "                \"8-8\",\n",
    "                \"9-1\",\n",
    "                \"9-7\",\n",
    "            ],\n",
    "            \"domains\": [1, 2, 3, 4],\n",
    "            \"num_examples_per_domain_per_label\": -1,\n",
    "            \"pickle_path\": \"/root/csc500-main/datasets/wisig.node3-19.stratified_ds.2022A.pkl\",\n",
    "            \"source_or_target_dataset\": \"target\",\n",
    "            \"x_transforms\": [],\n",
    "            \"episode_transforms\": [],\n",
    "            \"domain_prefix\": \"Wisig_\",\n",
    "        },\n",
    "        {\n",
    "            \"labels\": [\n",
    "                \"3123D52\",\n",
    "                \"3123D65\",\n",
    "                \"3123D79\",\n",
    "                \"3123D80\",\n",
    "                \"3123D54\",\n",
    "                \"3123D70\",\n",
    "                \"3123D7B\",\n",
    "                \"3123D89\",\n",
    "                \"3123D58\",\n",
    "                \"3123D76\",\n",
    "                \"3123D7D\",\n",
    "                \"3123EFE\",\n",
    "                \"3123D64\",\n",
    "                \"3123D78\",\n",
    "                \"3123D7E\",\n",
    "                \"3124E4A\",\n",
    "            ],\n",
    "            \"domains\": [32, 38, 8, 44, 14, 50, 20, 26],\n",
    "            \"num_examples_per_domain_per_label\": 2000,\n",
    "            \"pickle_path\": \"/root/csc500-main/datasets/oracle.Run1_10kExamples_stratified_ds.2022A.pkl\",\n",
    "            \"source_or_target_dataset\": \"source\",\n",
    "            \"x_transforms\": [],\n",
    "            \"episode_transforms\": [],\n",
    "            \"domain_prefix\": \"ORACLE.run1\",\n",
    "        },\n",
    "    ],\n",
    "    \"dataset_seed\": 500,\n",
    "    \"seed\": 500,\n",
    "}\n"
   ]
  },
  {
   "cell_type": "code",
   "execution_count": 5,
   "id": "8fa1cc33",
   "metadata": {
    "execution": {
     "iopub.execute_input": "2022-03-23T08:42:41.445829Z",
     "iopub.status.busy": "2022-03-23T08:42:41.444998Z",
     "iopub.status.idle": "2022-03-23T08:42:41.467210Z",
     "shell.execute_reply": "2022-03-23T08:42:41.466514Z"
    },
    "papermill": {
     "duration": 0.049301,
     "end_time": "2022-03-23T08:42:41.467365",
     "exception": false,
     "start_time": "2022-03-23T08:42:41.418064",
     "status": "completed"
    },
    "tags": []
   },
   "outputs": [],
   "source": [
    "# Set this to True if you want to run this template directly\n",
    "STANDALONE = False\n",
    "if STANDALONE:\n",
    "    print(\"parameters not injected, running with standalone_parameters\")\n",
    "    parameters = standalone_parameters\n",
    "\n",
    "if not 'parameters' in locals() and not 'parameters' in globals():\n",
    "    raise Exception(\"Parameter injection failed\")\n",
    "\n",
    "#Use an easy dict for all the parameters\n",
    "p = EasyDict(parameters)\n",
    "\n",
    "if \"x_shape\" not in p:\n",
    "    p.x_shape = [2,256] # Default to this if we dont supply x_shape\n",
    "\n",
    "\n",
    "supplied_keys = set(p.keys())\n",
    "\n",
    "if  supplied_keys != required_parameters:\n",
    "    print(\"Parameters are incorrect\")\n",
    "    if len(supplied_keys - required_parameters)>0: print(\"Shouldn't have:\", str(supplied_keys - required_parameters))\n",
    "    if len(required_parameters - supplied_keys)>0: print(\"Need to have:\", str(required_parameters - supplied_keys))\n",
    "    raise RuntimeError(\"Parameters are incorrect\")"
   ]
  },
  {
   "cell_type": "code",
   "execution_count": 6,
   "id": "3a028d58",
   "metadata": {
    "execution": {
     "iopub.execute_input": "2022-03-23T08:42:41.520711Z",
     "iopub.status.busy": "2022-03-23T08:42:41.520198Z",
     "iopub.status.idle": "2022-03-23T08:42:41.544210Z",
     "shell.execute_reply": "2022-03-23T08:42:41.543474Z"
    },
    "papermill": {
     "duration": 0.047937,
     "end_time": "2022-03-23T08:42:41.544367",
     "exception": false,
     "start_time": "2022-03-23T08:42:41.496430",
     "status": "completed"
    },
    "tags": []
   },
   "outputs": [],
   "source": [
    "###################################\n",
    "# Set the RNGs and make it all deterministic\n",
    "###################################\n",
    "np.random.seed(p.seed)\n",
    "random.seed(p.seed)\n",
    "torch.manual_seed(p.seed)\n",
    "\n",
    "torch.use_deterministic_algorithms(True) "
   ]
  },
  {
   "cell_type": "code",
   "execution_count": 7,
   "id": "b691acf6",
   "metadata": {
    "execution": {
     "iopub.execute_input": "2022-03-23T08:42:41.597907Z",
     "iopub.status.busy": "2022-03-23T08:42:41.597543Z",
     "iopub.status.idle": "2022-03-23T08:42:41.620579Z",
     "shell.execute_reply": "2022-03-23T08:42:41.619783Z"
    },
    "papermill": {
     "duration": 0.046399,
     "end_time": "2022-03-23T08:42:41.620734",
     "exception": false,
     "start_time": "2022-03-23T08:42:41.574335",
     "status": "completed"
    },
    "tags": []
   },
   "outputs": [],
   "source": [
    "###########################################\n",
    "# The stratified datasets honor this\n",
    "###########################################\n",
    "torch.set_default_dtype(eval(p.torch_default_dtype))"
   ]
  },
  {
   "cell_type": "code",
   "execution_count": 8,
   "id": "b5fba671",
   "metadata": {
    "execution": {
     "iopub.execute_input": "2022-03-23T08:42:41.673168Z",
     "iopub.status.busy": "2022-03-23T08:42:41.672610Z",
     "iopub.status.idle": "2022-03-23T08:42:41.729702Z",
     "shell.execute_reply": "2022-03-23T08:42:41.728957Z"
    },
    "papermill": {
     "duration": 0.080773,
     "end_time": "2022-03-23T08:42:41.729878",
     "exception": false,
     "start_time": "2022-03-23T08:42:41.649105",
     "status": "completed"
    },
    "tags": []
   },
   "outputs": [],
   "source": [
    "###################################\n",
    "# Build the network(s)\n",
    "# Note: It's critical to do this AFTER setting the RNG\n",
    "###################################\n",
    "x_net = build_sequential(p.x_net)"
   ]
  },
  {
   "cell_type": "code",
   "execution_count": 9,
   "id": "5d7e61cc",
   "metadata": {
    "execution": {
     "iopub.execute_input": "2022-03-23T08:42:41.780876Z",
     "iopub.status.busy": "2022-03-23T08:42:41.780375Z",
     "iopub.status.idle": "2022-03-23T08:42:41.806909Z",
     "shell.execute_reply": "2022-03-23T08:42:41.806110Z"
    },
    "papermill": {
     "duration": 0.050537,
     "end_time": "2022-03-23T08:42:41.807065",
     "exception": false,
     "start_time": "2022-03-23T08:42:41.756528",
     "status": "completed"
    },
    "tags": []
   },
   "outputs": [],
   "source": [
    "start_time_secs = time.time()"
   ]
  },
  {
   "cell_type": "code",
   "execution_count": 10,
   "id": "c6b67dfd",
   "metadata": {
    "execution": {
     "iopub.execute_input": "2022-03-23T08:42:41.857694Z",
     "iopub.status.busy": "2022-03-23T08:42:41.857137Z",
     "iopub.status.idle": "2022-03-23T08:42:41.878647Z",
     "shell.execute_reply": "2022-03-23T08:42:41.877849Z"
    },
    "papermill": {
     "duration": 0.046238,
     "end_time": "2022-03-23T08:42:41.878800",
     "exception": false,
     "start_time": "2022-03-23T08:42:41.832562",
     "status": "completed"
    },
    "tags": []
   },
   "outputs": [],
   "source": [
    "p.domains_source = []\n",
    "p.domains_target = []\n",
    "\n",
    "\n",
    "train_original_source = []\n",
    "val_original_source   = []\n",
    "test_original_source  = []\n",
    "\n",
    "train_original_target = []\n",
    "val_original_target   = []\n",
    "test_original_target  = []"
   ]
  },
  {
   "cell_type": "code",
   "execution_count": 11,
   "id": "e3d9c3d3",
   "metadata": {
    "execution": {
     "iopub.execute_input": "2022-03-23T08:42:41.928697Z",
     "iopub.status.busy": "2022-03-23T08:42:41.927436Z",
     "iopub.status.idle": "2022-03-23T08:42:41.947040Z",
     "shell.execute_reply": "2022-03-23T08:42:41.946240Z"
    },
    "papermill": {
     "duration": 0.04246,
     "end_time": "2022-03-23T08:42:41.947194",
     "exception": false,
     "start_time": "2022-03-23T08:42:41.904734",
     "status": "completed"
    },
    "tags": []
   },
   "outputs": [],
   "source": [
    "# global_x_transform_func = lambda x: normalize(x.to(torch.get_default_dtype()), \"unit_power\") # unit_power, unit_mag\n",
    "# global_x_transform_func = lambda x: normalize(x, \"unit_power\") # unit_power, unit_mag"
   ]
  },
  {
   "cell_type": "code",
   "execution_count": 12,
   "id": "acb78fd2",
   "metadata": {
    "execution": {
     "iopub.execute_input": "2022-03-23T08:42:42.006192Z",
     "iopub.status.busy": "2022-03-23T08:42:42.005809Z",
     "iopub.status.idle": "2022-03-23T08:42:42.025985Z",
     "shell.execute_reply": "2022-03-23T08:42:42.025288Z"
    },
    "papermill": {
     "duration": 0.048603,
     "end_time": "2022-03-23T08:42:42.026140",
     "exception": false,
     "start_time": "2022-03-23T08:42:41.977537",
     "status": "completed"
    },
    "tags": []
   },
   "outputs": [],
   "source": [
    "def add_dataset(\n",
    "    labels,\n",
    "    domains,\n",
    "    pickle_path,\n",
    "    x_transforms,\n",
    "    episode_transforms,\n",
    "    domain_prefix,\n",
    "    num_examples_per_domain_per_label,\n",
    "    source_or_target_dataset:str,\n",
    "    iterator_seed=p.seed,\n",
    "    dataset_seed=p.dataset_seed,\n",
    "    n_shot=p.n_shot,\n",
    "    n_way=p.n_way,\n",
    "    n_query=p.n_query,\n",
    "    train_val_test_k_factors=(p.train_k_factor,p.val_k_factor,p.test_k_factor),\n",
    "):\n",
    "   \n",
    "    if x_transforms == []: x_transform = None\n",
    "    else: x_transform = get_chained_transform(x_transforms)\n",
    "    \n",
    "    if episode_transforms == []: episode_transform = None\n",
    "    else: raise Exception(\"episode_transforms not implemented\")\n",
    "    \n",
    "    episode_transform = lambda tup, _prefix=domain_prefix: (_prefix + str(tup[0]), tup[1])\n",
    "\n",
    "\n",
    "    eaf = Episodic_Accessor_Factory(\n",
    "        labels=labels,\n",
    "        domains=domains,\n",
    "        num_examples_per_domain_per_label=num_examples_per_domain_per_label,\n",
    "        iterator_seed=iterator_seed,\n",
    "        dataset_seed=dataset_seed,\n",
    "        n_shot=n_shot,\n",
    "        n_way=n_way,\n",
    "        n_query=n_query,\n",
    "        train_val_test_k_factors=train_val_test_k_factors,\n",
    "        pickle_path=pickle_path,\n",
    "        x_transform_func=x_transform,\n",
    "    )\n",
    "\n",
    "    train, val, test = eaf.get_train(), eaf.get_val(), eaf.get_test()\n",
    "    train = Lazy_Iterable_Wrapper(train, episode_transform)\n",
    "    val = Lazy_Iterable_Wrapper(val, episode_transform)\n",
    "    test = Lazy_Iterable_Wrapper(test, episode_transform)\n",
    "\n",
    "    if source_or_target_dataset==\"source\":\n",
    "        train_original_source.append(train)\n",
    "        val_original_source.append(val)\n",
    "        test_original_source.append(test)\n",
    "\n",
    "        p.domains_source.extend(\n",
    "            [domain_prefix + str(u) for u in domains]\n",
    "        )\n",
    "    elif source_or_target_dataset==\"target\":\n",
    "        train_original_target.append(train)\n",
    "        val_original_target.append(val)\n",
    "        test_original_target.append(test)\n",
    "        p.domains_target.extend(\n",
    "            [domain_prefix + str(u) for u in domains]\n",
    "        )\n",
    "    else:\n",
    "        raise Exception(f\"invalid source_or_target_dataset: {source_or_target_dataset}\")\n",
    "    "
   ]
  },
  {
   "cell_type": "code",
   "execution_count": 13,
   "id": "fe266617",
   "metadata": {
    "execution": {
     "iopub.execute_input": "2022-03-23T08:42:42.076972Z",
     "iopub.status.busy": "2022-03-23T08:42:42.076216Z",
     "iopub.status.idle": "2022-03-23T08:42:48.516035Z",
     "shell.execute_reply": "2022-03-23T08:42:48.515187Z"
    },
    "papermill": {
     "duration": 6.463621,
     "end_time": "2022-03-23T08:42:48.516226",
     "exception": false,
     "start_time": "2022-03-23T08:42:42.052605",
     "status": "completed"
    },
    "tags": []
   },
   "outputs": [],
   "source": [
    "for ds in p.datasets:\n",
    "    add_dataset(**ds)"
   ]
  },
  {
   "cell_type": "code",
   "execution_count": 14,
   "id": "b90d65ac",
   "metadata": {
    "execution": {
     "iopub.execute_input": "2022-03-23T08:42:48.566482Z",
     "iopub.status.busy": "2022-03-23T08:42:48.566108Z",
     "iopub.status.idle": "2022-03-23T08:42:48.590852Z",
     "shell.execute_reply": "2022-03-23T08:42:48.590046Z"
    },
    "papermill": {
     "duration": 0.049215,
     "end_time": "2022-03-23T08:42:48.591006",
     "exception": false,
     "start_time": "2022-03-23T08:42:48.541791",
     "status": "completed"
    },
    "tags": []
   },
   "outputs": [],
   "source": [
    "# from steves_utils.CORES.utils import (\n",
    "#     ALL_NODES,\n",
    "#     ALL_NODES_MINIMUM_1000_EXAMPLES,\n",
    "#     ALL_DAYS\n",
    "# )\n",
    "\n",
    "# add_dataset(\n",
    "#     labels=ALL_NODES,\n",
    "#     domains = ALL_DAYS,\n",
    "#     num_examples_per_domain_per_label=100,\n",
    "#     pickle_path=os.path.join(get_datasets_base_path(), \"cores.stratified_ds.2022A.pkl\"),\n",
    "#     source_or_target_dataset=\"target\",\n",
    "#     x_transform_func=global_x_transform_func,\n",
    "#     domain_modifier=lambda u: f\"cores_{u}\"\n",
    "# )"
   ]
  },
  {
   "cell_type": "code",
   "execution_count": 15,
   "id": "76db484d",
   "metadata": {
    "execution": {
     "iopub.execute_input": "2022-03-23T08:42:48.645991Z",
     "iopub.status.busy": "2022-03-23T08:42:48.639545Z",
     "iopub.status.idle": "2022-03-23T08:42:48.659711Z",
     "shell.execute_reply": "2022-03-23T08:42:48.658946Z"
    },
    "papermill": {
     "duration": 0.04314,
     "end_time": "2022-03-23T08:42:48.659863",
     "exception": false,
     "start_time": "2022-03-23T08:42:48.616723",
     "status": "completed"
    },
    "tags": []
   },
   "outputs": [],
   "source": [
    "# from steves_utils.ORACLE.utils_v2 import (\n",
    "#     ALL_DISTANCES_FEET,\n",
    "#     ALL_RUNS,\n",
    "#     ALL_SERIAL_NUMBERS,\n",
    "# )\n",
    "\n",
    "\n",
    "# add_dataset(\n",
    "#     labels=ALL_SERIAL_NUMBERS,\n",
    "#     domains = list(set(ALL_DISTANCES_FEET) - {2,62}),\n",
    "#     num_examples_per_domain_per_label=100,\n",
    "#     pickle_path=os.path.join(get_datasets_base_path(), \"oracle.Run2_framed_2000Examples_stratified_ds.2022A.pkl\"),\n",
    "#     source_or_target_dataset=\"source\",\n",
    "#     x_transform_func=global_x_transform_func,\n",
    "#     domain_modifier=lambda u: f\"oracle1_{u}\"\n",
    "# )\n"
   ]
  },
  {
   "cell_type": "code",
   "execution_count": 16,
   "id": "97dea9d2",
   "metadata": {
    "execution": {
     "iopub.execute_input": "2022-03-23T08:42:48.714272Z",
     "iopub.status.busy": "2022-03-23T08:42:48.713712Z",
     "iopub.status.idle": "2022-03-23T08:42:48.733875Z",
     "shell.execute_reply": "2022-03-23T08:42:48.733073Z"
    },
    "papermill": {
     "duration": 0.044652,
     "end_time": "2022-03-23T08:42:48.734026",
     "exception": false,
     "start_time": "2022-03-23T08:42:48.689374",
     "status": "completed"
    },
    "tags": []
   },
   "outputs": [],
   "source": [
    "# from steves_utils.ORACLE.utils_v2 import (\n",
    "#     ALL_DISTANCES_FEET,\n",
    "#     ALL_RUNS,\n",
    "#     ALL_SERIAL_NUMBERS,\n",
    "# )\n",
    "\n",
    "\n",
    "# add_dataset(\n",
    "#     labels=ALL_SERIAL_NUMBERS,\n",
    "#     domains = list(set(ALL_DISTANCES_FEET) - {2,62,56}),\n",
    "#     num_examples_per_domain_per_label=100,\n",
    "#     pickle_path=os.path.join(get_datasets_base_path(), \"oracle.Run2_framed_2000Examples_stratified_ds.2022A.pkl\"),\n",
    "#     source_or_target_dataset=\"source\",\n",
    "#     x_transform_func=global_x_transform_func,\n",
    "#     domain_modifier=lambda u: f\"oracle2_{u}\"\n",
    "# )"
   ]
  },
  {
   "cell_type": "code",
   "execution_count": 17,
   "id": "6f289866",
   "metadata": {
    "execution": {
     "iopub.execute_input": "2022-03-23T08:42:48.785081Z",
     "iopub.status.busy": "2022-03-23T08:42:48.784257Z",
     "iopub.status.idle": "2022-03-23T08:42:48.805683Z",
     "shell.execute_reply": "2022-03-23T08:42:48.804928Z"
    },
    "papermill": {
     "duration": 0.045447,
     "end_time": "2022-03-23T08:42:48.805836",
     "exception": false,
     "start_time": "2022-03-23T08:42:48.760389",
     "status": "completed"
    },
    "tags": []
   },
   "outputs": [],
   "source": [
    "# add_dataset(\n",
    "#     labels=list(range(19)),\n",
    "#     domains = [0,1,2],\n",
    "#     num_examples_per_domain_per_label=100,\n",
    "#     pickle_path=os.path.join(get_datasets_base_path(), \"metehan.stratified_ds.2022A.pkl\"),\n",
    "#     source_or_target_dataset=\"target\",\n",
    "#     x_transform_func=global_x_transform_func,\n",
    "#     domain_modifier=lambda u: f\"met_{u}\"\n",
    "# )"
   ]
  },
  {
   "cell_type": "code",
   "execution_count": 18,
   "id": "86a863c3",
   "metadata": {
    "execution": {
     "iopub.execute_input": "2022-03-23T08:42:48.855240Z",
     "iopub.status.busy": "2022-03-23T08:42:48.854797Z",
     "iopub.status.idle": "2022-03-23T08:42:48.871927Z",
     "shell.execute_reply": "2022-03-23T08:42:48.871088Z"
    },
    "papermill": {
     "duration": 0.039896,
     "end_time": "2022-03-23T08:42:48.872086",
     "exception": false,
     "start_time": "2022-03-23T08:42:48.832190",
     "status": "completed"
    },
    "tags": []
   },
   "outputs": [],
   "source": [
    "# # from steves_utils.wisig.utils import (\n",
    "# #     ALL_NODES_MINIMUM_100_EXAMPLES,\n",
    "# #     ALL_NODES_MINIMUM_500_EXAMPLES,\n",
    "# #     ALL_NODES_MINIMUM_1000_EXAMPLES,\n",
    "# #     ALL_DAYS\n",
    "# # )\n",
    "\n",
    "# import steves_utils.wisig.utils as wisig\n",
    "\n",
    "\n",
    "# add_dataset(\n",
    "#     labels=wisig.ALL_NODES_MINIMUM_100_EXAMPLES,\n",
    "#     domains = wisig.ALL_DAYS,\n",
    "#     num_examples_per_domain_per_label=100,\n",
    "#     pickle_path=os.path.join(get_datasets_base_path(), \"wisig.node3-19.stratified_ds.2022A.pkl\"),\n",
    "#     source_or_target_dataset=\"target\",\n",
    "#     x_transform_func=global_x_transform_func,\n",
    "#     domain_modifier=lambda u: f\"wisig_{u}\"\n",
    "# )"
   ]
  },
  {
   "cell_type": "code",
   "execution_count": 19,
   "id": "fd5442bc",
   "metadata": {
    "execution": {
     "iopub.execute_input": "2022-03-23T08:42:48.929831Z",
     "iopub.status.busy": "2022-03-23T08:42:48.928994Z",
     "iopub.status.idle": "2022-03-23T08:42:48.948801Z",
     "shell.execute_reply": "2022-03-23T08:42:48.947995Z"
    },
    "papermill": {
     "duration": 0.04894,
     "end_time": "2022-03-23T08:42:48.948960",
     "exception": false,
     "start_time": "2022-03-23T08:42:48.900020",
     "status": "completed"
    },
    "tags": []
   },
   "outputs": [],
   "source": [
    "###################################\n",
    "# Build the dataset\n",
    "###################################\n",
    "train_original_source = Iterable_Aggregator(train_original_source, p.seed)\n",
    "val_original_source = Iterable_Aggregator(val_original_source, p.seed)\n",
    "test_original_source = Iterable_Aggregator(test_original_source, p.seed)\n",
    "\n",
    "\n",
    "train_original_target = Iterable_Aggregator(train_original_target, p.seed)\n",
    "val_original_target = Iterable_Aggregator(val_original_target, p.seed)\n",
    "test_original_target = Iterable_Aggregator(test_original_target, p.seed)\n",
    "\n",
    "# For CNN We only use X and Y. And we only train on the source.\n",
    "# Properly form the data using a transform lambda and Lazy_Iterable_Wrapper. Finally wrap them in a dataloader\n",
    "\n",
    "transform_lambda = lambda ex: ex[1] # Original is (<domain>, <episode>) so we strip down to episode only\n",
    "\n",
    "train_processed_source = Lazy_Iterable_Wrapper(train_original_source, transform_lambda)\n",
    "val_processed_source   = Lazy_Iterable_Wrapper(val_original_source, transform_lambda)\n",
    "test_processed_source  = Lazy_Iterable_Wrapper(test_original_source, transform_lambda)\n",
    "\n",
    "train_processed_target = Lazy_Iterable_Wrapper(train_original_target, transform_lambda)\n",
    "val_processed_target   = Lazy_Iterable_Wrapper(val_original_target, transform_lambda)\n",
    "test_processed_target  = Lazy_Iterable_Wrapper(test_original_target, transform_lambda)\n",
    "\n",
    "datasets = EasyDict({\n",
    "    \"source\": {\n",
    "        \"original\": {\"train\":train_original_source, \"val\":val_original_source, \"test\":test_original_source},\n",
    "        \"processed\": {\"train\":train_processed_source, \"val\":val_processed_source, \"test\":test_processed_source}\n",
    "    },\n",
    "    \"target\": {\n",
    "        \"original\": {\"train\":train_original_target, \"val\":val_original_target, \"test\":test_original_target},\n",
    "        \"processed\": {\"train\":train_processed_target, \"val\":val_processed_target, \"test\":test_processed_target}\n",
    "    },\n",
    "})"
   ]
  },
  {
   "cell_type": "code",
   "execution_count": 20,
   "id": "5b3c01fc",
   "metadata": {
    "execution": {
     "iopub.execute_input": "2022-03-23T08:42:49.006763Z",
     "iopub.status.busy": "2022-03-23T08:42:49.005606Z",
     "iopub.status.idle": "2022-03-23T08:43:04.255496Z",
     "shell.execute_reply": "2022-03-23T08:43:04.254633Z"
    },
    "papermill": {
     "duration": 15.280202,
     "end_time": "2022-03-23T08:43:04.255692",
     "exception": false,
     "start_time": "2022-03-23T08:42:48.975490",
     "status": "completed"
    },
    "tags": []
   },
   "outputs": [
    {
     "name": "stdout",
     "output_type": "stream",
     "text": [
      "{'ORACLE.run138', 'ORACLE.run126', 'ORACLE.run150', 'ORACLE.run114', 'ORACLE.run144', 'ORACLE.run132', 'ORACLE.run120', 'ORACLE.run18'}\n"
     ]
    },
    {
     "name": "stdout",
     "output_type": "stream",
     "text": [
      "{'Wisig_4', 'Wisig_1', 'Wisig_2', 'Wisig_3'}\n"
     ]
    },
    {
     "name": "stdout",
     "output_type": "stream",
     "text": [
      "tensor([[[-1.2818e-03, -9.1556e-04, -7.0193e-04,  ...,  0.0000e+00,\n",
      "          -1.2207e-04, -9.1556e-05],\n",
      "         [-6.1037e-05, -8.8504e-04,  1.9532e-03,  ...,  1.5259e-04,\n",
      "           1.9227e-03,  1.6480e-03]],\n",
      "\n",
      "        [[ 1.2207e-03,  1.9227e-03,  7.0193e-04,  ...,  1.7090e-03,\n",
      "           2.1363e-03,  1.0071e-03],\n",
      "         [-1.0681e-03,  5.7985e-04,  1.9837e-03,  ...,  1.4344e-03,\n",
      "          -3.0519e-04,  5.4933e-04]],\n",
      "\n",
      "        [[ 6.4089e-04, -3.2960e-03, -7.3244e-04,  ..., -1.8311e-04,\n",
      "          -1.5259e-04,  7.6296e-04],\n",
      "         [ 6.7141e-04, -1.5259e-04, -5.7985e-04,  ..., -1.5870e-03,\n",
      "          -2.7467e-03, -1.8006e-03]],\n",
      "\n",
      "        ...,\n",
      "\n",
      "        [[ 2.1668e-03,  1.4039e-03, -2.1363e-04,  ...,  1.2207e-03,\n",
      "          -4.5778e-04,  5.1881e-04],\n",
      "         [-2.1058e-03, -1.7396e-03,  4.2726e-04,  ..., -1.8921e-03,\n",
      "          -5.1881e-04, -2.6551e-03]],\n",
      "\n",
      "        [[ 1.3123e-03, -1.2818e-03,  9.1556e-04,  ..., -2.5025e-03,\n",
      "           6.1037e-04,  2.9298e-03],\n",
      "         [-4.5778e-04,  1.5564e-03, -4.2726e-04,  ...,  1.4649e-03,\n",
      "           9.4607e-04, -3.9674e-04]],\n",
      "\n",
      "        [[-2.1363e-04, -1.4649e-03, -6.4089e-04,  ...,  1.8311e-04,\n",
      "          -1.1902e-03, -5.1881e-04],\n",
      "         [ 3.0519e-05,  5.4933e-04, -1.4344e-03,  ..., -3.4181e-03,\n",
      "          -1.4344e-03,  1.3123e-03]]])\n"
     ]
    }
   ],
   "source": [
    "from steves_utils.transforms import get_average_magnitude, get_average_power\n",
    "\n",
    "print(set([u for u,_ in val_original_source]))\n",
    "print(set([u for u,_ in val_original_target]))\n",
    "\n",
    "s_x, s_y, q_x, q_y, _ = next(iter(train_processed_source))\n",
    "print(s_x)\n",
    "\n",
    "# for ds in [\n",
    "#     train_processed_source,\n",
    "#     val_processed_source,\n",
    "#     test_processed_source,\n",
    "#     train_processed_target,\n",
    "#     val_processed_target,\n",
    "#     test_processed_target\n",
    "# ]:\n",
    "#     for s_x, s_y, q_x, q_y, _ in ds:\n",
    "#         for X in (s_x, q_x):\n",
    "#             for x in X:\n",
    "#                 assert np.isclose(get_average_magnitude(x.numpy()), 1.0)\n",
    "#                 assert np.isclose(get_average_power(x.numpy()), 1.0)\n",
    "                "
   ]
  },
  {
   "cell_type": "code",
   "execution_count": 21,
   "id": "bbdacba1",
   "metadata": {
    "execution": {
     "iopub.execute_input": "2022-03-23T08:43:04.309765Z",
     "iopub.status.busy": "2022-03-23T08:43:04.309390Z",
     "iopub.status.idle": "2022-03-23T08:43:04.580686Z",
     "shell.execute_reply": "2022-03-23T08:43:04.581323Z"
    },
    "papermill": {
     "duration": 0.30004,
     "end_time": "2022-03-23T08:43:04.581526",
     "exception": false,
     "start_time": "2022-03-23T08:43:04.281486",
     "status": "completed"
    },
    "tags": []
   },
   "outputs": [
    {
     "name": "stdout",
     "output_type": "stream",
     "text": [
      "(2, 256)\n"
     ]
    }
   ],
   "source": [
    "###################################\n",
    "# Build the model\n",
    "###################################\n",
    "# easfsl only wants a tuple for the shape\n",
    "model = Steves_Prototypical_Network(x_net, device=p.device, x_shape=tuple(p.x_shape))\n",
    "optimizer = Adam(params=model.parameters(), lr=p.lr)"
   ]
  },
  {
   "cell_type": "code",
   "execution_count": 22,
   "id": "22b39ac5",
   "metadata": {
    "execution": {
     "iopub.execute_input": "2022-03-23T08:43:04.637854Z",
     "iopub.status.busy": "2022-03-23T08:43:04.637486Z",
     "iopub.status.idle": "2022-03-23T09:23:34.555911Z",
     "shell.execute_reply": "2022-03-23T09:23:34.555564Z"
    },
    "papermill": {
     "duration": 2429.945693,
     "end_time": "2022-03-23T09:23:34.555997",
     "exception": false,
     "start_time": "2022-03-23T08:43:04.610304",
     "status": "completed"
    },
    "tags": []
   },
   "outputs": [
    {
     "name": "stdout",
     "output_type": "stream",
     "text": [
      "epoch: 1, [batch: 1 / 6720], examples_per_second: 31.3675, train_label_loss: 2.7210, \n"
     ]
    },
    {
     "name": "stdout",
     "output_type": "stream",
     "text": [
      "epoch: 1, [batch: 672 / 6720], examples_per_second: 3366.9506, train_label_loss: 2.0801, \n"
     ]
    },
    {
     "name": "stdout",
     "output_type": "stream",
     "text": [
      "epoch: 1, [batch: 1344 / 6720], examples_per_second: 3349.2203, train_label_loss: 1.2276, \n"
     ]
    },
    {
     "name": "stdout",
     "output_type": "stream",
     "text": [
      "epoch: 1, [batch: 2016 / 6720], examples_per_second: 3318.5372, train_label_loss: 0.8401, \n"
     ]
    },
    {
     "name": "stdout",
     "output_type": "stream",
     "text": [
      "epoch: 1, [batch: 2688 / 6720], examples_per_second: 3311.9580, train_label_loss: 1.2495, \n"
     ]
    },
    {
     "name": "stdout",
     "output_type": "stream",
     "text": [
      "epoch: 1, [batch: 3360 / 6720], examples_per_second: 3342.6234, train_label_loss: 1.3919, \n"
     ]
    },
    {
     "name": "stdout",
     "output_type": "stream",
     "text": [
      "epoch: 1, [batch: 4032 / 6720], examples_per_second: 3351.8547, train_label_loss: 0.9640, \n"
     ]
    },
    {
     "name": "stdout",
     "output_type": "stream",
     "text": [
      "epoch: 1, [batch: 4704 / 6720], examples_per_second: 3316.9103, train_label_loss: 1.3763, \n"
     ]
    },
    {
     "name": "stdout",
     "output_type": "stream",
     "text": [
      "epoch: 1, [batch: 5376 / 6720], examples_per_second: 3741.8028, train_label_loss: 1.1234, \n"
     ]
    },
    {
     "name": "stdout",
     "output_type": "stream",
     "text": [
      "epoch: 1, [batch: 6048 / 6720], examples_per_second: 3951.3985, train_label_loss: 0.7397, \n"
     ]
    },
    {
     "name": "stdout",
     "output_type": "stream",
     "text": [
      "=============================================================\n",
      "epoch: 1, source_val_acc_label: 0.5887, target_val_acc_label: 0.7022, source_val_label_loss: 2.1254, target_val_label_loss: 186.8982, \n",
      "=============================================================\n"
     ]
    },
    {
     "name": "stdout",
     "output_type": "stream",
     "text": [
      "New best\n"
     ]
    },
    {
     "name": "stdout",
     "output_type": "stream",
     "text": [
      "epoch: 2, [batch: 1 / 6720], examples_per_second: 3.8888, train_label_loss: 0.8566, \n"
     ]
    },
    {
     "name": "stdout",
     "output_type": "stream",
     "text": [
      "epoch: 2, [batch: 672 / 6720], examples_per_second: 3966.1682, train_label_loss: 1.2970, \n"
     ]
    },
    {
     "name": "stdout",
     "output_type": "stream",
     "text": [
      "epoch: 2, [batch: 1344 / 6720], examples_per_second: 3893.4478, train_label_loss: 1.2596, \n"
     ]
    },
    {
     "name": "stdout",
     "output_type": "stream",
     "text": [
      "epoch: 2, [batch: 2016 / 6720], examples_per_second: 3914.4911, train_label_loss: 0.5711, \n"
     ]
    },
    {
     "name": "stdout",
     "output_type": "stream",
     "text": [
      "epoch: 2, [batch: 2688 / 6720], examples_per_second: 3945.0872, train_label_loss: 0.5631, \n"
     ]
    },
    {
     "name": "stdout",
     "output_type": "stream",
     "text": [
      "epoch: 2, [batch: 3360 / 6720], examples_per_second: 3940.5726, train_label_loss: 0.6920, \n"
     ]
    },
    {
     "name": "stdout",
     "output_type": "stream",
     "text": [
      "epoch: 2, [batch: 4032 / 6720], examples_per_second: 3924.0554, train_label_loss: 1.1323, \n"
     ]
    },
    {
     "name": "stdout",
     "output_type": "stream",
     "text": [
      "epoch: 2, [batch: 4704 / 6720], examples_per_second: 3913.8543, train_label_loss: 0.9562, \n"
     ]
    },
    {
     "name": "stdout",
     "output_type": "stream",
     "text": [
      "epoch: 2, [batch: 5376 / 6720], examples_per_second: 3949.3588, train_label_loss: 0.5422, \n"
     ]
    },
    {
     "name": "stdout",
     "output_type": "stream",
     "text": [
      "epoch: 2, [batch: 6048 / 6720], examples_per_second: 3944.7406, train_label_loss: 0.4678, \n"
     ]
    },
    {
     "name": "stdout",
     "output_type": "stream",
     "text": [
      "=============================================================\n",
      "epoch: 2, source_val_acc_label: 0.7468, target_val_acc_label: 0.7712, source_val_label_loss: 0.6941, target_val_label_loss: 31.7860, \n",
      "=============================================================\n"
     ]
    },
    {
     "name": "stdout",
     "output_type": "stream",
     "text": [
      "New best\n"
     ]
    },
    {
     "name": "stdout",
     "output_type": "stream",
     "text": [
      "epoch: 3, [batch: 1 / 6720], examples_per_second: 3.8836, train_label_loss: 1.0957, \n"
     ]
    },
    {
     "name": "stdout",
     "output_type": "stream",
     "text": [
      "epoch: 3, [batch: 672 / 6720], examples_per_second: 4258.7539, train_label_loss: 0.3850, \n"
     ]
    },
    {
     "name": "stdout",
     "output_type": "stream",
     "text": [
      "epoch: 3, [batch: 1344 / 6720], examples_per_second: 4214.6004, train_label_loss: 0.4220, \n"
     ]
    },
    {
     "name": "stdout",
     "output_type": "stream",
     "text": [
      "epoch: 3, [batch: 2016 / 6720], examples_per_second: 4315.1860, train_label_loss: 0.5556, \n"
     ]
    },
    {
     "name": "stdout",
     "output_type": "stream",
     "text": [
      "epoch: 3, [batch: 2688 / 6720], examples_per_second: 4233.3952, train_label_loss: 0.5529, \n"
     ]
    },
    {
     "name": "stdout",
     "output_type": "stream",
     "text": [
      "epoch: 3, [batch: 3360 / 6720], examples_per_second: 4559.8188, train_label_loss: 0.6451, \n"
     ]
    },
    {
     "name": "stdout",
     "output_type": "stream",
     "text": [
      "epoch: 3, [batch: 4032 / 6720], examples_per_second: 4684.9322, train_label_loss: 0.4226, \n"
     ]
    },
    {
     "name": "stdout",
     "output_type": "stream",
     "text": [
      "epoch: 3, [batch: 4704 / 6720], examples_per_second: 4453.5421, train_label_loss: 0.3445, \n"
     ]
    },
    {
     "name": "stdout",
     "output_type": "stream",
     "text": [
      "epoch: 3, [batch: 5376 / 6720], examples_per_second: 3972.3072, train_label_loss: 0.6238, \n"
     ]
    },
    {
     "name": "stdout",
     "output_type": "stream",
     "text": [
      "epoch: 3, [batch: 6048 / 6720], examples_per_second: 3454.6587, train_label_loss: 0.3439, \n"
     ]
    },
    {
     "name": "stdout",
     "output_type": "stream",
     "text": [
      "=============================================================\n",
      "epoch: 3, source_val_acc_label: 0.8053, target_val_acc_label: 0.8074, source_val_label_loss: 0.5511, target_val_label_loss: 48.5396, \n",
      "=============================================================\n"
     ]
    },
    {
     "name": "stdout",
     "output_type": "stream",
     "text": [
      "New best\n"
     ]
    },
    {
     "name": "stdout",
     "output_type": "stream",
     "text": [
      "epoch: 4, [batch: 1 / 6720], examples_per_second: 3.2310, train_label_loss: 0.6057, \n"
     ]
    },
    {
     "name": "stdout",
     "output_type": "stream",
     "text": [
      "epoch: 4, [batch: 672 / 6720], examples_per_second: 3379.6962, train_label_loss: 0.7545, \n"
     ]
    },
    {
     "name": "stdout",
     "output_type": "stream",
     "text": [
      "epoch: 4, [batch: 1344 / 6720], examples_per_second: 3381.7477, train_label_loss: 0.5355, \n"
     ]
    },
    {
     "name": "stdout",
     "output_type": "stream",
     "text": [
      "epoch: 4, [batch: 2016 / 6720], examples_per_second: 3430.9044, train_label_loss: 0.3626, \n"
     ]
    },
    {
     "name": "stdout",
     "output_type": "stream",
     "text": [
      "epoch: 4, [batch: 2688 / 6720], examples_per_second: 3433.7339, train_label_loss: 0.6134, \n"
     ]
    },
    {
     "name": "stdout",
     "output_type": "stream",
     "text": [
      "epoch: 4, [batch: 3360 / 6720], examples_per_second: 3767.9654, train_label_loss: 0.5663, \n"
     ]
    },
    {
     "name": "stdout",
     "output_type": "stream",
     "text": [
      "epoch: 4, [batch: 4032 / 6720], examples_per_second: 3902.4576, train_label_loss: 0.3976, \n"
     ]
    },
    {
     "name": "stdout",
     "output_type": "stream",
     "text": [
      "epoch: 4, [batch: 4704 / 6720], examples_per_second: 3764.3171, train_label_loss: 0.6277, \n"
     ]
    },
    {
     "name": "stdout",
     "output_type": "stream",
     "text": [
      "epoch: 4, [batch: 5376 / 6720], examples_per_second: 3808.8166, train_label_loss: 0.2529, \n"
     ]
    },
    {
     "name": "stdout",
     "output_type": "stream",
     "text": [
      "epoch: 4, [batch: 6048 / 6720], examples_per_second: 3769.3178, train_label_loss: 0.4082, \n"
     ]
    },
    {
     "name": "stdout",
     "output_type": "stream",
     "text": [
      "=============================================================\n",
      "epoch: 4, source_val_acc_label: 0.8072, target_val_acc_label: 0.8383, source_val_label_loss: 0.5278, target_val_label_loss: 33.2635, \n",
      "=============================================================\n"
     ]
    },
    {
     "name": "stdout",
     "output_type": "stream",
     "text": [
      "New best\n"
     ]
    },
    {
     "name": "stdout",
     "output_type": "stream",
     "text": [
      "epoch: 5, [batch: 1 / 6720], examples_per_second: 3.5947, train_label_loss: 0.4245, \n"
     ]
    },
    {
     "name": "stdout",
     "output_type": "stream",
     "text": [
      "epoch: 5, [batch: 672 / 6720], examples_per_second: 3377.4329, train_label_loss: 0.5079, \n"
     ]
    },
    {
     "name": "stdout",
     "output_type": "stream",
     "text": [
      "epoch: 5, [batch: 1344 / 6720], examples_per_second: 3365.5154, train_label_loss: 0.3815, \n"
     ]
    },
    {
     "name": "stdout",
     "output_type": "stream",
     "text": [
      "epoch: 5, [batch: 2016 / 6720], examples_per_second: 3447.3521, train_label_loss: 0.1218, \n"
     ]
    },
    {
     "name": "stdout",
     "output_type": "stream",
     "text": [
      "epoch: 5, [batch: 2688 / 6720], examples_per_second: 3410.9040, train_label_loss: 0.1599, \n"
     ]
    },
    {
     "name": "stdout",
     "output_type": "stream",
     "text": [
      "epoch: 5, [batch: 3360 / 6720], examples_per_second: 3468.7303, train_label_loss: 0.3066, \n"
     ]
    },
    {
     "name": "stdout",
     "output_type": "stream",
     "text": [
      "epoch: 5, [batch: 4032 / 6720], examples_per_second: 3887.4362, train_label_loss: 0.2417, \n"
     ]
    },
    {
     "name": "stdout",
     "output_type": "stream",
     "text": [
      "epoch: 5, [batch: 4704 / 6720], examples_per_second: 3780.2084, train_label_loss: 0.1109, \n"
     ]
    },
    {
     "name": "stdout",
     "output_type": "stream",
     "text": [
      "epoch: 5, [batch: 5376 / 6720], examples_per_second: 3907.3375, train_label_loss: 0.6348, \n"
     ]
    },
    {
     "name": "stdout",
     "output_type": "stream",
     "text": [
      "epoch: 5, [batch: 6048 / 6720], examples_per_second: 4515.8651, train_label_loss: 0.2537, \n"
     ]
    },
    {
     "name": "stdout",
     "output_type": "stream",
     "text": [
      "=============================================================\n",
      "epoch: 5, source_val_acc_label: 0.8195, target_val_acc_label: 0.8305, source_val_label_loss: 0.5317, target_val_label_loss: 51.6777, \n",
      "=============================================================\n"
     ]
    },
    {
     "name": "stdout",
     "output_type": "stream",
     "text": [
      "epoch: 6, [batch: 1 / 6720], examples_per_second: 4.3806, train_label_loss: 0.3884, \n"
     ]
    },
    {
     "name": "stdout",
     "output_type": "stream",
     "text": [
      "epoch: 6, [batch: 672 / 6720], examples_per_second: 4648.3920, train_label_loss: 0.2173, \n"
     ]
    },
    {
     "name": "stdout",
     "output_type": "stream",
     "text": [
      "epoch: 6, [batch: 1344 / 6720], examples_per_second: 4667.4948, train_label_loss: 0.3888, \n"
     ]
    },
    {
     "name": "stdout",
     "output_type": "stream",
     "text": [
      "epoch: 6, [batch: 2016 / 6720], examples_per_second: 3997.9170, train_label_loss: 0.0829, \n"
     ]
    },
    {
     "name": "stdout",
     "output_type": "stream",
     "text": [
      "epoch: 6, [batch: 2688 / 6720], examples_per_second: 3955.6637, train_label_loss: 0.1511, \n"
     ]
    },
    {
     "name": "stdout",
     "output_type": "stream",
     "text": [
      "epoch: 6, [batch: 3360 / 6720], examples_per_second: 4022.2493, train_label_loss: 0.3446, \n"
     ]
    },
    {
     "name": "stdout",
     "output_type": "stream",
     "text": [
      "epoch: 6, [batch: 4032 / 6720], examples_per_second: 3995.3361, train_label_loss: 0.4954, \n"
     ]
    },
    {
     "name": "stdout",
     "output_type": "stream",
     "text": [
      "epoch: 6, [batch: 4704 / 6720], examples_per_second: 4031.2875, train_label_loss: 0.6661, \n"
     ]
    },
    {
     "name": "stdout",
     "output_type": "stream",
     "text": [
      "epoch: 6, [batch: 5376 / 6720], examples_per_second: 3930.2427, train_label_loss: 0.2433, \n"
     ]
    },
    {
     "name": "stdout",
     "output_type": "stream",
     "text": [
      "epoch: 6, [batch: 6048 / 6720], examples_per_second: 3878.5818, train_label_loss: 0.3547, \n"
     ]
    },
    {
     "name": "stdout",
     "output_type": "stream",
     "text": [
      "=============================================================\n",
      "epoch: 6, source_val_acc_label: 0.8144, target_val_acc_label: 0.8462, source_val_label_loss: 0.5406, target_val_label_loss: 41.4053, \n",
      "=============================================================\n"
     ]
    },
    {
     "name": "stdout",
     "output_type": "stream",
     "text": [
      "New best\n"
     ]
    },
    {
     "name": "stdout",
     "output_type": "stream",
     "text": [
      "epoch: 7, [batch: 1 / 6720], examples_per_second: 4.0618, train_label_loss: 0.1756, \n"
     ]
    },
    {
     "name": "stdout",
     "output_type": "stream",
     "text": [
      "epoch: 7, [batch: 672 / 6720], examples_per_second: 4361.3113, train_label_loss: 0.1564, \n"
     ]
    },
    {
     "name": "stdout",
     "output_type": "stream",
     "text": [
      "epoch: 7, [batch: 1344 / 6720], examples_per_second: 4228.6386, train_label_loss: 0.3297, \n"
     ]
    },
    {
     "name": "stdout",
     "output_type": "stream",
     "text": [
      "epoch: 7, [batch: 2016 / 6720], examples_per_second: 4240.2200, train_label_loss: 0.3220, \n"
     ]
    },
    {
     "name": "stdout",
     "output_type": "stream",
     "text": [
      "epoch: 7, [batch: 2688 / 6720], examples_per_second: 4811.5601, train_label_loss: 0.2861, \n"
     ]
    },
    {
     "name": "stdout",
     "output_type": "stream",
     "text": [
      "epoch: 7, [batch: 3360 / 6720], examples_per_second: 4089.1080, train_label_loss: 0.4082, \n"
     ]
    },
    {
     "name": "stdout",
     "output_type": "stream",
     "text": [
      "epoch: 7, [batch: 4032 / 6720], examples_per_second: 4112.8928, train_label_loss: 0.3272, \n"
     ]
    },
    {
     "name": "stdout",
     "output_type": "stream",
     "text": [
      "epoch: 7, [batch: 4704 / 6720], examples_per_second: 4015.2269, train_label_loss: 0.3063, \n"
     ]
    },
    {
     "name": "stdout",
     "output_type": "stream",
     "text": [
      "epoch: 7, [batch: 5376 / 6720], examples_per_second: 3968.9839, train_label_loss: 0.2536, \n"
     ]
    },
    {
     "name": "stdout",
     "output_type": "stream",
     "text": [
      "epoch: 7, [batch: 6048 / 6720], examples_per_second: 4017.6252, train_label_loss: 0.5506, \n"
     ]
    },
    {
     "name": "stdout",
     "output_type": "stream",
     "text": [
      "=============================================================\n",
      "epoch: 7, source_val_acc_label: 0.8197, target_val_acc_label: 0.8466, source_val_label_loss: 0.5412, target_val_label_loss: 57.3997, \n",
      "=============================================================\n"
     ]
    },
    {
     "name": "stdout",
     "output_type": "stream",
     "text": [
      "New best\n"
     ]
    },
    {
     "name": "stdout",
     "output_type": "stream",
     "text": [
      "epoch: 8, [batch: 1 / 6720], examples_per_second: 3.9598, train_label_loss: 0.2337, \n"
     ]
    },
    {
     "name": "stdout",
     "output_type": "stream",
     "text": [
      "epoch: 8, [batch: 672 / 6720], examples_per_second: 3917.0060, train_label_loss: 0.3688, \n"
     ]
    },
    {
     "name": "stdout",
     "output_type": "stream",
     "text": [
      "epoch: 8, [batch: 1344 / 6720], examples_per_second: 4299.9674, train_label_loss: 0.2597, \n"
     ]
    },
    {
     "name": "stdout",
     "output_type": "stream",
     "text": [
      "epoch: 8, [batch: 2016 / 6720], examples_per_second: 4200.8061, train_label_loss: 0.6415, \n"
     ]
    },
    {
     "name": "stdout",
     "output_type": "stream",
     "text": [
      "epoch: 8, [batch: 2688 / 6720], examples_per_second: 4285.6801, train_label_loss: 0.2405, \n"
     ]
    },
    {
     "name": "stdout",
     "output_type": "stream",
     "text": [
      "epoch: 8, [batch: 3360 / 6720], examples_per_second: 4279.5385, train_label_loss: 0.1740, \n"
     ]
    },
    {
     "name": "stdout",
     "output_type": "stream",
     "text": [
      "epoch: 8, [batch: 4032 / 6720], examples_per_second: 3555.1073, train_label_loss: 0.4836, \n"
     ]
    },
    {
     "name": "stdout",
     "output_type": "stream",
     "text": [
      "epoch: 8, [batch: 4704 / 6720], examples_per_second: 3441.8925, train_label_loss: 0.2135, \n"
     ]
    },
    {
     "name": "stdout",
     "output_type": "stream",
     "text": [
      "epoch: 8, [batch: 5376 / 6720], examples_per_second: 2986.3816, train_label_loss: 0.1626, \n"
     ]
    },
    {
     "name": "stdout",
     "output_type": "stream",
     "text": [
      "epoch: 8, [batch: 6048 / 6720], examples_per_second: 2978.8799, train_label_loss: 0.0338, \n"
     ]
    },
    {
     "name": "stdout",
     "output_type": "stream",
     "text": [
      "=============================================================\n",
      "epoch: 8, source_val_acc_label: 0.8099, target_val_acc_label: 0.8467, source_val_label_loss: 0.5743, target_val_label_loss: 62.4432, \n",
      "=============================================================\n"
     ]
    },
    {
     "name": "stdout",
     "output_type": "stream",
     "text": [
      "New best\n"
     ]
    },
    {
     "name": "stdout",
     "output_type": "stream",
     "text": [
      "epoch: 9, [batch: 1 / 6720], examples_per_second: 2.7508, train_label_loss: 0.1177, \n"
     ]
    },
    {
     "name": "stdout",
     "output_type": "stream",
     "text": [
      "epoch: 9, [batch: 672 / 6720], examples_per_second: 2926.6253, train_label_loss: 0.2582, \n"
     ]
    },
    {
     "name": "stdout",
     "output_type": "stream",
     "text": [
      "epoch: 9, [batch: 1344 / 6720], examples_per_second: 2965.9614, train_label_loss: 0.1842, \n"
     ]
    },
    {
     "name": "stdout",
     "output_type": "stream",
     "text": [
      "epoch: 9, [batch: 2016 / 6720], examples_per_second: 2981.4158, train_label_loss: 0.1717, \n"
     ]
    },
    {
     "name": "stdout",
     "output_type": "stream",
     "text": [
      "epoch: 9, [batch: 2688 / 6720], examples_per_second: 3262.4485, train_label_loss: 0.0788, \n"
     ]
    },
    {
     "name": "stdout",
     "output_type": "stream",
     "text": [
      "epoch: 9, [batch: 3360 / 6720], examples_per_second: 3412.8924, train_label_loss: 0.3086, \n"
     ]
    },
    {
     "name": "stdout",
     "output_type": "stream",
     "text": [
      "epoch: 9, [batch: 4032 / 6720], examples_per_second: 3334.2180, train_label_loss: 0.2014, \n"
     ]
    },
    {
     "name": "stdout",
     "output_type": "stream",
     "text": [
      "epoch: 9, [batch: 4704 / 6720], examples_per_second: 3397.5136, train_label_loss: 0.1531, \n"
     ]
    },
    {
     "name": "stdout",
     "output_type": "stream",
     "text": [
      "epoch: 9, [batch: 5376 / 6720], examples_per_second: 3374.4119, train_label_loss: 0.0940, \n"
     ]
    },
    {
     "name": "stdout",
     "output_type": "stream",
     "text": [
      "epoch: 9, [batch: 6048 / 6720], examples_per_second: 3413.2737, train_label_loss: 0.2605, \n"
     ]
    },
    {
     "name": "stdout",
     "output_type": "stream",
     "text": [
      "=============================================================\n",
      "epoch: 9, source_val_acc_label: 0.8135, target_val_acc_label: 0.8436, source_val_label_loss: 0.5924, target_val_label_loss: 66.1228, \n",
      "=============================================================\n"
     ]
    },
    {
     "name": "stdout",
     "output_type": "stream",
     "text": [
      "epoch: 10, [batch: 1 / 6720], examples_per_second: 3.1584, train_label_loss: 0.4229, \n"
     ]
    },
    {
     "name": "stdout",
     "output_type": "stream",
     "text": [
      "epoch: 10, [batch: 672 / 6720], examples_per_second: 3344.7389, train_label_loss: 0.1123, \n"
     ]
    },
    {
     "name": "stdout",
     "output_type": "stream",
     "text": [
      "epoch: 10, [batch: 1344 / 6720], examples_per_second: 3350.1147, train_label_loss: 0.3713, \n"
     ]
    },
    {
     "name": "stdout",
     "output_type": "stream",
     "text": [
      "epoch: 10, [batch: 2016 / 6720], examples_per_second: 3430.1298, train_label_loss: 0.1011, \n"
     ]
    },
    {
     "name": "stdout",
     "output_type": "stream",
     "text": [
      "epoch: 10, [batch: 2688 / 6720], examples_per_second: 3527.3979, train_label_loss: 0.1810, \n"
     ]
    },
    {
     "name": "stdout",
     "output_type": "stream",
     "text": [
      "epoch: 10, [batch: 3360 / 6720], examples_per_second: 3405.8779, train_label_loss: 0.1828, \n"
     ]
    },
    {
     "name": "stdout",
     "output_type": "stream",
     "text": [
      "epoch: 10, [batch: 4032 / 6720], examples_per_second: 3337.2442, train_label_loss: 0.1204, \n"
     ]
    },
    {
     "name": "stdout",
     "output_type": "stream",
     "text": [
      "epoch: 10, [batch: 4704 / 6720], examples_per_second: 3362.4465, train_label_loss: 0.0486, \n"
     ]
    },
    {
     "name": "stdout",
     "output_type": "stream",
     "text": [
      "epoch: 10, [batch: 5376 / 6720], examples_per_second: 3438.6553, train_label_loss: 0.0455, \n"
     ]
    },
    {
     "name": "stdout",
     "output_type": "stream",
     "text": [
      "epoch: 10, [batch: 6048 / 6720], examples_per_second: 3432.6662, train_label_loss: 0.0507, \n"
     ]
    },
    {
     "name": "stdout",
     "output_type": "stream",
     "text": [
      "=============================================================\n",
      "epoch: 10, source_val_acc_label: 0.7991, target_val_acc_label: 0.8553, source_val_label_loss: 0.6246, target_val_label_loss: 56.9034, \n",
      "=============================================================\n"
     ]
    },
    {
     "name": "stdout",
     "output_type": "stream",
     "text": [
      "New best\n"
     ]
    },
    {
     "name": "stdout",
     "output_type": "stream",
     "text": [
      "epoch: 11, [batch: 1 / 6720], examples_per_second: 3.1762, train_label_loss: 0.1590, \n"
     ]
    },
    {
     "name": "stdout",
     "output_type": "stream",
     "text": [
      "epoch: 11, [batch: 672 / 6720], examples_per_second: 3399.7467, train_label_loss: 0.1162, \n"
     ]
    },
    {
     "name": "stdout",
     "output_type": "stream",
     "text": [
      "epoch: 11, [batch: 1344 / 6720], examples_per_second: 3463.2462, train_label_loss: 0.0681, \n"
     ]
    },
    {
     "name": "stdout",
     "output_type": "stream",
     "text": [
      "epoch: 11, [batch: 2016 / 6720], examples_per_second: 3414.2984, train_label_loss: 0.1081, \n"
     ]
    },
    {
     "name": "stdout",
     "output_type": "stream",
     "text": [
      "epoch: 11, [batch: 2688 / 6720], examples_per_second: 3371.7055, train_label_loss: 0.2739, \n"
     ]
    },
    {
     "name": "stdout",
     "output_type": "stream",
     "text": [
      "epoch: 11, [batch: 3360 / 6720], examples_per_second: 3428.3516, train_label_loss: 0.2894, \n"
     ]
    },
    {
     "name": "stdout",
     "output_type": "stream",
     "text": [
      "epoch: 11, [batch: 4032 / 6720], examples_per_second: 3401.1339, train_label_loss: 0.0505, \n"
     ]
    },
    {
     "name": "stdout",
     "output_type": "stream",
     "text": [
      "epoch: 11, [batch: 4704 / 6720], examples_per_second: 3371.3338, train_label_loss: 0.0274, \n"
     ]
    },
    {
     "name": "stdout",
     "output_type": "stream",
     "text": [
      "epoch: 11, [batch: 5376 / 6720], examples_per_second: 3407.5403, train_label_loss: 0.5446, \n"
     ]
    },
    {
     "name": "stdout",
     "output_type": "stream",
     "text": [
      "epoch: 11, [batch: 6048 / 6720], examples_per_second: 3513.0628, train_label_loss: 0.3280, \n"
     ]
    },
    {
     "name": "stdout",
     "output_type": "stream",
     "text": [
      "=============================================================\n",
      "epoch: 11, source_val_acc_label: 0.8091, target_val_acc_label: 0.8522, source_val_label_loss: 0.6281, target_val_label_loss: 65.1697, \n",
      "=============================================================\n"
     ]
    },
    {
     "name": "stdout",
     "output_type": "stream",
     "text": [
      "epoch: 12, [batch: 1 / 6720], examples_per_second: 3.9196, train_label_loss: 0.0484, \n"
     ]
    },
    {
     "name": "stdout",
     "output_type": "stream",
     "text": [
      "epoch: 12, [batch: 672 / 6720], examples_per_second: 4008.1372, train_label_loss: 0.1768, \n"
     ]
    },
    {
     "name": "stdout",
     "output_type": "stream",
     "text": [
      "epoch: 12, [batch: 1344 / 6720], examples_per_second: 3927.8800, train_label_loss: 0.2266, \n"
     ]
    },
    {
     "name": "stdout",
     "output_type": "stream",
     "text": [
      "epoch: 12, [batch: 2016 / 6720], examples_per_second: 3898.5887, train_label_loss: 0.1387, \n"
     ]
    },
    {
     "name": "stdout",
     "output_type": "stream",
     "text": [
      "epoch: 12, [batch: 2688 / 6720], examples_per_second: 3808.7895, train_label_loss: 0.1136, \n"
     ]
    },
    {
     "name": "stdout",
     "output_type": "stream",
     "text": [
      "epoch: 12, [batch: 3360 / 6720], examples_per_second: 3875.0237, train_label_loss: 0.1505, \n"
     ]
    },
    {
     "name": "stdout",
     "output_type": "stream",
     "text": [
      "epoch: 12, [batch: 4032 / 6720], examples_per_second: 4138.1978, train_label_loss: 0.0759, \n"
     ]
    },
    {
     "name": "stdout",
     "output_type": "stream",
     "text": [
      "epoch: 12, [batch: 4704 / 6720], examples_per_second: 4313.6238, train_label_loss: 0.0566, \n"
     ]
    },
    {
     "name": "stdout",
     "output_type": "stream",
     "text": [
      "epoch: 12, [batch: 5376 / 6720], examples_per_second: 4267.0060, train_label_loss: 0.2484, \n"
     ]
    },
    {
     "name": "stdout",
     "output_type": "stream",
     "text": [
      "epoch: 12, [batch: 6048 / 6720], examples_per_second: 4451.7863, train_label_loss: 0.1659, \n"
     ]
    },
    {
     "name": "stdout",
     "output_type": "stream",
     "text": [
      "=============================================================\n",
      "epoch: 12, source_val_acc_label: 0.8006, target_val_acc_label: 0.8545, source_val_label_loss: 0.6764, target_val_label_loss: 64.7058, \n",
      "=============================================================\n"
     ]
    },
    {
     "name": "stdout",
     "output_type": "stream",
     "text": [
      "epoch: 13, [batch: 1 / 6720], examples_per_second: 4.6817, train_label_loss: 0.1819, \n"
     ]
    },
    {
     "name": "stdout",
     "output_type": "stream",
     "text": [
      "epoch: 13, [batch: 672 / 6720], examples_per_second: 5097.3968, train_label_loss: 0.0722, \n"
     ]
    },
    {
     "name": "stdout",
     "output_type": "stream",
     "text": [
      "epoch: 13, [batch: 1344 / 6720], examples_per_second: 4229.7591, train_label_loss: 0.0887, \n"
     ]
    },
    {
     "name": "stdout",
     "output_type": "stream",
     "text": [
      "epoch: 13, [batch: 2016 / 6720], examples_per_second: 4021.5105, train_label_loss: 0.0844, \n"
     ]
    },
    {
     "name": "stdout",
     "output_type": "stream",
     "text": [
      "epoch: 13, [batch: 2688 / 6720], examples_per_second: 3951.1110, train_label_loss: 0.2294, \n"
     ]
    },
    {
     "name": "stdout",
     "output_type": "stream",
     "text": [
      "epoch: 13, [batch: 3360 / 6720], examples_per_second: 3918.0177, train_label_loss: 0.1812, \n"
     ]
    },
    {
     "name": "stdout",
     "output_type": "stream",
     "text": [
      "epoch: 13, [batch: 4032 / 6720], examples_per_second: 3937.3915, train_label_loss: 0.0312, \n"
     ]
    },
    {
     "name": "stdout",
     "output_type": "stream",
     "text": [
      "epoch: 13, [batch: 4704 / 6720], examples_per_second: 3982.0585, train_label_loss: 0.0325, \n"
     ]
    },
    {
     "name": "stdout",
     "output_type": "stream",
     "text": [
      "epoch: 13, [batch: 5376 / 6720], examples_per_second: 4093.0379, train_label_loss: 0.0458, \n"
     ]
    },
    {
     "name": "stdout",
     "output_type": "stream",
     "text": [
      "epoch: 13, [batch: 6048 / 6720], examples_per_second: 3997.4781, train_label_loss: 0.0749, \n"
     ]
    },
    {
     "name": "stdout",
     "output_type": "stream",
     "text": [
      "=============================================================\n",
      "epoch: 13, source_val_acc_label: 0.8060, target_val_acc_label: 0.8550, source_val_label_loss: 0.6940, target_val_label_loss: 72.0588, \n",
      "=============================================================\n"
     ]
    },
    {
     "name": "stdout",
     "output_type": "stream",
     "text": [
      "epoch: 14, [batch: 1 / 6720], examples_per_second: 3.9342, train_label_loss: 0.0210, \n"
     ]
    },
    {
     "name": "stdout",
     "output_type": "stream",
     "text": [
      "epoch: 14, [batch: 672 / 6720], examples_per_second: 4048.6630, train_label_loss: 0.1191, \n"
     ]
    },
    {
     "name": "stdout",
     "output_type": "stream",
     "text": [
      "epoch: 14, [batch: 1344 / 6720], examples_per_second: 4130.0662, train_label_loss: 0.2776, \n"
     ]
    },
    {
     "name": "stdout",
     "output_type": "stream",
     "text": [
      "epoch: 14, [batch: 2016 / 6720], examples_per_second: 4114.2950, train_label_loss: 0.0292, \n"
     ]
    },
    {
     "name": "stdout",
     "output_type": "stream",
     "text": [
      "epoch: 14, [batch: 2688 / 6720], examples_per_second: 3878.8173, train_label_loss: 0.0045, \n"
     ]
    },
    {
     "name": "stdout",
     "output_type": "stream",
     "text": [
      "epoch: 14, [batch: 3360 / 6720], examples_per_second: 3963.5733, train_label_loss: 0.2454, \n"
     ]
    },
    {
     "name": "stdout",
     "output_type": "stream",
     "text": [
      "epoch: 14, [batch: 4032 / 6720], examples_per_second: 4014.1953, train_label_loss: 0.1051, \n"
     ]
    },
    {
     "name": "stdout",
     "output_type": "stream",
     "text": [
      "epoch: 14, [batch: 4704 / 6720], examples_per_second: 4032.6662, train_label_loss: 0.0962, \n"
     ]
    },
    {
     "name": "stdout",
     "output_type": "stream",
     "text": [
      "epoch: 14, [batch: 5376 / 6720], examples_per_second: 3937.6849, train_label_loss: 0.1283, \n"
     ]
    },
    {
     "name": "stdout",
     "output_type": "stream",
     "text": [
      "epoch: 14, [batch: 6048 / 6720], examples_per_second: 3026.8537, train_label_loss: 0.0097, \n"
     ]
    },
    {
     "name": "stdout",
     "output_type": "stream",
     "text": [
      "=============================================================\n",
      "epoch: 14, source_val_acc_label: 0.8120, target_val_acc_label: 0.8504, source_val_label_loss: 0.7043, target_val_label_loss: 83.7306, \n",
      "=============================================================\n"
     ]
    },
    {
     "name": "stdout",
     "output_type": "stream",
     "text": [
      "Patience (3) exhausted\n"
     ]
    }
   ],
   "source": [
    "###################################\n",
    "# train\n",
    "###################################\n",
    "jig = PTN_Train_Eval_Test_Jig(model, p.BEST_MODEL_PATH, p.device)\n",
    "\n",
    "jig.train(\n",
    "    train_iterable=datasets.source.processed.train,\n",
    "    source_val_iterable=datasets.source.processed.val,\n",
    "    target_val_iterable=datasets.target.processed.val,\n",
    "    num_epochs=p.n_epoch,\n",
    "    num_logs_per_epoch=p.NUM_LOGS_PER_EPOCH,\n",
    "    patience=p.patience,\n",
    "    optimizer=optimizer,\n",
    "    criteria_for_best=p.criteria_for_best,\n",
    ")"
   ]
  },
  {
   "cell_type": "code",
   "execution_count": 23,
   "id": "31e8fabf",
   "metadata": {
    "execution": {
     "iopub.execute_input": "2022-03-23T09:23:34.692115Z",
     "iopub.status.busy": "2022-03-23T09:23:34.691744Z",
     "iopub.status.idle": "2022-03-23T09:23:34.723302Z",
     "shell.execute_reply": "2022-03-23T09:23:34.722582Z"
    },
    "papermill": {
     "duration": 0.101791,
     "end_time": "2022-03-23T09:23:34.723467",
     "exception": false,
     "start_time": "2022-03-23T09:23:34.621676",
     "status": "completed"
    },
    "tags": []
   },
   "outputs": [],
   "source": [
    "total_experiment_time_secs = time.time() - start_time_secs"
   ]
  },
  {
   "cell_type": "code",
   "execution_count": 24,
   "id": "87b9595b",
   "metadata": {
    "execution": {
     "iopub.execute_input": "2022-03-23T09:23:34.868006Z",
     "iopub.status.busy": "2022-03-23T09:23:34.867610Z",
     "iopub.status.idle": "2022-03-23T09:27:18.896368Z",
     "shell.execute_reply": "2022-03-23T09:27:18.897088Z"
    },
    "papermill": {
     "duration": 224.100864,
     "end_time": "2022-03-23T09:27:18.897322",
     "exception": false,
     "start_time": "2022-03-23T09:23:34.796458",
     "status": "completed"
    },
    "tags": []
   },
   "outputs": [],
   "source": [
    "###################################\n",
    "# Evaluate the model\n",
    "###################################\n",
    "source_test_label_accuracy, source_test_label_loss = jig.test(datasets.source.processed.test)\n",
    "target_test_label_accuracy, target_test_label_loss = jig.test(datasets.target.processed.test)\n",
    "\n",
    "source_val_label_accuracy, source_val_label_loss = jig.test(datasets.source.processed.val)\n",
    "target_val_label_accuracy, target_val_label_loss = jig.test(datasets.target.processed.val)\n",
    "\n",
    "history = jig.get_history()\n",
    "\n",
    "total_epochs_trained = len(history[\"epoch_indices\"])\n",
    "\n",
    "val_dl = Iterable_Aggregator((datasets.source.original.val,datasets.target.original.val))\n",
    "\n",
    "confusion = ptn_confusion_by_domain_over_dataloader(model, p.device, val_dl)\n",
    "per_domain_accuracy = per_domain_accuracy_from_confusion(confusion)\n",
    "\n",
    "# Add a key to per_domain_accuracy for if it was a source domain\n",
    "for domain, accuracy in per_domain_accuracy.items():\n",
    "    per_domain_accuracy[domain] = {\n",
    "        \"accuracy\": accuracy,\n",
    "        \"source?\": domain in p.domains_source\n",
    "    }\n",
    "\n",
    "# Do an independent accuracy assesment JUST TO BE SURE!\n",
    "# _source_test_label_accuracy = independent_accuracy_assesment(model, datasets.source.processed.test, p.device)\n",
    "# _target_test_label_accuracy = independent_accuracy_assesment(model, datasets.target.processed.test, p.device)\n",
    "# _source_val_label_accuracy = independent_accuracy_assesment(model, datasets.source.processed.val, p.device)\n",
    "# _target_val_label_accuracy = independent_accuracy_assesment(model, datasets.target.processed.val, p.device)\n",
    "\n",
    "# assert(_source_test_label_accuracy == source_test_label_accuracy)\n",
    "# assert(_target_test_label_accuracy == target_test_label_accuracy)\n",
    "# assert(_source_val_label_accuracy == source_val_label_accuracy)\n",
    "# assert(_target_val_label_accuracy == target_val_label_accuracy)\n",
    "\n",
    "experiment = {\n",
    "    \"experiment_name\": p.experiment_name,\n",
    "    \"parameters\": dict(p),\n",
    "    \"results\": {\n",
    "        \"source_test_label_accuracy\": source_test_label_accuracy,\n",
    "        \"source_test_label_loss\": source_test_label_loss,\n",
    "        \"target_test_label_accuracy\": target_test_label_accuracy,\n",
    "        \"target_test_label_loss\": target_test_label_loss,\n",
    "        \"source_val_label_accuracy\": source_val_label_accuracy,\n",
    "        \"source_val_label_loss\": source_val_label_loss,\n",
    "        \"target_val_label_accuracy\": target_val_label_accuracy,\n",
    "        \"target_val_label_loss\": target_val_label_loss,\n",
    "        \"total_epochs_trained\": total_epochs_trained,\n",
    "        \"total_experiment_time_secs\": total_experiment_time_secs,\n",
    "        \"confusion\": confusion,\n",
    "        \"per_domain_accuracy\": per_domain_accuracy,\n",
    "    },\n",
    "    \"history\": history,\n",
    "    \"dataset_metrics\": get_dataset_metrics(datasets, \"ptn\"),\n",
    "}"
   ]
  },
  {
   "cell_type": "code",
   "execution_count": 25,
   "id": "54a21829",
   "metadata": {
    "execution": {
     "iopub.execute_input": "2022-03-23T09:27:19.040064Z",
     "iopub.status.busy": "2022-03-23T09:27:19.039686Z",
     "iopub.status.idle": "2022-03-23T09:27:19.262406Z",
     "shell.execute_reply": "2022-03-23T09:27:19.263085Z"
    },
    "papermill": {
     "duration": 0.2942,
     "end_time": "2022-03-23T09:27:19.263300",
     "exception": false,
     "start_time": "2022-03-23T09:27:18.969100",
     "status": "completed"
    },
    "tags": []
   },
   "outputs": [
    {
     "data": {
      "image/png": "[encoded data removed]",
      "text/plain": [
       "<Figure size 1080x504 with 1 Axes>"
      ]
     },
     "metadata": {
      "needs_background": "light"
     },
     "output_type": "display_data"
    }
   ],
   "source": [
    "ax = get_loss_curve(experiment)\n",
    "plt.show()"
   ]
  },
  {
   "cell_type": "code",
   "execution_count": 26,
   "id": "fd8a0f60",
   "metadata": {
    "execution": {
     "iopub.execute_input": "2022-03-23T09:27:19.447184Z",
     "iopub.status.busy": "2022-03-23T09:27:19.446810Z",
     "iopub.status.idle": "2022-03-23T09:27:19.778335Z",
     "shell.execute_reply": "2022-03-23T09:27:19.778651Z"
    },
    "papermill": {
     "duration": 0.444468,
     "end_time": "2022-03-23T09:27:19.778771",
     "exception": false,
     "start_time": "2022-03-23T09:27:19.334303",
     "status": "completed"
    },
    "tags": []
   },
   "outputs": [
    {
     "data": {
      "text/plain": [
       "<AxesSubplot:title={'center':'Results'}>"
      ]
     },
     "execution_count": 26,
     "metadata": {},
     "output_type": "execute_result"
    },
    {
     "data": {
      "image/png": "[encoded data removed]",
      "text/plain": [
       "<Figure size 1080x504 with 1 Axes>"
      ]
     },
     "metadata": {
      "needs_background": "light"
     },
     "output_type": "display_data"
    }
   ],
   "source": [
    "get_results_table(experiment)"
   ]
  },
  {
   "cell_type": "code",
   "execution_count": 27,
   "id": "cf8dc689",
   "metadata": {
    "execution": {
     "iopub.execute_input": "2022-03-23T09:27:19.928482Z",
     "iopub.status.busy": "2022-03-23T09:27:19.928111Z",
     "iopub.status.idle": "2022-03-23T09:27:20.180725Z",
     "shell.execute_reply": "2022-03-23T09:27:20.181400Z"
    },
    "papermill": {
     "duration": 0.327606,
     "end_time": "2022-03-23T09:27:20.181611",
     "exception": false,
     "start_time": "2022-03-23T09:27:19.854005",
     "status": "completed"
    },
    "tags": []
   },
   "outputs": [
    {
     "data": {
      "text/plain": [
       "<AxesSubplot:title={'center':'Per Domain Validation Accuracy'}, xlabel='domain'>"
      ]
     },
     "execution_count": 27,
     "metadata": {},
     "output_type": "execute_result"
    },
    {
     "data": {
      "image/png": "[encoded data removed]",
      "text/plain": [
       "<Figure size 1080x504 with 1 Axes>"
      ]
     },
     "metadata": {
      "needs_background": "light"
     },
     "output_type": "display_data"
    }
   ],
   "source": [
    "get_domain_accuracies(experiment)"
   ]
  },
  {
   "cell_type": "code",
   "execution_count": 28,
   "id": "a74ae082",
   "metadata": {
    "execution": {
     "iopub.execute_input": "2022-03-23T09:27:20.331934Z",
     "iopub.status.busy": "2022-03-23T09:27:20.331519Z",
     "iopub.status.idle": "2022-03-23T09:27:20.353159Z",
     "shell.execute_reply": "2022-03-23T09:27:20.353827Z"
    },
    "papermill": {
     "duration": 0.097029,
     "end_time": "2022-03-23T09:27:20.354033",
     "exception": false,
     "start_time": "2022-03-23T09:27:20.257004",
     "status": "completed"
    },
    "tags": []
   },
   "outputs": [
    {
     "name": "stdout",
     "output_type": "stream",
     "text": [
      "Source Test Label Accuracy: 0.7997721354166667 Target Test Label Accuracy: 0.8488883143743536\n",
      "Source Val Label Accuracy: 0.7990559895833333 Target Val Label Accuracy: 0.8553204113924051\n"
     ]
    }
   ],
   "source": [
    "print(\"Source Test Label Accuracy:\", experiment[\"results\"][\"source_test_label_accuracy\"], \"Target Test Label Accuracy:\", experiment[\"results\"][\"target_test_label_accuracy\"])\n",
    "print(\"Source Val Label Accuracy:\", experiment[\"results\"][\"source_val_label_accuracy\"], \"Target Val Label Accuracy:\", experiment[\"results\"][\"target_val_label_accuracy\"])"
   ]
  },
  {
   "cell_type": "code",
   "execution_count": 29,
   "id": "dacca602",
   "metadata": {
    "execution": {
     "iopub.execute_input": "2022-03-23T09:27:20.502596Z",
     "iopub.status.busy": "2022-03-23T09:27:20.502230Z",
     "iopub.status.idle": "2022-03-23T09:27:20.533124Z",
     "shell.execute_reply": "2022-03-23T09:27:20.533792Z"
    },
    "papermill": {
     "duration": 0.103182,
     "end_time": "2022-03-23T09:27:20.534006",
     "exception": false,
     "start_time": "2022-03-23T09:27:20.430824",
     "status": "completed"
    },
    "tags": [
     "experiment_json"
    ]
   },
   "outputs": [
    {
     "data": {
      "text/plain": [
       "'{\"experiment_name\": \"tl_1v2:wisig-oracle.run1.limited\", \"parameters\": {\"experiment_name\": \"tl_1v2:wisig-oracle.run1.limited\", \"device\": \"cuda\", \"lr\": 0.0001, \"n_shot\": 3, \"n_query\": 2, \"train_k_factor\": 3, \"val_k_factor\": 2, \"test_k_factor\": 2, \"torch_default_dtype\": \"torch.float32\", \"n_epoch\": 50, \"patience\": 3, \"criteria_for_best\": \"target_accuracy\", \"x_net\": [{\"class\": \"nnReshape\", \"kargs\": {\"shape\": [-1, 1, 2, 256]}}, {\"class\": \"Conv2d\", \"kargs\": {\"in_channels\": 1, \"out_channels\": 256, \"kernel_size\": [1, 7], \"bias\": false, \"padding\": [0, 3]}}, {\"class\": \"ReLU\", \"kargs\": {\"inplace\": true}}, {\"class\": \"BatchNorm2d\", \"kargs\": {\"num_features\": 256}}, {\"class\": \"Conv2d\", \"kargs\": {\"in_channels\": 256, \"out_channels\": 80, \"kernel_size\": [2, 7], \"bias\": true, \"padding\": [0, 3]}}, {\"class\": \"ReLU\", \"kargs\": {\"inplace\": true}}, {\"class\": \"BatchNorm2d\", \"kargs\": {\"num_features\": 80}}, {\"class\": \"Flatten\", \"kargs\": {}}, {\"class\": \"Linear\", \"kargs\": {\"in_features\": 20480, \"out_features\": 256}}, {\"class\": \"ReLU\", \"kargs\": {\"inplace\": true}}, {\"class\": \"BatchNorm1d\", \"kargs\": {\"num_features\": 256}}, {\"class\": \"Linear\", \"kargs\": {\"in_features\": 256, \"out_features\": 256}}], \"NUM_LOGS_PER_EPOCH\": 10, \"BEST_MODEL_PATH\": \"./best_model.pth\", \"n_way\": 16, \"datasets\": [{\"labels\": [\"1-10\", \"1-12\", \"1-14\", \"1-16\", \"1-18\", \"1-19\", \"1-8\", \"10-11\", \"10-17\", \"10-4\", \"10-7\", \"11-1\", \"11-10\", \"11-19\", \"11-20\", \"11-4\", \"11-7\", \"12-19\", \"12-20\", \"12-7\", \"13-14\", \"13-18\", \"13-19\", \"13-20\", \"13-3\", \"13-7\", \"14-10\", \"14-11\", \"14-12\", \"14-13\", \"14-14\", \"14-19\", \"14-20\", \"14-7\", \"14-8\", \"14-9\", \"15-1\", \"15-19\", \"15-6\", \"16-1\", \"16-16\", \"16-19\", \"16-20\", \"17-10\", \"17-11\", \"18-1\", \"18-10\", \"18-11\", \"18-12\", \"18-13\", \"18-14\", \"18-15\", \"18-16\", \"18-17\", \"18-19\", \"18-2\", \"18-20\", \"18-4\", \"18-5\", \"18-7\", \"18-8\", \"18-9\", \"19-1\", \"19-10\", \"19-11\", \"19-12\", \"19-13\", \"19-14\", \"19-15\", \"19-19\", \"19-2\", \"19-20\", \"19-3\", \"19-4\", \"19-6\", \"19-7\", \"19-8\", \"19-9\", \"2-1\", \"2-13\", \"2-15\", \"2-3\", \"2-4\", \"2-5\", \"2-6\", \"2-7\", \"2-8\", \"20-1\", \"20-12\", \"20-14\", \"20-15\", \"20-16\", \"20-18\", \"20-19\", \"20-20\", \"20-3\", \"20-4\", \"20-5\", \"20-7\", \"20-8\", \"3-1\", \"3-13\", \"3-18\", \"3-2\", \"3-8\", \"4-1\", \"4-10\", \"4-11\", \"5-1\", \"5-5\", \"6-1\", \"6-15\", \"6-6\", \"7-10\", \"7-11\", \"7-12\", \"7-13\", \"7-14\", \"7-7\", \"7-8\", \"7-9\", \"8-1\", \"8-13\", \"8-14\", \"8-18\", \"8-20\", \"8-3\", \"8-8\", \"9-1\", \"9-7\"], \"domains\": [1, 2, 3, 4], \"num_examples_per_domain_per_label\": -1, \"pickle_path\": \"/root/csc500-main/datasets/wisig.node3-19.stratified_ds.2022A.pkl\", \"source_or_target_dataset\": \"target\", \"x_transforms\": [], \"episode_transforms\": [], \"domain_prefix\": \"Wisig_\"}, {\"labels\": [\"3123D52\", \"3123D65\", \"3123D79\", \"3123D80\", \"3123D54\", \"3123D70\", \"3123D7B\", \"3123D89\", \"3123D58\", \"3123D76\", \"3123D7D\", \"3123EFE\", \"3123D64\", \"3123D78\", \"3123D7E\", \"3124E4A\"], \"domains\": [32, 38, 8, 44, 14, 50, 20, 26], \"num_examples_per_domain_per_label\": 2000, \"pickle_path\": \"/root/csc500-main/datasets/oracle.Run1_10kExamples_stratified_ds.2022A.pkl\", \"source_or_target_dataset\": \"source\", \"x_transforms\": [], \"episode_transforms\": [], \"domain_prefix\": \"ORACLE.run1\"}], \"dataset_seed\": 500, \"seed\": 500, \"x_shape\": [2, 256], \"domains_source\": [\"ORACLE.run132\", \"ORACLE.run138\", \"ORACLE.run18\", \"ORACLE.run144\", \"ORACLE.run114\", \"ORACLE.run150\", \"ORACLE.run120\", \"ORACLE.run126\"], \"domains_target\": [\"Wisig_1\", \"Wisig_2\", \"Wisig_3\", \"Wisig_4\"]}, \"results\": {\"source_test_label_accuracy\": 0.7997721354166667, \"source_test_label_loss\": 0.6343213319778442, \"target_test_label_accuracy\": 0.8488883143743536, \"target_test_label_loss\": 56.84248352050781, \"source_val_label_accuracy\": 0.7990559895833333, \"source_val_label_loss\": 0.6246119737625122, \"target_val_label_accuracy\": 0.8553204113924051, \"target_val_label_loss\": 56.90339660644531, \"total_epochs_trained\": 14, \"total_experiment_time_secs\": 2452.9166283607483, \"confusion\": {\"ORACLE.run150\": {\"7\": {\"7\": 214, \"5\": 17, \"4\": 9}, \"10\": {\"10\": 231, \"8\": 8, \"0\": 1}, \"0\": {\"0\": 209, \"10\": 9, \"2\": 22}, \"11\": {\"11\": 201, \"9\": 16, \"15\": 14, \"12\": 9}, \"2\": {\"2\": 231, \"0\": 9}, \"14\": {\"14\": 239, \"2\": 1}, \"9\": {\"9\": 190, \"11\": 32, \"12\": 18}, \"13\": {\"13\": 235, \"5\": 1, \"1\": 3, \"6\": 1}, \"8\": {\"8\": 234, \"10\": 6}, \"15\": {\"15\": 206, \"11\": 9, \"6\": 21, \"9\": 1, \"4\": 3}, \"4\": {\"4\": 195, \"7\": 18, \"6\": 5, \"5\": 11, \"15\": 11}, \"5\": {\"6\": 59, \"5\": 106, \"4\": 18, \"7\": 50, \"1\": 2, \"13\": 5}, \"3\": {\"3\": 240}, \"1\": {\"1\": 228, \"13\": 7, \"6\": 3, \"5\": 1, \"15\": 1}, \"6\": {\"5\": 30, \"6\": 186, \"15\": 19, \"11\": 1, \"4\": 2, \"13\": 1, \"7\": 1}, \"12\": {\"12\": 211, \"9\": 15, \"11\": 14}}, \"ORACLE.run114\": {\"14\": {\"2\": 19, \"14\": 150, \"13\": 36, \"3\": 9, \"6\": 24, \"5\": 2}, \"6\": {\"13\": 59, \"6\": 141, \"14\": 22, \"2\": 17, \"3\": 1}, \"5\": {\"5\": 186, \"14\": 2, \"2\": 21, \"4\": 19, \"7\": 7, \"3\": 5}, \"15\": {\"15\": 240}, \"11\": {\"11\": 240}, \"8\": {\"8\": 239, \"0\": 1}, \"12\": {\"12\": 240}, \"1\": {\"1\": 238, \"4\": 2}, \"2\": {\"2\": 118, \"5\": 27, \"6\": 16, \"4\": 14, \"14\": 43, \"13\": 10, \"3\": 10, \"7\": 2}, \"13\": {\"15\": 6, \"6\": 88, \"14\": 66, \"13\": 64, \"2\": 12, \"3\": 4}, \"3\": {\"3\": 222, \"5\": 2, \"14\": 8, \"0\": 6, \"2\": 1, \"6\": 1}, \"0\": {\"0\": 216, \"10\": 15, \"3\": 8, \"14\": 1}, \"9\": {\"9\": 240}, \"4\": {\"4\": 190, \"5\": 32, \"2\": 12, \"1\": 2, \"14\": 4}, \"7\": {\"7\": 231, \"2\": 3, \"5\": 6}, \"10\": {\"10\": 231, \"0\": 7, \"4\": 2}}, \"ORACLE.run132\": {\"4\": {\"4\": 198, \"2\": 33, \"13\": 8, \"8\": 1}, \"14\": {\"14\": 140, \"7\": 57, \"4\": 3, \"0\": 15, \"8\": 9, \"2\": 6, \"5\": 10}, \"5\": {\"0\": 15, \"5\": 127, \"14\": 8, \"7\": 62, \"8\": 28}, \"10\": {\"10\": 240}, \"13\": {\"13\": 184, \"3\": 37, \"4\": 19}, \"9\": {\"9\": 233, \"12\": 6, \"2\": 1}, \"6\": {\"6\": 240}, \"3\": {\"3\": 220, \"13\": 20}, \"15\": {\"15\": 234, \"5\": 3, \"8\": 3}, \"7\": {\"5\": 47, \"7\": 112, \"14\": 42, \"0\": 35, \"8\": 4}, \"12\": {\"12\": 240}, \"8\": {\"8\": 174, \"0\": 24, \"5\": 15, \"15\": 2, \"7\": 7, \"14\": 8, \"13\": 1, \"4\": 8, \"2\": 1}, \"11\": {\"11\": 238, \"13\": 2}, \"2\": {\"2\": 205, \"4\": 33, \"0\": 1, \"14\": 1}, \"1\": {\"1\": 240}, \"0\": {\"0\": 167, \"5\": 9, \"8\": 26, \"14\": 7, \"7\": 30, \"2\": 1}}, \"ORACLE.run144\": {\"8\": {\"8\": 172, \"0\": 60, \"5\": 2, \"15\": 6}, \"11\": {\"11\": 239, \"13\": 1}, \"14\": {\"4\": 72, \"14\": 151, \"5\": 8, \"15\": 9}, \"10\": {\"10\": 211, \"7\": 4, \"1\": 9, \"2\": 16}, \"3\": {\"3\": 232, \"12\": 8}, \"15\": {\"15\": 192, \"8\": 10, \"14\": 17, \"0\": 5, \"5\": 14, \"4\": 2}, \"2\": {\"2\": 198, \"10\": 13, \"7\": 8, \"1\": 21}, \"12\": {\"12\": 226, \"3\": 14}, \"4\": {\"4\": 155, \"15\": 3, \"14\": 81, \"5\": 1}, \"1\": {\"1\": 210, \"2\": 29, \"10\": 1}, \"0\": {\"0\": 183, \"8\": 54, \"5\": 2, \"15\": 1}, \"9\": {\"7\": 55, \"9\": 113, \"6\": 49, \"2\": 1, \"13\": 22}, \"5\": {\"15\": 20, \"14\": 6, \"5\": 205, \"8\": 7, \"0\": 1, \"4\": 1}, \"6\": {\"6\": 180, \"13\": 34, \"9\": 21, \"7\": 5}, \"7\": {\"7\": 191, \"6\": 8, \"9\": 36, \"2\": 1, \"10\": 4}, \"13\": {\"6\": 37, \"13\": 185, \"9\": 13, \"11\": 4, \"4\": 1}}, \"ORACLE.run18\": {\"13\": {\"13\": 172, \"6\": 14, \"10\": 37, \"7\": 14, \"1\": 1, \"5\": 1, \"4\": 1}, \"3\": {\"3\": 235, \"2\": 5}, \"15\": {\"12\": 51, \"15\": 181, \"2\": 8}, \"4\": {\"4\": 213, \"6\": 7, \"14\": 11, \"1\": 2, \"10\": 2, \"11\": 5}, \"7\": {\"7\": 174, \"6\": 51, \"13\": 13, \"8\": 2}, \"2\": {\"2\": 169, \"3\": 47, \"15\": 19, \"12\": 5}, \"1\": {\"1\": 142, \"10\": 15, \"11\": 68, \"5\": 11, \"13\": 3, \"4\": 1}, \"0\": {\"0\": 240}, \"12\": {\"12\": 172, \"15\": 61, \"2\": 7}, \"6\": {\"6\": 163, \"13\": 12, \"7\": 61, \"10\": 1, \"4\": 1, \"11\": 1, \"8\": 1}, \"11\": {\"10\": 3, \"1\": 65, \"14\": 17, \"11\": 131, \"4\": 9, \"8\": 6, \"5\": 7, \"6\": 2}, \"9\": {\"9\": 240}, \"5\": {\"5\": 180, \"1\": 25, \"10\": 29, \"4\": 1, \"14\": 2, \"13\": 2, \"11\": 1}, \"10\": {\"10\": 162, \"4\": 5, \"1\": 20, \"13\": 31, \"6\": 5, \"5\": 15, \"11\": 2}, \"14\": {\"14\": 218, \"4\": 13, \"11\": 9}, \"8\": {\"8\": 234, \"6\": 2, \"7\": 2, \"4\": 1, \"11\": 1}}, \"ORACLE.run120\": {\"6\": {\"6\": 215, \"14\": 20, \"7\": 2, \"8\": 1, \"10\": 2}, \"11\": {\"11\": 240}, \"5\": {\"5\": 108, \"1\": 83, \"12\": 4, \"3\": 29, \"15\": 5, \"9\": 9, \"0\": 2}, \"14\": {\"14\": 214, \"6\": 6, \"8\": 20}, \"2\": {\"7\": 47, \"12\": 27, \"2\": 104, \"9\": 31, \"13\": 19, \"15\": 6, \"4\": 2, \"1\": 2, \"5\": 1, \"3\": 1}, \"7\": {\"7\": 155, \"2\": 31, \"6\": 9, \"9\": 26, \"8\": 5, \"4\": 7, \"3\": 5, \"12\": 2}, \"3\": {\"3\": 121, \"5\": 32, \"7\": 9, \"1\": 16, \"9\": 43, \"8\": 12, \"2\": 1, \"4\": 3, \"0\": 2, \"12\": 1}, \"4\": {\"10\": 12, \"12\": 19, \"4\": 190, \"7\": 13, \"3\": 1, \"2\": 4, \"1\": 1}, \"9\": {\"9\": 94, \"5\": 13, \"2\": 29, \"7\": 25, \"1\": 15, \"3\": 50, \"12\": 7, \"15\": 3, \"4\": 2, \"8\": 1, \"13\": 1}, \"12\": {\"15\": 34, \"1\": 17, \"12\": 121, \"7\": 4, \"2\": 29, \"5\": 6, \"13\": 11, \"9\": 5, \"4\": 10, \"3\": 3}, \"0\": {\"0\": 216, \"5\": 12, \"3\": 8, \"9\": 1, \"1\": 1, \"8\": 2}, \"10\": {\"10\": 229, \"6\": 2, \"4\": 8, \"7\": 1}, \"8\": {\"8\": 202, \"3\": 17, \"14\": 13, \"4\": 1, \"9\": 2, \"7\": 3, \"6\": 1, \"0\": 1}, \"13\": {\"13\": 202, \"2\": 17, \"12\": 10, \"15\": 10, \"4\": 1}, \"1\": {\"1\": 102, \"5\": 79, \"15\": 35, \"9\": 16, \"12\": 4, \"3\": 3, \"4\": 1}, \"15\": {\"15\": 149, \"12\": 21, \"1\": 30, \"5\": 9, \"13\": 16, \"2\": 5, \"9\": 7, \"4\": 2, \"3\": 1}}, \"ORACLE.run138\": {\"3\": {\"3\": 240}, \"8\": {\"8\": 144, \"5\": 67, \"7\": 12, \"15\": 6, \"13\": 5, \"12\": 1, \"0\": 5}, \"0\": {\"0\": 164, \"10\": 27, \"7\": 35, \"13\": 9, \"3\": 4, \"9\": 1}, \"2\": {\"2\": 213, \"14\": 25, \"13\": 2}, \"4\": {\"4\": 239, \"10\": 1}, \"7\": {\"7\": 220, \"0\": 12, \"13\": 1, \"8\": 6, \"5\": 1}, \"12\": {\"12\": 237, \"8\": 3}, \"6\": {\"6\": 239, \"1\": 1}, \"15\": {\"15\": 225, \"5\": 8, \"8\": 6, \"1\": 1}, \"11\": {\"11\": 240}, \"9\": {\"9\": 231, \"5\": 3, \"8\": 5, \"7\": 1}, \"14\": {\"14\": 217, \"2\": 21, \"10\": 1, \"12\": 1}, \"10\": {\"10\": 214, \"0\": 9, \"13\": 17}, \"5\": {\"7\": 13, \"5\": 103, \"8\": 95, \"9\": 16, \"15\": 11, \"0\": 1, \"13\": 1}, \"1\": {\"1\": 240}, \"13\": {\"13\": 214, \"10\": 25, \"14\": 1}}, \"ORACLE.run126\": {\"5\": {\"15\": 56, \"5\": 176, \"6\": 8}, \"8\": {\"9\": 51, \"8\": 133, \"7\": 40, \"0\": 5, \"2\": 11}, \"4\": {\"4\": 237, \"3\": 3}, \"12\": {\"12\": 240}, \"6\": {\"6\": 169, \"10\": 19, \"15\": 32, \"5\": 16, \"14\": 3, \"1\": 1}, \"7\": {\"7\": 132, \"3\": 29, \"8\": 32, \"2\": 39, \"9\": 8}, \"10\": {\"10\": 117, \"14\": 51, \"15\": 20, \"6\": 23, \"1\": 3, \"0\": 26}, \"0\": {\"14\": 29, \"0\": 146, \"10\": 39, \"8\": 16, \"15\": 3, \"7\": 1, \"1\": 3, \"2\": 2, \"6\": 1}, \"15\": {\"5\": 64, \"15\": 125, \"6\": 28, \"1\": 1, \"10\": 15, \"0\": 5, \"14\": 2}, \"9\": {\"8\": 71, \"9\": 138, \"13\": 16, \"2\": 10, \"7\": 5}, \"11\": {\"11\": 240}, \"14\": {\"1\": 11, \"10\": 50, \"14\": 145, \"15\": 7, \"0\": 25, \"6\": 2}, \"2\": {\"8\": 25, \"0\": 5, \"3\": 36, \"2\": 118, \"9\": 16, \"7\": 37, \"13\": 2, \"15\": 1}, \"13\": {\"13\": 209, \"9\": 21, \"2\": 5, \"3\": 2, \"7\": 3}, \"3\": {\"3\": 191, \"7\": 28, \"13\": 3, \"2\": 15, \"4\": 3}, \"1\": {\"14\": 38, \"1\": 186, \"5\": 2, \"6\": 4, \"10\": 8, \"15\": 2}}, \"Wisig_3\": {\"99\": {\"99\": 17, \"47\": 1, \"106\": 1, \"114\": 4, \"128\": 1, \"71\": 1, \"105\": 7, \"97\": 1, \"38\": 1, \"3\": 2}, \"8\": {\"8\": 118, \"30\": 2, \"15\": 2, \"0\": 2}, \"65\": {\"117\": 1, \"65\": 8, \"46\": 1, \"98\": 2}, \"117\": {\"117\": 109, \"2\": 1, \"126\": 1, \"27\": 1}, \"18\": {\"18\": 119, \"113\": 1, \"69\": 2, \"93\": 1, \"33\": 1}, \"39\": {\"39\": 105, \"43\": 2, \"16\": 1}, \"102\": {\"102\": 123, \"119\": 1}, \"76\": {\"117\": 1, \"57\": 1, \"76\": 11, \"28\": 1, \"33\": 1, \"98\": 1}, \"101\": {\"101\": 34, \"7\": 6, \"127\": 3, \"12\": 5, \"18\": 1, \"51\": 2, \"10\": 1}, \"57\": {\"65\": 1, \"57\": 10, \"28\": 2, \"32\": 2, \"74\": 2, \"55\": 1, \"120\": 1, \"6\": 1}, \"86\": {\"86\": 24, \"37\": 2, \"4\": 1, \"101\": 1}, \"11\": {\"11\": 120, \"43\": 4, \"10\": 2, \"113\": 1, \"109\": 1, \"87\": 4}, \"98\": {\"98\": 119, \"65\": 1, \"19\": 2, \"34\": 2, \"32\": 1, \"72\": 2, \"33\": 1}, \"42\": {\"42\": 14, \"68\": 2, \"5\": 3, \"85\": 2, \"124\": 5, \"98\": 1, \"73\": 1}, \"47\": {\"47\": 12}, \"49\": {\"49\": 17, \"15\": 2, \"113\": 1, \"62\": 1, \"0\": 2, \"14\": 1}, \"111\": {\"111\": 129, \"90\": 1, \"124\": 2}, \"36\": {\"36\": 107, \"24\": 2, \"30\": 1, \"27\": 5, \"108\": 1}, \"124\": {\"124\": 102, \"89\": 1, \"90\": 1, \"5\": 2}, \"122\": {\"122\": 42, \"96\": 1, \"87\": 2, \"110\": 3, \"113\": 1, \"10\": 4, \"8\": 4, \"126\": 2, \"26\": 1}, \"93\": {\"93\": 139, \"16\": 2, \"23\": 1}, \"89\": {\"92\": 1, \"89\": 25, \"90\": 2}, \"51\": {\"51\": 16}, \"73\": {\"73\": 37, \"21\": 1, \"52\": 1, \"98\": 1}, \"45\": {\"45\": 12, \"82\": 2, \"129\": 1, \"48\": 1}, \"5\": {\"5\": 101, \"113\": 3, \"85\": 1, \"111\": 3, \"109\": 1, \"42\": 1, \"124\": 1, \"18\": 1}, \"69\": {\"69\": 78, \"26\": 2, \"10\": 1, \"126\": 1, \"44\": 2}, \"26\": {\"26\": 130}, \"1\": {\"1\": 93, \"114\": 2, \"20\": 1, \"71\": 1, \"105\": 4, \"3\": 1, \"84\": 2, \"39\": 1, \"44\": 2, \"40\": 1}, \"92\": {\"92\": 28, \"89\": 4}, \"96\": {\"96\": 16, \"93\": 2, \"43\": 1, \"118\": 1}, \"85\": {\"85\": 36}, \"114\": {\"114\": 118, \"128\": 1, \"105\": 3, \"1\": 3, \"40\": 1}, \"50\": {\"90\": 1, \"116\": 1, \"86\": 1, \"50\": 9, \"29\": 2, \"104\": 1, \"48\": 1}, \"81\": {\"81\": 26, \"61\": 4, \"69\": 2}, \"2\": {\"2\": 24, \"92\": 1, \"117\": 3}, \"33\": {\"33\": 140, \"69\": 3, \"84\": 2, \"18\": 1}, \"31\": {\"31\": 19, \"92\": 1}, \"90\": {\"90\": 116, \"89\": 1, \"5\": 1}, \"17\": {\"86\": 2, \"120\": 2, \"63\": 1, \"104\": 1, \"17\": 6, \"113\": 1, \"23\": 1, \"115\": 1, \"102\": 1}, \"116\": {\"116\": 26, \"119\": 2}, \"91\": {\"85\": 4, \"91\": 15, \"77\": 2, \"52\": 1, \"98\": 1, \"117\": 1}, \"120\": {\"120\": 17, \"2\": 1, \"61\": 1, \"92\": 1}, \"128\": {\"74\": 2, \"105\": 1, \"128\": 20, \"56\": 1, \"98\": 2, \"100\": 1, \"28\": 1, \"114\": 1, \"55\": 1, \"9\": 1, \"19\": 1}, \"78\": {\"11\": 1, \"78\": 9, \"43\": 1, \"88\": 1, \"39\": 2, \"113\": 2}, \"58\": {\"58\": 8, \"98\": 1, \"99\": 1, \"73\": 4, \"68\": 1, \"56\": 1}, \"23\": {\"15\": 4, \"23\": 13, \"30\": 1, \"93\": 1, \"110\": 3, \"26\": 1, \"87\": 1, \"18\": 2, \"118\": 1, \"60\": 2, \"84\": 1, \"0\": 2}, \"15\": {\"97\": 1, \"15\": 96, \"10\": 1, \"94\": 1, \"8\": 4, \"21\": 1}, \"74\": {\"74\": 13, \"29\": 1, \"114\": 2}, \"34\": {\"74\": 1, \"34\": 18, \"20\": 1, \"52\": 1, \"72\": 2, \"73\": 1, \"44\": 1, \"83\": 1, \"114\": 2, \"0\": 1, \"53\": 2, \"107\": 1}, \"103\": {\"103\": 9, \"128\": 1, \"55\": 3, \"92\": 2, \"124\": 1}, \"106\": {\"106\": 90, \"8\": 1, \"127\": 1, \"7\": 2, \"15\": 2, \"12\": 2, \"0\": 2}, \"44\": {\"44\": 70, \"120\": 1, \"90\": 1}, \"9\": {\"9\": 28, \"46\": 1, \"82\": 1, \"107\": 1, \"105\": 1}, \"97\": {\"97\": 17, \"15\": 1, \"60\": 2}, \"123\": {\"123\": 14, \"37\": 1, \"68\": 1}, \"6\": {\"6\": 30, \"89\": 1, \"111\": 1}, \"68\": {\"6\": 2, \"68\": 12, \"124\": 1, \"111\": 1}, \"24\": {\"24\": 36, \"27\": 6, \"36\": 3, \"10\": 3}, \"21\": {\"21\": 31, \"39\": 3, \"89\": 1, \"70\": 3, \"109\": 2, \"113\": 1, \"24\": 2, \"82\": 1, \"43\": 2, \"18\": 1, \"26\": 1}, \"83\": {\"83\": 16, \"70\": 1, \"72\": 2, \"127\": 2, \"109\": 1, \"47\": 1, \"34\": 1}, \"60\": {\"60\": 22, \"87\": 2, \"62\": 1, \"105\": 1, \"93\": 1, \"96\": 1}, \"87\": {\"87\": 120}, \"30\": {\"30\": 71, \"108\": 2, \"116\": 1, \"117\": 1, \"94\": 1, \"23\": 1, \"122\": 1, \"129\": 1, \"87\": 1, \"10\": 2, \"36\": 1, \"8\": 1}, \"43\": {\"87\": 2, \"43\": 50, \"109\": 2, \"21\": 2}, \"115\": {\"115\": 16}, \"40\": {\"40\": 94, \"114\": 2, \"1\": 3, \"107\": 5, \"44\": 3, \"84\": 1, \"14\": 6, \"16\": 1, \"126\": 1, \"69\": 2, \"20\": 1, \"3\": 1}, \"112\": {\"66\": 1, \"112\": 4, \"124\": 1, \"59\": 2, \"98\": 2, \"77\": 2, \"46\": 1, \"38\": 1, \"56\": 1, \"68\": 1}, \"66\": {\"65\": 2, \"19\": 2, \"66\": 8, \"85\": 2, \"95\": 1, \"34\": 1}, \"110\": {\"110\": 84, \"11\": 2, \"93\": 2, \"122\": 1, \"87\": 2, \"113\": 1}, \"3\": {\"47\": 1, \"3\": 97, \"71\": 5, \"127\": 3, \"111\": 1, \"105\": 3, \"40\": 2, \"99\": 1, \"88\": 1}, \"20\": {\"40\": 2, \"57\": 1, \"20\": 3, \"38\": 2, \"107\": 2, \"1\": 3, \"114\": 1, \"99\": 1, \"105\": 1}, \"28\": {\"28\": 12, \"74\": 1, \"128\": 2, \"50\": 1}, \"84\": {\"84\": 87, \"39\": 2, \"89\": 1, \"62\": 4, \"109\": 1, \"1\": 4, \"16\": 5, \"14\": 2, \"113\": 1, \"105\": 1}, \"79\": {\"66\": 1, \"79\": 11}, \"118\": {\"118\": 91, \"122\": 2, \"12\": 1, \"70\": 1, \"87\": 4, \"39\": 1}, \"56\": {\"56\": 10, \"129\": 1, \"125\": 1}, \"48\": {\"48\": 6, \"104\": 2, \"13\": 2, \"2\": 1, \"86\": 1, \"37\": 1, \"79\": 1, \"102\": 2}, \"77\": {\"77\": 16}, \"14\": {\"14\": 75, \"62\": 2, \"84\": 1, \"40\": 2}, \"64\": {\"64\": 17, \"76\": 2, \"116\": 1}, \"67\": {\"67\": 15, \"27\": 1}, \"62\": {\"62\": 115, \"84\": 5, \"93\": 2, \"16\": 1, \"26\": 1}, \"75\": {\"75\": 14, \"72\": 2}, \"63\": {\"63\": 13, \"81\": 1, \"83\": 1, \"64\": 1}, \"7\": {\"7\": 104, \"101\": 2, \"105\": 1, \"16\": 1, \"12\": 3, \"127\": 1}, \"125\": {\"125\": 100, \"18\": 1, \"111\": 1, \"82\": 1, \"85\": 1}, \"37\": {\"37\": 15, \"52\": 1}, \"121\": {\"121\": 29, \"35\": 1, \"82\": 1, \"120\": 1}, \"16\": {\"16\": 94, \"93\": 5, \"118\": 2, \"113\": 1, \"94\": 1, \"18\": 1}, \"35\": {\"35\": 11, \"1\": 1}, \"32\": {\"32\": 30, \"28\": 2}, \"46\": {\"32\": 1, \"46\": 12, \"103\": 1, \"9\": 1, \"65\": 1}, \"70\": {\"70\": 56, \"88\": 5, \"10\": 2, \"108\": 4, \"113\": 1, \"118\": 2, \"109\": 1, \"69\": 1}, \"129\": {\"129\": 31, \"82\": 1}, \"95\": {\"95\": 25, \"84\": 1, \"9\": 3, \"105\": 1, \"128\": 1, \"114\": 1}, \"72\": {\"72\": 24, \"83\": 2, \"127\": 1, \"106\": 1}, \"19\": {\"74\": 1, \"98\": 5, \"19\": 16, \"100\": 1, \"46\": 1, \"34\": 3, \"76\": 1, \"95\": 2, \"32\": 2}, \"52\": {\"66\": 1, \"52\": 13, \"98\": 1, \"34\": 1}, \"100\": {\"100\": 11, \"44\": 1, \"27\": 1, \"57\": 3}, \"104\": {\"104\": 14, \"17\": 1, \"55\": 1}, \"59\": {\"59\": 12}, \"109\": {\"109\": 120, \"96\": 1, \"126\": 1, \"118\": 2, \"39\": 1, \"113\": 1}, \"88\": {\"88\": 101, \"78\": 1, \"11\": 3, \"70\": 2, \"109\": 1}, \"27\": {\"27\": 76, \"87\": 2, \"24\": 2, \"30\": 2, \"36\": 7, \"26\": 2, \"110\": 2, \"126\": 1}, \"113\": {\"113\": 116, \"122\": 2, \"109\": 1, \"82\": 1}, \"105\": {\"105\": 101, \"20\": 1, \"114\": 7, \"3\": 8, \"99\": 1, \"1\": 4, \"71\": 2}, \"71\": {\"71\": 49, \"33\": 1, \"105\": 3, \"7\": 2, \"3\": 3, \"127\": 7, \"31\": 1, \"102\": 1, \"69\": 1}, \"108\": {\"108\": 106, \"24\": 2, \"110\": 1, \"39\": 1, \"10\": 4, \"8\": 1, \"11\": 4, \"109\": 2, \"87\": 1, \"27\": 1, \"36\": 1}, \"41\": {\"41\": 11, \"124\": 3, \"5\": 1, \"98\": 1}, \"80\": {\"80\": 15, \"50\": 1}, \"13\": {\"13\": 11, \"116\": 1, \"80\": 2, \"119\": 2}, \"55\": {\"55\": 14, \"103\": 1, \"95\": 1}, \"0\": {\"0\": 91, \"15\": 1, \"39\": 1, \"8\": 9, \"12\": 2, \"98\": 1, \"90\": 1}, \"25\": {\"25\": 12, \"54\": 2, \"52\": 2}, \"53\": {\"53\": 18, \"114\": 1, \"40\": 1}, \"61\": {\"61\": 16}, \"38\": {\"38\": 13, \"32\": 2, \"107\": 1}, \"127\": {\"127\": 112, \"113\": 1, \"126\": 2, \"71\": 4, \"12\": 1, \"3\": 5, \"108\": 1, \"1\": 2}, \"4\": {\"4\": 92, \"125\": 1, \"18\": 1, \"102\": 1, \"27\": 1}, \"12\": {\"12\": 95, \"106\": 4, \"127\": 1, \"8\": 1, \"101\": 1, \"7\": 2}, \"126\": {\"126\": 118, \"118\": 1, \"109\": 1, \"113\": 1, \"70\": 1, \"39\": 2}, \"29\": {\"29\": 30, \"50\": 2}, \"107\": {\"107\": 130, \"44\": 4, \"40\": 2}, \"82\": {\"82\": 25, \"29\": 3}, \"94\": {\"94\": 70, \"15\": 7, \"0\": 5, \"106\": 1, \"39\": 1}, \"54\": {\"25\": 2, \"54\": 13, \"124\": 1}, \"10\": {\"11\": 2, \"10\": 106, \"108\": 15, \"26\": 1, \"30\": 2, \"36\": 1, \"27\": 1}, \"22\": {\"29\": 1, \"22\": 11, \"82\": 2, \"102\": 1, \"119\": 1}, \"119\": {\"119\": 10, \"102\": 2, \"116\": 2, \"45\": 1, \"48\": 1}}, \"Wisig_2\": {\"73\": {\"73\": 17, \"107\": 1, \"55\": 1, \"83\": 1, \"100\": 1, \"31\": 1, \"123\": 2, \"19\": 1, \"67\": 1, \"66\": 2}, \"40\": {\"40\": 80, \"74\": 2, \"95\": 2, \"27\": 1, \"3\": 7, \"7\": 2, \"1\": 17, \"32\": 2, \"44\": 1, \"62\": 2, \"84\": 3, \"33\": 6, \"88\": 1, \"70\": 1, \"107\": 1, \"24\": 1, \"93\": 1, \"69\": 1, \"108\": 1}, \"99\": {\"99\": 23, \"18\": 2, \"81\": 1, \"83\": 2, \"57\": 2, \"27\": 1, \"69\": 1}, \"5\": {\"5\": 94, \"124\": 11, \"24\": 1, \"8\": 1, \"39\": 1, \"88\": 1, \"42\": 2, \"70\": 1}, \"108\": {\"108\": 131, \"43\": 1}, \"128\": {\"107\": 1, \"128\": 11, \"98\": 1, \"95\": 1, \"34\": 3, \"114\": 1, \"47\": 2, \"19\": 1, \"21\": 1, \"9\": 2}, \"89\": {\"89\": 30, \"82\": 3, \"90\": 2, \"20\": 1}, \"107\": {\"44\": 2, \"108\": 1, \"95\": 2, \"34\": 2, \"107\": 33, \"61\": 2, \"72\": 1, \"122\": 1, \"32\": 5, \"114\": 3, \"27\": 1, \"21\": 2, \"126\": 1, \"56\": 1, \"92\": 2, \"87\": 1, \"15\": 1, \"109\": 1, \"70\": 2}, \"2\": {\"2\": 30, \"117\": 1, \"129\": 1}, \"78\": {\"78\": 41, \"21\": 2, \"70\": 2, \"88\": 2, \"87\": 1}, \"85\": {\"85\": 26, \"53\": 1, \"72\": 1, \"56\": 1, \"29\": 1, \"112\": 1, \"50\": 1}, \"44\": {\"44\": 92, \"19\": 2, \"107\": 5, \"3\": 1}, \"58\": {\"58\": 17, \"109\": 1, \"75\": 1, \"51\": 1}, \"57\": {\"99\": 1, \"57\": 12, \"121\": 2, \"10\": 1, \"82\": 2, \"92\": 1, \"88\": 1}, \"41\": {\"41\": 14, \"111\": 2, \"43\": 1, \"5\": 1, \"91\": 1, \"104\": 1}, \"53\": {\"53\": 11, \"40\": 1, \"56\": 1, \"44\": 1, \"1\": 1, \"77\": 1}, \"14\": {\"95\": 3, \"14\": 27, \"24\": 2, \"10\": 2, \"71\": 1, \"3\": 3, \"62\": 3, \"96\": 1, \"26\": 1, \"126\": 1, \"21\": 1, \"33\": 2, \"105\": 1}, \"83\": {\"83\": 34, \"29\": 1, \"64\": 2, \"61\": 2, \"124\": 1}, \"119\": {\"28\": 1, \"119\": 13, \"17\": 1, \"46\": 1, \"22\": 2, \"90\": 1, \"63\": 1}, \"95\": {\"47\": 1, \"95\": 26, \"127\": 2, \"71\": 2, \"56\": 1, \"114\": 2, \"24\": 1, \"40\": 1}, \"28\": {\"28\": 19, \"124\": 1}, \"19\": {\"19\": 24, \"53\": 1, \"33\": 1, \"32\": 1, \"83\": 1}, \"69\": {\"69\": 120, \"16\": 3, \"72\": 1, \"122\": 1, \"108\": 3, \"13\": 1, \"18\": 1, \"87\": 1, \"39\": 1}, \"93\": {\"93\": 107, \"69\": 1, \"60\": 2, \"16\": 19, \"18\": 2, \"105\": 1, \"62\": 1, \"102\": 1}, \"9\": {\"9\": 32}, \"118\": {\"118\": 63, \"122\": 2, \"15\": 1, \"111\": 1, \"109\": 1}, \"43\": {\"43\": 105, \"87\": 6, \"70\": 1, \"126\": 1, \"108\": 1, \"122\": 1, \"88\": 1}, \"47\": {\"47\": 7, \"85\": 1, \"32\": 2, \"40\": 2}, \"125\": {\"125\": 143, \"102\": 1}, \"29\": {\"29\": 32}, \"122\": {\"122\": 108, \"12\": 2, \"11\": 5, \"43\": 3, \"15\": 2, \"8\": 13, \"88\": 1, \"70\": 1, \"10\": 1, \"87\": 1, \"109\": 1, \"39\": 1, \"30\": 1}, \"46\": {\"55\": 2, \"64\": 1, \"46\": 9, \"38\": 2, \"67\": 2}, \"86\": {\"86\": 31, \"104\": 1}, \"70\": {\"70\": 91, \"24\": 3, \"126\": 11, \"88\": 10, \"78\": 2, \"87\": 3, \"21\": 1, \"109\": 2, \"39\": 1}, \"51\": {\"51\": 12, \"120\": 1, \"49\": 1, \"6\": 1, \"25\": 1, \"12\": 1, \"58\": 2, \"89\": 1}, \"23\": {\"122\": 2, \"23\": 11, \"8\": 1, \"94\": 3, \"118\": 1, \"30\": 4, \"69\": 2, \"110\": 4, \"105\": 4, \"60\": 1, \"106\": 1, \"87\": 1, \"12\": 1, \"7\": 1, \"26\": 2, \"0\": 1, \"97\": 1, \"62\": 1, \"108\": 1, \"72\": 1}, \"121\": {\"57\": 4, \"121\": 32}, \"63\": {\"21\": 1, \"63\": 14, \"119\": 3, \"22\": 1, \"126\": 1}, \"102\": {\"102\": 121, \"88\": 1}, \"21\": {\"21\": 47, \"88\": 1}, \"55\": {\"55\": 13, \"64\": 1, \"83\": 2}, \"54\": {\"54\": 16, \"107\": 2, \"34\": 2}, \"6\": {\"6\": 31, \"111\": 1}, \"109\": {\"109\": 75, \"24\": 2, \"88\": 5, \"78\": 4, \"126\": 4, \"39\": 5, \"70\": 3, \"23\": 1, \"71\": 1}, \"64\": {\"109\": 1, \"46\": 1, \"92\": 1, \"64\": 9, \"37\": 2, \"61\": 2}, \"20\": {\"20\": 15, \"69\": 1}, \"98\": {\"54\": 2, \"34\": 3, \"98\": 104, \"121\": 1, \"9\": 2, \"55\": 1, \"108\": 1}, \"92\": {\"92\": 16, \"47\": 1, \"69\": 1, \"28\": 2, \"19\": 1, \"82\": 1, \"90\": 2, \"83\": 1, \"57\": 1, \"129\": 1, \"66\": 1}, \"35\": {\"35\": 7, \"3\": 5}, \"113\": {\"113\": 66, \"24\": 3, \"60\": 2, \"21\": 1}, \"71\": {\"95\": 2, \"71\": 80, \"127\": 4, \"49\": 1, \"84\": 1, \"122\": 1, \"3\": 2, \"7\": 2, \"16\": 1, \"109\": 1, \"114\": 2, \"12\": 1, \"1\": 1, \"126\": 1}, \"94\": {\"94\": 39, \"87\": 2, \"78\": 2, \"26\": 1, \"113\": 1, \"8\": 8, \"30\": 1, \"0\": 2, \"39\": 1, \"126\": 1, \"88\": 1, \"74\": 1, \"108\": 2, \"106\": 2}, \"52\": {\"52\": 13, \"91\": 2, \"58\": 1, \"103\": 1, \"34\": 1, \"70\": 1, \"19\": 1}, \"116\": {\"116\": 25, \"57\": 1, \"119\": 1, \"102\": 1}, \"87\": {\"87\": 83, \"10\": 4, \"113\": 1, \"88\": 2, \"24\": 1, \"126\": 3, \"43\": 11, \"109\": 1, \"39\": 2, \"70\": 3, \"78\": 1}, \"90\": {\"89\": 2, \"90\": 144, \"92\": 2}, \"91\": {\"91\": 23, \"59\": 2, \"29\": 1, \"41\": 1, \"77\": 1}, \"84\": {\"84\": 79, \"62\": 8, \"109\": 3, \"1\": 1, \"113\": 1}, \"24\": {\"24\": 91, \"109\": 3, \"126\": 4, \"70\": 2, \"108\": 4, \"88\": 3, \"21\": 1, \"78\": 2, \"87\": 1, \"30\": 1}, \"33\": {\"33\": 123, \"87\": 1, \"62\": 2, \"88\": 1, \"1\": 2, \"84\": 4, \"108\": 1}, \"81\": {\"81\": 19, \"72\": 1, \"83\": 1, \"5\": 1, \"100\": 2}, \"115\": {\"115\": 10, \"67\": 1, \"98\": 1}, \"77\": {\"77\": 12, \"52\": 1, \"68\": 1, \"98\": 2}, \"106\": {\"106\": 103, \"12\": 3, \"21\": 1, \"24\": 2, \"101\": 5, \"90\": 1, \"15\": 2, \"0\": 1, \"122\": 2}, \"42\": {\"41\": 1, \"42\": 5, \"17\": 2, \"103\": 2, \"77\": 2, \"52\": 1, \"70\": 1, \"91\": 2, \"24\": 1, \"107\": 1, \"86\": 1, \"88\": 1, \"59\": 1, \"22\": 2, \"124\": 3, \"87\": 1, \"5\": 1}, \"38\": {\"38\": 13, \"116\": 1, \"123\": 1, \"119\": 1}, \"36\": {\"36\": 97, \"78\": 1, \"27\": 5, \"88\": 2, \"126\": 2, \"15\": 1, \"108\": 1, \"113\": 1, \"30\": 2, \"87\": 1, \"8\": 1}, \"79\": {\"79\": 15, \"4\": 1}, \"60\": {\"93\": 1, \"60\": 21, \"62\": 3, \"29\": 1, \"122\": 1, \"12\": 1}, \"80\": {\"80\": 15, \"50\": 1}, \"32\": {\"32\": 28, \"114\": 2, \"44\": 4, \"107\": 2}, \"0\": {\"0\": 94, \"122\": 6, \"12\": 1, \"24\": 1, \"8\": 2, \"106\": 5, \"30\": 2, \"110\": 2, \"15\": 3}, \"127\": {\"127\": 117, \"101\": 2, \"70\": 1, \"107\": 2, \"71\": 2}, \"114\": {\"114\": 112, \"90\": 1, \"71\": 2, \"18\": 1}, \"62\": {\"62\": 127, \"21\": 1, \"84\": 8, \"87\": 1, \"1\": 1, \"40\": 1, \"93\": 1}, \"129\": {\"129\": 32}, \"56\": {\"56\": 11, \"32\": 1}, \"76\": {\"76\": 13, \"32\": 1, \"92\": 2}, \"72\": {\"72\": 23, \"33\": 2, \"69\": 1, \"21\": 1, \"29\": 1}, \"88\": {\"88\": 114, \"11\": 1, \"39\": 1, \"109\": 3, \"78\": 2, \"126\": 2, \"70\": 1}, \"68\": {\"68\": 10, \"66\": 2, \"21\": 1, \"29\": 1, \"77\": 1, \"39\": 1}, \"67\": {\"67\": 5, \"82\": 2, \"78\": 1, \"21\": 1, \"92\": 1, \"80\": 2, \"5\": 1, \"90\": 1, \"108\": 1, \"48\": 1}, \"100\": {\"38\": 1, \"100\": 12, \"37\": 1, \"14\": 1, \"89\": 1}, \"34\": {\"34\": 21, \"107\": 1, \"21\": 1, \"32\": 1, \"49\": 1, \"24\": 1, \"53\": 1, \"98\": 2, \"54\": 1, \"44\": 2}, \"16\": {\"16\": 107, \"93\": 9, \"62\": 3, \"105\": 2, \"23\": 2, \"88\": 1}, \"126\": {\"126\": 115, \"70\": 3, \"10\": 2}, \"4\": {\"4\": 85, \"120\": 1, \"88\": 1, \"24\": 1}, \"101\": {\"101\": 137, \"105\": 1, \"127\": 2, \"106\": 4, \"3\": 1, \"30\": 1}, \"104\": {\"104\": 12, \"112\": 1, \"116\": 1, \"5\": 2, \"124\": 2, \"86\": 1, \"24\": 1}, \"30\": {\"78\": 1, \"30\": 90, \"125\": 1, \"8\": 3, \"110\": 2, \"108\": 2, \"122\": 5, \"7\": 1, \"93\": 1, \"12\": 1, \"24\": 1, \"15\": 2}, \"8\": {\"8\": 108, \"94\": 2, \"11\": 6, \"10\": 2, \"43\": 1, \"0\": 3, \"122\": 2, \"110\": 2, \"113\": 1, \"16\": 1}, \"82\": {\"82\": 23, \"45\": 1, \"89\": 3, \"16\": 1, \"83\": 1, \"19\": 1, \"90\": 3, \"64\": 1, \"92\": 1, \"70\": 1}, \"26\": {\"26\": 121, \"126\": 2, \"87\": 2, \"113\": 2, \"69\": 2, \"18\": 5, \"24\": 1, \"23\": 1, \"88\": 1, \"108\": 1}, \"96\": {\"96\": 14, \"93\": 4, \"16\": 1, \"62\": 1}, \"3\": {\"3\": 110, \"7\": 5, \"71\": 7, \"1\": 3, \"44\": 1, \"40\": 2, \"111\": 2, \"70\": 1, \"12\": 1, \"88\": 1, \"105\": 1, \"62\": 2}, \"25\": {\"25\": 10, \"36\": 1, \"78\": 1, \"49\": 1, \"59\": 1, \"91\": 2}, \"13\": {\"13\": 9, \"33\": 1, \"43\": 1, \"22\": 1, \"4\": 1, \"70\": 1, \"48\": 2}, \"37\": {\"115\": 1, \"129\": 1, \"37\": 7, \"45\": 2, \"43\": 1, \"67\": 2, \"50\": 2}, \"49\": {\"47\": 1, \"95\": 2, \"87\": 2, \"127\": 2, \"49\": 12, \"107\": 1, \"92\": 1, \"75\": 1, \"74\": 1, \"126\": 1}, \"111\": {\"111\": 136}, \"105\": {\"105\": 122, \"7\": 7, \"3\": 2, \"113\": 1}, \"17\": {\"37\": 2, \"22\": 1, \"78\": 1, \"87\": 1, \"17\": 4, \"129\": 4, \"111\": 2, \"26\": 1}, \"65\": {\"65\": 15, \"2\": 1, \"70\": 1, \"117\": 2, \"126\": 1}, \"123\": {\"17\": 2, \"123\": 6, \"67\": 1, \"5\": 2, \"129\": 2, \"22\": 1, \"111\": 1, \"55\": 1}, \"74\": {\"35\": 2, \"11\": 1, \"74\": 9, \"126\": 1, \"44\": 1, \"95\": 2}, \"97\": {\"97\": 13, \"66\": 1, \"122\": 1, \"7\": 1, \"119\": 1, \"8\": 2, \"90\": 1}, \"112\": {\"112\": 11, \"123\": 1, \"104\": 1, \"47\": 1, \"86\": 1, \"85\": 1}, \"120\": {\"120\": 15, \"121\": 2, \"80\": 1, \"81\": 2}, \"50\": {\"50\": 14, \"41\": 1, \"55\": 1}, \"59\": {\"59\": 9, \"24\": 1, \"91\": 2, \"86\": 2, \"42\": 2}, \"10\": {\"10\": 46, \"24\": 2, \"70\": 1, \"109\": 2, \"126\": 1, \"21\": 1, \"94\": 1, \"39\": 2, \"108\": 2, \"87\": 2}, \"45\": {\"50\": 2, \"45\": 12, \"88\": 1, \"5\": 1}, \"12\": {\"12\": 72, \"21\": 2, \"7\": 5, \"88\": 1, \"97\": 2, \"15\": 1, \"105\": 1, \"110\": 4}, \"75\": {\"51\": 2, \"98\": 1, \"75\": 8, \"70\": 1, \"127\": 2, \"101\": 1, \"112\": 1}, \"48\": {\"48\": 18, \"92\": 1, \"102\": 1}, \"61\": {\"61\": 15, \"10\": 1, \"27\": 1, \"88\": 1, \"95\": 2}, \"124\": {\"124\": 117, \"42\": 1, \"5\": 2, \"111\": 1, \"129\": 2, \"33\": 1}, \"11\": {\"108\": 4, \"122\": 6, \"11\": 58, \"87\": 1, \"39\": 1, \"8\": 9, \"10\": 1}, \"103\": {\"103\": 10, \"45\": 1, \"91\": 1, \"125\": 1, \"22\": 1, \"28\": 1, \"6\": 1}, \"7\": {\"7\": 109, \"12\": 3, \"109\": 1, \"27\": 1, \"105\": 13, \"39\": 1, \"3\": 2, \"78\": 1, \"127\": 1}, \"18\": {\"18\": 106, \"26\": 5, \"108\": 1, \"24\": 2, \"69\": 5, \"43\": 1}, \"31\": {\"31\": 16, \"69\": 2, \"89\": 2}, \"15\": {\"15\": 99, \"40\": 1, \"36\": 1, \"106\": 2, \"0\": 6, \"39\": 1, \"30\": 3, \"8\": 2, \"94\": 1, \"101\": 2}, \"1\": {\"1\": 114, \"78\": 1, \"40\": 5, \"24\": 1, \"75\": 1}, \"66\": {\"66\": 16, \"98\": 1, \"90\": 1, \"37\": 1, \"128\": 1}, \"110\": {\"110\": 28, \"70\": 1, \"65\": 1, \"109\": 1, \"7\": 2, \"26\": 1, \"3\": 1, \"96\": 1, \"27\": 1, \"62\": 2, \"113\": 1}, \"27\": {\"27\": 45, \"36\": 7, \"69\": 1, \"43\": 2, \"24\": 2, \"126\": 2, \"88\": 1, \"94\": 2, \"30\": 1, \"10\": 1, \"11\": 2, \"8\": 1, \"39\": 1}, \"22\": {\"22\": 17, \"3\": 1, \"92\": 1, \"75\": 1}, \"117\": {\"117\": 115, \"24\": 1, \"65\": 2, \"109\": 1, \"87\": 1}, \"39\": {\"39\": 92, \"36\": 2, \"88\": 3, \"109\": 5, \"24\": 1, \"43\": 2, \"126\": 2, \"26\": 1}}, \"Wisig_1\": {\"60\": {\"60\": 8, \"96\": 1, \"23\": 3, \"8\": 1, \"74\": 1, \"26\": 1, \"7\": 1}, \"59\": {\"50\": 1, \"59\": 6, \"6\": 2, \"111\": 1, \"125\": 1, \"82\": 1}, \"107\": {\"107\": 111, \"34\": 2, \"114\": 3, \"1\": 3, \"30\": 1, \"47\": 1, \"89\": 1, \"98\": 1, \"125\": 1}, \"113\": {\"113\": 124}, \"6\": {\"6\": 25, \"126\": 1, \"111\": 1, \"21\": 1, \"46\": 1, \"10\": 1, \"91\": 2}, \"24\": {\"24\": 76, \"30\": 3, \"27\": 1, \"108\": 6, \"10\": 1, \"88\": 4, \"126\": 1}, \"50\": {\"50\": 7, \"74\": 1, \"90\": 1, \"33\": 1, \"64\": 1, \"82\": 1, \"95\": 1, \"30\": 1, \"42\": 1, \"99\": 1}, \"62\": {\"62\": 108, \"69\": 5, \"26\": 3, \"14\": 1, \"16\": 1, \"18\": 1, \"70\": 1}, \"48\": {\"48\": 12}, \"104\": {\"104\": 11, \"124\": 2, \"46\": 1, \"55\": 2}, \"105\": {\"105\": 68, \"35\": 2, \"44\": 2, \"84\": 2, \"40\": 6, \"93\": 1, \"14\": 2, \"4\": 1}, \"44\": {\"44\": 68, \"1\": 1, \"105\": 3, \"9\": 1, \"72\": 1, \"14\": 1, \"40\": 1}, \"49\": {\"49\": 19, \"128\": 1}, \"55\": {\"55\": 12}, \"4\": {\"4\": 100}, \"76\": {\"62\": 2, \"76\": 14}, \"85\": {\"85\": 32}, \"89\": {\"89\": 29, \"72\": 2, \"98\": 1, \"29\": 3, \"107\": 1}, \"74\": {\"74\": 9, \"1\": 2, \"33\": 1, \"42\": 1, \"20\": 1, \"19\": 1, \"90\": 1}, \"112\": {\"112\": 9, \"91\": 1, \"68\": 1, \"6\": 1, \"111\": 2, \"37\": 1, \"114\": 1}, \"79\": {\"79\": 10, \"17\": 1, \"104\": 1}, \"0\": {\"0\": 73, \"118\": 1, \"110\": 5, \"12\": 1, \"7\": 1, \"84\": 2, \"106\": 1}, \"91\": {\"91\": 26, \"112\": 1, \"5\": 1}, \"118\": {\"118\": 81, \"69\": 2, \"101\": 1}, \"80\": {\"80\": 16}, \"64\": {\"64\": 16}, \"97\": {\"97\": 14, \"30\": 1, \"27\": 1, \"24\": 1, \"10\": 1, \"88\": 1, \"15\": 1}, \"84\": {\"84\": 121, \"7\": 3}, \"38\": {\"38\": 15, \"25\": 1}, \"30\": {\"97\": 2, \"30\": 43, \"27\": 3, \"24\": 2, \"88\": 2}, \"32\": {\"32\": 25, \"126\": 1, \"51\": 1, \"107\": 2, \"103\": 1, \"121\": 1, \"113\": 1}, \"72\": {\"72\": 24, \"31\": 1, \"106\": 1, \"44\": 2, \"89\": 2, \"14\": 1, \"9\": 1}, \"33\": {\"33\": 127, \"42\": 1, \"90\": 1, \"74\": 1, \"114\": 1, \"126\": 1}, \"34\": {\"34\": 12, \"75\": 2, \"29\": 2, \"40\": 5, \"53\": 2, \"1\": 1, \"9\": 2, \"44\": 1, \"56\": 1, \"14\": 1, \"105\": 1, \"89\": 1, \"19\": 1}, \"28\": {\"38\": 2, \"28\": 15, \"22\": 1, \"82\": 2}, \"123\": {\"123\": 15, \"83\": 1}, \"2\": {\"2\": 19, \"22\": 2, \"104\": 1, \"129\": 1, \"17\": 1, \"109\": 1, \"42\": 2, \"13\": 1, \"116\": 3, \"21\": 1}, \"70\": {\"70\": 118, \"39\": 2, \"108\": 3, \"11\": 1}, \"127\": {\"127\": 96, \"101\": 5, \"78\": 1, \"71\": 4, \"35\": 2}, \"110\": {\"110\": 113, \"0\": 7, \"87\": 1, \"106\": 1, \"122\": 2, \"39\": 1, \"113\": 1, \"109\": 1, \"11\": 1}, \"126\": {\"126\": 135, \"11\": 1}, \"13\": {\"13\": 14, \"102\": 2}, \"15\": {\"15\": 94, \"94\": 2, \"126\": 1, \"122\": 1, \"27\": 2, \"36\": 1, \"110\": 1, \"93\": 2}, \"29\": {\"29\": 28}, \"18\": {\"18\": 114, \"23\": 1, \"26\": 1, \"16\": 1, \"113\": 1, \"62\": 2}, \"7\": {\"7\": 136, \"84\": 5, \"23\": 1}, \"56\": {\"56\": 9, \"98\": 1, \"47\": 1, \"29\": 1}, \"98\": {\"98\": 105, \"111\": 2, \"92\": 1}, \"99\": {\"99\": 18, \"81\": 5, \"3\": 1}, \"77\": {\"77\": 12, \"85\": 2, \"90\": 1, \"104\": 1}, \"103\": {\"15\": 1, \"103\": 11, \"53\": 1, \"94\": 1, \"77\": 1, \"29\": 1}, \"128\": {\"29\": 3, \"99\": 1, \"103\": 1, \"128\": 12, \"114\": 1, \"72\": 1, \"82\": 1, \"89\": 1, \"42\": 2, \"120\": 1}, \"3\": {\"3\": 74, \"14\": 8, \"88\": 1, \"127\": 1, \"1\": 2, \"98\": 1, \"15\": 1}, \"121\": {\"121\": 30, \"95\": 2}, \"42\": {\"42\": 16, \"22\": 1, \"85\": 1, \"61\": 2, \"119\": 2, \"98\": 1, \"82\": 2, \"19\": 1, \"129\": 2}, \"90\": {\"90\": 120}, \"37\": {\"37\": 14, \"5\": 1, \"112\": 1}, \"120\": {\"84\": 1, \"120\": 15, \"82\": 2, \"21\": 1, \"78\": 1}, \"117\": {\"117\": 118}, \"9\": {\"9\": 27, \"72\": 1, \"34\": 1, \"47\": 2, \"31\": 1}, \"108\": {\"108\": 106, \"70\": 5, \"93\": 1, \"10\": 7, \"88\": 2, \"109\": 1, \"15\": 1, \"87\": 1}, \"83\": {\"104\": 1, \"28\": 1, \"56\": 1, \"83\": 16, \"82\": 2, \"20\": 1, \"92\": 2, \"89\": 2, \"85\": 2}, \"14\": {\"14\": 78, \"1\": 6, \"60\": 1, \"105\": 2, \"62\": 3, \"72\": 2, \"3\": 2, \"40\": 2}, \"63\": {\"63\": 13, \"66\": 1, \"13\": 1, \"116\": 1}, \"11\": {\"11\": 111, \"39\": 1, \"118\": 1, \"43\": 3, \"126\": 2}, \"95\": {\"95\": 34, \"33\": 2}, \"26\": {\"26\": 121, \"16\": 3, \"88\": 1, \"18\": 2, \"97\": 1, \"69\": 2}, \"22\": {\"22\": 11, \"67\": 1, \"124\": 2, \"80\": 1, \"64\": 1}, \"102\": {\"102\": 114, \"129\": 2, \"117\": 4}, \"69\": {\"69\": 93, \"39\": 4, \"113\": 2, \"11\": 1, \"26\": 2, \"62\": 2, \"18\": 2}, \"1\": {\"1\": 121, \"40\": 3, \"14\": 4, \"114\": 1, \"34\": 1}, \"67\": {\"67\": 16}, \"57\": {\"57\": 12}, \"8\": {\"8\": 118, \"126\": 1, \"93\": 4, \"43\": 5, \"87\": 4, \"122\": 2}, \"109\": {\"109\": 117, \"39\": 1, \"11\": 1, \"70\": 3, \"10\": 2}, \"129\": {\"57\": 2, \"45\": 2, \"129\": 11, \"116\": 4, \"65\": 2, \"83\": 2, \"66\": 1, \"2\": 2, \"86\": 2}, \"111\": {\"111\": 114, \"6\": 1, \"98\": 2, \"68\": 2, \"124\": 1}, \"71\": {\"71\": 87, \"109\": 1, \"12\": 4, \"106\": 2, \"114\": 3, \"110\": 2, \"127\": 2, \"101\": 4, \"39\": 1, \"113\": 1, \"70\": 1}, \"47\": {\"31\": 1, \"47\": 3, \"107\": 2, \"29\": 2, \"73\": 1, \"56\": 1, \"49\": 2}, \"82\": {\"82\": 31, \"120\": 1, \"28\": 1, \"100\": 1, \"32\": 1, \"38\": 1}, \"27\": {\"27\": 80, \"30\": 3, \"88\": 1, \"24\": 2, \"94\": 3, \"15\": 2, \"108\": 1}, \"19\": {\"47\": 1, \"100\": 1, \"19\": 17, \"73\": 1, \"77\": 2, \"9\": 1, \"74\": 1, \"85\": 1, \"81\": 2, \"83\": 1}, \"122\": {\"87\": 6, \"122\": 73, \"39\": 1, \"7\": 2, \"8\": 1, \"43\": 5}, \"53\": {\"53\": 19, \"32\": 1}, \"87\": {\"122\": 4, \"87\": 90, \"70\": 1, \"8\": 6, \"43\": 6, \"52\": 1}, \"100\": {\"82\": 2, \"74\": 1, \"100\": 5, \"3\": 1, \"50\": 1, \"81\": 1, \"19\": 1, \"33\": 2, \"99\": 1, \"38\": 1}, \"66\": {\"66\": 16}, \"31\": {\"31\": 8, \"72\": 2, \"49\": 3, \"29\": 1, \"44\": 2}, \"58\": {\"68\": 2, \"58\": 9, \"111\": 1}, \"68\": {\"112\": 1, \"58\": 1, \"68\": 14}, \"88\": {\"97\": 2, \"88\": 88, \"108\": 10, \"24\": 3, \"126\": 1, \"10\": 3, \"33\": 1, \"8\": 1, \"109\": 1, \"70\": 1, \"30\": 1, \"15\": 2}, \"45\": {\"57\": 1, \"129\": 1, \"45\": 6, \"2\": 2, \"11\": 1, \"128\": 1}, \"114\": {\"114\": 123, \"105\": 2, \"107\": 2, \"40\": 1}, \"23\": {\"122\": 1, \"23\": 6, \"0\": 3, \"84\": 1, \"14\": 1, \"60\": 3, \"62\": 1, \"87\": 1, \"110\": 1, \"69\": 2, \"7\": 2, \"106\": 2}, \"65\": {\"58\": 1, \"65\": 4, \"129\": 3, \"83\": 1, \"46\": 1, \"5\": 1, \"118\": 1}, \"124\": {\"124\": 118}, \"10\": {\"10\": 90, \"70\": 6, \"109\": 3, \"126\": 7, \"108\": 7, \"5\": 1, \"88\": 3, \"21\": 1, \"24\": 1, \"87\": 1}, \"92\": {\"92\": 28}, \"40\": {\"40\": 86, \"35\": 1, \"34\": 1, \"31\": 1, \"14\": 10, \"72\": 1, \"1\": 18, \"114\": 9, \"44\": 1, \"107\": 4, \"105\": 7, \"11\": 1, \"20\": 1, \"39\": 1, \"84\": 2}, \"73\": {\"73\": 16, \"24\": 1, \"9\": 1, \"108\": 1, \"31\": 1}, \"94\": {\"94\": 79, \"27\": 2, \"15\": 10, \"118\": 1}, \"81\": {\"81\": 22, \"60\": 1, \"3\": 1, \"32\": 2, \"99\": 2}, \"101\": {\"101\": 105, \"62\": 1, \"12\": 1, \"127\": 1, \"90\": 1, \"106\": 1}, \"86\": {\"86\": 29, \"21\": 1, \"41\": 1, \"115\": 1, \"124\": 2, \"106\": 1, \"15\": 1}, \"78\": {\"78\": 8, \"108\": 2, \"39\": 2, \"109\": 4}, \"96\": {\"96\": 13, \"60\": 1, \"44\": 2, \"118\": 2, \"116\": 1, \"87\": 1}, \"5\": {\"5\": 77, \"124\": 2, \"111\": 2, \"70\": 1, \"109\": 2, \"24\": 1, \"104\": 1, \"91\": 2}, \"16\": {\"26\": 4, \"16\": 94, \"69\": 2, \"18\": 5, \"21\": 1, \"113\": 1, \"109\": 1}, \"35\": {\"35\": 12}, \"51\": {\"51\": 14, \"98\": 1, \"52\": 1}, \"46\": {\"46\": 8, \"91\": 1, \"6\": 1, \"124\": 1, \"129\": 1}, \"20\": {\"20\": 15, \"74\": 1}, \"116\": {\"116\": 24, \"61\": 3, \"119\": 1, \"102\": 2, \"66\": 1, \"109\": 1}, \"75\": {\"89\": 2, \"75\": 9, \"40\": 1, \"91\": 1, \"103\": 1, \"56\": 1, \"107\": 1}, \"43\": {\"43\": 103, \"87\": 4, \"8\": 10, \"39\": 2, \"122\": 4, \"93\": 4, \"15\": 1}, \"17\": {\"17\": 10, \"79\": 1, \"124\": 3, \"4\": 1, \"129\": 1}, \"12\": {\"12\": 95, \"106\": 6, \"108\": 1, \"101\": 2}, \"25\": {\"25\": 9, \"42\": 1, \"40\": 2, \"120\": 2, \"38\": 1, \"81\": 1}, \"54\": {\"120\": 2, \"83\": 2, \"54\": 10, \"89\": 1, \"11\": 1}, \"36\": {\"36\": 107, \"39\": 1, \"113\": 1, \"94\": 2, \"18\": 1}, \"52\": {\"52\": 19, \"77\": 1}, \"61\": {\"61\": 12}, \"106\": {\"106\": 114, \"12\": 6}, \"39\": {\"39\": 93, \"10\": 1, \"43\": 4, \"122\": 1, \"11\": 5}, \"119\": {\"119\": 13, \"102\": 2, \"80\": 1}, \"125\": {\"125\": 148}, \"93\": {\"93\": 138, \"108\": 1, \"126\": 6, \"87\": 1, \"8\": 1, \"122\": 1}, \"115\": {\"115\": 12}, \"21\": {\"21\": 27, \"118\": 2, \"70\": 3, \"39\": 1, \"94\": 1, \"108\": 3, \"90\": 1, \"113\": 1, \"109\": 1}, \"41\": {\"86\": 1, \"41\": 13, \"64\": 2}}, \"Wisig_4\": {\"55\": {\"55\": 13, \"95\": 1, \"120\": 1, \"103\": 1}, \"9\": {\"9\": 18, \"34\": 3, \"127\": 1, \"51\": 1, \"53\": 2, \"58\": 1, \"71\": 2}, \"70\": {\"70\": 109, \"108\": 4, \"39\": 1, \"27\": 2, \"88\": 2, \"109\": 1, \"16\": 1, \"10\": 1, \"113\": 1}, \"112\": {\"55\": 1, \"112\": 8, \"52\": 1, \"29\": 1, \"129\": 1, \"73\": 2, \"32\": 2}, \"115\": {\"116\": 4, \"10\": 1, \"37\": 1, \"115\": 6, \"79\": 1, \"48\": 1, \"80\": 1, \"18\": 1}, \"56\": {\"56\": 7, \"28\": 1, \"128\": 1, \"82\": 1, \"17\": 1, \"19\": 1}, \"108\": {\"10\": 1, \"108\": 71, \"12\": 1, \"109\": 3, \"43\": 1, \"15\": 1, \"102\": 1, \"27\": 2, \"39\": 1, \"88\": 2, \"78\": 1, \"94\": 1, \"36\": 1, \"11\": 1, \"8\": 1, \"70\": 3}, \"117\": {\"117\": 118, \"124\": 1, \"104\": 1, \"63\": 2, \"67\": 2}, \"111\": {\"55\": 1, \"59\": 1, \"111\": 120, \"42\": 2, \"88\": 1, \"124\": 4, \"68\": 1, \"108\": 1, \"113\": 1}, \"71\": {\"71\": 89, \"43\": 1, \"95\": 2, \"3\": 2, \"15\": 1, \"127\": 2, \"12\": 1, \"36\": 1, \"113\": 1, \"105\": 1, \"10\": 1, \"126\": 2}, \"59\": {\"59\": 12}, \"10\": {\"10\": 102, \"24\": 11, \"0\": 3, \"70\": 4, \"8\": 2, \"88\": 1, \"126\": 1}, \"83\": {\"83\": 17, \"128\": 1, \"71\": 1, \"40\": 1, \"107\": 3, \"46\": 2, \"114\": 1, \"52\": 1, \"1\": 1}, \"116\": {\"116\": 26, \"102\": 2}, \"13\": {\"13\": 15, \"116\": 1}, \"4\": {\"115\": 2, \"4\": 99, \"125\": 2, \"126\": 1}, \"125\": {\"125\": 104, \"117\": 1, \"90\": 1}, \"102\": {\"102\": 121, \"70\": 1, \"117\": 1, \"108\": 1}, \"47\": {\"58\": 1, \"47\": 10, \"77\": 1}, \"28\": {\"28\": 16, \"79\": 2, \"64\": 1, \"120\": 1}, \"82\": {\"82\": 24, \"46\": 1, \"33\": 2, \"4\": 1, \"45\": 1, \"76\": 1, \"38\": 1, \"40\": 1}, \"60\": {\"60\": 24, \"110\": 1, \"62\": 3, \"101\": 1, \"96\": 1, \"7\": 1, \"11\": 1}, \"107\": {\"107\": 125, \"90\": 1, \"5\": 4, \"7\": 1, \"33\": 3}, \"75\": {\"47\": 2, \"75\": 13, \"34\": 1}, \"31\": {\"28\": 2, \"31\": 9, \"90\": 2, \"38\": 1, \"57\": 1, \"33\": 1}, \"92\": {\"92\": 26, \"19\": 1, \"69\": 1}, \"58\": {\"47\": 1, \"58\": 13, \"77\": 2}, \"113\": {\"113\": 119, \"21\": 1, \"10\": 2, \"118\": 3, \"26\": 1, \"70\": 1, \"62\": 1}, \"95\": {\"107\": 2, \"95\": 23, \"9\": 3, \"128\": 2, \"114\": 1, \"51\": 1}, \"14\": {\"14\": 101, \"113\": 1, \"84\": 1, \"40\": 2, \"109\": 2, \"7\": 2, \"3\": 2, \"44\": 1}, \"17\": {\"17\": 19, \"50\": 1}, \"104\": {\"104\": 10, \"129\": 1, \"37\": 1, \"120\": 1, \"79\": 2, \"17\": 1}, \"72\": {\"72\": 15, \"104\": 1, \"40\": 3, \"62\": 1, \"74\": 1, \"60\": 1, \"14\": 1, \"99\": 3, \"45\": 1, \"32\": 1, \"3\": 1, \"49\": 2, \"93\": 1}, \"69\": {\"69\": 107, \"88\": 1, \"84\": 2, \"44\": 2, \"105\": 3, \"33\": 2, \"21\": 1, \"18\": 1, \"14\": 2, \"109\": 1, \"40\": 2, \"16\": 2, \"26\": 2}, \"63\": {\"63\": 16}, \"12\": {\"12\": 78, \"51\": 2, \"106\": 11, \"7\": 2, \"101\": 2, \"90\": 1, \"64\": 1, \"110\": 2, \"62\": 1}, \"25\": {\"25\": 16}, \"67\": {\"63\": 1, \"104\": 1, \"74\": 1, \"67\": 2, \"48\": 2, \"42\": 2, \"92\": 2, \"57\": 1, \"123\": 2, \"2\": 2}, \"50\": {\"50\": 12, \"104\": 1, \"116\": 1, \"124\": 2}, \"43\": {\"43\": 108, \"23\": 1, \"70\": 1, \"126\": 1, \"109\": 2, \"87\": 2, \"88\": 1, \"11\": 1, \"118\": 1, \"18\": 1, \"15\": 1}, \"96\": {\"96\": 11, \"94\": 1, \"87\": 1, \"84\": 1, \"62\": 1, \"93\": 1, \"69\": 2, \"118\": 1, \"126\": 1}, \"128\": {\"128\": 17, \"82\": 1, \"46\": 2, \"100\": 1, \"76\": 1, \"5\": 1, \"83\": 1}, \"77\": {\"77\": 11, \"47\": 1}, \"54\": {\"54\": 15, \"95\": 1}, \"118\": {\"122\": 7, \"118\": 82, \"108\": 1, \"110\": 5, \"39\": 1, \"70\": 1, \"113\": 2, \"26\": 2, \"43\": 3, \"11\": 2, \"16\": 1, \"78\": 1, \"87\": 2, \"93\": 2}, \"30\": {\"30\": 55, \"93\": 1, \"8\": 5, \"27\": 4, \"0\": 3, \"15\": 3, \"36\": 2, \"94\": 2, \"39\": 1}, \"51\": {\"46\": 1, \"54\": 1, \"127\": 2, \"34\": 2, \"51\": 4, \"87\": 1, \"95\": 1, \"106\": 2, \"9\": 1, \"30\": 1}, \"122\": {\"122\": 59, \"8\": 1, \"0\": 3, \"118\": 2, \"110\": 2, \"11\": 3, \"87\": 2, \"126\": 1, \"39\": 1, \"88\": 1, \"23\": 2, \"43\": 3, \"108\": 1, \"113\": 2, \"7\": 1}, \"46\": {\"46\": 12, \"72\": 1, \"107\": 3, \"128\": 2, \"83\": 1, \"56\": 1}, \"79\": {\"79\": 16}, \"103\": {\"103\": 10, \"29\": 4, \"111\": 1, \"73\": 1}, \"74\": {\"31\": 1, \"74\": 11, \"42\": 1, \"33\": 1, \"89\": 2}, \"90\": {\"90\": 146}, \"8\": {\"8\": 128, \"43\": 1, \"60\": 1, \"24\": 1, \"0\": 5, \"15\": 2, \"90\": 1, \"87\": 1, \"27\": 1, \"10\": 1}, \"94\": {\"94\": 63, \"27\": 4, \"118\": 1, \"12\": 2, \"15\": 6, \"4\": 1, \"106\": 4, \"126\": 2, \"78\": 1, \"0\": 1, \"8\": 3}, \"7\": {\"7\": 105, \"101\": 1, \"36\": 1, \"10\": 1, \"70\": 2, \"106\": 3, \"118\": 1, \"126\": 1, \"11\": 2, \"60\": 2, \"12\": 2, \"40\": 1}, \"61\": {\"61\": 14, \"121\": 2}, \"26\": {\"26\": 117, \"18\": 3}, \"127\": {\"127\": 102, \"106\": 2, \"26\": 1, \"71\": 2, \"1\": 1}, \"23\": {\"106\": 1, \"23\": 2, \"21\": 1, \"5\": 1, \"87\": 1, \"26\": 2, \"70\": 2, \"108\": 1, \"122\": 1, \"7\": 2, \"88\": 1, \"43\": 1}, \"1\": {\"1\": 61, \"99\": 2, \"114\": 9, \"71\": 7, \"3\": 13, \"14\": 3, \"105\": 5, \"5\": 2, \"10\": 3, \"40\": 1, \"88\": 1, \"49\": 1}, \"93\": {\"93\": 125, \"96\": 1, \"11\": 1, \"118\": 4, \"122\": 2, \"62\": 1}, \"106\": {\"106\": 86, \"12\": 12, \"118\": 1, \"18\": 1, \"0\": 2, \"126\": 1, \"39\": 2, \"127\": 4, \"10\": 1, \"101\": 1, \"109\": 1, \"113\": 1, \"27\": 1, \"62\": 1, \"26\": 1}, \"110\": {\"110\": 103, \"122\": 3, \"93\": 2, \"118\": 3, \"10\": 1, \"87\": 4, \"11\": 2}, \"76\": {\"76\": 12, \"20\": 1, \"40\": 1, \"107\": 1, \"3\": 1}, \"36\": {\"36\": 112, \"24\": 2, \"30\": 3, \"27\": 2, \"109\": 1}, \"21\": {\"21\": 29, \"78\": 3, \"84\": 1, \"88\": 3, \"62\": 1, \"97\": 1, \"109\": 1, \"36\": 1}, \"37\": {\"37\": 13, \"120\": 2, \"79\": 1}, \"11\": {\"11\": 110, \"118\": 1, \"87\": 1, \"110\": 3, \"83\": 1, \"122\": 2, \"93\": 2}, \"109\": {\"109\": 110, \"39\": 2, \"24\": 1, \"113\": 1, \"108\": 2}, \"62\": {\"21\": 1, \"60\": 1, \"7\": 3, \"126\": 1, \"62\": 40, \"11\": 2, \"110\": 3, \"113\": 2, \"118\": 2, \"3\": 1, \"0\": 1, \"26\": 1, \"93\": 2}, \"89\": {\"89\": 25, \"83\": 2, \"48\": 1, \"73\": 2, \"32\": 2}, \"126\": {\"126\": 116, \"113\": 1, \"10\": 1, \"39\": 3, \"43\": 1, \"24\": 1, \"109\": 1}, \"101\": {\"101\": 112, \"8\": 5, \"105\": 1, \"106\": 1, \"24\": 1, \"12\": 2, \"109\": 1, \"113\": 1, \"93\": 1, \"117\": 1, \"102\": 1, \"88\": 1}, \"65\": {\"65\": 12}, \"19\": {\"19\": 16, \"95\": 1, \"31\": 1, \"98\": 1, \"112\": 1, \"83\": 2, \"76\": 1, \"56\": 3, \"73\": 1, \"74\": 1}, \"27\": {\"27\": 93, \"8\": 1, \"10\": 2, \"70\": 3, \"24\": 1}, \"5\": {\"5\": 120, \"23\": 1, \"3\": 3, \"1\": 1, \"107\": 4, \"40\": 4, \"88\": 2, \"105\": 1}, \"73\": {\"82\": 2, \"98\": 2, \"64\": 2, \"73\": 9, \"85\": 1, \"120\": 2, \"77\": 1, \"19\": 1, \"55\": 1, \"31\": 1, \"89\": 2}, \"6\": {\"6\": 22, \"111\": 1, \"59\": 1}, \"29\": {\"29\": 32}, \"114\": {\"114\": 120, \"1\": 2, \"5\": 3, \"27\": 1, \"14\": 2}, \"49\": {\"49\": 11, \"14\": 3, \"127\": 3, \"72\": 1, \"5\": 2, \"12\": 5, \"53\": 2, \"99\": 2, \"106\": 1, \"1\": 2}, \"16\": {\"16\": 111, \"26\": 2, \"113\": 1, \"88\": 1, \"84\": 2, \"126\": 1}, \"68\": {\"68\": 15, \"98\": 1}, \"98\": {\"98\": 105, \"68\": 1, \"112\": 2, \"102\": 1, \"69\": 1, \"33\": 1, \"41\": 2, \"85\": 2, \"111\": 3, \"107\": 2}, \"64\": {\"64\": 11, \"115\": 1, \"41\": 2, \"129\": 1, \"73\": 1}, \"121\": {\"121\": 28, \"61\": 2, \"81\": 2}, \"124\": {\"124\": 113, \"129\": 1}, \"97\": {\"97\": 20}, \"40\": {\"40\": 116, \"72\": 1, \"99\": 1, \"5\": 6, \"107\": 4, \"33\": 4, \"3\": 2, \"76\": 1, \"105\": 1}, \"119\": {\"119\": 16}, \"100\": {\"40\": 2, \"100\": 10, \"89\": 2, \"5\": 1, \"58\": 1, \"128\": 1, \"49\": 1, \"46\": 2}, \"87\": {\"87\": 116}, \"88\": {\"88\": 100, \"26\": 3, \"108\": 9, \"78\": 3, \"70\": 9, \"21\": 2, \"113\": 1, \"24\": 1}, \"52\": {\"52\": 14, \"78\": 1, \"9\": 1, \"99\": 1, \"120\": 1, \"34\": 1, \"30\": 1}, \"80\": {\"80\": 13, \"13\": 2, \"6\": 1}, \"105\": {\"105\": 80, \"5\": 3, \"86\": 1, \"3\": 4, \"39\": 1, \"71\": 1, \"114\": 2, \"14\": 3, \"88\": 1, \"16\": 1, \"40\": 1, \"24\": 1, \"126\": 1}, \"32\": {\"74\": 3, \"32\": 22, \"89\": 1, \"73\": 1, \"107\": 1}, \"35\": {\"18\": 4, \"35\": 6, \"81\": 2}, \"99\": {\"99\": 21, \"72\": 3, \"8\": 2, \"5\": 4, \"40\": 4, \"14\": 4, \"3\": 1, \"7\": 1}, \"18\": {\"18\": 117, \"81\": 2, \"126\": 1}, \"24\": {\"24\": 89, \"10\": 14, \"88\": 2, \"27\": 4, \"15\": 1, \"109\": 1, \"36\": 1}, \"85\": {\"85\": 24, \"24\": 1, \"107\": 3}, \"39\": {\"39\": 86, \"126\": 5, \"109\": 4, \"108\": 3, \"26\": 1, \"70\": 1}, \"123\": {\"123\": 15, \"63\": 1}, \"91\": {\"91\": 21, \"112\": 1, \"129\": 1, \"55\": 1}, \"78\": {\"78\": 20, \"21\": 2, \"70\": 5, \"97\": 1, \"88\": 6, \"109\": 1, \"26\": 1}, \"38\": {\"38\": 15, \"69\": 1}, \"15\": {\"8\": 6, \"15\": 108, \"94\": 5, \"10\": 1, \"18\": 1, \"0\": 4, \"106\": 1, \"26\": 1, \"24\": 1}, \"48\": {\"102\": 2, \"48\": 12, \"31\": 1, \"66\": 1}, \"45\": {\"38\": 2, \"45\": 11, \"74\": 2, \"31\": 1}, \"120\": {\"55\": 2, \"120\": 10, \"73\": 1, \"33\": 2, \"37\": 1, \"28\": 2, \"98\": 2}, \"44\": {\"1\": 2, \"44\": 57, \"107\": 2, \"40\": 2, \"117\": 1}, \"86\": {\"17\": 1, \"86\": 25, \"27\": 1, \"21\": 1}, \"20\": {\"40\": 2, \"20\": 12, \"1\": 2}, \"33\": {\"33\": 139, \"107\": 2, \"89\": 1, \"90\": 1, \"40\": 2, \"5\": 2, \"36\": 1, \"14\": 1, \"126\": 1}, \"129\": {\"129\": 15, \"68\": 2, \"22\": 1, \"124\": 3, \"41\": 1, \"50\": 2, \"90\": 1, \"115\": 2, \"31\": 1}, \"34\": {\"9\": 5, \"34\": 7, \"3\": 2, \"51\": 1, \"49\": 1, \"105\": 6, \"114\": 3, \"5\": 1, \"100\": 2, \"127\": 2, \"1\": 2}, \"81\": {\"81\": 35, \"21\": 1}, \"57\": {\"50\": 2, \"57\": 10, \"24\": 1, \"90\": 2, \"70\": 1}, \"0\": {\"0\": 91, \"30\": 2, \"8\": 14, \"26\": 2, \"11\": 2, \"87\": 2, \"110\": 1, \"7\": 2}, \"2\": {\"2\": 23, \"92\": 1, \"117\": 4}, \"42\": {\"103\": 1, \"119\": 1, \"42\": 19, \"91\": 1, \"29\": 3, \"129\": 2, \"111\": 1}, \"84\": {\"69\": 13, \"84\": 104, \"113\": 2, \"121\": 1, \"44\": 2, \"30\": 2, \"16\": 3, \"14\": 2, \"26\": 2, \"117\": 1}, \"3\": {\"3\": 97, \"53\": 2, \"114\": 4, \"21\": 1, \"1\": 2, \"105\": 4, \"126\": 1, \"40\": 2, \"49\": 4, \"7\": 1, \"39\": 1, \"24\": 1, \"71\": 2, \"107\": 3, \"98\": 1}, \"41\": {\"73\": 2, \"41\": 13, \"48\": 1}, \"53\": {\"53\": 10, \"41\": 1, \"10\": 1, \"5\": 2, \"71\": 2}, \"66\": {\"66\": 14, \"73\": 1, \"31\": 1}, \"22\": {\"22\": 12, \"92\": 2, \"129\": 2}}}, \"per_domain_accuracy\": {\"ORACLE.run150\": {\"accuracy\": 0.8739583333333333, \"source?\": true}, \"ORACLE.run114\": {\"accuracy\": 0.8296875, \"source?\": true}, \"ORACLE.run132\": {\"accuracy\": 0.83125, \"source?\": true}, \"ORACLE.run144\": {\"accuracy\": 0.7924479166666667, \"source?\": true}, \"ORACLE.run18\": {\"accuracy\": 0.7880208333333333, \"source?\": true}, \"ORACLE.run120\": {\"accuracy\": 0.6932291666666667, \"source?\": true}, \"ORACLE.run138\": {\"accuracy\": 0.8802083333333334, \"source?\": true}, \"ORACLE.run126\": {\"accuracy\": 0.7036458333333333, \"source?\": true}, \"Wisig_3\": {\"accuracy\": 0.8770469432314411, \"source?\": false}, \"Wisig_2\": {\"accuracy\": 0.8330729166666667, \"source?\": false}, \"Wisig_1\": {\"accuracy\": 0.871822033898305, \"source?\": false}, \"Wisig_4\": {\"accuracy\": 0.8407921810699589, \"source?\": false}}}, \"history\": {\"epoch_indices\": [1, 2, 3, 4, 5, 6, 7, 8, 9, 10, 11, 12, 13, 14], \"train_label_loss\": [1.2190976970119491, 0.7474280716496564, 0.533565090474717, 0.4186599950633189, 0.35294091409083367, 0.30776427442823273, 0.26670931779441337, 0.23222425075683056, 0.20296776068661573, 0.17687415651120578, 0.15526071337420339, 0.13840966237309787, 0.1203712012995744, 0.10836727857285518], \"source_val_label_loss\": [2.125387191772461, 0.6940701603889465, 0.5511496663093567, 0.5278194546699524, 0.5316634178161621, 0.5405768752098083, 0.5412037968635559, 0.5743396282196045, 0.592419445514679, 0.6246119737625122, 0.6281214356422424, 0.6763942837715149, 0.6940481662750244, 0.7043283581733704], \"target_val_label_loss\": [186.89820861816406, 31.786006927490234, 48.53963851928711, 33.263458251953125, 51.67769241333008, 41.40526580810547, 57.399715423583984, 62.443172454833984, 66.12276458740234, 56.90339660644531, 65.169677734375, 64.70581817626953, 72.05876922607422, 83.7305908203125], \"source_val_acc_label\": [0.588671875, 0.74677734375, 0.8053059895833333, 0.8072265625, 0.8194661458333333, 0.8144205729166667, 0.8197265625, 0.8098958333333334, 0.8135091145833333, 0.7990559895833333, 0.80908203125, 0.8005859375, 0.80595703125, 0.8119791666666667], \"target_val_acc_label\": [0.7022020042194093, 0.7711629746835443, 0.807423523206751, 0.838310917721519, 0.830498417721519, 0.8461563818565401, 0.8466178797468354, 0.8466508438818565, 0.8436181434599156, 0.8553204113924051, 0.8521558544303798, 0.8545292721518988, 0.8549907700421941, 0.8503757911392406]}, \"dataset_metrics\": {\"source\": {\"train\": {\"n_unique_x\": 179200, \"n_unique_y\": 16, \"n_batch/episode\": 6720}, \"val\": {\"n_unique_x\": 38400, \"n_unique_y\": 16, \"n_batch/episode\": 960}, \"test\": {\"n_unique_x\": 38400, \"n_unique_y\": 16, \"n_batch/episode\": 960}}, \"target\": {\"train\": {\"n_unique_x\": 189008, \"n_unique_y\": 130, \"n_batch/episode\": 6831}, \"val\": {\"n_unique_x\": 40070, \"n_unique_y\": 130, \"n_batch/episode\": 948}, \"test\": {\"n_unique_x\": 40836, \"n_unique_y\": 130, \"n_batch/episode\": 967}}}}'"
      ]
     },
     "execution_count": 29,
     "metadata": {},
     "output_type": "execute_result"
    }
   ],
   "source": [
    "json.dumps(experiment)"
   ]
  }
 ],
 "metadata": {
  "celltoolbar": "Tags",
  "kernelspec": {
   "display_name": "Python 3 (ipykernel)",
   "language": "python",
   "name": "python3"
  },
  "language_info": {
   "codemirror_mode": {
    "name": "ipython",
    "version": 3
   },
   "file_extension": ".py",
   "mimetype": "text/x-python",
   "name": "python",
   "nbconvert_exporter": "python",
   "pygments_lexer": "ipython3",
   "version": "3.8.12"
  },
  "papermill": {
   "default_parameters": {},
   "duration": 2684.230537,
   "end_time": "2022-03-23T09:27:22.632859",
   "environment_variables": {},
   "exception": null,
   "input_path": "/root/csc500-main/csc500-notebooks/templates/tl_ptn_template.ipynb",
   "output_path": "trial.ipynb",
   "parameters": {
    "parameters": {
     "BEST_MODEL_PATH": "./best_model.pth",
     "NUM_LOGS_PER_EPOCH": 10,
     "criteria_for_best": "target_accuracy",
     "dataset_seed": 500,
     "datasets": [
      {
       "domain_prefix": "Wisig_",
       "domains": [
        1,
        2,
        3,
        4
       ],
       "episode_transforms": [],
       "labels": [
        "1-10",
        "1-12",
        "1-14",
        "1-16",
        "1-18",
        "1-19",
        "1-8",
        "10-11",
        "10-17",
        "10-4",
        "10-7",
        "11-1",
        "11-10",
        "11-19",
        "11-20",
        "11-4",
        "11-7",
        "12-19",
        "12-20",
        "12-7",
        "13-14",
        "13-18",
        "13-19",
        "13-20",
        "13-3",
        "13-7",
        "14-10",
        "14-11",
        "14-12",
        "14-13",
        "14-14",
        "14-19",
        "14-20",
        "14-7",
        "14-8",
        "14-9",
        "15-1",
        "15-19",
        "15-6",
        "16-1",
        "16-16",
        "16-19",
        "16-20",
        "17-10",
        "17-11",
        "18-1",
        "18-10",
        "18-11",
        "18-12",
        "18-13",
        "18-14",
        "18-15",
        "18-16",
        "18-17",
        "18-19",
        "18-2",
        "18-20",
        "18-4",
        "18-5",
        "18-7",
        "18-8",
        "18-9",
        "19-1",
        "19-10",
        "19-11",
        "19-12",
        "19-13",
        "19-14",
        "19-15",
        "19-19",
        "19-2",
        "19-20",
        "19-3",
        "19-4",
        "19-6",
        "19-7",
        "19-8",
        "19-9",
        "2-1",
        "2-13",
        "2-15",
        "2-3",
        "2-4",
        "2-5",
        "2-6",
        "2-7",
        "2-8",
        "20-1",
        "20-12",
        "20-14",
        "20-15",
        "20-16",
        "20-18",
        "20-19",
        "20-20",
        "20-3",
        "20-4",
        "20-5",
        "20-7",
        "20-8",
        "3-1",
        "3-13",
        "3-18",
        "3-2",
        "3-8",
        "4-1",
        "4-10",
        "4-11",
        "5-1",
        "5-5",
        "6-1",
        "6-15",
        "6-6",
        "7-10",
        "7-11",
        "7-12",
        "7-13",
        "7-14",
        "7-7",
        "7-8",
        "7-9",
        "8-1",
        "8-13",
        "8-14",
        "8-18",
        "8-20",
        "8-3",
        "8-8",
        "9-1",
        "9-7"
       ],
       "num_examples_per_domain_per_label": -1,
       "pickle_path": "/root/csc500-main/datasets/wisig.node3-19.stratified_ds.2022A.pkl",
       "source_or_target_dataset": "target",
       "x_transforms": []
      },
      {
       "domain_prefix": "ORACLE.run1",
       "domains": [
        32,
        38,
        8,
        44,
        14,
        50,
        20,
        26
       ],
       "episode_transforms": [],
       "labels": [
        "3123D52",
        "3123D65",
        "3123D79",
        "3123D80",
        "3123D54",
        "3123D70",
        "3123D7B",
        "3123D89",
        "3123D58",
        "3123D76",
        "3123D7D",
        "3123EFE",
        "3123D64",
        "3123D78",
        "3123D7E",
        "3124E4A"
       ],
       "num_examples_per_domain_per_label": 2000,
       "pickle_path": "/root/csc500-main/datasets/oracle.Run1_10kExamples_stratified_ds.2022A.pkl",
       "source_or_target_dataset": "source",
       "x_transforms": []
      }
     ],
     "device": "cuda",
     "experiment_name": "tl_1v2:wisig-oracle.run1.limited",
     "lr": 0.0001,
     "n_epoch": 50,
     "n_query": 2,
     "n_shot": 3,
     "n_way": 16,
     "patience": 3,
     "seed": 500,
     "test_k_factor": 2,
     "torch_default_dtype": "torch.float32",
     "train_k_factor": 3,
     "val_k_factor": 2,
     "x_net": [
      {
       "class": "nnReshape",
       "kargs": {
        "shape": [
         -1,
         1,
         2,
         256
        ]
       }
      },
      {
       "class": "Conv2d",
       "kargs": {
        "bias": false,
        "in_channels": 1,
        "kernel_size": [
         1,
         7
        ],
        "out_channels": 256,
        "padding": [
         0,
         3
        ]
       }
      },
      {
       "class": "ReLU",
       "kargs": {
        "inplace": true
       }
      },
      {
       "class": "BatchNorm2d",
       "kargs": {
        "num_features": 256
       }
      },
      {
       "class": "Conv2d",
       "kargs": {
        "bias": true,
        "in_channels": 256,
        "kernel_size": [
         2,
         7
        ],
        "out_channels": 80,
        "padding": [
         0,
         3
        ]
       }
      },
      {
       "class": "ReLU",
       "kargs": {
        "inplace": true
       }
      },
      {
       "class": "BatchNorm2d",
       "kargs": {
        "num_features": 80
       }
      },
      {
       "class": "Flatten",
       "kargs": {}
      },
      {
       "class": "Linear",
       "kargs": {
        "in_features": 20480,
        "out_features": 256
       }
      },
      {
       "class": "ReLU",
       "kargs": {
        "inplace": true
       }
      },
      {
       "class": "BatchNorm1d",
       "kargs": {
        "num_features": 256
       }
      },
      {
       "class": "Linear",
       "kargs": {
        "in_features": 256,
        "out_features": 256
       }
      }
     ]
    }
   },
   "start_time": "2022-03-23T08:42:38.402322",
   "version": "2.3.4"
  }
 },
 "nbformat": 4,
 "nbformat_minor": 5
}