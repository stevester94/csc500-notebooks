{
 "cells": [
  {
   "cell_type": "markdown",
   "id": "9fea5f46",
   "metadata": {
    "papermill": {
     "duration": 0.036982,
     "end_time": "2022-03-22T19:59:32.656727",
     "exception": false,
     "start_time": "2022-03-22T19:59:32.619745",
     "status": "completed"
    },
    "tags": []
   },
   "source": [
    "# Transfer Learning Template"
   ]
  },
  {
   "cell_type": "code",
   "execution_count": 1,
   "id": "0902182a",
   "metadata": {
    "execution": {
     "iopub.execute_input": "2022-03-22T19:59:32.717533Z",
     "iopub.status.busy": "2022-03-22T19:59:32.716673Z",
     "iopub.status.idle": "2022-03-22T19:59:34.638229Z",
     "shell.execute_reply": "2022-03-22T19:59:34.637783Z"
    },
    "papermill": {
     "duration": 1.959572,
     "end_time": "2022-03-22T19:59:34.638334",
     "exception": false,
     "start_time": "2022-03-22T19:59:32.678762",
     "status": "completed"
    },
    "tags": []
   },
   "outputs": [],
   "source": [
    "%load_ext autoreload\n",
    "%autoreload 2\n",
    "%matplotlib inline\n",
    "\n",
    "    \n",
    "import os, json, sys, time, random\n",
    "import numpy as np\n",
    "import torch\n",
    "from torch.optim import Adam\n",
    "from  easydict import EasyDict\n",
    "import matplotlib.pyplot as plt\n",
    "\n",
    "from steves_models.steves_ptn import Steves_Prototypical_Network\n",
    "\n",
    "from steves_utils.lazy_iterable_wrapper import Lazy_Iterable_Wrapper\n",
    "from steves_utils.iterable_aggregator import Iterable_Aggregator\n",
    "from steves_utils.ptn_train_eval_test_jig import  PTN_Train_Eval_Test_Jig\n",
    "from steves_utils.torch_sequential_builder import build_sequential\n",
    "from steves_utils.torch_utils import get_dataset_metrics, ptn_confusion_by_domain_over_dataloader\n",
    "from steves_utils.utils_v2 import (per_domain_accuracy_from_confusion, get_datasets_base_path)\n",
    "from steves_utils.PTN.utils import independent_accuracy_assesment\n",
    "\n",
    "from torch.utils.data import DataLoader\n",
    "\n",
    "from steves_utils.stratified_dataset.episodic_accessor import Episodic_Accessor_Factory\n",
    "\n",
    "from steves_utils.ptn_do_report import (\n",
    "    get_loss_curve,\n",
    "    get_results_table,\n",
    "    get_parameters_table,\n",
    "    get_domain_accuracies,\n",
    ")\n",
    "\n",
    "from steves_utils.transforms import get_chained_transform"
   ]
  },
  {
   "cell_type": "markdown",
   "id": "41c840b4",
   "metadata": {
    "papermill": {
     "duration": 0.019479,
     "end_time": "2022-03-22T19:59:34.678046",
     "exception": false,
     "start_time": "2022-03-22T19:59:34.658567",
     "status": "completed"
    },
    "tags": []
   },
   "source": [
    "# Allowed Parameters\n",
    "These are allowed parameters, not defaults\n",
    "Each of these values need to be present in the injected parameters (the notebook will raise an exception if they are not present)\n",
    "\n",
    "Papermill uses the cell tag \"parameters\" to inject the real parameters below this cell.\n",
    "Enable tags to see what I mean"
   ]
  },
  {
   "cell_type": "code",
   "execution_count": 2,
   "id": "fd44eb83",
   "metadata": {
    "execution": {
     "iopub.execute_input": "2022-03-22T19:59:34.723140Z",
     "iopub.status.busy": "2022-03-22T19:59:34.722753Z",
     "iopub.status.idle": "2022-03-22T19:59:34.744740Z",
     "shell.execute_reply": "2022-03-22T19:59:34.744004Z"
    },
    "papermill": {
     "duration": 0.047246,
     "end_time": "2022-03-22T19:59:34.744899",
     "exception": false,
     "start_time": "2022-03-22T19:59:34.697653",
     "status": "completed"
    },
    "tags": []
   },
   "outputs": [],
   "source": [
    "required_parameters = {\n",
    "    \"experiment_name\",\n",
    "    \"lr\",\n",
    "    \"device\",\n",
    "    \"seed\",\n",
    "    \"dataset_seed\",\n",
    "    \"n_shot\",\n",
    "    \"n_query\",\n",
    "    \"n_way\",\n",
    "    \"train_k_factor\",\n",
    "    \"val_k_factor\",\n",
    "    \"test_k_factor\",\n",
    "    \"n_epoch\",\n",
    "    \"patience\",\n",
    "    \"criteria_for_best\",\n",
    "    \"x_net\",\n",
    "    \"datasets\",\n",
    "    \"torch_default_dtype\",\n",
    "    \"NUM_LOGS_PER_EPOCH\",\n",
    "    \"BEST_MODEL_PATH\",\n",
    "    \"x_shape\",\n",
    "}"
   ]
  },
  {
   "cell_type": "code",
   "execution_count": 3,
   "id": "fa3f0049",
   "metadata": {
    "execution": {
     "iopub.execute_input": "2022-03-22T19:59:34.807703Z",
     "iopub.status.busy": "2022-03-22T19:59:34.805267Z",
     "iopub.status.idle": "2022-03-22T19:59:34.827423Z",
     "shell.execute_reply": "2022-03-22T19:59:34.826614Z"
    },
    "papermill": {
     "duration": 0.054994,
     "end_time": "2022-03-22T19:59:34.827589",
     "exception": false,
     "start_time": "2022-03-22T19:59:34.772595",
     "status": "completed"
    },
    "tags": [
     "parameters"
    ]
   },
   "outputs": [],
   "source": [
    "from steves_utils.CORES.utils import (\n",
    "    ALL_NODES,\n",
    "    ALL_NODES_MINIMUM_1000_EXAMPLES,\n",
    "    ALL_DAYS\n",
    ")\n",
    "\n",
    "from steves_utils.ORACLE.utils_v2 import (\n",
    "    ALL_DISTANCES_FEET_NARROWED,\n",
    "    ALL_RUNS,\n",
    "    ALL_SERIAL_NUMBERS,\n",
    ")\n",
    "\n",
    "standalone_parameters = {}\n",
    "standalone_parameters[\"experiment_name\"] = \"STANDALONE PTN\"\n",
    "standalone_parameters[\"lr\"] = 0.001\n",
    "standalone_parameters[\"device\"] = \"cuda\"\n",
    "\n",
    "standalone_parameters[\"seed\"] = 1337\n",
    "standalone_parameters[\"dataset_seed\"] = 1337\n",
    "\n",
    "standalone_parameters[\"n_way\"] = 8\n",
    "standalone_parameters[\"n_shot\"] = 3\n",
    "standalone_parameters[\"n_query\"]  = 2\n",
    "standalone_parameters[\"train_k_factor\"] = 1\n",
    "standalone_parameters[\"val_k_factor\"] = 2\n",
    "standalone_parameters[\"test_k_factor\"] = 2\n",
    "\n",
    "\n",
    "standalone_parameters[\"n_epoch\"] = 50\n",
    "\n",
    "standalone_parameters[\"patience\"] = 10\n",
    "standalone_parameters[\"criteria_for_best\"] = \"source_loss\"\n",
    "\n",
    "standalone_parameters[\"datasets\"] = [\n",
    "    {\n",
    "        \"labels\": ALL_SERIAL_NUMBERS,\n",
    "        \"domains\": ALL_DISTANCES_FEET_NARROWED,\n",
    "        \"num_examples_per_domain_per_label\": 100,\n",
    "        \"pickle_path\": os.path.join(get_datasets_base_path(), \"oracle.Run1_framed_2000Examples_stratified_ds.2022A.pkl\"),\n",
    "        \"source_or_target_dataset\": \"source\",\n",
    "        \"x_transforms\": [\"unit_mag\", \"minus_two\"],\n",
    "        \"episode_transforms\": [],\n",
    "        \"domain_prefix\": \"ORACLE_\"\n",
    "    },\n",
    "    {\n",
    "        \"labels\": ALL_NODES,\n",
    "        \"domains\": ALL_DAYS,\n",
    "        \"num_examples_per_domain_per_label\": 100,\n",
    "        \"pickle_path\": os.path.join(get_datasets_base_path(), \"cores.stratified_ds.2022A.pkl\"),\n",
    "        \"source_or_target_dataset\": \"target\",\n",
    "        \"x_transforms\": [\"unit_power\", \"times_zero\"],\n",
    "        \"episode_transforms\": [],\n",
    "        \"domain_prefix\": \"CORES_\"\n",
    "    }   \n",
    "]\n",
    "\n",
    "standalone_parameters[\"torch_default_dtype\"] = \"torch.float32\" \n",
    "\n",
    "\n",
    "\n",
    "standalone_parameters[\"x_net\"] =     [\n",
    "    {\"class\": \"nnReshape\", \"kargs\": {\"shape\":[-1, 1, 2, 256]}},\n",
    "    {\"class\": \"Conv2d\", \"kargs\": { \"in_channels\":1, \"out_channels\":256, \"kernel_size\":(1,7), \"bias\":False, \"padding\":(0,3), },},\n",
    "    {\"class\": \"ReLU\", \"kargs\": {\"inplace\": True}},\n",
    "    {\"class\": \"BatchNorm2d\", \"kargs\": {\"num_features\":256}},\n",
    "\n",
    "    {\"class\": \"Conv2d\", \"kargs\": { \"in_channels\":256, \"out_channels\":80, \"kernel_size\":(2,7), \"bias\":True, \"padding\":(0,3), },},\n",
    "    {\"class\": \"ReLU\", \"kargs\": {\"inplace\": True}},\n",
    "    {\"class\": \"BatchNorm2d\", \"kargs\": {\"num_features\":80}},\n",
    "    {\"class\": \"Flatten\", \"kargs\": {}},\n",
    "\n",
    "    {\"class\": \"Linear\", \"kargs\": {\"in_features\": 80*256, \"out_features\": 256}}, # 80 units per IQ pair\n",
    "    {\"class\": \"ReLU\", \"kargs\": {\"inplace\": True}},\n",
    "    {\"class\": \"BatchNorm1d\", \"kargs\": {\"num_features\":256}},\n",
    "\n",
    "    {\"class\": \"Linear\", \"kargs\": {\"in_features\": 256, \"out_features\": 256}},\n",
    "]\n",
    "\n",
    "# Parameters relevant to results\n",
    "# These parameters will basically never need to change\n",
    "standalone_parameters[\"NUM_LOGS_PER_EPOCH\"] = 10\n",
    "standalone_parameters[\"BEST_MODEL_PATH\"] = \"./best_model.pth\"\n",
    "\n",
    "\n",
    "\n",
    "\n"
   ]
  },
  {
   "cell_type": "code",
   "execution_count": 4,
   "id": "4258750a",
   "metadata": {
    "execution": {
     "iopub.execute_input": "2022-03-22T19:59:34.890540Z",
     "iopub.status.busy": "2022-03-22T19:59:34.889538Z",
     "iopub.status.idle": "2022-03-22T19:59:34.909555Z",
     "shell.execute_reply": "2022-03-22T19:59:34.908746Z"
    },
    "papermill": {
     "duration": 0.057872,
     "end_time": "2022-03-22T19:59:34.909706",
     "exception": false,
     "start_time": "2022-03-22T19:59:34.851834",
     "status": "completed"
    },
    "tags": [
     "injected-parameters"
    ]
   },
   "outputs": [],
   "source": [
    "# Parameters\n",
    "parameters = {\n",
    "    \"experiment_name\": \"tl_1v2:wisig-oracle.run1.limited\",\n",
    "    \"device\": \"cuda\",\n",
    "    \"lr\": 0.0001,\n",
    "    \"n_shot\": 3,\n",
    "    \"n_query\": 2,\n",
    "    \"train_k_factor\": 3,\n",
    "    \"val_k_factor\": 2,\n",
    "    \"test_k_factor\": 2,\n",
    "    \"torch_default_dtype\": \"torch.float32\",\n",
    "    \"n_epoch\": 50,\n",
    "    \"patience\": 3,\n",
    "    \"criteria_for_best\": \"target_accuracy\",\n",
    "    \"x_net\": [\n",
    "        {\"class\": \"nnReshape\", \"kargs\": {\"shape\": [-1, 1, 2, 256]}},\n",
    "        {\n",
    "            \"class\": \"Conv2d\",\n",
    "            \"kargs\": {\n",
    "                \"in_channels\": 1,\n",
    "                \"out_channels\": 256,\n",
    "                \"kernel_size\": [1, 7],\n",
    "                \"bias\": False,\n",
    "                \"padding\": [0, 3],\n",
    "            },\n",
    "        },\n",
    "        {\"class\": \"ReLU\", \"kargs\": {\"inplace\": True}},\n",
    "        {\"class\": \"BatchNorm2d\", \"kargs\": {\"num_features\": 256}},\n",
    "        {\n",
    "            \"class\": \"Conv2d\",\n",
    "            \"kargs\": {\n",
    "                \"in_channels\": 256,\n",
    "                \"out_channels\": 80,\n",
    "                \"kernel_size\": [2, 7],\n",
    "                \"bias\": True,\n",
    "                \"padding\": [0, 3],\n",
    "            },\n",
    "        },\n",
    "        {\"class\": \"ReLU\", \"kargs\": {\"inplace\": True}},\n",
    "        {\"class\": \"BatchNorm2d\", \"kargs\": {\"num_features\": 80}},\n",
    "        {\"class\": \"Flatten\", \"kargs\": {}},\n",
    "        {\"class\": \"Linear\", \"kargs\": {\"in_features\": 20480, \"out_features\": 256}},\n",
    "        {\"class\": \"ReLU\", \"kargs\": {\"inplace\": True}},\n",
    "        {\"class\": \"BatchNorm1d\", \"kargs\": {\"num_features\": 256}},\n",
    "        {\"class\": \"Linear\", \"kargs\": {\"in_features\": 256, \"out_features\": 256}},\n",
    "    ],\n",
    "    \"NUM_LOGS_PER_EPOCH\": 10,\n",
    "    \"BEST_MODEL_PATH\": \"./best_model.pth\",\n",
    "    \"n_way\": 16,\n",
    "    \"datasets\": [\n",
    "        {\n",
    "            \"labels\": [\n",
    "                \"1-10\",\n",
    "                \"1-12\",\n",
    "                \"1-14\",\n",
    "                \"1-16\",\n",
    "                \"1-18\",\n",
    "                \"1-19\",\n",
    "                \"1-8\",\n",
    "                \"10-11\",\n",
    "                \"10-17\",\n",
    "                \"10-4\",\n",
    "                \"10-7\",\n",
    "                \"11-1\",\n",
    "                \"11-10\",\n",
    "                \"11-19\",\n",
    "                \"11-20\",\n",
    "                \"11-4\",\n",
    "                \"11-7\",\n",
    "                \"12-19\",\n",
    "                \"12-20\",\n",
    "                \"12-7\",\n",
    "                \"13-14\",\n",
    "                \"13-18\",\n",
    "                \"13-19\",\n",
    "                \"13-20\",\n",
    "                \"13-3\",\n",
    "                \"13-7\",\n",
    "                \"14-10\",\n",
    "                \"14-11\",\n",
    "                \"14-12\",\n",
    "                \"14-13\",\n",
    "                \"14-14\",\n",
    "                \"14-19\",\n",
    "                \"14-20\",\n",
    "                \"14-7\",\n",
    "                \"14-8\",\n",
    "                \"14-9\",\n",
    "                \"15-1\",\n",
    "                \"15-19\",\n",
    "                \"15-6\",\n",
    "                \"16-1\",\n",
    "                \"16-16\",\n",
    "                \"16-19\",\n",
    "                \"16-20\",\n",
    "                \"17-10\",\n",
    "                \"17-11\",\n",
    "                \"18-1\",\n",
    "                \"18-10\",\n",
    "                \"18-11\",\n",
    "                \"18-12\",\n",
    "                \"18-13\",\n",
    "                \"18-14\",\n",
    "                \"18-15\",\n",
    "                \"18-16\",\n",
    "                \"18-17\",\n",
    "                \"18-19\",\n",
    "                \"18-2\",\n",
    "                \"18-20\",\n",
    "                \"18-4\",\n",
    "                \"18-5\",\n",
    "                \"18-7\",\n",
    "                \"18-8\",\n",
    "                \"18-9\",\n",
    "                \"19-1\",\n",
    "                \"19-10\",\n",
    "                \"19-11\",\n",
    "                \"19-12\",\n",
    "                \"19-13\",\n",
    "                \"19-14\",\n",
    "                \"19-15\",\n",
    "                \"19-19\",\n",
    "                \"19-2\",\n",
    "                \"19-20\",\n",
    "                \"19-3\",\n",
    "                \"19-4\",\n",
    "                \"19-6\",\n",
    "                \"19-7\",\n",
    "                \"19-8\",\n",
    "                \"19-9\",\n",
    "                \"2-1\",\n",
    "                \"2-13\",\n",
    "                \"2-15\",\n",
    "                \"2-3\",\n",
    "                \"2-4\",\n",
    "                \"2-5\",\n",
    "                \"2-6\",\n",
    "                \"2-7\",\n",
    "                \"2-8\",\n",
    "                \"20-1\",\n",
    "                \"20-12\",\n",
    "                \"20-14\",\n",
    "                \"20-15\",\n",
    "                \"20-16\",\n",
    "                \"20-18\",\n",
    "                \"20-19\",\n",
    "                \"20-20\",\n",
    "                \"20-3\",\n",
    "                \"20-4\",\n",
    "                \"20-5\",\n",
    "                \"20-7\",\n",
    "                \"20-8\",\n",
    "                \"3-1\",\n",
    "                \"3-13\",\n",
    "                \"3-18\",\n",
    "                \"3-2\",\n",
    "                \"3-8\",\n",
    "                \"4-1\",\n",
    "                \"4-10\",\n",
    "                \"4-11\",\n",
    "                \"5-1\",\n",
    "                \"5-5\",\n",
    "                \"6-1\",\n",
    "                \"6-15\",\n",
    "                \"6-6\",\n",
    "                \"7-10\",\n",
    "                \"7-11\",\n",
    "                \"7-12\",\n",
    "                \"7-13\",\n",
    "                \"7-14\",\n",
    "                \"7-7\",\n",
    "                \"7-8\",\n",
    "                \"7-9\",\n",
    "                \"8-1\",\n",
    "                \"8-13\",\n",
    "                \"8-14\",\n",
    "                \"8-18\",\n",
    "                \"8-20\",\n",
    "                \"8-3\",\n",
    "                \"8-8\",\n",
    "                \"9-1\",\n",
    "                \"9-7\",\n",
    "            ],\n",
    "            \"domains\": [1, 2, 3, 4],\n",
    "            \"num_examples_per_domain_per_label\": -1,\n",
    "            \"pickle_path\": \"/root/csc500-main/datasets/wisig.node3-19.stratified_ds.2022A.pkl\",\n",
    "            \"source_or_target_dataset\": \"source\",\n",
    "            \"x_transforms\": [\"unit_power\"],\n",
    "            \"episode_transforms\": [],\n",
    "            \"domain_prefix\": \"Wisig_\",\n",
    "        },\n",
    "        {\n",
    "            \"labels\": [\n",
    "                \"3123D52\",\n",
    "                \"3123D65\",\n",
    "                \"3123D79\",\n",
    "                \"3123D80\",\n",
    "                \"3123D54\",\n",
    "                \"3123D70\",\n",
    "                \"3123D7B\",\n",
    "                \"3123D89\",\n",
    "                \"3123D58\",\n",
    "                \"3123D76\",\n",
    "                \"3123D7D\",\n",
    "                \"3123EFE\",\n",
    "                \"3123D64\",\n",
    "                \"3123D78\",\n",
    "                \"3123D7E\",\n",
    "                \"3124E4A\",\n",
    "            ],\n",
    "            \"domains\": [32, 38, 8, 44, 14, 50, 20, 26],\n",
    "            \"num_examples_per_domain_per_label\": 2000,\n",
    "            \"pickle_path\": \"/root/csc500-main/datasets/oracle.Run1_10kExamples_stratified_ds.2022A.pkl\",\n",
    "            \"source_or_target_dataset\": \"target\",\n",
    "            \"x_transforms\": [\"unit_power\"],\n",
    "            \"episode_transforms\": [],\n",
    "            \"domain_prefix\": \"ORACLE.run1\",\n",
    "        },\n",
    "    ],\n",
    "    \"dataset_seed\": 420,\n",
    "    \"seed\": 420,\n",
    "}\n"
   ]
  },
  {
   "cell_type": "code",
   "execution_count": 5,
   "id": "8fa1cc33",
   "metadata": {
    "execution": {
     "iopub.execute_input": "2022-03-22T19:59:34.965100Z",
     "iopub.status.busy": "2022-03-22T19:59:34.960089Z",
     "iopub.status.idle": "2022-03-22T19:59:34.980360Z",
     "shell.execute_reply": "2022-03-22T19:59:34.979520Z"
    },
    "papermill": {
     "duration": 0.045069,
     "end_time": "2022-03-22T19:59:34.980510",
     "exception": false,
     "start_time": "2022-03-22T19:59:34.935441",
     "status": "completed"
    },
    "tags": []
   },
   "outputs": [],
   "source": [
    "# Set this to True if you want to run this template directly\n",
    "STANDALONE = False\n",
    "if STANDALONE:\n",
    "    print(\"parameters not injected, running with standalone_parameters\")\n",
    "    parameters = standalone_parameters\n",
    "\n",
    "if not 'parameters' in locals() and not 'parameters' in globals():\n",
    "    raise Exception(\"Parameter injection failed\")\n",
    "\n",
    "#Use an easy dict for all the parameters\n",
    "p = EasyDict(parameters)\n",
    "\n",
    "if \"x_shape\" not in p:\n",
    "    p.x_shape = [2,256] # Default to this if we dont supply x_shape\n",
    "\n",
    "\n",
    "supplied_keys = set(p.keys())\n",
    "\n",
    "if  supplied_keys != required_parameters:\n",
    "    print(\"Parameters are incorrect\")\n",
    "    if len(supplied_keys - required_parameters)>0: print(\"Shouldn't have:\", str(supplied_keys - required_parameters))\n",
    "    if len(required_parameters - supplied_keys)>0: print(\"Need to have:\", str(required_parameters - supplied_keys))\n",
    "    raise RuntimeError(\"Parameters are incorrect\")"
   ]
  },
  {
   "cell_type": "code",
   "execution_count": 6,
   "id": "3a028d58",
   "metadata": {
    "execution": {
     "iopub.execute_input": "2022-03-22T19:59:35.031549Z",
     "iopub.status.busy": "2022-03-22T19:59:35.031134Z",
     "iopub.status.idle": "2022-03-22T19:59:35.051450Z",
     "shell.execute_reply": "2022-03-22T19:59:35.050645Z"
    },
    "papermill": {
     "duration": 0.044999,
     "end_time": "2022-03-22T19:59:35.051629",
     "exception": false,
     "start_time": "2022-03-22T19:59:35.006630",
     "status": "completed"
    },
    "tags": []
   },
   "outputs": [],
   "source": [
    "###################################\n",
    "# Set the RNGs and make it all deterministic\n",
    "###################################\n",
    "np.random.seed(p.seed)\n",
    "random.seed(p.seed)\n",
    "torch.manual_seed(p.seed)\n",
    "\n",
    "torch.use_deterministic_algorithms(True) "
   ]
  },
  {
   "cell_type": "code",
   "execution_count": 7,
   "id": "b691acf6",
   "metadata": {
    "execution": {
     "iopub.execute_input": "2022-03-22T19:59:35.104333Z",
     "iopub.status.busy": "2022-03-22T19:59:35.103138Z",
     "iopub.status.idle": "2022-03-22T19:59:35.122811Z",
     "shell.execute_reply": "2022-03-22T19:59:35.121994Z"
    },
    "papermill": {
     "duration": 0.044175,
     "end_time": "2022-03-22T19:59:35.122969",
     "exception": false,
     "start_time": "2022-03-22T19:59:35.078794",
     "status": "completed"
    },
    "tags": []
   },
   "outputs": [],
   "source": [
    "###########################################\n",
    "# The stratified datasets honor this\n",
    "###########################################\n",
    "torch.set_default_dtype(eval(p.torch_default_dtype))"
   ]
  },
  {
   "cell_type": "code",
   "execution_count": 8,
   "id": "b5fba671",
   "metadata": {
    "execution": {
     "iopub.execute_input": "2022-03-22T19:59:35.173142Z",
     "iopub.status.busy": "2022-03-22T19:59:35.172586Z",
     "iopub.status.idle": "2022-03-22T19:59:35.228427Z",
     "shell.execute_reply": "2022-03-22T19:59:35.227716Z"
    },
    "papermill": {
     "duration": 0.080485,
     "end_time": "2022-03-22T19:59:35.228580",
     "exception": false,
     "start_time": "2022-03-22T19:59:35.148095",
     "status": "completed"
    },
    "tags": []
   },
   "outputs": [],
   "source": [
    "###################################\n",
    "# Build the network(s)\n",
    "# Note: It's critical to do this AFTER setting the RNG\n",
    "###################################\n",
    "x_net = build_sequential(p.x_net)"
   ]
  },
  {
   "cell_type": "code",
   "execution_count": 9,
   "id": "5d7e61cc",
   "metadata": {
    "execution": {
     "iopub.execute_input": "2022-03-22T19:59:35.277541Z",
     "iopub.status.busy": "2022-03-22T19:59:35.277178Z",
     "iopub.status.idle": "2022-03-22T19:59:35.303164Z",
     "shell.execute_reply": "2022-03-22T19:59:35.302355Z"
    },
    "papermill": {
     "duration": 0.050274,
     "end_time": "2022-03-22T19:59:35.303318",
     "exception": false,
     "start_time": "2022-03-22T19:59:35.253044",
     "status": "completed"
    },
    "tags": []
   },
   "outputs": [],
   "source": [
    "start_time_secs = time.time()"
   ]
  },
  {
   "cell_type": "code",
   "execution_count": 10,
   "id": "c6b67dfd",
   "metadata": {
    "execution": {
     "iopub.execute_input": "2022-03-22T19:59:35.358427Z",
     "iopub.status.busy": "2022-03-22T19:59:35.358053Z",
     "iopub.status.idle": "2022-03-22T19:59:35.376368Z",
     "shell.execute_reply": "2022-03-22T19:59:35.375520Z"
    },
    "papermill": {
     "duration": 0.04408,
     "end_time": "2022-03-22T19:59:35.376523",
     "exception": false,
     "start_time": "2022-03-22T19:59:35.332443",
     "status": "completed"
    },
    "tags": []
   },
   "outputs": [],
   "source": [
    "p.domains_source = []\n",
    "p.domains_target = []\n",
    "\n",
    "\n",
    "train_original_source = []\n",
    "val_original_source   = []\n",
    "test_original_source  = []\n",
    "\n",
    "train_original_target = []\n",
    "val_original_target   = []\n",
    "test_original_target  = []"
   ]
  },
  {
   "cell_type": "code",
   "execution_count": 11,
   "id": "e3d9c3d3",
   "metadata": {
    "execution": {
     "iopub.execute_input": "2022-03-22T19:59:35.427349Z",
     "iopub.status.busy": "2022-03-22T19:59:35.426988Z",
     "iopub.status.idle": "2022-03-22T19:59:35.453680Z",
     "shell.execute_reply": "2022-03-22T19:59:35.452979Z"
    },
    "papermill": {
     "duration": 0.050561,
     "end_time": "2022-03-22T19:59:35.453833",
     "exception": false,
     "start_time": "2022-03-22T19:59:35.403272",
     "status": "completed"
    },
    "tags": []
   },
   "outputs": [],
   "source": [
    "# global_x_transform_func = lambda x: normalize(x.to(torch.get_default_dtype()), \"unit_power\") # unit_power, unit_mag\n",
    "# global_x_transform_func = lambda x: normalize(x, \"unit_power\") # unit_power, unit_mag"
   ]
  },
  {
   "cell_type": "code",
   "execution_count": 12,
   "id": "acb78fd2",
   "metadata": {
    "execution": {
     "iopub.execute_input": "2022-03-22T19:59:35.509794Z",
     "iopub.status.busy": "2022-03-22T19:59:35.509415Z",
     "iopub.status.idle": "2022-03-22T19:59:35.529336Z",
     "shell.execute_reply": "2022-03-22T19:59:35.528531Z"
    },
    "papermill": {
     "duration": 0.047601,
     "end_time": "2022-03-22T19:59:35.529489",
     "exception": false,
     "start_time": "2022-03-22T19:59:35.481888",
     "status": "completed"
    },
    "tags": []
   },
   "outputs": [],
   "source": [
    "def add_dataset(\n",
    "    labels,\n",
    "    domains,\n",
    "    pickle_path,\n",
    "    x_transforms,\n",
    "    episode_transforms,\n",
    "    domain_prefix,\n",
    "    num_examples_per_domain_per_label,\n",
    "    source_or_target_dataset:str,\n",
    "    iterator_seed=p.seed,\n",
    "    dataset_seed=p.dataset_seed,\n",
    "    n_shot=p.n_shot,\n",
    "    n_way=p.n_way,\n",
    "    n_query=p.n_query,\n",
    "    train_val_test_k_factors=(p.train_k_factor,p.val_k_factor,p.test_k_factor),\n",
    "):\n",
    "   \n",
    "    if x_transforms == []: x_transform = None\n",
    "    else: x_transform = get_chained_transform(x_transforms)\n",
    "    \n",
    "    if episode_transforms == []: episode_transform = None\n",
    "    else: raise Exception(\"episode_transforms not implemented\")\n",
    "    \n",
    "    episode_transform = lambda tup, _prefix=domain_prefix: (_prefix + str(tup[0]), tup[1])\n",
    "\n",
    "\n",
    "    eaf = Episodic_Accessor_Factory(\n",
    "        labels=labels,\n",
    "        domains=domains,\n",
    "        num_examples_per_domain_per_label=num_examples_per_domain_per_label,\n",
    "        iterator_seed=iterator_seed,\n",
    "        dataset_seed=dataset_seed,\n",
    "        n_shot=n_shot,\n",
    "        n_way=n_way,\n",
    "        n_query=n_query,\n",
    "        train_val_test_k_factors=train_val_test_k_factors,\n",
    "        pickle_path=pickle_path,\n",
    "        x_transform_func=x_transform,\n",
    "    )\n",
    "\n",
    "    train, val, test = eaf.get_train(), eaf.get_val(), eaf.get_test()\n",
    "    train = Lazy_Iterable_Wrapper(train, episode_transform)\n",
    "    val = Lazy_Iterable_Wrapper(val, episode_transform)\n",
    "    test = Lazy_Iterable_Wrapper(test, episode_transform)\n",
    "\n",
    "    if source_or_target_dataset==\"source\":\n",
    "        train_original_source.append(train)\n",
    "        val_original_source.append(val)\n",
    "        test_original_source.append(test)\n",
    "\n",
    "        p.domains_source.extend(\n",
    "            [domain_prefix + str(u) for u in domains]\n",
    "        )\n",
    "    elif source_or_target_dataset==\"target\":\n",
    "        train_original_target.append(train)\n",
    "        val_original_target.append(val)\n",
    "        test_original_target.append(test)\n",
    "        p.domains_target.extend(\n",
    "            [domain_prefix + str(u) for u in domains]\n",
    "        )\n",
    "    else:\n",
    "        raise Exception(f\"invalid source_or_target_dataset: {source_or_target_dataset}\")\n",
    "    "
   ]
  },
  {
   "cell_type": "code",
   "execution_count": 13,
   "id": "fe266617",
   "metadata": {
    "execution": {
     "iopub.execute_input": "2022-03-22T19:59:35.580275Z",
     "iopub.status.busy": "2022-03-22T19:59:35.579225Z",
     "iopub.status.idle": "2022-03-22T20:00:22.792345Z",
     "shell.execute_reply": "2022-03-22T20:00:22.791487Z"
    },
    "papermill": {
     "duration": 47.237031,
     "end_time": "2022-03-22T20:00:22.792524",
     "exception": false,
     "start_time": "2022-03-22T19:59:35.555493",
     "status": "completed"
    },
    "tags": []
   },
   "outputs": [],
   "source": [
    "for ds in p.datasets:\n",
    "    add_dataset(**ds)"
   ]
  },
  {
   "cell_type": "code",
   "execution_count": 14,
   "id": "b90d65ac",
   "metadata": {
    "execution": {
     "iopub.execute_input": "2022-03-22T20:00:22.843007Z",
     "iopub.status.busy": "2022-03-22T20:00:22.842623Z",
     "iopub.status.idle": "2022-03-22T20:00:22.864169Z",
     "shell.execute_reply": "2022-03-22T20:00:22.863340Z"
    },
    "papermill": {
     "duration": 0.045497,
     "end_time": "2022-03-22T20:00:22.864336",
     "exception": false,
     "start_time": "2022-03-22T20:00:22.818839",
     "status": "completed"
    },
    "tags": []
   },
   "outputs": [],
   "source": [
    "# from steves_utils.CORES.utils import (\n",
    "#     ALL_NODES,\n",
    "#     ALL_NODES_MINIMUM_1000_EXAMPLES,\n",
    "#     ALL_DAYS\n",
    "# )\n",
    "\n",
    "# add_dataset(\n",
    "#     labels=ALL_NODES,\n",
    "#     domains = ALL_DAYS,\n",
    "#     num_examples_per_domain_per_label=100,\n",
    "#     pickle_path=os.path.join(get_datasets_base_path(), \"cores.stratified_ds.2022A.pkl\"),\n",
    "#     source_or_target_dataset=\"target\",\n",
    "#     x_transform_func=global_x_transform_func,\n",
    "#     domain_modifier=lambda u: f\"cores_{u}\"\n",
    "# )"
   ]
  },
  {
   "cell_type": "code",
   "execution_count": 15,
   "id": "76db484d",
   "metadata": {
    "execution": {
     "iopub.execute_input": "2022-03-22T20:00:22.913338Z",
     "iopub.status.busy": "2022-03-22T20:00:22.912962Z",
     "iopub.status.idle": "2022-03-22T20:00:22.930852Z",
     "shell.execute_reply": "2022-03-22T20:00:22.930043Z"
    },
    "papermill": {
     "duration": 0.041119,
     "end_time": "2022-03-22T20:00:22.931015",
     "exception": false,
     "start_time": "2022-03-22T20:00:22.889896",
     "status": "completed"
    },
    "tags": []
   },
   "outputs": [],
   "source": [
    "# from steves_utils.ORACLE.utils_v2 import (\n",
    "#     ALL_DISTANCES_FEET,\n",
    "#     ALL_RUNS,\n",
    "#     ALL_SERIAL_NUMBERS,\n",
    "# )\n",
    "\n",
    "\n",
    "# add_dataset(\n",
    "#     labels=ALL_SERIAL_NUMBERS,\n",
    "#     domains = list(set(ALL_DISTANCES_FEET) - {2,62}),\n",
    "#     num_examples_per_domain_per_label=100,\n",
    "#     pickle_path=os.path.join(get_datasets_base_path(), \"oracle.Run2_framed_2000Examples_stratified_ds.2022A.pkl\"),\n",
    "#     source_or_target_dataset=\"source\",\n",
    "#     x_transform_func=global_x_transform_func,\n",
    "#     domain_modifier=lambda u: f\"oracle1_{u}\"\n",
    "# )\n"
   ]
  },
  {
   "cell_type": "code",
   "execution_count": 16,
   "id": "97dea9d2",
   "metadata": {
    "execution": {
     "iopub.execute_input": "2022-03-22T20:00:22.981772Z",
     "iopub.status.busy": "2022-03-22T20:00:22.981393Z",
     "iopub.status.idle": "2022-03-22T20:00:22.998351Z",
     "shell.execute_reply": "2022-03-22T20:00:22.997559Z"
    },
    "papermill": {
     "duration": 0.040925,
     "end_time": "2022-03-22T20:00:22.998509",
     "exception": false,
     "start_time": "2022-03-22T20:00:22.957584",
     "status": "completed"
    },
    "tags": []
   },
   "outputs": [],
   "source": [
    "# from steves_utils.ORACLE.utils_v2 import (\n",
    "#     ALL_DISTANCES_FEET,\n",
    "#     ALL_RUNS,\n",
    "#     ALL_SERIAL_NUMBERS,\n",
    "# )\n",
    "\n",
    "\n",
    "# add_dataset(\n",
    "#     labels=ALL_SERIAL_NUMBERS,\n",
    "#     domains = list(set(ALL_DISTANCES_FEET) - {2,62,56}),\n",
    "#     num_examples_per_domain_per_label=100,\n",
    "#     pickle_path=os.path.join(get_datasets_base_path(), \"oracle.Run2_framed_2000Examples_stratified_ds.2022A.pkl\"),\n",
    "#     source_or_target_dataset=\"source\",\n",
    "#     x_transform_func=global_x_transform_func,\n",
    "#     domain_modifier=lambda u: f\"oracle2_{u}\"\n",
    "# )"
   ]
  },
  {
   "cell_type": "code",
   "execution_count": 17,
   "id": "6f289866",
   "metadata": {
    "execution": {
     "iopub.execute_input": "2022-03-22T20:00:23.050001Z",
     "iopub.status.busy": "2022-03-22T20:00:23.049166Z",
     "iopub.status.idle": "2022-03-22T20:00:23.070259Z",
     "shell.execute_reply": "2022-03-22T20:00:23.069441Z"
    },
    "papermill": {
     "duration": 0.044995,
     "end_time": "2022-03-22T20:00:23.070421",
     "exception": false,
     "start_time": "2022-03-22T20:00:23.025426",
     "status": "completed"
    },
    "tags": []
   },
   "outputs": [],
   "source": [
    "# add_dataset(\n",
    "#     labels=list(range(19)),\n",
    "#     domains = [0,1,2],\n",
    "#     num_examples_per_domain_per_label=100,\n",
    "#     pickle_path=os.path.join(get_datasets_base_path(), \"metehan.stratified_ds.2022A.pkl\"),\n",
    "#     source_or_target_dataset=\"target\",\n",
    "#     x_transform_func=global_x_transform_func,\n",
    "#     domain_modifier=lambda u: f\"met_{u}\"\n",
    "# )"
   ]
  },
  {
   "cell_type": "code",
   "execution_count": 18,
   "id": "86a863c3",
   "metadata": {
    "execution": {
     "iopub.execute_input": "2022-03-22T20:00:23.122879Z",
     "iopub.status.busy": "2022-03-22T20:00:23.121744Z",
     "iopub.status.idle": "2022-03-22T20:00:23.142728Z",
     "shell.execute_reply": "2022-03-22T20:00:23.141926Z"
    },
    "papermill": {
     "duration": 0.045419,
     "end_time": "2022-03-22T20:00:23.142887",
     "exception": false,
     "start_time": "2022-03-22T20:00:23.097468",
     "status": "completed"
    },
    "tags": []
   },
   "outputs": [],
   "source": [
    "# # from steves_utils.wisig.utils import (\n",
    "# #     ALL_NODES_MINIMUM_100_EXAMPLES,\n",
    "# #     ALL_NODES_MINIMUM_500_EXAMPLES,\n",
    "# #     ALL_NODES_MINIMUM_1000_EXAMPLES,\n",
    "# #     ALL_DAYS\n",
    "# # )\n",
    "\n",
    "# import steves_utils.wisig.utils as wisig\n",
    "\n",
    "\n",
    "# add_dataset(\n",
    "#     labels=wisig.ALL_NODES_MINIMUM_100_EXAMPLES,\n",
    "#     domains = wisig.ALL_DAYS,\n",
    "#     num_examples_per_domain_per_label=100,\n",
    "#     pickle_path=os.path.join(get_datasets_base_path(), \"wisig.node3-19.stratified_ds.2022A.pkl\"),\n",
    "#     source_or_target_dataset=\"target\",\n",
    "#     x_transform_func=global_x_transform_func,\n",
    "#     domain_modifier=lambda u: f\"wisig_{u}\"\n",
    "# )"
   ]
  },
  {
   "cell_type": "code",
   "execution_count": 19,
   "id": "fd5442bc",
   "metadata": {
    "execution": {
     "iopub.execute_input": "2022-03-22T20:00:23.202338Z",
     "iopub.status.busy": "2022-03-22T20:00:23.201480Z",
     "iopub.status.idle": "2022-03-22T20:00:23.222129Z",
     "shell.execute_reply": "2022-03-22T20:00:23.221306Z"
    },
    "papermill": {
     "duration": 0.052673,
     "end_time": "2022-03-22T20:00:23.222290",
     "exception": false,
     "start_time": "2022-03-22T20:00:23.169617",
     "status": "completed"
    },
    "tags": []
   },
   "outputs": [],
   "source": [
    "###################################\n",
    "# Build the dataset\n",
    "###################################\n",
    "train_original_source = Iterable_Aggregator(train_original_source, p.seed)\n",
    "val_original_source = Iterable_Aggregator(val_original_source, p.seed)\n",
    "test_original_source = Iterable_Aggregator(test_original_source, p.seed)\n",
    "\n",
    "\n",
    "train_original_target = Iterable_Aggregator(train_original_target, p.seed)\n",
    "val_original_target = Iterable_Aggregator(val_original_target, p.seed)\n",
    "test_original_target = Iterable_Aggregator(test_original_target, p.seed)\n",
    "\n",
    "# For CNN We only use X and Y. And we only train on the source.\n",
    "# Properly form the data using a transform lambda and Lazy_Iterable_Wrapper. Finally wrap them in a dataloader\n",
    "\n",
    "transform_lambda = lambda ex: ex[1] # Original is (<domain>, <episode>) so we strip down to episode only\n",
    "\n",
    "train_processed_source = Lazy_Iterable_Wrapper(train_original_source, transform_lambda)\n",
    "val_processed_source   = Lazy_Iterable_Wrapper(val_original_source, transform_lambda)\n",
    "test_processed_source  = Lazy_Iterable_Wrapper(test_original_source, transform_lambda)\n",
    "\n",
    "train_processed_target = Lazy_Iterable_Wrapper(train_original_target, transform_lambda)\n",
    "val_processed_target   = Lazy_Iterable_Wrapper(val_original_target, transform_lambda)\n",
    "test_processed_target  = Lazy_Iterable_Wrapper(test_original_target, transform_lambda)\n",
    "\n",
    "datasets = EasyDict({\n",
    "    \"source\": {\n",
    "        \"original\": {\"train\":train_original_source, \"val\":val_original_source, \"test\":test_original_source},\n",
    "        \"processed\": {\"train\":train_processed_source, \"val\":val_processed_source, \"test\":test_processed_source}\n",
    "    },\n",
    "    \"target\": {\n",
    "        \"original\": {\"train\":train_original_target, \"val\":val_original_target, \"test\":test_original_target},\n",
    "        \"processed\": {\"train\":train_processed_target, \"val\":val_processed_target, \"test\":test_processed_target}\n",
    "    },\n",
    "})"
   ]
  },
  {
   "cell_type": "code",
   "execution_count": 20,
   "id": "5b3c01fc",
   "metadata": {
    "execution": {
     "iopub.execute_input": "2022-03-22T20:00:23.280950Z",
     "iopub.status.busy": "2022-03-22T20:00:23.275242Z",
     "iopub.status.idle": "2022-03-22T20:00:38.259150Z",
     "shell.execute_reply": "2022-03-22T20:00:38.259903Z"
    },
    "papermill": {
     "duration": 15.010621,
     "end_time": "2022-03-22T20:00:38.260138",
     "exception": false,
     "start_time": "2022-03-22T20:00:23.249517",
     "status": "completed"
    },
    "tags": []
   },
   "outputs": [
    {
     "name": "stdout",
     "output_type": "stream",
     "text": [
      "{'Wisig_2', 'Wisig_1', 'Wisig_3', 'Wisig_4'}\n"
     ]
    },
    {
     "name": "stdout",
     "output_type": "stream",
     "text": [
      "{'ORACLE.run138', 'ORACLE.run18', 'ORACLE.run120', 'ORACLE.run114', 'ORACLE.run150', 'ORACLE.run144', 'ORACLE.run132', 'ORACLE.run126'}\n"
     ]
    },
    {
     "name": "stdout",
     "output_type": "stream",
     "text": [
      "tensor([[[-0.4187,  1.1132,  0.5500,  ...,  0.3647,  1.0329,  1.3510],\n",
      "         [-0.7528, -0.7834,  0.9279,  ..., -0.8695, -1.0344,  0.2553]],\n",
      "\n",
      "        [[-1.2691, -1.6522,  0.0829,  ..., -0.2541, -0.3669, -0.1698],\n",
      "         [ 0.2391, -1.1807, -0.9036,  ..., -0.0734, -0.5788, -0.5177]],\n",
      "\n",
      "        [[ 0.1468, -1.1688, -0.6309,  ...,  0.8592, -0.5757, -0.6513],\n",
      "         [ 1.1717,  0.1628, -0.9144,  ...,  1.2735,  1.0525, -0.2704]],\n",
      "\n",
      "        ...,\n",
      "\n",
      "        [[-0.0922, -0.6696, -0.2874,  ..., -0.9887, -0.6152,  0.6388],\n",
      "         [ 0.5062, -0.2620, -0.7186,  ...,  0.3989, -1.0553, -1.0759]],\n",
      "\n",
      "        [[ 0.4114, -0.9146,  0.0646,  ..., -0.7434, -0.6593,  0.8477],\n",
      "         [ 0.6721, -0.0774, -1.1339,  ...,  0.3079, -0.9164, -0.9678]],\n",
      "\n",
      "        [[-0.6364,  0.7177,  0.0277,  ...,  0.8188,  0.7362, -0.5300],\n",
      "         [-0.4571, -0.0721,  1.1657,  ..., -0.5422,  0.9457,  1.1619]]])\n"
     ]
    }
   ],
   "source": [
    "from steves_utils.transforms import get_average_magnitude, get_average_power\n",
    "\n",
    "print(set([u for u,_ in val_original_source]))\n",
    "print(set([u for u,_ in val_original_target]))\n",
    "\n",
    "s_x, s_y, q_x, q_y, _ = next(iter(train_processed_source))\n",
    "print(s_x)\n",
    "\n",
    "# for ds in [\n",
    "#     train_processed_source,\n",
    "#     val_processed_source,\n",
    "#     test_processed_source,\n",
    "#     train_processed_target,\n",
    "#     val_processed_target,\n",
    "#     test_processed_target\n",
    "# ]:\n",
    "#     for s_x, s_y, q_x, q_y, _ in ds:\n",
    "#         for X in (s_x, q_x):\n",
    "#             for x in X:\n",
    "#                 assert np.isclose(get_average_magnitude(x.numpy()), 1.0)\n",
    "#                 assert np.isclose(get_average_power(x.numpy()), 1.0)\n",
    "                "
   ]
  },
  {
   "cell_type": "code",
   "execution_count": 21,
   "id": "bbdacba1",
   "metadata": {
    "execution": {
     "iopub.execute_input": "2022-03-22T20:00:38.316901Z",
     "iopub.status.busy": "2022-03-22T20:00:38.316528Z",
     "iopub.status.idle": "2022-03-22T20:00:38.562824Z",
     "shell.execute_reply": "2022-03-22T20:00:38.563341Z"
    },
    "papermill": {
     "duration": 0.274151,
     "end_time": "2022-03-22T20:00:38.563520",
     "exception": false,
     "start_time": "2022-03-22T20:00:38.289369",
     "status": "completed"
    },
    "tags": []
   },
   "outputs": [
    {
     "name": "stdout",
     "output_type": "stream",
     "text": [
      "(2, 256)\n"
     ]
    }
   ],
   "source": [
    "###################################\n",
    "# Build the model\n",
    "###################################\n",
    "# easfsl only wants a tuple for the shape\n",
    "model = Steves_Prototypical_Network(x_net, device=p.device, x_shape=tuple(p.x_shape))\n",
    "optimizer = Adam(params=model.parameters(), lr=p.lr)"
   ]
  },
  {
   "cell_type": "code",
   "execution_count": 22,
   "id": "22b39ac5",
   "metadata": {
    "execution": {
     "iopub.execute_input": "2022-03-22T20:00:38.616199Z",
     "iopub.status.busy": "2022-03-22T20:00:38.615834Z",
     "iopub.status.idle": "2022-03-22T20:20:44.530038Z",
     "shell.execute_reply": "2022-03-22T20:20:44.529695Z"
    },
    "papermill": {
     "duration": 1205.939357,
     "end_time": "2022-03-22T20:20:44.530130",
     "exception": false,
     "start_time": "2022-03-22T20:00:38.590773",
     "status": "completed"
    },
    "tags": []
   },
   "outputs": [
    {
     "name": "stdout",
     "output_type": "stream",
     "text": [
      "epoch: 1, [batch: 1 / 6847], examples_per_second: 30.3076, train_label_loss: 2.6070, \n"
     ]
    },
    {
     "name": "stdout",
     "output_type": "stream",
     "text": [
      "epoch: 1, [batch: 685 / 6847], examples_per_second: 3431.0469, train_label_loss: 0.3043, \n"
     ]
    },
    {
     "name": "stdout",
     "output_type": "stream",
     "text": [
      "epoch: 1, [batch: 1370 / 6847], examples_per_second: 3777.8126, train_label_loss: 0.1193, \n"
     ]
    },
    {
     "name": "stdout",
     "output_type": "stream",
     "text": [
      "epoch: 1, [batch: 2054 / 6847], examples_per_second: 3704.2867, train_label_loss: 0.0259, \n"
     ]
    },
    {
     "name": "stdout",
     "output_type": "stream",
     "text": [
      "epoch: 1, [batch: 2739 / 6847], examples_per_second: 3629.4341, train_label_loss: 0.0923, \n"
     ]
    },
    {
     "name": "stdout",
     "output_type": "stream",
     "text": [
      "epoch: 1, [batch: 3424 / 6847], examples_per_second: 3444.5241, train_label_loss: 0.0686, \n"
     ]
    },
    {
     "name": "stdout",
     "output_type": "stream",
     "text": [
      "epoch: 1, [batch: 4108 / 6847], examples_per_second: 3384.4707, train_label_loss: 0.3699, \n"
     ]
    },
    {
     "name": "stdout",
     "output_type": "stream",
     "text": [
      "epoch: 1, [batch: 4793 / 6847], examples_per_second: 3382.1254, train_label_loss: 0.1891, \n"
     ]
    },
    {
     "name": "stdout",
     "output_type": "stream",
     "text": [
      "epoch: 1, [batch: 5477 / 6847], examples_per_second: 3397.1228, train_label_loss: 0.1098, \n"
     ]
    },
    {
     "name": "stdout",
     "output_type": "stream",
     "text": [
      "epoch: 1, [batch: 6162 / 6847], examples_per_second: 3446.7647, train_label_loss: 0.2361, \n"
     ]
    },
    {
     "name": "stdout",
     "output_type": "stream",
     "text": [
      "=============================================================\n",
      "epoch: 1, source_val_acc_label: 0.9631, target_val_acc_label: 0.1030, source_val_label_loss: 0.1639, target_val_label_loss: 2.7336, \n",
      "=============================================================\n"
     ]
    },
    {
     "name": "stdout",
     "output_type": "stream",
     "text": [
      "New best\n"
     ]
    },
    {
     "name": "stdout",
     "output_type": "stream",
     "text": [
      "epoch: 2, [batch: 1 / 6860], examples_per_second: 3.0571, train_label_loss: 0.2797, \n"
     ]
    },
    {
     "name": "stdout",
     "output_type": "stream",
     "text": [
      "epoch: 2, [batch: 686 / 6860], examples_per_second: 4080.5008, train_label_loss: 0.2373, \n"
     ]
    },
    {
     "name": "stdout",
     "output_type": "stream",
     "text": [
      "epoch: 2, [batch: 1372 / 6860], examples_per_second: 4475.6867, train_label_loss: 0.4161, \n"
     ]
    },
    {
     "name": "stdout",
     "output_type": "stream",
     "text": [
      "epoch: 2, [batch: 2058 / 6860], examples_per_second: 4636.7306, train_label_loss: 0.2309, \n"
     ]
    },
    {
     "name": "stdout",
     "output_type": "stream",
     "text": [
      "epoch: 2, [batch: 2744 / 6860], examples_per_second: 3804.9920, train_label_loss: 0.0243, \n"
     ]
    },
    {
     "name": "stdout",
     "output_type": "stream",
     "text": [
      "epoch: 2, [batch: 3430 / 6860], examples_per_second: 3979.0681, train_label_loss: 0.0059, \n"
     ]
    },
    {
     "name": "stdout",
     "output_type": "stream",
     "text": [
      "epoch: 2, [batch: 4116 / 6860], examples_per_second: 4016.9382, train_label_loss: 0.1813, \n"
     ]
    },
    {
     "name": "stdout",
     "output_type": "stream",
     "text": [
      "epoch: 2, [batch: 4802 / 6860], examples_per_second: 3890.4680, train_label_loss: 0.4028, \n"
     ]
    },
    {
     "name": "stdout",
     "output_type": "stream",
     "text": [
      "epoch: 2, [batch: 5488 / 6860], examples_per_second: 3874.0474, train_label_loss: 0.0068, \n"
     ]
    },
    {
     "name": "stdout",
     "output_type": "stream",
     "text": [
      "epoch: 2, [batch: 6174 / 6860], examples_per_second: 3873.0859, train_label_loss: 0.0160, \n"
     ]
    },
    {
     "name": "stdout",
     "output_type": "stream",
     "text": [
      "=============================================================\n",
      "epoch: 2, source_val_acc_label: 0.9715, target_val_acc_label: 0.1003, source_val_label_loss: 0.1231, target_val_label_loss: 2.7547, \n",
      "=============================================================\n"
     ]
    },
    {
     "name": "stdout",
     "output_type": "stream",
     "text": [
      "epoch: 3, [batch: 1 / 6849], examples_per_second: 3.9206, train_label_loss: 0.0247, \n"
     ]
    },
    {
     "name": "stdout",
     "output_type": "stream",
     "text": [
      "epoch: 3, [batch: 685 / 6849], examples_per_second: 3968.7737, train_label_loss: 0.0648, \n"
     ]
    },
    {
     "name": "stdout",
     "output_type": "stream",
     "text": [
      "epoch: 3, [batch: 1370 / 6849], examples_per_second: 4305.4003, train_label_loss: 0.1100, \n"
     ]
    },
    {
     "name": "stdout",
     "output_type": "stream",
     "text": [
      "epoch: 3, [batch: 2055 / 6849], examples_per_second: 4216.6368, train_label_loss: 0.0022, \n"
     ]
    },
    {
     "name": "stdout",
     "output_type": "stream",
     "text": [
      "epoch: 3, [batch: 2740 / 6849], examples_per_second: 3898.6887, train_label_loss: 0.0075, \n"
     ]
    },
    {
     "name": "stdout",
     "output_type": "stream",
     "text": [
      "epoch: 3, [batch: 3425 / 6849], examples_per_second: 3995.1547, train_label_loss: 0.2246, \n"
     ]
    },
    {
     "name": "stdout",
     "output_type": "stream",
     "text": [
      "epoch: 3, [batch: 4109 / 6849], examples_per_second: 4039.4644, train_label_loss: 0.1712, \n"
     ]
    },
    {
     "name": "stdout",
     "output_type": "stream",
     "text": [
      "epoch: 3, [batch: 4794 / 6849], examples_per_second: 3952.9257, train_label_loss: 0.0291, \n"
     ]
    },
    {
     "name": "stdout",
     "output_type": "stream",
     "text": [
      "epoch: 3, [batch: 5479 / 6849], examples_per_second: 3793.2501, train_label_loss: 0.0048, \n"
     ]
    },
    {
     "name": "stdout",
     "output_type": "stream",
     "text": [
      "epoch: 3, [batch: 6164 / 6849], examples_per_second: 3971.8568, train_label_loss: 0.0031, \n"
     ]
    },
    {
     "name": "stdout",
     "output_type": "stream",
     "text": [
      "=============================================================\n",
      "epoch: 3, source_val_acc_label: 0.9734, target_val_acc_label: 0.1036, source_val_label_loss: 0.1173, target_val_label_loss: 2.7600, \n",
      "=============================================================\n"
     ]
    },
    {
     "name": "stdout",
     "output_type": "stream",
     "text": [
      "New best\n"
     ]
    },
    {
     "name": "stdout",
     "output_type": "stream",
     "text": [
      "epoch: 4, [batch: 1 / 6845], examples_per_second: 3.8565, train_label_loss: 0.1430, \n"
     ]
    },
    {
     "name": "stdout",
     "output_type": "stream",
     "text": [
      "epoch: 4, [batch: 685 / 6845], examples_per_second: 4144.0729, train_label_loss: 0.0369, \n"
     ]
    },
    {
     "name": "stdout",
     "output_type": "stream",
     "text": [
      "epoch: 4, [batch: 1369 / 6845], examples_per_second: 4458.9069, train_label_loss: 0.0843, \n"
     ]
    },
    {
     "name": "stdout",
     "output_type": "stream",
     "text": [
      "epoch: 4, [batch: 2054 / 6845], examples_per_second: 3891.4837, train_label_loss: 0.0014, \n"
     ]
    },
    {
     "name": "stdout",
     "output_type": "stream",
     "text": [
      "epoch: 4, [batch: 2738 / 6845], examples_per_second: 3828.6025, train_label_loss: 0.1256, \n"
     ]
    },
    {
     "name": "stdout",
     "output_type": "stream",
     "text": [
      "epoch: 4, [batch: 3423 / 6845], examples_per_second: 3878.6327, train_label_loss: 0.0039, \n"
     ]
    },
    {
     "name": "stdout",
     "output_type": "stream",
     "text": [
      "epoch: 4, [batch: 4107 / 6845], examples_per_second: 3893.3197, train_label_loss: 0.0062, \n"
     ]
    },
    {
     "name": "stdout",
     "output_type": "stream",
     "text": [
      "epoch: 4, [batch: 4791 / 6845], examples_per_second: 3990.7056, train_label_loss: 0.0019, \n"
     ]
    },
    {
     "name": "stdout",
     "output_type": "stream",
     "text": [
      "epoch: 4, [batch: 5476 / 6845], examples_per_second: 3922.1125, train_label_loss: 0.1139, \n"
     ]
    },
    {
     "name": "stdout",
     "output_type": "stream",
     "text": [
      "epoch: 4, [batch: 6160 / 6845], examples_per_second: 3225.7397, train_label_loss: 0.0013, \n"
     ]
    },
    {
     "name": "stdout",
     "output_type": "stream",
     "text": [
      "=============================================================\n",
      "epoch: 4, source_val_acc_label: 0.9728, target_val_acc_label: 0.0992, source_val_label_loss: 0.1188, target_val_label_loss: 2.7869, \n",
      "=============================================================\n"
     ]
    },
    {
     "name": "stdout",
     "output_type": "stream",
     "text": [
      "epoch: 5, [batch: 1 / 6835], examples_per_second: 2.7813, train_label_loss: 0.0140, \n"
     ]
    },
    {
     "name": "stdout",
     "output_type": "stream",
     "text": [
      "epoch: 5, [batch: 684 / 6835], examples_per_second: 3375.5275, train_label_loss: 0.0094, \n"
     ]
    },
    {
     "name": "stdout",
     "output_type": "stream",
     "text": [
      "epoch: 5, [batch: 1367 / 6835], examples_per_second: 3387.8441, train_label_loss: 0.0027, \n"
     ]
    },
    {
     "name": "stdout",
     "output_type": "stream",
     "text": [
      "epoch: 5, [batch: 2051 / 6835], examples_per_second: 3412.3842, train_label_loss: 0.1089, \n"
     ]
    },
    {
     "name": "stdout",
     "output_type": "stream",
     "text": [
      "epoch: 5, [batch: 2734 / 6835], examples_per_second: 3459.9059, train_label_loss: 0.1902, \n"
     ]
    },
    {
     "name": "stdout",
     "output_type": "stream",
     "text": [
      "epoch: 5, [batch: 3418 / 6835], examples_per_second: 3428.7875, train_label_loss: 0.0965, \n"
     ]
    },
    {
     "name": "stdout",
     "output_type": "stream",
     "text": [
      "epoch: 5, [batch: 4101 / 6835], examples_per_second: 3792.4998, train_label_loss: 0.0016, \n"
     ]
    },
    {
     "name": "stdout",
     "output_type": "stream",
     "text": [
      "epoch: 5, [batch: 4784 / 6835], examples_per_second: 3774.5812, train_label_loss: 0.0207, \n"
     ]
    },
    {
     "name": "stdout",
     "output_type": "stream",
     "text": [
      "epoch: 5, [batch: 5468 / 6835], examples_per_second: 3753.4008, train_label_loss: 0.0050, \n"
     ]
    },
    {
     "name": "stdout",
     "output_type": "stream",
     "text": [
      "epoch: 5, [batch: 6151 / 6835], examples_per_second: 3978.0292, train_label_loss: 0.0065, \n"
     ]
    },
    {
     "name": "stdout",
     "output_type": "stream",
     "text": [
      "=============================================================\n",
      "epoch: 5, source_val_acc_label: 0.9741, target_val_acc_label: 0.0924, source_val_label_loss: 0.1171, target_val_label_loss: 2.8725, \n",
      "=============================================================\n"
     ]
    },
    {
     "name": "stdout",
     "output_type": "stream",
     "text": [
      "epoch: 6, [batch: 1 / 6842], examples_per_second: 4.4350, train_label_loss: 0.3711, \n"
     ]
    },
    {
     "name": "stdout",
     "output_type": "stream",
     "text": [
      "epoch: 6, [batch: 685 / 6842], examples_per_second: 3841.5862, train_label_loss: 0.1443, \n"
     ]
    },
    {
     "name": "stdout",
     "output_type": "stream",
     "text": [
      "epoch: 6, [batch: 1369 / 6842], examples_per_second: 3879.1636, train_label_loss: 0.0013, \n"
     ]
    },
    {
     "name": "stdout",
     "output_type": "stream",
     "text": [
      "epoch: 6, [batch: 2053 / 6842], examples_per_second: 3981.8973, train_label_loss: 0.1090, \n"
     ]
    },
    {
     "name": "stdout",
     "output_type": "stream",
     "text": [
      "epoch: 6, [batch: 2737 / 6842], examples_per_second: 3825.4484, train_label_loss: 0.0877, \n"
     ]
    },
    {
     "name": "stdout",
     "output_type": "stream",
     "text": [
      "epoch: 6, [batch: 3421 / 6842], examples_per_second: 3925.4320, train_label_loss: 0.0008, \n"
     ]
    },
    {
     "name": "stdout",
     "output_type": "stream",
     "text": [
      "epoch: 6, [batch: 4105 / 6842], examples_per_second: 3965.1614, train_label_loss: 0.0059, \n"
     ]
    },
    {
     "name": "stdout",
     "output_type": "stream",
     "text": [
      "epoch: 6, [batch: 4789 / 6842], examples_per_second: 3980.6521, train_label_loss: 0.0224, \n"
     ]
    },
    {
     "name": "stdout",
     "output_type": "stream",
     "text": [
      "epoch: 6, [batch: 5473 / 6842], examples_per_second: 4030.7371, train_label_loss: 0.0691, \n"
     ]
    },
    {
     "name": "stdout",
     "output_type": "stream",
     "text": [
      "epoch: 6, [batch: 6157 / 6842], examples_per_second: 4043.8818, train_label_loss: 0.0717, \n"
     ]
    },
    {
     "name": "stdout",
     "output_type": "stream",
     "text": [
      "=============================================================\n",
      "epoch: 6, source_val_acc_label: 0.9739, target_val_acc_label: 0.0943, source_val_label_loss: 0.1240, target_val_label_loss: 2.9446, \n",
      "=============================================================\n"
     ]
    },
    {
     "name": "stdout",
     "output_type": "stream",
     "text": [
      "epoch: 7, [batch: 1 / 6854], examples_per_second: 4.1870, train_label_loss: 0.2490, \n"
     ]
    },
    {
     "name": "stdout",
     "output_type": "stream",
     "text": [
      "epoch: 7, [batch: 686 / 6854], examples_per_second: 4191.8359, train_label_loss: 0.1792, \n"
     ]
    },
    {
     "name": "stdout",
     "output_type": "stream",
     "text": [
      "epoch: 7, [batch: 1371 / 6854], examples_per_second: 4173.6845, train_label_loss: 0.0004, \n"
     ]
    },
    {
     "name": "stdout",
     "output_type": "stream",
     "text": [
      "epoch: 7, [batch: 2056 / 6854], examples_per_second: 3845.2703, train_label_loss: 0.0005, \n"
     ]
    },
    {
     "name": "stdout",
     "output_type": "stream",
     "text": [
      "epoch: 7, [batch: 2742 / 6854], examples_per_second: 3921.7168, train_label_loss: 0.0589, \n"
     ]
    },
    {
     "name": "stdout",
     "output_type": "stream",
     "text": [
      "epoch: 7, [batch: 3427 / 6854], examples_per_second: 3785.7850, train_label_loss: 0.0010, \n"
     ]
    },
    {
     "name": "stdout",
     "output_type": "stream",
     "text": [
      "epoch: 7, [batch: 4112 / 6854], examples_per_second: 3824.7608, train_label_loss: 0.0043, \n"
     ]
    },
    {
     "name": "stdout",
     "output_type": "stream",
     "text": [
      "epoch: 7, [batch: 4798 / 6854], examples_per_second: 3852.3032, train_label_loss: 0.2010, \n"
     ]
    },
    {
     "name": "stdout",
     "output_type": "stream",
     "text": [
      "epoch: 7, [batch: 5483 / 6854], examples_per_second: 3903.6319, train_label_loss: 0.0001, \n"
     ]
    },
    {
     "name": "stdout",
     "output_type": "stream",
     "text": [
      "epoch: 7, [batch: 6168 / 6854], examples_per_second: 3887.4946, train_label_loss: 0.0530, \n"
     ]
    },
    {
     "name": "stdout",
     "output_type": "stream",
     "text": [
      "=============================================================\n",
      "epoch: 7, source_val_acc_label: 0.9734, target_val_acc_label: 0.0912, source_val_label_loss: 0.1277, target_val_label_loss: 3.0890, \n",
      "=============================================================\n"
     ]
    },
    {
     "name": "stdout",
     "output_type": "stream",
     "text": [
      "Patience (3) exhausted\n"
     ]
    }
   ],
   "source": [
    "###################################\n",
    "# train\n",
    "###################################\n",
    "jig = PTN_Train_Eval_Test_Jig(model, p.BEST_MODEL_PATH, p.device)\n",
    "\n",
    "jig.train(\n",
    "    train_iterable=datasets.source.processed.train,\n",
    "    source_val_iterable=datasets.source.processed.val,\n",
    "    target_val_iterable=datasets.target.processed.val,\n",
    "    num_epochs=p.n_epoch,\n",
    "    num_logs_per_epoch=p.NUM_LOGS_PER_EPOCH,\n",
    "    patience=p.patience,\n",
    "    optimizer=optimizer,\n",
    "    criteria_for_best=p.criteria_for_best,\n",
    ")"
   ]
  },
  {
   "cell_type": "code",
   "execution_count": 23,
   "id": "31e8fabf",
   "metadata": {
    "execution": {
     "iopub.execute_input": "2022-03-22T20:20:44.624325Z",
     "iopub.status.busy": "2022-03-22T20:20:44.623759Z",
     "iopub.status.idle": "2022-03-22T20:20:44.657114Z",
     "shell.execute_reply": "2022-03-22T20:20:44.656360Z"
    },
    "papermill": {
     "duration": 0.082539,
     "end_time": "2022-03-22T20:20:44.657289",
     "exception": false,
     "start_time": "2022-03-22T20:20:44.574750",
     "status": "completed"
    },
    "tags": []
   },
   "outputs": [],
   "source": [
    "total_experiment_time_secs = time.time() - start_time_secs"
   ]
  },
  {
   "cell_type": "code",
   "execution_count": 24,
   "id": "87b9595b",
   "metadata": {
    "execution": {
     "iopub.execute_input": "2022-03-22T20:20:44.766659Z",
     "iopub.status.busy": "2022-03-22T20:20:44.765786Z",
     "iopub.status.idle": "2022-03-22T20:23:26.773296Z",
     "shell.execute_reply": "2022-03-22T20:23:26.774050Z"
    },
    "papermill": {
     "duration": 162.063715,
     "end_time": "2022-03-22T20:23:26.774283",
     "exception": false,
     "start_time": "2022-03-22T20:20:44.710568",
     "status": "completed"
    },
    "tags": []
   },
   "outputs": [],
   "source": [
    "###################################\n",
    "# Evaluate the model\n",
    "###################################\n",
    "source_test_label_accuracy, source_test_label_loss = jig.test(datasets.source.processed.test)\n",
    "target_test_label_accuracy, target_test_label_loss = jig.test(datasets.target.processed.test)\n",
    "\n",
    "source_val_label_accuracy, source_val_label_loss = jig.test(datasets.source.processed.val)\n",
    "target_val_label_accuracy, target_val_label_loss = jig.test(datasets.target.processed.val)\n",
    "\n",
    "history = jig.get_history()\n",
    "\n",
    "total_epochs_trained = len(history[\"epoch_indices\"])\n",
    "\n",
    "val_dl = Iterable_Aggregator((datasets.source.original.val,datasets.target.original.val))\n",
    "\n",
    "confusion = ptn_confusion_by_domain_over_dataloader(model, p.device, val_dl)\n",
    "per_domain_accuracy = per_domain_accuracy_from_confusion(confusion)\n",
    "\n",
    "# Add a key to per_domain_accuracy for if it was a source domain\n",
    "for domain, accuracy in per_domain_accuracy.items():\n",
    "    per_domain_accuracy[domain] = {\n",
    "        \"accuracy\": accuracy,\n",
    "        \"source?\": domain in p.domains_source\n",
    "    }\n",
    "\n",
    "# Do an independent accuracy assesment JUST TO BE SURE!\n",
    "# _source_test_label_accuracy = independent_accuracy_assesment(model, datasets.source.processed.test, p.device)\n",
    "# _target_test_label_accuracy = independent_accuracy_assesment(model, datasets.target.processed.test, p.device)\n",
    "# _source_val_label_accuracy = independent_accuracy_assesment(model, datasets.source.processed.val, p.device)\n",
    "# _target_val_label_accuracy = independent_accuracy_assesment(model, datasets.target.processed.val, p.device)\n",
    "\n",
    "# assert(_source_test_label_accuracy == source_test_label_accuracy)\n",
    "# assert(_target_test_label_accuracy == target_test_label_accuracy)\n",
    "# assert(_source_val_label_accuracy == source_val_label_accuracy)\n",
    "# assert(_target_val_label_accuracy == target_val_label_accuracy)\n",
    "\n",
    "experiment = {\n",
    "    \"experiment_name\": p.experiment_name,\n",
    "    \"parameters\": dict(p),\n",
    "    \"results\": {\n",
    "        \"source_test_label_accuracy\": source_test_label_accuracy,\n",
    "        \"source_test_label_loss\": source_test_label_loss,\n",
    "        \"target_test_label_accuracy\": target_test_label_accuracy,\n",
    "        \"target_test_label_loss\": target_test_label_loss,\n",
    "        \"source_val_label_accuracy\": source_val_label_accuracy,\n",
    "        \"source_val_label_loss\": source_val_label_loss,\n",
    "        \"target_val_label_accuracy\": target_val_label_accuracy,\n",
    "        \"target_val_label_loss\": target_val_label_loss,\n",
    "        \"total_epochs_trained\": total_epochs_trained,\n",
    "        \"total_experiment_time_secs\": total_experiment_time_secs,\n",
    "        \"confusion\": confusion,\n",
    "        \"per_domain_accuracy\": per_domain_accuracy,\n",
    "    },\n",
    "    \"history\": history,\n",
    "    \"dataset_metrics\": get_dataset_metrics(datasets, \"ptn\"),\n",
    "}"
   ]
  },
  {
   "cell_type": "code",
   "execution_count": 25,
   "id": "54a21829",
   "metadata": {
    "execution": {
     "iopub.execute_input": "2022-03-22T20:23:26.883444Z",
     "iopub.status.busy": "2022-03-22T20:23:26.882845Z",
     "iopub.status.idle": "2022-03-22T20:23:27.103289Z",
     "shell.execute_reply": "2022-03-22T20:23:27.104202Z"
    },
    "papermill": {
     "duration": 0.274629,
     "end_time": "2022-03-22T20:23:27.104464",
     "exception": false,
     "start_time": "2022-03-22T20:23:26.829835",
     "status": "completed"
    },
    "tags": []
   },
   "outputs": [
    {
     "data": {
      "image/png": "[encoded data removed]",
      "text/plain": [
       "<Figure size 1080x504 with 1 Axes>"
      ]
     },
     "metadata": {
      "needs_background": "light"
     },
     "output_type": "display_data"
    }
   ],
   "source": [
    "ax = get_loss_curve(experiment)\n",
    "plt.show()"
   ]
  },
  {
   "cell_type": "code",
   "execution_count": 26,
   "id": "fd8a0f60",
   "metadata": {
    "execution": {
     "iopub.execute_input": "2022-03-22T20:23:27.211236Z",
     "iopub.status.busy": "2022-03-22T20:23:27.210852Z",
     "iopub.status.idle": "2022-03-22T20:23:27.577760Z",
     "shell.execute_reply": "2022-03-22T20:23:27.578449Z"
    },
    "papermill": {
     "duration": 0.419184,
     "end_time": "2022-03-22T20:23:27.578662",
     "exception": false,
     "start_time": "2022-03-22T20:23:27.159478",
     "status": "completed"
    },
    "tags": []
   },
   "outputs": [
    {
     "data": {
      "text/plain": [
       "<AxesSubplot:title={'center':'Results'}>"
      ]
     },
     "execution_count": 26,
     "metadata": {},
     "output_type": "execute_result"
    },
    {
     "data": {
      "image/png": "[encoded data removed]",
      "text/plain": [
       "<Figure size 1080x504 with 1 Axes>"
      ]
     },
     "metadata": {
      "needs_background": "light"
     },
     "output_type": "display_data"
    }
   ],
   "source": [
    "get_results_table(experiment)"
   ]
  },
  {
   "cell_type": "code",
   "execution_count": 27,
   "id": "cf8dc689",
   "metadata": {
    "execution": {
     "iopub.execute_input": "2022-03-22T20:23:27.682453Z",
     "iopub.status.busy": "2022-03-22T20:23:27.682086Z",
     "iopub.status.idle": "2022-03-22T20:23:27.936297Z",
     "shell.execute_reply": "2022-03-22T20:23:27.936975Z"
    },
    "papermill": {
     "duration": 0.306816,
     "end_time": "2022-03-22T20:23:27.937188",
     "exception": false,
     "start_time": "2022-03-22T20:23:27.630372",
     "status": "completed"
    },
    "tags": []
   },
   "outputs": [
    {
     "data": {
      "text/plain": [
       "<AxesSubplot:title={'center':'Per Domain Validation Accuracy'}, xlabel='domain'>"
      ]
     },
     "execution_count": 27,
     "metadata": {},
     "output_type": "execute_result"
    },
    {
     "data": {
      "image/png": "[encoded data removed]",
      "text/plain": [
       "<Figure size 1080x504 with 1 Axes>"
      ]
     },
     "metadata": {
      "needs_background": "light"
     },
     "output_type": "display_data"
    }
   ],
   "source": [
    "get_domain_accuracies(experiment)"
   ]
  },
  {
   "cell_type": "code",
   "execution_count": 28,
   "id": "a74ae082",
   "metadata": {
    "execution": {
     "iopub.execute_input": "2022-03-22T20:23:28.046306Z",
     "iopub.status.busy": "2022-03-22T20:23:28.045732Z",
     "iopub.status.idle": "2022-03-22T20:23:28.072594Z",
     "shell.execute_reply": "2022-03-22T20:23:28.073259Z"
    },
    "papermill": {
     "duration": 0.081235,
     "end_time": "2022-03-22T20:23:28.073448",
     "exception": false,
     "start_time": "2022-03-22T20:23:27.992213",
     "status": "completed"
    },
    "tags": []
   },
   "outputs": [
    {
     "name": "stdout",
     "output_type": "stream",
     "text": [
      "Source Test Label Accuracy: 0.9727290372670807 Target Test Label Accuracy: 0.10432942708333333\n",
      "Source Val Label Accuracy: 0.9733747357293869 Target Val Label Accuracy: 0.10361328125\n"
     ]
    }
   ],
   "source": [
    "print(\"Source Test Label Accuracy:\", experiment[\"results\"][\"source_test_label_accuracy\"], \"Target Test Label Accuracy:\", experiment[\"results\"][\"target_test_label_accuracy\"])\n",
    "print(\"Source Val Label Accuracy:\", experiment[\"results\"][\"source_val_label_accuracy\"], \"Target Val Label Accuracy:\", experiment[\"results\"][\"target_val_label_accuracy\"])"
   ]
  },
  {
   "cell_type": "code",
   "execution_count": 29,
   "id": "dacca602",
   "metadata": {
    "execution": {
     "iopub.execute_input": "2022-03-22T20:23:28.180272Z",
     "iopub.status.busy": "2022-03-22T20:23:28.179907Z",
     "iopub.status.idle": "2022-03-22T20:23:28.207688Z",
     "shell.execute_reply": "2022-03-22T20:23:28.208394Z"
    },
    "papermill": {
     "duration": 0.080549,
     "end_time": "2022-03-22T20:23:28.208581",
     "exception": false,
     "start_time": "2022-03-22T20:23:28.128032",
     "status": "completed"
    },
    "tags": [
     "experiment_json"
    ]
   },
   "outputs": [
    {
     "data": {
      "text/plain": [
       "'{\"experiment_name\": \"tl_1v2:wisig-oracle.run1.limited\", \"parameters\": {\"experiment_name\": \"tl_1v2:wisig-oracle.run1.limited\", \"device\": \"cuda\", \"lr\": 0.0001, \"n_shot\": 3, \"n_query\": 2, \"train_k_factor\": 3, \"val_k_factor\": 2, \"test_k_factor\": 2, \"torch_default_dtype\": \"torch.float32\", \"n_epoch\": 50, \"patience\": 3, \"criteria_for_best\": \"target_accuracy\", \"x_net\": [{\"class\": \"nnReshape\", \"kargs\": {\"shape\": [-1, 1, 2, 256]}}, {\"class\": \"Conv2d\", \"kargs\": {\"in_channels\": 1, \"out_channels\": 256, \"kernel_size\": [1, 7], \"bias\": false, \"padding\": [0, 3]}}, {\"class\": \"ReLU\", \"kargs\": {\"inplace\": true}}, {\"class\": \"BatchNorm2d\", \"kargs\": {\"num_features\": 256}}, {\"class\": \"Conv2d\", \"kargs\": {\"in_channels\": 256, \"out_channels\": 80, \"kernel_size\": [2, 7], \"bias\": true, \"padding\": [0, 3]}}, {\"class\": \"ReLU\", \"kargs\": {\"inplace\": true}}, {\"class\": \"BatchNorm2d\", \"kargs\": {\"num_features\": 80}}, {\"class\": \"Flatten\", \"kargs\": {}}, {\"class\": \"Linear\", \"kargs\": {\"in_features\": 20480, \"out_features\": 256}}, {\"class\": \"ReLU\", \"kargs\": {\"inplace\": true}}, {\"class\": \"BatchNorm1d\", \"kargs\": {\"num_features\": 256}}, {\"class\": \"Linear\", \"kargs\": {\"in_features\": 256, \"out_features\": 256}}], \"NUM_LOGS_PER_EPOCH\": 10, \"BEST_MODEL_PATH\": \"./best_model.pth\", \"n_way\": 16, \"datasets\": [{\"labels\": [\"1-10\", \"1-12\", \"1-14\", \"1-16\", \"1-18\", \"1-19\", \"1-8\", \"10-11\", \"10-17\", \"10-4\", \"10-7\", \"11-1\", \"11-10\", \"11-19\", \"11-20\", \"11-4\", \"11-7\", \"12-19\", \"12-20\", \"12-7\", \"13-14\", \"13-18\", \"13-19\", \"13-20\", \"13-3\", \"13-7\", \"14-10\", \"14-11\", \"14-12\", \"14-13\", \"14-14\", \"14-19\", \"14-20\", \"14-7\", \"14-8\", \"14-9\", \"15-1\", \"15-19\", \"15-6\", \"16-1\", \"16-16\", \"16-19\", \"16-20\", \"17-10\", \"17-11\", \"18-1\", \"18-10\", \"18-11\", \"18-12\", \"18-13\", \"18-14\", \"18-15\", \"18-16\", \"18-17\", \"18-19\", \"18-2\", \"18-20\", \"18-4\", \"18-5\", \"18-7\", \"18-8\", \"18-9\", \"19-1\", \"19-10\", \"19-11\", \"19-12\", \"19-13\", \"19-14\", \"19-15\", \"19-19\", \"19-2\", \"19-20\", \"19-3\", \"19-4\", \"19-6\", \"19-7\", \"19-8\", \"19-9\", \"2-1\", \"2-13\", \"2-15\", \"2-3\", \"2-4\", \"2-5\", \"2-6\", \"2-7\", \"2-8\", \"20-1\", \"20-12\", \"20-14\", \"20-15\", \"20-16\", \"20-18\", \"20-19\", \"20-20\", \"20-3\", \"20-4\", \"20-5\", \"20-7\", \"20-8\", \"3-1\", \"3-13\", \"3-18\", \"3-2\", \"3-8\", \"4-1\", \"4-10\", \"4-11\", \"5-1\", \"5-5\", \"6-1\", \"6-15\", \"6-6\", \"7-10\", \"7-11\", \"7-12\", \"7-13\", \"7-14\", \"7-7\", \"7-8\", \"7-9\", \"8-1\", \"8-13\", \"8-14\", \"8-18\", \"8-20\", \"8-3\", \"8-8\", \"9-1\", \"9-7\"], \"domains\": [1, 2, 3, 4], \"num_examples_per_domain_per_label\": -1, \"pickle_path\": \"/root/csc500-main/datasets/wisig.node3-19.stratified_ds.2022A.pkl\", \"source_or_target_dataset\": \"source\", \"x_transforms\": [\"unit_power\"], \"episode_transforms\": [], \"domain_prefix\": \"Wisig_\"}, {\"labels\": [\"3123D52\", \"3123D65\", \"3123D79\", \"3123D80\", \"3123D54\", \"3123D70\", \"3123D7B\", \"3123D89\", \"3123D58\", \"3123D76\", \"3123D7D\", \"3123EFE\", \"3123D64\", \"3123D78\", \"3123D7E\", \"3124E4A\"], \"domains\": [32, 38, 8, 44, 14, 50, 20, 26], \"num_examples_per_domain_per_label\": 2000, \"pickle_path\": \"/root/csc500-main/datasets/oracle.Run1_10kExamples_stratified_ds.2022A.pkl\", \"source_or_target_dataset\": \"target\", \"x_transforms\": [\"unit_power\"], \"episode_transforms\": [], \"domain_prefix\": \"ORACLE.run1\"}], \"dataset_seed\": 420, \"seed\": 420, \"x_shape\": [2, 256], \"domains_source\": [\"Wisig_1\", \"Wisig_2\", \"Wisig_3\", \"Wisig_4\"], \"domains_target\": [\"ORACLE.run132\", \"ORACLE.run138\", \"ORACLE.run18\", \"ORACLE.run144\", \"ORACLE.run114\", \"ORACLE.run150\", \"ORACLE.run120\", \"ORACLE.run126\"]}, \"results\": {\"source_test_label_accuracy\": 0.9727290372670807, \"source_test_label_loss\": 0.11583337187767029, \"target_test_label_accuracy\": 0.10432942708333333, \"target_test_label_loss\": 2.7571861743927, \"source_val_label_accuracy\": 0.9733747357293869, \"source_val_label_loss\": 0.11728736758232117, \"target_val_label_accuracy\": 0.10361328125, \"target_val_label_loss\": 2.759960651397705, \"total_epochs_trained\": 7, \"total_experiment_time_secs\": 1269.3533823490143, \"confusion\": {\"Wisig_3\": {\"110\": {\"110\": 88, \"72\": 1, \"8\": 2, \"2\": 1}, \"1\": {\"1\": 107, \"69\": 1}, \"2\": {\"2\": 28}, \"94\": {\"94\": 80, \"27\": 1, \"70\": 1, \"73\": 1, \"114\": 1}, \"64\": {\"64\": 20}, \"78\": {\"78\": 14, \"7\": 1, \"21\": 1}, \"47\": {\"47\": 11, \"60\": 1}, \"127\": {\"127\": 127, \"111\": 1}, \"89\": {\"89\": 28}, \"79\": {\"79\": 12}, \"22\": {\"22\": 16}, \"117\": {\"117\": 112}, \"49\": {\"49\": 23, \"47\": 1}, \"14\": {\"14\": 80}, \"103\": {\"103\": 16}, \"123\": {\"123\": 16}, \"98\": {\"98\": 128}, \"18\": {\"18\": 108}, \"61\": {\"61\": 16}, \"108\": {\"108\": 123, \"110\": 1, \"88\": 1, \"114\": 1}, \"100\": {\"100\": 16}, \"0\": {\"0\": 115, \"114\": 1}, \"107\": {\"107\": 130}, \"58\": {\"58\": 16}, \"8\": {\"8\": 120}, \"85\": {\"85\": 36}, \"31\": {\"31\": 19, \"129\": 1}, \"81\": {\"81\": 32}, \"60\": {\"60\": 28}, \"102\": {\"102\": 116}, \"19\": {\"19\": 31, \"28\": 1}, \"23\": {\"60\": 2, \"23\": 30}, \"32\": {\"32\": 32}, \"39\": {\"39\": 105, \"126\": 2, \"21\": 1}, \"129\": {\"129\": 32}, \"71\": {\"71\": 67, \"84\": 1}, \"91\": {\"91\": 22, \"57\": 1, \"70\": 1}, \"101\": {\"101\": 49, \"2\": 1, \"10\": 1, \"118\": 1}, \"62\": {\"62\": 122}, \"63\": {\"63\": 16}, \"125\": {\"125\": 117, \"124\": 1, \"62\": 1, \"4\": 1}, \"57\": {\"57\": 20}, \"28\": {\"28\": 16}, \"70\": {\"70\": 61, \"73\": 1, \"43\": 1, \"21\": 1, \"15\": 1, \"114\": 1, \"69\": 2, \"110\": 2, \"33\": 1, \"26\": 1}, \"99\": {\"99\": 33, \"17\": 1, \"27\": 1, \"7\": 1}, \"121\": {\"121\": 28, \"61\": 1, \"80\": 1, \"19\": 1, \"113\": 1}, \"4\": {\"4\": 95, \"8\": 1}, \"80\": {\"80\": 16}, \"51\": {\"97\": 1, \"51\": 13, \"59\": 1, \"57\": 1}, \"3\": {\"3\": 114, \"13\": 1, \"70\": 1}, \"9\": {\"9\": 32}, \"53\": {\"53\": 19, \"69\": 1}, \"30\": {\"30\": 84}, \"33\": {\"33\": 122}, \"15\": {\"15\": 103, \"8\": 1}, \"97\": {\"30\": 1, \"97\": 19}, \"86\": {\"86\": 27, \"8\": 1}, \"20\": {\"20\": 16}, \"66\": {\"66\": 16}, \"10\": {\"10\": 121, \"43\": 1}, \"29\": {\"29\": 32}, \"109\": {\"109\": 112, \"5\": 1, \"114\": 1}, \"52\": {\"52\": 16}, \"67\": {\"67\": 16}, \"83\": {\"83\": 22, \"121\": 1, \"43\": 1}, \"72\": {\"72\": 28}, \"90\": {\"90\": 124, \"26\": 2}, \"69\": {\"69\": 83, \"89\": 1}, \"88\": {\"88\": 110, \"8\": 1, \"39\": 1}, \"115\": {\"115\": 16}, \"73\": {\"73\": 37, \"22\": 1, \"69\": 1, \"49\": 1}, \"34\": {\"34\": 29, \"6\": 2, \"121\": 1}, \"25\": {\"25\": 16}, \"44\": {\"44\": 72}, \"112\": {\"112\": 15, \"127\": 1}, \"37\": {\"37\": 16}, \"77\": {\"77\": 16}, \"111\": {\"111\": 119, \"127\": 2, \"8\": 1}, \"119\": {\"119\": 16}, \"56\": {\"56\": 12}, \"5\": {\"5\": 110, \"3\": 1, \"87\": 1}, \"122\": {\"122\": 57, \"21\": 3}, \"74\": {\"74\": 16}, \"11\": {\"11\": 152}, \"41\": {\"41\": 16}, \"104\": {\"104\": 16}, \"21\": {\"62\": 1, \"21\": 45, \"101\": 2}, \"118\": {\"118\": 98, \"59\": 1, \"69\": 1}, \"40\": {\"40\": 121, \"21\": 1}, \"6\": {\"6\": 32}, \"27\": {\"27\": 92, \"24\": 1, \"118\": 1, \"36\": 2}, \"113\": {\"113\": 119, \"21\": 1}, \"68\": {\"68\": 16}, \"12\": {\"12\": 102}, \"54\": {\"54\": 16}, \"24\": {\"24\": 47, \"86\": 1}, \"106\": {\"106\": 98, \"87\": 1, \"26\": 1}, \"128\": {\"128\": 32}, \"48\": {\"48\": 14, \"79\": 2}, \"92\": {\"92\": 32}, \"35\": {\"35\": 10, \"54\": 1, \"27\": 1}, \"116\": {\"116\": 28}, \"38\": {\"38\": 15, \"6\": 1}, \"126\": {\"126\": 123, \"73\": 1}, \"46\": {\"46\": 16}, \"120\": {\"120\": 20}, \"7\": {\"7\": 111, \"84\": 1}, \"13\": {\"13\": 10, \"71\": 1, \"78\": 1, \"70\": 1, \"62\": 1, \"92\": 1, \"17\": 1}, \"43\": {\"43\": 53, \"84\": 1, \"12\": 1, \"5\": 1}, \"93\": {\"93\": 131, \"3\": 1}, \"26\": {\"26\": 131, \"84\": 1}, \"76\": {\"76\": 16}, \"59\": {\"59\": 12}, \"65\": {\"65\": 12}, \"87\": {\"87\": 119, \"43\": 1}, \"124\": {\"124\": 122, \"128\": 1, \"12\": 1}, \"84\": {\"84\": 107, \"118\": 1}, \"82\": {\"82\": 28}, \"75\": {\"75\": 16}, \"17\": {\"10\": 1, \"17\": 8, \"116\": 1, \"104\": 1, \"55\": 1, \"106\": 1, \"76\": 1, \"56\": 1, \"51\": 1}, \"105\": {\"105\": 124}, \"95\": {\"95\": 32}, \"42\": {\"42\": 28}, \"55\": {\"55\": 16}, \"16\": {\"16\": 115, \"84\": 1}, \"50\": {\"50\": 16}, \"96\": {\"96\": 20}, \"45\": {\"45\": 16}, \"36\": {\"36\": 120}, \"114\": {\"114\": 119, \"106\": 2, \"26\": 1, \"111\": 1, \"1\": 1}}, \"Wisig_4\": {\"113\": {\"113\": 120, \"110\": 1, \"126\": 1, \"3\": 1, \"106\": 1}, \"85\": {\"85\": 26, \"36\": 1, \"7\": 1}, \"34\": {\"34\": 29, \"6\": 1, \"120\": 1, \"47\": 1}, \"55\": {\"55\": 16}, \"42\": {\"42\": 27, \"112\": 1}, \"13\": {\"13\": 16}, \"69\": {\"69\": 118, \"70\": 1, \"84\": 1, \"1\": 1, \"21\": 1, \"113\": 1, \"16\": 1}, \"35\": {\"35\": 12}, \"83\": {\"83\": 26, \"8\": 1, \"78\": 1}, \"51\": {\"51\": 11, \"24\": 1, \"62\": 3, \"121\": 1}, \"72\": {\"72\": 32}, \"24\": {\"24\": 113, \"10\": 1, \"21\": 1, \"36\": 3, \"84\": 1, \"27\": 1}, \"53\": {\"53\": 15, \"92\": 1}, \"8\": {\"8\": 137, \"110\": 1, \"1\": 1, \"43\": 1, \"89\": 1, \"122\": 1, \"106\": 1, \"69\": 1}, \"49\": {\"49\": 32}, \"21\": {\"21\": 38, \"23\": 1, \"112\": 1}, \"18\": {\"18\": 119, \"39\": 1}, \"114\": {\"114\": 116, \"88\": 1, \"3\": 1}, \"58\": {\"58\": 15, \"106\": 1}, \"56\": {\"56\": 12}, \"80\": {\"80\": 16}, \"11\": {\"11\": 153, \"7\": 1}, \"15\": {\"15\": 125, \"105\": 1, \"40\": 1, \"69\": 1}, \"50\": {\"50\": 16}, \"111\": {\"111\": 137, \"106\": 1}, \"108\": {\"108\": 83, \"88\": 2, \"3\": 1, \"24\": 1, \"129\": 1, \"39\": 1, \"7\": 2, \"107\": 1}, \"104\": {\"104\": 16}, \"32\": {\"32\": 28}, \"68\": {\"68\": 15, \"108\": 1}, \"73\": {\"73\": 24}, \"92\": {\"92\": 28}, \"57\": {\"57\": 16}, \"40\": {\"40\": 132, \"94\": 1, \"70\": 1, \"122\": 2}, \"71\": {\"71\": 100, \"70\": 1, \"30\": 1, \"105\": 1, \"27\": 1}, \"121\": {\"121\": 24, \"80\": 1, \"85\": 1, \"21\": 1, \"100\": 2, \"38\": 1, \"115\": 1, \"48\": 1}, \"62\": {\"62\": 54, \"26\": 1, \"43\": 1, \"41\": 1, \"8\": 1, \"70\": 1, \"21\": 1}, \"39\": {\"39\": 93, \"88\": 1, \"69\": 1, \"62\": 1, \"16\": 1, \"105\": 1, \"3\": 1, \"94\": 1}, \"107\": {\"107\": 142, \"10\": 1, \"94\": 1}, \"60\": {\"60\": 31, \"110\": 1}, \"129\": {\"129\": 26, \"122\": 1, \"121\": 1}, \"84\": {\"84\": 128, \"78\": 1, \"106\": 2, \"71\": 1}, \"106\": {\"106\": 116}, \"87\": {\"87\": 131, \"43\": 1}, \"110\": {\"110\": 89, \"43\": 1, \"113\": 1, \"24\": 1, \"36\": 1, \"16\": 1}, \"118\": {\"118\": 109, \"100\": 1, \"83\": 1, \"40\": 1}, \"64\": {\"64\": 15, \"106\": 1}, \"82\": {\"60\": 1, \"82\": 30, \"17\": 1}, \"7\": {\"7\": 121, \"43\": 1, \"84\": 2}, \"0\": {\"0\": 109, \"110\": 1, \"101\": 2, \"10\": 1, \"71\": 1, \"21\": 2}, \"41\": {\"41\": 14, \"91\": 1, \"21\": 1}, \"102\": {\"102\": 127, \"98\": 1, \"16\": 1, \"96\": 1}, \"89\": {\"89\": 31, \"51\": 1}, \"26\": {\"26\": 125, \"98\": 1, \"59\": 1, \"8\": 1}, \"103\": {\"103\": 16}, \"90\": {\"90\": 114, \"98\": 1, \"34\": 1, \"117\": 1, \"106\": 1}, \"14\": {\"14\": 111, \"70\": 1}, \"9\": {\"9\": 28}, \"5\": {\"5\": 133, \"113\": 1, \"40\": 1, \"106\": 1}, \"22\": {\"22\": 16}, \"2\": {\"2\": 28}, \"77\": {\"77\": 12}, \"59\": {\"59\": 10, \"22\": 1, \"69\": 1}, \"127\": {\"127\": 95, \"84\": 1, \"16\": 1, \"8\": 1, \"105\": 2, \"81\": 1, \"69\": 1}, \"61\": {\"61\": 15, \"35\": 1}, \"17\": {\"17\": 19, \"29\": 1}, \"45\": {\"45\": 16}, \"19\": {\"19\": 28}, \"52\": {\"52\": 19, \"129\": 1}, \"123\": {\"53\": 1, \"123\": 13, \"23\": 1, \"22\": 1}, \"20\": {\"20\": 15, \"3\": 1}, \"112\": {\"112\": 14, \"53\": 1, \"15\": 1}, \"37\": {\"37\": 16}, \"29\": {\"29\": 32}, \"128\": {\"128\": 23, \"78\": 1}, \"100\": {\"100\": 20}, \"67\": {\"67\": 16}, \"12\": {\"12\": 97, \"71\": 1, \"16\": 1, \"118\": 1}, \"101\": {\"101\": 126, \"109\": 1, \"0\": 1}, \"76\": {\"76\": 16}, \"70\": {\"70\": 116, \"88\": 5, \"107\": 1, \"7\": 1, \"27\": 1}, \"31\": {\"69\": 1, \"31\": 15}, \"86\": {\"86\": 28}, \"88\": {\"70\": 3, \"88\": 127, \"69\": 1, \"118\": 1}, \"3\": {\"3\": 123, \"24\": 1, \"122\": 1, \"52\": 1}, \"117\": {\"117\": 117, \"115\": 1, \"10\": 1, \"8\": 1}, \"30\": {\"30\": 70, \"7\": 1, \"108\": 1, \"10\": 1, \"16\": 1, \"122\": 1, \"114\": 1}, \"96\": {\"96\": 19, \"109\": 1}, \"27\": {\"27\": 88, \"92\": 1, \"105\": 1, \"8\": 1, \"108\": 1, \"30\": 1, \"70\": 1, \"24\": 1, \"84\": 1, \"21\": 1, \"5\": 1, \"7\": 1, \"71\": 1}, \"122\": {\"122\": 83, \"106\": 1}, \"120\": {\"120\": 19, \"21\": 1}, \"44\": {\"44\": 60, \"85\": 1, \"90\": 1, \"121\": 1, \"103\": 1}, \"79\": {\"79\": 15, \"39\": 1}, \"105\": {\"105\": 96, \"71\": 1, \"36\": 1, \"87\": 1, \"24\": 1}, \"95\": {\"95\": 30, \"21\": 1, \"106\": 1}, \"109\": {\"109\": 114, \"30\": 1, \"78\": 1}, \"16\": {\"16\": 115, \"10\": 2, \"70\": 1}, \"36\": {\"36\": 89, \"21\": 1, \"24\": 4, \"105\": 1, \"121\": 1, \"27\": 1, \"106\": 1}, \"125\": {\"125\": 135, \"4\": 1}, \"97\": {\"97\": 16, \"10\": 3, \"118\": 1}, \"91\": {\"91\": 22, \"54\": 1, \"92\": 1}, \"28\": {\"28\": 20}, \"81\": {\"81\": 36}, \"126\": {\"126\": 113, \"24\": 1, \"78\": 1, \"106\": 1, \"71\": 1, \"113\": 1, \"53\": 1, \"39\": 1, \"93\": 2}, \"4\": {\"4\": 98, \"71\": 1, \"3\": 1, \"10\": 1, \"24\": 1, \"110\": 1, \"84\": 1}, \"10\": {\"10\": 122, \"78\": 1, \"43\": 1}, \"63\": {\"63\": 16}, \"43\": {\"43\": 118}, \"116\": {\"116\": 26, \"99\": 2}, \"1\": {\"1\": 101, \"99\": 1, \"10\": 1, \"4\": 1, \"110\": 1, \"118\": 1, \"87\": 1, \"36\": 1}, \"94\": {\"94\": 85, \"71\": 1, \"84\": 1, \"26\": 1}, \"38\": {\"38\": 16}, \"54\": {\"54\": 16}, \"74\": {\"74\": 16}, \"25\": {\"25\": 16}, \"75\": {\"75\": 16}, \"119\": {\"119\": 15, \"123\": 1}, \"46\": {\"46\": 18, \"23\": 1, \"122\": 1}, \"23\": {\"23\": 10, \"70\": 1, \"84\": 1, \"12\": 1, \"86\": 1, \"123\": 1, \"71\": 1}, \"99\": {\"99\": 40}, \"33\": {\"33\": 116, \"84\": 1, \"10\": 1}, \"47\": {\"47\": 9, \"21\": 1, \"43\": 1, \"84\": 1}, \"115\": {\"115\": 16}, \"6\": {\"6\": 23, \"122\": 1}, \"65\": {\"65\": 12}, \"66\": {\"66\": 16}, \"78\": {\"78\": 32, \"97\": 1, \"94\": 1, \"60\": 1, \"30\": 1}, \"98\": {\"98\": 116}, \"93\": {\"93\": 115, \"84\": 1}, \"48\": {\"48\": 15, \"74\": 1}, \"124\": {\"124\": 113, \"84\": 1}}, \"Wisig_2\": {\"115\": {\"115\": 12}, \"34\": {\"34\": 32}, \"97\": {\"97\": 18, \"15\": 1, \"56\": 1}, \"100\": {\"100\": 16}, \"129\": {\"129\": 32}, \"90\": {\"90\": 140, \"98\": 1, \"69\": 1}, \"125\": {\"125\": 132}, \"7\": {\"7\": 125, \"18\": 1, \"24\": 1, \"87\": 1}, \"92\": {\"92\": 28}, \"114\": {\"114\": 116}, \"80\": {\"80\": 15, \"11\": 1}, \"16\": {\"16\": 118, \"43\": 1, \"71\": 2, \"110\": 1}, \"69\": {\"69\": 113, \"24\": 2, \"114\": 1}, \"102\": {\"102\": 114}, \"33\": {\"33\": 130}, \"17\": {\"17\": 15, \"27\": 1}, \"27\": {\"27\": 63, \"11\": 1, \"106\": 1, \"62\": 1, \"91\": 1, \"94\": 1}, \"117\": {\"117\": 104, \"12\": 1, \"24\": 1}, \"14\": {\"14\": 46, \"121\": 1, \"21\": 1}, \"86\": {\"86\": 32}, \"0\": {\"0\": 113, \"21\": 1, \"10\": 1, \"12\": 1}, \"62\": {\"62\": 137, \"23\": 1}, \"39\": {\"39\": 105, \"110\": 1, \"87\": 1, \"94\": 2, \"71\": 1, \"84\": 1, \"18\": 1}, \"19\": {\"19\": 28}, \"44\": {\"44\": 100}, \"104\": {\"104\": 20}, \"3\": {\"3\": 125, \"69\": 2, \"24\": 1, \"21\": 1, \"62\": 1}, \"10\": {\"10\": 56, \"21\": 2, \"11\": 1, \"94\": 1}, \"61\": {\"61\": 16, \"121\": 1, \"30\": 1, \"58\": 2}, \"111\": {\"111\": 114}, \"68\": {\"68\": 16}, \"101\": {\"101\": 142, \"21\": 1, \"71\": 1}, \"36\": {\"36\": 118, \"51\": 1, \"18\": 1, \"24\": 3, \"114\": 1, \"26\": 1, \"16\": 1, \"4\": 1, \"117\": 1}, \"120\": {\"120\": 20}, \"103\": {\"103\": 16}, \"47\": {\"47\": 12}, \"98\": {\"98\": 120}, \"76\": {\"76\": 16}, \"88\": {\"88\": 122, \"126\": 1, \"87\": 1}, \"93\": {\"93\": 136, \"87\": 1, \"24\": 1}, \"23\": {\"23\": 43, \"10\": 1}, \"108\": {\"108\": 123, \"87\": 1}, \"51\": {\"77\": 1, \"51\": 15, \"14\": 1, \"54\": 1, \"39\": 1, \"24\": 1}, \"13\": {\"13\": 13, \"121\": 1, \"71\": 1, \"118\": 1}, \"77\": {\"77\": 16}, \"46\": {\"46\": 16}, \"96\": {\"96\": 20}, \"119\": {\"119\": 19, \"43\": 1}, \"121\": {\"121\": 36}, \"54\": {\"54\": 18, \"28\": 1, \"118\": 1}, \"82\": {\"82\": 35, \"78\": 1}, \"12\": {\"12\": 86, \"10\": 1, \"24\": 1}, \"74\": {\"74\": 15, \"22\": 1}, \"66\": {\"66\": 18, \"118\": 1, \"71\": 1}, \"28\": {\"28\": 20}, \"52\": {\"52\": 18, \"121\": 1, \"110\": 1}, \"41\": {\"41\": 18, \"15\": 1, \"110\": 1}, \"81\": {\"81\": 24}, \"48\": {\"48\": 20}, \"113\": {\"113\": 70, \"78\": 1, \"84\": 1}, \"53\": {\"53\": 16}, \"15\": {\"15\": 119, \"30\": 1}, \"30\": {\"30\": 110, \"26\": 1, \"106\": 1}, \"43\": {\"43\": 121, \"87\": 1, \"42\": 1, \"114\": 1}, \"29\": {\"29\": 31, \"62\": 1}, \"109\": {\"109\": 95, \"110\": 1, \"26\": 1, \"70\": 1, \"62\": 1, \"24\": 1}, \"60\": {\"60\": 27, \"73\": 1}, \"70\": {\"70\": 116, \"16\": 1, \"87\": 2, \"5\": 1, \"71\": 1, \"3\": 1}, \"127\": {\"127\": 123, \"16\": 1}, \"32\": {\"32\": 36}, \"73\": {\"73\": 27, \"116\": 1}, \"50\": {\"50\": 13, \"75\": 1, \"62\": 1, \"45\": 1}, \"1\": {\"1\": 119, \"51\": 1, \"12\": 1, \"87\": 1, \"26\": 1, \"122\": 1}, \"106\": {\"106\": 117, \"62\": 2, \"114\": 1}, \"123\": {\"123\": 16}, \"79\": {\"79\": 16}, \"4\": {\"4\": 85, \"84\": 1, \"129\": 1, \"62\": 1}, \"2\": {\"2\": 31, \"26\": 1}, \"8\": {\"8\": 125, \"62\": 1, \"12\": 2}, \"83\": {\"83\": 40}, \"105\": {\"105\": 129, \"21\": 1}, \"5\": {\"5\": 107, \"21\": 1, \"70\": 1, \"26\": 1, \"12\": 1, \"18\": 1}, \"99\": {\"99\": 32}, \"25\": {\"25\": 15, \"49\": 1}, \"59\": {\"59\": 16}, \"42\": {\"42\": 26, \"83\": 1, \"18\": 1}, \"55\": {\"55\": 16}, \"75\": {\"75\": 16}, \"118\": {\"118\": 66, \"39\": 1, \"12\": 1}, \"95\": {\"95\": 34, \"59\": 1, \"45\": 1}, \"122\": {\"122\": 116, \"24\": 1, \"12\": 1, \"70\": 1, \"110\": 1}, \"20\": {\"20\": 16}, \"110\": {\"110\": 37, \"34\": 1, \"21\": 1, \"69\": 1}, \"65\": {\"65\": 20}, \"37\": {\"79\": 1, \"37\": 14, \"104\": 1}, \"64\": {\"64\": 16}, \"63\": {\"63\": 19, \"49\": 1}, \"40\": {\"40\": 128, \"18\": 1, \"62\": 1, \"111\": 1, \"87\": 1, \"24\": 1, \"16\": 1, \"71\": 1, \"110\": 1, \"15\": 1, \"4\": 1, \"43\": 1, \"69\": 1}, \"21\": {\"21\": 44, \"122\": 1, \"70\": 1, \"62\": 1, \"78\": 1}, \"11\": {\"11\": 77, \"0\": 1, \"103\": 1, \"87\": 1}, \"67\": {\"67\": 16}, \"91\": {\"91\": 26, \"70\": 1, \"18\": 1}, \"87\": {\"87\": 105, \"70\": 1, \"108\": 1, \"62\": 1, \"45\": 1, \"106\": 1, \"39\": 1, \"94\": 1}, \"89\": {\"89\": 34, \"98\": 1, \"97\": 1}, \"9\": {\"9\": 32}, \"124\": {\"124\": 114}, \"56\": {\"56\": 10, \"103\": 1, \"30\": 1}, \"38\": {\"38\": 16}, \"94\": {\"94\": 58, \"27\": 1, \"113\": 1, \"118\": 1, \"7\": 1, \"24\": 1, \"18\": 1}, \"6\": {\"6\": 32}, \"58\": {\"58\": 19, \"42\": 1}, \"22\": {\"22\": 20}, \"24\": {\"24\": 100, \"118\": 1, \"27\": 2, \"70\": 1, \"69\": 2, \"110\": 1, \"98\": 1, \"129\": 1, \"11\": 1, \"87\": 1, \"36\": 1}, \"57\": {\"57\": 20}, \"112\": {\"112\": 14, \"45\": 1, \"49\": 1}, \"116\": {\"116\": 26, \"24\": 1, \"78\": 1}, \"18\": {\"18\": 120, \"1\": 1, \"71\": 2, \"4\": 1, \"36\": 1, \"24\": 2, \"84\": 1}, \"49\": {\"49\": 21, \"51\": 1, \"68\": 1, \"5\": 1}, \"45\": {\"45\": 16}, \"107\": {\"107\": 52, \"30\": 1, \"0\": 1, \"94\": 1, \"4\": 2, \"12\": 1, \"61\": 1, \"24\": 1, \"15\": 1, \"28\": 1, \"36\": 1, \"109\": 1}, \"35\": {\"35\": 12}, \"78\": {\"78\": 42, \"10\": 1, \"70\": 2, \"94\": 1, \"36\": 1, \"21\": 1}, \"126\": {\"126\": 120}, \"85\": {\"85\": 32}, \"72\": {\"72\": 27, \"26\": 1}, \"26\": {\"26\": 121, \"7\": 1, \"12\": 1, \"114\": 1}, \"84\": {\"84\": 89, \"118\": 1, \"87\": 1, \"5\": 1}, \"128\": {\"128\": 23, \"101\": 1}, \"31\": {\"31\": 20}, \"71\": {\"71\": 98, \"114\": 1, \"11\": 1}}, \"Wisig_1\": {\"22\": {\"22\": 16}, \"58\": {\"58\": 12}, \"109\": {\"109\": 124}, \"77\": {\"77\": 16}, \"74\": {\"74\": 16}, \"10\": {\"10\": 119, \"62\": 1}, \"70\": {\"70\": 127, \"27\": 1}, \"84\": {\"84\": 108}, \"52\": {\"52\": 20}, \"20\": {\"20\": 15, \"3\": 1}, \"14\": {\"14\": 95, \"27\": 1}, \"37\": {\"37\": 16}, \"42\": {\"42\": 28}, \"99\": {\"99\": 24}, \"35\": {\"35\": 12}, \"62\": {\"62\": 119, \"88\": 1}, \"61\": {\"61\": 12}, \"7\": {\"7\": 141, \"70\": 1}, \"69\": {\"69\": 102, \"12\": 1, \"36\": 1}, \"55\": {\"55\": 12}, \"41\": {\"41\": 16}, \"120\": {\"120\": 20}, \"123\": {\"123\": 16}, \"97\": {\"97\": 16, \"78\": 1, \"91\": 1, \"59\": 1, \"49\": 1}, \"102\": {\"102\": 117, \"69\": 1, \"71\": 1, \"62\": 1}, \"60\": {\"123\": 1, \"120\": 1, \"60\": 12, \"21\": 1, \"30\": 1}, \"127\": {\"127\": 104, \"4\": 1, \"88\": 1, \"11\": 1, \"43\": 1}, \"32\": {\"32\": 32}, \"3\": {\"3\": 82, \"85\": 2, \"10\": 2, \"0\": 1, \"126\": 1}, \"8\": {\"8\": 122}, \"129\": {\"129\": 27, \"2\": 1}, \"119\": {\"119\": 16}, \"21\": {\"21\": 38, \"74\": 1, \"83\": 1}, \"53\": {\"53\": 20}, \"28\": {\"28\": 20}, \"117\": {\"117\": 144}, \"112\": {\"112\": 16}, \"126\": {\"126\": 131, \"109\": 1, \"7\": 1, \"84\": 1}, \"30\": {\"30\": 52}, \"105\": {\"105\": 81, \"27\": 1, \"5\": 1, \"129\": 1}, \"29\": {\"29\": 28}, \"57\": {\"57\": 12}, \"93\": {\"93\": 139, \"69\": 1}, \"17\": {\"17\": 15, \"78\": 1}, \"44\": {\"44\": 76}, \"63\": {\"63\": 16}, \"87\": {\"87\": 107, \"12\": 1}, \"0\": {\"0\": 83, \"62\": 1}, \"96\": {\"96\": 17, \"91\": 1, \"126\": 1, \"18\": 1}, \"98\": {\"98\": 108}, \"75\": {\"75\": 16}, \"78\": {\"78\": 13, \"87\": 1, \"21\": 1, \"110\": 1}, \"116\": {\"116\": 31, \"94\": 1}, \"114\": {\"114\": 126, \"12\": 1, \"70\": 1}, \"103\": {\"103\": 16}, \"50\": {\"50\": 16}, \"124\": {\"124\": 128}, \"5\": {\"5\": 86, \"27\": 1, \"7\": 1}, \"73\": {\"73\": 19, \"49\": 1}, \"81\": {\"81\": 28}, \"49\": {\"49\": 20}, \"16\": {\"16\": 105, \"5\": 1, \"88\": 1, \"84\": 1}, \"101\": {\"101\": 124}, \"125\": {\"125\": 117, \"106\": 1}, \"65\": {\"28\": 1, \"65\": 9, \"74\": 1, \"7\": 1}, \"66\": {\"66\": 16}, \"79\": {\"79\": 12}, \"39\": {\"39\": 102, \"53\": 1, \"108\": 1}, \"104\": {\"104\": 16}, \"91\": {\"91\": 27, \"60\": 1}, \"25\": {\"25\": 16}, \"64\": {\"64\": 16}, \"34\": {\"60\": 1, \"34\": 30, \"70\": 1}, \"82\": {\"82\": 36}, \"18\": {\"18\": 123, \"3\": 1}, \"43\": {\"43\": 126, \"69\": 1, \"70\": 1}, \"47\": {\"47\": 12}, \"108\": {\"108\": 122, \"50\": 1, \"69\": 1}, \"111\": {\"111\": 107, \"93\": 1}, \"23\": {\"23\": 23, \"32\": 1}, \"90\": {\"90\": 157, \"26\": 2, \"3\": 1}, \"4\": {\"4\": 99, \"5\": 1}, \"92\": {\"92\": 28}, \"2\": {\"2\": 30, \"82\": 1, \"62\": 1}, \"45\": {\"45\": 8, \"42\": 2, \"70\": 1, \"21\": 1}, \"68\": {\"68\": 16}, \"26\": {\"26\": 128}, \"38\": {\"38\": 16}, \"40\": {\"40\": 141, \"105\": 1}, \"80\": {\"80\": 15, \"58\": 1}, \"107\": {\"107\": 118, \"98\": 1, \"71\": 1, \"94\": 1, \"12\": 1}, \"94\": {\"94\": 92}, \"115\": {\"115\": 12}, \"46\": {\"46\": 8, \"30\": 1, \"12\": 2, \"7\": 1}, \"72\": {\"72\": 32}, \"19\": {\"19\": 27, \"83\": 1}, \"100\": {\"100\": 14, \"73\": 1, \"24\": 1}, \"76\": {\"76\": 15, \"88\": 1}, \"106\": {\"106\": 132}, \"88\": {\"88\": 128, \"27\": 1, \"84\": 1}, \"15\": {\"15\": 102, \"111\": 1, \"70\": 1}, \"54\": {\"54\": 14, \"2\": 1, \"21\": 1}, \"13\": {\"13\": 16}, \"51\": {\"51\": 16}, \"24\": {\"24\": 91, \"114\": 1}, \"48\": {\"48\": 12}, \"85\": {\"85\": 32}, \"33\": {\"33\": 140}, \"71\": {\"71\": 104, \"18\": 1, \"39\": 1, \"5\": 1, \"126\": 1}, \"6\": {\"6\": 32}, \"83\": {\"83\": 26, \"127\": 1, \"118\": 1}, \"121\": {\"121\": 32}, \"31\": {\"31\": 15, \"48\": 1}, \"67\": {\"65\": 1, \"67\": 14, \"80\": 1}, \"1\": {\"1\": 135, \"18\": 1}, \"27\": {\"27\": 90, \"107\": 1, \"15\": 1}, \"118\": {\"118\": 82, \"84\": 1, \"103\": 1}, \"56\": {\"56\": 12}, \"36\": {\"36\": 127, \"69\": 1}, \"11\": {\"11\": 125, \"88\": 1}, \"110\": {\"110\": 120, \"26\": 1, \"18\": 1}, \"89\": {\"89\": 36}, \"113\": {\"113\": 112, \"88\": 2, \"10\": 1, \"39\": 1, \"69\": 1, \"110\": 1}, \"59\": {\"59\": 12}, \"9\": {\"9\": 31, \"129\": 1}, \"86\": {\"86\": 34, \"94\": 1, \"10\": 1}, \"12\": {\"12\": 100, \"62\": 1, \"69\": 1, \"15\": 1, \"43\": 1}, \"122\": {\"122\": 85, \"3\": 1, \"70\": 1, \"62\": 1}, \"128\": {\"128\": 24}, \"95\": {\"95\": 35, \"62\": 1}}, \"ORACLE.run114\": {\"15\": {\"9\": 15, \"7\": 31, \"1\": 18, \"8\": 9, \"4\": 19, \"14\": 14, \"2\": 12, \"6\": 18, \"13\": 12, \"0\": 13, \"15\": 23, \"5\": 22, \"11\": 8, \"12\": 5, \"3\": 11, \"10\": 10}, \"5\": {\"14\": 23, \"10\": 15, \"13\": 11, \"7\": 23, \"1\": 13, \"5\": 19, \"9\": 8, \"11\": 16, \"2\": 18, \"4\": 16, \"3\": 15, \"8\": 10, \"15\": 18, \"6\": 11, \"12\": 7, \"0\": 17}, \"7\": {\"2\": 18, \"10\": 15, \"14\": 14, \"7\": 23, \"4\": 19, \"11\": 11, \"5\": 18, \"15\": 31, \"8\": 13, \"1\": 19, \"13\": 10, \"0\": 14, \"6\": 16, \"3\": 9, \"12\": 3, \"9\": 7}, \"4\": {\"11\": 17, \"8\": 17, \"3\": 21, \"13\": 16, \"4\": 13, \"1\": 19, \"10\": 19, \"0\": 16, \"15\": 21, \"14\": 12, \"2\": 9, \"7\": 15, \"9\": 13, \"6\": 10, \"5\": 15, \"12\": 7}, \"10\": {\"3\": 20, \"13\": 16, \"4\": 13, \"1\": 13, \"10\": 20, \"11\": 24, \"14\": 18, \"2\": 18, \"9\": 15, \"5\": 15, \"7\": 11, \"6\": 12, \"0\": 14, \"8\": 10, \"15\": 11, \"12\": 10}, \"11\": {\"12\": 11, \"11\": 31, \"14\": 27, \"3\": 12, \"5\": 12, \"7\": 10, \"8\": 14, \"15\": 11, \"0\": 21, \"10\": 8, \"6\": 13, \"2\": 13, \"4\": 15, \"1\": 12, \"9\": 18, \"13\": 12}, \"12\": {\"3\": 13, \"9\": 26, \"15\": 3, \"8\": 27, \"12\": 31, \"2\": 6, \"11\": 18, \"0\": 20, \"1\": 22, \"5\": 12, \"13\": 6, \"7\": 14, \"10\": 17, \"14\": 8, \"4\": 15, \"6\": 2}, \"0\": {\"2\": 18, \"1\": 12, \"12\": 14, \"6\": 16, \"14\": 18, \"7\": 7, \"9\": 14, \"8\": 13, \"15\": 6, \"11\": 16, \"13\": 18, \"0\": 13, \"10\": 23, \"4\": 19, \"5\": 19, \"3\": 14}, \"14\": {\"6\": 21, \"5\": 11, \"1\": 12, \"2\": 18, \"0\": 11, \"13\": 25, \"4\": 12, \"10\": 22, \"11\": 18, \"15\": 9, \"3\": 16, \"7\": 14, \"14\": 23, \"12\": 9, \"9\": 8, \"8\": 11}, \"8\": {\"2\": 9, \"8\": 28, \"4\": 16, \"15\": 15, \"5\": 17, \"12\": 20, \"1\": 26, \"7\": 20, \"9\": 19, \"0\": 19, \"11\": 9, \"3\": 18, \"6\": 5, \"10\": 8, \"13\": 8, \"14\": 3}, \"13\": {\"0\": 16, \"7\": 19, \"6\": 16, \"4\": 15, \"9\": 13, \"5\": 16, \"13\": 20, \"3\": 12, \"12\": 5, \"15\": 19, \"14\": 15, \"2\": 18, \"8\": 9, \"10\": 22, \"11\": 11, \"1\": 14}, \"6\": {\"15\": 17, \"10\": 22, \"14\": 23, \"1\": 14, \"7\": 13, \"0\": 11, \"13\": 34, \"3\": 11, \"12\": 8, \"6\": 26, \"4\": 17, \"2\": 20, \"11\": 10, \"8\": 8, \"5\": 3, \"9\": 3}, \"1\": {\"5\": 21, \"10\": 20, \"0\": 18, \"4\": 17, \"8\": 19, \"13\": 14, \"7\": 21, \"14\": 17, \"1\": 16, \"15\": 16, \"9\": 14, \"3\": 17, \"2\": 6, \"11\": 9, \"12\": 5, \"6\": 10}, \"3\": {\"12\": 9, \"3\": 20, \"9\": 11, \"2\": 25, \"15\": 18, \"13\": 11, \"10\": 16, \"0\": 19, \"5\": 14, \"8\": 17, \"4\": 8, \"1\": 19, \"6\": 16, \"7\": 15, \"11\": 11, \"14\": 11}, \"9\": {\"12\": 23, \"11\": 34, \"1\": 21, \"5\": 15, \"0\": 19, \"9\": 19, \"2\": 12, \"10\": 22, \"3\": 14, \"6\": 8, \"14\": 10, \"8\": 20, \"4\": 8, \"7\": 6, \"15\": 6, \"13\": 3}, \"2\": {\"10\": 19, \"0\": 11, \"6\": 17, \"15\": 18, \"4\": 16, \"3\": 19, \"14\": 19, \"2\": 20, \"5\": 15, \"11\": 9, \"13\": 19, \"7\": 14, \"9\": 15, \"1\": 13, \"8\": 9, \"12\": 7}}, \"ORACLE.run120\": {\"4\": {\"14\": 16, \"2\": 20, \"4\": 19, \"8\": 12, \"1\": 9, \"9\": 16, \"0\": 16, \"12\": 13, \"6\": 24, \"5\": 10, \"15\": 16, \"11\": 15, \"10\": 22, \"13\": 9, \"7\": 11, \"3\": 12}, \"10\": {\"13\": 10, \"5\": 17, \"9\": 18, \"12\": 17, \"7\": 13, \"2\": 14, \"10\": 20, \"14\": 16, \"6\": 18, \"3\": 12, \"11\": 8, \"15\": 14, \"0\": 9, \"1\": 17, \"4\": 16, \"8\": 21}, \"15\": {\"10\": 9, \"5\": 15, \"9\": 19, \"15\": 20, \"11\": 17, \"13\": 24, \"14\": 14, \"4\": 18, \"3\": 13, \"1\": 21, \"12\": 13, \"7\": 14, \"6\": 10, \"0\": 11, \"8\": 12, \"2\": 10}, \"0\": {\"2\": 14, \"13\": 21, \"8\": 12, \"6\": 16, \"5\": 16, \"0\": 20, \"1\": 15, \"3\": 9, \"12\": 20, \"15\": 14, \"9\": 16, \"7\": 13, \"11\": 15, \"4\": 19, \"10\": 10, \"14\": 10}, \"6\": {\"10\": 15, \"8\": 12, \"0\": 4, \"2\": 10, \"1\": 16, \"6\": 16, \"9\": 14, \"3\": 12, \"13\": 17, \"15\": 17, \"11\": 21, \"14\": 20, \"4\": 17, \"7\": 22, \"12\": 14, \"5\": 13}, \"3\": {\"7\": 12, \"13\": 12, \"15\": 17, \"8\": 12, \"10\": 13, \"14\": 13, \"6\": 15, \"3\": 20, \"11\": 10, \"12\": 18, \"2\": 16, \"4\": 18, \"1\": 21, \"0\": 16, \"9\": 15, \"5\": 12}, \"7\": {\"8\": 19, \"12\": 23, \"4\": 18, \"1\": 18, \"9\": 18, \"13\": 18, \"7\": 12, \"10\": 11, \"11\": 12, \"15\": 14, \"3\": 15, \"6\": 14, \"0\": 12, \"14\": 16, \"5\": 10, \"2\": 10}, \"2\": {\"13\": 24, \"0\": 16, \"2\": 12, \"7\": 11, \"5\": 20, \"9\": 21, \"15\": 15, \"12\": 16, \"6\": 12, \"8\": 16, \"4\": 11, \"3\": 15, \"1\": 15, \"11\": 8, \"14\": 15, \"10\": 13}, \"8\": {\"5\": 15, \"2\": 21, \"14\": 13, \"13\": 11, \"3\": 16, \"8\": 15, \"1\": 14, \"4\": 23, \"0\": 15, \"11\": 14, \"10\": 25, \"12\": 12, \"7\": 14, \"9\": 15, \"6\": 10, \"15\": 7}, \"11\": {\"15\": 16, \"3\": 8, \"13\": 17, \"11\": 15, \"0\": 21, \"9\": 23, \"6\": 15, \"5\": 22, \"7\": 15, \"4\": 6, \"14\": 12, \"8\": 12, \"1\": 16, \"2\": 18, \"10\": 14, \"12\": 10}, \"14\": {\"2\": 14, \"14\": 18, \"7\": 15, \"10\": 15, \"6\": 18, \"8\": 12, \"0\": 10, \"1\": 17, \"4\": 17, \"12\": 17, \"15\": 12, \"3\": 16, \"5\": 17, \"9\": 18, \"13\": 12, \"11\": 12}, \"12\": {\"8\": 16, \"13\": 14, \"12\": 21, \"14\": 22, \"15\": 11, \"3\": 14, \"0\": 21, \"10\": 18, \"9\": 16, \"1\": 10, \"4\": 12, \"11\": 15, \"7\": 13, \"2\": 13, \"5\": 13, \"6\": 11}, \"13\": {\"1\": 16, \"0\": 24, \"5\": 19, \"4\": 13, \"13\": 19, \"8\": 9, \"12\": 20, \"6\": 8, \"15\": 15, \"9\": 20, \"3\": 13, \"10\": 12, \"11\": 13, \"2\": 15, \"7\": 14, \"14\": 10}, \"9\": {\"12\": 17, \"10\": 19, \"0\": 18, \"14\": 13, \"5\": 12, \"2\": 20, \"1\": 13, \"8\": 18, \"11\": 13, \"7\": 15, \"3\": 14, \"9\": 14, \"15\": 10, \"13\": 14, \"6\": 26, \"4\": 4}, \"5\": {\"15\": 18, \"1\": 14, \"2\": 20, \"0\": 14, \"13\": 10, \"8\": 11, \"11\": 12, \"7\": 9, \"4\": 19, \"5\": 21, \"14\": 14, \"3\": 17, \"6\": 14, \"12\": 20, \"9\": 18, \"10\": 9}, \"1\": {\"2\": 14, \"12\": 15, \"4\": 13, \"15\": 15, \"6\": 11, \"7\": 17, \"3\": 20, \"14\": 16, \"9\": 16, \"5\": 21, \"11\": 15, \"8\": 11, \"0\": 17, \"13\": 15, \"1\": 13, \"10\": 11}}, \"ORACLE.run150\": {\"5\": {\"13\": 25, \"8\": 11, \"2\": 9, \"5\": 21, \"9\": 22, \"7\": 19, \"3\": 14, \"12\": 2, \"4\": 18, \"6\": 18, \"1\": 20, \"15\": 14, \"14\": 11, \"10\": 15, \"11\": 11, \"0\": 10}, \"12\": {\"13\": 8, \"14\": 32, \"15\": 12, \"12\": 29, \"11\": 22, \"1\": 11, \"10\": 8, \"6\": 14, \"2\": 17, \"9\": 36, \"4\": 18, \"7\": 5, \"8\": 5, \"3\": 2, \"0\": 16, \"5\": 5}, \"14\": {\"2\": 22, \"14\": 25, \"10\": 10, \"9\": 23, \"3\": 6, \"8\": 8, \"1\": 21, \"13\": 14, \"7\": 6, \"6\": 15, \"5\": 17, \"0\": 15, \"11\": 13, \"12\": 24, \"15\": 12, \"4\": 9}, \"4\": {\"4\": 23, \"13\": 23, \"11\": 16, \"5\": 25, \"9\": 16, \"15\": 17, \"7\": 17, \"6\": 20, \"10\": 9, \"12\": 12, \"1\": 18, \"14\": 12, \"8\": 10, \"3\": 5, \"0\": 8, \"2\": 9}, \"13\": {\"7\": 21, \"14\": 13, \"11\": 17, \"1\": 16, \"5\": 20, \"9\": 12, \"4\": 16, \"13\": 20, \"2\": 10, \"12\": 8, \"6\": 17, \"3\": 18, \"0\": 15, \"15\": 18, \"10\": 10, \"8\": 9}, \"10\": {\"9\": 12, \"7\": 24, \"10\": 13, \"12\": 15, \"2\": 11, \"0\": 19, \"11\": 9, \"8\": 27, \"1\": 15, \"6\": 18, \"3\": 13, \"5\": 17, \"13\": 12, \"4\": 13, \"15\": 12, \"14\": 10}, \"9\": {\"2\": 13, \"13\": 12, \"12\": 26, \"0\": 14, \"9\": 31, \"6\": 9, \"11\": 32, \"4\": 21, \"14\": 17, \"1\": 15, \"15\": 16, \"3\": 3, \"7\": 10, \"5\": 15, \"10\": 3, \"8\": 3}, \"15\": {\"7\": 23, \"6\": 24, \"15\": 23, \"9\": 13, \"4\": 25, \"12\": 4, \"5\": 15, \"3\": 7, \"11\": 27, \"10\": 5, \"13\": 11, \"8\": 8, \"1\": 22, \"2\": 13, \"14\": 15, \"0\": 5}, \"6\": {\"12\": 15, \"2\": 18, \"8\": 17, \"11\": 15, \"5\": 19, \"9\": 21, \"3\": 13, \"7\": 16, \"14\": 10, \"4\": 16, \"15\": 21, \"6\": 10, \"1\": 19, \"13\": 9, \"0\": 10, \"10\": 11}, \"2\": {\"2\": 24, \"15\": 7, \"9\": 15, \"4\": 10, \"13\": 11, \"11\": 12, \"1\": 18, \"3\": 12, \"7\": 8, \"14\": 19, \"10\": 19, \"5\": 20, \"8\": 13, \"0\": 26, \"12\": 17, \"6\": 9}, \"0\": {\"3\": 15, \"13\": 23, \"8\": 22, \"10\": 20, \"14\": 17, \"12\": 12, \"6\": 16, \"7\": 18, \"15\": 4, \"0\": 21, \"1\": 14, \"9\": 7, \"2\": 25, \"5\": 8, \"4\": 8, \"11\": 10}, \"11\": {\"14\": 15, \"0\": 10, \"6\": 21, \"12\": 16, \"4\": 22, \"13\": 15, \"3\": 7, \"9\": 29, \"5\": 13, \"7\": 15, \"11\": 28, \"2\": 7, \"1\": 15, \"15\": 17, \"10\": 6, \"8\": 4}, \"3\": {\"3\": 35, \"6\": 9, \"2\": 9, \"8\": 35, \"0\": 16, \"7\": 19, \"10\": 22, \"13\": 23, \"5\": 19, \"1\": 9, \"4\": 12, \"14\": 8, \"11\": 8, \"15\": 11, \"9\": 3, \"12\": 2}, \"8\": {\"10\": 28, \"4\": 5, \"8\": 33, \"2\": 17, \"13\": 11, \"3\": 29, \"5\": 11, \"9\": 7, \"7\": 21, \"12\": 5, \"0\": 22, \"11\": 7, \"6\": 10, \"1\": 14, \"14\": 13, \"15\": 7}, \"7\": {\"15\": 12, \"0\": 18, \"2\": 7, \"5\": 22, \"11\": 10, \"7\": 18, \"1\": 21, \"6\": 16, \"3\": 25, \"10\": 18, \"8\": 15, \"13\": 23, \"4\": 12, \"14\": 13, \"9\": 7, \"12\": 3}, \"1\": {\"8\": 13, \"12\": 15, \"4\": 19, \"13\": 13, \"15\": 16, \"5\": 11, \"6\": 18, \"11\": 19, \"7\": 16, \"14\": 19, \"1\": 15, \"3\": 7, \"10\": 20, \"9\": 13, \"0\": 14, \"2\": 12}}, \"ORACLE.run126\": {\"7\": {\"2\": 19, \"3\": 19, \"12\": 11, \"5\": 9, \"7\": 19, \"11\": 9, \"8\": 14, \"13\": 18, \"4\": 10, \"1\": 21, \"0\": 22, \"14\": 9, \"9\": 13, \"15\": 15, \"6\": 13, \"10\": 19}, \"6\": {\"6\": 19, \"9\": 14, \"14\": 17, \"1\": 13, \"3\": 17, \"8\": 15, \"0\": 8, \"13\": 14, \"11\": 13, \"2\": 19, \"7\": 16, \"4\": 20, \"15\": 12, \"10\": 14, \"12\": 18, \"5\": 11}, \"14\": {\"3\": 11, \"2\": 15, \"9\": 9, \"6\": 14, \"12\": 15, \"14\": 19, \"7\": 19, \"11\": 11, \"1\": 20, \"8\": 16, \"13\": 8, \"4\": 19, \"15\": 15, \"0\": 17, \"5\": 11, \"10\": 21}, \"15\": {\"8\": 10, \"0\": 15, \"12\": 15, \"2\": 13, \"14\": 12, \"11\": 11, \"15\": 20, \"3\": 17, \"7\": 14, \"6\": 17, \"5\": 23, \"4\": 14, \"10\": 19, \"13\": 15, \"9\": 10, \"1\": 15}, \"5\": {\"9\": 14, \"13\": 18, \"6\": 16, \"8\": 19, \"14\": 13, \"5\": 25, \"12\": 18, \"10\": 18, \"2\": 7, \"1\": 16, \"11\": 8, \"4\": 13, \"15\": 17, \"0\": 9, \"3\": 21, \"7\": 8}, \"10\": {\"14\": 16, \"10\": 21, \"5\": 15, \"4\": 20, \"8\": 16, \"1\": 20, \"6\": 16, \"9\": 9, \"0\": 16, \"11\": 17, \"2\": 14, \"15\": 9, \"12\": 14, \"13\": 5, \"7\": 14, \"3\": 18}, \"4\": {\"2\": 18, \"1\": 17, \"14\": 19, \"8\": 25, \"0\": 15, \"10\": 14, \"7\": 19, \"15\": 17, \"5\": 9, \"11\": 12, \"4\": 19, \"6\": 13, \"12\": 10, \"9\": 12, \"13\": 10, \"3\": 11}, \"11\": {\"5\": 10, \"9\": 12, \"12\": 21, \"3\": 11, \"13\": 22, \"11\": 41, \"15\": 15, \"7\": 11, \"0\": 12, \"10\": 11, \"6\": 17, \"2\": 13, \"8\": 9, \"14\": 9, \"1\": 11, \"4\": 15}, \"13\": {\"2\": 18, \"5\": 22, \"9\": 20, \"10\": 22, \"0\": 9, \"1\": 14, \"12\": 10, \"11\": 16, \"3\": 13, \"7\": 14, \"13\": 27, \"6\": 11, \"14\": 8, \"8\": 9, \"4\": 12, \"15\": 15}, \"2\": {\"9\": 16, \"2\": 19, \"4\": 24, \"14\": 16, \"10\": 17, \"8\": 9, \"3\": 13, \"13\": 20, \"5\": 17, \"0\": 15, \"11\": 10, \"7\": 15, \"1\": 12, \"15\": 15, \"12\": 11, \"6\": 11}, \"0\": {\"10\": 16, \"11\": 5, \"3\": 10, \"1\": 19, \"13\": 15, \"7\": 11, \"14\": 15, \"8\": 23, \"2\": 23, \"5\": 11, \"6\": 19, \"15\": 11, \"9\": 15, \"0\": 9, \"4\": 23, \"12\": 15}, \"12\": {\"9\": 11, \"11\": 13, \"5\": 15, \"15\": 16, \"12\": 24, \"8\": 14, \"14\": 12, \"13\": 14, \"3\": 20, \"10\": 20, \"7\": 10, \"1\": 11, \"0\": 10, \"2\": 12, \"6\": 21, \"4\": 17}, \"3\": {\"9\": 14, \"8\": 24, \"3\": 17, \"1\": 19, \"10\": 19, \"15\": 16, \"13\": 11, \"4\": 14, \"12\": 12, \"5\": 14, \"7\": 17, \"6\": 8, \"11\": 8, \"14\": 16, \"2\": 16, \"0\": 15}, \"9\": {\"5\": 20, \"10\": 12, \"14\": 17, \"9\": 21, \"0\": 20, \"11\": 12, \"3\": 14, \"8\": 14, \"6\": 7, \"7\": 12, \"15\": 17, \"2\": 17, \"1\": 10, \"12\": 15, \"4\": 18, \"13\": 14}, \"8\": {\"10\": 20, \"1\": 10, \"6\": 15, \"3\": 15, \"8\": 17, \"2\": 13, \"0\": 19, \"11\": 9, \"14\": 15, \"13\": 17, \"5\": 19, \"4\": 12, \"15\": 17, \"9\": 15, \"12\": 12, \"7\": 15}, \"1\": {\"10\": 16, \"5\": 11, \"2\": 23, \"3\": 14, \"6\": 20, \"0\": 14, \"9\": 18, \"15\": 14, \"7\": 19, \"4\": 20, \"14\": 13, \"1\": 19, \"12\": 9, \"13\": 11, \"8\": 14, \"11\": 5}}, \"ORACLE.run132\": {\"7\": {\"7\": 22, \"4\": 14, \"14\": 26, \"8\": 12, \"11\": 30, \"5\": 23, \"12\": 11, \"0\": 23, \"2\": 24, \"9\": 14, \"13\": 19, \"15\": 6, \"3\": 9, \"6\": 4, \"10\": 3}, \"2\": {\"7\": 23, \"5\": 27, \"1\": 5, \"11\": 28, \"6\": 7, \"8\": 19, \"0\": 23, \"4\": 12, \"2\": 27, \"9\": 16, \"13\": 10, \"14\": 21, \"3\": 8, \"15\": 4, \"12\": 8, \"10\": 2}, \"5\": {\"12\": 14, \"2\": 18, \"4\": 23, \"9\": 14, \"6\": 8, \"15\": 7, \"14\": 25, \"7\": 13, \"1\": 1, \"3\": 17, \"0\": 21, \"8\": 16, \"13\": 20, \"5\": 23, \"11\": 16, \"10\": 4}, \"6\": {\"9\": 27, \"6\": 50, \"5\": 7, \"10\": 23, \"2\": 10, \"12\": 40, \"7\": 6, \"1\": 33, \"4\": 11, \"15\": 6, \"0\": 4, \"11\": 6, \"13\": 7, \"14\": 6, \"8\": 4}, \"13\": {\"3\": 22, \"8\": 24, \"4\": 24, \"14\": 19, \"11\": 20, \"10\": 5, \"15\": 13, \"5\": 16, \"2\": 16, \"9\": 7, \"13\": 18, \"0\": 23, \"7\": 20, \"12\": 7, \"6\": 6}, \"4\": {\"2\": 18, \"13\": 20, \"4\": 21, \"8\": 15, \"6\": 5, \"7\": 20, \"15\": 9, \"0\": 17, \"12\": 7, \"9\": 18, \"3\": 21, \"14\": 26, \"5\": 20, \"11\": 18, \"10\": 5}, \"3\": {\"13\": 27, \"2\": 16, \"9\": 3, \"14\": 26, \"15\": 32, \"4\": 13, \"11\": 28, \"5\": 16, \"7\": 18, \"3\": 19, \"8\": 21, \"0\": 15, \"6\": 1, \"12\": 4, \"10\": 1}, \"0\": {\"5\": 12, \"13\": 17, \"4\": 23, \"9\": 12, \"11\": 20, \"7\": 23, \"0\": 24, \"14\": 16, \"2\": 17, \"3\": 16, \"15\": 19, \"8\": 24, \"12\": 7, \"6\": 8, \"1\": 1, \"10\": 1}, \"9\": {\"9\": 19, \"11\": 13, \"12\": 26, \"8\": 9, \"2\": 22, \"7\": 13, \"14\": 16, \"4\": 19, \"6\": 35, \"0\": 18, \"1\": 10, \"10\": 17, \"13\": 5, \"3\": 2, \"5\": 9, \"15\": 7}, \"12\": {\"6\": 34, \"13\": 10, \"10\": 31, \"0\": 13, \"9\": 31, \"7\": 9, \"2\": 7, \"12\": 44, \"15\": 4, \"5\": 9, \"4\": 6, \"11\": 7, \"1\": 20, \"14\": 6, \"3\": 7, \"8\": 2}, \"8\": {\"2\": 14, \"8\": 23, \"3\": 20, \"0\": 22, \"13\": 13, \"9\": 9, \"5\": 15, \"4\": 15, \"7\": 27, \"15\": 29, \"11\": 23, \"14\": 14, \"12\": 7, \"1\": 2, \"10\": 5, \"6\": 2}, \"14\": {\"5\": 21, \"3\": 17, \"11\": 25, \"13\": 18, \"4\": 24, \"0\": 18, \"9\": 11, \"8\": 19, \"14\": 35, \"1\": 1, \"7\": 20, \"2\": 15, \"15\": 5, \"6\": 5, \"12\": 5, \"10\": 1}, \"15\": {\"14\": 11, \"11\": 14, \"2\": 6, \"15\": 75, \"4\": 9, \"5\": 15, \"12\": 7, \"8\": 22, \"7\": 10, \"3\": 29, \"13\": 18, \"0\": 16, \"10\": 3, \"9\": 3, \"6\": 1, \"1\": 1}, \"11\": {\"10\": 2, \"13\": 19, \"8\": 21, \"7\": 26, \"6\": 1, \"4\": 16, \"0\": 26, \"9\": 6, \"3\": 21, \"11\": 30, \"14\": 24, \"5\": 21, \"15\": 13, \"2\": 12, \"12\": 2}, \"10\": {\"12\": 44, \"5\": 3, \"1\": 45, \"7\": 3, \"9\": 24, \"10\": 49, \"13\": 5, \"0\": 8, \"6\": 32, \"14\": 5, \"4\": 7, \"2\": 4, \"15\": 6, \"8\": 2, \"11\": 1, \"3\": 2}, \"1\": {\"6\": 43, \"10\": 51, \"12\": 31, \"5\": 2, \"9\": 29, \"1\": 66, \"11\": 1, \"2\": 3, \"15\": 3, \"3\": 1, \"4\": 4, \"14\": 1, \"13\": 1, \"8\": 3, \"0\": 1}}, \"ORACLE.run144\": {\"11\": {\"11\": 37, \"5\": 9, \"10\": 20, \"13\": 26, \"14\": 8, \"6\": 41, \"3\": 7, \"9\": 14, \"7\": 27, \"4\": 7, \"2\": 17, \"1\": 4, \"12\": 18, \"8\": 2, \"15\": 2, \"0\": 1}, \"7\": {\"1\": 15, \"12\": 22, \"2\": 17, \"0\": 4, \"14\": 12, \"7\": 24, \"9\": 22, \"13\": 27, \"15\": 6, \"6\": 19, \"11\": 13, \"4\": 16, \"10\": 22, \"3\": 13, \"8\": 4, \"5\": 4}, \"6\": {\"11\": 31, \"13\": 36, \"7\": 22, \"10\": 13, \"2\": 19, \"1\": 13, \"6\": 31, \"9\": 20, \"12\": 17, \"5\": 4, \"3\": 10, \"14\": 9, \"4\": 7, \"0\": 6, \"15\": 2}, \"12\": {\"3\": 27, \"15\": 6, \"9\": 13, \"7\": 20, \"2\": 20, \"10\": 25, \"14\": 12, \"1\": 26, \"6\": 18, \"4\": 11, \"13\": 20, \"5\": 8, \"12\": 19, \"0\": 6, \"11\": 7, \"8\": 2}, \"4\": {\"7\": 10, \"3\": 15, \"14\": 22, \"4\": 34, \"15\": 17, \"0\": 25, \"6\": 8, \"10\": 9, \"12\": 8, \"2\": 10, \"1\": 14, \"5\": 18, \"9\": 12, \"13\": 17, \"11\": 9, \"8\": 12}, \"13\": {\"9\": 17, \"4\": 14, \"6\": 22, \"1\": 16, \"0\": 6, \"13\": 29, \"2\": 19, \"10\": 21, \"11\": 27, \"14\": 8, \"8\": 6, \"7\": 17, \"3\": 10, \"12\": 20, \"5\": 4, \"15\": 4}, \"8\": {\"0\": 37, \"5\": 36, \"15\": 44, \"8\": 35, \"14\": 20, \"7\": 7, \"4\": 25, \"1\": 7, \"3\": 11, \"10\": 4, \"12\": 4, \"13\": 3, \"9\": 3, \"2\": 2, \"11\": 2}, \"5\": {\"15\": 27, \"0\": 38, \"11\": 7, \"12\": 7, \"8\": 24, \"5\": 35, \"4\": 18, \"14\": 29, \"2\": 6, \"13\": 8, \"6\": 7, \"1\": 7, \"9\": 10, \"7\": 5, \"10\": 6, \"3\": 6}, \"14\": {\"12\": 12, \"15\": 18, \"11\": 4, \"3\": 18, \"4\": 34, \"14\": 21, \"1\": 9, \"6\": 6, \"8\": 23, \"7\": 11, \"10\": 11, \"13\": 7, \"0\": 24, \"5\": 19, \"9\": 19, \"2\": 4}, \"3\": {\"3\": 42, \"6\": 5, \"11\": 9, \"12\": 19, \"9\": 15, \"0\": 13, \"14\": 22, \"2\": 17, \"8\": 7, \"15\": 7, \"4\": 17, \"1\": 18, \"10\": 21, \"7\": 11, \"13\": 13, \"5\": 4}, \"10\": {\"4\": 10, \"9\": 26, \"10\": 30, \"13\": 20, \"15\": 5, \"3\": 17, \"14\": 9, \"12\": 17, \"2\": 20, \"11\": 16, \"6\": 13, \"7\": 25, \"1\": 23, \"5\": 5, \"0\": 3, \"8\": 1}, \"1\": {\"6\": 17, \"10\": 16, \"11\": 11, \"15\": 6, \"7\": 27, \"13\": 16, \"2\": 21, \"1\": 24, \"14\": 18, \"4\": 9, \"5\": 8, \"12\": 24, \"9\": 14, \"3\": 23, \"8\": 3, \"0\": 3}, \"2\": {\"14\": 13, \"10\": 26, \"7\": 20, \"6\": 21, \"12\": 21, \"13\": 27, \"5\": 9, \"11\": 12, \"1\": 26, \"15\": 3, \"9\": 19, \"4\": 8, \"8\": 2, \"3\": 15, \"2\": 14, \"0\": 4}, \"15\": {\"12\": 7, \"15\": 35, \"0\": 38, \"7\": 9, \"8\": 27, \"10\": 5, \"4\": 21, \"1\": 14, \"5\": 25, \"2\": 9, \"3\": 14, \"13\": 7, \"14\": 20, \"11\": 3, \"9\": 3, \"6\": 3}, \"9\": {\"10\": 17, \"9\": 28, \"13\": 21, \"5\": 7, \"6\": 13, \"3\": 17, \"7\": 22, \"0\": 6, \"15\": 9, \"1\": 10, \"12\": 25, \"11\": 14, \"2\": 23, \"14\": 10, \"4\": 10, \"8\": 8}, \"0\": {\"8\": 34, \"12\": 7, \"0\": 38, \"5\": 34, \"4\": 23, \"7\": 8, \"6\": 4, \"15\": 32, \"3\": 8, \"11\": 2, \"14\": 25, \"10\": 3, \"1\": 7, \"13\": 7, \"2\": 3, \"9\": 5}}, \"ORACLE.run18\": {\"10\": {\"8\": 23, \"1\": 11, \"0\": 16, \"11\": 16, \"7\": 19, \"4\": 22, \"9\": 11, \"14\": 14, \"12\": 13, \"3\": 12, \"6\": 21, \"5\": 14, \"10\": 14, \"2\": 11, \"13\": 14, \"15\": 9}, \"6\": {\"15\": 11, \"4\": 24, \"10\": 23, \"0\": 16, \"9\": 11, \"5\": 16, \"2\": 11, \"6\": 14, \"11\": 14, \"8\": 16, \"3\": 15, \"7\": 12, \"12\": 12, \"14\": 19, \"13\": 15, \"1\": 11}, \"13\": {\"10\": 18, \"14\": 16, \"11\": 8, \"15\": 10, \"1\": 17, \"7\": 20, \"12\": 13, \"8\": 18, \"3\": 11, \"2\": 21, \"13\": 18, \"6\": 21, \"4\": 13, \"0\": 9, \"5\": 20, \"9\": 7}, \"3\": {\"5\": 13, \"8\": 18, \"4\": 20, \"15\": 23, \"7\": 13, \"0\": 6, \"12\": 17, \"10\": 13, \"1\": 11, \"3\": 30, \"14\": 13, \"13\": 14, \"11\": 14, \"6\": 14, \"2\": 20, \"9\": 1}, \"9\": {\"10\": 20, \"9\": 64, \"14\": 17, \"11\": 9, \"2\": 6, \"13\": 21, \"6\": 19, \"12\": 2, \"4\": 15, \"8\": 10, \"5\": 10, \"1\": 8, \"0\": 17, \"3\": 5, \"7\": 14, \"15\": 3}, \"1\": {\"1\": 21, \"9\": 6, \"11\": 13, \"3\": 17, \"6\": 14, \"14\": 13, \"7\": 14, \"10\": 12, \"12\": 19, \"13\": 19, \"0\": 18, \"5\": 12, \"2\": 21, \"15\": 20, \"8\": 13, \"4\": 8}, \"5\": {\"8\": 19, \"11\": 13, \"12\": 7, \"7\": 21, \"6\": 16, \"0\": 15, \"3\": 12, \"15\": 22, \"14\": 10, \"1\": 20, \"4\": 18, \"9\": 13, \"13\": 16, \"5\": 17, \"10\": 10, \"2\": 11}, \"11\": {\"1\": 22, \"15\": 18, \"13\": 16, \"6\": 16, \"0\": 13, \"2\": 8, \"10\": 15, \"4\": 10, \"11\": 18, \"5\": 19, \"7\": 13, \"8\": 25, \"14\": 15, \"9\": 7, \"3\": 14, \"12\": 11}, \"4\": {\"11\": 14, \"2\": 11, \"6\": 14, \"5\": 14, \"14\": 10, \"4\": 16, \"10\": 21, \"7\": 15, \"15\": 22, \"9\": 11, \"3\": 10, \"12\": 12, \"8\": 18, \"1\": 12, \"13\": 17, \"0\": 23}, \"14\": {\"5\": 11, \"2\": 18, \"1\": 19, \"9\": 10, \"7\": 18, \"3\": 16, \"0\": 15, \"10\": 17, \"4\": 15, \"11\": 18, \"6\": 14, \"8\": 14, \"15\": 10, \"13\": 16, \"14\": 21, \"12\": 8}, \"12\": {\"10\": 9, \"6\": 23, \"3\": 19, \"1\": 17, \"2\": 22, \"7\": 9, \"12\": 16, \"8\": 21, \"13\": 19, \"0\": 14, \"11\": 14, \"5\": 11, \"4\": 12, \"15\": 21, \"14\": 12, \"9\": 1}, \"7\": {\"7\": 22, \"0\": 18, \"3\": 23, \"12\": 11, \"15\": 16, \"13\": 16, \"10\": 17, \"6\": 7, \"2\": 10, \"8\": 16, \"4\": 20, \"9\": 11, \"1\": 14, \"5\": 16, \"11\": 6, \"14\": 17}, \"0\": {\"7\": 16, \"5\": 15, \"3\": 15, \"8\": 18, \"10\": 18, \"4\": 19, \"14\": 15, \"15\": 12, \"2\": 18, \"6\": 14, \"9\": 12, \"1\": 14, \"0\": 20, \"12\": 10, \"13\": 14, \"11\": 10}, \"15\": {\"15\": 26, \"10\": 13, \"1\": 13, \"3\": 24, \"7\": 13, \"12\": 15, \"13\": 15, \"11\": 17, \"6\": 14, \"8\": 24, \"5\": 16, \"2\": 11, \"14\": 11, \"0\": 10, \"4\": 15, \"9\": 3}, \"2\": {\"12\": 16, \"8\": 13, \"15\": 24, \"3\": 14, \"0\": 10, \"7\": 21, \"13\": 24, \"10\": 12, \"11\": 14, \"2\": 22, \"14\": 15, \"9\": 6, \"5\": 16, \"4\": 10, \"6\": 12, \"1\": 11}, \"8\": {\"6\": 13, \"4\": 17, \"0\": 9, \"12\": 16, \"7\": 19, \"1\": 21, \"13\": 17, \"5\": 15, \"3\": 20, \"9\": 4, \"2\": 14, \"8\": 19, \"15\": 21, \"11\": 14, \"14\": 12, \"10\": 9}}, \"ORACLE.run138\": {\"4\": {\"12\": 53, \"3\": 3, \"0\": 18, \"4\": 61, \"13\": 3, \"14\": 15, \"15\": 6, \"9\": 5, \"7\": 20, \"11\": 16, \"5\": 9, \"10\": 16, \"2\": 7, \"6\": 1, \"8\": 5, \"1\": 2}, \"7\": {\"11\": 18, \"1\": 10, \"8\": 17, \"10\": 13, \"7\": 21, \"5\": 18, \"15\": 15, \"2\": 10, \"0\": 20, \"12\": 17, \"9\": 23, \"14\": 9, \"6\": 12, \"13\": 14, \"3\": 12, \"4\": 11}, \"12\": {\"4\": 52, \"7\": 20, \"6\": 5, \"12\": 42, \"14\": 23, \"2\": 11, \"10\": 15, \"1\": 1, \"11\": 18, \"8\": 11, \"0\": 15, \"5\": 9, \"13\": 6, \"9\": 3, \"15\": 6, \"3\": 3}, \"10\": {\"12\": 16, \"6\": 11, \"4\": 14, \"14\": 21, \"13\": 17, \"10\": 20, \"7\": 17, \"0\": 16, \"8\": 16, \"11\": 24, \"1\": 11, \"5\": 15, \"15\": 11, \"9\": 12, \"2\": 12, \"3\": 7}, \"0\": {\"2\": 11, \"9\": 18, \"13\": 13, \"8\": 20, \"14\": 11, \"10\": 14, \"4\": 12, \"12\": 14, \"11\": 15, \"1\": 5, \"7\": 23, \"3\": 23, \"0\": 16, \"5\": 20, \"6\": 15, \"15\": 10}, \"1\": {\"13\": 25, \"2\": 20, \"6\": 28, \"15\": 10, \"14\": 8, \"1\": 39, \"8\": 18, \"0\": 12, \"3\": 11, \"7\": 7, \"9\": 22, \"10\": 11, \"5\": 23, \"11\": 4, \"12\": 1, \"4\": 1}, \"5\": {\"5\": 32, \"7\": 14, \"13\": 19, \"9\": 21, \"3\": 17, \"6\": 20, \"8\": 24, \"12\": 7, \"15\": 20, \"4\": 5, \"2\": 11, \"14\": 5, \"1\": 11, \"11\": 8, \"0\": 17, \"10\": 9}, \"15\": {\"5\": 18, \"15\": 20, \"11\": 16, \"10\": 13, \"1\": 21, \"0\": 14, \"8\": 16, \"14\": 15, \"6\": 19, \"2\": 23, \"3\": 9, \"9\": 11, \"4\": 5, \"13\": 25, \"12\": 6, \"7\": 9}, \"9\": {\"5\": 25, \"3\": 27, \"9\": 30, \"1\": 23, \"15\": 15, \"13\": 14, \"8\": 12, \"7\": 14, \"6\": 34, \"0\": 15, \"11\": 3, \"10\": 10, \"12\": 2, \"14\": 7, \"4\": 2, \"2\": 7}, \"11\": {\"2\": 25, \"13\": 15, \"8\": 12, \"11\": 40, \"4\": 27, \"12\": 21, \"14\": 29, \"10\": 18, \"5\": 10, \"7\": 8, \"3\": 2, \"15\": 12, \"0\": 7, \"6\": 6, \"9\": 1, \"1\": 7}, \"14\": {\"14\": 26, \"12\": 18, \"7\": 17, \"8\": 12, \"10\": 21, \"2\": 19, \"4\": 11, \"13\": 9, \"0\": 9, \"6\": 14, \"11\": 45, \"15\": 15, \"9\": 5, \"5\": 11, \"1\": 6, \"3\": 2}, \"6\": {\"15\": 25, \"0\": 14, \"1\": 27, \"11\": 3, \"5\": 21, \"8\": 22, \"9\": 27, \"10\": 5, \"2\": 14, \"6\": 29, \"13\": 15, \"3\": 19, \"4\": 2, \"7\": 13, \"14\": 2, \"12\": 2}, \"8\": {\"4\": 14, \"12\": 13, \"5\": 24, \"1\": 17, \"10\": 13, \"9\": 17, \"2\": 14, \"0\": 14, \"8\": 15, \"15\": 12, \"13\": 15, \"11\": 15, \"3\": 16, \"7\": 13, \"14\": 8, \"6\": 20}, \"3\": {\"9\": 39, \"6\": 21, \"3\": 32, \"11\": 7, \"4\": 6, \"8\": 16, \"7\": 14, \"5\": 17, \"1\": 13, \"13\": 17, \"15\": 11, \"10\": 10, \"2\": 6, \"0\": 20, \"12\": 6, \"14\": 5}, \"2\": {\"7\": 12, \"13\": 20, \"11\": 23, \"14\": 24, \"5\": 14, \"2\": 37, \"0\": 15, \"3\": 12, \"12\": 4, \"8\": 15, \"1\": 12, \"10\": 23, \"9\": 8, \"15\": 5, \"6\": 10, \"4\": 6}, \"13\": {\"13\": 19, \"5\": 20, \"15\": 23, \"9\": 23, \"11\": 16, \"6\": 20, \"10\": 18, \"12\": 6, \"14\": 19, \"1\": 15, \"7\": 10, \"3\": 8, \"8\": 14, \"2\": 13, \"0\": 13, \"4\": 3}}}, \"per_domain_accuracy\": {\"Wisig_3\": {\"accuracy\": 0.9813045851528385, \"source?\": true}, \"Wisig_4\": {\"accuracy\": 0.9633264462809917, \"source?\": true}, \"Wisig_2\": {\"accuracy\": 0.9675632911392406, \"source?\": true}, \"Wisig_1\": {\"accuracy\": 0.9817489495798319, \"source?\": true}, \"ORACLE.run114\": {\"accuracy\": 0.08984375, \"source?\": false}, \"ORACLE.run120\": {\"accuracy\": 0.07161458333333333, \"source?\": false}, \"ORACLE.run150\": {\"accuracy\": 0.09609375, \"source?\": false}, \"ORACLE.run126\": {\"accuracy\": 0.0875, \"source?\": false}, \"ORACLE.run132\": {\"accuracy\": 0.14192708333333334, \"source?\": false}, \"ORACLE.run144\": {\"accuracy\": 0.12395833333333334, \"source?\": false}, \"ORACLE.run18\": {\"accuracy\": 0.09322916666666667, \"source?\": false}, \"ORACLE.run138\": {\"accuracy\": 0.12473958333333333, \"source?\": false}}}, \"history\": {\"epoch_indices\": [1, 2, 3, 4, 5, 6, 7], \"train_label_loss\": [0.18988156502273293, 0.11945647389727736, 0.09748917013543379, 0.08147713976369113, 0.06718109051998682, 0.05434497322809799, 0.04448269885698264], \"source_val_label_loss\": [0.16390997171401978, 0.12309501320123672, 0.11728736758232117, 0.11883465945720673, 0.11713158339262009, 0.12403202801942825, 0.12774962186813354], \"target_val_label_loss\": [2.7336294651031494, 2.75468111038208, 2.759960651397705, 2.7869040966033936, 2.872493267059326, 2.9446280002593994, 3.088968515396118], \"source_val_acc_label\": [0.9631342494714588, 0.9714918076109936, 0.9733747357293869, 0.9727801268498943, 0.9741345137420718, 0.9738702431289641, 0.9734408033826638], \"target_val_acc_label\": [0.10296223958333334, 0.10026041666666667, 0.10361328125, 0.09915364583333333, 0.0923828125, 0.09430338541666666, 0.09124348958333334]}, \"dataset_metrics\": {\"source\": {\"train\": {\"n_unique_x\": 188989, \"n_unique_y\": 130, \"n_batch/episode\": 6846}, \"val\": {\"n_unique_x\": 40049, \"n_unique_y\": 130, \"n_batch/episode\": 946}, \"test\": {\"n_unique_x\": 40794, \"n_unique_y\": 130, \"n_batch/episode\": 966}}, \"target\": {\"train\": {\"n_unique_x\": 179200, \"n_unique_y\": 16, \"n_batch/episode\": 6720}, \"val\": {\"n_unique_x\": 38400, \"n_unique_y\": 16, \"n_batch/episode\": 960}, \"test\": {\"n_unique_x\": 38400, \"n_unique_y\": 16, \"n_batch/episode\": 960}}}}'"
      ]
     },
     "execution_count": 29,
     "metadata": {},
     "output_type": "execute_result"
    }
   ],
   "source": [
    "json.dumps(experiment)"
   ]
  }
 ],
 "metadata": {
  "celltoolbar": "Tags",
  "kernelspec": {
   "display_name": "Python 3 (ipykernel)",
   "language": "python",
   "name": "python3"
  },
  "language_info": {
   "codemirror_mode": {
    "name": "ipython",
    "version": 3
   },
   "file_extension": ".py",
   "mimetype": "text/x-python",
   "name": "python",
   "nbconvert_exporter": "python",
   "pygments_lexer": "ipython3",
   "version": "3.8.12"
  },
  "papermill": {
   "default_parameters": {},
   "duration": 1439.419309,
   "end_time": "2022-03-22T20:23:31.077021",
   "environment_variables": {},
   "exception": null,
   "input_path": "/root/csc500-main/csc500-notebooks/templates/tl_ptn_template.ipynb",
   "output_path": "trial.ipynb",
   "parameters": {
    "parameters": {
     "BEST_MODEL_PATH": "./best_model.pth",
     "NUM_LOGS_PER_EPOCH": 10,
     "criteria_for_best": "target_accuracy",
     "dataset_seed": 420,
     "datasets": [
      {
       "domain_prefix": "Wisig_",
       "domains": [
        1,
        2,
        3,
        4
       ],
       "episode_transforms": [],
       "labels": [
        "1-10",
        "1-12",
        "1-14",
        "1-16",
        "1-18",
        "1-19",
        "1-8",
        "10-11",
        "10-17",
        "10-4",
        "10-7",
        "11-1",
        "11-10",
        "11-19",
        "11-20",
        "11-4",
        "11-7",
        "12-19",
        "12-20",
        "12-7",
        "13-14",
        "13-18",
        "13-19",
        "13-20",
        "13-3",
        "13-7",
        "14-10",
        "14-11",
        "14-12",
        "14-13",
        "14-14",
        "14-19",
        "14-20",
        "14-7",
        "14-8",
        "14-9",
        "15-1",
        "15-19",
        "15-6",
        "16-1",
        "16-16",
        "16-19",
        "16-20",
        "17-10",
        "17-11",
        "18-1",
        "18-10",
        "18-11",
        "18-12",
        "18-13",
        "18-14",
        "18-15",
        "18-16",
        "18-17",
        "18-19",
        "18-2",
        "18-20",
        "18-4",
        "18-5",
        "18-7",
        "18-8",
        "18-9",
        "19-1",
        "19-10",
        "19-11",
        "19-12",
        "19-13",
        "19-14",
        "19-15",
        "19-19",
        "19-2",
        "19-20",
        "19-3",
        "19-4",
        "19-6",
        "19-7",
        "19-8",
        "19-9",
        "2-1",
        "2-13",
        "2-15",
        "2-3",
        "2-4",
        "2-5",
        "2-6",
        "2-7",
        "2-8",
        "20-1",
        "20-12",
        "20-14",
        "20-15",
        "20-16",
        "20-18",
        "20-19",
        "20-20",
        "20-3",
        "20-4",
        "20-5",
        "20-7",
        "20-8",
        "3-1",
        "3-13",
        "3-18",
        "3-2",
        "3-8",
        "4-1",
        "4-10",
        "4-11",
        "5-1",
        "5-5",
        "6-1",
        "6-15",
        "6-6",
        "7-10",
        "7-11",
        "7-12",
        "7-13",
        "7-14",
        "7-7",
        "7-8",
        "7-9",
        "8-1",
        "8-13",
        "8-14",
        "8-18",
        "8-20",
        "8-3",
        "8-8",
        "9-1",
        "9-7"
       ],
       "num_examples_per_domain_per_label": -1,
       "pickle_path": "/root/csc500-main/datasets/wisig.node3-19.stratified_ds.2022A.pkl",
       "source_or_target_dataset": "source",
       "x_transforms": [
        "unit_power"
       ]
      },
      {
       "domain_prefix": "ORACLE.run1",
       "domains": [
        32,
        38,
        8,
        44,
        14,
        50,
        20,
        26
       ],
       "episode_transforms": [],
       "labels": [
        "3123D52",
        "3123D65",
        "3123D79",
        "3123D80",
        "3123D54",
        "3123D70",
        "3123D7B",
        "3123D89",
        "3123D58",
        "3123D76",
        "3123D7D",
        "3123EFE",
        "3123D64",
        "3123D78",
        "3123D7E",
        "3124E4A"
       ],
       "num_examples_per_domain_per_label": 2000,
       "pickle_path": "/root/csc500-main/datasets/oracle.Run1_10kExamples_stratified_ds.2022A.pkl",
       "source_or_target_dataset": "target",
       "x_transforms": [
        "unit_power"
       ]
      }
     ],
     "device": "cuda",
     "experiment_name": "tl_1v2:wisig-oracle.run1.limited",
     "lr": 0.0001,
     "n_epoch": 50,
     "n_query": 2,
     "n_shot": 3,
     "n_way": 16,
     "patience": 3,
     "seed": 420,
     "test_k_factor": 2,
     "torch_default_dtype": "torch.float32",
     "train_k_factor": 3,
     "val_k_factor": 2,
     "x_net": [
      {
       "class": "nnReshape",
       "kargs": {
        "shape": [
         -1,
         1,
         2,
         256
        ]
       }
      },
      {
       "class": "Conv2d",
       "kargs": {
        "bias": false,
        "in_channels": 1,
        "kernel_size": [
         1,
         7
        ],
        "out_channels": 256,
        "padding": [
         0,
         3
        ]
       }
      },
      {
       "class": "ReLU",
       "kargs": {
        "inplace": true
       }
      },
      {
       "class": "BatchNorm2d",
       "kargs": {
        "num_features": 256
       }
      },
      {
       "class": "Conv2d",
       "kargs": {
        "bias": true,
        "in_channels": 256,
        "kernel_size": [
         2,
         7
        ],
        "out_channels": 80,
        "padding": [
         0,
         3
        ]
       }
      },
      {
       "class": "ReLU",
       "kargs": {
        "inplace": true
       }
      },
      {
       "class": "BatchNorm2d",
       "kargs": {
        "num_features": 80
       }
      },
      {
       "class": "Flatten",
       "kargs": {}
      },
      {
       "class": "Linear",
       "kargs": {
        "in_features": 20480,
        "out_features": 256
       }
      },
      {
       "class": "ReLU",
       "kargs": {
        "inplace": true
       }
      },
      {
       "class": "BatchNorm1d",
       "kargs": {
        "num_features": 256
       }
      },
      {
       "class": "Linear",
       "kargs": {
        "in_features": 256,
        "out_features": 256
       }
      }
     ]
    }
   },
   "start_time": "2022-03-22T19:59:31.657712",
   "version": "2.3.4"
  }
 },
 "nbformat": 4,
 "nbformat_minor": 5
}