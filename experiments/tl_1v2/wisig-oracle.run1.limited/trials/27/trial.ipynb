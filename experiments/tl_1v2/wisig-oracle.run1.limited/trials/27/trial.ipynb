{
 "cells": [
  {
   "cell_type": "markdown",
   "id": "9fea5f46",
   "metadata": {
    "papermill": {
     "duration": 0.029459,
     "end_time": "2022-03-23T06:57:42.222992",
     "exception": false,
     "start_time": "2022-03-23T06:57:42.193533",
     "status": "completed"
    },
    "tags": []
   },
   "source": [
    "# Transfer Learning Template"
   ]
  },
  {
   "cell_type": "code",
   "execution_count": 1,
   "id": "0902182a",
   "metadata": {
    "execution": {
     "iopub.execute_input": "2022-03-23T06:57:42.285475Z",
     "iopub.status.busy": "2022-03-23T06:57:42.284622Z",
     "iopub.status.idle": "2022-03-23T06:57:44.124987Z",
     "shell.execute_reply": "2022-03-23T06:57:44.124141Z"
    },
    "papermill": {
     "duration": 1.879722,
     "end_time": "2022-03-23T06:57:44.125192",
     "exception": false,
     "start_time": "2022-03-23T06:57:42.245470",
     "status": "completed"
    },
    "tags": []
   },
   "outputs": [],
   "source": [
    "%load_ext autoreload\n",
    "%autoreload 2\n",
    "%matplotlib inline\n",
    "\n",
    "    \n",
    "import os, json, sys, time, random\n",
    "import numpy as np\n",
    "import torch\n",
    "from torch.optim import Adam\n",
    "from  easydict import EasyDict\n",
    "import matplotlib.pyplot as plt\n",
    "\n",
    "from steves_models.steves_ptn import Steves_Prototypical_Network\n",
    "\n",
    "from steves_utils.lazy_iterable_wrapper import Lazy_Iterable_Wrapper\n",
    "from steves_utils.iterable_aggregator import Iterable_Aggregator\n",
    "from steves_utils.ptn_train_eval_test_jig import  PTN_Train_Eval_Test_Jig\n",
    "from steves_utils.torch_sequential_builder import build_sequential\n",
    "from steves_utils.torch_utils import get_dataset_metrics, ptn_confusion_by_domain_over_dataloader\n",
    "from steves_utils.utils_v2 import (per_domain_accuracy_from_confusion, get_datasets_base_path)\n",
    "from steves_utils.PTN.utils import independent_accuracy_assesment\n",
    "\n",
    "from torch.utils.data import DataLoader\n",
    "\n",
    "from steves_utils.stratified_dataset.episodic_accessor import Episodic_Accessor_Factory\n",
    "\n",
    "from steves_utils.ptn_do_report import (\n",
    "    get_loss_curve,\n",
    "    get_results_table,\n",
    "    get_parameters_table,\n",
    "    get_domain_accuracies,\n",
    ")\n",
    "\n",
    "from steves_utils.transforms import get_chained_transform"
   ]
  },
  {
   "cell_type": "markdown",
   "id": "41c840b4",
   "metadata": {
    "papermill": {
     "duration": 0.020075,
     "end_time": "2022-03-23T06:57:44.171777",
     "exception": false,
     "start_time": "2022-03-23T06:57:44.151702",
     "status": "completed"
    },
    "tags": []
   },
   "source": [
    "# Allowed Parameters\n",
    "These are allowed parameters, not defaults\n",
    "Each of these values need to be present in the injected parameters (the notebook will raise an exception if they are not present)\n",
    "\n",
    "Papermill uses the cell tag \"parameters\" to inject the real parameters below this cell.\n",
    "Enable tags to see what I mean"
   ]
  },
  {
   "cell_type": "code",
   "execution_count": 2,
   "id": "fd44eb83",
   "metadata": {
    "execution": {
     "iopub.execute_input": "2022-03-23T06:57:44.217183Z",
     "iopub.status.busy": "2022-03-23T06:57:44.216704Z",
     "iopub.status.idle": "2022-03-23T06:57:44.240346Z",
     "shell.execute_reply": "2022-03-23T06:57:44.239567Z"
    },
    "papermill": {
     "duration": 0.048509,
     "end_time": "2022-03-23T06:57:44.240515",
     "exception": false,
     "start_time": "2022-03-23T06:57:44.192006",
     "status": "completed"
    },
    "tags": []
   },
   "outputs": [],
   "source": [
    "required_parameters = {\n",
    "    \"experiment_name\",\n",
    "    \"lr\",\n",
    "    \"device\",\n",
    "    \"seed\",\n",
    "    \"dataset_seed\",\n",
    "    \"n_shot\",\n",
    "    \"n_query\",\n",
    "    \"n_way\",\n",
    "    \"train_k_factor\",\n",
    "    \"val_k_factor\",\n",
    "    \"test_k_factor\",\n",
    "    \"n_epoch\",\n",
    "    \"patience\",\n",
    "    \"criteria_for_best\",\n",
    "    \"x_net\",\n",
    "    \"datasets\",\n",
    "    \"torch_default_dtype\",\n",
    "    \"NUM_LOGS_PER_EPOCH\",\n",
    "    \"BEST_MODEL_PATH\",\n",
    "    \"x_shape\",\n",
    "}"
   ]
  },
  {
   "cell_type": "code",
   "execution_count": 3,
   "id": "fa3f0049",
   "metadata": {
    "execution": {
     "iopub.execute_input": "2022-03-23T06:57:44.304286Z",
     "iopub.status.busy": "2022-03-23T06:57:44.303324Z",
     "iopub.status.idle": "2022-03-23T06:57:44.323067Z",
     "shell.execute_reply": "2022-03-23T06:57:44.322256Z"
    },
    "papermill": {
     "duration": 0.055619,
     "end_time": "2022-03-23T06:57:44.323240",
     "exception": false,
     "start_time": "2022-03-23T06:57:44.267621",
     "status": "completed"
    },
    "tags": [
     "parameters"
    ]
   },
   "outputs": [],
   "source": [
    "from steves_utils.CORES.utils import (\n",
    "    ALL_NODES,\n",
    "    ALL_NODES_MINIMUM_1000_EXAMPLES,\n",
    "    ALL_DAYS\n",
    ")\n",
    "\n",
    "from steves_utils.ORACLE.utils_v2 import (\n",
    "    ALL_DISTANCES_FEET_NARROWED,\n",
    "    ALL_RUNS,\n",
    "    ALL_SERIAL_NUMBERS,\n",
    ")\n",
    "\n",
    "standalone_parameters = {}\n",
    "standalone_parameters[\"experiment_name\"] = \"STANDALONE PTN\"\n",
    "standalone_parameters[\"lr\"] = 0.001\n",
    "standalone_parameters[\"device\"] = \"cuda\"\n",
    "\n",
    "standalone_parameters[\"seed\"] = 1337\n",
    "standalone_parameters[\"dataset_seed\"] = 1337\n",
    "\n",
    "standalone_parameters[\"n_way\"] = 8\n",
    "standalone_parameters[\"n_shot\"] = 3\n",
    "standalone_parameters[\"n_query\"]  = 2\n",
    "standalone_parameters[\"train_k_factor\"] = 1\n",
    "standalone_parameters[\"val_k_factor\"] = 2\n",
    "standalone_parameters[\"test_k_factor\"] = 2\n",
    "\n",
    "\n",
    "standalone_parameters[\"n_epoch\"] = 50\n",
    "\n",
    "standalone_parameters[\"patience\"] = 10\n",
    "standalone_parameters[\"criteria_for_best\"] = \"source_loss\"\n",
    "\n",
    "standalone_parameters[\"datasets\"] = [\n",
    "    {\n",
    "        \"labels\": ALL_SERIAL_NUMBERS,\n",
    "        \"domains\": ALL_DISTANCES_FEET_NARROWED,\n",
    "        \"num_examples_per_domain_per_label\": 100,\n",
    "        \"pickle_path\": os.path.join(get_datasets_base_path(), \"oracle.Run1_framed_2000Examples_stratified_ds.2022A.pkl\"),\n",
    "        \"source_or_target_dataset\": \"source\",\n",
    "        \"x_transforms\": [\"unit_mag\", \"minus_two\"],\n",
    "        \"episode_transforms\": [],\n",
    "        \"domain_prefix\": \"ORACLE_\"\n",
    "    },\n",
    "    {\n",
    "        \"labels\": ALL_NODES,\n",
    "        \"domains\": ALL_DAYS,\n",
    "        \"num_examples_per_domain_per_label\": 100,\n",
    "        \"pickle_path\": os.path.join(get_datasets_base_path(), \"cores.stratified_ds.2022A.pkl\"),\n",
    "        \"source_or_target_dataset\": \"target\",\n",
    "        \"x_transforms\": [\"unit_power\", \"times_zero\"],\n",
    "        \"episode_transforms\": [],\n",
    "        \"domain_prefix\": \"CORES_\"\n",
    "    }   \n",
    "]\n",
    "\n",
    "standalone_parameters[\"torch_default_dtype\"] = \"torch.float32\" \n",
    "\n",
    "\n",
    "\n",
    "standalone_parameters[\"x_net\"] =     [\n",
    "    {\"class\": \"nnReshape\", \"kargs\": {\"shape\":[-1, 1, 2, 256]}},\n",
    "    {\"class\": \"Conv2d\", \"kargs\": { \"in_channels\":1, \"out_channels\":256, \"kernel_size\":(1,7), \"bias\":False, \"padding\":(0,3), },},\n",
    "    {\"class\": \"ReLU\", \"kargs\": {\"inplace\": True}},\n",
    "    {\"class\": \"BatchNorm2d\", \"kargs\": {\"num_features\":256}},\n",
    "\n",
    "    {\"class\": \"Conv2d\", \"kargs\": { \"in_channels\":256, \"out_channels\":80, \"kernel_size\":(2,7), \"bias\":True, \"padding\":(0,3), },},\n",
    "    {\"class\": \"ReLU\", \"kargs\": {\"inplace\": True}},\n",
    "    {\"class\": \"BatchNorm2d\", \"kargs\": {\"num_features\":80}},\n",
    "    {\"class\": \"Flatten\", \"kargs\": {}},\n",
    "\n",
    "    {\"class\": \"Linear\", \"kargs\": {\"in_features\": 80*256, \"out_features\": 256}}, # 80 units per IQ pair\n",
    "    {\"class\": \"ReLU\", \"kargs\": {\"inplace\": True}},\n",
    "    {\"class\": \"BatchNorm1d\", \"kargs\": {\"num_features\":256}},\n",
    "\n",
    "    {\"class\": \"Linear\", \"kargs\": {\"in_features\": 256, \"out_features\": 256}},\n",
    "]\n",
    "\n",
    "# Parameters relevant to results\n",
    "# These parameters will basically never need to change\n",
    "standalone_parameters[\"NUM_LOGS_PER_EPOCH\"] = 10\n",
    "standalone_parameters[\"BEST_MODEL_PATH\"] = \"./best_model.pth\"\n",
    "\n",
    "\n",
    "\n",
    "\n"
   ]
  },
  {
   "cell_type": "code",
   "execution_count": 4,
   "id": "0e625d1e",
   "metadata": {
    "execution": {
     "iopub.execute_input": "2022-03-23T06:57:44.386956Z",
     "iopub.status.busy": "2022-03-23T06:57:44.385928Z",
     "iopub.status.idle": "2022-03-23T06:57:44.405904Z",
     "shell.execute_reply": "2022-03-23T06:57:44.405065Z"
    },
    "papermill": {
     "duration": 0.057514,
     "end_time": "2022-03-23T06:57:44.406075",
     "exception": false,
     "start_time": "2022-03-23T06:57:44.348561",
     "status": "completed"
    },
    "tags": [
     "injected-parameters"
    ]
   },
   "outputs": [],
   "source": [
    "# Parameters\n",
    "parameters = {\n",
    "    \"experiment_name\": \"tl_1v2:wisig-oracle.run1.limited\",\n",
    "    \"device\": \"cuda\",\n",
    "    \"lr\": 0.0001,\n",
    "    \"n_shot\": 3,\n",
    "    \"n_query\": 2,\n",
    "    \"train_k_factor\": 3,\n",
    "    \"val_k_factor\": 2,\n",
    "    \"test_k_factor\": 2,\n",
    "    \"torch_default_dtype\": \"torch.float32\",\n",
    "    \"n_epoch\": 50,\n",
    "    \"patience\": 3,\n",
    "    \"criteria_for_best\": \"target_accuracy\",\n",
    "    \"x_net\": [\n",
    "        {\"class\": \"nnReshape\", \"kargs\": {\"shape\": [-1, 1, 2, 256]}},\n",
    "        {\n",
    "            \"class\": \"Conv2d\",\n",
    "            \"kargs\": {\n",
    "                \"in_channels\": 1,\n",
    "                \"out_channels\": 256,\n",
    "                \"kernel_size\": [1, 7],\n",
    "                \"bias\": False,\n",
    "                \"padding\": [0, 3],\n",
    "            },\n",
    "        },\n",
    "        {\"class\": \"ReLU\", \"kargs\": {\"inplace\": True}},\n",
    "        {\"class\": \"BatchNorm2d\", \"kargs\": {\"num_features\": 256}},\n",
    "        {\n",
    "            \"class\": \"Conv2d\",\n",
    "            \"kargs\": {\n",
    "                \"in_channels\": 256,\n",
    "                \"out_channels\": 80,\n",
    "                \"kernel_size\": [2, 7],\n",
    "                \"bias\": True,\n",
    "                \"padding\": [0, 3],\n",
    "            },\n",
    "        },\n",
    "        {\"class\": \"ReLU\", \"kargs\": {\"inplace\": True}},\n",
    "        {\"class\": \"BatchNorm2d\", \"kargs\": {\"num_features\": 80}},\n",
    "        {\"class\": \"Flatten\", \"kargs\": {}},\n",
    "        {\"class\": \"Linear\", \"kargs\": {\"in_features\": 20480, \"out_features\": 256}},\n",
    "        {\"class\": \"ReLU\", \"kargs\": {\"inplace\": True}},\n",
    "        {\"class\": \"BatchNorm1d\", \"kargs\": {\"num_features\": 256}},\n",
    "        {\"class\": \"Linear\", \"kargs\": {\"in_features\": 256, \"out_features\": 256}},\n",
    "    ],\n",
    "    \"NUM_LOGS_PER_EPOCH\": 10,\n",
    "    \"BEST_MODEL_PATH\": \"./best_model.pth\",\n",
    "    \"n_way\": 16,\n",
    "    \"datasets\": [\n",
    "        {\n",
    "            \"labels\": [\n",
    "                \"1-10\",\n",
    "                \"1-12\",\n",
    "                \"1-14\",\n",
    "                \"1-16\",\n",
    "                \"1-18\",\n",
    "                \"1-19\",\n",
    "                \"1-8\",\n",
    "                \"10-11\",\n",
    "                \"10-17\",\n",
    "                \"10-4\",\n",
    "                \"10-7\",\n",
    "                \"11-1\",\n",
    "                \"11-10\",\n",
    "                \"11-19\",\n",
    "                \"11-20\",\n",
    "                \"11-4\",\n",
    "                \"11-7\",\n",
    "                \"12-19\",\n",
    "                \"12-20\",\n",
    "                \"12-7\",\n",
    "                \"13-14\",\n",
    "                \"13-18\",\n",
    "                \"13-19\",\n",
    "                \"13-20\",\n",
    "                \"13-3\",\n",
    "                \"13-7\",\n",
    "                \"14-10\",\n",
    "                \"14-11\",\n",
    "                \"14-12\",\n",
    "                \"14-13\",\n",
    "                \"14-14\",\n",
    "                \"14-19\",\n",
    "                \"14-20\",\n",
    "                \"14-7\",\n",
    "                \"14-8\",\n",
    "                \"14-9\",\n",
    "                \"15-1\",\n",
    "                \"15-19\",\n",
    "                \"15-6\",\n",
    "                \"16-1\",\n",
    "                \"16-16\",\n",
    "                \"16-19\",\n",
    "                \"16-20\",\n",
    "                \"17-10\",\n",
    "                \"17-11\",\n",
    "                \"18-1\",\n",
    "                \"18-10\",\n",
    "                \"18-11\",\n",
    "                \"18-12\",\n",
    "                \"18-13\",\n",
    "                \"18-14\",\n",
    "                \"18-15\",\n",
    "                \"18-16\",\n",
    "                \"18-17\",\n",
    "                \"18-19\",\n",
    "                \"18-2\",\n",
    "                \"18-20\",\n",
    "                \"18-4\",\n",
    "                \"18-5\",\n",
    "                \"18-7\",\n",
    "                \"18-8\",\n",
    "                \"18-9\",\n",
    "                \"19-1\",\n",
    "                \"19-10\",\n",
    "                \"19-11\",\n",
    "                \"19-12\",\n",
    "                \"19-13\",\n",
    "                \"19-14\",\n",
    "                \"19-15\",\n",
    "                \"19-19\",\n",
    "                \"19-2\",\n",
    "                \"19-20\",\n",
    "                \"19-3\",\n",
    "                \"19-4\",\n",
    "                \"19-6\",\n",
    "                \"19-7\",\n",
    "                \"19-8\",\n",
    "                \"19-9\",\n",
    "                \"2-1\",\n",
    "                \"2-13\",\n",
    "                \"2-15\",\n",
    "                \"2-3\",\n",
    "                \"2-4\",\n",
    "                \"2-5\",\n",
    "                \"2-6\",\n",
    "                \"2-7\",\n",
    "                \"2-8\",\n",
    "                \"20-1\",\n",
    "                \"20-12\",\n",
    "                \"20-14\",\n",
    "                \"20-15\",\n",
    "                \"20-16\",\n",
    "                \"20-18\",\n",
    "                \"20-19\",\n",
    "                \"20-20\",\n",
    "                \"20-3\",\n",
    "                \"20-4\",\n",
    "                \"20-5\",\n",
    "                \"20-7\",\n",
    "                \"20-8\",\n",
    "                \"3-1\",\n",
    "                \"3-13\",\n",
    "                \"3-18\",\n",
    "                \"3-2\",\n",
    "                \"3-8\",\n",
    "                \"4-1\",\n",
    "                \"4-10\",\n",
    "                \"4-11\",\n",
    "                \"5-1\",\n",
    "                \"5-5\",\n",
    "                \"6-1\",\n",
    "                \"6-15\",\n",
    "                \"6-6\",\n",
    "                \"7-10\",\n",
    "                \"7-11\",\n",
    "                \"7-12\",\n",
    "                \"7-13\",\n",
    "                \"7-14\",\n",
    "                \"7-7\",\n",
    "                \"7-8\",\n",
    "                \"7-9\",\n",
    "                \"8-1\",\n",
    "                \"8-13\",\n",
    "                \"8-14\",\n",
    "                \"8-18\",\n",
    "                \"8-20\",\n",
    "                \"8-3\",\n",
    "                \"8-8\",\n",
    "                \"9-1\",\n",
    "                \"9-7\",\n",
    "            ],\n",
    "            \"domains\": [1, 2, 3, 4],\n",
    "            \"num_examples_per_domain_per_label\": -1,\n",
    "            \"pickle_path\": \"/root/csc500-main/datasets/wisig.node3-19.stratified_ds.2022A.pkl\",\n",
    "            \"source_or_target_dataset\": \"target\",\n",
    "            \"x_transforms\": [\"unit_power\"],\n",
    "            \"episode_transforms\": [],\n",
    "            \"domain_prefix\": \"Wisig_\",\n",
    "        },\n",
    "        {\n",
    "            \"labels\": [\n",
    "                \"3123D52\",\n",
    "                \"3123D65\",\n",
    "                \"3123D79\",\n",
    "                \"3123D80\",\n",
    "                \"3123D54\",\n",
    "                \"3123D70\",\n",
    "                \"3123D7B\",\n",
    "                \"3123D89\",\n",
    "                \"3123D58\",\n",
    "                \"3123D76\",\n",
    "                \"3123D7D\",\n",
    "                \"3123EFE\",\n",
    "                \"3123D64\",\n",
    "                \"3123D78\",\n",
    "                \"3123D7E\",\n",
    "                \"3124E4A\",\n",
    "            ],\n",
    "            \"domains\": [32, 38, 8, 44, 14, 50, 20, 26],\n",
    "            \"num_examples_per_domain_per_label\": 2000,\n",
    "            \"pickle_path\": \"/root/csc500-main/datasets/oracle.Run1_10kExamples_stratified_ds.2022A.pkl\",\n",
    "            \"source_or_target_dataset\": \"source\",\n",
    "            \"x_transforms\": [\"unit_power\"],\n",
    "            \"episode_transforms\": [],\n",
    "            \"domain_prefix\": \"ORACLE.run1\",\n",
    "        },\n",
    "    ],\n",
    "    \"dataset_seed\": 500,\n",
    "    \"seed\": 500,\n",
    "}\n"
   ]
  },
  {
   "cell_type": "code",
   "execution_count": 5,
   "id": "8fa1cc33",
   "metadata": {
    "execution": {
     "iopub.execute_input": "2022-03-23T06:57:44.460757Z",
     "iopub.status.busy": "2022-03-23T06:57:44.460166Z",
     "iopub.status.idle": "2022-03-23T06:57:44.477459Z",
     "shell.execute_reply": "2022-03-23T06:57:44.476884Z"
    },
    "papermill": {
     "duration": 0.045117,
     "end_time": "2022-03-23T06:57:44.477584",
     "exception": false,
     "start_time": "2022-03-23T06:57:44.432467",
     "status": "completed"
    },
    "tags": []
   },
   "outputs": [],
   "source": [
    "# Set this to True if you want to run this template directly\n",
    "STANDALONE = False\n",
    "if STANDALONE:\n",
    "    print(\"parameters not injected, running with standalone_parameters\")\n",
    "    parameters = standalone_parameters\n",
    "\n",
    "if not 'parameters' in locals() and not 'parameters' in globals():\n",
    "    raise Exception(\"Parameter injection failed\")\n",
    "\n",
    "#Use an easy dict for all the parameters\n",
    "p = EasyDict(parameters)\n",
    "\n",
    "if \"x_shape\" not in p:\n",
    "    p.x_shape = [2,256] # Default to this if we dont supply x_shape\n",
    "\n",
    "\n",
    "supplied_keys = set(p.keys())\n",
    "\n",
    "if  supplied_keys != required_parameters:\n",
    "    print(\"Parameters are incorrect\")\n",
    "    if len(supplied_keys - required_parameters)>0: print(\"Shouldn't have:\", str(supplied_keys - required_parameters))\n",
    "    if len(required_parameters - supplied_keys)>0: print(\"Need to have:\", str(required_parameters - supplied_keys))\n",
    "    raise RuntimeError(\"Parameters are incorrect\")"
   ]
  },
  {
   "cell_type": "code",
   "execution_count": 6,
   "id": "3a028d58",
   "metadata": {
    "execution": {
     "iopub.execute_input": "2022-03-23T06:57:44.525510Z",
     "iopub.status.busy": "2022-03-23T06:57:44.525133Z",
     "iopub.status.idle": "2022-03-23T06:57:44.545349Z",
     "shell.execute_reply": "2022-03-23T06:57:44.544509Z"
    },
    "papermill": {
     "duration": 0.044033,
     "end_time": "2022-03-23T06:57:44.545527",
     "exception": false,
     "start_time": "2022-03-23T06:57:44.501494",
     "status": "completed"
    },
    "tags": []
   },
   "outputs": [],
   "source": [
    "###################################\n",
    "# Set the RNGs and make it all deterministic\n",
    "###################################\n",
    "np.random.seed(p.seed)\n",
    "random.seed(p.seed)\n",
    "torch.manual_seed(p.seed)\n",
    "\n",
    "torch.use_deterministic_algorithms(True) "
   ]
  },
  {
   "cell_type": "code",
   "execution_count": 7,
   "id": "b691acf6",
   "metadata": {
    "execution": {
     "iopub.execute_input": "2022-03-23T06:57:44.597745Z",
     "iopub.status.busy": "2022-03-23T06:57:44.596633Z",
     "iopub.status.idle": "2022-03-23T06:57:44.617660Z",
     "shell.execute_reply": "2022-03-23T06:57:44.616829Z"
    },
    "papermill": {
     "duration": 0.045721,
     "end_time": "2022-03-23T06:57:44.617830",
     "exception": false,
     "start_time": "2022-03-23T06:57:44.572109",
     "status": "completed"
    },
    "tags": []
   },
   "outputs": [],
   "source": [
    "###########################################\n",
    "# The stratified datasets honor this\n",
    "###########################################\n",
    "torch.set_default_dtype(eval(p.torch_default_dtype))"
   ]
  },
  {
   "cell_type": "code",
   "execution_count": 8,
   "id": "b5fba671",
   "metadata": {
    "execution": {
     "iopub.execute_input": "2022-03-23T06:57:44.669238Z",
     "iopub.status.busy": "2022-03-23T06:57:44.667957Z",
     "iopub.status.idle": "2022-03-23T06:57:44.723401Z",
     "shell.execute_reply": "2022-03-23T06:57:44.722673Z"
    },
    "papermill": {
     "duration": 0.079431,
     "end_time": "2022-03-23T06:57:44.723595",
     "exception": false,
     "start_time": "2022-03-23T06:57:44.644164",
     "status": "completed"
    },
    "tags": []
   },
   "outputs": [],
   "source": [
    "###################################\n",
    "# Build the network(s)\n",
    "# Note: It's critical to do this AFTER setting the RNG\n",
    "###################################\n",
    "x_net = build_sequential(p.x_net)"
   ]
  },
  {
   "cell_type": "code",
   "execution_count": 9,
   "id": "5d7e61cc",
   "metadata": {
    "execution": {
     "iopub.execute_input": "2022-03-23T06:57:44.773807Z",
     "iopub.status.busy": "2022-03-23T06:57:44.773243Z",
     "iopub.status.idle": "2022-03-23T06:57:44.796225Z",
     "shell.execute_reply": "2022-03-23T06:57:44.795342Z"
    },
    "papermill": {
     "duration": 0.047107,
     "end_time": "2022-03-23T06:57:44.796400",
     "exception": false,
     "start_time": "2022-03-23T06:57:44.749293",
     "status": "completed"
    },
    "tags": []
   },
   "outputs": [],
   "source": [
    "start_time_secs = time.time()"
   ]
  },
  {
   "cell_type": "code",
   "execution_count": 10,
   "id": "c6b67dfd",
   "metadata": {
    "execution": {
     "iopub.execute_input": "2022-03-23T06:57:44.851703Z",
     "iopub.status.busy": "2022-03-23T06:57:44.851313Z",
     "iopub.status.idle": "2022-03-23T06:57:44.871028Z",
     "shell.execute_reply": "2022-03-23T06:57:44.870206Z"
    },
    "papermill": {
     "duration": 0.045249,
     "end_time": "2022-03-23T06:57:44.871193",
     "exception": false,
     "start_time": "2022-03-23T06:57:44.825944",
     "status": "completed"
    },
    "tags": []
   },
   "outputs": [],
   "source": [
    "p.domains_source = []\n",
    "p.domains_target = []\n",
    "\n",
    "\n",
    "train_original_source = []\n",
    "val_original_source   = []\n",
    "test_original_source  = []\n",
    "\n",
    "train_original_target = []\n",
    "val_original_target   = []\n",
    "test_original_target  = []"
   ]
  },
  {
   "cell_type": "code",
   "execution_count": 11,
   "id": "e3d9c3d3",
   "metadata": {
    "execution": {
     "iopub.execute_input": "2022-03-23T06:57:44.924599Z",
     "iopub.status.busy": "2022-03-23T06:57:44.923806Z",
     "iopub.status.idle": "2022-03-23T06:57:44.946076Z",
     "shell.execute_reply": "2022-03-23T06:57:44.945261Z"
    },
    "papermill": {
     "duration": 0.046939,
     "end_time": "2022-03-23T06:57:44.946237",
     "exception": false,
     "start_time": "2022-03-23T06:57:44.899298",
     "status": "completed"
    },
    "tags": []
   },
   "outputs": [],
   "source": [
    "# global_x_transform_func = lambda x: normalize(x.to(torch.get_default_dtype()), \"unit_power\") # unit_power, unit_mag\n",
    "# global_x_transform_func = lambda x: normalize(x, \"unit_power\") # unit_power, unit_mag"
   ]
  },
  {
   "cell_type": "code",
   "execution_count": 12,
   "id": "acb78fd2",
   "metadata": {
    "execution": {
     "iopub.execute_input": "2022-03-23T06:57:45.006279Z",
     "iopub.status.busy": "2022-03-23T06:57:45.005427Z",
     "iopub.status.idle": "2022-03-23T06:57:45.023234Z",
     "shell.execute_reply": "2022-03-23T06:57:45.022422Z"
    },
    "papermill": {
     "duration": 0.051126,
     "end_time": "2022-03-23T06:57:45.023392",
     "exception": false,
     "start_time": "2022-03-23T06:57:44.972266",
     "status": "completed"
    },
    "tags": []
   },
   "outputs": [],
   "source": [
    "def add_dataset(\n",
    "    labels,\n",
    "    domains,\n",
    "    pickle_path,\n",
    "    x_transforms,\n",
    "    episode_transforms,\n",
    "    domain_prefix,\n",
    "    num_examples_per_domain_per_label,\n",
    "    source_or_target_dataset:str,\n",
    "    iterator_seed=p.seed,\n",
    "    dataset_seed=p.dataset_seed,\n",
    "    n_shot=p.n_shot,\n",
    "    n_way=p.n_way,\n",
    "    n_query=p.n_query,\n",
    "    train_val_test_k_factors=(p.train_k_factor,p.val_k_factor,p.test_k_factor),\n",
    "):\n",
    "   \n",
    "    if x_transforms == []: x_transform = None\n",
    "    else: x_transform = get_chained_transform(x_transforms)\n",
    "    \n",
    "    if episode_transforms == []: episode_transform = None\n",
    "    else: raise Exception(\"episode_transforms not implemented\")\n",
    "    \n",
    "    episode_transform = lambda tup, _prefix=domain_prefix: (_prefix + str(tup[0]), tup[1])\n",
    "\n",
    "\n",
    "    eaf = Episodic_Accessor_Factory(\n",
    "        labels=labels,\n",
    "        domains=domains,\n",
    "        num_examples_per_domain_per_label=num_examples_per_domain_per_label,\n",
    "        iterator_seed=iterator_seed,\n",
    "        dataset_seed=dataset_seed,\n",
    "        n_shot=n_shot,\n",
    "        n_way=n_way,\n",
    "        n_query=n_query,\n",
    "        train_val_test_k_factors=train_val_test_k_factors,\n",
    "        pickle_path=pickle_path,\n",
    "        x_transform_func=x_transform,\n",
    "    )\n",
    "\n",
    "    train, val, test = eaf.get_train(), eaf.get_val(), eaf.get_test()\n",
    "    train = Lazy_Iterable_Wrapper(train, episode_transform)\n",
    "    val = Lazy_Iterable_Wrapper(val, episode_transform)\n",
    "    test = Lazy_Iterable_Wrapper(test, episode_transform)\n",
    "\n",
    "    if source_or_target_dataset==\"source\":\n",
    "        train_original_source.append(train)\n",
    "        val_original_source.append(val)\n",
    "        test_original_source.append(test)\n",
    "\n",
    "        p.domains_source.extend(\n",
    "            [domain_prefix + str(u) for u in domains]\n",
    "        )\n",
    "    elif source_or_target_dataset==\"target\":\n",
    "        train_original_target.append(train)\n",
    "        val_original_target.append(val)\n",
    "        test_original_target.append(test)\n",
    "        p.domains_target.extend(\n",
    "            [domain_prefix + str(u) for u in domains]\n",
    "        )\n",
    "    else:\n",
    "        raise Exception(f\"invalid source_or_target_dataset: {source_or_target_dataset}\")\n",
    "    "
   ]
  },
  {
   "cell_type": "code",
   "execution_count": 13,
   "id": "fe266617",
   "metadata": {
    "execution": {
     "iopub.execute_input": "2022-03-23T06:57:45.078525Z",
     "iopub.status.busy": "2022-03-23T06:57:45.078156Z",
     "iopub.status.idle": "2022-03-23T06:58:31.612339Z",
     "shell.execute_reply": "2022-03-23T06:58:31.611789Z"
    },
    "papermill": {
     "duration": 46.559041,
     "end_time": "2022-03-23T06:58:31.612493",
     "exception": false,
     "start_time": "2022-03-23T06:57:45.053452",
     "status": "completed"
    },
    "tags": []
   },
   "outputs": [],
   "source": [
    "for ds in p.datasets:\n",
    "    add_dataset(**ds)"
   ]
  },
  {
   "cell_type": "code",
   "execution_count": 14,
   "id": "b90d65ac",
   "metadata": {
    "execution": {
     "iopub.execute_input": "2022-03-23T06:58:31.663261Z",
     "iopub.status.busy": "2022-03-23T06:58:31.662876Z",
     "iopub.status.idle": "2022-03-23T06:58:31.686882Z",
     "shell.execute_reply": "2022-03-23T06:58:31.685721Z"
    },
    "papermill": {
     "duration": 0.048975,
     "end_time": "2022-03-23T06:58:31.687137",
     "exception": false,
     "start_time": "2022-03-23T06:58:31.638162",
     "status": "completed"
    },
    "tags": []
   },
   "outputs": [],
   "source": [
    "# from steves_utils.CORES.utils import (\n",
    "#     ALL_NODES,\n",
    "#     ALL_NODES_MINIMUM_1000_EXAMPLES,\n",
    "#     ALL_DAYS\n",
    "# )\n",
    "\n",
    "# add_dataset(\n",
    "#     labels=ALL_NODES,\n",
    "#     domains = ALL_DAYS,\n",
    "#     num_examples_per_domain_per_label=100,\n",
    "#     pickle_path=os.path.join(get_datasets_base_path(), \"cores.stratified_ds.2022A.pkl\"),\n",
    "#     source_or_target_dataset=\"target\",\n",
    "#     x_transform_func=global_x_transform_func,\n",
    "#     domain_modifier=lambda u: f\"cores_{u}\"\n",
    "# )"
   ]
  },
  {
   "cell_type": "code",
   "execution_count": 15,
   "id": "76db484d",
   "metadata": {
    "execution": {
     "iopub.execute_input": "2022-03-23T06:58:31.738685Z",
     "iopub.status.busy": "2022-03-23T06:58:31.738303Z",
     "iopub.status.idle": "2022-03-23T06:58:31.755481Z",
     "shell.execute_reply": "2022-03-23T06:58:31.754904Z"
    },
    "papermill": {
     "duration": 0.041291,
     "end_time": "2022-03-23T06:58:31.755613",
     "exception": false,
     "start_time": "2022-03-23T06:58:31.714322",
     "status": "completed"
    },
    "tags": []
   },
   "outputs": [],
   "source": [
    "# from steves_utils.ORACLE.utils_v2 import (\n",
    "#     ALL_DISTANCES_FEET,\n",
    "#     ALL_RUNS,\n",
    "#     ALL_SERIAL_NUMBERS,\n",
    "# )\n",
    "\n",
    "\n",
    "# add_dataset(\n",
    "#     labels=ALL_SERIAL_NUMBERS,\n",
    "#     domains = list(set(ALL_DISTANCES_FEET) - {2,62}),\n",
    "#     num_examples_per_domain_per_label=100,\n",
    "#     pickle_path=os.path.join(get_datasets_base_path(), \"oracle.Run2_framed_2000Examples_stratified_ds.2022A.pkl\"),\n",
    "#     source_or_target_dataset=\"source\",\n",
    "#     x_transform_func=global_x_transform_func,\n",
    "#     domain_modifier=lambda u: f\"oracle1_{u}\"\n",
    "# )\n"
   ]
  },
  {
   "cell_type": "code",
   "execution_count": 16,
   "id": "97dea9d2",
   "metadata": {
    "execution": {
     "iopub.execute_input": "2022-03-23T06:58:31.809265Z",
     "iopub.status.busy": "2022-03-23T06:58:31.808251Z",
     "iopub.status.idle": "2022-03-23T06:58:31.828706Z",
     "shell.execute_reply": "2022-03-23T06:58:31.827513Z"
    },
    "papermill": {
     "duration": 0.046817,
     "end_time": "2022-03-23T06:58:31.828955",
     "exception": false,
     "start_time": "2022-03-23T06:58:31.782138",
     "status": "completed"
    },
    "tags": []
   },
   "outputs": [],
   "source": [
    "# from steves_utils.ORACLE.utils_v2 import (\n",
    "#     ALL_DISTANCES_FEET,\n",
    "#     ALL_RUNS,\n",
    "#     ALL_SERIAL_NUMBERS,\n",
    "# )\n",
    "\n",
    "\n",
    "# add_dataset(\n",
    "#     labels=ALL_SERIAL_NUMBERS,\n",
    "#     domains = list(set(ALL_DISTANCES_FEET) - {2,62,56}),\n",
    "#     num_examples_per_domain_per_label=100,\n",
    "#     pickle_path=os.path.join(get_datasets_base_path(), \"oracle.Run2_framed_2000Examples_stratified_ds.2022A.pkl\"),\n",
    "#     source_or_target_dataset=\"source\",\n",
    "#     x_transform_func=global_x_transform_func,\n",
    "#     domain_modifier=lambda u: f\"oracle2_{u}\"\n",
    "# )"
   ]
  },
  {
   "cell_type": "code",
   "execution_count": 17,
   "id": "6f289866",
   "metadata": {
    "execution": {
     "iopub.execute_input": "2022-03-23T06:58:31.883633Z",
     "iopub.status.busy": "2022-03-23T06:58:31.882835Z",
     "iopub.status.idle": "2022-03-23T06:58:31.905458Z",
     "shell.execute_reply": "2022-03-23T06:58:31.904316Z"
    },
    "papermill": {
     "duration": 0.04777,
     "end_time": "2022-03-23T06:58:31.905707",
     "exception": false,
     "start_time": "2022-03-23T06:58:31.857937",
     "status": "completed"
    },
    "tags": []
   },
   "outputs": [],
   "source": [
    "# add_dataset(\n",
    "#     labels=list(range(19)),\n",
    "#     domains = [0,1,2],\n",
    "#     num_examples_per_domain_per_label=100,\n",
    "#     pickle_path=os.path.join(get_datasets_base_path(), \"metehan.stratified_ds.2022A.pkl\"),\n",
    "#     source_or_target_dataset=\"target\",\n",
    "#     x_transform_func=global_x_transform_func,\n",
    "#     domain_modifier=lambda u: f\"met_{u}\"\n",
    "# )"
   ]
  },
  {
   "cell_type": "code",
   "execution_count": 18,
   "id": "86a863c3",
   "metadata": {
    "execution": {
     "iopub.execute_input": "2022-03-23T06:58:31.961377Z",
     "iopub.status.busy": "2022-03-23T06:58:31.959434Z",
     "iopub.status.idle": "2022-03-23T06:58:31.982097Z",
     "shell.execute_reply": "2022-03-23T06:58:31.981263Z"
    },
    "papermill": {
     "duration": 0.047197,
     "end_time": "2022-03-23T06:58:31.982267",
     "exception": false,
     "start_time": "2022-03-23T06:58:31.935070",
     "status": "completed"
    },
    "tags": []
   },
   "outputs": [],
   "source": [
    "# # from steves_utils.wisig.utils import (\n",
    "# #     ALL_NODES_MINIMUM_100_EXAMPLES,\n",
    "# #     ALL_NODES_MINIMUM_500_EXAMPLES,\n",
    "# #     ALL_NODES_MINIMUM_1000_EXAMPLES,\n",
    "# #     ALL_DAYS\n",
    "# # )\n",
    "\n",
    "# import steves_utils.wisig.utils as wisig\n",
    "\n",
    "\n",
    "# add_dataset(\n",
    "#     labels=wisig.ALL_NODES_MINIMUM_100_EXAMPLES,\n",
    "#     domains = wisig.ALL_DAYS,\n",
    "#     num_examples_per_domain_per_label=100,\n",
    "#     pickle_path=os.path.join(get_datasets_base_path(), \"wisig.node3-19.stratified_ds.2022A.pkl\"),\n",
    "#     source_or_target_dataset=\"target\",\n",
    "#     x_transform_func=global_x_transform_func,\n",
    "#     domain_modifier=lambda u: f\"wisig_{u}\"\n",
    "# )"
   ]
  },
  {
   "cell_type": "code",
   "execution_count": 19,
   "id": "fd5442bc",
   "metadata": {
    "execution": {
     "iopub.execute_input": "2022-03-23T06:58:32.044560Z",
     "iopub.status.busy": "2022-03-23T06:58:32.044170Z",
     "iopub.status.idle": "2022-03-23T06:58:32.062252Z",
     "shell.execute_reply": "2022-03-23T06:58:32.061417Z"
    },
    "papermill": {
     "duration": 0.051831,
     "end_time": "2022-03-23T06:58:32.062426",
     "exception": false,
     "start_time": "2022-03-23T06:58:32.010595",
     "status": "completed"
    },
    "tags": []
   },
   "outputs": [],
   "source": [
    "###################################\n",
    "# Build the dataset\n",
    "###################################\n",
    "train_original_source = Iterable_Aggregator(train_original_source, p.seed)\n",
    "val_original_source = Iterable_Aggregator(val_original_source, p.seed)\n",
    "test_original_source = Iterable_Aggregator(test_original_source, p.seed)\n",
    "\n",
    "\n",
    "train_original_target = Iterable_Aggregator(train_original_target, p.seed)\n",
    "val_original_target = Iterable_Aggregator(val_original_target, p.seed)\n",
    "test_original_target = Iterable_Aggregator(test_original_target, p.seed)\n",
    "\n",
    "# For CNN We only use X and Y. And we only train on the source.\n",
    "# Properly form the data using a transform lambda and Lazy_Iterable_Wrapper. Finally wrap them in a dataloader\n",
    "\n",
    "transform_lambda = lambda ex: ex[1] # Original is (<domain>, <episode>) so we strip down to episode only\n",
    "\n",
    "train_processed_source = Lazy_Iterable_Wrapper(train_original_source, transform_lambda)\n",
    "val_processed_source   = Lazy_Iterable_Wrapper(val_original_source, transform_lambda)\n",
    "test_processed_source  = Lazy_Iterable_Wrapper(test_original_source, transform_lambda)\n",
    "\n",
    "train_processed_target = Lazy_Iterable_Wrapper(train_original_target, transform_lambda)\n",
    "val_processed_target   = Lazy_Iterable_Wrapper(val_original_target, transform_lambda)\n",
    "test_processed_target  = Lazy_Iterable_Wrapper(test_original_target, transform_lambda)\n",
    "\n",
    "datasets = EasyDict({\n",
    "    \"source\": {\n",
    "        \"original\": {\"train\":train_original_source, \"val\":val_original_source, \"test\":test_original_source},\n",
    "        \"processed\": {\"train\":train_processed_source, \"val\":val_processed_source, \"test\":test_processed_source}\n",
    "    },\n",
    "    \"target\": {\n",
    "        \"original\": {\"train\":train_original_target, \"val\":val_original_target, \"test\":test_original_target},\n",
    "        \"processed\": {\"train\":train_processed_target, \"val\":val_processed_target, \"test\":test_processed_target}\n",
    "    },\n",
    "})"
   ]
  },
  {
   "cell_type": "code",
   "execution_count": 20,
   "id": "5b3c01fc",
   "metadata": {
    "execution": {
     "iopub.execute_input": "2022-03-23T06:58:32.118547Z",
     "iopub.status.busy": "2022-03-23T06:58:32.117803Z",
     "iopub.status.idle": "2022-03-23T06:58:47.578165Z",
     "shell.execute_reply": "2022-03-23T06:58:47.577708Z"
    },
    "papermill": {
     "duration": 15.486597,
     "end_time": "2022-03-23T06:58:47.578290",
     "exception": false,
     "start_time": "2022-03-23T06:58:32.091693",
     "status": "completed"
    },
    "tags": []
   },
   "outputs": [
    {
     "name": "stdout",
     "output_type": "stream",
     "text": [
      "{'ORACLE.run126', 'ORACLE.run138', 'ORACLE.run132', 'ORACLE.run150', 'ORACLE.run120', 'ORACLE.run114', 'ORACLE.run144', 'ORACLE.run18'}\n"
     ]
    },
    {
     "name": "stdout",
     "output_type": "stream",
     "text": [
      "{'Wisig_2', 'Wisig_1', 'Wisig_3', 'Wisig_4'}\n"
     ]
    },
    {
     "name": "stdout",
     "output_type": "stream",
     "text": [
      "tensor([[[-0.7052, -0.5037, -0.3862,  ...,  0.0000, -0.0672, -0.0504],\n",
      "         [-0.0336, -0.4869,  1.0746,  ...,  0.0840,  1.0578,  0.9067]],\n",
      "\n",
      "        [[ 0.6851,  1.0791,  0.3939,  ...,  0.9592,  1.1990,  0.5652],\n",
      "         [-0.5995,  0.3254,  1.1133,  ...,  0.8050, -0.1713,  0.3083]],\n",
      "\n",
      "        [[ 0.3546, -1.8236, -0.4053,  ..., -0.1013, -0.0844,  0.4221],\n",
      "         [ 0.3715, -0.0844, -0.3208,  ..., -0.8780, -1.5197, -0.9962]],\n",
      "\n",
      "        ...,\n",
      "\n",
      "        [[ 1.0648,  0.6899, -0.1050,  ...,  0.5999, -0.2250,  0.2549],\n",
      "         [-1.0348, -0.8548,  0.2100,  ..., -0.9298, -0.2549, -1.3047]],\n",
      "\n",
      "        [[ 0.6386, -0.6237,  0.4455,  ..., -1.2178,  0.2970,  1.4257],\n",
      "         [-0.2228,  0.7574, -0.2079,  ...,  0.7128,  0.4604, -0.1931]],\n",
      "\n",
      "        [[-0.1064, -0.7297, -0.3192,  ...,  0.0912, -0.5929, -0.2584],\n",
      "         [ 0.0152,  0.2736, -0.7145,  ..., -1.7026, -0.7145,  0.6537]]])\n"
     ]
    }
   ],
   "source": [
    "from steves_utils.transforms import get_average_magnitude, get_average_power\n",
    "\n",
    "print(set([u for u,_ in val_original_source]))\n",
    "print(set([u for u,_ in val_original_target]))\n",
    "\n",
    "s_x, s_y, q_x, q_y, _ = next(iter(train_processed_source))\n",
    "print(s_x)\n",
    "\n",
    "# for ds in [\n",
    "#     train_processed_source,\n",
    "#     val_processed_source,\n",
    "#     test_processed_source,\n",
    "#     train_processed_target,\n",
    "#     val_processed_target,\n",
    "#     test_processed_target\n",
    "# ]:\n",
    "#     for s_x, s_y, q_x, q_y, _ in ds:\n",
    "#         for X in (s_x, q_x):\n",
    "#             for x in X:\n",
    "#                 assert np.isclose(get_average_magnitude(x.numpy()), 1.0)\n",
    "#                 assert np.isclose(get_average_power(x.numpy()), 1.0)\n",
    "                "
   ]
  },
  {
   "cell_type": "code",
   "execution_count": 21,
   "id": "bbdacba1",
   "metadata": {
    "execution": {
     "iopub.execute_input": "2022-03-23T06:58:47.645743Z",
     "iopub.status.busy": "2022-03-23T06:58:47.645337Z",
     "iopub.status.idle": "2022-03-23T06:58:47.873436Z",
     "shell.execute_reply": "2022-03-23T06:58:47.872782Z"
    },
    "papermill": {
     "duration": 0.268011,
     "end_time": "2022-03-23T06:58:47.873593",
     "exception": false,
     "start_time": "2022-03-23T06:58:47.605582",
     "status": "completed"
    },
    "tags": []
   },
   "outputs": [
    {
     "name": "stdout",
     "output_type": "stream",
     "text": [
      "(2, 256)\n"
     ]
    }
   ],
   "source": [
    "###################################\n",
    "# Build the model\n",
    "###################################\n",
    "# easfsl only wants a tuple for the shape\n",
    "model = Steves_Prototypical_Network(x_net, device=p.device, x_shape=tuple(p.x_shape))\n",
    "optimizer = Adam(params=model.parameters(), lr=p.lr)"
   ]
  },
  {
   "cell_type": "code",
   "execution_count": 22,
   "id": "22b39ac5",
   "metadata": {
    "execution": {
     "iopub.execute_input": "2022-03-23T06:58:47.936943Z",
     "iopub.status.busy": "2022-03-23T06:58:47.936443Z",
     "iopub.status.idle": "2022-03-23T07:39:16.996438Z",
     "shell.execute_reply": "2022-03-23T07:39:16.996096Z"
    },
    "papermill": {
     "duration": 2429.091598,
     "end_time": "2022-03-23T07:39:16.996521",
     "exception": false,
     "start_time": "2022-03-23T06:58:47.904923",
     "status": "completed"
    },
    "tags": []
   },
   "outputs": [
    {
     "name": "stdout",
     "output_type": "stream",
     "text": [
      "epoch: 1, [batch: 1 / 6720], examples_per_second: 32.8768, train_label_loss: 2.7869, \n"
     ]
    },
    {
     "name": "stdout",
     "output_type": "stream",
     "text": [
      "epoch: 1, [batch: 672 / 6720], examples_per_second: 2961.6623, train_label_loss: 2.8337, \n"
     ]
    },
    {
     "name": "stdout",
     "output_type": "stream",
     "text": [
      "epoch: 1, [batch: 1344 / 6720], examples_per_second: 2978.0385, train_label_loss: 1.5538, \n"
     ]
    },
    {
     "name": "stdout",
     "output_type": "stream",
     "text": [
      "epoch: 1, [batch: 2016 / 6720], examples_per_second: 3423.2347, train_label_loss: 1.4800, \n"
     ]
    },
    {
     "name": "stdout",
     "output_type": "stream",
     "text": [
      "epoch: 1, [batch: 2688 / 6720], examples_per_second: 3361.1849, train_label_loss: 1.2876, \n"
     ]
    },
    {
     "name": "stdout",
     "output_type": "stream",
     "text": [
      "epoch: 1, [batch: 3360 / 6720], examples_per_second: 3333.9417, train_label_loss: 1.3538, \n"
     ]
    },
    {
     "name": "stdout",
     "output_type": "stream",
     "text": [
      "epoch: 1, [batch: 4032 / 6720], examples_per_second: 3352.7008, train_label_loss: 1.1368, \n"
     ]
    },
    {
     "name": "stdout",
     "output_type": "stream",
     "text": [
      "epoch: 1, [batch: 4704 / 6720], examples_per_second: 3328.0596, train_label_loss: 1.1077, \n"
     ]
    },
    {
     "name": "stdout",
     "output_type": "stream",
     "text": [
      "epoch: 1, [batch: 5376 / 6720], examples_per_second: 3408.5673, train_label_loss: 0.8367, \n"
     ]
    },
    {
     "name": "stdout",
     "output_type": "stream",
     "text": [
      "epoch: 1, [batch: 6048 / 6720], examples_per_second: 3590.8822, train_label_loss: 0.7507, \n"
     ]
    },
    {
     "name": "stdout",
     "output_type": "stream",
     "text": [
      "=============================================================\n",
      "epoch: 1, source_val_acc_label: 0.5332, target_val_acc_label: 0.6354, source_val_label_loss: 1.2148, target_val_label_loss: 5.3196, \n",
      "=============================================================\n"
     ]
    },
    {
     "name": "stdout",
     "output_type": "stream",
     "text": [
      "New best\n"
     ]
    },
    {
     "name": "stdout",
     "output_type": "stream",
     "text": [
      "epoch: 2, [batch: 1 / 6720], examples_per_second: 2.7968, train_label_loss: 0.7767, \n"
     ]
    },
    {
     "name": "stdout",
     "output_type": "stream",
     "text": [
      "epoch: 2, [batch: 672 / 6720], examples_per_second: 2966.6545, train_label_loss: 1.7601, \n"
     ]
    },
    {
     "name": "stdout",
     "output_type": "stream",
     "text": [
      "epoch: 2, [batch: 1344 / 6720], examples_per_second: 3003.8786, train_label_loss: 1.4733, \n"
     ]
    },
    {
     "name": "stdout",
     "output_type": "stream",
     "text": [
      "epoch: 2, [batch: 2016 / 6720], examples_per_second: 2979.6334, train_label_loss: 0.9051, \n"
     ]
    },
    {
     "name": "stdout",
     "output_type": "stream",
     "text": [
      "epoch: 2, [batch: 2688 / 6720], examples_per_second: 3087.5791, train_label_loss: 0.6785, \n"
     ]
    },
    {
     "name": "stdout",
     "output_type": "stream",
     "text": [
      "epoch: 2, [batch: 3360 / 6720], examples_per_second: 3416.1607, train_label_loss: 1.1101, \n"
     ]
    },
    {
     "name": "stdout",
     "output_type": "stream",
     "text": [
      "epoch: 2, [batch: 4032 / 6720], examples_per_second: 3442.8486, train_label_loss: 1.4509, \n"
     ]
    },
    {
     "name": "stdout",
     "output_type": "stream",
     "text": [
      "epoch: 2, [batch: 4704 / 6720], examples_per_second: 3664.2732, train_label_loss: 0.7205, \n"
     ]
    },
    {
     "name": "stdout",
     "output_type": "stream",
     "text": [
      "epoch: 2, [batch: 5376 / 6720], examples_per_second: 3612.5692, train_label_loss: 0.5244, \n"
     ]
    },
    {
     "name": "stdout",
     "output_type": "stream",
     "text": [
      "epoch: 2, [batch: 6048 / 6720], examples_per_second: 3760.8814, train_label_loss: 0.7631, \n"
     ]
    },
    {
     "name": "stdout",
     "output_type": "stream",
     "text": [
      "=============================================================\n",
      "epoch: 2, source_val_acc_label: 0.5951, target_val_acc_label: 0.6728, source_val_label_loss: 1.0720, target_val_label_loss: 7.3575, \n",
      "=============================================================\n"
     ]
    },
    {
     "name": "stdout",
     "output_type": "stream",
     "text": [
      "New best\n"
     ]
    },
    {
     "name": "stdout",
     "output_type": "stream",
     "text": [
      "epoch: 3, [batch: 1 / 6720], examples_per_second: 4.1666, train_label_loss: 1.4440, \n"
     ]
    },
    {
     "name": "stdout",
     "output_type": "stream",
     "text": [
      "epoch: 3, [batch: 672 / 6720], examples_per_second: 3124.7493, train_label_loss: 0.7887, \n"
     ]
    },
    {
     "name": "stdout",
     "output_type": "stream",
     "text": [
      "epoch: 3, [batch: 1344 / 6720], examples_per_second: 2981.5209, train_label_loss: 0.6207, \n"
     ]
    },
    {
     "name": "stdout",
     "output_type": "stream",
     "text": [
      "epoch: 3, [batch: 2016 / 6720], examples_per_second: 2991.3719, train_label_loss: 0.6176, \n"
     ]
    },
    {
     "name": "stdout",
     "output_type": "stream",
     "text": [
      "epoch: 3, [batch: 2688 / 6720], examples_per_second: 2976.8920, train_label_loss: 0.8351, \n"
     ]
    },
    {
     "name": "stdout",
     "output_type": "stream",
     "text": [
      "epoch: 3, [batch: 3360 / 6720], examples_per_second: 3005.4540, train_label_loss: 1.0898, \n"
     ]
    },
    {
     "name": "stdout",
     "output_type": "stream",
     "text": [
      "epoch: 3, [batch: 4032 / 6720], examples_per_second: 3042.4355, train_label_loss: 0.8026, \n"
     ]
    },
    {
     "name": "stdout",
     "output_type": "stream",
     "text": [
      "epoch: 3, [batch: 4704 / 6720], examples_per_second: 3012.9626, train_label_loss: 0.5290, \n"
     ]
    },
    {
     "name": "stdout",
     "output_type": "stream",
     "text": [
      "epoch: 3, [batch: 5376 / 6720], examples_per_second: 3060.9959, train_label_loss: 1.1351, \n"
     ]
    },
    {
     "name": "stdout",
     "output_type": "stream",
     "text": [
      "epoch: 3, [batch: 6048 / 6720], examples_per_second: 2997.3434, train_label_loss: 0.5190, \n"
     ]
    },
    {
     "name": "stdout",
     "output_type": "stream",
     "text": [
      "=============================================================\n",
      "epoch: 3, source_val_acc_label: 0.6035, target_val_acc_label: 0.6671, source_val_label_loss: 1.0648, target_val_label_loss: 8.8215, \n",
      "=============================================================\n"
     ]
    },
    {
     "name": "stdout",
     "output_type": "stream",
     "text": [
      "epoch: 4, [batch: 1 / 6720], examples_per_second: 3.1173, train_label_loss: 0.7400, \n"
     ]
    },
    {
     "name": "stdout",
     "output_type": "stream",
     "text": [
      "epoch: 4, [batch: 672 / 6720], examples_per_second: 3293.9991, train_label_loss: 0.7054, \n"
     ]
    },
    {
     "name": "stdout",
     "output_type": "stream",
     "text": [
      "epoch: 4, [batch: 1344 / 6720], examples_per_second: 3375.7576, train_label_loss: 0.7176, \n"
     ]
    },
    {
     "name": "stdout",
     "output_type": "stream",
     "text": [
      "epoch: 4, [batch: 2016 / 6720], examples_per_second: 3429.7813, train_label_loss: 0.8129, \n"
     ]
    },
    {
     "name": "stdout",
     "output_type": "stream",
     "text": [
      "epoch: 4, [batch: 2688 / 6720], examples_per_second: 3429.1168, train_label_loss: 0.9500, \n"
     ]
    },
    {
     "name": "stdout",
     "output_type": "stream",
     "text": [
      "epoch: 4, [batch: 3360 / 6720], examples_per_second: 3034.3738, train_label_loss: 0.9315, \n"
     ]
    },
    {
     "name": "stdout",
     "output_type": "stream",
     "text": [
      "epoch: 4, [batch: 4032 / 6720], examples_per_second: 2963.2134, train_label_loss: 1.0799, \n"
     ]
    },
    {
     "name": "stdout",
     "output_type": "stream",
     "text": [
      "epoch: 4, [batch: 4704 / 6720], examples_per_second: 2973.8120, train_label_loss: 0.9770, \n"
     ]
    },
    {
     "name": "stdout",
     "output_type": "stream",
     "text": [
      "epoch: 4, [batch: 5376 / 6720], examples_per_second: 2995.0785, train_label_loss: 0.7851, \n"
     ]
    },
    {
     "name": "stdout",
     "output_type": "stream",
     "text": [
      "epoch: 4, [batch: 6048 / 6720], examples_per_second: 2993.9312, train_label_loss: 0.6662, \n"
     ]
    },
    {
     "name": "stdout",
     "output_type": "stream",
     "text": [
      "=============================================================\n",
      "epoch: 4, source_val_acc_label: 0.6122, target_val_acc_label: 0.6694, source_val_label_loss: 1.0772, target_val_label_loss: 10.0512, \n",
      "=============================================================\n"
     ]
    },
    {
     "name": "stdout",
     "output_type": "stream",
     "text": [
      "epoch: 5, [batch: 1 / 6720], examples_per_second: 2.7638, train_label_loss: 0.3919, \n"
     ]
    },
    {
     "name": "stdout",
     "output_type": "stream",
     "text": [
      "epoch: 5, [batch: 672 / 6720], examples_per_second: 3152.8823, train_label_loss: 0.7686, \n"
     ]
    },
    {
     "name": "stdout",
     "output_type": "stream",
     "text": [
      "epoch: 5, [batch: 1344 / 6720], examples_per_second: 3490.6710, train_label_loss: 0.4934, \n"
     ]
    },
    {
     "name": "stdout",
     "output_type": "stream",
     "text": [
      "epoch: 5, [batch: 2016 / 6720], examples_per_second: 3394.7147, train_label_loss: 0.2758, \n"
     ]
    },
    {
     "name": "stdout",
     "output_type": "stream",
     "text": [
      "epoch: 5, [batch: 2688 / 6720], examples_per_second: 3324.6589, train_label_loss: 0.7582, \n"
     ]
    },
    {
     "name": "stdout",
     "output_type": "stream",
     "text": [
      "epoch: 5, [batch: 3360 / 6720], examples_per_second: 3359.6047, train_label_loss: 0.5569, \n"
     ]
    },
    {
     "name": "stdout",
     "output_type": "stream",
     "text": [
      "epoch: 5, [batch: 4032 / 6720], examples_per_second: 3358.6030, train_label_loss: 0.5279, \n"
     ]
    },
    {
     "name": "stdout",
     "output_type": "stream",
     "text": [
      "epoch: 5, [batch: 4704 / 6720], examples_per_second: 3482.5257, train_label_loss: 0.3079, \n"
     ]
    },
    {
     "name": "stdout",
     "output_type": "stream",
     "text": [
      "epoch: 5, [batch: 5376 / 6720], examples_per_second: 3162.6892, train_label_loss: 0.5652, \n"
     ]
    },
    {
     "name": "stdout",
     "output_type": "stream",
     "text": [
      "epoch: 5, [batch: 6048 / 6720], examples_per_second: 2984.2627, train_label_loss: 0.6419, \n"
     ]
    },
    {
     "name": "stdout",
     "output_type": "stream",
     "text": [
      "=============================================================\n",
      "epoch: 5, source_val_acc_label: 0.6069, target_val_acc_label: 0.6752, source_val_label_loss: 1.1173, target_val_label_loss: 11.3331, \n",
      "=============================================================\n"
     ]
    },
    {
     "name": "stdout",
     "output_type": "stream",
     "text": [
      "New best\n"
     ]
    },
    {
     "name": "stdout",
     "output_type": "stream",
     "text": [
      "epoch: 6, [batch: 1 / 6720], examples_per_second: 2.7763, train_label_loss: 0.6702, \n"
     ]
    },
    {
     "name": "stdout",
     "output_type": "stream",
     "text": [
      "epoch: 6, [batch: 672 / 6720], examples_per_second: 3015.4497, train_label_loss: 0.5299, \n"
     ]
    },
    {
     "name": "stdout",
     "output_type": "stream",
     "text": [
      "epoch: 6, [batch: 1344 / 6720], examples_per_second: 3020.5261, train_label_loss: 0.8219, \n"
     ]
    },
    {
     "name": "stdout",
     "output_type": "stream",
     "text": [
      "epoch: 6, [batch: 2016 / 6720], examples_per_second: 2991.1176, train_label_loss: 0.4917, \n"
     ]
    },
    {
     "name": "stdout",
     "output_type": "stream",
     "text": [
      "epoch: 6, [batch: 2688 / 6720], examples_per_second: 2964.1552, train_label_loss: 0.3725, \n"
     ]
    },
    {
     "name": "stdout",
     "output_type": "stream",
     "text": [
      "epoch: 6, [batch: 3360 / 6720], examples_per_second: 3314.3669, train_label_loss: 0.1822, \n"
     ]
    },
    {
     "name": "stdout",
     "output_type": "stream",
     "text": [
      "epoch: 6, [batch: 4032 / 6720], examples_per_second: 3405.2225, train_label_loss: 0.8184, \n"
     ]
    },
    {
     "name": "stdout",
     "output_type": "stream",
     "text": [
      "epoch: 6, [batch: 4704 / 6720], examples_per_second: 3390.4933, train_label_loss: 0.8273, \n"
     ]
    },
    {
     "name": "stdout",
     "output_type": "stream",
     "text": [
      "epoch: 6, [batch: 5376 / 6720], examples_per_second: 3424.7846, train_label_loss: 0.4230, \n"
     ]
    },
    {
     "name": "stdout",
     "output_type": "stream",
     "text": [
      "epoch: 6, [batch: 6048 / 6720], examples_per_second: 3475.1713, train_label_loss: 0.5456, \n"
     ]
    },
    {
     "name": "stdout",
     "output_type": "stream",
     "text": [
      "=============================================================\n",
      "epoch: 6, source_val_acc_label: 0.5968, target_val_acc_label: 0.6759, source_val_label_loss: 1.1932, target_val_label_loss: 12.9779, \n",
      "=============================================================\n"
     ]
    },
    {
     "name": "stdout",
     "output_type": "stream",
     "text": [
      "New best\n"
     ]
    },
    {
     "name": "stdout",
     "output_type": "stream",
     "text": [
      "epoch: 7, [batch: 1 / 6720], examples_per_second: 3.2161, train_label_loss: 0.5837, \n"
     ]
    },
    {
     "name": "stdout",
     "output_type": "stream",
     "text": [
      "epoch: 7, [batch: 672 / 6720], examples_per_second: 3273.1015, train_label_loss: 0.2470, \n"
     ]
    },
    {
     "name": "stdout",
     "output_type": "stream",
     "text": [
      "epoch: 7, [batch: 1344 / 6720], examples_per_second: 3389.7641, train_label_loss: 0.7278, \n"
     ]
    },
    {
     "name": "stdout",
     "output_type": "stream",
     "text": [
      "epoch: 7, [batch: 2016 / 6720], examples_per_second: 3408.5873, train_label_loss: 0.4914, \n"
     ]
    },
    {
     "name": "stdout",
     "output_type": "stream",
     "text": [
      "epoch: 7, [batch: 2688 / 6720], examples_per_second: 3462.0886, train_label_loss: 0.5310, \n"
     ]
    },
    {
     "name": "stdout",
     "output_type": "stream",
     "text": [
      "epoch: 7, [batch: 3360 / 6720], examples_per_second: 3441.9977, train_label_loss: 0.8141, \n"
     ]
    },
    {
     "name": "stdout",
     "output_type": "stream",
     "text": [
      "epoch: 7, [batch: 4032 / 6720], examples_per_second: 3599.9306, train_label_loss: 0.2190, \n"
     ]
    },
    {
     "name": "stdout",
     "output_type": "stream",
     "text": [
      "epoch: 7, [batch: 4704 / 6720], examples_per_second: 3439.3997, train_label_loss: 0.6990, \n"
     ]
    },
    {
     "name": "stdout",
     "output_type": "stream",
     "text": [
      "epoch: 7, [batch: 5376 / 6720], examples_per_second: 4030.3533, train_label_loss: 0.5225, \n"
     ]
    },
    {
     "name": "stdout",
     "output_type": "stream",
     "text": [
      "epoch: 7, [batch: 6048 / 6720], examples_per_second: 4132.2116, train_label_loss: 0.4167, \n"
     ]
    },
    {
     "name": "stdout",
     "output_type": "stream",
     "text": [
      "=============================================================\n",
      "epoch: 7, source_val_acc_label: 0.5993, target_val_acc_label: 0.6706, source_val_label_loss: 1.2705, target_val_label_loss: 14.3199, \n",
      "=============================================================\n"
     ]
    },
    {
     "name": "stdout",
     "output_type": "stream",
     "text": [
      "epoch: 8, [batch: 1 / 6720], examples_per_second: 3.1220, train_label_loss: 0.4575, \n"
     ]
    },
    {
     "name": "stdout",
     "output_type": "stream",
     "text": [
      "epoch: 8, [batch: 672 / 6720], examples_per_second: 3348.8412, train_label_loss: 0.5431, \n"
     ]
    },
    {
     "name": "stdout",
     "output_type": "stream",
     "text": [
      "epoch: 8, [batch: 1344 / 6720], examples_per_second: 3723.0439, train_label_loss: 0.4909, \n"
     ]
    },
    {
     "name": "stdout",
     "output_type": "stream",
     "text": [
      "epoch: 8, [batch: 2016 / 6720], examples_per_second: 3033.7151, train_label_loss: 0.5944, \n"
     ]
    },
    {
     "name": "stdout",
     "output_type": "stream",
     "text": [
      "epoch: 8, [batch: 2688 / 6720], examples_per_second: 2985.8839, train_label_loss: 0.4121, \n"
     ]
    },
    {
     "name": "stdout",
     "output_type": "stream",
     "text": [
      "epoch: 8, [batch: 3360 / 6720], examples_per_second: 3006.1158, train_label_loss: 0.3272, \n"
     ]
    },
    {
     "name": "stdout",
     "output_type": "stream",
     "text": [
      "epoch: 8, [batch: 4032 / 6720], examples_per_second: 3012.3755, train_label_loss: 0.9833, \n"
     ]
    },
    {
     "name": "stdout",
     "output_type": "stream",
     "text": [
      "epoch: 8, [batch: 4704 / 6720], examples_per_second: 3001.6143, train_label_loss: 0.0907, \n"
     ]
    },
    {
     "name": "stdout",
     "output_type": "stream",
     "text": [
      "epoch: 8, [batch: 5376 / 6720], examples_per_second: 3007.6182, train_label_loss: 0.4523, \n"
     ]
    },
    {
     "name": "stdout",
     "output_type": "stream",
     "text": [
      "epoch: 8, [batch: 6048 / 6720], examples_per_second: 3008.8381, train_label_loss: 0.4937, \n"
     ]
    },
    {
     "name": "stdout",
     "output_type": "stream",
     "text": [
      "=============================================================\n",
      "epoch: 8, source_val_acc_label: 0.6021, target_val_acc_label: 0.6924, source_val_label_loss: 1.3629, target_val_label_loss: 15.3671, \n",
      "=============================================================\n"
     ]
    },
    {
     "name": "stdout",
     "output_type": "stream",
     "text": [
      "New best\n"
     ]
    },
    {
     "name": "stdout",
     "output_type": "stream",
     "text": [
      "epoch: 9, [batch: 1 / 6720], examples_per_second: 2.8439, train_label_loss: 0.2982, \n"
     ]
    },
    {
     "name": "stdout",
     "output_type": "stream",
     "text": [
      "epoch: 9, [batch: 672 / 6720], examples_per_second: 3336.3225, train_label_loss: 0.1474, \n"
     ]
    },
    {
     "name": "stdout",
     "output_type": "stream",
     "text": [
      "epoch: 9, [batch: 1344 / 6720], examples_per_second: 3383.0368, train_label_loss: 0.4240, \n"
     ]
    },
    {
     "name": "stdout",
     "output_type": "stream",
     "text": [
      "epoch: 9, [batch: 2016 / 6720], examples_per_second: 3436.1703, train_label_loss: 0.2008, \n"
     ]
    },
    {
     "name": "stdout",
     "output_type": "stream",
     "text": [
      "epoch: 9, [batch: 2688 / 6720], examples_per_second: 3436.8966, train_label_loss: 0.4414, \n"
     ]
    },
    {
     "name": "stdout",
     "output_type": "stream",
     "text": [
      "epoch: 9, [batch: 3360 / 6720], examples_per_second: 3352.9090, train_label_loss: 0.3823, \n"
     ]
    },
    {
     "name": "stdout",
     "output_type": "stream",
     "text": [
      "epoch: 9, [batch: 4032 / 6720], examples_per_second: 3510.6252, train_label_loss: 0.1638, \n"
     ]
    },
    {
     "name": "stdout",
     "output_type": "stream",
     "text": [
      "epoch: 9, [batch: 4704 / 6720], examples_per_second: 3051.3171, train_label_loss: 0.4009, \n"
     ]
    },
    {
     "name": "stdout",
     "output_type": "stream",
     "text": [
      "epoch: 9, [batch: 5376 / 6720], examples_per_second: 2970.1187, train_label_loss: 0.2044, \n"
     ]
    },
    {
     "name": "stdout",
     "output_type": "stream",
     "text": [
      "epoch: 9, [batch: 6048 / 6720], examples_per_second: 3018.6357, train_label_loss: 0.7196, \n"
     ]
    },
    {
     "name": "stdout",
     "output_type": "stream",
     "text": [
      "=============================================================\n",
      "epoch: 9, source_val_acc_label: 0.5994, target_val_acc_label: 0.6859, source_val_label_loss: 1.4539, target_val_label_loss: 16.9520, \n",
      "=============================================================\n"
     ]
    },
    {
     "name": "stdout",
     "output_type": "stream",
     "text": [
      "epoch: 10, [batch: 1 / 6720], examples_per_second: 2.7832, train_label_loss: 0.3038, \n"
     ]
    },
    {
     "name": "stdout",
     "output_type": "stream",
     "text": [
      "epoch: 10, [batch: 672 / 6720], examples_per_second: 2977.6321, train_label_loss: 0.1928, \n"
     ]
    },
    {
     "name": "stdout",
     "output_type": "stream",
     "text": [
      "epoch: 10, [batch: 1344 / 6720], examples_per_second: 3003.1878, train_label_loss: 0.1762, \n"
     ]
    },
    {
     "name": "stdout",
     "output_type": "stream",
     "text": [
      "epoch: 10, [batch: 2016 / 6720], examples_per_second: 3147.9157, train_label_loss: 0.1600, \n"
     ]
    },
    {
     "name": "stdout",
     "output_type": "stream",
     "text": [
      "epoch: 10, [batch: 2688 / 6720], examples_per_second: 3482.0532, train_label_loss: 0.4148, \n"
     ]
    },
    {
     "name": "stdout",
     "output_type": "stream",
     "text": [
      "epoch: 10, [batch: 3360 / 6720], examples_per_second: 3462.4355, train_label_loss: 0.4033, \n"
     ]
    },
    {
     "name": "stdout",
     "output_type": "stream",
     "text": [
      "epoch: 10, [batch: 4032 / 6720], examples_per_second: 3337.4685, train_label_loss: 0.1502, \n"
     ]
    },
    {
     "name": "stdout",
     "output_type": "stream",
     "text": [
      "epoch: 10, [batch: 4704 / 6720], examples_per_second: 3373.6333, train_label_loss: 0.2146, \n"
     ]
    },
    {
     "name": "stdout",
     "output_type": "stream",
     "text": [
      "epoch: 10, [batch: 5376 / 6720], examples_per_second: 3403.7749, train_label_loss: 0.1187, \n"
     ]
    },
    {
     "name": "stdout",
     "output_type": "stream",
     "text": [
      "epoch: 10, [batch: 6048 / 6720], examples_per_second: 3395.2934, train_label_loss: 0.0862, \n"
     ]
    },
    {
     "name": "stdout",
     "output_type": "stream",
     "text": [
      "=============================================================\n",
      "epoch: 10, source_val_acc_label: 0.5904, target_val_acc_label: 0.6849, source_val_label_loss: 1.5289, target_val_label_loss: 17.8387, \n",
      "=============================================================\n"
     ]
    },
    {
     "name": "stdout",
     "output_type": "stream",
     "text": [
      "epoch: 11, [batch: 1 / 6720], examples_per_second: 2.9561, train_label_loss: 0.1268, \n"
     ]
    },
    {
     "name": "stdout",
     "output_type": "stream",
     "text": [
      "epoch: 11, [batch: 672 / 6720], examples_per_second: 2972.8163, train_label_loss: 0.1251, \n"
     ]
    },
    {
     "name": "stdout",
     "output_type": "stream",
     "text": [
      "epoch: 11, [batch: 1344 / 6720], examples_per_second: 3005.0283, train_label_loss: 0.5171, \n"
     ]
    },
    {
     "name": "stdout",
     "output_type": "stream",
     "text": [
      "epoch: 11, [batch: 2016 / 6720], examples_per_second: 2965.3904, train_label_loss: 0.3318, \n"
     ]
    },
    {
     "name": "stdout",
     "output_type": "stream",
     "text": [
      "epoch: 11, [batch: 2688 / 6720], examples_per_second: 3001.4629, train_label_loss: 0.1771, \n"
     ]
    },
    {
     "name": "stdout",
     "output_type": "stream",
     "text": [
      "epoch: 11, [batch: 3360 / 6720], examples_per_second: 2961.0224, train_label_loss: 0.4997, \n"
     ]
    },
    {
     "name": "stdout",
     "output_type": "stream",
     "text": [
      "epoch: 11, [batch: 4032 / 6720], examples_per_second: 2968.6907, train_label_loss: 0.6459, \n"
     ]
    },
    {
     "name": "stdout",
     "output_type": "stream",
     "text": [
      "epoch: 11, [batch: 4704 / 6720], examples_per_second: 3136.5022, train_label_loss: 0.2481, \n"
     ]
    },
    {
     "name": "stdout",
     "output_type": "stream",
     "text": [
      "epoch: 11, [batch: 5376 / 6720], examples_per_second: 3418.1019, train_label_loss: 0.4029, \n"
     ]
    },
    {
     "name": "stdout",
     "output_type": "stream",
     "text": [
      "epoch: 11, [batch: 6048 / 6720], examples_per_second: 3370.9677, train_label_loss: 0.1930, \n"
     ]
    },
    {
     "name": "stdout",
     "output_type": "stream",
     "text": [
      "=============================================================\n",
      "epoch: 11, source_val_acc_label: 0.5981, target_val_acc_label: 0.6812, source_val_label_loss: 1.6019, target_val_label_loss: 19.2283, \n",
      "=============================================================\n"
     ]
    },
    {
     "name": "stdout",
     "output_type": "stream",
     "text": [
      "epoch: 12, [batch: 1 / 6720], examples_per_second: 3.4509, train_label_loss: 0.3985, \n"
     ]
    },
    {
     "name": "stdout",
     "output_type": "stream",
     "text": [
      "epoch: 12, [batch: 672 / 6720], examples_per_second: 3737.3971, train_label_loss: 0.7034, \n"
     ]
    },
    {
     "name": "stdout",
     "output_type": "stream",
     "text": [
      "epoch: 12, [batch: 1344 / 6720], examples_per_second: 3375.9917, train_label_loss: 0.1224, \n"
     ]
    },
    {
     "name": "stdout",
     "output_type": "stream",
     "text": [
      "epoch: 12, [batch: 2016 / 6720], examples_per_second: 3747.9061, train_label_loss: 0.3333, \n"
     ]
    },
    {
     "name": "stdout",
     "output_type": "stream",
     "text": [
      "epoch: 12, [batch: 2688 / 6720], examples_per_second: 3673.7152, train_label_loss: 0.4005, \n"
     ]
    },
    {
     "name": "stdout",
     "output_type": "stream",
     "text": [
      "epoch: 12, [batch: 3360 / 6720], examples_per_second: 3037.7152, train_label_loss: 0.3680, \n"
     ]
    },
    {
     "name": "stdout",
     "output_type": "stream",
     "text": [
      "epoch: 12, [batch: 4032 / 6720], examples_per_second: 2961.8600, train_label_loss: 0.1874, \n"
     ]
    },
    {
     "name": "stdout",
     "output_type": "stream",
     "text": [
      "epoch: 12, [batch: 4704 / 6720], examples_per_second: 2989.7160, train_label_loss: 0.1912, \n"
     ]
    },
    {
     "name": "stdout",
     "output_type": "stream",
     "text": [
      "epoch: 12, [batch: 5376 / 6720], examples_per_second: 2943.6983, train_label_loss: 0.2475, \n"
     ]
    },
    {
     "name": "stdout",
     "output_type": "stream",
     "text": [
      "epoch: 12, [batch: 6048 / 6720], examples_per_second: 2938.7137, train_label_loss: 0.4080, \n"
     ]
    },
    {
     "name": "stdout",
     "output_type": "stream",
     "text": [
      "=============================================================\n",
      "epoch: 12, source_val_acc_label: 0.5924, target_val_acc_label: 0.6810, source_val_label_loss: 1.6782, target_val_label_loss: 20.3288, \n",
      "=============================================================\n"
     ]
    },
    {
     "name": "stdout",
     "output_type": "stream",
     "text": [
      "Patience (3) exhausted\n"
     ]
    }
   ],
   "source": [
    "###################################\n",
    "# train\n",
    "###################################\n",
    "jig = PTN_Train_Eval_Test_Jig(model, p.BEST_MODEL_PATH, p.device)\n",
    "\n",
    "jig.train(\n",
    "    train_iterable=datasets.source.processed.train,\n",
    "    source_val_iterable=datasets.source.processed.val,\n",
    "    target_val_iterable=datasets.target.processed.val,\n",
    "    num_epochs=p.n_epoch,\n",
    "    num_logs_per_epoch=p.NUM_LOGS_PER_EPOCH,\n",
    "    patience=p.patience,\n",
    "    optimizer=optimizer,\n",
    "    criteria_for_best=p.criteria_for_best,\n",
    ")"
   ]
  },
  {
   "cell_type": "code",
   "execution_count": 23,
   "id": "31e8fabf",
   "metadata": {
    "execution": {
     "iopub.execute_input": "2022-03-23T07:39:17.122580Z",
     "iopub.status.busy": "2022-03-23T07:39:17.122027Z",
     "iopub.status.idle": "2022-03-23T07:39:17.154819Z",
     "shell.execute_reply": "2022-03-23T07:39:17.154147Z"
    },
    "papermill": {
     "duration": 0.097961,
     "end_time": "2022-03-23T07:39:17.154983",
     "exception": false,
     "start_time": "2022-03-23T07:39:17.057022",
     "status": "completed"
    },
    "tags": []
   },
   "outputs": [],
   "source": [
    "total_experiment_time_secs = time.time() - start_time_secs"
   ]
  },
  {
   "cell_type": "code",
   "execution_count": 24,
   "id": "87b9595b",
   "metadata": {
    "execution": {
     "iopub.execute_input": "2022-03-23T07:39:17.284504Z",
     "iopub.status.busy": "2022-03-23T07:39:17.284115Z",
     "iopub.status.idle": "2022-03-23T07:42:50.449602Z",
     "shell.execute_reply": "2022-03-23T07:42:50.450314Z"
    },
    "papermill": {
     "duration": 213.232029,
     "end_time": "2022-03-23T07:42:50.450541",
     "exception": false,
     "start_time": "2022-03-23T07:39:17.218512",
     "status": "completed"
    },
    "tags": []
   },
   "outputs": [],
   "source": [
    "###################################\n",
    "# Evaluate the model\n",
    "###################################\n",
    "source_test_label_accuracy, source_test_label_loss = jig.test(datasets.source.processed.test)\n",
    "target_test_label_accuracy, target_test_label_loss = jig.test(datasets.target.processed.test)\n",
    "\n",
    "source_val_label_accuracy, source_val_label_loss = jig.test(datasets.source.processed.val)\n",
    "target_val_label_accuracy, target_val_label_loss = jig.test(datasets.target.processed.val)\n",
    "\n",
    "history = jig.get_history()\n",
    "\n",
    "total_epochs_trained = len(history[\"epoch_indices\"])\n",
    "\n",
    "val_dl = Iterable_Aggregator((datasets.source.original.val,datasets.target.original.val))\n",
    "\n",
    "confusion = ptn_confusion_by_domain_over_dataloader(model, p.device, val_dl)\n",
    "per_domain_accuracy = per_domain_accuracy_from_confusion(confusion)\n",
    "\n",
    "# Add a key to per_domain_accuracy for if it was a source domain\n",
    "for domain, accuracy in per_domain_accuracy.items():\n",
    "    per_domain_accuracy[domain] = {\n",
    "        \"accuracy\": accuracy,\n",
    "        \"source?\": domain in p.domains_source\n",
    "    }\n",
    "\n",
    "# Do an independent accuracy assesment JUST TO BE SURE!\n",
    "# _source_test_label_accuracy = independent_accuracy_assesment(model, datasets.source.processed.test, p.device)\n",
    "# _target_test_label_accuracy = independent_accuracy_assesment(model, datasets.target.processed.test, p.device)\n",
    "# _source_val_label_accuracy = independent_accuracy_assesment(model, datasets.source.processed.val, p.device)\n",
    "# _target_val_label_accuracy = independent_accuracy_assesment(model, datasets.target.processed.val, p.device)\n",
    "\n",
    "# assert(_source_test_label_accuracy == source_test_label_accuracy)\n",
    "# assert(_target_test_label_accuracy == target_test_label_accuracy)\n",
    "# assert(_source_val_label_accuracy == source_val_label_accuracy)\n",
    "# assert(_target_val_label_accuracy == target_val_label_accuracy)\n",
    "\n",
    "experiment = {\n",
    "    \"experiment_name\": p.experiment_name,\n",
    "    \"parameters\": dict(p),\n",
    "    \"results\": {\n",
    "        \"source_test_label_accuracy\": source_test_label_accuracy,\n",
    "        \"source_test_label_loss\": source_test_label_loss,\n",
    "        \"target_test_label_accuracy\": target_test_label_accuracy,\n",
    "        \"target_test_label_loss\": target_test_label_loss,\n",
    "        \"source_val_label_accuracy\": source_val_label_accuracy,\n",
    "        \"source_val_label_loss\": source_val_label_loss,\n",
    "        \"target_val_label_accuracy\": target_val_label_accuracy,\n",
    "        \"target_val_label_loss\": target_val_label_loss,\n",
    "        \"total_epochs_trained\": total_epochs_trained,\n",
    "        \"total_experiment_time_secs\": total_experiment_time_secs,\n",
    "        \"confusion\": confusion,\n",
    "        \"per_domain_accuracy\": per_domain_accuracy,\n",
    "    },\n",
    "    \"history\": history,\n",
    "    \"dataset_metrics\": get_dataset_metrics(datasets, \"ptn\"),\n",
    "}"
   ]
  },
  {
   "cell_type": "code",
   "execution_count": 25,
   "id": "54a21829",
   "metadata": {
    "execution": {
     "iopub.execute_input": "2022-03-23T07:42:50.585165Z",
     "iopub.status.busy": "2022-03-23T07:42:50.584789Z",
     "iopub.status.idle": "2022-03-23T07:42:50.810941Z",
     "shell.execute_reply": "2022-03-23T07:42:50.811655Z"
    },
    "papermill": {
     "duration": 0.292051,
     "end_time": "2022-03-23T07:42:50.811867",
     "exception": false,
     "start_time": "2022-03-23T07:42:50.519816",
     "status": "completed"
    },
    "tags": []
   },
   "outputs": [
    {
     "data": {
      "image/png": "[encoded data removed]",
      "text/plain": [
       "<Figure size 1080x504 with 1 Axes>"
      ]
     },
     "metadata": {
      "needs_background": "light"
     },
     "output_type": "display_data"
    }
   ],
   "source": [
    "ax = get_loss_curve(experiment)\n",
    "plt.show()"
   ]
  },
  {
   "cell_type": "code",
   "execution_count": 26,
   "id": "fd8a0f60",
   "metadata": {
    "execution": {
     "iopub.execute_input": "2022-03-23T07:42:50.946403Z",
     "iopub.status.busy": "2022-03-23T07:42:50.946016Z",
     "iopub.status.idle": "2022-03-23T07:42:51.277752Z",
     "shell.execute_reply": "2022-03-23T07:42:51.278427Z"
    },
    "papermill": {
     "duration": 0.397267,
     "end_time": "2022-03-23T07:42:51.278640",
     "exception": false,
     "start_time": "2022-03-23T07:42:50.881373",
     "status": "completed"
    },
    "tags": []
   },
   "outputs": [
    {
     "data": {
      "text/plain": [
       "<AxesSubplot:title={'center':'Results'}>"
      ]
     },
     "execution_count": 26,
     "metadata": {},
     "output_type": "execute_result"
    },
    {
     "data": {
      "image/png": "[encoded data removed]",
      "text/plain": [
       "<Figure size 1080x504 with 1 Axes>"
      ]
     },
     "metadata": {
      "needs_background": "light"
     },
     "output_type": "display_data"
    }
   ],
   "source": [
    "get_results_table(experiment)"
   ]
  },
  {
   "cell_type": "code",
   "execution_count": 27,
   "id": "cf8dc689",
   "metadata": {
    "execution": {
     "iopub.execute_input": "2022-03-23T07:42:51.414630Z",
     "iopub.status.busy": "2022-03-23T07:42:51.414261Z",
     "iopub.status.idle": "2022-03-23T07:42:51.667317Z",
     "shell.execute_reply": "2022-03-23T07:42:51.668038Z"
    },
    "papermill": {
     "duration": 0.320555,
     "end_time": "2022-03-23T07:42:51.668250",
     "exception": false,
     "start_time": "2022-03-23T07:42:51.347695",
     "status": "completed"
    },
    "tags": []
   },
   "outputs": [
    {
     "data": {
      "text/plain": [
       "<AxesSubplot:title={'center':'Per Domain Validation Accuracy'}, xlabel='domain'>"
      ]
     },
     "execution_count": 27,
     "metadata": {},
     "output_type": "execute_result"
    },
    {
     "data": {
      "image/png": "[encoded data removed]",
      "text/plain": [
       "<Figure size 1080x504 with 1 Axes>"
      ]
     },
     "metadata": {
      "needs_background": "light"
     },
     "output_type": "display_data"
    }
   ],
   "source": [
    "get_domain_accuracies(experiment)"
   ]
  },
  {
   "cell_type": "code",
   "execution_count": 28,
   "id": "a74ae082",
   "metadata": {
    "execution": {
     "iopub.execute_input": "2022-03-23T07:42:51.809020Z",
     "iopub.status.busy": "2022-03-23T07:42:51.808528Z",
     "iopub.status.idle": "2022-03-23T07:42:51.835120Z",
     "shell.execute_reply": "2022-03-23T07:42:51.835815Z"
    },
    "papermill": {
     "duration": 0.09587,
     "end_time": "2022-03-23T07:42:51.836022",
     "exception": false,
     "start_time": "2022-03-23T07:42:51.740152",
     "status": "completed"
    },
    "tags": []
   },
   "outputs": [
    {
     "name": "stdout",
     "output_type": "stream",
     "text": [
      "Source Test Label Accuracy: 0.6086588541666667 Target Test Label Accuracy: 0.6896975180972078\n",
      "Source Val Label Accuracy: 0.6020833333333333 Target Val Label Accuracy: 0.6924116561181435\n"
     ]
    }
   ],
   "source": [
    "print(\"Source Test Label Accuracy:\", experiment[\"results\"][\"source_test_label_accuracy\"], \"Target Test Label Accuracy:\", experiment[\"results\"][\"target_test_label_accuracy\"])\n",
    "print(\"Source Val Label Accuracy:\", experiment[\"results\"][\"source_val_label_accuracy\"], \"Target Val Label Accuracy:\", experiment[\"results\"][\"target_val_label_accuracy\"])"
   ]
  },
  {
   "cell_type": "code",
   "execution_count": 29,
   "id": "dacca602",
   "metadata": {
    "execution": {
     "iopub.execute_input": "2022-03-23T07:42:51.973695Z",
     "iopub.status.busy": "2022-03-23T07:42:51.973128Z",
     "iopub.status.idle": "2022-03-23T07:42:52.005549Z",
     "shell.execute_reply": "2022-03-23T07:42:52.006016Z"
    },
    "papermill": {
     "duration": 0.09965,
     "end_time": "2022-03-23T07:42:52.006170",
     "exception": false,
     "start_time": "2022-03-23T07:42:51.906520",
     "status": "completed"
    },
    "tags": [
     "experiment_json"
    ]
   },
   "outputs": [
    {
     "data": {
      "text/plain": [
       "'{\"experiment_name\": \"tl_1v2:wisig-oracle.run1.limited\", \"parameters\": {\"experiment_name\": \"tl_1v2:wisig-oracle.run1.limited\", \"device\": \"cuda\", \"lr\": 0.0001, \"n_shot\": 3, \"n_query\": 2, \"train_k_factor\": 3, \"val_k_factor\": 2, \"test_k_factor\": 2, \"torch_default_dtype\": \"torch.float32\", \"n_epoch\": 50, \"patience\": 3, \"criteria_for_best\": \"target_accuracy\", \"x_net\": [{\"class\": \"nnReshape\", \"kargs\": {\"shape\": [-1, 1, 2, 256]}}, {\"class\": \"Conv2d\", \"kargs\": {\"in_channels\": 1, \"out_channels\": 256, \"kernel_size\": [1, 7], \"bias\": false, \"padding\": [0, 3]}}, {\"class\": \"ReLU\", \"kargs\": {\"inplace\": true}}, {\"class\": \"BatchNorm2d\", \"kargs\": {\"num_features\": 256}}, {\"class\": \"Conv2d\", \"kargs\": {\"in_channels\": 256, \"out_channels\": 80, \"kernel_size\": [2, 7], \"bias\": true, \"padding\": [0, 3]}}, {\"class\": \"ReLU\", \"kargs\": {\"inplace\": true}}, {\"class\": \"BatchNorm2d\", \"kargs\": {\"num_features\": 80}}, {\"class\": \"Flatten\", \"kargs\": {}}, {\"class\": \"Linear\", \"kargs\": {\"in_features\": 20480, \"out_features\": 256}}, {\"class\": \"ReLU\", \"kargs\": {\"inplace\": true}}, {\"class\": \"BatchNorm1d\", \"kargs\": {\"num_features\": 256}}, {\"class\": \"Linear\", \"kargs\": {\"in_features\": 256, \"out_features\": 256}}], \"NUM_LOGS_PER_EPOCH\": 10, \"BEST_MODEL_PATH\": \"./best_model.pth\", \"n_way\": 16, \"datasets\": [{\"labels\": [\"1-10\", \"1-12\", \"1-14\", \"1-16\", \"1-18\", \"1-19\", \"1-8\", \"10-11\", \"10-17\", \"10-4\", \"10-7\", \"11-1\", \"11-10\", \"11-19\", \"11-20\", \"11-4\", \"11-7\", \"12-19\", \"12-20\", \"12-7\", \"13-14\", \"13-18\", \"13-19\", \"13-20\", \"13-3\", \"13-7\", \"14-10\", \"14-11\", \"14-12\", \"14-13\", \"14-14\", \"14-19\", \"14-20\", \"14-7\", \"14-8\", \"14-9\", \"15-1\", \"15-19\", \"15-6\", \"16-1\", \"16-16\", \"16-19\", \"16-20\", \"17-10\", \"17-11\", \"18-1\", \"18-10\", \"18-11\", \"18-12\", \"18-13\", \"18-14\", \"18-15\", \"18-16\", \"18-17\", \"18-19\", \"18-2\", \"18-20\", \"18-4\", \"18-5\", \"18-7\", \"18-8\", \"18-9\", \"19-1\", \"19-10\", \"19-11\", \"19-12\", \"19-13\", \"19-14\", \"19-15\", \"19-19\", \"19-2\", \"19-20\", \"19-3\", \"19-4\", \"19-6\", \"19-7\", \"19-8\", \"19-9\", \"2-1\", \"2-13\", \"2-15\", \"2-3\", \"2-4\", \"2-5\", \"2-6\", \"2-7\", \"2-8\", \"20-1\", \"20-12\", \"20-14\", \"20-15\", \"20-16\", \"20-18\", \"20-19\", \"20-20\", \"20-3\", \"20-4\", \"20-5\", \"20-7\", \"20-8\", \"3-1\", \"3-13\", \"3-18\", \"3-2\", \"3-8\", \"4-1\", \"4-10\", \"4-11\", \"5-1\", \"5-5\", \"6-1\", \"6-15\", \"6-6\", \"7-10\", \"7-11\", \"7-12\", \"7-13\", \"7-14\", \"7-7\", \"7-8\", \"7-9\", \"8-1\", \"8-13\", \"8-14\", \"8-18\", \"8-20\", \"8-3\", \"8-8\", \"9-1\", \"9-7\"], \"domains\": [1, 2, 3, 4], \"num_examples_per_domain_per_label\": -1, \"pickle_path\": \"/root/csc500-main/datasets/wisig.node3-19.stratified_ds.2022A.pkl\", \"source_or_target_dataset\": \"target\", \"x_transforms\": [\"unit_power\"], \"episode_transforms\": [], \"domain_prefix\": \"Wisig_\"}, {\"labels\": [\"3123D52\", \"3123D65\", \"3123D79\", \"3123D80\", \"3123D54\", \"3123D70\", \"3123D7B\", \"3123D89\", \"3123D58\", \"3123D76\", \"3123D7D\", \"3123EFE\", \"3123D64\", \"3123D78\", \"3123D7E\", \"3124E4A\"], \"domains\": [32, 38, 8, 44, 14, 50, 20, 26], \"num_examples_per_domain_per_label\": 2000, \"pickle_path\": \"/root/csc500-main/datasets/oracle.Run1_10kExamples_stratified_ds.2022A.pkl\", \"source_or_target_dataset\": \"source\", \"x_transforms\": [\"unit_power\"], \"episode_transforms\": [], \"domain_prefix\": \"ORACLE.run1\"}], \"dataset_seed\": 500, \"seed\": 500, \"x_shape\": [2, 256], \"domains_source\": [\"ORACLE.run132\", \"ORACLE.run138\", \"ORACLE.run18\", \"ORACLE.run144\", \"ORACLE.run114\", \"ORACLE.run150\", \"ORACLE.run120\", \"ORACLE.run126\"], \"domains_target\": [\"Wisig_1\", \"Wisig_2\", \"Wisig_3\", \"Wisig_4\"]}, \"results\": {\"source_test_label_accuracy\": 0.6086588541666667, \"source_test_label_loss\": 1.3385685682296753, \"target_test_label_accuracy\": 0.6896975180972078, \"target_test_label_loss\": 15.251626968383789, \"source_val_label_accuracy\": 0.6020833333333333, \"source_val_label_loss\": 1.3628711700439453, \"target_val_label_accuracy\": 0.6924116561181435, \"target_val_label_loss\": 15.367117881774902, \"total_epochs_trained\": 12, \"total_experiment_time_secs\": 2492.3589384555817, \"confusion\": {\"ORACLE.run150\": {\"7\": {\"5\": 34, \"7\": 147, \"13\": 43, \"4\": 2, \"10\": 14}, \"10\": {\"10\": 199, \"5\": 2, \"8\": 9, \"7\": 13, \"0\": 14, \"13\": 3}, \"0\": {\"0\": 197, \"10\": 14, \"2\": 27, \"13\": 1, \"6\": 1}, \"11\": {\"11\": 182, \"9\": 35, \"14\": 8, \"15\": 12, \"12\": 2, \"1\": 1}, \"2\": {\"2\": 208, \"0\": 32}, \"14\": {\"14\": 226, \"12\": 13, \"11\": 1}, \"9\": {\"9\": 176, \"11\": 48, \"12\": 16}, \"13\": {\"7\": 51, \"13\": 108, \"5\": 53, \"10\": 5, \"0\": 2, \"6\": 15, \"4\": 5, \"1\": 1}, \"8\": {\"8\": 227, \"10\": 7, \"3\": 6}, \"15\": {\"15\": 167, \"1\": 48, \"11\": 6, \"4\": 18, \"6\": 1}, \"4\": {\"6\": 45, \"4\": 78, \"5\": 19, \"15\": 49, \"13\": 6, \"1\": 37, \"7\": 6}, \"5\": {\"6\": 45, \"4\": 28, \"7\": 60, \"13\": 36, \"1\": 7, \"5\": 61, \"10\": 3}, \"3\": {\"3\": 239, \"8\": 1}, \"1\": {\"4\": 38, \"6\": 27, \"5\": 6, \"1\": 110, \"15\": 58, \"11\": 1}, \"6\": {\"6\": 105, \"4\": 56, \"1\": 24, \"5\": 32, \"13\": 18, \"15\": 3, \"0\": 2}, \"12\": {\"12\": 212, \"9\": 15, \"14\": 11, \"11\": 2}}, \"ORACLE.run114\": {\"14\": {\"14\": 145, \"4\": 5, \"6\": 25, \"13\": 38, \"3\": 13, \"2\": 12, \"0\": 1, \"10\": 1}, \"6\": {\"13\": 71, \"6\": 113, \"2\": 23, \"14\": 33}, \"5\": {\"4\": 38, \"1\": 47, \"3\": 6, \"2\": 21, \"5\": 123, \"15\": 3, \"7\": 2}, \"15\": {\"15\": 211, \"7\": 28, \"5\": 1}, \"11\": {\"11\": 192, \"10\": 27, \"9\": 13, \"0\": 8}, \"8\": {\"8\": 238, \"1\": 2}, \"12\": {\"12\": 235, \"9\": 5}, \"1\": {\"5\": 50, \"1\": 180, \"4\": 8, \"3\": 1, \"7\": 1}, \"2\": {\"2\": 96, \"14\": 33, \"4\": 20, \"3\": 12, \"5\": 24, \"13\": 14, \"6\": 33, \"15\": 5, \"7\": 2, \"1\": 1}, \"13\": {\"4\": 5, \"6\": 88, \"13\": 78, \"14\": 47, \"2\": 19, \"3\": 1, \"15\": 1, \"5\": 1}, \"3\": {\"3\": 156, \"4\": 45, \"5\": 2, \"1\": 2, \"0\": 7, \"14\": 18, \"2\": 4, \"10\": 4, \"13\": 1, \"6\": 1}, \"0\": {\"0\": 155, \"3\": 3, \"10\": 73, \"11\": 8, \"4\": 1}, \"9\": {\"9\": 236, \"10\": 1, \"11\": 3}, \"4\": {\"14\": 4, \"4\": 114, \"5\": 48, \"2\": 23, \"3\": 40, \"1\": 11}, \"7\": {\"7\": 210, \"1\": 4, \"15\": 25, \"5\": 1}, \"10\": {\"10\": 174, \"0\": 60, \"14\": 2, \"11\": 3, \"3\": 1}}, \"ORACLE.run132\": {\"4\": {\"5\": 22, \"0\": 62, \"4\": 84, \"2\": 34, \"8\": 3, \"11\": 1, \"7\": 26, \"13\": 2, \"14\": 6}, \"14\": {\"13\": 15, \"11\": 71, \"5\": 13, \"7\": 49, \"14\": 56, \"3\": 7, \"8\": 2, \"2\": 6, \"4\": 17, \"0\": 4}, \"5\": {\"2\": 6, \"5\": 53, \"14\": 16, \"13\": 62, \"8\": 27, \"7\": 23, \"0\": 22, \"4\": 16, \"3\": 11, \"11\": 4}, \"10\": {\"10\": 239, \"1\": 1}, \"13\": {\"5\": 49, \"0\": 13, \"13\": 67, \"8\": 30, \"7\": 24, \"11\": 7, \"3\": 27, \"14\": 15, \"4\": 8}, \"9\": {\"9\": 238, \"12\": 2}, \"6\": {\"6\": 240}, \"3\": {\"3\": 206, \"13\": 13, \"11\": 6, \"14\": 5, \"5\": 4, \"8\": 6}, \"15\": {\"15\": 235, \"8\": 4, \"3\": 1}, \"7\": {\"5\": 24, \"14\": 55, \"7\": 66, \"2\": 11, \"13\": 22, \"0\": 7, \"4\": 40, \"11\": 13, \"8\": 2}, \"12\": {\"12\": 240}, \"8\": {\"8\": 165, \"13\": 33, \"3\": 4, \"0\": 18, \"5\": 17, \"4\": 2, \"7\": 1}, \"11\": {\"11\": 153, \"14\": 60, \"3\": 6, \"13\": 8, \"7\": 11, \"5\": 2}, \"2\": {\"2\": 170, \"0\": 21, \"4\": 43, \"5\": 1, \"13\": 1, \"7\": 4}, \"1\": {\"1\": 237, \"10\": 3}, \"0\": {\"0\": 117, \"5\": 18, \"13\": 4, \"4\": 41, \"8\": 24, \"2\": 25, \"7\": 9, \"14\": 2}}, \"ORACLE.run144\": {\"8\": {\"8\": 164, \"0\": 64, \"15\": 9, \"5\": 3}, \"11\": {\"11\": 194, \"6\": 19, \"13\": 27}, \"14\": {\"4\": 90, \"5\": 5, \"14\": 135, \"15\": 9, \"13\": 1}, \"10\": {\"10\": 167, \"12\": 24, \"1\": 23, \"2\": 26}, \"3\": {\"3\": 204, \"1\": 31, \"2\": 3, \"12\": 2}, \"15\": {\"15\": 195, \"0\": 13, \"5\": 10, \"4\": 2, \"14\": 18, \"8\": 2}, \"2\": {\"2\": 171, \"7\": 37, \"10\": 15, \"1\": 8, \"9\": 2, \"3\": 7}, \"12\": {\"1\": 49, \"12\": 153, \"10\": 33, \"3\": 5}, \"4\": {\"4\": 165, \"14\": 72, \"15\": 3}, \"1\": {\"1\": 115, \"10\": 20, \"12\": 55, \"3\": 35, \"2\": 14, \"7\": 1}, \"0\": {\"8\": 77, \"0\": 133, \"5\": 17, \"15\": 13}, \"9\": {\"7\": 49, \"6\": 30, \"9\": 132, \"13\": 29}, \"5\": {\"0\": 25, \"5\": 198, \"14\": 11, \"8\": 3, \"15\": 2, \"4\": 1}, \"6\": {\"6\": 143, \"11\": 21, \"13\": 35, \"9\": 28, \"7\": 11, \"2\": 2}, \"7\": {\"9\": 35, \"7\": 141, \"6\": 20, \"2\": 41, \"1\": 2, \"3\": 1}, \"13\": {\"6\": 45, \"13\": 138, \"9\": 34, \"11\": 22, \"7\": 1}}, \"ORACLE.run18\": {\"13\": {\"7\": 7, \"13\": 62, \"4\": 33, \"0\": 60, \"10\": 33, \"14\": 27, \"6\": 16, \"1\": 1, \"11\": 1}, \"3\": {\"2\": 42, \"3\": 154, \"12\": 41, \"15\": 3}, \"15\": {\"7\": 3, \"15\": 150, \"3\": 10, \"8\": 15, \"2\": 5, \"12\": 57}, \"4\": {\"13\": 46, \"4\": 81, \"14\": 36, \"7\": 8, \"0\": 19, \"6\": 32, \"10\": 18}, \"7\": {\"7\": 150, \"6\": 60, \"0\": 18, \"8\": 4, \"15\": 2, \"4\": 1, \"2\": 2, \"13\": 3}, \"2\": {\"2\": 162, \"3\": 54, \"7\": 7, \"6\": 1, \"15\": 7, \"12\": 7, \"8\": 2}, \"1\": {\"11\": 91, \"1\": 110, \"10\": 5, \"5\": 13, \"14\": 19, \"4\": 2}, \"0\": {\"0\": 110, \"13\": 59, \"6\": 25, \"4\": 20, \"7\": 16, \"14\": 2, \"10\": 8}, \"12\": {\"15\": 67, \"12\": 116, \"3\": 42, \"2\": 7, \"8\": 7, \"7\": 1}, \"6\": {\"7\": 57, \"6\": 113, \"4\": 33, \"8\": 1, \"13\": 15, \"0\": 16, \"15\": 2, \"2\": 1, \"14\": 2}, \"11\": {\"11\": 104, \"6\": 1, \"10\": 5, \"1\": 88, \"14\": 18, \"5\": 19, \"8\": 3, \"4\": 2}, \"9\": {\"9\": 240}, \"5\": {\"10\": 19, \"5\": 195, \"1\": 15, \"11\": 5, \"14\": 5, \"13\": 1}, \"10\": {\"10\": 110, \"14\": 47, \"5\": 23, \"13\": 22, \"4\": 22, \"6\": 1, \"1\": 9, \"0\": 4, \"11\": 2}, \"14\": {\"10\": 47, \"4\": 51, \"14\": 84, \"11\": 7, \"1\": 19, \"6\": 5, \"13\": 17, \"0\": 2, \"5\": 8}, \"8\": {\"15\": 29, \"8\": 194, \"12\": 6, \"11\": 1, \"6\": 6, \"7\": 3, \"4\": 1}}, \"ORACLE.run120\": {\"6\": {\"6\": 193, \"14\": 33, \"7\": 5, \"10\": 5, \"8\": 4}, \"11\": {\"11\": 239, \"7\": 1}, \"5\": {\"0\": 53, \"12\": 31, \"15\": 27, \"9\": 6, \"2\": 4, \"3\": 13, \"4\": 6, \"5\": 54, \"1\": 43, \"8\": 1, \"13\": 2}, \"14\": {\"14\": 143, \"6\": 35, \"10\": 48, \"8\": 12, \"4\": 1, \"7\": 1}, \"2\": {\"2\": 67, \"3\": 24, \"13\": 20, \"9\": 40, \"7\": 49, \"0\": 3, \"12\": 17, \"15\": 10, \"1\": 3, \"8\": 4, \"4\": 2, \"5\": 1}, \"7\": {\"2\": 32, \"3\": 19, \"7\": 131, \"9\": 23, \"8\": 26, \"12\": 2, \"6\": 4, \"4\": 2, \"13\": 1}, \"3\": {\"4\": 26, \"12\": 32, \"7\": 20, \"1\": 10, \"8\": 12, \"5\": 7, \"3\": 69, \"9\": 40, \"0\": 7, \"2\": 15, \"10\": 1, \"15\": 1}, \"4\": {\"8\": 45, \"4\": 136, \"3\": 20, \"5\": 5, \"7\": 1, \"10\": 15, \"9\": 8, \"2\": 1, \"12\": 4, \"1\": 1, \"0\": 3, \"14\": 1}, \"9\": {\"4\": 4, \"2\": 55, \"9\": 55, \"3\": 33, \"7\": 26, \"0\": 1, \"13\": 14, \"8\": 8, \"12\": 29, \"5\": 5, \"1\": 4, \"15\": 6}, \"12\": {\"5\": 35, \"4\": 7, \"15\": 11, \"12\": 64, \"2\": 13, \"3\": 35, \"13\": 3, \"0\": 22, \"9\": 24, \"8\": 3, \"1\": 21, \"7\": 2}, \"0\": {\"15\": 30, \"0\": 56, \"12\": 23, \"1\": 47, \"3\": 12, \"5\": 56, \"7\": 1, \"4\": 4, \"2\": 4, \"9\": 7}, \"10\": {\"10\": 132, \"4\": 23, \"8\": 27, \"14\": 52, \"6\": 5, \"7\": 1}, \"8\": {\"10\": 24, \"7\": 25, \"4\": 47, \"2\": 2, \"8\": 111, \"14\": 9, \"3\": 18, \"9\": 2, \"12\": 2}, \"13\": {\"13\": 189, \"15\": 10, \"2\": 21, \"12\": 7, \"7\": 4, \"1\": 4, \"9\": 4, \"5\": 1}, \"1\": {\"0\": 42, \"12\": 32, \"1\": 52, \"9\": 6, \"5\": 36, \"15\": 45, \"3\": 14, \"13\": 8, \"7\": 1, \"2\": 4}, \"15\": {\"13\": 12, \"15\": 115, \"0\": 30, \"1\": 42, \"12\": 15, \"5\": 17, \"2\": 2, \"9\": 4, \"3\": 3}}, \"ORACLE.run138\": {\"3\": {\"3\": 190, \"9\": 30, \"0\": 7, \"6\": 1, \"7\": 8, \"5\": 4}, \"8\": {\"8\": 113, \"5\": 59, \"13\": 3, \"15\": 12, \"0\": 40, \"7\": 6, \"10\": 6, \"6\": 1}, \"0\": {\"5\": 32, \"7\": 71, \"8\": 63, \"0\": 59, \"3\": 8, \"10\": 2, \"9\": 3, \"15\": 1, \"6\": 1}, \"2\": {\"2\": 207, \"14\": 22, \"13\": 8, \"10\": 1, \"12\": 1, \"11\": 1}, \"4\": {\"4\": 222, \"12\": 18}, \"7\": {\"7\": 172, \"0\": 57, \"5\": 5, \"8\": 6}, \"12\": {\"12\": 202, \"10\": 24, \"4\": 13, \"0\": 1}, \"6\": {\"9\": 77, \"6\": 161, \"5\": 2}, \"15\": {\"8\": 8, \"1\": 25, \"13\": 73, \"15\": 127, \"5\": 3, \"10\": 3, \"2\": 1}, \"11\": {\"12\": 7, \"11\": 156, \"14\": 75, \"2\": 2}, \"9\": {\"6\": 91, \"9\": 133, \"3\": 15, \"5\": 1}, \"14\": {\"14\": 177, \"11\": 46, \"2\": 17}, \"10\": {\"10\": 157, \"13\": 26, \"12\": 25, \"0\": 7, \"8\": 17, \"14\": 3, \"15\": 5}, \"5\": {\"0\": 36, \"5\": 68, \"8\": 65, \"6\": 21, \"15\": 15, \"7\": 17, \"9\": 6, \"3\": 7, \"10\": 1, \"1\": 1, \"13\": 3}, \"1\": {\"1\": 221, \"15\": 18, \"5\": 1}, \"13\": {\"13\": 151, \"15\": 58, \"10\": 17, \"8\": 3, \"14\": 1, \"2\": 7, \"5\": 2, \"1\": 1}}, \"ORACLE.run126\": {\"5\": {\"15\": 58, \"5\": 98, \"2\": 12, \"13\": 32, \"9\": 31, \"3\": 2, \"8\": 4, \"6\": 3}, \"8\": {\"0\": 24, \"4\": 27, \"8\": 53, \"7\": 15, \"6\": 15, \"9\": 34, \"10\": 31, \"1\": 5, \"15\": 19, \"14\": 7, \"5\": 5, \"2\": 3, \"3\": 1, \"13\": 1}, \"4\": {\"4\": 66, \"10\": 15, \"7\": 31, \"14\": 45, \"2\": 2, \"0\": 27, \"8\": 14, \"1\": 34, \"15\": 2, \"3\": 1, \"9\": 3}, \"12\": {\"12\": 236, \"11\": 4}, \"6\": {\"6\": 128, \"9\": 26, \"10\": 30, \"0\": 7, \"15\": 20, \"8\": 21, \"13\": 7, \"7\": 1}, \"7\": {\"4\": 29, \"9\": 1, \"7\": 85, \"2\": 38, \"3\": 46, \"15\": 4, \"8\": 23, \"0\": 5, \"1\": 1, \"5\": 5, \"10\": 1, \"14\": 2}, \"10\": {\"10\": 87, \"9\": 8, \"8\": 38, \"0\": 43, \"1\": 14, \"7\": 6, \"14\": 20, \"6\": 9, \"4\": 13, \"15\": 2}, \"0\": {\"10\": 51, \"9\": 5, \"4\": 27, \"14\": 40, \"8\": 23, \"1\": 32, \"0\": 42, \"7\": 11, \"5\": 2, \"6\": 5, \"3\": 1, \"2\": 1}, \"15\": {\"15\": 55, \"9\": 52, \"8\": 16, \"5\": 58, \"6\": 15, \"2\": 13, \"13\": 18, \"7\": 6, \"10\": 1, \"0\": 2, \"4\": 1, \"3\": 2, \"14\": 1}, \"9\": {\"15\": 70, \"6\": 31, \"8\": 31, \"9\": 56, \"13\": 5, \"7\": 4, \"5\": 25, \"0\": 5, \"10\": 5, \"4\": 2, \"2\": 4, \"14\": 1, \"3\": 1}, \"11\": {\"11\": 234, \"12\": 6}, \"14\": {\"14\": 59, \"4\": 41, \"10\": 23, \"6\": 3, \"1\": 58, \"7\": 9, \"0\": 42, \"8\": 5}, \"2\": {\"7\": 31, \"15\": 13, \"4\": 3, \"2\": 73, \"5\": 18, \"3\": 77, \"13\": 2, \"8\": 9, \"0\": 4, \"10\": 2, \"9\": 8}, \"13\": {\"13\": 151, \"9\": 14, \"5\": 50, \"2\": 4, \"15\": 15, \"6\": 5, \"8\": 1}, \"3\": {\"7\": 38, \"2\": 76, \"3\": 121, \"8\": 2, \"5\": 1, \"1\": 1, \"15\": 1}, \"1\": {\"8\": 4, \"14\": 64, \"0\": 27, \"1\": 83, \"10\": 23, \"7\": 7, \"4\": 29, \"3\": 2, \"6\": 1}}, \"Wisig_3\": {\"99\": {\"99\": 32, \"25\": 1, \"4\": 1, \"97\": 1, \"127\": 1}, \"8\": {\"49\": 2, \"8\": 98, \"72\": 1, \"101\": 1, \"12\": 10, \"98\": 2, \"111\": 5, \"0\": 2, \"10\": 1, \"30\": 1, \"108\": 1}, \"65\": {\"18\": 1, \"65\": 7, \"46\": 2, \"91\": 2}, \"117\": {\"117\": 101, \"39\": 4, \"7\": 1, \"113\": 3, \"123\": 1, \"88\": 1, \"26\": 1}, \"18\": {\"18\": 113, \"11\": 1, \"33\": 2, \"113\": 3, \"81\": 2, \"88\": 1, \"39\": 2}, \"39\": {\"117\": 12, \"39\": 47, \"123\": 1, \"23\": 1, \"121\": 2, \"18\": 7, \"30\": 1, \"2\": 2, \"11\": 2, \"67\": 5, \"120\": 1, \"94\": 2, \"26\": 1, \"113\": 9, \"93\": 2, \"118\": 4, \"7\": 2, \"109\": 1, \"10\": 2, \"126\": 1, \"12\": 1, \"16\": 1, \"108\": 1}, \"102\": {\"102\": 97, \"69\": 10, \"33\": 13, \"109\": 2, \"64\": 1, \"118\": 1}, \"76\": {\"102\": 1, \"76\": 15}, \"101\": {\"101\": 36, \"58\": 1, \"59\": 2, \"8\": 1, \"73\": 3, \"12\": 2, \"111\": 1, \"18\": 1, \"51\": 2, \"42\": 2, \"129\": 1}, \"57\": {\"57\": 16, \"32\": 2, \"1\": 2}, \"86\": {\"86\": 22, \"110\": 2, \"3\": 2, \"4\": 1, \"101\": 1}, \"11\": {\"11\": 58, \"44\": 2, \"14\": 12, \"87\": 15, \"62\": 4, \"110\": 2, \"16\": 12, \"90\": 13, \"98\": 1, \"93\": 4, \"128\": 1, \"107\": 1, \"18\": 1, \"40\": 1, \"31\": 1, \"100\": 1, \"84\": 3}, \"98\": {\"98\": 106, \"85\": 1, \"7\": 1, \"34\": 2, \"102\": 1, \"111\": 2, \"127\": 3, \"124\": 4, \"12\": 4, \"10\": 2, \"72\": 1, \"23\": 1}, \"42\": {\"47\": 1, \"101\": 1, \"15\": 2, \"98\": 1, \"108\": 1, \"49\": 1, \"75\": 1, \"106\": 2, \"97\": 1, \"85\": 1, \"19\": 1, \"73\": 1, \"42\": 6, \"83\": 1, \"51\": 1, \"124\": 2, \"70\": 2, \"30\": 1, \"88\": 1}, \"47\": {\"47\": 12}, \"49\": {\"57\": 1, \"11\": 1, \"42\": 5, \"20\": 2, \"92\": 1, \"49\": 4, \"17\": 1, \"87\": 1, \"74\": 1, \"60\": 1, \"0\": 1, \"98\": 1, \"65\": 1, \"103\": 1, \"71\": 1, \"39\": 1}, \"111\": {\"111\": 113, \"73\": 2, \"72\": 2, \"12\": 8, \"26\": 1, \"97\": 1, \"51\": 1, \"101\": 1, \"106\": 1, \"125\": 2}, \"36\": {\"36\": 102, \"24\": 3, \"30\": 1, \"15\": 2, \"27\": 8}, \"124\": {\"124\": 94, \"69\": 1, \"98\": 6, \"108\": 3, \"12\": 1, \"33\": 1}, \"122\": {\"122\": 33, \"57\": 1, \"110\": 4, \"61\": 1, \"9\": 2, \"114\": 5, \"18\": 1, \"1\": 1, \"107\": 2, \"60\": 1, \"34\": 2, \"3\": 2, \"105\": 1, \"126\": 2, \"26\": 1, \"121\": 1}, \"93\": {\"93\": 132, \"11\": 1, \"109\": 1, \"16\": 7, \"23\": 1}, \"89\": {\"69\": 1, \"89\": 22, \"102\": 5}, \"51\": {\"51\": 14, \"111\": 1, \"52\": 1}, \"73\": {\"73\": 35, \"101\": 3, \"21\": 1, \"52\": 1}, \"45\": {\"45\": 12, \"14\": 1, \"23\": 1, \"115\": 2}, \"5\": {\"5\": 93, \"18\": 2, \"128\": 1, \"71\": 4, \"3\": 6, \"126\": 1, \"104\": 1, \"49\": 1, \"98\": 2, \"113\": 1}, \"69\": {\"69\": 61, \"102\": 10, \"33\": 6, \"122\": 1, \"106\": 1, \"89\": 1, \"84\": 2, \"118\": 2}, \"26\": {\"26\": 114, \"117\": 9, \"67\": 1, \"113\": 1, \"123\": 1, \"2\": 2, \"118\": 1, \"43\": 1}, \"1\": {\"1\": 96, \"128\": 2, \"122\": 2, \"32\": 3, \"60\": 1, \"98\": 1, \"39\": 1, \"87\": 1, \"118\": 1}, \"92\": {\"92\": 25, \"89\": 4, \"118\": 2, \"69\": 1}, \"96\": {\"96\": 18, \"109\": 2}, \"85\": {\"85\": 33, \"124\": 1, \"98\": 1, \"47\": 1}, \"114\": {\"114\": 102, \"86\": 1, \"105\": 7, \"103\": 1, \"4\": 5, \"102\": 1, \"3\": 2, \"5\": 3, \"60\": 1, \"128\": 1, \"1\": 1, \"40\": 1}, \"50\": {\"50\": 13, \"74\": 2, \"28\": 1}, \"81\": {\"81\": 31, \"18\": 1}, \"2\": {\"2\": 11, \"33\": 1, \"92\": 1, \"109\": 1, \"117\": 4, \"43\": 4, \"64\": 1, \"102\": 1, \"18\": 1, \"121\": 1, \"67\": 2}, \"33\": {\"33\": 112, \"69\": 12, \"119\": 1, \"102\": 15, \"90\": 3, \"109\": 1, \"21\": 1, \"117\": 1}, \"31\": {\"31\": 16, \"90\": 1, \"44\": 1, \"92\": 1, \"82\": 1}, \"90\": {\"90\": 98, \"33\": 2, \"84\": 5, \"87\": 6, \"16\": 2, \"26\": 1, \"44\": 3, \"82\": 1}, \"17\": {\"86\": 2, \"120\": 2, \"43\": 3, \"17\": 3, \"113\": 1, \"95\": 1, \"102\": 1, \"99\": 1, \"23\": 1, \"7\": 1}, \"116\": {\"116\": 16, \"90\": 1, \"84\": 1, \"119\": 3, \"16\": 1, \"109\": 1, \"23\": 1, \"62\": 2, \"82\": 2}, \"91\": {\"98\": 4, \"91\": 13, \"46\": 1, \"19\": 1, \"34\": 2, \"52\": 1, \"31\": 1, \"12\": 1}, \"120\": {\"120\": 20}, \"128\": {\"44\": 2, \"91\": 2, \"128\": 7, \"127\": 3, \"103\": 1, \"48\": 1, \"105\": 1, \"124\": 2, \"22\": 1, \"85\": 1, \"114\": 1, \"40\": 1, \"55\": 4, \"84\": 1, \"98\": 1, \"32\": 1, \"108\": 2}, \"78\": {\"11\": 1, \"78\": 4, \"79\": 1, \"88\": 1, \"74\": 1, \"60\": 2, \"87\": 1, \"16\": 2, \"39\": 1, \"28\": 1, \"113\": 1}, \"58\": {\"58\": 14, \"73\": 2}, \"23\": {\"9\": 1, \"120\": 1, \"98\": 2, \"121\": 2, \"46\": 1, \"19\": 2, \"124\": 2, \"126\": 1, \"117\": 3, \"81\": 2, \"64\": 1, \"127\": 1, \"18\": 2, \"70\": 1, \"85\": 2, \"23\": 2, \"112\": 2, \"2\": 1, \"7\": 1, \"123\": 1, \"113\": 1}, \"15\": {\"97\": 2, \"15\": 83, \"10\": 1, \"106\": 2, \"30\": 8, \"94\": 1, \"0\": 1, \"8\": 4, \"36\": 1, \"26\": 1}, \"74\": {\"74\": 14, \"78\": 1, \"115\": 1}, \"34\": {\"74\": 1, \"58\": 1, \"20\": 1, \"52\": 1, \"34\": 10, \"72\": 2, \"12\": 2, \"1\": 2, \"111\": 5, \"101\": 1, \"6\": 1, \"60\": 2, \"0\": 1, \"53\": 2}, \"103\": {\"103\": 9, \"114\": 4, \"105\": 1, \"86\": 2}, \"106\": {\"106\": 81, \"42\": 2, \"0\": 6, \"30\": 3, \"15\": 4, \"59\": 2, \"6\": 2}, \"44\": {\"44\": 63, \"82\": 1, \"64\": 1, \"87\": 1, \"84\": 2, \"118\": 1, \"90\": 3}, \"9\": {\"9\": 26, \"101\": 1, \"127\": 2, \"3\": 1, \"80\": 1, \"5\": 1}, \"97\": {\"106\": 2, \"97\": 15, \"0\": 1, \"85\": 1, \"58\": 1}, \"123\": {\"123\": 13, \"106\": 1, \"117\": 1, \"83\": 1}, \"6\": {\"6\": 14, \"72\": 1, \"54\": 4, \"8\": 1, \"125\": 2, \"12\": 3, \"82\": 1, \"91\": 2, \"111\": 1, \"106\": 3}, \"68\": {\"68\": 14, \"98\": 1, \"35\": 1}, \"24\": {\"24\": 25, \"15\": 5, \"27\": 5, \"36\": 5, \"30\": 2, \"97\": 1, \"25\": 1, \"94\": 3, \"8\": 1}, \"21\": {\"21\": 35, \"11\": 1, \"69\": 1, \"70\": 1, \"81\": 1, \"109\": 2, \"24\": 2, \"82\": 1, \"43\": 1, \"15\": 1, \"18\": 1, \"26\": 1}, \"83\": {\"83\": 23, \"70\": 1}, \"60\": {\"60\": 7, \"14\": 1, \"62\": 1, \"87\": 2, \"105\": 1, \"115\": 1, \"129\": 2, \"114\": 2, \"38\": 1, \"22\": 1, \"50\": 1, \"90\": 1, \"40\": 2, \"20\": 1, \"1\": 3, \"45\": 1}, \"87\": {\"87\": 65, \"14\": 10, \"60\": 1, \"44\": 6, \"11\": 7, \"84\": 6, \"90\": 9, \"40\": 6, \"16\": 4, \"107\": 2, \"28\": 1, \"93\": 1, \"29\": 1, \"32\": 1}, \"30\": {\"6\": 2, \"15\": 10, \"42\": 1, \"75\": 1, \"30\": 47, \"83\": 1, \"18\": 1, \"106\": 4, \"58\": 1, \"117\": 1, \"94\": 3, \"36\": 2, \"0\": 2, \"24\": 1, \"17\": 1, \"8\": 1, \"93\": 1, \"26\": 1, \"88\": 1, \"101\": 2}, \"43\": {\"123\": 2, \"118\": 2, \"43\": 28, \"23\": 2, \"96\": 1, \"117\": 4, \"26\": 2, \"109\": 4, \"27\": 1, \"89\": 2, \"69\": 3, \"120\": 2, \"21\": 2, \"102\": 1}, \"115\": {\"87\": 1, \"115\": 12, \"50\": 1, \"48\": 1, \"45\": 1}, \"40\": {\"40\": 107, \"103\": 2, \"14\": 1, \"126\": 1, \"16\": 3, \"80\": 1, \"22\": 1, \"107\": 2, \"44\": 2}, \"112\": {\"47\": 2, \"112\": 8, \"59\": 2, \"77\": 3, \"10\": 1}, \"66\": {\"66\": 13, \"34\": 1, \"7\": 1, \"3\": 1}, \"110\": {\"110\": 78, \"114\": 3, \"53\": 2, \"5\": 3, \"43\": 1, \"3\": 1, \"102\": 1, \"122\": 1, \"70\": 1, \"90\": 1}, \"3\": {\"3\": 84, \"66\": 1, \"7\": 6, \"86\": 4, \"5\": 2, \"71\": 3, \"106\": 1, \"114\": 3, \"107\": 1, \"124\": 1, \"32\": 1, \"88\": 1, \"4\": 5, \"127\": 1}, \"20\": {\"110\": 1, \"20\": 8, \"34\": 1, \"128\": 1, \"60\": 2, \"1\": 2, \"88\": 1}, \"28\": {\"28\": 12, \"57\": 1, \"107\": 3}, \"84\": {\"84\": 78, \"33\": 3, \"82\": 4, \"126\": 2, \"44\": 2, \"90\": 5, \"62\": 5, \"87\": 3, \"31\": 1, \"107\": 2, \"39\": 1, \"16\": 2}, \"79\": {\"79\": 10, \"74\": 1, \"115\": 1}, \"118\": {\"43\": 6, \"118\": 44, \"92\": 2, \"23\": 3, \"102\": 7, \"64\": 3, \"109\": 10, \"69\": 10, \"26\": 3, \"8\": 1, \"70\": 1, \"93\": 4, \"119\": 1, \"96\": 2, \"113\": 1, \"84\": 1, \"33\": 1}, \"56\": {\"7\": 4, \"72\": 1, \"56\": 6, \"75\": 1}, \"48\": {\"62\": 2, \"43\": 3, \"80\": 1, \"48\": 3, \"4\": 1, \"44\": 1, \"86\": 1, \"71\": 1, \"90\": 1, \"119\": 2}, \"77\": {\"77\": 15, \"98\": 1}, \"14\": {\"14\": 64, \"45\": 1, \"103\": 2, \"87\": 6, \"11\": 1, \"40\": 3, \"107\": 2, \"33\": 1}, \"64\": {\"64\": 20}, \"67\": {\"67\": 12, \"27\": 1, \"118\": 2, \"39\": 1}, \"62\": {\"62\": 104, \"102\": 1, \"119\": 1, \"116\": 4, \"90\": 3, \"87\": 2, \"31\": 1, \"84\": 5, \"82\": 1, \"26\": 1, \"109\": 1}, \"75\": {\"75\": 16}, \"63\": {\"67\": 1, \"63\": 12, \"101\": 1, \"81\": 1, \"123\": 1}, \"7\": {\"7\": 95, \"5\": 2, \"110\": 1, \"108\": 1, \"71\": 2, \"3\": 2, \"111\": 1, \"114\": 2, \"86\": 2, \"127\": 4}, \"125\": {\"125\": 92, \"106\": 2, \"111\": 4, \"94\": 2, \"18\": 1, \"118\": 1, \"62\": 1, \"124\": 1}, \"37\": {\"56\": 1, \"37\": 15}, \"121\": {\"121\": 20, \"113\": 1, \"27\": 1, \"82\": 1, \"117\": 1, \"120\": 2, \"2\": 1, \"39\": 1, \"81\": 1, \"26\": 1, \"102\": 2}, \"16\": {\"16\": 89, \"31\": 1, \"11\": 2, \"90\": 2, \"93\": 3, \"87\": 2, \"113\": 1, \"117\": 1, \"62\": 1, \"84\": 1, \"18\": 1}, \"35\": {\"35\": 9, \"51\": 2, \"93\": 1}, \"32\": {\"32\": 24, \"60\": 1, \"107\": 3, \"14\": 1, \"28\": 2, \"128\": 1}, \"46\": {\"46\": 13, \"9\": 1, \"65\": 1, \"127\": 1}, \"70\": {\"19\": 3, \"70\": 28, \"85\": 4, \"60\": 1, \"108\": 6, \"53\": 1, \"5\": 8, \"110\": 1, \"88\": 3, \"3\": 1, \"7\": 3, \"10\": 2, \"127\": 1, \"71\": 1, \"129\": 1, \"42\": 1, \"67\": 1, \"47\": 1, \"9\": 2, \"77\": 2, \"81\": 1}, \"129\": {\"129\": 17, \"74\": 2, \"100\": 2, \"114\": 3, \"87\": 1, \"110\": 1, \"122\": 1, \"19\": 1, \"107\": 3, \"44\": 1}, \"95\": {\"95\": 29, \"64\": 1, \"71\": 2}, \"72\": {\"72\": 26, \"101\": 1, \"41\": 1}, \"19\": {\"28\": 1, \"98\": 5, \"52\": 1, \"100\": 1, \"68\": 3, \"19\": 7, \"91\": 2, \"50\": 1, \"124\": 2, \"72\": 2, \"127\": 2, \"45\": 1, \"107\": 1, \"32\": 1, \"12\": 2}, \"52\": {\"52\": 13, \"98\": 1, \"12\": 1, \"73\": 1}, \"100\": {\"100\": 11, \"84\": 1, \"27\": 1, \"107\": 1, \"79\": 2}, \"104\": {\"104\": 14, \"4\": 1, \"105\": 1}, \"59\": {\"59\": 12}, \"109\": {\"43\": 3, \"109\": 69, \"61\": 1, \"102\": 8, \"33\": 12, \"69\": 4, \"94\": 1, \"89\": 3, \"118\": 6, \"62\": 3, \"18\": 2, \"16\": 2, \"90\": 1, \"93\": 3, \"96\": 1, \"2\": 1, \"39\": 1, \"84\": 1, \"127\": 1, \"113\": 1, \"26\": 1, \"11\": 1}, \"88\": {\"88\": 51, \"112\": 1, \"49\": 1, \"35\": 1, \"110\": 6, \"13\": 2, \"60\": 1, \"128\": 1, \"85\": 1, \"11\": 4, \"114\": 3, \"1\": 3, \"3\": 6, \"107\": 2, \"10\": 8, \"124\": 2, \"127\": 1, \"5\": 4, \"67\": 1, \"81\": 1, \"70\": 1, \"53\": 1, \"118\": 1, \"94\": 1, \"108\": 3, \"93\": 1}, \"27\": {\"27\": 64, \"51\": 2, \"24\": 3, \"15\": 1, \"30\": 1, \"21\": 1, \"36\": 13, \"94\": 3, \"117\": 1, \"26\": 1, \"25\": 1, \"98\": 2, \"110\": 1}, \"113\": {\"123\": 1, \"113\": 76, \"17\": 1, \"26\": 11, \"67\": 1, \"117\": 14, \"109\": 2, \"18\": 4, \"39\": 4, \"93\": 1, \"61\": 1, \"121\": 4}, \"105\": {\"105\": 111, \"28\": 1, \"4\": 5, \"3\": 5, \"114\": 1, \"107\": 1}, \"71\": {\"71\": 41, \"33\": 1, \"105\": 1, \"49\": 1, \"38\": 1, \"122\": 1, \"5\": 4, \"7\": 3, \"99\": 3, \"127\": 3, \"111\": 1, \"69\": 1, \"9\": 1, \"3\": 4, \"126\": 1, \"109\": 1}, \"108\": {\"108\": 66, \"98\": 9, \"70\": 3, \"127\": 4, \"88\": 3, \"0\": 1, \"124\": 10, \"10\": 15, \"8\": 5, \"7\": 2, \"9\": 1, \"65\": 1, \"35\": 2, \"1\": 1, \"3\": 1}, \"41\": {\"41\": 14, \"34\": 2}, \"80\": {\"80\": 16}, \"13\": {\"13\": 9, \"33\": 1, \"89\": 2, \"43\": 2, \"118\": 2}, \"55\": {\"55\": 16}, \"0\": {\"15\": 7, \"0\": 62, \"52\": 1, \"51\": 2, \"8\": 6, \"39\": 1, \"83\": 1, \"106\": 11, \"101\": 4, \"111\": 7, \"84\": 1, \"30\": 1, \"62\": 1, \"125\": 1}, \"25\": {\"25\": 16}, \"53\": {\"53\": 16, \"5\": 1, \"14\": 1, \"114\": 2}, \"61\": {\"61\": 14, \"63\": 2}, \"38\": {\"38\": 14, \"105\": 1, \"55\": 1}, \"127\": {\"127\": 111, \"113\": 2, \"125\": 2, \"126\": 1, \"3\": 5, \"124\": 1, \"7\": 3, \"4\": 2, \"84\": 1}, \"4\": {\"71\": 2, \"4\": 80, \"114\": 2, \"5\": 2, \"3\": 1, \"105\": 4, \"104\": 1, \"86\": 1, \"18\": 2, \"88\": 1}, \"12\": {\"12\": 87, \"83\": 1, \"98\": 2, \"124\": 2, \"111\": 7, \"8\": 4, \"52\": 1}, \"126\": {\"18\": 14, \"30\": 1, \"126\": 83, \"39\": 5, \"81\": 3, \"67\": 1, \"1\": 1, \"109\": 4, \"118\": 1, \"113\": 3, \"108\": 2, \"40\": 1, \"5\": 1, \"61\": 1, \"15\": 1, \"110\": 2}, \"29\": {\"29\": 30, \"22\": 1, \"84\": 1}, \"107\": {\"107\": 125, \"28\": 1, \"53\": 1, \"40\": 1, \"32\": 1, \"60\": 2, \"14\": 1, \"1\": 2, \"90\": 1, \"102\": 1}, \"82\": {\"82\": 20, \"62\": 3, \"44\": 2, \"19\": 1, \"31\": 1, \"84\": 1}, \"94\": {\"94\": 69, \"15\": 7, \"0\": 3, \"30\": 1, \"106\": 2, \"125\": 1, \"18\": 1}, \"54\": {\"54\": 16}, \"10\": {\"124\": 17, \"10\": 60, \"98\": 16, \"108\": 9, \"127\": 3, \"88\": 3, \"26\": 1, \"71\": 2, \"70\": 3, \"12\": 5, \"91\": 3, \"8\": 1, \"34\": 1, \"101\": 1, \"111\": 1, \"5\": 2}, \"22\": {\"22\": 16}, \"119\": {\"119\": 14, \"116\": 1, \"102\": 1}}, \"Wisig_2\": {\"73\": {\"73\": 14, \"115\": 1, \"122\": 1, \"7\": 3, \"129\": 1, \"5\": 1, \"32\": 1, \"19\": 1, \"37\": 1, \"67\": 1, \"66\": 2, \"107\": 1}, \"40\": {\"40\": 93, \"61\": 4, \"58\": 1, \"22\": 1, \"19\": 2, \"1\": 2, \"105\": 15, \"43\": 4, \"16\": 1, \"73\": 2, \"14\": 1, \"107\": 1, \"3\": 1, \"117\": 1, \"5\": 2, \"108\": 1}, \"99\": {\"99\": 26, \"26\": 2, \"82\": 2, \"18\": 1, \"27\": 1}, \"5\": {\"5\": 93, \"73\": 1, \"3\": 9, \"24\": 1, \"122\": 1, \"26\": 1, \"53\": 1, \"88\": 1, \"4\": 1, \"7\": 1, \"0\": 1, \"71\": 1}, \"108\": {\"44\": 1, \"108\": 77, \"12\": 6, \"111\": 4, \"79\": 2, \"107\": 2, \"8\": 20, \"127\": 3, \"98\": 6, \"11\": 2, \"88\": 2, \"128\": 1, \"1\": 1, \"112\": 1, \"124\": 1, \"0\": 1, \"70\": 1, \"30\": 1}, \"128\": {\"73\": 3, \"108\": 3, \"98\": 2, \"95\": 1, \"7\": 2, \"128\": 3, \"91\": 1, \"37\": 2, \"110\": 2, \"19\": 1, \"21\": 1, \"0\": 1, \"127\": 1, \"106\": 1}, \"89\": {\"89\": 30, \"90\": 2, \"60\": 2, \"81\": 1, \"87\": 1}, \"107\": {\"5\": 2, \"58\": 1, \"95\": 2, \"7\": 10, \"3\": 2, \"107\": 28, \"66\": 1, \"122\": 2, \"71\": 1, \"94\": 1, \"21\": 1, \"2\": 1, \"101\": 1, \"32\": 1, \"86\": 1, \"4\": 1, \"92\": 1, \"104\": 1, \"87\": 1, \"117\": 1, \"15\": 1, \"125\": 1, \"14\": 2}, \"2\": {\"99\": 1, \"2\": 21, \"120\": 1, \"89\": 2, \"117\": 2, \"63\": 3, \"26\": 1, \"97\": 1}, \"78\": {\"78\": 10, \"23\": 1, \"19\": 1, \"100\": 1, \"73\": 1, \"1\": 6, \"50\": 1, \"61\": 1, \"99\": 1, \"126\": 3, \"70\": 4, \"40\": 6, \"10\": 1, \"43\": 1, \"95\": 1, \"3\": 1, \"105\": 3, \"118\": 1, \"114\": 1, \"87\": 1, \"21\": 1, \"62\": 1}, \"85\": {\"5\": 2, \"85\": 23, \"129\": 2, \"110\": 2, \"122\": 1, \"32\": 2}, \"44\": {\"44\": 94, \"19\": 2, \"110\": 1, \"107\": 1, \"105\": 1, \"3\": 1}, \"58\": {\"58\": 14, \"15\": 3, \"101\": 1, \"6\": 2}, \"57\": {\"57\": 15, \"10\": 1, \"69\": 2, \"92\": 1, \"88\": 1}, \"41\": {\"41\": 17, \"13\": 1, \"91\": 2}, \"53\": {\"53\": 10, \"85\": 3, \"110\": 2, \"5\": 1}, \"14\": {\"19\": 2, \"70\": 2, \"24\": 2, \"14\": 23, \"20\": 1, \"43\": 5, \"3\": 2, \"23\": 2, \"10\": 1, \"89\": 1, \"46\": 1, \"62\": 1, \"74\": 1, \"78\": 1, \"21\": 1, \"44\": 1, \"105\": 1}, \"83\": {\"119\": 1, \"125\": 1, \"83\": 36, \"23\": 1, \"127\": 1}, \"119\": {\"118\": 1, \"119\": 18, \"83\": 1}, \"95\": {\"28\": 2, \"95\": 30, \"32\": 1, \"4\": 2, \"24\": 1}, \"28\": {\"28\": 16, \"85\": 2, \"97\": 1, \"3\": 1}, \"19\": {\"19\": 10, \"5\": 1, \"86\": 2, \"78\": 1, \"23\": 2, \"128\": 1, \"43\": 2, \"71\": 1, \"49\": 1, \"53\": 2, \"85\": 1, \"37\": 1, \"129\": 1, \"46\": 2}, \"69\": {\"93\": 2, \"69\": 119, \"92\": 2, \"48\": 2, \"122\": 1, \"3\": 2, \"20\": 1, \"26\": 1, \"39\": 1, \"40\": 1}, \"93\": {\"93\": 103, \"118\": 1, \"96\": 1, \"113\": 1, \"109\": 6, \"18\": 2, \"16\": 13, \"90\": 4, \"44\": 1, \"87\": 1, \"26\": 1}, \"9\": {\"9\": 32}, \"118\": {\"93\": 6, \"118\": 33, \"33\": 2, \"83\": 1, \"82\": 5, \"16\": 7, \"90\": 2, \"84\": 7, \"119\": 2, \"62\": 2, \"1\": 1}, \"43\": {\"83\": 1, \"43\": 47, \"16\": 3, \"22\": 1, \"40\": 7, \"14\": 1, \"126\": 1, \"62\": 5, \"1\": 22, \"44\": 3, \"2\": 1, \"105\": 3, \"84\": 1, \"88\": 3, \"70\": 6, \"109\": 2, \"87\": 1, \"33\": 1, \"23\": 2, \"102\": 1, \"78\": 1, \"118\": 1, \"18\": 1, \"93\": 1}, \"47\": {\"47\": 12}, \"125\": {\"125\": 139, \"51\": 2, \"30\": 2, \"18\": 1}, \"29\": {\"29\": 30, \"49\": 2}, \"122\": {\"86\": 4, \"19\": 1, \"95\": 1, \"122\": 60, \"73\": 1, \"12\": 3, \"112\": 1, \"68\": 1, \"11\": 5, \"124\": 14, \"10\": 3, \"85\": 2, \"71\": 2, \"32\": 2, \"3\": 6, \"114\": 7, \"5\": 5, \"7\": 6, \"1\": 1, \"70\": 2, \"40\": 1, \"98\": 1, \"53\": 1, \"115\": 1, \"29\": 1, \"129\": 2, \"49\": 1, \"93\": 1, \"109\": 1, \"126\": 1, \"44\": 1, \"18\": 1}, \"46\": {\"78\": 2, \"46\": 9, \"60\": 3, \"14\": 2}, \"86\": {\"86\": 29, \"85\": 1, \"114\": 1, \"71\": 1}, \"70\": {\"55\": 2, \"14\": 5, \"70\": 30, \"126\": 10, \"69\": 1, \"17\": 1, \"24\": 1, \"10\": 4, \"43\": 10, \"40\": 5, \"60\": 2, \"62\": 4, \"107\": 1, \"44\": 1, \"78\": 2, \"1\": 8, \"87\": 4, \"33\": 4, \"3\": 4, \"122\": 2, \"11\": 1, \"5\": 1, \"18\": 1, \"88\": 2, \"23\": 3, \"123\": 1, \"16\": 2, \"21\": 1, \"93\": 3, \"61\": 2, \"94\": 1, \"45\": 1, \"4\": 1, \"26\": 1, \"105\": 2}, \"51\": {\"51\": 12, \"99\": 1, \"94\": 1, \"125\": 1, \"52\": 2, \"58\": 2, \"69\": 1}, \"23\": {\"86\": 3, \"57\": 1, \"129\": 1, \"23\": 2, \"120\": 1, \"49\": 1, \"121\": 2, \"114\": 1, \"19\": 3, \"127\": 2, \"59\": 1, \"69\": 1, \"29\": 2, \"108\": 1, \"12\": 3, \"124\": 4, \"109\": 1, \"5\": 1, \"4\": 3, \"26\": 1, \"128\": 3, \"20\": 1, \"2\": 1, \"63\": 1, \"117\": 1, \"32\": 1, \"99\": 1}, \"121\": {\"57\": 2, \"121\": 24, \"113\": 2, \"23\": 1, \"99\": 1, \"117\": 3, \"65\": 1, \"81\": 1, \"18\": 1}, \"63\": {\"21\": 1, \"63\": 16, \"48\": 1, \"82\": 1, \"49\": 1}, \"102\": {\"102\": 106, \"48\": 3, \"90\": 9, \"40\": 1, \"72\": 2, \"69\": 1}, \"21\": {\"21\": 46, \"45\": 1, \"117\": 1}, \"55\": {\"55\": 13, \"38\": 2, \"87\": 1}, \"54\": {\"54\": 15, \"35\": 1, \"98\": 2, \"127\": 2}, \"6\": {\"6\": 17, \"15\": 2, \"51\": 3, \"103\": 1, \"75\": 3, \"94\": 2, \"111\": 1, \"91\": 1, \"97\": 1, \"9\": 1}, \"109\": {\"109\": 40, \"90\": 5, \"18\": 2, \"23\": 1, \"102\": 2, \"87\": 6, \"88\": 11, \"93\": 8, \"84\": 2, \"117\": 2, \"118\": 2, \"126\": 3, \"16\": 7, \"70\": 1, \"43\": 1, \"119\": 2, \"67\": 1, \"78\": 1, \"8\": 1, \"94\": 1, \"39\": 1}, \"64\": {\"109\": 1, \"64\": 13, \"105\": 1, \"61\": 1}, \"20\": {\"20\": 16}, \"98\": {\"35\": 1, \"29\": 1, \"98\": 87, \"121\": 1, \"59\": 2, \"124\": 3, \"91\": 4, \"12\": 3, \"11\": 2, \"127\": 4, \"34\": 1, \"8\": 1, \"62\": 1, \"108\": 1, \"122\": 2}, \"92\": {\"92\": 20, \"62\": 1, \"118\": 2, \"76\": 1, \"90\": 1, \"113\": 1, \"84\": 2}, \"35\": {\"35\": 3, \"54\": 1, \"123\": 2, \"91\": 4, \"111\": 2}, \"113\": {\"113\": 49, \"109\": 1, \"40\": 1, \"48\": 3, \"2\": 2, \"117\": 8, \"26\": 2, \"65\": 1, \"24\": 2, \"23\": 1, \"21\": 2}, \"71\": {\"95\": 2, \"122\": 3, \"71\": 68, \"28\": 3, \"56\": 2, \"84\": 1, \"7\": 4, \"66\": 1, \"4\": 1, \"118\": 1, \"5\": 3, \"114\": 3, \"104\": 2, \"13\": 1, \"86\": 2, \"18\": 1, \"124\": 1, \"27\": 1}, \"94\": {\"94\": 28, \"71\": 1, \"101\": 9, \"6\": 2, \"106\": 1, \"42\": 3, \"99\": 1, \"69\": 1, \"113\": 1, \"89\": 1, \"108\": 1, \"24\": 2, \"125\": 2, \"97\": 2, \"37\": 1, \"65\": 1, \"9\": 2, \"8\": 1, \"88\": 1, \"74\": 1, \"15\": 1, \"111\": 1}, \"52\": {\"52\": 17, \"30\": 2, \"27\": 1}, \"116\": {\"87\": 2, \"116\": 17, \"90\": 1, \"89\": 2, \"84\": 2, \"92\": 1, \"93\": 1, \"57\": 1, \"118\": 1}, \"87\": {\"89\": 4, \"72\": 3, \"87\": 21, \"13\": 1, \"82\": 3, \"31\": 1, \"113\": 1, \"83\": 1, \"16\": 3, \"92\": 2, \"69\": 2, \"102\": 5, \"33\": 8, \"88\": 3, \"24\": 1, \"93\": 8, \"118\": 2, \"78\": 2, \"84\": 12, \"90\": 11, \"109\": 2, \"43\": 2, \"0\": 1, \"18\": 1, \"48\": 1, \"46\": 1, \"119\": 2, \"62\": 4, \"70\": 1, \"10\": 1, \"39\": 1, \"117\": 1}, \"90\": {\"89\": 2, \"90\": 129, \"116\": 2, \"13\": 2, \"102\": 8, \"48\": 1, \"118\": 2, \"84\": 2}, \"91\": {\"91\": 21, \"12\": 2, \"17\": 1, \"98\": 2, \"111\": 1, \"54\": 1}, \"84\": {\"84\": 63, \"62\": 8, \"90\": 7, \"117\": 1, \"33\": 7, \"16\": 2, \"7\": 1, \"109\": 1, \"1\": 1, \"118\": 1}, \"24\": {\"24\": 53, \"36\": 4, \"0\": 13, \"94\": 3, \"25\": 2, \"109\": 2, \"97\": 1, \"15\": 4, \"70\": 1, \"30\": 4, \"101\": 9, \"106\": 7, \"88\": 3, \"17\": 2, \"103\": 1, \"108\": 1, \"117\": 1, \"111\": 1}, \"33\": {\"84\": 13, \"33\": 89, \"90\": 5, \"82\": 1, \"87\": 1, \"102\": 2, \"62\": 19, \"117\": 1, \"38\": 1, \"92\": 1, \"108\": 1}, \"81\": {\"81\": 19, \"72\": 1, \"113\": 1, \"26\": 2, \"101\": 1}, \"115\": {\"115\": 8, \"100\": 1, \"49\": 1, \"71\": 2}, \"77\": {\"77\": 15, \"79\": 1}, \"106\": {\"106\": 87, \"91\": 1, \"21\": 1, \"101\": 17, \"24\": 1, \"30\": 5, \"15\": 1, \"0\": 2, \"7\": 1, \"94\": 4}, \"42\": {\"28\": 1, \"79\": 3, \"114\": 2, \"103\": 1, \"30\": 1, \"52\": 1, \"81\": 1, \"91\": 2, \"109\": 1, \"12\": 1, \"47\": 1, \"25\": 1, \"3\": 1, \"42\": 2, \"10\": 4, \"0\": 1, \"117\": 1, \"106\": 1, \"5\": 1, \"73\": 1}, \"38\": {\"38\": 13, \"80\": 3}, \"36\": {\"36\": 79, \"121\": 1, \"27\": 9, \"14\": 1, \"24\": 2, \"2\": 1, \"30\": 1, \"15\": 7, \"126\": 1, \"101\": 4, \"113\": 1, \"9\": 1, \"106\": 2, \"0\": 1, \"111\": 2, \"88\": 1}, \"79\": {\"79\": 14, \"103\": 1, \"77\": 1}, \"60\": {\"14\": 3, \"38\": 1, \"92\": 1, \"62\": 3, \"60\": 10, \"127\": 1, \"43\": 1, \"31\": 1, \"44\": 2, \"70\": 2, \"84\": 2, \"82\": 1}, \"80\": {\"38\": 2, \"80\": 9, \"1\": 3, \"92\": 1, \"109\": 1}, \"32\": {\"53\": 2, \"110\": 1, \"32\": 12, \"85\": 3, \"124\": 3, \"14\": 2, \"44\": 2, \"105\": 1, \"114\": 1, \"86\": 1, \"73\": 1, \"19\": 1, \"3\": 1, \"7\": 1, \"5\": 2, \"4\": 1, \"107\": 1}, \"0\": {\"0\": 89, \"111\": 4, \"24\": 1, \"106\": 7, \"8\": 2, \"101\": 4, \"30\": 6, \"54\": 1, \"15\": 1, \"10\": 1}, \"127\": {\"127\": 107, \"12\": 3, \"111\": 5, \"18\": 1, \"98\": 2, \"35\": 1, \"86\": 2, \"54\": 1, \"79\": 2}, \"114\": {\"114\": 105, \"69\": 1, \"86\": 5, \"71\": 3, \"4\": 1, \"118\": 1}, \"62\": {\"62\": 117, \"100\": 1, \"21\": 1, \"83\": 1, \"87\": 1, \"102\": 2, \"84\": 5, \"33\": 4, \"55\": 3, \"116\": 1, \"1\": 2, \"118\": 1, \"90\": 1}, \"129\": {\"129\": 19, \"73\": 2, \"85\": 1, \"28\": 2, \"19\": 3, \"53\": 2, \"74\": 1, \"0\": 2}, \"56\": {\"56\": 12}, \"76\": {\"76\": 16}, \"72\": {\"72\": 20, \"48\": 1, \"90\": 3, \"26\": 1, \"21\": 1, \"93\": 1, \"125\": 1}, \"88\": {\"62\": 3, \"71\": 3, \"88\": 38, \"87\": 10, \"90\": 1, \"3\": 2, \"118\": 2, \"43\": 13, \"16\": 6, \"93\": 13, \"1\": 7, \"39\": 1, \"70\": 6, \"44\": 3, \"109\": 1, \"126\": 2, \"11\": 2, \"18\": 1, \"33\": 1, \"89\": 1, \"83\": 2, \"116\": 1, \"82\": 1, \"40\": 1, \"21\": 1, \"5\": 1, \"36\": 1}, \"68\": {\"68\": 10, \"11\": 1, \"54\": 1, \"21\": 1, \"29\": 2, \"39\": 1}, \"67\": {\"67\": 5, \"60\": 1, \"82\": 3, \"21\": 1, \"92\": 1, \"80\": 1, \"1\": 1, \"76\": 2, \"75\": 1}, \"100\": {\"100\": 16}, \"34\": {\"34\": 12, \"4\": 1, \"86\": 1, \"124\": 2, \"17\": 2, \"21\": 1, \"12\": 1, \"71\": 2, \"49\": 1, \"24\": 1, \"29\": 1, \"5\": 1, \"11\": 2, \"41\": 2, \"68\": 2}, \"16\": {\"16\": 84, \"116\": 2, \"87\": 3, \"93\": 16, \"90\": 4, \"102\": 1, \"43\": 2, \"62\": 1, \"96\": 1, \"121\": 1, \"118\": 5, \"13\": 2, \"88\": 1, \"84\": 1}, \"126\": {\"126\": 86, \"70\": 9, \"74\": 1, \"107\": 1, \"14\": 2, \"123\": 1, \"78\": 1, \"88\": 2, \"44\": 3, \"40\": 1, \"43\": 4, \"105\": 1, \"72\": 1, \"10\": 3, \"4\": 1, \"1\": 2, \"33\": 1}, \"4\": {\"4\": 68, \"56\": 3, \"66\": 2, \"109\": 1, \"88\": 1, \"71\": 5, \"7\": 3, \"10\": 1, \"3\": 2, \"95\": 2}, \"101\": {\"101\": 123, \"129\": 1, \"106\": 8, \"111\": 1, \"15\": 8, \"0\": 1, \"124\": 1, \"94\": 3}, \"104\": {\"4\": 6, \"104\": 6, \"95\": 1, \"74\": 2, \"7\": 2, \"71\": 1, \"15\": 1, \"24\": 1}, \"30\": {\"67\": 1, \"30\": 63, \"106\": 11, \"98\": 1, \"58\": 1, \"49\": 1, \"125\": 7, \"0\": 6, \"101\": 6, \"111\": 2, \"127\": 2, \"122\": 1, \"69\": 1, \"39\": 1, \"110\": 1, \"24\": 2, \"114\": 1, \"108\": 1, \"40\": 1}, \"8\": {\"30\": 1, \"8\": 86, \"12\": 7, \"108\": 12, \"98\": 3, \"124\": 3, \"111\": 2, \"126\": 1, \"0\": 2, \"11\": 1, \"127\": 3, \"94\": 1, \"79\": 3, \"29\": 1, \"113\": 1, \"87\": 1}, \"82\": {\"82\": 28, \"100\": 1, \"118\": 1, \"16\": 2, \"62\": 1, \"90\": 2, \"70\": 1}, \"26\": {\"26\": 117, \"87\": 1, \"81\": 1, \"113\": 2, \"48\": 1, \"117\": 5, \"24\": 1, \"126\": 1, \"2\": 1, \"99\": 2, \"69\": 1, \"1\": 1, \"18\": 2, \"88\": 1, \"40\": 1}, \"96\": {\"96\": 17, \"93\": 2, \"16\": 1}, \"3\": {\"3\": 87, \"129\": 1, \"73\": 2, \"107\": 5, \"7\": 9, \"32\": 2, \"5\": 13, \"110\": 1, \"44\": 2, \"114\": 2, \"40\": 2, \"30\": 1, \"28\": 1, \"74\": 1, \"122\": 2, \"71\": 2, \"101\": 1, \"88\": 1, \"124\": 1}, \"25\": {\"25\": 8, \"36\": 1, \"126\": 1, \"112\": 2, \"91\": 2, \"97\": 1, \"6\": 1}, \"13\": {\"100\": 2, \"13\": 5, \"69\": 2, \"90\": 1, \"125\": 1, \"89\": 1, \"43\": 1, \"119\": 1, \"113\": 1, \"48\": 1}, \"37\": {\"64\": 1, \"115\": 1, \"37\": 8, \"40\": 2, \"122\": 1, \"73\": 1, \"3\": 1, \"50\": 1}, \"49\": {\"47\": 1, \"85\": 2, \"87\": 1, \"111\": 2, \"4\": 2, \"0\": 1, \"86\": 1, \"82\": 1, \"49\": 2, \"124\": 5, \"110\": 2, \"127\": 1, \"5\": 1, \"61\": 1, \"8\": 1}, \"111\": {\"111\": 130, \"127\": 3, \"30\": 3}, \"105\": {\"105\": 110, \"14\": 1, \"40\": 13, \"44\": 2, \"64\": 2, \"1\": 1, \"7\": 3}, \"17\": {\"123\": 2, \"114\": 1, \"42\": 1, \"87\": 1, \"127\": 3, \"17\": 3, \"26\": 1, \"29\": 2, \"128\": 2}, \"65\": {\"65\": 17, \"10\": 1, \"117\": 1, \"126\": 1}, \"123\": {\"3\": 2, \"123\": 10, \"129\": 3, \"6\": 1}, \"74\": {\"37\": 2, \"11\": 1, \"74\": 10, \"17\": 1, \"95\": 2}, \"97\": {\"97\": 14, \"1\": 1, \"58\": 1, \"119\": 1, \"77\": 1, \"8\": 1, \"90\": 1}, \"112\": {\"112\": 13, \"123\": 1, \"86\": 1, \"122\": 1}, \"120\": {\"120\": 17, \"121\": 1, \"117\": 2}, \"50\": {\"14\": 2, \"78\": 1, \"50\": 9, \"61\": 1, \"84\": 1, \"80\": 1, \"125\": 1}, \"59\": {\"59\": 9, \"24\": 1, \"91\": 2, \"86\": 2, \"42\": 2}, \"10\": {\"10\": 20, \"53\": 1, \"49\": 1, \"24\": 1, \"19\": 1, \"17\": 1, \"5\": 1, \"7\": 1, \"81\": 1, \"114\": 2, \"29\": 2, \"85\": 2, \"122\": 4, \"3\": 6, \"126\": 2, \"4\": 1, \"21\": 1, \"110\": 3, \"39\": 1, \"32\": 1, \"71\": 3, \"73\": 1, \"11\": 3}, \"45\": {\"14\": 2, \"1\": 5, \"33\": 2, \"45\": 6, \"127\": 1}, \"12\": {\"12\": 59, \"98\": 3, \"59\": 4, \"35\": 1, \"91\": 2, \"21\": 2, \"111\": 3, \"127\": 5, \"117\": 1, \"49\": 1, \"97\": 2, \"29\": 2, \"8\": 3}, \"75\": {\"51\": 2, \"75\": 9, \"40\": 1, \"103\": 1, \"125\": 1, \"101\": 2}, \"48\": {\"48\": 19, \"90\": 1}, \"61\": {\"61\": 10, \"40\": 3, \"10\": 1, \"36\": 1, \"76\": 1, \"89\": 1, \"64\": 1, \"8\": 1, \"95\": 1}, \"124\": {\"124\": 113, \"128\": 1, \"108\": 2, \"122\": 3, \"11\": 2, \"49\": 2, \"26\": 1}, \"11\": {\"124\": 11, \"122\": 6, \"11\": 41, \"8\": 5, \"12\": 4, \"10\": 1, \"117\": 1, \"39\": 1, \"98\": 1, \"108\": 2, \"29\": 2, \"34\": 1, \"49\": 3, \"69\": 1}, \"103\": {\"79\": 1, \"103\": 13, \"1\": 1, \"83\": 1}, \"7\": {\"7\": 81, \"71\": 5, \"73\": 1, \"110\": 5, \"3\": 9, \"29\": 2, \"109\": 2, \"4\": 5, \"5\": 12, \"26\": 1, \"40\": 2, \"78\": 1, \"66\": 1, \"107\": 2, \"10\": 1, \"114\": 2}, \"18\": {\"18\": 86, \"117\": 16, \"26\": 3, \"109\": 2, \"102\": 5, \"39\": 1, \"113\": 2, \"108\": 1, \"24\": 1, \"30\": 1, \"69\": 2}, \"31\": {\"31\": 12, \"69\": 2, \"102\": 2, \"89\": 2, \"13\": 1, \"90\": 1}, \"15\": {\"15\": 82, \"6\": 1, \"25\": 1, \"0\": 1, \"101\": 11, \"40\": 1, \"36\": 1, \"106\": 7, \"117\": 1, \"30\": 3, \"58\": 2, \"127\": 3, \"8\": 1, \"94\": 2, \"24\": 1}, \"1\": {\"1\": 108, \"45\": 1, \"99\": 1, \"36\": 1, \"70\": 4, \"75\": 1, \"60\": 1, \"22\": 1, \"43\": 4}, \"66\": {\"66\": 17, \"33\": 1, \"4\": 1, \"5\": 1}, \"110\": {\"68\": 1, \"110\": 19, \"81\": 1, \"85\": 2, \"65\": 1, \"109\": 1, \"32\": 2, \"7\": 1, \"3\": 4, \"26\": 1, \"5\": 2, \"14\": 1, \"57\": 1, \"10\": 1, \"113\": 1, \"1\": 1}, \"27\": {\"27\": 36, \"36\": 7, \"117\": 2, \"69\": 1, \"24\": 4, \"15\": 4, \"2\": 1, \"101\": 6, \"126\": 1, \"9\": 1, \"107\": 2, \"10\": 1, \"11\": 1, \"39\": 1}, \"22\": {\"50\": 2, \"22\": 15, \"125\": 1, \"27\": 1, \"1\": 1}, \"117\": {\"117\": 100, \"121\": 3, \"18\": 5, \"26\": 4, \"30\": 1, \"69\": 2, \"65\": 1, \"15\": 2, \"90\": 2}, \"39\": {\"39\": 43, \"89\": 4, \"26\": 11, \"16\": 1, \"36\": 1, \"102\": 6, \"118\": 1, \"69\": 8, \"109\": 4, \"24\": 1, \"18\": 6, \"3\": 1, \"88\": 3, \"20\": 1, \"10\": 1, \"81\": 2, \"82\": 1, \"43\": 1, \"2\": 1, \"63\": 1, \"121\": 1, \"78\": 1, \"113\": 1, \"62\": 2, \"84\": 1, \"7\": 1, \"87\": 1, \"15\": 1, \"70\": 1}}, \"Wisig_1\": {\"60\": {\"104\": 1, \"105\": 1, \"96\": 2, \"34\": 3, \"95\": 1, \"83\": 1, \"4\": 1, \"60\": 2, \"116\": 1, \"23\": 1, \"26\": 1, \"13\": 1}, \"59\": {\"62\": 1, \"59\": 7, \"6\": 2, \"125\": 1, \"102\": 1}, \"107\": {\"107\": 110, \"34\": 2, \"85\": 2, \"105\": 1, \"0\": 2, \"84\": 1, \"94\": 1, \"86\": 1, \"8\": 1, \"93\": 3}, \"113\": {\"113\": 117, \"121\": 1, \"3\": 2, \"117\": 2, \"118\": 2}, \"6\": {\"6\": 8, \"59\": 1, \"126\": 1, \"127\": 2, \"27\": 2, \"75\": 1, \"15\": 2, \"71\": 2, \"12\": 1, \"88\": 1, \"36\": 1, \"112\": 1, \"21\": 1, \"98\": 1, \"53\": 1, \"94\": 3, \"23\": 1, \"51\": 1, \"106\": 1}, \"24\": {\"24\": 69, \"94\": 3, \"108\": 6, \"27\": 4, \"30\": 3, \"15\": 5, \"88\": 1, \"117\": 1}, \"50\": {\"76\": 1, \"50\": 11, \"3\": 1, \"23\": 1, \"33\": 1, \"30\": 1}, \"62\": {\"62\": 85, \"50\": 1, \"33\": 13, \"95\": 1, \"102\": 9, \"66\": 1, \"69\": 3, \"90\": 2, \"39\": 1, \"118\": 1, \"3\": 1, \"70\": 1, \"26\": 1}, \"48\": {\"48\": 10, \"57\": 2}, \"104\": {\"104\": 16}, \"105\": {\"105\": 66, \"40\": 12, \"114\": 1, \"84\": 3, \"65\": 1, \"15\": 1}, \"44\": {\"44\": 69, \"8\": 4, \"70\": 3}, \"49\": {\"44\": 1, \"6\": 1, \"15\": 1, \"0\": 1, \"111\": 1, \"49\": 4, \"31\": 4, \"101\": 3, \"12\": 1, \"127\": 2, \"110\": 1}, \"55\": {\"55\": 12}, \"4\": {\"4\": 91, \"38\": 2, \"93\": 6, \"41\": 1}, \"76\": {\"76\": 15, \"61\": 1}, \"85\": {\"85\": 28, \"107\": 2, \"86\": 1, \"93\": 1}, \"89\": {\"89\": 35, \"72\": 1}, \"74\": {\"64\": 1, \"74\": 11, \"80\": 1, \"45\": 2, \"20\": 1}, \"112\": {\"112\": 12, \"58\": 1, \"111\": 2, \"37\": 1}, \"79\": {\"79\": 11, \"124\": 1}, \"0\": {\"89\": 1, \"118\": 1, \"0\": 58, \"72\": 2, \"110\": 8, \"23\": 1, \"49\": 4, \"1\": 1, \"98\": 5, \"77\": 1, \"54\": 1, \"9\": 1}, \"91\": {\"112\": 1, \"89\": 1, \"91\": 16, \"111\": 1, \"53\": 1, \"110\": 4, \"71\": 1, \"103\": 1, \"29\": 1, \"107\": 1}, \"118\": {\"118\": 57, \"95\": 6, \"69\": 2, \"26\": 7, \"18\": 3, \"117\": 4, \"16\": 3, \"27\": 1, \"11\": 1}, \"80\": {\"80\": 12, \"48\": 1, \"22\": 2, \"74\": 1}, \"64\": {\"64\": 15, \"23\": 1}, \"97\": {\"97\": 12, \"88\": 2, \"112\": 1, \"101\": 1, \"94\": 1, \"98\": 1, \"71\": 1, \"72\": 1}, \"84\": {\"84\": 101, \"14\": 6, \"87\": 5, \"93\": 1, \"114\": 7, \"105\": 2, \"1\": 2}, \"38\": {\"38\": 14, \"57\": 1, \"122\": 1}, \"30\": {\"30\": 29, \"111\": 1, \"24\": 3, \"15\": 4, \"27\": 4, \"94\": 3, \"71\": 1, \"101\": 1, \"75\": 1, \"42\": 1, \"36\": 3, \"88\": 1}, \"32\": {\"32\": 13, \"59\": 2, \"65\": 1, \"68\": 1, \"51\": 1, \"29\": 1, \"71\": 3, \"98\": 1, \"103\": 1, \"127\": 2, \"9\": 1, \"12\": 1, \"121\": 1, \"113\": 1, \"0\": 1, \"110\": 1}, \"72\": {\"72\": 31, \"54\": 1}, \"33\": {\"76\": 4, \"3\": 2, \"33\": 99, \"62\": 12, \"14\": 1, \"90\": 13, \"102\": 1}, \"34\": {\"127\": 4, \"38\": 1, \"7\": 2, \"75\": 1, \"91\": 1, \"98\": 1, \"68\": 1, \"124\": 4, \"84\": 3, \"53\": 2, \"34\": 2, \"0\": 2, \"87\": 2, \"56\": 1, \"14\": 1, \"128\": 1, \"106\": 1, \"42\": 1, \"25\": 1}, \"28\": {\"38\": 2, \"22\": 1, \"28\": 13, \"7\": 2, \"82\": 2}, \"123\": {\"123\": 15, \"124\": 1}, \"2\": {\"76\": 2, \"2\": 11, \"28\": 1, \"16\": 1, \"3\": 1, \"45\": 1, \"118\": 1, \"99\": 1, \"95\": 3, \"18\": 2, \"13\": 1, \"22\": 1, \"82\": 1, \"116\": 1, \"11\": 2, \"21\": 1, \"84\": 1}, \"70\": {\"70\": 45, \"10\": 9, \"126\": 16, \"128\": 1, \"96\": 1, \"44\": 5, \"93\": 11, \"86\": 1, \"107\": 1, \"18\": 1, \"26\": 1, \"5\": 3, \"109\": 1, \"108\": 4, \"39\": 1, \"8\": 8, \"117\": 1, \"124\": 3, \"87\": 1, \"79\": 1, \"83\": 2, \"49\": 1, \"21\": 1, \"31\": 1, \"15\": 1, \"0\": 2, \"102\": 1}, \"127\": {\"127\": 91, \"112\": 1, \"53\": 1, \"68\": 1, \"78\": 1, \"103\": 1, \"98\": 2, \"111\": 4, \"71\": 1, \"125\": 2, \"6\": 1, \"106\": 2}, \"110\": {\"110\": 87, \"91\": 1, \"0\": 10, \"49\": 1, \"32\": 1, \"89\": 5, \"106\": 4, \"105\": 1, \"98\": 11, \"127\": 1, \"10\": 1, \"39\": 1, \"113\": 1, \"41\": 1, \"69\": 1, \"16\": 1}, \"126\": {\"126\": 110, \"19\": 1, \"21\": 1, \"44\": 3, \"10\": 4, \"70\": 9, \"8\": 3, \"124\": 1, \"3\": 1, \"93\": 2, \"11\": 1}, \"13\": {\"13\": 16}, \"15\": {\"15\": 66, \"30\": 2, \"101\": 5, \"27\": 12, \"71\": 6, \"106\": 2, \"94\": 3, \"12\": 3, \"97\": 1, \"88\": 2, \"24\": 1, \"111\": 1}, \"29\": {\"128\": 1, \"49\": 1, \"29\": 26}, \"18\": {\"18\": 99, \"23\": 1, \"39\": 3, \"16\": 3, \"117\": 4, \"33\": 2, \"2\": 2, \"118\": 4, \"62\": 2}, \"7\": {\"7\": 106, \"43\": 21, \"122\": 10, \"115\": 1, \"28\": 1, \"25\": 1, \"81\": 2}, \"56\": {\"56\": 9, \"98\": 1, \"37\": 2}, \"98\": {\"98\": 86, \"56\": 1, \"0\": 2, \"127\": 2, \"110\": 11, \"106\": 6}, \"99\": {\"99\": 17, \"23\": 2, \"64\": 1, \"81\": 2, \"2\": 1, \"11\": 1}, \"77\": {\"77\": 9, \"17\": 2, \"10\": 2, \"90\": 1, \"110\": 2}, \"103\": {\"15\": 1, \"56\": 1, \"103\": 12, \"94\": 1, \"29\": 1}, \"128\": {\"128\": 7, \"7\": 3, \"103\": 1, \"48\": 3, \"72\": 2, \"29\": 2, \"82\": 1, \"89\": 1, \"49\": 1, \"45\": 1, \"0\": 1, \"43\": 1}, \"3\": {\"90\": 6, \"50\": 1, \"33\": 1, \"3\": 56, \"13\": 1, \"81\": 1, \"102\": 2, \"2\": 1, \"122\": 2, \"62\": 7, \"88\": 1, \"127\": 1, \"11\": 4, \"69\": 2, \"71\": 1, \"15\": 1}, \"121\": {\"121\": 26, \"113\": 1, \"123\": 2, \"18\": 1, \"63\": 1, \"16\": 1}, \"42\": {\"128\": 2, \"99\": 1, \"7\": 1, \"74\": 1, \"10\": 1, \"81\": 1, \"61\": 2, \"31\": 1, \"42\": 4, \"102\": 1, \"20\": 1, \"4\": 1, \"82\": 1, \"3\": 1, \"129\": 4, \"124\": 1, \"109\": 1, \"44\": 1, \"116\": 1, \"43\": 1}, \"90\": {\"90\": 111, \"76\": 1, \"67\": 1, \"33\": 5, \"3\": 1, \"116\": 1}, \"37\": {\"37\": 14, \"56\": 1, \"112\": 1}, \"120\": {\"108\": 1, \"120\": 14, \"45\": 2, \"25\": 1, \"21\": 1, \"78\": 1}, \"117\": {\"117\": 91, \"26\": 8, \"16\": 10, \"118\": 7, \"18\": 2}, \"9\": {\"9\": 31, \"124\": 1}, \"108\": {\"108\": 73, \"96\": 2, \"71\": 2, \"9\": 1, \"70\": 1, \"127\": 3, \"10\": 3, \"101\": 11, \"111\": 2, \"5\": 1, \"12\": 9, \"11\": 1, \"126\": 3, \"53\": 1, \"49\": 2, \"128\": 1, \"15\": 1, \"72\": 1, \"88\": 1, \"87\": 1, \"106\": 3, \"24\": 1}, \"83\": {\"14\": 2, \"8\": 1, \"83\": 14, \"34\": 3, \"73\": 2, \"124\": 2, \"4\": 2, \"93\": 2}, \"14\": {\"14\": 70, \"84\": 8, \"25\": 1, \"65\": 1, \"124\": 3, \"87\": 5, \"1\": 3, \"38\": 1, \"96\": 1, \"7\": 1, \"43\": 2}, \"63\": {\"63\": 14, \"16\": 2}, \"11\": {\"76\": 1, \"11\": 77, \"82\": 4, \"3\": 9, \"122\": 2, \"26\": 1, \"90\": 11, \"109\": 1, \"43\": 2, \"7\": 3, \"19\": 1, \"23\": 1, \"81\": 1, \"99\": 1, \"102\": 2, \"18\": 1}, \"95\": {\"95\": 30, \"117\": 2, \"118\": 3, \"2\": 1}, \"26\": {\"63\": 1, \"26\": 93, \"117\": 15, \"18\": 4, \"39\": 1, \"118\": 3, \"16\": 11, \"36\": 1, \"97\": 1}, \"22\": {\"22\": 5, \"38\": 1, \"74\": 2, \"123\": 1, \"80\": 3, \"7\": 2, \"28\": 2}, \"102\": {\"69\": 1, \"102\": 94, \"67\": 2, \"65\": 1, \"116\": 4, \"119\": 1, \"62\": 12, \"33\": 5}, \"69\": {\"95\": 1, \"69\": 88, \"2\": 1, \"119\": 2, \"113\": 2, \"39\": 3, \"117\": 1, \"102\": 2, \"26\": 3, \"62\": 2, \"18\": 1}, \"1\": {\"57\": 1, \"1\": 120, \"87\": 2, \"84\": 2, \"7\": 1, \"25\": 1, \"19\": 1, \"8\": 1, \"14\": 1}, \"67\": {\"67\": 16}, \"57\": {\"57\": 10, \"128\": 1, \"87\": 1}, \"8\": {\"44\": 9, \"8\": 71, \"83\": 2, \"124\": 7, \"107\": 5, \"10\": 4, \"19\": 2, \"86\": 1, \"93\": 12, \"62\": 1, \"40\": 1, \"5\": 8, \"84\": 2, \"4\": 1, \"126\": 1, \"1\": 2, \"70\": 4, \"66\": 1}, \"109\": {\"109\": 77, \"99\": 1, \"64\": 1, \"78\": 2, \"120\": 1, \"43\": 5, \"7\": 2, \"19\": 1, \"27\": 1, \"39\": 1, \"108\": 2, \"1\": 8, \"124\": 1, \"26\": 1, \"15\": 1, \"84\": 1, \"70\": 1, \"122\": 2, \"20\": 1, \"0\": 1, \"21\": 2, \"87\": 2, \"96\": 1, \"83\": 1, \"14\": 2, \"3\": 1, \"10\": 1, \"110\": 1, \"127\": 1, \"18\": 1}, \"129\": {\"8\": 3, \"128\": 1, \"45\": 1, \"102\": 3, \"62\": 2, \"129\": 6, \"66\": 3, \"44\": 1, \"65\": 2, \"83\": 2, \"50\": 1, \"2\": 1, \"84\": 2}, \"111\": {\"111\": 99, \"75\": 1, \"112\": 2, \"53\": 2, \"127\": 4, \"71\": 4, \"12\": 3, \"58\": 2, \"32\": 1, \"68\": 2}, \"71\": {\"71\": 79, \"102\": 1, \"52\": 2, \"53\": 2, \"12\": 4, \"69\": 1, \"125\": 5, \"98\": 3, \"113\": 2, \"101\": 2, \"32\": 1, \"106\": 1, \"0\": 1, \"111\": 1, \"39\": 1, \"126\": 1, \"62\": 1}, \"47\": {\"47\": 11, \"9\": 1}, \"82\": {\"82\": 29, \"45\": 1, \"28\": 2, \"83\": 1, \"11\": 2, \"128\": 1}, \"27\": {\"27\": 61, \"30\": 4, \"88\": 6, \"94\": 8, \"24\": 4, \"52\": 1, \"15\": 7, \"108\": 1}, \"19\": {\"31\": 1, \"104\": 1, \"19\": 10, \"73\": 1, \"8\": 2, \"10\": 2, \"89\": 1, \"124\": 3, \"64\": 1, \"85\": 1, \"4\": 1, \"42\": 2, \"83\": 1, \"87\": 1}, \"122\": {\"87\": 4, \"82\": 2, \"122\": 44, \"1\": 4, \"39\": 1, \"93\": 1, \"43\": 14, \"7\": 7, \"109\": 1, \"114\": 1, \"25\": 2, \"42\": 1, \"14\": 2, \"40\": 1, \"84\": 2, \"102\": 1}, \"53\": {\"53\": 19, \"29\": 1}, \"87\": {\"122\": 1, \"104\": 1, \"87\": 45, \"1\": 7, \"3\": 1, \"114\": 12, \"40\": 9, \"115\": 1, \"93\": 1, \"14\": 9, \"108\": 1, \"84\": 8, \"48\": 1, \"109\": 1, \"105\": 2, \"37\": 1, \"129\": 1, \"43\": 3, \"8\": 3}, \"100\": {\"100\": 11, \"28\": 1, \"83\": 2, \"99\": 1, \"11\": 1}, \"66\": {\"66\": 14, \"76\": 2}, \"31\": {\"31\": 15, \"5\": 1}, \"58\": {\"58\": 8, \"112\": 1, \"6\": 1, \"111\": 2}, \"68\": {\"68\": 15, \"6\": 1}, \"88\": {\"58\": 1, \"112\": 1, \"88\": 63, \"27\": 9, \"78\": 1, \"71\": 2, \"36\": 11, \"94\": 6, \"126\": 2, \"15\": 6, \"101\": 2, \"10\": 1, \"24\": 4, \"1\": 1, \"96\": 1, \"109\": 1, \"70\": 1, \"108\": 1}, \"45\": {\"38\": 1, \"129\": 1, \"122\": 4, \"45\": 1, \"116\": 1, \"28\": 1, \"127\": 1, \"11\": 1, \"7\": 1}, \"114\": {\"128\": 1, \"57\": 1, \"114\": 103, \"105\": 7, \"77\": 2, \"40\": 9, \"84\": 5}, \"23\": {\"58\": 1, \"23\": 6, \"72\": 1, \"99\": 2, \"2\": 1, \"60\": 1, \"90\": 1, \"120\": 1, \"54\": 1, \"110\": 1, \"9\": 1, \"0\": 1, \"82\": 2, \"11\": 2, \"106\": 2}, \"65\": {\"58\": 1, \"26\": 1, \"43\": 1, \"16\": 1, \"25\": 2, \"20\": 1, \"32\": 1, \"63\": 1, \"129\": 1, \"118\": 1, \"18\": 1}, \"124\": {\"124\": 105, \"83\": 1, \"86\": 1, \"19\": 1, \"8\": 7, \"70\": 1, \"93\": 2}, \"10\": {\"10\": 27, \"85\": 3, \"54\": 1, \"17\": 1, \"4\": 5, \"107\": 11, \"109\": 1, \"126\": 19, \"44\": 3, \"8\": 5, \"0\": 5, \"15\": 1, \"7\": 1, \"43\": 1, \"93\": 10, \"94\": 1, \"70\": 8, \"5\": 6, \"71\": 1, \"98\": 1, \"106\": 1, \"110\": 2, \"19\": 1, \"86\": 2, \"122\": 1, \"87\": 1, \"90\": 1}, \"92\": {\"92\": 28}, \"40\": {\"40\": 117, \"87\": 2, \"7\": 2, \"114\": 11, \"43\": 1, \"105\": 8, \"26\": 1, \"4\": 1, \"39\": 1}, \"73\": {\"73\": 17, \"24\": 1, \"93\": 1, \"108\": 1}, \"94\": {\"94\": 60, \"6\": 5, \"27\": 10, \"12\": 1, \"30\": 3, \"36\": 1, \"88\": 3, \"101\": 1, \"15\": 2, \"106\": 1, \"89\": 1, \"29\": 1, \"24\": 1, \"118\": 1, \"111\": 1}, \"81\": {\"81\": 24, \"38\": 1, \"60\": 1, \"25\": 2}, \"101\": {\"101\": 105, \"62\": 1, \"12\": 3, \"33\": 1}, \"86\": {\"86\": 32, \"71\": 1, \"93\": 1, \"111\": 1, \"15\": 1}, \"78\": {\"78\": 3, \"22\": 1, \"74\": 2, \"25\": 3, \"96\": 1, \"115\": 1, \"87\": 1, \"109\": 2, \"11\": 1, \"120\": 1}, \"96\": {\"96\": 15, \"14\": 1, \"21\": 1, \"129\": 2, \"63\": 1}, \"5\": {\"5\": 70, \"124\": 2, \"93\": 7, \"108\": 1, \"109\": 2, \"24\": 1, \"31\": 1, \"128\": 1, \"86\": 2, \"44\": 1}, \"16\": {\"26\": 15, \"16\": 62, \"63\": 3, \"117\": 18, \"69\": 2, \"18\": 3, \"21\": 1, \"118\": 3, \"113\": 1}, \"35\": {\"35\": 11, \"107\": 1}, \"51\": {\"51\": 12, \"32\": 1, \"125\": 3}, \"46\": {\"46\": 6, \"34\": 1, \"75\": 1, \"12\": 1, \"14\": 1, \"57\": 1, \"85\": 1}, \"20\": {\"20\": 13, \"78\": 1, \"122\": 1, \"43\": 1}, \"116\": {\"62\": 2, \"33\": 2, \"116\": 14, \"61\": 1, \"90\": 3, \"119\": 1, \"102\": 1, \"122\": 1, \"66\": 2, \"2\": 2, \"82\": 1, \"108\": 1, \"81\": 1}, \"75\": {\"75\": 14, \"111\": 1, \"91\": 1}, \"43\": {\"22\": 2, \"80\": 1, \"20\": 1, \"42\": 1, \"43\": 60, \"115\": 3, \"109\": 1, \"14\": 3, \"7\": 21, \"26\": 2, \"84\": 2, \"122\": 10, \"1\": 10, \"124\": 2, \"40\": 2, \"100\": 1, \"120\": 1, \"81\": 2, \"11\": 1, \"87\": 2}, \"17\": {\"17\": 10, \"54\": 2, \"0\": 2, \"98\": 2}, \"12\": {\"12\": 93, \"107\": 1, \"111\": 3, \"101\": 4, \"127\": 1, \"71\": 2}, \"25\": {\"25\": 13, \"60\": 1, \"43\": 1, \"81\": 1}, \"54\": {\"54\": 14, \"89\": 1, \"58\": 1}, \"36\": {\"36\": 102, \"10\": 1, \"113\": 1, \"101\": 2, \"9\": 2, \"94\": 2, \"117\": 1, \"88\": 1}, \"52\": {\"52\": 18, \"71\": 1, \"6\": 1}, \"61\": {\"61\": 12}, \"106\": {\"106\": 107, \"91\": 1, \"53\": 1, \"110\": 2, \"127\": 1, \"98\": 7, \"32\": 1}, \"39\": {\"39\": 61, \"10\": 1, \"117\": 13, \"26\": 7, \"18\": 6, \"118\": 2, \"69\": 1, \"122\": 1, \"33\": 3, \"114\": 1, \"95\": 1, \"127\": 2, \"16\": 3, \"113\": 2}, \"119\": {\"119\": 16}, \"125\": {\"125\": 146, \"51\": 2}, \"93\": {\"128\": 1, \"14\": 1, \"4\": 10, \"93\": 55, \"85\": 3, \"126\": 2, \"0\": 3, \"44\": 11, \"40\": 6, \"5\": 12, \"8\": 13, \"84\": 3, \"107\": 8, \"105\": 2, \"124\": 4, \"114\": 2, \"10\": 3, \"95\": 1, \"121\": 1, \"86\": 1, \"70\": 3, \"69\": 1, \"1\": 2}, \"115\": {\"115\": 11, \"7\": 1}, \"21\": {\"21\": 16, \"96\": 2, \"42\": 1, \"7\": 2, \"39\": 1, \"43\": 1, \"94\": 1, \"108\": 1, \"44\": 2, \"90\": 1, \"118\": 2, \"11\": 1, \"98\": 1, \"19\": 1, \"36\": 1, \"14\": 1, \"109\": 1, \"83\": 1, \"113\": 1, \"8\": 2}, \"41\": {\"41\": 16}}, \"Wisig_4\": {\"55\": {\"55\": 15, \"37\": 1}, \"9\": {\"9\": 25, \"15\": 2, \"8\": 1}, \"70\": {\"112\": 1, \"4\": 2, \"23\": 2, \"128\": 2, \"70\": 47, \"108\": 1, \"27\": 4, \"100\": 2, \"0\": 7, \"124\": 16, \"114\": 5, \"86\": 1, \"3\": 2, \"98\": 10, \"110\": 2, \"39\": 1, \"88\": 1, \"71\": 1, \"1\": 3, \"101\": 1, \"15\": 1, \"83\": 2, \"42\": 1, \"16\": 1, \"85\": 1, \"117\": 1, \"84\": 1, \"8\": 2, \"113\": 1}, \"112\": {\"112\": 12, \"83\": 1, \"52\": 1, \"73\": 2}, \"115\": {\"115\": 8, \"36\": 1, \"99\": 2, \"18\": 2, \"64\": 2, \"32\": 1}, \"56\": {\"56\": 9, \"43\": 1, \"86\": 2}, \"108\": {\"111\": 1, \"115\": 1, \"60\": 2, \"108\": 32, \"25\": 1, \"11\": 5, \"109\": 2, \"112\": 1, \"119\": 1, \"62\": 1, \"129\": 1, \"57\": 1, \"19\": 1, \"51\": 1, \"93\": 7, \"10\": 1, \"40\": 1, \"118\": 1, \"5\": 13, \"7\": 3, \"122\": 1, \"15\": 1, \"39\": 1, \"79\": 1, \"14\": 4, \"124\": 1, \"78\": 1, \"24\": 1, \"88\": 2, \"36\": 1, \"1\": 1}, \"117\": {\"117\": 103, \"26\": 4, \"113\": 11, \"81\": 2, \"107\": 1, \"89\": 1, \"121\": 1, \"67\": 1}, \"111\": {\"112\": 1, \"9\": 1, \"111\": 100, \"103\": 2, \"101\": 7, \"106\": 4, \"12\": 5, \"98\": 1, \"125\": 4, \"127\": 5, \"68\": 1, \"113\": 1}, \"71\": {\"71\": 76, \"56\": 1, \"108\": 1, \"4\": 8, \"114\": 7, \"15\": 1, \"7\": 2, \"8\": 1, \"124\": 1, \"36\": 1, \"10\": 2, \"87\": 1, \"126\": 2}, \"59\": {\"59\": 9, \"25\": 1, \"6\": 2}, \"10\": {\"9\": 3, \"10\": 65, \"25\": 1, \"15\": 16, \"27\": 4, \"6\": 2, \"0\": 1, \"30\": 7, \"70\": 1, \"36\": 6, \"24\": 6, \"88\": 1, \"94\": 2, \"106\": 1, \"1\": 1, \"111\": 3, \"37\": 1, \"8\": 2, \"126\": 1}, \"83\": {\"83\": 19, \"124\": 2, \"128\": 3, \"34\": 2, \"119\": 2}, \"116\": {\"13\": 1, \"116\": 8, \"72\": 1, \"62\": 1, \"69\": 5, \"45\": 1, \"96\": 1, \"66\": 2, \"33\": 2, \"44\": 2, \"40\": 1, \"89\": 2, \"118\": 1}, \"13\": {\"13\": 15, \"90\": 1}, \"4\": {\"56\": 1, \"55\": 1, \"4\": 89, \"71\": 5, \"124\": 2, \"114\": 1, \"85\": 2, \"98\": 2, \"126\": 1}, \"125\": {\"75\": 2, \"125\": 99, \"113\": 2, \"59\": 1, \"101\": 2}, \"102\": {\"102\": 94, \"92\": 1, \"90\": 17, \"69\": 2, \"67\": 1, \"62\": 1, \"44\": 5, \"1\": 1, \"116\": 1, \"108\": 1}, \"47\": {\"125\": 1, \"75\": 1, \"47\": 10}, \"28\": {\"28\": 18, \"1\": 2}, \"82\": {\"82\": 26, \"40\": 2, \"115\": 1, \"122\": 1, \"64\": 2}, \"60\": {\"60\": 8, \"17\": 1, \"82\": 2, \"122\": 1, \"64\": 1, \"7\": 1, \"45\": 1, \"8\": 1, \"43\": 3, \"100\": 1, \"5\": 1, \"116\": 1, \"83\": 1, \"20\": 1, \"53\": 1, \"118\": 1, \"129\": 1, \"124\": 2, \"46\": 2, \"86\": 1}, \"107\": {\"28\": 2, \"107\": 102, \"32\": 1, \"115\": 2, \"2\": 1, \"3\": 3, \"105\": 3, \"1\": 1, \"40\": 1, \"87\": 10, \"7\": 1, \"84\": 1, \"79\": 1, \"99\": 1, \"44\": 1, \"102\": 1, \"14\": 1, \"98\": 1}, \"75\": {\"47\": 1, \"125\": 1, \"75\": 14}, \"31\": {\"31\": 13, \"74\": 1, \"33\": 2}, \"92\": {\"92\": 21, \"69\": 5, \"90\": 1, \"102\": 1}, \"58\": {\"58\": 16}, \"113\": {\"113\": 72, \"117\": 20, \"78\": 1, \"26\": 6, \"10\": 1, \"111\": 1, \"81\": 3, \"39\": 8, \"126\": 4, \"18\": 2, \"118\": 1, \"16\": 5, \"67\": 2, \"1\": 1, \"106\": 1}, \"95\": {\"17\": 2, \"95\": 24, \"73\": 2, \"98\": 2, \"41\": 2}, \"14\": {\"60\": 1, \"31\": 1, \"14\": 76, \"73\": 3, \"87\": 6, \"33\": 1, \"107\": 4, \"11\": 6, \"5\": 1, \"3\": 2, \"16\": 1, \"7\": 2, \"32\": 1, \"102\": 1, \"50\": 1, \"43\": 1, \"40\": 2, \"117\": 1, \"90\": 1}, \"17\": {\"17\": 19, \"114\": 1}, \"104\": {\"50\": 2, \"104\": 12, \"89\": 1, \"107\": 1}, \"72\": {\"72\": 21, \"43\": 1, \"87\": 2, \"49\": 2, \"78\": 1, \"74\": 2, \"60\": 1, \"32\": 1, \"45\": 1}, \"69\": {\"13\": 1, \"69\": 87, \"102\": 10, \"38\": 1, \"88\": 1, \"84\": 3, \"90\": 13, \"44\": 2, \"118\": 2, \"22\": 1, \"92\": 2, \"21\": 1, \"18\": 1, \"33\": 2, \"109\": 1}, \"63\": {\"63\": 12, \"26\": 3, \"81\": 1}, \"12\": {\"12\": 66, \"103\": 1, \"8\": 4, \"29\": 1, \"111\": 10, \"106\": 4, \"101\": 6, \"3\": 1, \"91\": 1, \"105\": 1, \"30\": 1, \"1\": 1, \"0\": 2, \"62\": 1}, \"25\": {\"25\": 14, \"10\": 1, \"30\": 1}, \"67\": {\"63\": 1, \"72\": 1, \"74\": 2, \"26\": 1, \"44\": 2, \"40\": 1, \"99\": 2, \"67\": 3, \"113\": 2, \"33\": 1}, \"50\": {\"72\": 1, \"50\": 15}, \"43\": {\"108\": 1, \"72\": 2, \"74\": 2, \"93\": 10, \"23\": 1, \"43\": 39, \"33\": 17, \"22\": 2, \"70\": 2, \"1\": 1, \"107\": 3, \"109\": 4, \"26\": 1, \"40\": 12, \"122\": 3, \"118\": 4, \"87\": 2, \"14\": 3, \"110\": 1, \"32\": 2, \"88\": 1, \"5\": 3, \"11\": 1, \"84\": 1, \"102\": 1, \"15\": 1}, \"96\": {\"96\": 16, \"62\": 2, \"69\": 2}, \"128\": {\"71\": 1, \"50\": 1, \"64\": 1, \"128\": 7, \"79\": 2, \"82\": 1, \"46\": 1, \"104\": 1, \"108\": 1, \"129\": 1, \"28\": 1, \"83\": 1, \"86\": 1, \"7\": 1, \"124\": 2, \"60\": 1}, \"77\": {\"77\": 12}, \"54\": {\"54\": 15, \"106\": 1}, \"118\": {\"43\": 7, \"74\": 1, \"102\": 7, \"118\": 48, \"108\": 1, \"44\": 3, \"62\": 5, \"109\": 2, \"66\": 1, \"15\": 1, \"122\": 8, \"39\": 1, \"33\": 12, \"26\": 1, \"93\": 3, \"110\": 2, \"92\": 2, \"31\": 1, \"116\": 2, \"126\": 1, \"127\": 1, \"5\": 1, \"78\": 1}, \"30\": {\"30\": 36, \"8\": 2, \"109\": 1, \"27\": 7, \"15\": 14, \"12\": 3, \"10\": 5, \"94\": 4, \"9\": 1, \"54\": 1, \"24\": 1, \"39\": 1}, \"51\": {\"103\": 1, \"8\": 1, \"111\": 3, \"75\": 1, \"34\": 1, \"0\": 1, \"51\": 3, \"9\": 2, \"106\": 2, \"25\": 1}, \"122\": {\"122\": 38, \"74\": 3, \"45\": 2, \"93\": 4, \"110\": 6, \"38\": 2, \"118\": 1, \"22\": 1, \"43\": 6, \"44\": 4, \"40\": 1, \"87\": 1, \"126\": 1, \"33\": 7, \"39\": 1, \"88\": 1, \"49\": 1, \"15\": 1, \"113\": 1, \"111\": 1, \"7\": 1}, \"46\": {\"46\": 13, \"124\": 1, \"128\": 3, \"120\": 1, \"83\": 1, \"55\": 1}, \"79\": {\"79\": 11, \"28\": 3, \"3\": 1, \"89\": 1}, \"103\": {\"103\": 10, \"29\": 5, \"111\": 1}, \"74\": {\"79\": 1, \"74\": 11, \"72\": 1, \"33\": 1, \"45\": 2}, \"90\": {\"90\": 109, \"102\": 19, \"69\": 11, \"62\": 1, \"44\": 2, \"16\": 1, \"38\": 1, \"118\": 1, \"84\": 1}, \"8\": {\"8\": 97, \"12\": 4, \"1\": 1, \"106\": 16, \"27\": 8, \"101\": 11, \"91\": 2, \"26\": 1, \"114\": 1, \"111\": 1}, \"94\": {\"94\": 48, \"97\": 2, \"9\": 3, \"118\": 1, \"27\": 2, \"125\": 2, \"15\": 5, \"30\": 2, \"106\": 4, \"24\": 1, \"36\": 7, \"18\": 1, \"6\": 2, \"54\": 1, \"10\": 2, \"126\": 2, \"78\": 1, \"0\": 1, \"12\": 1}, \"7\": {\"1\": 4, \"7\": 87, \"129\": 1, \"89\": 2, \"11\": 2, \"36\": 1, \"114\": 1, \"3\": 12, \"126\": 1, \"50\": 1, \"28\": 2, \"79\": 1, \"60\": 2, \"105\": 2, \"107\": 1, \"49\": 1, \"14\": 1}, \"61\": {\"61\": 7, \"18\": 6, \"26\": 2, \"81\": 1}, \"26\": {\"61\": 2, \"26\": 83, \"18\": 14, \"63\": 1, \"67\": 1, \"117\": 3, \"126\": 4, \"113\": 6, \"123\": 2, \"81\": 1, \"84\": 2, \"12\": 1}, \"127\": {\"127\": 100, \"124\": 1, \"106\": 1, \"126\": 1, \"103\": 2, \"8\": 1, \"114\": 1, \"98\": 1}, \"23\": {\"127\": 1, \"26\": 2, \"21\": 1, \"65\": 2, \"52\": 2, \"61\": 1, \"23\": 3, \"108\": 1, \"122\": 1, \"111\": 2}, \"1\": {\"7\": 14, \"120\": 2, \"1\": 52, \"73\": 1, \"3\": 14, \"114\": 6, \"71\": 3, \"87\": 1, \"14\": 2, \"105\": 4, \"88\": 3, \"83\": 1, \"98\": 2, \"93\": 1, \"49\": 1, \"10\": 1}, \"93\": {\"110\": 25, \"93\": 97, \"5\": 4, \"43\": 3, \"1\": 1, \"96\": 1, \"20\": 1, \"108\": 1, \"118\": 1}, \"106\": {\"106\": 82, \"58\": 1, \"123\": 1, \"12\": 5, \"18\": 1, \"0\": 5, \"34\": 1, \"8\": 5, \"39\": 1, \"111\": 4, \"1\": 1, \"101\": 2, \"27\": 2, \"42\": 1, \"47\": 1, \"81\": 1, \"113\": 1, \"90\": 1}, \"110\": {\"43\": 13, \"110\": 47, \"5\": 12, \"45\": 1, \"73\": 1, \"11\": 6, \"78\": 1, \"122\": 6, \"93\": 21, \"10\": 1, \"87\": 4, \"118\": 2, \"40\": 1, \"33\": 2}, \"76\": {\"76\": 11, \"115\": 1, \"40\": 1, \"82\": 2, \"107\": 1}, \"36\": {\"36\": 86, \"6\": 2, \"97\": 1, \"94\": 6, \"10\": 8, \"30\": 3, \"24\": 7, \"27\": 2, \"15\": 4, \"109\": 1}, \"21\": {\"21\": 33, \"23\": 2, \"84\": 1, \"88\": 1, \"62\": 1, \"81\": 1, \"36\": 1}, \"37\": {\"37\": 11, \"127\": 2, \"55\": 1, \"86\": 2}, \"11\": {\"11\": 43, \"79\": 5, \"87\": 12, \"3\": 10, \"5\": 8, \"40\": 4, \"107\": 14, \"14\": 11, \"110\": 1, \"28\": 1, \"33\": 1, \"20\": 1, \"82\": 1, \"105\": 2, \"99\": 1, \"1\": 1, \"90\": 1, \"114\": 1, \"43\": 1, \"93\": 1}, \"109\": {\"13\": 2, \"109\": 56, \"44\": 5, \"105\": 1, \"118\": 11, \"84\": 1, \"96\": 1, \"110\": 3, \"90\": 11, \"69\": 4, \"16\": 1, \"33\": 1, \"126\": 1, \"24\": 1, \"102\": 4, \"93\": 3, \"92\": 2, \"66\": 1, \"122\": 2, \"113\": 1, \"80\": 2, \"62\": 1, \"11\": 1}, \"62\": {\"21\": 1, \"82\": 1, \"92\": 2, \"81\": 1, \"62\": 30, \"74\": 2, \"69\": 2, \"116\": 1, \"44\": 4, \"90\": 3, \"113\": 2, \"118\": 4, \"31\": 1, \"117\": 1, \"122\": 1, \"102\": 1, \"126\": 1, \"84\": 2}, \"89\": {\"89\": 26, \"48\": 1, \"28\": 1, \"104\": 1, \"60\": 1, \"3\": 1, \"107\": 1}, \"126\": {\"65\": 1, \"126\": 60, \"117\": 2, \"81\": 3, \"18\": 12, \"39\": 6, \"73\": 1, \"113\": 10, \"26\": 13, \"27\": 1, \"16\": 3, \"35\": 1, \"123\": 1, \"38\": 1, \"111\": 2, \"109\": 2, \"84\": 1, \"2\": 1, \"122\": 1, \"24\": 1, \"69\": 1}, \"101\": {\"101\": 82, \"68\": 2, \"53\": 2, \"42\": 1, \"15\": 1, \"111\": 13, \"12\": 6, \"1\": 1, \"127\": 2, \"0\": 2, \"8\": 5, \"109\": 1, \"91\": 2, \"106\": 3, \"70\": 1, \"119\": 1, \"117\": 1, \"18\": 1, \"88\": 1}, \"65\": {\"65\": 10, \"18\": 2}, \"19\": {\"5\": 1, \"73\": 2, \"19\": 5, \"98\": 3, \"109\": 1, \"103\": 2, \"0\": 3, \"43\": 1, \"129\": 2, \"14\": 1, \"12\": 1, \"72\": 1, \"118\": 2, \"20\": 2, \"127\": 1}, \"27\": {\"27\": 57, \"101\": 5, \"9\": 3, \"88\": 1, \"8\": 11, \"0\": 3, \"15\": 1, \"106\": 8, \"10\": 2, \"111\": 2, \"70\": 2, \"29\": 1, \"4\": 2, \"126\": 1, \"127\": 1}, \"5\": {\"5\": 116, \"23\": 1, \"60\": 1, \"73\": 1, \"14\": 1, \"110\": 1, \"20\": 1, \"1\": 2, \"93\": 1, \"3\": 1, \"43\": 1, \"88\": 1, \"11\": 5, \"49\": 1, \"87\": 2}, \"73\": {\"5\": 2, \"19\": 3, \"60\": 2, \"73\": 13, \"9\": 1, \"79\": 3}, \"6\": {\"6\": 10, \"25\": 1, \"29\": 2, \"111\": 2, \"59\": 2, \"77\": 1, \"54\": 1, \"12\": 2, \"24\": 1, \"15\": 2}, \"29\": {\"29\": 28, \"52\": 2, \"68\": 1, \"103\": 1}, \"114\": {\"114\": 99, \"71\": 11, \"7\": 2, \"4\": 2, \"120\": 4, \"3\": 1, \"46\": 1, \"17\": 1, \"124\": 3, \"27\": 1, \"105\": 1, \"87\": 1, \"1\": 1}, \"49\": {\"19\": 2, \"49\": 6, \"32\": 2, \"106\": 4, \"0\": 4, \"5\": 2, \"52\": 1, \"12\": 1, \"53\": 2, \"60\": 2, \"111\": 2, \"1\": 2, \"14\": 2}, \"16\": {\"121\": 2, \"16\": 105, \"39\": 1, \"117\": 2, \"113\": 1, \"108\": 1, \"84\": 4, \"122\": 1, \"126\": 1}, \"68\": {\"68\": 15, \"111\": 1}, \"98\": {\"98\": 93, \"58\": 1, \"73\": 2, \"18\": 1, \"91\": 1, \"69\": 1, \"127\": 5, \"70\": 3, \"90\": 1, \"52\": 2, \"29\": 1, \"85\": 2, \"124\": 2, \"42\": 1, \"101\": 2, \"106\": 2}, \"64\": {\"64\": 11, \"115\": 1, \"41\": 1, \"40\": 1, \"105\": 1, \"82\": 1}, \"121\": {\"121\": 12, \"16\": 2, \"48\": 1, \"26\": 3, \"116\": 1, \"117\": 4, \"67\": 1, \"63\": 1, \"81\": 2, \"18\": 1, \"84\": 1, \"113\": 1, \"39\": 2}, \"124\": {\"124\": 108, \"98\": 3, \"7\": 2, \"70\": 1}, \"97\": {\"94\": 1, \"97\": 13, \"36\": 2, \"106\": 2, \"25\": 2}, \"40\": {\"40\": 113, \"107\": 8, \"74\": 1, \"64\": 2, \"99\": 3, \"82\": 3, \"105\": 2, \"33\": 2, \"118\": 1, \"87\": 1}, \"119\": {\"119\": 15, \"49\": 1}, \"100\": {\"124\": 2, \"100\": 13, \"98\": 2, \"15\": 1, \"128\": 1, \"83\": 1}, \"87\": {\"72\": 1, \"87\": 45, \"76\": 1, \"40\": 12, \"99\": 2, \"73\": 2, \"14\": 2, \"105\": 3, \"107\": 17, \"101\": 1, \"5\": 9, \"3\": 4, \"93\": 5, \"11\": 8, \"50\": 2, \"78\": 1, \"110\": 1}, \"88\": {\"83\": 1, \"112\": 2, \"88\": 42, \"8\": 1, \"19\": 3, \"129\": 1, \"27\": 1, \"98\": 6, \"28\": 1, \"122\": 2, \"60\": 1, \"114\": 7, \"70\": 9, \"124\": 12, \"101\": 2, \"69\": 2, \"26\": 1, \"36\": 2, \"105\": 1, \"3\": 1, \"5\": 1, \"15\": 3, \"7\": 2, \"107\": 1, \"0\": 2, \"109\": 1, \"106\": 1, \"46\": 1, \"85\": 1, \"21\": 1, \"108\": 3, \"78\": 2, \"113\": 1, \"30\": 1, \"110\": 1, \"1\": 3, \"14\": 1, \"127\": 2, \"93\": 1, \"71\": 1}, \"52\": {\"52\": 13, \"91\": 1, \"47\": 1, \"51\": 1, \"73\": 1, \"98\": 1, \"53\": 1, \"30\": 1}, \"80\": {\"80\": 13, \"90\": 2, \"6\": 1}, \"105\": {\"105\": 67, \"120\": 1, \"101\": 1, \"89\": 5, \"91\": 1, \"39\": 1, \"107\": 7, \"14\": 4, \"3\": 2, \"56\": 1, \"5\": 1, \"88\": 1, \"40\": 2, \"117\": 1, \"7\": 1, \"4\": 1, \"33\": 1, \"87\": 1, \"126\": 1}, \"32\": {\"49\": 1, \"32\": 15, \"129\": 1, \"50\": 1, \"22\": 1, \"14\": 1, \"72\": 1, \"7\": 1, \"28\": 2, \"99\": 1, \"60\": 1, \"3\": 2}, \"35\": {\"26\": 3, \"35\": 5, \"123\": 1, \"81\": 2, \"126\": 1}, \"99\": {\"99\": 18, \"107\": 3, \"40\": 7, \"87\": 4, \"82\": 1, \"45\": 1, \"14\": 2, \"32\": 2, \"7\": 1, \"105\": 1}, \"18\": {\"18\": 105, \"81\": 2, \"123\": 2, \"26\": 5, \"39\": 2, \"61\": 1, \"117\": 2, \"65\": 1}, \"24\": {\"24\": 68, \"10\": 13, \"15\": 11, \"71\": 1, \"36\": 6, \"94\": 4, \"27\": 2, \"25\": 1, \"88\": 1, \"9\": 1, \"30\": 1, \"8\": 2, \"125\": 1}, \"85\": {\"85\": 22, \"26\": 1, \"86\": 2, \"107\": 1, \"4\": 2}, \"39\": {\"18\": 8, \"26\": 12, \"39\": 30, \"126\": 12, \"94\": 1, \"106\": 1, \"113\": 3, \"109\": 4, \"81\": 2, \"108\": 1, \"117\": 12, \"93\": 1, \"118\": 2, \"33\": 1, \"78\": 1, \"67\": 1, \"61\": 1, \"65\": 2, \"88\": 1, \"123\": 1, \"16\": 2, \"24\": 1}, \"123\": {\"123\": 14, \"26\": 1, \"113\": 1}, \"91\": {\"37\": 1, \"52\": 1, \"106\": 1, \"91\": 14, \"95\": 1, \"98\": 2, \"58\": 1, \"56\": 1, \"53\": 1, \"101\": 1}, \"78\": {\"83\": 1, \"78\": 9, \"5\": 2, \"7\": 2, \"97\": 1, \"42\": 1, \"53\": 1, \"88\": 2, \"98\": 1, \"89\": 1, \"21\": 2, \"107\": 3, \"122\": 1, \"43\": 1, \"119\": 1, \"101\": 1, \"14\": 3, \"3\": 2, \"26\": 1}, \"38\": {\"48\": 2, \"69\": 2, \"38\": 12}, \"15\": {\"8\": 6, \"15\": 98, \"30\": 6, \"94\": 3, \"10\": 3, \"18\": 1, \"111\": 1, \"0\": 1, \"106\": 4, \"6\": 1, \"26\": 1, \"24\": 1, \"98\": 2}, \"48\": {\"48\": 16}, \"45\": {\"45\": 12, \"72\": 1, \"74\": 3}, \"120\": {\"120\": 19, \"114\": 1}, \"44\": {\"102\": 8, \"44\": 43, \"22\": 1, \"62\": 6, \"90\": 3, \"116\": 2, \"117\": 1}, \"86\": {\"86\": 26, \"27\": 1, \"21\": 1}, \"20\": {\"20\": 10, \"110\": 1, \"5\": 1, \"14\": 3, \"19\": 1}, \"33\": {\"33\": 140, \"113\": 1, \"102\": 1, \"118\": 2, \"14\": 3, \"90\": 1, \"36\": 1, \"10\": 1}, \"129\": {\"34\": 2, \"32\": 2, \"129\": 4, \"52\": 1, \"43\": 2, \"100\": 1, \"5\": 4, \"109\": 1, \"98\": 3, \"124\": 1, \"33\": 1, \"108\": 1, \"64\": 2, \"85\": 1, \"0\": 1, \"20\": 1}, \"34\": {\"106\": 2, \"34\": 6, \"128\": 1, \"75\": 1, \"83\": 1, \"4\": 2, \"49\": 1, \"114\": 2, \"30\": 1, \"95\": 1, \"125\": 1, \"91\": 1, \"100\": 2, \"29\": 2, \"120\": 2, \"127\": 2, \"70\": 1, \"85\": 2, \"129\": 1}, \"81\": {\"35\": 1, \"81\": 26, \"117\": 4, \"26\": 2, \"63\": 2, \"21\": 1}, \"57\": {\"80\": 1, \"44\": 1, \"57\": 9, \"24\": 1, \"38\": 1, \"90\": 2, \"70\": 1}, \"0\": {\"0\": 69, \"53\": 3, \"12\": 10, \"101\": 5, \"70\": 1, \"111\": 9, \"127\": 1, \"98\": 2, \"8\": 4, \"26\": 2, \"88\": 2, \"95\": 1, \"106\": 1, \"59\": 2, \"19\": 1, \"29\": 1, \"103\": 1, \"27\": 1}, \"2\": {\"2\": 9, \"102\": 3, \"43\": 2, \"96\": 1, \"80\": 3, \"90\": 2, \"117\": 5, \"62\": 1, \"61\": 1, \"118\": 1}, \"42\": {\"103\": 1, \"119\": 1, \"34\": 2, \"91\": 1, \"100\": 1, \"70\": 1, \"42\": 9, \"124\": 3, \"12\": 2, \"88\": 1, \"29\": 1, \"1\": 1, \"101\": 1, \"8\": 2, \"98\": 1}, \"84\": {\"69\": 12, \"84\": 94, \"57\": 1, \"39\": 1, \"16\": 4, \"90\": 7, \"117\": 1, \"44\": 2, \"30\": 1, \"102\": 2, \"88\": 1, \"92\": 2, \"26\": 3, \"18\": 1}, \"3\": {\"3\": 87, \"89\": 1, \"79\": 2, \"129\": 1, \"21\": 1, \"114\": 3, \"1\": 3, \"126\": 1, \"107\": 4, \"7\": 13, \"119\": 1, \"99\": 1, \"14\": 1, \"23\": 1, \"39\": 1, \"49\": 1, \"24\": 2, \"87\": 1, \"33\": 1}, \"41\": {\"86\": 2, \"41\": 13, \"48\": 1}, \"53\": {\"101\": 4, \"53\": 9, \"0\": 1, \"11\": 1, \"5\": 1}, \"66\": {\"69\": 4, \"66\": 12}, \"22\": {\"99\": 1, \"33\": 1, \"22\": 12, \"43\": 2}}}, \"per_domain_accuracy\": {\"ORACLE.run150\": {\"accuracy\": 0.6880208333333333, \"source?\": true}, \"ORACLE.run114\": {\"accuracy\": 0.6916666666666667, \"source?\": true}, \"ORACLE.run132\": {\"accuracy\": 0.6682291666666667, \"source?\": true}, \"ORACLE.run144\": {\"accuracy\": 0.6635416666666667, \"source?\": true}, \"ORACLE.run18\": {\"accuracy\": 0.5559895833333334, \"source?\": true}, \"ORACLE.run120\": {\"accuracy\": 0.4703125, \"source?\": true}, \"ORACLE.run138\": {\"accuracy\": 0.6552083333333333, \"source?\": true}, \"ORACLE.run126\": {\"accuracy\": 0.4236979166666667, \"source?\": true}, \"Wisig_3\": {\"accuracy\": 0.7351255458515283, \"source?\": false}, \"Wisig_2\": {\"accuracy\": 0.6747395833333333, \"source?\": false}, \"Wisig_1\": {\"accuracy\": 0.7145127118644068, \"source?\": false}, \"Wisig_4\": {\"accuracy\": 0.6481481481481481, \"source?\": false}}}, \"history\": {\"epoch_indices\": [1, 2, 3, 4, 5, 6, 7, 8, 9, 10, 11, 12], \"train_label_loss\": [1.6352526089531325, 1.0122438268957747, 0.8553472401596428, 0.7410219593505775, 0.6423884768637695, 0.5572686863575308, 0.48152216665967856, 0.4192855344140082, 0.3631435534769913, 0.3203107342933349, 0.2810353691026172, 0.25225752350421055], \"source_val_label_loss\": [1.214827299118042, 1.071954369544983, 1.0648261308670044, 1.0771560668945312, 1.117311716079712, 1.1932374238967896, 1.270470142364502, 1.3628711700439453, 1.45393705368042, 1.5289146900177002, 1.601888656616211, 1.6781666278839111], \"target_val_label_loss\": [5.31955623626709, 7.357544422149658, 8.821463584899902, 10.05124282836914, 11.333076477050781, 12.97791862487793, 14.319872856140137, 15.367117881774902, 16.952009201049805, 17.8387451171875, 19.22829246520996, 20.32875633239746], \"source_val_acc_label\": [0.5332356770833333, 0.5950520833333334, 0.603515625, 0.61220703125, 0.6069010416666667, 0.5968424479166666, 0.5992838541666666, 0.6020833333333333, 0.5994140625, 0.5904296875, 0.5980794270833333, 0.5923828125], \"target_val_acc_label\": [0.6353837025316456, 0.6727979957805907, 0.6670622362869199, 0.6693697257383966, 0.6752043776371308, 0.6759295886075949, 0.6706223628691983, 0.6924116561181435, 0.6859177215189873, 0.6848628691983122, 0.6811708860759493, 0.6810060654008439]}, \"dataset_metrics\": {\"source\": {\"train\": {\"n_unique_x\": 179200, \"n_unique_y\": 16, \"n_batch/episode\": 6720}, \"val\": {\"n_unique_x\": 38400, \"n_unique_y\": 16, \"n_batch/episode\": 960}, \"test\": {\"n_unique_x\": 38400, \"n_unique_y\": 16, \"n_batch/episode\": 960}}, \"target\": {\"train\": {\"n_unique_x\": 189008, \"n_unique_y\": 130, \"n_batch/episode\": 6831}, \"val\": {\"n_unique_x\": 40070, \"n_unique_y\": 130, \"n_batch/episode\": 948}, \"test\": {\"n_unique_x\": 40836, \"n_unique_y\": 130, \"n_batch/episode\": 967}}}}'"
      ]
     },
     "execution_count": 29,
     "metadata": {},
     "output_type": "execute_result"
    }
   ],
   "source": [
    "json.dumps(experiment)"
   ]
  }
 ],
 "metadata": {
  "celltoolbar": "Tags",
  "kernelspec": {
   "display_name": "Python 3 (ipykernel)",
   "language": "python",
   "name": "python3"
  },
  "language_info": {
   "codemirror_mode": {
    "name": "ipython",
    "version": 3
   },
   "file_extension": ".py",
   "mimetype": "text/x-python",
   "name": "python",
   "nbconvert_exporter": "python",
   "pygments_lexer": "ipython3",
   "version": "3.8.12"
  },
  "papermill": {
   "default_parameters": {},
   "duration": 2714.201686,
   "end_time": "2022-03-23T07:42:55.583045",
   "environment_variables": {},
   "exception": null,
   "input_path": "/root/csc500-main/csc500-notebooks/templates/tl_ptn_template.ipynb",
   "output_path": "trial.ipynb",
   "parameters": {
    "parameters": {
     "BEST_MODEL_PATH": "./best_model.pth",
     "NUM_LOGS_PER_EPOCH": 10,
     "criteria_for_best": "target_accuracy",
     "dataset_seed": 500,
     "datasets": [
      {
       "domain_prefix": "Wisig_",
       "domains": [
        1,
        2,
        3,
        4
       ],
       "episode_transforms": [],
       "labels": [
        "1-10",
        "1-12",
        "1-14",
        "1-16",
        "1-18",
        "1-19",
        "1-8",
        "10-11",
        "10-17",
        "10-4",
        "10-7",
        "11-1",
        "11-10",
        "11-19",
        "11-20",
        "11-4",
        "11-7",
        "12-19",
        "12-20",
        "12-7",
        "13-14",
        "13-18",
        "13-19",
        "13-20",
        "13-3",
        "13-7",
        "14-10",
        "14-11",
        "14-12",
        "14-13",
        "14-14",
        "14-19",
        "14-20",
        "14-7",
        "14-8",
        "14-9",
        "15-1",
        "15-19",
        "15-6",
        "16-1",
        "16-16",
        "16-19",
        "16-20",
        "17-10",
        "17-11",
        "18-1",
        "18-10",
        "18-11",
        "18-12",
        "18-13",
        "18-14",
        "18-15",
        "18-16",
        "18-17",
        "18-19",
        "18-2",
        "18-20",
        "18-4",
        "18-5",
        "18-7",
        "18-8",
        "18-9",
        "19-1",
        "19-10",
        "19-11",
        "19-12",
        "19-13",
        "19-14",
        "19-15",
        "19-19",
        "19-2",
        "19-20",
        "19-3",
        "19-4",
        "19-6",
        "19-7",
        "19-8",
        "19-9",
        "2-1",
        "2-13",
        "2-15",
        "2-3",
        "2-4",
        "2-5",
        "2-6",
        "2-7",
        "2-8",
        "20-1",
        "20-12",
        "20-14",
        "20-15",
        "20-16",
        "20-18",
        "20-19",
        "20-20",
        "20-3",
        "20-4",
        "20-5",
        "20-7",
        "20-8",
        "3-1",
        "3-13",
        "3-18",
        "3-2",
        "3-8",
        "4-1",
        "4-10",
        "4-11",
        "5-1",
        "5-5",
        "6-1",
        "6-15",
        "6-6",
        "7-10",
        "7-11",
        "7-12",
        "7-13",
        "7-14",
        "7-7",
        "7-8",
        "7-9",
        "8-1",
        "8-13",
        "8-14",
        "8-18",
        "8-20",
        "8-3",
        "8-8",
        "9-1",
        "9-7"
       ],
       "num_examples_per_domain_per_label": -1,
       "pickle_path": "/root/csc500-main/datasets/wisig.node3-19.stratified_ds.2022A.pkl",
       "source_or_target_dataset": "target",
       "x_transforms": [
        "unit_power"
       ]
      },
      {
       "domain_prefix": "ORACLE.run1",
       "domains": [
        32,
        38,
        8,
        44,
        14,
        50,
        20,
        26
       ],
       "episode_transforms": [],
       "labels": [
        "3123D52",
        "3123D65",
        "3123D79",
        "3123D80",
        "3123D54",
        "3123D70",
        "3123D7B",
        "3123D89",
        "3123D58",
        "3123D76",
        "3123D7D",
        "3123EFE",
        "3123D64",
        "3123D78",
        "3123D7E",
        "3124E4A"
       ],
       "num_examples_per_domain_per_label": 2000,
       "pickle_path": "/root/csc500-main/datasets/oracle.Run1_10kExamples_stratified_ds.2022A.pkl",
       "source_or_target_dataset": "source",
       "x_transforms": [
        "unit_power"
       ]
      }
     ],
     "device": "cuda",
     "experiment_name": "tl_1v2:wisig-oracle.run1.limited",
     "lr": 0.0001,
     "n_epoch": 50,
     "n_query": 2,
     "n_shot": 3,
     "n_way": 16,
     "patience": 3,
     "seed": 500,
     "test_k_factor": 2,
     "torch_default_dtype": "torch.float32",
     "train_k_factor": 3,
     "val_k_factor": 2,
     "x_net": [
      {
       "class": "nnReshape",
       "kargs": {
        "shape": [
         -1,
         1,
         2,
         256
        ]
       }
      },
      {
       "class": "Conv2d",
       "kargs": {
        "bias": false,
        "in_channels": 1,
        "kernel_size": [
         1,
         7
        ],
        "out_channels": 256,
        "padding": [
         0,
         3
        ]
       }
      },
      {
       "class": "ReLU",
       "kargs": {
        "inplace": true
       }
      },
      {
       "class": "BatchNorm2d",
       "kargs": {
        "num_features": 256
       }
      },
      {
       "class": "Conv2d",
       "kargs": {
        "bias": true,
        "in_channels": 256,
        "kernel_size": [
         2,
         7
        ],
        "out_channels": 80,
        "padding": [
         0,
         3
        ]
       }
      },
      {
       "class": "ReLU",
       "kargs": {
        "inplace": true
       }
      },
      {
       "class": "BatchNorm2d",
       "kargs": {
        "num_features": 80
       }
      },
      {
       "class": "Flatten",
       "kargs": {}
      },
      {
       "class": "Linear",
       "kargs": {
        "in_features": 20480,
        "out_features": 256
       }
      },
      {
       "class": "ReLU",
       "kargs": {
        "inplace": true
       }
      },
      {
       "class": "BatchNorm1d",
       "kargs": {
        "num_features": 256
       }
      },
      {
       "class": "Linear",
       "kargs": {
        "in_features": 256,
        "out_features": 256
       }
      }
     ]
    }
   },
   "start_time": "2022-03-23T06:57:41.381359",
   "version": "2.3.4"
  }
 },
 "nbformat": 4,
 "nbformat_minor": 5
}