{
 "cells": [
  {
   "cell_type": "markdown",
   "id": "9fea5f46",
   "metadata": {
    "papermill": {
     "duration": 0.03294,
     "end_time": "2022-03-23T06:12:37.905101",
     "exception": false,
     "start_time": "2022-03-23T06:12:37.872161",
     "status": "completed"
    },
    "tags": []
   },
   "source": [
    "# Transfer Learning Template"
   ]
  },
  {
   "cell_type": "code",
   "execution_count": 1,
   "id": "0902182a",
   "metadata": {
    "execution": {
     "iopub.execute_input": "2022-03-23T06:12:37.973302Z",
     "iopub.status.busy": "2022-03-23T06:12:37.972421Z",
     "iopub.status.idle": "2022-03-23T06:12:39.825433Z",
     "shell.execute_reply": "2022-03-23T06:12:39.824998Z"
    },
    "papermill": {
     "duration": 1.892313,
     "end_time": "2022-03-23T06:12:39.825538",
     "exception": false,
     "start_time": "2022-03-23T06:12:37.933225",
     "status": "completed"
    },
    "tags": []
   },
   "outputs": [],
   "source": [
    "%load_ext autoreload\n",
    "%autoreload 2\n",
    "%matplotlib inline\n",
    "\n",
    "    \n",
    "import os, json, sys, time, random\n",
    "import numpy as np\n",
    "import torch\n",
    "from torch.optim import Adam\n",
    "from  easydict import EasyDict\n",
    "import matplotlib.pyplot as plt\n",
    "\n",
    "from steves_models.steves_ptn import Steves_Prototypical_Network\n",
    "\n",
    "from steves_utils.lazy_iterable_wrapper import Lazy_Iterable_Wrapper\n",
    "from steves_utils.iterable_aggregator import Iterable_Aggregator\n",
    "from steves_utils.ptn_train_eval_test_jig import  PTN_Train_Eval_Test_Jig\n",
    "from steves_utils.torch_sequential_builder import build_sequential\n",
    "from steves_utils.torch_utils import get_dataset_metrics, ptn_confusion_by_domain_over_dataloader\n",
    "from steves_utils.utils_v2 import (per_domain_accuracy_from_confusion, get_datasets_base_path)\n",
    "from steves_utils.PTN.utils import independent_accuracy_assesment\n",
    "\n",
    "from torch.utils.data import DataLoader\n",
    "\n",
    "from steves_utils.stratified_dataset.episodic_accessor import Episodic_Accessor_Factory\n",
    "\n",
    "from steves_utils.ptn_do_report import (\n",
    "    get_loss_curve,\n",
    "    get_results_table,\n",
    "    get_parameters_table,\n",
    "    get_domain_accuracies,\n",
    ")\n",
    "\n",
    "from steves_utils.transforms import get_chained_transform"
   ]
  },
  {
   "cell_type": "markdown",
   "id": "41c840b4",
   "metadata": {
    "papermill": {
     "duration": 0.01909,
     "end_time": "2022-03-23T06:12:39.864276",
     "exception": false,
     "start_time": "2022-03-23T06:12:39.845186",
     "status": "completed"
    },
    "tags": []
   },
   "source": [
    "# Allowed Parameters\n",
    "These are allowed parameters, not defaults\n",
    "Each of these values need to be present in the injected parameters (the notebook will raise an exception if they are not present)\n",
    "\n",
    "Papermill uses the cell tag \"parameters\" to inject the real parameters below this cell.\n",
    "Enable tags to see what I mean"
   ]
  },
  {
   "cell_type": "code",
   "execution_count": 2,
   "id": "fd44eb83",
   "metadata": {
    "execution": {
     "iopub.execute_input": "2022-03-23T06:12:39.907732Z",
     "iopub.status.busy": "2022-03-23T06:12:39.907327Z",
     "iopub.status.idle": "2022-03-23T06:12:39.927828Z",
     "shell.execute_reply": "2022-03-23T06:12:39.928131Z"
    },
    "papermill": {
     "duration": 0.044869,
     "end_time": "2022-03-23T06:12:39.928230",
     "exception": false,
     "start_time": "2022-03-23T06:12:39.883361",
     "status": "completed"
    },
    "tags": []
   },
   "outputs": [],
   "source": [
    "required_parameters = {\n",
    "    \"experiment_name\",\n",
    "    \"lr\",\n",
    "    \"device\",\n",
    "    \"seed\",\n",
    "    \"dataset_seed\",\n",
    "    \"n_shot\",\n",
    "    \"n_query\",\n",
    "    \"n_way\",\n",
    "    \"train_k_factor\",\n",
    "    \"val_k_factor\",\n",
    "    \"test_k_factor\",\n",
    "    \"n_epoch\",\n",
    "    \"patience\",\n",
    "    \"criteria_for_best\",\n",
    "    \"x_net\",\n",
    "    \"datasets\",\n",
    "    \"torch_default_dtype\",\n",
    "    \"NUM_LOGS_PER_EPOCH\",\n",
    "    \"BEST_MODEL_PATH\",\n",
    "    \"x_shape\",\n",
    "}"
   ]
  },
  {
   "cell_type": "code",
   "execution_count": 3,
   "id": "fa3f0049",
   "metadata": {
    "execution": {
     "iopub.execute_input": "2022-03-23T06:12:39.980725Z",
     "iopub.status.busy": "2022-03-23T06:12:39.980026Z",
     "iopub.status.idle": "2022-03-23T06:12:39.999623Z",
     "shell.execute_reply": "2022-03-23T06:12:39.999286Z"
    },
    "papermill": {
     "duration": 0.05189,
     "end_time": "2022-03-23T06:12:39.999705",
     "exception": false,
     "start_time": "2022-03-23T06:12:39.947815",
     "status": "completed"
    },
    "tags": [
     "parameters"
    ]
   },
   "outputs": [],
   "source": [
    "from steves_utils.CORES.utils import (\n",
    "    ALL_NODES,\n",
    "    ALL_NODES_MINIMUM_1000_EXAMPLES,\n",
    "    ALL_DAYS\n",
    ")\n",
    "\n",
    "from steves_utils.ORACLE.utils_v2 import (\n",
    "    ALL_DISTANCES_FEET_NARROWED,\n",
    "    ALL_RUNS,\n",
    "    ALL_SERIAL_NUMBERS,\n",
    ")\n",
    "\n",
    "standalone_parameters = {}\n",
    "standalone_parameters[\"experiment_name\"] = \"STANDALONE PTN\"\n",
    "standalone_parameters[\"lr\"] = 0.001\n",
    "standalone_parameters[\"device\"] = \"cuda\"\n",
    "\n",
    "standalone_parameters[\"seed\"] = 1337\n",
    "standalone_parameters[\"dataset_seed\"] = 1337\n",
    "\n",
    "standalone_parameters[\"n_way\"] = 8\n",
    "standalone_parameters[\"n_shot\"] = 3\n",
    "standalone_parameters[\"n_query\"]  = 2\n",
    "standalone_parameters[\"train_k_factor\"] = 1\n",
    "standalone_parameters[\"val_k_factor\"] = 2\n",
    "standalone_parameters[\"test_k_factor\"] = 2\n",
    "\n",
    "\n",
    "standalone_parameters[\"n_epoch\"] = 50\n",
    "\n",
    "standalone_parameters[\"patience\"] = 10\n",
    "standalone_parameters[\"criteria_for_best\"] = \"source_loss\"\n",
    "\n",
    "standalone_parameters[\"datasets\"] = [\n",
    "    {\n",
    "        \"labels\": ALL_SERIAL_NUMBERS,\n",
    "        \"domains\": ALL_DISTANCES_FEET_NARROWED,\n",
    "        \"num_examples_per_domain_per_label\": 100,\n",
    "        \"pickle_path\": os.path.join(get_datasets_base_path(), \"oracle.Run1_framed_2000Examples_stratified_ds.2022A.pkl\"),\n",
    "        \"source_or_target_dataset\": \"source\",\n",
    "        \"x_transforms\": [\"unit_mag\", \"minus_two\"],\n",
    "        \"episode_transforms\": [],\n",
    "        \"domain_prefix\": \"ORACLE_\"\n",
    "    },\n",
    "    {\n",
    "        \"labels\": ALL_NODES,\n",
    "        \"domains\": ALL_DAYS,\n",
    "        \"num_examples_per_domain_per_label\": 100,\n",
    "        \"pickle_path\": os.path.join(get_datasets_base_path(), \"cores.stratified_ds.2022A.pkl\"),\n",
    "        \"source_or_target_dataset\": \"target\",\n",
    "        \"x_transforms\": [\"unit_power\", \"times_zero\"],\n",
    "        \"episode_transforms\": [],\n",
    "        \"domain_prefix\": \"CORES_\"\n",
    "    }   \n",
    "]\n",
    "\n",
    "standalone_parameters[\"torch_default_dtype\"] = \"torch.float32\" \n",
    "\n",
    "\n",
    "\n",
    "standalone_parameters[\"x_net\"] =     [\n",
    "    {\"class\": \"nnReshape\", \"kargs\": {\"shape\":[-1, 1, 2, 256]}},\n",
    "    {\"class\": \"Conv2d\", \"kargs\": { \"in_channels\":1, \"out_channels\":256, \"kernel_size\":(1,7), \"bias\":False, \"padding\":(0,3), },},\n",
    "    {\"class\": \"ReLU\", \"kargs\": {\"inplace\": True}},\n",
    "    {\"class\": \"BatchNorm2d\", \"kargs\": {\"num_features\":256}},\n",
    "\n",
    "    {\"class\": \"Conv2d\", \"kargs\": { \"in_channels\":256, \"out_channels\":80, \"kernel_size\":(2,7), \"bias\":True, \"padding\":(0,3), },},\n",
    "    {\"class\": \"ReLU\", \"kargs\": {\"inplace\": True}},\n",
    "    {\"class\": \"BatchNorm2d\", \"kargs\": {\"num_features\":80}},\n",
    "    {\"class\": \"Flatten\", \"kargs\": {}},\n",
    "\n",
    "    {\"class\": \"Linear\", \"kargs\": {\"in_features\": 80*256, \"out_features\": 256}}, # 80 units per IQ pair\n",
    "    {\"class\": \"ReLU\", \"kargs\": {\"inplace\": True}},\n",
    "    {\"class\": \"BatchNorm1d\", \"kargs\": {\"num_features\":256}},\n",
    "\n",
    "    {\"class\": \"Linear\", \"kargs\": {\"in_features\": 256, \"out_features\": 256}},\n",
    "]\n",
    "\n",
    "# Parameters relevant to results\n",
    "# These parameters will basically never need to change\n",
    "standalone_parameters[\"NUM_LOGS_PER_EPOCH\"] = 10\n",
    "standalone_parameters[\"BEST_MODEL_PATH\"] = \"./best_model.pth\"\n",
    "\n",
    "\n",
    "\n",
    "\n"
   ]
  },
  {
   "cell_type": "code",
   "execution_count": 4,
   "id": "a364cdf4",
   "metadata": {
    "execution": {
     "iopub.execute_input": "2022-03-23T06:12:40.066055Z",
     "iopub.status.busy": "2022-03-23T06:12:40.056257Z",
     "iopub.status.idle": "2022-03-23T06:12:40.077644Z",
     "shell.execute_reply": "2022-03-23T06:12:40.077320Z"
    },
    "papermill": {
     "duration": 0.058538,
     "end_time": "2022-03-23T06:12:40.077727",
     "exception": false,
     "start_time": "2022-03-23T06:12:40.019189",
     "status": "completed"
    },
    "tags": [
     "injected-parameters"
    ]
   },
   "outputs": [],
   "source": [
    "# Parameters\n",
    "parameters = {\n",
    "    \"experiment_name\": \"tl_1v2:wisig-oracle.run1.limited\",\n",
    "    \"device\": \"cuda\",\n",
    "    \"lr\": 0.0001,\n",
    "    \"n_shot\": 3,\n",
    "    \"n_query\": 2,\n",
    "    \"train_k_factor\": 3,\n",
    "    \"val_k_factor\": 2,\n",
    "    \"test_k_factor\": 2,\n",
    "    \"torch_default_dtype\": \"torch.float32\",\n",
    "    \"n_epoch\": 50,\n",
    "    \"patience\": 3,\n",
    "    \"criteria_for_best\": \"target_accuracy\",\n",
    "    \"x_net\": [\n",
    "        {\"class\": \"nnReshape\", \"kargs\": {\"shape\": [-1, 1, 2, 256]}},\n",
    "        {\n",
    "            \"class\": \"Conv2d\",\n",
    "            \"kargs\": {\n",
    "                \"in_channels\": 1,\n",
    "                \"out_channels\": 256,\n",
    "                \"kernel_size\": [1, 7],\n",
    "                \"bias\": False,\n",
    "                \"padding\": [0, 3],\n",
    "            },\n",
    "        },\n",
    "        {\"class\": \"ReLU\", \"kargs\": {\"inplace\": True}},\n",
    "        {\"class\": \"BatchNorm2d\", \"kargs\": {\"num_features\": 256}},\n",
    "        {\n",
    "            \"class\": \"Conv2d\",\n",
    "            \"kargs\": {\n",
    "                \"in_channels\": 256,\n",
    "                \"out_channels\": 80,\n",
    "                \"kernel_size\": [2, 7],\n",
    "                \"bias\": True,\n",
    "                \"padding\": [0, 3],\n",
    "            },\n",
    "        },\n",
    "        {\"class\": \"ReLU\", \"kargs\": {\"inplace\": True}},\n",
    "        {\"class\": \"BatchNorm2d\", \"kargs\": {\"num_features\": 80}},\n",
    "        {\"class\": \"Flatten\", \"kargs\": {}},\n",
    "        {\"class\": \"Linear\", \"kargs\": {\"in_features\": 20480, \"out_features\": 256}},\n",
    "        {\"class\": \"ReLU\", \"kargs\": {\"inplace\": True}},\n",
    "        {\"class\": \"BatchNorm1d\", \"kargs\": {\"num_features\": 256}},\n",
    "        {\"class\": \"Linear\", \"kargs\": {\"in_features\": 256, \"out_features\": 256}},\n",
    "    ],\n",
    "    \"NUM_LOGS_PER_EPOCH\": 10,\n",
    "    \"BEST_MODEL_PATH\": \"./best_model.pth\",\n",
    "    \"n_way\": 16,\n",
    "    \"datasets\": [\n",
    "        {\n",
    "            \"labels\": [\n",
    "                \"1-10\",\n",
    "                \"1-12\",\n",
    "                \"1-14\",\n",
    "                \"1-16\",\n",
    "                \"1-18\",\n",
    "                \"1-19\",\n",
    "                \"1-8\",\n",
    "                \"10-11\",\n",
    "                \"10-17\",\n",
    "                \"10-4\",\n",
    "                \"10-7\",\n",
    "                \"11-1\",\n",
    "                \"11-10\",\n",
    "                \"11-19\",\n",
    "                \"11-20\",\n",
    "                \"11-4\",\n",
    "                \"11-7\",\n",
    "                \"12-19\",\n",
    "                \"12-20\",\n",
    "                \"12-7\",\n",
    "                \"13-14\",\n",
    "                \"13-18\",\n",
    "                \"13-19\",\n",
    "                \"13-20\",\n",
    "                \"13-3\",\n",
    "                \"13-7\",\n",
    "                \"14-10\",\n",
    "                \"14-11\",\n",
    "                \"14-12\",\n",
    "                \"14-13\",\n",
    "                \"14-14\",\n",
    "                \"14-19\",\n",
    "                \"14-20\",\n",
    "                \"14-7\",\n",
    "                \"14-8\",\n",
    "                \"14-9\",\n",
    "                \"15-1\",\n",
    "                \"15-19\",\n",
    "                \"15-6\",\n",
    "                \"16-1\",\n",
    "                \"16-16\",\n",
    "                \"16-19\",\n",
    "                \"16-20\",\n",
    "                \"17-10\",\n",
    "                \"17-11\",\n",
    "                \"18-1\",\n",
    "                \"18-10\",\n",
    "                \"18-11\",\n",
    "                \"18-12\",\n",
    "                \"18-13\",\n",
    "                \"18-14\",\n",
    "                \"18-15\",\n",
    "                \"18-16\",\n",
    "                \"18-17\",\n",
    "                \"18-19\",\n",
    "                \"18-2\",\n",
    "                \"18-20\",\n",
    "                \"18-4\",\n",
    "                \"18-5\",\n",
    "                \"18-7\",\n",
    "                \"18-8\",\n",
    "                \"18-9\",\n",
    "                \"19-1\",\n",
    "                \"19-10\",\n",
    "                \"19-11\",\n",
    "                \"19-12\",\n",
    "                \"19-13\",\n",
    "                \"19-14\",\n",
    "                \"19-15\",\n",
    "                \"19-19\",\n",
    "                \"19-2\",\n",
    "                \"19-20\",\n",
    "                \"19-3\",\n",
    "                \"19-4\",\n",
    "                \"19-6\",\n",
    "                \"19-7\",\n",
    "                \"19-8\",\n",
    "                \"19-9\",\n",
    "                \"2-1\",\n",
    "                \"2-13\",\n",
    "                \"2-15\",\n",
    "                \"2-3\",\n",
    "                \"2-4\",\n",
    "                \"2-5\",\n",
    "                \"2-6\",\n",
    "                \"2-7\",\n",
    "                \"2-8\",\n",
    "                \"20-1\",\n",
    "                \"20-12\",\n",
    "                \"20-14\",\n",
    "                \"20-15\",\n",
    "                \"20-16\",\n",
    "                \"20-18\",\n",
    "                \"20-19\",\n",
    "                \"20-20\",\n",
    "                \"20-3\",\n",
    "                \"20-4\",\n",
    "                \"20-5\",\n",
    "                \"20-7\",\n",
    "                \"20-8\",\n",
    "                \"3-1\",\n",
    "                \"3-13\",\n",
    "                \"3-18\",\n",
    "                \"3-2\",\n",
    "                \"3-8\",\n",
    "                \"4-1\",\n",
    "                \"4-10\",\n",
    "                \"4-11\",\n",
    "                \"5-1\",\n",
    "                \"5-5\",\n",
    "                \"6-1\",\n",
    "                \"6-15\",\n",
    "                \"6-6\",\n",
    "                \"7-10\",\n",
    "                \"7-11\",\n",
    "                \"7-12\",\n",
    "                \"7-13\",\n",
    "                \"7-14\",\n",
    "                \"7-7\",\n",
    "                \"7-8\",\n",
    "                \"7-9\",\n",
    "                \"8-1\",\n",
    "                \"8-13\",\n",
    "                \"8-14\",\n",
    "                \"8-18\",\n",
    "                \"8-20\",\n",
    "                \"8-3\",\n",
    "                \"8-8\",\n",
    "                \"9-1\",\n",
    "                \"9-7\",\n",
    "            ],\n",
    "            \"domains\": [1, 2, 3, 4],\n",
    "            \"num_examples_per_domain_per_label\": -1,\n",
    "            \"pickle_path\": \"/root/csc500-main/datasets/wisig.node3-19.stratified_ds.2022A.pkl\",\n",
    "            \"source_or_target_dataset\": \"source\",\n",
    "            \"x_transforms\": [\"unit_mag\"],\n",
    "            \"episode_transforms\": [],\n",
    "            \"domain_prefix\": \"Wisig_\",\n",
    "        },\n",
    "        {\n",
    "            \"labels\": [\n",
    "                \"3123D52\",\n",
    "                \"3123D65\",\n",
    "                \"3123D79\",\n",
    "                \"3123D80\",\n",
    "                \"3123D54\",\n",
    "                \"3123D70\",\n",
    "                \"3123D7B\",\n",
    "                \"3123D89\",\n",
    "                \"3123D58\",\n",
    "                \"3123D76\",\n",
    "                \"3123D7D\",\n",
    "                \"3123EFE\",\n",
    "                \"3123D64\",\n",
    "                \"3123D78\",\n",
    "                \"3123D7E\",\n",
    "                \"3124E4A\",\n",
    "            ],\n",
    "            \"domains\": [32, 38, 8, 44, 14, 50, 20, 26],\n",
    "            \"num_examples_per_domain_per_label\": 2000,\n",
    "            \"pickle_path\": \"/root/csc500-main/datasets/oracle.Run1_10kExamples_stratified_ds.2022A.pkl\",\n",
    "            \"source_or_target_dataset\": \"target\",\n",
    "            \"x_transforms\": [\"unit_mag\"],\n",
    "            \"episode_transforms\": [],\n",
    "            \"domain_prefix\": \"ORACLE.run1\",\n",
    "        },\n",
    "    ],\n",
    "    \"dataset_seed\": 500,\n",
    "    \"seed\": 500,\n",
    "}\n"
   ]
  },
  {
   "cell_type": "code",
   "execution_count": 5,
   "id": "8fa1cc33",
   "metadata": {
    "execution": {
     "iopub.execute_input": "2022-03-23T06:12:40.124420Z",
     "iopub.status.busy": "2022-03-23T06:12:40.124030Z",
     "iopub.status.idle": "2022-03-23T06:12:40.144440Z",
     "shell.execute_reply": "2022-03-23T06:12:40.143768Z"
    },
    "papermill": {
     "duration": 0.047097,
     "end_time": "2022-03-23T06:12:40.144607",
     "exception": false,
     "start_time": "2022-03-23T06:12:40.097510",
     "status": "completed"
    },
    "tags": []
   },
   "outputs": [],
   "source": [
    "# Set this to True if you want to run this template directly\n",
    "STANDALONE = False\n",
    "if STANDALONE:\n",
    "    print(\"parameters not injected, running with standalone_parameters\")\n",
    "    parameters = standalone_parameters\n",
    "\n",
    "if not 'parameters' in locals() and not 'parameters' in globals():\n",
    "    raise Exception(\"Parameter injection failed\")\n",
    "\n",
    "#Use an easy dict for all the parameters\n",
    "p = EasyDict(parameters)\n",
    "\n",
    "if \"x_shape\" not in p:\n",
    "    p.x_shape = [2,256] # Default to this if we dont supply x_shape\n",
    "\n",
    "\n",
    "supplied_keys = set(p.keys())\n",
    "\n",
    "if  supplied_keys != required_parameters:\n",
    "    print(\"Parameters are incorrect\")\n",
    "    if len(supplied_keys - required_parameters)>0: print(\"Shouldn't have:\", str(supplied_keys - required_parameters))\n",
    "    if len(required_parameters - supplied_keys)>0: print(\"Need to have:\", str(required_parameters - supplied_keys))\n",
    "    raise RuntimeError(\"Parameters are incorrect\")"
   ]
  },
  {
   "cell_type": "code",
   "execution_count": 6,
   "id": "3a028d58",
   "metadata": {
    "execution": {
     "iopub.execute_input": "2022-03-23T06:12:40.193387Z",
     "iopub.status.busy": "2022-03-23T06:12:40.192823Z",
     "iopub.status.idle": "2022-03-23T06:12:40.215276Z",
     "shell.execute_reply": "2022-03-23T06:12:40.214564Z"
    },
    "papermill": {
     "duration": 0.04627,
     "end_time": "2022-03-23T06:12:40.215434",
     "exception": false,
     "start_time": "2022-03-23T06:12:40.169164",
     "status": "completed"
    },
    "tags": []
   },
   "outputs": [],
   "source": [
    "###################################\n",
    "# Set the RNGs and make it all deterministic\n",
    "###################################\n",
    "np.random.seed(p.seed)\n",
    "random.seed(p.seed)\n",
    "torch.manual_seed(p.seed)\n",
    "\n",
    "torch.use_deterministic_algorithms(True) "
   ]
  },
  {
   "cell_type": "code",
   "execution_count": 7,
   "id": "b691acf6",
   "metadata": {
    "execution": {
     "iopub.execute_input": "2022-03-23T06:12:40.264472Z",
     "iopub.status.busy": "2022-03-23T06:12:40.264100Z",
     "iopub.status.idle": "2022-03-23T06:12:40.285027Z",
     "shell.execute_reply": "2022-03-23T06:12:40.284701Z"
    },
    "papermill": {
     "duration": 0.044165,
     "end_time": "2022-03-23T06:12:40.285105",
     "exception": false,
     "start_time": "2022-03-23T06:12:40.240940",
     "status": "completed"
    },
    "tags": []
   },
   "outputs": [],
   "source": [
    "###########################################\n",
    "# The stratified datasets honor this\n",
    "###########################################\n",
    "torch.set_default_dtype(eval(p.torch_default_dtype))"
   ]
  },
  {
   "cell_type": "code",
   "execution_count": 8,
   "id": "b5fba671",
   "metadata": {
    "execution": {
     "iopub.execute_input": "2022-03-23T06:12:40.328515Z",
     "iopub.status.busy": "2022-03-23T06:12:40.328151Z",
     "iopub.status.idle": "2022-03-23T06:12:40.382767Z",
     "shell.execute_reply": "2022-03-23T06:12:40.382453Z"
    },
    "papermill": {
     "duration": 0.077684,
     "end_time": "2022-03-23T06:12:40.382836",
     "exception": false,
     "start_time": "2022-03-23T06:12:40.305152",
     "status": "completed"
    },
    "tags": []
   },
   "outputs": [],
   "source": [
    "###################################\n",
    "# Build the network(s)\n",
    "# Note: It's critical to do this AFTER setting the RNG\n",
    "###################################\n",
    "x_net = build_sequential(p.x_net)"
   ]
  },
  {
   "cell_type": "code",
   "execution_count": 9,
   "id": "5d7e61cc",
   "metadata": {
    "execution": {
     "iopub.execute_input": "2022-03-23T06:12:40.425743Z",
     "iopub.status.busy": "2022-03-23T06:12:40.425380Z",
     "iopub.status.idle": "2022-03-23T06:12:40.450778Z",
     "shell.execute_reply": "2022-03-23T06:12:40.450468Z"
    },
    "papermill": {
     "duration": 0.048307,
     "end_time": "2022-03-23T06:12:40.450845",
     "exception": false,
     "start_time": "2022-03-23T06:12:40.402538",
     "status": "completed"
    },
    "tags": []
   },
   "outputs": [],
   "source": [
    "start_time_secs = time.time()"
   ]
  },
  {
   "cell_type": "code",
   "execution_count": 10,
   "id": "c6b67dfd",
   "metadata": {
    "execution": {
     "iopub.execute_input": "2022-03-23T06:12:40.492895Z",
     "iopub.status.busy": "2022-03-23T06:12:40.492539Z",
     "iopub.status.idle": "2022-03-23T06:12:40.511613Z",
     "shell.execute_reply": "2022-03-23T06:12:40.511286Z"
    },
    "papermill": {
     "duration": 0.041359,
     "end_time": "2022-03-23T06:12:40.511681",
     "exception": false,
     "start_time": "2022-03-23T06:12:40.470322",
     "status": "completed"
    },
    "tags": []
   },
   "outputs": [],
   "source": [
    "p.domains_source = []\n",
    "p.domains_target = []\n",
    "\n",
    "\n",
    "train_original_source = []\n",
    "val_original_source   = []\n",
    "test_original_source  = []\n",
    "\n",
    "train_original_target = []\n",
    "val_original_target   = []\n",
    "test_original_target  = []"
   ]
  },
  {
   "cell_type": "code",
   "execution_count": 11,
   "id": "e3d9c3d3",
   "metadata": {
    "execution": {
     "iopub.execute_input": "2022-03-23T06:12:40.553201Z",
     "iopub.status.busy": "2022-03-23T06:12:40.552836Z",
     "iopub.status.idle": "2022-03-23T06:12:40.568258Z",
     "shell.execute_reply": "2022-03-23T06:12:40.568553Z"
    },
    "papermill": {
     "duration": 0.037137,
     "end_time": "2022-03-23T06:12:40.568632",
     "exception": false,
     "start_time": "2022-03-23T06:12:40.531495",
     "status": "completed"
    },
    "tags": []
   },
   "outputs": [],
   "source": [
    "# global_x_transform_func = lambda x: normalize(x.to(torch.get_default_dtype()), \"unit_power\") # unit_power, unit_mag\n",
    "# global_x_transform_func = lambda x: normalize(x, \"unit_power\") # unit_power, unit_mag"
   ]
  },
  {
   "cell_type": "code",
   "execution_count": 12,
   "id": "acb78fd2",
   "metadata": {
    "execution": {
     "iopub.execute_input": "2022-03-23T06:12:40.620702Z",
     "iopub.status.busy": "2022-03-23T06:12:40.620329Z",
     "iopub.status.idle": "2022-03-23T06:12:40.637224Z",
     "shell.execute_reply": "2022-03-23T06:12:40.637518Z"
    },
    "papermill": {
     "duration": 0.04933,
     "end_time": "2022-03-23T06:12:40.637596",
     "exception": false,
     "start_time": "2022-03-23T06:12:40.588266",
     "status": "completed"
    },
    "tags": []
   },
   "outputs": [],
   "source": [
    "def add_dataset(\n",
    "    labels,\n",
    "    domains,\n",
    "    pickle_path,\n",
    "    x_transforms,\n",
    "    episode_transforms,\n",
    "    domain_prefix,\n",
    "    num_examples_per_domain_per_label,\n",
    "    source_or_target_dataset:str,\n",
    "    iterator_seed=p.seed,\n",
    "    dataset_seed=p.dataset_seed,\n",
    "    n_shot=p.n_shot,\n",
    "    n_way=p.n_way,\n",
    "    n_query=p.n_query,\n",
    "    train_val_test_k_factors=(p.train_k_factor,p.val_k_factor,p.test_k_factor),\n",
    "):\n",
    "   \n",
    "    if x_transforms == []: x_transform = None\n",
    "    else: x_transform = get_chained_transform(x_transforms)\n",
    "    \n",
    "    if episode_transforms == []: episode_transform = None\n",
    "    else: raise Exception(\"episode_transforms not implemented\")\n",
    "    \n",
    "    episode_transform = lambda tup, _prefix=domain_prefix: (_prefix + str(tup[0]), tup[1])\n",
    "\n",
    "\n",
    "    eaf = Episodic_Accessor_Factory(\n",
    "        labels=labels,\n",
    "        domains=domains,\n",
    "        num_examples_per_domain_per_label=num_examples_per_domain_per_label,\n",
    "        iterator_seed=iterator_seed,\n",
    "        dataset_seed=dataset_seed,\n",
    "        n_shot=n_shot,\n",
    "        n_way=n_way,\n",
    "        n_query=n_query,\n",
    "        train_val_test_k_factors=train_val_test_k_factors,\n",
    "        pickle_path=pickle_path,\n",
    "        x_transform_func=x_transform,\n",
    "    )\n",
    "\n",
    "    train, val, test = eaf.get_train(), eaf.get_val(), eaf.get_test()\n",
    "    train = Lazy_Iterable_Wrapper(train, episode_transform)\n",
    "    val = Lazy_Iterable_Wrapper(val, episode_transform)\n",
    "    test = Lazy_Iterable_Wrapper(test, episode_transform)\n",
    "\n",
    "    if source_or_target_dataset==\"source\":\n",
    "        train_original_source.append(train)\n",
    "        val_original_source.append(val)\n",
    "        test_original_source.append(test)\n",
    "\n",
    "        p.domains_source.extend(\n",
    "            [domain_prefix + str(u) for u in domains]\n",
    "        )\n",
    "    elif source_or_target_dataset==\"target\":\n",
    "        train_original_target.append(train)\n",
    "        val_original_target.append(val)\n",
    "        test_original_target.append(test)\n",
    "        p.domains_target.extend(\n",
    "            [domain_prefix + str(u) for u in domains]\n",
    "        )\n",
    "    else:\n",
    "        raise Exception(f\"invalid source_or_target_dataset: {source_or_target_dataset}\")\n",
    "    "
   ]
  },
  {
   "cell_type": "code",
   "execution_count": 13,
   "id": "fe266617",
   "metadata": {
    "execution": {
     "iopub.execute_input": "2022-03-23T06:12:40.680033Z",
     "iopub.status.busy": "2022-03-23T06:12:40.679397Z",
     "iopub.status.idle": "2022-03-23T06:13:26.965301Z",
     "shell.execute_reply": "2022-03-23T06:13:26.964566Z"
    },
    "papermill": {
     "duration": 46.307932,
     "end_time": "2022-03-23T06:13:26.965493",
     "exception": false,
     "start_time": "2022-03-23T06:12:40.657561",
     "status": "completed"
    },
    "tags": []
   },
   "outputs": [],
   "source": [
    "for ds in p.datasets:\n",
    "    add_dataset(**ds)"
   ]
  },
  {
   "cell_type": "code",
   "execution_count": 14,
   "id": "b90d65ac",
   "metadata": {
    "execution": {
     "iopub.execute_input": "2022-03-23T06:13:27.016566Z",
     "iopub.status.busy": "2022-03-23T06:13:27.015791Z",
     "iopub.status.idle": "2022-03-23T06:13:27.038870Z",
     "shell.execute_reply": "2022-03-23T06:13:27.038173Z"
    },
    "papermill": {
     "duration": 0.046401,
     "end_time": "2022-03-23T06:13:27.039024",
     "exception": false,
     "start_time": "2022-03-23T06:13:26.992623",
     "status": "completed"
    },
    "tags": []
   },
   "outputs": [],
   "source": [
    "# from steves_utils.CORES.utils import (\n",
    "#     ALL_NODES,\n",
    "#     ALL_NODES_MINIMUM_1000_EXAMPLES,\n",
    "#     ALL_DAYS\n",
    "# )\n",
    "\n",
    "# add_dataset(\n",
    "#     labels=ALL_NODES,\n",
    "#     domains = ALL_DAYS,\n",
    "#     num_examples_per_domain_per_label=100,\n",
    "#     pickle_path=os.path.join(get_datasets_base_path(), \"cores.stratified_ds.2022A.pkl\"),\n",
    "#     source_or_target_dataset=\"target\",\n",
    "#     x_transform_func=global_x_transform_func,\n",
    "#     domain_modifier=lambda u: f\"cores_{u}\"\n",
    "# )"
   ]
  },
  {
   "cell_type": "code",
   "execution_count": 15,
   "id": "76db484d",
   "metadata": {
    "execution": {
     "iopub.execute_input": "2022-03-23T06:13:27.090529Z",
     "iopub.status.busy": "2022-03-23T06:13:27.090166Z",
     "iopub.status.idle": "2022-03-23T06:13:27.112851Z",
     "shell.execute_reply": "2022-03-23T06:13:27.112044Z"
    },
    "papermill": {
     "duration": 0.046525,
     "end_time": "2022-03-23T06:13:27.113007",
     "exception": false,
     "start_time": "2022-03-23T06:13:27.066482",
     "status": "completed"
    },
    "tags": []
   },
   "outputs": [],
   "source": [
    "# from steves_utils.ORACLE.utils_v2 import (\n",
    "#     ALL_DISTANCES_FEET,\n",
    "#     ALL_RUNS,\n",
    "#     ALL_SERIAL_NUMBERS,\n",
    "# )\n",
    "\n",
    "\n",
    "# add_dataset(\n",
    "#     labels=ALL_SERIAL_NUMBERS,\n",
    "#     domains = list(set(ALL_DISTANCES_FEET) - {2,62}),\n",
    "#     num_examples_per_domain_per_label=100,\n",
    "#     pickle_path=os.path.join(get_datasets_base_path(), \"oracle.Run2_framed_2000Examples_stratified_ds.2022A.pkl\"),\n",
    "#     source_or_target_dataset=\"source\",\n",
    "#     x_transform_func=global_x_transform_func,\n",
    "#     domain_modifier=lambda u: f\"oracle1_{u}\"\n",
    "# )\n"
   ]
  },
  {
   "cell_type": "code",
   "execution_count": 16,
   "id": "97dea9d2",
   "metadata": {
    "execution": {
     "iopub.execute_input": "2022-03-23T06:13:27.165535Z",
     "iopub.status.busy": "2022-03-23T06:13:27.164302Z",
     "iopub.status.idle": "2022-03-23T06:13:27.185394Z",
     "shell.execute_reply": "2022-03-23T06:13:27.184604Z"
    },
    "papermill": {
     "duration": 0.045788,
     "end_time": "2022-03-23T06:13:27.185550",
     "exception": false,
     "start_time": "2022-03-23T06:13:27.139762",
     "status": "completed"
    },
    "tags": []
   },
   "outputs": [],
   "source": [
    "# from steves_utils.ORACLE.utils_v2 import (\n",
    "#     ALL_DISTANCES_FEET,\n",
    "#     ALL_RUNS,\n",
    "#     ALL_SERIAL_NUMBERS,\n",
    "# )\n",
    "\n",
    "\n",
    "# add_dataset(\n",
    "#     labels=ALL_SERIAL_NUMBERS,\n",
    "#     domains = list(set(ALL_DISTANCES_FEET) - {2,62,56}),\n",
    "#     num_examples_per_domain_per_label=100,\n",
    "#     pickle_path=os.path.join(get_datasets_base_path(), \"oracle.Run2_framed_2000Examples_stratified_ds.2022A.pkl\"),\n",
    "#     source_or_target_dataset=\"source\",\n",
    "#     x_transform_func=global_x_transform_func,\n",
    "#     domain_modifier=lambda u: f\"oracle2_{u}\"\n",
    "# )"
   ]
  },
  {
   "cell_type": "code",
   "execution_count": 17,
   "id": "6f289866",
   "metadata": {
    "execution": {
     "iopub.execute_input": "2022-03-23T06:13:27.237089Z",
     "iopub.status.busy": "2022-03-23T06:13:27.236721Z",
     "iopub.status.idle": "2022-03-23T06:13:27.253575Z",
     "shell.execute_reply": "2022-03-23T06:13:27.252773Z"
    },
    "papermill": {
     "duration": 0.039598,
     "end_time": "2022-03-23T06:13:27.253736",
     "exception": false,
     "start_time": "2022-03-23T06:13:27.214138",
     "status": "completed"
    },
    "tags": []
   },
   "outputs": [],
   "source": [
    "# add_dataset(\n",
    "#     labels=list(range(19)),\n",
    "#     domains = [0,1,2],\n",
    "#     num_examples_per_domain_per_label=100,\n",
    "#     pickle_path=os.path.join(get_datasets_base_path(), \"metehan.stratified_ds.2022A.pkl\"),\n",
    "#     source_or_target_dataset=\"target\",\n",
    "#     x_transform_func=global_x_transform_func,\n",
    "#     domain_modifier=lambda u: f\"met_{u}\"\n",
    "# )"
   ]
  },
  {
   "cell_type": "code",
   "execution_count": 18,
   "id": "86a863c3",
   "metadata": {
    "execution": {
     "iopub.execute_input": "2022-03-23T06:13:27.306076Z",
     "iopub.status.busy": "2022-03-23T06:13:27.304197Z",
     "iopub.status.idle": "2022-03-23T06:13:27.325934Z",
     "shell.execute_reply": "2022-03-23T06:13:27.325099Z"
    },
    "papermill": {
     "duration": 0.045753,
     "end_time": "2022-03-23T06:13:27.326097",
     "exception": false,
     "start_time": "2022-03-23T06:13:27.280344",
     "status": "completed"
    },
    "tags": []
   },
   "outputs": [],
   "source": [
    "# # from steves_utils.wisig.utils import (\n",
    "# #     ALL_NODES_MINIMUM_100_EXAMPLES,\n",
    "# #     ALL_NODES_MINIMUM_500_EXAMPLES,\n",
    "# #     ALL_NODES_MINIMUM_1000_EXAMPLES,\n",
    "# #     ALL_DAYS\n",
    "# # )\n",
    "\n",
    "# import steves_utils.wisig.utils as wisig\n",
    "\n",
    "\n",
    "# add_dataset(\n",
    "#     labels=wisig.ALL_NODES_MINIMUM_100_EXAMPLES,\n",
    "#     domains = wisig.ALL_DAYS,\n",
    "#     num_examples_per_domain_per_label=100,\n",
    "#     pickle_path=os.path.join(get_datasets_base_path(), \"wisig.node3-19.stratified_ds.2022A.pkl\"),\n",
    "#     source_or_target_dataset=\"target\",\n",
    "#     x_transform_func=global_x_transform_func,\n",
    "#     domain_modifier=lambda u: f\"wisig_{u}\"\n",
    "# )"
   ]
  },
  {
   "cell_type": "code",
   "execution_count": 19,
   "id": "fd5442bc",
   "metadata": {
    "execution": {
     "iopub.execute_input": "2022-03-23T06:13:27.383477Z",
     "iopub.status.busy": "2022-03-23T06:13:27.381593Z",
     "iopub.status.idle": "2022-03-23T06:13:27.401849Z",
     "shell.execute_reply": "2022-03-23T06:13:27.401045Z"
    },
    "papermill": {
     "duration": 0.049178,
     "end_time": "2022-03-23T06:13:27.402009",
     "exception": false,
     "start_time": "2022-03-23T06:13:27.352831",
     "status": "completed"
    },
    "tags": []
   },
   "outputs": [],
   "source": [
    "###################################\n",
    "# Build the dataset\n",
    "###################################\n",
    "train_original_source = Iterable_Aggregator(train_original_source, p.seed)\n",
    "val_original_source = Iterable_Aggregator(val_original_source, p.seed)\n",
    "test_original_source = Iterable_Aggregator(test_original_source, p.seed)\n",
    "\n",
    "\n",
    "train_original_target = Iterable_Aggregator(train_original_target, p.seed)\n",
    "val_original_target = Iterable_Aggregator(val_original_target, p.seed)\n",
    "test_original_target = Iterable_Aggregator(test_original_target, p.seed)\n",
    "\n",
    "# For CNN We only use X and Y. And we only train on the source.\n",
    "# Properly form the data using a transform lambda and Lazy_Iterable_Wrapper. Finally wrap them in a dataloader\n",
    "\n",
    "transform_lambda = lambda ex: ex[1] # Original is (<domain>, <episode>) so we strip down to episode only\n",
    "\n",
    "train_processed_source = Lazy_Iterable_Wrapper(train_original_source, transform_lambda)\n",
    "val_processed_source   = Lazy_Iterable_Wrapper(val_original_source, transform_lambda)\n",
    "test_processed_source  = Lazy_Iterable_Wrapper(test_original_source, transform_lambda)\n",
    "\n",
    "train_processed_target = Lazy_Iterable_Wrapper(train_original_target, transform_lambda)\n",
    "val_processed_target   = Lazy_Iterable_Wrapper(val_original_target, transform_lambda)\n",
    "test_processed_target  = Lazy_Iterable_Wrapper(test_original_target, transform_lambda)\n",
    "\n",
    "datasets = EasyDict({\n",
    "    \"source\": {\n",
    "        \"original\": {\"train\":train_original_source, \"val\":val_original_source, \"test\":test_original_source},\n",
    "        \"processed\": {\"train\":train_processed_source, \"val\":val_processed_source, \"test\":test_processed_source}\n",
    "    },\n",
    "    \"target\": {\n",
    "        \"original\": {\"train\":train_original_target, \"val\":val_original_target, \"test\":test_original_target},\n",
    "        \"processed\": {\"train\":train_processed_target, \"val\":val_processed_target, \"test\":test_processed_target}\n",
    "    },\n",
    "})"
   ]
  },
  {
   "cell_type": "code",
   "execution_count": 20,
   "id": "5b3c01fc",
   "metadata": {
    "execution": {
     "iopub.execute_input": "2022-03-23T06:13:27.453581Z",
     "iopub.status.busy": "2022-03-23T06:13:27.452960Z",
     "iopub.status.idle": "2022-03-23T06:13:43.013869Z",
     "shell.execute_reply": "2022-03-23T06:13:43.013125Z"
    },
    "papermill": {
     "duration": 15.585361,
     "end_time": "2022-03-23T06:13:43.014052",
     "exception": false,
     "start_time": "2022-03-23T06:13:27.428691",
     "status": "completed"
    },
    "tags": []
   },
   "outputs": [
    {
     "name": "stdout",
     "output_type": "stream",
     "text": [
      "{'Wisig_1', 'Wisig_4', 'Wisig_3', 'Wisig_2'}\n"
     ]
    },
    {
     "name": "stdout",
     "output_type": "stream",
     "text": [
      "{'ORACLE.run120', 'ORACLE.run114', 'ORACLE.run150', 'ORACLE.run18', 'ORACLE.run132', 'ORACLE.run144', 'ORACLE.run126', 'ORACLE.run138'}\n"
     ]
    },
    {
     "name": "stdout",
     "output_type": "stream",
     "text": [
      "tensor([[[ 1.2278e+00, -1.8934e-01,  6.8033e-02,  ...,  1.4056e-01,\n",
      "           1.6367e-01,  3.6199e-01],\n",
      "         [ 5.5261e-01,  8.1768e-01,  2.8304e-01,  ...,  1.4056e-01,\n",
      "           2.5480e-01, -5.1346e-02]],\n",
      "\n",
      "        [[-3.7891e-01,  5.0957e-01,  1.4372e-01,  ..., -1.6986e-01,\n",
      "           4.2272e-02, -2.2904e-01],\n",
      "         [-1.4034e+00, -3.0590e-01,  2.4595e-02,  ..., -2.7362e-01,\n",
      "          -8.6081e-02, -1.4757e-01]],\n",
      "\n",
      "        [[ 5.6680e-01, -4.7126e-02,  1.2524e-01,  ...,  2.2788e-01,\n",
      "           9.4252e-02,  5.1968e-01],\n",
      "         [ 7.8048e-01,  1.8721e-01, -1.0006e-01,  ...,  2.0658e-02,\n",
      "          -6.7138e-02, -6.8429e-01]],\n",
      "\n",
      "        ...,\n",
      "\n",
      "        [[-5.4562e-01,  6.3145e-01,  1.0030e+00,  ..., -4.8431e-01,\n",
      "          -1.1648e+00,  3.7028e-01],\n",
      "         [-6.7313e-01, -9.7353e-01,  4.3159e-01,  ...,  7.8226e-01,\n",
      "           1.2261e-03, -8.0800e-01]],\n",
      "\n",
      "        [[ 1.3243e+00, -1.1278e-01, -9.3461e-01,  ..., -6.4764e-02,\n",
      "           1.0429e+00,  8.8325e-01],\n",
      "         [ 6.3424e-01,  1.3377e+00,  1.5744e-01,  ..., -1.2729e+00,\n",
      "          -1.0474e+00, -1.3399e-02]],\n",
      "\n",
      "        [[ 2.9981e-01, -5.7755e-01, -7.9949e-01,  ..., -3.7509e-01,\n",
      "           2.1545e-01, -4.3609e-01],\n",
      "         [ 1.8560e-01,  9.0592e-01, -6.1130e-01,  ...,  1.8949e-01,\n",
      "           5.9962e-01,  8.3324e-01]]])\n"
     ]
    }
   ],
   "source": [
    "from steves_utils.transforms import get_average_magnitude, get_average_power\n",
    "\n",
    "print(set([u for u,_ in val_original_source]))\n",
    "print(set([u for u,_ in val_original_target]))\n",
    "\n",
    "s_x, s_y, q_x, q_y, _ = next(iter(train_processed_source))\n",
    "print(s_x)\n",
    "\n",
    "# for ds in [\n",
    "#     train_processed_source,\n",
    "#     val_processed_source,\n",
    "#     test_processed_source,\n",
    "#     train_processed_target,\n",
    "#     val_processed_target,\n",
    "#     test_processed_target\n",
    "# ]:\n",
    "#     for s_x, s_y, q_x, q_y, _ in ds:\n",
    "#         for X in (s_x, q_x):\n",
    "#             for x in X:\n",
    "#                 assert np.isclose(get_average_magnitude(x.numpy()), 1.0)\n",
    "#                 assert np.isclose(get_average_power(x.numpy()), 1.0)\n",
    "                "
   ]
  },
  {
   "cell_type": "code",
   "execution_count": 21,
   "id": "bbdacba1",
   "metadata": {
    "execution": {
     "iopub.execute_input": "2022-03-23T06:13:43.073075Z",
     "iopub.status.busy": "2022-03-23T06:13:43.072469Z",
     "iopub.status.idle": "2022-03-23T06:13:43.265602Z",
     "shell.execute_reply": "2022-03-23T06:13:43.266302Z"
    },
    "papermill": {
     "duration": 0.223198,
     "end_time": "2022-03-23T06:13:43.266550",
     "exception": false,
     "start_time": "2022-03-23T06:13:43.043352",
     "status": "completed"
    },
    "tags": []
   },
   "outputs": [
    {
     "name": "stdout",
     "output_type": "stream",
     "text": [
      "(2, 256)\n"
     ]
    }
   ],
   "source": [
    "###################################\n",
    "# Build the model\n",
    "###################################\n",
    "# easfsl only wants a tuple for the shape\n",
    "model = Steves_Prototypical_Network(x_net, device=p.device, x_shape=tuple(p.x_shape))\n",
    "optimizer = Adam(params=model.parameters(), lr=p.lr)"
   ]
  },
  {
   "cell_type": "code",
   "execution_count": 22,
   "id": "22b39ac5",
   "metadata": {
    "execution": {
     "iopub.execute_input": "2022-03-23T06:13:43.324318Z",
     "iopub.status.busy": "2022-03-23T06:13:43.323940Z",
     "iopub.status.idle": "2022-03-23T06:35:13.969273Z",
     "shell.execute_reply": "2022-03-23T06:35:13.968939Z"
    },
    "papermill": {
     "duration": 1290.673581,
     "end_time": "2022-03-23T06:35:13.969355",
     "exception": false,
     "start_time": "2022-03-23T06:13:43.295774",
     "status": "completed"
    },
    "tags": []
   },
   "outputs": [
    {
     "name": "stdout",
     "output_type": "stream",
     "text": [
      "epoch: 1, [batch: 1 / 6843], examples_per_second: 30.1823, train_label_loss: 2.6616, \n"
     ]
    },
    {
     "name": "stdout",
     "output_type": "stream",
     "text": [
      "epoch: 1, [batch: 685 / 6843], examples_per_second: 2962.6130, train_label_loss: 0.4947, \n"
     ]
    },
    {
     "name": "stdout",
     "output_type": "stream",
     "text": [
      "epoch: 1, [batch: 1369 / 6843], examples_per_second: 2992.1564, train_label_loss: 0.3609, \n"
     ]
    },
    {
     "name": "stdout",
     "output_type": "stream",
     "text": [
      "epoch: 1, [batch: 2053 / 6843], examples_per_second: 3025.4377, train_label_loss: 0.0093, \n"
     ]
    },
    {
     "name": "stdout",
     "output_type": "stream",
     "text": [
      "epoch: 1, [batch: 2737 / 6843], examples_per_second: 2994.3758, train_label_loss: 0.2251, \n"
     ]
    },
    {
     "name": "stdout",
     "output_type": "stream",
     "text": [
      "epoch: 1, [batch: 3422 / 6843], examples_per_second: 3012.9369, train_label_loss: 0.4158, \n"
     ]
    },
    {
     "name": "stdout",
     "output_type": "stream",
     "text": [
      "epoch: 1, [batch: 4106 / 6843], examples_per_second: 3000.4818, train_label_loss: 0.1881, \n"
     ]
    },
    {
     "name": "stdout",
     "output_type": "stream",
     "text": [
      "epoch: 1, [batch: 4790 / 6843], examples_per_second: 2962.1763, train_label_loss: 0.5805, \n"
     ]
    },
    {
     "name": "stdout",
     "output_type": "stream",
     "text": [
      "epoch: 1, [batch: 5474 / 6843], examples_per_second: 2956.5066, train_label_loss: 0.0907, \n"
     ]
    },
    {
     "name": "stdout",
     "output_type": "stream",
     "text": [
      "epoch: 1, [batch: 6158 / 6843], examples_per_second: 2984.4107, train_label_loss: 0.3154, \n"
     ]
    },
    {
     "name": "stdout",
     "output_type": "stream",
     "text": [
      "=============================================================\n",
      "epoch: 1, source_val_acc_label: 0.9610, target_val_acc_label: 0.1169, source_val_label_loss: 0.1670, target_val_label_loss: 2.6899, \n",
      "=============================================================\n"
     ]
    },
    {
     "name": "stdout",
     "output_type": "stream",
     "text": [
      "New best\n"
     ]
    },
    {
     "name": "stdout",
     "output_type": "stream",
     "text": [
      "epoch: 2, [batch: 1 / 6824], examples_per_second: 2.7341, train_label_loss: 0.0276, \n"
     ]
    },
    {
     "name": "stdout",
     "output_type": "stream",
     "text": [
      "epoch: 2, [batch: 683 / 6824], examples_per_second: 2986.1016, train_label_loss: 0.1874, \n"
     ]
    },
    {
     "name": "stdout",
     "output_type": "stream",
     "text": [
      "epoch: 2, [batch: 1365 / 6824], examples_per_second: 2982.2216, train_label_loss: 0.1988, \n"
     ]
    },
    {
     "name": "stdout",
     "output_type": "stream",
     "text": [
      "epoch: 2, [batch: 2047 / 6824], examples_per_second: 2969.1953, train_label_loss: 0.1806, \n"
     ]
    },
    {
     "name": "stdout",
     "output_type": "stream",
     "text": [
      "epoch: 2, [batch: 2730 / 6824], examples_per_second: 3021.0632, train_label_loss: 0.0145, \n"
     ]
    },
    {
     "name": "stdout",
     "output_type": "stream",
     "text": [
      "epoch: 2, [batch: 3412 / 6824], examples_per_second: 3136.2612, train_label_loss: 0.0177, \n"
     ]
    },
    {
     "name": "stdout",
     "output_type": "stream",
     "text": [
      "epoch: 2, [batch: 4094 / 6824], examples_per_second: 3425.7048, train_label_loss: 0.0209, \n"
     ]
    },
    {
     "name": "stdout",
     "output_type": "stream",
     "text": [
      "epoch: 2, [batch: 4777 / 6824], examples_per_second: 3398.6644, train_label_loss: 0.0765, \n"
     ]
    },
    {
     "name": "stdout",
     "output_type": "stream",
     "text": [
      "epoch: 2, [batch: 5459 / 6824], examples_per_second: 3394.6979, train_label_loss: 0.0159, \n"
     ]
    },
    {
     "name": "stdout",
     "output_type": "stream",
     "text": [
      "epoch: 2, [batch: 6141 / 6824], examples_per_second: 3408.3629, train_label_loss: 0.0703, \n"
     ]
    },
    {
     "name": "stdout",
     "output_type": "stream",
     "text": [
      "=============================================================\n",
      "epoch: 2, source_val_acc_label: 0.9691, target_val_acc_label: 0.1196, source_val_label_loss: 0.1352, target_val_label_loss: 2.6738, \n",
      "=============================================================\n"
     ]
    },
    {
     "name": "stdout",
     "output_type": "stream",
     "text": [
      "New best\n"
     ]
    },
    {
     "name": "stdout",
     "output_type": "stream",
     "text": [
      "epoch: 3, [batch: 1 / 6845], examples_per_second: 3.4012, train_label_loss: 0.0271, \n"
     ]
    },
    {
     "name": "stdout",
     "output_type": "stream",
     "text": [
      "epoch: 3, [batch: 685 / 6845], examples_per_second: 3740.4304, train_label_loss: 0.0139, \n"
     ]
    },
    {
     "name": "stdout",
     "output_type": "stream",
     "text": [
      "epoch: 3, [batch: 1369 / 6845], examples_per_second: 3043.8370, train_label_loss: 0.1762, \n"
     ]
    },
    {
     "name": "stdout",
     "output_type": "stream",
     "text": [
      "epoch: 3, [batch: 2054 / 6845], examples_per_second: 3023.0103, train_label_loss: 0.0773, \n"
     ]
    },
    {
     "name": "stdout",
     "output_type": "stream",
     "text": [
      "epoch: 3, [batch: 2738 / 6845], examples_per_second: 3060.1458, train_label_loss: 0.0109, \n"
     ]
    },
    {
     "name": "stdout",
     "output_type": "stream",
     "text": [
      "epoch: 3, [batch: 3423 / 6845], examples_per_second: 3018.6932, train_label_loss: 0.1676, \n"
     ]
    },
    {
     "name": "stdout",
     "output_type": "stream",
     "text": [
      "epoch: 3, [batch: 4107 / 6845], examples_per_second: 2979.0732, train_label_loss: 0.0113, \n"
     ]
    },
    {
     "name": "stdout",
     "output_type": "stream",
     "text": [
      "epoch: 3, [batch: 4791 / 6845], examples_per_second: 2976.3862, train_label_loss: 0.0675, \n"
     ]
    },
    {
     "name": "stdout",
     "output_type": "stream",
     "text": [
      "epoch: 3, [batch: 5476 / 6845], examples_per_second: 3427.3265, train_label_loss: 0.0063, \n"
     ]
    },
    {
     "name": "stdout",
     "output_type": "stream",
     "text": [
      "epoch: 3, [batch: 6160 / 6845], examples_per_second: 3381.6813, train_label_loss: 0.1307, \n"
     ]
    },
    {
     "name": "stdout",
     "output_type": "stream",
     "text": [
      "=============================================================\n",
      "epoch: 3, source_val_acc_label: 0.9715, target_val_acc_label: 0.1133, source_val_label_loss: 0.1192, target_val_label_loss: 2.7172, \n",
      "=============================================================\n"
     ]
    },
    {
     "name": "stdout",
     "output_type": "stream",
     "text": [
      "epoch: 4, [batch: 1 / 6840], examples_per_second: 3.0999, train_label_loss: 0.0094, \n"
     ]
    },
    {
     "name": "stdout",
     "output_type": "stream",
     "text": [
      "epoch: 4, [batch: 684 / 6840], examples_per_second: 3608.1140, train_label_loss: 0.2221, \n"
     ]
    },
    {
     "name": "stdout",
     "output_type": "stream",
     "text": [
      "epoch: 4, [batch: 1368 / 6840], examples_per_second: 3906.8852, train_label_loss: 0.0459, \n"
     ]
    },
    {
     "name": "stdout",
     "output_type": "stream",
     "text": [
      "epoch: 4, [batch: 2052 / 6840], examples_per_second: 3411.8902, train_label_loss: 0.0017, \n"
     ]
    },
    {
     "name": "stdout",
     "output_type": "stream",
     "text": [
      "epoch: 4, [batch: 2736 / 6840], examples_per_second: 3004.3620, train_label_loss: 0.2149, \n"
     ]
    },
    {
     "name": "stdout",
     "output_type": "stream",
     "text": [
      "epoch: 4, [batch: 3420 / 6840], examples_per_second: 3008.9698, train_label_loss: 0.0642, \n"
     ]
    },
    {
     "name": "stdout",
     "output_type": "stream",
     "text": [
      "epoch: 4, [batch: 4104 / 6840], examples_per_second: 2962.7833, train_label_loss: 0.0116, \n"
     ]
    },
    {
     "name": "stdout",
     "output_type": "stream",
     "text": [
      "epoch: 4, [batch: 4788 / 6840], examples_per_second: 2970.7667, train_label_loss: 0.0913, \n"
     ]
    },
    {
     "name": "stdout",
     "output_type": "stream",
     "text": [
      "epoch: 4, [batch: 5472 / 6840], examples_per_second: 2983.8384, train_label_loss: 0.0180, \n"
     ]
    },
    {
     "name": "stdout",
     "output_type": "stream",
     "text": [
      "epoch: 4, [batch: 6156 / 6840], examples_per_second: 2994.0832, train_label_loss: 0.0871, \n"
     ]
    },
    {
     "name": "stdout",
     "output_type": "stream",
     "text": [
      "=============================================================\n",
      "epoch: 4, source_val_acc_label: 0.9727, target_val_acc_label: 0.1044, source_val_label_loss: 0.1207, target_val_label_loss: 2.7611, \n",
      "=============================================================\n"
     ]
    },
    {
     "name": "stdout",
     "output_type": "stream",
     "text": [
      "epoch: 5, [batch: 1 / 6843], examples_per_second: 2.7466, train_label_loss: 0.1657, \n"
     ]
    },
    {
     "name": "stdout",
     "output_type": "stream",
     "text": [
      "epoch: 5, [batch: 685 / 6843], examples_per_second: 2976.4903, train_label_loss: 0.0021, \n"
     ]
    },
    {
     "name": "stdout",
     "output_type": "stream",
     "text": [
      "epoch: 5, [batch: 1369 / 6843], examples_per_second: 3000.8371, train_label_loss: 0.1821, \n"
     ]
    },
    {
     "name": "stdout",
     "output_type": "stream",
     "text": [
      "epoch: 5, [batch: 2053 / 6843], examples_per_second: 3008.4831, train_label_loss: 0.0033, \n"
     ]
    },
    {
     "name": "stdout",
     "output_type": "stream",
     "text": [
      "epoch: 5, [batch: 2737 / 6843], examples_per_second: 3019.0306, train_label_loss: 0.0065, \n"
     ]
    },
    {
     "name": "stdout",
     "output_type": "stream",
     "text": [
      "epoch: 5, [batch: 3422 / 6843], examples_per_second: 3033.1898, train_label_loss: 0.2862, \n"
     ]
    },
    {
     "name": "stdout",
     "output_type": "stream",
     "text": [
      "epoch: 5, [batch: 4106 / 6843], examples_per_second: 2994.6635, train_label_loss: 0.0695, \n"
     ]
    },
    {
     "name": "stdout",
     "output_type": "stream",
     "text": [
      "epoch: 5, [batch: 4790 / 6843], examples_per_second: 2978.1755, train_label_loss: 0.0012, \n"
     ]
    },
    {
     "name": "stdout",
     "output_type": "stream",
     "text": [
      "epoch: 5, [batch: 5474 / 6843], examples_per_second: 2953.7996, train_label_loss: 0.0008, \n"
     ]
    },
    {
     "name": "stdout",
     "output_type": "stream",
     "text": [
      "epoch: 5, [batch: 6158 / 6843], examples_per_second: 2955.1034, train_label_loss: 0.0732, \n"
     ]
    },
    {
     "name": "stdout",
     "output_type": "stream",
     "text": [
      "=============================================================\n",
      "epoch: 5, source_val_acc_label: 0.9742, target_val_acc_label: 0.0992, source_val_label_loss: 0.1149, target_val_label_loss: 2.8376, \n",
      "=============================================================\n"
     ]
    },
    {
     "name": "stdout",
     "output_type": "stream",
     "text": [
      "epoch: 6, [batch: 1 / 6854], examples_per_second: 2.7474, train_label_loss: 0.1987, \n"
     ]
    },
    {
     "name": "stdout",
     "output_type": "stream",
     "text": [
      "epoch: 6, [batch: 686 / 6854], examples_per_second: 2986.3337, train_label_loss: 0.0002, \n"
     ]
    },
    {
     "name": "stdout",
     "output_type": "stream",
     "text": [
      "epoch: 6, [batch: 1371 / 6854], examples_per_second: 2994.6470, train_label_loss: 0.0029, \n"
     ]
    },
    {
     "name": "stdout",
     "output_type": "stream",
     "text": [
      "epoch: 6, [batch: 2056 / 6854], examples_per_second: 3012.6817, train_label_loss: 0.0001, \n"
     ]
    },
    {
     "name": "stdout",
     "output_type": "stream",
     "text": [
      "epoch: 6, [batch: 2742 / 6854], examples_per_second: 2999.9418, train_label_loss: 0.0009, \n"
     ]
    },
    {
     "name": "stdout",
     "output_type": "stream",
     "text": [
      "epoch: 6, [batch: 3427 / 6854], examples_per_second: 3029.6979, train_label_loss: 0.0249, \n"
     ]
    },
    {
     "name": "stdout",
     "output_type": "stream",
     "text": [
      "epoch: 6, [batch: 4112 / 6854], examples_per_second: 3030.7004, train_label_loss: 0.0415, \n"
     ]
    },
    {
     "name": "stdout",
     "output_type": "stream",
     "text": [
      "epoch: 6, [batch: 4798 / 6854], examples_per_second: 3049.1571, train_label_loss: 0.0108, \n"
     ]
    },
    {
     "name": "stdout",
     "output_type": "stream",
     "text": [
      "epoch: 6, [batch: 5483 / 6854], examples_per_second: 3035.2843, train_label_loss: 0.0046, \n"
     ]
    },
    {
     "name": "stdout",
     "output_type": "stream",
     "text": [
      "epoch: 6, [batch: 6168 / 6854], examples_per_second: 3000.1868, train_label_loss: 0.1846, \n"
     ]
    },
    {
     "name": "stdout",
     "output_type": "stream",
     "text": [
      "=============================================================\n",
      "epoch: 6, source_val_acc_label: 0.9729, target_val_acc_label: 0.0977, source_val_label_loss: 0.1236, target_val_label_loss: 2.9141, \n",
      "=============================================================\n"
     ]
    },
    {
     "name": "stdout",
     "output_type": "stream",
     "text": [
      "Patience (3) exhausted\n"
     ]
    }
   ],
   "source": [
    "###################################\n",
    "# train\n",
    "###################################\n",
    "jig = PTN_Train_Eval_Test_Jig(model, p.BEST_MODEL_PATH, p.device)\n",
    "\n",
    "jig.train(\n",
    "    train_iterable=datasets.source.processed.train,\n",
    "    source_val_iterable=datasets.source.processed.val,\n",
    "    target_val_iterable=datasets.target.processed.val,\n",
    "    num_epochs=p.n_epoch,\n",
    "    num_logs_per_epoch=p.NUM_LOGS_PER_EPOCH,\n",
    "    patience=p.patience,\n",
    "    optimizer=optimizer,\n",
    "    criteria_for_best=p.criteria_for_best,\n",
    ")"
   ]
  },
  {
   "cell_type": "code",
   "execution_count": 23,
   "id": "31e8fabf",
   "metadata": {
    "execution": {
     "iopub.execute_input": "2022-03-23T06:35:14.056685Z",
     "iopub.status.busy": "2022-03-23T06:35:14.056227Z",
     "iopub.status.idle": "2022-03-23T06:35:14.088480Z",
     "shell.execute_reply": "2022-03-23T06:35:14.089152Z"
    },
    "papermill": {
     "duration": 0.079339,
     "end_time": "2022-03-23T06:35:14.089375",
     "exception": false,
     "start_time": "2022-03-23T06:35:14.010036",
     "status": "completed"
    },
    "tags": []
   },
   "outputs": [],
   "source": [
    "total_experiment_time_secs = time.time() - start_time_secs"
   ]
  },
  {
   "cell_type": "code",
   "execution_count": 24,
   "id": "87b9595b",
   "metadata": {
    "execution": {
     "iopub.execute_input": "2022-03-23T06:35:14.192427Z",
     "iopub.status.busy": "2022-03-23T06:35:14.191755Z",
     "iopub.status.idle": "2022-03-23T06:38:36.901043Z",
     "shell.execute_reply": "2022-03-23T06:38:36.901723Z"
    },
    "papermill": {
     "duration": 202.761885,
     "end_time": "2022-03-23T06:38:36.901953",
     "exception": false,
     "start_time": "2022-03-23T06:35:14.140068",
     "status": "completed"
    },
    "tags": []
   },
   "outputs": [],
   "source": [
    "###################################\n",
    "# Evaluate the model\n",
    "###################################\n",
    "source_test_label_accuracy, source_test_label_loss = jig.test(datasets.source.processed.test)\n",
    "target_test_label_accuracy, target_test_label_loss = jig.test(datasets.target.processed.test)\n",
    "\n",
    "source_val_label_accuracy, source_val_label_loss = jig.test(datasets.source.processed.val)\n",
    "target_val_label_accuracy, target_val_label_loss = jig.test(datasets.target.processed.val)\n",
    "\n",
    "history = jig.get_history()\n",
    "\n",
    "total_epochs_trained = len(history[\"epoch_indices\"])\n",
    "\n",
    "val_dl = Iterable_Aggregator((datasets.source.original.val,datasets.target.original.val))\n",
    "\n",
    "confusion = ptn_confusion_by_domain_over_dataloader(model, p.device, val_dl)\n",
    "per_domain_accuracy = per_domain_accuracy_from_confusion(confusion)\n",
    "\n",
    "# Add a key to per_domain_accuracy for if it was a source domain\n",
    "for domain, accuracy in per_domain_accuracy.items():\n",
    "    per_domain_accuracy[domain] = {\n",
    "        \"accuracy\": accuracy,\n",
    "        \"source?\": domain in p.domains_source\n",
    "    }\n",
    "\n",
    "# Do an independent accuracy assesment JUST TO BE SURE!\n",
    "# _source_test_label_accuracy = independent_accuracy_assesment(model, datasets.source.processed.test, p.device)\n",
    "# _target_test_label_accuracy = independent_accuracy_assesment(model, datasets.target.processed.test, p.device)\n",
    "# _source_val_label_accuracy = independent_accuracy_assesment(model, datasets.source.processed.val, p.device)\n",
    "# _target_val_label_accuracy = independent_accuracy_assesment(model, datasets.target.processed.val, p.device)\n",
    "\n",
    "# assert(_source_test_label_accuracy == source_test_label_accuracy)\n",
    "# assert(_target_test_label_accuracy == target_test_label_accuracy)\n",
    "# assert(_source_val_label_accuracy == source_val_label_accuracy)\n",
    "# assert(_target_val_label_accuracy == target_val_label_accuracy)\n",
    "\n",
    "experiment = {\n",
    "    \"experiment_name\": p.experiment_name,\n",
    "    \"parameters\": dict(p),\n",
    "    \"results\": {\n",
    "        \"source_test_label_accuracy\": source_test_label_accuracy,\n",
    "        \"source_test_label_loss\": source_test_label_loss,\n",
    "        \"target_test_label_accuracy\": target_test_label_accuracy,\n",
    "        \"target_test_label_loss\": target_test_label_loss,\n",
    "        \"source_val_label_accuracy\": source_val_label_accuracy,\n",
    "        \"source_val_label_loss\": source_val_label_loss,\n",
    "        \"target_val_label_accuracy\": target_val_label_accuracy,\n",
    "        \"target_val_label_loss\": target_val_label_loss,\n",
    "        \"total_epochs_trained\": total_epochs_trained,\n",
    "        \"total_experiment_time_secs\": total_experiment_time_secs,\n",
    "        \"confusion\": confusion,\n",
    "        \"per_domain_accuracy\": per_domain_accuracy,\n",
    "    },\n",
    "    \"history\": history,\n",
    "    \"dataset_metrics\": get_dataset_metrics(datasets, \"ptn\"),\n",
    "}"
   ]
  },
  {
   "cell_type": "code",
   "execution_count": 25,
   "id": "54a21829",
   "metadata": {
    "execution": {
     "iopub.execute_input": "2022-03-23T06:38:36.999511Z",
     "iopub.status.busy": "2022-03-23T06:38:36.999143Z",
     "iopub.status.idle": "2022-03-23T06:38:37.222791Z",
     "shell.execute_reply": "2022-03-23T06:38:37.223464Z"
    },
    "papermill": {
     "duration": 0.271401,
     "end_time": "2022-03-23T06:38:37.223707",
     "exception": false,
     "start_time": "2022-03-23T06:38:36.952306",
     "status": "completed"
    },
    "tags": []
   },
   "outputs": [
    {
     "data": {
      "image/png": "[encoded data removed]",
      "text/plain": [
       "<Figure size 1080x504 with 1 Axes>"
      ]
     },
     "metadata": {
      "needs_background": "light"
     },
     "output_type": "display_data"
    }
   ],
   "source": [
    "ax = get_loss_curve(experiment)\n",
    "plt.show()"
   ]
  },
  {
   "cell_type": "code",
   "execution_count": 26,
   "id": "fd8a0f60",
   "metadata": {
    "execution": {
     "iopub.execute_input": "2022-03-23T06:38:37.319336Z",
     "iopub.status.busy": "2022-03-23T06:38:37.318729Z",
     "iopub.status.idle": "2022-03-23T06:38:37.684500Z",
     "shell.execute_reply": "2022-03-23T06:38:37.685171Z"
    },
    "papermill": {
     "duration": 0.411476,
     "end_time": "2022-03-23T06:38:37.685384",
     "exception": false,
     "start_time": "2022-03-23T06:38:37.273908",
     "status": "completed"
    },
    "tags": []
   },
   "outputs": [
    {
     "data": {
      "text/plain": [
       "<AxesSubplot:title={'center':'Results'}>"
      ]
     },
     "execution_count": 26,
     "metadata": {},
     "output_type": "execute_result"
    },
    {
     "data": {
      "image/png": "[encoded data removed]",
      "text/plain": [
       "<Figure size 1080x504 with 1 Axes>"
      ]
     },
     "metadata": {
      "needs_background": "light"
     },
     "output_type": "display_data"
    }
   ],
   "source": [
    "get_results_table(experiment)"
   ]
  },
  {
   "cell_type": "code",
   "execution_count": 27,
   "id": "cf8dc689",
   "metadata": {
    "execution": {
     "iopub.execute_input": "2022-03-23T06:38:37.782330Z",
     "iopub.status.busy": "2022-03-23T06:38:37.781963Z",
     "iopub.status.idle": "2022-03-23T06:38:38.051162Z",
     "shell.execute_reply": "2022-03-23T06:38:38.050303Z"
    },
    "papermill": {
     "duration": 0.316847,
     "end_time": "2022-03-23T06:38:38.051338",
     "exception": false,
     "start_time": "2022-03-23T06:38:37.734491",
     "status": "completed"
    },
    "tags": []
   },
   "outputs": [
    {
     "data": {
      "text/plain": [
       "<AxesSubplot:title={'center':'Per Domain Validation Accuracy'}, xlabel='domain'>"
      ]
     },
     "execution_count": 27,
     "metadata": {},
     "output_type": "execute_result"
    },
    {
     "data": {
      "image/png": "[encoded data removed]",
      "text/plain": [
       "<Figure size 1080x504 with 1 Axes>"
      ]
     },
     "metadata": {
      "needs_background": "light"
     },
     "output_type": "display_data"
    }
   ],
   "source": [
    "get_domain_accuracies(experiment)"
   ]
  },
  {
   "cell_type": "code",
   "execution_count": 28,
   "id": "a74ae082",
   "metadata": {
    "execution": {
     "iopub.execute_input": "2022-03-23T06:38:38.151339Z",
     "iopub.status.busy": "2022-03-23T06:38:38.150772Z",
     "iopub.status.idle": "2022-03-23T06:38:38.177689Z",
     "shell.execute_reply": "2022-03-23T06:38:38.176868Z"
    },
    "papermill": {
     "duration": 0.077274,
     "end_time": "2022-03-23T06:38:38.177849",
     "exception": false,
     "start_time": "2022-03-23T06:38:38.100575",
     "status": "completed"
    },
    "tags": []
   },
   "outputs": [
    {
     "name": "stdout",
     "output_type": "stream",
     "text": [
      "Source Test Label Accuracy: 0.967877456049638 Target Test Label Accuracy: 0.12067057291666666\n",
      "Source Val Label Accuracy: 0.969079641350211 Target Val Label Accuracy: 0.11959635416666667\n"
     ]
    }
   ],
   "source": [
    "print(\"Source Test Label Accuracy:\", experiment[\"results\"][\"source_test_label_accuracy\"], \"Target Test Label Accuracy:\", experiment[\"results\"][\"target_test_label_accuracy\"])\n",
    "print(\"Source Val Label Accuracy:\", experiment[\"results\"][\"source_val_label_accuracy\"], \"Target Val Label Accuracy:\", experiment[\"results\"][\"target_val_label_accuracy\"])"
   ]
  },
  {
   "cell_type": "code",
   "execution_count": 29,
   "id": "dacca602",
   "metadata": {
    "execution": {
     "iopub.execute_input": "2022-03-23T06:38:38.279383Z",
     "iopub.status.busy": "2022-03-23T06:38:38.279017Z",
     "iopub.status.idle": "2022-03-23T06:38:38.306653Z",
     "shell.execute_reply": "2022-03-23T06:38:38.307324Z"
    },
    "papermill": {
     "duration": 0.077574,
     "end_time": "2022-03-23T06:38:38.307506",
     "exception": false,
     "start_time": "2022-03-23T06:38:38.229932",
     "status": "completed"
    },
    "tags": [
     "experiment_json"
    ]
   },
   "outputs": [
    {
     "data": {
      "text/plain": [
       "'{\"experiment_name\": \"tl_1v2:wisig-oracle.run1.limited\", \"parameters\": {\"experiment_name\": \"tl_1v2:wisig-oracle.run1.limited\", \"device\": \"cuda\", \"lr\": 0.0001, \"n_shot\": 3, \"n_query\": 2, \"train_k_factor\": 3, \"val_k_factor\": 2, \"test_k_factor\": 2, \"torch_default_dtype\": \"torch.float32\", \"n_epoch\": 50, \"patience\": 3, \"criteria_for_best\": \"target_accuracy\", \"x_net\": [{\"class\": \"nnReshape\", \"kargs\": {\"shape\": [-1, 1, 2, 256]}}, {\"class\": \"Conv2d\", \"kargs\": {\"in_channels\": 1, \"out_channels\": 256, \"kernel_size\": [1, 7], \"bias\": false, \"padding\": [0, 3]}}, {\"class\": \"ReLU\", \"kargs\": {\"inplace\": true}}, {\"class\": \"BatchNorm2d\", \"kargs\": {\"num_features\": 256}}, {\"class\": \"Conv2d\", \"kargs\": {\"in_channels\": 256, \"out_channels\": 80, \"kernel_size\": [2, 7], \"bias\": true, \"padding\": [0, 3]}}, {\"class\": \"ReLU\", \"kargs\": {\"inplace\": true}}, {\"class\": \"BatchNorm2d\", \"kargs\": {\"num_features\": 80}}, {\"class\": \"Flatten\", \"kargs\": {}}, {\"class\": \"Linear\", \"kargs\": {\"in_features\": 20480, \"out_features\": 256}}, {\"class\": \"ReLU\", \"kargs\": {\"inplace\": true}}, {\"class\": \"BatchNorm1d\", \"kargs\": {\"num_features\": 256}}, {\"class\": \"Linear\", \"kargs\": {\"in_features\": 256, \"out_features\": 256}}], \"NUM_LOGS_PER_EPOCH\": 10, \"BEST_MODEL_PATH\": \"./best_model.pth\", \"n_way\": 16, \"datasets\": [{\"labels\": [\"1-10\", \"1-12\", \"1-14\", \"1-16\", \"1-18\", \"1-19\", \"1-8\", \"10-11\", \"10-17\", \"10-4\", \"10-7\", \"11-1\", \"11-10\", \"11-19\", \"11-20\", \"11-4\", \"11-7\", \"12-19\", \"12-20\", \"12-7\", \"13-14\", \"13-18\", \"13-19\", \"13-20\", \"13-3\", \"13-7\", \"14-10\", \"14-11\", \"14-12\", \"14-13\", \"14-14\", \"14-19\", \"14-20\", \"14-7\", \"14-8\", \"14-9\", \"15-1\", \"15-19\", \"15-6\", \"16-1\", \"16-16\", \"16-19\", \"16-20\", \"17-10\", \"17-11\", \"18-1\", \"18-10\", \"18-11\", \"18-12\", \"18-13\", \"18-14\", \"18-15\", \"18-16\", \"18-17\", \"18-19\", \"18-2\", \"18-20\", \"18-4\", \"18-5\", \"18-7\", \"18-8\", \"18-9\", \"19-1\", \"19-10\", \"19-11\", \"19-12\", \"19-13\", \"19-14\", \"19-15\", \"19-19\", \"19-2\", \"19-20\", \"19-3\", \"19-4\", \"19-6\", \"19-7\", \"19-8\", \"19-9\", \"2-1\", \"2-13\", \"2-15\", \"2-3\", \"2-4\", \"2-5\", \"2-6\", \"2-7\", \"2-8\", \"20-1\", \"20-12\", \"20-14\", \"20-15\", \"20-16\", \"20-18\", \"20-19\", \"20-20\", \"20-3\", \"20-4\", \"20-5\", \"20-7\", \"20-8\", \"3-1\", \"3-13\", \"3-18\", \"3-2\", \"3-8\", \"4-1\", \"4-10\", \"4-11\", \"5-1\", \"5-5\", \"6-1\", \"6-15\", \"6-6\", \"7-10\", \"7-11\", \"7-12\", \"7-13\", \"7-14\", \"7-7\", \"7-8\", \"7-9\", \"8-1\", \"8-13\", \"8-14\", \"8-18\", \"8-20\", \"8-3\", \"8-8\", \"9-1\", \"9-7\"], \"domains\": [1, 2, 3, 4], \"num_examples_per_domain_per_label\": -1, \"pickle_path\": \"/root/csc500-main/datasets/wisig.node3-19.stratified_ds.2022A.pkl\", \"source_or_target_dataset\": \"source\", \"x_transforms\": [\"unit_mag\"], \"episode_transforms\": [], \"domain_prefix\": \"Wisig_\"}, {\"labels\": [\"3123D52\", \"3123D65\", \"3123D79\", \"3123D80\", \"3123D54\", \"3123D70\", \"3123D7B\", \"3123D89\", \"3123D58\", \"3123D76\", \"3123D7D\", \"3123EFE\", \"3123D64\", \"3123D78\", \"3123D7E\", \"3124E4A\"], \"domains\": [32, 38, 8, 44, 14, 50, 20, 26], \"num_examples_per_domain_per_label\": 2000, \"pickle_path\": \"/root/csc500-main/datasets/oracle.Run1_10kExamples_stratified_ds.2022A.pkl\", \"source_or_target_dataset\": \"target\", \"x_transforms\": [\"unit_mag\"], \"episode_transforms\": [], \"domain_prefix\": \"ORACLE.run1\"}], \"dataset_seed\": 500, \"seed\": 500, \"x_shape\": [2, 256], \"domains_source\": [\"Wisig_1\", \"Wisig_2\", \"Wisig_3\", \"Wisig_4\"], \"domains_target\": [\"ORACLE.run132\", \"ORACLE.run138\", \"ORACLE.run18\", \"ORACLE.run144\", \"ORACLE.run114\", \"ORACLE.run150\", \"ORACLE.run120\", \"ORACLE.run126\"]}, \"results\": {\"source_test_label_accuracy\": 0.967877456049638, \"source_test_label_loss\": 0.14392481744289398, \"target_test_label_accuracy\": 0.12067057291666666, \"target_test_label_loss\": 2.6641452312469482, \"source_val_label_accuracy\": 0.969079641350211, \"source_val_label_loss\": 0.13522109389305115, \"target_val_label_accuracy\": 0.11959635416666667, \"target_val_label_loss\": 2.6738243103027344, \"total_epochs_trained\": 6, \"total_experiment_time_secs\": 1353.636754989624, \"confusion\": {\"Wisig_3\": {\"99\": {\"99\": 34, \"25\": 1, \"112\": 1}, \"8\": {\"8\": 124}, \"65\": {\"39\": 1, \"65\": 11}, \"117\": {\"117\": 110, \"7\": 1, \"40\": 1}, \"18\": {\"18\": 122, \"114\": 1, \"126\": 1}, \"39\": {\"39\": 106, \"16\": 1, \"117\": 1}, \"102\": {\"102\": 124}, \"76\": {\"49\": 1, \"76\": 15}, \"101\": {\"101\": 51, \"105\": 1}, \"57\": {\"57\": 20}, \"86\": {\"86\": 27, \"101\": 1}, \"11\": {\"11\": 132}, \"98\": {\"98\": 126, \"87\": 1, \"90\": 1}, \"42\": {\"42\": 28}, \"47\": {\"47\": 12}, \"49\": {\"49\": 23, \"70\": 1}, \"111\": {\"111\": 131, \"125\": 1}, \"36\": {\"36\": 115, \"27\": 1}, \"124\": {\"124\": 103, \"92\": 1, \"8\": 1, \"90\": 1}, \"122\": {\"122\": 55, \"21\": 1, \"40\": 2, \"70\": 2}, \"93\": {\"93\": 142}, \"89\": {\"89\": 28}, \"51\": {\"51\": 16}, \"73\": {\"73\": 39, \"21\": 1}, \"45\": {\"45\": 16}, \"5\": {\"5\": 107, \"106\": 1, \"40\": 2, \"8\": 1, \"101\": 1}, \"69\": {\"69\": 82, \"122\": 1, \"106\": 1}, \"26\": {\"26\": 130}, \"1\": {\"1\": 107, \"40\": 1}, \"92\": {\"92\": 32}, \"96\": {\"96\": 20}, \"85\": {\"85\": 36}, \"114\": {\"114\": 125, \"128\": 1}, \"50\": {\"50\": 16}, \"81\": {\"81\": 32}, \"2\": {\"2\": 27, \"91\": 1}, \"33\": {\"33\": 145, \"21\": 1}, \"31\": {\"31\": 20}, \"90\": {\"90\": 117, \"26\": 1}, \"17\": {\"50\": 1, \"17\": 8, \"23\": 2, \"63\": 2, \"78\": 1, \"105\": 1, \"122\": 1}, \"116\": {\"116\": 26, \"60\": 1, \"82\": 1}, \"91\": {\"91\": 23, \"12\": 1}, \"120\": {\"120\": 20}, \"128\": {\"128\": 29, \"19\": 1, \"30\": 2}, \"78\": {\"128\": 1, \"78\": 11, \"84\": 1, \"17\": 1, \"40\": 2}, \"58\": {\"58\": 16}, \"23\": {\"23\": 29, \"68\": 1, \"60\": 2}, \"15\": {\"15\": 102, \"52\": 1, \"21\": 1}, \"74\": {\"74\": 16}, \"34\": {\"34\": 25, \"6\": 2, \"124\": 1, \"125\": 1, \"20\": 1, \"91\": 1, \"82\": 1}, \"103\": {\"103\": 16}, \"106\": {\"106\": 100}, \"44\": {\"44\": 68, \"60\": 1, \"64\": 1, \"90\": 1, \"113\": 1}, \"9\": {\"9\": 30, \"126\": 1, \"80\": 1}, \"97\": {\"97\": 20}, \"123\": {\"123\": 14, \"63\": 1, \"116\": 1}, \"6\": {\"6\": 29, \"101\": 1, \"90\": 1, \"34\": 1}, \"68\": {\"68\": 16}, \"24\": {\"24\": 44, \"27\": 4}, \"21\": {\"21\": 44, \"92\": 1, \"34\": 1, \"31\": 1, \"129\": 1}, \"83\": {\"83\": 22, \"27\": 1, \"124\": 1}, \"60\": {\"60\": 24, \"43\": 1, \"28\": 1, \"110\": 1, \"122\": 1}, \"87\": {\"87\": 120}, \"30\": {\"30\": 79, \"116\": 1, \"98\": 1, \"94\": 1, \"17\": 1, \"124\": 1}, \"43\": {\"43\": 52, \"33\": 1, \"27\": 1, \"21\": 2}, \"115\": {\"115\": 16}, \"40\": {\"40\": 120}, \"112\": {\"112\": 15, \"48\": 1}, \"66\": {\"66\": 16}, \"110\": {\"110\": 91, \"40\": 1}, \"3\": {\"3\": 112, \"127\": 1, \"99\": 1}, \"20\": {\"20\": 16}, \"28\": {\"28\": 16}, \"84\": {\"84\": 104, \"7\": 1, \"73\": 1, \"40\": 2}, \"79\": {\"79\": 12}, \"118\": {\"118\": 97, \"98\": 1, \"40\": 1, \"8\": 1}, \"56\": {\"56\": 11, \"75\": 1}, \"48\": {\"48\": 12, \"20\": 2, \"13\": 1, \"79\": 1}, \"77\": {\"77\": 16}, \"14\": {\"14\": 80}, \"64\": {\"64\": 20}, \"67\": {\"67\": 15, \"40\": 1}, \"62\": {\"62\": 124}, \"75\": {\"75\": 16}, \"63\": {\"63\": 13, \"34\": 1, \"48\": 1, \"60\": 1}, \"7\": {\"7\": 112}, \"125\": {\"125\": 101, \"113\": 1, \"31\": 1, \"23\": 1}, \"37\": {\"37\": 16}, \"121\": {\"121\": 30, \"35\": 1, \"22\": 1}, \"16\": {\"16\": 102, \"40\": 1, \"94\": 1}, \"35\": {\"35\": 11, \"93\": 1}, \"32\": {\"32\": 32}, \"46\": {\"46\": 16}, \"70\": {\"70\": 68, \"30\": 1, \"122\": 1, \"71\": 1, \"21\": 1}, \"129\": {\"129\": 32}, \"95\": {\"95\": 31, \"70\": 1}, \"72\": {\"72\": 28}, \"19\": {\"19\": 32}, \"52\": {\"52\": 16}, \"100\": {\"100\": 14, \"40\": 1, \"11\": 1}, \"104\": {\"104\": 16}, \"59\": {\"59\": 12}, \"109\": {\"109\": 126}, \"88\": {\"88\": 106, \"12\": 1, \"127\": 1}, \"27\": {\"27\": 86, \"21\": 1, \"69\": 1, \"40\": 1, \"110\": 1, \"36\": 4}, \"113\": {\"113\": 118, \"105\": 1, \"82\": 1}, \"105\": {\"105\": 124}, \"71\": {\"71\": 67, \"39\": 1}, \"108\": {\"108\": 123, \"8\": 1}, \"41\": {\"41\": 16}, \"80\": {\"80\": 15, \"29\": 1}, \"13\": {\"13\": 11, \"18\": 2, \"115\": 2, \"25\": 1}, \"55\": {\"55\": 16}, \"0\": {\"0\": 103, \"39\": 1, \"98\": 1, \"19\": 1}, \"25\": {\"25\": 16}, \"53\": {\"53\": 20}, \"61\": {\"61\": 16}, \"38\": {\"38\": 16}, \"127\": {\"127\": 123, \"17\": 1, \"12\": 1, \"40\": 1, \"4\": 1, \"84\": 1}, \"4\": {\"4\": 93, \"8\": 1, \"11\": 1, \"40\": 1}, \"12\": {\"12\": 104}, \"126\": {\"126\": 121, \"108\": 1, \"4\": 1, \"18\": 1}, \"29\": {\"29\": 32}, \"107\": {\"107\": 136}, \"82\": {\"82\": 28}, \"94\": {\"94\": 83, \"40\": 1}, \"54\": {\"54\": 16}, \"10\": {\"10\": 127, \"106\": 1}, \"22\": {\"22\": 16}, \"119\": {\"119\": 16}}, \"Wisig_2\": {\"73\": {\"73\": 27, \"2\": 1}, \"40\": {\"40\": 131, \"27\": 1}, \"99\": {\"99\": 30, \"48\": 1, \"27\": 1}, \"5\": {\"5\": 107, \"40\": 1, \"105\": 1, \"69\": 1, \"27\": 1, \"106\": 1}, \"108\": {\"108\": 132}, \"128\": {\"128\": 18, \"29\": 2, \"71\": 2, \"19\": 1, \"17\": 1}, \"89\": {\"89\": 32, \"92\": 3, \"40\": 1}, \"107\": {\"107\": 51, \"128\": 1, \"94\": 2, \"21\": 2, \"16\": 1, \"127\": 1, \"4\": 1, \"71\": 1, \"110\": 1, \"40\": 2, \"14\": 1}, \"2\": {\"2\": 29, \"16\": 2, \"119\": 1}, \"78\": {\"78\": 46, \"21\": 1, \"127\": 1}, \"85\": {\"85\": 32}, \"44\": {\"44\": 100}, \"58\": {\"58\": 20}, \"57\": {\"57\": 18, \"40\": 1, \"87\": 1}, \"41\": {\"41\": 19, \"40\": 1}, \"53\": {\"53\": 16}, \"14\": {\"14\": 41, \"36\": 1, \"24\": 1, \"21\": 2, \"2\": 1, \"74\": 1, \"106\": 1}, \"83\": {\"83\": 38, \"9\": 1, \"7\": 1}, \"119\": {\"119\": 20}, \"95\": {\"95\": 35, \"40\": 1}, \"28\": {\"28\": 19, \"13\": 1}, \"19\": {\"19\": 28}, \"69\": {\"69\": 125, \"40\": 3, \"105\": 1, \"7\": 2, \"13\": 1}, \"93\": {\"93\": 132, \"125\": 1, \"98\": 1}, \"9\": {\"9\": 32}, \"118\": {\"118\": 66, \"11\": 1, \"1\": 1}, \"43\": {\"43\": 113, \"14\": 1, \"40\": 2}, \"47\": {\"47\": 11, \"88\": 1}, \"125\": {\"125\": 144}, \"29\": {\"29\": 32}, \"122\": {\"122\": 134, \"40\": 1, \"70\": 1, \"105\": 1, \"11\": 1, \"0\": 1, \"26\": 1}, \"46\": {\"46\": 16}, \"86\": {\"86\": 32}, \"70\": {\"70\": 106, \"17\": 1, \"84\": 2, \"43\": 2, \"21\": 4, \"109\": 1, \"78\": 3, \"39\": 2, \"40\": 3}, \"51\": {\"51\": 17, \"21\": 2, \"10\": 1}, \"23\": {\"23\": 41, \"78\": 1, \"110\": 2}, \"121\": {\"121\": 34, \"120\": 1, \"65\": 1}, \"63\": {\"46\": 1, \"63\": 17, \"34\": 1, \"49\": 1}, \"102\": {\"102\": 121, \"40\": 1}, \"21\": {\"21\": 46, \"70\": 1, \"36\": 1}, \"55\": {\"55\": 13, \"116\": 1, \"62\": 2}, \"54\": {\"54\": 20}, \"6\": {\"6\": 31, \"34\": 1}, \"109\": {\"109\": 92, \"81\": 2, \"118\": 1, \"87\": 1, \"88\": 1, \"110\": 1, \"39\": 1, \"40\": 1}, \"64\": {\"95\": 1, \"64\": 15}, \"20\": {\"20\": 16}, \"98\": {\"98\": 111, \"13\": 1, \"0\": 1, \"40\": 1}, \"92\": {\"92\": 26, \"13\": 1, \"53\": 1}, \"35\": {\"35\": 12}, \"113\": {\"113\": 63, \"109\": 1, \"24\": 1, \"12\": 1, \"94\": 1, \"40\": 1, \"124\": 1, \"127\": 1, \"21\": 1, \"11\": 1}, \"71\": {\"71\": 96, \"107\": 1, \"13\": 1, \"40\": 1, \"27\": 1}, \"94\": {\"94\": 54, \"71\": 1, \"87\": 2, \"78\": 1, \"26\": 2, \"40\": 1, \"73\": 1, \"105\": 1, \"106\": 1}, \"52\": {\"52\": 19, \"70\": 1}, \"116\": {\"116\": 26, \"80\": 1, \"29\": 1}, \"87\": {\"87\": 104, \"109\": 1, \"36\": 1, \"43\": 1, \"40\": 1, \"19\": 1, \"105\": 1, \"114\": 1, \"117\": 1}, \"90\": {\"90\": 148}, \"91\": {\"91\": 27, \"128\": 1}, \"84\": {\"84\": 87, \"71\": 1, \"107\": 1, \"7\": 1, \"127\": 1, \"1\": 1}, \"24\": {\"24\": 103, \"12\": 1, \"4\": 1, \"94\": 1, \"36\": 2, \"106\": 1, \"33\": 1, \"40\": 1, \"30\": 1}, \"33\": {\"33\": 131, \"105\": 1, \"69\": 1, \"36\": 1}, \"81\": {\"81\": 23, \"92\": 1}, \"115\": {\"115\": 10, \"60\": 1, \"95\": 1}, \"77\": {\"77\": 16}, \"106\": {\"106\": 116, \"21\": 1, \"40\": 1, \"87\": 1, \"24\": 1}, \"42\": {\"42\": 24, \"14\": 1, \"110\": 1, \"107\": 1, \"95\": 1}, \"38\": {\"38\": 16}, \"36\": {\"36\": 110, \"14\": 1, \"71\": 1, \"87\": 1, \"40\": 1}, \"79\": {\"79\": 16}, \"60\": {\"60\": 25, \"127\": 1, \"98\": 1, \"87\": 1}, \"80\": {\"80\": 15, \"120\": 1}, \"32\": {\"32\": 36}, \"0\": {\"0\": 116}, \"127\": {\"127\": 123, \"24\": 1}, \"114\": {\"114\": 114, \"90\": 1, \"109\": 1}, \"62\": {\"62\": 138, \"21\": 1, \"87\": 1}, \"129\": {\"129\": 32}, \"56\": {\"56\": 12}, \"76\": {\"76\": 16}, \"72\": {\"72\": 26, \"21\": 1, \"115\": 1}, \"88\": {\"88\": 122, \"95\": 1, \"40\": 1}, \"68\": {\"68\": 14, \"71\": 1, \"12\": 1}, \"67\": {\"67\": 14, \"75\": 2}, \"100\": {\"100\": 16}, \"34\": {\"34\": 25, \"86\": 1, \"91\": 2, \"10\": 1, \"24\": 1, \"52\": 1, \"124\": 1}, \"16\": {\"16\": 123, \"36\": 1}, \"126\": {\"126\": 120}, \"4\": {\"4\": 85, \"120\": 1, \"14\": 1, \"7\": 1}, \"101\": {\"101\": 146}, \"104\": {\"104\": 18, \"23\": 1, \"4\": 1}, \"30\": {\"67\": 1, \"30\": 106, \"0\": 1, \"71\": 1, \"40\": 1}, \"8\": {\"8\": 127, \"113\": 1}, \"82\": {\"82\": 34, \"16\": 1, \"70\": 1}, \"26\": {\"26\": 129, \"107\": 1, \"36\": 1, \"40\": 3, \"24\": 1, \"7\": 1, \"69\": 1, \"1\": 1}, \"96\": {\"96\": 20}, \"3\": {\"3\": 132, \"15\": 1, \"43\": 1, \"36\": 1, \"40\": 1}, \"25\": {\"25\": 14, \"36\": 1, \"78\": 1}, \"13\": {\"13\": 10, \"91\": 1, \"40\": 1, \"85\": 1, \"5\": 1, \"82\": 2}, \"37\": {\"37\": 15, \"40\": 1}, \"49\": {\"49\": 18, \"105\": 1, \"11\": 2, \"92\": 1, \"123\": 1, \"61\": 1}, \"111\": {\"111\": 136}, \"105\": {\"105\": 131, \"7\": 1}, \"17\": {\"17\": 13, \"42\": 1, \"87\": 1, \"70\": 1}, \"65\": {\"65\": 18, \"73\": 2}, \"123\": {\"123\": 15, \"41\": 1}, \"74\": {\"74\": 13, \"40\": 2, \"62\": 1}, \"97\": {\"97\": 16, \"15\": 1, \"110\": 1, \"13\": 1, \"91\": 1}, \"112\": {\"112\": 14, \"47\": 1, \"108\": 1}, \"120\": {\"120\": 20}, \"50\": {\"50\": 14, \"29\": 1, \"80\": 1}, \"59\": {\"59\": 15, \"24\": 1}, \"10\": {\"10\": 55, \"95\": 2, \"14\": 1, \"78\": 1, \"49\": 1}, \"45\": {\"45\": 14, \"25\": 1, \"124\": 1}, \"12\": {\"12\": 85, \"21\": 1, \"78\": 1, \"117\": 1}, \"75\": {\"75\": 15, \"30\": 1}, \"48\": {\"48\": 20}, \"61\": {\"61\": 17, \"10\": 1, \"36\": 1, \"94\": 1}, \"124\": {\"124\": 123, \"85\": 1}, \"11\": {\"11\": 77, \"87\": 1, \"40\": 1, \"10\": 1}, \"103\": {\"103\": 14, \"49\": 1, \"16\": 1}, \"7\": {\"7\": 128, \"107\": 1, \"27\": 1, \"5\": 1, \"40\": 1}, \"18\": {\"18\": 116, \"55\": 1, \"106\": 1, \"40\": 1, \"43\": 1}, \"31\": {\"31\": 20}, \"15\": {\"15\": 116, \"40\": 1, \"3\": 1}, \"1\": {\"1\": 119, \"94\": 1, \"43\": 1, \"73\": 1}, \"66\": {\"66\": 19, \"72\": 1}, \"110\": {\"110\": 32, \"14\": 1, \"40\": 1, \"24\": 1, \"122\": 2, \"26\": 1, \"12\": 1, \"87\": 1}, \"27\": {\"27\": 59, \"40\": 1, \"107\": 1, \"71\": 2, \"105\": 1, \"36\": 1, \"11\": 1, \"127\": 1, \"87\": 1}, \"22\": {\"22\": 18, \"40\": 1, \"75\": 1}, \"117\": {\"117\": 117, \"40\": 1, \"114\": 1, \"36\": 1}, \"39\": {\"39\": 103, \"18\": 1, \"78\": 1, \"21\": 2, \"124\": 1}}, \"Wisig_1\": {\"60\": {\"60\": 13, \"14\": 1, \"80\": 1, \"23\": 1}, \"59\": {\"60\": 1, \"59\": 10, \"28\": 1}, \"107\": {\"107\": 122, \"94\": 1, \"69\": 1}, \"113\": {\"113\": 123, \"105\": 1}, \"6\": {\"6\": 28, \"103\": 1, \"21\": 1, \"46\": 1, \"23\": 1}, \"24\": {\"24\": 91, \"43\": 1}, \"50\": {\"50\": 15, \"75\": 1}, \"62\": {\"62\": 119, \"70\": 1}, \"48\": {\"48\": 12}, \"104\": {\"104\": 16}, \"105\": {\"105\": 77, \"40\": 4, \"87\": 1, \"97\": 1, \"4\": 1}, \"44\": {\"44\": 76}, \"49\": {\"49\": 17, \"42\": 1, \"101\": 2}, \"55\": {\"55\": 12}, \"4\": {\"4\": 100}, \"76\": {\"76\": 16}, \"85\": {\"85\": 32}, \"89\": {\"89\": 36}, \"74\": {\"74\": 16}, \"112\": {\"112\": 16}, \"79\": {\"79\": 12}, \"0\": {\"0\": 83, \"97\": 1}, \"91\": {\"91\": 26, \"115\": 1, \"52\": 1}, \"118\": {\"118\": 83, \"94\": 1}, \"80\": {\"80\": 16}, \"64\": {\"64\": 16}, \"97\": {\"97\": 18, \"88\": 2}, \"84\": {\"84\": 124}, \"38\": {\"38\": 16}, \"30\": {\"30\": 52}, \"32\": {\"32\": 29, \"65\": 1, \"81\": 1, \"6\": 1}, \"72\": {\"72\": 32}, \"33\": {\"33\": 130, \"42\": 1, \"1\": 1}, \"34\": {\"34\": 31, \"14\": 1}, \"28\": {\"28\": 20}, \"123\": {\"123\": 15, \"34\": 1}, \"2\": {\"2\": 23, \"83\": 3, \"129\": 1, \"42\": 1, \"96\": 1, \"99\": 1, \"21\": 1, \"19\": 1}, \"70\": {\"70\": 123, \"53\": 1}, \"127\": {\"127\": 107, \"78\": 1}, \"110\": {\"110\": 125, \"39\": 1, \"113\": 1, \"88\": 1}, \"126\": {\"126\": 136}, \"13\": {\"13\": 16}, \"15\": {\"15\": 103, \"111\": 1}, \"29\": {\"29\": 28}, \"18\": {\"18\": 119, \"23\": 1}, \"7\": {\"7\": 142}, \"56\": {\"56\": 12}, \"98\": {\"98\": 108}, \"99\": {\"99\": 24}, \"77\": {\"77\": 15, \"90\": 1}, \"103\": {\"6\": 1, \"103\": 14, \"94\": 1}, \"128\": {\"128\": 24}, \"3\": {\"3\": 84, \"71\": 1, \"127\": 1, \"8\": 1, \"15\": 1}, \"121\": {\"121\": 32}, \"42\": {\"42\": 28}, \"90\": {\"90\": 120}, \"37\": {\"37\": 16}, \"120\": {\"103\": 1, \"120\": 17, \"94\": 1, \"78\": 1}, \"117\": {\"117\": 118}, \"9\": {\"9\": 32}, \"108\": {\"108\": 124}, \"83\": {\"83\": 28}, \"14\": {\"14\": 95, \"65\": 1}, \"63\": {\"63\": 16}, \"11\": {\"11\": 117, \"39\": 1}, \"95\": {\"95\": 36}, \"26\": {\"26\": 128, \"36\": 1, \"105\": 1}, \"22\": {\"22\": 16}, \"102\": {\"102\": 120}, \"69\": {\"69\": 100, \"94\": 1, \"40\": 1, \"114\": 1, \"1\": 2, \"39\": 1}, \"1\": {\"1\": 130}, \"67\": {\"67\": 16}, \"57\": {\"57\": 12}, \"8\": {\"8\": 132, \"40\": 1, \"47\": 1}, \"109\": {\"109\": 120, \"126\": 1, \"40\": 1, \"108\": 1, \"88\": 1}, \"129\": {\"129\": 25, \"39\": 1, \"2\": 2}, \"111\": {\"111\": 120}, \"71\": {\"71\": 101, \"102\": 1, \"12\": 1, \"124\": 2, \"40\": 2, \"70\": 1}, \"47\": {\"47\": 12}, \"82\": {\"82\": 35, \"128\": 1}, \"27\": {\"27\": 92}, \"19\": {\"19\": 28}, \"122\": {\"87\": 1, \"122\": 86, \"9\": 1}, \"53\": {\"53\": 20}, \"87\": {\"87\": 106, \"40\": 1, \"37\": 1}, \"100\": {\"100\": 16}, \"66\": {\"66\": 16}, \"31\": {\"31\": 16}, \"58\": {\"58\": 11, \"54\": 1}, \"68\": {\"68\": 16}, \"88\": {\"88\": 108, \"27\": 1, \"40\": 2, \"36\": 3}, \"45\": {\"45\": 8, \"2\": 2, \"87\": 1, \"0\": 1}, \"114\": {\"114\": 128}, \"23\": {\"58\": 4, \"23\": 17, \"60\": 3}, \"65\": {\"10\": 1, \"65\": 9, \"105\": 1, \"70\": 1}, \"124\": {\"124\": 118}, \"10\": {\"10\": 116, \"18\": 1, \"94\": 1, \"87\": 1, \"12\": 1}, \"92\": {\"92\": 28}, \"40\": {\"40\": 143, \"93\": 1}, \"73\": {\"73\": 19, \"94\": 1}, \"94\": {\"94\": 91, \"27\": 1}, \"81\": {\"81\": 28}, \"101\": {\"101\": 108, \"14\": 1, \"39\": 1}, \"86\": {\"86\": 33, \"85\": 1, \"105\": 1, \"6\": 1}, \"78\": {\"78\": 13, \"87\": 1, \"40\": 2}, \"96\": {\"96\": 19, \"42\": 1}, \"5\": {\"5\": 84, \"110\": 1, \"108\": 1, \"27\": 1, \"107\": 1}, \"16\": {\"16\": 104, \"27\": 1, \"30\": 1, \"88\": 2}, \"35\": {\"35\": 12}, \"51\": {\"51\": 16}, \"46\": {\"46\": 10, \"12\": 1, \"25\": 1}, \"20\": {\"20\": 16}, \"116\": {\"116\": 28, \"66\": 2, \"33\": 1, \"94\": 1}, \"75\": {\"75\": 16}, \"43\": {\"43\": 126, \"26\": 1, \"87\": 1}, \"17\": {\"17\": 16}, \"12\": {\"12\": 103, \"36\": 1}, \"25\": {\"25\": 16}, \"54\": {\"54\": 15, \"40\": 1}, \"36\": {\"36\": 108, \"127\": 1, \"113\": 1, \"88\": 1, \"71\": 1}, \"52\": {\"52\": 20}, \"61\": {\"61\": 12}, \"106\": {\"106\": 120}, \"39\": {\"39\": 102, \"122\": 1, \"87\": 1}, \"119\": {\"119\": 16}, \"125\": {\"125\": 148}, \"93\": {\"93\": 146, \"1\": 1, \"87\": 1}, \"115\": {\"115\": 12}, \"21\": {\"85\": 1, \"21\": 34, \"94\": 1, \"86\": 1, \"34\": 1, \"107\": 1, \"113\": 1}, \"41\": {\"41\": 16}}, \"Wisig_4\": {\"55\": {\"55\": 16}, \"9\": {\"9\": 28}, \"70\": {\"70\": 118, \"39\": 1, \"88\": 3}, \"112\": {\"112\": 16}, \"115\": {\"115\": 13, \"25\": 1, \"64\": 1, \"96\": 1}, \"56\": {\"56\": 10, \"72\": 1, \"127\": 1}, \"108\": {\"111\": 1, \"108\": 85, \"25\": 1, \"0\": 1, \"84\": 1, \"94\": 1, \"83\": 1, \"26\": 1}, \"117\": {\"117\": 122, \"111\": 1, \"70\": 1}, \"111\": {\"111\": 130, \"101\": 2}, \"71\": {\"71\": 94, \"128\": 1, \"114\": 2, \"7\": 2, \"9\": 1, \"105\": 1, \"118\": 1, \"10\": 1, \"40\": 1}, \"59\": {\"59\": 12}, \"10\": {\"10\": 122, \"15\": 1, \"40\": 1}, \"83\": {\"83\": 28}, \"116\": {\"116\": 28}, \"13\": {\"13\": 16}, \"4\": {\"4\": 103, \"69\": 1}, \"125\": {\"125\": 104, \"11\": 1, \"124\": 1}, \"102\": {\"102\": 122, \"105\": 1, \"106\": 1}, \"47\": {\"47\": 12}, \"28\": {\"28\": 20}, \"82\": {\"82\": 30, \"124\": 1, \"78\": 1}, \"60\": {\"60\": 32}, \"107\": {\"107\": 129, \"21\": 1, \"78\": 2, \"113\": 1, \"39\": 1}, \"75\": {\"75\": 16}, \"31\": {\"31\": 16}, \"92\": {\"92\": 28}, \"58\": {\"58\": 16}, \"113\": {\"113\": 123, \"21\": 1, \"40\": 2, \"39\": 1, \"1\": 1}, \"95\": {\"95\": 32}, \"14\": {\"14\": 109, \"40\": 1, \"88\": 1, \"27\": 1}, \"17\": {\"17\": 20}, \"104\": {\"104\": 16}, \"72\": {\"72\": 30, \"12\": 1, \"74\": 1}, \"69\": {\"69\": 123, \"88\": 1, \"40\": 1, \"21\": 1, \"105\": 1, \"109\": 1}, \"63\": {\"63\": 16}, \"12\": {\"12\": 98, \"105\": 1, \"62\": 1}, \"25\": {\"25\": 16}, \"67\": {\"67\": 15, \"123\": 1}, \"50\": {\"50\": 16}, \"43\": {\"43\": 112, \"23\": 2, \"105\": 1, \"87\": 2, \"40\": 1, \"118\": 1, \"84\": 1}, \"96\": {\"96\": 19, \"117\": 1}, \"128\": {\"128\": 24}, \"77\": {\"77\": 12}, \"54\": {\"54\": 16}, \"118\": {\"118\": 103, \"57\": 1, \"40\": 1, \"15\": 1, \"1\": 1, \"106\": 1, \"69\": 1, \"9\": 1, \"127\": 1, \"62\": 1}, \"30\": {\"30\": 74, \"10\": 2}, \"51\": {\"51\": 15, \"25\": 1}, \"122\": {\"122\": 78, \"107\": 1, \"40\": 2, \"94\": 1, \"4\": 1, \"111\": 1}, \"46\": {\"46\": 19, \"124\": 1}, \"79\": {\"79\": 16}, \"103\": {\"103\": 16}, \"74\": {\"12\": 1, \"74\": 15}, \"90\": {\"90\": 146}, \"8\": {\"8\": 139, \"71\": 1, \"90\": 1, \"114\": 1}, \"94\": {\"94\": 84, \"4\": 1, \"106\": 1, \"111\": 1, \"27\": 1}, \"7\": {\"7\": 120, \"87\": 1, \"40\": 1}, \"61\": {\"61\": 16}, \"26\": {\"26\": 118, \"30\": 1, \"12\": 1}, \"127\": {\"127\": 107, \"70\": 1}, \"23\": {\"23\": 12, \"21\": 1, \"60\": 1, \"105\": 2}, \"1\": {\"1\": 104, \"87\": 1, \"40\": 1, \"39\": 1, \"127\": 1}, \"93\": {\"93\": 134}, \"106\": {\"106\": 107, \"71\": 1, \"18\": 1, \"24\": 1, \"40\": 1, \"57\": 1, \"70\": 1, \"69\": 1, \"78\": 1, \"12\": 1}, \"110\": {\"110\": 117, \"5\": 1}, \"76\": {\"76\": 16}, \"36\": {\"36\": 117, \"24\": 2, \"1\": 1}, \"21\": {\"21\": 34, \"84\": 1, \"3\": 1, \"62\": 1, \"78\": 3}, \"37\": {\"37\": 16}, \"11\": {\"11\": 119, \"110\": 1}, \"109\": {\"109\": 113, \"24\": 1, \"81\": 1, \"118\": 1}, \"62\": {\"21\": 1, \"62\": 54, \"111\": 1, \"106\": 1, \"40\": 1, \"69\": 1, \"105\": 1}, \"89\": {\"89\": 31, \"99\": 1}, \"126\": {\"126\": 116, \"40\": 2, \"105\": 2, \"39\": 2, \"27\": 1, \"117\": 1}, \"101\": {\"101\": 123, \"15\": 1, \"4\": 1, \"124\": 1, \"108\": 1, \"40\": 1}, \"65\": {\"65\": 12}, \"19\": {\"19\": 27, \"100\": 1}, \"27\": {\"27\": 98, \"0\": 1, \"24\": 1}, \"5\": {\"5\": 133, \"23\": 1, \"124\": 1, \"1\": 1}, \"73\": {\"73\": 23, \"108\": 1}, \"6\": {\"6\": 24}, \"29\": {\"29\": 32}, \"114\": {\"114\": 127, \"105\": 1}, \"49\": {\"49\": 30, \"70\": 1, \"5\": 1}, \"16\": {\"16\": 115, \"124\": 1, \"1\": 1, \"126\": 1}, \"68\": {\"68\": 16}, \"98\": {\"98\": 117, \"68\": 1, \"124\": 1, \"90\": 1}, \"64\": {\"64\": 16}, \"121\": {\"121\": 28, \"48\": 1, \"96\": 1, \"90\": 1, \"92\": 1}, \"124\": {\"124\": 114}, \"97\": {\"97\": 19, \"36\": 1}, \"40\": {\"40\": 136}, \"119\": {\"119\": 16}, \"100\": {\"100\": 19, \"91\": 1}, \"87\": {\"87\": 114, \"105\": 2}, \"88\": {\"88\": 118, \"108\": 4, \"26\": 1, \"105\": 1, \"70\": 2, \"21\": 1, \"113\": 1}, \"52\": {\"52\": 17, \"82\": 1, \"98\": 1, \"62\": 1}, \"80\": {\"80\": 15, \"6\": 1}, \"105\": {\"105\": 94, \"87\": 1, \"40\": 2, \"27\": 2, \"4\": 1}, \"32\": {\"14\": 2, \"32\": 23, \"118\": 2, \"72\": 1}, \"35\": {\"35\": 12}, \"99\": {\"99\": 40}, \"18\": {\"18\": 118, \"71\": 1, \"30\": 1}, \"24\": {\"24\": 111, \"10\": 1}, \"85\": {\"85\": 27, \"26\": 1}, \"39\": {\"39\": 96, \"106\": 1, \"81\": 1, \"40\": 1, \"26\": 1}, \"123\": {\"123\": 16}, \"91\": {\"91\": 23, \"85\": 1}, \"78\": {\"78\": 28, \"21\": 4, \"40\": 1, \"115\": 1, \"26\": 1, \"107\": 1}, \"38\": {\"38\": 16}, \"15\": {\"15\": 124, \"105\": 2, \"18\": 1, \"26\": 1}, \"48\": {\"48\": 16}, \"45\": {\"45\": 16}, \"120\": {\"120\": 20}, \"44\": {\"44\": 63, \"124\": 1}, \"86\": {\"86\": 26, \"73\": 1, \"21\": 1}, \"20\": {\"20\": 16}, \"33\": {\"33\": 147, \"90\": 1, \"88\": 1, \"10\": 1}, \"129\": {\"129\": 25, \"73\": 3}, \"34\": {\"34\": 22, \"45\": 1, \"14\": 2, \"94\": 1, \"91\": 1, \"41\": 1, \"120\": 1, \"25\": 2, \"23\": 1}, \"81\": {\"81\": 35, \"21\": 1}, \"57\": {\"57\": 12, \"21\": 1, \"100\": 2, \"22\": 1}, \"0\": {\"0\": 112, \"70\": 1, \"101\": 1, \"95\": 1, \"106\": 1}, \"2\": {\"2\": 28}, \"42\": {\"42\": 28}, \"84\": {\"84\": 127, \"1\": 1, \"30\": 1, \"40\": 2, \"26\": 1}, \"3\": {\"3\": 119, \"40\": 1, \"69\": 1, \"23\": 1, \"78\": 1, \"105\": 1, \"24\": 1, \"90\": 1}, \"41\": {\"41\": 15, \"28\": 1}, \"53\": {\"53\": 15, \"0\": 1}, \"66\": {\"66\": 16}, \"22\": {\"22\": 16}}, \"ORACLE.run150\": {\"7\": {\"3\": 15, \"11\": 10, \"2\": 9, \"0\": 16, \"7\": 19, \"6\": 22, \"1\": 14, \"14\": 15, \"9\": 9, \"12\": 10, \"5\": 27, \"15\": 12, \"13\": 20, \"10\": 17, \"4\": 16, \"8\": 9}, \"10\": {\"13\": 16, \"2\": 24, \"4\": 12, \"6\": 7, \"10\": 22, \"8\": 26, \"15\": 8, \"3\": 21, \"0\": 36, \"7\": 23, \"14\": 12, \"11\": 5, \"5\": 17, \"12\": 3, \"1\": 6, \"9\": 2}, \"0\": {\"4\": 12, \"13\": 16, \"15\": 10, \"8\": 27, \"2\": 33, \"10\": 23, \"7\": 12, \"1\": 9, \"0\": 16, \"6\": 12, \"3\": 26, \"14\": 18, \"11\": 8, \"9\": 9, \"12\": 5, \"5\": 4}, \"11\": {\"15\": 26, \"6\": 18, \"12\": 31, \"2\": 2, \"9\": 25, \"13\": 17, \"7\": 8, \"5\": 18, \"1\": 22, \"11\": 25, \"4\": 17, \"14\": 19, \"10\": 5, \"0\": 4, \"8\": 3}, \"2\": {\"15\": 4, \"13\": 15, \"2\": 41, \"4\": 5, \"7\": 20, \"5\": 11, \"0\": 21, \"9\": 8, \"12\": 18, \"3\": 17, \"6\": 13, \"1\": 8, \"8\": 18, \"10\": 22, \"14\": 15, \"11\": 4}, \"14\": {\"6\": 23, \"9\": 21, \"11\": 18, \"14\": 24, \"13\": 9, \"1\": 19, \"2\": 14, \"10\": 15, \"15\": 17, \"0\": 14, \"4\": 16, \"7\": 7, \"12\": 23, \"5\": 11, \"8\": 7, \"3\": 2}, \"9\": {\"14\": 14, \"9\": 19, \"4\": 16, \"11\": 30, \"13\": 20, \"15\": 22, \"6\": 22, \"1\": 25, \"5\": 14, \"2\": 11, \"0\": 5, \"7\": 14, \"8\": 2, \"12\": 20, \"10\": 6}, \"13\": {\"10\": 19, \"13\": 19, \"4\": 16, \"5\": 19, \"15\": 17, \"7\": 19, \"0\": 15, \"2\": 11, \"14\": 12, \"9\": 15, \"6\": 18, \"12\": 8, \"1\": 17, \"11\": 11, \"3\": 10, \"8\": 14}, \"8\": {\"15\": 5, \"10\": 29, \"8\": 42, \"7\": 12, \"5\": 12, \"13\": 11, \"3\": 58, \"0\": 21, \"2\": 27, \"14\": 7, \"6\": 6, \"1\": 6, \"12\": 2, \"4\": 2}, \"15\": {\"11\": 23, \"15\": 29, \"4\": 27, \"10\": 11, \"13\": 21, \"5\": 21, \"2\": 4, \"9\": 15, \"1\": 26, \"14\": 15, \"6\": 15, \"7\": 10, \"0\": 7, \"12\": 11, \"3\": 3, \"8\": 2}, \"4\": {\"13\": 20, \"11\": 16, \"7\": 21, \"15\": 24, \"1\": 19, \"3\": 8, \"6\": 21, \"4\": 21, \"9\": 15, \"14\": 15, \"2\": 6, \"5\": 19, \"10\": 10, \"12\": 10, \"8\": 8, \"0\": 7}, \"5\": {\"9\": 12, \"10\": 18, \"0\": 13, \"11\": 18, \"12\": 11, \"13\": 19, \"5\": 23, \"6\": 17, \"1\": 12, \"7\": 14, \"3\": 13, \"4\": 30, \"14\": 11, \"2\": 4, \"15\": 13, \"8\": 12}, \"3\": {\"3\": 57, \"2\": 19, \"10\": 24, \"8\": 55, \"5\": 11, \"0\": 26, \"6\": 11, \"7\": 10, \"11\": 7, \"1\": 5, \"13\": 8, \"14\": 1, \"4\": 5, \"12\": 1}, \"1\": {\"6\": 16, \"4\": 20, \"15\": 26, \"13\": 21, \"1\": 24, \"12\": 15, \"5\": 13, \"7\": 13, \"3\": 6, \"9\": 14, \"2\": 11, \"11\": 20, \"10\": 13, \"0\": 11, \"8\": 9, \"14\": 8}, \"6\": {\"12\": 22, \"15\": 23, \"1\": 14, \"3\": 8, \"6\": 21, \"9\": 22, \"7\": 15, \"10\": 9, \"5\": 24, \"11\": 12, \"13\": 18, \"14\": 14, \"2\": 10, \"0\": 8, \"4\": 16, \"8\": 4}, \"12\": {\"15\": 10, \"10\": 11, \"12\": 29, \"14\": 26, \"0\": 10, \"2\": 10, \"9\": 22, \"1\": 21, \"6\": 14, \"7\": 11, \"11\": 31, \"8\": 4, \"5\": 12, \"4\": 15, \"13\": 13, \"3\": 1}}, \"ORACLE.run114\": {\"14\": {\"13\": 19, \"4\": 18, \"12\": 7, \"15\": 18, \"3\": 13, \"0\": 18, \"11\": 20, \"7\": 18, \"10\": 11, \"6\": 24, \"5\": 12, \"1\": 13, \"2\": 18, \"14\": 18, \"8\": 7, \"9\": 6}, \"6\": {\"6\": 27, \"5\": 21, \"7\": 19, \"14\": 21, \"13\": 21, \"15\": 26, \"3\": 22, \"11\": 6, \"2\": 19, \"0\": 11, \"9\": 6, \"1\": 14, \"4\": 13, \"10\": 12, \"8\": 1, \"12\": 1}, \"5\": {\"9\": 9, \"15\": 15, \"13\": 15, \"0\": 12, \"2\": 16, \"7\": 18, \"10\": 19, \"4\": 27, \"3\": 18, \"5\": 12, \"11\": 23, \"8\": 9, \"14\": 14, \"12\": 4, \"1\": 14, \"6\": 15}, \"15\": {\"4\": 16, \"14\": 16, \"15\": 30, \"1\": 11, \"2\": 19, \"3\": 17, \"9\": 5, \"13\": 19, \"10\": 16, \"6\": 20, \"11\": 5, \"7\": 22, \"5\": 20, \"0\": 10, \"12\": 2, \"8\": 12}, \"11\": {\"5\": 9, \"11\": 22, \"15\": 15, \"3\": 12, \"0\": 20, \"13\": 15, \"7\": 9, \"9\": 21, \"2\": 16, \"8\": 14, \"6\": 14, \"10\": 13, \"1\": 17, \"4\": 12, \"12\": 16, \"14\": 15}, \"8\": {\"1\": 9, \"0\": 17, \"9\": 28, \"10\": 9, \"4\": 16, \"8\": 39, \"5\": 12, \"15\": 7, \"13\": 7, \"2\": 9, \"12\": 27, \"7\": 13, \"11\": 17, \"14\": 9, \"6\": 3, \"3\": 18}, \"12\": {\"12\": 69, \"5\": 8, \"8\": 30, \"11\": 18, \"1\": 11, \"9\": 48, \"4\": 4, \"14\": 5, \"0\": 16, \"13\": 4, \"7\": 3, \"10\": 13, \"6\": 1, \"2\": 2, \"3\": 6, \"15\": 2}, \"1\": {\"15\": 18, \"1\": 21, \"4\": 21, \"8\": 12, \"14\": 15, \"10\": 17, \"7\": 18, \"12\": 8, \"6\": 18, \"11\": 17, \"3\": 20, \"0\": 7, \"2\": 12, \"9\": 16, \"5\": 11, \"13\": 9}, \"2\": {\"0\": 12, \"2\": 23, \"6\": 28, \"1\": 10, \"13\": 35, \"7\": 15, \"3\": 17, \"14\": 17, \"4\": 11, \"15\": 17, \"8\": 6, \"5\": 16, \"9\": 5, \"11\": 8, \"10\": 15, \"12\": 5}, \"13\": {\"5\": 16, \"14\": 22, \"2\": 18, \"10\": 11, \"12\": 3, \"8\": 4, \"1\": 14, \"0\": 13, \"3\": 18, \"11\": 11, \"15\": 19, \"4\": 13, \"7\": 17, \"6\": 33, \"13\": 27, \"9\": 1}, \"3\": {\"6\": 11, \"1\": 15, \"9\": 15, \"8\": 17, \"7\": 18, \"3\": 13, \"4\": 19, \"14\": 15, \"13\": 14, \"0\": 21, \"5\": 16, \"15\": 9, \"12\": 11, \"11\": 17, \"10\": 15, \"2\": 14}, \"0\": {\"1\": 17, \"15\": 13, \"8\": 13, \"5\": 17, \"12\": 10, \"11\": 21, \"13\": 17, \"7\": 14, \"4\": 18, \"14\": 17, \"3\": 15, \"0\": 17, \"9\": 16, \"2\": 9, \"10\": 20, \"6\": 6}, \"9\": {\"5\": 11, \"8\": 31, \"7\": 10, \"1\": 12, \"0\": 16, \"11\": 21, \"10\": 22, \"3\": 11, \"4\": 18, \"14\": 10, \"12\": 30, \"9\": 34, \"13\": 3, \"6\": 2, \"2\": 7, \"15\": 2}, \"4\": {\"11\": 17, \"5\": 17, \"13\": 20, \"4\": 21, \"7\": 15, \"6\": 12, \"15\": 16, \"12\": 10, \"8\": 13, \"1\": 14, \"2\": 24, \"9\": 6, \"14\": 20, \"3\": 11, \"0\": 7, \"10\": 17}, \"7\": {\"5\": 21, \"14\": 19, \"4\": 17, \"1\": 17, \"15\": 16, \"2\": 14, \"10\": 16, \"13\": 21, \"6\": 18, \"11\": 10, \"3\": 16, \"8\": 9, \"7\": 27, \"0\": 13, \"12\": 3, \"9\": 3}, \"10\": {\"12\": 10, \"3\": 13, \"0\": 16, \"5\": 22, \"8\": 5, \"14\": 18, \"15\": 14, \"10\": 18, \"11\": 26, \"7\": 11, \"4\": 21, \"13\": 12, \"9\": 10, \"1\": 10, \"6\": 15, \"2\": 19}}, \"ORACLE.run132\": {\"4\": {\"3\": 14, \"13\": 19, \"5\": 23, \"9\": 16, \"14\": 19, \"4\": 24, \"7\": 25, \"15\": 9, \"11\": 14, \"12\": 8, \"2\": 25, \"8\": 18, \"0\": 23, \"10\": 2, \"6\": 1}, \"14\": {\"0\": 13, \"14\": 18, \"11\": 17, \"5\": 17, \"7\": 36, \"3\": 13, \"4\": 24, \"8\": 19, \"9\": 14, \"15\": 13, \"13\": 16, \"12\": 11, \"2\": 24, \"10\": 2, \"6\": 2, \"1\": 1}, \"5\": {\"14\": 25, \"4\": 20, \"7\": 27, \"2\": 21, \"13\": 16, \"3\": 20, \"8\": 27, \"0\": 18, \"11\": 19, \"15\": 16, \"9\": 8, \"5\": 20, \"12\": 3}, \"10\": {\"6\": 37, \"12\": 38, \"1\": 56, \"4\": 4, \"10\": 83, \"9\": 9, \"5\": 2, \"0\": 1, \"2\": 3, \"14\": 1, \"13\": 2, \"7\": 2, \"3\": 1, \"8\": 1}, \"13\": {\"4\": 21, \"7\": 19, \"15\": 22, \"13\": 19, \"2\": 14, \"5\": 24, \"3\": 21, \"11\": 21, \"14\": 24, \"0\": 18, \"8\": 22, \"9\": 8, \"10\": 2, \"12\": 4, \"1\": 1}, \"9\": {\"4\": 22, \"12\": 31, \"11\": 14, \"7\": 20, \"6\": 9, \"10\": 20, \"0\": 13, \"2\": 28, \"1\": 3, \"13\": 10, \"9\": 38, \"3\": 8, \"8\": 6, \"14\": 9, \"5\": 9}, \"6\": {\"6\": 88, \"1\": 55, \"10\": 54, \"9\": 13, \"12\": 22, \"14\": 2, \"4\": 2, \"2\": 3, \"0\": 1}, \"3\": {\"8\": 35, \"5\": 26, \"4\": 15, \"13\": 18, \"7\": 12, \"3\": 32, \"2\": 8, \"11\": 17, \"15\": 34, \"0\": 20, \"14\": 16, \"9\": 5, \"12\": 1, \"1\": 1}, \"15\": {\"13\": 20, \"3\": 37, \"8\": 34, \"2\": 2, \"5\": 14, \"0\": 10, \"15\": 85, \"14\": 6, \"4\": 5, \"7\": 5, \"11\": 19, \"12\": 2, \"9\": 1}, \"7\": {\"13\": 15, \"8\": 20, \"10\": 4, \"9\": 9, \"4\": 28, \"15\": 8, \"14\": 20, \"0\": 26, \"7\": 27, \"2\": 21, \"5\": 19, \"11\": 21, \"3\": 15, \"12\": 6, \"6\": 1}, \"12\": {\"14\": 4, \"9\": 36, \"0\": 7, \"10\": 34, \"11\": 8, \"6\": 30, \"8\": 5, \"2\": 15, \"12\": 60, \"4\": 11, \"3\": 2, \"7\": 8, \"1\": 10, \"15\": 2, \"13\": 3, \"5\": 5}, \"8\": {\"13\": 18, \"8\": 26, \"2\": 11, \"14\": 18, \"0\": 25, \"4\": 21, \"7\": 17, \"11\": 17, \"15\": 33, \"3\": 23, \"5\": 26, \"9\": 2, \"12\": 2, \"10\": 1}, \"11\": {\"15\": 15, \"14\": 27, \"2\": 19, \"5\": 17, \"0\": 20, \"13\": 24, \"7\": 15, \"11\": 21, \"12\": 6, \"4\": 28, \"3\": 23, \"8\": 14, \"9\": 11}, \"2\": {\"0\": 17, \"8\": 18, \"7\": 16, \"2\": 31, \"4\": 22, \"5\": 20, \"14\": 25, \"9\": 14, \"6\": 4, \"3\": 9, \"11\": 18, \"15\": 5, \"12\": 16, \"13\": 22, \"10\": 3}, \"1\": {\"10\": 64, \"1\": 109, \"6\": 49, \"11\": 1, \"12\": 12, \"9\": 3, \"4\": 1, \"14\": 1}, \"0\": {\"11\": 22, \"15\": 10, \"4\": 20, \"0\": 21, \"5\": 28, \"8\": 20, \"2\": 26, \"13\": 18, \"3\": 16, \"14\": 19, \"7\": 14, \"12\": 10, \"9\": 12, \"10\": 4}}, \"ORACLE.run144\": {\"8\": {\"0\": 48, \"15\": 42, \"14\": 17, \"8\": 75, \"5\": 35, \"4\": 12, \"1\": 3, \"12\": 3, \"10\": 1, \"7\": 1, \"3\": 2, \"9\": 1}, \"11\": {\"9\": 24, \"2\": 23, \"11\": 53, \"7\": 16, \"10\": 13, \"6\": 30, \"13\": 27, \"12\": 16, \"3\": 6, \"1\": 10, \"4\": 6, \"15\": 2, \"14\": 10, \"0\": 2, \"5\": 2}, \"14\": {\"12\": 12, \"11\": 8, \"0\": 19, \"9\": 14, \"4\": 39, \"7\": 12, \"3\": 13, \"15\": 21, \"8\": 10, \"14\": 37, \"5\": 16, \"2\": 16, \"1\": 8, \"6\": 4, \"10\": 2, \"13\": 9}, \"10\": {\"12\": 24, \"10\": 23, \"7\": 22, \"3\": 21, \"6\": 26, \"1\": 20, \"9\": 15, \"2\": 25, \"11\": 24, \"13\": 19, \"0\": 2, \"14\": 8, \"4\": 10, \"5\": 1}, \"3\": {\"8\": 4, \"1\": 27, \"4\": 26, \"15\": 8, \"7\": 14, \"9\": 22, \"10\": 19, \"6\": 21, \"12\": 17, \"3\": 30, \"14\": 15, \"11\": 6, \"2\": 12, \"0\": 2, \"5\": 6, \"13\": 11}, \"15\": {\"9\": 6, \"1\": 9, \"14\": 30, \"5\": 29, \"0\": 37, \"8\": 40, \"12\": 9, \"13\": 5, \"4\": 21, \"15\": 32, \"7\": 4, \"10\": 2, \"3\": 11, \"11\": 2, \"2\": 2, \"6\": 1}, \"2\": {\"10\": 28, \"12\": 22, \"4\": 9, \"9\": 14, \"6\": 24, \"11\": 22, \"2\": 22, \"7\": 32, \"3\": 16, \"1\": 20, \"13\": 19, \"14\": 7, \"5\": 3, \"0\": 1, \"15\": 1}, \"12\": {\"1\": 19, \"6\": 16, \"12\": 34, \"3\": 26, \"9\": 13, \"2\": 24, \"10\": 28, \"11\": 14, \"14\": 12, \"7\": 25, \"8\": 1, \"4\": 6, \"13\": 19, \"0\": 2, \"5\": 1}, \"4\": {\"14\": 35, \"9\": 14, \"6\": 7, \"13\": 8, \"4\": 29, \"5\": 24, \"12\": 6, \"1\": 19, \"2\": 10, \"11\": 14, \"3\": 22, \"8\": 10, \"15\": 14, \"0\": 12, \"7\": 10, \"10\": 6}, \"1\": {\"10\": 26, \"12\": 32, \"1\": 24, \"2\": 16, \"3\": 28, \"7\": 18, \"9\": 21, \"14\": 12, \"6\": 16, \"4\": 11, \"15\": 4, \"13\": 15, \"11\": 13, \"5\": 1, \"0\": 1, \"8\": 2}, \"0\": {\"2\": 1, \"0\": 44, \"8\": 46, \"3\": 6, \"5\": 35, \"4\": 22, \"11\": 6, \"14\": 23, \"15\": 40, \"1\": 5, \"7\": 3, \"9\": 2, \"10\": 3, \"13\": 3, \"12\": 1}, \"9\": {\"3\": 19, \"1\": 9, \"9\": 27, \"12\": 23, \"4\": 10, \"6\": 29, \"2\": 18, \"0\": 2, \"7\": 27, \"13\": 17, \"11\": 21, \"5\": 2, \"14\": 11, \"10\": 20, \"8\": 2, \"15\": 3}, \"5\": {\"4\": 29, \"5\": 45, \"8\": 26, \"14\": 33, \"15\": 36, \"0\": 26, \"11\": 9, \"3\": 6, \"7\": 5, \"2\": 4, \"13\": 4, \"9\": 6, \"1\": 3, \"10\": 4, \"12\": 3, \"6\": 1}, \"6\": {\"11\": 32, \"2\": 31, \"13\": 30, \"1\": 22, \"4\": 7, \"12\": 17, \"3\": 14, \"6\": 33, \"14\": 4, \"7\": 12, \"10\": 17, \"9\": 19, \"5\": 1, \"0\": 1}, \"7\": {\"11\": 21, \"10\": 20, \"7\": 18, \"4\": 5, \"6\": 23, \"12\": 17, \"2\": 22, \"1\": 22, \"9\": 28, \"13\": 25, \"5\": 3, \"3\": 24, \"14\": 10, \"15\": 2}, \"13\": {\"11\": 33, \"6\": 22, \"14\": 6, \"7\": 23, \"4\": 10, \"9\": 26, \"1\": 17, \"12\": 21, \"13\": 19, \"10\": 18, \"2\": 18, \"3\": 16, \"0\": 3, \"5\": 3, \"8\": 2, \"15\": 3}}, \"ORACLE.run18\": {\"13\": {\"12\": 8, \"5\": 22, \"9\": 14, \"8\": 11, \"7\": 16, \"4\": 19, \"11\": 22, \"3\": 17, \"0\": 22, \"1\": 9, \"2\": 11, \"6\": 12, \"14\": 18, \"13\": 20, \"15\": 6, \"10\": 13}, \"3\": {\"2\": 22, \"7\": 18, \"15\": 26, \"0\": 17, \"8\": 20, \"3\": 22, \"12\": 27, \"6\": 15, \"1\": 11, \"4\": 15, \"14\": 14, \"11\": 12, \"13\": 9, \"5\": 5, \"10\": 6, \"9\": 1}, \"15\": {\"3\": 26, \"14\": 12, \"8\": 23, \"11\": 11, \"0\": 9, \"6\": 16, \"7\": 17, \"2\": 20, \"13\": 13, \"10\": 12, \"4\": 10, \"1\": 13, \"12\": 27, \"15\": 24, \"5\": 5, \"9\": 2}, \"4\": {\"0\": 14, \"3\": 10, \"4\": 22, \"15\": 14, \"6\": 20, \"5\": 17, \"2\": 15, \"8\": 18, \"7\": 17, \"11\": 13, \"13\": 17, \"1\": 16, \"10\": 19, \"14\": 11, \"9\": 11, \"12\": 6}, \"7\": {\"7\": 21, \"2\": 8, \"12\": 10, \"4\": 19, \"15\": 22, \"13\": 19, \"11\": 12, \"0\": 15, \"8\": 15, \"14\": 15, \"3\": 14, \"6\": 13, \"5\": 21, \"1\": 19, \"10\": 7, \"9\": 10}, \"2\": {\"2\": 24, \"15\": 26, \"7\": 18, \"6\": 17, \"11\": 8, \"10\": 15, \"4\": 17, \"12\": 19, \"5\": 12, \"3\": 20, \"13\": 11, \"14\": 18, \"0\": 16, \"1\": 7, \"8\": 12}, \"1\": {\"1\": 24, \"5\": 22, \"10\": 14, \"4\": 20, \"8\": 12, \"9\": 5, \"2\": 15, \"12\": 12, \"7\": 16, \"6\": 20, \"14\": 8, \"3\": 16, \"11\": 14, \"15\": 15, \"13\": 18, \"0\": 9}, \"0\": {\"0\": 19, \"5\": 14, \"10\": 22, \"9\": 14, \"7\": 21, \"1\": 20, \"6\": 14, \"12\": 12, \"11\": 16, \"14\": 14, \"2\": 15, \"4\": 21, \"13\": 15, \"15\": 9, \"3\": 8, \"8\": 6}, \"12\": {\"6\": 13, \"13\": 14, \"7\": 12, \"12\": 30, \"0\": 9, \"10\": 8, \"3\": 30, \"5\": 8, \"15\": 32, \"2\": 25, \"1\": 17, \"8\": 16, \"4\": 10, \"14\": 6, \"11\": 9, \"9\": 1}, \"6\": {\"10\": 18, \"8\": 10, \"2\": 25, \"6\": 21, \"9\": 4, \"7\": 21, \"4\": 17, \"14\": 17, \"3\": 16, \"13\": 18, \"1\": 11, \"12\": 13, \"15\": 11, \"11\": 9, \"5\": 15, \"0\": 14}, \"11\": {\"2\": 12, \"10\": 22, \"4\": 13, \"9\": 8, \"3\": 17, \"1\": 22, \"13\": 14, \"14\": 12, \"0\": 14, \"7\": 14, \"15\": 23, \"8\": 12, \"5\": 11, \"6\": 15, \"11\": 21, \"12\": 10}, \"9\": {\"5\": 24, \"9\": 110, \"0\": 20, \"4\": 8, \"7\": 5, \"6\": 9, \"13\": 18, \"14\": 15, \"1\": 12, \"10\": 10, \"2\": 1, \"3\": 2, \"11\": 4, \"15\": 1, \"8\": 1}, \"5\": {\"8\": 17, \"3\": 9, \"12\": 7, \"11\": 15, \"7\": 23, \"2\": 10, \"13\": 29, \"1\": 15, \"4\": 11, \"15\": 8, \"9\": 19, \"14\": 15, \"6\": 15, \"10\": 14, \"5\": 19, \"0\": 14}, \"10\": {\"11\": 23, \"5\": 16, \"3\": 14, \"10\": 24, \"7\": 18, \"13\": 20, \"2\": 11, \"4\": 15, \"0\": 13, \"14\": 16, \"1\": 16, \"6\": 16, \"9\": 12, \"15\": 13, \"12\": 6, \"8\": 7}, \"14\": {\"12\": 9, \"3\": 14, \"5\": 23, \"2\": 11, \"1\": 16, \"14\": 19, \"6\": 19, \"9\": 6, \"13\": 16, \"7\": 21, \"11\": 11, \"0\": 17, \"10\": 17, \"4\": 19, \"8\": 13, \"15\": 9}, \"8\": {\"9\": 1, \"15\": 28, \"7\": 11, \"0\": 9, \"1\": 19, \"2\": 16, \"3\": 24, \"8\": 17, \"4\": 12, \"10\": 16, \"13\": 13, \"5\": 13, \"12\": 22, \"6\": 14, \"11\": 14, \"14\": 11}}, \"ORACLE.run120\": {\"6\": {\"8\": 20, \"11\": 14, \"5\": 9, \"10\": 18, \"12\": 14, \"9\": 9, \"1\": 15, \"6\": 18, \"14\": 22, \"4\": 20, \"7\": 19, \"2\": 13, \"3\": 16, \"15\": 9, \"0\": 11, \"13\": 13}, \"11\": {\"10\": 12, \"9\": 18, \"12\": 17, \"7\": 18, \"2\": 23, \"13\": 20, \"3\": 12, \"1\": 12, \"11\": 17, \"8\": 6, \"0\": 21, \"5\": 15, \"6\": 12, \"15\": 15, \"4\": 11, \"14\": 11}, \"5\": {\"9\": 19, \"10\": 13, \"1\": 25, \"2\": 10, \"7\": 13, \"5\": 20, \"13\": 18, \"11\": 14, \"3\": 11, \"15\": 21, \"6\": 12, \"0\": 18, \"4\": 14, \"8\": 12, \"12\": 16, \"14\": 4}, \"14\": {\"10\": 27, \"6\": 32, \"8\": 15, \"14\": 30, \"13\": 7, \"11\": 3, \"2\": 19, \"0\": 12, \"4\": 23, \"7\": 15, \"5\": 10, \"15\": 6, \"3\": 15, \"1\": 10, \"9\": 8, \"12\": 8}, \"2\": {\"14\": 10, \"9\": 16, \"15\": 18, \"13\": 17, \"12\": 14, \"0\": 18, \"11\": 13, \"5\": 8, \"8\": 14, \"2\": 20, \"7\": 12, \"6\": 11, \"3\": 21, \"1\": 18, \"10\": 10, \"4\": 20}, \"7\": {\"14\": 10, \"3\": 23, \"5\": 18, \"0\": 15, \"4\": 20, \"2\": 17, \"8\": 19, \"1\": 21, \"12\": 16, \"7\": 11, \"10\": 19, \"6\": 9, \"11\": 11, \"15\": 14, \"9\": 10, \"13\": 7}, \"3\": {\"7\": 14, \"12\": 15, \"1\": 19, \"2\": 21, \"9\": 15, \"10\": 14, \"15\": 15, \"4\": 17, \"8\": 14, \"5\": 18, \"13\": 11, \"3\": 22, \"0\": 14, \"11\": 7, \"6\": 12, \"14\": 12}, \"4\": {\"11\": 11, \"8\": 22, \"10\": 26, \"6\": 17, \"4\": 20, \"7\": 15, \"1\": 17, \"5\": 15, \"12\": 9, \"9\": 14, \"15\": 17, \"13\": 7, \"2\": 19, \"3\": 11, \"14\": 8, \"0\": 12}, \"9\": {\"9\": 23, \"15\": 16, \"14\": 14, \"3\": 21, \"2\": 17, \"11\": 12, \"7\": 9, \"1\": 16, \"0\": 26, \"5\": 14, \"8\": 11, \"4\": 10, \"13\": 14, \"12\": 11, \"10\": 13, \"6\": 13}, \"12\": {\"15\": 17, \"10\": 15, \"4\": 18, \"8\": 10, \"1\": 23, \"9\": 16, \"2\": 14, \"0\": 18, \"6\": 8, \"3\": 14, \"14\": 15, \"5\": 16, \"13\": 19, \"12\": 17, \"7\": 10, \"11\": 10}, \"0\": {\"14\": 10, \"15\": 11, \"4\": 11, \"11\": 17, \"2\": 14, \"7\": 15, \"0\": 24, \"12\": 19, \"3\": 16, \"1\": 18, \"6\": 19, \"13\": 12, \"5\": 14, \"10\": 9, \"8\": 18, \"9\": 13}, \"10\": {\"12\": 17, \"10\": 23, \"1\": 11, \"13\": 11, \"6\": 22, \"4\": 22, \"7\": 16, \"11\": 12, \"14\": 15, \"15\": 8, \"0\": 16, \"5\": 11, \"8\": 17, \"3\": 16, \"2\": 13, \"9\": 10}, \"8\": {\"10\": 22, \"9\": 9, \"12\": 15, \"6\": 19, \"0\": 13, \"13\": 10, \"1\": 19, \"7\": 12, \"5\": 21, \"8\": 16, \"15\": 9, \"2\": 12, \"14\": 20, \"4\": 23, \"3\": 9, \"11\": 11}, \"13\": {\"4\": 21, \"6\": 10, \"8\": 12, \"5\": 16, \"7\": 12, \"2\": 19, \"12\": 20, \"10\": 13, \"14\": 15, \"9\": 11, \"0\": 22, \"3\": 11, \"13\": 13, \"15\": 19, \"1\": 17, \"11\": 9}, \"1\": {\"15\": 18, \"7\": 12, \"2\": 14, \"14\": 6, \"12\": 12, \"10\": 14, \"11\": 14, \"13\": 19, \"1\": 11, \"4\": 18, \"3\": 25, \"5\": 19, \"0\": 16, \"8\": 15, \"6\": 18, \"9\": 9}, \"15\": {\"9\": 14, \"14\": 10, \"3\": 20, \"4\": 13, \"8\": 10, \"13\": 21, \"0\": 16, \"7\": 16, \"11\": 15, \"10\": 7, \"6\": 7, \"1\": 25, \"2\": 11, \"5\": 19, \"12\": 20, \"15\": 16}}, \"ORACLE.run138\": {\"3\": {\"0\": 22, \"5\": 28, \"7\": 24, \"2\": 5, \"15\": 9, \"8\": 32, \"4\": 15, \"13\": 4, \"9\": 17, \"1\": 9, \"10\": 8, \"6\": 11, \"12\": 12, \"3\": 42, \"14\": 1, \"11\": 1}, \"8\": {\"11\": 15, \"0\": 22, \"9\": 18, \"14\": 18, \"5\": 15, \"8\": 18, \"7\": 17, \"10\": 24, \"4\": 12, \"13\": 10, \"12\": 17, \"15\": 7, \"3\": 15, \"6\": 14, \"1\": 11, \"2\": 7}, \"0\": {\"1\": 7, \"10\": 10, \"8\": 21, \"7\": 28, \"15\": 15, \"3\": 25, \"9\": 15, \"5\": 21, \"11\": 5, \"12\": 19, \"14\": 11, \"2\": 8, \"0\": 19, \"6\": 22, \"13\": 4, \"4\": 10}, \"2\": {\"2\": 38, \"5\": 10, \"1\": 27, \"10\": 22, \"0\": 8, \"15\": 22, \"8\": 14, \"7\": 3, \"14\": 20, \"11\": 26, \"13\": 21, \"9\": 8, \"12\": 6, \"6\": 7, \"3\": 7, \"4\": 1}, \"4\": {\"12\": 51, \"4\": 86, \"0\": 12, \"7\": 25, \"3\": 6, \"11\": 13, \"14\": 7, \"8\": 16, \"5\": 1, \"10\": 14, \"9\": 4, \"1\": 2, \"13\": 2, \"15\": 1}, \"7\": {\"3\": 17, \"6\": 9, \"1\": 5, \"15\": 13, \"8\": 22, \"13\": 5, \"0\": 27, \"2\": 4, \"5\": 18, \"9\": 11, \"14\": 8, \"11\": 17, \"7\": 33, \"4\": 16, \"10\": 16, \"12\": 19}, \"12\": {\"5\": 16, \"10\": 18, \"14\": 18, \"0\": 17, \"4\": 41, \"12\": 32, \"8\": 21, \"1\": 6, \"15\": 4, \"7\": 33, \"13\": 3, \"6\": 9, \"11\": 8, \"9\": 5, \"3\": 8, \"2\": 1}, \"6\": {\"1\": 16, \"8\": 11, \"15\": 21, \"0\": 20, \"13\": 18, \"6\": 20, \"10\": 9, \"7\": 14, \"9\": 30, \"3\": 15, \"5\": 22, \"14\": 17, \"11\": 6, \"2\": 13, \"4\": 2, \"12\": 6}, \"15\": {\"0\": 15, \"15\": 16, \"7\": 14, \"1\": 19, \"9\": 20, \"12\": 11, \"6\": 17, \"2\": 17, \"5\": 19, \"14\": 22, \"13\": 20, \"10\": 14, \"11\": 11, \"3\": 10, \"4\": 4, \"8\": 11}, \"11\": {\"4\": 15, \"15\": 15, \"2\": 19, \"0\": 9, \"14\": 31, \"7\": 16, \"8\": 14, \"1\": 10, \"12\": 11, \"11\": 32, \"13\": 20, \"10\": 28, \"9\": 8, \"6\": 3, \"5\": 7, \"3\": 2}, \"9\": {\"5\": 22, \"6\": 21, \"8\": 12, \"15\": 16, \"0\": 18, \"13\": 22, \"7\": 23, \"9\": 28, \"14\": 8, \"3\": 25, \"10\": 14, \"12\": 5, \"11\": 9, \"1\": 11, \"2\": 4, \"4\": 2}, \"14\": {\"11\": 29, \"14\": 29, \"15\": 22, \"2\": 29, \"13\": 22, \"7\": 8, \"10\": 33, \"8\": 10, \"12\": 9, \"5\": 10, \"9\": 9, \"6\": 8, \"4\": 10, \"1\": 6, \"3\": 3, \"0\": 3}, \"10\": {\"5\": 13, \"15\": 21, \"10\": 26, \"7\": 23, \"13\": 16, \"14\": 20, \"6\": 12, \"11\": 19, \"0\": 16, \"3\": 10, \"8\": 21, \"9\": 9, \"4\": 8, \"2\": 8, \"12\": 13, \"1\": 5}, \"5\": {\"9\": 16, \"6\": 9, \"0\": 22, \"8\": 19, \"11\": 12, \"7\": 21, \"14\": 18, \"5\": 17, \"10\": 18, \"15\": 15, \"13\": 14, \"1\": 15, \"2\": 7, \"4\": 10, \"3\": 17, \"12\": 10}, \"1\": {\"2\": 20, \"5\": 11, \"9\": 17, \"1\": 34, \"13\": 29, \"15\": 21, \"6\": 23, \"10\": 20, \"12\": 4, \"8\": 17, \"0\": 7, \"11\": 7, \"14\": 11, \"4\": 3, \"3\": 7, \"7\": 9}, \"13\": {\"2\": 29, \"10\": 14, \"9\": 15, \"3\": 9, \"1\": 19, \"12\": 7, \"15\": 23, \"11\": 15, \"6\": 20, \"0\": 11, \"7\": 11, \"13\": 22, \"8\": 22, \"5\": 8, \"14\": 14, \"4\": 1}}, \"ORACLE.run126\": {\"5\": {\"5\": 23, \"1\": 6, \"8\": 18, \"0\": 12, \"7\": 17, \"3\": 16, \"11\": 21, \"2\": 20, \"14\": 6, \"12\": 20, \"10\": 13, \"15\": 10, \"6\": 19, \"9\": 16, \"4\": 9, \"13\": 14}, \"8\": {\"3\": 14, \"0\": 15, \"6\": 18, \"1\": 19, \"4\": 17, \"5\": 10, \"13\": 19, \"7\": 13, \"14\": 19, \"15\": 20, \"2\": 9, \"9\": 11, \"10\": 16, \"11\": 6, \"8\": 16, \"12\": 18}, \"4\": {\"5\": 13, \"9\": 19, \"2\": 12, \"13\": 8, \"0\": 19, \"3\": 19, \"8\": 12, \"1\": 22, \"14\": 13, \"7\": 23, \"10\": 15, \"12\": 10, \"15\": 22, \"6\": 12, \"4\": 17, \"11\": 4}, \"12\": {\"7\": 10, \"4\": 9, \"11\": 38, \"8\": 10, \"9\": 14, \"13\": 17, \"1\": 7, \"2\": 11, \"15\": 11, \"12\": 26, \"10\": 14, \"5\": 22, \"6\": 19, \"3\": 9, \"14\": 12, \"0\": 11}, \"6\": {\"1\": 13, \"13\": 24, \"12\": 28, \"9\": 8, \"6\": 7, \"2\": 18, \"4\": 12, \"0\": 10, \"7\": 15, \"10\": 17, \"15\": 19, \"14\": 14, \"8\": 16, \"5\": 17, \"11\": 12, \"3\": 10}, \"7\": {\"5\": 17, \"0\": 30, \"2\": 12, \"3\": 16, \"14\": 21, \"1\": 10, \"4\": 21, \"15\": 16, \"8\": 14, \"7\": 17, \"12\": 11, \"6\": 12, \"10\": 16, \"11\": 5, \"13\": 9, \"9\": 13}, \"10\": {\"4\": 17, \"14\": 14, \"9\": 10, \"0\": 26, \"10\": 20, \"12\": 17, \"2\": 22, \"1\": 14, \"13\": 12, \"3\": 10, \"5\": 14, \"7\": 11, \"6\": 18, \"15\": 8, \"11\": 6, \"8\": 21}, \"0\": {\"2\": 21, \"4\": 29, \"14\": 11, \"10\": 22, \"15\": 16, \"1\": 16, \"6\": 16, \"7\": 18, \"0\": 15, \"5\": 11, \"3\": 20, \"8\": 13, \"9\": 14, \"13\": 6, \"12\": 9, \"11\": 3}, \"15\": {\"14\": 15, \"3\": 7, \"8\": 12, \"1\": 19, \"7\": 16, \"12\": 17, \"13\": 21, \"5\": 13, \"15\": 18, \"2\": 16, \"6\": 14, \"4\": 18, \"9\": 14, \"11\": 14, \"0\": 16, \"10\": 10}, \"9\": {\"2\": 19, \"6\": 9, \"9\": 13, \"8\": 17, \"0\": 11, \"3\": 18, \"12\": 11, \"5\": 19, \"15\": 25, \"14\": 20, \"7\": 10, \"1\": 11, \"11\": 10, \"13\": 17, \"10\": 19, \"4\": 11}, \"11\": {\"13\": 23, \"4\": 6, \"11\": 68, \"2\": 7, \"9\": 10, \"12\": 41, \"5\": 18, \"8\": 7, \"7\": 5, \"15\": 12, \"10\": 11, \"1\": 6, \"3\": 7, \"6\": 9, \"14\": 5, \"0\": 5}, \"14\": {\"8\": 20, \"15\": 20, \"12\": 10, \"9\": 10, \"6\": 11, \"7\": 24, \"13\": 10, \"1\": 27, \"5\": 16, \"2\": 12, \"0\": 17, \"3\": 15, \"10\": 11, \"4\": 17, \"14\": 18, \"11\": 2}, \"2\": {\"9\": 10, \"8\": 14, \"12\": 13, \"4\": 9, \"3\": 25, \"6\": 19, \"2\": 20, \"1\": 19, \"11\": 9, \"10\": 18, \"5\": 21, \"14\": 7, \"15\": 21, \"13\": 15, \"7\": 15, \"0\": 5}, \"13\": {\"6\": 20, \"2\": 13, \"13\": 24, \"1\": 16, \"0\": 10, \"15\": 19, \"11\": 17, \"12\": 13, \"5\": 17, \"3\": 9, \"10\": 12, \"14\": 18, \"8\": 17, \"9\": 13, \"4\": 8, \"7\": 14}, \"3\": {\"1\": 20, \"7\": 21, \"5\": 11, \"2\": 19, \"3\": 19, \"0\": 13, \"4\": 22, \"8\": 13, \"13\": 15, \"6\": 16, \"10\": 13, \"9\": 13, \"15\": 14, \"14\": 18, \"12\": 7, \"11\": 6}, \"1\": {\"14\": 24, \"2\": 22, \"1\": 27, \"10\": 25, \"7\": 7, \"0\": 25, \"3\": 19, \"4\": 17, \"6\": 13, \"9\": 13, \"5\": 7, \"15\": 17, \"8\": 12, \"13\": 4, \"12\": 7, \"11\": 1}}}, \"per_domain_accuracy\": {\"Wisig_3\": {\"accuracy\": 0.9762554585152838, \"source?\": true}, \"Wisig_2\": {\"accuracy\": 0.9565104166666667, \"source?\": true}, \"Wisig_1\": {\"accuracy\": 0.9782838983050848, \"source?\": true}, \"Wisig_4\": {\"accuracy\": 0.9657921810699589, \"source?\": true}, \"ORACLE.run150\": {\"accuracy\": 0.11223958333333334, \"source?\": false}, \"ORACLE.run114\": {\"accuracy\": 0.10885416666666667, \"source?\": false}, \"ORACLE.run132\": {\"accuracy\": 0.1828125, \"source?\": false}, \"ORACLE.run144\": {\"accuracy\": 0.14192708333333334, \"source?\": false}, \"ORACLE.run18\": {\"accuracy\": 0.11380208333333333, \"source?\": false}, \"ORACLE.run120\": {\"accuracy\": 0.07838541666666667, \"source?\": false}, \"ORACLE.run138\": {\"accuracy\": 0.128125, \"source?\": false}, \"ORACLE.run126\": {\"accuracy\": 0.090625, \"source?\": false}}}, \"history\": {\"epoch_indices\": [1, 2, 3, 4, 5, 6], \"train_label_loss\": [0.1888936355837333, 0.11981880759525482, 0.09990877708721357, 0.08091619048161527, 0.0709101299705831, 0.05510968217450852], \"source_val_label_loss\": [0.16703951358795166, 0.13522109389305115, 0.11918614059686661, 0.12069442868232727, 0.11485389620065689, 0.12364154309034348], \"target_val_label_loss\": [2.689868927001953, 2.6738243103027344, 2.7171950340270996, 2.7611441612243652, 2.837559938430786, 2.9141016006469727], \"source_val_acc_label\": [0.9610363924050633, 0.969079641350211, 0.9715189873417721, 0.9727386603375527, 0.974189082278481, 0.9729034810126582], \"target_val_acc_label\": [0.11689453125, 0.11959635416666667, 0.11331380208333333, 0.10442708333333334, 0.09918619791666666, 0.09768880208333333]}, \"dataset_metrics\": {\"source\": {\"train\": {\"n_unique_x\": 189023, \"n_unique_y\": 130, \"n_batch/episode\": 6843}, \"val\": {\"n_unique_x\": 40070, \"n_unique_y\": 130, \"n_batch/episode\": 948}, \"test\": {\"n_unique_x\": 40836, \"n_unique_y\": 130, \"n_batch/episode\": 967}}, \"target\": {\"train\": {\"n_unique_x\": 179200, \"n_unique_y\": 16, \"n_batch/episode\": 6720}, \"val\": {\"n_unique_x\": 38400, \"n_unique_y\": 16, \"n_batch/episode\": 960}, \"test\": {\"n_unique_x\": 38400, \"n_unique_y\": 16, \"n_batch/episode\": 960}}}}'"
      ]
     },
     "execution_count": 29,
     "metadata": {},
     "output_type": "execute_result"
    }
   ],
   "source": [
    "json.dumps(experiment)"
   ]
  }
 ],
 "metadata": {
  "celltoolbar": "Tags",
  "kernelspec": {
   "display_name": "Python 3 (ipykernel)",
   "language": "python",
   "name": "python3"
  },
  "language_info": {
   "codemirror_mode": {
    "name": "ipython",
    "version": 3
   },
   "file_extension": ".py",
   "mimetype": "text/x-python",
   "name": "python",
   "nbconvert_exporter": "python",
   "pygments_lexer": "ipython3",
   "version": "3.8.12"
  },
  "papermill": {
   "default_parameters": {},
   "duration": 1564.604871,
   "end_time": "2022-03-23T06:38:41.539360",
   "environment_variables": {},
   "exception": null,
   "input_path": "/root/csc500-main/csc500-notebooks/templates/tl_ptn_template.ipynb",
   "output_path": "trial.ipynb",
   "parameters": {
    "parameters": {
     "BEST_MODEL_PATH": "./best_model.pth",
     "NUM_LOGS_PER_EPOCH": 10,
     "criteria_for_best": "target_accuracy",
     "dataset_seed": 500,
     "datasets": [
      {
       "domain_prefix": "Wisig_",
       "domains": [
        1,
        2,
        3,
        4
       ],
       "episode_transforms": [],
       "labels": [
        "1-10",
        "1-12",
        "1-14",
        "1-16",
        "1-18",
        "1-19",
        "1-8",
        "10-11",
        "10-17",
        "10-4",
        "10-7",
        "11-1",
        "11-10",
        "11-19",
        "11-20",
        "11-4",
        "11-7",
        "12-19",
        "12-20",
        "12-7",
        "13-14",
        "13-18",
        "13-19",
        "13-20",
        "13-3",
        "13-7",
        "14-10",
        "14-11",
        "14-12",
        "14-13",
        "14-14",
        "14-19",
        "14-20",
        "14-7",
        "14-8",
        "14-9",
        "15-1",
        "15-19",
        "15-6",
        "16-1",
        "16-16",
        "16-19",
        "16-20",
        "17-10",
        "17-11",
        "18-1",
        "18-10",
        "18-11",
        "18-12",
        "18-13",
        "18-14",
        "18-15",
        "18-16",
        "18-17",
        "18-19",
        "18-2",
        "18-20",
        "18-4",
        "18-5",
        "18-7",
        "18-8",
        "18-9",
        "19-1",
        "19-10",
        "19-11",
        "19-12",
        "19-13",
        "19-14",
        "19-15",
        "19-19",
        "19-2",
        "19-20",
        "19-3",
        "19-4",
        "19-6",
        "19-7",
        "19-8",
        "19-9",
        "2-1",
        "2-13",
        "2-15",
        "2-3",
        "2-4",
        "2-5",
        "2-6",
        "2-7",
        "2-8",
        "20-1",
        "20-12",
        "20-14",
        "20-15",
        "20-16",
        "20-18",
        "20-19",
        "20-20",
        "20-3",
        "20-4",
        "20-5",
        "20-7",
        "20-8",
        "3-1",
        "3-13",
        "3-18",
        "3-2",
        "3-8",
        "4-1",
        "4-10",
        "4-11",
        "5-1",
        "5-5",
        "6-1",
        "6-15",
        "6-6",
        "7-10",
        "7-11",
        "7-12",
        "7-13",
        "7-14",
        "7-7",
        "7-8",
        "7-9",
        "8-1",
        "8-13",
        "8-14",
        "8-18",
        "8-20",
        "8-3",
        "8-8",
        "9-1",
        "9-7"
       ],
       "num_examples_per_domain_per_label": -1,
       "pickle_path": "/root/csc500-main/datasets/wisig.node3-19.stratified_ds.2022A.pkl",
       "source_or_target_dataset": "source",
       "x_transforms": [
        "unit_mag"
       ]
      },
      {
       "domain_prefix": "ORACLE.run1",
       "domains": [
        32,
        38,
        8,
        44,
        14,
        50,
        20,
        26
       ],
       "episode_transforms": [],
       "labels": [
        "3123D52",
        "3123D65",
        "3123D79",
        "3123D80",
        "3123D54",
        "3123D70",
        "3123D7B",
        "3123D89",
        "3123D58",
        "3123D76",
        "3123D7D",
        "3123EFE",
        "3123D64",
        "3123D78",
        "3123D7E",
        "3124E4A"
       ],
       "num_examples_per_domain_per_label": 2000,
       "pickle_path": "/root/csc500-main/datasets/oracle.Run1_10kExamples_stratified_ds.2022A.pkl",
       "source_or_target_dataset": "target",
       "x_transforms": [
        "unit_mag"
       ]
      }
     ],
     "device": "cuda",
     "experiment_name": "tl_1v2:wisig-oracle.run1.limited",
     "lr": 0.0001,
     "n_epoch": 50,
     "n_query": 2,
     "n_shot": 3,
     "n_way": 16,
     "patience": 3,
     "seed": 500,
     "test_k_factor": 2,
     "torch_default_dtype": "torch.float32",
     "train_k_factor": 3,
     "val_k_factor": 2,
     "x_net": [
      {
       "class": "nnReshape",
       "kargs": {
        "shape": [
         -1,
         1,
         2,
         256
        ]
       }
      },
      {
       "class": "Conv2d",
       "kargs": {
        "bias": false,
        "in_channels": 1,
        "kernel_size": [
         1,
         7
        ],
        "out_channels": 256,
        "padding": [
         0,
         3
        ]
       }
      },
      {
       "class": "ReLU",
       "kargs": {
        "inplace": true
       }
      },
      {
       "class": "BatchNorm2d",
       "kargs": {
        "num_features": 256
       }
      },
      {
       "class": "Conv2d",
       "kargs": {
        "bias": true,
        "in_channels": 256,
        "kernel_size": [
         2,
         7
        ],
        "out_channels": 80,
        "padding": [
         0,
         3
        ]
       }
      },
      {
       "class": "ReLU",
       "kargs": {
        "inplace": true
       }
      },
      {
       "class": "BatchNorm2d",
       "kargs": {
        "num_features": 80
       }
      },
      {
       "class": "Flatten",
       "kargs": {}
      },
      {
       "class": "Linear",
       "kargs": {
        "in_features": 20480,
        "out_features": 256
       }
      },
      {
       "class": "ReLU",
       "kargs": {
        "inplace": true
       }
      },
      {
       "class": "BatchNorm1d",
       "kargs": {
        "num_features": 256
       }
      },
      {
       "class": "Linear",
       "kargs": {
        "in_features": 256,
        "out_features": 256
       }
      }
     ]
    }
   },
   "start_time": "2022-03-23T06:12:36.934489",
   "version": "2.3.4"
  }
 },
 "nbformat": 4,
 "nbformat_minor": 5
}