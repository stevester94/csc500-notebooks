{
 "cells": [
  {
   "cell_type": "markdown",
   "id": "9fea5f46",
   "metadata": {
    "papermill": {
     "duration": 0.032626,
     "end_time": "2022-03-22T20:23:32.266134",
     "exception": false,
     "start_time": "2022-03-22T20:23:32.233508",
     "status": "completed"
    },
    "tags": []
   },
   "source": [
    "# Transfer Learning Template"
   ]
  },
  {
   "cell_type": "code",
   "execution_count": 1,
   "id": "0902182a",
   "metadata": {
    "execution": {
     "iopub.execute_input": "2022-03-22T20:23:32.338401Z",
     "iopub.status.busy": "2022-03-22T20:23:32.337496Z",
     "iopub.status.idle": "2022-03-22T20:23:34.227949Z",
     "shell.execute_reply": "2022-03-22T20:23:34.227238Z"
    },
    "papermill": {
     "duration": 1.934943,
     "end_time": "2022-03-22T20:23:34.228095",
     "exception": false,
     "start_time": "2022-03-22T20:23:32.293152",
     "status": "completed"
    },
    "tags": []
   },
   "outputs": [],
   "source": [
    "%load_ext autoreload\n",
    "%autoreload 2\n",
    "%matplotlib inline\n",
    "\n",
    "    \n",
    "import os, json, sys, time, random\n",
    "import numpy as np\n",
    "import torch\n",
    "from torch.optim import Adam\n",
    "from  easydict import EasyDict\n",
    "import matplotlib.pyplot as plt\n",
    "\n",
    "from steves_models.steves_ptn import Steves_Prototypical_Network\n",
    "\n",
    "from steves_utils.lazy_iterable_wrapper import Lazy_Iterable_Wrapper\n",
    "from steves_utils.iterable_aggregator import Iterable_Aggregator\n",
    "from steves_utils.ptn_train_eval_test_jig import  PTN_Train_Eval_Test_Jig\n",
    "from steves_utils.torch_sequential_builder import build_sequential\n",
    "from steves_utils.torch_utils import get_dataset_metrics, ptn_confusion_by_domain_over_dataloader\n",
    "from steves_utils.utils_v2 import (per_domain_accuracy_from_confusion, get_datasets_base_path)\n",
    "from steves_utils.PTN.utils import independent_accuracy_assesment\n",
    "\n",
    "from torch.utils.data import DataLoader\n",
    "\n",
    "from steves_utils.stratified_dataset.episodic_accessor import Episodic_Accessor_Factory\n",
    "\n",
    "from steves_utils.ptn_do_report import (\n",
    "    get_loss_curve,\n",
    "    get_results_table,\n",
    "    get_parameters_table,\n",
    "    get_domain_accuracies,\n",
    ")\n",
    "\n",
    "from steves_utils.transforms import get_chained_transform"
   ]
  },
  {
   "cell_type": "markdown",
   "id": "41c840b4",
   "metadata": {
    "papermill": {
     "duration": 0.020841,
     "end_time": "2022-03-22T20:23:34.274536",
     "exception": false,
     "start_time": "2022-03-22T20:23:34.253695",
     "status": "completed"
    },
    "tags": []
   },
   "source": [
    "# Allowed Parameters\n",
    "These are allowed parameters, not defaults\n",
    "Each of these values need to be present in the injected parameters (the notebook will raise an exception if they are not present)\n",
    "\n",
    "Papermill uses the cell tag \"parameters\" to inject the real parameters below this cell.\n",
    "Enable tags to see what I mean"
   ]
  },
  {
   "cell_type": "code",
   "execution_count": 2,
   "id": "fd44eb83",
   "metadata": {
    "execution": {
     "iopub.execute_input": "2022-03-22T20:23:34.322226Z",
     "iopub.status.busy": "2022-03-22T20:23:34.321625Z",
     "iopub.status.idle": "2022-03-22T20:23:34.346846Z",
     "shell.execute_reply": "2022-03-22T20:23:34.345743Z"
    },
    "papermill": {
     "duration": 0.051695,
     "end_time": "2022-03-22T20:23:34.347098",
     "exception": false,
     "start_time": "2022-03-22T20:23:34.295403",
     "status": "completed"
    },
    "tags": []
   },
   "outputs": [],
   "source": [
    "required_parameters = {\n",
    "    \"experiment_name\",\n",
    "    \"lr\",\n",
    "    \"device\",\n",
    "    \"seed\",\n",
    "    \"dataset_seed\",\n",
    "    \"n_shot\",\n",
    "    \"n_query\",\n",
    "    \"n_way\",\n",
    "    \"train_k_factor\",\n",
    "    \"val_k_factor\",\n",
    "    \"test_k_factor\",\n",
    "    \"n_epoch\",\n",
    "    \"patience\",\n",
    "    \"criteria_for_best\",\n",
    "    \"x_net\",\n",
    "    \"datasets\",\n",
    "    \"torch_default_dtype\",\n",
    "    \"NUM_LOGS_PER_EPOCH\",\n",
    "    \"BEST_MODEL_PATH\",\n",
    "    \"x_shape\",\n",
    "}"
   ]
  },
  {
   "cell_type": "code",
   "execution_count": 3,
   "id": "fa3f0049",
   "metadata": {
    "execution": {
     "iopub.execute_input": "2022-03-22T20:23:34.411706Z",
     "iopub.status.busy": "2022-03-22T20:23:34.409567Z",
     "iopub.status.idle": "2022-03-22T20:23:34.431623Z",
     "shell.execute_reply": "2022-03-22T20:23:34.430768Z"
    },
    "papermill": {
     "duration": 0.057256,
     "end_time": "2022-03-22T20:23:34.431808",
     "exception": false,
     "start_time": "2022-03-22T20:23:34.374552",
     "status": "completed"
    },
    "tags": [
     "parameters"
    ]
   },
   "outputs": [],
   "source": [
    "from steves_utils.CORES.utils import (\n",
    "    ALL_NODES,\n",
    "    ALL_NODES_MINIMUM_1000_EXAMPLES,\n",
    "    ALL_DAYS\n",
    ")\n",
    "\n",
    "from steves_utils.ORACLE.utils_v2 import (\n",
    "    ALL_DISTANCES_FEET_NARROWED,\n",
    "    ALL_RUNS,\n",
    "    ALL_SERIAL_NUMBERS,\n",
    ")\n",
    "\n",
    "standalone_parameters = {}\n",
    "standalone_parameters[\"experiment_name\"] = \"STANDALONE PTN\"\n",
    "standalone_parameters[\"lr\"] = 0.001\n",
    "standalone_parameters[\"device\"] = \"cuda\"\n",
    "\n",
    "standalone_parameters[\"seed\"] = 1337\n",
    "standalone_parameters[\"dataset_seed\"] = 1337\n",
    "\n",
    "standalone_parameters[\"n_way\"] = 8\n",
    "standalone_parameters[\"n_shot\"] = 3\n",
    "standalone_parameters[\"n_query\"]  = 2\n",
    "standalone_parameters[\"train_k_factor\"] = 1\n",
    "standalone_parameters[\"val_k_factor\"] = 2\n",
    "standalone_parameters[\"test_k_factor\"] = 2\n",
    "\n",
    "\n",
    "standalone_parameters[\"n_epoch\"] = 50\n",
    "\n",
    "standalone_parameters[\"patience\"] = 10\n",
    "standalone_parameters[\"criteria_for_best\"] = \"source_loss\"\n",
    "\n",
    "standalone_parameters[\"datasets\"] = [\n",
    "    {\n",
    "        \"labels\": ALL_SERIAL_NUMBERS,\n",
    "        \"domains\": ALL_DISTANCES_FEET_NARROWED,\n",
    "        \"num_examples_per_domain_per_label\": 100,\n",
    "        \"pickle_path\": os.path.join(get_datasets_base_path(), \"oracle.Run1_framed_2000Examples_stratified_ds.2022A.pkl\"),\n",
    "        \"source_or_target_dataset\": \"source\",\n",
    "        \"x_transforms\": [\"unit_mag\", \"minus_two\"],\n",
    "        \"episode_transforms\": [],\n",
    "        \"domain_prefix\": \"ORACLE_\"\n",
    "    },\n",
    "    {\n",
    "        \"labels\": ALL_NODES,\n",
    "        \"domains\": ALL_DAYS,\n",
    "        \"num_examples_per_domain_per_label\": 100,\n",
    "        \"pickle_path\": os.path.join(get_datasets_base_path(), \"cores.stratified_ds.2022A.pkl\"),\n",
    "        \"source_or_target_dataset\": \"target\",\n",
    "        \"x_transforms\": [\"unit_power\", \"times_zero\"],\n",
    "        \"episode_transforms\": [],\n",
    "        \"domain_prefix\": \"CORES_\"\n",
    "    }   \n",
    "]\n",
    "\n",
    "standalone_parameters[\"torch_default_dtype\"] = \"torch.float32\" \n",
    "\n",
    "\n",
    "\n",
    "standalone_parameters[\"x_net\"] =     [\n",
    "    {\"class\": \"nnReshape\", \"kargs\": {\"shape\":[-1, 1, 2, 256]}},\n",
    "    {\"class\": \"Conv2d\", \"kargs\": { \"in_channels\":1, \"out_channels\":256, \"kernel_size\":(1,7), \"bias\":False, \"padding\":(0,3), },},\n",
    "    {\"class\": \"ReLU\", \"kargs\": {\"inplace\": True}},\n",
    "    {\"class\": \"BatchNorm2d\", \"kargs\": {\"num_features\":256}},\n",
    "\n",
    "    {\"class\": \"Conv2d\", \"kargs\": { \"in_channels\":256, \"out_channels\":80, \"kernel_size\":(2,7), \"bias\":True, \"padding\":(0,3), },},\n",
    "    {\"class\": \"ReLU\", \"kargs\": {\"inplace\": True}},\n",
    "    {\"class\": \"BatchNorm2d\", \"kargs\": {\"num_features\":80}},\n",
    "    {\"class\": \"Flatten\", \"kargs\": {}},\n",
    "\n",
    "    {\"class\": \"Linear\", \"kargs\": {\"in_features\": 80*256, \"out_features\": 256}}, # 80 units per IQ pair\n",
    "    {\"class\": \"ReLU\", \"kargs\": {\"inplace\": True}},\n",
    "    {\"class\": \"BatchNorm1d\", \"kargs\": {\"num_features\":256}},\n",
    "\n",
    "    {\"class\": \"Linear\", \"kargs\": {\"in_features\": 256, \"out_features\": 256}},\n",
    "]\n",
    "\n",
    "# Parameters relevant to results\n",
    "# These parameters will basically never need to change\n",
    "standalone_parameters[\"NUM_LOGS_PER_EPOCH\"] = 10\n",
    "standalone_parameters[\"BEST_MODEL_PATH\"] = \"./best_model.pth\"\n",
    "\n",
    "\n",
    "\n",
    "\n"
   ]
  },
  {
   "cell_type": "code",
   "execution_count": 4,
   "id": "420e3615",
   "metadata": {
    "execution": {
     "iopub.execute_input": "2022-03-22T20:23:34.495834Z",
     "iopub.status.busy": "2022-03-22T20:23:34.488177Z",
     "iopub.status.idle": "2022-03-22T20:23:34.515295Z",
     "shell.execute_reply": "2022-03-22T20:23:34.514447Z"
    },
    "papermill": {
     "duration": 0.056587,
     "end_time": "2022-03-22T20:23:34.515478",
     "exception": false,
     "start_time": "2022-03-22T20:23:34.458891",
     "status": "completed"
    },
    "tags": [
     "injected-parameters"
    ]
   },
   "outputs": [],
   "source": [
    "# Parameters\n",
    "parameters = {\n",
    "    \"experiment_name\": \"tl_1v2:wisig-oracle.run1.limited\",\n",
    "    \"device\": \"cuda\",\n",
    "    \"lr\": 0.0001,\n",
    "    \"n_shot\": 3,\n",
    "    \"n_query\": 2,\n",
    "    \"train_k_factor\": 3,\n",
    "    \"val_k_factor\": 2,\n",
    "    \"test_k_factor\": 2,\n",
    "    \"torch_default_dtype\": \"torch.float32\",\n",
    "    \"n_epoch\": 50,\n",
    "    \"patience\": 3,\n",
    "    \"criteria_for_best\": \"target_accuracy\",\n",
    "    \"x_net\": [\n",
    "        {\"class\": \"nnReshape\", \"kargs\": {\"shape\": [-1, 1, 2, 256]}},\n",
    "        {\n",
    "            \"class\": \"Conv2d\",\n",
    "            \"kargs\": {\n",
    "                \"in_channels\": 1,\n",
    "                \"out_channels\": 256,\n",
    "                \"kernel_size\": [1, 7],\n",
    "                \"bias\": False,\n",
    "                \"padding\": [0, 3],\n",
    "            },\n",
    "        },\n",
    "        {\"class\": \"ReLU\", \"kargs\": {\"inplace\": True}},\n",
    "        {\"class\": \"BatchNorm2d\", \"kargs\": {\"num_features\": 256}},\n",
    "        {\n",
    "            \"class\": \"Conv2d\",\n",
    "            \"kargs\": {\n",
    "                \"in_channels\": 256,\n",
    "                \"out_channels\": 80,\n",
    "                \"kernel_size\": [2, 7],\n",
    "                \"bias\": True,\n",
    "                \"padding\": [0, 3],\n",
    "            },\n",
    "        },\n",
    "        {\"class\": \"ReLU\", \"kargs\": {\"inplace\": True}},\n",
    "        {\"class\": \"BatchNorm2d\", \"kargs\": {\"num_features\": 80}},\n",
    "        {\"class\": \"Flatten\", \"kargs\": {}},\n",
    "        {\"class\": \"Linear\", \"kargs\": {\"in_features\": 20480, \"out_features\": 256}},\n",
    "        {\"class\": \"ReLU\", \"kargs\": {\"inplace\": True}},\n",
    "        {\"class\": \"BatchNorm1d\", \"kargs\": {\"num_features\": 256}},\n",
    "        {\"class\": \"Linear\", \"kargs\": {\"in_features\": 256, \"out_features\": 256}},\n",
    "    ],\n",
    "    \"NUM_LOGS_PER_EPOCH\": 10,\n",
    "    \"BEST_MODEL_PATH\": \"./best_model.pth\",\n",
    "    \"n_way\": 16,\n",
    "    \"datasets\": [\n",
    "        {\n",
    "            \"labels\": [\n",
    "                \"1-10\",\n",
    "                \"1-12\",\n",
    "                \"1-14\",\n",
    "                \"1-16\",\n",
    "                \"1-18\",\n",
    "                \"1-19\",\n",
    "                \"1-8\",\n",
    "                \"10-11\",\n",
    "                \"10-17\",\n",
    "                \"10-4\",\n",
    "                \"10-7\",\n",
    "                \"11-1\",\n",
    "                \"11-10\",\n",
    "                \"11-19\",\n",
    "                \"11-20\",\n",
    "                \"11-4\",\n",
    "                \"11-7\",\n",
    "                \"12-19\",\n",
    "                \"12-20\",\n",
    "                \"12-7\",\n",
    "                \"13-14\",\n",
    "                \"13-18\",\n",
    "                \"13-19\",\n",
    "                \"13-20\",\n",
    "                \"13-3\",\n",
    "                \"13-7\",\n",
    "                \"14-10\",\n",
    "                \"14-11\",\n",
    "                \"14-12\",\n",
    "                \"14-13\",\n",
    "                \"14-14\",\n",
    "                \"14-19\",\n",
    "                \"14-20\",\n",
    "                \"14-7\",\n",
    "                \"14-8\",\n",
    "                \"14-9\",\n",
    "                \"15-1\",\n",
    "                \"15-19\",\n",
    "                \"15-6\",\n",
    "                \"16-1\",\n",
    "                \"16-16\",\n",
    "                \"16-19\",\n",
    "                \"16-20\",\n",
    "                \"17-10\",\n",
    "                \"17-11\",\n",
    "                \"18-1\",\n",
    "                \"18-10\",\n",
    "                \"18-11\",\n",
    "                \"18-12\",\n",
    "                \"18-13\",\n",
    "                \"18-14\",\n",
    "                \"18-15\",\n",
    "                \"18-16\",\n",
    "                \"18-17\",\n",
    "                \"18-19\",\n",
    "                \"18-2\",\n",
    "                \"18-20\",\n",
    "                \"18-4\",\n",
    "                \"18-5\",\n",
    "                \"18-7\",\n",
    "                \"18-8\",\n",
    "                \"18-9\",\n",
    "                \"19-1\",\n",
    "                \"19-10\",\n",
    "                \"19-11\",\n",
    "                \"19-12\",\n",
    "                \"19-13\",\n",
    "                \"19-14\",\n",
    "                \"19-15\",\n",
    "                \"19-19\",\n",
    "                \"19-2\",\n",
    "                \"19-20\",\n",
    "                \"19-3\",\n",
    "                \"19-4\",\n",
    "                \"19-6\",\n",
    "                \"19-7\",\n",
    "                \"19-8\",\n",
    "                \"19-9\",\n",
    "                \"2-1\",\n",
    "                \"2-13\",\n",
    "                \"2-15\",\n",
    "                \"2-3\",\n",
    "                \"2-4\",\n",
    "                \"2-5\",\n",
    "                \"2-6\",\n",
    "                \"2-7\",\n",
    "                \"2-8\",\n",
    "                \"20-1\",\n",
    "                \"20-12\",\n",
    "                \"20-14\",\n",
    "                \"20-15\",\n",
    "                \"20-16\",\n",
    "                \"20-18\",\n",
    "                \"20-19\",\n",
    "                \"20-20\",\n",
    "                \"20-3\",\n",
    "                \"20-4\",\n",
    "                \"20-5\",\n",
    "                \"20-7\",\n",
    "                \"20-8\",\n",
    "                \"3-1\",\n",
    "                \"3-13\",\n",
    "                \"3-18\",\n",
    "                \"3-2\",\n",
    "                \"3-8\",\n",
    "                \"4-1\",\n",
    "                \"4-10\",\n",
    "                \"4-11\",\n",
    "                \"5-1\",\n",
    "                \"5-5\",\n",
    "                \"6-1\",\n",
    "                \"6-15\",\n",
    "                \"6-6\",\n",
    "                \"7-10\",\n",
    "                \"7-11\",\n",
    "                \"7-12\",\n",
    "                \"7-13\",\n",
    "                \"7-14\",\n",
    "                \"7-7\",\n",
    "                \"7-8\",\n",
    "                \"7-9\",\n",
    "                \"8-1\",\n",
    "                \"8-13\",\n",
    "                \"8-14\",\n",
    "                \"8-18\",\n",
    "                \"8-20\",\n",
    "                \"8-3\",\n",
    "                \"8-8\",\n",
    "                \"9-1\",\n",
    "                \"9-7\",\n",
    "            ],\n",
    "            \"domains\": [1, 2, 3, 4],\n",
    "            \"num_examples_per_domain_per_label\": -1,\n",
    "            \"pickle_path\": \"/root/csc500-main/datasets/wisig.node3-19.stratified_ds.2022A.pkl\",\n",
    "            \"source_or_target_dataset\": \"source\",\n",
    "            \"x_transforms\": [\"unit_mag\"],\n",
    "            \"episode_transforms\": [],\n",
    "            \"domain_prefix\": \"Wisig_\",\n",
    "        },\n",
    "        {\n",
    "            \"labels\": [\n",
    "                \"3123D52\",\n",
    "                \"3123D65\",\n",
    "                \"3123D79\",\n",
    "                \"3123D80\",\n",
    "                \"3123D54\",\n",
    "                \"3123D70\",\n",
    "                \"3123D7B\",\n",
    "                \"3123D89\",\n",
    "                \"3123D58\",\n",
    "                \"3123D76\",\n",
    "                \"3123D7D\",\n",
    "                \"3123EFE\",\n",
    "                \"3123D64\",\n",
    "                \"3123D78\",\n",
    "                \"3123D7E\",\n",
    "                \"3124E4A\",\n",
    "            ],\n",
    "            \"domains\": [32, 38, 8, 44, 14, 50, 20, 26],\n",
    "            \"num_examples_per_domain_per_label\": 2000,\n",
    "            \"pickle_path\": \"/root/csc500-main/datasets/oracle.Run1_10kExamples_stratified_ds.2022A.pkl\",\n",
    "            \"source_or_target_dataset\": \"target\",\n",
    "            \"x_transforms\": [\"unit_mag\"],\n",
    "            \"episode_transforms\": [],\n",
    "            \"domain_prefix\": \"ORACLE.run1\",\n",
    "        },\n",
    "    ],\n",
    "    \"dataset_seed\": 420,\n",
    "    \"seed\": 420,\n",
    "}\n"
   ]
  },
  {
   "cell_type": "code",
   "execution_count": 5,
   "id": "8fa1cc33",
   "metadata": {
    "execution": {
     "iopub.execute_input": "2022-03-22T20:23:34.569640Z",
     "iopub.status.busy": "2022-03-22T20:23:34.569064Z",
     "iopub.status.idle": "2022-03-22T20:23:34.591725Z",
     "shell.execute_reply": "2022-03-22T20:23:34.590433Z"
    },
    "papermill": {
     "duration": 0.049103,
     "end_time": "2022-03-22T20:23:34.591983",
     "exception": false,
     "start_time": "2022-03-22T20:23:34.542880",
     "status": "completed"
    },
    "tags": []
   },
   "outputs": [],
   "source": [
    "# Set this to True if you want to run this template directly\n",
    "STANDALONE = False\n",
    "if STANDALONE:\n",
    "    print(\"parameters not injected, running with standalone_parameters\")\n",
    "    parameters = standalone_parameters\n",
    "\n",
    "if not 'parameters' in locals() and not 'parameters' in globals():\n",
    "    raise Exception(\"Parameter injection failed\")\n",
    "\n",
    "#Use an easy dict for all the parameters\n",
    "p = EasyDict(parameters)\n",
    "\n",
    "if \"x_shape\" not in p:\n",
    "    p.x_shape = [2,256] # Default to this if we dont supply x_shape\n",
    "\n",
    "\n",
    "supplied_keys = set(p.keys())\n",
    "\n",
    "if  supplied_keys != required_parameters:\n",
    "    print(\"Parameters are incorrect\")\n",
    "    if len(supplied_keys - required_parameters)>0: print(\"Shouldn't have:\", str(supplied_keys - required_parameters))\n",
    "    if len(required_parameters - supplied_keys)>0: print(\"Need to have:\", str(required_parameters - supplied_keys))\n",
    "    raise RuntimeError(\"Parameters are incorrect\")"
   ]
  },
  {
   "cell_type": "code",
   "execution_count": 6,
   "id": "3a028d58",
   "metadata": {
    "execution": {
     "iopub.execute_input": "2022-03-22T20:23:34.658607Z",
     "iopub.status.busy": "2022-03-22T20:23:34.658038Z",
     "iopub.status.idle": "2022-03-22T20:23:34.681250Z",
     "shell.execute_reply": "2022-03-22T20:23:34.680655Z"
    },
    "papermill": {
     "duration": 0.056033,
     "end_time": "2022-03-22T20:23:34.681388",
     "exception": false,
     "start_time": "2022-03-22T20:23:34.625355",
     "status": "completed"
    },
    "tags": []
   },
   "outputs": [],
   "source": [
    "###################################\n",
    "# Set the RNGs and make it all deterministic\n",
    "###################################\n",
    "np.random.seed(p.seed)\n",
    "random.seed(p.seed)\n",
    "torch.manual_seed(p.seed)\n",
    "\n",
    "torch.use_deterministic_algorithms(True) "
   ]
  },
  {
   "cell_type": "code",
   "execution_count": 7,
   "id": "b691acf6",
   "metadata": {
    "execution": {
     "iopub.execute_input": "2022-03-22T20:23:34.740537Z",
     "iopub.status.busy": "2022-03-22T20:23:34.739407Z",
     "iopub.status.idle": "2022-03-22T20:23:34.759848Z",
     "shell.execute_reply": "2022-03-22T20:23:34.758980Z"
    },
    "papermill": {
     "duration": 0.045938,
     "end_time": "2022-03-22T20:23:34.760020",
     "exception": false,
     "start_time": "2022-03-22T20:23:34.714082",
     "status": "completed"
    },
    "tags": []
   },
   "outputs": [],
   "source": [
    "###########################################\n",
    "# The stratified datasets honor this\n",
    "###########################################\n",
    "torch.set_default_dtype(eval(p.torch_default_dtype))"
   ]
  },
  {
   "cell_type": "code",
   "execution_count": 8,
   "id": "b5fba671",
   "metadata": {
    "execution": {
     "iopub.execute_input": "2022-03-22T20:23:34.810601Z",
     "iopub.status.busy": "2022-03-22T20:23:34.810227Z",
     "iopub.status.idle": "2022-03-22T20:23:34.866679Z",
     "shell.execute_reply": "2022-03-22T20:23:34.867319Z"
    },
    "papermill": {
     "duration": 0.080704,
     "end_time": "2022-03-22T20:23:34.867525",
     "exception": false,
     "start_time": "2022-03-22T20:23:34.786821",
     "status": "completed"
    },
    "tags": []
   },
   "outputs": [],
   "source": [
    "###################################\n",
    "# Build the network(s)\n",
    "# Note: It's critical to do this AFTER setting the RNG\n",
    "###################################\n",
    "x_net = build_sequential(p.x_net)"
   ]
  },
  {
   "cell_type": "code",
   "execution_count": 9,
   "id": "5d7e61cc",
   "metadata": {
    "execution": {
     "iopub.execute_input": "2022-03-22T20:23:34.915866Z",
     "iopub.status.busy": "2022-03-22T20:23:34.914956Z",
     "iopub.status.idle": "2022-03-22T20:23:34.937837Z",
     "shell.execute_reply": "2022-03-22T20:23:34.937026Z"
    },
    "papermill": {
     "duration": 0.045524,
     "end_time": "2022-03-22T20:23:34.937998",
     "exception": false,
     "start_time": "2022-03-22T20:23:34.892474",
     "status": "completed"
    },
    "tags": []
   },
   "outputs": [],
   "source": [
    "start_time_secs = time.time()"
   ]
  },
  {
   "cell_type": "code",
   "execution_count": 10,
   "id": "c6b67dfd",
   "metadata": {
    "execution": {
     "iopub.execute_input": "2022-03-22T20:23:34.988121Z",
     "iopub.status.busy": "2022-03-22T20:23:34.987074Z",
     "iopub.status.idle": "2022-03-22T20:23:35.007609Z",
     "shell.execute_reply": "2022-03-22T20:23:35.006782Z"
    },
    "papermill": {
     "duration": 0.04445,
     "end_time": "2022-03-22T20:23:35.007767",
     "exception": false,
     "start_time": "2022-03-22T20:23:34.963317",
     "status": "completed"
    },
    "tags": []
   },
   "outputs": [],
   "source": [
    "p.domains_source = []\n",
    "p.domains_target = []\n",
    "\n",
    "\n",
    "train_original_source = []\n",
    "val_original_source   = []\n",
    "test_original_source  = []\n",
    "\n",
    "train_original_target = []\n",
    "val_original_target   = []\n",
    "test_original_target  = []"
   ]
  },
  {
   "cell_type": "code",
   "execution_count": 11,
   "id": "e3d9c3d3",
   "metadata": {
    "execution": {
     "iopub.execute_input": "2022-03-22T20:23:35.061569Z",
     "iopub.status.busy": "2022-03-22T20:23:35.060596Z",
     "iopub.status.idle": "2022-03-22T20:23:35.083729Z",
     "shell.execute_reply": "2022-03-22T20:23:35.082864Z"
    },
    "papermill": {
     "duration": 0.047145,
     "end_time": "2022-03-22T20:23:35.083892",
     "exception": false,
     "start_time": "2022-03-22T20:23:35.036747",
     "status": "completed"
    },
    "tags": []
   },
   "outputs": [],
   "source": [
    "# global_x_transform_func = lambda x: normalize(x.to(torch.get_default_dtype()), \"unit_power\") # unit_power, unit_mag\n",
    "# global_x_transform_func = lambda x: normalize(x, \"unit_power\") # unit_power, unit_mag"
   ]
  },
  {
   "cell_type": "code",
   "execution_count": 12,
   "id": "acb78fd2",
   "metadata": {
    "execution": {
     "iopub.execute_input": "2022-03-22T20:23:35.142094Z",
     "iopub.status.busy": "2022-03-22T20:23:35.141710Z",
     "iopub.status.idle": "2022-03-22T20:23:35.160245Z",
     "shell.execute_reply": "2022-03-22T20:23:35.159384Z"
    },
    "papermill": {
     "duration": 0.047804,
     "end_time": "2022-03-22T20:23:35.160404",
     "exception": false,
     "start_time": "2022-03-22T20:23:35.112600",
     "status": "completed"
    },
    "tags": []
   },
   "outputs": [],
   "source": [
    "def add_dataset(\n",
    "    labels,\n",
    "    domains,\n",
    "    pickle_path,\n",
    "    x_transforms,\n",
    "    episode_transforms,\n",
    "    domain_prefix,\n",
    "    num_examples_per_domain_per_label,\n",
    "    source_or_target_dataset:str,\n",
    "    iterator_seed=p.seed,\n",
    "    dataset_seed=p.dataset_seed,\n",
    "    n_shot=p.n_shot,\n",
    "    n_way=p.n_way,\n",
    "    n_query=p.n_query,\n",
    "    train_val_test_k_factors=(p.train_k_factor,p.val_k_factor,p.test_k_factor),\n",
    "):\n",
    "   \n",
    "    if x_transforms == []: x_transform = None\n",
    "    else: x_transform = get_chained_transform(x_transforms)\n",
    "    \n",
    "    if episode_transforms == []: episode_transform = None\n",
    "    else: raise Exception(\"episode_transforms not implemented\")\n",
    "    \n",
    "    episode_transform = lambda tup, _prefix=domain_prefix: (_prefix + str(tup[0]), tup[1])\n",
    "\n",
    "\n",
    "    eaf = Episodic_Accessor_Factory(\n",
    "        labels=labels,\n",
    "        domains=domains,\n",
    "        num_examples_per_domain_per_label=num_examples_per_domain_per_label,\n",
    "        iterator_seed=iterator_seed,\n",
    "        dataset_seed=dataset_seed,\n",
    "        n_shot=n_shot,\n",
    "        n_way=n_way,\n",
    "        n_query=n_query,\n",
    "        train_val_test_k_factors=train_val_test_k_factors,\n",
    "        pickle_path=pickle_path,\n",
    "        x_transform_func=x_transform,\n",
    "    )\n",
    "\n",
    "    train, val, test = eaf.get_train(), eaf.get_val(), eaf.get_test()\n",
    "    train = Lazy_Iterable_Wrapper(train, episode_transform)\n",
    "    val = Lazy_Iterable_Wrapper(val, episode_transform)\n",
    "    test = Lazy_Iterable_Wrapper(test, episode_transform)\n",
    "\n",
    "    if source_or_target_dataset==\"source\":\n",
    "        train_original_source.append(train)\n",
    "        val_original_source.append(val)\n",
    "        test_original_source.append(test)\n",
    "\n",
    "        p.domains_source.extend(\n",
    "            [domain_prefix + str(u) for u in domains]\n",
    "        )\n",
    "    elif source_or_target_dataset==\"target\":\n",
    "        train_original_target.append(train)\n",
    "        val_original_target.append(val)\n",
    "        test_original_target.append(test)\n",
    "        p.domains_target.extend(\n",
    "            [domain_prefix + str(u) for u in domains]\n",
    "        )\n",
    "    else:\n",
    "        raise Exception(f\"invalid source_or_target_dataset: {source_or_target_dataset}\")\n",
    "    "
   ]
  },
  {
   "cell_type": "code",
   "execution_count": 13,
   "id": "fe266617",
   "metadata": {
    "execution": {
     "iopub.execute_input": "2022-03-22T20:23:35.212836Z",
     "iopub.status.busy": "2022-03-22T20:23:35.212222Z",
     "iopub.status.idle": "2022-03-22T20:24:22.028842Z",
     "shell.execute_reply": "2022-03-22T20:24:22.028041Z"
    },
    "papermill": {
     "duration": 46.841568,
     "end_time": "2022-03-22T20:24:22.029022",
     "exception": false,
     "start_time": "2022-03-22T20:23:35.187454",
     "status": "completed"
    },
    "tags": []
   },
   "outputs": [],
   "source": [
    "for ds in p.datasets:\n",
    "    add_dataset(**ds)"
   ]
  },
  {
   "cell_type": "code",
   "execution_count": 14,
   "id": "b90d65ac",
   "metadata": {
    "execution": {
     "iopub.execute_input": "2022-03-22T20:24:22.082256Z",
     "iopub.status.busy": "2022-03-22T20:24:22.081843Z",
     "iopub.status.idle": "2022-03-22T20:24:22.105049Z",
     "shell.execute_reply": "2022-03-22T20:24:22.104316Z"
    },
    "papermill": {
     "duration": 0.047671,
     "end_time": "2022-03-22T20:24:22.105220",
     "exception": false,
     "start_time": "2022-03-22T20:24:22.057549",
     "status": "completed"
    },
    "tags": []
   },
   "outputs": [],
   "source": [
    "# from steves_utils.CORES.utils import (\n",
    "#     ALL_NODES,\n",
    "#     ALL_NODES_MINIMUM_1000_EXAMPLES,\n",
    "#     ALL_DAYS\n",
    "# )\n",
    "\n",
    "# add_dataset(\n",
    "#     labels=ALL_NODES,\n",
    "#     domains = ALL_DAYS,\n",
    "#     num_examples_per_domain_per_label=100,\n",
    "#     pickle_path=os.path.join(get_datasets_base_path(), \"cores.stratified_ds.2022A.pkl\"),\n",
    "#     source_or_target_dataset=\"target\",\n",
    "#     x_transform_func=global_x_transform_func,\n",
    "#     domain_modifier=lambda u: f\"cores_{u}\"\n",
    "# )"
   ]
  },
  {
   "cell_type": "code",
   "execution_count": 15,
   "id": "76db484d",
   "metadata": {
    "execution": {
     "iopub.execute_input": "2022-03-22T20:24:22.160052Z",
     "iopub.status.busy": "2022-03-22T20:24:22.159661Z",
     "iopub.status.idle": "2022-03-22T20:24:22.181792Z",
     "shell.execute_reply": "2022-03-22T20:24:22.180939Z"
    },
    "papermill": {
     "duration": 0.04734,
     "end_time": "2022-03-22T20:24:22.181972",
     "exception": false,
     "start_time": "2022-03-22T20:24:22.134632",
     "status": "completed"
    },
    "tags": []
   },
   "outputs": [],
   "source": [
    "# from steves_utils.ORACLE.utils_v2 import (\n",
    "#     ALL_DISTANCES_FEET,\n",
    "#     ALL_RUNS,\n",
    "#     ALL_SERIAL_NUMBERS,\n",
    "# )\n",
    "\n",
    "\n",
    "# add_dataset(\n",
    "#     labels=ALL_SERIAL_NUMBERS,\n",
    "#     domains = list(set(ALL_DISTANCES_FEET) - {2,62}),\n",
    "#     num_examples_per_domain_per_label=100,\n",
    "#     pickle_path=os.path.join(get_datasets_base_path(), \"oracle.Run2_framed_2000Examples_stratified_ds.2022A.pkl\"),\n",
    "#     source_or_target_dataset=\"source\",\n",
    "#     x_transform_func=global_x_transform_func,\n",
    "#     domain_modifier=lambda u: f\"oracle1_{u}\"\n",
    "# )\n"
   ]
  },
  {
   "cell_type": "code",
   "execution_count": 16,
   "id": "97dea9d2",
   "metadata": {
    "execution": {
     "iopub.execute_input": "2022-03-22T20:24:22.234122Z",
     "iopub.status.busy": "2022-03-22T20:24:22.233751Z",
     "iopub.status.idle": "2022-03-22T20:24:22.254949Z",
     "shell.execute_reply": "2022-03-22T20:24:22.254093Z"
    },
    "papermill": {
     "duration": 0.046082,
     "end_time": "2022-03-22T20:24:22.255128",
     "exception": false,
     "start_time": "2022-03-22T20:24:22.209046",
     "status": "completed"
    },
    "tags": []
   },
   "outputs": [],
   "source": [
    "# from steves_utils.ORACLE.utils_v2 import (\n",
    "#     ALL_DISTANCES_FEET,\n",
    "#     ALL_RUNS,\n",
    "#     ALL_SERIAL_NUMBERS,\n",
    "# )\n",
    "\n",
    "\n",
    "# add_dataset(\n",
    "#     labels=ALL_SERIAL_NUMBERS,\n",
    "#     domains = list(set(ALL_DISTANCES_FEET) - {2,62,56}),\n",
    "#     num_examples_per_domain_per_label=100,\n",
    "#     pickle_path=os.path.join(get_datasets_base_path(), \"oracle.Run2_framed_2000Examples_stratified_ds.2022A.pkl\"),\n",
    "#     source_or_target_dataset=\"source\",\n",
    "#     x_transform_func=global_x_transform_func,\n",
    "#     domain_modifier=lambda u: f\"oracle2_{u}\"\n",
    "# )"
   ]
  },
  {
   "cell_type": "code",
   "execution_count": 17,
   "id": "6f289866",
   "metadata": {
    "execution": {
     "iopub.execute_input": "2022-03-22T20:24:22.310372Z",
     "iopub.status.busy": "2022-03-22T20:24:22.309996Z",
     "iopub.status.idle": "2022-03-22T20:24:22.330910Z",
     "shell.execute_reply": "2022-03-22T20:24:22.330196Z"
    },
    "papermill": {
     "duration": 0.04524,
     "end_time": "2022-03-22T20:24:22.331070",
     "exception": false,
     "start_time": "2022-03-22T20:24:22.285830",
     "status": "completed"
    },
    "tags": []
   },
   "outputs": [],
   "source": [
    "# add_dataset(\n",
    "#     labels=list(range(19)),\n",
    "#     domains = [0,1,2],\n",
    "#     num_examples_per_domain_per_label=100,\n",
    "#     pickle_path=os.path.join(get_datasets_base_path(), \"metehan.stratified_ds.2022A.pkl\"),\n",
    "#     source_or_target_dataset=\"target\",\n",
    "#     x_transform_func=global_x_transform_func,\n",
    "#     domain_modifier=lambda u: f\"met_{u}\"\n",
    "# )"
   ]
  },
  {
   "cell_type": "code",
   "execution_count": 18,
   "id": "86a863c3",
   "metadata": {
    "execution": {
     "iopub.execute_input": "2022-03-22T20:24:22.385868Z",
     "iopub.status.busy": "2022-03-22T20:24:22.385498Z",
     "iopub.status.idle": "2022-03-22T20:24:22.402731Z",
     "shell.execute_reply": "2022-03-22T20:24:22.401927Z"
    },
    "papermill": {
     "duration": 0.04074,
     "end_time": "2022-03-22T20:24:22.402886",
     "exception": false,
     "start_time": "2022-03-22T20:24:22.362146",
     "status": "completed"
    },
    "tags": []
   },
   "outputs": [],
   "source": [
    "# # from steves_utils.wisig.utils import (\n",
    "# #     ALL_NODES_MINIMUM_100_EXAMPLES,\n",
    "# #     ALL_NODES_MINIMUM_500_EXAMPLES,\n",
    "# #     ALL_NODES_MINIMUM_1000_EXAMPLES,\n",
    "# #     ALL_DAYS\n",
    "# # )\n",
    "\n",
    "# import steves_utils.wisig.utils as wisig\n",
    "\n",
    "\n",
    "# add_dataset(\n",
    "#     labels=wisig.ALL_NODES_MINIMUM_100_EXAMPLES,\n",
    "#     domains = wisig.ALL_DAYS,\n",
    "#     num_examples_per_domain_per_label=100,\n",
    "#     pickle_path=os.path.join(get_datasets_base_path(), \"wisig.node3-19.stratified_ds.2022A.pkl\"),\n",
    "#     source_or_target_dataset=\"target\",\n",
    "#     x_transform_func=global_x_transform_func,\n",
    "#     domain_modifier=lambda u: f\"wisig_{u}\"\n",
    "# )"
   ]
  },
  {
   "cell_type": "code",
   "execution_count": 19,
   "id": "fd5442bc",
   "metadata": {
    "execution": {
     "iopub.execute_input": "2022-03-22T20:24:22.457102Z",
     "iopub.status.busy": "2022-03-22T20:24:22.456721Z",
     "iopub.status.idle": "2022-03-22T20:24:22.476847Z",
     "shell.execute_reply": "2022-03-22T20:24:22.476138Z"
    },
    "papermill": {
     "duration": 0.047526,
     "end_time": "2022-03-22T20:24:22.477000",
     "exception": false,
     "start_time": "2022-03-22T20:24:22.429474",
     "status": "completed"
    },
    "tags": []
   },
   "outputs": [],
   "source": [
    "###################################\n",
    "# Build the dataset\n",
    "###################################\n",
    "train_original_source = Iterable_Aggregator(train_original_source, p.seed)\n",
    "val_original_source = Iterable_Aggregator(val_original_source, p.seed)\n",
    "test_original_source = Iterable_Aggregator(test_original_source, p.seed)\n",
    "\n",
    "\n",
    "train_original_target = Iterable_Aggregator(train_original_target, p.seed)\n",
    "val_original_target = Iterable_Aggregator(val_original_target, p.seed)\n",
    "test_original_target = Iterable_Aggregator(test_original_target, p.seed)\n",
    "\n",
    "# For CNN We only use X and Y. And we only train on the source.\n",
    "# Properly form the data using a transform lambda and Lazy_Iterable_Wrapper. Finally wrap them in a dataloader\n",
    "\n",
    "transform_lambda = lambda ex: ex[1] # Original is (<domain>, <episode>) so we strip down to episode only\n",
    "\n",
    "train_processed_source = Lazy_Iterable_Wrapper(train_original_source, transform_lambda)\n",
    "val_processed_source   = Lazy_Iterable_Wrapper(val_original_source, transform_lambda)\n",
    "test_processed_source  = Lazy_Iterable_Wrapper(test_original_source, transform_lambda)\n",
    "\n",
    "train_processed_target = Lazy_Iterable_Wrapper(train_original_target, transform_lambda)\n",
    "val_processed_target   = Lazy_Iterable_Wrapper(val_original_target, transform_lambda)\n",
    "test_processed_target  = Lazy_Iterable_Wrapper(test_original_target, transform_lambda)\n",
    "\n",
    "datasets = EasyDict({\n",
    "    \"source\": {\n",
    "        \"original\": {\"train\":train_original_source, \"val\":val_original_source, \"test\":test_original_source},\n",
    "        \"processed\": {\"train\":train_processed_source, \"val\":val_processed_source, \"test\":test_processed_source}\n",
    "    },\n",
    "    \"target\": {\n",
    "        \"original\": {\"train\":train_original_target, \"val\":val_original_target, \"test\":test_original_target},\n",
    "        \"processed\": {\"train\":train_processed_target, \"val\":val_processed_target, \"test\":test_processed_target}\n",
    "    },\n",
    "})"
   ]
  },
  {
   "cell_type": "code",
   "execution_count": 20,
   "id": "5b3c01fc",
   "metadata": {
    "execution": {
     "iopub.execute_input": "2022-03-22T20:24:22.533989Z",
     "iopub.status.busy": "2022-03-22T20:24:22.533620Z",
     "iopub.status.idle": "2022-03-22T20:24:37.437173Z",
     "shell.execute_reply": "2022-03-22T20:24:37.436320Z"
    },
    "papermill": {
     "duration": 14.930712,
     "end_time": "2022-03-22T20:24:37.437357",
     "exception": false,
     "start_time": "2022-03-22T20:24:22.506645",
     "status": "completed"
    },
    "tags": []
   },
   "outputs": [
    {
     "name": "stdout",
     "output_type": "stream",
     "text": [
      "{'Wisig_3', 'Wisig_4', 'Wisig_1', 'Wisig_2'}\n"
     ]
    },
    {
     "name": "stdout",
     "output_type": "stream",
     "text": [
      "{'ORACLE.run132', 'ORACLE.run150', 'ORACLE.run126', 'ORACLE.run114', 'ORACLE.run120', 'ORACLE.run18', 'ORACLE.run144', 'ORACLE.run138'}\n"
     ]
    },
    {
     "name": "stdout",
     "output_type": "stream",
     "text": [
      "tensor([[[-0.4531,  1.2046,  0.5952,  ...,  0.3947,  1.1178,  1.4620],\n",
      "         [-0.8147, -0.8478,  1.0041,  ..., -0.9410, -1.1194,  0.2763]],\n",
      "\n",
      "        [[-1.4549, -1.8942,  0.0950,  ..., -0.2913, -0.4206, -0.1947],\n",
      "         [ 0.2742, -1.3536, -1.0359,  ..., -0.0841, -0.6636, -0.5935]],\n",
      "\n",
      "        [[ 0.1590, -1.2656, -0.6832,  ...,  0.9303, -0.6234, -0.7052],\n",
      "         [ 1.2688,  0.1763, -0.9902,  ...,  1.3790,  1.1397, -0.2928]],\n",
      "\n",
      "        ...,\n",
      "\n",
      "        [[-0.1093, -0.7934, -0.3406,  ..., -1.1716, -0.7290,  0.7570],\n",
      "         [ 0.5998, -0.3104, -0.8515,  ...,  0.4727, -1.2505, -1.2749]],\n",
      "\n",
      "        [[ 0.4837, -1.0753,  0.0759,  ..., -0.8740, -0.7751,  0.9966],\n",
      "         [ 0.7901, -0.0910, -1.3330,  ...,  0.3620, -1.0774, -1.1377]],\n",
      "\n",
      "        [[-0.7524,  0.8484,  0.0327,  ...,  0.9679,  0.8704, -0.6266],\n",
      "         [-0.5404, -0.0853,  1.3781,  ..., -0.6410,  1.1181,  1.3735]]])\n"
     ]
    }
   ],
   "source": [
    "from steves_utils.transforms import get_average_magnitude, get_average_power\n",
    "\n",
    "print(set([u for u,_ in val_original_source]))\n",
    "print(set([u for u,_ in val_original_target]))\n",
    "\n",
    "s_x, s_y, q_x, q_y, _ = next(iter(train_processed_source))\n",
    "print(s_x)\n",
    "\n",
    "# for ds in [\n",
    "#     train_processed_source,\n",
    "#     val_processed_source,\n",
    "#     test_processed_source,\n",
    "#     train_processed_target,\n",
    "#     val_processed_target,\n",
    "#     test_processed_target\n",
    "# ]:\n",
    "#     for s_x, s_y, q_x, q_y, _ in ds:\n",
    "#         for X in (s_x, q_x):\n",
    "#             for x in X:\n",
    "#                 assert np.isclose(get_average_magnitude(x.numpy()), 1.0)\n",
    "#                 assert np.isclose(get_average_power(x.numpy()), 1.0)\n",
    "                "
   ]
  },
  {
   "cell_type": "code",
   "execution_count": 21,
   "id": "bbdacba1",
   "metadata": {
    "execution": {
     "iopub.execute_input": "2022-03-22T20:24:37.491584Z",
     "iopub.status.busy": "2022-03-22T20:24:37.491011Z",
     "iopub.status.idle": "2022-03-22T20:24:37.665764Z",
     "shell.execute_reply": "2022-03-22T20:24:37.665354Z"
    },
    "papermill": {
     "duration": 0.202382,
     "end_time": "2022-03-22T20:24:37.665894",
     "exception": false,
     "start_time": "2022-03-22T20:24:37.463512",
     "status": "completed"
    },
    "tags": []
   },
   "outputs": [
    {
     "name": "stdout",
     "output_type": "stream",
     "text": [
      "(2, 256)\n"
     ]
    }
   ],
   "source": [
    "###################################\n",
    "# Build the model\n",
    "###################################\n",
    "# easfsl only wants a tuple for the shape\n",
    "model = Steves_Prototypical_Network(x_net, device=p.device, x_shape=tuple(p.x_shape))\n",
    "optimizer = Adam(params=model.parameters(), lr=p.lr)"
   ]
  },
  {
   "cell_type": "code",
   "execution_count": 22,
   "id": "22b39ac5",
   "metadata": {
    "execution": {
     "iopub.execute_input": "2022-03-22T20:24:37.729287Z",
     "iopub.status.busy": "2022-03-22T20:24:37.728465Z",
     "iopub.status.idle": "2022-03-22T20:38:02.988386Z",
     "shell.execute_reply": "2022-03-22T20:38:02.988055Z"
    },
    "papermill": {
     "duration": 805.298499,
     "end_time": "2022-03-22T20:38:02.988470",
     "exception": false,
     "start_time": "2022-03-22T20:24:37.689971",
     "status": "completed"
    },
    "tags": []
   },
   "outputs": [
    {
     "name": "stdout",
     "output_type": "stream",
     "text": [
      "epoch: 1, [batch: 1 / 6847], examples_per_second: 31.0822, train_label_loss: 2.6035, \n"
     ]
    },
    {
     "name": "stdout",
     "output_type": "stream",
     "text": [
      "epoch: 1, [batch: 685 / 6847], examples_per_second: 3920.1535, train_label_loss: 0.3129, \n"
     ]
    },
    {
     "name": "stdout",
     "output_type": "stream",
     "text": [
      "epoch: 1, [batch: 1370 / 6847], examples_per_second: 4032.8706, train_label_loss: 0.1222, \n"
     ]
    },
    {
     "name": "stdout",
     "output_type": "stream",
     "text": [
      "epoch: 1, [batch: 2054 / 6847], examples_per_second: 3911.7214, train_label_loss: 0.0169, \n"
     ]
    },
    {
     "name": "stdout",
     "output_type": "stream",
     "text": [
      "epoch: 1, [batch: 2739 / 6847], examples_per_second: 3877.0997, train_label_loss: 0.1515, \n"
     ]
    },
    {
     "name": "stdout",
     "output_type": "stream",
     "text": [
      "epoch: 1, [batch: 3424 / 6847], examples_per_second: 3901.7791, train_label_loss: 0.0804, \n"
     ]
    },
    {
     "name": "stdout",
     "output_type": "stream",
     "text": [
      "epoch: 1, [batch: 4108 / 6847], examples_per_second: 3985.5508, train_label_loss: 0.3287, \n"
     ]
    },
    {
     "name": "stdout",
     "output_type": "stream",
     "text": [
      "epoch: 1, [batch: 4793 / 6847], examples_per_second: 4153.9080, train_label_loss: 0.2039, \n"
     ]
    },
    {
     "name": "stdout",
     "output_type": "stream",
     "text": [
      "epoch: 1, [batch: 5477 / 6847], examples_per_second: 4271.2590, train_label_loss: 0.1574, \n"
     ]
    },
    {
     "name": "stdout",
     "output_type": "stream",
     "text": [
      "epoch: 1, [batch: 6162 / 6847], examples_per_second: 4260.3913, train_label_loss: 0.2886, \n"
     ]
    },
    {
     "name": "stdout",
     "output_type": "stream",
     "text": [
      "=============================================================\n",
      "epoch: 1, source_val_acc_label: 0.9622, target_val_acc_label: 0.1072, source_val_label_loss: 0.1669, target_val_label_loss: 2.7286, \n",
      "=============================================================\n"
     ]
    },
    {
     "name": "stdout",
     "output_type": "stream",
     "text": [
      "New best\n"
     ]
    },
    {
     "name": "stdout",
     "output_type": "stream",
     "text": [
      "epoch: 2, [batch: 1 / 6860], examples_per_second: 4.4195, train_label_loss: 0.3272, \n"
     ]
    },
    {
     "name": "stdout",
     "output_type": "stream",
     "text": [
      "epoch: 2, [batch: 686 / 6860], examples_per_second: 3814.6111, train_label_loss: 0.2261, \n"
     ]
    },
    {
     "name": "stdout",
     "output_type": "stream",
     "text": [
      "epoch: 2, [batch: 1372 / 6860], examples_per_second: 3860.0645, train_label_loss: 0.4729, \n"
     ]
    },
    {
     "name": "stdout",
     "output_type": "stream",
     "text": [
      "epoch: 2, [batch: 2058 / 6860], examples_per_second: 3981.3248, train_label_loss: 0.2370, \n"
     ]
    },
    {
     "name": "stdout",
     "output_type": "stream",
     "text": [
      "epoch: 2, [batch: 2744 / 6860], examples_per_second: 3916.4559, train_label_loss: 0.0183, \n"
     ]
    },
    {
     "name": "stdout",
     "output_type": "stream",
     "text": [
      "epoch: 2, [batch: 3430 / 6860], examples_per_second: 3895.2107, train_label_loss: 0.0058, \n"
     ]
    },
    {
     "name": "stdout",
     "output_type": "stream",
     "text": [
      "epoch: 2, [batch: 4116 / 6860], examples_per_second: 3937.9794, train_label_loss: 0.1511, \n"
     ]
    },
    {
     "name": "stdout",
     "output_type": "stream",
     "text": [
      "epoch: 2, [batch: 4802 / 6860], examples_per_second: 3826.6132, train_label_loss: 0.3714, \n"
     ]
    },
    {
     "name": "stdout",
     "output_type": "stream",
     "text": [
      "epoch: 2, [batch: 5488 / 6860], examples_per_second: 3819.9063, train_label_loss: 0.0051, \n"
     ]
    },
    {
     "name": "stdout",
     "output_type": "stream",
     "text": [
      "epoch: 2, [batch: 6174 / 6860], examples_per_second: 3952.8222, train_label_loss: 0.0208, \n"
     ]
    },
    {
     "name": "stdout",
     "output_type": "stream",
     "text": [
      "=============================================================\n",
      "epoch: 2, source_val_acc_label: 0.9710, target_val_acc_label: 0.1004, source_val_label_loss: 0.1233, target_val_label_loss: 2.7511, \n",
      "=============================================================\n"
     ]
    },
    {
     "name": "stdout",
     "output_type": "stream",
     "text": [
      "epoch: 3, [batch: 1 / 6849], examples_per_second: 4.2502, train_label_loss: 0.0324, \n"
     ]
    },
    {
     "name": "stdout",
     "output_type": "stream",
     "text": [
      "epoch: 3, [batch: 685 / 6849], examples_per_second: 4164.6739, train_label_loss: 0.0226, \n"
     ]
    },
    {
     "name": "stdout",
     "output_type": "stream",
     "text": [
      "epoch: 3, [batch: 1370 / 6849], examples_per_second: 4810.3017, train_label_loss: 0.0949, \n"
     ]
    },
    {
     "name": "stdout",
     "output_type": "stream",
     "text": [
      "epoch: 3, [batch: 2055 / 6849], examples_per_second: 3847.6413, train_label_loss: 0.0021, \n"
     ]
    },
    {
     "name": "stdout",
     "output_type": "stream",
     "text": [
      "epoch: 3, [batch: 2740 / 6849], examples_per_second: 3838.1223, train_label_loss: 0.0066, \n"
     ]
    },
    {
     "name": "stdout",
     "output_type": "stream",
     "text": [
      "epoch: 3, [batch: 3425 / 6849], examples_per_second: 3876.6380, train_label_loss: 0.1725, \n"
     ]
    },
    {
     "name": "stdout",
     "output_type": "stream",
     "text": [
      "epoch: 3, [batch: 4109 / 6849], examples_per_second: 3813.4154, train_label_loss: 0.1488, \n"
     ]
    },
    {
     "name": "stdout",
     "output_type": "stream",
     "text": [
      "epoch: 3, [batch: 4794 / 6849], examples_per_second: 3855.7247, train_label_loss: 0.0291, \n"
     ]
    },
    {
     "name": "stdout",
     "output_type": "stream",
     "text": [
      "epoch: 3, [batch: 5479 / 6849], examples_per_second: 3922.2608, train_label_loss: 0.0056, \n"
     ]
    },
    {
     "name": "stdout",
     "output_type": "stream",
     "text": [
      "epoch: 3, [batch: 6164 / 6849], examples_per_second: 3822.0098, train_label_loss: 0.0029, \n"
     ]
    },
    {
     "name": "stdout",
     "output_type": "stream",
     "text": [
      "=============================================================\n",
      "epoch: 3, source_val_acc_label: 0.9725, target_val_acc_label: 0.1068, source_val_label_loss: 0.1171, target_val_label_loss: 2.7373, \n",
      "=============================================================\n"
     ]
    },
    {
     "name": "stdout",
     "output_type": "stream",
     "text": [
      "epoch: 4, [batch: 1 / 6845], examples_per_second: 3.9642, train_label_loss: 0.1740, \n"
     ]
    },
    {
     "name": "stdout",
     "output_type": "stream",
     "text": [
      "epoch: 4, [batch: 685 / 6845], examples_per_second: 4140.7375, train_label_loss: 0.0681, \n"
     ]
    },
    {
     "name": "stdout",
     "output_type": "stream",
     "text": [
      "epoch: 4, [batch: 1369 / 6845], examples_per_second: 4218.8134, train_label_loss: 0.0624, \n"
     ]
    },
    {
     "name": "stdout",
     "output_type": "stream",
     "text": [
      "epoch: 4, [batch: 2054 / 6845], examples_per_second: 4356.3876, train_label_loss: 0.0020, \n"
     ]
    },
    {
     "name": "stdout",
     "output_type": "stream",
     "text": [
      "epoch: 4, [batch: 2738 / 6845], examples_per_second: 4564.4459, train_label_loss: 0.0606, \n"
     ]
    },
    {
     "name": "stdout",
     "output_type": "stream",
     "text": [
      "epoch: 4, [batch: 3423 / 6845], examples_per_second: 4533.6233, train_label_loss: 0.0047, \n"
     ]
    },
    {
     "name": "stdout",
     "output_type": "stream",
     "text": [
      "epoch: 4, [batch: 4107 / 6845], examples_per_second: 3984.9888, train_label_loss: 0.0038, \n"
     ]
    },
    {
     "name": "stdout",
     "output_type": "stream",
     "text": [
      "epoch: 4, [batch: 4791 / 6845], examples_per_second: 3960.5084, train_label_loss: 0.0026, \n"
     ]
    },
    {
     "name": "stdout",
     "output_type": "stream",
     "text": [
      "epoch: 4, [batch: 5476 / 6845], examples_per_second: 3938.5986, train_label_loss: 0.0957, \n"
     ]
    },
    {
     "name": "stdout",
     "output_type": "stream",
     "text": [
      "epoch: 4, [batch: 6160 / 6845], examples_per_second: 3896.1571, train_label_loss: 0.0009, \n"
     ]
    },
    {
     "name": "stdout",
     "output_type": "stream",
     "text": [
      "=============================================================\n",
      "epoch: 4, source_val_acc_label: 0.9724, target_val_acc_label: 0.1029, source_val_label_loss: 0.1166, target_val_label_loss: 2.7753, \n",
      "=============================================================\n"
     ]
    },
    {
     "name": "stdout",
     "output_type": "stream",
     "text": [
      "epoch: 5, [batch: 1 / 6835], examples_per_second: 3.8485, train_label_loss: 0.0136, \n"
     ]
    },
    {
     "name": "stdout",
     "output_type": "stream",
     "text": [
      "epoch: 5, [batch: 684 / 6835], examples_per_second: 3814.2760, train_label_loss: 0.0062, \n"
     ]
    },
    {
     "name": "stdout",
     "output_type": "stream",
     "text": [
      "epoch: 5, [batch: 1367 / 6835], examples_per_second: 4026.6561, train_label_loss: 0.0032, \n"
     ]
    },
    {
     "name": "stdout",
     "output_type": "stream",
     "text": [
      "epoch: 5, [batch: 2051 / 6835], examples_per_second: 4307.1932, train_label_loss: 0.1192, \n"
     ]
    },
    {
     "name": "stdout",
     "output_type": "stream",
     "text": [
      "epoch: 5, [batch: 2734 / 6835], examples_per_second: 4300.7519, train_label_loss: 0.2355, \n"
     ]
    },
    {
     "name": "stdout",
     "output_type": "stream",
     "text": [
      "epoch: 5, [batch: 3418 / 6835], examples_per_second: 4358.4365, train_label_loss: 0.1273, \n"
     ]
    },
    {
     "name": "stdout",
     "output_type": "stream",
     "text": [
      "epoch: 5, [batch: 4101 / 6835], examples_per_second: 4374.3439, train_label_loss: 0.0101, \n"
     ]
    },
    {
     "name": "stdout",
     "output_type": "stream",
     "text": [
      "epoch: 5, [batch: 4784 / 6835], examples_per_second: 4797.9577, train_label_loss: 0.0193, \n"
     ]
    },
    {
     "name": "stdout",
     "output_type": "stream",
     "text": [
      "epoch: 5, [batch: 5468 / 6835], examples_per_second: 4218.2808, train_label_loss: 0.0058, \n"
     ]
    },
    {
     "name": "stdout",
     "output_type": "stream",
     "text": [
      "epoch: 5, [batch: 6151 / 6835], examples_per_second: 4085.9692, train_label_loss: 0.0017, \n"
     ]
    },
    {
     "name": "stdout",
     "output_type": "stream",
     "text": [
      "=============================================================\n",
      "epoch: 5, source_val_acc_label: 0.9740, target_val_acc_label: 0.0934, source_val_label_loss: 0.1188, target_val_label_loss: 2.8655, \n",
      "=============================================================\n"
     ]
    },
    {
     "name": "stdout",
     "output_type": "stream",
     "text": [
      "Patience (3) exhausted\n"
     ]
    }
   ],
   "source": [
    "###################################\n",
    "# train\n",
    "###################################\n",
    "jig = PTN_Train_Eval_Test_Jig(model, p.BEST_MODEL_PATH, p.device)\n",
    "\n",
    "jig.train(\n",
    "    train_iterable=datasets.source.processed.train,\n",
    "    source_val_iterable=datasets.source.processed.val,\n",
    "    target_val_iterable=datasets.target.processed.val,\n",
    "    num_epochs=p.n_epoch,\n",
    "    num_logs_per_epoch=p.NUM_LOGS_PER_EPOCH,\n",
    "    patience=p.patience,\n",
    "    optimizer=optimizer,\n",
    "    criteria_for_best=p.criteria_for_best,\n",
    ")"
   ]
  },
  {
   "cell_type": "code",
   "execution_count": 23,
   "id": "31e8fabf",
   "metadata": {
    "execution": {
     "iopub.execute_input": "2022-03-22T20:38:03.067511Z",
     "iopub.status.busy": "2022-03-22T20:38:03.067139Z",
     "iopub.status.idle": "2022-03-22T20:38:03.099247Z",
     "shell.execute_reply": "2022-03-22T20:38:03.098548Z"
    },
    "papermill": {
     "duration": 0.073797,
     "end_time": "2022-03-22T20:38:03.099401",
     "exception": false,
     "start_time": "2022-03-22T20:38:03.025604",
     "status": "completed"
    },
    "tags": []
   },
   "outputs": [],
   "source": [
    "total_experiment_time_secs = time.time() - start_time_secs"
   ]
  },
  {
   "cell_type": "code",
   "execution_count": 24,
   "id": "87b9595b",
   "metadata": {
    "execution": {
     "iopub.execute_input": "2022-03-22T20:38:03.187146Z",
     "iopub.status.busy": "2022-03-22T20:38:03.186566Z",
     "iopub.status.idle": "2022-03-22T20:40:53.103792Z",
     "shell.execute_reply": "2022-03-22T20:40:53.103039Z"
    },
    "papermill": {
     "duration": 169.960295,
     "end_time": "2022-03-22T20:40:53.103980",
     "exception": false,
     "start_time": "2022-03-22T20:38:03.143685",
     "status": "completed"
    },
    "tags": []
   },
   "outputs": [],
   "source": [
    "###################################\n",
    "# Evaluate the model\n",
    "###################################\n",
    "source_test_label_accuracy, source_test_label_loss = jig.test(datasets.source.processed.test)\n",
    "target_test_label_accuracy, target_test_label_loss = jig.test(datasets.target.processed.test)\n",
    "\n",
    "source_val_label_accuracy, source_val_label_loss = jig.test(datasets.source.processed.val)\n",
    "target_val_label_accuracy, target_val_label_loss = jig.test(datasets.target.processed.val)\n",
    "\n",
    "history = jig.get_history()\n",
    "\n",
    "total_epochs_trained = len(history[\"epoch_indices\"])\n",
    "\n",
    "val_dl = Iterable_Aggregator((datasets.source.original.val,datasets.target.original.val))\n",
    "\n",
    "confusion = ptn_confusion_by_domain_over_dataloader(model, p.device, val_dl)\n",
    "per_domain_accuracy = per_domain_accuracy_from_confusion(confusion)\n",
    "\n",
    "# Add a key to per_domain_accuracy for if it was a source domain\n",
    "for domain, accuracy in per_domain_accuracy.items():\n",
    "    per_domain_accuracy[domain] = {\n",
    "        \"accuracy\": accuracy,\n",
    "        \"source?\": domain in p.domains_source\n",
    "    }\n",
    "\n",
    "# Do an independent accuracy assesment JUST TO BE SURE!\n",
    "# _source_test_label_accuracy = independent_accuracy_assesment(model, datasets.source.processed.test, p.device)\n",
    "# _target_test_label_accuracy = independent_accuracy_assesment(model, datasets.target.processed.test, p.device)\n",
    "# _source_val_label_accuracy = independent_accuracy_assesment(model, datasets.source.processed.val, p.device)\n",
    "# _target_val_label_accuracy = independent_accuracy_assesment(model, datasets.target.processed.val, p.device)\n",
    "\n",
    "# assert(_source_test_label_accuracy == source_test_label_accuracy)\n",
    "# assert(_target_test_label_accuracy == target_test_label_accuracy)\n",
    "# assert(_source_val_label_accuracy == source_val_label_accuracy)\n",
    "# assert(_target_val_label_accuracy == target_val_label_accuracy)\n",
    "\n",
    "experiment = {\n",
    "    \"experiment_name\": p.experiment_name,\n",
    "    \"parameters\": dict(p),\n",
    "    \"results\": {\n",
    "        \"source_test_label_accuracy\": source_test_label_accuracy,\n",
    "        \"source_test_label_loss\": source_test_label_loss,\n",
    "        \"target_test_label_accuracy\": target_test_label_accuracy,\n",
    "        \"target_test_label_loss\": target_test_label_loss,\n",
    "        \"source_val_label_accuracy\": source_val_label_accuracy,\n",
    "        \"source_val_label_loss\": source_val_label_loss,\n",
    "        \"target_val_label_accuracy\": target_val_label_accuracy,\n",
    "        \"target_val_label_loss\": target_val_label_loss,\n",
    "        \"total_epochs_trained\": total_epochs_trained,\n",
    "        \"total_experiment_time_secs\": total_experiment_time_secs,\n",
    "        \"confusion\": confusion,\n",
    "        \"per_domain_accuracy\": per_domain_accuracy,\n",
    "    },\n",
    "    \"history\": history,\n",
    "    \"dataset_metrics\": get_dataset_metrics(datasets, \"ptn\"),\n",
    "}"
   ]
  },
  {
   "cell_type": "code",
   "execution_count": 25,
   "id": "54a21829",
   "metadata": {
    "execution": {
     "iopub.execute_input": "2022-03-22T20:40:53.192386Z",
     "iopub.status.busy": "2022-03-22T20:40:53.191773Z",
     "iopub.status.idle": "2022-03-22T20:40:53.407349Z",
     "shell.execute_reply": "2022-03-22T20:40:53.407883Z"
    },
    "papermill": {
     "duration": 0.258204,
     "end_time": "2022-03-22T20:40:53.408053",
     "exception": false,
     "start_time": "2022-03-22T20:40:53.149849",
     "status": "completed"
    },
    "tags": []
   },
   "outputs": [
    {
     "data": {
      "image/png": "[encoded data removed]",
      "text/plain": [
       "<Figure size 1080x504 with 1 Axes>"
      ]
     },
     "metadata": {
      "needs_background": "light"
     },
     "output_type": "display_data"
    }
   ],
   "source": [
    "ax = get_loss_curve(experiment)\n",
    "plt.show()"
   ]
  },
  {
   "cell_type": "code",
   "execution_count": 26,
   "id": "fd8a0f60",
   "metadata": {
    "execution": {
     "iopub.execute_input": "2022-03-22T20:40:53.498858Z",
     "iopub.status.busy": "2022-03-22T20:40:53.498266Z",
     "iopub.status.idle": "2022-03-22T20:40:53.875033Z",
     "shell.execute_reply": "2022-03-22T20:40:53.875753Z"
    },
    "papermill": {
     "duration": 0.420246,
     "end_time": "2022-03-22T20:40:53.875984",
     "exception": false,
     "start_time": "2022-03-22T20:40:53.455738",
     "status": "completed"
    },
    "tags": []
   },
   "outputs": [
    {
     "data": {
      "text/plain": [
       "<AxesSubplot:title={'center':'Results'}>"
      ]
     },
     "execution_count": 26,
     "metadata": {},
     "output_type": "execute_result"
    },
    {
     "data": {
      "image/png": "[encoded data removed]",
      "text/plain": [
       "<Figure size 1080x504 with 1 Axes>"
      ]
     },
     "metadata": {
      "needs_background": "light"
     },
     "output_type": "display_data"
    }
   ],
   "source": [
    "get_results_table(experiment)"
   ]
  },
  {
   "cell_type": "code",
   "execution_count": 27,
   "id": "cf8dc689",
   "metadata": {
    "execution": {
     "iopub.execute_input": "2022-03-22T20:40:53.965739Z",
     "iopub.status.busy": "2022-03-22T20:40:53.965356Z",
     "iopub.status.idle": "2022-03-22T20:40:54.213916Z",
     "shell.execute_reply": "2022-03-22T20:40:54.213035Z"
    },
    "papermill": {
     "duration": 0.293799,
     "end_time": "2022-03-22T20:40:54.214104",
     "exception": false,
     "start_time": "2022-03-22T20:40:53.920305",
     "status": "completed"
    },
    "tags": []
   },
   "outputs": [
    {
     "data": {
      "text/plain": [
       "<AxesSubplot:title={'center':'Per Domain Validation Accuracy'}, xlabel='domain'>"
      ]
     },
     "execution_count": 27,
     "metadata": {},
     "output_type": "execute_result"
    },
    {
     "data": {
      "image/png": "[encoded data removed]",
      "text/plain": [
       "<Figure size 1080x504 with 1 Axes>"
      ]
     },
     "metadata": {
      "needs_background": "light"
     },
     "output_type": "display_data"
    }
   ],
   "source": [
    "get_domain_accuracies(experiment)"
   ]
  },
  {
   "cell_type": "code",
   "execution_count": 28,
   "id": "a74ae082",
   "metadata": {
    "execution": {
     "iopub.execute_input": "2022-03-22T20:40:54.326031Z",
     "iopub.status.busy": "2022-03-22T20:40:54.325626Z",
     "iopub.status.idle": "2022-03-22T20:40:54.348000Z",
     "shell.execute_reply": "2022-03-22T20:40:54.348677Z"
    },
    "papermill": {
     "duration": 0.068056,
     "end_time": "2022-03-22T20:40:54.348887",
     "exception": false,
     "start_time": "2022-03-22T20:40:54.280831",
     "status": "completed"
    },
    "tags": []
   },
   "outputs": [
    {
     "name": "stdout",
     "output_type": "stream",
     "text": [
      "Source Test Label Accuracy: 0.9615359730848861 Target Test Label Accuracy: 0.10856119791666667\n",
      "Source Val Label Accuracy: 0.9622423361522199 Target Val Label Accuracy: 0.10719401041666667\n"
     ]
    }
   ],
   "source": [
    "print(\"Source Test Label Accuracy:\", experiment[\"results\"][\"source_test_label_accuracy\"], \"Target Test Label Accuracy:\", experiment[\"results\"][\"target_test_label_accuracy\"])\n",
    "print(\"Source Val Label Accuracy:\", experiment[\"results\"][\"source_val_label_accuracy\"], \"Target Val Label Accuracy:\", experiment[\"results\"][\"target_val_label_accuracy\"])"
   ]
  },
  {
   "cell_type": "code",
   "execution_count": 29,
   "id": "dacca602",
   "metadata": {
    "execution": {
     "iopub.execute_input": "2022-03-22T20:40:54.454665Z",
     "iopub.status.busy": "2022-03-22T20:40:54.454292Z",
     "iopub.status.idle": "2022-03-22T20:40:54.483709Z",
     "shell.execute_reply": "2022-03-22T20:40:54.484393Z"
    },
    "papermill": {
     "duration": 0.077777,
     "end_time": "2022-03-22T20:40:54.484586",
     "exception": false,
     "start_time": "2022-03-22T20:40:54.406809",
     "status": "completed"
    },
    "tags": [
     "experiment_json"
    ]
   },
   "outputs": [
    {
     "data": {
      "text/plain": [
       "'{\"experiment_name\": \"tl_1v2:wisig-oracle.run1.limited\", \"parameters\": {\"experiment_name\": \"tl_1v2:wisig-oracle.run1.limited\", \"device\": \"cuda\", \"lr\": 0.0001, \"n_shot\": 3, \"n_query\": 2, \"train_k_factor\": 3, \"val_k_factor\": 2, \"test_k_factor\": 2, \"torch_default_dtype\": \"torch.float32\", \"n_epoch\": 50, \"patience\": 3, \"criteria_for_best\": \"target_accuracy\", \"x_net\": [{\"class\": \"nnReshape\", \"kargs\": {\"shape\": [-1, 1, 2, 256]}}, {\"class\": \"Conv2d\", \"kargs\": {\"in_channels\": 1, \"out_channels\": 256, \"kernel_size\": [1, 7], \"bias\": false, \"padding\": [0, 3]}}, {\"class\": \"ReLU\", \"kargs\": {\"inplace\": true}}, {\"class\": \"BatchNorm2d\", \"kargs\": {\"num_features\": 256}}, {\"class\": \"Conv2d\", \"kargs\": {\"in_channels\": 256, \"out_channels\": 80, \"kernel_size\": [2, 7], \"bias\": true, \"padding\": [0, 3]}}, {\"class\": \"ReLU\", \"kargs\": {\"inplace\": true}}, {\"class\": \"BatchNorm2d\", \"kargs\": {\"num_features\": 80}}, {\"class\": \"Flatten\", \"kargs\": {}}, {\"class\": \"Linear\", \"kargs\": {\"in_features\": 20480, \"out_features\": 256}}, {\"class\": \"ReLU\", \"kargs\": {\"inplace\": true}}, {\"class\": \"BatchNorm1d\", \"kargs\": {\"num_features\": 256}}, {\"class\": \"Linear\", \"kargs\": {\"in_features\": 256, \"out_features\": 256}}], \"NUM_LOGS_PER_EPOCH\": 10, \"BEST_MODEL_PATH\": \"./best_model.pth\", \"n_way\": 16, \"datasets\": [{\"labels\": [\"1-10\", \"1-12\", \"1-14\", \"1-16\", \"1-18\", \"1-19\", \"1-8\", \"10-11\", \"10-17\", \"10-4\", \"10-7\", \"11-1\", \"11-10\", \"11-19\", \"11-20\", \"11-4\", \"11-7\", \"12-19\", \"12-20\", \"12-7\", \"13-14\", \"13-18\", \"13-19\", \"13-20\", \"13-3\", \"13-7\", \"14-10\", \"14-11\", \"14-12\", \"14-13\", \"14-14\", \"14-19\", \"14-20\", \"14-7\", \"14-8\", \"14-9\", \"15-1\", \"15-19\", \"15-6\", \"16-1\", \"16-16\", \"16-19\", \"16-20\", \"17-10\", \"17-11\", \"18-1\", \"18-10\", \"18-11\", \"18-12\", \"18-13\", \"18-14\", \"18-15\", \"18-16\", \"18-17\", \"18-19\", \"18-2\", \"18-20\", \"18-4\", \"18-5\", \"18-7\", \"18-8\", \"18-9\", \"19-1\", \"19-10\", \"19-11\", \"19-12\", \"19-13\", \"19-14\", \"19-15\", \"19-19\", \"19-2\", \"19-20\", \"19-3\", \"19-4\", \"19-6\", \"19-7\", \"19-8\", \"19-9\", \"2-1\", \"2-13\", \"2-15\", \"2-3\", \"2-4\", \"2-5\", \"2-6\", \"2-7\", \"2-8\", \"20-1\", \"20-12\", \"20-14\", \"20-15\", \"20-16\", \"20-18\", \"20-19\", \"20-20\", \"20-3\", \"20-4\", \"20-5\", \"20-7\", \"20-8\", \"3-1\", \"3-13\", \"3-18\", \"3-2\", \"3-8\", \"4-1\", \"4-10\", \"4-11\", \"5-1\", \"5-5\", \"6-1\", \"6-15\", \"6-6\", \"7-10\", \"7-11\", \"7-12\", \"7-13\", \"7-14\", \"7-7\", \"7-8\", \"7-9\", \"8-1\", \"8-13\", \"8-14\", \"8-18\", \"8-20\", \"8-3\", \"8-8\", \"9-1\", \"9-7\"], \"domains\": [1, 2, 3, 4], \"num_examples_per_domain_per_label\": -1, \"pickle_path\": \"/root/csc500-main/datasets/wisig.node3-19.stratified_ds.2022A.pkl\", \"source_or_target_dataset\": \"source\", \"x_transforms\": [\"unit_mag\"], \"episode_transforms\": [], \"domain_prefix\": \"Wisig_\"}, {\"labels\": [\"3123D52\", \"3123D65\", \"3123D79\", \"3123D80\", \"3123D54\", \"3123D70\", \"3123D7B\", \"3123D89\", \"3123D58\", \"3123D76\", \"3123D7D\", \"3123EFE\", \"3123D64\", \"3123D78\", \"3123D7E\", \"3124E4A\"], \"domains\": [32, 38, 8, 44, 14, 50, 20, 26], \"num_examples_per_domain_per_label\": 2000, \"pickle_path\": \"/root/csc500-main/datasets/oracle.Run1_10kExamples_stratified_ds.2022A.pkl\", \"source_or_target_dataset\": \"target\", \"x_transforms\": [\"unit_mag\"], \"episode_transforms\": [], \"domain_prefix\": \"ORACLE.run1\"}], \"dataset_seed\": 420, \"seed\": 420, \"x_shape\": [2, 256], \"domains_source\": [\"Wisig_1\", \"Wisig_2\", \"Wisig_3\", \"Wisig_4\"], \"domains_target\": [\"ORACLE.run132\", \"ORACLE.run138\", \"ORACLE.run18\", \"ORACLE.run144\", \"ORACLE.run114\", \"ORACLE.run150\", \"ORACLE.run120\", \"ORACLE.run126\"]}, \"results\": {\"source_test_label_accuracy\": 0.9615359730848861, \"source_test_label_loss\": 0.16756756603717804, \"target_test_label_accuracy\": 0.10856119791666667, \"target_test_label_loss\": 2.7271037101745605, \"source_val_label_accuracy\": 0.9622423361522199, \"source_val_label_loss\": 0.16686341166496277, \"target_val_label_accuracy\": 0.10719401041666667, \"target_val_label_loss\": 2.728579044342041, \"total_epochs_trained\": 5, \"total_experiment_time_secs\": 868.1610448360443, \"confusion\": {\"Wisig_3\": {\"110\": {\"110\": 88, \"91\": 1, \"8\": 2, \"11\": 1}, \"1\": {\"1\": 107, \"21\": 1}, \"2\": {\"2\": 24, \"63\": 1, \"26\": 2, \"102\": 1}, \"94\": {\"94\": 80, \"27\": 1, \"70\": 1, \"107\": 1, \"39\": 1}, \"64\": {\"64\": 20}, \"78\": {\"78\": 13, \"4\": 1, \"21\": 2}, \"47\": {\"47\": 11, \"103\": 1}, \"127\": {\"127\": 127, \"26\": 1}, \"89\": {\"89\": 28}, \"79\": {\"79\": 12}, \"22\": {\"22\": 16}, \"117\": {\"117\": 112}, \"49\": {\"49\": 21, \"47\": 1, \"108\": 1, \"82\": 1}, \"14\": {\"14\": 80}, \"103\": {\"103\": 16}, \"123\": {\"123\": 16}, \"98\": {\"98\": 127, \"26\": 1}, \"18\": {\"18\": 108}, \"61\": {\"61\": 16}, \"108\": {\"108\": 122, \"110\": 1, \"70\": 1, \"88\": 1, \"40\": 1}, \"100\": {\"100\": 16}, \"0\": {\"0\": 115, \"8\": 1}, \"107\": {\"107\": 130}, \"58\": {\"58\": 16}, \"8\": {\"8\": 120}, \"85\": {\"85\": 36}, \"31\": {\"31\": 19, \"129\": 1}, \"81\": {\"81\": 32}, \"60\": {\"60\": 16, \"31\": 1, \"70\": 2, \"23\": 2, \"110\": 1, \"78\": 1, \"85\": 1, \"73\": 1, \"116\": 1, \"122\": 2}, \"102\": {\"102\": 116}, \"19\": {\"19\": 30, \"28\": 1, \"128\": 1}, \"23\": {\"60\": 2, \"23\": 23, \"51\": 1, \"67\": 1, \"122\": 1, \"17\": 2, \"123\": 1, \"97\": 1}, \"32\": {\"32\": 27, \"66\": 1, \"14\": 1, \"107\": 1, \"11\": 2}, \"39\": {\"39\": 104, \"126\": 2, \"113\": 1, \"2\": 1}, \"129\": {\"129\": 32}, \"71\": {\"71\": 67, \"84\": 1}, \"91\": {\"91\": 20, \"32\": 1, \"58\": 1, \"6\": 1, \"70\": 1}, \"101\": {\"101\": 50, \"21\": 1, \"113\": 1}, \"62\": {\"62\": 120, \"3\": 1, \"118\": 1}, \"63\": {\"63\": 16}, \"125\": {\"125\": 117, \"69\": 1, \"105\": 1, \"4\": 1}, \"57\": {\"57\": 20}, \"28\": {\"28\": 16}, \"70\": {\"70\": 59, \"73\": 1, \"43\": 1, \"21\": 1, \"102\": 1, \"30\": 1, \"54\": 1, \"8\": 2, \"105\": 1, \"69\": 2, \"108\": 1, \"94\": 1}, \"99\": {\"99\": 33, \"21\": 1, \"27\": 1, \"42\": 1}, \"121\": {\"121\": 29, \"80\": 1, \"19\": 1, \"81\": 1}, \"4\": {\"4\": 95, \"94\": 1}, \"80\": {\"80\": 16}, \"51\": {\"97\": 1, \"51\": 12, \"82\": 1, \"21\": 1, \"5\": 1}, \"3\": {\"3\": 113, \"78\": 1, \"70\": 1, \"8\": 1}, \"9\": {\"9\": 32}, \"53\": {\"53\": 19, \"9\": 1}, \"30\": {\"30\": 83, \"69\": 1}, \"33\": {\"33\": 122}, \"15\": {\"15\": 101, \"111\": 1, \"106\": 1, \"102\": 1}, \"97\": {\"30\": 1, \"97\": 19}, \"86\": {\"86\": 27, \"84\": 1}, \"20\": {\"20\": 16}, \"66\": {\"66\": 16}, \"10\": {\"10\": 117, \"127\": 1, \"105\": 1, \"9\": 1, \"4\": 1, \"33\": 1}, \"29\": {\"29\": 31, \"9\": 1}, \"109\": {\"109\": 112, \"5\": 1, \"108\": 1}, \"52\": {\"52\": 16}, \"67\": {\"67\": 16}, \"83\": {\"83\": 22, \"121\": 1, \"43\": 1}, \"72\": {\"72\": 28}, \"90\": {\"90\": 124, \"26\": 2}, \"69\": {\"69\": 83, \"92\": 1}, \"88\": {\"88\": 110, \"8\": 1, \"39\": 1}, \"115\": {\"115\": 16}, \"73\": {\"73\": 36, \"22\": 1, \"25\": 1, \"69\": 1, \"89\": 1}, \"34\": {\"34\": 27, \"6\": 2, \"14\": 1, \"124\": 1, \"28\": 1}, \"25\": {\"25\": 16}, \"44\": {\"44\": 71, \"113\": 1}, \"112\": {\"112\": 15, \"97\": 1}, \"37\": {\"37\": 16}, \"77\": {\"77\": 16}, \"111\": {\"111\": 118, \"127\": 3, \"106\": 1}, \"119\": {\"119\": 16}, \"56\": {\"56\": 12}, \"5\": {\"5\": 110, \"102\": 1, \"21\": 1}, \"122\": {\"122\": 57, \"21\": 3}, \"74\": {\"74\": 16}, \"11\": {\"11\": 150, \"107\": 1, \"110\": 1}, \"41\": {\"41\": 16}, \"104\": {\"104\": 16}, \"21\": {\"21\": 46, \"101\": 2}, \"118\": {\"118\": 98, \"6\": 1, \"84\": 1}, \"40\": {\"40\": 121, \"21\": 1}, \"6\": {\"6\": 32}, \"27\": {\"27\": 87, \"24\": 1, \"36\": 7, \"54\": 1}, \"113\": {\"113\": 119, \"43\": 1}, \"68\": {\"68\": 16}, \"12\": {\"12\": 102}, \"54\": {\"54\": 16}, \"24\": {\"24\": 46, \"86\": 1, \"54\": 1}, \"106\": {\"106\": 98, \"87\": 1, \"19\": 1}, \"128\": {\"128\": 31, \"122\": 1}, \"48\": {\"48\": 9, \"65\": 1, \"10\": 1, \"11\": 1, \"79\": 2, \"95\": 2}, \"92\": {\"92\": 32}, \"35\": {\"35\": 10, \"24\": 1, \"27\": 1}, \"116\": {\"116\": 25, \"92\": 1, \"60\": 1, \"82\": 1}, \"38\": {\"38\": 15, \"25\": 1}, \"126\": {\"126\": 122, \"17\": 1, \"39\": 1}, \"46\": {\"46\": 16}, \"120\": {\"120\": 20}, \"7\": {\"7\": 111, \"84\": 1}, \"13\": {\"13\": 6, \"120\": 3, \"11\": 2, \"70\": 1, \"82\": 1, \"122\": 1, \"121\": 1, \"17\": 1}, \"43\": {\"43\": 43, \"33\": 5, \"60\": 1, \"128\": 1, \"84\": 2, \"83\": 1, \"106\": 1, \"102\": 2}, \"93\": {\"93\": 131, \"109\": 1}, \"26\": {\"26\": 131, \"8\": 1}, \"76\": {\"76\": 16}, \"59\": {\"59\": 12}, \"65\": {\"65\": 11, \"64\": 1}, \"87\": {\"87\": 119, \"26\": 1}, \"124\": {\"124\": 122, \"52\": 1, \"11\": 1}, \"84\": {\"84\": 108}, \"82\": {\"82\": 28}, \"75\": {\"75\": 16}, \"17\": {\"10\": 1, \"17\": 8, \"116\": 1, \"104\": 1, \"105\": 2, \"106\": 1, \"6\": 1, \"7\": 1}, \"105\": {\"105\": 124}, \"95\": {\"95\": 32}, \"42\": {\"42\": 23, \"124\": 2, \"88\": 1, \"83\": 2}, \"55\": {\"55\": 16}, \"16\": {\"16\": 115, \"19\": 1}, \"50\": {\"50\": 16}, \"96\": {\"96\": 20}, \"45\": {\"45\": 16}, \"36\": {\"36\": 117, \"27\": 3}, \"114\": {\"114\": 119, \"102\": 1, \"122\": 1, \"39\": 1, \"106\": 1, \"11\": 1}}, \"Wisig_4\": {\"113\": {\"113\": 121, \"126\": 1, \"27\": 1, \"69\": 1}, \"85\": {\"85\": 26, \"36\": 1, \"102\": 1}, \"34\": {\"34\": 26, \"75\": 1, \"47\": 2, \"91\": 2, \"120\": 1}, \"55\": {\"55\": 16}, \"42\": {\"42\": 19, \"20\": 2, \"124\": 1, \"8\": 2, \"34\": 1, \"79\": 2, \"112\": 1}, \"13\": {\"13\": 16}, \"69\": {\"69\": 119, \"70\": 1, \"8\": 1, \"1\": 1, \"78\": 1, \"16\": 1}, \"35\": {\"35\": 12}, \"83\": {\"83\": 26, \"21\": 1, \"88\": 1}, \"51\": {\"34\": 1, \"24\": 1, \"62\": 2, \"51\": 7, \"29\": 2, \"91\": 1, \"20\": 1, \"98\": 1}, \"72\": {\"72\": 32}, \"24\": {\"24\": 115, \"21\": 1, \"10\": 1, \"36\": 3}, \"53\": {\"53\": 15, \"9\": 1}, \"8\": {\"8\": 136, \"5\": 1, \"108\": 1, \"27\": 1, \"1\": 1, \"69\": 2, \"99\": 1, \"21\": 1}, \"49\": {\"49\": 30, \"88\": 1, \"5\": 1}, \"21\": {\"21\": 39, \"23\": 1}, \"18\": {\"18\": 118, \"24\": 1, \"84\": 1}, \"114\": {\"114\": 116, \"88\": 1, \"3\": 1}, \"58\": {\"58\": 15, \"31\": 1}, \"56\": {\"56\": 12}, \"80\": {\"80\": 16}, \"11\": {\"11\": 153, \"40\": 1}, \"15\": {\"15\": 121, \"105\": 1, \"10\": 2, \"40\": 1, \"30\": 1, \"69\": 1, \"12\": 1}, \"50\": {\"50\": 16}, \"111\": {\"111\": 137, \"27\": 1}, \"108\": {\"108\": 80, \"88\": 4, \"122\": 1, \"27\": 1, \"24\": 1, \"129\": 1, \"39\": 2, \"18\": 1, \"16\": 1}, \"104\": {\"104\": 16}, \"32\": {\"32\": 22, \"8\": 1, \"108\": 1, \"107\": 1, \"62\": 1, \"45\": 2}, \"68\": {\"68\": 15, \"51\": 1}, \"73\": {\"73\": 24}, \"92\": {\"92\": 28}, \"57\": {\"57\": 16}, \"40\": {\"40\": 132, \"107\": 1, \"8\": 1, \"122\": 2}, \"71\": {\"71\": 101, \"30\": 1, \"1\": 1, \"69\": 1}, \"121\": {\"121\": 27, \"80\": 1, \"27\": 1, \"90\": 1, \"63\": 1, \"115\": 1}, \"62\": {\"62\": 53, \"122\": 1, \"21\": 2, \"2\": 1, \"41\": 1, \"39\": 1, \"36\": 1}, \"39\": {\"39\": 87, \"88\": 1, \"67\": 1, \"81\": 3, \"126\": 2, \"117\": 1, \"10\": 1, \"113\": 2, \"105\": 1, \"122\": 1}, \"107\": {\"107\": 142, \"122\": 1, \"88\": 1}, \"60\": {\"60\": 29, \"110\": 1, \"50\": 1, \"122\": 1}, \"129\": {\"129\": 24, \"122\": 1, \"21\": 1, \"27\": 1, \"14\": 1}, \"84\": {\"84\": 127, \"88\": 2, \"122\": 1, \"39\": 1, \"118\": 1}, \"106\": {\"106\": 114, \"21\": 1, \"118\": 1}, \"87\": {\"87\": 132}, \"110\": {\"110\": 89, \"78\": 1, \"113\": 1, \"27\": 1, \"36\": 1, \"87\": 1}, \"118\": {\"118\": 107, \"22\": 1, \"62\": 1, \"107\": 1, \"129\": 1, \"40\": 1}, \"64\": {\"64\": 15, \"106\": 1}, \"82\": {\"60\": 1, \"82\": 30, \"17\": 1}, \"7\": {\"7\": 121, \"102\": 1, \"69\": 1, \"24\": 1}, \"0\": {\"0\": 111, \"84\": 1, \"107\": 1, \"21\": 2, \"101\": 1}, \"41\": {\"41\": 14, \"23\": 1, \"21\": 1}, \"102\": {\"102\": 127, \"118\": 1, \"127\": 1, \"19\": 1}, \"89\": {\"89\": 31, \"51\": 1}, \"26\": {\"26\": 125, \"69\": 1, \"40\": 1, \"8\": 1}, \"103\": {\"103\": 15, \"52\": 1}, \"90\": {\"90\": 113, \"66\": 1, \"27\": 1, \"121\": 1, \"117\": 1, \"88\": 1}, \"14\": {\"14\": 111, \"89\": 1}, \"9\": {\"9\": 28}, \"5\": {\"5\": 133, \"113\": 1, \"40\": 2}, \"22\": {\"22\": 16}, \"2\": {\"2\": 25, \"26\": 2, \"93\": 1}, \"77\": {\"77\": 12}, \"59\": {\"59\": 10, \"22\": 1, \"69\": 1}, \"127\": {\"127\": 95, \"23\": 1, \"16\": 1, \"8\": 1, \"105\": 2, \"81\": 1, \"69\": 1}, \"61\": {\"61\": 15, \"35\": 1}, \"17\": {\"17\": 19, \"116\": 1}, \"45\": {\"45\": 16}, \"19\": {\"19\": 28}, \"52\": {\"52\": 19, \"129\": 1}, \"123\": {\"84\": 1, \"123\": 13, \"23\": 1, \"60\": 1}, \"20\": {\"20\": 15, \"31\": 1}, \"112\": {\"112\": 14, \"53\": 1, \"52\": 1}, \"37\": {\"37\": 16}, \"29\": {\"29\": 32}, \"128\": {\"8\": 2, \"128\": 20, \"78\": 1, \"115\": 1}, \"100\": {\"100\": 20}, \"67\": {\"67\": 10, \"123\": 1, \"115\": 1, \"39\": 1, \"2\": 1, \"69\": 2}, \"12\": {\"12\": 96, \"106\": 1, \"122\": 1, \"71\": 1, \"16\": 1}, \"101\": {\"101\": 127, \"33\": 1}, \"76\": {\"76\": 16}, \"70\": {\"70\": 111, \"88\": 6, \"27\": 3, \"98\": 1, \"49\": 2, \"102\": 1}, \"31\": {\"70\": 1, \"31\": 15}, \"86\": {\"86\": 28}, \"88\": {\"70\": 3, \"88\": 126, \"69\": 1, \"94\": 1, \"27\": 1}, \"3\": {\"3\": 123, \"40\": 1, \"122\": 1, \"2\": 1}, \"117\": {\"117\": 117, \"122\": 1, \"107\": 1, \"69\": 1}, \"30\": {\"30\": 71, \"105\": 1, \"10\": 1, \"16\": 1, \"81\": 1, \"114\": 1}, \"96\": {\"96\": 20}, \"27\": {\"27\": 89, \"92\": 1, \"39\": 1, \"108\": 2, \"70\": 1, \"24\": 1, \"84\": 1, \"21\": 1, \"5\": 1, \"102\": 1, \"69\": 1}, \"122\": {\"122\": 84}, \"120\": {\"120\": 19, \"21\": 1}, \"44\": {\"44\": 60, \"121\": 2, \"90\": 1, \"73\": 1}, \"79\": {\"79\": 15, \"122\": 1}, \"105\": {\"105\": 94, \"122\": 1, \"102\": 1, \"87\": 2, \"108\": 1, \"24\": 1}, \"95\": {\"95\": 30, \"21\": 1, \"27\": 1}, \"109\": {\"109\": 111, \"88\": 1, \"14\": 3, \"78\": 1}, \"16\": {\"16\": 115, \"12\": 1, \"114\": 1, \"24\": 1}, \"36\": {\"36\": 89, \"21\": 2, \"24\": 4, \"105\": 1, \"27\": 2}, \"125\": {\"125\": 135, \"39\": 1}, \"97\": {\"36\": 1, \"97\": 17, \"10\": 2}, \"91\": {\"91\": 21, \"84\": 1, \"34\": 1, \"109\": 1}, \"28\": {\"28\": 20}, \"81\": {\"81\": 36}, \"126\": {\"126\": 113, \"69\": 1, \"78\": 1, \"106\": 1, \"107\": 1, \"113\": 1, \"51\": 1, \"39\": 2, \"93\": 1}, \"4\": {\"4\": 98, \"122\": 1, \"39\": 1, \"10\": 1, \"27\": 1, \"110\": 1, \"69\": 1}, \"10\": {\"10\": 120, \"94\": 1, \"30\": 2, \"106\": 1}, \"63\": {\"63\": 16}, \"43\": {\"43\": 117, \"122\": 1}, \"116\": {\"116\": 27, \"99\": 1}, \"1\": {\"1\": 100, \"69\": 1, \"10\": 1, \"110\": 1, \"7\": 1, \"84\": 1, \"70\": 1, \"88\": 1, \"12\": 1}, \"94\": {\"94\": 87, \"40\": 1}, \"38\": {\"38\": 16}, \"54\": {\"54\": 16}, \"74\": {\"74\": 16}, \"25\": {\"25\": 16}, \"75\": {\"75\": 16}, \"119\": {\"119\": 15, \"123\": 1}, \"46\": {\"46\": 18, \"22\": 1, \"122\": 1}, \"23\": {\"21\": 2, \"23\": 8, \"67\": 1, \"1\": 1, \"86\": 1, \"123\": 1, \"102\": 1, \"60\": 1}, \"99\": {\"99\": 40}, \"33\": {\"33\": 116, \"69\": 1, \"24\": 1}, \"47\": {\"47\": 9, \"112\": 1, \"49\": 1, \"27\": 1}, \"115\": {\"87\": 2, \"115\": 11, \"107\": 2, \"34\": 1}, \"6\": {\"85\": 1, \"6\": 21, \"58\": 1, \"122\": 1}, \"65\": {\"65\": 12}, \"66\": {\"66\": 14, \"44\": 2}, \"78\": {\"78\": 30, \"26\": 1, \"88\": 1, \"94\": 1, \"30\": 1, \"122\": 1, \"43\": 1}, \"98\": {\"98\": 116}, \"93\": {\"93\": 115, \"69\": 1}, \"48\": {\"48\": 15, \"62\": 1}, \"124\": {\"124\": 113, \"24\": 1}}, \"Wisig_2\": {\"115\": {\"115\": 12}, \"34\": {\"34\": 30, \"110\": 1, \"52\": 1}, \"97\": {\"97\": 18, \"15\": 1, \"77\": 1}, \"100\": {\"100\": 16}, \"129\": {\"129\": 32}, \"90\": {\"90\": 141, \"98\": 1}, \"125\": {\"125\": 131, \"2\": 1}, \"7\": {\"7\": 125, \"24\": 2, \"26\": 1}, \"92\": {\"92\": 28}, \"114\": {\"114\": 114, \"107\": 1, \"5\": 1}, \"80\": {\"80\": 15, \"83\": 1}, \"16\": {\"16\": 116, \"123\": 1, \"40\": 2, \"24\": 1, \"118\": 1, \"8\": 1}, \"69\": {\"69\": 113, \"24\": 1, \"70\": 1, \"87\": 1}, \"102\": {\"102\": 114}, \"33\": {\"33\": 130}, \"17\": {\"34\": 2, \"17\": 13, \"27\": 1}, \"27\": {\"27\": 60, \"36\": 3, \"24\": 2, \"102\": 1, \"112\": 1, \"94\": 1}, \"117\": {\"117\": 104, \"12\": 1, \"24\": 1}, \"14\": {\"14\": 46, \"80\": 1, \"21\": 1}, \"86\": {\"86\": 32}, \"0\": {\"0\": 113, \"21\": 1, \"69\": 1, \"24\": 1}, \"62\": {\"62\": 135, \"55\": 1, \"23\": 1, \"24\": 1}, \"39\": {\"39\": 105, \"110\": 1, \"78\": 1, \"94\": 2, \"69\": 2, \"70\": 1}, \"19\": {\"19\": 28}, \"44\": {\"44\": 100}, \"104\": {\"104\": 20}, \"3\": {\"3\": 125, \"87\": 1, \"24\": 1, \"62\": 1, \"21\": 1, \"36\": 1}, \"10\": {\"10\": 51, \"62\": 1, \"52\": 1, \"69\": 1, \"21\": 1, \"7\": 1, \"78\": 1, \"87\": 1, \"36\": 1, \"102\": 1}, \"61\": {\"61\": 16, \"51\": 1, \"70\": 1, \"58\": 1, \"80\": 1}, \"111\": {\"111\": 113, \"127\": 1}, \"68\": {\"68\": 16}, \"101\": {\"101\": 141, \"69\": 1, \"0\": 1, \"118\": 1}, \"36\": {\"36\": 121, \"51\": 1, \"18\": 1, \"62\": 1, \"70\": 1, \"73\": 1, \"4\": 1, \"30\": 1}, \"120\": {\"120\": 19, \"65\": 1}, \"103\": {\"103\": 16}, \"47\": {\"47\": 12}, \"98\": {\"98\": 120}, \"76\": {\"76\": 16}, \"88\": {\"88\": 120, \"20\": 1, \"126\": 2, \"27\": 1}, \"93\": {\"93\": 136, \"118\": 1, \"24\": 1}, \"23\": {\"23\": 39, \"54\": 1, \"19\": 1, \"29\": 1, \"60\": 1, \"99\": 1}, \"108\": {\"108\": 123, \"40\": 1}, \"51\": {\"51\": 11, \"106\": 2, \"14\": 1, \"54\": 1, \"41\": 1, \"58\": 1, \"6\": 1, \"39\": 1, \"24\": 1}, \"13\": {\"13\": 13, \"36\": 1, \"27\": 1, \"118\": 1}, \"77\": {\"77\": 16}, \"46\": {\"46\": 16}, \"96\": {\"96\": 20}, \"119\": {\"119\": 19, \"1\": 1}, \"121\": {\"121\": 36}, \"54\": {\"54\": 18, \"28\": 1, \"118\": 1}, \"82\": {\"82\": 35, \"78\": 1}, \"12\": {\"12\": 86, \"62\": 1, \"24\": 1}, \"74\": {\"74\": 15, \"22\": 1}, \"66\": {\"66\": 18, \"24\": 1, \"36\": 1}, \"28\": {\"28\": 20}, \"52\": {\"52\": 18, \"21\": 1, \"110\": 1}, \"41\": {\"41\": 18, \"52\": 1, \"110\": 1}, \"81\": {\"81\": 24}, \"48\": {\"48\": 20}, \"113\": {\"113\": 70, \"49\": 1, \"84\": 1}, \"53\": {\"53\": 16}, \"15\": {\"15\": 115, \"97\": 1, \"9\": 1, \"111\": 2, \"36\": 1}, \"30\": {\"30\": 109, \"24\": 1, \"107\": 1, \"36\": 1}, \"43\": {\"43\": 120, \"21\": 1, \"106\": 1, \"107\": 1, \"94\": 1}, \"29\": {\"29\": 31, \"110\": 1}, \"109\": {\"109\": 95, \"110\": 1, \"120\": 1, \"70\": 1, \"84\": 2}, \"60\": {\"60\": 22, \"122\": 1, \"87\": 1, \"29\": 2, \"36\": 1, \"71\": 1}, \"70\": {\"70\": 113, \"25\": 1, \"69\": 1, \"88\": 1, \"31\": 1, \"49\": 1, \"40\": 1, \"21\": 1, \"84\": 1, \"3\": 1}, \"127\": {\"127\": 121, \"111\": 2, \"16\": 1}, \"32\": {\"32\": 24, \"52\": 2, \"0\": 2, \"72\": 3, \"95\": 1, \"10\": 2, \"62\": 2}, \"73\": {\"73\": 27, \"88\": 1}, \"50\": {\"50\": 13, \"21\": 1, \"62\": 1, \"78\": 1}, \"1\": {\"1\": 119, \"105\": 1, \"12\": 1, \"87\": 1, \"36\": 1, \"26\": 1}, \"106\": {\"106\": 116, \"36\": 3, \"19\": 1}, \"123\": {\"123\": 16}, \"79\": {\"79\": 16}, \"4\": {\"4\": 85, \"94\": 1, \"112\": 1, \"62\": 1}, \"2\": {\"2\": 29, \"117\": 2, \"26\": 1}, \"8\": {\"8\": 124, \"69\": 2, \"12\": 1, \"84\": 1}, \"83\": {\"83\": 40}, \"105\": {\"105\": 129, \"23\": 1}, \"5\": {\"5\": 107, \"82\": 1, \"70\": 2, \"2\": 1, \"94\": 1}, \"99\": {\"99\": 32}, \"25\": {\"25\": 15, \"60\": 1}, \"59\": {\"59\": 14, \"102\": 1, \"69\": 1}, \"42\": {\"42\": 26, \"83\": 1, \"18\": 1}, \"55\": {\"55\": 16}, \"75\": {\"75\": 16}, \"118\": {\"118\": 67, \"69\": 1}, \"95\": {\"95\": 32, \"62\": 1, \"13\": 1, \"40\": 2}, \"122\": {\"122\": 114, \"110\": 2, \"24\": 1, \"12\": 1, \"70\": 1, \"5\": 1}, \"20\": {\"20\": 16}, \"110\": {\"110\": 34, \"34\": 1, \"35\": 1, \"21\": 1, \"24\": 1, \"14\": 1, \"69\": 1}, \"65\": {\"65\": 20}, \"37\": {\"79\": 1, \"37\": 14, \"104\": 1}, \"64\": {\"64\": 16}, \"63\": {\"63\": 19, \"118\": 1}, \"40\": {\"40\": 128, \"129\": 1, \"24\": 1, \"69\": 3, \"87\": 1, \"18\": 1, \"73\": 1, \"71\": 1, \"110\": 1, \"62\": 1, \"4\": 1}, \"21\": {\"21\": 41, \"109\": 1, \"70\": 1, \"82\": 1, \"62\": 1, \"39\": 2, \"78\": 1}, \"11\": {\"11\": 76, \"71\": 1, \"122\": 1, \"47\": 1, \"18\": 1}, \"67\": {\"67\": 16}, \"91\": {\"103\": 1, \"25\": 1, \"91\": 25, \"18\": 1}, \"87\": {\"87\": 104, \"102\": 2, \"13\": 1, \"107\": 1, \"116\": 1, \"39\": 1, \"36\": 1, \"69\": 1}, \"89\": {\"89\": 33, \"83\": 1, \"92\": 1, \"119\": 1}, \"9\": {\"9\": 32}, \"124\": {\"124\": 114}, \"56\": {\"56\": 10, \"12\": 1, \"30\": 1}, \"38\": {\"38\": 16}, \"94\": {\"94\": 57, \"102\": 3, \"26\": 1, \"12\": 1, \"24\": 1, \"39\": 1}, \"6\": {\"6\": 31, \"51\": 1}, \"58\": {\"58\": 19, \"42\": 1}, \"22\": {\"22\": 20}, \"24\": {\"24\": 101, \"118\": 1, \"107\": 1, \"36\": 2, \"70\": 1, \"69\": 4, \"16\": 1, \"109\": 1}, \"57\": {\"57\": 20}, \"112\": {\"112\": 8, \"53\": 1, \"111\": 1, \"49\": 1, \"128\": 2, \"24\": 2, \"94\": 1}, \"116\": {\"116\": 25, \"107\": 1, \"78\": 1, \"70\": 1}, \"18\": {\"18\": 120, \"1\": 1, \"117\": 1, \"94\": 1, \"69\": 1, \"24\": 2, \"70\": 1, \"62\": 1}, \"49\": {\"49\": 18, \"112\": 1, \"129\": 1, \"11\": 1, \"61\": 1, \"21\": 1, \"19\": 1}, \"45\": {\"45\": 16}, \"107\": {\"107\": 54, \"49\": 1, \"16\": 1, \"36\": 2, \"4\": 2, \"62\": 1, \"61\": 1, \"110\": 1, \"87\": 1}, \"35\": {\"35\": 12}, \"78\": {\"78\": 39, \"118\": 1, \"70\": 1, \"84\": 2, \"95\": 1, \"36\": 1, \"21\": 2, \"4\": 1}, \"126\": {\"126\": 120}, \"85\": {\"85\": 32}, \"72\": {\"72\": 27, \"36\": 1}, \"26\": {\"26\": 120, \"70\": 1, \"69\": 1, \"18\": 1, \"71\": 1}, \"84\": {\"84\": 89, \"118\": 1, \"87\": 1, \"2\": 1}, \"128\": {\"128\": 19, \"70\": 1, \"97\": 2, \"101\": 1, \"71\": 1}, \"31\": {\"31\": 20}, \"71\": {\"71\": 98, \"40\": 1, \"11\": 1}}, \"Wisig_1\": {\"22\": {\"22\": 16}, \"58\": {\"58\": 12}, \"109\": {\"109\": 123, \"126\": 1}, \"77\": {\"77\": 16}, \"74\": {\"74\": 16}, \"10\": {\"10\": 113, \"85\": 2, \"0\": 4, \"98\": 1}, \"70\": {\"70\": 124, \"12\": 1, \"106\": 1, \"62\": 1, \"108\": 1}, \"84\": {\"84\": 108}, \"52\": {\"52\": 20}, \"20\": {\"20\": 15, \"102\": 1}, \"14\": {\"14\": 95, \"26\": 1}, \"37\": {\"37\": 16}, \"42\": {\"42\": 22, \"109\": 1, \"2\": 3, \"93\": 1, \"91\": 1}, \"99\": {\"99\": 24}, \"35\": {\"35\": 12}, \"62\": {\"62\": 119, \"26\": 1}, \"61\": {\"61\": 12}, \"7\": {\"7\": 141, \"26\": 1}, \"69\": {\"69\": 101, \"26\": 2, \"36\": 1}, \"55\": {\"55\": 12}, \"41\": {\"41\": 16}, \"120\": {\"120\": 20}, \"123\": {\"123\": 16}, \"97\": {\"97\": 16, \"78\": 1, \"42\": 1, \"102\": 1, \"95\": 1}, \"102\": {\"102\": 119, \"16\": 1}, \"60\": {\"32\": 1, \"120\": 1, \"60\": 5, \"25\": 1, \"13\": 2, \"42\": 2, \"109\": 1, \"55\": 1, \"19\": 1, \"30\": 1}, \"127\": {\"127\": 104, \"4\": 1, \"122\": 2, \"78\": 1}, \"32\": {\"32\": 29, \"4\": 1, \"35\": 1, \"127\": 1}, \"3\": {\"3\": 83, \"43\": 1, \"4\": 1, \"75\": 1, \"0\": 1, \"87\": 1}, \"8\": {\"8\": 122}, \"129\": {\"129\": 25, \"2\": 1, \"23\": 1, \"123\": 1}, \"119\": {\"119\": 16}, \"21\": {\"21\": 36, \"70\": 1, \"78\": 1, \"14\": 1, \"9\": 1}, \"53\": {\"53\": 20}, \"28\": {\"28\": 20}, \"117\": {\"117\": 144}, \"112\": {\"112\": 16}, \"126\": {\"126\": 131, \"109\": 1, \"40\": 1, \"122\": 1}, \"30\": {\"30\": 52}, \"105\": {\"105\": 81, \"102\": 2, \"26\": 1}, \"29\": {\"29\": 28}, \"57\": {\"57\": 12}, \"93\": {\"93\": 137, \"87\": 1, \"4\": 1, \"105\": 1}, \"17\": {\"17\": 15, \"78\": 1}, \"44\": {\"44\": 76}, \"63\": {\"63\": 16}, \"87\": {\"87\": 106, \"69\": 1, \"108\": 1}, \"0\": {\"0\": 83, \"122\": 1}, \"96\": {\"96\": 18, \"91\": 1, \"126\": 1}, \"98\": {\"98\": 108}, \"75\": {\"75\": 16}, \"78\": {\"78\": 12, \"43\": 3, \"21\": 1}, \"116\": {\"116\": 31, \"94\": 1}, \"114\": {\"114\": 126, \"43\": 1, \"94\": 1}, \"103\": {\"103\": 15, \"9\": 1}, \"50\": {\"50\": 16}, \"124\": {\"124\": 128}, \"5\": {\"5\": 86, \"27\": 1, \"39\": 1}, \"73\": {\"73\": 19, \"93\": 1}, \"81\": {\"81\": 28}, \"49\": {\"49\": 14, \"70\": 3, \"30\": 1, \"1\": 1, \"129\": 1}, \"16\": {\"16\": 106, \"102\": 1, \"27\": 1}, \"101\": {\"101\": 124}, \"125\": {\"125\": 118}, \"65\": {\"66\": 1, \"65\": 6, \"45\": 2, \"3\": 1, \"76\": 1, \"115\": 1}, \"66\": {\"66\": 16}, \"79\": {\"79\": 12}, \"39\": {\"39\": 102, \"30\": 1, \"6\": 1}, \"104\": {\"104\": 16}, \"91\": {\"91\": 28}, \"25\": {\"25\": 16}, \"64\": {\"64\": 16}, \"34\": {\"60\": 2, \"34\": 21, \"83\": 1, \"70\": 1, \"6\": 4, \"98\": 1, \"122\": 2}, \"82\": {\"82\": 36}, \"18\": {\"18\": 124}, \"43\": {\"43\": 127, \"6\": 1}, \"47\": {\"47\": 12}, \"108\": {\"108\": 120, \"24\": 2, \"70\": 1, \"69\": 1}, \"111\": {\"111\": 107, \"93\": 1}, \"23\": {\"23\": 15, \"86\": 2, \"110\": 1, \"32\": 1, \"55\": 1, \"104\": 1, \"53\": 1, \"127\": 1, \"40\": 1}, \"90\": {\"90\": 157, \"122\": 1, \"113\": 1, \"102\": 1}, \"4\": {\"4\": 99, \"27\": 1}, \"92\": {\"92\": 28}, \"2\": {\"2\": 25, \"54\": 1, \"11\": 3, \"82\": 2, \"18\": 1}, \"45\": {\"2\": 1, \"45\": 5, \"104\": 2, \"124\": 2, \"102\": 1, \"43\": 1}, \"68\": {\"68\": 16}, \"26\": {\"26\": 128}, \"38\": {\"38\": 16}, \"40\": {\"40\": 141, \"105\": 1}, \"80\": {\"80\": 15, \"23\": 1}, \"107\": {\"107\": 118, \"65\": 1, \"102\": 2, \"69\": 1}, \"94\": {\"94\": 92}, \"115\": {\"115\": 12}, \"46\": {\"46\": 5, \"30\": 1, \"12\": 2, \"62\": 1, \"70\": 2, \"98\": 1}, \"72\": {\"72\": 32}, \"19\": {\"19\": 27, \"128\": 1}, \"100\": {\"100\": 14, \"65\": 1, \"24\": 1}, \"76\": {\"76\": 15, \"88\": 1}, \"106\": {\"106\": 131, \"12\": 1}, \"88\": {\"88\": 128, \"27\": 1, \"36\": 1}, \"15\": {\"15\": 96, \"71\": 1, \"12\": 2, \"27\": 2, \"111\": 2, \"70\": 1}, \"54\": {\"54\": 14, \"60\": 1, \"21\": 1}, \"13\": {\"13\": 16}, \"51\": {\"51\": 16}, \"24\": {\"24\": 90, \"102\": 1, \"108\": 1}, \"48\": {\"48\": 12}, \"85\": {\"85\": 32}, \"33\": {\"33\": 140}, \"71\": {\"71\": 104, \"126\": 1, \"117\": 1, \"6\": 1, \"1\": 1}, \"6\": {\"6\": 31, \"52\": 1}, \"83\": {\"83\": 26, \"69\": 1, \"118\": 1}, \"121\": {\"121\": 31, \"18\": 1}, \"31\": {\"31\": 15, \"122\": 1}, \"67\": {\"45\": 1, \"67\": 15}, \"1\": {\"1\": 135, \"18\": 1}, \"27\": {\"27\": 90, \"107\": 1, \"15\": 1}, \"118\": {\"118\": 82, \"87\": 1, \"103\": 1}, \"56\": {\"56\": 12}, \"36\": {\"36\": 124, \"88\": 3, \"43\": 1}, \"11\": {\"11\": 125, \"88\": 1}, \"110\": {\"110\": 120, \"26\": 1, \"18\": 1}, \"89\": {\"89\": 36}, \"113\": {\"113\": 112, \"6\": 1, \"40\": 1, \"33\": 1, \"69\": 1, \"110\": 1, \"102\": 1}, \"59\": {\"59\": 12}, \"9\": {\"9\": 31, \"26\": 1}, \"86\": {\"86\": 34, \"94\": 1, \"122\": 1}, \"12\": {\"12\": 101, \"69\": 1, \"24\": 1, \"43\": 1}, \"122\": {\"122\": 86, \"26\": 2}, \"128\": {\"128\": 19, \"70\": 2, \"82\": 1, \"83\": 1, \"72\": 1}, \"95\": {\"95\": 35, \"102\": 1}}, \"ORACLE.run114\": {\"15\": {\"7\": 18, \"6\": 17, \"0\": 11, \"14\": 16, \"3\": 13, \"5\": 18, \"2\": 12, \"12\": 6, \"4\": 20, \"15\": 28, \"13\": 23, \"9\": 9, \"11\": 11, \"1\": 18, \"8\": 4, \"10\": 16}, \"5\": {\"8\": 11, \"10\": 18, \"13\": 15, \"11\": 17, \"2\": 23, \"4\": 20, \"3\": 8, \"15\": 17, \"5\": 14, \"0\": 15, \"9\": 10, \"1\": 14, \"12\": 8, \"6\": 19, \"14\": 9, \"7\": 22}, \"7\": {\"3\": 18, \"2\": 10, \"0\": 13, \"10\": 17, \"4\": 15, \"14\": 15, \"7\": 21, \"9\": 11, \"15\": 28, \"12\": 10, \"1\": 19, \"13\": 18, \"5\": 13, \"6\": 14, \"11\": 11, \"8\": 7}, \"4\": {\"0\": 12, \"13\": 24, \"6\": 17, \"4\": 11, \"11\": 12, \"5\": 8, \"7\": 20, \"15\": 20, \"3\": 17, \"10\": 20, \"12\": 13, \"2\": 13, \"9\": 10, \"1\": 20, \"14\": 14, \"8\": 9}, \"10\": {\"15\": 22, \"11\": 26, \"5\": 22, \"13\": 16, \"12\": 12, \"3\": 14, \"10\": 18, \"9\": 16, \"7\": 14, \"4\": 9, \"0\": 17, \"1\": 16, \"2\": 9, \"6\": 10, \"14\": 16, \"8\": 3}, \"11\": {\"9\": 14, \"11\": 21, \"3\": 26, \"12\": 16, \"10\": 16, \"4\": 17, \"5\": 8, \"0\": 15, \"13\": 14, \"8\": 7, \"2\": 13, \"14\": 15, \"15\": 9, \"6\": 17, \"1\": 18, \"7\": 14}, \"12\": {\"8\": 26, \"11\": 29, \"0\": 15, \"5\": 13, \"2\": 9, \"10\": 10, \"4\": 12, \"9\": 34, \"14\": 7, \"1\": 17, \"3\": 15, \"12\": 40, \"6\": 1, \"7\": 6, \"13\": 2, \"15\": 4}, \"0\": {\"9\": 12, \"4\": 17, \"2\": 19, \"10\": 18, \"3\": 17, \"15\": 15, \"12\": 11, \"11\": 15, \"0\": 19, \"6\": 12, \"14\": 14, \"5\": 9, \"7\": 12, \"8\": 13, \"1\": 21, \"13\": 16}, \"14\": {\"3\": 13, \"2\": 19, \"9\": 9, \"6\": 24, \"4\": 14, \"1\": 13, \"7\": 12, \"0\": 14, \"15\": 21, \"14\": 29, \"11\": 11, \"13\": 15, \"10\": 26, \"5\": 14, \"12\": 3, \"8\": 3}, \"8\": {\"8\": 27, \"11\": 10, \"12\": 28, \"7\": 9, \"10\": 13, \"3\": 16, \"1\": 15, \"15\": 16, \"5\": 17, \"4\": 14, \"0\": 20, \"9\": 28, \"13\": 9, \"6\": 5, \"2\": 8, \"14\": 5}, \"13\": {\"7\": 19, \"14\": 21, \"12\": 5, \"1\": 18, \"11\": 18, \"15\": 28, \"10\": 20, \"2\": 13, \"0\": 12, \"13\": 23, \"8\": 3, \"6\": 15, \"4\": 16, \"3\": 8, \"5\": 15, \"9\": 6}, \"6\": {\"2\": 25, \"7\": 20, \"8\": 3, \"6\": 29, \"0\": 16, \"4\": 15, \"10\": 15, \"13\": 14, \"3\": 19, \"5\": 13, \"1\": 11, \"15\": 22, \"11\": 12, \"14\": 20, \"12\": 2, \"9\": 4}, \"1\": {\"0\": 18, \"2\": 17, \"5\": 12, \"4\": 26, \"7\": 17, \"1\": 21, \"6\": 12, \"14\": 13, \"15\": 13, \"10\": 18, \"13\": 16, \"8\": 13, \"11\": 8, \"3\": 19, \"12\": 8, \"9\": 9}, \"3\": {\"6\": 19, \"13\": 15, \"5\": 15, \"7\": 16, \"14\": 10, \"15\": 19, \"10\": 17, \"8\": 20, \"9\": 10, \"3\": 15, \"2\": 18, \"0\": 13, \"1\": 17, \"4\": 12, \"12\": 12, \"11\": 12}, \"9\": {\"7\": 9, \"12\": 32, \"5\": 19, \"14\": 3, \"9\": 37, \"10\": 6, \"4\": 11, \"0\": 17, \"11\": 23, \"1\": 15, \"8\": 23, \"6\": 4, \"15\": 10, \"2\": 12, \"13\": 10, \"3\": 9}, \"2\": {\"7\": 18, \"13\": 19, \"2\": 21, \"9\": 8, \"15\": 25, \"4\": 13, \"6\": 26, \"3\": 19, \"10\": 20, \"14\": 18, \"8\": 4, \"5\": 10, \"12\": 10, \"11\": 8, \"0\": 12, \"1\": 9}}, \"ORACLE.run120\": {\"4\": {\"8\": 21, \"10\": 24, \"14\": 22, \"4\": 15, \"13\": 8, \"0\": 14, \"7\": 18, \"1\": 13, \"5\": 16, \"2\": 18, \"6\": 17, \"15\": 8, \"9\": 11, \"11\": 9, \"3\": 14, \"12\": 12}, \"10\": {\"0\": 12, \"12\": 17, \"11\": 14, \"13\": 14, \"14\": 20, \"9\": 15, \"8\": 17, \"1\": 18, \"5\": 18, \"3\": 12, \"7\": 8, \"4\": 14, \"2\": 17, \"10\": 20, \"6\": 15, \"15\": 9}, \"15\": {\"7\": 19, \"4\": 10, \"9\": 12, \"13\": 20, \"0\": 12, \"10\": 8, \"5\": 17, \"14\": 15, \"3\": 21, \"6\": 10, \"12\": 13, \"2\": 20, \"15\": 13, \"1\": 12, \"8\": 20, \"11\": 18}, \"0\": {\"14\": 10, \"8\": 10, \"7\": 14, \"15\": 28, \"5\": 21, \"3\": 15, \"4\": 9, \"12\": 16, \"0\": 11, \"2\": 16, \"9\": 13, \"10\": 20, \"11\": 15, \"13\": 14, \"1\": 14, \"6\": 14}, \"6\": {\"12\": 17, \"11\": 7, \"6\": 14, \"10\": 24, \"7\": 21, \"9\": 21, \"3\": 13, \"13\": 10, \"8\": 12, \"5\": 13, \"2\": 16, \"4\": 16, \"15\": 10, \"14\": 20, \"0\": 13, \"1\": 13}, \"3\": {\"10\": 18, \"7\": 16, \"12\": 17, \"2\": 17, \"13\": 8, \"11\": 16, \"14\": 17, \"1\": 10, \"4\": 16, \"15\": 20, \"3\": 19, \"9\": 15, \"8\": 9, \"0\": 13, \"5\": 13, \"6\": 16}, \"7\": {\"11\": 14, \"12\": 15, \"15\": 11, \"2\": 16, \"6\": 17, \"7\": 15, \"1\": 12, \"8\": 15, \"3\": 14, \"10\": 15, \"5\": 12, \"4\": 21, \"13\": 18, \"14\": 11, \"0\": 13, \"9\": 21}, \"2\": {\"9\": 23, \"11\": 15, \"14\": 11, \"10\": 11, \"0\": 19, \"1\": 15, \"8\": 15, \"6\": 15, \"7\": 8, \"4\": 16, \"12\": 14, \"13\": 12, \"3\": 17, \"2\": 17, \"5\": 17, \"15\": 15}, \"8\": {\"12\": 16, \"7\": 22, \"2\": 15, \"9\": 9, \"13\": 15, \"8\": 17, \"10\": 11, \"5\": 8, \"4\": 21, \"14\": 20, \"1\": 14, \"6\": 21, \"15\": 14, \"0\": 14, \"3\": 11, \"11\": 12}, \"11\": {\"9\": 13, \"3\": 21, \"14\": 18, \"6\": 20, \"1\": 15, \"13\": 16, \"12\": 16, \"15\": 13, \"8\": 14, \"11\": 19, \"2\": 20, \"5\": 16, \"4\": 11, \"7\": 7, \"0\": 16, \"10\": 5}, \"14\": {\"10\": 33, \"8\": 10, \"4\": 25, \"7\": 13, \"13\": 10, \"14\": 21, \"2\": 8, \"0\": 14, \"6\": 16, \"5\": 13, \"15\": 10, \"9\": 18, \"11\": 16, \"3\": 15, \"1\": 11, \"12\": 7}, \"12\": {\"4\": 20, \"7\": 23, \"12\": 16, \"2\": 17, \"11\": 24, \"1\": 13, \"10\": 20, \"8\": 8, \"14\": 5, \"3\": 20, \"13\": 8, \"15\": 13, \"0\": 12, \"5\": 19, \"9\": 11, \"6\": 11}, \"13\": {\"1\": 15, \"0\": 14, \"2\": 14, \"13\": 13, \"10\": 11, \"15\": 31, \"9\": 15, \"12\": 23, \"3\": 15, \"7\": 18, \"11\": 19, \"8\": 9, \"14\": 13, \"5\": 10, \"6\": 12, \"4\": 8}, \"9\": {\"7\": 10, \"11\": 28, \"0\": 17, \"13\": 15, \"14\": 12, \"2\": 17, \"12\": 16, \"3\": 23, \"10\": 9, \"5\": 14, \"9\": 16, \"4\": 13, \"1\": 15, \"6\": 13, \"8\": 18, \"15\": 4}, \"5\": {\"10\": 16, \"9\": 17, \"3\": 14, \"8\": 15, \"6\": 15, \"7\": 22, \"5\": 15, \"14\": 14, \"1\": 11, \"15\": 18, \"12\": 11, \"0\": 17, \"4\": 13, \"2\": 18, \"11\": 12, \"13\": 12}, \"1\": {\"4\": 9, \"7\": 15, \"15\": 16, \"6\": 8, \"2\": 18, \"3\": 15, \"0\": 13, \"13\": 20, \"9\": 16, \"11\": 13, \"5\": 18, \"10\": 16, \"12\": 24, \"1\": 20, \"8\": 8, \"14\": 11}}, \"ORACLE.run150\": {\"5\": {\"12\": 13, \"0\": 9, \"7\": 22, \"11\": 18, \"10\": 14, \"5\": 21, \"6\": 19, \"8\": 10, \"2\": 5, \"13\": 19, \"1\": 15, \"3\": 7, \"15\": 22, \"14\": 16, \"4\": 16, \"9\": 14}, \"12\": {\"9\": 20, \"7\": 8, \"10\": 18, \"12\": 21, \"4\": 15, \"14\": 25, \"11\": 27, \"0\": 14, \"1\": 16, \"8\": 6, \"2\": 19, \"3\": 5, \"13\": 12, \"6\": 15, \"5\": 10, \"15\": 9}, \"14\": {\"12\": 26, \"14\": 23, \"10\": 13, \"13\": 14, \"4\": 14, \"5\": 19, \"9\": 14, \"7\": 14, \"2\": 18, \"8\": 9, \"11\": 17, \"0\": 18, \"3\": 8, \"15\": 7, \"1\": 12, \"6\": 14}, \"4\": {\"1\": 27, \"7\": 16, \"13\": 11, \"10\": 12, \"5\": 20, \"9\": 20, \"11\": 22, \"6\": 16, \"3\": 4, \"15\": 28, \"14\": 14, \"12\": 12, \"8\": 4, \"4\": 22, \"0\": 11, \"2\": 1}, \"13\": {\"4\": 25, \"15\": 17, \"6\": 20, \"3\": 14, \"13\": 17, \"2\": 10, \"14\": 10, \"5\": 16, \"12\": 17, \"11\": 14, \"8\": 9, \"9\": 19, \"7\": 24, \"0\": 4, \"10\": 12, \"1\": 12}, \"10\": {\"0\": 19, \"2\": 20, \"10\": 18, \"7\": 19, \"5\": 13, \"8\": 22, \"6\": 18, \"12\": 12, \"13\": 16, \"3\": 22, \"11\": 9, \"14\": 8, \"1\": 15, \"4\": 8, \"15\": 7, \"9\": 14}, \"9\": {\"7\": 22, \"13\": 25, \"4\": 18, \"11\": 25, \"6\": 18, \"1\": 12, \"12\": 14, \"14\": 20, \"10\": 6, \"5\": 23, \"3\": 5, \"9\": 23, \"8\": 4, \"2\": 8, \"15\": 9, \"0\": 8}, \"15\": {\"4\": 19, \"6\": 21, \"15\": 32, \"14\": 21, \"9\": 12, \"5\": 33, \"10\": 14, \"7\": 13, \"1\": 15, \"13\": 14, \"0\": 5, \"3\": 7, \"11\": 19, \"8\": 6, \"12\": 7, \"2\": 2}, \"6\": {\"6\": 19, \"10\": 15, \"13\": 9, \"15\": 16, \"5\": 27, \"9\": 12, \"1\": 22, \"7\": 23, \"11\": 19, \"0\": 9, \"14\": 22, \"12\": 6, \"4\": 19, \"8\": 6, \"2\": 13, \"3\": 3}, \"2\": {\"10\": 22, \"1\": 7, \"2\": 26, \"8\": 30, \"0\": 19, \"11\": 5, \"6\": 13, \"14\": 19, \"7\": 18, \"5\": 15, \"3\": 19, \"13\": 10, \"9\": 10, \"4\": 8, \"12\": 13, \"15\": 6}, \"0\": {\"11\": 12, \"9\": 8, \"8\": 19, \"2\": 29, \"0\": 27, \"14\": 19, \"5\": 13, \"3\": 18, \"6\": 17, \"15\": 6, \"12\": 13, \"13\": 16, \"7\": 7, \"4\": 10, \"10\": 18, \"1\": 8}, \"11\": {\"11\": 16, \"9\": 20, \"7\": 21, \"13\": 13, \"4\": 21, \"12\": 23, \"6\": 23, \"5\": 22, \"15\": 16, \"14\": 19, \"1\": 22, \"0\": 4, \"2\": 5, \"10\": 9, \"3\": 4, \"8\": 2}, \"3\": {\"0\": 30, \"4\": 8, \"12\": 6, \"6\": 8, \"15\": 7, \"7\": 22, \"10\": 23, \"3\": 44, \"13\": 13, \"9\": 3, \"8\": 30, \"2\": 14, \"5\": 9, \"14\": 12, \"1\": 10, \"11\": 1}, \"8\": {\"8\": 35, \"3\": 47, \"14\": 15, \"4\": 8, \"7\": 10, \"5\": 8, \"6\": 13, \"2\": 25, \"10\": 24, \"0\": 25, \"11\": 3, \"12\": 10, \"1\": 7, \"13\": 5, \"9\": 5}, \"7\": {\"14\": 16, \"6\": 29, \"1\": 25, \"0\": 10, \"10\": 11, \"5\": 22, \"7\": 17, \"11\": 19, \"2\": 6, \"4\": 22, \"13\": 15, \"9\": 7, \"3\": 10, \"8\": 9, \"15\": 14, \"12\": 8}, \"1\": {\"3\": 7, \"7\": 24, \"8\": 6, \"5\": 24, \"15\": 16, \"13\": 15, \"6\": 27, \"4\": 17, \"9\": 22, \"12\": 14, \"1\": 16, \"11\": 14, \"0\": 9, \"14\": 12, \"2\": 11, \"10\": 6}}, \"ORACLE.run126\": {\"7\": {\"7\": 15, \"2\": 19, \"0\": 19, \"10\": 16, \"5\": 16, \"1\": 18, \"4\": 21, \"15\": 15, \"13\": 7, \"3\": 14, \"6\": 10, \"9\": 21, \"14\": 21, \"12\": 6, \"8\": 18, \"11\": 4}, \"6\": {\"2\": 15, \"9\": 17, \"10\": 17, \"4\": 15, \"5\": 15, \"12\": 16, \"8\": 14, \"6\": 19, \"0\": 15, \"3\": 12, \"14\": 11, \"13\": 17, \"1\": 14, \"11\": 8, \"7\": 18, \"15\": 17}, \"14\": {\"10\": 25, \"15\": 14, \"6\": 13, \"12\": 12, \"3\": 17, \"11\": 3, \"14\": 20, \"5\": 9, \"1\": 19, \"13\": 18, \"0\": 17, \"9\": 10, \"4\": 18, \"7\": 15, \"2\": 17, \"8\": 13}, \"15\": {\"0\": 18, \"3\": 9, \"14\": 22, \"15\": 14, \"10\": 15, \"11\": 6, \"6\": 23, \"5\": 12, \"8\": 19, \"12\": 19, \"7\": 14, \"2\": 14, \"13\": 19, \"4\": 15, \"1\": 12, \"9\": 9}, \"5\": {\"2\": 16, \"11\": 14, \"13\": 17, \"10\": 14, \"7\": 12, \"0\": 16, \"6\": 13, \"14\": 16, \"4\": 15, \"1\": 18, \"12\": 18, \"5\": 14, \"3\": 26, \"15\": 17, \"8\": 10, \"9\": 4}, \"10\": {\"15\": 14, \"6\": 19, \"5\": 13, \"4\": 15, \"9\": 18, \"11\": 8, \"3\": 16, \"2\": 14, \"1\": 16, \"14\": 20, \"0\": 17, \"10\": 17, \"12\": 13, \"13\": 11, \"8\": 13, \"7\": 16}, \"4\": {\"4\": 22, \"12\": 14, \"6\": 21, \"8\": 13, \"3\": 14, \"7\": 22, \"2\": 16, \"0\": 15, \"14\": 14, \"13\": 11, \"15\": 16, \"10\": 18, \"5\": 10, \"1\": 14, \"9\": 15, \"11\": 5}, \"11\": {\"11\": 48, \"5\": 17, \"15\": 17, \"13\": 32, \"2\": 12, \"10\": 7, \"0\": 8, \"7\": 9, \"14\": 9, \"12\": 30, \"9\": 10, \"4\": 5, \"6\": 18, \"1\": 3, \"3\": 7, \"8\": 8}, \"13\": {\"2\": 10, \"3\": 16, \"8\": 11, \"4\": 14, \"14\": 14, \"11\": 20, \"6\": 16, \"5\": 23, \"12\": 17, \"7\": 9, \"13\": 30, \"1\": 11, \"9\": 13, \"10\": 15, \"15\": 14, \"0\": 7}, \"2\": {\"0\": 19, \"7\": 17, \"1\": 15, \"13\": 16, \"10\": 19, \"12\": 8, \"15\": 14, \"6\": 15, \"3\": 17, \"4\": 14, \"9\": 18, \"14\": 16, \"11\": 9, \"2\": 18, \"8\": 13, \"5\": 12}, \"0\": {\"5\": 7, \"13\": 7, \"12\": 10, \"0\": 15, \"3\": 18, \"14\": 15, \"8\": 24, \"10\": 21, \"1\": 16, \"6\": 22, \"4\": 14, \"9\": 18, \"2\": 14, \"7\": 17, \"15\": 18, \"11\": 4}, \"12\": {\"2\": 13, \"5\": 20, \"13\": 19, \"0\": 13, \"3\": 17, \"12\": 23, \"10\": 14, \"9\": 18, \"6\": 17, \"11\": 20, \"8\": 9, \"15\": 19, \"14\": 6, \"7\": 10, \"4\": 10, \"1\": 12}, \"3\": {\"8\": 17, \"9\": 17, \"15\": 15, \"1\": 23, \"6\": 10, \"3\": 17, \"11\": 10, \"13\": 13, \"4\": 14, \"2\": 15, \"10\": 22, \"14\": 17, \"5\": 15, \"7\": 18, \"0\": 11, \"12\": 6}, \"9\": {\"2\": 23, \"13\": 17, \"6\": 22, \"7\": 11, \"11\": 9, \"12\": 15, \"9\": 13, \"3\": 11, \"0\": 16, \"14\": 15, \"4\": 10, \"15\": 14, \"5\": 18, \"10\": 18, \"8\": 18, \"1\": 10}, \"8\": {\"5\": 14, \"8\": 12, \"3\": 19, \"0\": 6, \"2\": 16, \"12\": 21, \"10\": 20, \"13\": 6, \"4\": 12, \"9\": 27, \"11\": 7, \"15\": 14, \"14\": 21, \"7\": 14, \"6\": 16, \"1\": 15}, \"1\": {\"5\": 14, \"7\": 15, \"4\": 23, \"3\": 20, \"10\": 25, \"2\": 16, \"6\": 12, \"0\": 13, \"12\": 8, \"13\": 6, \"1\": 25, \"14\": 19, \"9\": 17, \"8\": 14, \"15\": 10, \"11\": 3}}, \"ORACLE.run132\": {\"7\": {\"8\": 17, \"11\": 24, \"14\": 25, \"7\": 23, \"13\": 19, \"4\": 18, \"0\": 19, \"9\": 10, \"5\": 21, \"2\": 24, \"12\": 14, \"3\": 11, \"1\": 2, \"6\": 1, \"15\": 10, \"10\": 2}, \"2\": {\"2\": 24, \"5\": 20, \"14\": 24, \"0\": 17, \"4\": 22, \"8\": 15, \"9\": 23, \"11\": 21, \"6\": 9, \"7\": 23, \"12\": 10, \"3\": 13, \"13\": 15, \"10\": 1, \"15\": 2, \"1\": 1}, \"5\": {\"8\": 23, \"3\": 15, \"11\": 19, \"4\": 22, \"12\": 9, \"13\": 23, \"5\": 29, \"2\": 14, \"7\": 10, \"14\": 20, \"0\": 23, \"15\": 14, \"1\": 2, \"9\": 14, \"10\": 3}, \"6\": {\"10\": 31, \"6\": 72, \"9\": 22, \"1\": 58, \"12\": 29, \"2\": 9, \"8\": 2, \"4\": 2, \"11\": 3, \"14\": 5, \"0\": 3, \"5\": 3, \"13\": 1}, \"13\": {\"2\": 12, \"15\": 23, \"0\": 29, \"13\": 19, \"14\": 23, \"9\": 13, \"12\": 5, \"11\": 17, \"5\": 25, \"8\": 20, \"4\": 13, \"3\": 29, \"7\": 12}, \"4\": {\"2\": 26, \"5\": 27, \"14\": 16, \"0\": 22, \"15\": 11, \"7\": 21, \"11\": 17, \"3\": 14, \"8\": 16, \"13\": 20, \"4\": 20, \"12\": 11, \"9\": 14, \"10\": 4, \"6\": 1}, \"3\": {\"11\": 17, \"5\": 28, \"13\": 22, \"15\": 31, \"4\": 17, \"0\": 30, \"7\": 17, \"14\": 21, \"3\": 21, \"12\": 2, \"8\": 24, \"9\": 2, \"2\": 6, \"10\": 1, \"1\": 1}, \"0\": {\"5\": 24, \"8\": 18, \"7\": 19, \"14\": 21, \"4\": 21, \"11\": 18, \"13\": 19, \"2\": 21, \"0\": 27, \"9\": 11, \"3\": 20, \"10\": 5, \"12\": 10, \"15\": 6}, \"9\": {\"6\": 19, \"2\": 29, \"5\": 11, \"0\": 19, \"7\": 11, \"11\": 10, \"3\": 5, \"9\": 38, \"12\": 21, \"14\": 13, \"10\": 21, \"1\": 8, \"8\": 7, \"13\": 10, \"4\": 13, \"15\": 5}, \"12\": {\"8\": 11, \"9\": 40, \"4\": 19, \"3\": 10, \"0\": 12, \"7\": 15, \"2\": 22, \"10\": 20, \"14\": 7, \"12\": 34, \"5\": 8, \"1\": 15, \"13\": 8, \"6\": 11, \"11\": 8}, \"8\": {\"2\": 18, \"8\": 24, \"13\": 21, \"14\": 26, \"7\": 14, \"15\": 24, \"0\": 25, \"5\": 16, \"9\": 8, \"4\": 14, \"3\": 26, \"11\": 16, \"12\": 6, \"10\": 2}, \"14\": {\"4\": 18, \"3\": 16, \"5\": 20, \"9\": 19, \"7\": 21, \"8\": 25, \"0\": 19, \"11\": 13, \"2\": 26, \"13\": 16, \"14\": 20, \"10\": 5, \"15\": 10, \"12\": 12}, \"15\": {\"2\": 8, \"13\": 18, \"0\": 16, \"15\": 98, \"4\": 4, \"8\": 26, \"12\": 1, \"7\": 6, \"3\": 32, \"14\": 10, \"5\": 13, \"11\": 7, \"9\": 1}, \"11\": {\"13\": 20, \"8\": 25, \"0\": 25, \"9\": 9, \"7\": 23, \"3\": 22, \"4\": 16, \"14\": 24, \"5\": 12, \"2\": 23, \"6\": 1, \"11\": 29, \"15\": 8, \"10\": 2, \"12\": 1}, \"10\": {\"15\": 2, \"10\": 47, \"14\": 6, \"12\": 43, \"7\": 8, \"9\": 24, \"1\": 37, \"4\": 6, \"11\": 3, \"0\": 7, \"3\": 7, \"6\": 30, \"2\": 9, \"5\": 3, \"13\": 4, \"8\": 4}, \"1\": {\"10\": 48, \"6\": 45, \"1\": 93, \"5\": 2, \"9\": 13, \"12\": 27, \"2\": 2, \"14\": 2, \"0\": 5, \"11\": 1, \"4\": 2}}, \"ORACLE.run144\": {\"11\": {\"11\": 52, \"10\": 28, \"7\": 20, \"13\": 25, \"6\": 32, \"9\": 12, \"1\": 14, \"2\": 23, \"14\": 3, \"12\": 13, \"5\": 3, \"3\": 10, \"4\": 4, \"15\": 1}, \"7\": {\"14\": 15, \"7\": 24, \"9\": 18, \"13\": 21, \"12\": 21, \"4\": 14, \"5\": 6, \"10\": 21, \"2\": 21, \"11\": 25, \"3\": 14, \"6\": 15, \"0\": 4, \"1\": 19, \"15\": 2}, \"6\": {\"4\": 6, \"7\": 19, \"13\": 31, \"11\": 36, \"9\": 25, \"6\": 32, \"2\": 35, \"1\": 14, \"10\": 15, \"12\": 12, \"15\": 1, \"5\": 5, \"14\": 1, \"3\": 7, \"8\": 1}, \"12\": {\"9\": 16, \"10\": 26, \"11\": 12, \"15\": 5, \"2\": 16, \"14\": 12, \"12\": 25, \"3\": 20, \"1\": 31, \"4\": 13, \"6\": 19, \"13\": 19, \"7\": 12, \"8\": 2, \"0\": 5, \"5\": 7}, \"4\": {\"3\": 21, \"5\": 25, \"11\": 7, \"0\": 20, \"14\": 31, \"1\": 14, \"4\": 22, \"15\": 16, \"8\": 9, \"12\": 8, \"6\": 6, \"10\": 10, \"13\": 16, \"7\": 15, \"2\": 5, \"9\": 15}, \"13\": {\"6\": 32, \"1\": 16, \"11\": 27, \"13\": 22, \"12\": 24, \"10\": 16, \"9\": 17, \"4\": 12, \"5\": 3, \"3\": 16, \"8\": 2, \"2\": 18, \"7\": 21, \"15\": 6, \"0\": 3, \"14\": 5}, \"8\": {\"0\": 39, \"8\": 50, \"6\": 1, \"3\": 9, \"15\": 51, \"14\": 18, \"5\": 33, \"4\": 17, \"12\": 5, \"7\": 3, \"10\": 2, \"9\": 6, \"2\": 3, \"13\": 1, \"1\": 2}, \"5\": {\"5\": 26, \"14\": 34, \"1\": 6, \"15\": 32, \"13\": 9, \"8\": 30, \"4\": 26, \"10\": 6, \"2\": 4, \"7\": 8, \"0\": 27, \"12\": 6, \"9\": 12, \"3\": 11, \"11\": 2, \"6\": 1}, \"14\": {\"15\": 20, \"2\": 11, \"1\": 11, \"3\": 25, \"0\": 16, \"4\": 38, \"5\": 33, \"9\": 13, \"14\": 27, \"10\": 6, \"8\": 11, \"12\": 8, \"11\": 6, \"7\": 10, \"13\": 5}, \"3\": {\"10\": 13, \"3\": 43, \"1\": 18, \"4\": 17, \"13\": 15, \"7\": 15, \"5\": 7, \"14\": 29, \"8\": 7, \"12\": 16, \"2\": 14, \"11\": 8, \"0\": 10, \"9\": 11, \"6\": 6, \"15\": 11}, \"10\": {\"8\": 2, \"14\": 8, \"15\": 2, \"13\": 21, \"6\": 22, \"2\": 26, \"12\": 21, \"9\": 16, \"1\": 25, \"4\": 10, \"11\": 24, \"7\": 27, \"3\": 16, \"10\": 15, \"0\": 2, \"5\": 3}, \"1\": {\"13\": 15, \"1\": 21, \"2\": 20, \"12\": 32, \"7\": 23, \"11\": 14, \"10\": 21, \"3\": 27, \"4\": 14, \"0\": 2, \"14\": 11, \"9\": 15, \"6\": 9, \"5\": 7, \"8\": 3, \"15\": 6}, \"2\": {\"1\": 18, \"13\": 25, \"2\": 23, \"7\": 26, \"11\": 25, \"5\": 8, \"6\": 20, \"3\": 15, \"12\": 20, \"9\": 17, \"10\": 20, \"0\": 3, \"4\": 5, \"14\": 9, \"15\": 4, \"8\": 2}, \"15\": {\"8\": 33, \"7\": 5, \"4\": 18, \"15\": 38, \"14\": 31, \"3\": 15, \"0\": 26, \"1\": 7, \"5\": 40, \"10\": 5, \"9\": 4, \"12\": 7, \"13\": 7, \"6\": 1, \"11\": 1, \"2\": 2}, \"9\": {\"9\": 19, \"14\": 15, \"13\": 23, \"6\": 20, \"2\": 22, \"3\": 14, \"1\": 19, \"10\": 20, \"4\": 13, \"12\": 19, \"11\": 15, \"5\": 10, \"7\": 19, \"8\": 5, \"15\": 6, \"0\": 1}, \"0\": {\"2\": 2, \"15\": 36, \"8\": 45, \"5\": 23, \"14\": 30, \"0\": 37, \"1\": 5, \"4\": 26, \"3\": 9, \"9\": 7, \"7\": 7, \"10\": 4, \"6\": 2, \"12\": 7}}, \"ORACLE.run18\": {\"10\": {\"6\": 16, \"1\": 18, \"0\": 17, \"9\": 5, \"13\": 11, \"5\": 19, \"4\": 21, \"12\": 10, \"8\": 17, \"7\": 18, \"15\": 9, \"10\": 21, \"2\": 14, \"14\": 17, \"11\": 16, \"3\": 11}, \"6\": {\"8\": 14, \"11\": 17, \"7\": 26, \"0\": 16, \"6\": 14, \"13\": 15, \"14\": 9, \"1\": 16, \"10\": 18, \"15\": 18, \"5\": 12, \"4\": 11, \"3\": 14, \"9\": 9, \"2\": 15, \"12\": 16}, \"13\": {\"10\": 21, \"2\": 13, \"6\": 22, \"3\": 15, \"5\": 19, \"14\": 17, \"7\": 25, \"1\": 19, \"0\": 17, \"13\": 15, \"4\": 12, \"8\": 9, \"11\": 14, \"12\": 10, \"9\": 7, \"15\": 5}, \"3\": {\"0\": 11, \"2\": 14, \"10\": 10, \"8\": 23, \"9\": 1, \"5\": 9, \"4\": 14, \"7\": 24, \"3\": 33, \"14\": 14, \"12\": 13, \"6\": 20, \"11\": 17, \"15\": 18, \"1\": 9, \"13\": 10}, \"9\": {\"14\": 14, \"11\": 6, \"5\": 13, \"6\": 12, \"7\": 4, \"9\": 97, \"10\": 20, \"8\": 6, \"4\": 15, \"13\": 15, \"3\": 8, \"1\": 9, \"0\": 16, \"2\": 3, \"15\": 1, \"12\": 1}, \"1\": {\"5\": 15, \"2\": 19, \"0\": 15, \"4\": 16, \"1\": 16, \"8\": 22, \"3\": 14, \"11\": 16, \"15\": 17, \"12\": 18, \"10\": 8, \"7\": 18, \"13\": 15, \"9\": 3, \"6\": 15, \"14\": 13}, \"5\": {\"0\": 10, \"14\": 13, \"12\": 16, \"7\": 12, \"5\": 12, \"10\": 20, \"8\": 15, \"9\": 7, \"6\": 14, \"11\": 24, \"3\": 15, \"1\": 19, \"2\": 8, \"4\": 22, \"15\": 13, \"13\": 20}, \"11\": {\"15\": 20, \"12\": 22, \"10\": 16, \"6\": 15, \"1\": 21, \"3\": 16, \"14\": 11, \"5\": 19, \"0\": 14, \"11\": 15, \"8\": 21, \"13\": 14, \"7\": 13, \"4\": 10, \"2\": 11, \"9\": 2}, \"4\": {\"3\": 11, \"14\": 16, \"4\": 22, \"7\": 18, \"12\": 10, \"0\": 15, \"5\": 14, \"15\": 16, \"8\": 9, \"2\": 15, \"1\": 22, \"10\": 13, \"6\": 22, \"13\": 15, \"11\": 19, \"9\": 3}, \"14\": {\"15\": 17, \"2\": 20, \"13\": 16, \"1\": 11, \"14\": 11, \"4\": 22, \"6\": 24, \"5\": 18, \"8\": 6, \"12\": 11, \"0\": 15, \"9\": 10, \"10\": 17, \"3\": 13, \"7\": 15, \"11\": 14}, \"12\": {\"10\": 7, \"6\": 20, \"3\": 31, \"13\": 15, \"14\": 15, \"5\": 13, \"12\": 19, \"11\": 15, \"1\": 13, \"15\": 24, \"8\": 20, \"4\": 10, \"2\": 18, \"7\": 10, \"0\": 10}, \"7\": {\"1\": 12, \"0\": 12, \"4\": 15, \"5\": 24, \"9\": 3, \"13\": 21, \"15\": 24, \"3\": 20, \"11\": 15, \"10\": 16, \"6\": 16, \"14\": 17, \"2\": 13, \"8\": 14, \"7\": 10, \"12\": 8}, \"0\": {\"8\": 14, \"10\": 16, \"3\": 11, \"1\": 14, \"11\": 13, \"7\": 21, \"5\": 14, \"12\": 16, \"6\": 15, \"2\": 23, \"4\": 14, \"14\": 11, \"15\": 13, \"9\": 13, \"0\": 19, \"13\": 13}, \"15\": {\"10\": 13, \"15\": 21, \"1\": 10, \"6\": 21, \"13\": 13, \"2\": 13, \"4\": 14, \"3\": 17, \"8\": 18, \"5\": 12, \"7\": 17, \"12\": 26, \"0\": 11, \"14\": 16, \"11\": 16, \"9\": 2}, \"2\": {\"7\": 24, \"15\": 21, \"3\": 21, \"12\": 13, \"14\": 7, \"5\": 12, \"0\": 18, \"10\": 21, \"11\": 13, \"2\": 13, \"8\": 23, \"1\": 11, \"13\": 17, \"6\": 14, \"4\": 10, \"9\": 2}, \"8\": {\"5\": 12, \"2\": 13, \"0\": 12, \"15\": 26, \"11\": 14, \"13\": 15, \"7\": 14, \"3\": 24, \"8\": 20, \"10\": 17, \"12\": 14, \"14\": 14, \"6\": 17, \"1\": 17, \"4\": 11}}, \"ORACLE.run138\": {\"4\": {\"12\": 52, \"4\": 93, \"11\": 15, \"14\": 13, \"10\": 10, \"0\": 16, \"7\": 15, \"2\": 3, \"3\": 5, \"5\": 3, \"8\": 10, \"1\": 1, \"13\": 4}, \"7\": {\"10\": 25, \"7\": 21, \"5\": 19, \"3\": 22, \"12\": 10, \"11\": 14, \"13\": 15, \"1\": 7, \"8\": 24, \"4\": 11, \"15\": 13, \"9\": 13, \"0\": 13, \"14\": 17, \"6\": 12, \"2\": 4}, \"12\": {\"7\": 19, \"0\": 7, \"11\": 18, \"12\": 47, \"14\": 37, \"4\": 50, \"6\": 3, \"13\": 6, \"3\": 9, \"15\": 6, \"8\": 12, \"10\": 12, \"5\": 7, \"2\": 5, \"9\": 1, \"1\": 1}, \"10\": {\"14\": 18, \"10\": 30, \"5\": 20, \"7\": 14, \"15\": 15, \"4\": 15, \"12\": 6, \"8\": 20, \"1\": 8, \"11\": 20, \"13\": 13, \"0\": 21, \"6\": 13, \"3\": 9, \"9\": 11, \"2\": 7}, \"0\": {\"4\": 9, \"6\": 14, \"5\": 22, \"10\": 28, \"8\": 20, \"11\": 12, \"7\": 17, \"15\": 12, \"9\": 18, \"12\": 14, \"14\": 15, \"3\": 20, \"13\": 7, \"0\": 21, \"2\": 6, \"1\": 5}, \"1\": {\"2\": 31, \"9\": 13, \"10\": 14, \"13\": 14, \"11\": 14, \"12\": 4, \"6\": 29, \"0\": 8, \"5\": 19, \"15\": 20, \"1\": 26, \"3\": 9, \"14\": 11, \"7\": 9, \"8\": 19}, \"5\": {\"10\": 21, \"9\": 18, \"1\": 18, \"5\": 24, \"13\": 20, \"15\": 18, \"7\": 16, \"0\": 9, \"6\": 22, \"3\": 10, \"2\": 19, \"12\": 8, \"14\": 11, \"11\": 11, \"4\": 1, \"8\": 14}, \"15\": {\"10\": 18, \"9\": 14, \"14\": 12, \"11\": 13, \"8\": 19, \"0\": 14, \"13\": 18, \"2\": 24, \"3\": 5, \"15\": 27, \"5\": 27, \"7\": 9, \"6\": 16, \"1\": 20, \"12\": 3, \"4\": 1}, \"9\": {\"13\": 19, \"5\": 22, \"9\": 31, \"1\": 18, \"15\": 25, \"3\": 26, \"0\": 20, \"10\": 10, \"7\": 10, \"11\": 4, \"2\": 15, \"6\": 19, \"8\": 14, \"4\": 2, \"14\": 5}, \"11\": {\"9\": 7, \"14\": 27, \"8\": 21, \"11\": 27, \"5\": 16, \"4\": 18, \"15\": 18, \"7\": 12, \"13\": 15, \"6\": 9, \"10\": 23, \"0\": 8, \"2\": 13, \"12\": 18, \"3\": 5, \"1\": 3}, \"14\": {\"7\": 16, \"14\": 22, \"9\": 9, \"5\": 15, \"11\": 26, \"13\": 18, \"8\": 13, \"0\": 18, \"15\": 17, \"12\": 19, \"10\": 21, \"6\": 13, \"2\": 11, \"4\": 8, \"1\": 9, \"3\": 5}, \"6\": {\"11\": 11, \"0\": 20, \"1\": 23, \"13\": 15, \"9\": 20, \"3\": 21, \"6\": 22, \"15\": 16, \"10\": 16, \"2\": 14, \"8\": 20, \"5\": 20, \"7\": 13, \"12\": 2, \"14\": 7}, \"8\": {\"2\": 10, \"14\": 18, \"6\": 21, \"13\": 18, \"5\": 19, \"11\": 13, \"7\": 22, \"8\": 23, \"9\": 17, \"4\": 5, \"10\": 14, \"1\": 12, \"15\": 17, \"3\": 7, \"12\": 9, \"0\": 15}, \"3\": {\"5\": 17, \"3\": 32, \"8\": 15, \"9\": 23, \"7\": 10, \"0\": 25, \"6\": 17, \"10\": 22, \"1\": 11, \"15\": 14, \"14\": 8, \"12\": 9, \"13\": 17, \"2\": 10, \"4\": 7, \"11\": 3}, \"2\": {\"2\": 39, \"9\": 13, \"13\": 21, \"8\": 16, \"11\": 16, \"5\": 17, \"0\": 8, \"12\": 4, \"1\": 21, \"10\": 26, \"6\": 17, \"14\": 12, \"15\": 18, \"3\": 3, \"7\": 7, \"4\": 2}, \"13\": {\"2\": 22, \"3\": 12, \"13\": 22, \"9\": 18, \"7\": 12, \"5\": 23, \"6\": 19, \"0\": 10, \"10\": 15, \"15\": 18, \"14\": 19, \"1\": 22, \"8\": 13, \"11\": 7, \"12\": 8}}}, \"per_domain_accuracy\": {\"Wisig_3\": {\"accuracy\": 0.9686135371179039, \"source?\": true}, \"Wisig_4\": {\"accuracy\": 0.9541580578512396, \"source?\": true}, \"Wisig_2\": {\"accuracy\": 0.9554324894514767, \"source?\": true}, \"Wisig_1\": {\"accuracy\": 0.9711134453781513, \"source?\": true}, \"ORACLE.run114\": {\"accuracy\": 0.09739583333333333, \"source?\": false}, \"ORACLE.run120\": {\"accuracy\": 0.06796875, \"source?\": false}, \"ORACLE.run150\": {\"accuracy\": 0.09817708333333333, \"source?\": false}, \"ORACLE.run126\": {\"accuracy\": 0.08385416666666666, \"source?\": false}, \"ORACLE.run132\": {\"accuracy\": 0.1609375, \"source?\": false}, \"ORACLE.run144\": {\"accuracy\": 0.12395833333333334, \"source?\": false}, \"ORACLE.run18\": {\"accuracy\": 0.09322916666666667, \"source?\": false}, \"ORACLE.run138\": {\"accuracy\": 0.13203125, \"source?\": false}}}, \"history\": {\"epoch_indices\": [1, 2, 3, 4, 5], \"train_label_loss\": [0.1911672520889416, 0.11943343371885903, 0.09851557367442045, 0.08248393311937152, 0.06855302707459651], \"source_val_label_loss\": [0.16686341166496277, 0.12332770228385925, 0.11707190424203873, 0.11658059060573578, 0.11877402663230896], \"target_val_label_loss\": [2.728579044342041, 2.751115560531616, 2.7372822761535645, 2.7752575874328613, 2.8654637336730957], \"source_val_acc_label\": [0.9622423361522199, 0.9709963002114165, 0.9725488900634249, 0.9723837209302325, 0.9739693446088795], \"target_val_acc_label\": [0.10719401041666667, 0.10042317708333333, 0.10680338541666666, 0.10286458333333333, 0.093359375]}, \"dataset_metrics\": {\"source\": {\"train\": {\"n_unique_x\": 189029, \"n_unique_y\": 130, \"n_batch/episode\": 6842}, \"val\": {\"n_unique_x\": 40049, \"n_unique_y\": 130, \"n_batch/episode\": 946}, \"test\": {\"n_unique_x\": 40794, \"n_unique_y\": 130, \"n_batch/episode\": 966}}, \"target\": {\"train\": {\"n_unique_x\": 179200, \"n_unique_y\": 16, \"n_batch/episode\": 6720}, \"val\": {\"n_unique_x\": 38400, \"n_unique_y\": 16, \"n_batch/episode\": 960}, \"test\": {\"n_unique_x\": 38400, \"n_unique_y\": 16, \"n_batch/episode\": 960}}}}'"
      ]
     },
     "execution_count": 29,
     "metadata": {},
     "output_type": "execute_result"
    }
   ],
   "source": [
    "json.dumps(experiment)"
   ]
  }
 ],
 "metadata": {
  "celltoolbar": "Tags",
  "kernelspec": {
   "display_name": "Python 3 (ipykernel)",
   "language": "python",
   "name": "python3"
  },
  "language_info": {
   "codemirror_mode": {
    "name": "ipython",
    "version": 3
   },
   "file_extension": ".py",
   "mimetype": "text/x-python",
   "name": "python",
   "nbconvert_exporter": "python",
   "pygments_lexer": "ipython3",
   "version": "3.8.12"
  },
  "papermill": {
   "default_parameters": {},
   "duration": 1045.949443,
   "end_time": "2022-03-22T20:40:57.243723",
   "environment_variables": {},
   "exception": null,
   "input_path": "/root/csc500-main/csc500-notebooks/templates/tl_ptn_template.ipynb",
   "output_path": "trial.ipynb",
   "parameters": {
    "parameters": {
     "BEST_MODEL_PATH": "./best_model.pth",
     "NUM_LOGS_PER_EPOCH": 10,
     "criteria_for_best": "target_accuracy",
     "dataset_seed": 420,
     "datasets": [
      {
       "domain_prefix": "Wisig_",
       "domains": [
        1,
        2,
        3,
        4
       ],
       "episode_transforms": [],
       "labels": [
        "1-10",
        "1-12",
        "1-14",
        "1-16",
        "1-18",
        "1-19",
        "1-8",
        "10-11",
        "10-17",
        "10-4",
        "10-7",
        "11-1",
        "11-10",
        "11-19",
        "11-20",
        "11-4",
        "11-7",
        "12-19",
        "12-20",
        "12-7",
        "13-14",
        "13-18",
        "13-19",
        "13-20",
        "13-3",
        "13-7",
        "14-10",
        "14-11",
        "14-12",
        "14-13",
        "14-14",
        "14-19",
        "14-20",
        "14-7",
        "14-8",
        "14-9",
        "15-1",
        "15-19",
        "15-6",
        "16-1",
        "16-16",
        "16-19",
        "16-20",
        "17-10",
        "17-11",
        "18-1",
        "18-10",
        "18-11",
        "18-12",
        "18-13",
        "18-14",
        "18-15",
        "18-16",
        "18-17",
        "18-19",
        "18-2",
        "18-20",
        "18-4",
        "18-5",
        "18-7",
        "18-8",
        "18-9",
        "19-1",
        "19-10",
        "19-11",
        "19-12",
        "19-13",
        "19-14",
        "19-15",
        "19-19",
        "19-2",
        "19-20",
        "19-3",
        "19-4",
        "19-6",
        "19-7",
        "19-8",
        "19-9",
        "2-1",
        "2-13",
        "2-15",
        "2-3",
        "2-4",
        "2-5",
        "2-6",
        "2-7",
        "2-8",
        "20-1",
        "20-12",
        "20-14",
        "20-15",
        "20-16",
        "20-18",
        "20-19",
        "20-20",
        "20-3",
        "20-4",
        "20-5",
        "20-7",
        "20-8",
        "3-1",
        "3-13",
        "3-18",
        "3-2",
        "3-8",
        "4-1",
        "4-10",
        "4-11",
        "5-1",
        "5-5",
        "6-1",
        "6-15",
        "6-6",
        "7-10",
        "7-11",
        "7-12",
        "7-13",
        "7-14",
        "7-7",
        "7-8",
        "7-9",
        "8-1",
        "8-13",
        "8-14",
        "8-18",
        "8-20",
        "8-3",
        "8-8",
        "9-1",
        "9-7"
       ],
       "num_examples_per_domain_per_label": -1,
       "pickle_path": "/root/csc500-main/datasets/wisig.node3-19.stratified_ds.2022A.pkl",
       "source_or_target_dataset": "source",
       "x_transforms": [
        "unit_mag"
       ]
      },
      {
       "domain_prefix": "ORACLE.run1",
       "domains": [
        32,
        38,
        8,
        44,
        14,
        50,
        20,
        26
       ],
       "episode_transforms": [],
       "labels": [
        "3123D52",
        "3123D65",
        "3123D79",
        "3123D80",
        "3123D54",
        "3123D70",
        "3123D7B",
        "3123D89",
        "3123D58",
        "3123D76",
        "3123D7D",
        "3123EFE",
        "3123D64",
        "3123D78",
        "3123D7E",
        "3124E4A"
       ],
       "num_examples_per_domain_per_label": 2000,
       "pickle_path": "/root/csc500-main/datasets/oracle.Run1_10kExamples_stratified_ds.2022A.pkl",
       "source_or_target_dataset": "target",
       "x_transforms": [
        "unit_mag"
       ]
      }
     ],
     "device": "cuda",
     "experiment_name": "tl_1v2:wisig-oracle.run1.limited",
     "lr": 0.0001,
     "n_epoch": 50,
     "n_query": 2,
     "n_shot": 3,
     "n_way": 16,
     "patience": 3,
     "seed": 420,
     "test_k_factor": 2,
     "torch_default_dtype": "torch.float32",
     "train_k_factor": 3,
     "val_k_factor": 2,
     "x_net": [
      {
       "class": "nnReshape",
       "kargs": {
        "shape": [
         -1,
         1,
         2,
         256
        ]
       }
      },
      {
       "class": "Conv2d",
       "kargs": {
        "bias": false,
        "in_channels": 1,
        "kernel_size": [
         1,
         7
        ],
        "out_channels": 256,
        "padding": [
         0,
         3
        ]
       }
      },
      {
       "class": "ReLU",
       "kargs": {
        "inplace": true
       }
      },
      {
       "class": "BatchNorm2d",
       "kargs": {
        "num_features": 256
       }
      },
      {
       "class": "Conv2d",
       "kargs": {
        "bias": true,
        "in_channels": 256,
        "kernel_size": [
         2,
         7
        ],
        "out_channels": 80,
        "padding": [
         0,
         3
        ]
       }
      },
      {
       "class": "ReLU",
       "kargs": {
        "inplace": true
       }
      },
      {
       "class": "BatchNorm2d",
       "kargs": {
        "num_features": 80
       }
      },
      {
       "class": "Flatten",
       "kargs": {}
      },
      {
       "class": "Linear",
       "kargs": {
        "in_features": 20480,
        "out_features": 256
       }
      },
      {
       "class": "ReLU",
       "kargs": {
        "inplace": true
       }
      },
      {
       "class": "BatchNorm1d",
       "kargs": {
        "num_features": 256
       }
      },
      {
       "class": "Linear",
       "kargs": {
        "in_features": 256,
        "out_features": 256
       }
      }
     ]
    }
   },
   "start_time": "2022-03-22T20:23:31.294280",
   "version": "2.3.4"
  }
 },
 "nbformat": 4,
 "nbformat_minor": 5
}