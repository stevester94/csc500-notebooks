{
 "cells": [
  {
   "cell_type": "markdown",
   "id": "9fea5f46",
   "metadata": {
    "papermill": {
     "duration": 0.028522,
     "end_time": "2022-03-23T04:59:06.827690",
     "exception": false,
     "start_time": "2022-03-23T04:59:06.799168",
     "status": "completed"
    },
    "tags": []
   },
   "source": [
    "# Transfer Learning Template"
   ]
  },
  {
   "cell_type": "code",
   "execution_count": 1,
   "id": "0902182a",
   "metadata": {
    "execution": {
     "iopub.execute_input": "2022-03-23T04:59:06.890306Z",
     "iopub.status.busy": "2022-03-23T04:59:06.889458Z",
     "iopub.status.idle": "2022-03-23T04:59:08.718973Z",
     "shell.execute_reply": "2022-03-23T04:59:08.718531Z"
    },
    "papermill": {
     "duration": 1.867665,
     "end_time": "2022-03-23T04:59:08.719080",
     "exception": false,
     "start_time": "2022-03-23T04:59:06.851415",
     "status": "completed"
    },
    "tags": []
   },
   "outputs": [],
   "source": [
    "%load_ext autoreload\n",
    "%autoreload 2\n",
    "%matplotlib inline\n",
    "\n",
    "    \n",
    "import os, json, sys, time, random\n",
    "import numpy as np\n",
    "import torch\n",
    "from torch.optim import Adam\n",
    "from  easydict import EasyDict\n",
    "import matplotlib.pyplot as plt\n",
    "\n",
    "from steves_models.steves_ptn import Steves_Prototypical_Network\n",
    "\n",
    "from steves_utils.lazy_iterable_wrapper import Lazy_Iterable_Wrapper\n",
    "from steves_utils.iterable_aggregator import Iterable_Aggregator\n",
    "from steves_utils.ptn_train_eval_test_jig import  PTN_Train_Eval_Test_Jig\n",
    "from steves_utils.torch_sequential_builder import build_sequential\n",
    "from steves_utils.torch_utils import get_dataset_metrics, ptn_confusion_by_domain_over_dataloader\n",
    "from steves_utils.utils_v2 import (per_domain_accuracy_from_confusion, get_datasets_base_path)\n",
    "from steves_utils.PTN.utils import independent_accuracy_assesment\n",
    "\n",
    "from torch.utils.data import DataLoader\n",
    "\n",
    "from steves_utils.stratified_dataset.episodic_accessor import Episodic_Accessor_Factory\n",
    "\n",
    "from steves_utils.ptn_do_report import (\n",
    "    get_loss_curve,\n",
    "    get_results_table,\n",
    "    get_parameters_table,\n",
    "    get_domain_accuracies,\n",
    ")\n",
    "\n",
    "from steves_utils.transforms import get_chained_transform"
   ]
  },
  {
   "cell_type": "markdown",
   "id": "41c840b4",
   "metadata": {
    "papermill": {
     "duration": 0.019551,
     "end_time": "2022-03-23T04:59:08.758707",
     "exception": false,
     "start_time": "2022-03-23T04:59:08.739156",
     "status": "completed"
    },
    "tags": []
   },
   "source": [
    "# Allowed Parameters\n",
    "These are allowed parameters, not defaults\n",
    "Each of these values need to be present in the injected parameters (the notebook will raise an exception if they are not present)\n",
    "\n",
    "Papermill uses the cell tag \"parameters\" to inject the real parameters below this cell.\n",
    "Enable tags to see what I mean"
   ]
  },
  {
   "cell_type": "code",
   "execution_count": 2,
   "id": "fd44eb83",
   "metadata": {
    "execution": {
     "iopub.execute_input": "2022-03-23T04:59:08.803238Z",
     "iopub.status.busy": "2022-03-23T04:59:08.800454Z",
     "iopub.status.idle": "2022-03-23T04:59:08.827678Z",
     "shell.execute_reply": "2022-03-23T04:59:08.826832Z"
    },
    "papermill": {
     "duration": 0.049575,
     "end_time": "2022-03-23T04:59:08.827846",
     "exception": false,
     "start_time": "2022-03-23T04:59:08.778271",
     "status": "completed"
    },
    "tags": []
   },
   "outputs": [],
   "source": [
    "required_parameters = {\n",
    "    \"experiment_name\",\n",
    "    \"lr\",\n",
    "    \"device\",\n",
    "    \"seed\",\n",
    "    \"dataset_seed\",\n",
    "    \"n_shot\",\n",
    "    \"n_query\",\n",
    "    \"n_way\",\n",
    "    \"train_k_factor\",\n",
    "    \"val_k_factor\",\n",
    "    \"test_k_factor\",\n",
    "    \"n_epoch\",\n",
    "    \"patience\",\n",
    "    \"criteria_for_best\",\n",
    "    \"x_net\",\n",
    "    \"datasets\",\n",
    "    \"torch_default_dtype\",\n",
    "    \"NUM_LOGS_PER_EPOCH\",\n",
    "    \"BEST_MODEL_PATH\",\n",
    "    \"x_shape\",\n",
    "}"
   ]
  },
  {
   "cell_type": "code",
   "execution_count": 3,
   "id": "fa3f0049",
   "metadata": {
    "execution": {
     "iopub.execute_input": "2022-03-23T04:59:08.888888Z",
     "iopub.status.busy": "2022-03-23T04:59:08.887987Z",
     "iopub.status.idle": "2022-03-23T04:59:08.911752Z",
     "shell.execute_reply": "2022-03-23T04:59:08.910915Z"
    },
    "papermill": {
     "duration": 0.056942,
     "end_time": "2022-03-23T04:59:08.911935",
     "exception": false,
     "start_time": "2022-03-23T04:59:08.854993",
     "status": "completed"
    },
    "tags": [
     "parameters"
    ]
   },
   "outputs": [],
   "source": [
    "from steves_utils.CORES.utils import (\n",
    "    ALL_NODES,\n",
    "    ALL_NODES_MINIMUM_1000_EXAMPLES,\n",
    "    ALL_DAYS\n",
    ")\n",
    "\n",
    "from steves_utils.ORACLE.utils_v2 import (\n",
    "    ALL_DISTANCES_FEET_NARROWED,\n",
    "    ALL_RUNS,\n",
    "    ALL_SERIAL_NUMBERS,\n",
    ")\n",
    "\n",
    "standalone_parameters = {}\n",
    "standalone_parameters[\"experiment_name\"] = \"STANDALONE PTN\"\n",
    "standalone_parameters[\"lr\"] = 0.001\n",
    "standalone_parameters[\"device\"] = \"cuda\"\n",
    "\n",
    "standalone_parameters[\"seed\"] = 1337\n",
    "standalone_parameters[\"dataset_seed\"] = 1337\n",
    "\n",
    "standalone_parameters[\"n_way\"] = 8\n",
    "standalone_parameters[\"n_shot\"] = 3\n",
    "standalone_parameters[\"n_query\"]  = 2\n",
    "standalone_parameters[\"train_k_factor\"] = 1\n",
    "standalone_parameters[\"val_k_factor\"] = 2\n",
    "standalone_parameters[\"test_k_factor\"] = 2\n",
    "\n",
    "\n",
    "standalone_parameters[\"n_epoch\"] = 50\n",
    "\n",
    "standalone_parameters[\"patience\"] = 10\n",
    "standalone_parameters[\"criteria_for_best\"] = \"source_loss\"\n",
    "\n",
    "standalone_parameters[\"datasets\"] = [\n",
    "    {\n",
    "        \"labels\": ALL_SERIAL_NUMBERS,\n",
    "        \"domains\": ALL_DISTANCES_FEET_NARROWED,\n",
    "        \"num_examples_per_domain_per_label\": 100,\n",
    "        \"pickle_path\": os.path.join(get_datasets_base_path(), \"oracle.Run1_framed_2000Examples_stratified_ds.2022A.pkl\"),\n",
    "        \"source_or_target_dataset\": \"source\",\n",
    "        \"x_transforms\": [\"unit_mag\", \"minus_two\"],\n",
    "        \"episode_transforms\": [],\n",
    "        \"domain_prefix\": \"ORACLE_\"\n",
    "    },\n",
    "    {\n",
    "        \"labels\": ALL_NODES,\n",
    "        \"domains\": ALL_DAYS,\n",
    "        \"num_examples_per_domain_per_label\": 100,\n",
    "        \"pickle_path\": os.path.join(get_datasets_base_path(), \"cores.stratified_ds.2022A.pkl\"),\n",
    "        \"source_or_target_dataset\": \"target\",\n",
    "        \"x_transforms\": [\"unit_power\", \"times_zero\"],\n",
    "        \"episode_transforms\": [],\n",
    "        \"domain_prefix\": \"CORES_\"\n",
    "    }   \n",
    "]\n",
    "\n",
    "standalone_parameters[\"torch_default_dtype\"] = \"torch.float32\" \n",
    "\n",
    "\n",
    "\n",
    "standalone_parameters[\"x_net\"] =     [\n",
    "    {\"class\": \"nnReshape\", \"kargs\": {\"shape\":[-1, 1, 2, 256]}},\n",
    "    {\"class\": \"Conv2d\", \"kargs\": { \"in_channels\":1, \"out_channels\":256, \"kernel_size\":(1,7), \"bias\":False, \"padding\":(0,3), },},\n",
    "    {\"class\": \"ReLU\", \"kargs\": {\"inplace\": True}},\n",
    "    {\"class\": \"BatchNorm2d\", \"kargs\": {\"num_features\":256}},\n",
    "\n",
    "    {\"class\": \"Conv2d\", \"kargs\": { \"in_channels\":256, \"out_channels\":80, \"kernel_size\":(2,7), \"bias\":True, \"padding\":(0,3), },},\n",
    "    {\"class\": \"ReLU\", \"kargs\": {\"inplace\": True}},\n",
    "    {\"class\": \"BatchNorm2d\", \"kargs\": {\"num_features\":80}},\n",
    "    {\"class\": \"Flatten\", \"kargs\": {}},\n",
    "\n",
    "    {\"class\": \"Linear\", \"kargs\": {\"in_features\": 80*256, \"out_features\": 256}}, # 80 units per IQ pair\n",
    "    {\"class\": \"ReLU\", \"kargs\": {\"inplace\": True}},\n",
    "    {\"class\": \"BatchNorm1d\", \"kargs\": {\"num_features\":256}},\n",
    "\n",
    "    {\"class\": \"Linear\", \"kargs\": {\"in_features\": 256, \"out_features\": 256}},\n",
    "]\n",
    "\n",
    "# Parameters relevant to results\n",
    "# These parameters will basically never need to change\n",
    "standalone_parameters[\"NUM_LOGS_PER_EPOCH\"] = 10\n",
    "standalone_parameters[\"BEST_MODEL_PATH\"] = \"./best_model.pth\"\n",
    "\n",
    "\n",
    "\n",
    "\n"
   ]
  },
  {
   "cell_type": "code",
   "execution_count": 4,
   "id": "f683615e",
   "metadata": {
    "execution": {
     "iopub.execute_input": "2022-03-23T04:59:08.973471Z",
     "iopub.status.busy": "2022-03-23T04:59:08.972476Z",
     "iopub.status.idle": "2022-03-23T04:59:08.995205Z",
     "shell.execute_reply": "2022-03-23T04:59:08.994396Z"
    },
    "papermill": {
     "duration": 0.058602,
     "end_time": "2022-03-23T04:59:08.995370",
     "exception": false,
     "start_time": "2022-03-23T04:59:08.936768",
     "status": "completed"
    },
    "tags": [
     "injected-parameters"
    ]
   },
   "outputs": [],
   "source": [
    "# Parameters\n",
    "parameters = {\n",
    "    \"experiment_name\": \"tl_1v2:wisig-oracle.run1.limited\",\n",
    "    \"device\": \"cuda\",\n",
    "    \"lr\": 0.0001,\n",
    "    \"n_shot\": 3,\n",
    "    \"n_query\": 2,\n",
    "    \"train_k_factor\": 3,\n",
    "    \"val_k_factor\": 2,\n",
    "    \"test_k_factor\": 2,\n",
    "    \"torch_default_dtype\": \"torch.float32\",\n",
    "    \"n_epoch\": 50,\n",
    "    \"patience\": 3,\n",
    "    \"criteria_for_best\": \"target_accuracy\",\n",
    "    \"x_net\": [\n",
    "        {\"class\": \"nnReshape\", \"kargs\": {\"shape\": [-1, 1, 2, 256]}},\n",
    "        {\n",
    "            \"class\": \"Conv2d\",\n",
    "            \"kargs\": {\n",
    "                \"in_channels\": 1,\n",
    "                \"out_channels\": 256,\n",
    "                \"kernel_size\": [1, 7],\n",
    "                \"bias\": False,\n",
    "                \"padding\": [0, 3],\n",
    "            },\n",
    "        },\n",
    "        {\"class\": \"ReLU\", \"kargs\": {\"inplace\": True}},\n",
    "        {\"class\": \"BatchNorm2d\", \"kargs\": {\"num_features\": 256}},\n",
    "        {\n",
    "            \"class\": \"Conv2d\",\n",
    "            \"kargs\": {\n",
    "                \"in_channels\": 256,\n",
    "                \"out_channels\": 80,\n",
    "                \"kernel_size\": [2, 7],\n",
    "                \"bias\": True,\n",
    "                \"padding\": [0, 3],\n",
    "            },\n",
    "        },\n",
    "        {\"class\": \"ReLU\", \"kargs\": {\"inplace\": True}},\n",
    "        {\"class\": \"BatchNorm2d\", \"kargs\": {\"num_features\": 80}},\n",
    "        {\"class\": \"Flatten\", \"kargs\": {}},\n",
    "        {\"class\": \"Linear\", \"kargs\": {\"in_features\": 20480, \"out_features\": 256}},\n",
    "        {\"class\": \"ReLU\", \"kargs\": {\"inplace\": True}},\n",
    "        {\"class\": \"BatchNorm1d\", \"kargs\": {\"num_features\": 256}},\n",
    "        {\"class\": \"Linear\", \"kargs\": {\"in_features\": 256, \"out_features\": 256}},\n",
    "    ],\n",
    "    \"NUM_LOGS_PER_EPOCH\": 10,\n",
    "    \"BEST_MODEL_PATH\": \"./best_model.pth\",\n",
    "    \"n_way\": 16,\n",
    "    \"datasets\": [\n",
    "        {\n",
    "            \"labels\": [\n",
    "                \"1-10\",\n",
    "                \"1-12\",\n",
    "                \"1-14\",\n",
    "                \"1-16\",\n",
    "                \"1-18\",\n",
    "                \"1-19\",\n",
    "                \"1-8\",\n",
    "                \"10-11\",\n",
    "                \"10-17\",\n",
    "                \"10-4\",\n",
    "                \"10-7\",\n",
    "                \"11-1\",\n",
    "                \"11-10\",\n",
    "                \"11-19\",\n",
    "                \"11-20\",\n",
    "                \"11-4\",\n",
    "                \"11-7\",\n",
    "                \"12-19\",\n",
    "                \"12-20\",\n",
    "                \"12-7\",\n",
    "                \"13-14\",\n",
    "                \"13-18\",\n",
    "                \"13-19\",\n",
    "                \"13-20\",\n",
    "                \"13-3\",\n",
    "                \"13-7\",\n",
    "                \"14-10\",\n",
    "                \"14-11\",\n",
    "                \"14-12\",\n",
    "                \"14-13\",\n",
    "                \"14-14\",\n",
    "                \"14-19\",\n",
    "                \"14-20\",\n",
    "                \"14-7\",\n",
    "                \"14-8\",\n",
    "                \"14-9\",\n",
    "                \"15-1\",\n",
    "                \"15-19\",\n",
    "                \"15-6\",\n",
    "                \"16-1\",\n",
    "                \"16-16\",\n",
    "                \"16-19\",\n",
    "                \"16-20\",\n",
    "                \"17-10\",\n",
    "                \"17-11\",\n",
    "                \"18-1\",\n",
    "                \"18-10\",\n",
    "                \"18-11\",\n",
    "                \"18-12\",\n",
    "                \"18-13\",\n",
    "                \"18-14\",\n",
    "                \"18-15\",\n",
    "                \"18-16\",\n",
    "                \"18-17\",\n",
    "                \"18-19\",\n",
    "                \"18-2\",\n",
    "                \"18-20\",\n",
    "                \"18-4\",\n",
    "                \"18-5\",\n",
    "                \"18-7\",\n",
    "                \"18-8\",\n",
    "                \"18-9\",\n",
    "                \"19-1\",\n",
    "                \"19-10\",\n",
    "                \"19-11\",\n",
    "                \"19-12\",\n",
    "                \"19-13\",\n",
    "                \"19-14\",\n",
    "                \"19-15\",\n",
    "                \"19-19\",\n",
    "                \"19-2\",\n",
    "                \"19-20\",\n",
    "                \"19-3\",\n",
    "                \"19-4\",\n",
    "                \"19-6\",\n",
    "                \"19-7\",\n",
    "                \"19-8\",\n",
    "                \"19-9\",\n",
    "                \"2-1\",\n",
    "                \"2-13\",\n",
    "                \"2-15\",\n",
    "                \"2-3\",\n",
    "                \"2-4\",\n",
    "                \"2-5\",\n",
    "                \"2-6\",\n",
    "                \"2-7\",\n",
    "                \"2-8\",\n",
    "                \"20-1\",\n",
    "                \"20-12\",\n",
    "                \"20-14\",\n",
    "                \"20-15\",\n",
    "                \"20-16\",\n",
    "                \"20-18\",\n",
    "                \"20-19\",\n",
    "                \"20-20\",\n",
    "                \"20-3\",\n",
    "                \"20-4\",\n",
    "                \"20-5\",\n",
    "                \"20-7\",\n",
    "                \"20-8\",\n",
    "                \"3-1\",\n",
    "                \"3-13\",\n",
    "                \"3-18\",\n",
    "                \"3-2\",\n",
    "                \"3-8\",\n",
    "                \"4-1\",\n",
    "                \"4-10\",\n",
    "                \"4-11\",\n",
    "                \"5-1\",\n",
    "                \"5-5\",\n",
    "                \"6-1\",\n",
    "                \"6-15\",\n",
    "                \"6-6\",\n",
    "                \"7-10\",\n",
    "                \"7-11\",\n",
    "                \"7-12\",\n",
    "                \"7-13\",\n",
    "                \"7-14\",\n",
    "                \"7-7\",\n",
    "                \"7-8\",\n",
    "                \"7-9\",\n",
    "                \"8-1\",\n",
    "                \"8-13\",\n",
    "                \"8-14\",\n",
    "                \"8-18\",\n",
    "                \"8-20\",\n",
    "                \"8-3\",\n",
    "                \"8-8\",\n",
    "                \"9-1\",\n",
    "                \"9-7\",\n",
    "            ],\n",
    "            \"domains\": [1, 2, 3, 4],\n",
    "            \"num_examples_per_domain_per_label\": -1,\n",
    "            \"pickle_path\": \"/root/csc500-main/datasets/wisig.node3-19.stratified_ds.2022A.pkl\",\n",
    "            \"source_or_target_dataset\": \"target\",\n",
    "            \"x_transforms\": [],\n",
    "            \"episode_transforms\": [],\n",
    "            \"domain_prefix\": \"Wisig_\",\n",
    "        },\n",
    "        {\n",
    "            \"labels\": [\n",
    "                \"3123D52\",\n",
    "                \"3123D65\",\n",
    "                \"3123D79\",\n",
    "                \"3123D80\",\n",
    "                \"3123D54\",\n",
    "                \"3123D70\",\n",
    "                \"3123D7B\",\n",
    "                \"3123D89\",\n",
    "                \"3123D58\",\n",
    "                \"3123D76\",\n",
    "                \"3123D7D\",\n",
    "                \"3123EFE\",\n",
    "                \"3123D64\",\n",
    "                \"3123D78\",\n",
    "                \"3123D7E\",\n",
    "                \"3124E4A\",\n",
    "            ],\n",
    "            \"domains\": [32, 38, 8, 44, 14, 50, 20, 26],\n",
    "            \"num_examples_per_domain_per_label\": 2000,\n",
    "            \"pickle_path\": \"/root/csc500-main/datasets/oracle.Run1_10kExamples_stratified_ds.2022A.pkl\",\n",
    "            \"source_or_target_dataset\": \"source\",\n",
    "            \"x_transforms\": [],\n",
    "            \"episode_transforms\": [],\n",
    "            \"domain_prefix\": \"ORACLE.run1\",\n",
    "        },\n",
    "    ],\n",
    "    \"dataset_seed\": 7,\n",
    "    \"seed\": 7,\n",
    "}\n"
   ]
  },
  {
   "cell_type": "code",
   "execution_count": 5,
   "id": "8fa1cc33",
   "metadata": {
    "execution": {
     "iopub.execute_input": "2022-03-23T04:59:09.052165Z",
     "iopub.status.busy": "2022-03-23T04:59:09.051598Z",
     "iopub.status.idle": "2022-03-23T04:59:09.075258Z",
     "shell.execute_reply": "2022-03-23T04:59:09.074442Z"
    },
    "papermill": {
     "duration": 0.050602,
     "end_time": "2022-03-23T04:59:09.075423",
     "exception": false,
     "start_time": "2022-03-23T04:59:09.024821",
     "status": "completed"
    },
    "tags": []
   },
   "outputs": [],
   "source": [
    "# Set this to True if you want to run this template directly\n",
    "STANDALONE = False\n",
    "if STANDALONE:\n",
    "    print(\"parameters not injected, running with standalone_parameters\")\n",
    "    parameters = standalone_parameters\n",
    "\n",
    "if not 'parameters' in locals() and not 'parameters' in globals():\n",
    "    raise Exception(\"Parameter injection failed\")\n",
    "\n",
    "#Use an easy dict for all the parameters\n",
    "p = EasyDict(parameters)\n",
    "\n",
    "if \"x_shape\" not in p:\n",
    "    p.x_shape = [2,256] # Default to this if we dont supply x_shape\n",
    "\n",
    "\n",
    "supplied_keys = set(p.keys())\n",
    "\n",
    "if  supplied_keys != required_parameters:\n",
    "    print(\"Parameters are incorrect\")\n",
    "    if len(supplied_keys - required_parameters)>0: print(\"Shouldn't have:\", str(supplied_keys - required_parameters))\n",
    "    if len(required_parameters - supplied_keys)>0: print(\"Need to have:\", str(required_parameters - supplied_keys))\n",
    "    raise RuntimeError(\"Parameters are incorrect\")"
   ]
  },
  {
   "cell_type": "code",
   "execution_count": 6,
   "id": "3a028d58",
   "metadata": {
    "execution": {
     "iopub.execute_input": "2022-03-23T04:59:09.127283Z",
     "iopub.status.busy": "2022-03-23T04:59:09.126915Z",
     "iopub.status.idle": "2022-03-23T04:59:09.150979Z",
     "shell.execute_reply": "2022-03-23T04:59:09.150168Z"
    },
    "papermill": {
     "duration": 0.048395,
     "end_time": "2022-03-23T04:59:09.151143",
     "exception": false,
     "start_time": "2022-03-23T04:59:09.102748",
     "status": "completed"
    },
    "tags": []
   },
   "outputs": [],
   "source": [
    "###################################\n",
    "# Set the RNGs and make it all deterministic\n",
    "###################################\n",
    "np.random.seed(p.seed)\n",
    "random.seed(p.seed)\n",
    "torch.manual_seed(p.seed)\n",
    "\n",
    "torch.use_deterministic_algorithms(True) "
   ]
  },
  {
   "cell_type": "code",
   "execution_count": 7,
   "id": "b691acf6",
   "metadata": {
    "execution": {
     "iopub.execute_input": "2022-03-23T04:59:09.202341Z",
     "iopub.status.busy": "2022-03-23T04:59:09.201958Z",
     "iopub.status.idle": "2022-03-23T04:59:09.229671Z",
     "shell.execute_reply": "2022-03-23T04:59:09.230351Z"
    },
    "papermill": {
     "duration": 0.05162,
     "end_time": "2022-03-23T04:59:09.230534",
     "exception": false,
     "start_time": "2022-03-23T04:59:09.178914",
     "status": "completed"
    },
    "tags": []
   },
   "outputs": [],
   "source": [
    "###########################################\n",
    "# The stratified datasets honor this\n",
    "###########################################\n",
    "torch.set_default_dtype(eval(p.torch_default_dtype))"
   ]
  },
  {
   "cell_type": "code",
   "execution_count": 8,
   "id": "b5fba671",
   "metadata": {
    "execution": {
     "iopub.execute_input": "2022-03-23T04:59:09.281711Z",
     "iopub.status.busy": "2022-03-23T04:59:09.281346Z",
     "iopub.status.idle": "2022-03-23T04:59:09.339884Z",
     "shell.execute_reply": "2022-03-23T04:59:09.339164Z"
    },
    "papermill": {
     "duration": 0.081883,
     "end_time": "2022-03-23T04:59:09.340037",
     "exception": false,
     "start_time": "2022-03-23T04:59:09.258154",
     "status": "completed"
    },
    "tags": []
   },
   "outputs": [],
   "source": [
    "###################################\n",
    "# Build the network(s)\n",
    "# Note: It's critical to do this AFTER setting the RNG\n",
    "###################################\n",
    "x_net = build_sequential(p.x_net)"
   ]
  },
  {
   "cell_type": "code",
   "execution_count": 9,
   "id": "5d7e61cc",
   "metadata": {
    "execution": {
     "iopub.execute_input": "2022-03-23T04:59:09.389005Z",
     "iopub.status.busy": "2022-03-23T04:59:09.388644Z",
     "iopub.status.idle": "2022-03-23T04:59:09.414165Z",
     "shell.execute_reply": "2022-03-23T04:59:09.413457Z"
    },
    "papermill": {
     "duration": 0.049538,
     "end_time": "2022-03-23T04:59:09.414318",
     "exception": false,
     "start_time": "2022-03-23T04:59:09.364780",
     "status": "completed"
    },
    "tags": []
   },
   "outputs": [],
   "source": [
    "start_time_secs = time.time()"
   ]
  },
  {
   "cell_type": "code",
   "execution_count": 10,
   "id": "c6b67dfd",
   "metadata": {
    "execution": {
     "iopub.execute_input": "2022-03-23T04:59:09.464089Z",
     "iopub.status.busy": "2022-03-23T04:59:09.463725Z",
     "iopub.status.idle": "2022-03-23T04:59:09.484919Z",
     "shell.execute_reply": "2022-03-23T04:59:09.485551Z"
    },
    "papermill": {
     "duration": 0.045589,
     "end_time": "2022-03-23T04:59:09.485732",
     "exception": false,
     "start_time": "2022-03-23T04:59:09.440143",
     "status": "completed"
    },
    "tags": []
   },
   "outputs": [],
   "source": [
    "p.domains_source = []\n",
    "p.domains_target = []\n",
    "\n",
    "\n",
    "train_original_source = []\n",
    "val_original_source   = []\n",
    "test_original_source  = []\n",
    "\n",
    "train_original_target = []\n",
    "val_original_target   = []\n",
    "test_original_target  = []"
   ]
  },
  {
   "cell_type": "code",
   "execution_count": 11,
   "id": "e3d9c3d3",
   "metadata": {
    "execution": {
     "iopub.execute_input": "2022-03-23T04:59:09.535832Z",
     "iopub.status.busy": "2022-03-23T04:59:09.535450Z",
     "iopub.status.idle": "2022-03-23T04:59:09.560543Z",
     "shell.execute_reply": "2022-03-23T04:59:09.559834Z"
    },
    "papermill": {
     "duration": 0.048554,
     "end_time": "2022-03-23T04:59:09.560698",
     "exception": false,
     "start_time": "2022-03-23T04:59:09.512144",
     "status": "completed"
    },
    "tags": []
   },
   "outputs": [],
   "source": [
    "# global_x_transform_func = lambda x: normalize(x.to(torch.get_default_dtype()), \"unit_power\") # unit_power, unit_mag\n",
    "# global_x_transform_func = lambda x: normalize(x, \"unit_power\") # unit_power, unit_mag"
   ]
  },
  {
   "cell_type": "code",
   "execution_count": 12,
   "id": "acb78fd2",
   "metadata": {
    "execution": {
     "iopub.execute_input": "2022-03-23T04:59:09.618429Z",
     "iopub.status.busy": "2022-03-23T04:59:09.617571Z",
     "iopub.status.idle": "2022-03-23T04:59:09.649167Z",
     "shell.execute_reply": "2022-03-23T04:59:09.648464Z"
    },
    "papermill": {
     "duration": 0.059822,
     "end_time": "2022-03-23T04:59:09.649323",
     "exception": false,
     "start_time": "2022-03-23T04:59:09.589501",
     "status": "completed"
    },
    "tags": []
   },
   "outputs": [],
   "source": [
    "def add_dataset(\n",
    "    labels,\n",
    "    domains,\n",
    "    pickle_path,\n",
    "    x_transforms,\n",
    "    episode_transforms,\n",
    "    domain_prefix,\n",
    "    num_examples_per_domain_per_label,\n",
    "    source_or_target_dataset:str,\n",
    "    iterator_seed=p.seed,\n",
    "    dataset_seed=p.dataset_seed,\n",
    "    n_shot=p.n_shot,\n",
    "    n_way=p.n_way,\n",
    "    n_query=p.n_query,\n",
    "    train_val_test_k_factors=(p.train_k_factor,p.val_k_factor,p.test_k_factor),\n",
    "):\n",
    "   \n",
    "    if x_transforms == []: x_transform = None\n",
    "    else: x_transform = get_chained_transform(x_transforms)\n",
    "    \n",
    "    if episode_transforms == []: episode_transform = None\n",
    "    else: raise Exception(\"episode_transforms not implemented\")\n",
    "    \n",
    "    episode_transform = lambda tup, _prefix=domain_prefix: (_prefix + str(tup[0]), tup[1])\n",
    "\n",
    "\n",
    "    eaf = Episodic_Accessor_Factory(\n",
    "        labels=labels,\n",
    "        domains=domains,\n",
    "        num_examples_per_domain_per_label=num_examples_per_domain_per_label,\n",
    "        iterator_seed=iterator_seed,\n",
    "        dataset_seed=dataset_seed,\n",
    "        n_shot=n_shot,\n",
    "        n_way=n_way,\n",
    "        n_query=n_query,\n",
    "        train_val_test_k_factors=train_val_test_k_factors,\n",
    "        pickle_path=pickle_path,\n",
    "        x_transform_func=x_transform,\n",
    "    )\n",
    "\n",
    "    train, val, test = eaf.get_train(), eaf.get_val(), eaf.get_test()\n",
    "    train = Lazy_Iterable_Wrapper(train, episode_transform)\n",
    "    val = Lazy_Iterable_Wrapper(val, episode_transform)\n",
    "    test = Lazy_Iterable_Wrapper(test, episode_transform)\n",
    "\n",
    "    if source_or_target_dataset==\"source\":\n",
    "        train_original_source.append(train)\n",
    "        val_original_source.append(val)\n",
    "        test_original_source.append(test)\n",
    "\n",
    "        p.domains_source.extend(\n",
    "            [domain_prefix + str(u) for u in domains]\n",
    "        )\n",
    "    elif source_or_target_dataset==\"target\":\n",
    "        train_original_target.append(train)\n",
    "        val_original_target.append(val)\n",
    "        test_original_target.append(test)\n",
    "        p.domains_target.extend(\n",
    "            [domain_prefix + str(u) for u in domains]\n",
    "        )\n",
    "    else:\n",
    "        raise Exception(f\"invalid source_or_target_dataset: {source_or_target_dataset}\")\n",
    "    "
   ]
  },
  {
   "cell_type": "code",
   "execution_count": 13,
   "id": "fe266617",
   "metadata": {
    "execution": {
     "iopub.execute_input": "2022-03-23T04:59:09.702711Z",
     "iopub.status.busy": "2022-03-23T04:59:09.702268Z",
     "iopub.status.idle": "2022-03-23T04:59:15.699991Z",
     "shell.execute_reply": "2022-03-23T04:59:15.699188Z"
    },
    "papermill": {
     "duration": 6.021747,
     "end_time": "2022-03-23T04:59:15.700174",
     "exception": false,
     "start_time": "2022-03-23T04:59:09.678427",
     "status": "completed"
    },
    "tags": []
   },
   "outputs": [],
   "source": [
    "for ds in p.datasets:\n",
    "    add_dataset(**ds)"
   ]
  },
  {
   "cell_type": "code",
   "execution_count": 14,
   "id": "b90d65ac",
   "metadata": {
    "execution": {
     "iopub.execute_input": "2022-03-23T04:59:15.750291Z",
     "iopub.status.busy": "2022-03-23T04:59:15.749738Z",
     "iopub.status.idle": "2022-03-23T04:59:15.772439Z",
     "shell.execute_reply": "2022-03-23T04:59:15.771651Z"
    },
    "papermill": {
     "duration": 0.046604,
     "end_time": "2022-03-23T04:59:15.772590",
     "exception": false,
     "start_time": "2022-03-23T04:59:15.725986",
     "status": "completed"
    },
    "tags": []
   },
   "outputs": [],
   "source": [
    "# from steves_utils.CORES.utils import (\n",
    "#     ALL_NODES,\n",
    "#     ALL_NODES_MINIMUM_1000_EXAMPLES,\n",
    "#     ALL_DAYS\n",
    "# )\n",
    "\n",
    "# add_dataset(\n",
    "#     labels=ALL_NODES,\n",
    "#     domains = ALL_DAYS,\n",
    "#     num_examples_per_domain_per_label=100,\n",
    "#     pickle_path=os.path.join(get_datasets_base_path(), \"cores.stratified_ds.2022A.pkl\"),\n",
    "#     source_or_target_dataset=\"target\",\n",
    "#     x_transform_func=global_x_transform_func,\n",
    "#     domain_modifier=lambda u: f\"cores_{u}\"\n",
    "# )"
   ]
  },
  {
   "cell_type": "code",
   "execution_count": 15,
   "id": "76db484d",
   "metadata": {
    "execution": {
     "iopub.execute_input": "2022-03-23T04:59:15.821253Z",
     "iopub.status.busy": "2022-03-23T04:59:15.820575Z",
     "iopub.status.idle": "2022-03-23T04:59:15.842925Z",
     "shell.execute_reply": "2022-03-23T04:59:15.842230Z"
    },
    "papermill": {
     "duration": 0.045669,
     "end_time": "2022-03-23T04:59:15.843075",
     "exception": false,
     "start_time": "2022-03-23T04:59:15.797406",
     "status": "completed"
    },
    "tags": []
   },
   "outputs": [],
   "source": [
    "# from steves_utils.ORACLE.utils_v2 import (\n",
    "#     ALL_DISTANCES_FEET,\n",
    "#     ALL_RUNS,\n",
    "#     ALL_SERIAL_NUMBERS,\n",
    "# )\n",
    "\n",
    "\n",
    "# add_dataset(\n",
    "#     labels=ALL_SERIAL_NUMBERS,\n",
    "#     domains = list(set(ALL_DISTANCES_FEET) - {2,62}),\n",
    "#     num_examples_per_domain_per_label=100,\n",
    "#     pickle_path=os.path.join(get_datasets_base_path(), \"oracle.Run2_framed_2000Examples_stratified_ds.2022A.pkl\"),\n",
    "#     source_or_target_dataset=\"source\",\n",
    "#     x_transform_func=global_x_transform_func,\n",
    "#     domain_modifier=lambda u: f\"oracle1_{u}\"\n",
    "# )\n"
   ]
  },
  {
   "cell_type": "code",
   "execution_count": 16,
   "id": "97dea9d2",
   "metadata": {
    "execution": {
     "iopub.execute_input": "2022-03-23T04:59:15.893079Z",
     "iopub.status.busy": "2022-03-23T04:59:15.892202Z",
     "iopub.status.idle": "2022-03-23T04:59:15.916059Z",
     "shell.execute_reply": "2022-03-23T04:59:15.915319Z"
    },
    "papermill": {
     "duration": 0.047673,
     "end_time": "2022-03-23T04:59:15.916213",
     "exception": false,
     "start_time": "2022-03-23T04:59:15.868540",
     "status": "completed"
    },
    "tags": []
   },
   "outputs": [],
   "source": [
    "# from steves_utils.ORACLE.utils_v2 import (\n",
    "#     ALL_DISTANCES_FEET,\n",
    "#     ALL_RUNS,\n",
    "#     ALL_SERIAL_NUMBERS,\n",
    "# )\n",
    "\n",
    "\n",
    "# add_dataset(\n",
    "#     labels=ALL_SERIAL_NUMBERS,\n",
    "#     domains = list(set(ALL_DISTANCES_FEET) - {2,62,56}),\n",
    "#     num_examples_per_domain_per_label=100,\n",
    "#     pickle_path=os.path.join(get_datasets_base_path(), \"oracle.Run2_framed_2000Examples_stratified_ds.2022A.pkl\"),\n",
    "#     source_or_target_dataset=\"source\",\n",
    "#     x_transform_func=global_x_transform_func,\n",
    "#     domain_modifier=lambda u: f\"oracle2_{u}\"\n",
    "# )"
   ]
  },
  {
   "cell_type": "code",
   "execution_count": 17,
   "id": "6f289866",
   "metadata": {
    "execution": {
     "iopub.execute_input": "2022-03-23T04:59:15.968020Z",
     "iopub.status.busy": "2022-03-23T04:59:15.967629Z",
     "iopub.status.idle": "2022-03-23T04:59:15.990172Z",
     "shell.execute_reply": "2022-03-23T04:59:15.990802Z"
    },
    "papermill": {
     "duration": 0.04641,
     "end_time": "2022-03-23T04:59:15.990984",
     "exception": false,
     "start_time": "2022-03-23T04:59:15.944574",
     "status": "completed"
    },
    "tags": []
   },
   "outputs": [],
   "source": [
    "# add_dataset(\n",
    "#     labels=list(range(19)),\n",
    "#     domains = [0,1,2],\n",
    "#     num_examples_per_domain_per_label=100,\n",
    "#     pickle_path=os.path.join(get_datasets_base_path(), \"metehan.stratified_ds.2022A.pkl\"),\n",
    "#     source_or_target_dataset=\"target\",\n",
    "#     x_transform_func=global_x_transform_func,\n",
    "#     domain_modifier=lambda u: f\"met_{u}\"\n",
    "# )"
   ]
  },
  {
   "cell_type": "code",
   "execution_count": 18,
   "id": "86a863c3",
   "metadata": {
    "execution": {
     "iopub.execute_input": "2022-03-23T04:59:16.040942Z",
     "iopub.status.busy": "2022-03-23T04:59:16.039856Z",
     "iopub.status.idle": "2022-03-23T04:59:16.061957Z",
     "shell.execute_reply": "2022-03-23T04:59:16.061159Z"
    },
    "papermill": {
     "duration": 0.045458,
     "end_time": "2022-03-23T04:59:16.062108",
     "exception": false,
     "start_time": "2022-03-23T04:59:16.016650",
     "status": "completed"
    },
    "tags": []
   },
   "outputs": [],
   "source": [
    "# # from steves_utils.wisig.utils import (\n",
    "# #     ALL_NODES_MINIMUM_100_EXAMPLES,\n",
    "# #     ALL_NODES_MINIMUM_500_EXAMPLES,\n",
    "# #     ALL_NODES_MINIMUM_1000_EXAMPLES,\n",
    "# #     ALL_DAYS\n",
    "# # )\n",
    "\n",
    "# import steves_utils.wisig.utils as wisig\n",
    "\n",
    "\n",
    "# add_dataset(\n",
    "#     labels=wisig.ALL_NODES_MINIMUM_100_EXAMPLES,\n",
    "#     domains = wisig.ALL_DAYS,\n",
    "#     num_examples_per_domain_per_label=100,\n",
    "#     pickle_path=os.path.join(get_datasets_base_path(), \"wisig.node3-19.stratified_ds.2022A.pkl\"),\n",
    "#     source_or_target_dataset=\"target\",\n",
    "#     x_transform_func=global_x_transform_func,\n",
    "#     domain_modifier=lambda u: f\"wisig_{u}\"\n",
    "# )"
   ]
  },
  {
   "cell_type": "code",
   "execution_count": 19,
   "id": "fd5442bc",
   "metadata": {
    "execution": {
     "iopub.execute_input": "2022-03-23T04:59:16.119149Z",
     "iopub.status.busy": "2022-03-23T04:59:16.118118Z",
     "iopub.status.idle": "2022-03-23T04:59:16.136491Z",
     "shell.execute_reply": "2022-03-23T04:59:16.135758Z"
    },
    "papermill": {
     "duration": 0.048192,
     "end_time": "2022-03-23T04:59:16.136640",
     "exception": false,
     "start_time": "2022-03-23T04:59:16.088448",
     "status": "completed"
    },
    "tags": []
   },
   "outputs": [],
   "source": [
    "###################################\n",
    "# Build the dataset\n",
    "###################################\n",
    "train_original_source = Iterable_Aggregator(train_original_source, p.seed)\n",
    "val_original_source = Iterable_Aggregator(val_original_source, p.seed)\n",
    "test_original_source = Iterable_Aggregator(test_original_source, p.seed)\n",
    "\n",
    "\n",
    "train_original_target = Iterable_Aggregator(train_original_target, p.seed)\n",
    "val_original_target = Iterable_Aggregator(val_original_target, p.seed)\n",
    "test_original_target = Iterable_Aggregator(test_original_target, p.seed)\n",
    "\n",
    "# For CNN We only use X and Y. And we only train on the source.\n",
    "# Properly form the data using a transform lambda and Lazy_Iterable_Wrapper. Finally wrap them in a dataloader\n",
    "\n",
    "transform_lambda = lambda ex: ex[1] # Original is (<domain>, <episode>) so we strip down to episode only\n",
    "\n",
    "train_processed_source = Lazy_Iterable_Wrapper(train_original_source, transform_lambda)\n",
    "val_processed_source   = Lazy_Iterable_Wrapper(val_original_source, transform_lambda)\n",
    "test_processed_source  = Lazy_Iterable_Wrapper(test_original_source, transform_lambda)\n",
    "\n",
    "train_processed_target = Lazy_Iterable_Wrapper(train_original_target, transform_lambda)\n",
    "val_processed_target   = Lazy_Iterable_Wrapper(val_original_target, transform_lambda)\n",
    "test_processed_target  = Lazy_Iterable_Wrapper(test_original_target, transform_lambda)\n",
    "\n",
    "datasets = EasyDict({\n",
    "    \"source\": {\n",
    "        \"original\": {\"train\":train_original_source, \"val\":val_original_source, \"test\":test_original_source},\n",
    "        \"processed\": {\"train\":train_processed_source, \"val\":val_processed_source, \"test\":test_processed_source}\n",
    "    },\n",
    "    \"target\": {\n",
    "        \"original\": {\"train\":train_original_target, \"val\":val_original_target, \"test\":test_original_target},\n",
    "        \"processed\": {\"train\":train_processed_target, \"val\":val_processed_target, \"test\":test_processed_target}\n",
    "    },\n",
    "})"
   ]
  },
  {
   "cell_type": "code",
   "execution_count": 20,
   "id": "5b3c01fc",
   "metadata": {
    "execution": {
     "iopub.execute_input": "2022-03-23T04:59:16.192324Z",
     "iopub.status.busy": "2022-03-23T04:59:16.189801Z",
     "iopub.status.idle": "2022-03-23T04:59:30.695037Z",
     "shell.execute_reply": "2022-03-23T04:59:30.695390Z"
    },
    "papermill": {
     "duration": 14.529996,
     "end_time": "2022-03-23T04:59:30.695559",
     "exception": false,
     "start_time": "2022-03-23T04:59:16.165563",
     "status": "completed"
    },
    "tags": []
   },
   "outputs": [
    {
     "name": "stdout",
     "output_type": "stream",
     "text": [
      "{'ORACLE.run120', 'ORACLE.run114', 'ORACLE.run132', 'ORACLE.run138', 'ORACLE.run18', 'ORACLE.run144', 'ORACLE.run126', 'ORACLE.run150'}\n"
     ]
    },
    {
     "name": "stdout",
     "output_type": "stream",
     "text": [
      "{'Wisig_1', 'Wisig_3', 'Wisig_2', 'Wisig_4'}\n"
     ]
    },
    {
     "name": "stdout",
     "output_type": "stream",
     "text": [
      "tensor([[[-1.8616e-03,  3.6622e-03,  4.8524e-03,  ...,  0.0000e+00,\n",
      "          -1.6175e-03,  4.4252e-03],\n",
      "         [-3.0519e-04, -1.3428e-03, -3.5401e-03,  ...,  3.9674e-04,\n",
      "          -2.8687e-03,  1.4344e-03]],\n",
      "\n",
      "        [[-2.1363e-03, -2.0753e-03,  6.8056e-03,  ...,  1.1292e-03,\n",
      "           6.7141e-04, -2.9603e-03],\n",
      "         [-4.2726e-04,  2.5330e-03, -2.1363e-03,  ...,  1.5870e-03,\n",
      "           1.0071e-03,  1.8311e-04]],\n",
      "\n",
      "        [[-8.2705e-03, -1.2207e-03,  3.8148e-03,  ...,  1.9837e-03,\n",
      "          -3.2044e-03, -1.0071e-03],\n",
      "         [ 1.8616e-03,  2.1973e-03, -4.1505e-03,  ...,  1.2818e-03,\n",
      "           3.2960e-03, -4.5473e-03]],\n",
      "\n",
      "        ...,\n",
      "\n",
      "        [[-2.5025e-03, -2.2584e-03,  4.8219e-03,  ..., -5.7985e-04,\n",
      "           3.5096e-03,  3.7843e-03],\n",
      "         [ 2.8077e-03, -1.0071e-03,  6.1037e-04,  ..., -1.8006e-03,\n",
      "           3.1739e-03,  3.3876e-03]],\n",
      "\n",
      "        [[-2.7772e-03,  1.3428e-03, -9.1556e-05,  ..., -1.1292e-03,\n",
      "          -3.3570e-04,  6.4089e-04],\n",
      "         [-4.3031e-03, -2.9908e-03,  1.0987e-03,  ...,  1.5870e-03,\n",
      "           3.0213e-03,  1.0071e-03]],\n",
      "\n",
      "        [[-1.0376e-03,  4.1505e-03,  1.9227e-03,  ...,  9.4607e-04,\n",
      "           3.5401e-03,  2.0447e-03],\n",
      "         [-1.0071e-03,  2.4415e-04,  4.5167e-03,  ...,  1.8921e-03,\n",
      "           3.0213e-03,  1.4954e-03]]])\n"
     ]
    }
   ],
   "source": [
    "from steves_utils.transforms import get_average_magnitude, get_average_power\n",
    "\n",
    "print(set([u for u,_ in val_original_source]))\n",
    "print(set([u for u,_ in val_original_target]))\n",
    "\n",
    "s_x, s_y, q_x, q_y, _ = next(iter(train_processed_source))\n",
    "print(s_x)\n",
    "\n",
    "# for ds in [\n",
    "#     train_processed_source,\n",
    "#     val_processed_source,\n",
    "#     test_processed_source,\n",
    "#     train_processed_target,\n",
    "#     val_processed_target,\n",
    "#     test_processed_target\n",
    "# ]:\n",
    "#     for s_x, s_y, q_x, q_y, _ in ds:\n",
    "#         for X in (s_x, q_x):\n",
    "#             for x in X:\n",
    "#                 assert np.isclose(get_average_magnitude(x.numpy()), 1.0)\n",
    "#                 assert np.isclose(get_average_power(x.numpy()), 1.0)\n",
    "                "
   ]
  },
  {
   "cell_type": "code",
   "execution_count": 21,
   "id": "bbdacba1",
   "metadata": {
    "execution": {
     "iopub.execute_input": "2022-03-23T04:59:30.750029Z",
     "iopub.status.busy": "2022-03-23T04:59:30.749489Z",
     "iopub.status.idle": "2022-03-23T04:59:30.980479Z",
     "shell.execute_reply": "2022-03-23T04:59:30.980801Z"
    },
    "papermill": {
     "duration": 0.257006,
     "end_time": "2022-03-23T04:59:30.980963",
     "exception": false,
     "start_time": "2022-03-23T04:59:30.723957",
     "status": "completed"
    },
    "tags": []
   },
   "outputs": [
    {
     "name": "stdout",
     "output_type": "stream",
     "text": [
      "(2, 256)\n"
     ]
    }
   ],
   "source": [
    "###################################\n",
    "# Build the model\n",
    "###################################\n",
    "# easfsl only wants a tuple for the shape\n",
    "model = Steves_Prototypical_Network(x_net, device=p.device, x_shape=tuple(p.x_shape))\n",
    "optimizer = Adam(params=model.parameters(), lr=p.lr)"
   ]
  },
  {
   "cell_type": "code",
   "execution_count": 22,
   "id": "22b39ac5",
   "metadata": {
    "execution": {
     "iopub.execute_input": "2022-03-23T04:59:31.030899Z",
     "iopub.status.busy": "2022-03-23T04:59:31.030346Z",
     "iopub.status.idle": "2022-03-23T05:46:31.984802Z",
     "shell.execute_reply": "2022-03-23T05:46:31.984457Z"
    },
    "papermill": {
     "duration": 2820.980492,
     "end_time": "2022-03-23T05:46:31.984887",
     "exception": false,
     "start_time": "2022-03-23T04:59:31.004395",
     "status": "completed"
    },
    "tags": []
   },
   "outputs": [
    {
     "name": "stdout",
     "output_type": "stream",
     "text": [
      "epoch: 1, [batch: 1 / 6720], examples_per_second: 33.7476, train_label_loss: 2.7336, \n"
     ]
    },
    {
     "name": "stdout",
     "output_type": "stream",
     "text": [
      "epoch: 1, [batch: 672 / 6720], examples_per_second: 4914.4828, train_label_loss: 1.6884, \n"
     ]
    },
    {
     "name": "stdout",
     "output_type": "stream",
     "text": [
      "epoch: 1, [batch: 1344 / 6720], examples_per_second: 4986.9935, train_label_loss: 1.0448, \n"
     ]
    },
    {
     "name": "stdout",
     "output_type": "stream",
     "text": [
      "epoch: 1, [batch: 2016 / 6720], examples_per_second: 4959.9244, train_label_loss: 1.2896, \n"
     ]
    },
    {
     "name": "stdout",
     "output_type": "stream",
     "text": [
      "epoch: 1, [batch: 2688 / 6720], examples_per_second: 4755.8179, train_label_loss: 1.1098, \n"
     ]
    },
    {
     "name": "stdout",
     "output_type": "stream",
     "text": [
      "epoch: 1, [batch: 3360 / 6720], examples_per_second: 4814.0481, train_label_loss: 1.0696, \n"
     ]
    },
    {
     "name": "stdout",
     "output_type": "stream",
     "text": [
      "epoch: 1, [batch: 4032 / 6720], examples_per_second: 5021.1178, train_label_loss: 1.2295, \n"
     ]
    },
    {
     "name": "stdout",
     "output_type": "stream",
     "text": [
      "epoch: 1, [batch: 4704 / 6720], examples_per_second: 4824.5443, train_label_loss: 1.2789, \n"
     ]
    },
    {
     "name": "stdout",
     "output_type": "stream",
     "text": [
      "epoch: 1, [batch: 5376 / 6720], examples_per_second: 4912.8505, train_label_loss: 1.0824, \n"
     ]
    },
    {
     "name": "stdout",
     "output_type": "stream",
     "text": [
      "epoch: 1, [batch: 6048 / 6720], examples_per_second: 4897.5406, train_label_loss: 0.8133, \n"
     ]
    },
    {
     "name": "stdout",
     "output_type": "stream",
     "text": [
      "=============================================================\n",
      "epoch: 1, source_val_acc_label: 0.5809, target_val_acc_label: 0.7200, source_val_label_loss: 3.1560, target_val_label_loss: 333.3859, \n",
      "=============================================================\n"
     ]
    },
    {
     "name": "stdout",
     "output_type": "stream",
     "text": [
      "New best\n"
     ]
    },
    {
     "name": "stdout",
     "output_type": "stream",
     "text": [
      "epoch: 2, [batch: 1 / 6720], examples_per_second: 5.1399, train_label_loss: 2.4439, \n"
     ]
    },
    {
     "name": "stdout",
     "output_type": "stream",
     "text": [
      "epoch: 2, [batch: 672 / 6720], examples_per_second: 3862.0036, train_label_loss: 1.2353, \n"
     ]
    },
    {
     "name": "stdout",
     "output_type": "stream",
     "text": [
      "epoch: 2, [batch: 1344 / 6720], examples_per_second: 3956.9838, train_label_loss: 0.5834, \n"
     ]
    },
    {
     "name": "stdout",
     "output_type": "stream",
     "text": [
      "epoch: 2, [batch: 2016 / 6720], examples_per_second: 3992.2914, train_label_loss: 0.4922, \n"
     ]
    },
    {
     "name": "stdout",
     "output_type": "stream",
     "text": [
      "epoch: 2, [batch: 2688 / 6720], examples_per_second: 3916.9818, train_label_loss: 0.6911, \n"
     ]
    },
    {
     "name": "stdout",
     "output_type": "stream",
     "text": [
      "epoch: 2, [batch: 3360 / 6720], examples_per_second: 3921.9524, train_label_loss: 0.8999, \n"
     ]
    },
    {
     "name": "stdout",
     "output_type": "stream",
     "text": [
      "epoch: 2, [batch: 4032 / 6720], examples_per_second: 4044.5034, train_label_loss: 0.8006, \n"
     ]
    },
    {
     "name": "stdout",
     "output_type": "stream",
     "text": [
      "epoch: 2, [batch: 4704 / 6720], examples_per_second: 3924.1016, train_label_loss: 0.8452, \n"
     ]
    },
    {
     "name": "stdout",
     "output_type": "stream",
     "text": [
      "epoch: 2, [batch: 5376 / 6720], examples_per_second: 3877.0751, train_label_loss: 0.3178, \n"
     ]
    },
    {
     "name": "stdout",
     "output_type": "stream",
     "text": [
      "epoch: 2, [batch: 6048 / 6720], examples_per_second: 3879.7552, train_label_loss: 0.3489, \n"
     ]
    },
    {
     "name": "stdout",
     "output_type": "stream",
     "text": [
      "=============================================================\n",
      "epoch: 2, source_val_acc_label: 0.7541, target_val_acc_label: 0.8150, source_val_label_loss: 0.6850, target_val_label_loss: 48.7035, \n",
      "=============================================================\n"
     ]
    },
    {
     "name": "stdout",
     "output_type": "stream",
     "text": [
      "New best\n"
     ]
    },
    {
     "name": "stdout",
     "output_type": "stream",
     "text": [
      "epoch: 3, [batch: 1 / 6720], examples_per_second: 3.8529, train_label_loss: 0.3835, \n"
     ]
    },
    {
     "name": "stdout",
     "output_type": "stream",
     "text": [
      "epoch: 3, [batch: 672 / 6720], examples_per_second: 3868.1071, train_label_loss: 0.9880, \n"
     ]
    },
    {
     "name": "stdout",
     "output_type": "stream",
     "text": [
      "epoch: 3, [batch: 1344 / 6720], examples_per_second: 3949.0446, train_label_loss: 0.3732, \n"
     ]
    },
    {
     "name": "stdout",
     "output_type": "stream",
     "text": [
      "epoch: 3, [batch: 2016 / 6720], examples_per_second: 4078.2756, train_label_loss: 0.4803, \n"
     ]
    },
    {
     "name": "stdout",
     "output_type": "stream",
     "text": [
      "epoch: 3, [batch: 2688 / 6720], examples_per_second: 3706.5946, train_label_loss: 0.6382, \n"
     ]
    },
    {
     "name": "stdout",
     "output_type": "stream",
     "text": [
      "epoch: 3, [batch: 3360 / 6720], examples_per_second: 3006.2035, train_label_loss: 1.1069, \n"
     ]
    },
    {
     "name": "stdout",
     "output_type": "stream",
     "text": [
      "epoch: 3, [batch: 4032 / 6720], examples_per_second: 2953.6853, train_label_loss: 0.6085, \n"
     ]
    },
    {
     "name": "stdout",
     "output_type": "stream",
     "text": [
      "epoch: 3, [batch: 4704 / 6720], examples_per_second: 2993.6455, train_label_loss: 0.9017, \n"
     ]
    },
    {
     "name": "stdout",
     "output_type": "stream",
     "text": [
      "epoch: 3, [batch: 5376 / 6720], examples_per_second: 2996.8851, train_label_loss: 0.4773, \n"
     ]
    },
    {
     "name": "stdout",
     "output_type": "stream",
     "text": [
      "epoch: 3, [batch: 6048 / 6720], examples_per_second: 3092.1646, train_label_loss: 0.6137, \n"
     ]
    },
    {
     "name": "stdout",
     "output_type": "stream",
     "text": [
      "=============================================================\n",
      "epoch: 3, source_val_acc_label: 0.7942, target_val_acc_label: 0.8382, source_val_label_loss: 0.5953, target_val_label_loss: 62.3529, \n",
      "=============================================================\n"
     ]
    },
    {
     "name": "stdout",
     "output_type": "stream",
     "text": [
      "New best\n"
     ]
    },
    {
     "name": "stdout",
     "output_type": "stream",
     "text": [
      "epoch: 4, [batch: 1 / 6720], examples_per_second: 2.7444, train_label_loss: 1.0472, \n"
     ]
    },
    {
     "name": "stdout",
     "output_type": "stream",
     "text": [
      "epoch: 4, [batch: 672 / 6720], examples_per_second: 2972.5436, train_label_loss: 0.2620, \n"
     ]
    },
    {
     "name": "stdout",
     "output_type": "stream",
     "text": [
      "epoch: 4, [batch: 1344 / 6720], examples_per_second: 2960.3992, train_label_loss: 0.3519, \n"
     ]
    },
    {
     "name": "stdout",
     "output_type": "stream",
     "text": [
      "epoch: 4, [batch: 2016 / 6720], examples_per_second: 2969.6836, train_label_loss: 0.2649, \n"
     ]
    },
    {
     "name": "stdout",
     "output_type": "stream",
     "text": [
      "epoch: 4, [batch: 2688 / 6720], examples_per_second: 3031.1731, train_label_loss: 0.3301, \n"
     ]
    },
    {
     "name": "stdout",
     "output_type": "stream",
     "text": [
      "epoch: 4, [batch: 3360 / 6720], examples_per_second: 3001.1555, train_label_loss: 0.2977, \n"
     ]
    },
    {
     "name": "stdout",
     "output_type": "stream",
     "text": [
      "epoch: 4, [batch: 4032 / 6720], examples_per_second: 3039.7340, train_label_loss: 0.1819, \n"
     ]
    },
    {
     "name": "stdout",
     "output_type": "stream",
     "text": [
      "epoch: 4, [batch: 4704 / 6720], examples_per_second: 3026.8826, train_label_loss: 0.1342, \n"
     ]
    },
    {
     "name": "stdout",
     "output_type": "stream",
     "text": [
      "epoch: 4, [batch: 5376 / 6720], examples_per_second: 3009.0288, train_label_loss: 0.4166, \n"
     ]
    },
    {
     "name": "stdout",
     "output_type": "stream",
     "text": [
      "epoch: 4, [batch: 6048 / 6720], examples_per_second: 2981.9882, train_label_loss: 0.6065, \n"
     ]
    },
    {
     "name": "stdout",
     "output_type": "stream",
     "text": [
      "=============================================================\n",
      "epoch: 4, source_val_acc_label: 0.8046, target_val_acc_label: 0.8536, source_val_label_loss: 0.5369, target_val_label_loss: 35.6640, \n",
      "=============================================================\n"
     ]
    },
    {
     "name": "stdout",
     "output_type": "stream",
     "text": [
      "New best\n"
     ]
    },
    {
     "name": "stdout",
     "output_type": "stream",
     "text": [
      "epoch: 5, [batch: 1 / 6720], examples_per_second: 2.8037, train_label_loss: 0.2465, \n"
     ]
    },
    {
     "name": "stdout",
     "output_type": "stream",
     "text": [
      "epoch: 5, [batch: 672 / 6720], examples_per_second: 2986.8262, train_label_loss: 0.1992, \n"
     ]
    },
    {
     "name": "stdout",
     "output_type": "stream",
     "text": [
      "epoch: 5, [batch: 1344 / 6720], examples_per_second: 2969.1716, train_label_loss: 0.4800, \n"
     ]
    },
    {
     "name": "stdout",
     "output_type": "stream",
     "text": [
      "epoch: 5, [batch: 2016 / 6720], examples_per_second: 2959.6800, train_label_loss: 0.3534, \n"
     ]
    },
    {
     "name": "stdout",
     "output_type": "stream",
     "text": [
      "epoch: 5, [batch: 2688 / 6720], examples_per_second: 2903.0826, train_label_loss: 0.3441, \n"
     ]
    },
    {
     "name": "stdout",
     "output_type": "stream",
     "text": [
      "epoch: 5, [batch: 3360 / 6720], examples_per_second: 2933.7074, train_label_loss: 0.4522, \n"
     ]
    },
    {
     "name": "stdout",
     "output_type": "stream",
     "text": [
      "epoch: 5, [batch: 4032 / 6720], examples_per_second: 2989.6696, train_label_loss: 0.1854, \n"
     ]
    },
    {
     "name": "stdout",
     "output_type": "stream",
     "text": [
      "epoch: 5, [batch: 4704 / 6720], examples_per_second: 2937.1251, train_label_loss: 0.6879, \n"
     ]
    },
    {
     "name": "stdout",
     "output_type": "stream",
     "text": [
      "epoch: 5, [batch: 5376 / 6720], examples_per_second: 2976.2276, train_label_loss: 0.3526, \n"
     ]
    },
    {
     "name": "stdout",
     "output_type": "stream",
     "text": [
      "epoch: 5, [batch: 6048 / 6720], examples_per_second: 2993.1665, train_label_loss: 0.4088, \n"
     ]
    },
    {
     "name": "stdout",
     "output_type": "stream",
     "text": [
      "=============================================================\n",
      "epoch: 5, source_val_acc_label: 0.8111, target_val_acc_label: 0.8556, source_val_label_loss: 0.5392, target_val_label_loss: 44.9669, \n",
      "=============================================================\n"
     ]
    },
    {
     "name": "stdout",
     "output_type": "stream",
     "text": [
      "New best\n"
     ]
    },
    {
     "name": "stdout",
     "output_type": "stream",
     "text": [
      "epoch: 6, [batch: 1 / 6720], examples_per_second: 2.7583, train_label_loss: 0.1146, \n"
     ]
    },
    {
     "name": "stdout",
     "output_type": "stream",
     "text": [
      "epoch: 6, [batch: 672 / 6720], examples_per_second: 3127.7009, train_label_loss: 0.5291, \n"
     ]
    },
    {
     "name": "stdout",
     "output_type": "stream",
     "text": [
      "epoch: 6, [batch: 1344 / 6720], examples_per_second: 3385.4424, train_label_loss: 0.4692, \n"
     ]
    },
    {
     "name": "stdout",
     "output_type": "stream",
     "text": [
      "epoch: 6, [batch: 2016 / 6720], examples_per_second: 3441.0456, train_label_loss: 0.1478, \n"
     ]
    },
    {
     "name": "stdout",
     "output_type": "stream",
     "text": [
      "epoch: 6, [batch: 2688 / 6720], examples_per_second: 3362.3220, train_label_loss: 0.4305, \n"
     ]
    },
    {
     "name": "stdout",
     "output_type": "stream",
     "text": [
      "epoch: 6, [batch: 3360 / 6720], examples_per_second: 3362.1559, train_label_loss: 0.1868, \n"
     ]
    },
    {
     "name": "stdout",
     "output_type": "stream",
     "text": [
      "epoch: 6, [batch: 4032 / 6720], examples_per_second: 3390.2359, train_label_loss: 0.1500, \n"
     ]
    },
    {
     "name": "stdout",
     "output_type": "stream",
     "text": [
      "epoch: 6, [batch: 4704 / 6720], examples_per_second: 3399.2168, train_label_loss: 0.3786, \n"
     ]
    },
    {
     "name": "stdout",
     "output_type": "stream",
     "text": [
      "epoch: 6, [batch: 5376 / 6720], examples_per_second: 3790.7916, train_label_loss: 0.1490, \n"
     ]
    },
    {
     "name": "stdout",
     "output_type": "stream",
     "text": [
      "epoch: 6, [batch: 6048 / 6720], examples_per_second: 4034.7415, train_label_loss: 0.3996, \n"
     ]
    },
    {
     "name": "stdout",
     "output_type": "stream",
     "text": [
      "=============================================================\n",
      "epoch: 6, source_val_acc_label: 0.8146, target_val_acc_label: 0.8572, source_val_label_loss: 0.5708, target_val_label_loss: 65.4995, \n",
      "=============================================================\n"
     ]
    },
    {
     "name": "stdout",
     "output_type": "stream",
     "text": [
      "New best\n"
     ]
    },
    {
     "name": "stdout",
     "output_type": "stream",
     "text": [
      "epoch: 7, [batch: 1 / 6720], examples_per_second: 2.7900, train_label_loss: 0.1810, \n"
     ]
    },
    {
     "name": "stdout",
     "output_type": "stream",
     "text": [
      "epoch: 7, [batch: 672 / 6720], examples_per_second: 2978.0044, train_label_loss: 0.1195, \n"
     ]
    },
    {
     "name": "stdout",
     "output_type": "stream",
     "text": [
      "epoch: 7, [batch: 1344 / 6720], examples_per_second: 2939.9068, train_label_loss: 0.2538, \n"
     ]
    },
    {
     "name": "stdout",
     "output_type": "stream",
     "text": [
      "epoch: 7, [batch: 2016 / 6720], examples_per_second: 2973.4947, train_label_loss: 0.3351, \n"
     ]
    },
    {
     "name": "stdout",
     "output_type": "stream",
     "text": [
      "epoch: 7, [batch: 2688 / 6720], examples_per_second: 2959.7018, train_label_loss: 0.2323, \n"
     ]
    },
    {
     "name": "stdout",
     "output_type": "stream",
     "text": [
      "epoch: 7, [batch: 3360 / 6720], examples_per_second: 3282.1650, train_label_loss: 0.1549, \n"
     ]
    },
    {
     "name": "stdout",
     "output_type": "stream",
     "text": [
      "epoch: 7, [batch: 4032 / 6720], examples_per_second: 3373.0798, train_label_loss: 0.2229, \n"
     ]
    },
    {
     "name": "stdout",
     "output_type": "stream",
     "text": [
      "epoch: 7, [batch: 4704 / 6720], examples_per_second: 3337.2248, train_label_loss: 0.2511, \n"
     ]
    },
    {
     "name": "stdout",
     "output_type": "stream",
     "text": [
      "epoch: 7, [batch: 5376 / 6720], examples_per_second: 3376.7569, train_label_loss: 0.1842, \n"
     ]
    },
    {
     "name": "stdout",
     "output_type": "stream",
     "text": [
      "epoch: 7, [batch: 6048 / 6720], examples_per_second: 3447.3267, train_label_loss: 0.1692, \n"
     ]
    },
    {
     "name": "stdout",
     "output_type": "stream",
     "text": [
      "=============================================================\n",
      "epoch: 7, source_val_acc_label: 0.8154, target_val_acc_label: 0.8568, source_val_label_loss: 0.5670, target_val_label_loss: 65.1998, \n",
      "=============================================================\n"
     ]
    },
    {
     "name": "stdout",
     "output_type": "stream",
     "text": [
      "epoch: 8, [batch: 1 / 6720], examples_per_second: 3.6310, train_label_loss: 0.4666, \n"
     ]
    },
    {
     "name": "stdout",
     "output_type": "stream",
     "text": [
      "epoch: 8, [batch: 672 / 6720], examples_per_second: 3201.4753, train_label_loss: 0.1084, \n"
     ]
    },
    {
     "name": "stdout",
     "output_type": "stream",
     "text": [
      "epoch: 8, [batch: 1344 / 6720], examples_per_second: 2968.0503, train_label_loss: 0.2176, \n"
     ]
    },
    {
     "name": "stdout",
     "output_type": "stream",
     "text": [
      "epoch: 8, [batch: 2016 / 6720], examples_per_second: 2974.9533, train_label_loss: 0.4726, \n"
     ]
    },
    {
     "name": "stdout",
     "output_type": "stream",
     "text": [
      "epoch: 8, [batch: 2688 / 6720], examples_per_second: 2995.3188, train_label_loss: 0.5272, \n"
     ]
    },
    {
     "name": "stdout",
     "output_type": "stream",
     "text": [
      "epoch: 8, [batch: 3360 / 6720], examples_per_second: 2983.3027, train_label_loss: 0.0282, \n"
     ]
    },
    {
     "name": "stdout",
     "output_type": "stream",
     "text": [
      "epoch: 8, [batch: 4032 / 6720], examples_per_second: 2967.7433, train_label_loss: 0.2603, \n"
     ]
    },
    {
     "name": "stdout",
     "output_type": "stream",
     "text": [
      "epoch: 8, [batch: 4704 / 6720], examples_per_second: 2950.7696, train_label_loss: 0.1836, \n"
     ]
    },
    {
     "name": "stdout",
     "output_type": "stream",
     "text": [
      "epoch: 8, [batch: 5376 / 6720], examples_per_second: 2969.3171, train_label_loss: 0.2122, \n"
     ]
    },
    {
     "name": "stdout",
     "output_type": "stream",
     "text": [
      "epoch: 8, [batch: 6048 / 6720], examples_per_second: 2972.5663, train_label_loss: 0.1934, \n"
     ]
    },
    {
     "name": "stdout",
     "output_type": "stream",
     "text": [
      "=============================================================\n",
      "epoch: 8, source_val_acc_label: 0.8128, target_val_acc_label: 0.8607, source_val_label_loss: 0.5868, target_val_label_loss: 67.8897, \n",
      "=============================================================\n"
     ]
    },
    {
     "name": "stdout",
     "output_type": "stream",
     "text": [
      "New best\n"
     ]
    },
    {
     "name": "stdout",
     "output_type": "stream",
     "text": [
      "epoch: 9, [batch: 1 / 6720], examples_per_second: 2.7655, train_label_loss: 0.2558, \n"
     ]
    },
    {
     "name": "stdout",
     "output_type": "stream",
     "text": [
      "epoch: 9, [batch: 672 / 6720], examples_per_second: 2975.1422, train_label_loss: 0.1098, \n"
     ]
    },
    {
     "name": "stdout",
     "output_type": "stream",
     "text": [
      "epoch: 9, [batch: 1344 / 6720], examples_per_second: 3019.0492, train_label_loss: 0.3510, \n"
     ]
    },
    {
     "name": "stdout",
     "output_type": "stream",
     "text": [
      "epoch: 9, [batch: 2016 / 6720], examples_per_second: 3000.0678, train_label_loss: 0.0690, \n"
     ]
    },
    {
     "name": "stdout",
     "output_type": "stream",
     "text": [
      "epoch: 9, [batch: 2688 / 6720], examples_per_second: 2980.4362, train_label_loss: 0.1848, \n"
     ]
    },
    {
     "name": "stdout",
     "output_type": "stream",
     "text": [
      "epoch: 9, [batch: 3360 / 6720], examples_per_second: 3051.3856, train_label_loss: 0.4549, \n"
     ]
    },
    {
     "name": "stdout",
     "output_type": "stream",
     "text": [
      "epoch: 9, [batch: 4032 / 6720], examples_per_second: 3071.3607, train_label_loss: 0.1613, \n"
     ]
    },
    {
     "name": "stdout",
     "output_type": "stream",
     "text": [
      "epoch: 9, [batch: 4704 / 6720], examples_per_second: 3046.2961, train_label_loss: 0.1903, \n"
     ]
    },
    {
     "name": "stdout",
     "output_type": "stream",
     "text": [
      "epoch: 9, [batch: 5376 / 6720], examples_per_second: 2973.3875, train_label_loss: 0.2505, \n"
     ]
    },
    {
     "name": "stdout",
     "output_type": "stream",
     "text": [
      "epoch: 9, [batch: 6048 / 6720], examples_per_second: 3009.3586, train_label_loss: 0.1172, \n"
     ]
    },
    {
     "name": "stdout",
     "output_type": "stream",
     "text": [
      "=============================================================\n",
      "epoch: 9, source_val_acc_label: 0.8163, target_val_acc_label: 0.8674, source_val_label_loss: 0.5892, target_val_label_loss: 72.9712, \n",
      "=============================================================\n"
     ]
    },
    {
     "name": "stdout",
     "output_type": "stream",
     "text": [
      "New best\n"
     ]
    },
    {
     "name": "stdout",
     "output_type": "stream",
     "text": [
      "epoch: 10, [batch: 1 / 6720], examples_per_second: 2.7981, train_label_loss: 0.1931, \n"
     ]
    },
    {
     "name": "stdout",
     "output_type": "stream",
     "text": [
      "epoch: 10, [batch: 672 / 6720], examples_per_second: 3045.6093, train_label_loss: 0.1006, \n"
     ]
    },
    {
     "name": "stdout",
     "output_type": "stream",
     "text": [
      "epoch: 10, [batch: 1344 / 6720], examples_per_second: 2972.6314, train_label_loss: 0.1976, \n"
     ]
    },
    {
     "name": "stdout",
     "output_type": "stream",
     "text": [
      "epoch: 10, [batch: 2016 / 6720], examples_per_second: 3022.6138, train_label_loss: 0.0917, \n"
     ]
    },
    {
     "name": "stdout",
     "output_type": "stream",
     "text": [
      "epoch: 10, [batch: 2688 / 6720], examples_per_second: 2977.6739, train_label_loss: 0.0504, \n"
     ]
    },
    {
     "name": "stdout",
     "output_type": "stream",
     "text": [
      "epoch: 10, [batch: 3360 / 6720], examples_per_second: 2963.7667, train_label_loss: 0.2055, \n"
     ]
    },
    {
     "name": "stdout",
     "output_type": "stream",
     "text": [
      "epoch: 10, [batch: 4032 / 6720], examples_per_second: 2959.6361, train_label_loss: 0.3072, \n"
     ]
    },
    {
     "name": "stdout",
     "output_type": "stream",
     "text": [
      "epoch: 10, [batch: 4704 / 6720], examples_per_second: 2938.6276, train_label_loss: 0.0974, \n"
     ]
    },
    {
     "name": "stdout",
     "output_type": "stream",
     "text": [
      "epoch: 10, [batch: 5376 / 6720], examples_per_second: 2966.0857, train_label_loss: 0.0581, \n"
     ]
    },
    {
     "name": "stdout",
     "output_type": "stream",
     "text": [
      "epoch: 10, [batch: 6048 / 6720], examples_per_second: 2965.4662, train_label_loss: 0.2780, \n"
     ]
    },
    {
     "name": "stdout",
     "output_type": "stream",
     "text": [
      "=============================================================\n",
      "epoch: 10, source_val_acc_label: 0.8125, target_val_acc_label: 0.8682, source_val_label_loss: 0.6173, target_val_label_loss: 76.7186, \n",
      "=============================================================\n"
     ]
    },
    {
     "name": "stdout",
     "output_type": "stream",
     "text": [
      "New best\n"
     ]
    },
    {
     "name": "stdout",
     "output_type": "stream",
     "text": [
      "epoch: 11, [batch: 1 / 6720], examples_per_second: 3.0749, train_label_loss: 0.2692, \n"
     ]
    },
    {
     "name": "stdout",
     "output_type": "stream",
     "text": [
      "epoch: 11, [batch: 672 / 6720], examples_per_second: 3466.1689, train_label_loss: 0.0427, \n"
     ]
    },
    {
     "name": "stdout",
     "output_type": "stream",
     "text": [
      "epoch: 11, [batch: 1344 / 6720], examples_per_second: 3450.6840, train_label_loss: 0.1009, \n"
     ]
    },
    {
     "name": "stdout",
     "output_type": "stream",
     "text": [
      "epoch: 11, [batch: 2016 / 6720], examples_per_second: 3496.0870, train_label_loss: 0.0497, \n"
     ]
    },
    {
     "name": "stdout",
     "output_type": "stream",
     "text": [
      "epoch: 11, [batch: 2688 / 6720], examples_per_second: 3753.9961, train_label_loss: 0.1312, \n"
     ]
    },
    {
     "name": "stdout",
     "output_type": "stream",
     "text": [
      "epoch: 11, [batch: 3360 / 6720], examples_per_second: 3876.3100, train_label_loss: 0.0296, \n"
     ]
    },
    {
     "name": "stdout",
     "output_type": "stream",
     "text": [
      "epoch: 11, [batch: 4032 / 6720], examples_per_second: 2990.2692, train_label_loss: 0.1471, \n"
     ]
    },
    {
     "name": "stdout",
     "output_type": "stream",
     "text": [
      "epoch: 11, [batch: 4704 / 6720], examples_per_second: 2957.8919, train_label_loss: 0.2298, \n"
     ]
    },
    {
     "name": "stdout",
     "output_type": "stream",
     "text": [
      "epoch: 11, [batch: 5376 / 6720], examples_per_second: 3048.2058, train_label_loss: 0.0346, \n"
     ]
    },
    {
     "name": "stdout",
     "output_type": "stream",
     "text": [
      "epoch: 11, [batch: 6048 / 6720], examples_per_second: 2997.0234, train_label_loss: 0.0530, \n"
     ]
    },
    {
     "name": "stdout",
     "output_type": "stream",
     "text": [
      "=============================================================\n",
      "epoch: 11, source_val_acc_label: 0.8126, target_val_acc_label: 0.8640, source_val_label_loss: 0.6463, target_val_label_loss: 88.8705, \n",
      "=============================================================\n"
     ]
    },
    {
     "name": "stdout",
     "output_type": "stream",
     "text": [
      "epoch: 12, [batch: 1 / 6720], examples_per_second: 2.7515, train_label_loss: 0.0925, \n"
     ]
    },
    {
     "name": "stdout",
     "output_type": "stream",
     "text": [
      "epoch: 12, [batch: 672 / 6720], examples_per_second: 3415.2753, train_label_loss: 0.1617, \n"
     ]
    },
    {
     "name": "stdout",
     "output_type": "stream",
     "text": [
      "epoch: 12, [batch: 1344 / 6720], examples_per_second: 3389.8471, train_label_loss: 0.0821, \n"
     ]
    },
    {
     "name": "stdout",
     "output_type": "stream",
     "text": [
      "epoch: 12, [batch: 2016 / 6720], examples_per_second: 3359.6839, train_label_loss: 0.3613, \n"
     ]
    },
    {
     "name": "stdout",
     "output_type": "stream",
     "text": [
      "epoch: 12, [batch: 2688 / 6720], examples_per_second: 3356.9851, train_label_loss: 0.0477, \n"
     ]
    },
    {
     "name": "stdout",
     "output_type": "stream",
     "text": [
      "epoch: 12, [batch: 3360 / 6720], examples_per_second: 3392.8605, train_label_loss: 0.1568, \n"
     ]
    },
    {
     "name": "stdout",
     "output_type": "stream",
     "text": [
      "epoch: 12, [batch: 4032 / 6720], examples_per_second: 3465.6944, train_label_loss: 0.0605, \n"
     ]
    },
    {
     "name": "stdout",
     "output_type": "stream",
     "text": [
      "epoch: 12, [batch: 4704 / 6720], examples_per_second: 3609.7584, train_label_loss: 0.0975, \n"
     ]
    },
    {
     "name": "stdout",
     "output_type": "stream",
     "text": [
      "epoch: 12, [batch: 5376 / 6720], examples_per_second: 3860.9190, train_label_loss: 0.1839, \n"
     ]
    },
    {
     "name": "stdout",
     "output_type": "stream",
     "text": [
      "epoch: 12, [batch: 6048 / 6720], examples_per_second: 3120.8692, train_label_loss: 0.0966, \n"
     ]
    },
    {
     "name": "stdout",
     "output_type": "stream",
     "text": [
      "=============================================================\n",
      "epoch: 12, source_val_acc_label: 0.8079, target_val_acc_label: 0.8558, source_val_label_loss: 0.6707, target_val_label_loss: 107.1055, \n",
      "=============================================================\n"
     ]
    },
    {
     "name": "stdout",
     "output_type": "stream",
     "text": [
      "epoch: 13, [batch: 1 / 6720], examples_per_second: 2.8046, train_label_loss: 0.1374, \n"
     ]
    },
    {
     "name": "stdout",
     "output_type": "stream",
     "text": [
      "epoch: 13, [batch: 672 / 6720], examples_per_second: 2990.8639, train_label_loss: 0.0800, \n"
     ]
    },
    {
     "name": "stdout",
     "output_type": "stream",
     "text": [
      "epoch: 13, [batch: 1344 / 6720], examples_per_second: 2960.6514, train_label_loss: 0.0603, \n"
     ]
    },
    {
     "name": "stdout",
     "output_type": "stream",
     "text": [
      "epoch: 13, [batch: 2016 / 6720], examples_per_second: 3003.3883, train_label_loss: 0.1037, \n"
     ]
    },
    {
     "name": "stdout",
     "output_type": "stream",
     "text": [
      "epoch: 13, [batch: 2688 / 6720], examples_per_second: 3085.4656, train_label_loss: 0.0853, \n"
     ]
    },
    {
     "name": "stdout",
     "output_type": "stream",
     "text": [
      "epoch: 13, [batch: 3360 / 6720], examples_per_second: 2959.2664, train_label_loss: 0.0945, \n"
     ]
    },
    {
     "name": "stdout",
     "output_type": "stream",
     "text": [
      "epoch: 13, [batch: 4032 / 6720], examples_per_second: 2973.5611, train_label_loss: 0.0438, \n"
     ]
    },
    {
     "name": "stdout",
     "output_type": "stream",
     "text": [
      "epoch: 13, [batch: 4704 / 6720], examples_per_second: 3030.5976, train_label_loss: 0.2787, \n"
     ]
    },
    {
     "name": "stdout",
     "output_type": "stream",
     "text": [
      "epoch: 13, [batch: 5376 / 6720], examples_per_second: 3033.1866, train_label_loss: 0.0599, \n"
     ]
    },
    {
     "name": "stdout",
     "output_type": "stream",
     "text": [
      "epoch: 13, [batch: 6048 / 6720], examples_per_second: 2991.2127, train_label_loss: 0.0866, \n"
     ]
    },
    {
     "name": "stdout",
     "output_type": "stream",
     "text": [
      "=============================================================\n",
      "epoch: 13, source_val_acc_label: 0.8057, target_val_acc_label: 0.8675, source_val_label_loss: 0.6974, target_val_label_loss: 91.8770, \n",
      "=============================================================\n"
     ]
    },
    {
     "name": "stdout",
     "output_type": "stream",
     "text": [
      "epoch: 14, [batch: 1 / 6720], examples_per_second: 2.7779, train_label_loss: 0.0638, \n"
     ]
    },
    {
     "name": "stdout",
     "output_type": "stream",
     "text": [
      "epoch: 14, [batch: 672 / 6720], examples_per_second: 3033.0283, train_label_loss: 0.0410, \n"
     ]
    },
    {
     "name": "stdout",
     "output_type": "stream",
     "text": [
      "epoch: 14, [batch: 1344 / 6720], examples_per_second: 3007.4210, train_label_loss: 0.2081, \n"
     ]
    },
    {
     "name": "stdout",
     "output_type": "stream",
     "text": [
      "epoch: 14, [batch: 2016 / 6720], examples_per_second: 3001.4041, train_label_loss: 0.0717, \n"
     ]
    },
    {
     "name": "stdout",
     "output_type": "stream",
     "text": [
      "epoch: 14, [batch: 2688 / 6720], examples_per_second: 3027.2848, train_label_loss: 0.2728, \n"
     ]
    },
    {
     "name": "stdout",
     "output_type": "stream",
     "text": [
      "epoch: 14, [batch: 3360 / 6720], examples_per_second: 3014.2920, train_label_loss: 0.1644, \n"
     ]
    },
    {
     "name": "stdout",
     "output_type": "stream",
     "text": [
      "epoch: 14, [batch: 4032 / 6720], examples_per_second: 3045.3833, train_label_loss: 0.0967, \n"
     ]
    },
    {
     "name": "stdout",
     "output_type": "stream",
     "text": [
      "epoch: 14, [batch: 4704 / 6720], examples_per_second: 2962.6549, train_label_loss: 0.1425, \n"
     ]
    },
    {
     "name": "stdout",
     "output_type": "stream",
     "text": [
      "epoch: 14, [batch: 5376 / 6720], examples_per_second: 3032.3809, train_label_loss: 0.0709, \n"
     ]
    },
    {
     "name": "stdout",
     "output_type": "stream",
     "text": [
      "epoch: 14, [batch: 6048 / 6720], examples_per_second: 3067.2641, train_label_loss: 0.1585, \n"
     ]
    },
    {
     "name": "stdout",
     "output_type": "stream",
     "text": [
      "=============================================================\n",
      "epoch: 14, source_val_acc_label: 0.8047, target_val_acc_label: 0.8670, source_val_label_loss: 0.7191, target_val_label_loss: 94.1071, \n",
      "=============================================================\n"
     ]
    },
    {
     "name": "stdout",
     "output_type": "stream",
     "text": [
      "Patience (3) exhausted\n"
     ]
    }
   ],
   "source": [
    "###################################\n",
    "# train\n",
    "###################################\n",
    "jig = PTN_Train_Eval_Test_Jig(model, p.BEST_MODEL_PATH, p.device)\n",
    "\n",
    "jig.train(\n",
    "    train_iterable=datasets.source.processed.train,\n",
    "    source_val_iterable=datasets.source.processed.val,\n",
    "    target_val_iterable=datasets.target.processed.val,\n",
    "    num_epochs=p.n_epoch,\n",
    "    num_logs_per_epoch=p.NUM_LOGS_PER_EPOCH,\n",
    "    patience=p.patience,\n",
    "    optimizer=optimizer,\n",
    "    criteria_for_best=p.criteria_for_best,\n",
    ")"
   ]
  },
  {
   "cell_type": "code",
   "execution_count": 23,
   "id": "31e8fabf",
   "metadata": {
    "execution": {
     "iopub.execute_input": "2022-03-23T05:46:32.123813Z",
     "iopub.status.busy": "2022-03-23T05:46:32.123243Z",
     "iopub.status.idle": "2022-03-23T05:46:32.153883Z",
     "shell.execute_reply": "2022-03-23T05:46:32.153061Z"
    },
    "papermill": {
     "duration": 0.102297,
     "end_time": "2022-03-23T05:46:32.154040",
     "exception": false,
     "start_time": "2022-03-23T05:46:32.051743",
     "status": "completed"
    },
    "tags": []
   },
   "outputs": [],
   "source": [
    "total_experiment_time_secs = time.time() - start_time_secs"
   ]
  },
  {
   "cell_type": "code",
   "execution_count": 24,
   "id": "87b9595b",
   "metadata": {
    "execution": {
     "iopub.execute_input": "2022-03-23T05:46:32.301406Z",
     "iopub.status.busy": "2022-03-23T05:46:32.295833Z",
     "iopub.status.idle": "2022-03-23T05:50:10.095364Z",
     "shell.execute_reply": "2022-03-23T05:50:10.096075Z"
    },
    "papermill": {
     "duration": 217.869173,
     "end_time": "2022-03-23T05:50:10.096304",
     "exception": false,
     "start_time": "2022-03-23T05:46:32.227131",
     "status": "completed"
    },
    "tags": []
   },
   "outputs": [],
   "source": [
    "###################################\n",
    "# Evaluate the model\n",
    "###################################\n",
    "source_test_label_accuracy, source_test_label_loss = jig.test(datasets.source.processed.test)\n",
    "target_test_label_accuracy, target_test_label_loss = jig.test(datasets.target.processed.test)\n",
    "\n",
    "source_val_label_accuracy, source_val_label_loss = jig.test(datasets.source.processed.val)\n",
    "target_val_label_accuracy, target_val_label_loss = jig.test(datasets.target.processed.val)\n",
    "\n",
    "history = jig.get_history()\n",
    "\n",
    "total_epochs_trained = len(history[\"epoch_indices\"])\n",
    "\n",
    "val_dl = Iterable_Aggregator((datasets.source.original.val,datasets.target.original.val))\n",
    "\n",
    "confusion = ptn_confusion_by_domain_over_dataloader(model, p.device, val_dl)\n",
    "per_domain_accuracy = per_domain_accuracy_from_confusion(confusion)\n",
    "\n",
    "# Add a key to per_domain_accuracy for if it was a source domain\n",
    "for domain, accuracy in per_domain_accuracy.items():\n",
    "    per_domain_accuracy[domain] = {\n",
    "        \"accuracy\": accuracy,\n",
    "        \"source?\": domain in p.domains_source\n",
    "    }\n",
    "\n",
    "# Do an independent accuracy assesment JUST TO BE SURE!\n",
    "# _source_test_label_accuracy = independent_accuracy_assesment(model, datasets.source.processed.test, p.device)\n",
    "# _target_test_label_accuracy = independent_accuracy_assesment(model, datasets.target.processed.test, p.device)\n",
    "# _source_val_label_accuracy = independent_accuracy_assesment(model, datasets.source.processed.val, p.device)\n",
    "# _target_val_label_accuracy = independent_accuracy_assesment(model, datasets.target.processed.val, p.device)\n",
    "\n",
    "# assert(_source_test_label_accuracy == source_test_label_accuracy)\n",
    "# assert(_target_test_label_accuracy == target_test_label_accuracy)\n",
    "# assert(_source_val_label_accuracy == source_val_label_accuracy)\n",
    "# assert(_target_val_label_accuracy == target_val_label_accuracy)\n",
    "\n",
    "experiment = {\n",
    "    \"experiment_name\": p.experiment_name,\n",
    "    \"parameters\": dict(p),\n",
    "    \"results\": {\n",
    "        \"source_test_label_accuracy\": source_test_label_accuracy,\n",
    "        \"source_test_label_loss\": source_test_label_loss,\n",
    "        \"target_test_label_accuracy\": target_test_label_accuracy,\n",
    "        \"target_test_label_loss\": target_test_label_loss,\n",
    "        \"source_val_label_accuracy\": source_val_label_accuracy,\n",
    "        \"source_val_label_loss\": source_val_label_loss,\n",
    "        \"target_val_label_accuracy\": target_val_label_accuracy,\n",
    "        \"target_val_label_loss\": target_val_label_loss,\n",
    "        \"total_epochs_trained\": total_epochs_trained,\n",
    "        \"total_experiment_time_secs\": total_experiment_time_secs,\n",
    "        \"confusion\": confusion,\n",
    "        \"per_domain_accuracy\": per_domain_accuracy,\n",
    "    },\n",
    "    \"history\": history,\n",
    "    \"dataset_metrics\": get_dataset_metrics(datasets, \"ptn\"),\n",
    "}"
   ]
  },
  {
   "cell_type": "code",
   "execution_count": 25,
   "id": "54a21829",
   "metadata": {
    "execution": {
     "iopub.execute_input": "2022-03-23T05:50:10.250670Z",
     "iopub.status.busy": "2022-03-23T05:50:10.250281Z",
     "iopub.status.idle": "2022-03-23T05:50:10.487276Z",
     "shell.execute_reply": "2022-03-23T05:50:10.488013Z"
    },
    "papermill": {
     "duration": 0.312572,
     "end_time": "2022-03-23T05:50:10.488236",
     "exception": false,
     "start_time": "2022-03-23T05:50:10.175664",
     "status": "completed"
    },
    "tags": []
   },
   "outputs": [
    {
     "data": {
      "image/png": "[encoded data removed]",
      "text/plain": [
       "<Figure size 1080x504 with 1 Axes>"
      ]
     },
     "metadata": {
      "needs_background": "light"
     },
     "output_type": "display_data"
    }
   ],
   "source": [
    "ax = get_loss_curve(experiment)\n",
    "plt.show()"
   ]
  },
  {
   "cell_type": "code",
   "execution_count": 26,
   "id": "fd8a0f60",
   "metadata": {
    "execution": {
     "iopub.execute_input": "2022-03-23T05:50:10.638590Z",
     "iopub.status.busy": "2022-03-23T05:50:10.638209Z",
     "iopub.status.idle": "2022-03-23T05:50:10.993365Z",
     "shell.execute_reply": "2022-03-23T05:50:10.993016Z"
    },
    "papermill": {
     "duration": 0.429871,
     "end_time": "2022-03-23T05:50:10.993459",
     "exception": false,
     "start_time": "2022-03-23T05:50:10.563588",
     "status": "completed"
    },
    "tags": []
   },
   "outputs": [
    {
     "data": {
      "text/plain": [
       "<AxesSubplot:title={'center':'Results'}>"
      ]
     },
     "execution_count": 26,
     "metadata": {},
     "output_type": "execute_result"
    },
    {
     "data": {
      "image/png": "[encoded data removed]",
      "text/plain": [
       "<Figure size 1080x504 with 1 Axes>"
      ]
     },
     "metadata": {
      "needs_background": "light"
     },
     "output_type": "display_data"
    }
   ],
   "source": [
    "get_results_table(experiment)"
   ]
  },
  {
   "cell_type": "code",
   "execution_count": 27,
   "id": "cf8dc689",
   "metadata": {
    "execution": {
     "iopub.execute_input": "2022-03-23T05:50:11.138062Z",
     "iopub.status.busy": "2022-03-23T05:50:11.137693Z",
     "iopub.status.idle": "2022-03-23T05:50:11.390987Z",
     "shell.execute_reply": "2022-03-23T05:50:11.390652Z"
    },
    "papermill": {
     "duration": 0.327014,
     "end_time": "2022-03-23T05:50:11.391084",
     "exception": false,
     "start_time": "2022-03-23T05:50:11.064070",
     "status": "completed"
    },
    "tags": []
   },
   "outputs": [
    {
     "data": {
      "text/plain": [
       "<AxesSubplot:title={'center':'Per Domain Validation Accuracy'}, xlabel='domain'>"
      ]
     },
     "execution_count": 27,
     "metadata": {},
     "output_type": "execute_result"
    },
    {
     "data": {
      "image/png": "[encoded data removed]",
      "text/plain": [
       "<Figure size 1080x504 with 1 Axes>"
      ]
     },
     "metadata": {
      "needs_background": "light"
     },
     "output_type": "display_data"
    }
   ],
   "source": [
    "get_domain_accuracies(experiment)"
   ]
  },
  {
   "cell_type": "code",
   "execution_count": 28,
   "id": "a74ae082",
   "metadata": {
    "execution": {
     "iopub.execute_input": "2022-03-23T05:50:11.545409Z",
     "iopub.status.busy": "2022-03-23T05:50:11.545025Z",
     "iopub.status.idle": "2022-03-23T05:50:11.572674Z",
     "shell.execute_reply": "2022-03-23T05:50:11.571946Z"
    },
    "papermill": {
     "duration": 0.10956,
     "end_time": "2022-03-23T05:50:11.572838",
     "exception": false,
     "start_time": "2022-03-23T05:50:11.463278",
     "status": "completed"
    },
    "tags": []
   },
   "outputs": [
    {
     "name": "stdout",
     "output_type": "stream",
     "text": [
      "Source Test Label Accuracy: 0.8128580729166667 Target Test Label Accuracy: 0.8662925696594427\n",
      "Source Val Label Accuracy: 0.8125 Target Val Label Accuracy: 0.8682352164730729\n"
     ]
    }
   ],
   "source": [
    "print(\"Source Test Label Accuracy:\", experiment[\"results\"][\"source_test_label_accuracy\"], \"Target Test Label Accuracy:\", experiment[\"results\"][\"target_test_label_accuracy\"])\n",
    "print(\"Source Val Label Accuracy:\", experiment[\"results\"][\"source_val_label_accuracy\"], \"Target Val Label Accuracy:\", experiment[\"results\"][\"target_val_label_accuracy\"])"
   ]
  },
  {
   "cell_type": "code",
   "execution_count": 29,
   "id": "dacca602",
   "metadata": {
    "execution": {
     "iopub.execute_input": "2022-03-23T05:50:11.726181Z",
     "iopub.status.busy": "2022-03-23T05:50:11.725612Z",
     "iopub.status.idle": "2022-03-23T05:50:11.759844Z",
     "shell.execute_reply": "2022-03-23T05:50:11.760534Z"
    },
    "papermill": {
     "duration": 0.1102,
     "end_time": "2022-03-23T05:50:11.760723",
     "exception": false,
     "start_time": "2022-03-23T05:50:11.650523",
     "status": "completed"
    },
    "tags": [
     "experiment_json"
    ]
   },
   "outputs": [
    {
     "data": {
      "text/plain": [
       "'{\"experiment_name\": \"tl_1v2:wisig-oracle.run1.limited\", \"parameters\": {\"experiment_name\": \"tl_1v2:wisig-oracle.run1.limited\", \"device\": \"cuda\", \"lr\": 0.0001, \"n_shot\": 3, \"n_query\": 2, \"train_k_factor\": 3, \"val_k_factor\": 2, \"test_k_factor\": 2, \"torch_default_dtype\": \"torch.float32\", \"n_epoch\": 50, \"patience\": 3, \"criteria_for_best\": \"target_accuracy\", \"x_net\": [{\"class\": \"nnReshape\", \"kargs\": {\"shape\": [-1, 1, 2, 256]}}, {\"class\": \"Conv2d\", \"kargs\": {\"in_channels\": 1, \"out_channels\": 256, \"kernel_size\": [1, 7], \"bias\": false, \"padding\": [0, 3]}}, {\"class\": \"ReLU\", \"kargs\": {\"inplace\": true}}, {\"class\": \"BatchNorm2d\", \"kargs\": {\"num_features\": 256}}, {\"class\": \"Conv2d\", \"kargs\": {\"in_channels\": 256, \"out_channels\": 80, \"kernel_size\": [2, 7], \"bias\": true, \"padding\": [0, 3]}}, {\"class\": \"ReLU\", \"kargs\": {\"inplace\": true}}, {\"class\": \"BatchNorm2d\", \"kargs\": {\"num_features\": 80}}, {\"class\": \"Flatten\", \"kargs\": {}}, {\"class\": \"Linear\", \"kargs\": {\"in_features\": 20480, \"out_features\": 256}}, {\"class\": \"ReLU\", \"kargs\": {\"inplace\": true}}, {\"class\": \"BatchNorm1d\", \"kargs\": {\"num_features\": 256}}, {\"class\": \"Linear\", \"kargs\": {\"in_features\": 256, \"out_features\": 256}}], \"NUM_LOGS_PER_EPOCH\": 10, \"BEST_MODEL_PATH\": \"./best_model.pth\", \"n_way\": 16, \"datasets\": [{\"labels\": [\"1-10\", \"1-12\", \"1-14\", \"1-16\", \"1-18\", \"1-19\", \"1-8\", \"10-11\", \"10-17\", \"10-4\", \"10-7\", \"11-1\", \"11-10\", \"11-19\", \"11-20\", \"11-4\", \"11-7\", \"12-19\", \"12-20\", \"12-7\", \"13-14\", \"13-18\", \"13-19\", \"13-20\", \"13-3\", \"13-7\", \"14-10\", \"14-11\", \"14-12\", \"14-13\", \"14-14\", \"14-19\", \"14-20\", \"14-7\", \"14-8\", \"14-9\", \"15-1\", \"15-19\", \"15-6\", \"16-1\", \"16-16\", \"16-19\", \"16-20\", \"17-10\", \"17-11\", \"18-1\", \"18-10\", \"18-11\", \"18-12\", \"18-13\", \"18-14\", \"18-15\", \"18-16\", \"18-17\", \"18-19\", \"18-2\", \"18-20\", \"18-4\", \"18-5\", \"18-7\", \"18-8\", \"18-9\", \"19-1\", \"19-10\", \"19-11\", \"19-12\", \"19-13\", \"19-14\", \"19-15\", \"19-19\", \"19-2\", \"19-20\", \"19-3\", \"19-4\", \"19-6\", \"19-7\", \"19-8\", \"19-9\", \"2-1\", \"2-13\", \"2-15\", \"2-3\", \"2-4\", \"2-5\", \"2-6\", \"2-7\", \"2-8\", \"20-1\", \"20-12\", \"20-14\", \"20-15\", \"20-16\", \"20-18\", \"20-19\", \"20-20\", \"20-3\", \"20-4\", \"20-5\", \"20-7\", \"20-8\", \"3-1\", \"3-13\", \"3-18\", \"3-2\", \"3-8\", \"4-1\", \"4-10\", \"4-11\", \"5-1\", \"5-5\", \"6-1\", \"6-15\", \"6-6\", \"7-10\", \"7-11\", \"7-12\", \"7-13\", \"7-14\", \"7-7\", \"7-8\", \"7-9\", \"8-1\", \"8-13\", \"8-14\", \"8-18\", \"8-20\", \"8-3\", \"8-8\", \"9-1\", \"9-7\"], \"domains\": [1, 2, 3, 4], \"num_examples_per_domain_per_label\": -1, \"pickle_path\": \"/root/csc500-main/datasets/wisig.node3-19.stratified_ds.2022A.pkl\", \"source_or_target_dataset\": \"target\", \"x_transforms\": [], \"episode_transforms\": [], \"domain_prefix\": \"Wisig_\"}, {\"labels\": [\"3123D52\", \"3123D65\", \"3123D79\", \"3123D80\", \"3123D54\", \"3123D70\", \"3123D7B\", \"3123D89\", \"3123D58\", \"3123D76\", \"3123D7D\", \"3123EFE\", \"3123D64\", \"3123D78\", \"3123D7E\", \"3124E4A\"], \"domains\": [32, 38, 8, 44, 14, 50, 20, 26], \"num_examples_per_domain_per_label\": 2000, \"pickle_path\": \"/root/csc500-main/datasets/oracle.Run1_10kExamples_stratified_ds.2022A.pkl\", \"source_or_target_dataset\": \"source\", \"x_transforms\": [], \"episode_transforms\": [], \"domain_prefix\": \"ORACLE.run1\"}], \"dataset_seed\": 7, \"seed\": 7, \"x_shape\": [2, 256], \"domains_source\": [\"ORACLE.run132\", \"ORACLE.run138\", \"ORACLE.run18\", \"ORACLE.run144\", \"ORACLE.run114\", \"ORACLE.run150\", \"ORACLE.run120\", \"ORACLE.run126\"], \"domains_target\": [\"Wisig_1\", \"Wisig_2\", \"Wisig_3\", \"Wisig_4\"]}, \"results\": {\"source_test_label_accuracy\": 0.8128580729166667, \"source_test_label_loss\": 0.615700364112854, \"target_test_label_accuracy\": 0.8662925696594427, \"target_test_label_loss\": 75.8685302734375, \"source_val_label_accuracy\": 0.8125, \"source_val_label_loss\": 0.617301344871521, \"target_val_label_accuracy\": 0.8682352164730729, \"target_val_label_loss\": 76.71858978271484, \"total_epochs_trained\": 14, \"total_experiment_time_secs\": 2842.7389118671417, \"confusion\": {\"ORACLE.run126\": {\"0\": {\"0\": 145, \"10\": 33, \"1\": 1, \"14\": 29, \"8\": 18, \"2\": 9, \"9\": 3, \"7\": 1, \"6\": 1}, \"4\": {\"4\": 236, \"3\": 4}, \"14\": {\"10\": 55, \"14\": 138, \"0\": 18, \"1\": 16, \"15\": 11, \"6\": 2}, \"12\": {\"12\": 240}, \"8\": {\"9\": 51, \"8\": 145, \"2\": 16, \"7\": 25, \"0\": 2, \"3\": 1}, \"7\": {\"9\": 11, \"2\": 34, \"8\": 34, \"7\": 143, \"3\": 18}, \"13\": {\"13\": 207, \"9\": 22, \"7\": 1, \"3\": 3, \"2\": 4, \"4\": 3}, \"5\": {\"15\": 49, \"6\": 14, \"5\": 172, \"1\": 3, \"14\": 2}, \"15\": {\"15\": 138, \"5\": 53, \"10\": 17, \"6\": 24, \"0\": 5, \"1\": 2, \"14\": 1}, \"10\": {\"0\": 27, \"10\": 115, \"6\": 15, \"15\": 21, \"14\": 56, \"1\": 4, \"5\": 1, \"8\": 1}, \"3\": {\"3\": 206, \"2\": 9, \"7\": 21, \"4\": 4}, \"9\": {\"9\": 153, \"7\": 12, \"8\": 51, \"13\": 14, \"3\": 1, \"2\": 9}, \"6\": {\"6\": 166, \"5\": 18, \"10\": 19, \"15\": 31, \"1\": 5, \"0\": 1}, \"1\": {\"1\": 188, \"5\": 1, \"6\": 10, \"14\": 30, \"10\": 8, \"15\": 3}, \"11\": {\"11\": 240}, \"2\": {\"2\": 125, \"3\": 28, \"8\": 21, \"9\": 15, \"7\": 48, \"13\": 1, \"0\": 1, \"10\": 1}}, \"ORACLE.run144\": {\"1\": {\"1\": 224, \"2\": 16}, \"11\": {\"11\": 240}, \"3\": {\"12\": 16, \"3\": 224}, \"6\": {\"6\": 185, \"9\": 24, \"13\": 30, \"7\": 1}, \"7\": {\"7\": 195, \"9\": 37, \"10\": 2, \"2\": 3, \"6\": 3}, \"5\": {\"5\": 206, \"15\": 13, \"14\": 16, \"8\": 4, \"4\": 1}, \"2\": {\"2\": 212, \"7\": 2, \"1\": 16, \"10\": 10}, \"15\": {\"15\": 193, \"14\": 17, \"5\": 18, \"8\": 8, \"4\": 1, \"0\": 3}, \"10\": {\"2\": 9, \"10\": 220, \"7\": 9, \"1\": 2}, \"13\": {\"6\": 43, \"13\": 187, \"11\": 6, \"9\": 4}, \"8\": {\"5\": 7, \"0\": 67, \"8\": 152, \"15\": 14}, \"4\": {\"4\": 153, \"14\": 83, \"13\": 1, \"15\": 1, \"5\": 2}, \"9\": {\"6\": 32, \"9\": 115, \"7\": 73, \"13\": 19, \"4\": 1}, \"14\": {\"14\": 160, \"4\": 60, \"5\": 12, \"15\": 8}, \"0\": {\"0\": 180, \"8\": 56, \"5\": 2, \"15\": 2}, \"12\": {\"12\": 232, \"3\": 8}}, \"ORACLE.run150\": {\"15\": {\"15\": 212, \"9\": 1, \"6\": 16, \"11\": 6, \"5\": 1, \"4\": 4}, \"4\": {\"4\": 197, \"7\": 16, \"15\": 16, \"6\": 4, \"5\": 7}, \"6\": {\"6\": 171, \"5\": 37, \"7\": 1, \"13\": 1, \"15\": 24, \"4\": 6}, \"2\": {\"2\": 232, \"0\": 8}, \"5\": {\"7\": 78, \"6\": 58, \"5\": 71, \"4\": 17, \"15\": 3, \"1\": 4, \"13\": 9}, \"9\": {\"9\": 184, \"11\": 37, \"12\": 19}, \"8\": {\"8\": 238, \"10\": 2}, \"12\": {\"12\": 212, \"11\": 11, \"9\": 17}, \"10\": {\"10\": 238, \"8\": 2}, \"1\": {\"1\": 226, \"13\": 10, \"5\": 3, \"6\": 1}, \"0\": {\"0\": 230, \"2\": 9, \"10\": 1}, \"3\": {\"3\": 240}, \"13\": {\"13\": 234, \"1\": 5, \"6\": 1}, \"11\": {\"11\": 205, \"9\": 18, \"12\": 10, \"15\": 7}, \"7\": {\"7\": 210, \"5\": 29, \"4\": 1}, \"14\": {\"14\": 240}}, \"ORACLE.run138\": {\"15\": {\"15\": 222, \"1\": 5, \"5\": 2, \"8\": 10, \"12\": 1}, \"11\": {\"11\": 240}, \"10\": {\"10\": 223, \"13\": 11, \"0\": 4, \"4\": 2}, \"14\": {\"14\": 220, \"13\": 4, \"2\": 16}, \"6\": {\"6\": 239, \"1\": 1}, \"4\": {\"4\": 238, \"10\": 2}, \"13\": {\"13\": 219, \"10\": 19, \"2\": 2}, \"3\": {\"3\": 240}, \"7\": {\"7\": 231, \"0\": 7, \"4\": 1, \"8\": 1}, \"8\": {\"5\": 83, \"8\": 120, \"7\": 19, \"13\": 11, \"15\": 3, \"0\": 4}, \"1\": {\"1\": 238, \"6\": 2}, \"5\": {\"8\": 84, \"5\": 102, \"7\": 24, \"9\": 13, \"15\": 10, \"0\": 3, \"13\": 4}, \"0\": {\"10\": 21, \"0\": 149, \"7\": 40, \"3\": 24, \"13\": 4, \"8\": 1, \"4\": 1}, \"2\": {\"2\": 211, \"14\": 27, \"13\": 2}, \"12\": {\"12\": 239, \"2\": 1}, \"9\": {\"9\": 233, \"5\": 6, \"7\": 1}}, \"ORACLE.run120\": {\"10\": {\"10\": 234, \"4\": 5, \"6\": 1}, \"7\": {\"7\": 158, \"9\": 27, \"12\": 3, \"6\": 11, \"2\": 30, \"4\": 11}, \"4\": {\"4\": 199, \"2\": 10, \"7\": 12, \"10\": 5, \"12\": 12, \"9\": 1, \"1\": 1}, \"13\": {\"13\": 223, \"2\": 10, \"15\": 3, \"4\": 1, \"12\": 3}, \"1\": {\"1\": 133, \"5\": 72, \"15\": 10, \"12\": 3, \"3\": 7, \"9\": 15}, \"0\": {\"5\": 3, \"0\": 232, \"8\": 1, \"3\": 3, \"11\": 1}, \"12\": {\"2\": 41, \"13\": 7, \"15\": 39, \"12\": 124, \"7\": 3, \"4\": 18, \"1\": 4, \"9\": 3, \"5\": 1}, \"5\": {\"1\": 65, \"5\": 114, \"3\": 45, \"15\": 1, \"9\": 14, \"0\": 1}, \"6\": {\"6\": 235, \"7\": 5}, \"2\": {\"2\": 140, \"12\": 36, \"9\": 11, \"7\": 31, \"13\": 4, \"4\": 9, \"15\": 8, \"1\": 1}, \"8\": {\"8\": 202, \"3\": 15, \"14\": 22, \"6\": 1}, \"11\": {\"11\": 240}, \"9\": {\"9\": 157, \"7\": 22, \"3\": 17, \"1\": 24, \"15\": 3, \"12\": 3, \"2\": 5, \"5\": 9}, \"14\": {\"14\": 225, \"8\": 14, \"6\": 1}, \"15\": {\"2\": 10, \"15\": 162, \"13\": 7, \"12\": 41, \"1\": 15, \"5\": 2, \"9\": 3}, \"3\": {\"3\": 145, \"9\": 36, \"8\": 13, \"0\": 4, \"1\": 8, \"5\": 30, \"7\": 4}}, \"ORACLE.run114\": {\"14\": {\"14\": 173, \"6\": 22, \"13\": 20, \"3\": 18, \"2\": 7}, \"0\": {\"0\": 228, \"3\": 11, \"8\": 1}, \"4\": {\"4\": 222, \"5\": 11, \"2\": 7}, \"11\": {\"11\": 240}, \"13\": {\"13\": 63, \"14\": 51, \"6\": 102, \"2\": 18, \"5\": 2, \"3\": 2, \"4\": 2}, \"9\": {\"9\": 240}, \"3\": {\"2\": 3, \"3\": 218, \"0\": 2, \"14\": 14, \"13\": 1, \"5\": 1, \"6\": 1}, \"6\": {\"13\": 65, \"6\": 145, \"2\": 11, \"14\": 16, \"3\": 3}, \"1\": {\"1\": 240}, \"5\": {\"5\": 200, \"4\": 5, \"2\": 24, \"7\": 9, \"3\": 1, \"14\": 1}, \"12\": {\"12\": 240}, \"10\": {\"10\": 240}, \"8\": {\"8\": 238, \"0\": 2}, \"7\": {\"7\": 236, \"5\": 3, \"2\": 1}, \"15\": {\"15\": 240}, \"2\": {\"2\": 103, \"6\": 22, \"5\": 60, \"14\": 24, \"7\": 3, \"4\": 9, \"3\": 8, \"13\": 11}}, \"ORACLE.run132\": {\"11\": {\"11\": 237, \"13\": 3}, \"1\": {\"1\": 240}, \"2\": {\"2\": 206, \"4\": 34}, \"0\": {\"0\": 163, \"14\": 7, \"8\": 22, \"7\": 29, \"5\": 18, \"2\": 1}, \"3\": {\"3\": 217, \"13\": 23}, \"8\": {\"5\": 36, \"8\": 157, \"0\": 29, \"7\": 5, \"4\": 2, \"14\": 11}, \"12\": {\"12\": 238, \"9\": 2}, \"5\": {\"5\": 115, \"8\": 39, \"7\": 51, \"14\": 8, \"0\": 26, \"15\": 1}, \"15\": {\"15\": 238, \"5\": 2}, \"7\": {\"7\": 138, \"14\": 26, \"5\": 34, \"0\": 33, \"8\": 9}, \"4\": {\"2\": 32, \"4\": 202, \"13\": 6}, \"14\": {\"7\": 49, \"14\": 152, \"8\": 13, \"2\": 5, \"0\": 13, \"4\": 2, \"13\": 1, \"5\": 5}, \"10\": {\"10\": 240}, \"6\": {\"6\": 240}, \"13\": {\"13\": 172, \"3\": 41, \"4\": 24, \"11\": 3}, \"9\": {\"9\": 237, \"12\": 3}}, \"ORACLE.run18\": {\"9\": {\"9\": 240}, \"11\": {\"1\": 83, \"11\": 109, \"14\": 15, \"8\": 5, \"4\": 13, \"6\": 9, \"7\": 1, \"13\": 2, \"5\": 2, \"10\": 1}, \"8\": {\"8\": 218, \"4\": 3, \"6\": 16, \"11\": 2, \"14\": 1}, \"4\": {\"4\": 205, \"11\": 12, \"14\": 9, \"8\": 1, \"6\": 8, \"7\": 1, \"10\": 1, \"1\": 3}, \"13\": {\"13\": 169, \"10\": 42, \"6\": 11, \"7\": 15, \"1\": 1, \"5\": 2}, \"14\": {\"14\": 217, \"4\": 20, \"11\": 3}, \"2\": {\"2\": 178, \"15\": 21, \"3\": 27, \"12\": 14}, \"3\": {\"3\": 237, \"2\": 3}, \"1\": {\"1\": 156, \"5\": 13, \"11\": 44, \"10\": 13, \"6\": 8, \"4\": 5, \"13\": 1}, \"0\": {\"0\": 240}, \"5\": {\"5\": 166, \"4\": 4, \"1\": 30, \"10\": 30, \"11\": 7, \"13\": 3}, \"15\": {\"15\": 194, \"2\": 7, \"12\": 39}, \"10\": {\"10\": 159, \"13\": 27, \"11\": 1, \"5\": 22, \"4\": 4, \"1\": 25, \"6\": 2}, \"12\": {\"12\": 171, \"15\": 68, \"2\": 1}, \"6\": {\"4\": 8, \"7\": 41, \"10\": 4, \"6\": 179, \"13\": 4, \"8\": 3, \"11\": 1}, \"7\": {\"7\": 202, \"6\": 35, \"13\": 3}}, \"Wisig_4\": {\"71\": {\"71\": 89, \"127\": 9, \"49\": 2, \"105\": 1, \"3\": 1, \"84\": 2}, \"17\": {\"79\": 3, \"104\": 1, \"17\": 12, \"86\": 1, \"102\": 1, \"115\": 2}, \"105\": {\"105\": 71, \"88\": 1, \"70\": 1, \"72\": 1, \"40\": 3, \"24\": 1, \"4\": 1, \"14\": 1, \"126\": 1, \"3\": 4, \"16\": 1, \"10\": 1, \"26\": 1, \"120\": 1, \"69\": 1, \"107\": 1, \"114\": 3, \"99\": 2, \"5\": 2, \"27\": 1, \"36\": 1}, \"92\": {\"92\": 16, \"56\": 1, \"31\": 3, \"44\": 1, \"15\": 1, \"128\": 1, \"45\": 2, \"89\": 2, \"98\": 1}, \"100\": {\"100\": 16, \"71\": 1, \"46\": 2, \"14\": 1}, \"6\": {\"6\": 17, \"68\": 1, \"111\": 2, \"42\": 1, \"37\": 1, \"125\": 1, \"124\": 1}, \"36\": {\"36\": 117, \"94\": 3, \"27\": 1, \"70\": 1, \"10\": 2, \"30\": 1, \"26\": 1, \"24\": 2}, \"35\": {\"35\": 11, \"38\": 1}, \"63\": {\"63\": 16}, \"104\": {\"104\": 13, \"86\": 1, \"17\": 2}, \"114\": {\"114\": 108, \"49\": 2, \"1\": 6, \"30\": 1, \"40\": 1, \"5\": 4, \"3\": 2, \"44\": 1, \"24\": 2, \"70\": 1}, \"68\": {\"68\": 15, \"112\": 1}, \"109\": {\"109\": 108, \"96\": 1, \"122\": 1, \"108\": 1, \"70\": 2, \"126\": 1, \"43\": 1, \"113\": 1}, \"27\": {\"27\": 83, \"113\": 2, \"78\": 1, \"108\": 2, \"30\": 4, \"8\": 2, \"88\": 2, \"70\": 1, \"24\": 2, \"10\": 1}, \"79\": {\"79\": 16}, \"0\": {\"0\": 88, \"10\": 1, \"70\": 1, \"87\": 4, \"88\": 1, \"8\": 2, \"101\": 2, \"16\": 1, \"11\": 2, \"113\": 1, \"108\": 1, \"126\": 1, \"24\": 1}, \"28\": {\"28\": 15, \"64\": 1, \"129\": 2, \"98\": 1, \"125\": 1}, \"4\": {\"4\": 101, \"26\": 1, \"108\": 1, \"101\": 1}, \"106\": {\"106\": 82, \"21\": 1, \"12\": 7, \"0\": 6, \"113\": 2, \"8\": 2, \"94\": 1, \"88\": 1}, \"40\": {\"40\": 112, \"107\": 5, \"5\": 2, \"69\": 3, \"105\": 3, \"16\": 1, \"3\": 5, \"24\": 1, \"113\": 1, \"114\": 1}, \"127\": {\"127\": 96, \"16\": 1, \"1\": 2, \"71\": 4, \"110\": 1, \"3\": 1, \"101\": 3}, \"57\": {\"57\": 14, \"88\": 1, \"27\": 1}, \"60\": {\"60\": 17, \"106\": 1, \"12\": 1, \"11\": 2, \"62\": 3, \"93\": 2, \"7\": 2, \"118\": 2, \"69\": 1, \"101\": 1}, \"69\": {\"69\": 106, \"84\": 6, \"108\": 1, \"16\": 4, \"27\": 1, \"70\": 1, \"89\": 1, \"20\": 1, \"40\": 2, \"10\": 1}, \"84\": {\"84\": 110, \"16\": 6, \"26\": 4, \"69\": 6, \"121\": 1, \"105\": 2, \"126\": 1, \"43\": 2}, \"24\": {\"24\": 96, \"10\": 14, \"21\": 1, \"97\": 1, \"18\": 1, \"16\": 2, \"70\": 1, \"27\": 3, \"84\": 1}, \"94\": {\"96\": 1, \"94\": 72, \"15\": 7, \"36\": 3, \"30\": 1, \"0\": 1, \"87\": 1, \"24\": 1, \"88\": 1}, \"7\": {\"7\": 111, \"96\": 1, \"62\": 2, \"109\": 1, \"126\": 1, \"10\": 1, \"66\": 1, \"93\": 1, \"27\": 1}, \"96\": {\"60\": 1, \"96\": 9, \"16\": 1, \"118\": 1, \"59\": 1, \"85\": 1, \"113\": 1, \"105\": 2, \"7\": 1, \"91\": 1, \"31\": 1}, \"116\": {\"116\": 27, \"102\": 1}, \"47\": {\"47\": 7, \"24\": 1, \"51\": 2, \"90\": 1, \"97\": 1}, \"119\": {\"119\": 10, \"102\": 1, \"25\": 1, \"66\": 1, \"64\": 1, \"50\": 2}, \"74\": {\"32\": 2, \"74\": 12, \"113\": 1, \"128\": 1}, \"93\": {\"93\": 144, \"11\": 2, \"62\": 1, \"26\": 1, \"122\": 2, \"110\": 2}, \"2\": {\"2\": 25, \"117\": 2, \"90\": 1}, \"37\": {\"104\": 1, \"37\": 12, \"88\": 1, \"55\": 2}, \"15\": {\"15\": 119, \"30\": 2, \"26\": 1, \"94\": 2, \"36\": 2, \"62\": 1, \"24\": 1}, \"102\": {\"102\": 136}, \"87\": {\"87\": 115, \"113\": 1, \"122\": 2, \"126\": 1, \"26\": 1, \"0\": 2}, \"107\": {\"107\": 136, \"82\": 1, \"40\": 4, \"88\": 1, \"5\": 2}, \"61\": {\"61\": 14, \"109\": 1, \"21\": 1}, \"78\": {\"78\": 19, \"109\": 1, \"70\": 3, \"7\": 1, \"88\": 7, \"97\": 2, \"43\": 2, \"21\": 1}, \"9\": {\"9\": 28}, \"32\": {\"32\": 19, \"107\": 1, \"89\": 3, \"85\": 2, \"5\": 1, \"45\": 1, \"44\": 1}, \"14\": {\"14\": 104, \"31\": 1, \"49\": 1, \"71\": 1, \"105\": 3, \"7\": 1, \"20\": 1}, \"62\": {\"62\": 53, \"7\": 2, \"113\": 1, \"88\": 2, \"26\": 2}, \"1\": {\"68\": 1, \"1\": 55, \"100\": 1, \"49\": 2, \"114\": 13, \"71\": 16, \"3\": 4, \"90\": 1, \"40\": 2, \"95\": 1, \"14\": 1, \"107\": 2, \"105\": 1, \"24\": 1, \"70\": 1}, \"23\": {\"24\": 1, \"23\": 4, \"93\": 1, \"106\": 2, \"33\": 1, \"108\": 1, \"30\": 1, \"38\": 1, \"0\": 1, \"113\": 1, \"101\": 2}, \"95\": {\"95\": 28, \"34\": 1, \"71\": 1, \"19\": 1, \"24\": 1}, \"56\": {\"56\": 12}, \"91\": {\"91\": 11, \"29\": 1, \"120\": 1, \"58\": 1, \"112\": 5, \"55\": 1, \"68\": 2, \"119\": 2}, \"34\": {\"34\": 14, \"105\": 2, \"83\": 3, \"20\": 2, \"99\": 2, \"46\": 1, \"52\": 1, \"3\": 1, \"43\": 1, \"114\": 3, \"101\": 1, \"49\": 1}, \"25\": {\"25\": 16}, \"33\": {\"33\": 120, \"76\": 1, \"121\": 1, \"32\": 1, \"38\": 1}, \"16\": {\"16\": 116, \"113\": 1, \"117\": 1, \"14\": 2, \"84\": 1, \"7\": 2, \"90\": 1}, \"26\": {\"26\": 119, \"84\": 2, \"21\": 1, \"126\": 1, \"16\": 2, \"18\": 1}, \"5\": {\"5\": 115, \"26\": 2, \"40\": 6, \"114\": 1, \"1\": 3, \"10\": 1, \"43\": 2, \"118\": 2, \"113\": 1, \"88\": 1, \"107\": 1, \"93\": 1}, \"123\": {\"123\": 12, \"127\": 1, \"80\": 1, \"63\": 2}, \"8\": {\"8\": 114, \"97\": 1, \"36\": 1, \"11\": 2}, \"83\": {\"83\": 11, \"95\": 2, \"19\": 1, \"71\": 1, \"46\": 1, \"36\": 1, \"50\": 1, \"114\": 3, \"51\": 1, \"78\": 1, \"20\": 1, \"128\": 1, \"107\": 1, \"12\": 1, \"34\": 1}, \"125\": {\"125\": 130, \"111\": 2, \"124\": 2}, \"51\": {\"51\": 6, \"61\": 1, \"127\": 1, \"88\": 1, \"114\": 2, \"9\": 2, \"54\": 1, \"97\": 1, \"59\": 1}, \"22\": {\"22\": 14, \"31\": 2}, \"54\": {\"54\": 13, \"58\": 1, \"68\": 1, \"77\": 1}, \"66\": {\"63\": 1, \"22\": 1, \"66\": 12, \"2\": 2}, \"59\": {\"111\": 2, \"59\": 8, \"52\": 1, \"21\": 1}, \"111\": {\"111\": 124, \"125\": 1, \"10\": 1, \"68\": 1, \"11\": 1}, \"77\": {\"77\": 12}, \"103\": {\"77\": 2, \"103\": 12, \"112\": 2}, \"20\": {\"20\": 13, \"64\": 1, \"100\": 2}, \"124\": {\"124\": 113, \"111\": 4, \"117\": 1, \"102\": 1, \"18\": 1}, \"99\": {\"20\": 1, \"99\": 28, \"89\": 1, \"40\": 6, \"107\": 2, \"70\": 1, \"14\": 1}, \"120\": {\"109\": 1, \"120\": 14, \"17\": 1, \"112\": 2, \"21\": 1, \"98\": 1}, \"76\": {\"76\": 10, \"30\": 1, \"51\": 2, \"55\": 1, \"107\": 2}, \"110\": {\"110\": 94, \"11\": 8, \"113\": 2, \"39\": 1, \"122\": 1, \"87\": 4, \"97\": 1, \"93\": 2, \"36\": 2, \"118\": 1}, \"29\": {\"29\": 29, \"24\": 1, \"82\": 2}, \"118\": {\"118\": 92, \"110\": 3, \"11\": 3, \"8\": 2, \"93\": 2, \"16\": 1, \"70\": 1, \"126\": 1, \"122\": 4, \"21\": 1, \"113\": 1, \"24\": 1}, \"58\": {\"58\": 14, \"88\": 2}, \"13\": {\"13\": 12, \"66\": 1, \"58\": 1, \"50\": 1, \"48\": 1}, \"89\": {\"92\": 1, \"64\": 1, \"89\": 28, \"33\": 2}, \"31\": {\"92\": 2, \"31\": 8, \"47\": 1, \"109\": 1, \"19\": 1, \"90\": 2, \"33\": 1}, \"64\": {\"64\": 10, \"31\": 1, \"28\": 1, \"102\": 1, \"41\": 1, \"103\": 1, \"101\": 1}, \"65\": {\"65\": 12}, \"101\": {\"101\": 123, \"123\": 1, \"16\": 1, \"62\": 1, \"12\": 2, \"43\": 1, \"93\": 1, \"69\": 1, \"117\": 1}, \"126\": {\"126\": 112, \"16\": 1, \"113\": 1, \"109\": 4}, \"108\": {\"30\": 2, \"108\": 62, \"62\": 1, \"1\": 1, \"12\": 1, \"70\": 9, \"113\": 1, \"88\": 5, \"109\": 4, \"43\": 4, \"129\": 1, \"26\": 1}, \"45\": {\"74\": 1, \"45\": 12, \"107\": 1, \"32\": 1, \"73\": 1}, \"21\": {\"21\": 30, \"84\": 1, \"88\": 3, \"70\": 2, \"31\": 1, \"62\": 1, \"108\": 2}, \"30\": {\"30\": 70, \"15\": 1, \"18\": 1, \"36\": 1, \"43\": 2, \"88\": 1}, \"82\": {\"82\": 28, \"41\": 1, \"29\": 1, \"20\": 1, \"32\": 1}, \"85\": {\"85\": 18, \"33\": 2, \"107\": 2, \"95\": 4, \"32\": 2}, \"88\": {\"88\": 115, \"24\": 2, \"78\": 4, \"70\": 7, \"108\": 1, \"26\": 1, \"27\": 2}, \"41\": {\"41\": 13, \"70\": 1, \"29\": 2}, \"128\": {\"127\": 2, \"53\": 1, \"40\": 1, \"128\": 11, \"52\": 1, \"33\": 1, \"85\": 1, \"34\": 1, \"107\": 1, \"3\": 1, \"19\": 1, \"114\": 2}, \"39\": {\"39\": 80, \"109\": 4, \"126\": 6, \"33\": 2, \"113\": 1, \"16\": 1, \"87\": 2, \"18\": 1, \"27\": 1, \"43\": 2}, \"18\": {\"18\": 113, \"113\": 4, \"26\": 1, \"16\": 1, \"126\": 1}, \"113\": {\"113\": 124, \"39\": 1, \"10\": 1, \"94\": 1, \"97\": 1}, \"11\": {\"11\": 121, \"93\": 3, \"0\": 2, \"90\": 1, \"26\": 1, \"87\": 4, \"122\": 1, \"126\": 1, \"110\": 3, \"70\": 1}, \"43\": {\"43\": 103, \"16\": 1, \"26\": 1, \"87\": 1, \"7\": 1, \"70\": 2, \"21\": 2, \"11\": 2, \"105\": 1, \"109\": 6}, \"12\": {\"12\": 94, \"30\": 1, \"60\": 2, \"106\": 1, \"110\": 1, \"113\": 1}, \"122\": {\"122\": 60, \"43\": 1, \"87\": 6, \"113\": 2, \"110\": 3, \"24\": 1, \"70\": 1, \"88\": 1, \"11\": 3, \"109\": 1, \"84\": 1, \"126\": 1, \"93\": 1, \"10\": 1, \"118\": 1}, \"52\": {\"52\": 16, \"98\": 1, \"9\": 1, \"46\": 2}, \"44\": {\"44\": 54, \"69\": 3, \"72\": 2, \"31\": 1, \"50\": 1, \"121\": 1, \"14\": 1, \"82\": 1}, \"90\": {\"90\": 134}, \"112\": {\"112\": 13, \"95\": 1, \"114\": 1, \"91\": 1}, \"86\": {\"86\": 27, \"4\": 1}, \"3\": {\"3\": 87, \"78\": 1, \"5\": 2, \"105\": 6, \"14\": 5, \"114\": 4, \"16\": 1, \"84\": 2, \"43\": 3, \"49\": 1, \"71\": 1, \"40\": 2, \"1\": 1}, \"38\": {\"38\": 16}, \"121\": {\"38\": 1, \"121\": 23, \"45\": 1, \"89\": 1, \"44\": 3, \"107\": 2, \"33\": 1}, \"46\": {\"40\": 1, \"121\": 1, \"46\": 12, \"114\": 2, \"52\": 1, \"73\": 2, \"77\": 1}, \"70\": {\"70\": 109, \"108\": 2, \"113\": 1, \"88\": 2, \"27\": 1, \"10\": 2, \"117\": 2, \"122\": 1, \"43\": 2, \"39\": 2}, \"67\": {\"116\": 1, \"67\": 8, \"65\": 2, \"63\": 1, \"55\": 1, \"123\": 2, \"89\": 1}, \"53\": {\"53\": 16}, \"49\": {\"14\": 4, \"76\": 1, \"127\": 2, \"49\": 11, \"40\": 1, \"34\": 2, \"81\": 1, \"1\": 2, \"105\": 2, \"51\": 1, \"72\": 2, \"71\": 1, \"108\": 1, \"12\": 1}, \"42\": {\"42\": 16, \"50\": 2, \"13\": 1, \"129\": 1, \"52\": 1, \"98\": 2, \"73\": 2, \"91\": 1, \"103\": 1, \"83\": 1}, \"10\": {\"10\": 96, \"24\": 15, \"27\": 3, \"36\": 2, \"18\": 1, \"26\": 1}, \"50\": {\"50\": 11, \"128\": 1, \"102\": 1, \"33\": 1, \"104\": 2}, \"73\": {\"73\": 16, \"112\": 2, \"111\": 1, \"107\": 1, \"46\": 2, \"28\": 1, \"95\": 1}, \"115\": {\"37\": 2, \"89\": 1, \"115\": 7, \"4\": 3, \"79\": 2, \"44\": 1}, \"80\": {\"80\": 15, \"41\": 1}, \"19\": {\"19\": 11, \"83\": 3, \"28\": 3, \"103\": 1, \"107\": 1, \"52\": 1, \"113\": 1, \"89\": 1, \"98\": 2, \"33\": 3, \"126\": 1}, \"55\": {\"55\": 12, \"98\": 1, \"41\": 2, \"29\": 1}, \"72\": {\"105\": 3, \"72\": 19, \"30\": 1, \"40\": 2, \"7\": 2, \"93\": 1, \"71\": 1, \"33\": 1, \"14\": 1, \"114\": 1}, \"117\": {\"117\": 114, \"63\": 2}, \"81\": {\"81\": 30, \"89\": 1, \"70\": 1, \"61\": 1, \"78\": 1, \"18\": 2}, \"75\": {\"9\": 1, \"75\": 8, \"52\": 1, \"47\": 1, \"34\": 1, \"53\": 1, \"77\": 2, \"95\": 1}, \"98\": {\"98\": 108, \"41\": 2, \"124\": 1, \"1\": 1, \"107\": 2, \"25\": 1, \"88\": 1, \"83\": 2, \"33\": 2}, \"48\": {\"48\": 16}, \"129\": {\"103\": 1, \"129\": 20, \"42\": 2, \"90\": 2, \"124\": 1, \"28\": 1, \"98\": 1}, \"97\": {\"97\": 14, \"24\": 2, \"124\": 1, \"27\": 1, \"88\": 2}}, \"Wisig_1\": {\"105\": {\"105\": 73, \"44\": 2, \"84\": 2, \"14\": 1, \"1\": 4, \"40\": 2}, \"100\": {\"81\": 2, \"100\": 12, \"20\": 1, \"14\": 1}, \"112\": {\"81\": 1, \"112\": 10, \"68\": 1, \"75\": 1, \"17\": 1, \"91\": 2}, \"123\": {\"123\": 16}, \"13\": {\"13\": 13, \"115\": 1, \"2\": 2}, \"81\": {\"81\": 18, \"105\": 3, \"127\": 1, \"34\": 1, \"99\": 1, \"114\": 1, \"33\": 1, \"26\": 2}, \"124\": {\"124\": 117, \"117\": 1, \"111\": 2}, \"122\": {\"122\": 86, \"43\": 2}, \"111\": {\"111\": 116, \"68\": 1, \"109\": 2, \"5\": 1}, \"93\": {\"93\": 148, \"21\": 1, \"11\": 3, \"43\": 3, \"126\": 3}, \"106\": {\"106\": 96, \"0\": 1, \"31\": 1, \"12\": 9, \"101\": 1, \"71\": 5, \"110\": 1, \"88\": 1, \"24\": 1, \"39\": 2}, \"113\": {\"113\": 115, \"18\": 8, \"11\": 1}, \"95\": {\"95\": 33, \"90\": 1, \"76\": 1, \"33\": 1}, \"87\": {\"122\": 9, \"87\": 83, \"16\": 1, \"8\": 3, \"43\": 7, \"93\": 4, \"26\": 1}, \"86\": {\"86\": 28, \"24\": 1, \"129\": 3, \"45\": 1, \"55\": 1, \"5\": 2}, \"67\": {\"67\": 16}, \"85\": {\"85\": 29, \"98\": 1, \"92\": 2}, \"82\": {\"82\": 34, \"45\": 1, \"33\": 1}, \"115\": {\"115\": 12}, \"7\": {\"7\": 141, \"62\": 1}, \"44\": {\"44\": 66, \"105\": 6, \"14\": 3, \"40\": 1}, \"65\": {\"65\": 11, \"102\": 1}, \"129\": {\"129\": 17, \"5\": 2, \"112\": 1, \"68\": 1, \"94\": 1, \"117\": 4, \"46\": 1, \"110\": 1}, \"42\": {\"42\": 9, \"29\": 1, \"75\": 2, \"90\": 1, \"82\": 2, \"53\": 2, \"73\": 2, \"83\": 1, \"25\": 1, \"54\": 1, \"19\": 1, \"64\": 1, \"95\": 1, \"129\": 1, \"32\": 1, \"5\": 1}, \"28\": {\"10\": 1, \"28\": 14, \"45\": 2, \"116\": 1, \"66\": 1, \"24\": 1}, \"0\": {\"0\": 81, \"39\": 1, \"24\": 1, \"7\": 1}, \"10\": {\"10\": 117, \"108\": 2, \"70\": 1}, \"76\": {\"76\": 14, \"126\": 1, \"18\": 1}, \"88\": {\"88\": 115, \"109\": 2, \"30\": 1, \"24\": 6, \"27\": 1, \"126\": 1}, \"29\": {\"29\": 28}, \"16\": {\"16\": 100, \"26\": 2, \"18\": 3, \"39\": 1, \"118\": 1, \"126\": 1}, \"41\": {\"41\": 13, \"55\": 2, \"57\": 1}, \"27\": {\"27\": 89, \"10\": 1, \"30\": 1, \"93\": 1}, \"33\": {\"33\": 114, \"3\": 2, \"114\": 2, \"121\": 1, \"90\": 1}, \"75\": {\"9\": 2, \"75\": 11, \"72\": 1, \"51\": 1, \"53\": 1}, \"48\": {\"48\": 12}, \"56\": {\"75\": 2, \"56\": 5, \"53\": 1, \"32\": 1, \"85\": 1, \"107\": 2}, \"9\": {\"9\": 29, \"127\": 1, \"89\": 1, \"10\": 1}, \"1\": {\"1\": 116, \"49\": 1, \"40\": 3, \"14\": 2, \"118\": 1, \"84\": 3}, \"39\": {\"39\": 102, \"11\": 1, \"109\": 1}, \"50\": {\"39\": 2, \"50\": 8, \"90\": 3, \"4\": 1, \"33\": 1, \"63\": 1}, \"99\": {\"99\": 15, \"33\": 4, \"39\": 1, \"25\": 1, \"84\": 1, \"23\": 1, \"81\": 1}, \"90\": {\"90\": 122}, \"45\": {\"67\": 1, \"45\": 7, \"112\": 1, \"129\": 1, \"61\": 1, \"39\": 1}, \"5\": {\"5\": 83, \"124\": 3, \"111\": 2}, \"128\": {\"53\": 2, \"33\": 2, \"95\": 2, \"128\": 7, \"25\": 1, \"89\": 1, \"82\": 1, \"100\": 1, \"47\": 1, \"73\": 2, \"114\": 1, \"81\": 1, \"75\": 1, \"107\": 1}, \"2\": {\"67\": 3, \"2\": 14, \"91\": 1, \"79\": 1, \"55\": 1, \"66\": 2, \"119\": 1, \"61\": 1, \"45\": 1, \"10\": 1, \"117\": 1, \"129\": 1, \"28\": 2, \"102\": 1, \"22\": 1}, \"53\": {\"53\": 13, \"89\": 2, \"114\": 1, \"32\": 2, \"75\": 2}, \"104\": {\"104\": 15, \"83\": 1}, \"32\": {\"53\": 1, \"32\": 28, \"51\": 1, \"103\": 1, \"54\": 1}, \"92\": {\"92\": 28}, \"78\": {\"78\": 13, \"108\": 2, \"10\": 1}, \"19\": {\"19\": 22, \"73\": 1, \"72\": 1, \"20\": 1, \"128\": 2, \"98\": 1}, \"120\": {\"120\": 14, \"93\": 1, \"42\": 2, \"114\": 1, \"19\": 1, \"81\": 1}, \"43\": {\"43\": 107, \"122\": 4, \"87\": 2, \"93\": 8, \"109\": 2, \"39\": 2, \"11\": 1, \"8\": 2}, \"74\": {\"74\": 14, \"65\": 2}, \"11\": {\"11\": 126, \"16\": 1, \"43\": 2, \"118\": 1}, \"26\": {\"26\": 122, \"16\": 3, \"69\": 2, \"39\": 2, \"18\": 2, \"21\": 1}, \"125\": {\"125\": 132}, \"64\": {\"64\": 13, \"102\": 1, \"45\": 1, \"28\": 1}, \"127\": {\"127\": 96, \"71\": 5, \"15\": 1, \"1\": 2, \"101\": 1, \"72\": 1, \"118\": 1, \"94\": 1}, \"83\": {\"83\": 14, \"73\": 2, \"114\": 2, \"30\": 1, \"42\": 2, \"1\": 1, \"72\": 1, \"29\": 1, \"77\": 2, \"91\": 2}, \"118\": {\"118\": 82, \"113\": 1, \"109\": 1}, \"103\": {\"103\": 14, \"29\": 1, \"68\": 1}, \"55\": {\"55\": 12}, \"110\": {\"110\": 117, \"0\": 4, \"106\": 2, \"12\": 3}, \"30\": {\"30\": 34, \"126\": 4, \"70\": 1, \"11\": 2, \"27\": 2, \"15\": 1, \"93\": 2, \"10\": 2, \"24\": 1, \"111\": 1, \"88\": 2}, \"51\": {\"51\": 14, \"34\": 1, \"32\": 1}, \"6\": {\"55\": 3, \"6\": 24, \"111\": 3, \"91\": 2}, \"96\": {\"122\": 3, \"60\": 1, \"30\": 2, \"96\": 12, \"18\": 1, \"105\": 1}, \"114\": {\"114\": 142, \"93\": 1, \"39\": 1}, \"69\": {\"69\": 99, \"16\": 1, \"62\": 2, \"43\": 1, \"3\": 2, \"26\": 1, \"18\": 2}, \"60\": {\"60\": 6, \"26\": 1, \"118\": 2, \"71\": 1, \"0\": 2, \"82\": 1, \"16\": 1, \"21\": 1, \"69\": 1}, \"94\": {\"94\": 83, \"43\": 1, \"36\": 1, \"15\": 4, \"88\": 1, \"87\": 1, \"12\": 1}, \"79\": {\"79\": 12}, \"126\": {\"126\": 123, \"12\": 1, \"93\": 4, \"108\": 2, \"39\": 1, \"10\": 1, \"30\": 1, \"88\": 1}, \"68\": {\"68\": 16}, \"72\": {\"72\": 23, \"75\": 2, \"1\": 1, \"71\": 1, \"101\": 4, \"9\": 1}, \"63\": {\"63\": 13, \"64\": 1, \"123\": 2}, \"22\": {\"64\": 2, \"22\": 10, \"2\": 2, \"96\": 1, \"45\": 1}, \"121\": {\"121\": 31, \"15\": 1}, \"71\": {\"71\": 84, \"70\": 1, \"101\": 6, \"127\": 9, \"24\": 1, \"43\": 1, \"52\": 1, \"12\": 1, \"44\": 1, \"105\": 1, \"90\": 1, \"39\": 1}, \"54\": {\"54\": 12, \"107\": 1, \"73\": 1, \"98\": 1, \"114\": 1}, \"102\": {\"102\": 116, \"39\": 1, \"116\": 1, \"2\": 2}, \"73\": {\"73\": 12, \"88\": 1, \"127\": 1, \"1\": 1, \"42\": 1, \"25\": 1, \"34\": 1, \"71\": 2}, \"38\": {\"38\": 16}, \"4\": {\"4\": 95, \"102\": 2, \"118\": 3}, \"52\": {\"52\": 20}, \"70\": {\"70\": 117, \"10\": 3, \"108\": 4, \"109\": 3, \"124\": 1}, \"91\": {\"91\": 22, \"42\": 1, \"53\": 1, \"98\": 1, \"73\": 1, \"54\": 2}, \"77\": {\"77\": 13, \"61\": 1, \"91\": 2}, \"20\": {\"20\": 16}, \"59\": {\"59\": 12}, \"40\": {\"40\": 105, \"81\": 1, \"105\": 3, \"34\": 2, \"114\": 9, \"118\": 1, \"14\": 5, \"107\": 1, \"1\": 3, \"44\": 2, \"35\": 1, \"62\": 1, \"33\": 1, \"109\": 1}, \"98\": {\"98\": 106, \"54\": 1, \"77\": 1}, \"46\": {\"5\": 1, \"46\": 6, \"45\": 1, \"111\": 1, \"59\": 2, \"91\": 1}, \"34\": {\"34\": 19, \"52\": 1, \"32\": 2, \"51\": 1, \"89\": 1, \"128\": 1, \"44\": 1, \"56\": 1, \"14\": 1, \"105\": 2, \"53\": 1, \"81\": 1}, \"24\": {\"24\": 68, \"118\": 1, \"70\": 2, \"88\": 13, \"10\": 2, \"97\": 1, \"108\": 3, \"39\": 2}, \"62\": {\"62\": 112, \"69\": 4, \"64\": 1, \"111\": 1, \"109\": 1, \"26\": 1}, \"14\": {\"14\": 88, \"40\": 5, \"44\": 3}, \"12\": {\"12\": 83, \"106\": 11, \"70\": 2, \"0\": 3, \"71\": 1, \"110\": 1, \"126\": 1, \"11\": 1, \"39\": 1}, \"84\": {\"84\": 125, \"35\": 2, \"27\": 1, \"7\": 2, \"105\": 2, \"109\": 1, \"39\": 1}, \"37\": {\"37\": 16}, \"97\": {\"27\": 3, \"97\": 15, \"15\": 1, \"11\": 1}, \"57\": {\"57\": 11, \"120\": 1}, \"49\": {\"32\": 1, \"49\": 13, \"9\": 1, \"72\": 2, \"127\": 1, \"29\": 2}, \"17\": {\"17\": 15, \"102\": 1}, \"109\": {\"109\": 102, \"39\": 2, \"70\": 2}, \"80\": {\"80\": 16}, \"66\": {\"64\": 2, \"66\": 14}, \"101\": {\"101\": 117, \"127\": 1, \"11\": 1, \"71\": 5}, \"89\": {\"89\": 32, \"25\": 1, \"42\": 2, \"128\": 1}, \"31\": {\"89\": 1, \"14\": 1, \"31\": 9, \"106\": 1, \"35\": 1, \"1\": 2, \"84\": 1}, \"21\": {\"21\": 29, \"78\": 2, \"68\": 1, \"109\": 4, \"39\": 1, \"126\": 1, \"98\": 1, \"70\": 1}, \"23\": {\"23\": 7, \"62\": 1, \"7\": 1, \"70\": 1, \"94\": 3, \"69\": 1, \"110\": 1, \"16\": 2, \"84\": 2, \"12\": 1, \"15\": 1, \"44\": 1, \"0\": 2}, \"25\": {\"38\": 1, \"25\": 8, \"42\": 3, \"98\": 2, \"128\": 1, \"30\": 1}, \"107\": {\"107\": 104, \"56\": 1, \"14\": 2, \"113\": 1, \"98\": 1, \"94\": 1, \"114\": 2}, \"3\": {\"60\": 2, \"3\": 80, \"36\": 1, \"10\": 1, \"88\": 1, \"125\": 1, \"69\": 2}, \"61\": {\"61\": 9, \"90\": 2, \"79\": 1}, \"117\": {\"117\": 125, \"126\": 1}, \"119\": {\"22\": 1, \"120\": 1, \"119\": 10, \"82\": 1, \"104\": 1, \"40\": 1, \"80\": 1}, \"58\": {\"58\": 12}, \"47\": {\"47\": 9, \"71\": 1, \"29\": 1, \"89\": 1}, \"116\": {\"116\": 31, \"119\": 1}, \"18\": {\"18\": 112, \"16\": 8, \"113\": 1, \"109\": 1, \"69\": 1, \"26\": 1}, \"36\": {\"36\": 117, \"118\": 1, \"39\": 1, \"97\": 2, \"113\": 1}, \"108\": {\"108\": 100, \"10\": 4, \"126\": 3, \"36\": 2, \"11\": 1, \"70\": 2}, \"15\": {\"15\": 97, \"36\": 2, \"94\": 4, \"11\": 1}, \"8\": {\"8\": 110, \"93\": 3, \"87\": 1}, \"35\": {\"35\": 11, \"44\": 1}}, \"Wisig_2\": {\"3\": {\"3\": 122, \"105\": 2, \"1\": 2, \"26\": 1, \"23\": 1, \"43\": 1, \"39\": 1, \"7\": 1, \"70\": 1}, \"127\": {\"127\": 116, \"21\": 1, \"12\": 2, \"105\": 1}, \"58\": {\"58\": 19, \"52\": 1}, \"114\": {\"14\": 2, \"114\": 98, \"32\": 2, \"3\": 2, \"71\": 3, \"118\": 1, \"95\": 1, \"69\": 1, \"127\": 2}, \"111\": {\"111\": 138, \"5\": 4, \"15\": 1, \"93\": 1}, \"105\": {\"105\": 124, \"60\": 2, \"62\": 1, \"24\": 1, \"3\": 1, \"110\": 1, \"7\": 2}, \"118\": {\"118\": 62, \"24\": 2, \"122\": 2, \"23\": 1, \"10\": 1}, \"23\": {\"60\": 1, \"23\": 15, \"96\": 1, \"11\": 2, \"122\": 5, \"118\": 1, \"8\": 3, \"113\": 3, \"69\": 1, \"18\": 1, \"26\": 4, \"12\": 1, \"62\": 1, \"101\": 1, \"43\": 1, \"0\": 1, \"110\": 1, \"93\": 1}, \"21\": {\"21\": 38, \"118\": 2, \"70\": 2, \"69\": 1, \"24\": 3, \"78\": 2}, \"20\": {\"20\": 12, \"99\": 1, \"21\": 1, \"83\": 2}, \"75\": {\"75\": 12, \"98\": 1, \"49\": 1, \"34\": 1, \"50\": 1}, \"86\": {\"86\": 32}, \"60\": {\"105\": 1, \"60\": 22, \"1\": 1, \"62\": 1, \"88\": 1, \"96\": 1, \"36\": 1}, \"69\": {\"69\": 115, \"72\": 3, \"62\": 5, \"87\": 1, \"109\": 2, \"88\": 2, \"43\": 1, \"70\": 1, \"33\": 2, \"26\": 5, \"39\": 2, \"16\": 1}, \"99\": {\"20\": 1, \"99\": 29, \"78\": 1, \"89\": 1}, \"14\": {\"14\": 26, \"107\": 2, \"3\": 2, \"100\": 2, \"43\": 2, \"1\": 6, \"70\": 1, \"78\": 1, \"88\": 2, \"40\": 1, \"95\": 1, \"126\": 1, \"21\": 1}, \"25\": {\"25\": 16}, \"52\": {\"25\": 1, \"35\": 1, \"9\": 2, \"52\": 12, \"124\": 1, \"75\": 2, \"68\": 1}, \"47\": {\"47\": 6, \"1\": 2, \"29\": 1, \"49\": 1, \"78\": 1, \"66\": 1}, \"48\": {\"90\": 1, \"48\": 16, \"57\": 1, \"5\": 1, \"116\": 1}, \"27\": {\"27\": 54, \"78\": 1, \"87\": 1, \"70\": 1, \"24\": 1, \"84\": 1, \"39\": 1, \"101\": 1, \"30\": 2, \"18\": 1, \"113\": 1, \"36\": 1, \"109\": 1, \"126\": 1}, \"78\": {\"78\": 39, \"109\": 1, \"88\": 4, \"87\": 1, \"113\": 1, \"70\": 2}, \"8\": {\"8\": 103, \"11\": 2, \"6\": 1, \"30\": 7, \"122\": 6, \"16\": 1, \"108\": 2}, \"90\": {\"90\": 157, \"16\": 1, \"116\": 1, \"117\": 1}, \"103\": {\"103\": 12, \"112\": 2, \"77\": 1, \"42\": 1}, \"120\": {\"120\": 18, \"121\": 2}, \"96\": {\"96\": 11, \"93\": 6, \"26\": 1, \"84\": 2}, \"30\": {\"30\": 86, \"0\": 6, \"122\": 1, \"8\": 4, \"108\": 2, \"16\": 1, \"114\": 1, \"113\": 1, \"106\": 1, \"43\": 1}, \"33\": {\"33\": 145, \"23\": 1}, \"35\": {\"35\": 12}, \"108\": {\"108\": 109, \"10\": 2, \"30\": 4, \"43\": 1}, \"112\": {\"56\": 1, \"112\": 10, \"98\": 1, \"91\": 1, \"107\": 1, \"103\": 1, \"104\": 1}, \"40\": {\"40\": 84, \"107\": 2, \"84\": 4, \"53\": 1, \"62\": 10, \"44\": 2, \"21\": 1, \"1\": 3, \"95\": 5, \"33\": 7, \"88\": 2, \"3\": 10, \"24\": 1, \"93\": 1, \"105\": 1, \"70\": 2, \"7\": 1, \"69\": 1, \"109\": 1, \"43\": 1}, \"102\": {\"102\": 110, \"117\": 3, \"88\": 1, \"24\": 2}, \"56\": {\"56\": 12}, \"93\": {\"93\": 116, \"96\": 1, \"16\": 14, \"90\": 1, \"84\": 2, \"39\": 1, \"69\": 1}, \"68\": {\"68\": 13, \"42\": 2, \"88\": 1}, \"70\": {\"70\": 92, \"109\": 6, \"88\": 7, \"126\": 11, \"26\": 1, \"39\": 2, \"78\": 2, \"87\": 2, \"43\": 1}, \"7\": {\"7\": 117, \"105\": 2, \"62\": 2, \"109\": 1, \"71\": 2}, \"87\": {\"87\": 95, \"14\": 2, \"109\": 2, \"10\": 4, \"126\": 2, \"118\": 1, \"43\": 4, \"39\": 2}, \"54\": {\"68\": 1, \"54\": 13, \"128\": 2, \"34\": 2, \"95\": 2}, \"71\": {\"71\": 77, \"3\": 6, \"1\": 7, \"88\": 1, \"36\": 1, \"127\": 1, \"122\": 1, \"14\": 4, \"21\": 1, \"39\": 1}, \"80\": {\"80\": 16}, \"18\": {\"18\": 117, \"69\": 4, \"26\": 1}, \"101\": {\"101\": 109, \"78\": 1, \"15\": 4, \"106\": 2, \"122\": 1, \"3\": 1, \"0\": 2, \"127\": 2}, \"92\": {\"92\": 23, \"10\": 1, \"82\": 2, \"64\": 1, \"81\": 1}, \"32\": {\"128\": 2, \"32\": 25, \"61\": 2, \"33\": 2, \"107\": 3, \"74\": 1, \"124\": 1}, \"128\": {\"51\": 3, \"128\": 11, \"107\": 5, \"46\": 1, \"56\": 1, \"33\": 1, \"32\": 2}, \"6\": {\"6\": 29, \"79\": 1, \"59\": 1, \"5\": 1}, \"51\": {\"51\": 11, \"101\": 1, \"15\": 1, \"54\": 1, \"52\": 2, \"58\": 1, \"129\": 1, \"103\": 1, \"27\": 1}, \"85\": {\"85\": 18, \"68\": 2, \"64\": 1, \"45\": 2, \"110\": 1, \"34\": 2, \"5\": 1, \"23\": 1, \"95\": 1, \"103\": 2, \"32\": 1}, \"46\": {\"92\": 1, \"46\": 12, \"48\": 1, \"82\": 1, \"89\": 1}, \"22\": {\"22\": 19, \"80\": 1}, \"1\": {\"1\": 105, \"60\": 1, \"14\": 2, \"78\": 2, \"109\": 1, \"3\": 7, \"7\": 1, \"113\": 1, \"69\": 1, \"44\": 1}, \"37\": {\"129\": 1, \"37\": 13, \"64\": 1, \"73\": 1}, \"44\": {\"44\": 90, \"70\": 1, \"14\": 1, \"71\": 2, \"24\": 1, \"47\": 1, \"114\": 2, \"32\": 1, \"118\": 1}, \"24\": {\"24\": 102, \"113\": 1, \"126\": 1, \"39\": 2, \"70\": 1, \"21\": 3, \"27\": 1, \"16\": 1}, \"9\": {\"9\": 32}, \"116\": {\"116\": 22, \"37\": 1, \"22\": 1, \"65\": 2, \"109\": 1, \"119\": 1}, \"64\": {\"64\": 13, \"56\": 1, \"123\": 2}, \"129\": {\"129\": 27, \"5\": 4, \"73\": 1}, \"42\": {\"129\": 1, \"37\": 2, \"42\": 14, \"91\": 1, \"70\": 1, \"41\": 1, \"73\": 1, \"118\": 1, \"5\": 2, \"77\": 1, \"123\": 1, \"36\": 1, \"58\": 1}, \"117\": {\"117\": 114, \"90\": 1, \"102\": 4, \"108\": 1}, \"88\": {\"88\": 99, \"78\": 1, \"70\": 5, \"109\": 10, \"126\": 5, \"24\": 1, \"10\": 1, \"39\": 1, \"93\": 1}, \"31\": {\"76\": 1, \"83\": 1, \"31\": 16, \"61\": 2}, \"113\": {\"113\": 69, \"118\": 2, \"92\": 1}, \"38\": {\"38\": 16}, \"83\": {\"83\": 35, \"25\": 1, \"67\": 1, \"92\": 1, \"42\": 1, \"95\": 1}, \"49\": {\"101\": 1, \"49\": 9, \"127\": 3, \"51\": 2, \"32\": 2, \"44\": 2, \"128\": 2, \"95\": 1, \"39\": 1, \"71\": 1}, \"97\": {\"97\": 11, \"0\": 4, \"91\": 1, \"28\": 1, \"15\": 1, \"108\": 2}, \"76\": {\"76\": 12, \"56\": 1, \"33\": 1, \"31\": 1, \"1\": 1}, \"29\": {\"29\": 31, \"98\": 1}, \"61\": {\"76\": 2, \"82\": 2, \"61\": 12, \"44\": 1, \"14\": 1, \"90\": 1, \"2\": 1}, \"125\": {\"125\": 146, \"121\": 1, \"79\": 1}, \"126\": {\"126\": 107, \"118\": 2, \"43\": 1, \"10\": 1, \"70\": 5, \"109\": 2, \"39\": 2}, \"55\": {\"55\": 14, \"74\": 2}, \"0\": {\"0\": 90, \"27\": 1, \"97\": 1, \"122\": 2, \"30\": 2, \"15\": 1, \"106\": 1, \"12\": 3, \"8\": 1, \"118\": 1, \"23\": 2, \"21\": 1, \"33\": 1, \"93\": 1}, \"15\": {\"15\": 106, \"24\": 1, \"10\": 1, \"88\": 1, \"106\": 6, \"36\": 3, \"0\": 2}, \"26\": {\"26\": 122, \"62\": 3, \"24\": 1, \"69\": 3, \"18\": 1, \"10\": 1, \"122\": 1, \"16\": 1, \"70\": 1, \"113\": 1, \"78\": 1, \"93\": 1, \"84\": 1}, \"63\": {\"63\": 18, \"116\": 1, \"89\": 1}, \"57\": {\"90\": 1, \"57\": 16, \"119\": 1, \"83\": 2}, \"39\": {\"39\": 91, \"27\": 1, \"109\": 9, \"88\": 5, \"122\": 2, \"70\": 2, \"126\": 2}, \"62\": {\"62\": 115, \"1\": 1, \"39\": 1, \"105\": 4, \"84\": 7, \"7\": 3, \"24\": 1, \"69\": 1, \"11\": 1, \"40\": 2, \"14\": 2, \"88\": 1, \"108\": 1}, \"82\": {\"82\": 29, \"89\": 3, \"119\": 1, \"21\": 1, \"126\": 1, \"23\": 1}, \"11\": {\"11\": 72, \"23\": 1, \"24\": 1, \"122\": 3, \"39\": 1, \"8\": 2}, \"4\": {\"4\": 87, \"126\": 1}, \"41\": {\"41\": 15, \"116\": 1, \"67\": 2, \"50\": 2}, \"72\": {\"72\": 22, \"26\": 2, \"69\": 3, \"14\": 1}, \"16\": {\"16\": 102, \"24\": 1, \"93\": 17, \"12\": 2, \"39\": 1, \"105\": 1}, \"81\": {\"81\": 18, \"116\": 1, \"95\": 1, \"31\": 1, \"20\": 1, \"92\": 1, \"73\": 1}, \"67\": {\"123\": 2, \"67\": 11, \"102\": 2, \"22\": 1}, \"123\": {\"123\": 13, \"129\": 1, \"83\": 1, \"46\": 1}, \"66\": {\"66\": 12, \"46\": 2, \"68\": 1, \"28\": 1, \"86\": 1, \"98\": 3}, \"36\": {\"36\": 110, \"14\": 1, \"15\": 2, \"70\": 1, \"43\": 1, \"122\": 1, \"94\": 3, \"39\": 1, \"126\": 2, \"26\": 1, \"21\": 1, \"27\": 2, \"69\": 1, \"0\": 1}, \"115\": {\"115\": 11, \"21\": 1}, \"77\": {\"77\": 11, \"85\": 2, \"103\": 1, \"19\": 2}, \"119\": {\"119\": 17, \"48\": 1, \"121\": 1, \"90\": 1}, \"65\": {\"120\": 1, \"119\": 1, \"65\": 17, \"126\": 1}, \"34\": {\"114\": 2, \"98\": 2, \"34\": 26, \"107\": 2}, \"107\": {\"34\": 2, \"114\": 3, \"107\": 50, \"53\": 1, \"10\": 1, \"32\": 4, \"113\": 1, \"70\": 1, \"58\": 1}, \"13\": {\"13\": 15, \"117\": 1}, \"110\": {\"111\": 1, \"110\": 25, \"0\": 1, \"80\": 1, \"12\": 3, \"122\": 2, \"8\": 2, \"126\": 1, \"7\": 1, \"30\": 3}, \"106\": {\"106\": 106, \"101\": 4, \"109\": 1, \"98\": 1, \"110\": 2, \"39\": 2, \"122\": 2}, \"89\": {\"57\": 2, \"89\": 34}, \"94\": {\"0\": 6, \"94\": 45, \"122\": 2, \"87\": 1, \"11\": 1, \"109\": 1, \"24\": 1, \"21\": 1, \"90\": 1, \"88\": 2, \"126\": 1, \"15\": 2}, \"98\": {\"98\": 103, \"83\": 2, \"92\": 1, \"26\": 1, \"84\": 1, \"21\": 1, \"100\": 1, \"114\": 2}, \"91\": {\"91\": 20, \"103\": 1, \"129\": 1, \"19\": 1, \"42\": 2, \"5\": 1, \"68\": 1, \"17\": 1}, \"84\": {\"84\": 77, \"40\": 4, \"69\": 1, \"62\": 4, \"33\": 1, \"1\": 2, \"26\": 1, \"87\": 1, \"105\": 1}, \"73\": {\"103\": 1, \"73\": 21, \"44\": 1, \"54\": 1, \"85\": 2, \"82\": 2}, \"104\": {\"37\": 4, \"8\": 1, \"104\": 9, \"80\": 1, \"118\": 1, \"67\": 2, \"126\": 1, \"5\": 1}, \"59\": {\"59\": 9, \"52\": 1, \"124\": 1, \"6\": 3, \"41\": 2}, \"74\": {\"74\": 13, \"104\": 1, \"119\": 1, \"40\": 1}, \"28\": {\"28\": 17, \"87\": 1, \"19\": 1, \"82\": 1}, \"95\": {\"95\": 26, \"44\": 1, \"108\": 1, \"40\": 3, \"32\": 1, \"83\": 1, \"23\": 1, \"71\": 2}, \"2\": {\"2\": 29, \"90\": 1, \"99\": 1, \"117\": 1}, \"5\": {\"5\": 102, \"123\": 1, \"129\": 4, \"111\": 2, \"113\": 1, \"70\": 1, \"39\": 1}, \"50\": {\"50\": 11, \"70\": 1, \"41\": 2, \"22\": 2}, \"109\": {\"109\": 85, \"6\": 1, \"70\": 5, \"88\": 2, \"18\": 1, \"24\": 1, \"39\": 4, \"5\": 1}, \"10\": {\"10\": 45, \"108\": 3, \"12\": 1, \"88\": 3, \"24\": 1, \"70\": 1, \"78\": 1, \"11\": 1, \"26\": 1, \"105\": 1, \"126\": 2}, \"45\": {\"45\": 14, \"87\": 1, \"21\": 1}, \"121\": {\"121\": 24, \"89\": 2, \"92\": 2, \"90\": 1, \"117\": 2, \"120\": 3, \"99\": 1, \"119\": 1}, \"124\": {\"124\": 107, \"129\": 1, \"111\": 2}, \"53\": {\"110\": 1, \"53\": 8, \"107\": 2, \"14\": 2, \"128\": 1, \"67\": 1, \"126\": 1}, \"79\": {\"79\": 16}, \"43\": {\"43\": 97, \"78\": 2, \"10\": 2, \"109\": 2, \"108\": 2, \"122\": 2, \"87\": 3, \"11\": 1, \"39\": 1, \"101\": 1, \"24\": 1}, \"122\": {\"122\": 110, \"94\": 1, \"88\": 3, \"43\": 3, \"11\": 7, \"70\": 1, \"8\": 7, \"39\": 1, \"108\": 1, \"30\": 2, \"126\": 2}, \"100\": {\"100\": 9, \"1\": 3, \"62\": 1, \"83\": 2, \"95\": 1}, \"19\": {\"107\": 2, \"19\": 22, \"44\": 3, \"100\": 1}, \"12\": {\"12\": 73, \"105\": 2, \"106\": 4, \"113\": 1, \"0\": 3, \"127\": 2, \"109\": 1, \"39\": 1, \"70\": 1}, \"17\": {\"17\": 11, \"111\": 1, \"129\": 1, \"24\": 1, \"125\": 2}}, \"Wisig_3\": {\"38\": {\"38\": 15, \"49\": 1}, \"88\": {\"88\": 104, \"70\": 7, \"36\": 1}, \"104\": {\"104\": 12, \"115\": 1, \"129\": 2, \"82\": 1}, \"11\": {\"11\": 135, \"26\": 1, \"126\": 1, \"18\": 1, \"0\": 2}, \"103\": {\"103\": 9, \"90\": 1, \"22\": 1, \"119\": 1, \"115\": 1, \"45\": 3}, \"124\": {\"124\": 110, \"111\": 5, \"90\": 1}, \"3\": {\"3\": 101, \"43\": 1, \"105\": 6, \"127\": 1, \"24\": 1, \"71\": 2, \"27\": 1, \"36\": 1, \"114\": 2}, \"74\": {\"74\": 9, \"33\": 1, \"100\": 2, \"25\": 1, \"57\": 2, \"38\": 1}, \"126\": {\"126\": 119, \"109\": 2, \"113\": 1}, \"123\": {\"123\": 16}, \"51\": {\"51\": 14, \"38\": 1, \"127\": 1}, \"14\": {\"14\": 76, \"18\": 1, \"114\": 2, \"69\": 1}, \"16\": {\"16\": 111, \"93\": 2, \"18\": 1, \"26\": 1, \"0\": 1}, \"22\": {\"22\": 15, \"116\": 1}, \"109\": {\"109\": 115, \"43\": 2, \"126\": 1, \"39\": 2, \"11\": 1, \"113\": 1}, \"27\": {\"27\": 82, \"70\": 2, \"24\": 4, \"36\": 3, \"30\": 2, \"10\": 2, \"113\": 1}, \"75\": {\"75\": 12, \"72\": 2, \"78\": 1, \"73\": 1}, \"66\": {\"50\": 1, \"66\": 10, \"28\": 1, \"77\": 1, \"129\": 1, \"98\": 1, \"41\": 1}, \"48\": {\"115\": 1, \"55\": 1, \"86\": 2, \"48\": 9, \"68\": 1, \"116\": 2}, \"6\": {\"6\": 24, \"5\": 2, \"111\": 3, \"59\": 1, \"91\": 1, \"124\": 1}, \"10\": {\"10\": 104, \"108\": 6, \"109\": 1, \"126\": 1}, \"99\": {\"99\": 25, \"97\": 1, \"107\": 2, \"34\": 1, \"32\": 1, \"71\": 1, \"127\": 1, \"105\": 2, \"3\": 1, \"9\": 1}, \"50\": {\"115\": 1, \"50\": 8, \"29\": 1, \"48\": 1, \"37\": 1, \"65\": 1, \"76\": 2, \"82\": 1}, \"54\": {\"54\": 16}, \"55\": {\"66\": 1, \"55\": 13, \"100\": 1, \"128\": 1}, \"53\": {\"53\": 15, \"107\": 2, \"20\": 3}, \"72\": {\"72\": 22, \"46\": 2, \"101\": 1, \"1\": 1, \"47\": 1, \"75\": 1}, \"64\": {\"64\": 17, \"61\": 2, \"120\": 1}, \"115\": {\"126\": 1, \"115\": 12, \"45\": 1, \"129\": 2}, \"23\": {\"126\": 2, \"23\": 11, \"43\": 1, \"0\": 2, \"33\": 1, \"26\": 2, \"69\": 2, \"110\": 1, \"84\": 1, \"8\": 2, \"87\": 1, \"15\": 1, \"94\": 3, \"12\": 1, \"18\": 1}, \"32\": {\"57\": 5, \"128\": 2, \"32\": 14, \"107\": 2, \"9\": 1, \"34\": 2, \"19\": 3, \"20\": 1, \"38\": 1, \"114\": 1}, \"15\": {\"15\": 98, \"94\": 3, \"43\": 1, \"18\": 1, \"39\": 1}, \"43\": {\"43\": 44, \"109\": 4, \"93\": 1, \"122\": 1, \"110\": 1, \"21\": 1, \"18\": 1, \"26\": 1, \"118\": 1, \"16\": 1}, \"114\": {\"114\": 111, \"70\": 1, \"105\": 2, \"1\": 1, \"126\": 1, \"98\": 1, \"3\": 6, \"107\": 1}, \"121\": {\"64\": 3, \"121\": 27, \"89\": 1, \"90\": 1}, \"79\": {\"79\": 12}, \"81\": {\"81\": 27, \"18\": 2, \"67\": 1, \"44\": 1, \"61\": 1}, \"8\": {\"8\": 112, \"0\": 4, \"110\": 4, \"108\": 4, \"15\": 2, \"94\": 2}, \"13\": {\"13\": 9, \"115\": 1, \"2\": 1, \"67\": 2, \"102\": 1, \"103\": 1, \"113\": 1}, \"90\": {\"90\": 151, \"89\": 2, \"82\": 1, \"29\": 2}, \"41\": {\"90\": 1, \"41\": 11, \"85\": 1, \"5\": 2, \"66\": 1}, \"107\": {\"107\": 127, \"34\": 1, \"40\": 4, \"114\": 2, \"105\": 1, \"1\": 1}, \"57\": {\"57\": 16, \"104\": 1, \"128\": 1, \"50\": 1, \"86\": 1}, \"33\": {\"33\": 110, \"69\": 6, \"40\": 2, \"92\": 2}, \"35\": {\"35\": 9, \"106\": 2, \"128\": 1}, \"29\": {\"29\": 32}, \"70\": {\"70\": 64, \"88\": 3, \"10\": 2, \"39\": 1, \"113\": 1, \"126\": 1}, \"42\": {\"93\": 1, \"42\": 18, \"91\": 2, \"52\": 1, \"82\": 1, \"58\": 2, \"118\": 1, \"68\": 1, \"54\": 1}, \"93\": {\"93\": 124, \"16\": 1, \"33\": 1}, \"86\": {\"86\": 26, \"37\": 2}, \"28\": {\"28\": 14, \"31\": 2}, \"1\": {\"1\": 92, \"114\": 4, \"14\": 3, \"105\": 1, \"71\": 2, \"87\": 1, \"3\": 2, \"101\": 1, \"127\": 1, \"33\": 1}, \"125\": {\"125\": 121, \"44\": 1, \"127\": 1, \"90\": 1}, \"69\": {\"69\": 78, \"33\": 1, \"18\": 2, \"113\": 1, \"26\": 2}, \"97\": {\"97\": 16, \"0\": 2, \"94\": 1, \"41\": 1}, \"117\": {\"117\": 110, \"2\": 2}, \"68\": {\"68\": 16}, \"30\": {\"43\": 2, \"30\": 71, \"122\": 1, \"118\": 1, \"8\": 2, \"36\": 3, \"39\": 1, \"15\": 2, \"70\": 1}, \"111\": {\"68\": 1, \"111\": 122, \"124\": 9}, \"47\": {\"47\": 12}, \"102\": {\"102\": 124}, \"65\": {\"65\": 11, \"66\": 1}, \"113\": {\"113\": 113, \"87\": 2, \"111\": 1, \"43\": 2, \"73\": 1, \"126\": 1}, \"36\": {\"36\": 104, \"94\": 2, \"30\": 1, \"24\": 1, \"27\": 5, \"126\": 1}, \"119\": {\"119\": 9, \"102\": 3, \"104\": 1, \"116\": 2, \"100\": 1}, \"46\": {\"46\": 14, \"58\": 1, \"52\": 1}, \"49\": {\"23\": 2, \"49\": 9, \"101\": 1, \"62\": 2, \"16\": 2, \"106\": 1, \"12\": 2, \"0\": 1, \"125\": 1, \"72\": 1, \"124\": 1, \"84\": 1}, \"0\": {\"0\": 111, \"113\": 1, \"94\": 1, \"8\": 3}, \"58\": {\"58\": 10, \"98\": 1, \"101\": 1, \"42\": 2, \"52\": 1, \"72\": 1}, \"63\": {\"63\": 16}, \"94\": {\"0\": 2, \"94\": 77, \"18\": 1, \"15\": 4}, \"17\": {\"103\": 1, \"23\": 2, \"39\": 2, \"113\": 1, \"79\": 2, \"70\": 1, \"86\": 2, \"67\": 1, \"10\": 2, \"126\": 2}, \"9\": {\"38\": 2, \"9\": 30}, \"87\": {\"87\": 120}, \"59\": {\"59\": 11, \"51\": 1}, \"105\": {\"105\": 106, \"71\": 2, \"3\": 9, \"40\": 2, \"114\": 1}, \"80\": {\"80\": 15, \"10\": 1}, \"120\": {\"80\": 1, \"120\": 9, \"117\": 1, \"92\": 1, \"2\": 1, \"82\": 2, \"13\": 2, \"121\": 2, \"64\": 1}, \"18\": {\"18\": 129, \"128\": 1, \"126\": 1, \"90\": 1}, \"78\": {\"78\": 9, \"10\": 3, \"21\": 1, \"18\": 1, \"118\": 2}, \"25\": {\"25\": 16}, \"19\": {\"76\": 1, \"19\": 14, \"85\": 1, \"31\": 1, \"77\": 2, \"56\": 3, \"73\": 1, \"44\": 1, \"52\": 2, \"38\": 2, \"20\": 1, \"100\": 1, \"128\": 1, \"1\": 1}, \"122\": {\"39\": 2, \"69\": 1, \"122\": 47, \"18\": 1, \"87\": 4, \"11\": 2, \"43\": 1, \"113\": 2}, \"39\": {\"39\": 108}, \"76\": {\"76\": 9, \"57\": 2, \"33\": 2, \"23\": 1, \"44\": 2}, \"89\": {\"89\": 24, \"90\": 2, \"116\": 2}, \"129\": {\"129\": 30, \"90\": 1, \"115\": 1}, \"26\": {\"26\": 100}, \"85\": {\"85\": 26, \"72\": 1, \"112\": 3, \"46\": 2, \"5\": 1, \"9\": 1, \"107\": 2}, \"71\": {\"71\": 58, \"105\": 2, \"18\": 2, \"114\": 2, \"3\": 3, \"127\": 1}, \"77\": {\"77\": 15, \"91\": 1}, \"128\": {\"128\": 18, \"74\": 1, \"85\": 1, \"9\": 2, \"32\": 2, \"107\": 1, \"114\": 1, \"75\": 1, \"98\": 1, \"38\": 1, \"34\": 1, \"19\": 1, \"105\": 1}, \"2\": {\"2\": 25, \"120\": 1, \"117\": 2}, \"56\": {\"56\": 12}, \"24\": {\"24\": 47, \"27\": 1}, \"101\": {\"26\": 1, \"101\": 34, \"16\": 1, \"51\": 1, \"12\": 5, \"18\": 1, \"94\": 4, \"106\": 4, \"7\": 1}, \"52\": {\"52\": 12, \"72\": 1, \"112\": 1, \"58\": 1, \"83\": 1}, \"84\": {\"84\": 92, \"93\": 1, \"69\": 1, \"7\": 2, \"39\": 1, \"62\": 7, \"60\": 2, \"14\": 2}, \"7\": {\"7\": 107, \"39\": 1, \"109\": 1, \"87\": 1, \"62\": 2}, \"82\": {\"82\": 25, \"29\": 1, \"31\": 1, \"50\": 1}, \"60\": {\"60\": 25, \"110\": 2, \"16\": 1}, \"45\": {\"24\": 1, \"45\": 11, \"18\": 1, \"5\": 1, \"115\": 1, \"118\": 1}, \"40\": {\"40\": 97, \"84\": 6, \"14\": 3, \"107\": 10, \"3\": 3, \"62\": 3, \"1\": 1, \"44\": 1}, \"20\": {\"20\": 11, \"71\": 1, \"53\": 2, \"114\": 2}, \"4\": {\"4\": 96}, \"116\": {\"116\": 28}, \"61\": {\"61\": 16}, \"5\": {\"5\": 101, \"85\": 2, \"111\": 2, \"124\": 5, \"18\": 1, \"39\": 1}, \"106\": {\"106\": 95, \"127\": 2, \"40\": 1, \"0\": 2}, \"12\": {\"12\": 104}, \"62\": {\"62\": 108, \"84\": 6, \"14\": 2, \"16\": 2, \"11\": 1, \"113\": 1}, \"34\": {\"28\": 2, \"34\": 19, \"3\": 1, \"114\": 2, \"128\": 1, \"40\": 2, \"18\": 1, \"69\": 2, \"99\": 1, \"107\": 1}, \"91\": {\"91\": 14, \"42\": 6, \"46\": 1, \"98\": 3}, \"112\": {\"112\": 10, \"85\": 1, \"96\": 1, \"19\": 1, \"46\": 1, \"52\": 2}, \"92\": {\"92\": 27, \"82\": 2, \"121\": 1, \"28\": 1, \"64\": 1}, \"95\": {\"95\": 29, \"98\": 1, \"28\": 1, \"128\": 1}, \"96\": {\"96\": 20}, \"127\": {\"127\": 96, \"71\": 3, \"126\": 2, \"109\": 1, \"3\": 3, \"72\": 2, \"113\": 1}, \"67\": {\"67\": 14, \"116\": 1, \"36\": 1}, \"83\": {\"83\": 19, \"106\": 1, \"51\": 1, \"47\": 2, \"1\": 1}, \"21\": {\"78\": 2, \"21\": 30, \"106\": 1, \"39\": 1, \"88\": 5, \"10\": 1, \"113\": 1, \"111\": 1, \"43\": 3, \"18\": 1, \"101\": 1, \"126\": 1}, \"98\": {\"98\": 123, \"44\": 1}, \"108\": {\"108\": 120, \"109\": 1, \"30\": 1, \"27\": 2, \"10\": 5, \"11\": 2, \"126\": 1}, \"31\": {\"2\": 1, \"31\": 9, \"40\": 2, \"33\": 1, \"29\": 1, \"121\": 1, \"28\": 2, \"89\": 1, \"90\": 1, \"19\": 1}, \"118\": {\"118\": 100}, \"110\": {\"110\": 79, \"122\": 8, \"87\": 3, \"8\": 2}, \"73\": {\"49\": 1, \"73\": 36, \"105\": 1, \"42\": 1, \"34\": 1}, \"44\": {\"44\": 69, \"117\": 2, \"33\": 1}, \"37\": {\"37\": 14, \"64\": 1, \"66\": 1}, \"100\": {\"100\": 15, \"66\": 1}}}, \"per_domain_accuracy\": {\"ORACLE.run126\": {\"accuracy\": 0.71796875, \"source?\": true}, \"ORACLE.run144\": {\"accuracy\": 0.8015625, \"source?\": true}, \"ORACLE.run150\": {\"accuracy\": 0.8697916666666666, \"source?\": true}, \"ORACLE.run138\": {\"accuracy\": 0.8760416666666667, \"source?\": true}, \"ORACLE.run120\": {\"accuracy\": 0.7611979166666667, \"source?\": true}, \"ORACLE.run114\": {\"accuracy\": 0.8505208333333333, \"source?\": true}, \"ORACLE.run132\": {\"accuracy\": 0.83125, \"source?\": true}, \"ORACLE.run18\": {\"accuracy\": 0.7916666666666666, \"source?\": true}, \"Wisig_4\": {\"accuracy\": 0.8487654320987654, \"source?\": false}, \"Wisig_1\": {\"accuracy\": 0.8894332627118644, \"source?\": false}, \"Wisig_2\": {\"accuracy\": 0.8470188284518828, \"source?\": false}, \"Wisig_3\": {\"accuracy\": 0.8891921397379913, \"source?\": false}}}, \"history\": {\"epoch_indices\": [1, 2, 3, 4, 5, 6, 7, 8, 9, 10, 11, 12, 13, 14], \"train_label_loss\": [1.1645760289615108, 0.730426430107937, 0.5231961379836624, 0.41451176323240535, 0.34347397924395323, 0.29205296837774636, 0.2517126070837202, 0.2152249988328549, 0.19066554173727387, 0.17035640815641576, 0.15162356781972144, 0.13773718808494909, 0.1235160119901723, 0.11099328464493044], \"source_val_label_loss\": [3.15600848197937, 0.6849970817565918, 0.5952913761138916, 0.5369107127189636, 0.5392296314239502, 0.5708271265029907, 0.5670196413993835, 0.5868402719497681, 0.589184045791626, 0.617301344871521, 0.6463131904602051, 0.6706992387771606, 0.6973738670349121, 0.7191245555877686], \"target_val_label_loss\": [333.38592529296875, 48.70354461669922, 62.35294723510742, 35.66401672363281, 44.966915130615234, 65.4995346069336, 65.19976043701172, 67.88971710205078, 72.97122192382812, 76.71858978271484, 88.8704605102539, 107.10548400878906, 91.87696838378906, 94.10707092285156], \"source_val_acc_label\": [0.580859375, 0.7540690104166666, 0.79423828125, 0.80458984375, 0.8111002604166667, 0.81455078125, 0.8153971354166667, 0.8128255208333334, 0.8163411458333333, 0.8125, 0.8125651041666667, 0.8079427083333334, 0.8057291666666667, 0.8046549479166667], \"target_val_acc_label\": [0.720003959873284, 0.8150409186906019, 0.8381731784582893, 0.8535506863780359, 0.8555966209081309, 0.8572135691657867, 0.8568175818373812, 0.8607444561774024, 0.8674432418162619, 0.8682352164730729, 0.8639783526927138, 0.8557946145723336, 0.8675422386483632, 0.8670472544878564]}, \"dataset_metrics\": {\"source\": {\"train\": {\"n_unique_x\": 179200, \"n_unique_y\": 16, \"n_batch/episode\": 6720}, \"val\": {\"n_unique_x\": 38400, \"n_unique_y\": 16, \"n_batch/episode\": 960}, \"test\": {\"n_unique_x\": 38400, \"n_unique_y\": 16, \"n_batch/episode\": 960}}, \"target\": {\"train\": {\"n_unique_x\": 189001, \"n_unique_y\": 130, \"n_batch/episode\": 6847}, \"val\": {\"n_unique_x\": 40070, \"n_unique_y\": 130, \"n_batch/episode\": 947}, \"test\": {\"n_unique_x\": 40812, \"n_unique_y\": 130, \"n_batch/episode\": 969}}}}'"
      ]
     },
     "execution_count": 29,
     "metadata": {},
     "output_type": "execute_result"
    }
   ],
   "source": [
    "json.dumps(experiment)"
   ]
  }
 ],
 "metadata": {
  "celltoolbar": "Tags",
  "kernelspec": {
   "display_name": "Python 3 (ipykernel)",
   "language": "python",
   "name": "python3"
  },
  "language_info": {
   "codemirror_mode": {
    "name": "ipython",
    "version": 3
   },
   "file_extension": ".py",
   "mimetype": "text/x-python",
   "name": "python",
   "nbconvert_exporter": "python",
   "pygments_lexer": "ipython3",
   "version": "3.8.12"
  },
  "papermill": {
   "default_parameters": {},
   "duration": 3068.089989,
   "end_time": "2022-03-23T05:50:13.958923",
   "environment_variables": {},
   "exception": null,
   "input_path": "/root/csc500-main/csc500-notebooks/templates/tl_ptn_template.ipynb",
   "output_path": "trial.ipynb",
   "parameters": {
    "parameters": {
     "BEST_MODEL_PATH": "./best_model.pth",
     "NUM_LOGS_PER_EPOCH": 10,
     "criteria_for_best": "target_accuracy",
     "dataset_seed": 7,
     "datasets": [
      {
       "domain_prefix": "Wisig_",
       "domains": [
        1,
        2,
        3,
        4
       ],
       "episode_transforms": [],
       "labels": [
        "1-10",
        "1-12",
        "1-14",
        "1-16",
        "1-18",
        "1-19",
        "1-8",
        "10-11",
        "10-17",
        "10-4",
        "10-7",
        "11-1",
        "11-10",
        "11-19",
        "11-20",
        "11-4",
        "11-7",
        "12-19",
        "12-20",
        "12-7",
        "13-14",
        "13-18",
        "13-19",
        "13-20",
        "13-3",
        "13-7",
        "14-10",
        "14-11",
        "14-12",
        "14-13",
        "14-14",
        "14-19",
        "14-20",
        "14-7",
        "14-8",
        "14-9",
        "15-1",
        "15-19",
        "15-6",
        "16-1",
        "16-16",
        "16-19",
        "16-20",
        "17-10",
        "17-11",
        "18-1",
        "18-10",
        "18-11",
        "18-12",
        "18-13",
        "18-14",
        "18-15",
        "18-16",
        "18-17",
        "18-19",
        "18-2",
        "18-20",
        "18-4",
        "18-5",
        "18-7",
        "18-8",
        "18-9",
        "19-1",
        "19-10",
        "19-11",
        "19-12",
        "19-13",
        "19-14",
        "19-15",
        "19-19",
        "19-2",
        "19-20",
        "19-3",
        "19-4",
        "19-6",
        "19-7",
        "19-8",
        "19-9",
        "2-1",
        "2-13",
        "2-15",
        "2-3",
        "2-4",
        "2-5",
        "2-6",
        "2-7",
        "2-8",
        "20-1",
        "20-12",
        "20-14",
        "20-15",
        "20-16",
        "20-18",
        "20-19",
        "20-20",
        "20-3",
        "20-4",
        "20-5",
        "20-7",
        "20-8",
        "3-1",
        "3-13",
        "3-18",
        "3-2",
        "3-8",
        "4-1",
        "4-10",
        "4-11",
        "5-1",
        "5-5",
        "6-1",
        "6-15",
        "6-6",
        "7-10",
        "7-11",
        "7-12",
        "7-13",
        "7-14",
        "7-7",
        "7-8",
        "7-9",
        "8-1",
        "8-13",
        "8-14",
        "8-18",
        "8-20",
        "8-3",
        "8-8",
        "9-1",
        "9-7"
       ],
       "num_examples_per_domain_per_label": -1,
       "pickle_path": "/root/csc500-main/datasets/wisig.node3-19.stratified_ds.2022A.pkl",
       "source_or_target_dataset": "target",
       "x_transforms": []
      },
      {
       "domain_prefix": "ORACLE.run1",
       "domains": [
        32,
        38,
        8,
        44,
        14,
        50,
        20,
        26
       ],
       "episode_transforms": [],
       "labels": [
        "3123D52",
        "3123D65",
        "3123D79",
        "3123D80",
        "3123D54",
        "3123D70",
        "3123D7B",
        "3123D89",
        "3123D58",
        "3123D76",
        "3123D7D",
        "3123EFE",
        "3123D64",
        "3123D78",
        "3123D7E",
        "3124E4A"
       ],
       "num_examples_per_domain_per_label": 2000,
       "pickle_path": "/root/csc500-main/datasets/oracle.Run1_10kExamples_stratified_ds.2022A.pkl",
       "source_or_target_dataset": "source",
       "x_transforms": []
      }
     ],
     "device": "cuda",
     "experiment_name": "tl_1v2:wisig-oracle.run1.limited",
     "lr": 0.0001,
     "n_epoch": 50,
     "n_query": 2,
     "n_shot": 3,
     "n_way": 16,
     "patience": 3,
     "seed": 7,
     "test_k_factor": 2,
     "torch_default_dtype": "torch.float32",
     "train_k_factor": 3,
     "val_k_factor": 2,
     "x_net": [
      {
       "class": "nnReshape",
       "kargs": {
        "shape": [
         -1,
         1,
         2,
         256
        ]
       }
      },
      {
       "class": "Conv2d",
       "kargs": {
        "bias": false,
        "in_channels": 1,
        "kernel_size": [
         1,
         7
        ],
        "out_channels": 256,
        "padding": [
         0,
         3
        ]
       }
      },
      {
       "class": "ReLU",
       "kargs": {
        "inplace": true
       }
      },
      {
       "class": "BatchNorm2d",
       "kargs": {
        "num_features": 256
       }
      },
      {
       "class": "Conv2d",
       "kargs": {
        "bias": true,
        "in_channels": 256,
        "kernel_size": [
         2,
         7
        ],
        "out_channels": 80,
        "padding": [
         0,
         3
        ]
       }
      },
      {
       "class": "ReLU",
       "kargs": {
        "inplace": true
       }
      },
      {
       "class": "BatchNorm2d",
       "kargs": {
        "num_features": 80
       }
      },
      {
       "class": "Flatten",
       "kargs": {}
      },
      {
       "class": "Linear",
       "kargs": {
        "in_features": 20480,
        "out_features": 256
       }
      },
      {
       "class": "ReLU",
       "kargs": {
        "inplace": true
       }
      },
      {
       "class": "BatchNorm1d",
       "kargs": {
        "num_features": 256
       }
      },
      {
       "class": "Linear",
       "kargs": {
        "in_features": 256,
        "out_features": 256
       }
      }
     ]
    }
   },
   "start_time": "2022-03-23T04:59:05.868934",
   "version": "2.3.4"
  }
 },
 "nbformat": 4,
 "nbformat_minor": 5
}