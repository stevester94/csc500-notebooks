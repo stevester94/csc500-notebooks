{
 "cells": [
  {
   "cell_type": "markdown",
   "id": "9fea5f46",
   "metadata": {
    "papermill": {
     "duration": 0.030066,
     "end_time": "2022-03-23T01:04:02.407338",
     "exception": false,
     "start_time": "2022-03-23T01:04:02.377272",
     "status": "completed"
    },
    "tags": []
   },
   "source": [
    "# Transfer Learning Template"
   ]
  },
  {
   "cell_type": "code",
   "execution_count": 1,
   "id": "0902182a",
   "metadata": {
    "execution": {
     "iopub.execute_input": "2022-03-23T01:04:02.469696Z",
     "iopub.status.busy": "2022-03-23T01:04:02.457334Z",
     "iopub.status.idle": "2022-03-23T01:04:04.340469Z",
     "shell.execute_reply": "2022-03-23T01:04:04.340789Z"
    },
    "papermill": {
     "duration": 1.910969,
     "end_time": "2022-03-23T01:04:04.340970",
     "exception": false,
     "start_time": "2022-03-23T01:04:02.430001",
     "status": "completed"
    },
    "tags": []
   },
   "outputs": [],
   "source": [
    "%load_ext autoreload\n",
    "%autoreload 2\n",
    "%matplotlib inline\n",
    "\n",
    "    \n",
    "import os, json, sys, time, random\n",
    "import numpy as np\n",
    "import torch\n",
    "from torch.optim import Adam\n",
    "from  easydict import EasyDict\n",
    "import matplotlib.pyplot as plt\n",
    "\n",
    "from steves_models.steves_ptn import Steves_Prototypical_Network\n",
    "\n",
    "from steves_utils.lazy_iterable_wrapper import Lazy_Iterable_Wrapper\n",
    "from steves_utils.iterable_aggregator import Iterable_Aggregator\n",
    "from steves_utils.ptn_train_eval_test_jig import  PTN_Train_Eval_Test_Jig\n",
    "from steves_utils.torch_sequential_builder import build_sequential\n",
    "from steves_utils.torch_utils import get_dataset_metrics, ptn_confusion_by_domain_over_dataloader\n",
    "from steves_utils.utils_v2 import (per_domain_accuracy_from_confusion, get_datasets_base_path)\n",
    "from steves_utils.PTN.utils import independent_accuracy_assesment\n",
    "\n",
    "from torch.utils.data import DataLoader\n",
    "\n",
    "from steves_utils.stratified_dataset.episodic_accessor import Episodic_Accessor_Factory\n",
    "\n",
    "from steves_utils.ptn_do_report import (\n",
    "    get_loss_curve,\n",
    "    get_results_table,\n",
    "    get_parameters_table,\n",
    "    get_domain_accuracies,\n",
    ")\n",
    "\n",
    "from steves_utils.transforms import get_chained_transform"
   ]
  },
  {
   "cell_type": "markdown",
   "id": "41c840b4",
   "metadata": {
    "papermill": {
     "duration": 0.019399,
     "end_time": "2022-03-23T01:04:04.380781",
     "exception": false,
     "start_time": "2022-03-23T01:04:04.361382",
     "status": "completed"
    },
    "tags": []
   },
   "source": [
    "# Allowed Parameters\n",
    "These are allowed parameters, not defaults\n",
    "Each of these values need to be present in the injected parameters (the notebook will raise an exception if they are not present)\n",
    "\n",
    "Papermill uses the cell tag \"parameters\" to inject the real parameters below this cell.\n",
    "Enable tags to see what I mean"
   ]
  },
  {
   "cell_type": "code",
   "execution_count": 2,
   "id": "fd44eb83",
   "metadata": {
    "execution": {
     "iopub.execute_input": "2022-03-23T01:04:04.423494Z",
     "iopub.status.busy": "2022-03-23T01:04:04.423114Z",
     "iopub.status.idle": "2022-03-23T01:04:04.442771Z",
     "shell.execute_reply": "2022-03-23T01:04:04.441957Z"
    },
    "papermill": {
     "duration": 0.042682,
     "end_time": "2022-03-23T01:04:04.442928",
     "exception": false,
     "start_time": "2022-03-23T01:04:04.400246",
     "status": "completed"
    },
    "tags": []
   },
   "outputs": [],
   "source": [
    "required_parameters = {\n",
    "    \"experiment_name\",\n",
    "    \"lr\",\n",
    "    \"device\",\n",
    "    \"seed\",\n",
    "    \"dataset_seed\",\n",
    "    \"n_shot\",\n",
    "    \"n_query\",\n",
    "    \"n_way\",\n",
    "    \"train_k_factor\",\n",
    "    \"val_k_factor\",\n",
    "    \"test_k_factor\",\n",
    "    \"n_epoch\",\n",
    "    \"patience\",\n",
    "    \"criteria_for_best\",\n",
    "    \"x_net\",\n",
    "    \"datasets\",\n",
    "    \"torch_default_dtype\",\n",
    "    \"NUM_LOGS_PER_EPOCH\",\n",
    "    \"BEST_MODEL_PATH\",\n",
    "    \"x_shape\",\n",
    "}"
   ]
  },
  {
   "cell_type": "code",
   "execution_count": 3,
   "id": "fa3f0049",
   "metadata": {
    "execution": {
     "iopub.execute_input": "2022-03-23T01:04:04.500385Z",
     "iopub.status.busy": "2022-03-23T01:04:04.499449Z",
     "iopub.status.idle": "2022-03-23T01:04:04.520156Z",
     "shell.execute_reply": "2022-03-23T01:04:04.519371Z"
    },
    "papermill": {
     "duration": 0.050103,
     "end_time": "2022-03-23T01:04:04.520353",
     "exception": false,
     "start_time": "2022-03-23T01:04:04.470250",
     "status": "completed"
    },
    "tags": [
     "parameters"
    ]
   },
   "outputs": [],
   "source": [
    "from steves_utils.CORES.utils import (\n",
    "    ALL_NODES,\n",
    "    ALL_NODES_MINIMUM_1000_EXAMPLES,\n",
    "    ALL_DAYS\n",
    ")\n",
    "\n",
    "from steves_utils.ORACLE.utils_v2 import (\n",
    "    ALL_DISTANCES_FEET_NARROWED,\n",
    "    ALL_RUNS,\n",
    "    ALL_SERIAL_NUMBERS,\n",
    ")\n",
    "\n",
    "standalone_parameters = {}\n",
    "standalone_parameters[\"experiment_name\"] = \"STANDALONE PTN\"\n",
    "standalone_parameters[\"lr\"] = 0.001\n",
    "standalone_parameters[\"device\"] = \"cuda\"\n",
    "\n",
    "standalone_parameters[\"seed\"] = 1337\n",
    "standalone_parameters[\"dataset_seed\"] = 1337\n",
    "\n",
    "standalone_parameters[\"n_way\"] = 8\n",
    "standalone_parameters[\"n_shot\"] = 3\n",
    "standalone_parameters[\"n_query\"]  = 2\n",
    "standalone_parameters[\"train_k_factor\"] = 1\n",
    "standalone_parameters[\"val_k_factor\"] = 2\n",
    "standalone_parameters[\"test_k_factor\"] = 2\n",
    "\n",
    "\n",
    "standalone_parameters[\"n_epoch\"] = 50\n",
    "\n",
    "standalone_parameters[\"patience\"] = 10\n",
    "standalone_parameters[\"criteria_for_best\"] = \"source_loss\"\n",
    "\n",
    "standalone_parameters[\"datasets\"] = [\n",
    "    {\n",
    "        \"labels\": ALL_SERIAL_NUMBERS,\n",
    "        \"domains\": ALL_DISTANCES_FEET_NARROWED,\n",
    "        \"num_examples_per_domain_per_label\": 100,\n",
    "        \"pickle_path\": os.path.join(get_datasets_base_path(), \"oracle.Run1_framed_2000Examples_stratified_ds.2022A.pkl\"),\n",
    "        \"source_or_target_dataset\": \"source\",\n",
    "        \"x_transforms\": [\"unit_mag\", \"minus_two\"],\n",
    "        \"episode_transforms\": [],\n",
    "        \"domain_prefix\": \"ORACLE_\"\n",
    "    },\n",
    "    {\n",
    "        \"labels\": ALL_NODES,\n",
    "        \"domains\": ALL_DAYS,\n",
    "        \"num_examples_per_domain_per_label\": 100,\n",
    "        \"pickle_path\": os.path.join(get_datasets_base_path(), \"cores.stratified_ds.2022A.pkl\"),\n",
    "        \"source_or_target_dataset\": \"target\",\n",
    "        \"x_transforms\": [\"unit_power\", \"times_zero\"],\n",
    "        \"episode_transforms\": [],\n",
    "        \"domain_prefix\": \"CORES_\"\n",
    "    }   \n",
    "]\n",
    "\n",
    "standalone_parameters[\"torch_default_dtype\"] = \"torch.float32\" \n",
    "\n",
    "\n",
    "\n",
    "standalone_parameters[\"x_net\"] =     [\n",
    "    {\"class\": \"nnReshape\", \"kargs\": {\"shape\":[-1, 1, 2, 256]}},\n",
    "    {\"class\": \"Conv2d\", \"kargs\": { \"in_channels\":1, \"out_channels\":256, \"kernel_size\":(1,7), \"bias\":False, \"padding\":(0,3), },},\n",
    "    {\"class\": \"ReLU\", \"kargs\": {\"inplace\": True}},\n",
    "    {\"class\": \"BatchNorm2d\", \"kargs\": {\"num_features\":256}},\n",
    "\n",
    "    {\"class\": \"Conv2d\", \"kargs\": { \"in_channels\":256, \"out_channels\":80, \"kernel_size\":(2,7), \"bias\":True, \"padding\":(0,3), },},\n",
    "    {\"class\": \"ReLU\", \"kargs\": {\"inplace\": True}},\n",
    "    {\"class\": \"BatchNorm2d\", \"kargs\": {\"num_features\":80}},\n",
    "    {\"class\": \"Flatten\", \"kargs\": {}},\n",
    "\n",
    "    {\"class\": \"Linear\", \"kargs\": {\"in_features\": 80*256, \"out_features\": 256}}, # 80 units per IQ pair\n",
    "    {\"class\": \"ReLU\", \"kargs\": {\"inplace\": True}},\n",
    "    {\"class\": \"BatchNorm1d\", \"kargs\": {\"num_features\":256}},\n",
    "\n",
    "    {\"class\": \"Linear\", \"kargs\": {\"in_features\": 256, \"out_features\": 256}},\n",
    "]\n",
    "\n",
    "# Parameters relevant to results\n",
    "# These parameters will basically never need to change\n",
    "standalone_parameters[\"NUM_LOGS_PER_EPOCH\"] = 10\n",
    "standalone_parameters[\"BEST_MODEL_PATH\"] = \"./best_model.pth\"\n",
    "\n",
    "\n",
    "\n",
    "\n"
   ]
  },
  {
   "cell_type": "code",
   "execution_count": 4,
   "id": "b1d4bce6",
   "metadata": {
    "execution": {
     "iopub.execute_input": "2022-03-23T01:04:04.576753Z",
     "iopub.status.busy": "2022-03-23T01:04:04.573076Z",
     "iopub.status.idle": "2022-03-23T01:04:04.596846Z",
     "shell.execute_reply": "2022-03-23T01:04:04.596114Z"
    },
    "papermill": {
     "duration": 0.051798,
     "end_time": "2022-03-23T01:04:04.597019",
     "exception": false,
     "start_time": "2022-03-23T01:04:04.545221",
     "status": "completed"
    },
    "tags": [
     "injected-parameters"
    ]
   },
   "outputs": [],
   "source": [
    "# Parameters\n",
    "parameters = {\n",
    "    \"experiment_name\": \"tl_1v2:wisig-oracle.run1.limited\",\n",
    "    \"device\": \"cuda\",\n",
    "    \"lr\": 0.0001,\n",
    "    \"n_shot\": 3,\n",
    "    \"n_query\": 2,\n",
    "    \"train_k_factor\": 3,\n",
    "    \"val_k_factor\": 2,\n",
    "    \"test_k_factor\": 2,\n",
    "    \"torch_default_dtype\": \"torch.float32\",\n",
    "    \"n_epoch\": 50,\n",
    "    \"patience\": 3,\n",
    "    \"criteria_for_best\": \"target_accuracy\",\n",
    "    \"x_net\": [\n",
    "        {\"class\": \"nnReshape\", \"kargs\": {\"shape\": [-1, 1, 2, 256]}},\n",
    "        {\n",
    "            \"class\": \"Conv2d\",\n",
    "            \"kargs\": {\n",
    "                \"in_channels\": 1,\n",
    "                \"out_channels\": 256,\n",
    "                \"kernel_size\": [1, 7],\n",
    "                \"bias\": False,\n",
    "                \"padding\": [0, 3],\n",
    "            },\n",
    "        },\n",
    "        {\"class\": \"ReLU\", \"kargs\": {\"inplace\": True}},\n",
    "        {\"class\": \"BatchNorm2d\", \"kargs\": {\"num_features\": 256}},\n",
    "        {\n",
    "            \"class\": \"Conv2d\",\n",
    "            \"kargs\": {\n",
    "                \"in_channels\": 256,\n",
    "                \"out_channels\": 80,\n",
    "                \"kernel_size\": [2, 7],\n",
    "                \"bias\": True,\n",
    "                \"padding\": [0, 3],\n",
    "            },\n",
    "        },\n",
    "        {\"class\": \"ReLU\", \"kargs\": {\"inplace\": True}},\n",
    "        {\"class\": \"BatchNorm2d\", \"kargs\": {\"num_features\": 80}},\n",
    "        {\"class\": \"Flatten\", \"kargs\": {}},\n",
    "        {\"class\": \"Linear\", \"kargs\": {\"in_features\": 20480, \"out_features\": 256}},\n",
    "        {\"class\": \"ReLU\", \"kargs\": {\"inplace\": True}},\n",
    "        {\"class\": \"BatchNorm1d\", \"kargs\": {\"num_features\": 256}},\n",
    "        {\"class\": \"Linear\", \"kargs\": {\"in_features\": 256, \"out_features\": 256}},\n",
    "    ],\n",
    "    \"NUM_LOGS_PER_EPOCH\": 10,\n",
    "    \"BEST_MODEL_PATH\": \"./best_model.pth\",\n",
    "    \"n_way\": 16,\n",
    "    \"datasets\": [\n",
    "        {\n",
    "            \"labels\": [\n",
    "                \"1-10\",\n",
    "                \"1-12\",\n",
    "                \"1-14\",\n",
    "                \"1-16\",\n",
    "                \"1-18\",\n",
    "                \"1-19\",\n",
    "                \"1-8\",\n",
    "                \"10-11\",\n",
    "                \"10-17\",\n",
    "                \"10-4\",\n",
    "                \"10-7\",\n",
    "                \"11-1\",\n",
    "                \"11-10\",\n",
    "                \"11-19\",\n",
    "                \"11-20\",\n",
    "                \"11-4\",\n",
    "                \"11-7\",\n",
    "                \"12-19\",\n",
    "                \"12-20\",\n",
    "                \"12-7\",\n",
    "                \"13-14\",\n",
    "                \"13-18\",\n",
    "                \"13-19\",\n",
    "                \"13-20\",\n",
    "                \"13-3\",\n",
    "                \"13-7\",\n",
    "                \"14-10\",\n",
    "                \"14-11\",\n",
    "                \"14-12\",\n",
    "                \"14-13\",\n",
    "                \"14-14\",\n",
    "                \"14-19\",\n",
    "                \"14-20\",\n",
    "                \"14-7\",\n",
    "                \"14-8\",\n",
    "                \"14-9\",\n",
    "                \"15-1\",\n",
    "                \"15-19\",\n",
    "                \"15-6\",\n",
    "                \"16-1\",\n",
    "                \"16-16\",\n",
    "                \"16-19\",\n",
    "                \"16-20\",\n",
    "                \"17-10\",\n",
    "                \"17-11\",\n",
    "                \"18-1\",\n",
    "                \"18-10\",\n",
    "                \"18-11\",\n",
    "                \"18-12\",\n",
    "                \"18-13\",\n",
    "                \"18-14\",\n",
    "                \"18-15\",\n",
    "                \"18-16\",\n",
    "                \"18-17\",\n",
    "                \"18-19\",\n",
    "                \"18-2\",\n",
    "                \"18-20\",\n",
    "                \"18-4\",\n",
    "                \"18-5\",\n",
    "                \"18-7\",\n",
    "                \"18-8\",\n",
    "                \"18-9\",\n",
    "                \"19-1\",\n",
    "                \"19-10\",\n",
    "                \"19-11\",\n",
    "                \"19-12\",\n",
    "                \"19-13\",\n",
    "                \"19-14\",\n",
    "                \"19-15\",\n",
    "                \"19-19\",\n",
    "                \"19-2\",\n",
    "                \"19-20\",\n",
    "                \"19-3\",\n",
    "                \"19-4\",\n",
    "                \"19-6\",\n",
    "                \"19-7\",\n",
    "                \"19-8\",\n",
    "                \"19-9\",\n",
    "                \"2-1\",\n",
    "                \"2-13\",\n",
    "                \"2-15\",\n",
    "                \"2-3\",\n",
    "                \"2-4\",\n",
    "                \"2-5\",\n",
    "                \"2-6\",\n",
    "                \"2-7\",\n",
    "                \"2-8\",\n",
    "                \"20-1\",\n",
    "                \"20-12\",\n",
    "                \"20-14\",\n",
    "                \"20-15\",\n",
    "                \"20-16\",\n",
    "                \"20-18\",\n",
    "                \"20-19\",\n",
    "                \"20-20\",\n",
    "                \"20-3\",\n",
    "                \"20-4\",\n",
    "                \"20-5\",\n",
    "                \"20-7\",\n",
    "                \"20-8\",\n",
    "                \"3-1\",\n",
    "                \"3-13\",\n",
    "                \"3-18\",\n",
    "                \"3-2\",\n",
    "                \"3-8\",\n",
    "                \"4-1\",\n",
    "                \"4-10\",\n",
    "                \"4-11\",\n",
    "                \"5-1\",\n",
    "                \"5-5\",\n",
    "                \"6-1\",\n",
    "                \"6-15\",\n",
    "                \"6-6\",\n",
    "                \"7-10\",\n",
    "                \"7-11\",\n",
    "                \"7-12\",\n",
    "                \"7-13\",\n",
    "                \"7-14\",\n",
    "                \"7-7\",\n",
    "                \"7-8\",\n",
    "                \"7-9\",\n",
    "                \"8-1\",\n",
    "                \"8-13\",\n",
    "                \"8-14\",\n",
    "                \"8-18\",\n",
    "                \"8-20\",\n",
    "                \"8-3\",\n",
    "                \"8-8\",\n",
    "                \"9-1\",\n",
    "                \"9-7\",\n",
    "            ],\n",
    "            \"domains\": [1, 2, 3, 4],\n",
    "            \"num_examples_per_domain_per_label\": -1,\n",
    "            \"pickle_path\": \"/root/csc500-main/datasets/wisig.node3-19.stratified_ds.2022A.pkl\",\n",
    "            \"source_or_target_dataset\": \"target\",\n",
    "            \"x_transforms\": [\"unit_mag\"],\n",
    "            \"episode_transforms\": [],\n",
    "            \"domain_prefix\": \"Wisig_\",\n",
    "        },\n",
    "        {\n",
    "            \"labels\": [\n",
    "                \"3123D52\",\n",
    "                \"3123D65\",\n",
    "                \"3123D79\",\n",
    "                \"3123D80\",\n",
    "                \"3123D54\",\n",
    "                \"3123D70\",\n",
    "                \"3123D7B\",\n",
    "                \"3123D89\",\n",
    "                \"3123D58\",\n",
    "                \"3123D76\",\n",
    "                \"3123D7D\",\n",
    "                \"3123EFE\",\n",
    "                \"3123D64\",\n",
    "                \"3123D78\",\n",
    "                \"3123D7E\",\n",
    "                \"3124E4A\",\n",
    "            ],\n",
    "            \"domains\": [32, 38, 8, 44, 14, 50, 20, 26],\n",
    "            \"num_examples_per_domain_per_label\": 2000,\n",
    "            \"pickle_path\": \"/root/csc500-main/datasets/oracle.Run1_10kExamples_stratified_ds.2022A.pkl\",\n",
    "            \"source_or_target_dataset\": \"source\",\n",
    "            \"x_transforms\": [\"unit_mag\"],\n",
    "            \"episode_transforms\": [],\n",
    "            \"domain_prefix\": \"ORACLE.run1\",\n",
    "        },\n",
    "    ],\n",
    "    \"dataset_seed\": 154325,\n",
    "    \"seed\": 154325,\n",
    "}\n"
   ]
  },
  {
   "cell_type": "code",
   "execution_count": 5,
   "id": "8fa1cc33",
   "metadata": {
    "execution": {
     "iopub.execute_input": "2022-03-23T01:04:04.648186Z",
     "iopub.status.busy": "2022-03-23T01:04:04.647803Z",
     "iopub.status.idle": "2022-03-23T01:04:04.665896Z",
     "shell.execute_reply": "2022-03-23T01:04:04.665176Z"
    },
    "papermill": {
     "duration": 0.042395,
     "end_time": "2022-03-23T01:04:04.666065",
     "exception": false,
     "start_time": "2022-03-23T01:04:04.623670",
     "status": "completed"
    },
    "tags": []
   },
   "outputs": [],
   "source": [
    "# Set this to True if you want to run this template directly\n",
    "STANDALONE = False\n",
    "if STANDALONE:\n",
    "    print(\"parameters not injected, running with standalone_parameters\")\n",
    "    parameters = standalone_parameters\n",
    "\n",
    "if not 'parameters' in locals() and not 'parameters' in globals():\n",
    "    raise Exception(\"Parameter injection failed\")\n",
    "\n",
    "#Use an easy dict for all the parameters\n",
    "p = EasyDict(parameters)\n",
    "\n",
    "if \"x_shape\" not in p:\n",
    "    p.x_shape = [2,256] # Default to this if we dont supply x_shape\n",
    "\n",
    "\n",
    "supplied_keys = set(p.keys())\n",
    "\n",
    "if  supplied_keys != required_parameters:\n",
    "    print(\"Parameters are incorrect\")\n",
    "    if len(supplied_keys - required_parameters)>0: print(\"Shouldn't have:\", str(supplied_keys - required_parameters))\n",
    "    if len(required_parameters - supplied_keys)>0: print(\"Need to have:\", str(required_parameters - supplied_keys))\n",
    "    raise RuntimeError(\"Parameters are incorrect\")"
   ]
  },
  {
   "cell_type": "code",
   "execution_count": 6,
   "id": "3a028d58",
   "metadata": {
    "execution": {
     "iopub.execute_input": "2022-03-23T01:04:04.710051Z",
     "iopub.status.busy": "2022-03-23T01:04:04.709488Z",
     "iopub.status.idle": "2022-03-23T01:04:04.728275Z",
     "shell.execute_reply": "2022-03-23T01:04:04.727886Z"
    },
    "papermill": {
     "duration": 0.041084,
     "end_time": "2022-03-23T01:04:04.728372",
     "exception": false,
     "start_time": "2022-03-23T01:04:04.687288",
     "status": "completed"
    },
    "tags": []
   },
   "outputs": [],
   "source": [
    "###################################\n",
    "# Set the RNGs and make it all deterministic\n",
    "###################################\n",
    "np.random.seed(p.seed)\n",
    "random.seed(p.seed)\n",
    "torch.manual_seed(p.seed)\n",
    "\n",
    "torch.use_deterministic_algorithms(True) "
   ]
  },
  {
   "cell_type": "code",
   "execution_count": 7,
   "id": "b691acf6",
   "metadata": {
    "execution": {
     "iopub.execute_input": "2022-03-23T01:04:04.772999Z",
     "iopub.status.busy": "2022-03-23T01:04:04.772213Z",
     "iopub.status.idle": "2022-03-23T01:04:04.792839Z",
     "shell.execute_reply": "2022-03-23T01:04:04.792453Z"
    },
    "papermill": {
     "duration": 0.042551,
     "end_time": "2022-03-23T01:04:04.792920",
     "exception": false,
     "start_time": "2022-03-23T01:04:04.750369",
     "status": "completed"
    },
    "tags": []
   },
   "outputs": [],
   "source": [
    "###########################################\n",
    "# The stratified datasets honor this\n",
    "###########################################\n",
    "torch.set_default_dtype(eval(p.torch_default_dtype))"
   ]
  },
  {
   "cell_type": "code",
   "execution_count": 8,
   "id": "b5fba671",
   "metadata": {
    "execution": {
     "iopub.execute_input": "2022-03-23T01:04:04.836521Z",
     "iopub.status.busy": "2022-03-23T01:04:04.835875Z",
     "iopub.status.idle": "2022-03-23T01:04:04.894515Z",
     "shell.execute_reply": "2022-03-23T01:04:04.894118Z"
    },
    "papermill": {
     "duration": 0.080748,
     "end_time": "2022-03-23T01:04:04.894648",
     "exception": false,
     "start_time": "2022-03-23T01:04:04.813900",
     "status": "completed"
    },
    "tags": []
   },
   "outputs": [],
   "source": [
    "###################################\n",
    "# Build the network(s)\n",
    "# Note: It's critical to do this AFTER setting the RNG\n",
    "###################################\n",
    "x_net = build_sequential(p.x_net)"
   ]
  },
  {
   "cell_type": "code",
   "execution_count": 9,
   "id": "5d7e61cc",
   "metadata": {
    "execution": {
     "iopub.execute_input": "2022-03-23T01:04:04.939210Z",
     "iopub.status.busy": "2022-03-23T01:04:04.938663Z",
     "iopub.status.idle": "2022-03-23T01:04:04.960515Z",
     "shell.execute_reply": "2022-03-23T01:04:04.960121Z"
    },
    "papermill": {
     "duration": 0.045119,
     "end_time": "2022-03-23T01:04:04.960606",
     "exception": false,
     "start_time": "2022-03-23T01:04:04.915487",
     "status": "completed"
    },
    "tags": []
   },
   "outputs": [],
   "source": [
    "start_time_secs = time.time()"
   ]
  },
  {
   "cell_type": "code",
   "execution_count": 10,
   "id": "c6b67dfd",
   "metadata": {
    "execution": {
     "iopub.execute_input": "2022-03-23T01:04:05.004360Z",
     "iopub.status.busy": "2022-03-23T01:04:05.003848Z",
     "iopub.status.idle": "2022-03-23T01:04:05.022697Z",
     "shell.execute_reply": "2022-03-23T01:04:05.022321Z"
    },
    "papermill": {
     "duration": 0.042052,
     "end_time": "2022-03-23T01:04:05.022777",
     "exception": false,
     "start_time": "2022-03-23T01:04:04.980725",
     "status": "completed"
    },
    "tags": []
   },
   "outputs": [],
   "source": [
    "p.domains_source = []\n",
    "p.domains_target = []\n",
    "\n",
    "\n",
    "train_original_source = []\n",
    "val_original_source   = []\n",
    "test_original_source  = []\n",
    "\n",
    "train_original_target = []\n",
    "val_original_target   = []\n",
    "test_original_target  = []"
   ]
  },
  {
   "cell_type": "code",
   "execution_count": 11,
   "id": "e3d9c3d3",
   "metadata": {
    "execution": {
     "iopub.execute_input": "2022-03-23T01:04:05.069636Z",
     "iopub.status.busy": "2022-03-23T01:04:05.068769Z",
     "iopub.status.idle": "2022-03-23T01:04:05.087908Z",
     "shell.execute_reply": "2022-03-23T01:04:05.087525Z"
    },
    "papermill": {
     "duration": 0.040972,
     "end_time": "2022-03-23T01:04:05.087986",
     "exception": false,
     "start_time": "2022-03-23T01:04:05.047014",
     "status": "completed"
    },
    "tags": []
   },
   "outputs": [],
   "source": [
    "# global_x_transform_func = lambda x: normalize(x.to(torch.get_default_dtype()), \"unit_power\") # unit_power, unit_mag\n",
    "# global_x_transform_func = lambda x: normalize(x, \"unit_power\") # unit_power, unit_mag"
   ]
  },
  {
   "cell_type": "code",
   "execution_count": 12,
   "id": "acb78fd2",
   "metadata": {
    "execution": {
     "iopub.execute_input": "2022-03-23T01:04:05.140037Z",
     "iopub.status.busy": "2022-03-23T01:04:05.139200Z",
     "iopub.status.idle": "2022-03-23T01:04:05.161502Z",
     "shell.execute_reply": "2022-03-23T01:04:05.161113Z"
    },
    "papermill": {
     "duration": 0.049488,
     "end_time": "2022-03-23T01:04:05.161583",
     "exception": false,
     "start_time": "2022-03-23T01:04:05.112095",
     "status": "completed"
    },
    "tags": []
   },
   "outputs": [],
   "source": [
    "def add_dataset(\n",
    "    labels,\n",
    "    domains,\n",
    "    pickle_path,\n",
    "    x_transforms,\n",
    "    episode_transforms,\n",
    "    domain_prefix,\n",
    "    num_examples_per_domain_per_label,\n",
    "    source_or_target_dataset:str,\n",
    "    iterator_seed=p.seed,\n",
    "    dataset_seed=p.dataset_seed,\n",
    "    n_shot=p.n_shot,\n",
    "    n_way=p.n_way,\n",
    "    n_query=p.n_query,\n",
    "    train_val_test_k_factors=(p.train_k_factor,p.val_k_factor,p.test_k_factor),\n",
    "):\n",
    "   \n",
    "    if x_transforms == []: x_transform = None\n",
    "    else: x_transform = get_chained_transform(x_transforms)\n",
    "    \n",
    "    if episode_transforms == []: episode_transform = None\n",
    "    else: raise Exception(\"episode_transforms not implemented\")\n",
    "    \n",
    "    episode_transform = lambda tup, _prefix=domain_prefix: (_prefix + str(tup[0]), tup[1])\n",
    "\n",
    "\n",
    "    eaf = Episodic_Accessor_Factory(\n",
    "        labels=labels,\n",
    "        domains=domains,\n",
    "        num_examples_per_domain_per_label=num_examples_per_domain_per_label,\n",
    "        iterator_seed=iterator_seed,\n",
    "        dataset_seed=dataset_seed,\n",
    "        n_shot=n_shot,\n",
    "        n_way=n_way,\n",
    "        n_query=n_query,\n",
    "        train_val_test_k_factors=train_val_test_k_factors,\n",
    "        pickle_path=pickle_path,\n",
    "        x_transform_func=x_transform,\n",
    "    )\n",
    "\n",
    "    train, val, test = eaf.get_train(), eaf.get_val(), eaf.get_test()\n",
    "    train = Lazy_Iterable_Wrapper(train, episode_transform)\n",
    "    val = Lazy_Iterable_Wrapper(val, episode_transform)\n",
    "    test = Lazy_Iterable_Wrapper(test, episode_transform)\n",
    "\n",
    "    if source_or_target_dataset==\"source\":\n",
    "        train_original_source.append(train)\n",
    "        val_original_source.append(val)\n",
    "        test_original_source.append(test)\n",
    "\n",
    "        p.domains_source.extend(\n",
    "            [domain_prefix + str(u) for u in domains]\n",
    "        )\n",
    "    elif source_or_target_dataset==\"target\":\n",
    "        train_original_target.append(train)\n",
    "        val_original_target.append(val)\n",
    "        test_original_target.append(test)\n",
    "        p.domains_target.extend(\n",
    "            [domain_prefix + str(u) for u in domains]\n",
    "        )\n",
    "    else:\n",
    "        raise Exception(f\"invalid source_or_target_dataset: {source_or_target_dataset}\")\n",
    "    "
   ]
  },
  {
   "cell_type": "code",
   "execution_count": 13,
   "id": "fe266617",
   "metadata": {
    "execution": {
     "iopub.execute_input": "2022-03-23T01:04:05.209615Z",
     "iopub.status.busy": "2022-03-23T01:04:05.209077Z",
     "iopub.status.idle": "2022-03-23T01:04:51.723944Z",
     "shell.execute_reply": "2022-03-23T01:04:51.723159Z"
    },
    "papermill": {
     "duration": 46.537983,
     "end_time": "2022-03-23T01:04:51.724125",
     "exception": false,
     "start_time": "2022-03-23T01:04:05.186142",
     "status": "completed"
    },
    "tags": []
   },
   "outputs": [],
   "source": [
    "for ds in p.datasets:\n",
    "    add_dataset(**ds)"
   ]
  },
  {
   "cell_type": "code",
   "execution_count": 14,
   "id": "b90d65ac",
   "metadata": {
    "execution": {
     "iopub.execute_input": "2022-03-23T01:04:51.774226Z",
     "iopub.status.busy": "2022-03-23T01:04:51.773849Z",
     "iopub.status.idle": "2022-03-23T01:04:51.795431Z",
     "shell.execute_reply": "2022-03-23T01:04:51.794615Z"
    },
    "papermill": {
     "duration": 0.045248,
     "end_time": "2022-03-23T01:04:51.795631",
     "exception": false,
     "start_time": "2022-03-23T01:04:51.750383",
     "status": "completed"
    },
    "tags": []
   },
   "outputs": [],
   "source": [
    "# from steves_utils.CORES.utils import (\n",
    "#     ALL_NODES,\n",
    "#     ALL_NODES_MINIMUM_1000_EXAMPLES,\n",
    "#     ALL_DAYS\n",
    "# )\n",
    "\n",
    "# add_dataset(\n",
    "#     labels=ALL_NODES,\n",
    "#     domains = ALL_DAYS,\n",
    "#     num_examples_per_domain_per_label=100,\n",
    "#     pickle_path=os.path.join(get_datasets_base_path(), \"cores.stratified_ds.2022A.pkl\"),\n",
    "#     source_or_target_dataset=\"target\",\n",
    "#     x_transform_func=global_x_transform_func,\n",
    "#     domain_modifier=lambda u: f\"cores_{u}\"\n",
    "# )"
   ]
  },
  {
   "cell_type": "code",
   "execution_count": 15,
   "id": "76db484d",
   "metadata": {
    "execution": {
     "iopub.execute_input": "2022-03-23T01:04:51.847269Z",
     "iopub.status.busy": "2022-03-23T01:04:51.846897Z",
     "iopub.status.idle": "2022-03-23T01:04:51.867322Z",
     "shell.execute_reply": "2022-03-23T01:04:51.866499Z"
    },
    "papermill": {
     "duration": 0.043689,
     "end_time": "2022-03-23T01:04:51.867485",
     "exception": false,
     "start_time": "2022-03-23T01:04:51.823796",
     "status": "completed"
    },
    "tags": []
   },
   "outputs": [],
   "source": [
    "# from steves_utils.ORACLE.utils_v2 import (\n",
    "#     ALL_DISTANCES_FEET,\n",
    "#     ALL_RUNS,\n",
    "#     ALL_SERIAL_NUMBERS,\n",
    "# )\n",
    "\n",
    "\n",
    "# add_dataset(\n",
    "#     labels=ALL_SERIAL_NUMBERS,\n",
    "#     domains = list(set(ALL_DISTANCES_FEET) - {2,62}),\n",
    "#     num_examples_per_domain_per_label=100,\n",
    "#     pickle_path=os.path.join(get_datasets_base_path(), \"oracle.Run2_framed_2000Examples_stratified_ds.2022A.pkl\"),\n",
    "#     source_or_target_dataset=\"source\",\n",
    "#     x_transform_func=global_x_transform_func,\n",
    "#     domain_modifier=lambda u: f\"oracle1_{u}\"\n",
    "# )\n"
   ]
  },
  {
   "cell_type": "code",
   "execution_count": 16,
   "id": "97dea9d2",
   "metadata": {
    "execution": {
     "iopub.execute_input": "2022-03-23T01:04:51.920444Z",
     "iopub.status.busy": "2022-03-23T01:04:51.919817Z",
     "iopub.status.idle": "2022-03-23T01:04:51.944975Z",
     "shell.execute_reply": "2022-03-23T01:04:51.944165Z"
    },
    "papermill": {
     "duration": 0.049379,
     "end_time": "2022-03-23T01:04:51.945141",
     "exception": false,
     "start_time": "2022-03-23T01:04:51.895762",
     "status": "completed"
    },
    "tags": []
   },
   "outputs": [],
   "source": [
    "# from steves_utils.ORACLE.utils_v2 import (\n",
    "#     ALL_DISTANCES_FEET,\n",
    "#     ALL_RUNS,\n",
    "#     ALL_SERIAL_NUMBERS,\n",
    "# )\n",
    "\n",
    "\n",
    "# add_dataset(\n",
    "#     labels=ALL_SERIAL_NUMBERS,\n",
    "#     domains = list(set(ALL_DISTANCES_FEET) - {2,62,56}),\n",
    "#     num_examples_per_domain_per_label=100,\n",
    "#     pickle_path=os.path.join(get_datasets_base_path(), \"oracle.Run2_framed_2000Examples_stratified_ds.2022A.pkl\"),\n",
    "#     source_or_target_dataset=\"source\",\n",
    "#     x_transform_func=global_x_transform_func,\n",
    "#     domain_modifier=lambda u: f\"oracle2_{u}\"\n",
    "# )"
   ]
  },
  {
   "cell_type": "code",
   "execution_count": 17,
   "id": "6f289866",
   "metadata": {
    "execution": {
     "iopub.execute_input": "2022-03-23T01:04:51.994074Z",
     "iopub.status.busy": "2022-03-23T01:04:51.993705Z",
     "iopub.status.idle": "2022-03-23T01:04:52.014068Z",
     "shell.execute_reply": "2022-03-23T01:04:52.013254Z"
    },
    "papermill": {
     "duration": 0.043763,
     "end_time": "2022-03-23T01:04:52.014229",
     "exception": false,
     "start_time": "2022-03-23T01:04:51.970466",
     "status": "completed"
    },
    "tags": []
   },
   "outputs": [],
   "source": [
    "# add_dataset(\n",
    "#     labels=list(range(19)),\n",
    "#     domains = [0,1,2],\n",
    "#     num_examples_per_domain_per_label=100,\n",
    "#     pickle_path=os.path.join(get_datasets_base_path(), \"metehan.stratified_ds.2022A.pkl\"),\n",
    "#     source_or_target_dataset=\"target\",\n",
    "#     x_transform_func=global_x_transform_func,\n",
    "#     domain_modifier=lambda u: f\"met_{u}\"\n",
    "# )"
   ]
  },
  {
   "cell_type": "code",
   "execution_count": 18,
   "id": "86a863c3",
   "metadata": {
    "execution": {
     "iopub.execute_input": "2022-03-23T01:04:52.065766Z",
     "iopub.status.busy": "2022-03-23T01:04:52.065392Z",
     "iopub.status.idle": "2022-03-23T01:04:52.085915Z",
     "shell.execute_reply": "2022-03-23T01:04:52.085099Z"
    },
    "papermill": {
     "duration": 0.044346,
     "end_time": "2022-03-23T01:04:52.086079",
     "exception": false,
     "start_time": "2022-03-23T01:04:52.041733",
     "status": "completed"
    },
    "tags": []
   },
   "outputs": [],
   "source": [
    "# # from steves_utils.wisig.utils import (\n",
    "# #     ALL_NODES_MINIMUM_100_EXAMPLES,\n",
    "# #     ALL_NODES_MINIMUM_500_EXAMPLES,\n",
    "# #     ALL_NODES_MINIMUM_1000_EXAMPLES,\n",
    "# #     ALL_DAYS\n",
    "# # )\n",
    "\n",
    "# import steves_utils.wisig.utils as wisig\n",
    "\n",
    "\n",
    "# add_dataset(\n",
    "#     labels=wisig.ALL_NODES_MINIMUM_100_EXAMPLES,\n",
    "#     domains = wisig.ALL_DAYS,\n",
    "#     num_examples_per_domain_per_label=100,\n",
    "#     pickle_path=os.path.join(get_datasets_base_path(), \"wisig.node3-19.stratified_ds.2022A.pkl\"),\n",
    "#     source_or_target_dataset=\"target\",\n",
    "#     x_transform_func=global_x_transform_func,\n",
    "#     domain_modifier=lambda u: f\"wisig_{u}\"\n",
    "# )"
   ]
  },
  {
   "cell_type": "code",
   "execution_count": 19,
   "id": "fd5442bc",
   "metadata": {
    "execution": {
     "iopub.execute_input": "2022-03-23T01:04:52.140071Z",
     "iopub.status.busy": "2022-03-23T01:04:52.139685Z",
     "iopub.status.idle": "2022-03-23T01:04:52.161423Z",
     "shell.execute_reply": "2022-03-23T01:04:52.160570Z"
    },
    "papermill": {
     "duration": 0.04822,
     "end_time": "2022-03-23T01:04:52.161593",
     "exception": false,
     "start_time": "2022-03-23T01:04:52.113373",
     "status": "completed"
    },
    "tags": []
   },
   "outputs": [],
   "source": [
    "###################################\n",
    "# Build the dataset\n",
    "###################################\n",
    "train_original_source = Iterable_Aggregator(train_original_source, p.seed)\n",
    "val_original_source = Iterable_Aggregator(val_original_source, p.seed)\n",
    "test_original_source = Iterable_Aggregator(test_original_source, p.seed)\n",
    "\n",
    "\n",
    "train_original_target = Iterable_Aggregator(train_original_target, p.seed)\n",
    "val_original_target = Iterable_Aggregator(val_original_target, p.seed)\n",
    "test_original_target = Iterable_Aggregator(test_original_target, p.seed)\n",
    "\n",
    "# For CNN We only use X and Y. And we only train on the source.\n",
    "# Properly form the data using a transform lambda and Lazy_Iterable_Wrapper. Finally wrap them in a dataloader\n",
    "\n",
    "transform_lambda = lambda ex: ex[1] # Original is (<domain>, <episode>) so we strip down to episode only\n",
    "\n",
    "train_processed_source = Lazy_Iterable_Wrapper(train_original_source, transform_lambda)\n",
    "val_processed_source   = Lazy_Iterable_Wrapper(val_original_source, transform_lambda)\n",
    "test_processed_source  = Lazy_Iterable_Wrapper(test_original_source, transform_lambda)\n",
    "\n",
    "train_processed_target = Lazy_Iterable_Wrapper(train_original_target, transform_lambda)\n",
    "val_processed_target   = Lazy_Iterable_Wrapper(val_original_target, transform_lambda)\n",
    "test_processed_target  = Lazy_Iterable_Wrapper(test_original_target, transform_lambda)\n",
    "\n",
    "datasets = EasyDict({\n",
    "    \"source\": {\n",
    "        \"original\": {\"train\":train_original_source, \"val\":val_original_source, \"test\":test_original_source},\n",
    "        \"processed\": {\"train\":train_processed_source, \"val\":val_processed_source, \"test\":test_processed_source}\n",
    "    },\n",
    "    \"target\": {\n",
    "        \"original\": {\"train\":train_original_target, \"val\":val_original_target, \"test\":test_original_target},\n",
    "        \"processed\": {\"train\":train_processed_target, \"val\":val_processed_target, \"test\":test_processed_target}\n",
    "    },\n",
    "})"
   ]
  },
  {
   "cell_type": "code",
   "execution_count": 20,
   "id": "5b3c01fc",
   "metadata": {
    "execution": {
     "iopub.execute_input": "2022-03-23T01:04:52.216768Z",
     "iopub.status.busy": "2022-03-23T01:04:52.216339Z",
     "iopub.status.idle": "2022-03-23T01:05:07.273508Z",
     "shell.execute_reply": "2022-03-23T01:05:07.272646Z"
    },
    "papermill": {
     "duration": 15.084257,
     "end_time": "2022-03-23T01:05:07.273691",
     "exception": false,
     "start_time": "2022-03-23T01:04:52.189434",
     "status": "completed"
    },
    "tags": []
   },
   "outputs": [
    {
     "name": "stdout",
     "output_type": "stream",
     "text": [
      "{'ORACLE.run150', 'ORACLE.run114', 'ORACLE.run138', 'ORACLE.run126', 'ORACLE.run132', 'ORACLE.run18', 'ORACLE.run144', 'ORACLE.run120'}\n"
     ]
    },
    {
     "name": "stdout",
     "output_type": "stream",
     "text": [
      "{'Wisig_3', 'Wisig_1', 'Wisig_2', 'Wisig_4'}\n"
     ]
    },
    {
     "name": "stdout",
     "output_type": "stream",
     "text": [
      "tensor([[[ 0.2397, -0.3723, -0.7753,  ...,  0.1836, -0.0816,  0.3621],\n",
      "         [ 0.0102,  0.9844, -0.4029,  ...,  0.0153,  0.2346,  0.8824]],\n",
      "\n",
      "        [[-0.3773, -0.6392,  0.5554,  ...,  0.4611, -0.3091, -0.0314],\n",
      "         [ 0.1100, -0.1153,  1.8549,  ...,  0.8226,  0.0524, -0.6235]],\n",
      "\n",
      "        [[ 0.2983, -0.3245, -0.6333,  ..., -1.4132,  0.1518,  1.4603],\n",
      "         [-1.2614, -0.1361,  0.5548,  ...,  0.4083,  0.6647,  0.5653]],\n",
      "\n",
      "        ...,\n",
      "\n",
      "        [[ 0.7079,  1.1739,  0.9923,  ...,  0.6051, -0.5688, -1.2767],\n",
      "         [ 0.1634,  0.8169, -0.9258,  ...,  0.2904,  0.5022, -0.3752]],\n",
      "\n",
      "        [[ 0.3350, -0.1787, -1.2061,  ...,  0.6086,  0.9213, -0.1508],\n",
      "         [-0.7036,  0.5305, -0.1452,  ..., -0.6366,  0.0614,  1.4853]],\n",
      "\n",
      "        [[-1.3987, -0.4322,  0.3842,  ..., -1.1466,  0.2281, -0.1441],\n",
      "         [ 0.1441, -0.9545, -1.0145,  ..., -0.0960,  0.5343,  0.9905]]])\n"
     ]
    }
   ],
   "source": [
    "from steves_utils.transforms import get_average_magnitude, get_average_power\n",
    "\n",
    "print(set([u for u,_ in val_original_source]))\n",
    "print(set([u for u,_ in val_original_target]))\n",
    "\n",
    "s_x, s_y, q_x, q_y, _ = next(iter(train_processed_source))\n",
    "print(s_x)\n",
    "\n",
    "# for ds in [\n",
    "#     train_processed_source,\n",
    "#     val_processed_source,\n",
    "#     test_processed_source,\n",
    "#     train_processed_target,\n",
    "#     val_processed_target,\n",
    "#     test_processed_target\n",
    "# ]:\n",
    "#     for s_x, s_y, q_x, q_y, _ in ds:\n",
    "#         for X in (s_x, q_x):\n",
    "#             for x in X:\n",
    "#                 assert np.isclose(get_average_magnitude(x.numpy()), 1.0)\n",
    "#                 assert np.isclose(get_average_power(x.numpy()), 1.0)\n",
    "                "
   ]
  },
  {
   "cell_type": "code",
   "execution_count": 21,
   "id": "bbdacba1",
   "metadata": {
    "execution": {
     "iopub.execute_input": "2022-03-23T01:05:07.330351Z",
     "iopub.status.busy": "2022-03-23T01:05:07.329788Z",
     "iopub.status.idle": "2022-03-23T01:05:07.539149Z",
     "shell.execute_reply": "2022-03-23T01:05:07.538439Z"
    },
    "papermill": {
     "duration": 0.236981,
     "end_time": "2022-03-23T01:05:07.539311",
     "exception": false,
     "start_time": "2022-03-23T01:05:07.302330",
     "status": "completed"
    },
    "tags": []
   },
   "outputs": [
    {
     "name": "stdout",
     "output_type": "stream",
     "text": [
      "(2, 256)\n"
     ]
    }
   ],
   "source": [
    "###################################\n",
    "# Build the model\n",
    "###################################\n",
    "# easfsl only wants a tuple for the shape\n",
    "model = Steves_Prototypical_Network(x_net, device=p.device, x_shape=tuple(p.x_shape))\n",
    "optimizer = Adam(params=model.parameters(), lr=p.lr)"
   ]
  },
  {
   "cell_type": "code",
   "execution_count": 22,
   "id": "22b39ac5",
   "metadata": {
    "execution": {
     "iopub.execute_input": "2022-03-23T01:05:07.594185Z",
     "iopub.status.busy": "2022-03-23T01:05:07.593821Z",
     "iopub.status.idle": "2022-03-23T02:01:49.353794Z",
     "shell.execute_reply": "2022-03-23T02:01:49.353455Z"
    },
    "papermill": {
     "duration": 3401.785035,
     "end_time": "2022-03-23T02:01:49.353876",
     "exception": false,
     "start_time": "2022-03-23T01:05:07.568841",
     "status": "completed"
    },
    "tags": []
   },
   "outputs": [
    {
     "name": "stdout",
     "output_type": "stream",
     "text": [
      "epoch: 1, [batch: 1 / 6720], examples_per_second: 32.3076, train_label_loss: 2.7896, \n"
     ]
    },
    {
     "name": "stdout",
     "output_type": "stream",
     "text": [
      "epoch: 1, [batch: 672 / 6720], examples_per_second: 3816.0620, train_label_loss: 2.7739, \n"
     ]
    },
    {
     "name": "stdout",
     "output_type": "stream",
     "text": [
      "epoch: 1, [batch: 1344 / 6720], examples_per_second: 3870.2443, train_label_loss: 1.4908, \n"
     ]
    },
    {
     "name": "stdout",
     "output_type": "stream",
     "text": [
      "epoch: 1, [batch: 2016 / 6720], examples_per_second: 3836.7988, train_label_loss: 1.4854, \n"
     ]
    },
    {
     "name": "stdout",
     "output_type": "stream",
     "text": [
      "epoch: 1, [batch: 2688 / 6720], examples_per_second: 3858.7964, train_label_loss: 1.5489, \n"
     ]
    },
    {
     "name": "stdout",
     "output_type": "stream",
     "text": [
      "epoch: 1, [batch: 3360 / 6720], examples_per_second: 3926.8035, train_label_loss: 1.3661, \n"
     ]
    },
    {
     "name": "stdout",
     "output_type": "stream",
     "text": [
      "epoch: 1, [batch: 4032 / 6720], examples_per_second: 3992.5543, train_label_loss: 1.1272, \n"
     ]
    },
    {
     "name": "stdout",
     "output_type": "stream",
     "text": [
      "epoch: 1, [batch: 4704 / 6720], examples_per_second: 4017.9200, train_label_loss: 1.3337, \n"
     ]
    },
    {
     "name": "stdout",
     "output_type": "stream",
     "text": [
      "epoch: 1, [batch: 5376 / 6720], examples_per_second: 3939.8696, train_label_loss: 0.8863, \n"
     ]
    },
    {
     "name": "stdout",
     "output_type": "stream",
     "text": [
      "epoch: 1, [batch: 6048 / 6720], examples_per_second: 3954.6386, train_label_loss: 0.8676, \n"
     ]
    },
    {
     "name": "stdout",
     "output_type": "stream",
     "text": [
      "=============================================================\n",
      "epoch: 1, source_val_acc_label: 0.5385, target_val_acc_label: 0.6248, source_val_label_loss: 1.2080, target_val_label_loss: 5.0024, \n",
      "=============================================================\n"
     ]
    },
    {
     "name": "stdout",
     "output_type": "stream",
     "text": [
      "New best\n"
     ]
    },
    {
     "name": "stdout",
     "output_type": "stream",
     "text": [
      "epoch: 2, [batch: 1 / 6720], examples_per_second: 3.9399, train_label_loss: 0.9417, \n"
     ]
    },
    {
     "name": "stdout",
     "output_type": "stream",
     "text": [
      "epoch: 2, [batch: 672 / 6720], examples_per_second: 3991.2077, train_label_loss: 1.0450, \n"
     ]
    },
    {
     "name": "stdout",
     "output_type": "stream",
     "text": [
      "epoch: 2, [batch: 1344 / 6720], examples_per_second: 4007.8546, train_label_loss: 1.4236, \n"
     ]
    },
    {
     "name": "stdout",
     "output_type": "stream",
     "text": [
      "epoch: 2, [batch: 2016 / 6720], examples_per_second: 3924.6999, train_label_loss: 0.6541, \n"
     ]
    },
    {
     "name": "stdout",
     "output_type": "stream",
     "text": [
      "epoch: 2, [batch: 2688 / 6720], examples_per_second: 3853.4882, train_label_loss: 1.0006, \n"
     ]
    },
    {
     "name": "stdout",
     "output_type": "stream",
     "text": [
      "epoch: 2, [batch: 3360 / 6720], examples_per_second: 3859.8357, train_label_loss: 0.8523, \n"
     ]
    },
    {
     "name": "stdout",
     "output_type": "stream",
     "text": [
      "epoch: 2, [batch: 4032 / 6720], examples_per_second: 3831.0522, train_label_loss: 0.6410, \n"
     ]
    },
    {
     "name": "stdout",
     "output_type": "stream",
     "text": [
      "epoch: 2, [batch: 4704 / 6720], examples_per_second: 3939.2815, train_label_loss: 0.6085, \n"
     ]
    },
    {
     "name": "stdout",
     "output_type": "stream",
     "text": [
      "epoch: 2, [batch: 5376 / 6720], examples_per_second: 4065.5139, train_label_loss: 1.4054, \n"
     ]
    },
    {
     "name": "stdout",
     "output_type": "stream",
     "text": [
      "epoch: 2, [batch: 6048 / 6720], examples_per_second: 4321.7431, train_label_loss: 0.7864, \n"
     ]
    },
    {
     "name": "stdout",
     "output_type": "stream",
     "text": [
      "=============================================================\n",
      "epoch: 2, source_val_acc_label: 0.5875, target_val_acc_label: 0.6441, source_val_label_loss: 1.0770, target_val_label_loss: 6.0537, \n",
      "=============================================================\n"
     ]
    },
    {
     "name": "stdout",
     "output_type": "stream",
     "text": [
      "New best\n"
     ]
    },
    {
     "name": "stdout",
     "output_type": "stream",
     "text": [
      "epoch: 3, [batch: 1 / 6720], examples_per_second: 4.2405, train_label_loss: 1.4242, \n"
     ]
    },
    {
     "name": "stdout",
     "output_type": "stream",
     "text": [
      "epoch: 3, [batch: 672 / 6720], examples_per_second: 4371.0762, train_label_loss: 0.9959, \n"
     ]
    },
    {
     "name": "stdout",
     "output_type": "stream",
     "text": [
      "epoch: 3, [batch: 1344 / 6720], examples_per_second: 4251.8428, train_label_loss: 0.7192, \n"
     ]
    },
    {
     "name": "stdout",
     "output_type": "stream",
     "text": [
      "epoch: 3, [batch: 2016 / 6720], examples_per_second: 4346.3176, train_label_loss: 0.7908, \n"
     ]
    },
    {
     "name": "stdout",
     "output_type": "stream",
     "text": [
      "epoch: 3, [batch: 2688 / 6720], examples_per_second: 4256.4808, train_label_loss: 1.2422, \n"
     ]
    },
    {
     "name": "stdout",
     "output_type": "stream",
     "text": [
      "epoch: 3, [batch: 3360 / 6720], examples_per_second: 4310.4230, train_label_loss: 0.7878, \n"
     ]
    },
    {
     "name": "stdout",
     "output_type": "stream",
     "text": [
      "epoch: 3, [batch: 4032 / 6720], examples_per_second: 4673.8557, train_label_loss: 0.5284, \n"
     ]
    },
    {
     "name": "stdout",
     "output_type": "stream",
     "text": [
      "epoch: 3, [batch: 4704 / 6720], examples_per_second: 4561.3422, train_label_loss: 0.9635, \n"
     ]
    },
    {
     "name": "stdout",
     "output_type": "stream",
     "text": [
      "epoch: 3, [batch: 5376 / 6720], examples_per_second: 4516.4270, train_label_loss: 0.8921, \n"
     ]
    },
    {
     "name": "stdout",
     "output_type": "stream",
     "text": [
      "epoch: 3, [batch: 6048 / 6720], examples_per_second: 4344.9755, train_label_loss: 0.5820, \n"
     ]
    },
    {
     "name": "stdout",
     "output_type": "stream",
     "text": [
      "=============================================================\n",
      "epoch: 3, source_val_acc_label: 0.6066, target_val_acc_label: 0.6647, source_val_label_loss: 1.0484, target_val_label_loss: 7.6526, \n",
      "=============================================================\n"
     ]
    },
    {
     "name": "stdout",
     "output_type": "stream",
     "text": [
      "New best\n"
     ]
    },
    {
     "name": "stdout",
     "output_type": "stream",
     "text": [
      "epoch: 4, [batch: 1 / 6720], examples_per_second: 4.3970, train_label_loss: 0.4613, \n"
     ]
    },
    {
     "name": "stdout",
     "output_type": "stream",
     "text": [
      "epoch: 4, [batch: 672 / 6720], examples_per_second: 4220.9224, train_label_loss: 0.6308, \n"
     ]
    },
    {
     "name": "stdout",
     "output_type": "stream",
     "text": [
      "epoch: 4, [batch: 1344 / 6720], examples_per_second: 4467.5055, train_label_loss: 0.4520, \n"
     ]
    },
    {
     "name": "stdout",
     "output_type": "stream",
     "text": [
      "epoch: 4, [batch: 2016 / 6720], examples_per_second: 4233.3852, train_label_loss: 0.5634, \n"
     ]
    },
    {
     "name": "stdout",
     "output_type": "stream",
     "text": [
      "epoch: 4, [batch: 2688 / 6720], examples_per_second: 4256.9124, train_label_loss: 0.6446, \n"
     ]
    },
    {
     "name": "stdout",
     "output_type": "stream",
     "text": [
      "epoch: 4, [batch: 3360 / 6720], examples_per_second: 4456.2427, train_label_loss: 0.7153, \n"
     ]
    },
    {
     "name": "stdout",
     "output_type": "stream",
     "text": [
      "epoch: 4, [batch: 4032 / 6720], examples_per_second: 4316.9004, train_label_loss: 0.9938, \n"
     ]
    },
    {
     "name": "stdout",
     "output_type": "stream",
     "text": [
      "epoch: 4, [batch: 4704 / 6720], examples_per_second: 4225.3834, train_label_loss: 0.5285, \n"
     ]
    },
    {
     "name": "stdout",
     "output_type": "stream",
     "text": [
      "epoch: 4, [batch: 5376 / 6720], examples_per_second: 4294.6851, train_label_loss: 0.7523, \n"
     ]
    },
    {
     "name": "stdout",
     "output_type": "stream",
     "text": [
      "epoch: 4, [batch: 6048 / 6720], examples_per_second: 5271.8924, train_label_loss: 0.5489, \n"
     ]
    },
    {
     "name": "stdout",
     "output_type": "stream",
     "text": [
      "=============================================================\n",
      "epoch: 4, source_val_acc_label: 0.6191, target_val_acc_label: 0.6755, source_val_label_loss: 1.0675, target_val_label_loss: 8.8588, \n",
      "=============================================================\n"
     ]
    },
    {
     "name": "stdout",
     "output_type": "stream",
     "text": [
      "New best\n"
     ]
    },
    {
     "name": "stdout",
     "output_type": "stream",
     "text": [
      "epoch: 5, [batch: 1 / 6720], examples_per_second: 5.0591, train_label_loss: 0.6575, \n"
     ]
    },
    {
     "name": "stdout",
     "output_type": "stream",
     "text": [
      "epoch: 5, [batch: 672 / 6720], examples_per_second: 5006.4169, train_label_loss: 0.5144, \n"
     ]
    },
    {
     "name": "stdout",
     "output_type": "stream",
     "text": [
      "epoch: 5, [batch: 1344 / 6720], examples_per_second: 5175.6897, train_label_loss: 0.6928, \n"
     ]
    },
    {
     "name": "stdout",
     "output_type": "stream",
     "text": [
      "epoch: 5, [batch: 2016 / 6720], examples_per_second: 5086.9160, train_label_loss: 0.8488, \n"
     ]
    },
    {
     "name": "stdout",
     "output_type": "stream",
     "text": [
      "epoch: 5, [batch: 2688 / 6720], examples_per_second: 5003.0179, train_label_loss: 0.5300, \n"
     ]
    },
    {
     "name": "stdout",
     "output_type": "stream",
     "text": [
      "epoch: 5, [batch: 3360 / 6720], examples_per_second: 5062.6084, train_label_loss: 1.2201, \n"
     ]
    },
    {
     "name": "stdout",
     "output_type": "stream",
     "text": [
      "epoch: 5, [batch: 4032 / 6720], examples_per_second: 5008.2569, train_label_loss: 0.3668, \n"
     ]
    },
    {
     "name": "stdout",
     "output_type": "stream",
     "text": [
      "epoch: 5, [batch: 4704 / 6720], examples_per_second: 5344.2044, train_label_loss: 0.4110, \n"
     ]
    },
    {
     "name": "stdout",
     "output_type": "stream",
     "text": [
      "epoch: 5, [batch: 5376 / 6720], examples_per_second: 5278.6593, train_label_loss: 0.7445, \n"
     ]
    },
    {
     "name": "stdout",
     "output_type": "stream",
     "text": [
      "epoch: 5, [batch: 6048 / 6720], examples_per_second: 5396.6947, train_label_loss: 0.4309, \n"
     ]
    },
    {
     "name": "stdout",
     "output_type": "stream",
     "text": [
      "=============================================================\n",
      "epoch: 5, source_val_acc_label: 0.6079, target_val_acc_label: 0.6682, source_val_label_loss: 1.1132, target_val_label_loss: 9.5791, \n",
      "=============================================================\n"
     ]
    },
    {
     "name": "stdout",
     "output_type": "stream",
     "text": [
      "epoch: 6, [batch: 1 / 6720], examples_per_second: 5.0739, train_label_loss: 0.4509, \n"
     ]
    },
    {
     "name": "stdout",
     "output_type": "stream",
     "text": [
      "epoch: 6, [batch: 672 / 6720], examples_per_second: 5048.8059, train_label_loss: 0.4290, \n"
     ]
    },
    {
     "name": "stdout",
     "output_type": "stream",
     "text": [
      "epoch: 6, [batch: 1344 / 6720], examples_per_second: 4944.0355, train_label_loss: 0.6932, \n"
     ]
    },
    {
     "name": "stdout",
     "output_type": "stream",
     "text": [
      "epoch: 6, [batch: 2016 / 6720], examples_per_second: 4956.1255, train_label_loss: 0.7753, \n"
     ]
    },
    {
     "name": "stdout",
     "output_type": "stream",
     "text": [
      "epoch: 6, [batch: 2688 / 6720], examples_per_second: 4958.5988, train_label_loss: 0.5906, \n"
     ]
    },
    {
     "name": "stdout",
     "output_type": "stream",
     "text": [
      "epoch: 6, [batch: 3360 / 6720], examples_per_second: 5079.2609, train_label_loss: 0.6906, \n"
     ]
    },
    {
     "name": "stdout",
     "output_type": "stream",
     "text": [
      "epoch: 6, [batch: 4032 / 6720], examples_per_second: 5030.3264, train_label_loss: 0.4634, \n"
     ]
    },
    {
     "name": "stdout",
     "output_type": "stream",
     "text": [
      "epoch: 6, [batch: 4704 / 6720], examples_per_second: 4951.2808, train_label_loss: 0.8140, \n"
     ]
    },
    {
     "name": "stdout",
     "output_type": "stream",
     "text": [
      "epoch: 6, [batch: 5376 / 6720], examples_per_second: 4958.5105, train_label_loss: 0.5389, \n"
     ]
    },
    {
     "name": "stdout",
     "output_type": "stream",
     "text": [
      "epoch: 6, [batch: 6048 / 6720], examples_per_second: 5059.9640, train_label_loss: 0.4425, \n"
     ]
    },
    {
     "name": "stdout",
     "output_type": "stream",
     "text": [
      "=============================================================\n",
      "epoch: 6, source_val_acc_label: 0.6083, target_val_acc_label: 0.6724, source_val_label_loss: 1.1771, target_val_label_loss: 10.8365, \n",
      "=============================================================\n"
     ]
    },
    {
     "name": "stdout",
     "output_type": "stream",
     "text": [
      "epoch: 7, [batch: 1 / 6720], examples_per_second: 5.1335, train_label_loss: 0.4754, \n"
     ]
    },
    {
     "name": "stdout",
     "output_type": "stream",
     "text": [
      "epoch: 7, [batch: 672 / 6720], examples_per_second: 5185.7198, train_label_loss: 0.4027, \n"
     ]
    },
    {
     "name": "stdout",
     "output_type": "stream",
     "text": [
      "epoch: 7, [batch: 1344 / 6720], examples_per_second: 5172.1620, train_label_loss: 0.3512, \n"
     ]
    },
    {
     "name": "stdout",
     "output_type": "stream",
     "text": [
      "epoch: 7, [batch: 2016 / 6720], examples_per_second: 5364.8924, train_label_loss: 0.1745, \n"
     ]
    },
    {
     "name": "stdout",
     "output_type": "stream",
     "text": [
      "epoch: 7, [batch: 2688 / 6720], examples_per_second: 5269.8045, train_label_loss: 0.3608, \n"
     ]
    },
    {
     "name": "stdout",
     "output_type": "stream",
     "text": [
      "epoch: 7, [batch: 3360 / 6720], examples_per_second: 5464.7264, train_label_loss: 0.4497, \n"
     ]
    },
    {
     "name": "stdout",
     "output_type": "stream",
     "text": [
      "epoch: 7, [batch: 4032 / 6720], examples_per_second: 5128.2084, train_label_loss: 0.3418, \n"
     ]
    },
    {
     "name": "stdout",
     "output_type": "stream",
     "text": [
      "epoch: 7, [batch: 4704 / 6720], examples_per_second: 4886.8872, train_label_loss: 0.3623, \n"
     ]
    },
    {
     "name": "stdout",
     "output_type": "stream",
     "text": [
      "epoch: 7, [batch: 5376 / 6720], examples_per_second: 4976.2784, train_label_loss: 0.7387, \n"
     ]
    },
    {
     "name": "stdout",
     "output_type": "stream",
     "text": [
      "epoch: 7, [batch: 6048 / 6720], examples_per_second: 5003.2519, train_label_loss: 0.4596, \n"
     ]
    },
    {
     "name": "stdout",
     "output_type": "stream",
     "text": [
      "=============================================================\n",
      "epoch: 7, source_val_acc_label: 0.6012, target_val_acc_label: 0.6776, source_val_label_loss: 1.2362, target_val_label_loss: 11.5019, \n",
      "=============================================================\n"
     ]
    },
    {
     "name": "stdout",
     "output_type": "stream",
     "text": [
      "New best\n"
     ]
    },
    {
     "name": "stdout",
     "output_type": "stream",
     "text": [
      "epoch: 8, [batch: 1 / 6720], examples_per_second: 5.2232, train_label_loss: 0.5436, \n"
     ]
    },
    {
     "name": "stdout",
     "output_type": "stream",
     "text": [
      "epoch: 8, [batch: 672 / 6720], examples_per_second: 4997.5886, train_label_loss: 0.3030, \n"
     ]
    },
    {
     "name": "stdout",
     "output_type": "stream",
     "text": [
      "epoch: 8, [batch: 1344 / 6720], examples_per_second: 5172.5900, train_label_loss: 0.2544, \n"
     ]
    },
    {
     "name": "stdout",
     "output_type": "stream",
     "text": [
      "epoch: 8, [batch: 2016 / 6720], examples_per_second: 5064.1536, train_label_loss: 0.3106, \n"
     ]
    },
    {
     "name": "stdout",
     "output_type": "stream",
     "text": [
      "epoch: 8, [batch: 2688 / 6720], examples_per_second: 4589.0555, train_label_loss: 0.3682, \n"
     ]
    },
    {
     "name": "stdout",
     "output_type": "stream",
     "text": [
      "epoch: 8, [batch: 3360 / 6720], examples_per_second: 3840.7801, train_label_loss: 0.6295, \n"
     ]
    },
    {
     "name": "stdout",
     "output_type": "stream",
     "text": [
      "epoch: 8, [batch: 4032 / 6720], examples_per_second: 3825.9741, train_label_loss: 0.0963, \n"
     ]
    },
    {
     "name": "stdout",
     "output_type": "stream",
     "text": [
      "epoch: 8, [batch: 4704 / 6720], examples_per_second: 3825.3305, train_label_loss: 0.0858, \n"
     ]
    },
    {
     "name": "stdout",
     "output_type": "stream",
     "text": [
      "epoch: 8, [batch: 5376 / 6720], examples_per_second: 3855.0163, train_label_loss: 0.1225, \n"
     ]
    },
    {
     "name": "stdout",
     "output_type": "stream",
     "text": [
      "epoch: 8, [batch: 6048 / 6720], examples_per_second: 3884.5285, train_label_loss: 0.6580, \n"
     ]
    },
    {
     "name": "stdout",
     "output_type": "stream",
     "text": [
      "=============================================================\n",
      "epoch: 8, source_val_acc_label: 0.6038, target_val_acc_label: 0.6739, source_val_label_loss: 1.3333, target_val_label_loss: 13.2179, \n",
      "=============================================================\n"
     ]
    },
    {
     "name": "stdout",
     "output_type": "stream",
     "text": [
      "epoch: 9, [batch: 1 / 6720], examples_per_second: 3.8401, train_label_loss: 0.7435, \n"
     ]
    },
    {
     "name": "stdout",
     "output_type": "stream",
     "text": [
      "epoch: 9, [batch: 672 / 6720], examples_per_second: 3871.0061, train_label_loss: 0.4571, \n"
     ]
    },
    {
     "name": "stdout",
     "output_type": "stream",
     "text": [
      "epoch: 9, [batch: 1344 / 6720], examples_per_second: 3917.1360, train_label_loss: 0.1995, \n"
     ]
    },
    {
     "name": "stdout",
     "output_type": "stream",
     "text": [
      "epoch: 9, [batch: 2016 / 6720], examples_per_second: 3886.4039, train_label_loss: 0.2992, \n"
     ]
    },
    {
     "name": "stdout",
     "output_type": "stream",
     "text": [
      "epoch: 9, [batch: 2688 / 6720], examples_per_second: 3974.3690, train_label_loss: 0.3914, \n"
     ]
    },
    {
     "name": "stdout",
     "output_type": "stream",
     "text": [
      "epoch: 9, [batch: 3360 / 6720], examples_per_second: 3953.7869, train_label_loss: 0.2648, \n"
     ]
    },
    {
     "name": "stdout",
     "output_type": "stream",
     "text": [
      "epoch: 9, [batch: 4032 / 6720], examples_per_second: 3920.8047, train_label_loss: 0.2345, \n"
     ]
    },
    {
     "name": "stdout",
     "output_type": "stream",
     "text": [
      "epoch: 9, [batch: 4704 / 6720], examples_per_second: 3815.1489, train_label_loss: 0.3486, \n"
     ]
    },
    {
     "name": "stdout",
     "output_type": "stream",
     "text": [
      "epoch: 9, [batch: 5376 / 6720], examples_per_second: 3835.4561, train_label_loss: 0.1363, \n"
     ]
    },
    {
     "name": "stdout",
     "output_type": "stream",
     "text": [
      "epoch: 9, [batch: 6048 / 6720], examples_per_second: 3910.6315, train_label_loss: 0.3438, \n"
     ]
    },
    {
     "name": "stdout",
     "output_type": "stream",
     "text": [
      "=============================================================\n",
      "epoch: 9, source_val_acc_label: 0.6045, target_val_acc_label: 0.6799, source_val_label_loss: 1.4145, target_val_label_loss: 14.2658, \n",
      "=============================================================\n"
     ]
    },
    {
     "name": "stdout",
     "output_type": "stream",
     "text": [
      "New best\n"
     ]
    },
    {
     "name": "stdout",
     "output_type": "stream",
     "text": [
      "epoch: 10, [batch: 1 / 6720], examples_per_second: 3.8560, train_label_loss: 0.4183, \n"
     ]
    },
    {
     "name": "stdout",
     "output_type": "stream",
     "text": [
      "epoch: 10, [batch: 672 / 6720], examples_per_second: 3903.5604, train_label_loss: 0.5398, \n"
     ]
    },
    {
     "name": "stdout",
     "output_type": "stream",
     "text": [
      "epoch: 10, [batch: 1344 / 6720], examples_per_second: 3866.2486, train_label_loss: 0.2809, \n"
     ]
    },
    {
     "name": "stdout",
     "output_type": "stream",
     "text": [
      "epoch: 10, [batch: 2016 / 6720], examples_per_second: 3790.9855, train_label_loss: 0.1277, \n"
     ]
    },
    {
     "name": "stdout",
     "output_type": "stream",
     "text": [
      "epoch: 10, [batch: 2688 / 6720], examples_per_second: 3812.4708, train_label_loss: 0.2369, \n"
     ]
    },
    {
     "name": "stdout",
     "output_type": "stream",
     "text": [
      "epoch: 10, [batch: 3360 / 6720], examples_per_second: 3965.2573, train_label_loss: 0.4156, \n"
     ]
    },
    {
     "name": "stdout",
     "output_type": "stream",
     "text": [
      "epoch: 10, [batch: 4032 / 6720], examples_per_second: 3878.3185, train_label_loss: 0.2847, \n"
     ]
    },
    {
     "name": "stdout",
     "output_type": "stream",
     "text": [
      "epoch: 10, [batch: 4704 / 6720], examples_per_second: 3857.1834, train_label_loss: 0.0966, \n"
     ]
    },
    {
     "name": "stdout",
     "output_type": "stream",
     "text": [
      "epoch: 10, [batch: 5376 / 6720], examples_per_second: 3837.1053, train_label_loss: 0.2585, \n"
     ]
    },
    {
     "name": "stdout",
     "output_type": "stream",
     "text": [
      "epoch: 10, [batch: 6048 / 6720], examples_per_second: 3871.6708, train_label_loss: 0.1730, \n"
     ]
    },
    {
     "name": "stdout",
     "output_type": "stream",
     "text": [
      "=============================================================\n",
      "epoch: 10, source_val_acc_label: 0.6005, target_val_acc_label: 0.6807, source_val_label_loss: 1.5082, target_val_label_loss: 15.2259, \n",
      "=============================================================\n"
     ]
    },
    {
     "name": "stdout",
     "output_type": "stream",
     "text": [
      "New best\n"
     ]
    },
    {
     "name": "stdout",
     "output_type": "stream",
     "text": [
      "epoch: 11, [batch: 1 / 6720], examples_per_second: 3.9161, train_label_loss: 0.2700, \n"
     ]
    },
    {
     "name": "stdout",
     "output_type": "stream",
     "text": [
      "epoch: 11, [batch: 672 / 6720], examples_per_second: 3762.4565, train_label_loss: 0.3390, \n"
     ]
    },
    {
     "name": "stdout",
     "output_type": "stream",
     "text": [
      "epoch: 11, [batch: 1344 / 6720], examples_per_second: 3872.2107, train_label_loss: 0.4238, \n"
     ]
    },
    {
     "name": "stdout",
     "output_type": "stream",
     "text": [
      "epoch: 11, [batch: 2016 / 6720], examples_per_second: 3980.0752, train_label_loss: 0.1363, \n"
     ]
    },
    {
     "name": "stdout",
     "output_type": "stream",
     "text": [
      "epoch: 11, [batch: 2688 / 6720], examples_per_second: 3909.0970, train_label_loss: 0.1100, \n"
     ]
    },
    {
     "name": "stdout",
     "output_type": "stream",
     "text": [
      "epoch: 11, [batch: 3360 / 6720], examples_per_second: 3906.7760, train_label_loss: 0.4193, \n"
     ]
    },
    {
     "name": "stdout",
     "output_type": "stream",
     "text": [
      "epoch: 11, [batch: 4032 / 6720], examples_per_second: 3918.7678, train_label_loss: 0.1742, \n"
     ]
    },
    {
     "name": "stdout",
     "output_type": "stream",
     "text": [
      "epoch: 11, [batch: 4704 / 6720], examples_per_second: 3896.9028, train_label_loss: 0.1936, \n"
     ]
    },
    {
     "name": "stdout",
     "output_type": "stream",
     "text": [
      "epoch: 11, [batch: 5376 / 6720], examples_per_second: 3913.6050, train_label_loss: 0.2463, \n"
     ]
    },
    {
     "name": "stdout",
     "output_type": "stream",
     "text": [
      "epoch: 11, [batch: 6048 / 6720], examples_per_second: 3929.1491, train_label_loss: 0.3781, \n"
     ]
    },
    {
     "name": "stdout",
     "output_type": "stream",
     "text": [
      "=============================================================\n",
      "epoch: 11, source_val_acc_label: 0.6038, target_val_acc_label: 0.6816, source_val_label_loss: 1.5781, target_val_label_loss: 16.6367, \n",
      "=============================================================\n"
     ]
    },
    {
     "name": "stdout",
     "output_type": "stream",
     "text": [
      "New best\n"
     ]
    },
    {
     "name": "stdout",
     "output_type": "stream",
     "text": [
      "epoch: 12, [batch: 1 / 6720], examples_per_second: 3.8784, train_label_loss: 0.1157, \n"
     ]
    },
    {
     "name": "stdout",
     "output_type": "stream",
     "text": [
      "epoch: 12, [batch: 672 / 6720], examples_per_second: 3828.3013, train_label_loss: 0.1634, \n"
     ]
    },
    {
     "name": "stdout",
     "output_type": "stream",
     "text": [
      "epoch: 12, [batch: 1344 / 6720], examples_per_second: 3872.1711, train_label_loss: 0.1298, \n"
     ]
    },
    {
     "name": "stdout",
     "output_type": "stream",
     "text": [
      "epoch: 12, [batch: 2016 / 6720], examples_per_second: 3932.9906, train_label_loss: 0.4456, \n"
     ]
    },
    {
     "name": "stdout",
     "output_type": "stream",
     "text": [
      "epoch: 12, [batch: 2688 / 6720], examples_per_second: 3994.0492, train_label_loss: 0.0567, \n"
     ]
    },
    {
     "name": "stdout",
     "output_type": "stream",
     "text": [
      "epoch: 12, [batch: 3360 / 6720], examples_per_second: 4272.5820, train_label_loss: 0.2655, \n"
     ]
    },
    {
     "name": "stdout",
     "output_type": "stream",
     "text": [
      "epoch: 12, [batch: 4032 / 6720], examples_per_second: 4181.0830, train_label_loss: 0.3024, \n"
     ]
    },
    {
     "name": "stdout",
     "output_type": "stream",
     "text": [
      "epoch: 12, [batch: 4704 / 6720], examples_per_second: 4137.5284, train_label_loss: 0.4612, \n"
     ]
    },
    {
     "name": "stdout",
     "output_type": "stream",
     "text": [
      "epoch: 12, [batch: 5376 / 6720], examples_per_second: 4167.9952, train_label_loss: 0.5408, \n"
     ]
    },
    {
     "name": "stdout",
     "output_type": "stream",
     "text": [
      "epoch: 12, [batch: 6048 / 6720], examples_per_second: 4497.5553, train_label_loss: 0.1568, \n"
     ]
    },
    {
     "name": "stdout",
     "output_type": "stream",
     "text": [
      "=============================================================\n",
      "epoch: 12, source_val_acc_label: 0.5966, target_val_acc_label: 0.6741, source_val_label_loss: 1.7064, target_val_label_loss: 17.9501, \n",
      "=============================================================\n"
     ]
    },
    {
     "name": "stdout",
     "output_type": "stream",
     "text": [
      "epoch: 13, [batch: 1 / 6720], examples_per_second: 5.0999, train_label_loss: 0.2262, \n"
     ]
    },
    {
     "name": "stdout",
     "output_type": "stream",
     "text": [
      "epoch: 13, [batch: 672 / 6720], examples_per_second: 3924.8086, train_label_loss: 0.2614, \n"
     ]
    },
    {
     "name": "stdout",
     "output_type": "stream",
     "text": [
      "epoch: 13, [batch: 1344 / 6720], examples_per_second: 3966.2344, train_label_loss: 0.0273, \n"
     ]
    },
    {
     "name": "stdout",
     "output_type": "stream",
     "text": [
      "epoch: 13, [batch: 2016 / 6720], examples_per_second: 3945.9333, train_label_loss: 0.3147, \n"
     ]
    },
    {
     "name": "stdout",
     "output_type": "stream",
     "text": [
      "epoch: 13, [batch: 2688 / 6720], examples_per_second: 3957.5709, train_label_loss: 0.4831, \n"
     ]
    },
    {
     "name": "stdout",
     "output_type": "stream",
     "text": [
      "epoch: 13, [batch: 3360 / 6720], examples_per_second: 3882.1089, train_label_loss: 0.1392, \n"
     ]
    },
    {
     "name": "stdout",
     "output_type": "stream",
     "text": [
      "epoch: 13, [batch: 4032 / 6720], examples_per_second: 3943.6320, train_label_loss: 0.1059, \n"
     ]
    },
    {
     "name": "stdout",
     "output_type": "stream",
     "text": [
      "epoch: 13, [batch: 4704 / 6720], examples_per_second: 3918.0654, train_label_loss: 0.2657, \n"
     ]
    },
    {
     "name": "stdout",
     "output_type": "stream",
     "text": [
      "epoch: 13, [batch: 5376 / 6720], examples_per_second: 3843.7569, train_label_loss: 0.3375, \n"
     ]
    },
    {
     "name": "stdout",
     "output_type": "stream",
     "text": [
      "epoch: 13, [batch: 6048 / 6720], examples_per_second: 3913.3550, train_label_loss: 0.5105, \n"
     ]
    },
    {
     "name": "stdout",
     "output_type": "stream",
     "text": [
      "=============================================================\n",
      "epoch: 13, source_val_acc_label: 0.5966, target_val_acc_label: 0.6831, source_val_label_loss: 1.7488, target_val_label_loss: 18.4955, \n",
      "=============================================================\n"
     ]
    },
    {
     "name": "stdout",
     "output_type": "stream",
     "text": [
      "New best\n"
     ]
    },
    {
     "name": "stdout",
     "output_type": "stream",
     "text": [
      "epoch: 14, [batch: 1 / 6720], examples_per_second: 3.8835, train_label_loss: 0.3279, \n"
     ]
    },
    {
     "name": "stdout",
     "output_type": "stream",
     "text": [
      "epoch: 14, [batch: 672 / 6720], examples_per_second: 3927.6427, train_label_loss: 0.1046, \n"
     ]
    },
    {
     "name": "stdout",
     "output_type": "stream",
     "text": [
      "epoch: 14, [batch: 1344 / 6720], examples_per_second: 3937.3794, train_label_loss: 0.3204, \n"
     ]
    },
    {
     "name": "stdout",
     "output_type": "stream",
     "text": [
      "epoch: 14, [batch: 2016 / 6720], examples_per_second: 3918.2899, train_label_loss: 0.1511, \n"
     ]
    },
    {
     "name": "stdout",
     "output_type": "stream",
     "text": [
      "epoch: 14, [batch: 2688 / 6720], examples_per_second: 3939.5179, train_label_loss: 0.5947, \n"
     ]
    },
    {
     "name": "stdout",
     "output_type": "stream",
     "text": [
      "epoch: 14, [batch: 3360 / 6720], examples_per_second: 3934.7209, train_label_loss: 0.3432, \n"
     ]
    },
    {
     "name": "stdout",
     "output_type": "stream",
     "text": [
      "epoch: 14, [batch: 4032 / 6720], examples_per_second: 3842.5736, train_label_loss: 0.0407, \n"
     ]
    },
    {
     "name": "stdout",
     "output_type": "stream",
     "text": [
      "epoch: 14, [batch: 4704 / 6720], examples_per_second: 3909.0223, train_label_loss: 0.0717, \n"
     ]
    },
    {
     "name": "stdout",
     "output_type": "stream",
     "text": [
      "epoch: 14, [batch: 5376 / 6720], examples_per_second: 3925.5836, train_label_loss: 0.0180, \n"
     ]
    },
    {
     "name": "stdout",
     "output_type": "stream",
     "text": [
      "epoch: 14, [batch: 6048 / 6720], examples_per_second: 3893.2652, train_label_loss: 0.6013, \n"
     ]
    },
    {
     "name": "stdout",
     "output_type": "stream",
     "text": [
      "=============================================================\n",
      "epoch: 14, source_val_acc_label: 0.5963, target_val_acc_label: 0.6831, source_val_label_loss: 1.8102, target_val_label_loss: 19.3167, \n",
      "=============================================================\n"
     ]
    },
    {
     "name": "stdout",
     "output_type": "stream",
     "text": [
      "epoch: 15, [batch: 1 / 6720], examples_per_second: 3.8379, train_label_loss: 0.1429, \n"
     ]
    },
    {
     "name": "stdout",
     "output_type": "stream",
     "text": [
      "epoch: 15, [batch: 672 / 6720], examples_per_second: 3995.4201, train_label_loss: 0.2028, \n"
     ]
    },
    {
     "name": "stdout",
     "output_type": "stream",
     "text": [
      "epoch: 15, [batch: 1344 / 6720], examples_per_second: 4005.5404, train_label_loss: 0.0318, \n"
     ]
    },
    {
     "name": "stdout",
     "output_type": "stream",
     "text": [
      "epoch: 15, [batch: 2016 / 6720], examples_per_second: 4007.5093, train_label_loss: 0.3128, \n"
     ]
    },
    {
     "name": "stdout",
     "output_type": "stream",
     "text": [
      "epoch: 15, [batch: 2688 / 6720], examples_per_second: 3892.0154, train_label_loss: 0.2158, \n"
     ]
    },
    {
     "name": "stdout",
     "output_type": "stream",
     "text": [
      "epoch: 15, [batch: 3360 / 6720], examples_per_second: 3917.2081, train_label_loss: 0.0441, \n"
     ]
    },
    {
     "name": "stdout",
     "output_type": "stream",
     "text": [
      "epoch: 15, [batch: 4032 / 6720], examples_per_second: 3941.6537, train_label_loss: 0.4059, \n"
     ]
    },
    {
     "name": "stdout",
     "output_type": "stream",
     "text": [
      "epoch: 15, [batch: 4704 / 6720], examples_per_second: 3999.8796, train_label_loss: 0.0469, \n"
     ]
    },
    {
     "name": "stdout",
     "output_type": "stream",
     "text": [
      "epoch: 15, [batch: 5376 / 6720], examples_per_second: 4097.4202, train_label_loss: 0.0839, \n"
     ]
    },
    {
     "name": "stdout",
     "output_type": "stream",
     "text": [
      "epoch: 15, [batch: 6048 / 6720], examples_per_second: 4103.8916, train_label_loss: 0.1250, \n"
     ]
    },
    {
     "name": "stdout",
     "output_type": "stream",
     "text": [
      "=============================================================\n",
      "epoch: 15, source_val_acc_label: 0.5924, target_val_acc_label: 0.6838, source_val_label_loss: 1.8946, target_val_label_loss: 20.0345, \n",
      "=============================================================\n"
     ]
    },
    {
     "name": "stdout",
     "output_type": "stream",
     "text": [
      "New best\n"
     ]
    },
    {
     "name": "stdout",
     "output_type": "stream",
     "text": [
      "epoch: 16, [batch: 1 / 6720], examples_per_second: 3.9008, train_label_loss: 0.0461, \n"
     ]
    },
    {
     "name": "stdout",
     "output_type": "stream",
     "text": [
      "epoch: 16, [batch: 672 / 6720], examples_per_second: 3924.2675, train_label_loss: 0.2069, \n"
     ]
    },
    {
     "name": "stdout",
     "output_type": "stream",
     "text": [
      "epoch: 16, [batch: 1344 / 6720], examples_per_second: 3971.1963, train_label_loss: 0.0725, \n"
     ]
    },
    {
     "name": "stdout",
     "output_type": "stream",
     "text": [
      "epoch: 16, [batch: 2016 / 6720], examples_per_second: 4094.5943, train_label_loss: 0.0901, \n"
     ]
    },
    {
     "name": "stdout",
     "output_type": "stream",
     "text": [
      "epoch: 16, [batch: 2688 / 6720], examples_per_second: 4070.8017, train_label_loss: 0.1630, \n"
     ]
    },
    {
     "name": "stdout",
     "output_type": "stream",
     "text": [
      "epoch: 16, [batch: 3360 / 6720], examples_per_second: 4003.3514, train_label_loss: 0.2066, \n"
     ]
    },
    {
     "name": "stdout",
     "output_type": "stream",
     "text": [
      "epoch: 16, [batch: 4032 / 6720], examples_per_second: 4113.0483, train_label_loss: 0.0786, \n"
     ]
    },
    {
     "name": "stdout",
     "output_type": "stream",
     "text": [
      "epoch: 16, [batch: 4704 / 6720], examples_per_second: 4065.4565, train_label_loss: 0.0474, \n"
     ]
    },
    {
     "name": "stdout",
     "output_type": "stream",
     "text": [
      "epoch: 16, [batch: 5376 / 6720], examples_per_second: 4124.5735, train_label_loss: 0.3010, \n"
     ]
    },
    {
     "name": "stdout",
     "output_type": "stream",
     "text": [
      "epoch: 16, [batch: 6048 / 6720], examples_per_second: 4072.1129, train_label_loss: 0.0090, \n"
     ]
    },
    {
     "name": "stdout",
     "output_type": "stream",
     "text": [
      "=============================================================\n",
      "epoch: 16, source_val_acc_label: 0.5913, target_val_acc_label: 0.6811, source_val_label_loss: 1.9489, target_val_label_loss: 20.7454, \n",
      "=============================================================\n"
     ]
    },
    {
     "name": "stdout",
     "output_type": "stream",
     "text": [
      "epoch: 17, [batch: 1 / 6720], examples_per_second: 3.9165, train_label_loss: 0.0827, \n"
     ]
    },
    {
     "name": "stdout",
     "output_type": "stream",
     "text": [
      "epoch: 17, [batch: 672 / 6720], examples_per_second: 3988.5630, train_label_loss: 0.0134, \n"
     ]
    },
    {
     "name": "stdout",
     "output_type": "stream",
     "text": [
      "epoch: 17, [batch: 1344 / 6720], examples_per_second: 4188.5841, train_label_loss: 0.4223, \n"
     ]
    },
    {
     "name": "stdout",
     "output_type": "stream",
     "text": [
      "epoch: 17, [batch: 2016 / 6720], examples_per_second: 4274.3674, train_label_loss: 0.2154, \n"
     ]
    },
    {
     "name": "stdout",
     "output_type": "stream",
     "text": [
      "epoch: 17, [batch: 2688 / 6720], examples_per_second: 4208.2824, train_label_loss: 0.0062, \n"
     ]
    },
    {
     "name": "stdout",
     "output_type": "stream",
     "text": [
      "epoch: 17, [batch: 3360 / 6720], examples_per_second: 4553.1022, train_label_loss: 0.0764, \n"
     ]
    },
    {
     "name": "stdout",
     "output_type": "stream",
     "text": [
      "epoch: 17, [batch: 4032 / 6720], examples_per_second: 4366.4536, train_label_loss: 0.2487, \n"
     ]
    },
    {
     "name": "stdout",
     "output_type": "stream",
     "text": [
      "epoch: 17, [batch: 4704 / 6720], examples_per_second: 4905.3202, train_label_loss: 0.0308, \n"
     ]
    },
    {
     "name": "stdout",
     "output_type": "stream",
     "text": [
      "epoch: 17, [batch: 5376 / 6720], examples_per_second: 5150.4119, train_label_loss: 0.0784, \n"
     ]
    },
    {
     "name": "stdout",
     "output_type": "stream",
     "text": [
      "epoch: 17, [batch: 6048 / 6720], examples_per_second: 4105.2637, train_label_loss: 0.5965, \n"
     ]
    },
    {
     "name": "stdout",
     "output_type": "stream",
     "text": [
      "=============================================================\n",
      "epoch: 17, source_val_acc_label: 0.5912, target_val_acc_label: 0.6873, source_val_label_loss: 2.0015, target_val_label_loss: 21.9832, \n",
      "=============================================================\n"
     ]
    },
    {
     "name": "stdout",
     "output_type": "stream",
     "text": [
      "New best\n"
     ]
    },
    {
     "name": "stdout",
     "output_type": "stream",
     "text": [
      "epoch: 18, [batch: 1 / 6720], examples_per_second: 3.8705, train_label_loss: 0.1033, \n"
     ]
    },
    {
     "name": "stdout",
     "output_type": "stream",
     "text": [
      "epoch: 18, [batch: 672 / 6720], examples_per_second: 3932.7984, train_label_loss: 0.2541, \n"
     ]
    },
    {
     "name": "stdout",
     "output_type": "stream",
     "text": [
      "epoch: 18, [batch: 1344 / 6720], examples_per_second: 4026.9071, train_label_loss: 0.0240, \n"
     ]
    },
    {
     "name": "stdout",
     "output_type": "stream",
     "text": [
      "epoch: 18, [batch: 2016 / 6720], examples_per_second: 4007.5681, train_label_loss: 0.1724, \n"
     ]
    },
    {
     "name": "stdout",
     "output_type": "stream",
     "text": [
      "epoch: 18, [batch: 2688 / 6720], examples_per_second: 4053.7959, train_label_loss: 0.1478, \n"
     ]
    },
    {
     "name": "stdout",
     "output_type": "stream",
     "text": [
      "epoch: 18, [batch: 3360 / 6720], examples_per_second: 4056.0028, train_label_loss: 0.1306, \n"
     ]
    },
    {
     "name": "stdout",
     "output_type": "stream",
     "text": [
      "epoch: 18, [batch: 4032 / 6720], examples_per_second: 3964.9976, train_label_loss: 0.2559, \n"
     ]
    },
    {
     "name": "stdout",
     "output_type": "stream",
     "text": [
      "epoch: 18, [batch: 4704 / 6720], examples_per_second: 4021.4570, train_label_loss: 0.2498, \n"
     ]
    },
    {
     "name": "stdout",
     "output_type": "stream",
     "text": [
      "epoch: 18, [batch: 5376 / 6720], examples_per_second: 3828.9568, train_label_loss: 0.3114, \n"
     ]
    },
    {
     "name": "stdout",
     "output_type": "stream",
     "text": [
      "epoch: 18, [batch: 6048 / 6720], examples_per_second: 3859.0084, train_label_loss: 0.1931, \n"
     ]
    },
    {
     "name": "stdout",
     "output_type": "stream",
     "text": [
      "=============================================================\n",
      "epoch: 18, source_val_acc_label: 0.5962, target_val_acc_label: 0.6913, source_val_label_loss: 2.0453, target_val_label_loss: 22.6196, \n",
      "=============================================================\n"
     ]
    },
    {
     "name": "stdout",
     "output_type": "stream",
     "text": [
      "New best\n"
     ]
    },
    {
     "name": "stdout",
     "output_type": "stream",
     "text": [
      "epoch: 19, [batch: 1 / 6720], examples_per_second: 3.8613, train_label_loss: 0.4706, \n"
     ]
    },
    {
     "name": "stdout",
     "output_type": "stream",
     "text": [
      "epoch: 19, [batch: 672 / 6720], examples_per_second: 3962.5622, train_label_loss: 0.3733, \n"
     ]
    },
    {
     "name": "stdout",
     "output_type": "stream",
     "text": [
      "epoch: 19, [batch: 1344 / 6720], examples_per_second: 3952.4411, train_label_loss: 0.1046, \n"
     ]
    },
    {
     "name": "stdout",
     "output_type": "stream",
     "text": [
      "epoch: 19, [batch: 2016 / 6720], examples_per_second: 3995.4821, train_label_loss: 0.2992, \n"
     ]
    },
    {
     "name": "stdout",
     "output_type": "stream",
     "text": [
      "epoch: 19, [batch: 2688 / 6720], examples_per_second: 4049.2952, train_label_loss: 0.0622, \n"
     ]
    },
    {
     "name": "stdout",
     "output_type": "stream",
     "text": [
      "epoch: 19, [batch: 3360 / 6720], examples_per_second: 3940.3660, train_label_loss: 0.4462, \n"
     ]
    },
    {
     "name": "stdout",
     "output_type": "stream",
     "text": [
      "epoch: 19, [batch: 4032 / 6720], examples_per_second: 3938.7966, train_label_loss: 0.1987, \n"
     ]
    },
    {
     "name": "stdout",
     "output_type": "stream",
     "text": [
      "epoch: 19, [batch: 4704 / 6720], examples_per_second: 3950.3194, train_label_loss: 0.0293, \n"
     ]
    },
    {
     "name": "stdout",
     "output_type": "stream",
     "text": [
      "epoch: 19, [batch: 5376 / 6720], examples_per_second: 3914.6409, train_label_loss: 0.1774, \n"
     ]
    },
    {
     "name": "stdout",
     "output_type": "stream",
     "text": [
      "epoch: 19, [batch: 6048 / 6720], examples_per_second: 3864.6443, train_label_loss: 0.2167, \n"
     ]
    },
    {
     "name": "stdout",
     "output_type": "stream",
     "text": [
      "=============================================================\n",
      "epoch: 19, source_val_acc_label: 0.5959, target_val_acc_label: 0.6897, source_val_label_loss: 2.1361, target_val_label_loss: 23.1453, \n",
      "=============================================================\n"
     ]
    },
    {
     "name": "stdout",
     "output_type": "stream",
     "text": [
      "epoch: 20, [batch: 1 / 6720], examples_per_second: 3.8036, train_label_loss: 0.2740, \n"
     ]
    },
    {
     "name": "stdout",
     "output_type": "stream",
     "text": [
      "epoch: 20, [batch: 672 / 6720], examples_per_second: 3915.3502, train_label_loss: 0.0187, \n"
     ]
    },
    {
     "name": "stdout",
     "output_type": "stream",
     "text": [
      "epoch: 20, [batch: 1344 / 6720], examples_per_second: 3847.3640, train_label_loss: 0.1127, \n"
     ]
    },
    {
     "name": "stdout",
     "output_type": "stream",
     "text": [
      "epoch: 20, [batch: 2016 / 6720], examples_per_second: 3876.9766, train_label_loss: 0.3737, \n"
     ]
    },
    {
     "name": "stdout",
     "output_type": "stream",
     "text": [
      "epoch: 20, [batch: 2688 / 6720], examples_per_second: 3810.1787, train_label_loss: 0.0575, \n"
     ]
    },
    {
     "name": "stdout",
     "output_type": "stream",
     "text": [
      "epoch: 20, [batch: 3360 / 6720], examples_per_second: 3899.2244, train_label_loss: 0.1524, \n"
     ]
    },
    {
     "name": "stdout",
     "output_type": "stream",
     "text": [
      "epoch: 20, [batch: 4032 / 6720], examples_per_second: 3935.4966, train_label_loss: 0.0840, \n"
     ]
    },
    {
     "name": "stdout",
     "output_type": "stream",
     "text": [
      "epoch: 20, [batch: 4704 / 6720], examples_per_second: 4013.2224, train_label_loss: 0.2428, \n"
     ]
    },
    {
     "name": "stdout",
     "output_type": "stream",
     "text": [
      "epoch: 20, [batch: 5376 / 6720], examples_per_second: 4010.2360, train_label_loss: 0.0227, \n"
     ]
    },
    {
     "name": "stdout",
     "output_type": "stream",
     "text": [
      "epoch: 20, [batch: 6048 / 6720], examples_per_second: 4002.4209, train_label_loss: 0.0230, \n"
     ]
    },
    {
     "name": "stdout",
     "output_type": "stream",
     "text": [
      "=============================================================\n",
      "epoch: 20, source_val_acc_label: 0.5921, target_val_acc_label: 0.6824, source_val_label_loss: 2.1786, target_val_label_loss: 23.8127, \n",
      "=============================================================\n"
     ]
    },
    {
     "name": "stdout",
     "output_type": "stream",
     "text": [
      "epoch: 21, [batch: 1 / 6720], examples_per_second: 3.8709, train_label_loss: 0.0326, \n"
     ]
    },
    {
     "name": "stdout",
     "output_type": "stream",
     "text": [
      "epoch: 21, [batch: 672 / 6720], examples_per_second: 3918.5711, train_label_loss: 0.1217, \n"
     ]
    },
    {
     "name": "stdout",
     "output_type": "stream",
     "text": [
      "epoch: 21, [batch: 1344 / 6720], examples_per_second: 3874.3421, train_label_loss: 0.1336, \n"
     ]
    },
    {
     "name": "stdout",
     "output_type": "stream",
     "text": [
      "epoch: 21, [batch: 2016 / 6720], examples_per_second: 3883.8675, train_label_loss: 0.2183, \n"
     ]
    },
    {
     "name": "stdout",
     "output_type": "stream",
     "text": [
      "epoch: 21, [batch: 2688 / 6720], examples_per_second: 3845.8849, train_label_loss: 0.1464, \n"
     ]
    },
    {
     "name": "stdout",
     "output_type": "stream",
     "text": [
      "epoch: 21, [batch: 3360 / 6720], examples_per_second: 4000.1859, train_label_loss: 0.0847, \n"
     ]
    },
    {
     "name": "stdout",
     "output_type": "stream",
     "text": [
      "epoch: 21, [batch: 4032 / 6720], examples_per_second: 3998.3074, train_label_loss: 0.0890, \n"
     ]
    },
    {
     "name": "stdout",
     "output_type": "stream",
     "text": [
      "epoch: 21, [batch: 4704 / 6720], examples_per_second: 3992.6461, train_label_loss: 0.0435, \n"
     ]
    },
    {
     "name": "stdout",
     "output_type": "stream",
     "text": [
      "epoch: 21, [batch: 5376 / 6720], examples_per_second: 4024.1365, train_label_loss: 0.0358, \n"
     ]
    },
    {
     "name": "stdout",
     "output_type": "stream",
     "text": [
      "epoch: 21, [batch: 6048 / 6720], examples_per_second: 4196.1677, train_label_loss: 0.1517, \n"
     ]
    },
    {
     "name": "stdout",
     "output_type": "stream",
     "text": [
      "=============================================================\n",
      "epoch: 21, source_val_acc_label: 0.5946, target_val_acc_label: 0.6886, source_val_label_loss: 2.1985, target_val_label_loss: 24.0878, \n",
      "=============================================================\n"
     ]
    },
    {
     "name": "stdout",
     "output_type": "stream",
     "text": [
      "epoch: 22, [batch: 1 / 6720], examples_per_second: 4.3166, train_label_loss: 0.0308, \n"
     ]
    },
    {
     "name": "stdout",
     "output_type": "stream",
     "text": [
      "epoch: 22, [batch: 672 / 6720], examples_per_second: 4819.4673, train_label_loss: 0.2776, \n"
     ]
    },
    {
     "name": "stdout",
     "output_type": "stream",
     "text": [
      "epoch: 22, [batch: 1344 / 6720], examples_per_second: 4660.8619, train_label_loss: 0.0727, \n"
     ]
    },
    {
     "name": "stdout",
     "output_type": "stream",
     "text": [
      "epoch: 22, [batch: 2016 / 6720], examples_per_second: 5072.5852, train_label_loss: 0.1657, \n"
     ]
    },
    {
     "name": "stdout",
     "output_type": "stream",
     "text": [
      "epoch: 22, [batch: 2688 / 6720], examples_per_second: 4779.6387, train_label_loss: 0.0847, \n"
     ]
    },
    {
     "name": "stdout",
     "output_type": "stream",
     "text": [
      "epoch: 22, [batch: 3360 / 6720], examples_per_second: 3937.4899, train_label_loss: 0.0437, \n"
     ]
    },
    {
     "name": "stdout",
     "output_type": "stream",
     "text": [
      "epoch: 22, [batch: 4032 / 6720], examples_per_second: 3859.9161, train_label_loss: 0.3689, \n"
     ]
    },
    {
     "name": "stdout",
     "output_type": "stream",
     "text": [
      "epoch: 22, [batch: 4704 / 6720], examples_per_second: 3831.1826, train_label_loss: 0.1283, \n"
     ]
    },
    {
     "name": "stdout",
     "output_type": "stream",
     "text": [
      "epoch: 22, [batch: 5376 / 6720], examples_per_second: 3938.9409, train_label_loss: 0.0020, \n"
     ]
    },
    {
     "name": "stdout",
     "output_type": "stream",
     "text": [
      "epoch: 22, [batch: 6048 / 6720], examples_per_second: 3935.0449, train_label_loss: 0.0068, \n"
     ]
    },
    {
     "name": "stdout",
     "output_type": "stream",
     "text": [
      "=============================================================\n",
      "epoch: 22, source_val_acc_label: 0.5979, target_val_acc_label: 0.6909, source_val_label_loss: 2.2243, target_val_label_loss: 25.1502, \n",
      "=============================================================\n"
     ]
    },
    {
     "name": "stdout",
     "output_type": "stream",
     "text": [
      "Patience (3) exhausted\n"
     ]
    }
   ],
   "source": [
    "###################################\n",
    "# train\n",
    "###################################\n",
    "jig = PTN_Train_Eval_Test_Jig(model, p.BEST_MODEL_PATH, p.device)\n",
    "\n",
    "jig.train(\n",
    "    train_iterable=datasets.source.processed.train,\n",
    "    source_val_iterable=datasets.source.processed.val,\n",
    "    target_val_iterable=datasets.target.processed.val,\n",
    "    num_epochs=p.n_epoch,\n",
    "    num_logs_per_epoch=p.NUM_LOGS_PER_EPOCH,\n",
    "    patience=p.patience,\n",
    "    optimizer=optimizer,\n",
    "    criteria_for_best=p.criteria_for_best,\n",
    ")"
   ]
  },
  {
   "cell_type": "code",
   "execution_count": 23,
   "id": "31e8fabf",
   "metadata": {
    "execution": {
     "iopub.execute_input": "2022-03-23T02:01:49.539546Z",
     "iopub.status.busy": "2022-03-23T02:01:49.538986Z",
     "iopub.status.idle": "2022-03-23T02:01:49.569851Z",
     "shell.execute_reply": "2022-03-23T02:01:49.570486Z"
    },
    "papermill": {
     "duration": 0.125669,
     "end_time": "2022-03-23T02:01:49.570668",
     "exception": false,
     "start_time": "2022-03-23T02:01:49.444999",
     "status": "completed"
    },
    "tags": []
   },
   "outputs": [],
   "source": [
    "total_experiment_time_secs = time.time() - start_time_secs"
   ]
  },
  {
   "cell_type": "code",
   "execution_count": 24,
   "id": "87b9595b",
   "metadata": {
    "execution": {
     "iopub.execute_input": "2022-03-23T02:01:49.761712Z",
     "iopub.status.busy": "2022-03-23T02:01:49.760450Z",
     "iopub.status.idle": "2022-03-23T02:04:44.601790Z",
     "shell.execute_reply": "2022-03-23T02:04:44.601041Z"
    },
    "papermill": {
     "duration": 174.93679,
     "end_time": "2022-03-23T02:04:44.601980",
     "exception": false,
     "start_time": "2022-03-23T02:01:49.665190",
     "status": "completed"
    },
    "tags": []
   },
   "outputs": [],
   "source": [
    "###################################\n",
    "# Evaluate the model\n",
    "###################################\n",
    "source_test_label_accuracy, source_test_label_loss = jig.test(datasets.source.processed.test)\n",
    "target_test_label_accuracy, target_test_label_loss = jig.test(datasets.target.processed.test)\n",
    "\n",
    "source_val_label_accuracy, source_val_label_loss = jig.test(datasets.source.processed.val)\n",
    "target_val_label_accuracy, target_val_label_loss = jig.test(datasets.target.processed.val)\n",
    "\n",
    "history = jig.get_history()\n",
    "\n",
    "total_epochs_trained = len(history[\"epoch_indices\"])\n",
    "\n",
    "val_dl = Iterable_Aggregator((datasets.source.original.val,datasets.target.original.val))\n",
    "\n",
    "confusion = ptn_confusion_by_domain_over_dataloader(model, p.device, val_dl)\n",
    "per_domain_accuracy = per_domain_accuracy_from_confusion(confusion)\n",
    "\n",
    "# Add a key to per_domain_accuracy for if it was a source domain\n",
    "for domain, accuracy in per_domain_accuracy.items():\n",
    "    per_domain_accuracy[domain] = {\n",
    "        \"accuracy\": accuracy,\n",
    "        \"source?\": domain in p.domains_source\n",
    "    }\n",
    "\n",
    "# Do an independent accuracy assesment JUST TO BE SURE!\n",
    "# _source_test_label_accuracy = independent_accuracy_assesment(model, datasets.source.processed.test, p.device)\n",
    "# _target_test_label_accuracy = independent_accuracy_assesment(model, datasets.target.processed.test, p.device)\n",
    "# _source_val_label_accuracy = independent_accuracy_assesment(model, datasets.source.processed.val, p.device)\n",
    "# _target_val_label_accuracy = independent_accuracy_assesment(model, datasets.target.processed.val, p.device)\n",
    "\n",
    "# assert(_source_test_label_accuracy == source_test_label_accuracy)\n",
    "# assert(_target_test_label_accuracy == target_test_label_accuracy)\n",
    "# assert(_source_val_label_accuracy == source_val_label_accuracy)\n",
    "# assert(_target_val_label_accuracy == target_val_label_accuracy)\n",
    "\n",
    "experiment = {\n",
    "    \"experiment_name\": p.experiment_name,\n",
    "    \"parameters\": dict(p),\n",
    "    \"results\": {\n",
    "        \"source_test_label_accuracy\": source_test_label_accuracy,\n",
    "        \"source_test_label_loss\": source_test_label_loss,\n",
    "        \"target_test_label_accuracy\": target_test_label_accuracy,\n",
    "        \"target_test_label_loss\": target_test_label_loss,\n",
    "        \"source_val_label_accuracy\": source_val_label_accuracy,\n",
    "        \"source_val_label_loss\": source_val_label_loss,\n",
    "        \"target_val_label_accuracy\": target_val_label_accuracy,\n",
    "        \"target_val_label_loss\": target_val_label_loss,\n",
    "        \"total_epochs_trained\": total_epochs_trained,\n",
    "        \"total_experiment_time_secs\": total_experiment_time_secs,\n",
    "        \"confusion\": confusion,\n",
    "        \"per_domain_accuracy\": per_domain_accuracy,\n",
    "    },\n",
    "    \"history\": history,\n",
    "    \"dataset_metrics\": get_dataset_metrics(datasets, \"ptn\"),\n",
    "}"
   ]
  },
  {
   "cell_type": "code",
   "execution_count": 25,
   "id": "54a21829",
   "metadata": {
    "execution": {
     "iopub.execute_input": "2022-03-23T02:04:44.797398Z",
     "iopub.status.busy": "2022-03-23T02:04:44.796872Z",
     "iopub.status.idle": "2022-03-23T02:04:45.009814Z",
     "shell.execute_reply": "2022-03-23T02:04:45.008981Z"
    },
    "papermill": {
     "duration": 0.309734,
     "end_time": "2022-03-23T02:04:45.009983",
     "exception": false,
     "start_time": "2022-03-23T02:04:44.700249",
     "status": "completed"
    },
    "tags": []
   },
   "outputs": [
    {
     "data": {
      "image/png": "[encoded data removed]",
      "text/plain": [
       "<Figure size 1080x504 with 1 Axes>"
      ]
     },
     "metadata": {
      "needs_background": "light"
     },
     "output_type": "display_data"
    }
   ],
   "source": [
    "ax = get_loss_curve(experiment)\n",
    "plt.show()"
   ]
  },
  {
   "cell_type": "code",
   "execution_count": 26,
   "id": "fd8a0f60",
   "metadata": {
    "execution": {
     "iopub.execute_input": "2022-03-23T02:04:45.203699Z",
     "iopub.status.busy": "2022-03-23T02:04:45.203316Z",
     "iopub.status.idle": "2022-03-23T02:04:45.587898Z",
     "shell.execute_reply": "2022-03-23T02:04:45.588593Z"
    },
    "papermill": {
     "duration": 0.481897,
     "end_time": "2022-03-23T02:04:45.588811",
     "exception": false,
     "start_time": "2022-03-23T02:04:45.106914",
     "status": "completed"
    },
    "tags": []
   },
   "outputs": [
    {
     "data": {
      "text/plain": [
       "<AxesSubplot:title={'center':'Results'}>"
      ]
     },
     "execution_count": 26,
     "metadata": {},
     "output_type": "execute_result"
    },
    {
     "data": {
      "image/png": "[encoded data removed]",
      "text/plain": [
       "<Figure size 1080x504 with 1 Axes>"
      ]
     },
     "metadata": {
      "needs_background": "light"
     },
     "output_type": "display_data"
    }
   ],
   "source": [
    "get_results_table(experiment)"
   ]
  },
  {
   "cell_type": "code",
   "execution_count": 27,
   "id": "cf8dc689",
   "metadata": {
    "execution": {
     "iopub.execute_input": "2022-03-23T02:04:45.785568Z",
     "iopub.status.busy": "2022-03-23T02:04:45.785201Z",
     "iopub.status.idle": "2022-03-23T02:04:46.041178Z",
     "shell.execute_reply": "2022-03-23T02:04:46.040343Z"
    },
    "papermill": {
     "duration": 0.353827,
     "end_time": "2022-03-23T02:04:46.041341",
     "exception": false,
     "start_time": "2022-03-23T02:04:45.687514",
     "status": "completed"
    },
    "tags": []
   },
   "outputs": [
    {
     "data": {
      "text/plain": [
       "<AxesSubplot:title={'center':'Per Domain Validation Accuracy'}, xlabel='domain'>"
      ]
     },
     "execution_count": 27,
     "metadata": {},
     "output_type": "execute_result"
    },
    {
     "data": {
      "image/png": "[encoded data removed]",
      "text/plain": [
       "<Figure size 1080x504 with 1 Axes>"
      ]
     },
     "metadata": {
      "needs_background": "light"
     },
     "output_type": "display_data"
    }
   ],
   "source": [
    "get_domain_accuracies(experiment)"
   ]
  },
  {
   "cell_type": "code",
   "execution_count": 28,
   "id": "a74ae082",
   "metadata": {
    "execution": {
     "iopub.execute_input": "2022-03-23T02:04:46.241347Z",
     "iopub.status.busy": "2022-03-23T02:04:46.240970Z",
     "iopub.status.idle": "2022-03-23T02:04:46.268099Z",
     "shell.execute_reply": "2022-03-23T02:04:46.267260Z"
    },
    "papermill": {
     "duration": 0.126591,
     "end_time": "2022-03-23T02:04:46.268257",
     "exception": false,
     "start_time": "2022-03-23T02:04:46.141666",
     "status": "completed"
    },
    "tags": []
   },
   "outputs": [
    {
     "name": "stdout",
     "output_type": "stream",
     "text": [
      "Source Test Label Accuracy: 0.5931640625 Target Test Label Accuracy: 0.68916015625\n",
      "Source Val Label Accuracy: 0.5961588541666667 Target Val Label Accuracy: 0.6913441145281018\n"
     ]
    }
   ],
   "source": [
    "print(\"Source Test Label Accuracy:\", experiment[\"results\"][\"source_test_label_accuracy\"], \"Target Test Label Accuracy:\", experiment[\"results\"][\"target_test_label_accuracy\"])\n",
    "print(\"Source Val Label Accuracy:\", experiment[\"results\"][\"source_val_label_accuracy\"], \"Target Val Label Accuracy:\", experiment[\"results\"][\"target_val_label_accuracy\"])"
   ]
  },
  {
   "cell_type": "code",
   "execution_count": 29,
   "id": "dacca602",
   "metadata": {
    "execution": {
     "iopub.execute_input": "2022-03-23T02:04:46.468225Z",
     "iopub.status.busy": "2022-03-23T02:04:46.467858Z",
     "iopub.status.idle": "2022-03-23T02:04:46.497393Z",
     "shell.execute_reply": "2022-03-23T02:04:46.497857Z"
    },
    "papermill": {
     "duration": 0.129143,
     "end_time": "2022-03-23T02:04:46.497985",
     "exception": false,
     "start_time": "2022-03-23T02:04:46.368842",
     "status": "completed"
    },
    "tags": [
     "experiment_json"
    ]
   },
   "outputs": [
    {
     "data": {
      "text/plain": [
       "'{\"experiment_name\": \"tl_1v2:wisig-oracle.run1.limited\", \"parameters\": {\"experiment_name\": \"tl_1v2:wisig-oracle.run1.limited\", \"device\": \"cuda\", \"lr\": 0.0001, \"n_shot\": 3, \"n_query\": 2, \"train_k_factor\": 3, \"val_k_factor\": 2, \"test_k_factor\": 2, \"torch_default_dtype\": \"torch.float32\", \"n_epoch\": 50, \"patience\": 3, \"criteria_for_best\": \"target_accuracy\", \"x_net\": [{\"class\": \"nnReshape\", \"kargs\": {\"shape\": [-1, 1, 2, 256]}}, {\"class\": \"Conv2d\", \"kargs\": {\"in_channels\": 1, \"out_channels\": 256, \"kernel_size\": [1, 7], \"bias\": false, \"padding\": [0, 3]}}, {\"class\": \"ReLU\", \"kargs\": {\"inplace\": true}}, {\"class\": \"BatchNorm2d\", \"kargs\": {\"num_features\": 256}}, {\"class\": \"Conv2d\", \"kargs\": {\"in_channels\": 256, \"out_channels\": 80, \"kernel_size\": [2, 7], \"bias\": true, \"padding\": [0, 3]}}, {\"class\": \"ReLU\", \"kargs\": {\"inplace\": true}}, {\"class\": \"BatchNorm2d\", \"kargs\": {\"num_features\": 80}}, {\"class\": \"Flatten\", \"kargs\": {}}, {\"class\": \"Linear\", \"kargs\": {\"in_features\": 20480, \"out_features\": 256}}, {\"class\": \"ReLU\", \"kargs\": {\"inplace\": true}}, {\"class\": \"BatchNorm1d\", \"kargs\": {\"num_features\": 256}}, {\"class\": \"Linear\", \"kargs\": {\"in_features\": 256, \"out_features\": 256}}], \"NUM_LOGS_PER_EPOCH\": 10, \"BEST_MODEL_PATH\": \"./best_model.pth\", \"n_way\": 16, \"datasets\": [{\"labels\": [\"1-10\", \"1-12\", \"1-14\", \"1-16\", \"1-18\", \"1-19\", \"1-8\", \"10-11\", \"10-17\", \"10-4\", \"10-7\", \"11-1\", \"11-10\", \"11-19\", \"11-20\", \"11-4\", \"11-7\", \"12-19\", \"12-20\", \"12-7\", \"13-14\", \"13-18\", \"13-19\", \"13-20\", \"13-3\", \"13-7\", \"14-10\", \"14-11\", \"14-12\", \"14-13\", \"14-14\", \"14-19\", \"14-20\", \"14-7\", \"14-8\", \"14-9\", \"15-1\", \"15-19\", \"15-6\", \"16-1\", \"16-16\", \"16-19\", \"16-20\", \"17-10\", \"17-11\", \"18-1\", \"18-10\", \"18-11\", \"18-12\", \"18-13\", \"18-14\", \"18-15\", \"18-16\", \"18-17\", \"18-19\", \"18-2\", \"18-20\", \"18-4\", \"18-5\", \"18-7\", \"18-8\", \"18-9\", \"19-1\", \"19-10\", \"19-11\", \"19-12\", \"19-13\", \"19-14\", \"19-15\", \"19-19\", \"19-2\", \"19-20\", \"19-3\", \"19-4\", \"19-6\", \"19-7\", \"19-8\", \"19-9\", \"2-1\", \"2-13\", \"2-15\", \"2-3\", \"2-4\", \"2-5\", \"2-6\", \"2-7\", \"2-8\", \"20-1\", \"20-12\", \"20-14\", \"20-15\", \"20-16\", \"20-18\", \"20-19\", \"20-20\", \"20-3\", \"20-4\", \"20-5\", \"20-7\", \"20-8\", \"3-1\", \"3-13\", \"3-18\", \"3-2\", \"3-8\", \"4-1\", \"4-10\", \"4-11\", \"5-1\", \"5-5\", \"6-1\", \"6-15\", \"6-6\", \"7-10\", \"7-11\", \"7-12\", \"7-13\", \"7-14\", \"7-7\", \"7-8\", \"7-9\", \"8-1\", \"8-13\", \"8-14\", \"8-18\", \"8-20\", \"8-3\", \"8-8\", \"9-1\", \"9-7\"], \"domains\": [1, 2, 3, 4], \"num_examples_per_domain_per_label\": -1, \"pickle_path\": \"/root/csc500-main/datasets/wisig.node3-19.stratified_ds.2022A.pkl\", \"source_or_target_dataset\": \"target\", \"x_transforms\": [\"unit_mag\"], \"episode_transforms\": [], \"domain_prefix\": \"Wisig_\"}, {\"labels\": [\"3123D52\", \"3123D65\", \"3123D79\", \"3123D80\", \"3123D54\", \"3123D70\", \"3123D7B\", \"3123D89\", \"3123D58\", \"3123D76\", \"3123D7D\", \"3123EFE\", \"3123D64\", \"3123D78\", \"3123D7E\", \"3124E4A\"], \"domains\": [32, 38, 8, 44, 14, 50, 20, 26], \"num_examples_per_domain_per_label\": 2000, \"pickle_path\": \"/root/csc500-main/datasets/oracle.Run1_10kExamples_stratified_ds.2022A.pkl\", \"source_or_target_dataset\": \"source\", \"x_transforms\": [\"unit_mag\"], \"episode_transforms\": [], \"domain_prefix\": \"ORACLE.run1\"}], \"dataset_seed\": 154325, \"seed\": 154325, \"x_shape\": [2, 256], \"domains_source\": [\"ORACLE.run132\", \"ORACLE.run138\", \"ORACLE.run18\", \"ORACLE.run144\", \"ORACLE.run114\", \"ORACLE.run150\", \"ORACLE.run120\", \"ORACLE.run126\"], \"domains_target\": [\"Wisig_1\", \"Wisig_2\", \"Wisig_3\", \"Wisig_4\"]}, \"results\": {\"source_test_label_accuracy\": 0.5931640625, \"source_test_label_loss\": 1.993465542793274, \"target_test_label_accuracy\": 0.68916015625, \"target_test_label_loss\": 22.888744354248047, \"source_val_label_accuracy\": 0.5961588541666667, \"source_val_label_loss\": 2.0453386306762695, \"target_val_label_accuracy\": 0.6913441145281018, \"target_val_label_loss\": 22.61964988708496, \"total_epochs_trained\": 22, \"total_experiment_time_secs\": 3464.609052181244, \"confusion\": {\"ORACLE.run18\": {\"13\": {\"13\": 66, \"6\": 22, \"0\": 46, \"14\": 24, \"10\": 34, \"4\": 36, \"7\": 9, \"5\": 1, \"1\": 2}, \"9\": {\"9\": 240}, \"15\": {\"12\": 54, \"15\": 138, \"8\": 30, \"3\": 5, \"2\": 10, \"6\": 1, \"7\": 2}, \"2\": {\"3\": 51, \"2\": 161, \"7\": 8, \"15\": 11, \"12\": 6, \"8\": 1, \"6\": 2}, \"3\": {\"3\": 163, \"2\": 37, \"12\": 35, \"15\": 5}, \"8\": {\"8\": 194, \"15\": 32, \"6\": 6, \"7\": 6, \"12\": 2}, \"5\": {\"5\": 185, \"10\": 27, \"14\": 4, \"1\": 17, \"11\": 6, \"13\": 1}, \"14\": {\"14\": 67, \"4\": 36, \"11\": 10, \"0\": 9, \"5\": 10, \"10\": 56, \"13\": 26, \"1\": 17, \"6\": 8, \"7\": 1}, \"1\": {\"1\": 123, \"14\": 10, \"11\": 79, \"4\": 4, \"10\": 9, \"5\": 14, \"13\": 1}, \"0\": {\"0\": 117, \"4\": 32, \"7\": 20, \"13\": 43, \"14\": 5, \"10\": 4, \"6\": 19}, \"10\": {\"10\": 113, \"6\": 1, \"14\": 46, \"1\": 11, \"13\": 33, \"4\": 14, \"5\": 18, \"0\": 3, \"11\": 1}, \"6\": {\"7\": 59, \"6\": 106, \"0\": 18, \"4\": 35, \"8\": 9, \"13\": 9, \"14\": 1, \"15\": 1, \"11\": 1, \"10\": 1}, \"11\": {\"1\": 93, \"11\": 109, \"5\": 18, \"8\": 3, \"4\": 3, \"10\": 2, \"6\": 3, \"14\": 8, \"13\": 1}, \"7\": {\"6\": 63, \"7\": 139, \"8\": 5, \"0\": 23, \"2\": 5, \"4\": 4, \"13\": 1}, \"4\": {\"4\": 62, \"7\": 6, \"6\": 42, \"14\": 32, \"10\": 13, \"13\": 55, \"0\": 23, \"11\": 5, \"1\": 2}, \"12\": {\"15\": 61, \"12\": 107, \"3\": 55, \"8\": 12, \"2\": 5}}, \"ORACLE.run138\": {\"13\": {\"1\": 5, \"15\": 69, \"13\": 125, \"2\": 14, \"10\": 21, \"5\": 3, \"8\": 1, \"0\": 1, \"14\": 1}, \"12\": {\"12\": 200, \"10\": 24, \"4\": 12, \"0\": 1, \"11\": 2, \"14\": 1}, \"2\": {\"2\": 211, \"14\": 22, \"13\": 5, \"10\": 1, \"15\": 1}, \"9\": {\"9\": 134, \"6\": 76, \"3\": 25, \"5\": 4, \"8\": 1}, \"15\": {\"13\": 73, \"15\": 117, \"1\": 22, \"8\": 9, \"2\": 5, \"10\": 1, \"5\": 12, \"0\": 1}, \"5\": {\"7\": 13, \"8\": 73, \"5\": 72, \"6\": 12, \"1\": 4, \"9\": 6, \"15\": 16, \"0\": 32, \"3\": 5, \"13\": 3, \"10\": 4}, \"14\": {\"14\": 155, \"11\": 59, \"2\": 23, \"10\": 3}, \"0\": {\"7\": 65, \"3\": 13, \"15\": 2, \"0\": 56, \"5\": 30, \"8\": 62, \"10\": 8, \"9\": 3, \"12\": 1}, \"3\": {\"3\": 194, \"9\": 26, \"7\": 8, \"0\": 6, \"6\": 3, \"5\": 2, \"8\": 1}, \"1\": {\"1\": 231, \"15\": 5, \"13\": 1, \"5\": 3}, \"11\": {\"14\": 64, \"11\": 159, \"2\": 5, \"10\": 6, \"12\": 6}, \"7\": {\"0\": 64, \"7\": 155, \"8\": 15, \"3\": 2, \"5\": 4}, \"8\": {\"8\": 103, \"0\": 37, \"5\": 62, \"7\": 17, \"10\": 8, \"15\": 7, \"13\": 4, \"1\": 1, \"6\": 1}, \"4\": {\"4\": 215, \"12\": 25}, \"10\": {\"10\": 138, \"0\": 11, \"13\": 25, \"8\": 11, \"12\": 35, \"2\": 2, \"5\": 6, \"15\": 5, \"14\": 5, \"7\": 2}, \"6\": {\"6\": 152, \"9\": 84, \"8\": 1, \"5\": 2, \"3\": 1}}, \"ORACLE.run126\": {\"10\": {\"0\": 40, \"8\": 26, \"9\": 14, \"4\": 13, \"10\": 83, \"14\": 21, \"1\": 14, \"6\": 25, \"7\": 3, \"15\": 1}, \"12\": {\"12\": 237, \"11\": 3}, \"1\": {\"14\": 54, \"1\": 98, \"7\": 17, \"0\": 18, \"4\": 37, \"10\": 8, \"2\": 1, \"8\": 2, \"6\": 3, \"3\": 1, \"9\": 1}, \"0\": {\"0\": 46, \"14\": 42, \"7\": 11, \"1\": 23, \"10\": 48, \"3\": 1, \"4\": 33, \"15\": 1, \"8\": 24, \"9\": 3, \"6\": 6, \"2\": 2}, \"15\": {\"9\": 60, \"13\": 26, \"5\": 47, \"15\": 57, \"2\": 7, \"8\": 13, \"6\": 14, \"10\": 7, \"0\": 3, \"4\": 2, \"14\": 2, \"7\": 2}, \"13\": {\"13\": 162, \"5\": 44, \"8\": 1, \"6\": 4, \"9\": 9, \"15\": 17, \"2\": 3}, \"8\": {\"3\": 6, \"4\": 22, \"9\": 34, \"10\": 28, \"7\": 18, \"8\": 49, \"0\": 27, \"6\": 21, \"14\": 9, \"2\": 10, \"15\": 14, \"1\": 2}, \"3\": {\"7\": 39, \"3\": 134, \"2\": 58, \"8\": 4, \"15\": 2, \"4\": 3}, \"11\": {\"11\": 221, \"12\": 19}, \"4\": {\"14\": 44, \"0\": 27, \"1\": 28, \"4\": 72, \"7\": 31, \"10\": 15, \"8\": 19, \"3\": 2, \"2\": 1, \"9\": 1}, \"6\": {\"6\": 144, \"9\": 37, \"10\": 21, \"13\": 5, \"5\": 4, \"15\": 5, \"14\": 2, \"8\": 14, \"0\": 6, \"1\": 2}, \"7\": {\"4\": 26, \"7\": 89, \"1\": 7, \"3\": 50, \"0\": 9, \"8\": 16, \"2\": 29, \"10\": 2, \"15\": 3, \"14\": 6, \"5\": 2, \"9\": 1}, \"14\": {\"14\": 57, \"0\": 29, \"1\": 66, \"10\": 23, \"8\": 11, \"4\": 43, \"3\": 2, \"7\": 8, \"15\": 1}, \"2\": {\"2\": 98, \"7\": 29, \"15\": 15, \"3\": 62, \"5\": 15, \"8\": 10, \"9\": 4, \"4\": 3, \"13\": 1, \"0\": 2, \"14\": 1}, \"5\": {\"2\": 9, \"13\": 43, \"15\": 64, \"5\": 76, \"9\": 29, \"8\": 11, \"6\": 4, \"7\": 4}, \"9\": {\"5\": 27, \"10\": 9, \"8\": 27, \"9\": 75, \"6\": 43, \"15\": 43, \"13\": 9, \"7\": 1, \"4\": 1, \"0\": 4, \"2\": 1}}, \"ORACLE.run120\": {\"5\": {\"5\": 54, \"15\": 27, \"13\": 2, \"0\": 56, \"12\": 32, \"1\": 37, \"3\": 17, \"4\": 4, \"2\": 3, \"9\": 7, \"8\": 1}, \"15\": {\"1\": 45, \"13\": 16, \"5\": 14, \"0\": 38, \"12\": 7, \"15\": 116, \"2\": 3, \"9\": 1}, \"9\": {\"9\": 56, \"15\": 3, \"13\": 9, \"3\": 33, \"7\": 27, \"2\": 62, \"12\": 30, \"5\": 5, \"1\": 8, \"4\": 2, \"8\": 3, \"0\": 2}, \"7\": {\"7\": 119, \"8\": 24, \"2\": 43, \"11\": 1, \"3\": 11, \"9\": 21, \"4\": 4, \"6\": 8, \"10\": 3, \"12\": 2, \"14\": 2, \"13\": 1, \"5\": 1}, \"3\": {\"2\": 26, \"12\": 40, \"9\": 37, \"3\": 65, \"7\": 16, \"0\": 2, \"13\": 3, \"4\": 9, \"8\": 23, \"5\": 10, \"1\": 7, \"15\": 1, \"10\": 1}, \"8\": {\"4\": 60, \"10\": 27, \"8\": 99, \"6\": 6, \"7\": 18, \"9\": 5, \"3\": 16, \"14\": 6, \"12\": 2, \"2\": 1}, \"4\": {\"4\": 117, \"9\": 3, \"8\": 68, \"0\": 3, \"3\": 26, \"10\": 12, \"7\": 4, \"14\": 4, \"12\": 2, \"5\": 1}, \"6\": {\"6\": 171, \"14\": 45, \"7\": 10, \"10\": 8, \"8\": 6}, \"2\": {\"3\": 21, \"9\": 46, \"13\": 27, \"2\": 64, \"7\": 48, \"12\": 19, \"8\": 3, \"5\": 3, \"15\": 3, \"1\": 4, \"0\": 1, \"4\": 1}, \"12\": {\"15\": 10, \"12\": 58, \"2\": 17, \"9\": 25, \"5\": 28, \"3\": 48, \"1\": 27, \"0\": 20, \"4\": 2, \"13\": 3, \"7\": 2}, \"0\": {\"0\": 53, \"15\": 41, \"1\": 41, \"4\": 1, \"5\": 47, \"3\": 12, \"9\": 8, \"12\": 25, \"2\": 7, \"13\": 5}, \"13\": {\"13\": 182, \"11\": 1, \"15\": 11, \"2\": 23, \"9\": 11, \"1\": 5, \"5\": 2, \"12\": 3, \"3\": 1, \"7\": 1}, \"10\": {\"8\": 38, \"10\": 118, \"14\": 62, \"4\": 15, \"7\": 3, \"6\": 4}, \"11\": {\"11\": 237, \"7\": 1, \"6\": 1, \"2\": 1}, \"14\": {\"14\": 135, \"8\": 6, \"6\": 37, \"9\": 1, \"10\": 59, \"7\": 1, \"4\": 1}, \"1\": {\"12\": 26, \"15\": 37, \"13\": 9, \"5\": 53, \"0\": 45, \"1\": 46, \"2\": 6, \"3\": 13, \"9\": 5}}, \"ORACLE.run150\": {\"1\": {\"6\": 32, \"1\": 128, \"15\": 51, \"14\": 2, \"4\": 23, \"11\": 3, \"5\": 1}, \"2\": {\"2\": 211, \"0\": 29}, \"8\": {\"8\": 225, \"3\": 5, \"7\": 1, \"10\": 9}, \"7\": {\"7\": 133, \"5\": 49, \"10\": 11, \"13\": 45, \"4\": 1, \"6\": 1}, \"14\": {\"14\": 225, \"12\": 8, \"11\": 6, \"9\": 1}, \"6\": {\"1\": 31, \"6\": 132, \"15\": 4, \"5\": 27, \"4\": 28, \"13\": 14, \"0\": 3, \"7\": 1}, \"3\": {\"3\": 229, \"8\": 11}, \"4\": {\"15\": 44, \"6\": 35, \"7\": 8, \"4\": 98, \"1\": 33, \"5\": 20, \"13\": 2}, \"12\": {\"12\": 203, \"9\": 18, \"14\": 16, \"11\": 3}, \"15\": {\"15\": 155, \"1\": 40, \"4\": 26, \"11\": 15, \"9\": 1, \"6\": 3}, \"11\": {\"11\": 191, \"15\": 12, \"9\": 30, \"12\": 2, \"14\": 4, \"1\": 1}, \"0\": {\"0\": 199, \"2\": 26, \"13\": 1, \"10\": 11, \"6\": 2, \"5\": 1}, \"9\": {\"12\": 16, \"9\": 177, \"11\": 46, \"14\": 1}, \"10\": {\"10\": 198, \"0\": 14, \"13\": 9, \"7\": 15, \"8\": 3, \"5\": 1}, \"5\": {\"4\": 31, \"7\": 56, \"6\": 54, \"5\": 51, \"13\": 34, \"10\": 6, \"1\": 7, \"15\": 1}, \"13\": {\"7\": 56, \"5\": 50, \"13\": 108, \"10\": 3, \"6\": 18, \"4\": 3, \"0\": 1, \"1\": 1}}, \"ORACLE.run132\": {\"2\": {\"2\": 175, \"4\": 41, \"0\": 19, \"7\": 4, \"14\": 1}, \"6\": {\"6\": 240}, \"5\": {\"13\": 55, \"5\": 56, \"0\": 26, \"7\": 27, \"8\": 20, \"14\": 16, \"2\": 4, \"4\": 26, \"3\": 9, \"11\": 1}, \"12\": {\"12\": 240}, \"13\": {\"3\": 25, \"13\": 66, \"5\": 64, \"4\": 5, \"8\": 20, \"11\": 5, \"7\": 23, \"14\": 21, \"0\": 11}, \"9\": {\"9\": 234, \"12\": 6}, \"11\": {\"14\": 47, \"11\": 165, \"13\": 8, \"7\": 9, \"5\": 8, \"3\": 3}, \"1\": {\"1\": 234, \"10\": 6}, \"3\": {\"3\": 211, \"8\": 5, \"5\": 4, \"13\": 14, \"11\": 5, \"14\": 1}, \"7\": {\"7\": 88, \"2\": 15, \"14\": 48, \"13\": 16, \"5\": 18, \"11\": 15, \"4\": 34, \"0\": 6}, \"14\": {\"7\": 56, \"5\": 23, \"4\": 20, \"11\": 59, \"14\": 48, \"13\": 19, \"8\": 1, \"3\": 3, \"2\": 4, \"0\": 7}, \"8\": {\"8\": 168, \"13\": 23, \"0\": 26, \"3\": 2, \"4\": 2, \"5\": 19}, \"4\": {\"2\": 51, \"4\": 97, \"14\": 5, \"0\": 43, \"7\": 27, \"5\": 12, \"13\": 3, \"8\": 2}, \"0\": {\"4\": 66, \"5\": 17, \"13\": 5, \"7\": 15, \"0\": 92, \"8\": 23, \"2\": 18, \"14\": 4}, \"10\": {\"10\": 239, \"1\": 1}, \"15\": {\"15\": 229, \"8\": 4, \"3\": 6, \"5\": 1}}, \"ORACLE.run144\": {\"13\": {\"6\": 42, \"13\": 150, \"11\": 19, \"9\": 21, \"4\": 4, \"7\": 3, \"2\": 1}, \"4\": {\"14\": 84, \"4\": 151, \"15\": 4, \"5\": 1}, \"6\": {\"7\": 16, \"13\": 50, \"6\": 140, \"9\": 16, \"11\": 18}, \"0\": {\"0\": 140, \"8\": 56, \"5\": 11, \"15\": 33}, \"10\": {\"10\": 157, \"1\": 30, \"2\": 19, \"12\": 32, \"3\": 1, \"7\": 1}, \"7\": {\"2\": 46, \"9\": 60, \"7\": 121, \"6\": 12, \"10\": 1}, \"14\": {\"14\": 145, \"4\": 78, \"15\": 14, \"5\": 3}, \"15\": {\"15\": 184, \"0\": 22, \"5\": 14, \"8\": 7, \"14\": 12, \"4\": 1}, \"5\": {\"5\": 197, \"15\": 11, \"0\": 18, \"8\": 2, \"14\": 12}, \"2\": {\"2\": 165, \"10\": 17, \"7\": 39, \"1\": 15, \"9\": 2, \"3\": 2}, \"9\": {\"9\": 133, \"7\": 53, \"6\": 20, \"13\": 24, \"2\": 7, \"3\": 1, \"1\": 1, \"4\": 1}, \"12\": {\"12\": 154, \"10\": 36, \"1\": 45, \"3\": 4, \"2\": 1}, \"8\": {\"8\": 136, \"0\": 92, \"15\": 9, \"5\": 3}, \"3\": {\"3\": 203, \"2\": 4, \"1\": 27, \"12\": 6}, \"1\": {\"12\": 38, \"3\": 42, \"1\": 118, \"2\": 15, \"10\": 26, \"7\": 1}, \"11\": {\"11\": 180, \"13\": 38, \"6\": 22}}, \"ORACLE.run114\": {\"1\": {\"1\": 195, \"5\": 36, \"4\": 8, \"7\": 1}, \"15\": {\"15\": 203, \"7\": 29, \"5\": 5, \"2\": 3}, \"10\": {\"10\": 173, \"0\": 59, \"11\": 5, \"3\": 2, \"14\": 1}, \"2\": {\"14\": 42, \"6\": 23, \"2\": 97, \"3\": 10, \"13\": 16, \"15\": 7, \"5\": 26, \"4\": 18, \"1\": 1}, \"9\": {\"9\": 233, \"11\": 4, \"12\": 3}, \"5\": {\"5\": 117, \"4\": 57, \"2\": 15, \"3\": 5, \"7\": 3, \"1\": 41, \"15\": 1, \"13\": 1}, \"7\": {\"7\": 208, \"15\": 20, \"1\": 9, \"5\": 3}, \"13\": {\"6\": 87, \"14\": 59, \"13\": 67, \"2\": 24, \"5\": 1, \"3\": 1, \"15\": 1}, \"8\": {\"8\": 240}, \"6\": {\"6\": 116, \"13\": 81, \"14\": 23, \"2\": 19, \"4\": 1}, \"3\": {\"3\": 173, \"4\": 42, \"5\": 2, \"0\": 3, \"2\": 5, \"14\": 10, \"13\": 2, \"10\": 2, \"1\": 1}, \"12\": {\"12\": 234, \"9\": 6}, \"0\": {\"0\": 164, \"10\": 58, \"3\": 7, \"11\": 11}, \"4\": {\"3\": 43, \"4\": 122, \"5\": 31, \"2\": 30, \"1\": 8, \"14\": 6}, \"14\": {\"14\": 150, \"6\": 22, \"3\": 10, \"10\": 2, \"2\": 15, \"13\": 38, \"4\": 3}, \"11\": {\"11\": 208, \"10\": 13, \"0\": 5, \"9\": 14}}, \"Wisig_2\": {\"56\": {\"56\": 9, \"85\": 1, \"28\": 2}, \"12\": {\"12\": 55, \"32\": 2, \"125\": 4, \"29\": 3, \"8\": 4, \"88\": 1, \"127\": 6, \"98\": 3, \"68\": 3, \"77\": 1, \"34\": 1, \"42\": 1, \"78\": 1, \"108\": 1, \"26\": 1, \"70\": 1}, \"15\": {\"15\": 89, \"26\": 1, \"127\": 4, \"111\": 2, \"94\": 3, \"101\": 10, \"106\": 1, \"0\": 3, \"44\": 1, \"70\": 1, \"117\": 1}, \"26\": {\"117\": 3, \"113\": 1, \"26\": 98, \"102\": 6, \"2\": 1, \"69\": 8, \"18\": 10, \"24\": 2, \"21\": 1, \"99\": 1, \"84\": 1}, \"82\": {\"82\": 33, \"33\": 1, \"84\": 2}, \"9\": {\"9\": 32}, \"49\": {\"12\": 2, \"122\": 3, \"97\": 1, \"3\": 1, \"49\": 2, \"19\": 1, \"124\": 1, \"58\": 1, \"44\": 1, \"110\": 1, \"73\": 2, \"128\": 2, \"16\": 1, \"98\": 1, \"129\": 1, \"42\": 1, \"85\": 2}, \"55\": {\"82\": 4, \"55\": 8, \"62\": 2, \"50\": 2}, \"102\": {\"102\": 121, \"48\": 1, \"90\": 1, \"70\": 1}, \"85\": {\"85\": 14, \"19\": 1, \"32\": 4, \"5\": 5, \"71\": 3, \"55\": 2, \"107\": 1, \"4\": 2}, \"73\": {\"73\": 25, \"3\": 1, \"85\": 1, \"5\": 1}, \"47\": {\"47\": 7, \"15\": 1, \"53\": 1, \"94\": 1, \"85\": 2}, \"20\": {\"20\": 13, \"90\": 2, \"24\": 1}, \"117\": {\"117\": 99, \"92\": 2, \"18\": 4, \"87\": 1, \"39\": 2, \"21\": 2, \"113\": 2, \"26\": 2, \"90\": 2}, \"122\": {\"49\": 2, \"87\": 1, \"122\": 49, \"19\": 2, \"71\": 7, \"3\": 8, \"4\": 4, \"129\": 2, \"32\": 3, \"7\": 5, \"124\": 12, \"110\": 1, \"43\": 1, \"5\": 9, \"114\": 7, \"8\": 1, \"102\": 1, \"98\": 2, \"70\": 2, \"54\": 1, \"34\": 3, \"73\": 1, \"53\": 1, \"85\": 1, \"11\": 3, \"10\": 1, \"44\": 3, \"108\": 1, \"84\": 1, \"39\": 1, \"27\": 2, \"1\": 1, \"0\": 1}, \"113\": {\"113\": 53, \"99\": 1, \"2\": 3, \"117\": 3, \"39\": 2, \"18\": 3, \"90\": 1, \"14\": 1, \"72\": 1, \"81\": 1, \"69\": 2, \"23\": 1}, \"87\": {\"21\": 2, \"60\": 1, \"87\": 27, \"33\": 8, \"23\": 1, \"83\": 1, \"82\": 1, \"109\": 5, \"84\": 6, \"62\": 2, \"102\": 11, \"118\": 6, \"43\": 3, \"16\": 5, \"93\": 14, \"90\": 8, \"71\": 1, \"69\": 1, \"70\": 1, \"116\": 4, \"100\": 1, \"63\": 1, \"88\": 1, \"24\": 1}, \"21\": {\"21\": 42, \"117\": 2, \"78\": 1, \"87\": 2, \"114\": 1}, \"106\": {\"106\": 99, \"97\": 2, \"0\": 3, \"30\": 5, \"12\": 1, \"27\": 1, \"8\": 2, \"6\": 1, \"94\": 2, \"101\": 2, \"21\": 1, \"70\": 1}, \"3\": {\"3\": 107, \"122\": 3, \"85\": 1, \"114\": 3, \"71\": 3, \"110\": 3, \"10\": 1, \"88\": 1, \"7\": 5, \"5\": 2, \"107\": 1, \"123\": 1, \"73\": 2, \"4\": 1, \"39\": 2}, \"126\": {\"126\": 91, \"47\": 2, \"8\": 2, \"44\": 3, \"10\": 7, \"123\": 1, \"70\": 2, \"88\": 3, \"87\": 1, \"14\": 2, \"43\": 1, \"71\": 1, \"3\": 2, \"122\": 2}, \"41\": {\"41\": 17, \"55\": 1, \"32\": 2}, \"76\": {\"76\": 12, \"116\": 2, \"33\": 1, \"37\": 1}, \"60\": {\"76\": 1, \"60\": 9, \"84\": 2, \"46\": 1, \"44\": 3, \"90\": 2, \"118\": 2, \"78\": 1, \"62\": 3, \"129\": 1, \"123\": 1, \"23\": 1, \"16\": 1}, \"94\": {\"94\": 29, \"88\": 1, \"18\": 1, \"108\": 2, \"101\": 3, \"52\": 1, \"20\": 1, \"127\": 2, \"24\": 2, \"15\": 7, \"27\": 2, \"0\": 3, \"6\": 1, \"126\": 2, \"8\": 2, \"106\": 1, \"36\": 1, \"125\": 1, \"12\": 2}, \"50\": {\"50\": 12, \"22\": 1, \"62\": 1, \"61\": 1, \"105\": 1}, \"97\": {\"97\": 14, \"106\": 2, \"75\": 1, \"6\": 1, \"52\": 2}, \"115\": {\"115\": 10, \"14\": 2}, \"38\": {\"38\": 15, \"1\": 1}, \"43\": {\"38\": 2, \"70\": 7, \"43\": 40, \"94\": 1, \"62\": 5, \"46\": 2, \"80\": 2, \"40\": 9, \"44\": 2, \"78\": 3, \"106\": 1, \"60\": 1, \"1\": 19, \"83\": 3, \"93\": 6, \"118\": 2, \"113\": 1, \"105\": 6, \"88\": 2, \"5\": 1, \"119\": 1, \"33\": 1, \"50\": 1, \"16\": 1, \"87\": 2, \"109\": 3}, \"67\": {\"67\": 12, \"76\": 2, \"38\": 2}, \"18\": {\"18\": 80, \"65\": 4, \"117\": 12, \"113\": 4, \"21\": 1, \"39\": 3, \"2\": 2, \"118\": 2, \"26\": 8, \"120\": 1, \"27\": 1, \"69\": 6, \"4\": 1, \"94\": 1, \"102\": 1, \"126\": 1}, \"23\": {\"7\": 1, \"18\": 2, \"23\": 9, \"48\": 1, \"26\": 1, \"122\": 2, \"117\": 2, \"63\": 1, \"124\": 2, \"71\": 2, \"81\": 1, \"86\": 1, \"72\": 1, \"34\": 3, \"69\": 1, \"19\": 1, \"121\": 1, \"41\": 2, \"29\": 1, \"57\": 1, \"85\": 2, \"98\": 1, \"127\": 1, \"39\": 1, \"32\": 1, \"113\": 1, \"11\": 1}, \"63\": {\"63\": 19, \"69\": 1}, \"127\": {\"127\": 99, \"98\": 13, \"126\": 1, \"124\": 3, \"39\": 1, \"35\": 1, \"113\": 1, \"111\": 2, \"12\": 1, \"26\": 1, \"106\": 1}, \"72\": {\"72\": 18, \"102\": 4, \"90\": 2, \"33\": 2, \"77\": 1, \"15\": 1}, \"128\": {\"127\": 1, \"23\": 1, \"103\": 1, \"35\": 1, \"128\": 4, \"108\": 1, \"19\": 1, \"106\": 1, \"3\": 2, \"125\": 1, \"107\": 1, \"79\": 2, \"74\": 1, \"51\": 1, \"5\": 1, \"71\": 1, \"42\": 1, \"95\": 1, \"47\": 1}, \"7\": {\"7\": 101, \"88\": 2, \"73\": 1, \"71\": 1, \"110\": 1, \"5\": 2, \"4\": 9, \"122\": 1, \"1\": 1, \"114\": 2, \"3\": 2, \"66\": 1, \"23\": 1, \"32\": 1, \"26\": 1, \"18\": 1}, \"108\": {\"108\": 83, \"8\": 17, \"128\": 1, \"91\": 1, \"12\": 2, \"107\": 3, \"124\": 1, \"98\": 6, \"24\": 2, \"109\": 1, \"111\": 5, \"11\": 4, \"14\": 1, \"127\": 2, \"101\": 1, \"70\": 1, \"125\": 2, \"16\": 1}, \"16\": {\"16\": 63, \"84\": 5, \"82\": 1, \"43\": 3, \"93\": 7, \"90\": 5, \"88\": 1, \"87\": 8, \"5\": 1, \"33\": 1, \"70\": 3, \"38\": 1, \"118\": 3, \"65\": 1, \"31\": 1, \"83\": 1, \"116\": 1, \"77\": 1, \"96\": 1, \"62\": 1, \"119\": 1, \"21\": 1, \"117\": 1, \"69\": 1, \"40\": 1}, \"29\": {\"29\": 30, \"127\": 1, \"98\": 1}, \"61\": {\"61\": 17, \"83\": 2, \"126\": 1}, \"104\": {\"104\": 15, \"95\": 2, \"66\": 3}, \"120\": {\"120\": 18, \"2\": 1, \"81\": 1}, \"124\": {\"124\": 113, \"34\": 1, \"89\": 1, \"122\": 4, \"11\": 3, \"23\": 1, \"114\": 1}, \"34\": {\"34\": 22, \"53\": 2, \"71\": 1, \"68\": 1, \"124\": 2, \"122\": 1, \"23\": 1, \"19\": 1, \"32\": 1}, \"84\": {\"84\": 51, \"9\": 1, \"96\": 2, \"33\": 15, \"62\": 7, \"118\": 3, \"16\": 3, \"11\": 1, \"109\": 1, \"30\": 1, \"23\": 1, \"126\": 1, \"116\": 1, \"70\": 2, \"40\": 1, \"101\": 1}, \"103\": {\"35\": 1, \"103\": 15}, \"100\": {\"100\": 13, \"1\": 2, \"118\": 1}, \"40\": {\"61\": 3, \"40\": 108, \"11\": 1, \"22\": 1, \"33\": 1, \"21\": 1, \"70\": 4, \"113\": 1, \"105\": 9, \"1\": 2, \"109\": 1, \"37\": 2, \"45\": 1, \"16\": 1, \"117\": 2, \"39\": 1, \"24\": 1}, \"35\": {\"35\": 9, \"103\": 1, \"77\": 1, \"52\": 1}, \"96\": {\"96\": 16, \"16\": 4}, \"101\": {\"101\": 106, \"6\": 2, \"30\": 1, \"98\": 1, \"125\": 2, \"94\": 4, \"69\": 1, \"108\": 1, \"0\": 2}, \"71\": {\"104\": 2, \"71\": 63, \"122\": 5, \"23\": 1, \"5\": 10, \"87\": 1, \"32\": 2, \"84\": 1, \"0\": 2, \"53\": 1, \"114\": 1, \"85\": 1, \"128\": 1, \"4\": 2, \"3\": 4, \"62\": 1, \"105\": 1, \"1\": 1}, \"81\": {\"81\": 19, \"105\": 1, \"113\": 2, \"102\": 1, \"52\": 1}, \"74\": {\"37\": 2, \"94\": 1, \"74\": 6, \"70\": 4, \"14\": 2, \"128\": 1}, \"119\": {\"119\": 15, \"90\": 1, \"116\": 1, \"118\": 1, \"16\": 2}, \"5\": {\"5\": 79, \"17\": 1, \"71\": 10, \"107\": 1, \"3\": 5, \"109\": 1, \"18\": 1, \"7\": 2, \"122\": 5, \"114\": 1, \"115\": 1, \"126\": 1, \"4\": 2, \"105\": 1, \"8\": 1}, \"68\": {\"68\": 12, \"32\": 2, \"124\": 1, \"127\": 1}, \"37\": {\"74\": 1, \"37\": 12, \"95\": 1, \"41\": 2}, \"58\": {\"58\": 18, \"111\": 2}, \"109\": {\"74\": 1, \"119\": 1, \"13\": 1, \"44\": 1, \"12\": 2, \"78\": 5, \"109\": 35, \"118\": 5, \"83\": 1, \"88\": 4, \"126\": 3, \"113\": 1, \"87\": 9, \"90\": 6, \"18\": 1, \"69\": 1, \"93\": 9, \"1\": 1, \"70\": 1, \"105\": 1, \"60\": 1, \"10\": 2, \"46\": 1, \"94\": 3, \"0\": 1, \"16\": 1, \"43\": 1, \"26\": 1}, \"107\": {\"107\": 33, \"24\": 1, \"71\": 1, \"28\": 1, \"36\": 1, \"125\": 1, \"4\": 5, \"0\": 1, \"7\": 5, \"14\": 2, \"106\": 1, \"110\": 4, \"95\": 1, \"56\": 1, \"115\": 2, \"5\": 2, \"32\": 2}, \"13\": {\"81\": 2, \"72\": 2, \"94\": 1, \"13\": 7, \"9\": 1, \"82\": 2, \"87\": 1}, \"52\": {\"58\": 2, \"106\": 3, \"52\": 11, \"75\": 1, \"5\": 1, \"6\": 2}, \"77\": {\"77\": 11, \"81\": 1, \"51\": 2, \"79\": 2}, \"95\": {\"95\": 30, \"40\": 1, \"118\": 1, \"61\": 1, \"104\": 1, \"55\": 1, \"32\": 1}, \"44\": {\"44\": 93, \"3\": 2, \"46\": 1, \"70\": 1, \"53\": 1, \"78\": 2}, \"88\": {\"88\": 38, \"55\": 1, \"78\": 1, \"93\": 20, \"70\": 5, \"14\": 1, \"83\": 2, \"84\": 5, \"62\": 3, \"94\": 2, \"16\": 3, \"43\": 6, \"114\": 2, \"126\": 4, \"108\": 1, \"107\": 1, \"109\": 5, \"1\": 4, \"12\": 1, \"69\": 1, \"44\": 4, \"3\": 2, \"24\": 1, \"105\": 2, \"46\": 1, \"110\": 1, \"39\": 1, \"33\": 1, \"40\": 2, \"8\": 1}, \"91\": {\"91\": 21, \"127\": 2, \"29\": 3, \"59\": 1, \"126\": 1}, \"93\": {\"93\": 117, \"118\": 1, \"43\": 2, \"21\": 1, \"16\": 6, \"87\": 4, \"70\": 2, \"84\": 1, \"117\": 1, \"90\": 1, \"88\": 1, \"62\": 1}, \"8\": {\"108\": 12, \"8\": 78, \"12\": 2, \"111\": 7, \"98\": 4, \"18\": 1, \"125\": 1, \"71\": 1, \"113\": 1, \"127\": 9, \"79\": 1, \"11\": 1, \"3\": 1, \"26\": 1, \"114\": 1, \"30\": 3}, \"1\": {\"1\": 81, \"46\": 1, \"38\": 2, \"40\": 2, \"24\": 1, \"78\": 2, \"43\": 11, \"83\": 1, \"70\": 1, \"105\": 4, \"44\": 1, \"62\": 4, \"111\": 1, \"100\": 1, \"117\": 1}, \"45\": {\"45\": 12, \"21\": 1, \"14\": 2, \"102\": 1}, \"111\": {\"111\": 106, \"127\": 11, \"62\": 1, \"98\": 4, \"35\": 1, \"21\": 1, \"125\": 2}, \"116\": {\"116\": 19, \"90\": 2, \"38\": 1, \"80\": 1, \"93\": 1, \"84\": 1, \"72\": 1, \"87\": 1, \"118\": 1}, \"48\": {\"48\": 17, \"89\": 3}, \"57\": {\"57\": 18, \"78\": 1, \"24\": 1}, \"10\": {\"108\": 1, \"85\": 2, \"3\": 5, \"126\": 10, \"4\": 2, \"19\": 1, \"10\": 17, \"71\": 3, \"11\": 1, \"123\": 2, \"12\": 1, \"7\": 2, \"5\": 5, \"110\": 1, \"53\": 1, \"86\": 1, \"115\": 1, \"73\": 1, \"32\": 1, \"26\": 1, \"122\": 1}, \"129\": {\"129\": 21, \"53\": 1, \"123\": 4, \"19\": 1, \"122\": 2, \"71\": 1, \"73\": 1, \"3\": 1}, \"98\": {\"98\": 82, \"111\": 6, \"12\": 6, \"127\": 13, \"88\": 1, \"18\": 1, \"49\": 2, \"11\": 2, \"39\": 1, \"84\": 2, \"124\": 2}, \"65\": {\"65\": 12, \"81\": 2, \"109\": 1, \"18\": 1, \"2\": 2, \"117\": 2}, \"6\": {\"9\": 3, \"77\": 1, \"101\": 2, \"79\": 1, \"127\": 1, \"6\": 5, \"0\": 1, \"125\": 4, \"111\": 3, \"94\": 3, \"106\": 1, \"8\": 1, \"25\": 1, \"30\": 1, \"54\": 1, \"103\": 2, \"128\": 1}, \"75\": {\"75\": 13, \"126\": 1, \"125\": 2}, \"14\": {\"14\": 33, \"70\": 1, \"78\": 2, \"67\": 1, \"61\": 1, \"1\": 2, \"87\": 1, \"37\": 1, \"100\": 1, \"82\": 1, \"95\": 2, \"105\": 1, \"0\": 1}, \"30\": {\"97\": 2, \"51\": 3, \"30\": 55, \"106\": 16, \"15\": 2, \"6\": 2, \"0\": 9, \"3\": 1, \"88\": 1, \"125\": 4, \"93\": 1, \"8\": 2, \"44\": 1, \"24\": 1, \"101\": 3, \"59\": 2, \"128\": 1, \"90\": 1, \"108\": 1, \"36\": 1, \"111\": 3}, \"83\": {\"83\": 37, \"1\": 1, \"100\": 1, \"90\": 1}, \"69\": {\"69\": 112, \"39\": 4, \"90\": 4, \"18\": 1, \"113\": 1, \"109\": 1, \"7\": 1, \"72\": 2, \"117\": 1, \"126\": 1}, \"125\": {\"125\": 134, \"111\": 5, \"8\": 2, \"122\": 2, \"0\": 2, \"87\": 1}, \"31\": {\"31\": 9, \"90\": 2, \"116\": 1, \"63\": 1, \"102\": 3, \"82\": 2, \"72\": 2}, \"118\": {\"87\": 3, \"31\": 1, \"80\": 3, \"118\": 34, \"90\": 4, \"67\": 1, \"84\": 6, \"16\": 3, \"82\": 1, \"1\": 1, \"102\": 2, \"38\": 1, \"33\": 3, \"62\": 1, \"116\": 1, \"93\": 2, \"43\": 1}, \"53\": {\"53\": 14, \"122\": 1, \"110\": 1}, \"54\": {\"54\": 16, \"91\": 2, \"34\": 1, \"103\": 1}, \"92\": {\"92\": 28}, \"19\": {\"128\": 2, \"19\": 11, \"86\": 1, \"10\": 1, \"4\": 1, \"122\": 1, \"14\": 1, \"71\": 4, \"32\": 1, \"124\": 1, \"114\": 2, \"70\": 1, \"43\": 1}, \"27\": {\"27\": 31, \"15\": 4, \"94\": 6, \"25\": 3, \"36\": 11, \"30\": 1, \"88\": 1, \"106\": 2, \"59\": 1, \"24\": 3, \"77\": 2, \"108\": 1, \"70\": 1, \"101\": 1}, \"17\": {\"17\": 8, \"21\": 1, \"59\": 1, \"91\": 2, \"73\": 2, \"4\": 1, \"54\": 1}, \"4\": {\"4\": 65, \"32\": 3, \"7\": 9, \"5\": 3, \"122\": 3, \"16\": 1, \"66\": 1, \"73\": 1, \"71\": 1, \"107\": 1}, \"36\": {\"27\": 6, \"94\": 1, \"36\": 99, \"101\": 9, \"15\": 4, \"126\": 1, \"102\": 1, \"58\": 1, \"39\": 1, \"24\": 3, \"70\": 1, \"43\": 1}, \"90\": {\"116\": 4, \"90\": 101, \"33\": 11, \"118\": 4, \"102\": 4, \"2\": 1, \"16\": 1, \"87\": 2, \"69\": 3, \"84\": 2, \"62\": 1, \"31\": 2}, \"64\": {\"64\": 13, \"76\": 2, \"24\": 1}, \"66\": {\"66\": 17, \"74\": 1, \"28\": 1, \"104\": 1}, \"46\": {\"46\": 13, \"60\": 1, \"16\": 1, \"24\": 1}, \"86\": {\"114\": 1, \"86\": 26, \"4\": 1, \"32\": 1, \"41\": 1, \"71\": 1, \"122\": 1}, \"114\": {\"86\": 1, \"114\": 86, \"128\": 1, \"124\": 5, \"71\": 3, \"117\": 1, \"122\": 7, \"5\": 1, \"19\": 2, \"127\": 1, \"44\": 1, \"126\": 1}, \"32\": {\"74\": 1, \"114\": 3, \"32\": 9, \"85\": 1, \"75\": 1, \"122\": 2, \"95\": 3, \"29\": 1, \"107\": 1, \"7\": 1, \"67\": 1, \"73\": 2, \"41\": 2, \"34\": 2, \"100\": 1, \"98\": 1, \"71\": 1, \"101\": 1, \"4\": 1, \"5\": 1}, \"78\": {\"44\": 2, \"46\": 1, \"73\": 1, \"78\": 10, \"14\": 3, \"40\": 5, \"64\": 1, \"83\": 1, \"60\": 1, \"109\": 4, \"126\": 1, \"1\": 5, \"118\": 2, \"94\": 2, \"76\": 1, \"37\": 1, \"21\": 1, \"19\": 1, \"93\": 1, \"117\": 1, \"70\": 1, \"88\": 1, \"62\": 1}, \"33\": {\"33\": 102, \"31\": 1, \"84\": 9, \"118\": 2, \"102\": 3, \"16\": 2, \"90\": 5, \"36\": 1, \"62\": 9, \"82\": 1, \"23\": 1, \"87\": 2}, \"70\": {\"43\": 7, \"74\": 2, \"70\": 36, \"16\": 1, \"89\": 1, \"14\": 2, \"60\": 3, \"126\": 3, \"105\": 9, \"33\": 1, \"40\": 12, \"87\": 4, \"88\": 9, \"18\": 1, \"1\": 11, \"12\": 1, \"71\": 1, \"24\": 1, \"3\": 2, \"93\": 1, \"69\": 2, \"62\": 2, \"95\": 1, \"19\": 1, \"10\": 1, \"7\": 1, \"44\": 1, \"78\": 1, \"94\": 1, \"39\": 1, \"117\": 2, \"84\": 1, \"109\": 1}, \"0\": {\"0\": 83, \"24\": 1, \"30\": 8, \"12\": 1, \"101\": 7, \"108\": 1, \"15\": 4, \"39\": 2, \"125\": 1, \"26\": 1, \"69\": 2, \"8\": 2, \"127\": 1, \"124\": 1, \"70\": 1}, \"110\": {\"71\": 6, \"110\": 22, \"122\": 2, \"34\": 2, \"10\": 1, \"70\": 1, \"3\": 4, \"75\": 1, \"53\": 1}, \"2\": {\"57\": 2, \"113\": 4, \"2\": 12, \"26\": 2, \"84\": 1, \"102\": 3, \"117\": 1, \"99\": 2, \"39\": 2, \"121\": 1, \"65\": 1, \"8\": 1}, \"28\": {\"28\": 14, \"88\": 1, \"95\": 2, \"66\": 1, \"4\": 1, \"60\": 1}, \"51\": {\"51\": 20}, \"79\": {\"79\": 15, \"125\": 1}, \"42\": {\"53\": 1, \"79\": 2, \"5\": 3, \"91\": 1, \"129\": 1, \"125\": 2, \"3\": 2, \"42\": 2, \"0\": 1, \"12\": 1, \"107\": 2, \"110\": 3, \"10\": 1, \"35\": 1, \"85\": 2, \"128\": 2, \"108\": 1}, \"112\": {\"112\": 13, \"42\": 2, \"124\": 1}, \"89\": {\"89\": 32, \"92\": 2, \"72\": 2}, \"59\": {\"98\": 2, \"59\": 7, \"54\": 4, \"29\": 2, \"91\": 1}, \"105\": {\"105\": 101, \"40\": 16, \"26\": 1, \"62\": 1, \"61\": 1, \"38\": 2, \"14\": 1, \"78\": 1, \"1\": 1, \"107\": 2, \"43\": 1}, \"121\": {\"121\": 21, \"65\": 5, \"113\": 2, \"36\": 1, \"26\": 1, \"23\": 2, \"81\": 2, \"117\": 2}, \"11\": {\"11\": 56, \"23\": 1, \"48\": 1, \"101\": 1, \"8\": 4, \"12\": 1, \"122\": 2, \"108\": 4, \"42\": 2, \"49\": 2, \"126\": 1, \"88\": 1, \"98\": 2, \"127\": 1, \"18\": 1}, \"99\": {\"99\": 29, \"28\": 1, \"2\": 1, \"33\": 1}, \"25\": {\"25\": 16}, \"62\": {\"62\": 90, \"20\": 1, \"84\": 4, \"80\": 2, \"33\": 11, \"1\": 2, \"16\": 2, \"90\": 5, \"87\": 1, \"55\": 1, \"113\": 1, \"38\": 1, \"78\": 1, \"24\": 2, \"109\": 2, \"40\": 1, \"126\": 1}, \"123\": {\"123\": 15, \"10\": 1}, \"24\": {\"24\": 47, \"25\": 1, \"36\": 1, \"94\": 4, \"15\": 5, \"12\": 1, \"87\": 1, \"0\": 10, \"106\": 10, \"30\": 1, \"101\": 14, \"111\": 3, \"26\": 1, \"108\": 2, \"8\": 3, \"27\": 1, \"11\": 1, \"42\": 2, \"126\": 1, \"62\": 1, \"88\": 1, \"109\": 1}, \"80\": {\"80\": 16}, \"39\": {\"57\": 1, \"26\": 6, \"99\": 2, \"109\": 1, \"113\": 3, \"39\": 38, \"102\": 4, \"88\": 9, \"69\": 9, \"2\": 1, \"18\": 6, \"126\": 1, \"0\": 1, \"3\": 1, \"117\": 1, \"93\": 2, \"7\": 1, \"24\": 1, \"90\": 2, \"72\": 2, \"120\": 1, \"121\": 1, \"89\": 1, \"40\": 1, \"78\": 1, \"114\": 1, \"118\": 1, \"70\": 1}, \"22\": {\"22\": 14, \"80\": 1, \"72\": 2, \"61\": 1, \"14\": 1, \"126\": 1}}, \"Wisig_4\": {\"32\": {\"32\": 13, \"22\": 1, \"82\": 3, \"69\": 1, \"50\": 2, \"71\": 1, \"14\": 1, \"72\": 1, \"104\": 1, \"28\": 3, \"40\": 1}, \"22\": {\"22\": 12, \"40\": 2, \"45\": 1, \"30\": 1}, \"69\": {\"69\": 96, \"41\": 1, \"36\": 2, \"13\": 1, \"113\": 1, \"84\": 10, \"43\": 1, \"44\": 2, \"70\": 1, \"126\": 1, \"102\": 1, \"24\": 1, \"16\": 2}, \"65\": {\"65\": 12}, \"91\": {\"127\": 1, \"91\": 20, \"103\": 1, \"42\": 1, \"17\": 1}, \"63\": {\"63\": 13, \"65\": 1, \"117\": 1, \"39\": 1}, \"127\": {\"65\": 1, \"127\": 83, \"98\": 5, \"95\": 3, \"128\": 2, \"12\": 1, \"4\": 1, \"0\": 2, \"34\": 1, \"103\": 1, \"16\": 1, \"100\": 2, \"125\": 3, \"124\": 1, \"18\": 1}, \"11\": {\"22\": 1, \"11\": 52, \"3\": 7, \"110\": 10, \"20\": 2, \"73\": 1, \"74\": 1, \"5\": 11, \"72\": 5, \"122\": 1, \"43\": 5, \"36\": 1, \"87\": 18, \"126\": 2, \"81\": 1, \"14\": 4, \"93\": 2, \"45\": 2, \"1\": 2, \"16\": 1, \"82\": 2, \"32\": 1, \"39\": 1, \"99\": 1, \"107\": 1, \"105\": 2, \"26\": 1}, \"12\": {\"12\": 54, \"111\": 8, \"0\": 8, \"29\": 3, \"88\": 1, \"69\": 1, \"125\": 6, \"106\": 7, \"18\": 2, \"1\": 1, \"51\": 1, \"8\": 1, \"101\": 5, \"7\": 1, \"26\": 1}, \"111\": {\"111\": 89, \"12\": 8, \"125\": 5, \"106\": 5, \"0\": 3, \"101\": 7, \"70\": 3, \"26\": 1, \"68\": 2, \"127\": 1, \"29\": 2, \"6\": 1, \"126\": 1}, \"53\": {\"53\": 15, \"16\": 1}, \"73\": {\"73\": 17, \"51\": 1, \"14\": 1, \"17\": 1, \"99\": 1, \"10\": 1, \"114\": 1, \"5\": 1}, \"3\": {\"3\": 103, \"7\": 3, \"1\": 6, \"60\": 1, \"21\": 1, \"79\": 2, \"89\": 1, \"105\": 2, \"5\": 1, \"20\": 1, \"19\": 1, \"49\": 1, \"29\": 1, \"14\": 6, \"101\": 2, \"114\": 2, \"107\": 1, \"124\": 1}, \"83\": {\"83\": 19, \"42\": 1, \"60\": 1, \"90\": 1, \"19\": 3, \"46\": 2, \"37\": 1}, \"88\": {\"88\": 56, \"100\": 1, \"60\": 1, \"70\": 12, \"9\": 1, \"23\": 1, \"73\": 1, \"19\": 2, \"52\": 1, \"4\": 2, \"106\": 3, \"124\": 13, \"98\": 1, \"101\": 3, \"127\": 2, \"114\": 6, \"5\": 2, \"46\": 1, \"108\": 1, \"83\": 2, \"49\": 2, \"128\": 1, \"71\": 1, \"11\": 1, \"14\": 1, \"0\": 2, \"8\": 1, \"36\": 1, \"3\": 2, \"93\": 2, \"1\": 3, \"7\": 1}, \"87\": {\"22\": 2, \"87\": 51, \"115\": 2, \"45\": 1, \"104\": 1, \"50\": 1, \"110\": 7, \"40\": 6, \"107\": 8, \"82\": 1, \"49\": 1, \"108\": 1, \"72\": 2, \"5\": 11, \"14\": 4, \"105\": 3, \"93\": 1, \"3\": 4, \"7\": 4, \"11\": 18, \"128\": 1, \"99\": 1, \"60\": 1}, \"2\": {\"65\": 2, \"122\": 1, \"2\": 11, \"90\": 4, \"69\": 1, \"117\": 1, \"44\": 1, \"18\": 3, \"72\": 2, \"99\": 1, \"26\": 1}, \"86\": {\"86\": 24, \"46\": 1, \"55\": 1, \"83\": 1, \"128\": 1}, \"16\": {\"92\": 3, \"21\": 1, \"67\": 2, \"35\": 2, \"16\": 90, \"121\": 1, \"2\": 2, \"84\": 6, \"102\": 6, \"117\": 1, \"113\": 1, \"69\": 4, \"63\": 1, \"18\": 1, \"39\": 1}, \"21\": {\"21\": 32, \"10\": 1, \"49\": 3, \"62\": 1, \"18\": 1, \"63\": 1, \"87\": 1}, \"96\": {\"96\": 14, \"102\": 1, \"28\": 1, \"90\": 3, \"109\": 1}, \"100\": {\"86\": 1, \"100\": 15, \"4\": 1, \"85\": 1, \"124\": 1, \"125\": 1}, \"7\": {\"7\": 75, \"3\": 7, \"29\": 2, \"79\": 1, \"1\": 12, \"108\": 1, \"89\": 2, \"14\": 5, \"105\": 2, \"114\": 2, \"87\": 1, \"11\": 1, \"23\": 2, \"107\": 5, \"98\": 1, \"113\": 1}, \"75\": {\"75\": 14, \"68\": 1, \"15\": 1}, \"10\": {\"10\": 64, \"24\": 11, \"54\": 2, \"25\": 3, \"106\": 2, \"12\": 2, \"94\": 3, \"88\": 1, \"30\": 5, \"15\": 11, \"5\": 1, \"27\": 3, \"36\": 9, \"97\": 2, \"126\": 1, \"111\": 1, \"117\": 1, \"127\": 1, \"70\": 1}, \"43\": {\"11\": 7, \"43\": 56, \"10\": 1, \"110\": 6, \"44\": 1, \"63\": 1, \"109\": 7, \"33\": 8, \"126\": 3, \"122\": 2, \"40\": 6, \"93\": 7, \"87\": 1, \"118\": 1, \"14\": 2, \"45\": 2, \"30\": 1, \"26\": 1, \"32\": 2, \"99\": 2, \"5\": 3}, \"92\": {\"92\": 25, \"66\": 1, \"13\": 2}, \"62\": {\"62\": 26, \"96\": 1, \"33\": 4, \"44\": 4, \"113\": 1, \"102\": 3, \"88\": 1, \"118\": 8, \"107\": 1, \"11\": 1, \"43\": 1, \"84\": 1, \"92\": 1, \"60\": 1, \"69\": 4, \"90\": 2}, \"31\": {\"66\": 2, \"31\": 10, \"102\": 1, \"116\": 1, \"84\": 2}, \"0\": {\"0\": 48, \"103\": 1, \"106\": 4, \"12\": 13, \"29\": 1, \"70\": 2, \"127\": 1, \"8\": 12, \"125\": 2, \"111\": 9, \"101\": 12, \"30\": 1, \"71\": 1, \"34\": 1, \"52\": 1, \"100\": 1, \"113\": 1, \"122\": 1, \"98\": 2}, \"45\": {\"45\": 10, \"50\": 2, \"22\": 2, \"40\": 1, \"105\": 1}, \"85\": {\"85\": 22, \"4\": 1, \"54\": 1, \"34\": 1, \"95\": 3}, \"119\": {\"119\": 16}, \"46\": {\"46\": 20}, \"71\": {\"71\": 66, \"114\": 11, \"83\": 2, \"4\": 9, \"105\": 1, \"129\": 1, \"86\": 1, \"128\": 1, \"89\": 3, \"1\": 5, \"55\": 1, \"18\": 1, \"122\": 1, \"70\": 1}, \"8\": {\"8\": 98, \"12\": 6, \"101\": 8, \"0\": 6, \"98\": 2, \"30\": 1, \"71\": 1, \"10\": 1, \"88\": 1, \"15\": 1, \"113\": 1, \"126\": 1, \"27\": 2, \"106\": 3, \"26\": 1, \"111\": 1}, \"118\": {\"118\": 57, \"66\": 1, \"44\": 7, \"96\": 3, \"43\": 5, \"102\": 8, \"109\": 1, \"90\": 14, \"33\": 4, \"11\": 1, \"39\": 1, \"32\": 1, \"62\": 2, \"122\": 2, \"69\": 1, \"36\": 1, \"106\": 1, \"16\": 1, \"18\": 1}, \"1\": {\"1\": 71, \"79\": 2, \"14\": 5, \"101\": 3, \"3\": 7, \"62\": 1, \"94\": 1, \"105\": 3, \"106\": 1, \"126\": 2, \"7\": 7, \"108\": 2, \"21\": 1, \"114\": 1, \"71\": 1}, \"38\": {\"38\": 13, \"80\": 1, \"57\": 1, \"93\": 1}, \"30\": {\"9\": 1, \"30\": 45, \"15\": 8, \"108\": 2, \"24\": 5, \"10\": 6, \"8\": 1, \"6\": 2, \"69\": 1, \"123\": 1, \"109\": 1, \"5\": 1, \"94\": 2}, \"66\": {\"66\": 10, \"44\": 1, \"116\": 3, \"33\": 1, \"90\": 1}, \"9\": {\"9\": 24, \"15\": 2, \"53\": 2}, \"5\": {\"5\": 97, \"11\": 10, \"110\": 13, \"43\": 3, \"93\": 2, \"87\": 5, \"14\": 2, \"62\": 1, \"60\": 2, \"3\": 1}, \"24\": {\"10\": 14, \"24\": 56, \"30\": 6, \"101\": 1, \"94\": 13, \"27\": 6, \"18\": 1, \"26\": 1, \"36\": 12, \"70\": 1, \"15\": 5, \"9\": 2, \"8\": 1, \"111\": 1}, \"97\": {\"50\": 1, \"10\": 1, \"47\": 2, \"97\": 12, \"25\": 4}, \"67\": {\"26\": 1, \"67\": 4, \"33\": 1, \"123\": 4, \"48\": 1, \"18\": 2, \"44\": 1, \"81\": 1, \"113\": 1}, \"19\": {\"77\": 2, \"110\": 2, \"106\": 1, \"71\": 1, \"98\": 1, \"0\": 2, \"70\": 2, \"52\": 3, \"19\": 4, \"93\": 1, \"5\": 2, \"91\": 1, \"20\": 2, \"43\": 1, \"122\": 1, \"127\": 1, \"101\": 1}, \"77\": {\"77\": 12}, \"26\": {\"26\": 87, \"121\": 2, \"18\": 17, \"117\": 8, \"39\": 2, \"30\": 1, \"126\": 1}, \"115\": {\"24\": 1, \"5\": 1, \"115\": 10, \"87\": 1, \"107\": 2, \"128\": 1}, \"50\": {\"50\": 8, \"115\": 1, \"87\": 1, \"32\": 1, \"14\": 2, \"107\": 2, \"82\": 1}, \"120\": {\"71\": 2, \"120\": 17, \"114\": 1}, \"102\": {\"102\": 92, \"57\": 3, \"90\": 9, \"62\": 2, \"118\": 3, \"69\": 4, \"14\": 1, \"33\": 1, \"84\": 8, \"13\": 1, \"44\": 1, \"11\": 1, \"87\": 1, \"16\": 1}, \"29\": {\"29\": 27, \"101\": 2, \"111\": 2, \"125\": 1}, \"44\": {\"118\": 4, \"44\": 41, \"66\": 1, \"113\": 2, \"62\": 1, \"122\": 1, \"109\": 1, \"90\": 9, \"102\": 1, \"84\": 1, \"33\": 2}, \"124\": {\"124\": 102, \"55\": 2, \"96\": 1, \"128\": 2, \"95\": 1, \"98\": 2, \"101\": 4, \"114\": 1, \"4\": 1, \"85\": 1, \"34\": 1}, \"78\": {\"105\": 1, \"102\": 1, \"21\": 2, \"78\": 6, \"36\": 1, \"39\": 2, \"63\": 1, \"71\": 2, \"93\": 1, \"79\": 2, \"82\": 3, \"84\": 1, \"111\": 1, \"26\": 1, \"14\": 1, \"88\": 2, \"60\": 1, \"73\": 2, \"50\": 1, \"83\": 1, \"107\": 1, \"108\": 1, \"87\": 1}, \"104\": {\"104\": 15, \"76\": 1}, \"105\": {\"78\": 2, \"107\": 15, \"105\": 68, \"40\": 1, \"72\": 1, \"128\": 1, \"15\": 1, \"14\": 4, \"45\": 1, \"82\": 1, \"101\": 2, \"87\": 2, \"18\": 1}, \"28\": {\"107\": 2, \"28\": 16, \"1\": 1, \"50\": 1}, \"37\": {\"37\": 16}, \"107\": {\"107\": 91, \"105\": 9, \"99\": 1, \"82\": 1, \"60\": 1, \"33\": 1, \"84\": 1, \"87\": 8, \"108\": 1, \"40\": 5, \"11\": 5, \"79\": 1, \"22\": 1, \"1\": 2, \"102\": 1, \"3\": 2, \"88\": 1}, \"6\": {\"6\": 12, \"75\": 2, \"25\": 1, \"91\": 2, \"101\": 1, \"70\": 1, \"53\": 1, \"68\": 1, \"111\": 3}, \"17\": {\"28\": 2, \"17\": 15, \"104\": 3}, \"57\": {\"57\": 10, \"90\": 2, \"102\": 2, \"33\": 2}, \"121\": {\"121\": 19, \"57\": 1, \"13\": 1, \"16\": 4, \"117\": 2, \"21\": 1, \"92\": 2, \"81\": 1, \"39\": 1}, \"58\": {\"58\": 12, \"91\": 2, \"15\": 2}, \"64\": {\"64\": 16}, \"82\": {\"11\": 1, \"32\": 2, \"82\": 21, \"105\": 3, \"87\": 5}, \"39\": {\"18\": 10, \"39\": 39, \"57\": 2, \"117\": 4, \"38\": 2, \"2\": 2, \"81\": 1, \"84\": 2, \"113\": 7, \"5\": 2, \"0\": 2, \"69\": 3, \"122\": 1, \"126\": 3, \"26\": 5, \"88\": 2, \"70\": 1, \"102\": 1, \"61\": 2, \"96\": 2, \"63\": 1, \"109\": 2, \"3\": 1, \"27\": 1, \"127\": 1, \"16\": 1}, \"110\": {\"110\": 73, \"87\": 4, \"129\": 1, \"26\": 2, \"93\": 11, \"5\": 9, \"122\": 1, \"16\": 1, \"14\": 2, \"113\": 1, \"21\": 1, \"116\": 1, \"9\": 1, \"73\": 1, \"0\": 1, \"128\": 2, \"11\": 7, \"44\": 1, \"126\": 1, \"43\": 1, \"3\": 1, \"88\": 1}, \"114\": {\"114\": 98, \"120\": 2, \"83\": 1, \"11\": 1, \"71\": 8, \"1\": 2, \"14\": 2, \"118\": 2, \"125\": 1, \"128\": 1, \"119\": 1, \"39\": 1, \"4\": 3, \"3\": 3, \"124\": 2}, \"20\": {\"20\": 13, \"22\": 1, \"11\": 1, \"96\": 1}, \"117\": {\"18\": 6, \"63\": 2, \"117\": 92, \"121\": 2, \"39\": 1, \"16\": 4, \"126\": 2, \"81\": 2, \"2\": 1, \"92\": 2}, \"18\": {\"18\": 97, \"65\": 2, \"26\": 16, \"16\": 2, \"117\": 2, \"39\": 1}, \"99\": {\"99\": 34, \"40\": 2, \"11\": 2, \"32\": 1, \"33\": 1}, \"23\": {\"117\": 1, \"124\": 1, \"103\": 1, \"123\": 1, \"106\": 1, \"122\": 1, \"39\": 2, \"23\": 3, \"129\": 1, \"63\": 1, \"21\": 1, \"108\": 1, \"18\": 1}, \"128\": {\"128\": 9, \"107\": 2, \"79\": 1, \"124\": 3, \"34\": 1, \"33\": 1, \"60\": 1, \"14\": 1, \"85\": 1, \"4\": 1, \"100\": 2, \"72\": 1}, \"60\": {\"60\": 6, \"33\": 3, \"99\": 1, \"3\": 1, \"85\": 1, \"88\": 1, \"48\": 1, \"19\": 1, \"2\": 1, \"46\": 4, \"127\": 2, \"22\": 1, \"43\": 1, \"34\": 1, \"86\": 1, \"5\": 1, \"129\": 1, \"49\": 2, \"71\": 2}, \"70\": {\"128\": 2, \"70\": 54, \"88\": 8, \"26\": 1, \"98\": 10, \"48\": 1, \"78\": 1, \"19\": 4, \"49\": 2, \"0\": 3, \"106\": 3, \"127\": 3, \"110\": 1, \"118\": 1, \"114\": 2, \"8\": 3, \"111\": 4, \"93\": 1, \"112\": 3, \"83\": 1, \"100\": 2, \"1\": 1, \"12\": 3, \"101\": 1, \"126\": 1, \"109\": 1, \"124\": 1, \"113\": 1, \"27\": 1}, \"122\": {\"122\": 37, \"44\": 2, \"40\": 3, \"43\": 10, \"109\": 3, \"33\": 5, \"5\": 4, \"118\": 5, \"106\": 1, \"90\": 1, \"93\": 1, \"107\": 2, \"126\": 1, \"110\": 1, \"62\": 1, \"114\": 1, \"116\": 1, \"102\": 3, \"87\": 2}, \"101\": {\"101\": 59, \"44\": 1, \"75\": 2, \"53\": 2, \"42\": 1, \"78\": 1, \"3\": 1, \"12\": 9, \"111\": 11, \"124\": 2, \"125\": 8, \"52\": 1, \"0\": 9, \"98\": 1, \"106\": 5, \"8\": 12, \"93\": 1, \"85\": 2, \"68\": 1, \"4\": 1, \"1\": 1, \"88\": 1}, \"33\": {\"92\": 1, \"44\": 1, \"84\": 1, \"33\": 115, \"102\": 3, \"122\": 2, \"40\": 2, \"90\": 2, \"118\": 1, \"116\": 1, \"43\": 1, \"107\": 2}, \"40\": {\"40\": 107, \"115\": 1, \"99\": 3, \"74\": 1, \"87\": 5, \"39\": 1, \"72\": 2, \"33\": 4, \"18\": 1, \"117\": 1, \"113\": 1, \"88\": 1, \"108\": 1, \"107\": 1}, \"41\": {\"41\": 11, \"55\": 1, \"27\": 1, \"95\": 1, \"46\": 1, \"21\": 1}, \"59\": {\"59\": 12}, \"4\": {\"41\": 1, \"4\": 86, \"55\": 2, \"39\": 1, \"38\": 1, \"27\": 1, \"128\": 1, \"108\": 2, \"71\": 4, \"24\": 1, \"86\": 2, \"94\": 1, \"36\": 1}, \"112\": {\"112\": 15, \"27\": 1}, \"36\": {\"30\": 4, \"36\": 90, \"10\": 7, \"24\": 13, \"18\": 1, \"15\": 4, \"94\": 5, \"39\": 1, \"8\": 3}, \"48\": {\"48\": 11, \"90\": 2, \"63\": 1, \"31\": 1, \"72\": 1}, \"126\": {\"126\": 66, \"81\": 4, \"39\": 8, \"16\": 6, \"26\": 6, \"113\": 7, \"127\": 3, \"18\": 5, \"117\": 2, \"107\": 3, \"69\": 1, \"44\": 1, \"84\": 3, \"122\": 1}, \"125\": {\"77\": 2, \"125\": 106, \"75\": 2, \"111\": 1, \"113\": 1, \"8\": 4, \"106\": 2, \"98\": 2, \"18\": 1, \"102\": 1}, \"84\": {\"84\": 91, \"48\": 1, \"21\": 1, \"69\": 12, \"44\": 3, \"36\": 1, \"102\": 2, \"39\": 1, \"16\": 1, \"90\": 2, \"27\": 1, \"33\": 2, \"126\": 1, \"96\": 2, \"106\": 1, \"0\": 1, \"88\": 2, \"113\": 1, \"26\": 2}, \"80\": {\"80\": 16}, \"49\": {\"20\": 2, \"77\": 1, \"0\": 1, \"79\": 1, \"11\": 3, \"14\": 1, \"8\": 3, \"49\": 2, \"128\": 1, \"60\": 2, \"3\": 1, \"72\": 4, \"5\": 4, \"87\": 2, \"106\": 1, \"107\": 1, \"12\": 1, \"33\": 1}, \"47\": {\"54\": 1, \"47\": 9, \"6\": 2}, \"95\": {\"95\": 25, \"4\": 1, \"46\": 2, \"85\": 2, \"124\": 1, \"55\": 1}, \"54\": {\"54\": 16}, \"25\": {\"25\": 15, \"97\": 1}, \"116\": {\"116\": 21, \"69\": 2, \"66\": 1, \"90\": 2, \"44\": 2}, \"74\": {\"74\": 14, \"122\": 1, \"99\": 1}, \"35\": {\"35\": 10, \"117\": 2}, \"15\": {\"15\": 104, \"54\": 2, \"10\": 1, \"8\": 1, \"30\": 7, \"0\": 1, \"108\": 1, \"94\": 5, \"36\": 1, \"27\": 1, \"12\": 2, \"101\": 2}, \"108\": {\"5\": 7, \"41\": 1, \"108\": 38, \"73\": 2, \"88\": 5, \"3\": 3, \"109\": 1, \"49\": 1, \"71\": 3, \"114\": 3, \"94\": 1, \"93\": 6, \"127\": 1, \"122\": 1, \"8\": 1, \"36\": 1, \"18\": 1, \"27\": 1, \"110\": 3, \"31\": 1, \"30\": 1, \"83\": 1, \"70\": 1, \"63\": 1, \"84\": 1, \"23\": 1, \"19\": 1, \"11\": 2, \"14\": 2}, \"34\": {\"85\": 2, \"6\": 2, \"86\": 2, \"49\": 2, \"46\": 2, \"127\": 1, \"100\": 2, \"34\": 4, \"124\": 3, \"89\": 1, \"125\": 1, \"128\": 1, \"71\": 3, \"52\": 2, \"42\": 1, \"75\": 1, \"68\": 2}, \"81\": {\"81\": 28, \"113\": 4, \"26\": 1, \"18\": 2, \"44\": 1}, \"93\": {\"93\": 112, \"110\": 4, \"5\": 4, \"113\": 1, \"108\": 2, \"49\": 1, \"11\": 1, \"43\": 1, \"107\": 2}, \"55\": {\"55\": 15, \"86\": 1}, \"27\": {\"27\": 71, \"0\": 4, \"10\": 1, \"8\": 8, \"122\": 1, \"12\": 1, \"98\": 3, \"106\": 1, \"24\": 3, \"71\": 1, \"30\": 1, \"70\": 1, \"111\": 1, \"94\": 1, \"36\": 1, \"3\": 1}, \"109\": {\"11\": 3, \"109\": 39, \"90\": 18, \"122\": 4, \"44\": 6, \"33\": 7, \"126\": 1, \"118\": 9, \"0\": 1, \"16\": 2, \"43\": 6, \"8\": 1, \"62\": 2, \"116\": 1, \"72\": 2, \"108\": 2, \"102\": 2, \"110\": 2, \"127\": 1, \"93\": 1}, \"106\": {\"125\": 2, \"68\": 1, \"106\": 60, \"0\": 8, \"98\": 1, \"70\": 2, \"42\": 1, \"12\": 11, \"111\": 5, \"101\": 10, \"113\": 1, \"8\": 5, \"26\": 1, \"53\": 2, \"127\": 1, \"29\": 1, \"10\": 1, \"126\": 1, \"27\": 1, \"24\": 1}, \"68\": {\"77\": 1, \"68\": 10, \"91\": 2, \"111\": 1, \"121\": 1, \"98\": 1}, \"76\": {\"93\": 1, \"76\": 13, \"78\": 1, \"105\": 1}, \"103\": {\"103\": 14, \"106\": 1, \"52\": 1}, \"42\": {\"34\": 2, \"6\": 1, \"51\": 1, \"53\": 1, \"83\": 2, \"68\": 2, \"42\": 6, \"101\": 3, \"100\": 2, \"19\": 1, \"91\": 1, \"70\": 1, \"127\": 1, \"52\": 2, \"129\": 2}, \"129\": {\"0\": 1, \"129\": 6, \"73\": 1, \"90\": 1, \"5\": 3, \"14\": 2, \"98\": 1, \"110\": 1, \"20\": 1, \"91\": 2, \"79\": 1, \"87\": 1, \"34\": 1, \"43\": 1, \"41\": 1, \"3\": 2, \"29\": 2}, \"94\": {\"94\": 64, \"97\": 1, \"39\": 1, \"88\": 1, \"6\": 1, \"36\": 4, \"10\": 3, \"24\": 3, \"3\": 2, \"21\": 1, \"108\": 2, \"8\": 1, \"109\": 1, \"30\": 1, \"117\": 1, \"15\": 1}, \"123\": {\"123\": 15, \"117\": 1}, \"61\": {\"61\": 14, \"26\": 1, \"65\": 1}, \"51\": {\"39\": 1, \"51\": 2, \"111\": 2, \"121\": 1, \"27\": 3, \"58\": 1, \"63\": 1, \"21\": 1, \"98\": 1, \"53\": 1, \"106\": 2}, \"98\": {\"33\": 2, \"42\": 1, \"98\": 94, \"69\": 1, \"109\": 1, \"85\": 1, \"127\": 4, \"124\": 2, \"117\": 1, \"18\": 1, \"11\": 1, \"39\": 1, \"125\": 1, \"111\": 1, \"4\": 1, \"90\": 1, \"12\": 1, \"84\": 2, \"0\": 1}, \"56\": {\"4\": 4, \"56\": 6, \"83\": 1, \"37\": 1}, \"14\": {\"32\": 2, \"14\": 69, \"87\": 6, \"60\": 1, \"116\": 1, \"7\": 3, \"11\": 7, \"1\": 5, \"5\": 4, \"16\": 1, \"3\": 5, \"107\": 1, \"79\": 1, \"23\": 1, \"83\": 1, \"82\": 1, \"44\": 1, \"39\": 1, \"105\": 1}, \"90\": {\"90\": 118, \"109\": 2, \"96\": 2, \"62\": 1, \"44\": 2, \"118\": 4, \"102\": 5, \"18\": 1, \"66\": 2, \"84\": 1}, \"13\": {\"13\": 15, \"69\": 1}, \"89\": {\"89\": 26, \"7\": 2, \"71\": 1, \"12\": 1, \"114\": 2}, \"52\": {\"52\": 15, \"89\": 1, \"3\": 1, \"34\": 1, \"73\": 1, \"127\": 1}, \"72\": {\"82\": 1, \"72\": 21, \"11\": 5, \"14\": 1, \"105\": 1, \"87\": 2, \"124\": 1}, \"79\": {\"128\": 1, \"107\": 1, \"3\": 1, \"79\": 12, \"14\": 1}, \"113\": {\"113\": 87, \"117\": 9, \"39\": 11, \"121\": 1, \"8\": 1, \"126\": 9, \"26\": 2, \"84\": 1, \"70\": 1, \"2\": 1, \"16\": 3}}, \"Wisig_1\": {\"68\": {\"68\": 16}, \"7\": {\"7\": 118, \"122\": 9, \"43\": 15}, \"125\": {\"111\": 3, \"125\": 103, \"51\": 1, \"91\": 1, \"127\": 8, \"71\": 1, \"98\": 1}, \"111\": {\"68\": 3, \"111\": 93, \"112\": 2, \"127\": 7, \"58\": 1, \"18\": 1, \"125\": 4, \"12\": 2, \"88\": 1, \"106\": 1, \"51\": 1, \"93\": 1, \"72\": 2, \"71\": 1}, \"101\": {\"101\": 114, \"72\": 1, \"12\": 3, \"0\": 1, \"111\": 2, \"15\": 2, \"113\": 1}, \"11\": {\"11\": 70, \"60\": 1, \"3\": 13, \"100\": 1, \"82\": 4, \"102\": 5, \"118\": 1, \"33\": 6, \"39\": 1, \"90\": 15, \"1\": 1, \"28\": 1, \"80\": 1, \"65\": 1, \"109\": 2, \"42\": 1, \"122\": 2, \"43\": 4, \"7\": 4, \"16\": 1, \"69\": 1}, \"76\": {\"11\": 1, \"76\": 15}, \"5\": {\"5\": 73, \"34\": 1, \"55\": 1, \"73\": 1, \"8\": 5, \"93\": 1, \"124\": 1, \"107\": 2, \"86\": 1, \"31\": 1, \"44\": 1}, \"123\": {\"123\": 14, \"93\": 2}, \"85\": {\"85\": 25, \"55\": 1, \"86\": 1, \"83\": 1, \"92\": 2, \"124\": 2}, \"34\": {\"77\": 1, \"5\": 1, \"34\": 8, \"41\": 1, \"87\": 1, \"8\": 1, \"104\": 1, \"91\": 1, \"17\": 1, \"89\": 1, \"84\": 1, \"0\": 2, \"105\": 1, \"37\": 2, \"1\": 1, \"31\": 1, \"115\": 1, \"93\": 1, \"128\": 1, \"92\": 2, \"14\": 2}, \"42\": {\"5\": 3, \"60\": 1, \"66\": 1, \"42\": 9, \"11\": 2, \"23\": 1, \"81\": 1, \"86\": 4, \"4\": 1, \"124\": 3, \"14\": 1, \"84\": 1}, \"81\": {\"7\": 4, \"81\": 18, \"100\": 1, \"122\": 1, \"45\": 1, \"80\": 2, \"78\": 1}, \"127\": {\"125\": 5, \"111\": 6, \"23\": 1, \"127\": 86, \"58\": 1, \"36\": 1, \"51\": 1, \"72\": 2, \"6\": 1, \"106\": 2, \"88\": 1, \"110\": 1}, \"60\": {\"5\": 5, \"34\": 1, \"117\": 4, \"129\": 1, \"18\": 1, \"41\": 1, \"83\": 1, \"16\": 1, \"102\": 1}, \"77\": {\"77\": 16}, \"65\": {\"33\": 2, \"65\": 5, \"38\": 1, \"18\": 1, \"122\": 1, \"43\": 2}, \"44\": {\"44\": 72, \"10\": 2, \"73\": 1, \"31\": 1}, \"100\": {\"100\": 15, \"99\": 1}, \"80\": {\"80\": 13, \"74\": 1, \"81\": 1, \"25\": 1}, \"83\": {\"83\": 23, \"10\": 1, \"98\": 1, \"86\": 2, \"85\": 1}, \"51\": {\"51\": 15, \"103\": 1}, \"93\": {\"44\": 5, \"93\": 49, \"128\": 1, \"61\": 1, \"86\": 1, \"70\": 1, \"83\": 1, \"105\": 4, \"4\": 17, \"114\": 5, \"8\": 8, \"14\": 4, \"107\": 1, \"40\": 2, \"122\": 1, \"10\": 1, \"43\": 2, \"84\": 9, \"1\": 1, \"5\": 1, \"117\": 1, \"124\": 8, \"18\": 1, \"41\": 1, \"104\": 2, \"79\": 1, \"85\": 2, \"21\": 1, \"102\": 1, \"87\": 1}, \"31\": {\"31\": 13, \"23\": 2, \"5\": 1}, \"33\": {\"33\": 102, \"102\": 11, \"64\": 1, \"62\": 10, \"45\": 1, \"2\": 1}, \"113\": {\"113\": 113, \"18\": 2, \"69\": 1, \"16\": 4, \"121\": 1, \"43\": 1, \"117\": 2}, \"126\": {\"126\": 96, \"19\": 1, \"70\": 4, \"16\": 1, \"21\": 1, \"93\": 1, \"10\": 8, \"44\": 7, \"107\": 1, \"111\": 1, \"71\": 1, \"26\": 1, \"124\": 1}, \"10\": {\"126\": 6, \"10\": 48, \"85\": 2, \"107\": 11, \"83\": 3, \"70\": 9, \"86\": 2, \"5\": 9, \"4\": 3, \"2\": 1, \"110\": 1, \"93\": 4, \"44\": 1, \"109\": 1, \"84\": 1, \"1\": 1, \"124\": 6, \"108\": 2, \"23\": 1, \"41\": 2, \"34\": 1, \"96\": 1, \"8\": 2, \"0\": 1, \"71\": 1}, \"21\": {\"93\": 1, \"21\": 17, \"42\": 3, \"126\": 2, \"1\": 1, \"8\": 1, \"84\": 1, \"109\": 1, \"18\": 1, \"72\": 2, \"14\": 2, \"64\": 1, \"7\": 1, \"103\": 1, \"108\": 1, \"87\": 3, \"111\": 1}, \"90\": {\"90\": 120, \"99\": 3, \"3\": 2, \"26\": 1, \"11\": 4, \"102\": 1, \"62\": 1}, \"38\": {\"38\": 15, \"28\": 1}, \"96\": {\"96\": 16, \"126\": 2, \"109\": 1, \"24\": 1}, \"6\": {\"37\": 1, \"94\": 3, \"29\": 4, \"23\": 1, \"106\": 3, \"6\": 9, \"111\": 1, \"27\": 1, \"98\": 1, \"71\": 2, \"0\": 1, \"30\": 1, \"52\": 1, \"125\": 1, \"36\": 2}, \"121\": {\"113\": 4, \"121\": 18, \"117\": 1, \"63\": 2, \"26\": 4, \"95\": 1, \"123\": 1, \"118\": 1}, \"37\": {\"37\": 16}, \"88\": {\"94\": 10, \"88\": 73, \"52\": 1, \"30\": 7, \"24\": 11, \"108\": 4, \"15\": 6, \"27\": 7, \"36\": 2, \"109\": 1, \"101\": 1, \"71\": 2, \"126\": 1}, \"54\": {\"54\": 12, \"85\": 1, \"5\": 1, \"34\": 1, \"86\": 1}, \"92\": {\"92\": 27, \"37\": 1}, \"19\": {\"96\": 2, \"19\": 13, \"42\": 1, \"23\": 1, \"43\": 1, \"89\": 1, \"8\": 1, \"20\": 1, \"124\": 1, \"104\": 1, \"129\": 2, \"107\": 1, \"10\": 2}, \"47\": {\"47\": 12}, \"94\": {\"6\": 1, \"94\": 76, \"30\": 1, \"36\": 2, \"88\": 7, \"18\": 1, \"27\": 3, \"113\": 1}, \"66\": {\"66\": 15, \"65\": 1}, \"73\": {\"73\": 17, \"59\": 1, \"22\": 2}, \"75\": {\"75\": 15, \"91\": 1}, \"28\": {\"28\": 15, \"61\": 1, \"102\": 1, \"101\": 1, \"122\": 1, \"82\": 1}, \"20\": {\"20\": 14, \"64\": 2}, \"78\": {\"24\": 1, \"28\": 2, \"87\": 3, \"102\": 2, \"78\": 3, \"64\": 2, \"80\": 2, \"11\": 1}, \"71\": {\"71\": 67, \"12\": 7, \"109\": 1, \"111\": 10, \"125\": 5, \"15\": 6, \"117\": 1, \"127\": 2, \"98\": 2, \"21\": 1, \"101\": 1, \"106\": 1}, \"13\": {\"13\": 14, \"119\": 1, \"117\": 1}, \"118\": {\"118\": 56, \"26\": 9, \"95\": 1, \"117\": 3, \"16\": 9, \"18\": 1, \"39\": 1, \"63\": 2, \"88\": 1, \"113\": 1}, \"72\": {\"72\": 26, \"29\": 3, \"9\": 2, \"49\": 1}, \"24\": {\"24\": 56, \"30\": 1, \"88\": 10, \"27\": 10, \"71\": 2, \"108\": 8, \"15\": 3, \"12\": 1, \"126\": 1}, \"41\": {\"41\": 9, \"38\": 1, \"23\": 1, \"40\": 2, \"105\": 1, \"60\": 2}, \"102\": {\"102\": 92, \"61\": 1, \"60\": 1, \"2\": 1, \"116\": 4, \"62\": 12, \"33\": 7, \"69\": 1, \"127\": 1}, \"8\": {\"121\": 1, \"8\": 90, \"124\": 13, \"5\": 4, \"86\": 1, \"19\": 4, \"84\": 4, \"4\": 7, \"10\": 1, \"93\": 7, \"41\": 1, \"57\": 1, \"14\": 2, \"44\": 2}, \"39\": {\"39\": 45, \"117\": 14, \"18\": 14, \"11\": 2, \"118\": 3, \"16\": 8, \"33\": 2, \"90\": 1, \"88\": 1, \"61\": 1, \"26\": 1, \"69\": 2, \"102\": 1, \"12\": 1}, \"97\": {\"108\": 1, \"97\": 14, \"75\": 1, \"24\": 1, \"101\": 2, \"2\": 1}, \"48\": {\"57\": 1, \"22\": 1, \"48\": 9, \"87\": 1}, \"57\": {\"57\": 11, \"102\": 1}, \"29\": {\"29\": 28}, \"119\": {\"119\": 16}, \"89\": {\"89\": 33, \"10\": 1, \"31\": 1, \"34\": 1}, \"40\": {\"40\": 128, \"48\": 1, \"114\": 3, \"105\": 4, \"87\": 2, \"93\": 1, \"7\": 1}, \"22\": {\"97\": 1, \"22\": 12, \"38\": 1, \"25\": 1, \"120\": 1}, \"53\": {\"53\": 16, \"32\": 1, \"49\": 1, \"12\": 1, \"127\": 1}, \"108\": {\"97\": 3, \"108\": 73, \"112\": 1, \"53\": 1, \"24\": 2, \"88\": 5, \"15\": 6, \"101\": 9, \"12\": 7, \"126\": 1, \"71\": 5, \"1\": 1, \"70\": 1, \"11\": 1, \"27\": 1, \"106\": 1, \"109\": 2, \"0\": 1, \"43\": 2, \"127\": 1}, \"23\": {\"35\": 2, \"11\": 3, \"25\": 1, \"100\": 1, \"125\": 1, \"82\": 2, \"110\": 1, \"99\": 2, \"75\": 2, \"5\": 1, \"74\": 1, \"23\": 1, \"43\": 1, \"29\": 1, \"91\": 3, \"9\": 1}, \"109\": {\"109\": 59, \"21\": 1, \"20\": 1, \"79\": 1, \"70\": 13, \"42\": 1, \"64\": 2, \"43\": 3, \"18\": 1, \"62\": 1, \"126\": 7, \"1\": 7, \"101\": 1, \"8\": 1, \"11\": 2, \"87\": 3, \"84\": 3, \"111\": 2, \"10\": 2, \"71\": 2, \"12\": 1, \"39\": 1, \"114\": 1}, \"112\": {\"112\": 15, \"111\": 1}, \"35\": {\"89\": 2, \"35\": 10}, \"3\": {\"11\": 4, \"3\": 75, \"74\": 2, \"88\": 1, \"36\": 1, \"60\": 1, \"129\": 1, \"43\": 1, \"71\": 1, \"111\": 1}, \"103\": {\"103\": 10, \"94\": 1, \"106\": 1, \"98\": 3, \"52\": 1}, \"4\": {\"4\": 93, \"8\": 1, \"93\": 2, \"39\": 1, \"25\": 1, \"86\": 2}, \"87\": {\"87\": 50, \"22\": 3, \"78\": 1, \"40\": 8, \"45\": 2, \"48\": 1, \"1\": 8, \"128\": 3, \"43\": 5, \"108\": 1, \"84\": 4, \"7\": 3, \"114\": 6, \"14\": 3, \"93\": 1, \"46\": 1, \"85\": 1, \"4\": 2, \"105\": 3, \"70\": 2}, \"25\": {\"25\": 10, \"81\": 1, \"122\": 1, \"82\": 2, \"38\": 1, \"113\": 1}, \"15\": {\"15\": 77, \"111\": 4, \"101\": 7, \"24\": 1, \"12\": 5, \"94\": 1, \"69\": 1, \"27\": 2, \"71\": 3, \"121\": 1, \"117\": 1, \"108\": 1}, \"95\": {\"95\": 25, \"117\": 2, \"16\": 5, \"26\": 3, \"118\": 1}, \"120\": {\"81\": 1, \"120\": 13, \"48\": 1, \"40\": 1, \"105\": 2, \"123\": 1, \"121\": 1}, \"59\": {\"52\": 1, \"59\": 8, \"36\": 2, \"118\": 1}, \"49\": {\"49\": 5, \"51\": 1, \"70\": 2, \"5\": 1, \"96\": 1, \"53\": 1, \"110\": 1, \"71\": 1, \"103\": 1, \"73\": 1, \"10\": 1, \"52\": 1, \"35\": 1, \"124\": 1, \"9\": 1}, \"52\": {\"52\": 18, \"101\": 1, \"24\": 1}, \"45\": {\"87\": 1, \"78\": 1, \"7\": 1, \"1\": 1, \"47\": 1, \"92\": 1, \"84\": 2, \"82\": 1, \"114\": 1, \"93\": 1, \"24\": 1}, \"107\": {\"107\": 105, \"85\": 4, \"34\": 1, \"46\": 2, \"86\": 1, \"8\": 3, \"10\": 1, \"93\": 1, \"55\": 2, \"124\": 2, \"4\": 1, \"5\": 1}, \"106\": {\"103\": 1, \"106\": 111, \"51\": 1, \"10\": 1, \"127\": 3, \"98\": 9, \"125\": 2, \"17\": 1, \"91\": 1, \"32\": 2, \"111\": 1, \"0\": 1}, \"18\": {\"18\": 119, \"39\": 3, \"69\": 1, \"26\": 1}, \"64\": {\"64\": 15, \"14\": 1}, \"86\": {\"86\": 30, \"8\": 1, \"14\": 2, \"108\": 1, \"85\": 1, \"124\": 1}, \"14\": {\"64\": 1, \"93\": 5, \"14\": 71, \"79\": 2, \"84\": 8, \"124\": 1, \"1\": 1, \"129\": 2, \"122\": 2, \"114\": 3}, \"115\": {\"115\": 12}, \"0\": {\"103\": 2, \"0\": 51, \"29\": 1, \"98\": 10, \"89\": 3, \"110\": 9, \"91\": 2, \"86\": 1, \"94\": 1, \"106\": 4}, \"104\": {\"104\": 16}, \"61\": {\"61\": 12}, \"129\": {\"122\": 3, \"8\": 1, \"28\": 1, \"99\": 4, \"73\": 2, \"70\": 1, \"25\": 1, \"44\": 1, \"90\": 1, \"78\": 2, \"86\": 1, \"3\": 2, \"129\": 4, \"60\": 2, \"31\": 1, \"14\": 1}, \"122\": {\"129\": 1, \"25\": 1, \"78\": 2, \"60\": 1, \"122\": 41, \"14\": 2, \"11\": 1, \"7\": 14, \"74\": 2, \"114\": 3, \"40\": 3, \"26\": 1, \"1\": 2, \"43\": 6, \"90\": 1, \"82\": 3, \"28\": 2, \"93\": 1, \"39\": 1}, \"67\": {\"67\": 14, \"21\": 1, \"97\": 1}, \"128\": {\"57\": 3, \"91\": 1, \"72\": 3, \"28\": 1, \"9\": 1, \"43\": 1, \"22\": 2, \"104\": 1, \"7\": 1, \"89\": 1, \"128\": 3, \"81\": 2, \"49\": 1, \"29\": 1, \"71\": 1, \"102\": 1}, \"26\": {\"95\": 5, \"26\": 102, \"117\": 3, \"118\": 7, \"105\": 1, \"16\": 15, \"121\": 1}, \"117\": {\"117\": 113, \"63\": 3, \"118\": 5, \"16\": 10, \"26\": 4, \"39\": 1}, \"91\": {\"91\": 16, \"98\": 1, \"125\": 2, \"9\": 1, \"0\": 2, \"103\": 1, \"71\": 1, \"75\": 2, \"32\": 1, \"106\": 1}, \"12\": {\"12\": 85, \"15\": 2, \"70\": 1, \"88\": 1, \"108\": 3, \"111\": 3, \"112\": 1, \"6\": 2, \"127\": 2, \"71\": 1, \"101\": 1, \"125\": 2}, \"50\": {\"61\": 1, \"99\": 3, \"50\": 10, \"90\": 1, \"62\": 1}, \"99\": {\"99\": 19, \"129\": 1, \"90\": 3, \"11\": 1}, \"110\": {\"110\": 91, \"89\": 1, \"92\": 2, \"0\": 4, \"106\": 4, \"98\": 2}, \"43\": {\"115\": 1, \"81\": 1, \"129\": 1, \"43\": 53, \"116\": 1, \"84\": 3, \"42\": 3, \"36\": 1, \"122\": 11, \"7\": 20, \"87\": 2, \"39\": 1, \"101\": 1, \"1\": 5, \"22\": 1, \"14\": 1, \"23\": 1, \"28\": 1, \"114\": 1, \"93\": 2, \"109\": 1, \"24\": 1, \"15\": 1, \"11\": 1, \"62\": 1}, \"82\": {\"82\": 34, \"122\": 1, \"28\": 1}, \"1\": {\"1\": 84, \"60\": 1, \"87\": 3, \"14\": 1, \"84\": 2, \"114\": 1, \"42\": 1, \"93\": 1, \"43\": 1, \"88\": 1}, \"46\": {\"6\": 1, \"40\": 1, \"46\": 3, \"38\": 1, \"32\": 1, \"80\": 1, \"107\": 1, \"127\": 1, \"105\": 1, \"94\": 1}, \"16\": {\"16\": 70, \"117\": 14, \"39\": 2, \"26\": 12, \"118\": 5, \"69\": 2, \"95\": 1, \"102\": 2}, \"74\": {\"74\": 15, \"28\": 1}, \"32\": {\"32\": 13, \"0\": 1, \"111\": 4, \"125\": 3, \"127\": 1, \"106\": 4, \"103\": 1, \"112\": 1, \"51\": 2, \"71\": 1, \"30\": 1}, \"62\": {\"62\": 74, \"67\": 1, \"102\": 10, \"33\": 20, \"90\": 6, \"69\": 3, \"70\": 1, \"11\": 2, \"76\": 1, \"119\": 1, \"94\": 1}, \"27\": {\"27\": 56, \"56\": 2, \"112\": 2, \"30\": 5, \"126\": 1, \"94\": 8, \"88\": 8, \"15\": 2, \"6\": 2, \"69\": 1, \"21\": 1, \"101\": 2, \"24\": 2}, \"17\": {\"17\": 10, \"34\": 2, \"37\": 2, \"89\": 2}, \"36\": {\"36\": 126, \"24\": 1, \"27\": 2, \"101\": 2, \"39\": 1, \"88\": 2}, \"2\": {\"39\": 4, \"66\": 1, \"90\": 3, \"2\": 12, \"116\": 2, \"102\": 4, \"18\": 4, \"69\": 1, \"82\": 1}, \"70\": {\"73\": 2, \"70\": 40, \"27\": 1, \"8\": 10, \"23\": 1, \"55\": 1, \"9\": 1, \"104\": 2, \"124\": 4, \"102\": 1, \"110\": 2, \"126\": 5, \"5\": 8, \"107\": 6, \"93\": 4, \"0\": 1, \"98\": 2, \"118\": 1, \"11\": 1, \"44\": 6, \"10\": 9, \"24\": 1, \"109\": 3, \"106\": 3, \"71\": 2, \"113\": 1, \"18\": 3, \"108\": 1, \"129\": 1, \"89\": 1, \"35\": 2, \"2\": 1, \"3\": 1}, \"9\": {\"9\": 31, \"29\": 1}, \"114\": {\"84\": 10, \"114\": 98, \"87\": 7, \"1\": 2, \"105\": 3, \"40\": 7, \"20\": 1, \"48\": 1, \"42\": 1}, \"79\": {\"79\": 7, \"14\": 1, \"128\": 1, \"19\": 1, \"84\": 1, \"93\": 1}, \"56\": {\"17\": 1, \"34\": 1, \"56\": 8, \"101\": 1, \"92\": 1}, \"124\": {\"124\": 76, \"8\": 15, \"14\": 2, \"107\": 1, \"5\": 5, \"10\": 1, \"93\": 1, \"70\": 1}, \"84\": {\"14\": 8, \"84\": 102, \"93\": 4, \"114\": 10, \"87\": 6, \"1\": 3, \"105\": 1}, \"69\": {\"69\": 99, \"16\": 1, \"118\": 2, \"39\": 1, \"13\": 1, \"65\": 1, \"102\": 2, \"18\": 1}, \"58\": {\"58\": 11, \"112\": 1}, \"30\": {\"24\": 5, \"94\": 1, \"30\": 35, \"27\": 4, \"126\": 2, \"88\": 1, \"58\": 1, \"15\": 1, \"36\": 2}, \"55\": {\"55\": 9, \"86\": 1, \"5\": 2}, \"105\": {\"105\": 60, \"48\": 2, \"114\": 8, \"40\": 8, \"43\": 2, \"122\": 2, \"41\": 2}, \"63\": {\"117\": 2, \"63\": 10, \"118\": 3, \"26\": 1}, \"98\": {\"98\": 82, \"111\": 1, \"110\": 14, \"0\": 3, \"106\": 6, \"103\": 2}, \"116\": {\"116\": 17, \"2\": 1, \"33\": 3, \"102\": 2, \"90\": 2, \"80\": 1, \"18\": 1, \"62\": 1, \"67\": 1, \"28\": 1, \"60\": 1, \"3\": 1}}, \"Wisig_3\": {\"76\": {\"76\": 16}, \"6\": {\"46\": 1, \"54\": 1, \"58\": 2, \"6\": 7, \"77\": 1, \"111\": 5, \"72\": 1, \"68\": 3, \"15\": 1, \"124\": 1, \"94\": 3, \"98\": 1, \"36\": 1, \"97\": 1, \"69\": 1, \"101\": 1, \"125\": 1}, \"108\": {\"46\": 3, \"124\": 8, \"85\": 1, \"108\": 60, \"127\": 3, \"94\": 2, \"10\": 14, \"98\": 4, \"70\": 6, \"8\": 3, \"12\": 1, \"114\": 1}, \"29\": {\"29\": 21, \"116\": 1, \"90\": 1, \"30\": 1, \"33\": 1, \"44\": 1, \"102\": 1, \"31\": 1, \"84\": 1, \"87\": 2, \"11\": 1}, \"83\": {\"83\": 24}, \"18\": {\"18\": 125, \"88\": 1, \"78\": 1, \"81\": 1}, \"54\": {\"94\": 1, \"54\": 15}, \"15\": {\"15\": 83, \"30\": 4, \"0\": 11, \"106\": 3, \"125\": 2, \"94\": 1}, \"100\": {\"100\": 12, \"16\": 1, \"1\": 1, \"107\": 2}, \"90\": {\"90\": 102, \"45\": 2, \"44\": 7, \"105\": 1, \"87\": 11, \"16\": 1, \"109\": 1, \"11\": 6, \"84\": 2, \"79\": 1, \"18\": 1, \"14\": 1}, \"26\": {\"121\": 1, \"26\": 112, \"117\": 10, \"39\": 2, \"5\": 1, \"113\": 1, \"18\": 1, \"67\": 1, \"2\": 2, \"43\": 1}, \"115\": {\"115\": 11, \"29\": 1, \"57\": 1, \"74\": 2, \"22\": 1}, \"94\": {\"94\": 74, \"24\": 2, \"36\": 2, \"125\": 2, \"0\": 2, \"30\": 1, \"102\": 1}, \"46\": {\"46\": 14, \"34\": 2}, \"121\": {\"121\": 21, \"63\": 1, \"113\": 3, \"26\": 1, \"117\": 3, \"2\": 1, \"81\": 1, \"18\": 1}, \"109\": {\"76\": 2, \"109\": 50, \"118\": 10, \"102\": 7, \"80\": 2, \"82\": 2, \"33\": 17, \"69\": 3, \"10\": 1, \"62\": 7, \"114\": 1, \"117\": 1, \"93\": 4, \"90\": 1, \"113\": 1, \"5\": 2, \"101\": 1, \"84\": 2, \"63\": 1, \"119\": 1, \"64\": 1, \"44\": 1, \"92\": 1, \"43\": 4, \"39\": 2, \"16\": 2, \"11\": 1}, \"101\": {\"101\": 30, \"58\": 3, \"111\": 1, \"0\": 1, \"73\": 3, \"8\": 2, \"36\": 1, \"15\": 3, \"59\": 3, \"72\": 2, \"6\": 2, \"106\": 1}, \"99\": {\"99\": 34, \"95\": 1, \"3\": 1}, \"8\": {\"8\": 101, \"47\": 2, \"12\": 6, \"10\": 2, \"106\": 4, \"30\": 2, \"26\": 1, \"98\": 1, \"52\": 1, \"97\": 1, \"111\": 1, \"0\": 1, \"117\": 1, \"124\": 3, \"15\": 1}, \"102\": {\"102\": 81, \"118\": 3, \"33\": 14, \"69\": 1, \"62\": 1, \"43\": 1, \"109\": 3}, \"122\": {\"113\": 1, \"122\": 32, \"84\": 1, \"103\": 3, \"17\": 1, \"105\": 1, \"4\": 2, \"1\": 3, \"32\": 2, \"26\": 1, \"107\": 3, \"127\": 1, \"40\": 1, \"48\": 1, \"126\": 1, \"129\": 1, \"128\": 2, \"88\": 1, \"14\": 2}, \"36\": {\"54\": 1, \"36\": 99, \"27\": 5, \"24\": 4, \"0\": 4, \"124\": 1, \"108\": 1, \"10\": 1}, \"113\": {\"123\": 2, \"113\": 95, \"26\": 5, \"117\": 7, \"39\": 4, \"126\": 1, \"4\": 1, \"81\": 1, \"109\": 1, \"33\": 2, \"11\": 1}, \"123\": {\"123\": 12, \"39\": 2, \"117\": 2}, \"120\": {\"120\": 18, \"123\": 2}, \"125\": {\"125\": 97, \"101\": 2, \"111\": 3, \"124\": 1, \"15\": 1, \"118\": 1, \"98\": 1, \"12\": 2}, \"89\": {\"89\": 25, \"30\": 1, \"120\": 2}, \"9\": {\"9\": 27, \"56\": 2, \"66\": 2, \"95\": 1}, \"31\": {\"31\": 18, \"90\": 2}, \"62\": {\"62\": 85, \"69\": 2, \"116\": 4, \"82\": 1, \"33\": 8, \"117\": 2, \"84\": 9, \"126\": 1, \"90\": 1, \"110\": 1}, \"49\": {\"23\": 1, \"101\": 2, \"14\": 2, \"19\": 1, \"118\": 1, \"1\": 1, \"49\": 2, \"22\": 1, \"113\": 1, \"87\": 1, \"72\": 1, \"16\": 1, \"50\": 1, \"42\": 1, \"92\": 1, \"6\": 2, \"60\": 2, \"11\": 2}, \"23\": {\"18\": 4, \"128\": 1, \"23\": 5, \"85\": 2, \"70\": 1, \"46\": 1, \"26\": 3, \"98\": 3, \"113\": 1, \"34\": 1, \"117\": 2, \"2\": 2, \"95\": 1, \"126\": 2, \"89\": 1, \"108\": 1, \"19\": 1}, \"55\": {\"55\": 13, \"57\": 2, \"122\": 1}, \"128\": {\"49\": 1, \"57\": 1, \"128\": 3, \"50\": 1, \"95\": 1, \"42\": 1, \"85\": 4, \"122\": 2, \"124\": 3, \"1\": 3, \"107\": 4, \"111\": 1, \"12\": 2, \"37\": 1, \"98\": 1, \"14\": 1, \"72\": 1, \"105\": 1}, \"71\": {\"71\": 55, \"3\": 1, \"86\": 1, \"7\": 1, \"5\": 4, \"26\": 1, \"100\": 1, \"114\": 2, \"4\": 1, \"127\": 1}, \"51\": {\"51\": 16}, \"7\": {\"7\": 93, \"71\": 2, \"99\": 2, \"5\": 2, \"127\": 4, \"9\": 3}, \"117\": {\"117\": 84, \"67\": 1, \"26\": 10, \"39\": 2, \"113\": 5, \"2\": 2}, \"28\": {\"28\": 10, \"87\": 1, \"62\": 1, \"107\": 1, \"44\": 1, \"1\": 1, \"32\": 1}, \"127\": {\"128\": 1, \"127\": 117, \"9\": 2, \"46\": 2, \"7\": 1, \"5\": 2, \"19\": 2, \"17\": 1}, \"57\": {\"57\": 16, \"50\": 1, \"100\": 2, \"28\": 1}, \"78\": {\"23\": 2, \"29\": 1, \"101\": 2, \"78\": 6, \"22\": 1, \"54\": 1, \"40\": 1, \"87\": 1, \"92\": 1}, \"87\": {\"40\": 11, \"90\": 12, \"48\": 2, \"87\": 61, \"44\": 5, \"84\": 10, \"107\": 2, \"93\": 5, \"14\": 2, \"11\": 5, \"16\": 2, \"62\": 1, \"78\": 1, \"117\": 1}, \"40\": {\"40\": 114, \"79\": 2, \"70\": 1, \"117\": 1, \"90\": 3, \"74\": 4, \"49\": 1, \"107\": 2}, \"81\": {\"81\": 30, \"18\": 2}, \"2\": {\"96\": 3, \"117\": 2, \"67\": 1, \"120\": 1, \"2\": 8, \"26\": 1, \"118\": 1, \"18\": 2, \"63\": 2, \"121\": 2, \"31\": 1, \"80\": 2, \"33\": 2}, \"58\": {\"58\": 16}, \"68\": {\"68\": 13, \"52\": 2, \"63\": 1}, \"20\": {\"20\": 8, \"122\": 2, \"129\": 3, \"60\": 1, \"125\": 1, \"1\": 1}, \"35\": {\"35\": 11, \"91\": 1}, \"96\": {\"96\": 19, \"43\": 1}, \"84\": {\"84\": 88, \"44\": 6, \"16\": 1, \"90\": 4, \"87\": 3, \"11\": 1, \"62\": 2, \"116\": 1, \"31\": 2}, \"13\": {\"88\": 1, \"13\": 7, \"69\": 2, \"64\": 2, \"119\": 2, \"43\": 1, \"26\": 1}, \"64\": {\"64\": 18, \"109\": 1, \"102\": 1}, \"112\": {\"112\": 9, \"42\": 3, \"75\": 1, \"101\": 1, \"94\": 1, \"108\": 1}, \"103\": {\"103\": 13, \"53\": 1, \"114\": 1, \"105\": 1}, \"65\": {\"65\": 10, \"127\": 1, \"63\": 1}, \"118\": {\"118\": 57, \"64\": 1, \"69\": 5, \"109\": 12, \"96\": 1, \"92\": 2, \"43\": 1, \"102\": 10, \"33\": 9, \"90\": 1, \"62\": 1}, \"88\": {\"88\": 46, \"5\": 7, \"9\": 1, \"21\": 5, \"14\": 1, \"110\": 8, \"128\": 1, \"127\": 3, \"1\": 5, \"24\": 1, \"11\": 2, \"126\": 1, \"70\": 2, \"3\": 6, \"109\": 1, \"10\": 3, \"0\": 2, \"27\": 2, \"105\": 1, \"103\": 1, \"16\": 1, \"66\": 1, \"129\": 1, \"7\": 1, \"62\": 1, \"71\": 1, \"122\": 1, \"87\": 1, \"114\": 4, \"15\": 1}, \"85\": {\"85\": 35, \"124\": 1}, \"5\": {\"5\": 88, \"3\": 6, \"86\": 1, \"128\": 2, \"21\": 1, \"7\": 3, \"105\": 2, \"18\": 1, \"88\": 1, \"4\": 2, \"71\": 4, \"114\": 1}, \"93\": {\"93\": 128, \"11\": 5, \"113\": 1, \"16\": 2, \"84\": 1, \"109\": 1}, \"43\": {\"117\": 5, \"43\": 25, \"39\": 4, \"109\": 7, \"26\": 2, \"69\": 2, \"64\": 2, \"92\": 1, \"118\": 2, \"102\": 1, \"81\": 1, \"33\": 1, \"16\": 1, \"113\": 1, \"11\": 1}, \"67\": {\"67\": 13, \"109\": 2, \"10\": 1}, \"48\": {\"48\": 2, \"82\": 1, \"71\": 1, \"66\": 2, \"64\": 1, \"7\": 2, \"43\": 1, \"9\": 3, \"69\": 3}, \"73\": {\"73\": 31, \"58\": 1, \"101\": 1, \"84\": 1, \"106\": 2, \"10\": 1, \"69\": 1, \"125\": 2}, \"34\": {\"28\": 1, \"34\": 4, \"37\": 1, \"129\": 1, \"23\": 1, \"107\": 2, \"68\": 4, \"66\": 1, \"122\": 1, \"111\": 4, \"92\": 1, \"48\": 2, \"50\": 1, \"53\": 1, \"77\": 2, \"95\": 1, \"35\": 1, \"72\": 2, \"73\": 1}, \"91\": {\"34\": 2, \"91\": 16, \"68\": 2, \"124\": 2, \"119\": 1, \"35\": 1}, \"105\": {\"105\": 118, \"17\": 1, \"53\": 1, \"114\": 1, \"4\": 2, \"1\": 1}, \"10\": {\"34\": 1, \"112\": 1, \"10\": 42, \"52\": 2, \"37\": 1, \"85\": 2, \"77\": 1, \"108\": 12, \"98\": 11, \"106\": 1, \"70\": 6, \"124\": 11, \"5\": 3, \"12\": 4, \"125\": 2, \"65\": 1, \"8\": 1, \"39\": 1, \"127\": 3}, \"61\": {\"61\": 12, \"81\": 2, \"18\": 2}, \"74\": {\"74\": 14, \"82\": 1, \"38\": 1}, \"4\": {\"4\": 80, \"129\": 1, \"28\": 1, \"3\": 2, \"105\": 5, \"114\": 1, \"7\": 2, \"86\": 1, \"71\": 1, \"110\": 1, \"98\": 1}, \"37\": {\"37\": 16}, \"19\": {\"19\": 6, \"53\": 2, \"124\": 3, \"37\": 1, \"129\": 3, \"60\": 2, \"14\": 3, \"85\": 3, \"122\": 4, \"51\": 1, \"103\": 1, \"125\": 1, \"28\": 2}, \"44\": {\"44\": 56, \"14\": 1, \"116\": 1, \"29\": 5, \"109\": 1, \"87\": 1, \"90\": 1, \"115\": 1, \"11\": 1, \"84\": 3, \"118\": 1}, \"52\": {\"52\": 13, \"72\": 1, \"111\": 1, \"124\": 1}, \"92\": {\"92\": 29, \"80\": 2, \"109\": 1}, \"33\": {\"33\": 100, \"92\": 1, \"118\": 3, \"102\": 14, \"69\": 4, \"62\": 4, \"40\": 1, \"117\": 1}, \"45\": {\"34\": 1, \"45\": 8, \"107\": 1, \"1\": 1, \"22\": 2, \"60\": 1, \"50\": 1, \"17\": 1}, \"11\": {\"11\": 36, \"29\": 5, \"68\": 2, \"90\": 19, \"79\": 3, \"109\": 1, \"121\": 1, \"40\": 4, \"129\": 1, \"27\": 1, \"44\": 5, \"16\": 8, \"87\": 7, \"84\": 8, \"93\": 17, \"62\": 2, \"22\": 3, \"32\": 1, \"14\": 1, \"43\": 1, \"107\": 2}, \"129\": {\"34\": 2, \"53\": 1, \"129\": 14, \"19\": 1, \"3\": 1, \"100\": 2, \"60\": 3, \"107\": 1, \"114\": 2, \"71\": 1, \"11\": 1, \"5\": 2, \"7\": 1}, \"116\": {\"116\": 21, \"44\": 2, \"62\": 2, \"26\": 1, \"84\": 2}, \"75\": {\"75\": 16}, \"41\": {\"41\": 16}, \"21\": {\"21\": 44, \"69\": 1, \"110\": 1, \"126\": 1, \"15\": 1}, \"69\": {\"69\": 68, \"61\": 1, \"119\": 2, \"43\": 2, \"117\": 1, \"109\": 3, \"33\": 1, \"102\": 3, \"92\": 1, \"26\": 1, \"126\": 1}, \"16\": {\"16\": 79, \"44\": 1, \"11\": 11, \"39\": 1, \"93\": 6, \"90\": 5, \"87\": 3, \"126\": 1, \"84\": 1}, \"25\": {\"25\": 12, \"58\": 2, \"27\": 2}, \"12\": {\"12\": 85, \"111\": 7, \"98\": 3, \"94\": 1, \"10\": 2, \"125\": 1, \"108\": 1, \"124\": 3, \"88\": 1}, \"72\": {\"72\": 19, \"12\": 2, \"110\": 1, \"6\": 2, \"111\": 1, \"98\": 2, \"125\": 1}, \"0\": {\"0\": 96, \"83\": 1, \"30\": 3, \"101\": 1, \"15\": 7, \"36\": 1, \"106\": 2, \"94\": 2, \"42\": 1, \"126\": 1, \"14\": 1}, \"50\": {\"107\": 2, \"50\": 12, \"100\": 2}, \"107\": {\"53\": 1, \"50\": 2, \"107\": 112, \"14\": 11, \"92\": 1, \"1\": 4, \"40\": 1, \"102\": 1, \"28\": 1, \"32\": 4, \"118\": 1, \"90\": 1}, \"124\": {\"124\": 109, \"98\": 10, \"10\": 1, \"5\": 1, \"77\": 1, \"47\": 1, \"127\": 1}, \"53\": {\"53\": 12, \"122\": 2, \"55\": 2, \"1\": 2, \"117\": 1, \"114\": 1}, \"66\": {\"66\": 12, \"103\": 1, \"9\": 1, \"7\": 2}, \"47\": {\"47\": 11, \"112\": 1}, \"24\": {\"24\": 28, \"25\": 1, \"30\": 10, \"36\": 6, \"15\": 1, \"27\": 1, \"39\": 1}, \"95\": {\"95\": 29, \"39\": 1, \"105\": 2}, \"98\": {\"98\": 78, \"111\": 5, \"85\": 2, \"44\": 1, \"12\": 5, \"125\": 2, \"10\": 1, \"124\": 9, \"72\": 1, \"51\": 1, \"113\": 1}, \"63\": {\"63\": 15, \"123\": 1}, \"3\": {\"3\": 85, \"128\": 2, \"1\": 2, \"127\": 3, \"5\": 12, \"7\": 4, \"4\": 1, \"114\": 1, \"71\": 5, \"18\": 1}, \"14\": {\"14\": 70, \"50\": 1, \"107\": 6, \"90\": 1, \"45\": 2}, \"1\": {\"1\": 86, \"32\": 2, \"122\": 3, \"107\": 11, \"105\": 3, \"14\": 1, \"114\": 1, \"53\": 1}, \"38\": {\"38\": 16}, \"110\": {\"110\": 74, \"88\": 4, \"18\": 2, \"3\": 4, \"5\": 4, \"129\": 1, \"114\": 1, \"12\": 1, \"126\": 1}, \"17\": {\"67\": 1, \"66\": 1, \"82\": 1, \"95\": 3, \"7\": 4, \"64\": 1, \"65\": 1, \"34\": 2, \"4\": 1, \"92\": 1}, \"30\": {\"30\": 56, \"97\": 2, \"94\": 6, \"0\": 7, \"15\": 3, \"106\": 2, \"8\": 1, \"36\": 1, \"102\": 1, \"23\": 1, \"24\": 1, \"125\": 2, \"87\": 1}, \"56\": {\"9\": 2, \"56\": 6, \"41\": 2, \"46\": 1, \"75\": 1}, \"27\": {\"27\": 58, \"83\": 2, \"0\": 4, \"36\": 17, \"70\": 1, \"12\": 1, \"106\": 1, \"25\": 2, \"24\": 2, \"30\": 1, \"126\": 1, \"15\": 3, \"39\": 1, \"94\": 2}, \"104\": {\"104\": 16}, \"97\": {\"112\": 2, \"30\": 1, \"97\": 12, \"42\": 1, \"15\": 1, \"58\": 1, \"83\": 1, \"101\": 1}, \"42\": {\"42\": 5, \"56\": 1, \"25\": 1, \"125\": 2, \"97\": 2, \"108\": 6, \"15\": 3, \"49\": 1, \"59\": 1, \"112\": 2, \"58\": 2, \"72\": 2}, \"39\": {\"96\": 2, \"39\": 49, \"43\": 3, \"123\": 1, \"81\": 3, \"121\": 4, \"126\": 6, \"26\": 4, \"117\": 13, \"109\": 5, \"69\": 1, \"18\": 2, \"113\": 8, \"93\": 1, \"2\": 2, \"23\": 1, \"11\": 1, \"71\": 1, \"118\": 1}, \"70\": {\"10\": 7, \"70\": 20, \"98\": 1, \"53\": 1, \"108\": 7, \"110\": 2, \"3\": 2, \"127\": 8, \"88\": 8, \"5\": 2, \"8\": 3, \"49\": 1, \"112\": 2, \"23\": 1, \"72\": 2, \"46\": 2, \"126\": 1, \"129\": 1, \"124\": 1}, \"86\": {\"86\": 22, \"114\": 1, \"3\": 2, \"127\": 2, \"4\": 1}, \"119\": {\"119\": 15, \"69\": 1}, \"77\": {\"77\": 14, \"124\": 2}, \"59\": {\"59\": 9, \"42\": 1, \"12\": 1, \"72\": 1}, \"22\": {\"79\": 2, \"45\": 3, \"22\": 6, \"40\": 2, \"50\": 1, \"84\": 1, \"115\": 1}, \"79\": {\"79\": 11, \"74\": 1}, \"80\": {\"80\": 16}, \"111\": {\"111\": 115, \"72\": 3, \"125\": 5, \"98\": 1, \"102\": 1, \"12\": 6, \"73\": 1}, \"82\": {\"82\": 27, \"62\": 1}, \"126\": {\"126\": 92, \"39\": 7, \"113\": 4, \"26\": 2, \"18\": 12, \"62\": 1, \"5\": 1, \"21\": 1, \"81\": 1, \"117\": 3}, \"32\": {\"32\": 25, \"45\": 1, \"107\": 4, \"94\": 1, \"105\": 1}, \"106\": {\"106\": 91, \"109\": 1, \"73\": 3, \"15\": 1, \"8\": 1, \"101\": 1, \"18\": 1, \"0\": 1}, \"60\": {\"57\": 1, \"93\": 1, \"122\": 1, \"60\": 7, \"44\": 1, \"129\": 1, \"74\": 1, \"90\": 2, \"32\": 1, \"16\": 1, \"110\": 2, \"127\": 1, \"22\": 1, \"1\": 1, \"14\": 1, \"3\": 1, \"87\": 2, \"128\": 1, \"29\": 1}, \"114\": {\"60\": 2, \"114\": 74, \"4\": 4, \"3\": 9, \"1\": 4, \"105\": 3, \"8\": 1, \"103\": 1, \"20\": 1, \"128\": 2, \"129\": 1, \"16\": 1, \"7\": 2, \"93\": 1, \"5\": 1, \"39\": 1}}}, \"per_domain_accuracy\": {\"ORACLE.run18\": {\"accuracy\": 0.5442708333333334, \"source?\": true}, \"ORACLE.run138\": {\"accuracy\": 0.6294270833333333, \"source?\": true}, \"ORACLE.run126\": {\"accuracy\": 0.4421875, \"source?\": true}, \"ORACLE.run120\": {\"accuracy\": 0.4401041666666667, \"source?\": true}, \"ORACLE.run150\": {\"accuracy\": 0.6934895833333333, \"source?\": true}, \"ORACLE.run132\": {\"accuracy\": 0.6723958333333333, \"source?\": true}, \"ORACLE.run144\": {\"accuracy\": 0.6442708333333333, \"source?\": true}, \"ORACLE.run114\": {\"accuracy\": 0.703125, \"source?\": true}, \"Wisig_2\": {\"accuracy\": 0.6716123949579832, \"source?\": false}, \"Wisig_4\": {\"accuracy\": 0.652906378600823, \"source?\": false}, \"Wisig_1\": {\"accuracy\": 0.7159574468085106, \"source?\": false}, \"Wisig_3\": {\"accuracy\": 0.7276982378854625, \"source?\": false}}}, \"history\": {\"epoch_indices\": [1, 2, 3, 4, 5, 6, 7, 8, 9, 10, 11, 12, 13, 14, 15, 16, 17, 18, 19, 20, 21, 22], \"train_label_loss\": [1.677061312193317, 1.0211985016640808, 0.8545937672390469, 0.7418321706953326, 0.644367053449553, 0.5603058241562741, 0.485963322002984, 0.4212023836097658, 0.3655708189111292, 0.3209432972305443, 0.2843209322096386, 0.25031976184933835, 0.2261156623258839, 0.20747937458573212, 0.1886395754399148, 0.1716645237763909, 0.16257782103862373, 0.15098843239673745, 0.1410448142556561, 0.1343613597526222, 0.12472242316047132, 0.12225343381585498], \"source_val_label_loss\": [1.2079616785049438, 1.0769797563552856, 1.0484193563461304, 1.067516803741455, 1.1131969690322876, 1.1771467924118042, 1.236232042312622, 1.333308219909668, 1.4145005941390991, 1.508233904838562, 1.5780677795410156, 1.7064143419265747, 1.7488428354263306, 1.8102288246154785, 1.8945785760879517, 1.948880672454834, 2.0015041828155518, 2.0453386306762695, 2.1360700130462646, 2.1785855293273926, 2.1984617710113525, 2.2242677211761475], \"target_val_label_loss\": [5.002399444580078, 6.05365514755249, 7.652620315551758, 8.858802795410156, 9.579109191894531, 10.836524963378906, 11.501863479614258, 13.217901229858398, 14.265799522399902, 15.225885391235352, 16.636701583862305, 17.950124740600586, 18.495492935180664, 19.316659927368164, 20.03447914123535, 20.7453556060791, 21.983171463012695, 22.61964988708496, 23.14525604248047, 23.81272315979004, 24.08780288696289, 25.150150299072266], \"source_val_acc_label\": [0.5384765625, 0.5875325520833333, 0.606640625, 0.6190755208333333, 0.6078776041666667, 0.6083333333333333, 0.601171875, 0.60380859375, 0.6044921875, 0.6004557291666667, 0.6038411458333334, 0.5966471354166667, 0.5966145833333333, 0.5962565104166667, 0.5924479166666666, 0.5913411458333333, 0.5912109375, 0.5961588541666667, 0.5958658854166666, 0.5920572916666667, 0.5945963541666667, 0.59794921875], \"target_val_acc_label\": [0.62476802757158, 0.6440548780487805, 0.6647004241781548, 0.6755037115588547, 0.6682462884411453, 0.6723886532343585, 0.6776246023329798, 0.6739130434782609, 0.6798780487804879, 0.6807396606574762, 0.6816344114528102, 0.6740787380699894, 0.6830925238600212, 0.6830925238600212, 0.6838215800636267, 0.6811041887592789, 0.6873011664899258, 0.6913441145281018, 0.6896871686108166, 0.6824297454931071, 0.688626723223754, 0.6909133085896076]}, \"dataset_metrics\": {\"source\": {\"train\": {\"n_unique_x\": 179200, \"n_unique_y\": 16, \"n_batch/episode\": 6720}, \"val\": {\"n_unique_x\": 38400, \"n_unique_y\": 16, \"n_batch/episode\": 960}, \"test\": {\"n_unique_x\": 38400, \"n_unique_y\": 16, \"n_batch/episode\": 960}}, \"target\": {\"train\": {\"n_unique_x\": 188974, \"n_unique_y\": 130, \"n_batch/episode\": 6847}, \"val\": {\"n_unique_x\": 40019, \"n_unique_y\": 130, \"n_batch/episode\": 943}, \"test\": {\"n_unique_x\": 40738, \"n_unique_y\": 130, \"n_batch/episode\": 960}}}}'"
      ]
     },
     "execution_count": 29,
     "metadata": {},
     "output_type": "execute_result"
    }
   ],
   "source": [
    "json.dumps(experiment)"
   ]
  }
 ],
 "metadata": {
  "celltoolbar": "Tags",
  "kernelspec": {
   "display_name": "Python 3 (ipykernel)",
   "language": "python",
   "name": "python3"
  },
  "language_info": {
   "codemirror_mode": {
    "name": "ipython",
    "version": 3
   },
   "file_extension": ".py",
   "mimetype": "text/x-python",
   "name": "python",
   "nbconvert_exporter": "python",
   "pygments_lexer": "ipython3",
   "version": "3.8.12"
  },
  "papermill": {
   "default_parameters": {},
   "duration": 3647.433002,
   "end_time": "2022-03-23T02:04:49.023736",
   "environment_variables": {},
   "exception": null,
   "input_path": "/root/csc500-main/csc500-notebooks/templates/tl_ptn_template.ipynb",
   "output_path": "trial.ipynb",
   "parameters": {
    "parameters": {
     "BEST_MODEL_PATH": "./best_model.pth",
     "NUM_LOGS_PER_EPOCH": 10,
     "criteria_for_best": "target_accuracy",
     "dataset_seed": 154325,
     "datasets": [
      {
       "domain_prefix": "Wisig_",
       "domains": [
        1,
        2,
        3,
        4
       ],
       "episode_transforms": [],
       "labels": [
        "1-10",
        "1-12",
        "1-14",
        "1-16",
        "1-18",
        "1-19",
        "1-8",
        "10-11",
        "10-17",
        "10-4",
        "10-7",
        "11-1",
        "11-10",
        "11-19",
        "11-20",
        "11-4",
        "11-7",
        "12-19",
        "12-20",
        "12-7",
        "13-14",
        "13-18",
        "13-19",
        "13-20",
        "13-3",
        "13-7",
        "14-10",
        "14-11",
        "14-12",
        "14-13",
        "14-14",
        "14-19",
        "14-20",
        "14-7",
        "14-8",
        "14-9",
        "15-1",
        "15-19",
        "15-6",
        "16-1",
        "16-16",
        "16-19",
        "16-20",
        "17-10",
        "17-11",
        "18-1",
        "18-10",
        "18-11",
        "18-12",
        "18-13",
        "18-14",
        "18-15",
        "18-16",
        "18-17",
        "18-19",
        "18-2",
        "18-20",
        "18-4",
        "18-5",
        "18-7",
        "18-8",
        "18-9",
        "19-1",
        "19-10",
        "19-11",
        "19-12",
        "19-13",
        "19-14",
        "19-15",
        "19-19",
        "19-2",
        "19-20",
        "19-3",
        "19-4",
        "19-6",
        "19-7",
        "19-8",
        "19-9",
        "2-1",
        "2-13",
        "2-15",
        "2-3",
        "2-4",
        "2-5",
        "2-6",
        "2-7",
        "2-8",
        "20-1",
        "20-12",
        "20-14",
        "20-15",
        "20-16",
        "20-18",
        "20-19",
        "20-20",
        "20-3",
        "20-4",
        "20-5",
        "20-7",
        "20-8",
        "3-1",
        "3-13",
        "3-18",
        "3-2",
        "3-8",
        "4-1",
        "4-10",
        "4-11",
        "5-1",
        "5-5",
        "6-1",
        "6-15",
        "6-6",
        "7-10",
        "7-11",
        "7-12",
        "7-13",
        "7-14",
        "7-7",
        "7-8",
        "7-9",
        "8-1",
        "8-13",
        "8-14",
        "8-18",
        "8-20",
        "8-3",
        "8-8",
        "9-1",
        "9-7"
       ],
       "num_examples_per_domain_per_label": -1,
       "pickle_path": "/root/csc500-main/datasets/wisig.node3-19.stratified_ds.2022A.pkl",
       "source_or_target_dataset": "target",
       "x_transforms": [
        "unit_mag"
       ]
      },
      {
       "domain_prefix": "ORACLE.run1",
       "domains": [
        32,
        38,
        8,
        44,
        14,
        50,
        20,
        26
       ],
       "episode_transforms": [],
       "labels": [
        "3123D52",
        "3123D65",
        "3123D79",
        "3123D80",
        "3123D54",
        "3123D70",
        "3123D7B",
        "3123D89",
        "3123D58",
        "3123D76",
        "3123D7D",
        "3123EFE",
        "3123D64",
        "3123D78",
        "3123D7E",
        "3124E4A"
       ],
       "num_examples_per_domain_per_label": 2000,
       "pickle_path": "/root/csc500-main/datasets/oracle.Run1_10kExamples_stratified_ds.2022A.pkl",
       "source_or_target_dataset": "source",
       "x_transforms": [
        "unit_mag"
       ]
      }
     ],
     "device": "cuda",
     "experiment_name": "tl_1v2:wisig-oracle.run1.limited",
     "lr": 0.0001,
     "n_epoch": 50,
     "n_query": 2,
     "n_shot": 3,
     "n_way": 16,
     "patience": 3,
     "seed": 154325,
     "test_k_factor": 2,
     "torch_default_dtype": "torch.float32",
     "train_k_factor": 3,
     "val_k_factor": 2,
     "x_net": [
      {
       "class": "nnReshape",
       "kargs": {
        "shape": [
         -1,
         1,
         2,
         256
        ]
       }
      },
      {
       "class": "Conv2d",
       "kargs": {
        "bias": false,
        "in_channels": 1,
        "kernel_size": [
         1,
         7
        ],
        "out_channels": 256,
        "padding": [
         0,
         3
        ]
       }
      },
      {
       "class": "ReLU",
       "kargs": {
        "inplace": true
       }
      },
      {
       "class": "BatchNorm2d",
       "kargs": {
        "num_features": 256
       }
      },
      {
       "class": "Conv2d",
       "kargs": {
        "bias": true,
        "in_channels": 256,
        "kernel_size": [
         2,
         7
        ],
        "out_channels": 80,
        "padding": [
         0,
         3
        ]
       }
      },
      {
       "class": "ReLU",
       "kargs": {
        "inplace": true
       }
      },
      {
       "class": "BatchNorm2d",
       "kargs": {
        "num_features": 80
       }
      },
      {
       "class": "Flatten",
       "kargs": {}
      },
      {
       "class": "Linear",
       "kargs": {
        "in_features": 20480,
        "out_features": 256
       }
      },
      {
       "class": "ReLU",
       "kargs": {
        "inplace": true
       }
      },
      {
       "class": "BatchNorm1d",
       "kargs": {
        "num_features": 256
       }
      },
      {
       "class": "Linear",
       "kargs": {
        "in_features": 256,
        "out_features": 256
       }
      }
     ]
    }
   },
   "start_time": "2022-03-23T01:04:01.590734",
   "version": "2.3.4"
  }
 },
 "nbformat": 4,
 "nbformat_minor": 5
}