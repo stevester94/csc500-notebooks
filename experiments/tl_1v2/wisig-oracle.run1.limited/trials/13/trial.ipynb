{
 "cells": [
  {
   "cell_type": "markdown",
   "id": "9fea5f46",
   "metadata": {
    "papermill": {
     "duration": 0.03232,
     "end_time": "2022-03-22T23:34:13.982457",
     "exception": false,
     "start_time": "2022-03-22T23:34:13.950137",
     "status": "completed"
    },
    "tags": []
   },
   "source": [
    "# Transfer Learning Template"
   ]
  },
  {
   "cell_type": "code",
   "execution_count": 1,
   "id": "0902182a",
   "metadata": {
    "execution": {
     "iopub.execute_input": "2022-03-22T23:34:14.045178Z",
     "iopub.status.busy": "2022-03-22T23:34:14.044282Z",
     "iopub.status.idle": "2022-03-22T23:34:15.922794Z",
     "shell.execute_reply": "2022-03-22T23:34:15.921928Z"
    },
    "papermill": {
     "duration": 1.918477,
     "end_time": "2022-03-22T23:34:15.922989",
     "exception": false,
     "start_time": "2022-03-22T23:34:14.004512",
     "status": "completed"
    },
    "tags": []
   },
   "outputs": [],
   "source": [
    "%load_ext autoreload\n",
    "%autoreload 2\n",
    "%matplotlib inline\n",
    "\n",
    "    \n",
    "import os, json, sys, time, random\n",
    "import numpy as np\n",
    "import torch\n",
    "from torch.optim import Adam\n",
    "from  easydict import EasyDict\n",
    "import matplotlib.pyplot as plt\n",
    "\n",
    "from steves_models.steves_ptn import Steves_Prototypical_Network\n",
    "\n",
    "from steves_utils.lazy_iterable_wrapper import Lazy_Iterable_Wrapper\n",
    "from steves_utils.iterable_aggregator import Iterable_Aggregator\n",
    "from steves_utils.ptn_train_eval_test_jig import  PTN_Train_Eval_Test_Jig\n",
    "from steves_utils.torch_sequential_builder import build_sequential\n",
    "from steves_utils.torch_utils import get_dataset_metrics, ptn_confusion_by_domain_over_dataloader\n",
    "from steves_utils.utils_v2 import (per_domain_accuracy_from_confusion, get_datasets_base_path)\n",
    "from steves_utils.PTN.utils import independent_accuracy_assesment\n",
    "\n",
    "from torch.utils.data import DataLoader\n",
    "\n",
    "from steves_utils.stratified_dataset.episodic_accessor import Episodic_Accessor_Factory\n",
    "\n",
    "from steves_utils.ptn_do_report import (\n",
    "    get_loss_curve,\n",
    "    get_results_table,\n",
    "    get_parameters_table,\n",
    "    get_domain_accuracies,\n",
    ")\n",
    "\n",
    "from steves_utils.transforms import get_chained_transform"
   ]
  },
  {
   "cell_type": "markdown",
   "id": "41c840b4",
   "metadata": {
    "papermill": {
     "duration": 0.019882,
     "end_time": "2022-03-22T23:34:15.966439",
     "exception": false,
     "start_time": "2022-03-22T23:34:15.946557",
     "status": "completed"
    },
    "tags": []
   },
   "source": [
    "# Allowed Parameters\n",
    "These are allowed parameters, not defaults\n",
    "Each of these values need to be present in the injected parameters (the notebook will raise an exception if they are not present)\n",
    "\n",
    "Papermill uses the cell tag \"parameters\" to inject the real parameters below this cell.\n",
    "Enable tags to see what I mean"
   ]
  },
  {
   "cell_type": "code",
   "execution_count": 2,
   "id": "fd44eb83",
   "metadata": {
    "execution": {
     "iopub.execute_input": "2022-03-22T23:34:16.011339Z",
     "iopub.status.busy": "2022-03-22T23:34:16.010958Z",
     "iopub.status.idle": "2022-03-22T23:34:16.032140Z",
     "shell.execute_reply": "2022-03-22T23:34:16.032446Z"
    },
    "papermill": {
     "duration": 0.046312,
     "end_time": "2022-03-22T23:34:16.032539",
     "exception": false,
     "start_time": "2022-03-22T23:34:15.986227",
     "status": "completed"
    },
    "tags": []
   },
   "outputs": [],
   "source": [
    "required_parameters = {\n",
    "    \"experiment_name\",\n",
    "    \"lr\",\n",
    "    \"device\",\n",
    "    \"seed\",\n",
    "    \"dataset_seed\",\n",
    "    \"n_shot\",\n",
    "    \"n_query\",\n",
    "    \"n_way\",\n",
    "    \"train_k_factor\",\n",
    "    \"val_k_factor\",\n",
    "    \"test_k_factor\",\n",
    "    \"n_epoch\",\n",
    "    \"patience\",\n",
    "    \"criteria_for_best\",\n",
    "    \"x_net\",\n",
    "    \"datasets\",\n",
    "    \"torch_default_dtype\",\n",
    "    \"NUM_LOGS_PER_EPOCH\",\n",
    "    \"BEST_MODEL_PATH\",\n",
    "    \"x_shape\",\n",
    "}"
   ]
  },
  {
   "cell_type": "code",
   "execution_count": 3,
   "id": "fa3f0049",
   "metadata": {
    "execution": {
     "iopub.execute_input": "2022-03-22T23:34:16.087370Z",
     "iopub.status.busy": "2022-03-22T23:34:16.086958Z",
     "iopub.status.idle": "2022-03-22T23:34:16.105488Z",
     "shell.execute_reply": "2022-03-22T23:34:16.105788Z"
    },
    "papermill": {
     "duration": 0.053388,
     "end_time": "2022-03-22T23:34:16.105870",
     "exception": false,
     "start_time": "2022-03-22T23:34:16.052482",
     "status": "completed"
    },
    "tags": [
     "parameters"
    ]
   },
   "outputs": [],
   "source": [
    "from steves_utils.CORES.utils import (\n",
    "    ALL_NODES,\n",
    "    ALL_NODES_MINIMUM_1000_EXAMPLES,\n",
    "    ALL_DAYS\n",
    ")\n",
    "\n",
    "from steves_utils.ORACLE.utils_v2 import (\n",
    "    ALL_DISTANCES_FEET_NARROWED,\n",
    "    ALL_RUNS,\n",
    "    ALL_SERIAL_NUMBERS,\n",
    ")\n",
    "\n",
    "standalone_parameters = {}\n",
    "standalone_parameters[\"experiment_name\"] = \"STANDALONE PTN\"\n",
    "standalone_parameters[\"lr\"] = 0.001\n",
    "standalone_parameters[\"device\"] = \"cuda\"\n",
    "\n",
    "standalone_parameters[\"seed\"] = 1337\n",
    "standalone_parameters[\"dataset_seed\"] = 1337\n",
    "\n",
    "standalone_parameters[\"n_way\"] = 8\n",
    "standalone_parameters[\"n_shot\"] = 3\n",
    "standalone_parameters[\"n_query\"]  = 2\n",
    "standalone_parameters[\"train_k_factor\"] = 1\n",
    "standalone_parameters[\"val_k_factor\"] = 2\n",
    "standalone_parameters[\"test_k_factor\"] = 2\n",
    "\n",
    "\n",
    "standalone_parameters[\"n_epoch\"] = 50\n",
    "\n",
    "standalone_parameters[\"patience\"] = 10\n",
    "standalone_parameters[\"criteria_for_best\"] = \"source_loss\"\n",
    "\n",
    "standalone_parameters[\"datasets\"] = [\n",
    "    {\n",
    "        \"labels\": ALL_SERIAL_NUMBERS,\n",
    "        \"domains\": ALL_DISTANCES_FEET_NARROWED,\n",
    "        \"num_examples_per_domain_per_label\": 100,\n",
    "        \"pickle_path\": os.path.join(get_datasets_base_path(), \"oracle.Run1_framed_2000Examples_stratified_ds.2022A.pkl\"),\n",
    "        \"source_or_target_dataset\": \"source\",\n",
    "        \"x_transforms\": [\"unit_mag\", \"minus_two\"],\n",
    "        \"episode_transforms\": [],\n",
    "        \"domain_prefix\": \"ORACLE_\"\n",
    "    },\n",
    "    {\n",
    "        \"labels\": ALL_NODES,\n",
    "        \"domains\": ALL_DAYS,\n",
    "        \"num_examples_per_domain_per_label\": 100,\n",
    "        \"pickle_path\": os.path.join(get_datasets_base_path(), \"cores.stratified_ds.2022A.pkl\"),\n",
    "        \"source_or_target_dataset\": \"target\",\n",
    "        \"x_transforms\": [\"unit_power\", \"times_zero\"],\n",
    "        \"episode_transforms\": [],\n",
    "        \"domain_prefix\": \"CORES_\"\n",
    "    }   \n",
    "]\n",
    "\n",
    "standalone_parameters[\"torch_default_dtype\"] = \"torch.float32\" \n",
    "\n",
    "\n",
    "\n",
    "standalone_parameters[\"x_net\"] =     [\n",
    "    {\"class\": \"nnReshape\", \"kargs\": {\"shape\":[-1, 1, 2, 256]}},\n",
    "    {\"class\": \"Conv2d\", \"kargs\": { \"in_channels\":1, \"out_channels\":256, \"kernel_size\":(1,7), \"bias\":False, \"padding\":(0,3), },},\n",
    "    {\"class\": \"ReLU\", \"kargs\": {\"inplace\": True}},\n",
    "    {\"class\": \"BatchNorm2d\", \"kargs\": {\"num_features\":256}},\n",
    "\n",
    "    {\"class\": \"Conv2d\", \"kargs\": { \"in_channels\":256, \"out_channels\":80, \"kernel_size\":(2,7), \"bias\":True, \"padding\":(0,3), },},\n",
    "    {\"class\": \"ReLU\", \"kargs\": {\"inplace\": True}},\n",
    "    {\"class\": \"BatchNorm2d\", \"kargs\": {\"num_features\":80}},\n",
    "    {\"class\": \"Flatten\", \"kargs\": {}},\n",
    "\n",
    "    {\"class\": \"Linear\", \"kargs\": {\"in_features\": 80*256, \"out_features\": 256}}, # 80 units per IQ pair\n",
    "    {\"class\": \"ReLU\", \"kargs\": {\"inplace\": True}},\n",
    "    {\"class\": \"BatchNorm1d\", \"kargs\": {\"num_features\":256}},\n",
    "\n",
    "    {\"class\": \"Linear\", \"kargs\": {\"in_features\": 256, \"out_features\": 256}},\n",
    "]\n",
    "\n",
    "# Parameters relevant to results\n",
    "# These parameters will basically never need to change\n",
    "standalone_parameters[\"NUM_LOGS_PER_EPOCH\"] = 10\n",
    "standalone_parameters[\"BEST_MODEL_PATH\"] = \"./best_model.pth\"\n",
    "\n",
    "\n",
    "\n",
    "\n"
   ]
  },
  {
   "cell_type": "code",
   "execution_count": 4,
   "id": "54ecc2b9",
   "metadata": {
    "execution": {
     "iopub.execute_input": "2022-03-22T23:34:16.162756Z",
     "iopub.status.busy": "2022-03-22T23:34:16.161731Z",
     "iopub.status.idle": "2022-03-22T23:34:16.180218Z",
     "shell.execute_reply": "2022-03-22T23:34:16.180849Z"
    },
    "papermill": {
     "duration": 0.055557,
     "end_time": "2022-03-22T23:34:16.181030",
     "exception": false,
     "start_time": "2022-03-22T23:34:16.125473",
     "status": "completed"
    },
    "tags": [
     "injected-parameters"
    ]
   },
   "outputs": [],
   "source": [
    "# Parameters\n",
    "parameters = {\n",
    "    \"experiment_name\": \"tl_1v2:wisig-oracle.run1.limited\",\n",
    "    \"device\": \"cuda\",\n",
    "    \"lr\": 0.0001,\n",
    "    \"n_shot\": 3,\n",
    "    \"n_query\": 2,\n",
    "    \"train_k_factor\": 3,\n",
    "    \"val_k_factor\": 2,\n",
    "    \"test_k_factor\": 2,\n",
    "    \"torch_default_dtype\": \"torch.float32\",\n",
    "    \"n_epoch\": 50,\n",
    "    \"patience\": 3,\n",
    "    \"criteria_for_best\": \"target_accuracy\",\n",
    "    \"x_net\": [\n",
    "        {\"class\": \"nnReshape\", \"kargs\": {\"shape\": [-1, 1, 2, 256]}},\n",
    "        {\n",
    "            \"class\": \"Conv2d\",\n",
    "            \"kargs\": {\n",
    "                \"in_channels\": 1,\n",
    "                \"out_channels\": 256,\n",
    "                \"kernel_size\": [1, 7],\n",
    "                \"bias\": False,\n",
    "                \"padding\": [0, 3],\n",
    "            },\n",
    "        },\n",
    "        {\"class\": \"ReLU\", \"kargs\": {\"inplace\": True}},\n",
    "        {\"class\": \"BatchNorm2d\", \"kargs\": {\"num_features\": 256}},\n",
    "        {\n",
    "            \"class\": \"Conv2d\",\n",
    "            \"kargs\": {\n",
    "                \"in_channels\": 256,\n",
    "                \"out_channels\": 80,\n",
    "                \"kernel_size\": [2, 7],\n",
    "                \"bias\": True,\n",
    "                \"padding\": [0, 3],\n",
    "            },\n",
    "        },\n",
    "        {\"class\": \"ReLU\", \"kargs\": {\"inplace\": True}},\n",
    "        {\"class\": \"BatchNorm2d\", \"kargs\": {\"num_features\": 80}},\n",
    "        {\"class\": \"Flatten\", \"kargs\": {}},\n",
    "        {\"class\": \"Linear\", \"kargs\": {\"in_features\": 20480, \"out_features\": 256}},\n",
    "        {\"class\": \"ReLU\", \"kargs\": {\"inplace\": True}},\n",
    "        {\"class\": \"BatchNorm1d\", \"kargs\": {\"num_features\": 256}},\n",
    "        {\"class\": \"Linear\", \"kargs\": {\"in_features\": 256, \"out_features\": 256}},\n",
    "    ],\n",
    "    \"NUM_LOGS_PER_EPOCH\": 10,\n",
    "    \"BEST_MODEL_PATH\": \"./best_model.pth\",\n",
    "    \"n_way\": 16,\n",
    "    \"datasets\": [\n",
    "        {\n",
    "            \"labels\": [\n",
    "                \"1-10\",\n",
    "                \"1-12\",\n",
    "                \"1-14\",\n",
    "                \"1-16\",\n",
    "                \"1-18\",\n",
    "                \"1-19\",\n",
    "                \"1-8\",\n",
    "                \"10-11\",\n",
    "                \"10-17\",\n",
    "                \"10-4\",\n",
    "                \"10-7\",\n",
    "                \"11-1\",\n",
    "                \"11-10\",\n",
    "                \"11-19\",\n",
    "                \"11-20\",\n",
    "                \"11-4\",\n",
    "                \"11-7\",\n",
    "                \"12-19\",\n",
    "                \"12-20\",\n",
    "                \"12-7\",\n",
    "                \"13-14\",\n",
    "                \"13-18\",\n",
    "                \"13-19\",\n",
    "                \"13-20\",\n",
    "                \"13-3\",\n",
    "                \"13-7\",\n",
    "                \"14-10\",\n",
    "                \"14-11\",\n",
    "                \"14-12\",\n",
    "                \"14-13\",\n",
    "                \"14-14\",\n",
    "                \"14-19\",\n",
    "                \"14-20\",\n",
    "                \"14-7\",\n",
    "                \"14-8\",\n",
    "                \"14-9\",\n",
    "                \"15-1\",\n",
    "                \"15-19\",\n",
    "                \"15-6\",\n",
    "                \"16-1\",\n",
    "                \"16-16\",\n",
    "                \"16-19\",\n",
    "                \"16-20\",\n",
    "                \"17-10\",\n",
    "                \"17-11\",\n",
    "                \"18-1\",\n",
    "                \"18-10\",\n",
    "                \"18-11\",\n",
    "                \"18-12\",\n",
    "                \"18-13\",\n",
    "                \"18-14\",\n",
    "                \"18-15\",\n",
    "                \"18-16\",\n",
    "                \"18-17\",\n",
    "                \"18-19\",\n",
    "                \"18-2\",\n",
    "                \"18-20\",\n",
    "                \"18-4\",\n",
    "                \"18-5\",\n",
    "                \"18-7\",\n",
    "                \"18-8\",\n",
    "                \"18-9\",\n",
    "                \"19-1\",\n",
    "                \"19-10\",\n",
    "                \"19-11\",\n",
    "                \"19-12\",\n",
    "                \"19-13\",\n",
    "                \"19-14\",\n",
    "                \"19-15\",\n",
    "                \"19-19\",\n",
    "                \"19-2\",\n",
    "                \"19-20\",\n",
    "                \"19-3\",\n",
    "                \"19-4\",\n",
    "                \"19-6\",\n",
    "                \"19-7\",\n",
    "                \"19-8\",\n",
    "                \"19-9\",\n",
    "                \"2-1\",\n",
    "                \"2-13\",\n",
    "                \"2-15\",\n",
    "                \"2-3\",\n",
    "                \"2-4\",\n",
    "                \"2-5\",\n",
    "                \"2-6\",\n",
    "                \"2-7\",\n",
    "                \"2-8\",\n",
    "                \"20-1\",\n",
    "                \"20-12\",\n",
    "                \"20-14\",\n",
    "                \"20-15\",\n",
    "                \"20-16\",\n",
    "                \"20-18\",\n",
    "                \"20-19\",\n",
    "                \"20-20\",\n",
    "                \"20-3\",\n",
    "                \"20-4\",\n",
    "                \"20-5\",\n",
    "                \"20-7\",\n",
    "                \"20-8\",\n",
    "                \"3-1\",\n",
    "                \"3-13\",\n",
    "                \"3-18\",\n",
    "                \"3-2\",\n",
    "                \"3-8\",\n",
    "                \"4-1\",\n",
    "                \"4-10\",\n",
    "                \"4-11\",\n",
    "                \"5-1\",\n",
    "                \"5-5\",\n",
    "                \"6-1\",\n",
    "                \"6-15\",\n",
    "                \"6-6\",\n",
    "                \"7-10\",\n",
    "                \"7-11\",\n",
    "                \"7-12\",\n",
    "                \"7-13\",\n",
    "                \"7-14\",\n",
    "                \"7-7\",\n",
    "                \"7-8\",\n",
    "                \"7-9\",\n",
    "                \"8-1\",\n",
    "                \"8-13\",\n",
    "                \"8-14\",\n",
    "                \"8-18\",\n",
    "                \"8-20\",\n",
    "                \"8-3\",\n",
    "                \"8-8\",\n",
    "                \"9-1\",\n",
    "                \"9-7\",\n",
    "            ],\n",
    "            \"domains\": [1, 2, 3, 4],\n",
    "            \"num_examples_per_domain_per_label\": -1,\n",
    "            \"pickle_path\": \"/root/csc500-main/datasets/wisig.node3-19.stratified_ds.2022A.pkl\",\n",
    "            \"source_or_target_dataset\": \"source\",\n",
    "            \"x_transforms\": [\"unit_mag\"],\n",
    "            \"episode_transforms\": [],\n",
    "            \"domain_prefix\": \"Wisig_\",\n",
    "        },\n",
    "        {\n",
    "            \"labels\": [\n",
    "                \"3123D52\",\n",
    "                \"3123D65\",\n",
    "                \"3123D79\",\n",
    "                \"3123D80\",\n",
    "                \"3123D54\",\n",
    "                \"3123D70\",\n",
    "                \"3123D7B\",\n",
    "                \"3123D89\",\n",
    "                \"3123D58\",\n",
    "                \"3123D76\",\n",
    "                \"3123D7D\",\n",
    "                \"3123EFE\",\n",
    "                \"3123D64\",\n",
    "                \"3123D78\",\n",
    "                \"3123D7E\",\n",
    "                \"3124E4A\",\n",
    "            ],\n",
    "            \"domains\": [32, 38, 8, 44, 14, 50, 20, 26],\n",
    "            \"num_examples_per_domain_per_label\": 2000,\n",
    "            \"pickle_path\": \"/root/csc500-main/datasets/oracle.Run1_10kExamples_stratified_ds.2022A.pkl\",\n",
    "            \"source_or_target_dataset\": \"target\",\n",
    "            \"x_transforms\": [\"unit_mag\"],\n",
    "            \"episode_transforms\": [],\n",
    "            \"domain_prefix\": \"ORACLE.run1\",\n",
    "        },\n",
    "    ],\n",
    "    \"dataset_seed\": 154325,\n",
    "    \"seed\": 154325,\n",
    "}\n"
   ]
  },
  {
   "cell_type": "code",
   "execution_count": 5,
   "id": "8fa1cc33",
   "metadata": {
    "execution": {
     "iopub.execute_input": "2022-03-22T23:34:16.232926Z",
     "iopub.status.busy": "2022-03-22T23:34:16.232338Z",
     "iopub.status.idle": "2022-03-22T23:34:16.251331Z",
     "shell.execute_reply": "2022-03-22T23:34:16.252017Z"
    },
    "papermill": {
     "duration": 0.046831,
     "end_time": "2022-03-22T23:34:16.252196",
     "exception": false,
     "start_time": "2022-03-22T23:34:16.205365",
     "status": "completed"
    },
    "tags": []
   },
   "outputs": [],
   "source": [
    "# Set this to True if you want to run this template directly\n",
    "STANDALONE = False\n",
    "if STANDALONE:\n",
    "    print(\"parameters not injected, running with standalone_parameters\")\n",
    "    parameters = standalone_parameters\n",
    "\n",
    "if not 'parameters' in locals() and not 'parameters' in globals():\n",
    "    raise Exception(\"Parameter injection failed\")\n",
    "\n",
    "#Use an easy dict for all the parameters\n",
    "p = EasyDict(parameters)\n",
    "\n",
    "if \"x_shape\" not in p:\n",
    "    p.x_shape = [2,256] # Default to this if we dont supply x_shape\n",
    "\n",
    "\n",
    "supplied_keys = set(p.keys())\n",
    "\n",
    "if  supplied_keys != required_parameters:\n",
    "    print(\"Parameters are incorrect\")\n",
    "    if len(supplied_keys - required_parameters)>0: print(\"Shouldn't have:\", str(supplied_keys - required_parameters))\n",
    "    if len(required_parameters - supplied_keys)>0: print(\"Need to have:\", str(required_parameters - supplied_keys))\n",
    "    raise RuntimeError(\"Parameters are incorrect\")"
   ]
  },
  {
   "cell_type": "code",
   "execution_count": 6,
   "id": "3a028d58",
   "metadata": {
    "execution": {
     "iopub.execute_input": "2022-03-22T23:34:16.304991Z",
     "iopub.status.busy": "2022-03-22T23:34:16.304465Z",
     "iopub.status.idle": "2022-03-22T23:34:16.327062Z",
     "shell.execute_reply": "2022-03-22T23:34:16.327751Z"
    },
    "papermill": {
     "duration": 0.047027,
     "end_time": "2022-03-22T23:34:16.327929",
     "exception": false,
     "start_time": "2022-03-22T23:34:16.280902",
     "status": "completed"
    },
    "tags": []
   },
   "outputs": [],
   "source": [
    "###################################\n",
    "# Set the RNGs and make it all deterministic\n",
    "###################################\n",
    "np.random.seed(p.seed)\n",
    "random.seed(p.seed)\n",
    "torch.manual_seed(p.seed)\n",
    "\n",
    "torch.use_deterministic_algorithms(True) "
   ]
  },
  {
   "cell_type": "code",
   "execution_count": 7,
   "id": "b691acf6",
   "metadata": {
    "execution": {
     "iopub.execute_input": "2022-03-22T23:34:16.379818Z",
     "iopub.status.busy": "2022-03-22T23:34:16.378975Z",
     "iopub.status.idle": "2022-03-22T23:34:16.400763Z",
     "shell.execute_reply": "2022-03-22T23:34:16.401433Z"
    },
    "papermill": {
     "duration": 0.044643,
     "end_time": "2022-03-22T23:34:16.401618",
     "exception": false,
     "start_time": "2022-03-22T23:34:16.356975",
     "status": "completed"
    },
    "tags": []
   },
   "outputs": [],
   "source": [
    "###########################################\n",
    "# The stratified datasets honor this\n",
    "###########################################\n",
    "torch.set_default_dtype(eval(p.torch_default_dtype))"
   ]
  },
  {
   "cell_type": "code",
   "execution_count": 8,
   "id": "b5fba671",
   "metadata": {
    "execution": {
     "iopub.execute_input": "2022-03-22T23:34:16.449450Z",
     "iopub.status.busy": "2022-03-22T23:34:16.449084Z",
     "iopub.status.idle": "2022-03-22T23:34:16.498617Z",
     "shell.execute_reply": "2022-03-22T23:34:16.499255Z"
    },
    "papermill": {
     "duration": 0.072003,
     "end_time": "2022-03-22T23:34:16.499437",
     "exception": false,
     "start_time": "2022-03-22T23:34:16.427434",
     "status": "completed"
    },
    "tags": []
   },
   "outputs": [],
   "source": [
    "###################################\n",
    "# Build the network(s)\n",
    "# Note: It's critical to do this AFTER setting the RNG\n",
    "###################################\n",
    "x_net = build_sequential(p.x_net)"
   ]
  },
  {
   "cell_type": "code",
   "execution_count": 9,
   "id": "5d7e61cc",
   "metadata": {
    "execution": {
     "iopub.execute_input": "2022-03-22T23:34:16.548885Z",
     "iopub.status.busy": "2022-03-22T23:34:16.548402Z",
     "iopub.status.idle": "2022-03-22T23:34:16.573952Z",
     "shell.execute_reply": "2022-03-22T23:34:16.573239Z"
    },
    "papermill": {
     "duration": 0.049234,
     "end_time": "2022-03-22T23:34:16.574104",
     "exception": false,
     "start_time": "2022-03-22T23:34:16.524870",
     "status": "completed"
    },
    "tags": []
   },
   "outputs": [],
   "source": [
    "start_time_secs = time.time()"
   ]
  },
  {
   "cell_type": "code",
   "execution_count": 10,
   "id": "c6b67dfd",
   "metadata": {
    "execution": {
     "iopub.execute_input": "2022-03-22T23:34:16.623005Z",
     "iopub.status.busy": "2022-03-22T23:34:16.622644Z",
     "iopub.status.idle": "2022-03-22T23:34:16.642343Z",
     "shell.execute_reply": "2022-03-22T23:34:16.643016Z"
    },
    "papermill": {
     "duration": 0.044143,
     "end_time": "2022-03-22T23:34:16.643195",
     "exception": false,
     "start_time": "2022-03-22T23:34:16.599052",
     "status": "completed"
    },
    "tags": []
   },
   "outputs": [],
   "source": [
    "p.domains_source = []\n",
    "p.domains_target = []\n",
    "\n",
    "\n",
    "train_original_source = []\n",
    "val_original_source   = []\n",
    "test_original_source  = []\n",
    "\n",
    "train_original_target = []\n",
    "val_original_target   = []\n",
    "test_original_target  = []"
   ]
  },
  {
   "cell_type": "code",
   "execution_count": 11,
   "id": "e3d9c3d3",
   "metadata": {
    "execution": {
     "iopub.execute_input": "2022-03-22T23:34:16.694115Z",
     "iopub.status.busy": "2022-03-22T23:34:16.693752Z",
     "iopub.status.idle": "2022-03-22T23:34:16.713273Z",
     "shell.execute_reply": "2022-03-22T23:34:16.713942Z"
    },
    "papermill": {
     "duration": 0.043338,
     "end_time": "2022-03-22T23:34:16.714123",
     "exception": false,
     "start_time": "2022-03-22T23:34:16.670785",
     "status": "completed"
    },
    "tags": []
   },
   "outputs": [],
   "source": [
    "# global_x_transform_func = lambda x: normalize(x.to(torch.get_default_dtype()), \"unit_power\") # unit_power, unit_mag\n",
    "# global_x_transform_func = lambda x: normalize(x, \"unit_power\") # unit_power, unit_mag"
   ]
  },
  {
   "cell_type": "code",
   "execution_count": 12,
   "id": "acb78fd2",
   "metadata": {
    "execution": {
     "iopub.execute_input": "2022-03-22T23:34:16.774485Z",
     "iopub.status.busy": "2022-03-22T23:34:16.773911Z",
     "iopub.status.idle": "2022-03-22T23:34:16.791040Z",
     "shell.execute_reply": "2022-03-22T23:34:16.790338Z"
    },
    "papermill": {
     "duration": 0.048826,
     "end_time": "2022-03-22T23:34:16.791191",
     "exception": false,
     "start_time": "2022-03-22T23:34:16.742365",
     "status": "completed"
    },
    "tags": []
   },
   "outputs": [],
   "source": [
    "def add_dataset(\n",
    "    labels,\n",
    "    domains,\n",
    "    pickle_path,\n",
    "    x_transforms,\n",
    "    episode_transforms,\n",
    "    domain_prefix,\n",
    "    num_examples_per_domain_per_label,\n",
    "    source_or_target_dataset:str,\n",
    "    iterator_seed=p.seed,\n",
    "    dataset_seed=p.dataset_seed,\n",
    "    n_shot=p.n_shot,\n",
    "    n_way=p.n_way,\n",
    "    n_query=p.n_query,\n",
    "    train_val_test_k_factors=(p.train_k_factor,p.val_k_factor,p.test_k_factor),\n",
    "):\n",
    "   \n",
    "    if x_transforms == []: x_transform = None\n",
    "    else: x_transform = get_chained_transform(x_transforms)\n",
    "    \n",
    "    if episode_transforms == []: episode_transform = None\n",
    "    else: raise Exception(\"episode_transforms not implemented\")\n",
    "    \n",
    "    episode_transform = lambda tup, _prefix=domain_prefix: (_prefix + str(tup[0]), tup[1])\n",
    "\n",
    "\n",
    "    eaf = Episodic_Accessor_Factory(\n",
    "        labels=labels,\n",
    "        domains=domains,\n",
    "        num_examples_per_domain_per_label=num_examples_per_domain_per_label,\n",
    "        iterator_seed=iterator_seed,\n",
    "        dataset_seed=dataset_seed,\n",
    "        n_shot=n_shot,\n",
    "        n_way=n_way,\n",
    "        n_query=n_query,\n",
    "        train_val_test_k_factors=train_val_test_k_factors,\n",
    "        pickle_path=pickle_path,\n",
    "        x_transform_func=x_transform,\n",
    "    )\n",
    "\n",
    "    train, val, test = eaf.get_train(), eaf.get_val(), eaf.get_test()\n",
    "    train = Lazy_Iterable_Wrapper(train, episode_transform)\n",
    "    val = Lazy_Iterable_Wrapper(val, episode_transform)\n",
    "    test = Lazy_Iterable_Wrapper(test, episode_transform)\n",
    "\n",
    "    if source_or_target_dataset==\"source\":\n",
    "        train_original_source.append(train)\n",
    "        val_original_source.append(val)\n",
    "        test_original_source.append(test)\n",
    "\n",
    "        p.domains_source.extend(\n",
    "            [domain_prefix + str(u) for u in domains]\n",
    "        )\n",
    "    elif source_or_target_dataset==\"target\":\n",
    "        train_original_target.append(train)\n",
    "        val_original_target.append(val)\n",
    "        test_original_target.append(test)\n",
    "        p.domains_target.extend(\n",
    "            [domain_prefix + str(u) for u in domains]\n",
    "        )\n",
    "    else:\n",
    "        raise Exception(f\"invalid source_or_target_dataset: {source_or_target_dataset}\")\n",
    "    "
   ]
  },
  {
   "cell_type": "code",
   "execution_count": 13,
   "id": "fe266617",
   "metadata": {
    "execution": {
     "iopub.execute_input": "2022-03-22T23:34:16.840617Z",
     "iopub.status.busy": "2022-03-22T23:34:16.839965Z",
     "iopub.status.idle": "2022-03-22T23:35:03.384434Z",
     "shell.execute_reply": "2022-03-22T23:35:03.385111Z"
    },
    "papermill": {
     "duration": 46.568814,
     "end_time": "2022-03-22T23:35:03.385345",
     "exception": false,
     "start_time": "2022-03-22T23:34:16.816531",
     "status": "completed"
    },
    "tags": []
   },
   "outputs": [],
   "source": [
    "for ds in p.datasets:\n",
    "    add_dataset(**ds)"
   ]
  },
  {
   "cell_type": "code",
   "execution_count": 14,
   "id": "b90d65ac",
   "metadata": {
    "execution": {
     "iopub.execute_input": "2022-03-22T23:35:03.434489Z",
     "iopub.status.busy": "2022-03-22T23:35:03.434114Z",
     "iopub.status.idle": "2022-03-22T23:35:03.458012Z",
     "shell.execute_reply": "2022-03-22T23:35:03.458681Z"
    },
    "papermill": {
     "duration": 0.04852,
     "end_time": "2022-03-22T23:35:03.458868",
     "exception": false,
     "start_time": "2022-03-22T23:35:03.410348",
     "status": "completed"
    },
    "tags": []
   },
   "outputs": [],
   "source": [
    "# from steves_utils.CORES.utils import (\n",
    "#     ALL_NODES,\n",
    "#     ALL_NODES_MINIMUM_1000_EXAMPLES,\n",
    "#     ALL_DAYS\n",
    "# )\n",
    "\n",
    "# add_dataset(\n",
    "#     labels=ALL_NODES,\n",
    "#     domains = ALL_DAYS,\n",
    "#     num_examples_per_domain_per_label=100,\n",
    "#     pickle_path=os.path.join(get_datasets_base_path(), \"cores.stratified_ds.2022A.pkl\"),\n",
    "#     source_or_target_dataset=\"target\",\n",
    "#     x_transform_func=global_x_transform_func,\n",
    "#     domain_modifier=lambda u: f\"cores_{u}\"\n",
    "# )"
   ]
  },
  {
   "cell_type": "code",
   "execution_count": 15,
   "id": "76db484d",
   "metadata": {
    "execution": {
     "iopub.execute_input": "2022-03-22T23:35:03.507287Z",
     "iopub.status.busy": "2022-03-22T23:35:03.506919Z",
     "iopub.status.idle": "2022-03-22T23:35:03.525737Z",
     "shell.execute_reply": "2022-03-22T23:35:03.526418Z"
    },
    "papermill": {
     "duration": 0.042097,
     "end_time": "2022-03-22T23:35:03.526601",
     "exception": false,
     "start_time": "2022-03-22T23:35:03.484504",
     "status": "completed"
    },
    "tags": []
   },
   "outputs": [],
   "source": [
    "# from steves_utils.ORACLE.utils_v2 import (\n",
    "#     ALL_DISTANCES_FEET,\n",
    "#     ALL_RUNS,\n",
    "#     ALL_SERIAL_NUMBERS,\n",
    "# )\n",
    "\n",
    "\n",
    "# add_dataset(\n",
    "#     labels=ALL_SERIAL_NUMBERS,\n",
    "#     domains = list(set(ALL_DISTANCES_FEET) - {2,62}),\n",
    "#     num_examples_per_domain_per_label=100,\n",
    "#     pickle_path=os.path.join(get_datasets_base_path(), \"oracle.Run2_framed_2000Examples_stratified_ds.2022A.pkl\"),\n",
    "#     source_or_target_dataset=\"source\",\n",
    "#     x_transform_func=global_x_transform_func,\n",
    "#     domain_modifier=lambda u: f\"oracle1_{u}\"\n",
    "# )\n"
   ]
  },
  {
   "cell_type": "code",
   "execution_count": 16,
   "id": "97dea9d2",
   "metadata": {
    "execution": {
     "iopub.execute_input": "2022-03-22T23:35:03.575944Z",
     "iopub.status.busy": "2022-03-22T23:35:03.575488Z",
     "iopub.status.idle": "2022-03-22T23:35:03.591099Z",
     "shell.execute_reply": "2022-03-22T23:35:03.591815Z"
    },
    "papermill": {
     "duration": 0.039197,
     "end_time": "2022-03-22T23:35:03.592002",
     "exception": false,
     "start_time": "2022-03-22T23:35:03.552805",
     "status": "completed"
    },
    "tags": []
   },
   "outputs": [],
   "source": [
    "# from steves_utils.ORACLE.utils_v2 import (\n",
    "#     ALL_DISTANCES_FEET,\n",
    "#     ALL_RUNS,\n",
    "#     ALL_SERIAL_NUMBERS,\n",
    "# )\n",
    "\n",
    "\n",
    "# add_dataset(\n",
    "#     labels=ALL_SERIAL_NUMBERS,\n",
    "#     domains = list(set(ALL_DISTANCES_FEET) - {2,62,56}),\n",
    "#     num_examples_per_domain_per_label=100,\n",
    "#     pickle_path=os.path.join(get_datasets_base_path(), \"oracle.Run2_framed_2000Examples_stratified_ds.2022A.pkl\"),\n",
    "#     source_or_target_dataset=\"source\",\n",
    "#     x_transform_func=global_x_transform_func,\n",
    "#     domain_modifier=lambda u: f\"oracle2_{u}\"\n",
    "# )"
   ]
  },
  {
   "cell_type": "code",
   "execution_count": 17,
   "id": "6f289866",
   "metadata": {
    "execution": {
     "iopub.execute_input": "2022-03-22T23:35:03.641740Z",
     "iopub.status.busy": "2022-03-22T23:35:03.641372Z",
     "iopub.status.idle": "2022-03-22T23:35:03.657624Z",
     "shell.execute_reply": "2022-03-22T23:35:03.656918Z"
    },
    "papermill": {
     "duration": 0.038516,
     "end_time": "2022-03-22T23:35:03.657780",
     "exception": false,
     "start_time": "2022-03-22T23:35:03.619264",
     "status": "completed"
    },
    "tags": []
   },
   "outputs": [],
   "source": [
    "# add_dataset(\n",
    "#     labels=list(range(19)),\n",
    "#     domains = [0,1,2],\n",
    "#     num_examples_per_domain_per_label=100,\n",
    "#     pickle_path=os.path.join(get_datasets_base_path(), \"metehan.stratified_ds.2022A.pkl\"),\n",
    "#     source_or_target_dataset=\"target\",\n",
    "#     x_transform_func=global_x_transform_func,\n",
    "#     domain_modifier=lambda u: f\"met_{u}\"\n",
    "# )"
   ]
  },
  {
   "cell_type": "code",
   "execution_count": 18,
   "id": "86a863c3",
   "metadata": {
    "execution": {
     "iopub.execute_input": "2022-03-22T23:35:03.708895Z",
     "iopub.status.busy": "2022-03-22T23:35:03.708334Z",
     "iopub.status.idle": "2022-03-22T23:35:03.727377Z",
     "shell.execute_reply": "2022-03-22T23:35:03.726665Z"
    },
    "papermill": {
     "duration": 0.043098,
     "end_time": "2022-03-22T23:35:03.727547",
     "exception": false,
     "start_time": "2022-03-22T23:35:03.684449",
     "status": "completed"
    },
    "tags": []
   },
   "outputs": [],
   "source": [
    "# # from steves_utils.wisig.utils import (\n",
    "# #     ALL_NODES_MINIMUM_100_EXAMPLES,\n",
    "# #     ALL_NODES_MINIMUM_500_EXAMPLES,\n",
    "# #     ALL_NODES_MINIMUM_1000_EXAMPLES,\n",
    "# #     ALL_DAYS\n",
    "# # )\n",
    "\n",
    "# import steves_utils.wisig.utils as wisig\n",
    "\n",
    "\n",
    "# add_dataset(\n",
    "#     labels=wisig.ALL_NODES_MINIMUM_100_EXAMPLES,\n",
    "#     domains = wisig.ALL_DAYS,\n",
    "#     num_examples_per_domain_per_label=100,\n",
    "#     pickle_path=os.path.join(get_datasets_base_path(), \"wisig.node3-19.stratified_ds.2022A.pkl\"),\n",
    "#     source_or_target_dataset=\"target\",\n",
    "#     x_transform_func=global_x_transform_func,\n",
    "#     domain_modifier=lambda u: f\"wisig_{u}\"\n",
    "# )"
   ]
  },
  {
   "cell_type": "code",
   "execution_count": 19,
   "id": "fd5442bc",
   "metadata": {
    "execution": {
     "iopub.execute_input": "2022-03-22T23:35:03.784023Z",
     "iopub.status.busy": "2022-03-22T23:35:03.783637Z",
     "iopub.status.idle": "2022-03-22T23:35:03.801718Z",
     "shell.execute_reply": "2022-03-22T23:35:03.801013Z"
    },
    "papermill": {
     "duration": 0.044418,
     "end_time": "2022-03-22T23:35:03.801878",
     "exception": false,
     "start_time": "2022-03-22T23:35:03.757460",
     "status": "completed"
    },
    "tags": []
   },
   "outputs": [],
   "source": [
    "###################################\n",
    "# Build the dataset\n",
    "###################################\n",
    "train_original_source = Iterable_Aggregator(train_original_source, p.seed)\n",
    "val_original_source = Iterable_Aggregator(val_original_source, p.seed)\n",
    "test_original_source = Iterable_Aggregator(test_original_source, p.seed)\n",
    "\n",
    "\n",
    "train_original_target = Iterable_Aggregator(train_original_target, p.seed)\n",
    "val_original_target = Iterable_Aggregator(val_original_target, p.seed)\n",
    "test_original_target = Iterable_Aggregator(test_original_target, p.seed)\n",
    "\n",
    "# For CNN We only use X and Y. And we only train on the source.\n",
    "# Properly form the data using a transform lambda and Lazy_Iterable_Wrapper. Finally wrap them in a dataloader\n",
    "\n",
    "transform_lambda = lambda ex: ex[1] # Original is (<domain>, <episode>) so we strip down to episode only\n",
    "\n",
    "train_processed_source = Lazy_Iterable_Wrapper(train_original_source, transform_lambda)\n",
    "val_processed_source   = Lazy_Iterable_Wrapper(val_original_source, transform_lambda)\n",
    "test_processed_source  = Lazy_Iterable_Wrapper(test_original_source, transform_lambda)\n",
    "\n",
    "train_processed_target = Lazy_Iterable_Wrapper(train_original_target, transform_lambda)\n",
    "val_processed_target   = Lazy_Iterable_Wrapper(val_original_target, transform_lambda)\n",
    "test_processed_target  = Lazy_Iterable_Wrapper(test_original_target, transform_lambda)\n",
    "\n",
    "datasets = EasyDict({\n",
    "    \"source\": {\n",
    "        \"original\": {\"train\":train_original_source, \"val\":val_original_source, \"test\":test_original_source},\n",
    "        \"processed\": {\"train\":train_processed_source, \"val\":val_processed_source, \"test\":test_processed_source}\n",
    "    },\n",
    "    \"target\": {\n",
    "        \"original\": {\"train\":train_original_target, \"val\":val_original_target, \"test\":test_original_target},\n",
    "        \"processed\": {\"train\":train_processed_target, \"val\":val_processed_target, \"test\":test_processed_target}\n",
    "    },\n",
    "})"
   ]
  },
  {
   "cell_type": "code",
   "execution_count": 20,
   "id": "5b3c01fc",
   "metadata": {
    "execution": {
     "iopub.execute_input": "2022-03-22T23:35:03.853082Z",
     "iopub.status.busy": "2022-03-22T23:35:03.852523Z",
     "iopub.status.idle": "2022-03-22T23:35:18.461022Z",
     "shell.execute_reply": "2022-03-22T23:35:18.461693Z"
    },
    "papermill": {
     "duration": 14.633501,
     "end_time": "2022-03-22T23:35:18.461916",
     "exception": false,
     "start_time": "2022-03-22T23:35:03.828415",
     "status": "completed"
    },
    "tags": []
   },
   "outputs": [
    {
     "name": "stdout",
     "output_type": "stream",
     "text": [
      "{'Wisig_2', 'Wisig_1', 'Wisig_3', 'Wisig_4'}\n"
     ]
    },
    {
     "name": "stdout",
     "output_type": "stream",
     "text": [
      "{'ORACLE.run150', 'ORACLE.run144', 'ORACLE.run120', 'ORACLE.run126', 'ORACLE.run114', 'ORACLE.run138', 'ORACLE.run18', 'ORACLE.run132'}\n"
     ]
    },
    {
     "name": "stdout",
     "output_type": "stream",
     "text": [
      "tensor([[[-0.1520, -0.4392, -1.1737,  ..., -1.0640, -0.9195,  0.0442],\n",
      "         [-0.0137,  1.0061,  0.9170,  ...,  0.8111, -0.3470, -0.5613]],\n",
      "\n",
      "        [[ 0.7872,  0.4446, -0.1403,  ...,  0.3345,  0.0959, -0.7828],\n",
      "         [-0.3224,  0.1188, -0.1225,  ..., -0.5715,  0.1043,  0.0289]],\n",
      "\n",
      "        [[ 0.3913,  1.0608,  1.1652,  ...,  0.5323, -0.5534, -0.1720],\n",
      "         [ 0.3665,  0.0571,  0.3348,  ...,  0.9335,  0.5273,  0.1161]],\n",
      "\n",
      "        ...,\n",
      "\n",
      "        [[ 0.8162, -1.3326, -1.2086,  ...,  0.4599, -0.4819, -0.8131],\n",
      "         [ 0.3987,  0.6624, -1.0956,  ...,  0.3861, -0.1005, -1.1098]],\n",
      "\n",
      "        [[ 0.3475,  0.7444, -1.0138,  ..., -0.2550,  0.4049, -0.7795],\n",
      "         [-0.7683,  0.5595,  1.0696,  ..., -0.1801,  0.3013,  0.4320]],\n",
      "\n",
      "        [[-0.3538,  0.7543,  0.4857,  ..., -0.2252,  0.2654,  0.1689],\n",
      "         [-0.3828, -0.6916,  1.1227,  ...,  0.2863, -0.2509,  0.6305]]])\n"
     ]
    }
   ],
   "source": [
    "from steves_utils.transforms import get_average_magnitude, get_average_power\n",
    "\n",
    "print(set([u for u,_ in val_original_source]))\n",
    "print(set([u for u,_ in val_original_target]))\n",
    "\n",
    "s_x, s_y, q_x, q_y, _ = next(iter(train_processed_source))\n",
    "print(s_x)\n",
    "\n",
    "# for ds in [\n",
    "#     train_processed_source,\n",
    "#     val_processed_source,\n",
    "#     test_processed_source,\n",
    "#     train_processed_target,\n",
    "#     val_processed_target,\n",
    "#     test_processed_target\n",
    "# ]:\n",
    "#     for s_x, s_y, q_x, q_y, _ in ds:\n",
    "#         for X in (s_x, q_x):\n",
    "#             for x in X:\n",
    "#                 assert np.isclose(get_average_magnitude(x.numpy()), 1.0)\n",
    "#                 assert np.isclose(get_average_power(x.numpy()), 1.0)\n",
    "                "
   ]
  },
  {
   "cell_type": "code",
   "execution_count": 21,
   "id": "bbdacba1",
   "metadata": {
    "execution": {
     "iopub.execute_input": "2022-03-22T23:35:18.519405Z",
     "iopub.status.busy": "2022-03-22T23:35:18.519035Z",
     "iopub.status.idle": "2022-03-22T23:35:18.780656Z",
     "shell.execute_reply": "2022-03-22T23:35:18.780070Z"
    },
    "papermill": {
     "duration": 0.289879,
     "end_time": "2022-03-22T23:35:18.780801",
     "exception": false,
     "start_time": "2022-03-22T23:35:18.490922",
     "status": "completed"
    },
    "tags": []
   },
   "outputs": [
    {
     "name": "stdout",
     "output_type": "stream",
     "text": [
      "(2, 256)\n"
     ]
    }
   ],
   "source": [
    "###################################\n",
    "# Build the model\n",
    "###################################\n",
    "# easfsl only wants a tuple for the shape\n",
    "model = Steves_Prototypical_Network(x_net, device=p.device, x_shape=tuple(p.x_shape))\n",
    "optimizer = Adam(params=model.parameters(), lr=p.lr)"
   ]
  },
  {
   "cell_type": "code",
   "execution_count": 22,
   "id": "22b39ac5",
   "metadata": {
    "execution": {
     "iopub.execute_input": "2022-03-22T23:35:18.837550Z",
     "iopub.status.busy": "2022-03-22T23:35:18.837171Z",
     "iopub.status.idle": "2022-03-22T23:49:01.342743Z",
     "shell.execute_reply": "2022-03-22T23:49:01.342404Z"
    },
    "papermill": {
     "duration": 822.532281,
     "end_time": "2022-03-22T23:49:01.342826",
     "exception": false,
     "start_time": "2022-03-22T23:35:18.810545",
     "status": "completed"
    },
    "tags": []
   },
   "outputs": [
    {
     "name": "stdout",
     "output_type": "stream",
     "text": [
      "epoch: 1, [batch: 1 / 6847], examples_per_second: 31.0208, train_label_loss: 2.6019, \n"
     ]
    },
    {
     "name": "stdout",
     "output_type": "stream",
     "text": [
      "epoch: 1, [batch: 685 / 6847], examples_per_second: 3894.4477, train_label_loss: 0.3668, \n"
     ]
    },
    {
     "name": "stdout",
     "output_type": "stream",
     "text": [
      "epoch: 1, [batch: 1370 / 6847], examples_per_second: 4016.8590, train_label_loss: 0.3653, \n"
     ]
    },
    {
     "name": "stdout",
     "output_type": "stream",
     "text": [
      "epoch: 1, [batch: 2054 / 6847], examples_per_second: 4045.6521, train_label_loss: 0.0060, \n"
     ]
    },
    {
     "name": "stdout",
     "output_type": "stream",
     "text": [
      "epoch: 1, [batch: 2739 / 6847], examples_per_second: 3932.5847, train_label_loss: 0.1740, \n"
     ]
    },
    {
     "name": "stdout",
     "output_type": "stream",
     "text": [
      "epoch: 1, [batch: 3424 / 6847], examples_per_second: 3844.2701, train_label_loss: 0.3353, \n"
     ]
    },
    {
     "name": "stdout",
     "output_type": "stream",
     "text": [
      "epoch: 1, [batch: 4108 / 6847], examples_per_second: 3902.7977, train_label_loss: 0.1942, \n"
     ]
    },
    {
     "name": "stdout",
     "output_type": "stream",
     "text": [
      "epoch: 1, [batch: 4793 / 6847], examples_per_second: 3847.3404, train_label_loss: 0.3510, \n"
     ]
    },
    {
     "name": "stdout",
     "output_type": "stream",
     "text": [
      "epoch: 1, [batch: 5477 / 6847], examples_per_second: 3849.4012, train_label_loss: 0.0104, \n"
     ]
    },
    {
     "name": "stdout",
     "output_type": "stream",
     "text": [
      "epoch: 1, [batch: 6162 / 6847], examples_per_second: 3765.3094, train_label_loss: 0.1687, \n"
     ]
    },
    {
     "name": "stdout",
     "output_type": "stream",
     "text": [
      "=============================================================\n",
      "epoch: 1, source_val_acc_label: 0.9638, target_val_acc_label: 0.1095, source_val_label_loss: 0.1548, target_val_label_loss: 2.7067, \n",
      "=============================================================\n"
     ]
    },
    {
     "name": "stdout",
     "output_type": "stream",
     "text": [
      "New best\n"
     ]
    },
    {
     "name": "stdout",
     "output_type": "stream",
     "text": [
      "epoch: 2, [batch: 1 / 6848], examples_per_second: 3.8305, train_label_loss: 0.2271, \n"
     ]
    },
    {
     "name": "stdout",
     "output_type": "stream",
     "text": [
      "epoch: 2, [batch: 685 / 6848], examples_per_second: 3884.6536, train_label_loss: 0.0080, \n"
     ]
    },
    {
     "name": "stdout",
     "output_type": "stream",
     "text": [
      "epoch: 2, [batch: 1370 / 6848], examples_per_second: 3795.7813, train_label_loss: 0.0646, \n"
     ]
    },
    {
     "name": "stdout",
     "output_type": "stream",
     "text": [
      "epoch: 2, [batch: 2055 / 6848], examples_per_second: 3949.3358, train_label_loss: 0.0130, \n"
     ]
    },
    {
     "name": "stdout",
     "output_type": "stream",
     "text": [
      "epoch: 2, [batch: 2739 / 6848], examples_per_second: 3854.6962, train_label_loss: 0.3025, \n"
     ]
    },
    {
     "name": "stdout",
     "output_type": "stream",
     "text": [
      "epoch: 2, [batch: 3424 / 6848], examples_per_second: 3892.2969, train_label_loss: 0.1208, \n"
     ]
    },
    {
     "name": "stdout",
     "output_type": "stream",
     "text": [
      "epoch: 2, [batch: 4109 / 6848], examples_per_second: 3973.2648, train_label_loss: 0.0279, \n"
     ]
    },
    {
     "name": "stdout",
     "output_type": "stream",
     "text": [
      "epoch: 2, [batch: 4793 / 6848], examples_per_second: 4024.6222, train_label_loss: 0.4248, \n"
     ]
    },
    {
     "name": "stdout",
     "output_type": "stream",
     "text": [
      "epoch: 2, [batch: 5478 / 6848], examples_per_second: 4038.1100, train_label_loss: 0.0142, \n"
     ]
    },
    {
     "name": "stdout",
     "output_type": "stream",
     "text": [
      "epoch: 2, [batch: 6163 / 6848], examples_per_second: 3966.1386, train_label_loss: 0.0643, \n"
     ]
    },
    {
     "name": "stdout",
     "output_type": "stream",
     "text": [
      "=============================================================\n",
      "epoch: 2, source_val_acc_label: 0.9710, target_val_acc_label: 0.1093, source_val_label_loss: 0.1223, target_val_label_loss: 2.7227, \n",
      "=============================================================\n"
     ]
    },
    {
     "name": "stdout",
     "output_type": "stream",
     "text": [
      "epoch: 3, [batch: 1 / 6841], examples_per_second: 3.9042, train_label_loss: 0.1474, \n"
     ]
    },
    {
     "name": "stdout",
     "output_type": "stream",
     "text": [
      "epoch: 3, [batch: 685 / 6841], examples_per_second: 3845.6042, train_label_loss: 0.0097, \n"
     ]
    },
    {
     "name": "stdout",
     "output_type": "stream",
     "text": [
      "epoch: 3, [batch: 1369 / 6841], examples_per_second: 3896.5311, train_label_loss: 0.3143, \n"
     ]
    },
    {
     "name": "stdout",
     "output_type": "stream",
     "text": [
      "epoch: 3, [batch: 2053 / 6841], examples_per_second: 3920.3499, train_label_loss: 0.0304, \n"
     ]
    },
    {
     "name": "stdout",
     "output_type": "stream",
     "text": [
      "epoch: 3, [batch: 2737 / 6841], examples_per_second: 3819.8929, train_label_loss: 0.0129, \n"
     ]
    },
    {
     "name": "stdout",
     "output_type": "stream",
     "text": [
      "epoch: 3, [batch: 3421 / 6841], examples_per_second: 3790.2106, train_label_loss: 0.8412, \n"
     ]
    },
    {
     "name": "stdout",
     "output_type": "stream",
     "text": [
      "epoch: 3, [batch: 4105 / 6841], examples_per_second: 3836.5472, train_label_loss: 0.0037, \n"
     ]
    },
    {
     "name": "stdout",
     "output_type": "stream",
     "text": [
      "epoch: 3, [batch: 4789 / 6841], examples_per_second: 3875.1135, train_label_loss: 0.2466, \n"
     ]
    },
    {
     "name": "stdout",
     "output_type": "stream",
     "text": [
      "epoch: 3, [batch: 5473 / 6841], examples_per_second: 4006.4752, train_label_loss: 0.2327, \n"
     ]
    },
    {
     "name": "stdout",
     "output_type": "stream",
     "text": [
      "epoch: 3, [batch: 6157 / 6841], examples_per_second: 3947.3021, train_label_loss: 0.0456, \n"
     ]
    },
    {
     "name": "stdout",
     "output_type": "stream",
     "text": [
      "=============================================================\n",
      "epoch: 3, source_val_acc_label: 0.9738, target_val_acc_label: 0.1046, source_val_label_loss: 0.1109, target_val_label_loss: 2.7509, \n",
      "=============================================================\n"
     ]
    },
    {
     "name": "stdout",
     "output_type": "stream",
     "text": [
      "epoch: 4, [batch: 1 / 6852], examples_per_second: 3.8588, train_label_loss: 0.2324, \n"
     ]
    },
    {
     "name": "stdout",
     "output_type": "stream",
     "text": [
      "epoch: 4, [batch: 686 / 6852], examples_per_second: 4299.1048, train_label_loss: 0.2100, \n"
     ]
    },
    {
     "name": "stdout",
     "output_type": "stream",
     "text": [
      "epoch: 4, [batch: 1371 / 6852], examples_per_second: 4446.1523, train_label_loss: 0.1708, \n"
     ]
    },
    {
     "name": "stdout",
     "output_type": "stream",
     "text": [
      "epoch: 4, [batch: 2056 / 6852], examples_per_second: 4390.4268, train_label_loss: 0.0059, \n"
     ]
    },
    {
     "name": "stdout",
     "output_type": "stream",
     "text": [
      "epoch: 4, [batch: 2741 / 6852], examples_per_second: 4463.6591, train_label_loss: 0.0523, \n"
     ]
    },
    {
     "name": "stdout",
     "output_type": "stream",
     "text": [
      "epoch: 4, [batch: 3426 / 6852], examples_per_second: 4708.3173, train_label_loss: 0.0010, \n"
     ]
    },
    {
     "name": "stdout",
     "output_type": "stream",
     "text": [
      "epoch: 4, [batch: 4111 / 6852], examples_per_second: 5154.8224, train_label_loss: 0.0072, \n"
     ]
    },
    {
     "name": "stdout",
     "output_type": "stream",
     "text": [
      "epoch: 4, [batch: 4796 / 6852], examples_per_second: 4865.7929, train_label_loss: 0.0848, \n"
     ]
    },
    {
     "name": "stdout",
     "output_type": "stream",
     "text": [
      "epoch: 4, [batch: 5481 / 6852], examples_per_second: 3930.5835, train_label_loss: 0.0147, \n"
     ]
    },
    {
     "name": "stdout",
     "output_type": "stream",
     "text": [
      "epoch: 4, [batch: 6166 / 6852], examples_per_second: 3941.6958, train_label_loss: 0.1624, \n"
     ]
    },
    {
     "name": "stdout",
     "output_type": "stream",
     "text": [
      "=============================================================\n",
      "epoch: 4, source_val_acc_label: 0.9745, target_val_acc_label: 0.0982, source_val_label_loss: 0.1154, target_val_label_loss: 2.8287, \n",
      "=============================================================\n"
     ]
    },
    {
     "name": "stdout",
     "output_type": "stream",
     "text": [
      "epoch: 5, [batch: 1 / 6838], examples_per_second: 3.8567, train_label_loss: 0.2653, \n"
     ]
    },
    {
     "name": "stdout",
     "output_type": "stream",
     "text": [
      "epoch: 5, [batch: 684 / 6838], examples_per_second: 3883.0789, train_label_loss: 0.0319, \n"
     ]
    },
    {
     "name": "stdout",
     "output_type": "stream",
     "text": [
      "epoch: 5, [batch: 1368 / 6838], examples_per_second: 3864.6881, train_label_loss: 0.2882, \n"
     ]
    },
    {
     "name": "stdout",
     "output_type": "stream",
     "text": [
      "epoch: 5, [batch: 2052 / 6838], examples_per_second: 3851.1188, train_label_loss: 0.0215, \n"
     ]
    },
    {
     "name": "stdout",
     "output_type": "stream",
     "text": [
      "epoch: 5, [batch: 2735 / 6838], examples_per_second: 3938.0642, train_label_loss: 0.0138, \n"
     ]
    },
    {
     "name": "stdout",
     "output_type": "stream",
     "text": [
      "epoch: 5, [batch: 3419 / 6838], examples_per_second: 4029.3244, train_label_loss: 0.2253, \n"
     ]
    },
    {
     "name": "stdout",
     "output_type": "stream",
     "text": [
      "epoch: 5, [batch: 4103 / 6838], examples_per_second: 3995.3573, train_label_loss: 0.0026, \n"
     ]
    },
    {
     "name": "stdout",
     "output_type": "stream",
     "text": [
      "epoch: 5, [batch: 4786 / 6838], examples_per_second: 3967.8808, train_label_loss: 0.0016, \n"
     ]
    },
    {
     "name": "stdout",
     "output_type": "stream",
     "text": [
      "epoch: 5, [batch: 5470 / 6838], examples_per_second: 3890.3716, train_label_loss: 0.0118, \n"
     ]
    },
    {
     "name": "stdout",
     "output_type": "stream",
     "text": [
      "epoch: 5, [batch: 6154 / 6838], examples_per_second: 3882.9697, train_label_loss: 0.0883, \n"
     ]
    },
    {
     "name": "stdout",
     "output_type": "stream",
     "text": [
      "=============================================================\n",
      "epoch: 5, source_val_acc_label: 0.9752, target_val_acc_label: 0.0910, source_val_label_loss: 0.1128, target_val_label_loss: 2.8734, \n",
      "=============================================================\n"
     ]
    },
    {
     "name": "stdout",
     "output_type": "stream",
     "text": [
      "Patience (3) exhausted\n"
     ]
    }
   ],
   "source": [
    "###################################\n",
    "# train\n",
    "###################################\n",
    "jig = PTN_Train_Eval_Test_Jig(model, p.BEST_MODEL_PATH, p.device)\n",
    "\n",
    "jig.train(\n",
    "    train_iterable=datasets.source.processed.train,\n",
    "    source_val_iterable=datasets.source.processed.val,\n",
    "    target_val_iterable=datasets.target.processed.val,\n",
    "    num_epochs=p.n_epoch,\n",
    "    num_logs_per_epoch=p.NUM_LOGS_PER_EPOCH,\n",
    "    patience=p.patience,\n",
    "    optimizer=optimizer,\n",
    "    criteria_for_best=p.criteria_for_best,\n",
    ")"
   ]
  },
  {
   "cell_type": "code",
   "execution_count": 23,
   "id": "31e8fabf",
   "metadata": {
    "execution": {
     "iopub.execute_input": "2022-03-22T23:49:01.422110Z",
     "iopub.status.busy": "2022-03-22T23:49:01.421636Z",
     "iopub.status.idle": "2022-03-22T23:49:01.456000Z",
     "shell.execute_reply": "2022-03-22T23:49:01.455308Z"
    },
    "papermill": {
     "duration": 0.076597,
     "end_time": "2022-03-22T23:49:01.456159",
     "exception": false,
     "start_time": "2022-03-22T23:49:01.379562",
     "status": "completed"
    },
    "tags": []
   },
   "outputs": [],
   "source": [
    "total_experiment_time_secs = time.time() - start_time_secs"
   ]
  },
  {
   "cell_type": "code",
   "execution_count": 24,
   "id": "87b9595b",
   "metadata": {
    "execution": {
     "iopub.execute_input": "2022-03-22T23:49:01.545953Z",
     "iopub.status.busy": "2022-03-22T23:49:01.545078Z",
     "iopub.status.idle": "2022-03-22T23:51:53.537516Z",
     "shell.execute_reply": "2022-03-22T23:51:53.536780Z"
    },
    "papermill": {
     "duration": 172.040107,
     "end_time": "2022-03-22T23:51:53.537704",
     "exception": false,
     "start_time": "2022-03-22T23:49:01.497597",
     "status": "completed"
    },
    "tags": []
   },
   "outputs": [],
   "source": [
    "###################################\n",
    "# Evaluate the model\n",
    "###################################\n",
    "source_test_label_accuracy, source_test_label_loss = jig.test(datasets.source.processed.test)\n",
    "target_test_label_accuracy, target_test_label_loss = jig.test(datasets.target.processed.test)\n",
    "\n",
    "source_val_label_accuracy, source_val_label_loss = jig.test(datasets.source.processed.val)\n",
    "target_val_label_accuracy, target_val_label_loss = jig.test(datasets.target.processed.val)\n",
    "\n",
    "history = jig.get_history()\n",
    "\n",
    "total_epochs_trained = len(history[\"epoch_indices\"])\n",
    "\n",
    "val_dl = Iterable_Aggregator((datasets.source.original.val,datasets.target.original.val))\n",
    "\n",
    "confusion = ptn_confusion_by_domain_over_dataloader(model, p.device, val_dl)\n",
    "per_domain_accuracy = per_domain_accuracy_from_confusion(confusion)\n",
    "\n",
    "# Add a key to per_domain_accuracy for if it was a source domain\n",
    "for domain, accuracy in per_domain_accuracy.items():\n",
    "    per_domain_accuracy[domain] = {\n",
    "        \"accuracy\": accuracy,\n",
    "        \"source?\": domain in p.domains_source\n",
    "    }\n",
    "\n",
    "# Do an independent accuracy assesment JUST TO BE SURE!\n",
    "# _source_test_label_accuracy = independent_accuracy_assesment(model, datasets.source.processed.test, p.device)\n",
    "# _target_test_label_accuracy = independent_accuracy_assesment(model, datasets.target.processed.test, p.device)\n",
    "# _source_val_label_accuracy = independent_accuracy_assesment(model, datasets.source.processed.val, p.device)\n",
    "# _target_val_label_accuracy = independent_accuracy_assesment(model, datasets.target.processed.val, p.device)\n",
    "\n",
    "# assert(_source_test_label_accuracy == source_test_label_accuracy)\n",
    "# assert(_target_test_label_accuracy == target_test_label_accuracy)\n",
    "# assert(_source_val_label_accuracy == source_val_label_accuracy)\n",
    "# assert(_target_val_label_accuracy == target_val_label_accuracy)\n",
    "\n",
    "experiment = {\n",
    "    \"experiment_name\": p.experiment_name,\n",
    "    \"parameters\": dict(p),\n",
    "    \"results\": {\n",
    "        \"source_test_label_accuracy\": source_test_label_accuracy,\n",
    "        \"source_test_label_loss\": source_test_label_loss,\n",
    "        \"target_test_label_accuracy\": target_test_label_accuracy,\n",
    "        \"target_test_label_loss\": target_test_label_loss,\n",
    "        \"source_val_label_accuracy\": source_val_label_accuracy,\n",
    "        \"source_val_label_loss\": source_val_label_loss,\n",
    "        \"target_val_label_accuracy\": target_val_label_accuracy,\n",
    "        \"target_val_label_loss\": target_val_label_loss,\n",
    "        \"total_epochs_trained\": total_epochs_trained,\n",
    "        \"total_experiment_time_secs\": total_experiment_time_secs,\n",
    "        \"confusion\": confusion,\n",
    "        \"per_domain_accuracy\": per_domain_accuracy,\n",
    "    },\n",
    "    \"history\": history,\n",
    "    \"dataset_metrics\": get_dataset_metrics(datasets, \"ptn\"),\n",
    "}"
   ]
  },
  {
   "cell_type": "code",
   "execution_count": 25,
   "id": "54a21829",
   "metadata": {
    "execution": {
     "iopub.execute_input": "2022-03-22T23:51:53.624865Z",
     "iopub.status.busy": "2022-03-22T23:51:53.624406Z",
     "iopub.status.idle": "2022-03-22T23:51:53.840866Z",
     "shell.execute_reply": "2022-03-22T23:51:53.841545Z"
    },
    "papermill": {
     "duration": 0.259602,
     "end_time": "2022-03-22T23:51:53.841757",
     "exception": false,
     "start_time": "2022-03-22T23:51:53.582155",
     "status": "completed"
    },
    "tags": []
   },
   "outputs": [
    {
     "data": {
      "image/png": "[encoded data removed]",
      "text/plain": [
       "<Figure size 1080x504 with 1 Axes>"
      ]
     },
     "metadata": {
      "needs_background": "light"
     },
     "output_type": "display_data"
    }
   ],
   "source": [
    "ax = get_loss_curve(experiment)\n",
    "plt.show()"
   ]
  },
  {
   "cell_type": "code",
   "execution_count": 26,
   "id": "fd8a0f60",
   "metadata": {
    "execution": {
     "iopub.execute_input": "2022-03-22T23:51:53.926537Z",
     "iopub.status.busy": "2022-03-22T23:51:53.925791Z",
     "iopub.status.idle": "2022-03-22T23:51:54.267718Z",
     "shell.execute_reply": "2022-03-22T23:51:54.268407Z"
    },
    "papermill": {
     "duration": 0.384504,
     "end_time": "2022-03-22T23:51:54.268616",
     "exception": false,
     "start_time": "2022-03-22T23:51:53.884112",
     "status": "completed"
    },
    "tags": []
   },
   "outputs": [
    {
     "data": {
      "text/plain": [
       "<AxesSubplot:title={'center':'Results'}>"
      ]
     },
     "execution_count": 26,
     "metadata": {},
     "output_type": "execute_result"
    },
    {
     "data": {
      "image/png": "[encoded data removed]",
      "text/plain": [
       "<Figure size 1080x504 with 1 Axes>"
      ]
     },
     "metadata": {
      "needs_background": "light"
     },
     "output_type": "display_data"
    }
   ],
   "source": [
    "get_results_table(experiment)"
   ]
  },
  {
   "cell_type": "code",
   "execution_count": 27,
   "id": "cf8dc689",
   "metadata": {
    "execution": {
     "iopub.execute_input": "2022-03-22T23:51:54.359725Z",
     "iopub.status.busy": "2022-03-22T23:51:54.359339Z",
     "iopub.status.idle": "2022-03-22T23:51:54.615721Z",
     "shell.execute_reply": "2022-03-22T23:51:54.614975Z"
    },
    "papermill": {
     "duration": 0.301114,
     "end_time": "2022-03-22T23:51:54.615884",
     "exception": false,
     "start_time": "2022-03-22T23:51:54.314770",
     "status": "completed"
    },
    "tags": []
   },
   "outputs": [
    {
     "data": {
      "text/plain": [
       "<AxesSubplot:title={'center':'Per Domain Validation Accuracy'}, xlabel='domain'>"
      ]
     },
     "execution_count": 27,
     "metadata": {},
     "output_type": "execute_result"
    },
    {
     "data": {
      "image/png": "[encoded data removed]",
      "text/plain": [
       "<Figure size 1080x504 with 1 Axes>"
      ]
     },
     "metadata": {
      "needs_background": "light"
     },
     "output_type": "display_data"
    }
   ],
   "source": [
    "get_domain_accuracies(experiment)"
   ]
  },
  {
   "cell_type": "code",
   "execution_count": 28,
   "id": "a74ae082",
   "metadata": {
    "execution": {
     "iopub.execute_input": "2022-03-22T23:51:54.711902Z",
     "iopub.status.busy": "2022-03-22T23:51:54.711322Z",
     "iopub.status.idle": "2022-03-22T23:51:54.738226Z",
     "shell.execute_reply": "2022-03-22T23:51:54.737409Z"
    },
    "papermill": {
     "duration": 0.074668,
     "end_time": "2022-03-22T23:51:54.738385",
     "exception": false,
     "start_time": "2022-03-22T23:51:54.663717",
     "status": "completed"
    },
    "tags": []
   },
   "outputs": [
    {
     "name": "stdout",
     "output_type": "stream",
     "text": [
      "Source Test Label Accuracy: 0.9622721354166667 Target Test Label Accuracy: 0.1146484375\n",
      "Source Val Label Accuracy: 0.9638454400848356 Target Val Label Accuracy: 0.10947265625\n"
     ]
    }
   ],
   "source": [
    "print(\"Source Test Label Accuracy:\", experiment[\"results\"][\"source_test_label_accuracy\"], \"Target Test Label Accuracy:\", experiment[\"results\"][\"target_test_label_accuracy\"])\n",
    "print(\"Source Val Label Accuracy:\", experiment[\"results\"][\"source_val_label_accuracy\"], \"Target Val Label Accuracy:\", experiment[\"results\"][\"target_val_label_accuracy\"])"
   ]
  },
  {
   "cell_type": "code",
   "execution_count": 29,
   "id": "dacca602",
   "metadata": {
    "execution": {
     "iopub.execute_input": "2022-03-22T23:51:54.828636Z",
     "iopub.status.busy": "2022-03-22T23:51:54.827957Z",
     "iopub.status.idle": "2022-03-22T23:51:54.852827Z",
     "shell.execute_reply": "2022-03-22T23:51:54.853508Z"
    },
    "papermill": {
     "duration": 0.070911,
     "end_time": "2022-03-22T23:51:54.853698",
     "exception": false,
     "start_time": "2022-03-22T23:51:54.782787",
     "status": "completed"
    },
    "tags": [
     "experiment_json"
    ]
   },
   "outputs": [
    {
     "data": {
      "text/plain": [
       "'{\"experiment_name\": \"tl_1v2:wisig-oracle.run1.limited\", \"parameters\": {\"experiment_name\": \"tl_1v2:wisig-oracle.run1.limited\", \"device\": \"cuda\", \"lr\": 0.0001, \"n_shot\": 3, \"n_query\": 2, \"train_k_factor\": 3, \"val_k_factor\": 2, \"test_k_factor\": 2, \"torch_default_dtype\": \"torch.float32\", \"n_epoch\": 50, \"patience\": 3, \"criteria_for_best\": \"target_accuracy\", \"x_net\": [{\"class\": \"nnReshape\", \"kargs\": {\"shape\": [-1, 1, 2, 256]}}, {\"class\": \"Conv2d\", \"kargs\": {\"in_channels\": 1, \"out_channels\": 256, \"kernel_size\": [1, 7], \"bias\": false, \"padding\": [0, 3]}}, {\"class\": \"ReLU\", \"kargs\": {\"inplace\": true}}, {\"class\": \"BatchNorm2d\", \"kargs\": {\"num_features\": 256}}, {\"class\": \"Conv2d\", \"kargs\": {\"in_channels\": 256, \"out_channels\": 80, \"kernel_size\": [2, 7], \"bias\": true, \"padding\": [0, 3]}}, {\"class\": \"ReLU\", \"kargs\": {\"inplace\": true}}, {\"class\": \"BatchNorm2d\", \"kargs\": {\"num_features\": 80}}, {\"class\": \"Flatten\", \"kargs\": {}}, {\"class\": \"Linear\", \"kargs\": {\"in_features\": 20480, \"out_features\": 256}}, {\"class\": \"ReLU\", \"kargs\": {\"inplace\": true}}, {\"class\": \"BatchNorm1d\", \"kargs\": {\"num_features\": 256}}, {\"class\": \"Linear\", \"kargs\": {\"in_features\": 256, \"out_features\": 256}}], \"NUM_LOGS_PER_EPOCH\": 10, \"BEST_MODEL_PATH\": \"./best_model.pth\", \"n_way\": 16, \"datasets\": [{\"labels\": [\"1-10\", \"1-12\", \"1-14\", \"1-16\", \"1-18\", \"1-19\", \"1-8\", \"10-11\", \"10-17\", \"10-4\", \"10-7\", \"11-1\", \"11-10\", \"11-19\", \"11-20\", \"11-4\", \"11-7\", \"12-19\", \"12-20\", \"12-7\", \"13-14\", \"13-18\", \"13-19\", \"13-20\", \"13-3\", \"13-7\", \"14-10\", \"14-11\", \"14-12\", \"14-13\", \"14-14\", \"14-19\", \"14-20\", \"14-7\", \"14-8\", \"14-9\", \"15-1\", \"15-19\", \"15-6\", \"16-1\", \"16-16\", \"16-19\", \"16-20\", \"17-10\", \"17-11\", \"18-1\", \"18-10\", \"18-11\", \"18-12\", \"18-13\", \"18-14\", \"18-15\", \"18-16\", \"18-17\", \"18-19\", \"18-2\", \"18-20\", \"18-4\", \"18-5\", \"18-7\", \"18-8\", \"18-9\", \"19-1\", \"19-10\", \"19-11\", \"19-12\", \"19-13\", \"19-14\", \"19-15\", \"19-19\", \"19-2\", \"19-20\", \"19-3\", \"19-4\", \"19-6\", \"19-7\", \"19-8\", \"19-9\", \"2-1\", \"2-13\", \"2-15\", \"2-3\", \"2-4\", \"2-5\", \"2-6\", \"2-7\", \"2-8\", \"20-1\", \"20-12\", \"20-14\", \"20-15\", \"20-16\", \"20-18\", \"20-19\", \"20-20\", \"20-3\", \"20-4\", \"20-5\", \"20-7\", \"20-8\", \"3-1\", \"3-13\", \"3-18\", \"3-2\", \"3-8\", \"4-1\", \"4-10\", \"4-11\", \"5-1\", \"5-5\", \"6-1\", \"6-15\", \"6-6\", \"7-10\", \"7-11\", \"7-12\", \"7-13\", \"7-14\", \"7-7\", \"7-8\", \"7-9\", \"8-1\", \"8-13\", \"8-14\", \"8-18\", \"8-20\", \"8-3\", \"8-8\", \"9-1\", \"9-7\"], \"domains\": [1, 2, 3, 4], \"num_examples_per_domain_per_label\": -1, \"pickle_path\": \"/root/csc500-main/datasets/wisig.node3-19.stratified_ds.2022A.pkl\", \"source_or_target_dataset\": \"source\", \"x_transforms\": [\"unit_mag\"], \"episode_transforms\": [], \"domain_prefix\": \"Wisig_\"}, {\"labels\": [\"3123D52\", \"3123D65\", \"3123D79\", \"3123D80\", \"3123D54\", \"3123D70\", \"3123D7B\", \"3123D89\", \"3123D58\", \"3123D76\", \"3123D7D\", \"3123EFE\", \"3123D64\", \"3123D78\", \"3123D7E\", \"3124E4A\"], \"domains\": [32, 38, 8, 44, 14, 50, 20, 26], \"num_examples_per_domain_per_label\": 2000, \"pickle_path\": \"/root/csc500-main/datasets/oracle.Run1_10kExamples_stratified_ds.2022A.pkl\", \"source_or_target_dataset\": \"target\", \"x_transforms\": [\"unit_mag\"], \"episode_transforms\": [], \"domain_prefix\": \"ORACLE.run1\"}], \"dataset_seed\": 154325, \"seed\": 154325, \"x_shape\": [2, 256], \"domains_source\": [\"Wisig_1\", \"Wisig_2\", \"Wisig_3\", \"Wisig_4\"], \"domains_target\": [\"ORACLE.run132\", \"ORACLE.run138\", \"ORACLE.run18\", \"ORACLE.run144\", \"ORACLE.run114\", \"ORACLE.run150\", \"ORACLE.run120\", \"ORACLE.run126\"]}, \"results\": {\"source_test_label_accuracy\": 0.9622721354166667, \"source_test_label_loss\": 0.16478973627090454, \"target_test_label_accuracy\": 0.1146484375, \"target_test_label_loss\": 2.7038967609405518, \"source_val_label_accuracy\": 0.9638454400848356, \"source_val_label_loss\": 0.15481343865394592, \"target_val_label_accuracy\": 0.10947265625, \"target_val_label_loss\": 2.706697940826416, \"total_epochs_trained\": 5, \"total_experiment_time_secs\": 884.8811001777649, \"confusion\": {\"Wisig_2\": {\"56\": {\"56\": 12}, \"12\": {\"12\": 84, \"88\": 1, \"78\": 1, \"94\": 1, \"70\": 1}, \"15\": {\"15\": 112, \"26\": 1, \"44\": 1, \"24\": 1, \"108\": 1}, \"26\": {\"26\": 128, \"24\": 2, \"21\": 1, \"84\": 1}, \"82\": {\"82\": 36}, \"9\": {\"9\": 32}, \"49\": {\"49\": 21, \"11\": 1, \"29\": 1, \"129\": 1}, \"55\": {\"55\": 16}, \"102\": {\"102\": 124}, \"85\": {\"85\": 32}, \"73\": {\"73\": 28}, \"47\": {\"47\": 10, \"15\": 1, \"94\": 1}, \"20\": {\"20\": 15, \"24\": 1}, \"117\": {\"117\": 112, \"87\": 1, \"21\": 2, \"39\": 1}, \"122\": {\"122\": 129, \"73\": 1, \"87\": 1, \"20\": 1, \"71\": 1, \"70\": 3, \"5\": 1, \"39\": 1, \"27\": 2}, \"113\": {\"113\": 70, \"69\": 1, \"60\": 1}, \"87\": {\"21\": 2, \"87\": 102, \"83\": 1, \"71\": 1, \"69\": 1, \"43\": 2, \"24\": 1, \"70\": 1, \"30\": 1}, \"21\": {\"21\": 45, \"46\": 1, \"78\": 1, \"24\": 1}, \"106\": {\"106\": 116, \"12\": 1, \"70\": 1, \"24\": 1, \"21\": 1}, \"3\": {\"3\": 132, \"15\": 1, \"7\": 1, \"94\": 1, \"39\": 1}, \"126\": {\"126\": 120}, \"41\": {\"41\": 19, \"55\": 1}, \"76\": {\"76\": 16}, \"60\": {\"60\": 27, \"70\": 1}, \"94\": {\"94\": 60, \"88\": 1, \"122\": 1, \"24\": 1, \"36\": 1}, \"50\": {\"50\": 16}, \"97\": {\"97\": 20}, \"115\": {\"115\": 12}, \"38\": {\"38\": 16}, \"43\": {\"43\": 114, \"0\": 1, \"94\": 1, \"106\": 1, \"84\": 1, \"113\": 1, \"7\": 1, \"21\": 1, \"87\": 1, \"78\": 1, \"24\": 1}, \"67\": {\"67\": 16}, \"18\": {\"18\": 121, \"21\": 1, \"10\": 1, \"25\": 1, \"94\": 2, \"4\": 1, \"36\": 1}, \"23\": {\"23\": 37, \"121\": 1, \"12\": 1, \"29\": 1, \"122\": 3, \"119\": 1}, \"63\": {\"63\": 20}, \"127\": {\"127\": 118, \"122\": 1, \"111\": 1, \"70\": 1, \"24\": 1, \"26\": 1, \"43\": 1}, \"72\": {\"72\": 26, \"77\": 1, \"31\": 1}, \"128\": {\"128\": 17, \"52\": 1, \"49\": 3, \"59\": 2, \"47\": 1}, \"7\": {\"7\": 124, \"88\": 1, \"26\": 1, \"127\": 1, \"33\": 1}, \"108\": {\"108\": 134}, \"16\": {\"16\": 105, \"88\": 1, \"5\": 1, \"93\": 1, \"6\": 1, \"31\": 1, \"77\": 1, \"43\": 1, \"21\": 1, \"122\": 1}, \"29\": {\"29\": 32}, \"61\": {\"61\": 19, \"94\": 1}, \"104\": {\"104\": 20}, \"120\": {\"120\": 20}, \"124\": {\"124\": 123, \"82\": 1}, \"34\": {\"29\": 1, \"34\": 28, \"8\": 1, \"45\": 1, \"41\": 1}, \"84\": {\"84\": 87, \"6\": 1, \"11\": 2, \"109\": 1, \"98\": 1}, \"103\": {\"103\": 16}, \"100\": {\"100\": 16}, \"40\": {\"40\": 130, \"11\": 1, \"94\": 1, \"108\": 1, \"113\": 1, \"69\": 1, \"21\": 1, \"4\": 1, \"39\": 1, \"24\": 1, \"122\": 1}, \"35\": {\"35\": 12}, \"96\": {\"96\": 20}, \"101\": {\"101\": 119, \"98\": 1}, \"71\": {\"71\": 95, \"24\": 1, \"36\": 1, \"4\": 1, \"0\": 1, \"105\": 1}, \"81\": {\"81\": 21, \"109\": 1, \"110\": 1, \"77\": 1}, \"74\": {\"74\": 14, \"94\": 1, \"128\": 1}, \"119\": {\"119\": 20}, \"5\": {\"5\": 108, \"17\": 1, \"69\": 1, \"24\": 1, \"107\": 1}, \"68\": {\"68\": 16}, \"37\": {\"13\": 1, \"37\": 15}, \"58\": {\"58\": 20}, \"109\": {\"13\": 1, \"109\": 93, \"12\": 1, \"18\": 1, \"5\": 1, \"118\": 1, \"94\": 1, \"0\": 1}, \"107\": {\"107\": 56, \"125\": 1, \"36\": 1, \"109\": 1, \"4\": 1, \"108\": 1, \"106\": 1, \"110\": 2}, \"13\": {\"13\": 11, \"72\": 1, \"94\": 1, \"52\": 1, \"82\": 1, \"87\": 1}, \"52\": {\"52\": 19, \"124\": 1}, \"77\": {\"77\": 15, \"22\": 1}, \"95\": {\"95\": 36}, \"44\": {\"44\": 100}, \"88\": {\"88\": 120, \"3\": 1, \"24\": 1}, \"91\": {\"91\": 24, \"29\": 2, \"6\": 1, \"5\": 1}, \"93\": {\"93\": 136, \"21\": 1, \"7\": 1}, \"8\": {\"8\": 121, \"18\": 2, \"26\": 1}, \"1\": {\"1\": 111, \"24\": 2, \"36\": 1}, \"45\": {\"45\": 15, \"31\": 1}, \"111\": {\"111\": 124, \"62\": 1, \"21\": 1}, \"116\": {\"116\": 26, \"70\": 1, \"80\": 1}, \"48\": {\"48\": 20}, \"57\": {\"57\": 18, \"44\": 1, \"24\": 1}, \"10\": {\"10\": 56, \"105\": 1, \"12\": 1, \"118\": 1, \"26\": 1}, \"129\": {\"129\": 32}, \"98\": {\"98\": 115, \"26\": 1, \"24\": 1, \"94\": 1}, \"65\": {\"65\": 19, \"10\": 1}, \"6\": {\"6\": 32}, \"75\": {\"75\": 15, \"80\": 1}, \"14\": {\"14\": 46, \"30\": 1, \"106\": 1}, \"30\": {\"30\": 105, \"12\": 1, \"88\": 1, \"93\": 1, \"3\": 1, \"59\": 2, \"39\": 1}, \"83\": {\"83\": 40}, \"69\": {\"69\": 125, \"7\": 1, \"68\": 1, \"114\": 1}, \"125\": {\"125\": 145, \"109\": 1}, \"31\": {\"31\": 20}, \"118\": {\"118\": 67, \"43\": 1}, \"53\": {\"53\": 15, \"19\": 1}, \"54\": {\"54\": 20}, \"92\": {\"92\": 28}, \"19\": {\"19\": 28}, \"27\": {\"27\": 58, \"49\": 1, \"25\": 1, \"36\": 4, \"77\": 2, \"94\": 1, \"24\": 1}, \"17\": {\"17\": 15, \"36\": 1}, \"4\": {\"4\": 87, \"16\": 1}, \"36\": {\"27\": 3, \"36\": 119, \"94\": 1, \"29\": 1, \"24\": 1, \"39\": 1, \"106\": 1, \"43\": 1}, \"90\": {\"90\": 134, \"2\": 1, \"26\": 1}, \"64\": {\"64\": 15, \"43\": 1}, \"66\": {\"66\": 19, \"86\": 1}, \"46\": {\"46\": 14, \"16\": 1, \"24\": 1}, \"86\": {\"86\": 32}, \"114\": {\"114\": 108, \"10\": 1, \"101\": 1}, \"32\": {\"74\": 1, \"32\": 18, \"82\": 2, \"10\": 2, \"75\": 1, \"66\": 1, \"104\": 2, \"107\": 1, \"86\": 1, \"95\": 1, \"50\": 1, \"34\": 1, \"14\": 3, \"88\": 1}, \"78\": {\"78\": 43, \"40\": 1, \"43\": 2, \"87\": 1, \"4\": 1}, \"33\": {\"33\": 136, \"93\": 1, \"122\": 1}, \"70\": {\"70\": 113, \"89\": 1, \"122\": 3, \"16\": 1, \"24\": 2, \"93\": 1, \"78\": 1, \"110\": 1, \"69\": 1}, \"0\": {\"0\": 111, \"117\": 1, \"26\": 1, \"69\": 1, \"90\": 1, \"39\": 1}, \"110\": {\"110\": 38, \"117\": 1, \"51\": 1}, \"2\": {\"2\": 25, \"88\": 1, \"16\": 1, \"72\": 2, \"83\": 1, \"55\": 1, \"81\": 1}, \"28\": {\"28\": 18, \"23\": 1, \"78\": 1}, \"51\": {\"51\": 16, \"75\": 1, \"58\": 1, \"9\": 1, \"77\": 1}, \"79\": {\"79\": 16}, \"42\": {\"42\": 27, \"49\": 1}, \"112\": {\"112\": 12, \"5\": 1, \"3\": 1, \"126\": 1, \"49\": 1}, \"89\": {\"89\": 35, \"92\": 1}, \"59\": {\"59\": 16}, \"105\": {\"105\": 126, \"24\": 1, \"39\": 1}, \"121\": {\"121\": 34, \"36\": 1, \"113\": 1}, \"11\": {\"11\": 76, \"49\": 2, \"23\": 1, \"94\": 1}, \"99\": {\"99\": 30, \"12\": 1, \"33\": 1}, \"25\": {\"25\": 16}, \"62\": {\"62\": 121, \"94\": 1, \"22\": 1, \"105\": 1, \"10\": 1, \"24\": 2, \"106\": 1}, \"123\": {\"123\": 16}, \"24\": {\"24\": 108, \"12\": 1, \"70\": 1, \"30\": 1, \"122\": 1}, \"80\": {\"80\": 16}, \"39\": {\"39\": 94, \"117\": 1, \"0\": 1, \"24\": 1, \"88\": 1, \"94\": 1, \"33\": 1}, \"22\": {\"22\": 18, \"10\": 1, \"112\": 1}}, \"Wisig_4\": {\"32\": {\"32\": 22, \"22\": 1, \"31\": 1, \"23\": 1, \"82\": 1, \"109\": 2}, \"22\": {\"22\": 15, \"78\": 1}, \"69\": {\"69\": 113, \"122\": 1, \"6\": 1, \"113\": 1, \"30\": 1, \"70\": 1, \"126\": 1, \"0\": 1}, \"65\": {\"65\": 12}, \"91\": {\"91\": 23, \"85\": 1}, \"63\": {\"63\": 16}, \"127\": {\"63\": 1, \"127\": 105, \"111\": 1, \"7\": 1}, \"11\": {\"11\": 136, \"36\": 1, \"81\": 1}, \"12\": {\"12\": 93, \"78\": 1, \"24\": 1, \"126\": 1, \"122\": 1, \"105\": 1, \"7\": 2}, \"111\": {\"111\": 126, \"95\": 1, \"126\": 1}, \"53\": {\"53\": 14, \"122\": 1, \"70\": 1}, \"73\": {\"73\": 22, \"53\": 1, \"78\": 1}, \"3\": {\"3\": 134, \"21\": 1, \"39\": 1}, \"83\": {\"83\": 27, \"38\": 1}, \"88\": {\"88\": 122, \"70\": 5, \"12\": 1, \"10\": 1, \"108\": 1}, \"87\": {\"87\": 129, \"108\": 1, \"105\": 2}, \"2\": {\"2\": 22, \"78\": 1, \"126\": 4, \"26\": 1}, \"86\": {\"86\": 28}, \"16\": {\"16\": 116, \"21\": 1, \"118\": 2, \"129\": 1, \"111\": 1, \"127\": 1}, \"21\": {\"21\": 33, \"10\": 1, \"0\": 2, \"1\": 1, \"39\": 1, \"51\": 1, \"122\": 1}, \"96\": {\"96\": 19, \"21\": 1}, \"100\": {\"100\": 20}, \"7\": {\"7\": 119, \"108\": 1}, \"75\": {\"75\": 15, \"54\": 1}, \"10\": {\"10\": 119, \"111\": 1, \"39\": 1, \"27\": 1, \"126\": 1, \"12\": 1}, \"43\": {\"43\": 113, \"110\": 1, \"78\": 1, \"63\": 1, \"60\": 1, \"105\": 1, \"19\": 1, \"126\": 1}, \"92\": {\"92\": 27, \"122\": 1}, \"62\": {\"62\": 54, \"5\": 1, \"40\": 1, \"43\": 1, \"84\": 1, \"69\": 2}, \"31\": {\"31\": 16}, \"0\": {\"0\": 113, \"122\": 1}, \"45\": {\"45\": 16}, \"85\": {\"85\": 26, \"91\": 1, \"54\": 1}, \"119\": {\"119\": 16}, \"46\": {\"46\": 20}, \"71\": {\"71\": 102, \"7\": 1, \"109\": 1}, \"8\": {\"8\": 130, \"0\": 1, \"7\": 1, \"70\": 1, \"109\": 1}, \"118\": {\"118\": 106, \"39\": 1, \"69\": 1, \"122\": 1, \"70\": 1, \"15\": 1, \"108\": 1}, \"1\": {\"1\": 97, \"85\": 1, \"33\": 2, \"94\": 1, \"106\": 1, \"126\": 1, \"70\": 1, \"21\": 1, \"10\": 1, \"127\": 1, \"12\": 1}, \"38\": {\"38\": 15, \"32\": 1}, \"30\": {\"30\": 71, \"14\": 1, \"51\": 1, \"21\": 1, \"42\": 1, \"10\": 1}, \"66\": {\"66\": 15, \"90\": 1}, \"9\": {\"9\": 28}, \"5\": {\"5\": 135, \"72\": 1}, \"24\": {\"24\": 105, \"36\": 11, \"30\": 1, \"12\": 1, \"27\": 1, \"10\": 1}, \"97\": {\"97\": 20}, \"67\": {\"67\": 6, \"115\": 1, \"123\": 4, \"48\": 1, \"23\": 2, \"122\": 1, \"113\": 1}, \"19\": {\"19\": 28}, \"77\": {\"77\": 12}, \"26\": {\"26\": 117, \"111\": 1}, \"115\": {\"10\": 1, \"115\": 14, \"86\": 1}, \"50\": {\"50\": 16}, \"120\": {\"120\": 20}, \"102\": {\"102\": 127, \"14\": 1}, \"29\": {\"29\": 32}, \"44\": {\"44\": 63, \"63\": 1}, \"124\": {\"124\": 117, \"118\": 1}, \"78\": {\"78\": 26, \"17\": 1, \"21\": 2, \"34\": 1, \"63\": 1, \"99\": 1, \"84\": 1, \"111\": 2, \"88\": 1}, \"104\": {\"104\": 16}, \"105\": {\"105\": 88, \"122\": 1, \"87\": 8, \"78\": 1, \"101\": 1, \"36\": 1}, \"28\": {\"28\": 20}, \"37\": {\"37\": 16}, \"107\": {\"107\": 127, \"122\": 1, \"5\": 1, \"115\": 1, \"7\": 1, \"88\": 1}, \"6\": {\"6\": 23, \"10\": 1}, \"17\": {\"17\": 18, \"104\": 2}, \"57\": {\"57\": 16}, \"121\": {\"121\": 23, \"28\": 1, \"13\": 2, \"51\": 1, \"128\": 1, \"34\": 2, \"21\": 1, \"92\": 1}, \"58\": {\"58\": 16}, \"64\": {\"64\": 16}, \"82\": {\"82\": 32}, \"39\": {\"39\": 96, \"81\": 1, \"0\": 1, \"122\": 1, \"126\": 1}, \"110\": {\"110\": 116, \"61\": 1, \"81\": 1, \"14\": 1, \"21\": 1, \"70\": 1, \"0\": 1, \"8\": 1, \"102\": 1}, \"114\": {\"114\": 127, \"49\": 1}, \"20\": {\"20\": 16}, \"117\": {\"117\": 114}, \"18\": {\"18\": 119, \"113\": 1}, \"99\": {\"99\": 39, \"122\": 1}, \"23\": {\"23\": 6, \"91\": 1, \"123\": 1, \"122\": 1, \"129\": 1, \"39\": 1, \"78\": 1, \"48\": 1, \"51\": 1, \"70\": 1, \"7\": 1}, \"128\": {\"128\": 22, \"101\": 1, \"21\": 1}, \"60\": {\"60\": 31, \"129\": 1}, \"70\": {\"70\": 112, \"9\": 1, \"88\": 6, \"111\": 1}, \"122\": {\"67\": 1, \"122\": 80, \"106\": 1, \"126\": 1, \"5\": 1}, \"101\": {\"101\": 129, \"7\": 1, \"111\": 1, \"70\": 1}, \"33\": {\"33\": 129, \"122\": 1, \"116\": 1, \"124\": 1}, \"40\": {\"40\": 124, \"39\": 1, \"33\": 1, \"122\": 1, \"88\": 1, \"70\": 1, \"0\": 1}, \"41\": {\"41\": 14, \"122\": 1, \"21\": 1}, \"59\": {\"59\": 12}, \"4\": {\"4\": 96, \"53\": 1, \"39\": 1, \"12\": 2, \"122\": 2, \"127\": 1, \"101\": 1}, \"112\": {\"112\": 15, \"67\": 1}, \"36\": {\"36\": 122, \"24\": 4, \"2\": 1, \"39\": 1}, \"48\": {\"48\": 13, \"60\": 2, \"21\": 1}, \"126\": {\"122\": 1, \"126\": 112, \"10\": 1, \"93\": 1, \"101\": 1}, \"125\": {\"125\": 119, \"7\": 1, \"98\": 1, \"84\": 1}, \"84\": {\"84\": 117, \"21\": 1, \"36\": 1, \"122\": 1, \"4\": 1, \"126\": 1, \"106\": 1, \"12\": 1, \"88\": 1, \"101\": 2, \"15\": 1}, \"80\": {\"80\": 16}, \"49\": {\"80\": 1, \"49\": 28, \"70\": 2, \"19\": 1}, \"47\": {\"25\": 1, \"47\": 11}, \"95\": {\"95\": 32}, \"54\": {\"54\": 16}, \"25\": {\"25\": 16}, \"116\": {\"116\": 25, \"33\": 1, \"2\": 1, \"78\": 1}, \"74\": {\"74\": 16}, \"35\": {\"35\": 12}, \"15\": {\"15\": 123, \"0\": 1, \"10\": 2, \"105\": 1, \"3\": 1}, \"108\": {\"108\": 81, \"73\": 1, \"49\": 1, \"71\": 1, \"94\": 1, \"27\": 1, \"113\": 1, \"30\": 1, \"51\": 1, \"84\": 1, \"19\": 1, \"88\": 1}, \"34\": {\"34\": 22, \"6\": 2, \"128\": 2, \"8\": 1, \"72\": 2, \"103\": 1, \"85\": 1, \"75\": 1}, \"81\": {\"81\": 34, \"39\": 1, \"122\": 1}, \"93\": {\"93\": 128}, \"55\": {\"55\": 16}, \"27\": {\"27\": 93, \"122\": 1, \"8\": 1, \"24\": 3, \"108\": 1, \"15\": 1}, \"109\": {\"109\": 107, \"16\": 1, \"70\": 1, \"108\": 1}, \"106\": {\"106\": 108, \"16\": 1, \"113\": 1, \"12\": 1, \"127\": 1, \"15\": 1, \"69\": 1, \"122\": 1, \"105\": 1}, \"68\": {\"68\": 15, \"108\": 1}, \"76\": {\"115\": 1, \"76\": 14, \"78\": 1}, \"103\": {\"103\": 15, \"73\": 1}, \"42\": {\"42\": 24, \"103\": 1, \"108\": 1, \"124\": 2}, \"129\": {\"110\": 1, \"129\": 26, \"73\": 1}, \"94\": {\"94\": 81, \"5\": 1, \"81\": 1, \"3\": 1, \"21\": 1, \"8\": 1, \"7\": 2}, \"123\": {\"123\": 16}, \"61\": {\"61\": 16}, \"51\": {\"73\": 1, \"51\": 9, \"4\": 1, \"129\": 1, \"58\": 1, \"21\": 1, \"12\": 1, \"47\": 1}, \"98\": {\"98\": 114, \"39\": 2, \"90\": 2}, \"56\": {\"56\": 12}, \"14\": {\"14\": 109, \"81\": 1, \"23\": 1, \"101\": 1}, \"90\": {\"90\": 137, \"126\": 1}, \"13\": {\"13\": 16}, \"89\": {\"89\": 32}, \"52\": {\"52\": 19, \"89\": 1}, \"72\": {\"72\": 31, \"21\": 1}, \"79\": {\"79\": 16}, \"113\": {\"113\": 123, \"12\": 1, \"84\": 1, \"39\": 1}}, \"Wisig_1\": {\"68\": {\"68\": 16}, \"7\": {\"7\": 142}, \"125\": {\"125\": 118}, \"111\": {\"111\": 117, \"18\": 1, \"88\": 1, \"93\": 1}, \"101\": {\"101\": 123, \"65\": 1}, \"11\": {\"11\": 136}, \"76\": {\"76\": 16}, \"5\": {\"5\": 86, \"73\": 1, \"44\": 1}, \"123\": {\"123\": 14, \"83\": 1, \"19\": 1}, \"85\": {\"85\": 32}, \"34\": {\"34\": 23, \"125\": 2, \"128\": 1, \"83\": 1, \"29\": 1, \"86\": 1, \"91\": 1, \"14\": 1, \"21\": 1}, \"42\": {\"60\": 2, \"42\": 22, \"109\": 1, \"124\": 1, \"91\": 1, \"7\": 1}, \"81\": {\"81\": 28}, \"127\": {\"127\": 106, \"36\": 1, \"88\": 1}, \"60\": {\"101\": 1, \"60\": 8, \"34\": 2, \"120\": 1, \"72\": 1, \"42\": 1, \"29\": 1, \"14\": 1}, \"77\": {\"77\": 16}, \"65\": {\"83\": 2, \"65\": 5, \"22\": 2, \"115\": 1, \"69\": 2}, \"44\": {\"44\": 76}, \"100\": {\"100\": 16}, \"80\": {\"80\": 16}, \"83\": {\"83\": 26, \"5\": 1, \"98\": 1}, \"51\": {\"51\": 16}, \"93\": {\"93\": 132, \"102\": 1, \"21\": 1}, \"31\": {\"31\": 16}, \"33\": {\"33\": 124, \"19\": 1, \"45\": 1}, \"113\": {\"113\": 121, \"69\": 1, \"16\": 1, \"43\": 1}, \"126\": {\"126\": 122, \"43\": 1, \"26\": 1}, \"10\": {\"10\": 111, \"0\": 8, \"85\": 1}, \"21\": {\"21\": 37, \"128\": 1, \"59\": 1, \"30\": 1}, \"90\": {\"90\": 131, \"113\": 1}, \"38\": {\"38\": 16}, \"96\": {\"96\": 17, \"126\": 2, \"30\": 1}, \"6\": {\"6\": 31, \"51\": 1}, \"121\": {\"121\": 32}, \"37\": {\"37\": 16}, \"88\": {\"88\": 123, \"36\": 1, \"108\": 1, \"15\": 1}, \"54\": {\"54\": 16}, \"92\": {\"92\": 28}, \"19\": {\"19\": 28}, \"47\": {\"47\": 12}, \"94\": {\"94\": 89, \"18\": 1, \"88\": 1, \"113\": 1}, \"66\": {\"66\": 16}, \"73\": {\"73\": 19, \"59\": 1}, \"75\": {\"75\": 16}, \"28\": {\"28\": 19, \"65\": 1}, \"20\": {\"20\": 16}, \"78\": {\"21\": 1, \"78\": 14, \"34\": 1}, \"71\": {\"71\": 100, \"7\": 1, \"43\": 1, \"23\": 1, \"127\": 1}, \"13\": {\"13\": 16}, \"118\": {\"118\": 83, \"7\": 1}, \"72\": {\"72\": 32}, \"24\": {\"24\": 87, \"111\": 1, \"12\": 1, \"108\": 2, \"36\": 1}, \"41\": {\"41\": 16}, \"102\": {\"102\": 119, \"87\": 1}, \"8\": {\"21\": 1, \"8\": 136, \"124\": 1}, \"39\": {\"39\": 94, \"88\": 1, \"43\": 1}, \"97\": {\"97\": 19, \"2\": 1}, \"48\": {\"48\": 12}, \"57\": {\"57\": 12}, \"29\": {\"29\": 28}, \"119\": {\"119\": 16}, \"89\": {\"89\": 36}, \"40\": {\"40\": 139, \"105\": 1}, \"22\": {\"97\": 1, \"22\": 15}, \"53\": {\"53\": 18, \"70\": 2}, \"108\": {\"108\": 124}, \"23\": {\"23\": 17, \"42\": 1, \"28\": 1, \"6\": 1, \"35\": 1, \"55\": 2, \"45\": 1}, \"109\": {\"109\": 115, \"126\": 1}, \"112\": {\"112\": 16}, \"35\": {\"35\": 12}, \"3\": {\"3\": 84, \"122\": 1, \"36\": 1, \"93\": 1, \"43\": 1}, \"103\": {\"103\": 14, \"94\": 1, \"52\": 1}, \"4\": {\"4\": 98, \"39\": 1, \"45\": 1}, \"87\": {\"87\": 106, \"7\": 1, \"93\": 1}, \"25\": {\"23\": 1, \"25\": 14, \"73\": 1}, \"15\": {\"15\": 93, \"111\": 7, \"69\": 1, \"43\": 1, \"7\": 1, \"44\": 1}, \"95\": {\"95\": 36}, \"120\": {\"120\": 18, \"6\": 1, \"15\": 1}, \"59\": {\"59\": 11, \"86\": 1}, \"49\": {\"49\": 17, \"31\": 1, \"82\": 1, \"7\": 1}, \"52\": {\"52\": 20}, \"45\": {\"49\": 1, \"45\": 8, \"46\": 1, \"47\": 1, \"55\": 1}, \"107\": {\"107\": 124}, \"106\": {\"106\": 133, \"10\": 1}, \"18\": {\"18\": 124}, \"64\": {\"64\": 16}, \"86\": {\"86\": 35, \"72\": 1}, \"14\": {\"14\": 96}, \"115\": {\"115\": 12}, \"0\": {\"0\": 83, \"49\": 1}, \"104\": {\"104\": 16}, \"61\": {\"61\": 12}, \"129\": {\"129\": 26, \"14\": 2}, \"122\": {\"122\": 87, \"43\": 1}, \"67\": {\"67\": 14, \"21\": 1, \"115\": 1}, \"128\": {\"128\": 24}, \"26\": {\"26\": 131, \"105\": 1, \"7\": 1, \"128\": 1}, \"117\": {\"117\": 136}, \"91\": {\"91\": 27, \"86\": 1}, \"12\": {\"12\": 100, \"15\": 1, \"108\": 2, \"88\": 1}, \"50\": {\"50\": 16}, \"99\": {\"99\": 24}, \"110\": {\"110\": 104}, \"43\": {\"43\": 111, \"24\": 1, \"18\": 1, \"70\": 1, \"94\": 1, \"5\": 1}, \"82\": {\"82\": 36}, \"1\": {\"1\": 95, \"126\": 1}, \"46\": {\"12\": 2, \"46\": 8, \"70\": 1, \"86\": 1}, \"16\": {\"16\": 106, \"39\": 1, \"43\": 1}, \"74\": {\"74\": 16}, \"32\": {\"32\": 29, \"127\": 1, \"93\": 1, \"30\": 1}, \"62\": {\"62\": 118, \"88\": 1, \"94\": 1}, \"27\": {\"27\": 90, \"43\": 1, \"24\": 1}, \"17\": {\"17\": 16}, \"36\": {\"36\": 130, \"88\": 1, \"39\": 1, \"24\": 2}, \"2\": {\"2\": 23, \"128\": 2, \"70\": 1, \"11\": 2, \"1\": 1, \"13\": 1, \"82\": 1, \"96\": 1}, \"70\": {\"70\": 125, \"49\": 1, \"12\": 2}, \"9\": {\"9\": 32}, \"114\": {\"114\": 130}, \"79\": {\"79\": 12}, \"56\": {\"56\": 11, \"112\": 1}, \"124\": {\"124\": 102}, \"84\": {\"84\": 134}, \"69\": {\"69\": 106, \"34\": 1, \"12\": 1}, \"58\": {\"58\": 10, \"125\": 2}, \"30\": {\"30\": 52}, \"55\": {\"55\": 12}, \"105\": {\"105\": 84}, \"63\": {\"63\": 16}, \"98\": {\"98\": 107, \"57\": 1}, \"116\": {\"116\": 31, \"102\": 1}}, \"Wisig_3\": {\"76\": {\"76\": 16}, \"6\": {\"6\": 24, \"58\": 1, \"75\": 1, \"34\": 3, \"77\": 1, \"91\": 1, \"45\": 1}, \"108\": {\"108\": 104, \"8\": 2}, \"29\": {\"29\": 32}, \"83\": {\"83\": 24}, \"18\": {\"18\": 126, \"84\": 1, \"78\": 1}, \"54\": {\"54\": 16}, \"15\": {\"15\": 104}, \"100\": {\"100\": 16}, \"90\": {\"90\": 133, \"86\": 1, \"44\": 1, \"125\": 1}, \"26\": {\"26\": 130, \"23\": 1, \"5\": 1}, \"115\": {\"115\": 16}, \"94\": {\"94\": 83, \"30\": 1}, \"46\": {\"46\": 16}, \"121\": {\"121\": 32}, \"109\": {\"109\": 125, \"118\": 3}, \"101\": {\"101\": 50, \"0\": 1, \"8\": 1}, \"99\": {\"99\": 36}, \"8\": {\"8\": 126, \"5\": 1, \"27\": 1}, \"102\": {\"102\": 104}, \"122\": {\"113\": 1, \"122\": 56, \"115\": 1, \"128\": 1, \"126\": 1}, \"36\": {\"36\": 109, \"27\": 4, \"24\": 2, \"98\": 1}, \"113\": {\"113\": 119, \"126\": 1}, \"123\": {\"123\": 16}, \"120\": {\"120\": 20}, \"125\": {\"125\": 107, \"124\": 1}, \"89\": {\"89\": 27, \"87\": 1}, \"9\": {\"9\": 32}, \"31\": {\"31\": 20}, \"62\": {\"62\": 112, \"126\": 1, \"110\": 1}, \"49\": {\"49\": 22, \"42\": 1, \"29\": 1}, \"23\": {\"23\": 23, \"52\": 1, \"73\": 1, \"110\": 1, \"64\": 2, \"19\": 1, \"60\": 1, \"21\": 2}, \"55\": {\"55\": 16}, \"128\": {\"128\": 30, \"19\": 1, \"30\": 1}, \"71\": {\"71\": 67, \"96\": 1}, \"51\": {\"51\": 16}, \"7\": {\"7\": 106}, \"117\": {\"117\": 104}, \"28\": {\"28\": 16}, \"127\": {\"127\": 127, \"17\": 1}, \"57\": {\"57\": 20}, \"78\": {\"78\": 12, \"122\": 1, \"84\": 1, \"54\": 1, \"116\": 1}, \"87\": {\"87\": 119, \"27\": 1}, \"40\": {\"40\": 127, \"23\": 1}, \"81\": {\"81\": 32}, \"2\": {\"2\": 26, \"26\": 1, \"39\": 1}, \"58\": {\"58\": 16}, \"68\": {\"68\": 15, \"6\": 1}, \"20\": {\"20\": 15, \"31\": 1}, \"35\": {\"35\": 12}, \"96\": {\"96\": 20}, \"84\": {\"84\": 108}, \"13\": {\"122\": 1, \"87\": 1, \"13\": 12, \"43\": 1, \"81\": 1}, \"64\": {\"64\": 20}, \"112\": {\"112\": 13, \"42\": 1, \"108\": 1, \"94\": 1}, \"103\": {\"103\": 16}, \"65\": {\"65\": 11, \"63\": 1}, \"118\": {\"118\": 100}, \"88\": {\"88\": 107, \"122\": 1, \"39\": 1, \"0\": 1, \"36\": 1, \"106\": 1}, \"85\": {\"85\": 36}, \"5\": {\"5\": 107, \"21\": 1, \"113\": 1, \"88\": 1, \"1\": 2}, \"93\": {\"93\": 137, \"90\": 1}, \"43\": {\"43\": 50, \"39\": 2, \"87\": 1, \"128\": 1, \"13\": 1, \"33\": 1}, \"67\": {\"67\": 15, \"101\": 1}, \"48\": {\"48\": 12, \"7\": 2, \"124\": 1, \"22\": 1}, \"73\": {\"73\": 38, \"78\": 1, \"62\": 1}, \"34\": {\"28\": 1, \"34\": 26, \"99\": 1, \"66\": 1, \"21\": 1, \"9\": 1, \"32\": 1}, \"91\": {\"91\": 22, \"28\": 1, \"21\": 1}, \"105\": {\"105\": 124}, \"10\": {\"10\": 104, \"5\": 1, \"4\": 1}, \"61\": {\"61\": 16}, \"74\": {\"74\": 15, \"82\": 1}, \"4\": {\"4\": 95, \"110\": 1}, \"37\": {\"37\": 16}, \"19\": {\"19\": 32}, \"44\": {\"44\": 72}, \"52\": {\"52\": 16}, \"92\": {\"92\": 32}, \"33\": {\"33\": 128}, \"45\": {\"45\": 16}, \"11\": {\"11\": 127, \"19\": 1}, \"129\": {\"129\": 31, \"110\": 1}, \"116\": {\"116\": 24, \"87\": 2, \"26\": 1, \"13\": 1}, \"75\": {\"75\": 16}, \"41\": {\"41\": 16}, \"21\": {\"21\": 45, \"43\": 1, \"101\": 1, \"3\": 1}, \"69\": {\"69\": 83, \"56\": 1}, \"16\": {\"16\": 107, \"21\": 1}, \"25\": {\"25\": 16}, \"12\": {\"12\": 103, \"88\": 1}, \"72\": {\"72\": 28}, \"0\": {\"0\": 115, \"26\": 1}, \"50\": {\"50\": 16}, \"107\": {\"107\": 140}, \"124\": {\"124\": 124}, \"53\": {\"53\": 18, \"85\": 1, \"127\": 1}, \"66\": {\"66\": 16}, \"47\": {\"47\": 12}, \"24\": {\"24\": 46, \"27\": 1, \"39\": 1}, \"95\": {\"95\": 31, \"23\": 1}, \"98\": {\"98\": 105, \"44\": 1}, \"63\": {\"63\": 16}, \"3\": {\"3\": 114, \"113\": 2}, \"14\": {\"14\": 80}, \"1\": {\"1\": 108}, \"38\": {\"38\": 16}, \"110\": {\"110\": 88, \"68\": 2, \"101\": 1, \"39\": 1}, \"17\": {\"67\": 1, \"17\": 8, \"39\": 1, \"40\": 2, \"23\": 1, \"65\": 2, \"78\": 1}, \"30\": {\"30\": 83, \"93\": 1}, \"56\": {\"56\": 11, \"75\": 1}, \"27\": {\"27\": 85, \"36\": 7, \"5\": 1, \"24\": 1, \"101\": 1, \"117\": 1}, \"104\": {\"104\": 16}, \"97\": {\"97\": 20}, \"42\": {\"42\": 21, \"25\": 1, \"108\": 2, \"112\": 4}, \"39\": {\"39\": 107, \"81\": 1}, \"70\": {\"70\": 71, \"101\": 1}, \"86\": {\"86\": 28}, \"119\": {\"119\": 16}, \"77\": {\"77\": 16}, \"59\": {\"59\": 12}, \"22\": {\"22\": 16}, \"79\": {\"79\": 12}, \"80\": {\"80\": 16}, \"111\": {\"111\": 129, \"77\": 1, \"124\": 1, \"5\": 1}, \"82\": {\"82\": 28}, \"126\": {\"126\": 121, \"39\": 1, \"21\": 1, \"122\": 1}, \"32\": {\"32\": 26, \"124\": 1, \"94\": 1, \"86\": 1, \"103\": 1, \"9\": 1, \"10\": 1}, \"106\": {\"106\": 99, \"39\": 1}, \"60\": {\"60\": 25, \"110\": 3}, \"114\": {\"114\": 106, \"107\": 1, \"39\": 1}}, \"ORACLE.run18\": {\"13\": {\"11\": 8, \"5\": 21, \"1\": 14, \"10\": 16, \"15\": 9, \"4\": 10, \"7\": 15, \"2\": 19, \"0\": 19, \"6\": 17, \"3\": 15, \"13\": 22, \"8\": 13, \"9\": 9, \"12\": 13, \"14\": 20}, \"9\": {\"10\": 21, \"9\": 111, \"11\": 3, \"13\": 21, \"4\": 11, \"6\": 8, \"0\": 10, \"5\": 14, \"1\": 6, \"12\": 1, \"7\": 14, \"14\": 13, \"2\": 4, \"8\": 1, \"15\": 1, \"3\": 1}, \"15\": {\"8\": 22, \"2\": 19, \"12\": 20, \"4\": 14, \"6\": 18, \"13\": 13, \"1\": 19, \"10\": 8, \"11\": 17, \"15\": 19, \"7\": 4, \"3\": 28, \"5\": 12, \"0\": 14, \"14\": 13}, \"2\": {\"11\": 16, \"5\": 9, \"8\": 17, \"1\": 8, \"15\": 10, \"3\": 20, \"0\": 23, \"10\": 13, \"6\": 21, \"2\": 24, \"7\": 14, \"4\": 17, \"14\": 15, \"12\": 16, \"13\": 14, \"9\": 3}, \"3\": {\"6\": 20, \"2\": 21, \"14\": 13, \"13\": 6, \"10\": 11, \"15\": 20, \"12\": 19, \"4\": 16, \"3\": 15, \"7\": 17, \"5\": 14, \"0\": 13, \"8\": 21, \"11\": 15, \"1\": 19}, \"8\": {\"0\": 8, \"11\": 21, \"5\": 16, \"4\": 17, \"1\": 17, \"8\": 19, \"13\": 10, \"15\": 20, \"2\": 18, \"6\": 15, \"3\": 24, \"12\": 19, \"14\": 17, \"7\": 10, \"10\": 9}, \"5\": {\"10\": 19, \"8\": 14, \"11\": 12, \"4\": 16, \"1\": 21, \"14\": 21, \"13\": 17, \"5\": 22, \"7\": 14, \"2\": 20, \"15\": 8, \"0\": 15, \"12\": 10, \"3\": 11, \"6\": 13, \"9\": 7}, \"14\": {\"5\": 20, \"12\": 12, \"4\": 24, \"14\": 14, \"15\": 6, \"13\": 16, \"10\": 14, \"0\": 23, \"3\": 7, \"8\": 9, \"11\": 15, \"7\": 22, \"2\": 24, \"6\": 11, \"1\": 20, \"9\": 3}, \"1\": {\"0\": 14, \"4\": 13, \"1\": 18, \"5\": 15, \"11\": 15, \"13\": 18, \"7\": 23, \"10\": 10, \"9\": 3, \"2\": 15, \"15\": 22, \"8\": 10, \"3\": 14, \"6\": 17, \"12\": 17, \"14\": 16}, \"0\": {\"6\": 26, \"2\": 22, \"11\": 9, \"0\": 15, \"15\": 15, \"3\": 15, \"7\": 22, \"10\": 12, \"4\": 18, \"1\": 15, \"8\": 14, \"12\": 6, \"14\": 17, \"9\": 6, \"13\": 17, \"5\": 11}, \"10\": {\"4\": 19, \"5\": 23, \"10\": 17, \"14\": 21, \"11\": 15, \"6\": 15, \"15\": 14, \"0\": 26, \"13\": 21, \"7\": 13, \"9\": 11, \"12\": 5, \"8\": 8, \"2\": 13, \"1\": 12, \"3\": 7}, \"6\": {\"6\": 13, \"15\": 16, \"11\": 15, \"8\": 23, \"0\": 21, \"1\": 14, \"14\": 22, \"2\": 22, \"7\": 13, \"3\": 13, \"13\": 16, \"4\": 12, \"10\": 13, \"5\": 13, \"9\": 3, \"12\": 11}, \"11\": {\"4\": 13, \"14\": 11, \"1\": 18, \"8\": 17, \"6\": 16, \"3\": 20, \"11\": 17, \"5\": 21, \"13\": 13, \"7\": 17, \"2\": 18, \"12\": 15, \"15\": 18, \"10\": 11, \"0\": 13, \"9\": 2}, \"7\": {\"2\": 23, \"6\": 13, \"3\": 15, \"0\": 14, \"15\": 14, \"13\": 17, \"8\": 18, \"10\": 20, \"14\": 17, \"5\": 9, \"7\": 15, \"11\": 14, \"4\": 20, \"12\": 14, \"1\": 12, \"9\": 5}, \"4\": {\"14\": 10, \"9\": 6, \"13\": 23, \"11\": 16, \"2\": 12, \"5\": 18, \"10\": 17, \"7\": 24, \"8\": 12, \"0\": 17, \"15\": 17, \"3\": 12, \"4\": 12, \"6\": 13, \"1\": 16, \"12\": 15}, \"12\": {\"14\": 14, \"2\": 23, \"11\": 18, \"4\": 16, \"1\": 18, \"3\": 11, \"13\": 9, \"0\": 8, \"10\": 15, \"15\": 24, \"5\": 12, \"12\": 24, \"7\": 12, \"8\": 23, \"6\": 13}}, \"ORACLE.run138\": {\"13\": {\"9\": 16, \"13\": 15, \"0\": 9, \"1\": 29, \"14\": 14, \"2\": 20, \"15\": 23, \"8\": 23, \"7\": 12, \"12\": 3, \"6\": 24, \"5\": 13, \"10\": 11, \"11\": 12, \"3\": 16}, \"12\": {\"12\": 47, \"4\": 57, \"2\": 2, \"14\": 31, \"6\": 3, \"11\": 25, \"8\": 10, \"5\": 5, \"7\": 11, \"13\": 3, \"1\": 1, \"0\": 16, \"10\": 17, \"15\": 4, \"3\": 7, \"9\": 1}, \"2\": {\"2\": 27, \"14\": 32, \"1\": 23, \"0\": 11, \"11\": 25, \"13\": 27, \"15\": 10, \"9\": 13, \"8\": 14, \"6\": 11, \"5\": 11, \"7\": 8, \"10\": 15, \"12\": 8, \"3\": 5}, \"9\": {\"14\": 9, \"15\": 22, \"5\": 15, \"6\": 28, \"3\": 27, \"13\": 18, \"8\": 14, \"11\": 7, \"1\": 25, \"2\": 15, \"9\": 27, \"0\": 14, \"10\": 10, \"7\": 6, \"12\": 3}, \"15\": {\"15\": 19, \"3\": 19, \"5\": 25, \"10\": 16, \"1\": 21, \"13\": 25, \"9\": 20, \"7\": 6, \"11\": 10, \"14\": 20, \"8\": 15, \"6\": 17, \"2\": 16, \"12\": 5, \"0\": 5, \"4\": 1}, \"5\": {\"15\": 14, \"7\": 22, \"6\": 18, \"1\": 12, \"5\": 11, \"3\": 14, \"8\": 17, \"11\": 16, \"14\": 15, \"9\": 27, \"2\": 14, \"12\": 10, \"0\": 24, \"13\": 12, \"10\": 12, \"4\": 2}, \"14\": {\"4\": 10, \"11\": 31, \"3\": 3, \"0\": 13, \"10\": 24, \"13\": 8, \"12\": 27, \"7\": 12, \"8\": 11, \"5\": 15, \"15\": 15, \"2\": 20, \"14\": 38, \"9\": 3, \"6\": 7, \"1\": 3}, \"0\": {\"11\": 11, \"15\": 23, \"14\": 7, \"13\": 10, \"8\": 25, \"0\": 23, \"6\": 17, \"4\": 12, \"3\": 29, \"9\": 15, \"5\": 13, \"10\": 14, \"7\": 15, \"12\": 18, \"2\": 5, \"1\": 3}, \"3\": {\"15\": 11, \"14\": 7, \"1\": 9, \"0\": 26, \"8\": 25, \"9\": 24, \"7\": 20, \"10\": 18, \"3\": 32, \"6\": 27, \"11\": 6, \"2\": 4, \"13\": 14, \"5\": 14, \"12\": 3}, \"1\": {\"0\": 7, \"9\": 23, \"8\": 18, \"3\": 13, \"15\": 19, \"2\": 25, \"14\": 12, \"6\": 19, \"12\": 3, \"10\": 9, \"13\": 19, \"1\": 38, \"5\": 22, \"7\": 6, \"11\": 6, \"4\": 1}, \"11\": {\"4\": 23, \"12\": 20, \"14\": 38, \"6\": 7, \"13\": 12, \"8\": 11, \"11\": 52, \"2\": 15, \"9\": 4, \"10\": 13, \"7\": 11, \"5\": 12, \"15\": 8, \"3\": 4, \"0\": 5, \"1\": 5}, \"7\": {\"6\": 11, \"7\": 24, \"12\": 19, \"8\": 17, \"13\": 8, \"3\": 21, \"9\": 14, \"10\": 24, \"4\": 15, \"0\": 23, \"1\": 7, \"5\": 14, \"14\": 12, \"2\": 8, \"15\": 9, \"11\": 14}, \"8\": {\"7\": 24, \"0\": 18, \"13\": 12, \"14\": 17, \"8\": 24, \"6\": 18, \"4\": 5, \"9\": 14, \"5\": 17, \"15\": 19, \"10\": 19, \"3\": 12, \"12\": 14, \"11\": 10, \"1\": 7, \"2\": 10}, \"4\": {\"4\": 81, \"10\": 10, \"12\": 61, \"11\": 26, \"3\": 6, \"9\": 1, \"7\": 17, \"0\": 7, \"14\": 15, \"5\": 5, \"8\": 7, \"2\": 2, \"15\": 2}, \"10\": {\"4\": 17, \"14\": 21, \"0\": 14, \"13\": 12, \"6\": 6, \"3\": 13, \"12\": 16, \"11\": 16, \"10\": 21, \"5\": 18, \"7\": 17, \"15\": 13, \"2\": 22, \"9\": 9, \"8\": 16, \"1\": 9}, \"6\": {\"14\": 6, \"15\": 15, \"2\": 18, \"0\": 10, \"10\": 7, \"5\": 19, \"1\": 27, \"9\": 35, \"6\": 26, \"11\": 7, \"3\": 21, \"7\": 11, \"8\": 21, \"13\": 13, \"12\": 3, \"4\": 1}}, \"ORACLE.run126\": {\"10\": {\"4\": 19, \"10\": 27, \"0\": 19, \"3\": 15, \"11\": 8, \"2\": 19, \"8\": 12, \"14\": 18, \"9\": 15, \"15\": 11, \"7\": 16, \"1\": 11, \"12\": 17, \"6\": 15, \"5\": 13, \"13\": 5}, \"12\": {\"10\": 20, \"12\": 23, \"15\": 19, \"9\": 9, \"3\": 10, \"11\": 22, \"13\": 16, \"7\": 8, \"6\": 25, \"4\": 12, \"5\": 14, \"2\": 14, \"8\": 7, \"14\": 17, \"0\": 16, \"1\": 8}, \"1\": {\"3\": 23, \"2\": 18, \"10\": 12, \"1\": 22, \"7\": 21, \"9\": 12, \"14\": 15, \"4\": 26, \"0\": 17, \"8\": 17, \"5\": 12, \"12\": 7, \"15\": 13, \"13\": 7, \"6\": 12, \"11\": 6}, \"0\": {\"6\": 14, \"3\": 11, \"1\": 26, \"8\": 17, \"12\": 12, \"9\": 13, \"5\": 15, \"15\": 9, \"2\": 14, \"13\": 19, \"7\": 10, \"4\": 17, \"11\": 3, \"10\": 21, \"14\": 21, \"0\": 18}, \"15\": {\"8\": 18, \"9\": 13, \"13\": 12, \"6\": 20, \"0\": 10, \"4\": 22, \"3\": 10, \"11\": 14, \"10\": 15, \"12\": 12, \"5\": 26, \"15\": 12, \"2\": 19, \"7\": 12, \"14\": 13, \"1\": 12}, \"13\": {\"11\": 18, \"9\": 22, \"2\": 19, \"3\": 11, \"1\": 11, \"13\": 27, \"5\": 25, \"6\": 15, \"0\": 13, \"10\": 9, \"7\": 11, \"12\": 22, \"4\": 15, \"14\": 7, \"8\": 10, \"15\": 5}, \"8\": {\"15\": 14, \"6\": 17, \"9\": 17, \"4\": 23, \"5\": 17, \"2\": 16, \"12\": 9, \"8\": 7, \"1\": 22, \"0\": 17, \"7\": 19, \"13\": 9, \"3\": 8, \"14\": 20, \"10\": 15, \"11\": 10}, \"3\": {\"13\": 22, \"2\": 15, \"0\": 15, \"7\": 18, \"1\": 17, \"4\": 16, \"15\": 15, \"9\": 19, \"11\": 6, \"10\": 16, \"3\": 20, \"6\": 13, \"14\": 16, \"12\": 9, \"8\": 8, \"5\": 15}, \"11\": {\"13\": 19, \"1\": 9, \"9\": 16, \"6\": 17, \"0\": 5, \"12\": 25, \"11\": 55, \"8\": 14, \"2\": 15, \"5\": 27, \"15\": 11, \"4\": 8, \"14\": 3, \"3\": 8, \"10\": 5, \"7\": 3}, \"4\": {\"6\": 23, \"1\": 22, \"14\": 22, \"8\": 15, \"15\": 13, \"12\": 7, \"2\": 12, \"11\": 1, \"3\": 14, \"0\": 20, \"10\": 19, \"7\": 13, \"4\": 22, \"5\": 18, \"9\": 7, \"13\": 12}, \"6\": {\"2\": 11, \"9\": 15, \"7\": 16, \"15\": 14, \"6\": 20, \"4\": 19, \"5\": 17, \"13\": 16, \"1\": 11, \"3\": 14, \"0\": 18, \"11\": 5, \"8\": 23, \"12\": 14, \"14\": 15, \"10\": 12}, \"7\": {\"4\": 18, \"13\": 17, \"14\": 12, \"9\": 23, \"1\": 22, \"3\": 17, \"5\": 11, \"12\": 11, \"11\": 6, \"0\": 16, \"10\": 20, \"2\": 12, \"6\": 15, \"8\": 15, \"7\": 7, \"15\": 18}, \"14\": {\"8\": 19, \"10\": 21, \"6\": 12, \"1\": 22, \"13\": 8, \"0\": 27, \"12\": 10, \"2\": 10, \"3\": 21, \"14\": 22, \"4\": 14, \"5\": 11, \"15\": 13, \"9\": 6, \"7\": 20, \"11\": 4}, \"2\": {\"13\": 22, \"1\": 17, \"2\": 16, \"0\": 17, \"12\": 17, \"15\": 16, \"8\": 13, \"5\": 16, \"10\": 8, \"7\": 14, \"4\": 16, \"6\": 17, \"9\": 17, \"3\": 16, \"14\": 12, \"11\": 6}, \"5\": {\"15\": 16, \"12\": 19, \"5\": 16, \"3\": 15, \"6\": 14, \"11\": 14, \"2\": 19, \"8\": 14, \"1\": 10, \"9\": 22, \"10\": 16, \"13\": 22, \"4\": 10, \"14\": 8, \"7\": 19, \"0\": 6}, \"9\": {\"0\": 13, \"13\": 17, \"1\": 15, \"4\": 15, \"11\": 6, \"2\": 14, \"5\": 21, \"12\": 14, \"15\": 15, \"14\": 20, \"8\": 18, \"9\": 14, \"7\": 7, \"10\": 22, \"6\": 19, \"3\": 10}}, \"ORACLE.run120\": {\"5\": {\"11\": 14, \"10\": 15, \"3\": 16, \"0\": 16, \"5\": 12, \"8\": 13, \"2\": 29, \"14\": 9, \"1\": 11, \"12\": 22, \"15\": 22, \"13\": 9, \"6\": 7, \"4\": 19, \"7\": 14, \"9\": 12}, \"15\": {\"13\": 18, \"9\": 21, \"12\": 17, \"15\": 18, \"4\": 18, \"0\": 21, \"2\": 14, \"8\": 19, \"3\": 15, \"14\": 7, \"11\": 10, \"1\": 13, \"7\": 12, \"5\": 18, \"6\": 10, \"10\": 9}, \"9\": {\"8\": 15, \"2\": 9, \"6\": 13, \"10\": 12, \"5\": 15, \"11\": 22, \"12\": 18, \"7\": 10, \"15\": 17, \"4\": 13, \"13\": 19, \"0\": 13, \"9\": 12, \"3\": 19, \"1\": 16, \"14\": 17}, \"7\": {\"1\": 12, \"9\": 18, \"0\": 15, \"15\": 9, \"14\": 20, \"8\": 16, \"11\": 13, \"4\": 19, \"10\": 19, \"3\": 14, \"12\": 10, \"5\": 16, \"2\": 16, \"13\": 17, \"7\": 7, \"6\": 19}, \"3\": {\"1\": 15, \"8\": 21, \"13\": 11, \"14\": 15, \"6\": 10, \"2\": 17, \"10\": 11, \"9\": 14, \"15\": 14, \"0\": 18, \"5\": 14, \"7\": 20, \"12\": 13, \"11\": 9, \"3\": 17, \"4\": 21}, \"8\": {\"2\": 15, \"11\": 10, \"10\": 20, \"7\": 22, \"4\": 20, \"3\": 16, \"0\": 17, \"9\": 8, \"8\": 13, \"15\": 13, \"6\": 20, \"13\": 11, \"14\": 19, \"12\": 14, \"1\": 10, \"5\": 12}, \"4\": {\"3\": 14, \"14\": 18, \"12\": 16, \"1\": 11, \"6\": 26, \"10\": 19, \"0\": 15, \"2\": 26, \"11\": 10, \"4\": 15, \"7\": 8, \"9\": 16, \"5\": 15, \"8\": 15, \"15\": 11, \"13\": 5}, \"6\": {\"0\": 13, \"4\": 20, \"15\": 6, \"2\": 21, \"3\": 14, \"11\": 15, \"8\": 22, \"10\": 15, \"9\": 11, \"7\": 13, \"14\": 24, \"12\": 13, \"1\": 19, \"6\": 23, \"13\": 2, \"5\": 9}, \"2\": {\"11\": 22, \"13\": 11, \"4\": 19, \"14\": 15, \"1\": 17, \"9\": 11, \"0\": 17, \"6\": 17, \"10\": 17, \"5\": 15, \"3\": 13, \"15\": 15, \"7\": 16, \"8\": 7, \"12\": 15, \"2\": 13}, \"12\": {\"9\": 15, \"7\": 19, \"12\": 16, \"4\": 17, \"14\": 13, \"11\": 11, \"1\": 13, \"15\": 17, \"13\": 23, \"0\": 17, \"5\": 12, \"2\": 13, \"8\": 13, \"3\": 17, \"6\": 16, \"10\": 8}, \"0\": {\"14\": 10, \"7\": 13, \"9\": 15, \"15\": 21, \"13\": 19, \"11\": 18, \"10\": 9, \"1\": 17, \"0\": 16, \"6\": 17, \"2\": 18, \"4\": 10, \"5\": 15, \"3\": 12, \"12\": 13, \"8\": 17}, \"13\": {\"0\": 24, \"14\": 6, \"4\": 11, \"1\": 12, \"5\": 13, \"13\": 20, \"11\": 19, \"10\": 5, \"12\": 18, \"6\": 23, \"2\": 23, \"7\": 17, \"3\": 12, \"15\": 15, \"8\": 11, \"9\": 11}, \"10\": {\"14\": 28, \"3\": 15, \"11\": 18, \"0\": 10, \"4\": 19, \"2\": 13, \"7\": 13, \"8\": 22, \"9\": 14, \"1\": 12, \"6\": 18, \"13\": 8, \"10\": 22, \"5\": 11, \"12\": 8, \"15\": 9}, \"11\": {\"11\": 29, \"14\": 10, \"6\": 12, \"13\": 21, \"5\": 15, \"4\": 15, \"2\": 17, \"15\": 15, \"7\": 10, \"12\": 18, \"1\": 20, \"0\": 10, \"8\": 9, \"9\": 14, \"10\": 10, \"3\": 15}, \"14\": {\"6\": 22, \"11\": 15, \"8\": 22, \"0\": 12, \"14\": 27, \"4\": 24, \"7\": 21, \"3\": 15, \"15\": 8, \"9\": 14, \"5\": 8, \"2\": 10, \"10\": 18, \"12\": 8, \"13\": 10, \"1\": 6}, \"1\": {\"13\": 20, \"11\": 23, \"6\": 13, \"1\": 14, \"4\": 25, \"0\": 16, \"12\": 18, \"2\": 14, \"5\": 17, \"7\": 11, \"14\": 12, \"8\": 13, \"15\": 12, \"9\": 14, \"10\": 9, \"3\": 9}}, \"ORACLE.run150\": {\"1\": {\"4\": 15, \"9\": 22, \"2\": 11, \"1\": 18, \"6\": 17, \"14\": 18, \"10\": 15, \"11\": 31, \"13\": 17, \"8\": 7, \"12\": 11, \"0\": 7, \"7\": 19, \"15\": 17, \"5\": 9, \"3\": 6}, \"2\": {\"7\": 14, \"2\": 28, \"10\": 29, \"8\": 21, \"0\": 22, \"9\": 9, \"14\": 15, \"12\": 21, \"6\": 9, \"15\": 7, \"11\": 10, \"3\": 17, \"5\": 12, \"1\": 8, \"4\": 8, \"13\": 10}, \"8\": {\"8\": 28, \"0\": 25, \"2\": 21, \"3\": 42, \"5\": 11, \"14\": 10, \"10\": 30, \"1\": 5, \"7\": 17, \"13\": 14, \"4\": 12, \"15\": 5, \"9\": 3, \"6\": 7, \"12\": 9, \"11\": 1}, \"7\": {\"15\": 17, \"11\": 14, \"4\": 26, \"6\": 15, \"3\": 14, \"9\": 13, \"12\": 9, \"1\": 18, \"2\": 14, \"10\": 9, \"13\": 20, \"0\": 13, \"7\": 17, \"14\": 6, \"5\": 20, \"8\": 15}, \"14\": {\"2\": 21, \"0\": 16, \"6\": 18, \"1\": 25, \"14\": 16, \"5\": 13, \"9\": 24, \"11\": 17, \"15\": 11, \"12\": 27, \"4\": 7, \"10\": 12, \"13\": 12, \"7\": 9, \"8\": 8, \"3\": 4}, \"6\": {\"11\": 19, \"1\": 19, \"13\": 14, \"7\": 22, \"9\": 16, \"14\": 11, \"15\": 23, \"3\": 13, \"5\": 18, \"4\": 16, \"12\": 14, \"10\": 7, \"2\": 11, \"8\": 9, \"0\": 11, \"6\": 17}, \"3\": {\"14\": 4, \"3\": 42, \"0\": 20, \"5\": 10, \"8\": 33, \"7\": 26, \"2\": 16, \"6\": 16, \"4\": 3, \"10\": 34, \"13\": 11, \"9\": 5, \"15\": 5, \"1\": 4, \"11\": 7, \"12\": 4}, \"4\": {\"1\": 14, \"7\": 23, \"0\": 10, \"13\": 14, \"9\": 23, \"10\": 9, \"15\": 20, \"12\": 12, \"5\": 18, \"11\": 21, \"14\": 17, \"4\": 33, \"6\": 16, \"3\": 4, \"2\": 5, \"8\": 1}, \"12\": {\"2\": 16, \"1\": 22, \"5\": 8, \"7\": 14, \"15\": 12, \"14\": 27, \"9\": 19, \"13\": 11, \"6\": 12, \"11\": 20, \"0\": 14, \"12\": 30, \"10\": 15, \"4\": 11, \"3\": 4, \"8\": 5}, \"15\": {\"15\": 28, \"6\": 25, \"4\": 19, \"1\": 17, \"14\": 12, \"12\": 10, \"11\": 19, \"10\": 9, \"5\": 22, \"13\": 23, \"7\": 20, \"9\": 14, \"0\": 6, \"3\": 6, \"2\": 7, \"8\": 3}, \"11\": {\"15\": 25, \"1\": 27, \"5\": 21, \"14\": 18, \"10\": 8, \"13\": 16, \"8\": 2, \"4\": 13, \"6\": 17, \"9\": 19, \"0\": 11, \"12\": 21, \"11\": 23, \"3\": 2, \"7\": 14, \"2\": 3}, \"0\": {\"0\": 21, \"14\": 14, \"8\": 37, \"7\": 18, \"4\": 5, \"11\": 6, \"12\": 19, \"10\": 20, \"5\": 11, \"1\": 13, \"6\": 4, \"13\": 12, \"2\": 28, \"15\": 8, \"3\": 18, \"9\": 6}, \"9\": {\"11\": 24, \"5\": 17, \"1\": 24, \"7\": 13, \"15\": 22, \"13\": 9, \"14\": 17, \"12\": 19, \"9\": 29, \"0\": 9, \"2\": 18, \"4\": 15, \"8\": 4, \"10\": 7, \"6\": 11, \"3\": 2}, \"10\": {\"2\": 14, \"7\": 15, \"14\": 17, \"8\": 28, \"3\": 24, \"6\": 15, \"4\": 14, \"9\": 16, \"1\": 14, \"13\": 14, \"0\": 20, \"5\": 10, \"15\": 8, \"12\": 10, \"10\": 14, \"11\": 7}, \"5\": {\"6\": 18, \"13\": 23, \"4\": 25, \"5\": 31, \"15\": 10, \"14\": 16, \"9\": 17, \"12\": 7, \"0\": 15, \"11\": 13, \"1\": 15, \"10\": 11, \"8\": 6, \"7\": 19, \"3\": 6, \"2\": 8}, \"13\": {\"11\": 15, \"14\": 12, \"5\": 21, \"6\": 20, \"15\": 20, \"10\": 16, \"1\": 13, \"9\": 15, \"8\": 15, \"0\": 10, \"13\": 16, \"12\": 18, \"3\": 11, \"4\": 15, \"7\": 16, \"2\": 7}}, \"ORACLE.run132\": {\"2\": {\"12\": 14, \"4\": 24, \"0\": 23, \"2\": 22, \"8\": 10, \"7\": 32, \"3\": 9, \"13\": 13, \"9\": 19, \"14\": 14, \"11\": 31, \"15\": 6, \"5\": 16, \"10\": 5, \"6\": 2}, \"6\": {\"5\": 4, \"12\": 37, \"6\": 59, \"2\": 9, \"9\": 17, \"10\": 41, \"1\": 56, \"0\": 4, \"4\": 3, \"14\": 3, \"13\": 2, \"11\": 2, \"7\": 3}, \"5\": {\"2\": 19, \"7\": 15, \"13\": 24, \"4\": 22, \"8\": 13, \"14\": 20, \"9\": 19, \"5\": 21, \"3\": 18, \"15\": 16, \"11\": 20, \"0\": 21, \"10\": 5, \"6\": 1, \"12\": 5, \"1\": 1}, \"12\": {\"2\": 10, \"9\": 32, \"7\": 12, \"10\": 26, \"14\": 11, \"3\": 5, \"0\": 13, \"12\": 40, \"11\": 8, \"1\": 18, \"5\": 10, \"13\": 9, \"6\": 26, \"15\": 6, \"4\": 10, \"8\": 4}, \"13\": {\"2\": 16, \"0\": 22, \"6\": 1, \"11\": 26, \"13\": 29, \"4\": 17, \"14\": 17, \"8\": 34, \"3\": 14, \"12\": 6, \"7\": 13, \"9\": 7, \"5\": 20, \"1\": 1, \"15\": 17}, \"9\": {\"8\": 13, \"10\": 23, \"2\": 20, \"7\": 17, \"11\": 12, \"14\": 13, \"1\": 5, \"6\": 13, \"13\": 20, \"4\": 14, \"5\": 7, \"9\": 38, \"12\": 25, \"15\": 6, \"0\": 11, \"3\": 3}, \"11\": {\"11\": 25, \"2\": 21, \"0\": 24, \"7\": 23, \"8\": 20, \"15\": 5, \"3\": 24, \"9\": 12, \"14\": 26, \"5\": 12, \"4\": 20, \"13\": 17, \"12\": 9, \"10\": 1, \"6\": 1}, \"1\": {\"1\": 89, \"10\": 62, \"14\": 3, \"12\": 18, \"6\": 51, \"11\": 1, \"9\": 6, \"0\": 3, \"8\": 3, \"7\": 2, \"15\": 1, \"13\": 1}, \"3\": {\"8\": 37, \"11\": 23, \"2\": 9, \"15\": 30, \"3\": 25, \"13\": 25, \"4\": 17, \"5\": 22, \"9\": 5, \"7\": 14, \"0\": 17, \"12\": 3, \"14\": 12, \"10\": 1}, \"7\": {\"0\": 23, \"7\": 24, \"12\": 13, \"13\": 19, \"4\": 21, \"9\": 16, \"15\": 8, \"11\": 24, \"14\": 18, \"3\": 15, \"5\": 23, \"2\": 19, \"8\": 12, \"10\": 4, \"6\": 1}, \"14\": {\"4\": 27, \"2\": 18, \"5\": 21, \"13\": 15, \"14\": 29, \"11\": 25, \"9\": 10, \"7\": 12, \"0\": 19, \"8\": 21, \"12\": 8, \"3\": 21, \"15\": 10, \"1\": 2, \"10\": 2}, \"8\": {\"2\": 16, \"3\": 20, \"9\": 9, \"8\": 21, \"11\": 16, \"15\": 27, \"13\": 18, \"12\": 5, \"0\": 18, \"7\": 19, \"4\": 24, \"14\": 18, \"5\": 24, \"10\": 4, \"6\": 1}, \"4\": {\"8\": 23, \"13\": 16, \"4\": 19, \"3\": 13, \"0\": 22, \"15\": 6, \"14\": 24, \"11\": 23, \"2\": 25, \"5\": 19, \"9\": 16, \"7\": 19, \"12\": 13, \"1\": 1, \"10\": 1}, \"0\": {\"5\": 23, \"8\": 19, \"3\": 14, \"0\": 26, \"13\": 25, \"1\": 2, \"15\": 8, \"4\": 24, \"11\": 19, \"9\": 12, \"14\": 16, \"2\": 19, \"7\": 17, \"12\": 14, \"6\": 1, \"10\": 1}, \"10\": {\"1\": 47, \"6\": 41, \"12\": 42, \"2\": 8, \"9\": 18, \"4\": 4, \"10\": 51, \"14\": 2, \"15\": 1, \"13\": 4, \"11\": 3, \"3\": 5, \"0\": 4, \"5\": 3, \"7\": 4, \"8\": 3}, \"15\": {\"4\": 3, \"8\": 24, \"11\": 10, \"15\": 100, \"3\": 31, \"5\": 23, \"13\": 22, \"2\": 3, \"7\": 4, \"12\": 2, \"0\": 11, \"14\": 6, \"10\": 1}}, \"ORACLE.run144\": {\"13\": {\"1\": 15, \"6\": 37, \"4\": 8, \"14\": 13, \"9\": 25, \"7\": 18, \"13\": 30, \"2\": 16, \"11\": 32, \"10\": 18, \"3\": 9, \"0\": 2, \"12\": 12, \"5\": 2, \"15\": 2, \"8\": 1}, \"4\": {\"14\": 31, \"10\": 8, \"3\": 30, \"4\": 18, \"15\": 25, \"12\": 11, \"5\": 22, \"0\": 14, \"8\": 9, \"13\": 17, \"11\": 5, \"2\": 11, \"6\": 7, \"9\": 14, \"1\": 12, \"7\": 6}, \"6\": {\"2\": 32, \"14\": 7, \"6\": 34, \"4\": 8, \"11\": 38, \"9\": 20, \"13\": 36, \"10\": 22, \"1\": 12, \"12\": 7, \"7\": 18, \"0\": 1, \"5\": 2, \"3\": 2, \"8\": 1}, \"0\": {\"8\": 46, \"0\": 49, \"9\": 6, \"4\": 22, \"5\": 42, \"14\": 21, \"15\": 30, \"3\": 5, \"1\": 2, \"13\": 2, \"7\": 2, \"6\": 4, \"10\": 4, \"12\": 5}, \"10\": {\"7\": 33, \"0\": 3, \"12\": 19, \"10\": 20, \"4\": 7, \"15\": 4, \"9\": 22, \"3\": 22, \"1\": 19, \"13\": 21, \"11\": 17, \"2\": 22, \"14\": 9, \"6\": 15, \"5\": 5, \"8\": 2}, \"7\": {\"6\": 27, \"3\": 14, \"11\": 28, \"13\": 22, \"5\": 8, \"2\": 21, \"7\": 22, \"9\": 26, \"1\": 19, \"10\": 17, \"4\": 7, \"12\": 15, \"0\": 3, \"14\": 8, \"15\": 1, \"8\": 2}, \"14\": {\"9\": 10, \"3\": 30, \"14\": 27, \"5\": 27, \"8\": 12, \"4\": 30, \"6\": 3, \"10\": 8, \"7\": 10, \"15\": 20, \"1\": 13, \"2\": 6, \"0\": 19, \"12\": 14, \"13\": 8, \"11\": 3}, \"15\": {\"10\": 4, \"4\": 23, \"15\": 27, \"0\": 32, \"14\": 37, \"8\": 31, \"5\": 37, \"1\": 7, \"11\": 3, \"3\": 13, \"9\": 10, \"7\": 6, \"13\": 1, \"2\": 3, \"12\": 5, \"6\": 1}, \"5\": {\"3\": 13, \"8\": 19, \"14\": 33, \"10\": 8, \"9\": 16, \"0\": 37, \"15\": 22, \"5\": 24, \"12\": 6, \"4\": 23, \"13\": 10, \"2\": 2, \"1\": 10, \"7\": 8, \"11\": 6, \"6\": 3}, \"2\": {\"13\": 35, \"11\": 20, \"7\": 26, \"1\": 19, \"12\": 23, \"6\": 28, \"2\": 21, \"3\": 10, \"4\": 13, \"9\": 12, \"14\": 7, \"10\": 23, \"5\": 2, \"15\": 1}, \"9\": {\"12\": 23, \"10\": 20, \"0\": 2, \"3\": 15, \"4\": 13, \"9\": 16, \"2\": 22, \"13\": 23, \"11\": 25, \"5\": 9, \"6\": 19, \"1\": 16, \"7\": 19, \"14\": 11, \"8\": 1, \"15\": 6}, \"12\": {\"7\": 21, \"12\": 35, \"5\": 7, \"4\": 10, \"0\": 7, \"2\": 22, \"13\": 8, \"1\": 25, \"10\": 19, \"6\": 17, \"3\": 19, \"11\": 13, \"9\": 20, \"14\": 10, \"15\": 7}, \"8\": {\"8\": 56, \"15\": 50, \"0\": 45, \"14\": 27, \"4\": 8, \"5\": 27, \"3\": 7, \"9\": 4, \"11\": 2, \"7\": 3, \"13\": 1, \"1\": 6, \"10\": 1, \"6\": 2, \"12\": 1}, \"3\": {\"6\": 10, \"9\": 21, \"4\": 20, \"3\": 25, \"10\": 13, \"1\": 20, \"5\": 19, \"12\": 19, \"2\": 19, \"0\": 4, \"13\": 14, \"14\": 20, \"8\": 7, \"15\": 11, \"7\": 13, \"11\": 5}, \"1\": {\"6\": 17, \"10\": 20, \"4\": 14, \"2\": 19, \"7\": 24, \"3\": 30, \"13\": 11, \"1\": 18, \"12\": 23, \"15\": 5, \"9\": 24, \"14\": 4, \"11\": 8, \"5\": 12, \"8\": 6, \"0\": 5}, \"11\": {\"6\": 43, \"7\": 20, \"11\": 45, \"10\": 22, \"2\": 22, \"9\": 18, \"1\": 14, \"13\": 21, \"5\": 1, \"4\": 7, \"12\": 13, \"15\": 2, \"3\": 7, \"14\": 4, \"8\": 1}}, \"ORACLE.run114\": {\"1\": {\"0\": 14, \"4\": 19, \"7\": 13, \"5\": 17, \"2\": 19, \"12\": 6, \"14\": 10, \"8\": 16, \"15\": 24, \"6\": 9, \"9\": 19, \"1\": 25, \"3\": 19, \"10\": 14, \"11\": 8, \"13\": 8}, \"15\": {\"2\": 19, \"6\": 23, \"14\": 13, \"0\": 15, \"10\": 10, \"5\": 20, \"15\": 31, \"1\": 16, \"7\": 23, \"3\": 15, \"13\": 21, \"4\": 14, \"11\": 6, \"8\": 10, \"12\": 2, \"9\": 2}, \"10\": {\"13\": 14, \"14\": 16, \"8\": 7, \"11\": 17, \"15\": 10, \"7\": 15, \"5\": 18, \"10\": 17, \"1\": 19, \"12\": 8, \"0\": 15, \"4\": 12, \"6\": 13, \"3\": 16, \"2\": 27, \"9\": 16}, \"2\": {\"10\": 19, \"15\": 13, \"3\": 20, \"14\": 25, \"1\": 14, \"13\": 25, \"8\": 7, \"4\": 13, \"5\": 14, \"2\": 16, \"7\": 19, \"9\": 9, \"6\": 20, \"0\": 17, \"11\": 7, \"12\": 2}, \"9\": {\"1\": 19, \"12\": 38, \"10\": 11, \"14\": 7, \"5\": 8, \"11\": 25, \"9\": 24, \"0\": 20, \"13\": 8, \"8\": 32, \"3\": 16, \"2\": 6, \"15\": 3, \"6\": 4, \"7\": 8, \"4\": 11}, \"5\": {\"7\": 15, \"1\": 19, \"4\": 15, \"6\": 17, \"14\": 20, \"10\": 11, \"2\": 22, \"5\": 17, \"3\": 12, \"11\": 20, \"13\": 14, \"15\": 22, \"12\": 9, \"0\": 15, \"8\": 6, \"9\": 6}, \"7\": {\"12\": 5, \"7\": 30, \"4\": 20, \"13\": 12, \"11\": 15, \"1\": 23, \"2\": 13, \"15\": 21, \"3\": 17, \"10\": 11, \"6\": 10, \"8\": 12, \"9\": 8, \"14\": 17, \"0\": 11, \"5\": 15}, \"13\": {\"4\": 19, \"13\": 25, \"6\": 27, \"10\": 15, \"1\": 12, \"11\": 9, \"0\": 13, \"14\": 24, \"3\": 17, \"5\": 8, \"9\": 4, \"2\": 22, \"7\": 12, \"12\": 3, \"8\": 4, \"15\": 26}, \"8\": {\"0\": 24, \"2\": 6, \"14\": 5, \"4\": 16, \"10\": 7, \"3\": 9, \"8\": 26, \"7\": 7, \"12\": 35, \"11\": 10, \"6\": 5, \"9\": 35, \"1\": 21, \"15\": 17, \"13\": 7, \"5\": 10}, \"6\": {\"13\": 20, \"1\": 20, \"6\": 36, \"14\": 21, \"0\": 14, \"5\": 15, \"7\": 5, \"12\": 3, \"10\": 14, \"4\": 20, \"3\": 19, \"9\": 8, \"2\": 23, \"11\": 12, \"15\": 9, \"8\": 1}, \"3\": {\"10\": 19, \"0\": 17, \"14\": 15, \"3\": 22, \"8\": 18, \"13\": 14, \"11\": 17, \"15\": 13, \"5\": 11, \"1\": 10, \"4\": 12, \"9\": 12, \"2\": 14, \"7\": 15, \"12\": 12, \"6\": 19}, \"12\": {\"12\": 48, \"4\": 9, \"1\": 13, \"9\": 43, \"6\": 2, \"8\": 27, \"0\": 17, \"3\": 13, \"11\": 15, \"14\": 10, \"10\": 11, \"5\": 10, \"15\": 8, \"13\": 7, \"2\": 3, \"7\": 4}, \"0\": {\"2\": 23, \"1\": 14, \"4\": 19, \"13\": 13, \"8\": 17, \"3\": 15, \"0\": 18, \"5\": 18, \"7\": 15, \"15\": 10, \"6\": 11, \"11\": 10, \"14\": 19, \"10\": 17, \"9\": 13, \"12\": 8}, \"4\": {\"13\": 17, \"11\": 14, \"2\": 17, \"8\": 8, \"5\": 12, \"14\": 15, \"7\": 20, \"4\": 20, \"15\": 18, \"1\": 16, \"3\": 12, \"6\": 27, \"10\": 13, \"9\": 7, \"0\": 18, \"12\": 6}, \"14\": {\"11\": 9, \"6\": 24, \"7\": 8, \"2\": 30, \"14\": 24, \"13\": 25, \"4\": 18, \"5\": 17, \"15\": 15, \"9\": 6, \"8\": 5, \"10\": 22, \"12\": 3, \"3\": 9, \"0\": 14, \"1\": 11}, \"11\": {\"1\": 15, \"11\": 24, \"2\": 9, \"8\": 14, \"6\": 12, \"13\": 17, \"3\": 18, \"9\": 18, \"15\": 15, \"5\": 18, \"0\": 20, \"4\": 7, \"14\": 15, \"12\": 16, \"7\": 11, \"10\": 11}}}, \"per_domain_accuracy\": {\"Wisig_2\": {\"accuracy\": 0.9556197478991597, \"source?\": true}, \"Wisig_4\": {\"accuracy\": 0.9520318930041153, \"source?\": true}, \"Wisig_1\": {\"accuracy\": 0.9738031914893617, \"source?\": true}, \"Wisig_3\": {\"accuracy\": 0.9748072687224669, \"source?\": true}, \"ORACLE.run18\": {\"accuracy\": 0.09817708333333333, \"source?\": false}, \"ORACLE.run138\": {\"accuracy\": 0.13151041666666666, \"source?\": false}, \"ORACLE.run126\": {\"accuracy\": 0.08541666666666667, \"source?\": false}, \"ORACLE.run120\": {\"accuracy\": 0.07135416666666666, \"source?\": false}, \"ORACLE.run150\": {\"accuracy\": 0.10182291666666667, \"source?\": false}, \"ORACLE.run132\": {\"accuracy\": 0.1609375, \"source?\": false}, \"ORACLE.run144\": {\"accuracy\": 0.12161458333333333, \"source?\": false}, \"ORACLE.run114\": {\"accuracy\": 0.10494791666666667, \"source?\": false}}}, \"history\": {\"epoch_indices\": [1, 2, 3, 4, 5], \"train_label_loss\": [0.19530539920385107, 0.12431798383597419, 0.09957795905674431, 0.08263074743769327, 0.06786530341749963], \"source_val_label_loss\": [0.15481343865394592, 0.12233039736747742, 0.11093281209468842, 0.11540678888559341, 0.11276721209287643], \"target_val_label_loss\": [2.706697940826416, 2.722688674926758, 2.7508811950683594, 2.828721523284912, 2.8733627796173096], \"source_val_acc_label\": [0.9638454400848356, 0.9710034464475079, 0.9738202545068929, 0.974483032873807, 0.9751789501590669], \"target_val_acc_label\": [0.10947265625, 0.10934244791666667, 0.10458984375, 0.0982421875, 0.09098307291666667]}, \"dataset_metrics\": {\"source\": {\"train\": {\"n_unique_x\": 189012, \"n_unique_y\": 130, \"n_batch/episode\": 6843}, \"val\": {\"n_unique_x\": 40019, \"n_unique_y\": 130, \"n_batch/episode\": 943}, \"test\": {\"n_unique_x\": 40738, \"n_unique_y\": 130, \"n_batch/episode\": 960}}, \"target\": {\"train\": {\"n_unique_x\": 179200, \"n_unique_y\": 16, \"n_batch/episode\": 6720}, \"val\": {\"n_unique_x\": 38400, \"n_unique_y\": 16, \"n_batch/episode\": 960}, \"test\": {\"n_unique_x\": 38400, \"n_unique_y\": 16, \"n_batch/episode\": 960}}}}'"
      ]
     },
     "execution_count": 29,
     "metadata": {},
     "output_type": "execute_result"
    }
   ],
   "source": [
    "json.dumps(experiment)"
   ]
  }
 ],
 "metadata": {
  "celltoolbar": "Tags",
  "kernelspec": {
   "display_name": "Python 3 (ipykernel)",
   "language": "python",
   "name": "python3"
  },
  "language_info": {
   "codemirror_mode": {
    "name": "ipython",
    "version": 3
   },
   "file_extension": ".py",
   "mimetype": "text/x-python",
   "name": "python",
   "nbconvert_exporter": "python",
   "pygments_lexer": "ipython3",
   "version": "3.8.12"
  },
  "papermill": {
   "default_parameters": {},
   "duration": 1064.493101,
   "end_time": "2022-03-22T23:51:57.611258",
   "environment_variables": {},
   "exception": null,
   "input_path": "/root/csc500-main/csc500-notebooks/templates/tl_ptn_template.ipynb",
   "output_path": "trial.ipynb",
   "parameters": {
    "parameters": {
     "BEST_MODEL_PATH": "./best_model.pth",
     "NUM_LOGS_PER_EPOCH": 10,
     "criteria_for_best": "target_accuracy",
     "dataset_seed": 154325,
     "datasets": [
      {
       "domain_prefix": "Wisig_",
       "domains": [
        1,
        2,
        3,
        4
       ],
       "episode_transforms": [],
       "labels": [
        "1-10",
        "1-12",
        "1-14",
        "1-16",
        "1-18",
        "1-19",
        "1-8",
        "10-11",
        "10-17",
        "10-4",
        "10-7",
        "11-1",
        "11-10",
        "11-19",
        "11-20",
        "11-4",
        "11-7",
        "12-19",
        "12-20",
        "12-7",
        "13-14",
        "13-18",
        "13-19",
        "13-20",
        "13-3",
        "13-7",
        "14-10",
        "14-11",
        "14-12",
        "14-13",
        "14-14",
        "14-19",
        "14-20",
        "14-7",
        "14-8",
        "14-9",
        "15-1",
        "15-19",
        "15-6",
        "16-1",
        "16-16",
        "16-19",
        "16-20",
        "17-10",
        "17-11",
        "18-1",
        "18-10",
        "18-11",
        "18-12",
        "18-13",
        "18-14",
        "18-15",
        "18-16",
        "18-17",
        "18-19",
        "18-2",
        "18-20",
        "18-4",
        "18-5",
        "18-7",
        "18-8",
        "18-9",
        "19-1",
        "19-10",
        "19-11",
        "19-12",
        "19-13",
        "19-14",
        "19-15",
        "19-19",
        "19-2",
        "19-20",
        "19-3",
        "19-4",
        "19-6",
        "19-7",
        "19-8",
        "19-9",
        "2-1",
        "2-13",
        "2-15",
        "2-3",
        "2-4",
        "2-5",
        "2-6",
        "2-7",
        "2-8",
        "20-1",
        "20-12",
        "20-14",
        "20-15",
        "20-16",
        "20-18",
        "20-19",
        "20-20",
        "20-3",
        "20-4",
        "20-5",
        "20-7",
        "20-8",
        "3-1",
        "3-13",
        "3-18",
        "3-2",
        "3-8",
        "4-1",
        "4-10",
        "4-11",
        "5-1",
        "5-5",
        "6-1",
        "6-15",
        "6-6",
        "7-10",
        "7-11",
        "7-12",
        "7-13",
        "7-14",
        "7-7",
        "7-8",
        "7-9",
        "8-1",
        "8-13",
        "8-14",
        "8-18",
        "8-20",
        "8-3",
        "8-8",
        "9-1",
        "9-7"
       ],
       "num_examples_per_domain_per_label": -1,
       "pickle_path": "/root/csc500-main/datasets/wisig.node3-19.stratified_ds.2022A.pkl",
       "source_or_target_dataset": "source",
       "x_transforms": [
        "unit_mag"
       ]
      },
      {
       "domain_prefix": "ORACLE.run1",
       "domains": [
        32,
        38,
        8,
        44,
        14,
        50,
        20,
        26
       ],
       "episode_transforms": [],
       "labels": [
        "3123D52",
        "3123D65",
        "3123D79",
        "3123D80",
        "3123D54",
        "3123D70",
        "3123D7B",
        "3123D89",
        "3123D58",
        "3123D76",
        "3123D7D",
        "3123EFE",
        "3123D64",
        "3123D78",
        "3123D7E",
        "3124E4A"
       ],
       "num_examples_per_domain_per_label": 2000,
       "pickle_path": "/root/csc500-main/datasets/oracle.Run1_10kExamples_stratified_ds.2022A.pkl",
       "source_or_target_dataset": "target",
       "x_transforms": [
        "unit_mag"
       ]
      }
     ],
     "device": "cuda",
     "experiment_name": "tl_1v2:wisig-oracle.run1.limited",
     "lr": 0.0001,
     "n_epoch": 50,
     "n_query": 2,
     "n_shot": 3,
     "n_way": 16,
     "patience": 3,
     "seed": 154325,
     "test_k_factor": 2,
     "torch_default_dtype": "torch.float32",
     "train_k_factor": 3,
     "val_k_factor": 2,
     "x_net": [
      {
       "class": "nnReshape",
       "kargs": {
        "shape": [
         -1,
         1,
         2,
         256
        ]
       }
      },
      {
       "class": "Conv2d",
       "kargs": {
        "bias": false,
        "in_channels": 1,
        "kernel_size": [
         1,
         7
        ],
        "out_channels": 256,
        "padding": [
         0,
         3
        ]
       }
      },
      {
       "class": "ReLU",
       "kargs": {
        "inplace": true
       }
      },
      {
       "class": "BatchNorm2d",
       "kargs": {
        "num_features": 256
       }
      },
      {
       "class": "Conv2d",
       "kargs": {
        "bias": true,
        "in_channels": 256,
        "kernel_size": [
         2,
         7
        ],
        "out_channels": 80,
        "padding": [
         0,
         3
        ]
       }
      },
      {
       "class": "ReLU",
       "kargs": {
        "inplace": true
       }
      },
      {
       "class": "BatchNorm2d",
       "kargs": {
        "num_features": 80
       }
      },
      {
       "class": "Flatten",
       "kargs": {}
      },
      {
       "class": "Linear",
       "kargs": {
        "in_features": 20480,
        "out_features": 256
       }
      },
      {
       "class": "ReLU",
       "kargs": {
        "inplace": true
       }
      },
      {
       "class": "BatchNorm1d",
       "kargs": {
        "num_features": 256
       }
      },
      {
       "class": "Linear",
       "kargs": {
        "in_features": 256,
        "out_features": 256
       }
      }
     ]
    }
   },
   "start_time": "2022-03-22T23:34:13.118157",
   "version": "2.3.4"
  }
 },
 "nbformat": 4,
 "nbformat_minor": 5
}