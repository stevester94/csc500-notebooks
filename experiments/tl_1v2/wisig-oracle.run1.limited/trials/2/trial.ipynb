{
 "cells": [
  {
   "cell_type": "markdown",
   "id": "9fea5f46",
   "metadata": {
    "papermill": {
     "duration": 0.032423,
     "end_time": "2022-03-22T16:17:16.653160",
     "exception": false,
     "start_time": "2022-03-22T16:17:16.620737",
     "status": "completed"
    },
    "tags": []
   },
   "source": [
    "# Transfer Learning Template"
   ]
  },
  {
   "cell_type": "code",
   "execution_count": 1,
   "id": "0902182a",
   "metadata": {
    "execution": {
     "iopub.execute_input": "2022-03-22T16:17:16.710665Z",
     "iopub.status.busy": "2022-03-22T16:17:16.705491Z",
     "iopub.status.idle": "2022-03-22T16:17:18.613931Z",
     "shell.execute_reply": "2022-03-22T16:17:18.613510Z"
    },
    "papermill": {
     "duration": 1.935254,
     "end_time": "2022-03-22T16:17:18.614033",
     "exception": false,
     "start_time": "2022-03-22T16:17:16.678779",
     "status": "completed"
    },
    "tags": []
   },
   "outputs": [],
   "source": [
    "%load_ext autoreload\n",
    "%autoreload 2\n",
    "%matplotlib inline\n",
    "\n",
    "    \n",
    "import os, json, sys, time, random\n",
    "import numpy as np\n",
    "import torch\n",
    "from torch.optim import Adam\n",
    "from  easydict import EasyDict\n",
    "import matplotlib.pyplot as plt\n",
    "\n",
    "from steves_models.steves_ptn import Steves_Prototypical_Network\n",
    "\n",
    "from steves_utils.lazy_iterable_wrapper import Lazy_Iterable_Wrapper\n",
    "from steves_utils.iterable_aggregator import Iterable_Aggregator\n",
    "from steves_utils.ptn_train_eval_test_jig import  PTN_Train_Eval_Test_Jig\n",
    "from steves_utils.torch_sequential_builder import build_sequential\n",
    "from steves_utils.torch_utils import get_dataset_metrics, ptn_confusion_by_domain_over_dataloader\n",
    "from steves_utils.utils_v2 import (per_domain_accuracy_from_confusion, get_datasets_base_path)\n",
    "from steves_utils.PTN.utils import independent_accuracy_assesment\n",
    "\n",
    "from torch.utils.data import DataLoader\n",
    "\n",
    "from steves_utils.stratified_dataset.episodic_accessor import Episodic_Accessor_Factory\n",
    "\n",
    "from steves_utils.ptn_do_report import (\n",
    "    get_loss_curve,\n",
    "    get_results_table,\n",
    "    get_parameters_table,\n",
    "    get_domain_accuracies,\n",
    ")\n",
    "\n",
    "from steves_utils.transforms import get_chained_transform"
   ]
  },
  {
   "cell_type": "markdown",
   "id": "41c840b4",
   "metadata": {
    "papermill": {
     "duration": 0.019418,
     "end_time": "2022-03-22T16:17:18.653562",
     "exception": false,
     "start_time": "2022-03-22T16:17:18.634144",
     "status": "completed"
    },
    "tags": []
   },
   "source": [
    "# Allowed Parameters\n",
    "These are allowed parameters, not defaults\n",
    "Each of these values need to be present in the injected parameters (the notebook will raise an exception if they are not present)\n",
    "\n",
    "Papermill uses the cell tag \"parameters\" to inject the real parameters below this cell.\n",
    "Enable tags to see what I mean"
   ]
  },
  {
   "cell_type": "code",
   "execution_count": 2,
   "id": "fd44eb83",
   "metadata": {
    "execution": {
     "iopub.execute_input": "2022-03-22T16:17:18.697253Z",
     "iopub.status.busy": "2022-03-22T16:17:18.696867Z",
     "iopub.status.idle": "2022-03-22T16:17:18.721022Z",
     "shell.execute_reply": "2022-03-22T16:17:18.721328Z"
    },
    "papermill": {
     "duration": 0.048561,
     "end_time": "2022-03-22T16:17:18.721410",
     "exception": false,
     "start_time": "2022-03-22T16:17:18.672849",
     "status": "completed"
    },
    "tags": []
   },
   "outputs": [],
   "source": [
    "required_parameters = {\n",
    "    \"experiment_name\",\n",
    "    \"lr\",\n",
    "    \"device\",\n",
    "    \"seed\",\n",
    "    \"dataset_seed\",\n",
    "    \"n_shot\",\n",
    "    \"n_query\",\n",
    "    \"n_way\",\n",
    "    \"train_k_factor\",\n",
    "    \"val_k_factor\",\n",
    "    \"test_k_factor\",\n",
    "    \"n_epoch\",\n",
    "    \"patience\",\n",
    "    \"criteria_for_best\",\n",
    "    \"x_net\",\n",
    "    \"datasets\",\n",
    "    \"torch_default_dtype\",\n",
    "    \"NUM_LOGS_PER_EPOCH\",\n",
    "    \"BEST_MODEL_PATH\",\n",
    "    \"x_shape\",\n",
    "}"
   ]
  },
  {
   "cell_type": "code",
   "execution_count": 3,
   "id": "fa3f0049",
   "metadata": {
    "execution": {
     "iopub.execute_input": "2022-03-22T16:17:18.776118Z",
     "iopub.status.busy": "2022-03-22T16:17:18.775042Z",
     "iopub.status.idle": "2022-03-22T16:17:18.794677Z",
     "shell.execute_reply": "2022-03-22T16:17:18.794356Z"
    },
    "papermill": {
     "duration": 0.053696,
     "end_time": "2022-03-22T16:17:18.794746",
     "exception": false,
     "start_time": "2022-03-22T16:17:18.741050",
     "status": "completed"
    },
    "tags": [
     "parameters"
    ]
   },
   "outputs": [],
   "source": [
    "from steves_utils.CORES.utils import (\n",
    "    ALL_NODES,\n",
    "    ALL_NODES_MINIMUM_1000_EXAMPLES,\n",
    "    ALL_DAYS\n",
    ")\n",
    "\n",
    "from steves_utils.ORACLE.utils_v2 import (\n",
    "    ALL_DISTANCES_FEET_NARROWED,\n",
    "    ALL_RUNS,\n",
    "    ALL_SERIAL_NUMBERS,\n",
    ")\n",
    "\n",
    "standalone_parameters = {}\n",
    "standalone_parameters[\"experiment_name\"] = \"STANDALONE PTN\"\n",
    "standalone_parameters[\"lr\"] = 0.001\n",
    "standalone_parameters[\"device\"] = \"cuda\"\n",
    "\n",
    "standalone_parameters[\"seed\"] = 1337\n",
    "standalone_parameters[\"dataset_seed\"] = 1337\n",
    "\n",
    "standalone_parameters[\"n_way\"] = 8\n",
    "standalone_parameters[\"n_shot\"] = 3\n",
    "standalone_parameters[\"n_query\"]  = 2\n",
    "standalone_parameters[\"train_k_factor\"] = 1\n",
    "standalone_parameters[\"val_k_factor\"] = 2\n",
    "standalone_parameters[\"test_k_factor\"] = 2\n",
    "\n",
    "\n",
    "standalone_parameters[\"n_epoch\"] = 50\n",
    "\n",
    "standalone_parameters[\"patience\"] = 10\n",
    "standalone_parameters[\"criteria_for_best\"] = \"source_loss\"\n",
    "\n",
    "standalone_parameters[\"datasets\"] = [\n",
    "    {\n",
    "        \"labels\": ALL_SERIAL_NUMBERS,\n",
    "        \"domains\": ALL_DISTANCES_FEET_NARROWED,\n",
    "        \"num_examples_per_domain_per_label\": 100,\n",
    "        \"pickle_path\": os.path.join(get_datasets_base_path(), \"oracle.Run1_framed_2000Examples_stratified_ds.2022A.pkl\"),\n",
    "        \"source_or_target_dataset\": \"source\",\n",
    "        \"x_transforms\": [\"unit_mag\", \"minus_two\"],\n",
    "        \"episode_transforms\": [],\n",
    "        \"domain_prefix\": \"ORACLE_\"\n",
    "    },\n",
    "    {\n",
    "        \"labels\": ALL_NODES,\n",
    "        \"domains\": ALL_DAYS,\n",
    "        \"num_examples_per_domain_per_label\": 100,\n",
    "        \"pickle_path\": os.path.join(get_datasets_base_path(), \"cores.stratified_ds.2022A.pkl\"),\n",
    "        \"source_or_target_dataset\": \"target\",\n",
    "        \"x_transforms\": [\"unit_power\", \"times_zero\"],\n",
    "        \"episode_transforms\": [],\n",
    "        \"domain_prefix\": \"CORES_\"\n",
    "    }   \n",
    "]\n",
    "\n",
    "standalone_parameters[\"torch_default_dtype\"] = \"torch.float32\" \n",
    "\n",
    "\n",
    "\n",
    "standalone_parameters[\"x_net\"] =     [\n",
    "    {\"class\": \"nnReshape\", \"kargs\": {\"shape\":[-1, 1, 2, 256]}},\n",
    "    {\"class\": \"Conv2d\", \"kargs\": { \"in_channels\":1, \"out_channels\":256, \"kernel_size\":(1,7), \"bias\":False, \"padding\":(0,3), },},\n",
    "    {\"class\": \"ReLU\", \"kargs\": {\"inplace\": True}},\n",
    "    {\"class\": \"BatchNorm2d\", \"kargs\": {\"num_features\":256}},\n",
    "\n",
    "    {\"class\": \"Conv2d\", \"kargs\": { \"in_channels\":256, \"out_channels\":80, \"kernel_size\":(2,7), \"bias\":True, \"padding\":(0,3), },},\n",
    "    {\"class\": \"ReLU\", \"kargs\": {\"inplace\": True}},\n",
    "    {\"class\": \"BatchNorm2d\", \"kargs\": {\"num_features\":80}},\n",
    "    {\"class\": \"Flatten\", \"kargs\": {}},\n",
    "\n",
    "    {\"class\": \"Linear\", \"kargs\": {\"in_features\": 80*256, \"out_features\": 256}}, # 80 units per IQ pair\n",
    "    {\"class\": \"ReLU\", \"kargs\": {\"inplace\": True}},\n",
    "    {\"class\": \"BatchNorm1d\", \"kargs\": {\"num_features\":256}},\n",
    "\n",
    "    {\"class\": \"Linear\", \"kargs\": {\"in_features\": 256, \"out_features\": 256}},\n",
    "]\n",
    "\n",
    "# Parameters relevant to results\n",
    "# These parameters will basically never need to change\n",
    "standalone_parameters[\"NUM_LOGS_PER_EPOCH\"] = 10\n",
    "standalone_parameters[\"BEST_MODEL_PATH\"] = \"./best_model.pth\"\n",
    "\n",
    "\n",
    "\n",
    "\n"
   ]
  },
  {
   "cell_type": "code",
   "execution_count": 4,
   "id": "ef6c5875",
   "metadata": {
    "execution": {
     "iopub.execute_input": "2022-03-22T16:17:18.850065Z",
     "iopub.status.busy": "2022-03-22T16:17:18.849600Z",
     "iopub.status.idle": "2022-03-22T16:17:18.869105Z",
     "shell.execute_reply": "2022-03-22T16:17:18.868784Z"
    },
    "papermill": {
     "duration": 0.054913,
     "end_time": "2022-03-22T16:17:18.869181",
     "exception": false,
     "start_time": "2022-03-22T16:17:18.814268",
     "status": "completed"
    },
    "tags": [
     "injected-parameters"
    ]
   },
   "outputs": [],
   "source": [
    "# Parameters\n",
    "parameters = {\n",
    "    \"experiment_name\": \"tl_1v2:wisig-oracle.run1.limited\",\n",
    "    \"device\": \"cuda\",\n",
    "    \"lr\": 0.0001,\n",
    "    \"n_shot\": 3,\n",
    "    \"n_query\": 2,\n",
    "    \"train_k_factor\": 3,\n",
    "    \"val_k_factor\": 2,\n",
    "    \"test_k_factor\": 2,\n",
    "    \"torch_default_dtype\": \"torch.float32\",\n",
    "    \"n_epoch\": 50,\n",
    "    \"patience\": 3,\n",
    "    \"criteria_for_best\": \"target_accuracy\",\n",
    "    \"x_net\": [\n",
    "        {\"class\": \"nnReshape\", \"kargs\": {\"shape\": [-1, 1, 2, 256]}},\n",
    "        {\n",
    "            \"class\": \"Conv2d\",\n",
    "            \"kargs\": {\n",
    "                \"in_channels\": 1,\n",
    "                \"out_channels\": 256,\n",
    "                \"kernel_size\": [1, 7],\n",
    "                \"bias\": False,\n",
    "                \"padding\": [0, 3],\n",
    "            },\n",
    "        },\n",
    "        {\"class\": \"ReLU\", \"kargs\": {\"inplace\": True}},\n",
    "        {\"class\": \"BatchNorm2d\", \"kargs\": {\"num_features\": 256}},\n",
    "        {\n",
    "            \"class\": \"Conv2d\",\n",
    "            \"kargs\": {\n",
    "                \"in_channels\": 256,\n",
    "                \"out_channels\": 80,\n",
    "                \"kernel_size\": [2, 7],\n",
    "                \"bias\": True,\n",
    "                \"padding\": [0, 3],\n",
    "            },\n",
    "        },\n",
    "        {\"class\": \"ReLU\", \"kargs\": {\"inplace\": True}},\n",
    "        {\"class\": \"BatchNorm2d\", \"kargs\": {\"num_features\": 80}},\n",
    "        {\"class\": \"Flatten\", \"kargs\": {}},\n",
    "        {\"class\": \"Linear\", \"kargs\": {\"in_features\": 20480, \"out_features\": 256}},\n",
    "        {\"class\": \"ReLU\", \"kargs\": {\"inplace\": True}},\n",
    "        {\"class\": \"BatchNorm1d\", \"kargs\": {\"num_features\": 256}},\n",
    "        {\"class\": \"Linear\", \"kargs\": {\"in_features\": 256, \"out_features\": 256}},\n",
    "    ],\n",
    "    \"NUM_LOGS_PER_EPOCH\": 10,\n",
    "    \"BEST_MODEL_PATH\": \"./best_model.pth\",\n",
    "    \"n_way\": 16,\n",
    "    \"datasets\": [\n",
    "        {\n",
    "            \"labels\": [\n",
    "                \"1-10\",\n",
    "                \"1-12\",\n",
    "                \"1-14\",\n",
    "                \"1-16\",\n",
    "                \"1-18\",\n",
    "                \"1-19\",\n",
    "                \"1-8\",\n",
    "                \"10-11\",\n",
    "                \"10-17\",\n",
    "                \"10-4\",\n",
    "                \"10-7\",\n",
    "                \"11-1\",\n",
    "                \"11-10\",\n",
    "                \"11-19\",\n",
    "                \"11-20\",\n",
    "                \"11-4\",\n",
    "                \"11-7\",\n",
    "                \"12-19\",\n",
    "                \"12-20\",\n",
    "                \"12-7\",\n",
    "                \"13-14\",\n",
    "                \"13-18\",\n",
    "                \"13-19\",\n",
    "                \"13-20\",\n",
    "                \"13-3\",\n",
    "                \"13-7\",\n",
    "                \"14-10\",\n",
    "                \"14-11\",\n",
    "                \"14-12\",\n",
    "                \"14-13\",\n",
    "                \"14-14\",\n",
    "                \"14-19\",\n",
    "                \"14-20\",\n",
    "                \"14-7\",\n",
    "                \"14-8\",\n",
    "                \"14-9\",\n",
    "                \"15-1\",\n",
    "                \"15-19\",\n",
    "                \"15-6\",\n",
    "                \"16-1\",\n",
    "                \"16-16\",\n",
    "                \"16-19\",\n",
    "                \"16-20\",\n",
    "                \"17-10\",\n",
    "                \"17-11\",\n",
    "                \"18-1\",\n",
    "                \"18-10\",\n",
    "                \"18-11\",\n",
    "                \"18-12\",\n",
    "                \"18-13\",\n",
    "                \"18-14\",\n",
    "                \"18-15\",\n",
    "                \"18-16\",\n",
    "                \"18-17\",\n",
    "                \"18-19\",\n",
    "                \"18-2\",\n",
    "                \"18-20\",\n",
    "                \"18-4\",\n",
    "                \"18-5\",\n",
    "                \"18-7\",\n",
    "                \"18-8\",\n",
    "                \"18-9\",\n",
    "                \"19-1\",\n",
    "                \"19-10\",\n",
    "                \"19-11\",\n",
    "                \"19-12\",\n",
    "                \"19-13\",\n",
    "                \"19-14\",\n",
    "                \"19-15\",\n",
    "                \"19-19\",\n",
    "                \"19-2\",\n",
    "                \"19-20\",\n",
    "                \"19-3\",\n",
    "                \"19-4\",\n",
    "                \"19-6\",\n",
    "                \"19-7\",\n",
    "                \"19-8\",\n",
    "                \"19-9\",\n",
    "                \"2-1\",\n",
    "                \"2-13\",\n",
    "                \"2-15\",\n",
    "                \"2-3\",\n",
    "                \"2-4\",\n",
    "                \"2-5\",\n",
    "                \"2-6\",\n",
    "                \"2-7\",\n",
    "                \"2-8\",\n",
    "                \"20-1\",\n",
    "                \"20-12\",\n",
    "                \"20-14\",\n",
    "                \"20-15\",\n",
    "                \"20-16\",\n",
    "                \"20-18\",\n",
    "                \"20-19\",\n",
    "                \"20-20\",\n",
    "                \"20-3\",\n",
    "                \"20-4\",\n",
    "                \"20-5\",\n",
    "                \"20-7\",\n",
    "                \"20-8\",\n",
    "                \"3-1\",\n",
    "                \"3-13\",\n",
    "                \"3-18\",\n",
    "                \"3-2\",\n",
    "                \"3-8\",\n",
    "                \"4-1\",\n",
    "                \"4-10\",\n",
    "                \"4-11\",\n",
    "                \"5-1\",\n",
    "                \"5-5\",\n",
    "                \"6-1\",\n",
    "                \"6-15\",\n",
    "                \"6-6\",\n",
    "                \"7-10\",\n",
    "                \"7-11\",\n",
    "                \"7-12\",\n",
    "                \"7-13\",\n",
    "                \"7-14\",\n",
    "                \"7-7\",\n",
    "                \"7-8\",\n",
    "                \"7-9\",\n",
    "                \"8-1\",\n",
    "                \"8-13\",\n",
    "                \"8-14\",\n",
    "                \"8-18\",\n",
    "                \"8-20\",\n",
    "                \"8-3\",\n",
    "                \"8-8\",\n",
    "                \"9-1\",\n",
    "                \"9-7\",\n",
    "            ],\n",
    "            \"domains\": [1, 2, 3, 4],\n",
    "            \"num_examples_per_domain_per_label\": -1,\n",
    "            \"pickle_path\": \"/root/csc500-main/datasets/wisig.node3-19.stratified_ds.2022A.pkl\",\n",
    "            \"source_or_target_dataset\": \"source\",\n",
    "            \"x_transforms\": [],\n",
    "            \"episode_transforms\": [],\n",
    "            \"domain_prefix\": \"Wisig_\",\n",
    "        },\n",
    "        {\n",
    "            \"labels\": [\n",
    "                \"3123D52\",\n",
    "                \"3123D65\",\n",
    "                \"3123D79\",\n",
    "                \"3123D80\",\n",
    "                \"3123D54\",\n",
    "                \"3123D70\",\n",
    "                \"3123D7B\",\n",
    "                \"3123D89\",\n",
    "                \"3123D58\",\n",
    "                \"3123D76\",\n",
    "                \"3123D7D\",\n",
    "                \"3123EFE\",\n",
    "                \"3123D64\",\n",
    "                \"3123D78\",\n",
    "                \"3123D7E\",\n",
    "                \"3124E4A\",\n",
    "            ],\n",
    "            \"domains\": [32, 38, 8, 44, 14, 50, 20, 26],\n",
    "            \"num_examples_per_domain_per_label\": 2000,\n",
    "            \"pickle_path\": \"/root/csc500-main/datasets/oracle.Run1_10kExamples_stratified_ds.2022A.pkl\",\n",
    "            \"source_or_target_dataset\": \"target\",\n",
    "            \"x_transforms\": [],\n",
    "            \"episode_transforms\": [],\n",
    "            \"domain_prefix\": \"ORACLE.run1\",\n",
    "        },\n",
    "    ],\n",
    "    \"dataset_seed\": 1337,\n",
    "    \"seed\": 1337,\n",
    "}\n"
   ]
  },
  {
   "cell_type": "code",
   "execution_count": 5,
   "id": "8fa1cc33",
   "metadata": {
    "execution": {
     "iopub.execute_input": "2022-03-22T16:17:18.916207Z",
     "iopub.status.busy": "2022-03-22T16:17:18.915830Z",
     "iopub.status.idle": "2022-03-22T16:17:18.935056Z",
     "shell.execute_reply": "2022-03-22T16:17:18.934682Z"
    },
    "papermill": {
     "duration": 0.046088,
     "end_time": "2022-03-22T16:17:18.935127",
     "exception": false,
     "start_time": "2022-03-22T16:17:18.889039",
     "status": "completed"
    },
    "tags": []
   },
   "outputs": [],
   "source": [
    "# Set this to True if you want to run this template directly\n",
    "STANDALONE = False\n",
    "if STANDALONE:\n",
    "    print(\"parameters not injected, running with standalone_parameters\")\n",
    "    parameters = standalone_parameters\n",
    "\n",
    "if not 'parameters' in locals() and not 'parameters' in globals():\n",
    "    raise Exception(\"Parameter injection failed\")\n",
    "\n",
    "#Use an easy dict for all the parameters\n",
    "p = EasyDict(parameters)\n",
    "\n",
    "if \"x_shape\" not in p:\n",
    "    p.x_shape = [2,256] # Default to this if we dont supply x_shape\n",
    "\n",
    "\n",
    "supplied_keys = set(p.keys())\n",
    "\n",
    "if  supplied_keys != required_parameters:\n",
    "    print(\"Parameters are incorrect\")\n",
    "    if len(supplied_keys - required_parameters)>0: print(\"Shouldn't have:\", str(supplied_keys - required_parameters))\n",
    "    if len(required_parameters - supplied_keys)>0: print(\"Need to have:\", str(required_parameters - supplied_keys))\n",
    "    raise RuntimeError(\"Parameters are incorrect\")"
   ]
  },
  {
   "cell_type": "code",
   "execution_count": 6,
   "id": "3a028d58",
   "metadata": {
    "execution": {
     "iopub.execute_input": "2022-03-22T16:17:18.984390Z",
     "iopub.status.busy": "2022-03-22T16:17:18.977873Z",
     "iopub.status.idle": "2022-03-22T16:17:18.995841Z",
     "shell.execute_reply": "2022-03-22T16:17:18.995464Z"
    },
    "papermill": {
     "duration": 0.041091,
     "end_time": "2022-03-22T16:17:18.995910",
     "exception": false,
     "start_time": "2022-03-22T16:17:18.954819",
     "status": "completed"
    },
    "tags": []
   },
   "outputs": [],
   "source": [
    "###################################\n",
    "# Set the RNGs and make it all deterministic\n",
    "###################################\n",
    "np.random.seed(p.seed)\n",
    "random.seed(p.seed)\n",
    "torch.manual_seed(p.seed)\n",
    "\n",
    "torch.use_deterministic_algorithms(True) "
   ]
  },
  {
   "cell_type": "code",
   "execution_count": 7,
   "id": "b691acf6",
   "metadata": {
    "execution": {
     "iopub.execute_input": "2022-03-22T16:17:19.040153Z",
     "iopub.status.busy": "2022-03-22T16:17:19.038255Z",
     "iopub.status.idle": "2022-03-22T16:17:19.061439Z",
     "shell.execute_reply": "2022-03-22T16:17:19.060943Z"
    },
    "papermill": {
     "duration": 0.045686,
     "end_time": "2022-03-22T16:17:19.061509",
     "exception": false,
     "start_time": "2022-03-22T16:17:19.015823",
     "status": "completed"
    },
    "tags": []
   },
   "outputs": [],
   "source": [
    "###########################################\n",
    "# The stratified datasets honor this\n",
    "###########################################\n",
    "torch.set_default_dtype(eval(p.torch_default_dtype))"
   ]
  },
  {
   "cell_type": "code",
   "execution_count": 8,
   "id": "b5fba671",
   "metadata": {
    "execution": {
     "iopub.execute_input": "2022-03-22T16:17:19.105535Z",
     "iopub.status.busy": "2022-03-22T16:17:19.105165Z",
     "iopub.status.idle": "2022-03-22T16:17:19.159419Z",
     "shell.execute_reply": "2022-03-22T16:17:19.159098Z"
    },
    "papermill": {
     "duration": 0.077969,
     "end_time": "2022-03-22T16:17:19.159488",
     "exception": false,
     "start_time": "2022-03-22T16:17:19.081519",
     "status": "completed"
    },
    "tags": []
   },
   "outputs": [],
   "source": [
    "###################################\n",
    "# Build the network(s)\n",
    "# Note: It's critical to do this AFTER setting the RNG\n",
    "###################################\n",
    "x_net = build_sequential(p.x_net)"
   ]
  },
  {
   "cell_type": "code",
   "execution_count": 9,
   "id": "5d7e61cc",
   "metadata": {
    "execution": {
     "iopub.execute_input": "2022-03-22T16:17:19.203911Z",
     "iopub.status.busy": "2022-03-22T16:17:19.203540Z",
     "iopub.status.idle": "2022-03-22T16:17:19.229612Z",
     "shell.execute_reply": "2022-03-22T16:17:19.229244Z"
    },
    "papermill": {
     "duration": 0.049909,
     "end_time": "2022-03-22T16:17:19.229681",
     "exception": false,
     "start_time": "2022-03-22T16:17:19.179772",
     "status": "completed"
    },
    "tags": []
   },
   "outputs": [],
   "source": [
    "start_time_secs = time.time()"
   ]
  },
  {
   "cell_type": "code",
   "execution_count": 10,
   "id": "c6b67dfd",
   "metadata": {
    "execution": {
     "iopub.execute_input": "2022-03-22T16:17:19.274124Z",
     "iopub.status.busy": "2022-03-22T16:17:19.273519Z",
     "iopub.status.idle": "2022-03-22T16:17:19.292817Z",
     "shell.execute_reply": "2022-03-22T16:17:19.292451Z"
    },
    "papermill": {
     "duration": 0.04281,
     "end_time": "2022-03-22T16:17:19.292886",
     "exception": false,
     "start_time": "2022-03-22T16:17:19.250076",
     "status": "completed"
    },
    "tags": []
   },
   "outputs": [],
   "source": [
    "p.domains_source = []\n",
    "p.domains_target = []\n",
    "\n",
    "\n",
    "train_original_source = []\n",
    "val_original_source   = []\n",
    "test_original_source  = []\n",
    "\n",
    "train_original_target = []\n",
    "val_original_target   = []\n",
    "test_original_target  = []"
   ]
  },
  {
   "cell_type": "code",
   "execution_count": 11,
   "id": "e3d9c3d3",
   "metadata": {
    "execution": {
     "iopub.execute_input": "2022-03-22T16:17:19.337386Z",
     "iopub.status.busy": "2022-03-22T16:17:19.336764Z",
     "iopub.status.idle": "2022-03-22T16:17:19.357184Z",
     "shell.execute_reply": "2022-03-22T16:17:19.356820Z"
    },
    "papermill": {
     "duration": 0.043775,
     "end_time": "2022-03-22T16:17:19.357253",
     "exception": false,
     "start_time": "2022-03-22T16:17:19.313478",
     "status": "completed"
    },
    "tags": []
   },
   "outputs": [],
   "source": [
    "# global_x_transform_func = lambda x: normalize(x.to(torch.get_default_dtype()), \"unit_power\") # unit_power, unit_mag\n",
    "# global_x_transform_func = lambda x: normalize(x, \"unit_power\") # unit_power, unit_mag"
   ]
  },
  {
   "cell_type": "code",
   "execution_count": 12,
   "id": "acb78fd2",
   "metadata": {
    "execution": {
     "iopub.execute_input": "2022-03-22T16:17:19.409860Z",
     "iopub.status.busy": "2022-03-22T16:17:19.409476Z",
     "iopub.status.idle": "2022-03-22T16:17:19.427321Z",
     "shell.execute_reply": "2022-03-22T16:17:19.426954Z"
    },
    "papermill": {
     "duration": 0.049859,
     "end_time": "2022-03-22T16:17:19.427390",
     "exception": false,
     "start_time": "2022-03-22T16:17:19.377531",
     "status": "completed"
    },
    "tags": []
   },
   "outputs": [],
   "source": [
    "def add_dataset(\n",
    "    labels,\n",
    "    domains,\n",
    "    pickle_path,\n",
    "    x_transforms,\n",
    "    episode_transforms,\n",
    "    domain_prefix,\n",
    "    num_examples_per_domain_per_label,\n",
    "    source_or_target_dataset:str,\n",
    "    iterator_seed=p.seed,\n",
    "    dataset_seed=p.dataset_seed,\n",
    "    n_shot=p.n_shot,\n",
    "    n_way=p.n_way,\n",
    "    n_query=p.n_query,\n",
    "    train_val_test_k_factors=(p.train_k_factor,p.val_k_factor,p.test_k_factor),\n",
    "):\n",
    "   \n",
    "    if x_transforms == []: x_transform = None\n",
    "    else: x_transform = get_chained_transform(x_transforms)\n",
    "    \n",
    "    if episode_transforms == []: episode_transform = None\n",
    "    else: raise Exception(\"episode_transforms not implemented\")\n",
    "    \n",
    "    episode_transform = lambda tup, _prefix=domain_prefix: (_prefix + str(tup[0]), tup[1])\n",
    "\n",
    "\n",
    "    eaf = Episodic_Accessor_Factory(\n",
    "        labels=labels,\n",
    "        domains=domains,\n",
    "        num_examples_per_domain_per_label=num_examples_per_domain_per_label,\n",
    "        iterator_seed=iterator_seed,\n",
    "        dataset_seed=dataset_seed,\n",
    "        n_shot=n_shot,\n",
    "        n_way=n_way,\n",
    "        n_query=n_query,\n",
    "        train_val_test_k_factors=train_val_test_k_factors,\n",
    "        pickle_path=pickle_path,\n",
    "        x_transform_func=x_transform,\n",
    "    )\n",
    "\n",
    "    train, val, test = eaf.get_train(), eaf.get_val(), eaf.get_test()\n",
    "    train = Lazy_Iterable_Wrapper(train, episode_transform)\n",
    "    val = Lazy_Iterable_Wrapper(val, episode_transform)\n",
    "    test = Lazy_Iterable_Wrapper(test, episode_transform)\n",
    "\n",
    "    if source_or_target_dataset==\"source\":\n",
    "        train_original_source.append(train)\n",
    "        val_original_source.append(val)\n",
    "        test_original_source.append(test)\n",
    "\n",
    "        p.domains_source.extend(\n",
    "            [domain_prefix + str(u) for u in domains]\n",
    "        )\n",
    "    elif source_or_target_dataset==\"target\":\n",
    "        train_original_target.append(train)\n",
    "        val_original_target.append(val)\n",
    "        test_original_target.append(test)\n",
    "        p.domains_target.extend(\n",
    "            [domain_prefix + str(u) for u in domains]\n",
    "        )\n",
    "    else:\n",
    "        raise Exception(f\"invalid source_or_target_dataset: {source_or_target_dataset}\")\n",
    "    "
   ]
  },
  {
   "cell_type": "code",
   "execution_count": 13,
   "id": "fe266617",
   "metadata": {
    "execution": {
     "iopub.execute_input": "2022-03-22T16:17:19.472105Z",
     "iopub.status.busy": "2022-03-22T16:17:19.471442Z",
     "iopub.status.idle": "2022-03-22T16:17:25.114907Z",
     "shell.execute_reply": "2022-03-22T16:17:25.114109Z"
    },
    "papermill": {
     "duration": 5.666868,
     "end_time": "2022-03-22T16:17:25.115101",
     "exception": false,
     "start_time": "2022-03-22T16:17:19.448233",
     "status": "completed"
    },
    "tags": []
   },
   "outputs": [],
   "source": [
    "for ds in p.datasets:\n",
    "    add_dataset(**ds)"
   ]
  },
  {
   "cell_type": "code",
   "execution_count": 14,
   "id": "b90d65ac",
   "metadata": {
    "execution": {
     "iopub.execute_input": "2022-03-22T16:17:25.165156Z",
     "iopub.status.busy": "2022-03-22T16:17:25.164590Z",
     "iopub.status.idle": "2022-03-22T16:17:25.190043Z",
     "shell.execute_reply": "2022-03-22T16:17:25.189334Z"
    },
    "papermill": {
     "duration": 0.04912,
     "end_time": "2022-03-22T16:17:25.190195",
     "exception": false,
     "start_time": "2022-03-22T16:17:25.141075",
     "status": "completed"
    },
    "tags": []
   },
   "outputs": [],
   "source": [
    "# from steves_utils.CORES.utils import (\n",
    "#     ALL_NODES,\n",
    "#     ALL_NODES_MINIMUM_1000_EXAMPLES,\n",
    "#     ALL_DAYS\n",
    "# )\n",
    "\n",
    "# add_dataset(\n",
    "#     labels=ALL_NODES,\n",
    "#     domains = ALL_DAYS,\n",
    "#     num_examples_per_domain_per_label=100,\n",
    "#     pickle_path=os.path.join(get_datasets_base_path(), \"cores.stratified_ds.2022A.pkl\"),\n",
    "#     source_or_target_dataset=\"target\",\n",
    "#     x_transform_func=global_x_transform_func,\n",
    "#     domain_modifier=lambda u: f\"cores_{u}\"\n",
    "# )"
   ]
  },
  {
   "cell_type": "code",
   "execution_count": 15,
   "id": "76db484d",
   "metadata": {
    "execution": {
     "iopub.execute_input": "2022-03-22T16:17:25.238557Z",
     "iopub.status.busy": "2022-03-22T16:17:25.238191Z",
     "iopub.status.idle": "2022-03-22T16:17:25.255213Z",
     "shell.execute_reply": "2022-03-22T16:17:25.254510Z"
    },
    "papermill": {
     "duration": 0.039544,
     "end_time": "2022-03-22T16:17:25.255362",
     "exception": false,
     "start_time": "2022-03-22T16:17:25.215818",
     "status": "completed"
    },
    "tags": []
   },
   "outputs": [],
   "source": [
    "# from steves_utils.ORACLE.utils_v2 import (\n",
    "#     ALL_DISTANCES_FEET,\n",
    "#     ALL_RUNS,\n",
    "#     ALL_SERIAL_NUMBERS,\n",
    "# )\n",
    "\n",
    "\n",
    "# add_dataset(\n",
    "#     labels=ALL_SERIAL_NUMBERS,\n",
    "#     domains = list(set(ALL_DISTANCES_FEET) - {2,62}),\n",
    "#     num_examples_per_domain_per_label=100,\n",
    "#     pickle_path=os.path.join(get_datasets_base_path(), \"oracle.Run2_framed_2000Examples_stratified_ds.2022A.pkl\"),\n",
    "#     source_or_target_dataset=\"source\",\n",
    "#     x_transform_func=global_x_transform_func,\n",
    "#     domain_modifier=lambda u: f\"oracle1_{u}\"\n",
    "# )\n"
   ]
  },
  {
   "cell_type": "code",
   "execution_count": 16,
   "id": "97dea9d2",
   "metadata": {
    "execution": {
     "iopub.execute_input": "2022-03-22T16:17:25.305818Z",
     "iopub.status.busy": "2022-03-22T16:17:25.305451Z",
     "iopub.status.idle": "2022-03-22T16:17:25.324630Z",
     "shell.execute_reply": "2022-03-22T16:17:25.323924Z"
    },
    "papermill": {
     "duration": 0.041948,
     "end_time": "2022-03-22T16:17:25.324781",
     "exception": false,
     "start_time": "2022-03-22T16:17:25.282833",
     "status": "completed"
    },
    "tags": []
   },
   "outputs": [],
   "source": [
    "# from steves_utils.ORACLE.utils_v2 import (\n",
    "#     ALL_DISTANCES_FEET,\n",
    "#     ALL_RUNS,\n",
    "#     ALL_SERIAL_NUMBERS,\n",
    "# )\n",
    "\n",
    "\n",
    "# add_dataset(\n",
    "#     labels=ALL_SERIAL_NUMBERS,\n",
    "#     domains = list(set(ALL_DISTANCES_FEET) - {2,62,56}),\n",
    "#     num_examples_per_domain_per_label=100,\n",
    "#     pickle_path=os.path.join(get_datasets_base_path(), \"oracle.Run2_framed_2000Examples_stratified_ds.2022A.pkl\"),\n",
    "#     source_or_target_dataset=\"source\",\n",
    "#     x_transform_func=global_x_transform_func,\n",
    "#     domain_modifier=lambda u: f\"oracle2_{u}\"\n",
    "# )"
   ]
  },
  {
   "cell_type": "code",
   "execution_count": 17,
   "id": "6f289866",
   "metadata": {
    "execution": {
     "iopub.execute_input": "2022-03-22T16:17:25.376516Z",
     "iopub.status.busy": "2022-03-22T16:17:25.376096Z",
     "iopub.status.idle": "2022-03-22T16:17:25.392598Z",
     "shell.execute_reply": "2022-03-22T16:17:25.391893Z"
    },
    "papermill": {
     "duration": 0.039213,
     "end_time": "2022-03-22T16:17:25.392747",
     "exception": false,
     "start_time": "2022-03-22T16:17:25.353534",
     "status": "completed"
    },
    "tags": []
   },
   "outputs": [],
   "source": [
    "# add_dataset(\n",
    "#     labels=list(range(19)),\n",
    "#     domains = [0,1,2],\n",
    "#     num_examples_per_domain_per_label=100,\n",
    "#     pickle_path=os.path.join(get_datasets_base_path(), \"metehan.stratified_ds.2022A.pkl\"),\n",
    "#     source_or_target_dataset=\"target\",\n",
    "#     x_transform_func=global_x_transform_func,\n",
    "#     domain_modifier=lambda u: f\"met_{u}\"\n",
    "# )"
   ]
  },
  {
   "cell_type": "code",
   "execution_count": 18,
   "id": "86a863c3",
   "metadata": {
    "execution": {
     "iopub.execute_input": "2022-03-22T16:17:25.445112Z",
     "iopub.status.busy": "2022-03-22T16:17:25.444555Z",
     "iopub.status.idle": "2022-03-22T16:17:25.464189Z",
     "shell.execute_reply": "2022-03-22T16:17:25.463462Z"
    },
    "papermill": {
     "duration": 0.042744,
     "end_time": "2022-03-22T16:17:25.464338",
     "exception": false,
     "start_time": "2022-03-22T16:17:25.421594",
     "status": "completed"
    },
    "tags": []
   },
   "outputs": [],
   "source": [
    "# # from steves_utils.wisig.utils import (\n",
    "# #     ALL_NODES_MINIMUM_100_EXAMPLES,\n",
    "# #     ALL_NODES_MINIMUM_500_EXAMPLES,\n",
    "# #     ALL_NODES_MINIMUM_1000_EXAMPLES,\n",
    "# #     ALL_DAYS\n",
    "# # )\n",
    "\n",
    "# import steves_utils.wisig.utils as wisig\n",
    "\n",
    "\n",
    "# add_dataset(\n",
    "#     labels=wisig.ALL_NODES_MINIMUM_100_EXAMPLES,\n",
    "#     domains = wisig.ALL_DAYS,\n",
    "#     num_examples_per_domain_per_label=100,\n",
    "#     pickle_path=os.path.join(get_datasets_base_path(), \"wisig.node3-19.stratified_ds.2022A.pkl\"),\n",
    "#     source_or_target_dataset=\"target\",\n",
    "#     x_transform_func=global_x_transform_func,\n",
    "#     domain_modifier=lambda u: f\"wisig_{u}\"\n",
    "# )"
   ]
  },
  {
   "cell_type": "code",
   "execution_count": 19,
   "id": "fd5442bc",
   "metadata": {
    "execution": {
     "iopub.execute_input": "2022-03-22T16:17:25.518793Z",
     "iopub.status.busy": "2022-03-22T16:17:25.518220Z",
     "iopub.status.idle": "2022-03-22T16:17:25.537486Z",
     "shell.execute_reply": "2022-03-22T16:17:25.536788Z"
    },
    "papermill": {
     "duration": 0.048152,
     "end_time": "2022-03-22T16:17:25.537636",
     "exception": false,
     "start_time": "2022-03-22T16:17:25.489484",
     "status": "completed"
    },
    "tags": []
   },
   "outputs": [],
   "source": [
    "###################################\n",
    "# Build the dataset\n",
    "###################################\n",
    "train_original_source = Iterable_Aggregator(train_original_source, p.seed)\n",
    "val_original_source = Iterable_Aggregator(val_original_source, p.seed)\n",
    "test_original_source = Iterable_Aggregator(test_original_source, p.seed)\n",
    "\n",
    "\n",
    "train_original_target = Iterable_Aggregator(train_original_target, p.seed)\n",
    "val_original_target = Iterable_Aggregator(val_original_target, p.seed)\n",
    "test_original_target = Iterable_Aggregator(test_original_target, p.seed)\n",
    "\n",
    "# For CNN We only use X and Y. And we only train on the source.\n",
    "# Properly form the data using a transform lambda and Lazy_Iterable_Wrapper. Finally wrap them in a dataloader\n",
    "\n",
    "transform_lambda = lambda ex: ex[1] # Original is (<domain>, <episode>) so we strip down to episode only\n",
    "\n",
    "train_processed_source = Lazy_Iterable_Wrapper(train_original_source, transform_lambda)\n",
    "val_processed_source   = Lazy_Iterable_Wrapper(val_original_source, transform_lambda)\n",
    "test_processed_source  = Lazy_Iterable_Wrapper(test_original_source, transform_lambda)\n",
    "\n",
    "train_processed_target = Lazy_Iterable_Wrapper(train_original_target, transform_lambda)\n",
    "val_processed_target   = Lazy_Iterable_Wrapper(val_original_target, transform_lambda)\n",
    "test_processed_target  = Lazy_Iterable_Wrapper(test_original_target, transform_lambda)\n",
    "\n",
    "datasets = EasyDict({\n",
    "    \"source\": {\n",
    "        \"original\": {\"train\":train_original_source, \"val\":val_original_source, \"test\":test_original_source},\n",
    "        \"processed\": {\"train\":train_processed_source, \"val\":val_processed_source, \"test\":test_processed_source}\n",
    "    },\n",
    "    \"target\": {\n",
    "        \"original\": {\"train\":train_original_target, \"val\":val_original_target, \"test\":test_original_target},\n",
    "        \"processed\": {\"train\":train_processed_target, \"val\":val_processed_target, \"test\":test_processed_target}\n",
    "    },\n",
    "})"
   ]
  },
  {
   "cell_type": "code",
   "execution_count": 20,
   "id": "5b3c01fc",
   "metadata": {
    "execution": {
     "iopub.execute_input": "2022-03-22T16:17:25.589616Z",
     "iopub.status.busy": "2022-03-22T16:17:25.589238Z",
     "iopub.status.idle": "2022-03-22T16:17:40.368522Z",
     "shell.execute_reply": "2022-03-22T16:17:40.367791Z"
    },
    "papermill": {
     "duration": 14.804426,
     "end_time": "2022-03-22T16:17:40.368705",
     "exception": false,
     "start_time": "2022-03-22T16:17:25.564279",
     "status": "completed"
    },
    "tags": []
   },
   "outputs": [
    {
     "name": "stdout",
     "output_type": "stream",
     "text": [
      "{'Wisig_3', 'Wisig_1', 'Wisig_4', 'Wisig_2'}\n"
     ]
    },
    {
     "name": "stdout",
     "output_type": "stream",
     "text": [
      "{'ORACLE.run126', 'ORACLE.run138', 'ORACLE.run132', 'ORACLE.run18', 'ORACLE.run120', 'ORACLE.run114', 'ORACLE.run144', 'ORACLE.run150'}\n"
     ]
    },
    {
     "name": "stdout",
     "output_type": "stream",
     "text": [
      "tensor([[[-6.7141e-04,  1.7121e-02,  6.7141e-04,  ...,  5.0966e-03,\n",
      "           1.0224e-02, -2.4720e-03],\n",
      "         [-1.2970e-02,  1.7090e-03,  2.0661e-02,  ..., -6.2258e-03,\n",
      "           2.8382e-03,  1.7151e-02]],\n",
      "\n",
      "        [[ 6.7751e-03,  1.0804e-02, -1.4863e-02,  ...,  6.1342e-03,\n",
      "           2.8077e-03, -1.1902e-02],\n",
      "         [-8.1179e-03,  6.8361e-03,  1.3276e-02,  ...,  4.4557e-03,\n",
      "           6.7751e-03,  6.8667e-03]],\n",
      "\n",
      "        [[ 5.1271e-03,  1.8799e-02,  6.0121e-03,  ...,  7.9958e-03,\n",
      "           1.5809e-02, -4.5778e-04],\n",
      "         [-1.3062e-02,  5.6459e-03,  1.7151e-02,  ..., -8.5452e-03,\n",
      "           9.6133e-03,  1.9318e-02]],\n",
      "\n",
      "        ...,\n",
      "\n",
      "        [[-3.2502e-02, -3.3082e-02,  5.1576e-03,  ..., -5.8046e-02,\n",
      "          -3.1739e-02, -1.9837e-02],\n",
      "         [ 3.3357e-02, -1.3733e-03, -4.8677e-02,  ..., -1.5564e-02,\n",
      "          -2.7680e-02,  2.7467e-04]],\n",
      "\n",
      "        [[-2.1363e-03, -2.2279e-03, -2.8382e-03,  ...,  3.2655e-02,\n",
      "          -6.0121e-03, -6.4211e-02],\n",
      "         [-3.5096e-03, -3.9064e-03, -3.0519e-04,  ..., -9.8575e-03,\n",
      "           4.3397e-02,  4.8219e-03]],\n",
      "\n",
      "        [[-4.4557e-03, -1.4985e-02,  9.1556e-05,  ..., -2.4842e-02,\n",
      "           1.3245e-02,  2.4659e-02],\n",
      "         [-7.5991e-03, -7.8738e-03, -3.4181e-02,  ..., -3.2563e-02,\n",
      "          -4.4832e-02, -1.2604e-02]]])\n"
     ]
    }
   ],
   "source": [
    "from steves_utils.transforms import get_average_magnitude, get_average_power\n",
    "\n",
    "print(set([u for u,_ in val_original_source]))\n",
    "print(set([u for u,_ in val_original_target]))\n",
    "\n",
    "s_x, s_y, q_x, q_y, _ = next(iter(train_processed_source))\n",
    "print(s_x)\n",
    "\n",
    "# for ds in [\n",
    "#     train_processed_source,\n",
    "#     val_processed_source,\n",
    "#     test_processed_source,\n",
    "#     train_processed_target,\n",
    "#     val_processed_target,\n",
    "#     test_processed_target\n",
    "# ]:\n",
    "#     for s_x, s_y, q_x, q_y, _ in ds:\n",
    "#         for X in (s_x, q_x):\n",
    "#             for x in X:\n",
    "#                 assert np.isclose(get_average_magnitude(x.numpy()), 1.0)\n",
    "#                 assert np.isclose(get_average_power(x.numpy()), 1.0)\n",
    "                "
   ]
  },
  {
   "cell_type": "code",
   "execution_count": 21,
   "id": "bbdacba1",
   "metadata": {
    "execution": {
     "iopub.execute_input": "2022-03-22T16:17:40.425272Z",
     "iopub.status.busy": "2022-03-22T16:17:40.424715Z",
     "iopub.status.idle": "2022-03-22T16:17:40.664549Z",
     "shell.execute_reply": "2022-03-22T16:17:40.664897Z"
    },
    "papermill": {
     "duration": 0.26753,
     "end_time": "2022-03-22T16:17:40.664992",
     "exception": false,
     "start_time": "2022-03-22T16:17:40.397462",
     "status": "completed"
    },
    "tags": []
   },
   "outputs": [
    {
     "name": "stdout",
     "output_type": "stream",
     "text": [
      "(2, 256)\n"
     ]
    }
   ],
   "source": [
    "###################################\n",
    "# Build the model\n",
    "###################################\n",
    "# easfsl only wants a tuple for the shape\n",
    "model = Steves_Prototypical_Network(x_net, device=p.device, x_shape=tuple(p.x_shape))\n",
    "optimizer = Adam(params=model.parameters(), lr=p.lr)"
   ]
  },
  {
   "cell_type": "code",
   "execution_count": 22,
   "id": "22b39ac5",
   "metadata": {
    "execution": {
     "iopub.execute_input": "2022-03-22T16:17:40.714709Z",
     "iopub.status.busy": "2022-03-22T16:17:40.714338Z",
     "iopub.status.idle": "2022-03-22T16:38:58.039836Z",
     "shell.execute_reply": "2022-03-22T16:38:58.039478Z"
    },
    "papermill": {
     "duration": 1277.352809,
     "end_time": "2022-03-22T16:38:58.039930",
     "exception": false,
     "start_time": "2022-03-22T16:17:40.687121",
     "status": "completed"
    },
    "tags": []
   },
   "outputs": [
    {
     "name": "stdout",
     "output_type": "stream",
     "text": [
      "epoch: 1, [batch: 1 / 6866], examples_per_second: 31.8141, train_label_loss: 2.1413, \n"
     ]
    },
    {
     "name": "stdout",
     "output_type": "stream",
     "text": [
      "epoch: 1, [batch: 687 / 6866], examples_per_second: 2965.2462, train_label_loss: 0.4094, \n"
     ]
    },
    {
     "name": "stdout",
     "output_type": "stream",
     "text": [
      "epoch: 1, [batch: 1374 / 6866], examples_per_second: 3067.6438, train_label_loss: 0.2622, \n"
     ]
    },
    {
     "name": "stdout",
     "output_type": "stream",
     "text": [
      "epoch: 1, [batch: 2060 / 6866], examples_per_second: 3523.8207, train_label_loss: 0.0322, \n"
     ]
    },
    {
     "name": "stdout",
     "output_type": "stream",
     "text": [
      "epoch: 1, [batch: 2747 / 6866], examples_per_second: 3448.1458, train_label_loss: 0.0301, \n"
     ]
    },
    {
     "name": "stdout",
     "output_type": "stream",
     "text": [
      "epoch: 1, [batch: 3433 / 6866], examples_per_second: 3194.7062, train_label_loss: 0.0607, \n"
     ]
    },
    {
     "name": "stdout",
     "output_type": "stream",
     "text": [
      "epoch: 1, [batch: 4120 / 6866], examples_per_second: 2980.2021, train_label_loss: 0.0235, \n"
     ]
    },
    {
     "name": "stdout",
     "output_type": "stream",
     "text": [
      "epoch: 1, [batch: 4806 / 6866], examples_per_second: 2963.0701, train_label_loss: 0.1832, \n"
     ]
    },
    {
     "name": "stdout",
     "output_type": "stream",
     "text": [
      "epoch: 1, [batch: 5493 / 6866], examples_per_second: 3062.6373, train_label_loss: 0.0412, \n"
     ]
    },
    {
     "name": "stdout",
     "output_type": "stream",
     "text": [
      "epoch: 1, [batch: 6179 / 6866], examples_per_second: 2983.2867, train_label_loss: 0.0165, \n"
     ]
    },
    {
     "name": "stdout",
     "output_type": "stream",
     "text": [
      "=============================================================\n",
      "epoch: 1, source_val_acc_label: 0.9558, target_val_acc_label: 0.2420, source_val_label_loss: 0.2134, target_val_label_loss: 2.5296, \n",
      "=============================================================\n"
     ]
    },
    {
     "name": "stdout",
     "output_type": "stream",
     "text": [
      "New best\n"
     ]
    },
    {
     "name": "stdout",
     "output_type": "stream",
     "text": [
      "epoch: 2, [batch: 1 / 6837], examples_per_second: 2.7598, train_label_loss: 0.4973, \n"
     ]
    },
    {
     "name": "stdout",
     "output_type": "stream",
     "text": [
      "epoch: 2, [batch: 684 / 6837], examples_per_second: 3023.8203, train_label_loss: 0.0990, \n"
     ]
    },
    {
     "name": "stdout",
     "output_type": "stream",
     "text": [
      "epoch: 2, [batch: 1368 / 6837], examples_per_second: 3135.5416, train_label_loss: 0.1684, \n"
     ]
    },
    {
     "name": "stdout",
     "output_type": "stream",
     "text": [
      "epoch: 2, [batch: 2051 / 6837], examples_per_second: 3461.4922, train_label_loss: 0.2053, \n"
     ]
    },
    {
     "name": "stdout",
     "output_type": "stream",
     "text": [
      "epoch: 2, [batch: 2735 / 6837], examples_per_second: 3524.0005, train_label_loss: 0.2270, \n"
     ]
    },
    {
     "name": "stdout",
     "output_type": "stream",
     "text": [
      "epoch: 2, [batch: 3419 / 6837], examples_per_second: 2994.7675, train_label_loss: 0.0383, \n"
     ]
    },
    {
     "name": "stdout",
     "output_type": "stream",
     "text": [
      "epoch: 2, [batch: 4102 / 6837], examples_per_second: 2983.7723, train_label_loss: 0.0029, \n"
     ]
    },
    {
     "name": "stdout",
     "output_type": "stream",
     "text": [
      "epoch: 2, [batch: 4786 / 6837], examples_per_second: 2979.8097, train_label_loss: 0.2635, \n"
     ]
    },
    {
     "name": "stdout",
     "output_type": "stream",
     "text": [
      "epoch: 2, [batch: 5469 / 6837], examples_per_second: 3026.1702, train_label_loss: 0.4059, \n"
     ]
    },
    {
     "name": "stdout",
     "output_type": "stream",
     "text": [
      "epoch: 2, [batch: 6153 / 6837], examples_per_second: 2998.7618, train_label_loss: 0.1325, \n"
     ]
    },
    {
     "name": "stdout",
     "output_type": "stream",
     "text": [
      "=============================================================\n",
      "epoch: 2, source_val_acc_label: 0.9703, target_val_acc_label: 0.2991, source_val_label_loss: 0.1279, target_val_label_loss: 2.4839, \n",
      "=============================================================\n"
     ]
    },
    {
     "name": "stdout",
     "output_type": "stream",
     "text": [
      "New best\n"
     ]
    },
    {
     "name": "stdout",
     "output_type": "stream",
     "text": [
      "epoch: 3, [batch: 1 / 6844], examples_per_second: 2.7370, train_label_loss: 0.4225, \n"
     ]
    },
    {
     "name": "stdout",
     "output_type": "stream",
     "text": [
      "epoch: 3, [batch: 685 / 6844], examples_per_second: 3340.9347, train_label_loss: 0.0246, \n"
     ]
    },
    {
     "name": "stdout",
     "output_type": "stream",
     "text": [
      "epoch: 3, [batch: 1369 / 6844], examples_per_second: 3567.4830, train_label_loss: 0.1253, \n"
     ]
    },
    {
     "name": "stdout",
     "output_type": "stream",
     "text": [
      "epoch: 3, [batch: 2053 / 6844], examples_per_second: 3694.0999, train_label_loss: 0.2112, \n"
     ]
    },
    {
     "name": "stdout",
     "output_type": "stream",
     "text": [
      "epoch: 3, [batch: 2738 / 6844], examples_per_second: 3728.8838, train_label_loss: 0.0045, \n"
     ]
    },
    {
     "name": "stdout",
     "output_type": "stream",
     "text": [
      "epoch: 3, [batch: 3422 / 6844], examples_per_second: 3432.6371, train_label_loss: 0.2809, \n"
     ]
    },
    {
     "name": "stdout",
     "output_type": "stream",
     "text": [
      "epoch: 3, [batch: 4106 / 6844], examples_per_second: 3551.9300, train_label_loss: 0.0071, \n"
     ]
    },
    {
     "name": "stdout",
     "output_type": "stream",
     "text": [
      "epoch: 3, [batch: 4791 / 6844], examples_per_second: 3771.9670, train_label_loss: 0.3812, \n"
     ]
    },
    {
     "name": "stdout",
     "output_type": "stream",
     "text": [
      "epoch: 3, [batch: 5475 / 6844], examples_per_second: 3990.6447, train_label_loss: 0.0137, \n"
     ]
    },
    {
     "name": "stdout",
     "output_type": "stream",
     "text": [
      "epoch: 3, [batch: 6159 / 6844], examples_per_second: 3066.9853, train_label_loss: 0.2582, \n"
     ]
    },
    {
     "name": "stdout",
     "output_type": "stream",
     "text": [
      "=============================================================\n",
      "epoch: 3, source_val_acc_label: 0.9729, target_val_acc_label: 0.2803, source_val_label_loss: 0.1165, target_val_label_loss: 2.4517, \n",
      "=============================================================\n"
     ]
    },
    {
     "name": "stdout",
     "output_type": "stream",
     "text": [
      "epoch: 4, [batch: 1 / 6836], examples_per_second: 2.7553, train_label_loss: 0.1580, \n"
     ]
    },
    {
     "name": "stdout",
     "output_type": "stream",
     "text": [
      "epoch: 4, [batch: 684 / 6836], examples_per_second: 3035.8442, train_label_loss: 0.3514, \n"
     ]
    },
    {
     "name": "stdout",
     "output_type": "stream",
     "text": [
      "epoch: 4, [batch: 1368 / 6836], examples_per_second: 3472.8818, train_label_loss: 0.0866, \n"
     ]
    },
    {
     "name": "stdout",
     "output_type": "stream",
     "text": [
      "epoch: 4, [batch: 2051 / 6836], examples_per_second: 3515.4084, train_label_loss: 0.0680, \n"
     ]
    },
    {
     "name": "stdout",
     "output_type": "stream",
     "text": [
      "epoch: 4, [batch: 2735 / 6836], examples_per_second: 3418.3340, train_label_loss: 0.0411, \n"
     ]
    },
    {
     "name": "stdout",
     "output_type": "stream",
     "text": [
      "epoch: 4, [batch: 3418 / 6836], examples_per_second: 3011.7791, train_label_loss: 0.4785, \n"
     ]
    },
    {
     "name": "stdout",
     "output_type": "stream",
     "text": [
      "epoch: 4, [batch: 4102 / 6836], examples_per_second: 2999.8030, train_label_loss: 0.0047, \n"
     ]
    },
    {
     "name": "stdout",
     "output_type": "stream",
     "text": [
      "epoch: 4, [batch: 4785 / 6836], examples_per_second: 2994.5523, train_label_loss: 0.3119, \n"
     ]
    },
    {
     "name": "stdout",
     "output_type": "stream",
     "text": [
      "epoch: 4, [batch: 5469 / 6836], examples_per_second: 2979.4208, train_label_loss: 0.1708, \n"
     ]
    },
    {
     "name": "stdout",
     "output_type": "stream",
     "text": [
      "epoch: 4, [batch: 6152 / 6836], examples_per_second: 2975.7017, train_label_loss: 0.0951, \n"
     ]
    },
    {
     "name": "stdout",
     "output_type": "stream",
     "text": [
      "=============================================================\n",
      "epoch: 4, source_val_acc_label: 0.9731, target_val_acc_label: 0.2172, source_val_label_loss: 0.1177, target_val_label_loss: 2.5349, \n",
      "=============================================================\n"
     ]
    },
    {
     "name": "stdout",
     "output_type": "stream",
     "text": [
      "epoch: 5, [batch: 1 / 6857], examples_per_second: 2.7808, train_label_loss: 0.0537, \n"
     ]
    },
    {
     "name": "stdout",
     "output_type": "stream",
     "text": [
      "epoch: 5, [batch: 686 / 6857], examples_per_second: 3070.0516, train_label_loss: 0.1207, \n"
     ]
    },
    {
     "name": "stdout",
     "output_type": "stream",
     "text": [
      "epoch: 5, [batch: 1372 / 6857], examples_per_second: 3446.1755, train_label_loss: 0.1210, \n"
     ]
    },
    {
     "name": "stdout",
     "output_type": "stream",
     "text": [
      "epoch: 5, [batch: 2057 / 6857], examples_per_second: 3467.9195, train_label_loss: 0.0022, \n"
     ]
    },
    {
     "name": "stdout",
     "output_type": "stream",
     "text": [
      "epoch: 5, [batch: 2743 / 6857], examples_per_second: 3223.5048, train_label_loss: 0.1314, \n"
     ]
    },
    {
     "name": "stdout",
     "output_type": "stream",
     "text": [
      "epoch: 5, [batch: 3429 / 6857], examples_per_second: 2967.4141, train_label_loss: 0.0796, \n"
     ]
    },
    {
     "name": "stdout",
     "output_type": "stream",
     "text": [
      "epoch: 5, [batch: 4114 / 6857], examples_per_second: 3028.2848, train_label_loss: 0.1641, \n"
     ]
    },
    {
     "name": "stdout",
     "output_type": "stream",
     "text": [
      "epoch: 5, [batch: 4800 / 6857], examples_per_second: 2977.4505, train_label_loss: 0.0155, \n"
     ]
    },
    {
     "name": "stdout",
     "output_type": "stream",
     "text": [
      "epoch: 5, [batch: 5485 / 6857], examples_per_second: 2971.4928, train_label_loss: 0.2611, \n"
     ]
    },
    {
     "name": "stdout",
     "output_type": "stream",
     "text": [
      "epoch: 5, [batch: 6171 / 6857], examples_per_second: 2967.6053, train_label_loss: 0.1007, \n"
     ]
    },
    {
     "name": "stdout",
     "output_type": "stream",
     "text": [
      "=============================================================\n",
      "epoch: 5, source_val_acc_label: 0.9733, target_val_acc_label: 0.2084, source_val_label_loss: 0.1125, target_val_label_loss: 2.5484, \n",
      "=============================================================\n"
     ]
    },
    {
     "name": "stdout",
     "output_type": "stream",
     "text": [
      "epoch: 6, [batch: 1 / 6831], examples_per_second: 2.7506, train_label_loss: 0.1303, \n"
     ]
    },
    {
     "name": "stdout",
     "output_type": "stream",
     "text": [
      "epoch: 6, [batch: 684 / 6831], examples_per_second: 3161.0906, train_label_loss: 0.0051, \n"
     ]
    },
    {
     "name": "stdout",
     "output_type": "stream",
     "text": [
      "epoch: 6, [batch: 1367 / 6831], examples_per_second: 3382.8479, train_label_loss: 0.0046, \n"
     ]
    },
    {
     "name": "stdout",
     "output_type": "stream",
     "text": [
      "epoch: 6, [batch: 2050 / 6831], examples_per_second: 3529.9807, train_label_loss: 0.0031, \n"
     ]
    },
    {
     "name": "stdout",
     "output_type": "stream",
     "text": [
      "epoch: 6, [batch: 2733 / 6831], examples_per_second: 2991.9870, train_label_loss: 0.0074, \n"
     ]
    },
    {
     "name": "stdout",
     "output_type": "stream",
     "text": [
      "epoch: 6, [batch: 3416 / 6831], examples_per_second: 2992.4755, train_label_loss: 0.0016, \n"
     ]
    },
    {
     "name": "stdout",
     "output_type": "stream",
     "text": [
      "epoch: 6, [batch: 4099 / 6831], examples_per_second: 3009.8622, train_label_loss: 0.1249, \n"
     ]
    },
    {
     "name": "stdout",
     "output_type": "stream",
     "text": [
      "epoch: 6, [batch: 4782 / 6831], examples_per_second: 2966.7253, train_label_loss: 0.0015, \n"
     ]
    },
    {
     "name": "stdout",
     "output_type": "stream",
     "text": [
      "epoch: 6, [batch: 5465 / 6831], examples_per_second: 2981.0227, train_label_loss: 0.3554, \n"
     ]
    },
    {
     "name": "stdout",
     "output_type": "stream",
     "text": [
      "epoch: 6, [batch: 6148 / 6831], examples_per_second: 2991.3512, train_label_loss: 0.0552, \n"
     ]
    },
    {
     "name": "stdout",
     "output_type": "stream",
     "text": [
      "=============================================================\n",
      "epoch: 6, source_val_acc_label: 0.9740, target_val_acc_label: 0.2320, source_val_label_loss: 0.1070, target_val_label_loss: 2.4451, \n",
      "=============================================================\n"
     ]
    },
    {
     "name": "stdout",
     "output_type": "stream",
     "text": [
      "Patience (3) exhausted\n"
     ]
    }
   ],
   "source": [
    "###################################\n",
    "# train\n",
    "###################################\n",
    "jig = PTN_Train_Eval_Test_Jig(model, p.BEST_MODEL_PATH, p.device)\n",
    "\n",
    "jig.train(\n",
    "    train_iterable=datasets.source.processed.train,\n",
    "    source_val_iterable=datasets.source.processed.val,\n",
    "    target_val_iterable=datasets.target.processed.val,\n",
    "    num_epochs=p.n_epoch,\n",
    "    num_logs_per_epoch=p.NUM_LOGS_PER_EPOCH,\n",
    "    patience=p.patience,\n",
    "    optimizer=optimizer,\n",
    "    criteria_for_best=p.criteria_for_best,\n",
    ")"
   ]
  },
  {
   "cell_type": "code",
   "execution_count": 23,
   "id": "31e8fabf",
   "metadata": {
    "execution": {
     "iopub.execute_input": "2022-03-22T16:38:58.126800Z",
     "iopub.status.busy": "2022-03-22T16:38:58.126258Z",
     "iopub.status.idle": "2022-03-22T16:38:58.156861Z",
     "shell.execute_reply": "2022-03-22T16:38:58.156071Z"
    },
    "papermill": {
     "duration": 0.077095,
     "end_time": "2022-03-22T16:38:58.157014",
     "exception": false,
     "start_time": "2022-03-22T16:38:58.079919",
     "status": "completed"
    },
    "tags": []
   },
   "outputs": [],
   "source": [
    "total_experiment_time_secs = time.time() - start_time_secs"
   ]
  },
  {
   "cell_type": "code",
   "execution_count": 24,
   "id": "87b9595b",
   "metadata": {
    "execution": {
     "iopub.execute_input": "2022-03-22T16:38:58.247063Z",
     "iopub.status.busy": "2022-03-22T16:38:58.246227Z",
     "iopub.status.idle": "2022-03-22T16:42:31.656541Z",
     "shell.execute_reply": "2022-03-22T16:42:31.655758Z"
    },
    "papermill": {
     "duration": 213.454775,
     "end_time": "2022-03-22T16:42:31.656729",
     "exception": false,
     "start_time": "2022-03-22T16:38:58.201954",
     "status": "completed"
    },
    "tags": []
   },
   "outputs": [],
   "source": [
    "###################################\n",
    "# Evaluate the model\n",
    "###################################\n",
    "source_test_label_accuracy, source_test_label_loss = jig.test(datasets.source.processed.test)\n",
    "target_test_label_accuracy, target_test_label_loss = jig.test(datasets.target.processed.test)\n",
    "\n",
    "source_val_label_accuracy, source_val_label_loss = jig.test(datasets.source.processed.val)\n",
    "target_val_label_accuracy, target_val_label_loss = jig.test(datasets.target.processed.val)\n",
    "\n",
    "history = jig.get_history()\n",
    "\n",
    "total_epochs_trained = len(history[\"epoch_indices\"])\n",
    "\n",
    "val_dl = Iterable_Aggregator((datasets.source.original.val,datasets.target.original.val))\n",
    "\n",
    "confusion = ptn_confusion_by_domain_over_dataloader(model, p.device, val_dl)\n",
    "per_domain_accuracy = per_domain_accuracy_from_confusion(confusion)\n",
    "\n",
    "# Add a key to per_domain_accuracy for if it was a source domain\n",
    "for domain, accuracy in per_domain_accuracy.items():\n",
    "    per_domain_accuracy[domain] = {\n",
    "        \"accuracy\": accuracy,\n",
    "        \"source?\": domain in p.domains_source\n",
    "    }\n",
    "\n",
    "# Do an independent accuracy assesment JUST TO BE SURE!\n",
    "# _source_test_label_accuracy = independent_accuracy_assesment(model, datasets.source.processed.test, p.device)\n",
    "# _target_test_label_accuracy = independent_accuracy_assesment(model, datasets.target.processed.test, p.device)\n",
    "# _source_val_label_accuracy = independent_accuracy_assesment(model, datasets.source.processed.val, p.device)\n",
    "# _target_val_label_accuracy = independent_accuracy_assesment(model, datasets.target.processed.val, p.device)\n",
    "\n",
    "# assert(_source_test_label_accuracy == source_test_label_accuracy)\n",
    "# assert(_target_test_label_accuracy == target_test_label_accuracy)\n",
    "# assert(_source_val_label_accuracy == source_val_label_accuracy)\n",
    "# assert(_target_val_label_accuracy == target_val_label_accuracy)\n",
    "\n",
    "experiment = {\n",
    "    \"experiment_name\": p.experiment_name,\n",
    "    \"parameters\": dict(p),\n",
    "    \"results\": {\n",
    "        \"source_test_label_accuracy\": source_test_label_accuracy,\n",
    "        \"source_test_label_loss\": source_test_label_loss,\n",
    "        \"target_test_label_accuracy\": target_test_label_accuracy,\n",
    "        \"target_test_label_loss\": target_test_label_loss,\n",
    "        \"source_val_label_accuracy\": source_val_label_accuracy,\n",
    "        \"source_val_label_loss\": source_val_label_loss,\n",
    "        \"target_val_label_accuracy\": target_val_label_accuracy,\n",
    "        \"target_val_label_loss\": target_val_label_loss,\n",
    "        \"total_epochs_trained\": total_epochs_trained,\n",
    "        \"total_experiment_time_secs\": total_experiment_time_secs,\n",
    "        \"confusion\": confusion,\n",
    "        \"per_domain_accuracy\": per_domain_accuracy,\n",
    "    },\n",
    "    \"history\": history,\n",
    "    \"dataset_metrics\": get_dataset_metrics(datasets, \"ptn\"),\n",
    "}"
   ]
  },
  {
   "cell_type": "code",
   "execution_count": 25,
   "id": "54a21829",
   "metadata": {
    "execution": {
     "iopub.execute_input": "2022-03-22T16:42:31.751003Z",
     "iopub.status.busy": "2022-03-22T16:42:31.750625Z",
     "iopub.status.idle": "2022-03-22T16:42:31.963848Z",
     "shell.execute_reply": "2022-03-22T16:42:31.964544Z"
    },
    "papermill": {
     "duration": 0.259759,
     "end_time": "2022-03-22T16:42:31.964758",
     "exception": false,
     "start_time": "2022-03-22T16:42:31.704999",
     "status": "completed"
    },
    "tags": []
   },
   "outputs": [
    {
     "data": {
      "image/png": "[encoded data removed]",
      "text/plain": [
       "<Figure size 1080x504 with 1 Axes>"
      ]
     },
     "metadata": {
      "needs_background": "light"
     },
     "output_type": "display_data"
    }
   ],
   "source": [
    "ax = get_loss_curve(experiment)\n",
    "plt.show()"
   ]
  },
  {
   "cell_type": "code",
   "execution_count": 26,
   "id": "fd8a0f60",
   "metadata": {
    "execution": {
     "iopub.execute_input": "2022-03-22T16:42:32.059855Z",
     "iopub.status.busy": "2022-03-22T16:42:32.059436Z",
     "iopub.status.idle": "2022-03-22T16:42:32.377527Z",
     "shell.execute_reply": "2022-03-22T16:42:32.378194Z"
    },
    "papermill": {
     "duration": 0.364918,
     "end_time": "2022-03-22T16:42:32.378422",
     "exception": false,
     "start_time": "2022-03-22T16:42:32.013504",
     "status": "completed"
    },
    "tags": []
   },
   "outputs": [
    {
     "data": {
      "text/plain": [
       "<AxesSubplot:title={'center':'Results'}>"
      ]
     },
     "execution_count": 26,
     "metadata": {},
     "output_type": "execute_result"
    },
    {
     "data": {
      "image/png": "[encoded data removed]",
      "text/plain": [
       "<Figure size 1080x504 with 1 Axes>"
      ]
     },
     "metadata": {
      "needs_background": "light"
     },
     "output_type": "display_data"
    }
   ],
   "source": [
    "get_results_table(experiment)"
   ]
  },
  {
   "cell_type": "code",
   "execution_count": 27,
   "id": "cf8dc689",
   "metadata": {
    "execution": {
     "iopub.execute_input": "2022-03-22T16:42:32.472565Z",
     "iopub.status.busy": "2022-03-22T16:42:32.472200Z",
     "iopub.status.idle": "2022-03-22T16:42:32.720850Z",
     "shell.execute_reply": "2022-03-22T16:42:32.721522Z"
    },
    "papermill": {
     "duration": 0.295844,
     "end_time": "2022-03-22T16:42:32.721752",
     "exception": false,
     "start_time": "2022-03-22T16:42:32.425908",
     "status": "completed"
    },
    "tags": []
   },
   "outputs": [
    {
     "data": {
      "text/plain": [
       "<AxesSubplot:title={'center':'Per Domain Validation Accuracy'}, xlabel='domain'>"
      ]
     },
     "execution_count": 27,
     "metadata": {},
     "output_type": "execute_result"
    },
    {
     "data": {
      "image/png": "[encoded data removed]",
      "text/plain": [
       "<Figure size 1080x504 with 1 Axes>"
      ]
     },
     "metadata": {
      "needs_background": "light"
     },
     "output_type": "display_data"
    }
   ],
   "source": [
    "get_domain_accuracies(experiment)"
   ]
  },
  {
   "cell_type": "code",
   "execution_count": 28,
   "id": "a74ae082",
   "metadata": {
    "execution": {
     "iopub.execute_input": "2022-03-22T16:42:32.819346Z",
     "iopub.status.busy": "2022-03-22T16:42:32.818972Z",
     "iopub.status.idle": "2022-03-22T16:42:32.842290Z",
     "shell.execute_reply": "2022-03-22T16:42:32.841473Z"
    },
    "papermill": {
     "duration": 0.070562,
     "end_time": "2022-03-22T16:42:32.842453",
     "exception": false,
     "start_time": "2022-03-22T16:42:32.771891",
     "status": "completed"
    },
    "tags": []
   },
   "outputs": [
    {
     "name": "stdout",
     "output_type": "stream",
     "text": [
      "Source Test Label Accuracy: 0.9713622291021672 Target Test Label Accuracy: 0.2980143229166667\n",
      "Source Val Label Accuracy: 0.9702727754237288 Target Val Label Accuracy: 0.29912109375\n"
     ]
    }
   ],
   "source": [
    "print(\"Source Test Label Accuracy:\", experiment[\"results\"][\"source_test_label_accuracy\"], \"Target Test Label Accuracy:\", experiment[\"results\"][\"target_test_label_accuracy\"])\n",
    "print(\"Source Val Label Accuracy:\", experiment[\"results\"][\"source_val_label_accuracy\"], \"Target Val Label Accuracy:\", experiment[\"results\"][\"target_val_label_accuracy\"])"
   ]
  },
  {
   "cell_type": "code",
   "execution_count": 29,
   "id": "dacca602",
   "metadata": {
    "execution": {
     "iopub.execute_input": "2022-03-22T16:42:32.938242Z",
     "iopub.status.busy": "2022-03-22T16:42:32.937877Z",
     "iopub.status.idle": "2022-03-22T16:42:32.960404Z",
     "shell.execute_reply": "2022-03-22T16:42:32.960927Z"
    },
    "papermill": {
     "duration": 0.069445,
     "end_time": "2022-03-22T16:42:32.961078",
     "exception": false,
     "start_time": "2022-03-22T16:42:32.891633",
     "status": "completed"
    },
    "tags": [
     "experiment_json"
    ]
   },
   "outputs": [
    {
     "data": {
      "text/plain": [
       "'{\"experiment_name\": \"tl_1v2:wisig-oracle.run1.limited\", \"parameters\": {\"experiment_name\": \"tl_1v2:wisig-oracle.run1.limited\", \"device\": \"cuda\", \"lr\": 0.0001, \"n_shot\": 3, \"n_query\": 2, \"train_k_factor\": 3, \"val_k_factor\": 2, \"test_k_factor\": 2, \"torch_default_dtype\": \"torch.float32\", \"n_epoch\": 50, \"patience\": 3, \"criteria_for_best\": \"target_accuracy\", \"x_net\": [{\"class\": \"nnReshape\", \"kargs\": {\"shape\": [-1, 1, 2, 256]}}, {\"class\": \"Conv2d\", \"kargs\": {\"in_channels\": 1, \"out_channels\": 256, \"kernel_size\": [1, 7], \"bias\": false, \"padding\": [0, 3]}}, {\"class\": \"ReLU\", \"kargs\": {\"inplace\": true}}, {\"class\": \"BatchNorm2d\", \"kargs\": {\"num_features\": 256}}, {\"class\": \"Conv2d\", \"kargs\": {\"in_channels\": 256, \"out_channels\": 80, \"kernel_size\": [2, 7], \"bias\": true, \"padding\": [0, 3]}}, {\"class\": \"ReLU\", \"kargs\": {\"inplace\": true}}, {\"class\": \"BatchNorm2d\", \"kargs\": {\"num_features\": 80}}, {\"class\": \"Flatten\", \"kargs\": {}}, {\"class\": \"Linear\", \"kargs\": {\"in_features\": 20480, \"out_features\": 256}}, {\"class\": \"ReLU\", \"kargs\": {\"inplace\": true}}, {\"class\": \"BatchNorm1d\", \"kargs\": {\"num_features\": 256}}, {\"class\": \"Linear\", \"kargs\": {\"in_features\": 256, \"out_features\": 256}}], \"NUM_LOGS_PER_EPOCH\": 10, \"BEST_MODEL_PATH\": \"./best_model.pth\", \"n_way\": 16, \"datasets\": [{\"labels\": [\"1-10\", \"1-12\", \"1-14\", \"1-16\", \"1-18\", \"1-19\", \"1-8\", \"10-11\", \"10-17\", \"10-4\", \"10-7\", \"11-1\", \"11-10\", \"11-19\", \"11-20\", \"11-4\", \"11-7\", \"12-19\", \"12-20\", \"12-7\", \"13-14\", \"13-18\", \"13-19\", \"13-20\", \"13-3\", \"13-7\", \"14-10\", \"14-11\", \"14-12\", \"14-13\", \"14-14\", \"14-19\", \"14-20\", \"14-7\", \"14-8\", \"14-9\", \"15-1\", \"15-19\", \"15-6\", \"16-1\", \"16-16\", \"16-19\", \"16-20\", \"17-10\", \"17-11\", \"18-1\", \"18-10\", \"18-11\", \"18-12\", \"18-13\", \"18-14\", \"18-15\", \"18-16\", \"18-17\", \"18-19\", \"18-2\", \"18-20\", \"18-4\", \"18-5\", \"18-7\", \"18-8\", \"18-9\", \"19-1\", \"19-10\", \"19-11\", \"19-12\", \"19-13\", \"19-14\", \"19-15\", \"19-19\", \"19-2\", \"19-20\", \"19-3\", \"19-4\", \"19-6\", \"19-7\", \"19-8\", \"19-9\", \"2-1\", \"2-13\", \"2-15\", \"2-3\", \"2-4\", \"2-5\", \"2-6\", \"2-7\", \"2-8\", \"20-1\", \"20-12\", \"20-14\", \"20-15\", \"20-16\", \"20-18\", \"20-19\", \"20-20\", \"20-3\", \"20-4\", \"20-5\", \"20-7\", \"20-8\", \"3-1\", \"3-13\", \"3-18\", \"3-2\", \"3-8\", \"4-1\", \"4-10\", \"4-11\", \"5-1\", \"5-5\", \"6-1\", \"6-15\", \"6-6\", \"7-10\", \"7-11\", \"7-12\", \"7-13\", \"7-14\", \"7-7\", \"7-8\", \"7-9\", \"8-1\", \"8-13\", \"8-14\", \"8-18\", \"8-20\", \"8-3\", \"8-8\", \"9-1\", \"9-7\"], \"domains\": [1, 2, 3, 4], \"num_examples_per_domain_per_label\": -1, \"pickle_path\": \"/root/csc500-main/datasets/wisig.node3-19.stratified_ds.2022A.pkl\", \"source_or_target_dataset\": \"source\", \"x_transforms\": [], \"episode_transforms\": [], \"domain_prefix\": \"Wisig_\"}, {\"labels\": [\"3123D52\", \"3123D65\", \"3123D79\", \"3123D80\", \"3123D54\", \"3123D70\", \"3123D7B\", \"3123D89\", \"3123D58\", \"3123D76\", \"3123D7D\", \"3123EFE\", \"3123D64\", \"3123D78\", \"3123D7E\", \"3124E4A\"], \"domains\": [32, 38, 8, 44, 14, 50, 20, 26], \"num_examples_per_domain_per_label\": 2000, \"pickle_path\": \"/root/csc500-main/datasets/oracle.Run1_10kExamples_stratified_ds.2022A.pkl\", \"source_or_target_dataset\": \"target\", \"x_transforms\": [], \"episode_transforms\": [], \"domain_prefix\": \"ORACLE.run1\"}], \"dataset_seed\": 1337, \"seed\": 1337, \"x_shape\": [2, 256], \"domains_source\": [\"Wisig_1\", \"Wisig_2\", \"Wisig_3\", \"Wisig_4\"], \"domains_target\": [\"ORACLE.run132\", \"ORACLE.run138\", \"ORACLE.run18\", \"ORACLE.run144\", \"ORACLE.run114\", \"ORACLE.run150\", \"ORACLE.run120\", \"ORACLE.run126\"]}, \"results\": {\"source_test_label_accuracy\": 0.9713622291021672, \"source_test_label_loss\": 0.12398182600736618, \"target_test_label_accuracy\": 0.2980143229166667, \"target_test_label_loss\": 2.4855704307556152, \"source_val_label_accuracy\": 0.9702727754237288, \"source_val_label_loss\": 0.12791801989078522, \"target_val_label_accuracy\": 0.29912109375, \"target_val_label_loss\": 2.4838812351226807, \"total_epochs_trained\": 6, \"total_experiment_time_secs\": 1298.9260776042938, \"confusion\": {\"Wisig_3\": {\"109\": {\"109\": 127, \"113\": 1}, \"127\": {\"127\": 126, \"110\": 1, \"69\": 1}, \"14\": {\"14\": 80}, \"7\": {\"7\": 111, \"111\": 1}, \"129\": {\"129\": 31, \"5\": 1}, \"57\": {\"57\": 20}, \"84\": {\"84\": 107, \"118\": 1}, \"114\": {\"114\": 121, \"29\": 1, \"64\": 1, \"106\": 1}, \"44\": {\"44\": 72}, \"21\": {\"21\": 47, \"101\": 1}, \"46\": {\"46\": 16}, \"100\": {\"100\": 16}, \"63\": {\"63\": 15, \"19\": 1}, \"24\": {\"24\": 47, \"71\": 1}, \"107\": {\"107\": 117, \"62\": 1}, \"35\": {\"35\": 11, \"69\": 1}, \"81\": {\"81\": 32}, \"64\": {\"64\": 20}, \"59\": {\"59\": 12}, \"33\": {\"33\": 113, \"90\": 1}, \"34\": {\"34\": 31, \"77\": 1}, \"36\": {\"36\": 118, \"125\": 1, \"111\": 1}, \"79\": {\"79\": 12}, \"80\": {\"80\": 16}, \"77\": {\"77\": 15, \"105\": 1}, \"22\": {\"22\": 16}, \"124\": {\"124\": 122, \"98\": 1, \"32\": 1}, \"2\": {\"2\": 27, \"117\": 1}, \"87\": {\"87\": 111, \"127\": 1}, \"105\": {\"105\": 122}, \"95\": {\"95\": 32}, \"43\": {\"43\": 52, \"21\": 1, \"127\": 1, \"113\": 1, \"11\": 1}, \"56\": {\"56\": 12}, \"18\": {\"18\": 121, \"88\": 1, \"21\": 1, \"33\": 1}, \"85\": {\"85\": 36}, \"113\": {\"113\": 119, \"105\": 1}, \"97\": {\"97\": 18, \"27\": 1, \"105\": 1}, \"86\": {\"86\": 26, \"84\": 1, \"55\": 1}, \"128\": {\"128\": 30, \"17\": 1, \"88\": 1}, \"123\": {\"123\": 16}, \"8\": {\"8\": 129, \"49\": 1}, \"110\": {\"110\": 82, \"88\": 1, \"17\": 1, \"70\": 1, \"44\": 1, \"98\": 1, \"82\": 1, \"69\": 1, \"106\": 1}, \"126\": {\"21\": 1, \"126\": 99, \"94\": 1, \"44\": 1, \"88\": 2}, \"42\": {\"42\": 28}, \"96\": {\"96\": 20}, \"83\": {\"83\": 24}, \"54\": {\"54\": 16}, \"65\": {\"65\": 9, \"121\": 1, \"55\": 1, \"48\": 1}, \"30\": {\"30\": 81, \"106\": 1, \"69\": 1, \"70\": 1}, \"121\": {\"121\": 27, \"127\": 3, \"21\": 1, \"100\": 1}, \"68\": {\"68\": 16}, \"45\": {\"45\": 16}, \"48\": {\"48\": 12, \"13\": 2, \"79\": 2}, \"4\": {\"4\": 94, \"105\": 1, \"87\": 1}, \"67\": {\"67\": 16}, \"103\": {\"103\": 15, \"81\": 1}, \"74\": {\"74\": 16}, \"1\": {\"1\": 106, \"16\": 1, \"3\": 1}, \"61\": {\"61\": 16}, \"101\": {\"101\": 48, \"57\": 1, \"21\": 1, \"84\": 1, \"3\": 1}, \"93\": {\"93\": 138}, \"26\": {\"26\": 130}, \"71\": {\"71\": 66, \"113\": 1, \"127\": 1}, \"15\": {\"15\": 102, \"40\": 1, \"88\": 1}, \"55\": {\"55\": 16}, \"104\": {\"104\": 16}, \"112\": {\"112\": 15, \"5\": 1}, \"102\": {\"102\": 122}, \"117\": {\"117\": 112}, \"119\": {\"119\": 16}, \"20\": {\"20\": 15, \"106\": 1}, \"120\": {\"120\": 20}, \"39\": {\"39\": 101, \"101\": 1, \"88\": 1, \"12\": 1, \"13\": 1, \"70\": 1, \"24\": 1, \"8\": 1}, \"49\": {\"49\": 24}, \"53\": {\"53\": 20}, \"92\": {\"92\": 31, \"3\": 1}, \"3\": {\"3\": 116}, \"47\": {\"47\": 12}, \"115\": {\"115\": 16}, \"58\": {\"58\": 16}, \"29\": {\"29\": 32}, \"12\": {\"12\": 104}, \"62\": {\"62\": 117, \"127\": 1}, \"11\": {\"11\": 140}, \"72\": {\"72\": 28}, \"98\": {\"98\": 106}, \"122\": {\"122\": 57, \"39\": 1, \"82\": 1, \"21\": 1}, \"17\": {\"100\": 1, \"17\": 8, \"88\": 1, \"63\": 1, \"126\": 1, \"86\": 1, \"68\": 1, \"104\": 1, \"128\": 1}, \"94\": {\"94\": 84}, \"106\": {\"106\": 88, \"94\": 1, \"126\": 1}, \"28\": {\"28\": 16}, \"69\": {\"69\": 78, \"87\": 2, \"106\": 1, \"109\": 1, \"70\": 1, \"27\": 1}, \"125\": {\"125\": 113, \"117\": 1}, \"19\": {\"19\": 32}, \"41\": {\"41\": 15, \"6\": 1}, \"60\": {\"60\": 28}, \"70\": {\"70\": 67, \"105\": 1, \"3\": 2, \"92\": 1, \"106\": 1}, \"27\": {\"27\": 93, \"6\": 1, \"24\": 2}, \"10\": {\"10\": 116, \"113\": 2}, \"108\": {\"108\": 138, \"84\": 1, \"87\": 1}, \"9\": {\"9\": 32}, \"25\": {\"25\": 15, \"68\": 1}, \"37\": {\"37\": 15, \"73\": 1}, \"0\": {\"0\": 116}, \"66\": {\"66\": 16}, \"51\": {\"51\": 16}, \"76\": {\"76\": 16}, \"32\": {\"32\": 30, \"67\": 1, \"69\": 1}, \"88\": {\"88\": 109, \"73\": 1, \"84\": 1, \"114\": 1}, \"31\": {\"31\": 20}, \"91\": {\"91\": 21, \"103\": 3}, \"90\": {\"90\": 126}, \"13\": {\"13\": 11, \"67\": 1, \"126\": 1, \"2\": 1, \"101\": 1, \"44\": 1}, \"50\": {\"50\": 16}, \"78\": {\"78\": 16}, \"116\": {\"116\": 28}, \"5\": {\"5\": 110, \"40\": 1, \"70\": 1}, \"75\": {\"75\": 16}, \"89\": {\"89\": 28}, \"16\": {\"16\": 114, \"84\": 1, \"33\": 1}, \"38\": {\"38\": 15, \"89\": 1}, \"118\": {\"118\": 97, \"62\": 1, \"105\": 1, \"16\": 1}, \"99\": {\"99\": 35, \"36\": 1}, \"52\": {\"52\": 16}, \"111\": {\"111\": 128}, \"23\": {\"23\": 28, \"110\": 2, \"30\": 1, \"87\": 1}, \"73\": {\"73\": 38, \"21\": 1, \"85\": 1}, \"82\": {\"91\": 1, \"82\": 24, \"39\": 1, \"45\": 1, \"122\": 1}, \"40\": {\"40\": 126, \"88\": 2}, \"6\": {\"6\": 31, \"58\": 1}}, \"Wisig_4\": {\"28\": {\"28\": 20}, \"4\": {\"4\": 101, \"3\": 2, \"71\": 1}, \"72\": {\"72\": 30, \"57\": 1, \"55\": 1}, \"111\": {\"111\": 132, \"24\": 1, \"122\": 1, \"0\": 1, \"1\": 1}, \"108\": {\"108\": 86, \"122\": 1, \"3\": 1, \"107\": 1, \"27\": 1, \"39\": 1, \"84\": 1}, \"43\": {\"43\": 116, \"87\": 2, \"70\": 1, \"7\": 1}, \"96\": {\"96\": 20}, \"89\": {\"89\": 29, \"1\": 1, \"72\": 1, \"81\": 1}, \"31\": {\"31\": 16}, \"45\": {\"45\": 16}, \"2\": {\"2\": 28}, \"114\": {\"114\": 126, \"12\": 1, \"105\": 1}, \"11\": {\"11\": 135, \"98\": 1}, \"12\": {\"12\": 97, \"21\": 1, \"62\": 1, \"72\": 1}, \"14\": {\"14\": 111, \"8\": 1}, \"90\": {\"90\": 153, \"33\": 1}, \"10\": {\"10\": 116, \"24\": 1, \"7\": 1, \"88\": 2, \"70\": 1, \"27\": 1}, \"63\": {\"63\": 16}, \"85\": {\"85\": 27, \"1\": 1}, \"64\": {\"64\": 14, \"84\": 1, \"71\": 1}, \"82\": {\"82\": 31, \"100\": 1}, \"58\": {\"58\": 15, \"27\": 1}, \"3\": {\"3\": 133, \"21\": 2, \"27\": 1}, \"54\": {\"54\": 14, \"47\": 1, \"108\": 1}, \"121\": {\"121\": 32}, \"42\": {\"42\": 28}, \"98\": {\"98\": 115, \"121\": 2, \"109\": 1, \"81\": 1, \"25\": 1}, \"123\": {\"123\": 16}, \"91\": {\"91\": 23, \"77\": 1}, \"83\": {\"83\": 27, \"105\": 1}, \"99\": {\"99\": 38, \"72\": 1, \"74\": 1}, \"112\": {\"112\": 16}, \"119\": {\"119\": 16}, \"70\": {\"70\": 114, \"27\": 1, \"11\": 2, \"88\": 3, \"105\": 1, \"67\": 1, \"117\": 1, \"108\": 1}, \"20\": {\"20\": 15, \"1\": 1}, \"120\": {\"120\": 18, \"64\": 2}, \"7\": {\"7\": 122, \"108\": 1, \"1\": 1}, \"60\": {\"60\": 32}, \"113\": {\"113\": 116, \"105\": 1, \"108\": 1}, \"37\": {\"37\": 14, \"84\": 1, \"71\": 1}, \"124\": {\"124\": 110}, \"27\": {\"27\": 96, \"111\": 1, \"32\": 1, \"122\": 1, \"71\": 1}, \"86\": {\"86\": 28}, \"127\": {\"127\": 102, \"105\": 1, \"3\": 1, \"111\": 1, \"0\": 1, \"122\": 1, \"1\": 1}, \"62\": {\"62\": 55, \"71\": 1, \"122\": 1, \"14\": 1, \"55\": 1, \"3\": 1}, \"122\": {\"122\": 80, \"3\": 1, \"121\": 1, \"1\": 1, \"43\": 1}, \"51\": {\"51\": 12, \"21\": 1, \"23\": 1, \"62\": 1, \"17\": 1}, \"109\": {\"109\": 113, \"122\": 1}, \"106\": {\"106\": 109, \"3\": 1, \"78\": 1, \"1\": 1, \"117\": 1, \"88\": 1}, \"94\": {\"94\": 88}, \"38\": {\"38\": 16}, \"129\": {\"129\": 27, \"21\": 1}, \"116\": {\"116\": 28}, \"107\": {\"107\": 118}, \"30\": {\"30\": 73, \"7\": 1, \"10\": 1, \"27\": 1}, \"102\": {\"102\": 131, \"62\": 1}, \"74\": {\"74\": 16}, \"101\": {\"101\": 130, \"107\": 1, \"0\": 1}, \"117\": {\"117\": 118, \"71\": 1, \"1\": 1, \"16\": 1, \"90\": 1, \"81\": 2}, \"1\": {\"1\": 95, \"71\": 2, \"88\": 2, \"24\": 2, \"18\": 1, \"128\": 3, \"21\": 2, \"14\": 1}, \"84\": {\"84\": 128, \"0\": 1, \"118\": 1, \"14\": 1, \"88\": 1}, \"17\": {\"17\": 20}, \"6\": {\"6\": 23, \"91\": 1}, \"110\": {\"110\": 122, \"84\": 1, \"1\": 1}, \"77\": {\"77\": 12}, \"8\": {\"8\": 128, \"3\": 1, \"82\": 1, \"127\": 1, \"12\": 1}, \"73\": {\"73\": 20, \"115\": 1, \"3\": 1, \"120\": 1, \"46\": 1}, \"126\": {\"126\": 121, \"27\": 1, \"106\": 1, \"88\": 1}, \"57\": {\"57\": 16}, \"95\": {\"95\": 32}, \"103\": {\"103\": 15, \"124\": 1}, \"97\": {\"97\": 17, \"8\": 1, \"10\": 1, \"78\": 1}, \"39\": {\"8\": 1, \"39\": 92, \"7\": 1, \"106\": 2, \"21\": 2, \"108\": 1, \"27\": 1}, \"100\": {\"100\": 20}, \"40\": {\"40\": 108, \"128\": 1, \"69\": 1}, \"36\": {\"36\": 124, \"84\": 1, \"21\": 1}, \"19\": {\"19\": 26, \"73\": 1, \"50\": 1}, \"118\": {\"118\": 109, \"3\": 1, \"24\": 1, \"105\": 1}, \"56\": {\"56\": 11, \"86\": 1}, \"26\": {\"26\": 125, \"84\": 1}, \"5\": {\"5\": 134, \"106\": 1, \"1\": 1}, \"21\": {\"21\": 35, \"7\": 1, \"23\": 1, \"78\": 2, \"84\": 1}, \"22\": {\"22\": 15, \"36\": 1}, \"68\": {\"68\": 16}, \"9\": {\"9\": 26, \"83\": 2}, \"66\": {\"66\": 15, \"56\": 1}, \"87\": {\"87\": 121, \"43\": 2, \"106\": 1}, \"71\": {\"71\": 103, \"21\": 1}, \"115\": {\"115\": 16}, \"23\": {\"17\": 2, \"23\": 9, \"21\": 1, \"15\": 1, \"105\": 2, \"40\": 1}, \"33\": {\"33\": 116, \"0\": 1, \"90\": 1}, \"35\": {\"35\": 11, \"3\": 1}, \"125\": {\"125\": 127, \"90\": 2, \"92\": 1, \"88\": 1, \"106\": 1}, \"47\": {\"95\": 2, \"47\": 10}, \"79\": {\"79\": 16}, \"53\": {\"53\": 16}, \"67\": {\"67\": 14, \"38\": 1, \"104\": 1}, \"80\": {\"80\": 16}, \"105\": {\"105\": 93, \"71\": 2, \"3\": 1, \"108\": 3, \"40\": 1}, \"76\": {\"76\": 16}, \"46\": {\"46\": 19, \"129\": 1}, \"34\": {\"32\": 1, \"77\": 1, \"34\": 28, \"75\": 1, \"54\": 1}, \"32\": {\"32\": 27, \"21\": 1}, \"13\": {\"13\": 16}, \"78\": {\"78\": 34, \"4\": 1, \"1\": 1}, \"41\": {\"41\": 16}, \"69\": {\"69\": 124, \"126\": 2, \"3\": 1, \"88\": 1}, \"88\": {\"88\": 123, \"74\": 1, \"70\": 5, \"3\": 1, \"122\": 1, \"90\": 1}, \"15\": {\"15\": 123, \"106\": 1, \"126\": 1, \"88\": 1, \"21\": 1, \"24\": 1}, \"61\": {\"61\": 16}, \"0\": {\"0\": 112, \"24\": 1, \"105\": 1, \"27\": 1, \"4\": 1}, \"104\": {\"104\": 15, \"70\": 1}, \"48\": {\"48\": 13, \"79\": 2, \"74\": 1}, \"25\": {\"25\": 16}, \"75\": {\"75\": 16}, \"81\": {\"81\": 36}, \"50\": {\"50\": 16}, \"52\": {\"52\": 20}, \"16\": {\"16\": 118, \"98\": 1, \"106\": 1}, \"44\": {\"44\": 63, \"88\": 1}, \"29\": {\"29\": 30, \"21\": 1, \"1\": 1}, \"93\": {\"93\": 123, \"14\": 1}, \"18\": {\"18\": 114}, \"49\": {\"49\": 32}, \"55\": {\"55\": 16}, \"59\": {\"59\": 11, \"21\": 1}, \"128\": {\"128\": 19, \"99\": 2, \"98\": 3}, \"24\": {\"24\": 114, \"27\": 3, \"7\": 1, \"10\": 2}, \"65\": {\"65\": 12}, \"92\": {\"92\": 28}}, \"Wisig_1\": {\"108\": {\"108\": 124}, \"40\": {\"40\": 136}, \"68\": {\"68\": 15, \"57\": 1}, \"23\": {\"23\": 18, \"110\": 1, \"93\": 2, \"44\": 1, \"99\": 1, \"3\": 1}, \"26\": {\"26\": 118, \"3\": 1, \"21\": 1}, \"64\": {\"64\": 16}, \"22\": {\"22\": 12, \"116\": 2, \"86\": 1, \"3\": 1}, \"3\": {\"3\": 84, \"94\": 1, \"109\": 1, \"18\": 1, \"62\": 1}, \"4\": {\"4\": 99, \"12\": 1}, \"70\": {\"70\": 119, \"84\": 1}, \"57\": {\"57\": 11, \"3\": 1}, \"79\": {\"79\": 12}, \"9\": {\"9\": 32}, \"89\": {\"89\": 36}, \"110\": {\"110\": 128}, \"102\": {\"102\": 118, \"14\": 1, \"18\": 1}, \"31\": {\"31\": 16}, \"58\": {\"58\": 11, \"42\": 1}, \"47\": {\"47\": 12}, \"24\": {\"24\": 88, \"12\": 2, \"84\": 1, \"108\": 1}, \"19\": {\"19\": 28}, \"11\": {\"11\": 132}, \"52\": {\"52\": 20}, \"17\": {\"17\": 14, \"111\": 1, \"4\": 1}, \"25\": {\"25\": 16}, \"69\": {\"69\": 105, \"62\": 1, \"12\": 1, \"14\": 1}, \"96\": {\"96\": 15, \"17\": 1, \"65\": 1, \"49\": 1, \"35\": 1, \"10\": 1}, \"109\": {\"109\": 113, \"3\": 1}, \"115\": {\"115\": 12}, \"83\": {\"83\": 27, \"114\": 1}, \"84\": {\"84\": 127, \"88\": 1}, \"119\": {\"119\": 16}, \"122\": {\"122\": 83, \"14\": 1, \"1\": 1, \"105\": 1, \"21\": 1, \"12\": 1}, \"99\": {\"99\": 24}, \"1\": {\"1\": 133, \"105\": 1, \"84\": 1, \"127\": 1}, \"74\": {\"74\": 16}, \"85\": {\"85\": 32}, \"127\": {\"127\": 106, \"114\": 1, \"105\": 1}, \"111\": {\"111\": 117, \"5\": 2, \"24\": 1}, \"53\": {\"53\": 19, \"64\": 1}, \"88\": {\"88\": 132}, \"65\": {\"65\": 9, \"55\": 1, \"28\": 1, \"67\": 1}, \"7\": {\"7\": 134}, \"16\": {\"16\": 107, \"127\": 1}, \"128\": {\"128\": 23, \"86\": 1}, \"34\": {\"34\": 30, \"52\": 1, \"77\": 1}, \"129\": {\"129\": 28}, \"43\": {\"43\": 125, \"105\": 1, \"122\": 1, \"106\": 1}, \"92\": {\"92\": 28}, \"28\": {\"28\": 18, \"41\": 1, \"78\": 1}, \"27\": {\"27\": 92}, \"114\": {\"114\": 123, \"71\": 1}, \"73\": {\"73\": 20}, \"0\": {\"0\": 84}, \"104\": {\"104\": 16}, \"118\": {\"118\": 83, \"107\": 1}, \"41\": {\"41\": 16}, \"91\": {\"91\": 28}, \"124\": {\"124\": 122}, \"81\": {\"81\": 28}, \"63\": {\"63\": 16}, \"76\": {\"76\": 16}, \"10\": {\"10\": 118, \"111\": 1, \"27\": 1}, \"51\": {\"51\": 15, \"50\": 1}, \"82\": {\"82\": 36}, \"56\": {\"56\": 12}, \"30\": {\"30\": 52}, \"21\": {\"21\": 35, \"110\": 1, \"41\": 1, \"68\": 1, \"94\": 1, \"3\": 1}, \"46\": {\"46\": 12}, \"33\": {\"33\": 138}, \"101\": {\"101\": 121, \"12\": 1, \"14\": 1, \"117\": 1}, \"105\": {\"105\": 82, \"36\": 1, \"40\": 1}, \"50\": {\"50\": 15, \"113\": 1}, \"116\": {\"116\": 32}, \"77\": {\"77\": 16}, \"75\": {\"75\": 16}, \"95\": {\"95\": 36}, \"120\": {\"120\": 20}, \"18\": {\"18\": 108}, \"14\": {\"14\": 96}, \"44\": {\"44\": 76}, \"98\": {\"98\": 96}, \"121\": {\"121\": 32}, \"113\": {\"113\": 108}, \"103\": {\"103\": 16}, \"62\": {\"62\": 116, \"84\": 2, \"7\": 1, \"107\": 1}, \"32\": {\"32\": 32}, \"71\": {\"71\": 104, \"127\": 2, \"84\": 1, \"109\": 1}, \"94\": {\"94\": 89, \"105\": 1, \"88\": 1, \"7\": 1}, \"49\": {\"49\": 17, \"77\": 1, \"31\": 1, \"72\": 1}, \"12\": {\"12\": 100, \"109\": 1, \"105\": 1, \"106\": 1, \"70\": 1}, \"90\": {\"90\": 124}, \"93\": {\"93\": 122, \"43\": 1, \"87\": 1}, \"13\": {\"13\": 16}, \"67\": {\"23\": 1, \"67\": 15}, \"20\": {\"20\": 14, \"3\": 1, \"122\": 1}, \"2\": {\"2\": 32}, \"5\": {\"5\": 87, \"36\": 1}, \"54\": {\"54\": 15, \"122\": 1}, \"37\": {\"37\": 16}, \"38\": {\"38\": 16}, \"86\": {\"86\": 32, \"6\": 2, \"84\": 1, \"33\": 1}, \"55\": {\"55\": 12}, \"97\": {\"97\": 18, \"31\": 1, \"42\": 1}, \"29\": {\"29\": 28}, \"48\": {\"63\": 1, \"48\": 11}, \"60\": {\"60\": 16}, \"36\": {\"36\": 120, \"107\": 1, \"101\": 1}, \"42\": {\"42\": 24, \"91\": 3, \"105\": 1}, \"66\": {\"66\": 16}, \"126\": {\"126\": 127, \"5\": 1}, \"39\": {\"39\": 103, \"11\": 1}, \"107\": {\"107\": 123, \"18\": 1}, \"59\": {\"59\": 9, \"111\": 1, \"95\": 1, \"66\": 1}, \"117\": {\"117\": 138}, \"6\": {\"6\": 32}, \"123\": {\"123\": 16}, \"8\": {\"8\": 123, \"24\": 1}, \"112\": {\"112\": 15, \"24\": 1}, \"80\": {\"80\": 15, \"6\": 1}, \"125\": {\"125\": 136}, \"61\": {\"61\": 12}, \"45\": {\"45\": 7, \"124\": 1, \"86\": 2, \"64\": 2}, \"72\": {\"72\": 31, \"101\": 1}, \"87\": {\"87\": 106, \"84\": 1, \"11\": 1}, \"106\": {\"106\": 124}, \"35\": {\"35\": 8, \"27\": 1, \"105\": 1, \"61\": 1, \"93\": 1}, \"78\": {\"78\": 13, \"3\": 1, \"40\": 1, \"21\": 1}, \"15\": {\"15\": 98, \"62\": 1, \"12\": 2, \"95\": 1, \"21\": 1, \"36\": 1}, \"100\": {\"100\": 15, \"99\": 1}}, \"Wisig_2\": {\"91\": {\"91\": 23, \"58\": 1, \"6\": 2, \"14\": 1, \"115\": 1}, \"12\": {\"12\": 83, \"117\": 1, \"105\": 1, \"106\": 1, \"71\": 1, \"10\": 1}, \"101\": {\"101\": 147, \"114\": 1}, \"121\": {\"121\": 35, \"109\": 1}, \"118\": {\"118\": 66, \"14\": 1, \"87\": 1}, \"10\": {\"10\": 50, \"70\": 1, \"11\": 1, \"12\": 1, \"78\": 4, \"127\": 2, \"18\": 1}, \"117\": {\"117\": 116, \"2\": 2, \"31\": 1, \"44\": 1}, \"110\": {\"110\": 33, \"120\": 1, \"8\": 1, \"114\": 1, \"14\": 1, \"90\": 1, \"84\": 1, \"95\": 1}, \"97\": {\"97\": 18, \"15\": 2}, \"28\": {\"28\": 20}, \"88\": {\"88\": 119, \"71\": 1, \"24\": 1, \"105\": 1, \"3\": 1, \"1\": 1}, \"17\": {\"17\": 16}, \"126\": {\"126\": 112, \"93\": 1, \"22\": 1}, \"33\": {\"33\": 125, \"105\": 1, \"3\": 1, \"70\": 1}, \"86\": {\"86\": 32}, \"106\": {\"106\": 117, \"21\": 1, \"70\": 1, \"62\": 1}, \"54\": {\"54\": 20}, \"125\": {\"125\": 131, \"98\": 1}, \"83\": {\"83\": 39, \"71\": 1}, \"98\": {\"98\": 119, \"117\": 1}, \"11\": {\"11\": 76, \"3\": 1, \"69\": 1, \"12\": 1, \"109\": 1}, \"32\": {\"32\": 29, \"56\": 1, \"14\": 1, \"62\": 1, \"64\": 2, \"12\": 1, \"95\": 1}, \"42\": {\"42\": 26, \"46\": 2}, \"103\": {\"103\": 16}, \"87\": {\"87\": 98, \"61\": 1, \"39\": 1, \"7\": 1, \"43\": 2, \"106\": 1, \"24\": 2, \"8\": 1, \"105\": 1, \"94\": 2, \"127\": 1, \"11\": 1}, \"61\": {\"61\": 16, \"87\": 1, \"69\": 1, \"71\": 1, \"21\": 1}, \"13\": {\"13\": 13, \"59\": 1, \"78\": 1, \"98\": 1}, \"4\": {\"4\": 83, \"0\": 1, \"69\": 1, \"109\": 1}, \"15\": {\"15\": 116, \"68\": 1, \"0\": 2, \"105\": 1}, \"120\": {\"120\": 20}, \"80\": {\"80\": 16}, \"72\": {\"72\": 28}, \"64\": {\"64\": 15, \"3\": 1}, \"81\": {\"81\": 22, \"1\": 1, \"12\": 1}, \"102\": {\"102\": 112}, \"76\": {\"76\": 16}, \"49\": {\"49\": 18, \"58\": 1, \"81\": 1, \"75\": 1, \"7\": 1, \"85\": 1, \"98\": 1}, \"129\": {\"129\": 32}, \"89\": {\"89\": 34, \"112\": 1, \"82\": 1}, \"52\": {\"52\": 18, \"72\": 1, \"91\": 1}, \"35\": {\"35\": 12}, \"53\": {\"53\": 16}, \"26\": {\"26\": 124, \"87\": 1, \"3\": 1, \"107\": 1, \"71\": 1}, \"96\": {\"96\": 20}, \"27\": {\"27\": 55, \"94\": 1, \"110\": 1, \"109\": 1, \"3\": 1, \"84\": 1, \"62\": 1, \"113\": 1, \"21\": 2, \"7\": 1, \"127\": 1, \"88\": 1, \"36\": 1}, \"24\": {\"24\": 103, \"71\": 1, \"69\": 1, \"39\": 1, \"70\": 1, \"14\": 1, \"107\": 1, \"10\": 1, \"3\": 2}, \"82\": {\"82\": 32, \"107\": 2, \"104\": 1, \"21\": 1}, \"18\": {\"18\": 123, \"109\": 1, \"14\": 2, \"16\": 1, \"61\": 1}, \"69\": {\"69\": 119, \"110\": 1, \"118\": 1, \"106\": 1}, \"47\": {\"47\": 11, \"123\": 1}, \"85\": {\"85\": 32}, \"2\": {\"2\": 32}, \"67\": {\"67\": 15, \"71\": 1}, \"39\": {\"39\": 101, \"105\": 1, \"14\": 1, \"88\": 1, \"109\": 4, \"17\": 1, \"71\": 1, \"44\": 1, \"70\": 1}, \"99\": {\"99\": 32}, \"74\": {\"74\": 13, \"24\": 1, \"34\": 1, \"33\": 1}, \"105\": {\"105\": 130, \"5\": 1, \"114\": 1}, \"70\": {\"70\": 112, \"78\": 2, \"88\": 2, \"3\": 1, \"109\": 1, \"71\": 1, \"90\": 1, \"40\": 1, \"106\": 1}, \"55\": {\"55\": 16}, \"30\": {\"30\": 108, \"122\": 1, \"71\": 1, \"61\": 1, \"1\": 1}, \"60\": {\"60\": 26, \"24\": 1, \"23\": 1}, \"92\": {\"92\": 23, \"128\": 1, \"76\": 2, \"115\": 1, \"69\": 1}, \"45\": {\"45\": 15, \"105\": 1}, \"127\": {\"127\": 111, \"89\": 1}, \"9\": {\"110\": 1, \"9\": 30, \"12\": 1}, \"115\": {\"115\": 12}, \"73\": {\"73\": 28}, \"108\": {\"108\": 138}, \"114\": {\"114\": 113, \"10\": 1, \"71\": 1, \"3\": 1}, \"63\": {\"63\": 19, \"41\": 1}, \"93\": {\"93\": 128}, \"7\": {\"7\": 132}, \"31\": {\"31\": 19, \"14\": 1}, \"123\": {\"123\": 16}, \"128\": {\"128\": 22, \"114\": 2}, \"0\": {\"0\": 109, \"24\": 1, \"7\": 1, \"30\": 1, \"69\": 1, \"39\": 1, \"83\": 1, \"3\": 1}, \"3\": {\"3\": 134, \"18\": 1, \"84\": 1}, \"19\": {\"19\": 28}, \"57\": {\"57\": 19, \"84\": 1}, \"78\": {\"78\": 46, \"49\": 1, \"39\": 1}, \"95\": {\"95\": 35, \"3\": 1}, \"40\": {\"40\": 132, \"71\": 2, \"7\": 1, \"69\": 2, \"3\": 1, \"114\": 1, \"105\": 1}, \"14\": {\"14\": 42, \"3\": 1, \"62\": 1, \"18\": 1, \"88\": 1, \"71\": 1, \"118\": 1}, \"36\": {\"36\": 119, \"21\": 1, \"118\": 1, \"70\": 1, \"24\": 1, \"71\": 2, \"107\": 1, \"105\": 1, \"3\": 1}, \"56\": {\"56\": 12}, \"111\": {\"111\": 127, \"24\": 1}, \"59\": {\"59\": 14, \"19\": 1, \"24\": 1}, \"79\": {\"79\": 14, \"11\": 1, \"88\": 1}, \"62\": {\"62\": 121, \"24\": 1}, \"21\": {\"21\": 46, \"24\": 1, \"40\": 1}, \"48\": {\"48\": 20}, \"16\": {\"16\": 118, \"12\": 1, \"3\": 1, \"70\": 1, \"18\": 1, \"1\": 1, \"93\": 1}, \"50\": {\"50\": 15, \"37\": 1}, \"44\": {\"44\": 95, \"98\": 1}, \"5\": {\"5\": 107, \"3\": 1, \"73\": 1, \"12\": 1}, \"20\": {\"20\": 15, \"24\": 1}, \"1\": {\"1\": 118, \"3\": 1, \"108\": 1}, \"65\": {\"65\": 18, \"84\": 1, \"71\": 1}, \"116\": {\"116\": 28}, \"51\": {\"51\": 17, \"127\": 1, \"9\": 1, \"71\": 1}, \"75\": {\"75\": 15, \"71\": 1}, \"100\": {\"100\": 16}, \"113\": {\"113\": 72}, \"41\": {\"41\": 20}, \"29\": {\"29\": 32}, \"23\": {\"23\": 42, \"122\": 1, \"110\": 1}, \"124\": {\"124\": 122, \"21\": 1, \"44\": 1}, \"68\": {\"68\": 15, \"127\": 1}, \"71\": {\"71\": 99, \"94\": 1}, \"107\": {\"107\": 54, \"90\": 1, \"15\": 1, \"109\": 1, \"70\": 1, \"16\": 1, \"26\": 1, \"3\": 1, \"91\": 1, \"10\": 1, \"82\": 1}, \"94\": {\"94\": 58, \"109\": 1, \"118\": 1, \"18\": 1, \"36\": 2, \"110\": 1}, \"77\": {\"77\": 15, \"17\": 1}, \"8\": {\"8\": 120, \"71\": 1, \"15\": 1}, \"46\": {\"46\": 16}, \"25\": {\"25\": 14, \"6\": 1, \"61\": 1}, \"122\": {\"122\": 136, \"40\": 1, \"106\": 1, \"81\": 1, \"43\": 1}, \"58\": {\"58\": 15, \"77\": 2, \"17\": 1, \"110\": 1, \"24\": 1}, \"6\": {\"6\": 32}, \"109\": {\"109\": 91, \"39\": 3, \"24\": 1, \"70\": 4, \"88\": 1}, \"119\": {\"119\": 19, \"82\": 1}, \"34\": {\"34\": 29, \"40\": 1, \"91\": 1, \"71\": 1}, \"90\": {\"90\": 139, \"6\": 1}, \"38\": {\"38\": 16}, \"104\": {\"3\": 2, \"104\": 17, \"6\": 1}, \"84\": {\"84\": 90, \"58\": 1, \"106\": 1}, \"112\": {\"112\": 16}, \"66\": {\"66\": 17, \"71\": 2, \"21\": 1}, \"22\": {\"22\": 20}, \"37\": {\"37\": 16}, \"43\": {\"43\": 117, \"0\": 1, \"1\": 1, \"71\": 1, \"84\": 1, \"105\": 1, \"3\": 1, \"70\": 1}}, \"ORACLE.run114\": {\"15\": {\"15\": 240}, \"3\": {\"7\": 27, \"3\": 51, \"13\": 46, \"0\": 26, \"2\": 11, \"14\": 22, \"8\": 10, \"6\": 33, \"5\": 11, \"4\": 1, \"12\": 2}, \"6\": {\"7\": 16, \"14\": 20, \"6\": 66, \"13\": 50, \"0\": 19, \"3\": 42, \"2\": 15, \"5\": 9, \"8\": 2, \"10\": 1}, \"1\": {\"9\": 85, \"10\": 34, \"1\": 105, \"4\": 9, \"13\": 2, \"12\": 3, \"14\": 1, \"2\": 1}, \"8\": {\"8\": 89, \"12\": 44, \"0\": 16, \"3\": 7, \"4\": 11, \"5\": 24, \"7\": 28, \"13\": 3, \"14\": 6, \"2\": 6, \"9\": 2, \"10\": 2, \"6\": 2}, \"10\": {\"4\": 49, \"9\": 28, \"10\": 89, \"2\": 7, \"0\": 6, \"1\": 30, \"12\": 14, \"5\": 9, \"6\": 1, \"13\": 2, \"14\": 5}, \"9\": {\"1\": 86, \"8\": 1, \"9\": 86, \"10\": 35, \"4\": 19, \"12\": 12, \"5\": 1}, \"13\": {\"5\": 11, \"15\": 21, \"4\": 5, \"14\": 37, \"3\": 22, \"6\": 49, \"13\": 39, \"0\": 11, \"10\": 2, \"2\": 22, \"7\": 11, \"12\": 7, \"8\": 3}, \"12\": {\"10\": 11, \"1\": 2, \"8\": 47, \"7\": 17, \"13\": 3, \"4\": 34, \"5\": 25, \"12\": 57, \"0\": 14, \"3\": 5, \"14\": 8, \"2\": 13, \"6\": 1, \"9\": 3}, \"5\": {\"8\": 17, \"12\": 23, \"14\": 32, \"0\": 32, \"4\": 17, \"5\": 36, \"2\": 27, \"7\": 24, \"13\": 8, \"3\": 10, \"10\": 9, \"9\": 1, \"6\": 4}, \"0\": {\"3\": 20, \"7\": 19, \"2\": 29, \"13\": 20, \"6\": 17, \"4\": 13, \"0\": 37, \"14\": 29, \"8\": 11, \"5\": 27, \"12\": 14, \"10\": 4}, \"2\": {\"14\": 30, \"2\": 25, \"3\": 23, \"4\": 29, \"5\": 27, \"13\": 23, \"6\": 18, \"12\": 15, \"8\": 7, \"10\": 11, \"7\": 9, \"9\": 1, \"0\": 20, \"1\": 2}, \"11\": {\"11\": 228, \"9\": 4, \"1\": 7, \"10\": 1}, \"14\": {\"6\": 34, \"7\": 16, \"2\": 23, \"3\": 33, \"4\": 5, \"0\": 32, \"13\": 31, \"10\": 3, \"14\": 38, \"5\": 24, \"12\": 1}, \"7\": {\"12\": 14, \"7\": 50, \"2\": 21, \"3\": 27, \"5\": 25, \"14\": 15, \"8\": 23, \"0\": 30, \"13\": 14, \"6\": 16, \"4\": 5}, \"4\": {\"10\": 51, \"1\": 19, \"2\": 21, \"13\": 6, \"4\": 56, \"5\": 19, \"0\": 11, \"3\": 2, \"12\": 15, \"8\": 14, \"9\": 14, \"14\": 5, \"7\": 7}}, \"ORACLE.run120\": {\"3\": {\"2\": 14, \"3\": 28, \"14\": 30, \"8\": 18, \"5\": 21, \"1\": 18, \"15\": 12, \"9\": 25, \"0\": 17, \"7\": 8, \"13\": 7, \"11\": 6, \"12\": 7, \"4\": 10, \"6\": 18, \"10\": 1}, \"15\": {\"15\": 25, \"1\": 16, \"4\": 14, \"9\": 11, \"10\": 14, \"12\": 19, \"6\": 15, \"13\": 32, \"2\": 21, \"0\": 5, \"7\": 26, \"14\": 14, \"8\": 10, \"3\": 7, \"11\": 1, \"5\": 10}, \"8\": {\"8\": 38, \"14\": 41, \"6\": 14, \"1\": 12, \"12\": 3, \"5\": 20, \"10\": 3, \"0\": 24, \"9\": 20, \"7\": 4, \"3\": 23, \"15\": 11, \"2\": 11, \"11\": 11, \"4\": 5}, \"4\": {\"4\": 35, \"15\": 14, \"14\": 16, \"10\": 33, \"6\": 21, \"7\": 29, \"12\": 20, \"13\": 21, \"8\": 5, \"5\": 5, \"9\": 10, \"2\": 18, \"3\": 9, \"1\": 4}, \"14\": {\"2\": 8, \"1\": 14, \"5\": 19, \"14\": 47, \"3\": 28, \"8\": 39, \"9\": 16, \"6\": 19, \"10\": 2, \"4\": 8, \"7\": 9, \"0\": 13, \"12\": 11, \"15\": 3, \"11\": 2, \"13\": 2}, \"0\": {\"2\": 2, \"0\": 77, \"8\": 27, \"11\": 67, \"3\": 22, \"14\": 15, \"9\": 7, \"5\": 11, \"1\": 6, \"12\": 1, \"7\": 4, \"4\": 1}, \"7\": {\"12\": 14, \"15\": 19, \"8\": 13, \"10\": 12, \"6\": 18, \"1\": 20, \"3\": 21, \"9\": 18, \"2\": 22, \"13\": 11, \"7\": 19, \"0\": 6, \"14\": 11, \"4\": 21, \"5\": 15}, \"6\": {\"4\": 23, \"12\": 18, \"14\": 19, \"13\": 18, \"6\": 23, \"15\": 16, \"0\": 4, \"10\": 19, \"9\": 18, \"7\": 10, \"1\": 11, \"2\": 18, \"5\": 17, \"3\": 17, \"8\": 8, \"11\": 1}, \"10\": {\"10\": 83, \"12\": 23, \"4\": 30, \"13\": 20, \"3\": 6, \"14\": 7, \"6\": 18, \"7\": 6, \"9\": 10, \"5\": 6, \"15\": 11, \"2\": 16, \"8\": 1, \"1\": 3}, \"5\": {\"13\": 13, \"5\": 20, \"3\": 22, \"0\": 19, \"1\": 16, \"14\": 22, \"9\": 25, \"8\": 18, \"2\": 23, \"12\": 12, \"7\": 15, \"6\": 13, \"4\": 3, \"15\": 11, \"10\": 4, \"11\": 4}, \"2\": {\"9\": 20, \"4\": 21, \"2\": 29, \"15\": 32, \"6\": 12, \"1\": 10, \"12\": 19, \"13\": 30, \"3\": 9, \"8\": 9, \"10\": 10, \"7\": 18, \"5\": 13, \"14\": 6, \"0\": 2}, \"12\": {\"15\": 21, \"13\": 37, \"4\": 24, \"5\": 13, \"9\": 16, \"10\": 18, \"2\": 23, \"3\": 5, \"7\": 24, \"12\": 21, \"1\": 11, \"8\": 5, \"14\": 9, \"6\": 13}, \"9\": {\"4\": 20, \"6\": 25, \"3\": 16, \"14\": 19, \"15\": 24, \"8\": 13, \"0\": 7, \"1\": 16, \"13\": 8, \"2\": 13, \"7\": 18, \"10\": 5, \"5\": 21, \"9\": 17, \"12\": 17, \"11\": 1}, \"1\": {\"13\": 8, \"12\": 17, \"3\": 20, \"5\": 20, \"2\": 17, \"7\": 31, \"14\": 13, \"6\": 21, \"4\": 10, \"9\": 28, \"1\": 10, \"11\": 2, \"15\": 19, \"8\": 15, \"0\": 7, \"10\": 2}, \"11\": {\"0\": 73, \"8\": 21, \"14\": 14, \"3\": 11, \"11\": 97, \"5\": 5, \"1\": 8, \"9\": 6, \"7\": 2, \"6\": 1, \"15\": 2}, \"13\": {\"15\": 15, \"10\": 20, \"3\": 1, \"13\": 58, \"6\": 19, \"9\": 22, \"12\": 29, \"2\": 22, \"14\": 4, \"4\": 18, \"7\": 14, \"5\": 9, \"1\": 8, \"0\": 1}}, \"ORACLE.run138\": {\"5\": {\"8\": 48, \"12\": 16, \"5\": 54, \"9\": 39, \"15\": 29, \"14\": 5, \"2\": 23, \"7\": 16, \"1\": 3, \"0\": 3, \"13\": 1, \"4\": 2, \"6\": 1}, \"8\": {\"7\": 18, \"13\": 3, \"9\": 21, \"8\": 66, \"12\": 19, \"5\": 47, \"2\": 24, \"0\": 2, \"15\": 26, \"14\": 13, \"4\": 1}, \"11\": {\"11\": 195, \"3\": 45}, \"1\": {\"1\": 108, \"6\": 107, \"15\": 22, \"12\": 1, \"8\": 2}, \"10\": {\"10\": 110, \"4\": 17, \"0\": 56, \"3\": 7, \"13\": 43, \"11\": 6, \"14\": 1}, \"15\": {\"15\": 104, \"1\": 25, \"6\": 15, \"5\": 31, \"12\": 22, \"9\": 9, \"8\": 34}, \"3\": {\"3\": 182, \"11\": 47, \"0\": 4, \"10\": 7}, \"7\": {\"2\": 41, \"13\": 12, \"7\": 54, \"14\": 43, \"8\": 21, \"9\": 25, \"0\": 12, \"5\": 9, \"4\": 19, \"12\": 3, \"10\": 1}, \"4\": {\"4\": 180, \"14\": 18, \"10\": 11, \"0\": 10, \"7\": 13, \"2\": 5, \"13\": 3}, \"14\": {\"4\": 41, \"8\": 6, \"7\": 46, \"12\": 8, \"14\": 84, \"5\": 6, \"13\": 6, \"0\": 4, \"2\": 35, \"9\": 2, \"10\": 2}, \"9\": {\"9\": 128, \"7\": 15, \"8\": 20, \"5\": 25, \"2\": 33, \"0\": 4, \"13\": 8, \"14\": 5, \"15\": 2}, \"12\": {\"12\": 168, \"5\": 18, \"15\": 13, \"8\": 24, \"14\": 10, \"4\": 2, \"7\": 4, \"2\": 1}, \"6\": {\"1\": 99, \"15\": 26, \"6\": 113, \"8\": 1, \"12\": 1}, \"2\": {\"12\": 4, \"9\": 48, \"2\": 55, \"13\": 14, \"14\": 32, \"5\": 13, \"7\": 46, \"8\": 12, \"0\": 9, \"4\": 7}, \"0\": {\"10\": 61, \"13\": 56, \"0\": 52, \"2\": 18, \"4\": 21, \"3\": 6, \"7\": 15, \"14\": 6, \"9\": 3, \"11\": 2}, \"13\": {\"9\": 9, \"0\": 58, \"4\": 17, \"2\": 16, \"7\": 8, \"13\": 69, \"10\": 52, \"14\": 6, \"3\": 5}}, \"ORACLE.run18\": {\"9\": {\"9\": 186, \"3\": 44, \"2\": 8, \"15\": 1, \"12\": 1}, \"10\": {\"1\": 21, \"7\": 36, \"6\": 24, \"4\": 14, \"10\": 25, \"11\": 30, \"8\": 14, \"5\": 30, \"13\": 45, \"14\": 1}, \"13\": {\"1\": 23, \"12\": 8, \"11\": 18, \"13\": 51, \"5\": 31, \"7\": 32, \"6\": 24, \"8\": 7, \"4\": 6, \"10\": 35, \"2\": 2, \"15\": 3}, \"0\": {\"0\": 228, \"14\": 8, \"4\": 3, \"11\": 1}, \"1\": {\"5\": 28, \"14\": 12, \"6\": 16, \"10\": 26, \"7\": 35, \"4\": 25, \"1\": 23, \"8\": 25, \"13\": 20, \"11\": 27, \"12\": 3}, \"15\": {\"15\": 84, \"2\": 57, \"3\": 13, \"12\": 82, \"5\": 2, \"9\": 2}, \"5\": {\"13\": 46, \"11\": 22, \"4\": 11, \"5\": 43, \"10\": 29, \"1\": 26, \"8\": 8, \"6\": 21, \"15\": 3, \"12\": 6, \"14\": 2, \"7\": 20, \"2\": 3}, \"3\": {\"3\": 165, \"2\": 40, \"9\": 24, \"15\": 8, \"12\": 3}, \"6\": {\"8\": 20, \"4\": 27, \"5\": 21, \"10\": 28, \"11\": 29, \"6\": 36, \"1\": 30, \"7\": 25, \"13\": 18, \"15\": 1, \"14\": 4, \"2\": 1}, \"11\": {\"4\": 24, \"7\": 21, \"6\": 28, \"10\": 21, \"1\": 24, \"8\": 49, \"14\": 19, \"5\": 13, \"12\": 2, \"13\": 5, \"11\": 33, \"0\": 1}, \"8\": {\"10\": 15, \"4\": 37, \"6\": 19, \"14\": 34, \"11\": 32, \"7\": 11, \"8\": 56, \"1\": 23, \"5\": 10, \"13\": 3}, \"4\": {\"7\": 20, \"8\": 33, \"1\": 24, \"14\": 46, \"10\": 9, \"4\": 42, \"6\": 26, \"13\": 11, \"11\": 23, \"5\": 6}, \"12\": {\"12\": 97, \"2\": 39, \"15\": 87, \"13\": 3, \"3\": 8, \"5\": 2, \"10\": 2, \"1\": 1, \"7\": 1}, \"14\": {\"14\": 93, \"6\": 11, \"8\": 33, \"11\": 25, \"4\": 51, \"1\": 10, \"10\": 4, \"7\": 5, \"13\": 1, \"0\": 6, \"5\": 1}, \"2\": {\"2\": 96, \"12\": 31, \"5\": 1, \"3\": 47, \"15\": 56, \"10\": 2, \"9\": 6, \"13\": 1}, \"7\": {\"1\": 33, \"7\": 24, \"10\": 44, \"6\": 25, \"5\": 30, \"13\": 34, \"4\": 14, \"11\": 21, \"8\": 12, \"14\": 2, \"15\": 1}}, \"ORACLE.run150\": {\"7\": {\"7\": 82, \"15\": 13, \"4\": 76, \"5\": 28, \"9\": 21, \"3\": 6, \"12\": 4, \"6\": 10}, \"3\": {\"4\": 4, \"3\": 29, \"13\": 24, \"8\": 4, \"11\": 36, \"15\": 37, \"12\": 12, \"6\": 35, \"5\": 26, \"9\": 24, \"7\": 5, \"1\": 4}, \"8\": {\"1\": 46, \"10\": 41, \"13\": 32, \"8\": 83, \"0\": 13, \"11\": 10, \"12\": 3, \"2\": 5, \"14\": 4, \"5\": 1, \"3\": 2}, \"2\": {\"0\": 49, \"14\": 73, \"2\": 84, \"10\": 21, \"8\": 10, \"1\": 3}, \"14\": {\"14\": 66, \"10\": 27, \"0\": 46, \"2\": 95, \"8\": 4, \"1\": 2}, \"4\": {\"4\": 70, \"15\": 16, \"7\": 96, \"3\": 7, \"5\": 28, \"9\": 10, \"6\": 11, \"12\": 2}, \"6\": {\"15\": 47, \"3\": 25, \"11\": 26, \"6\": 42, \"4\": 10, \"5\": 24, \"9\": 27, \"7\": 9, \"12\": 29, \"13\": 1}, \"15\": {\"12\": 16, \"15\": 39, \"9\": 27, \"3\": 32, \"6\": 40, \"4\": 13, \"11\": 22, \"13\": 6, \"7\": 8, \"5\": 37}, \"10\": {\"8\": 43, \"10\": 87, \"0\": 34, \"2\": 20, \"14\": 18, \"13\": 13, \"1\": 24, \"11\": 1}, \"11\": {\"11\": 58, \"12\": 32, \"13\": 23, \"9\": 12, \"5\": 18, \"6\": 23, \"3\": 35, \"15\": 25, \"8\": 5, \"7\": 3, \"1\": 6}, \"13\": {\"13\": 80, \"5\": 6, \"12\": 6, \"11\": 26, \"15\": 7, \"3\": 19, \"8\": 30, \"1\": 48, \"6\": 9, \"10\": 8, \"0\": 1}, \"9\": {\"7\": 15, \"9\": 44, \"11\": 19, \"6\": 37, \"12\": 50, \"5\": 23, \"3\": 14, \"15\": 26, \"4\": 11, \"13\": 1}, \"0\": {\"14\": 37, \"2\": 62, \"0\": 70, \"8\": 17, \"1\": 13, \"10\": 40, \"13\": 1}, \"1\": {\"8\": 60, \"1\": 60, \"3\": 5, \"11\": 18, \"13\": 55, \"10\": 28, \"0\": 4, \"6\": 2, \"5\": 1, \"2\": 2, \"12\": 3, \"15\": 2}, \"12\": {\"15\": 19, \"9\": 45, \"12\": 96, \"11\": 33, \"5\": 8, \"3\": 16, \"4\": 5, \"6\": 12, \"13\": 2, \"7\": 3, \"8\": 1}, \"5\": {\"11\": 20, \"15\": 39, \"5\": 34, \"3\": 19, \"7\": 34, \"6\": 16, \"4\": 33, \"9\": 21, \"1\": 4, \"13\": 13, \"12\": 6, \"8\": 1}}, \"ORACLE.run132\": {\"8\": {\"15\": 28, \"0\": 42, \"8\": 53, \"4\": 8, \"7\": 24, \"3\": 7, \"2\": 17, \"14\": 24, \"5\": 22, \"1\": 14, \"13\": 1}, \"14\": {\"7\": 43, \"14\": 59, \"0\": 47, \"2\": 18, \"15\": 5, \"3\": 2, \"8\": 28, \"4\": 9, \"5\": 18, \"1\": 10, \"13\": 1}, \"2\": {\"2\": 74, \"8\": 15, \"1\": 37, \"9\": 5, \"11\": 2, \"15\": 1, \"3\": 19, \"13\": 15, \"4\": 38, \"0\": 10, \"14\": 19, \"7\": 5}, \"0\": {\"7\": 41, \"5\": 35, \"0\": 56, \"8\": 36, \"15\": 15, \"2\": 11, \"14\": 36, \"1\": 7, \"4\": 2, \"3\": 1}, \"1\": {\"2\": 39, \"0\": 16, \"7\": 5, \"13\": 15, \"1\": 41, \"9\": 4, \"4\": 33, \"14\": 18, \"3\": 31, \"5\": 5, \"8\": 28, \"15\": 4, \"11\": 1}, \"10\": {\"10\": 118, \"9\": 7, \"6\": 29, \"12\": 75, \"11\": 11}, \"11\": {\"9\": 47, \"3\": 8, \"12\": 43, \"11\": 91, \"13\": 28, \"1\": 4, \"10\": 9, \"4\": 7, \"2\": 3}, \"5\": {\"5\": 63, \"15\": 14, \"7\": 55, \"2\": 3, \"14\": 29, \"0\": 44, \"8\": 27, \"1\": 3, \"3\": 1, \"4\": 1}, \"15\": {\"15\": 172, \"5\": 21, \"14\": 5, \"0\": 10, \"7\": 5, \"8\": 26, \"13\": 1}, \"3\": {\"1\": 26, \"4\": 45, \"3\": 49, \"15\": 7, \"2\": 17, \"13\": 60, \"12\": 5, \"11\": 6, \"9\": 18, \"8\": 3, \"14\": 4}, \"12\": {\"10\": 56, \"9\": 34, \"12\": 89, \"11\": 50, \"13\": 5, \"6\": 4, \"4\": 1, \"3\": 1}, \"7\": {\"8\": 23, \"7\": 56, \"0\": 43, \"1\": 7, \"14\": 47, \"2\": 4, \"5\": 51, \"15\": 5, \"4\": 4}, \"13\": {\"4\": 35, \"12\": 9, \"2\": 13, \"13\": 58, \"11\": 23, \"1\": 16, \"3\": 50, \"9\": 30, \"15\": 3, \"8\": 2, \"10\": 1}, \"6\": {\"6\": 175, \"12\": 18, \"10\": 46, \"9\": 1}, \"4\": {\"4\": 45, \"13\": 23, \"1\": 33, \"3\": 36, \"7\": 3, \"5\": 3, \"15\": 1, \"2\": 46, \"11\": 4, \"0\": 5, \"8\": 17, \"14\": 12, \"9\": 12}, \"9\": {\"11\": 50, \"13\": 52, \"1\": 6, \"9\": 51, \"12\": 27, \"2\": 12, \"4\": 12, \"10\": 5, \"3\": 20, \"8\": 3, \"6\": 2}}, \"ORACLE.run126\": {\"4\": {\"9\": 13, \"4\": 124, \"7\": 11, \"3\": 42, \"8\": 9, \"12\": 14, \"13\": 26, \"10\": 1}, \"12\": {\"7\": 33, \"12\": 34, \"9\": 38, \"8\": 30, \"3\": 28, \"13\": 33, \"15\": 2, \"0\": 12, \"10\": 5, \"4\": 4, \"2\": 17, \"5\": 1, \"14\": 3}, \"10\": {\"2\": 8, \"15\": 31, \"1\": 23, \"0\": 24, \"5\": 20, \"11\": 6, \"6\": 33, \"8\": 5, \"14\": 44, \"7\": 7, \"10\": 34, \"12\": 2, \"3\": 2, \"9\": 1}, \"0\": {\"15\": 13, \"14\": 45, \"0\": 37, \"1\": 12, \"6\": 15, \"2\": 28, \"8\": 17, \"9\": 9, \"7\": 14, \"10\": 23, \"11\": 5, \"12\": 5, \"4\": 1, \"5\": 12, \"13\": 2, \"3\": 2}, \"13\": {\"9\": 35, \"12\": 27, \"13\": 58, \"8\": 14, \"3\": 43, \"2\": 20, \"4\": 20, \"7\": 19, \"15\": 1, \"0\": 2, \"10\": 1}, \"9\": {\"13\": 31, \"12\": 28, \"8\": 28, \"1\": 4, \"14\": 8, \"9\": 24, \"0\": 13, \"7\": 24, \"3\": 40, \"2\": 24, \"15\": 3, \"4\": 7, \"6\": 2, \"10\": 4}, \"3\": {\"15\": 3, \"9\": 28, \"7\": 28, \"8\": 19, \"13\": 38, \"12\": 24, \"0\": 7, \"3\": 49, \"2\": 19, \"4\": 24, \"10\": 1}, \"2\": {\"10\": 15, \"12\": 14, \"7\": 29, \"2\": 45, \"9\": 22, \"14\": 16, \"13\": 22, \"0\": 20, \"8\": 32, \"15\": 8, \"3\": 12, \"1\": 4, \"5\": 1}, \"5\": {\"10\": 16, \"11\": 43, \"15\": 41, \"5\": 46, \"14\": 12, \"1\": 20, \"2\": 5, \"0\": 7, \"6\": 44, \"9\": 1, \"3\": 1, \"8\": 3, \"12\": 1}, \"14\": {\"6\": 32, \"1\": 31, \"14\": 59, \"10\": 34, \"5\": 12, \"15\": 20, \"12\": 4, \"2\": 7, \"9\": 4, \"7\": 9, \"0\": 17, \"8\": 7, \"11\": 3, \"3\": 1}, \"8\": {\"10\": 16, \"7\": 41, \"3\": 26, \"12\": 25, \"8\": 28, \"9\": 21, \"2\": 30, \"0\": 17, \"1\": 3, \"13\": 11, \"14\": 11, \"5\": 3, \"4\": 5, \"15\": 2, \"6\": 1}, \"7\": {\"8\": 37, \"9\": 22, \"13\": 19, \"7\": 36, \"4\": 13, \"2\": 31, \"10\": 9, \"12\": 22, \"3\": 31, \"0\": 13, \"6\": 2, \"14\": 3, \"5\": 1, \"1\": 1}, \"6\": {\"15\": 33, \"14\": 19, \"6\": 46, \"0\": 23, \"5\": 34, \"10\": 23, \"1\": 28, \"11\": 26, \"3\": 1, \"2\": 3, \"7\": 2, \"9\": 2}, \"11\": {\"11\": 102, \"5\": 46, \"15\": 30, \"6\": 30, \"1\": 14, \"10\": 7, \"14\": 8, \"0\": 1, \"8\": 1, \"2\": 1}, \"15\": {\"6\": 40, \"15\": 35, \"0\": 23, \"11\": 22, \"5\": 41, \"10\": 20, \"2\": 7, \"1\": 25, \"14\": 25, \"13\": 1, \"12\": 1}, \"1\": {\"1\": 68, \"14\": 25, \"6\": 26, \"10\": 25, \"11\": 14, \"0\": 15, \"5\": 30, \"2\": 4, \"15\": 30, \"9\": 1, \"8\": 2}}, \"ORACLE.run144\": {\"12\": {\"12\": 104, \"3\": 111, \"0\": 15, \"2\": 4, \"1\": 5, \"8\": 1}, \"7\": {\"10\": 34, \"6\": 24, \"9\": 29, \"7\": 47, \"14\": 17, \"4\": 37, \"5\": 23, \"13\": 15, \"1\": 1, \"15\": 5, \"2\": 6, \"8\": 2}, \"5\": {\"10\": 35, \"14\": 23, \"9\": 11, \"1\": 9, \"13\": 4, \"6\": 3, \"4\": 34, \"15\": 36, \"8\": 11, \"5\": 31, \"7\": 25, \"2\": 16, \"0\": 2}, \"15\": {\"14\": 31, \"1\": 16, \"8\": 47, \"15\": 48, \"4\": 22, \"5\": 25, \"2\": 12, \"6\": 1, \"0\": 18, \"10\": 9, \"9\": 5, \"7\": 6}, \"8\": {\"14\": 21, \"3\": 4, \"15\": 38, \"1\": 30, \"4\": 5, \"5\": 18, \"8\": 50, \"0\": 48, \"10\": 2, \"2\": 14, \"7\": 5, \"12\": 5}, \"2\": {\"2\": 83, \"15\": 15, \"1\": 38, \"0\": 10, \"8\": 8, \"7\": 17, \"10\": 15, \"4\": 15, \"9\": 11, \"14\": 17, \"5\": 9, \"6\": 1, \"3\": 1}, \"13\": {\"13\": 108, \"6\": 77, \"10\": 4, \"9\": 17, \"4\": 9, \"11\": 18, \"7\": 6, \"5\": 1}, \"4\": {\"14\": 29, \"13\": 16, \"10\": 22, \"9\": 24, \"1\": 10, \"7\": 31, \"2\": 15, \"5\": 29, \"15\": 15, \"4\": 33, \"8\": 4, \"6\": 9, \"0\": 3}, \"0\": {\"0\": 79, \"1\": 39, \"3\": 13, \"5\": 6, \"8\": 46, \"15\": 27, \"12\": 7, \"2\": 15, \"9\": 1, \"14\": 4, \"4\": 2, \"10\": 1}, \"6\": {\"13\": 62, \"7\": 29, \"6\": 93, \"4\": 8, \"9\": 37, \"10\": 7, \"11\": 2, \"14\": 1, \"2\": 1}, \"9\": {\"10\": 35, \"2\": 10, \"6\": 31, \"13\": 37, \"5\": 14, \"7\": 40, \"1\": 4, \"4\": 19, \"15\": 3, \"14\": 9, \"9\": 37, \"11\": 1}, \"11\": {\"11\": 215, \"13\": 23, \"9\": 1, \"6\": 1}, \"10\": {\"2\": 20, \"14\": 36, \"10\": 31, \"7\": 30, \"9\": 31, \"1\": 16, \"5\": 19, \"4\": 24, \"0\": 2, \"8\": 3, \"6\": 16, \"13\": 6, \"15\": 6}, \"14\": {\"7\": 28, \"10\": 23, \"14\": 39, \"4\": 27, \"0\": 2, \"9\": 16, \"15\": 31, \"5\": 32, \"13\": 3, \"6\": 4, \"2\": 12, \"1\": 13, \"8\": 10}, \"1\": {\"0\": 32, \"1\": 59, \"2\": 40, \"15\": 24, \"8\": 34, \"12\": 3, \"10\": 6, \"14\": 16, \"5\": 10, \"3\": 4, \"9\": 6, \"4\": 5, \"7\": 1}, \"3\": {\"3\": 110, \"12\": 90, \"1\": 6, \"2\": 3, \"0\": 23, \"8\": 7, \"15\": 1}}}, \"per_domain_accuracy\": {\"Wisig_3\": {\"accuracy\": 0.9780701754385965, \"source?\": true}, \"Wisig_4\": {\"accuracy\": 0.9661779835390947, \"source?\": true}, \"Wisig_1\": {\"accuracy\": 0.9799202127659574, \"source?\": true}, \"Wisig_2\": {\"accuracy\": 0.9574579831932774, \"source?\": true}, \"ORACLE.run114\": {\"accuracy\": 0.33645833333333336, \"source?\": false}, \"ORACLE.run120\": {\"accuracy\": 0.16328125, \"source?\": false}, \"ORACLE.run138\": {\"accuracy\": 0.4484375, \"source?\": false}, \"ORACLE.run18\": {\"accuracy\": 0.3338541666666667, \"source?\": false}, \"ORACLE.run150\": {\"accuracy\": 0.26666666666666666, \"source?\": false}, \"ORACLE.run132\": {\"accuracy\": 0.3255208333333333, \"source?\": false}, \"ORACLE.run126\": {\"accuracy\": 0.21484375, \"source?\": false}, \"ORACLE.run144\": {\"accuracy\": 0.30390625, \"source?\": false}}}, \"history\": {\"epoch_indices\": [1, 2, 3, 4, 5, 6], \"train_label_loss\": [0.19309605404531419, 0.1356143972618903, 0.11446123216719815, 0.10256876093561774, 0.09493157288166856, 0.08943315478567912], \"source_val_label_loss\": [0.21337144076824188, 0.12791801989078522, 0.1165151447057724, 0.11766045540571213, 0.11247948557138443, 0.1070123240351677], \"target_val_label_loss\": [2.5296411514282227, 2.4838812351226807, 2.4517030715942383, 2.5348658561706543, 2.548379898071289, 2.4450995922088623], \"source_val_acc_label\": [0.9558395127118644, 0.9702727754237288, 0.972854872881356, 0.9730865995762712, 0.9732521186440678, 0.9739804025423728], \"target_val_acc_label\": [0.24202473958333334, 0.29912109375, 0.2802734375, 0.21715494791666667, 0.2083984375, 0.23203125]}, \"dataset_metrics\": {\"source\": {\"train\": {\"n_unique_x\": 188978, \"n_unique_y\": 130, \"n_batch/episode\": 6831}, \"val\": {\"n_unique_x\": 40068, \"n_unique_y\": 130, \"n_batch/episode\": 944}, \"test\": {\"n_unique_x\": 40816, \"n_unique_y\": 130, \"n_batch/episode\": 969}}, \"target\": {\"train\": {\"n_unique_x\": 179200, \"n_unique_y\": 16, \"n_batch/episode\": 6720}, \"val\": {\"n_unique_x\": 38400, \"n_unique_y\": 16, \"n_batch/episode\": 960}, \"test\": {\"n_unique_x\": 38400, \"n_unique_y\": 16, \"n_batch/episode\": 960}}}}'"
      ]
     },
     "execution_count": 29,
     "metadata": {},
     "output_type": "execute_result"
    }
   ],
   "source": [
    "json.dumps(experiment)"
   ]
  }
 ],
 "metadata": {
  "celltoolbar": "Tags",
  "kernelspec": {
   "display_name": "Python 3 (ipykernel)",
   "language": "python",
   "name": "python3"
  },
  "language_info": {
   "codemirror_mode": {
    "name": "ipython",
    "version": 3
   },
   "file_extension": ".py",
   "mimetype": "text/x-python",
   "name": "python",
   "nbconvert_exporter": "python",
   "pygments_lexer": "ipython3",
   "version": "3.8.12"
  },
  "papermill": {
   "default_parameters": {},
   "duration": 1518.935055,
   "end_time": "2022-03-22T16:42:34.825702",
   "environment_variables": {},
   "exception": null,
   "input_path": "/root/csc500-main/csc500-notebooks/templates/tl_ptn_template.ipynb",
   "output_path": "trial.ipynb",
   "parameters": {
    "parameters": {
     "BEST_MODEL_PATH": "./best_model.pth",
     "NUM_LOGS_PER_EPOCH": 10,
     "criteria_for_best": "target_accuracy",
     "dataset_seed": 1337,
     "datasets": [
      {
       "domain_prefix": "Wisig_",
       "domains": [
        1,
        2,
        3,
        4
       ],
       "episode_transforms": [],
       "labels": [
        "1-10",
        "1-12",
        "1-14",
        "1-16",
        "1-18",
        "1-19",
        "1-8",
        "10-11",
        "10-17",
        "10-4",
        "10-7",
        "11-1",
        "11-10",
        "11-19",
        "11-20",
        "11-4",
        "11-7",
        "12-19",
        "12-20",
        "12-7",
        "13-14",
        "13-18",
        "13-19",
        "13-20",
        "13-3",
        "13-7",
        "14-10",
        "14-11",
        "14-12",
        "14-13",
        "14-14",
        "14-19",
        "14-20",
        "14-7",
        "14-8",
        "14-9",
        "15-1",
        "15-19",
        "15-6",
        "16-1",
        "16-16",
        "16-19",
        "16-20",
        "17-10",
        "17-11",
        "18-1",
        "18-10",
        "18-11",
        "18-12",
        "18-13",
        "18-14",
        "18-15",
        "18-16",
        "18-17",
        "18-19",
        "18-2",
        "18-20",
        "18-4",
        "18-5",
        "18-7",
        "18-8",
        "18-9",
        "19-1",
        "19-10",
        "19-11",
        "19-12",
        "19-13",
        "19-14",
        "19-15",
        "19-19",
        "19-2",
        "19-20",
        "19-3",
        "19-4",
        "19-6",
        "19-7",
        "19-8",
        "19-9",
        "2-1",
        "2-13",
        "2-15",
        "2-3",
        "2-4",
        "2-5",
        "2-6",
        "2-7",
        "2-8",
        "20-1",
        "20-12",
        "20-14",
        "20-15",
        "20-16",
        "20-18",
        "20-19",
        "20-20",
        "20-3",
        "20-4",
        "20-5",
        "20-7",
        "20-8",
        "3-1",
        "3-13",
        "3-18",
        "3-2",
        "3-8",
        "4-1",
        "4-10",
        "4-11",
        "5-1",
        "5-5",
        "6-1",
        "6-15",
        "6-6",
        "7-10",
        "7-11",
        "7-12",
        "7-13",
        "7-14",
        "7-7",
        "7-8",
        "7-9",
        "8-1",
        "8-13",
        "8-14",
        "8-18",
        "8-20",
        "8-3",
        "8-8",
        "9-1",
        "9-7"
       ],
       "num_examples_per_domain_per_label": -1,
       "pickle_path": "/root/csc500-main/datasets/wisig.node3-19.stratified_ds.2022A.pkl",
       "source_or_target_dataset": "source",
       "x_transforms": []
      },
      {
       "domain_prefix": "ORACLE.run1",
       "domains": [
        32,
        38,
        8,
        44,
        14,
        50,
        20,
        26
       ],
       "episode_transforms": [],
       "labels": [
        "3123D52",
        "3123D65",
        "3123D79",
        "3123D80",
        "3123D54",
        "3123D70",
        "3123D7B",
        "3123D89",
        "3123D58",
        "3123D76",
        "3123D7D",
        "3123EFE",
        "3123D64",
        "3123D78",
        "3123D7E",
        "3124E4A"
       ],
       "num_examples_per_domain_per_label": 2000,
       "pickle_path": "/root/csc500-main/datasets/oracle.Run1_10kExamples_stratified_ds.2022A.pkl",
       "source_or_target_dataset": "target",
       "x_transforms": []
      }
     ],
     "device": "cuda",
     "experiment_name": "tl_1v2:wisig-oracle.run1.limited",
     "lr": 0.0001,
     "n_epoch": 50,
     "n_query": 2,
     "n_shot": 3,
     "n_way": 16,
     "patience": 3,
     "seed": 1337,
     "test_k_factor": 2,
     "torch_default_dtype": "torch.float32",
     "train_k_factor": 3,
     "val_k_factor": 2,
     "x_net": [
      {
       "class": "nnReshape",
       "kargs": {
        "shape": [
         -1,
         1,
         2,
         256
        ]
       }
      },
      {
       "class": "Conv2d",
       "kargs": {
        "bias": false,
        "in_channels": 1,
        "kernel_size": [
         1,
         7
        ],
        "out_channels": 256,
        "padding": [
         0,
         3
        ]
       }
      },
      {
       "class": "ReLU",
       "kargs": {
        "inplace": true
       }
      },
      {
       "class": "BatchNorm2d",
       "kargs": {
        "num_features": 256
       }
      },
      {
       "class": "Conv2d",
       "kargs": {
        "bias": true,
        "in_channels": 256,
        "kernel_size": [
         2,
         7
        ],
        "out_channels": 80,
        "padding": [
         0,
         3
        ]
       }
      },
      {
       "class": "ReLU",
       "kargs": {
        "inplace": true
       }
      },
      {
       "class": "BatchNorm2d",
       "kargs": {
        "num_features": 80
       }
      },
      {
       "class": "Flatten",
       "kargs": {}
      },
      {
       "class": "Linear",
       "kargs": {
        "in_features": 20480,
        "out_features": 256
       }
      },
      {
       "class": "ReLU",
       "kargs": {
        "inplace": true
       }
      },
      {
       "class": "BatchNorm1d",
       "kargs": {
        "num_features": 256
       }
      },
      {
       "class": "Linear",
       "kargs": {
        "in_features": 256,
        "out_features": 256
       }
      }
     ]
    }
   },
   "start_time": "2022-03-22T16:17:15.890647",
   "version": "2.3.4"
  }
 },
 "nbformat": 4,
 "nbformat_minor": 5
}