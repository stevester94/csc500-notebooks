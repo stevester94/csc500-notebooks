{
 "cells": [
  {
   "cell_type": "markdown",
   "id": "9fea5f46",
   "metadata": {
    "papermill": {
     "duration": 0.029452,
     "end_time": "2022-03-23T00:14:14.956704",
     "exception": false,
     "start_time": "2022-03-23T00:14:14.927252",
     "status": "completed"
    },
    "tags": []
   },
   "source": [
    "# Transfer Learning Template"
   ]
  },
  {
   "cell_type": "code",
   "execution_count": 1,
   "id": "0902182a",
   "metadata": {
    "execution": {
     "iopub.execute_input": "2022-03-23T00:14:15.017420Z",
     "iopub.status.busy": "2022-03-23T00:14:15.016560Z",
     "iopub.status.idle": "2022-03-23T00:14:16.843299Z",
     "shell.execute_reply": "2022-03-23T00:14:16.842465Z"
    },
    "papermill": {
     "duration": 1.864509,
     "end_time": "2022-03-23T00:14:16.843492",
     "exception": false,
     "start_time": "2022-03-23T00:14:14.978983",
     "status": "completed"
    },
    "tags": []
   },
   "outputs": [],
   "source": [
    "%load_ext autoreload\n",
    "%autoreload 2\n",
    "%matplotlib inline\n",
    "\n",
    "    \n",
    "import os, json, sys, time, random\n",
    "import numpy as np\n",
    "import torch\n",
    "from torch.optim import Adam\n",
    "from  easydict import EasyDict\n",
    "import matplotlib.pyplot as plt\n",
    "\n",
    "from steves_models.steves_ptn import Steves_Prototypical_Network\n",
    "\n",
    "from steves_utils.lazy_iterable_wrapper import Lazy_Iterable_Wrapper\n",
    "from steves_utils.iterable_aggregator import Iterable_Aggregator\n",
    "from steves_utils.ptn_train_eval_test_jig import  PTN_Train_Eval_Test_Jig\n",
    "from steves_utils.torch_sequential_builder import build_sequential\n",
    "from steves_utils.torch_utils import get_dataset_metrics, ptn_confusion_by_domain_over_dataloader\n",
    "from steves_utils.utils_v2 import (per_domain_accuracy_from_confusion, get_datasets_base_path)\n",
    "from steves_utils.PTN.utils import independent_accuracy_assesment\n",
    "\n",
    "from torch.utils.data import DataLoader\n",
    "\n",
    "from steves_utils.stratified_dataset.episodic_accessor import Episodic_Accessor_Factory\n",
    "\n",
    "from steves_utils.ptn_do_report import (\n",
    "    get_loss_curve,\n",
    "    get_results_table,\n",
    "    get_parameters_table,\n",
    "    get_domain_accuracies,\n",
    ")\n",
    "\n",
    "from steves_utils.transforms import get_chained_transform"
   ]
  },
  {
   "cell_type": "markdown",
   "id": "41c840b4",
   "metadata": {
    "papermill": {
     "duration": 0.019818,
     "end_time": "2022-03-23T00:14:16.888584",
     "exception": false,
     "start_time": "2022-03-23T00:14:16.868766",
     "status": "completed"
    },
    "tags": []
   },
   "source": [
    "# Allowed Parameters\n",
    "These are allowed parameters, not defaults\n",
    "Each of these values need to be present in the injected parameters (the notebook will raise an exception if they are not present)\n",
    "\n",
    "Papermill uses the cell tag \"parameters\" to inject the real parameters below this cell.\n",
    "Enable tags to see what I mean"
   ]
  },
  {
   "cell_type": "code",
   "execution_count": 2,
   "id": "fd44eb83",
   "metadata": {
    "execution": {
     "iopub.execute_input": "2022-03-23T00:14:16.932865Z",
     "iopub.status.busy": "2022-03-23T00:14:16.932236Z",
     "iopub.status.idle": "2022-03-23T00:14:16.950943Z",
     "shell.execute_reply": "2022-03-23T00:14:16.950135Z"
    },
    "papermill": {
     "duration": 0.04242,
     "end_time": "2022-03-23T00:14:16.951107",
     "exception": false,
     "start_time": "2022-03-23T00:14:16.908687",
     "status": "completed"
    },
    "tags": []
   },
   "outputs": [],
   "source": [
    "required_parameters = {\n",
    "    \"experiment_name\",\n",
    "    \"lr\",\n",
    "    \"device\",\n",
    "    \"seed\",\n",
    "    \"dataset_seed\",\n",
    "    \"n_shot\",\n",
    "    \"n_query\",\n",
    "    \"n_way\",\n",
    "    \"train_k_factor\",\n",
    "    \"val_k_factor\",\n",
    "    \"test_k_factor\",\n",
    "    \"n_epoch\",\n",
    "    \"patience\",\n",
    "    \"criteria_for_best\",\n",
    "    \"x_net\",\n",
    "    \"datasets\",\n",
    "    \"torch_default_dtype\",\n",
    "    \"NUM_LOGS_PER_EPOCH\",\n",
    "    \"BEST_MODEL_PATH\",\n",
    "    \"x_shape\",\n",
    "}"
   ]
  },
  {
   "cell_type": "code",
   "execution_count": 3,
   "id": "fa3f0049",
   "metadata": {
    "execution": {
     "iopub.execute_input": "2022-03-23T00:14:17.009334Z",
     "iopub.status.busy": "2022-03-23T00:14:17.008427Z",
     "iopub.status.idle": "2022-03-23T00:14:17.028379Z",
     "shell.execute_reply": "2022-03-23T00:14:17.027561Z"
    },
    "papermill": {
     "duration": 0.049651,
     "end_time": "2022-03-23T00:14:17.028546",
     "exception": false,
     "start_time": "2022-03-23T00:14:16.978895",
     "status": "completed"
    },
    "tags": [
     "parameters"
    ]
   },
   "outputs": [],
   "source": [
    "from steves_utils.CORES.utils import (\n",
    "    ALL_NODES,\n",
    "    ALL_NODES_MINIMUM_1000_EXAMPLES,\n",
    "    ALL_DAYS\n",
    ")\n",
    "\n",
    "from steves_utils.ORACLE.utils_v2 import (\n",
    "    ALL_DISTANCES_FEET_NARROWED,\n",
    "    ALL_RUNS,\n",
    "    ALL_SERIAL_NUMBERS,\n",
    ")\n",
    "\n",
    "standalone_parameters = {}\n",
    "standalone_parameters[\"experiment_name\"] = \"STANDALONE PTN\"\n",
    "standalone_parameters[\"lr\"] = 0.001\n",
    "standalone_parameters[\"device\"] = \"cuda\"\n",
    "\n",
    "standalone_parameters[\"seed\"] = 1337\n",
    "standalone_parameters[\"dataset_seed\"] = 1337\n",
    "\n",
    "standalone_parameters[\"n_way\"] = 8\n",
    "standalone_parameters[\"n_shot\"] = 3\n",
    "standalone_parameters[\"n_query\"]  = 2\n",
    "standalone_parameters[\"train_k_factor\"] = 1\n",
    "standalone_parameters[\"val_k_factor\"] = 2\n",
    "standalone_parameters[\"test_k_factor\"] = 2\n",
    "\n",
    "\n",
    "standalone_parameters[\"n_epoch\"] = 50\n",
    "\n",
    "standalone_parameters[\"patience\"] = 10\n",
    "standalone_parameters[\"criteria_for_best\"] = \"source_loss\"\n",
    "\n",
    "standalone_parameters[\"datasets\"] = [\n",
    "    {\n",
    "        \"labels\": ALL_SERIAL_NUMBERS,\n",
    "        \"domains\": ALL_DISTANCES_FEET_NARROWED,\n",
    "        \"num_examples_per_domain_per_label\": 100,\n",
    "        \"pickle_path\": os.path.join(get_datasets_base_path(), \"oracle.Run1_framed_2000Examples_stratified_ds.2022A.pkl\"),\n",
    "        \"source_or_target_dataset\": \"source\",\n",
    "        \"x_transforms\": [\"unit_mag\", \"minus_two\"],\n",
    "        \"episode_transforms\": [],\n",
    "        \"domain_prefix\": \"ORACLE_\"\n",
    "    },\n",
    "    {\n",
    "        \"labels\": ALL_NODES,\n",
    "        \"domains\": ALL_DAYS,\n",
    "        \"num_examples_per_domain_per_label\": 100,\n",
    "        \"pickle_path\": os.path.join(get_datasets_base_path(), \"cores.stratified_ds.2022A.pkl\"),\n",
    "        \"source_or_target_dataset\": \"target\",\n",
    "        \"x_transforms\": [\"unit_power\", \"times_zero\"],\n",
    "        \"episode_transforms\": [],\n",
    "        \"domain_prefix\": \"CORES_\"\n",
    "    }   \n",
    "]\n",
    "\n",
    "standalone_parameters[\"torch_default_dtype\"] = \"torch.float32\" \n",
    "\n",
    "\n",
    "\n",
    "standalone_parameters[\"x_net\"] =     [\n",
    "    {\"class\": \"nnReshape\", \"kargs\": {\"shape\":[-1, 1, 2, 256]}},\n",
    "    {\"class\": \"Conv2d\", \"kargs\": { \"in_channels\":1, \"out_channels\":256, \"kernel_size\":(1,7), \"bias\":False, \"padding\":(0,3), },},\n",
    "    {\"class\": \"ReLU\", \"kargs\": {\"inplace\": True}},\n",
    "    {\"class\": \"BatchNorm2d\", \"kargs\": {\"num_features\":256}},\n",
    "\n",
    "    {\"class\": \"Conv2d\", \"kargs\": { \"in_channels\":256, \"out_channels\":80, \"kernel_size\":(2,7), \"bias\":True, \"padding\":(0,3), },},\n",
    "    {\"class\": \"ReLU\", \"kargs\": {\"inplace\": True}},\n",
    "    {\"class\": \"BatchNorm2d\", \"kargs\": {\"num_features\":80}},\n",
    "    {\"class\": \"Flatten\", \"kargs\": {}},\n",
    "\n",
    "    {\"class\": \"Linear\", \"kargs\": {\"in_features\": 80*256, \"out_features\": 256}}, # 80 units per IQ pair\n",
    "    {\"class\": \"ReLU\", \"kargs\": {\"inplace\": True}},\n",
    "    {\"class\": \"BatchNorm1d\", \"kargs\": {\"num_features\":256}},\n",
    "\n",
    "    {\"class\": \"Linear\", \"kargs\": {\"in_features\": 256, \"out_features\": 256}},\n",
    "]\n",
    "\n",
    "# Parameters relevant to results\n",
    "# These parameters will basically never need to change\n",
    "standalone_parameters[\"NUM_LOGS_PER_EPOCH\"] = 10\n",
    "standalone_parameters[\"BEST_MODEL_PATH\"] = \"./best_model.pth\"\n",
    "\n",
    "\n",
    "\n",
    "\n"
   ]
  },
  {
   "cell_type": "code",
   "execution_count": 4,
   "id": "a3a0101d",
   "metadata": {
    "execution": {
     "iopub.execute_input": "2022-03-23T00:14:17.085404Z",
     "iopub.status.busy": "2022-03-23T00:14:17.084607Z",
     "iopub.status.idle": "2022-03-23T00:14:17.104109Z",
     "shell.execute_reply": "2022-03-23T00:14:17.103330Z"
    },
    "papermill": {
     "duration": 0.050878,
     "end_time": "2022-03-23T00:14:17.104276",
     "exception": false,
     "start_time": "2022-03-23T00:14:17.053398",
     "status": "completed"
    },
    "tags": [
     "injected-parameters"
    ]
   },
   "outputs": [],
   "source": [
    "# Parameters\n",
    "parameters = {\n",
    "    \"experiment_name\": \"tl_1v2:wisig-oracle.run1.limited\",\n",
    "    \"device\": \"cuda\",\n",
    "    \"lr\": 0.0001,\n",
    "    \"n_shot\": 3,\n",
    "    \"n_query\": 2,\n",
    "    \"train_k_factor\": 3,\n",
    "    \"val_k_factor\": 2,\n",
    "    \"test_k_factor\": 2,\n",
    "    \"torch_default_dtype\": \"torch.float32\",\n",
    "    \"n_epoch\": 50,\n",
    "    \"patience\": 3,\n",
    "    \"criteria_for_best\": \"target_accuracy\",\n",
    "    \"x_net\": [\n",
    "        {\"class\": \"nnReshape\", \"kargs\": {\"shape\": [-1, 1, 2, 256]}},\n",
    "        {\n",
    "            \"class\": \"Conv2d\",\n",
    "            \"kargs\": {\n",
    "                \"in_channels\": 1,\n",
    "                \"out_channels\": 256,\n",
    "                \"kernel_size\": [1, 7],\n",
    "                \"bias\": False,\n",
    "                \"padding\": [0, 3],\n",
    "            },\n",
    "        },\n",
    "        {\"class\": \"ReLU\", \"kargs\": {\"inplace\": True}},\n",
    "        {\"class\": \"BatchNorm2d\", \"kargs\": {\"num_features\": 256}},\n",
    "        {\n",
    "            \"class\": \"Conv2d\",\n",
    "            \"kargs\": {\n",
    "                \"in_channels\": 256,\n",
    "                \"out_channels\": 80,\n",
    "                \"kernel_size\": [2, 7],\n",
    "                \"bias\": True,\n",
    "                \"padding\": [0, 3],\n",
    "            },\n",
    "        },\n",
    "        {\"class\": \"ReLU\", \"kargs\": {\"inplace\": True}},\n",
    "        {\"class\": \"BatchNorm2d\", \"kargs\": {\"num_features\": 80}},\n",
    "        {\"class\": \"Flatten\", \"kargs\": {}},\n",
    "        {\"class\": \"Linear\", \"kargs\": {\"in_features\": 20480, \"out_features\": 256}},\n",
    "        {\"class\": \"ReLU\", \"kargs\": {\"inplace\": True}},\n",
    "        {\"class\": \"BatchNorm1d\", \"kargs\": {\"num_features\": 256}},\n",
    "        {\"class\": \"Linear\", \"kargs\": {\"in_features\": 256, \"out_features\": 256}},\n",
    "    ],\n",
    "    \"NUM_LOGS_PER_EPOCH\": 10,\n",
    "    \"BEST_MODEL_PATH\": \"./best_model.pth\",\n",
    "    \"n_way\": 16,\n",
    "    \"datasets\": [\n",
    "        {\n",
    "            \"labels\": [\n",
    "                \"1-10\",\n",
    "                \"1-12\",\n",
    "                \"1-14\",\n",
    "                \"1-16\",\n",
    "                \"1-18\",\n",
    "                \"1-19\",\n",
    "                \"1-8\",\n",
    "                \"10-11\",\n",
    "                \"10-17\",\n",
    "                \"10-4\",\n",
    "                \"10-7\",\n",
    "                \"11-1\",\n",
    "                \"11-10\",\n",
    "                \"11-19\",\n",
    "                \"11-20\",\n",
    "                \"11-4\",\n",
    "                \"11-7\",\n",
    "                \"12-19\",\n",
    "                \"12-20\",\n",
    "                \"12-7\",\n",
    "                \"13-14\",\n",
    "                \"13-18\",\n",
    "                \"13-19\",\n",
    "                \"13-20\",\n",
    "                \"13-3\",\n",
    "                \"13-7\",\n",
    "                \"14-10\",\n",
    "                \"14-11\",\n",
    "                \"14-12\",\n",
    "                \"14-13\",\n",
    "                \"14-14\",\n",
    "                \"14-19\",\n",
    "                \"14-20\",\n",
    "                \"14-7\",\n",
    "                \"14-8\",\n",
    "                \"14-9\",\n",
    "                \"15-1\",\n",
    "                \"15-19\",\n",
    "                \"15-6\",\n",
    "                \"16-1\",\n",
    "                \"16-16\",\n",
    "                \"16-19\",\n",
    "                \"16-20\",\n",
    "                \"17-10\",\n",
    "                \"17-11\",\n",
    "                \"18-1\",\n",
    "                \"18-10\",\n",
    "                \"18-11\",\n",
    "                \"18-12\",\n",
    "                \"18-13\",\n",
    "                \"18-14\",\n",
    "                \"18-15\",\n",
    "                \"18-16\",\n",
    "                \"18-17\",\n",
    "                \"18-19\",\n",
    "                \"18-2\",\n",
    "                \"18-20\",\n",
    "                \"18-4\",\n",
    "                \"18-5\",\n",
    "                \"18-7\",\n",
    "                \"18-8\",\n",
    "                \"18-9\",\n",
    "                \"19-1\",\n",
    "                \"19-10\",\n",
    "                \"19-11\",\n",
    "                \"19-12\",\n",
    "                \"19-13\",\n",
    "                \"19-14\",\n",
    "                \"19-15\",\n",
    "                \"19-19\",\n",
    "                \"19-2\",\n",
    "                \"19-20\",\n",
    "                \"19-3\",\n",
    "                \"19-4\",\n",
    "                \"19-6\",\n",
    "                \"19-7\",\n",
    "                \"19-8\",\n",
    "                \"19-9\",\n",
    "                \"2-1\",\n",
    "                \"2-13\",\n",
    "                \"2-15\",\n",
    "                \"2-3\",\n",
    "                \"2-4\",\n",
    "                \"2-5\",\n",
    "                \"2-6\",\n",
    "                \"2-7\",\n",
    "                \"2-8\",\n",
    "                \"20-1\",\n",
    "                \"20-12\",\n",
    "                \"20-14\",\n",
    "                \"20-15\",\n",
    "                \"20-16\",\n",
    "                \"20-18\",\n",
    "                \"20-19\",\n",
    "                \"20-20\",\n",
    "                \"20-3\",\n",
    "                \"20-4\",\n",
    "                \"20-5\",\n",
    "                \"20-7\",\n",
    "                \"20-8\",\n",
    "                \"3-1\",\n",
    "                \"3-13\",\n",
    "                \"3-18\",\n",
    "                \"3-2\",\n",
    "                \"3-8\",\n",
    "                \"4-1\",\n",
    "                \"4-10\",\n",
    "                \"4-11\",\n",
    "                \"5-1\",\n",
    "                \"5-5\",\n",
    "                \"6-1\",\n",
    "                \"6-15\",\n",
    "                \"6-6\",\n",
    "                \"7-10\",\n",
    "                \"7-11\",\n",
    "                \"7-12\",\n",
    "                \"7-13\",\n",
    "                \"7-14\",\n",
    "                \"7-7\",\n",
    "                \"7-8\",\n",
    "                \"7-9\",\n",
    "                \"8-1\",\n",
    "                \"8-13\",\n",
    "                \"8-14\",\n",
    "                \"8-18\",\n",
    "                \"8-20\",\n",
    "                \"8-3\",\n",
    "                \"8-8\",\n",
    "                \"9-1\",\n",
    "                \"9-7\",\n",
    "            ],\n",
    "            \"domains\": [1, 2, 3, 4],\n",
    "            \"num_examples_per_domain_per_label\": -1,\n",
    "            \"pickle_path\": \"/root/csc500-main/datasets/wisig.node3-19.stratified_ds.2022A.pkl\",\n",
    "            \"source_or_target_dataset\": \"target\",\n",
    "            \"x_transforms\": [\"unit_power\"],\n",
    "            \"episode_transforms\": [],\n",
    "            \"domain_prefix\": \"Wisig_\",\n",
    "        },\n",
    "        {\n",
    "            \"labels\": [\n",
    "                \"3123D52\",\n",
    "                \"3123D65\",\n",
    "                \"3123D79\",\n",
    "                \"3123D80\",\n",
    "                \"3123D54\",\n",
    "                \"3123D70\",\n",
    "                \"3123D7B\",\n",
    "                \"3123D89\",\n",
    "                \"3123D58\",\n",
    "                \"3123D76\",\n",
    "                \"3123D7D\",\n",
    "                \"3123EFE\",\n",
    "                \"3123D64\",\n",
    "                \"3123D78\",\n",
    "                \"3123D7E\",\n",
    "                \"3124E4A\",\n",
    "            ],\n",
    "            \"domains\": [32, 38, 8, 44, 14, 50, 20, 26],\n",
    "            \"num_examples_per_domain_per_label\": 2000,\n",
    "            \"pickle_path\": \"/root/csc500-main/datasets/oracle.Run1_10kExamples_stratified_ds.2022A.pkl\",\n",
    "            \"source_or_target_dataset\": \"source\",\n",
    "            \"x_transforms\": [\"unit_power\"],\n",
    "            \"episode_transforms\": [],\n",
    "            \"domain_prefix\": \"ORACLE.run1\",\n",
    "        },\n",
    "    ],\n",
    "    \"dataset_seed\": 154325,\n",
    "    \"seed\": 154325,\n",
    "}\n"
   ]
  },
  {
   "cell_type": "code",
   "execution_count": 5,
   "id": "8fa1cc33",
   "metadata": {
    "execution": {
     "iopub.execute_input": "2022-03-23T00:14:17.154401Z",
     "iopub.status.busy": "2022-03-23T00:14:17.153544Z",
     "iopub.status.idle": "2022-03-23T00:14:17.180568Z",
     "shell.execute_reply": "2022-03-23T00:14:17.181253Z"
    },
    "papermill": {
     "duration": 0.054813,
     "end_time": "2022-03-23T00:14:17.181464",
     "exception": false,
     "start_time": "2022-03-23T00:14:17.126651",
     "status": "completed"
    },
    "tags": []
   },
   "outputs": [],
   "source": [
    "# Set this to True if you want to run this template directly\n",
    "STANDALONE = False\n",
    "if STANDALONE:\n",
    "    print(\"parameters not injected, running with standalone_parameters\")\n",
    "    parameters = standalone_parameters\n",
    "\n",
    "if not 'parameters' in locals() and not 'parameters' in globals():\n",
    "    raise Exception(\"Parameter injection failed\")\n",
    "\n",
    "#Use an easy dict for all the parameters\n",
    "p = EasyDict(parameters)\n",
    "\n",
    "if \"x_shape\" not in p:\n",
    "    p.x_shape = [2,256] # Default to this if we dont supply x_shape\n",
    "\n",
    "\n",
    "supplied_keys = set(p.keys())\n",
    "\n",
    "if  supplied_keys != required_parameters:\n",
    "    print(\"Parameters are incorrect\")\n",
    "    if len(supplied_keys - required_parameters)>0: print(\"Shouldn't have:\", str(supplied_keys - required_parameters))\n",
    "    if len(required_parameters - supplied_keys)>0: print(\"Need to have:\", str(required_parameters - supplied_keys))\n",
    "    raise RuntimeError(\"Parameters are incorrect\")"
   ]
  },
  {
   "cell_type": "code",
   "execution_count": 6,
   "id": "3a028d58",
   "metadata": {
    "execution": {
     "iopub.execute_input": "2022-03-23T00:14:17.230112Z",
     "iopub.status.busy": "2022-03-23T00:14:17.229545Z",
     "iopub.status.idle": "2022-03-23T00:14:17.254857Z",
     "shell.execute_reply": "2022-03-23T00:14:17.254053Z"
    },
    "papermill": {
     "duration": 0.048646,
     "end_time": "2022-03-23T00:14:17.255010",
     "exception": false,
     "start_time": "2022-03-23T00:14:17.206364",
     "status": "completed"
    },
    "tags": []
   },
   "outputs": [],
   "source": [
    "###################################\n",
    "# Set the RNGs and make it all deterministic\n",
    "###################################\n",
    "np.random.seed(p.seed)\n",
    "random.seed(p.seed)\n",
    "torch.manual_seed(p.seed)\n",
    "\n",
    "torch.use_deterministic_algorithms(True) "
   ]
  },
  {
   "cell_type": "code",
   "execution_count": 7,
   "id": "b691acf6",
   "metadata": {
    "execution": {
     "iopub.execute_input": "2022-03-23T00:14:17.304216Z",
     "iopub.status.busy": "2022-03-23T00:14:17.303850Z",
     "iopub.status.idle": "2022-03-23T00:14:17.327677Z",
     "shell.execute_reply": "2022-03-23T00:14:17.326855Z"
    },
    "papermill": {
     "duration": 0.04603,
     "end_time": "2022-03-23T00:14:17.327832",
     "exception": false,
     "start_time": "2022-03-23T00:14:17.281802",
     "status": "completed"
    },
    "tags": []
   },
   "outputs": [],
   "source": [
    "###########################################\n",
    "# The stratified datasets honor this\n",
    "###########################################\n",
    "torch.set_default_dtype(eval(p.torch_default_dtype))"
   ]
  },
  {
   "cell_type": "code",
   "execution_count": 8,
   "id": "b5fba671",
   "metadata": {
    "execution": {
     "iopub.execute_input": "2022-03-23T00:14:17.378874Z",
     "iopub.status.busy": "2022-03-23T00:14:17.378510Z",
     "iopub.status.idle": "2022-03-23T00:14:17.436831Z",
     "shell.execute_reply": "2022-03-23T00:14:17.436013Z"
    },
    "papermill": {
     "duration": 0.080944,
     "end_time": "2022-03-23T00:14:17.437010",
     "exception": false,
     "start_time": "2022-03-23T00:14:17.356066",
     "status": "completed"
    },
    "tags": []
   },
   "outputs": [],
   "source": [
    "###################################\n",
    "# Build the network(s)\n",
    "# Note: It's critical to do this AFTER setting the RNG\n",
    "###################################\n",
    "x_net = build_sequential(p.x_net)"
   ]
  },
  {
   "cell_type": "code",
   "execution_count": 9,
   "id": "5d7e61cc",
   "metadata": {
    "execution": {
     "iopub.execute_input": "2022-03-23T00:14:17.485644Z",
     "iopub.status.busy": "2022-03-23T00:14:17.485274Z",
     "iopub.status.idle": "2022-03-23T00:14:17.511264Z",
     "shell.execute_reply": "2022-03-23T00:14:17.510457Z"
    },
    "papermill": {
     "duration": 0.048698,
     "end_time": "2022-03-23T00:14:17.511420",
     "exception": false,
     "start_time": "2022-03-23T00:14:17.462722",
     "status": "completed"
    },
    "tags": []
   },
   "outputs": [],
   "source": [
    "start_time_secs = time.time()"
   ]
  },
  {
   "cell_type": "code",
   "execution_count": 10,
   "id": "c6b67dfd",
   "metadata": {
    "execution": {
     "iopub.execute_input": "2022-03-23T00:14:17.564667Z",
     "iopub.status.busy": "2022-03-23T00:14:17.562272Z",
     "iopub.status.idle": "2022-03-23T00:14:17.588980Z",
     "shell.execute_reply": "2022-03-23T00:14:17.588171Z"
    },
    "papermill": {
     "duration": 0.048939,
     "end_time": "2022-03-23T00:14:17.589130",
     "exception": false,
     "start_time": "2022-03-23T00:14:17.540191",
     "status": "completed"
    },
    "tags": []
   },
   "outputs": [],
   "source": [
    "p.domains_source = []\n",
    "p.domains_target = []\n",
    "\n",
    "\n",
    "train_original_source = []\n",
    "val_original_source   = []\n",
    "test_original_source  = []\n",
    "\n",
    "train_original_target = []\n",
    "val_original_target   = []\n",
    "test_original_target  = []"
   ]
  },
  {
   "cell_type": "code",
   "execution_count": 11,
   "id": "e3d9c3d3",
   "metadata": {
    "execution": {
     "iopub.execute_input": "2022-03-23T00:14:17.638733Z",
     "iopub.status.busy": "2022-03-23T00:14:17.637031Z",
     "iopub.status.idle": "2022-03-23T00:14:17.660697Z",
     "shell.execute_reply": "2022-03-23T00:14:17.659893Z"
    },
    "papermill": {
     "duration": 0.045864,
     "end_time": "2022-03-23T00:14:17.660850",
     "exception": false,
     "start_time": "2022-03-23T00:14:17.614986",
     "status": "completed"
    },
    "tags": []
   },
   "outputs": [],
   "source": [
    "# global_x_transform_func = lambda x: normalize(x.to(torch.get_default_dtype()), \"unit_power\") # unit_power, unit_mag\n",
    "# global_x_transform_func = lambda x: normalize(x, \"unit_power\") # unit_power, unit_mag"
   ]
  },
  {
   "cell_type": "code",
   "execution_count": 12,
   "id": "acb78fd2",
   "metadata": {
    "execution": {
     "iopub.execute_input": "2022-03-23T00:14:17.718403Z",
     "iopub.status.busy": "2022-03-23T00:14:17.714595Z",
     "iopub.status.idle": "2022-03-23T00:14:17.738555Z",
     "shell.execute_reply": "2022-03-23T00:14:17.737757Z"
    },
    "papermill": {
     "duration": 0.051759,
     "end_time": "2022-03-23T00:14:17.738707",
     "exception": false,
     "start_time": "2022-03-23T00:14:17.686948",
     "status": "completed"
    },
    "tags": []
   },
   "outputs": [],
   "source": [
    "def add_dataset(\n",
    "    labels,\n",
    "    domains,\n",
    "    pickle_path,\n",
    "    x_transforms,\n",
    "    episode_transforms,\n",
    "    domain_prefix,\n",
    "    num_examples_per_domain_per_label,\n",
    "    source_or_target_dataset:str,\n",
    "    iterator_seed=p.seed,\n",
    "    dataset_seed=p.dataset_seed,\n",
    "    n_shot=p.n_shot,\n",
    "    n_way=p.n_way,\n",
    "    n_query=p.n_query,\n",
    "    train_val_test_k_factors=(p.train_k_factor,p.val_k_factor,p.test_k_factor),\n",
    "):\n",
    "   \n",
    "    if x_transforms == []: x_transform = None\n",
    "    else: x_transform = get_chained_transform(x_transforms)\n",
    "    \n",
    "    if episode_transforms == []: episode_transform = None\n",
    "    else: raise Exception(\"episode_transforms not implemented\")\n",
    "    \n",
    "    episode_transform = lambda tup, _prefix=domain_prefix: (_prefix + str(tup[0]), tup[1])\n",
    "\n",
    "\n",
    "    eaf = Episodic_Accessor_Factory(\n",
    "        labels=labels,\n",
    "        domains=domains,\n",
    "        num_examples_per_domain_per_label=num_examples_per_domain_per_label,\n",
    "        iterator_seed=iterator_seed,\n",
    "        dataset_seed=dataset_seed,\n",
    "        n_shot=n_shot,\n",
    "        n_way=n_way,\n",
    "        n_query=n_query,\n",
    "        train_val_test_k_factors=train_val_test_k_factors,\n",
    "        pickle_path=pickle_path,\n",
    "        x_transform_func=x_transform,\n",
    "    )\n",
    "\n",
    "    train, val, test = eaf.get_train(), eaf.get_val(), eaf.get_test()\n",
    "    train = Lazy_Iterable_Wrapper(train, episode_transform)\n",
    "    val = Lazy_Iterable_Wrapper(val, episode_transform)\n",
    "    test = Lazy_Iterable_Wrapper(test, episode_transform)\n",
    "\n",
    "    if source_or_target_dataset==\"source\":\n",
    "        train_original_source.append(train)\n",
    "        val_original_source.append(val)\n",
    "        test_original_source.append(test)\n",
    "\n",
    "        p.domains_source.extend(\n",
    "            [domain_prefix + str(u) for u in domains]\n",
    "        )\n",
    "    elif source_or_target_dataset==\"target\":\n",
    "        train_original_target.append(train)\n",
    "        val_original_target.append(val)\n",
    "        test_original_target.append(test)\n",
    "        p.domains_target.extend(\n",
    "            [domain_prefix + str(u) for u in domains]\n",
    "        )\n",
    "    else:\n",
    "        raise Exception(f\"invalid source_or_target_dataset: {source_or_target_dataset}\")\n",
    "    "
   ]
  },
  {
   "cell_type": "code",
   "execution_count": 13,
   "id": "fe266617",
   "metadata": {
    "execution": {
     "iopub.execute_input": "2022-03-23T00:14:17.788002Z",
     "iopub.status.busy": "2022-03-23T00:14:17.787635Z",
     "iopub.status.idle": "2022-03-23T00:15:04.679116Z",
     "shell.execute_reply": "2022-03-23T00:15:04.678370Z"
    },
    "papermill": {
     "duration": 46.915045,
     "end_time": "2022-03-23T00:15:04.679301",
     "exception": false,
     "start_time": "2022-03-23T00:14:17.764256",
     "status": "completed"
    },
    "tags": []
   },
   "outputs": [],
   "source": [
    "for ds in p.datasets:\n",
    "    add_dataset(**ds)"
   ]
  },
  {
   "cell_type": "code",
   "execution_count": 14,
   "id": "b90d65ac",
   "metadata": {
    "execution": {
     "iopub.execute_input": "2022-03-23T00:15:04.730802Z",
     "iopub.status.busy": "2022-03-23T00:15:04.729614Z",
     "iopub.status.idle": "2022-03-23T00:15:04.754839Z",
     "shell.execute_reply": "2022-03-23T00:15:04.754022Z"
    },
    "papermill": {
     "duration": 0.048913,
     "end_time": "2022-03-23T00:15:04.754995",
     "exception": false,
     "start_time": "2022-03-23T00:15:04.706082",
     "status": "completed"
    },
    "tags": []
   },
   "outputs": [],
   "source": [
    "# from steves_utils.CORES.utils import (\n",
    "#     ALL_NODES,\n",
    "#     ALL_NODES_MINIMUM_1000_EXAMPLES,\n",
    "#     ALL_DAYS\n",
    "# )\n",
    "\n",
    "# add_dataset(\n",
    "#     labels=ALL_NODES,\n",
    "#     domains = ALL_DAYS,\n",
    "#     num_examples_per_domain_per_label=100,\n",
    "#     pickle_path=os.path.join(get_datasets_base_path(), \"cores.stratified_ds.2022A.pkl\"),\n",
    "#     source_or_target_dataset=\"target\",\n",
    "#     x_transform_func=global_x_transform_func,\n",
    "#     domain_modifier=lambda u: f\"cores_{u}\"\n",
    "# )"
   ]
  },
  {
   "cell_type": "code",
   "execution_count": 15,
   "id": "76db484d",
   "metadata": {
    "execution": {
     "iopub.execute_input": "2022-03-23T00:15:04.808744Z",
     "iopub.status.busy": "2022-03-23T00:15:04.808226Z",
     "iopub.status.idle": "2022-03-23T00:15:04.832730Z",
     "shell.execute_reply": "2022-03-23T00:15:04.831914Z"
    },
    "papermill": {
     "duration": 0.049868,
     "end_time": "2022-03-23T00:15:04.832887",
     "exception": false,
     "start_time": "2022-03-23T00:15:04.783019",
     "status": "completed"
    },
    "tags": []
   },
   "outputs": [],
   "source": [
    "# from steves_utils.ORACLE.utils_v2 import (\n",
    "#     ALL_DISTANCES_FEET,\n",
    "#     ALL_RUNS,\n",
    "#     ALL_SERIAL_NUMBERS,\n",
    "# )\n",
    "\n",
    "\n",
    "# add_dataset(\n",
    "#     labels=ALL_SERIAL_NUMBERS,\n",
    "#     domains = list(set(ALL_DISTANCES_FEET) - {2,62}),\n",
    "#     num_examples_per_domain_per_label=100,\n",
    "#     pickle_path=os.path.join(get_datasets_base_path(), \"oracle.Run2_framed_2000Examples_stratified_ds.2022A.pkl\"),\n",
    "#     source_or_target_dataset=\"source\",\n",
    "#     x_transform_func=global_x_transform_func,\n",
    "#     domain_modifier=lambda u: f\"oracle1_{u}\"\n",
    "# )\n"
   ]
  },
  {
   "cell_type": "code",
   "execution_count": 16,
   "id": "97dea9d2",
   "metadata": {
    "execution": {
     "iopub.execute_input": "2022-03-23T00:15:04.883820Z",
     "iopub.status.busy": "2022-03-23T00:15:04.883434Z",
     "iopub.status.idle": "2022-03-23T00:15:04.909669Z",
     "shell.execute_reply": "2022-03-23T00:15:04.908952Z"
    },
    "papermill": {
     "duration": 0.051434,
     "end_time": "2022-03-23T00:15:04.909825",
     "exception": false,
     "start_time": "2022-03-23T00:15:04.858391",
     "status": "completed"
    },
    "tags": []
   },
   "outputs": [],
   "source": [
    "# from steves_utils.ORACLE.utils_v2 import (\n",
    "#     ALL_DISTANCES_FEET,\n",
    "#     ALL_RUNS,\n",
    "#     ALL_SERIAL_NUMBERS,\n",
    "# )\n",
    "\n",
    "\n",
    "# add_dataset(\n",
    "#     labels=ALL_SERIAL_NUMBERS,\n",
    "#     domains = list(set(ALL_DISTANCES_FEET) - {2,62,56}),\n",
    "#     num_examples_per_domain_per_label=100,\n",
    "#     pickle_path=os.path.join(get_datasets_base_path(), \"oracle.Run2_framed_2000Examples_stratified_ds.2022A.pkl\"),\n",
    "#     source_or_target_dataset=\"source\",\n",
    "#     x_transform_func=global_x_transform_func,\n",
    "#     domain_modifier=lambda u: f\"oracle2_{u}\"\n",
    "# )"
   ]
  },
  {
   "cell_type": "code",
   "execution_count": 17,
   "id": "6f289866",
   "metadata": {
    "execution": {
     "iopub.execute_input": "2022-03-23T00:15:04.962983Z",
     "iopub.status.busy": "2022-03-23T00:15:04.962606Z",
     "iopub.status.idle": "2022-03-23T00:15:04.983111Z",
     "shell.execute_reply": "2022-03-23T00:15:04.982430Z"
    },
    "papermill": {
     "duration": 0.044281,
     "end_time": "2022-03-23T00:15:04.983271",
     "exception": false,
     "start_time": "2022-03-23T00:15:04.938990",
     "status": "completed"
    },
    "tags": []
   },
   "outputs": [],
   "source": [
    "# add_dataset(\n",
    "#     labels=list(range(19)),\n",
    "#     domains = [0,1,2],\n",
    "#     num_examples_per_domain_per_label=100,\n",
    "#     pickle_path=os.path.join(get_datasets_base_path(), \"metehan.stratified_ds.2022A.pkl\"),\n",
    "#     source_or_target_dataset=\"target\",\n",
    "#     x_transform_func=global_x_transform_func,\n",
    "#     domain_modifier=lambda u: f\"met_{u}\"\n",
    "# )"
   ]
  },
  {
   "cell_type": "code",
   "execution_count": 18,
   "id": "86a863c3",
   "metadata": {
    "execution": {
     "iopub.execute_input": "2022-03-23T00:15:05.033817Z",
     "iopub.status.busy": "2022-03-23T00:15:05.033444Z",
     "iopub.status.idle": "2022-03-23T00:15:05.052178Z",
     "shell.execute_reply": "2022-03-23T00:15:05.051486Z"
    },
    "papermill": {
     "duration": 0.04263,
     "end_time": "2022-03-23T00:15:05.052337",
     "exception": false,
     "start_time": "2022-03-23T00:15:05.009707",
     "status": "completed"
    },
    "tags": []
   },
   "outputs": [],
   "source": [
    "# # from steves_utils.wisig.utils import (\n",
    "# #     ALL_NODES_MINIMUM_100_EXAMPLES,\n",
    "# #     ALL_NODES_MINIMUM_500_EXAMPLES,\n",
    "# #     ALL_NODES_MINIMUM_1000_EXAMPLES,\n",
    "# #     ALL_DAYS\n",
    "# # )\n",
    "\n",
    "# import steves_utils.wisig.utils as wisig\n",
    "\n",
    "\n",
    "# add_dataset(\n",
    "#     labels=wisig.ALL_NODES_MINIMUM_100_EXAMPLES,\n",
    "#     domains = wisig.ALL_DAYS,\n",
    "#     num_examples_per_domain_per_label=100,\n",
    "#     pickle_path=os.path.join(get_datasets_base_path(), \"wisig.node3-19.stratified_ds.2022A.pkl\"),\n",
    "#     source_or_target_dataset=\"target\",\n",
    "#     x_transform_func=global_x_transform_func,\n",
    "#     domain_modifier=lambda u: f\"wisig_{u}\"\n",
    "# )"
   ]
  },
  {
   "cell_type": "code",
   "execution_count": 19,
   "id": "fd5442bc",
   "metadata": {
    "execution": {
     "iopub.execute_input": "2022-03-23T00:15:05.107361Z",
     "iopub.status.busy": "2022-03-23T00:15:05.106348Z",
     "iopub.status.idle": "2022-03-23T00:15:05.128302Z",
     "shell.execute_reply": "2022-03-23T00:15:05.127478Z"
    },
    "papermill": {
     "duration": 0.050286,
     "end_time": "2022-03-23T00:15:05.128456",
     "exception": false,
     "start_time": "2022-03-23T00:15:05.078170",
     "status": "completed"
    },
    "tags": []
   },
   "outputs": [],
   "source": [
    "###################################\n",
    "# Build the dataset\n",
    "###################################\n",
    "train_original_source = Iterable_Aggregator(train_original_source, p.seed)\n",
    "val_original_source = Iterable_Aggregator(val_original_source, p.seed)\n",
    "test_original_source = Iterable_Aggregator(test_original_source, p.seed)\n",
    "\n",
    "\n",
    "train_original_target = Iterable_Aggregator(train_original_target, p.seed)\n",
    "val_original_target = Iterable_Aggregator(val_original_target, p.seed)\n",
    "test_original_target = Iterable_Aggregator(test_original_target, p.seed)\n",
    "\n",
    "# For CNN We only use X and Y. And we only train on the source.\n",
    "# Properly form the data using a transform lambda and Lazy_Iterable_Wrapper. Finally wrap them in a dataloader\n",
    "\n",
    "transform_lambda = lambda ex: ex[1] # Original is (<domain>, <episode>) so we strip down to episode only\n",
    "\n",
    "train_processed_source = Lazy_Iterable_Wrapper(train_original_source, transform_lambda)\n",
    "val_processed_source   = Lazy_Iterable_Wrapper(val_original_source, transform_lambda)\n",
    "test_processed_source  = Lazy_Iterable_Wrapper(test_original_source, transform_lambda)\n",
    "\n",
    "train_processed_target = Lazy_Iterable_Wrapper(train_original_target, transform_lambda)\n",
    "val_processed_target   = Lazy_Iterable_Wrapper(val_original_target, transform_lambda)\n",
    "test_processed_target  = Lazy_Iterable_Wrapper(test_original_target, transform_lambda)\n",
    "\n",
    "datasets = EasyDict({\n",
    "    \"source\": {\n",
    "        \"original\": {\"train\":train_original_source, \"val\":val_original_source, \"test\":test_original_source},\n",
    "        \"processed\": {\"train\":train_processed_source, \"val\":val_processed_source, \"test\":test_processed_source}\n",
    "    },\n",
    "    \"target\": {\n",
    "        \"original\": {\"train\":train_original_target, \"val\":val_original_target, \"test\":test_original_target},\n",
    "        \"processed\": {\"train\":train_processed_target, \"val\":val_processed_target, \"test\":test_processed_target}\n",
    "    },\n",
    "})"
   ]
  },
  {
   "cell_type": "code",
   "execution_count": 20,
   "id": "5b3c01fc",
   "metadata": {
    "execution": {
     "iopub.execute_input": "2022-03-23T00:15:05.185127Z",
     "iopub.status.busy": "2022-03-23T00:15:05.184537Z",
     "iopub.status.idle": "2022-03-23T00:15:20.104648Z",
     "shell.execute_reply": "2022-03-23T00:15:20.105334Z"
    },
    "papermill": {
     "duration": 14.94696,
     "end_time": "2022-03-23T00:15:20.105547",
     "exception": false,
     "start_time": "2022-03-23T00:15:05.158587",
     "status": "completed"
    },
    "tags": []
   },
   "outputs": [
    {
     "name": "stdout",
     "output_type": "stream",
     "text": [
      "{'ORACLE.run132', 'ORACLE.run144', 'ORACLE.run18', 'ORACLE.run138', 'ORACLE.run120', 'ORACLE.run114', 'ORACLE.run150', 'ORACLE.run126'}\n"
     ]
    },
    {
     "name": "stdout",
     "output_type": "stream",
     "text": [
      "{'Wisig_1', 'Wisig_4', 'Wisig_3', 'Wisig_2'}\n"
     ]
    },
    {
     "name": "stdout",
     "output_type": "stream",
     "text": [
      "tensor([[[ 0.2134, -0.3315, -0.6902,  ...,  0.1635, -0.0727,  0.3224],\n",
      "         [ 0.0091,  0.8764, -0.3587,  ...,  0.0136,  0.2089,  0.7856]],\n",
      "\n",
      "        [[-0.3342, -0.5662,  0.4920,  ...,  0.4084, -0.2738, -0.0278],\n",
      "         [ 0.0975, -0.1021,  1.6429,  ...,  0.7286,  0.0464, -0.5523]],\n",
      "\n",
      "        [[ 0.2644, -0.2876, -0.5613,  ..., -1.2524,  0.1345,  1.2942],\n",
      "         [-1.1179, -0.1206,  0.4917,  ...,  0.3618,  0.5891,  0.5010]],\n",
      "\n",
      "        ...,\n",
      "\n",
      "        [[ 0.6196,  1.0273,  0.8684,  ...,  0.5295, -0.4978, -1.1173],\n",
      "         [ 0.1430,  0.7149, -0.8102,  ...,  0.2542,  0.4395, -0.3283]],\n",
      "\n",
      "        [[ 0.3250, -0.1733, -1.1699,  ...,  0.5903,  0.8936, -0.1462],\n",
      "         [-0.6824,  0.5145, -0.1408,  ..., -0.6174,  0.0596,  1.4407]],\n",
      "\n",
      "        [[-1.2461, -0.3851,  0.3423,  ..., -1.0215,  0.2032, -0.1284],\n",
      "         [ 0.1284, -0.8504, -0.9039,  ..., -0.0856,  0.4760,  0.8825]]])\n"
     ]
    }
   ],
   "source": [
    "from steves_utils.transforms import get_average_magnitude, get_average_power\n",
    "\n",
    "print(set([u for u,_ in val_original_source]))\n",
    "print(set([u for u,_ in val_original_target]))\n",
    "\n",
    "s_x, s_y, q_x, q_y, _ = next(iter(train_processed_source))\n",
    "print(s_x)\n",
    "\n",
    "# for ds in [\n",
    "#     train_processed_source,\n",
    "#     val_processed_source,\n",
    "#     test_processed_source,\n",
    "#     train_processed_target,\n",
    "#     val_processed_target,\n",
    "#     test_processed_target\n",
    "# ]:\n",
    "#     for s_x, s_y, q_x, q_y, _ in ds:\n",
    "#         for X in (s_x, q_x):\n",
    "#             for x in X:\n",
    "#                 assert np.isclose(get_average_magnitude(x.numpy()), 1.0)\n",
    "#                 assert np.isclose(get_average_power(x.numpy()), 1.0)\n",
    "                "
   ]
  },
  {
   "cell_type": "code",
   "execution_count": 21,
   "id": "bbdacba1",
   "metadata": {
    "execution": {
     "iopub.execute_input": "2022-03-23T00:15:20.162880Z",
     "iopub.status.busy": "2022-03-23T00:15:20.162316Z",
     "iopub.status.idle": "2022-03-23T00:15:20.356606Z",
     "shell.execute_reply": "2022-03-23T00:15:20.356912Z"
    },
    "papermill": {
     "duration": 0.223203,
     "end_time": "2022-03-23T00:15:20.357030",
     "exception": false,
     "start_time": "2022-03-23T00:15:20.133827",
     "status": "completed"
    },
    "tags": []
   },
   "outputs": [
    {
     "name": "stdout",
     "output_type": "stream",
     "text": [
      "(2, 256)\n"
     ]
    }
   ],
   "source": [
    "###################################\n",
    "# Build the model\n",
    "###################################\n",
    "# easfsl only wants a tuple for the shape\n",
    "model = Steves_Prototypical_Network(x_net, device=p.device, x_shape=tuple(p.x_shape))\n",
    "optimizer = Adam(params=model.parameters(), lr=p.lr)"
   ]
  },
  {
   "cell_type": "code",
   "execution_count": 22,
   "id": "22b39ac5",
   "metadata": {
    "execution": {
     "iopub.execute_input": "2022-03-23T00:15:20.404988Z",
     "iopub.status.busy": "2022-03-23T00:15:20.404619Z",
     "iopub.status.idle": "2022-03-23T01:01:03.828959Z",
     "shell.execute_reply": "2022-03-23T01:01:03.828616Z"
    },
    "papermill": {
     "duration": 2743.449487,
     "end_time": "2022-03-23T01:01:03.829043",
     "exception": false,
     "start_time": "2022-03-23T00:15:20.379556",
     "status": "completed"
    },
    "tags": []
   },
   "outputs": [
    {
     "name": "stdout",
     "output_type": "stream",
     "text": [
      "epoch: 1, [batch: 1 / 6720], examples_per_second: 33.6331, train_label_loss: 2.7904, \n"
     ]
    },
    {
     "name": "stdout",
     "output_type": "stream",
     "text": [
      "epoch: 1, [batch: 672 / 6720], examples_per_second: 3842.5927, train_label_loss: 2.5492, \n"
     ]
    },
    {
     "name": "stdout",
     "output_type": "stream",
     "text": [
      "epoch: 1, [batch: 1344 / 6720], examples_per_second: 3808.5099, train_label_loss: 1.3638, \n"
     ]
    },
    {
     "name": "stdout",
     "output_type": "stream",
     "text": [
      "epoch: 1, [batch: 2016 / 6720], examples_per_second: 3827.1964, train_label_loss: 1.4918, \n"
     ]
    },
    {
     "name": "stdout",
     "output_type": "stream",
     "text": [
      "epoch: 1, [batch: 2688 / 6720], examples_per_second: 3778.4405, train_label_loss: 1.5275, \n"
     ]
    },
    {
     "name": "stdout",
     "output_type": "stream",
     "text": [
      "epoch: 1, [batch: 3360 / 6720], examples_per_second: 3895.4709, train_label_loss: 1.3054, \n"
     ]
    },
    {
     "name": "stdout",
     "output_type": "stream",
     "text": [
      "epoch: 1, [batch: 4032 / 6720], examples_per_second: 3878.6904, train_label_loss: 1.0077, \n"
     ]
    },
    {
     "name": "stdout",
     "output_type": "stream",
     "text": [
      "epoch: 1, [batch: 4704 / 6720], examples_per_second: 3837.6270, train_label_loss: 1.1551, \n"
     ]
    },
    {
     "name": "stdout",
     "output_type": "stream",
     "text": [
      "epoch: 1, [batch: 5376 / 6720], examples_per_second: 3881.9928, train_label_loss: 0.8223, \n"
     ]
    },
    {
     "name": "stdout",
     "output_type": "stream",
     "text": [
      "epoch: 1, [batch: 6048 / 6720], examples_per_second: 3873.1888, train_label_loss: 0.8320, \n"
     ]
    },
    {
     "name": "stdout",
     "output_type": "stream",
     "text": [
      "=============================================================\n",
      "epoch: 1, source_val_acc_label: 0.5388, target_val_acc_label: 0.6252, source_val_label_loss: 1.2007, target_val_label_loss: 5.7097, \n",
      "=============================================================\n"
     ]
    },
    {
     "name": "stdout",
     "output_type": "stream",
     "text": [
      "New best\n"
     ]
    },
    {
     "name": "stdout",
     "output_type": "stream",
     "text": [
      "epoch: 2, [batch: 1 / 6720], examples_per_second: 3.8928, train_label_loss: 0.7521, \n"
     ]
    },
    {
     "name": "stdout",
     "output_type": "stream",
     "text": [
      "epoch: 2, [batch: 672 / 6720], examples_per_second: 3887.7078, train_label_loss: 0.9549, \n"
     ]
    },
    {
     "name": "stdout",
     "output_type": "stream",
     "text": [
      "epoch: 2, [batch: 1344 / 6720], examples_per_second: 3989.7493, train_label_loss: 1.4671, \n"
     ]
    },
    {
     "name": "stdout",
     "output_type": "stream",
     "text": [
      "epoch: 2, [batch: 2016 / 6720], examples_per_second: 3959.5932, train_label_loss: 0.6927, \n"
     ]
    },
    {
     "name": "stdout",
     "output_type": "stream",
     "text": [
      "epoch: 2, [batch: 2688 / 6720], examples_per_second: 3942.0613, train_label_loss: 0.9734, \n"
     ]
    },
    {
     "name": "stdout",
     "output_type": "stream",
     "text": [
      "epoch: 2, [batch: 3360 / 6720], examples_per_second: 3909.4529, train_label_loss: 0.9062, \n"
     ]
    },
    {
     "name": "stdout",
     "output_type": "stream",
     "text": [
      "epoch: 2, [batch: 4032 / 6720], examples_per_second: 3794.7307, train_label_loss: 0.6720, \n"
     ]
    },
    {
     "name": "stdout",
     "output_type": "stream",
     "text": [
      "epoch: 2, [batch: 4704 / 6720], examples_per_second: 3760.2181, train_label_loss: 0.5564, \n"
     ]
    },
    {
     "name": "stdout",
     "output_type": "stream",
     "text": [
      "epoch: 2, [batch: 5376 / 6720], examples_per_second: 3803.0714, train_label_loss: 1.4105, \n"
     ]
    },
    {
     "name": "stdout",
     "output_type": "stream",
     "text": [
      "epoch: 2, [batch: 6048 / 6720], examples_per_second: 3836.2174, train_label_loss: 0.8027, \n"
     ]
    },
    {
     "name": "stdout",
     "output_type": "stream",
     "text": [
      "=============================================================\n",
      "epoch: 2, source_val_acc_label: 0.5923, target_val_acc_label: 0.6480, source_val_label_loss: 1.0640, target_val_label_loss: 6.9288, \n",
      "=============================================================\n"
     ]
    },
    {
     "name": "stdout",
     "output_type": "stream",
     "text": [
      "New best\n"
     ]
    },
    {
     "name": "stdout",
     "output_type": "stream",
     "text": [
      "epoch: 3, [batch: 1 / 6720], examples_per_second: 4.2403, train_label_loss: 1.3877, \n"
     ]
    },
    {
     "name": "stdout",
     "output_type": "stream",
     "text": [
      "epoch: 3, [batch: 672 / 6720], examples_per_second: 4335.5633, train_label_loss: 1.1125, \n"
     ]
    },
    {
     "name": "stdout",
     "output_type": "stream",
     "text": [
      "epoch: 3, [batch: 1344 / 6720], examples_per_second: 4464.8247, train_label_loss: 0.6232, \n"
     ]
    },
    {
     "name": "stdout",
     "output_type": "stream",
     "text": [
      "epoch: 3, [batch: 2016 / 6720], examples_per_second: 5013.3490, train_label_loss: 0.8956, \n"
     ]
    },
    {
     "name": "stdout",
     "output_type": "stream",
     "text": [
      "epoch: 3, [batch: 2688 / 6720], examples_per_second: 4986.4719, train_label_loss: 0.9386, \n"
     ]
    },
    {
     "name": "stdout",
     "output_type": "stream",
     "text": [
      "epoch: 3, [batch: 3360 / 6720], examples_per_second: 3774.7609, train_label_loss: 0.5969, \n"
     ]
    },
    {
     "name": "stdout",
     "output_type": "stream",
     "text": [
      "epoch: 3, [batch: 4032 / 6720], examples_per_second: 3841.9230, train_label_loss: 0.4855, \n"
     ]
    },
    {
     "name": "stdout",
     "output_type": "stream",
     "text": [
      "epoch: 3, [batch: 4704 / 6720], examples_per_second: 3890.0089, train_label_loss: 0.8634, \n"
     ]
    },
    {
     "name": "stdout",
     "output_type": "stream",
     "text": [
      "epoch: 3, [batch: 5376 / 6720], examples_per_second: 3928.2877, train_label_loss: 0.7299, \n"
     ]
    },
    {
     "name": "stdout",
     "output_type": "stream",
     "text": [
      "epoch: 3, [batch: 6048 / 6720], examples_per_second: 3820.7677, train_label_loss: 0.7467, \n"
     ]
    },
    {
     "name": "stdout",
     "output_type": "stream",
     "text": [
      "=============================================================\n",
      "epoch: 3, source_val_acc_label: 0.6070, target_val_acc_label: 0.6661, source_val_label_loss: 1.0424, target_val_label_loss: 8.6082, \n",
      "=============================================================\n"
     ]
    },
    {
     "name": "stdout",
     "output_type": "stream",
     "text": [
      "New best\n"
     ]
    },
    {
     "name": "stdout",
     "output_type": "stream",
     "text": [
      "epoch: 4, [batch: 1 / 6720], examples_per_second: 3.8898, train_label_loss: 0.4378, \n"
     ]
    },
    {
     "name": "stdout",
     "output_type": "stream",
     "text": [
      "epoch: 4, [batch: 672 / 6720], examples_per_second: 3820.1637, train_label_loss: 0.6578, \n"
     ]
    },
    {
     "name": "stdout",
     "output_type": "stream",
     "text": [
      "epoch: 4, [batch: 1344 / 6720], examples_per_second: 3875.4336, train_label_loss: 0.6394, \n"
     ]
    },
    {
     "name": "stdout",
     "output_type": "stream",
     "text": [
      "epoch: 4, [batch: 2016 / 6720], examples_per_second: 3862.4722, train_label_loss: 0.3595, \n"
     ]
    },
    {
     "name": "stdout",
     "output_type": "stream",
     "text": [
      "epoch: 4, [batch: 2688 / 6720], examples_per_second: 3907.1168, train_label_loss: 0.3982, \n"
     ]
    },
    {
     "name": "stdout",
     "output_type": "stream",
     "text": [
      "epoch: 4, [batch: 3360 / 6720], examples_per_second: 3893.0002, train_label_loss: 0.9782, \n"
     ]
    },
    {
     "name": "stdout",
     "output_type": "stream",
     "text": [
      "epoch: 4, [batch: 4032 / 6720], examples_per_second: 4035.5956, train_label_loss: 1.0301, \n"
     ]
    },
    {
     "name": "stdout",
     "output_type": "stream",
     "text": [
      "epoch: 4, [batch: 4704 / 6720], examples_per_second: 3949.9370, train_label_loss: 0.4549, \n"
     ]
    },
    {
     "name": "stdout",
     "output_type": "stream",
     "text": [
      "epoch: 4, [batch: 5376 / 6720], examples_per_second: 3935.5955, train_label_loss: 0.7406, \n"
     ]
    },
    {
     "name": "stdout",
     "output_type": "stream",
     "text": [
      "epoch: 4, [batch: 6048 / 6720], examples_per_second: 3929.7537, train_label_loss: 0.3665, \n"
     ]
    },
    {
     "name": "stdout",
     "output_type": "stream",
     "text": [
      "=============================================================\n",
      "epoch: 4, source_val_acc_label: 0.6168, target_val_acc_label: 0.6702, source_val_label_loss: 1.0703, target_val_label_loss: 9.9740, \n",
      "=============================================================\n"
     ]
    },
    {
     "name": "stdout",
     "output_type": "stream",
     "text": [
      "New best\n"
     ]
    },
    {
     "name": "stdout",
     "output_type": "stream",
     "text": [
      "epoch: 5, [batch: 1 / 6720], examples_per_second: 3.9693, train_label_loss: 0.6705, \n"
     ]
    },
    {
     "name": "stdout",
     "output_type": "stream",
     "text": [
      "epoch: 5, [batch: 672 / 6720], examples_per_second: 3845.2446, train_label_loss: 0.4751, \n"
     ]
    },
    {
     "name": "stdout",
     "output_type": "stream",
     "text": [
      "epoch: 5, [batch: 1344 / 6720], examples_per_second: 3871.2223, train_label_loss: 0.7476, \n"
     ]
    },
    {
     "name": "stdout",
     "output_type": "stream",
     "text": [
      "epoch: 5, [batch: 2016 / 6720], examples_per_second: 3856.9426, train_label_loss: 0.8577, \n"
     ]
    },
    {
     "name": "stdout",
     "output_type": "stream",
     "text": [
      "epoch: 5, [batch: 2688 / 6720], examples_per_second: 3974.2946, train_label_loss: 0.6392, \n"
     ]
    },
    {
     "name": "stdout",
     "output_type": "stream",
     "text": [
      "epoch: 5, [batch: 3360 / 6720], examples_per_second: 4055.6004, train_label_loss: 1.0750, \n"
     ]
    },
    {
     "name": "stdout",
     "output_type": "stream",
     "text": [
      "epoch: 5, [batch: 4032 / 6720], examples_per_second: 4008.6133, train_label_loss: 0.4203, \n"
     ]
    },
    {
     "name": "stdout",
     "output_type": "stream",
     "text": [
      "epoch: 5, [batch: 4704 / 6720], examples_per_second: 4036.5633, train_label_loss: 0.3867, \n"
     ]
    },
    {
     "name": "stdout",
     "output_type": "stream",
     "text": [
      "epoch: 5, [batch: 5376 / 6720], examples_per_second: 4029.8843, train_label_loss: 0.5828, \n"
     ]
    },
    {
     "name": "stdout",
     "output_type": "stream",
     "text": [
      "epoch: 5, [batch: 6048 / 6720], examples_per_second: 4066.4366, train_label_loss: 0.3539, \n"
     ]
    },
    {
     "name": "stdout",
     "output_type": "stream",
     "text": [
      "=============================================================\n",
      "epoch: 5, source_val_acc_label: 0.6064, target_val_acc_label: 0.6747, source_val_label_loss: 1.0982, target_val_label_loss: 10.6497, \n",
      "=============================================================\n"
     ]
    },
    {
     "name": "stdout",
     "output_type": "stream",
     "text": [
      "New best\n"
     ]
    },
    {
     "name": "stdout",
     "output_type": "stream",
     "text": [
      "epoch: 6, [batch: 1 / 6720], examples_per_second: 3.8987, train_label_loss: 0.7691, \n"
     ]
    },
    {
     "name": "stdout",
     "output_type": "stream",
     "text": [
      "epoch: 6, [batch: 672 / 6720], examples_per_second: 4034.3136, train_label_loss: 0.3892, \n"
     ]
    },
    {
     "name": "stdout",
     "output_type": "stream",
     "text": [
      "epoch: 6, [batch: 1344 / 6720], examples_per_second: 4031.7988, train_label_loss: 0.7518, \n"
     ]
    },
    {
     "name": "stdout",
     "output_type": "stream",
     "text": [
      "epoch: 6, [batch: 2016 / 6720], examples_per_second: 4042.1030, train_label_loss: 0.5274, \n"
     ]
    },
    {
     "name": "stdout",
     "output_type": "stream",
     "text": [
      "epoch: 6, [batch: 2688 / 6720], examples_per_second: 3978.6326, train_label_loss: 0.5975, \n"
     ]
    },
    {
     "name": "stdout",
     "output_type": "stream",
     "text": [
      "epoch: 6, [batch: 3360 / 6720], examples_per_second: 3989.5020, train_label_loss: 0.6357, \n"
     ]
    },
    {
     "name": "stdout",
     "output_type": "stream",
     "text": [
      "epoch: 6, [batch: 4032 / 6720], examples_per_second: 4019.2551, train_label_loss: 0.5889, \n"
     ]
    },
    {
     "name": "stdout",
     "output_type": "stream",
     "text": [
      "epoch: 6, [batch: 4704 / 6720], examples_per_second: 3858.6104, train_label_loss: 0.6133, \n"
     ]
    },
    {
     "name": "stdout",
     "output_type": "stream",
     "text": [
      "epoch: 6, [batch: 5376 / 6720], examples_per_second: 3802.0986, train_label_loss: 0.3856, \n"
     ]
    },
    {
     "name": "stdout",
     "output_type": "stream",
     "text": [
      "epoch: 6, [batch: 6048 / 6720], examples_per_second: 3807.3882, train_label_loss: 0.6744, \n"
     ]
    },
    {
     "name": "stdout",
     "output_type": "stream",
     "text": [
      "=============================================================\n",
      "epoch: 6, source_val_acc_label: 0.6062, target_val_acc_label: 0.6758, source_val_label_loss: 1.1734, target_val_label_loss: 11.8761, \n",
      "=============================================================\n"
     ]
    },
    {
     "name": "stdout",
     "output_type": "stream",
     "text": [
      "New best\n"
     ]
    },
    {
     "name": "stdout",
     "output_type": "stream",
     "text": [
      "epoch: 7, [batch: 1 / 6720], examples_per_second: 3.8923, train_label_loss: 0.2561, \n"
     ]
    },
    {
     "name": "stdout",
     "output_type": "stream",
     "text": [
      "epoch: 7, [batch: 672 / 6720], examples_per_second: 3857.4048, train_label_loss: 0.3561, \n"
     ]
    },
    {
     "name": "stdout",
     "output_type": "stream",
     "text": [
      "epoch: 7, [batch: 1344 / 6720], examples_per_second: 3843.7407, train_label_loss: 0.4569, \n"
     ]
    },
    {
     "name": "stdout",
     "output_type": "stream",
     "text": [
      "epoch: 7, [batch: 2016 / 6720], examples_per_second: 3948.4888, train_label_loss: 0.2091, \n"
     ]
    },
    {
     "name": "stdout",
     "output_type": "stream",
     "text": [
      "epoch: 7, [batch: 2688 / 6720], examples_per_second: 4025.2710, train_label_loss: 0.4902, \n"
     ]
    },
    {
     "name": "stdout",
     "output_type": "stream",
     "text": [
      "epoch: 7, [batch: 3360 / 6720], examples_per_second: 4155.4109, train_label_loss: 0.2276, \n"
     ]
    },
    {
     "name": "stdout",
     "output_type": "stream",
     "text": [
      "epoch: 7, [batch: 4032 / 6720], examples_per_second: 4370.8490, train_label_loss: 0.2267, \n"
     ]
    },
    {
     "name": "stdout",
     "output_type": "stream",
     "text": [
      "epoch: 7, [batch: 4704 / 6720], examples_per_second: 4352.8855, train_label_loss: 0.5037, \n"
     ]
    },
    {
     "name": "stdout",
     "output_type": "stream",
     "text": [
      "epoch: 7, [batch: 5376 / 6720], examples_per_second: 4307.7173, train_label_loss: 0.7813, \n"
     ]
    },
    {
     "name": "stdout",
     "output_type": "stream",
     "text": [
      "epoch: 7, [batch: 6048 / 6720], examples_per_second: 4250.2725, train_label_loss: 0.4391, \n"
     ]
    },
    {
     "name": "stdout",
     "output_type": "stream",
     "text": [
      "=============================================================\n",
      "epoch: 7, source_val_acc_label: 0.5995, target_val_acc_label: 0.6750, source_val_label_loss: 1.2296, target_val_label_loss: 12.7462, \n",
      "=============================================================\n"
     ]
    },
    {
     "name": "stdout",
     "output_type": "stream",
     "text": [
      "epoch: 8, [batch: 1 / 6720], examples_per_second: 5.0070, train_label_loss: 0.5509, \n"
     ]
    },
    {
     "name": "stdout",
     "output_type": "stream",
     "text": [
      "epoch: 8, [batch: 672 / 6720], examples_per_second: 4055.2245, train_label_loss: 0.3070, \n"
     ]
    },
    {
     "name": "stdout",
     "output_type": "stream",
     "text": [
      "epoch: 8, [batch: 1344 / 6720], examples_per_second: 3851.1087, train_label_loss: 0.1937, \n"
     ]
    },
    {
     "name": "stdout",
     "output_type": "stream",
     "text": [
      "epoch: 8, [batch: 2016 / 6720], examples_per_second: 3907.2318, train_label_loss: 0.3520, \n"
     ]
    },
    {
     "name": "stdout",
     "output_type": "stream",
     "text": [
      "epoch: 8, [batch: 2688 / 6720], examples_per_second: 3930.5631, train_label_loss: 0.4406, \n"
     ]
    },
    {
     "name": "stdout",
     "output_type": "stream",
     "text": [
      "epoch: 8, [batch: 3360 / 6720], examples_per_second: 3900.0754, train_label_loss: 0.7842, \n"
     ]
    },
    {
     "name": "stdout",
     "output_type": "stream",
     "text": [
      "epoch: 8, [batch: 4032 / 6720], examples_per_second: 3949.1046, train_label_loss: 0.1717, \n"
     ]
    },
    {
     "name": "stdout",
     "output_type": "stream",
     "text": [
      "epoch: 8, [batch: 4704 / 6720], examples_per_second: 3879.0824, train_label_loss: 0.1566, \n"
     ]
    },
    {
     "name": "stdout",
     "output_type": "stream",
     "text": [
      "epoch: 8, [batch: 5376 / 6720], examples_per_second: 3909.3949, train_label_loss: 0.1939, \n"
     ]
    },
    {
     "name": "stdout",
     "output_type": "stream",
     "text": [
      "epoch: 8, [batch: 6048 / 6720], examples_per_second: 3825.9435, train_label_loss: 0.8170, \n"
     ]
    },
    {
     "name": "stdout",
     "output_type": "stream",
     "text": [
      "=============================================================\n",
      "epoch: 8, source_val_acc_label: 0.6031, target_val_acc_label: 0.6767, source_val_label_loss: 1.3148, target_val_label_loss: 14.4523, \n",
      "=============================================================\n"
     ]
    },
    {
     "name": "stdout",
     "output_type": "stream",
     "text": [
      "New best\n"
     ]
    },
    {
     "name": "stdout",
     "output_type": "stream",
     "text": [
      "epoch: 9, [batch: 1 / 6720], examples_per_second: 3.8719, train_label_loss: 0.4913, \n"
     ]
    },
    {
     "name": "stdout",
     "output_type": "stream",
     "text": [
      "epoch: 9, [batch: 672 / 6720], examples_per_second: 3887.1402, train_label_loss: 0.5388, \n"
     ]
    },
    {
     "name": "stdout",
     "output_type": "stream",
     "text": [
      "epoch: 9, [batch: 1344 / 6720], examples_per_second: 3938.2119, train_label_loss: 0.2940, \n"
     ]
    },
    {
     "name": "stdout",
     "output_type": "stream",
     "text": [
      "epoch: 9, [batch: 2016 / 6720], examples_per_second: 3960.6313, train_label_loss: 0.4045, \n"
     ]
    },
    {
     "name": "stdout",
     "output_type": "stream",
     "text": [
      "epoch: 9, [batch: 2688 / 6720], examples_per_second: 3850.4578, train_label_loss: 0.3041, \n"
     ]
    },
    {
     "name": "stdout",
     "output_type": "stream",
     "text": [
      "epoch: 9, [batch: 3360 / 6720], examples_per_second: 3965.5825, train_label_loss: 0.2012, \n"
     ]
    },
    {
     "name": "stdout",
     "output_type": "stream",
     "text": [
      "epoch: 9, [batch: 4032 / 6720], examples_per_second: 3927.9377, train_label_loss: 0.3379, \n"
     ]
    },
    {
     "name": "stdout",
     "output_type": "stream",
     "text": [
      "epoch: 9, [batch: 4704 / 6720], examples_per_second: 3930.3428, train_label_loss: 0.3806, \n"
     ]
    },
    {
     "name": "stdout",
     "output_type": "stream",
     "text": [
      "epoch: 9, [batch: 5376 / 6720], examples_per_second: 4060.9041, train_label_loss: 0.0782, \n"
     ]
    },
    {
     "name": "stdout",
     "output_type": "stream",
     "text": [
      "epoch: 9, [batch: 6048 / 6720], examples_per_second: 3976.6658, train_label_loss: 0.3480, \n"
     ]
    },
    {
     "name": "stdout",
     "output_type": "stream",
     "text": [
      "=============================================================\n",
      "epoch: 9, source_val_acc_label: 0.6021, target_val_acc_label: 0.6741, source_val_label_loss: 1.3932, target_val_label_loss: 15.8305, \n",
      "=============================================================\n"
     ]
    },
    {
     "name": "stdout",
     "output_type": "stream",
     "text": [
      "epoch: 10, [batch: 1 / 6720], examples_per_second: 3.9124, train_label_loss: 0.5100, \n"
     ]
    },
    {
     "name": "stdout",
     "output_type": "stream",
     "text": [
      "epoch: 10, [batch: 672 / 6720], examples_per_second: 3860.3934, train_label_loss: 0.9104, \n"
     ]
    },
    {
     "name": "stdout",
     "output_type": "stream",
     "text": [
      "epoch: 10, [batch: 1344 / 6720], examples_per_second: 3879.6949, train_label_loss: 0.4360, \n"
     ]
    },
    {
     "name": "stdout",
     "output_type": "stream",
     "text": [
      "epoch: 10, [batch: 2016 / 6720], examples_per_second: 3916.3028, train_label_loss: 0.1239, \n"
     ]
    },
    {
     "name": "stdout",
     "output_type": "stream",
     "text": [
      "epoch: 10, [batch: 2688 / 6720], examples_per_second: 4003.0599, train_label_loss: 0.2794, \n"
     ]
    },
    {
     "name": "stdout",
     "output_type": "stream",
     "text": [
      "epoch: 10, [batch: 3360 / 6720], examples_per_second: 3884.2741, train_label_loss: 0.4524, \n"
     ]
    },
    {
     "name": "stdout",
     "output_type": "stream",
     "text": [
      "epoch: 10, [batch: 4032 / 6720], examples_per_second: 3885.2057, train_label_loss: 0.1481, \n"
     ]
    },
    {
     "name": "stdout",
     "output_type": "stream",
     "text": [
      "epoch: 10, [batch: 4704 / 6720], examples_per_second: 3782.5396, train_label_loss: 0.1063, \n"
     ]
    },
    {
     "name": "stdout",
     "output_type": "stream",
     "text": [
      "epoch: 10, [batch: 5376 / 6720], examples_per_second: 3935.6193, train_label_loss: 0.4648, \n"
     ]
    },
    {
     "name": "stdout",
     "output_type": "stream",
     "text": [
      "epoch: 10, [batch: 6048 / 6720], examples_per_second: 3967.1678, train_label_loss: 0.2121, \n"
     ]
    },
    {
     "name": "stdout",
     "output_type": "stream",
     "text": [
      "=============================================================\n",
      "epoch: 10, source_val_acc_label: 0.5962, target_val_acc_label: 0.6860, source_val_label_loss: 1.5035, target_val_label_loss: 16.4085, \n",
      "=============================================================\n"
     ]
    },
    {
     "name": "stdout",
     "output_type": "stream",
     "text": [
      "New best\n"
     ]
    },
    {
     "name": "stdout",
     "output_type": "stream",
     "text": [
      "epoch: 11, [batch: 1 / 6720], examples_per_second: 3.8599, train_label_loss: 0.0959, \n"
     ]
    },
    {
     "name": "stdout",
     "output_type": "stream",
     "text": [
      "epoch: 11, [batch: 672 / 6720], examples_per_second: 3812.1897, train_label_loss: 0.4319, \n"
     ]
    },
    {
     "name": "stdout",
     "output_type": "stream",
     "text": [
      "epoch: 11, [batch: 1344 / 6720], examples_per_second: 3811.4653, train_label_loss: 0.4714, \n"
     ]
    },
    {
     "name": "stdout",
     "output_type": "stream",
     "text": [
      "epoch: 11, [batch: 2016 / 6720], examples_per_second: 3843.4581, train_label_loss: 0.3034, \n"
     ]
    },
    {
     "name": "stdout",
     "output_type": "stream",
     "text": [
      "epoch: 11, [batch: 2688 / 6720], examples_per_second: 3801.2165, train_label_loss: 0.0618, \n"
     ]
    },
    {
     "name": "stdout",
     "output_type": "stream",
     "text": [
      "epoch: 11, [batch: 3360 / 6720], examples_per_second: 3813.9198, train_label_loss: 0.3854, \n"
     ]
    },
    {
     "name": "stdout",
     "output_type": "stream",
     "text": [
      "epoch: 11, [batch: 4032 / 6720], examples_per_second: 3922.3401, train_label_loss: 0.0995, \n"
     ]
    },
    {
     "name": "stdout",
     "output_type": "stream",
     "text": [
      "epoch: 11, [batch: 4704 / 6720], examples_per_second: 3952.1765, train_label_loss: 0.2332, \n"
     ]
    },
    {
     "name": "stdout",
     "output_type": "stream",
     "text": [
      "epoch: 11, [batch: 5376 / 6720], examples_per_second: 3934.7740, train_label_loss: 0.2732, \n"
     ]
    },
    {
     "name": "stdout",
     "output_type": "stream",
     "text": [
      "epoch: 11, [batch: 6048 / 6720], examples_per_second: 3901.5635, train_label_loss: 0.3053, \n"
     ]
    },
    {
     "name": "stdout",
     "output_type": "stream",
     "text": [
      "=============================================================\n",
      "epoch: 11, source_val_acc_label: 0.6013, target_val_acc_label: 0.6869, source_val_label_loss: 1.5983, target_val_label_loss: 18.0684, \n",
      "=============================================================\n"
     ]
    },
    {
     "name": "stdout",
     "output_type": "stream",
     "text": [
      "New best\n"
     ]
    },
    {
     "name": "stdout",
     "output_type": "stream",
     "text": [
      "epoch: 12, [batch: 1 / 6720], examples_per_second: 3.8917, train_label_loss: 0.1847, \n"
     ]
    },
    {
     "name": "stdout",
     "output_type": "stream",
     "text": [
      "epoch: 12, [batch: 672 / 6720], examples_per_second: 3917.4843, train_label_loss: 0.0646, \n"
     ]
    },
    {
     "name": "stdout",
     "output_type": "stream",
     "text": [
      "epoch: 12, [batch: 1344 / 6720], examples_per_second: 4265.5332, train_label_loss: 0.1266, \n"
     ]
    },
    {
     "name": "stdout",
     "output_type": "stream",
     "text": [
      "epoch: 12, [batch: 2016 / 6720], examples_per_second: 4322.1264, train_label_loss: 0.2719, \n"
     ]
    },
    {
     "name": "stdout",
     "output_type": "stream",
     "text": [
      "epoch: 12, [batch: 2688 / 6720], examples_per_second: 4287.6833, train_label_loss: 0.0240, \n"
     ]
    },
    {
     "name": "stdout",
     "output_type": "stream",
     "text": [
      "epoch: 12, [batch: 3360 / 6720], examples_per_second: 4589.9435, train_label_loss: 0.4268, \n"
     ]
    },
    {
     "name": "stdout",
     "output_type": "stream",
     "text": [
      "epoch: 12, [batch: 4032 / 6720], examples_per_second: 4666.6701, train_label_loss: 0.2751, \n"
     ]
    },
    {
     "name": "stdout",
     "output_type": "stream",
     "text": [
      "epoch: 12, [batch: 4704 / 6720], examples_per_second: 5134.4456, train_label_loss: 0.3688, \n"
     ]
    },
    {
     "name": "stdout",
     "output_type": "stream",
     "text": [
      "epoch: 12, [batch: 5376 / 6720], examples_per_second: 5302.0496, train_label_loss: 0.2304, \n"
     ]
    },
    {
     "name": "stdout",
     "output_type": "stream",
     "text": [
      "epoch: 12, [batch: 6048 / 6720], examples_per_second: 4232.6900, train_label_loss: 0.0930, \n"
     ]
    },
    {
     "name": "stdout",
     "output_type": "stream",
     "text": [
      "=============================================================\n",
      "epoch: 12, source_val_acc_label: 0.5936, target_val_acc_label: 0.6746, source_val_label_loss: 1.6767, target_val_label_loss: 19.0099, \n",
      "=============================================================\n"
     ]
    },
    {
     "name": "stdout",
     "output_type": "stream",
     "text": [
      "epoch: 13, [batch: 1 / 6720], examples_per_second: 3.9388, train_label_loss: 0.2468, \n"
     ]
    },
    {
     "name": "stdout",
     "output_type": "stream",
     "text": [
      "epoch: 13, [batch: 672 / 6720], examples_per_second: 3856.3047, train_label_loss: 0.2332, \n"
     ]
    },
    {
     "name": "stdout",
     "output_type": "stream",
     "text": [
      "epoch: 13, [batch: 1344 / 6720], examples_per_second: 3819.1308, train_label_loss: 0.0460, \n"
     ]
    },
    {
     "name": "stdout",
     "output_type": "stream",
     "text": [
      "epoch: 13, [batch: 2016 / 6720], examples_per_second: 3830.4171, train_label_loss: 0.1043, \n"
     ]
    },
    {
     "name": "stdout",
     "output_type": "stream",
     "text": [
      "epoch: 13, [batch: 2688 / 6720], examples_per_second: 3804.8989, train_label_loss: 0.1254, \n"
     ]
    },
    {
     "name": "stdout",
     "output_type": "stream",
     "text": [
      "epoch: 13, [batch: 3360 / 6720], examples_per_second: 3901.4614, train_label_loss: 0.1048, \n"
     ]
    },
    {
     "name": "stdout",
     "output_type": "stream",
     "text": [
      "epoch: 13, [batch: 4032 / 6720], examples_per_second: 3955.2349, train_label_loss: 0.1160, \n"
     ]
    },
    {
     "name": "stdout",
     "output_type": "stream",
     "text": [
      "epoch: 13, [batch: 4704 / 6720], examples_per_second: 3951.9581, train_label_loss: 0.1496, \n"
     ]
    },
    {
     "name": "stdout",
     "output_type": "stream",
     "text": [
      "epoch: 13, [batch: 5376 / 6720], examples_per_second: 3992.5950, train_label_loss: 0.2740, \n"
     ]
    },
    {
     "name": "stdout",
     "output_type": "stream",
     "text": [
      "epoch: 13, [batch: 6048 / 6720], examples_per_second: 4026.4432, train_label_loss: 0.7400, \n"
     ]
    },
    {
     "name": "stdout",
     "output_type": "stream",
     "text": [
      "=============================================================\n",
      "epoch: 13, source_val_acc_label: 0.6011, target_val_acc_label: 0.6895, source_val_label_loss: 1.7203, target_val_label_loss: 19.8408, \n",
      "=============================================================\n"
     ]
    },
    {
     "name": "stdout",
     "output_type": "stream",
     "text": [
      "New best\n"
     ]
    },
    {
     "name": "stdout",
     "output_type": "stream",
     "text": [
      "epoch: 14, [batch: 1 / 6720], examples_per_second: 3.8738, train_label_loss: 0.2229, \n"
     ]
    },
    {
     "name": "stdout",
     "output_type": "stream",
     "text": [
      "epoch: 14, [batch: 672 / 6720], examples_per_second: 3890.4616, train_label_loss: 0.2094, \n"
     ]
    },
    {
     "name": "stdout",
     "output_type": "stream",
     "text": [
      "epoch: 14, [batch: 1344 / 6720], examples_per_second: 3910.9404, train_label_loss: 0.4979, \n"
     ]
    },
    {
     "name": "stdout",
     "output_type": "stream",
     "text": [
      "epoch: 14, [batch: 2016 / 6720], examples_per_second: 3927.0288, train_label_loss: 0.2477, \n"
     ]
    },
    {
     "name": "stdout",
     "output_type": "stream",
     "text": [
      "epoch: 14, [batch: 2688 / 6720], examples_per_second: 3927.1769, train_label_loss: 0.3661, \n"
     ]
    },
    {
     "name": "stdout",
     "output_type": "stream",
     "text": [
      "epoch: 14, [batch: 3360 / 6720], examples_per_second: 3909.4600, train_label_loss: 0.1417, \n"
     ]
    },
    {
     "name": "stdout",
     "output_type": "stream",
     "text": [
      "epoch: 14, [batch: 4032 / 6720], examples_per_second: 3862.9845, train_label_loss: 0.0080, \n"
     ]
    },
    {
     "name": "stdout",
     "output_type": "stream",
     "text": [
      "epoch: 14, [batch: 4704 / 6720], examples_per_second: 3748.6948, train_label_loss: 0.3078, \n"
     ]
    },
    {
     "name": "stdout",
     "output_type": "stream",
     "text": [
      "epoch: 14, [batch: 5376 / 6720], examples_per_second: 3789.2873, train_label_loss: 0.0140, \n"
     ]
    },
    {
     "name": "stdout",
     "output_type": "stream",
     "text": [
      "epoch: 14, [batch: 6048 / 6720], examples_per_second: 3832.0174, train_label_loss: 0.3899, \n"
     ]
    },
    {
     "name": "stdout",
     "output_type": "stream",
     "text": [
      "=============================================================\n",
      "epoch: 14, source_val_acc_label: 0.5997, target_val_acc_label: 0.6881, source_val_label_loss: 1.7814, target_val_label_loss: 20.7288, \n",
      "=============================================================\n"
     ]
    },
    {
     "name": "stdout",
     "output_type": "stream",
     "text": [
      "epoch: 15, [batch: 1 / 6720], examples_per_second: 3.9620, train_label_loss: 0.3995, \n"
     ]
    },
    {
     "name": "stdout",
     "output_type": "stream",
     "text": [
      "epoch: 15, [batch: 672 / 6720], examples_per_second: 3798.6767, train_label_loss: 0.1558, \n"
     ]
    },
    {
     "name": "stdout",
     "output_type": "stream",
     "text": [
      "epoch: 15, [batch: 1344 / 6720], examples_per_second: 3821.5492, train_label_loss: 0.2079, \n"
     ]
    },
    {
     "name": "stdout",
     "output_type": "stream",
     "text": [
      "epoch: 15, [batch: 2016 / 6720], examples_per_second: 3991.4193, train_label_loss: 0.3772, \n"
     ]
    },
    {
     "name": "stdout",
     "output_type": "stream",
     "text": [
      "epoch: 15, [batch: 2688 / 6720], examples_per_second: 3825.6202, train_label_loss: 0.1518, \n"
     ]
    },
    {
     "name": "stdout",
     "output_type": "stream",
     "text": [
      "epoch: 15, [batch: 3360 / 6720], examples_per_second: 3951.3435, train_label_loss: 0.3696, \n"
     ]
    },
    {
     "name": "stdout",
     "output_type": "stream",
     "text": [
      "epoch: 15, [batch: 4032 / 6720], examples_per_second: 3933.3303, train_label_loss: 0.4791, \n"
     ]
    },
    {
     "name": "stdout",
     "output_type": "stream",
     "text": [
      "epoch: 15, [batch: 4704 / 6720], examples_per_second: 3905.8516, train_label_loss: 0.1078, \n"
     ]
    },
    {
     "name": "stdout",
     "output_type": "stream",
     "text": [
      "epoch: 15, [batch: 5376 / 6720], examples_per_second: 3869.0767, train_label_loss: 0.1255, \n"
     ]
    },
    {
     "name": "stdout",
     "output_type": "stream",
     "text": [
      "epoch: 15, [batch: 6048 / 6720], examples_per_second: 3916.1360, train_label_loss: 0.1299, \n"
     ]
    },
    {
     "name": "stdout",
     "output_type": "stream",
     "text": [
      "=============================================================\n",
      "epoch: 15, source_val_acc_label: 0.5982, target_val_acc_label: 0.6890, source_val_label_loss: 1.8577, target_val_label_loss: 21.9240, \n",
      "=============================================================\n"
     ]
    },
    {
     "name": "stdout",
     "output_type": "stream",
     "text": [
      "epoch: 16, [batch: 1 / 6720], examples_per_second: 3.9486, train_label_loss: 0.0419, \n"
     ]
    },
    {
     "name": "stdout",
     "output_type": "stream",
     "text": [
      "epoch: 16, [batch: 672 / 6720], examples_per_second: 3805.8206, train_label_loss: 0.2649, \n"
     ]
    },
    {
     "name": "stdout",
     "output_type": "stream",
     "text": [
      "epoch: 16, [batch: 1344 / 6720], examples_per_second: 3928.2769, train_label_loss: 0.0994, \n"
     ]
    },
    {
     "name": "stdout",
     "output_type": "stream",
     "text": [
      "epoch: 16, [batch: 2016 / 6720], examples_per_second: 3938.3440, train_label_loss: 0.1933, \n"
     ]
    },
    {
     "name": "stdout",
     "output_type": "stream",
     "text": [
      "epoch: 16, [batch: 2688 / 6720], examples_per_second: 3918.7872, train_label_loss: 0.1499, \n"
     ]
    },
    {
     "name": "stdout",
     "output_type": "stream",
     "text": [
      "epoch: 16, [batch: 3360 / 6720], examples_per_second: 3941.7453, train_label_loss: 0.1269, \n"
     ]
    },
    {
     "name": "stdout",
     "output_type": "stream",
     "text": [
      "epoch: 16, [batch: 4032 / 6720], examples_per_second: 4022.6176, train_label_loss: 0.1399, \n"
     ]
    },
    {
     "name": "stdout",
     "output_type": "stream",
     "text": [
      "epoch: 16, [batch: 4704 / 6720], examples_per_second: 4010.1073, train_label_loss: 0.0356, \n"
     ]
    },
    {
     "name": "stdout",
     "output_type": "stream",
     "text": [
      "epoch: 16, [batch: 5376 / 6720], examples_per_second: 4137.9719, train_label_loss: 0.3980, \n"
     ]
    },
    {
     "name": "stdout",
     "output_type": "stream",
     "text": [
      "epoch: 16, [batch: 6048 / 6720], examples_per_second: 3910.0945, train_label_loss: 0.0271, \n"
     ]
    },
    {
     "name": "stdout",
     "output_type": "stream",
     "text": [
      "=============================================================\n",
      "epoch: 16, source_val_acc_label: 0.5991, target_val_acc_label: 0.6880, source_val_label_loss: 1.9088, target_val_label_loss: 22.7721, \n",
      "=============================================================\n"
     ]
    },
    {
     "name": "stdout",
     "output_type": "stream",
     "text": [
      "epoch: 17, [batch: 1 / 6720], examples_per_second: 4.2284, train_label_loss: 0.0262, \n"
     ]
    },
    {
     "name": "stdout",
     "output_type": "stream",
     "text": [
      "epoch: 17, [batch: 672 / 6720], examples_per_second: 4369.4532, train_label_loss: 0.1744, \n"
     ]
    },
    {
     "name": "stdout",
     "output_type": "stream",
     "text": [
      "epoch: 17, [batch: 1344 / 6720], examples_per_second: 4439.7837, train_label_loss: 0.3446, \n"
     ]
    },
    {
     "name": "stdout",
     "output_type": "stream",
     "text": [
      "epoch: 17, [batch: 2016 / 6720], examples_per_second: 5384.1618, train_label_loss: 0.2092, \n"
     ]
    },
    {
     "name": "stdout",
     "output_type": "stream",
     "text": [
      "epoch: 17, [batch: 2688 / 6720], examples_per_second: 5409.4304, train_label_loss: 0.0171, \n"
     ]
    },
    {
     "name": "stdout",
     "output_type": "stream",
     "text": [
      "epoch: 17, [batch: 3360 / 6720], examples_per_second: 4810.7947, train_label_loss: 0.0562, \n"
     ]
    },
    {
     "name": "stdout",
     "output_type": "stream",
     "text": [
      "epoch: 17, [batch: 4032 / 6720], examples_per_second: 3976.7007, train_label_loss: 0.4563, \n"
     ]
    },
    {
     "name": "stdout",
     "output_type": "stream",
     "text": [
      "epoch: 17, [batch: 4704 / 6720], examples_per_second: 3774.1090, train_label_loss: 0.0799, \n"
     ]
    },
    {
     "name": "stdout",
     "output_type": "stream",
     "text": [
      "epoch: 17, [batch: 5376 / 6720], examples_per_second: 3803.5170, train_label_loss: 0.2127, \n"
     ]
    },
    {
     "name": "stdout",
     "output_type": "stream",
     "text": [
      "epoch: 17, [batch: 6048 / 6720], examples_per_second: 3840.0663, train_label_loss: 0.0239, \n"
     ]
    },
    {
     "name": "stdout",
     "output_type": "stream",
     "text": [
      "=============================================================\n",
      "epoch: 17, source_val_acc_label: 0.5953, target_val_acc_label: 0.6876, source_val_label_loss: 1.9752, target_val_label_loss: 23.2289, \n",
      "=============================================================\n"
     ]
    },
    {
     "name": "stdout",
     "output_type": "stream",
     "text": [
      "Patience (3) exhausted\n"
     ]
    }
   ],
   "source": [
    "###################################\n",
    "# train\n",
    "###################################\n",
    "jig = PTN_Train_Eval_Test_Jig(model, p.BEST_MODEL_PATH, p.device)\n",
    "\n",
    "jig.train(\n",
    "    train_iterable=datasets.source.processed.train,\n",
    "    source_val_iterable=datasets.source.processed.val,\n",
    "    target_val_iterable=datasets.target.processed.val,\n",
    "    num_epochs=p.n_epoch,\n",
    "    num_logs_per_epoch=p.NUM_LOGS_PER_EPOCH,\n",
    "    patience=p.patience,\n",
    "    optimizer=optimizer,\n",
    "    criteria_for_best=p.criteria_for_best,\n",
    ")"
   ]
  },
  {
   "cell_type": "code",
   "execution_count": 23,
   "id": "31e8fabf",
   "metadata": {
    "execution": {
     "iopub.execute_input": "2022-03-23T01:01:03.979222Z",
     "iopub.status.busy": "2022-03-23T01:01:03.978858Z",
     "iopub.status.idle": "2022-03-23T01:01:04.011497Z",
     "shell.execute_reply": "2022-03-23T01:01:04.010771Z"
    },
    "papermill": {
     "duration": 0.108922,
     "end_time": "2022-03-23T01:01:04.011677",
     "exception": false,
     "start_time": "2022-03-23T01:01:03.902755",
     "status": "completed"
    },
    "tags": []
   },
   "outputs": [],
   "source": [
    "total_experiment_time_secs = time.time() - start_time_secs"
   ]
  },
  {
   "cell_type": "code",
   "execution_count": 24,
   "id": "87b9595b",
   "metadata": {
    "execution": {
     "iopub.execute_input": "2022-03-23T01:01:04.171227Z",
     "iopub.status.busy": "2022-03-23T01:01:04.170428Z",
     "iopub.status.idle": "2022-03-23T01:03:56.148492Z",
     "shell.execute_reply": "2022-03-23T01:03:56.147755Z"
    },
    "papermill": {
     "duration": 172.056095,
     "end_time": "2022-03-23T01:03:56.148678",
     "exception": false,
     "start_time": "2022-03-23T01:01:04.092583",
     "status": "completed"
    },
    "tags": []
   },
   "outputs": [],
   "source": [
    "###################################\n",
    "# Evaluate the model\n",
    "###################################\n",
    "source_test_label_accuracy, source_test_label_loss = jig.test(datasets.source.processed.test)\n",
    "target_test_label_accuracy, target_test_label_loss = jig.test(datasets.target.processed.test)\n",
    "\n",
    "source_val_label_accuracy, source_val_label_loss = jig.test(datasets.source.processed.val)\n",
    "target_val_label_accuracy, target_val_label_loss = jig.test(datasets.target.processed.val)\n",
    "\n",
    "history = jig.get_history()\n",
    "\n",
    "total_epochs_trained = len(history[\"epoch_indices\"])\n",
    "\n",
    "val_dl = Iterable_Aggregator((datasets.source.original.val,datasets.target.original.val))\n",
    "\n",
    "confusion = ptn_confusion_by_domain_over_dataloader(model, p.device, val_dl)\n",
    "per_domain_accuracy = per_domain_accuracy_from_confusion(confusion)\n",
    "\n",
    "# Add a key to per_domain_accuracy for if it was a source domain\n",
    "for domain, accuracy in per_domain_accuracy.items():\n",
    "    per_domain_accuracy[domain] = {\n",
    "        \"accuracy\": accuracy,\n",
    "        \"source?\": domain in p.domains_source\n",
    "    }\n",
    "\n",
    "# Do an independent accuracy assesment JUST TO BE SURE!\n",
    "# _source_test_label_accuracy = independent_accuracy_assesment(model, datasets.source.processed.test, p.device)\n",
    "# _target_test_label_accuracy = independent_accuracy_assesment(model, datasets.target.processed.test, p.device)\n",
    "# _source_val_label_accuracy = independent_accuracy_assesment(model, datasets.source.processed.val, p.device)\n",
    "# _target_val_label_accuracy = independent_accuracy_assesment(model, datasets.target.processed.val, p.device)\n",
    "\n",
    "# assert(_source_test_label_accuracy == source_test_label_accuracy)\n",
    "# assert(_target_test_label_accuracy == target_test_label_accuracy)\n",
    "# assert(_source_val_label_accuracy == source_val_label_accuracy)\n",
    "# assert(_target_val_label_accuracy == target_val_label_accuracy)\n",
    "\n",
    "experiment = {\n",
    "    \"experiment_name\": p.experiment_name,\n",
    "    \"parameters\": dict(p),\n",
    "    \"results\": {\n",
    "        \"source_test_label_accuracy\": source_test_label_accuracy,\n",
    "        \"source_test_label_loss\": source_test_label_loss,\n",
    "        \"target_test_label_accuracy\": target_test_label_accuracy,\n",
    "        \"target_test_label_loss\": target_test_label_loss,\n",
    "        \"source_val_label_accuracy\": source_val_label_accuracy,\n",
    "        \"source_val_label_loss\": source_val_label_loss,\n",
    "        \"target_val_label_accuracy\": target_val_label_accuracy,\n",
    "        \"target_val_label_loss\": target_val_label_loss,\n",
    "        \"total_epochs_trained\": total_epochs_trained,\n",
    "        \"total_experiment_time_secs\": total_experiment_time_secs,\n",
    "        \"confusion\": confusion,\n",
    "        \"per_domain_accuracy\": per_domain_accuracy,\n",
    "    },\n",
    "    \"history\": history,\n",
    "    \"dataset_metrics\": get_dataset_metrics(datasets, \"ptn\"),\n",
    "}"
   ]
  },
  {
   "cell_type": "code",
   "execution_count": 25,
   "id": "54a21829",
   "metadata": {
    "execution": {
     "iopub.execute_input": "2022-03-23T01:03:56.306483Z",
     "iopub.status.busy": "2022-03-23T01:03:56.306114Z",
     "iopub.status.idle": "2022-03-23T01:03:56.524306Z",
     "shell.execute_reply": "2022-03-23T01:03:56.524991Z"
    },
    "papermill": {
     "duration": 0.297186,
     "end_time": "2022-03-23T01:03:56.525229",
     "exception": false,
     "start_time": "2022-03-23T01:03:56.228043",
     "status": "completed"
    },
    "tags": []
   },
   "outputs": [
    {
     "data": {
      "image/png": "[encoded data removed]",
      "text/plain": [
       "<Figure size 1080x504 with 1 Axes>"
      ]
     },
     "metadata": {
      "needs_background": "light"
     },
     "output_type": "display_data"
    }
   ],
   "source": [
    "ax = get_loss_curve(experiment)\n",
    "plt.show()"
   ]
  },
  {
   "cell_type": "code",
   "execution_count": 26,
   "id": "fd8a0f60",
   "metadata": {
    "execution": {
     "iopub.execute_input": "2022-03-23T01:03:56.683050Z",
     "iopub.status.busy": "2022-03-23T01:03:56.682683Z",
     "iopub.status.idle": "2022-03-23T01:03:57.025323Z",
     "shell.execute_reply": "2022-03-23T01:03:57.025995Z"
    },
    "papermill": {
     "duration": 0.4222,
     "end_time": "2022-03-23T01:03:57.026224",
     "exception": false,
     "start_time": "2022-03-23T01:03:56.604024",
     "status": "completed"
    },
    "tags": []
   },
   "outputs": [
    {
     "data": {
      "text/plain": [
       "<AxesSubplot:title={'center':'Results'}>"
      ]
     },
     "execution_count": 26,
     "metadata": {},
     "output_type": "execute_result"
    },
    {
     "data": {
      "image/png": "[encoded data removed]",
      "text/plain": [
       "<Figure size 1080x504 with 1 Axes>"
      ]
     },
     "metadata": {
      "needs_background": "light"
     },
     "output_type": "display_data"
    }
   ],
   "source": [
    "get_results_table(experiment)"
   ]
  },
  {
   "cell_type": "code",
   "execution_count": 27,
   "id": "cf8dc689",
   "metadata": {
    "execution": {
     "iopub.execute_input": "2022-03-23T01:03:57.183951Z",
     "iopub.status.busy": "2022-03-23T01:03:57.183573Z",
     "iopub.status.idle": "2022-03-23T01:03:57.436396Z",
     "shell.execute_reply": "2022-03-23T01:03:57.435703Z"
    },
    "papermill": {
     "duration": 0.331952,
     "end_time": "2022-03-23T01:03:57.436573",
     "exception": false,
     "start_time": "2022-03-23T01:03:57.104621",
     "status": "completed"
    },
    "tags": []
   },
   "outputs": [
    {
     "data": {
      "text/plain": [
       "<AxesSubplot:title={'center':'Per Domain Validation Accuracy'}, xlabel='domain'>"
      ]
     },
     "execution_count": 27,
     "metadata": {},
     "output_type": "execute_result"
    },
    {
     "data": {
      "image/png": "[encoded data removed]",
      "text/plain": [
       "<Figure size 1080x504 with 1 Axes>"
      ]
     },
     "metadata": {
      "needs_background": "light"
     },
     "output_type": "display_data"
    }
   ],
   "source": [
    "get_domain_accuracies(experiment)"
   ]
  },
  {
   "cell_type": "code",
   "execution_count": 28,
   "id": "a74ae082",
   "metadata": {
    "execution": {
     "iopub.execute_input": "2022-03-23T01:03:57.603796Z",
     "iopub.status.busy": "2022-03-23T01:03:57.603399Z",
     "iopub.status.idle": "2022-03-23T01:03:57.629945Z",
     "shell.execute_reply": "2022-03-23T01:03:57.629231Z"
    },
    "papermill": {
     "duration": 0.109279,
     "end_time": "2022-03-23T01:03:57.630114",
     "exception": false,
     "start_time": "2022-03-23T01:03:57.520835",
     "status": "completed"
    },
    "tags": []
   },
   "outputs": [
    {
     "name": "stdout",
     "output_type": "stream",
     "text": [
      "Source Test Label Accuracy: 0.6022786458333333 Target Test Label Accuracy: 0.6909505208333333\n",
      "Source Val Label Accuracy: 0.6011067708333333 Target Val Label Accuracy: 0.6894551961823966\n"
     ]
    }
   ],
   "source": [
    "print(\"Source Test Label Accuracy:\", experiment[\"results\"][\"source_test_label_accuracy\"], \"Target Test Label Accuracy:\", experiment[\"results\"][\"target_test_label_accuracy\"])\n",
    "print(\"Source Val Label Accuracy:\", experiment[\"results\"][\"source_val_label_accuracy\"], \"Target Val Label Accuracy:\", experiment[\"results\"][\"target_val_label_accuracy\"])"
   ]
  },
  {
   "cell_type": "code",
   "execution_count": 29,
   "id": "dacca602",
   "metadata": {
    "execution": {
     "iopub.execute_input": "2022-03-23T01:03:57.793769Z",
     "iopub.status.busy": "2022-03-23T01:03:57.793406Z",
     "iopub.status.idle": "2022-03-23T01:03:57.823869Z",
     "shell.execute_reply": "2022-03-23T01:03:57.824579Z"
    },
    "papermill": {
     "duration": 0.112504,
     "end_time": "2022-03-23T01:03:57.824801",
     "exception": false,
     "start_time": "2022-03-23T01:03:57.712297",
     "status": "completed"
    },
    "tags": [
     "experiment_json"
    ]
   },
   "outputs": [
    {
     "data": {
      "text/plain": [
       "'{\"experiment_name\": \"tl_1v2:wisig-oracle.run1.limited\", \"parameters\": {\"experiment_name\": \"tl_1v2:wisig-oracle.run1.limited\", \"device\": \"cuda\", \"lr\": 0.0001, \"n_shot\": 3, \"n_query\": 2, \"train_k_factor\": 3, \"val_k_factor\": 2, \"test_k_factor\": 2, \"torch_default_dtype\": \"torch.float32\", \"n_epoch\": 50, \"patience\": 3, \"criteria_for_best\": \"target_accuracy\", \"x_net\": [{\"class\": \"nnReshape\", \"kargs\": {\"shape\": [-1, 1, 2, 256]}}, {\"class\": \"Conv2d\", \"kargs\": {\"in_channels\": 1, \"out_channels\": 256, \"kernel_size\": [1, 7], \"bias\": false, \"padding\": [0, 3]}}, {\"class\": \"ReLU\", \"kargs\": {\"inplace\": true}}, {\"class\": \"BatchNorm2d\", \"kargs\": {\"num_features\": 256}}, {\"class\": \"Conv2d\", \"kargs\": {\"in_channels\": 256, \"out_channels\": 80, \"kernel_size\": [2, 7], \"bias\": true, \"padding\": [0, 3]}}, {\"class\": \"ReLU\", \"kargs\": {\"inplace\": true}}, {\"class\": \"BatchNorm2d\", \"kargs\": {\"num_features\": 80}}, {\"class\": \"Flatten\", \"kargs\": {}}, {\"class\": \"Linear\", \"kargs\": {\"in_features\": 20480, \"out_features\": 256}}, {\"class\": \"ReLU\", \"kargs\": {\"inplace\": true}}, {\"class\": \"BatchNorm1d\", \"kargs\": {\"num_features\": 256}}, {\"class\": \"Linear\", \"kargs\": {\"in_features\": 256, \"out_features\": 256}}], \"NUM_LOGS_PER_EPOCH\": 10, \"BEST_MODEL_PATH\": \"./best_model.pth\", \"n_way\": 16, \"datasets\": [{\"labels\": [\"1-10\", \"1-12\", \"1-14\", \"1-16\", \"1-18\", \"1-19\", \"1-8\", \"10-11\", \"10-17\", \"10-4\", \"10-7\", \"11-1\", \"11-10\", \"11-19\", \"11-20\", \"11-4\", \"11-7\", \"12-19\", \"12-20\", \"12-7\", \"13-14\", \"13-18\", \"13-19\", \"13-20\", \"13-3\", \"13-7\", \"14-10\", \"14-11\", \"14-12\", \"14-13\", \"14-14\", \"14-19\", \"14-20\", \"14-7\", \"14-8\", \"14-9\", \"15-1\", \"15-19\", \"15-6\", \"16-1\", \"16-16\", \"16-19\", \"16-20\", \"17-10\", \"17-11\", \"18-1\", \"18-10\", \"18-11\", \"18-12\", \"18-13\", \"18-14\", \"18-15\", \"18-16\", \"18-17\", \"18-19\", \"18-2\", \"18-20\", \"18-4\", \"18-5\", \"18-7\", \"18-8\", \"18-9\", \"19-1\", \"19-10\", \"19-11\", \"19-12\", \"19-13\", \"19-14\", \"19-15\", \"19-19\", \"19-2\", \"19-20\", \"19-3\", \"19-4\", \"19-6\", \"19-7\", \"19-8\", \"19-9\", \"2-1\", \"2-13\", \"2-15\", \"2-3\", \"2-4\", \"2-5\", \"2-6\", \"2-7\", \"2-8\", \"20-1\", \"20-12\", \"20-14\", \"20-15\", \"20-16\", \"20-18\", \"20-19\", \"20-20\", \"20-3\", \"20-4\", \"20-5\", \"20-7\", \"20-8\", \"3-1\", \"3-13\", \"3-18\", \"3-2\", \"3-8\", \"4-1\", \"4-10\", \"4-11\", \"5-1\", \"5-5\", \"6-1\", \"6-15\", \"6-6\", \"7-10\", \"7-11\", \"7-12\", \"7-13\", \"7-14\", \"7-7\", \"7-8\", \"7-9\", \"8-1\", \"8-13\", \"8-14\", \"8-18\", \"8-20\", \"8-3\", \"8-8\", \"9-1\", \"9-7\"], \"domains\": [1, 2, 3, 4], \"num_examples_per_domain_per_label\": -1, \"pickle_path\": \"/root/csc500-main/datasets/wisig.node3-19.stratified_ds.2022A.pkl\", \"source_or_target_dataset\": \"target\", \"x_transforms\": [\"unit_power\"], \"episode_transforms\": [], \"domain_prefix\": \"Wisig_\"}, {\"labels\": [\"3123D52\", \"3123D65\", \"3123D79\", \"3123D80\", \"3123D54\", \"3123D70\", \"3123D7B\", \"3123D89\", \"3123D58\", \"3123D76\", \"3123D7D\", \"3123EFE\", \"3123D64\", \"3123D78\", \"3123D7E\", \"3124E4A\"], \"domains\": [32, 38, 8, 44, 14, 50, 20, 26], \"num_examples_per_domain_per_label\": 2000, \"pickle_path\": \"/root/csc500-main/datasets/oracle.Run1_10kExamples_stratified_ds.2022A.pkl\", \"source_or_target_dataset\": \"source\", \"x_transforms\": [\"unit_power\"], \"episode_transforms\": [], \"domain_prefix\": \"ORACLE.run1\"}], \"dataset_seed\": 154325, \"seed\": 154325, \"x_shape\": [2, 256], \"domains_source\": [\"ORACLE.run132\", \"ORACLE.run138\", \"ORACLE.run18\", \"ORACLE.run144\", \"ORACLE.run114\", \"ORACLE.run150\", \"ORACLE.run120\", \"ORACLE.run126\"], \"domains_target\": [\"Wisig_1\", \"Wisig_2\", \"Wisig_3\", \"Wisig_4\"]}, \"results\": {\"source_test_label_accuracy\": 0.6022786458333333, \"source_test_label_loss\": 1.6771540641784668, \"target_test_label_accuracy\": 0.6909505208333333, \"target_test_label_loss\": 19.97102165222168, \"source_val_label_accuracy\": 0.6011067708333333, \"source_val_label_loss\": 1.7203088998794556, \"target_val_label_accuracy\": 0.6894551961823966, \"target_val_label_loss\": 19.840801239013672, \"total_epochs_trained\": 17, \"total_experiment_time_secs\": 2806.4998047351837, \"confusion\": {\"ORACLE.run18\": {\"13\": {\"0\": 65, \"14\": 29, \"13\": 57, \"7\": 9, \"4\": 37, \"6\": 10, \"10\": 31, \"1\": 1, \"5\": 1}, \"9\": {\"9\": 240}, \"15\": {\"12\": 55, \"15\": 147, \"8\": 20, \"2\": 9, \"3\": 6, \"7\": 2, \"6\": 1}, \"2\": {\"2\": 154, \"15\": 14, \"3\": 53, \"7\": 10, \"12\": 7, \"8\": 2}, \"3\": {\"3\": 156, \"15\": 6, \"2\": 40, \"12\": 38}, \"8\": {\"8\": 206, \"15\": 24, \"6\": 3, \"7\": 5, \"12\": 1, \"11\": 1}, \"5\": {\"5\": 175, \"11\": 14, \"10\": 25, \"14\": 9, \"1\": 16, \"13\": 1}, \"14\": {\"14\": 75, \"10\": 52, \"1\": 23, \"6\": 5, \"4\": 35, \"0\": 5, \"13\": 25, \"5\": 9, \"11\": 11}, \"1\": {\"1\": 98, \"10\": 5, \"14\": 12, \"11\": 103, \"4\": 4, \"5\": 16, \"13\": 2}, \"0\": {\"13\": 46, \"6\": 15, \"0\": 123, \"4\": 22, \"10\": 6, \"7\": 24, \"14\": 4}, \"10\": {\"10\": 105, \"5\": 16, \"4\": 19, \"1\": 11, \"13\": 20, \"14\": 53, \"6\": 3, \"8\": 1, \"11\": 5, \"0\": 7}, \"6\": {\"7\": 61, \"0\": 22, \"13\": 17, \"6\": 95, \"8\": 6, \"11\": 3, \"4\": 30, \"14\": 3, \"1\": 1, \"15\": 1, \"10\": 1}, \"11\": {\"5\": 23, \"1\": 93, \"11\": 104, \"8\": 1, \"6\": 1, \"14\": 12, \"10\": 3, \"4\": 3}, \"7\": {\"6\": 66, \"7\": 150, \"13\": 1, \"0\": 15, \"8\": 3, \"2\": 1, \"4\": 3, \"15\": 1}, \"4\": {\"4\": 100, \"0\": 25, \"14\": 27, \"10\": 13, \"13\": 33, \"6\": 35, \"1\": 3, \"7\": 3, \"11\": 1}, \"12\": {\"12\": 96, \"3\": 69, \"15\": 63, \"8\": 7, \"2\": 5}}, \"ORACLE.run138\": {\"13\": {\"1\": 2, \"15\": 73, \"13\": 128, \"2\": 9, \"10\": 24, \"5\": 2, \"8\": 2}, \"12\": {\"12\": 201, \"10\": 29, \"4\": 9, \"0\": 1}, \"2\": {\"2\": 211, \"14\": 24, \"13\": 3, \"15\": 1, \"11\": 1}, \"9\": {\"9\": 127, \"6\": 88, \"5\": 6, \"3\": 19}, \"15\": {\"15\": 129, \"1\": 16, \"13\": 71, \"8\": 13, \"5\": 7, \"2\": 1, \"10\": 1, \"0\": 2}, \"5\": {\"6\": 10, \"0\": 36, \"5\": 96, \"8\": 55, \"1\": 1, \"7\": 15, \"3\": 6, \"9\": 6, \"15\": 10, \"10\": 4, \"13\": 1}, \"14\": {\"14\": 162, \"2\": 21, \"11\": 52, \"13\": 2, \"10\": 3}, \"0\": {\"3\": 10, \"7\": 67, \"15\": 4, \"5\": 34, \"0\": 62, \"8\": 48, \"12\": 2, \"9\": 3, \"10\": 9, \"6\": 1}, \"3\": {\"3\": 190, \"9\": 28, \"0\": 6, \"7\": 11, \"6\": 3, \"5\": 2}, \"1\": {\"1\": 232, \"5\": 2, \"15\": 4, \"13\": 1, \"6\": 1}, \"11\": {\"14\": 73, \"11\": 158, \"12\": 5, \"10\": 3, \"2\": 1}, \"7\": {\"0\": 59, \"7\": 154, \"3\": 9, \"10\": 1, \"8\": 9, \"5\": 7, \"12\": 1}, \"8\": {\"8\": 101, \"7\": 15, \"5\": 69, \"0\": 32, \"15\": 12, \"10\": 5, \"13\": 5, \"1\": 1}, \"4\": {\"4\": 221, \"12\": 18, \"7\": 1}, \"10\": {\"10\": 142, \"0\": 11, \"13\": 27, \"12\": 39, \"8\": 6, \"15\": 6, \"14\": 4, \"4\": 1, \"5\": 3, \"11\": 1}, \"6\": {\"9\": 76, \"6\": 159, \"8\": 2, \"5\": 3}}, \"ORACLE.run126\": {\"10\": {\"10\": 76, \"0\": 41, \"8\": 34, \"4\": 10, \"14\": 22, \"1\": 7, \"6\": 36, \"15\": 1, \"7\": 4, \"9\": 9}, \"12\": {\"12\": 236, \"11\": 4}, \"1\": {\"1\": 108, \"14\": 61, \"0\": 23, \"4\": 24, \"7\": 8, \"10\": 11, \"8\": 2, \"3\": 2, \"6\": 1}, \"0\": {\"10\": 49, \"8\": 29, \"0\": 47, \"7\": 13, \"14\": 37, \"4\": 31, \"2\": 1, \"9\": 4, \"1\": 22, \"6\": 6, \"15\": 1}, \"15\": {\"5\": 52, \"9\": 59, \"15\": 55, \"13\": 20, \"7\": 5, \"2\": 13, \"6\": 14, \"10\": 4, \"8\": 11, \"4\": 1, \"0\": 5, \"1\": 1}, \"13\": {\"13\": 147, \"15\": 21, \"5\": 43, \"9\": 11, \"2\": 7, \"6\": 11}, \"8\": {\"3\": 4, \"4\": 19, \"5\": 5, \"10\": 30, \"9\": 26, \"6\": 16, \"14\": 10, \"8\": 64, \"0\": 16, \"7\": 21, \"2\": 10, \"15\": 17, \"1\": 2}, \"3\": {\"3\": 123, \"2\": 59, \"7\": 49, \"5\": 1, \"4\": 3, \"9\": 1, \"8\": 3, \"0\": 1}, \"11\": {\"11\": 224, \"12\": 16}, \"4\": {\"8\": 24, \"14\": 48, \"1\": 29, \"4\": 57, \"0\": 28, \"7\": 27, \"10\": 17, \"9\": 3, \"3\": 5, \"15\": 1, \"2\": 1}, \"6\": {\"6\": 131, \"9\": 38, \"10\": 31, \"13\": 7, \"15\": 14, \"8\": 10, \"0\": 5, \"5\": 2, \"14\": 2}, \"7\": {\"4\": 33, \"7\": 87, \"14\": 6, \"2\": 31, \"1\": 2, \"3\": 50, \"8\": 14, \"0\": 7, \"10\": 5, \"9\": 3, \"5\": 1, \"15\": 1}, \"14\": {\"1\": 64, \"8\": 13, \"14\": 60, \"0\": 37, \"4\": 35, \"10\": 22, \"15\": 3, \"7\": 6}, \"2\": {\"2\": 98, \"3\": 60, \"4\": 6, \"7\": 33, \"9\": 6, \"5\": 16, \"15\": 11, \"8\": 9, \"0\": 1}, \"5\": {\"2\": 9, \"13\": 47, \"15\": 42, \"5\": 87, \"9\": 30, \"8\": 7, \"10\": 3, \"6\": 10, \"7\": 1, \"0\": 1, \"4\": 3}, \"9\": {\"5\": 30, \"9\": 64, \"0\": 5, \"6\": 45, \"8\": 30, \"2\": 5, \"13\": 9, \"7\": 1, \"15\": 41, \"10\": 10}}, \"ORACLE.run120\": {\"5\": {\"0\": 52, \"9\": 8, \"5\": 43, \"4\": 4, \"3\": 23, \"1\": 49, \"12\": 29, \"15\": 28, \"13\": 2, \"2\": 2}, \"15\": {\"15\": 116, \"13\": 15, \"1\": 52, \"0\": 32, \"12\": 11, \"5\": 12, \"2\": 1, \"9\": 1}, \"9\": {\"7\": 29, \"1\": 6, \"3\": 33, \"8\": 6, \"2\": 57, \"9\": 46, \"15\": 5, \"5\": 8, \"12\": 34, \"4\": 6, \"13\": 8, \"0\": 2}, \"7\": {\"7\": 116, \"8\": 34, \"2\": 39, \"6\": 11, \"4\": 2, \"9\": 21, \"3\": 10, \"10\": 1, \"11\": 1, \"14\": 4, \"12\": 1}, \"3\": {\"2\": 19, \"0\": 5, \"3\": 57, \"7\": 15, \"12\": 45, \"9\": 43, \"15\": 1, \"8\": 16, \"13\": 4, \"5\": 9, \"4\": 16, \"1\": 9, \"10\": 1}, \"8\": {\"10\": 30, \"8\": 100, \"2\": 2, \"14\": 8, \"7\": 20, \"3\": 11, \"4\": 56, \"12\": 3, \"6\": 6, \"9\": 3, \"5\": 1}, \"4\": {\"4\": 135, \"5\": 2, \"2\": 1, \"8\": 53, \"3\": 20, \"0\": 1, \"10\": 14, \"12\": 4, \"9\": 3, \"7\": 7}, \"6\": {\"6\": 167, \"14\": 53, \"10\": 10, \"11\": 1, \"7\": 3, \"8\": 6}, \"2\": {\"3\": 10, \"2\": 76, \"13\": 30, \"12\": 14, \"9\": 44, \"7\": 49, \"15\": 2, \"8\": 2, \"4\": 2, \"1\": 7, \"5\": 2, \"0\": 1, \"6\": 1}, \"12\": {\"12\": 43, \"9\": 25, \"13\": 4, \"0\": 27, \"3\": 47, \"8\": 5, \"1\": 28, \"2\": 10, \"5\": 26, \"4\": 12, \"15\": 9, \"7\": 4}, \"0\": {\"12\": 23, \"15\": 34, \"1\": 42, \"4\": 1, \"0\": 60, \"8\": 1, \"5\": 52, \"2\": 5, \"3\": 13, \"9\": 8, \"13\": 1}, \"13\": {\"13\": 171, \"2\": 29, \"9\": 5, \"15\": 21, \"12\": 7, \"3\": 2, \"7\": 1, \"1\": 3, \"5\": 1}, \"10\": {\"10\": 147, \"8\": 26, \"14\": 47, \"4\": 15, \"6\": 5}, \"11\": {\"11\": 239, \"2\": 1}, \"14\": {\"14\": 126, \"6\": 36, \"10\": 70, \"8\": 7, \"7\": 1}, \"1\": {\"1\": 61, \"9\": 10, \"5\": 44, \"15\": 33, \"12\": 29, \"0\": 41, \"13\": 6, \"3\": 14, \"2\": 2}}, \"ORACLE.run150\": {\"1\": {\"15\": 61, \"1\": 135, \"6\": 23, \"4\": 21}, \"2\": {\"2\": 215, \"0\": 25}, \"8\": {\"3\": 12, \"8\": 221, \"10\": 7}, \"7\": {\"7\": 142, \"13\": 50, \"5\": 38, \"10\": 9, \"6\": 1}, \"14\": {\"14\": 225, \"12\": 9, \"11\": 5, \"9\": 1}, \"6\": {\"6\": 139, \"5\": 26, \"4\": 29, \"13\": 9, \"1\": 30, \"15\": 4, \"7\": 1, \"0\": 2}, \"3\": {\"3\": 234, \"8\": 6}, \"4\": {\"15\": 44, \"6\": 34, \"7\": 5, \"4\": 89, \"1\": 39, \"5\": 20, \"13\": 9}, \"12\": {\"12\": 215, \"9\": 13, \"14\": 9, \"11\": 3}, \"15\": {\"15\": 139, \"4\": 31, \"1\": 54, \"5\": 1, \"11\": 14, \"6\": 1}, \"11\": {\"11\": 196, \"15\": 9, \"9\": 29, \"12\": 2, \"14\": 2, \"1\": 2}, \"0\": {\"0\": 198, \"2\": 26, \"10\": 11, \"13\": 3, \"6\": 1, \"5\": 1}, \"9\": {\"11\": 54, \"9\": 165, \"12\": 20, \"14\": 1}, \"10\": {\"10\": 199, \"13\": 11, \"7\": 8, \"8\": 4, \"0\": 17, \"5\": 1}, \"5\": {\"4\": 30, \"7\": 53, \"6\": 51, \"13\": 40, \"5\": 56, \"0\": 1, \"10\": 6, \"1\": 2, \"15\": 1}, \"13\": {\"5\": 47, \"7\": 54, \"13\": 114, \"4\": 4, \"6\": 18, \"10\": 2, \"0\": 1}}, \"ORACLE.run132\": {\"2\": {\"2\": 183, \"4\": 34, \"7\": 6, \"8\": 1, \"0\": 15, \"14\": 1}, \"6\": {\"6\": 240}, \"5\": {\"13\": 47, \"5\": 59, \"14\": 19, \"7\": 29, \"8\": 19, \"3\": 15, \"0\": 25, \"4\": 21, \"2\": 4, \"11\": 2}, \"12\": {\"12\": 240}, \"13\": {\"13\": 64, \"5\": 63, \"0\": 12, \"7\": 23, \"8\": 21, \"11\": 6, \"3\": 23, \"14\": 17, \"4\": 11}, \"9\": {\"9\": 237, \"12\": 3}, \"11\": {\"14\": 44, \"11\": 179, \"7\": 9, \"3\": 2, \"5\": 5, \"13\": 1}, \"1\": {\"1\": 234, \"10\": 6}, \"3\": {\"3\": 211, \"13\": 14, \"11\": 4, \"14\": 3, \"5\": 5, \"8\": 3}, \"7\": {\"7\": 81, \"2\": 9, \"14\": 46, \"5\": 26, \"13\": 18, \"11\": 17, \"4\": 32, \"0\": 11}, \"14\": {\"7\": 54, \"2\": 8, \"11\": 59, \"0\": 7, \"14\": 52, \"13\": 20, \"4\": 15, \"5\": 18, \"3\": 7}, \"8\": {\"8\": 157, \"13\": 20, \"5\": 30, \"0\": 24, \"14\": 1, \"4\": 2, \"3\": 4, \"7\": 2}, \"4\": {\"2\": 34, \"4\": 97, \"14\": 9, \"7\": 28, \"13\": 7, \"0\": 45, \"5\": 18, \"8\": 2}, \"0\": {\"4\": 50, \"5\": 14, \"8\": 26, \"0\": 110, \"2\": 15, \"7\": 12, \"14\": 2, \"13\": 11}, \"10\": {\"10\": 239, \"1\": 1}, \"15\": {\"15\": 235, \"8\": 4, \"3\": 1}}, \"ORACLE.run144\": {\"13\": {\"6\": 44, \"13\": 151, \"9\": 22, \"11\": 18, \"14\": 1, \"7\": 3, \"4\": 1}, \"4\": {\"4\": 160, \"15\": 2, \"14\": 77, \"13\": 1}, \"6\": {\"7\": 9, \"13\": 50, \"6\": 138, \"9\": 22, \"11\": 21}, \"0\": {\"0\": 148, \"8\": 51, \"5\": 19, \"15\": 22}, \"10\": {\"10\": 164, \"1\": 34, \"2\": 19, \"12\": 22, \"7\": 1}, \"7\": {\"7\": 134, \"9\": 54, \"2\": 37, \"6\": 13, \"13\": 1, \"10\": 1}, \"14\": {\"14\": 132, \"4\": 84, \"5\": 6, \"15\": 17, \"0\": 1}, \"15\": {\"15\": 177, \"5\": 12, \"4\": 3, \"0\": 22, \"14\": 15, \"8\": 11}, \"5\": {\"5\": 205, \"15\": 4, \"0\": 18, \"14\": 11, \"8\": 2}, \"2\": {\"2\": 169, \"7\": 37, \"10\": 19, \"1\": 10, \"12\": 2, \"9\": 1, \"3\": 2}, \"9\": {\"9\": 127, \"7\": 62, \"6\": 23, \"2\": 3, \"13\": 22, \"3\": 1, \"1\": 1, \"4\": 1}, \"12\": {\"12\": 160, \"10\": 27, \"1\": 51, \"3\": 2}, \"8\": {\"8\": 133, \"0\": 92, \"15\": 12, \"5\": 3}, \"3\": {\"3\": 210, \"1\": 22, \"12\": 5, \"2\": 1, \"10\": 1, \"7\": 1}, \"1\": {\"1\": 123, \"12\": 47, \"10\": 30, \"3\": 31, \"2\": 8, \"7\": 1}, \"11\": {\"11\": 190, \"13\": 31, \"6\": 19}}, \"ORACLE.run114\": {\"1\": {\"1\": 191, \"5\": 33, \"4\": 11, \"7\": 5}, \"15\": {\"15\": 208, \"7\": 28, \"5\": 2, \"2\": 2}, \"10\": {\"0\": 69, \"10\": 169, \"14\": 1, \"11\": 1}, \"2\": {\"14\": 46, \"2\": 101, \"13\": 19, \"5\": 25, \"6\": 19, \"3\": 8, \"15\": 6, \"4\": 16}, \"9\": {\"9\": 230, \"11\": 4, \"12\": 6}, \"5\": {\"2\": 14, \"1\": 30, \"4\": 51, \"3\": 7, \"5\": 131, \"7\": 4, \"15\": 2, \"6\": 1}, \"7\": {\"7\": 222, \"15\": 15, \"5\": 2, \"1\": 1}, \"13\": {\"14\": 62, \"13\": 84, \"6\": 77, \"5\": 1, \"2\": 13, \"10\": 2, \"3\": 1}, \"8\": {\"8\": 238, \"1\": 2}, \"6\": {\"6\": 120, \"13\": 71, \"14\": 22, \"2\": 27}, \"3\": {\"3\": 164, \"4\": 46, \"5\": 3, \"2\": 6, \"14\": 11, \"0\": 6, \"13\": 2, \"10\": 2}, \"12\": {\"12\": 234, \"9\": 6}, \"0\": {\"0\": 174, \"10\": 52, \"3\": 6, \"11\": 6, \"14\": 1, \"4\": 1}, \"4\": {\"3\": 41, \"5\": 32, \"4\": 120, \"1\": 12, \"2\": 22, \"14\": 12, \"13\": 1}, \"14\": {\"6\": 22, \"3\": 9, \"14\": 144, \"13\": 48, \"2\": 13, \"0\": 1, \"4\": 3}, \"11\": {\"11\": 194, \"10\": 21, \"9\": 19, \"0\": 6}}, \"Wisig_2\": {\"56\": {\"56\": 12}, \"12\": {\"12\": 52, \"49\": 1, \"86\": 2, \"108\": 3, \"129\": 1, \"11\": 1, \"29\": 2, \"88\": 1, \"127\": 4, \"98\": 9, \"8\": 2, \"125\": 2, \"79\": 2, \"34\": 2, \"78\": 1, \"26\": 1, \"70\": 1, \"111\": 1}, \"15\": {\"15\": 80, \"26\": 1, \"127\": 4, \"111\": 2, \"94\": 8, \"106\": 2, \"101\": 9, \"0\": 7, \"44\": 1, \"70\": 1, \"117\": 1}, \"26\": {\"117\": 3, \"26\": 98, \"102\": 6, \"2\": 1, \"69\": 9, \"18\": 10, \"24\": 2, \"21\": 1, \"99\": 1, \"84\": 1}, \"82\": {\"82\": 31, \"87\": 1, \"118\": 2, \"119\": 2}, \"9\": {\"9\": 32}, \"49\": {\"12\": 2, \"122\": 3, \"77\": 1, \"3\": 1, \"49\": 2, \"19\": 1, \"124\": 1, \"58\": 1, \"44\": 1, \"110\": 1, \"73\": 1, \"98\": 2, \"128\": 2, \"34\": 1, \"86\": 1, \"42\": 1, \"85\": 2}, \"55\": {\"82\": 4, \"55\": 11, \"62\": 1}, \"102\": {\"102\": 119, \"72\": 1, \"87\": 1, \"48\": 1, \"89\": 1, \"90\": 1}, \"85\": {\"85\": 17, \"73\": 1, \"129\": 1, \"53\": 2, \"19\": 2, \"5\": 4, \"3\": 4, \"28\": 1}, \"73\": {\"73\": 28}, \"47\": {\"47\": 7, \"15\": 1, \"85\": 3, \"94\": 1}, \"20\": {\"20\": 12, \"31\": 1, \"90\": 2, \"88\": 1}, \"117\": {\"117\": 95, \"92\": 2, \"113\": 3, \"18\": 8, \"87\": 1, \"39\": 2, \"65\": 1, \"21\": 2, \"90\": 2}, \"122\": {\"49\": 2, \"87\": 1, \"122\": 46, \"19\": 3, \"96\": 1, \"71\": 7, \"86\": 3, \"3\": 6, \"129\": 3, \"117\": 1, \"32\": 3, \"124\": 10, \"110\": 1, \"114\": 8, \"44\": 5, \"5\": 8, \"7\": 7, \"8\": 3, \"108\": 2, \"69\": 1, \"98\": 1, \"70\": 2, \"34\": 2, \"73\": 1, \"85\": 1, \"10\": 2, \"126\": 1, \"11\": 3, \"84\": 1, \"39\": 1, \"27\": 2, \"33\": 1, \"0\": 1}, \"113\": {\"113\": 50, \"117\": 6, \"120\": 1, \"2\": 2, \"39\": 2, \"18\": 5, \"90\": 1, \"14\": 1, \"72\": 1, \"69\": 2, \"23\": 1}, \"87\": {\"21\": 2, \"60\": 1, \"92\": 1, \"87\": 20, \"33\": 7, \"23\": 1, \"83\": 1, \"102\": 16, \"109\": 5, \"118\": 9, \"84\": 4, \"16\": 4, \"93\": 10, \"62\": 1, \"90\": 10, \"127\": 1, \"71\": 1, \"69\": 2, \"43\": 1, \"88\": 3, \"70\": 2, \"116\": 5, \"13\": 2, \"5\": 1, \"89\": 1, \"24\": 1}, \"21\": {\"21\": 39, \"88\": 2, \"117\": 2, \"87\": 2, \"43\": 1, \"114\": 2}, \"106\": {\"97\": 3, \"106\": 95, \"0\": 4, \"30\": 6, \"28\": 1, \"15\": 1, \"27\": 1, \"8\": 2, \"6\": 1, \"94\": 2, \"101\": 2, \"21\": 1, \"70\": 1}, \"3\": {\"3\": 102, \"73\": 2, \"56\": 1, \"71\": 3, \"32\": 2, \"5\": 8, \"88\": 1, \"7\": 5, \"1\": 1, \"114\": 2, \"85\": 2, \"110\": 1, \"107\": 1, \"28\": 1, \"122\": 2, \"39\": 2}, \"126\": {\"126\": 92, \"47\": 3, \"8\": 1, \"85\": 1, \"10\": 6, \"107\": 1, \"123\": 1, \"70\": 3, \"124\": 1, \"88\": 4, \"44\": 2, \"14\": 2, \"43\": 2, \"19\": 1}, \"41\": {\"41\": 18, \"62\": 1, \"91\": 1}, \"76\": {\"76\": 12, \"116\": 2, \"33\": 2}, \"60\": {\"76\": 1, \"60\": 10, \"84\": 2, \"14\": 1, \"44\": 3, \"90\": 2, \"118\": 2, \"82\": 1, \"78\": 1, \"62\": 2, \"129\": 1, \"123\": 1, \"23\": 1}, \"94\": {\"94\": 28, \"58\": 1, \"88\": 1, \"18\": 1, \"108\": 2, \"101\": 1, \"52\": 1, \"20\": 1, \"127\": 2, \"24\": 3, \"15\": 10, \"27\": 2, \"0\": 2, \"126\": 2, \"8\": 2, \"106\": 1, \"36\": 1, \"125\": 1, \"98\": 2}, \"50\": {\"50\": 14, \"76\": 1, \"61\": 1}, \"97\": {\"97\": 16, \"106\": 2, \"75\": 1, \"52\": 1}, \"115\": {\"115\": 12}, \"38\": {\"38\": 15, \"76\": 1}, \"43\": {\"38\": 2, \"70\": 6, \"43\": 40, \"94\": 1, \"62\": 8, \"46\": 2, \"40\": 6, \"44\": 2, \"78\": 4, \"106\": 1, \"60\": 1, \"82\": 1, \"1\": 13, \"84\": 2, \"16\": 3, \"93\": 5, \"105\": 11, \"113\": 1, \"88\": 2, \"5\": 1, \"64\": 3, \"50\": 1, \"83\": 1, \"118\": 1, \"87\": 2, \"109\": 4}, \"67\": {\"67\": 10, \"76\": 2, \"38\": 2, \"80\": 2}, \"18\": {\"18\": 85, \"65\": 4, \"26\": 5, \"117\": 11, \"113\": 3, \"21\": 1, \"39\": 3, \"2\": 2, \"87\": 2, \"69\": 7, \"27\": 1, \"4\": 1, \"94\": 1, \"102\": 1, \"126\": 1}, \"23\": {\"7\": 2, \"18\": 2, \"23\": 9, \"48\": 1, \"121\": 2, \"71\": 4, \"122\": 1, \"117\": 2, \"63\": 1, \"104\": 1, \"81\": 1, \"72\": 1, \"34\": 1, \"124\": 2, \"108\": 1, \"69\": 1, \"19\": 1, \"41\": 2, \"29\": 1, \"57\": 1, \"32\": 2, \"95\": 1, \"39\": 1, \"113\": 1, \"11\": 2}, \"63\": {\"63\": 20}, \"127\": {\"127\": 91, \"91\": 2, \"98\": 18, \"126\": 1, \"124\": 3, \"111\": 3, \"39\": 1, \"113\": 1, \"122\": 1, \"8\": 1, \"26\": 1, \"125\": 1}, \"72\": {\"72\": 18, \"102\": 2, \"90\": 3, \"33\": 2, \"77\": 1, \"15\": 1, \"43\": 1}, \"128\": {\"127\": 1, \"3\": 3, \"103\": 2, \"128\": 5, \"19\": 1, \"52\": 1, \"125\": 2, \"107\": 1, \"79\": 2, \"74\": 1, \"51\": 1, \"5\": 1, \"71\": 1, \"85\": 1, \"47\": 1}, \"7\": {\"7\": 87, \"88\": 2, \"71\": 8, \"86\": 1, \"110\": 3, \"4\": 14, \"114\": 3, \"5\": 3, \"3\": 3, \"19\": 1, \"26\": 1, \"18\": 1, \"122\": 1}, \"108\": {\"127\": 2, \"108\": 79, \"8\": 18, \"112\": 1, \"12\": 4, \"107\": 3, \"124\": 1, \"24\": 2, \"98\": 6, \"109\": 1, \"111\": 4, \"11\": 6, \"103\": 2, \"14\": 1, \"70\": 1, \"106\": 1, \"84\": 1, \"16\": 1}, \"16\": {\"16\": 65, \"82\": 6, \"43\": 1, \"90\": 5, \"88\": 1, \"87\": 7, \"93\": 12, \"5\": 1, \"70\": 4, \"118\": 2, \"18\": 1, \"31\": 1, \"83\": 1, \"116\": 1, \"77\": 1, \"96\": 1, \"21\": 1, \"117\": 1, \"69\": 2}, \"29\": {\"29\": 29, \"49\": 1, \"98\": 2}, \"61\": {\"61\": 15, \"83\": 2, \"22\": 2, \"126\": 1}, \"104\": {\"115\": 1, \"104\": 14, \"95\": 3, \"66\": 2}, \"120\": {\"120\": 18, \"18\": 1, \"65\": 1}, \"124\": {\"124\": 115, \"89\": 1, \"11\": 4, \"122\": 3, \"23\": 1}, \"34\": {\"29\": 1, \"34\": 20, \"108\": 1, \"17\": 1, \"68\": 1, \"124\": 3, \"122\": 1, \"53\": 1, \"98\": 1, \"23\": 1, \"32\": 1}, \"84\": {\"84\": 52, \"9\": 1, \"48\": 2, \"67\": 1, \"33\": 13, \"90\": 3, \"11\": 1, \"109\": 1, \"30\": 1, \"23\": 2, \"126\": 1, \"62\": 6, \"116\": 1, \"118\": 3, \"70\": 2, \"69\": 1, \"101\": 1}, \"103\": {\"35\": 1, \"103\": 14, \"111\": 1}, \"100\": {\"100\": 13, \"1\": 1, \"118\": 1, \"45\": 1}, \"40\": {\"61\": 2, \"40\": 107, \"105\": 13, \"11\": 1, \"33\": 1, \"21\": 1, \"70\": 4, \"113\": 1, \"1\": 2, \"109\": 1, \"14\": 1, \"95\": 1, \"16\": 1, \"117\": 2, \"39\": 1, \"24\": 1}, \"35\": {\"103\": 1, \"35\": 9, \"77\": 1, \"111\": 1}, \"96\": {\"96\": 16, \"16\": 4}, \"101\": {\"101\": 99, \"6\": 3, \"15\": 7, \"30\": 1, \"122\": 1, \"125\": 2, \"94\": 3, \"69\": 1, \"108\": 1, \"0\": 2}, \"71\": {\"104\": 2, \"7\": 6, \"71\": 68, \"122\": 2, \"87\": 1, \"107\": 2, \"86\": 1, \"40\": 1, \"4\": 1, \"0\": 3, \"5\": 4, \"53\": 1, \"3\": 3, \"19\": 1, \"114\": 2, \"105\": 1, \"1\": 1}, \"81\": {\"81\": 19, \"90\": 1, \"121\": 2, \"102\": 1, \"52\": 1}, \"74\": {\"115\": 3, \"27\": 1, \"74\": 4, \"28\": 2, \"107\": 2, \"104\": 1, \"128\": 1, \"73\": 1, \"4\": 1}, \"119\": {\"100\": 1, \"119\": 18, \"83\": 1}, \"5\": {\"5\": 85, \"17\": 1, \"71\": 3, \"3\": 9, \"114\": 1, \"109\": 1, \"18\": 1, \"56\": 1, \"115\": 1, \"126\": 1, \"110\": 1, \"32\": 1, \"122\": 2, \"7\": 2, \"40\": 2}, \"68\": {\"68\": 11, \"86\": 2, \"91\": 1, \"127\": 2}, \"37\": {\"74\": 1, \"37\": 11, \"73\": 2, \"41\": 2}, \"58\": {\"58\": 16, \"111\": 2, \"0\": 2}, \"109\": {\"74\": 1, \"109\": 38, \"13\": 2, \"12\": 2, \"78\": 5, \"23\": 1, \"118\": 4, \"2\": 1, \"83\": 1, \"88\": 5, \"113\": 1, \"87\": 8, \"102\": 2, \"18\": 1, \"69\": 2, \"90\": 3, \"93\": 9, \"126\": 1, \"70\": 1, \"33\": 1, \"94\": 4, \"10\": 2, \"0\": 1, \"16\": 1, \"84\": 1, \"43\": 1, \"26\": 1}, \"107\": {\"107\": 27, \"7\": 7, \"24\": 1, \"66\": 2, \"71\": 2, \"36\": 1, \"125\": 1, \"5\": 3, \"95\": 2, \"4\": 5, \"0\": 1, \"3\": 2, \"106\": 1, \"28\": 3, \"110\": 3, \"56\": 1, \"115\": 2}, \"13\": {\"81\": 1, \"119\": 1, \"72\": 2, \"94\": 1, \"13\": 7, \"9\": 1, \"82\": 1, \"33\": 1, \"87\": 1}, \"52\": {\"77\": 1, \"58\": 1, \"52\": 17, \"5\": 1}, \"77\": {\"77\": 13, \"81\": 1, \"52\": 2}, \"95\": {\"95\": 28, \"60\": 1, \"104\": 3, \"107\": 1, \"61\": 1, \"55\": 1, \"4\": 1}, \"44\": {\"44\": 93, \"46\": 2, \"60\": 1, \"84\": 1, \"87\": 1, \"23\": 2}, \"88\": {\"126\": 6, \"55\": 1, \"78\": 1, \"93\": 18, \"88\": 45, \"70\": 7, \"83\": 3, \"62\": 2, \"94\": 2, \"16\": 4, \"43\": 5, \"107\": 1, \"109\": 4, \"1\": 7, \"12\": 1, \"69\": 1, \"44\": 2, \"3\": 1, \"105\": 1, \"84\": 4, \"46\": 1, \"39\": 1, \"33\": 1, \"40\": 2, \"102\": 1}, \"91\": {\"91\": 18, \"127\": 3, \"54\": 1, \"68\": 1, \"29\": 3, \"104\": 1, \"126\": 1}, \"93\": {\"93\": 104, \"119\": 1, \"16\": 15, \"21\": 1, \"62\": 2, \"88\": 3, \"87\": 7, \"70\": 1, \"43\": 1, \"117\": 1, \"90\": 2}, \"8\": {\"108\": 16, \"8\": 79, \"12\": 2, \"98\": 2, \"40\": 1, \"71\": 1, \"11\": 1, \"113\": 1, \"127\": 6, \"101\": 1, \"111\": 4, \"29\": 1, \"68\": 1, \"126\": 1, \"124\": 2, \"44\": 1, \"26\": 1, \"114\": 1, \"30\": 2}, \"1\": {\"45\": 1, \"1\": 92, \"24\": 1, \"82\": 1, \"43\": 10, \"62\": 5, \"111\": 1, \"100\": 1, \"117\": 1, \"40\": 1}, \"45\": {\"45\": 11, \"1\": 1, \"21\": 1, \"14\": 2, \"102\": 1}, \"111\": {\"111\": 114, \"62\": 1, \"98\": 2, \"127\": 6, \"21\": 1, \"125\": 1, \"8\": 1}, \"116\": {\"116\": 15, \"93\": 1, \"90\": 4, \"119\": 1, \"92\": 1, \"84\": 2, \"80\": 1, \"16\": 1, \"118\": 2}, \"48\": {\"13\": 2, \"48\": 16, \"102\": 1, \"89\": 1}, \"57\": {\"57\": 18, \"78\": 1, \"24\": 1}, \"10\": {\"108\": 1, \"3\": 3, \"30\": 1, \"66\": 2, \"4\": 3, \"126\": 9, \"10\": 16, \"71\": 7, \"11\": 1, \"129\": 1, \"91\": 1, \"22\": 1, \"7\": 1, \"32\": 2, \"123\": 1, \"110\": 3, \"53\": 1, \"5\": 1, \"29\": 1, \"86\": 1, \"23\": 1, \"26\": 1, \"122\": 1}, \"129\": {\"129\": 19, \"10\": 1, \"73\": 5, \"123\": 2, \"19\": 1, \"32\": 1, \"122\": 1, \"85\": 1, \"3\": 1}, \"98\": {\"98\": 83, \"127\": 12, \"12\": 5, \"26\": 1, \"111\": 8, \"18\": 1, \"86\": 1, \"11\": 2, \"39\": 1, \"84\": 2, \"124\": 2}, \"65\": {\"65\": 12, \"121\": 3, \"109\": 1, \"18\": 2, \"2\": 2}, \"6\": {\"9\": 3, \"75\": 1, \"101\": 2, \"6\": 7, \"127\": 1, \"0\": 2, \"125\": 5, \"111\": 1, \"94\": 3, \"106\": 2, \"25\": 1, \"30\": 1, \"103\": 2, \"29\": 1}, \"75\": {\"75\": 12, \"126\": 1, \"125\": 3}, \"14\": {\"14\": 32, \"70\": 1, \"43\": 2, \"1\": 2, \"87\": 1, \"37\": 1, \"100\": 1, \"82\": 2, \"3\": 1, \"23\": 2, \"85\": 1, \"46\": 1, \"0\": 1}, \"30\": {\"97\": 2, \"51\": 3, \"30\": 53, \"75\": 1, \"125\": 7, \"15\": 2, \"103\": 1, \"6\": 2, \"94\": 1, \"3\": 1, \"106\": 12, \"0\": 10, \"88\": 1, \"93\": 1, \"101\": 4, \"44\": 1, \"111\": 3, \"24\": 1, \"59\": 2, \"128\": 1, \"90\": 1, \"36\": 1, \"8\": 1}, \"83\": {\"83\": 37, \"60\": 1, \"45\": 1, \"90\": 1}, \"69\": {\"69\": 109, \"39\": 5, \"18\": 1, \"90\": 4, \"109\": 1, \"7\": 1, \"87\": 1, \"72\": 2, \"117\": 1, \"20\": 1, \"2\": 1, \"126\": 1}, \"125\": {\"125\": 139, \"106\": 2, \"122\": 2, \"0\": 2, \"16\": 1}, \"31\": {\"31\": 9, \"90\": 2, \"102\": 4, \"89\": 2, \"82\": 2, \"72\": 1}, \"118\": {\"87\": 3, \"92\": 2, \"80\": 2, \"118\": 25, \"64\": 1, \"93\": 5, \"90\": 7, \"84\": 8, \"16\": 6, \"78\": 2, \"62\": 1, \"55\": 1, \"116\": 1, \"102\": 1, \"33\": 2, \"43\": 1}, \"53\": {\"53\": 12, \"32\": 1, \"122\": 1, \"71\": 1, \"110\": 1}, \"54\": {\"54\": 20}, \"92\": {\"92\": 25, \"62\": 1, \"116\": 1, \"33\": 1}, \"19\": {\"53\": 3, \"19\": 15, \"85\": 1, \"129\": 1, \"32\": 1, \"124\": 1, \"114\": 2, \"71\": 2, \"7\": 1, \"43\": 1}, \"27\": {\"27\": 32, \"15\": 4, \"94\": 6, \"25\": 2, \"24\": 5, \"36\": 10, \"30\": 1, \"88\": 1, \"106\": 2, \"59\": 1, \"77\": 2, \"70\": 2}, \"17\": {\"17\": 8, \"21\": 1, \"59\": 1, \"91\": 1, \"71\": 1, \"95\": 1, \"129\": 1, \"54\": 1, \"4\": 1}, \"4\": {\"4\": 71, \"7\": 11, \"114\": 1, \"71\": 3, \"16\": 1, \"104\": 1}, \"36\": {\"94\": 2, \"36\": 97, \"101\": 10, \"15\": 5, \"27\": 5, \"126\": 1, \"102\": 1, \"58\": 1, \"39\": 1, \"24\": 3, \"70\": 1, \"43\": 1}, \"90\": {\"90\": 122, \"102\": 2, \"116\": 1, \"33\": 3, \"2\": 1, \"69\": 3, \"87\": 2, \"31\": 1, \"89\": 1}, \"64\": {\"64\": 12, \"78\": 2, \"45\": 1, \"24\": 1}, \"66\": {\"66\": 15, \"74\": 1, \"32\": 1, \"28\": 2, \"104\": 1}, \"46\": {\"46\": 13, \"43\": 1, \"16\": 1, \"24\": 1}, \"86\": {\"86\": 29, \"104\": 1, \"122\": 2}, \"114\": {\"114\": 90, \"32\": 1, \"3\": 1, \"124\": 1, \"71\": 7, \"117\": 1, \"122\": 2, \"98\": 2, \"23\": 1, \"7\": 1, \"127\": 2, \"126\": 1}, \"32\": {\"74\": 1, \"86\": 1, \"114\": 2, \"32\": 13, \"53\": 1, \"85\": 1, \"75\": 1, \"66\": 1, \"122\": 2, \"129\": 1, \"107\": 1, \"3\": 4, \"71\": 1, \"41\": 1, \"34\": 1, \"28\": 1, \"5\": 2, \"101\": 1}, \"78\": {\"44\": 3, \"46\": 1, \"73\": 1, \"78\": 7, \"45\": 2, \"40\": 4, \"64\": 1, \"43\": 1, \"83\": 1, \"60\": 1, \"109\": 5, \"126\": 1, \"1\": 5, \"118\": 2, \"94\": 2, \"76\": 1, \"33\": 1, \"14\": 1, \"62\": 2, \"21\": 1, \"19\": 1, \"93\": 1, \"117\": 1, \"70\": 1, \"88\": 1}, \"33\": {\"92\": 2, \"33\": 100, \"84\": 10, \"62\": 8, \"93\": 1, \"102\": 4, \"126\": 1, \"82\": 3, \"23\": 1, \"90\": 4, \"87\": 1, \"118\": 2, \"16\": 1}, \"70\": {\"43\": 7, \"74\": 2, \"70\": 31, \"16\": 4, \"89\": 1, \"14\": 2, \"60\": 2, \"126\": 4, \"1\": 13, \"33\": 3, \"40\": 8, \"87\": 4, \"88\": 7, \"18\": 2, \"12\": 1, \"109\": 1, \"71\": 1, \"62\": 5, \"24\": 1, \"3\": 2, \"105\": 3, \"93\": 3, \"69\": 2, \"95\": 1, \"19\": 1, \"119\": 1, \"45\": 2, \"78\": 1, \"94\": 1, \"39\": 1, \"44\": 4, \"117\": 2, \"84\": 1}, \"0\": {\"0\": 72, \"24\": 1, \"30\": 9, \"106\": 6, \"12\": 1, \"101\": 8, \"124\": 2, \"15\": 5, \"117\": 1, \"125\": 1, \"26\": 1, \"69\": 2, \"8\": 2, \"52\": 2, \"98\": 1, \"70\": 1, \"39\": 1}, \"110\": {\"71\": 4, \"110\": 24, \"122\": 2, \"28\": 2, \"70\": 1, \"3\": 2, \"75\": 1, \"53\": 1, \"85\": 1, \"5\": 2}, \"2\": {\"57\": 2, \"113\": 4, \"2\": 11, \"26\": 2, \"84\": 1, \"102\": 2, \"117\": 1, \"99\": 2, \"72\": 2, \"48\": 1, \"65\": 3, \"12\": 1}, \"28\": {\"28\": 12, \"3\": 3, \"88\": 1, \"71\": 1, \"32\": 2, \"60\": 1}, \"51\": {\"51\": 14, \"97\": 1, \"111\": 2, \"75\": 1, \"58\": 1, \"52\": 1}, \"79\": {\"79\": 16}, \"42\": {\"42\": 7, \"79\": 1, \"5\": 1, \"97\": 1, \"0\": 1, \"29\": 1, \"3\": 1, \"12\": 3, \"107\": 2, \"110\": 2, \"10\": 1, \"23\": 1, \"35\": 1, \"85\": 2, \"128\": 2, \"108\": 1}, \"112\": {\"112\": 14, \"124\": 1, \"49\": 1}, \"89\": {\"89\": 28, \"116\": 2, \"90\": 4, \"102\": 1, \"48\": 1}, \"59\": {\"98\": 2, \"59\": 7, \"54\": 4, \"29\": 2, \"91\": 1}, \"105\": {\"105\": 100, \"40\": 19, \"26\": 1, \"62\": 1, \"61\": 1, \"38\": 2, \"14\": 1, \"78\": 1, \"107\": 2}, \"121\": {\"121\": 25, \"120\": 1, \"65\": 3, \"36\": 1, \"23\": 1, \"81\": 2, \"117\": 2, \"113\": 1}, \"11\": {\"29\": 1, \"11\": 42, \"124\": 11, \"23\": 1, \"48\": 1, \"8\": 3, \"12\": 3, \"108\": 6, \"122\": 3, \"42\": 1, \"49\": 2, \"110\": 1, \"126\": 1, \"88\": 1, \"98\": 1, \"127\": 1, \"18\": 1}, \"99\": {\"99\": 26, \"28\": 1, \"2\": 1, \"26\": 2, \"33\": 1, \"39\": 1}, \"25\": {\"25\": 15, \"106\": 1}, \"62\": {\"62\": 94, \"20\": 1, \"22\": 1, \"84\": 2, \"83\": 1, \"33\": 12, \"93\": 1, \"90\": 3, \"87\": 2, \"1\": 1, \"67\": 2, \"55\": 1, \"113\": 1, \"78\": 1, \"24\": 2, \"109\": 2, \"126\": 1}, \"123\": {\"123\": 15, \"10\": 1}, \"24\": {\"24\": 58, \"25\": 1, \"36\": 3, \"15\": 5, \"28\": 1, \"87\": 1, \"0\": 8, \"106\": 6, \"30\": 1, \"101\": 8, \"114\": 1, \"108\": 2, \"125\": 1, \"111\": 3, \"9\": 1, \"94\": 3, \"27\": 1, \"11\": 1, \"42\": 2, \"126\": 1, \"62\": 1, \"8\": 1, \"88\": 1, \"109\": 1}, \"80\": {\"80\": 15, \"62\": 1}, \"39\": {\"26\": 12, \"69\": 6, \"99\": 1, \"109\": 4, \"113\": 3, \"39\": 36, \"102\": 3, \"88\": 7, \"2\": 1, \"18\": 10, \"126\": 1, \"36\": 1, \"93\": 2, \"7\": 1, \"24\": 1, \"90\": 2, \"72\": 1, \"48\": 2, \"40\": 1, \"78\": 1, \"114\": 1, \"118\": 1, \"117\": 1, \"70\": 1}, \"22\": {\"22\": 14, \"81\": 2, \"61\": 3, \"126\": 1}}, \"Wisig_4\": {\"32\": {\"87\": 2, \"99\": 1, \"32\": 14, \"14\": 1, \"23\": 1, \"71\": 1, \"72\": 4, \"28\": 3, \"50\": 1}, \"22\": {\"22\": 11, \"40\": 2, \"45\": 2, \"30\": 1}, \"69\": {\"69\": 84, \"41\": 1, \"102\": 5, \"36\": 2, \"13\": 1, \"90\": 8, \"113\": 1, \"84\": 8, \"43\": 1, \"44\": 2, \"118\": 2, \"70\": 1, \"126\": 1, \"24\": 1, \"16\": 2}, \"65\": {\"63\": 1, \"65\": 8, \"18\": 1, \"117\": 1, \"61\": 1}, \"91\": {\"127\": 1, \"91\": 16, \"68\": 1, \"0\": 1, \"53\": 1, \"103\": 1, \"42\": 1, \"23\": 1, \"111\": 1}, \"63\": {\"63\": 14, \"39\": 2}, \"127\": {\"65\": 1, \"127\": 86, \"95\": 2, \"128\": 1, \"125\": 1, \"12\": 4, \"0\": 2, \"98\": 3, \"103\": 2, \"16\": 1, \"86\": 1, \"100\": 1, \"124\": 2, \"18\": 1}, \"11\": {\"22\": 1, \"11\": 62, \"20\": 2, \"73\": 1, \"5\": 13, \"72\": 6, \"14\": 6, \"43\": 4, \"36\": 1, \"26\": 2, \"110\": 8, \"81\": 1, \"3\": 4, \"93\": 6, \"87\": 10, \"45\": 2, \"1\": 2, \"28\": 1, \"126\": 2, \"71\": 1, \"39\": 1, \"99\": 1, \"7\": 1}, \"12\": {\"12\": 57, \"103\": 1, \"0\": 7, \"29\": 1, \"88\": 1, \"69\": 1, \"125\": 3, \"111\": 11, \"106\": 7, \"18\": 2, \"1\": 1, \"101\": 4, \"77\": 1, \"8\": 1, \"87\": 1, \"26\": 1}, \"111\": {\"12\": 12, \"111\": 90, \"125\": 4, \"106\": 3, \"0\": 2, \"101\": 7, \"70\": 3, \"68\": 2, \"91\": 1, \"127\": 1, \"29\": 2, \"126\": 1}, \"53\": {\"53\": 13, \"111\": 1, \"91\": 1, \"121\": 1}, \"73\": {\"73\": 16, \"11\": 1, \"51\": 1, \"17\": 1, \"124\": 1, \"129\": 1, \"10\": 1, \"5\": 2}, \"3\": {\"3\": 107, \"7\": 4, \"79\": 2, \"1\": 4, \"21\": 1, \"89\": 1, \"105\": 2, \"72\": 1, \"107\": 2, \"19\": 1, \"111\": 1, \"87\": 1, \"49\": 1, \"14\": 4, \"101\": 1, \"114\": 2, \"124\": 1}, \"83\": {\"83\": 23, \"62\": 1, \"19\": 2, \"37\": 1, \"88\": 1}, \"88\": {\"88\": 58, \"100\": 1, \"128\": 1, \"70\": 14, \"110\": 1, \"23\": 1, \"19\": 2, \"52\": 1, \"4\": 1, \"124\": 14, \"98\": 2, \"108\": 2, \"122\": 1, \"101\": 2, \"127\": 1, \"114\": 7, \"5\": 2, \"46\": 1, \"83\": 3, \"49\": 1, \"71\": 1, \"11\": 2, \"14\": 1, \"0\": 2, \"36\": 1, \"111\": 1, \"93\": 2, \"1\": 2, \"7\": 1, \"3\": 1}, \"87\": {\"87\": 47, \"28\": 2, \"115\": 1, \"76\": 2, \"104\": 2, \"50\": 2, \"110\": 7, \"40\": 11, \"107\": 16, \"49\": 1, \"108\": 1, \"105\": 3, \"5\": 9, \"93\": 2, \"11\": 10, \"14\": 3, \"79\": 2, \"64\": 2, \"3\": 3, \"128\": 1, \"72\": 1, \"33\": 1, \"7\": 3}, \"2\": {\"65\": 2, \"122\": 2, \"2\": 8, \"33\": 1, \"90\": 1, \"69\": 1, \"117\": 1, \"18\": 3, \"81\": 2, \"118\": 2, \"5\": 1, \"72\": 2, \"11\": 1, \"16\": 1}, \"86\": {\"86\": 27, \"4\": 1}, \"16\": {\"16\": 88, \"88\": 1, \"67\": 2, \"35\": 2, \"121\": 1, \"2\": 4, \"102\": 2, \"18\": 1, \"26\": 4, \"109\": 1, \"84\": 5, \"117\": 3, \"113\": 1, \"69\": 3, \"63\": 1, \"92\": 2, \"39\": 1}, \"21\": {\"88\": 3, \"10\": 1, \"21\": 28, \"49\": 2, \"1\": 1, \"60\": 1, \"62\": 1, \"18\": 1, \"63\": 1, \"87\": 1}, \"96\": {\"96\": 16, \"102\": 1, \"28\": 1, \"90\": 1, \"109\": 1}, \"100\": {\"100\": 20}, \"7\": {\"7\": 58, \"3\": 13, \"19\": 1, \"29\": 1, \"89\": 4, \"71\": 3, \"1\": 13, \"108\": 1, \"14\": 4, \"107\": 7, \"105\": 3, \"114\": 8, \"87\": 2, \"98\": 1, \"113\": 1}, \"75\": {\"75\": 14, \"47\": 1, \"54\": 1}, \"10\": {\"10\": 65, \"24\": 10, \"9\": 1, \"54\": 1, \"25\": 3, \"106\": 2, \"12\": 2, \"94\": 4, \"88\": 1, \"30\": 7, \"15\": 9, \"5\": 1, \"27\": 3, \"36\": 8, \"97\": 2, \"126\": 1, \"111\": 1, \"117\": 1, \"127\": 1, \"70\": 1}, \"43\": {\"62\": 2, \"43\": 49, \"10\": 1, \"110\": 8, \"63\": 1, \"109\": 7, \"33\": 10, \"39\": 1, \"126\": 2, \"122\": 1, \"14\": 4, \"40\": 7, \"93\": 7, \"118\": 2, \"87\": 1, \"45\": 2, \"13\": 1, \"30\": 1, \"26\": 1, \"3\": 1, \"99\": 4, \"11\": 4, \"5\": 2, \"105\": 1}, \"92\": {\"92\": 22, \"44\": 1, \"102\": 1, \"57\": 1, \"13\": 1, \"38\": 1, \"90\": 1}, \"62\": {\"62\": 30, \"96\": 1, \"38\": 1, \"33\": 3, \"116\": 1, \"44\": 6, \"113\": 1, \"118\": 3, \"122\": 1, \"88\": 1, \"107\": 2, \"43\": 1, \"84\": 1, \"92\": 2, \"69\": 2, \"90\": 4}, \"31\": {\"118\": 1, \"66\": 1, \"44\": 1, \"31\": 10, \"84\": 2, \"122\": 1}, \"0\": {\"0\": 48, \"91\": 1, \"103\": 1, \"106\": 6, \"12\": 15, \"58\": 1, \"29\": 1, \"70\": 1, \"49\": 1, \"127\": 1, \"8\": 9, \"125\": 2, \"111\": 7, \"98\": 3, \"101\": 9, \"30\": 1, \"71\": 1, \"112\": 1, \"34\": 1, \"52\": 1, \"100\": 1, \"113\": 1, \"122\": 1}, \"45\": {\"45\": 15, \"22\": 1}, \"85\": {\"85\": 22, \"4\": 1, \"54\": 1, \"95\": 3, \"34\": 1}, \"119\": {\"119\": 16}, \"46\": {\"46\": 19, \"129\": 1}, \"71\": {\"71\": 69, \"114\": 8, \"3\": 1, \"83\": 1, \"4\": 8, \"129\": 1, \"32\": 1, \"98\": 1, \"89\": 3, \"1\": 2, \"7\": 5, \"18\": 1, \"122\": 1, \"124\": 1, \"70\": 1}, \"8\": {\"8\": 90, \"12\": 5, \"101\": 9, \"27\": 6, \"0\": 6, \"98\": 4, \"111\": 2, \"30\": 1, \"71\": 1, \"10\": 1, \"15\": 2, \"113\": 1, \"126\": 1, \"106\": 4, \"26\": 1}, \"118\": {\"118\": 56, \"44\": 6, \"96\": 2, \"99\": 1, \"74\": 1, \"122\": 5, \"62\": 3, \"109\": 2, \"90\": 6, \"33\": 6, \"102\": 10, \"110\": 3, \"39\": 1, \"69\": 1, \"43\": 4, \"32\": 1, \"36\": 1, \"101\": 1, \"16\": 1, \"18\": 1}, \"1\": {\"1\": 74, \"119\": 1, \"14\": 3, \"104\": 1, \"101\": 3, \"3\": 13, \"2\": 1, \"94\": 1, \"105\": 2, \"106\": 1, \"126\": 1, \"7\": 4, \"5\": 1, \"21\": 1, \"108\": 1}, \"38\": {\"66\": 2, \"38\": 10, \"80\": 1, \"57\": 1, \"90\": 1, \"93\": 1}, \"30\": {\"9\": 1, \"30\": 41, \"59\": 1, \"15\": 5, \"108\": 1, \"27\": 1, \"24\": 5, \"94\": 6, \"10\": 5, \"8\": 2, \"6\": 2, \"69\": 1, \"123\": 1, \"109\": 1, \"36\": 1, \"121\": 1, \"11\": 1}, \"66\": {\"66\": 15, \"90\": 1}, \"9\": {\"9\": 24, \"15\": 2, \"53\": 2}, \"5\": {\"5\": 102, \"11\": 10, \"43\": 3, \"110\": 9, \"93\": 5, \"14\": 2, \"87\": 2, \"62\": 1, \"60\": 2}, \"24\": {\"10\": 14, \"24\": 58, \"30\": 5, \"101\": 1, \"94\": 12, \"27\": 5, \"18\": 1, \"36\": 14, \"26\": 1, \"70\": 2, \"9\": 1, \"8\": 1, \"15\": 3, \"106\": 1, \"111\": 1}, \"97\": {\"115\": 1, \"10\": 1, \"47\": 2, \"97\": 12, \"25\": 4}, \"67\": {\"26\": 2, \"67\": 3, \"66\": 1, \"123\": 4, \"48\": 1, \"18\": 2, \"44\": 1, \"81\": 1, \"113\": 1}, \"19\": {\"77\": 2, \"110\": 3, \"27\": 1, \"71\": 1, \"98\": 1, \"0\": 1, \"42\": 1, \"70\": 2, \"52\": 3, \"124\": 1, \"93\": 1, \"19\": 4, \"5\": 1, \"91\": 1, \"20\": 2, \"87\": 1, \"122\": 1, \"8\": 1}, \"77\": {\"77\": 12}, \"26\": {\"26\": 87, \"96\": 1, \"121\": 2, \"61\": 2, \"18\": 14, \"117\": 8, \"81\": 1, \"39\": 1, \"126\": 1, \"30\": 1}, \"115\": {\"24\": 1, \"115\": 12, \"107\": 3}, \"50\": {\"115\": 2, \"50\": 8, \"87\": 1, \"32\": 1, \"14\": 3, \"64\": 1}, \"120\": {\"120\": 19, \"114\": 1}, \"102\": {\"102\": 108, \"90\": 9, \"14\": 1, \"84\": 4, \"92\": 1, \"69\": 1, \"44\": 2, \"16\": 2}, \"29\": {\"29\": 26, \"68\": 1, \"101\": 2, \"111\": 3}, \"44\": {\"44\": 45, \"113\": 1, \"116\": 1, \"62\": 3, \"122\": 1, \"109\": 1, \"16\": 1, \"102\": 5, \"84\": 1, \"90\": 1, \"33\": 2, \"118\": 2}, \"124\": {\"124\": 108, \"37\": 2, \"96\": 1, \"101\": 4, \"129\": 1, \"7\": 2}, \"78\": {\"107\": 1, \"102\": 1, \"21\": 2, \"78\": 7, \"36\": 1, \"113\": 1, \"63\": 1, \"99\": 3, \"93\": 3, \"82\": 1, \"84\": 1, \"71\": 1, \"111\": 1, \"14\": 2, \"33\": 1, \"88\": 2, \"60\": 1, \"73\": 2, \"32\": 1, \"64\": 1, \"83\": 1, \"87\": 1}, \"104\": {\"107\": 1, \"104\": 14, \"17\": 1}, \"105\": {\"28\": 1, \"104\": 1, \"105\": 68, \"40\": 2, \"128\": 1, \"15\": 1, \"14\": 2, \"107\": 9, \"45\": 1, \"120\": 1, \"82\": 2, \"7\": 3, \"3\": 2, \"101\": 2, \"87\": 2, \"18\": 1, \"1\": 1}, \"28\": {\"28\": 20}, \"37\": {\"37\": 16}, \"107\": {\"107\": 99, \"40\": 8, \"105\": 2, \"82\": 1, \"33\": 2, \"87\": 7, \"84\": 2, \"43\": 1, \"109\": 1, \"11\": 2, \"22\": 2, \"50\": 1, \"3\": 3, \"88\": 1}, \"6\": {\"6\": 12, \"75\": 2, \"25\": 1, \"91\": 2, \"101\": 1, \"70\": 1, \"53\": 1, \"36\": 1, \"68\": 1, \"111\": 2}, \"17\": {\"104\": 5, \"17\": 15}, \"57\": {\"57\": 11, \"90\": 2, \"102\": 1, \"33\": 2}, \"121\": {\"57\": 2, \"96\": 1, \"121\": 19, \"16\": 4, \"102\": 1, \"21\": 1, \"84\": 1, \"92\": 1, \"81\": 1, \"117\": 1}, \"58\": {\"58\": 12, \"6\": 2, \"15\": 2}, \"64\": {\"64\": 15, \"22\": 1}, \"82\": {\"82\": 26, \"105\": 2, \"40\": 2, \"87\": 2}, \"39\": {\"18\": 8, \"39\": 43, \"57\": 1, \"80\": 1, \"117\": 4, \"38\": 2, \"2\": 2, \"81\": 2, \"84\": 3, \"113\": 7, \"90\": 2, \"0\": 1, \"69\": 1, \"122\": 1, \"27\": 2, \"26\": 5, \"70\": 1, \"126\": 2, \"102\": 1, \"61\": 2, \"96\": 1, \"121\": 2, \"109\": 2, \"88\": 1, \"36\": 1, \"127\": 1, \"16\": 1}, \"110\": {\"11\": 13, \"87\": 7, \"43\": 4, \"129\": 1, \"26\": 2, \"110\": 57, \"93\": 14, \"5\": 7, \"122\": 1, \"16\": 1, \"33\": 1, \"14\": 4, \"113\": 1, \"21\": 1, \"116\": 1, \"9\": 1, \"73\": 1, \"32\": 1, \"0\": 1, \"128\": 2, \"44\": 1, \"18\": 1, \"88\": 1}, \"114\": {\"114\": 95, \"120\": 5, \"128\": 1, \"71\": 9, \"1\": 6, \"14\": 2, \"90\": 2, \"52\": 1, \"39\": 1, \"129\": 1, \"4\": 3, \"3\": 2}, \"20\": {\"20\": 11, \"28\": 1, \"22\": 1, \"5\": 1, \"73\": 1, \"96\": 1}, \"117\": {\"18\": 6, \"63\": 2, \"117\": 92, \"39\": 1, \"126\": 2, \"16\": 2, \"113\": 3, \"123\": 1, \"81\": 1, \"26\": 1, \"67\": 1, \"92\": 2}, \"18\": {\"18\": 104, \"26\": 11, \"117\": 3, \"16\": 2}, \"99\": {\"99\": 35, \"40\": 2, \"72\": 1, \"74\": 1, \"33\": 1}, \"23\": {\"117\": 1, \"124\": 1, \"103\": 1, \"123\": 1, \"106\": 1, \"122\": 1, \"39\": 2, \"23\": 3, \"129\": 1, \"63\": 1, \"21\": 1, \"108\": 1, \"70\": 1}, \"128\": {\"128\": 10, \"107\": 3, \"124\": 4, \"34\": 1, \"60\": 1, \"14\": 1, \"50\": 1, \"100\": 2, \"72\": 1}, \"60\": {\"128\": 1, \"33\": 3, \"99\": 2, \"88\": 2, \"42\": 1, \"19\": 1, \"60\": 7, \"2\": 1, \"46\": 4, \"114\": 2, \"64\": 1, \"14\": 1, \"71\": 1, \"100\": 1, \"11\": 1, \"129\": 1, \"49\": 2}, \"70\": {\"101\": 2, \"70\": 51, \"88\": 9, \"26\": 1, \"114\": 3, \"98\": 11, \"48\": 1, \"78\": 1, \"19\": 4, \"49\": 2, \"1\": 2, \"106\": 3, \"127\": 2, \"124\": 4, \"118\": 1, \"36\": 1, \"126\": 2, \"8\": 2, \"111\": 3, \"93\": 1, \"112\": 3, \"37\": 1, \"42\": 1, \"100\": 2, \"128\": 1, \"0\": 1, \"24\": 1, \"109\": 1, \"113\": 1, \"12\": 1, \"27\": 1}, \"122\": {\"122\": 40, \"33\": 8, \"44\": 2, \"43\": 7, \"110\": 2, \"109\": 2, \"5\": 5, \"106\": 1, \"107\": 2, \"126\": 1, \"93\": 1, \"11\": 3, \"114\": 1, \"116\": 1, \"40\": 1, \"102\": 3, \"118\": 4}, \"101\": {\"101\": 57, \"67\": 1, \"75\": 2, \"53\": 2, \"42\": 1, \"78\": 1, \"11\": 1, \"12\": 7, \"124\": 2, \"125\": 7, \"52\": 1, \"106\": 8, \"0\": 9, \"98\": 3, \"8\": 11, \"111\": 13, \"93\": 1, \"85\": 2, \"4\": 1, \"1\": 1, \"88\": 1}, \"33\": {\"92\": 1, \"44\": 1, \"84\": 1, \"33\": 117, \"72\": 1, \"122\": 4, \"118\": 1, \"43\": 2, \"40\": 2, \"107\": 2}, \"40\": {\"40\": 108, \"99\": 1, \"39\": 1, \"102\": 2, \"33\": 2, \"105\": 1, \"18\": 1, \"107\": 4, \"87\": 5, \"82\": 1, \"117\": 1, \"113\": 1, \"88\": 1, \"108\": 1}, \"41\": {\"41\": 11, \"55\": 1, \"36\": 1, \"95\": 2, \"21\": 1}, \"59\": {\"59\": 12}, \"4\": {\"4\": 90, \"55\": 2, \"39\": 1, \"38\": 1, \"27\": 1, \"108\": 2, \"62\": 1, \"86\": 2, \"94\": 1, \"71\": 2, \"24\": 1}, \"112\": {\"112\": 13, \"42\": 2, \"27\": 1}, \"36\": {\"30\": 3, \"36\": 95, \"10\": 5, \"24\": 12, \"18\": 1, \"15\": 3, \"94\": 5, \"26\": 1, \"8\": 3}, \"48\": {\"48\": 10, \"84\": 1, \"90\": 2, \"66\": 2, \"72\": 1}, \"126\": {\"126\": 63, \"123\": 1, \"39\": 6, \"81\": 3, \"18\": 5, \"26\": 4, \"113\": 17, \"27\": 2, \"127\": 2, \"117\": 2, \"16\": 2, \"107\": 3, \"69\": 1, \"84\": 4, \"43\": 1}, \"125\": {\"77\": 2, \"125\": 107, \"75\": 2, \"113\": 1, \"8\": 3, \"106\": 2, \"98\": 2, \"27\": 1, \"18\": 1, \"90\": 1}, \"84\": {\"84\": 92, \"48\": 1, \"21\": 1, \"69\": 10, \"44\": 2, \"36\": 1, \"90\": 5, \"39\": 1, \"27\": 1, \"33\": 3, \"117\": 1, \"126\": 1, \"43\": 1, \"2\": 1, \"102\": 1, \"106\": 1, \"5\": 1, \"88\": 2, \"26\": 2}, \"80\": {\"80\": 16}, \"49\": {\"20\": 2, \"29\": 1, \"106\": 2, \"79\": 1, \"11\": 4, \"14\": 1, \"8\": 3, \"127\": 1, \"122\": 1, \"60\": 2, \"49\": 1, \"3\": 1, \"72\": 2, \"5\": 4, \"73\": 1, \"87\": 1, \"12\": 1, \"32\": 3}, \"47\": {\"54\": 1, \"47\": 8, \"15\": 1, \"6\": 2}, \"95\": {\"95\": 25, \"37\": 1, \"85\": 4, \"4\": 1, \"55\": 1}, \"54\": {\"54\": 16}, \"25\": {\"25\": 16}, \"116\": {\"116\": 19, \"69\": 2, \"92\": 1, \"90\": 2, \"44\": 3, \"40\": 1}, \"74\": {\"74\": 14, \"118\": 1, \"122\": 1}, \"35\": {\"35\": 9, \"117\": 2, \"123\": 1}, \"15\": {\"15\": 104, \"54\": 1, \"59\": 1, \"94\": 5, \"8\": 1, \"30\": 8, \"0\": 1, \"108\": 1, \"36\": 1, \"27\": 1, \"12\": 2, \"101\": 2}, \"108\": {\"5\": 9, \"41\": 1, \"108\": 37, \"73\": 2, \"88\": 5, \"109\": 1, \"49\": 1, \"71\": 3, \"14\": 2, \"94\": 1, \"93\": 8, \"127\": 1, \"122\": 1, \"36\": 1, \"18\": 1, \"27\": 1, \"110\": 4, \"31\": 1, \"30\": 1, \"70\": 1, \"63\": 1, \"84\": 1, \"23\": 1, \"60\": 1, \"121\": 1, \"114\": 1, \"87\": 1, \"11\": 3}, \"34\": {\"3\": 1, \"85\": 1, \"6\": 2, \"86\": 2, \"49\": 2, \"70\": 1, \"46\": 2, \"127\": 1, \"1\": 1, \"100\": 1, \"34\": 2, \"124\": 4, \"125\": 1, \"128\": 1, \"71\": 3, \"103\": 2, \"30\": 1, \"119\": 1, \"75\": 1, \"68\": 2}, \"81\": {\"81\": 23, \"18\": 4, \"117\": 1, \"113\": 4, \"63\": 2, \"65\": 1, \"44\": 1}, \"93\": {\"93\": 103, \"110\": 5, \"108\": 3, \"5\": 8, \"11\": 4, \"113\": 1, \"73\": 1, \"43\": 1, \"124\": 1, \"107\": 1}, \"55\": {\"55\": 15, \"86\": 1}, \"27\": {\"27\": 63, \"0\": 5, \"8\": 10, \"106\": 5, \"70\": 2, \"122\": 1, \"98\": 3, \"71\": 2, \"24\": 2, \"101\": 1, \"94\": 2, \"15\": 1, \"12\": 1, \"36\": 1, \"3\": 1}, \"109\": {\"64\": 1, \"109\": 49, \"122\": 6, \"90\": 6, \"116\": 5, \"126\": 1, \"0\": 1, \"43\": 8, \"33\": 1, \"102\": 3, \"16\": 1, \"69\": 3, \"117\": 2, \"118\": 10, \"62\": 2, \"44\": 2, \"72\": 1, \"108\": 1, \"110\": 4, \"127\": 1, \"93\": 2}, \"106\": {\"47\": 1, \"125\": 1, \"91\": 1, \"106\": 55, \"103\": 1, \"0\": 8, \"98\": 1, \"70\": 1, \"42\": 1, \"12\": 12, \"111\": 7, \"101\": 7, \"108\": 1, \"113\": 1, \"8\": 6, \"58\": 2, \"26\": 1, \"53\": 2, \"127\": 1, \"71\": 1, \"10\": 1, \"126\": 1, \"29\": 1, \"24\": 2}, \"68\": {\"77\": 1, \"68\": 11, \"91\": 2, \"121\": 1, \"98\": 1}, \"76\": {\"93\": 1, \"76\": 13, \"78\": 1, \"87\": 1}, \"103\": {\"103\": 15, \"106\": 1}, \"42\": {\"34\": 2, \"42\": 7, \"53\": 2, \"83\": 2, \"56\": 1, \"101\": 1, \"100\": 2, \"119\": 1, \"106\": 1, \"0\": 2, \"70\": 1, \"124\": 1, \"98\": 1, \"52\": 2, \"129\": 2}, \"129\": {\"0\": 1, \"129\": 4, \"14\": 4, \"111\": 3, \"33\": 1, \"98\": 2, \"110\": 2, \"11\": 1, \"85\": 2, \"79\": 2, \"87\": 1, \"52\": 1, \"73\": 1, \"41\": 1, \"3\": 2}, \"94\": {\"94\": 62, \"97\": 1, \"39\": 1, \"88\": 1, \"6\": 1, \"36\": 4, \"10\": 3, \"24\": 2, \"3\": 2, \"30\": 3, \"21\": 1, \"108\": 2, \"8\": 1, \"109\": 1, \"117\": 1, \"15\": 2}, \"123\": {\"123\": 15, \"35\": 1}, \"61\": {\"61\": 14, \"26\": 1, \"65\": 1}, \"51\": {\"39\": 1, \"51\": 2, \"111\": 1, \"121\": 1, \"27\": 3, \"21\": 2, \"58\": 1, \"63\": 1, \"53\": 2, \"106\": 2}, \"98\": {\"33\": 1, \"100\": 1, \"98\": 96, \"69\": 1, \"122\": 1, \"85\": 1, \"0\": 4, \"127\": 3, \"117\": 1, \"18\": 1, \"11\": 1, \"39\": 1, \"111\": 1, \"4\": 1, \"109\": 1, \"118\": 1, \"84\": 2}, \"56\": {\"56\": 7, \"4\": 2, \"55\": 1, \"37\": 2}, \"14\": {\"32\": 3, \"14\": 73, \"60\": 1, \"116\": 1, \"1\": 2, \"87\": 8, \"5\": 7, \"16\": 1, \"110\": 1, \"105\": 1, \"3\": 4, \"107\": 2, \"23\": 1, \"28\": 2, \"44\": 1, \"11\": 1, \"39\": 1, \"118\": 1, \"40\": 1}, \"90\": {\"90\": 102, \"57\": 2, \"102\": 18, \"62\": 1, \"84\": 2, \"69\": 3, \"18\": 1, \"116\": 2, \"66\": 1, \"118\": 1, \"13\": 2, \"92\": 3}, \"13\": {\"13\": 13, \"69\": 1, \"90\": 2}, \"89\": {\"89\": 26, \"40\": 1, \"7\": 2, \"12\": 1, \"114\": 2}, \"52\": {\"52\": 16, \"110\": 1, \"3\": 1, \"73\": 2}, \"72\": {\"14\": 4, \"72\": 18, \"3\": 2, \"5\": 2, \"124\": 1, \"11\": 3, \"116\": 1, \"99\": 1}, \"79\": {\"79\": 16}, \"113\": {\"113\": 71, \"117\": 16, \"39\": 10, \"84\": 2, \"121\": 2, \"26\": 8, \"24\": 1, \"126\": 10, \"108\": 1, \"2\": 1, \"109\": 1, \"16\": 3}}, \"Wisig_1\": {\"68\": {\"68\": 15, \"98\": 1}, \"7\": {\"81\": 3, \"7\": 114, \"87\": 1, \"122\": 9, \"43\": 15}, \"125\": {\"125\": 114, \"51\": 2, \"127\": 2}, \"111\": {\"111\": 93, \"12\": 7, \"58\": 1, \"127\": 9, \"116\": 1, \"71\": 3, \"88\": 1, \"106\": 1, \"93\": 1, \"72\": 2, \"125\": 1}, \"101\": {\"101\": 109, \"72\": 1, \"29\": 1, \"12\": 4, \"15\": 3, \"0\": 1, \"111\": 3, \"112\": 1, \"113\": 1}, \"11\": {\"11\": 75, \"3\": 10, \"82\": 4, \"116\": 1, \"102\": 2, \"33\": 8, \"118\": 2, \"26\": 1, \"90\": 15, \"1\": 1, \"39\": 1, \"120\": 1, \"61\": 1, \"65\": 1, \"50\": 1, \"81\": 1, \"60\": 1, \"42\": 1, \"7\": 2, \"99\": 1, \"62\": 2, \"43\": 2, \"109\": 1, \"69\": 1}, \"76\": {\"76\": 13, \"33\": 2, \"62\": 1}, \"5\": {\"5\": 78, \"83\": 3, \"23\": 1, \"44\": 1, \"86\": 1, \"34\": 2, \"31\": 1, \"39\": 1}, \"123\": {\"123\": 13, \"83\": 1, \"121\": 1, \"19\": 1}, \"85\": {\"85\": 26, \"77\": 1, \"107\": 1, \"106\": 1, \"92\": 1, \"10\": 2}, \"34\": {\"68\": 2, \"77\": 1, \"34\": 7, \"35\": 1, \"41\": 1, \"87\": 2, \"104\": 1, \"91\": 1, \"17\": 2, \"84\": 1, \"0\": 2, \"105\": 1, \"37\": 2, \"14\": 3, \"98\": 1, \"93\": 1, \"128\": 1, \"85\": 1, \"92\": 1}, \"42\": {\"5\": 4, \"11\": 2, \"66\": 1, \"19\": 1, \"100\": 2, \"23\": 1, \"81\": 1, \"104\": 1, \"86\": 1, \"42\": 7, \"43\": 1, \"124\": 4, \"14\": 1, \"44\": 1}, \"81\": {\"81\": 21, \"100\": 1, \"120\": 1, \"25\": 2, \"82\": 1, \"128\": 1, \"38\": 1}, \"127\": {\"111\": 5, \"127\": 92, \"12\": 1, \"36\": 1, \"53\": 2, \"72\": 2, \"106\": 1, \"88\": 1, \"110\": 1, \"125\": 2}, \"60\": {\"5\": 2, \"34\": 2, \"117\": 3, \"83\": 2, \"95\": 1, \"18\": 1, \"124\": 1, \"60\": 1, \"16\": 1, \"102\": 1, \"14\": 1}, \"77\": {\"77\": 15, \"85\": 1}, \"65\": {\"123\": 1, \"33\": 1, \"65\": 4, \"38\": 1, \"121\": 1, \"18\": 1, \"115\": 1, \"43\": 2}, \"44\": {\"44\": 75, \"10\": 1}, \"100\": {\"100\": 15, \"3\": 1}, \"80\": {\"80\": 16}, \"83\": {\"83\": 20, \"0\": 1, \"98\": 1, \"86\": 2, \"129\": 1, \"34\": 2, \"5\": 1}, \"51\": {\"51\": 14, \"35\": 1, \"98\": 1}, \"93\": {\"44\": 4, \"83\": 1, \"93\": 46, \"128\": 1, \"61\": 1, \"86\": 1, \"70\": 2, \"105\": 4, \"4\": 18, \"114\": 4, \"5\": 3, \"8\": 13, \"40\": 5, \"1\": 2, \"14\": 4, \"43\": 2, \"84\": 5, \"117\": 1, \"124\": 7, \"18\": 1, \"107\": 3, \"41\": 1, \"104\": 1, \"79\": 1, \"85\": 1, \"102\": 1, \"87\": 1}, \"31\": {\"31\": 12, \"23\": 2, \"49\": 1, \"5\": 1}, \"33\": {\"33\": 101, \"76\": 2, \"102\": 3, \"90\": 4, \"64\": 1, \"116\": 1, \"62\": 9, \"11\": 2, \"3\": 2, \"93\": 1}, \"113\": {\"113\": 114, \"18\": 2, \"69\": 1, \"16\": 4, \"43\": 1, \"117\": 2}, \"126\": {\"44\": 11, \"126\": 88, \"19\": 2, \"96\": 1, \"117\": 1, \"21\": 1, \"9\": 1, \"70\": 4, \"107\": 1, \"110\": 1, \"71\": 1, \"124\": 3, \"10\": 5, \"26\": 1, \"8\": 2, \"108\": 1}, \"10\": {\"126\": 6, \"10\": 38, \"107\": 15, \"83\": 3, \"70\": 11, \"86\": 2, \"0\": 4, \"77\": 1, \"4\": 6, \"9\": 1, \"2\": 1, \"110\": 3, \"5\": 5, \"93\": 3, \"44\": 1, \"124\": 2, \"84\": 1, \"1\": 1, \"98\": 1, \"108\": 4, \"29\": 1, \"41\": 2, \"34\": 1, \"85\": 1, \"96\": 1, \"106\": 3, \"8\": 1, \"71\": 1}, \"21\": {\"100\": 1, \"21\": 16, \"20\": 1, \"42\": 3, \"126\": 2, \"124\": 1, \"8\": 2, \"84\": 1, \"109\": 1, \"18\": 1, \"72\": 1, \"87\": 4, \"64\": 1, \"81\": 1, \"111\": 2, \"108\": 1, \"15\": 1}, \"90\": {\"90\": 111, \"33\": 5, \"50\": 1, \"3\": 8, \"116\": 3, \"16\": 1, \"61\": 1, \"62\": 2}, \"38\": {\"38\": 13, \"28\": 2, \"25\": 1}, \"96\": {\"96\": 16, \"126\": 2, \"109\": 1, \"24\": 1}, \"6\": {\"37\": 1, \"6\": 10, \"53\": 2, \"94\": 2, \"127\": 1, \"125\": 4, \"112\": 1, \"27\": 1, \"98\": 3, \"71\": 2, \"68\": 1, \"30\": 1, \"52\": 1, \"36\": 2}, \"121\": {\"113\": 5, \"123\": 3, \"121\": 19, \"117\": 1, \"63\": 2, \"26\": 2}, \"37\": {\"37\": 16}, \"88\": {\"94\": 12, \"88\": 66, \"52\": 1, \"30\": 7, \"24\": 11, \"108\": 4, \"15\": 10, \"36\": 4, \"27\": 7, \"109\": 1, \"71\": 2, \"43\": 1}, \"54\": {\"54\": 15, \"5\": 1}, \"92\": {\"92\": 28}, \"19\": {\"96\": 2, \"19\": 10, \"42\": 2, \"43\": 2, \"84\": 1, \"89\": 1, \"8\": 1, \"5\": 1, \"124\": 1, \"79\": 1, \"104\": 1, \"129\": 1, \"107\": 1, \"10\": 2, \"9\": 1}, \"47\": {\"47\": 12}, \"94\": {\"6\": 1, \"94\": 73, \"30\": 1, \"36\": 3, \"27\": 5, \"88\": 6, \"18\": 1, \"52\": 1, \"113\": 1}, \"66\": {\"66\": 16}, \"73\": {\"73\": 16, \"59\": 1, \"22\": 2, \"31\": 1}, \"75\": {\"75\": 14, \"68\": 1, \"71\": 1}, \"28\": {\"28\": 11, \"102\": 1, \"122\": 1, \"38\": 3, \"93\": 1, \"120\": 1, \"101\": 1, \"43\": 1}, \"20\": {\"20\": 14, \"64\": 2}, \"78\": {\"24\": 1, \"28\": 1, \"87\": 3, \"102\": 1, \"122\": 1, \"78\": 4, \"64\": 2, \"80\": 2, \"11\": 1}, \"71\": {\"71\": 67, \"12\": 7, \"109\": 1, \"110\": 1, \"101\": 4, \"125\": 6, \"111\": 4, \"15\": 3, \"0\": 1, \"117\": 1, \"127\": 5, \"98\": 2, \"21\": 1, \"106\": 1}, \"13\": {\"13\": 14, \"119\": 1, \"16\": 1}, \"118\": {\"121\": 1, \"118\": 50, \"63\": 2, \"26\": 11, \"117\": 6, \"16\": 9, \"18\": 2, \"113\": 2, \"88\": 1}, \"72\": {\"72\": 28, \"29\": 3, \"9\": 1}, \"24\": {\"24\": 49, \"30\": 1, \"88\": 10, \"27\": 10, \"71\": 3, \"15\": 8, \"108\": 6, \"12\": 2, \"101\": 2, \"126\": 1}, \"41\": {\"41\": 11, \"23\": 1, \"38\": 1, \"40\": 1, \"60\": 2}, \"102\": {\"102\": 106, \"61\": 2, \"66\": 1, \"62\": 5, \"33\": 5, \"127\": 1}, \"8\": {\"123\": 1, \"8\": 94, \"124\": 20, \"5\": 3, \"104\": 1, \"128\": 1, \"19\": 4, \"14\": 2, \"44\": 2, \"43\": 1, \"62\": 1, \"93\": 3, \"71\": 1, \"105\": 1, \"57\": 1, \"96\": 1, \"1\": 1}, \"39\": {\"39\": 54, \"117\": 10, \"18\": 16, \"16\": 5, \"33\": 1, \"109\": 1, \"11\": 2, \"88\": 1, \"26\": 1, \"61\": 1, \"2\": 1, \"69\": 1, \"102\": 1, \"12\": 1}, \"97\": {\"108\": 2, \"94\": 1, \"24\": 1, \"97\": 14, \"101\": 1, \"2\": 1}, \"48\": {\"48\": 11, \"114\": 1}, \"57\": {\"57\": 12}, \"29\": {\"29\": 26, \"111\": 1, \"72\": 1}, \"119\": {\"119\": 16}, \"89\": {\"89\": 36}, \"40\": {\"40\": 124, \"41\": 2, \"105\": 6, \"114\": 6, \"43\": 2}, \"22\": {\"97\": 1, \"22\": 13, \"80\": 2}, \"53\": {\"53\": 16, \"32\": 1, \"91\": 1, \"49\": 1, \"12\": 1}, \"108\": {\"97\": 2, \"108\": 77, \"111\": 3, \"53\": 1, \"24\": 2, \"88\": 5, \"15\": 5, \"101\": 6, \"30\": 1, \"12\": 5, \"105\": 1, \"11\": 2, \"0\": 2, \"71\": 2, \"1\": 1, \"70\": 2, \"27\": 1, \"9\": 1, \"109\": 2, \"43\": 2, \"127\": 1}, \"23\": {\"89\": 2, \"100\": 2, \"25\": 2, \"35\": 2, \"82\": 2, \"110\": 1, \"99\": 1, \"75\": 2, \"5\": 1, \"11\": 2, \"81\": 1, \"74\": 1, \"23\": 1, \"29\": 1, \"9\": 1, \"91\": 2}, \"109\": {\"109\": 64, \"21\": 1, \"93\": 1, \"79\": 1, \"70\": 10, \"42\": 1, \"1\": 10, \"43\": 4, \"26\": 1, \"62\": 1, \"14\": 1, \"126\": 7, \"101\": 1, \"11\": 2, \"122\": 2, \"111\": 1, \"87\": 2, \"71\": 2, \"12\": 1, \"39\": 1, \"7\": 1, \"10\": 1}, \"112\": {\"112\": 15, \"12\": 1}, \"35\": {\"41\": 2, \"35\": 10}, \"3\": {\"100\": 1, \"3\": 73, \"62\": 2, \"33\": 1, \"11\": 3, \"125\": 1, \"36\": 1, \"129\": 2, \"90\": 2, \"71\": 1, \"111\": 1}, \"103\": {\"23\": 1, \"94\": 1, \"106\": 2, \"103\": 10, \"52\": 1, \"49\": 1}, \"4\": {\"4\": 95, \"93\": 3, \"39\": 1, \"25\": 1}, \"87\": {\"87\": 50, \"78\": 3, \"115\": 1, \"40\": 6, \"124\": 1, \"45\": 1, \"48\": 1, \"1\": 9, \"43\": 6, \"108\": 1, \"105\": 3, \"14\": 4, \"7\": 2, \"84\": 2, \"114\": 10, \"46\": 1, \"128\": 2, \"4\": 2, \"70\": 1, \"93\": 1, \"122\": 1}, \"25\": {\"25\": 9, \"120\": 1, \"122\": 2, \"81\": 1, \"82\": 2, \"113\": 1}, \"15\": {\"15\": 72, \"111\": 3, \"24\": 1, \"12\": 6, \"94\": 2, \"69\": 1, \"27\": 5, \"108\": 1, \"101\": 6, \"71\": 2, \"121\": 1, \"88\": 2, \"127\": 1, \"117\": 1}, \"95\": {\"95\": 27, \"117\": 2, \"26\": 3, \"18\": 1, \"13\": 1, \"16\": 2}, \"120\": {\"120\": 13, \"81\": 1, \"48\": 2, \"62\": 1, \"105\": 1, \"123\": 1, \"121\": 1}, \"59\": {\"52\": 1, \"59\": 8, \"36\": 2, \"118\": 1}, \"49\": {\"49\": 5, \"52\": 2, \"70\": 1, \"9\": 2, \"5\": 1, \"96\": 1, \"53\": 1, \"110\": 1, \"71\": 1, \"103\": 1, \"73\": 1, \"10\": 1, \"124\": 1, \"89\": 1}, \"52\": {\"52\": 18, \"70\": 1, \"24\": 1}, \"45\": {\"87\": 1, \"78\": 1, \"7\": 1, \"1\": 1, \"47\": 1, \"92\": 1, \"84\": 2, \"82\": 1, \"120\": 1, \"122\": 1, \"24\": 1}, \"107\": {\"107\": 120, \"10\": 1, \"85\": 1, \"34\": 2}, \"106\": {\"106\": 104, \"10\": 1, \"98\": 14, \"32\": 3, \"0\": 7, \"110\": 2, \"91\": 2, \"111\": 1}, \"18\": {\"18\": 109, \"13\": 2, \"95\": 1, \"11\": 1, \"39\": 2, \"69\": 5, \"117\": 2, \"118\": 1, \"26\": 1}, \"64\": {\"64\": 14, \"20\": 1, \"14\": 1}, \"86\": {\"86\": 29, \"83\": 3, \"14\": 2, \"108\": 1, \"4\": 1}, \"14\": {\"64\": 3, \"14\": 75, \"128\": 1, \"84\": 5, \"1\": 1, \"93\": 4, \"129\": 2, \"122\": 2, \"42\": 1, \"8\": 1, \"87\": 1}, \"115\": {\"115\": 8, \"64\": 1, \"81\": 2, \"20\": 1}, \"0\": {\"106\": 10, \"0\": 50, \"29\": 1, \"98\": 13, \"125\": 2, \"110\": 4, \"91\": 1, \"83\": 1, \"56\": 1, \"94\": 1}, \"104\": {\"8\": 1, \"104\": 14, \"79\": 1}, \"61\": {\"61\": 11, \"90\": 1}, \"129\": {\"61\": 1, \"8\": 1, \"28\": 1, \"99\": 4, \"122\": 2, \"128\": 2, \"23\": 1, \"62\": 1, \"5\": 2, \"90\": 1, \"78\": 2, \"83\": 1, \"3\": 3, \"129\": 4, \"60\": 2}, \"122\": {\"129\": 1, \"25\": 1, \"78\": 2, \"60\": 2, \"122\": 45, \"14\": 3, \"7\": 12, \"74\": 3, \"114\": 5, \"43\": 5, \"26\": 1, \"1\": 3, \"28\": 2, \"38\": 1, \"39\": 1, \"40\": 1}, \"67\": {\"67\": 14, \"21\": 1, \"97\": 1}, \"128\": {\"57\": 3, \"91\": 2, \"72\": 3, \"93\": 1, \"9\": 1, \"129\": 1, \"87\": 2, \"85\": 1, \"7\": 1, \"89\": 2, \"81\": 3, \"38\": 1, \"49\": 1, \"29\": 1, \"96\": 1}, \"26\": {\"117\": 14, \"26\": 91, \"95\": 3, \"118\": 9, \"16\": 14, \"105\": 1, \"63\": 1, \"121\": 1}, \"117\": {\"95\": 2, \"117\": 112, \"26\": 16, \"118\": 4, \"16\": 2}, \"91\": {\"91\": 16, \"12\": 1, \"98\": 1, \"53\": 2, \"110\": 1, \"0\": 2, \"103\": 1, \"32\": 1, \"71\": 1, \"75\": 1, \"34\": 1}, \"12\": {\"12\": 73, \"112\": 2, \"127\": 7, \"98\": 1, \"15\": 1, \"111\": 5, \"70\": 1, \"36\": 1, \"101\": 3, \"108\": 3, \"6\": 2, \"71\": 3, \"125\": 2}, \"50\": {\"61\": 1, \"50\": 12, \"62\": 2, \"116\": 1}, \"99\": {\"100\": 2, \"99\": 16, \"25\": 1, \"82\": 1, \"129\": 1, \"42\": 1, \"11\": 2}, \"110\": {\"110\": 92, \"89\": 1, \"98\": 4, \"9\": 2, \"106\": 4, \"0\": 1}, \"43\": {\"43\": 48, \"115\": 1, \"129\": 1, \"22\": 2, \"84\": 3, \"14\": 2, \"42\": 3, \"36\": 1, \"114\": 4, \"7\": 22, \"122\": 6, \"87\": 5, \"39\": 1, \"101\": 1, \"1\": 5, \"23\": 1, \"28\": 2, \"40\": 1, \"93\": 2, \"109\": 1, \"24\": 1, \"15\": 1, \"18\": 1, \"62\": 1}, \"82\": {\"82\": 34, \"100\": 1, \"42\": 1}, \"1\": {\"1\": 88, \"129\": 2, \"87\": 3, \"43\": 1, \"14\": 1, \"88\": 1}, \"46\": {\"6\": 1, \"14\": 1, \"46\": 3, \"93\": 1, \"32\": 1, \"78\": 2, \"127\": 1, \"105\": 1, \"94\": 1}, \"16\": {\"16\": 69, \"95\": 1, \"118\": 9, \"39\": 1, \"26\": 14, \"69\": 2, \"117\": 10, \"102\": 2}, \"74\": {\"74\": 14, \"28\": 1, \"122\": 1}, \"32\": {\"32\": 14, \"29\": 2, \"112\": 3, \"111\": 3, \"0\": 1, \"127\": 1, \"125\": 1, \"91\": 2, \"51\": 1, \"110\": 1, \"71\": 1, \"106\": 1, \"53\": 1}, \"62\": {\"62\": 82, \"50\": 1, \"2\": 1, \"102\": 9, \"33\": 12, \"90\": 5, \"70\": 1, \"11\": 2, \"116\": 1, \"94\": 1, \"69\": 2, \"3\": 3}, \"27\": {\"27\": 52, \"56\": 2, \"111\": 2, \"30\": 8, \"126\": 1, \"94\": 10, \"88\": 7, \"15\": 2, \"6\": 2, \"69\": 1, \"21\": 1, \"101\": 2, \"24\": 2}, \"17\": {\"17\": 12, \"34\": 2, \"89\": 1, \"106\": 1}, \"36\": {\"36\": 128, \"24\": 2, \"101\": 2, \"39\": 1, \"88\": 1}, \"2\": {\"18\": 5, \"66\": 1, \"90\": 2, \"2\": 12, \"116\": 2, \"102\": 4, \"39\": 3, \"13\": 1, \"82\": 1, \"81\": 1}, \"70\": {\"73\": 2, \"70\": 42, \"27\": 1, \"124\": 6, \"23\": 1, \"9\": 1, \"8\": 12, \"104\": 2, \"102\": 1, \"110\": 3, \"126\": 7, \"19\": 1, \"93\": 5, \"44\": 7, \"118\": 3, \"117\": 2, \"109\": 4, \"43\": 1, \"10\": 7, \"71\": 2, \"5\": 5, \"113\": 1, \"108\": 1, \"129\": 1, \"89\": 2, \"35\": 1, \"0\": 1, \"106\": 1, \"107\": 3, \"26\": 1, \"98\": 1}, \"9\": {\"9\": 32}, \"114\": {\"114\": 104, \"87\": 4, \"105\": 5, \"84\": 8, \"40\": 8, \"14\": 1}, \"79\": {\"79\": 11, \"19\": 1}, \"56\": {\"34\": 1, \"17\": 1, \"56\": 6, \"98\": 1, \"101\": 1, \"110\": 1, \"0\": 1}, \"124\": {\"124\": 86, \"8\": 12, \"122\": 1, \"93\": 2, \"43\": 1}, \"84\": {\"84\": 101, \"87\": 7, \"14\": 8, \"114\": 13, \"8\": 1, \"1\": 4}, \"69\": {\"69\": 96, \"16\": 1, \"2\": 1, \"26\": 1, \"18\": 2, \"118\": 3, \"65\": 1, \"102\": 3}, \"58\": {\"58\": 9, \"125\": 1, \"111\": 1, \"112\": 1}, \"30\": {\"24\": 4, \"94\": 1, \"30\": 33, \"27\": 5, \"126\": 2, \"88\": 2, \"58\": 1, \"15\": 1, \"36\": 1, \"6\": 2}, \"55\": {\"55\": 10, \"86\": 1, \"93\": 1}, \"105\": {\"105\": 67, \"84\": 3, \"40\": 3, \"93\": 2, \"43\": 2, \"114\": 4, \"5\": 1, \"64\": 1, \"41\": 1}, \"63\": {\"117\": 1, \"63\": 12, \"118\": 1, \"26\": 2}, \"98\": {\"0\": 6, \"106\": 17, \"98\": 79, \"110\": 4, \"127\": 1, \"6\": 1}, \"116\": {\"116\": 12, \"2\": 1, \"33\": 3, \"102\": 3, \"90\": 3, \"62\": 4, \"66\": 1, \"119\": 1, \"3\": 3, \"60\": 1}}, \"Wisig_3\": {\"76\": {\"76\": 16}, \"6\": {\"46\": 1, \"54\": 1, \"58\": 2, \"6\": 8, \"12\": 1, \"111\": 4, \"125\": 3, \"101\": 3, \"68\": 1, \"72\": 1, \"94\": 3, \"98\": 1, \"97\": 2, \"95\": 1}, \"108\": {\"46\": 3, \"124\": 14, \"85\": 1, \"108\": 55, \"127\": 3, \"94\": 1, \"10\": 13, \"111\": 2, \"70\": 6, \"125\": 1, \"8\": 3, \"12\": 1, \"98\": 2, \"114\": 1}, \"29\": {\"90\": 1, \"29\": 24, \"116\": 1, \"30\": 1, \"102\": 1, \"80\": 1, \"31\": 2, \"82\": 1}, \"83\": {\"83\": 24}, \"18\": {\"18\": 122, \"81\": 3, \"88\": 1, \"78\": 1, \"117\": 1}, \"54\": {\"54\": 15, \"94\": 1}, \"15\": {\"15\": 85, \"30\": 6, \"0\": 11, \"106\": 2}, \"100\": {\"100\": 13, \"50\": 1, \"22\": 1, \"107\": 1}, \"90\": {\"90\": 111, \"45\": 2, \"84\": 7, \"44\": 6, \"105\": 1, \"69\": 1, \"87\": 4, \"31\": 1, \"50\": 1, \"18\": 1, \"40\": 1}, \"26\": {\"121\": 2, \"26\": 109, \"117\": 10, \"39\": 1, \"113\": 4, \"5\": 1, \"18\": 1, \"2\": 2, \"43\": 2}, \"115\": {\"115\": 10, \"100\": 1, \"29\": 2, \"74\": 2, \"22\": 1}, \"94\": {\"94\": 71, \"0\": 3, \"24\": 1, \"15\": 4, \"125\": 2, \"30\": 2, \"102\": 1}, \"46\": {\"46\": 15, \"127\": 1}, \"121\": {\"121\": 24, \"113\": 4, \"117\": 2, \"81\": 1, \"18\": 1}, \"109\": {\"121\": 2, \"109\": 53, \"102\": 12, \"119\": 2, \"80\": 2, \"82\": 2, \"69\": 6, \"43\": 6, \"118\": 15, \"114\": 1, \"117\": 1, \"33\": 5, \"113\": 3, \"5\": 4, \"11\": 2, \"89\": 1, \"63\": 1, \"64\": 1, \"39\": 3, \"93\": 3, \"62\": 3}, \"101\": {\"101\": 31, \"51\": 1, \"58\": 4, \"0\": 1, \"111\": 2, \"36\": 1, \"15\": 2, \"6\": 3, \"59\": 2, \"72\": 1, \"125\": 1, \"8\": 1, \"73\": 2}, \"99\": {\"99\": 28, \"86\": 2, \"3\": 4, \"95\": 2}, \"8\": {\"8\": 91, \"47\": 2, \"12\": 8, \"111\": 7, \"10\": 4, \"30\": 1, \"26\": 1, \"98\": 3, \"112\": 1, \"52\": 2, \"83\": 1, \"108\": 2, \"27\": 1, \"124\": 3, \"15\": 1}, \"102\": {\"102\": 91, \"33\": 9, \"69\": 2, \"62\": 2}, \"122\": {\"113\": 1, \"122\": 34, \"84\": 1, \"17\": 1, \"53\": 2, \"105\": 1, \"4\": 2, \"107\": 4, \"1\": 1, \"32\": 2, \"26\": 1, \"127\": 1, \"40\": 1, \"48\": 1, \"126\": 1, \"129\": 1, \"128\": 2, \"23\": 1, \"114\": 1, \"14\": 1}, \"36\": {\"36\": 100, \"27\": 7, \"24\": 4, \"0\": 2, \"98\": 1, \"108\": 1, \"10\": 1}, \"113\": {\"123\": 4, \"113\": 80, \"26\": 13, \"117\": 9, \"39\": 4, \"126\": 1, \"18\": 3, \"43\": 2, \"118\": 1, \"62\": 2, \"36\": 1}, \"123\": {\"123\": 12, \"39\": 1, \"117\": 2, \"113\": 1}, \"120\": {\"120\": 19, \"2\": 1}, \"125\": {\"125\": 98, \"101\": 2, \"111\": 2, \"98\": 2, \"118\": 1, \"73\": 1, \"12\": 2}, \"89\": {\"89\": 23, \"30\": 1, \"92\": 2, \"69\": 2}, \"9\": {\"9\": 30, \"66\": 2}, \"31\": {\"31\": 19, \"90\": 1}, \"62\": {\"62\": 81, \"13\": 1, \"116\": 6, \"33\": 2, \"117\": 2, \"90\": 8, \"84\": 12, \"126\": 1, \"110\": 1}, \"49\": {\"23\": 1, \"101\": 1, \"14\": 2, \"19\": 1, \"118\": 1, \"45\": 1, \"0\": 1, \"22\": 1, \"113\": 1, \"60\": 3, \"72\": 1, \"16\": 1, \"57\": 1, \"42\": 2, \"49\": 1, \"121\": 1, \"98\": 1, \"6\": 1, \"11\": 2}, \"23\": {\"18\": 4, \"49\": 2, \"23\": 4, \"85\": 2, \"70\": 1, \"46\": 1, \"26\": 3, \"98\": 2, \"113\": 1, \"71\": 1, \"117\": 2, \"2\": 2, \"95\": 1, \"121\": 2, \"89\": 1, \"108\": 1, \"124\": 1, \"126\": 1}, \"55\": {\"55\": 16}, \"128\": {\"49\": 1, \"28\": 1, \"128\": 5, \"85\": 1, \"10\": 1, \"122\": 2, \"124\": 3, \"1\": 4, \"107\": 3, \"111\": 2, \"65\": 2, \"73\": 1, \"98\": 1, \"129\": 1, \"72\": 1, \"105\": 1, \"99\": 2}, \"71\": {\"71\": 51, \"3\": 3, \"56\": 1, \"86\": 3, \"5\": 3, \"26\": 1, \"4\": 1, \"34\": 1, \"100\": 1, \"114\": 2, \"127\": 1}, \"51\": {\"101\": 1, \"51\": 15}, \"7\": {\"7\": 89, \"71\": 3, \"3\": 2, \"99\": 1, \"127\": 5, \"5\": 1, \"56\": 1, \"95\": 1, \"9\": 3}, \"117\": {\"117\": 82, \"26\": 14, \"113\": 6, \"39\": 2}, \"28\": {\"28\": 9, \"23\": 1, \"87\": 1, \"32\": 3, \"107\": 1, \"44\": 1}, \"127\": {\"128\": 4, \"127\": 110, \"9\": 2, \"46\": 2, \"7\": 6, \"19\": 2, \"17\": 1, \"34\": 1}, \"57\": {\"57\": 17, \"28\": 2, \"17\": 1}, \"78\": {\"23\": 1, \"28\": 1, \"101\": 2, \"78\": 6, \"22\": 1, \"84\": 1, \"54\": 1, \"40\": 1, \"38\": 1, \"108\": 1}, \"87\": {\"40\": 6, \"87\": 55, \"115\": 1, \"48\": 3, \"44\": 7, \"84\": 6, \"107\": 1, \"116\": 1, \"16\": 4, \"90\": 15, \"93\": 7, \"14\": 5, \"11\": 5, \"62\": 1, \"29\": 2, \"27\": 1}, \"40\": {\"40\": 113, \"115\": 1, \"79\": 2, \"70\": 1, \"117\": 1, \"87\": 1, \"90\": 2, \"74\": 3, \"49\": 1, \"100\": 1, \"107\": 2}, \"81\": {\"81\": 31, \"18\": 1}, \"2\": {\"96\": 3, \"117\": 3, \"2\": 11, \"26\": 1, \"118\": 1, \"18\": 2, \"63\": 2, \"121\": 1, \"80\": 1, \"109\": 1, \"33\": 1, \"11\": 1}, \"58\": {\"58\": 14, \"101\": 2}, \"68\": {\"35\": 1, \"68\": 12, \"52\": 2, \"63\": 1}, \"20\": {\"20\": 11, \"129\": 2, \"60\": 1, \"125\": 1, \"93\": 1}, \"35\": {\"35\": 11, \"68\": 1}, \"96\": {\"96\": 19, \"43\": 1}, \"84\": {\"90\": 11, \"84\": 80, \"44\": 4, \"62\": 6, \"16\": 3, \"31\": 1, \"82\": 2, \"87\": 1}, \"13\": {\"88\": 1, \"13\": 7, \"69\": 2, \"62\": 1, \"64\": 1, \"119\": 2, \"43\": 1, \"92\": 1}, \"64\": {\"64\": 16, \"118\": 1, \"109\": 1, \"119\": 1, \"33\": 1}, \"112\": {\"112\": 9, \"42\": 2, \"75\": 1, \"8\": 1, \"94\": 1, \"108\": 2}, \"103\": {\"103\": 12, \"105\": 4}, \"65\": {\"65\": 10, \"127\": 1, \"63\": 1}, \"118\": {\"118\": 58, \"64\": 1, \"69\": 7, \"13\": 1, \"109\": 12, \"43\": 3, \"33\": 5, \"102\": 7, \"113\": 1, \"89\": 1, \"39\": 1, \"117\": 2, \"62\": 1}, \"88\": {\"88\": 48, \"85\": 2, \"9\": 1, \"21\": 5, \"14\": 2, \"20\": 1, \"110\": 7, \"128\": 1, \"127\": 1, \"1\": 4, \"24\": 1, \"11\": 3, \"126\": 1, \"5\": 4, \"117\": 2, \"109\": 1, \"70\": 7, \"0\": 1, \"27\": 1, \"114\": 3, \"15\": 1, \"93\": 2, \"47\": 1, \"16\": 1, \"66\": 1, \"7\": 2, \"62\": 1, \"108\": 2, \"122\": 1, \"3\": 3, \"106\": 1}, \"85\": {\"85\": 34, \"49\": 1, \"124\": 1}, \"5\": {\"5\": 88, \"66\": 1, \"3\": 8, \"21\": 1, \"7\": 3, \"105\": 2, \"18\": 1, \"1\": 1, \"19\": 1, \"88\": 1, \"4\": 2, \"71\": 2, \"114\": 1}, \"93\": {\"93\": 122, \"11\": 8, \"113\": 1, \"16\": 5, \"84\": 1, \"109\": 1}, \"43\": {\"117\": 2, \"43\": 25, \"39\": 2, \"119\": 1, \"109\": 7, \"92\": 3, \"89\": 3, \"26\": 3, \"64\": 2, \"69\": 1, \"118\": 3, \"102\": 1, \"81\": 1, \"113\": 1, \"11\": 1}, \"67\": {\"67\": 13, \"109\": 2, \"15\": 1}, \"48\": {\"117\": 1, \"48\": 1, \"82\": 1, \"71\": 1, \"104\": 3, \"64\": 1, \"7\": 2, \"90\": 1, \"3\": 1, \"119\": 2, \"9\": 1, \"102\": 1}, \"73\": {\"73\": 33, \"101\": 2, \"84\": 1, \"10\": 1, \"69\": 1, \"125\": 1, \"98\": 1}, \"34\": {\"28\": 1, \"34\": 5, \"37\": 1, \"23\": 2, \"68\": 4, \"66\": 1, \"107\": 1, \"111\": 3, \"125\": 1, \"92\": 1, \"48\": 2, \"50\": 1, \"53\": 1, \"77\": 2, \"29\": 1, \"35\": 1, \"72\": 2, \"73\": 1, \"32\": 1}, \"91\": {\"10\": 2, \"91\": 18, \"119\": 1, \"65\": 1, \"72\": 2}, \"105\": {\"105\": 117, \"86\": 1, \"114\": 2, \"4\": 4}, \"10\": {\"34\": 3, \"112\": 1, \"10\": 41, \"52\": 4, \"85\": 1, \"42\": 1, \"12\": 6, \"108\": 11, \"98\": 15, \"106\": 2, \"70\": 5, \"124\": 6, \"73\": 1, \"5\": 1, \"8\": 2, \"125\": 2, \"65\": 1, \"39\": 1, \"111\": 1, \"127\": 1}, \"61\": {\"61\": 12, \"81\": 2, \"18\": 2}, \"74\": {\"74\": 9, \"128\": 1, \"38\": 2, \"82\": 1, \"40\": 1, \"57\": 1, \"100\": 1}, \"4\": {\"4\": 87, \"104\": 2, \"105\": 5, \"3\": 1, \"110\": 1}, \"37\": {\"37\": 16}, \"19\": {\"19\": 7, \"53\": 2, \"124\": 3, \"37\": 1, \"129\": 2, \"107\": 1, \"14\": 4, \"60\": 1, \"91\": 1, \"85\": 2, \"122\": 3, \"51\": 1, \"32\": 3, \"128\": 1}, \"44\": {\"44\": 53, \"33\": 1, \"14\": 1, \"29\": 3, \"118\": 2, \"84\": 4, \"69\": 1, \"90\": 4, \"87\": 1, \"115\": 2}, \"52\": {\"52\": 15, \"77\": 1}, \"92\": {\"92\": 28, \"69\": 2, \"102\": 1, \"43\": 1}, \"33\": {\"33\": 101, \"90\": 1, \"119\": 1, \"118\": 1, \"69\": 7, \"102\": 15, \"62\": 1, \"117\": 1}, \"45\": {\"45\": 13, \"22\": 2, \"107\": 1}, \"11\": {\"11\": 62, \"67\": 1, \"90\": 8, \"79\": 3, \"23\": 1, \"27\": 1, \"16\": 18, \"29\": 5, \"87\": 4, \"93\": 11, \"62\": 1, \"109\": 1, \"22\": 2, \"44\": 2, \"31\": 1, \"14\": 2, \"84\": 3, \"1\": 1, \"107\": 1}, \"129\": {\"34\": 2, \"53\": 1, \"129\": 12, \"19\": 1, \"107\": 2, \"3\": 1, \"11\": 1, \"100\": 1, \"87\": 2, \"1\": 1, \"114\": 2, \"23\": 2, \"32\": 1, \"5\": 2, \"7\": 1}, \"116\": {\"116\": 17, \"44\": 2, \"62\": 5, \"26\": 1, \"90\": 1, \"84\": 2}, \"75\": {\"75\": 16}, \"41\": {\"41\": 16}, \"21\": {\"21\": 44, \"69\": 1, \"110\": 1, \"126\": 1, \"94\": 1}, \"69\": {\"69\": 61, \"61\": 1, \"119\": 1, \"33\": 5, \"43\": 3, \"102\": 6, \"89\": 1, \"90\": 2, \"92\": 3, \"126\": 1}, \"16\": {\"16\": 80, \"11\": 11, \"39\": 1, \"93\": 7, \"87\": 2, \"45\": 1, \"116\": 2, \"126\": 1, \"14\": 3}, \"25\": {\"25\": 12, \"58\": 2, \"27\": 2}, \"12\": {\"12\": 72, \"98\": 7, \"111\": 12, \"8\": 2, \"94\": 1, \"10\": 3, \"127\": 1, \"108\": 1, \"35\": 1, \"124\": 3, \"88\": 1}, \"72\": {\"72\": 23, \"52\": 1, \"34\": 1, \"111\": 1, \"98\": 1, \"6\": 1}, \"0\": {\"0\": 89, \"30\": 6, \"101\": 1, \"15\": 6, \"36\": 1, \"106\": 5, \"12\": 1, \"58\": 1, \"94\": 2, \"72\": 1, \"42\": 1, \"126\": 1, \"14\": 1}, \"50\": {\"50\": 15, \"28\": 1}, \"107\": {\"107\": 126, \"28\": 1, \"32\": 1, \"92\": 1, \"14\": 2, \"1\": 2, \"102\": 1, \"48\": 1, \"74\": 1, \"23\": 1, \"118\": 1, \"90\": 1, \"114\": 1}, \"124\": {\"124\": 117, \"77\": 1, \"98\": 1, \"10\": 2, \"5\": 1, \"108\": 1, \"85\": 1}, \"53\": {\"53\": 14, \"48\": 1, \"108\": 1, \"1\": 3, \"117\": 1}, \"66\": {\"66\": 13, \"103\": 1, \"9\": 1, \"7\": 1}, \"47\": {\"47\": 12}, \"24\": {\"24\": 31, \"25\": 2, \"36\": 6, \"30\": 6, \"15\": 1, \"27\": 1, \"43\": 1}, \"95\": {\"95\": 29, \"39\": 1, \"105\": 2}, \"98\": {\"91\": 2, \"98\": 84, \"111\": 4, \"12\": 8, \"62\": 1, \"124\": 4, \"72\": 2, \"113\": 1}, \"63\": {\"63\": 15, \"43\": 1}, \"3\": {\"3\": 87, \"22\": 2, \"1\": 1, \"5\": 4, \"86\": 1, \"128\": 1, \"7\": 5, \"4\": 5, \"114\": 1, \"99\": 1, \"71\": 3, \"19\": 2, \"127\": 2, \"18\": 1}, \"14\": {\"14\": 75, \"90\": 2, \"45\": 1, \"122\": 1, \"107\": 1}, \"1\": {\"122\": 3, \"1\": 100, \"98\": 1, \"32\": 2, \"114\": 1, \"107\": 1}, \"38\": {\"38\": 10, \"17\": 2, \"74\": 1, \"32\": 1, \"40\": 2}, \"110\": {\"110\": 68, \"88\": 4, \"5\": 5, \"18\": 2, \"114\": 5, \"108\": 1, \"129\": 2, \"19\": 2, \"122\": 1, \"125\": 1, \"126\": 1}, \"17\": {\"67\": 1, \"66\": 1, \"82\": 1, \"95\": 3, \"7\": 4, \"64\": 1, \"65\": 1, \"34\": 2, \"4\": 1, \"92\": 1}, \"30\": {\"30\": 44, \"97\": 2, \"0\": 7, \"15\": 9, \"94\": 7, \"108\": 1, \"106\": 7, \"8\": 1, \"102\": 1, \"24\": 2, \"23\": 1, \"125\": 1, \"11\": 1}, \"56\": {\"56\": 4, \"9\": 3, \"41\": 2, \"7\": 1, \"46\": 1, \"75\": 1}, \"27\": {\"27\": 63, \"0\": 4, \"36\": 15, \"70\": 1, \"12\": 1, \"106\": 1, \"25\": 1, \"24\": 2, \"30\": 1, \"126\": 1, \"15\": 3, \"39\": 1, \"94\": 2}, \"104\": {\"104\": 16}, \"97\": {\"112\": 2, \"30\": 1, \"97\": 13, \"42\": 1, \"15\": 1, \"83\": 1, \"101\": 1}, \"42\": {\"42\": 9, \"112\": 3, \"25\": 1, \"0\": 2, \"97\": 2, \"15\": 3, \"58\": 1, \"101\": 1, \"108\": 4, \"72\": 2}, \"39\": {\"96\": 1, \"39\": 47, \"43\": 3, \"63\": 1, \"81\": 4, \"121\": 4, \"126\": 3, \"26\": 6, \"117\": 15, \"109\": 7, \"69\": 1, \"18\": 1, \"113\": 8, \"11\": 2, \"93\": 1, \"2\": 1, \"23\": 1, \"70\": 1, \"118\": 1}, \"70\": {\"10\": 5, \"70\": 21, \"53\": 1, \"108\": 9, \"110\": 5, \"5\": 2, \"88\": 8, \"124\": 3, \"8\": 3, \"3\": 1, \"127\": 3, \"49\": 1, \"112\": 1, \"83\": 1, \"23\": 1, \"72\": 2, \"46\": 2, \"126\": 1, \"129\": 1, \"98\": 1}, \"86\": {\"86\": 23, \"3\": 3, \"127\": 2}, \"119\": {\"102\": 2, \"119\": 13, \"69\": 1}, \"77\": {\"77\": 13, \"124\": 3}, \"59\": {\"59\": 12}, \"22\": {\"79\": 2, \"45\": 1, \"22\": 8, \"40\": 2, \"50\": 2, \"115\": 1}, \"79\": {\"79\": 12}, \"80\": {\"80\": 15, \"102\": 1}, \"111\": {\"111\": 120, \"72\": 2, \"12\": 6, \"102\": 1, \"35\": 2, \"73\": 1}, \"82\": {\"82\": 23, \"44\": 1, \"84\": 1, \"90\": 2, \"62\": 1}, \"126\": {\"126\": 95, \"39\": 5, \"113\": 3, \"18\": 11, \"36\": 1, \"5\": 1, \"117\": 4, \"21\": 1, \"81\": 1, \"8\": 2}, \"32\": {\"32\": 21, \"45\": 1, \"1\": 2, \"107\": 5, \"94\": 1, \"105\": 2}, \"106\": {\"106\": 93, \"109\": 1, \"73\": 2, \"15\": 1, \"101\": 1, \"18\": 1, \"0\": 1}, \"60\": {\"84\": 1, \"96\": 1, \"122\": 1, \"45\": 1, \"44\": 1, \"129\": 1, \"74\": 2, \"32\": 2, \"110\": 4, \"60\": 7, \"90\": 1, \"22\": 2, \"79\": 1, \"3\": 1, \"87\": 2}, \"114\": {\"114\": 83, \"32\": 1, \"1\": 4, \"105\": 6, \"3\": 6, \"5\": 1, \"8\": 1, \"129\": 1, \"87\": 1, \"7\": 2, \"93\": 1, \"39\": 1}}}, \"per_domain_accuracy\": {\"ORACLE.run18\": {\"accuracy\": 0.5419270833333333, \"source?\": true}, \"ORACLE.run138\": {\"accuracy\": 0.6440104166666667, \"source?\": true}, \"ORACLE.run126\": {\"accuracy\": 0.43333333333333335, \"source?\": true}, \"ORACLE.run120\": {\"accuracy\": 0.4434895833333333, \"source?\": true}, \"ORACLE.run150\": {\"accuracy\": 0.6984375, \"source?\": true}, \"ORACLE.run132\": {\"accuracy\": 0.6817708333333333, \"source?\": true}, \"ORACLE.run144\": {\"accuracy\": 0.6565104166666667, \"source?\": true}, \"ORACLE.run114\": {\"accuracy\": 0.709375, \"source?\": true}, \"Wisig_2\": {\"accuracy\": 0.6659663865546218, \"source?\": false}, \"Wisig_4\": {\"accuracy\": 0.6503343621399177, \"source?\": false}, \"Wisig_1\": {\"accuracy\": 0.7139627659574468, \"source?\": false}, \"Wisig_3\": {\"accuracy\": 0.7305892070484582, \"source?\": false}}}, \"history\": {\"epoch_indices\": [1, 2, 3, 4, 5, 6, 7, 8, 9, 10, 11, 12, 13, 14, 15, 16, 17], \"train_label_loss\": [1.6373575519947778, 1.0171442342478605, 0.8506703557823563, 0.7385963657028264, 0.6411186644375059, 0.560133940014722, 0.4852784974472819, 0.42148707021066606, 0.36573821848668603, 0.32364988358153607, 0.28373339061221314, 0.25384691877850507, 0.22916139501998953, 0.2069581322124577, 0.1898788028231398, 0.17418509765351095, 0.16178546029113067], \"source_val_label_loss\": [1.2007381916046143, 1.063982605934143, 1.0424418449401855, 1.0702946186065674, 1.098157286643982, 1.1733628511428833, 1.2296456098556519, 1.3147801160812378, 1.3932161331176758, 1.503466248512268, 1.5983082056045532, 1.676666021347046, 1.7203088998794556, 1.78136146068573, 1.8576797246932983, 1.9087896347045898, 1.975176215171814], \"target_val_label_loss\": [5.709656715393066, 6.928828716278076, 8.6082124710083, 9.973982810974121, 10.649724006652832, 11.87605094909668, 12.746180534362793, 14.452302932739258, 15.830531120300293, 16.40852165222168, 18.068443298339844, 19.009870529174805, 19.840801239013672, 20.7287654876709, 21.92395782470703, 22.772111892700195, 23.22886085510254], \"source_val_acc_label\": [0.5388020833333333, 0.5923177083333333, 0.60703125, 0.6168294270833333, 0.6064453125, 0.6061848958333333, 0.5995442708333333, 0.603125, 0.6021484375, 0.59619140625, 0.60126953125, 0.5935872395833334, 0.6011067708333333, 0.59970703125, 0.5981770833333333, 0.5990885416666667, 0.5953125], \"target_val_acc_label\": [0.62523197242842, 0.6479984093319194, 0.6661253976670202, 0.6702014846235419, 0.6747083775185578, 0.675801961823966, 0.6750066277836692, 0.6766635737009544, 0.6741118769883351, 0.686041887592789, 0.686936638388123, 0.6746089607635207, 0.6894551961823966, 0.6881296394485684, 0.6890243902439024, 0.6879970837751855, 0.6875994167550371]}, \"dataset_metrics\": {\"source\": {\"train\": {\"n_unique_x\": 179200, \"n_unique_y\": 16, \"n_batch/episode\": 6720}, \"val\": {\"n_unique_x\": 38400, \"n_unique_y\": 16, \"n_batch/episode\": 960}, \"test\": {\"n_unique_x\": 38400, \"n_unique_y\": 16, \"n_batch/episode\": 960}}, \"target\": {\"train\": {\"n_unique_x\": 188974, \"n_unique_y\": 130, \"n_batch/episode\": 6847}, \"val\": {\"n_unique_x\": 40019, \"n_unique_y\": 130, \"n_batch/episode\": 943}, \"test\": {\"n_unique_x\": 40738, \"n_unique_y\": 130, \"n_batch/episode\": 960}}}}'"
      ]
     },
     "execution_count": 29,
     "metadata": {},
     "output_type": "execute_result"
    }
   ],
   "source": [
    "json.dumps(experiment)"
   ]
  }
 ],
 "metadata": {
  "celltoolbar": "Tags",
  "kernelspec": {
   "display_name": "Python 3 (ipykernel)",
   "language": "python",
   "name": "python3"
  },
  "language_info": {
   "codemirror_mode": {
    "name": "ipython",
    "version": 3
   },
   "file_extension": ".py",
   "mimetype": "text/x-python",
   "name": "python",
   "nbconvert_exporter": "python",
   "pygments_lexer": "ipython3",
   "version": "3.8.12"
  },
  "papermill": {
   "default_parameters": {},
   "duration": 2987.241697,
   "end_time": "2022-03-23T01:04:01.364482",
   "environment_variables": {},
   "exception": null,
   "input_path": "/root/csc500-main/csc500-notebooks/templates/tl_ptn_template.ipynb",
   "output_path": "trial.ipynb",
   "parameters": {
    "parameters": {
     "BEST_MODEL_PATH": "./best_model.pth",
     "NUM_LOGS_PER_EPOCH": 10,
     "criteria_for_best": "target_accuracy",
     "dataset_seed": 154325,
     "datasets": [
      {
       "domain_prefix": "Wisig_",
       "domains": [
        1,
        2,
        3,
        4
       ],
       "episode_transforms": [],
       "labels": [
        "1-10",
        "1-12",
        "1-14",
        "1-16",
        "1-18",
        "1-19",
        "1-8",
        "10-11",
        "10-17",
        "10-4",
        "10-7",
        "11-1",
        "11-10",
        "11-19",
        "11-20",
        "11-4",
        "11-7",
        "12-19",
        "12-20",
        "12-7",
        "13-14",
        "13-18",
        "13-19",
        "13-20",
        "13-3",
        "13-7",
        "14-10",
        "14-11",
        "14-12",
        "14-13",
        "14-14",
        "14-19",
        "14-20",
        "14-7",
        "14-8",
        "14-9",
        "15-1",
        "15-19",
        "15-6",
        "16-1",
        "16-16",
        "16-19",
        "16-20",
        "17-10",
        "17-11",
        "18-1",
        "18-10",
        "18-11",
        "18-12",
        "18-13",
        "18-14",
        "18-15",
        "18-16",
        "18-17",
        "18-19",
        "18-2",
        "18-20",
        "18-4",
        "18-5",
        "18-7",
        "18-8",
        "18-9",
        "19-1",
        "19-10",
        "19-11",
        "19-12",
        "19-13",
        "19-14",
        "19-15",
        "19-19",
        "19-2",
        "19-20",
        "19-3",
        "19-4",
        "19-6",
        "19-7",
        "19-8",
        "19-9",
        "2-1",
        "2-13",
        "2-15",
        "2-3",
        "2-4",
        "2-5",
        "2-6",
        "2-7",
        "2-8",
        "20-1",
        "20-12",
        "20-14",
        "20-15",
        "20-16",
        "20-18",
        "20-19",
        "20-20",
        "20-3",
        "20-4",
        "20-5",
        "20-7",
        "20-8",
        "3-1",
        "3-13",
        "3-18",
        "3-2",
        "3-8",
        "4-1",
        "4-10",
        "4-11",
        "5-1",
        "5-5",
        "6-1",
        "6-15",
        "6-6",
        "7-10",
        "7-11",
        "7-12",
        "7-13",
        "7-14",
        "7-7",
        "7-8",
        "7-9",
        "8-1",
        "8-13",
        "8-14",
        "8-18",
        "8-20",
        "8-3",
        "8-8",
        "9-1",
        "9-7"
       ],
       "num_examples_per_domain_per_label": -1,
       "pickle_path": "/root/csc500-main/datasets/wisig.node3-19.stratified_ds.2022A.pkl",
       "source_or_target_dataset": "target",
       "x_transforms": [
        "unit_power"
       ]
      },
      {
       "domain_prefix": "ORACLE.run1",
       "domains": [
        32,
        38,
        8,
        44,
        14,
        50,
        20,
        26
       ],
       "episode_transforms": [],
       "labels": [
        "3123D52",
        "3123D65",
        "3123D79",
        "3123D80",
        "3123D54",
        "3123D70",
        "3123D7B",
        "3123D89",
        "3123D58",
        "3123D76",
        "3123D7D",
        "3123EFE",
        "3123D64",
        "3123D78",
        "3123D7E",
        "3124E4A"
       ],
       "num_examples_per_domain_per_label": 2000,
       "pickle_path": "/root/csc500-main/datasets/oracle.Run1_10kExamples_stratified_ds.2022A.pkl",
       "source_or_target_dataset": "source",
       "x_transforms": [
        "unit_power"
       ]
      }
     ],
     "device": "cuda",
     "experiment_name": "tl_1v2:wisig-oracle.run1.limited",
     "lr": 0.0001,
     "n_epoch": 50,
     "n_query": 2,
     "n_shot": 3,
     "n_way": 16,
     "patience": 3,
     "seed": 154325,
     "test_k_factor": 2,
     "torch_default_dtype": "torch.float32",
     "train_k_factor": 3,
     "val_k_factor": 2,
     "x_net": [
      {
       "class": "nnReshape",
       "kargs": {
        "shape": [
         -1,
         1,
         2,
         256
        ]
       }
      },
      {
       "class": "Conv2d",
       "kargs": {
        "bias": false,
        "in_channels": 1,
        "kernel_size": [
         1,
         7
        ],
        "out_channels": 256,
        "padding": [
         0,
         3
        ]
       }
      },
      {
       "class": "ReLU",
       "kargs": {
        "inplace": true
       }
      },
      {
       "class": "BatchNorm2d",
       "kargs": {
        "num_features": 256
       }
      },
      {
       "class": "Conv2d",
       "kargs": {
        "bias": true,
        "in_channels": 256,
        "kernel_size": [
         2,
         7
        ],
        "out_channels": 80,
        "padding": [
         0,
         3
        ]
       }
      },
      {
       "class": "ReLU",
       "kargs": {
        "inplace": true
       }
      },
      {
       "class": "BatchNorm2d",
       "kargs": {
        "num_features": 80
       }
      },
      {
       "class": "Flatten",
       "kargs": {}
      },
      {
       "class": "Linear",
       "kargs": {
        "in_features": 20480,
        "out_features": 256
       }
      },
      {
       "class": "ReLU",
       "kargs": {
        "inplace": true
       }
      },
      {
       "class": "BatchNorm1d",
       "kargs": {
        "num_features": 256
       }
      },
      {
       "class": "Linear",
       "kargs": {
        "in_features": 256,
        "out_features": 256
       }
      }
     ]
    }
   },
   "start_time": "2022-03-23T00:14:14.122785",
   "version": "2.3.4"
  }
 },
 "nbformat": 4,
 "nbformat_minor": 5
}