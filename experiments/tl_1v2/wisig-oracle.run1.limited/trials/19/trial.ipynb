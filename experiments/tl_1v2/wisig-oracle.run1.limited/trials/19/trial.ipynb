{
 "cells": [
  {
   "cell_type": "markdown",
   "id": "9fea5f46",
   "metadata": {
    "papermill": {
     "duration": 0.032563,
     "end_time": "2022-03-23T02:47:20.120526",
     "exception": false,
     "start_time": "2022-03-23T02:47:20.087963",
     "status": "completed"
    },
    "tags": []
   },
   "source": [
    "# Transfer Learning Template"
   ]
  },
  {
   "cell_type": "code",
   "execution_count": 1,
   "id": "0902182a",
   "metadata": {
    "execution": {
     "iopub.execute_input": "2022-03-23T02:47:20.182149Z",
     "iopub.status.busy": "2022-03-23T02:47:20.181298Z",
     "iopub.status.idle": "2022-03-23T02:47:22.022308Z",
     "shell.execute_reply": "2022-03-23T02:47:22.021886Z"
    },
    "papermill": {
     "duration": 1.879177,
     "end_time": "2022-03-23T02:47:22.022411",
     "exception": false,
     "start_time": "2022-03-23T02:47:20.143234",
     "status": "completed"
    },
    "tags": []
   },
   "outputs": [],
   "source": [
    "%load_ext autoreload\n",
    "%autoreload 2\n",
    "%matplotlib inline\n",
    "\n",
    "    \n",
    "import os, json, sys, time, random\n",
    "import numpy as np\n",
    "import torch\n",
    "from torch.optim import Adam\n",
    "from  easydict import EasyDict\n",
    "import matplotlib.pyplot as plt\n",
    "\n",
    "from steves_models.steves_ptn import Steves_Prototypical_Network\n",
    "\n",
    "from steves_utils.lazy_iterable_wrapper import Lazy_Iterable_Wrapper\n",
    "from steves_utils.iterable_aggregator import Iterable_Aggregator\n",
    "from steves_utils.ptn_train_eval_test_jig import  PTN_Train_Eval_Test_Jig\n",
    "from steves_utils.torch_sequential_builder import build_sequential\n",
    "from steves_utils.torch_utils import get_dataset_metrics, ptn_confusion_by_domain_over_dataloader\n",
    "from steves_utils.utils_v2 import (per_domain_accuracy_from_confusion, get_datasets_base_path)\n",
    "from steves_utils.PTN.utils import independent_accuracy_assesment\n",
    "\n",
    "from torch.utils.data import DataLoader\n",
    "\n",
    "from steves_utils.stratified_dataset.episodic_accessor import Episodic_Accessor_Factory\n",
    "\n",
    "from steves_utils.ptn_do_report import (\n",
    "    get_loss_curve,\n",
    "    get_results_table,\n",
    "    get_parameters_table,\n",
    "    get_domain_accuracies,\n",
    ")\n",
    "\n",
    "from steves_utils.transforms import get_chained_transform"
   ]
  },
  {
   "cell_type": "markdown",
   "id": "41c840b4",
   "metadata": {
    "papermill": {
     "duration": 0.018777,
     "end_time": "2022-03-23T02:47:22.060662",
     "exception": false,
     "start_time": "2022-03-23T02:47:22.041885",
     "status": "completed"
    },
    "tags": []
   },
   "source": [
    "# Allowed Parameters\n",
    "These are allowed parameters, not defaults\n",
    "Each of these values need to be present in the injected parameters (the notebook will raise an exception if they are not present)\n",
    "\n",
    "Papermill uses the cell tag \"parameters\" to inject the real parameters below this cell.\n",
    "Enable tags to see what I mean"
   ]
  },
  {
   "cell_type": "code",
   "execution_count": 2,
   "id": "fd44eb83",
   "metadata": {
    "execution": {
     "iopub.execute_input": "2022-03-23T02:47:22.103863Z",
     "iopub.status.busy": "2022-03-23T02:47:22.103478Z",
     "iopub.status.idle": "2022-03-23T02:47:22.127300Z",
     "shell.execute_reply": "2022-03-23T02:47:22.127981Z"
    },
    "papermill": {
     "duration": 0.048763,
     "end_time": "2022-03-23T02:47:22.128158",
     "exception": false,
     "start_time": "2022-03-23T02:47:22.079395",
     "status": "completed"
    },
    "tags": []
   },
   "outputs": [],
   "source": [
    "required_parameters = {\n",
    "    \"experiment_name\",\n",
    "    \"lr\",\n",
    "    \"device\",\n",
    "    \"seed\",\n",
    "    \"dataset_seed\",\n",
    "    \"n_shot\",\n",
    "    \"n_query\",\n",
    "    \"n_way\",\n",
    "    \"train_k_factor\",\n",
    "    \"val_k_factor\",\n",
    "    \"test_k_factor\",\n",
    "    \"n_epoch\",\n",
    "    \"patience\",\n",
    "    \"criteria_for_best\",\n",
    "    \"x_net\",\n",
    "    \"datasets\",\n",
    "    \"torch_default_dtype\",\n",
    "    \"NUM_LOGS_PER_EPOCH\",\n",
    "    \"BEST_MODEL_PATH\",\n",
    "    \"x_shape\",\n",
    "}"
   ]
  },
  {
   "cell_type": "code",
   "execution_count": 3,
   "id": "fa3f0049",
   "metadata": {
    "execution": {
     "iopub.execute_input": "2022-03-23T02:47:22.189549Z",
     "iopub.status.busy": "2022-03-23T02:47:22.188648Z",
     "iopub.status.idle": "2022-03-23T02:47:22.212792Z",
     "shell.execute_reply": "2022-03-23T02:47:22.212096Z"
    },
    "papermill": {
     "duration": 0.056477,
     "end_time": "2022-03-23T02:47:22.212944",
     "exception": false,
     "start_time": "2022-03-23T02:47:22.156467",
     "status": "completed"
    },
    "tags": [
     "parameters"
    ]
   },
   "outputs": [],
   "source": [
    "from steves_utils.CORES.utils import (\n",
    "    ALL_NODES,\n",
    "    ALL_NODES_MINIMUM_1000_EXAMPLES,\n",
    "    ALL_DAYS\n",
    ")\n",
    "\n",
    "from steves_utils.ORACLE.utils_v2 import (\n",
    "    ALL_DISTANCES_FEET_NARROWED,\n",
    "    ALL_RUNS,\n",
    "    ALL_SERIAL_NUMBERS,\n",
    ")\n",
    "\n",
    "standalone_parameters = {}\n",
    "standalone_parameters[\"experiment_name\"] = \"STANDALONE PTN\"\n",
    "standalone_parameters[\"lr\"] = 0.001\n",
    "standalone_parameters[\"device\"] = \"cuda\"\n",
    "\n",
    "standalone_parameters[\"seed\"] = 1337\n",
    "standalone_parameters[\"dataset_seed\"] = 1337\n",
    "\n",
    "standalone_parameters[\"n_way\"] = 8\n",
    "standalone_parameters[\"n_shot\"] = 3\n",
    "standalone_parameters[\"n_query\"]  = 2\n",
    "standalone_parameters[\"train_k_factor\"] = 1\n",
    "standalone_parameters[\"val_k_factor\"] = 2\n",
    "standalone_parameters[\"test_k_factor\"] = 2\n",
    "\n",
    "\n",
    "standalone_parameters[\"n_epoch\"] = 50\n",
    "\n",
    "standalone_parameters[\"patience\"] = 10\n",
    "standalone_parameters[\"criteria_for_best\"] = \"source_loss\"\n",
    "\n",
    "standalone_parameters[\"datasets\"] = [\n",
    "    {\n",
    "        \"labels\": ALL_SERIAL_NUMBERS,\n",
    "        \"domains\": ALL_DISTANCES_FEET_NARROWED,\n",
    "        \"num_examples_per_domain_per_label\": 100,\n",
    "        \"pickle_path\": os.path.join(get_datasets_base_path(), \"oracle.Run1_framed_2000Examples_stratified_ds.2022A.pkl\"),\n",
    "        \"source_or_target_dataset\": \"source\",\n",
    "        \"x_transforms\": [\"unit_mag\", \"minus_two\"],\n",
    "        \"episode_transforms\": [],\n",
    "        \"domain_prefix\": \"ORACLE_\"\n",
    "    },\n",
    "    {\n",
    "        \"labels\": ALL_NODES,\n",
    "        \"domains\": ALL_DAYS,\n",
    "        \"num_examples_per_domain_per_label\": 100,\n",
    "        \"pickle_path\": os.path.join(get_datasets_base_path(), \"cores.stratified_ds.2022A.pkl\"),\n",
    "        \"source_or_target_dataset\": \"target\",\n",
    "        \"x_transforms\": [\"unit_power\", \"times_zero\"],\n",
    "        \"episode_transforms\": [],\n",
    "        \"domain_prefix\": \"CORES_\"\n",
    "    }   \n",
    "]\n",
    "\n",
    "standalone_parameters[\"torch_default_dtype\"] = \"torch.float32\" \n",
    "\n",
    "\n",
    "\n",
    "standalone_parameters[\"x_net\"] =     [\n",
    "    {\"class\": \"nnReshape\", \"kargs\": {\"shape\":[-1, 1, 2, 256]}},\n",
    "    {\"class\": \"Conv2d\", \"kargs\": { \"in_channels\":1, \"out_channels\":256, \"kernel_size\":(1,7), \"bias\":False, \"padding\":(0,3), },},\n",
    "    {\"class\": \"ReLU\", \"kargs\": {\"inplace\": True}},\n",
    "    {\"class\": \"BatchNorm2d\", \"kargs\": {\"num_features\":256}},\n",
    "\n",
    "    {\"class\": \"Conv2d\", \"kargs\": { \"in_channels\":256, \"out_channels\":80, \"kernel_size\":(2,7), \"bias\":True, \"padding\":(0,3), },},\n",
    "    {\"class\": \"ReLU\", \"kargs\": {\"inplace\": True}},\n",
    "    {\"class\": \"BatchNorm2d\", \"kargs\": {\"num_features\":80}},\n",
    "    {\"class\": \"Flatten\", \"kargs\": {}},\n",
    "\n",
    "    {\"class\": \"Linear\", \"kargs\": {\"in_features\": 80*256, \"out_features\": 256}}, # 80 units per IQ pair\n",
    "    {\"class\": \"ReLU\", \"kargs\": {\"inplace\": True}},\n",
    "    {\"class\": \"BatchNorm1d\", \"kargs\": {\"num_features\":256}},\n",
    "\n",
    "    {\"class\": \"Linear\", \"kargs\": {\"in_features\": 256, \"out_features\": 256}},\n",
    "]\n",
    "\n",
    "# Parameters relevant to results\n",
    "# These parameters will basically never need to change\n",
    "standalone_parameters[\"NUM_LOGS_PER_EPOCH\"] = 10\n",
    "standalone_parameters[\"BEST_MODEL_PATH\"] = \"./best_model.pth\"\n",
    "\n",
    "\n",
    "\n",
    "\n"
   ]
  },
  {
   "cell_type": "code",
   "execution_count": 4,
   "id": "87cf7349",
   "metadata": {
    "execution": {
     "iopub.execute_input": "2022-03-23T02:47:22.272444Z",
     "iopub.status.busy": "2022-03-23T02:47:22.271476Z",
     "iopub.status.idle": "2022-03-23T02:47:22.295765Z",
     "shell.execute_reply": "2022-03-23T02:47:22.295038Z"
    },
    "papermill": {
     "duration": 0.059703,
     "end_time": "2022-03-23T02:47:22.295918",
     "exception": false,
     "start_time": "2022-03-23T02:47:22.236215",
     "status": "completed"
    },
    "tags": [
     "injected-parameters"
    ]
   },
   "outputs": [],
   "source": [
    "# Parameters\n",
    "parameters = {\n",
    "    \"experiment_name\": \"tl_1v2:wisig-oracle.run1.limited\",\n",
    "    \"device\": \"cuda\",\n",
    "    \"lr\": 0.0001,\n",
    "    \"n_shot\": 3,\n",
    "    \"n_query\": 2,\n",
    "    \"train_k_factor\": 3,\n",
    "    \"val_k_factor\": 2,\n",
    "    \"test_k_factor\": 2,\n",
    "    \"torch_default_dtype\": \"torch.float32\",\n",
    "    \"n_epoch\": 50,\n",
    "    \"patience\": 3,\n",
    "    \"criteria_for_best\": \"target_accuracy\",\n",
    "    \"x_net\": [\n",
    "        {\"class\": \"nnReshape\", \"kargs\": {\"shape\": [-1, 1, 2, 256]}},\n",
    "        {\n",
    "            \"class\": \"Conv2d\",\n",
    "            \"kargs\": {\n",
    "                \"in_channels\": 1,\n",
    "                \"out_channels\": 256,\n",
    "                \"kernel_size\": [1, 7],\n",
    "                \"bias\": False,\n",
    "                \"padding\": [0, 3],\n",
    "            },\n",
    "        },\n",
    "        {\"class\": \"ReLU\", \"kargs\": {\"inplace\": True}},\n",
    "        {\"class\": \"BatchNorm2d\", \"kargs\": {\"num_features\": 256}},\n",
    "        {\n",
    "            \"class\": \"Conv2d\",\n",
    "            \"kargs\": {\n",
    "                \"in_channels\": 256,\n",
    "                \"out_channels\": 80,\n",
    "                \"kernel_size\": [2, 7],\n",
    "                \"bias\": True,\n",
    "                \"padding\": [0, 3],\n",
    "            },\n",
    "        },\n",
    "        {\"class\": \"ReLU\", \"kargs\": {\"inplace\": True}},\n",
    "        {\"class\": \"BatchNorm2d\", \"kargs\": {\"num_features\": 80}},\n",
    "        {\"class\": \"Flatten\", \"kargs\": {}},\n",
    "        {\"class\": \"Linear\", \"kargs\": {\"in_features\": 20480, \"out_features\": 256}},\n",
    "        {\"class\": \"ReLU\", \"kargs\": {\"inplace\": True}},\n",
    "        {\"class\": \"BatchNorm1d\", \"kargs\": {\"num_features\": 256}},\n",
    "        {\"class\": \"Linear\", \"kargs\": {\"in_features\": 256, \"out_features\": 256}},\n",
    "    ],\n",
    "    \"NUM_LOGS_PER_EPOCH\": 10,\n",
    "    \"BEST_MODEL_PATH\": \"./best_model.pth\",\n",
    "    \"n_way\": 16,\n",
    "    \"datasets\": [\n",
    "        {\n",
    "            \"labels\": [\n",
    "                \"1-10\",\n",
    "                \"1-12\",\n",
    "                \"1-14\",\n",
    "                \"1-16\",\n",
    "                \"1-18\",\n",
    "                \"1-19\",\n",
    "                \"1-8\",\n",
    "                \"10-11\",\n",
    "                \"10-17\",\n",
    "                \"10-4\",\n",
    "                \"10-7\",\n",
    "                \"11-1\",\n",
    "                \"11-10\",\n",
    "                \"11-19\",\n",
    "                \"11-20\",\n",
    "                \"11-4\",\n",
    "                \"11-7\",\n",
    "                \"12-19\",\n",
    "                \"12-20\",\n",
    "                \"12-7\",\n",
    "                \"13-14\",\n",
    "                \"13-18\",\n",
    "                \"13-19\",\n",
    "                \"13-20\",\n",
    "                \"13-3\",\n",
    "                \"13-7\",\n",
    "                \"14-10\",\n",
    "                \"14-11\",\n",
    "                \"14-12\",\n",
    "                \"14-13\",\n",
    "                \"14-14\",\n",
    "                \"14-19\",\n",
    "                \"14-20\",\n",
    "                \"14-7\",\n",
    "                \"14-8\",\n",
    "                \"14-9\",\n",
    "                \"15-1\",\n",
    "                \"15-19\",\n",
    "                \"15-6\",\n",
    "                \"16-1\",\n",
    "                \"16-16\",\n",
    "                \"16-19\",\n",
    "                \"16-20\",\n",
    "                \"17-10\",\n",
    "                \"17-11\",\n",
    "                \"18-1\",\n",
    "                \"18-10\",\n",
    "                \"18-11\",\n",
    "                \"18-12\",\n",
    "                \"18-13\",\n",
    "                \"18-14\",\n",
    "                \"18-15\",\n",
    "                \"18-16\",\n",
    "                \"18-17\",\n",
    "                \"18-19\",\n",
    "                \"18-2\",\n",
    "                \"18-20\",\n",
    "                \"18-4\",\n",
    "                \"18-5\",\n",
    "                \"18-7\",\n",
    "                \"18-8\",\n",
    "                \"18-9\",\n",
    "                \"19-1\",\n",
    "                \"19-10\",\n",
    "                \"19-11\",\n",
    "                \"19-12\",\n",
    "                \"19-13\",\n",
    "                \"19-14\",\n",
    "                \"19-15\",\n",
    "                \"19-19\",\n",
    "                \"19-2\",\n",
    "                \"19-20\",\n",
    "                \"19-3\",\n",
    "                \"19-4\",\n",
    "                \"19-6\",\n",
    "                \"19-7\",\n",
    "                \"19-8\",\n",
    "                \"19-9\",\n",
    "                \"2-1\",\n",
    "                \"2-13\",\n",
    "                \"2-15\",\n",
    "                \"2-3\",\n",
    "                \"2-4\",\n",
    "                \"2-5\",\n",
    "                \"2-6\",\n",
    "                \"2-7\",\n",
    "                \"2-8\",\n",
    "                \"20-1\",\n",
    "                \"20-12\",\n",
    "                \"20-14\",\n",
    "                \"20-15\",\n",
    "                \"20-16\",\n",
    "                \"20-18\",\n",
    "                \"20-19\",\n",
    "                \"20-20\",\n",
    "                \"20-3\",\n",
    "                \"20-4\",\n",
    "                \"20-5\",\n",
    "                \"20-7\",\n",
    "                \"20-8\",\n",
    "                \"3-1\",\n",
    "                \"3-13\",\n",
    "                \"3-18\",\n",
    "                \"3-2\",\n",
    "                \"3-8\",\n",
    "                \"4-1\",\n",
    "                \"4-10\",\n",
    "                \"4-11\",\n",
    "                \"5-1\",\n",
    "                \"5-5\",\n",
    "                \"6-1\",\n",
    "                \"6-15\",\n",
    "                \"6-6\",\n",
    "                \"7-10\",\n",
    "                \"7-11\",\n",
    "                \"7-12\",\n",
    "                \"7-13\",\n",
    "                \"7-14\",\n",
    "                \"7-7\",\n",
    "                \"7-8\",\n",
    "                \"7-9\",\n",
    "                \"8-1\",\n",
    "                \"8-13\",\n",
    "                \"8-14\",\n",
    "                \"8-18\",\n",
    "                \"8-20\",\n",
    "                \"8-3\",\n",
    "                \"8-8\",\n",
    "                \"9-1\",\n",
    "                \"9-7\",\n",
    "            ],\n",
    "            \"domains\": [1, 2, 3, 4],\n",
    "            \"num_examples_per_domain_per_label\": -1,\n",
    "            \"pickle_path\": \"/root/csc500-main/datasets/wisig.node3-19.stratified_ds.2022A.pkl\",\n",
    "            \"source_or_target_dataset\": \"source\",\n",
    "            \"x_transforms\": [\"unit_mag\"],\n",
    "            \"episode_transforms\": [],\n",
    "            \"domain_prefix\": \"Wisig_\",\n",
    "        },\n",
    "        {\n",
    "            \"labels\": [\n",
    "                \"3123D52\",\n",
    "                \"3123D65\",\n",
    "                \"3123D79\",\n",
    "                \"3123D80\",\n",
    "                \"3123D54\",\n",
    "                \"3123D70\",\n",
    "                \"3123D7B\",\n",
    "                \"3123D89\",\n",
    "                \"3123D58\",\n",
    "                \"3123D76\",\n",
    "                \"3123D7D\",\n",
    "                \"3123EFE\",\n",
    "                \"3123D64\",\n",
    "                \"3123D78\",\n",
    "                \"3123D7E\",\n",
    "                \"3124E4A\",\n",
    "            ],\n",
    "            \"domains\": [32, 38, 8, 44, 14, 50, 20, 26],\n",
    "            \"num_examples_per_domain_per_label\": 2000,\n",
    "            \"pickle_path\": \"/root/csc500-main/datasets/oracle.Run1_10kExamples_stratified_ds.2022A.pkl\",\n",
    "            \"source_or_target_dataset\": \"target\",\n",
    "            \"x_transforms\": [\"unit_mag\"],\n",
    "            \"episode_transforms\": [],\n",
    "            \"domain_prefix\": \"ORACLE.run1\",\n",
    "        },\n",
    "    ],\n",
    "    \"dataset_seed\": 7,\n",
    "    \"seed\": 7,\n",
    "}\n"
   ]
  },
  {
   "cell_type": "code",
   "execution_count": 5,
   "id": "8fa1cc33",
   "metadata": {
    "execution": {
     "iopub.execute_input": "2022-03-23T02:47:22.347865Z",
     "iopub.status.busy": "2022-03-23T02:47:22.347385Z",
     "iopub.status.idle": "2022-03-23T02:47:22.372263Z",
     "shell.execute_reply": "2022-03-23T02:47:22.371565Z"
    },
    "papermill": {
     "duration": 0.05011,
     "end_time": "2022-03-23T02:47:22.372414",
     "exception": false,
     "start_time": "2022-03-23T02:47:22.322304",
     "status": "completed"
    },
    "tags": []
   },
   "outputs": [],
   "source": [
    "# Set this to True if you want to run this template directly\n",
    "STANDALONE = False\n",
    "if STANDALONE:\n",
    "    print(\"parameters not injected, running with standalone_parameters\")\n",
    "    parameters = standalone_parameters\n",
    "\n",
    "if not 'parameters' in locals() and not 'parameters' in globals():\n",
    "    raise Exception(\"Parameter injection failed\")\n",
    "\n",
    "#Use an easy dict for all the parameters\n",
    "p = EasyDict(parameters)\n",
    "\n",
    "if \"x_shape\" not in p:\n",
    "    p.x_shape = [2,256] # Default to this if we dont supply x_shape\n",
    "\n",
    "\n",
    "supplied_keys = set(p.keys())\n",
    "\n",
    "if  supplied_keys != required_parameters:\n",
    "    print(\"Parameters are incorrect\")\n",
    "    if len(supplied_keys - required_parameters)>0: print(\"Shouldn't have:\", str(supplied_keys - required_parameters))\n",
    "    if len(required_parameters - supplied_keys)>0: print(\"Need to have:\", str(required_parameters - supplied_keys))\n",
    "    raise RuntimeError(\"Parameters are incorrect\")"
   ]
  },
  {
   "cell_type": "code",
   "execution_count": 6,
   "id": "3a028d58",
   "metadata": {
    "execution": {
     "iopub.execute_input": "2022-03-23T02:47:22.421925Z",
     "iopub.status.busy": "2022-03-23T02:47:22.421564Z",
     "iopub.status.idle": "2022-03-23T02:47:22.447961Z",
     "shell.execute_reply": "2022-03-23T02:47:22.447166Z"
    },
    "papermill": {
     "duration": 0.049804,
     "end_time": "2022-03-23T02:47:22.448114",
     "exception": false,
     "start_time": "2022-03-23T02:47:22.398310",
     "status": "completed"
    },
    "tags": []
   },
   "outputs": [],
   "source": [
    "###################################\n",
    "# Set the RNGs and make it all deterministic\n",
    "###################################\n",
    "np.random.seed(p.seed)\n",
    "random.seed(p.seed)\n",
    "torch.manual_seed(p.seed)\n",
    "\n",
    "torch.use_deterministic_algorithms(True) "
   ]
  },
  {
   "cell_type": "code",
   "execution_count": 7,
   "id": "b691acf6",
   "metadata": {
    "execution": {
     "iopub.execute_input": "2022-03-23T02:47:22.496034Z",
     "iopub.status.busy": "2022-03-23T02:47:22.495657Z",
     "iopub.status.idle": "2022-03-23T02:47:22.522631Z",
     "shell.execute_reply": "2022-03-23T02:47:22.521935Z"
    },
    "papermill": {
     "duration": 0.050572,
     "end_time": "2022-03-23T02:47:22.522781",
     "exception": false,
     "start_time": "2022-03-23T02:47:22.472209",
     "status": "completed"
    },
    "tags": []
   },
   "outputs": [],
   "source": [
    "###########################################\n",
    "# The stratified datasets honor this\n",
    "###########################################\n",
    "torch.set_default_dtype(eval(p.torch_default_dtype))"
   ]
  },
  {
   "cell_type": "code",
   "execution_count": 8,
   "id": "b5fba671",
   "metadata": {
    "execution": {
     "iopub.execute_input": "2022-03-23T02:47:22.570923Z",
     "iopub.status.busy": "2022-03-23T02:47:22.570559Z",
     "iopub.status.idle": "2022-03-23T02:47:22.636066Z",
     "shell.execute_reply": "2022-03-23T02:47:22.636701Z"
    },
    "papermill": {
     "duration": 0.089264,
     "end_time": "2022-03-23T02:47:22.636882",
     "exception": false,
     "start_time": "2022-03-23T02:47:22.547618",
     "status": "completed"
    },
    "tags": []
   },
   "outputs": [],
   "source": [
    "###################################\n",
    "# Build the network(s)\n",
    "# Note: It's critical to do this AFTER setting the RNG\n",
    "###################################\n",
    "x_net = build_sequential(p.x_net)"
   ]
  },
  {
   "cell_type": "code",
   "execution_count": 9,
   "id": "5d7e61cc",
   "metadata": {
    "execution": {
     "iopub.execute_input": "2022-03-23T02:47:22.684544Z",
     "iopub.status.busy": "2022-03-23T02:47:22.684056Z",
     "iopub.status.idle": "2022-03-23T02:47:22.709067Z",
     "shell.execute_reply": "2022-03-23T02:47:22.708269Z"
    },
    "papermill": {
     "duration": 0.048431,
     "end_time": "2022-03-23T02:47:22.709217",
     "exception": false,
     "start_time": "2022-03-23T02:47:22.660786",
     "status": "completed"
    },
    "tags": []
   },
   "outputs": [],
   "source": [
    "start_time_secs = time.time()"
   ]
  },
  {
   "cell_type": "code",
   "execution_count": 10,
   "id": "c6b67dfd",
   "metadata": {
    "execution": {
     "iopub.execute_input": "2022-03-23T02:47:22.760042Z",
     "iopub.status.busy": "2022-03-23T02:47:22.759678Z",
     "iopub.status.idle": "2022-03-23T02:47:22.780105Z",
     "shell.execute_reply": "2022-03-23T02:47:22.779276Z"
    },
    "papermill": {
     "duration": 0.045102,
     "end_time": "2022-03-23T02:47:22.780256",
     "exception": false,
     "start_time": "2022-03-23T02:47:22.735154",
     "status": "completed"
    },
    "tags": []
   },
   "outputs": [],
   "source": [
    "p.domains_source = []\n",
    "p.domains_target = []\n",
    "\n",
    "\n",
    "train_original_source = []\n",
    "val_original_source   = []\n",
    "test_original_source  = []\n",
    "\n",
    "train_original_target = []\n",
    "val_original_target   = []\n",
    "test_original_target  = []"
   ]
  },
  {
   "cell_type": "code",
   "execution_count": 11,
   "id": "e3d9c3d3",
   "metadata": {
    "execution": {
     "iopub.execute_input": "2022-03-23T02:47:22.829495Z",
     "iopub.status.busy": "2022-03-23T02:47:22.829138Z",
     "iopub.status.idle": "2022-03-23T02:47:22.846835Z",
     "shell.execute_reply": "2022-03-23T02:47:22.846044Z"
    },
    "papermill": {
     "duration": 0.039908,
     "end_time": "2022-03-23T02:47:22.846986",
     "exception": false,
     "start_time": "2022-03-23T02:47:22.807078",
     "status": "completed"
    },
    "tags": []
   },
   "outputs": [],
   "source": [
    "# global_x_transform_func = lambda x: normalize(x.to(torch.get_default_dtype()), \"unit_power\") # unit_power, unit_mag\n",
    "# global_x_transform_func = lambda x: normalize(x, \"unit_power\") # unit_power, unit_mag"
   ]
  },
  {
   "cell_type": "code",
   "execution_count": 12,
   "id": "acb78fd2",
   "metadata": {
    "execution": {
     "iopub.execute_input": "2022-03-23T02:47:22.899394Z",
     "iopub.status.busy": "2022-03-23T02:47:22.899016Z",
     "iopub.status.idle": "2022-03-23T02:47:22.917946Z",
     "shell.execute_reply": "2022-03-23T02:47:22.917153Z"
    },
    "papermill": {
     "duration": 0.045848,
     "end_time": "2022-03-23T02:47:22.918096",
     "exception": false,
     "start_time": "2022-03-23T02:47:22.872248",
     "status": "completed"
    },
    "tags": []
   },
   "outputs": [],
   "source": [
    "def add_dataset(\n",
    "    labels,\n",
    "    domains,\n",
    "    pickle_path,\n",
    "    x_transforms,\n",
    "    episode_transforms,\n",
    "    domain_prefix,\n",
    "    num_examples_per_domain_per_label,\n",
    "    source_or_target_dataset:str,\n",
    "    iterator_seed=p.seed,\n",
    "    dataset_seed=p.dataset_seed,\n",
    "    n_shot=p.n_shot,\n",
    "    n_way=p.n_way,\n",
    "    n_query=p.n_query,\n",
    "    train_val_test_k_factors=(p.train_k_factor,p.val_k_factor,p.test_k_factor),\n",
    "):\n",
    "   \n",
    "    if x_transforms == []: x_transform = None\n",
    "    else: x_transform = get_chained_transform(x_transforms)\n",
    "    \n",
    "    if episode_transforms == []: episode_transform = None\n",
    "    else: raise Exception(\"episode_transforms not implemented\")\n",
    "    \n",
    "    episode_transform = lambda tup, _prefix=domain_prefix: (_prefix + str(tup[0]), tup[1])\n",
    "\n",
    "\n",
    "    eaf = Episodic_Accessor_Factory(\n",
    "        labels=labels,\n",
    "        domains=domains,\n",
    "        num_examples_per_domain_per_label=num_examples_per_domain_per_label,\n",
    "        iterator_seed=iterator_seed,\n",
    "        dataset_seed=dataset_seed,\n",
    "        n_shot=n_shot,\n",
    "        n_way=n_way,\n",
    "        n_query=n_query,\n",
    "        train_val_test_k_factors=train_val_test_k_factors,\n",
    "        pickle_path=pickle_path,\n",
    "        x_transform_func=x_transform,\n",
    "    )\n",
    "\n",
    "    train, val, test = eaf.get_train(), eaf.get_val(), eaf.get_test()\n",
    "    train = Lazy_Iterable_Wrapper(train, episode_transform)\n",
    "    val = Lazy_Iterable_Wrapper(val, episode_transform)\n",
    "    test = Lazy_Iterable_Wrapper(test, episode_transform)\n",
    "\n",
    "    if source_or_target_dataset==\"source\":\n",
    "        train_original_source.append(train)\n",
    "        val_original_source.append(val)\n",
    "        test_original_source.append(test)\n",
    "\n",
    "        p.domains_source.extend(\n",
    "            [domain_prefix + str(u) for u in domains]\n",
    "        )\n",
    "    elif source_or_target_dataset==\"target\":\n",
    "        train_original_target.append(train)\n",
    "        val_original_target.append(val)\n",
    "        test_original_target.append(test)\n",
    "        p.domains_target.extend(\n",
    "            [domain_prefix + str(u) for u in domains]\n",
    "        )\n",
    "    else:\n",
    "        raise Exception(f\"invalid source_or_target_dataset: {source_or_target_dataset}\")\n",
    "    "
   ]
  },
  {
   "cell_type": "code",
   "execution_count": 13,
   "id": "fe266617",
   "metadata": {
    "execution": {
     "iopub.execute_input": "2022-03-23T02:47:22.966930Z",
     "iopub.status.busy": "2022-03-23T02:47:22.966573Z",
     "iopub.status.idle": "2022-03-23T02:48:09.471727Z",
     "shell.execute_reply": "2022-03-23T02:48:09.470967Z"
    },
    "papermill": {
     "duration": 46.527869,
     "end_time": "2022-03-23T02:48:09.471916",
     "exception": false,
     "start_time": "2022-03-23T02:47:22.944047",
     "status": "completed"
    },
    "tags": []
   },
   "outputs": [],
   "source": [
    "for ds in p.datasets:\n",
    "    add_dataset(**ds)"
   ]
  },
  {
   "cell_type": "code",
   "execution_count": 14,
   "id": "b90d65ac",
   "metadata": {
    "execution": {
     "iopub.execute_input": "2022-03-23T02:48:09.522916Z",
     "iopub.status.busy": "2022-03-23T02:48:09.522176Z",
     "iopub.status.idle": "2022-03-23T02:48:09.546731Z",
     "shell.execute_reply": "2022-03-23T02:48:09.545941Z"
    },
    "papermill": {
     "duration": 0.048927,
     "end_time": "2022-03-23T02:48:09.546898",
     "exception": false,
     "start_time": "2022-03-23T02:48:09.497971",
     "status": "completed"
    },
    "tags": []
   },
   "outputs": [],
   "source": [
    "# from steves_utils.CORES.utils import (\n",
    "#     ALL_NODES,\n",
    "#     ALL_NODES_MINIMUM_1000_EXAMPLES,\n",
    "#     ALL_DAYS\n",
    "# )\n",
    "\n",
    "# add_dataset(\n",
    "#     labels=ALL_NODES,\n",
    "#     domains = ALL_DAYS,\n",
    "#     num_examples_per_domain_per_label=100,\n",
    "#     pickle_path=os.path.join(get_datasets_base_path(), \"cores.stratified_ds.2022A.pkl\"),\n",
    "#     source_or_target_dataset=\"target\",\n",
    "#     x_transform_func=global_x_transform_func,\n",
    "#     domain_modifier=lambda u: f\"cores_{u}\"\n",
    "# )"
   ]
  },
  {
   "cell_type": "code",
   "execution_count": 15,
   "id": "76db484d",
   "metadata": {
    "execution": {
     "iopub.execute_input": "2022-03-23T02:48:09.597730Z",
     "iopub.status.busy": "2022-03-23T02:48:09.595941Z",
     "iopub.status.idle": "2022-03-23T02:48:09.618054Z",
     "shell.execute_reply": "2022-03-23T02:48:09.617271Z"
    },
    "papermill": {
     "duration": 0.045733,
     "end_time": "2022-03-23T02:48:09.618207",
     "exception": false,
     "start_time": "2022-03-23T02:48:09.572474",
     "status": "completed"
    },
    "tags": []
   },
   "outputs": [],
   "source": [
    "# from steves_utils.ORACLE.utils_v2 import (\n",
    "#     ALL_DISTANCES_FEET,\n",
    "#     ALL_RUNS,\n",
    "#     ALL_SERIAL_NUMBERS,\n",
    "# )\n",
    "\n",
    "\n",
    "# add_dataset(\n",
    "#     labels=ALL_SERIAL_NUMBERS,\n",
    "#     domains = list(set(ALL_DISTANCES_FEET) - {2,62}),\n",
    "#     num_examples_per_domain_per_label=100,\n",
    "#     pickle_path=os.path.join(get_datasets_base_path(), \"oracle.Run2_framed_2000Examples_stratified_ds.2022A.pkl\"),\n",
    "#     source_or_target_dataset=\"source\",\n",
    "#     x_transform_func=global_x_transform_func,\n",
    "#     domain_modifier=lambda u: f\"oracle1_{u}\"\n",
    "# )\n"
   ]
  },
  {
   "cell_type": "code",
   "execution_count": 16,
   "id": "97dea9d2",
   "metadata": {
    "execution": {
     "iopub.execute_input": "2022-03-23T02:48:09.669348Z",
     "iopub.status.busy": "2022-03-23T02:48:09.668923Z",
     "iopub.status.idle": "2022-03-23T02:48:09.690350Z",
     "shell.execute_reply": "2022-03-23T02:48:09.689549Z"
    },
    "papermill": {
     "duration": 0.045524,
     "end_time": "2022-03-23T02:48:09.690503",
     "exception": false,
     "start_time": "2022-03-23T02:48:09.644979",
     "status": "completed"
    },
    "tags": []
   },
   "outputs": [],
   "source": [
    "# from steves_utils.ORACLE.utils_v2 import (\n",
    "#     ALL_DISTANCES_FEET,\n",
    "#     ALL_RUNS,\n",
    "#     ALL_SERIAL_NUMBERS,\n",
    "# )\n",
    "\n",
    "\n",
    "# add_dataset(\n",
    "#     labels=ALL_SERIAL_NUMBERS,\n",
    "#     domains = list(set(ALL_DISTANCES_FEET) - {2,62,56}),\n",
    "#     num_examples_per_domain_per_label=100,\n",
    "#     pickle_path=os.path.join(get_datasets_base_path(), \"oracle.Run2_framed_2000Examples_stratified_ds.2022A.pkl\"),\n",
    "#     source_or_target_dataset=\"source\",\n",
    "#     x_transform_func=global_x_transform_func,\n",
    "#     domain_modifier=lambda u: f\"oracle2_{u}\"\n",
    "# )"
   ]
  },
  {
   "cell_type": "code",
   "execution_count": 17,
   "id": "6f289866",
   "metadata": {
    "execution": {
     "iopub.execute_input": "2022-03-23T02:48:09.742016Z",
     "iopub.status.busy": "2022-03-23T02:48:09.741442Z",
     "iopub.status.idle": "2022-03-23T02:48:09.758901Z",
     "shell.execute_reply": "2022-03-23T02:48:09.758099Z"
    },
    "papermill": {
     "duration": 0.040566,
     "end_time": "2022-03-23T02:48:09.759053",
     "exception": false,
     "start_time": "2022-03-23T02:48:09.718487",
     "status": "completed"
    },
    "tags": []
   },
   "outputs": [],
   "source": [
    "# add_dataset(\n",
    "#     labels=list(range(19)),\n",
    "#     domains = [0,1,2],\n",
    "#     num_examples_per_domain_per_label=100,\n",
    "#     pickle_path=os.path.join(get_datasets_base_path(), \"metehan.stratified_ds.2022A.pkl\"),\n",
    "#     source_or_target_dataset=\"target\",\n",
    "#     x_transform_func=global_x_transform_func,\n",
    "#     domain_modifier=lambda u: f\"met_{u}\"\n",
    "# )"
   ]
  },
  {
   "cell_type": "code",
   "execution_count": 18,
   "id": "86a863c3",
   "metadata": {
    "execution": {
     "iopub.execute_input": "2022-03-23T02:48:09.811089Z",
     "iopub.status.busy": "2022-03-23T02:48:09.810190Z",
     "iopub.status.idle": "2022-03-23T02:48:09.832886Z",
     "shell.execute_reply": "2022-03-23T02:48:09.832146Z"
    },
    "papermill": {
     "duration": 0.045963,
     "end_time": "2022-03-23T02:48:09.833038",
     "exception": false,
     "start_time": "2022-03-23T02:48:09.787075",
     "status": "completed"
    },
    "tags": []
   },
   "outputs": [],
   "source": [
    "# # from steves_utils.wisig.utils import (\n",
    "# #     ALL_NODES_MINIMUM_100_EXAMPLES,\n",
    "# #     ALL_NODES_MINIMUM_500_EXAMPLES,\n",
    "# #     ALL_NODES_MINIMUM_1000_EXAMPLES,\n",
    "# #     ALL_DAYS\n",
    "# # )\n",
    "\n",
    "# import steves_utils.wisig.utils as wisig\n",
    "\n",
    "\n",
    "# add_dataset(\n",
    "#     labels=wisig.ALL_NODES_MINIMUM_100_EXAMPLES,\n",
    "#     domains = wisig.ALL_DAYS,\n",
    "#     num_examples_per_domain_per_label=100,\n",
    "#     pickle_path=os.path.join(get_datasets_base_path(), \"wisig.node3-19.stratified_ds.2022A.pkl\"),\n",
    "#     source_or_target_dataset=\"target\",\n",
    "#     x_transform_func=global_x_transform_func,\n",
    "#     domain_modifier=lambda u: f\"wisig_{u}\"\n",
    "# )"
   ]
  },
  {
   "cell_type": "code",
   "execution_count": 19,
   "id": "fd5442bc",
   "metadata": {
    "execution": {
     "iopub.execute_input": "2022-03-23T02:48:09.884859Z",
     "iopub.status.busy": "2022-03-23T02:48:09.884293Z",
     "iopub.status.idle": "2022-03-23T02:48:09.902618Z",
     "shell.execute_reply": "2022-03-23T02:48:09.901927Z"
    },
    "papermill": {
     "duration": 0.045205,
     "end_time": "2022-03-23T02:48:09.902768",
     "exception": false,
     "start_time": "2022-03-23T02:48:09.857563",
     "status": "completed"
    },
    "tags": []
   },
   "outputs": [],
   "source": [
    "###################################\n",
    "# Build the dataset\n",
    "###################################\n",
    "train_original_source = Iterable_Aggregator(train_original_source, p.seed)\n",
    "val_original_source = Iterable_Aggregator(val_original_source, p.seed)\n",
    "test_original_source = Iterable_Aggregator(test_original_source, p.seed)\n",
    "\n",
    "\n",
    "train_original_target = Iterable_Aggregator(train_original_target, p.seed)\n",
    "val_original_target = Iterable_Aggregator(val_original_target, p.seed)\n",
    "test_original_target = Iterable_Aggregator(test_original_target, p.seed)\n",
    "\n",
    "# For CNN We only use X and Y. And we only train on the source.\n",
    "# Properly form the data using a transform lambda and Lazy_Iterable_Wrapper. Finally wrap them in a dataloader\n",
    "\n",
    "transform_lambda = lambda ex: ex[1] # Original is (<domain>, <episode>) so we strip down to episode only\n",
    "\n",
    "train_processed_source = Lazy_Iterable_Wrapper(train_original_source, transform_lambda)\n",
    "val_processed_source   = Lazy_Iterable_Wrapper(val_original_source, transform_lambda)\n",
    "test_processed_source  = Lazy_Iterable_Wrapper(test_original_source, transform_lambda)\n",
    "\n",
    "train_processed_target = Lazy_Iterable_Wrapper(train_original_target, transform_lambda)\n",
    "val_processed_target   = Lazy_Iterable_Wrapper(val_original_target, transform_lambda)\n",
    "test_processed_target  = Lazy_Iterable_Wrapper(test_original_target, transform_lambda)\n",
    "\n",
    "datasets = EasyDict({\n",
    "    \"source\": {\n",
    "        \"original\": {\"train\":train_original_source, \"val\":val_original_source, \"test\":test_original_source},\n",
    "        \"processed\": {\"train\":train_processed_source, \"val\":val_processed_source, \"test\":test_processed_source}\n",
    "    },\n",
    "    \"target\": {\n",
    "        \"original\": {\"train\":train_original_target, \"val\":val_original_target, \"test\":test_original_target},\n",
    "        \"processed\": {\"train\":train_processed_target, \"val\":val_processed_target, \"test\":test_processed_target}\n",
    "    },\n",
    "})"
   ]
  },
  {
   "cell_type": "code",
   "execution_count": 20,
   "id": "5b3c01fc",
   "metadata": {
    "execution": {
     "iopub.execute_input": "2022-03-23T02:48:09.959195Z",
     "iopub.status.busy": "2022-03-23T02:48:09.956462Z",
     "iopub.status.idle": "2022-03-23T02:48:24.910318Z",
     "shell.execute_reply": "2022-03-23T02:48:24.911331Z"
    },
    "papermill": {
     "duration": 14.983055,
     "end_time": "2022-03-23T02:48:24.911589",
     "exception": false,
     "start_time": "2022-03-23T02:48:09.928534",
     "status": "completed"
    },
    "tags": []
   },
   "outputs": [
    {
     "name": "stdout",
     "output_type": "stream",
     "text": [
      "{'Wisig_3', 'Wisig_4', 'Wisig_1', 'Wisig_2'}\n"
     ]
    },
    {
     "name": "stdout",
     "output_type": "stream",
     "text": [
      "{'ORACLE.run114', 'ORACLE.run120', 'ORACLE.run150', 'ORACLE.run126', 'ORACLE.run18', 'ORACLE.run144', 'ORACLE.run138', 'ORACLE.run132'}\n"
     ]
    },
    {
     "name": "stdout",
     "output_type": "stream",
     "text": [
      "tensor([[[-0.4211,  0.5775,  1.1953,  ...,  0.1992,  0.4561,  1.0415],\n",
      "         [-0.4945, -1.0738,  0.2700,  ..., -0.2682, -0.6239, -0.0917]],\n",
      "\n",
      "        [[-0.3825,  0.7995,  1.2209,  ...,  0.1532,  0.5235,  1.1301],\n",
      "         [-0.9293, -0.9155,  0.5979,  ..., -0.3193, -0.5529, -0.0104]],\n",
      "\n",
      "        [[-0.6094,  0.8587,  1.0361,  ..., -0.4112,  0.3653,  0.9132],\n",
      "         [-0.8119, -1.0907,  0.4432,  ..., -0.5635, -1.0837, -0.0234]],\n",
      "\n",
      "        ...,\n",
      "\n",
      "        [[-0.2068,  1.1921,  1.8260,  ..., -0.3565,  1.2173,  1.1383],\n",
      "         [-0.2875, -1.2173, -0.4002,  ..., -0.4523,  0.2034,  0.5162]],\n",
      "\n",
      "        [[-0.6686,  1.1887,  1.9663,  ...,  0.2080,  0.9229,  0.1238],\n",
      "         [-0.1387, -0.2542,  0.5332,  ..., -0.2658, -0.2625,  0.8998]],\n",
      "\n",
      "        [[ 0.3971, -0.0899, -1.4323,  ...,  0.5125, -0.3292, -1.2185],\n",
      "         [-0.1527,  0.9588,  1.0929,  ...,  0.4022,  0.6449, -0.4277]]])\n"
     ]
    }
   ],
   "source": [
    "from steves_utils.transforms import get_average_magnitude, get_average_power\n",
    "\n",
    "print(set([u for u,_ in val_original_source]))\n",
    "print(set([u for u,_ in val_original_target]))\n",
    "\n",
    "s_x, s_y, q_x, q_y, _ = next(iter(train_processed_source))\n",
    "print(s_x)\n",
    "\n",
    "# for ds in [\n",
    "#     train_processed_source,\n",
    "#     val_processed_source,\n",
    "#     test_processed_source,\n",
    "#     train_processed_target,\n",
    "#     val_processed_target,\n",
    "#     test_processed_target\n",
    "# ]:\n",
    "#     for s_x, s_y, q_x, q_y, _ in ds:\n",
    "#         for X in (s_x, q_x):\n",
    "#             for x in X:\n",
    "#                 assert np.isclose(get_average_magnitude(x.numpy()), 1.0)\n",
    "#                 assert np.isclose(get_average_power(x.numpy()), 1.0)\n",
    "                "
   ]
  },
  {
   "cell_type": "code",
   "execution_count": 21,
   "id": "bbdacba1",
   "metadata": {
    "execution": {
     "iopub.execute_input": "2022-03-23T02:48:24.964962Z",
     "iopub.status.busy": "2022-03-23T02:48:24.963934Z",
     "iopub.status.idle": "2022-03-23T02:48:25.087206Z",
     "shell.execute_reply": "2022-03-23T02:48:25.087885Z"
    },
    "papermill": {
     "duration": 0.150671,
     "end_time": "2022-03-23T02:48:25.088078",
     "exception": false,
     "start_time": "2022-03-23T02:48:24.937407",
     "status": "completed"
    },
    "tags": []
   },
   "outputs": [
    {
     "name": "stdout",
     "output_type": "stream",
     "text": [
      "(2, 256)\n"
     ]
    }
   ],
   "source": [
    "###################################\n",
    "# Build the model\n",
    "###################################\n",
    "# easfsl only wants a tuple for the shape\n",
    "model = Steves_Prototypical_Network(x_net, device=p.device, x_shape=tuple(p.x_shape))\n",
    "optimizer = Adam(params=model.parameters(), lr=p.lr)"
   ]
  },
  {
   "cell_type": "code",
   "execution_count": 22,
   "id": "22b39ac5",
   "metadata": {
    "execution": {
     "iopub.execute_input": "2022-03-23T02:48:25.150242Z",
     "iopub.status.busy": "2022-03-23T02:48:25.149878Z",
     "iopub.status.idle": "2022-03-23T03:02:09.157856Z",
     "shell.execute_reply": "2022-03-23T03:02:09.157509Z"
    },
    "papermill": {
     "duration": 824.043037,
     "end_time": "2022-03-23T03:02:09.157942",
     "exception": false,
     "start_time": "2022-03-23T02:48:25.114905",
     "status": "completed"
    },
    "tags": []
   },
   "outputs": [
    {
     "name": "stdout",
     "output_type": "stream",
     "text": [
      "epoch: 1, [batch: 1 / 6851], examples_per_second: 31.2218, train_label_loss: 2.5824, \n"
     ]
    },
    {
     "name": "stdout",
     "output_type": "stream",
     "text": [
      "epoch: 1, [batch: 686 / 6851], examples_per_second: 3896.2514, train_label_loss: 0.1845, \n"
     ]
    },
    {
     "name": "stdout",
     "output_type": "stream",
     "text": [
      "epoch: 1, [batch: 1371 / 6851], examples_per_second: 3895.0796, train_label_loss: 0.0509, \n"
     ]
    },
    {
     "name": "stdout",
     "output_type": "stream",
     "text": [
      "epoch: 1, [batch: 2056 / 6851], examples_per_second: 3923.5698, train_label_loss: 0.0095, \n"
     ]
    },
    {
     "name": "stdout",
     "output_type": "stream",
     "text": [
      "epoch: 1, [batch: 2741 / 6851], examples_per_second: 3996.8256, train_label_loss: 0.2274, \n"
     ]
    },
    {
     "name": "stdout",
     "output_type": "stream",
     "text": [
      "epoch: 1, [batch: 3426 / 6851], examples_per_second: 4000.3445, train_label_loss: 0.0296, \n"
     ]
    },
    {
     "name": "stdout",
     "output_type": "stream",
     "text": [
      "epoch: 1, [batch: 4111 / 6851], examples_per_second: 3998.3720, train_label_loss: 0.0319, \n"
     ]
    },
    {
     "name": "stdout",
     "output_type": "stream",
     "text": [
      "epoch: 1, [batch: 4796 / 6851], examples_per_second: 4058.3173, train_label_loss: 0.0385, \n"
     ]
    },
    {
     "name": "stdout",
     "output_type": "stream",
     "text": [
      "epoch: 1, [batch: 5481 / 6851], examples_per_second: 4025.8851, train_label_loss: 0.0655, \n"
     ]
    },
    {
     "name": "stdout",
     "output_type": "stream",
     "text": [
      "epoch: 1, [batch: 6166 / 6851], examples_per_second: 3919.4044, train_label_loss: 0.1249, \n"
     ]
    },
    {
     "name": "stdout",
     "output_type": "stream",
     "text": [
      "=============================================================\n",
      "epoch: 1, source_val_acc_label: 0.9599, target_val_acc_label: 0.1246, source_val_label_loss: 0.1728, target_val_label_loss: 2.6484, \n",
      "=============================================================\n"
     ]
    },
    {
     "name": "stdout",
     "output_type": "stream",
     "text": [
      "New best\n"
     ]
    },
    {
     "name": "stdout",
     "output_type": "stream",
     "text": [
      "epoch: 2, [batch: 1 / 6838], examples_per_second: 3.8739, train_label_loss: 0.1047, \n"
     ]
    },
    {
     "name": "stdout",
     "output_type": "stream",
     "text": [
      "epoch: 2, [batch: 684 / 6838], examples_per_second: 3954.9516, train_label_loss: 0.1975, \n"
     ]
    },
    {
     "name": "stdout",
     "output_type": "stream",
     "text": [
      "epoch: 2, [batch: 1368 / 6838], examples_per_second: 3963.5089, train_label_loss: 0.0663, \n"
     ]
    },
    {
     "name": "stdout",
     "output_type": "stream",
     "text": [
      "epoch: 2, [batch: 2052 / 6838], examples_per_second: 3972.6135, train_label_loss: 0.0392, \n"
     ]
    },
    {
     "name": "stdout",
     "output_type": "stream",
     "text": [
      "epoch: 2, [batch: 2735 / 6838], examples_per_second: 3889.9337, train_label_loss: 0.0668, \n"
     ]
    },
    {
     "name": "stdout",
     "output_type": "stream",
     "text": [
      "epoch: 2, [batch: 3419 / 6838], examples_per_second: 3935.0072, train_label_loss: 0.0208, \n"
     ]
    },
    {
     "name": "stdout",
     "output_type": "stream",
     "text": [
      "epoch: 2, [batch: 4103 / 6838], examples_per_second: 4014.7894, train_label_loss: 0.0087, \n"
     ]
    },
    {
     "name": "stdout",
     "output_type": "stream",
     "text": [
      "epoch: 2, [batch: 4786 / 6838], examples_per_second: 3913.6536, train_label_loss: 0.0129, \n"
     ]
    },
    {
     "name": "stdout",
     "output_type": "stream",
     "text": [
      "epoch: 2, [batch: 5470 / 6838], examples_per_second: 3917.5984, train_label_loss: 0.0819, \n"
     ]
    },
    {
     "name": "stdout",
     "output_type": "stream",
     "text": [
      "epoch: 2, [batch: 6154 / 6838], examples_per_second: 3981.4205, train_label_loss: 0.1425, \n"
     ]
    },
    {
     "name": "stdout",
     "output_type": "stream",
     "text": [
      "=============================================================\n",
      "epoch: 2, source_val_acc_label: 0.9690, target_val_acc_label: 0.1182, source_val_label_loss: 0.1374, target_val_label_loss: 2.6903, \n",
      "=============================================================\n"
     ]
    },
    {
     "name": "stdout",
     "output_type": "stream",
     "text": [
      "epoch: 3, [batch: 1 / 6850], examples_per_second: 3.8220, train_label_loss: 0.0526, \n"
     ]
    },
    {
     "name": "stdout",
     "output_type": "stream",
     "text": [
      "epoch: 3, [batch: 685 / 6850], examples_per_second: 3943.4020, train_label_loss: 0.0030, \n"
     ]
    },
    {
     "name": "stdout",
     "output_type": "stream",
     "text": [
      "epoch: 3, [batch: 1370 / 6850], examples_per_second: 3980.8013, train_label_loss: 0.0013, \n"
     ]
    },
    {
     "name": "stdout",
     "output_type": "stream",
     "text": [
      "epoch: 3, [batch: 2055 / 6850], examples_per_second: 3982.8554, train_label_loss: 0.0575, \n"
     ]
    },
    {
     "name": "stdout",
     "output_type": "stream",
     "text": [
      "epoch: 3, [batch: 2740 / 6850], examples_per_second: 3926.0242, train_label_loss: 0.0998, \n"
     ]
    },
    {
     "name": "stdout",
     "output_type": "stream",
     "text": [
      "epoch: 3, [batch: 3425 / 6850], examples_per_second: 3933.7779, train_label_loss: 0.0472, \n"
     ]
    },
    {
     "name": "stdout",
     "output_type": "stream",
     "text": [
      "epoch: 3, [batch: 4110 / 6850], examples_per_second: 3857.1136, train_label_loss: 0.3329, \n"
     ]
    },
    {
     "name": "stdout",
     "output_type": "stream",
     "text": [
      "epoch: 3, [batch: 4795 / 6850], examples_per_second: 3813.4174, train_label_loss: 0.1276, \n"
     ]
    },
    {
     "name": "stdout",
     "output_type": "stream",
     "text": [
      "epoch: 3, [batch: 5480 / 6850], examples_per_second: 3864.7729, train_label_loss: 0.0908, \n"
     ]
    },
    {
     "name": "stdout",
     "output_type": "stream",
     "text": [
      "epoch: 3, [batch: 6165 / 6850], examples_per_second: 3946.0264, train_label_loss: 0.0030, \n"
     ]
    },
    {
     "name": "stdout",
     "output_type": "stream",
     "text": [
      "=============================================================\n",
      "epoch: 3, source_val_acc_label: 0.9713, target_val_acc_label: 0.1006, source_val_label_loss: 0.1252, target_val_label_loss: 2.7557, \n",
      "=============================================================\n"
     ]
    },
    {
     "name": "stdout",
     "output_type": "stream",
     "text": [
      "epoch: 4, [batch: 1 / 6835], examples_per_second: 3.8075, train_label_loss: 0.0163, \n"
     ]
    },
    {
     "name": "stdout",
     "output_type": "stream",
     "text": [
      "epoch: 4, [batch: 684 / 6835], examples_per_second: 3908.1929, train_label_loss: 0.3286, \n"
     ]
    },
    {
     "name": "stdout",
     "output_type": "stream",
     "text": [
      "epoch: 4, [batch: 1367 / 6835], examples_per_second: 3928.3721, train_label_loss: 0.1234, \n"
     ]
    },
    {
     "name": "stdout",
     "output_type": "stream",
     "text": [
      "epoch: 4, [batch: 2051 / 6835], examples_per_second: 3984.0019, train_label_loss: 0.0034, \n"
     ]
    },
    {
     "name": "stdout",
     "output_type": "stream",
     "text": [
      "epoch: 4, [batch: 2734 / 6835], examples_per_second: 3909.0240, train_label_loss: 0.0090, \n"
     ]
    },
    {
     "name": "stdout",
     "output_type": "stream",
     "text": [
      "epoch: 4, [batch: 3418 / 6835], examples_per_second: 3902.9493, train_label_loss: 0.1588, \n"
     ]
    },
    {
     "name": "stdout",
     "output_type": "stream",
     "text": [
      "epoch: 4, [batch: 4101 / 6835], examples_per_second: 3877.5322, train_label_loss: 0.1066, \n"
     ]
    },
    {
     "name": "stdout",
     "output_type": "stream",
     "text": [
      "epoch: 4, [batch: 4784 / 6835], examples_per_second: 3841.8990, train_label_loss: 0.0029, \n"
     ]
    },
    {
     "name": "stdout",
     "output_type": "stream",
     "text": [
      "epoch: 4, [batch: 5468 / 6835], examples_per_second: 3789.9776, train_label_loss: 0.2238, \n"
     ]
    },
    {
     "name": "stdout",
     "output_type": "stream",
     "text": [
      "epoch: 4, [batch: 6151 / 6835], examples_per_second: 3932.6288, train_label_loss: 0.0128, \n"
     ]
    },
    {
     "name": "stdout",
     "output_type": "stream",
     "text": [
      "=============================================================\n",
      "epoch: 4, source_val_acc_label: 0.9730, target_val_acc_label: 0.0981, source_val_label_loss: 0.1234, target_val_label_loss: 2.7736, \n",
      "=============================================================\n"
     ]
    },
    {
     "name": "stdout",
     "output_type": "stream",
     "text": [
      "epoch: 5, [batch: 1 / 6849], examples_per_second: 4.1667, train_label_loss: 0.0248, \n"
     ]
    },
    {
     "name": "stdout",
     "output_type": "stream",
     "text": [
      "epoch: 5, [batch: 685 / 6849], examples_per_second: 4362.8515, train_label_loss: 0.0112, \n"
     ]
    },
    {
     "name": "stdout",
     "output_type": "stream",
     "text": [
      "epoch: 5, [batch: 1370 / 6849], examples_per_second: 4378.7934, train_label_loss: 0.0753, \n"
     ]
    },
    {
     "name": "stdout",
     "output_type": "stream",
     "text": [
      "epoch: 5, [batch: 2055 / 6849], examples_per_second: 4951.8629, train_label_loss: 0.1246, \n"
     ]
    },
    {
     "name": "stdout",
     "output_type": "stream",
     "text": [
      "epoch: 5, [batch: 2740 / 6849], examples_per_second: 4969.8253, train_label_loss: 0.0909, \n"
     ]
    },
    {
     "name": "stdout",
     "output_type": "stream",
     "text": [
      "epoch: 5, [batch: 3425 / 6849], examples_per_second: 3972.0325, train_label_loss: 0.1373, \n"
     ]
    },
    {
     "name": "stdout",
     "output_type": "stream",
     "text": [
      "epoch: 5, [batch: 4109 / 6849], examples_per_second: 3909.3805, train_label_loss: 0.0129, \n"
     ]
    },
    {
     "name": "stdout",
     "output_type": "stream",
     "text": [
      "epoch: 5, [batch: 4794 / 6849], examples_per_second: 3896.1177, train_label_loss: 0.0567, \n"
     ]
    },
    {
     "name": "stdout",
     "output_type": "stream",
     "text": [
      "epoch: 5, [batch: 5479 / 6849], examples_per_second: 3910.2588, train_label_loss: 0.0023, \n"
     ]
    },
    {
     "name": "stdout",
     "output_type": "stream",
     "text": [
      "epoch: 5, [batch: 6164 / 6849], examples_per_second: 4097.0096, train_label_loss: 0.0069, \n"
     ]
    },
    {
     "name": "stdout",
     "output_type": "stream",
     "text": [
      "=============================================================\n",
      "epoch: 5, source_val_acc_label: 0.9721, target_val_acc_label: 0.0932, source_val_label_loss: 0.1282, target_val_label_loss: 2.8217, \n",
      "=============================================================\n"
     ]
    },
    {
     "name": "stdout",
     "output_type": "stream",
     "text": [
      "Patience (3) exhausted\n"
     ]
    }
   ],
   "source": [
    "###################################\n",
    "# train\n",
    "###################################\n",
    "jig = PTN_Train_Eval_Test_Jig(model, p.BEST_MODEL_PATH, p.device)\n",
    "\n",
    "jig.train(\n",
    "    train_iterable=datasets.source.processed.train,\n",
    "    source_val_iterable=datasets.source.processed.val,\n",
    "    target_val_iterable=datasets.target.processed.val,\n",
    "    num_epochs=p.n_epoch,\n",
    "    num_logs_per_epoch=p.NUM_LOGS_PER_EPOCH,\n",
    "    patience=p.patience,\n",
    "    optimizer=optimizer,\n",
    "    criteria_for_best=p.criteria_for_best,\n",
    ")"
   ]
  },
  {
   "cell_type": "code",
   "execution_count": 23,
   "id": "31e8fabf",
   "metadata": {
    "execution": {
     "iopub.execute_input": "2022-03-23T03:02:09.238500Z",
     "iopub.status.busy": "2022-03-23T03:02:09.238129Z",
     "iopub.status.idle": "2022-03-23T03:02:09.269205Z",
     "shell.execute_reply": "2022-03-23T03:02:09.268455Z"
    },
    "papermill": {
     "duration": 0.073629,
     "end_time": "2022-03-23T03:02:09.269384",
     "exception": false,
     "start_time": "2022-03-23T03:02:09.195755",
     "status": "completed"
    },
    "tags": []
   },
   "outputs": [],
   "source": [
    "total_experiment_time_secs = time.time() - start_time_secs"
   ]
  },
  {
   "cell_type": "code",
   "execution_count": 24,
   "id": "87b9595b",
   "metadata": {
    "execution": {
     "iopub.execute_input": "2022-03-23T03:02:09.355374Z",
     "iopub.status.busy": "2022-03-23T03:02:09.354868Z",
     "iopub.status.idle": "2022-03-23T03:05:39.298556Z",
     "shell.execute_reply": "2022-03-23T03:05:39.288963Z"
    },
    "papermill": {
     "duration": 209.990057,
     "end_time": "2022-03-23T03:05:39.302561",
     "exception": false,
     "start_time": "2022-03-23T03:02:09.312504",
     "status": "completed"
    },
    "tags": []
   },
   "outputs": [],
   "source": [
    "###################################\n",
    "# Evaluate the model\n",
    "###################################\n",
    "source_test_label_accuracy, source_test_label_loss = jig.test(datasets.source.processed.test)\n",
    "target_test_label_accuracy, target_test_label_loss = jig.test(datasets.target.processed.test)\n",
    "\n",
    "source_val_label_accuracy, source_val_label_loss = jig.test(datasets.source.processed.val)\n",
    "target_val_label_accuracy, target_val_label_loss = jig.test(datasets.target.processed.val)\n",
    "\n",
    "history = jig.get_history()\n",
    "\n",
    "total_epochs_trained = len(history[\"epoch_indices\"])\n",
    "\n",
    "val_dl = Iterable_Aggregator((datasets.source.original.val,datasets.target.original.val))\n",
    "\n",
    "confusion = ptn_confusion_by_domain_over_dataloader(model, p.device, val_dl)\n",
    "per_domain_accuracy = per_domain_accuracy_from_confusion(confusion)\n",
    "\n",
    "# Add a key to per_domain_accuracy for if it was a source domain\n",
    "for domain, accuracy in per_domain_accuracy.items():\n",
    "    per_domain_accuracy[domain] = {\n",
    "        \"accuracy\": accuracy,\n",
    "        \"source?\": domain in p.domains_source\n",
    "    }\n",
    "\n",
    "# Do an independent accuracy assesment JUST TO BE SURE!\n",
    "# _source_test_label_accuracy = independent_accuracy_assesment(model, datasets.source.processed.test, p.device)\n",
    "# _target_test_label_accuracy = independent_accuracy_assesment(model, datasets.target.processed.test, p.device)\n",
    "# _source_val_label_accuracy = independent_accuracy_assesment(model, datasets.source.processed.val, p.device)\n",
    "# _target_val_label_accuracy = independent_accuracy_assesment(model, datasets.target.processed.val, p.device)\n",
    "\n",
    "# assert(_source_test_label_accuracy == source_test_label_accuracy)\n",
    "# assert(_target_test_label_accuracy == target_test_label_accuracy)\n",
    "# assert(_source_val_label_accuracy == source_val_label_accuracy)\n",
    "# assert(_target_val_label_accuracy == target_val_label_accuracy)\n",
    "\n",
    "experiment = {\n",
    "    \"experiment_name\": p.experiment_name,\n",
    "    \"parameters\": dict(p),\n",
    "    \"results\": {\n",
    "        \"source_test_label_accuracy\": source_test_label_accuracy,\n",
    "        \"source_test_label_loss\": source_test_label_loss,\n",
    "        \"target_test_label_accuracy\": target_test_label_accuracy,\n",
    "        \"target_test_label_loss\": target_test_label_loss,\n",
    "        \"source_val_label_accuracy\": source_val_label_accuracy,\n",
    "        \"source_val_label_loss\": source_val_label_loss,\n",
    "        \"target_val_label_accuracy\": target_val_label_accuracy,\n",
    "        \"target_val_label_loss\": target_val_label_loss,\n",
    "        \"total_epochs_trained\": total_epochs_trained,\n",
    "        \"total_experiment_time_secs\": total_experiment_time_secs,\n",
    "        \"confusion\": confusion,\n",
    "        \"per_domain_accuracy\": per_domain_accuracy,\n",
    "    },\n",
    "    \"history\": history,\n",
    "    \"dataset_metrics\": get_dataset_metrics(datasets, \"ptn\"),\n",
    "}"
   ]
  },
  {
   "cell_type": "code",
   "execution_count": 25,
   "id": "54a21829",
   "metadata": {
    "execution": {
     "iopub.execute_input": "2022-03-23T03:05:39.475250Z",
     "iopub.status.busy": "2022-03-23T03:05:39.474033Z",
     "iopub.status.idle": "2022-03-23T03:05:39.708278Z",
     "shell.execute_reply": "2022-03-23T03:05:39.708602Z"
    },
    "papermill": {
     "duration": 0.28564,
     "end_time": "2022-03-23T03:05:39.708737",
     "exception": false,
     "start_time": "2022-03-23T03:05:39.423097",
     "status": "completed"
    },
    "tags": []
   },
   "outputs": [
    {
     "data": {
      "image/png": "[encoded data removed]",
      "text/plain": [
       "<Figure size 1080x504 with 1 Axes>"
      ]
     },
     "metadata": {
      "needs_background": "light"
     },
     "output_type": "display_data"
    }
   ],
   "source": [
    "ax = get_loss_curve(experiment)\n",
    "plt.show()"
   ]
  },
  {
   "cell_type": "code",
   "execution_count": 26,
   "id": "fd8a0f60",
   "metadata": {
    "execution": {
     "iopub.execute_input": "2022-03-23T03:05:39.791140Z",
     "iopub.status.busy": "2022-03-23T03:05:39.790280Z",
     "iopub.status.idle": "2022-03-23T03:05:40.173872Z",
     "shell.execute_reply": "2022-03-23T03:05:40.174190Z"
    },
    "papermill": {
     "duration": 0.424985,
     "end_time": "2022-03-23T03:05:40.174327",
     "exception": false,
     "start_time": "2022-03-23T03:05:39.749342",
     "status": "completed"
    },
    "tags": []
   },
   "outputs": [
    {
     "data": {
      "text/plain": [
       "<AxesSubplot:title={'center':'Results'}>"
      ]
     },
     "execution_count": 26,
     "metadata": {},
     "output_type": "execute_result"
    },
    {
     "data": {
      "image/png": "[encoded data removed]",
      "text/plain": [
       "<Figure size 1080x504 with 1 Axes>"
      ]
     },
     "metadata": {
      "needs_background": "light"
     },
     "output_type": "display_data"
    }
   ],
   "source": [
    "get_results_table(experiment)"
   ]
  },
  {
   "cell_type": "code",
   "execution_count": 27,
   "id": "cf8dc689",
   "metadata": {
    "execution": {
     "iopub.execute_input": "2022-03-23T03:05:40.262522Z",
     "iopub.status.busy": "2022-03-23T03:05:40.261980Z",
     "iopub.status.idle": "2022-03-23T03:05:40.550471Z",
     "shell.execute_reply": "2022-03-23T03:05:40.551159Z"
    },
    "papermill": {
     "duration": 0.331733,
     "end_time": "2022-03-23T03:05:40.551393",
     "exception": false,
     "start_time": "2022-03-23T03:05:40.219660",
     "status": "completed"
    },
    "tags": []
   },
   "outputs": [
    {
     "data": {
      "text/plain": [
       "<AxesSubplot:title={'center':'Per Domain Validation Accuracy'}, xlabel='domain'>"
      ]
     },
     "execution_count": 27,
     "metadata": {},
     "output_type": "execute_result"
    },
    {
     "data": {
      "image/png": "[encoded data removed]",
      "text/plain": [
       "<Figure size 1080x504 with 1 Axes>"
      ]
     },
     "metadata": {
      "needs_background": "light"
     },
     "output_type": "display_data"
    }
   ],
   "source": [
    "get_domain_accuracies(experiment)"
   ]
  },
  {
   "cell_type": "code",
   "execution_count": 28,
   "id": "a74ae082",
   "metadata": {
    "execution": {
     "iopub.execute_input": "2022-03-23T03:05:40.643640Z",
     "iopub.status.busy": "2022-03-23T03:05:40.643066Z",
     "iopub.status.idle": "2022-03-23T03:05:40.667991Z",
     "shell.execute_reply": "2022-03-23T03:05:40.667638Z"
    },
    "papermill": {
     "duration": 0.069287,
     "end_time": "2022-03-23T03:05:40.668073",
     "exception": false,
     "start_time": "2022-03-23T03:05:40.598786",
     "status": "completed"
    },
    "tags": []
   },
   "outputs": [
    {
     "name": "stdout",
     "output_type": "stream",
     "text": [
      "Source Test Label Accuracy: 0.9597523219814241 Target Test Label Accuracy: 0.12506510416666666\n",
      "Source Val Label Accuracy: 0.9598732840549102 Target Val Label Accuracy: 0.12464192708333334\n"
     ]
    }
   ],
   "source": [
    "print(\"Source Test Label Accuracy:\", experiment[\"results\"][\"source_test_label_accuracy\"], \"Target Test Label Accuracy:\", experiment[\"results\"][\"target_test_label_accuracy\"])\n",
    "print(\"Source Val Label Accuracy:\", experiment[\"results\"][\"source_val_label_accuracy\"], \"Target Val Label Accuracy:\", experiment[\"results\"][\"target_val_label_accuracy\"])"
   ]
  },
  {
   "cell_type": "code",
   "execution_count": 29,
   "id": "dacca602",
   "metadata": {
    "execution": {
     "iopub.execute_input": "2022-03-23T03:05:40.755066Z",
     "iopub.status.busy": "2022-03-23T03:05:40.754521Z",
     "iopub.status.idle": "2022-03-23T03:05:40.780395Z",
     "shell.execute_reply": "2022-03-23T03:05:40.780700Z"
    },
    "papermill": {
     "duration": 0.070196,
     "end_time": "2022-03-23T03:05:40.780806",
     "exception": false,
     "start_time": "2022-03-23T03:05:40.710610",
     "status": "completed"
    },
    "tags": [
     "experiment_json"
    ]
   },
   "outputs": [
    {
     "data": {
      "text/plain": [
       "'{\"experiment_name\": \"tl_1v2:wisig-oracle.run1.limited\", \"parameters\": {\"experiment_name\": \"tl_1v2:wisig-oracle.run1.limited\", \"device\": \"cuda\", \"lr\": 0.0001, \"n_shot\": 3, \"n_query\": 2, \"train_k_factor\": 3, \"val_k_factor\": 2, \"test_k_factor\": 2, \"torch_default_dtype\": \"torch.float32\", \"n_epoch\": 50, \"patience\": 3, \"criteria_for_best\": \"target_accuracy\", \"x_net\": [{\"class\": \"nnReshape\", \"kargs\": {\"shape\": [-1, 1, 2, 256]}}, {\"class\": \"Conv2d\", \"kargs\": {\"in_channels\": 1, \"out_channels\": 256, \"kernel_size\": [1, 7], \"bias\": false, \"padding\": [0, 3]}}, {\"class\": \"ReLU\", \"kargs\": {\"inplace\": true}}, {\"class\": \"BatchNorm2d\", \"kargs\": {\"num_features\": 256}}, {\"class\": \"Conv2d\", \"kargs\": {\"in_channels\": 256, \"out_channels\": 80, \"kernel_size\": [2, 7], \"bias\": true, \"padding\": [0, 3]}}, {\"class\": \"ReLU\", \"kargs\": {\"inplace\": true}}, {\"class\": \"BatchNorm2d\", \"kargs\": {\"num_features\": 80}}, {\"class\": \"Flatten\", \"kargs\": {}}, {\"class\": \"Linear\", \"kargs\": {\"in_features\": 20480, \"out_features\": 256}}, {\"class\": \"ReLU\", \"kargs\": {\"inplace\": true}}, {\"class\": \"BatchNorm1d\", \"kargs\": {\"num_features\": 256}}, {\"class\": \"Linear\", \"kargs\": {\"in_features\": 256, \"out_features\": 256}}], \"NUM_LOGS_PER_EPOCH\": 10, \"BEST_MODEL_PATH\": \"./best_model.pth\", \"n_way\": 16, \"datasets\": [{\"labels\": [\"1-10\", \"1-12\", \"1-14\", \"1-16\", \"1-18\", \"1-19\", \"1-8\", \"10-11\", \"10-17\", \"10-4\", \"10-7\", \"11-1\", \"11-10\", \"11-19\", \"11-20\", \"11-4\", \"11-7\", \"12-19\", \"12-20\", \"12-7\", \"13-14\", \"13-18\", \"13-19\", \"13-20\", \"13-3\", \"13-7\", \"14-10\", \"14-11\", \"14-12\", \"14-13\", \"14-14\", \"14-19\", \"14-20\", \"14-7\", \"14-8\", \"14-9\", \"15-1\", \"15-19\", \"15-6\", \"16-1\", \"16-16\", \"16-19\", \"16-20\", \"17-10\", \"17-11\", \"18-1\", \"18-10\", \"18-11\", \"18-12\", \"18-13\", \"18-14\", \"18-15\", \"18-16\", \"18-17\", \"18-19\", \"18-2\", \"18-20\", \"18-4\", \"18-5\", \"18-7\", \"18-8\", \"18-9\", \"19-1\", \"19-10\", \"19-11\", \"19-12\", \"19-13\", \"19-14\", \"19-15\", \"19-19\", \"19-2\", \"19-20\", \"19-3\", \"19-4\", \"19-6\", \"19-7\", \"19-8\", \"19-9\", \"2-1\", \"2-13\", \"2-15\", \"2-3\", \"2-4\", \"2-5\", \"2-6\", \"2-7\", \"2-8\", \"20-1\", \"20-12\", \"20-14\", \"20-15\", \"20-16\", \"20-18\", \"20-19\", \"20-20\", \"20-3\", \"20-4\", \"20-5\", \"20-7\", \"20-8\", \"3-1\", \"3-13\", \"3-18\", \"3-2\", \"3-8\", \"4-1\", \"4-10\", \"4-11\", \"5-1\", \"5-5\", \"6-1\", \"6-15\", \"6-6\", \"7-10\", \"7-11\", \"7-12\", \"7-13\", \"7-14\", \"7-7\", \"7-8\", \"7-9\", \"8-1\", \"8-13\", \"8-14\", \"8-18\", \"8-20\", \"8-3\", \"8-8\", \"9-1\", \"9-7\"], \"domains\": [1, 2, 3, 4], \"num_examples_per_domain_per_label\": -1, \"pickle_path\": \"/root/csc500-main/datasets/wisig.node3-19.stratified_ds.2022A.pkl\", \"source_or_target_dataset\": \"source\", \"x_transforms\": [\"unit_mag\"], \"episode_transforms\": [], \"domain_prefix\": \"Wisig_\"}, {\"labels\": [\"3123D52\", \"3123D65\", \"3123D79\", \"3123D80\", \"3123D54\", \"3123D70\", \"3123D7B\", \"3123D89\", \"3123D58\", \"3123D76\", \"3123D7D\", \"3123EFE\", \"3123D64\", \"3123D78\", \"3123D7E\", \"3124E4A\"], \"domains\": [32, 38, 8, 44, 14, 50, 20, 26], \"num_examples_per_domain_per_label\": 2000, \"pickle_path\": \"/root/csc500-main/datasets/oracle.Run1_10kExamples_stratified_ds.2022A.pkl\", \"source_or_target_dataset\": \"target\", \"x_transforms\": [\"unit_mag\"], \"episode_transforms\": [], \"domain_prefix\": \"ORACLE.run1\"}], \"dataset_seed\": 7, \"seed\": 7, \"x_shape\": [2, 256], \"domains_source\": [\"Wisig_1\", \"Wisig_2\", \"Wisig_3\", \"Wisig_4\"], \"domains_target\": [\"ORACLE.run132\", \"ORACLE.run138\", \"ORACLE.run18\", \"ORACLE.run144\", \"ORACLE.run114\", \"ORACLE.run150\", \"ORACLE.run120\", \"ORACLE.run126\"]}, \"results\": {\"source_test_label_accuracy\": 0.9597523219814241, \"source_test_label_loss\": 0.17693567276000977, \"target_test_label_accuracy\": 0.12506510416666666, \"target_test_label_loss\": 2.6481409072875977, \"source_val_label_accuracy\": 0.9598732840549102, \"source_val_label_loss\": 0.1727716475725174, \"target_val_label_accuracy\": 0.12464192708333334, \"target_val_label_loss\": 2.648361921310425, \"total_epochs_trained\": 5, \"total_experiment_time_secs\": 886.5597496032715, \"confusion\": {\"Wisig_4\": {\"71\": {\"71\": 103, \"84\": 1}, \"17\": {\"17\": 20}, \"105\": {\"105\": 81, \"12\": 2, \"71\": 2, \"40\": 4, \"87\": 4, \"126\": 1, \"111\": 1, \"69\": 1, \"53\": 1, \"128\": 1, \"7\": 1, \"36\": 1}, \"92\": {\"92\": 27, \"84\": 1}, \"100\": {\"100\": 20}, \"6\": {\"6\": 23, \"125\": 1}, \"36\": {\"36\": 124, \"24\": 2, \"26\": 1, \"1\": 1}, \"35\": {\"35\": 12}, \"63\": {\"63\": 16}, \"104\": {\"104\": 16}, \"114\": {\"114\": 123, \"98\": 1, \"71\": 1, \"26\": 1, \"3\": 1, \"105\": 1}, \"68\": {\"68\": 16}, \"109\": {\"109\": 114, \"91\": 1, \"39\": 1}, \"27\": {\"27\": 93, \"81\": 1, \"78\": 1, \"108\": 1, \"73\": 1, \"7\": 1, \"88\": 1, \"110\": 1}, \"79\": {\"79\": 16}, \"0\": {\"0\": 98, \"69\": 1, \"70\": 1, \"118\": 1, \"21\": 1, \"87\": 1, \"107\": 1, \"1\": 1, \"12\": 1}, \"28\": {\"28\": 19, \"10\": 1}, \"4\": {\"4\": 101, \"21\": 1, \"27\": 1, \"85\": 1}, \"106\": {\"106\": 98, \"21\": 1, \"39\": 2, \"69\": 1}, \"40\": {\"40\": 131, \"16\": 1, \"69\": 1, \"18\": 1}, \"127\": {\"127\": 105, \"67\": 1, \"12\": 1, \"4\": 1}, \"57\": {\"57\": 14, \"51\": 1, \"27\": 1}, \"60\": {\"60\": 28, \"19\": 2, \"98\": 1, \"43\": 1}, \"69\": {\"69\": 120, \"84\": 1, \"27\": 1, \"1\": 1, \"3\": 1}, \"84\": {\"84\": 128, \"21\": 1, \"78\": 1, \"118\": 1, \"3\": 1}, \"24\": {\"24\": 106, \"10\": 1, \"21\": 1, \"97\": 1, \"40\": 1, \"113\": 1, \"36\": 6, \"84\": 1, \"4\": 1, \"127\": 1}, \"94\": {\"84\": 1, \"94\": 83, \"36\": 1, \"12\": 1, \"15\": 1, \"26\": 1}, \"7\": {\"7\": 114, \"68\": 1, \"40\": 1, \"69\": 2, \"85\": 1, \"5\": 1}, \"96\": {\"96\": 16, \"91\": 2, \"85\": 1, \"21\": 1}, \"116\": {\"116\": 27, \"124\": 1}, \"47\": {\"47\": 7, \"69\": 1, \"127\": 2, \"65\": 1, \"70\": 1}, \"119\": {\"119\": 15, \"25\": 1}, \"74\": {\"74\": 15, \"113\": 1}, \"93\": {\"93\": 151, \"0\": 1}, \"2\": {\"93\": 3, \"2\": 21, \"26\": 3, \"92\": 1}, \"37\": {\"37\": 15, \"51\": 1}, \"15\": {\"15\": 125, \"26\": 1, \"106\": 1, \"110\": 1}, \"102\": {\"102\": 136}, \"87\": {\"87\": 115, \"59\": 1, \"105\": 3, \"126\": 1, \"26\": 1, \"43\": 1}, \"107\": {\"107\": 142, \"128\": 1, \"26\": 1}, \"61\": {\"61\": 14, \"91\": 1, \"21\": 1}, \"78\": {\"78\": 27, \"74\": 1, \"84\": 2, \"50\": 2, \"27\": 1, \"8\": 1, \"126\": 1, \"21\": 1}, \"9\": {\"9\": 28}, \"32\": {\"32\": 24, \"55\": 2, \"118\": 2}, \"14\": {\"14\": 111, \"31\": 1}, \"62\": {\"62\": 55, \"81\": 1, \"88\": 1, \"27\": 1, \"106\": 1, \"108\": 1}, \"1\": {\"24\": 1, \"1\": 95, \"126\": 1, \"33\": 3, \"111\": 2}, \"23\": {\"23\": 11, \"91\": 2, \"63\": 1, \"78\": 1, \"12\": 1}, \"95\": {\"95\": 31, \"1\": 1}, \"56\": {\"56\": 12}, \"91\": {\"91\": 22, \"34\": 1, \"85\": 1}, \"34\": {\"34\": 21, \"91\": 3, \"78\": 1, \"107\": 1, \"103\": 1, \"29\": 2, \"43\": 1, \"8\": 2}, \"25\": {\"25\": 16}, \"33\": {\"33\": 123, \"122\": 1}, \"16\": {\"16\": 120, \"69\": 1, \"107\": 1, \"87\": 1, \"8\": 1}, \"26\": {\"26\": 124, \"21\": 1, \"18\": 1}, \"5\": {\"5\": 128, \"26\": 2, \"3\": 1, \"39\": 1, \"81\": 1, \"29\": 1, \"16\": 1, \"93\": 1}, \"123\": {\"123\": 15, \"6\": 1}, \"8\": {\"8\": 118}, \"83\": {\"83\": 24, \"79\": 1, \"67\": 1, \"12\": 1, \"78\": 1}, \"125\": {\"125\": 134}, \"51\": {\"23\": 2, \"51\": 6, \"61\": 1, \"1\": 1, \"98\": 2, \"92\": 1, \"42\": 1, \"78\": 1, \"59\": 1}, \"22\": {\"22\": 16}, \"54\": {\"54\": 16}, \"66\": {\"66\": 16}, \"59\": {\"59\": 10, \"6\": 1, \"21\": 1}, \"111\": {\"111\": 126, \"5\": 1, \"110\": 1}, \"77\": {\"77\": 12}, \"103\": {\"103\": 16}, \"20\": {\"20\": 15, \"32\": 1}, \"124\": {\"124\": 117, \"98\": 1, \"26\": 1, \"70\": 1}, \"99\": {\"99\": 38, \"43\": 1, \"69\": 1}, \"120\": {\"91\": 1, \"120\": 18, \"21\": 1}, \"76\": {\"76\": 15, \"67\": 1}, \"110\": {\"110\": 111, \"26\": 1, \"39\": 1, \"68\": 1, \"36\": 2}, \"29\": {\"29\": 31, \"106\": 1}, \"118\": {\"118\": 105, \"12\": 1, \"71\": 1, \"106\": 1, \"78\": 2, \"21\": 1, \"11\": 1}, \"58\": {\"58\": 14, \"40\": 1, \"88\": 1}, \"13\": {\"13\": 15, \"85\": 1}, \"89\": {\"89\": 32}, \"31\": {\"31\": 15, \"95\": 1}, \"64\": {\"64\": 15, \"85\": 1}, \"65\": {\"65\": 12}, \"101\": {\"101\": 128, \"38\": 1, \"0\": 2, \"26\": 1}, \"126\": {\"126\": 117, \"111\": 1}, \"108\": {\"108\": 80, \"23\": 1, \"5\": 1, \"27\": 1, \"0\": 1, \"8\": 1, \"88\": 3, \"69\": 1, \"39\": 1, \"18\": 1, \"107\": 1}, \"45\": {\"45\": 16}, \"21\": {\"21\": 39, \"69\": 1}, \"30\": {\"30\": 73, \"21\": 1, \"15\": 1, \"127\": 1}, \"82\": {\"82\": 30, \"70\": 1, \"98\": 1}, \"85\": {\"85\": 28}, \"88\": {\"88\": 121, \"70\": 3, \"39\": 1, \"113\": 1, \"122\": 1, \"118\": 1, \"15\": 1, \"26\": 1, \"105\": 1, \"27\": 1}, \"41\": {\"41\": 15, \"88\": 1}, \"128\": {\"8\": 3, \"32\": 1, \"128\": 17, \"72\": 2, \"23\": 1}, \"39\": {\"39\": 94, \"114\": 1, \"69\": 1, \"81\": 2, \"2\": 1, \"116\": 1}, \"18\": {\"18\": 113, \"69\": 1, \"21\": 1, \"5\": 1, \"26\": 1, \"39\": 1, \"0\": 1, \"3\": 1}, \"113\": {\"113\": 122, \"114\": 1, \"39\": 1, \"0\": 1, \"41\": 1, \"68\": 1, \"3\": 1}, \"11\": {\"11\": 134, \"70\": 1, \"39\": 1, \"1\": 1, \"84\": 1}, \"43\": {\"43\": 113, \"87\": 2, \"26\": 1, \"10\": 1, \"3\": 1, \"72\": 1, \"105\": 1}, \"12\": {\"12\": 97, \"1\": 1, \"14\": 1, \"39\": 1}, \"122\": {\"122\": 81, \"69\": 1, \"109\": 1, \"7\": 1}, \"52\": {\"52\": 20}, \"44\": {\"44\": 64}, \"90\": {\"90\": 133, \"98\": 1}, \"112\": {\"112\": 16}, \"86\": {\"86\": 28}, \"3\": {\"3\": 114, \"84\": 1, \"1\": 1}, \"38\": {\"38\": 16}, \"121\": {\"121\": 26, \"113\": 2, \"44\": 2, \"51\": 2}, \"46\": {\"46\": 19, \"70\": 1}, \"70\": {\"70\": 121, \"117\": 1, \"126\": 1, \"5\": 1}, \"67\": {\"40\": 1, \"67\": 9, \"113\": 3, \"34\": 1, \"123\": 2}, \"53\": {\"53\": 16}, \"49\": {\"49\": 25, \"25\": 1, \"53\": 1, \"8\": 1, \"42\": 2, \"108\": 1, \"19\": 1}, \"42\": {\"42\": 25, \"8\": 2, \"83\": 1}, \"10\": {\"10\": 112, \"114\": 1, \"128\": 1, \"2\": 1, \"24\": 1, \"36\": 1, \"127\": 1}, \"50\": {\"50\": 16}, \"73\": {\"73\": 23, \"29\": 1}, \"115\": {\"115\": 11, \"89\": 1, \"50\": 1, \"99\": 1, \"109\": 1, \"72\": 1}, \"80\": {\"80\": 15, \"98\": 1}, \"19\": {\"19\": 26, \"26\": 1, \"126\": 1}, \"55\": {\"55\": 16}, \"72\": {\"72\": 31, \"27\": 1}, \"117\": {\"117\": 116}, \"81\": {\"81\": 33, \"72\": 1, \"69\": 1, \"78\": 1}, \"75\": {\"75\": 14, \"34\": 1, \"77\": 1}, \"98\": {\"98\": 116, \"16\": 1, \"24\": 1, \"25\": 2}, \"48\": {\"48\": 16}, \"129\": {\"19\": 2, \"129\": 24, \"108\": 1, \"22\": 1}, \"97\": {\"97\": 19, \"16\": 1}}, \"Wisig_1\": {\"105\": {\"105\": 82, \"40\": 2}, \"100\": {\"100\": 16}, \"112\": {\"112\": 16}, \"123\": {\"123\": 16}, \"13\": {\"13\": 16}, \"81\": {\"81\": 28}, \"124\": {\"124\": 119, \"125\": 1}, \"122\": {\"122\": 88}, \"111\": {\"111\": 118, \"26\": 1, \"70\": 1}, \"93\": {\"93\": 155, \"21\": 1, \"40\": 1, \"43\": 1}, \"106\": {\"106\": 112, \"17\": 2, \"12\": 1, \"98\": 1, \"39\": 2}, \"113\": {\"113\": 123, \"3\": 1}, \"95\": {\"95\": 36}, \"87\": {\"87\": 105, \"94\": 1, \"93\": 1, \"18\": 1}, \"86\": {\"86\": 35, \"52\": 1}, \"67\": {\"67\": 16}, \"85\": {\"85\": 32}, \"82\": {\"82\": 36}, \"115\": {\"115\": 12}, \"7\": {\"7\": 142}, \"44\": {\"44\": 76}, \"65\": {\"65\": 5, \"76\": 1, \"80\": 1, \"34\": 1, \"20\": 1, \"74\": 1, \"63\": 2}, \"129\": {\"129\": 25, \"84\": 1, \"94\": 1, \"111\": 1}, \"42\": {\"42\": 25, \"60\": 2, \"86\": 1}, \"28\": {\"65\": 1, \"28\": 18, \"52\": 1}, \"0\": {\"0\": 82, \"75\": 1, \"24\": 1}, \"10\": {\"10\": 116, \"0\": 2, \"57\": 1, \"85\": 1}, \"76\": {\"76\": 15, \"36\": 1}, \"88\": {\"88\": 123, \"36\": 3}, \"29\": {\"29\": 28}, \"16\": {\"16\": 105, \"109\": 1, \"23\": 1, \"12\": 1}, \"41\": {\"41\": 16}, \"27\": {\"27\": 91, \"94\": 1}, \"33\": {\"33\": 118, \"91\": 1, \"21\": 1}, \"75\": {\"75\": 16}, \"48\": {\"48\": 12}, \"56\": {\"56\": 11, \"71\": 1}, \"9\": {\"9\": 31, \"26\": 1}, \"1\": {\"1\": 125, \"5\": 1}, \"39\": {\"39\": 103, \"113\": 1}, \"50\": {\"75\": 1, \"50\": 12, \"91\": 1, \"65\": 2}, \"99\": {\"99\": 23, \"30\": 1}, \"90\": {\"90\": 122}, \"45\": {\"104\": 1, \"45\": 7, \"112\": 1, \"96\": 2, \"21\": 1}, \"5\": {\"5\": 88}, \"128\": {\"128\": 18, \"104\": 2, \"70\": 1, \"82\": 1, \"73\": 1, \"34\": 1}, \"2\": {\"2\": 25, \"70\": 1, \"82\": 1, \"60\": 1, \"34\": 1, \"100\": 2, \"54\": 1}, \"53\": {\"53\": 20}, \"104\": {\"104\": 16}, \"32\": {\"32\": 32}, \"92\": {\"92\": 28}, \"78\": {\"128\": 1, \"78\": 14, \"21\": 1}, \"19\": {\"19\": 28}, \"120\": {\"120\": 19, \"93\": 1}, \"43\": {\"43\": 122, \"106\": 2, \"93\": 1, \"113\": 1, \"12\": 1, \"84\": 1}, \"74\": {\"74\": 16}, \"11\": {\"11\": 129, \"127\": 1}, \"26\": {\"26\": 129, \"69\": 3}, \"125\": {\"125\": 132}, \"64\": {\"64\": 16}, \"127\": {\"127\": 105, \"26\": 1, \"69\": 1, \"94\": 1}, \"83\": {\"83\": 27, \"12\": 1}, \"118\": {\"118\": 83, \"93\": 1}, \"103\": {\"103\": 15, \"104\": 1}, \"55\": {\"55\": 12}, \"110\": {\"110\": 126}, \"30\": {\"30\": 50, \"91\": 1, \"108\": 1}, \"51\": {\"51\": 16}, \"6\": {\"6\": 26, \"52\": 1, \"34\": 3, \"91\": 2}, \"96\": {\"96\": 17, \"79\": 1, \"12\": 1, \"126\": 1}, \"114\": {\"114\": 142, \"71\": 1, \"39\": 1}, \"69\": {\"69\": 108}, \"60\": {\"60\": 6, \"100\": 1, \"34\": 1, \"2\": 1, \"120\": 1, \"81\": 2, \"123\": 1, \"21\": 1, \"119\": 1, \"72\": 1}, \"94\": {\"94\": 92}, \"79\": {\"79\": 12}, \"126\": {\"126\": 132, \"12\": 1, \"73\": 1}, \"68\": {\"68\": 16}, \"72\": {\"72\": 32}, \"63\": {\"63\": 16}, \"22\": {\"22\": 15, \"6\": 1}, \"121\": {\"121\": 31, \"70\": 1}, \"71\": {\"71\": 101, \"34\": 1, \"53\": 1, \"106\": 1, \"43\": 1, \"52\": 1, \"1\": 1, \"26\": 1}, \"54\": {\"54\": 16}, \"102\": {\"102\": 119, \"17\": 1}, \"73\": {\"73\": 17, \"6\": 1, \"98\": 1, \"104\": 1}, \"38\": {\"38\": 16}, \"4\": {\"4\": 95, \"105\": 2, \"3\": 1, \"69\": 2}, \"52\": {\"52\": 20}, \"70\": {\"70\": 123, \"12\": 2, \"83\": 1, \"34\": 1, \"113\": 1}, \"91\": {\"91\": 26, \"58\": 2}, \"77\": {\"77\": 15, \"17\": 1}, \"20\": {\"20\": 16}, \"59\": {\"59\": 12}, \"40\": {\"40\": 133, \"105\": 1, \"118\": 1, \"70\": 1}, \"98\": {\"98\": 108}, \"46\": {\"11\": 1, \"46\": 5, \"94\": 1, \"71\": 1, \"59\": 2, \"53\": 1, \"54\": 1}, \"34\": {\"34\": 25, \"86\": 1, \"13\": 2, \"95\": 1, \"29\": 1, \"80\": 1, \"53\": 1}, \"24\": {\"24\": 85, \"113\": 1, \"126\": 1, \"88\": 1, \"97\": 2, \"3\": 1, \"39\": 1}, \"62\": {\"62\": 118, \"6\": 1, \"113\": 1}, \"14\": {\"14\": 96}, \"12\": {\"12\": 100, \"3\": 1, \"113\": 1, \"39\": 1, \"70\": 1}, \"84\": {\"84\": 131, \"107\": 1, \"81\": 1, \"39\": 1}, \"37\": {\"37\": 16}, \"97\": {\"27\": 1, \"97\": 19}, \"57\": {\"57\": 11, \"89\": 1}, \"49\": {\"49\": 14, \"101\": 1, \"70\": 3, \"12\": 1, \"27\": 1}, \"17\": {\"17\": 14, \"123\": 1, \"71\": 1}, \"109\": {\"109\": 106}, \"80\": {\"80\": 16}, \"66\": {\"66\": 16}, \"101\": {\"101\": 123, \"70\": 1}, \"89\": {\"89\": 34, \"21\": 1, \"54\": 1}, \"31\": {\"31\": 16}, \"21\": {\"21\": 35, \"128\": 2, \"106\": 1, \"73\": 1, \"87\": 1}, \"23\": {\"23\": 14, \"18\": 1, \"44\": 1, \"55\": 3, \"83\": 1, \"52\": 1, \"61\": 1, \"66\": 2}, \"25\": {\"25\": 14, \"100\": 1, \"30\": 1}, \"107\": {\"107\": 109, \"105\": 1, \"113\": 1, \"94\": 1}, \"3\": {\"3\": 84, \"6\": 1, \"122\": 1, \"12\": 1, \"93\": 1}, \"61\": {\"61\": 11, \"65\": 1}, \"117\": {\"117\": 125, \"102\": 1}, \"119\": {\"119\": 15, \"65\": 1}, \"58\": {\"58\": 12}, \"47\": {\"47\": 12}, \"116\": {\"116\": 30, \"22\": 1, \"33\": 1}, \"18\": {\"18\": 122, \"113\": 2}, \"36\": {\"36\": 116, \"118\": 1, \"12\": 1, \"88\": 3, \"71\": 1}, \"108\": {\"108\": 110, \"47\": 1, \"70\": 1}, \"15\": {\"15\": 102, \"12\": 1, \"87\": 1}, \"8\": {\"8\": 114}, \"35\": {\"35\": 12}}, \"Wisig_2\": {\"3\": {\"3\": 128, \"26\": 1, \"61\": 1, \"39\": 1, \"70\": 1}, \"127\": {\"127\": 118, \"21\": 1, \"111\": 1}, \"58\": {\"58\": 20}, \"114\": {\"114\": 110, \"46\": 1, \"21\": 1}, \"111\": {\"111\": 139, \"127\": 3, \"15\": 1, \"93\": 1}, \"105\": {\"105\": 131, \"122\": 1}, \"118\": {\"21\": 1, \"118\": 65, \"13\": 1, \"36\": 1}, \"23\": {\"23\": 34, \"12\": 1, \"113\": 3, \"70\": 1, \"48\": 2, \"99\": 1, \"87\": 1, \"61\": 1}, \"21\": {\"21\": 41, \"118\": 1, \"5\": 1, \"84\": 1, \"85\": 1, \"24\": 1, \"70\": 1, \"71\": 1}, \"20\": {\"20\": 15, \"21\": 1}, \"75\": {\"75\": 15, \"85\": 1}, \"86\": {\"86\": 32}, \"60\": {\"60\": 25, \"83\": 1, \"88\": 1, \"87\": 1}, \"69\": {\"69\": 131, \"4\": 1, \"26\": 2, \"12\": 1, \"117\": 1, \"94\": 1, \"39\": 1, \"62\": 1, \"122\": 1}, \"99\": {\"99\": 31, \"115\": 1}, \"14\": {\"14\": 40, \"81\": 1, \"116\": 1, \"128\": 1, \"110\": 1, \"107\": 1, \"71\": 2, \"40\": 1}, \"25\": {\"25\": 15, \"52\": 1}, \"52\": {\"52\": 19, \"12\": 1}, \"47\": {\"47\": 10, \"49\": 1, \"118\": 1}, \"48\": {\"48\": 19, \"125\": 1}, \"27\": {\"27\": 57, \"78\": 1, \"101\": 1, \"24\": 2, \"84\": 1, \"39\": 1, \"36\": 1, \"0\": 1, \"85\": 1, \"113\": 1, \"62\": 1}, \"78\": {\"78\": 42, \"43\": 2, \"87\": 1, \"40\": 1, \"70\": 1, \"19\": 1}, \"8\": {\"8\": 119, \"23\": 1, \"69\": 1, \"30\": 1}, \"90\": {\"90\": 157, \"51\": 1, \"34\": 1, \"26\": 1}, \"103\": {\"103\": 16}, \"120\": {\"120\": 20}, \"96\": {\"96\": 20}, \"30\": {\"30\": 101, \"59\": 1, \"80\": 1, \"27\": 1}, \"33\": {\"33\": 146}, \"35\": {\"35\": 12}, \"108\": {\"108\": 116}, \"112\": {\"112\": 9, \"108\": 3, \"44\": 1, \"98\": 1, \"126\": 2}, \"40\": {\"40\": 125, \"21\": 1, \"100\": 1, \"105\": 4, \"62\": 1, \"94\": 1, \"127\": 1, \"95\": 1, \"70\": 1, \"4\": 1, \"12\": 2, \"18\": 1}, \"102\": {\"102\": 113, \"30\": 1, \"122\": 1, \"69\": 1}, \"56\": {\"56\": 12}, \"93\": {\"93\": 134, \"39\": 2}, \"68\": {\"68\": 15, \"31\": 1}, \"70\": {\"70\": 119, \"87\": 1, \"16\": 1, \"107\": 1, \"19\": 1, \"26\": 1}, \"7\": {\"7\": 123, \"92\": 1}, \"87\": {\"87\": 101, \"60\": 1, \"2\": 1, \"43\": 2, \"53\": 1, \"39\": 1, \"5\": 1, \"33\": 1, \"40\": 1, \"70\": 1, \"16\": 1}, \"54\": {\"56\": 1, \"54\": 19}, \"71\": {\"71\": 92, \"114\": 3, \"69\": 1, \"36\": 1, \"39\": 2, \"21\": 1}, \"80\": {\"80\": 16}, \"18\": {\"18\": 120, \"39\": 1, \"26\": 1}, \"101\": {\"101\": 119, \"78\": 1, \"0\": 2}, \"92\": {\"92\": 27, \"71\": 1}, \"32\": {\"22\": 1, \"32\": 24, \"61\": 1, \"52\": 1, \"62\": 4, \"79\": 1, \"107\": 2, \"127\": 1, \"14\": 1}, \"128\": {\"101\": 2, \"128\": 13, \"29\": 2, \"59\": 3, \"5\": 1, \"12\": 1, \"19\": 2}, \"6\": {\"6\": 31, \"103\": 1}, \"51\": {\"6\": 2, \"51\": 14, \"41\": 1, \"125\": 1, \"9\": 1, \"45\": 1}, \"85\": {\"85\": 31, \"53\": 1}, \"46\": {\"46\": 16}, \"22\": {\"22\": 20}, \"1\": {\"1\": 117, \"78\": 1, \"26\": 1, \"30\": 1, \"87\": 1, \"69\": 1}, \"37\": {\"37\": 16}, \"44\": {\"44\": 97, \"73\": 1, \"87\": 1, \"118\": 1}, \"24\": {\"24\": 100, \"78\": 1, \"62\": 1, \"94\": 1, \"39\": 1, \"70\": 1, \"21\": 1, \"8\": 1, \"27\": 1, \"110\": 1, \"36\": 2, \"122\": 1}, \"9\": {\"9\": 32}, \"116\": {\"60\": 2, \"116\": 22, \"87\": 1, \"82\": 2, \"70\": 1}, \"64\": {\"64\": 16}, \"129\": {\"129\": 32}, \"42\": {\"112\": 1, \"44\": 1, \"42\": 23, \"69\": 1, \"46\": 1, \"107\": 1}, \"117\": {\"117\": 119, \"93\": 1}, \"88\": {\"88\": 119, \"21\": 1, \"111\": 2, \"71\": 1, \"15\": 1}, \"31\": {\"31\": 20}, \"113\": {\"113\": 71, \"39\": 1}, \"38\": {\"38\": 16}, \"83\": {\"83\": 36, \"29\": 1, \"46\": 1, \"21\": 1, \"113\": 1}, \"49\": {\"49\": 19, \"11\": 1, \"44\": 1, \"53\": 1, \"71\": 1, \"47\": 1}, \"97\": {\"97\": 18, \"91\": 1, \"15\": 1}, \"76\": {\"76\": 16}, \"29\": {\"29\": 32}, \"61\": {\"61\": 19, \"12\": 1}, \"125\": {\"125\": 147, \"121\": 1}, \"126\": {\"126\": 118, \"78\": 1, \"26\": 1}, \"55\": {\"55\": 16}, \"0\": {\"0\": 104, \"27\": 1, \"92\": 1, \"21\": 1, \"18\": 1}, \"15\": {\"15\": 116, \"128\": 1, \"40\": 1, \"7\": 1, \"106\": 1}, \"26\": {\"26\": 134, \"40\": 1, \"122\": 1, \"0\": 1, \"12\": 1}, \"63\": {\"63\": 20}, \"57\": {\"57\": 20}, \"39\": {\"39\": 110, \"27\": 1, \"84\": 1}, \"62\": {\"62\": 134, \"39\": 1, \"69\": 1, \"60\": 1, \"10\": 1, \"12\": 1, \"102\": 1}, \"82\": {\"82\": 33, \"89\": 1, \"87\": 1, \"113\": 1}, \"11\": {\"11\": 78, \"12\": 1, \"122\": 1}, \"4\": {\"4\": 87, \"53\": 1}, \"41\": {\"41\": 20}, \"72\": {\"72\": 27, \"14\": 1}, \"16\": {\"16\": 118, \"3\": 1, \"93\": 3, \"39\": 1, \"110\": 1}, \"81\": {\"81\": 22, \"122\": 1, \"30\": 1}, \"67\": {\"67\": 16}, \"123\": {\"123\": 16}, \"66\": {\"66\": 19, \"86\": 1}, \"36\": {\"36\": 115, \"1\": 1, \"24\": 1, \"128\": 2, \"43\": 1, \"4\": 1, \"122\": 1, \"101\": 1, \"21\": 1, \"27\": 3, \"69\": 1}, \"115\": {\"115\": 11, \"21\": 1}, \"77\": {\"77\": 16}, \"119\": {\"119\": 20}, \"65\": {\"65\": 19, \"37\": 1}, \"34\": {\"14\": 2, \"34\": 23, \"32\": 1, \"6\": 1, \"8\": 1, \"29\": 1, \"52\": 1, \"86\": 1, \"107\": 1}, \"107\": {\"107\": 60, \"71\": 1, \"24\": 1, \"113\": 1, \"61\": 1}, \"13\": {\"13\": 16}, \"110\": {\"25\": 1, \"110\": 36, \"0\": 1, \"21\": 1, \"15\": 1}, \"106\": {\"106\": 114, \"98\": 1, \"114\": 1, \"39\": 1, \"15\": 1}, \"89\": {\"89\": 36}, \"94\": {\"27\": 1, \"94\": 55, \"122\": 1, \"14\": 1, \"21\": 2, \"31\": 1, \"71\": 1, \"49\": 1, \"88\": 1}, \"98\": {\"98\": 108, \"41\": 1, \"121\": 1, \"43\": 1, \"21\": 1}, \"91\": {\"91\": 26, \"41\": 1, \"117\": 1}, \"84\": {\"84\": 89, \"43\": 2, \"88\": 1}, \"73\": {\"59\": 1, \"73\": 27}, \"104\": {\"104\": 17, \"52\": 1, \"46\": 1, \"122\": 1}, \"59\": {\"59\": 15, \"52\": 1}, \"74\": {\"74\": 16}, \"28\": {\"28\": 19, \"59\": 1}, \"95\": {\"95\": 35, \"105\": 1}, \"2\": {\"2\": 27, \"69\": 2, \"100\": 2, \"115\": 1}, \"5\": {\"5\": 109, \"24\": 1, \"88\": 1, \"26\": 1}, \"50\": {\"50\": 15, \"69\": 1}, \"109\": {\"109\": 97, \"6\": 1, \"69\": 1, \"26\": 1}, \"10\": {\"10\": 56, \"113\": 1, \"26\": 1, \"62\": 2}, \"45\": {\"45\": 14, \"116\": 1, \"21\": 1}, \"121\": {\"65\": 2, \"121\": 28, \"18\": 1, \"23\": 1, \"26\": 1, \"89\": 2, \"113\": 1}, \"124\": {\"124\": 110}, \"53\": {\"53\": 14, \"128\": 1, \"25\": 1}, \"79\": {\"79\": 16}, \"43\": {\"43\": 106, \"87\": 1, \"78\": 2, \"26\": 1, \"122\": 1, \"101\": 1, \"70\": 1, \"16\": 1}, \"122\": {\"122\": 132, \"118\": 1, \"21\": 1, \"88\": 1, \"39\": 1, \"111\": 1, \"127\": 1}, \"100\": {\"100\": 15, \"83\": 1}, \"19\": {\"19\": 28}, \"12\": {\"12\": 85, \"128\": 2, \"69\": 1}, \"17\": {\"17\": 15, \"24\": 1}}, \"Wisig_3\": {\"38\": {\"38\": 16}, \"88\": {\"88\": 104, \"70\": 2, \"11\": 1, \"36\": 2, \"25\": 1, \"108\": 1, \"5\": 1}, \"104\": {\"104\": 16}, \"11\": {\"11\": 139, \"107\": 1}, \"103\": {\"103\": 15, \"62\": 1}, \"124\": {\"124\": 115, \"90\": 1}, \"3\": {\"3\": 112, \"43\": 1, \"101\": 1, \"27\": 1, \"114\": 1}, \"74\": {\"74\": 13, \"25\": 1, \"57\": 2}, \"126\": {\"126\": 120, \"127\": 1, \"39\": 1}, \"123\": {\"123\": 16}, \"51\": {\"51\": 15, \"111\": 1}, \"14\": {\"14\": 80}, \"16\": {\"16\": 112, \"93\": 1, \"110\": 1, \"26\": 1, \"0\": 1}, \"22\": {\"22\": 16}, \"109\": {\"109\": 121, \"62\": 1}, \"27\": {\"27\": 92, \"36\": 2, \"24\": 1, \"113\": 1}, \"75\": {\"75\": 16}, \"66\": {\"66\": 16}, \"48\": {\"53\": 3, \"48\": 7, \"86\": 2, \"99\": 1, \"76\": 1, \"20\": 1, \"74\": 1}, \"6\": {\"6\": 27, \"101\": 1, \"34\": 2, \"86\": 1, \"91\": 1}, \"10\": {\"10\": 109, \"16\": 1, \"86\": 1, \"12\": 1}, \"99\": {\"99\": 35, \"54\": 1}, \"50\": {\"50\": 16}, \"54\": {\"54\": 16}, \"55\": {\"55\": 16}, \"53\": {\"53\": 19, \"20\": 1}, \"72\": {\"72\": 28}, \"64\": {\"64\": 20}, \"115\": {\"23\": 1, \"115\": 15}, \"23\": {\"64\": 2, \"23\": 19, \"121\": 1, \"63\": 1, \"2\": 2, \"70\": 1, \"19\": 1, \"77\": 2, \"113\": 1, \"122\": 1, \"5\": 1}, \"32\": {\"57\": 3, \"32\": 20, \"107\": 2, \"14\": 1, \"115\": 1, \"82\": 2, \"11\": 2, \"50\": 1}, \"15\": {\"15\": 101, \"12\": 1, \"40\": 1, \"39\": 1}, \"43\": {\"23\": 1, \"43\": 50, \"84\": 1, \"21\": 3, \"33\": 1}, \"114\": {\"114\": 122, \"26\": 1, \"30\": 1}, \"121\": {\"81\": 1, \"121\": 28, \"80\": 2, \"64\": 1}, \"79\": {\"79\": 12}, \"81\": {\"81\": 32}, \"8\": {\"8\": 126, \"108\": 2}, \"13\": {\"121\": 1, \"13\": 9, \"115\": 2, \"2\": 1, \"116\": 1, \"103\": 1, \"124\": 1}, \"90\": {\"90\": 156}, \"41\": {\"57\": 1, \"41\": 15}, \"107\": {\"107\": 136}, \"57\": {\"57\": 20}, \"33\": {\"33\": 119, \"116\": 1}, \"35\": {\"35\": 12}, \"29\": {\"29\": 32}, \"70\": {\"70\": 68, \"39\": 1, \"69\": 1, \"71\": 1, \"8\": 1}, \"42\": {\"97\": 1, \"42\": 25, \"118\": 1, \"49\": 1}, \"93\": {\"93\": 126}, \"86\": {\"86\": 28}, \"28\": {\"28\": 16}, \"1\": {\"1\": 105, \"26\": 1, \"101\": 1, \"39\": 1}, \"125\": {\"125\": 122, \"44\": 1, \"117\": 1}, \"69\": {\"69\": 81, \"21\": 1, \"84\": 1, \"39\": 1}, \"97\": {\"97\": 20}, \"117\": {\"117\": 112}, \"68\": {\"68\": 16}, \"30\": {\"30\": 81, \"2\": 1, \"3\": 1, \"113\": 1}, \"111\": {\"111\": 132}, \"47\": {\"47\": 12}, \"102\": {\"102\": 124}, \"65\": {\"65\": 12}, \"113\": {\"113\": 118, \"106\": 1, \"30\": 1}, \"36\": {\"36\": 109, \"24\": 1, \"27\": 3, \"113\": 1}, \"119\": {\"119\": 16}, \"46\": {\"46\": 16}, \"49\": {\"49\": 20, \"70\": 1, \"81\": 1, \"112\": 1, \"75\": 1}, \"0\": {\"0\": 115, \"113\": 1}, \"58\": {\"58\": 16}, \"63\": {\"63\": 16}, \"94\": {\"94\": 84}, \"17\": {\"22\": 1, \"17\": 8, \"39\": 1, \"7\": 1, \"122\": 1, \"86\": 2, \"67\": 1, \"116\": 1}, \"9\": {\"9\": 31, \"71\": 1}, \"87\": {\"87\": 120}, \"59\": {\"59\": 11, \"30\": 1}, \"105\": {\"105\": 120}, \"80\": {\"80\": 14, \"128\": 1, \"31\": 1}, \"120\": {\"120\": 17, \"92\": 2, \"57\": 1}, \"18\": {\"18\": 129, \"34\": 1, \"127\": 1, \"90\": 1}, \"78\": {\"78\": 14, \"4\": 1, \"21\": 1}, \"25\": {\"25\": 16}, \"19\": {\"19\": 32}, \"122\": {\"122\": 55, \"17\": 1, \"92\": 1, \"2\": 1, \"71\": 1, \"39\": 1}, \"39\": {\"39\": 108}, \"76\": {\"76\": 16}, \"89\": {\"89\": 28}, \"129\": {\"129\": 29, \"110\": 3}, \"26\": {\"26\": 98, \"70\": 1, \"43\": 1}, \"85\": {\"85\": 35, \"108\": 1}, \"71\": {\"71\": 67, \"5\": 1}, \"77\": {\"77\": 16}, \"128\": {\"128\": 26, \"32\": 1, \"19\": 1, \"29\": 1, \"86\": 1, \"72\": 1, \"91\": 1}, \"2\": {\"2\": 26, \"26\": 2}, \"56\": {\"56\": 12}, \"24\": {\"24\": 46, \"36\": 2}, \"101\": {\"26\": 1, \"101\": 49, \"0\": 1, \"9\": 1}, \"52\": {\"52\": 16}, \"84\": {\"84\": 107, \"39\": 1}, \"7\": {\"7\": 109, \"39\": 1, \"5\": 1, \"91\": 1}, \"82\": {\"82\": 28}, \"60\": {\"60\": 20, \"122\": 1, \"19\": 1, \"29\": 3, \"82\": 2, \"5\": 1}, \"45\": {\"60\": 1, \"45\": 13, \"21\": 1, \"23\": 1}, \"40\": {\"40\": 124}, \"20\": {\"20\": 16}, \"4\": {\"4\": 96}, \"116\": {\"116\": 25, \"43\": 1, \"81\": 1, \"90\": 1}, \"61\": {\"61\": 16}, \"5\": {\"5\": 110, \"70\": 1, \"39\": 1}, \"106\": {\"106\": 100}, \"12\": {\"12\": 104}, \"62\": {\"62\": 118, \"69\": 1, \"39\": 1}, \"34\": {\"34\": 23, \"115\": 1, \"110\": 1, \"128\": 2, \"28\": 1, \"45\": 2, \"99\": 1, \"30\": 1}, \"91\": {\"91\": 24}, \"112\": {\"112\": 14, \"101\": 1, \"83\": 1}, \"92\": {\"92\": 32}, \"95\": {\"95\": 32}, \"96\": {\"96\": 20}, \"127\": {\"127\": 104, \"34\": 1, \"69\": 1, \"39\": 2}, \"67\": {\"67\": 15, \"114\": 1}, \"83\": {\"83\": 24}, \"21\": {\"43\": 1, \"78\": 1, \"21\": 44, \"106\": 1, \"59\": 1}, \"98\": {\"98\": 123, \"44\": 1}, \"108\": {\"108\": 128, \"8\": 4}, \"31\": {\"31\": 20}, \"118\": {\"118\": 100}, \"110\": {\"110\": 92}, \"73\": {\"73\": 40}, \"44\": {\"44\": 70, \"125\": 1, \"90\": 1}, \"37\": {\"37\": 15, \"118\": 1}, \"100\": {\"100\": 16}}, \"ORACLE.run126\": {\"0\": {\"14\": 18, \"7\": 18, \"11\": 5, \"4\": 24, \"8\": 22, \"10\": 22, \"0\": 20, \"2\": 18, \"6\": 17, \"13\": 4, \"5\": 11, \"1\": 22, \"3\": 12, \"9\": 11, \"15\": 5, \"12\": 11}, \"4\": {\"7\": 21, \"8\": 12, \"1\": 22, \"12\": 11, \"6\": 18, \"10\": 21, \"4\": 19, \"14\": 27, \"3\": 14, \"13\": 8, \"15\": 13, \"0\": 18, \"2\": 20, \"5\": 3, \"11\": 4, \"9\": 9}, \"14\": {\"8\": 17, \"9\": 14, \"3\": 18, \"10\": 18, \"14\": 23, \"15\": 11, \"7\": 17, \"1\": 20, \"4\": 27, \"5\": 6, \"0\": 24, \"12\": 7, \"6\": 17, \"11\": 3, \"2\": 11, \"13\": 7}, \"12\": {\"3\": 7, \"13\": 15, \"11\": 29, \"10\": 15, \"5\": 20, \"6\": 17, \"9\": 14, \"4\": 10, \"14\": 10, \"7\": 15, \"15\": 17, \"12\": 24, \"1\": 5, \"8\": 13, \"0\": 17, \"2\": 12}, \"8\": {\"5\": 17, \"10\": 21, \"0\": 13, \"6\": 17, \"8\": 19, \"9\": 12, \"14\": 28, \"1\": 20, \"2\": 13, \"4\": 14, \"7\": 17, \"3\": 10, \"12\": 14, \"11\": 6, \"15\": 14, \"13\": 5}, \"7\": {\"5\": 17, \"12\": 11, \"0\": 15, \"6\": 15, \"2\": 20, \"14\": 22, \"7\": 15, \"3\": 13, \"10\": 15, \"1\": 8, \"9\": 20, \"11\": 3, \"15\": 18, \"13\": 9, \"8\": 15, \"4\": 24}, \"13\": {\"11\": 46, \"5\": 16, \"9\": 14, \"13\": 34, \"0\": 10, \"1\": 8, \"12\": 17, \"2\": 17, \"15\": 16, \"4\": 7, \"6\": 15, \"7\": 7, \"3\": 7, \"8\": 16, \"10\": 6, \"14\": 4}, \"5\": {\"5\": 17, \"0\": 13, \"12\": 16, \"11\": 15, \"2\": 12, \"6\": 17, \"15\": 13, \"4\": 14, \"8\": 14, \"9\": 13, \"13\": 25, \"7\": 22, \"3\": 19, \"10\": 9, \"14\": 10, \"1\": 11}, \"15\": {\"8\": 18, \"9\": 15, \"5\": 17, \"14\": 14, \"0\": 7, \"6\": 23, \"13\": 13, \"7\": 14, \"2\": 14, \"12\": 15, \"11\": 11, \"4\": 12, \"10\": 20, \"3\": 20, \"1\": 4, \"15\": 23}, \"10\": {\"8\": 18, \"15\": 12, \"9\": 18, \"13\": 11, \"4\": 17, \"11\": 5, \"14\": 24, \"3\": 14, \"2\": 18, \"7\": 16, \"0\": 16, \"6\": 15, \"5\": 11, \"12\": 12, \"1\": 17, \"10\": 16}, \"3\": {\"10\": 16, \"11\": 4, \"9\": 16, \"8\": 14, \"2\": 19, \"13\": 10, \"14\": 17, \"6\": 17, \"4\": 13, \"3\": 20, \"5\": 13, \"0\": 22, \"15\": 19, \"7\": 21, \"12\": 9, \"1\": 10}, \"9\": {\"12\": 20, \"5\": 12, \"2\": 14, \"15\": 21, \"1\": 15, \"3\": 11, \"9\": 14, \"11\": 15, \"14\": 11, \"8\": 11, \"6\": 15, \"4\": 20, \"13\": 16, \"7\": 14, \"10\": 19, \"0\": 12}, \"6\": {\"7\": 16, \"12\": 14, \"3\": 14, \"0\": 12, \"13\": 19, \"1\": 22, \"8\": 18, \"5\": 10, \"11\": 7, \"14\": 16, \"2\": 14, \"4\": 13, \"10\": 18, \"15\": 13, \"9\": 17, \"6\": 17}, \"1\": {\"7\": 19, \"1\": 21, \"11\": 5, \"8\": 24, \"13\": 9, \"6\": 18, \"4\": 17, \"0\": 20, \"15\": 16, \"10\": 25, \"14\": 22, \"2\": 11, \"12\": 4, \"3\": 11, \"5\": 6, \"9\": 12}, \"11\": {\"8\": 2, \"2\": 16, \"10\": 5, \"9\": 17, \"12\": 34, \"11\": 73, \"13\": 31, \"6\": 8, \"3\": 9, \"4\": 2, \"5\": 15, \"15\": 11, \"14\": 7, \"7\": 5, \"0\": 3, \"1\": 2}, \"2\": {\"4\": 19, \"12\": 11, \"8\": 11, \"6\": 16, \"15\": 25, \"9\": 20, \"5\": 17, \"14\": 7, \"7\": 17, \"0\": 14, \"11\": 13, \"10\": 11, \"1\": 12, \"3\": 21, \"2\": 18, \"13\": 8}}, \"ORACLE.run144\": {\"1\": {\"6\": 15, \"9\": 11, \"4\": 16, \"10\": 17, \"13\": 23, \"12\": 24, \"1\": 40, \"14\": 6, \"7\": 18, \"2\": 25, \"3\": 27, \"5\": 6, \"11\": 8, \"15\": 3, \"0\": 1}, \"11\": {\"13\": 32, \"6\": 33, \"2\": 29, \"9\": 19, \"11\": 36, \"10\": 28, \"7\": 15, \"3\": 5, \"12\": 21, \"14\": 2, \"15\": 2, \"5\": 3, \"1\": 12, \"4\": 2, \"8\": 1}, \"3\": {\"13\": 12, \"1\": 27, \"2\": 13, \"8\": 3, \"14\": 18, \"11\": 6, \"12\": 32, \"3\": 27, \"9\": 22, \"10\": 18, \"5\": 5, \"7\": 19, \"4\": 18, \"15\": 9, \"6\": 9, \"0\": 2}, \"6\": {\"6\": 43, \"11\": 37, \"9\": 30, \"13\": 26, \"7\": 32, \"12\": 11, \"2\": 15, \"4\": 9, \"10\": 25, \"1\": 6, \"14\": 2, \"3\": 4}, \"7\": {\"13\": 20, \"3\": 14, \"6\": 25, \"9\": 24, \"1\": 24, \"12\": 21, \"10\": 20, \"4\": 10, \"11\": 23, \"2\": 24, \"5\": 4, \"14\": 6, \"7\": 22, \"15\": 2, \"0\": 1}, \"5\": {\"12\": 4, \"8\": 29, \"14\": 18, \"0\": 35, \"9\": 9, \"3\": 10, \"15\": 29, \"4\": 28, \"13\": 13, \"2\": 3, \"1\": 9, \"5\": 36, \"7\": 6, \"11\": 5, \"10\": 2, \"6\": 4}, \"2\": {\"10\": 21, \"12\": 25, \"9\": 18, \"7\": 31, \"6\": 22, \"2\": 31, \"11\": 21, \"4\": 7, \"13\": 19, \"1\": 24, \"3\": 9, \"14\": 9, \"15\": 1, \"8\": 1, \"0\": 1}, \"15\": {\"1\": 5, \"0\": 38, \"15\": 36, \"5\": 43, \"8\": 42, \"7\": 6, \"14\": 22, \"4\": 13, \"3\": 12, \"9\": 3, \"12\": 8, \"11\": 3, \"2\": 2, \"10\": 3, \"6\": 1, \"13\": 3}, \"10\": {\"12\": 26, \"6\": 34, \"2\": 24, \"7\": 23, \"10\": 23, \"13\": 21, \"11\": 25, \"1\": 16, \"3\": 19, \"9\": 16, \"15\": 1, \"4\": 4, \"14\": 8}, \"13\": {\"11\": 31, \"6\": 28, \"9\": 27, \"13\": 27, \"7\": 23, \"1\": 15, \"10\": 17, \"3\": 7, \"2\": 31, \"14\": 7, \"5\": 3, \"15\": 1, \"12\": 13, \"4\": 9, \"8\": 1}, \"8\": {\"14\": 16, \"15\": 49, \"5\": 24, \"0\": 53, \"4\": 15, \"8\": 70, \"3\": 6, \"1\": 1, \"12\": 2, \"7\": 1, \"2\": 1, \"10\": 1, \"9\": 1}, \"4\": {\"3\": 21, \"0\": 22, \"4\": 24, \"5\": 23, \"1\": 19, \"11\": 10, \"15\": 19, \"14\": 26, \"9\": 7, \"6\": 10, \"8\": 7, \"10\": 7, \"7\": 12, \"13\": 13, \"12\": 12, \"2\": 8}, \"9\": {\"9\": 16, \"6\": 33, \"0\": 4, \"12\": 20, \"7\": 19, \"10\": 29, \"11\": 21, \"4\": 17, \"14\": 8, \"2\": 24, \"3\": 14, \"13\": 14, \"5\": 2, \"1\": 17, \"15\": 2}, \"14\": {\"0\": 24, \"5\": 42, \"4\": 24, \"1\": 14, \"8\": 17, \"7\": 9, \"14\": 23, \"15\": 21, \"3\": 18, \"9\": 15, \"10\": 6, \"12\": 6, \"13\": 10, \"2\": 7, \"6\": 3, \"11\": 1}, \"0\": {\"4\": 14, \"0\": 59, \"8\": 56, \"5\": 28, \"14\": 24, \"15\": 44, \"3\": 9, \"9\": 2, \"12\": 2, \"1\": 2}, \"12\": {\"11\": 11, \"0\": 2, \"10\": 21, \"3\": 32, \"14\": 7, \"15\": 5, \"6\": 8, \"7\": 18, \"12\": 35, \"5\": 5, \"13\": 13, \"1\": 32, \"2\": 21, \"4\": 11, \"8\": 2, \"9\": 17}}, \"ORACLE.run150\": {\"15\": {\"4\": 19, \"6\": 23, \"1\": 24, \"8\": 7, \"12\": 12, \"5\": 19, \"2\": 3, \"10\": 5, \"9\": 19, \"7\": 22, \"14\": 10, \"15\": 29, \"11\": 29, \"3\": 3, \"13\": 12, \"0\": 4}, \"4\": {\"6\": 26, \"15\": 19, \"11\": 23, \"12\": 20, \"2\": 4, \"13\": 20, \"9\": 17, \"5\": 16, \"14\": 11, \"7\": 23, \"1\": 16, \"8\": 9, \"10\": 6, \"3\": 5, \"4\": 22, \"0\": 3}, \"6\": {\"10\": 13, \"9\": 15, \"4\": 20, \"7\": 25, \"15\": 18, \"0\": 9, \"6\": 21, \"11\": 22, \"14\": 9, \"5\": 23, \"12\": 12, \"1\": 29, \"13\": 10, \"8\": 5, \"3\": 4, \"2\": 5}, \"2\": {\"4\": 3, \"14\": 20, \"0\": 29, \"15\": 4, \"10\": 20, \"12\": 15, \"3\": 28, \"5\": 10, \"11\": 5, \"8\": 30, \"2\": 39, \"9\": 8, \"6\": 7, \"1\": 3, \"13\": 11, \"7\": 8}, \"5\": {\"7\": 23, \"13\": 16, \"1\": 12, \"12\": 9, \"4\": 19, \"10\": 14, \"15\": 20, \"3\": 6, \"14\": 12, \"11\": 17, \"5\": 24, \"6\": 32, \"2\": 5, \"9\": 15, \"8\": 8, \"0\": 8}, \"9\": {\"14\": 22, \"15\": 17, \"1\": 22, \"9\": 22, \"13\": 22, \"6\": 15, \"0\": 15, \"11\": 33, \"3\": 4, \"12\": 20, \"2\": 6, \"10\": 12, \"5\": 5, \"4\": 16, \"8\": 3, \"7\": 6}, \"8\": {\"10\": 25, \"1\": 7, \"0\": 22, \"3\": 52, \"13\": 8, \"2\": 27, \"5\": 8, \"14\": 11, \"8\": 37, \"7\": 10, \"6\": 12, \"9\": 4, \"4\": 7, \"12\": 5, \"11\": 2, \"15\": 3}, \"12\": {\"9\": 34, \"1\": 11, \"14\": 24, \"11\": 15, \"2\": 22, \"12\": 38, \"5\": 9, \"10\": 11, \"0\": 16, \"6\": 11, \"7\": 10, \"13\": 12, \"8\": 10, \"15\": 7, \"4\": 7, \"3\": 3}, \"10\": {\"5\": 18, \"2\": 31, \"3\": 25, \"6\": 11, \"14\": 17, \"0\": 22, \"9\": 13, \"8\": 26, \"15\": 9, \"10\": 16, \"13\": 12, \"1\": 9, \"12\": 7, \"11\": 4, \"7\": 14, \"4\": 6}, \"1\": {\"9\": 20, \"15\": 25, \"0\": 12, \"5\": 16, \"3\": 8, \"13\": 9, \"4\": 21, \"14\": 12, \"10\": 8, \"6\": 21, \"11\": 31, \"1\": 17, \"8\": 5, \"7\": 15, \"12\": 15, \"2\": 5}, \"0\": {\"14\": 13, \"3\": 25, \"8\": 29, \"15\": 10, \"0\": 34, \"5\": 5, \"7\": 10, \"10\": 24, \"4\": 7, \"13\": 12, \"12\": 9, \"6\": 14, \"1\": 8, \"2\": 26, \"9\": 9, \"11\": 5}, \"3\": {\"0\": 27, \"3\": 61, \"7\": 18, \"8\": 38, \"12\": 3, \"13\": 11, \"10\": 18, \"5\": 8, \"1\": 6, \"6\": 10, \"2\": 25, \"4\": 2, \"11\": 3, \"15\": 6, \"14\": 3, \"9\": 1}, \"13\": {\"8\": 11, \"1\": 13, \"13\": 22, \"9\": 15, \"4\": 17, \"3\": 14, \"5\": 24, \"11\": 10, \"15\": 22, \"2\": 9, \"6\": 19, \"7\": 26, \"10\": 12, \"12\": 9, \"14\": 10, \"0\": 7}, \"11\": {\"5\": 16, \"6\": 17, \"4\": 25, \"15\": 21, \"1\": 23, \"8\": 2, \"12\": 16, \"3\": 6, \"11\": 32, \"2\": 4, \"13\": 15, \"0\": 6, \"9\": 26, \"10\": 5, \"7\": 8, \"14\": 18}, \"7\": {\"10\": 15, \"14\": 7, \"8\": 10, \"4\": 23, \"5\": 28, \"2\": 8, \"7\": 36, \"9\": 18, \"12\": 9, \"11\": 12, \"3\": 12, \"13\": 11, \"0\": 7, \"1\": 18, \"6\": 20, \"15\": 6}, \"14\": {\"11\": 15, \"4\": 10, \"0\": 17, \"7\": 14, \"2\": 23, \"8\": 14, \"14\": 23, \"9\": 15, \"12\": 27, \"1\": 10, \"10\": 20, \"15\": 16, \"6\": 11, \"13\": 11, \"3\": 8, \"5\": 6}}, \"ORACLE.run138\": {\"15\": {\"15\": 26, \"9\": 20, \"2\": 19, \"5\": 19, \"10\": 16, \"13\": 17, \"0\": 16, \"14\": 26, \"6\": 17, \"8\": 15, \"1\": 20, \"7\": 9, \"11\": 11, \"3\": 6, \"12\": 2, \"4\": 1}, \"11\": {\"11\": 45, \"7\": 13, \"12\": 30, \"0\": 12, \"14\": 39, \"5\": 11, \"4\": 22, \"10\": 13, \"2\": 15, \"6\": 3, \"8\": 10, \"13\": 9, \"15\": 7, \"3\": 5, \"1\": 4, \"9\": 2}, \"10\": {\"10\": 18, \"5\": 19, \"0\": 15, \"12\": 15, \"3\": 15, \"14\": 27, \"11\": 23, \"7\": 23, \"13\": 9, \"4\": 11, \"6\": 9, \"1\": 15, \"15\": 6, \"2\": 9, \"8\": 18, \"9\": 8}, \"14\": {\"15\": 11, \"13\": 13, \"8\": 15, \"11\": 44, \"7\": 14, \"14\": 31, \"10\": 12, \"0\": 16, \"4\": 12, \"1\": 6, \"2\": 26, \"5\": 12, \"12\": 15, \"9\": 3, \"3\": 4, \"6\": 6}, \"6\": {\"8\": 13, \"1\": 29, \"9\": 18, \"6\": 31, \"10\": 11, \"5\": 27, \"7\": 17, \"15\": 24, \"2\": 9, \"11\": 6, \"0\": 10, \"13\": 17, \"12\": 4, \"3\": 17, \"14\": 6, \"4\": 1}, \"4\": {\"12\": 75, \"7\": 21, \"4\": 81, \"14\": 9, \"0\": 12, \"5\": 5, \"3\": 5, \"11\": 18, \"10\": 6, \"8\": 6, \"15\": 1, \"6\": 1}, \"13\": {\"8\": 10, \"15\": 24, \"9\": 15, \"10\": 23, \"14\": 14, \"1\": 21, \"11\": 9, \"13\": 23, \"7\": 5, \"5\": 16, \"2\": 21, \"0\": 12, \"3\": 12, \"6\": 29, \"12\": 3, \"4\": 3}, \"3\": {\"0\": 20, \"3\": 46, \"14\": 9, \"15\": 15, \"5\": 19, \"7\": 16, \"13\": 9, \"2\": 10, \"6\": 28, \"8\": 15, \"10\": 14, \"12\": 8, \"9\": 18, \"11\": 4, \"1\": 7, \"4\": 2}, \"7\": {\"3\": 23, \"0\": 30, \"6\": 17, \"9\": 12, \"10\": 25, \"12\": 21, \"15\": 12, \"11\": 16, \"4\": 16, \"8\": 13, \"13\": 6, \"14\": 11, \"7\": 22, \"2\": 2, \"5\": 10, \"1\": 4}, \"8\": {\"5\": 16, \"12\": 10, \"15\": 12, \"0\": 22, \"8\": 25, \"7\": 22, \"3\": 30, \"14\": 16, \"9\": 22, \"13\": 7, \"6\": 14, \"10\": 17, \"11\": 6, \"2\": 7, \"1\": 12, \"4\": 2}, \"1\": {\"0\": 11, \"13\": 24, \"2\": 23, \"5\": 18, \"1\": 35, \"8\": 17, \"9\": 23, \"14\": 8, \"6\": 21, \"11\": 4, \"10\": 14, \"7\": 9, \"3\": 10, \"12\": 2, \"15\": 21}, \"5\": {\"0\": 12, \"8\": 24, \"7\": 32, \"3\": 27, \"5\": 18, \"14\": 16, \"13\": 12, \"6\": 15, \"10\": 15, \"11\": 12, \"15\": 11, \"12\": 10, \"2\": 12, \"1\": 9, \"9\": 13, \"4\": 2}, \"0\": {\"1\": 9, \"4\": 11, \"8\": 19, \"14\": 14, \"3\": 19, \"7\": 22, \"5\": 18, \"6\": 15, \"0\": 31, \"12\": 22, \"13\": 6, \"9\": 17, \"15\": 10, \"11\": 9, \"10\": 13, \"2\": 5}, \"2\": {\"11\": 17, \"8\": 9, \"13\": 37, \"15\": 27, \"10\": 11, \"14\": 19, \"3\": 7, \"0\": 6, \"5\": 12, \"1\": 28, \"6\": 18, \"2\": 29, \"9\": 13, \"12\": 2, \"7\": 5}, \"12\": {\"12\": 76, \"4\": 63, \"7\": 17, \"14\": 17, \"11\": 19, \"3\": 6, \"0\": 9, \"8\": 9, \"5\": 6, \"13\": 2, \"10\": 13, \"2\": 1, \"6\": 2}, \"9\": {\"15\": 33, \"8\": 12, \"0\": 17, \"11\": 4, \"1\": 24, \"3\": 36, \"9\": 24, \"13\": 19, \"2\": 5, \"5\": 21, \"6\": 13, \"10\": 14, \"14\": 2, \"7\": 12, \"12\": 3, \"4\": 1}}, \"ORACLE.run120\": {\"10\": {\"4\": 26, \"0\": 14, \"1\": 13, \"14\": 33, \"15\": 11, \"6\": 24, \"5\": 9, \"9\": 11, \"8\": 17, \"12\": 13, \"3\": 16, \"13\": 7, \"10\": 22, \"2\": 9, \"7\": 8, \"11\": 7}, \"7\": {\"12\": 14, \"0\": 19, \"1\": 20, \"4\": 12, \"13\": 10, \"11\": 12, \"9\": 10, \"14\": 17, \"7\": 17, \"5\": 15, \"10\": 15, \"15\": 12, \"6\": 17, \"8\": 20, \"2\": 14, \"3\": 16}, \"4\": {\"9\": 11, \"12\": 17, \"6\": 34, \"3\": 12, \"10\": 13, \"11\": 9, \"0\": 17, \"1\": 12, \"8\": 18, \"5\": 12, \"4\": 21, \"15\": 12, \"13\": 8, \"7\": 16, \"2\": 8, \"14\": 20}, \"13\": {\"6\": 10, \"14\": 9, \"7\": 18, \"9\": 22, \"13\": 21, \"4\": 21, \"0\": 19, \"12\": 18, \"3\": 10, \"15\": 18, \"11\": 18, \"1\": 19, \"2\": 7, \"8\": 9, \"5\": 14, \"10\": 7}, \"1\": {\"2\": 20, \"0\": 17, \"7\": 16, \"13\": 19, \"11\": 13, \"9\": 13, \"6\": 11, \"3\": 12, \"14\": 10, \"1\": 18, \"15\": 24, \"12\": 20, \"5\": 14, \"4\": 13, \"10\": 11, \"8\": 9}, \"0\": {\"11\": 12, \"9\": 18, \"1\": 16, \"8\": 14, \"13\": 13, \"12\": 14, \"4\": 18, \"2\": 16, \"5\": 8, \"7\": 19, \"0\": 18, \"3\": 14, \"6\": 12, \"14\": 10, \"15\": 18, \"10\": 20}, \"12\": {\"13\": 26, \"0\": 15, \"3\": 13, \"5\": 19, \"12\": 11, \"7\": 22, \"4\": 16, \"15\": 15, \"11\": 12, \"2\": 12, \"6\": 11, \"14\": 12, \"10\": 13, \"8\": 13, \"1\": 17, \"9\": 13}, \"5\": {\"2\": 13, \"13\": 18, \"11\": 16, \"1\": 14, \"14\": 12, \"9\": 20, \"8\": 19, \"6\": 18, \"4\": 16, \"12\": 14, \"3\": 14, \"15\": 16, \"5\": 19, \"0\": 8, \"7\": 14, \"10\": 9}, \"6\": {\"15\": 10, \"5\": 14, \"12\": 17, \"4\": 18, \"8\": 19, \"1\": 12, \"0\": 15, \"14\": 15, \"3\": 19, \"7\": 16, \"6\": 28, \"11\": 9, \"10\": 15, \"2\": 9, \"9\": 13, \"13\": 11}, \"2\": {\"6\": 15, \"12\": 14, \"7\": 8, \"1\": 20, \"13\": 17, \"8\": 14, \"0\": 24, \"3\": 10, \"9\": 13, \"5\": 15, \"10\": 14, \"15\": 18, \"2\": 17, \"11\": 13, \"14\": 10, \"4\": 18}, \"8\": {\"3\": 15, \"9\": 11, \"5\": 14, \"2\": 14, \"0\": 9, \"13\": 10, \"12\": 18, \"7\": 16, \"14\": 19, \"1\": 15, \"6\": 19, \"10\": 19, \"11\": 15, \"15\": 13, \"4\": 17, \"8\": 16}, \"11\": {\"10\": 7, \"12\": 15, \"1\": 12, \"3\": 18, \"9\": 13, \"0\": 18, \"14\": 10, \"15\": 12, \"5\": 25, \"11\": 22, \"4\": 16, \"8\": 10, \"2\": 15, \"13\": 15, \"6\": 17, \"7\": 15}, \"9\": {\"5\": 15, \"2\": 12, \"1\": 21, \"9\": 18, \"12\": 23, \"13\": 19, \"4\": 18, \"0\": 19, \"8\": 17, \"14\": 9, \"10\": 17, \"3\": 14, \"15\": 10, \"11\": 12, \"7\": 9, \"6\": 7}, \"14\": {\"10\": 21, \"14\": 33, \"1\": 12, \"5\": 14, \"8\": 21, \"13\": 6, \"7\": 20, \"11\": 10, \"0\": 12, \"9\": 7, \"2\": 17, \"15\": 10, \"4\": 20, \"12\": 9, \"6\": 17, \"3\": 11}, \"15\": {\"0\": 22, \"15\": 14, \"7\": 17, \"5\": 16, \"12\": 16, \"1\": 22, \"9\": 18, \"13\": 18, \"6\": 13, \"3\": 19, \"10\": 15, \"2\": 13, \"11\": 14, \"4\": 8, \"14\": 8, \"8\": 7}, \"3\": {\"13\": 20, \"15\": 18, \"1\": 13, \"11\": 9, \"6\": 13, \"0\": 15, \"2\": 14, \"8\": 17, \"4\": 14, \"3\": 16, \"12\": 12, \"7\": 15, \"5\": 17, \"10\": 13, \"9\": 14, \"14\": 20}}, \"ORACLE.run114\": {\"14\": {\"15\": 18, \"14\": 22, \"3\": 17, \"6\": 24, \"13\": 16, \"4\": 17, \"2\": 24, \"11\": 11, \"1\": 11, \"0\": 19, \"10\": 20, \"5\": 12, \"12\": 8, \"9\": 7, \"7\": 11, \"8\": 3}, \"0\": {\"13\": 14, \"6\": 16, \"1\": 12, \"2\": 15, \"14\": 15, \"0\": 19, \"5\": 18, \"3\": 16, \"12\": 13, \"7\": 14, \"11\": 23, \"9\": 15, \"4\": 16, \"10\": 17, \"8\": 10, \"15\": 7}, \"4\": {\"11\": 14, \"14\": 15, \"4\": 21, \"5\": 16, \"8\": 13, \"10\": 11, \"2\": 18, \"6\": 15, \"13\": 13, \"1\": 15, \"9\": 11, \"15\": 22, \"3\": 14, \"0\": 13, \"7\": 21, \"12\": 8}, \"11\": {\"6\": 19, \"11\": 23, \"3\": 19, \"14\": 19, \"9\": 19, \"0\": 21, \"5\": 9, \"4\": 17, \"7\": 14, \"15\": 5, \"13\": 17, \"1\": 13, \"8\": 11, \"10\": 11, \"12\": 13, \"2\": 10}, \"13\": {\"3\": 20, \"7\": 10, \"2\": 21, \"13\": 29, \"6\": 25, \"15\": 18, \"5\": 13, \"8\": 4, \"10\": 18, \"1\": 12, \"11\": 16, \"4\": 8, \"14\": 26, \"9\": 6, \"0\": 12, \"12\": 2}, \"9\": {\"9\": 42, \"12\": 39, \"5\": 15, \"10\": 12, \"8\": 16, \"15\": 7, \"4\": 17, \"7\": 9, \"2\": 4, \"3\": 17, \"13\": 4, \"1\": 17, \"14\": 3, \"11\": 17, \"0\": 15, \"6\": 6}, \"3\": {\"6\": 15, \"3\": 21, \"4\": 14, \"8\": 7, \"9\": 10, \"2\": 17, \"10\": 17, \"0\": 14, \"14\": 13, \"11\": 17, \"5\": 15, \"7\": 14, \"1\": 21, \"15\": 15, \"12\": 10, \"13\": 20}, \"6\": {\"6\": 20, \"3\": 25, \"11\": 14, \"15\": 9, \"4\": 17, \"14\": 27, \"13\": 24, \"7\": 24, \"2\": 13, \"1\": 14, \"9\": 7, \"0\": 9, \"10\": 20, \"5\": 12, \"12\": 2, \"8\": 3}, \"1\": {\"11\": 16, \"7\": 25, \"0\": 16, \"9\": 19, \"5\": 14, \"2\": 22, \"14\": 6, \"3\": 19, \"8\": 16, \"15\": 16, \"4\": 16, \"12\": 12, \"1\": 18, \"6\": 11, \"13\": 10, \"10\": 4}, \"5\": {\"0\": 23, \"14\": 19, \"13\": 13, \"2\": 14, \"1\": 23, \"15\": 21, \"9\": 12, \"11\": 14, \"7\": 14, \"5\": 12, \"4\": 13, \"10\": 17, \"3\": 15, \"12\": 9, \"8\": 8, \"6\": 13}, \"12\": {\"12\": 64, \"11\": 21, \"9\": 46, \"4\": 13, \"10\": 11, \"8\": 34, \"5\": 7, \"3\": 11, \"0\": 12, \"2\": 3, \"1\": 10, \"7\": 2, \"14\": 3, \"6\": 1, \"13\": 2}, \"10\": {\"9\": 16, \"14\": 12, \"15\": 8, \"11\": 17, \"3\": 11, \"8\": 12, \"6\": 15, \"1\": 16, \"4\": 15, \"13\": 16, \"10\": 19, \"2\": 24, \"5\": 14, \"7\": 16, \"0\": 18, \"12\": 11}, \"8\": {\"14\": 4, \"9\": 36, \"12\": 49, \"10\": 9, \"8\": 45, \"0\": 8, \"5\": 9, \"11\": 9, \"2\": 8, \"3\": 12, \"7\": 11, \"4\": 9, \"15\": 9, \"6\": 3, \"1\": 16, \"13\": 3}, \"7\": {\"7\": 26, \"0\": 18, \"4\": 17, \"1\": 22, \"13\": 18, \"10\": 7, \"9\": 9, \"5\": 18, \"3\": 17, \"11\": 6, \"15\": 30, \"6\": 19, \"14\": 10, \"12\": 3, \"8\": 6, \"2\": 14}, \"15\": {\"0\": 11, \"7\": 26, \"12\": 1, \"2\": 17, \"6\": 16, \"5\": 19, \"15\": 32, \"1\": 15, \"13\": 25, \"9\": 9, \"4\": 18, \"10\": 14, \"3\": 11, \"14\": 15, \"8\": 4, \"11\": 7}, \"2\": {\"3\": 23, \"12\": 7, \"4\": 16, \"1\": 20, \"7\": 10, \"2\": 18, \"14\": 25, \"15\": 14, \"10\": 13, \"5\": 14, \"13\": 25, \"8\": 4, \"6\": 20, \"0\": 8, \"9\": 10, \"11\": 13}}, \"ORACLE.run132\": {\"11\": {\"9\": 9, \"7\": 27, \"11\": 22, \"14\": 28, \"0\": 21, \"2\": 31, \"3\": 13, \"8\": 19, \"12\": 6, \"13\": 23, \"5\": 17, \"4\": 15, \"15\": 6, \"6\": 2, \"1\": 1}, \"1\": {\"1\": 96, \"6\": 59, \"12\": 20, \"10\": 55, \"14\": 1, \"4\": 1, \"0\": 1, \"8\": 1, \"9\": 4, \"3\": 1, \"2\": 1}, \"2\": {\"0\": 18, \"7\": 19, \"5\": 15, \"11\": 24, \"13\": 13, \"14\": 24, \"1\": 4, \"2\": 23, \"4\": 23, \"3\": 11, \"6\": 6, \"8\": 12, \"9\": 22, \"12\": 18, \"10\": 3, \"15\": 5}, \"0\": {\"11\": 22, \"6\": 4, \"15\": 7, \"0\": 16, \"12\": 17, \"4\": 20, \"2\": 17, \"8\": 15, \"3\": 19, \"9\": 19, \"14\": 19, \"13\": 15, \"5\": 20, \"7\": 27, \"10\": 2, \"1\": 1}, \"3\": {\"4\": 17, \"5\": 27, \"0\": 20, \"15\": 33, \"3\": 34, \"13\": 31, \"8\": 21, \"12\": 3, \"2\": 7, \"14\": 19, \"11\": 14, \"7\": 11, \"9\": 3}, \"8\": {\"4\": 16, \"7\": 20, \"8\": 30, \"11\": 23, \"3\": 25, \"14\": 8, \"5\": 20, \"9\": 4, \"13\": 28, \"0\": 22, \"15\": 29, \"10\": 3, \"12\": 5, \"2\": 7}, \"12\": {\"1\": 22, \"13\": 8, \"12\": 46, \"10\": 37, \"8\": 7, \"9\": 37, \"7\": 12, \"0\": 8, \"11\": 11, \"5\": 6, \"2\": 11, \"6\": 14, \"4\": 7, \"3\": 6, \"14\": 6, \"15\": 2}, \"5\": {\"13\": 33, \"4\": 18, \"0\": 20, \"8\": 25, \"15\": 8, \"1\": 1, \"3\": 20, \"11\": 24, \"14\": 23, \"5\": 20, \"7\": 17, \"10\": 4, \"2\": 11, \"12\": 10, \"6\": 1, \"9\": 5}, \"15\": {\"15\": 110, \"3\": 31, \"14\": 10, \"0\": 14, \"11\": 5, \"8\": 20, \"13\": 22, \"4\": 7, \"7\": 6, \"12\": 4, \"5\": 9, \"2\": 2}, \"7\": {\"7\": 33, \"11\": 23, \"3\": 16, \"8\": 12, \"9\": 19, \"5\": 18, \"4\": 16, \"0\": 21, \"14\": 22, \"2\": 19, \"12\": 13, \"10\": 4, \"13\": 16, \"15\": 4, \"6\": 3, \"1\": 1}, \"4\": {\"12\": 17, \"4\": 19, \"8\": 16, \"7\": 20, \"14\": 24, \"11\": 17, \"10\": 7, \"13\": 24, \"0\": 22, \"5\": 18, \"3\": 11, \"2\": 20, \"9\": 13, \"15\": 9, \"6\": 3}, \"14\": {\"2\": 17, \"0\": 21, \"5\": 20, \"7\": 19, \"8\": 20, \"14\": 32, \"11\": 26, \"3\": 11, \"4\": 19, \"9\": 17, \"13\": 20, \"15\": 5, \"12\": 10, \"6\": 2, \"10\": 1}, \"10\": {\"12\": 34, \"1\": 61, \"6\": 32, \"10\": 64, \"9\": 27, \"14\": 2, \"8\": 4, \"0\": 3, \"5\": 4, \"2\": 4, \"11\": 2, \"4\": 2, \"13\": 1}, \"6\": {\"6\": 83, \"10\": 40, \"1\": 62, \"12\": 19, \"9\": 25, \"14\": 1, \"2\": 5, \"7\": 3, \"0\": 1, \"4\": 1}, \"13\": {\"3\": 31, \"7\": 25, \"11\": 18, \"8\": 18, \"15\": 20, \"14\": 14, \"2\": 14, \"0\": 12, \"5\": 20, \"4\": 27, \"13\": 29, \"9\": 4, \"12\": 6, \"6\": 1, \"10\": 1}, \"9\": {\"8\": 7, \"2\": 34, \"9\": 37, \"1\": 9, \"14\": 11, \"13\": 9, \"12\": 37, \"6\": 12, \"4\": 10, \"11\": 13, \"5\": 10, \"7\": 17, \"10\": 19, \"0\": 12, \"3\": 3}}, \"ORACLE.run18\": {\"9\": {\"9\": 149, \"15\": 1, \"10\": 21, \"14\": 10, \"0\": 8, \"1\": 4, \"5\": 14, \"13\": 15, \"7\": 6, \"4\": 4, \"6\": 6, \"2\": 1, \"11\": 1}, \"11\": {\"7\": 13, \"9\": 5, \"13\": 17, \"2\": 16, \"6\": 19, \"10\": 6, \"12\": 22, \"3\": 16, \"14\": 16, \"15\": 15, \"5\": 15, \"11\": 20, \"8\": 17, \"1\": 18, \"4\": 15, \"0\": 10}, \"8\": {\"5\": 9, \"8\": 20, \"7\": 12, \"2\": 13, \"6\": 16, \"3\": 25, \"12\": 27, \"15\": 17, \"11\": 28, \"14\": 7, \"4\": 12, \"10\": 7, \"13\": 17, \"1\": 21, \"0\": 7, \"9\": 2}, \"4\": {\"8\": 9, \"11\": 8, \"1\": 22, \"9\": 8, \"0\": 19, \"4\": 17, \"2\": 16, \"15\": 15, \"6\": 17, \"3\": 17, \"13\": 20, \"7\": 14, \"12\": 12, \"14\": 12, \"10\": 20, \"5\": 14}, \"13\": {\"9\": 15, \"1\": 15, \"13\": 16, \"0\": 14, \"14\": 17, \"7\": 24, \"11\": 13, \"4\": 14, \"2\": 17, \"12\": 7, \"3\": 8, \"6\": 23, \"10\": 20, \"8\": 7, \"5\": 22, \"15\": 8}, \"14\": {\"1\": 19, \"2\": 13, \"10\": 9, \"13\": 23, \"11\": 20, \"6\": 11, \"8\": 11, \"4\": 22, \"0\": 25, \"14\": 12, \"3\": 15, \"5\": 17, \"7\": 15, \"15\": 13, \"9\": 6, \"12\": 9}, \"2\": {\"10\": 6, \"3\": 11, \"0\": 20, \"6\": 13, \"15\": 22, \"1\": 22, \"4\": 15, \"5\": 20, \"13\": 11, \"9\": 6, \"8\": 7, \"12\": 24, \"2\": 19, \"11\": 18, \"14\": 8, \"7\": 18}, \"3\": {\"4\": 19, \"2\": 24, \"13\": 13, \"9\": 3, \"7\": 12, \"3\": 24, \"12\": 20, \"8\": 17, \"11\": 12, \"15\": 11, \"5\": 11, \"1\": 18, \"10\": 14, \"14\": 17, \"0\": 16, \"6\": 9}, \"1\": {\"1\": 18, \"3\": 12, \"5\": 28, \"7\": 9, \"8\": 12, \"12\": 15, \"11\": 22, \"10\": 17, \"13\": 18, \"6\": 19, \"14\": 18, \"4\": 12, \"15\": 19, \"0\": 11, \"2\": 8, \"9\": 2}, \"0\": {\"11\": 12, \"1\": 15, \"15\": 12, \"5\": 22, \"4\": 17, \"13\": 14, \"0\": 22, \"8\": 8, \"6\": 25, \"2\": 13, \"12\": 6, \"9\": 11, \"14\": 16, \"3\": 14, \"10\": 18, \"7\": 15}, \"5\": {\"11\": 12, \"6\": 18, \"10\": 23, \"2\": 10, \"14\": 20, \"1\": 20, \"7\": 19, \"9\": 13, \"3\": 8, \"5\": 24, \"0\": 14, \"15\": 13, \"13\": 20, \"12\": 6, \"4\": 15, \"8\": 5}, \"15\": {\"7\": 9, \"2\": 18, \"0\": 15, \"6\": 12, \"13\": 12, \"3\": 22, \"4\": 12, \"1\": 17, \"11\": 20, \"15\": 25, \"8\": 24, \"12\": 28, \"14\": 12, \"10\": 8, \"9\": 1, \"5\": 5}, \"10\": {\"1\": 11, \"8\": 13, \"9\": 15, \"10\": 15, \"14\": 20, \"0\": 21, \"2\": 12, \"5\": 22, \"3\": 10, \"4\": 13, \"7\": 22, \"11\": 19, \"6\": 16, \"13\": 23, \"15\": 6, \"12\": 2}, \"12\": {\"13\": 13, \"6\": 21, \"1\": 21, \"5\": 13, \"14\": 12, \"2\": 16, \"4\": 13, \"15\": 21, \"11\": 17, \"12\": 24, \"3\": 23, \"8\": 20, \"7\": 13, \"10\": 11, \"0\": 2}, \"6\": {\"7\": 15, \"15\": 18, \"2\": 18, \"14\": 14, \"0\": 21, \"4\": 12, \"5\": 17, \"10\": 6, \"1\": 18, \"3\": 15, \"9\": 4, \"13\": 12, \"8\": 18, \"12\": 22, \"11\": 15, \"6\": 15}, \"7\": {\"4\": 10, \"12\": 14, \"2\": 15, \"7\": 18, \"10\": 22, \"8\": 19, \"1\": 11, \"0\": 19, \"6\": 19, \"15\": 15, \"3\": 23, \"13\": 8, \"14\": 18, \"11\": 12, \"9\": 9, \"5\": 8}}}, \"per_domain_accuracy\": {\"Wisig_4\": {\"accuracy\": 0.9511316872427984, \"source?\": true}, \"Wisig_1\": {\"accuracy\": 0.9690148305084746, \"source?\": true}, \"Wisig_2\": {\"accuracy\": 0.950836820083682, \"source?\": true}, \"Wisig_3\": {\"accuracy\": 0.9691593886462883, \"source?\": true}, \"ORACLE.run126\": {\"accuracy\": 0.09713541666666667, \"source?\": false}, \"ORACLE.run144\": {\"accuracy\": 0.14270833333333333, \"source?\": false}, \"ORACLE.run150\": {\"accuracy\": 0.12317708333333334, \"source?\": false}, \"ORACLE.run138\": {\"accuracy\": 0.14609375, \"source?\": false}, \"ORACLE.run120\": {\"accuracy\": 0.08098958333333334, \"source?\": false}, \"ORACLE.run114\": {\"accuracy\": 0.11223958333333334, \"source?\": false}, \"ORACLE.run132\": {\"accuracy\": 0.18072916666666666, \"source?\": false}, \"ORACLE.run18\": {\"accuracy\": 0.1140625, \"source?\": false}}}, \"history\": {\"epoch_indices\": [1, 2, 3, 4, 5], \"train_label_loss\": [0.19600612572452766, 0.12166275973236491, 0.09807072056732294, 0.08219879684629267, 0.06808623390987154], \"source_val_label_loss\": [0.1727716475725174, 0.13744215667247772, 0.12522684037685394, 0.12338679283857346, 0.12821125984191895], \"target_val_label_loss\": [2.648361921310425, 2.6903114318847656, 2.7556638717651367, 2.7736129760742188, 2.8217291831970215], \"source_val_acc_label\": [0.9598732840549102, 0.9689809926082366, 0.971257919746568, 0.9730398627243928, 0.9721158922914467], \"target_val_acc_label\": [0.12464192708333334, 0.11822916666666666, 0.10055338541666667, 0.09814453125, 0.09319661458333334]}, \"dataset_metrics\": {\"source\": {\"train\": {\"n_unique_x\": 189042, \"n_unique_y\": 130, \"n_batch/episode\": 6851}, \"val\": {\"n_unique_x\": 40070, \"n_unique_y\": 130, \"n_batch/episode\": 947}, \"test\": {\"n_unique_x\": 40812, \"n_unique_y\": 130, \"n_batch/episode\": 969}}, \"target\": {\"train\": {\"n_unique_x\": 179200, \"n_unique_y\": 16, \"n_batch/episode\": 6720}, \"val\": {\"n_unique_x\": 38400, \"n_unique_y\": 16, \"n_batch/episode\": 960}, \"test\": {\"n_unique_x\": 38400, \"n_unique_y\": 16, \"n_batch/episode\": 960}}}}'"
      ]
     },
     "execution_count": 29,
     "metadata": {},
     "output_type": "execute_result"
    }
   ],
   "source": [
    "json.dumps(experiment)"
   ]
  }
 ],
 "metadata": {
  "celltoolbar": "Tags",
  "kernelspec": {
   "display_name": "Python 3 (ipykernel)",
   "language": "python",
   "name": "python3"
  },
  "language_info": {
   "codemirror_mode": {
    "name": "ipython",
    "version": 3
   },
   "file_extension": ".py",
   "mimetype": "text/x-python",
   "name": "python",
   "nbconvert_exporter": "python",
   "pygments_lexer": "ipython3",
   "version": "3.8.12"
  },
  "papermill": {
   "default_parameters": {},
   "duration": 1105.624054,
   "end_time": "2022-03-23T03:05:44.705002",
   "environment_variables": {},
   "exception": null,
   "input_path": "/root/csc500-main/csc500-notebooks/templates/tl_ptn_template.ipynb",
   "output_path": "trial.ipynb",
   "parameters": {
    "parameters": {
     "BEST_MODEL_PATH": "./best_model.pth",
     "NUM_LOGS_PER_EPOCH": 10,
     "criteria_for_best": "target_accuracy",
     "dataset_seed": 7,
     "datasets": [
      {
       "domain_prefix": "Wisig_",
       "domains": [
        1,
        2,
        3,
        4
       ],
       "episode_transforms": [],
       "labels": [
        "1-10",
        "1-12",
        "1-14",
        "1-16",
        "1-18",
        "1-19",
        "1-8",
        "10-11",
        "10-17",
        "10-4",
        "10-7",
        "11-1",
        "11-10",
        "11-19",
        "11-20",
        "11-4",
        "11-7",
        "12-19",
        "12-20",
        "12-7",
        "13-14",
        "13-18",
        "13-19",
        "13-20",
        "13-3",
        "13-7",
        "14-10",
        "14-11",
        "14-12",
        "14-13",
        "14-14",
        "14-19",
        "14-20",
        "14-7",
        "14-8",
        "14-9",
        "15-1",
        "15-19",
        "15-6",
        "16-1",
        "16-16",
        "16-19",
        "16-20",
        "17-10",
        "17-11",
        "18-1",
        "18-10",
        "18-11",
        "18-12",
        "18-13",
        "18-14",
        "18-15",
        "18-16",
        "18-17",
        "18-19",
        "18-2",
        "18-20",
        "18-4",
        "18-5",
        "18-7",
        "18-8",
        "18-9",
        "19-1",
        "19-10",
        "19-11",
        "19-12",
        "19-13",
        "19-14",
        "19-15",
        "19-19",
        "19-2",
        "19-20",
        "19-3",
        "19-4",
        "19-6",
        "19-7",
        "19-8",
        "19-9",
        "2-1",
        "2-13",
        "2-15",
        "2-3",
        "2-4",
        "2-5",
        "2-6",
        "2-7",
        "2-8",
        "20-1",
        "20-12",
        "20-14",
        "20-15",
        "20-16",
        "20-18",
        "20-19",
        "20-20",
        "20-3",
        "20-4",
        "20-5",
        "20-7",
        "20-8",
        "3-1",
        "3-13",
        "3-18",
        "3-2",
        "3-8",
        "4-1",
        "4-10",
        "4-11",
        "5-1",
        "5-5",
        "6-1",
        "6-15",
        "6-6",
        "7-10",
        "7-11",
        "7-12",
        "7-13",
        "7-14",
        "7-7",
        "7-8",
        "7-9",
        "8-1",
        "8-13",
        "8-14",
        "8-18",
        "8-20",
        "8-3",
        "8-8",
        "9-1",
        "9-7"
       ],
       "num_examples_per_domain_per_label": -1,
       "pickle_path": "/root/csc500-main/datasets/wisig.node3-19.stratified_ds.2022A.pkl",
       "source_or_target_dataset": "source",
       "x_transforms": [
        "unit_mag"
       ]
      },
      {
       "domain_prefix": "ORACLE.run1",
       "domains": [
        32,
        38,
        8,
        44,
        14,
        50,
        20,
        26
       ],
       "episode_transforms": [],
       "labels": [
        "3123D52",
        "3123D65",
        "3123D79",
        "3123D80",
        "3123D54",
        "3123D70",
        "3123D7B",
        "3123D89",
        "3123D58",
        "3123D76",
        "3123D7D",
        "3123EFE",
        "3123D64",
        "3123D78",
        "3123D7E",
        "3124E4A"
       ],
       "num_examples_per_domain_per_label": 2000,
       "pickle_path": "/root/csc500-main/datasets/oracle.Run1_10kExamples_stratified_ds.2022A.pkl",
       "source_or_target_dataset": "target",
       "x_transforms": [
        "unit_mag"
       ]
      }
     ],
     "device": "cuda",
     "experiment_name": "tl_1v2:wisig-oracle.run1.limited",
     "lr": 0.0001,
     "n_epoch": 50,
     "n_query": 2,
     "n_shot": 3,
     "n_way": 16,
     "patience": 3,
     "seed": 7,
     "test_k_factor": 2,
     "torch_default_dtype": "torch.float32",
     "train_k_factor": 3,
     "val_k_factor": 2,
     "x_net": [
      {
       "class": "nnReshape",
       "kargs": {
        "shape": [
         -1,
         1,
         2,
         256
        ]
       }
      },
      {
       "class": "Conv2d",
       "kargs": {
        "bias": false,
        "in_channels": 1,
        "kernel_size": [
         1,
         7
        ],
        "out_channels": 256,
        "padding": [
         0,
         3
        ]
       }
      },
      {
       "class": "ReLU",
       "kargs": {
        "inplace": true
       }
      },
      {
       "class": "BatchNorm2d",
       "kargs": {
        "num_features": 256
       }
      },
      {
       "class": "Conv2d",
       "kargs": {
        "bias": true,
        "in_channels": 256,
        "kernel_size": [
         2,
         7
        ],
        "out_channels": 80,
        "padding": [
         0,
         3
        ]
       }
      },
      {
       "class": "ReLU",
       "kargs": {
        "inplace": true
       }
      },
      {
       "class": "BatchNorm2d",
       "kargs": {
        "num_features": 80
       }
      },
      {
       "class": "Flatten",
       "kargs": {}
      },
      {
       "class": "Linear",
       "kargs": {
        "in_features": 20480,
        "out_features": 256
       }
      },
      {
       "class": "ReLU",
       "kargs": {
        "inplace": true
       }
      },
      {
       "class": "BatchNorm1d",
       "kargs": {
        "num_features": 256
       }
      },
      {
       "class": "Linear",
       "kargs": {
        "in_features": 256,
        "out_features": 256
       }
      }
     ]
    }
   },
   "start_time": "2022-03-23T02:47:19.080948",
   "version": "2.3.4"
  }
 },
 "nbformat": 4,
 "nbformat_minor": 5
}