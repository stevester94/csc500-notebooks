{
 "cells": [
  {
   "cell_type": "markdown",
   "id": "9fea5f46",
   "metadata": {
    "papermill": {
     "duration": 0.029983,
     "end_time": "2022-03-22T21:37:56.101599",
     "exception": false,
     "start_time": "2022-03-22T21:37:56.071616",
     "status": "completed"
    },
    "tags": []
   },
   "source": [
    "# Transfer Learning Template"
   ]
  },
  {
   "cell_type": "code",
   "execution_count": 1,
   "id": "0902182a",
   "metadata": {
    "execution": {
     "iopub.execute_input": "2022-03-22T21:37:56.165241Z",
     "iopub.status.busy": "2022-03-22T21:37:56.164414Z",
     "iopub.status.idle": "2022-03-22T21:37:58.022698Z",
     "shell.execute_reply": "2022-03-22T21:37:58.021852Z"
    },
    "papermill": {
     "duration": 1.898076,
     "end_time": "2022-03-22T21:37:58.022892",
     "exception": false,
     "start_time": "2022-03-22T21:37:56.124816",
     "status": "completed"
    },
    "tags": []
   },
   "outputs": [],
   "source": [
    "%load_ext autoreload\n",
    "%autoreload 2\n",
    "%matplotlib inline\n",
    "\n",
    "    \n",
    "import os, json, sys, time, random\n",
    "import numpy as np\n",
    "import torch\n",
    "from torch.optim import Adam\n",
    "from  easydict import EasyDict\n",
    "import matplotlib.pyplot as plt\n",
    "\n",
    "from steves_models.steves_ptn import Steves_Prototypical_Network\n",
    "\n",
    "from steves_utils.lazy_iterable_wrapper import Lazy_Iterable_Wrapper\n",
    "from steves_utils.iterable_aggregator import Iterable_Aggregator\n",
    "from steves_utils.ptn_train_eval_test_jig import  PTN_Train_Eval_Test_Jig\n",
    "from steves_utils.torch_sequential_builder import build_sequential\n",
    "from steves_utils.torch_utils import get_dataset_metrics, ptn_confusion_by_domain_over_dataloader\n",
    "from steves_utils.utils_v2 import (per_domain_accuracy_from_confusion, get_datasets_base_path)\n",
    "from steves_utils.PTN.utils import independent_accuracy_assesment\n",
    "\n",
    "from torch.utils.data import DataLoader\n",
    "\n",
    "from steves_utils.stratified_dataset.episodic_accessor import Episodic_Accessor_Factory\n",
    "\n",
    "from steves_utils.ptn_do_report import (\n",
    "    get_loss_curve,\n",
    "    get_results_table,\n",
    "    get_parameters_table,\n",
    "    get_domain_accuracies,\n",
    ")\n",
    "\n",
    "from steves_utils.transforms import get_chained_transform"
   ]
  },
  {
   "cell_type": "markdown",
   "id": "41c840b4",
   "metadata": {
    "papermill": {
     "duration": 0.019429,
     "end_time": "2022-03-22T21:37:58.069827",
     "exception": false,
     "start_time": "2022-03-22T21:37:58.050398",
     "status": "completed"
    },
    "tags": []
   },
   "source": [
    "# Allowed Parameters\n",
    "These are allowed parameters, not defaults\n",
    "Each of these values need to be present in the injected parameters (the notebook will raise an exception if they are not present)\n",
    "\n",
    "Papermill uses the cell tag \"parameters\" to inject the real parameters below this cell.\n",
    "Enable tags to see what I mean"
   ]
  },
  {
   "cell_type": "code",
   "execution_count": 2,
   "id": "fd44eb83",
   "metadata": {
    "execution": {
     "iopub.execute_input": "2022-03-22T21:37:58.112658Z",
     "iopub.status.busy": "2022-03-22T21:37:58.112272Z",
     "iopub.status.idle": "2022-03-22T21:37:58.131739Z",
     "shell.execute_reply": "2022-03-22T21:37:58.130897Z"
    },
    "papermill": {
     "duration": 0.04254,
     "end_time": "2022-03-22T21:37:58.131904",
     "exception": false,
     "start_time": "2022-03-22T21:37:58.089364",
     "status": "completed"
    },
    "tags": []
   },
   "outputs": [],
   "source": [
    "required_parameters = {\n",
    "    \"experiment_name\",\n",
    "    \"lr\",\n",
    "    \"device\",\n",
    "    \"seed\",\n",
    "    \"dataset_seed\",\n",
    "    \"n_shot\",\n",
    "    \"n_query\",\n",
    "    \"n_way\",\n",
    "    \"train_k_factor\",\n",
    "    \"val_k_factor\",\n",
    "    \"test_k_factor\",\n",
    "    \"n_epoch\",\n",
    "    \"patience\",\n",
    "    \"criteria_for_best\",\n",
    "    \"x_net\",\n",
    "    \"datasets\",\n",
    "    \"torch_default_dtype\",\n",
    "    \"NUM_LOGS_PER_EPOCH\",\n",
    "    \"BEST_MODEL_PATH\",\n",
    "    \"x_shape\",\n",
    "}"
   ]
  },
  {
   "cell_type": "code",
   "execution_count": 3,
   "id": "fa3f0049",
   "metadata": {
    "execution": {
     "iopub.execute_input": "2022-03-22T21:37:58.188754Z",
     "iopub.status.busy": "2022-03-22T21:37:58.188042Z",
     "iopub.status.idle": "2022-03-22T21:37:58.207503Z",
     "shell.execute_reply": "2022-03-22T21:37:58.206699Z"
    },
    "papermill": {
     "duration": 0.048548,
     "end_time": "2022-03-22T21:37:58.207682",
     "exception": false,
     "start_time": "2022-03-22T21:37:58.159134",
     "status": "completed"
    },
    "tags": [
     "parameters"
    ]
   },
   "outputs": [],
   "source": [
    "from steves_utils.CORES.utils import (\n",
    "    ALL_NODES,\n",
    "    ALL_NODES_MINIMUM_1000_EXAMPLES,\n",
    "    ALL_DAYS\n",
    ")\n",
    "\n",
    "from steves_utils.ORACLE.utils_v2 import (\n",
    "    ALL_DISTANCES_FEET_NARROWED,\n",
    "    ALL_RUNS,\n",
    "    ALL_SERIAL_NUMBERS,\n",
    ")\n",
    "\n",
    "standalone_parameters = {}\n",
    "standalone_parameters[\"experiment_name\"] = \"STANDALONE PTN\"\n",
    "standalone_parameters[\"lr\"] = 0.001\n",
    "standalone_parameters[\"device\"] = \"cuda\"\n",
    "\n",
    "standalone_parameters[\"seed\"] = 1337\n",
    "standalone_parameters[\"dataset_seed\"] = 1337\n",
    "\n",
    "standalone_parameters[\"n_way\"] = 8\n",
    "standalone_parameters[\"n_shot\"] = 3\n",
    "standalone_parameters[\"n_query\"]  = 2\n",
    "standalone_parameters[\"train_k_factor\"] = 1\n",
    "standalone_parameters[\"val_k_factor\"] = 2\n",
    "standalone_parameters[\"test_k_factor\"] = 2\n",
    "\n",
    "\n",
    "standalone_parameters[\"n_epoch\"] = 50\n",
    "\n",
    "standalone_parameters[\"patience\"] = 10\n",
    "standalone_parameters[\"criteria_for_best\"] = \"source_loss\"\n",
    "\n",
    "standalone_parameters[\"datasets\"] = [\n",
    "    {\n",
    "        \"labels\": ALL_SERIAL_NUMBERS,\n",
    "        \"domains\": ALL_DISTANCES_FEET_NARROWED,\n",
    "        \"num_examples_per_domain_per_label\": 100,\n",
    "        \"pickle_path\": os.path.join(get_datasets_base_path(), \"oracle.Run1_framed_2000Examples_stratified_ds.2022A.pkl\"),\n",
    "        \"source_or_target_dataset\": \"source\",\n",
    "        \"x_transforms\": [\"unit_mag\", \"minus_two\"],\n",
    "        \"episode_transforms\": [],\n",
    "        \"domain_prefix\": \"ORACLE_\"\n",
    "    },\n",
    "    {\n",
    "        \"labels\": ALL_NODES,\n",
    "        \"domains\": ALL_DAYS,\n",
    "        \"num_examples_per_domain_per_label\": 100,\n",
    "        \"pickle_path\": os.path.join(get_datasets_base_path(), \"cores.stratified_ds.2022A.pkl\"),\n",
    "        \"source_or_target_dataset\": \"target\",\n",
    "        \"x_transforms\": [\"unit_power\", \"times_zero\"],\n",
    "        \"episode_transforms\": [],\n",
    "        \"domain_prefix\": \"CORES_\"\n",
    "    }   \n",
    "]\n",
    "\n",
    "standalone_parameters[\"torch_default_dtype\"] = \"torch.float32\" \n",
    "\n",
    "\n",
    "\n",
    "standalone_parameters[\"x_net\"] =     [\n",
    "    {\"class\": \"nnReshape\", \"kargs\": {\"shape\":[-1, 1, 2, 256]}},\n",
    "    {\"class\": \"Conv2d\", \"kargs\": { \"in_channels\":1, \"out_channels\":256, \"kernel_size\":(1,7), \"bias\":False, \"padding\":(0,3), },},\n",
    "    {\"class\": \"ReLU\", \"kargs\": {\"inplace\": True}},\n",
    "    {\"class\": \"BatchNorm2d\", \"kargs\": {\"num_features\":256}},\n",
    "\n",
    "    {\"class\": \"Conv2d\", \"kargs\": { \"in_channels\":256, \"out_channels\":80, \"kernel_size\":(2,7), \"bias\":True, \"padding\":(0,3), },},\n",
    "    {\"class\": \"ReLU\", \"kargs\": {\"inplace\": True}},\n",
    "    {\"class\": \"BatchNorm2d\", \"kargs\": {\"num_features\":80}},\n",
    "    {\"class\": \"Flatten\", \"kargs\": {}},\n",
    "\n",
    "    {\"class\": \"Linear\", \"kargs\": {\"in_features\": 80*256, \"out_features\": 256}}, # 80 units per IQ pair\n",
    "    {\"class\": \"ReLU\", \"kargs\": {\"inplace\": True}},\n",
    "    {\"class\": \"BatchNorm1d\", \"kargs\": {\"num_features\":256}},\n",
    "\n",
    "    {\"class\": \"Linear\", \"kargs\": {\"in_features\": 256, \"out_features\": 256}},\n",
    "]\n",
    "\n",
    "# Parameters relevant to results\n",
    "# These parameters will basically never need to change\n",
    "standalone_parameters[\"NUM_LOGS_PER_EPOCH\"] = 10\n",
    "standalone_parameters[\"BEST_MODEL_PATH\"] = \"./best_model.pth\"\n",
    "\n",
    "\n",
    "\n",
    "\n"
   ]
  },
  {
   "cell_type": "code",
   "execution_count": 4,
   "id": "80c122bb",
   "metadata": {
    "execution": {
     "iopub.execute_input": "2022-03-22T21:37:58.269582Z",
     "iopub.status.busy": "2022-03-22T21:37:58.268579Z",
     "iopub.status.idle": "2022-03-22T21:37:58.288258Z",
     "shell.execute_reply": "2022-03-22T21:37:58.287550Z"
    },
    "papermill": {
     "duration": 0.050755,
     "end_time": "2022-03-22T21:37:58.288425",
     "exception": false,
     "start_time": "2022-03-22T21:37:58.237670",
     "status": "completed"
    },
    "tags": [
     "injected-parameters"
    ]
   },
   "outputs": [],
   "source": [
    "# Parameters\n",
    "parameters = {\n",
    "    \"experiment_name\": \"tl_1v2:wisig-oracle.run1.limited\",\n",
    "    \"device\": \"cuda\",\n",
    "    \"lr\": 0.0001,\n",
    "    \"n_shot\": 3,\n",
    "    \"n_query\": 2,\n",
    "    \"train_k_factor\": 3,\n",
    "    \"val_k_factor\": 2,\n",
    "    \"test_k_factor\": 2,\n",
    "    \"torch_default_dtype\": \"torch.float32\",\n",
    "    \"n_epoch\": 50,\n",
    "    \"patience\": 3,\n",
    "    \"criteria_for_best\": \"target_accuracy\",\n",
    "    \"x_net\": [\n",
    "        {\"class\": \"nnReshape\", \"kargs\": {\"shape\": [-1, 1, 2, 256]}},\n",
    "        {\n",
    "            \"class\": \"Conv2d\",\n",
    "            \"kargs\": {\n",
    "                \"in_channels\": 1,\n",
    "                \"out_channels\": 256,\n",
    "                \"kernel_size\": [1, 7],\n",
    "                \"bias\": False,\n",
    "                \"padding\": [0, 3],\n",
    "            },\n",
    "        },\n",
    "        {\"class\": \"ReLU\", \"kargs\": {\"inplace\": True}},\n",
    "        {\"class\": \"BatchNorm2d\", \"kargs\": {\"num_features\": 256}},\n",
    "        {\n",
    "            \"class\": \"Conv2d\",\n",
    "            \"kargs\": {\n",
    "                \"in_channels\": 256,\n",
    "                \"out_channels\": 80,\n",
    "                \"kernel_size\": [2, 7],\n",
    "                \"bias\": True,\n",
    "                \"padding\": [0, 3],\n",
    "            },\n",
    "        },\n",
    "        {\"class\": \"ReLU\", \"kargs\": {\"inplace\": True}},\n",
    "        {\"class\": \"BatchNorm2d\", \"kargs\": {\"num_features\": 80}},\n",
    "        {\"class\": \"Flatten\", \"kargs\": {}},\n",
    "        {\"class\": \"Linear\", \"kargs\": {\"in_features\": 20480, \"out_features\": 256}},\n",
    "        {\"class\": \"ReLU\", \"kargs\": {\"inplace\": True}},\n",
    "        {\"class\": \"BatchNorm1d\", \"kargs\": {\"num_features\": 256}},\n",
    "        {\"class\": \"Linear\", \"kargs\": {\"in_features\": 256, \"out_features\": 256}},\n",
    "    ],\n",
    "    \"NUM_LOGS_PER_EPOCH\": 10,\n",
    "    \"BEST_MODEL_PATH\": \"./best_model.pth\",\n",
    "    \"n_way\": 16,\n",
    "    \"datasets\": [\n",
    "        {\n",
    "            \"labels\": [\n",
    "                \"1-10\",\n",
    "                \"1-12\",\n",
    "                \"1-14\",\n",
    "                \"1-16\",\n",
    "                \"1-18\",\n",
    "                \"1-19\",\n",
    "                \"1-8\",\n",
    "                \"10-11\",\n",
    "                \"10-17\",\n",
    "                \"10-4\",\n",
    "                \"10-7\",\n",
    "                \"11-1\",\n",
    "                \"11-10\",\n",
    "                \"11-19\",\n",
    "                \"11-20\",\n",
    "                \"11-4\",\n",
    "                \"11-7\",\n",
    "                \"12-19\",\n",
    "                \"12-20\",\n",
    "                \"12-7\",\n",
    "                \"13-14\",\n",
    "                \"13-18\",\n",
    "                \"13-19\",\n",
    "                \"13-20\",\n",
    "                \"13-3\",\n",
    "                \"13-7\",\n",
    "                \"14-10\",\n",
    "                \"14-11\",\n",
    "                \"14-12\",\n",
    "                \"14-13\",\n",
    "                \"14-14\",\n",
    "                \"14-19\",\n",
    "                \"14-20\",\n",
    "                \"14-7\",\n",
    "                \"14-8\",\n",
    "                \"14-9\",\n",
    "                \"15-1\",\n",
    "                \"15-19\",\n",
    "                \"15-6\",\n",
    "                \"16-1\",\n",
    "                \"16-16\",\n",
    "                \"16-19\",\n",
    "                \"16-20\",\n",
    "                \"17-10\",\n",
    "                \"17-11\",\n",
    "                \"18-1\",\n",
    "                \"18-10\",\n",
    "                \"18-11\",\n",
    "                \"18-12\",\n",
    "                \"18-13\",\n",
    "                \"18-14\",\n",
    "                \"18-15\",\n",
    "                \"18-16\",\n",
    "                \"18-17\",\n",
    "                \"18-19\",\n",
    "                \"18-2\",\n",
    "                \"18-20\",\n",
    "                \"18-4\",\n",
    "                \"18-5\",\n",
    "                \"18-7\",\n",
    "                \"18-8\",\n",
    "                \"18-9\",\n",
    "                \"19-1\",\n",
    "                \"19-10\",\n",
    "                \"19-11\",\n",
    "                \"19-12\",\n",
    "                \"19-13\",\n",
    "                \"19-14\",\n",
    "                \"19-15\",\n",
    "                \"19-19\",\n",
    "                \"19-2\",\n",
    "                \"19-20\",\n",
    "                \"19-3\",\n",
    "                \"19-4\",\n",
    "                \"19-6\",\n",
    "                \"19-7\",\n",
    "                \"19-8\",\n",
    "                \"19-9\",\n",
    "                \"2-1\",\n",
    "                \"2-13\",\n",
    "                \"2-15\",\n",
    "                \"2-3\",\n",
    "                \"2-4\",\n",
    "                \"2-5\",\n",
    "                \"2-6\",\n",
    "                \"2-7\",\n",
    "                \"2-8\",\n",
    "                \"20-1\",\n",
    "                \"20-12\",\n",
    "                \"20-14\",\n",
    "                \"20-15\",\n",
    "                \"20-16\",\n",
    "                \"20-18\",\n",
    "                \"20-19\",\n",
    "                \"20-20\",\n",
    "                \"20-3\",\n",
    "                \"20-4\",\n",
    "                \"20-5\",\n",
    "                \"20-7\",\n",
    "                \"20-8\",\n",
    "                \"3-1\",\n",
    "                \"3-13\",\n",
    "                \"3-18\",\n",
    "                \"3-2\",\n",
    "                \"3-8\",\n",
    "                \"4-1\",\n",
    "                \"4-10\",\n",
    "                \"4-11\",\n",
    "                \"5-1\",\n",
    "                \"5-5\",\n",
    "                \"6-1\",\n",
    "                \"6-15\",\n",
    "                \"6-6\",\n",
    "                \"7-10\",\n",
    "                \"7-11\",\n",
    "                \"7-12\",\n",
    "                \"7-13\",\n",
    "                \"7-14\",\n",
    "                \"7-7\",\n",
    "                \"7-8\",\n",
    "                \"7-9\",\n",
    "                \"8-1\",\n",
    "                \"8-13\",\n",
    "                \"8-14\",\n",
    "                \"8-18\",\n",
    "                \"8-20\",\n",
    "                \"8-3\",\n",
    "                \"8-8\",\n",
    "                \"9-1\",\n",
    "                \"9-7\",\n",
    "            ],\n",
    "            \"domains\": [1, 2, 3, 4],\n",
    "            \"num_examples_per_domain_per_label\": -1,\n",
    "            \"pickle_path\": \"/root/csc500-main/datasets/wisig.node3-19.stratified_ds.2022A.pkl\",\n",
    "            \"source_or_target_dataset\": \"target\",\n",
    "            \"x_transforms\": [\"unit_mag\"],\n",
    "            \"episode_transforms\": [],\n",
    "            \"domain_prefix\": \"Wisig_\",\n",
    "        },\n",
    "        {\n",
    "            \"labels\": [\n",
    "                \"3123D52\",\n",
    "                \"3123D65\",\n",
    "                \"3123D79\",\n",
    "                \"3123D80\",\n",
    "                \"3123D54\",\n",
    "                \"3123D70\",\n",
    "                \"3123D7B\",\n",
    "                \"3123D89\",\n",
    "                \"3123D58\",\n",
    "                \"3123D76\",\n",
    "                \"3123D7D\",\n",
    "                \"3123EFE\",\n",
    "                \"3123D64\",\n",
    "                \"3123D78\",\n",
    "                \"3123D7E\",\n",
    "                \"3124E4A\",\n",
    "            ],\n",
    "            \"domains\": [32, 38, 8, 44, 14, 50, 20, 26],\n",
    "            \"num_examples_per_domain_per_label\": 2000,\n",
    "            \"pickle_path\": \"/root/csc500-main/datasets/oracle.Run1_10kExamples_stratified_ds.2022A.pkl\",\n",
    "            \"source_or_target_dataset\": \"source\",\n",
    "            \"x_transforms\": [\"unit_mag\"],\n",
    "            \"episode_transforms\": [],\n",
    "            \"domain_prefix\": \"ORACLE.run1\",\n",
    "        },\n",
    "    ],\n",
    "    \"dataset_seed\": 420,\n",
    "    \"seed\": 420,\n",
    "}\n"
   ]
  },
  {
   "cell_type": "code",
   "execution_count": 5,
   "id": "8fa1cc33",
   "metadata": {
    "execution": {
     "iopub.execute_input": "2022-03-22T21:37:58.342033Z",
     "iopub.status.busy": "2022-03-22T21:37:58.341394Z",
     "iopub.status.idle": "2022-03-22T21:37:58.360159Z",
     "shell.execute_reply": "2022-03-22T21:37:58.359403Z"
    },
    "papermill": {
     "duration": 0.042401,
     "end_time": "2022-03-22T21:37:58.360323",
     "exception": false,
     "start_time": "2022-03-22T21:37:58.317922",
     "status": "completed"
    },
    "tags": []
   },
   "outputs": [],
   "source": [
    "# Set this to True if you want to run this template directly\n",
    "STANDALONE = False\n",
    "if STANDALONE:\n",
    "    print(\"parameters not injected, running with standalone_parameters\")\n",
    "    parameters = standalone_parameters\n",
    "\n",
    "if not 'parameters' in locals() and not 'parameters' in globals():\n",
    "    raise Exception(\"Parameter injection failed\")\n",
    "\n",
    "#Use an easy dict for all the parameters\n",
    "p = EasyDict(parameters)\n",
    "\n",
    "if \"x_shape\" not in p:\n",
    "    p.x_shape = [2,256] # Default to this if we dont supply x_shape\n",
    "\n",
    "\n",
    "supplied_keys = set(p.keys())\n",
    "\n",
    "if  supplied_keys != required_parameters:\n",
    "    print(\"Parameters are incorrect\")\n",
    "    if len(supplied_keys - required_parameters)>0: print(\"Shouldn't have:\", str(supplied_keys - required_parameters))\n",
    "    if len(required_parameters - supplied_keys)>0: print(\"Need to have:\", str(required_parameters - supplied_keys))\n",
    "    raise RuntimeError(\"Parameters are incorrect\")"
   ]
  },
  {
   "cell_type": "code",
   "execution_count": 6,
   "id": "3a028d58",
   "metadata": {
    "execution": {
     "iopub.execute_input": "2022-03-22T21:37:58.409750Z",
     "iopub.status.busy": "2022-03-22T21:37:58.409381Z",
     "iopub.status.idle": "2022-03-22T21:37:58.428106Z",
     "shell.execute_reply": "2022-03-22T21:37:58.427285Z"
    },
    "papermill": {
     "duration": 0.041362,
     "end_time": "2022-03-22T21:37:58.428273",
     "exception": false,
     "start_time": "2022-03-22T21:37:58.386911",
     "status": "completed"
    },
    "tags": []
   },
   "outputs": [],
   "source": [
    "###################################\n",
    "# Set the RNGs and make it all deterministic\n",
    "###################################\n",
    "np.random.seed(p.seed)\n",
    "random.seed(p.seed)\n",
    "torch.manual_seed(p.seed)\n",
    "\n",
    "torch.use_deterministic_algorithms(True) "
   ]
  },
  {
   "cell_type": "code",
   "execution_count": 7,
   "id": "b691acf6",
   "metadata": {
    "execution": {
     "iopub.execute_input": "2022-03-22T21:37:58.478457Z",
     "iopub.status.busy": "2022-03-22T21:37:58.477882Z",
     "iopub.status.idle": "2022-03-22T21:37:58.497623Z",
     "shell.execute_reply": "2022-03-22T21:37:58.497213Z"
    },
    "papermill": {
     "duration": 0.042137,
     "end_time": "2022-03-22T21:37:58.497718",
     "exception": false,
     "start_time": "2022-03-22T21:37:58.455581",
     "status": "completed"
    },
    "tags": []
   },
   "outputs": [],
   "source": [
    "###########################################\n",
    "# The stratified datasets honor this\n",
    "###########################################\n",
    "torch.set_default_dtype(eval(p.torch_default_dtype))"
   ]
  },
  {
   "cell_type": "code",
   "execution_count": 8,
   "id": "b5fba671",
   "metadata": {
    "execution": {
     "iopub.execute_input": "2022-03-22T21:37:58.545156Z",
     "iopub.status.busy": "2022-03-22T21:37:58.544595Z",
     "iopub.status.idle": "2022-03-22T21:37:58.596547Z",
     "shell.execute_reply": "2022-03-22T21:37:58.596115Z"
    },
    "papermill": {
     "duration": 0.076545,
     "end_time": "2022-03-22T21:37:58.596645",
     "exception": false,
     "start_time": "2022-03-22T21:37:58.520100",
     "status": "completed"
    },
    "tags": []
   },
   "outputs": [],
   "source": [
    "###################################\n",
    "# Build the network(s)\n",
    "# Note: It's critical to do this AFTER setting the RNG\n",
    "###################################\n",
    "x_net = build_sequential(p.x_net)"
   ]
  },
  {
   "cell_type": "code",
   "execution_count": 9,
   "id": "5d7e61cc",
   "metadata": {
    "execution": {
     "iopub.execute_input": "2022-03-22T21:37:58.641218Z",
     "iopub.status.busy": "2022-03-22T21:37:58.640662Z",
     "iopub.status.idle": "2022-03-22T21:37:58.661026Z",
     "shell.execute_reply": "2022-03-22T21:37:58.660620Z"
    },
    "papermill": {
     "duration": 0.04358,
     "end_time": "2022-03-22T21:37:58.661114",
     "exception": false,
     "start_time": "2022-03-22T21:37:58.617534",
     "status": "completed"
    },
    "tags": []
   },
   "outputs": [],
   "source": [
    "start_time_secs = time.time()"
   ]
  },
  {
   "cell_type": "code",
   "execution_count": 10,
   "id": "c6b67dfd",
   "metadata": {
    "execution": {
     "iopub.execute_input": "2022-03-22T21:37:58.709412Z",
     "iopub.status.busy": "2022-03-22T21:37:58.708235Z",
     "iopub.status.idle": "2022-03-22T21:37:58.730683Z",
     "shell.execute_reply": "2022-03-22T21:37:58.730276Z"
    },
    "papermill": {
     "duration": 0.04617,
     "end_time": "2022-03-22T21:37:58.730771",
     "exception": false,
     "start_time": "2022-03-22T21:37:58.684601",
     "status": "completed"
    },
    "tags": []
   },
   "outputs": [],
   "source": [
    "p.domains_source = []\n",
    "p.domains_target = []\n",
    "\n",
    "\n",
    "train_original_source = []\n",
    "val_original_source   = []\n",
    "test_original_source  = []\n",
    "\n",
    "train_original_target = []\n",
    "val_original_target   = []\n",
    "test_original_target  = []"
   ]
  },
  {
   "cell_type": "code",
   "execution_count": 11,
   "id": "e3d9c3d3",
   "metadata": {
    "execution": {
     "iopub.execute_input": "2022-03-22T21:37:58.775258Z",
     "iopub.status.busy": "2022-03-22T21:37:58.774701Z",
     "iopub.status.idle": "2022-03-22T21:37:58.794550Z",
     "shell.execute_reply": "2022-03-22T21:37:58.794125Z"
    },
    "papermill": {
     "duration": 0.042835,
     "end_time": "2022-03-22T21:37:58.794658",
     "exception": false,
     "start_time": "2022-03-22T21:37:58.751823",
     "status": "completed"
    },
    "tags": []
   },
   "outputs": [],
   "source": [
    "# global_x_transform_func = lambda x: normalize(x.to(torch.get_default_dtype()), \"unit_power\") # unit_power, unit_mag\n",
    "# global_x_transform_func = lambda x: normalize(x, \"unit_power\") # unit_power, unit_mag"
   ]
  },
  {
   "cell_type": "code",
   "execution_count": 12,
   "id": "acb78fd2",
   "metadata": {
    "execution": {
     "iopub.execute_input": "2022-03-22T21:37:58.846258Z",
     "iopub.status.busy": "2022-03-22T21:37:58.845729Z",
     "iopub.status.idle": "2022-03-22T21:37:58.866822Z",
     "shell.execute_reply": "2022-03-22T21:37:58.866381Z"
    },
    "papermill": {
     "duration": 0.049046,
     "end_time": "2022-03-22T21:37:58.866911",
     "exception": false,
     "start_time": "2022-03-22T21:37:58.817865",
     "status": "completed"
    },
    "tags": []
   },
   "outputs": [],
   "source": [
    "def add_dataset(\n",
    "    labels,\n",
    "    domains,\n",
    "    pickle_path,\n",
    "    x_transforms,\n",
    "    episode_transforms,\n",
    "    domain_prefix,\n",
    "    num_examples_per_domain_per_label,\n",
    "    source_or_target_dataset:str,\n",
    "    iterator_seed=p.seed,\n",
    "    dataset_seed=p.dataset_seed,\n",
    "    n_shot=p.n_shot,\n",
    "    n_way=p.n_way,\n",
    "    n_query=p.n_query,\n",
    "    train_val_test_k_factors=(p.train_k_factor,p.val_k_factor,p.test_k_factor),\n",
    "):\n",
    "   \n",
    "    if x_transforms == []: x_transform = None\n",
    "    else: x_transform = get_chained_transform(x_transforms)\n",
    "    \n",
    "    if episode_transforms == []: episode_transform = None\n",
    "    else: raise Exception(\"episode_transforms not implemented\")\n",
    "    \n",
    "    episode_transform = lambda tup, _prefix=domain_prefix: (_prefix + str(tup[0]), tup[1])\n",
    "\n",
    "\n",
    "    eaf = Episodic_Accessor_Factory(\n",
    "        labels=labels,\n",
    "        domains=domains,\n",
    "        num_examples_per_domain_per_label=num_examples_per_domain_per_label,\n",
    "        iterator_seed=iterator_seed,\n",
    "        dataset_seed=dataset_seed,\n",
    "        n_shot=n_shot,\n",
    "        n_way=n_way,\n",
    "        n_query=n_query,\n",
    "        train_val_test_k_factors=train_val_test_k_factors,\n",
    "        pickle_path=pickle_path,\n",
    "        x_transform_func=x_transform,\n",
    "    )\n",
    "\n",
    "    train, val, test = eaf.get_train(), eaf.get_val(), eaf.get_test()\n",
    "    train = Lazy_Iterable_Wrapper(train, episode_transform)\n",
    "    val = Lazy_Iterable_Wrapper(val, episode_transform)\n",
    "    test = Lazy_Iterable_Wrapper(test, episode_transform)\n",
    "\n",
    "    if source_or_target_dataset==\"source\":\n",
    "        train_original_source.append(train)\n",
    "        val_original_source.append(val)\n",
    "        test_original_source.append(test)\n",
    "\n",
    "        p.domains_source.extend(\n",
    "            [domain_prefix + str(u) for u in domains]\n",
    "        )\n",
    "    elif source_or_target_dataset==\"target\":\n",
    "        train_original_target.append(train)\n",
    "        val_original_target.append(val)\n",
    "        test_original_target.append(test)\n",
    "        p.domains_target.extend(\n",
    "            [domain_prefix + str(u) for u in domains]\n",
    "        )\n",
    "    else:\n",
    "        raise Exception(f\"invalid source_or_target_dataset: {source_or_target_dataset}\")\n",
    "    "
   ]
  },
  {
   "cell_type": "code",
   "execution_count": 13,
   "id": "fe266617",
   "metadata": {
    "execution": {
     "iopub.execute_input": "2022-03-22T21:37:58.919006Z",
     "iopub.status.busy": "2022-03-22T21:37:58.918441Z",
     "iopub.status.idle": "2022-03-22T21:38:45.527688Z",
     "shell.execute_reply": "2022-03-22T21:38:45.526906Z"
    },
    "papermill": {
     "duration": 46.632852,
     "end_time": "2022-03-22T21:38:45.527864",
     "exception": false,
     "start_time": "2022-03-22T21:37:58.895012",
     "status": "completed"
    },
    "tags": []
   },
   "outputs": [],
   "source": [
    "for ds in p.datasets:\n",
    "    add_dataset(**ds)"
   ]
  },
  {
   "cell_type": "code",
   "execution_count": 14,
   "id": "b90d65ac",
   "metadata": {
    "execution": {
     "iopub.execute_input": "2022-03-22T21:38:45.582024Z",
     "iopub.status.busy": "2022-03-22T21:38:45.581188Z",
     "iopub.status.idle": "2022-03-22T21:38:45.603500Z",
     "shell.execute_reply": "2022-03-22T21:38:45.602703Z"
    },
    "papermill": {
     "duration": 0.047059,
     "end_time": "2022-03-22T21:38:45.603687",
     "exception": false,
     "start_time": "2022-03-22T21:38:45.556628",
     "status": "completed"
    },
    "tags": []
   },
   "outputs": [],
   "source": [
    "# from steves_utils.CORES.utils import (\n",
    "#     ALL_NODES,\n",
    "#     ALL_NODES_MINIMUM_1000_EXAMPLES,\n",
    "#     ALL_DAYS\n",
    "# )\n",
    "\n",
    "# add_dataset(\n",
    "#     labels=ALL_NODES,\n",
    "#     domains = ALL_DAYS,\n",
    "#     num_examples_per_domain_per_label=100,\n",
    "#     pickle_path=os.path.join(get_datasets_base_path(), \"cores.stratified_ds.2022A.pkl\"),\n",
    "#     source_or_target_dataset=\"target\",\n",
    "#     x_transform_func=global_x_transform_func,\n",
    "#     domain_modifier=lambda u: f\"cores_{u}\"\n",
    "# )"
   ]
  },
  {
   "cell_type": "code",
   "execution_count": 15,
   "id": "76db484d",
   "metadata": {
    "execution": {
     "iopub.execute_input": "2022-03-22T21:38:45.655834Z",
     "iopub.status.busy": "2022-03-22T21:38:45.655427Z",
     "iopub.status.idle": "2022-03-22T21:38:45.679180Z",
     "shell.execute_reply": "2022-03-22T21:38:45.678383Z"
    },
    "papermill": {
     "duration": 0.047949,
     "end_time": "2022-03-22T21:38:45.679333",
     "exception": false,
     "start_time": "2022-03-22T21:38:45.631384",
     "status": "completed"
    },
    "tags": []
   },
   "outputs": [],
   "source": [
    "# from steves_utils.ORACLE.utils_v2 import (\n",
    "#     ALL_DISTANCES_FEET,\n",
    "#     ALL_RUNS,\n",
    "#     ALL_SERIAL_NUMBERS,\n",
    "# )\n",
    "\n",
    "\n",
    "# add_dataset(\n",
    "#     labels=ALL_SERIAL_NUMBERS,\n",
    "#     domains = list(set(ALL_DISTANCES_FEET) - {2,62}),\n",
    "#     num_examples_per_domain_per_label=100,\n",
    "#     pickle_path=os.path.join(get_datasets_base_path(), \"oracle.Run2_framed_2000Examples_stratified_ds.2022A.pkl\"),\n",
    "#     source_or_target_dataset=\"source\",\n",
    "#     x_transform_func=global_x_transform_func,\n",
    "#     domain_modifier=lambda u: f\"oracle1_{u}\"\n",
    "# )\n"
   ]
  },
  {
   "cell_type": "code",
   "execution_count": 16,
   "id": "97dea9d2",
   "metadata": {
    "execution": {
     "iopub.execute_input": "2022-03-22T21:38:45.730806Z",
     "iopub.status.busy": "2022-03-22T21:38:45.730434Z",
     "iopub.status.idle": "2022-03-22T21:38:45.752673Z",
     "shell.execute_reply": "2022-03-22T21:38:45.751873Z"
    },
    "papermill": {
     "duration": 0.045974,
     "end_time": "2022-03-22T21:38:45.752827",
     "exception": false,
     "start_time": "2022-03-22T21:38:45.706853",
     "status": "completed"
    },
    "tags": []
   },
   "outputs": [],
   "source": [
    "# from steves_utils.ORACLE.utils_v2 import (\n",
    "#     ALL_DISTANCES_FEET,\n",
    "#     ALL_RUNS,\n",
    "#     ALL_SERIAL_NUMBERS,\n",
    "# )\n",
    "\n",
    "\n",
    "# add_dataset(\n",
    "#     labels=ALL_SERIAL_NUMBERS,\n",
    "#     domains = list(set(ALL_DISTANCES_FEET) - {2,62,56}),\n",
    "#     num_examples_per_domain_per_label=100,\n",
    "#     pickle_path=os.path.join(get_datasets_base_path(), \"oracle.Run2_framed_2000Examples_stratified_ds.2022A.pkl\"),\n",
    "#     source_or_target_dataset=\"source\",\n",
    "#     x_transform_func=global_x_transform_func,\n",
    "#     domain_modifier=lambda u: f\"oracle2_{u}\"\n",
    "# )"
   ]
  },
  {
   "cell_type": "code",
   "execution_count": 17,
   "id": "6f289866",
   "metadata": {
    "execution": {
     "iopub.execute_input": "2022-03-22T21:38:45.805750Z",
     "iopub.status.busy": "2022-03-22T21:38:45.805194Z",
     "iopub.status.idle": "2022-03-22T21:38:45.829598Z",
     "shell.execute_reply": "2022-03-22T21:38:45.828800Z"
    },
    "papermill": {
     "duration": 0.048312,
     "end_time": "2022-03-22T21:38:45.829752",
     "exception": false,
     "start_time": "2022-03-22T21:38:45.781440",
     "status": "completed"
    },
    "tags": []
   },
   "outputs": [],
   "source": [
    "# add_dataset(\n",
    "#     labels=list(range(19)),\n",
    "#     domains = [0,1,2],\n",
    "#     num_examples_per_domain_per_label=100,\n",
    "#     pickle_path=os.path.join(get_datasets_base_path(), \"metehan.stratified_ds.2022A.pkl\"),\n",
    "#     source_or_target_dataset=\"target\",\n",
    "#     x_transform_func=global_x_transform_func,\n",
    "#     domain_modifier=lambda u: f\"met_{u}\"\n",
    "# )"
   ]
  },
  {
   "cell_type": "code",
   "execution_count": 18,
   "id": "86a863c3",
   "metadata": {
    "execution": {
     "iopub.execute_input": "2022-03-22T21:38:45.880445Z",
     "iopub.status.busy": "2022-03-22T21:38:45.880071Z",
     "iopub.status.idle": "2022-03-22T21:38:45.903876Z",
     "shell.execute_reply": "2022-03-22T21:38:45.903065Z"
    },
    "papermill": {
     "duration": 0.047784,
     "end_time": "2022-03-22T21:38:45.904031",
     "exception": false,
     "start_time": "2022-03-22T21:38:45.856247",
     "status": "completed"
    },
    "tags": []
   },
   "outputs": [],
   "source": [
    "# # from steves_utils.wisig.utils import (\n",
    "# #     ALL_NODES_MINIMUM_100_EXAMPLES,\n",
    "# #     ALL_NODES_MINIMUM_500_EXAMPLES,\n",
    "# #     ALL_NODES_MINIMUM_1000_EXAMPLES,\n",
    "# #     ALL_DAYS\n",
    "# # )\n",
    "\n",
    "# import steves_utils.wisig.utils as wisig\n",
    "\n",
    "\n",
    "# add_dataset(\n",
    "#     labels=wisig.ALL_NODES_MINIMUM_100_EXAMPLES,\n",
    "#     domains = wisig.ALL_DAYS,\n",
    "#     num_examples_per_domain_per_label=100,\n",
    "#     pickle_path=os.path.join(get_datasets_base_path(), \"wisig.node3-19.stratified_ds.2022A.pkl\"),\n",
    "#     source_or_target_dataset=\"target\",\n",
    "#     x_transform_func=global_x_transform_func,\n",
    "#     domain_modifier=lambda u: f\"wisig_{u}\"\n",
    "# )"
   ]
  },
  {
   "cell_type": "code",
   "execution_count": 19,
   "id": "fd5442bc",
   "metadata": {
    "execution": {
     "iopub.execute_input": "2022-03-22T21:38:45.962813Z",
     "iopub.status.busy": "2022-03-22T21:38:45.962435Z",
     "iopub.status.idle": "2022-03-22T21:38:45.992654Z",
     "shell.execute_reply": "2022-03-22T21:38:45.991948Z"
    },
    "papermill": {
     "duration": 0.059516,
     "end_time": "2022-03-22T21:38:45.992810",
     "exception": false,
     "start_time": "2022-03-22T21:38:45.933294",
     "status": "completed"
    },
    "tags": []
   },
   "outputs": [],
   "source": [
    "###################################\n",
    "# Build the dataset\n",
    "###################################\n",
    "train_original_source = Iterable_Aggregator(train_original_source, p.seed)\n",
    "val_original_source = Iterable_Aggregator(val_original_source, p.seed)\n",
    "test_original_source = Iterable_Aggregator(test_original_source, p.seed)\n",
    "\n",
    "\n",
    "train_original_target = Iterable_Aggregator(train_original_target, p.seed)\n",
    "val_original_target = Iterable_Aggregator(val_original_target, p.seed)\n",
    "test_original_target = Iterable_Aggregator(test_original_target, p.seed)\n",
    "\n",
    "# For CNN We only use X and Y. And we only train on the source.\n",
    "# Properly form the data using a transform lambda and Lazy_Iterable_Wrapper. Finally wrap them in a dataloader\n",
    "\n",
    "transform_lambda = lambda ex: ex[1] # Original is (<domain>, <episode>) so we strip down to episode only\n",
    "\n",
    "train_processed_source = Lazy_Iterable_Wrapper(train_original_source, transform_lambda)\n",
    "val_processed_source   = Lazy_Iterable_Wrapper(val_original_source, transform_lambda)\n",
    "test_processed_source  = Lazy_Iterable_Wrapper(test_original_source, transform_lambda)\n",
    "\n",
    "train_processed_target = Lazy_Iterable_Wrapper(train_original_target, transform_lambda)\n",
    "val_processed_target   = Lazy_Iterable_Wrapper(val_original_target, transform_lambda)\n",
    "test_processed_target  = Lazy_Iterable_Wrapper(test_original_target, transform_lambda)\n",
    "\n",
    "datasets = EasyDict({\n",
    "    \"source\": {\n",
    "        \"original\": {\"train\":train_original_source, \"val\":val_original_source, \"test\":test_original_source},\n",
    "        \"processed\": {\"train\":train_processed_source, \"val\":val_processed_source, \"test\":test_processed_source}\n",
    "    },\n",
    "    \"target\": {\n",
    "        \"original\": {\"train\":train_original_target, \"val\":val_original_target, \"test\":test_original_target},\n",
    "        \"processed\": {\"train\":train_processed_target, \"val\":val_processed_target, \"test\":test_processed_target}\n",
    "    },\n",
    "})"
   ]
  },
  {
   "cell_type": "code",
   "execution_count": 20,
   "id": "5b3c01fc",
   "metadata": {
    "execution": {
     "iopub.execute_input": "2022-03-22T21:38:46.043780Z",
     "iopub.status.busy": "2022-03-22T21:38:46.043211Z",
     "iopub.status.idle": "2022-03-22T21:39:00.837921Z",
     "shell.execute_reply": "2022-03-22T21:39:00.838429Z"
    },
    "papermill": {
     "duration": 14.821091,
     "end_time": "2022-03-22T21:39:00.838622",
     "exception": false,
     "start_time": "2022-03-22T21:38:46.017531",
     "status": "completed"
    },
    "tags": []
   },
   "outputs": [
    {
     "name": "stdout",
     "output_type": "stream",
     "text": [
      "{'ORACLE.run150', 'ORACLE.run144', 'ORACLE.run114', 'ORACLE.run126', 'ORACLE.run18', 'ORACLE.run132', 'ORACLE.run138', 'ORACLE.run120'}\n"
     ]
    },
    {
     "name": "stdout",
     "output_type": "stream",
     "text": [
      "{'Wisig_2', 'Wisig_4', 'Wisig_3', 'Wisig_1'}\n"
     ]
    },
    {
     "name": "stdout",
     "output_type": "stream",
     "text": [
      "tensor([[[-0.2221,  0.2554,  0.3664,  ..., -0.6884,  1.0770,  1.2103],\n",
      "         [-1.0659, -0.3109,  0.4886,  ..., -1.1659, -1.5434, -0.2332]],\n",
      "\n",
      "        [[-0.3575,  0.2418, -0.8411,  ..., -0.4206, -1.2302,  0.0841],\n",
      "         [ 0.2103, -0.5257,  0.2944,  ...,  1.1671, -0.6098, -0.5467]],\n",
      "\n",
      "        [[-1.0630, -0.8650,  0.3022,  ..., -1.0213,  0.3960,  0.0938],\n",
      "         [ 0.8025, -0.5211, -1.2402,  ...,  0.1459, -1.1360,  0.8963]],\n",
      "\n",
      "        ...,\n",
      "\n",
      "        [[-0.7518,  0.4418,  0.2713,  ..., -0.5503,  0.6976, -0.8991],\n",
      "         [-0.8603,  0.5193,  1.1781,  ...,  0.8836,  1.3564,  0.0078]],\n",
      "\n",
      "        [[-1.2636,  0.3425, -0.1446,  ..., -1.6670,  0.7383,  1.2940],\n",
      "         [ 0.9286,  0.5785,  0.1979,  ..., -1.7659, -1.1266, -0.5709]],\n",
      "\n",
      "        [[-1.6067, -0.6503, -0.2372,  ...,  0.3366,  0.9334,  1.2854],\n",
      "         [-0.7881,  0.6121,  0.0995,  ..., -0.6733,  0.0995, -0.0153]]])\n"
     ]
    }
   ],
   "source": [
    "from steves_utils.transforms import get_average_magnitude, get_average_power\n",
    "\n",
    "print(set([u for u,_ in val_original_source]))\n",
    "print(set([u for u,_ in val_original_target]))\n",
    "\n",
    "s_x, s_y, q_x, q_y, _ = next(iter(train_processed_source))\n",
    "print(s_x)\n",
    "\n",
    "# for ds in [\n",
    "#     train_processed_source,\n",
    "#     val_processed_source,\n",
    "#     test_processed_source,\n",
    "#     train_processed_target,\n",
    "#     val_processed_target,\n",
    "#     test_processed_target\n",
    "# ]:\n",
    "#     for s_x, s_y, q_x, q_y, _ in ds:\n",
    "#         for X in (s_x, q_x):\n",
    "#             for x in X:\n",
    "#                 assert np.isclose(get_average_magnitude(x.numpy()), 1.0)\n",
    "#                 assert np.isclose(get_average_power(x.numpy()), 1.0)\n",
    "                "
   ]
  },
  {
   "cell_type": "code",
   "execution_count": 21,
   "id": "bbdacba1",
   "metadata": {
    "execution": {
     "iopub.execute_input": "2022-03-22T21:39:00.901362Z",
     "iopub.status.busy": "2022-03-22T21:39:00.900910Z",
     "iopub.status.idle": "2022-03-22T21:39:01.161873Z",
     "shell.execute_reply": "2022-03-22T21:39:01.161110Z"
    },
    "papermill": {
     "duration": 0.293561,
     "end_time": "2022-03-22T21:39:01.162080",
     "exception": false,
     "start_time": "2022-03-22T21:39:00.868519",
     "status": "completed"
    },
    "tags": []
   },
   "outputs": [
    {
     "name": "stdout",
     "output_type": "stream",
     "text": [
      "(2, 256)\n"
     ]
    }
   ],
   "source": [
    "###################################\n",
    "# Build the model\n",
    "###################################\n",
    "# easfsl only wants a tuple for the shape\n",
    "model = Steves_Prototypical_Network(x_net, device=p.device, x_shape=tuple(p.x_shape))\n",
    "optimizer = Adam(params=model.parameters(), lr=p.lr)"
   ]
  },
  {
   "cell_type": "code",
   "execution_count": 22,
   "id": "22b39ac5",
   "metadata": {
    "execution": {
     "iopub.execute_input": "2022-03-22T21:39:01.225744Z",
     "iopub.status.busy": "2022-03-22T21:39:01.225205Z",
     "iopub.status.idle": "2022-03-22T22:06:06.225925Z",
     "shell.execute_reply": "2022-03-22T22:06:06.225587Z"
    },
    "papermill": {
     "duration": 1625.033999,
     "end_time": "2022-03-22T22:06:06.226009",
     "exception": false,
     "start_time": "2022-03-22T21:39:01.192010",
     "status": "completed"
    },
    "tags": []
   },
   "outputs": [
    {
     "name": "stdout",
     "output_type": "stream",
     "text": [
      "epoch: 1, [batch: 1 / 6720], examples_per_second: 33.3705, train_label_loss: 2.7851, \n"
     ]
    },
    {
     "name": "stdout",
     "output_type": "stream",
     "text": [
      "epoch: 1, [batch: 672 / 6720], examples_per_second: 4692.5932, train_label_loss: 2.7963, \n"
     ]
    },
    {
     "name": "stdout",
     "output_type": "stream",
     "text": [
      "epoch: 1, [batch: 1344 / 6720], examples_per_second: 3817.9669, train_label_loss: 1.4883, \n"
     ]
    },
    {
     "name": "stdout",
     "output_type": "stream",
     "text": [
      "epoch: 1, [batch: 2016 / 6720], examples_per_second: 3823.7663, train_label_loss: 2.1525, \n"
     ]
    },
    {
     "name": "stdout",
     "output_type": "stream",
     "text": [
      "epoch: 1, [batch: 2688 / 6720], examples_per_second: 3865.3522, train_label_loss: 1.4321, \n"
     ]
    },
    {
     "name": "stdout",
     "output_type": "stream",
     "text": [
      "epoch: 1, [batch: 3360 / 6720], examples_per_second: 3911.1264, train_label_loss: 1.4483, \n"
     ]
    },
    {
     "name": "stdout",
     "output_type": "stream",
     "text": [
      "epoch: 1, [batch: 4032 / 6720], examples_per_second: 3944.5414, train_label_loss: 1.8631, \n"
     ]
    },
    {
     "name": "stdout",
     "output_type": "stream",
     "text": [
      "epoch: 1, [batch: 4704 / 6720], examples_per_second: 3875.5006, train_label_loss: 0.9817, \n"
     ]
    },
    {
     "name": "stdout",
     "output_type": "stream",
     "text": [
      "epoch: 1, [batch: 5376 / 6720], examples_per_second: 3858.7777, train_label_loss: 1.5694, \n"
     ]
    },
    {
     "name": "stdout",
     "output_type": "stream",
     "text": [
      "epoch: 1, [batch: 6048 / 6720], examples_per_second: 3898.7901, train_label_loss: 1.0016, \n"
     ]
    },
    {
     "name": "stdout",
     "output_type": "stream",
     "text": [
      "=============================================================\n",
      "epoch: 1, source_val_acc_label: 0.5443, target_val_acc_label: 0.6205, source_val_label_loss: 1.2051, target_val_label_loss: 5.6640, \n",
      "=============================================================\n"
     ]
    },
    {
     "name": "stdout",
     "output_type": "stream",
     "text": [
      "New best\n"
     ]
    },
    {
     "name": "stdout",
     "output_type": "stream",
     "text": [
      "epoch: 2, [batch: 1 / 6720], examples_per_second: 4.1643, train_label_loss: 1.6239, \n"
     ]
    },
    {
     "name": "stdout",
     "output_type": "stream",
     "text": [
      "epoch: 2, [batch: 672 / 6720], examples_per_second: 4224.9716, train_label_loss: 1.4458, \n"
     ]
    },
    {
     "name": "stdout",
     "output_type": "stream",
     "text": [
      "epoch: 2, [batch: 1344 / 6720], examples_per_second: 4278.2015, train_label_loss: 1.0636, \n"
     ]
    },
    {
     "name": "stdout",
     "output_type": "stream",
     "text": [
      "epoch: 2, [batch: 2016 / 6720], examples_per_second: 4517.2055, train_label_loss: 1.0628, \n"
     ]
    },
    {
     "name": "stdout",
     "output_type": "stream",
     "text": [
      "epoch: 2, [batch: 2688 / 6720], examples_per_second: 4290.0846, train_label_loss: 1.1556, \n"
     ]
    },
    {
     "name": "stdout",
     "output_type": "stream",
     "text": [
      "epoch: 2, [batch: 3360 / 6720], examples_per_second: 4225.5093, train_label_loss: 0.7958, \n"
     ]
    },
    {
     "name": "stdout",
     "output_type": "stream",
     "text": [
      "epoch: 2, [batch: 4032 / 6720], examples_per_second: 4266.0622, train_label_loss: 0.7853, \n"
     ]
    },
    {
     "name": "stdout",
     "output_type": "stream",
     "text": [
      "epoch: 2, [batch: 4704 / 6720], examples_per_second: 4222.2039, train_label_loss: 0.8571, \n"
     ]
    },
    {
     "name": "stdout",
     "output_type": "stream",
     "text": [
      "epoch: 2, [batch: 5376 / 6720], examples_per_second: 4404.2084, train_label_loss: 0.8525, \n"
     ]
    },
    {
     "name": "stdout",
     "output_type": "stream",
     "text": [
      "epoch: 2, [batch: 6048 / 6720], examples_per_second: 4216.5117, train_label_loss: 0.9252, \n"
     ]
    },
    {
     "name": "stdout",
     "output_type": "stream",
     "text": [
      "=============================================================\n",
      "epoch: 2, source_val_acc_label: 0.5958, target_val_acc_label: 0.6556, source_val_label_loss: 1.0627, target_val_label_loss: 6.7270, \n",
      "=============================================================\n"
     ]
    },
    {
     "name": "stdout",
     "output_type": "stream",
     "text": [
      "New best\n"
     ]
    },
    {
     "name": "stdout",
     "output_type": "stream",
     "text": [
      "epoch: 3, [batch: 1 / 6720], examples_per_second: 4.2055, train_label_loss: 0.6843, \n"
     ]
    },
    {
     "name": "stdout",
     "output_type": "stream",
     "text": [
      "epoch: 3, [batch: 672 / 6720], examples_per_second: 4483.7676, train_label_loss: 0.7401, \n"
     ]
    },
    {
     "name": "stdout",
     "output_type": "stream",
     "text": [
      "epoch: 3, [batch: 1344 / 6720], examples_per_second: 4332.7071, train_label_loss: 1.4492, \n"
     ]
    },
    {
     "name": "stdout",
     "output_type": "stream",
     "text": [
      "epoch: 3, [batch: 2016 / 6720], examples_per_second: 4386.5069, train_label_loss: 1.0217, \n"
     ]
    },
    {
     "name": "stdout",
     "output_type": "stream",
     "text": [
      "epoch: 3, [batch: 2688 / 6720], examples_per_second: 4265.4191, train_label_loss: 0.9756, \n"
     ]
    },
    {
     "name": "stdout",
     "output_type": "stream",
     "text": [
      "epoch: 3, [batch: 3360 / 6720], examples_per_second: 4356.6383, train_label_loss: 0.6644, \n"
     ]
    },
    {
     "name": "stdout",
     "output_type": "stream",
     "text": [
      "epoch: 3, [batch: 4032 / 6720], examples_per_second: 4225.3550, train_label_loss: 0.4599, \n"
     ]
    },
    {
     "name": "stdout",
     "output_type": "stream",
     "text": [
      "epoch: 3, [batch: 4704 / 6720], examples_per_second: 4296.9193, train_label_loss: 0.8168, \n"
     ]
    },
    {
     "name": "stdout",
     "output_type": "stream",
     "text": [
      "epoch: 3, [batch: 5376 / 6720], examples_per_second: 4223.0382, train_label_loss: 0.6806, \n"
     ]
    },
    {
     "name": "stdout",
     "output_type": "stream",
     "text": [
      "epoch: 3, [batch: 6048 / 6720], examples_per_second: 4138.1731, train_label_loss: 0.5863, \n"
     ]
    },
    {
     "name": "stdout",
     "output_type": "stream",
     "text": [
      "=============================================================\n",
      "epoch: 3, source_val_acc_label: 0.6028, target_val_acc_label: 0.6748, source_val_label_loss: 1.0558, target_val_label_loss: 7.2739, \n",
      "=============================================================\n"
     ]
    },
    {
     "name": "stdout",
     "output_type": "stream",
     "text": [
      "New best\n"
     ]
    },
    {
     "name": "stdout",
     "output_type": "stream",
     "text": [
      "epoch: 4, [batch: 1 / 6720], examples_per_second: 5.0868, train_label_loss: 0.9633, \n"
     ]
    },
    {
     "name": "stdout",
     "output_type": "stream",
     "text": [
      "epoch: 4, [batch: 672 / 6720], examples_per_second: 4900.8606, train_label_loss: 1.1631, \n"
     ]
    },
    {
     "name": "stdout",
     "output_type": "stream",
     "text": [
      "epoch: 4, [batch: 1344 / 6720], examples_per_second: 5014.2208, train_label_loss: 0.6885, \n"
     ]
    },
    {
     "name": "stdout",
     "output_type": "stream",
     "text": [
      "epoch: 4, [batch: 2016 / 6720], examples_per_second: 5042.6403, train_label_loss: 0.4220, \n"
     ]
    },
    {
     "name": "stdout",
     "output_type": "stream",
     "text": [
      "epoch: 4, [batch: 2688 / 6720], examples_per_second: 4886.0665, train_label_loss: 1.1003, \n"
     ]
    },
    {
     "name": "stdout",
     "output_type": "stream",
     "text": [
      "epoch: 4, [batch: 3360 / 6720], examples_per_second: 5238.4917, train_label_loss: 1.2995, \n"
     ]
    },
    {
     "name": "stdout",
     "output_type": "stream",
     "text": [
      "epoch: 4, [batch: 4032 / 6720], examples_per_second: 5447.0998, train_label_loss: 0.4534, \n"
     ]
    },
    {
     "name": "stdout",
     "output_type": "stream",
     "text": [
      "epoch: 4, [batch: 4704 / 6720], examples_per_second: 5093.3599, train_label_loss: 0.6997, \n"
     ]
    },
    {
     "name": "stdout",
     "output_type": "stream",
     "text": [
      "epoch: 4, [batch: 5376 / 6720], examples_per_second: 5262.5457, train_label_loss: 0.5779, \n"
     ]
    },
    {
     "name": "stdout",
     "output_type": "stream",
     "text": [
      "epoch: 4, [batch: 6048 / 6720], examples_per_second: 5077.7657, train_label_loss: 0.8296, \n"
     ]
    },
    {
     "name": "stdout",
     "output_type": "stream",
     "text": [
      "=============================================================\n",
      "epoch: 4, source_val_acc_label: 0.6078, target_val_acc_label: 0.6892, source_val_label_loss: 1.0745, target_val_label_loss: 8.5449, \n",
      "=============================================================\n"
     ]
    },
    {
     "name": "stdout",
     "output_type": "stream",
     "text": [
      "New best\n"
     ]
    },
    {
     "name": "stdout",
     "output_type": "stream",
     "text": [
      "epoch: 5, [batch: 1 / 6720], examples_per_second: 5.0954, train_label_loss: 0.5991, \n"
     ]
    },
    {
     "name": "stdout",
     "output_type": "stream",
     "text": [
      "epoch: 5, [batch: 672 / 6720], examples_per_second: 5196.6897, train_label_loss: 0.8268, \n"
     ]
    },
    {
     "name": "stdout",
     "output_type": "stream",
     "text": [
      "epoch: 5, [batch: 1344 / 6720], examples_per_second: 4941.1622, train_label_loss: 0.5961, \n"
     ]
    },
    {
     "name": "stdout",
     "output_type": "stream",
     "text": [
      "epoch: 5, [batch: 2016 / 6720], examples_per_second: 4840.0379, train_label_loss: 0.4162, \n"
     ]
    },
    {
     "name": "stdout",
     "output_type": "stream",
     "text": [
      "epoch: 5, [batch: 2688 / 6720], examples_per_second: 5143.9081, train_label_loss: 0.8033, \n"
     ]
    },
    {
     "name": "stdout",
     "output_type": "stream",
     "text": [
      "epoch: 5, [batch: 3360 / 6720], examples_per_second: 5103.1483, train_label_loss: 0.6932, \n"
     ]
    },
    {
     "name": "stdout",
     "output_type": "stream",
     "text": [
      "epoch: 5, [batch: 4032 / 6720], examples_per_second: 4971.2858, train_label_loss: 0.4784, \n"
     ]
    },
    {
     "name": "stdout",
     "output_type": "stream",
     "text": [
      "epoch: 5, [batch: 4704 / 6720], examples_per_second: 5128.6426, train_label_loss: 0.9740, \n"
     ]
    },
    {
     "name": "stdout",
     "output_type": "stream",
     "text": [
      "epoch: 5, [batch: 5376 / 6720], examples_per_second: 5206.2066, train_label_loss: 0.9239, \n"
     ]
    },
    {
     "name": "stdout",
     "output_type": "stream",
     "text": [
      "epoch: 5, [batch: 6048 / 6720], examples_per_second: 4945.7062, train_label_loss: 0.5931, \n"
     ]
    },
    {
     "name": "stdout",
     "output_type": "stream",
     "text": [
      "=============================================================\n",
      "epoch: 5, source_val_acc_label: 0.6043, target_val_acc_label: 0.6834, source_val_label_loss: 1.1111, target_val_label_loss: 9.5093, \n",
      "=============================================================\n"
     ]
    },
    {
     "name": "stdout",
     "output_type": "stream",
     "text": [
      "epoch: 6, [batch: 1 / 6720], examples_per_second: 5.1078, train_label_loss: 0.5254, \n"
     ]
    },
    {
     "name": "stdout",
     "output_type": "stream",
     "text": [
      "epoch: 6, [batch: 672 / 6720], examples_per_second: 5127.2595, train_label_loss: 0.4763, \n"
     ]
    },
    {
     "name": "stdout",
     "output_type": "stream",
     "text": [
      "epoch: 6, [batch: 1344 / 6720], examples_per_second: 5351.4304, train_label_loss: 0.6610, \n"
     ]
    },
    {
     "name": "stdout",
     "output_type": "stream",
     "text": [
      "epoch: 6, [batch: 2016 / 6720], examples_per_second: 5368.5337, train_label_loss: 1.0831, \n"
     ]
    },
    {
     "name": "stdout",
     "output_type": "stream",
     "text": [
      "epoch: 6, [batch: 2688 / 6720], examples_per_second: 5292.7553, train_label_loss: 0.4041, \n"
     ]
    },
    {
     "name": "stdout",
     "output_type": "stream",
     "text": [
      "epoch: 6, [batch: 3360 / 6720], examples_per_second: 5245.7011, train_label_loss: 0.4949, \n"
     ]
    },
    {
     "name": "stdout",
     "output_type": "stream",
     "text": [
      "epoch: 6, [batch: 4032 / 6720], examples_per_second: 5240.6010, train_label_loss: 0.3396, \n"
     ]
    },
    {
     "name": "stdout",
     "output_type": "stream",
     "text": [
      "epoch: 6, [batch: 4704 / 6720], examples_per_second: 5338.9655, train_label_loss: 0.1746, \n"
     ]
    },
    {
     "name": "stdout",
     "output_type": "stream",
     "text": [
      "epoch: 6, [batch: 5376 / 6720], examples_per_second: 5412.9299, train_label_loss: 1.0106, \n"
     ]
    },
    {
     "name": "stdout",
     "output_type": "stream",
     "text": [
      "epoch: 6, [batch: 6048 / 6720], examples_per_second: 5427.0221, train_label_loss: 0.1161, \n"
     ]
    },
    {
     "name": "stdout",
     "output_type": "stream",
     "text": [
      "=============================================================\n",
      "epoch: 6, source_val_acc_label: 0.6116, target_val_acc_label: 0.6942, source_val_label_loss: 1.1675, target_val_label_loss: 10.6745, \n",
      "=============================================================\n"
     ]
    },
    {
     "name": "stdout",
     "output_type": "stream",
     "text": [
      "New best\n"
     ]
    },
    {
     "name": "stdout",
     "output_type": "stream",
     "text": [
      "epoch: 7, [batch: 1 / 6720], examples_per_second: 5.2280, train_label_loss: 0.8891, \n"
     ]
    },
    {
     "name": "stdout",
     "output_type": "stream",
     "text": [
      "epoch: 7, [batch: 672 / 6720], examples_per_second: 5053.4936, train_label_loss: 0.8452, \n"
     ]
    },
    {
     "name": "stdout",
     "output_type": "stream",
     "text": [
      "epoch: 7, [batch: 1344 / 6720], examples_per_second: 5118.8484, train_label_loss: 0.4392, \n"
     ]
    },
    {
     "name": "stdout",
     "output_type": "stream",
     "text": [
      "epoch: 7, [batch: 2016 / 6720], examples_per_second: 5106.3046, train_label_loss: 0.3472, \n"
     ]
    },
    {
     "name": "stdout",
     "output_type": "stream",
     "text": [
      "epoch: 7, [batch: 2688 / 6720], examples_per_second: 4990.1992, train_label_loss: 0.4690, \n"
     ]
    },
    {
     "name": "stdout",
     "output_type": "stream",
     "text": [
      "epoch: 7, [batch: 3360 / 6720], examples_per_second: 5068.9178, train_label_loss: 0.2666, \n"
     ]
    },
    {
     "name": "stdout",
     "output_type": "stream",
     "text": [
      "epoch: 7, [batch: 4032 / 6720], examples_per_second: 3920.7027, train_label_loss: 0.3749, \n"
     ]
    },
    {
     "name": "stdout",
     "output_type": "stream",
     "text": [
      "epoch: 7, [batch: 4704 / 6720], examples_per_second: 3975.6008, train_label_loss: 0.4740, \n"
     ]
    },
    {
     "name": "stdout",
     "output_type": "stream",
     "text": [
      "epoch: 7, [batch: 5376 / 6720], examples_per_second: 4020.1815, train_label_loss: 0.8245, \n"
     ]
    },
    {
     "name": "stdout",
     "output_type": "stream",
     "text": [
      "epoch: 7, [batch: 6048 / 6720], examples_per_second: 3936.4462, train_label_loss: 0.2643, \n"
     ]
    },
    {
     "name": "stdout",
     "output_type": "stream",
     "text": [
      "=============================================================\n",
      "epoch: 7, source_val_acc_label: 0.6137, target_val_acc_label: 0.6970, source_val_label_loss: 1.2475, target_val_label_loss: 12.0938, \n",
      "=============================================================\n"
     ]
    },
    {
     "name": "stdout",
     "output_type": "stream",
     "text": [
      "New best\n"
     ]
    },
    {
     "name": "stdout",
     "output_type": "stream",
     "text": [
      "epoch: 8, [batch: 1 / 6720], examples_per_second: 3.9047, train_label_loss: 0.3922, \n"
     ]
    },
    {
     "name": "stdout",
     "output_type": "stream",
     "text": [
      "epoch: 8, [batch: 672 / 6720], examples_per_second: 3912.6042, train_label_loss: 0.4503, \n"
     ]
    },
    {
     "name": "stdout",
     "output_type": "stream",
     "text": [
      "epoch: 8, [batch: 1344 / 6720], examples_per_second: 3890.9784, train_label_loss: 0.2230, \n"
     ]
    },
    {
     "name": "stdout",
     "output_type": "stream",
     "text": [
      "epoch: 8, [batch: 2016 / 6720], examples_per_second: 3968.5762, train_label_loss: 0.2291, \n"
     ]
    },
    {
     "name": "stdout",
     "output_type": "stream",
     "text": [
      "epoch: 8, [batch: 2688 / 6720], examples_per_second: 4047.7676, train_label_loss: 0.2851, \n"
     ]
    },
    {
     "name": "stdout",
     "output_type": "stream",
     "text": [
      "epoch: 8, [batch: 3360 / 6720], examples_per_second: 3970.4162, train_label_loss: 0.5174, \n"
     ]
    },
    {
     "name": "stdout",
     "output_type": "stream",
     "text": [
      "epoch: 8, [batch: 4032 / 6720], examples_per_second: 3781.3752, train_label_loss: 0.7093, \n"
     ]
    },
    {
     "name": "stdout",
     "output_type": "stream",
     "text": [
      "epoch: 8, [batch: 4704 / 6720], examples_per_second: 3848.0809, train_label_loss: 0.1485, \n"
     ]
    },
    {
     "name": "stdout",
     "output_type": "stream",
     "text": [
      "epoch: 8, [batch: 5376 / 6720], examples_per_second: 3916.8961, train_label_loss: 0.4667, \n"
     ]
    },
    {
     "name": "stdout",
     "output_type": "stream",
     "text": [
      "epoch: 8, [batch: 6048 / 6720], examples_per_second: 4020.4605, train_label_loss: 0.6848, \n"
     ]
    },
    {
     "name": "stdout",
     "output_type": "stream",
     "text": [
      "=============================================================\n",
      "epoch: 8, source_val_acc_label: 0.6070, target_val_acc_label: 0.6852, source_val_label_loss: 1.3113, target_val_label_loss: 13.2295, \n",
      "=============================================================\n"
     ]
    },
    {
     "name": "stdout",
     "output_type": "stream",
     "text": [
      "epoch: 9, [batch: 1 / 6720], examples_per_second: 3.9698, train_label_loss: 0.4193, \n"
     ]
    },
    {
     "name": "stdout",
     "output_type": "stream",
     "text": [
      "epoch: 9, [batch: 672 / 6720], examples_per_second: 3910.3167, train_label_loss: 0.7148, \n"
     ]
    },
    {
     "name": "stdout",
     "output_type": "stream",
     "text": [
      "epoch: 9, [batch: 1344 / 6720], examples_per_second: 3994.5473, train_label_loss: 0.1613, \n"
     ]
    },
    {
     "name": "stdout",
     "output_type": "stream",
     "text": [
      "epoch: 9, [batch: 2016 / 6720], examples_per_second: 3970.4829, train_label_loss: 0.3017, \n"
     ]
    },
    {
     "name": "stdout",
     "output_type": "stream",
     "text": [
      "epoch: 9, [batch: 2688 / 6720], examples_per_second: 3937.7378, train_label_loss: 0.1788, \n"
     ]
    },
    {
     "name": "stdout",
     "output_type": "stream",
     "text": [
      "epoch: 9, [batch: 3360 / 6720], examples_per_second: 3988.3234, train_label_loss: 0.9411, \n"
     ]
    },
    {
     "name": "stdout",
     "output_type": "stream",
     "text": [
      "epoch: 9, [batch: 4032 / 6720], examples_per_second: 3934.1788, train_label_loss: 0.0988, \n"
     ]
    },
    {
     "name": "stdout",
     "output_type": "stream",
     "text": [
      "epoch: 9, [batch: 4704 / 6720], examples_per_second: 3955.7385, train_label_loss: 0.3773, \n"
     ]
    },
    {
     "name": "stdout",
     "output_type": "stream",
     "text": [
      "epoch: 9, [batch: 5376 / 6720], examples_per_second: 4002.9384, train_label_loss: 0.0351, \n"
     ]
    },
    {
     "name": "stdout",
     "output_type": "stream",
     "text": [
      "epoch: 9, [batch: 6048 / 6720], examples_per_second: 3949.0003, train_label_loss: 0.1372, \n"
     ]
    },
    {
     "name": "stdout",
     "output_type": "stream",
     "text": [
      "=============================================================\n",
      "epoch: 9, source_val_acc_label: 0.6046, target_val_acc_label: 0.6944, source_val_label_loss: 1.3964, target_val_label_loss: 14.0415, \n",
      "=============================================================\n"
     ]
    },
    {
     "name": "stdout",
     "output_type": "stream",
     "text": [
      "epoch: 10, [batch: 1 / 6720], examples_per_second: 3.9054, train_label_loss: 0.1969, \n"
     ]
    },
    {
     "name": "stdout",
     "output_type": "stream",
     "text": [
      "epoch: 10, [batch: 672 / 6720], examples_per_second: 3939.5397, train_label_loss: 0.1756, \n"
     ]
    },
    {
     "name": "stdout",
     "output_type": "stream",
     "text": [
      "epoch: 10, [batch: 1344 / 6720], examples_per_second: 3867.0867, train_label_loss: 0.2031, \n"
     ]
    },
    {
     "name": "stdout",
     "output_type": "stream",
     "text": [
      "epoch: 10, [batch: 2016 / 6720], examples_per_second: 3932.6370, train_label_loss: 0.4868, \n"
     ]
    },
    {
     "name": "stdout",
     "output_type": "stream",
     "text": [
      "epoch: 10, [batch: 2688 / 6720], examples_per_second: 3965.9715, train_label_loss: 0.0720, \n"
     ]
    },
    {
     "name": "stdout",
     "output_type": "stream",
     "text": [
      "epoch: 10, [batch: 3360 / 6720], examples_per_second: 3952.1593, train_label_loss: 0.1200, \n"
     ]
    },
    {
     "name": "stdout",
     "output_type": "stream",
     "text": [
      "epoch: 10, [batch: 4032 / 6720], examples_per_second: 4191.3487, train_label_loss: 0.1222, \n"
     ]
    },
    {
     "name": "stdout",
     "output_type": "stream",
     "text": [
      "epoch: 10, [batch: 4704 / 6720], examples_per_second: 3925.0864, train_label_loss: 0.1717, \n"
     ]
    },
    {
     "name": "stdout",
     "output_type": "stream",
     "text": [
      "epoch: 10, [batch: 5376 / 6720], examples_per_second: 4000.8382, train_label_loss: 0.4281, \n"
     ]
    },
    {
     "name": "stdout",
     "output_type": "stream",
     "text": [
      "epoch: 10, [batch: 6048 / 6720], examples_per_second: 3965.2549, train_label_loss: 0.0920, \n"
     ]
    },
    {
     "name": "stdout",
     "output_type": "stream",
     "text": [
      "=============================================================\n",
      "epoch: 10, source_val_acc_label: 0.5990, target_val_acc_label: 0.6922, source_val_label_loss: 1.4878, target_val_label_loss: 15.3164, \n",
      "=============================================================\n"
     ]
    },
    {
     "name": "stdout",
     "output_type": "stream",
     "text": [
      "epoch: 11, [batch: 1 / 6720], examples_per_second: 3.9300, train_label_loss: 0.0955, \n"
     ]
    },
    {
     "name": "stdout",
     "output_type": "stream",
     "text": [
      "epoch: 11, [batch: 672 / 6720], examples_per_second: 3802.7524, train_label_loss: 0.4099, \n"
     ]
    },
    {
     "name": "stdout",
     "output_type": "stream",
     "text": [
      "epoch: 11, [batch: 1344 / 6720], examples_per_second: 3891.9962, train_label_loss: 0.5085, \n"
     ]
    },
    {
     "name": "stdout",
     "output_type": "stream",
     "text": [
      "epoch: 11, [batch: 2016 / 6720], examples_per_second: 3911.5842, train_label_loss: 0.3280, \n"
     ]
    },
    {
     "name": "stdout",
     "output_type": "stream",
     "text": [
      "epoch: 11, [batch: 2688 / 6720], examples_per_second: 3911.8932, train_label_loss: 0.1571, \n"
     ]
    },
    {
     "name": "stdout",
     "output_type": "stream",
     "text": [
      "epoch: 11, [batch: 3360 / 6720], examples_per_second: 3812.0410, train_label_loss: 0.4555, \n"
     ]
    },
    {
     "name": "stdout",
     "output_type": "stream",
     "text": [
      "epoch: 11, [batch: 4032 / 6720], examples_per_second: 3884.9587, train_label_loss: 0.4587, \n"
     ]
    },
    {
     "name": "stdout",
     "output_type": "stream",
     "text": [
      "epoch: 11, [batch: 4704 / 6720], examples_per_second: 4179.5668, train_label_loss: 0.3964, \n"
     ]
    },
    {
     "name": "stdout",
     "output_type": "stream",
     "text": [
      "epoch: 11, [batch: 5376 / 6720], examples_per_second: 4198.2229, train_label_loss: 0.3930, \n"
     ]
    },
    {
     "name": "stdout",
     "output_type": "stream",
     "text": [
      "epoch: 11, [batch: 6048 / 6720], examples_per_second: 4273.4143, train_label_loss: 0.1694, \n"
     ]
    },
    {
     "name": "stdout",
     "output_type": "stream",
     "text": [
      "=============================================================\n",
      "epoch: 11, source_val_acc_label: 0.5964, target_val_acc_label: 0.6932, source_val_label_loss: 1.6122, target_val_label_loss: 16.7324, \n",
      "=============================================================\n"
     ]
    },
    {
     "name": "stdout",
     "output_type": "stream",
     "text": [
      "Patience (3) exhausted\n"
     ]
    }
   ],
   "source": [
    "###################################\n",
    "# train\n",
    "###################################\n",
    "jig = PTN_Train_Eval_Test_Jig(model, p.BEST_MODEL_PATH, p.device)\n",
    "\n",
    "jig.train(\n",
    "    train_iterable=datasets.source.processed.train,\n",
    "    source_val_iterable=datasets.source.processed.val,\n",
    "    target_val_iterable=datasets.target.processed.val,\n",
    "    num_epochs=p.n_epoch,\n",
    "    num_logs_per_epoch=p.NUM_LOGS_PER_EPOCH,\n",
    "    patience=p.patience,\n",
    "    optimizer=optimizer,\n",
    "    criteria_for_best=p.criteria_for_best,\n",
    ")"
   ]
  },
  {
   "cell_type": "code",
   "execution_count": 23,
   "id": "31e8fabf",
   "metadata": {
    "execution": {
     "iopub.execute_input": "2022-03-22T22:06:06.343751Z",
     "iopub.status.busy": "2022-03-22T22:06:06.343369Z",
     "iopub.status.idle": "2022-03-22T22:06:06.377420Z",
     "shell.execute_reply": "2022-03-22T22:06:06.376656Z"
    },
    "papermill": {
     "duration": 0.095744,
     "end_time": "2022-03-22T22:06:06.377605",
     "exception": false,
     "start_time": "2022-03-22T22:06:06.281861",
     "status": "completed"
    },
    "tags": []
   },
   "outputs": [],
   "source": [
    "total_experiment_time_secs = time.time() - start_time_secs"
   ]
  },
  {
   "cell_type": "code",
   "execution_count": 24,
   "id": "87b9595b",
   "metadata": {
    "execution": {
     "iopub.execute_input": "2022-03-22T22:06:06.506008Z",
     "iopub.status.busy": "2022-03-22T22:06:06.505345Z",
     "iopub.status.idle": "2022-03-22T22:08:48.987773Z",
     "shell.execute_reply": "2022-03-22T22:08:48.986981Z"
    },
    "papermill": {
     "duration": 162.547492,
     "end_time": "2022-03-22T22:08:48.987953",
     "exception": false,
     "start_time": "2022-03-22T22:06:06.440461",
     "status": "completed"
    },
    "tags": []
   },
   "outputs": [],
   "source": [
    "###################################\n",
    "# Evaluate the model\n",
    "###################################\n",
    "source_test_label_accuracy, source_test_label_loss = jig.test(datasets.source.processed.test)\n",
    "target_test_label_accuracy, target_test_label_loss = jig.test(datasets.target.processed.test)\n",
    "\n",
    "source_val_label_accuracy, source_val_label_loss = jig.test(datasets.source.processed.val)\n",
    "target_val_label_accuracy, target_val_label_loss = jig.test(datasets.target.processed.val)\n",
    "\n",
    "history = jig.get_history()\n",
    "\n",
    "total_epochs_trained = len(history[\"epoch_indices\"])\n",
    "\n",
    "val_dl = Iterable_Aggregator((datasets.source.original.val,datasets.target.original.val))\n",
    "\n",
    "confusion = ptn_confusion_by_domain_over_dataloader(model, p.device, val_dl)\n",
    "per_domain_accuracy = per_domain_accuracy_from_confusion(confusion)\n",
    "\n",
    "# Add a key to per_domain_accuracy for if it was a source domain\n",
    "for domain, accuracy in per_domain_accuracy.items():\n",
    "    per_domain_accuracy[domain] = {\n",
    "        \"accuracy\": accuracy,\n",
    "        \"source?\": domain in p.domains_source\n",
    "    }\n",
    "\n",
    "# Do an independent accuracy assesment JUST TO BE SURE!\n",
    "# _source_test_label_accuracy = independent_accuracy_assesment(model, datasets.source.processed.test, p.device)\n",
    "# _target_test_label_accuracy = independent_accuracy_assesment(model, datasets.target.processed.test, p.device)\n",
    "# _source_val_label_accuracy = independent_accuracy_assesment(model, datasets.source.processed.val, p.device)\n",
    "# _target_val_label_accuracy = independent_accuracy_assesment(model, datasets.target.processed.val, p.device)\n",
    "\n",
    "# assert(_source_test_label_accuracy == source_test_label_accuracy)\n",
    "# assert(_target_test_label_accuracy == target_test_label_accuracy)\n",
    "# assert(_source_val_label_accuracy == source_val_label_accuracy)\n",
    "# assert(_target_val_label_accuracy == target_val_label_accuracy)\n",
    "\n",
    "experiment = {\n",
    "    \"experiment_name\": p.experiment_name,\n",
    "    \"parameters\": dict(p),\n",
    "    \"results\": {\n",
    "        \"source_test_label_accuracy\": source_test_label_accuracy,\n",
    "        \"source_test_label_loss\": source_test_label_loss,\n",
    "        \"target_test_label_accuracy\": target_test_label_accuracy,\n",
    "        \"target_test_label_loss\": target_test_label_loss,\n",
    "        \"source_val_label_accuracy\": source_val_label_accuracy,\n",
    "        \"source_val_label_loss\": source_val_label_loss,\n",
    "        \"target_val_label_accuracy\": target_val_label_accuracy,\n",
    "        \"target_val_label_loss\": target_val_label_loss,\n",
    "        \"total_epochs_trained\": total_epochs_trained,\n",
    "        \"total_experiment_time_secs\": total_experiment_time_secs,\n",
    "        \"confusion\": confusion,\n",
    "        \"per_domain_accuracy\": per_domain_accuracy,\n",
    "    },\n",
    "    \"history\": history,\n",
    "    \"dataset_metrics\": get_dataset_metrics(datasets, \"ptn\"),\n",
    "}"
   ]
  },
  {
   "cell_type": "code",
   "execution_count": 25,
   "id": "54a21829",
   "metadata": {
    "execution": {
     "iopub.execute_input": "2022-03-22T22:08:49.113593Z",
     "iopub.status.busy": "2022-03-22T22:08:49.113227Z",
     "iopub.status.idle": "2022-03-22T22:08:49.374966Z",
     "shell.execute_reply": "2022-03-22T22:08:49.375671Z"
    },
    "papermill": {
     "duration": 0.324885,
     "end_time": "2022-03-22T22:08:49.375863",
     "exception": false,
     "start_time": "2022-03-22T22:08:49.050978",
     "status": "completed"
    },
    "tags": []
   },
   "outputs": [
    {
     "data": {
      "image/png": "[encoded data removed]",
      "text/plain": [
       "<Figure size 1080x504 with 1 Axes>"
      ]
     },
     "metadata": {
      "needs_background": "light"
     },
     "output_type": "display_data"
    }
   ],
   "source": [
    "ax = get_loss_curve(experiment)\n",
    "plt.show()"
   ]
  },
  {
   "cell_type": "code",
   "execution_count": 26,
   "id": "fd8a0f60",
   "metadata": {
    "execution": {
     "iopub.execute_input": "2022-03-22T22:08:49.504522Z",
     "iopub.status.busy": "2022-03-22T22:08:49.504156Z",
     "iopub.status.idle": "2022-03-22T22:08:49.877310Z",
     "shell.execute_reply": "2022-03-22T22:08:49.877991Z"
    },
    "papermill": {
     "duration": 0.437033,
     "end_time": "2022-03-22T22:08:49.878205",
     "exception": false,
     "start_time": "2022-03-22T22:08:49.441172",
     "status": "completed"
    },
    "tags": []
   },
   "outputs": [
    {
     "data": {
      "text/plain": [
       "<AxesSubplot:title={'center':'Results'}>"
      ]
     },
     "execution_count": 26,
     "metadata": {},
     "output_type": "execute_result"
    },
    {
     "data": {
      "image/png": "[encoded data removed]",
      "text/plain": [
       "<Figure size 1080x504 with 1 Axes>"
      ]
     },
     "metadata": {
      "needs_background": "light"
     },
     "output_type": "display_data"
    }
   ],
   "source": [
    "get_results_table(experiment)"
   ]
  },
  {
   "cell_type": "code",
   "execution_count": 27,
   "id": "cf8dc689",
   "metadata": {
    "execution": {
     "iopub.execute_input": "2022-03-22T22:08:50.005427Z",
     "iopub.status.busy": "2022-03-22T22:08:50.004806Z",
     "iopub.status.idle": "2022-03-22T22:08:50.266934Z",
     "shell.execute_reply": "2022-03-22T22:08:50.267656Z"
    },
    "papermill": {
     "duration": 0.326069,
     "end_time": "2022-03-22T22:08:50.267935",
     "exception": false,
     "start_time": "2022-03-22T22:08:49.941866",
     "status": "completed"
    },
    "tags": []
   },
   "outputs": [
    {
     "data": {
      "text/plain": [
       "<AxesSubplot:title={'center':'Per Domain Validation Accuracy'}, xlabel='domain'>"
      ]
     },
     "execution_count": 27,
     "metadata": {},
     "output_type": "execute_result"
    },
    {
     "data": {
      "image/png": "[encoded data removed]",
      "text/plain": [
       "<Figure size 1080x504 with 1 Axes>"
      ]
     },
     "metadata": {
      "needs_background": "light"
     },
     "output_type": "display_data"
    }
   ],
   "source": [
    "get_domain_accuracies(experiment)"
   ]
  },
  {
   "cell_type": "code",
   "execution_count": 28,
   "id": "a74ae082",
   "metadata": {
    "execution": {
     "iopub.execute_input": "2022-03-22T22:08:50.396024Z",
     "iopub.status.busy": "2022-03-22T22:08:50.395652Z",
     "iopub.status.idle": "2022-03-22T22:08:50.423693Z",
     "shell.execute_reply": "2022-03-22T22:08:50.422884Z"
    },
    "papermill": {
     "duration": 0.090889,
     "end_time": "2022-03-22T22:08:50.423848",
     "exception": false,
     "start_time": "2022-03-22T22:08:50.332959",
     "status": "completed"
    },
    "tags": []
   },
   "outputs": [
    {
     "name": "stdout",
     "output_type": "stream",
     "text": [
      "Source Test Label Accuracy: 0.60888671875 Target Test Label Accuracy: 0.6947140269151139\n",
      "Source Val Label Accuracy: 0.6137369791666667 Target Val Label Accuracy: 0.69704677589852\n"
     ]
    }
   ],
   "source": [
    "print(\"Source Test Label Accuracy:\", experiment[\"results\"][\"source_test_label_accuracy\"], \"Target Test Label Accuracy:\", experiment[\"results\"][\"target_test_label_accuracy\"])\n",
    "print(\"Source Val Label Accuracy:\", experiment[\"results\"][\"source_val_label_accuracy\"], \"Target Val Label Accuracy:\", experiment[\"results\"][\"target_val_label_accuracy\"])"
   ]
  },
  {
   "cell_type": "code",
   "execution_count": 29,
   "id": "dacca602",
   "metadata": {
    "execution": {
     "iopub.execute_input": "2022-03-22T22:08:50.552073Z",
     "iopub.status.busy": "2022-03-22T22:08:50.551711Z",
     "iopub.status.idle": "2022-03-22T22:08:50.580482Z",
     "shell.execute_reply": "2022-03-22T22:08:50.580941Z"
    },
    "papermill": {
     "duration": 0.092698,
     "end_time": "2022-03-22T22:08:50.581067",
     "exception": false,
     "start_time": "2022-03-22T22:08:50.488369",
     "status": "completed"
    },
    "tags": [
     "experiment_json"
    ]
   },
   "outputs": [
    {
     "data": {
      "text/plain": [
       "'{\"experiment_name\": \"tl_1v2:wisig-oracle.run1.limited\", \"parameters\": {\"experiment_name\": \"tl_1v2:wisig-oracle.run1.limited\", \"device\": \"cuda\", \"lr\": 0.0001, \"n_shot\": 3, \"n_query\": 2, \"train_k_factor\": 3, \"val_k_factor\": 2, \"test_k_factor\": 2, \"torch_default_dtype\": \"torch.float32\", \"n_epoch\": 50, \"patience\": 3, \"criteria_for_best\": \"target_accuracy\", \"x_net\": [{\"class\": \"nnReshape\", \"kargs\": {\"shape\": [-1, 1, 2, 256]}}, {\"class\": \"Conv2d\", \"kargs\": {\"in_channels\": 1, \"out_channels\": 256, \"kernel_size\": [1, 7], \"bias\": false, \"padding\": [0, 3]}}, {\"class\": \"ReLU\", \"kargs\": {\"inplace\": true}}, {\"class\": \"BatchNorm2d\", \"kargs\": {\"num_features\": 256}}, {\"class\": \"Conv2d\", \"kargs\": {\"in_channels\": 256, \"out_channels\": 80, \"kernel_size\": [2, 7], \"bias\": true, \"padding\": [0, 3]}}, {\"class\": \"ReLU\", \"kargs\": {\"inplace\": true}}, {\"class\": \"BatchNorm2d\", \"kargs\": {\"num_features\": 80}}, {\"class\": \"Flatten\", \"kargs\": {}}, {\"class\": \"Linear\", \"kargs\": {\"in_features\": 20480, \"out_features\": 256}}, {\"class\": \"ReLU\", \"kargs\": {\"inplace\": true}}, {\"class\": \"BatchNorm1d\", \"kargs\": {\"num_features\": 256}}, {\"class\": \"Linear\", \"kargs\": {\"in_features\": 256, \"out_features\": 256}}], \"NUM_LOGS_PER_EPOCH\": 10, \"BEST_MODEL_PATH\": \"./best_model.pth\", \"n_way\": 16, \"datasets\": [{\"labels\": [\"1-10\", \"1-12\", \"1-14\", \"1-16\", \"1-18\", \"1-19\", \"1-8\", \"10-11\", \"10-17\", \"10-4\", \"10-7\", \"11-1\", \"11-10\", \"11-19\", \"11-20\", \"11-4\", \"11-7\", \"12-19\", \"12-20\", \"12-7\", \"13-14\", \"13-18\", \"13-19\", \"13-20\", \"13-3\", \"13-7\", \"14-10\", \"14-11\", \"14-12\", \"14-13\", \"14-14\", \"14-19\", \"14-20\", \"14-7\", \"14-8\", \"14-9\", \"15-1\", \"15-19\", \"15-6\", \"16-1\", \"16-16\", \"16-19\", \"16-20\", \"17-10\", \"17-11\", \"18-1\", \"18-10\", \"18-11\", \"18-12\", \"18-13\", \"18-14\", \"18-15\", \"18-16\", \"18-17\", \"18-19\", \"18-2\", \"18-20\", \"18-4\", \"18-5\", \"18-7\", \"18-8\", \"18-9\", \"19-1\", \"19-10\", \"19-11\", \"19-12\", \"19-13\", \"19-14\", \"19-15\", \"19-19\", \"19-2\", \"19-20\", \"19-3\", \"19-4\", \"19-6\", \"19-7\", \"19-8\", \"19-9\", \"2-1\", \"2-13\", \"2-15\", \"2-3\", \"2-4\", \"2-5\", \"2-6\", \"2-7\", \"2-8\", \"20-1\", \"20-12\", \"20-14\", \"20-15\", \"20-16\", \"20-18\", \"20-19\", \"20-20\", \"20-3\", \"20-4\", \"20-5\", \"20-7\", \"20-8\", \"3-1\", \"3-13\", \"3-18\", \"3-2\", \"3-8\", \"4-1\", \"4-10\", \"4-11\", \"5-1\", \"5-5\", \"6-1\", \"6-15\", \"6-6\", \"7-10\", \"7-11\", \"7-12\", \"7-13\", \"7-14\", \"7-7\", \"7-8\", \"7-9\", \"8-1\", \"8-13\", \"8-14\", \"8-18\", \"8-20\", \"8-3\", \"8-8\", \"9-1\", \"9-7\"], \"domains\": [1, 2, 3, 4], \"num_examples_per_domain_per_label\": -1, \"pickle_path\": \"/root/csc500-main/datasets/wisig.node3-19.stratified_ds.2022A.pkl\", \"source_or_target_dataset\": \"target\", \"x_transforms\": [\"unit_mag\"], \"episode_transforms\": [], \"domain_prefix\": \"Wisig_\"}, {\"labels\": [\"3123D52\", \"3123D65\", \"3123D79\", \"3123D80\", \"3123D54\", \"3123D70\", \"3123D7B\", \"3123D89\", \"3123D58\", \"3123D76\", \"3123D7D\", \"3123EFE\", \"3123D64\", \"3123D78\", \"3123D7E\", \"3124E4A\"], \"domains\": [32, 38, 8, 44, 14, 50, 20, 26], \"num_examples_per_domain_per_label\": 2000, \"pickle_path\": \"/root/csc500-main/datasets/oracle.Run1_10kExamples_stratified_ds.2022A.pkl\", \"source_or_target_dataset\": \"source\", \"x_transforms\": [\"unit_mag\"], \"episode_transforms\": [], \"domain_prefix\": \"ORACLE.run1\"}], \"dataset_seed\": 420, \"seed\": 420, \"x_shape\": [2, 256], \"domains_source\": [\"ORACLE.run132\", \"ORACLE.run138\", \"ORACLE.run18\", \"ORACLE.run144\", \"ORACLE.run114\", \"ORACLE.run150\", \"ORACLE.run120\", \"ORACLE.run126\"], \"domains_target\": [\"Wisig_1\", \"Wisig_2\", \"Wisig_3\", \"Wisig_4\"]}, \"results\": {\"source_test_label_accuracy\": 0.60888671875, \"source_test_label_loss\": 1.2498565912246704, \"target_test_label_accuracy\": 0.6947140269151139, \"target_test_label_loss\": 11.983412742614746, \"source_val_label_accuracy\": 0.6137369791666667, \"source_val_label_loss\": 1.2474744319915771, \"target_val_label_accuracy\": 0.69704677589852, \"target_val_label_loss\": 12.09376335144043, \"total_epochs_trained\": 11, \"total_experiment_time_secs\": 1687.714917898178, \"confusion\": {\"ORACLE.run114\": {\"15\": {\"15\": 198, \"7\": 41, \"2\": 1}, \"5\": {\"5\": 132, \"2\": 16, \"4\": 54, \"1\": 29, \"15\": 1, \"7\": 4, \"3\": 4}, \"7\": {\"7\": 212, \"15\": 25, \"1\": 2, \"5\": 1}, \"4\": {\"4\": 124, \"5\": 40, \"3\": 45, \"1\": 4, \"2\": 27}, \"10\": {\"0\": 42, \"10\": 194, \"14\": 1, \"11\": 2, \"3\": 1}, \"11\": {\"11\": 189, \"9\": 13, \"10\": 25, \"0\": 13}, \"12\": {\"12\": 239, \"9\": 1}, \"0\": {\"11\": 9, \"0\": 166, \"10\": 54, \"3\": 10, \"14\": 1}, \"14\": {\"14\": 157, \"6\": 16, \"2\": 24, \"3\": 8, \"13\": 33, \"4\": 2}, \"8\": {\"8\": 240}, \"13\": {\"6\": 78, \"13\": 77, \"14\": 55, \"2\": 26, \"15\": 1, \"5\": 2, \"4\": 1}, \"6\": {\"14\": 39, \"13\": 88, \"6\": 96, \"2\": 16, \"4\": 1}, \"1\": {\"1\": 195, \"4\": 7, \"5\": 35, \"7\": 1, \"3\": 1, \"2\": 1}, \"3\": {\"3\": 175, \"4\": 51, \"2\": 3, \"5\": 2, \"14\": 5, \"0\": 3, \"10\": 1}, \"9\": {\"9\": 236, \"12\": 4}, \"2\": {\"4\": 39, \"5\": 20, \"2\": 94, \"13\": 17, \"6\": 27, \"14\": 20, \"1\": 3, \"3\": 11, \"15\": 9}}, \"ORACLE.run120\": {\"4\": {\"4\": 154, \"8\": 35, \"12\": 5, \"3\": 19, \"2\": 1, \"10\": 20, \"7\": 2, \"0\": 2, \"5\": 2}, \"10\": {\"10\": 134, \"14\": 50, \"8\": 35, \"6\": 9, \"4\": 11, \"7\": 1}, \"15\": {\"13\": 8, \"5\": 31, \"15\": 105, \"1\": 36, \"0\": 40, \"12\": 15, \"9\": 1, \"2\": 2, \"3\": 2}, \"0\": {\"0\": 61, \"5\": 51, \"1\": 48, \"15\": 38, \"12\": 23, \"3\": 12, \"9\": 5, \"2\": 1, \"8\": 1}, \"6\": {\"6\": 181, \"14\": 44, \"8\": 6, \"10\": 5, \"7\": 4}, \"3\": {\"8\": 13, \"3\": 66, \"9\": 42, \"7\": 12, \"4\": 19, \"2\": 16, \"12\": 35, \"5\": 17, \"0\": 7, \"1\": 10, \"15\": 2, \"13\": 1}, \"7\": {\"7\": 116, \"8\": 38, \"9\": 27, \"4\": 2, \"2\": 42, \"6\": 7, \"3\": 6, \"11\": 1, \"12\": 1}, \"2\": {\"2\": 80, \"9\": 58, \"12\": 14, \"3\": 17, \"7\": 47, \"13\": 14, \"8\": 2, \"5\": 4, \"15\": 2, \"1\": 2}, \"8\": {\"8\": 104, \"2\": 4, \"14\": 4, \"7\": 31, \"10\": 32, \"4\": 40, \"3\": 10, \"9\": 8, \"6\": 7}, \"11\": {\"11\": 238, \"6\": 1, \"7\": 1}, \"14\": {\"14\": 161, \"10\": 39, \"6\": 32, \"8\": 7, \"7\": 1}, \"12\": {\"12\": 53, \"1\": 25, \"3\": 42, \"5\": 27, \"0\": 25, \"13\": 3, \"15\": 15, \"7\": 3, \"2\": 6, \"9\": 30, \"4\": 9, \"8\": 2}, \"13\": {\"13\": 190, \"2\": 19, \"9\": 9, \"15\": 10, \"12\": 2, \"1\": 6, \"0\": 1, \"7\": 1, \"5\": 1, \"3\": 1}, \"9\": {\"12\": 32, \"9\": 68, \"7\": 18, \"3\": 42, \"13\": 6, \"4\": 6, \"2\": 45, \"0\": 2, \"1\": 5, \"8\": 8, \"15\": 4, \"5\": 3, \"10\": 1}, \"5\": {\"0\": 52, \"1\": 44, \"5\": 54, \"4\": 6, \"3\": 12, \"12\": 38, \"15\": 24, \"9\": 6, \"2\": 3, \"13\": 1}, \"1\": {\"5\": 51, \"12\": 22, \"1\": 54, \"15\": 51, \"0\": 46, \"3\": 9, \"9\": 4, \"2\": 1, \"13\": 1, \"4\": 1}}, \"ORACLE.run150\": {\"5\": {\"13\": 35, \"5\": 67, \"6\": 41, \"7\": 62, \"4\": 25, \"1\": 8, \"10\": 1, \"0\": 1}, \"12\": {\"12\": 204, \"9\": 21, \"14\": 13, \"11\": 2}, \"14\": {\"14\": 230, \"12\": 7, \"11\": 3}, \"4\": {\"15\": 47, \"6\": 29, \"4\": 90, \"13\": 9, \"5\": 19, \"1\": 41, \"7\": 5}, \"13\": {\"10\": 4, \"7\": 43, \"13\": 119, \"4\": 1, \"5\": 47, \"0\": 4, \"6\": 22}, \"10\": {\"10\": 200, \"7\": 15, \"0\": 14, \"8\": 6, \"13\": 5}, \"9\": {\"12\": 17, \"9\": 181, \"11\": 40, \"14\": 2}, \"15\": {\"15\": 164, \"1\": 38, \"6\": 1, \"4\": 31, \"11\": 5, \"5\": 1}, \"6\": {\"5\": 24, \"6\": 110, \"13\": 30, \"4\": 41, \"1\": 31, \"15\": 4}, \"2\": {\"2\": 219, \"0\": 21}, \"0\": {\"0\": 193, \"2\": 26, \"10\": 20, \"6\": 1}, \"11\": {\"11\": 199, \"9\": 30, \"15\": 7, \"14\": 3, \"12\": 1}, \"3\": {\"3\": 229, \"8\": 11}, \"8\": {\"8\": 225, \"10\": 6, \"3\": 9}, \"7\": {\"7\": 136, \"13\": 46, \"5\": 43, \"10\": 11, \"6\": 2, \"4\": 2}, \"1\": {\"1\": 122, \"15\": 58, \"4\": 28, \"6\": 27, \"14\": 2, \"11\": 2, \"13\": 1}}, \"ORACLE.run126\": {\"7\": {\"3\": 41, \"7\": 90, \"2\": 39, \"8\": 20, \"4\": 24, \"14\": 3, \"10\": 8, \"0\": 4, \"9\": 3, \"1\": 3, \"15\": 4, \"5\": 1}, \"6\": {\"10\": 28, \"6\": 139, \"9\": 34, \"8\": 6, \"13\": 7, \"15\": 14, \"5\": 7, \"0\": 5}, \"14\": {\"14\": 66, \"7\": 11, \"1\": 64, \"8\": 8, \"10\": 17, \"9\": 3, \"4\": 39, \"0\": 31, \"3\": 1}, \"15\": {\"9\": 57, \"15\": 55, \"5\": 45, \"7\": 6, \"13\": 18, \"6\": 11, \"2\": 17, \"10\": 4, \"8\": 22, \"4\": 1, \"0\": 3, \"3\": 1}, \"5\": {\"5\": 94, \"13\": 32, \"15\": 47, \"2\": 18, \"6\": 4, \"9\": 36, \"8\": 6, \"7\": 3}, \"10\": {\"10\": 65, \"8\": 34, \"15\": 5, \"0\": 48, \"6\": 22, \"14\": 31, \"4\": 13, \"1\": 14, \"9\": 7, \"7\": 1}, \"4\": {\"14\": 45, \"8\": 23, \"1\": 36, \"9\": 3, \"10\": 26, \"4\": 52, \"0\": 31, \"7\": 21, \"2\": 2, \"3\": 1}, \"11\": {\"11\": 226, \"12\": 14}, \"13\": {\"13\": 160, \"5\": 46, \"15\": 12, \"2\": 9, \"9\": 9, \"6\": 3, \"8\": 1}, \"2\": {\"15\": 20, \"7\": 35, \"2\": 84, \"5\": 16, \"3\": 65, \"9\": 9, \"8\": 7, \"10\": 3, \"14\": 1}, \"0\": {\"8\": 30, \"0\": 35, \"4\": 42, \"14\": 41, \"10\": 50, \"1\": 23, \"2\": 1, \"7\": 8, \"6\": 7, \"9\": 1, \"15\": 2}, \"12\": {\"12\": 235, \"11\": 4, \"6\": 1}, \"3\": {\"3\": 135, \"7\": 45, \"2\": 51, \"5\": 2, \"13\": 1, \"8\": 1, \"4\": 2, \"15\": 2, \"9\": 1}, \"9\": {\"2\": 7, \"9\": 73, \"10\": 6, \"5\": 25, \"6\": 36, \"7\": 2, \"15\": 58, \"8\": 25, \"13\": 6, \"0\": 2}, \"8\": {\"4\": 25, \"8\": 66, \"2\": 12, \"0\": 17, \"7\": 20, \"9\": 24, \"5\": 8, \"14\": 5, \"10\": 29, \"15\": 14, \"6\": 16, \"3\": 2, \"1\": 2}, \"1\": {\"1\": 110, \"10\": 9, \"14\": 61, \"4\": 40, \"0\": 11, \"8\": 5, \"3\": 1, \"7\": 2, \"9\": 1}}, \"ORACLE.run132\": {\"7\": {\"11\": 17, \"7\": 87, \"4\": 26, \"14\": 49, \"5\": 23, \"13\": 17, \"2\": 8, \"0\": 9, \"8\": 4}, \"2\": {\"2\": 185, \"4\": 41, \"0\": 7, \"5\": 2, \"7\": 4, \"14\": 1}, \"5\": {\"8\": 29, \"0\": 25, \"4\": 24, \"5\": 61, \"13\": 54, \"7\": 18, \"14\": 10, \"3\": 14, \"2\": 2, \"11\": 3}, \"6\": {\"6\": 240}, \"13\": {\"5\": 58, \"13\": 74, \"8\": 22, \"3\": 20, \"4\": 20, \"7\": 16, \"0\": 10, \"14\": 15, \"11\": 5}, \"4\": {\"4\": 93, \"7\": 29, \"2\": 40, \"0\": 42, \"5\": 20, \"13\": 10, \"14\": 4, \"8\": 2}, \"3\": {\"3\": 208, \"13\": 12, \"5\": 2, \"11\": 13, \"14\": 3, \"8\": 2}, \"0\": {\"4\": 48, \"8\": 28, \"0\": 113, \"13\": 8, \"5\": 18, \"14\": 2, \"2\": 16, \"7\": 7}, \"9\": {\"9\": 239, \"12\": 1}, \"12\": {\"12\": 240}, \"8\": {\"8\": 159, \"0\": 21, \"13\": 30, \"5\": 24, \"4\": 2, \"3\": 4}, \"14\": {\"7\": 53, \"11\": 76, \"13\": 19, \"14\": 60, \"3\": 4, \"5\": 14, \"4\": 8, \"2\": 2, \"0\": 3, \"8\": 1}, \"15\": {\"15\": 233, \"8\": 5, \"3\": 2}, \"11\": {\"14\": 57, \"11\": 154, \"13\": 5, \"7\": 11, \"5\": 8, \"3\": 5}, \"10\": {\"10\": 236, \"1\": 4}, \"1\": {\"1\": 235, \"10\": 5}}, \"ORACLE.run144\": {\"11\": {\"11\": 196, \"6\": 22, \"13\": 22}, \"7\": {\"7\": 143, \"2\": 41, \"9\": 44, \"1\": 3, \"6\": 8, \"13\": 1}, \"6\": {\"9\": 25, \"13\": 45, \"6\": 147, \"11\": 15, \"7\": 8}, \"12\": {\"12\": 174, \"10\": 18, \"1\": 43, \"3\": 5}, \"4\": {\"4\": 166, \"14\": 69, \"15\": 3, \"13\": 2}, \"13\": {\"13\": 149, \"9\": 33, \"11\": 13, \"6\": 42, \"4\": 2, \"7\": 1}, \"8\": {\"8\": 138, \"0\": 92, \"15\": 7, \"5\": 3}, \"5\": {\"0\": 27, \"5\": 197, \"14\": 7, \"15\": 9}, \"14\": {\"4\": 81, \"14\": 131, \"5\": 9, \"15\": 19}, \"3\": {\"3\": 195, \"1\": 38, \"12\": 5, \"7\": 1, \"2\": 1}, \"10\": {\"2\": 18, \"10\": 172, \"12\": 19, \"1\": 31}, \"1\": {\"12\": 58, \"1\": 118, \"10\": 22, \"2\": 10, \"7\": 1, \"3\": 31}, \"2\": {\"2\": 163, \"1\": 11, \"10\": 22, \"7\": 38, \"3\": 4, \"9\": 2}, \"15\": {\"15\": 183, \"0\": 19, \"4\": 4, \"5\": 7, \"14\": 24, \"8\": 3}, \"9\": {\"7\": 61, \"9\": 125, \"6\": 17, \"3\": 1, \"2\": 7, \"13\": 28, \"4\": 1}, \"0\": {\"8\": 57, \"0\": 161, \"15\": 11, \"5\": 11}}, \"ORACLE.run18\": {\"10\": {\"1\": 12, \"10\": 125, \"4\": 8, \"14\": 57, \"13\": 23, \"5\": 8, \"11\": 4, \"6\": 1, \"0\": 2}, \"6\": {\"6\": 109, \"7\": 65, \"4\": 27, \"0\": 14, \"13\": 11, \"14\": 5, \"8\": 7, \"15\": 1, \"11\": 1}, \"13\": {\"0\": 67, \"1\": 6, \"4\": 39, \"7\": 10, \"6\": 17, \"10\": 14, \"13\": 69, \"14\": 16, \"5\": 1, \"8\": 1}, \"3\": {\"3\": 153, \"12\": 43, \"2\": 40, \"15\": 4}, \"9\": {\"9\": 240}, \"1\": {\"11\": 70, \"1\": 131, \"5\": 9, \"14\": 21, \"10\": 8, \"4\": 1}, \"5\": {\"5\": 197, \"10\": 23, \"1\": 13, \"11\": 6, \"14\": 1}, \"11\": {\"1\": 81, \"11\": 109, \"13\": 1, \"5\": 14, \"8\": 8, \"14\": 16, \"10\": 5, \"4\": 4, \"6\": 2}, \"4\": {\"0\": 27, \"4\": 87, \"10\": 6, \"13\": 31, \"6\": 46, \"14\": 31, \"8\": 3, \"7\": 7, \"1\": 2}, \"14\": {\"1\": 19, \"10\": 66, \"13\": 25, \"4\": 36, \"5\": 1, \"14\": 82, \"0\": 3, \"6\": 6, \"11\": 2}, \"12\": {\"3\": 43, \"15\": 66, \"12\": 113, \"2\": 7, \"8\": 9, \"7\": 2}, \"7\": {\"6\": 47, \"7\": 157, \"4\": 3, \"0\": 17, \"13\": 7, \"2\": 6, \"8\": 2, \"15\": 1}, \"0\": {\"0\": 110, \"6\": 20, \"13\": 50, \"4\": 20, \"14\": 3, \"7\": 29, \"10\": 8}, \"15\": {\"12\": 43, \"15\": 160, \"8\": 20, \"3\": 11, \"2\": 6}, \"2\": {\"2\": 172, \"12\": 4, \"3\": 40, \"7\": 9, \"15\": 13, \"6\": 1, \"8\": 1}, \"8\": {\"8\": 195, \"6\": 8, \"4\": 1, \"11\": 2, \"15\": 29, \"12\": 2, \"7\": 2, \"2\": 1}}, \"ORACLE.run138\": {\"4\": {\"12\": 17, \"4\": 221, \"7\": 2}, \"7\": {\"7\": 160, \"0\": 63, \"5\": 6, \"3\": 3, \"8\": 7, \"10\": 1}, \"12\": {\"12\": 192, \"10\": 32, \"4\": 15, \"14\": 1}, \"10\": {\"11\": 1, \"10\": 150, \"12\": 42, \"8\": 18, \"14\": 5, \"13\": 14, \"5\": 3, \"0\": 5, \"7\": 1, \"15\": 1}, \"0\": {\"7\": 80, \"8\": 46, \"5\": 27, \"0\": 70, \"6\": 1, \"4\": 1, \"10\": 3, \"3\": 7, \"9\": 2, \"12\": 1, \"15\": 2}, \"1\": {\"1\": 224, \"15\": 15, \"13\": 1}, \"5\": {\"5\": 91, \"6\": 16, \"0\": 33, \"8\": 62, \"7\": 10, \"13\": 4, \"9\": 6, \"3\": 6, \"15\": 9, \"10\": 1, \"1\": 2}, \"15\": {\"15\": 130, \"13\": 70, \"8\": 11, \"1\": 17, \"5\": 7, \"10\": 1, \"2\": 2, \"0\": 2}, \"9\": {\"6\": 80, \"9\": 139, \"5\": 6, \"3\": 14, \"0\": 1}, \"11\": {\"11\": 164, \"14\": 64, \"12\": 7, \"10\": 4, \"2\": 1}, \"14\": {\"11\": 44, \"14\": 174, \"2\": 18, \"10\": 2, \"12\": 1, \"13\": 1}, \"6\": {\"6\": 158, \"9\": 75, \"5\": 6, \"3\": 1}, \"8\": {\"8\": 127, \"0\": 39, \"5\": 62, \"7\": 6, \"15\": 4, \"13\": 1, \"10\": 1}, \"3\": {\"3\": 203, \"9\": 17, \"0\": 6, \"7\": 10, \"5\": 4}, \"2\": {\"13\": 8, \"2\": 218, \"14\": 13, \"10\": 1}, \"13\": {\"13\": 133, \"15\": 69, \"10\": 17, \"2\": 13, \"8\": 6, \"14\": 1, \"1\": 1}}, \"Wisig_3\": {\"110\": {\"110\": 69, \"129\": 2, \"109\": 1, \"3\": 6, \"88\": 3, \"70\": 1, \"114\": 5, \"87\": 1, \"60\": 1, \"11\": 1, \"7\": 1, \"43\": 1}, \"1\": {\"1\": 98, \"55\": 1, \"95\": 2, \"53\": 2, \"105\": 2, \"100\": 1, \"122\": 1, \"69\": 1}, \"2\": {\"123\": 2, \"92\": 1, \"18\": 1, \"26\": 2, \"64\": 2, \"62\": 1, \"2\": 11, \"89\": 1, \"118\": 1, \"109\": 2, \"121\": 2, \"69\": 1, \"23\": 1}, \"94\": {\"94\": 61, \"113\": 2, \"70\": 1, \"125\": 2, \"30\": 1, \"15\": 6, \"27\": 4, \"110\": 1, \"36\": 1, \"111\": 2, \"0\": 2, \"18\": 1}, \"64\": {\"64\": 19, \"92\": 1}, \"78\": {\"79\": 1, \"22\": 3, \"23\": 1, \"121\": 1, \"17\": 1, \"14\": 3, \"11\": 1, \"31\": 1, \"60\": 1, \"47\": 1, \"93\": 1, \"21\": 1}, \"47\": {\"47\": 7, \"12\": 2, \"124\": 2, \"18\": 1}, \"127\": {\"127\": 115, \"91\": 1, \"124\": 1, \"114\": 1, \"5\": 2, \"108\": 2, \"7\": 4, \"111\": 1, \"18\": 1}, \"89\": {\"89\": 26, \"69\": 2}, \"79\": {\"79\": 12}, \"22\": {\"22\": 16}, \"117\": {\"117\": 96, \"123\": 1, \"121\": 2, \"120\": 1, \"26\": 7, \"113\": 3, \"109\": 2}, \"49\": {\"14\": 3, \"47\": 1, \"124\": 3, \"1\": 1, \"45\": 1, \"49\": 3, \"101\": 1, \"11\": 1, \"16\": 3, \"83\": 1, \"73\": 2, \"118\": 1, \"10\": 1, \"129\": 1, \"0\": 1}, \"14\": {\"22\": 1, \"14\": 67, \"32\": 1, \"50\": 2, \"107\": 4, \"113\": 1, \"16\": 2, \"11\": 1, \"84\": 1}, \"103\": {\"103\": 14, \"122\": 2}, \"123\": {\"123\": 16}, \"98\": {\"98\": 90, \"85\": 5, \"46\": 3, \"77\": 2, \"19\": 1, \"118\": 2, \"7\": 1, \"124\": 9, \"111\": 2, \"12\": 1, \"10\": 1, \"127\": 4, \"108\": 2, \"72\": 1, \"35\": 1, \"23\": 1, \"126\": 1, \"102\": 1}, \"18\": {\"18\": 105, \"63\": 1, \"81\": 2}, \"61\": {\"61\": 16}, \"108\": {\"85\": 2, \"108\": 59, \"47\": 1, \"110\": 2, \"3\": 1, \"83\": 1, \"124\": 18, \"8\": 3, \"70\": 3, \"7\": 1, \"10\": 14, \"30\": 1, \"12\": 2, \"127\": 2, \"98\": 6, \"0\": 1, \"34\": 1, \"65\": 1, \"52\": 1, \"23\": 1, \"94\": 2, \"88\": 2, \"113\": 1}, \"100\": {\"107\": 2, \"28\": 1, \"100\": 11, \"50\": 1, \"79\": 1}, \"0\": {\"0\": 84, \"106\": 10, \"75\": 1, \"91\": 1, \"114\": 1, \"10\": 1, \"49\": 1, \"30\": 5, \"12\": 1, \"15\": 6, \"8\": 1, \"6\": 1, \"129\": 1, \"125\": 1, \"111\": 1}, \"107\": {\"107\": 116, \"74\": 1, \"122\": 1, \"14\": 1, \"105\": 1, \"1\": 4, \"40\": 3, \"98\": 1, \"16\": 1, \"50\": 1}, \"58\": {\"58\": 13, \"73\": 2, \"59\": 1}, \"8\": {\"8\": 84, \"58\": 1, \"0\": 2, \"108\": 4, \"124\": 2, \"101\": 4, \"12\": 15, \"111\": 3, \"51\": 1, \"6\": 1, \"30\": 2, \"106\": 1}, \"85\": {\"85\": 30, \"23\": 1, \"124\": 1, \"128\": 1, \"127\": 1, \"98\": 2}, \"31\": {\"31\": 14, \"44\": 3, \"116\": 1, \"19\": 1, \"36\": 1}, \"81\": {\"18\": 3, \"81\": 28, \"123\": 1}, \"60\": {\"100\": 3, \"32\": 1, \"23\": 1, \"22\": 3, \"86\": 2, \"60\": 8, \"98\": 1, \"103\": 2, \"122\": 2, \"3\": 1, \"31\": 1, \"69\": 1, \"11\": 1, \"5\": 1}, \"102\": {\"102\": 99, \"119\": 1, \"33\": 9, \"69\": 4, \"109\": 3}, \"19\": {\"98\": 2, \"28\": 1, \"35\": 1, \"87\": 4, \"100\": 1, \"77\": 1, \"0\": 1, \"19\": 6, \"107\": 1, \"124\": 3, \"14\": 1, \"85\": 1, \"122\": 1, \"51\": 1, \"111\": 2, \"60\": 1, \"49\": 1, \"1\": 1, \"97\": 1, \"129\": 1}, \"23\": {\"85\": 5, \"23\": 4, \"66\": 1, \"67\": 2, \"10\": 1, \"61\": 1, \"41\": 1, \"81\": 2, \"63\": 2, \"68\": 1, \"37\": 2, \"49\": 1, \"39\": 2, \"91\": 1, \"98\": 2, \"71\": 2, \"18\": 1, \"124\": 1}, \"32\": {\"57\": 2, \"32\": 18, \"115\": 2, \"11\": 1, \"107\": 2, \"28\": 2, \"79\": 1, \"14\": 2, \"86\": 1, \"105\": 1}, \"39\": {\"123\": 3, \"71\": 1, \"67\": 4, \"118\": 4, \"43\": 1, \"113\": 13, \"126\": 4, \"39\": 39, \"121\": 1, \"81\": 1, \"26\": 6, \"10\": 2, \"117\": 9, \"15\": 2, \"70\": 1, \"1\": 1, \"92\": 2, \"109\": 2, \"0\": 1, \"23\": 1, \"21\": 1, \"18\": 4, \"16\": 1, \"8\": 2, \"33\": 2}, \"129\": {\"28\": 1, \"129\": 13, \"34\": 2, \"23\": 2, \"110\": 2, \"5\": 2, \"14\": 2, \"49\": 3, \"87\": 1, \"19\": 1, \"53\": 1, \"4\": 2}, \"71\": {\"129\": 1, \"70\": 1, \"71\": 52, \"3\": 1, \"5\": 7, \"95\": 2, \"127\": 2, \"7\": 1, \"109\": 1}, \"91\": {\"91\": 9, \"62\": 1, \"124\": 2, \"111\": 2, \"37\": 2, \"128\": 1, \"68\": 2, \"35\": 2, \"7\": 1, \"70\": 1, \"44\": 1}, \"101\": {\"101\": 39, \"58\": 2, \"126\": 1, \"30\": 1, \"12\": 2, \"106\": 2, \"98\": 3, \"113\": 1, \"15\": 1}, \"62\": {\"62\": 99, \"44\": 2, \"29\": 1, \"102\": 2, \"84\": 9, \"90\": 2, \"88\": 1, \"31\": 1, \"26\": 1, \"113\": 1, \"36\": 1, \"93\": 1, \"118\": 1}, \"63\": {\"63\": 14, \"18\": 2}, \"125\": {\"125\": 105, \"73\": 2, \"26\": 1, \"101\": 2, \"15\": 2, \"111\": 5, \"8\": 1, \"72\": 1, \"19\": 1}, \"57\": {\"32\": 1, \"57\": 12, \"50\": 2, \"48\": 1, \"107\": 1, \"14\": 1, \"1\": 2}, \"28\": {\"100\": 4, \"28\": 9, \"65\": 2, \"115\": 1}, \"70\": {\"70\": 18, \"47\": 1, \"123\": 2, \"18\": 2, \"10\": 4, \"129\": 1, \"88\": 4, \"24\": 1, \"77\": 1, \"7\": 1, \"126\": 5, \"110\": 3, \"108\": 4, \"5\": 2, \"30\": 2, \"71\": 1, \"127\": 6, \"4\": 1, \"39\": 1, \"124\": 3, \"61\": 1, \"8\": 4, \"85\": 1, \"114\": 1, \"69\": 1, \"33\": 1}, \"99\": {\"99\": 28, \"57\": 1, \"105\": 1, \"21\": 1, \"104\": 1, \"27\": 1, \"95\": 2, \"58\": 1}, \"121\": {\"121\": 20, \"69\": 1, \"67\": 2, \"117\": 2, \"26\": 4, \"18\": 1, \"6\": 1, \"113\": 1}, \"4\": {\"86\": 2, \"4\": 75, \"103\": 2, \"3\": 2, \"105\": 7, \"95\": 2, \"34\": 2, \"94\": 1, \"114\": 1, \"5\": 2}, \"80\": {\"80\": 11, \"93\": 2, \"96\": 3}, \"51\": {\"97\": 1, \"51\": 10, \"52\": 1, \"106\": 1, \"8\": 1, \"25\": 1, \"0\": 1}, \"3\": {\"86\": 2, \"3\": 87, \"71\": 2, \"5\": 4, \"128\": 2, \"30\": 1, \"78\": 1, \"4\": 1, \"114\": 6, \"70\": 1, \"7\": 3, \"105\": 1, \"98\": 2, \"127\": 1, \"1\": 1, \"8\": 1}, \"9\": {\"9\": 28, \"128\": 2, \"56\": 1, \"95\": 1}, \"53\": {\"53\": 9, \"122\": 2, \"103\": 1, \"115\": 1, \"1\": 2, \"95\": 1, \"57\": 1, \"4\": 1, \"81\": 1, \"40\": 1}, \"30\": {\"97\": 4, \"30\": 55, \"58\": 2, \"122\": 1, \"87\": 1, \"83\": 1, \"15\": 5, \"0\": 6, \"94\": 2, \"108\": 1, \"112\": 1, \"69\": 1, \"88\": 1, \"110\": 1, \"106\": 2}, \"33\": {\"33\": 95, \"64\": 1, \"116\": 1, \"62\": 1, \"102\": 9, \"118\": 1, \"109\": 6, \"117\": 1, \"69\": 4, \"93\": 1, \"26\": 1, \"39\": 1}, \"15\": {\"97\": 4, \"15\": 76, \"94\": 8, \"30\": 6, \"0\": 3, \"125\": 1, \"106\": 4, \"6\": 1, \"88\": 1}, \"97\": {\"30\": 3, \"97\": 13, \"73\": 1, \"83\": 1, \"8\": 1, \"106\": 1}, \"86\": {\"3\": 1, \"86\": 20, \"128\": 1, \"105\": 5, \"81\": 1}, \"20\": {\"20\": 11, \"4\": 2, \"105\": 1, \"95\": 2}, \"66\": {\"9\": 2, \"66\": 12, \"128\": 1, \"3\": 1}, \"10\": {\"10\": 59, \"70\": 2, \"73\": 2, \"34\": 2, \"88\": 3, \"77\": 1, \"124\": 11, \"108\": 10, \"7\": 2, \"85\": 1, \"94\": 1, \"8\": 2, \"98\": 13, \"127\": 5, \"46\": 1, \"112\": 2, \"12\": 2, \"114\": 2, \"109\": 1}, \"29\": {\"29\": 20, \"90\": 2, \"44\": 5, \"87\": 2, \"84\": 2, \"82\": 1}, \"109\": {\"109\": 52, \"69\": 5, \"63\": 1, \"33\": 16, \"11\": 1, \"93\": 11, \"119\": 2, \"89\": 1, \"5\": 1, \"43\": 5, \"118\": 5, \"16\": 1, \"102\": 6, \"39\": 1, \"90\": 1, \"84\": 1, \"13\": 1, \"62\": 1, \"23\": 1, \"113\": 1}, \"52\": {\"51\": 1, \"52\": 15}, \"67\": {\"67\": 14, \"117\": 1, \"121\": 1}, \"83\": {\"83\": 18, \"121\": 1, \"43\": 1, \"72\": 2, \"15\": 2}, \"72\": {\"72\": 26, \"37\": 1, \"4\": 1}, \"90\": {\"90\": 101, \"84\": 11, \"44\": 4, \"16\": 2, \"26\": 2, \"87\": 2, \"11\": 2, \"29\": 1, \"62\": 1}, \"69\": {\"69\": 68, \"89\": 5, \"62\": 2, \"122\": 1, \"102\": 6, \"33\": 2}, \"88\": {\"70\": 3, \"88\": 40, \"78\": 2, \"5\": 8, \"42\": 1, \"124\": 3, \"49\": 3, \"110\": 9, \"7\": 5, \"71\": 1, \"113\": 1, \"87\": 1, \"122\": 2, \"107\": 2, \"108\": 2, \"11\": 2, \"114\": 6, \"3\": 6, \"126\": 1, \"129\": 1, \"34\": 1, \"19\": 1, \"86\": 2, \"85\": 1, \"128\": 1, \"39\": 1, \"1\": 1, \"27\": 1, \"127\": 3, \"36\": 1}, \"115\": {\"115\": 14, \"32\": 1, \"48\": 1}, \"73\": {\"73\": 29, \"116\": 1, \"75\": 1, \"72\": 1, \"88\": 1, \"42\": 1, \"125\": 1, \"27\": 1, \"108\": 1, \"76\": 1, \"10\": 2}, \"34\": {\"129\": 2, \"35\": 1, \"34\": 10, \"103\": 1, \"86\": 1, \"1\": 2, \"122\": 3, \"14\": 1, \"4\": 1, \"111\": 1, \"58\": 1, \"52\": 1, \"20\": 1, \"53\": 1, \"51\": 4, \"73\": 1}, \"25\": {\"25\": 16}, \"44\": {\"44\": 52, \"29\": 4, \"84\": 3, \"90\": 8, \"62\": 5}, \"112\": {\"112\": 12, \"30\": 1, \"59\": 2, \"42\": 1}, \"37\": {\"98\": 1, \"56\": 1, \"37\": 12, \"85\": 2}, \"77\": {\"98\": 2, \"77\": 11, \"128\": 1, \"124\": 2}, \"111\": {\"111\": 106, \"6\": 1, \"58\": 1, \"73\": 2, \"125\": 7, \"127\": 1, \"126\": 1, \"106\": 1, \"98\": 2}, \"119\": {\"119\": 13, \"102\": 1, \"80\": 1, \"89\": 1}, \"56\": {\"56\": 12}, \"5\": {\"5\": 81, \"3\": 5, \"127\": 3, \"9\": 1, \"7\": 14, \"128\": 1, \"71\": 2, \"126\": 1, \"19\": 1, \"124\": 1, \"4\": 1, \"69\": 1}, \"122\": {\"122\": 29, \"4\": 1, \"103\": 2, \"53\": 3, \"129\": 3, \"1\": 5, \"121\": 1, \"45\": 1, \"110\": 4, \"107\": 4, \"57\": 1, \"60\": 2, \"105\": 1, \"126\": 1, \"32\": 1, \"117\": 1}, \"74\": {\"40\": 1, \"74\": 12, \"28\": 1, \"45\": 1, \"116\": 1}, \"11\": {\"79\": 1, \"11\": 58, \"116\": 1, \"17\": 1, \"115\": 1, \"100\": 1, \"19\": 2, \"82\": 1, \"14\": 10, \"16\": 5, \"40\": 8, \"29\": 2, \"87\": 8, \"2\": 1, \"90\": 14, \"93\": 13, \"122\": 1, \"114\": 1, \"84\": 7, \"44\": 1, \"107\": 7, \"39\": 2, \"31\": 1, \"110\": 2, \"102\": 1, \"117\": 1, \"113\": 1}, \"41\": {\"41\": 16}, \"104\": {\"104\": 16}, \"21\": {\"21\": 45, \"101\": 2, \"117\": 1}, \"118\": {\"118\": 48, \"89\": 3, \"6\": 1, \"116\": 1, \"64\": 1, \"69\": 10, \"11\": 2, \"2\": 2, \"43\": 4, \"109\": 3, \"33\": 8, \"62\": 1, \"93\": 1, \"113\": 1, \"92\": 2, \"80\": 1, \"96\": 2, \"102\": 8, \"24\": 1}, \"40\": {\"40\": 115, \"81\": 1, \"45\": 1, \"107\": 1, \"14\": 1, \"62\": 3}, \"6\": {\"12\": 3, \"94\": 1, \"98\": 2, \"25\": 1, \"19\": 1, \"54\": 1, \"6\": 9, \"111\": 4, \"8\": 1, \"36\": 1, \"106\": 1, \"52\": 1, \"97\": 1, \"15\": 3, \"124\": 2}, \"27\": {\"94\": 1, \"15\": 1, \"25\": 4, \"27\": 65, \"54\": 2, \"24\": 3, \"36\": 17, \"61\": 1, \"0\": 2}, \"113\": {\"113\": 85, \"39\": 6, \"117\": 8, \"43\": 2, \"26\": 9, \"109\": 1, \"121\": 2, \"67\": 2, \"92\": 1, \"126\": 2, \"118\": 2}, \"68\": {\"68\": 16}, \"12\": {\"12\": 85, \"19\": 1, \"8\": 3, \"94\": 1, \"108\": 1, \"124\": 7, \"52\": 1, \"98\": 1, \"0\": 1, \"111\": 1}, \"54\": {\"54\": 16}, \"24\": {\"24\": 28, \"54\": 1, \"30\": 2, \"27\": 3, \"36\": 4, \"75\": 2, \"86\": 1, \"101\": 1, \"73\": 2, \"6\": 1, \"18\": 1, \"15\": 2}, \"106\": {\"106\": 78, \"59\": 1, \"124\": 1, \"125\": 5, \"6\": 1, \"0\": 4, \"111\": 1, \"15\": 3, \"87\": 1, \"73\": 2, \"121\": 1, \"97\": 1, \"30\": 1}, \"128\": {\"68\": 1, \"4\": 1, \"77\": 3, \"46\": 2, \"55\": 1, \"12\": 1, \"1\": 1, \"85\": 4, \"124\": 4, \"128\": 4, \"34\": 2, \"91\": 1, \"105\": 2, \"127\": 1, \"122\": 1, \"32\": 3}, \"48\": {\"128\": 1, \"4\": 1, \"116\": 1, \"86\": 4, \"60\": 1, \"82\": 1, \"92\": 1, \"84\": 2, \"95\": 2, \"69\": 2}, \"92\": {\"92\": 24, \"2\": 1, \"118\": 1, \"33\": 1, \"102\": 1, \"26\": 2, \"64\": 2}, \"35\": {\"35\": 8, \"54\": 1, \"6\": 1, \"27\": 1, \"124\": 1}, \"116\": {\"92\": 1, \"22\": 1, \"48\": 1, \"116\": 19, \"44\": 2, \"82\": 3, \"109\": 1}, \"38\": {\"38\": 13, \"13\": 1, \"115\": 2}, \"126\": {\"81\": 6, \"126\": 95, \"39\": 5, \"86\": 2, \"18\": 9, \"71\": 1, \"110\": 1, \"113\": 3, \"17\": 1, \"10\": 1}, \"46\": {\"46\": 15, \"98\": 1}, \"120\": {\"120\": 19, \"118\": 1}, \"7\": {\"7\": 87, \"5\": 8, \"125\": 1, \"71\": 5, \"4\": 4, \"105\": 2, \"3\": 2, \"34\": 2, \"16\": 1}, \"13\": {\"13\": 7, \"120\": 1, \"116\": 1, \"69\": 2, \"70\": 1, \"122\": 1, \"33\": 1, \"118\": 1, \"17\": 1}, \"43\": {\"23\": 3, \"43\": 20, \"118\": 6, \"31\": 1, \"117\": 1, \"109\": 2, \"92\": 4, \"10\": 1, \"96\": 3, \"62\": 3, \"121\": 1, \"113\": 3, \"18\": 1, \"69\": 1, \"83\": 1, \"39\": 2, \"33\": 2, \"126\": 1}, \"93\": {\"93\": 121, \"16\": 4, \"87\": 4, \"11\": 1, \"18\": 1, \"109\": 1}, \"26\": {\"26\": 116, \"126\": 1, \"117\": 11, \"81\": 2, \"109\": 2}, \"76\": {\"76\": 16}, \"59\": {\"59\": 12}, \"65\": {\"65\": 9, \"69\": 1, \"34\": 2}, \"87\": {\"87\": 50, \"84\": 9, \"14\": 2, \"93\": 10, \"60\": 1, \"29\": 4, \"107\": 2, \"16\": 9, \"11\": 10, \"90\": 11, \"40\": 6, \"62\": 2, \"22\": 1, \"31\": 1, \"74\": 1, \"126\": 1}, \"124\": {\"124\": 104, \"77\": 1, \"52\": 1, \"42\": 1, \"98\": 4, \"108\": 2, \"12\": 3, \"10\": 1, \"89\": 1, \"32\": 1, \"91\": 1, \"85\": 2, \"35\": 1, \"26\": 1}, \"84\": {\"84\": 72, \"116\": 1, \"90\": 11, \"44\": 8, \"82\": 1, \"15\": 1, \"16\": 2, \"62\": 4, \"29\": 2, \"31\": 1, \"87\": 3, \"11\": 2}, \"82\": {\"82\": 24, \"84\": 2, \"76\": 2}, \"75\": {\"75\": 16}, \"17\": {\"37\": 1, \"23\": 1, \"67\": 1, \"104\": 1, \"7\": 2, \"64\": 1, \"109\": 1, \"117\": 1, \"17\": 2, \"106\": 1, \"128\": 1, \"89\": 1, \"56\": 1, \"0\": 1}, \"105\": {\"105\": 119, \"114\": 3, \"86\": 1, \"107\": 1}, \"95\": {\"95\": 26, \"3\": 2, \"4\": 1, \"48\": 1, \"16\": 1, \"86\": 1}, \"42\": {\"42\": 11, \"75\": 2, \"73\": 2, \"97\": 1, \"106\": 1, \"58\": 3, \"88\": 1, \"112\": 2, \"124\": 1, \"101\": 1, \"85\": 3}, \"55\": {\"55\": 14, \"103\": 1, \"115\": 1}, \"16\": {\"16\": 84, \"14\": 1, \"29\": 2, \"90\": 8, \"44\": 3, \"87\": 4, \"84\": 4, \"93\": 6, \"121\": 1, \"23\": 1, \"11\": 2}, \"50\": {\"50\": 13, \"57\": 1, \"1\": 1, \"107\": 1}, \"96\": {\"96\": 16, \"44\": 2, \"118\": 2}, \"45\": {\"45\": 14, \"107\": 2}, \"36\": {\"36\": 100, \"24\": 2, \"27\": 9, \"15\": 1, \"54\": 2, \"125\": 2, \"94\": 3, \"30\": 1}, \"114\": {\"114\": 100, \"101\": 1, \"1\": 4, \"3\": 3, \"0\": 1, \"105\": 6, \"124\": 1, \"53\": 2, \"4\": 2, \"107\": 1, \"18\": 1, \"106\": 1, \"117\": 1}}, \"Wisig_4\": {\"113\": {\"35\": 2, \"18\": 3, \"113\": 83, \"61\": 1, \"2\": 2, \"121\": 1, \"16\": 5, \"117\": 9, \"26\": 7, \"126\": 7, \"81\": 1, \"63\": 1, \"27\": 1, \"106\": 1}, \"85\": {\"55\": 2, \"85\": 23, \"36\": 1, \"30\": 1, \"46\": 1}, \"34\": {\"83\": 2, \"111\": 3, \"71\": 3, \"50\": 2, \"60\": 1, \"98\": 1, \"34\": 4, \"1\": 1, \"75\": 1, \"106\": 1, \"47\": 2, \"114\": 1, \"42\": 3, \"46\": 1, \"124\": 2, \"58\": 2, \"27\": 1, \"86\": 1}, \"55\": {\"55\": 11, \"100\": 1, \"95\": 1, \"4\": 2, \"124\": 1}, \"42\": {\"51\": 2, \"71\": 1, \"42\": 8, \"111\": 5, \"124\": 1, \"75\": 2, \"129\": 1, \"8\": 1, \"100\": 1, \"47\": 1, \"83\": 1, \"0\": 2, \"112\": 1, \"46\": 1}, \"13\": {\"13\": 15, \"48\": 1}, \"69\": {\"13\": 2, \"69\": 87, \"84\": 8, \"39\": 1, \"7\": 1, \"90\": 8, \"102\": 6, \"8\": 1, \"26\": 1, \"57\": 1, \"44\": 2, \"116\": 1, \"118\": 2, \"21\": 1, \"40\": 1, \"16\": 1}, \"35\": {\"35\": 11, \"123\": 1}, \"83\": {\"83\": 19, \"21\": 1, \"71\": 4, \"34\": 1, \"128\": 2, \"88\": 1}, \"51\": {\"51\": 6, \"69\": 1, \"62\": 2, \"1\": 1, \"53\": 1, \"39\": 1, \"68\": 2, \"21\": 1, \"0\": 1}, \"72\": {\"72\": 21, \"85\": 1, \"60\": 1, \"115\": 1, \"32\": 1, \"110\": 1, \"17\": 1, \"45\": 1, \"5\": 1, \"87\": 1, \"40\": 1, \"11\": 1}, \"24\": {\"24\": 65, \"30\": 7, \"10\": 13, \"21\": 1, \"106\": 4, \"94\": 13, \"15\": 2, \"36\": 8, \"117\": 1, \"54\": 1, \"75\": 2, \"97\": 1, \"27\": 2}, \"53\": {\"53\": 12, \"92\": 1, \"101\": 1, \"111\": 2}, \"8\": {\"8\": 88, \"106\": 16, \"97\": 1, \"9\": 1, \"12\": 8, \"30\": 1, \"112\": 1, \"27\": 5, \"110\": 1, \"125\": 1, \"101\": 6, \"0\": 1, \"15\": 1, \"127\": 1, \"111\": 4, \"18\": 2, \"26\": 3, \"58\": 1, \"47\": 1, \"10\": 1}, \"49\": {\"72\": 3, \"22\": 2, \"8\": 3, \"32\": 1, \"5\": 3, \"124\": 1, \"82\": 3, \"12\": 2, \"106\": 1, \"3\": 1, \"89\": 2, \"111\": 2, \"122\": 2, \"129\": 1, \"110\": 1, \"49\": 3, \"127\": 1}, \"21\": {\"21\": 37, \"23\": 1, \"61\": 1, \"126\": 1}, \"18\": {\"18\": 101, \"84\": 2, \"63\": 2, \"26\": 10, \"24\": 1, \"16\": 2, \"108\": 1, \"39\": 1}, \"114\": {\"114\": 85, \"83\": 1, \"46\": 2, \"85\": 1, \"17\": 1, \"71\": 10, \"1\": 3, \"4\": 5, \"113\": 1, \"7\": 4, \"3\": 5}, \"58\": {\"58\": 13, \"2\": 1, \"12\": 2}, \"56\": {\"56\": 10, \"120\": 1, \"128\": 1}, \"80\": {\"80\": 16}, \"11\": {\"108\": 1, \"32\": 2, \"82\": 1, \"45\": 1, \"11\": 42, \"3\": 8, \"20\": 1, \"99\": 2, \"19\": 2, \"50\": 1, \"110\": 5, \"5\": 18, \"87\": 11, \"93\": 9, \"105\": 3, \"78\": 1, \"107\": 16, \"40\": 10, \"43\": 3, \"33\": 3, \"7\": 5, \"2\": 1, \"73\": 2, \"49\": 1, \"14\": 5}, \"15\": {\"15\": 106, \"54\": 1, \"10\": 2, \"30\": 4, \"105\": 1, \"106\": 1, \"24\": 1, \"8\": 5, \"40\": 1, \"6\": 1, \"12\": 2, \"94\": 1, \"69\": 1, \"125\": 1}, \"50\": {\"50\": 11, \"40\": 1, \"115\": 4}, \"111\": {\"111\": 125, \"101\": 3, \"29\": 2, \"0\": 1, \"12\": 3, \"106\": 1, \"98\": 2, \"26\": 1}, \"108\": {\"108\": 23, \"20\": 4, \"49\": 2, \"129\": 1, \"85\": 1, \"93\": 5, \"88\": 7, \"70\": 2, \"71\": 2, \"98\": 1, \"110\": 2, \"14\": 4, \"11\": 4, \"109\": 1, \"3\": 4, \"27\": 1, \"5\": 7, \"7\": 2, \"127\": 2, \"24\": 1, \"73\": 2, \"119\": 1, \"18\": 1, \"10\": 1, \"79\": 1, \"106\": 1, \"39\": 1, \"87\": 2, \"43\": 1, \"1\": 1, \"4\": 1, \"114\": 1, \"118\": 1, \"8\": 1}, \"104\": {\"104\": 15, \"28\": 1}, \"32\": {\"32\": 14, \"107\": 2, \"20\": 1, \"17\": 1, \"105\": 1, \"7\": 1, \"83\": 1, \"89\": 1, \"40\": 1, \"99\": 1, \"66\": 1, \"11\": 2, \"62\": 1}, \"68\": {\"111\": 3, \"68\": 12, \"51\": 1}, \"73\": {\"108\": 1, \"11\": 1, \"73\": 18, \"7\": 1, \"79\": 1, \"14\": 2}, \"92\": {\"92\": 22, \"96\": 1, \"44\": 1, \"102\": 2, \"118\": 2}, \"57\": {\"57\": 12, \"121\": 1, \"69\": 3}, \"40\": {\"50\": 2, \"40\": 116, \"45\": 2, \"99\": 2, \"108\": 1, \"18\": 1, \"107\": 4, \"87\": 2, \"126\": 2, \"72\": 2, \"11\": 2}, \"71\": {\"71\": 76, \"114\": 12, \"4\": 6, \"3\": 1, \"98\": 1, \"88\": 2, \"10\": 1, \"105\": 1, \"128\": 1, \"1\": 1, \"113\": 1, \"11\": 1}, \"121\": {\"57\": 1, \"121\": 8, \"38\": 2, \"117\": 1, \"21\": 1, \"90\": 4, \"113\": 1, \"69\": 1, \"39\": 1, \"26\": 2, \"81\": 2, \"44\": 2, \"48\": 1, \"84\": 2, \"67\": 1, \"18\": 2}, \"62\": {\"62\": 24, \"118\": 1, \"102\": 6, \"2\": 2, \"44\": 5, \"26\": 1, \"96\": 2, \"22\": 2, \"84\": 1, \"61\": 2, \"116\": 2, \"90\": 4, \"69\": 1, \"66\": 2, \"18\": 1, \"109\": 1, \"106\": 1, \"39\": 1, \"21\": 1}, \"39\": {\"39\": 52, \"109\": 6, \"88\": 1, \"126\": 4, \"102\": 1, \"118\": 1, \"26\": 5, \"113\": 9, \"18\": 4, \"117\": 6, \"7\": 1, \"108\": 2, \"15\": 2, \"16\": 2, \"123\": 1, \"84\": 1, \"24\": 1, \"94\": 1}, \"107\": {\"107\": 116, \"44\": 1, \"105\": 9, \"40\": 6, \"1\": 1, \"7\": 1, \"3\": 1, \"28\": 1, \"90\": 1, \"87\": 3, \"11\": 2, \"114\": 2}, \"60\": {\"129\": 2, \"84\": 1, \"60\": 2, \"83\": 1, \"18\": 1, \"22\": 3, \"27\": 1, \"95\": 2, \"71\": 1, \"65\": 1, \"110\": 1, \"98\": 1, \"70\": 2, \"87\": 2, \"74\": 2, \"123\": 1, \"55\": 1, \"32\": 1, \"85\": 1, \"79\": 1, \"122\": 1, \"46\": 1, \"82\": 1, \"62\": 1}, \"129\": {\"0\": 3, \"11\": 1, \"129\": 8, \"7\": 1, \"112\": 1, \"4\": 1, \"19\": 1, \"43\": 1, \"52\": 2, \"5\": 1, \"95\": 3, \"75\": 1, \"49\": 2, \"127\": 2}, \"84\": {\"84\": 99, \"69\": 13, \"90\": 2, \"65\": 2, \"95\": 1, \"113\": 1, \"88\": 1, \"102\": 2, \"106\": 2, \"121\": 1, \"38\": 1, \"108\": 1, \"44\": 1, \"10\": 1, \"11\": 2, \"16\": 2}, \"106\": {\"106\": 81, \"12\": 7, \"113\": 1, \"8\": 6, \"125\": 9, \"101\": 2, \"111\": 7, \"27\": 1, \"58\": 1, \"94\": 1}, \"87\": {\"60\": 2, \"87\": 40, \"107\": 15, \"115\": 2, \"5\": 12, \"11\": 10, \"105\": 11, \"40\": 10, \"14\": 5, \"93\": 8, \"3\": 5, \"7\": 3, \"19\": 1, \"108\": 1, \"110\": 6, \"70\": 1}, \"110\": {\"110\": 48, \"11\": 8, \"79\": 1, \"5\": 9, \"78\": 1, \"93\": 17, \"113\": 1, \"122\": 2, \"24\": 1, \"14\": 1, \"36\": 1, \"129\": 1, \"43\": 2, \"16\": 1}, \"118\": {\"118\": 54, \"69\": 3, \"123\": 1, \"102\": 13, \"96\": 1, \"119\": 1, \"57\": 2, \"5\": 2, \"74\": 2, \"122\": 5, \"116\": 1, \"44\": 2, \"43\": 3, \"33\": 8, \"90\": 4, \"22\": 1, \"109\": 4, \"94\": 1, \"40\": 1, \"110\": 1, \"107\": 1, \"11\": 1}, \"64\": {\"64\": 15, \"106\": 1}, \"82\": {\"129\": 1, \"82\": 20, \"89\": 1, \"43\": 1, \"14\": 1, \"23\": 2, \"105\": 1, \"40\": 2, \"72\": 1, \"99\": 2}, \"7\": {\"7\": 65, \"119\": 1, \"11\": 3, \"99\": 1, \"1\": 4, \"105\": 7, \"3\": 15, \"78\": 1, \"14\": 7, \"107\": 3, \"5\": 1, \"87\": 2, \"89\": 2, \"32\": 3, \"26\": 1, \"19\": 2, \"40\": 2, \"101\": 1, \"10\": 1, \"126\": 1, \"24\": 1}, \"0\": {\"0\": 59, \"8\": 5, \"29\": 2, \"91\": 1, \"12\": 10, \"101\": 18, \"70\": 1, \"88\": 1, \"126\": 1, \"98\": 3, \"111\": 6, \"94\": 1, \"93\": 1, \"112\": 2, \"21\": 2, \"127\": 1, \"125\": 2}, \"41\": {\"41\": 9, \"102\": 1, \"47\": 1, \"95\": 1, \"120\": 2, \"4\": 1, \"98\": 1}, \"102\": {\"102\": 114, \"44\": 4, \"69\": 4, \"43\": 2, \"127\": 1, \"2\": 1, \"62\": 2, \"107\": 2}, \"89\": {\"89\": 19, \"82\": 1, \"113\": 1, \"7\": 4, \"40\": 1, \"55\": 1, \"11\": 2, \"1\": 1, \"3\": 2}, \"26\": {\"18\": 12, \"113\": 2, \"26\": 102, \"61\": 1, \"69\": 1, \"123\": 2, \"8\": 1, \"117\": 5, \"126\": 2}, \"103\": {\"68\": 1, \"103\": 9, \"0\": 1, \"106\": 2, \"127\": 1, \"12\": 1, \"29\": 1}, \"90\": {\"90\": 99, \"102\": 2, \"66\": 2, \"44\": 4, \"43\": 1, \"5\": 1, \"117\": 1, \"69\": 5, \"63\": 1, \"62\": 1, \"113\": 1}, \"14\": {\"14\": 80, \"11\": 11, \"60\": 1, \"113\": 1, \"79\": 1, \"87\": 2, \"39\": 1, \"107\": 2, \"3\": 6, \"88\": 1, \"109\": 1, \"7\": 2, \"5\": 2, \"105\": 1}, \"9\": {\"9\": 28}, \"5\": {\"14\": 2, \"5\": 116, \"129\": 1, \"87\": 4, \"11\": 6, \"113\": 1, \"40\": 2, \"110\": 4}, \"22\": {\"22\": 12, \"19\": 1, \"118\": 1, \"107\": 2}, \"2\": {\"61\": 1, \"2\": 13, \"96\": 3, \"117\": 2, \"16\": 2, \"121\": 2, \"44\": 2, \"26\": 2, \"80\": 1}, \"77\": {\"77\": 12}, \"59\": {\"77\": 2, \"59\": 6, \"109\": 1, \"88\": 1, \"111\": 2}, \"127\": {\"127\": 84, \"52\": 1, \"113\": 2, \"98\": 4, \"8\": 1, \"111\": 2, \"0\": 2, \"124\": 1, \"103\": 2, \"18\": 1, \"10\": 1, \"4\": 1}, \"61\": {\"61\": 14, \"35\": 2}, \"17\": {\"17\": 17, \"81\": 1, \"11\": 2}, \"45\": {\"45\": 15, \"118\": 1}, \"19\": {\"32\": 2, \"19\": 1, \"95\": 1, \"0\": 2, \"14\": 1, \"43\": 4, \"106\": 1, \"109\": 2, \"122\": 1, \"8\": 2, \"52\": 1, \"5\": 1, \"20\": 1, \"79\": 1, \"53\": 1, \"33\": 2, \"49\": 1, \"124\": 1, \"127\": 1, \"87\": 1}, \"52\": {\"52\": 12, \"53\": 1, \"74\": 1, \"42\": 1, \"103\": 2, \"127\": 1, \"100\": 2}, \"123\": {\"8\": 1, \"123\": 10, \"117\": 2, \"54\": 1, \"75\": 1, \"26\": 1}, \"20\": {\"20\": 8, \"11\": 4, \"76\": 1, \"89\": 1, \"96\": 1, \"14\": 1}, \"112\": {\"112\": 12, \"8\": 1, \"71\": 2, \"61\": 1}, \"37\": {\"37\": 16}, \"29\": {\"29\": 31, \"91\": 1}, \"128\": {\"100\": 1, \"55\": 1, \"95\": 2, \"91\": 2, \"128\": 5, \"127\": 2, \"11\": 1, \"82\": 1, \"115\": 1, \"14\": 1, \"32\": 1, \"29\": 2, \"71\": 1, \"70\": 1, \"129\": 1, \"98\": 1}, \"100\": {\"100\": 13, \"128\": 2, \"11\": 1, \"124\": 2, \"14\": 1, \"56\": 1}, \"67\": {\"67\": 3, \"113\": 1, \"117\": 1, \"102\": 1, \"39\": 1, \"126\": 1, \"116\": 1, \"2\": 1, \"33\": 2, \"13\": 2, \"18\": 2}, \"12\": {\"12\": 66, \"113\": 1, \"91\": 1, \"106\": 3, \"34\": 1, \"8\": 4, \"111\": 7, \"99\": 1, \"27\": 1, \"101\": 6, \"29\": 2, \"51\": 1, \"127\": 1, \"0\": 2, \"16\": 1, \"98\": 1, \"124\": 1}, \"101\": {\"29\": 1, \"101\": 87, \"111\": 17, \"12\": 5, \"0\": 6, \"93\": 1, \"8\": 3, \"26\": 1, \"124\": 1, \"91\": 1, \"44\": 1, \"1\": 1, \"106\": 2, \"113\": 1}, \"76\": {\"76\": 15, \"107\": 1}, \"70\": {\"86\": 4, \"22\": 1, \"128\": 1, \"70\": 47, \"91\": 1, \"23\": 2, \"39\": 1, \"101\": 4, \"124\": 9, \"98\": 10, \"27\": 3, \"108\": 3, \"1\": 3, \"88\": 11, \"10\": 1, \"0\": 3, \"94\": 1, \"71\": 1, \"3\": 1, \"103\": 1, \"127\": 5, \"34\": 1, \"53\": 2, \"111\": 2, \"52\": 1, \"8\": 2, \"113\": 1, \"118\": 2}, \"31\": {\"39\": 1, \"118\": 1, \"31\": 9, \"45\": 2, \"33\": 1, \"43\": 1, \"44\": 1}, \"86\": {\"86\": 23, \"128\": 1, \"4\": 2, \"114\": 2}, \"88\": {\"39\": 2, \"86\": 2, \"0\": 3, \"19\": 1, \"88\": 45, \"114\": 7, \"93\": 2, \"42\": 1, \"95\": 1, \"3\": 4, \"101\": 4, \"124\": 9, \"4\": 5, \"98\": 3, \"1\": 4, \"108\": 1, \"71\": 8, \"94\": 2, \"69\": 2, \"127\": 1, \"40\": 3, \"70\": 3, \"112\": 2, \"12\": 1, \"111\": 1, \"49\": 1, \"82\": 1, \"8\": 1, \"83\": 2, \"109\": 1, \"60\": 1, \"10\": 1, \"78\": 1, \"24\": 1, \"106\": 1, \"7\": 1, \"16\": 1, \"11\": 2}, \"3\": {\"3\": 76, \"20\": 2, \"14\": 10, \"19\": 1, \"73\": 3, \"79\": 4, \"7\": 7, \"129\": 1, \"49\": 1, \"71\": 2, \"107\": 3, \"108\": 1, \"110\": 1, \"1\": 3, \"87\": 3, \"11\": 3, \"32\": 1, \"52\": 1, \"105\": 1, \"5\": 2}, \"117\": {\"117\": 108, \"63\": 1, \"10\": 1, \"114\": 1, \"16\": 4, \"121\": 2, \"126\": 1, \"26\": 2}, \"30\": {\"30\": 49, \"47\": 2, \"78\": 1, \"15\": 7, \"90\": 1, \"36\": 1, \"27\": 1, \"10\": 5, \"54\": 1, \"9\": 1, \"58\": 1, \"18\": 1, \"94\": 1, \"6\": 2, \"125\": 1, \"117\": 1}, \"96\": {\"96\": 10, \"44\": 3, \"118\": 1, \"2\": 1, \"62\": 3, \"84\": 2}, \"27\": {\"27\": 50, \"92\": 1, \"103\": 1, \"106\": 9, \"88\": 1, \"8\": 10, \"125\": 2, \"12\": 1, \"101\": 1, \"24\": 4, \"111\": 1, \"108\": 1, \"94\": 3, \"113\": 1, \"0\": 3, \"21\": 1, \"34\": 1, \"9\": 1, \"30\": 3, \"110\": 1, \"97\": 1, \"70\": 1, \"39\": 1, \"15\": 1}, \"122\": {\"122\": 48, \"74\": 2, \"26\": 1, \"43\": 4, \"48\": 1, \"33\": 6, \"118\": 5, \"110\": 1, \"39\": 1, \"93\": 2, \"90\": 2, \"17\": 2, \"84\": 2, \"79\": 1, \"116\": 1, \"62\": 1, \"44\": 1, \"99\": 1, \"16\": 1, \"109\": 1}, \"120\": {\"120\": 16, \"21\": 1, \"56\": 1, \"0\": 1, \"7\": 1}, \"44\": {\"96\": 2, \"44\": 43, \"118\": 3, \"102\": 4, \"90\": 1, \"39\": 1, \"109\": 2, \"38\": 2, \"62\": 1, \"84\": 3, \"117\": 1, \"16\": 1}, \"79\": {\"79\": 9, \"87\": 2, \"60\": 1, \"3\": 2, \"122\": 1, \"14\": 1}, \"105\": {\"105\": 76, \"40\": 2, \"30\": 1, \"14\": 3, \"78\": 2, \"107\": 5, \"88\": 1, \"87\": 1, \"7\": 1, \"119\": 1, \"115\": 1, \"89\": 1, \"73\": 1, \"64\": 1, \"11\": 1, \"81\": 1, \"24\": 1}, \"95\": {\"95\": 23, \"85\": 1, \"98\": 3, \"127\": 1, \"21\": 1, \"114\": 2, \"27\": 1}, \"109\": {\"109\": 45, \"96\": 2, \"62\": 3, \"72\": 1, \"66\": 1, \"116\": 4, \"93\": 2, \"44\": 9, \"90\": 7, \"43\": 2, \"5\": 3, \"11\": 1, \"122\": 3, \"102\": 9, \"33\": 5, \"84\": 3, \"82\": 1, \"129\": 1, \"126\": 1, \"118\": 5, \"92\": 1, \"110\": 3, \"78\": 1, \"69\": 2, \"107\": 1}, \"16\": {\"67\": 2, \"16\": 94, \"88\": 1, \"84\": 3, \"113\": 3, \"114\": 1, \"126\": 3, \"90\": 1, \"121\": 2, \"48\": 1, \"26\": 2, \"69\": 2, \"18\": 2, \"117\": 1}, \"36\": {\"36\": 76, \"113\": 1, \"6\": 2, \"15\": 2, \"27\": 2, \"24\": 9, \"10\": 3, \"108\": 1, \"39\": 1, \"26\": 1}, \"125\": {\"125\": 125, \"106\": 2, \"117\": 1, \"101\": 2, \"1\": 2, \"8\": 2, \"111\": 2}, \"97\": {\"36\": 2, \"112\": 1, \"97\": 10, \"10\": 2, \"25\": 1, \"18\": 1, \"24\": 1, \"1\": 2}, \"91\": {\"111\": 2, \"91\": 10, \"15\": 1, \"103\": 1, \"127\": 3, \"34\": 1, \"75\": 1, \"41\": 1, \"42\": 2, \"77\": 1, \"47\": 1}, \"28\": {\"28\": 18, \"128\": 1, \"7\": 1}, \"81\": {\"123\": 4, \"81\": 25, \"113\": 2, \"39\": 1, \"26\": 1, \"126\": 1, \"117\": 2}, \"126\": {\"123\": 2, \"39\": 7, \"126\": 56, \"117\": 16, \"78\": 1, \"84\": 1, \"27\": 1, \"113\": 13, \"26\": 8, \"30\": 1, \"105\": 1, \"18\": 6, \"127\": 1, \"16\": 1, \"65\": 1, \"38\": 1, \"61\": 1, \"88\": 2, \"12\": 1, \"24\": 1}, \"4\": {\"42\": 2, \"4\": 82, \"114\": 6, \"27\": 1, \"124\": 4, \"39\": 1, \"10\": 1, \"18\": 1, \"120\": 1, \"46\": 1, \"71\": 1, \"110\": 1, \"69\": 1, \"1\": 1}, \"10\": {\"30\": 10, \"10\": 57, \"36\": 6, \"15\": 17, \"25\": 1, \"6\": 1, \"65\": 1, \"8\": 3, \"94\": 6, \"27\": 1, \"4\": 1, \"88\": 1, \"24\": 11, \"106\": 1, \"70\": 3, \"0\": 1, \"52\": 1, \"97\": 1, \"39\": 1}, \"63\": {\"63\": 16}, \"43\": {\"72\": 3, \"74\": 2, \"22\": 1, \"20\": 1, \"118\": 5, \"43\": 46, \"78\": 2, \"33\": 13, \"40\": 3, \"5\": 6, \"122\": 7, \"109\": 6, \"93\": 7, \"117\": 1, \"70\": 1, \"107\": 1, \"87\": 2, \"90\": 1, \"14\": 2, \"105\": 1, \"110\": 3, \"102\": 1, \"11\": 3}, \"116\": {\"116\": 15, \"69\": 2, \"33\": 1, \"102\": 3, \"92\": 1, \"99\": 1, \"44\": 1, \"13\": 1, \"118\": 1, \"90\": 2}, \"1\": {\"1\": 72, \"49\": 1, \"23\": 2, \"99\": 1, \"10\": 1, \"8\": 1, \"14\": 1, \"7\": 4, \"107\": 4, \"71\": 3, \"3\": 3, \"93\": 1, \"4\": 1, \"17\": 2, \"129\": 2, \"19\": 1, \"108\": 1, \"70\": 1, \"105\": 1, \"40\": 1, \"101\": 1, \"114\": 2, \"36\": 1}, \"94\": {\"54\": 2, \"10\": 3, \"78\": 1, \"94\": 59, \"84\": 1, \"15\": 4, \"39\": 1, \"30\": 5, \"106\": 2, \"126\": 1, \"24\": 6, \"36\": 2, \"125\": 1}, \"38\": {\"84\": 4, \"38\": 9, \"117\": 1, \"62\": 1, \"44\": 1}, \"54\": {\"54\": 16}, \"74\": {\"74\": 11, \"5\": 2, \"62\": 1, \"33\": 2}, \"25\": {\"25\": 16}, \"75\": {\"75\": 15, \"125\": 1}, \"119\": {\"119\": 11, \"114\": 1, \"28\": 1, \"17\": 1, \"50\": 1, \"123\": 1}, \"46\": {\"46\": 10, \"128\": 1, \"86\": 3, \"114\": 2, \"7\": 1, \"79\": 1, \"4\": 2}, \"23\": {\"23\": 2, \"15\": 1, \"126\": 1, \"42\": 1, \"113\": 1, \"102\": 1, \"39\": 1, \"86\": 3, \"81\": 1, \"109\": 1, \"18\": 1, \"75\": 1, \"34\": 1}, \"99\": {\"99\": 34, \"40\": 3, \"64\": 2, \"107\": 1}, \"33\": {\"33\": 106, \"118\": 3, \"90\": 2, \"14\": 1, \"22\": 2, \"80\": 1, \"24\": 1, \"107\": 2}, \"47\": {\"47\": 11, \"30\": 1}, \"115\": {\"87\": 2, \"115\": 8, \"72\": 2, \"107\": 2, \"14\": 1, \"105\": 1}, \"6\": {\"91\": 1, \"54\": 1, \"25\": 1, \"120\": 1, \"58\": 2, \"6\": 6, \"12\": 2, \"75\": 2, \"15\": 2, \"0\": 1, \"42\": 2, \"29\": 1, \"106\": 1, \"27\": 1}, \"65\": {\"65\": 9, \"18\": 1, \"26\": 2}, \"66\": {\"66\": 7, \"84\": 2, \"90\": 2, \"102\": 1, \"62\": 2, \"38\": 2}, \"78\": {\"32\": 2, \"8\": 1, \"78\": 6, \"89\": 1, \"95\": 2, \"1\": 3, \"87\": 3, \"127\": 1, \"82\": 1, \"108\": 2, \"70\": 2, \"88\": 3, \"107\": 1, \"3\": 1, \"49\": 1, \"14\": 1, \"109\": 1, \"122\": 2, \"5\": 1, \"105\": 1}, \"98\": {\"34\": 2, \"98\": 97, \"127\": 6, \"124\": 4, \"114\": 2, \"111\": 2, \"0\": 1, \"70\": 2}, \"93\": {\"93\": 101, \"110\": 5, \"5\": 6, \"43\": 2, \"69\": 1, \"14\": 1}, \"48\": {\"48\": 13, \"44\": 2, \"50\": 1}, \"124\": {\"124\": 106, \"98\": 4, \"4\": 3, \"24\": 1}}, \"Wisig_2\": {\"115\": {\"115\": 12}, \"34\": {\"34\": 25, \"114\": 1, \"86\": 1, \"124\": 1, \"35\": 1, \"12\": 2, \"122\": 1}, \"97\": {\"125\": 1, \"97\": 10, \"127\": 1, \"100\": 1, \"30\": 1, \"77\": 2, \"0\": 1, \"94\": 1, \"6\": 1, \"101\": 1}, \"100\": {\"100\": 16}, \"129\": {\"129\": 22, \"47\": 1, \"49\": 1, \"124\": 1, \"123\": 3, \"10\": 1, \"19\": 1, \"122\": 1, \"3\": 1}, \"90\": {\"90\": 137, \"102\": 1, \"33\": 1, \"87\": 1, \"84\": 1, \"69\": 1}, \"125\": {\"125\": 124, \"107\": 2, \"30\": 1, \"108\": 2, \"2\": 1, \"101\": 2}, \"7\": {\"7\": 84, \"32\": 1, \"10\": 2, \"95\": 1, \"110\": 5, \"71\": 5, \"5\": 10, \"107\": 6, \"4\": 3, \"127\": 2, \"3\": 3, \"18\": 1, \"122\": 1, \"117\": 1, \"47\": 1, \"24\": 1, \"85\": 1}, \"92\": {\"80\": 1, \"33\": 1, \"92\": 23, \"82\": 1, \"48\": 1, \"67\": 1}, \"114\": {\"114\": 104, \"34\": 1, \"39\": 1, \"86\": 2, \"4\": 2, \"71\": 2, \"7\": 2, \"122\": 2}, \"80\": {\"80\": 14, \"43\": 1, \"26\": 1}, \"16\": {\"16\": 83, \"93\": 5, \"118\": 3, \"87\": 6, \"109\": 1, \"24\": 1, \"62\": 1, \"33\": 12, \"84\": 2, \"70\": 1, \"57\": 1, \"96\": 2, \"90\": 3, \"88\": 1}, \"69\": {\"69\": 103, \"113\": 1, \"18\": 2, \"39\": 2, \"84\": 2, \"26\": 2, \"109\": 1, \"90\": 1, \"70\": 2}, \"102\": {\"102\": 109, \"90\": 2, \"72\": 3}, \"33\": {\"33\": 112, \"84\": 3, \"62\": 11, \"87\": 1, \"119\": 1, \"118\": 1, \"90\": 1}, \"17\": {\"34\": 2, \"17\": 11, \"54\": 1, \"2\": 1, \"41\": 1}, \"27\": {\"27\": 44, \"25\": 1, \"36\": 12, \"24\": 2, \"126\": 1, \"94\": 1, \"9\": 2, \"15\": 4, \"87\": 1}, \"117\": {\"117\": 82, \"12\": 1, \"18\": 13, \"113\": 2, \"65\": 1, \"26\": 4, \"120\": 1, \"102\": 2}, \"14\": {\"14\": 38, \"115\": 1, \"107\": 1, \"78\": 1, \"10\": 1, \"40\": 1, \"129\": 1, \"96\": 1, \"58\": 1, \"21\": 1, \"105\": 1}, \"86\": {\"86\": 32}, \"0\": {\"0\": 90, \"21\": 1, \"6\": 1, \"106\": 4, \"101\": 3, \"70\": 1, \"127\": 1, \"97\": 2, \"11\": 1, \"8\": 3, \"30\": 5, \"111\": 2, \"94\": 1, \"108\": 1}, \"62\": {\"62\": 111, \"82\": 2, \"33\": 4, \"102\": 2, \"83\": 1, \"43\": 4, \"1\": 3, \"84\": 6, \"90\": 1, \"46\": 2, \"0\": 1, \"24\": 1}, \"39\": {\"39\": 45, \"81\": 1, \"78\": 2, \"110\": 1, \"26\": 13, \"118\": 1, \"117\": 3, \"69\": 5, \"11\": 1, \"2\": 3, \"94\": 2, \"89\": 1, \"87\": 1, \"113\": 1, \"18\": 6, \"16\": 2, \"7\": 2, \"109\": 8, \"88\": 3, \"93\": 1, \"70\": 2, \"121\": 2, \"120\": 1, \"31\": 1, \"90\": 2, \"102\": 1, \"3\": 1}, \"19\": {\"44\": 4, \"22\": 1, \"73\": 1, \"19\": 6, \"3\": 1, \"62\": 1, \"4\": 3, \"1\": 3, \"35\": 1, \"71\": 1, \"122\": 1, \"115\": 1, \"42\": 1, \"5\": 1, \"43\": 1, \"10\": 1}, \"44\": {\"44\": 99, \"43\": 1}, \"104\": {\"86\": 4, \"17\": 4, \"104\": 7, \"66\": 2, \"28\": 1, \"32\": 1, \"54\": 1}, \"3\": {\"19\": 4, \"3\": 101, \"71\": 1, \"73\": 1, \"107\": 2, \"7\": 1, \"122\": 6, \"93\": 1, \"87\": 1, \"24\": 1, \"26\": 1, \"105\": 1, \"21\": 1, \"36\": 1, \"5\": 5, \"1\": 2}, \"10\": {\"19\": 3, \"10\": 19, \"53\": 1, \"74\": 1, \"5\": 2, \"32\": 2, \"112\": 2, \"11\": 1, \"3\": 6, \"73\": 1, \"7\": 5, \"108\": 1, \"129\": 1, \"71\": 1, \"126\": 5, \"107\": 2, \"42\": 1, \"18\": 2, \"21\": 1, \"122\": 2, \"4\": 1}, \"61\": {\"76\": 2, \"61\": 8, \"51\": 1, \"70\": 1, \"64\": 1, \"74\": 1, \"45\": 1, \"50\": 2, \"58\": 2, \"22\": 1}, \"111\": {\"103\": 2, \"111\": 109, \"125\": 1, \"127\": 2}, \"68\": {\"98\": 2, \"68\": 9, \"42\": 1, \"86\": 4}, \"101\": {\"101\": 135, \"21\": 1, \"94\": 1, \"106\": 4, \"15\": 1, \"71\": 1, \"30\": 1}, \"36\": {\"36\": 105, \"121\": 1, \"27\": 4, \"18\": 2, \"24\": 4, \"30\": 1, \"117\": 2, \"16\": 1, \"9\": 2, \"101\": 2, \"15\": 2, \"4\": 1, \"109\": 1}, \"120\": {\"120\": 16, \"117\": 1, \"26\": 1, \"65\": 2}, \"103\": {\"103\": 12, \"54\": 2, \"111\": 2}, \"47\": {\"47\": 10, \"129\": 2}, \"98\": {\"98\": 100, \"34\": 1, \"35\": 1, \"124\": 3, \"29\": 4, \"11\": 1, \"8\": 1, \"127\": 2, \"12\": 1, \"71\": 1, \"102\": 1, \"114\": 2, \"129\": 1, \"122\": 1}, \"76\": {\"76\": 15, \"105\": 1}, \"88\": {\"61\": 1, \"93\": 14, \"88\": 38, \"84\": 1, \"43\": 8, \"62\": 4, \"19\": 1, \"14\": 1, \"18\": 1, \"22\": 1, \"1\": 2, \"94\": 1, \"11\": 1, \"83\": 6, \"109\": 11, \"118\": 4, \"78\": 1, \"23\": 2, \"16\": 7, \"40\": 1, \"44\": 1, \"70\": 8, \"87\": 3, \"33\": 1, \"90\": 1, \"126\": 2, \"107\": 1, \"3\": 1}, \"93\": {\"93\": 104, \"96\": 3, \"109\": 4, \"118\": 2, \"16\": 11, \"14\": 1, \"87\": 5, \"24\": 1, \"62\": 3, \"78\": 1, \"84\": 2, \"33\": 1}, \"23\": {\"120\": 1, \"86\": 1, \"11\": 3, \"91\": 1, \"99\": 4, \"71\": 1, \"72\": 1, \"29\": 2, \"18\": 2, \"124\": 5, \"69\": 1, \"126\": 1, \"117\": 1, \"98\": 2, \"114\": 2, \"109\": 1, \"123\": 1, \"118\": 2, \"34\": 3, \"32\": 1, \"121\": 1, \"129\": 1, \"113\": 3, \"5\": 1, \"23\": 2}, \"108\": {\"108\": 71, \"112\": 1, \"11\": 1, \"47\": 1, \"79\": 4, \"8\": 14, \"127\": 8, \"0\": 2, \"126\": 2, \"40\": 1, \"12\": 2, \"98\": 4, \"70\": 1, \"43\": 1, \"111\": 4, \"103\": 2, \"107\": 2, \"124\": 3}, \"51\": {\"77\": 2, \"8\": 4, \"90\": 1, \"51\": 8, \"58\": 2, \"6\": 1, \"116\": 1, \"21\": 1}, \"13\": {\"13\": 7, \"51\": 1, \"118\": 2, \"92\": 2, \"89\": 2, \"48\": 1, \"71\": 1}, \"77\": {\"77\": 15, \"8\": 1}, \"46\": {\"46\": 14, \"1\": 2}, \"96\": {\"96\": 17, \"16\": 2, \"93\": 1}, \"119\": {\"96\": 1, \"33\": 1, \"119\": 15, \"84\": 1, \"94\": 1, \"83\": 1}, \"121\": {\"13\": 2, \"121\": 26, \"18\": 2, \"57\": 1, \"117\": 2, \"65\": 2, \"26\": 1}, \"54\": {\"54\": 12, \"74\": 1, \"68\": 1, \"111\": 2, \"104\": 1, \"121\": 1, \"127\": 2}, \"82\": {\"82\": 31, \"60\": 2, \"65\": 1, \"80\": 2}, \"12\": {\"12\": 57, \"108\": 6, \"91\": 4, \"98\": 5, \"10\": 1, \"29\": 2, \"8\": 3, \"111\": 2, \"127\": 5, \"124\": 1, \"0\": 1, \"24\": 1}, \"74\": {\"74\": 13, \"73\": 2, \"22\": 1}, \"66\": {\"28\": 1, \"66\": 15, \"56\": 1, \"15\": 1, \"104\": 1, \"27\": 1}, \"28\": {\"28\": 11, \"66\": 3, \"104\": 2, \"105\": 2, \"32\": 2}, \"52\": {\"52\": 19, \"106\": 1}, \"41\": {\"41\": 18, \"15\": 1, \"125\": 1}, \"81\": {\"81\": 23, \"2\": 1}, \"48\": {\"48\": 19, \"102\": 1}, \"113\": {\"113\": 61, \"121\": 2, \"69\": 2, \"18\": 3, \"81\": 2, \"5\": 1, \"117\": 1}, \"53\": {\"53\": 16}, \"15\": {\"15\": 91, \"127\": 2, \"24\": 3, \"6\": 3, \"101\": 10, \"94\": 4, \"0\": 2, \"125\": 3, \"106\": 1, \"30\": 1}, \"30\": {\"30\": 57, \"8\": 2, \"25\": 1, \"52\": 1, \"0\": 14, \"97\": 2, \"105\": 1, \"10\": 1, \"125\": 9, \"6\": 1, \"24\": 4, \"101\": 4, \"126\": 1, \"16\": 1, \"108\": 2, \"58\": 2, \"110\": 1, \"118\": 1, \"111\": 2, \"106\": 3, \"69\": 1, \"26\": 1}, \"43\": {\"43\": 70, \"1\": 9, \"22\": 1, \"23\": 3, \"16\": 2, \"109\": 1, \"70\": 7, \"44\": 4, \"105\": 4, \"18\": 1, \"87\": 1, \"40\": 3, \"93\": 2, \"62\": 3, \"80\": 1, \"20\": 1, \"88\": 5, \"83\": 3, \"78\": 1, \"46\": 1, \"26\": 1}, \"29\": {\"29\": 28, \"127\": 1, \"91\": 1, \"128\": 1, \"123\": 1}, \"109\": {\"70\": 2, \"39\": 5, \"118\": 2, \"109\": 33, \"90\": 10, \"78\": 1, \"1\": 2, \"126\": 2, \"120\": 1, \"33\": 5, \"93\": 4, \"16\": 5, \"87\": 9, \"43\": 2, \"88\": 4, \"116\": 1, \"15\": 1, \"102\": 2, \"84\": 8, \"18\": 1}, \"60\": {\"80\": 1, \"60\": 8, \"46\": 2, \"129\": 1, \"1\": 1, \"38\": 1, \"2\": 1, \"55\": 1, \"3\": 4, \"116\": 1, \"70\": 1, \"110\": 2, \"83\": 1, \"44\": 2, \"73\": 1}, \"70\": {\"74\": 1, \"60\": 2, \"1\": 14, \"70\": 25, \"115\": 1, \"78\": 2, \"50\": 1, \"118\": 2, \"126\": 8, \"113\": 1, \"94\": 2, \"23\": 2, \"105\": 8, \"88\": 8, \"43\": 12, \"117\": 2, \"62\": 2, \"40\": 7, \"16\": 1, \"108\": 2, \"15\": 3, \"46\": 1, \"107\": 1, \"93\": 1, \"95\": 1, \"109\": 2, \"5\": 1, \"44\": 1, \"71\": 2, \"87\": 2, \"14\": 1, \"39\": 1, \"124\": 1, \"3\": 1}, \"127\": {\"127\": 110, \"59\": 1, \"8\": 3, \"79\": 1, \"29\": 1, \"111\": 2, \"114\": 2, \"16\": 1, \"54\": 1, \"12\": 2}, \"32\": {\"29\": 2, \"32\": 16, \"95\": 2, \"122\": 3, \"124\": 1, \"12\": 1, \"103\": 1, \"85\": 1, \"10\": 2, \"114\": 1, \"128\": 2, \"71\": 1, \"4\": 1, \"3\": 2}, \"73\": {\"73\": 17, \"129\": 1, \"88\": 1, \"71\": 1, \"40\": 1, \"110\": 1, \"3\": 6}, \"50\": {\"50\": 13, \"101\": 2, \"21\": 1}, \"1\": {\"1\": 111, \"105\": 1, \"18\": 1, \"83\": 2, \"40\": 2, \"44\": 1, \"43\": 1, \"22\": 1, \"87\": 1, \"109\": 1, \"126\": 1, \"62\": 1}, \"106\": {\"106\": 102, \"21\": 1, \"15\": 1, \"94\": 3, \"30\": 1, \"101\": 6, \"36\": 2, \"77\": 1, \"0\": 1, \"125\": 1, \"88\": 1}, \"123\": {\"123\": 16}, \"79\": {\"79\": 15, \"77\": 1}, \"4\": {\"4\": 64, \"44\": 1, \"105\": 1, \"85\": 3, \"7\": 7, \"5\": 5, \"94\": 1, \"126\": 1, \"108\": 1, \"32\": 2, \"107\": 1, \"71\": 1}, \"2\": {\"121\": 2, \"90\": 3, \"2\": 18, \"26\": 5, \"72\": 1, \"18\": 1, \"102\": 2}, \"8\": {\"79\": 5, \"8\": 77, \"55\": 1, \"127\": 9, \"30\": 1, \"108\": 10, \"126\": 2, \"88\": 1, \"65\": 1, \"5\": 1, \"111\": 8, \"70\": 1, \"0\": 2, \"98\": 2, \"12\": 3, \"107\": 1, \"84\": 1, \"3\": 1, \"1\": 1}, \"83\": {\"83\": 40}, \"105\": {\"74\": 2, \"105\": 99, \"73\": 1, \"1\": 3, \"40\": 19, \"22\": 2, \"14\": 1, \"21\": 1, \"124\": 1, \"70\": 1}, \"5\": {\"5\": 83, \"53\": 1, \"32\": 2, \"82\": 1, \"110\": 1, \"114\": 1, \"70\": 2, \"71\": 5, \"127\": 2, \"18\": 2, \"19\": 1, \"95\": 1, \"122\": 1, \"7\": 3, \"3\": 6}, \"99\": {\"99\": 26, \"81\": 1, \"121\": 2, \"2\": 3}, \"25\": {\"25\": 16}, \"59\": {\"59\": 6, \"17\": 1, \"21\": 2, \"103\": 2, \"98\": 2, \"91\": 1, \"93\": 1, \"29\": 1}, \"42\": {\"77\": 1, \"55\": 1, \"52\": 2, \"7\": 1, \"51\": 3, \"111\": 5, \"73\": 1, \"129\": 2, \"127\": 2, \"54\": 1, \"53\": 1, \"19\": 1, \"10\": 1, \"125\": 2, \"106\": 1, \"42\": 2, \"3\": 1}, \"55\": {\"118\": 2, \"55\": 12, \"84\": 2}, \"75\": {\"75\": 14, \"125\": 1, \"111\": 1}, \"118\": {\"118\": 25, \"82\": 6, \"90\": 5, \"55\": 1, \"33\": 2, \"45\": 1, \"89\": 3, \"62\": 4, \"84\": 4, \"93\": 2, \"119\": 2, \"116\": 3, \"99\": 1, \"38\": 1, \"16\": 4, \"83\": 2, \"102\": 1, \"87\": 1}, \"95\": {\"55\": 2, \"21\": 1, \"32\": 1, \"95\": 26, \"107\": 1, \"40\": 1, \"24\": 1, \"7\": 1, \"4\": 2}, \"122\": {\"42\": 1, \"68\": 1, \"32\": 4, \"129\": 2, \"85\": 1, \"122\": 45, \"29\": 2, \"112\": 2, \"128\": 1, \"7\": 5, \"113\": 1, \"24\": 1, \"11\": 4, \"4\": 2, \"10\": 4, \"30\": 1, \"114\": 8, \"124\": 5, \"126\": 2, \"125\": 2, \"98\": 5, \"1\": 1, \"5\": 5, \"3\": 5, \"108\": 3, \"49\": 1, \"110\": 1, \"105\": 1, \"86\": 1, \"23\": 1, \"107\": 1, \"127\": 1}, \"20\": {\"20\": 10, \"18\": 2, \"31\": 2, \"42\": 2}, \"110\": {\"110\": 20, \"53\": 2, \"123\": 1, \"26\": 1, \"10\": 1, \"35\": 1, \"6\": 1, \"21\": 1, \"5\": 2, \"7\": 5, \"85\": 1, \"39\": 1, \"14\": 2, \"99\": 1}, \"65\": {\"65\": 17, \"120\": 1, \"121\": 1, \"81\": 1}, \"37\": {\"66\": 1, \"37\": 12, \"95\": 2, \"5\": 1}, \"64\": {\"64\": 16}, \"63\": {\"63\": 19, \"18\": 1}, \"40\": {\"40\": 105, \"105\": 11, \"18\": 2, \"24\": 1, \"1\": 2, \"88\": 1, \"3\": 4, \"87\": 1, \"43\": 4, \"16\": 1, \"71\": 1, \"39\": 1, \"113\": 1, \"4\": 1, \"126\": 1, \"7\": 2, \"69\": 1}, \"21\": {\"21\": 39, \"117\": 1, \"109\": 2, \"82\": 1, \"88\": 1, \"99\": 1, \"11\": 1, \"18\": 1, \"78\": 1}, \"11\": {\"11\": 49, \"129\": 1, \"12\": 1, \"112\": 1, \"123\": 1, \"108\": 2, \"34\": 1, \"114\": 3, \"124\": 3, \"71\": 2, \"98\": 3, \"83\": 1, \"68\": 1, \"86\": 2, \"47\": 1, \"8\": 3, \"122\": 4, \"18\": 1}, \"67\": {\"67\": 16}, \"91\": {\"103\": 1, \"70\": 1, \"91\": 12, \"29\": 2, \"127\": 1, \"18\": 1, \"111\": 1, \"98\": 3, \"12\": 4, \"11\": 2}, \"87\": {\"87\": 36, \"38\": 2, \"109\": 8, \"62\": 3, \"93\": 13, \"89\": 1, \"90\": 16, \"118\": 2, \"39\": 3, \"16\": 4, \"69\": 1, \"33\": 3, \"88\": 2, \"70\": 1, \"84\": 3, \"102\": 9, \"24\": 1, \"10\": 1, \"113\": 1, \"43\": 2}, \"89\": {\"89\": 35, \"18\": 1}, \"9\": {\"9\": 32}, \"124\": {\"124\": 99, \"86\": 1, \"112\": 1, \"122\": 1, \"23\": 1, \"98\": 3, \"29\": 2, \"71\": 2, \"8\": 2, \"34\": 2}, \"56\": {\"56\": 9, \"6\": 1, \"66\": 1, \"125\": 1}, \"38\": {\"38\": 14, \"82\": 1, \"118\": 1}, \"94\": {\"94\": 18, \"106\": 11, \"9\": 2, \"101\": 9, \"88\": 1, \"15\": 10, \"30\": 3, \"27\": 1, \"98\": 1, \"111\": 1, \"87\": 1, \"117\": 1, \"7\": 1, \"109\": 1, \"24\": 1, \"18\": 1, \"8\": 1}, \"6\": {\"6\": 16, \"103\": 1, \"111\": 4, \"30\": 1, \"9\": 1, \"8\": 1, \"36\": 1, \"24\": 1, \"107\": 1, \"35\": 1, \"101\": 1, \"77\": 1, \"51\": 1, \"15\": 1}, \"58\": {\"58\": 11, \"106\": 2, \"0\": 2, \"42\": 1, \"30\": 2, \"6\": 2}, \"22\": {\"22\": 15, \"14\": 2, \"105\": 2, \"43\": 1}, \"24\": {\"24\": 60, \"108\": 2, \"118\": 1, \"101\": 11, \"36\": 7, \"42\": 1, \"94\": 3, \"18\": 2, \"106\": 3, \"30\": 4, \"70\": 1, \"0\": 4, \"69\": 1, \"15\": 4, \"25\": 1, \"95\": 1, \"117\": 1, \"7\": 1, \"107\": 1, \"109\": 1, \"125\": 1, \"3\": 1}, \"57\": {\"57\": 19, \"26\": 1}, \"112\": {\"112\": 8, \"53\": 1, \"15\": 1, \"122\": 2, \"34\": 1, \"12\": 2, \"19\": 1}, \"116\": {\"116\": 15, \"118\": 5, \"78\": 1, \"33\": 1, \"102\": 1, \"72\": 1, \"63\": 1, \"62\": 1, \"5\": 1, \"90\": 1}, \"18\": {\"18\": 85, \"121\": 3, \"99\": 2, \"117\": 14, \"1\": 1, \"89\": 2, \"102\": 2, \"26\": 7, \"94\": 1, \"70\": 3, \"16\": 1, \"113\": 2, \"90\": 2, \"0\": 1, \"69\": 2}, \"49\": {\"7\": 2, \"49\": 5, \"30\": 3, \"8\": 1, \"51\": 3, \"73\": 2, \"75\": 1, \"11\": 1, \"129\": 1, \"29\": 1, \"127\": 1, \"77\": 2, \"5\": 1}, \"45\": {\"45\": 12, \"50\": 1, \"37\": 1, \"44\": 1, \"61\": 1}, \"107\": {\"5\": 5, \"107\": 27, \"95\": 3, \"99\": 1, \"19\": 2, \"71\": 1, \"0\": 1, \"85\": 2, \"7\": 7, \"94\": 1, \"3\": 2, \"10\": 1, \"61\": 1, \"24\": 1, \"14\": 1, \"4\": 1, \"20\": 1, \"32\": 2, \"9\": 1, \"122\": 2, \"87\": 1}, \"35\": {\"35\": 11, \"73\": 1}, \"78\": {\"78\": 10, \"50\": 2, \"82\": 3, \"43\": 4, \"20\": 1, \"16\": 1, \"14\": 2, \"118\": 2, \"94\": 2, \"39\": 1, \"40\": 5, \"126\": 1, \"87\": 2, \"70\": 2, \"45\": 2, \"104\": 1, \"22\": 2, \"36\": 1, \"109\": 2, \"73\": 1, \"1\": 1}, \"126\": {\"126\": 84, \"3\": 3, \"19\": 2, \"43\": 1, \"44\": 14, \"70\": 6, \"7\": 1, \"40\": 4, \"71\": 1, \"129\": 2, \"88\": 2}, \"85\": {\"5\": 1, \"85\": 27, \"7\": 1, \"107\": 1, \"4\": 2}, \"72\": {\"72\": 20, \"26\": 1, \"116\": 1, \"102\": 3, \"21\": 1, \"63\": 2}, \"26\": {\"26\": 107, \"69\": 5, \"2\": 2, \"18\": 3, \"81\": 1, \"57\": 1, \"99\": 1, \"113\": 2, \"39\": 1, \"117\": 1}, \"84\": {\"84\": 68, \"125\": 1, \"33\": 8, \"109\": 2, \"90\": 4, \"87\": 1, \"113\": 1, \"118\": 1, \"1\": 1, \"88\": 1, \"62\": 4}, \"128\": {\"107\": 3, \"85\": 1, \"50\": 1, \"46\": 1, \"111\": 1, \"3\": 5, \"105\": 1, \"7\": 1, \"128\": 2, \"79\": 2, \"30\": 1, \"0\": 1, \"101\": 1, \"51\": 1, \"106\": 1, \"14\": 1}, \"31\": {\"31\": 17, \"90\": 2, \"116\": 1}, \"71\": {\"110\": 2, \"85\": 3, \"71\": 65, \"4\": 3, \"3\": 4, \"7\": 8, \"16\": 1, \"5\": 6, \"114\": 2, \"122\": 3, \"11\": 1, \"53\": 2}}, \"Wisig_1\": {\"22\": {\"74\": 1, \"22\": 14, \"122\": 1}, \"58\": {\"58\": 9, \"112\": 2, \"111\": 1}, \"109\": {\"20\": 1, \"14\": 1, \"109\": 80, \"96\": 1, \"93\": 3, \"3\": 3, \"57\": 2, \"104\": 1, \"21\": 2, \"19\": 1, \"87\": 4, \"43\": 3, \"5\": 1, \"11\": 3, \"1\": 3, \"122\": 4, \"126\": 4, \"114\": 1, \"12\": 1, \"7\": 1, \"10\": 1, \"107\": 1, \"70\": 1, \"71\": 1}, \"77\": {\"77\": 16}, \"74\": {\"74\": 12, \"82\": 1, \"80\": 2, \"81\": 1}, \"10\": {\"35\": 2, \"107\": 2, \"73\": 2, \"10\": 47, \"104\": 1, \"44\": 7, \"8\": 7, \"124\": 12, \"85\": 1, \"93\": 5, \"70\": 6, \"4\": 2, \"0\": 1, \"14\": 1, \"126\": 14, \"40\": 1, \"19\": 2, \"86\": 5, \"36\": 1, \"5\": 1}, \"70\": {\"109\": 4, \"10\": 5, \"29\": 1, \"21\": 1, \"84\": 2, \"70\": 48, \"93\": 8, \"2\": 1, \"8\": 10, \"128\": 2, \"44\": 9, \"126\": 9, \"0\": 5, \"107\": 2, \"26\": 1, \"124\": 3, \"5\": 1, \"113\": 1, \"40\": 1, \"98\": 2, \"37\": 2, \"35\": 1, \"19\": 1, \"31\": 1, \"73\": 2, \"86\": 1, \"89\": 1, \"127\": 1, \"108\": 2}, \"84\": {\"14\": 13, \"87\": 10, \"84\": 76, \"114\": 5, \"1\": 4}, \"52\": {\"52\": 17, \"27\": 2, \"59\": 1}, \"20\": {\"20\": 10, \"97\": 1, \"64\": 1, \"43\": 4}, \"14\": {\"42\": 2, \"14\": 81, \"128\": 1, \"87\": 1, \"113\": 1, \"84\": 7, \"114\": 1, \"1\": 2}, \"37\": {\"37\": 16}, \"42\": {\"35\": 1, \"99\": 2, \"50\": 1, \"85\": 2, \"42\": 6, \"11\": 2, \"107\": 1, \"4\": 1, \"82\": 2, \"25\": 2, \"33\": 2, \"93\": 1, \"121\": 1, \"86\": 3, \"83\": 1}, \"99\": {\"99\": 23, \"90\": 1}, \"35\": {\"35\": 9, \"85\": 3}, \"62\": {\"62\": 75, \"18\": 1, \"2\": 1, \"102\": 10, \"90\": 9, \"69\": 1, \"7\": 3, \"33\": 17, \"3\": 1, \"76\": 1, \"113\": 1}, \"61\": {\"61\": 12}, \"7\": {\"7\": 119, \"28\": 1, \"20\": 1, \"90\": 1, \"48\": 1, \"81\": 2, \"129\": 1, \"43\": 8, \"122\": 3, \"82\": 2, \"3\": 1, \"11\": 1, \"18\": 1}, \"69\": {\"69\": 94, \"2\": 1, \"18\": 4, \"117\": 2, \"39\": 1, \"26\": 2}, \"55\": {\"55\": 12}, \"41\": {\"41\": 14, \"105\": 1, \"40\": 1}, \"120\": {\"120\": 20}, \"123\": {\"123\": 15, \"121\": 1}, \"97\": {\"97\": 11, \"75\": 2, \"18\": 1, \"59\": 1, \"119\": 1, \"49\": 1, \"24\": 2, \"126\": 1}, \"102\": {\"102\": 110, \"2\": 2, \"16\": 1, \"33\": 2, \"118\": 1, \"113\": 1, \"62\": 3}, \"60\": {\"55\": 3, \"64\": 1, \"18\": 1, \"73\": 2, \"117\": 2, \"66\": 2, \"4\": 1, \"21\": 1, \"118\": 1, \"19\": 1, \"30\": 1}, \"127\": {\"127\": 89, \"32\": 2, \"106\": 1, \"68\": 4, \"4\": 1, \"26\": 1, \"11\": 1, \"71\": 2, \"78\": 1, \"111\": 6}, \"32\": {\"127\": 1, \"32\": 13, \"91\": 2, \"98\": 1, \"51\": 2, \"23\": 1, \"29\": 2, \"71\": 1, \"125\": 2, \"92\": 2, \"58\": 1, \"6\": 2, \"111\": 2}, \"3\": {\"61\": 1, \"102\": 1, \"3\": 64, \"42\": 1, \"99\": 2, \"88\": 1, \"15\": 2, \"90\": 7, \"11\": 4, \"36\": 1, \"43\": 1, \"30\": 1, \"62\": 1, \"113\": 1}, \"8\": {\"8\": 64, \"34\": 2, \"35\": 1, \"107\": 15, \"5\": 6, \"70\": 1, \"44\": 4, \"83\": 1, \"124\": 11, \"10\": 8, \"93\": 2, \"110\": 1, \"73\": 1, \"31\": 1, \"85\": 1, \"4\": 1, \"126\": 2}, \"129\": {\"129\": 9, \"21\": 1, \"50\": 1, \"90\": 1, \"44\": 3, \"5\": 2, \"86\": 1, \"3\": 1, \"83\": 2, \"64\": 1, \"19\": 1, \"73\": 1, \"66\": 1, \"116\": 1, \"14\": 1, \"33\": 1}, \"119\": {\"119\": 16}, \"21\": {\"109\": 2, \"20\": 1, \"21\": 20, \"78\": 1, \"108\": 2, \"105\": 1, \"23\": 2, \"19\": 1, \"14\": 1, \"122\": 1, \"60\": 1, \"32\": 1, \"69\": 1, \"129\": 1, \"9\": 1, \"86\": 1, \"12\": 1, \"43\": 1}, \"53\": {\"53\": 16, \"75\": 1, \"72\": 2, \"92\": 1}, \"28\": {\"28\": 18, \"82\": 1, \"7\": 1}, \"117\": {\"117\": 127, \"16\": 8, \"118\": 7, \"26\": 1, \"39\": 1}, \"112\": {\"112\": 14, \"58\": 1, \"68\": 1}, \"126\": {\"126\": 83, \"21\": 2, \"10\": 16, \"73\": 2, \"93\": 3, \"44\": 4, \"128\": 1, \"70\": 15, \"109\": 1, \"113\": 1, \"8\": 5, \"39\": 1}, \"30\": {\"30\": 40, \"49\": 1, \"24\": 1, \"52\": 1, \"127\": 2, \"94\": 1, \"88\": 1, \"111\": 1, \"108\": 1, \"27\": 1, \"21\": 1, \"15\": 1}, \"105\": {\"105\": 65, \"26\": 2, \"84\": 1, \"18\": 1, \"40\": 7, \"114\": 2, \"41\": 2, \"87\": 2, \"124\": 1, \"43\": 1}, \"29\": {\"29\": 25, \"72\": 2, \"0\": 1}, \"57\": {\"57\": 11, \"114\": 1}, \"93\": {\"93\": 60, \"8\": 6, \"5\": 5, \"105\": 4, \"4\": 10, \"73\": 1, \"40\": 7, \"34\": 1, \"86\": 6, \"44\": 5, \"124\": 11, \"126\": 3, \"10\": 2, \"87\": 1, \"62\": 1, \"114\": 2, \"70\": 3, \"14\": 1, \"3\": 1, \"69\": 1, \"107\": 3, \"23\": 1, \"35\": 1, \"19\": 1, \"102\": 1, \"7\": 1, \"84\": 1}, \"17\": {\"17\": 13, \"97\": 1, \"85\": 2}, \"44\": {\"44\": 59, \"73\": 1, \"70\": 2, \"10\": 6, \"124\": 2, \"87\": 1, \"93\": 4, \"3\": 1}, \"63\": {\"63\": 15, \"117\": 1}, \"87\": {\"57\": 1, \"87\": 42, \"114\": 17, \"84\": 9, \"120\": 2, \"40\": 10, \"8\": 1, \"105\": 4, \"1\": 6, \"124\": 1, \"24\": 1, \"43\": 1, \"4\": 1, \"104\": 2, \"38\": 2, \"20\": 1, \"14\": 3, \"42\": 1, \"93\": 2, \"126\": 1}, \"0\": {\"0\": 66, \"89\": 4, \"72\": 1, \"92\": 3, \"110\": 3, \"122\": 1, \"98\": 2, \"91\": 1, \"37\": 1, \"83\": 1, \"124\": 1}, \"96\": {\"96\": 13, \"57\": 2, \"19\": 2, \"116\": 1, \"18\": 1, \"87\": 1}, \"98\": {\"98\": 96, \"37\": 3, \"110\": 6, \"106\": 2, \"32\": 1}, \"75\": {\"75\": 14, \"53\": 2}, \"78\": {\"57\": 1, \"109\": 1, \"87\": 1, \"120\": 1, \"41\": 1, \"43\": 1, \"78\": 3, \"81\": 3, \"80\": 2, \"99\": 1, \"110\": 1}, \"116\": {\"116\": 19, \"50\": 3, \"102\": 1, \"48\": 1, \"76\": 2, \"62\": 1, \"66\": 1, \"28\": 1, \"67\": 1, \"7\": 1, \"94\": 1}, \"114\": {\"114\": 113, \"40\": 4, \"87\": 4, \"4\": 1, \"26\": 1, \"84\": 3, \"121\": 1, \"105\": 1}, \"103\": {\"103\": 8, \"37\": 1, \"12\": 1, \"29\": 2, \"72\": 1, \"91\": 2, \"106\": 1}, \"50\": {\"50\": 13, \"90\": 2, \"116\": 1}, \"124\": {\"124\": 112, \"5\": 2, \"79\": 1, \"86\": 1, \"8\": 3, \"93\": 5, \"10\": 3, \"107\": 1}, \"5\": {\"5\": 69, \"85\": 1, \"35\": 1, \"44\": 2, \"124\": 8, \"8\": 1, \"93\": 1, \"107\": 2, \"34\": 1, \"10\": 1, \"15\": 1}, \"73\": {\"73\": 16, \"49\": 1, \"44\": 2, \"93\": 1}, \"81\": {\"81\": 22, \"7\": 1, \"122\": 1, \"80\": 1, \"1\": 1, \"43\": 2}, \"49\": {\"49\": 9, \"87\": 1, \"58\": 1, \"93\": 1, \"32\": 1, \"34\": 1, \"89\": 1, \"6\": 1, \"10\": 1, \"124\": 1, \"31\": 1, \"112\": 1}, \"16\": {\"16\": 74, \"117\": 8, \"118\": 11, \"26\": 8, \"63\": 1, \"95\": 3, \"18\": 2, \"39\": 1}, \"101\": {\"101\": 119, \"12\": 4, \"70\": 1}, \"125\": {\"125\": 109, \"111\": 9}, \"65\": {\"16\": 1, \"7\": 2, \"101\": 1, \"67\": 1, \"81\": 1, \"33\": 1, \"60\": 2, \"2\": 1, \"115\": 1, \"76\": 1}, \"66\": {\"66\": 15, \"76\": 1}, \"79\": {\"104\": 1, \"79\": 11}, \"39\": {\"39\": 58, \"117\": 15, \"16\": 5, \"21\": 1, \"118\": 2, \"24\": 1, \"69\": 2, \"18\": 11, \"95\": 1, \"11\": 1, \"129\": 1, \"109\": 2, \"3\": 1, \"26\": 3}, \"104\": {\"104\": 16}, \"91\": {\"34\": 1, \"91\": 5, \"75\": 2, \"0\": 4, \"89\": 3, \"47\": 1, \"51\": 1, \"72\": 1, \"103\": 4, \"106\": 1, \"125\": 1, \"85\": 2, \"32\": 2}, \"25\": {\"25\": 15, \"80\": 1}, \"64\": {\"64\": 15, \"1\": 1}, \"34\": {\"64\": 2, \"98\": 3, \"20\": 1, \"37\": 1, \"1\": 1, \"34\": 1, \"110\": 1, \"127\": 1, \"30\": 1, \"89\": 2, \"4\": 1, \"5\": 1, \"40\": 1, \"55\": 1, \"17\": 1, \"92\": 4, \"87\": 1, \"79\": 2, \"53\": 1, \"84\": 3, \"93\": 1, \"71\": 1}, \"82\": {\"82\": 29, \"100\": 1, \"128\": 1, \"7\": 2, \"11\": 1, \"74\": 1, \"28\": 1}, \"18\": {\"18\": 104, \"117\": 7, \"16\": 1, \"102\": 1, \"26\": 1, \"69\": 5, \"39\": 3, \"2\": 2}, \"43\": {\"60\": 1, \"43\": 71, \"23\": 1, \"78\": 1, \"127\": 1, \"122\": 15, \"129\": 1, \"87\": 2, \"11\": 2, \"69\": 2, \"109\": 6, \"114\": 1, \"1\": 7, \"70\": 1, \"7\": 6, \"25\": 1, \"115\": 2, \"81\": 4, \"20\": 1, \"128\": 1, \"16\": 1}, \"47\": {\"47\": 12}, \"108\": {\"97\": 3, \"108\": 67, \"104\": 1, \"127\": 3, \"88\": 3, \"129\": 1, \"5\": 3, \"9\": 1, \"29\": 1, \"101\": 13, \"71\": 5, \"122\": 1, \"24\": 5, \"12\": 5, \"27\": 2, \"70\": 1, \"72\": 3, \"106\": 4, \"94\": 1, \"113\": 1}, \"111\": {\"111\": 97, \"125\": 4, \"51\": 1, \"126\": 1, \"112\": 2, \"58\": 1, \"68\": 1, \"71\": 1}, \"23\": {\"90\": 3, \"92\": 1, \"23\": 2, \"82\": 2, \"44\": 1, \"3\": 2, \"29\": 1, \"98\": 1, \"47\": 1, \"60\": 1, \"110\": 3, \"62\": 3, \"72\": 1, \"107\": 1, \"74\": 1}, \"90\": {\"2\": 1, \"90\": 140, \"66\": 2, \"76\": 1, \"88\": 2, \"62\": 5, \"33\": 6, \"100\": 1, \"50\": 1, \"113\": 1}, \"4\": {\"4\": 91, \"5\": 2, \"93\": 3, \"40\": 2, \"86\": 1, \"18\": 1}, \"92\": {\"92\": 27, \"110\": 1}, \"2\": {\"102\": 2, \"2\": 11, \"28\": 1, \"117\": 2, \"82\": 4, \"26\": 1, \"69\": 1, \"18\": 4, \"11\": 2, \"62\": 1, \"43\": 1, \"15\": 1, \"118\": 1}, \"45\": {\"23\": 2, \"80\": 2, \"79\": 1, \"67\": 1, \"42\": 1, \"25\": 1, \"70\": 1, \"45\": 2, \"117\": 1}, \"68\": {\"68\": 15, \"127\": 1}, \"26\": {\"26\": 98, \"63\": 2, \"117\": 12, \"16\": 6, \"118\": 6, \"18\": 1, \"95\": 1, \"39\": 2}, \"38\": {\"38\": 15, \"40\": 1}, \"40\": {\"40\": 120, \"105\": 12, \"114\": 5, \"14\": 2, \"84\": 1, \"4\": 2}, \"80\": {\"80\": 14, \"28\": 1, \"69\": 1}, \"107\": {\"107\": 104, \"65\": 1, \"8\": 2, \"34\": 2, \"5\": 3, \"108\": 1, \"110\": 1, \"10\": 2, \"86\": 2, \"83\": 1, \"39\": 1, \"105\": 1, \"126\": 1}, \"94\": {\"94\": 72, \"88\": 6, \"59\": 1, \"27\": 3, \"15\": 4, \"6\": 1, \"30\": 2, \"24\": 1, \"36\": 2}, \"115\": {\"115\": 10, \"43\": 2}, \"46\": {\"41\": 1, \"32\": 1, \"105\": 2, \"52\": 2, \"10\": 1, \"46\": 1, \"103\": 2, \"5\": 1, \"94\": 1}, \"72\": {\"72\": 29, \"89\": 1, \"29\": 1, \"9\": 1}, \"19\": {\"49\": 1, \"115\": 1, \"31\": 2, \"19\": 9, \"107\": 1, \"10\": 1, \"73\": 1, \"122\": 1, \"14\": 2, \"1\": 4, \"129\": 1, \"34\": 1, \"79\": 1, \"43\": 1, \"9\": 1}, \"100\": {\"100\": 12, \"3\": 1, \"72\": 1, \"88\": 1, \"74\": 1}, \"76\": {\"76\": 9, \"67\": 2, \"33\": 2, \"62\": 2, \"88\": 1}, \"106\": {\"106\": 121, \"127\": 5, \"103\": 1, \"68\": 2, \"51\": 1, \"91\": 2}, \"88\": {\"15\": 10, \"94\": 5, \"88\": 75, \"24\": 6, \"30\": 2, \"27\": 14, \"70\": 1, \"36\": 12, \"111\": 1, \"21\": 1, \"84\": 1, \"126\": 1, \"71\": 1}, \"15\": {\"94\": 11, \"15\": 62, \"6\": 1, \"101\": 5, \"71\": 7, \"27\": 6, \"125\": 3, \"88\": 4, \"12\": 2, \"113\": 1, \"108\": 1, \"24\": 1}, \"54\": {\"54\": 14, \"53\": 1, \"97\": 1}, \"13\": {\"13\": 16}, \"51\": {\"127\": 2, \"51\": 12, \"110\": 1, \"106\": 1}, \"24\": {\"24\": 56, \"97\": 3, \"88\": 8, \"27\": 9, \"108\": 4, \"15\": 8, \"34\": 1, \"101\": 1, \"94\": 1, \"118\": 1}, \"48\": {\"7\": 2, \"48\": 10}, \"85\": {\"85\": 24, \"86\": 1, \"83\": 1, \"8\": 4, \"5\": 1, \"107\": 1}, \"33\": {\"50\": 1, \"33\": 122, \"62\": 6, \"90\": 3, \"102\": 2, \"69\": 1, \"76\": 3, \"11\": 2}, \"71\": {\"71\": 73, \"121\": 1, \"127\": 2, \"6\": 1, \"111\": 4, \"125\": 14, \"16\": 2, \"12\": 3, \"101\": 7, \"123\": 1}, \"6\": {\"6\": 11, \"71\": 1, \"106\": 2, \"127\": 2, \"15\": 2, \"9\": 1, \"111\": 1, \"12\": 1, \"29\": 1, \"89\": 1, \"51\": 1, \"91\": 1, \"75\": 2, \"36\": 2, \"128\": 1, \"53\": 1, \"94\": 1}, \"83\": {\"83\": 19, \"18\": 1, \"8\": 2, \"85\": 2, \"5\": 2, \"107\": 1, \"118\": 1}, \"121\": {\"123\": 4, \"121\": 25, \"18\": 1, \"117\": 2}, \"31\": {\"31\": 12, \"122\": 1, \"55\": 2, \"9\": 1}, \"67\": {\"76\": 1, \"67\": 13, \"116\": 2}, \"1\": {\"1\": 122, \"87\": 9, \"128\": 2, \"43\": 1, \"81\": 1, \"18\": 1}, \"27\": {\"27\": 49, \"59\": 1, \"88\": 15, \"24\": 7, \"107\": 1, \"15\": 5, \"94\": 4, \"52\": 1, \"30\": 7, \"36\": 2}, \"118\": {\"118\": 57, \"117\": 12, \"26\": 3, \"95\": 1, \"2\": 1, \"16\": 7, \"69\": 1, \"18\": 2}, \"56\": {\"56\": 12}, \"36\": {\"36\": 125, \"16\": 1, \"88\": 2}, \"11\": {\"11\": 66, \"100\": 1, \"64\": 1, \"43\": 4, \"90\": 11, \"3\": 10, \"82\": 2, \"18\": 3, \"109\": 3, \"33\": 3, \"7\": 11, \"102\": 1, \"126\": 1, \"22\": 1, \"116\": 1, \"62\": 2, \"70\": 1, \"1\": 2, \"118\": 1, \"26\": 1}, \"110\": {\"91\": 1, \"110\": 87, \"98\": 14, \"0\": 4, \"18\": 2, \"127\": 2, \"71\": 1, \"111\": 1, \"37\": 2, \"17\": 2, \"29\": 1, \"106\": 1, \"108\": 2, \"107\": 2}, \"89\": {\"89\": 30, \"0\": 4, \"8\": 1, \"110\": 1}, \"113\": {\"113\": 108, \"108\": 1, \"117\": 2, \"12\": 1, \"26\": 2, \"125\": 1, \"18\": 1, \"70\": 1, \"126\": 1}, \"59\": {\"59\": 7, \"30\": 2, \"112\": 2, \"52\": 1}, \"9\": {\"9\": 28, \"26\": 1, \"0\": 2, \"72\": 1}, \"86\": {\"86\": 25, \"93\": 1, \"124\": 1, \"14\": 2, \"5\": 3, \"35\": 1, \"83\": 1, \"94\": 1, \"12\": 1}, \"12\": {\"103\": 1, \"12\": 78, \"101\": 8, \"71\": 5, \"113\": 1, \"108\": 3, \"111\": 2, \"112\": 1, \"127\": 1, \"106\": 2, \"24\": 1, \"39\": 1}, \"122\": {\"48\": 2, \"7\": 9, \"81\": 1, \"122\": 48, \"74\": 1, \"43\": 12, \"114\": 2, \"93\": 1, \"87\": 2, \"1\": 4, \"25\": 2, \"118\": 1, \"84\": 1, \"113\": 1, \"26\": 1}, \"128\": {\"128\": 3, \"89\": 1, \"110\": 2, \"40\": 1, \"99\": 1, \"9\": 5, \"82\": 1, \"45\": 2, \"22\": 2, \"72\": 3, \"20\": 1, \"53\": 2}, \"95\": {\"16\": 2, \"95\": 22, \"118\": 1, \"24\": 1, \"26\": 4, \"63\": 2, \"117\": 4}}}, \"per_domain_accuracy\": {\"ORACLE.run114\": {\"accuracy\": 0.709375, \"source?\": true}, \"ORACLE.run120\": {\"accuracy\": 0.47369791666666666, \"source?\": true}, \"ORACLE.run150\": {\"accuracy\": 0.7, \"source?\": true}, \"ORACLE.run126\": {\"accuracy\": 0.4388020833333333, \"source?\": true}, \"ORACLE.run132\": {\"accuracy\": 0.6815104166666667, \"source?\": true}, \"ORACLE.run144\": {\"accuracy\": 0.6661458333333333, \"source?\": true}, \"ORACLE.run18\": {\"accuracy\": 0.5752604166666667, \"source?\": true}, \"ORACLE.run138\": {\"accuracy\": 0.6651041666666667, \"source?\": true}, \"Wisig_3\": {\"accuracy\": 0.7131550218340611, \"source?\": false}, \"Wisig_4\": {\"accuracy\": 0.6535382231404959, \"source?\": false}, \"Wisig_2\": {\"accuracy\": 0.6989715189873418, \"source?\": false}, \"Wisig_1\": {\"accuracy\": 0.7238707983193278, \"source?\": false}}}, \"history\": {\"epoch_indices\": [1, 2, 3, 4, 5, 6, 7, 8, 9, 10, 11], \"train_label_loss\": [1.682776098042017, 1.0183577346172006, 0.8499894173793672, 0.7345871672300356, 0.6367468036112509, 0.5536221525354665, 0.48305674524994435, 0.4195522960145137, 0.3661494307159003, 0.32113952466052503, 0.28308953109954016], \"source_val_label_loss\": [1.2051142454147339, 1.062685489654541, 1.0558202266693115, 1.074453353881836, 1.1110694408416748, 1.1674727201461792, 1.2474744319915771, 1.31130051612854, 1.3964256048202515, 1.4878160953521729, 1.6121618747711182], \"target_val_label_loss\": [5.66403865814209, 6.727044105529785, 7.273923397064209, 8.544859886169434, 9.509289741516113, 10.674470901489258, 12.09376335144043, 13.229459762573242, 14.041513442993164, 15.316417694091797, 16.73238182067871], \"source_val_acc_label\": [0.5443359375, 0.5957682291666667, 0.6027994791666667, 0.6078125, 0.604296875, 0.6115885416666667, 0.6137369791666667, 0.6069661458333333, 0.6046223958333333, 0.5990234375, 0.5964192708333333], \"target_val_acc_label\": [0.6204743657505285, 0.655556289640592, 0.6748150105708245, 0.6892177589852009, 0.6834368393234672, 0.694205866807611, 0.69704677589852, 0.6852206659619451, 0.6943710359408034, 0.6921577695560254, 0.6932148520084567]}, \"dataset_metrics\": {\"source\": {\"train\": {\"n_unique_x\": 179200, \"n_unique_y\": 16, \"n_batch/episode\": 6720}, \"val\": {\"n_unique_x\": 38400, \"n_unique_y\": 16, \"n_batch/episode\": 960}, \"test\": {\"n_unique_x\": 38400, \"n_unique_y\": 16, \"n_batch/episode\": 960}}, \"target\": {\"train\": {\"n_unique_x\": 189051, \"n_unique_y\": 130, \"n_batch/episode\": 6861}, \"val\": {\"n_unique_x\": 40049, \"n_unique_y\": 130, \"n_batch/episode\": 946}, \"test\": {\"n_unique_x\": 40794, \"n_unique_y\": 130, \"n_batch/episode\": 966}}}}'"
      ]
     },
     "execution_count": 29,
     "metadata": {},
     "output_type": "execute_result"
    }
   ],
   "source": [
    "json.dumps(experiment)"
   ]
  }
 ],
 "metadata": {
  "celltoolbar": "Tags",
  "kernelspec": {
   "display_name": "Python 3 (ipykernel)",
   "language": "python",
   "name": "python3"
  },
  "language_info": {
   "codemirror_mode": {
    "name": "ipython",
    "version": 3
   },
   "file_extension": ".py",
   "mimetype": "text/x-python",
   "name": "python",
   "nbconvert_exporter": "python",
   "pygments_lexer": "ipython3",
   "version": "3.8.12"
  },
  "papermill": {
   "default_parameters": {},
   "duration": 1858.94634,
   "end_time": "2022-03-22T22:08:54.286461",
   "environment_variables": {},
   "exception": null,
   "input_path": "/root/csc500-main/csc500-notebooks/templates/tl_ptn_template.ipynb",
   "output_path": "trial.ipynb",
   "parameters": {
    "parameters": {
     "BEST_MODEL_PATH": "./best_model.pth",
     "NUM_LOGS_PER_EPOCH": 10,
     "criteria_for_best": "target_accuracy",
     "dataset_seed": 420,
     "datasets": [
      {
       "domain_prefix": "Wisig_",
       "domains": [
        1,
        2,
        3,
        4
       ],
       "episode_transforms": [],
       "labels": [
        "1-10",
        "1-12",
        "1-14",
        "1-16",
        "1-18",
        "1-19",
        "1-8",
        "10-11",
        "10-17",
        "10-4",
        "10-7",
        "11-1",
        "11-10",
        "11-19",
        "11-20",
        "11-4",
        "11-7",
        "12-19",
        "12-20",
        "12-7",
        "13-14",
        "13-18",
        "13-19",
        "13-20",
        "13-3",
        "13-7",
        "14-10",
        "14-11",
        "14-12",
        "14-13",
        "14-14",
        "14-19",
        "14-20",
        "14-7",
        "14-8",
        "14-9",
        "15-1",
        "15-19",
        "15-6",
        "16-1",
        "16-16",
        "16-19",
        "16-20",
        "17-10",
        "17-11",
        "18-1",
        "18-10",
        "18-11",
        "18-12",
        "18-13",
        "18-14",
        "18-15",
        "18-16",
        "18-17",
        "18-19",
        "18-2",
        "18-20",
        "18-4",
        "18-5",
        "18-7",
        "18-8",
        "18-9",
        "19-1",
        "19-10",
        "19-11",
        "19-12",
        "19-13",
        "19-14",
        "19-15",
        "19-19",
        "19-2",
        "19-20",
        "19-3",
        "19-4",
        "19-6",
        "19-7",
        "19-8",
        "19-9",
        "2-1",
        "2-13",
        "2-15",
        "2-3",
        "2-4",
        "2-5",
        "2-6",
        "2-7",
        "2-8",
        "20-1",
        "20-12",
        "20-14",
        "20-15",
        "20-16",
        "20-18",
        "20-19",
        "20-20",
        "20-3",
        "20-4",
        "20-5",
        "20-7",
        "20-8",
        "3-1",
        "3-13",
        "3-18",
        "3-2",
        "3-8",
        "4-1",
        "4-10",
        "4-11",
        "5-1",
        "5-5",
        "6-1",
        "6-15",
        "6-6",
        "7-10",
        "7-11",
        "7-12",
        "7-13",
        "7-14",
        "7-7",
        "7-8",
        "7-9",
        "8-1",
        "8-13",
        "8-14",
        "8-18",
        "8-20",
        "8-3",
        "8-8",
        "9-1",
        "9-7"
       ],
       "num_examples_per_domain_per_label": -1,
       "pickle_path": "/root/csc500-main/datasets/wisig.node3-19.stratified_ds.2022A.pkl",
       "source_or_target_dataset": "target",
       "x_transforms": [
        "unit_mag"
       ]
      },
      {
       "domain_prefix": "ORACLE.run1",
       "domains": [
        32,
        38,
        8,
        44,
        14,
        50,
        20,
        26
       ],
       "episode_transforms": [],
       "labels": [
        "3123D52",
        "3123D65",
        "3123D79",
        "3123D80",
        "3123D54",
        "3123D70",
        "3123D7B",
        "3123D89",
        "3123D58",
        "3123D76",
        "3123D7D",
        "3123EFE",
        "3123D64",
        "3123D78",
        "3123D7E",
        "3124E4A"
       ],
       "num_examples_per_domain_per_label": 2000,
       "pickle_path": "/root/csc500-main/datasets/oracle.Run1_10kExamples_stratified_ds.2022A.pkl",
       "source_or_target_dataset": "source",
       "x_transforms": [
        "unit_mag"
       ]
      }
     ],
     "device": "cuda",
     "experiment_name": "tl_1v2:wisig-oracle.run1.limited",
     "lr": 0.0001,
     "n_epoch": 50,
     "n_query": 2,
     "n_shot": 3,
     "n_way": 16,
     "patience": 3,
     "seed": 420,
     "test_k_factor": 2,
     "torch_default_dtype": "torch.float32",
     "train_k_factor": 3,
     "val_k_factor": 2,
     "x_net": [
      {
       "class": "nnReshape",
       "kargs": {
        "shape": [
         -1,
         1,
         2,
         256
        ]
       }
      },
      {
       "class": "Conv2d",
       "kargs": {
        "bias": false,
        "in_channels": 1,
        "kernel_size": [
         1,
         7
        ],
        "out_channels": 256,
        "padding": [
         0,
         3
        ]
       }
      },
      {
       "class": "ReLU",
       "kargs": {
        "inplace": true
       }
      },
      {
       "class": "BatchNorm2d",
       "kargs": {
        "num_features": 256
       }
      },
      {
       "class": "Conv2d",
       "kargs": {
        "bias": true,
        "in_channels": 256,
        "kernel_size": [
         2,
         7
        ],
        "out_channels": 80,
        "padding": [
         0,
         3
        ]
       }
      },
      {
       "class": "ReLU",
       "kargs": {
        "inplace": true
       }
      },
      {
       "class": "BatchNorm2d",
       "kargs": {
        "num_features": 80
       }
      },
      {
       "class": "Flatten",
       "kargs": {}
      },
      {
       "class": "Linear",
       "kargs": {
        "in_features": 20480,
        "out_features": 256
       }
      },
      {
       "class": "ReLU",
       "kargs": {
        "inplace": true
       }
      },
      {
       "class": "BatchNorm1d",
       "kargs": {
        "num_features": 256
       }
      },
      {
       "class": "Linear",
       "kargs": {
        "in_features": 256,
        "out_features": 256
       }
      }
     ]
    }
   },
   "start_time": "2022-03-22T21:37:55.340121",
   "version": "2.3.4"
  }
 },
 "nbformat": 4,
 "nbformat_minor": 5
}