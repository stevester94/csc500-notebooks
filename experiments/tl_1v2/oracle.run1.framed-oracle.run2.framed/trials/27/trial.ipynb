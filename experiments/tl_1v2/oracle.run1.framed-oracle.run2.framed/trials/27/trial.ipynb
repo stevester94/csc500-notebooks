{
 "cells": [
  {
   "cell_type": "markdown",
   "id": "9fea5f46",
   "metadata": {
    "papermill": {
     "duration": 0.032166,
     "end_time": "2022-03-22T09:00:36.667096",
     "exception": false,
     "start_time": "2022-03-22T09:00:36.634930",
     "status": "completed"
    },
    "tags": []
   },
   "source": [
    "# Transfer Learning Template"
   ]
  },
  {
   "cell_type": "code",
   "execution_count": 1,
   "id": "0902182a",
   "metadata": {
    "execution": {
     "iopub.execute_input": "2022-03-22T09:00:36.729425Z",
     "iopub.status.busy": "2022-03-22T09:00:36.712799Z",
     "iopub.status.idle": "2022-03-22T09:00:38.737522Z",
     "shell.execute_reply": "2022-03-22T09:00:38.736814Z"
    },
    "papermill": {
     "duration": 2.046771,
     "end_time": "2022-03-22T09:00:38.737713",
     "exception": false,
     "start_time": "2022-03-22T09:00:36.690942",
     "status": "completed"
    },
    "tags": []
   },
   "outputs": [],
   "source": [
    "%load_ext autoreload\n",
    "%autoreload 2\n",
    "%matplotlib inline\n",
    "\n",
    "    \n",
    "import os, json, sys, time, random\n",
    "import numpy as np\n",
    "import torch\n",
    "from torch.optim import Adam\n",
    "from  easydict import EasyDict\n",
    "import matplotlib.pyplot as plt\n",
    "\n",
    "from steves_models.steves_ptn import Steves_Prototypical_Network\n",
    "\n",
    "from steves_utils.lazy_iterable_wrapper import Lazy_Iterable_Wrapper\n",
    "from steves_utils.iterable_aggregator import Iterable_Aggregator\n",
    "from steves_utils.ptn_train_eval_test_jig import  PTN_Train_Eval_Test_Jig\n",
    "from steves_utils.torch_sequential_builder import build_sequential\n",
    "from steves_utils.torch_utils import get_dataset_metrics, ptn_confusion_by_domain_over_dataloader\n",
    "from steves_utils.utils_v2 import (per_domain_accuracy_from_confusion, get_datasets_base_path)\n",
    "from steves_utils.PTN.utils import independent_accuracy_assesment\n",
    "\n",
    "from torch.utils.data import DataLoader\n",
    "\n",
    "from steves_utils.stratified_dataset.episodic_accessor import Episodic_Accessor_Factory\n",
    "\n",
    "from steves_utils.ptn_do_report import (\n",
    "    get_loss_curve,\n",
    "    get_results_table,\n",
    "    get_parameters_table,\n",
    "    get_domain_accuracies,\n",
    ")\n",
    "\n",
    "from steves_utils.transforms import get_chained_transform"
   ]
  },
  {
   "cell_type": "markdown",
   "id": "41c840b4",
   "metadata": {
    "papermill": {
     "duration": 0.019022,
     "end_time": "2022-03-22T09:00:38.781956",
     "exception": false,
     "start_time": "2022-03-22T09:00:38.762934",
     "status": "completed"
    },
    "tags": []
   },
   "source": [
    "# Allowed Parameters\n",
    "These are allowed parameters, not defaults\n",
    "Each of these values need to be present in the injected parameters (the notebook will raise an exception if they are not present)\n",
    "\n",
    "Papermill uses the cell tag \"parameters\" to inject the real parameters below this cell.\n",
    "Enable tags to see what I mean"
   ]
  },
  {
   "cell_type": "code",
   "execution_count": 2,
   "id": "fd44eb83",
   "metadata": {
    "execution": {
     "iopub.execute_input": "2022-03-22T09:00:38.825721Z",
     "iopub.status.busy": "2022-03-22T09:00:38.825147Z",
     "iopub.status.idle": "2022-03-22T09:00:38.849036Z",
     "shell.execute_reply": "2022-03-22T09:00:38.849706Z"
    },
    "papermill": {
     "duration": 0.048958,
     "end_time": "2022-03-22T09:00:38.849891",
     "exception": false,
     "start_time": "2022-03-22T09:00:38.800933",
     "status": "completed"
    },
    "tags": []
   },
   "outputs": [],
   "source": [
    "required_parameters = {\n",
    "    \"experiment_name\",\n",
    "    \"lr\",\n",
    "    \"device\",\n",
    "    \"seed\",\n",
    "    \"dataset_seed\",\n",
    "    \"n_shot\",\n",
    "    \"n_query\",\n",
    "    \"n_way\",\n",
    "    \"train_k_factor\",\n",
    "    \"val_k_factor\",\n",
    "    \"test_k_factor\",\n",
    "    \"n_epoch\",\n",
    "    \"patience\",\n",
    "    \"criteria_for_best\",\n",
    "    \"x_net\",\n",
    "    \"datasets\",\n",
    "    \"torch_default_dtype\",\n",
    "    \"NUM_LOGS_PER_EPOCH\",\n",
    "    \"BEST_MODEL_PATH\",\n",
    "    \"x_shape\",\n",
    "}"
   ]
  },
  {
   "cell_type": "code",
   "execution_count": 3,
   "id": "fa3f0049",
   "metadata": {
    "execution": {
     "iopub.execute_input": "2022-03-22T09:00:38.908009Z",
     "iopub.status.busy": "2022-03-22T09:00:38.901980Z",
     "iopub.status.idle": "2022-03-22T09:00:38.932309Z",
     "shell.execute_reply": "2022-03-22T09:00:38.932980Z"
    },
    "papermill": {
     "duration": 0.058419,
     "end_time": "2022-03-22T09:00:38.933172",
     "exception": false,
     "start_time": "2022-03-22T09:00:38.874753",
     "status": "completed"
    },
    "tags": [
     "parameters"
    ]
   },
   "outputs": [],
   "source": [
    "from steves_utils.CORES.utils import (\n",
    "    ALL_NODES,\n",
    "    ALL_NODES_MINIMUM_1000_EXAMPLES,\n",
    "    ALL_DAYS\n",
    ")\n",
    "\n",
    "from steves_utils.ORACLE.utils_v2 import (\n",
    "    ALL_DISTANCES_FEET_NARROWED,\n",
    "    ALL_RUNS,\n",
    "    ALL_SERIAL_NUMBERS,\n",
    ")\n",
    "\n",
    "standalone_parameters = {}\n",
    "standalone_parameters[\"experiment_name\"] = \"STANDALONE PTN\"\n",
    "standalone_parameters[\"lr\"] = 0.001\n",
    "standalone_parameters[\"device\"] = \"cuda\"\n",
    "\n",
    "standalone_parameters[\"seed\"] = 1337\n",
    "standalone_parameters[\"dataset_seed\"] = 1337\n",
    "\n",
    "standalone_parameters[\"n_way\"] = 8\n",
    "standalone_parameters[\"n_shot\"] = 3\n",
    "standalone_parameters[\"n_query\"]  = 2\n",
    "standalone_parameters[\"train_k_factor\"] = 1\n",
    "standalone_parameters[\"val_k_factor\"] = 2\n",
    "standalone_parameters[\"test_k_factor\"] = 2\n",
    "\n",
    "\n",
    "standalone_parameters[\"n_epoch\"] = 50\n",
    "\n",
    "standalone_parameters[\"patience\"] = 10\n",
    "standalone_parameters[\"criteria_for_best\"] = \"source_loss\"\n",
    "\n",
    "standalone_parameters[\"datasets\"] = [\n",
    "    {\n",
    "        \"labels\": ALL_SERIAL_NUMBERS,\n",
    "        \"domains\": ALL_DISTANCES_FEET_NARROWED,\n",
    "        \"num_examples_per_domain_per_label\": 100,\n",
    "        \"pickle_path\": os.path.join(get_datasets_base_path(), \"oracle.Run1_framed_2000Examples_stratified_ds.2022A.pkl\"),\n",
    "        \"source_or_target_dataset\": \"source\",\n",
    "        \"x_transforms\": [\"unit_mag\", \"minus_two\"],\n",
    "        \"episode_transforms\": [],\n",
    "        \"domain_prefix\": \"ORACLE_\"\n",
    "    },\n",
    "    {\n",
    "        \"labels\": ALL_NODES,\n",
    "        \"domains\": ALL_DAYS,\n",
    "        \"num_examples_per_domain_per_label\": 100,\n",
    "        \"pickle_path\": os.path.join(get_datasets_base_path(), \"cores.stratified_ds.2022A.pkl\"),\n",
    "        \"source_or_target_dataset\": \"target\",\n",
    "        \"x_transforms\": [\"unit_power\", \"times_zero\"],\n",
    "        \"episode_transforms\": [],\n",
    "        \"domain_prefix\": \"CORES_\"\n",
    "    }   \n",
    "]\n",
    "\n",
    "standalone_parameters[\"torch_default_dtype\"] = \"torch.float32\" \n",
    "\n",
    "\n",
    "\n",
    "standalone_parameters[\"x_net\"] =     [\n",
    "    {\"class\": \"nnReshape\", \"kargs\": {\"shape\":[-1, 1, 2, 256]}},\n",
    "    {\"class\": \"Conv2d\", \"kargs\": { \"in_channels\":1, \"out_channels\":256, \"kernel_size\":(1,7), \"bias\":False, \"padding\":(0,3), },},\n",
    "    {\"class\": \"ReLU\", \"kargs\": {\"inplace\": True}},\n",
    "    {\"class\": \"BatchNorm2d\", \"kargs\": {\"num_features\":256}},\n",
    "\n",
    "    {\"class\": \"Conv2d\", \"kargs\": { \"in_channels\":256, \"out_channels\":80, \"kernel_size\":(2,7), \"bias\":True, \"padding\":(0,3), },},\n",
    "    {\"class\": \"ReLU\", \"kargs\": {\"inplace\": True}},\n",
    "    {\"class\": \"BatchNorm2d\", \"kargs\": {\"num_features\":80}},\n",
    "    {\"class\": \"Flatten\", \"kargs\": {}},\n",
    "\n",
    "    {\"class\": \"Linear\", \"kargs\": {\"in_features\": 80*256, \"out_features\": 256}}, # 80 units per IQ pair\n",
    "    {\"class\": \"ReLU\", \"kargs\": {\"inplace\": True}},\n",
    "    {\"class\": \"BatchNorm1d\", \"kargs\": {\"num_features\":256}},\n",
    "\n",
    "    {\"class\": \"Linear\", \"kargs\": {\"in_features\": 256, \"out_features\": 256}},\n",
    "]\n",
    "\n",
    "# Parameters relevant to results\n",
    "# These parameters will basically never need to change\n",
    "standalone_parameters[\"NUM_LOGS_PER_EPOCH\"] = 10\n",
    "standalone_parameters[\"BEST_MODEL_PATH\"] = \"./best_model.pth\"\n",
    "\n",
    "\n",
    "\n",
    "\n"
   ]
  },
  {
   "cell_type": "code",
   "execution_count": 4,
   "id": "59c07540",
   "metadata": {
    "execution": {
     "iopub.execute_input": "2022-03-22T09:00:38.991830Z",
     "iopub.status.busy": "2022-03-22T09:00:38.990903Z",
     "iopub.status.idle": "2022-03-22T09:00:39.012687Z",
     "shell.execute_reply": "2022-03-22T09:00:39.011986Z"
    },
    "papermill": {
     "duration": 0.05455,
     "end_time": "2022-03-22T09:00:39.012840",
     "exception": false,
     "start_time": "2022-03-22T09:00:38.958290",
     "status": "completed"
    },
    "tags": [
     "injected-parameters"
    ]
   },
   "outputs": [],
   "source": [
    "# Parameters\n",
    "parameters = {\n",
    "    \"experiment_name\": \"tl_1v2:oracle.run1.framed-oracle.run2.framed\",\n",
    "    \"device\": \"cuda\",\n",
    "    \"lr\": 0.0001,\n",
    "    \"n_shot\": 3,\n",
    "    \"n_query\": 2,\n",
    "    \"train_k_factor\": 3,\n",
    "    \"val_k_factor\": 2,\n",
    "    \"test_k_factor\": 2,\n",
    "    \"torch_default_dtype\": \"torch.float32\",\n",
    "    \"n_epoch\": 50,\n",
    "    \"patience\": 3,\n",
    "    \"criteria_for_best\": \"target_accuracy\",\n",
    "    \"x_net\": [\n",
    "        {\"class\": \"nnReshape\", \"kargs\": {\"shape\": [-1, 1, 2, 256]}},\n",
    "        {\n",
    "            \"class\": \"Conv2d\",\n",
    "            \"kargs\": {\n",
    "                \"in_channels\": 1,\n",
    "                \"out_channels\": 256,\n",
    "                \"kernel_size\": [1, 7],\n",
    "                \"bias\": False,\n",
    "                \"padding\": [0, 3],\n",
    "            },\n",
    "        },\n",
    "        {\"class\": \"ReLU\", \"kargs\": {\"inplace\": True}},\n",
    "        {\"class\": \"BatchNorm2d\", \"kargs\": {\"num_features\": 256}},\n",
    "        {\n",
    "            \"class\": \"Conv2d\",\n",
    "            \"kargs\": {\n",
    "                \"in_channels\": 256,\n",
    "                \"out_channels\": 80,\n",
    "                \"kernel_size\": [2, 7],\n",
    "                \"bias\": True,\n",
    "                \"padding\": [0, 3],\n",
    "            },\n",
    "        },\n",
    "        {\"class\": \"ReLU\", \"kargs\": {\"inplace\": True}},\n",
    "        {\"class\": \"BatchNorm2d\", \"kargs\": {\"num_features\": 80}},\n",
    "        {\"class\": \"Flatten\", \"kargs\": {}},\n",
    "        {\"class\": \"Linear\", \"kargs\": {\"in_features\": 20480, \"out_features\": 256}},\n",
    "        {\"class\": \"ReLU\", \"kargs\": {\"inplace\": True}},\n",
    "        {\"class\": \"BatchNorm1d\", \"kargs\": {\"num_features\": 256}},\n",
    "        {\"class\": \"Linear\", \"kargs\": {\"in_features\": 256, \"out_features\": 256}},\n",
    "    ],\n",
    "    \"NUM_LOGS_PER_EPOCH\": 10,\n",
    "    \"BEST_MODEL_PATH\": \"./best_model.pth\",\n",
    "    \"n_way\": 16,\n",
    "    \"datasets\": [\n",
    "        {\n",
    "            \"labels\": [\n",
    "                \"3123D52\",\n",
    "                \"3123D65\",\n",
    "                \"3123D79\",\n",
    "                \"3123D80\",\n",
    "                \"3123D54\",\n",
    "                \"3123D70\",\n",
    "                \"3123D7B\",\n",
    "                \"3123D89\",\n",
    "                \"3123D58\",\n",
    "                \"3123D76\",\n",
    "                \"3123D7D\",\n",
    "                \"3123EFE\",\n",
    "                \"3123D64\",\n",
    "                \"3123D78\",\n",
    "                \"3123D7E\",\n",
    "                \"3124E4A\",\n",
    "            ],\n",
    "            \"domains\": [32, 38, 8, 44, 14, 50, 20, 26],\n",
    "            \"num_examples_per_domain_per_label\": 2000,\n",
    "            \"pickle_path\": \"/root/csc500-main/datasets/oracle.Run1_framed_2000Examples_stratified_ds.2022A.pkl\",\n",
    "            \"source_or_target_dataset\": \"target\",\n",
    "            \"x_transforms\": [\"unit_power\"],\n",
    "            \"episode_transforms\": [],\n",
    "            \"domain_prefix\": \"ORACLE.run1_\",\n",
    "        },\n",
    "        {\n",
    "            \"labels\": [\n",
    "                \"3123D52\",\n",
    "                \"3123D65\",\n",
    "                \"3123D79\",\n",
    "                \"3123D80\",\n",
    "                \"3123D54\",\n",
    "                \"3123D70\",\n",
    "                \"3123D7B\",\n",
    "                \"3123D89\",\n",
    "                \"3123D58\",\n",
    "                \"3123D76\",\n",
    "                \"3123D7D\",\n",
    "                \"3123EFE\",\n",
    "                \"3123D64\",\n",
    "                \"3123D78\",\n",
    "                \"3123D7E\",\n",
    "                \"3124E4A\",\n",
    "            ],\n",
    "            \"domains\": [32, 38, 8, 44, 14, 50, 20, 26],\n",
    "            \"num_examples_per_domain_per_label\": 2000,\n",
    "            \"pickle_path\": \"/root/csc500-main/datasets/oracle.Run2_framed_2000Examples_stratified_ds.2022A.pkl\",\n",
    "            \"source_or_target_dataset\": \"source\",\n",
    "            \"x_transforms\": [\"unit_power\"],\n",
    "            \"episode_transforms\": [],\n",
    "            \"domain_prefix\": \"ORACLE.run2_\",\n",
    "        },\n",
    "    ],\n",
    "    \"dataset_seed\": 500,\n",
    "    \"seed\": 500,\n",
    "}\n"
   ]
  },
  {
   "cell_type": "code",
   "execution_count": 5,
   "id": "8fa1cc33",
   "metadata": {
    "execution": {
     "iopub.execute_input": "2022-03-22T09:00:39.061223Z",
     "iopub.status.busy": "2022-03-22T09:00:39.060851Z",
     "iopub.status.idle": "2022-03-22T09:00:39.092879Z",
     "shell.execute_reply": "2022-03-22T09:00:39.092101Z"
    },
    "papermill": {
     "duration": 0.056488,
     "end_time": "2022-03-22T09:00:39.093033",
     "exception": false,
     "start_time": "2022-03-22T09:00:39.036545",
     "status": "completed"
    },
    "tags": []
   },
   "outputs": [],
   "source": [
    "# Set this to True if you want to run this template directly\n",
    "STANDALONE = False\n",
    "if STANDALONE:\n",
    "    print(\"parameters not injected, running with standalone_parameters\")\n",
    "    parameters = standalone_parameters\n",
    "\n",
    "if not 'parameters' in locals() and not 'parameters' in globals():\n",
    "    raise Exception(\"Parameter injection failed\")\n",
    "\n",
    "#Use an easy dict for all the parameters\n",
    "p = EasyDict(parameters)\n",
    "\n",
    "if \"x_shape\" not in p:\n",
    "    p.x_shape = [2,256] # Default to this if we dont supply x_shape\n",
    "\n",
    "\n",
    "supplied_keys = set(p.keys())\n",
    "\n",
    "if  supplied_keys != required_parameters:\n",
    "    print(\"Parameters are incorrect\")\n",
    "    if len(supplied_keys - required_parameters)>0: print(\"Shouldn't have:\", str(supplied_keys - required_parameters))\n",
    "    if len(required_parameters - supplied_keys)>0: print(\"Need to have:\", str(required_parameters - supplied_keys))\n",
    "    raise RuntimeError(\"Parameters are incorrect\")"
   ]
  },
  {
   "cell_type": "code",
   "execution_count": 6,
   "id": "3a028d58",
   "metadata": {
    "execution": {
     "iopub.execute_input": "2022-03-22T09:00:39.142865Z",
     "iopub.status.busy": "2022-03-22T09:00:39.142202Z",
     "iopub.status.idle": "2022-03-22T09:00:39.168047Z",
     "shell.execute_reply": "2022-03-22T09:00:39.167328Z"
    },
    "papermill": {
     "duration": 0.049364,
     "end_time": "2022-03-22T09:00:39.168201",
     "exception": false,
     "start_time": "2022-03-22T09:00:39.118837",
     "status": "completed"
    },
    "tags": []
   },
   "outputs": [],
   "source": [
    "###################################\n",
    "# Set the RNGs and make it all deterministic\n",
    "###################################\n",
    "np.random.seed(p.seed)\n",
    "random.seed(p.seed)\n",
    "torch.manual_seed(p.seed)\n",
    "\n",
    "torch.use_deterministic_algorithms(True) "
   ]
  },
  {
   "cell_type": "code",
   "execution_count": 7,
   "id": "b691acf6",
   "metadata": {
    "execution": {
     "iopub.execute_input": "2022-03-22T09:00:39.220622Z",
     "iopub.status.busy": "2022-03-22T09:00:39.220257Z",
     "iopub.status.idle": "2022-03-22T09:00:39.247758Z",
     "shell.execute_reply": "2022-03-22T09:00:39.247041Z"
    },
    "papermill": {
     "duration": 0.051199,
     "end_time": "2022-03-22T09:00:39.247916",
     "exception": false,
     "start_time": "2022-03-22T09:00:39.196717",
     "status": "completed"
    },
    "tags": []
   },
   "outputs": [],
   "source": [
    "###########################################\n",
    "# The stratified datasets honor this\n",
    "###########################################\n",
    "torch.set_default_dtype(eval(p.torch_default_dtype))"
   ]
  },
  {
   "cell_type": "code",
   "execution_count": 8,
   "id": "b5fba671",
   "metadata": {
    "execution": {
     "iopub.execute_input": "2022-03-22T09:00:39.300962Z",
     "iopub.status.busy": "2022-03-22T09:00:39.300017Z",
     "iopub.status.idle": "2022-03-22T09:00:39.356663Z",
     "shell.execute_reply": "2022-03-22T09:00:39.355955Z"
    },
    "papermill": {
     "duration": 0.080202,
     "end_time": "2022-03-22T09:00:39.356819",
     "exception": false,
     "start_time": "2022-03-22T09:00:39.276617",
     "status": "completed"
    },
    "tags": []
   },
   "outputs": [],
   "source": [
    "###################################\n",
    "# Build the network(s)\n",
    "# Note: It's critical to do this AFTER setting the RNG\n",
    "###################################\n",
    "x_net = build_sequential(p.x_net)"
   ]
  },
  {
   "cell_type": "code",
   "execution_count": 9,
   "id": "5d7e61cc",
   "metadata": {
    "execution": {
     "iopub.execute_input": "2022-03-22T09:00:39.409448Z",
     "iopub.status.busy": "2022-03-22T09:00:39.408899Z",
     "iopub.status.idle": "2022-03-22T09:00:39.435053Z",
     "shell.execute_reply": "2022-03-22T09:00:39.434256Z"
    },
    "papermill": {
     "duration": 0.050254,
     "end_time": "2022-03-22T09:00:39.435207",
     "exception": false,
     "start_time": "2022-03-22T09:00:39.384953",
     "status": "completed"
    },
    "tags": []
   },
   "outputs": [],
   "source": [
    "start_time_secs = time.time()"
   ]
  },
  {
   "cell_type": "code",
   "execution_count": 10,
   "id": "c6b67dfd",
   "metadata": {
    "execution": {
     "iopub.execute_input": "2022-03-22T09:00:39.487122Z",
     "iopub.status.busy": "2022-03-22T09:00:39.486235Z",
     "iopub.status.idle": "2022-03-22T09:00:39.507652Z",
     "shell.execute_reply": "2022-03-22T09:00:39.506815Z"
    },
    "papermill": {
     "duration": 0.045262,
     "end_time": "2022-03-22T09:00:39.507809",
     "exception": false,
     "start_time": "2022-03-22T09:00:39.462547",
     "status": "completed"
    },
    "tags": []
   },
   "outputs": [],
   "source": [
    "p.domains_source = []\n",
    "p.domains_target = []\n",
    "\n",
    "\n",
    "train_original_source = []\n",
    "val_original_source   = []\n",
    "test_original_source  = []\n",
    "\n",
    "train_original_target = []\n",
    "val_original_target   = []\n",
    "test_original_target  = []"
   ]
  },
  {
   "cell_type": "code",
   "execution_count": 11,
   "id": "e3d9c3d3",
   "metadata": {
    "execution": {
     "iopub.execute_input": "2022-03-22T09:00:39.562917Z",
     "iopub.status.busy": "2022-03-22T09:00:39.558012Z",
     "iopub.status.idle": "2022-03-22T09:00:39.579084Z",
     "shell.execute_reply": "2022-03-22T09:00:39.578277Z"
    },
    "papermill": {
     "duration": 0.04441,
     "end_time": "2022-03-22T09:00:39.579239",
     "exception": false,
     "start_time": "2022-03-22T09:00:39.534829",
     "status": "completed"
    },
    "tags": []
   },
   "outputs": [],
   "source": [
    "# global_x_transform_func = lambda x: normalize(x.to(torch.get_default_dtype()), \"unit_power\") # unit_power, unit_mag\n",
    "# global_x_transform_func = lambda x: normalize(x, \"unit_power\") # unit_power, unit_mag"
   ]
  },
  {
   "cell_type": "code",
   "execution_count": 12,
   "id": "acb78fd2",
   "metadata": {
    "execution": {
     "iopub.execute_input": "2022-03-22T09:00:39.633925Z",
     "iopub.status.busy": "2022-03-22T09:00:39.633546Z",
     "iopub.status.idle": "2022-03-22T09:00:39.654836Z",
     "shell.execute_reply": "2022-03-22T09:00:39.654035Z"
    },
    "papermill": {
     "duration": 0.048565,
     "end_time": "2022-03-22T09:00:39.654991",
     "exception": false,
     "start_time": "2022-03-22T09:00:39.606426",
     "status": "completed"
    },
    "tags": []
   },
   "outputs": [],
   "source": [
    "def add_dataset(\n",
    "    labels,\n",
    "    domains,\n",
    "    pickle_path,\n",
    "    x_transforms,\n",
    "    episode_transforms,\n",
    "    domain_prefix,\n",
    "    num_examples_per_domain_per_label,\n",
    "    source_or_target_dataset:str,\n",
    "    iterator_seed=p.seed,\n",
    "    dataset_seed=p.dataset_seed,\n",
    "    n_shot=p.n_shot,\n",
    "    n_way=p.n_way,\n",
    "    n_query=p.n_query,\n",
    "    train_val_test_k_factors=(p.train_k_factor,p.val_k_factor,p.test_k_factor),\n",
    "):\n",
    "   \n",
    "    if x_transforms == []: x_transform = None\n",
    "    else: x_transform = get_chained_transform(x_transforms)\n",
    "    \n",
    "    if episode_transforms == []: episode_transform = None\n",
    "    else: raise Exception(\"episode_transforms not implemented\")\n",
    "    \n",
    "    episode_transform = lambda tup, _prefix=domain_prefix: (_prefix + str(tup[0]), tup[1])\n",
    "\n",
    "\n",
    "    eaf = Episodic_Accessor_Factory(\n",
    "        labels=labels,\n",
    "        domains=domains,\n",
    "        num_examples_per_domain_per_label=num_examples_per_domain_per_label,\n",
    "        iterator_seed=iterator_seed,\n",
    "        dataset_seed=dataset_seed,\n",
    "        n_shot=n_shot,\n",
    "        n_way=n_way,\n",
    "        n_query=n_query,\n",
    "        train_val_test_k_factors=train_val_test_k_factors,\n",
    "        pickle_path=pickle_path,\n",
    "        x_transform_func=x_transform,\n",
    "    )\n",
    "\n",
    "    train, val, test = eaf.get_train(), eaf.get_val(), eaf.get_test()\n",
    "    train = Lazy_Iterable_Wrapper(train, episode_transform)\n",
    "    val = Lazy_Iterable_Wrapper(val, episode_transform)\n",
    "    test = Lazy_Iterable_Wrapper(test, episode_transform)\n",
    "\n",
    "    if source_or_target_dataset==\"source\":\n",
    "        train_original_source.append(train)\n",
    "        val_original_source.append(val)\n",
    "        test_original_source.append(test)\n",
    "\n",
    "        p.domains_source.extend(\n",
    "            [domain_prefix + str(u) for u in domains]\n",
    "        )\n",
    "    elif source_or_target_dataset==\"target\":\n",
    "        train_original_target.append(train)\n",
    "        val_original_target.append(val)\n",
    "        test_original_target.append(test)\n",
    "        p.domains_target.extend(\n",
    "            [domain_prefix + str(u) for u in domains]\n",
    "        )\n",
    "    else:\n",
    "        raise Exception(f\"invalid source_or_target_dataset: {source_or_target_dataset}\")\n",
    "    "
   ]
  },
  {
   "cell_type": "code",
   "execution_count": 13,
   "id": "fe266617",
   "metadata": {
    "execution": {
     "iopub.execute_input": "2022-03-22T09:00:39.712886Z",
     "iopub.status.busy": "2022-03-22T09:00:39.706523Z",
     "iopub.status.idle": "2022-03-22T09:01:22.324325Z",
     "shell.execute_reply": "2022-03-22T09:01:22.323577Z"
    },
    "papermill": {
     "duration": 42.641939,
     "end_time": "2022-03-22T09:01:22.324521",
     "exception": false,
     "start_time": "2022-03-22T09:00:39.682582",
     "status": "completed"
    },
    "tags": []
   },
   "outputs": [],
   "source": [
    "for ds in p.datasets:\n",
    "    add_dataset(**ds)"
   ]
  },
  {
   "cell_type": "code",
   "execution_count": 14,
   "id": "b90d65ac",
   "metadata": {
    "execution": {
     "iopub.execute_input": "2022-03-22T09:01:22.376386Z",
     "iopub.status.busy": "2022-03-22T09:01:22.376005Z",
     "iopub.status.idle": "2022-03-22T09:01:22.401136Z",
     "shell.execute_reply": "2022-03-22T09:01:22.400305Z"
    },
    "papermill": {
     "duration": 0.050059,
     "end_time": "2022-03-22T09:01:22.401313",
     "exception": false,
     "start_time": "2022-03-22T09:01:22.351254",
     "status": "completed"
    },
    "tags": []
   },
   "outputs": [],
   "source": [
    "# from steves_utils.CORES.utils import (\n",
    "#     ALL_NODES,\n",
    "#     ALL_NODES_MINIMUM_1000_EXAMPLES,\n",
    "#     ALL_DAYS\n",
    "# )\n",
    "\n",
    "# add_dataset(\n",
    "#     labels=ALL_NODES,\n",
    "#     domains = ALL_DAYS,\n",
    "#     num_examples_per_domain_per_label=100,\n",
    "#     pickle_path=os.path.join(get_datasets_base_path(), \"cores.stratified_ds.2022A.pkl\"),\n",
    "#     source_or_target_dataset=\"target\",\n",
    "#     x_transform_func=global_x_transform_func,\n",
    "#     domain_modifier=lambda u: f\"cores_{u}\"\n",
    "# )"
   ]
  },
  {
   "cell_type": "code",
   "execution_count": 15,
   "id": "76db484d",
   "metadata": {
    "execution": {
     "iopub.execute_input": "2022-03-22T09:01:22.463676Z",
     "iopub.status.busy": "2022-03-22T09:01:22.462821Z",
     "iopub.status.idle": "2022-03-22T09:01:22.483231Z",
     "shell.execute_reply": "2022-03-22T09:01:22.482419Z"
    },
    "papermill": {
     "duration": 0.045742,
     "end_time": "2022-03-22T09:01:22.483399",
     "exception": false,
     "start_time": "2022-03-22T09:01:22.437657",
     "status": "completed"
    },
    "tags": []
   },
   "outputs": [],
   "source": [
    "# from steves_utils.ORACLE.utils_v2 import (\n",
    "#     ALL_DISTANCES_FEET,\n",
    "#     ALL_RUNS,\n",
    "#     ALL_SERIAL_NUMBERS,\n",
    "# )\n",
    "\n",
    "\n",
    "# add_dataset(\n",
    "#     labels=ALL_SERIAL_NUMBERS,\n",
    "#     domains = list(set(ALL_DISTANCES_FEET) - {2,62}),\n",
    "#     num_examples_per_domain_per_label=100,\n",
    "#     pickle_path=os.path.join(get_datasets_base_path(), \"oracle.Run2_framed_2000Examples_stratified_ds.2022A.pkl\"),\n",
    "#     source_or_target_dataset=\"source\",\n",
    "#     x_transform_func=global_x_transform_func,\n",
    "#     domain_modifier=lambda u: f\"oracle1_{u}\"\n",
    "# )\n"
   ]
  },
  {
   "cell_type": "code",
   "execution_count": 16,
   "id": "97dea9d2",
   "metadata": {
    "execution": {
     "iopub.execute_input": "2022-03-22T09:01:22.533909Z",
     "iopub.status.busy": "2022-03-22T09:01:22.533538Z",
     "iopub.status.idle": "2022-03-22T09:01:22.550229Z",
     "shell.execute_reply": "2022-03-22T09:01:22.549417Z"
    },
    "papermill": {
     "duration": 0.039426,
     "end_time": "2022-03-22T09:01:22.550388",
     "exception": false,
     "start_time": "2022-03-22T09:01:22.510962",
     "status": "completed"
    },
    "tags": []
   },
   "outputs": [],
   "source": [
    "# from steves_utils.ORACLE.utils_v2 import (\n",
    "#     ALL_DISTANCES_FEET,\n",
    "#     ALL_RUNS,\n",
    "#     ALL_SERIAL_NUMBERS,\n",
    "# )\n",
    "\n",
    "\n",
    "# add_dataset(\n",
    "#     labels=ALL_SERIAL_NUMBERS,\n",
    "#     domains = list(set(ALL_DISTANCES_FEET) - {2,62,56}),\n",
    "#     num_examples_per_domain_per_label=100,\n",
    "#     pickle_path=os.path.join(get_datasets_base_path(), \"oracle.Run2_framed_2000Examples_stratified_ds.2022A.pkl\"),\n",
    "#     source_or_target_dataset=\"source\",\n",
    "#     x_transform_func=global_x_transform_func,\n",
    "#     domain_modifier=lambda u: f\"oracle2_{u}\"\n",
    "# )"
   ]
  },
  {
   "cell_type": "code",
   "execution_count": 17,
   "id": "6f289866",
   "metadata": {
    "execution": {
     "iopub.execute_input": "2022-03-22T09:01:22.598967Z",
     "iopub.status.busy": "2022-03-22T09:01:22.598600Z",
     "iopub.status.idle": "2022-03-22T09:01:22.615520Z",
     "shell.execute_reply": "2022-03-22T09:01:22.614714Z"
    },
    "papermill": {
     "duration": 0.039523,
     "end_time": "2022-03-22T09:01:22.615709",
     "exception": false,
     "start_time": "2022-03-22T09:01:22.576186",
     "status": "completed"
    },
    "tags": []
   },
   "outputs": [],
   "source": [
    "# add_dataset(\n",
    "#     labels=list(range(19)),\n",
    "#     domains = [0,1,2],\n",
    "#     num_examples_per_domain_per_label=100,\n",
    "#     pickle_path=os.path.join(get_datasets_base_path(), \"metehan.stratified_ds.2022A.pkl\"),\n",
    "#     source_or_target_dataset=\"target\",\n",
    "#     x_transform_func=global_x_transform_func,\n",
    "#     domain_modifier=lambda u: f\"met_{u}\"\n",
    "# )"
   ]
  },
  {
   "cell_type": "code",
   "execution_count": 18,
   "id": "86a863c3",
   "metadata": {
    "execution": {
     "iopub.execute_input": "2022-03-22T09:01:22.667487Z",
     "iopub.status.busy": "2022-03-22T09:01:22.666263Z",
     "iopub.status.idle": "2022-03-22T09:01:22.686721Z",
     "shell.execute_reply": "2022-03-22T09:01:22.685912Z"
    },
    "papermill": {
     "duration": 0.043641,
     "end_time": "2022-03-22T09:01:22.686875",
     "exception": false,
     "start_time": "2022-03-22T09:01:22.643234",
     "status": "completed"
    },
    "tags": []
   },
   "outputs": [],
   "source": [
    "# # from steves_utils.wisig.utils import (\n",
    "# #     ALL_NODES_MINIMUM_100_EXAMPLES,\n",
    "# #     ALL_NODES_MINIMUM_500_EXAMPLES,\n",
    "# #     ALL_NODES_MINIMUM_1000_EXAMPLES,\n",
    "# #     ALL_DAYS\n",
    "# # )\n",
    "\n",
    "# import steves_utils.wisig.utils as wisig\n",
    "\n",
    "\n",
    "# add_dataset(\n",
    "#     labels=wisig.ALL_NODES_MINIMUM_100_EXAMPLES,\n",
    "#     domains = wisig.ALL_DAYS,\n",
    "#     num_examples_per_domain_per_label=100,\n",
    "#     pickle_path=os.path.join(get_datasets_base_path(), \"wisig.node3-19.stratified_ds.2022A.pkl\"),\n",
    "#     source_or_target_dataset=\"target\",\n",
    "#     x_transform_func=global_x_transform_func,\n",
    "#     domain_modifier=lambda u: f\"wisig_{u}\"\n",
    "# )"
   ]
  },
  {
   "cell_type": "code",
   "execution_count": 19,
   "id": "fd5442bc",
   "metadata": {
    "execution": {
     "iopub.execute_input": "2022-03-22T09:01:22.780011Z",
     "iopub.status.busy": "2022-03-22T09:01:22.779625Z",
     "iopub.status.idle": "2022-03-22T09:01:22.797708Z",
     "shell.execute_reply": "2022-03-22T09:01:22.796897Z"
    },
    "papermill": {
     "duration": 0.083085,
     "end_time": "2022-03-22T09:01:22.797871",
     "exception": false,
     "start_time": "2022-03-22T09:01:22.714786",
     "status": "completed"
    },
    "tags": []
   },
   "outputs": [],
   "source": [
    "###################################\n",
    "# Build the dataset\n",
    "###################################\n",
    "train_original_source = Iterable_Aggregator(train_original_source, p.seed)\n",
    "val_original_source = Iterable_Aggregator(val_original_source, p.seed)\n",
    "test_original_source = Iterable_Aggregator(test_original_source, p.seed)\n",
    "\n",
    "\n",
    "train_original_target = Iterable_Aggregator(train_original_target, p.seed)\n",
    "val_original_target = Iterable_Aggregator(val_original_target, p.seed)\n",
    "test_original_target = Iterable_Aggregator(test_original_target, p.seed)\n",
    "\n",
    "# For CNN We only use X and Y. And we only train on the source.\n",
    "# Properly form the data using a transform lambda and Lazy_Iterable_Wrapper. Finally wrap them in a dataloader\n",
    "\n",
    "transform_lambda = lambda ex: ex[1] # Original is (<domain>, <episode>) so we strip down to episode only\n",
    "\n",
    "train_processed_source = Lazy_Iterable_Wrapper(train_original_source, transform_lambda)\n",
    "val_processed_source   = Lazy_Iterable_Wrapper(val_original_source, transform_lambda)\n",
    "test_processed_source  = Lazy_Iterable_Wrapper(test_original_source, transform_lambda)\n",
    "\n",
    "train_processed_target = Lazy_Iterable_Wrapper(train_original_target, transform_lambda)\n",
    "val_processed_target   = Lazy_Iterable_Wrapper(val_original_target, transform_lambda)\n",
    "test_processed_target  = Lazy_Iterable_Wrapper(test_original_target, transform_lambda)\n",
    "\n",
    "datasets = EasyDict({\n",
    "    \"source\": {\n",
    "        \"original\": {\"train\":train_original_source, \"val\":val_original_source, \"test\":test_original_source},\n",
    "        \"processed\": {\"train\":train_processed_source, \"val\":val_processed_source, \"test\":test_processed_source}\n",
    "    },\n",
    "    \"target\": {\n",
    "        \"original\": {\"train\":train_original_target, \"val\":val_original_target, \"test\":test_original_target},\n",
    "        \"processed\": {\"train\":train_processed_target, \"val\":val_processed_target, \"test\":test_processed_target}\n",
    "    },\n",
    "})"
   ]
  },
  {
   "cell_type": "code",
   "execution_count": 20,
   "id": "5b3c01fc",
   "metadata": {
    "execution": {
     "iopub.execute_input": "2022-03-22T09:01:22.856462Z",
     "iopub.status.busy": "2022-03-22T09:01:22.851485Z",
     "iopub.status.idle": "2022-03-22T09:01:37.606930Z",
     "shell.execute_reply": "2022-03-22T09:01:37.606074Z"
    },
    "papermill": {
     "duration": 14.782734,
     "end_time": "2022-03-22T09:01:37.607110",
     "exception": false,
     "start_time": "2022-03-22T09:01:22.824376",
     "status": "completed"
    },
    "tags": []
   },
   "outputs": [
    {
     "name": "stdout",
     "output_type": "stream",
     "text": [
      "{'ORACLE.run2_14', 'ORACLE.run2_32', 'ORACLE.run2_26', 'ORACLE.run2_44', 'ORACLE.run2_50', 'ORACLE.run2_38', 'ORACLE.run2_20', 'ORACLE.run2_8'}\n"
     ]
    },
    {
     "name": "stdout",
     "output_type": "stream",
     "text": [
      "{'ORACLE.run1_20', 'ORACLE.run1_44', 'ORACLE.run1_26', 'ORACLE.run1_32', 'ORACLE.run1_14', 'ORACLE.run1_38', 'ORACLE.run1_8', 'ORACLE.run1_50'}\n"
     ]
    },
    {
     "name": "stdout",
     "output_type": "stream",
     "text": [
      "tensor([[[ 0.1873,  0.2725, -0.9367,  ..., -0.4769,  1.3284,  0.7153],\n",
      "         [ 0.0000,  0.8515, -0.2555,  ..., -0.8686, -0.3065, -1.1070]],\n",
      "\n",
      "        [[-0.3216, -0.9647,  0.5924,  ...,  0.9140, -0.8632, -0.2539],\n",
      "         [-0.0169, -0.6093, -0.3216,  ...,  0.3724,  0.8124,  1.2017]],\n",
      "\n",
      "        [[ 0.0340, -0.3059, -0.3909,  ...,  0.2889,  0.9347,  0.5778],\n",
      "         [ 0.4079,  0.9517, -0.9857,  ..., -0.6288,  0.5608, -1.1896]],\n",
      "\n",
      "        ...,\n",
      "\n",
      "        [[ 1.0605,  0.5377, -1.1352,  ..., -0.4630,  0.2240, -1.2845],\n",
      "         [-0.4481,  0.5377,  0.4929,  ..., -0.8365, -1.1501, -0.3734]],\n",
      "\n",
      "        [[-0.1367,  0.6988,  0.1367,  ..., -1.0330, -0.5469, -0.9114],\n",
      "         [-0.9874, -0.4557,  1.2760,  ...,  0.2886, -0.9874,  0.5165]],\n",
      "\n",
      "        [[-0.2853, -0.9910,  0.1501,  ...,  1.0360,  0.9009,  1.0210],\n",
      "         [ 0.9009,  0.2102, -1.1411,  ..., -0.0150,  0.9609, -0.8558]]])\n"
     ]
    }
   ],
   "source": [
    "from steves_utils.transforms import get_average_magnitude, get_average_power\n",
    "\n",
    "print(set([u for u,_ in val_original_source]))\n",
    "print(set([u for u,_ in val_original_target]))\n",
    "\n",
    "s_x, s_y, q_x, q_y, _ = next(iter(train_processed_source))\n",
    "print(s_x)\n",
    "\n",
    "# for ds in [\n",
    "#     train_processed_source,\n",
    "#     val_processed_source,\n",
    "#     test_processed_source,\n",
    "#     train_processed_target,\n",
    "#     val_processed_target,\n",
    "#     test_processed_target\n",
    "# ]:\n",
    "#     for s_x, s_y, q_x, q_y, _ in ds:\n",
    "#         for X in (s_x, q_x):\n",
    "#             for x in X:\n",
    "#                 assert np.isclose(get_average_magnitude(x.numpy()), 1.0)\n",
    "#                 assert np.isclose(get_average_power(x.numpy()), 1.0)\n",
    "                "
   ]
  },
  {
   "cell_type": "code",
   "execution_count": 21,
   "id": "bbdacba1",
   "metadata": {
    "execution": {
     "iopub.execute_input": "2022-03-22T09:01:37.665249Z",
     "iopub.status.busy": "2022-03-22T09:01:37.664879Z",
     "iopub.status.idle": "2022-03-22T09:01:37.781110Z",
     "shell.execute_reply": "2022-03-22T09:01:37.780764Z"
    },
    "papermill": {
     "duration": 0.144322,
     "end_time": "2022-03-22T09:01:37.781209",
     "exception": false,
     "start_time": "2022-03-22T09:01:37.636887",
     "status": "completed"
    },
    "tags": []
   },
   "outputs": [
    {
     "name": "stdout",
     "output_type": "stream",
     "text": [
      "(2, 256)\n"
     ]
    }
   ],
   "source": [
    "###################################\n",
    "# Build the model\n",
    "###################################\n",
    "# easfsl only wants a tuple for the shape\n",
    "model = Steves_Prototypical_Network(x_net, device=p.device, x_shape=tuple(p.x_shape))\n",
    "optimizer = Adam(params=model.parameters(), lr=p.lr)"
   ]
  },
  {
   "cell_type": "code",
   "execution_count": 22,
   "id": "22b39ac5",
   "metadata": {
    "execution": {
     "iopub.execute_input": "2022-03-22T09:01:37.830876Z",
     "iopub.status.busy": "2022-03-22T09:01:37.830509Z",
     "iopub.status.idle": "2022-03-22T09:42:11.294497Z",
     "shell.execute_reply": "2022-03-22T09:42:11.294148Z"
    },
    "papermill": {
     "duration": 2433.490362,
     "end_time": "2022-03-22T09:42:11.294586",
     "exception": false,
     "start_time": "2022-03-22T09:01:37.804224",
     "status": "completed"
    },
    "tags": []
   },
   "outputs": [
    {
     "name": "stdout",
     "output_type": "stream",
     "text": [
      "epoch: 1, [batch: 1 / 6720], examples_per_second: 33.5196, train_label_loss: 2.8330, \n"
     ]
    },
    {
     "name": "stdout",
     "output_type": "stream",
     "text": [
      "epoch: 1, [batch: 672 / 6720], examples_per_second: 3338.4085, train_label_loss: 2.1849, \n"
     ]
    },
    {
     "name": "stdout",
     "output_type": "stream",
     "text": [
      "epoch: 1, [batch: 1344 / 6720], examples_per_second: 3386.7623, train_label_loss: 0.9650, \n"
     ]
    },
    {
     "name": "stdout",
     "output_type": "stream",
     "text": [
      "epoch: 1, [batch: 2016 / 6720], examples_per_second: 3378.6203, train_label_loss: 0.8654, \n"
     ]
    },
    {
     "name": "stdout",
     "output_type": "stream",
     "text": [
      "epoch: 1, [batch: 2688 / 6720], examples_per_second: 3527.6004, train_label_loss: 0.7132, \n"
     ]
    },
    {
     "name": "stdout",
     "output_type": "stream",
     "text": [
      "epoch: 1, [batch: 3360 / 6720], examples_per_second: 3818.2580, train_label_loss: 0.6287, \n"
     ]
    },
    {
     "name": "stdout",
     "output_type": "stream",
     "text": [
      "epoch: 1, [batch: 4032 / 6720], examples_per_second: 3865.2592, train_label_loss: 0.6520, \n"
     ]
    },
    {
     "name": "stdout",
     "output_type": "stream",
     "text": [
      "epoch: 1, [batch: 4704 / 6720], examples_per_second: 3824.0204, train_label_loss: 0.8698, \n"
     ]
    },
    {
     "name": "stdout",
     "output_type": "stream",
     "text": [
      "epoch: 1, [batch: 5376 / 6720], examples_per_second: 3986.5700, train_label_loss: 0.6594, \n"
     ]
    },
    {
     "name": "stdout",
     "output_type": "stream",
     "text": [
      "epoch: 1, [batch: 6048 / 6720], examples_per_second: 3924.0375, train_label_loss: 0.3609, \n"
     ]
    },
    {
     "name": "stdout",
     "output_type": "stream",
     "text": [
      "=============================================================\n",
      "epoch: 1, source_val_acc_label: 0.7039, target_val_acc_label: 0.7115, source_val_label_loss: 1.2493, target_val_label_loss: 1.3241, \n",
      "=============================================================\n"
     ]
    },
    {
     "name": "stdout",
     "output_type": "stream",
     "text": [
      "New best\n"
     ]
    },
    {
     "name": "stdout",
     "output_type": "stream",
     "text": [
      "epoch: 2, [batch: 1 / 6720], examples_per_second: 3.9321, train_label_loss: 2.1344, \n"
     ]
    },
    {
     "name": "stdout",
     "output_type": "stream",
     "text": [
      "epoch: 2, [batch: 672 / 6720], examples_per_second: 3902.2668, train_label_loss: 0.9938, \n"
     ]
    },
    {
     "name": "stdout",
     "output_type": "stream",
     "text": [
      "epoch: 2, [batch: 1344 / 6720], examples_per_second: 4024.5061, train_label_loss: 0.6388, \n"
     ]
    },
    {
     "name": "stdout",
     "output_type": "stream",
     "text": [
      "epoch: 2, [batch: 2016 / 6720], examples_per_second: 4100.9855, train_label_loss: 0.7348, \n"
     ]
    },
    {
     "name": "stdout",
     "output_type": "stream",
     "text": [
      "epoch: 2, [batch: 2688 / 6720], examples_per_second: 3553.4380, train_label_loss: 0.4808, \n"
     ]
    },
    {
     "name": "stdout",
     "output_type": "stream",
     "text": [
      "epoch: 2, [batch: 3360 / 6720], examples_per_second: 3310.3190, train_label_loss: 0.6251, \n"
     ]
    },
    {
     "name": "stdout",
     "output_type": "stream",
     "text": [
      "epoch: 2, [batch: 4032 / 6720], examples_per_second: 3351.5457, train_label_loss: 0.5290, \n"
     ]
    },
    {
     "name": "stdout",
     "output_type": "stream",
     "text": [
      "epoch: 2, [batch: 4704 / 6720], examples_per_second: 3491.1150, train_label_loss: 0.3205, \n"
     ]
    },
    {
     "name": "stdout",
     "output_type": "stream",
     "text": [
      "epoch: 2, [batch: 5376 / 6720], examples_per_second: 3620.3745, train_label_loss: 0.5769, \n"
     ]
    },
    {
     "name": "stdout",
     "output_type": "stream",
     "text": [
      "epoch: 2, [batch: 6048 / 6720], examples_per_second: 3948.3238, train_label_loss: 0.4461, \n"
     ]
    },
    {
     "name": "stdout",
     "output_type": "stream",
     "text": [
      "=============================================================\n",
      "epoch: 2, source_val_acc_label: 0.8415, target_val_acc_label: 0.8467, source_val_label_loss: 0.4461, target_val_label_loss: 0.4357, \n",
      "=============================================================\n"
     ]
    },
    {
     "name": "stdout",
     "output_type": "stream",
     "text": [
      "New best\n"
     ]
    },
    {
     "name": "stdout",
     "output_type": "stream",
     "text": [
      "epoch: 3, [batch: 1 / 6720], examples_per_second: 2.8213, train_label_loss: 0.6077, \n"
     ]
    },
    {
     "name": "stdout",
     "output_type": "stream",
     "text": [
      "epoch: 3, [batch: 672 / 6720], examples_per_second: 3026.9750, train_label_loss: 0.4793, \n"
     ]
    },
    {
     "name": "stdout",
     "output_type": "stream",
     "text": [
      "epoch: 3, [batch: 1344 / 6720], examples_per_second: 3394.8098, train_label_loss: 0.1516, \n"
     ]
    },
    {
     "name": "stdout",
     "output_type": "stream",
     "text": [
      "epoch: 3, [batch: 2016 / 6720], examples_per_second: 3471.7373, train_label_loss: 1.1521, \n"
     ]
    },
    {
     "name": "stdout",
     "output_type": "stream",
     "text": [
      "epoch: 3, [batch: 2688 / 6720], examples_per_second: 3140.2071, train_label_loss: 0.3401, \n"
     ]
    },
    {
     "name": "stdout",
     "output_type": "stream",
     "text": [
      "epoch: 3, [batch: 3360 / 6720], examples_per_second: 2958.7444, train_label_loss: 0.2827, \n"
     ]
    },
    {
     "name": "stdout",
     "output_type": "stream",
     "text": [
      "epoch: 3, [batch: 4032 / 6720], examples_per_second: 2979.7124, train_label_loss: 0.2348, \n"
     ]
    },
    {
     "name": "stdout",
     "output_type": "stream",
     "text": [
      "epoch: 3, [batch: 4704 / 6720], examples_per_second: 2958.3473, train_label_loss: 0.2442, \n"
     ]
    },
    {
     "name": "stdout",
     "output_type": "stream",
     "text": [
      "epoch: 3, [batch: 5376 / 6720], examples_per_second: 2995.3134, train_label_loss: 0.9713, \n"
     ]
    },
    {
     "name": "stdout",
     "output_type": "stream",
     "text": [
      "epoch: 3, [batch: 6048 / 6720], examples_per_second: 2999.9653, train_label_loss: 0.4424, \n"
     ]
    },
    {
     "name": "stdout",
     "output_type": "stream",
     "text": [
      "=============================================================\n",
      "epoch: 3, source_val_acc_label: 0.8624, target_val_acc_label: 0.8579, source_val_label_loss: 0.3917, target_val_label_loss: 0.3890, \n",
      "=============================================================\n"
     ]
    },
    {
     "name": "stdout",
     "output_type": "stream",
     "text": [
      "New best\n"
     ]
    },
    {
     "name": "stdout",
     "output_type": "stream",
     "text": [
      "epoch: 4, [batch: 1 / 6720], examples_per_second: 2.7549, train_label_loss: 0.3103, \n"
     ]
    },
    {
     "name": "stdout",
     "output_type": "stream",
     "text": [
      "epoch: 4, [batch: 672 / 6720], examples_per_second: 3119.1469, train_label_loss: 0.3137, \n"
     ]
    },
    {
     "name": "stdout",
     "output_type": "stream",
     "text": [
      "epoch: 4, [batch: 1344 / 6720], examples_per_second: 3455.8906, train_label_loss: 0.3801, \n"
     ]
    },
    {
     "name": "stdout",
     "output_type": "stream",
     "text": [
      "epoch: 4, [batch: 2016 / 6720], examples_per_second: 3538.4173, train_label_loss: 0.0651, \n"
     ]
    },
    {
     "name": "stdout",
     "output_type": "stream",
     "text": [
      "epoch: 4, [batch: 2688 / 6720], examples_per_second: 3142.2272, train_label_loss: 0.5179, \n"
     ]
    },
    {
     "name": "stdout",
     "output_type": "stream",
     "text": [
      "epoch: 4, [batch: 3360 / 6720], examples_per_second: 2979.8080, train_label_loss: 0.7675, \n"
     ]
    },
    {
     "name": "stdout",
     "output_type": "stream",
     "text": [
      "epoch: 4, [batch: 4032 / 6720], examples_per_second: 2956.6306, train_label_loss: 0.2872, \n"
     ]
    },
    {
     "name": "stdout",
     "output_type": "stream",
     "text": [
      "epoch: 4, [batch: 4704 / 6720], examples_per_second: 2959.5767, train_label_loss: 0.8174, \n"
     ]
    },
    {
     "name": "stdout",
     "output_type": "stream",
     "text": [
      "epoch: 4, [batch: 5376 / 6720], examples_per_second: 2955.2103, train_label_loss: 0.3738, \n"
     ]
    },
    {
     "name": "stdout",
     "output_type": "stream",
     "text": [
      "epoch: 4, [batch: 6048 / 6720], examples_per_second: 2960.8351, train_label_loss: 0.2562, \n"
     ]
    },
    {
     "name": "stdout",
     "output_type": "stream",
     "text": [
      "=============================================================\n",
      "epoch: 4, source_val_acc_label: 0.8760, target_val_acc_label: 0.8736, source_val_label_loss: 0.3428, target_val_label_loss: 0.3560, \n",
      "=============================================================\n"
     ]
    },
    {
     "name": "stdout",
     "output_type": "stream",
     "text": [
      "New best\n"
     ]
    },
    {
     "name": "stdout",
     "output_type": "stream",
     "text": [
      "epoch: 5, [batch: 1 / 6720], examples_per_second: 2.7920, train_label_loss: 0.3229, \n"
     ]
    },
    {
     "name": "stdout",
     "output_type": "stream",
     "text": [
      "epoch: 5, [batch: 672 / 6720], examples_per_second: 3142.0831, train_label_loss: 0.3148, \n"
     ]
    },
    {
     "name": "stdout",
     "output_type": "stream",
     "text": [
      "epoch: 5, [batch: 1344 / 6720], examples_per_second: 3449.3940, train_label_loss: 0.2084, \n"
     ]
    },
    {
     "name": "stdout",
     "output_type": "stream",
     "text": [
      "epoch: 5, [batch: 2016 / 6720], examples_per_second: 3517.0426, train_label_loss: 0.2652, \n"
     ]
    },
    {
     "name": "stdout",
     "output_type": "stream",
     "text": [
      "epoch: 5, [batch: 2688 / 6720], examples_per_second: 3100.9498, train_label_loss: 0.2972, \n"
     ]
    },
    {
     "name": "stdout",
     "output_type": "stream",
     "text": [
      "epoch: 5, [batch: 3360 / 6720], examples_per_second: 3103.0006, train_label_loss: 0.3091, \n"
     ]
    },
    {
     "name": "stdout",
     "output_type": "stream",
     "text": [
      "epoch: 5, [batch: 4032 / 6720], examples_per_second: 3033.5248, train_label_loss: 0.2475, \n"
     ]
    },
    {
     "name": "stdout",
     "output_type": "stream",
     "text": [
      "epoch: 5, [batch: 4704 / 6720], examples_per_second: 2999.0956, train_label_loss: 0.1813, \n"
     ]
    },
    {
     "name": "stdout",
     "output_type": "stream",
     "text": [
      "epoch: 5, [batch: 5376 / 6720], examples_per_second: 2979.2342, train_label_loss: 0.1964, \n"
     ]
    },
    {
     "name": "stdout",
     "output_type": "stream",
     "text": [
      "epoch: 5, [batch: 6048 / 6720], examples_per_second: 2974.4216, train_label_loss: 0.2875, \n"
     ]
    },
    {
     "name": "stdout",
     "output_type": "stream",
     "text": [
      "=============================================================\n",
      "epoch: 5, source_val_acc_label: 0.8771, target_val_acc_label: 0.8759, source_val_label_loss: 0.3376, target_val_label_loss: 0.3553, \n",
      "=============================================================\n"
     ]
    },
    {
     "name": "stdout",
     "output_type": "stream",
     "text": [
      "New best\n"
     ]
    },
    {
     "name": "stdout",
     "output_type": "stream",
     "text": [
      "epoch: 6, [batch: 1 / 6720], examples_per_second: 2.7235, train_label_loss: 0.4620, \n"
     ]
    },
    {
     "name": "stdout",
     "output_type": "stream",
     "text": [
      "epoch: 6, [batch: 672 / 6720], examples_per_second: 3072.4670, train_label_loss: 0.4040, \n"
     ]
    },
    {
     "name": "stdout",
     "output_type": "stream",
     "text": [
      "epoch: 6, [batch: 1344 / 6720], examples_per_second: 3475.4128, train_label_loss: 0.2095, \n"
     ]
    },
    {
     "name": "stdout",
     "output_type": "stream",
     "text": [
      "epoch: 6, [batch: 2016 / 6720], examples_per_second: 3573.9028, train_label_loss: 0.2258, \n"
     ]
    },
    {
     "name": "stdout",
     "output_type": "stream",
     "text": [
      "epoch: 6, [batch: 2688 / 6720], examples_per_second: 3050.9842, train_label_loss: 0.1019, \n"
     ]
    },
    {
     "name": "stdout",
     "output_type": "stream",
     "text": [
      "epoch: 6, [batch: 3360 / 6720], examples_per_second: 2945.0832, train_label_loss: 0.2850, \n"
     ]
    },
    {
     "name": "stdout",
     "output_type": "stream",
     "text": [
      "epoch: 6, [batch: 4032 / 6720], examples_per_second: 2971.6489, train_label_loss: 0.4003, \n"
     ]
    },
    {
     "name": "stdout",
     "output_type": "stream",
     "text": [
      "epoch: 6, [batch: 4704 / 6720], examples_per_second: 3009.8713, train_label_loss: 0.3380, \n"
     ]
    },
    {
     "name": "stdout",
     "output_type": "stream",
     "text": [
      "epoch: 6, [batch: 5376 / 6720], examples_per_second: 2949.5894, train_label_loss: 0.1823, \n"
     ]
    },
    {
     "name": "stdout",
     "output_type": "stream",
     "text": [
      "epoch: 6, [batch: 6048 / 6720], examples_per_second: 3061.4121, train_label_loss: 0.2737, \n"
     ]
    },
    {
     "name": "stdout",
     "output_type": "stream",
     "text": [
      "=============================================================\n",
      "epoch: 6, source_val_acc_label: 0.8873, target_val_acc_label: 0.8755, source_val_label_loss: 0.3174, target_val_label_loss: 0.3508, \n",
      "=============================================================\n"
     ]
    },
    {
     "name": "stdout",
     "output_type": "stream",
     "text": [
      "epoch: 7, [batch: 1 / 6720], examples_per_second: 3.1550, train_label_loss: 0.2854, \n"
     ]
    },
    {
     "name": "stdout",
     "output_type": "stream",
     "text": [
      "epoch: 7, [batch: 672 / 6720], examples_per_second: 3455.9893, train_label_loss: 0.0855, \n"
     ]
    },
    {
     "name": "stdout",
     "output_type": "stream",
     "text": [
      "epoch: 7, [batch: 1344 / 6720], examples_per_second: 3910.0302, train_label_loss: 0.4014, \n"
     ]
    },
    {
     "name": "stdout",
     "output_type": "stream",
     "text": [
      "epoch: 7, [batch: 2016 / 6720], examples_per_second: 4485.8963, train_label_loss: 0.1692, \n"
     ]
    },
    {
     "name": "stdout",
     "output_type": "stream",
     "text": [
      "epoch: 7, [batch: 2688 / 6720], examples_per_second: 4068.3619, train_label_loss: 0.1687, \n"
     ]
    },
    {
     "name": "stdout",
     "output_type": "stream",
     "text": [
      "epoch: 7, [batch: 3360 / 6720], examples_per_second: 3207.1382, train_label_loss: 0.1670, \n"
     ]
    },
    {
     "name": "stdout",
     "output_type": "stream",
     "text": [
      "epoch: 7, [batch: 4032 / 6720], examples_per_second: 3082.0430, train_label_loss: 0.1887, \n"
     ]
    },
    {
     "name": "stdout",
     "output_type": "stream",
     "text": [
      "epoch: 7, [batch: 4704 / 6720], examples_per_second: 2992.7150, train_label_loss: 0.3395, \n"
     ]
    },
    {
     "name": "stdout",
     "output_type": "stream",
     "text": [
      "epoch: 7, [batch: 5376 / 6720], examples_per_second: 3009.1272, train_label_loss: 0.1327, \n"
     ]
    },
    {
     "name": "stdout",
     "output_type": "stream",
     "text": [
      "epoch: 7, [batch: 6048 / 6720], examples_per_second: 2979.8385, train_label_loss: 0.2227, \n"
     ]
    },
    {
     "name": "stdout",
     "output_type": "stream",
     "text": [
      "=============================================================\n",
      "epoch: 7, source_val_acc_label: 0.8696, target_val_acc_label: 0.8621, source_val_label_loss: 0.3588, target_val_label_loss: 0.3904, \n",
      "=============================================================\n"
     ]
    },
    {
     "name": "stdout",
     "output_type": "stream",
     "text": [
      "epoch: 8, [batch: 1 / 6720], examples_per_second: 2.7831, train_label_loss: 0.1891, \n"
     ]
    },
    {
     "name": "stdout",
     "output_type": "stream",
     "text": [
      "epoch: 8, [batch: 672 / 6720], examples_per_second: 3091.8366, train_label_loss: 0.4334, \n"
     ]
    },
    {
     "name": "stdout",
     "output_type": "stream",
     "text": [
      "epoch: 8, [batch: 1344 / 6720], examples_per_second: 3472.1158, train_label_loss: 0.1935, \n"
     ]
    },
    {
     "name": "stdout",
     "output_type": "stream",
     "text": [
      "epoch: 8, [batch: 2016 / 6720], examples_per_second: 3511.4912, train_label_loss: 0.3985, \n"
     ]
    },
    {
     "name": "stdout",
     "output_type": "stream",
     "text": [
      "epoch: 8, [batch: 2688 / 6720], examples_per_second: 3067.2142, train_label_loss: 0.1712, \n"
     ]
    },
    {
     "name": "stdout",
     "output_type": "stream",
     "text": [
      "epoch: 8, [batch: 3360 / 6720], examples_per_second: 3040.8371, train_label_loss: 0.0277, \n"
     ]
    },
    {
     "name": "stdout",
     "output_type": "stream",
     "text": [
      "epoch: 8, [batch: 4032 / 6720], examples_per_second: 3017.5348, train_label_loss: 0.5082, \n"
     ]
    },
    {
     "name": "stdout",
     "output_type": "stream",
     "text": [
      "epoch: 8, [batch: 4704 / 6720], examples_per_second: 2977.0164, train_label_loss: 0.1353, \n"
     ]
    },
    {
     "name": "stdout",
     "output_type": "stream",
     "text": [
      "epoch: 8, [batch: 5376 / 6720], examples_per_second: 2929.1103, train_label_loss: 0.2037, \n"
     ]
    },
    {
     "name": "stdout",
     "output_type": "stream",
     "text": [
      "epoch: 8, [batch: 6048 / 6720], examples_per_second: 2973.5322, train_label_loss: 0.2035, \n"
     ]
    },
    {
     "name": "stdout",
     "output_type": "stream",
     "text": [
      "=============================================================\n",
      "epoch: 8, source_val_acc_label: 0.8944, target_val_acc_label: 0.8854, source_val_label_loss: 0.2913, target_val_label_loss: 0.3237, \n",
      "=============================================================\n"
     ]
    },
    {
     "name": "stdout",
     "output_type": "stream",
     "text": [
      "New best\n"
     ]
    },
    {
     "name": "stdout",
     "output_type": "stream",
     "text": [
      "epoch: 9, [batch: 1 / 6720], examples_per_second: 2.7518, train_label_loss: 0.1379, \n"
     ]
    },
    {
     "name": "stdout",
     "output_type": "stream",
     "text": [
      "epoch: 9, [batch: 672 / 6720], examples_per_second: 3173.0516, train_label_loss: 0.2405, \n"
     ]
    },
    {
     "name": "stdout",
     "output_type": "stream",
     "text": [
      "epoch: 9, [batch: 1344 / 6720], examples_per_second: 3394.1914, train_label_loss: 0.1609, \n"
     ]
    },
    {
     "name": "stdout",
     "output_type": "stream",
     "text": [
      "epoch: 9, [batch: 2016 / 6720], examples_per_second: 3559.3157, train_label_loss: 0.1670, \n"
     ]
    },
    {
     "name": "stdout",
     "output_type": "stream",
     "text": [
      "epoch: 9, [batch: 2688 / 6720], examples_per_second: 2924.4566, train_label_loss: 0.1747, \n"
     ]
    },
    {
     "name": "stdout",
     "output_type": "stream",
     "text": [
      "epoch: 9, [batch: 3360 / 6720], examples_per_second: 2953.6255, train_label_loss: 0.0908, \n"
     ]
    },
    {
     "name": "stdout",
     "output_type": "stream",
     "text": [
      "epoch: 9, [batch: 4032 / 6720], examples_per_second: 2981.5255, train_label_loss: 0.2066, \n"
     ]
    },
    {
     "name": "stdout",
     "output_type": "stream",
     "text": [
      "epoch: 9, [batch: 4704 / 6720], examples_per_second: 2985.7192, train_label_loss: 0.2662, \n"
     ]
    },
    {
     "name": "stdout",
     "output_type": "stream",
     "text": [
      "epoch: 9, [batch: 5376 / 6720], examples_per_second: 2950.6583, train_label_loss: 0.0677, \n"
     ]
    },
    {
     "name": "stdout",
     "output_type": "stream",
     "text": [
      "epoch: 9, [batch: 6048 / 6720], examples_per_second: 2955.8187, train_label_loss: 0.2114, \n"
     ]
    },
    {
     "name": "stdout",
     "output_type": "stream",
     "text": [
      "=============================================================\n",
      "epoch: 9, source_val_acc_label: 0.8943, target_val_acc_label: 0.8820, source_val_label_loss: 0.2910, target_val_label_loss: 0.3348, \n",
      "=============================================================\n"
     ]
    },
    {
     "name": "stdout",
     "output_type": "stream",
     "text": [
      "epoch: 10, [batch: 1 / 6720], examples_per_second: 2.7449, train_label_loss: 0.2151, \n"
     ]
    },
    {
     "name": "stdout",
     "output_type": "stream",
     "text": [
      "epoch: 10, [batch: 672 / 6720], examples_per_second: 3255.4675, train_label_loss: 0.0872, \n"
     ]
    },
    {
     "name": "stdout",
     "output_type": "stream",
     "text": [
      "epoch: 10, [batch: 1344 / 6720], examples_per_second: 3469.6502, train_label_loss: 0.1816, \n"
     ]
    },
    {
     "name": "stdout",
     "output_type": "stream",
     "text": [
      "epoch: 10, [batch: 2016 / 6720], examples_per_second: 3597.0122, train_label_loss: 0.0787, \n"
     ]
    },
    {
     "name": "stdout",
     "output_type": "stream",
     "text": [
      "epoch: 10, [batch: 2688 / 6720], examples_per_second: 3036.8685, train_label_loss: 0.1359, \n"
     ]
    },
    {
     "name": "stdout",
     "output_type": "stream",
     "text": [
      "epoch: 10, [batch: 3360 / 6720], examples_per_second: 2981.4324, train_label_loss: 0.1947, \n"
     ]
    },
    {
     "name": "stdout",
     "output_type": "stream",
     "text": [
      "epoch: 10, [batch: 4032 / 6720], examples_per_second: 2936.4736, train_label_loss: 0.1743, \n"
     ]
    },
    {
     "name": "stdout",
     "output_type": "stream",
     "text": [
      "epoch: 10, [batch: 4704 / 6720], examples_per_second: 2950.8570, train_label_loss: 0.2289, \n"
     ]
    },
    {
     "name": "stdout",
     "output_type": "stream",
     "text": [
      "epoch: 10, [batch: 5376 / 6720], examples_per_second: 2960.8071, train_label_loss: 0.0374, \n"
     ]
    },
    {
     "name": "stdout",
     "output_type": "stream",
     "text": [
      "epoch: 10, [batch: 6048 / 6720], examples_per_second: 3002.7765, train_label_loss: 0.4414, \n"
     ]
    },
    {
     "name": "stdout",
     "output_type": "stream",
     "text": [
      "=============================================================\n",
      "epoch: 10, source_val_acc_label: 0.8847, target_val_acc_label: 0.8792, source_val_label_loss: 0.3188, target_val_label_loss: 0.3604, \n",
      "=============================================================\n"
     ]
    },
    {
     "name": "stdout",
     "output_type": "stream",
     "text": [
      "epoch: 11, [batch: 1 / 6720], examples_per_second: 2.8014, train_label_loss: 0.1022, \n"
     ]
    },
    {
     "name": "stdout",
     "output_type": "stream",
     "text": [
      "epoch: 11, [batch: 672 / 6720], examples_per_second: 3256.1327, train_label_loss: 0.1374, \n"
     ]
    },
    {
     "name": "stdout",
     "output_type": "stream",
     "text": [
      "epoch: 11, [batch: 1344 / 6720], examples_per_second: 3446.3215, train_label_loss: 0.4414, \n"
     ]
    },
    {
     "name": "stdout",
     "output_type": "stream",
     "text": [
      "epoch: 11, [batch: 2016 / 6720], examples_per_second: 3501.0108, train_label_loss: 0.1005, \n"
     ]
    },
    {
     "name": "stdout",
     "output_type": "stream",
     "text": [
      "epoch: 11, [batch: 2688 / 6720], examples_per_second: 3041.6905, train_label_loss: 0.2812, \n"
     ]
    },
    {
     "name": "stdout",
     "output_type": "stream",
     "text": [
      "epoch: 11, [batch: 3360 / 6720], examples_per_second: 3379.6069, train_label_loss: 0.2629, \n"
     ]
    },
    {
     "name": "stdout",
     "output_type": "stream",
     "text": [
      "epoch: 11, [batch: 4032 / 6720], examples_per_second: 3429.6594, train_label_loss: 0.3832, \n"
     ]
    },
    {
     "name": "stdout",
     "output_type": "stream",
     "text": [
      "epoch: 11, [batch: 4704 / 6720], examples_per_second: 3431.6384, train_label_loss: 0.0031, \n"
     ]
    },
    {
     "name": "stdout",
     "output_type": "stream",
     "text": [
      "epoch: 11, [batch: 5376 / 6720], examples_per_second: 3385.0663, train_label_loss: 0.1442, \n"
     ]
    },
    {
     "name": "stdout",
     "output_type": "stream",
     "text": [
      "epoch: 11, [batch: 6048 / 6720], examples_per_second: 3428.5366, train_label_loss: 0.2159, \n"
     ]
    },
    {
     "name": "stdout",
     "output_type": "stream",
     "text": [
      "=============================================================\n",
      "epoch: 11, source_val_acc_label: 0.8969, target_val_acc_label: 0.8823, source_val_label_loss: 0.2898, target_val_label_loss: 0.3402, \n",
      "=============================================================\n"
     ]
    },
    {
     "name": "stdout",
     "output_type": "stream",
     "text": [
      "epoch: 12, [batch: 1 / 6720], examples_per_second: 3.1692, train_label_loss: 0.2468, \n"
     ]
    },
    {
     "name": "stdout",
     "output_type": "stream",
     "text": [
      "epoch: 12, [batch: 672 / 6720], examples_per_second: 3482.1221, train_label_loss: 0.5117, \n"
     ]
    },
    {
     "name": "stdout",
     "output_type": "stream",
     "text": [
      "epoch: 12, [batch: 1344 / 6720], examples_per_second: 3645.9333, train_label_loss: 0.1915, \n"
     ]
    },
    {
     "name": "stdout",
     "output_type": "stream",
     "text": [
      "epoch: 12, [batch: 2016 / 6720], examples_per_second: 4108.8489, train_label_loss: 0.5506, \n"
     ]
    },
    {
     "name": "stdout",
     "output_type": "stream",
     "text": [
      "epoch: 12, [batch: 2688 / 6720], examples_per_second: 3355.6119, train_label_loss: 0.1793, \n"
     ]
    },
    {
     "name": "stdout",
     "output_type": "stream",
     "text": [
      "epoch: 12, [batch: 3360 / 6720], examples_per_second: 3328.7118, train_label_loss: 0.0297, \n"
     ]
    },
    {
     "name": "stdout",
     "output_type": "stream",
     "text": [
      "epoch: 12, [batch: 4032 / 6720], examples_per_second: 3372.3644, train_label_loss: 0.3893, \n"
     ]
    },
    {
     "name": "stdout",
     "output_type": "stream",
     "text": [
      "epoch: 12, [batch: 4704 / 6720], examples_per_second: 3376.7451, train_label_loss: 0.2288, \n"
     ]
    },
    {
     "name": "stdout",
     "output_type": "stream",
     "text": [
      "epoch: 12, [batch: 5376 / 6720], examples_per_second: 3363.4499, train_label_loss: 0.1074, \n"
     ]
    },
    {
     "name": "stdout",
     "output_type": "stream",
     "text": [
      "epoch: 12, [batch: 6048 / 6720], examples_per_second: 3467.0126, train_label_loss: 0.1718, \n"
     ]
    },
    {
     "name": "stdout",
     "output_type": "stream",
     "text": [
      "=============================================================\n",
      "epoch: 12, source_val_acc_label: 0.9007, target_val_acc_label: 0.8818, source_val_label_loss: 0.2855, target_val_label_loss: 0.3446, \n",
      "=============================================================\n"
     ]
    },
    {
     "name": "stdout",
     "output_type": "stream",
     "text": [
      "Patience (3) exhausted\n"
     ]
    }
   ],
   "source": [
    "###################################\n",
    "# train\n",
    "###################################\n",
    "jig = PTN_Train_Eval_Test_Jig(model, p.BEST_MODEL_PATH, p.device)\n",
    "\n",
    "jig.train(\n",
    "    train_iterable=datasets.source.processed.train,\n",
    "    source_val_iterable=datasets.source.processed.val,\n",
    "    target_val_iterable=datasets.target.processed.val,\n",
    "    num_epochs=p.n_epoch,\n",
    "    num_logs_per_epoch=p.NUM_LOGS_PER_EPOCH,\n",
    "    patience=p.patience,\n",
    "    optimizer=optimizer,\n",
    "    criteria_for_best=p.criteria_for_best,\n",
    ")"
   ]
  },
  {
   "cell_type": "code",
   "execution_count": 23,
   "id": "31e8fabf",
   "metadata": {
    "execution": {
     "iopub.execute_input": "2022-03-22T09:42:11.418180Z",
     "iopub.status.busy": "2022-03-22T09:42:11.417800Z",
     "iopub.status.idle": "2022-03-22T09:42:11.450350Z",
     "shell.execute_reply": "2022-03-22T09:42:11.449618Z"
    },
    "papermill": {
     "duration": 0.096082,
     "end_time": "2022-03-22T09:42:11.450529",
     "exception": false,
     "start_time": "2022-03-22T09:42:11.354447",
     "status": "completed"
    },
    "tags": []
   },
   "outputs": [],
   "source": [
    "total_experiment_time_secs = time.time() - start_time_secs"
   ]
  },
  {
   "cell_type": "code",
   "execution_count": 24,
   "id": "87b9595b",
   "metadata": {
    "execution": {
     "iopub.execute_input": "2022-03-22T09:42:11.583253Z",
     "iopub.status.busy": "2022-03-22T09:42:11.582601Z",
     "iopub.status.idle": "2022-03-22T09:45:19.758996Z",
     "shell.execute_reply": "2022-03-22T09:45:19.759490Z"
    },
    "papermill": {
     "duration": 188.245609,
     "end_time": "2022-03-22T09:45:19.759687",
     "exception": false,
     "start_time": "2022-03-22T09:42:11.514078",
     "status": "completed"
    },
    "tags": []
   },
   "outputs": [],
   "source": [
    "###################################\n",
    "# Evaluate the model\n",
    "###################################\n",
    "source_test_label_accuracy, source_test_label_loss = jig.test(datasets.source.processed.test)\n",
    "target_test_label_accuracy, target_test_label_loss = jig.test(datasets.target.processed.test)\n",
    "\n",
    "source_val_label_accuracy, source_val_label_loss = jig.test(datasets.source.processed.val)\n",
    "target_val_label_accuracy, target_val_label_loss = jig.test(datasets.target.processed.val)\n",
    "\n",
    "history = jig.get_history()\n",
    "\n",
    "total_epochs_trained = len(history[\"epoch_indices\"])\n",
    "\n",
    "val_dl = Iterable_Aggregator((datasets.source.original.val,datasets.target.original.val))\n",
    "\n",
    "confusion = ptn_confusion_by_domain_over_dataloader(model, p.device, val_dl)\n",
    "per_domain_accuracy = per_domain_accuracy_from_confusion(confusion)\n",
    "\n",
    "# Add a key to per_domain_accuracy for if it was a source domain\n",
    "for domain, accuracy in per_domain_accuracy.items():\n",
    "    per_domain_accuracy[domain] = {\n",
    "        \"accuracy\": accuracy,\n",
    "        \"source?\": domain in p.domains_source\n",
    "    }\n",
    "\n",
    "# Do an independent accuracy assesment JUST TO BE SURE!\n",
    "# _source_test_label_accuracy = independent_accuracy_assesment(model, datasets.source.processed.test, p.device)\n",
    "# _target_test_label_accuracy = independent_accuracy_assesment(model, datasets.target.processed.test, p.device)\n",
    "# _source_val_label_accuracy = independent_accuracy_assesment(model, datasets.source.processed.val, p.device)\n",
    "# _target_val_label_accuracy = independent_accuracy_assesment(model, datasets.target.processed.val, p.device)\n",
    "\n",
    "# assert(_source_test_label_accuracy == source_test_label_accuracy)\n",
    "# assert(_target_test_label_accuracy == target_test_label_accuracy)\n",
    "# assert(_source_val_label_accuracy == source_val_label_accuracy)\n",
    "# assert(_target_val_label_accuracy == target_val_label_accuracy)\n",
    "\n",
    "experiment = {\n",
    "    \"experiment_name\": p.experiment_name,\n",
    "    \"parameters\": dict(p),\n",
    "    \"results\": {\n",
    "        \"source_test_label_accuracy\": source_test_label_accuracy,\n",
    "        \"source_test_label_loss\": source_test_label_loss,\n",
    "        \"target_test_label_accuracy\": target_test_label_accuracy,\n",
    "        \"target_test_label_loss\": target_test_label_loss,\n",
    "        \"source_val_label_accuracy\": source_val_label_accuracy,\n",
    "        \"source_val_label_loss\": source_val_label_loss,\n",
    "        \"target_val_label_accuracy\": target_val_label_accuracy,\n",
    "        \"target_val_label_loss\": target_val_label_loss,\n",
    "        \"total_epochs_trained\": total_epochs_trained,\n",
    "        \"total_experiment_time_secs\": total_experiment_time_secs,\n",
    "        \"confusion\": confusion,\n",
    "        \"per_domain_accuracy\": per_domain_accuracy,\n",
    "    },\n",
    "    \"history\": history,\n",
    "    \"dataset_metrics\": get_dataset_metrics(datasets, \"ptn\"),\n",
    "}"
   ]
  },
  {
   "cell_type": "code",
   "execution_count": 25,
   "id": "54a21829",
   "metadata": {
    "execution": {
     "iopub.execute_input": "2022-03-22T09:45:19.888717Z",
     "iopub.status.busy": "2022-03-22T09:45:19.888341Z",
     "iopub.status.idle": "2022-03-22T09:45:20.108973Z",
     "shell.execute_reply": "2022-03-22T09:45:20.109666Z"
    },
    "papermill": {
     "duration": 0.2857,
     "end_time": "2022-03-22T09:45:20.109884",
     "exception": false,
     "start_time": "2022-03-22T09:45:19.824184",
     "status": "completed"
    },
    "tags": []
   },
   "outputs": [
    {
     "data": {
      "image/png": "[encoded data removed]",
      "text/plain": [
       "<Figure size 1080x504 with 1 Axes>"
      ]
     },
     "metadata": {
      "needs_background": "light"
     },
     "output_type": "display_data"
    }
   ],
   "source": [
    "ax = get_loss_curve(experiment)\n",
    "plt.show()"
   ]
  },
  {
   "cell_type": "code",
   "execution_count": 26,
   "id": "fd8a0f60",
   "metadata": {
    "execution": {
     "iopub.execute_input": "2022-03-22T09:45:20.243166Z",
     "iopub.status.busy": "2022-03-22T09:45:20.242797Z",
     "iopub.status.idle": "2022-03-22T09:45:20.586861Z",
     "shell.execute_reply": "2022-03-22T09:45:20.587572Z"
    },
    "papermill": {
     "duration": 0.410338,
     "end_time": "2022-03-22T09:45:20.587816",
     "exception": false,
     "start_time": "2022-03-22T09:45:20.177478",
     "status": "completed"
    },
    "tags": []
   },
   "outputs": [
    {
     "data": {
      "text/plain": [
       "<AxesSubplot:title={'center':'Results'}>"
      ]
     },
     "execution_count": 26,
     "metadata": {},
     "output_type": "execute_result"
    },
    {
     "data": {
      "image/png": "[encoded data removed]",
      "text/plain": [
       "<Figure size 1080x504 with 1 Axes>"
      ]
     },
     "metadata": {
      "needs_background": "light"
     },
     "output_type": "display_data"
    }
   ],
   "source": [
    "get_results_table(experiment)"
   ]
  },
  {
   "cell_type": "code",
   "execution_count": 27,
   "id": "cf8dc689",
   "metadata": {
    "execution": {
     "iopub.execute_input": "2022-03-22T09:45:20.721515Z",
     "iopub.status.busy": "2022-03-22T09:45:20.721110Z",
     "iopub.status.idle": "2022-03-22T09:45:21.009815Z",
     "shell.execute_reply": "2022-03-22T09:45:21.010328Z"
    },
    "papermill": {
     "duration": 0.355447,
     "end_time": "2022-03-22T09:45:21.010550",
     "exception": false,
     "start_time": "2022-03-22T09:45:20.655103",
     "status": "completed"
    },
    "tags": []
   },
   "outputs": [
    {
     "data": {
      "text/plain": [
       "<AxesSubplot:title={'center':'Per Domain Validation Accuracy'}, xlabel='domain'>"
      ]
     },
     "execution_count": 27,
     "metadata": {},
     "output_type": "execute_result"
    },
    {
     "data": {
      "image/png": "[encoded data removed]",
      "text/plain": [
       "<Figure size 1080x504 with 1 Axes>"
      ]
     },
     "metadata": {
      "needs_background": "light"
     },
     "output_type": "display_data"
    }
   ],
   "source": [
    "get_domain_accuracies(experiment)"
   ]
  },
  {
   "cell_type": "code",
   "execution_count": 28,
   "id": "a74ae082",
   "metadata": {
    "execution": {
     "iopub.execute_input": "2022-03-22T09:45:21.155229Z",
     "iopub.status.busy": "2022-03-22T09:45:21.154789Z",
     "iopub.status.idle": "2022-03-22T09:45:21.182210Z",
     "shell.execute_reply": "2022-03-22T09:45:21.182904Z"
    },
    "papermill": {
     "duration": 0.096464,
     "end_time": "2022-03-22T09:45:21.183130",
     "exception": false,
     "start_time": "2022-03-22T09:45:21.086666",
     "status": "completed"
    },
    "tags": []
   },
   "outputs": [
    {
     "name": "stdout",
     "output_type": "stream",
     "text": [
      "Source Test Label Accuracy: 0.8950846354166667 Target Test Label Accuracy: 0.8846354166666667\n",
      "Source Val Label Accuracy: 0.8943684895833334 Target Val Label Accuracy: 0.8854166666666666\n"
     ]
    }
   ],
   "source": [
    "print(\"Source Test Label Accuracy:\", experiment[\"results\"][\"source_test_label_accuracy\"], \"Target Test Label Accuracy:\", experiment[\"results\"][\"target_test_label_accuracy\"])\n",
    "print(\"Source Val Label Accuracy:\", experiment[\"results\"][\"source_val_label_accuracy\"], \"Target Val Label Accuracy:\", experiment[\"results\"][\"target_val_label_accuracy\"])"
   ]
  },
  {
   "cell_type": "code",
   "execution_count": 29,
   "id": "dacca602",
   "metadata": {
    "execution": {
     "iopub.execute_input": "2022-03-22T09:45:21.321511Z",
     "iopub.status.busy": "2022-03-22T09:45:21.321071Z",
     "iopub.status.idle": "2022-03-22T09:45:21.349529Z",
     "shell.execute_reply": "2022-03-22T09:45:21.350293Z"
    },
    "papermill": {
     "duration": 0.09887,
     "end_time": "2022-03-22T09:45:21.350563",
     "exception": false,
     "start_time": "2022-03-22T09:45:21.251693",
     "status": "completed"
    },
    "tags": [
     "experiment_json"
    ]
   },
   "outputs": [
    {
     "data": {
      "text/plain": [
       "'{\"experiment_name\": \"tl_1v2:oracle.run1.framed-oracle.run2.framed\", \"parameters\": {\"experiment_name\": \"tl_1v2:oracle.run1.framed-oracle.run2.framed\", \"device\": \"cuda\", \"lr\": 0.0001, \"n_shot\": 3, \"n_query\": 2, \"train_k_factor\": 3, \"val_k_factor\": 2, \"test_k_factor\": 2, \"torch_default_dtype\": \"torch.float32\", \"n_epoch\": 50, \"patience\": 3, \"criteria_for_best\": \"target_accuracy\", \"x_net\": [{\"class\": \"nnReshape\", \"kargs\": {\"shape\": [-1, 1, 2, 256]}}, {\"class\": \"Conv2d\", \"kargs\": {\"in_channels\": 1, \"out_channels\": 256, \"kernel_size\": [1, 7], \"bias\": false, \"padding\": [0, 3]}}, {\"class\": \"ReLU\", \"kargs\": {\"inplace\": true}}, {\"class\": \"BatchNorm2d\", \"kargs\": {\"num_features\": 256}}, {\"class\": \"Conv2d\", \"kargs\": {\"in_channels\": 256, \"out_channels\": 80, \"kernel_size\": [2, 7], \"bias\": true, \"padding\": [0, 3]}}, {\"class\": \"ReLU\", \"kargs\": {\"inplace\": true}}, {\"class\": \"BatchNorm2d\", \"kargs\": {\"num_features\": 80}}, {\"class\": \"Flatten\", \"kargs\": {}}, {\"class\": \"Linear\", \"kargs\": {\"in_features\": 20480, \"out_features\": 256}}, {\"class\": \"ReLU\", \"kargs\": {\"inplace\": true}}, {\"class\": \"BatchNorm1d\", \"kargs\": {\"num_features\": 256}}, {\"class\": \"Linear\", \"kargs\": {\"in_features\": 256, \"out_features\": 256}}], \"NUM_LOGS_PER_EPOCH\": 10, \"BEST_MODEL_PATH\": \"./best_model.pth\", \"n_way\": 16, \"datasets\": [{\"labels\": [\"3123D52\", \"3123D65\", \"3123D79\", \"3123D80\", \"3123D54\", \"3123D70\", \"3123D7B\", \"3123D89\", \"3123D58\", \"3123D76\", \"3123D7D\", \"3123EFE\", \"3123D64\", \"3123D78\", \"3123D7E\", \"3124E4A\"], \"domains\": [32, 38, 8, 44, 14, 50, 20, 26], \"num_examples_per_domain_per_label\": 2000, \"pickle_path\": \"/root/csc500-main/datasets/oracle.Run1_framed_2000Examples_stratified_ds.2022A.pkl\", \"source_or_target_dataset\": \"target\", \"x_transforms\": [\"unit_power\"], \"episode_transforms\": [], \"domain_prefix\": \"ORACLE.run1_\"}, {\"labels\": [\"3123D52\", \"3123D65\", \"3123D79\", \"3123D80\", \"3123D54\", \"3123D70\", \"3123D7B\", \"3123D89\", \"3123D58\", \"3123D76\", \"3123D7D\", \"3123EFE\", \"3123D64\", \"3123D78\", \"3123D7E\", \"3124E4A\"], \"domains\": [32, 38, 8, 44, 14, 50, 20, 26], \"num_examples_per_domain_per_label\": 2000, \"pickle_path\": \"/root/csc500-main/datasets/oracle.Run2_framed_2000Examples_stratified_ds.2022A.pkl\", \"source_or_target_dataset\": \"source\", \"x_transforms\": [\"unit_power\"], \"episode_transforms\": [], \"domain_prefix\": \"ORACLE.run2_\"}], \"dataset_seed\": 500, \"seed\": 500, \"x_shape\": [2, 256], \"domains_source\": [\"ORACLE.run2_32\", \"ORACLE.run2_38\", \"ORACLE.run2_8\", \"ORACLE.run2_44\", \"ORACLE.run2_14\", \"ORACLE.run2_50\", \"ORACLE.run2_20\", \"ORACLE.run2_26\"], \"domains_target\": [\"ORACLE.run1_32\", \"ORACLE.run1_38\", \"ORACLE.run1_8\", \"ORACLE.run1_44\", \"ORACLE.run1_14\", \"ORACLE.run1_50\", \"ORACLE.run1_20\", \"ORACLE.run1_26\"]}, \"results\": {\"source_test_label_accuracy\": 0.8950846354166667, \"source_test_label_loss\": 0.2922409772872925, \"target_test_label_accuracy\": 0.8846354166666667, \"target_test_label_loss\": 0.32079580426216125, \"source_val_label_accuracy\": 0.8943684895833334, \"source_val_label_loss\": 0.29128792881965637, \"target_val_label_accuracy\": 0.8854166666666666, \"target_val_label_loss\": 0.32367369532585144, \"total_epochs_trained\": 12, \"total_experiment_time_secs\": 2492.01509809494, \"confusion\": {\"ORACLE.run2_50\": {\"7\": {\"5\": 14, \"7\": 220, \"13\": 6}, \"10\": {\"10\": 212, \"13\": 24, \"0\": 4}, \"0\": {\"2\": 10, \"0\": 228, \"10\": 2}, \"11\": {\"11\": 225, \"15\": 13, \"12\": 1, \"9\": 1}, \"2\": {\"2\": 231, \"0\": 9}, \"14\": {\"14\": 240}, \"9\": {\"9\": 239, \"12\": 1}, \"13\": {\"13\": 210, \"7\": 8, \"10\": 19, \"5\": 3}, \"8\": {\"8\": 239, \"3\": 1}, \"15\": {\"15\": 231, \"11\": 6, \"4\": 1, \"1\": 2}, \"4\": {\"4\": 178, \"5\": 55, \"6\": 3, \"1\": 3, \"7\": 1}, \"5\": {\"5\": 154, \"4\": 59, \"7\": 9, \"6\": 12, \"1\": 2, \"13\": 4}, \"3\": {\"3\": 239, \"8\": 1}, \"1\": {\"1\": 237, \"6\": 1, \"15\": 1, \"4\": 1}, \"6\": {\"6\": 221, \"5\": 10, \"4\": 6, \"1\": 3}, \"12\": {\"12\": 236, \"11\": 2, \"9\": 2}}, \"ORACLE.run2_14\": {\"14\": {\"14\": 207, \"2\": 33}, \"6\": {\"6\": 234, \"13\": 5, \"14\": 1}, \"5\": {\"5\": 218, \"1\": 3, \"2\": 8, \"4\": 9, \"3\": 2}, \"15\": {\"15\": 240}, \"11\": {\"11\": 240}, \"8\": {\"8\": 240}, \"12\": {\"12\": 212, \"9\": 17, \"0\": 4, \"11\": 5, \"8\": 2}, \"1\": {\"1\": 235, \"5\": 5}, \"2\": {\"2\": 155, \"14\": 42, \"5\": 27, \"3\": 14, \"13\": 1, \"6\": 1}, \"13\": {\"13\": 216, \"6\": 24}, \"3\": {\"3\": 227, \"5\": 10, \"2\": 3}, \"0\": {\"0\": 240}, \"9\": {\"9\": 240}, \"4\": {\"4\": 237, \"5\": 3}, \"7\": {\"7\": 240}, \"10\": {\"10\": 240}}, \"ORACLE.run2_32\": {\"4\": {\"4\": 198, \"13\": 29, \"7\": 11, \"2\": 1, \"5\": 1}, \"14\": {\"14\": 219, \"0\": 16, \"5\": 4, \"11\": 1}, \"5\": {\"5\": 193, \"4\": 8, \"8\": 17, \"7\": 5, \"2\": 9, \"0\": 5, \"14\": 3}, \"10\": {\"10\": 240}, \"13\": {\"13\": 207, \"4\": 26, \"3\": 1, \"11\": 2, \"7\": 4}, \"9\": {\"9\": 240}, \"6\": {\"6\": 240}, \"3\": {\"3\": 240}, \"15\": {\"15\": 239, \"8\": 1}, \"7\": {\"4\": 10, \"7\": 211, \"2\": 3, \"11\": 12, \"5\": 4}, \"12\": {\"12\": 240}, \"8\": {\"5\": 3, \"8\": 224, \"0\": 13}, \"11\": {\"11\": 217, \"0\": 6, \"7\": 14, \"13\": 1, \"14\": 2}, \"2\": {\"4\": 2, \"2\": 234, \"5\": 3, \"7\": 1}, \"1\": {\"1\": 240}, \"0\": {\"0\": 199, \"11\": 8, \"8\": 20, \"4\": 2, \"14\": 11}}, \"ORACLE.run2_44\": {\"8\": {\"8\": 170, \"0\": 69, \"5\": 1}, \"11\": {\"11\": 240}, \"14\": {\"14\": 208, \"5\": 10, \"15\": 17, \"4\": 5}, \"10\": {\"10\": 239, \"1\": 1}, \"3\": {\"3\": 226, \"1\": 7, \"12\": 7}, \"15\": {\"15\": 214, \"4\": 1, \"14\": 21, \"8\": 3, \"0\": 1}, \"2\": {\"2\": 214, \"7\": 10, \"9\": 15, \"1\": 1}, \"12\": {\"12\": 194, \"3\": 4, \"1\": 42}, \"4\": {\"4\": 230, \"14\": 9, \"15\": 1}, \"1\": {\"1\": 199, \"12\": 31, \"3\": 10}, \"0\": {\"0\": 158, \"8\": 81, \"15\": 1}, \"9\": {\"9\": 145, \"7\": 66, \"2\": 20, \"6\": 9}, \"5\": {\"5\": 231, \"14\": 8, \"15\": 1}, \"6\": {\"6\": 226, \"7\": 5, \"9\": 4, \"13\": 5}, \"7\": {\"9\": 87, \"7\": 142, \"6\": 3, \"2\": 8}, \"13\": {\"13\": 234, \"4\": 2, \"6\": 3, \"9\": 1}}, \"ORACLE.run2_8\": {\"13\": {\"13\": 234, \"14\": 4, \"10\": 1, \"1\": 1}, \"3\": {\"3\": 240}, \"15\": {\"15\": 219, \"8\": 12, \"12\": 8, \"11\": 1}, \"4\": {\"6\": 45, \"4\": 142, \"7\": 52, \"2\": 1}, \"7\": {\"6\": 12, \"7\": 174, \"4\": 54}, \"2\": {\"2\": 230, \"4\": 5, \"7\": 5}, \"1\": {\"13\": 3, \"1\": 237}, \"0\": {\"0\": 227, \"10\": 9, \"14\": 4}, \"12\": {\"12\": 234, \"15\": 6}, \"6\": {\"6\": 172, \"4\": 53, \"7\": 15}, \"11\": {\"11\": 235, \"8\": 3, \"12\": 2}, \"9\": {\"9\": 240}, \"5\": {\"5\": 229, \"10\": 10, \"13\": 1}, \"10\": {\"10\": 216, \"0\": 7, \"5\": 14, \"14\": 3}, \"14\": {\"14\": 221, \"0\": 9, \"13\": 6, \"10\": 3, \"6\": 1}, \"8\": {\"8\": 239, \"15\": 1}}, \"ORACLE.run2_20\": {\"6\": {\"6\": 233, \"14\": 7}, \"11\": {\"11\": 240}, \"5\": {\"5\": 200, \"7\": 3, \"2\": 4, \"15\": 14, \"0\": 12, \"12\": 4, \"3\": 1, \"13\": 1, \"8\": 1}, \"14\": {\"14\": 221, \"8\": 5, \"6\": 14}, \"2\": {\"12\": 13, \"2\": 176, \"9\": 27, \"1\": 2, \"5\": 5, \"3\": 17}, \"7\": {\"7\": 233, \"3\": 4, \"8\": 2, \"2\": 1}, \"3\": {\"3\": 197, \"2\": 28, \"9\": 13, \"12\": 1, \"7\": 1}, \"4\": {\"4\": 240}, \"9\": {\"9\": 213, \"3\": 9, \"2\": 12, \"12\": 4, \"1\": 2}, \"12\": {\"12\": 190, \"2\": 13, \"1\": 28, \"5\": 3, \"9\": 5, \"4\": 1}, \"0\": {\"0\": 233, \"5\": 4, \"15\": 3}, \"10\": {\"10\": 240}, \"8\": {\"8\": 221, \"14\": 12, \"7\": 7}, \"13\": {\"13\": 216, \"15\": 24}, \"1\": {\"1\": 195, \"12\": 39, \"15\": 6}, \"15\": {\"15\": 201, \"0\": 7, \"1\": 3, \"13\": 19, \"5\": 4, \"12\": 5, \"9\": 1}}, \"ORACLE.run2_38\": {\"3\": {\"3\": 194, \"13\": 40, \"7\": 1, \"0\": 4, \"8\": 1}, \"8\": {\"8\": 164, \"5\": 55, \"7\": 17, \"13\": 2, \"15\": 2}, \"0\": {\"0\": 227, \"3\": 2, \"10\": 2, \"8\": 4, \"7\": 5}, \"2\": {\"2\": 228, \"14\": 12}, \"4\": {\"4\": 238, \"14\": 2}, \"7\": {\"7\": 187, \"10\": 20, \"8\": 18, \"5\": 14, \"13\": 1}, \"12\": {\"12\": 240}, \"6\": {\"6\": 236, \"9\": 4}, \"15\": {\"5\": 20, \"1\": 11, \"15\": 200, \"0\": 1, \"8\": 7, \"6\": 1}, \"11\": {\"11\": 240}, \"9\": {\"9\": 237, \"6\": 3}, \"14\": {\"14\": 211, \"2\": 28, \"11\": 1}, \"10\": {\"10\": 214, \"7\": 24, \"3\": 2}, \"5\": {\"5\": 177, \"8\": 34, \"15\": 5, \"7\": 24}, \"1\": {\"1\": 233, \"5\": 2, \"2\": 1, \"15\": 3, \"8\": 1}, \"13\": {\"3\": 30, \"13\": 208, \"7\": 1, \"0\": 1}}, \"ORACLE.run2_26\": {\"5\": {\"13\": 16, \"5\": 193, \"2\": 14, \"8\": 3, \"3\": 5, \"6\": 1, \"7\": 6, \"9\": 2}, \"8\": {\"8\": 168, \"14\": 13, \"7\": 12, \"10\": 10, \"2\": 14, \"0\": 16, \"4\": 6, \"1\": 1}, \"4\": {\"4\": 207, \"0\": 6, \"3\": 4, \"14\": 9, \"8\": 5, \"2\": 2, \"7\": 6, \"15\": 1}, \"12\": {\"12\": 240}, \"6\": {\"6\": 223, \"9\": 12, \"10\": 5}, \"7\": {\"7\": 144, \"8\": 6, \"2\": 63, \"15\": 3, \"3\": 13, \"4\": 9, \"13\": 1, \"5\": 1}, \"10\": {\"10\": 116, \"8\": 24, \"0\": 59, \"4\": 4, \"14\": 27, \"6\": 9, \"15\": 1}, \"0\": {\"0\": 141, \"4\": 12, \"14\": 39, \"10\": 35, \"8\": 11, \"7\": 1, \"2\": 1}, \"15\": {\"15\": 218, \"7\": 11, \"4\": 1, \"10\": 1, \"9\": 2, \"2\": 5, \"3\": 1, \"8\": 1}, \"9\": {\"9\": 230, \"13\": 5, \"5\": 1, \"6\": 4}, \"11\": {\"11\": 240}, \"14\": {\"14\": 164, \"0\": 40, \"10\": 10, \"1\": 10, \"4\": 6, \"2\": 1, \"8\": 9}, \"2\": {\"2\": 141, \"7\": 54, \"5\": 10, \"15\": 7, \"8\": 11, \"3\": 16, \"13\": 1}, \"13\": {\"13\": 230, \"5\": 8, \"9\": 2}, \"3\": {\"15\": 2, \"3\": 208, \"2\": 17, \"7\": 12, \"5\": 1}, \"1\": {\"1\": 228, \"14\": 12}}, \"ORACLE.run1_50\": {\"7\": {\"13\": 5, \"7\": 226, \"5\": 6, \"6\": 3}, \"10\": {\"10\": 232, \"8\": 4, \"13\": 2, \"0\": 2}, \"0\": {\"2\": 18, \"0\": 216, \"10\": 6}, \"11\": {\"11\": 230, \"1\": 1, \"15\": 7, \"9\": 2}, \"2\": {\"2\": 234, \"0\": 6}, \"14\": {\"14\": 240}, \"9\": {\"11\": 9, \"9\": 226, \"12\": 3, \"4\": 2}, \"13\": {\"13\": 227, \"5\": 6, \"7\": 1, \"10\": 2, \"6\": 4}, \"8\": {\"8\": 232, \"10\": 5, \"3\": 1, \"0\": 2}, \"15\": {\"15\": 226, \"4\": 5, \"6\": 2, \"11\": 4, \"1\": 3}, \"4\": {\"4\": 172, \"5\": 36, \"15\": 15, \"7\": 9, \"1\": 4, \"6\": 2, \"13\": 1, \"9\": 1}, \"5\": {\"4\": 25, \"13\": 12, \"5\": 161, \"6\": 5, \"7\": 28, \"1\": 9}, \"3\": {\"3\": 239, \"8\": 1}, \"1\": {\"1\": 219, \"4\": 3, \"5\": 2, \"15\": 10, \"13\": 1, \"11\": 3, \"6\": 1, \"2\": 1}, \"6\": {\"6\": 234, \"7\": 2, \"4\": 1, \"5\": 2, \"13\": 1}, \"12\": {\"12\": 234, \"11\": 5, \"9\": 1}}, \"ORACLE.run1_14\": {\"14\": {\"14\": 225, \"2\": 11, \"13\": 4}, \"6\": {\"6\": 206, \"13\": 33, \"14\": 1}, \"5\": {\"5\": 215, \"4\": 13, \"2\": 4, \"1\": 8}, \"15\": {\"15\": 240}, \"11\": {\"11\": 216, \"9\": 22, \"12\": 2}, \"8\": {\"8\": 240}, \"12\": {\"12\": 240}, \"1\": {\"1\": 234, \"5\": 6}, \"2\": {\"2\": 164, \"14\": 42, \"6\": 10, \"13\": 6, \"5\": 15, \"3\": 3}, \"13\": {\"13\": 149, \"6\": 71, \"14\": 6, \"4\": 3, \"2\": 7, \"3\": 2, \"5\": 2}, \"3\": {\"3\": 237, \"2\": 1, \"4\": 1, \"5\": 1}, \"0\": {\"0\": 235, \"3\": 3, \"14\": 1, \"11\": 1}, \"9\": {\"9\": 239, \"12\": 1}, \"4\": {\"4\": 234, \"5\": 5, \"1\": 1}, \"7\": {\"7\": 240}, \"10\": {\"10\": 240}}, \"ORACLE.run1_32\": {\"4\": {\"4\": 206, \"2\": 30, \"13\": 2, \"7\": 2}, \"14\": {\"14\": 188, \"11\": 14, \"7\": 6, \"3\": 4, \"0\": 20, \"13\": 2, \"5\": 3, \"8\": 3}, \"5\": {\"5\": 166, \"7\": 48, \"14\": 3, \"3\": 5, \"4\": 7, \"13\": 10, \"0\": 1}, \"10\": {\"10\": 240}, \"13\": {\"7\": 4, \"13\": 195, \"11\": 1, \"3\": 16, \"5\": 5, \"8\": 3, \"4\": 15, \"0\": 1}, \"9\": {\"9\": 240}, \"6\": {\"6\": 240}, \"3\": {\"3\": 239, \"13\": 1}, \"15\": {\"15\": 240}, \"7\": {\"7\": 194, \"5\": 25, \"2\": 7, \"4\": 6, \"14\": 5, \"0\": 2, \"13\": 1}, \"12\": {\"12\": 240}, \"8\": {\"8\": 219, \"0\": 14, \"3\": 1, \"5\": 3, \"13\": 3}, \"11\": {\"11\": 233, \"13\": 1, \"14\": 5, \"5\": 1}, \"2\": {\"2\": 198, \"4\": 38, \"7\": 4}, \"1\": {\"1\": 240}, \"0\": {\"0\": 208, \"8\": 22, \"14\": 6, \"7\": 1, \"5\": 2, \"13\": 1}}, \"ORACLE.run1_44\": {\"8\": {\"0\": 97, \"8\": 132, \"5\": 6, \"15\": 5}, \"11\": {\"11\": 234, \"6\": 1, \"13\": 5}, \"14\": {\"14\": 188, \"4\": 40, \"15\": 9, \"5\": 3}, \"10\": {\"10\": 205, \"1\": 17, \"2\": 10, \"12\": 6, \"9\": 1, \"7\": 1}, \"3\": {\"3\": 235, \"1\": 2, \"12\": 3}, \"15\": {\"15\": 208, \"0\": 15, \"14\": 14, \"5\": 2, \"8\": 1}, \"2\": {\"2\": 199, \"7\": 25, \"10\": 10, \"1\": 6}, \"12\": {\"12\": 233, \"1\": 5, \"3\": 1, \"10\": 1}, \"4\": {\"14\": 44, \"4\": 195, \"15\": 1}, \"1\": {\"1\": 188, \"3\": 8, \"10\": 13, \"12\": 20, \"2\": 11}, \"0\": {\"0\": 149, \"15\": 9, \"8\": 78, \"5\": 4}, \"9\": {\"6\": 19, \"7\": 79, \"9\": 125, \"13\": 17}, \"5\": {\"5\": 211, \"8\": 7, \"15\": 7, \"14\": 5, \"0\": 9, \"4\": 1}, \"6\": {\"6\": 181, \"13\": 47, \"9\": 11, \"7\": 1}, \"7\": {\"7\": 172, \"9\": 44, \"2\": 24}, \"13\": {\"13\": 163, \"6\": 58, \"9\": 16, \"7\": 3}}, \"ORACLE.run1_8\": {\"13\": {\"13\": 130, \"4\": 37, \"0\": 31, \"10\": 28, \"14\": 4, \"6\": 9, \"7\": 1}, \"3\": {\"3\": 240}, \"15\": {\"15\": 226, \"12\": 13, \"8\": 1}, \"4\": {\"4\": 213, \"14\": 4, \"13\": 18, \"6\": 4, \"10\": 1}, \"7\": {\"7\": 220, \"6\": 19, \"0\": 1}, \"2\": {\"2\": 228, \"3\": 4, \"7\": 7, \"12\": 1}, \"1\": {\"1\": 237, \"14\": 2, \"11\": 1}, \"0\": {\"0\": 224, \"13\": 11, \"6\": 2, \"7\": 1, \"4\": 2}, \"12\": {\"12\": 192, \"15\": 31, \"8\": 12, \"3\": 5}, \"6\": {\"6\": 211, \"7\": 18, \"4\": 5, \"13\": 5, \"0\": 1}, \"11\": {\"11\": 233, \"1\": 7}, \"9\": {\"9\": 240}, \"5\": {\"5\": 235, \"1\": 1, \"10\": 4}, \"10\": {\"10\": 218, \"14\": 7, \"13\": 13, \"4\": 2}, \"14\": {\"14\": 205, \"4\": 18, \"10\": 12, \"1\": 4, \"5\": 1}, \"8\": {\"8\": 240}}, \"ORACLE.run1_20\": {\"6\": {\"6\": 231, \"14\": 9}, \"11\": {\"11\": 240}, \"5\": {\"5\": 204, \"15\": 17, \"0\": 16, \"12\": 2, \"4\": 1}, \"14\": {\"14\": 236, \"6\": 3, \"4\": 1}, \"2\": {\"2\": 203, \"7\": 4, \"9\": 18, \"3\": 7, \"12\": 6, \"13\": 2}, \"7\": {\"7\": 234, \"2\": 6}, \"3\": {\"3\": 175, \"2\": 11, \"12\": 27, \"9\": 17, \"7\": 6, \"4\": 4}, \"4\": {\"4\": 239, \"8\": 1}, \"9\": {\"2\": 18, \"9\": 203, \"12\": 4, \"3\": 15}, \"12\": {\"12\": 167, \"1\": 32, \"3\": 24, \"2\": 9, \"5\": 3, \"9\": 5}, \"0\": {\"0\": 213, \"15\": 13, \"5\": 14}, \"10\": {\"10\": 240}, \"8\": {\"8\": 232, \"4\": 6, \"7\": 2}, \"13\": {\"13\": 237, \"2\": 3}, \"1\": {\"1\": 206, \"12\": 19, \"15\": 10, \"5\": 4, \"3\": 1}, \"15\": {\"15\": 220, \"5\": 5, \"1\": 11, \"0\": 3, \"12\": 1}}, \"ORACLE.run1_38\": {\"3\": {\"3\": 237, \"0\": 3}, \"8\": {\"8\": 177, \"5\": 43, \"7\": 9, \"15\": 1, \"10\": 2, \"13\": 3, \"0\": 5}, \"0\": {\"0\": 197, \"7\": 10, \"5\": 5, \"10\": 5, \"8\": 12, \"3\": 7, \"13\": 4}, \"2\": {\"2\": 232, \"14\": 7, \"13\": 1}, \"4\": {\"4\": 240}, \"7\": {\"7\": 218, \"0\": 5, \"5\": 7, \"8\": 9, \"10\": 1}, \"12\": {\"12\": 239, \"4\": 1}, \"6\": {\"6\": 240}, \"15\": {\"15\": 209, \"1\": 15, \"8\": 11, \"5\": 5}, \"11\": {\"11\": 237, \"9\": 2, \"3\": 1}, \"9\": {\"9\": 236, \"5\": 1, \"6\": 2, \"13\": 1}, \"14\": {\"14\": 236, \"2\": 3, \"10\": 1}, \"10\": {\"10\": 204, \"0\": 4, \"7\": 11, \"13\": 14, \"14\": 7}, \"5\": {\"5\": 155, \"8\": 54, \"7\": 14, \"9\": 10, \"15\": 6, \"6\": 1}, \"1\": {\"1\": 240}, \"13\": {\"13\": 220, \"8\": 2, \"0\": 2, \"2\": 6, \"15\": 2, \"10\": 7, \"5\": 1}}, \"ORACLE.run1_26\": {\"5\": {\"5\": 223, \"13\": 10, \"2\": 6, \"15\": 1}, \"8\": {\"8\": 170, \"0\": 16, \"10\": 29, \"4\": 12, \"14\": 2, \"7\": 10, \"2\": 1}, \"4\": {\"4\": 201, \"7\": 10, \"0\": 4, \"14\": 13, \"8\": 8, \"1\": 1, \"10\": 3}, \"12\": {\"12\": 240}, \"6\": {\"6\": 227, \"15\": 4, \"9\": 4, \"10\": 5}, \"7\": {\"7\": 201, \"3\": 14, \"8\": 4, \"4\": 11, \"2\": 9, \"0\": 1}, \"10\": {\"8\": 28, \"10\": 126, \"14\": 20, \"15\": 1, \"0\": 61, \"4\": 2, \"6\": 1, \"9\": 1}, \"0\": {\"0\": 124, \"14\": 24, \"4\": 19, \"10\": 57, \"8\": 14, \"7\": 2}, \"15\": {\"15\": 194, \"9\": 33, \"0\": 1, \"5\": 1, \"6\": 5, \"13\": 2, \"2\": 1, \"8\": 2, \"10\": 1}, \"9\": {\"9\": 191, \"15\": 35, \"6\": 9, \"7\": 1, \"13\": 3, \"8\": 1}, \"11\": {\"11\": 240}, \"14\": {\"14\": 189, \"0\": 28, \"1\": 8, \"4\": 9, \"10\": 3, \"8\": 3}, \"2\": {\"2\": 125, \"3\": 68, \"13\": 4, \"15\": 6, \"7\": 9, \"8\": 6, \"5\": 21, \"9\": 1}, \"13\": {\"13\": 211, \"5\": 19, \"9\": 8, \"15\": 1, \"2\": 1}, \"3\": {\"3\": 212, \"2\": 23, \"7\": 5}, \"1\": {\"14\": 9, \"1\": 231}}}, \"per_domain_accuracy\": {\"ORACLE.run2_50\": {\"accuracy\": 0.921875, \"source?\": true}, \"ORACLE.run2_14\": {\"accuracy\": 0.94296875, \"source?\": true}, \"ORACLE.run2_32\": {\"accuracy\": 0.9325520833333333, \"source?\": true}, \"ORACLE.run2_44\": {\"accuracy\": 0.8515625, \"source?\": true}, \"ORACLE.run2_8\": {\"accuracy\": 0.90859375, \"source?\": true}, \"ORACLE.run2_20\": {\"accuracy\": 0.8981770833333333, \"source?\": true}, \"ORACLE.run2_38\": {\"accuracy\": 0.8942708333333333, \"source?\": true}, \"ORACLE.run2_26\": {\"accuracy\": 0.8049479166666667, \"source?\": true}, \"ORACLE.run1_50\": {\"accuracy\": 0.9239583333333333, \"source?\": false}, \"ORACLE.run1_14\": {\"accuracy\": 0.9255208333333333, \"source?\": false}, \"ORACLE.run1_32\": {\"accuracy\": 0.9078125, \"source?\": false}, \"ORACLE.run1_44\": {\"accuracy\": 0.7859375, \"source?\": false}, \"ORACLE.run1_8\": {\"accuracy\": 0.909375, \"source?\": false}, \"ORACLE.run1_20\": {\"accuracy\": 0.90625, \"source?\": false}, \"ORACLE.run1_38\": {\"accuracy\": 0.9158854166666667, \"source?\": false}, \"ORACLE.run1_26\": {\"accuracy\": 0.80859375, \"source?\": false}}}, \"history\": {\"epoch_indices\": [1, 2, 3, 4, 5, 6, 7, 8, 9, 10, 11, 12], \"train_label_loss\": [0.8579837016916524, 0.5110471767595126, 0.4112371093454948, 0.3487216648526512, 0.30706321336467574, 0.2813216169718154, 0.25809305541832667, 0.2394499814919462, 0.2252831202222123, 0.20990324881290906, 0.1983115520030662, 0.1862286226997163], \"source_val_label_loss\": [1.2493079900741577, 0.44611725211143494, 0.39170247316360474, 0.34281688928604126, 0.33762210607528687, 0.3174296021461487, 0.35875850915908813, 0.29128792881965637, 0.29097607731819153, 0.3187669813632965, 0.2898373007774353, 0.28552260994911194], \"target_val_label_loss\": [1.3241302967071533, 0.43572691082954407, 0.38902875781059265, 0.35604605078697205, 0.35533416271209717, 0.35079139471054077, 0.3903600573539734, 0.32367369532585144, 0.3347666561603546, 0.36037859320640564, 0.3402385711669922, 0.34460365772247314], \"source_val_acc_label\": [0.7039388020833334, 0.8414713541666666, 0.86240234375, 0.8760416666666667, 0.8770833333333333, 0.8872721354166667, 0.8695638020833333, 0.8943684895833334, 0.8942708333333333, 0.8847005208333333, 0.8969075520833333, 0.9006510416666667], \"target_val_acc_label\": [0.7114908854166667, 0.8467122395833333, 0.85791015625, 0.8735677083333333, 0.87587890625, 0.87548828125, 0.8620768229166667, 0.8854166666666666, 0.8819661458333333, 0.8792317708333334, 0.88232421875, 0.8818359375]}, \"dataset_metrics\": {\"source\": {\"train\": {\"n_unique_x\": 179200, \"n_unique_y\": 16, \"n_batch/episode\": 6720}, \"val\": {\"n_unique_x\": 38400, \"n_unique_y\": 16, \"n_batch/episode\": 960}, \"test\": {\"n_unique_x\": 38400, \"n_unique_y\": 16, \"n_batch/episode\": 960}}, \"target\": {\"train\": {\"n_unique_x\": 179200, \"n_unique_y\": 16, \"n_batch/episode\": 6720}, \"val\": {\"n_unique_x\": 38400, \"n_unique_y\": 16, \"n_batch/episode\": 960}, \"test\": {\"n_unique_x\": 38400, \"n_unique_y\": 16, \"n_batch/episode\": 960}}}}'"
      ]
     },
     "execution_count": 29,
     "metadata": {},
     "output_type": "execute_result"
    }
   ],
   "source": [
    "json.dumps(experiment)"
   ]
  }
 ],
 "metadata": {
  "celltoolbar": "Tags",
  "kernelspec": {
   "display_name": "Python 3 (ipykernel)",
   "language": "python",
   "name": "python3"
  },
  "language_info": {
   "codemirror_mode": {
    "name": "ipython",
    "version": 3
   },
   "file_extension": ".py",
   "mimetype": "text/x-python",
   "name": "python",
   "nbconvert_exporter": "python",
   "pygments_lexer": "ipython3",
   "version": "3.8.12"
  },
  "papermill": {
   "default_parameters": {},
   "duration": 2688.058896,
   "end_time": "2022-03-22T09:45:23.937074",
   "environment_variables": {},
   "exception": null,
   "input_path": "/root/csc500-main/csc500-notebooks/templates/tl_ptn_template.ipynb",
   "output_path": "trial.ipynb",
   "parameters": {
    "parameters": {
     "BEST_MODEL_PATH": "./best_model.pth",
     "NUM_LOGS_PER_EPOCH": 10,
     "criteria_for_best": "target_accuracy",
     "dataset_seed": 500,
     "datasets": [
      {
       "domain_prefix": "ORACLE.run1_",
       "domains": [
        32,
        38,
        8,
        44,
        14,
        50,
        20,
        26
       ],
       "episode_transforms": [],
       "labels": [
        "3123D52",
        "3123D65",
        "3123D79",
        "3123D80",
        "3123D54",
        "3123D70",
        "3123D7B",
        "3123D89",
        "3123D58",
        "3123D76",
        "3123D7D",
        "3123EFE",
        "3123D64",
        "3123D78",
        "3123D7E",
        "3124E4A"
       ],
       "num_examples_per_domain_per_label": 2000,
       "pickle_path": "/root/csc500-main/datasets/oracle.Run1_framed_2000Examples_stratified_ds.2022A.pkl",
       "source_or_target_dataset": "target",
       "x_transforms": [
        "unit_power"
       ]
      },
      {
       "domain_prefix": "ORACLE.run2_",
       "domains": [
        32,
        38,
        8,
        44,
        14,
        50,
        20,
        26
       ],
       "episode_transforms": [],
       "labels": [
        "3123D52",
        "3123D65",
        "3123D79",
        "3123D80",
        "3123D54",
        "3123D70",
        "3123D7B",
        "3123D89",
        "3123D58",
        "3123D76",
        "3123D7D",
        "3123EFE",
        "3123D64",
        "3123D78",
        "3123D7E",
        "3124E4A"
       ],
       "num_examples_per_domain_per_label": 2000,
       "pickle_path": "/root/csc500-main/datasets/oracle.Run2_framed_2000Examples_stratified_ds.2022A.pkl",
       "source_or_target_dataset": "source",
       "x_transforms": [
        "unit_power"
       ]
      }
     ],
     "device": "cuda",
     "experiment_name": "tl_1v2:oracle.run1.framed-oracle.run2.framed",
     "lr": 0.0001,
     "n_epoch": 50,
     "n_query": 2,
     "n_shot": 3,
     "n_way": 16,
     "patience": 3,
     "seed": 500,
     "test_k_factor": 2,
     "torch_default_dtype": "torch.float32",
     "train_k_factor": 3,
     "val_k_factor": 2,
     "x_net": [
      {
       "class": "nnReshape",
       "kargs": {
        "shape": [
         -1,
         1,
         2,
         256
        ]
       }
      },
      {
       "class": "Conv2d",
       "kargs": {
        "bias": false,
        "in_channels": 1,
        "kernel_size": [
         1,
         7
        ],
        "out_channels": 256,
        "padding": [
         0,
         3
        ]
       }
      },
      {
       "class": "ReLU",
       "kargs": {
        "inplace": true
       }
      },
      {
       "class": "BatchNorm2d",
       "kargs": {
        "num_features": 256
       }
      },
      {
       "class": "Conv2d",
       "kargs": {
        "bias": true,
        "in_channels": 256,
        "kernel_size": [
         2,
         7
        ],
        "out_channels": 80,
        "padding": [
         0,
         3
        ]
       }
      },
      {
       "class": "ReLU",
       "kargs": {
        "inplace": true
       }
      },
      {
       "class": "BatchNorm2d",
       "kargs": {
        "num_features": 80
       }
      },
      {
       "class": "Flatten",
       "kargs": {}
      },
      {
       "class": "Linear",
       "kargs": {
        "in_features": 20480,
        "out_features": 256
       }
      },
      {
       "class": "ReLU",
       "kargs": {
        "inplace": true
       }
      },
      {
       "class": "BatchNorm1d",
       "kargs": {
        "num_features": 256
       }
      },
      {
       "class": "Linear",
       "kargs": {
        "in_features": 256,
        "out_features": 256
       }
      }
     ]
    }
   },
   "start_time": "2022-03-22T09:00:35.878178",
   "version": "2.3.4"
  }
 },
 "nbformat": 4,
 "nbformat_minor": 5
}