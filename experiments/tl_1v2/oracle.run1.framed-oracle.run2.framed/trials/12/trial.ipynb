{
 "cells": [
  {
   "cell_type": "markdown",
   "id": "9fea5f46",
   "metadata": {
    "papermill": {
     "duration": 0.032353,
     "end_time": "2022-03-21T16:15:11.647460",
     "exception": false,
     "start_time": "2022-03-21T16:15:11.615107",
     "status": "completed"
    },
    "tags": []
   },
   "source": [
    "# Transfer Learning Template"
   ]
  },
  {
   "cell_type": "code",
   "execution_count": 1,
   "id": "0902182a",
   "metadata": {
    "execution": {
     "iopub.execute_input": "2022-03-21T16:15:11.711164Z",
     "iopub.status.busy": "2022-03-21T16:15:11.710314Z",
     "iopub.status.idle": "2022-03-21T16:15:13.627217Z",
     "shell.execute_reply": "2022-03-21T16:15:13.626396Z"
    },
    "papermill": {
     "duration": 1.956494,
     "end_time": "2022-03-21T16:15:13.627417",
     "exception": false,
     "start_time": "2022-03-21T16:15:11.670923",
     "status": "completed"
    },
    "tags": []
   },
   "outputs": [],
   "source": [
    "%load_ext autoreload\n",
    "%autoreload 2\n",
    "%matplotlib inline\n",
    "\n",
    "    \n",
    "import os, json, sys, time, random\n",
    "import numpy as np\n",
    "import torch\n",
    "from torch.optim import Adam\n",
    "from  easydict import EasyDict\n",
    "import matplotlib.pyplot as plt\n",
    "\n",
    "from steves_models.steves_ptn import Steves_Prototypical_Network\n",
    "\n",
    "from steves_utils.lazy_iterable_wrapper import Lazy_Iterable_Wrapper\n",
    "from steves_utils.iterable_aggregator import Iterable_Aggregator\n",
    "from steves_utils.ptn_train_eval_test_jig import  PTN_Train_Eval_Test_Jig\n",
    "from steves_utils.torch_sequential_builder import build_sequential\n",
    "from steves_utils.torch_utils import get_dataset_metrics, ptn_confusion_by_domain_over_dataloader\n",
    "from steves_utils.utils_v2 import (per_domain_accuracy_from_confusion, get_datasets_base_path)\n",
    "from steves_utils.PTN.utils import independent_accuracy_assesment\n",
    "\n",
    "from torch.utils.data import DataLoader\n",
    "\n",
    "from steves_utils.stratified_dataset.episodic_accessor import Episodic_Accessor_Factory\n",
    "\n",
    "from steves_utils.ptn_do_report import (\n",
    "    get_loss_curve,\n",
    "    get_results_table,\n",
    "    get_parameters_table,\n",
    "    get_domain_accuracies,\n",
    ")\n",
    "\n",
    "from steves_utils.transforms import get_chained_transform"
   ]
  },
  {
   "cell_type": "markdown",
   "id": "41c840b4",
   "metadata": {
    "papermill": {
     "duration": 0.018487,
     "end_time": "2022-03-21T16:15:13.670362",
     "exception": false,
     "start_time": "2022-03-21T16:15:13.651875",
     "status": "completed"
    },
    "tags": []
   },
   "source": [
    "# Allowed Parameters\n",
    "These are allowed parameters, not defaults\n",
    "Each of these values need to be present in the injected parameters (the notebook will raise an exception if they are not present)\n",
    "\n",
    "Papermill uses the cell tag \"parameters\" to inject the real parameters below this cell.\n",
    "Enable tags to see what I mean"
   ]
  },
  {
   "cell_type": "code",
   "execution_count": 2,
   "id": "fd44eb83",
   "metadata": {
    "execution": {
     "iopub.execute_input": "2022-03-21T16:15:13.713655Z",
     "iopub.status.busy": "2022-03-21T16:15:13.713014Z",
     "iopub.status.idle": "2022-03-21T16:15:13.733750Z",
     "shell.execute_reply": "2022-03-21T16:15:13.732965Z"
    },
    "papermill": {
     "duration": 0.04508,
     "end_time": "2022-03-21T16:15:13.733913",
     "exception": false,
     "start_time": "2022-03-21T16:15:13.688833",
     "status": "completed"
    },
    "tags": []
   },
   "outputs": [],
   "source": [
    "required_parameters = {\n",
    "    \"experiment_name\",\n",
    "    \"lr\",\n",
    "    \"device\",\n",
    "    \"seed\",\n",
    "    \"dataset_seed\",\n",
    "    \"n_shot\",\n",
    "    \"n_query\",\n",
    "    \"n_way\",\n",
    "    \"train_k_factor\",\n",
    "    \"val_k_factor\",\n",
    "    \"test_k_factor\",\n",
    "    \"n_epoch\",\n",
    "    \"patience\",\n",
    "    \"criteria_for_best\",\n",
    "    \"x_net\",\n",
    "    \"datasets\",\n",
    "    \"torch_default_dtype\",\n",
    "    \"NUM_LOGS_PER_EPOCH\",\n",
    "    \"BEST_MODEL_PATH\",\n",
    "    \"x_shape\",\n",
    "}"
   ]
  },
  {
   "cell_type": "code",
   "execution_count": 3,
   "id": "fa3f0049",
   "metadata": {
    "execution": {
     "iopub.execute_input": "2022-03-21T16:15:13.787747Z",
     "iopub.status.busy": "2022-03-21T16:15:13.786891Z",
     "iopub.status.idle": "2022-03-21T16:15:13.810292Z",
     "shell.execute_reply": "2022-03-21T16:15:13.809496Z"
    },
    "papermill": {
     "duration": 0.051779,
     "end_time": "2022-03-21T16:15:13.810460",
     "exception": false,
     "start_time": "2022-03-21T16:15:13.758681",
     "status": "completed"
    },
    "tags": [
     "parameters"
    ]
   },
   "outputs": [],
   "source": [
    "from steves_utils.CORES.utils import (\n",
    "    ALL_NODES,\n",
    "    ALL_NODES_MINIMUM_1000_EXAMPLES,\n",
    "    ALL_DAYS\n",
    ")\n",
    "\n",
    "from steves_utils.ORACLE.utils_v2 import (\n",
    "    ALL_DISTANCES_FEET_NARROWED,\n",
    "    ALL_RUNS,\n",
    "    ALL_SERIAL_NUMBERS,\n",
    ")\n",
    "\n",
    "standalone_parameters = {}\n",
    "standalone_parameters[\"experiment_name\"] = \"STANDALONE PTN\"\n",
    "standalone_parameters[\"lr\"] = 0.001\n",
    "standalone_parameters[\"device\"] = \"cuda\"\n",
    "\n",
    "standalone_parameters[\"seed\"] = 1337\n",
    "standalone_parameters[\"dataset_seed\"] = 1337\n",
    "\n",
    "standalone_parameters[\"n_way\"] = 8\n",
    "standalone_parameters[\"n_shot\"] = 3\n",
    "standalone_parameters[\"n_query\"]  = 2\n",
    "standalone_parameters[\"train_k_factor\"] = 1\n",
    "standalone_parameters[\"val_k_factor\"] = 2\n",
    "standalone_parameters[\"test_k_factor\"] = 2\n",
    "\n",
    "\n",
    "standalone_parameters[\"n_epoch\"] = 50\n",
    "\n",
    "standalone_parameters[\"patience\"] = 10\n",
    "standalone_parameters[\"criteria_for_best\"] = \"source_loss\"\n",
    "\n",
    "standalone_parameters[\"datasets\"] = [\n",
    "    {\n",
    "        \"labels\": ALL_SERIAL_NUMBERS,\n",
    "        \"domains\": ALL_DISTANCES_FEET_NARROWED,\n",
    "        \"num_examples_per_domain_per_label\": 100,\n",
    "        \"pickle_path\": os.path.join(get_datasets_base_path(), \"oracle.Run1_framed_2000Examples_stratified_ds.2022A.pkl\"),\n",
    "        \"source_or_target_dataset\": \"source\",\n",
    "        \"x_transforms\": [\"unit_mag\", \"minus_two\"],\n",
    "        \"episode_transforms\": [],\n",
    "        \"domain_prefix\": \"ORACLE_\"\n",
    "    },\n",
    "    {\n",
    "        \"labels\": ALL_NODES,\n",
    "        \"domains\": ALL_DAYS,\n",
    "        \"num_examples_per_domain_per_label\": 100,\n",
    "        \"pickle_path\": os.path.join(get_datasets_base_path(), \"cores.stratified_ds.2022A.pkl\"),\n",
    "        \"source_or_target_dataset\": \"target\",\n",
    "        \"x_transforms\": [\"unit_power\", \"times_zero\"],\n",
    "        \"episode_transforms\": [],\n",
    "        \"domain_prefix\": \"CORES_\"\n",
    "    }   \n",
    "]\n",
    "\n",
    "standalone_parameters[\"torch_default_dtype\"] = \"torch.float32\" \n",
    "\n",
    "\n",
    "\n",
    "standalone_parameters[\"x_net\"] =     [\n",
    "    {\"class\": \"nnReshape\", \"kargs\": {\"shape\":[-1, 1, 2, 256]}},\n",
    "    {\"class\": \"Conv2d\", \"kargs\": { \"in_channels\":1, \"out_channels\":256, \"kernel_size\":(1,7), \"bias\":False, \"padding\":(0,3), },},\n",
    "    {\"class\": \"ReLU\", \"kargs\": {\"inplace\": True}},\n",
    "    {\"class\": \"BatchNorm2d\", \"kargs\": {\"num_features\":256}},\n",
    "\n",
    "    {\"class\": \"Conv2d\", \"kargs\": { \"in_channels\":256, \"out_channels\":80, \"kernel_size\":(2,7), \"bias\":True, \"padding\":(0,3), },},\n",
    "    {\"class\": \"ReLU\", \"kargs\": {\"inplace\": True}},\n",
    "    {\"class\": \"BatchNorm2d\", \"kargs\": {\"num_features\":80}},\n",
    "    {\"class\": \"Flatten\", \"kargs\": {}},\n",
    "\n",
    "    {\"class\": \"Linear\", \"kargs\": {\"in_features\": 80*256, \"out_features\": 256}}, # 80 units per IQ pair\n",
    "    {\"class\": \"ReLU\", \"kargs\": {\"inplace\": True}},\n",
    "    {\"class\": \"BatchNorm1d\", \"kargs\": {\"num_features\":256}},\n",
    "\n",
    "    {\"class\": \"Linear\", \"kargs\": {\"in_features\": 256, \"out_features\": 256}},\n",
    "]\n",
    "\n",
    "# Parameters relevant to results\n",
    "# These parameters will basically never need to change\n",
    "standalone_parameters[\"NUM_LOGS_PER_EPOCH\"] = 10\n",
    "standalone_parameters[\"BEST_MODEL_PATH\"] = \"./best_model.pth\"\n",
    "\n",
    "\n",
    "\n",
    "\n"
   ]
  },
  {
   "cell_type": "code",
   "execution_count": 4,
   "id": "182db29f",
   "metadata": {
    "execution": {
     "iopub.execute_input": "2022-03-21T16:15:13.875637Z",
     "iopub.status.busy": "2022-03-21T16:15:13.874679Z",
     "iopub.status.idle": "2022-03-21T16:15:13.896580Z",
     "shell.execute_reply": "2022-03-21T16:15:13.895856Z"
    },
    "papermill": {
     "duration": 0.055506,
     "end_time": "2022-03-21T16:15:13.896748",
     "exception": false,
     "start_time": "2022-03-21T16:15:13.841242",
     "status": "completed"
    },
    "tags": [
     "injected-parameters"
    ]
   },
   "outputs": [],
   "source": [
    "# Parameters\n",
    "parameters = {\n",
    "    \"experiment_name\": \"tl_1v2:oracle.run1.framed-oracle.run2.framed\",\n",
    "    \"device\": \"cuda\",\n",
    "    \"lr\": 0.0001,\n",
    "    \"n_shot\": 3,\n",
    "    \"n_query\": 2,\n",
    "    \"train_k_factor\": 3,\n",
    "    \"val_k_factor\": 2,\n",
    "    \"test_k_factor\": 2,\n",
    "    \"torch_default_dtype\": \"torch.float32\",\n",
    "    \"n_epoch\": 50,\n",
    "    \"patience\": 3,\n",
    "    \"criteria_for_best\": \"target_accuracy\",\n",
    "    \"x_net\": [\n",
    "        {\"class\": \"nnReshape\", \"kargs\": {\"shape\": [-1, 1, 2, 256]}},\n",
    "        {\n",
    "            \"class\": \"Conv2d\",\n",
    "            \"kargs\": {\n",
    "                \"in_channels\": 1,\n",
    "                \"out_channels\": 256,\n",
    "                \"kernel_size\": [1, 7],\n",
    "                \"bias\": False,\n",
    "                \"padding\": [0, 3],\n",
    "            },\n",
    "        },\n",
    "        {\"class\": \"ReLU\", \"kargs\": {\"inplace\": True}},\n",
    "        {\"class\": \"BatchNorm2d\", \"kargs\": {\"num_features\": 256}},\n",
    "        {\n",
    "            \"class\": \"Conv2d\",\n",
    "            \"kargs\": {\n",
    "                \"in_channels\": 256,\n",
    "                \"out_channels\": 80,\n",
    "                \"kernel_size\": [2, 7],\n",
    "                \"bias\": True,\n",
    "                \"padding\": [0, 3],\n",
    "            },\n",
    "        },\n",
    "        {\"class\": \"ReLU\", \"kargs\": {\"inplace\": True}},\n",
    "        {\"class\": \"BatchNorm2d\", \"kargs\": {\"num_features\": 80}},\n",
    "        {\"class\": \"Flatten\", \"kargs\": {}},\n",
    "        {\"class\": \"Linear\", \"kargs\": {\"in_features\": 20480, \"out_features\": 256}},\n",
    "        {\"class\": \"ReLU\", \"kargs\": {\"inplace\": True}},\n",
    "        {\"class\": \"BatchNorm1d\", \"kargs\": {\"num_features\": 256}},\n",
    "        {\"class\": \"Linear\", \"kargs\": {\"in_features\": 256, \"out_features\": 256}},\n",
    "    ],\n",
    "    \"NUM_LOGS_PER_EPOCH\": 10,\n",
    "    \"BEST_MODEL_PATH\": \"./best_model.pth\",\n",
    "    \"n_way\": 16,\n",
    "    \"datasets\": [\n",
    "        {\n",
    "            \"labels\": [\n",
    "                \"3123D52\",\n",
    "                \"3123D65\",\n",
    "                \"3123D79\",\n",
    "                \"3123D80\",\n",
    "                \"3123D54\",\n",
    "                \"3123D70\",\n",
    "                \"3123D7B\",\n",
    "                \"3123D89\",\n",
    "                \"3123D58\",\n",
    "                \"3123D76\",\n",
    "                \"3123D7D\",\n",
    "                \"3123EFE\",\n",
    "                \"3123D64\",\n",
    "                \"3123D78\",\n",
    "                \"3123D7E\",\n",
    "                \"3124E4A\",\n",
    "            ],\n",
    "            \"domains\": [32, 38, 8, 44, 14, 50, 20, 26],\n",
    "            \"num_examples_per_domain_per_label\": 2000,\n",
    "            \"pickle_path\": \"/root/csc500-main/datasets/oracle.Run1_framed_2000Examples_stratified_ds.2022A.pkl\",\n",
    "            \"source_or_target_dataset\": \"source\",\n",
    "            \"x_transforms\": [\"unit_power\"],\n",
    "            \"episode_transforms\": [],\n",
    "            \"domain_prefix\": \"ORACLE.run1_\",\n",
    "        },\n",
    "        {\n",
    "            \"labels\": [\n",
    "                \"3123D52\",\n",
    "                \"3123D65\",\n",
    "                \"3123D79\",\n",
    "                \"3123D80\",\n",
    "                \"3123D54\",\n",
    "                \"3123D70\",\n",
    "                \"3123D7B\",\n",
    "                \"3123D89\",\n",
    "                \"3123D58\",\n",
    "                \"3123D76\",\n",
    "                \"3123D7D\",\n",
    "                \"3123EFE\",\n",
    "                \"3123D64\",\n",
    "                \"3123D78\",\n",
    "                \"3123D7E\",\n",
    "                \"3124E4A\",\n",
    "            ],\n",
    "            \"domains\": [32, 38, 8, 44, 14, 50, 20, 26],\n",
    "            \"num_examples_per_domain_per_label\": 2000,\n",
    "            \"pickle_path\": \"/root/csc500-main/datasets/oracle.Run2_framed_2000Examples_stratified_ds.2022A.pkl\",\n",
    "            \"source_or_target_dataset\": \"target\",\n",
    "            \"x_transforms\": [\"unit_power\"],\n",
    "            \"episode_transforms\": [],\n",
    "            \"domain_prefix\": \"ORACLE.run2_\",\n",
    "        },\n",
    "    ],\n",
    "    \"dataset_seed\": 154325,\n",
    "    \"seed\": 154325,\n",
    "}\n"
   ]
  },
  {
   "cell_type": "code",
   "execution_count": 5,
   "id": "8fa1cc33",
   "metadata": {
    "execution": {
     "iopub.execute_input": "2022-03-21T16:15:13.951056Z",
     "iopub.status.busy": "2022-03-21T16:15:13.950490Z",
     "iopub.status.idle": "2022-03-21T16:15:13.975000Z",
     "shell.execute_reply": "2022-03-21T16:15:13.974290Z"
    },
    "papermill": {
     "duration": 0.050902,
     "end_time": "2022-03-21T16:15:13.975168",
     "exception": false,
     "start_time": "2022-03-21T16:15:13.924266",
     "status": "completed"
    },
    "tags": []
   },
   "outputs": [],
   "source": [
    "# Set this to True if you want to run this template directly\n",
    "STANDALONE = False\n",
    "if STANDALONE:\n",
    "    print(\"parameters not injected, running with standalone_parameters\")\n",
    "    parameters = standalone_parameters\n",
    "\n",
    "if not 'parameters' in locals() and not 'parameters' in globals():\n",
    "    raise Exception(\"Parameter injection failed\")\n",
    "\n",
    "#Use an easy dict for all the parameters\n",
    "p = EasyDict(parameters)\n",
    "\n",
    "if \"x_shape\" not in p:\n",
    "    p.x_shape = [2,256] # Default to this if we dont supply x_shape\n",
    "\n",
    "\n",
    "supplied_keys = set(p.keys())\n",
    "\n",
    "if  supplied_keys != required_parameters:\n",
    "    print(\"Parameters are incorrect\")\n",
    "    if len(supplied_keys - required_parameters)>0: print(\"Shouldn't have:\", str(supplied_keys - required_parameters))\n",
    "    if len(required_parameters - supplied_keys)>0: print(\"Need to have:\", str(required_parameters - supplied_keys))\n",
    "    raise RuntimeError(\"Parameters are incorrect\")"
   ]
  },
  {
   "cell_type": "code",
   "execution_count": 6,
   "id": "3a028d58",
   "metadata": {
    "execution": {
     "iopub.execute_input": "2022-03-21T16:15:14.025440Z",
     "iopub.status.busy": "2022-03-21T16:15:14.024882Z",
     "iopub.status.idle": "2022-03-21T16:15:14.047906Z",
     "shell.execute_reply": "2022-03-21T16:15:14.047183Z"
    },
    "papermill": {
     "duration": 0.046045,
     "end_time": "2022-03-21T16:15:14.048072",
     "exception": false,
     "start_time": "2022-03-21T16:15:14.002027",
     "status": "completed"
    },
    "tags": []
   },
   "outputs": [],
   "source": [
    "###################################\n",
    "# Set the RNGs and make it all deterministic\n",
    "###################################\n",
    "np.random.seed(p.seed)\n",
    "random.seed(p.seed)\n",
    "torch.manual_seed(p.seed)\n",
    "\n",
    "torch.use_deterministic_algorithms(True) "
   ]
  },
  {
   "cell_type": "code",
   "execution_count": 7,
   "id": "b691acf6",
   "metadata": {
    "execution": {
     "iopub.execute_input": "2022-03-21T16:15:14.100496Z",
     "iopub.status.busy": "2022-03-21T16:15:14.100065Z",
     "iopub.status.idle": "2022-03-21T16:15:14.124646Z",
     "shell.execute_reply": "2022-03-21T16:15:14.123929Z"
    },
    "papermill": {
     "duration": 0.047968,
     "end_time": "2022-03-21T16:15:14.124814",
     "exception": false,
     "start_time": "2022-03-21T16:15:14.076846",
     "status": "completed"
    },
    "tags": []
   },
   "outputs": [],
   "source": [
    "###########################################\n",
    "# The stratified datasets honor this\n",
    "###########################################\n",
    "torch.set_default_dtype(eval(p.torch_default_dtype))"
   ]
  },
  {
   "cell_type": "code",
   "execution_count": 8,
   "id": "b5fba671",
   "metadata": {
    "execution": {
     "iopub.execute_input": "2022-03-21T16:15:14.176913Z",
     "iopub.status.busy": "2022-03-21T16:15:14.176302Z",
     "iopub.status.idle": "2022-03-21T16:15:14.229957Z",
     "shell.execute_reply": "2022-03-21T16:15:14.229217Z"
    },
    "papermill": {
     "duration": 0.076233,
     "end_time": "2022-03-21T16:15:14.230132",
     "exception": false,
     "start_time": "2022-03-21T16:15:14.153899",
     "status": "completed"
    },
    "tags": []
   },
   "outputs": [],
   "source": [
    "###################################\n",
    "# Build the network(s)\n",
    "# Note: It's critical to do this AFTER setting the RNG\n",
    "###################################\n",
    "x_net = build_sequential(p.x_net)"
   ]
  },
  {
   "cell_type": "code",
   "execution_count": 9,
   "id": "5d7e61cc",
   "metadata": {
    "execution": {
     "iopub.execute_input": "2022-03-21T16:15:14.279090Z",
     "iopub.status.busy": "2022-03-21T16:15:14.278727Z",
     "iopub.status.idle": "2022-03-21T16:15:14.299675Z",
     "shell.execute_reply": "2022-03-21T16:15:14.298850Z"
    },
    "papermill": {
     "duration": 0.043655,
     "end_time": "2022-03-21T16:15:14.299840",
     "exception": false,
     "start_time": "2022-03-21T16:15:14.256185",
     "status": "completed"
    },
    "tags": []
   },
   "outputs": [],
   "source": [
    "start_time_secs = time.time()"
   ]
  },
  {
   "cell_type": "code",
   "execution_count": 10,
   "id": "c6b67dfd",
   "metadata": {
    "execution": {
     "iopub.execute_input": "2022-03-21T16:15:14.352908Z",
     "iopub.status.busy": "2022-03-21T16:15:14.352353Z",
     "iopub.status.idle": "2022-03-21T16:15:14.374977Z",
     "shell.execute_reply": "2022-03-21T16:15:14.374174Z"
    },
    "papermill": {
     "duration": 0.046318,
     "end_time": "2022-03-21T16:15:14.375137",
     "exception": false,
     "start_time": "2022-03-21T16:15:14.328819",
     "status": "completed"
    },
    "tags": []
   },
   "outputs": [],
   "source": [
    "p.domains_source = []\n",
    "p.domains_target = []\n",
    "\n",
    "\n",
    "train_original_source = []\n",
    "val_original_source   = []\n",
    "test_original_source  = []\n",
    "\n",
    "train_original_target = []\n",
    "val_original_target   = []\n",
    "test_original_target  = []"
   ]
  },
  {
   "cell_type": "code",
   "execution_count": 11,
   "id": "e3d9c3d3",
   "metadata": {
    "execution": {
     "iopub.execute_input": "2022-03-21T16:15:14.424043Z",
     "iopub.status.busy": "2022-03-21T16:15:14.423679Z",
     "iopub.status.idle": "2022-03-21T16:15:14.448662Z",
     "shell.execute_reply": "2022-03-21T16:15:14.447962Z"
    },
    "papermill": {
     "duration": 0.048065,
     "end_time": "2022-03-21T16:15:14.448826",
     "exception": false,
     "start_time": "2022-03-21T16:15:14.400761",
     "status": "completed"
    },
    "tags": []
   },
   "outputs": [],
   "source": [
    "# global_x_transform_func = lambda x: normalize(x.to(torch.get_default_dtype()), \"unit_power\") # unit_power, unit_mag\n",
    "# global_x_transform_func = lambda x: normalize(x, \"unit_power\") # unit_power, unit_mag"
   ]
  },
  {
   "cell_type": "code",
   "execution_count": 12,
   "id": "acb78fd2",
   "metadata": {
    "execution": {
     "iopub.execute_input": "2022-03-21T16:15:14.503402Z",
     "iopub.status.busy": "2022-03-21T16:15:14.503022Z",
     "iopub.status.idle": "2022-03-21T16:15:14.524559Z",
     "shell.execute_reply": "2022-03-21T16:15:14.523848Z"
    },
    "papermill": {
     "duration": 0.04856,
     "end_time": "2022-03-21T16:15:14.524726",
     "exception": false,
     "start_time": "2022-03-21T16:15:14.476166",
     "status": "completed"
    },
    "tags": []
   },
   "outputs": [],
   "source": [
    "def add_dataset(\n",
    "    labels,\n",
    "    domains,\n",
    "    pickle_path,\n",
    "    x_transforms,\n",
    "    episode_transforms,\n",
    "    domain_prefix,\n",
    "    num_examples_per_domain_per_label,\n",
    "    source_or_target_dataset:str,\n",
    "    iterator_seed=p.seed,\n",
    "    dataset_seed=p.dataset_seed,\n",
    "    n_shot=p.n_shot,\n",
    "    n_way=p.n_way,\n",
    "    n_query=p.n_query,\n",
    "    train_val_test_k_factors=(p.train_k_factor,p.val_k_factor,p.test_k_factor),\n",
    "):\n",
    "   \n",
    "    if x_transforms == []: x_transform = None\n",
    "    else: x_transform = get_chained_transform(x_transforms)\n",
    "    \n",
    "    if episode_transforms == []: episode_transform = None\n",
    "    else: raise Exception(\"episode_transforms not implemented\")\n",
    "    \n",
    "    episode_transform = lambda tup, _prefix=domain_prefix: (_prefix + str(tup[0]), tup[1])\n",
    "\n",
    "\n",
    "    eaf = Episodic_Accessor_Factory(\n",
    "        labels=labels,\n",
    "        domains=domains,\n",
    "        num_examples_per_domain_per_label=num_examples_per_domain_per_label,\n",
    "        iterator_seed=iterator_seed,\n",
    "        dataset_seed=dataset_seed,\n",
    "        n_shot=n_shot,\n",
    "        n_way=n_way,\n",
    "        n_query=n_query,\n",
    "        train_val_test_k_factors=train_val_test_k_factors,\n",
    "        pickle_path=pickle_path,\n",
    "        x_transform_func=x_transform,\n",
    "    )\n",
    "\n",
    "    train, val, test = eaf.get_train(), eaf.get_val(), eaf.get_test()\n",
    "    train = Lazy_Iterable_Wrapper(train, episode_transform)\n",
    "    val = Lazy_Iterable_Wrapper(val, episode_transform)\n",
    "    test = Lazy_Iterable_Wrapper(test, episode_transform)\n",
    "\n",
    "    if source_or_target_dataset==\"source\":\n",
    "        train_original_source.append(train)\n",
    "        val_original_source.append(val)\n",
    "        test_original_source.append(test)\n",
    "\n",
    "        p.domains_source.extend(\n",
    "            [domain_prefix + str(u) for u in domains]\n",
    "        )\n",
    "    elif source_or_target_dataset==\"target\":\n",
    "        train_original_target.append(train)\n",
    "        val_original_target.append(val)\n",
    "        test_original_target.append(test)\n",
    "        p.domains_target.extend(\n",
    "            [domain_prefix + str(u) for u in domains]\n",
    "        )\n",
    "    else:\n",
    "        raise Exception(f\"invalid source_or_target_dataset: {source_or_target_dataset}\")\n",
    "    "
   ]
  },
  {
   "cell_type": "code",
   "execution_count": 13,
   "id": "fe266617",
   "metadata": {
    "execution": {
     "iopub.execute_input": "2022-03-21T16:15:14.578129Z",
     "iopub.status.busy": "2022-03-21T16:15:14.577577Z",
     "iopub.status.idle": "2022-03-21T16:15:58.044404Z",
     "shell.execute_reply": "2022-03-21T16:15:58.043639Z"
    },
    "papermill": {
     "duration": 43.49076,
     "end_time": "2022-03-21T16:15:58.044587",
     "exception": false,
     "start_time": "2022-03-21T16:15:14.553827",
     "status": "completed"
    },
    "tags": []
   },
   "outputs": [],
   "source": [
    "for ds in p.datasets:\n",
    "    add_dataset(**ds)"
   ]
  },
  {
   "cell_type": "code",
   "execution_count": 14,
   "id": "b90d65ac",
   "metadata": {
    "execution": {
     "iopub.execute_input": "2022-03-21T16:15:58.093601Z",
     "iopub.status.busy": "2022-03-21T16:15:58.092802Z",
     "iopub.status.idle": "2022-03-21T16:15:58.119257Z",
     "shell.execute_reply": "2022-03-21T16:15:58.118303Z"
    },
    "papermill": {
     "duration": 0.049612,
     "end_time": "2022-03-21T16:15:58.119422",
     "exception": false,
     "start_time": "2022-03-21T16:15:58.069810",
     "status": "completed"
    },
    "tags": []
   },
   "outputs": [],
   "source": [
    "# from steves_utils.CORES.utils import (\n",
    "#     ALL_NODES,\n",
    "#     ALL_NODES_MINIMUM_1000_EXAMPLES,\n",
    "#     ALL_DAYS\n",
    "# )\n",
    "\n",
    "# add_dataset(\n",
    "#     labels=ALL_NODES,\n",
    "#     domains = ALL_DAYS,\n",
    "#     num_examples_per_domain_per_label=100,\n",
    "#     pickle_path=os.path.join(get_datasets_base_path(), \"cores.stratified_ds.2022A.pkl\"),\n",
    "#     source_or_target_dataset=\"target\",\n",
    "#     x_transform_func=global_x_transform_func,\n",
    "#     domain_modifier=lambda u: f\"cores_{u}\"\n",
    "# )"
   ]
  },
  {
   "cell_type": "code",
   "execution_count": 15,
   "id": "76db484d",
   "metadata": {
    "execution": {
     "iopub.execute_input": "2022-03-21T16:15:58.171332Z",
     "iopub.status.busy": "2022-03-21T16:15:58.170960Z",
     "iopub.status.idle": "2022-03-21T16:15:58.195241Z",
     "shell.execute_reply": "2022-03-21T16:15:58.194440Z"
    },
    "papermill": {
     "duration": 0.047222,
     "end_time": "2022-03-21T16:15:58.195398",
     "exception": false,
     "start_time": "2022-03-21T16:15:58.148176",
     "status": "completed"
    },
    "tags": []
   },
   "outputs": [],
   "source": [
    "# from steves_utils.ORACLE.utils_v2 import (\n",
    "#     ALL_DISTANCES_FEET,\n",
    "#     ALL_RUNS,\n",
    "#     ALL_SERIAL_NUMBERS,\n",
    "# )\n",
    "\n",
    "\n",
    "# add_dataset(\n",
    "#     labels=ALL_SERIAL_NUMBERS,\n",
    "#     domains = list(set(ALL_DISTANCES_FEET) - {2,62}),\n",
    "#     num_examples_per_domain_per_label=100,\n",
    "#     pickle_path=os.path.join(get_datasets_base_path(), \"oracle.Run2_framed_2000Examples_stratified_ds.2022A.pkl\"),\n",
    "#     source_or_target_dataset=\"source\",\n",
    "#     x_transform_func=global_x_transform_func,\n",
    "#     domain_modifier=lambda u: f\"oracle1_{u}\"\n",
    "# )\n"
   ]
  },
  {
   "cell_type": "code",
   "execution_count": 16,
   "id": "97dea9d2",
   "metadata": {
    "execution": {
     "iopub.execute_input": "2022-03-21T16:15:58.250488Z",
     "iopub.status.busy": "2022-03-21T16:15:58.249858Z",
     "iopub.status.idle": "2022-03-21T16:15:58.268974Z",
     "shell.execute_reply": "2022-03-21T16:15:58.268174Z"
    },
    "papermill": {
     "duration": 0.043351,
     "end_time": "2022-03-21T16:15:58.269128",
     "exception": false,
     "start_time": "2022-03-21T16:15:58.225777",
     "status": "completed"
    },
    "tags": []
   },
   "outputs": [],
   "source": [
    "# from steves_utils.ORACLE.utils_v2 import (\n",
    "#     ALL_DISTANCES_FEET,\n",
    "#     ALL_RUNS,\n",
    "#     ALL_SERIAL_NUMBERS,\n",
    "# )\n",
    "\n",
    "\n",
    "# add_dataset(\n",
    "#     labels=ALL_SERIAL_NUMBERS,\n",
    "#     domains = list(set(ALL_DISTANCES_FEET) - {2,62,56}),\n",
    "#     num_examples_per_domain_per_label=100,\n",
    "#     pickle_path=os.path.join(get_datasets_base_path(), \"oracle.Run2_framed_2000Examples_stratified_ds.2022A.pkl\"),\n",
    "#     source_or_target_dataset=\"source\",\n",
    "#     x_transform_func=global_x_transform_func,\n",
    "#     domain_modifier=lambda u: f\"oracle2_{u}\"\n",
    "# )"
   ]
  },
  {
   "cell_type": "code",
   "execution_count": 17,
   "id": "6f289866",
   "metadata": {
    "execution": {
     "iopub.execute_input": "2022-03-21T16:15:58.322563Z",
     "iopub.status.busy": "2022-03-21T16:15:58.322195Z",
     "iopub.status.idle": "2022-03-21T16:15:58.341273Z",
     "shell.execute_reply": "2022-03-21T16:15:58.340571Z"
    },
    "papermill": {
     "duration": 0.042799,
     "end_time": "2022-03-21T16:15:58.341434",
     "exception": false,
     "start_time": "2022-03-21T16:15:58.298635",
     "status": "completed"
    },
    "tags": []
   },
   "outputs": [],
   "source": [
    "# add_dataset(\n",
    "#     labels=list(range(19)),\n",
    "#     domains = [0,1,2],\n",
    "#     num_examples_per_domain_per_label=100,\n",
    "#     pickle_path=os.path.join(get_datasets_base_path(), \"metehan.stratified_ds.2022A.pkl\"),\n",
    "#     source_or_target_dataset=\"target\",\n",
    "#     x_transform_func=global_x_transform_func,\n",
    "#     domain_modifier=lambda u: f\"met_{u}\"\n",
    "# )"
   ]
  },
  {
   "cell_type": "code",
   "execution_count": 18,
   "id": "86a863c3",
   "metadata": {
    "execution": {
     "iopub.execute_input": "2022-03-21T16:15:58.394335Z",
     "iopub.status.busy": "2022-03-21T16:15:58.393949Z",
     "iopub.status.idle": "2022-03-21T16:15:58.419574Z",
     "shell.execute_reply": "2022-03-21T16:15:58.420269Z"
    },
    "papermill": {
     "duration": 0.051645,
     "end_time": "2022-03-21T16:15:58.420458",
     "exception": false,
     "start_time": "2022-03-21T16:15:58.368813",
     "status": "completed"
    },
    "tags": []
   },
   "outputs": [],
   "source": [
    "# # from steves_utils.wisig.utils import (\n",
    "# #     ALL_NODES_MINIMUM_100_EXAMPLES,\n",
    "# #     ALL_NODES_MINIMUM_500_EXAMPLES,\n",
    "# #     ALL_NODES_MINIMUM_1000_EXAMPLES,\n",
    "# #     ALL_DAYS\n",
    "# # )\n",
    "\n",
    "# import steves_utils.wisig.utils as wisig\n",
    "\n",
    "\n",
    "# add_dataset(\n",
    "#     labels=wisig.ALL_NODES_MINIMUM_100_EXAMPLES,\n",
    "#     domains = wisig.ALL_DAYS,\n",
    "#     num_examples_per_domain_per_label=100,\n",
    "#     pickle_path=os.path.join(get_datasets_base_path(), \"wisig.node3-19.stratified_ds.2022A.pkl\"),\n",
    "#     source_or_target_dataset=\"target\",\n",
    "#     x_transform_func=global_x_transform_func,\n",
    "#     domain_modifier=lambda u: f\"wisig_{u}\"\n",
    "# )"
   ]
  },
  {
   "cell_type": "code",
   "execution_count": 19,
   "id": "fd5442bc",
   "metadata": {
    "execution": {
     "iopub.execute_input": "2022-03-21T16:15:58.624549Z",
     "iopub.status.busy": "2022-03-21T16:15:58.624158Z",
     "iopub.status.idle": "2022-03-21T16:15:58.648564Z",
     "shell.execute_reply": "2022-03-21T16:15:58.647755Z"
    },
    "papermill": {
     "duration": 0.197922,
     "end_time": "2022-03-21T16:15:58.648737",
     "exception": false,
     "start_time": "2022-03-21T16:15:58.450815",
     "status": "completed"
    },
    "tags": []
   },
   "outputs": [],
   "source": [
    "###################################\n",
    "# Build the dataset\n",
    "###################################\n",
    "train_original_source = Iterable_Aggregator(train_original_source, p.seed)\n",
    "val_original_source = Iterable_Aggregator(val_original_source, p.seed)\n",
    "test_original_source = Iterable_Aggregator(test_original_source, p.seed)\n",
    "\n",
    "\n",
    "train_original_target = Iterable_Aggregator(train_original_target, p.seed)\n",
    "val_original_target = Iterable_Aggregator(val_original_target, p.seed)\n",
    "test_original_target = Iterable_Aggregator(test_original_target, p.seed)\n",
    "\n",
    "# For CNN We only use X and Y. And we only train on the source.\n",
    "# Properly form the data using a transform lambda and Lazy_Iterable_Wrapper. Finally wrap them in a dataloader\n",
    "\n",
    "transform_lambda = lambda ex: ex[1] # Original is (<domain>, <episode>) so we strip down to episode only\n",
    "\n",
    "train_processed_source = Lazy_Iterable_Wrapper(train_original_source, transform_lambda)\n",
    "val_processed_source   = Lazy_Iterable_Wrapper(val_original_source, transform_lambda)\n",
    "test_processed_source  = Lazy_Iterable_Wrapper(test_original_source, transform_lambda)\n",
    "\n",
    "train_processed_target = Lazy_Iterable_Wrapper(train_original_target, transform_lambda)\n",
    "val_processed_target   = Lazy_Iterable_Wrapper(val_original_target, transform_lambda)\n",
    "test_processed_target  = Lazy_Iterable_Wrapper(test_original_target, transform_lambda)\n",
    "\n",
    "datasets = EasyDict({\n",
    "    \"source\": {\n",
    "        \"original\": {\"train\":train_original_source, \"val\":val_original_source, \"test\":test_original_source},\n",
    "        \"processed\": {\"train\":train_processed_source, \"val\":val_processed_source, \"test\":test_processed_source}\n",
    "    },\n",
    "    \"target\": {\n",
    "        \"original\": {\"train\":train_original_target, \"val\":val_original_target, \"test\":test_original_target},\n",
    "        \"processed\": {\"train\":train_processed_target, \"val\":val_processed_target, \"test\":test_processed_target}\n",
    "    },\n",
    "})"
   ]
  },
  {
   "cell_type": "code",
   "execution_count": 20,
   "id": "5b3c01fc",
   "metadata": {
    "execution": {
     "iopub.execute_input": "2022-03-21T16:15:58.700265Z",
     "iopub.status.busy": "2022-03-21T16:15:58.699892Z",
     "iopub.status.idle": "2022-03-21T16:16:14.274106Z",
     "shell.execute_reply": "2022-03-21T16:16:14.274826Z"
    },
    "papermill": {
     "duration": 15.600587,
     "end_time": "2022-03-21T16:16:14.275040",
     "exception": false,
     "start_time": "2022-03-21T16:15:58.674453",
     "status": "completed"
    },
    "tags": []
   },
   "outputs": [
    {
     "name": "stdout",
     "output_type": "stream",
     "text": [
      "{'ORACLE.run1_38', 'ORACLE.run1_8', 'ORACLE.run1_20', 'ORACLE.run1_14', 'ORACLE.run1_44', 'ORACLE.run1_50', 'ORACLE.run1_32', 'ORACLE.run1_26'}\n"
     ]
    },
    {
     "name": "stdout",
     "output_type": "stream",
     "text": [
      "{'ORACLE.run2_14', 'ORACLE.run2_8', 'ORACLE.run2_38', 'ORACLE.run2_44', 'ORACLE.run2_20', 'ORACLE.run2_32', 'ORACLE.run2_50', 'ORACLE.run2_26'}\n"
     ]
    },
    {
     "name": "stdout",
     "output_type": "stream",
     "text": [
      "tensor([[[-0.1928,  1.0235, -0.1790,  ..., -1.0418,  0.4590,  0.5508],\n",
      "         [-0.4039,  0.3534,  0.5003,  ..., -0.0505, -0.9271, -1.0281]],\n",
      "\n",
      "        [[ 0.0508,  1.1409, -0.2910,  ..., -0.8961, -0.0416, -0.7113],\n",
      "         [-0.3880, -0.2910,  0.6005,  ...,  0.3141, -1.2425, -0.8176]],\n",
      "\n",
      "        [[-0.6672, -0.1554,  0.8820,  ..., -0.0594, -1.3024,  0.0228],\n",
      "         [-0.4067, -0.9003,  0.5941,  ...,  0.7997,  0.3016,  1.3253]],\n",
      "\n",
      "        ...,\n",
      "\n",
      "        [[ 0.1032,  0.6571, -0.1032,  ..., -0.8254, -0.8634, -1.0317],\n",
      "         [-0.8906, -0.2715,  1.2924,  ...,  0.0923, -1.0209,  0.8200]],\n",
      "\n",
      "        [[-0.2576,  1.0962,  0.0219,  ..., -1.0414,  0.1918,  0.2905],\n",
      "         [-0.4823,  0.0329,  0.6358,  ...,  0.2521, -1.0633, -1.0359]],\n",
      "\n",
      "        [[-0.7553, -0.7776,  1.0164,  ...,  0.6165, -0.2055,  1.3107],\n",
      "         [ 0.5332, -0.1666, -0.7553,  ...,  0.5387,  1.2941,  0.2333]]])\n"
     ]
    }
   ],
   "source": [
    "from steves_utils.transforms import get_average_magnitude, get_average_power\n",
    "\n",
    "print(set([u for u,_ in val_original_source]))\n",
    "print(set([u for u,_ in val_original_target]))\n",
    "\n",
    "s_x, s_y, q_x, q_y, _ = next(iter(train_processed_source))\n",
    "print(s_x)\n",
    "\n",
    "# for ds in [\n",
    "#     train_processed_source,\n",
    "#     val_processed_source,\n",
    "#     test_processed_source,\n",
    "#     train_processed_target,\n",
    "#     val_processed_target,\n",
    "#     test_processed_target\n",
    "# ]:\n",
    "#     for s_x, s_y, q_x, q_y, _ in ds:\n",
    "#         for X in (s_x, q_x):\n",
    "#             for x in X:\n",
    "#                 assert np.isclose(get_average_magnitude(x.numpy()), 1.0)\n",
    "#                 assert np.isclose(get_average_power(x.numpy()), 1.0)\n",
    "                "
   ]
  },
  {
   "cell_type": "code",
   "execution_count": 21,
   "id": "bbdacba1",
   "metadata": {
    "execution": {
     "iopub.execute_input": "2022-03-21T16:16:14.328332Z",
     "iopub.status.busy": "2022-03-21T16:16:14.327700Z",
     "iopub.status.idle": "2022-03-21T16:16:14.538898Z",
     "shell.execute_reply": "2022-03-21T16:16:14.539894Z"
    },
    "papermill": {
     "duration": 0.240126,
     "end_time": "2022-03-21T16:16:14.540233",
     "exception": false,
     "start_time": "2022-03-21T16:16:14.300107",
     "status": "completed"
    },
    "tags": []
   },
   "outputs": [
    {
     "name": "stdout",
     "output_type": "stream",
     "text": [
      "(2, 256)\n"
     ]
    }
   ],
   "source": [
    "###################################\n",
    "# Build the model\n",
    "###################################\n",
    "# easfsl only wants a tuple for the shape\n",
    "model = Steves_Prototypical_Network(x_net, device=p.device, x_shape=tuple(p.x_shape))\n",
    "optimizer = Adam(params=model.parameters(), lr=p.lr)"
   ]
  },
  {
   "cell_type": "code",
   "execution_count": 22,
   "id": "22b39ac5",
   "metadata": {
    "execution": {
     "iopub.execute_input": "2022-03-21T16:16:14.601975Z",
     "iopub.status.busy": "2022-03-21T16:16:14.601573Z",
     "iopub.status.idle": "2022-03-21T16:58:55.995655Z",
     "shell.execute_reply": "2022-03-21T16:58:55.995307Z"
    },
    "papermill": {
     "duration": 2561.422145,
     "end_time": "2022-03-21T16:58:55.995741",
     "exception": false,
     "start_time": "2022-03-21T16:16:14.573596",
     "status": "completed"
    },
    "tags": []
   },
   "outputs": [
    {
     "name": "stdout",
     "output_type": "stream",
     "text": [
      "epoch: 1, [batch: 1 / 6720], examples_per_second: 33.1825, train_label_loss: 2.9355, \n"
     ]
    },
    {
     "name": "stdout",
     "output_type": "stream",
     "text": [
      "epoch: 1, [batch: 672 / 6720], examples_per_second: 2559.8964, train_label_loss: 0.7365, \n"
     ]
    },
    {
     "name": "stdout",
     "output_type": "stream",
     "text": [
      "epoch: 1, [batch: 1344 / 6720], examples_per_second: 2589.6562, train_label_loss: 0.7132, \n"
     ]
    },
    {
     "name": "stdout",
     "output_type": "stream",
     "text": [
      "epoch: 1, [batch: 2016 / 6720], examples_per_second: 2508.2028, train_label_loss: 0.5214, \n"
     ]
    },
    {
     "name": "stdout",
     "output_type": "stream",
     "text": [
      "epoch: 1, [batch: 2688 / 6720], examples_per_second: 2294.6855, train_label_loss: 0.3463, \n"
     ]
    },
    {
     "name": "stdout",
     "output_type": "stream",
     "text": [
      "epoch: 1, [batch: 3360 / 6720], examples_per_second: 2301.4881, train_label_loss: 0.4216, \n"
     ]
    },
    {
     "name": "stdout",
     "output_type": "stream",
     "text": [
      "epoch: 1, [batch: 4032 / 6720], examples_per_second: 2309.9864, train_label_loss: 0.6157, \n"
     ]
    },
    {
     "name": "stdout",
     "output_type": "stream",
     "text": [
      "epoch: 1, [batch: 4704 / 6720], examples_per_second: 2281.0091, train_label_loss: 0.3419, \n"
     ]
    },
    {
     "name": "stdout",
     "output_type": "stream",
     "text": [
      "epoch: 1, [batch: 5376 / 6720], examples_per_second: 2281.7896, train_label_loss: 0.4222, \n"
     ]
    },
    {
     "name": "stdout",
     "output_type": "stream",
     "text": [
      "epoch: 1, [batch: 6048 / 6720], examples_per_second: 2257.9809, train_label_loss: 0.5244, \n"
     ]
    },
    {
     "name": "stdout",
     "output_type": "stream",
     "text": [
      "=============================================================\n",
      "epoch: 1, source_val_acc_label: 0.7834, target_val_acc_label: 0.7694, source_val_label_loss: 0.6487, target_val_label_loss: 0.6929, \n",
      "=============================================================\n"
     ]
    },
    {
     "name": "stdout",
     "output_type": "stream",
     "text": [
      "New best\n"
     ]
    },
    {
     "name": "stdout",
     "output_type": "stream",
     "text": [
      "epoch: 2, [batch: 1 / 6720], examples_per_second: 2.2040, train_label_loss: 0.5037, \n"
     ]
    },
    {
     "name": "stdout",
     "output_type": "stream",
     "text": [
      "epoch: 2, [batch: 672 / 6720], examples_per_second: 2570.1122, train_label_loss: 0.5088, \n"
     ]
    },
    {
     "name": "stdout",
     "output_type": "stream",
     "text": [
      "epoch: 2, [batch: 1344 / 6720], examples_per_second: 2598.0923, train_label_loss: 0.9295, \n"
     ]
    },
    {
     "name": "stdout",
     "output_type": "stream",
     "text": [
      "epoch: 2, [batch: 2016 / 6720], examples_per_second: 2568.6008, train_label_loss: 0.2429, \n"
     ]
    },
    {
     "name": "stdout",
     "output_type": "stream",
     "text": [
      "epoch: 2, [batch: 2688 / 6720], examples_per_second: 2629.9225, train_label_loss: 0.5779, \n"
     ]
    },
    {
     "name": "stdout",
     "output_type": "stream",
     "text": [
      "epoch: 2, [batch: 3360 / 6720], examples_per_second: 2614.7732, train_label_loss: 0.3421, \n"
     ]
    },
    {
     "name": "stdout",
     "output_type": "stream",
     "text": [
      "epoch: 2, [batch: 4032 / 6720], examples_per_second: 2589.9520, train_label_loss: 0.2700, \n"
     ]
    },
    {
     "name": "stdout",
     "output_type": "stream",
     "text": [
      "epoch: 2, [batch: 4704 / 6720], examples_per_second: 2597.5838, train_label_loss: 0.1970, \n"
     ]
    },
    {
     "name": "stdout",
     "output_type": "stream",
     "text": [
      "epoch: 2, [batch: 5376 / 6720], examples_per_second: 2570.2559, train_label_loss: 1.1721, \n"
     ]
    },
    {
     "name": "stdout",
     "output_type": "stream",
     "text": [
      "epoch: 2, [batch: 6048 / 6720], examples_per_second: 2551.9013, train_label_loss: 0.4188, \n"
     ]
    },
    {
     "name": "stdout",
     "output_type": "stream",
     "text": [
      "=============================================================\n",
      "epoch: 2, source_val_acc_label: 0.8509, target_val_acc_label: 0.8343, source_val_label_loss: 0.4228, target_val_label_loss: 0.4877, \n",
      "=============================================================\n"
     ]
    },
    {
     "name": "stdout",
     "output_type": "stream",
     "text": [
      "New best\n"
     ]
    },
    {
     "name": "stdout",
     "output_type": "stream",
     "text": [
      "epoch: 3, [batch: 1 / 6720], examples_per_second: 2.7673, train_label_loss: 0.4281, \n"
     ]
    },
    {
     "name": "stdout",
     "output_type": "stream",
     "text": [
      "epoch: 3, [batch: 672 / 6720], examples_per_second: 2948.3237, train_label_loss: 0.3204, \n"
     ]
    },
    {
     "name": "stdout",
     "output_type": "stream",
     "text": [
      "epoch: 3, [batch: 1344 / 6720], examples_per_second: 3023.3188, train_label_loss: 0.8464, \n"
     ]
    },
    {
     "name": "stdout",
     "output_type": "stream",
     "text": [
      "epoch: 3, [batch: 2016 / 6720], examples_per_second: 3030.3388, train_label_loss: 0.4598, \n"
     ]
    },
    {
     "name": "stdout",
     "output_type": "stream",
     "text": [
      "epoch: 3, [batch: 2688 / 6720], examples_per_second: 2995.6169, train_label_loss: 0.2725, \n"
     ]
    },
    {
     "name": "stdout",
     "output_type": "stream",
     "text": [
      "epoch: 3, [batch: 3360 / 6720], examples_per_second: 2900.7521, train_label_loss: 0.2123, \n"
     ]
    },
    {
     "name": "stdout",
     "output_type": "stream",
     "text": [
      "epoch: 3, [batch: 4032 / 6720], examples_per_second: 2602.9850, train_label_loss: 0.3680, \n"
     ]
    },
    {
     "name": "stdout",
     "output_type": "stream",
     "text": [
      "epoch: 3, [batch: 4704 / 6720], examples_per_second: 2300.1093, train_label_loss: 0.3945, \n"
     ]
    },
    {
     "name": "stdout",
     "output_type": "stream",
     "text": [
      "epoch: 3, [batch: 5376 / 6720], examples_per_second: 2294.3435, train_label_loss: 0.1875, \n"
     ]
    },
    {
     "name": "stdout",
     "output_type": "stream",
     "text": [
      "epoch: 3, [batch: 6048 / 6720], examples_per_second: 2319.6679, train_label_loss: 0.4903, \n"
     ]
    },
    {
     "name": "stdout",
     "output_type": "stream",
     "text": [
      "=============================================================\n",
      "epoch: 3, source_val_acc_label: 0.8688, target_val_acc_label: 0.8509, source_val_label_loss: 0.3764, target_val_label_loss: 0.4419, \n",
      "=============================================================\n"
     ]
    },
    {
     "name": "stdout",
     "output_type": "stream",
     "text": [
      "New best\n"
     ]
    },
    {
     "name": "stdout",
     "output_type": "stream",
     "text": [
      "epoch: 4, [batch: 1 / 6720], examples_per_second: 2.2422, train_label_loss: 0.1863, \n"
     ]
    },
    {
     "name": "stdout",
     "output_type": "stream",
     "text": [
      "epoch: 4, [batch: 672 / 6720], examples_per_second: 2319.8736, train_label_loss: 0.1193, \n"
     ]
    },
    {
     "name": "stdout",
     "output_type": "stream",
     "text": [
      "epoch: 4, [batch: 1344 / 6720], examples_per_second: 2303.5675, train_label_loss: 0.2223, \n"
     ]
    },
    {
     "name": "stdout",
     "output_type": "stream",
     "text": [
      "epoch: 4, [batch: 2016 / 6720], examples_per_second: 2341.0815, train_label_loss: 0.2517, \n"
     ]
    },
    {
     "name": "stdout",
     "output_type": "stream",
     "text": [
      "epoch: 4, [batch: 2688 / 6720], examples_per_second: 2584.7678, train_label_loss: 0.4878, \n"
     ]
    },
    {
     "name": "stdout",
     "output_type": "stream",
     "text": [
      "epoch: 4, [batch: 3360 / 6720], examples_per_second: 2596.3056, train_label_loss: 0.1104, \n"
     ]
    },
    {
     "name": "stdout",
     "output_type": "stream",
     "text": [
      "epoch: 4, [batch: 4032 / 6720], examples_per_second: 2539.2261, train_label_loss: 0.3631, \n"
     ]
    },
    {
     "name": "stdout",
     "output_type": "stream",
     "text": [
      "epoch: 4, [batch: 4704 / 6720], examples_per_second: 2397.0107, train_label_loss: 0.1783, \n"
     ]
    },
    {
     "name": "stdout",
     "output_type": "stream",
     "text": [
      "epoch: 4, [batch: 5376 / 6720], examples_per_second: 2594.2705, train_label_loss: 0.2000, \n"
     ]
    },
    {
     "name": "stdout",
     "output_type": "stream",
     "text": [
      "epoch: 4, [batch: 6048 / 6720], examples_per_second: 2561.8895, train_label_loss: 0.1227, \n"
     ]
    },
    {
     "name": "stdout",
     "output_type": "stream",
     "text": [
      "=============================================================\n",
      "epoch: 4, source_val_acc_label: 0.8820, target_val_acc_label: 0.8664, source_val_label_loss: 0.3298, target_val_label_loss: 0.3999, \n",
      "=============================================================\n"
     ]
    },
    {
     "name": "stdout",
     "output_type": "stream",
     "text": [
      "New best\n"
     ]
    },
    {
     "name": "stdout",
     "output_type": "stream",
     "text": [
      "epoch: 5, [batch: 1 / 6720], examples_per_second: 2.5130, train_label_loss: 0.3570, \n"
     ]
    },
    {
     "name": "stdout",
     "output_type": "stream",
     "text": [
      "epoch: 5, [batch: 672 / 6720], examples_per_second: 2531.2204, train_label_loss: 0.8308, \n"
     ]
    },
    {
     "name": "stdout",
     "output_type": "stream",
     "text": [
      "epoch: 5, [batch: 1344 / 6720], examples_per_second: 3022.4901, train_label_loss: 0.1982, \n"
     ]
    },
    {
     "name": "stdout",
     "output_type": "stream",
     "text": [
      "epoch: 5, [batch: 2016 / 6720], examples_per_second: 2670.2155, train_label_loss: 0.9142, \n"
     ]
    },
    {
     "name": "stdout",
     "output_type": "stream",
     "text": [
      "epoch: 5, [batch: 2688 / 6720], examples_per_second: 2581.8376, train_label_loss: 0.1759, \n"
     ]
    },
    {
     "name": "stdout",
     "output_type": "stream",
     "text": [
      "epoch: 5, [batch: 3360 / 6720], examples_per_second: 2654.9386, train_label_loss: 0.7471, \n"
     ]
    },
    {
     "name": "stdout",
     "output_type": "stream",
     "text": [
      "epoch: 5, [batch: 4032 / 6720], examples_per_second: 2453.9182, train_label_loss: 0.1017, \n"
     ]
    },
    {
     "name": "stdout",
     "output_type": "stream",
     "text": [
      "epoch: 5, [batch: 4704 / 6720], examples_per_second: 2288.3214, train_label_loss: 0.4339, \n"
     ]
    },
    {
     "name": "stdout",
     "output_type": "stream",
     "text": [
      "epoch: 5, [batch: 5376 / 6720], examples_per_second: 2307.5448, train_label_loss: 0.0872, \n"
     ]
    },
    {
     "name": "stdout",
     "output_type": "stream",
     "text": [
      "epoch: 5, [batch: 6048 / 6720], examples_per_second: 2335.7449, train_label_loss: 0.3155, \n"
     ]
    },
    {
     "name": "stdout",
     "output_type": "stream",
     "text": [
      "=============================================================\n",
      "epoch: 5, source_val_acc_label: 0.8877, target_val_acc_label: 0.8669, source_val_label_loss: 0.3134, target_val_label_loss: 0.3945, \n",
      "=============================================================\n"
     ]
    },
    {
     "name": "stdout",
     "output_type": "stream",
     "text": [
      "New best\n"
     ]
    },
    {
     "name": "stdout",
     "output_type": "stream",
     "text": [
      "epoch: 6, [batch: 1 / 6720], examples_per_second: 2.2736, train_label_loss: 0.3075, \n"
     ]
    },
    {
     "name": "stdout",
     "output_type": "stream",
     "text": [
      "epoch: 6, [batch: 672 / 6720], examples_per_second: 2302.7078, train_label_loss: 0.1378, \n"
     ]
    },
    {
     "name": "stdout",
     "output_type": "stream",
     "text": [
      "epoch: 6, [batch: 1344 / 6720], examples_per_second: 2297.0555, train_label_loss: 0.1096, \n"
     ]
    },
    {
     "name": "stdout",
     "output_type": "stream",
     "text": [
      "epoch: 6, [batch: 2016 / 6720], examples_per_second: 2447.7604, train_label_loss: 0.2425, \n"
     ]
    },
    {
     "name": "stdout",
     "output_type": "stream",
     "text": [
      "epoch: 6, [batch: 2688 / 6720], examples_per_second: 2597.6890, train_label_loss: 0.3926, \n"
     ]
    },
    {
     "name": "stdout",
     "output_type": "stream",
     "text": [
      "epoch: 6, [batch: 3360 / 6720], examples_per_second: 2609.7562, train_label_loss: 0.2546, \n"
     ]
    },
    {
     "name": "stdout",
     "output_type": "stream",
     "text": [
      "epoch: 6, [batch: 4032 / 6720], examples_per_second: 2381.3561, train_label_loss: 0.2601, \n"
     ]
    },
    {
     "name": "stdout",
     "output_type": "stream",
     "text": [
      "epoch: 6, [batch: 4704 / 6720], examples_per_second: 2298.5562, train_label_loss: 0.4086, \n"
     ]
    },
    {
     "name": "stdout",
     "output_type": "stream",
     "text": [
      "epoch: 6, [batch: 5376 / 6720], examples_per_second: 2314.1710, train_label_loss: 0.3551, \n"
     ]
    },
    {
     "name": "stdout",
     "output_type": "stream",
     "text": [
      "epoch: 6, [batch: 6048 / 6720], examples_per_second: 2322.2652, train_label_loss: 0.2721, \n"
     ]
    },
    {
     "name": "stdout",
     "output_type": "stream",
     "text": [
      "=============================================================\n",
      "epoch: 6, source_val_acc_label: 0.8883, target_val_acc_label: 0.8704, source_val_label_loss: 0.3103, target_val_label_loss: 0.3877, \n",
      "=============================================================\n"
     ]
    },
    {
     "name": "stdout",
     "output_type": "stream",
     "text": [
      "New best\n"
     ]
    },
    {
     "name": "stdout",
     "output_type": "stream",
     "text": [
      "epoch: 7, [batch: 1 / 6720], examples_per_second: 2.2730, train_label_loss: 0.1449, \n"
     ]
    },
    {
     "name": "stdout",
     "output_type": "stream",
     "text": [
      "epoch: 7, [batch: 672 / 6720], examples_per_second: 2306.1398, train_label_loss: 0.1353, \n"
     ]
    },
    {
     "name": "stdout",
     "output_type": "stream",
     "text": [
      "epoch: 7, [batch: 1344 / 6720], examples_per_second: 2297.6314, train_label_loss: 0.2023, \n"
     ]
    },
    {
     "name": "stdout",
     "output_type": "stream",
     "text": [
      "epoch: 7, [batch: 2016 / 6720], examples_per_second: 2472.5811, train_label_loss: 0.1292, \n"
     ]
    },
    {
     "name": "stdout",
     "output_type": "stream",
     "text": [
      "epoch: 7, [batch: 2688 / 6720], examples_per_second: 2615.6635, train_label_loss: 0.0139, \n"
     ]
    },
    {
     "name": "stdout",
     "output_type": "stream",
     "text": [
      "epoch: 7, [batch: 3360 / 6720], examples_per_second: 2649.1122, train_label_loss: 0.0781, \n"
     ]
    },
    {
     "name": "stdout",
     "output_type": "stream",
     "text": [
      "epoch: 7, [batch: 4032 / 6720], examples_per_second: 2340.6662, train_label_loss: 0.1884, \n"
     ]
    },
    {
     "name": "stdout",
     "output_type": "stream",
     "text": [
      "epoch: 7, [batch: 4704 / 6720], examples_per_second: 2302.8028, train_label_loss: 0.1787, \n"
     ]
    },
    {
     "name": "stdout",
     "output_type": "stream",
     "text": [
      "epoch: 7, [batch: 5376 / 6720], examples_per_second: 2301.8474, train_label_loss: 0.3273, \n"
     ]
    },
    {
     "name": "stdout",
     "output_type": "stream",
     "text": [
      "epoch: 7, [batch: 6048 / 6720], examples_per_second: 2309.5858, train_label_loss: 0.2450, \n"
     ]
    },
    {
     "name": "stdout",
     "output_type": "stream",
     "text": [
      "=============================================================\n",
      "epoch: 7, source_val_acc_label: 0.8921, target_val_acc_label: 0.8658, source_val_label_loss: 0.3016, target_val_label_loss: 0.3863, \n",
      "=============================================================\n"
     ]
    },
    {
     "name": "stdout",
     "output_type": "stream",
     "text": [
      "epoch: 8, [batch: 1 / 6720], examples_per_second: 2.2359, train_label_loss: 0.1392, \n"
     ]
    },
    {
     "name": "stdout",
     "output_type": "stream",
     "text": [
      "epoch: 8, [batch: 672 / 6720], examples_per_second: 2564.1410, train_label_loss: 0.0913, \n"
     ]
    },
    {
     "name": "stdout",
     "output_type": "stream",
     "text": [
      "epoch: 8, [batch: 1344 / 6720], examples_per_second: 2562.0983, train_label_loss: 0.0311, \n"
     ]
    },
    {
     "name": "stdout",
     "output_type": "stream",
     "text": [
      "epoch: 8, [batch: 2016 / 6720], examples_per_second: 2831.7582, train_label_loss: 0.4237, \n"
     ]
    },
    {
     "name": "stdout",
     "output_type": "stream",
     "text": [
      "epoch: 8, [batch: 2688 / 6720], examples_per_second: 2901.2952, train_label_loss: 0.1247, \n"
     ]
    },
    {
     "name": "stdout",
     "output_type": "stream",
     "text": [
      "epoch: 8, [batch: 3360 / 6720], examples_per_second: 2985.6191, train_label_loss: 0.6839, \n"
     ]
    },
    {
     "name": "stdout",
     "output_type": "stream",
     "text": [
      "epoch: 8, [batch: 4032 / 6720], examples_per_second: 2638.6930, train_label_loss: 0.2293, \n"
     ]
    },
    {
     "name": "stdout",
     "output_type": "stream",
     "text": [
      "epoch: 8, [batch: 4704 / 6720], examples_per_second: 2585.9170, train_label_loss: 0.1647, \n"
     ]
    },
    {
     "name": "stdout",
     "output_type": "stream",
     "text": [
      "epoch: 8, [batch: 5376 / 6720], examples_per_second: 2604.1060, train_label_loss: 0.1148, \n"
     ]
    },
    {
     "name": "stdout",
     "output_type": "stream",
     "text": [
      "epoch: 8, [batch: 6048 / 6720], examples_per_second: 2692.3949, train_label_loss: 0.2346, \n"
     ]
    },
    {
     "name": "stdout",
     "output_type": "stream",
     "text": [
      "=============================================================\n",
      "epoch: 8, source_val_acc_label: 0.8978, target_val_acc_label: 0.8700, source_val_label_loss: 0.2806, target_val_label_loss: 0.3762, \n",
      "=============================================================\n"
     ]
    },
    {
     "name": "stdout",
     "output_type": "stream",
     "text": [
      "epoch: 9, [batch: 1 / 6720], examples_per_second: 2.7374, train_label_loss: 0.4345, \n"
     ]
    },
    {
     "name": "stdout",
     "output_type": "stream",
     "text": [
      "epoch: 9, [batch: 672 / 6720], examples_per_second: 2926.0469, train_label_loss: 0.3327, \n"
     ]
    },
    {
     "name": "stdout",
     "output_type": "stream",
     "text": [
      "epoch: 9, [batch: 1344 / 6720], examples_per_second: 3154.5097, train_label_loss: 0.2008, \n"
     ]
    },
    {
     "name": "stdout",
     "output_type": "stream",
     "text": [
      "epoch: 9, [batch: 2016 / 6720], examples_per_second: 3701.5210, train_label_loss: 0.1970, \n"
     ]
    },
    {
     "name": "stdout",
     "output_type": "stream",
     "text": [
      "epoch: 9, [batch: 2688 / 6720], examples_per_second: 3780.7619, train_label_loss: 0.3311, \n"
     ]
    },
    {
     "name": "stdout",
     "output_type": "stream",
     "text": [
      "epoch: 9, [batch: 3360 / 6720], examples_per_second: 3836.7099, train_label_loss: 0.4075, \n"
     ]
    },
    {
     "name": "stdout",
     "output_type": "stream",
     "text": [
      "epoch: 9, [batch: 4032 / 6720], examples_per_second: 3340.9474, train_label_loss: 0.2028, \n"
     ]
    },
    {
     "name": "stdout",
     "output_type": "stream",
     "text": [
      "epoch: 9, [batch: 4704 / 6720], examples_per_second: 3019.4687, train_label_loss: 0.1362, \n"
     ]
    },
    {
     "name": "stdout",
     "output_type": "stream",
     "text": [
      "epoch: 9, [batch: 5376 / 6720], examples_per_second: 2702.2675, train_label_loss: 0.1417, \n"
     ]
    },
    {
     "name": "stdout",
     "output_type": "stream",
     "text": [
      "epoch: 9, [batch: 6048 / 6720], examples_per_second: 3001.6644, train_label_loss: 0.2113, \n"
     ]
    },
    {
     "name": "stdout",
     "output_type": "stream",
     "text": [
      "=============================================================\n",
      "epoch: 9, source_val_acc_label: 0.8981, target_val_acc_label: 0.8683, source_val_label_loss: 0.2821, target_val_label_loss: 0.3841, \n",
      "=============================================================\n"
     ]
    },
    {
     "name": "stdout",
     "output_type": "stream",
     "text": [
      "epoch: 10, [batch: 1 / 6720], examples_per_second: 2.0376, train_label_loss: 0.2903, \n"
     ]
    },
    {
     "name": "stdout",
     "output_type": "stream",
     "text": [
      "epoch: 10, [batch: 672 / 6720], examples_per_second: 2321.1968, train_label_loss: 0.1196, \n"
     ]
    },
    {
     "name": "stdout",
     "output_type": "stream",
     "text": [
      "epoch: 10, [batch: 1344 / 6720], examples_per_second: 2402.2483, train_label_loss: 0.0824, \n"
     ]
    },
    {
     "name": "stdout",
     "output_type": "stream",
     "text": [
      "epoch: 10, [batch: 2016 / 6720], examples_per_second: 2551.3231, train_label_loss: 0.0684, \n"
     ]
    },
    {
     "name": "stdout",
     "output_type": "stream",
     "text": [
      "epoch: 10, [batch: 2688 / 6720], examples_per_second: 2571.5839, train_label_loss: 0.0203, \n"
     ]
    },
    {
     "name": "stdout",
     "output_type": "stream",
     "text": [
      "epoch: 10, [batch: 3360 / 6720], examples_per_second: 2899.2243, train_label_loss: 0.0636, \n"
     ]
    },
    {
     "name": "stdout",
     "output_type": "stream",
     "text": [
      "epoch: 10, [batch: 4032 / 6720], examples_per_second: 2985.1829, train_label_loss: 0.2218, \n"
     ]
    },
    {
     "name": "stdout",
     "output_type": "stream",
     "text": [
      "epoch: 10, [batch: 4704 / 6720], examples_per_second: 3049.6044, train_label_loss: 0.1496, \n"
     ]
    },
    {
     "name": "stdout",
     "output_type": "stream",
     "text": [
      "epoch: 10, [batch: 5376 / 6720], examples_per_second: 2681.7224, train_label_loss: 0.0265, \n"
     ]
    },
    {
     "name": "stdout",
     "output_type": "stream",
     "text": [
      "epoch: 10, [batch: 6048 / 6720], examples_per_second: 2616.5790, train_label_loss: 0.0980, \n"
     ]
    },
    {
     "name": "stdout",
     "output_type": "stream",
     "text": [
      "=============================================================\n",
      "epoch: 10, source_val_acc_label: 0.8987, target_val_acc_label: 0.8691, source_val_label_loss: 0.2792, target_val_label_loss: 0.3872, \n",
      "=============================================================\n"
     ]
    },
    {
     "name": "stdout",
     "output_type": "stream",
     "text": [
      "Patience (3) exhausted\n"
     ]
    }
   ],
   "source": [
    "###################################\n",
    "# train\n",
    "###################################\n",
    "jig = PTN_Train_Eval_Test_Jig(model, p.BEST_MODEL_PATH, p.device)\n",
    "\n",
    "jig.train(\n",
    "    train_iterable=datasets.source.processed.train,\n",
    "    source_val_iterable=datasets.source.processed.val,\n",
    "    target_val_iterable=datasets.target.processed.val,\n",
    "    num_epochs=p.n_epoch,\n",
    "    num_logs_per_epoch=p.NUM_LOGS_PER_EPOCH,\n",
    "    patience=p.patience,\n",
    "    optimizer=optimizer,\n",
    "    criteria_for_best=p.criteria_for_best,\n",
    ")"
   ]
  },
  {
   "cell_type": "code",
   "execution_count": 23,
   "id": "31e8fabf",
   "metadata": {
    "execution": {
     "iopub.execute_input": "2022-03-21T16:58:56.108480Z",
     "iopub.status.busy": "2022-03-21T16:58:56.107958Z",
     "iopub.status.idle": "2022-03-21T16:58:56.139183Z",
     "shell.execute_reply": "2022-03-21T16:58:56.138484Z"
    },
    "papermill": {
     "duration": 0.089855,
     "end_time": "2022-03-21T16:58:56.139336",
     "exception": false,
     "start_time": "2022-03-21T16:58:56.049481",
     "status": "completed"
    },
    "tags": []
   },
   "outputs": [],
   "source": [
    "total_experiment_time_secs = time.time() - start_time_secs"
   ]
  },
  {
   "cell_type": "code",
   "execution_count": 24,
   "id": "87b9595b",
   "metadata": {
    "execution": {
     "iopub.execute_input": "2022-03-21T16:58:56.272634Z",
     "iopub.status.busy": "2022-03-21T16:58:56.271765Z",
     "iopub.status.idle": "2022-03-21T17:02:32.080990Z",
     "shell.execute_reply": "2022-03-21T17:02:32.081673Z"
    },
    "papermill": {
     "duration": 215.881862,
     "end_time": "2022-03-21T17:02:32.081909",
     "exception": false,
     "start_time": "2022-03-21T16:58:56.200047",
     "status": "completed"
    },
    "tags": []
   },
   "outputs": [],
   "source": [
    "###################################\n",
    "# Evaluate the model\n",
    "###################################\n",
    "source_test_label_accuracy, source_test_label_loss = jig.test(datasets.source.processed.test)\n",
    "target_test_label_accuracy, target_test_label_loss = jig.test(datasets.target.processed.test)\n",
    "\n",
    "source_val_label_accuracy, source_val_label_loss = jig.test(datasets.source.processed.val)\n",
    "target_val_label_accuracy, target_val_label_loss = jig.test(datasets.target.processed.val)\n",
    "\n",
    "history = jig.get_history()\n",
    "\n",
    "total_epochs_trained = len(history[\"epoch_indices\"])\n",
    "\n",
    "val_dl = Iterable_Aggregator((datasets.source.original.val,datasets.target.original.val))\n",
    "\n",
    "confusion = ptn_confusion_by_domain_over_dataloader(model, p.device, val_dl)\n",
    "per_domain_accuracy = per_domain_accuracy_from_confusion(confusion)\n",
    "\n",
    "# Add a key to per_domain_accuracy for if it was a source domain\n",
    "for domain, accuracy in per_domain_accuracy.items():\n",
    "    per_domain_accuracy[domain] = {\n",
    "        \"accuracy\": accuracy,\n",
    "        \"source?\": domain in p.domains_source\n",
    "    }\n",
    "\n",
    "# Do an independent accuracy assesment JUST TO BE SURE!\n",
    "# _source_test_label_accuracy = independent_accuracy_assesment(model, datasets.source.processed.test, p.device)\n",
    "# _target_test_label_accuracy = independent_accuracy_assesment(model, datasets.target.processed.test, p.device)\n",
    "# _source_val_label_accuracy = independent_accuracy_assesment(model, datasets.source.processed.val, p.device)\n",
    "# _target_val_label_accuracy = independent_accuracy_assesment(model, datasets.target.processed.val, p.device)\n",
    "\n",
    "# assert(_source_test_label_accuracy == source_test_label_accuracy)\n",
    "# assert(_target_test_label_accuracy == target_test_label_accuracy)\n",
    "# assert(_source_val_label_accuracy == source_val_label_accuracy)\n",
    "# assert(_target_val_label_accuracy == target_val_label_accuracy)\n",
    "\n",
    "experiment = {\n",
    "    \"experiment_name\": p.experiment_name,\n",
    "    \"parameters\": dict(p),\n",
    "    \"results\": {\n",
    "        \"source_test_label_accuracy\": source_test_label_accuracy,\n",
    "        \"source_test_label_loss\": source_test_label_loss,\n",
    "        \"target_test_label_accuracy\": target_test_label_accuracy,\n",
    "        \"target_test_label_loss\": target_test_label_loss,\n",
    "        \"source_val_label_accuracy\": source_val_label_accuracy,\n",
    "        \"source_val_label_loss\": source_val_label_loss,\n",
    "        \"target_val_label_accuracy\": target_val_label_accuracy,\n",
    "        \"target_val_label_loss\": target_val_label_loss,\n",
    "        \"total_epochs_trained\": total_epochs_trained,\n",
    "        \"total_experiment_time_secs\": total_experiment_time_secs,\n",
    "        \"confusion\": confusion,\n",
    "        \"per_domain_accuracy\": per_domain_accuracy,\n",
    "    },\n",
    "    \"history\": history,\n",
    "    \"dataset_metrics\": get_dataset_metrics(datasets, \"ptn\"),\n",
    "}"
   ]
  },
  {
   "cell_type": "code",
   "execution_count": 25,
   "id": "54a21829",
   "metadata": {
    "execution": {
     "iopub.execute_input": "2022-03-21T17:02:32.199548Z",
     "iopub.status.busy": "2022-03-21T17:02:32.199105Z",
     "iopub.status.idle": "2022-03-21T17:02:32.422434Z",
     "shell.execute_reply": "2022-03-21T17:02:32.421751Z"
    },
    "papermill": {
     "duration": 0.27946,
     "end_time": "2022-03-21T17:02:32.422596",
     "exception": false,
     "start_time": "2022-03-21T17:02:32.143136",
     "status": "completed"
    },
    "tags": []
   },
   "outputs": [
    {
     "data": {
      "image/png": "[encoded data removed]",
      "text/plain": [
       "<Figure size 1080x504 with 1 Axes>"
      ]
     },
     "metadata": {
      "needs_background": "light"
     },
     "output_type": "display_data"
    }
   ],
   "source": [
    "ax = get_loss_curve(experiment)\n",
    "plt.show()"
   ]
  },
  {
   "cell_type": "code",
   "execution_count": 26,
   "id": "fd8a0f60",
   "metadata": {
    "execution": {
     "iopub.execute_input": "2022-03-21T17:02:32.538961Z",
     "iopub.status.busy": "2022-03-21T17:02:32.538596Z",
     "iopub.status.idle": "2022-03-21T17:02:32.878569Z",
     "shell.execute_reply": "2022-03-21T17:02:32.879238Z"
    },
    "papermill": {
     "duration": 0.398699,
     "end_time": "2022-03-21T17:02:32.879465",
     "exception": false,
     "start_time": "2022-03-21T17:02:32.480766",
     "status": "completed"
    },
    "tags": []
   },
   "outputs": [
    {
     "data": {
      "text/plain": [
       "<AxesSubplot:title={'center':'Results'}>"
      ]
     },
     "execution_count": 26,
     "metadata": {},
     "output_type": "execute_result"
    },
    {
     "data": {
      "image/png": "[encoded data removed]",
      "text/plain": [
       "<Figure size 1080x504 with 1 Axes>"
      ]
     },
     "metadata": {
      "needs_background": "light"
     },
     "output_type": "display_data"
    }
   ],
   "source": [
    "get_results_table(experiment)"
   ]
  },
  {
   "cell_type": "code",
   "execution_count": 27,
   "id": "cf8dc689",
   "metadata": {
    "execution": {
     "iopub.execute_input": "2022-03-21T17:02:33.003046Z",
     "iopub.status.busy": "2022-03-21T17:02:33.002685Z",
     "iopub.status.idle": "2022-03-21T17:02:33.291150Z",
     "shell.execute_reply": "2022-03-21T17:02:33.290322Z"
    },
    "papermill": {
     "duration": 0.348968,
     "end_time": "2022-03-21T17:02:33.291309",
     "exception": false,
     "start_time": "2022-03-21T17:02:32.942341",
     "status": "completed"
    },
    "tags": []
   },
   "outputs": [
    {
     "data": {
      "text/plain": [
       "<AxesSubplot:title={'center':'Per Domain Validation Accuracy'}, xlabel='domain'>"
      ]
     },
     "execution_count": 27,
     "metadata": {},
     "output_type": "execute_result"
    },
    {
     "data": {
      "image/png": "[encoded data removed]",
      "text/plain": [
       "<Figure size 1080x504 with 1 Axes>"
      ]
     },
     "metadata": {
      "needs_background": "light"
     },
     "output_type": "display_data"
    }
   ],
   "source": [
    "get_domain_accuracies(experiment)"
   ]
  },
  {
   "cell_type": "code",
   "execution_count": 28,
   "id": "a74ae082",
   "metadata": {
    "execution": {
     "iopub.execute_input": "2022-03-21T17:02:33.418541Z",
     "iopub.status.busy": "2022-03-21T17:02:33.418164Z",
     "iopub.status.idle": "2022-03-21T17:02:33.444142Z",
     "shell.execute_reply": "2022-03-21T17:02:33.443272Z"
    },
    "papermill": {
     "duration": 0.088306,
     "end_time": "2022-03-21T17:02:33.444301",
     "exception": false,
     "start_time": "2022-03-21T17:02:33.355995",
     "status": "completed"
    },
    "tags": []
   },
   "outputs": [
    {
     "name": "stdout",
     "output_type": "stream",
     "text": [
      "Source Test Label Accuracy: 0.8910807291666667 Target Test Label Accuracy: 0.8666015625\n",
      "Source Val Label Accuracy: 0.8883463541666666 Target Val Label Accuracy: 0.87041015625\n"
     ]
    }
   ],
   "source": [
    "print(\"Source Test Label Accuracy:\", experiment[\"results\"][\"source_test_label_accuracy\"], \"Target Test Label Accuracy:\", experiment[\"results\"][\"target_test_label_accuracy\"])\n",
    "print(\"Source Val Label Accuracy:\", experiment[\"results\"][\"source_val_label_accuracy\"], \"Target Val Label Accuracy:\", experiment[\"results\"][\"target_val_label_accuracy\"])"
   ]
  },
  {
   "cell_type": "code",
   "execution_count": 29,
   "id": "dacca602",
   "metadata": {
    "execution": {
     "iopub.execute_input": "2022-03-21T17:02:33.568999Z",
     "iopub.status.busy": "2022-03-21T17:02:33.568637Z",
     "iopub.status.idle": "2022-03-21T17:02:33.593319Z",
     "shell.execute_reply": "2022-03-21T17:02:33.593991Z"
    },
    "papermill": {
     "duration": 0.087201,
     "end_time": "2022-03-21T17:02:33.594174",
     "exception": false,
     "start_time": "2022-03-21T17:02:33.506973",
     "status": "completed"
    },
    "tags": [
     "experiment_json"
    ]
   },
   "outputs": [
    {
     "data": {
      "text/plain": [
       "'{\"experiment_name\": \"tl_1v2:oracle.run1.framed-oracle.run2.framed\", \"parameters\": {\"experiment_name\": \"tl_1v2:oracle.run1.framed-oracle.run2.framed\", \"device\": \"cuda\", \"lr\": 0.0001, \"n_shot\": 3, \"n_query\": 2, \"train_k_factor\": 3, \"val_k_factor\": 2, \"test_k_factor\": 2, \"torch_default_dtype\": \"torch.float32\", \"n_epoch\": 50, \"patience\": 3, \"criteria_for_best\": \"target_accuracy\", \"x_net\": [{\"class\": \"nnReshape\", \"kargs\": {\"shape\": [-1, 1, 2, 256]}}, {\"class\": \"Conv2d\", \"kargs\": {\"in_channels\": 1, \"out_channels\": 256, \"kernel_size\": [1, 7], \"bias\": false, \"padding\": [0, 3]}}, {\"class\": \"ReLU\", \"kargs\": {\"inplace\": true}}, {\"class\": \"BatchNorm2d\", \"kargs\": {\"num_features\": 256}}, {\"class\": \"Conv2d\", \"kargs\": {\"in_channels\": 256, \"out_channels\": 80, \"kernel_size\": [2, 7], \"bias\": true, \"padding\": [0, 3]}}, {\"class\": \"ReLU\", \"kargs\": {\"inplace\": true}}, {\"class\": \"BatchNorm2d\", \"kargs\": {\"num_features\": 80}}, {\"class\": \"Flatten\", \"kargs\": {}}, {\"class\": \"Linear\", \"kargs\": {\"in_features\": 20480, \"out_features\": 256}}, {\"class\": \"ReLU\", \"kargs\": {\"inplace\": true}}, {\"class\": \"BatchNorm1d\", \"kargs\": {\"num_features\": 256}}, {\"class\": \"Linear\", \"kargs\": {\"in_features\": 256, \"out_features\": 256}}], \"NUM_LOGS_PER_EPOCH\": 10, \"BEST_MODEL_PATH\": \"./best_model.pth\", \"n_way\": 16, \"datasets\": [{\"labels\": [\"3123D52\", \"3123D65\", \"3123D79\", \"3123D80\", \"3123D54\", \"3123D70\", \"3123D7B\", \"3123D89\", \"3123D58\", \"3123D76\", \"3123D7D\", \"3123EFE\", \"3123D64\", \"3123D78\", \"3123D7E\", \"3124E4A\"], \"domains\": [32, 38, 8, 44, 14, 50, 20, 26], \"num_examples_per_domain_per_label\": 2000, \"pickle_path\": \"/root/csc500-main/datasets/oracle.Run1_framed_2000Examples_stratified_ds.2022A.pkl\", \"source_or_target_dataset\": \"source\", \"x_transforms\": [\"unit_power\"], \"episode_transforms\": [], \"domain_prefix\": \"ORACLE.run1_\"}, {\"labels\": [\"3123D52\", \"3123D65\", \"3123D79\", \"3123D80\", \"3123D54\", \"3123D70\", \"3123D7B\", \"3123D89\", \"3123D58\", \"3123D76\", \"3123D7D\", \"3123EFE\", \"3123D64\", \"3123D78\", \"3123D7E\", \"3124E4A\"], \"domains\": [32, 38, 8, 44, 14, 50, 20, 26], \"num_examples_per_domain_per_label\": 2000, \"pickle_path\": \"/root/csc500-main/datasets/oracle.Run2_framed_2000Examples_stratified_ds.2022A.pkl\", \"source_or_target_dataset\": \"target\", \"x_transforms\": [\"unit_power\"], \"episode_transforms\": [], \"domain_prefix\": \"ORACLE.run2_\"}], \"dataset_seed\": 154325, \"seed\": 154325, \"x_shape\": [2, 256], \"domains_source\": [\"ORACLE.run1_32\", \"ORACLE.run1_38\", \"ORACLE.run1_8\", \"ORACLE.run1_44\", \"ORACLE.run1_14\", \"ORACLE.run1_50\", \"ORACLE.run1_20\", \"ORACLE.run1_26\"], \"domains_target\": [\"ORACLE.run2_32\", \"ORACLE.run2_38\", \"ORACLE.run2_8\", \"ORACLE.run2_44\", \"ORACLE.run2_14\", \"ORACLE.run2_50\", \"ORACLE.run2_20\", \"ORACLE.run2_26\"]}, \"results\": {\"source_test_label_accuracy\": 0.8910807291666667, \"source_test_label_loss\": 0.30927520990371704, \"target_test_label_accuracy\": 0.8666015625, \"target_test_label_loss\": 0.4010479748249054, \"source_val_label_accuracy\": 0.8883463541666666, \"source_val_label_loss\": 0.3102990686893463, \"target_val_label_accuracy\": 0.87041015625, \"target_val_label_loss\": 0.38771066069602966, \"total_epochs_trained\": 10, \"total_experiment_time_secs\": 2621.839255094528, \"confusion\": {\"ORACLE.run1_8\": {\"13\": {\"4\": 32, \"13\": 144, \"0\": 23, \"10\": 29, \"6\": 8, \"7\": 1, \"14\": 3}, \"9\": {\"9\": 240}, \"15\": {\"15\": 227, \"12\": 13}, \"2\": {\"2\": 234, \"3\": 4, \"7\": 2}, \"3\": {\"3\": 240}, \"8\": {\"8\": 240}, \"5\": {\"1\": 7, \"5\": 230, \"10\": 2, \"14\": 1}, \"14\": {\"14\": 198, \"10\": 23, \"4\": 15, \"1\": 4}, \"1\": {\"1\": 229, \"11\": 8, \"5\": 1, \"14\": 2}, \"0\": {\"0\": 222, \"13\": 16, \"7\": 2}, \"10\": {\"10\": 223, \"13\": 3, \"14\": 13, \"4\": 1}, \"6\": {\"6\": 198, \"7\": 25, \"13\": 8, \"4\": 8, \"0\": 1}, \"11\": {\"11\": 233, \"1\": 7}, \"7\": {\"7\": 223, \"6\": 17}, \"4\": {\"4\": 198, \"13\": 33, \"14\": 6, \"0\": 1, \"6\": 2}, \"12\": {\"12\": 186, \"15\": 45, \"8\": 2, \"3\": 7}}, \"ORACLE.run1_38\": {\"13\": {\"13\": 230, \"10\": 3, \"15\": 4, \"2\": 3}, \"12\": {\"12\": 240}, \"2\": {\"2\": 235, \"13\": 2, \"14\": 3}, \"9\": {\"9\": 232, \"6\": 7, \"5\": 1}, \"15\": {\"15\": 224, \"1\": 9, \"8\": 5, \"5\": 1, \"13\": 1}, \"5\": {\"5\": 153, \"8\": 48, \"7\": 24, \"6\": 5, \"15\": 4, \"9\": 5, \"13\": 1}, \"14\": {\"14\": 238, \"2\": 1, \"10\": 1}, \"0\": {\"0\": 198, \"7\": 6, \"3\": 14, \"8\": 16, \"10\": 2, \"5\": 2, \"9\": 1, \"13\": 1}, \"3\": {\"3\": 240}, \"1\": {\"1\": 235, \"15\": 5}, \"11\": {\"11\": 239, \"10\": 1}, \"7\": {\"7\": 225, \"0\": 3, \"8\": 7, \"5\": 5}, \"8\": {\"8\": 193, \"15\": 3, \"5\": 28, \"0\": 10, \"13\": 1, \"7\": 4, \"10\": 1}, \"4\": {\"4\": 239, \"10\": 1}, \"10\": {\"10\": 231, \"13\": 6, \"0\": 1, \"8\": 1, \"14\": 1}, \"6\": {\"6\": 239, \"9\": 1}}, \"ORACLE.run1_26\": {\"10\": {\"0\": 73, \"10\": 132, \"14\": 13, \"8\": 20, \"6\": 1, \"4\": 1}, \"12\": {\"12\": 240}, \"1\": {\"1\": 220, \"4\": 4, \"14\": 12, \"7\": 3, \"10\": 1}, \"0\": {\"0\": 109, \"14\": 37, \"8\": 18, \"10\": 64, \"4\": 11, \"6\": 1}, \"15\": {\"15\": 195, \"9\": 19, \"8\": 10, \"6\": 6, \"5\": 2, \"2\": 3, \"7\": 1, \"13\": 4}, \"13\": {\"13\": 203, \"5\": 30, \"15\": 2, \"9\": 1, \"2\": 4}, \"8\": {\"8\": 144, \"0\": 26, \"4\": 14, \"10\": 33, \"14\": 7, \"7\": 12, \"2\": 3, \"15\": 1}, \"3\": {\"3\": 199, \"2\": 32, \"7\": 9}, \"11\": {\"11\": 240}, \"4\": {\"4\": 193, \"0\": 10, \"8\": 12, \"7\": 8, \"14\": 15, \"1\": 1, \"10\": 1}, \"6\": {\"6\": 227, \"9\": 5, \"15\": 4, \"10\": 3, \"8\": 1}, \"7\": {\"7\": 194, \"2\": 17, \"4\": 14, \"8\": 4, \"3\": 11}, \"14\": {\"0\": 29, \"14\": 156, \"10\": 12, \"4\": 30, \"1\": 7, \"8\": 6}, \"2\": {\"2\": 127, \"3\": 55, \"5\": 20, \"15\": 6, \"7\": 20, \"8\": 4, \"9\": 3, \"13\": 5}, \"5\": {\"5\": 212, \"13\": 17, \"2\": 9, \"15\": 2}, \"9\": {\"9\": 202, \"15\": 24, \"13\": 11, \"5\": 1, \"6\": 2}}, \"ORACLE.run1_20\": {\"5\": {\"5\": 223, \"0\": 11, \"15\": 6}, \"15\": {\"15\": 220, \"1\": 11, \"0\": 8, \"5\": 1}, \"9\": {\"9\": 194, \"12\": 9, \"3\": 10, \"2\": 27}, \"7\": {\"7\": 223, \"2\": 13, \"8\": 2, \"3\": 2}, \"3\": {\"3\": 175, \"2\": 9, \"12\": 34, \"9\": 12, \"4\": 4, \"7\": 6}, \"8\": {\"8\": 227, \"4\": 11, \"14\": 1, \"7\": 1}, \"4\": {\"4\": 231, \"8\": 8, \"3\": 1}, \"6\": {\"6\": 237, \"14\": 3}, \"2\": {\"2\": 177, \"7\": 14, \"9\": 38, \"3\": 5, \"13\": 2, \"12\": 4}, \"12\": {\"12\": 182, \"3\": 26, \"2\": 5, \"1\": 24, \"9\": 1, \"5\": 2}, \"0\": {\"5\": 19, \"0\": 209, \"7\": 1, \"15\": 10, \"12\": 1}, \"13\": {\"13\": 236, \"2\": 4}, \"10\": {\"10\": 239, \"14\": 1}, \"11\": {\"11\": 240}, \"14\": {\"14\": 236, \"6\": 4}, \"1\": {\"1\": 199, \"12\": 34, \"5\": 2, \"3\": 1, \"15\": 4}}, \"ORACLE.run1_50\": {\"1\": {\"1\": 222, \"15\": 9, \"4\": 5, \"13\": 1, \"6\": 2, \"11\": 1}, \"2\": {\"2\": 230, \"0\": 10}, \"8\": {\"8\": 239, \"3\": 1}, \"7\": {\"7\": 223, \"13\": 8, \"6\": 2, \"5\": 5, \"4\": 1, \"10\": 1}, \"14\": {\"14\": 240}, \"6\": {\"6\": 234, \"7\": 1, \"5\": 1, \"13\": 2, \"4\": 1, \"15\": 1}, \"3\": {\"3\": 237, \"8\": 3}, \"4\": {\"4\": 171, \"6\": 2, \"5\": 42, \"15\": 20, \"1\": 3, \"7\": 2}, \"12\": {\"12\": 234, \"9\": 5, \"11\": 1}, \"15\": {\"15\": 213, \"1\": 6, \"11\": 2, \"4\": 16, \"6\": 3}, \"11\": {\"11\": 232, \"15\": 3, \"12\": 2, \"9\": 2, \"14\": 1}, \"0\": {\"0\": 220, \"10\": 4, \"2\": 16}, \"9\": {\"9\": 237, \"12\": 3}, \"10\": {\"10\": 237, \"0\": 2, \"13\": 1}, \"5\": {\"13\": 16, \"5\": 184, \"1\": 7, \"4\": 20, \"7\": 10, \"15\": 1, \"6\": 1, \"9\": 1}, \"13\": {\"7\": 3, \"13\": 219, \"10\": 1, \"6\": 6, \"5\": 11}}, \"ORACLE.run1_32\": {\"2\": {\"2\": 215, \"4\": 25}, \"6\": {\"6\": 240}, \"5\": {\"5\": 173, \"7\": 39, \"13\": 10, \"3\": 8, \"8\": 5, \"4\": 3, \"14\": 2}, \"12\": {\"12\": 240}, \"13\": {\"13\": 204, \"3\": 13, \"4\": 11, \"5\": 6, \"8\": 1, \"7\": 5}, \"9\": {\"9\": 240}, \"11\": {\"11\": 236, \"14\": 4}, \"1\": {\"1\": 237, \"10\": 3}, \"3\": {\"3\": 235, \"8\": 3, \"13\": 2}, \"7\": {\"7\": 166, \"5\": 44, \"2\": 5, \"14\": 11, \"4\": 11, \"13\": 2, \"11\": 1}, \"14\": {\"14\": 202, \"11\": 13, \"7\": 8, \"5\": 2, \"0\": 13, \"8\": 2}, \"8\": {\"8\": 221, \"0\": 10, \"13\": 5, \"5\": 3, \"14\": 1}, \"4\": {\"4\": 190, \"13\": 6, \"7\": 10, \"2\": 32, \"5\": 2}, \"0\": {\"0\": 216, \"5\": 1, \"14\": 11, \"8\": 9, \"7\": 2, \"4\": 1}, \"10\": {\"10\": 236, \"1\": 4}, \"15\": {\"15\": 240}}, \"ORACLE.run1_44\": {\"13\": {\"13\": 187, \"6\": 32, \"9\": 20, \"7\": 1}, \"4\": {\"4\": 179, \"14\": 60, \"15\": 1}, \"6\": {\"6\": 191, \"13\": 31, \"9\": 15, \"7\": 3}, \"0\": {\"8\": 47, \"0\": 181, \"5\": 7, \"15\": 5}, \"10\": {\"10\": 213, \"1\": 16, \"7\": 1, \"12\": 3, \"2\": 7}, \"7\": {\"7\": 177, \"9\": 41, \"2\": 19, \"6\": 3}, \"14\": {\"14\": 173, \"4\": 55, \"15\": 11, \"5\": 1}, \"15\": {\"14\": 7, \"15\": 218, \"0\": 8, \"5\": 3, \"8\": 4}, \"5\": {\"5\": 217, \"8\": 3, \"14\": 5, \"0\": 10, \"15\": 4, \"4\": 1}, \"2\": {\"2\": 212, \"1\": 4, \"7\": 17, \"10\": 7}, \"9\": {\"9\": 168, \"7\": 41, \"6\": 14, \"13\": 17}, \"12\": {\"12\": 226, \"1\": 12, \"10\": 1, \"3\": 1}, \"8\": {\"8\": 161, \"0\": 73, \"15\": 2, \"5\": 4}, \"3\": {\"3\": 235, \"1\": 5}, \"1\": {\"1\": 213, \"12\": 13, \"10\": 8, \"2\": 3, \"3\": 3}, \"11\": {\"11\": 237, \"13\": 3}}, \"ORACLE.run1_14\": {\"1\": {\"1\": 232, \"5\": 7, \"4\": 1}, \"15\": {\"15\": 240}, \"10\": {\"10\": 240}, \"2\": {\"3\": 12, \"2\": 160, \"5\": 17, \"14\": 40, \"6\": 8, \"13\": 3}, \"9\": {\"9\": 240}, \"5\": {\"5\": 201, \"3\": 2, \"2\": 2, \"4\": 20, \"1\": 15}, \"7\": {\"7\": 240}, \"13\": {\"13\": 160, \"2\": 4, \"6\": 60, \"14\": 14, \"4\": 1, \"5\": 1}, \"8\": {\"8\": 240}, \"6\": {\"6\": 208, \"13\": 26, \"2\": 3, \"14\": 3}, \"3\": {\"3\": 232, \"2\": 4, \"1\": 1, \"4\": 2, \"14\": 1}, \"12\": {\"12\": 240}, \"0\": {\"0\": 238, \"10\": 1, \"11\": 1}, \"4\": {\"4\": 222, \"5\": 15, \"2\": 2, \"3\": 1}, \"14\": {\"14\": 213, \"2\": 17, \"6\": 7, \"13\": 3}, \"11\": {\"11\": 236, \"9\": 3, \"0\": 1}}, \"ORACLE.run2_8\": {\"13\": {\"13\": 223, \"1\": 6, \"6\": 3, \"10\": 4, \"5\": 1, \"14\": 3}, \"9\": {\"9\": 240}, \"15\": {\"15\": 215, \"12\": 18, \"8\": 7}, \"2\": {\"2\": 232, \"7\": 4, \"4\": 4}, \"3\": {\"3\": 239, \"12\": 1}, \"8\": {\"8\": 239, \"11\": 1}, \"5\": {\"5\": 225, \"10\": 15}, \"14\": {\"14\": 209, \"0\": 23, \"13\": 4, \"10\": 4}, \"1\": {\"1\": 237, \"5\": 3}, \"0\": {\"0\": 220, \"14\": 9, \"10\": 11}, \"10\": {\"10\": 208, \"0\": 11, \"14\": 4, \"5\": 14, \"13\": 3}, \"6\": {\"6\": 177, \"4\": 48, \"14\": 1, \"7\": 14}, \"11\": {\"11\": 188, \"12\": 19, \"8\": 33}, \"7\": {\"7\": 173, \"6\": 7, \"2\": 2, \"4\": 58}, \"4\": {\"4\": 129, \"6\": 54, \"7\": 55, \"2\": 2}, \"12\": {\"12\": 238, \"15\": 2}}, \"ORACLE.run2_38\": {\"13\": {\"3\": 47, \"13\": 183, \"10\": 3, \"9\": 1, \"2\": 1, \"7\": 3, \"8\": 2}, \"12\": {\"12\": 240}, \"2\": {\"2\": 221, \"14\": 19}, \"9\": {\"9\": 233, \"6\": 7}, \"15\": {\"15\": 196, \"5\": 20, \"1\": 17, \"8\": 6, \"0\": 1}, \"5\": {\"5\": 154, \"7\": 17, \"8\": 57, \"15\": 10, \"10\": 2}, \"14\": {\"14\": 200, \"2\": 29, \"8\": 3, \"7\": 5, \"12\": 1, \"5\": 1, \"11\": 1}, \"0\": {\"0\": 235, \"3\": 2, \"10\": 1, \"7\": 2}, \"3\": {\"3\": 158, \"13\": 50, \"9\": 3, \"0\": 23, \"10\": 5, \"8\": 1}, \"1\": {\"1\": 231, \"15\": 9}, \"11\": {\"11\": 238, \"4\": 2}, \"7\": {\"7\": 185, \"5\": 13, \"10\": 34, \"8\": 8}, \"8\": {\"8\": 159, \"5\": 60, \"10\": 1, \"7\": 15, \"15\": 3, \"0\": 2}, \"4\": {\"4\": 238, \"11\": 1, \"12\": 1}, \"10\": {\"10\": 200, \"7\": 38, \"4\": 1, \"5\": 1}, \"6\": {\"6\": 231, \"9\": 9}}, \"ORACLE.run2_26\": {\"10\": {\"15\": 3, \"14\": 25, \"10\": 120, \"0\": 58, \"8\": 16, \"4\": 9, \"6\": 9}, \"12\": {\"12\": 240}, \"1\": {\"1\": 223, \"14\": 16, \"0\": 1}, \"0\": {\"0\": 120, \"14\": 42, \"8\": 20, \"10\": 40, \"4\": 12, \"15\": 5, \"7\": 1}, \"15\": {\"15\": 198, \"7\": 15, \"3\": 8, \"4\": 1, \"2\": 18}, \"13\": {\"13\": 212, \"5\": 23, \"9\": 5}, \"8\": {\"2\": 12, \"8\": 174, \"10\": 12, \"7\": 14, \"4\": 5, \"14\": 9, \"0\": 11, \"15\": 3}, \"3\": {\"3\": 200, \"1\": 1, \"2\": 21, \"15\": 6, \"7\": 7, \"4\": 5}, \"11\": {\"11\": 240}, \"4\": {\"4\": 211, \"0\": 12, \"7\": 8, \"8\": 2, \"15\": 1, \"2\": 2, \"3\": 1, \"14\": 3}, \"6\": {\"6\": 230, \"9\": 6, \"5\": 1, \"10\": 3}, \"7\": {\"7\": 123, \"2\": 77, \"4\": 10, \"5\": 4, \"8\": 4, \"3\": 8, \"15\": 13, \"13\": 1}, \"14\": {\"0\": 52, \"14\": 144, \"10\": 12, \"1\": 18, \"8\": 7, \"4\": 7}, \"2\": {\"7\": 65, \"2\": 132, \"15\": 16, \"3\": 15, \"8\": 6, \"5\": 1, \"10\": 1, \"13\": 1, \"4\": 3}, \"5\": {\"13\": 51, \"5\": 165, \"6\": 2, \"2\": 7, \"7\": 4, \"3\": 5, \"8\": 1, \"9\": 4, \"15\": 1}, \"9\": {\"9\": 229, \"13\": 4, \"6\": 4, \"5\": 2, \"8\": 1}}, \"ORACLE.run2_20\": {\"5\": {\"5\": 184, \"0\": 9, \"2\": 20, \"8\": 1, \"12\": 13, \"3\": 6, \"1\": 2, \"7\": 2, \"15\": 3}, \"15\": {\"15\": 189, \"5\": 6, \"9\": 2, \"13\": 25, \"1\": 9, \"0\": 4, \"12\": 4, \"2\": 1}, \"9\": {\"9\": 208, \"12\": 4, \"2\": 21, \"3\": 5, \"1\": 2}, \"7\": {\"7\": 229, \"8\": 4, \"3\": 7}, \"3\": {\"3\": 185, \"2\": 27, \"9\": 12, \"7\": 14, \"12\": 2}, \"8\": {\"8\": 230, \"7\": 4, \"4\": 3, \"14\": 3}, \"4\": {\"4\": 239, \"5\": 1}, \"6\": {\"6\": 238, \"14\": 2}, \"2\": {\"9\": 29, \"2\": 180, \"3\": 17, \"5\": 6, \"12\": 6, \"15\": 2}, \"12\": {\"12\": 188, \"1\": 32, \"9\": 4, \"5\": 9, \"15\": 2, \"2\": 4, \"4\": 1}, \"0\": {\"0\": 235, \"5\": 4, \"15\": 1}, \"13\": {\"13\": 214, \"15\": 23, \"2\": 1, \"12\": 1, \"5\": 1}, \"10\": {\"10\": 240}, \"11\": {\"11\": 240}, \"14\": {\"14\": 220, \"8\": 8, \"6\": 12}, \"1\": {\"1\": 166, \"12\": 60, \"15\": 9, \"13\": 1, \"2\": 3, \"5\": 1}}, \"ORACLE.run2_50\": {\"1\": {\"1\": 226, \"4\": 7, \"5\": 2, \"6\": 4, \"15\": 1}, \"2\": {\"2\": 233, \"0\": 7}, \"8\": {\"8\": 239, \"3\": 1}, \"7\": {\"7\": 220, \"5\": 9, \"13\": 10, \"6\": 1}, \"14\": {\"14\": 240}, \"6\": {\"6\": 231, \"5\": 5, \"4\": 3, \"15\": 1}, \"3\": {\"3\": 237, \"8\": 3}, \"4\": {\"4\": 168, \"5\": 61, \"6\": 9, \"15\": 1, \"1\": 1}, \"12\": {\"12\": 238, \"9\": 2}, \"15\": {\"15\": 236, \"1\": 4}, \"11\": {\"11\": 235, \"15\": 3, \"9\": 1, \"12\": 1}, \"0\": {\"0\": 224, \"2\": 11, \"10\": 5}, \"9\": {\"9\": 237, \"12\": 2, \"11\": 1}, \"10\": {\"10\": 211, \"13\": 28, \"0\": 1}, \"5\": {\"5\": 152, \"6\": 13, \"4\": 59, \"13\": 6, \"10\": 2, \"7\": 8}, \"13\": {\"13\": 192, \"10\": 34, \"7\": 11, \"5\": 3}}, \"ORACLE.run2_32\": {\"2\": {\"2\": 231, \"5\": 5, \"14\": 1, \"4\": 3}, \"6\": {\"6\": 240}, \"5\": {\"5\": 189, \"7\": 5, \"8\": 16, \"4\": 11, \"2\": 8, \"13\": 1, \"14\": 6, \"0\": 4}, \"12\": {\"12\": 240}, \"13\": {\"13\": 199, \"4\": 37, \"8\": 1, \"7\": 2, \"11\": 1}, \"9\": {\"9\": 240}, \"11\": {\"11\": 214, \"14\": 5, \"7\": 11, \"0\": 4, \"4\": 5, \"13\": 1}, \"1\": {\"1\": 240}, \"3\": {\"3\": 237, \"8\": 2, \"11\": 1}, \"7\": {\"7\": 211, \"11\": 15, \"4\": 9, \"2\": 2, \"13\": 1, \"5\": 2}, \"14\": {\"14\": 231, \"5\": 1, \"2\": 2, \"0\": 6}, \"8\": {\"8\": 217, \"0\": 16, \"5\": 4, \"3\": 1, \"4\": 2}, \"4\": {\"7\": 13, \"4\": 177, \"13\": 40, \"11\": 4, \"5\": 4, \"8\": 1, \"0\": 1}, \"0\": {\"0\": 210, \"8\": 15, \"11\": 10, \"7\": 1, \"5\": 3, \"14\": 1}, \"10\": {\"10\": 240}, \"15\": {\"15\": 240}}, \"ORACLE.run2_44\": {\"13\": {\"13\": 238, \"6\": 2}, \"4\": {\"4\": 224, \"15\": 7, \"14\": 7, \"13\": 2}, \"6\": {\"13\": 8, \"6\": 222, \"9\": 6, \"7\": 4}, \"0\": {\"0\": 145, \"8\": 95}, \"10\": {\"10\": 239, \"1\": 1}, \"7\": {\"7\": 139, \"9\": 83, \"6\": 2, \"2\": 15, \"1\": 1}, \"14\": {\"14\": 200, \"4\": 10, \"15\": 19, \"5\": 11}, \"15\": {\"15\": 212, \"14\": 17, \"4\": 7, \"8\": 4}, \"5\": {\"5\": 220, \"14\": 18, \"15\": 2}, \"2\": {\"2\": 207, \"9\": 24, \"7\": 9}, \"9\": {\"9\": 138, \"7\": 77, \"2\": 23, \"6\": 2}, \"12\": {\"12\": 195, \"1\": 31, \"3\": 14}, \"8\": {\"8\": 147, \"0\": 93}, \"3\": {\"3\": 222, \"12\": 12, \"1\": 6}, \"1\": {\"1\": 191, \"3\": 13, \"12\": 36}, \"11\": {\"11\": 240}}, \"ORACLE.run2_14\": {\"1\": {\"1\": 232, \"4\": 3, \"5\": 5}, \"15\": {\"15\": 240}, \"10\": {\"10\": 240}, \"2\": {\"14\": 44, \"2\": 138, \"3\": 13, \"13\": 6, \"5\": 35, \"6\": 2, \"4\": 2}, \"9\": {\"9\": 240}, \"5\": {\"5\": 196, \"4\": 19, \"2\": 12, \"1\": 8, \"3\": 5}, \"7\": {\"7\": 240}, \"13\": {\"6\": 34, \"13\": 206}, \"8\": {\"8\": 240}, \"6\": {\"6\": 204, \"13\": 36}, \"3\": {\"3\": 224, \"5\": 14, \"2\": 1, \"14\": 1}, \"12\": {\"12\": 153, \"0\": 14, \"11\": 42, \"9\": 24, \"8\": 7}, \"0\": {\"0\": 240}, \"4\": {\"4\": 221, \"5\": 18, \"1\": 1}, \"14\": {\"3\": 4, \"14\": 191, \"6\": 2, \"2\": 41, \"13\": 2}, \"11\": {\"11\": 240}}}, \"per_domain_accuracy\": {\"ORACLE.run1_8\": {\"accuracy\": 0.90234375, \"source?\": true}, \"ORACLE.run1_38\": {\"accuracy\": 0.93515625, \"source?\": true}, \"ORACLE.run1_26\": {\"accuracy\": 0.7794270833333333, \"source?\": true}, \"ORACLE.run1_20\": {\"accuracy\": 0.8979166666666667, \"source?\": true}, \"ORACLE.run1_50\": {\"accuracy\": 0.9302083333333333, \"source?\": true}, \"ORACLE.run1_32\": {\"accuracy\": 0.9091145833333333, \"source?\": true}, \"ORACLE.run1_44\": {\"accuracy\": 0.8302083333333333, \"source?\": true}, \"ORACLE.run1_14\": {\"accuracy\": 0.9223958333333333, \"source?\": true}, \"ORACLE.run2_8\": {\"accuracy\": 0.8833333333333333, \"source?\": false}, \"ORACLE.run2_38\": {\"accuracy\": 0.8598958333333333, \"source?\": false}, \"ORACLE.run2_26\": {\"accuracy\": 0.77109375, \"source?\": false}, \"ORACLE.run2_20\": {\"accuracy\": 0.8815104166666666, \"source?\": false}, \"ORACLE.run2_50\": {\"accuracy\": 0.91640625, \"source?\": false}, \"ORACLE.run2_32\": {\"accuracy\": 0.9260416666666667, \"source?\": false}, \"ORACLE.run2_44\": {\"accuracy\": 0.8278645833333333, \"source?\": false}, \"ORACLE.run2_14\": {\"accuracy\": 0.8971354166666666, \"source?\": false}}}, \"history\": {\"epoch_indices\": [1, 2, 3, 4, 5, 6, 7, 8, 9, 10], \"train_label_loss\": [0.7651597324459415, 0.4807043753076522, 0.39110010936662243, 0.33058715995423316, 0.2949304795625808, 0.26856419071693727, 0.24828405316941263, 0.2287867262334441, 0.21116657508516384, 0.19681200149543224], \"source_val_label_loss\": [0.6487044095993042, 0.42282578349113464, 0.37639570236206055, 0.3297763168811798, 0.313372939825058, 0.3102990686893463, 0.30156227946281433, 0.2806364595890045, 0.28206977248191833, 0.2791514992713928], \"target_val_label_loss\": [0.6929418444633484, 0.4877378046512604, 0.4418882429599762, 0.39985352754592896, 0.3944740295410156, 0.38771066069602966, 0.38631007075309753, 0.3761618733406067, 0.38414689898490906, 0.38716965913772583], \"source_val_acc_label\": [0.7833984375, 0.8509440104166667, 0.86884765625, 0.8819986979166666, 0.8877278645833333, 0.8883463541666666, 0.89208984375, 0.89775390625, 0.89814453125, 0.8986653645833333], \"target_val_acc_label\": [0.7694010416666667, 0.8343424479166667, 0.8509440104166667, 0.8664388020833333, 0.8669270833333333, 0.87041015625, 0.8657877604166667, 0.87001953125, 0.8682942708333333, 0.8690755208333333]}, \"dataset_metrics\": {\"source\": {\"train\": {\"n_unique_x\": 179200, \"n_unique_y\": 16, \"n_batch/episode\": 6720}, \"val\": {\"n_unique_x\": 38400, \"n_unique_y\": 16, \"n_batch/episode\": 960}, \"test\": {\"n_unique_x\": 38400, \"n_unique_y\": 16, \"n_batch/episode\": 960}}, \"target\": {\"train\": {\"n_unique_x\": 179200, \"n_unique_y\": 16, \"n_batch/episode\": 6720}, \"val\": {\"n_unique_x\": 38400, \"n_unique_y\": 16, \"n_batch/episode\": 960}, \"test\": {\"n_unique_x\": 38400, \"n_unique_y\": 16, \"n_batch/episode\": 960}}}}'"
      ]
     },
     "execution_count": 29,
     "metadata": {},
     "output_type": "execute_result"
    }
   ],
   "source": [
    "json.dumps(experiment)"
   ]
  }
 ],
 "metadata": {
  "celltoolbar": "Tags",
  "kernelspec": {
   "display_name": "Python 3 (ipykernel)",
   "language": "python",
   "name": "python3"
  },
  "language_info": {
   "codemirror_mode": {
    "name": "ipython",
    "version": 3
   },
   "file_extension": ".py",
   "mimetype": "text/x-python",
   "name": "python",
   "nbconvert_exporter": "python",
   "pygments_lexer": "ipython3",
   "version": "3.8.12"
  },
  "papermill": {
   "default_parameters": {},
   "duration": 2845.612683,
   "end_time": "2022-03-21T17:02:36.373988",
   "environment_variables": {},
   "exception": null,
   "input_path": "/root/csc500-main/csc500-notebooks/templates/tl_ptn_template.ipynb",
   "output_path": "trial.ipynb",
   "parameters": {
    "parameters": {
     "BEST_MODEL_PATH": "./best_model.pth",
     "NUM_LOGS_PER_EPOCH": 10,
     "criteria_for_best": "target_accuracy",
     "dataset_seed": 154325,
     "datasets": [
      {
       "domain_prefix": "ORACLE.run1_",
       "domains": [
        32,
        38,
        8,
        44,
        14,
        50,
        20,
        26
       ],
       "episode_transforms": [],
       "labels": [
        "3123D52",
        "3123D65",
        "3123D79",
        "3123D80",
        "3123D54",
        "3123D70",
        "3123D7B",
        "3123D89",
        "3123D58",
        "3123D76",
        "3123D7D",
        "3123EFE",
        "3123D64",
        "3123D78",
        "3123D7E",
        "3124E4A"
       ],
       "num_examples_per_domain_per_label": 2000,
       "pickle_path": "/root/csc500-main/datasets/oracle.Run1_framed_2000Examples_stratified_ds.2022A.pkl",
       "source_or_target_dataset": "source",
       "x_transforms": [
        "unit_power"
       ]
      },
      {
       "domain_prefix": "ORACLE.run2_",
       "domains": [
        32,
        38,
        8,
        44,
        14,
        50,
        20,
        26
       ],
       "episode_transforms": [],
       "labels": [
        "3123D52",
        "3123D65",
        "3123D79",
        "3123D80",
        "3123D54",
        "3123D70",
        "3123D7B",
        "3123D89",
        "3123D58",
        "3123D76",
        "3123D7D",
        "3123EFE",
        "3123D64",
        "3123D78",
        "3123D7E",
        "3124E4A"
       ],
       "num_examples_per_domain_per_label": 2000,
       "pickle_path": "/root/csc500-main/datasets/oracle.Run2_framed_2000Examples_stratified_ds.2022A.pkl",
       "source_or_target_dataset": "target",
       "x_transforms": [
        "unit_power"
       ]
      }
     ],
     "device": "cuda",
     "experiment_name": "tl_1v2:oracle.run1.framed-oracle.run2.framed",
     "lr": 0.0001,
     "n_epoch": 50,
     "n_query": 2,
     "n_shot": 3,
     "n_way": 16,
     "patience": 3,
     "seed": 154325,
     "test_k_factor": 2,
     "torch_default_dtype": "torch.float32",
     "train_k_factor": 3,
     "val_k_factor": 2,
     "x_net": [
      {
       "class": "nnReshape",
       "kargs": {
        "shape": [
         -1,
         1,
         2,
         256
        ]
       }
      },
      {
       "class": "Conv2d",
       "kargs": {
        "bias": false,
        "in_channels": 1,
        "kernel_size": [
         1,
         7
        ],
        "out_channels": 256,
        "padding": [
         0,
         3
        ]
       }
      },
      {
       "class": "ReLU",
       "kargs": {
        "inplace": true
       }
      },
      {
       "class": "BatchNorm2d",
       "kargs": {
        "num_features": 256
       }
      },
      {
       "class": "Conv2d",
       "kargs": {
        "bias": true,
        "in_channels": 256,
        "kernel_size": [
         2,
         7
        ],
        "out_channels": 80,
        "padding": [
         0,
         3
        ]
       }
      },
      {
       "class": "ReLU",
       "kargs": {
        "inplace": true
       }
      },
      {
       "class": "BatchNorm2d",
       "kargs": {
        "num_features": 80
       }
      },
      {
       "class": "Flatten",
       "kargs": {}
      },
      {
       "class": "Linear",
       "kargs": {
        "in_features": 20480,
        "out_features": 256
       }
      },
      {
       "class": "ReLU",
       "kargs": {
        "inplace": true
       }
      },
      {
       "class": "BatchNorm1d",
       "kargs": {
        "num_features": 256
       }
      },
      {
       "class": "Linear",
       "kargs": {
        "in_features": 256,
        "out_features": 256
       }
      }
     ]
    }
   },
   "start_time": "2022-03-21T16:15:10.761305",
   "version": "2.3.4"
  }
 },
 "nbformat": 4,
 "nbformat_minor": 5
}