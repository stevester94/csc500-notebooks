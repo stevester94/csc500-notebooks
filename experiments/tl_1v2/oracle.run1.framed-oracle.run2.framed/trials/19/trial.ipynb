{
 "cells": [
  {
   "cell_type": "markdown",
   "id": "9fea5f46",
   "metadata": {
    "papermill": {
     "duration": 0.033004,
     "end_time": "2022-03-21T23:28:33.084954",
     "exception": false,
     "start_time": "2022-03-21T23:28:33.051950",
     "status": "completed"
    },
    "tags": []
   },
   "source": [
    "# Transfer Learning Template"
   ]
  },
  {
   "cell_type": "code",
   "execution_count": 1,
   "id": "0902182a",
   "metadata": {
    "execution": {
     "iopub.execute_input": "2022-03-21T23:28:33.148686Z",
     "iopub.status.busy": "2022-03-21T23:28:33.147838Z",
     "iopub.status.idle": "2022-03-21T23:28:34.981483Z",
     "shell.execute_reply": "2022-03-21T23:28:34.981042Z"
    },
    "papermill": {
     "duration": 1.873213,
     "end_time": "2022-03-21T23:28:34.981589",
     "exception": false,
     "start_time": "2022-03-21T23:28:33.108376",
     "status": "completed"
    },
    "tags": []
   },
   "outputs": [],
   "source": [
    "%load_ext autoreload\n",
    "%autoreload 2\n",
    "%matplotlib inline\n",
    "\n",
    "    \n",
    "import os, json, sys, time, random\n",
    "import numpy as np\n",
    "import torch\n",
    "from torch.optim import Adam\n",
    "from  easydict import EasyDict\n",
    "import matplotlib.pyplot as plt\n",
    "\n",
    "from steves_models.steves_ptn import Steves_Prototypical_Network\n",
    "\n",
    "from steves_utils.lazy_iterable_wrapper import Lazy_Iterable_Wrapper\n",
    "from steves_utils.iterable_aggregator import Iterable_Aggregator\n",
    "from steves_utils.ptn_train_eval_test_jig import  PTN_Train_Eval_Test_Jig\n",
    "from steves_utils.torch_sequential_builder import build_sequential\n",
    "from steves_utils.torch_utils import get_dataset_metrics, ptn_confusion_by_domain_over_dataloader\n",
    "from steves_utils.utils_v2 import (per_domain_accuracy_from_confusion, get_datasets_base_path)\n",
    "from steves_utils.PTN.utils import independent_accuracy_assesment\n",
    "\n",
    "from torch.utils.data import DataLoader\n",
    "\n",
    "from steves_utils.stratified_dataset.episodic_accessor import Episodic_Accessor_Factory\n",
    "\n",
    "from steves_utils.ptn_do_report import (\n",
    "    get_loss_curve,\n",
    "    get_results_table,\n",
    "    get_parameters_table,\n",
    "    get_domain_accuracies,\n",
    ")\n",
    "\n",
    "from steves_utils.transforms import get_chained_transform"
   ]
  },
  {
   "cell_type": "markdown",
   "id": "41c840b4",
   "metadata": {
    "papermill": {
     "duration": 0.01909,
     "end_time": "2022-03-21T23:28:35.020486",
     "exception": false,
     "start_time": "2022-03-21T23:28:35.001396",
     "status": "completed"
    },
    "tags": []
   },
   "source": [
    "# Allowed Parameters\n",
    "These are allowed parameters, not defaults\n",
    "Each of these values need to be present in the injected parameters (the notebook will raise an exception if they are not present)\n",
    "\n",
    "Papermill uses the cell tag \"parameters\" to inject the real parameters below this cell.\n",
    "Enable tags to see what I mean"
   ]
  },
  {
   "cell_type": "code",
   "execution_count": 2,
   "id": "fd44eb83",
   "metadata": {
    "execution": {
     "iopub.execute_input": "2022-03-21T23:28:35.064202Z",
     "iopub.status.busy": "2022-03-21T23:28:35.063821Z",
     "iopub.status.idle": "2022-03-21T23:28:35.084920Z",
     "shell.execute_reply": "2022-03-21T23:28:35.084561Z"
    },
    "papermill": {
     "duration": 0.045488,
     "end_time": "2022-03-21T23:28:35.084991",
     "exception": false,
     "start_time": "2022-03-21T23:28:35.039503",
     "status": "completed"
    },
    "tags": []
   },
   "outputs": [],
   "source": [
    "required_parameters = {\n",
    "    \"experiment_name\",\n",
    "    \"lr\",\n",
    "    \"device\",\n",
    "    \"seed\",\n",
    "    \"dataset_seed\",\n",
    "    \"n_shot\",\n",
    "    \"n_query\",\n",
    "    \"n_way\",\n",
    "    \"train_k_factor\",\n",
    "    \"val_k_factor\",\n",
    "    \"test_k_factor\",\n",
    "    \"n_epoch\",\n",
    "    \"patience\",\n",
    "    \"criteria_for_best\",\n",
    "    \"x_net\",\n",
    "    \"datasets\",\n",
    "    \"torch_default_dtype\",\n",
    "    \"NUM_LOGS_PER_EPOCH\",\n",
    "    \"BEST_MODEL_PATH\",\n",
    "    \"x_shape\",\n",
    "}"
   ]
  },
  {
   "cell_type": "code",
   "execution_count": 3,
   "id": "fa3f0049",
   "metadata": {
    "execution": {
     "iopub.execute_input": "2022-03-21T23:28:35.136574Z",
     "iopub.status.busy": "2022-03-21T23:28:35.131522Z",
     "iopub.status.idle": "2022-03-21T23:28:35.157580Z",
     "shell.execute_reply": "2022-03-21T23:28:35.157222Z"
    },
    "papermill": {
     "duration": 0.053281,
     "end_time": "2022-03-21T23:28:35.157649",
     "exception": false,
     "start_time": "2022-03-21T23:28:35.104368",
     "status": "completed"
    },
    "tags": [
     "parameters"
    ]
   },
   "outputs": [],
   "source": [
    "from steves_utils.CORES.utils import (\n",
    "    ALL_NODES,\n",
    "    ALL_NODES_MINIMUM_1000_EXAMPLES,\n",
    "    ALL_DAYS\n",
    ")\n",
    "\n",
    "from steves_utils.ORACLE.utils_v2 import (\n",
    "    ALL_DISTANCES_FEET_NARROWED,\n",
    "    ALL_RUNS,\n",
    "    ALL_SERIAL_NUMBERS,\n",
    ")\n",
    "\n",
    "standalone_parameters = {}\n",
    "standalone_parameters[\"experiment_name\"] = \"STANDALONE PTN\"\n",
    "standalone_parameters[\"lr\"] = 0.001\n",
    "standalone_parameters[\"device\"] = \"cuda\"\n",
    "\n",
    "standalone_parameters[\"seed\"] = 1337\n",
    "standalone_parameters[\"dataset_seed\"] = 1337\n",
    "\n",
    "standalone_parameters[\"n_way\"] = 8\n",
    "standalone_parameters[\"n_shot\"] = 3\n",
    "standalone_parameters[\"n_query\"]  = 2\n",
    "standalone_parameters[\"train_k_factor\"] = 1\n",
    "standalone_parameters[\"val_k_factor\"] = 2\n",
    "standalone_parameters[\"test_k_factor\"] = 2\n",
    "\n",
    "\n",
    "standalone_parameters[\"n_epoch\"] = 50\n",
    "\n",
    "standalone_parameters[\"patience\"] = 10\n",
    "standalone_parameters[\"criteria_for_best\"] = \"source_loss\"\n",
    "\n",
    "standalone_parameters[\"datasets\"] = [\n",
    "    {\n",
    "        \"labels\": ALL_SERIAL_NUMBERS,\n",
    "        \"domains\": ALL_DISTANCES_FEET_NARROWED,\n",
    "        \"num_examples_per_domain_per_label\": 100,\n",
    "        \"pickle_path\": os.path.join(get_datasets_base_path(), \"oracle.Run1_framed_2000Examples_stratified_ds.2022A.pkl\"),\n",
    "        \"source_or_target_dataset\": \"source\",\n",
    "        \"x_transforms\": [\"unit_mag\", \"minus_two\"],\n",
    "        \"episode_transforms\": [],\n",
    "        \"domain_prefix\": \"ORACLE_\"\n",
    "    },\n",
    "    {\n",
    "        \"labels\": ALL_NODES,\n",
    "        \"domains\": ALL_DAYS,\n",
    "        \"num_examples_per_domain_per_label\": 100,\n",
    "        \"pickle_path\": os.path.join(get_datasets_base_path(), \"cores.stratified_ds.2022A.pkl\"),\n",
    "        \"source_or_target_dataset\": \"target\",\n",
    "        \"x_transforms\": [\"unit_power\", \"times_zero\"],\n",
    "        \"episode_transforms\": [],\n",
    "        \"domain_prefix\": \"CORES_\"\n",
    "    }   \n",
    "]\n",
    "\n",
    "standalone_parameters[\"torch_default_dtype\"] = \"torch.float32\" \n",
    "\n",
    "\n",
    "\n",
    "standalone_parameters[\"x_net\"] =     [\n",
    "    {\"class\": \"nnReshape\", \"kargs\": {\"shape\":[-1, 1, 2, 256]}},\n",
    "    {\"class\": \"Conv2d\", \"kargs\": { \"in_channels\":1, \"out_channels\":256, \"kernel_size\":(1,7), \"bias\":False, \"padding\":(0,3), },},\n",
    "    {\"class\": \"ReLU\", \"kargs\": {\"inplace\": True}},\n",
    "    {\"class\": \"BatchNorm2d\", \"kargs\": {\"num_features\":256}},\n",
    "\n",
    "    {\"class\": \"Conv2d\", \"kargs\": { \"in_channels\":256, \"out_channels\":80, \"kernel_size\":(2,7), \"bias\":True, \"padding\":(0,3), },},\n",
    "    {\"class\": \"ReLU\", \"kargs\": {\"inplace\": True}},\n",
    "    {\"class\": \"BatchNorm2d\", \"kargs\": {\"num_features\":80}},\n",
    "    {\"class\": \"Flatten\", \"kargs\": {}},\n",
    "\n",
    "    {\"class\": \"Linear\", \"kargs\": {\"in_features\": 80*256, \"out_features\": 256}}, # 80 units per IQ pair\n",
    "    {\"class\": \"ReLU\", \"kargs\": {\"inplace\": True}},\n",
    "    {\"class\": \"BatchNorm1d\", \"kargs\": {\"num_features\":256}},\n",
    "\n",
    "    {\"class\": \"Linear\", \"kargs\": {\"in_features\": 256, \"out_features\": 256}},\n",
    "]\n",
    "\n",
    "# Parameters relevant to results\n",
    "# These parameters will basically never need to change\n",
    "standalone_parameters[\"NUM_LOGS_PER_EPOCH\"] = 10\n",
    "standalone_parameters[\"BEST_MODEL_PATH\"] = \"./best_model.pth\"\n",
    "\n",
    "\n",
    "\n",
    "\n"
   ]
  },
  {
   "cell_type": "code",
   "execution_count": 4,
   "id": "d357f16a",
   "metadata": {
    "execution": {
     "iopub.execute_input": "2022-03-21T23:28:35.210354Z",
     "iopub.status.busy": "2022-03-21T23:28:35.209939Z",
     "iopub.status.idle": "2022-03-21T23:28:35.230090Z",
     "shell.execute_reply": "2022-03-21T23:28:35.229730Z"
    },
    "papermill": {
     "duration": 0.053094,
     "end_time": "2022-03-21T23:28:35.230159",
     "exception": false,
     "start_time": "2022-03-21T23:28:35.177065",
     "status": "completed"
    },
    "tags": [
     "injected-parameters"
    ]
   },
   "outputs": [],
   "source": [
    "# Parameters\n",
    "parameters = {\n",
    "    \"experiment_name\": \"tl_1v2:oracle.run1.framed-oracle.run2.framed\",\n",
    "    \"device\": \"cuda\",\n",
    "    \"lr\": 0.0001,\n",
    "    \"n_shot\": 3,\n",
    "    \"n_query\": 2,\n",
    "    \"train_k_factor\": 3,\n",
    "    \"val_k_factor\": 2,\n",
    "    \"test_k_factor\": 2,\n",
    "    \"torch_default_dtype\": \"torch.float32\",\n",
    "    \"n_epoch\": 50,\n",
    "    \"patience\": 3,\n",
    "    \"criteria_for_best\": \"target_accuracy\",\n",
    "    \"x_net\": [\n",
    "        {\"class\": \"nnReshape\", \"kargs\": {\"shape\": [-1, 1, 2, 256]}},\n",
    "        {\n",
    "            \"class\": \"Conv2d\",\n",
    "            \"kargs\": {\n",
    "                \"in_channels\": 1,\n",
    "                \"out_channels\": 256,\n",
    "                \"kernel_size\": [1, 7],\n",
    "                \"bias\": False,\n",
    "                \"padding\": [0, 3],\n",
    "            },\n",
    "        },\n",
    "        {\"class\": \"ReLU\", \"kargs\": {\"inplace\": True}},\n",
    "        {\"class\": \"BatchNorm2d\", \"kargs\": {\"num_features\": 256}},\n",
    "        {\n",
    "            \"class\": \"Conv2d\",\n",
    "            \"kargs\": {\n",
    "                \"in_channels\": 256,\n",
    "                \"out_channels\": 80,\n",
    "                \"kernel_size\": [2, 7],\n",
    "                \"bias\": True,\n",
    "                \"padding\": [0, 3],\n",
    "            },\n",
    "        },\n",
    "        {\"class\": \"ReLU\", \"kargs\": {\"inplace\": True}},\n",
    "        {\"class\": \"BatchNorm2d\", \"kargs\": {\"num_features\": 80}},\n",
    "        {\"class\": \"Flatten\", \"kargs\": {}},\n",
    "        {\"class\": \"Linear\", \"kargs\": {\"in_features\": 20480, \"out_features\": 256}},\n",
    "        {\"class\": \"ReLU\", \"kargs\": {\"inplace\": True}},\n",
    "        {\"class\": \"BatchNorm1d\", \"kargs\": {\"num_features\": 256}},\n",
    "        {\"class\": \"Linear\", \"kargs\": {\"in_features\": 256, \"out_features\": 256}},\n",
    "    ],\n",
    "    \"NUM_LOGS_PER_EPOCH\": 10,\n",
    "    \"BEST_MODEL_PATH\": \"./best_model.pth\",\n",
    "    \"n_way\": 16,\n",
    "    \"datasets\": [\n",
    "        {\n",
    "            \"labels\": [\n",
    "                \"3123D52\",\n",
    "                \"3123D65\",\n",
    "                \"3123D79\",\n",
    "                \"3123D80\",\n",
    "                \"3123D54\",\n",
    "                \"3123D70\",\n",
    "                \"3123D7B\",\n",
    "                \"3123D89\",\n",
    "                \"3123D58\",\n",
    "                \"3123D76\",\n",
    "                \"3123D7D\",\n",
    "                \"3123EFE\",\n",
    "                \"3123D64\",\n",
    "                \"3123D78\",\n",
    "                \"3123D7E\",\n",
    "                \"3124E4A\",\n",
    "            ],\n",
    "            \"domains\": [32, 38, 8, 44, 14, 50, 20, 26],\n",
    "            \"num_examples_per_domain_per_label\": 2000,\n",
    "            \"pickle_path\": \"/root/csc500-main/datasets/oracle.Run1_framed_2000Examples_stratified_ds.2022A.pkl\",\n",
    "            \"source_or_target_dataset\": \"source\",\n",
    "            \"x_transforms\": [\"unit_mag\"],\n",
    "            \"episode_transforms\": [],\n",
    "            \"domain_prefix\": \"ORACLE.run1_\",\n",
    "        },\n",
    "        {\n",
    "            \"labels\": [\n",
    "                \"3123D52\",\n",
    "                \"3123D65\",\n",
    "                \"3123D79\",\n",
    "                \"3123D80\",\n",
    "                \"3123D54\",\n",
    "                \"3123D70\",\n",
    "                \"3123D7B\",\n",
    "                \"3123D89\",\n",
    "                \"3123D58\",\n",
    "                \"3123D76\",\n",
    "                \"3123D7D\",\n",
    "                \"3123EFE\",\n",
    "                \"3123D64\",\n",
    "                \"3123D78\",\n",
    "                \"3123D7E\",\n",
    "                \"3124E4A\",\n",
    "            ],\n",
    "            \"domains\": [32, 38, 8, 44, 14, 50, 20, 26],\n",
    "            \"num_examples_per_domain_per_label\": 2000,\n",
    "            \"pickle_path\": \"/root/csc500-main/datasets/oracle.Run2_framed_2000Examples_stratified_ds.2022A.pkl\",\n",
    "            \"source_or_target_dataset\": \"target\",\n",
    "            \"x_transforms\": [\"unit_mag\"],\n",
    "            \"episode_transforms\": [],\n",
    "            \"domain_prefix\": \"ORACLE.run2_\",\n",
    "        },\n",
    "    ],\n",
    "    \"dataset_seed\": 7,\n",
    "    \"seed\": 7,\n",
    "}\n"
   ]
  },
  {
   "cell_type": "code",
   "execution_count": 5,
   "id": "8fa1cc33",
   "metadata": {
    "execution": {
     "iopub.execute_input": "2022-03-21T23:28:35.277005Z",
     "iopub.status.busy": "2022-03-21T23:28:35.276635Z",
     "iopub.status.idle": "2022-03-21T23:28:35.296779Z",
     "shell.execute_reply": "2022-03-21T23:28:35.296420Z"
    },
    "papermill": {
     "duration": 0.047117,
     "end_time": "2022-03-21T23:28:35.296849",
     "exception": false,
     "start_time": "2022-03-21T23:28:35.249732",
     "status": "completed"
    },
    "tags": []
   },
   "outputs": [],
   "source": [
    "# Set this to True if you want to run this template directly\n",
    "STANDALONE = False\n",
    "if STANDALONE:\n",
    "    print(\"parameters not injected, running with standalone_parameters\")\n",
    "    parameters = standalone_parameters\n",
    "\n",
    "if not 'parameters' in locals() and not 'parameters' in globals():\n",
    "    raise Exception(\"Parameter injection failed\")\n",
    "\n",
    "#Use an easy dict for all the parameters\n",
    "p = EasyDict(parameters)\n",
    "\n",
    "if \"x_shape\" not in p:\n",
    "    p.x_shape = [2,256] # Default to this if we dont supply x_shape\n",
    "\n",
    "\n",
    "supplied_keys = set(p.keys())\n",
    "\n",
    "if  supplied_keys != required_parameters:\n",
    "    print(\"Parameters are incorrect\")\n",
    "    if len(supplied_keys - required_parameters)>0: print(\"Shouldn't have:\", str(supplied_keys - required_parameters))\n",
    "    if len(required_parameters - supplied_keys)>0: print(\"Need to have:\", str(required_parameters - supplied_keys))\n",
    "    raise RuntimeError(\"Parameters are incorrect\")"
   ]
  },
  {
   "cell_type": "code",
   "execution_count": 6,
   "id": "3a028d58",
   "metadata": {
    "execution": {
     "iopub.execute_input": "2022-03-21T23:28:35.344927Z",
     "iopub.status.busy": "2022-03-21T23:28:35.338541Z",
     "iopub.status.idle": "2022-03-21T23:28:35.361004Z",
     "shell.execute_reply": "2022-03-21T23:28:35.360645Z"
    },
    "papermill": {
     "duration": 0.044867,
     "end_time": "2022-03-21T23:28:35.361073",
     "exception": false,
     "start_time": "2022-03-21T23:28:35.316206",
     "status": "completed"
    },
    "tags": []
   },
   "outputs": [],
   "source": [
    "###################################\n",
    "# Set the RNGs and make it all deterministic\n",
    "###################################\n",
    "np.random.seed(p.seed)\n",
    "random.seed(p.seed)\n",
    "torch.manual_seed(p.seed)\n",
    "\n",
    "torch.use_deterministic_algorithms(True) "
   ]
  },
  {
   "cell_type": "code",
   "execution_count": 7,
   "id": "b691acf6",
   "metadata": {
    "execution": {
     "iopub.execute_input": "2022-03-21T23:28:35.404734Z",
     "iopub.status.busy": "2022-03-21T23:28:35.404373Z",
     "iopub.status.idle": "2022-03-21T23:28:35.426005Z",
     "shell.execute_reply": "2022-03-21T23:28:35.425639Z"
    },
    "papermill": {
     "duration": 0.04541,
     "end_time": "2022-03-21T23:28:35.426074",
     "exception": false,
     "start_time": "2022-03-21T23:28:35.380664",
     "status": "completed"
    },
    "tags": []
   },
   "outputs": [],
   "source": [
    "###########################################\n",
    "# The stratified datasets honor this\n",
    "###########################################\n",
    "torch.set_default_dtype(eval(p.torch_default_dtype))"
   ]
  },
  {
   "cell_type": "code",
   "execution_count": 8,
   "id": "b5fba671",
   "metadata": {
    "execution": {
     "iopub.execute_input": "2022-03-21T23:28:35.468681Z",
     "iopub.status.busy": "2022-03-21T23:28:35.468208Z",
     "iopub.status.idle": "2022-03-21T23:28:35.520442Z",
     "shell.execute_reply": "2022-03-21T23:28:35.520018Z"
    },
    "papermill": {
     "duration": 0.074641,
     "end_time": "2022-03-21T23:28:35.520517",
     "exception": false,
     "start_time": "2022-03-21T23:28:35.445876",
     "status": "completed"
    },
    "tags": []
   },
   "outputs": [],
   "source": [
    "###################################\n",
    "# Build the network(s)\n",
    "# Note: It's critical to do this AFTER setting the RNG\n",
    "###################################\n",
    "x_net = build_sequential(p.x_net)"
   ]
  },
  {
   "cell_type": "code",
   "execution_count": 9,
   "id": "5d7e61cc",
   "metadata": {
    "execution": {
     "iopub.execute_input": "2022-03-21T23:28:35.565169Z",
     "iopub.status.busy": "2022-03-21T23:28:35.564486Z",
     "iopub.status.idle": "2022-03-21T23:28:35.588804Z",
     "shell.execute_reply": "2022-03-21T23:28:35.588447Z"
    },
    "papermill": {
     "duration": 0.048327,
     "end_time": "2022-03-21T23:28:35.588873",
     "exception": false,
     "start_time": "2022-03-21T23:28:35.540546",
     "status": "completed"
    },
    "tags": []
   },
   "outputs": [],
   "source": [
    "start_time_secs = time.time()"
   ]
  },
  {
   "cell_type": "code",
   "execution_count": 10,
   "id": "c6b67dfd",
   "metadata": {
    "execution": {
     "iopub.execute_input": "2022-03-21T23:28:35.639568Z",
     "iopub.status.busy": "2022-03-21T23:28:35.634860Z",
     "iopub.status.idle": "2022-03-21T23:28:35.653061Z",
     "shell.execute_reply": "2022-03-21T23:28:35.652704Z"
    },
    "papermill": {
     "duration": 0.044325,
     "end_time": "2022-03-21T23:28:35.653130",
     "exception": false,
     "start_time": "2022-03-21T23:28:35.608805",
     "status": "completed"
    },
    "tags": []
   },
   "outputs": [],
   "source": [
    "p.domains_source = []\n",
    "p.domains_target = []\n",
    "\n",
    "\n",
    "train_original_source = []\n",
    "val_original_source   = []\n",
    "test_original_source  = []\n",
    "\n",
    "train_original_target = []\n",
    "val_original_target   = []\n",
    "test_original_target  = []"
   ]
  },
  {
   "cell_type": "code",
   "execution_count": 11,
   "id": "e3d9c3d3",
   "metadata": {
    "execution": {
     "iopub.execute_input": "2022-03-21T23:28:35.697330Z",
     "iopub.status.busy": "2022-03-21T23:28:35.696316Z",
     "iopub.status.idle": "2022-03-21T23:28:35.717295Z",
     "shell.execute_reply": "2022-03-21T23:28:35.716933Z"
    },
    "papermill": {
     "duration": 0.044017,
     "end_time": "2022-03-21T23:28:35.717369",
     "exception": false,
     "start_time": "2022-03-21T23:28:35.673352",
     "status": "completed"
    },
    "tags": []
   },
   "outputs": [],
   "source": [
    "# global_x_transform_func = lambda x: normalize(x.to(torch.get_default_dtype()), \"unit_power\") # unit_power, unit_mag\n",
    "# global_x_transform_func = lambda x: normalize(x, \"unit_power\") # unit_power, unit_mag"
   ]
  },
  {
   "cell_type": "code",
   "execution_count": 12,
   "id": "acb78fd2",
   "metadata": {
    "execution": {
     "iopub.execute_input": "2022-03-21T23:28:35.770288Z",
     "iopub.status.busy": "2022-03-21T23:28:35.769897Z",
     "iopub.status.idle": "2022-03-21T23:28:35.791157Z",
     "shell.execute_reply": "2022-03-21T23:28:35.790797Z"
    },
    "papermill": {
     "duration": 0.053582,
     "end_time": "2022-03-21T23:28:35.791226",
     "exception": false,
     "start_time": "2022-03-21T23:28:35.737644",
     "status": "completed"
    },
    "tags": []
   },
   "outputs": [],
   "source": [
    "def add_dataset(\n",
    "    labels,\n",
    "    domains,\n",
    "    pickle_path,\n",
    "    x_transforms,\n",
    "    episode_transforms,\n",
    "    domain_prefix,\n",
    "    num_examples_per_domain_per_label,\n",
    "    source_or_target_dataset:str,\n",
    "    iterator_seed=p.seed,\n",
    "    dataset_seed=p.dataset_seed,\n",
    "    n_shot=p.n_shot,\n",
    "    n_way=p.n_way,\n",
    "    n_query=p.n_query,\n",
    "    train_val_test_k_factors=(p.train_k_factor,p.val_k_factor,p.test_k_factor),\n",
    "):\n",
    "   \n",
    "    if x_transforms == []: x_transform = None\n",
    "    else: x_transform = get_chained_transform(x_transforms)\n",
    "    \n",
    "    if episode_transforms == []: episode_transform = None\n",
    "    else: raise Exception(\"episode_transforms not implemented\")\n",
    "    \n",
    "    episode_transform = lambda tup, _prefix=domain_prefix: (_prefix + str(tup[0]), tup[1])\n",
    "\n",
    "\n",
    "    eaf = Episodic_Accessor_Factory(\n",
    "        labels=labels,\n",
    "        domains=domains,\n",
    "        num_examples_per_domain_per_label=num_examples_per_domain_per_label,\n",
    "        iterator_seed=iterator_seed,\n",
    "        dataset_seed=dataset_seed,\n",
    "        n_shot=n_shot,\n",
    "        n_way=n_way,\n",
    "        n_query=n_query,\n",
    "        train_val_test_k_factors=train_val_test_k_factors,\n",
    "        pickle_path=pickle_path,\n",
    "        x_transform_func=x_transform,\n",
    "    )\n",
    "\n",
    "    train, val, test = eaf.get_train(), eaf.get_val(), eaf.get_test()\n",
    "    train = Lazy_Iterable_Wrapper(train, episode_transform)\n",
    "    val = Lazy_Iterable_Wrapper(val, episode_transform)\n",
    "    test = Lazy_Iterable_Wrapper(test, episode_transform)\n",
    "\n",
    "    if source_or_target_dataset==\"source\":\n",
    "        train_original_source.append(train)\n",
    "        val_original_source.append(val)\n",
    "        test_original_source.append(test)\n",
    "\n",
    "        p.domains_source.extend(\n",
    "            [domain_prefix + str(u) for u in domains]\n",
    "        )\n",
    "    elif source_or_target_dataset==\"target\":\n",
    "        train_original_target.append(train)\n",
    "        val_original_target.append(val)\n",
    "        test_original_target.append(test)\n",
    "        p.domains_target.extend(\n",
    "            [domain_prefix + str(u) for u in domains]\n",
    "        )\n",
    "    else:\n",
    "        raise Exception(f\"invalid source_or_target_dataset: {source_or_target_dataset}\")\n",
    "    "
   ]
  },
  {
   "cell_type": "code",
   "execution_count": 13,
   "id": "fe266617",
   "metadata": {
    "execution": {
     "iopub.execute_input": "2022-03-21T23:28:35.835215Z",
     "iopub.status.busy": "2022-03-21T23:28:35.834854Z",
     "iopub.status.idle": "2022-03-21T23:29:17.863671Z",
     "shell.execute_reply": "2022-03-21T23:29:17.862904Z"
    },
    "papermill": {
     "duration": 42.051872,
     "end_time": "2022-03-21T23:29:17.863863",
     "exception": false,
     "start_time": "2022-03-21T23:28:35.811991",
     "status": "completed"
    },
    "tags": []
   },
   "outputs": [],
   "source": [
    "for ds in p.datasets:\n",
    "    add_dataset(**ds)"
   ]
  },
  {
   "cell_type": "code",
   "execution_count": 14,
   "id": "b90d65ac",
   "metadata": {
    "execution": {
     "iopub.execute_input": "2022-03-21T23:29:17.916471Z",
     "iopub.status.busy": "2022-03-21T23:29:17.916092Z",
     "iopub.status.idle": "2022-03-21T23:29:17.943180Z",
     "shell.execute_reply": "2022-03-21T23:29:17.942365Z"
    },
    "papermill": {
     "duration": 0.05126,
     "end_time": "2022-03-21T23:29:17.943342",
     "exception": false,
     "start_time": "2022-03-21T23:29:17.892082",
     "status": "completed"
    },
    "tags": []
   },
   "outputs": [],
   "source": [
    "# from steves_utils.CORES.utils import (\n",
    "#     ALL_NODES,\n",
    "#     ALL_NODES_MINIMUM_1000_EXAMPLES,\n",
    "#     ALL_DAYS\n",
    "# )\n",
    "\n",
    "# add_dataset(\n",
    "#     labels=ALL_NODES,\n",
    "#     domains = ALL_DAYS,\n",
    "#     num_examples_per_domain_per_label=100,\n",
    "#     pickle_path=os.path.join(get_datasets_base_path(), \"cores.stratified_ds.2022A.pkl\"),\n",
    "#     source_or_target_dataset=\"target\",\n",
    "#     x_transform_func=global_x_transform_func,\n",
    "#     domain_modifier=lambda u: f\"cores_{u}\"\n",
    "# )"
   ]
  },
  {
   "cell_type": "code",
   "execution_count": 15,
   "id": "76db484d",
   "metadata": {
    "execution": {
     "iopub.execute_input": "2022-03-21T23:29:17.997584Z",
     "iopub.status.busy": "2022-03-21T23:29:17.997021Z",
     "iopub.status.idle": "2022-03-21T23:29:18.018286Z",
     "shell.execute_reply": "2022-03-21T23:29:18.017482Z"
    },
    "papermill": {
     "duration": 0.045556,
     "end_time": "2022-03-21T23:29:18.018447",
     "exception": false,
     "start_time": "2022-03-21T23:29:17.972891",
     "status": "completed"
    },
    "tags": []
   },
   "outputs": [],
   "source": [
    "# from steves_utils.ORACLE.utils_v2 import (\n",
    "#     ALL_DISTANCES_FEET,\n",
    "#     ALL_RUNS,\n",
    "#     ALL_SERIAL_NUMBERS,\n",
    "# )\n",
    "\n",
    "\n",
    "# add_dataset(\n",
    "#     labels=ALL_SERIAL_NUMBERS,\n",
    "#     domains = list(set(ALL_DISTANCES_FEET) - {2,62}),\n",
    "#     num_examples_per_domain_per_label=100,\n",
    "#     pickle_path=os.path.join(get_datasets_base_path(), \"oracle.Run2_framed_2000Examples_stratified_ds.2022A.pkl\"),\n",
    "#     source_or_target_dataset=\"source\",\n",
    "#     x_transform_func=global_x_transform_func,\n",
    "#     domain_modifier=lambda u: f\"oracle1_{u}\"\n",
    "# )\n"
   ]
  },
  {
   "cell_type": "code",
   "execution_count": 16,
   "id": "97dea9d2",
   "metadata": {
    "execution": {
     "iopub.execute_input": "2022-03-21T23:29:18.070405Z",
     "iopub.status.busy": "2022-03-21T23:29:18.069119Z",
     "iopub.status.idle": "2022-03-21T23:29:18.089830Z",
     "shell.execute_reply": "2022-03-21T23:29:18.089024Z"
    },
    "papermill": {
     "duration": 0.045654,
     "end_time": "2022-03-21T23:29:18.089988",
     "exception": false,
     "start_time": "2022-03-21T23:29:18.044334",
     "status": "completed"
    },
    "tags": []
   },
   "outputs": [],
   "source": [
    "# from steves_utils.ORACLE.utils_v2 import (\n",
    "#     ALL_DISTANCES_FEET,\n",
    "#     ALL_RUNS,\n",
    "#     ALL_SERIAL_NUMBERS,\n",
    "# )\n",
    "\n",
    "\n",
    "# add_dataset(\n",
    "#     labels=ALL_SERIAL_NUMBERS,\n",
    "#     domains = list(set(ALL_DISTANCES_FEET) - {2,62,56}),\n",
    "#     num_examples_per_domain_per_label=100,\n",
    "#     pickle_path=os.path.join(get_datasets_base_path(), \"oracle.Run2_framed_2000Examples_stratified_ds.2022A.pkl\"),\n",
    "#     source_or_target_dataset=\"source\",\n",
    "#     x_transform_func=global_x_transform_func,\n",
    "#     domain_modifier=lambda u: f\"oracle2_{u}\"\n",
    "# )"
   ]
  },
  {
   "cell_type": "code",
   "execution_count": 17,
   "id": "6f289866",
   "metadata": {
    "execution": {
     "iopub.execute_input": "2022-03-21T23:29:18.142145Z",
     "iopub.status.busy": "2022-03-21T23:29:18.140883Z",
     "iopub.status.idle": "2022-03-21T23:29:18.163652Z",
     "shell.execute_reply": "2022-03-21T23:29:18.162891Z"
    },
    "papermill": {
     "duration": 0.047622,
     "end_time": "2022-03-21T23:29:18.163812",
     "exception": false,
     "start_time": "2022-03-21T23:29:18.116190",
     "status": "completed"
    },
    "tags": []
   },
   "outputs": [],
   "source": [
    "# add_dataset(\n",
    "#     labels=list(range(19)),\n",
    "#     domains = [0,1,2],\n",
    "#     num_examples_per_domain_per_label=100,\n",
    "#     pickle_path=os.path.join(get_datasets_base_path(), \"metehan.stratified_ds.2022A.pkl\"),\n",
    "#     source_or_target_dataset=\"target\",\n",
    "#     x_transform_func=global_x_transform_func,\n",
    "#     domain_modifier=lambda u: f\"met_{u}\"\n",
    "# )"
   ]
  },
  {
   "cell_type": "code",
   "execution_count": 18,
   "id": "86a863c3",
   "metadata": {
    "execution": {
     "iopub.execute_input": "2022-03-21T23:29:18.221061Z",
     "iopub.status.busy": "2022-03-21T23:29:18.220215Z",
     "iopub.status.idle": "2022-03-21T23:29:18.239052Z",
     "shell.execute_reply": "2022-03-21T23:29:18.238241Z"
    },
    "papermill": {
     "duration": 0.045536,
     "end_time": "2022-03-21T23:29:18.239212",
     "exception": false,
     "start_time": "2022-03-21T23:29:18.193676",
     "status": "completed"
    },
    "tags": []
   },
   "outputs": [],
   "source": [
    "# # from steves_utils.wisig.utils import (\n",
    "# #     ALL_NODES_MINIMUM_100_EXAMPLES,\n",
    "# #     ALL_NODES_MINIMUM_500_EXAMPLES,\n",
    "# #     ALL_NODES_MINIMUM_1000_EXAMPLES,\n",
    "# #     ALL_DAYS\n",
    "# # )\n",
    "\n",
    "# import steves_utils.wisig.utils as wisig\n",
    "\n",
    "\n",
    "# add_dataset(\n",
    "#     labels=wisig.ALL_NODES_MINIMUM_100_EXAMPLES,\n",
    "#     domains = wisig.ALL_DAYS,\n",
    "#     num_examples_per_domain_per_label=100,\n",
    "#     pickle_path=os.path.join(get_datasets_base_path(), \"wisig.node3-19.stratified_ds.2022A.pkl\"),\n",
    "#     source_or_target_dataset=\"target\",\n",
    "#     x_transform_func=global_x_transform_func,\n",
    "#     domain_modifier=lambda u: f\"wisig_{u}\"\n",
    "# )"
   ]
  },
  {
   "cell_type": "code",
   "execution_count": 19,
   "id": "fd5442bc",
   "metadata": {
    "execution": {
     "iopub.execute_input": "2022-03-21T23:29:18.304712Z",
     "iopub.status.busy": "2022-03-21T23:29:18.300338Z",
     "iopub.status.idle": "2022-03-21T23:29:18.318775Z",
     "shell.execute_reply": "2022-03-21T23:29:18.317961Z"
    },
    "papermill": {
     "duration": 0.05147,
     "end_time": "2022-03-21T23:29:18.318935",
     "exception": false,
     "start_time": "2022-03-21T23:29:18.267465",
     "status": "completed"
    },
    "tags": []
   },
   "outputs": [],
   "source": [
    "###################################\n",
    "# Build the dataset\n",
    "###################################\n",
    "train_original_source = Iterable_Aggregator(train_original_source, p.seed)\n",
    "val_original_source = Iterable_Aggregator(val_original_source, p.seed)\n",
    "test_original_source = Iterable_Aggregator(test_original_source, p.seed)\n",
    "\n",
    "\n",
    "train_original_target = Iterable_Aggregator(train_original_target, p.seed)\n",
    "val_original_target = Iterable_Aggregator(val_original_target, p.seed)\n",
    "test_original_target = Iterable_Aggregator(test_original_target, p.seed)\n",
    "\n",
    "# For CNN We only use X and Y. And we only train on the source.\n",
    "# Properly form the data using a transform lambda and Lazy_Iterable_Wrapper. Finally wrap them in a dataloader\n",
    "\n",
    "transform_lambda = lambda ex: ex[1] # Original is (<domain>, <episode>) so we strip down to episode only\n",
    "\n",
    "train_processed_source = Lazy_Iterable_Wrapper(train_original_source, transform_lambda)\n",
    "val_processed_source   = Lazy_Iterable_Wrapper(val_original_source, transform_lambda)\n",
    "test_processed_source  = Lazy_Iterable_Wrapper(test_original_source, transform_lambda)\n",
    "\n",
    "train_processed_target = Lazy_Iterable_Wrapper(train_original_target, transform_lambda)\n",
    "val_processed_target   = Lazy_Iterable_Wrapper(val_original_target, transform_lambda)\n",
    "test_processed_target  = Lazy_Iterable_Wrapper(test_original_target, transform_lambda)\n",
    "\n",
    "datasets = EasyDict({\n",
    "    \"source\": {\n",
    "        \"original\": {\"train\":train_original_source, \"val\":val_original_source, \"test\":test_original_source},\n",
    "        \"processed\": {\"train\":train_processed_source, \"val\":val_processed_source, \"test\":test_processed_source}\n",
    "    },\n",
    "    \"target\": {\n",
    "        \"original\": {\"train\":train_original_target, \"val\":val_original_target, \"test\":test_original_target},\n",
    "        \"processed\": {\"train\":train_processed_target, \"val\":val_processed_target, \"test\":test_processed_target}\n",
    "    },\n",
    "})"
   ]
  },
  {
   "cell_type": "code",
   "execution_count": 20,
   "id": "5b3c01fc",
   "metadata": {
    "execution": {
     "iopub.execute_input": "2022-03-21T23:29:18.378909Z",
     "iopub.status.busy": "2022-03-21T23:29:18.377227Z",
     "iopub.status.idle": "2022-03-21T23:29:33.575385Z",
     "shell.execute_reply": "2022-03-21T23:29:33.576108Z"
    },
    "papermill": {
     "duration": 15.228818,
     "end_time": "2022-03-21T23:29:33.576333",
     "exception": false,
     "start_time": "2022-03-21T23:29:18.347515",
     "status": "completed"
    },
    "tags": []
   },
   "outputs": [
    {
     "name": "stdout",
     "output_type": "stream",
     "text": [
      "{'ORACLE.run1_50', 'ORACLE.run1_20', 'ORACLE.run1_8', 'ORACLE.run1_44', 'ORACLE.run1_32', 'ORACLE.run1_38', 'ORACLE.run1_26', 'ORACLE.run1_14'}\n"
     ]
    },
    {
     "name": "stdout",
     "output_type": "stream",
     "text": [
      "{'ORACLE.run2_44', 'ORACLE.run2_38', 'ORACLE.run2_50', 'ORACLE.run2_8', 'ORACLE.run2_26', 'ORACLE.run2_14', 'ORACLE.run2_20', 'ORACLE.run2_32'}\n"
     ]
    },
    {
     "name": "stdout",
     "output_type": "stream",
     "text": [
      "tensor([[[ 0.8950,  0.6777, -0.8950,  ..., -0.7472,  0.0087, -1.2251],\n",
      "         [-0.5648,  0.4431,  0.9210,  ..., -0.7646, -1.3555, -0.0348]],\n",
      "\n",
      "        [[ 0.4454,  1.0655, -0.7162,  ..., -0.7773,  0.8996, -0.0262],\n",
      "         [-0.3756,  0.6376,  0.3406,  ..., -0.5153, -1.0044, -0.9607]],\n",
      "\n",
      "        [[-0.3479, -0.6871,  0.8698,  ...,  0.7393, -1.0872, -0.3740],\n",
      "         [ 0.2609, -0.9307, -0.1913,  ...,  0.7828,  0.7045,  0.8089]],\n",
      "\n",
      "        ...,\n",
      "\n",
      "        [[-0.4380, -1.0049,  0.4294,  ...,  1.0049,  0.4208,  1.1165],\n",
      "         [ 1.0392,  0.0687, -1.1938,  ...,  0.0601,  1.2454, -0.2748]],\n",
      "\n",
      "        [[ 0.5300,  0.0085, -0.7608,  ..., -0.0769,  1.2823,  0.7779],\n",
      "         [ 0.0000,  1.1455, -0.4274,  ..., -0.9062,  0.1539, -0.5984]],\n",
      "\n",
      "        [[ 0.9548,  0.4978, -1.0283,  ..., -0.6774,  0.0082, -1.3711],\n",
      "         [-0.5386,  0.5141,  0.7671,  ..., -0.8406, -1.1997,  0.1306]]])\n"
     ]
    }
   ],
   "source": [
    "from steves_utils.transforms import get_average_magnitude, get_average_power\n",
    "\n",
    "print(set([u for u,_ in val_original_source]))\n",
    "print(set([u for u,_ in val_original_target]))\n",
    "\n",
    "s_x, s_y, q_x, q_y, _ = next(iter(train_processed_source))\n",
    "print(s_x)\n",
    "\n",
    "# for ds in [\n",
    "#     train_processed_source,\n",
    "#     val_processed_source,\n",
    "#     test_processed_source,\n",
    "#     train_processed_target,\n",
    "#     val_processed_target,\n",
    "#     test_processed_target\n",
    "# ]:\n",
    "#     for s_x, s_y, q_x, q_y, _ in ds:\n",
    "#         for X in (s_x, q_x):\n",
    "#             for x in X:\n",
    "#                 assert np.isclose(get_average_magnitude(x.numpy()), 1.0)\n",
    "#                 assert np.isclose(get_average_power(x.numpy()), 1.0)\n",
    "                "
   ]
  },
  {
   "cell_type": "code",
   "execution_count": 21,
   "id": "bbdacba1",
   "metadata": {
    "execution": {
     "iopub.execute_input": "2022-03-21T23:29:33.635969Z",
     "iopub.status.busy": "2022-03-21T23:29:33.635302Z",
     "iopub.status.idle": "2022-03-21T23:29:33.784098Z",
     "shell.execute_reply": "2022-03-21T23:29:33.785002Z"
    },
    "papermill": {
     "duration": 0.178614,
     "end_time": "2022-03-21T23:29:33.785257",
     "exception": false,
     "start_time": "2022-03-21T23:29:33.606643",
     "status": "completed"
    },
    "tags": []
   },
   "outputs": [
    {
     "name": "stdout",
     "output_type": "stream",
     "text": [
      "(2, 256)\n"
     ]
    }
   ],
   "source": [
    "###################################\n",
    "# Build the model\n",
    "###################################\n",
    "# easfsl only wants a tuple for the shape\n",
    "model = Steves_Prototypical_Network(x_net, device=p.device, x_shape=tuple(p.x_shape))\n",
    "optimizer = Adam(params=model.parameters(), lr=p.lr)"
   ]
  },
  {
   "cell_type": "code",
   "execution_count": 22,
   "id": "22b39ac5",
   "metadata": {
    "execution": {
     "iopub.execute_input": "2022-03-21T23:29:33.873639Z",
     "iopub.status.busy": "2022-03-21T23:29:33.872830Z",
     "iopub.status.idle": "2022-03-22T00:11:43.923726Z",
     "shell.execute_reply": "2022-03-22T00:11:43.923293Z"
    },
    "papermill": {
     "duration": 2530.095976,
     "end_time": "2022-03-22T00:11:43.923958",
     "exception": false,
     "start_time": "2022-03-21T23:29:33.827982",
     "status": "completed"
    },
    "tags": []
   },
   "outputs": [
    {
     "name": "stdout",
     "output_type": "stream",
     "text": [
      "epoch: 1, [batch: 1 / 6720], examples_per_second: 33.5915, train_label_loss: 3.1039, \n"
     ]
    },
    {
     "name": "stdout",
     "output_type": "stream",
     "text": [
      "epoch: 1, [batch: 672 / 6720], examples_per_second: 3386.3110, train_label_loss: 1.7134, \n"
     ]
    },
    {
     "name": "stdout",
     "output_type": "stream",
     "text": [
      "epoch: 1, [batch: 1344 / 6720], examples_per_second: 3409.5497, train_label_loss: 0.7895, \n"
     ]
    },
    {
     "name": "stdout",
     "output_type": "stream",
     "text": [
      "epoch: 1, [batch: 2016 / 6720], examples_per_second: 3367.5425, train_label_loss: 0.7717, \n"
     ]
    },
    {
     "name": "stdout",
     "output_type": "stream",
     "text": [
      "epoch: 1, [batch: 2688 / 6720], examples_per_second: 3315.7848, train_label_loss: 0.7008, \n"
     ]
    },
    {
     "name": "stdout",
     "output_type": "stream",
     "text": [
      "epoch: 1, [batch: 3360 / 6720], examples_per_second: 3377.8161, train_label_loss: 0.5699, \n"
     ]
    },
    {
     "name": "stdout",
     "output_type": "stream",
     "text": [
      "epoch: 1, [batch: 4032 / 6720], examples_per_second: 3555.2296, train_label_loss: 0.6911, \n"
     ]
    },
    {
     "name": "stdout",
     "output_type": "stream",
     "text": [
      "epoch: 1, [batch: 4704 / 6720], examples_per_second: 2953.6466, train_label_loss: 0.8038, \n"
     ]
    },
    {
     "name": "stdout",
     "output_type": "stream",
     "text": [
      "epoch: 1, [batch: 5376 / 6720], examples_per_second: 2995.9697, train_label_loss: 0.9670, \n"
     ]
    },
    {
     "name": "stdout",
     "output_type": "stream",
     "text": [
      "epoch: 1, [batch: 6048 / 6720], examples_per_second: 2980.0946, train_label_loss: 0.4413, \n"
     ]
    },
    {
     "name": "stdout",
     "output_type": "stream",
     "text": [
      "=============================================================\n",
      "epoch: 1, source_val_acc_label: 0.7740, target_val_acc_label: 0.7564, source_val_label_loss: 8.6561, target_val_label_loss: 12.0891, \n",
      "=============================================================\n"
     ]
    },
    {
     "name": "stdout",
     "output_type": "stream",
     "text": [
      "New best\n"
     ]
    },
    {
     "name": "stdout",
     "output_type": "stream",
     "text": [
      "epoch: 2, [batch: 1 / 6720], examples_per_second: 2.7866, train_label_loss: 0.8748, \n"
     ]
    },
    {
     "name": "stdout",
     "output_type": "stream",
     "text": [
      "epoch: 2, [batch: 672 / 6720], examples_per_second: 2972.9007, train_label_loss: 0.7547, \n"
     ]
    },
    {
     "name": "stdout",
     "output_type": "stream",
     "text": [
      "epoch: 2, [batch: 1344 / 6720], examples_per_second: 2980.3546, train_label_loss: 0.8802, \n"
     ]
    },
    {
     "name": "stdout",
     "output_type": "stream",
     "text": [
      "epoch: 2, [batch: 2016 / 6720], examples_per_second: 3032.0562, train_label_loss: 0.3665, \n"
     ]
    },
    {
     "name": "stdout",
     "output_type": "stream",
     "text": [
      "epoch: 2, [batch: 2688 / 6720], examples_per_second: 3423.6492, train_label_loss: 0.8273, \n"
     ]
    },
    {
     "name": "stdout",
     "output_type": "stream",
     "text": [
      "epoch: 2, [batch: 3360 / 6720], examples_per_second: 3471.7956, train_label_loss: 0.5219, \n"
     ]
    },
    {
     "name": "stdout",
     "output_type": "stream",
     "text": [
      "epoch: 2, [batch: 4032 / 6720], examples_per_second: 3523.7469, train_label_loss: 0.3693, \n"
     ]
    },
    {
     "name": "stdout",
     "output_type": "stream",
     "text": [
      "epoch: 2, [batch: 4704 / 6720], examples_per_second: 3622.4202, train_label_loss: 0.4625, \n"
     ]
    },
    {
     "name": "stdout",
     "output_type": "stream",
     "text": [
      "epoch: 2, [batch: 5376 / 6720], examples_per_second: 3665.7227, train_label_loss: 0.0929, \n"
     ]
    },
    {
     "name": "stdout",
     "output_type": "stream",
     "text": [
      "epoch: 2, [batch: 6048 / 6720], examples_per_second: 3711.3010, train_label_loss: 0.4184, \n"
     ]
    },
    {
     "name": "stdout",
     "output_type": "stream",
     "text": [
      "=============================================================\n",
      "epoch: 2, source_val_acc_label: 0.8114, target_val_acc_label: 0.7926, source_val_label_loss: 0.5258, target_val_label_loss: 0.6203, \n",
      "=============================================================\n"
     ]
    },
    {
     "name": "stdout",
     "output_type": "stream",
     "text": [
      "New best\n"
     ]
    },
    {
     "name": "stdout",
     "output_type": "stream",
     "text": [
      "epoch: 3, [batch: 1 / 6720], examples_per_second: 3.4965, train_label_loss: 0.1514, \n"
     ]
    },
    {
     "name": "stdout",
     "output_type": "stream",
     "text": [
      "epoch: 3, [batch: 672 / 6720], examples_per_second: 3915.4593, train_label_loss: 0.4995, \n"
     ]
    },
    {
     "name": "stdout",
     "output_type": "stream",
     "text": [
      "epoch: 3, [batch: 1344 / 6720], examples_per_second: 3099.8870, train_label_loss: 0.2954, \n"
     ]
    },
    {
     "name": "stdout",
     "output_type": "stream",
     "text": [
      "epoch: 3, [batch: 2016 / 6720], examples_per_second: 2969.3138, train_label_loss: 0.6068, \n"
     ]
    },
    {
     "name": "stdout",
     "output_type": "stream",
     "text": [
      "epoch: 3, [batch: 2688 / 6720], examples_per_second: 2974.1333, train_label_loss: 0.3940, \n"
     ]
    },
    {
     "name": "stdout",
     "output_type": "stream",
     "text": [
      "epoch: 3, [batch: 3360 / 6720], examples_per_second: 2992.1377, train_label_loss: 0.5689, \n"
     ]
    },
    {
     "name": "stdout",
     "output_type": "stream",
     "text": [
      "epoch: 3, [batch: 4032 / 6720], examples_per_second: 3000.8763, train_label_loss: 0.3219, \n"
     ]
    },
    {
     "name": "stdout",
     "output_type": "stream",
     "text": [
      "epoch: 3, [batch: 4704 / 6720], examples_per_second: 3184.8337, train_label_loss: 0.3178, \n"
     ]
    },
    {
     "name": "stdout",
     "output_type": "stream",
     "text": [
      "epoch: 3, [batch: 5376 / 6720], examples_per_second: 3454.6065, train_label_loss: 0.5885, \n"
     ]
    },
    {
     "name": "stdout",
     "output_type": "stream",
     "text": [
      "epoch: 3, [batch: 6048 / 6720], examples_per_second: 3428.7833, train_label_loss: 0.5471, \n"
     ]
    },
    {
     "name": "stdout",
     "output_type": "stream",
     "text": [
      "=============================================================\n",
      "epoch: 3, source_val_acc_label: 0.8394, target_val_acc_label: 0.8221, source_val_label_loss: 0.4423, target_val_label_loss: 0.6546, \n",
      "=============================================================\n"
     ]
    },
    {
     "name": "stdout",
     "output_type": "stream",
     "text": [
      "New best\n"
     ]
    },
    {
     "name": "stdout",
     "output_type": "stream",
     "text": [
      "epoch: 4, [batch: 1 / 6720], examples_per_second: 3.1222, train_label_loss: 0.3949, \n"
     ]
    },
    {
     "name": "stdout",
     "output_type": "stream",
     "text": [
      "epoch: 4, [batch: 672 / 6720], examples_per_second: 3516.5376, train_label_loss: 0.2123, \n"
     ]
    },
    {
     "name": "stdout",
     "output_type": "stream",
     "text": [
      "epoch: 4, [batch: 1344 / 6720], examples_per_second: 2957.9645, train_label_loss: 0.4815, \n"
     ]
    },
    {
     "name": "stdout",
     "output_type": "stream",
     "text": [
      "epoch: 4, [batch: 2016 / 6720], examples_per_second: 2932.3168, train_label_loss: 0.3247, \n"
     ]
    },
    {
     "name": "stdout",
     "output_type": "stream",
     "text": [
      "epoch: 4, [batch: 2688 / 6720], examples_per_second: 2943.3193, train_label_loss: 0.2644, \n"
     ]
    },
    {
     "name": "stdout",
     "output_type": "stream",
     "text": [
      "epoch: 4, [batch: 3360 / 6720], examples_per_second: 2985.2107, train_label_loss: 0.3496, \n"
     ]
    },
    {
     "name": "stdout",
     "output_type": "stream",
     "text": [
      "epoch: 4, [batch: 4032 / 6720], examples_per_second: 3020.8318, train_label_loss: 0.1967, \n"
     ]
    },
    {
     "name": "stdout",
     "output_type": "stream",
     "text": [
      "epoch: 4, [batch: 4704 / 6720], examples_per_second: 2974.1278, train_label_loss: 0.8688, \n"
     ]
    },
    {
     "name": "stdout",
     "output_type": "stream",
     "text": [
      "epoch: 4, [batch: 5376 / 6720], examples_per_second: 3009.6863, train_label_loss: 0.2100, \n"
     ]
    },
    {
     "name": "stdout",
     "output_type": "stream",
     "text": [
      "epoch: 4, [batch: 6048 / 6720], examples_per_second: 2969.6391, train_label_loss: 0.2076, \n"
     ]
    },
    {
     "name": "stdout",
     "output_type": "stream",
     "text": [
      "=============================================================\n",
      "epoch: 4, source_val_acc_label: 0.8795, target_val_acc_label: 0.8648, source_val_label_loss: 0.3379, target_val_label_loss: 0.4807, \n",
      "=============================================================\n"
     ]
    },
    {
     "name": "stdout",
     "output_type": "stream",
     "text": [
      "New best\n"
     ]
    },
    {
     "name": "stdout",
     "output_type": "stream",
     "text": [
      "epoch: 5, [batch: 1 / 6720], examples_per_second: 3.0119, train_label_loss: 0.6245, \n"
     ]
    },
    {
     "name": "stdout",
     "output_type": "stream",
     "text": [
      "epoch: 5, [batch: 672 / 6720], examples_per_second: 3353.7997, train_label_loss: 0.3745, \n"
     ]
    },
    {
     "name": "stdout",
     "output_type": "stream",
     "text": [
      "epoch: 5, [batch: 1344 / 6720], examples_per_second: 3398.2232, train_label_loss: 0.2354, \n"
     ]
    },
    {
     "name": "stdout",
     "output_type": "stream",
     "text": [
      "epoch: 5, [batch: 2016 / 6720], examples_per_second: 3390.0718, train_label_loss: 0.2657, \n"
     ]
    },
    {
     "name": "stdout",
     "output_type": "stream",
     "text": [
      "epoch: 5, [batch: 2688 / 6720], examples_per_second: 3725.7155, train_label_loss: 0.1491, \n"
     ]
    },
    {
     "name": "stdout",
     "output_type": "stream",
     "text": [
      "epoch: 5, [batch: 3360 / 6720], examples_per_second: 3010.2868, train_label_loss: 0.3591, \n"
     ]
    },
    {
     "name": "stdout",
     "output_type": "stream",
     "text": [
      "epoch: 5, [batch: 4032 / 6720], examples_per_second: 3110.2411, train_label_loss: 0.4537, \n"
     ]
    },
    {
     "name": "stdout",
     "output_type": "stream",
     "text": [
      "epoch: 5, [batch: 4704 / 6720], examples_per_second: 2965.3890, train_label_loss: 0.2485, \n"
     ]
    },
    {
     "name": "stdout",
     "output_type": "stream",
     "text": [
      "epoch: 5, [batch: 5376 / 6720], examples_per_second: 2965.9259, train_label_loss: 0.1755, \n"
     ]
    },
    {
     "name": "stdout",
     "output_type": "stream",
     "text": [
      "epoch: 5, [batch: 6048 / 6720], examples_per_second: 2982.9504, train_label_loss: 0.0625, \n"
     ]
    },
    {
     "name": "stdout",
     "output_type": "stream",
     "text": [
      "=============================================================\n",
      "epoch: 5, source_val_acc_label: 0.8844, target_val_acc_label: 0.8674, source_val_label_loss: 0.3258, target_val_label_loss: 0.4760, \n",
      "=============================================================\n"
     ]
    },
    {
     "name": "stdout",
     "output_type": "stream",
     "text": [
      "New best\n"
     ]
    },
    {
     "name": "stdout",
     "output_type": "stream",
     "text": [
      "epoch: 6, [batch: 1 / 6720], examples_per_second: 2.7818, train_label_loss: 0.2601, \n"
     ]
    },
    {
     "name": "stdout",
     "output_type": "stream",
     "text": [
      "epoch: 6, [batch: 672 / 6720], examples_per_second: 3058.4710, train_label_loss: 0.3940, \n"
     ]
    },
    {
     "name": "stdout",
     "output_type": "stream",
     "text": [
      "epoch: 6, [batch: 1344 / 6720], examples_per_second: 3454.9249, train_label_loss: 0.1998, \n"
     ]
    },
    {
     "name": "stdout",
     "output_type": "stream",
     "text": [
      "epoch: 6, [batch: 2016 / 6720], examples_per_second: 3397.0343, train_label_loss: 0.1993, \n"
     ]
    },
    {
     "name": "stdout",
     "output_type": "stream",
     "text": [
      "epoch: 6, [batch: 2688 / 6720], examples_per_second: 3340.0327, train_label_loss: 0.0556, \n"
     ]
    },
    {
     "name": "stdout",
     "output_type": "stream",
     "text": [
      "epoch: 6, [batch: 3360 / 6720], examples_per_second: 3362.8097, train_label_loss: 0.2784, \n"
     ]
    },
    {
     "name": "stdout",
     "output_type": "stream",
     "text": [
      "epoch: 6, [batch: 4032 / 6720], examples_per_second: 3379.2670, train_label_loss: 0.0849, \n"
     ]
    },
    {
     "name": "stdout",
     "output_type": "stream",
     "text": [
      "epoch: 6, [batch: 4704 / 6720], examples_per_second: 3436.3166, train_label_loss: 0.2565, \n"
     ]
    },
    {
     "name": "stdout",
     "output_type": "stream",
     "text": [
      "epoch: 6, [batch: 5376 / 6720], examples_per_second: 3593.9866, train_label_loss: 0.3348, \n"
     ]
    },
    {
     "name": "stdout",
     "output_type": "stream",
     "text": [
      "epoch: 6, [batch: 6048 / 6720], examples_per_second: 2964.7544, train_label_loss: 0.2793, \n"
     ]
    },
    {
     "name": "stdout",
     "output_type": "stream",
     "text": [
      "=============================================================\n",
      "epoch: 6, source_val_acc_label: 0.8732, target_val_acc_label: 0.8527, source_val_label_loss: 0.3575, target_val_label_loss: 0.5939, \n",
      "=============================================================\n"
     ]
    },
    {
     "name": "stdout",
     "output_type": "stream",
     "text": [
      "epoch: 7, [batch: 1 / 6720], examples_per_second: 2.7508, train_label_loss: 0.0313, \n"
     ]
    },
    {
     "name": "stdout",
     "output_type": "stream",
     "text": [
      "epoch: 7, [batch: 672 / 6720], examples_per_second: 2997.4722, train_label_loss: 0.2611, \n"
     ]
    },
    {
     "name": "stdout",
     "output_type": "stream",
     "text": [
      "epoch: 7, [batch: 1344 / 6720], examples_per_second: 3371.2636, train_label_loss: 0.6763, \n"
     ]
    },
    {
     "name": "stdout",
     "output_type": "stream",
     "text": [
      "epoch: 7, [batch: 2016 / 6720], examples_per_second: 3420.7631, train_label_loss: 0.2924, \n"
     ]
    },
    {
     "name": "stdout",
     "output_type": "stream",
     "text": [
      "epoch: 7, [batch: 2688 / 6720], examples_per_second: 3353.5006, train_label_loss: 0.0226, \n"
     ]
    },
    {
     "name": "stdout",
     "output_type": "stream",
     "text": [
      "epoch: 7, [batch: 3360 / 6720], examples_per_second: 3605.7932, train_label_loss: 0.3804, \n"
     ]
    },
    {
     "name": "stdout",
     "output_type": "stream",
     "text": [
      "epoch: 7, [batch: 4032 / 6720], examples_per_second: 3832.9657, train_label_loss: 0.1718, \n"
     ]
    },
    {
     "name": "stdout",
     "output_type": "stream",
     "text": [
      "epoch: 7, [batch: 4704 / 6720], examples_per_second: 3966.1608, train_label_loss: 0.2251, \n"
     ]
    },
    {
     "name": "stdout",
     "output_type": "stream",
     "text": [
      "epoch: 7, [batch: 5376 / 6720], examples_per_second: 4039.2543, train_label_loss: 0.2842, \n"
     ]
    },
    {
     "name": "stdout",
     "output_type": "stream",
     "text": [
      "epoch: 7, [batch: 6048 / 6720], examples_per_second: 4409.6783, train_label_loss: 0.3165, \n"
     ]
    },
    {
     "name": "stdout",
     "output_type": "stream",
     "text": [
      "=============================================================\n",
      "epoch: 7, source_val_acc_label: 0.8943, target_val_acc_label: 0.8735, source_val_label_loss: 0.3584, target_val_label_loss: 0.9460, \n",
      "=============================================================\n"
     ]
    },
    {
     "name": "stdout",
     "output_type": "stream",
     "text": [
      "New best\n"
     ]
    },
    {
     "name": "stdout",
     "output_type": "stream",
     "text": [
      "epoch: 8, [batch: 1 / 6720], examples_per_second: 3.4109, train_label_loss: 0.1901, \n"
     ]
    },
    {
     "name": "stdout",
     "output_type": "stream",
     "text": [
      "epoch: 8, [batch: 672 / 6720], examples_per_second: 2980.6766, train_label_loss: 0.1995, \n"
     ]
    },
    {
     "name": "stdout",
     "output_type": "stream",
     "text": [
      "epoch: 8, [batch: 1344 / 6720], examples_per_second: 3029.7044, train_label_loss: 0.2489, \n"
     ]
    },
    {
     "name": "stdout",
     "output_type": "stream",
     "text": [
      "epoch: 8, [batch: 2016 / 6720], examples_per_second: 3038.9482, train_label_loss: 0.5751, \n"
     ]
    },
    {
     "name": "stdout",
     "output_type": "stream",
     "text": [
      "epoch: 8, [batch: 2688 / 6720], examples_per_second: 2978.9939, train_label_loss: 0.6540, \n"
     ]
    },
    {
     "name": "stdout",
     "output_type": "stream",
     "text": [
      "epoch: 8, [batch: 3360 / 6720], examples_per_second: 2990.0797, train_label_loss: 0.1642, \n"
     ]
    },
    {
     "name": "stdout",
     "output_type": "stream",
     "text": [
      "epoch: 8, [batch: 4032 / 6720], examples_per_second: 2986.4934, train_label_loss: 0.2417, \n"
     ]
    },
    {
     "name": "stdout",
     "output_type": "stream",
     "text": [
      "epoch: 8, [batch: 4704 / 6720], examples_per_second: 2976.7080, train_label_loss: 0.1872, \n"
     ]
    },
    {
     "name": "stdout",
     "output_type": "stream",
     "text": [
      "epoch: 8, [batch: 5376 / 6720], examples_per_second: 3029.6611, train_label_loss: 0.2105, \n"
     ]
    },
    {
     "name": "stdout",
     "output_type": "stream",
     "text": [
      "epoch: 8, [batch: 6048 / 6720], examples_per_second: 3424.3964, train_label_loss: 0.6714, \n"
     ]
    },
    {
     "name": "stdout",
     "output_type": "stream",
     "text": [
      "=============================================================\n",
      "epoch: 8, source_val_acc_label: 0.8959, target_val_acc_label: 0.8733, source_val_label_loss: 0.3190, target_val_label_loss: 1.0003, \n",
      "=============================================================\n"
     ]
    },
    {
     "name": "stdout",
     "output_type": "stream",
     "text": [
      "epoch: 9, [batch: 1 / 6720], examples_per_second: 3.1240, train_label_loss: 0.1007, \n"
     ]
    },
    {
     "name": "stdout",
     "output_type": "stream",
     "text": [
      "epoch: 9, [batch: 672 / 6720], examples_per_second: 3432.4735, train_label_loss: 0.2890, \n"
     ]
    },
    {
     "name": "stdout",
     "output_type": "stream",
     "text": [
      "epoch: 9, [batch: 1344 / 6720], examples_per_second: 3604.5851, train_label_loss: 0.1026, \n"
     ]
    },
    {
     "name": "stdout",
     "output_type": "stream",
     "text": [
      "epoch: 9, [batch: 2016 / 6720], examples_per_second: 3414.3025, train_label_loss: 0.2013, \n"
     ]
    },
    {
     "name": "stdout",
     "output_type": "stream",
     "text": [
      "epoch: 9, [batch: 2688 / 6720], examples_per_second: 3385.1310, train_label_loss: 0.1831, \n"
     ]
    },
    {
     "name": "stdout",
     "output_type": "stream",
     "text": [
      "epoch: 9, [batch: 3360 / 6720], examples_per_second: 3383.2388, train_label_loss: 0.2024, \n"
     ]
    },
    {
     "name": "stdout",
     "output_type": "stream",
     "text": [
      "epoch: 9, [batch: 4032 / 6720], examples_per_second: 3411.2076, train_label_loss: 0.1668, \n"
     ]
    },
    {
     "name": "stdout",
     "output_type": "stream",
     "text": [
      "epoch: 9, [batch: 4704 / 6720], examples_per_second: 3368.0049, train_label_loss: 0.0971, \n"
     ]
    },
    {
     "name": "stdout",
     "output_type": "stream",
     "text": [
      "epoch: 9, [batch: 5376 / 6720], examples_per_second: 3394.0978, train_label_loss: 0.2628, \n"
     ]
    },
    {
     "name": "stdout",
     "output_type": "stream",
     "text": [
      "epoch: 9, [batch: 6048 / 6720], examples_per_second: 3528.2806, train_label_loss: 0.3734, \n"
     ]
    },
    {
     "name": "stdout",
     "output_type": "stream",
     "text": [
      "=============================================================\n",
      "epoch: 9, source_val_acc_label: 0.9030, target_val_acc_label: 0.8797, source_val_label_loss: 0.3476, target_val_label_loss: 1.7164, \n",
      "=============================================================\n"
     ]
    },
    {
     "name": "stdout",
     "output_type": "stream",
     "text": [
      "New best\n"
     ]
    },
    {
     "name": "stdout",
     "output_type": "stream",
     "text": [
      "epoch: 10, [batch: 1 / 6720], examples_per_second: 3.1685, train_label_loss: 0.1766, \n"
     ]
    },
    {
     "name": "stdout",
     "output_type": "stream",
     "text": [
      "epoch: 10, [batch: 672 / 6720], examples_per_second: 3359.3306, train_label_loss: 0.8014, \n"
     ]
    },
    {
     "name": "stdout",
     "output_type": "stream",
     "text": [
      "epoch: 10, [batch: 1344 / 6720], examples_per_second: 3431.7073, train_label_loss: 0.1992, \n"
     ]
    },
    {
     "name": "stdout",
     "output_type": "stream",
     "text": [
      "epoch: 10, [batch: 2016 / 6720], examples_per_second: 3418.4977, train_label_loss: 0.2021, \n"
     ]
    },
    {
     "name": "stdout",
     "output_type": "stream",
     "text": [
      "epoch: 10, [batch: 2688 / 6720], examples_per_second: 3378.4319, train_label_loss: 0.2633, \n"
     ]
    },
    {
     "name": "stdout",
     "output_type": "stream",
     "text": [
      "epoch: 10, [batch: 3360 / 6720], examples_per_second: 3349.4525, train_label_loss: 0.1752, \n"
     ]
    },
    {
     "name": "stdout",
     "output_type": "stream",
     "text": [
      "epoch: 10, [batch: 4032 / 6720], examples_per_second: 3372.2539, train_label_loss: 0.3752, \n"
     ]
    },
    {
     "name": "stdout",
     "output_type": "stream",
     "text": [
      "epoch: 10, [batch: 4704 / 6720], examples_per_second: 3362.6065, train_label_loss: 0.0905, \n"
     ]
    },
    {
     "name": "stdout",
     "output_type": "stream",
     "text": [
      "epoch: 10, [batch: 5376 / 6720], examples_per_second: 3342.1675, train_label_loss: 0.3175, \n"
     ]
    },
    {
     "name": "stdout",
     "output_type": "stream",
     "text": [
      "epoch: 10, [batch: 6048 / 6720], examples_per_second: 3333.3199, train_label_loss: 0.0905, \n"
     ]
    },
    {
     "name": "stdout",
     "output_type": "stream",
     "text": [
      "=============================================================\n",
      "epoch: 10, source_val_acc_label: 0.8935, target_val_acc_label: 0.8702, source_val_label_loss: 0.3057, target_val_label_loss: 0.9951, \n",
      "=============================================================\n"
     ]
    },
    {
     "name": "stdout",
     "output_type": "stream",
     "text": [
      "epoch: 11, [batch: 1 / 6720], examples_per_second: 3.1178, train_label_loss: 0.3968, \n"
     ]
    },
    {
     "name": "stdout",
     "output_type": "stream",
     "text": [
      "epoch: 11, [batch: 672 / 6720], examples_per_second: 3490.2886, train_label_loss: 0.0395, \n"
     ]
    },
    {
     "name": "stdout",
     "output_type": "stream",
     "text": [
      "epoch: 11, [batch: 1344 / 6720], examples_per_second: 3865.6019, train_label_loss: 0.7029, \n"
     ]
    },
    {
     "name": "stdout",
     "output_type": "stream",
     "text": [
      "epoch: 11, [batch: 2016 / 6720], examples_per_second: 3944.3355, train_label_loss: 0.0584, \n"
     ]
    },
    {
     "name": "stdout",
     "output_type": "stream",
     "text": [
      "epoch: 11, [batch: 2688 / 6720], examples_per_second: 3854.3434, train_label_loss: 0.2653, \n"
     ]
    },
    {
     "name": "stdout",
     "output_type": "stream",
     "text": [
      "epoch: 11, [batch: 3360 / 6720], examples_per_second: 3999.5831, train_label_loss: 0.0687, \n"
     ]
    },
    {
     "name": "stdout",
     "output_type": "stream",
     "text": [
      "epoch: 11, [batch: 4032 / 6720], examples_per_second: 3999.2147, train_label_loss: 0.5959, \n"
     ]
    },
    {
     "name": "stdout",
     "output_type": "stream",
     "text": [
      "epoch: 11, [batch: 4704 / 6720], examples_per_second: 3946.0087, train_label_loss: 0.2511, \n"
     ]
    },
    {
     "name": "stdout",
     "output_type": "stream",
     "text": [
      "epoch: 11, [batch: 5376 / 6720], examples_per_second: 3972.8960, train_label_loss: 0.0313, \n"
     ]
    },
    {
     "name": "stdout",
     "output_type": "stream",
     "text": [
      "epoch: 11, [batch: 6048 / 6720], examples_per_second: 4007.8841, train_label_loss: 0.0797, \n"
     ]
    },
    {
     "name": "stdout",
     "output_type": "stream",
     "text": [
      "=============================================================\n",
      "epoch: 11, source_val_acc_label: 0.8982, target_val_acc_label: 0.8712, source_val_label_loss: 0.2871, target_val_label_loss: 1.5525, \n",
      "=============================================================\n"
     ]
    },
    {
     "name": "stdout",
     "output_type": "stream",
     "text": [
      "epoch: 12, [batch: 1 / 6720], examples_per_second: 4.2003, train_label_loss: 0.1376, \n"
     ]
    },
    {
     "name": "stdout",
     "output_type": "stream",
     "text": [
      "epoch: 12, [batch: 672 / 6720], examples_per_second: 4139.0348, train_label_loss: 0.0499, \n"
     ]
    },
    {
     "name": "stdout",
     "output_type": "stream",
     "text": [
      "epoch: 12, [batch: 1344 / 6720], examples_per_second: 4442.0219, train_label_loss: 0.3147, \n"
     ]
    },
    {
     "name": "stdout",
     "output_type": "stream",
     "text": [
      "epoch: 12, [batch: 2016 / 6720], examples_per_second: 4524.7271, train_label_loss: 0.0637, \n"
     ]
    },
    {
     "name": "stdout",
     "output_type": "stream",
     "text": [
      "epoch: 12, [batch: 2688 / 6720], examples_per_second: 4989.9327, train_label_loss: 0.1159, \n"
     ]
    },
    {
     "name": "stdout",
     "output_type": "stream",
     "text": [
      "epoch: 12, [batch: 3360 / 6720], examples_per_second: 4658.0489, train_label_loss: 0.0548, \n"
     ]
    },
    {
     "name": "stdout",
     "output_type": "stream",
     "text": [
      "epoch: 12, [batch: 4032 / 6720], examples_per_second: 3848.2073, train_label_loss: 0.3196, \n"
     ]
    },
    {
     "name": "stdout",
     "output_type": "stream",
     "text": [
      "epoch: 12, [batch: 4704 / 6720], examples_per_second: 3977.8388, train_label_loss: 0.2103, \n"
     ]
    },
    {
     "name": "stdout",
     "output_type": "stream",
     "text": [
      "epoch: 12, [batch: 5376 / 6720], examples_per_second: 3980.2047, train_label_loss: 0.3070, \n"
     ]
    },
    {
     "name": "stdout",
     "output_type": "stream",
     "text": [
      "epoch: 12, [batch: 6048 / 6720], examples_per_second: 4044.5500, train_label_loss: 0.1073, \n"
     ]
    },
    {
     "name": "stdout",
     "output_type": "stream",
     "text": [
      "=============================================================\n",
      "epoch: 12, source_val_acc_label: 0.9016, target_val_acc_label: 0.8763, source_val_label_loss: 0.3774, target_val_label_loss: 2.2659, \n",
      "=============================================================\n"
     ]
    },
    {
     "name": "stdout",
     "output_type": "stream",
     "text": [
      "epoch: 13, [batch: 1 / 6720], examples_per_second: 3.8739, train_label_loss: 0.2555, \n"
     ]
    },
    {
     "name": "stdout",
     "output_type": "stream",
     "text": [
      "epoch: 13, [batch: 672 / 6720], examples_per_second: 3822.8650, train_label_loss: 0.0839, \n"
     ]
    },
    {
     "name": "stdout",
     "output_type": "stream",
     "text": [
      "epoch: 13, [batch: 1344 / 6720], examples_per_second: 3206.6608, train_label_loss: 0.0449, \n"
     ]
    },
    {
     "name": "stdout",
     "output_type": "stream",
     "text": [
      "epoch: 13, [batch: 2016 / 6720], examples_per_second: 3047.8522, train_label_loss: 0.0473, \n"
     ]
    },
    {
     "name": "stdout",
     "output_type": "stream",
     "text": [
      "epoch: 13, [batch: 2688 / 6720], examples_per_second: 3005.1530, train_label_loss: 0.2841, \n"
     ]
    },
    {
     "name": "stdout",
     "output_type": "stream",
     "text": [
      "epoch: 13, [batch: 3360 / 6720], examples_per_second: 2990.8193, train_label_loss: 0.3325, \n"
     ]
    },
    {
     "name": "stdout",
     "output_type": "stream",
     "text": [
      "epoch: 13, [batch: 4032 / 6720], examples_per_second: 2989.4410, train_label_loss: 0.4753, \n"
     ]
    },
    {
     "name": "stdout",
     "output_type": "stream",
     "text": [
      "epoch: 13, [batch: 4704 / 6720], examples_per_second: 2946.7187, train_label_loss: 0.1536, \n"
     ]
    },
    {
     "name": "stdout",
     "output_type": "stream",
     "text": [
      "epoch: 13, [batch: 5376 / 6720], examples_per_second: 2967.4757, train_label_loss: 0.3416, \n"
     ]
    },
    {
     "name": "stdout",
     "output_type": "stream",
     "text": [
      "epoch: 13, [batch: 6048 / 6720], examples_per_second: 2957.8722, train_label_loss: 0.2432, \n"
     ]
    },
    {
     "name": "stdout",
     "output_type": "stream",
     "text": [
      "=============================================================\n",
      "epoch: 13, source_val_acc_label: 0.8978, target_val_acc_label: 0.8708, source_val_label_loss: 0.3525, target_val_label_loss: 1.9037, \n",
      "=============================================================\n"
     ]
    },
    {
     "name": "stdout",
     "output_type": "stream",
     "text": [
      "Patience (3) exhausted\n"
     ]
    }
   ],
   "source": [
    "###################################\n",
    "# train\n",
    "###################################\n",
    "jig = PTN_Train_Eval_Test_Jig(model, p.BEST_MODEL_PATH, p.device)\n",
    "\n",
    "jig.train(\n",
    "    train_iterable=datasets.source.processed.train,\n",
    "    source_val_iterable=datasets.source.processed.val,\n",
    "    target_val_iterable=datasets.target.processed.val,\n",
    "    num_epochs=p.n_epoch,\n",
    "    num_logs_per_epoch=p.NUM_LOGS_PER_EPOCH,\n",
    "    patience=p.patience,\n",
    "    optimizer=optimizer,\n",
    "    criteria_for_best=p.criteria_for_best,\n",
    ")"
   ]
  },
  {
   "cell_type": "code",
   "execution_count": 23,
   "id": "31e8fabf",
   "metadata": {
    "execution": {
     "iopub.execute_input": "2022-03-22T00:11:44.053959Z",
     "iopub.status.busy": "2022-03-22T00:11:44.053399Z",
     "iopub.status.idle": "2022-03-22T00:11:44.086514Z",
     "shell.execute_reply": "2022-03-22T00:11:44.087172Z"
    },
    "papermill": {
     "duration": 0.10057,
     "end_time": "2022-03-22T00:11:44.087374",
     "exception": false,
     "start_time": "2022-03-22T00:11:43.986804",
     "status": "completed"
    },
    "tags": []
   },
   "outputs": [],
   "source": [
    "total_experiment_time_secs = time.time() - start_time_secs"
   ]
  },
  {
   "cell_type": "code",
   "execution_count": 24,
   "id": "87b9595b",
   "metadata": {
    "execution": {
     "iopub.execute_input": "2022-03-22T00:11:44.223574Z",
     "iopub.status.busy": "2022-03-22T00:11:44.222965Z",
     "iopub.status.idle": "2022-03-22T00:15:12.054019Z",
     "shell.execute_reply": "2022-03-22T00:15:12.054713Z"
    },
    "papermill": {
     "duration": 207.897982,
     "end_time": "2022-03-22T00:15:12.054959",
     "exception": false,
     "start_time": "2022-03-22T00:11:44.156977",
     "status": "completed"
    },
    "tags": []
   },
   "outputs": [],
   "source": [
    "###################################\n",
    "# Evaluate the model\n",
    "###################################\n",
    "source_test_label_accuracy, source_test_label_loss = jig.test(datasets.source.processed.test)\n",
    "target_test_label_accuracy, target_test_label_loss = jig.test(datasets.target.processed.test)\n",
    "\n",
    "source_val_label_accuracy, source_val_label_loss = jig.test(datasets.source.processed.val)\n",
    "target_val_label_accuracy, target_val_label_loss = jig.test(datasets.target.processed.val)\n",
    "\n",
    "history = jig.get_history()\n",
    "\n",
    "total_epochs_trained = len(history[\"epoch_indices\"])\n",
    "\n",
    "val_dl = Iterable_Aggregator((datasets.source.original.val,datasets.target.original.val))\n",
    "\n",
    "confusion = ptn_confusion_by_domain_over_dataloader(model, p.device, val_dl)\n",
    "per_domain_accuracy = per_domain_accuracy_from_confusion(confusion)\n",
    "\n",
    "# Add a key to per_domain_accuracy for if it was a source domain\n",
    "for domain, accuracy in per_domain_accuracy.items():\n",
    "    per_domain_accuracy[domain] = {\n",
    "        \"accuracy\": accuracy,\n",
    "        \"source?\": domain in p.domains_source\n",
    "    }\n",
    "\n",
    "# Do an independent accuracy assesment JUST TO BE SURE!\n",
    "# _source_test_label_accuracy = independent_accuracy_assesment(model, datasets.source.processed.test, p.device)\n",
    "# _target_test_label_accuracy = independent_accuracy_assesment(model, datasets.target.processed.test, p.device)\n",
    "# _source_val_label_accuracy = independent_accuracy_assesment(model, datasets.source.processed.val, p.device)\n",
    "# _target_val_label_accuracy = independent_accuracy_assesment(model, datasets.target.processed.val, p.device)\n",
    "\n",
    "# assert(_source_test_label_accuracy == source_test_label_accuracy)\n",
    "# assert(_target_test_label_accuracy == target_test_label_accuracy)\n",
    "# assert(_source_val_label_accuracy == source_val_label_accuracy)\n",
    "# assert(_target_val_label_accuracy == target_val_label_accuracy)\n",
    "\n",
    "experiment = {\n",
    "    \"experiment_name\": p.experiment_name,\n",
    "    \"parameters\": dict(p),\n",
    "    \"results\": {\n",
    "        \"source_test_label_accuracy\": source_test_label_accuracy,\n",
    "        \"source_test_label_loss\": source_test_label_loss,\n",
    "        \"target_test_label_accuracy\": target_test_label_accuracy,\n",
    "        \"target_test_label_loss\": target_test_label_loss,\n",
    "        \"source_val_label_accuracy\": source_val_label_accuracy,\n",
    "        \"source_val_label_loss\": source_val_label_loss,\n",
    "        \"target_val_label_accuracy\": target_val_label_accuracy,\n",
    "        \"target_val_label_loss\": target_val_label_loss,\n",
    "        \"total_epochs_trained\": total_epochs_trained,\n",
    "        \"total_experiment_time_secs\": total_experiment_time_secs,\n",
    "        \"confusion\": confusion,\n",
    "        \"per_domain_accuracy\": per_domain_accuracy,\n",
    "    },\n",
    "    \"history\": history,\n",
    "    \"dataset_metrics\": get_dataset_metrics(datasets, \"ptn\"),\n",
    "}"
   ]
  },
  {
   "cell_type": "code",
   "execution_count": 25,
   "id": "54a21829",
   "metadata": {
    "execution": {
     "iopub.execute_input": "2022-03-22T00:15:12.200990Z",
     "iopub.status.busy": "2022-03-22T00:15:12.200426Z",
     "iopub.status.idle": "2022-03-22T00:15:12.437348Z",
     "shell.execute_reply": "2022-03-22T00:15:12.436777Z"
    },
    "papermill": {
     "duration": 0.308762,
     "end_time": "2022-03-22T00:15:12.437485",
     "exception": false,
     "start_time": "2022-03-22T00:15:12.128723",
     "status": "completed"
    },
    "tags": []
   },
   "outputs": [
    {
     "data": {
      "image/png": "[encoded data removed]",
      "text/plain": [
       "<Figure size 1080x504 with 1 Axes>"
      ]
     },
     "metadata": {
      "needs_background": "light"
     },
     "output_type": "display_data"
    }
   ],
   "source": [
    "ax = get_loss_curve(experiment)\n",
    "plt.show()"
   ]
  },
  {
   "cell_type": "code",
   "execution_count": 26,
   "id": "fd8a0f60",
   "metadata": {
    "execution": {
     "iopub.execute_input": "2022-03-22T00:15:12.582050Z",
     "iopub.status.busy": "2022-03-22T00:15:12.581663Z",
     "iopub.status.idle": "2022-03-22T00:15:12.908957Z",
     "shell.execute_reply": "2022-03-22T00:15:12.909642Z"
    },
    "papermill": {
     "duration": 0.399798,
     "end_time": "2022-03-22T00:15:12.909876",
     "exception": false,
     "start_time": "2022-03-22T00:15:12.510078",
     "status": "completed"
    },
    "tags": []
   },
   "outputs": [
    {
     "data": {
      "text/plain": [
       "<AxesSubplot:title={'center':'Results'}>"
      ]
     },
     "execution_count": 26,
     "metadata": {},
     "output_type": "execute_result"
    },
    {
     "data": {
      "image/png": "[encoded data removed]",
      "text/plain": [
       "<Figure size 1080x504 with 1 Axes>"
      ]
     },
     "metadata": {
      "needs_background": "light"
     },
     "output_type": "display_data"
    }
   ],
   "source": [
    "get_results_table(experiment)"
   ]
  },
  {
   "cell_type": "code",
   "execution_count": 27,
   "id": "cf8dc689",
   "metadata": {
    "execution": {
     "iopub.execute_input": "2022-03-22T00:15:13.054974Z",
     "iopub.status.busy": "2022-03-22T00:15:13.054463Z",
     "iopub.status.idle": "2022-03-22T00:15:13.346146Z",
     "shell.execute_reply": "2022-03-22T00:15:13.346840Z"
    },
    "papermill": {
     "duration": 0.36499,
     "end_time": "2022-03-22T00:15:13.347077",
     "exception": false,
     "start_time": "2022-03-22T00:15:12.982087",
     "status": "completed"
    },
    "tags": []
   },
   "outputs": [
    {
     "data": {
      "text/plain": [
       "<AxesSubplot:title={'center':'Per Domain Validation Accuracy'}, xlabel='domain'>"
      ]
     },
     "execution_count": 27,
     "metadata": {},
     "output_type": "execute_result"
    },
    {
     "data": {
      "image/png": "[encoded data removed]",
      "text/plain": [
       "<Figure size 1080x504 with 1 Axes>"
      ]
     },
     "metadata": {
      "needs_background": "light"
     },
     "output_type": "display_data"
    }
   ],
   "source": [
    "get_domain_accuracies(experiment)"
   ]
  },
  {
   "cell_type": "code",
   "execution_count": 28,
   "id": "a74ae082",
   "metadata": {
    "execution": {
     "iopub.execute_input": "2022-03-22T00:15:13.495298Z",
     "iopub.status.busy": "2022-03-22T00:15:13.494918Z",
     "iopub.status.idle": "2022-03-22T00:15:13.522195Z",
     "shell.execute_reply": "2022-03-22T00:15:13.522878Z"
    },
    "papermill": {
     "duration": 0.10175,
     "end_time": "2022-03-22T00:15:13.523079",
     "exception": false,
     "start_time": "2022-03-22T00:15:13.421329",
     "status": "completed"
    },
    "tags": []
   },
   "outputs": [
    {
     "name": "stdout",
     "output_type": "stream",
     "text": [
      "Source Test Label Accuracy: 0.9057291666666667 Target Test Label Accuracy: 0.87890625\n",
      "Source Val Label Accuracy: 0.90302734375 Target Val Label Accuracy: 0.8797200520833334\n"
     ]
    }
   ],
   "source": [
    "print(\"Source Test Label Accuracy:\", experiment[\"results\"][\"source_test_label_accuracy\"], \"Target Test Label Accuracy:\", experiment[\"results\"][\"target_test_label_accuracy\"])\n",
    "print(\"Source Val Label Accuracy:\", experiment[\"results\"][\"source_val_label_accuracy\"], \"Target Val Label Accuracy:\", experiment[\"results\"][\"target_val_label_accuracy\"])"
   ]
  },
  {
   "cell_type": "code",
   "execution_count": 29,
   "id": "dacca602",
   "metadata": {
    "execution": {
     "iopub.execute_input": "2022-03-22T00:15:13.661848Z",
     "iopub.status.busy": "2022-03-22T00:15:13.661477Z",
     "iopub.status.idle": "2022-03-22T00:15:13.685040Z",
     "shell.execute_reply": "2022-03-22T00:15:13.685713Z"
    },
    "papermill": {
     "duration": 0.092402,
     "end_time": "2022-03-22T00:15:13.685914",
     "exception": false,
     "start_time": "2022-03-22T00:15:13.593512",
     "status": "completed"
    },
    "tags": [
     "experiment_json"
    ]
   },
   "outputs": [
    {
     "data": {
      "text/plain": [
       "'{\"experiment_name\": \"tl_1v2:oracle.run1.framed-oracle.run2.framed\", \"parameters\": {\"experiment_name\": \"tl_1v2:oracle.run1.framed-oracle.run2.framed\", \"device\": \"cuda\", \"lr\": 0.0001, \"n_shot\": 3, \"n_query\": 2, \"train_k_factor\": 3, \"val_k_factor\": 2, \"test_k_factor\": 2, \"torch_default_dtype\": \"torch.float32\", \"n_epoch\": 50, \"patience\": 3, \"criteria_for_best\": \"target_accuracy\", \"x_net\": [{\"class\": \"nnReshape\", \"kargs\": {\"shape\": [-1, 1, 2, 256]}}, {\"class\": \"Conv2d\", \"kargs\": {\"in_channels\": 1, \"out_channels\": 256, \"kernel_size\": [1, 7], \"bias\": false, \"padding\": [0, 3]}}, {\"class\": \"ReLU\", \"kargs\": {\"inplace\": true}}, {\"class\": \"BatchNorm2d\", \"kargs\": {\"num_features\": 256}}, {\"class\": \"Conv2d\", \"kargs\": {\"in_channels\": 256, \"out_channels\": 80, \"kernel_size\": [2, 7], \"bias\": true, \"padding\": [0, 3]}}, {\"class\": \"ReLU\", \"kargs\": {\"inplace\": true}}, {\"class\": \"BatchNorm2d\", \"kargs\": {\"num_features\": 80}}, {\"class\": \"Flatten\", \"kargs\": {}}, {\"class\": \"Linear\", \"kargs\": {\"in_features\": 20480, \"out_features\": 256}}, {\"class\": \"ReLU\", \"kargs\": {\"inplace\": true}}, {\"class\": \"BatchNorm1d\", \"kargs\": {\"num_features\": 256}}, {\"class\": \"Linear\", \"kargs\": {\"in_features\": 256, \"out_features\": 256}}], \"NUM_LOGS_PER_EPOCH\": 10, \"BEST_MODEL_PATH\": \"./best_model.pth\", \"n_way\": 16, \"datasets\": [{\"labels\": [\"3123D52\", \"3123D65\", \"3123D79\", \"3123D80\", \"3123D54\", \"3123D70\", \"3123D7B\", \"3123D89\", \"3123D58\", \"3123D76\", \"3123D7D\", \"3123EFE\", \"3123D64\", \"3123D78\", \"3123D7E\", \"3124E4A\"], \"domains\": [32, 38, 8, 44, 14, 50, 20, 26], \"num_examples_per_domain_per_label\": 2000, \"pickle_path\": \"/root/csc500-main/datasets/oracle.Run1_framed_2000Examples_stratified_ds.2022A.pkl\", \"source_or_target_dataset\": \"source\", \"x_transforms\": [\"unit_mag\"], \"episode_transforms\": [], \"domain_prefix\": \"ORACLE.run1_\"}, {\"labels\": [\"3123D52\", \"3123D65\", \"3123D79\", \"3123D80\", \"3123D54\", \"3123D70\", \"3123D7B\", \"3123D89\", \"3123D58\", \"3123D76\", \"3123D7D\", \"3123EFE\", \"3123D64\", \"3123D78\", \"3123D7E\", \"3124E4A\"], \"domains\": [32, 38, 8, 44, 14, 50, 20, 26], \"num_examples_per_domain_per_label\": 2000, \"pickle_path\": \"/root/csc500-main/datasets/oracle.Run2_framed_2000Examples_stratified_ds.2022A.pkl\", \"source_or_target_dataset\": \"target\", \"x_transforms\": [\"unit_mag\"], \"episode_transforms\": [], \"domain_prefix\": \"ORACLE.run2_\"}], \"dataset_seed\": 7, \"seed\": 7, \"x_shape\": [2, 256], \"domains_source\": [\"ORACLE.run1_32\", \"ORACLE.run1_38\", \"ORACLE.run1_8\", \"ORACLE.run1_44\", \"ORACLE.run1_14\", \"ORACLE.run1_50\", \"ORACLE.run1_20\", \"ORACLE.run1_26\"], \"domains_target\": [\"ORACLE.run2_32\", \"ORACLE.run2_38\", \"ORACLE.run2_8\", \"ORACLE.run2_44\", \"ORACLE.run2_14\", \"ORACLE.run2_50\", \"ORACLE.run2_20\", \"ORACLE.run2_26\"]}, \"results\": {\"source_test_label_accuracy\": 0.9057291666666667, \"source_test_label_loss\": 0.2708427906036377, \"target_test_label_accuracy\": 0.87890625, \"target_test_label_loss\": 3.246788501739502, \"source_val_label_accuracy\": 0.90302734375, \"source_val_label_loss\": 0.347592830657959, \"target_val_label_accuracy\": 0.8797200520833334, \"target_val_label_loss\": 1.7163918018341064, \"total_epochs_trained\": 13, \"total_experiment_time_secs\": 2588.4980714321136, \"confusion\": {\"ORACLE.run1_26\": {\"0\": {\"10\": 53, \"0\": 109, \"8\": 30, \"4\": 15, \"14\": 32, \"7\": 1}, \"4\": {\"14\": 12, \"4\": 211, \"8\": 7, \"1\": 1, \"7\": 4, \"0\": 4, \"10\": 1}, \"14\": {\"14\": 179, \"0\": 29, \"1\": 7, \"4\": 19, \"10\": 5, \"8\": 1}, \"12\": {\"12\": 240}, \"8\": {\"8\": 148, \"14\": 7, \"0\": 21, \"4\": 15, \"10\": 24, \"7\": 22, \"15\": 3}, \"7\": {\"7\": 200, \"4\": 16, \"3\": 15, \"2\": 5, \"8\": 4}, \"13\": {\"13\": 215, \"5\": 19, \"15\": 3, \"9\": 1, \"2\": 2}, \"5\": {\"5\": 221, \"13\": 13, \"2\": 6}, \"15\": {\"15\": 208, \"9\": 16, \"6\": 10, \"2\": 1, \"13\": 1, \"8\": 1, \"7\": 1, \"5\": 1, \"10\": 1}, \"10\": {\"10\": 146, \"8\": 18, \"0\": 61, \"14\": 10, \"15\": 1, \"6\": 4}, \"3\": {\"3\": 196, \"2\": 33, \"7\": 11}, \"9\": {\"9\": 223, \"15\": 9, \"13\": 5, \"6\": 2, \"5\": 1}, \"6\": {\"6\": 226, \"9\": 6, \"10\": 3, \"15\": 5}, \"1\": {\"1\": 229, \"10\": 1, \"14\": 6, \"4\": 2, \"7\": 2}, \"11\": {\"11\": 240}, \"2\": {\"2\": 137, \"3\": 54, \"7\": 20, \"15\": 8, \"5\": 11, \"13\": 6, \"8\": 4}}, \"ORACLE.run1_44\": {\"1\": {\"1\": 202, \"3\": 8, \"12\": 18, \"10\": 8, \"7\": 1, \"2\": 3}, \"11\": {\"11\": 236, \"13\": 4}, \"3\": {\"3\": 235, \"1\": 4, \"12\": 1}, \"6\": {\"9\": 14, \"6\": 182, \"13\": 40, \"7\": 4}, \"7\": {\"7\": 191, \"2\": 11, \"9\": 36, \"6\": 2}, \"5\": {\"5\": 221, \"0\": 6, \"8\": 4, \"14\": 3, \"15\": 6}, \"2\": {\"2\": 219, \"10\": 4, \"7\": 15, \"1\": 2}, \"15\": {\"15\": 208, \"14\": 13, \"0\": 7, \"5\": 6, \"8\": 6}, \"10\": {\"10\": 218, \"2\": 8, \"1\": 13, \"12\": 1}, \"13\": {\"13\": 185, \"9\": 19, \"6\": 35, \"11\": 1}, \"8\": {\"0\": 69, \"15\": 4, \"8\": 164, \"5\": 3}, \"4\": {\"4\": 191, \"14\": 49}, \"9\": {\"13\": 30, \"6\": 17, \"9\": 136, \"7\": 57}, \"14\": {\"14\": 172, \"4\": 51, \"5\": 7, \"15\": 10}, \"0\": {\"0\": 179, \"15\": 6, \"8\": 49, \"5\": 6}, \"12\": {\"12\": 224, \"1\": 14, \"3\": 2}}, \"ORACLE.run1_50\": {\"15\": {\"15\": 230, \"6\": 1, \"1\": 6, \"4\": 3}, \"4\": {\"4\": 179, \"15\": 17, \"5\": 33, \"1\": 5, \"7\": 5, \"13\": 1}, \"6\": {\"6\": 222, \"4\": 2, \"7\": 3, \"13\": 7, \"15\": 5, \"5\": 1}, \"2\": {\"2\": 232, \"0\": 8}, \"5\": {\"5\": 181, \"7\": 12, \"1\": 11, \"4\": 24, \"13\": 10, \"6\": 2}, \"9\": {\"9\": 236, \"11\": 3, \"12\": 1}, \"8\": {\"8\": 237, \"3\": 2, \"10\": 1}, \"12\": {\"12\": 237, \"9\": 2, \"11\": 1}, \"10\": {\"10\": 236, \"0\": 3, \"13\": 1}, \"1\": {\"1\": 220, \"5\": 2, \"2\": 1, \"15\": 13, \"6\": 3, \"11\": 1}, \"0\": {\"0\": 219, \"2\": 15, \"10\": 6}, \"3\": {\"3\": 240}, \"13\": {\"13\": 227, \"6\": 3, \"10\": 2, \"5\": 5, \"7\": 3}, \"11\": {\"11\": 228, \"15\": 8, \"12\": 1, \"14\": 1, \"9\": 1, \"4\": 1}, \"7\": {\"6\": 7, \"7\": 218, \"5\": 8, \"13\": 4, \"4\": 2, \"8\": 1}, \"14\": {\"14\": 240}}, \"ORACLE.run1_38\": {\"15\": {\"15\": 231, \"8\": 5, \"1\": 3, \"5\": 1}, \"11\": {\"10\": 5, \"14\": 1, \"11\": 234}, \"10\": {\"10\": 226, \"8\": 1, \"13\": 11, \"14\": 1, \"0\": 1}, \"14\": {\"14\": 235, \"2\": 5}, \"6\": {\"6\": 239, \"9\": 1}, \"4\": {\"4\": 240}, \"13\": {\"13\": 225, \"0\": 5, \"2\": 4, \"8\": 2, \"10\": 3, \"15\": 1}, \"3\": {\"3\": 238, \"7\": 1, \"0\": 1}, \"7\": {\"7\": 218, \"5\": 12, \"8\": 6, \"0\": 4}, \"8\": {\"8\": 187, \"7\": 9, \"0\": 10, \"5\": 32, \"15\": 2}, \"1\": {\"1\": 239, \"15\": 1}, \"5\": {\"5\": 151, \"8\": 59, \"7\": 16, \"15\": 6, \"0\": 2, \"9\": 5, \"6\": 1}, \"0\": {\"0\": 218, \"3\": 5, \"8\": 9, \"5\": 1, \"7\": 7}, \"2\": {\"2\": 234, \"14\": 2, \"13\": 4}, \"12\": {\"12\": 240}, \"9\": {\"9\": 238, \"6\": 2}}, \"ORACLE.run1_20\": {\"10\": {\"10\": 239, \"14\": 1}, \"7\": {\"7\": 231, \"2\": 9}, \"4\": {\"4\": 240}, \"13\": {\"13\": 239, \"2\": 1}, \"1\": {\"1\": 210, \"12\": 25, \"15\": 4, \"3\": 1}, \"0\": {\"0\": 211, \"15\": 13, \"5\": 15, \"13\": 1}, \"12\": {\"3\": 19, \"12\": 187, \"9\": 5, \"1\": 24, \"2\": 4, \"5\": 1}, \"5\": {\"15\": 7, \"5\": 226, \"12\": 1, \"0\": 5, \"1\": 1}, \"6\": {\"6\": 232, \"14\": 8}, \"2\": {\"12\": 10, \"2\": 192, \"7\": 13, \"9\": 16, \"13\": 4, \"1\": 2, \"3\": 3}, \"8\": {\"8\": 236, \"7\": 2, \"4\": 2}, \"11\": {\"11\": 240}, \"9\": {\"9\": 213, \"3\": 8, \"2\": 13, \"12\": 6}, \"14\": {\"14\": 230, \"6\": 10}, \"15\": {\"15\": 228, \"1\": 5, \"5\": 5, \"0\": 2}, \"3\": {\"3\": 192, \"9\": 11, \"12\": 27, \"2\": 8, \"10\": 1, \"4\": 1}}, \"ORACLE.run1_14\": {\"14\": {\"14\": 220, \"13\": 1, \"2\": 14, \"6\": 5}, \"0\": {\"0\": 239, \"10\": 1}, \"4\": {\"4\": 231, \"5\": 9}, \"11\": {\"11\": 237, \"9\": 2, \"0\": 1}, \"13\": {\"13\": 160, \"6\": 68, \"2\": 3, \"5\": 3, \"4\": 3, \"0\": 1, \"14\": 1, \"12\": 1}, \"9\": {\"9\": 240}, \"3\": {\"3\": 237, \"4\": 2, \"2\": 1}, \"6\": {\"6\": 211, \"13\": 27, \"14\": 2}, \"1\": {\"1\": 237, \"5\": 3}, \"5\": {\"5\": 223, \"4\": 9, \"1\": 6, \"2\": 2}, \"12\": {\"12\": 240}, \"10\": {\"10\": 240}, \"8\": {\"8\": 240}, \"7\": {\"7\": 240}, \"15\": {\"15\": 240}, \"2\": {\"2\": 175, \"6\": 16, \"14\": 29, \"5\": 15, \"3\": 5}}, \"ORACLE.run1_32\": {\"11\": {\"11\": 237, \"14\": 3}, \"1\": {\"1\": 240}, \"2\": {\"2\": 212, \"4\": 27, \"7\": 1}, \"0\": {\"0\": 217, \"8\": 11, \"14\": 9, \"5\": 2, \"7\": 1}, \"3\": {\"3\": 239, \"13\": 1}, \"8\": {\"3\": 2, \"8\": 225, \"0\": 11, \"14\": 1, \"13\": 1}, \"12\": {\"12\": 240}, \"5\": {\"5\": 167, \"7\": 53, \"0\": 2, \"13\": 9, \"3\": 4, \"4\": 3, \"8\": 1, \"14\": 1}, \"15\": {\"15\": 239, \"8\": 1}, \"7\": {\"7\": 188, \"5\": 45, \"4\": 4, \"14\": 2, \"11\": 1}, \"4\": {\"2\": 28, \"4\": 198, \"7\": 4, \"13\": 5, \"5\": 5}, \"14\": {\"14\": 205, \"0\": 16, \"11\": 13, \"7\": 2, \"5\": 2, \"13\": 2}, \"10\": {\"10\": 240}, \"6\": {\"6\": 240}, \"13\": {\"13\": 216, \"3\": 10, \"8\": 2, \"5\": 5, \"4\": 6, \"7\": 1}, \"9\": {\"9\": 240}}, \"ORACLE.run1_8\": {\"9\": {\"9\": 240}, \"11\": {\"11\": 235, \"1\": 5}, \"8\": {\"8\": 238, \"15\": 2}, \"4\": {\"4\": 224, \"6\": 5, \"14\": 4, \"13\": 7}, \"13\": {\"13\": 173, \"4\": 21, \"10\": 14, \"14\": 2, \"0\": 22, \"6\": 8}, \"14\": {\"14\": 218, \"10\": 11, \"1\": 3, \"5\": 2, \"4\": 6}, \"2\": {\"2\": 237, \"3\": 1, \"7\": 2}, \"3\": {\"3\": 237, \"12\": 3}, \"1\": {\"1\": 239, \"14\": 1}, \"0\": {\"13\": 13, \"0\": 223, \"7\": 3, \"10\": 1}, \"5\": {\"5\": 229, \"14\": 1, \"10\": 4, \"1\": 6}, \"15\": {\"15\": 234, \"12\": 6}, \"10\": {\"10\": 229, \"13\": 6, \"14\": 5}, \"12\": {\"12\": 202, \"15\": 34, \"3\": 3, \"8\": 1}, \"6\": {\"6\": 207, \"4\": 6, \"13\": 4, \"7\": 23}, \"7\": {\"7\": 211, \"6\": 28, \"9\": 1}}, \"ORACLE.run2_26\": {\"0\": {\"0\": 96, \"14\": 55, \"10\": 51, \"8\": 22, \"4\": 11, \"15\": 2, \"1\": 2, \"7\": 1}, \"4\": {\"4\": 214, \"7\": 4, \"0\": 5, \"8\": 9, \"2\": 3, \"10\": 2, \"14\": 2, \"3\": 1}, \"14\": {\"0\": 38, \"8\": 9, \"14\": 170, \"10\": 14, \"1\": 8, \"4\": 1}, \"12\": {\"12\": 240}, \"8\": {\"8\": 183, \"14\": 9, \"10\": 12, \"0\": 10, \"4\": 4, \"7\": 11, \"2\": 8, \"15\": 2, \"5\": 1}, \"7\": {\"2\": 60, \"7\": 139, \"4\": 13, \"15\": 8, \"3\": 9, \"8\": 8, \"13\": 2, \"5\": 1}, \"13\": {\"13\": 222, \"5\": 16, \"9\": 1, \"7\": 1}, \"5\": {\"5\": 167, \"13\": 53, \"2\": 8, \"7\": 4, \"3\": 2, \"9\": 3, \"6\": 3}, \"15\": {\"15\": 206, \"2\": 12, \"3\": 4, \"7\": 14, \"8\": 1, \"9\": 2, \"0\": 1}, \"10\": {\"4\": 5, \"8\": 20, \"6\": 7, \"10\": 119, \"14\": 18, \"0\": 67, \"1\": 1, \"15\": 2, \"2\": 1}, \"3\": {\"3\": 222, \"2\": 14, \"7\": 4}, \"9\": {\"9\": 234, \"6\": 2, \"5\": 2, \"13\": 2}, \"6\": {\"6\": 230, \"9\": 7, \"10\": 3}, \"1\": {\"1\": 224, \"14\": 16}, \"11\": {\"11\": 240}, \"2\": {\"7\": 77, \"2\": 126, \"15\": 14, \"4\": 4, \"3\": 12, \"8\": 5, \"5\": 2}}, \"ORACLE.run2_44\": {\"1\": {\"1\": 196, \"12\": 33, \"3\": 10, \"2\": 1}, \"11\": {\"11\": 232, \"13\": 7, \"6\": 1}, \"3\": {\"3\": 229, \"12\": 9, \"1\": 2}, \"6\": {\"6\": 233, \"13\": 3, \"9\": 3, \"7\": 1}, \"7\": {\"2\": 21, \"9\": 84, \"7\": 135}, \"5\": {\"5\": 228, \"14\": 11, \"8\": 1}, \"2\": {\"2\": 220, \"9\": 13, \"7\": 7}, \"15\": {\"15\": 217, \"14\": 19, \"4\": 3, \"8\": 1}, \"10\": {\"10\": 240}, \"13\": {\"13\": 239, \"6\": 1}, \"8\": {\"0\": 79, \"8\": 158, \"5\": 3}, \"4\": {\"4\": 231, \"13\": 1, \"14\": 7, \"15\": 1}, \"9\": {\"7\": 70, \"9\": 144, \"6\": 4, \"2\": 22}, \"14\": {\"14\": 199, \"5\": 14, \"4\": 13, \"15\": 14}, \"0\": {\"0\": 150, \"8\": 90}, \"12\": {\"12\": 199, \"1\": 31, \"3\": 10}}, \"ORACLE.run2_50\": {\"15\": {\"15\": 234, \"11\": 3, \"1\": 2, \"6\": 1}, \"4\": {\"4\": 169, \"5\": 64, \"1\": 2, \"6\": 4, \"7\": 1}, \"6\": {\"6\": 233, \"4\": 4, \"1\": 2, \"15\": 1}, \"2\": {\"2\": 235, \"0\": 5}, \"5\": {\"7\": 5, \"5\": 130, \"4\": 87, \"13\": 4, \"6\": 12, \"0\": 1, \"10\": 1}, \"9\": {\"9\": 240}, \"8\": {\"8\": 240}, \"12\": {\"12\": 240}, \"10\": {\"10\": 213, \"13\": 25, \"0\": 2}, \"1\": {\"1\": 231, \"15\": 2, \"4\": 2, \"6\": 5}, \"0\": {\"0\": 232, \"2\": 8}, \"3\": {\"3\": 238, \"8\": 2}, \"13\": {\"5\": 6, \"10\": 42, \"13\": 189, \"7\": 3}, \"11\": {\"11\": 237, \"15\": 2, \"12\": 1}, \"7\": {\"7\": 224, \"13\": 4, \"6\": 3, \"5\": 8, \"4\": 1}, \"14\": {\"14\": 240}}, \"ORACLE.run2_38\": {\"15\": {\"15\": 194, \"5\": 17, \"1\": 22, \"8\": 6, \"0\": 1}, \"11\": {\"11\": 237, \"4\": 2, \"6\": 1}, \"10\": {\"10\": 198, \"7\": 37, \"8\": 2, \"13\": 1, \"0\": 1, \"3\": 1}, \"14\": {\"14\": 182, \"2\": 38, \"7\": 10, \"8\": 4, \"12\": 4, \"10\": 2}, \"6\": {\"6\": 231, \"9\": 9}, \"4\": {\"4\": 240}, \"13\": {\"13\": 177, \"3\": 58, \"10\": 3, \"7\": 1, \"8\": 1}, \"3\": {\"3\": 161, \"0\": 21, \"8\": 4, \"10\": 4, \"13\": 48, \"9\": 1, \"7\": 1}, \"7\": {\"7\": 171, \"8\": 17, \"10\": 30, \"5\": 22}, \"8\": {\"8\": 183, \"7\": 8, \"5\": 47, \"1\": 1, \"14\": 1}, \"1\": {\"1\": 229, \"15\": 9, \"8\": 1, \"5\": 1}, \"5\": {\"8\": 50, \"5\": 172, \"7\": 12, \"15\": 5, \"10\": 1}, \"0\": {\"0\": 231, \"3\": 4, \"7\": 5}, \"2\": {\"2\": 229, \"14\": 11}, \"12\": {\"12\": 240}, \"9\": {\"9\": 236, \"6\": 4}}, \"ORACLE.run2_20\": {\"10\": {\"10\": 240}, \"7\": {\"7\": 237, \"5\": 3}, \"4\": {\"4\": 240}, \"13\": {\"13\": 219, \"15\": 18, \"5\": 3}, \"1\": {\"12\": 44, \"1\": 189, \"15\": 5, \"9\": 1, \"2\": 1}, \"0\": {\"0\": 229, \"5\": 3, \"12\": 1, \"15\": 7}, \"12\": {\"12\": 175, \"1\": 46, \"2\": 7, \"5\": 4, \"9\": 6, \"15\": 1, \"3\": 1}, \"5\": {\"5\": 203, \"15\": 7, \"2\": 8, \"7\": 5, \"12\": 8, \"3\": 2, \"0\": 7}, \"6\": {\"6\": 239, \"14\": 1}, \"2\": {\"2\": 183, \"9\": 18, \"12\": 12, \"3\": 22, \"5\": 4, \"1\": 1}, \"8\": {\"8\": 222, \"14\": 12, \"6\": 2, \"7\": 4}, \"11\": {\"11\": 240}, \"9\": {\"9\": 210, \"2\": 11, \"1\": 4, \"3\": 8, \"12\": 7}, \"14\": {\"14\": 217, \"8\": 15, \"6\": 8}, \"15\": {\"15\": 206, \"13\": 20, \"5\": 5, \"1\": 4, \"0\": 2, \"12\": 1, \"2\": 2}, \"3\": {\"3\": 194, \"9\": 10, \"2\": 22, \"12\": 6, \"7\": 6, \"4\": 2}}, \"ORACLE.run2_14\": {\"14\": {\"14\": 191, \"2\": 46, \"6\": 2, \"5\": 1}, \"0\": {\"0\": 240}, \"4\": {\"4\": 232, \"5\": 7, \"2\": 1}, \"11\": {\"11\": 240}, \"13\": {\"13\": 201, \"6\": 38, \"14\": 1}, \"9\": {\"9\": 240}, \"3\": {\"3\": 235, \"2\": 5}, \"6\": {\"6\": 219, \"13\": 21}, \"1\": {\"1\": 239, \"4\": 1}, \"5\": {\"5\": 212, \"2\": 9, \"3\": 6, \"4\": 10, \"1\": 3}, \"12\": {\"12\": 135, \"9\": 43, \"11\": 40, \"0\": 13, \"4\": 6, \"8\": 1, \"15\": 2}, \"10\": {\"10\": 239, \"6\": 1}, \"8\": {\"8\": 240}, \"7\": {\"7\": 240}, \"15\": {\"15\": 238, \"13\": 2}, \"2\": {\"2\": 161, \"5\": 24, \"14\": 49, \"3\": 6}}, \"ORACLE.run2_32\": {\"11\": {\"11\": 215, \"7\": 11, \"4\": 3, \"0\": 9, \"13\": 2}, \"1\": {\"1\": 239, \"10\": 1}, \"2\": {\"2\": 226, \"4\": 6, \"7\": 2, \"5\": 6}, \"0\": {\"0\": 197, \"14\": 10, \"11\": 11, \"4\": 3, \"8\": 15, \"5\": 3, \"7\": 1}, \"3\": {\"3\": 238, \"11\": 1, \"8\": 1}, \"8\": {\"8\": 225, \"0\": 12, \"4\": 2, \"3\": 1}, \"12\": {\"12\": 240}, \"5\": {\"5\": 205, \"8\": 8, \"2\": 5, \"7\": 8, \"14\": 3, \"4\": 7, \"11\": 2, \"0\": 2}, \"15\": {\"15\": 240}, \"7\": {\"7\": 209, \"4\": 10, \"2\": 1, \"11\": 15, \"5\": 2, \"13\": 2, \"0\": 1}, \"4\": {\"4\": 185, \"13\": 41, \"7\": 7, \"8\": 2, \"5\": 1, \"11\": 2, \"2\": 1, \"0\": 1}, \"14\": {\"14\": 220, \"0\": 14, \"5\": 3, \"11\": 2, \"2\": 1}, \"10\": {\"10\": 240}, \"6\": {\"6\": 240}, \"13\": {\"13\": 194, \"4\": 40, \"8\": 1, \"11\": 1, \"3\": 4}, \"9\": {\"9\": 240}}, \"ORACLE.run2_8\": {\"9\": {\"9\": 240}, \"11\": {\"12\": 18, \"11\": 184, \"15\": 3, \"8\": 35}, \"8\": {\"8\": 239, \"15\": 1}, \"4\": {\"4\": 119, \"7\": 58, \"6\": 62, \"2\": 1}, \"13\": {\"13\": 224, \"1\": 10, \"14\": 4, \"10\": 2}, \"14\": {\"14\": 228, \"13\": 5, \"6\": 1, \"0\": 4, \"10\": 2}, \"2\": {\"2\": 235, \"7\": 3, \"4\": 2}, \"3\": {\"3\": 240}, \"1\": {\"1\": 240}, \"0\": {\"0\": 234, \"10\": 3, \"14\": 3}, \"5\": {\"5\": 221, \"10\": 19}, \"15\": {\"15\": 209, \"12\": 19, \"8\": 12}, \"10\": {\"10\": 213, \"0\": 12, \"5\": 13, \"14\": 2}, \"12\": {\"12\": 237, \"15\": 3}, \"6\": {\"6\": 166, \"4\": 60, \"7\": 13, \"14\": 1}, \"7\": {\"7\": 180, \"4\": 54, \"6\": 6}}}, \"per_domain_accuracy\": {\"ORACLE.run1_26\": {\"accuracy\": 0.8145833333333333, \"source?\": true}, \"ORACLE.run1_44\": {\"accuracy\": 0.8236979166666667, \"source?\": true}, \"ORACLE.run1_50\": {\"accuracy\": 0.9328125, \"source?\": true}, \"ORACLE.run1_38\": {\"accuracy\": 0.9356770833333333, \"source?\": true}, \"ORACLE.run1_20\": {\"accuracy\": 0.9234375, \"source?\": true}, \"ORACLE.run1_14\": {\"accuracy\": 0.9401041666666666, \"source?\": true}, \"ORACLE.run1_32\": {\"accuracy\": 0.92265625, \"source?\": true}, \"ORACLE.run1_8\": {\"accuracy\": 0.93125, \"source?\": true}, \"ORACLE.run2_26\": {\"accuracy\": 0.7895833333333333, \"source?\": false}, \"ORACLE.run2_44\": {\"accuracy\": 0.8463541666666666, \"source?\": false}, \"ORACLE.run2_50\": {\"accuracy\": 0.91796875, \"source?\": false}, \"ORACLE.run2_38\": {\"accuracy\": 0.8622395833333333, \"source?\": false}, \"ORACLE.run2_20\": {\"accuracy\": 0.8966145833333333, \"source?\": false}, \"ORACLE.run2_14\": {\"accuracy\": 0.9119791666666667, \"source?\": false}, \"ORACLE.run2_32\": {\"accuracy\": 0.9252604166666667, \"source?\": false}, \"ORACLE.run2_8\": {\"accuracy\": 0.8877604166666667, \"source?\": false}}}, \"history\": {\"epoch_indices\": [1, 2, 3, 4, 5, 6, 7, 8, 9, 10, 11, 12, 13], \"train_label_loss\": [0.7676461587393922, 0.7406607760415812, 0.44302708289081544, 0.36758631899914085, 0.32430232474615056, 0.29321146788106056, 0.2750259125495047, 0.2574541154136005, 0.2444233281839323, 0.23924569428988132, 0.2240066869089441, 0.20497963982287773, 0.1949624929862607], \"source_val_label_loss\": [8.656149864196777, 0.525822103023529, 0.4422517418861389, 0.33787792921066284, 0.32575470209121704, 0.3574952185153961, 0.3583695888519287, 0.31895047426223755, 0.347592830657959, 0.3056548237800598, 0.28706103563308716, 0.37741243839263916, 0.3525250554084778], \"target_val_label_loss\": [12.089131355285645, 0.6202600002288818, 0.6545572280883789, 0.4806517958641052, 0.4759790599346161, 0.5938958525657654, 0.9459784030914307, 1.0002844333648682, 1.7163918018341064, 0.9950578808784485, 1.5524659156799316, 2.2658772468566895, 1.9037400484085083], \"source_val_acc_label\": [0.7740234375, 0.8113606770833334, 0.83935546875, 0.8794921875, 0.884375, 0.8731770833333333, 0.8942708333333333, 0.8959309895833333, 0.90302734375, 0.89345703125, 0.8982096354166667, 0.9016276041666667, 0.8977864583333334], \"target_val_acc_label\": [0.7564127604166667, 0.7926432291666666, 0.8221028645833334, 0.8648111979166667, 0.8674153645833333, 0.8527018229166666, 0.8735026041666667, 0.87333984375, 0.8797200520833334, 0.8701822916666667, 0.8711588541666667, 0.8763346354166667, 0.8708333333333333]}, \"dataset_metrics\": {\"source\": {\"train\": {\"n_unique_x\": 179200, \"n_unique_y\": 16, \"n_batch/episode\": 6720}, \"val\": {\"n_unique_x\": 38400, \"n_unique_y\": 16, \"n_batch/episode\": 960}, \"test\": {\"n_unique_x\": 38400, \"n_unique_y\": 16, \"n_batch/episode\": 960}}, \"target\": {\"train\": {\"n_unique_x\": 179200, \"n_unique_y\": 16, \"n_batch/episode\": 6720}, \"val\": {\"n_unique_x\": 38400, \"n_unique_y\": 16, \"n_batch/episode\": 960}, \"test\": {\"n_unique_x\": 38400, \"n_unique_y\": 16, \"n_batch/episode\": 960}}}}'"
      ]
     },
     "execution_count": 29,
     "metadata": {},
     "output_type": "execute_result"
    }
   ],
   "source": [
    "json.dumps(experiment)"
   ]
  }
 ],
 "metadata": {
  "celltoolbar": "Tags",
  "kernelspec": {
   "display_name": "Python 3 (ipykernel)",
   "language": "python",
   "name": "python3"
  },
  "language_info": {
   "codemirror_mode": {
    "name": "ipython",
    "version": 3
   },
   "file_extension": ".py",
   "mimetype": "text/x-python",
   "name": "python",
   "nbconvert_exporter": "python",
   "pygments_lexer": "ipython3",
   "version": "3.8.12"
  },
  "papermill": {
   "default_parameters": {},
   "duration": 2805.148707,
   "end_time": "2022-03-22T00:15:17.276796",
   "environment_variables": {},
   "exception": null,
   "input_path": "/root/csc500-main/csc500-notebooks/templates/tl_ptn_template.ipynb",
   "output_path": "trial.ipynb",
   "parameters": {
    "parameters": {
     "BEST_MODEL_PATH": "./best_model.pth",
     "NUM_LOGS_PER_EPOCH": 10,
     "criteria_for_best": "target_accuracy",
     "dataset_seed": 7,
     "datasets": [
      {
       "domain_prefix": "ORACLE.run1_",
       "domains": [
        32,
        38,
        8,
        44,
        14,
        50,
        20,
        26
       ],
       "episode_transforms": [],
       "labels": [
        "3123D52",
        "3123D65",
        "3123D79",
        "3123D80",
        "3123D54",
        "3123D70",
        "3123D7B",
        "3123D89",
        "3123D58",
        "3123D76",
        "3123D7D",
        "3123EFE",
        "3123D64",
        "3123D78",
        "3123D7E",
        "3124E4A"
       ],
       "num_examples_per_domain_per_label": 2000,
       "pickle_path": "/root/csc500-main/datasets/oracle.Run1_framed_2000Examples_stratified_ds.2022A.pkl",
       "source_or_target_dataset": "source",
       "x_transforms": [
        "unit_mag"
       ]
      },
      {
       "domain_prefix": "ORACLE.run2_",
       "domains": [
        32,
        38,
        8,
        44,
        14,
        50,
        20,
        26
       ],
       "episode_transforms": [],
       "labels": [
        "3123D52",
        "3123D65",
        "3123D79",
        "3123D80",
        "3123D54",
        "3123D70",
        "3123D7B",
        "3123D89",
        "3123D58",
        "3123D76",
        "3123D7D",
        "3123EFE",
        "3123D64",
        "3123D78",
        "3123D7E",
        "3124E4A"
       ],
       "num_examples_per_domain_per_label": 2000,
       "pickle_path": "/root/csc500-main/datasets/oracle.Run2_framed_2000Examples_stratified_ds.2022A.pkl",
       "source_or_target_dataset": "target",
       "x_transforms": [
        "unit_mag"
       ]
      }
     ],
     "device": "cuda",
     "experiment_name": "tl_1v2:oracle.run1.framed-oracle.run2.framed",
     "lr": 0.0001,
     "n_epoch": 50,
     "n_query": 2,
     "n_shot": 3,
     "n_way": 16,
     "patience": 3,
     "seed": 7,
     "test_k_factor": 2,
     "torch_default_dtype": "torch.float32",
     "train_k_factor": 3,
     "val_k_factor": 2,
     "x_net": [
      {
       "class": "nnReshape",
       "kargs": {
        "shape": [
         -1,
         1,
         2,
         256
        ]
       }
      },
      {
       "class": "Conv2d",
       "kargs": {
        "bias": false,
        "in_channels": 1,
        "kernel_size": [
         1,
         7
        ],
        "out_channels": 256,
        "padding": [
         0,
         3
        ]
       }
      },
      {
       "class": "ReLU",
       "kargs": {
        "inplace": true
       }
      },
      {
       "class": "BatchNorm2d",
       "kargs": {
        "num_features": 256
       }
      },
      {
       "class": "Conv2d",
       "kargs": {
        "bias": true,
        "in_channels": 256,
        "kernel_size": [
         2,
         7
        ],
        "out_channels": 80,
        "padding": [
         0,
         3
        ]
       }
      },
      {
       "class": "ReLU",
       "kargs": {
        "inplace": true
       }
      },
      {
       "class": "BatchNorm2d",
       "kargs": {
        "num_features": 80
       }
      },
      {
       "class": "Flatten",
       "kargs": {}
      },
      {
       "class": "Linear",
       "kargs": {
        "in_features": 20480,
        "out_features": 256
       }
      },
      {
       "class": "ReLU",
       "kargs": {
        "inplace": true
       }
      },
      {
       "class": "BatchNorm1d",
       "kargs": {
        "num_features": 256
       }
      },
      {
       "class": "Linear",
       "kargs": {
        "in_features": 256,
        "out_features": 256
       }
      }
     ]
    }
   },
   "start_time": "2022-03-21T23:28:32.128089",
   "version": "2.3.4"
  }
 },
 "nbformat": 4,
 "nbformat_minor": 5
}