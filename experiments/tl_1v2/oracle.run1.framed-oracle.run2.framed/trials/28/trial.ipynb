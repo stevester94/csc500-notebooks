{
 "cells": [
  {
   "cell_type": "markdown",
   "id": "9fea5f46",
   "metadata": {
    "papermill": {
     "duration": 0.025672,
     "end_time": "2022-03-22T09:45:24.883729",
     "exception": false,
     "start_time": "2022-03-22T09:45:24.858057",
     "status": "completed"
    },
    "tags": []
   },
   "source": [
    "# Transfer Learning Template"
   ]
  },
  {
   "cell_type": "code",
   "execution_count": 1,
   "id": "0902182a",
   "metadata": {
    "execution": {
     "iopub.execute_input": "2022-03-22T09:45:24.946627Z",
     "iopub.status.busy": "2022-03-22T09:45:24.945789Z",
     "iopub.status.idle": "2022-03-22T09:45:26.833002Z",
     "shell.execute_reply": "2022-03-22T09:45:26.832232Z"
    },
    "papermill": {
     "duration": 1.930248,
     "end_time": "2022-03-22T09:45:26.833219",
     "exception": false,
     "start_time": "2022-03-22T09:45:24.902971",
     "status": "completed"
    },
    "tags": []
   },
   "outputs": [],
   "source": [
    "%load_ext autoreload\n",
    "%autoreload 2\n",
    "%matplotlib inline\n",
    "\n",
    "    \n",
    "import os, json, sys, time, random\n",
    "import numpy as np\n",
    "import torch\n",
    "from torch.optim import Adam\n",
    "from  easydict import EasyDict\n",
    "import matplotlib.pyplot as plt\n",
    "\n",
    "from steves_models.steves_ptn import Steves_Prototypical_Network\n",
    "\n",
    "from steves_utils.lazy_iterable_wrapper import Lazy_Iterable_Wrapper\n",
    "from steves_utils.iterable_aggregator import Iterable_Aggregator\n",
    "from steves_utils.ptn_train_eval_test_jig import  PTN_Train_Eval_Test_Jig\n",
    "from steves_utils.torch_sequential_builder import build_sequential\n",
    "from steves_utils.torch_utils import get_dataset_metrics, ptn_confusion_by_domain_over_dataloader\n",
    "from steves_utils.utils_v2 import (per_domain_accuracy_from_confusion, get_datasets_base_path)\n",
    "from steves_utils.PTN.utils import independent_accuracy_assesment\n",
    "\n",
    "from torch.utils.data import DataLoader\n",
    "\n",
    "from steves_utils.stratified_dataset.episodic_accessor import Episodic_Accessor_Factory\n",
    "\n",
    "from steves_utils.ptn_do_report import (\n",
    "    get_loss_curve,\n",
    "    get_results_table,\n",
    "    get_parameters_table,\n",
    "    get_domain_accuracies,\n",
    ")\n",
    "\n",
    "from steves_utils.transforms import get_chained_transform"
   ]
  },
  {
   "cell_type": "markdown",
   "id": "41c840b4",
   "metadata": {
    "papermill": {
     "duration": 0.021513,
     "end_time": "2022-03-22T09:45:26.880270",
     "exception": false,
     "start_time": "2022-03-22T09:45:26.858757",
     "status": "completed"
    },
    "tags": []
   },
   "source": [
    "# Allowed Parameters\n",
    "These are allowed parameters, not defaults\n",
    "Each of these values need to be present in the injected parameters (the notebook will raise an exception if they are not present)\n",
    "\n",
    "Papermill uses the cell tag \"parameters\" to inject the real parameters below this cell.\n",
    "Enable tags to see what I mean"
   ]
  },
  {
   "cell_type": "code",
   "execution_count": 2,
   "id": "fd44eb83",
   "metadata": {
    "execution": {
     "iopub.execute_input": "2022-03-22T09:45:26.926778Z",
     "iopub.status.busy": "2022-03-22T09:45:26.926338Z",
     "iopub.status.idle": "2022-03-22T09:45:26.945485Z",
     "shell.execute_reply": "2022-03-22T09:45:26.946083Z"
    },
    "papermill": {
     "duration": 0.044456,
     "end_time": "2022-03-22T09:45:26.946273",
     "exception": false,
     "start_time": "2022-03-22T09:45:26.901817",
     "status": "completed"
    },
    "tags": []
   },
   "outputs": [],
   "source": [
    "required_parameters = {\n",
    "    \"experiment_name\",\n",
    "    \"lr\",\n",
    "    \"device\",\n",
    "    \"seed\",\n",
    "    \"dataset_seed\",\n",
    "    \"n_shot\",\n",
    "    \"n_query\",\n",
    "    \"n_way\",\n",
    "    \"train_k_factor\",\n",
    "    \"val_k_factor\",\n",
    "    \"test_k_factor\",\n",
    "    \"n_epoch\",\n",
    "    \"patience\",\n",
    "    \"criteria_for_best\",\n",
    "    \"x_net\",\n",
    "    \"datasets\",\n",
    "    \"torch_default_dtype\",\n",
    "    \"NUM_LOGS_PER_EPOCH\",\n",
    "    \"BEST_MODEL_PATH\",\n",
    "    \"x_shape\",\n",
    "}"
   ]
  },
  {
   "cell_type": "code",
   "execution_count": 3,
   "id": "fa3f0049",
   "metadata": {
    "execution": {
     "iopub.execute_input": "2022-03-22T09:45:27.004750Z",
     "iopub.status.busy": "2022-03-22T09:45:27.004218Z",
     "iopub.status.idle": "2022-03-22T09:45:27.023747Z",
     "shell.execute_reply": "2022-03-22T09:45:27.023006Z"
    },
    "papermill": {
     "duration": 0.050356,
     "end_time": "2022-03-22T09:45:27.023906",
     "exception": false,
     "start_time": "2022-03-22T09:45:26.973550",
     "status": "completed"
    },
    "tags": [
     "parameters"
    ]
   },
   "outputs": [],
   "source": [
    "from steves_utils.CORES.utils import (\n",
    "    ALL_NODES,\n",
    "    ALL_NODES_MINIMUM_1000_EXAMPLES,\n",
    "    ALL_DAYS\n",
    ")\n",
    "\n",
    "from steves_utils.ORACLE.utils_v2 import (\n",
    "    ALL_DISTANCES_FEET_NARROWED,\n",
    "    ALL_RUNS,\n",
    "    ALL_SERIAL_NUMBERS,\n",
    ")\n",
    "\n",
    "standalone_parameters = {}\n",
    "standalone_parameters[\"experiment_name\"] = \"STANDALONE PTN\"\n",
    "standalone_parameters[\"lr\"] = 0.001\n",
    "standalone_parameters[\"device\"] = \"cuda\"\n",
    "\n",
    "standalone_parameters[\"seed\"] = 1337\n",
    "standalone_parameters[\"dataset_seed\"] = 1337\n",
    "\n",
    "standalone_parameters[\"n_way\"] = 8\n",
    "standalone_parameters[\"n_shot\"] = 3\n",
    "standalone_parameters[\"n_query\"]  = 2\n",
    "standalone_parameters[\"train_k_factor\"] = 1\n",
    "standalone_parameters[\"val_k_factor\"] = 2\n",
    "standalone_parameters[\"test_k_factor\"] = 2\n",
    "\n",
    "\n",
    "standalone_parameters[\"n_epoch\"] = 50\n",
    "\n",
    "standalone_parameters[\"patience\"] = 10\n",
    "standalone_parameters[\"criteria_for_best\"] = \"source_loss\"\n",
    "\n",
    "standalone_parameters[\"datasets\"] = [\n",
    "    {\n",
    "        \"labels\": ALL_SERIAL_NUMBERS,\n",
    "        \"domains\": ALL_DISTANCES_FEET_NARROWED,\n",
    "        \"num_examples_per_domain_per_label\": 100,\n",
    "        \"pickle_path\": os.path.join(get_datasets_base_path(), \"oracle.Run1_framed_2000Examples_stratified_ds.2022A.pkl\"),\n",
    "        \"source_or_target_dataset\": \"source\",\n",
    "        \"x_transforms\": [\"unit_mag\", \"minus_two\"],\n",
    "        \"episode_transforms\": [],\n",
    "        \"domain_prefix\": \"ORACLE_\"\n",
    "    },\n",
    "    {\n",
    "        \"labels\": ALL_NODES,\n",
    "        \"domains\": ALL_DAYS,\n",
    "        \"num_examples_per_domain_per_label\": 100,\n",
    "        \"pickle_path\": os.path.join(get_datasets_base_path(), \"cores.stratified_ds.2022A.pkl\"),\n",
    "        \"source_or_target_dataset\": \"target\",\n",
    "        \"x_transforms\": [\"unit_power\", \"times_zero\"],\n",
    "        \"episode_transforms\": [],\n",
    "        \"domain_prefix\": \"CORES_\"\n",
    "    }   \n",
    "]\n",
    "\n",
    "standalone_parameters[\"torch_default_dtype\"] = \"torch.float32\" \n",
    "\n",
    "\n",
    "\n",
    "standalone_parameters[\"x_net\"] =     [\n",
    "    {\"class\": \"nnReshape\", \"kargs\": {\"shape\":[-1, 1, 2, 256]}},\n",
    "    {\"class\": \"Conv2d\", \"kargs\": { \"in_channels\":1, \"out_channels\":256, \"kernel_size\":(1,7), \"bias\":False, \"padding\":(0,3), },},\n",
    "    {\"class\": \"ReLU\", \"kargs\": {\"inplace\": True}},\n",
    "    {\"class\": \"BatchNorm2d\", \"kargs\": {\"num_features\":256}},\n",
    "\n",
    "    {\"class\": \"Conv2d\", \"kargs\": { \"in_channels\":256, \"out_channels\":80, \"kernel_size\":(2,7), \"bias\":True, \"padding\":(0,3), },},\n",
    "    {\"class\": \"ReLU\", \"kargs\": {\"inplace\": True}},\n",
    "    {\"class\": \"BatchNorm2d\", \"kargs\": {\"num_features\":80}},\n",
    "    {\"class\": \"Flatten\", \"kargs\": {}},\n",
    "\n",
    "    {\"class\": \"Linear\", \"kargs\": {\"in_features\": 80*256, \"out_features\": 256}}, # 80 units per IQ pair\n",
    "    {\"class\": \"ReLU\", \"kargs\": {\"inplace\": True}},\n",
    "    {\"class\": \"BatchNorm1d\", \"kargs\": {\"num_features\":256}},\n",
    "\n",
    "    {\"class\": \"Linear\", \"kargs\": {\"in_features\": 256, \"out_features\": 256}},\n",
    "]\n",
    "\n",
    "# Parameters relevant to results\n",
    "# These parameters will basically never need to change\n",
    "standalone_parameters[\"NUM_LOGS_PER_EPOCH\"] = 10\n",
    "standalone_parameters[\"BEST_MODEL_PATH\"] = \"./best_model.pth\"\n",
    "\n",
    "\n",
    "\n",
    "\n"
   ]
  },
  {
   "cell_type": "code",
   "execution_count": 4,
   "id": "085697ef",
   "metadata": {
    "execution": {
     "iopub.execute_input": "2022-03-22T09:45:27.077638Z",
     "iopub.status.busy": "2022-03-22T09:45:27.077208Z",
     "iopub.status.idle": "2022-03-22T09:45:27.095257Z",
     "shell.execute_reply": "2022-03-22T09:45:27.095933Z"
    },
    "papermill": {
     "duration": 0.045804,
     "end_time": "2022-03-22T09:45:27.096144",
     "exception": false,
     "start_time": "2022-03-22T09:45:27.050340",
     "status": "completed"
    },
    "tags": [
     "injected-parameters"
    ]
   },
   "outputs": [],
   "source": [
    "# Parameters\n",
    "parameters = {\n",
    "    \"experiment_name\": \"tl_1v2:oracle.run1.framed-oracle.run2.framed\",\n",
    "    \"device\": \"cuda\",\n",
    "    \"lr\": 0.0001,\n",
    "    \"n_shot\": 3,\n",
    "    \"n_query\": 2,\n",
    "    \"train_k_factor\": 3,\n",
    "    \"val_k_factor\": 2,\n",
    "    \"test_k_factor\": 2,\n",
    "    \"torch_default_dtype\": \"torch.float32\",\n",
    "    \"n_epoch\": 50,\n",
    "    \"patience\": 3,\n",
    "    \"criteria_for_best\": \"target_accuracy\",\n",
    "    \"x_net\": [\n",
    "        {\"class\": \"nnReshape\", \"kargs\": {\"shape\": [-1, 1, 2, 256]}},\n",
    "        {\n",
    "            \"class\": \"Conv2d\",\n",
    "            \"kargs\": {\n",
    "                \"in_channels\": 1,\n",
    "                \"out_channels\": 256,\n",
    "                \"kernel_size\": [1, 7],\n",
    "                \"bias\": False,\n",
    "                \"padding\": [0, 3],\n",
    "            },\n",
    "        },\n",
    "        {\"class\": \"ReLU\", \"kargs\": {\"inplace\": True}},\n",
    "        {\"class\": \"BatchNorm2d\", \"kargs\": {\"num_features\": 256}},\n",
    "        {\n",
    "            \"class\": \"Conv2d\",\n",
    "            \"kargs\": {\n",
    "                \"in_channels\": 256,\n",
    "                \"out_channels\": 80,\n",
    "                \"kernel_size\": [2, 7],\n",
    "                \"bias\": True,\n",
    "                \"padding\": [0, 3],\n",
    "            },\n",
    "        },\n",
    "        {\"class\": \"ReLU\", \"kargs\": {\"inplace\": True}},\n",
    "        {\"class\": \"BatchNorm2d\", \"kargs\": {\"num_features\": 80}},\n",
    "        {\"class\": \"Flatten\", \"kargs\": {}},\n",
    "        {\"class\": \"Linear\", \"kargs\": {\"in_features\": 20480, \"out_features\": 256}},\n",
    "        {\"class\": \"ReLU\", \"kargs\": {\"inplace\": True}},\n",
    "        {\"class\": \"BatchNorm1d\", \"kargs\": {\"num_features\": 256}},\n",
    "        {\"class\": \"Linear\", \"kargs\": {\"in_features\": 256, \"out_features\": 256}},\n",
    "    ],\n",
    "    \"NUM_LOGS_PER_EPOCH\": 10,\n",
    "    \"BEST_MODEL_PATH\": \"./best_model.pth\",\n",
    "    \"n_way\": 16,\n",
    "    \"datasets\": [\n",
    "        {\n",
    "            \"labels\": [\n",
    "                \"3123D52\",\n",
    "                \"3123D65\",\n",
    "                \"3123D79\",\n",
    "                \"3123D80\",\n",
    "                \"3123D54\",\n",
    "                \"3123D70\",\n",
    "                \"3123D7B\",\n",
    "                \"3123D89\",\n",
    "                \"3123D58\",\n",
    "                \"3123D76\",\n",
    "                \"3123D7D\",\n",
    "                \"3123EFE\",\n",
    "                \"3123D64\",\n",
    "                \"3123D78\",\n",
    "                \"3123D7E\",\n",
    "                \"3124E4A\",\n",
    "            ],\n",
    "            \"domains\": [32, 38, 8, 44, 14, 50, 20, 26],\n",
    "            \"num_examples_per_domain_per_label\": 2000,\n",
    "            \"pickle_path\": \"/root/csc500-main/datasets/oracle.Run1_framed_2000Examples_stratified_ds.2022A.pkl\",\n",
    "            \"source_or_target_dataset\": \"target\",\n",
    "            \"x_transforms\": [\"unit_mag\"],\n",
    "            \"episode_transforms\": [],\n",
    "            \"domain_prefix\": \"ORACLE.run1_\",\n",
    "        },\n",
    "        {\n",
    "            \"labels\": [\n",
    "                \"3123D52\",\n",
    "                \"3123D65\",\n",
    "                \"3123D79\",\n",
    "                \"3123D80\",\n",
    "                \"3123D54\",\n",
    "                \"3123D70\",\n",
    "                \"3123D7B\",\n",
    "                \"3123D89\",\n",
    "                \"3123D58\",\n",
    "                \"3123D76\",\n",
    "                \"3123D7D\",\n",
    "                \"3123EFE\",\n",
    "                \"3123D64\",\n",
    "                \"3123D78\",\n",
    "                \"3123D7E\",\n",
    "                \"3124E4A\",\n",
    "            ],\n",
    "            \"domains\": [32, 38, 8, 44, 14, 50, 20, 26],\n",
    "            \"num_examples_per_domain_per_label\": 2000,\n",
    "            \"pickle_path\": \"/root/csc500-main/datasets/oracle.Run2_framed_2000Examples_stratified_ds.2022A.pkl\",\n",
    "            \"source_or_target_dataset\": \"source\",\n",
    "            \"x_transforms\": [\"unit_mag\"],\n",
    "            \"episode_transforms\": [],\n",
    "            \"domain_prefix\": \"ORACLE.run2_\",\n",
    "        },\n",
    "    ],\n",
    "    \"dataset_seed\": 500,\n",
    "    \"seed\": 500,\n",
    "}\n"
   ]
  },
  {
   "cell_type": "code",
   "execution_count": 5,
   "id": "8fa1cc33",
   "metadata": {
    "execution": {
     "iopub.execute_input": "2022-03-22T09:45:27.145609Z",
     "iopub.status.busy": "2022-03-22T09:45:27.145223Z",
     "iopub.status.idle": "2022-03-22T09:45:27.162975Z",
     "shell.execute_reply": "2022-03-22T09:45:27.162261Z"
    },
    "papermill": {
     "duration": 0.04056,
     "end_time": "2022-03-22T09:45:27.163144",
     "exception": false,
     "start_time": "2022-03-22T09:45:27.122584",
     "status": "completed"
    },
    "tags": []
   },
   "outputs": [],
   "source": [
    "# Set this to True if you want to run this template directly\n",
    "STANDALONE = False\n",
    "if STANDALONE:\n",
    "    print(\"parameters not injected, running with standalone_parameters\")\n",
    "    parameters = standalone_parameters\n",
    "\n",
    "if not 'parameters' in locals() and not 'parameters' in globals():\n",
    "    raise Exception(\"Parameter injection failed\")\n",
    "\n",
    "#Use an easy dict for all the parameters\n",
    "p = EasyDict(parameters)\n",
    "\n",
    "if \"x_shape\" not in p:\n",
    "    p.x_shape = [2,256] # Default to this if we dont supply x_shape\n",
    "\n",
    "\n",
    "supplied_keys = set(p.keys())\n",
    "\n",
    "if  supplied_keys != required_parameters:\n",
    "    print(\"Parameters are incorrect\")\n",
    "    if len(supplied_keys - required_parameters)>0: print(\"Shouldn't have:\", str(supplied_keys - required_parameters))\n",
    "    if len(required_parameters - supplied_keys)>0: print(\"Need to have:\", str(required_parameters - supplied_keys))\n",
    "    raise RuntimeError(\"Parameters are incorrect\")"
   ]
  },
  {
   "cell_type": "code",
   "execution_count": 6,
   "id": "3a028d58",
   "metadata": {
    "execution": {
     "iopub.execute_input": "2022-03-22T09:45:27.211026Z",
     "iopub.status.busy": "2022-03-22T09:45:27.210656Z",
     "iopub.status.idle": "2022-03-22T09:45:27.228312Z",
     "shell.execute_reply": "2022-03-22T09:45:27.227526Z"
    },
    "papermill": {
     "duration": 0.039778,
     "end_time": "2022-03-22T09:45:27.228485",
     "exception": false,
     "start_time": "2022-03-22T09:45:27.188707",
     "status": "completed"
    },
    "tags": []
   },
   "outputs": [],
   "source": [
    "###################################\n",
    "# Set the RNGs and make it all deterministic\n",
    "###################################\n",
    "np.random.seed(p.seed)\n",
    "random.seed(p.seed)\n",
    "torch.manual_seed(p.seed)\n",
    "\n",
    "torch.use_deterministic_algorithms(True) "
   ]
  },
  {
   "cell_type": "code",
   "execution_count": 7,
   "id": "b691acf6",
   "metadata": {
    "execution": {
     "iopub.execute_input": "2022-03-22T09:45:27.276458Z",
     "iopub.status.busy": "2022-03-22T09:45:27.276084Z",
     "iopub.status.idle": "2022-03-22T09:45:27.292771Z",
     "shell.execute_reply": "2022-03-22T09:45:27.292054Z"
    },
    "papermill": {
     "duration": 0.038052,
     "end_time": "2022-03-22T09:45:27.292940",
     "exception": false,
     "start_time": "2022-03-22T09:45:27.254888",
     "status": "completed"
    },
    "tags": []
   },
   "outputs": [],
   "source": [
    "###########################################\n",
    "# The stratified datasets honor this\n",
    "###########################################\n",
    "torch.set_default_dtype(eval(p.torch_default_dtype))"
   ]
  },
  {
   "cell_type": "code",
   "execution_count": 8,
   "id": "b5fba671",
   "metadata": {
    "execution": {
     "iopub.execute_input": "2022-03-22T09:45:27.341336Z",
     "iopub.status.busy": "2022-03-22T09:45:27.340633Z",
     "iopub.status.idle": "2022-03-22T09:45:27.391465Z",
     "shell.execute_reply": "2022-03-22T09:45:27.390741Z"
    },
    "papermill": {
     "duration": 0.072728,
     "end_time": "2022-03-22T09:45:27.391666",
     "exception": false,
     "start_time": "2022-03-22T09:45:27.318938",
     "status": "completed"
    },
    "tags": []
   },
   "outputs": [],
   "source": [
    "###################################\n",
    "# Build the network(s)\n",
    "# Note: It's critical to do this AFTER setting the RNG\n",
    "###################################\n",
    "x_net = build_sequential(p.x_net)"
   ]
  },
  {
   "cell_type": "code",
   "execution_count": 9,
   "id": "5d7e61cc",
   "metadata": {
    "execution": {
     "iopub.execute_input": "2022-03-22T09:45:27.441606Z",
     "iopub.status.busy": "2022-03-22T09:45:27.441232Z",
     "iopub.status.idle": "2022-03-22T09:45:27.463564Z",
     "shell.execute_reply": "2022-03-22T09:45:27.462817Z"
    },
    "papermill": {
     "duration": 0.045065,
     "end_time": "2022-03-22T09:45:27.463750",
     "exception": false,
     "start_time": "2022-03-22T09:45:27.418685",
     "status": "completed"
    },
    "tags": []
   },
   "outputs": [],
   "source": [
    "start_time_secs = time.time()"
   ]
  },
  {
   "cell_type": "code",
   "execution_count": 10,
   "id": "c6b67dfd",
   "metadata": {
    "execution": {
     "iopub.execute_input": "2022-03-22T09:45:27.511265Z",
     "iopub.status.busy": "2022-03-22T09:45:27.510894Z",
     "iopub.status.idle": "2022-03-22T09:45:27.527882Z",
     "shell.execute_reply": "2022-03-22T09:45:27.527139Z"
    },
    "papermill": {
     "duration": 0.039554,
     "end_time": "2022-03-22T09:45:27.528051",
     "exception": false,
     "start_time": "2022-03-22T09:45:27.488497",
     "status": "completed"
    },
    "tags": []
   },
   "outputs": [],
   "source": [
    "p.domains_source = []\n",
    "p.domains_target = []\n",
    "\n",
    "\n",
    "train_original_source = []\n",
    "val_original_source   = []\n",
    "test_original_source  = []\n",
    "\n",
    "train_original_target = []\n",
    "val_original_target   = []\n",
    "test_original_target  = []"
   ]
  },
  {
   "cell_type": "code",
   "execution_count": 11,
   "id": "e3d9c3d3",
   "metadata": {
    "execution": {
     "iopub.execute_input": "2022-03-22T09:45:27.582391Z",
     "iopub.status.busy": "2022-03-22T09:45:27.581933Z",
     "iopub.status.idle": "2022-03-22T09:45:27.598149Z",
     "shell.execute_reply": "2022-03-22T09:45:27.597568Z"
    },
    "papermill": {
     "duration": 0.042226,
     "end_time": "2022-03-22T09:45:27.598283",
     "exception": false,
     "start_time": "2022-03-22T09:45:27.556057",
     "status": "completed"
    },
    "tags": []
   },
   "outputs": [],
   "source": [
    "# global_x_transform_func = lambda x: normalize(x.to(torch.get_default_dtype()), \"unit_power\") # unit_power, unit_mag\n",
    "# global_x_transform_func = lambda x: normalize(x, \"unit_power\") # unit_power, unit_mag"
   ]
  },
  {
   "cell_type": "code",
   "execution_count": 12,
   "id": "acb78fd2",
   "metadata": {
    "execution": {
     "iopub.execute_input": "2022-03-22T09:45:27.650801Z",
     "iopub.status.busy": "2022-03-22T09:45:27.650158Z",
     "iopub.status.idle": "2022-03-22T09:45:27.669200Z",
     "shell.execute_reply": "2022-03-22T09:45:27.668449Z"
    },
    "papermill": {
     "duration": 0.047372,
     "end_time": "2022-03-22T09:45:27.669381",
     "exception": false,
     "start_time": "2022-03-22T09:45:27.622009",
     "status": "completed"
    },
    "tags": []
   },
   "outputs": [],
   "source": [
    "def add_dataset(\n",
    "    labels,\n",
    "    domains,\n",
    "    pickle_path,\n",
    "    x_transforms,\n",
    "    episode_transforms,\n",
    "    domain_prefix,\n",
    "    num_examples_per_domain_per_label,\n",
    "    source_or_target_dataset:str,\n",
    "    iterator_seed=p.seed,\n",
    "    dataset_seed=p.dataset_seed,\n",
    "    n_shot=p.n_shot,\n",
    "    n_way=p.n_way,\n",
    "    n_query=p.n_query,\n",
    "    train_val_test_k_factors=(p.train_k_factor,p.val_k_factor,p.test_k_factor),\n",
    "):\n",
    "   \n",
    "    if x_transforms == []: x_transform = None\n",
    "    else: x_transform = get_chained_transform(x_transforms)\n",
    "    \n",
    "    if episode_transforms == []: episode_transform = None\n",
    "    else: raise Exception(\"episode_transforms not implemented\")\n",
    "    \n",
    "    episode_transform = lambda tup, _prefix=domain_prefix: (_prefix + str(tup[0]), tup[1])\n",
    "\n",
    "\n",
    "    eaf = Episodic_Accessor_Factory(\n",
    "        labels=labels,\n",
    "        domains=domains,\n",
    "        num_examples_per_domain_per_label=num_examples_per_domain_per_label,\n",
    "        iterator_seed=iterator_seed,\n",
    "        dataset_seed=dataset_seed,\n",
    "        n_shot=n_shot,\n",
    "        n_way=n_way,\n",
    "        n_query=n_query,\n",
    "        train_val_test_k_factors=train_val_test_k_factors,\n",
    "        pickle_path=pickle_path,\n",
    "        x_transform_func=x_transform,\n",
    "    )\n",
    "\n",
    "    train, val, test = eaf.get_train(), eaf.get_val(), eaf.get_test()\n",
    "    train = Lazy_Iterable_Wrapper(train, episode_transform)\n",
    "    val = Lazy_Iterable_Wrapper(val, episode_transform)\n",
    "    test = Lazy_Iterable_Wrapper(test, episode_transform)\n",
    "\n",
    "    if source_or_target_dataset==\"source\":\n",
    "        train_original_source.append(train)\n",
    "        val_original_source.append(val)\n",
    "        test_original_source.append(test)\n",
    "\n",
    "        p.domains_source.extend(\n",
    "            [domain_prefix + str(u) for u in domains]\n",
    "        )\n",
    "    elif source_or_target_dataset==\"target\":\n",
    "        train_original_target.append(train)\n",
    "        val_original_target.append(val)\n",
    "        test_original_target.append(test)\n",
    "        p.domains_target.extend(\n",
    "            [domain_prefix + str(u) for u in domains]\n",
    "        )\n",
    "    else:\n",
    "        raise Exception(f\"invalid source_or_target_dataset: {source_or_target_dataset}\")\n",
    "    "
   ]
  },
  {
   "cell_type": "code",
   "execution_count": 13,
   "id": "fe266617",
   "metadata": {
    "execution": {
     "iopub.execute_input": "2022-03-22T09:45:27.725350Z",
     "iopub.status.busy": "2022-03-22T09:45:27.724875Z",
     "iopub.status.idle": "2022-03-22T09:46:10.820691Z",
     "shell.execute_reply": "2022-03-22T09:46:10.819958Z"
    },
    "papermill": {
     "duration": 43.120529,
     "end_time": "2022-03-22T09:46:10.820883",
     "exception": false,
     "start_time": "2022-03-22T09:45:27.700354",
     "status": "completed"
    },
    "tags": []
   },
   "outputs": [],
   "source": [
    "for ds in p.datasets:\n",
    "    add_dataset(**ds)"
   ]
  },
  {
   "cell_type": "code",
   "execution_count": 14,
   "id": "b90d65ac",
   "metadata": {
    "execution": {
     "iopub.execute_input": "2022-03-22T09:46:10.870051Z",
     "iopub.status.busy": "2022-03-22T09:46:10.869680Z",
     "iopub.status.idle": "2022-03-22T09:46:10.895465Z",
     "shell.execute_reply": "2022-03-22T09:46:10.894761Z"
    },
    "papermill": {
     "duration": 0.049612,
     "end_time": "2022-03-22T09:46:10.895639",
     "exception": false,
     "start_time": "2022-03-22T09:46:10.846027",
     "status": "completed"
    },
    "tags": []
   },
   "outputs": [],
   "source": [
    "# from steves_utils.CORES.utils import (\n",
    "#     ALL_NODES,\n",
    "#     ALL_NODES_MINIMUM_1000_EXAMPLES,\n",
    "#     ALL_DAYS\n",
    "# )\n",
    "\n",
    "# add_dataset(\n",
    "#     labels=ALL_NODES,\n",
    "#     domains = ALL_DAYS,\n",
    "#     num_examples_per_domain_per_label=100,\n",
    "#     pickle_path=os.path.join(get_datasets_base_path(), \"cores.stratified_ds.2022A.pkl\"),\n",
    "#     source_or_target_dataset=\"target\",\n",
    "#     x_transform_func=global_x_transform_func,\n",
    "#     domain_modifier=lambda u: f\"cores_{u}\"\n",
    "# )"
   ]
  },
  {
   "cell_type": "code",
   "execution_count": 15,
   "id": "76db484d",
   "metadata": {
    "execution": {
     "iopub.execute_input": "2022-03-22T09:46:10.945220Z",
     "iopub.status.busy": "2022-03-22T09:46:10.944853Z",
     "iopub.status.idle": "2022-03-22T09:46:10.964511Z",
     "shell.execute_reply": "2022-03-22T09:46:10.963816Z"
    },
    "papermill": {
     "duration": 0.041855,
     "end_time": "2022-03-22T09:46:10.964664",
     "exception": false,
     "start_time": "2022-03-22T09:46:10.922809",
     "status": "completed"
    },
    "tags": []
   },
   "outputs": [],
   "source": [
    "# from steves_utils.ORACLE.utils_v2 import (\n",
    "#     ALL_DISTANCES_FEET,\n",
    "#     ALL_RUNS,\n",
    "#     ALL_SERIAL_NUMBERS,\n",
    "# )\n",
    "\n",
    "\n",
    "# add_dataset(\n",
    "#     labels=ALL_SERIAL_NUMBERS,\n",
    "#     domains = list(set(ALL_DISTANCES_FEET) - {2,62}),\n",
    "#     num_examples_per_domain_per_label=100,\n",
    "#     pickle_path=os.path.join(get_datasets_base_path(), \"oracle.Run2_framed_2000Examples_stratified_ds.2022A.pkl\"),\n",
    "#     source_or_target_dataset=\"source\",\n",
    "#     x_transform_func=global_x_transform_func,\n",
    "#     domain_modifier=lambda u: f\"oracle1_{u}\"\n",
    "# )\n"
   ]
  },
  {
   "cell_type": "code",
   "execution_count": 16,
   "id": "97dea9d2",
   "metadata": {
    "execution": {
     "iopub.execute_input": "2022-03-22T09:46:11.015958Z",
     "iopub.status.busy": "2022-03-22T09:46:11.015590Z",
     "iopub.status.idle": "2022-03-22T09:46:11.032270Z",
     "shell.execute_reply": "2022-03-22T09:46:11.031566Z"
    },
    "papermill": {
     "duration": 0.039018,
     "end_time": "2022-03-22T09:46:11.032422",
     "exception": false,
     "start_time": "2022-03-22T09:46:10.993404",
     "status": "completed"
    },
    "tags": []
   },
   "outputs": [],
   "source": [
    "# from steves_utils.ORACLE.utils_v2 import (\n",
    "#     ALL_DISTANCES_FEET,\n",
    "#     ALL_RUNS,\n",
    "#     ALL_SERIAL_NUMBERS,\n",
    "# )\n",
    "\n",
    "\n",
    "# add_dataset(\n",
    "#     labels=ALL_SERIAL_NUMBERS,\n",
    "#     domains = list(set(ALL_DISTANCES_FEET) - {2,62,56}),\n",
    "#     num_examples_per_domain_per_label=100,\n",
    "#     pickle_path=os.path.join(get_datasets_base_path(), \"oracle.Run2_framed_2000Examples_stratified_ds.2022A.pkl\"),\n",
    "#     source_or_target_dataset=\"source\",\n",
    "#     x_transform_func=global_x_transform_func,\n",
    "#     domain_modifier=lambda u: f\"oracle2_{u}\"\n",
    "# )"
   ]
  },
  {
   "cell_type": "code",
   "execution_count": 17,
   "id": "6f289866",
   "metadata": {
    "execution": {
     "iopub.execute_input": "2022-03-22T09:46:11.082122Z",
     "iopub.status.busy": "2022-03-22T09:46:11.081758Z",
     "iopub.status.idle": "2022-03-22T09:46:11.101431Z",
     "shell.execute_reply": "2022-03-22T09:46:11.102095Z"
    },
    "papermill": {
     "duration": 0.042947,
     "end_time": "2022-03-22T09:46:11.102272",
     "exception": false,
     "start_time": "2022-03-22T09:46:11.059325",
     "status": "completed"
    },
    "tags": []
   },
   "outputs": [],
   "source": [
    "# add_dataset(\n",
    "#     labels=list(range(19)),\n",
    "#     domains = [0,1,2],\n",
    "#     num_examples_per_domain_per_label=100,\n",
    "#     pickle_path=os.path.join(get_datasets_base_path(), \"metehan.stratified_ds.2022A.pkl\"),\n",
    "#     source_or_target_dataset=\"target\",\n",
    "#     x_transform_func=global_x_transform_func,\n",
    "#     domain_modifier=lambda u: f\"met_{u}\"\n",
    "# )"
   ]
  },
  {
   "cell_type": "code",
   "execution_count": 18,
   "id": "86a863c3",
   "metadata": {
    "execution": {
     "iopub.execute_input": "2022-03-22T09:46:11.150533Z",
     "iopub.status.busy": "2022-03-22T09:46:11.150171Z",
     "iopub.status.idle": "2022-03-22T09:46:11.167122Z",
     "shell.execute_reply": "2022-03-22T09:46:11.166432Z"
    },
    "papermill": {
     "duration": 0.039279,
     "end_time": "2022-03-22T09:46:11.167273",
     "exception": false,
     "start_time": "2022-03-22T09:46:11.127994",
     "status": "completed"
    },
    "tags": []
   },
   "outputs": [],
   "source": [
    "# # from steves_utils.wisig.utils import (\n",
    "# #     ALL_NODES_MINIMUM_100_EXAMPLES,\n",
    "# #     ALL_NODES_MINIMUM_500_EXAMPLES,\n",
    "# #     ALL_NODES_MINIMUM_1000_EXAMPLES,\n",
    "# #     ALL_DAYS\n",
    "# # )\n",
    "\n",
    "# import steves_utils.wisig.utils as wisig\n",
    "\n",
    "\n",
    "# add_dataset(\n",
    "#     labels=wisig.ALL_NODES_MINIMUM_100_EXAMPLES,\n",
    "#     domains = wisig.ALL_DAYS,\n",
    "#     num_examples_per_domain_per_label=100,\n",
    "#     pickle_path=os.path.join(get_datasets_base_path(), \"wisig.node3-19.stratified_ds.2022A.pkl\"),\n",
    "#     source_or_target_dataset=\"target\",\n",
    "#     x_transform_func=global_x_transform_func,\n",
    "#     domain_modifier=lambda u: f\"wisig_{u}\"\n",
    "# )"
   ]
  },
  {
   "cell_type": "code",
   "execution_count": 19,
   "id": "fd5442bc",
   "metadata": {
    "execution": {
     "iopub.execute_input": "2022-03-22T09:46:11.223252Z",
     "iopub.status.busy": "2022-03-22T09:46:11.222877Z",
     "iopub.status.idle": "2022-03-22T09:46:11.243420Z",
     "shell.execute_reply": "2022-03-22T09:46:11.242689Z"
    },
    "papermill": {
     "duration": 0.048492,
     "end_time": "2022-03-22T09:46:11.243591",
     "exception": false,
     "start_time": "2022-03-22T09:46:11.195099",
     "status": "completed"
    },
    "tags": []
   },
   "outputs": [],
   "source": [
    "###################################\n",
    "# Build the dataset\n",
    "###################################\n",
    "train_original_source = Iterable_Aggregator(train_original_source, p.seed)\n",
    "val_original_source = Iterable_Aggregator(val_original_source, p.seed)\n",
    "test_original_source = Iterable_Aggregator(test_original_source, p.seed)\n",
    "\n",
    "\n",
    "train_original_target = Iterable_Aggregator(train_original_target, p.seed)\n",
    "val_original_target = Iterable_Aggregator(val_original_target, p.seed)\n",
    "test_original_target = Iterable_Aggregator(test_original_target, p.seed)\n",
    "\n",
    "# For CNN We only use X and Y. And we only train on the source.\n",
    "# Properly form the data using a transform lambda and Lazy_Iterable_Wrapper. Finally wrap them in a dataloader\n",
    "\n",
    "transform_lambda = lambda ex: ex[1] # Original is (<domain>, <episode>) so we strip down to episode only\n",
    "\n",
    "train_processed_source = Lazy_Iterable_Wrapper(train_original_source, transform_lambda)\n",
    "val_processed_source   = Lazy_Iterable_Wrapper(val_original_source, transform_lambda)\n",
    "test_processed_source  = Lazy_Iterable_Wrapper(test_original_source, transform_lambda)\n",
    "\n",
    "train_processed_target = Lazy_Iterable_Wrapper(train_original_target, transform_lambda)\n",
    "val_processed_target   = Lazy_Iterable_Wrapper(val_original_target, transform_lambda)\n",
    "test_processed_target  = Lazy_Iterable_Wrapper(test_original_target, transform_lambda)\n",
    "\n",
    "datasets = EasyDict({\n",
    "    \"source\": {\n",
    "        \"original\": {\"train\":train_original_source, \"val\":val_original_source, \"test\":test_original_source},\n",
    "        \"processed\": {\"train\":train_processed_source, \"val\":val_processed_source, \"test\":test_processed_source}\n",
    "    },\n",
    "    \"target\": {\n",
    "        \"original\": {\"train\":train_original_target, \"val\":val_original_target, \"test\":test_original_target},\n",
    "        \"processed\": {\"train\":train_processed_target, \"val\":val_processed_target, \"test\":test_processed_target}\n",
    "    },\n",
    "})"
   ]
  },
  {
   "cell_type": "code",
   "execution_count": 20,
   "id": "5b3c01fc",
   "metadata": {
    "execution": {
     "iopub.execute_input": "2022-03-22T09:46:11.293489Z",
     "iopub.status.busy": "2022-03-22T09:46:11.293127Z",
     "iopub.status.idle": "2022-03-22T09:46:26.110171Z",
     "shell.execute_reply": "2022-03-22T09:46:26.109431Z"
    },
    "papermill": {
     "duration": 14.841257,
     "end_time": "2022-03-22T09:46:26.110350",
     "exception": false,
     "start_time": "2022-03-22T09:46:11.269093",
     "status": "completed"
    },
    "tags": []
   },
   "outputs": [
    {
     "name": "stdout",
     "output_type": "stream",
     "text": [
      "{'ORACLE.run2_50', 'ORACLE.run2_14', 'ORACLE.run2_26', 'ORACLE.run2_8', 'ORACLE.run2_20', 'ORACLE.run2_44', 'ORACLE.run2_38', 'ORACLE.run2_32'}\n"
     ]
    },
    {
     "name": "stdout",
     "output_type": "stream",
     "text": [
      "{'ORACLE.run1_20', 'ORACLE.run1_26', 'ORACLE.run1_14', 'ORACLE.run1_8', 'ORACLE.run1_32', 'ORACLE.run1_38', 'ORACLE.run1_50', 'ORACLE.run1_44'}\n"
     ]
    },
    {
     "name": "stdout",
     "output_type": "stream",
     "text": [
      "tensor([[[ 0.1958,  0.2849, -0.9792,  ..., -0.4985,  1.3887,  0.7478],\n",
      "         [ 0.0000,  0.8902, -0.2671,  ..., -0.9080, -0.3205, -1.1573]],\n",
      "\n",
      "        [[-0.3377, -1.0132,  0.6222,  ...,  0.9599, -0.9066, -0.2666],\n",
      "         [-0.0178, -0.6399, -0.3377,  ...,  0.3911,  0.8533,  1.2621]],\n",
      "\n",
      "        [[ 0.0353, -0.3178, -0.4061,  ...,  0.3001,  0.9710,  0.6003],\n",
      "         [ 0.4237,  0.9887, -1.0240,  ..., -0.6532,  0.5826, -1.2358]],\n",
      "\n",
      "        ...,\n",
      "\n",
      "        [[ 1.1102,  0.5629, -1.1884,  ..., -0.4848,  0.2346, -1.3448],\n",
      "         [-0.4691,  0.5629,  0.5160,  ..., -0.8757, -1.2041, -0.3909]],\n",
      "\n",
      "        [[-0.1404,  0.7176,  0.1404,  ..., -1.0608, -0.5616, -0.9360],\n",
      "         [-1.0140, -0.4680,  1.3104,  ...,  0.2964, -1.0140,  0.5304]],\n",
      "\n",
      "        [[-0.2965, -1.0301,  0.1561,  ...,  1.0769,  0.9365,  1.0613],\n",
      "         [ 0.9365,  0.2185, -1.1862,  ..., -0.0156,  0.9989, -0.8896]]])\n"
     ]
    }
   ],
   "source": [
    "from steves_utils.transforms import get_average_magnitude, get_average_power\n",
    "\n",
    "print(set([u for u,_ in val_original_source]))\n",
    "print(set([u for u,_ in val_original_target]))\n",
    "\n",
    "s_x, s_y, q_x, q_y, _ = next(iter(train_processed_source))\n",
    "print(s_x)\n",
    "\n",
    "# for ds in [\n",
    "#     train_processed_source,\n",
    "#     val_processed_source,\n",
    "#     test_processed_source,\n",
    "#     train_processed_target,\n",
    "#     val_processed_target,\n",
    "#     test_processed_target\n",
    "# ]:\n",
    "#     for s_x, s_y, q_x, q_y, _ in ds:\n",
    "#         for X in (s_x, q_x):\n",
    "#             for x in X:\n",
    "#                 assert np.isclose(get_average_magnitude(x.numpy()), 1.0)\n",
    "#                 assert np.isclose(get_average_power(x.numpy()), 1.0)\n",
    "                "
   ]
  },
  {
   "cell_type": "code",
   "execution_count": 21,
   "id": "bbdacba1",
   "metadata": {
    "execution": {
     "iopub.execute_input": "2022-03-22T09:46:26.167026Z",
     "iopub.status.busy": "2022-03-22T09:46:26.166469Z",
     "iopub.status.idle": "2022-03-22T09:46:26.334392Z",
     "shell.execute_reply": "2022-03-22T09:46:26.333707Z"
    },
    "papermill": {
     "duration": 0.196092,
     "end_time": "2022-03-22T09:46:26.334565",
     "exception": false,
     "start_time": "2022-03-22T09:46:26.138473",
     "status": "completed"
    },
    "tags": []
   },
   "outputs": [
    {
     "name": "stdout",
     "output_type": "stream",
     "text": [
      "(2, 256)\n"
     ]
    }
   ],
   "source": [
    "###################################\n",
    "# Build the model\n",
    "###################################\n",
    "# easfsl only wants a tuple for the shape\n",
    "model = Steves_Prototypical_Network(x_net, device=p.device, x_shape=tuple(p.x_shape))\n",
    "optimizer = Adam(params=model.parameters(), lr=p.lr)"
   ]
  },
  {
   "cell_type": "code",
   "execution_count": 22,
   "id": "22b39ac5",
   "metadata": {
    "execution": {
     "iopub.execute_input": "2022-03-22T09:46:26.404271Z",
     "iopub.status.busy": "2022-03-22T09:46:26.403421Z",
     "iopub.status.idle": "2022-03-22T10:25:37.894088Z",
     "shell.execute_reply": "2022-03-22T10:25:37.893744Z"
    },
    "papermill": {
     "duration": 2351.530673,
     "end_time": "2022-03-22T10:25:37.894174",
     "exception": false,
     "start_time": "2022-03-22T09:46:26.363501",
     "status": "completed"
    },
    "tags": []
   },
   "outputs": [
    {
     "name": "stdout",
     "output_type": "stream",
     "text": [
      "epoch: 1, [batch: 1 / 6720], examples_per_second: 33.0660, train_label_loss: 2.8328, \n"
     ]
    },
    {
     "name": "stdout",
     "output_type": "stream",
     "text": [
      "epoch: 1, [batch: 672 / 6720], examples_per_second: 3930.5009, train_label_loss: 2.0302, \n"
     ]
    },
    {
     "name": "stdout",
     "output_type": "stream",
     "text": [
      "epoch: 1, [batch: 1344 / 6720], examples_per_second: 3907.4061, train_label_loss: 0.9689, \n"
     ]
    },
    {
     "name": "stdout",
     "output_type": "stream",
     "text": [
      "epoch: 1, [batch: 2016 / 6720], examples_per_second: 3954.5998, train_label_loss: 0.8486, \n"
     ]
    },
    {
     "name": "stdout",
     "output_type": "stream",
     "text": [
      "epoch: 1, [batch: 2688 / 6720], examples_per_second: 3912.7636, train_label_loss: 0.6796, \n"
     ]
    },
    {
     "name": "stdout",
     "output_type": "stream",
     "text": [
      "epoch: 1, [batch: 3360 / 6720], examples_per_second: 3804.8474, train_label_loss: 0.6580, \n"
     ]
    },
    {
     "name": "stdout",
     "output_type": "stream",
     "text": [
      "epoch: 1, [batch: 4032 / 6720], examples_per_second: 3795.6605, train_label_loss: 0.7858, \n"
     ]
    },
    {
     "name": "stdout",
     "output_type": "stream",
     "text": [
      "epoch: 1, [batch: 4704 / 6720], examples_per_second: 3884.5305, train_label_loss: 0.8785, \n"
     ]
    },
    {
     "name": "stdout",
     "output_type": "stream",
     "text": [
      "epoch: 1, [batch: 5376 / 6720], examples_per_second: 3978.8875, train_label_loss: 0.6816, \n"
     ]
    },
    {
     "name": "stdout",
     "output_type": "stream",
     "text": [
      "epoch: 1, [batch: 6048 / 6720], examples_per_second: 4195.3932, train_label_loss: 0.3751, \n"
     ]
    },
    {
     "name": "stdout",
     "output_type": "stream",
     "text": [
      "=============================================================\n",
      "epoch: 1, source_val_acc_label: 0.7094, target_val_acc_label: 0.7136, source_val_label_loss: 1.0711, target_val_label_loss: 1.1055, \n",
      "=============================================================\n"
     ]
    },
    {
     "name": "stdout",
     "output_type": "stream",
     "text": [
      "New best\n"
     ]
    },
    {
     "name": "stdout",
     "output_type": "stream",
     "text": [
      "epoch: 2, [batch: 1 / 6720], examples_per_second: 4.1517, train_label_loss: 1.4560, \n"
     ]
    },
    {
     "name": "stdout",
     "output_type": "stream",
     "text": [
      "epoch: 2, [batch: 672 / 6720], examples_per_second: 3850.1567, train_label_loss: 1.0004, \n"
     ]
    },
    {
     "name": "stdout",
     "output_type": "stream",
     "text": [
      "epoch: 2, [batch: 1344 / 6720], examples_per_second: 4025.3138, train_label_loss: 0.5410, \n"
     ]
    },
    {
     "name": "stdout",
     "output_type": "stream",
     "text": [
      "epoch: 2, [batch: 2016 / 6720], examples_per_second: 4026.0888, train_label_loss: 0.7008, \n"
     ]
    },
    {
     "name": "stdout",
     "output_type": "stream",
     "text": [
      "epoch: 2, [batch: 2688 / 6720], examples_per_second: 3993.9597, train_label_loss: 0.4586, \n"
     ]
    },
    {
     "name": "stdout",
     "output_type": "stream",
     "text": [
      "epoch: 2, [batch: 3360 / 6720], examples_per_second: 3920.9487, train_label_loss: 0.5939, \n"
     ]
    },
    {
     "name": "stdout",
     "output_type": "stream",
     "text": [
      "epoch: 2, [batch: 4032 / 6720], examples_per_second: 3919.3020, train_label_loss: 0.4972, \n"
     ]
    },
    {
     "name": "stdout",
     "output_type": "stream",
     "text": [
      "epoch: 2, [batch: 4704 / 6720], examples_per_second: 3924.2530, train_label_loss: 0.3153, \n"
     ]
    },
    {
     "name": "stdout",
     "output_type": "stream",
     "text": [
      "epoch: 2, [batch: 5376 / 6720], examples_per_second: 4091.6741, train_label_loss: 0.4821, \n"
     ]
    },
    {
     "name": "stdout",
     "output_type": "stream",
     "text": [
      "epoch: 2, [batch: 6048 / 6720], examples_per_second: 4451.0615, train_label_loss: 0.4648, \n"
     ]
    },
    {
     "name": "stdout",
     "output_type": "stream",
     "text": [
      "=============================================================\n",
      "epoch: 2, source_val_acc_label: 0.8419, target_val_acc_label: 0.8458, source_val_label_loss: 0.4454, target_val_label_loss: 0.4358, \n",
      "=============================================================\n"
     ]
    },
    {
     "name": "stdout",
     "output_type": "stream",
     "text": [
      "New best\n"
     ]
    },
    {
     "name": "stdout",
     "output_type": "stream",
     "text": [
      "epoch: 3, [batch: 1 / 6720], examples_per_second: 2.9504, train_label_loss: 0.6036, \n"
     ]
    },
    {
     "name": "stdout",
     "output_type": "stream",
     "text": [
      "epoch: 3, [batch: 672 / 6720], examples_per_second: 2919.7210, train_label_loss: 0.4626, \n"
     ]
    },
    {
     "name": "stdout",
     "output_type": "stream",
     "text": [
      "epoch: 3, [batch: 1344 / 6720], examples_per_second: 2941.5599, train_label_loss: 0.1532, \n"
     ]
    },
    {
     "name": "stdout",
     "output_type": "stream",
     "text": [
      "epoch: 3, [batch: 2016 / 6720], examples_per_second: 2973.3961, train_label_loss: 1.1149, \n"
     ]
    },
    {
     "name": "stdout",
     "output_type": "stream",
     "text": [
      "epoch: 3, [batch: 2688 / 6720], examples_per_second: 3028.0588, train_label_loss: 0.3072, \n"
     ]
    },
    {
     "name": "stdout",
     "output_type": "stream",
     "text": [
      "epoch: 3, [batch: 3360 / 6720], examples_per_second: 2983.5269, train_label_loss: 0.2577, \n"
     ]
    },
    {
     "name": "stdout",
     "output_type": "stream",
     "text": [
      "epoch: 3, [batch: 4032 / 6720], examples_per_second: 2966.1397, train_label_loss: 0.2830, \n"
     ]
    },
    {
     "name": "stdout",
     "output_type": "stream",
     "text": [
      "epoch: 3, [batch: 4704 / 6720], examples_per_second: 3329.8137, train_label_loss: 0.2703, \n"
     ]
    },
    {
     "name": "stdout",
     "output_type": "stream",
     "text": [
      "epoch: 3, [batch: 5376 / 6720], examples_per_second: 3654.0511, train_label_loss: 1.0256, \n"
     ]
    },
    {
     "name": "stdout",
     "output_type": "stream",
     "text": [
      "epoch: 3, [batch: 6048 / 6720], examples_per_second: 3900.0470, train_label_loss: 0.4352, \n"
     ]
    },
    {
     "name": "stdout",
     "output_type": "stream",
     "text": [
      "=============================================================\n",
      "epoch: 3, source_val_acc_label: 0.8581, target_val_acc_label: 0.8562, source_val_label_loss: 0.3984, target_val_label_loss: 0.3987, \n",
      "=============================================================\n"
     ]
    },
    {
     "name": "stdout",
     "output_type": "stream",
     "text": [
      "New best\n"
     ]
    },
    {
     "name": "stdout",
     "output_type": "stream",
     "text": [
      "epoch: 4, [batch: 1 / 6720], examples_per_second: 3.2557, train_label_loss: 0.3464, \n"
     ]
    },
    {
     "name": "stdout",
     "output_type": "stream",
     "text": [
      "epoch: 4, [batch: 672 / 6720], examples_per_second: 3207.9399, train_label_loss: 0.3137, \n"
     ]
    },
    {
     "name": "stdout",
     "output_type": "stream",
     "text": [
      "epoch: 4, [batch: 1344 / 6720], examples_per_second: 3010.1085, train_label_loss: 0.3935, \n"
     ]
    },
    {
     "name": "stdout",
     "output_type": "stream",
     "text": [
      "epoch: 4, [batch: 2016 / 6720], examples_per_second: 2973.6347, train_label_loss: 0.1039, \n"
     ]
    },
    {
     "name": "stdout",
     "output_type": "stream",
     "text": [
      "epoch: 4, [batch: 2688 / 6720], examples_per_second: 2946.8437, train_label_loss: 0.4897, \n"
     ]
    },
    {
     "name": "stdout",
     "output_type": "stream",
     "text": [
      "epoch: 4, [batch: 3360 / 6720], examples_per_second: 2972.1268, train_label_loss: 0.7148, \n"
     ]
    },
    {
     "name": "stdout",
     "output_type": "stream",
     "text": [
      "epoch: 4, [batch: 4032 / 6720], examples_per_second: 2959.3458, train_label_loss: 0.3069, \n"
     ]
    },
    {
     "name": "stdout",
     "output_type": "stream",
     "text": [
      "epoch: 4, [batch: 4704 / 6720], examples_per_second: 2911.5019, train_label_loss: 0.8672, \n"
     ]
    },
    {
     "name": "stdout",
     "output_type": "stream",
     "text": [
      "epoch: 4, [batch: 5376 / 6720], examples_per_second: 3402.0364, train_label_loss: 0.3331, \n"
     ]
    },
    {
     "name": "stdout",
     "output_type": "stream",
     "text": [
      "epoch: 4, [batch: 6048 / 6720], examples_per_second: 3479.3015, train_label_loss: 0.2616, \n"
     ]
    },
    {
     "name": "stdout",
     "output_type": "stream",
     "text": [
      "=============================================================\n",
      "epoch: 4, source_val_acc_label: 0.8730, target_val_acc_label: 0.8727, source_val_label_loss: 0.3506, target_val_label_loss: 0.3585, \n",
      "=============================================================\n"
     ]
    },
    {
     "name": "stdout",
     "output_type": "stream",
     "text": [
      "New best\n"
     ]
    },
    {
     "name": "stdout",
     "output_type": "stream",
     "text": [
      "epoch: 5, [batch: 1 / 6720], examples_per_second: 3.2036, train_label_loss: 0.4289, \n"
     ]
    },
    {
     "name": "stdout",
     "output_type": "stream",
     "text": [
      "epoch: 5, [batch: 672 / 6720], examples_per_second: 3418.1614, train_label_loss: 0.2943, \n"
     ]
    },
    {
     "name": "stdout",
     "output_type": "stream",
     "text": [
      "epoch: 5, [batch: 1344 / 6720], examples_per_second: 3405.1956, train_label_loss: 0.1704, \n"
     ]
    },
    {
     "name": "stdout",
     "output_type": "stream",
     "text": [
      "epoch: 5, [batch: 2016 / 6720], examples_per_second: 3421.3473, train_label_loss: 0.1673, \n"
     ]
    },
    {
     "name": "stdout",
     "output_type": "stream",
     "text": [
      "epoch: 5, [batch: 2688 / 6720], examples_per_second: 3755.8909, train_label_loss: 0.3264, \n"
     ]
    },
    {
     "name": "stdout",
     "output_type": "stream",
     "text": [
      "epoch: 5, [batch: 3360 / 6720], examples_per_second: 3093.4319, train_label_loss: 0.3439, \n"
     ]
    },
    {
     "name": "stdout",
     "output_type": "stream",
     "text": [
      "epoch: 5, [batch: 4032 / 6720], examples_per_second: 3002.2230, train_label_loss: 0.2266, \n"
     ]
    },
    {
     "name": "stdout",
     "output_type": "stream",
     "text": [
      "epoch: 5, [batch: 4704 / 6720], examples_per_second: 2992.9247, train_label_loss: 0.1688, \n"
     ]
    },
    {
     "name": "stdout",
     "output_type": "stream",
     "text": [
      "epoch: 5, [batch: 5376 / 6720], examples_per_second: 3359.0445, train_label_loss: 0.1493, \n"
     ]
    },
    {
     "name": "stdout",
     "output_type": "stream",
     "text": [
      "epoch: 5, [batch: 6048 / 6720], examples_per_second: 3461.6098, train_label_loss: 0.2596, \n"
     ]
    },
    {
     "name": "stdout",
     "output_type": "stream",
     "text": [
      "=============================================================\n",
      "epoch: 5, source_val_acc_label: 0.8749, target_val_acc_label: 0.8732, source_val_label_loss: 0.3466, target_val_label_loss: 0.3581, \n",
      "=============================================================\n"
     ]
    },
    {
     "name": "stdout",
     "output_type": "stream",
     "text": [
      "New best\n"
     ]
    },
    {
     "name": "stdout",
     "output_type": "stream",
     "text": [
      "epoch: 6, [batch: 1 / 6720], examples_per_second: 2.8815, train_label_loss: 0.3829, \n"
     ]
    },
    {
     "name": "stdout",
     "output_type": "stream",
     "text": [
      "epoch: 6, [batch: 672 / 6720], examples_per_second: 3191.5014, train_label_loss: 0.3739, \n"
     ]
    },
    {
     "name": "stdout",
     "output_type": "stream",
     "text": [
      "epoch: 6, [batch: 1344 / 6720], examples_per_second: 3488.9131, train_label_loss: 0.1629, \n"
     ]
    },
    {
     "name": "stdout",
     "output_type": "stream",
     "text": [
      "epoch: 6, [batch: 2016 / 6720], examples_per_second: 3403.1476, train_label_loss: 0.2024, \n"
     ]
    },
    {
     "name": "stdout",
     "output_type": "stream",
     "text": [
      "epoch: 6, [batch: 2688 / 6720], examples_per_second: 3387.0632, train_label_loss: 0.0900, \n"
     ]
    },
    {
     "name": "stdout",
     "output_type": "stream",
     "text": [
      "epoch: 6, [batch: 3360 / 6720], examples_per_second: 3420.8547, train_label_loss: 0.2730, \n"
     ]
    },
    {
     "name": "stdout",
     "output_type": "stream",
     "text": [
      "epoch: 6, [batch: 4032 / 6720], examples_per_second: 3462.0119, train_label_loss: 0.4038, \n"
     ]
    },
    {
     "name": "stdout",
     "output_type": "stream",
     "text": [
      "epoch: 6, [batch: 4704 / 6720], examples_per_second: 3440.6440, train_label_loss: 0.3478, \n"
     ]
    },
    {
     "name": "stdout",
     "output_type": "stream",
     "text": [
      "epoch: 6, [batch: 5376 / 6720], examples_per_second: 3935.9076, train_label_loss: 0.2070, \n"
     ]
    },
    {
     "name": "stdout",
     "output_type": "stream",
     "text": [
      "epoch: 6, [batch: 6048 / 6720], examples_per_second: 3381.3519, train_label_loss: 0.3395, \n"
     ]
    },
    {
     "name": "stdout",
     "output_type": "stream",
     "text": [
      "=============================================================\n",
      "epoch: 6, source_val_acc_label: 0.8829, target_val_acc_label: 0.8785, source_val_label_loss: 0.3263, target_val_label_loss: 0.3468, \n",
      "=============================================================\n"
     ]
    },
    {
     "name": "stdout",
     "output_type": "stream",
     "text": [
      "New best\n"
     ]
    },
    {
     "name": "stdout",
     "output_type": "stream",
     "text": [
      "epoch: 7, [batch: 1 / 6720], examples_per_second: 2.8335, train_label_loss: 0.2894, \n"
     ]
    },
    {
     "name": "stdout",
     "output_type": "stream",
     "text": [
      "epoch: 7, [batch: 672 / 6720], examples_per_second: 2988.5515, train_label_loss: 0.0929, \n"
     ]
    },
    {
     "name": "stdout",
     "output_type": "stream",
     "text": [
      "epoch: 7, [batch: 1344 / 6720], examples_per_second: 2975.3255, train_label_loss: 0.5042, \n"
     ]
    },
    {
     "name": "stdout",
     "output_type": "stream",
     "text": [
      "epoch: 7, [batch: 2016 / 6720], examples_per_second: 2939.4337, train_label_loss: 0.1840, \n"
     ]
    },
    {
     "name": "stdout",
     "output_type": "stream",
     "text": [
      "epoch: 7, [batch: 2688 / 6720], examples_per_second: 2959.3280, train_label_loss: 0.2037, \n"
     ]
    },
    {
     "name": "stdout",
     "output_type": "stream",
     "text": [
      "epoch: 7, [batch: 3360 / 6720], examples_per_second: 3127.1955, train_label_loss: 0.2141, \n"
     ]
    },
    {
     "name": "stdout",
     "output_type": "stream",
     "text": [
      "epoch: 7, [batch: 4032 / 6720], examples_per_second: 3467.8293, train_label_loss: 0.1296, \n"
     ]
    },
    {
     "name": "stdout",
     "output_type": "stream",
     "text": [
      "epoch: 7, [batch: 4704 / 6720], examples_per_second: 3538.0687, train_label_loss: 0.2538, \n"
     ]
    },
    {
     "name": "stdout",
     "output_type": "stream",
     "text": [
      "epoch: 7, [batch: 5376 / 6720], examples_per_second: 3884.3448, train_label_loss: 0.1295, \n"
     ]
    },
    {
     "name": "stdout",
     "output_type": "stream",
     "text": [
      "epoch: 7, [batch: 6048 / 6720], examples_per_second: 3916.9217, train_label_loss: 0.1943, \n"
     ]
    },
    {
     "name": "stdout",
     "output_type": "stream",
     "text": [
      "=============================================================\n",
      "epoch: 7, source_val_acc_label: 0.8708, target_val_acc_label: 0.8650, source_val_label_loss: 0.3540, target_val_label_loss: 0.3829, \n",
      "=============================================================\n"
     ]
    },
    {
     "name": "stdout",
     "output_type": "stream",
     "text": [
      "epoch: 8, [batch: 1 / 6720], examples_per_second: 3.1860, train_label_loss: 0.2245, \n"
     ]
    },
    {
     "name": "stdout",
     "output_type": "stream",
     "text": [
      "epoch: 8, [batch: 672 / 6720], examples_per_second: 2994.2547, train_label_loss: 0.3252, \n"
     ]
    },
    {
     "name": "stdout",
     "output_type": "stream",
     "text": [
      "epoch: 8, [batch: 1344 / 6720], examples_per_second: 2961.5714, train_label_loss: 0.1750, \n"
     ]
    },
    {
     "name": "stdout",
     "output_type": "stream",
     "text": [
      "epoch: 8, [batch: 2016 / 6720], examples_per_second: 2976.2206, train_label_loss: 0.4868, \n"
     ]
    },
    {
     "name": "stdout",
     "output_type": "stream",
     "text": [
      "epoch: 8, [batch: 2688 / 6720], examples_per_second: 2992.8859, train_label_loss: 0.2425, \n"
     ]
    },
    {
     "name": "stdout",
     "output_type": "stream",
     "text": [
      "epoch: 8, [batch: 3360 / 6720], examples_per_second: 3015.0406, train_label_loss: 0.0970, \n"
     ]
    },
    {
     "name": "stdout",
     "output_type": "stream",
     "text": [
      "epoch: 8, [batch: 4032 / 6720], examples_per_second: 2968.7224, train_label_loss: 0.6490, \n"
     ]
    },
    {
     "name": "stdout",
     "output_type": "stream",
     "text": [
      "epoch: 8, [batch: 4704 / 6720], examples_per_second: 3114.8556, train_label_loss: 0.1372, \n"
     ]
    },
    {
     "name": "stdout",
     "output_type": "stream",
     "text": [
      "epoch: 8, [batch: 5376 / 6720], examples_per_second: 3424.7115, train_label_loss: 0.2429, \n"
     ]
    },
    {
     "name": "stdout",
     "output_type": "stream",
     "text": [
      "epoch: 8, [batch: 6048 / 6720], examples_per_second: 3730.4461, train_label_loss: 0.2413, \n"
     ]
    },
    {
     "name": "stdout",
     "output_type": "stream",
     "text": [
      "=============================================================\n",
      "epoch: 8, source_val_acc_label: 0.8939, target_val_acc_label: 0.8849, source_val_label_loss: 0.2894, target_val_label_loss: 0.3243, \n",
      "=============================================================\n"
     ]
    },
    {
     "name": "stdout",
     "output_type": "stream",
     "text": [
      "New best\n"
     ]
    },
    {
     "name": "stdout",
     "output_type": "stream",
     "text": [
      "epoch: 9, [batch: 1 / 6720], examples_per_second: 3.1533, train_label_loss: 0.1322, \n"
     ]
    },
    {
     "name": "stdout",
     "output_type": "stream",
     "text": [
      "epoch: 9, [batch: 672 / 6720], examples_per_second: 3472.2791, train_label_loss: 0.2050, \n"
     ]
    },
    {
     "name": "stdout",
     "output_type": "stream",
     "text": [
      "epoch: 9, [batch: 1344 / 6720], examples_per_second: 3574.3840, train_label_loss: 0.2141, \n"
     ]
    },
    {
     "name": "stdout",
     "output_type": "stream",
     "text": [
      "epoch: 9, [batch: 2016 / 6720], examples_per_second: 3189.5594, train_label_loss: 0.1348, \n"
     ]
    },
    {
     "name": "stdout",
     "output_type": "stream",
     "text": [
      "epoch: 9, [batch: 2688 / 6720], examples_per_second: 3026.1864, train_label_loss: 0.1658, \n"
     ]
    },
    {
     "name": "stdout",
     "output_type": "stream",
     "text": [
      "epoch: 9, [batch: 3360 / 6720], examples_per_second: 3045.5168, train_label_loss: 0.1036, \n"
     ]
    },
    {
     "name": "stdout",
     "output_type": "stream",
     "text": [
      "epoch: 9, [batch: 4032 / 6720], examples_per_second: 3009.5901, train_label_loss: 0.2130, \n"
     ]
    },
    {
     "name": "stdout",
     "output_type": "stream",
     "text": [
      "epoch: 9, [batch: 4704 / 6720], examples_per_second: 3140.1431, train_label_loss: 0.1666, \n"
     ]
    },
    {
     "name": "stdout",
     "output_type": "stream",
     "text": [
      "epoch: 9, [batch: 5376 / 6720], examples_per_second: 3483.8814, train_label_loss: 0.0525, \n"
     ]
    },
    {
     "name": "stdout",
     "output_type": "stream",
     "text": [
      "epoch: 9, [batch: 6048 / 6720], examples_per_second: 3486.7202, train_label_loss: 0.2646, \n"
     ]
    },
    {
     "name": "stdout",
     "output_type": "stream",
     "text": [
      "=============================================================\n",
      "epoch: 9, source_val_acc_label: 0.8921, target_val_acc_label: 0.8827, source_val_label_loss: 0.2979, target_val_label_loss: 0.3353, \n",
      "=============================================================\n"
     ]
    },
    {
     "name": "stdout",
     "output_type": "stream",
     "text": [
      "epoch: 10, [batch: 1 / 6720], examples_per_second: 2.8499, train_label_loss: 0.1952, \n"
     ]
    },
    {
     "name": "stdout",
     "output_type": "stream",
     "text": [
      "epoch: 10, [batch: 672 / 6720], examples_per_second: 3422.9533, train_label_loss: 0.0915, \n"
     ]
    },
    {
     "name": "stdout",
     "output_type": "stream",
     "text": [
      "epoch: 10, [batch: 1344 / 6720], examples_per_second: 3369.1772, train_label_loss: 0.1638, \n"
     ]
    },
    {
     "name": "stdout",
     "output_type": "stream",
     "text": [
      "epoch: 10, [batch: 2016 / 6720], examples_per_second: 3398.2183, train_label_loss: 0.1132, \n"
     ]
    },
    {
     "name": "stdout",
     "output_type": "stream",
     "text": [
      "epoch: 10, [batch: 2688 / 6720], examples_per_second: 3387.4540, train_label_loss: 0.1373, \n"
     ]
    },
    {
     "name": "stdout",
     "output_type": "stream",
     "text": [
      "epoch: 10, [batch: 3360 / 6720], examples_per_second: 3429.8313, train_label_loss: 0.2502, \n"
     ]
    },
    {
     "name": "stdout",
     "output_type": "stream",
     "text": [
      "epoch: 10, [batch: 4032 / 6720], examples_per_second: 3695.3129, train_label_loss: 0.2278, \n"
     ]
    },
    {
     "name": "stdout",
     "output_type": "stream",
     "text": [
      "epoch: 10, [batch: 4704 / 6720], examples_per_second: 3092.2558, train_label_loss: 0.2131, \n"
     ]
    },
    {
     "name": "stdout",
     "output_type": "stream",
     "text": [
      "epoch: 10, [batch: 5376 / 6720], examples_per_second: 3432.5987, train_label_loss: 0.0243, \n"
     ]
    },
    {
     "name": "stdout",
     "output_type": "stream",
     "text": [
      "epoch: 10, [batch: 6048 / 6720], examples_per_second: 3560.6832, train_label_loss: 0.4492, \n"
     ]
    },
    {
     "name": "stdout",
     "output_type": "stream",
     "text": [
      "=============================================================\n",
      "epoch: 10, source_val_acc_label: 0.8964, target_val_acc_label: 0.8828, source_val_label_loss: 0.2884, target_val_label_loss: 0.3372, \n",
      "=============================================================\n"
     ]
    },
    {
     "name": "stdout",
     "output_type": "stream",
     "text": [
      "epoch: 11, [batch: 1 / 6720], examples_per_second: 2.7721, train_label_loss: 0.1087, \n"
     ]
    },
    {
     "name": "stdout",
     "output_type": "stream",
     "text": [
      "epoch: 11, [batch: 672 / 6720], examples_per_second: 2992.8331, train_label_loss: 0.0731, \n"
     ]
    },
    {
     "name": "stdout",
     "output_type": "stream",
     "text": [
      "epoch: 11, [batch: 1344 / 6720], examples_per_second: 3007.0795, train_label_loss: 0.4745, \n"
     ]
    },
    {
     "name": "stdout",
     "output_type": "stream",
     "text": [
      "epoch: 11, [batch: 2016 / 6720], examples_per_second: 3076.0858, train_label_loss: 0.1356, \n"
     ]
    },
    {
     "name": "stdout",
     "output_type": "stream",
     "text": [
      "epoch: 11, [batch: 2688 / 6720], examples_per_second: 3409.3569, train_label_loss: 0.2409, \n"
     ]
    },
    {
     "name": "stdout",
     "output_type": "stream",
     "text": [
      "epoch: 11, [batch: 3360 / 6720], examples_per_second: 3374.4293, train_label_loss: 0.2620, \n"
     ]
    },
    {
     "name": "stdout",
     "output_type": "stream",
     "text": [
      "epoch: 11, [batch: 4032 / 6720], examples_per_second: 3428.8340, train_label_loss: 0.4173, \n"
     ]
    },
    {
     "name": "stdout",
     "output_type": "stream",
     "text": [
      "epoch: 11, [batch: 4704 / 6720], examples_per_second: 3651.8389, train_label_loss: 0.0039, \n"
     ]
    },
    {
     "name": "stdout",
     "output_type": "stream",
     "text": [
      "epoch: 11, [batch: 5376 / 6720], examples_per_second: 3910.4557, train_label_loss: 0.1167, \n"
     ]
    },
    {
     "name": "stdout",
     "output_type": "stream",
     "text": [
      "epoch: 11, [batch: 6048 / 6720], examples_per_second: 3890.7193, train_label_loss: 0.1845, \n"
     ]
    },
    {
     "name": "stdout",
     "output_type": "stream",
     "text": [
      "=============================================================\n",
      "epoch: 11, source_val_acc_label: 0.8966, target_val_acc_label: 0.8826, source_val_label_loss: 0.2967, target_val_label_loss: 0.3441, \n",
      "=============================================================\n"
     ]
    },
    {
     "name": "stdout",
     "output_type": "stream",
     "text": [
      "epoch: 12, [batch: 1 / 6720], examples_per_second: 2.9038, train_label_loss: 0.2153, \n"
     ]
    },
    {
     "name": "stdout",
     "output_type": "stream",
     "text": [
      "epoch: 12, [batch: 672 / 6720], examples_per_second: 2995.7805, train_label_loss: 0.4204, \n"
     ]
    },
    {
     "name": "stdout",
     "output_type": "stream",
     "text": [
      "epoch: 12, [batch: 1344 / 6720], examples_per_second: 2998.9522, train_label_loss: 0.2804, \n"
     ]
    },
    {
     "name": "stdout",
     "output_type": "stream",
     "text": [
      "epoch: 12, [batch: 2016 / 6720], examples_per_second: 3008.7441, train_label_loss: 0.6405, \n"
     ]
    },
    {
     "name": "stdout",
     "output_type": "stream",
     "text": [
      "epoch: 12, [batch: 2688 / 6720], examples_per_second: 3038.0602, train_label_loss: 0.2730, \n"
     ]
    },
    {
     "name": "stdout",
     "output_type": "stream",
     "text": [
      "epoch: 12, [batch: 3360 / 6720], examples_per_second: 3033.5265, train_label_loss: 0.0567, \n"
     ]
    },
    {
     "name": "stdout",
     "output_type": "stream",
     "text": [
      "epoch: 12, [batch: 4032 / 6720], examples_per_second: 3062.7631, train_label_loss: 0.2907, \n"
     ]
    },
    {
     "name": "stdout",
     "output_type": "stream",
     "text": [
      "epoch: 12, [batch: 4704 / 6720], examples_per_second: 3399.8111, train_label_loss: 0.2204, \n"
     ]
    },
    {
     "name": "stdout",
     "output_type": "stream",
     "text": [
      "epoch: 12, [batch: 5376 / 6720], examples_per_second: 4068.5988, train_label_loss: 0.1553, \n"
     ]
    },
    {
     "name": "stdout",
     "output_type": "stream",
     "text": [
      "epoch: 12, [batch: 6048 / 6720], examples_per_second: 3916.0748, train_label_loss: 0.1361, \n"
     ]
    },
    {
     "name": "stdout",
     "output_type": "stream",
     "text": [
      "=============================================================\n",
      "epoch: 12, source_val_acc_label: 0.8997, target_val_acc_label: 0.8814, source_val_label_loss: 0.2844, target_val_label_loss: 0.3441, \n",
      "=============================================================\n"
     ]
    },
    {
     "name": "stdout",
     "output_type": "stream",
     "text": [
      "Patience (3) exhausted\n"
     ]
    }
   ],
   "source": [
    "###################################\n",
    "# train\n",
    "###################################\n",
    "jig = PTN_Train_Eval_Test_Jig(model, p.BEST_MODEL_PATH, p.device)\n",
    "\n",
    "jig.train(\n",
    "    train_iterable=datasets.source.processed.train,\n",
    "    source_val_iterable=datasets.source.processed.val,\n",
    "    target_val_iterable=datasets.target.processed.val,\n",
    "    num_epochs=p.n_epoch,\n",
    "    num_logs_per_epoch=p.NUM_LOGS_PER_EPOCH,\n",
    "    patience=p.patience,\n",
    "    optimizer=optimizer,\n",
    "    criteria_for_best=p.criteria_for_best,\n",
    ")"
   ]
  },
  {
   "cell_type": "code",
   "execution_count": 23,
   "id": "31e8fabf",
   "metadata": {
    "execution": {
     "iopub.execute_input": "2022-03-22T10:25:38.017609Z",
     "iopub.status.busy": "2022-03-22T10:25:38.016773Z",
     "iopub.status.idle": "2022-03-22T10:25:38.050519Z",
     "shell.execute_reply": "2022-03-22T10:25:38.049672Z"
    },
    "papermill": {
     "duration": 0.097595,
     "end_time": "2022-03-22T10:25:38.050693",
     "exception": false,
     "start_time": "2022-03-22T10:25:37.953098",
     "status": "completed"
    },
    "tags": []
   },
   "outputs": [],
   "source": [
    "total_experiment_time_secs = time.time() - start_time_secs"
   ]
  },
  {
   "cell_type": "code",
   "execution_count": 24,
   "id": "87b9595b",
   "metadata": {
    "execution": {
     "iopub.execute_input": "2022-03-22T10:25:38.187737Z",
     "iopub.status.busy": "2022-03-22T10:25:38.186717Z",
     "iopub.status.idle": "2022-03-22T10:29:11.267955Z",
     "shell.execute_reply": "2022-03-22T10:29:11.267177Z"
    },
    "papermill": {
     "duration": 213.151066,
     "end_time": "2022-03-22T10:29:11.268147",
     "exception": false,
     "start_time": "2022-03-22T10:25:38.117081",
     "status": "completed"
    },
    "tags": []
   },
   "outputs": [],
   "source": [
    "###################################\n",
    "# Evaluate the model\n",
    "###################################\n",
    "source_test_label_accuracy, source_test_label_loss = jig.test(datasets.source.processed.test)\n",
    "target_test_label_accuracy, target_test_label_loss = jig.test(datasets.target.processed.test)\n",
    "\n",
    "source_val_label_accuracy, source_val_label_loss = jig.test(datasets.source.processed.val)\n",
    "target_val_label_accuracy, target_val_label_loss = jig.test(datasets.target.processed.val)\n",
    "\n",
    "history = jig.get_history()\n",
    "\n",
    "total_epochs_trained = len(history[\"epoch_indices\"])\n",
    "\n",
    "val_dl = Iterable_Aggregator((datasets.source.original.val,datasets.target.original.val))\n",
    "\n",
    "confusion = ptn_confusion_by_domain_over_dataloader(model, p.device, val_dl)\n",
    "per_domain_accuracy = per_domain_accuracy_from_confusion(confusion)\n",
    "\n",
    "# Add a key to per_domain_accuracy for if it was a source domain\n",
    "for domain, accuracy in per_domain_accuracy.items():\n",
    "    per_domain_accuracy[domain] = {\n",
    "        \"accuracy\": accuracy,\n",
    "        \"source?\": domain in p.domains_source\n",
    "    }\n",
    "\n",
    "# Do an independent accuracy assesment JUST TO BE SURE!\n",
    "# _source_test_label_accuracy = independent_accuracy_assesment(model, datasets.source.processed.test, p.device)\n",
    "# _target_test_label_accuracy = independent_accuracy_assesment(model, datasets.target.processed.test, p.device)\n",
    "# _source_val_label_accuracy = independent_accuracy_assesment(model, datasets.source.processed.val, p.device)\n",
    "# _target_val_label_accuracy = independent_accuracy_assesment(model, datasets.target.processed.val, p.device)\n",
    "\n",
    "# assert(_source_test_label_accuracy == source_test_label_accuracy)\n",
    "# assert(_target_test_label_accuracy == target_test_label_accuracy)\n",
    "# assert(_source_val_label_accuracy == source_val_label_accuracy)\n",
    "# assert(_target_val_label_accuracy == target_val_label_accuracy)\n",
    "\n",
    "experiment = {\n",
    "    \"experiment_name\": p.experiment_name,\n",
    "    \"parameters\": dict(p),\n",
    "    \"results\": {\n",
    "        \"source_test_label_accuracy\": source_test_label_accuracy,\n",
    "        \"source_test_label_loss\": source_test_label_loss,\n",
    "        \"target_test_label_accuracy\": target_test_label_accuracy,\n",
    "        \"target_test_label_loss\": target_test_label_loss,\n",
    "        \"source_val_label_accuracy\": source_val_label_accuracy,\n",
    "        \"source_val_label_loss\": source_val_label_loss,\n",
    "        \"target_val_label_accuracy\": target_val_label_accuracy,\n",
    "        \"target_val_label_loss\": target_val_label_loss,\n",
    "        \"total_epochs_trained\": total_epochs_trained,\n",
    "        \"total_experiment_time_secs\": total_experiment_time_secs,\n",
    "        \"confusion\": confusion,\n",
    "        \"per_domain_accuracy\": per_domain_accuracy,\n",
    "    },\n",
    "    \"history\": history,\n",
    "    \"dataset_metrics\": get_dataset_metrics(datasets, \"ptn\"),\n",
    "}"
   ]
  },
  {
   "cell_type": "code",
   "execution_count": 25,
   "id": "54a21829",
   "metadata": {
    "execution": {
     "iopub.execute_input": "2022-03-22T10:29:11.399184Z",
     "iopub.status.busy": "2022-03-22T10:29:11.398816Z",
     "iopub.status.idle": "2022-03-22T10:29:11.612182Z",
     "shell.execute_reply": "2022-03-22T10:29:11.612859Z"
    },
    "papermill": {
     "duration": 0.279449,
     "end_time": "2022-03-22T10:29:11.613044",
     "exception": false,
     "start_time": "2022-03-22T10:29:11.333595",
     "status": "completed"
    },
    "tags": []
   },
   "outputs": [
    {
     "data": {
      "image/png": "[encoded data removed]",
      "text/plain": [
       "<Figure size 1080x504 with 1 Axes>"
      ]
     },
     "metadata": {
      "needs_background": "light"
     },
     "output_type": "display_data"
    }
   ],
   "source": [
    "ax = get_loss_curve(experiment)\n",
    "plt.show()"
   ]
  },
  {
   "cell_type": "code",
   "execution_count": 26,
   "id": "fd8a0f60",
   "metadata": {
    "execution": {
     "iopub.execute_input": "2022-03-22T10:29:11.743628Z",
     "iopub.status.busy": "2022-03-22T10:29:11.743242Z",
     "iopub.status.idle": "2022-03-22T10:29:12.076667Z",
     "shell.execute_reply": "2022-03-22T10:29:12.077331Z"
    },
    "papermill": {
     "duration": 0.399245,
     "end_time": "2022-03-22T10:29:12.077512",
     "exception": false,
     "start_time": "2022-03-22T10:29:11.678267",
     "status": "completed"
    },
    "tags": []
   },
   "outputs": [
    {
     "data": {
      "text/plain": [
       "<AxesSubplot:title={'center':'Results'}>"
      ]
     },
     "execution_count": 26,
     "metadata": {},
     "output_type": "execute_result"
    },
    {
     "data": {
      "image/png": "[encoded data removed]",
      "text/plain": [
       "<Figure size 1080x504 with 1 Axes>"
      ]
     },
     "metadata": {
      "needs_background": "light"
     },
     "output_type": "display_data"
    }
   ],
   "source": [
    "get_results_table(experiment)"
   ]
  },
  {
   "cell_type": "code",
   "execution_count": 27,
   "id": "cf8dc689",
   "metadata": {
    "execution": {
     "iopub.execute_input": "2022-03-22T10:29:12.210308Z",
     "iopub.status.busy": "2022-03-22T10:29:12.209938Z",
     "iopub.status.idle": "2022-03-22T10:29:12.495291Z",
     "shell.execute_reply": "2022-03-22T10:29:12.494461Z"
    },
    "papermill": {
     "duration": 0.3514,
     "end_time": "2022-03-22T10:29:12.495460",
     "exception": false,
     "start_time": "2022-03-22T10:29:12.144060",
     "status": "completed"
    },
    "tags": []
   },
   "outputs": [
    {
     "data": {
      "text/plain": [
       "<AxesSubplot:title={'center':'Per Domain Validation Accuracy'}, xlabel='domain'>"
      ]
     },
     "execution_count": 27,
     "metadata": {},
     "output_type": "execute_result"
    },
    {
     "data": {
      "image/png": "[encoded data removed]",
      "text/plain": [
       "<Figure size 1080x504 with 1 Axes>"
      ]
     },
     "metadata": {
      "needs_background": "light"
     },
     "output_type": "display_data"
    }
   ],
   "source": [
    "get_domain_accuracies(experiment)"
   ]
  },
  {
   "cell_type": "code",
   "execution_count": 28,
   "id": "a74ae082",
   "metadata": {
    "execution": {
     "iopub.execute_input": "2022-03-22T10:29:12.633059Z",
     "iopub.status.busy": "2022-03-22T10:29:12.632595Z",
     "iopub.status.idle": "2022-03-22T10:29:12.658253Z",
     "shell.execute_reply": "2022-03-22T10:29:12.657438Z"
    },
    "papermill": {
     "duration": 0.093235,
     "end_time": "2022-03-22T10:29:12.658415",
     "exception": false,
     "start_time": "2022-03-22T10:29:12.565180",
     "status": "completed"
    },
    "tags": []
   },
   "outputs": [
    {
     "name": "stdout",
     "output_type": "stream",
     "text": [
      "Source Test Label Accuracy: 0.8958333333333334 Target Test Label Accuracy: 0.8833658854166667\n",
      "Source Val Label Accuracy: 0.8938802083333334 Target Val Label Accuracy: 0.88486328125\n"
     ]
    }
   ],
   "source": [
    "print(\"Source Test Label Accuracy:\", experiment[\"results\"][\"source_test_label_accuracy\"], \"Target Test Label Accuracy:\", experiment[\"results\"][\"target_test_label_accuracy\"])\n",
    "print(\"Source Val Label Accuracy:\", experiment[\"results\"][\"source_val_label_accuracy\"], \"Target Val Label Accuracy:\", experiment[\"results\"][\"target_val_label_accuracy\"])"
   ]
  },
  {
   "cell_type": "code",
   "execution_count": 29,
   "id": "dacca602",
   "metadata": {
    "execution": {
     "iopub.execute_input": "2022-03-22T10:29:12.798306Z",
     "iopub.status.busy": "2022-03-22T10:29:12.797931Z",
     "iopub.status.idle": "2022-03-22T10:29:12.821727Z",
     "shell.execute_reply": "2022-03-22T10:29:12.822422Z"
    },
    "papermill": {
     "duration": 0.094165,
     "end_time": "2022-03-22T10:29:12.822636",
     "exception": false,
     "start_time": "2022-03-22T10:29:12.728471",
     "status": "completed"
    },
    "tags": [
     "experiment_json"
    ]
   },
   "outputs": [
    {
     "data": {
      "text/plain": [
       "'{\"experiment_name\": \"tl_1v2:oracle.run1.framed-oracle.run2.framed\", \"parameters\": {\"experiment_name\": \"tl_1v2:oracle.run1.framed-oracle.run2.framed\", \"device\": \"cuda\", \"lr\": 0.0001, \"n_shot\": 3, \"n_query\": 2, \"train_k_factor\": 3, \"val_k_factor\": 2, \"test_k_factor\": 2, \"torch_default_dtype\": \"torch.float32\", \"n_epoch\": 50, \"patience\": 3, \"criteria_for_best\": \"target_accuracy\", \"x_net\": [{\"class\": \"nnReshape\", \"kargs\": {\"shape\": [-1, 1, 2, 256]}}, {\"class\": \"Conv2d\", \"kargs\": {\"in_channels\": 1, \"out_channels\": 256, \"kernel_size\": [1, 7], \"bias\": false, \"padding\": [0, 3]}}, {\"class\": \"ReLU\", \"kargs\": {\"inplace\": true}}, {\"class\": \"BatchNorm2d\", \"kargs\": {\"num_features\": 256}}, {\"class\": \"Conv2d\", \"kargs\": {\"in_channels\": 256, \"out_channels\": 80, \"kernel_size\": [2, 7], \"bias\": true, \"padding\": [0, 3]}}, {\"class\": \"ReLU\", \"kargs\": {\"inplace\": true}}, {\"class\": \"BatchNorm2d\", \"kargs\": {\"num_features\": 80}}, {\"class\": \"Flatten\", \"kargs\": {}}, {\"class\": \"Linear\", \"kargs\": {\"in_features\": 20480, \"out_features\": 256}}, {\"class\": \"ReLU\", \"kargs\": {\"inplace\": true}}, {\"class\": \"BatchNorm1d\", \"kargs\": {\"num_features\": 256}}, {\"class\": \"Linear\", \"kargs\": {\"in_features\": 256, \"out_features\": 256}}], \"NUM_LOGS_PER_EPOCH\": 10, \"BEST_MODEL_PATH\": \"./best_model.pth\", \"n_way\": 16, \"datasets\": [{\"labels\": [\"3123D52\", \"3123D65\", \"3123D79\", \"3123D80\", \"3123D54\", \"3123D70\", \"3123D7B\", \"3123D89\", \"3123D58\", \"3123D76\", \"3123D7D\", \"3123EFE\", \"3123D64\", \"3123D78\", \"3123D7E\", \"3124E4A\"], \"domains\": [32, 38, 8, 44, 14, 50, 20, 26], \"num_examples_per_domain_per_label\": 2000, \"pickle_path\": \"/root/csc500-main/datasets/oracle.Run1_framed_2000Examples_stratified_ds.2022A.pkl\", \"source_or_target_dataset\": \"target\", \"x_transforms\": [\"unit_mag\"], \"episode_transforms\": [], \"domain_prefix\": \"ORACLE.run1_\"}, {\"labels\": [\"3123D52\", \"3123D65\", \"3123D79\", \"3123D80\", \"3123D54\", \"3123D70\", \"3123D7B\", \"3123D89\", \"3123D58\", \"3123D76\", \"3123D7D\", \"3123EFE\", \"3123D64\", \"3123D78\", \"3123D7E\", \"3124E4A\"], \"domains\": [32, 38, 8, 44, 14, 50, 20, 26], \"num_examples_per_domain_per_label\": 2000, \"pickle_path\": \"/root/csc500-main/datasets/oracle.Run2_framed_2000Examples_stratified_ds.2022A.pkl\", \"source_or_target_dataset\": \"source\", \"x_transforms\": [\"unit_mag\"], \"episode_transforms\": [], \"domain_prefix\": \"ORACLE.run2_\"}], \"dataset_seed\": 500, \"seed\": 500, \"x_shape\": [2, 256], \"domains_source\": [\"ORACLE.run2_32\", \"ORACLE.run2_38\", \"ORACLE.run2_8\", \"ORACLE.run2_44\", \"ORACLE.run2_14\", \"ORACLE.run2_50\", \"ORACLE.run2_20\", \"ORACLE.run2_26\"], \"domains_target\": [\"ORACLE.run1_32\", \"ORACLE.run1_38\", \"ORACLE.run1_8\", \"ORACLE.run1_44\", \"ORACLE.run1_14\", \"ORACLE.run1_50\", \"ORACLE.run1_20\", \"ORACLE.run1_26\"]}, \"results\": {\"source_test_label_accuracy\": 0.8958333333333334, \"source_test_label_loss\": 0.28911006450653076, \"target_test_label_accuracy\": 0.8833658854166667, \"target_test_label_loss\": 0.32147249579429626, \"source_val_label_accuracy\": 0.8938802083333334, \"source_val_label_loss\": 0.2894464135169983, \"target_val_label_accuracy\": 0.88486328125, \"target_val_label_loss\": 0.324293851852417, \"total_epochs_trained\": 12, \"total_experiment_time_secs\": 2410.5864782333374, \"confusion\": {\"ORACLE.run2_50\": {\"7\": {\"5\": 13, \"7\": 222, \"13\": 5}, \"10\": {\"10\": 208, \"13\": 24, \"0\": 8}, \"0\": {\"2\": 9, \"0\": 229, \"10\": 2}, \"11\": {\"11\": 229, \"15\": 8, \"12\": 2, \"9\": 1}, \"2\": {\"2\": 230, \"0\": 10}, \"14\": {\"14\": 240}, \"9\": {\"9\": 240}, \"13\": {\"13\": 213, \"7\": 6, \"10\": 20, \"5\": 1}, \"8\": {\"8\": 237, \"3\": 3}, \"15\": {\"15\": 234, \"11\": 2, \"4\": 2, \"1\": 2}, \"4\": {\"4\": 183, \"5\": 51, \"6\": 4, \"1\": 2}, \"5\": {\"5\": 149, \"4\": 67, \"7\": 12, \"6\": 8, \"1\": 2, \"10\": 1, \"13\": 1}, \"3\": {\"3\": 237, \"8\": 3}, \"1\": {\"1\": 237, \"4\": 1, \"6\": 1, \"15\": 1}, \"6\": {\"6\": 220, \"4\": 6, \"5\": 11, \"1\": 2, \"15\": 1}, \"12\": {\"12\": 236, \"11\": 2, \"9\": 2}}, \"ORACLE.run2_14\": {\"14\": {\"14\": 208, \"2\": 32}, \"6\": {\"6\": 233, \"13\": 7}, \"5\": {\"5\": 221, \"4\": 8, \"3\": 1, \"2\": 10}, \"15\": {\"15\": 240}, \"11\": {\"11\": 240}, \"8\": {\"8\": 240}, \"12\": {\"12\": 211, \"9\": 17, \"0\": 6, \"11\": 6}, \"1\": {\"1\": 238, \"5\": 2}, \"2\": {\"2\": 159, \"14\": 43, \"5\": 25, \"3\": 11, \"13\": 2}, \"13\": {\"13\": 215, \"6\": 25}, \"3\": {\"3\": 226, \"5\": 9, \"2\": 5}, \"0\": {\"0\": 240}, \"9\": {\"9\": 240}, \"4\": {\"4\": 238, \"5\": 2}, \"7\": {\"7\": 240}, \"10\": {\"10\": 239, \"14\": 1}}, \"ORACLE.run2_32\": {\"4\": {\"4\": 191, \"13\": 32, \"8\": 1, \"7\": 12, \"2\": 3, \"5\": 1}, \"14\": {\"14\": 220, \"0\": 12, \"5\": 7, \"11\": 1}, \"5\": {\"5\": 193, \"4\": 9, \"8\": 16, \"14\": 4, \"7\": 5, \"11\": 1, \"2\": 8, \"3\": 1, \"0\": 3}, \"10\": {\"10\": 240}, \"13\": {\"13\": 205, \"4\": 30, \"11\": 2, \"7\": 3}, \"9\": {\"9\": 240}, \"6\": {\"6\": 240}, \"3\": {\"3\": 236, \"13\": 3, \"8\": 1}, \"15\": {\"15\": 240}, \"7\": {\"4\": 10, \"7\": 213, \"2\": 2, \"11\": 12, \"13\": 1, \"5\": 2}, \"12\": {\"12\": 240}, \"8\": {\"8\": 225, \"0\": 10, \"3\": 2, \"13\": 1, \"5\": 2}, \"11\": {\"11\": 215, \"0\": 8, \"7\": 13, \"13\": 3, \"14\": 1}, \"2\": {\"4\": 2, \"2\": 234, \"5\": 3, \"7\": 1}, \"1\": {\"1\": 240}, \"0\": {\"0\": 200, \"8\": 19, \"11\": 8, \"14\": 11, \"5\": 1, \"4\": 1}}, \"ORACLE.run2_44\": {\"8\": {\"8\": 179, \"0\": 59, \"5\": 2}, \"11\": {\"11\": 240}, \"14\": {\"14\": 203, \"5\": 10, \"4\": 12, \"15\": 15}, \"10\": {\"10\": 239, \"7\": 1}, \"3\": {\"3\": 230, \"1\": 6, \"12\": 4}, \"15\": {\"15\": 215, \"14\": 22, \"4\": 1, \"8\": 2}, \"2\": {\"2\": 211, \"7\": 13, \"9\": 15, \"1\": 1}, \"12\": {\"12\": 195, \"3\": 2, \"1\": 43}, \"4\": {\"4\": 231, \"14\": 8, \"15\": 1}, \"1\": {\"1\": 190, \"12\": 40, \"3\": 10}, \"0\": {\"0\": 159, \"8\": 81}, \"9\": {\"9\": 147, \"7\": 68, \"2\": 20, \"6\": 5}, \"5\": {\"5\": 231, \"14\": 6, \"15\": 1, \"8\": 2}, \"6\": {\"6\": 225, \"7\": 5, \"9\": 3, \"2\": 1, \"13\": 6}, \"7\": {\"9\": 84, \"7\": 150, \"1\": 1, \"2\": 5}, \"13\": {\"13\": 236, \"4\": 1, \"6\": 3}}, \"ORACLE.run2_8\": {\"13\": {\"13\": 233, \"14\": 6, \"1\": 1}, \"3\": {\"3\": 240}, \"15\": {\"15\": 219, \"12\": 9, \"8\": 12}, \"4\": {\"4\": 147, \"6\": 43, \"7\": 49, \"2\": 1}, \"7\": {\"6\": 14, \"7\": 173, \"4\": 51, \"2\": 2}, \"2\": {\"2\": 231, \"4\": 4, \"7\": 5}, \"1\": {\"13\": 3, \"1\": 237}, \"0\": {\"0\": 223, \"10\": 9, \"14\": 8}, \"12\": {\"12\": 230, \"15\": 10}, \"6\": {\"6\": 174, \"4\": 54, \"7\": 11, \"14\": 1}, \"11\": {\"11\": 234, \"8\": 4, \"12\": 2}, \"9\": {\"9\": 240}, \"5\": {\"5\": 223, \"1\": 1, \"10\": 15, \"13\": 1}, \"10\": {\"10\": 221, \"5\": 12, \"0\": 4, \"14\": 3}, \"14\": {\"14\": 223, \"0\": 10, \"13\": 4, \"10\": 3}, \"8\": {\"8\": 239, \"15\": 1}}, \"ORACLE.run2_20\": {\"6\": {\"6\": 231, \"14\": 9}, \"11\": {\"11\": 240}, \"5\": {\"5\": 190, \"7\": 10, \"2\": 6, \"13\": 4, \"15\": 9, \"0\": 13, \"12\": 6, \"3\": 2}, \"14\": {\"14\": 227, \"8\": 4, \"6\": 9}, \"2\": {\"12\": 16, \"2\": 169, \"9\": 26, \"3\": 24, \"5\": 3, \"1\": 2}, \"7\": {\"7\": 231, \"3\": 4, \"8\": 2, \"5\": 2, \"2\": 1}, \"3\": {\"3\": 193, \"2\": 29, \"9\": 16, \"7\": 1, \"5\": 1}, \"4\": {\"4\": 239, \"12\": 1}, \"9\": {\"9\": 206, \"2\": 20, \"3\": 9, \"15\": 1, \"1\": 2, \"12\": 2}, \"12\": {\"12\": 188, \"2\": 17, \"1\": 23, \"9\": 8, \"3\": 1, \"5\": 1, \"15\": 1, \"13\": 1}, \"0\": {\"0\": 233, \"5\": 3, \"15\": 4}, \"10\": {\"10\": 240}, \"8\": {\"8\": 226, \"7\": 5, \"14\": 9}, \"13\": {\"13\": 210, \"15\": 30}, \"1\": {\"1\": 189, \"12\": 42, \"15\": 6, \"9\": 2, \"13\": 1}, \"15\": {\"13\": 20, \"15\": 195, \"0\": 9, \"1\": 4, \"12\": 4, \"5\": 7, \"9\": 1}}, \"ORACLE.run2_38\": {\"3\": {\"3\": 200, \"13\": 37, \"0\": 3}, \"8\": {\"8\": 176, \"5\": 44, \"0\": 1, \"15\": 4, \"7\": 14, \"13\": 1}, \"0\": {\"0\": 228, \"3\": 2, \"10\": 2, \"8\": 4, \"7\": 4}, \"2\": {\"2\": 229, \"14\": 11}, \"4\": {\"4\": 239, \"14\": 1}, \"7\": {\"7\": 193, \"5\": 16, \"8\": 17, \"10\": 13, \"13\": 1}, \"12\": {\"12\": 239, \"4\": 1}, \"6\": {\"6\": 234, \"9\": 6}, \"15\": {\"5\": 14, \"1\": 11, \"15\": 208, \"8\": 6, \"6\": 1}, \"11\": {\"11\": 239, \"14\": 1}, \"9\": {\"9\": 236, \"6\": 4}, \"14\": {\"14\": 206, \"2\": 33, \"7\": 1}, \"10\": {\"10\": 216, \"7\": 21, \"0\": 1, \"3\": 2}, \"5\": {\"5\": 170, \"7\": 26, \"8\": 40, \"15\": 4}, \"1\": {\"1\": 233, \"5\": 2, \"2\": 1, \"15\": 4}, \"13\": {\"3\": 32, \"13\": 206, \"7\": 1, \"8\": 1}}, \"ORACLE.run2_26\": {\"5\": {\"13\": 23, \"5\": 191, \"8\": 2, \"3\": 4, \"2\": 10, \"7\": 6, \"15\": 1, \"9\": 2, \"6\": 1}, \"8\": {\"8\": 163, \"14\": 13, \"7\": 13, \"0\": 14, \"2\": 15, \"10\": 14, \"4\": 7, \"1\": 1}, \"4\": {\"4\": 203, \"0\": 7, \"14\": 12, \"3\": 3, \"8\": 6, \"2\": 3, \"7\": 5, \"15\": 1}, \"12\": {\"12\": 240}, \"6\": {\"6\": 220, \"9\": 15, \"10\": 5}, \"7\": {\"7\": 146, \"2\": 61, \"8\": 7, \"15\": 4, \"3\": 10, \"4\": 9, \"13\": 1, \"10\": 1, \"5\": 1}, \"10\": {\"10\": 117, \"6\": 11, \"8\": 29, \"0\": 59, \"4\": 3, \"14\": 18, \"15\": 1, \"9\": 1, \"7\": 1}, \"0\": {\"0\": 141, \"4\": 11, \"14\": 39, \"10\": 37, \"8\": 11, \"2\": 1}, \"15\": {\"15\": 216, \"7\": 10, \"4\": 1, \"10\": 1, \"9\": 1, \"2\": 7, \"3\": 3, \"8\": 1}, \"9\": {\"9\": 230, \"13\": 3, \"5\": 2, \"6\": 5}, \"11\": {\"11\": 240}, \"14\": {\"14\": 165, \"8\": 12, \"0\": 36, \"10\": 6, \"4\": 11, \"1\": 10}, \"2\": {\"2\": 146, \"7\": 55, \"5\": 8, \"15\": 6, \"8\": 15, \"3\": 9, \"13\": 1}, \"13\": {\"13\": 229, \"5\": 9, \"9\": 2}, \"3\": {\"3\": 213, \"7\": 12, \"2\": 10, \"4\": 2, \"15\": 2, \"5\": 1}, \"1\": {\"1\": 229, \"14\": 10, \"4\": 1}}, \"ORACLE.run1_50\": {\"7\": {\"6\": 6, \"7\": 223, \"5\": 9, \"13\": 2}, \"10\": {\"10\": 234, \"13\": 2, \"8\": 3, \"0\": 1}, \"0\": {\"2\": 16, \"0\": 218, \"10\": 6}, \"11\": {\"11\": 236, \"15\": 2, \"9\": 1, \"12\": 1}, \"2\": {\"2\": 230, \"0\": 9, \"14\": 1}, \"14\": {\"14\": 240}, \"9\": {\"11\": 12, \"9\": 225, \"12\": 3}, \"13\": {\"13\": 225, \"5\": 9, \"7\": 3, \"10\": 1, \"6\": 2}, \"8\": {\"8\": 235, \"10\": 5}, \"15\": {\"15\": 223, \"1\": 2, \"4\": 9, \"11\": 3, \"6\": 3}, \"4\": {\"4\": 168, \"5\": 36, \"15\": 15, \"7\": 10, \"6\": 5, \"1\": 4, \"13\": 1, \"9\": 1}, \"5\": {\"5\": 153, \"13\": 16, \"6\": 3, \"7\": 30, \"4\": 24, \"1\": 14}, \"3\": {\"3\": 240}, \"1\": {\"1\": 221, \"5\": 3, \"15\": 12, \"13\": 1, \"6\": 1, \"11\": 1, \"2\": 1}, \"6\": {\"6\": 229, \"7\": 3, \"5\": 2, \"13\": 3, \"15\": 2, \"4\": 1}, \"12\": {\"12\": 236, \"11\": 3, \"9\": 1}}, \"ORACLE.run1_14\": {\"14\": {\"14\": 229, \"2\": 9, \"13\": 2}, \"6\": {\"6\": 210, \"13\": 29, \"14\": 1}, \"5\": {\"5\": 215, \"2\": 6, \"4\": 12, \"1\": 7}, \"15\": {\"15\": 240}, \"11\": {\"11\": 214, \"9\": 18, \"12\": 8}, \"8\": {\"8\": 240}, \"12\": {\"12\": 240}, \"1\": {\"1\": 237, \"5\": 3}, \"2\": {\"2\": 163, \"14\": 43, \"6\": 8, \"13\": 6, \"3\": 5, \"5\": 15}, \"13\": {\"13\": 139, \"6\": 80, \"4\": 3, \"2\": 9, \"3\": 2, \"14\": 6, \"5\": 1}, \"3\": {\"3\": 239, \"2\": 1}, \"0\": {\"0\": 236, \"8\": 1, \"14\": 1, \"3\": 1, \"11\": 1}, \"9\": {\"9\": 237, \"12\": 2, \"11\": 1}, \"4\": {\"4\": 232, \"5\": 7, \"1\": 1}, \"7\": {\"7\": 240}, \"10\": {\"10\": 240}}, \"ORACLE.run1_32\": {\"4\": {\"4\": 203, \"2\": 31, \"5\": 1, \"7\": 5}, \"14\": {\"14\": 188, \"7\": 7, \"3\": 3, \"11\": 17, \"0\": 17, \"8\": 5, \"5\": 2, \"13\": 1}, \"5\": {\"5\": 167, \"7\": 54, \"13\": 13, \"14\": 2, \"8\": 1, \"3\": 2, \"4\": 1}, \"10\": {\"10\": 240}, \"13\": {\"7\": 8, \"13\": 197, \"11\": 1, \"3\": 13, \"8\": 4, \"4\": 13, \"5\": 3, \"0\": 1}, \"9\": {\"9\": 240}, \"6\": {\"6\": 240}, \"3\": {\"3\": 239, \"13\": 1}, \"15\": {\"15\": 240}, \"7\": {\"7\": 204, \"5\": 24, \"4\": 5, \"2\": 2, \"0\": 1, \"13\": 2, \"14\": 2}, \"12\": {\"12\": 240}, \"8\": {\"8\": 226, \"13\": 2, \"0\": 8, \"3\": 2, \"5\": 2}, \"11\": {\"14\": 7, \"11\": 231, \"13\": 1, \"5\": 1}, \"2\": {\"2\": 200, \"4\": 37, \"7\": 3}, \"1\": {\"1\": 240}, \"0\": {\"0\": 213, \"8\": 13, \"14\": 9, \"7\": 2, \"13\": 2, \"5\": 1}}, \"ORACLE.run1_44\": {\"8\": {\"0\": 97, \"8\": 131, \"5\": 5, \"15\": 7}, \"11\": {\"11\": 234, \"13\": 4, \"6\": 2}, \"14\": {\"14\": 189, \"4\": 42, \"15\": 7, \"5\": 2}, \"10\": {\"10\": 212, \"1\": 17, \"2\": 6, \"12\": 3, \"7\": 2}, \"3\": {\"3\": 236, \"1\": 2, \"12\": 2}, \"15\": {\"15\": 212, \"8\": 5, \"14\": 12, \"0\": 9, \"5\": 2}, \"2\": {\"2\": 198, \"7\": 26, \"10\": 10, \"1\": 6}, \"12\": {\"12\": 232, \"1\": 7, \"3\": 1}, \"4\": {\"14\": 56, \"4\": 183, \"15\": 1}, \"1\": {\"1\": 194, \"3\": 5, \"12\": 22, \"10\": 8, \"2\": 11}, \"0\": {\"0\": 154, \"15\": 8, \"8\": 73, \"5\": 5}, \"9\": {\"6\": 13, \"7\": 75, \"9\": 136, \"13\": 16}, \"5\": {\"5\": 216, \"8\": 4, \"15\": 8, \"0\": 7, \"14\": 4, \"4\": 1}, \"6\": {\"6\": 182, \"13\": 42, \"9\": 15, \"7\": 1}, \"7\": {\"7\": 175, \"2\": 22, \"9\": 42, \"6\": 1}, \"13\": {\"13\": 164, \"6\": 55, \"9\": 18, \"7\": 3}}, \"ORACLE.run1_8\": {\"13\": {\"13\": 134, \"4\": 34, \"10\": 31, \"0\": 31, \"14\": 3, \"6\": 7}, \"3\": {\"3\": 240}, \"15\": {\"15\": 227, \"12\": 13}, \"4\": {\"4\": 208, \"14\": 5, \"13\": 17, \"6\": 8, \"10\": 2}, \"7\": {\"7\": 218, \"6\": 22}, \"2\": {\"2\": 231, \"7\": 6, \"3\": 3}, \"1\": {\"1\": 239, \"14\": 1}, \"0\": {\"0\": 220, \"13\": 14, \"4\": 3, \"6\": 2, \"7\": 1}, \"12\": {\"8\": 15, \"12\": 188, \"15\": 34, \"3\": 3}, \"6\": {\"6\": 204, \"7\": 23, \"4\": 6, \"13\": 6, \"0\": 1}, \"11\": {\"11\": 234, \"1\": 6}, \"9\": {\"9\": 240}, \"5\": {\"5\": 236, \"1\": 1, \"10\": 2, \"14\": 1}, \"10\": {\"10\": 214, \"13\": 13, \"4\": 5, \"14\": 8}, \"14\": {\"14\": 204, \"4\": 19, \"10\": 12, \"1\": 3, \"5\": 1, \"13\": 1}, \"8\": {\"8\": 238, \"15\": 2}}, \"ORACLE.run1_20\": {\"6\": {\"6\": 230, \"14\": 10}, \"11\": {\"11\": 240}, \"5\": {\"5\": 204, \"0\": 19, \"15\": 13, \"12\": 3, \"4\": 1}, \"14\": {\"14\": 236, \"6\": 4}, \"2\": {\"2\": 194, \"7\": 6, \"9\": 23, \"3\": 9, \"12\": 6, \"13\": 2}, \"7\": {\"7\": 233, \"2\": 6, \"8\": 1}, \"3\": {\"3\": 174, \"2\": 10, \"9\": 22, \"7\": 5, \"12\": 24, \"4\": 4, \"1\": 1}, \"4\": {\"4\": 239, \"8\": 1}, \"9\": {\"2\": 23, \"9\": 193, \"3\": 18, \"12\": 6}, \"12\": {\"12\": 169, \"3\": 25, \"1\": 26, \"2\": 9, \"5\": 3, \"9\": 8}, \"0\": {\"0\": 209, \"5\": 20, \"15\": 11}, \"10\": {\"10\": 240}, \"8\": {\"8\": 232, \"4\": 6, \"7\": 2}, \"13\": {\"13\": 238, \"2\": 2}, \"1\": {\"1\": 209, \"12\": 18, \"15\": 10, \"5\": 3}, \"15\": {\"15\": 214, \"5\": 10, \"1\": 12, \"0\": 4}}, \"ORACLE.run1_38\": {\"3\": {\"3\": 238, \"0\": 2}, \"8\": {\"8\": 184, \"5\": 41, \"7\": 5, \"15\": 2, \"10\": 1, \"0\": 5, \"13\": 2}, \"0\": {\"0\": 184, \"10\": 8, \"5\": 6, \"8\": 18, \"3\": 10, \"13\": 5, \"7\": 9}, \"2\": {\"2\": 235, \"14\": 4, \"13\": 1}, \"4\": {\"4\": 240}, \"7\": {\"7\": 224, \"0\": 1, \"5\": 9, \"8\": 6}, \"12\": {\"12\": 238, \"4\": 2}, \"6\": {\"6\": 239, \"5\": 1}, \"15\": {\"15\": 216, \"1\": 14, \"8\": 5, \"5\": 5}, \"11\": {\"11\": 237, \"10\": 1, \"14\": 2}, \"9\": {\"9\": 238, \"5\": 2}, \"14\": {\"14\": 237, \"2\": 3}, \"10\": {\"10\": 207, \"0\": 10, \"13\": 10, \"14\": 8, \"7\": 4, \"11\": 1}, \"5\": {\"5\": 151, \"8\": 59, \"7\": 15, \"9\": 8, \"15\": 4, \"6\": 1, \"0\": 1, \"13\": 1}, \"1\": {\"1\": 240}, \"13\": {\"13\": 226, \"8\": 2, \"0\": 2, \"3\": 2, \"10\": 5, \"2\": 2, \"5\": 1}}, \"ORACLE.run1_26\": {\"5\": {\"5\": 225, \"13\": 10, \"2\": 5}, \"8\": {\"4\": 12, \"0\": 12, \"8\": 165, \"10\": 34, \"7\": 8, \"14\": 7, \"2\": 1, \"15\": 1}, \"4\": {\"4\": 194, \"10\": 3, \"7\": 10, \"0\": 7, \"14\": 18, \"8\": 8}, \"12\": {\"12\": 240}, \"6\": {\"6\": 225, \"15\": 4, \"9\": 6, \"10\": 5}, \"7\": {\"7\": 198, \"3\": 15, \"8\": 6, \"4\": 9, \"2\": 10, \"0\": 2}, \"10\": {\"8\": 30, \"0\": 63, \"10\": 124, \"15\": 1, \"14\": 14, \"6\": 2, \"4\": 5, \"9\": 1}, \"0\": {\"0\": 132, \"10\": 52, \"14\": 21, \"4\": 20, \"8\": 12, \"7\": 3}, \"15\": {\"15\": 189, \"9\": 34, \"10\": 2, \"6\": 6, \"8\": 2, \"13\": 4, \"2\": 2, \"0\": 1}, \"9\": {\"9\": 183, \"15\": 40, \"6\": 13, \"13\": 3, \"10\": 1}, \"11\": {\"11\": 240}, \"14\": {\"14\": 187, \"4\": 8, \"0\": 33, \"1\": 7, \"10\": 4, \"8\": 1}, \"2\": {\"2\": 122, \"3\": 71, \"13\": 3, \"9\": 2, \"7\": 8, \"8\": 8, \"5\": 20, \"15\": 6}, \"13\": {\"13\": 210, \"5\": 20, \"2\": 3, \"9\": 3, \"15\": 3, \"6\": 1}, \"3\": {\"3\": 216, \"2\": 18, \"7\": 6}, \"1\": {\"14\": 12, \"1\": 227, \"4\": 1}}}, \"per_domain_accuracy\": {\"ORACLE.run2_50\": {\"accuracy\": 0.9229166666666667, \"source?\": true}, \"ORACLE.run2_14\": {\"accuracy\": 0.9447916666666667, \"source?\": true}, \"ORACLE.run2_32\": {\"accuracy\": 0.9302083333333333, \"source?\": true}, \"ORACLE.run2_44\": {\"accuracy\": 0.8544270833333333, \"source?\": true}, \"ORACLE.run2_8\": {\"accuracy\": 0.9080729166666667, \"source?\": true}, \"ORACLE.run2_20\": {\"accuracy\": 0.8872395833333333, \"source?\": true}, \"ORACLE.run2_38\": {\"accuracy\": 0.8989583333333333, \"source?\": true}, \"ORACLE.run2_26\": {\"accuracy\": 0.8044270833333333, \"source?\": true}, \"ORACLE.run1_50\": {\"accuracy\": 0.9208333333333333, \"source?\": false}, \"ORACLE.run1_14\": {\"accuracy\": 0.9247395833333333, \"source?\": false}, \"ORACLE.run1_32\": {\"accuracy\": 0.9135416666666667, \"source?\": false}, \"ORACLE.run1_44\": {\"accuracy\": 0.79375, \"source?\": false}, \"ORACLE.run1_8\": {\"accuracy\": 0.9049479166666666, \"source?\": false}, \"ORACLE.run1_20\": {\"accuracy\": 0.8994791666666667, \"source?\": false}, \"ORACLE.run1_38\": {\"accuracy\": 0.9203125, \"source?\": false}, \"ORACLE.run1_26\": {\"accuracy\": 0.8013020833333333, \"source?\": false}}}, \"history\": {\"epoch_indices\": [1, 2, 3, 4, 5, 6, 7, 8, 9, 10, 11, 12], \"train_label_loss\": [0.8356109764715213, 0.5041780538829266, 0.40589907149218823, 0.3462995968961401, 0.3070191344746577, 0.2824892376159412, 0.2604253360517933, 0.24112731299412968, 0.22728477380490705, 0.21296397045776497, 0.19953653921135509, 0.18883401543831235], \"source_val_label_loss\": [1.0711370706558228, 0.4453795254230499, 0.3984353840351105, 0.3505595326423645, 0.34664469957351685, 0.32625722885131836, 0.3539935350418091, 0.2894464135169983, 0.29788485169410706, 0.2884227931499481, 0.29670223593711853, 0.28440234065055847], \"target_val_label_loss\": [1.1054712533950806, 0.43584999442100525, 0.3987002670764923, 0.35854819416999817, 0.3581002354621887, 0.3467787504196167, 0.3828542232513428, 0.324293851852417, 0.3352881669998169, 0.33722618222236633, 0.3441151976585388, 0.34412556886672974], \"source_val_acc_label\": [0.709375, 0.8419270833333333, 0.8580729166666666, 0.873046875, 0.8748697916666667, 0.8829427083333333, 0.8708333333333333, 0.8938802083333334, 0.89208984375, 0.8963541666666667, 0.89658203125, 0.8996744791666667], \"target_val_acc_label\": [0.71357421875, 0.84580078125, 0.85625, 0.8727213541666666, 0.8732096354166666, 0.8784505208333333, 0.8650065104166667, 0.88486328125, 0.8827473958333333, 0.8828450520833333, 0.8826171875, 0.8813802083333333]}, \"dataset_metrics\": {\"source\": {\"train\": {\"n_unique_x\": 179200, \"n_unique_y\": 16, \"n_batch/episode\": 6720}, \"val\": {\"n_unique_x\": 38400, \"n_unique_y\": 16, \"n_batch/episode\": 960}, \"test\": {\"n_unique_x\": 38400, \"n_unique_y\": 16, \"n_batch/episode\": 960}}, \"target\": {\"train\": {\"n_unique_x\": 179200, \"n_unique_y\": 16, \"n_batch/episode\": 6720}, \"val\": {\"n_unique_x\": 38400, \"n_unique_y\": 16, \"n_batch/episode\": 960}, \"test\": {\"n_unique_x\": 38400, \"n_unique_y\": 16, \"n_batch/episode\": 960}}}}'"
      ]
     },
     "execution_count": 29,
     "metadata": {},
     "output_type": "execute_result"
    }
   ],
   "source": [
    "json.dumps(experiment)"
   ]
  }
 ],
 "metadata": {
  "celltoolbar": "Tags",
  "kernelspec": {
   "display_name": "Python 3 (ipykernel)",
   "language": "python",
   "name": "python3"
  },
  "language_info": {
   "codemirror_mode": {
    "name": "ipython",
    "version": 3
   },
   "file_extension": ".py",
   "mimetype": "text/x-python",
   "name": "python",
   "nbconvert_exporter": "python",
   "pygments_lexer": "ipython3",
   "version": "3.8.12"
  },
  "papermill": {
   "default_parameters": {},
   "duration": 2632.248264,
   "end_time": "2022-03-22T10:29:16.375007",
   "environment_variables": {},
   "exception": null,
   "input_path": "/root/csc500-main/csc500-notebooks/templates/tl_ptn_template.ipynb",
   "output_path": "trial.ipynb",
   "parameters": {
    "parameters": {
     "BEST_MODEL_PATH": "./best_model.pth",
     "NUM_LOGS_PER_EPOCH": 10,
     "criteria_for_best": "target_accuracy",
     "dataset_seed": 500,
     "datasets": [
      {
       "domain_prefix": "ORACLE.run1_",
       "domains": [
        32,
        38,
        8,
        44,
        14,
        50,
        20,
        26
       ],
       "episode_transforms": [],
       "labels": [
        "3123D52",
        "3123D65",
        "3123D79",
        "3123D80",
        "3123D54",
        "3123D70",
        "3123D7B",
        "3123D89",
        "3123D58",
        "3123D76",
        "3123D7D",
        "3123EFE",
        "3123D64",
        "3123D78",
        "3123D7E",
        "3124E4A"
       ],
       "num_examples_per_domain_per_label": 2000,
       "pickle_path": "/root/csc500-main/datasets/oracle.Run1_framed_2000Examples_stratified_ds.2022A.pkl",
       "source_or_target_dataset": "target",
       "x_transforms": [
        "unit_mag"
       ]
      },
      {
       "domain_prefix": "ORACLE.run2_",
       "domains": [
        32,
        38,
        8,
        44,
        14,
        50,
        20,
        26
       ],
       "episode_transforms": [],
       "labels": [
        "3123D52",
        "3123D65",
        "3123D79",
        "3123D80",
        "3123D54",
        "3123D70",
        "3123D7B",
        "3123D89",
        "3123D58",
        "3123D76",
        "3123D7D",
        "3123EFE",
        "3123D64",
        "3123D78",
        "3123D7E",
        "3124E4A"
       ],
       "num_examples_per_domain_per_label": 2000,
       "pickle_path": "/root/csc500-main/datasets/oracle.Run2_framed_2000Examples_stratified_ds.2022A.pkl",
       "source_or_target_dataset": "source",
       "x_transforms": [
        "unit_mag"
       ]
      }
     ],
     "device": "cuda",
     "experiment_name": "tl_1v2:oracle.run1.framed-oracle.run2.framed",
     "lr": 0.0001,
     "n_epoch": 50,
     "n_query": 2,
     "n_shot": 3,
     "n_way": 16,
     "patience": 3,
     "seed": 500,
     "test_k_factor": 2,
     "torch_default_dtype": "torch.float32",
     "train_k_factor": 3,
     "val_k_factor": 2,
     "x_net": [
      {
       "class": "nnReshape",
       "kargs": {
        "shape": [
         -1,
         1,
         2,
         256
        ]
       }
      },
      {
       "class": "Conv2d",
       "kargs": {
        "bias": false,
        "in_channels": 1,
        "kernel_size": [
         1,
         7
        ],
        "out_channels": 256,
        "padding": [
         0,
         3
        ]
       }
      },
      {
       "class": "ReLU",
       "kargs": {
        "inplace": true
       }
      },
      {
       "class": "BatchNorm2d",
       "kargs": {
        "num_features": 256
       }
      },
      {
       "class": "Conv2d",
       "kargs": {
        "bias": true,
        "in_channels": 256,
        "kernel_size": [
         2,
         7
        ],
        "out_channels": 80,
        "padding": [
         0,
         3
        ]
       }
      },
      {
       "class": "ReLU",
       "kargs": {
        "inplace": true
       }
      },
      {
       "class": "BatchNorm2d",
       "kargs": {
        "num_features": 80
       }
      },
      {
       "class": "Flatten",
       "kargs": {}
      },
      {
       "class": "Linear",
       "kargs": {
        "in_features": 20480,
        "out_features": 256
       }
      },
      {
       "class": "ReLU",
       "kargs": {
        "inplace": true
       }
      },
      {
       "class": "BatchNorm1d",
       "kargs": {
        "num_features": 256
       }
      },
      {
       "class": "Linear",
       "kargs": {
        "in_features": 256,
        "out_features": 256
       }
      }
     ]
    }
   },
   "start_time": "2022-03-22T09:45:24.126743",
   "version": "2.3.4"
  }
 },
 "nbformat": 4,
 "nbformat_minor": 5
}