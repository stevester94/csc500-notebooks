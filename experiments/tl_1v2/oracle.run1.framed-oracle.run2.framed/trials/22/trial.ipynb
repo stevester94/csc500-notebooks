{
 "cells": [
  {
   "cell_type": "markdown",
   "id": "9fea5f46",
   "metadata": {
    "papermill": {
     "duration": 0.033293,
     "end_time": "2022-03-22T02:51:38.171467",
     "exception": false,
     "start_time": "2022-03-22T02:51:38.138174",
     "status": "completed"
    },
    "tags": []
   },
   "source": [
    "# Transfer Learning Template"
   ]
  },
  {
   "cell_type": "code",
   "execution_count": 1,
   "id": "0902182a",
   "metadata": {
    "execution": {
     "iopub.execute_input": "2022-03-22T02:51:38.236290Z",
     "iopub.status.busy": "2022-03-22T02:51:38.228951Z",
     "iopub.status.idle": "2022-03-22T02:51:40.940974Z",
     "shell.execute_reply": "2022-03-22T02:51:40.941369Z"
    },
    "papermill": {
     "duration": 2.744848,
     "end_time": "2022-03-22T02:51:40.941559",
     "exception": false,
     "start_time": "2022-03-22T02:51:38.196711",
     "status": "completed"
    },
    "tags": []
   },
   "outputs": [],
   "source": [
    "%load_ext autoreload\n",
    "%autoreload 2\n",
    "%matplotlib inline\n",
    "\n",
    "    \n",
    "import os, json, sys, time, random\n",
    "import numpy as np\n",
    "import torch\n",
    "from torch.optim import Adam\n",
    "from  easydict import EasyDict\n",
    "import matplotlib.pyplot as plt\n",
    "\n",
    "from steves_models.steves_ptn import Steves_Prototypical_Network\n",
    "\n",
    "from steves_utils.lazy_iterable_wrapper import Lazy_Iterable_Wrapper\n",
    "from steves_utils.iterable_aggregator import Iterable_Aggregator\n",
    "from steves_utils.ptn_train_eval_test_jig import  PTN_Train_Eval_Test_Jig\n",
    "from steves_utils.torch_sequential_builder import build_sequential\n",
    "from steves_utils.torch_utils import get_dataset_metrics, ptn_confusion_by_domain_over_dataloader\n",
    "from steves_utils.utils_v2 import (per_domain_accuracy_from_confusion, get_datasets_base_path)\n",
    "from steves_utils.PTN.utils import independent_accuracy_assesment\n",
    "\n",
    "from torch.utils.data import DataLoader\n",
    "\n",
    "from steves_utils.stratified_dataset.episodic_accessor import Episodic_Accessor_Factory\n",
    "\n",
    "from steves_utils.ptn_do_report import (\n",
    "    get_loss_curve,\n",
    "    get_results_table,\n",
    "    get_parameters_table,\n",
    "    get_domain_accuracies,\n",
    ")\n",
    "\n",
    "from steves_utils.transforms import get_chained_transform"
   ]
  },
  {
   "cell_type": "markdown",
   "id": "41c840b4",
   "metadata": {
    "papermill": {
     "duration": 0.019094,
     "end_time": "2022-03-22T02:51:40.980600",
     "exception": false,
     "start_time": "2022-03-22T02:51:40.961506",
     "status": "completed"
    },
    "tags": []
   },
   "source": [
    "# Allowed Parameters\n",
    "These are allowed parameters, not defaults\n",
    "Each of these values need to be present in the injected parameters (the notebook will raise an exception if they are not present)\n",
    "\n",
    "Papermill uses the cell tag \"parameters\" to inject the real parameters below this cell.\n",
    "Enable tags to see what I mean"
   ]
  },
  {
   "cell_type": "code",
   "execution_count": 2,
   "id": "fd44eb83",
   "metadata": {
    "execution": {
     "iopub.execute_input": "2022-03-22T02:51:41.023871Z",
     "iopub.status.busy": "2022-03-22T02:51:41.023468Z",
     "iopub.status.idle": "2022-03-22T02:51:41.049388Z",
     "shell.execute_reply": "2022-03-22T02:51:41.048695Z"
    },
    "papermill": {
     "duration": 0.049764,
     "end_time": "2022-03-22T02:51:41.049543",
     "exception": false,
     "start_time": "2022-03-22T02:51:40.999779",
     "status": "completed"
    },
    "tags": []
   },
   "outputs": [],
   "source": [
    "required_parameters = {\n",
    "    \"experiment_name\",\n",
    "    \"lr\",\n",
    "    \"device\",\n",
    "    \"seed\",\n",
    "    \"dataset_seed\",\n",
    "    \"n_shot\",\n",
    "    \"n_query\",\n",
    "    \"n_way\",\n",
    "    \"train_k_factor\",\n",
    "    \"val_k_factor\",\n",
    "    \"test_k_factor\",\n",
    "    \"n_epoch\",\n",
    "    \"patience\",\n",
    "    \"criteria_for_best\",\n",
    "    \"x_net\",\n",
    "    \"datasets\",\n",
    "    \"torch_default_dtype\",\n",
    "    \"NUM_LOGS_PER_EPOCH\",\n",
    "    \"BEST_MODEL_PATH\",\n",
    "    \"x_shape\",\n",
    "}"
   ]
  },
  {
   "cell_type": "code",
   "execution_count": 3,
   "id": "fa3f0049",
   "metadata": {
    "execution": {
     "iopub.execute_input": "2022-03-22T02:51:41.109056Z",
     "iopub.status.busy": "2022-03-22T02:51:41.108154Z",
     "iopub.status.idle": "2022-03-22T02:51:41.132524Z",
     "shell.execute_reply": "2022-03-22T02:51:41.131822Z"
    },
    "papermill": {
     "duration": 0.058309,
     "end_time": "2022-03-22T02:51:41.132674",
     "exception": false,
     "start_time": "2022-03-22T02:51:41.074365",
     "status": "completed"
    },
    "tags": [
     "parameters"
    ]
   },
   "outputs": [],
   "source": [
    "from steves_utils.CORES.utils import (\n",
    "    ALL_NODES,\n",
    "    ALL_NODES_MINIMUM_1000_EXAMPLES,\n",
    "    ALL_DAYS\n",
    ")\n",
    "\n",
    "from steves_utils.ORACLE.utils_v2 import (\n",
    "    ALL_DISTANCES_FEET_NARROWED,\n",
    "    ALL_RUNS,\n",
    "    ALL_SERIAL_NUMBERS,\n",
    ")\n",
    "\n",
    "standalone_parameters = {}\n",
    "standalone_parameters[\"experiment_name\"] = \"STANDALONE PTN\"\n",
    "standalone_parameters[\"lr\"] = 0.001\n",
    "standalone_parameters[\"device\"] = \"cuda\"\n",
    "\n",
    "standalone_parameters[\"seed\"] = 1337\n",
    "standalone_parameters[\"dataset_seed\"] = 1337\n",
    "\n",
    "standalone_parameters[\"n_way\"] = 8\n",
    "standalone_parameters[\"n_shot\"] = 3\n",
    "standalone_parameters[\"n_query\"]  = 2\n",
    "standalone_parameters[\"train_k_factor\"] = 1\n",
    "standalone_parameters[\"val_k_factor\"] = 2\n",
    "standalone_parameters[\"test_k_factor\"] = 2\n",
    "\n",
    "\n",
    "standalone_parameters[\"n_epoch\"] = 50\n",
    "\n",
    "standalone_parameters[\"patience\"] = 10\n",
    "standalone_parameters[\"criteria_for_best\"] = \"source_loss\"\n",
    "\n",
    "standalone_parameters[\"datasets\"] = [\n",
    "    {\n",
    "        \"labels\": ALL_SERIAL_NUMBERS,\n",
    "        \"domains\": ALL_DISTANCES_FEET_NARROWED,\n",
    "        \"num_examples_per_domain_per_label\": 100,\n",
    "        \"pickle_path\": os.path.join(get_datasets_base_path(), \"oracle.Run1_framed_2000Examples_stratified_ds.2022A.pkl\"),\n",
    "        \"source_or_target_dataset\": \"source\",\n",
    "        \"x_transforms\": [\"unit_mag\", \"minus_two\"],\n",
    "        \"episode_transforms\": [],\n",
    "        \"domain_prefix\": \"ORACLE_\"\n",
    "    },\n",
    "    {\n",
    "        \"labels\": ALL_NODES,\n",
    "        \"domains\": ALL_DAYS,\n",
    "        \"num_examples_per_domain_per_label\": 100,\n",
    "        \"pickle_path\": os.path.join(get_datasets_base_path(), \"cores.stratified_ds.2022A.pkl\"),\n",
    "        \"source_or_target_dataset\": \"target\",\n",
    "        \"x_transforms\": [\"unit_power\", \"times_zero\"],\n",
    "        \"episode_transforms\": [],\n",
    "        \"domain_prefix\": \"CORES_\"\n",
    "    }   \n",
    "]\n",
    "\n",
    "standalone_parameters[\"torch_default_dtype\"] = \"torch.float32\" \n",
    "\n",
    "\n",
    "\n",
    "standalone_parameters[\"x_net\"] =     [\n",
    "    {\"class\": \"nnReshape\", \"kargs\": {\"shape\":[-1, 1, 2, 256]}},\n",
    "    {\"class\": \"Conv2d\", \"kargs\": { \"in_channels\":1, \"out_channels\":256, \"kernel_size\":(1,7), \"bias\":False, \"padding\":(0,3), },},\n",
    "    {\"class\": \"ReLU\", \"kargs\": {\"inplace\": True}},\n",
    "    {\"class\": \"BatchNorm2d\", \"kargs\": {\"num_features\":256}},\n",
    "\n",
    "    {\"class\": \"Conv2d\", \"kargs\": { \"in_channels\":256, \"out_channels\":80, \"kernel_size\":(2,7), \"bias\":True, \"padding\":(0,3), },},\n",
    "    {\"class\": \"ReLU\", \"kargs\": {\"inplace\": True}},\n",
    "    {\"class\": \"BatchNorm2d\", \"kargs\": {\"num_features\":80}},\n",
    "    {\"class\": \"Flatten\", \"kargs\": {}},\n",
    "\n",
    "    {\"class\": \"Linear\", \"kargs\": {\"in_features\": 80*256, \"out_features\": 256}}, # 80 units per IQ pair\n",
    "    {\"class\": \"ReLU\", \"kargs\": {\"inplace\": True}},\n",
    "    {\"class\": \"BatchNorm1d\", \"kargs\": {\"num_features\":256}},\n",
    "\n",
    "    {\"class\": \"Linear\", \"kargs\": {\"in_features\": 256, \"out_features\": 256}},\n",
    "]\n",
    "\n",
    "# Parameters relevant to results\n",
    "# These parameters will basically never need to change\n",
    "standalone_parameters[\"NUM_LOGS_PER_EPOCH\"] = 10\n",
    "standalone_parameters[\"BEST_MODEL_PATH\"] = \"./best_model.pth\"\n",
    "\n",
    "\n",
    "\n",
    "\n"
   ]
  },
  {
   "cell_type": "code",
   "execution_count": 4,
   "id": "7c69df96",
   "metadata": {
    "execution": {
     "iopub.execute_input": "2022-03-22T02:51:41.192768Z",
     "iopub.status.busy": "2022-03-22T02:51:41.191850Z",
     "iopub.status.idle": "2022-03-22T02:51:41.214849Z",
     "shell.execute_reply": "2022-03-22T02:51:41.214150Z"
    },
    "papermill": {
     "duration": 0.056536,
     "end_time": "2022-03-22T02:51:41.215002",
     "exception": false,
     "start_time": "2022-03-22T02:51:41.158466",
     "status": "completed"
    },
    "tags": [
     "injected-parameters"
    ]
   },
   "outputs": [],
   "source": [
    "# Parameters\n",
    "parameters = {\n",
    "    \"experiment_name\": \"tl_1v2:oracle.run1.framed-oracle.run2.framed\",\n",
    "    \"device\": \"cuda\",\n",
    "    \"lr\": 0.0001,\n",
    "    \"n_shot\": 3,\n",
    "    \"n_query\": 2,\n",
    "    \"train_k_factor\": 3,\n",
    "    \"val_k_factor\": 2,\n",
    "    \"test_k_factor\": 2,\n",
    "    \"torch_default_dtype\": \"torch.float32\",\n",
    "    \"n_epoch\": 50,\n",
    "    \"patience\": 3,\n",
    "    \"criteria_for_best\": \"target_accuracy\",\n",
    "    \"x_net\": [\n",
    "        {\"class\": \"nnReshape\", \"kargs\": {\"shape\": [-1, 1, 2, 256]}},\n",
    "        {\n",
    "            \"class\": \"Conv2d\",\n",
    "            \"kargs\": {\n",
    "                \"in_channels\": 1,\n",
    "                \"out_channels\": 256,\n",
    "                \"kernel_size\": [1, 7],\n",
    "                \"bias\": False,\n",
    "                \"padding\": [0, 3],\n",
    "            },\n",
    "        },\n",
    "        {\"class\": \"ReLU\", \"kargs\": {\"inplace\": True}},\n",
    "        {\"class\": \"BatchNorm2d\", \"kargs\": {\"num_features\": 256}},\n",
    "        {\n",
    "            \"class\": \"Conv2d\",\n",
    "            \"kargs\": {\n",
    "                \"in_channels\": 256,\n",
    "                \"out_channels\": 80,\n",
    "                \"kernel_size\": [2, 7],\n",
    "                \"bias\": True,\n",
    "                \"padding\": [0, 3],\n",
    "            },\n",
    "        },\n",
    "        {\"class\": \"ReLU\", \"kargs\": {\"inplace\": True}},\n",
    "        {\"class\": \"BatchNorm2d\", \"kargs\": {\"num_features\": 80}},\n",
    "        {\"class\": \"Flatten\", \"kargs\": {}},\n",
    "        {\"class\": \"Linear\", \"kargs\": {\"in_features\": 20480, \"out_features\": 256}},\n",
    "        {\"class\": \"ReLU\", \"kargs\": {\"inplace\": True}},\n",
    "        {\"class\": \"BatchNorm1d\", \"kargs\": {\"num_features\": 256}},\n",
    "        {\"class\": \"Linear\", \"kargs\": {\"in_features\": 256, \"out_features\": 256}},\n",
    "    ],\n",
    "    \"NUM_LOGS_PER_EPOCH\": 10,\n",
    "    \"BEST_MODEL_PATH\": \"./best_model.pth\",\n",
    "    \"n_way\": 16,\n",
    "    \"datasets\": [\n",
    "        {\n",
    "            \"labels\": [\n",
    "                \"3123D52\",\n",
    "                \"3123D65\",\n",
    "                \"3123D79\",\n",
    "                \"3123D80\",\n",
    "                \"3123D54\",\n",
    "                \"3123D70\",\n",
    "                \"3123D7B\",\n",
    "                \"3123D89\",\n",
    "                \"3123D58\",\n",
    "                \"3123D76\",\n",
    "                \"3123D7D\",\n",
    "                \"3123EFE\",\n",
    "                \"3123D64\",\n",
    "                \"3123D78\",\n",
    "                \"3123D7E\",\n",
    "                \"3124E4A\",\n",
    "            ],\n",
    "            \"domains\": [32, 38, 8, 44, 14, 50, 20, 26],\n",
    "            \"num_examples_per_domain_per_label\": 2000,\n",
    "            \"pickle_path\": \"/root/csc500-main/datasets/oracle.Run1_framed_2000Examples_stratified_ds.2022A.pkl\",\n",
    "            \"source_or_target_dataset\": \"target\",\n",
    "            \"x_transforms\": [\"unit_mag\"],\n",
    "            \"episode_transforms\": [],\n",
    "            \"domain_prefix\": \"ORACLE.run1_\",\n",
    "        },\n",
    "        {\n",
    "            \"labels\": [\n",
    "                \"3123D52\",\n",
    "                \"3123D65\",\n",
    "                \"3123D79\",\n",
    "                \"3123D80\",\n",
    "                \"3123D54\",\n",
    "                \"3123D70\",\n",
    "                \"3123D7B\",\n",
    "                \"3123D89\",\n",
    "                \"3123D58\",\n",
    "                \"3123D76\",\n",
    "                \"3123D7D\",\n",
    "                \"3123EFE\",\n",
    "                \"3123D64\",\n",
    "                \"3123D78\",\n",
    "                \"3123D7E\",\n",
    "                \"3124E4A\",\n",
    "            ],\n",
    "            \"domains\": [32, 38, 8, 44, 14, 50, 20, 26],\n",
    "            \"num_examples_per_domain_per_label\": 2000,\n",
    "            \"pickle_path\": \"/root/csc500-main/datasets/oracle.Run2_framed_2000Examples_stratified_ds.2022A.pkl\",\n",
    "            \"source_or_target_dataset\": \"source\",\n",
    "            \"x_transforms\": [\"unit_mag\"],\n",
    "            \"episode_transforms\": [],\n",
    "            \"domain_prefix\": \"ORACLE.run2_\",\n",
    "        },\n",
    "    ],\n",
    "    \"dataset_seed\": 7,\n",
    "    \"seed\": 7,\n",
    "}\n"
   ]
  },
  {
   "cell_type": "code",
   "execution_count": 5,
   "id": "8fa1cc33",
   "metadata": {
    "execution": {
     "iopub.execute_input": "2022-03-22T02:51:41.266743Z",
     "iopub.status.busy": "2022-03-22T02:51:41.266175Z",
     "iopub.status.idle": "2022-03-22T02:51:41.289177Z",
     "shell.execute_reply": "2022-03-22T02:51:41.289837Z"
    },
    "papermill": {
     "duration": 0.050857,
     "end_time": "2022-03-22T02:51:41.290015",
     "exception": false,
     "start_time": "2022-03-22T02:51:41.239158",
     "status": "completed"
    },
    "tags": []
   },
   "outputs": [],
   "source": [
    "# Set this to True if you want to run this template directly\n",
    "STANDALONE = False\n",
    "if STANDALONE:\n",
    "    print(\"parameters not injected, running with standalone_parameters\")\n",
    "    parameters = standalone_parameters\n",
    "\n",
    "if not 'parameters' in locals() and not 'parameters' in globals():\n",
    "    raise Exception(\"Parameter injection failed\")\n",
    "\n",
    "#Use an easy dict for all the parameters\n",
    "p = EasyDict(parameters)\n",
    "\n",
    "if \"x_shape\" not in p:\n",
    "    p.x_shape = [2,256] # Default to this if we dont supply x_shape\n",
    "\n",
    "\n",
    "supplied_keys = set(p.keys())\n",
    "\n",
    "if  supplied_keys != required_parameters:\n",
    "    print(\"Parameters are incorrect\")\n",
    "    if len(supplied_keys - required_parameters)>0: print(\"Shouldn't have:\", str(supplied_keys - required_parameters))\n",
    "    if len(required_parameters - supplied_keys)>0: print(\"Need to have:\", str(required_parameters - supplied_keys))\n",
    "    raise RuntimeError(\"Parameters are incorrect\")"
   ]
  },
  {
   "cell_type": "code",
   "execution_count": 6,
   "id": "3a028d58",
   "metadata": {
    "execution": {
     "iopub.execute_input": "2022-03-22T02:51:41.339927Z",
     "iopub.status.busy": "2022-03-22T02:51:41.339089Z",
     "iopub.status.idle": "2022-03-22T02:51:41.362833Z",
     "shell.execute_reply": "2022-03-22T02:51:41.362056Z"
    },
    "papermill": {
     "duration": 0.047799,
     "end_time": "2022-03-22T02:51:41.363007",
     "exception": false,
     "start_time": "2022-03-22T02:51:41.315208",
     "status": "completed"
    },
    "tags": []
   },
   "outputs": [],
   "source": [
    "###################################\n",
    "# Set the RNGs and make it all deterministic\n",
    "###################################\n",
    "np.random.seed(p.seed)\n",
    "random.seed(p.seed)\n",
    "torch.manual_seed(p.seed)\n",
    "\n",
    "torch.use_deterministic_algorithms(True) "
   ]
  },
  {
   "cell_type": "code",
   "execution_count": 7,
   "id": "b691acf6",
   "metadata": {
    "execution": {
     "iopub.execute_input": "2022-03-22T02:51:41.413985Z",
     "iopub.status.busy": "2022-03-22T02:51:41.413128Z",
     "iopub.status.idle": "2022-03-22T02:51:41.437326Z",
     "shell.execute_reply": "2022-03-22T02:51:41.436593Z"
    },
    "papermill": {
     "duration": 0.049113,
     "end_time": "2022-03-22T02:51:41.437495",
     "exception": false,
     "start_time": "2022-03-22T02:51:41.388382",
     "status": "completed"
    },
    "tags": []
   },
   "outputs": [],
   "source": [
    "###########################################\n",
    "# The stratified datasets honor this\n",
    "###########################################\n",
    "torch.set_default_dtype(eval(p.torch_default_dtype))"
   ]
  },
  {
   "cell_type": "code",
   "execution_count": 8,
   "id": "b5fba671",
   "metadata": {
    "execution": {
     "iopub.execute_input": "2022-03-22T02:51:41.489413Z",
     "iopub.status.busy": "2022-03-22T02:51:41.489041Z",
     "iopub.status.idle": "2022-03-22T02:51:41.547008Z",
     "shell.execute_reply": "2022-03-22T02:51:41.546259Z"
    },
    "papermill": {
     "duration": 0.081244,
     "end_time": "2022-03-22T02:51:41.547184",
     "exception": false,
     "start_time": "2022-03-22T02:51:41.465940",
     "status": "completed"
    },
    "tags": []
   },
   "outputs": [],
   "source": [
    "###################################\n",
    "# Build the network(s)\n",
    "# Note: It's critical to do this AFTER setting the RNG\n",
    "###################################\n",
    "x_net = build_sequential(p.x_net)"
   ]
  },
  {
   "cell_type": "code",
   "execution_count": 9,
   "id": "5d7e61cc",
   "metadata": {
    "execution": {
     "iopub.execute_input": "2022-03-22T02:51:41.597444Z",
     "iopub.status.busy": "2022-03-22T02:51:41.597070Z",
     "iopub.status.idle": "2022-03-22T02:51:41.623519Z",
     "shell.execute_reply": "2022-03-22T02:51:41.622703Z"
    },
    "papermill": {
     "duration": 0.050991,
     "end_time": "2022-03-22T02:51:41.623729",
     "exception": false,
     "start_time": "2022-03-22T02:51:41.572738",
     "status": "completed"
    },
    "tags": []
   },
   "outputs": [],
   "source": [
    "start_time_secs = time.time()"
   ]
  },
  {
   "cell_type": "code",
   "execution_count": 10,
   "id": "c6b67dfd",
   "metadata": {
    "execution": {
     "iopub.execute_input": "2022-03-22T02:51:41.675528Z",
     "iopub.status.busy": "2022-03-22T02:51:41.674689Z",
     "iopub.status.idle": "2022-03-22T02:51:41.695890Z",
     "shell.execute_reply": "2022-03-22T02:51:41.695116Z"
    },
    "papermill": {
     "duration": 0.044566,
     "end_time": "2022-03-22T02:51:41.696053",
     "exception": false,
     "start_time": "2022-03-22T02:51:41.651487",
     "status": "completed"
    },
    "tags": []
   },
   "outputs": [],
   "source": [
    "p.domains_source = []\n",
    "p.domains_target = []\n",
    "\n",
    "\n",
    "train_original_source = []\n",
    "val_original_source   = []\n",
    "test_original_source  = []\n",
    "\n",
    "train_original_target = []\n",
    "val_original_target   = []\n",
    "test_original_target  = []"
   ]
  },
  {
   "cell_type": "code",
   "execution_count": 11,
   "id": "e3d9c3d3",
   "metadata": {
    "execution": {
     "iopub.execute_input": "2022-03-22T02:51:41.747271Z",
     "iopub.status.busy": "2022-03-22T02:51:41.746793Z",
     "iopub.status.idle": "2022-03-22T02:51:41.771823Z",
     "shell.execute_reply": "2022-03-22T02:51:41.770941Z"
    },
    "papermill": {
     "duration": 0.048351,
     "end_time": "2022-03-22T02:51:41.771990",
     "exception": false,
     "start_time": "2022-03-22T02:51:41.723639",
     "status": "completed"
    },
    "tags": []
   },
   "outputs": [],
   "source": [
    "# global_x_transform_func = lambda x: normalize(x.to(torch.get_default_dtype()), \"unit_power\") # unit_power, unit_mag\n",
    "# global_x_transform_func = lambda x: normalize(x, \"unit_power\") # unit_power, unit_mag"
   ]
  },
  {
   "cell_type": "code",
   "execution_count": 12,
   "id": "acb78fd2",
   "metadata": {
    "execution": {
     "iopub.execute_input": "2022-03-22T02:51:41.830833Z",
     "iopub.status.busy": "2022-03-22T02:51:41.830025Z",
     "iopub.status.idle": "2022-03-22T02:51:41.851461Z",
     "shell.execute_reply": "2022-03-22T02:51:41.850655Z"
    },
    "papermill": {
     "duration": 0.054939,
     "end_time": "2022-03-22T02:51:41.851668",
     "exception": false,
     "start_time": "2022-03-22T02:51:41.796729",
     "status": "completed"
    },
    "tags": []
   },
   "outputs": [],
   "source": [
    "def add_dataset(\n",
    "    labels,\n",
    "    domains,\n",
    "    pickle_path,\n",
    "    x_transforms,\n",
    "    episode_transforms,\n",
    "    domain_prefix,\n",
    "    num_examples_per_domain_per_label,\n",
    "    source_or_target_dataset:str,\n",
    "    iterator_seed=p.seed,\n",
    "    dataset_seed=p.dataset_seed,\n",
    "    n_shot=p.n_shot,\n",
    "    n_way=p.n_way,\n",
    "    n_query=p.n_query,\n",
    "    train_val_test_k_factors=(p.train_k_factor,p.val_k_factor,p.test_k_factor),\n",
    "):\n",
    "   \n",
    "    if x_transforms == []: x_transform = None\n",
    "    else: x_transform = get_chained_transform(x_transforms)\n",
    "    \n",
    "    if episode_transforms == []: episode_transform = None\n",
    "    else: raise Exception(\"episode_transforms not implemented\")\n",
    "    \n",
    "    episode_transform = lambda tup, _prefix=domain_prefix: (_prefix + str(tup[0]), tup[1])\n",
    "\n",
    "\n",
    "    eaf = Episodic_Accessor_Factory(\n",
    "        labels=labels,\n",
    "        domains=domains,\n",
    "        num_examples_per_domain_per_label=num_examples_per_domain_per_label,\n",
    "        iterator_seed=iterator_seed,\n",
    "        dataset_seed=dataset_seed,\n",
    "        n_shot=n_shot,\n",
    "        n_way=n_way,\n",
    "        n_query=n_query,\n",
    "        train_val_test_k_factors=train_val_test_k_factors,\n",
    "        pickle_path=pickle_path,\n",
    "        x_transform_func=x_transform,\n",
    "    )\n",
    "\n",
    "    train, val, test = eaf.get_train(), eaf.get_val(), eaf.get_test()\n",
    "    train = Lazy_Iterable_Wrapper(train, episode_transform)\n",
    "    val = Lazy_Iterable_Wrapper(val, episode_transform)\n",
    "    test = Lazy_Iterable_Wrapper(test, episode_transform)\n",
    "\n",
    "    if source_or_target_dataset==\"source\":\n",
    "        train_original_source.append(train)\n",
    "        val_original_source.append(val)\n",
    "        test_original_source.append(test)\n",
    "\n",
    "        p.domains_source.extend(\n",
    "            [domain_prefix + str(u) for u in domains]\n",
    "        )\n",
    "    elif source_or_target_dataset==\"target\":\n",
    "        train_original_target.append(train)\n",
    "        val_original_target.append(val)\n",
    "        test_original_target.append(test)\n",
    "        p.domains_target.extend(\n",
    "            [domain_prefix + str(u) for u in domains]\n",
    "        )\n",
    "    else:\n",
    "        raise Exception(f\"invalid source_or_target_dataset: {source_or_target_dataset}\")\n",
    "    "
   ]
  },
  {
   "cell_type": "code",
   "execution_count": 13,
   "id": "fe266617",
   "metadata": {
    "execution": {
     "iopub.execute_input": "2022-03-22T02:51:41.902232Z",
     "iopub.status.busy": "2022-03-22T02:51:41.901679Z",
     "iopub.status.idle": "2022-03-22T02:52:23.976794Z",
     "shell.execute_reply": "2022-03-22T02:52:23.975985Z"
    },
    "papermill": {
     "duration": 42.099649,
     "end_time": "2022-03-22T02:52:23.976980",
     "exception": false,
     "start_time": "2022-03-22T02:51:41.877331",
     "status": "completed"
    },
    "tags": []
   },
   "outputs": [],
   "source": [
    "for ds in p.datasets:\n",
    "    add_dataset(**ds)"
   ]
  },
  {
   "cell_type": "code",
   "execution_count": 14,
   "id": "b90d65ac",
   "metadata": {
    "execution": {
     "iopub.execute_input": "2022-03-22T02:52:24.026585Z",
     "iopub.status.busy": "2022-03-22T02:52:24.026177Z",
     "iopub.status.idle": "2022-03-22T02:52:24.049243Z",
     "shell.execute_reply": "2022-03-22T02:52:24.048435Z"
    },
    "papermill": {
     "duration": 0.046679,
     "end_time": "2022-03-22T02:52:24.049399",
     "exception": false,
     "start_time": "2022-03-22T02:52:24.002720",
     "status": "completed"
    },
    "tags": []
   },
   "outputs": [],
   "source": [
    "# from steves_utils.CORES.utils import (\n",
    "#     ALL_NODES,\n",
    "#     ALL_NODES_MINIMUM_1000_EXAMPLES,\n",
    "#     ALL_DAYS\n",
    "# )\n",
    "\n",
    "# add_dataset(\n",
    "#     labels=ALL_NODES,\n",
    "#     domains = ALL_DAYS,\n",
    "#     num_examples_per_domain_per_label=100,\n",
    "#     pickle_path=os.path.join(get_datasets_base_path(), \"cores.stratified_ds.2022A.pkl\"),\n",
    "#     source_or_target_dataset=\"target\",\n",
    "#     x_transform_func=global_x_transform_func,\n",
    "#     domain_modifier=lambda u: f\"cores_{u}\"\n",
    "# )"
   ]
  },
  {
   "cell_type": "code",
   "execution_count": 15,
   "id": "76db484d",
   "metadata": {
    "execution": {
     "iopub.execute_input": "2022-03-22T02:52:24.100716Z",
     "iopub.status.busy": "2022-03-22T02:52:24.099264Z",
     "iopub.status.idle": "2022-03-22T02:52:24.120554Z",
     "shell.execute_reply": "2022-03-22T02:52:24.119705Z"
    },
    "papermill": {
     "duration": 0.045001,
     "end_time": "2022-03-22T02:52:24.120709",
     "exception": false,
     "start_time": "2022-03-22T02:52:24.075708",
     "status": "completed"
    },
    "tags": []
   },
   "outputs": [],
   "source": [
    "# from steves_utils.ORACLE.utils_v2 import (\n",
    "#     ALL_DISTANCES_FEET,\n",
    "#     ALL_RUNS,\n",
    "#     ALL_SERIAL_NUMBERS,\n",
    "# )\n",
    "\n",
    "\n",
    "# add_dataset(\n",
    "#     labels=ALL_SERIAL_NUMBERS,\n",
    "#     domains = list(set(ALL_DISTANCES_FEET) - {2,62}),\n",
    "#     num_examples_per_domain_per_label=100,\n",
    "#     pickle_path=os.path.join(get_datasets_base_path(), \"oracle.Run2_framed_2000Examples_stratified_ds.2022A.pkl\"),\n",
    "#     source_or_target_dataset=\"source\",\n",
    "#     x_transform_func=global_x_transform_func,\n",
    "#     domain_modifier=lambda u: f\"oracle1_{u}\"\n",
    "# )\n"
   ]
  },
  {
   "cell_type": "code",
   "execution_count": 16,
   "id": "97dea9d2",
   "metadata": {
    "execution": {
     "iopub.execute_input": "2022-03-22T02:52:24.171453Z",
     "iopub.status.busy": "2022-03-22T02:52:24.171086Z",
     "iopub.status.idle": "2022-03-22T02:52:24.188580Z",
     "shell.execute_reply": "2022-03-22T02:52:24.187763Z"
    },
    "papermill": {
     "duration": 0.040739,
     "end_time": "2022-03-22T02:52:24.188737",
     "exception": false,
     "start_time": "2022-03-22T02:52:24.147998",
     "status": "completed"
    },
    "tags": []
   },
   "outputs": [],
   "source": [
    "# from steves_utils.ORACLE.utils_v2 import (\n",
    "#     ALL_DISTANCES_FEET,\n",
    "#     ALL_RUNS,\n",
    "#     ALL_SERIAL_NUMBERS,\n",
    "# )\n",
    "\n",
    "\n",
    "# add_dataset(\n",
    "#     labels=ALL_SERIAL_NUMBERS,\n",
    "#     domains = list(set(ALL_DISTANCES_FEET) - {2,62,56}),\n",
    "#     num_examples_per_domain_per_label=100,\n",
    "#     pickle_path=os.path.join(get_datasets_base_path(), \"oracle.Run2_framed_2000Examples_stratified_ds.2022A.pkl\"),\n",
    "#     source_or_target_dataset=\"source\",\n",
    "#     x_transform_func=global_x_transform_func,\n",
    "#     domain_modifier=lambda u: f\"oracle2_{u}\"\n",
    "# )"
   ]
  },
  {
   "cell_type": "code",
   "execution_count": 17,
   "id": "6f289866",
   "metadata": {
    "execution": {
     "iopub.execute_input": "2022-03-22T02:52:24.248569Z",
     "iopub.status.busy": "2022-03-22T02:52:24.239602Z",
     "iopub.status.idle": "2022-03-22T02:52:24.261161Z",
     "shell.execute_reply": "2022-03-22T02:52:24.260465Z"
    },
    "papermill": {
     "duration": 0.045234,
     "end_time": "2022-03-22T02:52:24.261316",
     "exception": false,
     "start_time": "2022-03-22T02:52:24.216082",
     "status": "completed"
    },
    "tags": []
   },
   "outputs": [],
   "source": [
    "# add_dataset(\n",
    "#     labels=list(range(19)),\n",
    "#     domains = [0,1,2],\n",
    "#     num_examples_per_domain_per_label=100,\n",
    "#     pickle_path=os.path.join(get_datasets_base_path(), \"metehan.stratified_ds.2022A.pkl\"),\n",
    "#     source_or_target_dataset=\"target\",\n",
    "#     x_transform_func=global_x_transform_func,\n",
    "#     domain_modifier=lambda u: f\"met_{u}\"\n",
    "# )"
   ]
  },
  {
   "cell_type": "code",
   "execution_count": 18,
   "id": "86a863c3",
   "metadata": {
    "execution": {
     "iopub.execute_input": "2022-03-22T02:52:24.314111Z",
     "iopub.status.busy": "2022-03-22T02:52:24.313742Z",
     "iopub.status.idle": "2022-03-22T02:52:24.335048Z",
     "shell.execute_reply": "2022-03-22T02:52:24.334232Z"
    },
    "papermill": {
     "duration": 0.046625,
     "end_time": "2022-03-22T02:52:24.335204",
     "exception": false,
     "start_time": "2022-03-22T02:52:24.288579",
     "status": "completed"
    },
    "tags": []
   },
   "outputs": [],
   "source": [
    "# # from steves_utils.wisig.utils import (\n",
    "# #     ALL_NODES_MINIMUM_100_EXAMPLES,\n",
    "# #     ALL_NODES_MINIMUM_500_EXAMPLES,\n",
    "# #     ALL_NODES_MINIMUM_1000_EXAMPLES,\n",
    "# #     ALL_DAYS\n",
    "# # )\n",
    "\n",
    "# import steves_utils.wisig.utils as wisig\n",
    "\n",
    "\n",
    "# add_dataset(\n",
    "#     labels=wisig.ALL_NODES_MINIMUM_100_EXAMPLES,\n",
    "#     domains = wisig.ALL_DAYS,\n",
    "#     num_examples_per_domain_per_label=100,\n",
    "#     pickle_path=os.path.join(get_datasets_base_path(), \"wisig.node3-19.stratified_ds.2022A.pkl\"),\n",
    "#     source_or_target_dataset=\"target\",\n",
    "#     x_transform_func=global_x_transform_func,\n",
    "#     domain_modifier=lambda u: f\"wisig_{u}\"\n",
    "# )"
   ]
  },
  {
   "cell_type": "code",
   "execution_count": 19,
   "id": "fd5442bc",
   "metadata": {
    "execution": {
     "iopub.execute_input": "2022-03-22T02:52:24.387576Z",
     "iopub.status.busy": "2022-03-22T02:52:24.387171Z",
     "iopub.status.idle": "2022-03-22T02:52:24.406365Z",
     "shell.execute_reply": "2022-03-22T02:52:24.405562Z"
    },
    "papermill": {
     "duration": 0.045119,
     "end_time": "2022-03-22T02:52:24.406520",
     "exception": false,
     "start_time": "2022-03-22T02:52:24.361401",
     "status": "completed"
    },
    "tags": []
   },
   "outputs": [],
   "source": [
    "###################################\n",
    "# Build the dataset\n",
    "###################################\n",
    "train_original_source = Iterable_Aggregator(train_original_source, p.seed)\n",
    "val_original_source = Iterable_Aggregator(val_original_source, p.seed)\n",
    "test_original_source = Iterable_Aggregator(test_original_source, p.seed)\n",
    "\n",
    "\n",
    "train_original_target = Iterable_Aggregator(train_original_target, p.seed)\n",
    "val_original_target = Iterable_Aggregator(val_original_target, p.seed)\n",
    "test_original_target = Iterable_Aggregator(test_original_target, p.seed)\n",
    "\n",
    "# For CNN We only use X and Y. And we only train on the source.\n",
    "# Properly form the data using a transform lambda and Lazy_Iterable_Wrapper. Finally wrap them in a dataloader\n",
    "\n",
    "transform_lambda = lambda ex: ex[1] # Original is (<domain>, <episode>) so we strip down to episode only\n",
    "\n",
    "train_processed_source = Lazy_Iterable_Wrapper(train_original_source, transform_lambda)\n",
    "val_processed_source   = Lazy_Iterable_Wrapper(val_original_source, transform_lambda)\n",
    "test_processed_source  = Lazy_Iterable_Wrapper(test_original_source, transform_lambda)\n",
    "\n",
    "train_processed_target = Lazy_Iterable_Wrapper(train_original_target, transform_lambda)\n",
    "val_processed_target   = Lazy_Iterable_Wrapper(val_original_target, transform_lambda)\n",
    "test_processed_target  = Lazy_Iterable_Wrapper(test_original_target, transform_lambda)\n",
    "\n",
    "datasets = EasyDict({\n",
    "    \"source\": {\n",
    "        \"original\": {\"train\":train_original_source, \"val\":val_original_source, \"test\":test_original_source},\n",
    "        \"processed\": {\"train\":train_processed_source, \"val\":val_processed_source, \"test\":test_processed_source}\n",
    "    },\n",
    "    \"target\": {\n",
    "        \"original\": {\"train\":train_original_target, \"val\":val_original_target, \"test\":test_original_target},\n",
    "        \"processed\": {\"train\":train_processed_target, \"val\":val_processed_target, \"test\":test_processed_target}\n",
    "    },\n",
    "})"
   ]
  },
  {
   "cell_type": "code",
   "execution_count": 20,
   "id": "5b3c01fc",
   "metadata": {
    "execution": {
     "iopub.execute_input": "2022-03-22T02:52:24.464651Z",
     "iopub.status.busy": "2022-03-22T02:52:24.461910Z",
     "iopub.status.idle": "2022-03-22T02:52:41.536664Z",
     "shell.execute_reply": "2022-03-22T02:52:41.537151Z"
    },
    "papermill": {
     "duration": 17.104031,
     "end_time": "2022-03-22T02:52:41.537332",
     "exception": false,
     "start_time": "2022-03-22T02:52:24.433301",
     "status": "completed"
    },
    "tags": []
   },
   "outputs": [
    {
     "name": "stdout",
     "output_type": "stream",
     "text": [
      "{'ORACLE.run2_32', 'ORACLE.run2_8', 'ORACLE.run2_50', 'ORACLE.run2_14', 'ORACLE.run2_38', 'ORACLE.run2_44', 'ORACLE.run2_20', 'ORACLE.run2_26'}\n"
     ]
    },
    {
     "name": "stdout",
     "output_type": "stream",
     "text": [
      "{'ORACLE.run1_32', 'ORACLE.run1_14', 'ORACLE.run1_8', 'ORACLE.run1_26', 'ORACLE.run1_20', 'ORACLE.run1_38', 'ORACLE.run1_44', 'ORACLE.run1_50'}\n"
     ]
    },
    {
     "name": "stdout",
     "output_type": "stream",
     "text": [
      "tensor([[[ 0.9116,  0.4428, -1.1287,  ..., -0.2691,  1.2329, -0.5383],\n",
      "         [-0.0521,  0.7467, -0.0695,  ..., -0.9464, -0.9290, -1.0592]],\n",
      "\n",
      "        [[-0.4053,  0.5639,  0.5639,  ..., -0.9340, -1.3129, -0.5639],\n",
      "         [-0.8811, -0.7401,  1.0662,  ...,  0.5287, -0.4670,  1.2776]],\n",
      "\n",
      "        [[-0.5051, -0.7315,  0.2874,  ...,  1.0537,  0.9666,  1.1059],\n",
      "         [ 1.1320, -0.0697, -1.2975,  ...,  0.3657,  0.8708, -0.9056]],\n",
      "\n",
      "        ...,\n",
      "\n",
      "        [[-1.3267, -0.0918,  1.2850,  ...,  0.0000, -0.1418,  1.3017],\n",
      "         [ 0.1418, -0.7426, -0.2837,  ...,  1.0347,  1.0513,  0.1001]],\n",
      "\n",
      "        [[ 0.5750, -0.2464, -0.6161,  ...,  0.0246,  1.3308,  0.9693],\n",
      "         [ 0.1479,  1.1254, -0.5175,  ..., -1.1090,  0.4190, -0.2464]],\n",
      "\n",
      "        [[-0.6472, -1.0159,  0.9668,  ...,  0.9258, -0.6472,  0.7292],\n",
      "         [ 0.3113, -0.4506, -0.6063,  ...,  0.4506,  1.2289,  0.7619]]])\n"
     ]
    }
   ],
   "source": [
    "from steves_utils.transforms import get_average_magnitude, get_average_power\n",
    "\n",
    "print(set([u for u,_ in val_original_source]))\n",
    "print(set([u for u,_ in val_original_target]))\n",
    "\n",
    "s_x, s_y, q_x, q_y, _ = next(iter(train_processed_source))\n",
    "print(s_x)\n",
    "\n",
    "# for ds in [\n",
    "#     train_processed_source,\n",
    "#     val_processed_source,\n",
    "#     test_processed_source,\n",
    "#     train_processed_target,\n",
    "#     val_processed_target,\n",
    "#     test_processed_target\n",
    "# ]:\n",
    "#     for s_x, s_y, q_x, q_y, _ in ds:\n",
    "#         for X in (s_x, q_x):\n",
    "#             for x in X:\n",
    "#                 assert np.isclose(get_average_magnitude(x.numpy()), 1.0)\n",
    "#                 assert np.isclose(get_average_power(x.numpy()), 1.0)\n",
    "                "
   ]
  },
  {
   "cell_type": "code",
   "execution_count": 21,
   "id": "bbdacba1",
   "metadata": {
    "execution": {
     "iopub.execute_input": "2022-03-22T02:52:41.593127Z",
     "iopub.status.busy": "2022-03-22T02:52:41.592302Z",
     "iopub.status.idle": "2022-03-22T02:52:41.870552Z",
     "shell.execute_reply": "2022-03-22T02:52:41.870880Z"
    },
    "papermill": {
     "duration": 0.305152,
     "end_time": "2022-03-22T02:52:41.871014",
     "exception": false,
     "start_time": "2022-03-22T02:52:41.565862",
     "status": "completed"
    },
    "tags": []
   },
   "outputs": [
    {
     "name": "stdout",
     "output_type": "stream",
     "text": [
      "(2, 256)\n"
     ]
    }
   ],
   "source": [
    "###################################\n",
    "# Build the model\n",
    "###################################\n",
    "# easfsl only wants a tuple for the shape\n",
    "model = Steves_Prototypical_Network(x_net, device=p.device, x_shape=tuple(p.x_shape))\n",
    "optimizer = Adam(params=model.parameters(), lr=p.lr)"
   ]
  },
  {
   "cell_type": "code",
   "execution_count": 22,
   "id": "22b39ac5",
   "metadata": {
    "execution": {
     "iopub.execute_input": "2022-03-22T02:52:41.922677Z",
     "iopub.status.busy": "2022-03-22T02:52:41.922110Z",
     "iopub.status.idle": "2022-03-22T04:07:02.802643Z",
     "shell.execute_reply": "2022-03-22T04:07:02.802298Z"
    },
    "papermill": {
     "duration": 4460.90851,
     "end_time": "2022-03-22T04:07:02.802735",
     "exception": false,
     "start_time": "2022-03-22T02:52:41.894225",
     "status": "completed"
    },
    "tags": []
   },
   "outputs": [
    {
     "name": "stdout",
     "output_type": "stream",
     "text": [
      "epoch: 1, [batch: 1 / 6720], examples_per_second: 33.3724, train_label_loss: 2.7891, \n"
     ]
    },
    {
     "name": "stdout",
     "output_type": "stream",
     "text": [
      "epoch: 1, [batch: 672 / 6720], examples_per_second: 2270.6790, train_label_loss: 1.4042, \n"
     ]
    },
    {
     "name": "stdout",
     "output_type": "stream",
     "text": [
      "epoch: 1, [batch: 1344 / 6720], examples_per_second: 2324.7040, train_label_loss: 1.3028, \n"
     ]
    },
    {
     "name": "stdout",
     "output_type": "stream",
     "text": [
      "epoch: 1, [batch: 2016 / 6720], examples_per_second: 2600.0119, train_label_loss: 0.3716, \n"
     ]
    },
    {
     "name": "stdout",
     "output_type": "stream",
     "text": [
      "epoch: 1, [batch: 2688 / 6720], examples_per_second: 2618.0719, train_label_loss: 0.6888, \n"
     ]
    },
    {
     "name": "stdout",
     "output_type": "stream",
     "text": [
      "epoch: 1, [batch: 3360 / 6720], examples_per_second: 2561.0631, train_label_loss: 0.6022, \n"
     ]
    },
    {
     "name": "stdout",
     "output_type": "stream",
     "text": [
      "epoch: 1, [batch: 4032 / 6720], examples_per_second: 2313.9030, train_label_loss: 0.3586, \n"
     ]
    },
    {
     "name": "stdout",
     "output_type": "stream",
     "text": [
      "epoch: 1, [batch: 4704 / 6720], examples_per_second: 2524.2374, train_label_loss: 0.9976, \n"
     ]
    },
    {
     "name": "stdout",
     "output_type": "stream",
     "text": [
      "epoch: 1, [batch: 5376 / 6720], examples_per_second: 2550.0335, train_label_loss: 0.7913, \n"
     ]
    },
    {
     "name": "stdout",
     "output_type": "stream",
     "text": [
      "epoch: 1, [batch: 6048 / 6720], examples_per_second: 2568.9560, train_label_loss: 0.3141, \n"
     ]
    },
    {
     "name": "stdout",
     "output_type": "stream",
     "text": [
      "=============================================================\n",
      "epoch: 1, source_val_acc_label: 0.7677, target_val_acc_label: 0.7772, source_val_label_loss: 6.0224, target_val_label_loss: 4.2676, \n",
      "=============================================================\n"
     ]
    },
    {
     "name": "stdout",
     "output_type": "stream",
     "text": [
      "New best\n"
     ]
    },
    {
     "name": "stdout",
     "output_type": "stream",
     "text": [
      "epoch: 2, [batch: 1 / 6720], examples_per_second: 2.3005, train_label_loss: 1.0200, \n"
     ]
    },
    {
     "name": "stdout",
     "output_type": "stream",
     "text": [
      "epoch: 2, [batch: 672 / 6720], examples_per_second: 2812.0131, train_label_loss: 0.8287, \n"
     ]
    },
    {
     "name": "stdout",
     "output_type": "stream",
     "text": [
      "epoch: 2, [batch: 1344 / 6720], examples_per_second: 3218.2873, train_label_loss: 0.8531, \n"
     ]
    },
    {
     "name": "stdout",
     "output_type": "stream",
     "text": [
      "epoch: 2, [batch: 2016 / 6720], examples_per_second: 2570.5348, train_label_loss: 0.2700, \n"
     ]
    },
    {
     "name": "stdout",
     "output_type": "stream",
     "text": [
      "epoch: 2, [batch: 2688 / 6720], examples_per_second: 2599.4133, train_label_loss: 0.6502, \n"
     ]
    },
    {
     "name": "stdout",
     "output_type": "stream",
     "text": [
      "epoch: 2, [batch: 3360 / 6720], examples_per_second: 2310.1791, train_label_loss: 0.4350, \n"
     ]
    },
    {
     "name": "stdout",
     "output_type": "stream",
     "text": [
      "epoch: 2, [batch: 4032 / 6720], examples_per_second: 2321.1971, train_label_loss: 0.4160, \n"
     ]
    },
    {
     "name": "stdout",
     "output_type": "stream",
     "text": [
      "epoch: 2, [batch: 4704 / 6720], examples_per_second: 2308.8493, train_label_loss: 0.5519, \n"
     ]
    },
    {
     "name": "stdout",
     "output_type": "stream",
     "text": [
      "epoch: 2, [batch: 5376 / 6720], examples_per_second: 2348.1600, train_label_loss: 0.2329, \n"
     ]
    },
    {
     "name": "stdout",
     "output_type": "stream",
     "text": [
      "epoch: 2, [batch: 6048 / 6720], examples_per_second: 2326.1336, train_label_loss: 0.3495, \n"
     ]
    },
    {
     "name": "stdout",
     "output_type": "stream",
     "text": [
      "=============================================================\n",
      "epoch: 2, source_val_acc_label: 0.8257, target_val_acc_label: 0.8280, source_val_label_loss: 0.4971, target_val_label_loss: 0.4761, \n",
      "=============================================================\n"
     ]
    },
    {
     "name": "stdout",
     "output_type": "stream",
     "text": [
      "New best\n"
     ]
    },
    {
     "name": "stdout",
     "output_type": "stream",
     "text": [
      "epoch: 3, [batch: 1 / 6720], examples_per_second: 2.0138, train_label_loss: 0.1501, \n"
     ]
    },
    {
     "name": "stdout",
     "output_type": "stream",
     "text": [
      "epoch: 3, [batch: 672 / 6720], examples_per_second: 2466.5852, train_label_loss: 0.4180, \n"
     ]
    },
    {
     "name": "stdout",
     "output_type": "stream",
     "text": [
      "epoch: 3, [batch: 1344 / 6720], examples_per_second: 2685.9340, train_label_loss: 0.4354, \n"
     ]
    },
    {
     "name": "stdout",
     "output_type": "stream",
     "text": [
      "epoch: 3, [batch: 2016 / 6720], examples_per_second: 2638.9631, train_label_loss: 0.4171, \n"
     ]
    },
    {
     "name": "stdout",
     "output_type": "stream",
     "text": [
      "epoch: 3, [batch: 2688 / 6720], examples_per_second: 2415.8351, train_label_loss: 0.6459, \n"
     ]
    },
    {
     "name": "stdout",
     "output_type": "stream",
     "text": [
      "epoch: 3, [batch: 3360 / 6720], examples_per_second: 2317.2085, train_label_loss: 0.2866, \n"
     ]
    },
    {
     "name": "stdout",
     "output_type": "stream",
     "text": [
      "epoch: 3, [batch: 4032 / 6720], examples_per_second: 2317.3642, train_label_loss: 0.5504, \n"
     ]
    },
    {
     "name": "stdout",
     "output_type": "stream",
     "text": [
      "epoch: 3, [batch: 4704 / 6720], examples_per_second: 2307.6815, train_label_loss: 0.4819, \n"
     ]
    },
    {
     "name": "stdout",
     "output_type": "stream",
     "text": [
      "epoch: 3, [batch: 5376 / 6720], examples_per_second: 2337.4993, train_label_loss: 0.2893, \n"
     ]
    },
    {
     "name": "stdout",
     "output_type": "stream",
     "text": [
      "epoch: 3, [batch: 6048 / 6720], examples_per_second: 2317.5652, train_label_loss: 0.3372, \n"
     ]
    },
    {
     "name": "stdout",
     "output_type": "stream",
     "text": [
      "=============================================================\n",
      "epoch: 3, source_val_acc_label: 0.8403, target_val_acc_label: 0.8361, source_val_label_loss: 0.4540, target_val_label_loss: 0.4434, \n",
      "=============================================================\n"
     ]
    },
    {
     "name": "stdout",
     "output_type": "stream",
     "text": [
      "New best\n"
     ]
    },
    {
     "name": "stdout",
     "output_type": "stream",
     "text": [
      "epoch: 4, [batch: 1 / 6720], examples_per_second: 2.0107, train_label_loss: 0.5564, \n"
     ]
    },
    {
     "name": "stdout",
     "output_type": "stream",
     "text": [
      "epoch: 4, [batch: 672 / 6720], examples_per_second: 2626.8429, train_label_loss: 0.2479, \n"
     ]
    },
    {
     "name": "stdout",
     "output_type": "stream",
     "text": [
      "epoch: 4, [batch: 1344 / 6720], examples_per_second: 2886.3899, train_label_loss: 0.2576, \n"
     ]
    },
    {
     "name": "stdout",
     "output_type": "stream",
     "text": [
      "epoch: 4, [batch: 2016 / 6720], examples_per_second: 2979.5511, train_label_loss: 0.1552, \n"
     ]
    },
    {
     "name": "stdout",
     "output_type": "stream",
     "text": [
      "epoch: 4, [batch: 2688 / 6720], examples_per_second: 2935.9793, train_label_loss: 0.2429, \n"
     ]
    },
    {
     "name": "stdout",
     "output_type": "stream",
     "text": [
      "epoch: 4, [batch: 3360 / 6720], examples_per_second: 2931.9413, train_label_loss: 0.3313, \n"
     ]
    },
    {
     "name": "stdout",
     "output_type": "stream",
     "text": [
      "epoch: 4, [batch: 4032 / 6720], examples_per_second: 2917.7982, train_label_loss: 0.5860, \n"
     ]
    },
    {
     "name": "stdout",
     "output_type": "stream",
     "text": [
      "epoch: 4, [batch: 4704 / 6720], examples_per_second: 2972.5666, train_label_loss: 0.5845, \n"
     ]
    },
    {
     "name": "stdout",
     "output_type": "stream",
     "text": [
      "epoch: 4, [batch: 5376 / 6720], examples_per_second: 3065.4996, train_label_loss: 0.3137, \n"
     ]
    },
    {
     "name": "stdout",
     "output_type": "stream",
     "text": [
      "epoch: 4, [batch: 6048 / 6720], examples_per_second: 3257.7249, train_label_loss: 0.4611, \n"
     ]
    },
    {
     "name": "stdout",
     "output_type": "stream",
     "text": [
      "=============================================================\n",
      "epoch: 4, source_val_acc_label: 0.8642, target_val_acc_label: 0.8583, source_val_label_loss: 0.3880, target_val_label_loss: 0.3958, \n",
      "=============================================================\n"
     ]
    },
    {
     "name": "stdout",
     "output_type": "stream",
     "text": [
      "New best\n"
     ]
    },
    {
     "name": "stdout",
     "output_type": "stream",
     "text": [
      "epoch: 5, [batch: 1 / 6720], examples_per_second: 2.6657, train_label_loss: 0.5356, \n"
     ]
    },
    {
     "name": "stdout",
     "output_type": "stream",
     "text": [
      "epoch: 5, [batch: 672 / 6720], examples_per_second: 2985.6338, train_label_loss: 0.1783, \n"
     ]
    },
    {
     "name": "stdout",
     "output_type": "stream",
     "text": [
      "epoch: 5, [batch: 1344 / 6720], examples_per_second: 2975.2951, train_label_loss: 0.5399, \n"
     ]
    },
    {
     "name": "stdout",
     "output_type": "stream",
     "text": [
      "epoch: 5, [batch: 2016 / 6720], examples_per_second: 2992.6849, train_label_loss: 0.1145, \n"
     ]
    },
    {
     "name": "stdout",
     "output_type": "stream",
     "text": [
      "epoch: 5, [batch: 2688 / 6720], examples_per_second: 2981.5922, train_label_loss: 0.1103, \n"
     ]
    },
    {
     "name": "stdout",
     "output_type": "stream",
     "text": [
      "epoch: 5, [batch: 3360 / 6720], examples_per_second: 2952.8294, train_label_loss: 0.2961, \n"
     ]
    },
    {
     "name": "stdout",
     "output_type": "stream",
     "text": [
      "epoch: 5, [batch: 4032 / 6720], examples_per_second: 2974.5755, train_label_loss: 0.0927, \n"
     ]
    },
    {
     "name": "stdout",
     "output_type": "stream",
     "text": [
      "epoch: 5, [batch: 4704 / 6720], examples_per_second: 2949.7834, train_label_loss: 0.3205, \n"
     ]
    },
    {
     "name": "stdout",
     "output_type": "stream",
     "text": [
      "epoch: 5, [batch: 5376 / 6720], examples_per_second: 2540.7244, train_label_loss: 0.1097, \n"
     ]
    },
    {
     "name": "stdout",
     "output_type": "stream",
     "text": [
      "epoch: 5, [batch: 6048 / 6720], examples_per_second: 2311.3340, train_label_loss: 0.1477, \n"
     ]
    },
    {
     "name": "stdout",
     "output_type": "stream",
     "text": [
      "=============================================================\n",
      "epoch: 5, source_val_acc_label: 0.8884, target_val_acc_label: 0.8776, source_val_label_loss: 0.3159, target_val_label_loss: 0.3472, \n",
      "=============================================================\n"
     ]
    },
    {
     "name": "stdout",
     "output_type": "stream",
     "text": [
      "New best\n"
     ]
    },
    {
     "name": "stdout",
     "output_type": "stream",
     "text": [
      "epoch: 6, [batch: 1 / 6720], examples_per_second: 1.9975, train_label_loss: 0.2804, \n"
     ]
    },
    {
     "name": "stdout",
     "output_type": "stream",
     "text": [
      "epoch: 6, [batch: 672 / 6720], examples_per_second: 2284.2380, train_label_loss: 0.2225, \n"
     ]
    },
    {
     "name": "stdout",
     "output_type": "stream",
     "text": [
      "epoch: 6, [batch: 1344 / 6720], examples_per_second: 2597.9841, train_label_loss: 0.2752, \n"
     ]
    },
    {
     "name": "stdout",
     "output_type": "stream",
     "text": [
      "epoch: 6, [batch: 2016 / 6720], examples_per_second: 2558.3869, train_label_loss: 0.2074, \n"
     ]
    },
    {
     "name": "stdout",
     "output_type": "stream",
     "text": [
      "epoch: 6, [batch: 2688 / 6720], examples_per_second: 2573.6480, train_label_loss: 0.1095, \n"
     ]
    },
    {
     "name": "stdout",
     "output_type": "stream",
     "text": [
      "epoch: 6, [batch: 3360 / 6720], examples_per_second: 2876.0160, train_label_loss: 0.2763, \n"
     ]
    },
    {
     "name": "stdout",
     "output_type": "stream",
     "text": [
      "epoch: 6, [batch: 4032 / 6720], examples_per_second: 2910.1318, train_label_loss: 0.2540, \n"
     ]
    },
    {
     "name": "stdout",
     "output_type": "stream",
     "text": [
      "epoch: 6, [batch: 4704 / 6720], examples_per_second: 2987.2730, train_label_loss: 0.2540, \n"
     ]
    },
    {
     "name": "stdout",
     "output_type": "stream",
     "text": [
      "epoch: 6, [batch: 5376 / 6720], examples_per_second: 2601.8724, train_label_loss: 0.1155, \n"
     ]
    },
    {
     "name": "stdout",
     "output_type": "stream",
     "text": [
      "epoch: 6, [batch: 6048 / 6720], examples_per_second: 2883.6778, train_label_loss: 0.2390, \n"
     ]
    },
    {
     "name": "stdout",
     "output_type": "stream",
     "text": [
      "=============================================================\n",
      "epoch: 6, source_val_acc_label: 0.8724, target_val_acc_label: 0.8624, source_val_label_loss: 0.3512, target_val_label_loss: 0.3842, \n",
      "=============================================================\n"
     ]
    },
    {
     "name": "stdout",
     "output_type": "stream",
     "text": [
      "epoch: 7, [batch: 1 / 6720], examples_per_second: 2.0834, train_label_loss: 0.3754, \n"
     ]
    },
    {
     "name": "stdout",
     "output_type": "stream",
     "text": [
      "epoch: 7, [batch: 672 / 6720], examples_per_second: 2341.0181, train_label_loss: 0.2667, \n"
     ]
    },
    {
     "name": "stdout",
     "output_type": "stream",
     "text": [
      "epoch: 7, [batch: 1344 / 6720], examples_per_second: 2320.2442, train_label_loss: 0.2622, \n"
     ]
    },
    {
     "name": "stdout",
     "output_type": "stream",
     "text": [
      "epoch: 7, [batch: 2016 / 6720], examples_per_second: 2315.5919, train_label_loss: 0.4213, \n"
     ]
    },
    {
     "name": "stdout",
     "output_type": "stream",
     "text": [
      "epoch: 7, [batch: 2688 / 6720], examples_per_second: 2486.2837, train_label_loss: 0.4174, \n"
     ]
    },
    {
     "name": "stdout",
     "output_type": "stream",
     "text": [
      "epoch: 7, [batch: 3360 / 6720], examples_per_second: 2567.7557, train_label_loss: 0.4097, \n"
     ]
    },
    {
     "name": "stdout",
     "output_type": "stream",
     "text": [
      "epoch: 7, [batch: 4032 / 6720], examples_per_second: 2657.9960, train_label_loss: 0.3063, \n"
     ]
    },
    {
     "name": "stdout",
     "output_type": "stream",
     "text": [
      "epoch: 7, [batch: 4704 / 6720], examples_per_second: 2338.9444, train_label_loss: 0.2574, \n"
     ]
    },
    {
     "name": "stdout",
     "output_type": "stream",
     "text": [
      "epoch: 7, [batch: 5376 / 6720], examples_per_second: 2321.5662, train_label_loss: 0.4254, \n"
     ]
    },
    {
     "name": "stdout",
     "output_type": "stream",
     "text": [
      "epoch: 7, [batch: 6048 / 6720], examples_per_second: 2318.2317, train_label_loss: 0.3139, \n"
     ]
    },
    {
     "name": "stdout",
     "output_type": "stream",
     "text": [
      "=============================================================\n",
      "epoch: 7, source_val_acc_label: 0.8812, target_val_acc_label: 0.8687, source_val_label_loss: 0.3280, target_val_label_loss: 0.3686, \n",
      "=============================================================\n"
     ]
    },
    {
     "name": "stdout",
     "output_type": "stream",
     "text": [
      "epoch: 8, [batch: 1 / 6720], examples_per_second: 2.0082, train_label_loss: 0.3596, \n"
     ]
    },
    {
     "name": "stdout",
     "output_type": "stream",
     "text": [
      "epoch: 8, [batch: 672 / 6720], examples_per_second: 2333.4054, train_label_loss: 0.0645, \n"
     ]
    },
    {
     "name": "stdout",
     "output_type": "stream",
     "text": [
      "epoch: 8, [batch: 1344 / 6720], examples_per_second: 2319.1753, train_label_loss: 0.1130, \n"
     ]
    },
    {
     "name": "stdout",
     "output_type": "stream",
     "text": [
      "epoch: 8, [batch: 2016 / 6720], examples_per_second: 2430.0947, train_label_loss: 0.1089, \n"
     ]
    },
    {
     "name": "stdout",
     "output_type": "stream",
     "text": [
      "epoch: 8, [batch: 2688 / 6720], examples_per_second: 2594.6279, train_label_loss: 0.1506, \n"
     ]
    },
    {
     "name": "stdout",
     "output_type": "stream",
     "text": [
      "epoch: 8, [batch: 3360 / 6720], examples_per_second: 2685.8158, train_label_loss: 0.1990, \n"
     ]
    },
    {
     "name": "stdout",
     "output_type": "stream",
     "text": [
      "epoch: 8, [batch: 4032 / 6720], examples_per_second: 2382.7258, train_label_loss: 0.1257, \n"
     ]
    },
    {
     "name": "stdout",
     "output_type": "stream",
     "text": [
      "epoch: 8, [batch: 4704 / 6720], examples_per_second: 2303.4133, train_label_loss: 0.3307, \n"
     ]
    },
    {
     "name": "stdout",
     "output_type": "stream",
     "text": [
      "epoch: 8, [batch: 5376 / 6720], examples_per_second: 2324.2737, train_label_loss: 0.4237, \n"
     ]
    },
    {
     "name": "stdout",
     "output_type": "stream",
     "text": [
      "epoch: 8, [batch: 6048 / 6720], examples_per_second: 2309.5612, train_label_loss: 0.4792, \n"
     ]
    },
    {
     "name": "stdout",
     "output_type": "stream",
     "text": [
      "=============================================================\n",
      "epoch: 8, source_val_acc_label: 0.8972, target_val_acc_label: 0.8823, source_val_label_loss: 0.2897, target_val_label_loss: 0.3421, \n",
      "=============================================================\n"
     ]
    },
    {
     "name": "stdout",
     "output_type": "stream",
     "text": [
      "New best\n"
     ]
    },
    {
     "name": "stdout",
     "output_type": "stream",
     "text": [
      "epoch: 9, [batch: 1 / 6720], examples_per_second: 2.2787, train_label_loss: 0.2210, \n"
     ]
    },
    {
     "name": "stdout",
     "output_type": "stream",
     "text": [
      "epoch: 9, [batch: 672 / 6720], examples_per_second: 2698.3229, train_label_loss: 0.0430, \n"
     ]
    },
    {
     "name": "stdout",
     "output_type": "stream",
     "text": [
      "epoch: 9, [batch: 1344 / 6720], examples_per_second: 2611.1567, train_label_loss: 0.4408, \n"
     ]
    },
    {
     "name": "stdout",
     "output_type": "stream",
     "text": [
      "epoch: 9, [batch: 2016 / 6720], examples_per_second: 3038.7412, train_label_loss: 0.1150, \n"
     ]
    },
    {
     "name": "stdout",
     "output_type": "stream",
     "text": [
      "epoch: 9, [batch: 2688 / 6720], examples_per_second: 3042.9141, train_label_loss: 0.0983, \n"
     ]
    },
    {
     "name": "stdout",
     "output_type": "stream",
     "text": [
      "epoch: 9, [batch: 3360 / 6720], examples_per_second: 3266.4508, train_label_loss: 0.2330, \n"
     ]
    },
    {
     "name": "stdout",
     "output_type": "stream",
     "text": [
      "epoch: 9, [batch: 4032 / 6720], examples_per_second: 2444.9955, train_label_loss: 0.1055, \n"
     ]
    },
    {
     "name": "stdout",
     "output_type": "stream",
     "text": [
      "epoch: 9, [batch: 4704 / 6720], examples_per_second: 2324.7297, train_label_loss: 0.0334, \n"
     ]
    },
    {
     "name": "stdout",
     "output_type": "stream",
     "text": [
      "epoch: 9, [batch: 5376 / 6720], examples_per_second: 2332.4479, train_label_loss: 0.1366, \n"
     ]
    },
    {
     "name": "stdout",
     "output_type": "stream",
     "text": [
      "epoch: 9, [batch: 6048 / 6720], examples_per_second: 2341.3187, train_label_loss: 0.2202, \n"
     ]
    },
    {
     "name": "stdout",
     "output_type": "stream",
     "text": [
      "=============================================================\n",
      "epoch: 9, source_val_acc_label: 0.8935, target_val_acc_label: 0.8790, source_val_label_loss: 0.2992, target_val_label_loss: 0.3466, \n",
      "=============================================================\n"
     ]
    },
    {
     "name": "stdout",
     "output_type": "stream",
     "text": [
      "epoch: 10, [batch: 1 / 6720], examples_per_second: 2.0227, train_label_loss: 0.3006, \n"
     ]
    },
    {
     "name": "stdout",
     "output_type": "stream",
     "text": [
      "epoch: 10, [batch: 672 / 6720], examples_per_second: 2327.2645, train_label_loss: 0.4472, \n"
     ]
    },
    {
     "name": "stdout",
     "output_type": "stream",
     "text": [
      "epoch: 10, [batch: 1344 / 6720], examples_per_second: 2537.8277, train_label_loss: 0.2011, \n"
     ]
    },
    {
     "name": "stdout",
     "output_type": "stream",
     "text": [
      "epoch: 10, [batch: 2016 / 6720], examples_per_second: 2586.9425, train_label_loss: 0.2338, \n"
     ]
    },
    {
     "name": "stdout",
     "output_type": "stream",
     "text": [
      "epoch: 10, [batch: 2688 / 6720], examples_per_second: 2641.6064, train_label_loss: 0.1545, \n"
     ]
    },
    {
     "name": "stdout",
     "output_type": "stream",
     "text": [
      "epoch: 10, [batch: 3360 / 6720], examples_per_second: 2316.6299, train_label_loss: 0.1854, \n"
     ]
    },
    {
     "name": "stdout",
     "output_type": "stream",
     "text": [
      "epoch: 10, [batch: 4032 / 6720], examples_per_second: 2309.5053, train_label_loss: 0.2772, \n"
     ]
    },
    {
     "name": "stdout",
     "output_type": "stream",
     "text": [
      "epoch: 10, [batch: 4704 / 6720], examples_per_second: 2291.4013, train_label_loss: 0.2585, \n"
     ]
    },
    {
     "name": "stdout",
     "output_type": "stream",
     "text": [
      "epoch: 10, [batch: 5376 / 6720], examples_per_second: 2332.0353, train_label_loss: 0.0569, \n"
     ]
    },
    {
     "name": "stdout",
     "output_type": "stream",
     "text": [
      "epoch: 10, [batch: 6048 / 6720], examples_per_second: 2428.5904, train_label_loss: 0.0310, \n"
     ]
    },
    {
     "name": "stdout",
     "output_type": "stream",
     "text": [
      "=============================================================\n",
      "epoch: 10, source_val_acc_label: 0.8824, target_val_acc_label: 0.8674, source_val_label_loss: 0.3193, target_val_label_loss: 0.3707, \n",
      "=============================================================\n"
     ]
    },
    {
     "name": "stdout",
     "output_type": "stream",
     "text": [
      "epoch: 11, [batch: 1 / 6720], examples_per_second: 2.3035, train_label_loss: 0.0330, \n"
     ]
    },
    {
     "name": "stdout",
     "output_type": "stream",
     "text": [
      "epoch: 11, [batch: 672 / 6720], examples_per_second: 2724.8245, train_label_loss: 0.1083, \n"
     ]
    },
    {
     "name": "stdout",
     "output_type": "stream",
     "text": [
      "epoch: 11, [batch: 1344 / 6720], examples_per_second: 3037.9599, train_label_loss: 0.3466, \n"
     ]
    },
    {
     "name": "stdout",
     "output_type": "stream",
     "text": [
      "epoch: 11, [batch: 2016 / 6720], examples_per_second: 2960.9178, train_label_loss: 0.1132, \n"
     ]
    },
    {
     "name": "stdout",
     "output_type": "stream",
     "text": [
      "epoch: 11, [batch: 2688 / 6720], examples_per_second: 3032.4146, train_label_loss: 0.3720, \n"
     ]
    },
    {
     "name": "stdout",
     "output_type": "stream",
     "text": [
      "epoch: 11, [batch: 3360 / 6720], examples_per_second: 2575.4458, train_label_loss: 0.2113, \n"
     ]
    },
    {
     "name": "stdout",
     "output_type": "stream",
     "text": [
      "epoch: 11, [batch: 4032 / 6720], examples_per_second: 2338.5435, train_label_loss: 0.6326, \n"
     ]
    },
    {
     "name": "stdout",
     "output_type": "stream",
     "text": [
      "epoch: 11, [batch: 4704 / 6720], examples_per_second: 2332.7330, train_label_loss: 0.1605, \n"
     ]
    },
    {
     "name": "stdout",
     "output_type": "stream",
     "text": [
      "epoch: 11, [batch: 5376 / 6720], examples_per_second: 2313.4531, train_label_loss: 0.2303, \n"
     ]
    },
    {
     "name": "stdout",
     "output_type": "stream",
     "text": [
      "epoch: 11, [batch: 6048 / 6720], examples_per_second: 2352.4218, train_label_loss: 0.0528, \n"
     ]
    },
    {
     "name": "stdout",
     "output_type": "stream",
     "text": [
      "=============================================================\n",
      "epoch: 11, source_val_acc_label: 0.8954, target_val_acc_label: 0.8844, source_val_label_loss: 0.3089, target_val_label_loss: 0.3408, \n",
      "=============================================================\n"
     ]
    },
    {
     "name": "stdout",
     "output_type": "stream",
     "text": [
      "New best\n"
     ]
    },
    {
     "name": "stdout",
     "output_type": "stream",
     "text": [
      "epoch: 12, [batch: 1 / 6720], examples_per_second: 2.0130, train_label_loss: 0.3751, \n"
     ]
    },
    {
     "name": "stdout",
     "output_type": "stream",
     "text": [
      "epoch: 12, [batch: 672 / 6720], examples_per_second: 2646.7246, train_label_loss: 0.0657, \n"
     ]
    },
    {
     "name": "stdout",
     "output_type": "stream",
     "text": [
      "epoch: 12, [batch: 1344 / 6720], examples_per_second: 2632.6499, train_label_loss: 0.4552, \n"
     ]
    },
    {
     "name": "stdout",
     "output_type": "stream",
     "text": [
      "epoch: 12, [batch: 2016 / 6720], examples_per_second: 2555.4079, train_label_loss: 0.0365, \n"
     ]
    },
    {
     "name": "stdout",
     "output_type": "stream",
     "text": [
      "epoch: 12, [batch: 2688 / 6720], examples_per_second: 2298.5426, train_label_loss: 0.0575, \n"
     ]
    },
    {
     "name": "stdout",
     "output_type": "stream",
     "text": [
      "epoch: 12, [batch: 3360 / 6720], examples_per_second: 2320.1694, train_label_loss: 0.1195, \n"
     ]
    },
    {
     "name": "stdout",
     "output_type": "stream",
     "text": [
      "epoch: 12, [batch: 4032 / 6720], examples_per_second: 2307.2902, train_label_loss: 0.1711, \n"
     ]
    },
    {
     "name": "stdout",
     "output_type": "stream",
     "text": [
      "epoch: 12, [batch: 4704 / 6720], examples_per_second: 2282.9230, train_label_loss: 0.1751, \n"
     ]
    },
    {
     "name": "stdout",
     "output_type": "stream",
     "text": [
      "epoch: 12, [batch: 5376 / 6720], examples_per_second: 2305.3278, train_label_loss: 0.0308, \n"
     ]
    },
    {
     "name": "stdout",
     "output_type": "stream",
     "text": [
      "epoch: 12, [batch: 6048 / 6720], examples_per_second: 2323.8700, train_label_loss: 0.2205, \n"
     ]
    },
    {
     "name": "stdout",
     "output_type": "stream",
     "text": [
      "=============================================================\n",
      "epoch: 12, source_val_acc_label: 0.8876, target_val_acc_label: 0.8724, source_val_label_loss: 0.3338, target_val_label_loss: 0.3752, \n",
      "=============================================================\n"
     ]
    },
    {
     "name": "stdout",
     "output_type": "stream",
     "text": [
      "epoch: 13, [batch: 1 / 6720], examples_per_second: 2.0775, train_label_loss: 0.3324, \n"
     ]
    },
    {
     "name": "stdout",
     "output_type": "stream",
     "text": [
      "epoch: 13, [batch: 672 / 6720], examples_per_second: 2642.0117, train_label_loss: 0.2408, \n"
     ]
    },
    {
     "name": "stdout",
     "output_type": "stream",
     "text": [
      "epoch: 13, [batch: 1344 / 6720], examples_per_second: 2631.2225, train_label_loss: 0.0211, \n"
     ]
    },
    {
     "name": "stdout",
     "output_type": "stream",
     "text": [
      "epoch: 13, [batch: 2016 / 6720], examples_per_second: 2324.0115, train_label_loss: 0.0800, \n"
     ]
    },
    {
     "name": "stdout",
     "output_type": "stream",
     "text": [
      "epoch: 13, [batch: 2688 / 6720], examples_per_second: 2307.1254, train_label_loss: 0.1131, \n"
     ]
    },
    {
     "name": "stdout",
     "output_type": "stream",
     "text": [
      "epoch: 13, [batch: 3360 / 6720], examples_per_second: 2444.6609, train_label_loss: 0.0767, \n"
     ]
    },
    {
     "name": "stdout",
     "output_type": "stream",
     "text": [
      "epoch: 13, [batch: 4032 / 6720], examples_per_second: 2590.4924, train_label_loss: 0.3785, \n"
     ]
    },
    {
     "name": "stdout",
     "output_type": "stream",
     "text": [
      "epoch: 13, [batch: 4704 / 6720], examples_per_second: 2622.3739, train_label_loss: 0.2866, \n"
     ]
    },
    {
     "name": "stdout",
     "output_type": "stream",
     "text": [
      "epoch: 13, [batch: 5376 / 6720], examples_per_second: 2612.7113, train_label_loss: 0.3839, \n"
     ]
    },
    {
     "name": "stdout",
     "output_type": "stream",
     "text": [
      "epoch: 13, [batch: 6048 / 6720], examples_per_second: 2568.8696, train_label_loss: 0.1012, \n"
     ]
    },
    {
     "name": "stdout",
     "output_type": "stream",
     "text": [
      "=============================================================\n",
      "epoch: 13, source_val_acc_label: 0.9030, target_val_acc_label: 0.8877, source_val_label_loss: 0.3171, target_val_label_loss: 0.3338, \n",
      "=============================================================\n"
     ]
    },
    {
     "name": "stdout",
     "output_type": "stream",
     "text": [
      "New best\n"
     ]
    },
    {
     "name": "stdout",
     "output_type": "stream",
     "text": [
      "epoch: 14, [batch: 1 / 6720], examples_per_second: 2.5104, train_label_loss: 0.0174, \n"
     ]
    },
    {
     "name": "stdout",
     "output_type": "stream",
     "text": [
      "epoch: 14, [batch: 672 / 6720], examples_per_second: 3322.0432, train_label_loss: 0.2431, \n"
     ]
    },
    {
     "name": "stdout",
     "output_type": "stream",
     "text": [
      "epoch: 14, [batch: 1344 / 6720], examples_per_second: 2596.8941, train_label_loss: 0.1904, \n"
     ]
    },
    {
     "name": "stdout",
     "output_type": "stream",
     "text": [
      "epoch: 14, [batch: 2016 / 6720], examples_per_second: 2622.0392, train_label_loss: 0.0430, \n"
     ]
    },
    {
     "name": "stdout",
     "output_type": "stream",
     "text": [
      "epoch: 14, [batch: 2688 / 6720], examples_per_second: 2608.7791, train_label_loss: 0.2936, \n"
     ]
    },
    {
     "name": "stdout",
     "output_type": "stream",
     "text": [
      "epoch: 14, [batch: 3360 / 6720], examples_per_second: 2563.5996, train_label_loss: 0.0787, \n"
     ]
    },
    {
     "name": "stdout",
     "output_type": "stream",
     "text": [
      "epoch: 14, [batch: 4032 / 6720], examples_per_second: 2618.1820, train_label_loss: 0.1305, \n"
     ]
    },
    {
     "name": "stdout",
     "output_type": "stream",
     "text": [
      "epoch: 14, [batch: 4704 / 6720], examples_per_second: 2574.4084, train_label_loss: 0.1866, \n"
     ]
    },
    {
     "name": "stdout",
     "output_type": "stream",
     "text": [
      "epoch: 14, [batch: 5376 / 6720], examples_per_second: 2591.4691, train_label_loss: 0.2046, \n"
     ]
    },
    {
     "name": "stdout",
     "output_type": "stream",
     "text": [
      "epoch: 14, [batch: 6048 / 6720], examples_per_second: 2595.3251, train_label_loss: 0.1198, \n"
     ]
    },
    {
     "name": "stdout",
     "output_type": "stream",
     "text": [
      "=============================================================\n",
      "epoch: 14, source_val_acc_label: 0.9056, target_val_acc_label: 0.8864, source_val_label_loss: 0.2654, target_val_label_loss: 0.3463, \n",
      "=============================================================\n"
     ]
    },
    {
     "name": "stdout",
     "output_type": "stream",
     "text": [
      "epoch: 15, [batch: 1 / 6720], examples_per_second: 2.7206, train_label_loss: 0.1538, \n"
     ]
    },
    {
     "name": "stdout",
     "output_type": "stream",
     "text": [
      "epoch: 15, [batch: 672 / 6720], examples_per_second: 2997.5851, train_label_loss: 0.2390, \n"
     ]
    },
    {
     "name": "stdout",
     "output_type": "stream",
     "text": [
      "epoch: 15, [batch: 1344 / 6720], examples_per_second: 2998.2872, train_label_loss: 0.2467, \n"
     ]
    },
    {
     "name": "stdout",
     "output_type": "stream",
     "text": [
      "epoch: 15, [batch: 2016 / 6720], examples_per_second: 2936.0943, train_label_loss: 0.0723, \n"
     ]
    },
    {
     "name": "stdout",
     "output_type": "stream",
     "text": [
      "epoch: 15, [batch: 2688 / 6720], examples_per_second: 3085.5635, train_label_loss: 0.2646, \n"
     ]
    },
    {
     "name": "stdout",
     "output_type": "stream",
     "text": [
      "epoch: 15, [batch: 3360 / 6720], examples_per_second: 3371.9968, train_label_loss: 0.2798, \n"
     ]
    },
    {
     "name": "stdout",
     "output_type": "stream",
     "text": [
      "epoch: 15, [batch: 4032 / 6720], examples_per_second: 3332.1385, train_label_loss: 0.1380, \n"
     ]
    },
    {
     "name": "stdout",
     "output_type": "stream",
     "text": [
      "epoch: 15, [batch: 4704 / 6720], examples_per_second: 3152.2520, train_label_loss: 0.2447, \n"
     ]
    },
    {
     "name": "stdout",
     "output_type": "stream",
     "text": [
      "epoch: 15, [batch: 5376 / 6720], examples_per_second: 2571.9382, train_label_loss: 0.1881, \n"
     ]
    },
    {
     "name": "stdout",
     "output_type": "stream",
     "text": [
      "epoch: 15, [batch: 6048 / 6720], examples_per_second: 2537.7174, train_label_loss: 0.1539, \n"
     ]
    },
    {
     "name": "stdout",
     "output_type": "stream",
     "text": [
      "=============================================================\n",
      "epoch: 15, source_val_acc_label: 0.9022, target_val_acc_label: 0.8840, source_val_label_loss: 0.2793, target_val_label_loss: 0.3526, \n",
      "=============================================================\n"
     ]
    },
    {
     "name": "stdout",
     "output_type": "stream",
     "text": [
      "epoch: 16, [batch: 1 / 6720], examples_per_second: 2.5573, train_label_loss: 0.3092, \n"
     ]
    },
    {
     "name": "stdout",
     "output_type": "stream",
     "text": [
      "epoch: 16, [batch: 672 / 6720], examples_per_second: 2347.3409, train_label_loss: 0.0922, \n"
     ]
    },
    {
     "name": "stdout",
     "output_type": "stream",
     "text": [
      "epoch: 16, [batch: 1344 / 6720], examples_per_second: 2335.9324, train_label_loss: 0.1098, \n"
     ]
    },
    {
     "name": "stdout",
     "output_type": "stream",
     "text": [
      "epoch: 16, [batch: 2016 / 6720], examples_per_second: 2331.3905, train_label_loss: 0.4055, \n"
     ]
    },
    {
     "name": "stdout",
     "output_type": "stream",
     "text": [
      "epoch: 16, [batch: 2688 / 6720], examples_per_second: 2311.3477, train_label_loss: 0.0863, \n"
     ]
    },
    {
     "name": "stdout",
     "output_type": "stream",
     "text": [
      "epoch: 16, [batch: 3360 / 6720], examples_per_second: 2468.8334, train_label_loss: 0.2363, \n"
     ]
    },
    {
     "name": "stdout",
     "output_type": "stream",
     "text": [
      "epoch: 16, [batch: 4032 / 6720], examples_per_second: 2571.3903, train_label_loss: 0.1774, \n"
     ]
    },
    {
     "name": "stdout",
     "output_type": "stream",
     "text": [
      "epoch: 16, [batch: 4704 / 6720], examples_per_second: 2672.7945, train_label_loss: 0.0225, \n"
     ]
    },
    {
     "name": "stdout",
     "output_type": "stream",
     "text": [
      "epoch: 16, [batch: 5376 / 6720], examples_per_second: 2324.3877, train_label_loss: 0.0741, \n"
     ]
    },
    {
     "name": "stdout",
     "output_type": "stream",
     "text": [
      "epoch: 16, [batch: 6048 / 6720], examples_per_second: 2309.0805, train_label_loss: 0.6624, \n"
     ]
    },
    {
     "name": "stdout",
     "output_type": "stream",
     "text": [
      "=============================================================\n",
      "epoch: 16, source_val_acc_label: 0.9036, target_val_acc_label: 0.8860, source_val_label_loss: 0.2732, target_val_label_loss: 0.3394, \n",
      "=============================================================\n"
     ]
    },
    {
     "name": "stdout",
     "output_type": "stream",
     "text": [
      "epoch: 17, [batch: 1 / 6720], examples_per_second: 2.0210, train_label_loss: 0.0129, \n"
     ]
    },
    {
     "name": "stdout",
     "output_type": "stream",
     "text": [
      "epoch: 17, [batch: 672 / 6720], examples_per_second: 2342.4339, train_label_loss: 0.0376, \n"
     ]
    },
    {
     "name": "stdout",
     "output_type": "stream",
     "text": [
      "epoch: 17, [batch: 1344 / 6720], examples_per_second: 2337.9266, train_label_loss: 0.1400, \n"
     ]
    },
    {
     "name": "stdout",
     "output_type": "stream",
     "text": [
      "epoch: 17, [batch: 2016 / 6720], examples_per_second: 2325.7719, train_label_loss: 0.1790, \n"
     ]
    },
    {
     "name": "stdout",
     "output_type": "stream",
     "text": [
      "epoch: 17, [batch: 2688 / 6720], examples_per_second: 2336.0148, train_label_loss: 0.1443, \n"
     ]
    },
    {
     "name": "stdout",
     "output_type": "stream",
     "text": [
      "epoch: 17, [batch: 3360 / 6720], examples_per_second: 2517.2859, train_label_loss: 0.4416, \n"
     ]
    },
    {
     "name": "stdout",
     "output_type": "stream",
     "text": [
      "epoch: 17, [batch: 4032 / 6720], examples_per_second: 2655.9786, train_label_loss: 0.1191, \n"
     ]
    },
    {
     "name": "stdout",
     "output_type": "stream",
     "text": [
      "epoch: 17, [batch: 4704 / 6720], examples_per_second: 2736.6711, train_label_loss: 0.1176, \n"
     ]
    },
    {
     "name": "stdout",
     "output_type": "stream",
     "text": [
      "epoch: 17, [batch: 5376 / 6720], examples_per_second: 2334.0428, train_label_loss: 0.0956, \n"
     ]
    },
    {
     "name": "stdout",
     "output_type": "stream",
     "text": [
      "epoch: 17, [batch: 6048 / 6720], examples_per_second: 2331.9803, train_label_loss: 0.1902, \n"
     ]
    },
    {
     "name": "stdout",
     "output_type": "stream",
     "text": [
      "=============================================================\n",
      "epoch: 17, source_val_acc_label: 0.9022, target_val_acc_label: 0.8831, source_val_label_loss: 0.2857, target_val_label_loss: 0.3565, \n",
      "=============================================================\n"
     ]
    },
    {
     "name": "stdout",
     "output_type": "stream",
     "text": [
      "Patience (3) exhausted\n"
     ]
    }
   ],
   "source": [
    "###################################\n",
    "# train\n",
    "###################################\n",
    "jig = PTN_Train_Eval_Test_Jig(model, p.BEST_MODEL_PATH, p.device)\n",
    "\n",
    "jig.train(\n",
    "    train_iterable=datasets.source.processed.train,\n",
    "    source_val_iterable=datasets.source.processed.val,\n",
    "    target_val_iterable=datasets.target.processed.val,\n",
    "    num_epochs=p.n_epoch,\n",
    "    num_logs_per_epoch=p.NUM_LOGS_PER_EPOCH,\n",
    "    patience=p.patience,\n",
    "    optimizer=optimizer,\n",
    "    criteria_for_best=p.criteria_for_best,\n",
    ")"
   ]
  },
  {
   "cell_type": "code",
   "execution_count": 23,
   "id": "31e8fabf",
   "metadata": {
    "execution": {
     "iopub.execute_input": "2022-03-22T04:07:02.956634Z",
     "iopub.status.busy": "2022-03-22T04:07:02.955805Z",
     "iopub.status.idle": "2022-03-22T04:07:02.990359Z",
     "shell.execute_reply": "2022-03-22T04:07:02.989657Z"
    },
    "papermill": {
     "duration": 0.114499,
     "end_time": "2022-03-22T04:07:02.990535",
     "exception": false,
     "start_time": "2022-03-22T04:07:02.876036",
     "status": "completed"
    },
    "tags": []
   },
   "outputs": [],
   "source": [
    "total_experiment_time_secs = time.time() - start_time_secs"
   ]
  },
  {
   "cell_type": "code",
   "execution_count": 24,
   "id": "87b9595b",
   "metadata": {
    "execution": {
     "iopub.execute_input": "2022-03-22T04:07:03.157501Z",
     "iopub.status.busy": "2022-03-22T04:07:03.156869Z",
     "iopub.status.idle": "2022-03-22T04:11:14.597442Z",
     "shell.execute_reply": "2022-03-22T04:11:14.596537Z"
    },
    "papermill": {
     "duration": 251.52377,
     "end_time": "2022-03-22T04:11:14.597641",
     "exception": false,
     "start_time": "2022-03-22T04:07:03.073871",
     "status": "completed"
    },
    "tags": []
   },
   "outputs": [],
   "source": [
    "###################################\n",
    "# Evaluate the model\n",
    "###################################\n",
    "source_test_label_accuracy, source_test_label_loss = jig.test(datasets.source.processed.test)\n",
    "target_test_label_accuracy, target_test_label_loss = jig.test(datasets.target.processed.test)\n",
    "\n",
    "source_val_label_accuracy, source_val_label_loss = jig.test(datasets.source.processed.val)\n",
    "target_val_label_accuracy, target_val_label_loss = jig.test(datasets.target.processed.val)\n",
    "\n",
    "history = jig.get_history()\n",
    "\n",
    "total_epochs_trained = len(history[\"epoch_indices\"])\n",
    "\n",
    "val_dl = Iterable_Aggregator((datasets.source.original.val,datasets.target.original.val))\n",
    "\n",
    "confusion = ptn_confusion_by_domain_over_dataloader(model, p.device, val_dl)\n",
    "per_domain_accuracy = per_domain_accuracy_from_confusion(confusion)\n",
    "\n",
    "# Add a key to per_domain_accuracy for if it was a source domain\n",
    "for domain, accuracy in per_domain_accuracy.items():\n",
    "    per_domain_accuracy[domain] = {\n",
    "        \"accuracy\": accuracy,\n",
    "        \"source?\": domain in p.domains_source\n",
    "    }\n",
    "\n",
    "# Do an independent accuracy assesment JUST TO BE SURE!\n",
    "# _source_test_label_accuracy = independent_accuracy_assesment(model, datasets.source.processed.test, p.device)\n",
    "# _target_test_label_accuracy = independent_accuracy_assesment(model, datasets.target.processed.test, p.device)\n",
    "# _source_val_label_accuracy = independent_accuracy_assesment(model, datasets.source.processed.val, p.device)\n",
    "# _target_val_label_accuracy = independent_accuracy_assesment(model, datasets.target.processed.val, p.device)\n",
    "\n",
    "# assert(_source_test_label_accuracy == source_test_label_accuracy)\n",
    "# assert(_target_test_label_accuracy == target_test_label_accuracy)\n",
    "# assert(_source_val_label_accuracy == source_val_label_accuracy)\n",
    "# assert(_target_val_label_accuracy == target_val_label_accuracy)\n",
    "\n",
    "experiment = {\n",
    "    \"experiment_name\": p.experiment_name,\n",
    "    \"parameters\": dict(p),\n",
    "    \"results\": {\n",
    "        \"source_test_label_accuracy\": source_test_label_accuracy,\n",
    "        \"source_test_label_loss\": source_test_label_loss,\n",
    "        \"target_test_label_accuracy\": target_test_label_accuracy,\n",
    "        \"target_test_label_loss\": target_test_label_loss,\n",
    "        \"source_val_label_accuracy\": source_val_label_accuracy,\n",
    "        \"source_val_label_loss\": source_val_label_loss,\n",
    "        \"target_val_label_accuracy\": target_val_label_accuracy,\n",
    "        \"target_val_label_loss\": target_val_label_loss,\n",
    "        \"total_epochs_trained\": total_epochs_trained,\n",
    "        \"total_experiment_time_secs\": total_experiment_time_secs,\n",
    "        \"confusion\": confusion,\n",
    "        \"per_domain_accuracy\": per_domain_accuracy,\n",
    "    },\n",
    "    \"history\": history,\n",
    "    \"dataset_metrics\": get_dataset_metrics(datasets, \"ptn\"),\n",
    "}"
   ]
  },
  {
   "cell_type": "code",
   "execution_count": 25,
   "id": "54a21829",
   "metadata": {
    "execution": {
     "iopub.execute_input": "2022-03-22T04:11:14.754167Z",
     "iopub.status.busy": "2022-03-22T04:11:14.753783Z",
     "iopub.status.idle": "2022-03-22T04:11:14.979791Z",
     "shell.execute_reply": "2022-03-22T04:11:14.980492Z"
    },
    "papermill": {
     "duration": 0.303313,
     "end_time": "2022-03-22T04:11:14.980736",
     "exception": false,
     "start_time": "2022-03-22T04:11:14.677423",
     "status": "completed"
    },
    "tags": []
   },
   "outputs": [
    {
     "data": {
      "image/png": "[encoded data removed]",
      "text/plain": [
       "<Figure size 1080x504 with 1 Axes>"
      ]
     },
     "metadata": {
      "needs_background": "light"
     },
     "output_type": "display_data"
    }
   ],
   "source": [
    "ax = get_loss_curve(experiment)\n",
    "plt.show()"
   ]
  },
  {
   "cell_type": "code",
   "execution_count": 26,
   "id": "fd8a0f60",
   "metadata": {
    "execution": {
     "iopub.execute_input": "2022-03-22T04:11:15.139908Z",
     "iopub.status.busy": "2022-03-22T04:11:15.139504Z",
     "iopub.status.idle": "2022-03-22T04:11:15.477826Z",
     "shell.execute_reply": "2022-03-22T04:11:15.478502Z"
    },
    "papermill": {
     "duration": 0.418098,
     "end_time": "2022-03-22T04:11:15.478734",
     "exception": false,
     "start_time": "2022-03-22T04:11:15.060636",
     "status": "completed"
    },
    "tags": []
   },
   "outputs": [
    {
     "data": {
      "text/plain": [
       "<AxesSubplot:title={'center':'Results'}>"
      ]
     },
     "execution_count": 26,
     "metadata": {},
     "output_type": "execute_result"
    },
    {
     "data": {
      "image/png": "[encoded data removed]",
      "text/plain": [
       "<Figure size 1080x504 with 1 Axes>"
      ]
     },
     "metadata": {
      "needs_background": "light"
     },
     "output_type": "display_data"
    }
   ],
   "source": [
    "get_results_table(experiment)"
   ]
  },
  {
   "cell_type": "code",
   "execution_count": 27,
   "id": "cf8dc689",
   "metadata": {
    "execution": {
     "iopub.execute_input": "2022-03-22T04:11:15.637164Z",
     "iopub.status.busy": "2022-03-22T04:11:15.636793Z",
     "iopub.status.idle": "2022-03-22T04:11:15.939690Z",
     "shell.execute_reply": "2022-03-22T04:11:15.940385Z"
    },
    "papermill": {
     "duration": 0.381953,
     "end_time": "2022-03-22T04:11:15.940605",
     "exception": false,
     "start_time": "2022-03-22T04:11:15.558652",
     "status": "completed"
    },
    "tags": []
   },
   "outputs": [
    {
     "data": {
      "text/plain": [
       "<AxesSubplot:title={'center':'Per Domain Validation Accuracy'}, xlabel='domain'>"
      ]
     },
     "execution_count": 27,
     "metadata": {},
     "output_type": "execute_result"
    },
    {
     "data": {
      "image/png": "[encoded data removed]",
      "text/plain": [
       "<Figure size 1080x504 with 1 Axes>"
      ]
     },
     "metadata": {
      "needs_background": "light"
     },
     "output_type": "display_data"
    }
   ],
   "source": [
    "get_domain_accuracies(experiment)"
   ]
  },
  {
   "cell_type": "code",
   "execution_count": 28,
   "id": "a74ae082",
   "metadata": {
    "execution": {
     "iopub.execute_input": "2022-03-22T04:11:16.109001Z",
     "iopub.status.busy": "2022-03-22T04:11:16.108623Z",
     "iopub.status.idle": "2022-03-22T04:11:16.136123Z",
     "shell.execute_reply": "2022-03-22T04:11:16.135279Z"
    },
    "papermill": {
     "duration": 0.109611,
     "end_time": "2022-03-22T04:11:16.136288",
     "exception": false,
     "start_time": "2022-03-22T04:11:16.026677",
     "status": "completed"
    },
    "tags": []
   },
   "outputs": [
    {
     "name": "stdout",
     "output_type": "stream",
     "text": [
      "Source Test Label Accuracy: 0.9029622395833333 Target Test Label Accuracy: 0.8883138020833333\n",
      "Source Val Label Accuracy: 0.90302734375 Target Val Label Accuracy: 0.8876953125\n"
     ]
    }
   ],
   "source": [
    "print(\"Source Test Label Accuracy:\", experiment[\"results\"][\"source_test_label_accuracy\"], \"Target Test Label Accuracy:\", experiment[\"results\"][\"target_test_label_accuracy\"])\n",
    "print(\"Source Val Label Accuracy:\", experiment[\"results\"][\"source_val_label_accuracy\"], \"Target Val Label Accuracy:\", experiment[\"results\"][\"target_val_label_accuracy\"])"
   ]
  },
  {
   "cell_type": "code",
   "execution_count": 29,
   "id": "dacca602",
   "metadata": {
    "execution": {
     "iopub.execute_input": "2022-03-22T04:11:16.302893Z",
     "iopub.status.busy": "2022-03-22T04:11:16.302522Z",
     "iopub.status.idle": "2022-03-22T04:11:16.326824Z",
     "shell.execute_reply": "2022-03-22T04:11:16.326080Z"
    },
    "papermill": {
     "duration": 0.106087,
     "end_time": "2022-03-22T04:11:16.326988",
     "exception": false,
     "start_time": "2022-03-22T04:11:16.220901",
     "status": "completed"
    },
    "tags": [
     "experiment_json"
    ]
   },
   "outputs": [
    {
     "data": {
      "text/plain": [
       "'{\"experiment_name\": \"tl_1v2:oracle.run1.framed-oracle.run2.framed\", \"parameters\": {\"experiment_name\": \"tl_1v2:oracle.run1.framed-oracle.run2.framed\", \"device\": \"cuda\", \"lr\": 0.0001, \"n_shot\": 3, \"n_query\": 2, \"train_k_factor\": 3, \"val_k_factor\": 2, \"test_k_factor\": 2, \"torch_default_dtype\": \"torch.float32\", \"n_epoch\": 50, \"patience\": 3, \"criteria_for_best\": \"target_accuracy\", \"x_net\": [{\"class\": \"nnReshape\", \"kargs\": {\"shape\": [-1, 1, 2, 256]}}, {\"class\": \"Conv2d\", \"kargs\": {\"in_channels\": 1, \"out_channels\": 256, \"kernel_size\": [1, 7], \"bias\": false, \"padding\": [0, 3]}}, {\"class\": \"ReLU\", \"kargs\": {\"inplace\": true}}, {\"class\": \"BatchNorm2d\", \"kargs\": {\"num_features\": 256}}, {\"class\": \"Conv2d\", \"kargs\": {\"in_channels\": 256, \"out_channels\": 80, \"kernel_size\": [2, 7], \"bias\": true, \"padding\": [0, 3]}}, {\"class\": \"ReLU\", \"kargs\": {\"inplace\": true}}, {\"class\": \"BatchNorm2d\", \"kargs\": {\"num_features\": 80}}, {\"class\": \"Flatten\", \"kargs\": {}}, {\"class\": \"Linear\", \"kargs\": {\"in_features\": 20480, \"out_features\": 256}}, {\"class\": \"ReLU\", \"kargs\": {\"inplace\": true}}, {\"class\": \"BatchNorm1d\", \"kargs\": {\"num_features\": 256}}, {\"class\": \"Linear\", \"kargs\": {\"in_features\": 256, \"out_features\": 256}}], \"NUM_LOGS_PER_EPOCH\": 10, \"BEST_MODEL_PATH\": \"./best_model.pth\", \"n_way\": 16, \"datasets\": [{\"labels\": [\"3123D52\", \"3123D65\", \"3123D79\", \"3123D80\", \"3123D54\", \"3123D70\", \"3123D7B\", \"3123D89\", \"3123D58\", \"3123D76\", \"3123D7D\", \"3123EFE\", \"3123D64\", \"3123D78\", \"3123D7E\", \"3124E4A\"], \"domains\": [32, 38, 8, 44, 14, 50, 20, 26], \"num_examples_per_domain_per_label\": 2000, \"pickle_path\": \"/root/csc500-main/datasets/oracle.Run1_framed_2000Examples_stratified_ds.2022A.pkl\", \"source_or_target_dataset\": \"target\", \"x_transforms\": [\"unit_mag\"], \"episode_transforms\": [], \"domain_prefix\": \"ORACLE.run1_\"}, {\"labels\": [\"3123D52\", \"3123D65\", \"3123D79\", \"3123D80\", \"3123D54\", \"3123D70\", \"3123D7B\", \"3123D89\", \"3123D58\", \"3123D76\", \"3123D7D\", \"3123EFE\", \"3123D64\", \"3123D78\", \"3123D7E\", \"3124E4A\"], \"domains\": [32, 38, 8, 44, 14, 50, 20, 26], \"num_examples_per_domain_per_label\": 2000, \"pickle_path\": \"/root/csc500-main/datasets/oracle.Run2_framed_2000Examples_stratified_ds.2022A.pkl\", \"source_or_target_dataset\": \"source\", \"x_transforms\": [\"unit_mag\"], \"episode_transforms\": [], \"domain_prefix\": \"ORACLE.run2_\"}], \"dataset_seed\": 7, \"seed\": 7, \"x_shape\": [2, 256], \"domains_source\": [\"ORACLE.run2_32\", \"ORACLE.run2_38\", \"ORACLE.run2_8\", \"ORACLE.run2_44\", \"ORACLE.run2_14\", \"ORACLE.run2_50\", \"ORACLE.run2_20\", \"ORACLE.run2_26\"], \"domains_target\": [\"ORACLE.run1_32\", \"ORACLE.run1_38\", \"ORACLE.run1_8\", \"ORACLE.run1_44\", \"ORACLE.run1_14\", \"ORACLE.run1_50\", \"ORACLE.run1_20\", \"ORACLE.run1_26\"]}, \"results\": {\"source_test_label_accuracy\": 0.9029622395833333, \"source_test_label_loss\": 0.27380239963531494, \"target_test_label_accuracy\": 0.8883138020833333, \"target_test_label_loss\": 0.32394516468048096, \"source_val_label_accuracy\": 0.90302734375, \"source_val_label_loss\": 0.3170553147792816, \"target_val_label_accuracy\": 0.8876953125, \"target_val_label_loss\": 0.33383458852767944, \"total_epochs_trained\": 17, \"total_experiment_time_secs\": 4521.366535186768, \"confusion\": {\"ORACLE.run2_26\": {\"0\": {\"0\": 111, \"14\": 57, \"10\": 46, \"4\": 9, \"8\": 15, \"15\": 1, \"7\": 1}, \"4\": {\"4\": 214, \"7\": 6, \"14\": 4, \"0\": 6, \"2\": 3, \"8\": 6, \"10\": 1}, \"14\": {\"0\": 30, \"14\": 187, \"1\": 7, \"8\": 7, \"10\": 8, \"4\": 1}, \"12\": {\"12\": 240}, \"8\": {\"2\": 6, \"8\": 179, \"10\": 15, \"14\": 14, \"0\": 11, \"7\": 15}, \"7\": {\"7\": 156, \"2\": 53, \"15\": 5, \"4\": 11, \"8\": 7, \"5\": 4, \"3\": 3, \"13\": 1}, \"13\": {\"13\": 222, \"5\": 14, \"9\": 4}, \"5\": {\"5\": 199, \"13\": 28, \"2\": 11, \"3\": 1, \"7\": 1}, \"15\": {\"15\": 212, \"7\": 11, \"3\": 2, \"2\": 13, \"9\": 1, \"0\": 1}, \"10\": {\"15\": 2, \"0\": 68, \"10\": 120, \"8\": 19, \"14\": 22, \"4\": 5, \"1\": 1, \"6\": 2, \"2\": 1}, \"3\": {\"3\": 221, \"2\": 14, \"15\": 2, \"7\": 2, \"5\": 1}, \"9\": {\"9\": 222, \"6\": 7, \"13\": 8, \"7\": 1, \"5\": 1, \"8\": 1}, \"6\": {\"6\": 233, \"9\": 4, \"8\": 1, \"13\": 1, \"10\": 1}, \"1\": {\"1\": 221, \"14\": 16, \"0\": 2, \"8\": 1}, \"11\": {\"11\": 240}, \"2\": {\"2\": 141, \"7\": 69, \"4\": 4, \"3\": 13, \"15\": 7, \"8\": 5, \"5\": 1}}, \"ORACLE.run2_44\": {\"1\": {\"1\": 202, \"12\": 32, \"3\": 5, \"2\": 1}, \"11\": {\"11\": 237, \"2\": 2, \"4\": 1}, \"3\": {\"3\": 234, \"1\": 3, \"12\": 3}, \"6\": {\"6\": 232, \"13\": 3, \"7\": 3, \"9\": 2}, \"7\": {\"7\": 166, \"9\": 64, \"2\": 9, \"6\": 1}, \"5\": {\"14\": 13, \"5\": 226, \"8\": 1}, \"2\": {\"2\": 222, \"9\": 11, \"7\": 7}, \"15\": {\"15\": 215, \"14\": 19, \"8\": 4, \"4\": 2}, \"10\": {\"10\": 239, \"1\": 1}, \"13\": {\"13\": 237, \"4\": 2, \"6\": 1}, \"8\": {\"8\": 154, \"0\": 84, \"5\": 2}, \"4\": {\"4\": 233, \"13\": 2, \"14\": 5}, \"9\": {\"7\": 70, \"9\": 153, \"2\": 14, \"6\": 3}, \"14\": {\"14\": 200, \"4\": 10, \"5\": 13, \"15\": 17}, \"0\": {\"0\": 158, \"8\": 82}, \"12\": {\"12\": 209, \"1\": 28, \"3\": 3}}, \"ORACLE.run2_50\": {\"15\": {\"15\": 235, \"4\": 1, \"6\": 1, \"1\": 2, \"11\": 1}, \"4\": {\"5\": 46, \"4\": 186, \"6\": 2, \"7\": 2, \"1\": 4}, \"6\": {\"6\": 224, \"5\": 3, \"1\": 4, \"4\": 9}, \"2\": {\"2\": 234, \"0\": 6}, \"5\": {\"5\": 152, \"4\": 70, \"13\": 6, \"6\": 6, \"7\": 5, \"10\": 1}, \"9\": {\"9\": 239, \"12\": 1}, \"8\": {\"8\": 239, \"3\": 1}, \"12\": {\"12\": 239, \"11\": 1}, \"10\": {\"10\": 222, \"13\": 16, \"8\": 1, \"0\": 1}, \"1\": {\"1\": 230, \"4\": 5, \"6\": 5}, \"0\": {\"0\": 231, \"2\": 7, \"10\": 2}, \"3\": {\"3\": 240}, \"13\": {\"13\": 214, \"10\": 22, \"7\": 3, \"5\": 1}, \"11\": {\"11\": 232, \"12\": 2, \"15\": 6}, \"7\": {\"7\": 219, \"5\": 12, \"13\": 9}, \"14\": {\"14\": 240}}, \"ORACLE.run2_38\": {\"15\": {\"15\": 211, \"5\": 12, \"1\": 12, \"8\": 5}, \"11\": {\"11\": 232, \"10\": 3, \"13\": 1, \"12\": 1, \"3\": 3}, \"10\": {\"10\": 220, \"7\": 19, \"0\": 1}, \"14\": {\"14\": 214, \"2\": 24, \"8\": 1, \"7\": 1}, \"6\": {\"6\": 237, \"9\": 2, \"1\": 1}, \"4\": {\"4\": 240}, \"13\": {\"13\": 183, \"3\": 55, \"2\": 1, \"8\": 1}, \"3\": {\"3\": 193, \"13\": 39, \"0\": 6, \"7\": 1, \"10\": 1}, \"7\": {\"7\": 183, \"10\": 28, \"8\": 14, \"5\": 14, \"3\": 1}, \"8\": {\"8\": 184, \"7\": 10, \"15\": 3, \"5\": 42, \"0\": 1}, \"1\": {\"1\": 227, \"15\": 10, \"5\": 3}, \"5\": {\"8\": 59, \"5\": 167, \"7\": 10, \"15\": 4}, \"0\": {\"0\": 229, \"3\": 5, \"7\": 2, \"8\": 2, \"13\": 1, \"10\": 1}, \"2\": {\"2\": 228, \"14\": 12}, \"12\": {\"12\": 240}, \"9\": {\"9\": 233, \"6\": 5, \"13\": 2}}, \"ORACLE.run2_20\": {\"10\": {\"10\": 240}, \"7\": {\"7\": 231, \"3\": 3, \"8\": 4, \"5\": 2}, \"4\": {\"4\": 240}, \"13\": {\"13\": 214, \"15\": 24, \"5\": 2}, \"1\": {\"12\": 31, \"1\": 208, \"15\": 1}, \"0\": {\"0\": 232, \"15\": 4, \"5\": 4}, \"12\": {\"12\": 194, \"1\": 30, \"5\": 2, \"2\": 10, \"3\": 2, \"9\": 1, \"4\": 1}, \"5\": {\"5\": 209, \"0\": 9, \"2\": 9, \"15\": 2, \"13\": 1, \"7\": 3, \"12\": 6, \"3\": 1}, \"6\": {\"6\": 236, \"14\": 4}, \"2\": {\"2\": 183, \"3\": 24, \"12\": 12, \"9\": 17, \"5\": 4}, \"8\": {\"8\": 226, \"4\": 2, \"14\": 8, \"7\": 4}, \"11\": {\"11\": 240}, \"9\": {\"9\": 209, \"3\": 10, \"2\": 12, \"1\": 2, \"12\": 7}, \"14\": {\"14\": 226, \"8\": 10, \"6\": 4}, \"15\": {\"15\": 209, \"5\": 5, \"0\": 5, \"12\": 3, \"13\": 12, \"1\": 4, \"9\": 1, \"2\": 1}, \"3\": {\"3\": 190, \"9\": 19, \"2\": 23, \"12\": 3, \"7\": 4, \"5\": 1}}, \"ORACLE.run2_14\": {\"14\": {\"14\": 202, \"2\": 37, \"6\": 1}, \"0\": {\"0\": 240}, \"4\": {\"4\": 234, \"5\": 6}, \"11\": {\"11\": 240}, \"13\": {\"13\": 219, \"6\": 21}, \"9\": {\"9\": 240}, \"3\": {\"3\": 231, \"5\": 2, \"2\": 5, \"14\": 2}, \"6\": {\"6\": 228, \"13\": 11, \"2\": 1}, \"1\": {\"1\": 236, \"5\": 4}, \"5\": {\"5\": 221, \"2\": 9, \"1\": 4, \"4\": 3, \"3\": 3}, \"12\": {\"12\": 215, \"9\": 9, \"0\": 12, \"11\": 4}, \"10\": {\"10\": 240}, \"8\": {\"8\": 240}, \"7\": {\"7\": 240}, \"15\": {\"15\": 239, \"13\": 1}, \"2\": {\"2\": 160, \"5\": 29, \"14\": 42, \"3\": 7, \"4\": 2}}, \"ORACLE.run2_32\": {\"11\": {\"11\": 223, \"8\": 1, \"0\": 7, \"7\": 6, \"4\": 2, \"13\": 1}, \"1\": {\"1\": 240}, \"2\": {\"2\": 236, \"4\": 2, \"5\": 2}, \"0\": {\"0\": 209, \"8\": 15, \"11\": 9, \"14\": 4, \"5\": 1, \"13\": 2}, \"3\": {\"3\": 240}, \"8\": {\"8\": 231, \"0\": 7, \"13\": 1, \"15\": 1}, \"12\": {\"12\": 239, \"6\": 1}, \"5\": {\"5\": 214, \"7\": 5, \"2\": 9, \"4\": 6, \"8\": 4, \"14\": 2}, \"15\": {\"15\": 240}, \"7\": {\"7\": 214, \"4\": 17, \"2\": 3, \"11\": 6}, \"4\": {\"4\": 208, \"7\": 7, \"13\": 23, \"5\": 1, \"11\": 1}, \"14\": {\"14\": 228, \"0\": 9, \"2\": 2, \"5\": 1}, \"10\": {\"10\": 240}, \"6\": {\"6\": 240}, \"13\": {\"13\": 195, \"4\": 41, \"3\": 3, \"11\": 1}, \"9\": {\"9\": 240}}, \"ORACLE.run2_8\": {\"9\": {\"9\": 240}, \"11\": {\"11\": 234, \"8\": 3, \"12\": 3}, \"8\": {\"8\": 238, \"11\": 1, \"15\": 1}, \"4\": {\"4\": 143, \"7\": 42, \"6\": 55}, \"13\": {\"13\": 232, \"14\": 2, \"1\": 5, \"10\": 1}, \"14\": {\"14\": 235, \"0\": 5}, \"2\": {\"2\": 233, \"7\": 3, \"4\": 4}, \"3\": {\"3\": 240}, \"1\": {\"1\": 240}, \"0\": {\"0\": 236, \"14\": 2, \"10\": 2}, \"5\": {\"5\": 236, \"10\": 4}, \"15\": {\"15\": 231, \"8\": 6, \"12\": 3}, \"10\": {\"10\": 212, \"0\": 10, \"5\": 18}, \"12\": {\"12\": 234, \"15\": 6}, \"6\": {\"6\": 183, \"4\": 46, \"7\": 11}, \"7\": {\"7\": 193, \"6\": 11, \"4\": 36}}, \"ORACLE.run1_26\": {\"0\": {\"10\": 57, \"0\": 100, \"8\": 29, \"14\": 41, \"4\": 11, \"7\": 2}, \"4\": {\"14\": 11, \"4\": 210, \"8\": 7, \"7\": 6, \"0\": 4, \"10\": 1, \"1\": 1}, \"14\": {\"14\": 179, \"0\": 29, \"1\": 8, \"10\": 12, \"4\": 9, \"8\": 3}, \"12\": {\"12\": 240}, \"8\": {\"8\": 148, \"14\": 10, \"0\": 22, \"10\": 31, \"7\": 13, \"4\": 14, \"15\": 2}, \"7\": {\"7\": 204, \"8\": 7, \"3\": 8, \"2\": 7, \"4\": 14}, \"13\": {\"13\": 214, \"5\": 16, \"2\": 6, \"15\": 3, \"9\": 1}, \"5\": {\"5\": 226, \"13\": 11, \"2\": 3}, \"15\": {\"15\": 198, \"6\": 9, \"13\": 6, \"9\": 23, \"8\": 2, \"5\": 2}, \"10\": {\"14\": 17, \"10\": 131, \"0\": 63, \"8\": 25, \"15\": 1, \"6\": 3}, \"3\": {\"3\": 200, \"2\": 34, \"7\": 6}, \"9\": {\"9\": 211, \"15\": 18, \"6\": 4, \"13\": 4, \"5\": 2, \"8\": 1}, \"6\": {\"6\": 230, \"15\": 3, \"9\": 2, \"8\": 1, \"10\": 4}, \"1\": {\"1\": 221, \"14\": 13, \"4\": 4, \"3\": 1, \"7\": 1}, \"11\": {\"11\": 240}, \"2\": {\"2\": 119, \"5\": 22, \"3\": 60, \"7\": 21, \"15\": 7, \"13\": 6, \"9\": 1, \"8\": 4}}, \"ORACLE.run1_44\": {\"1\": {\"1\": 210, \"12\": 7, \"3\": 6, \"10\": 8, \"2\": 8, \"7\": 1}, \"11\": {\"11\": 238, \"13\": 2}, \"3\": {\"3\": 237, \"1\": 3}, \"6\": {\"9\": 11, \"13\": 46, \"6\": 183}, \"7\": {\"9\": 34, \"7\": 180, \"2\": 21, \"6\": 4, \"10\": 1}, \"5\": {\"5\": 223, \"0\": 8, \"8\": 3, \"15\": 2, \"14\": 4}, \"2\": {\"2\": 201, \"10\": 13, \"7\": 21, \"1\": 4, \"9\": 1}, \"15\": {\"15\": 206, \"14\": 14, \"8\": 8, \"5\": 6, \"0\": 6}, \"10\": {\"10\": 212, \"1\": 15, \"2\": 9, \"12\": 4}, \"13\": {\"13\": 183, \"9\": 16, \"6\": 41}, \"8\": {\"0\": 99, \"8\": 132, \"5\": 5, \"15\": 4}, \"4\": {\"4\": 191, \"14\": 49}, \"9\": {\"13\": 32, \"7\": 53, \"9\": 135, \"6\": 16, \"2\": 2, \"4\": 2}, \"14\": {\"14\": 162, \"4\": 51, \"15\": 17, \"5\": 10}, \"0\": {\"0\": 130, \"8\": 100, \"5\": 9, \"15\": 1}, \"12\": {\"12\": 231, \"1\": 9}}, \"ORACLE.run1_50\": {\"15\": {\"15\": 223, \"4\": 9, \"11\": 1, \"1\": 7}, \"4\": {\"4\": 166, \"15\": 33, \"5\": 28, \"7\": 5, \"1\": 8}, \"6\": {\"6\": 226, \"4\": 3, \"13\": 3, \"5\": 3, \"7\": 2, \"15\": 2, \"1\": 1}, \"2\": {\"2\": 229, \"0\": 11}, \"5\": {\"5\": 145, \"7\": 33, \"1\": 22, \"4\": 26, \"13\": 13, \"6\": 1}, \"9\": {\"9\": 232, \"11\": 6, \"12\": 1, \"4\": 1}, \"8\": {\"8\": 235, \"10\": 4, \"3\": 1}, \"12\": {\"12\": 238, \"9\": 1, \"11\": 1}, \"10\": {\"10\": 234, \"13\": 2, \"8\": 2, \"0\": 2}, \"1\": {\"1\": 218, \"4\": 1, \"6\": 3, \"15\": 16, \"11\": 2}, \"0\": {\"0\": 223, \"2\": 12, \"10\": 5}, \"3\": {\"3\": 240}, \"13\": {\"13\": 225, \"6\": 2, \"7\": 3, \"5\": 7, \"10\": 3}, \"11\": {\"11\": 228, \"15\": 6, \"12\": 1, \"9\": 1, \"1\": 2, \"4\": 2}, \"7\": {\"7\": 227, \"4\": 2, \"13\": 3, \"5\": 6, \"6\": 2}, \"14\": {\"14\": 240}}, \"ORACLE.run1_38\": {\"15\": {\"15\": 218, \"8\": 13, \"5\": 3, \"1\": 6}, \"11\": {\"10\": 3, \"11\": 236, \"3\": 1}, \"10\": {\"10\": 219, \"14\": 2, \"13\": 14, \"5\": 1, \"7\": 3, \"0\": 1}, \"14\": {\"14\": 233, \"2\": 7}, \"6\": {\"6\": 238, \"9\": 2}, \"4\": {\"4\": 240}, \"13\": {\"13\": 226, \"0\": 4, \"8\": 4, \"2\": 4, \"10\": 1, \"15\": 1}, \"3\": {\"3\": 234, \"0\": 3, \"9\": 1, \"14\": 1, \"11\": 1}, \"7\": {\"7\": 222, \"8\": 4, \"5\": 9, \"0\": 5}, \"8\": {\"0\": 6, \"8\": 183, \"5\": 41, \"7\": 8, \"15\": 2}, \"1\": {\"1\": 240}, \"5\": {\"5\": 134, \"8\": 73, \"7\": 20, \"15\": 4, \"0\": 3, \"13\": 1, \"9\": 3, \"6\": 2}, \"0\": {\"0\": 202, \"3\": 13, \"7\": 11, \"8\": 9, \"10\": 3, \"5\": 2}, \"2\": {\"2\": 235, \"14\": 4, \"13\": 1}, \"12\": {\"12\": 240}, \"9\": {\"9\": 235, \"5\": 4, \"6\": 1}}, \"ORACLE.run1_20\": {\"10\": {\"10\": 240}, \"7\": {\"7\": 231, \"8\": 2, \"2\": 7}, \"4\": {\"4\": 236, \"8\": 2, \"3\": 1, \"7\": 1}, \"13\": {\"13\": 238, \"7\": 1, \"15\": 1}, \"1\": {\"1\": 207, \"12\": 24, \"15\": 4, \"5\": 4, \"3\": 1}, \"0\": {\"0\": 213, \"15\": 12, \"5\": 15}, \"12\": {\"3\": 18, \"12\": 187, \"1\": 26, \"9\": 4, \"5\": 3, \"2\": 2}, \"5\": {\"15\": 5, \"5\": 220, \"12\": 4, \"0\": 10, \"1\": 1}, \"6\": {\"6\": 234, \"14\": 6}, \"2\": {\"12\": 13, \"2\": 189, \"7\": 14, \"13\": 2, \"3\": 3, \"9\": 18, \"1\": 1}, \"8\": {\"8\": 236, \"7\": 3, \"4\": 1}, \"11\": {\"11\": 240}, \"9\": {\"9\": 204, \"2\": 24, \"3\": 8, \"12\": 4}, \"14\": {\"14\": 233, \"6\": 7}, \"15\": {\"15\": 221, \"1\": 15, \"0\": 2, \"5\": 2}, \"3\": {\"3\": 188, \"12\": 24, \"9\": 15, \"2\": 8, \"10\": 1, \"4\": 2, \"7\": 1, \"1\": 1}}, \"ORACLE.run1_14\": {\"14\": {\"14\": 230, \"2\": 10}, \"0\": {\"0\": 240}, \"4\": {\"4\": 233, \"5\": 7}, \"11\": {\"11\": 211, \"12\": 20, \"9\": 9}, \"13\": {\"13\": 119, \"6\": 92, \"2\": 8, \"5\": 10, \"4\": 2, \"14\": 7, \"3\": 1, \"15\": 1}, \"9\": {\"9\": 239, \"12\": 1}, \"3\": {\"3\": 236, \"2\": 4}, \"6\": {\"6\": 203, \"13\": 35, \"14\": 2}, \"1\": {\"1\": 239, \"5\": 1}, \"5\": {\"5\": 213, \"4\": 20, \"1\": 5, \"2\": 2}, \"12\": {\"12\": 240}, \"10\": {\"10\": 240}, \"8\": {\"8\": 240}, \"7\": {\"7\": 240}, \"15\": {\"15\": 240}, \"2\": {\"2\": 170, \"14\": 30, \"13\": 9, \"5\": 21, \"3\": 5, \"6\": 5}}, \"ORACLE.run1_32\": {\"11\": {\"11\": 236, \"14\": 3, \"3\": 1}, \"1\": {\"1\": 240}, \"2\": {\"2\": 203, \"4\": 34, \"5\": 1, \"7\": 2}, \"0\": {\"0\": 215, \"5\": 3, \"7\": 6, \"8\": 8, \"14\": 8}, \"3\": {\"3\": 239, \"13\": 1}, \"8\": {\"8\": 227, \"0\": 11, \"13\": 2}, \"12\": {\"12\": 240}, \"5\": {\"7\": 64, \"5\": 151, \"13\": 6, \"4\": 8, \"14\": 2, \"3\": 7, \"8\": 1, \"2\": 1}, \"15\": {\"15\": 239, \"8\": 1}, \"7\": {\"7\": 180, \"4\": 8, \"5\": 44, \"2\": 3, \"13\": 1, \"11\": 3, \"14\": 1}, \"4\": {\"2\": 35, \"4\": 195, \"7\": 6, \"13\": 3, \"5\": 1}, \"14\": {\"14\": 194, \"0\": 24, \"11\": 11, \"7\": 4, \"5\": 3, \"3\": 3, \"8\": 1}, \"10\": {\"10\": 240}, \"6\": {\"6\": 240}, \"13\": {\"13\": 210, \"3\": 14, \"8\": 3, \"5\": 3, \"4\": 7, \"7\": 2, \"11\": 1}, \"9\": {\"9\": 240}}, \"ORACLE.run1_8\": {\"9\": {\"9\": 240}, \"11\": {\"11\": 225, \"1\": 15}, \"8\": {\"8\": 240}, \"4\": {\"4\": 222, \"14\": 3, \"13\": 14, \"6\": 1}, \"13\": {\"13\": 155, \"4\": 25, \"10\": 20, \"14\": 3, \"6\": 10, \"0\": 26, \"7\": 1}, \"14\": {\"14\": 202, \"10\": 18, \"4\": 12, \"5\": 1, \"1\": 6, \"13\": 1}, \"2\": {\"2\": 230, \"7\": 7, \"3\": 3}, \"3\": {\"3\": 240}, \"1\": {\"1\": 237, \"11\": 3}, \"0\": {\"13\": 13, \"0\": 222, \"7\": 5}, \"5\": {\"5\": 231, \"10\": 3, \"1\": 5, \"14\": 1}, \"15\": {\"15\": 232, \"12\": 6, \"8\": 2}, \"10\": {\"14\": 3, \"10\": 232, \"13\": 5}, \"12\": {\"12\": 197, \"15\": 27, \"3\": 3, \"8\": 13}, \"6\": {\"6\": 219, \"13\": 2, \"7\": 15, \"4\": 4}, \"7\": {\"7\": 218, \"6\": 20, \"2\": 1, \"0\": 1}}}, \"per_domain_accuracy\": {\"ORACLE.run2_26\": {\"accuracy\": 0.8119791666666667, \"source?\": true}, \"ORACLE.run2_44\": {\"accuracy\": 0.8638020833333333, \"source?\": true}, \"ORACLE.run2_50\": {\"accuracy\": 0.93125, \"source?\": true}, \"ORACLE.run2_38\": {\"accuracy\": 0.8908854166666667, \"source?\": true}, \"ORACLE.run2_20\": {\"accuracy\": 0.9080729166666667, \"source?\": true}, \"ORACLE.run2_14\": {\"accuracy\": 0.9440104166666666, \"source?\": true}, \"ORACLE.run2_32\": {\"accuracy\": 0.9471354166666667, \"source?\": true}, \"ORACLE.run2_8\": {\"accuracy\": 0.9270833333333334, \"source?\": true}, \"ORACLE.run1_26\": {\"accuracy\": 0.7997395833333333, \"source?\": false}, \"ORACLE.run1_44\": {\"accuracy\": 0.7953125, \"source?\": false}, \"ORACLE.run1_50\": {\"accuracy\": 0.9190104166666667, \"source?\": false}, \"ORACLE.run1_38\": {\"accuracy\": 0.9205729166666666, \"source?\": false}, \"ORACLE.run1_20\": {\"accuracy\": 0.9158854166666667, \"source?\": false}, \"ORACLE.run1_14\": {\"accuracy\": 0.9200520833333333, \"source?\": false}, \"ORACLE.run1_32\": {\"accuracy\": 0.90859375, \"source?\": false}, \"ORACLE.run1_8\": {\"accuracy\": 0.9223958333333333, \"source?\": false}}}, \"history\": {\"epoch_indices\": [1, 2, 3, 4, 5, 6, 7, 8, 9, 10, 11, 12, 13, 14, 15, 16, 17], \"train_label_loss\": [0.8208367974475204, 0.5876477229237068, 0.42531498869759077, 0.36493633951620374, 0.3231391492413379, 0.2952491446295642, 0.27359818661948554, 0.25306638651624475, 0.23448501344530434, 0.22669061981806798, 0.21148543508066464, 0.2051159915854528, 0.18626269007017116, 0.18007986471211118, 0.17004198024362613, 0.16683620233296617, 0.15237497458204285], \"source_val_label_loss\": [6.022384166717529, 0.49705246090888977, 0.45401835441589355, 0.3880022466182709, 0.3159090578556061, 0.35118499398231506, 0.3280227482318878, 0.28968527913093567, 0.2991926074028015, 0.31925901770591736, 0.3088618516921997, 0.3338266909122467, 0.3170553147792816, 0.2654109001159668, 0.2793272137641907, 0.2732275426387787, 0.28568607568740845], \"target_val_label_loss\": [4.267557144165039, 0.4761320650577545, 0.4434334337711334, 0.395761102437973, 0.3471828103065491, 0.3842494785785675, 0.3685950040817261, 0.34207406640052795, 0.3465762138366699, 0.37070024013519287, 0.3407663404941559, 0.37515193223953247, 0.33383458852767944, 0.34631818532943726, 0.35262051224708557, 0.3394005596637726, 0.35654792189598083], \"source_val_acc_label\": [0.7677408854166666, 0.8257486979166667, 0.8402994791666667, 0.8642252604166667, 0.8884440104166667, 0.8723958333333334, 0.88125, 0.8972005208333333, 0.8934895833333333, 0.8823893229166667, 0.8953776041666667, 0.8875651041666667, 0.90302734375, 0.9055989583333334, 0.9022135416666667, 0.9036458333333334, 0.9022135416666667], \"target_val_acc_label\": [0.7772135416666667, 0.8279947916666667, 0.8360677083333333, 0.85830078125, 0.87763671875, 0.8623697916666667, 0.8686848958333333, 0.88232421875, 0.8789713541666667, 0.8673502604166666, 0.8844075520833333, 0.8723958333333334, 0.8876953125, 0.8863606770833333, 0.8840494791666667, 0.88603515625, 0.8830729166666667]}, \"dataset_metrics\": {\"source\": {\"train\": {\"n_unique_x\": 179200, \"n_unique_y\": 16, \"n_batch/episode\": 6720}, \"val\": {\"n_unique_x\": 38400, \"n_unique_y\": 16, \"n_batch/episode\": 960}, \"test\": {\"n_unique_x\": 38400, \"n_unique_y\": 16, \"n_batch/episode\": 960}}, \"target\": {\"train\": {\"n_unique_x\": 179200, \"n_unique_y\": 16, \"n_batch/episode\": 6720}, \"val\": {\"n_unique_x\": 38400, \"n_unique_y\": 16, \"n_batch/episode\": 960}, \"test\": {\"n_unique_x\": 38400, \"n_unique_y\": 16, \"n_batch/episode\": 960}}}}'"
      ]
     },
     "execution_count": 29,
     "metadata": {},
     "output_type": "execute_result"
    }
   ],
   "source": [
    "json.dumps(experiment)"
   ]
  }
 ],
 "metadata": {
  "celltoolbar": "Tags",
  "kernelspec": {
   "display_name": "Python 3 (ipykernel)",
   "language": "python",
   "name": "python3"
  },
  "language_info": {
   "codemirror_mode": {
    "name": "ipython",
    "version": 3
   },
   "file_extension": ".py",
   "mimetype": "text/x-python",
   "name": "python",
   "nbconvert_exporter": "python",
   "pygments_lexer": "ipython3",
   "version": "3.8.12"
  },
  "papermill": {
   "default_parameters": {},
   "duration": 4782.059727,
   "end_time": "2022-03-22T04:11:19.230733",
   "environment_variables": {},
   "exception": null,
   "input_path": "/root/csc500-main/csc500-notebooks/templates/tl_ptn_template.ipynb",
   "output_path": "trial.ipynb",
   "parameters": {
    "parameters": {
     "BEST_MODEL_PATH": "./best_model.pth",
     "NUM_LOGS_PER_EPOCH": 10,
     "criteria_for_best": "target_accuracy",
     "dataset_seed": 7,
     "datasets": [
      {
       "domain_prefix": "ORACLE.run1_",
       "domains": [
        32,
        38,
        8,
        44,
        14,
        50,
        20,
        26
       ],
       "episode_transforms": [],
       "labels": [
        "3123D52",
        "3123D65",
        "3123D79",
        "3123D80",
        "3123D54",
        "3123D70",
        "3123D7B",
        "3123D89",
        "3123D58",
        "3123D76",
        "3123D7D",
        "3123EFE",
        "3123D64",
        "3123D78",
        "3123D7E",
        "3124E4A"
       ],
       "num_examples_per_domain_per_label": 2000,
       "pickle_path": "/root/csc500-main/datasets/oracle.Run1_framed_2000Examples_stratified_ds.2022A.pkl",
       "source_or_target_dataset": "target",
       "x_transforms": [
        "unit_mag"
       ]
      },
      {
       "domain_prefix": "ORACLE.run2_",
       "domains": [
        32,
        38,
        8,
        44,
        14,
        50,
        20,
        26
       ],
       "episode_transforms": [],
       "labels": [
        "3123D52",
        "3123D65",
        "3123D79",
        "3123D80",
        "3123D54",
        "3123D70",
        "3123D7B",
        "3123D89",
        "3123D58",
        "3123D76",
        "3123D7D",
        "3123EFE",
        "3123D64",
        "3123D78",
        "3123D7E",
        "3124E4A"
       ],
       "num_examples_per_domain_per_label": 2000,
       "pickle_path": "/root/csc500-main/datasets/oracle.Run2_framed_2000Examples_stratified_ds.2022A.pkl",
       "source_or_target_dataset": "source",
       "x_transforms": [
        "unit_mag"
       ]
      }
     ],
     "device": "cuda",
     "experiment_name": "tl_1v2:oracle.run1.framed-oracle.run2.framed",
     "lr": 0.0001,
     "n_epoch": 50,
     "n_query": 2,
     "n_shot": 3,
     "n_way": 16,
     "patience": 3,
     "seed": 7,
     "test_k_factor": 2,
     "torch_default_dtype": "torch.float32",
     "train_k_factor": 3,
     "val_k_factor": 2,
     "x_net": [
      {
       "class": "nnReshape",
       "kargs": {
        "shape": [
         -1,
         1,
         2,
         256
        ]
       }
      },
      {
       "class": "Conv2d",
       "kargs": {
        "bias": false,
        "in_channels": 1,
        "kernel_size": [
         1,
         7
        ],
        "out_channels": 256,
        "padding": [
         0,
         3
        ]
       }
      },
      {
       "class": "ReLU",
       "kargs": {
        "inplace": true
       }
      },
      {
       "class": "BatchNorm2d",
       "kargs": {
        "num_features": 256
       }
      },
      {
       "class": "Conv2d",
       "kargs": {
        "bias": true,
        "in_channels": 256,
        "kernel_size": [
         2,
         7
        ],
        "out_channels": 80,
        "padding": [
         0,
         3
        ]
       }
      },
      {
       "class": "ReLU",
       "kargs": {
        "inplace": true
       }
      },
      {
       "class": "BatchNorm2d",
       "kargs": {
        "num_features": 80
       }
      },
      {
       "class": "Flatten",
       "kargs": {}
      },
      {
       "class": "Linear",
       "kargs": {
        "in_features": 20480,
        "out_features": 256
       }
      },
      {
       "class": "ReLU",
       "kargs": {
        "inplace": true
       }
      },
      {
       "class": "BatchNorm1d",
       "kargs": {
        "num_features": 256
       }
      },
      {
       "class": "Linear",
       "kargs": {
        "in_features": 256,
        "out_features": 256
       }
      }
     ]
    }
   },
   "start_time": "2022-03-22T02:51:37.171006",
   "version": "2.3.4"
  }
 },
 "nbformat": 4,
 "nbformat_minor": 5
}