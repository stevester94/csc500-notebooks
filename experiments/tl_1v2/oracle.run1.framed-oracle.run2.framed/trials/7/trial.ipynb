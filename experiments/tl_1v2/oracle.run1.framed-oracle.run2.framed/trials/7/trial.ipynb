{
 "cells": [
  {
   "cell_type": "markdown",
   "id": "9fea5f46",
   "metadata": {
    "papermill": {
     "duration": 0.029418,
     "end_time": "2022-03-21T10:54:07.390143",
     "exception": false,
     "start_time": "2022-03-21T10:54:07.360725",
     "status": "completed"
    },
    "tags": []
   },
   "source": [
    "# Transfer Learning Template"
   ]
  },
  {
   "cell_type": "code",
   "execution_count": 1,
   "id": "0902182a",
   "metadata": {
    "execution": {
     "iopub.execute_input": "2022-03-21T10:54:07.450800Z",
     "iopub.status.busy": "2022-03-21T10:54:07.449951Z",
     "iopub.status.idle": "2022-03-21T10:54:09.327497Z",
     "shell.execute_reply": "2022-03-21T10:54:09.328200Z"
    },
    "papermill": {
     "duration": 1.916448,
     "end_time": "2022-03-21T10:54:09.328533",
     "exception": false,
     "start_time": "2022-03-21T10:54:07.412085",
     "status": "completed"
    },
    "tags": []
   },
   "outputs": [],
   "source": [
    "%load_ext autoreload\n",
    "%autoreload 2\n",
    "%matplotlib inline\n",
    "\n",
    "    \n",
    "import os, json, sys, time, random\n",
    "import numpy as np\n",
    "import torch\n",
    "from torch.optim import Adam\n",
    "from  easydict import EasyDict\n",
    "import matplotlib.pyplot as plt\n",
    "\n",
    "from steves_models.steves_ptn import Steves_Prototypical_Network\n",
    "\n",
    "from steves_utils.lazy_iterable_wrapper import Lazy_Iterable_Wrapper\n",
    "from steves_utils.iterable_aggregator import Iterable_Aggregator\n",
    "from steves_utils.ptn_train_eval_test_jig import  PTN_Train_Eval_Test_Jig\n",
    "from steves_utils.torch_sequential_builder import build_sequential\n",
    "from steves_utils.torch_utils import get_dataset_metrics, ptn_confusion_by_domain_over_dataloader\n",
    "from steves_utils.utils_v2 import (per_domain_accuracy_from_confusion, get_datasets_base_path)\n",
    "from steves_utils.PTN.utils import independent_accuracy_assesment\n",
    "\n",
    "from torch.utils.data import DataLoader\n",
    "\n",
    "from steves_utils.stratified_dataset.episodic_accessor import Episodic_Accessor_Factory\n",
    "\n",
    "from steves_utils.ptn_do_report import (\n",
    "    get_loss_curve,\n",
    "    get_results_table,\n",
    "    get_parameters_table,\n",
    "    get_domain_accuracies,\n",
    ")\n",
    "\n",
    "from steves_utils.transforms import get_chained_transform"
   ]
  },
  {
   "cell_type": "markdown",
   "id": "41c840b4",
   "metadata": {
    "papermill": {
     "duration": 0.019055,
     "end_time": "2022-03-21T10:54:09.371789",
     "exception": false,
     "start_time": "2022-03-21T10:54:09.352734",
     "status": "completed"
    },
    "tags": []
   },
   "source": [
    "# Allowed Parameters\n",
    "These are allowed parameters, not defaults\n",
    "Each of these values need to be present in the injected parameters (the notebook will raise an exception if they are not present)\n",
    "\n",
    "Papermill uses the cell tag \"parameters\" to inject the real parameters below this cell.\n",
    "Enable tags to see what I mean"
   ]
  },
  {
   "cell_type": "code",
   "execution_count": 2,
   "id": "fd44eb83",
   "metadata": {
    "execution": {
     "iopub.execute_input": "2022-03-21T10:54:09.416001Z",
     "iopub.status.busy": "2022-03-21T10:54:09.415418Z",
     "iopub.status.idle": "2022-03-21T10:54:09.439520Z",
     "shell.execute_reply": "2022-03-21T10:54:09.438726Z"
    },
    "papermill": {
     "duration": 0.048825,
     "end_time": "2022-03-21T10:54:09.439707",
     "exception": false,
     "start_time": "2022-03-21T10:54:09.390882",
     "status": "completed"
    },
    "tags": []
   },
   "outputs": [],
   "source": [
    "required_parameters = {\n",
    "    \"experiment_name\",\n",
    "    \"lr\",\n",
    "    \"device\",\n",
    "    \"seed\",\n",
    "    \"dataset_seed\",\n",
    "    \"n_shot\",\n",
    "    \"n_query\",\n",
    "    \"n_way\",\n",
    "    \"train_k_factor\",\n",
    "    \"val_k_factor\",\n",
    "    \"test_k_factor\",\n",
    "    \"n_epoch\",\n",
    "    \"patience\",\n",
    "    \"criteria_for_best\",\n",
    "    \"x_net\",\n",
    "    \"datasets\",\n",
    "    \"torch_default_dtype\",\n",
    "    \"NUM_LOGS_PER_EPOCH\",\n",
    "    \"BEST_MODEL_PATH\",\n",
    "    \"x_shape\",\n",
    "}"
   ]
  },
  {
   "cell_type": "code",
   "execution_count": 3,
   "id": "fa3f0049",
   "metadata": {
    "execution": {
     "iopub.execute_input": "2022-03-21T10:54:09.501601Z",
     "iopub.status.busy": "2022-03-21T10:54:09.500704Z",
     "iopub.status.idle": "2022-03-21T10:54:09.523071Z",
     "shell.execute_reply": "2022-03-21T10:54:09.522282Z"
    },
    "papermill": {
     "duration": 0.056981,
     "end_time": "2022-03-21T10:54:09.523233",
     "exception": false,
     "start_time": "2022-03-21T10:54:09.466252",
     "status": "completed"
    },
    "tags": [
     "parameters"
    ]
   },
   "outputs": [],
   "source": [
    "from steves_utils.CORES.utils import (\n",
    "    ALL_NODES,\n",
    "    ALL_NODES_MINIMUM_1000_EXAMPLES,\n",
    "    ALL_DAYS\n",
    ")\n",
    "\n",
    "from steves_utils.ORACLE.utils_v2 import (\n",
    "    ALL_DISTANCES_FEET_NARROWED,\n",
    "    ALL_RUNS,\n",
    "    ALL_SERIAL_NUMBERS,\n",
    ")\n",
    "\n",
    "standalone_parameters = {}\n",
    "standalone_parameters[\"experiment_name\"] = \"STANDALONE PTN\"\n",
    "standalone_parameters[\"lr\"] = 0.001\n",
    "standalone_parameters[\"device\"] = \"cuda\"\n",
    "\n",
    "standalone_parameters[\"seed\"] = 1337\n",
    "standalone_parameters[\"dataset_seed\"] = 1337\n",
    "\n",
    "standalone_parameters[\"n_way\"] = 8\n",
    "standalone_parameters[\"n_shot\"] = 3\n",
    "standalone_parameters[\"n_query\"]  = 2\n",
    "standalone_parameters[\"train_k_factor\"] = 1\n",
    "standalone_parameters[\"val_k_factor\"] = 2\n",
    "standalone_parameters[\"test_k_factor\"] = 2\n",
    "\n",
    "\n",
    "standalone_parameters[\"n_epoch\"] = 50\n",
    "\n",
    "standalone_parameters[\"patience\"] = 10\n",
    "standalone_parameters[\"criteria_for_best\"] = \"source_loss\"\n",
    "\n",
    "standalone_parameters[\"datasets\"] = [\n",
    "    {\n",
    "        \"labels\": ALL_SERIAL_NUMBERS,\n",
    "        \"domains\": ALL_DISTANCES_FEET_NARROWED,\n",
    "        \"num_examples_per_domain_per_label\": 100,\n",
    "        \"pickle_path\": os.path.join(get_datasets_base_path(), \"oracle.Run1_framed_2000Examples_stratified_ds.2022A.pkl\"),\n",
    "        \"source_or_target_dataset\": \"source\",\n",
    "        \"x_transforms\": [\"unit_mag\", \"minus_two\"],\n",
    "        \"episode_transforms\": [],\n",
    "        \"domain_prefix\": \"ORACLE_\"\n",
    "    },\n",
    "    {\n",
    "        \"labels\": ALL_NODES,\n",
    "        \"domains\": ALL_DAYS,\n",
    "        \"num_examples_per_domain_per_label\": 100,\n",
    "        \"pickle_path\": os.path.join(get_datasets_base_path(), \"cores.stratified_ds.2022A.pkl\"),\n",
    "        \"source_or_target_dataset\": \"target\",\n",
    "        \"x_transforms\": [\"unit_power\", \"times_zero\"],\n",
    "        \"episode_transforms\": [],\n",
    "        \"domain_prefix\": \"CORES_\"\n",
    "    }   \n",
    "]\n",
    "\n",
    "standalone_parameters[\"torch_default_dtype\"] = \"torch.float32\" \n",
    "\n",
    "\n",
    "\n",
    "standalone_parameters[\"x_net\"] =     [\n",
    "    {\"class\": \"nnReshape\", \"kargs\": {\"shape\":[-1, 1, 2, 256]}},\n",
    "    {\"class\": \"Conv2d\", \"kargs\": { \"in_channels\":1, \"out_channels\":256, \"kernel_size\":(1,7), \"bias\":False, \"padding\":(0,3), },},\n",
    "    {\"class\": \"ReLU\", \"kargs\": {\"inplace\": True}},\n",
    "    {\"class\": \"BatchNorm2d\", \"kargs\": {\"num_features\":256}},\n",
    "\n",
    "    {\"class\": \"Conv2d\", \"kargs\": { \"in_channels\":256, \"out_channels\":80, \"kernel_size\":(2,7), \"bias\":True, \"padding\":(0,3), },},\n",
    "    {\"class\": \"ReLU\", \"kargs\": {\"inplace\": True}},\n",
    "    {\"class\": \"BatchNorm2d\", \"kargs\": {\"num_features\":80}},\n",
    "    {\"class\": \"Flatten\", \"kargs\": {}},\n",
    "\n",
    "    {\"class\": \"Linear\", \"kargs\": {\"in_features\": 80*256, \"out_features\": 256}}, # 80 units per IQ pair\n",
    "    {\"class\": \"ReLU\", \"kargs\": {\"inplace\": True}},\n",
    "    {\"class\": \"BatchNorm1d\", \"kargs\": {\"num_features\":256}},\n",
    "\n",
    "    {\"class\": \"Linear\", \"kargs\": {\"in_features\": 256, \"out_features\": 256}},\n",
    "]\n",
    "\n",
    "# Parameters relevant to results\n",
    "# These parameters will basically never need to change\n",
    "standalone_parameters[\"NUM_LOGS_PER_EPOCH\"] = 10\n",
    "standalone_parameters[\"BEST_MODEL_PATH\"] = \"./best_model.pth\"\n",
    "\n",
    "\n",
    "\n",
    "\n"
   ]
  },
  {
   "cell_type": "code",
   "execution_count": 4,
   "id": "2ae1cad4",
   "metadata": {
    "execution": {
     "iopub.execute_input": "2022-03-21T10:54:09.584177Z",
     "iopub.status.busy": "2022-03-21T10:54:09.583232Z",
     "iopub.status.idle": "2022-03-21T10:54:09.604482Z",
     "shell.execute_reply": "2022-03-21T10:54:09.603682Z"
    },
    "papermill": {
     "duration": 0.054374,
     "end_time": "2022-03-21T10:54:09.604639",
     "exception": false,
     "start_time": "2022-03-21T10:54:09.550265",
     "status": "completed"
    },
    "tags": [
     "injected-parameters"
    ]
   },
   "outputs": [],
   "source": [
    "# Parameters\n",
    "parameters = {\n",
    "    \"experiment_name\": \"tl_1v2:oracle.run1.framed-oracle.run2.framed\",\n",
    "    \"device\": \"cuda\",\n",
    "    \"lr\": 0.0001,\n",
    "    \"n_shot\": 3,\n",
    "    \"n_query\": 2,\n",
    "    \"train_k_factor\": 3,\n",
    "    \"val_k_factor\": 2,\n",
    "    \"test_k_factor\": 2,\n",
    "    \"torch_default_dtype\": \"torch.float32\",\n",
    "    \"n_epoch\": 50,\n",
    "    \"patience\": 3,\n",
    "    \"criteria_for_best\": \"target_accuracy\",\n",
    "    \"x_net\": [\n",
    "        {\"class\": \"nnReshape\", \"kargs\": {\"shape\": [-1, 1, 2, 256]}},\n",
    "        {\n",
    "            \"class\": \"Conv2d\",\n",
    "            \"kargs\": {\n",
    "                \"in_channels\": 1,\n",
    "                \"out_channels\": 256,\n",
    "                \"kernel_size\": [1, 7],\n",
    "                \"bias\": False,\n",
    "                \"padding\": [0, 3],\n",
    "            },\n",
    "        },\n",
    "        {\"class\": \"ReLU\", \"kargs\": {\"inplace\": True}},\n",
    "        {\"class\": \"BatchNorm2d\", \"kargs\": {\"num_features\": 256}},\n",
    "        {\n",
    "            \"class\": \"Conv2d\",\n",
    "            \"kargs\": {\n",
    "                \"in_channels\": 256,\n",
    "                \"out_channels\": 80,\n",
    "                \"kernel_size\": [2, 7],\n",
    "                \"bias\": True,\n",
    "                \"padding\": [0, 3],\n",
    "            },\n",
    "        },\n",
    "        {\"class\": \"ReLU\", \"kargs\": {\"inplace\": True}},\n",
    "        {\"class\": \"BatchNorm2d\", \"kargs\": {\"num_features\": 80}},\n",
    "        {\"class\": \"Flatten\", \"kargs\": {}},\n",
    "        {\"class\": \"Linear\", \"kargs\": {\"in_features\": 20480, \"out_features\": 256}},\n",
    "        {\"class\": \"ReLU\", \"kargs\": {\"inplace\": True}},\n",
    "        {\"class\": \"BatchNorm1d\", \"kargs\": {\"num_features\": 256}},\n",
    "        {\"class\": \"Linear\", \"kargs\": {\"in_features\": 256, \"out_features\": 256}},\n",
    "    ],\n",
    "    \"NUM_LOGS_PER_EPOCH\": 10,\n",
    "    \"BEST_MODEL_PATH\": \"./best_model.pth\",\n",
    "    \"n_way\": 16,\n",
    "    \"datasets\": [\n",
    "        {\n",
    "            \"labels\": [\n",
    "                \"3123D52\",\n",
    "                \"3123D65\",\n",
    "                \"3123D79\",\n",
    "                \"3123D80\",\n",
    "                \"3123D54\",\n",
    "                \"3123D70\",\n",
    "                \"3123D7B\",\n",
    "                \"3123D89\",\n",
    "                \"3123D58\",\n",
    "                \"3123D76\",\n",
    "                \"3123D7D\",\n",
    "                \"3123EFE\",\n",
    "                \"3123D64\",\n",
    "                \"3123D78\",\n",
    "                \"3123D7E\",\n",
    "                \"3124E4A\",\n",
    "            ],\n",
    "            \"domains\": [32, 38, 8, 44, 14, 50, 20, 26],\n",
    "            \"num_examples_per_domain_per_label\": 2000,\n",
    "            \"pickle_path\": \"/root/csc500-main/datasets/oracle.Run1_framed_2000Examples_stratified_ds.2022A.pkl\",\n",
    "            \"source_or_target_dataset\": \"source\",\n",
    "            \"x_transforms\": [\"unit_mag\"],\n",
    "            \"episode_transforms\": [],\n",
    "            \"domain_prefix\": \"ORACLE.run1_\",\n",
    "        },\n",
    "        {\n",
    "            \"labels\": [\n",
    "                \"3123D52\",\n",
    "                \"3123D65\",\n",
    "                \"3123D79\",\n",
    "                \"3123D80\",\n",
    "                \"3123D54\",\n",
    "                \"3123D70\",\n",
    "                \"3123D7B\",\n",
    "                \"3123D89\",\n",
    "                \"3123D58\",\n",
    "                \"3123D76\",\n",
    "                \"3123D7D\",\n",
    "                \"3123EFE\",\n",
    "                \"3123D64\",\n",
    "                \"3123D78\",\n",
    "                \"3123D7E\",\n",
    "                \"3124E4A\",\n",
    "            ],\n",
    "            \"domains\": [32, 38, 8, 44, 14, 50, 20, 26],\n",
    "            \"num_examples_per_domain_per_label\": 2000,\n",
    "            \"pickle_path\": \"/root/csc500-main/datasets/oracle.Run2_framed_2000Examples_stratified_ds.2022A.pkl\",\n",
    "            \"source_or_target_dataset\": \"target\",\n",
    "            \"x_transforms\": [\"unit_mag\"],\n",
    "            \"episode_transforms\": [],\n",
    "            \"domain_prefix\": \"ORACLE.run2_\",\n",
    "        },\n",
    "    ],\n",
    "    \"dataset_seed\": 420,\n",
    "    \"seed\": 420,\n",
    "}\n"
   ]
  },
  {
   "cell_type": "code",
   "execution_count": 5,
   "id": "8fa1cc33",
   "metadata": {
    "execution": {
     "iopub.execute_input": "2022-03-21T10:54:09.658206Z",
     "iopub.status.busy": "2022-03-21T10:54:09.657035Z",
     "iopub.status.idle": "2022-03-21T10:54:09.680939Z",
     "shell.execute_reply": "2022-03-21T10:54:09.681601Z"
    },
    "papermill": {
     "duration": 0.050914,
     "end_time": "2022-03-21T10:54:09.681787",
     "exception": false,
     "start_time": "2022-03-21T10:54:09.630873",
     "status": "completed"
    },
    "tags": []
   },
   "outputs": [],
   "source": [
    "# Set this to True if you want to run this template directly\n",
    "STANDALONE = False\n",
    "if STANDALONE:\n",
    "    print(\"parameters not injected, running with standalone_parameters\")\n",
    "    parameters = standalone_parameters\n",
    "\n",
    "if not 'parameters' in locals() and not 'parameters' in globals():\n",
    "    raise Exception(\"Parameter injection failed\")\n",
    "\n",
    "#Use an easy dict for all the parameters\n",
    "p = EasyDict(parameters)\n",
    "\n",
    "if \"x_shape\" not in p:\n",
    "    p.x_shape = [2,256] # Default to this if we dont supply x_shape\n",
    "\n",
    "\n",
    "supplied_keys = set(p.keys())\n",
    "\n",
    "if  supplied_keys != required_parameters:\n",
    "    print(\"Parameters are incorrect\")\n",
    "    if len(supplied_keys - required_parameters)>0: print(\"Shouldn't have:\", str(supplied_keys - required_parameters))\n",
    "    if len(required_parameters - supplied_keys)>0: print(\"Need to have:\", str(required_parameters - supplied_keys))\n",
    "    raise RuntimeError(\"Parameters are incorrect\")"
   ]
  },
  {
   "cell_type": "code",
   "execution_count": 6,
   "id": "3a028d58",
   "metadata": {
    "execution": {
     "iopub.execute_input": "2022-03-21T10:54:09.731632Z",
     "iopub.status.busy": "2022-03-21T10:54:09.730873Z",
     "iopub.status.idle": "2022-03-21T10:54:09.753722Z",
     "shell.execute_reply": "2022-03-21T10:54:09.753029Z"
    },
    "papermill": {
     "duration": 0.046416,
     "end_time": "2022-03-21T10:54:09.753877",
     "exception": false,
     "start_time": "2022-03-21T10:54:09.707461",
     "status": "completed"
    },
    "tags": []
   },
   "outputs": [],
   "source": [
    "###################################\n",
    "# Set the RNGs and make it all deterministic\n",
    "###################################\n",
    "np.random.seed(p.seed)\n",
    "random.seed(p.seed)\n",
    "torch.manual_seed(p.seed)\n",
    "\n",
    "torch.use_deterministic_algorithms(True) "
   ]
  },
  {
   "cell_type": "code",
   "execution_count": 7,
   "id": "b691acf6",
   "metadata": {
    "execution": {
     "iopub.execute_input": "2022-03-21T10:54:09.803617Z",
     "iopub.status.busy": "2022-03-21T10:54:09.803161Z",
     "iopub.status.idle": "2022-03-21T10:54:09.825415Z",
     "shell.execute_reply": "2022-03-21T10:54:09.824618Z"
    },
    "papermill": {
     "duration": 0.045945,
     "end_time": "2022-03-21T10:54:09.825571",
     "exception": false,
     "start_time": "2022-03-21T10:54:09.779626",
     "status": "completed"
    },
    "tags": []
   },
   "outputs": [],
   "source": [
    "###########################################\n",
    "# The stratified datasets honor this\n",
    "###########################################\n",
    "torch.set_default_dtype(eval(p.torch_default_dtype))"
   ]
  },
  {
   "cell_type": "code",
   "execution_count": 8,
   "id": "b5fba671",
   "metadata": {
    "execution": {
     "iopub.execute_input": "2022-03-21T10:54:09.878346Z",
     "iopub.status.busy": "2022-03-21T10:54:09.877982Z",
     "iopub.status.idle": "2022-03-21T10:54:09.934219Z",
     "shell.execute_reply": "2022-03-21T10:54:09.933374Z"
    },
    "papermill": {
     "duration": 0.080503,
     "end_time": "2022-03-21T10:54:09.934394",
     "exception": false,
     "start_time": "2022-03-21T10:54:09.853891",
     "status": "completed"
    },
    "tags": []
   },
   "outputs": [],
   "source": [
    "###################################\n",
    "# Build the network(s)\n",
    "# Note: It's critical to do this AFTER setting the RNG\n",
    "###################################\n",
    "x_net = build_sequential(p.x_net)"
   ]
  },
  {
   "cell_type": "code",
   "execution_count": 9,
   "id": "5d7e61cc",
   "metadata": {
    "execution": {
     "iopub.execute_input": "2022-03-21T10:54:09.986705Z",
     "iopub.status.busy": "2022-03-21T10:54:09.986333Z",
     "iopub.status.idle": "2022-03-21T10:54:10.011647Z",
     "shell.execute_reply": "2022-03-21T10:54:10.012305Z"
    },
    "papermill": {
     "duration": 0.049784,
     "end_time": "2022-03-21T10:54:10.012486",
     "exception": false,
     "start_time": "2022-03-21T10:54:09.962702",
     "status": "completed"
    },
    "tags": []
   },
   "outputs": [],
   "source": [
    "start_time_secs = time.time()"
   ]
  },
  {
   "cell_type": "code",
   "execution_count": 10,
   "id": "c6b67dfd",
   "metadata": {
    "execution": {
     "iopub.execute_input": "2022-03-21T10:54:10.063561Z",
     "iopub.status.busy": "2022-03-21T10:54:10.062866Z",
     "iopub.status.idle": "2022-03-21T10:54:10.085959Z",
     "shell.execute_reply": "2022-03-21T10:54:10.085157Z"
    },
    "papermill": {
     "duration": 0.046902,
     "end_time": "2022-03-21T10:54:10.086117",
     "exception": false,
     "start_time": "2022-03-21T10:54:10.039215",
     "status": "completed"
    },
    "tags": []
   },
   "outputs": [],
   "source": [
    "p.domains_source = []\n",
    "p.domains_target = []\n",
    "\n",
    "\n",
    "train_original_source = []\n",
    "val_original_source   = []\n",
    "test_original_source  = []\n",
    "\n",
    "train_original_target = []\n",
    "val_original_target   = []\n",
    "test_original_target  = []"
   ]
  },
  {
   "cell_type": "code",
   "execution_count": 11,
   "id": "e3d9c3d3",
   "metadata": {
    "execution": {
     "iopub.execute_input": "2022-03-21T10:54:10.135272Z",
     "iopub.status.busy": "2022-03-21T10:54:10.134910Z",
     "iopub.status.idle": "2022-03-21T10:54:10.160679Z",
     "shell.execute_reply": "2022-03-21T10:54:10.159879Z"
    },
    "papermill": {
     "duration": 0.048683,
     "end_time": "2022-03-21T10:54:10.160832",
     "exception": false,
     "start_time": "2022-03-21T10:54:10.112149",
     "status": "completed"
    },
    "tags": []
   },
   "outputs": [],
   "source": [
    "# global_x_transform_func = lambda x: normalize(x.to(torch.get_default_dtype()), \"unit_power\") # unit_power, unit_mag\n",
    "# global_x_transform_func = lambda x: normalize(x, \"unit_power\") # unit_power, unit_mag"
   ]
  },
  {
   "cell_type": "code",
   "execution_count": 12,
   "id": "acb78fd2",
   "metadata": {
    "execution": {
     "iopub.execute_input": "2022-03-21T10:54:10.219150Z",
     "iopub.status.busy": "2022-03-21T10:54:10.218772Z",
     "iopub.status.idle": "2022-03-21T10:54:10.239194Z",
     "shell.execute_reply": "2022-03-21T10:54:10.238402Z"
    },
    "papermill": {
     "duration": 0.051978,
     "end_time": "2022-03-21T10:54:10.239349",
     "exception": false,
     "start_time": "2022-03-21T10:54:10.187371",
     "status": "completed"
    },
    "tags": []
   },
   "outputs": [],
   "source": [
    "def add_dataset(\n",
    "    labels,\n",
    "    domains,\n",
    "    pickle_path,\n",
    "    x_transforms,\n",
    "    episode_transforms,\n",
    "    domain_prefix,\n",
    "    num_examples_per_domain_per_label,\n",
    "    source_or_target_dataset:str,\n",
    "    iterator_seed=p.seed,\n",
    "    dataset_seed=p.dataset_seed,\n",
    "    n_shot=p.n_shot,\n",
    "    n_way=p.n_way,\n",
    "    n_query=p.n_query,\n",
    "    train_val_test_k_factors=(p.train_k_factor,p.val_k_factor,p.test_k_factor),\n",
    "):\n",
    "   \n",
    "    if x_transforms == []: x_transform = None\n",
    "    else: x_transform = get_chained_transform(x_transforms)\n",
    "    \n",
    "    if episode_transforms == []: episode_transform = None\n",
    "    else: raise Exception(\"episode_transforms not implemented\")\n",
    "    \n",
    "    episode_transform = lambda tup, _prefix=domain_prefix: (_prefix + str(tup[0]), tup[1])\n",
    "\n",
    "\n",
    "    eaf = Episodic_Accessor_Factory(\n",
    "        labels=labels,\n",
    "        domains=domains,\n",
    "        num_examples_per_domain_per_label=num_examples_per_domain_per_label,\n",
    "        iterator_seed=iterator_seed,\n",
    "        dataset_seed=dataset_seed,\n",
    "        n_shot=n_shot,\n",
    "        n_way=n_way,\n",
    "        n_query=n_query,\n",
    "        train_val_test_k_factors=train_val_test_k_factors,\n",
    "        pickle_path=pickle_path,\n",
    "        x_transform_func=x_transform,\n",
    "    )\n",
    "\n",
    "    train, val, test = eaf.get_train(), eaf.get_val(), eaf.get_test()\n",
    "    train = Lazy_Iterable_Wrapper(train, episode_transform)\n",
    "    val = Lazy_Iterable_Wrapper(val, episode_transform)\n",
    "    test = Lazy_Iterable_Wrapper(test, episode_transform)\n",
    "\n",
    "    if source_or_target_dataset==\"source\":\n",
    "        train_original_source.append(train)\n",
    "        val_original_source.append(val)\n",
    "        test_original_source.append(test)\n",
    "\n",
    "        p.domains_source.extend(\n",
    "            [domain_prefix + str(u) for u in domains]\n",
    "        )\n",
    "    elif source_or_target_dataset==\"target\":\n",
    "        train_original_target.append(train)\n",
    "        val_original_target.append(val)\n",
    "        test_original_target.append(test)\n",
    "        p.domains_target.extend(\n",
    "            [domain_prefix + str(u) for u in domains]\n",
    "        )\n",
    "    else:\n",
    "        raise Exception(f\"invalid source_or_target_dataset: {source_or_target_dataset}\")\n",
    "    "
   ]
  },
  {
   "cell_type": "code",
   "execution_count": 13,
   "id": "fe266617",
   "metadata": {
    "execution": {
     "iopub.execute_input": "2022-03-21T10:54:10.289019Z",
     "iopub.status.busy": "2022-03-21T10:54:10.288655Z",
     "iopub.status.idle": "2022-03-21T10:54:51.953492Z",
     "shell.execute_reply": "2022-03-21T10:54:51.952764Z"
    },
    "papermill": {
     "duration": 41.688848,
     "end_time": "2022-03-21T10:54:51.953676",
     "exception": false,
     "start_time": "2022-03-21T10:54:10.264828",
     "status": "completed"
    },
    "tags": []
   },
   "outputs": [],
   "source": [
    "for ds in p.datasets:\n",
    "    add_dataset(**ds)"
   ]
  },
  {
   "cell_type": "code",
   "execution_count": 14,
   "id": "b90d65ac",
   "metadata": {
    "execution": {
     "iopub.execute_input": "2022-03-21T10:54:52.007969Z",
     "iopub.status.busy": "2022-03-21T10:54:52.007581Z",
     "iopub.status.idle": "2022-03-21T10:54:52.034592Z",
     "shell.execute_reply": "2022-03-21T10:54:52.033799Z"
    },
    "papermill": {
     "duration": 0.051473,
     "end_time": "2022-03-21T10:54:52.034748",
     "exception": false,
     "start_time": "2022-03-21T10:54:51.983275",
     "status": "completed"
    },
    "tags": []
   },
   "outputs": [],
   "source": [
    "# from steves_utils.CORES.utils import (\n",
    "#     ALL_NODES,\n",
    "#     ALL_NODES_MINIMUM_1000_EXAMPLES,\n",
    "#     ALL_DAYS\n",
    "# )\n",
    "\n",
    "# add_dataset(\n",
    "#     labels=ALL_NODES,\n",
    "#     domains = ALL_DAYS,\n",
    "#     num_examples_per_domain_per_label=100,\n",
    "#     pickle_path=os.path.join(get_datasets_base_path(), \"cores.stratified_ds.2022A.pkl\"),\n",
    "#     source_or_target_dataset=\"target\",\n",
    "#     x_transform_func=global_x_transform_func,\n",
    "#     domain_modifier=lambda u: f\"cores_{u}\"\n",
    "# )"
   ]
  },
  {
   "cell_type": "code",
   "execution_count": 15,
   "id": "76db484d",
   "metadata": {
    "execution": {
     "iopub.execute_input": "2022-03-21T10:54:52.087336Z",
     "iopub.status.busy": "2022-03-21T10:54:52.086550Z",
     "iopub.status.idle": "2022-03-21T10:54:52.109813Z",
     "shell.execute_reply": "2022-03-21T10:54:52.109015Z"
    },
    "papermill": {
     "duration": 0.046734,
     "end_time": "2022-03-21T10:54:52.109967",
     "exception": false,
     "start_time": "2022-03-21T10:54:52.063233",
     "status": "completed"
    },
    "tags": []
   },
   "outputs": [],
   "source": [
    "# from steves_utils.ORACLE.utils_v2 import (\n",
    "#     ALL_DISTANCES_FEET,\n",
    "#     ALL_RUNS,\n",
    "#     ALL_SERIAL_NUMBERS,\n",
    "# )\n",
    "\n",
    "\n",
    "# add_dataset(\n",
    "#     labels=ALL_SERIAL_NUMBERS,\n",
    "#     domains = list(set(ALL_DISTANCES_FEET) - {2,62}),\n",
    "#     num_examples_per_domain_per_label=100,\n",
    "#     pickle_path=os.path.join(get_datasets_base_path(), \"oracle.Run2_framed_2000Examples_stratified_ds.2022A.pkl\"),\n",
    "#     source_or_target_dataset=\"source\",\n",
    "#     x_transform_func=global_x_transform_func,\n",
    "#     domain_modifier=lambda u: f\"oracle1_{u}\"\n",
    "# )\n"
   ]
  },
  {
   "cell_type": "code",
   "execution_count": 16,
   "id": "97dea9d2",
   "metadata": {
    "execution": {
     "iopub.execute_input": "2022-03-21T10:54:52.162111Z",
     "iopub.status.busy": "2022-03-21T10:54:52.161742Z",
     "iopub.status.idle": "2022-03-21T10:54:52.184937Z",
     "shell.execute_reply": "2022-03-21T10:54:52.184116Z"
    },
    "papermill": {
     "duration": 0.047813,
     "end_time": "2022-03-21T10:54:52.185091",
     "exception": false,
     "start_time": "2022-03-21T10:54:52.137278",
     "status": "completed"
    },
    "tags": []
   },
   "outputs": [],
   "source": [
    "# from steves_utils.ORACLE.utils_v2 import (\n",
    "#     ALL_DISTANCES_FEET,\n",
    "#     ALL_RUNS,\n",
    "#     ALL_SERIAL_NUMBERS,\n",
    "# )\n",
    "\n",
    "\n",
    "# add_dataset(\n",
    "#     labels=ALL_SERIAL_NUMBERS,\n",
    "#     domains = list(set(ALL_DISTANCES_FEET) - {2,62,56}),\n",
    "#     num_examples_per_domain_per_label=100,\n",
    "#     pickle_path=os.path.join(get_datasets_base_path(), \"oracle.Run2_framed_2000Examples_stratified_ds.2022A.pkl\"),\n",
    "#     source_or_target_dataset=\"source\",\n",
    "#     x_transform_func=global_x_transform_func,\n",
    "#     domain_modifier=lambda u: f\"oracle2_{u}\"\n",
    "# )"
   ]
  },
  {
   "cell_type": "code",
   "execution_count": 17,
   "id": "6f289866",
   "metadata": {
    "execution": {
     "iopub.execute_input": "2022-03-21T10:54:52.236873Z",
     "iopub.status.busy": "2022-03-21T10:54:52.236347Z",
     "iopub.status.idle": "2022-03-21T10:54:52.260022Z",
     "shell.execute_reply": "2022-03-21T10:54:52.259212Z"
    },
    "papermill": {
     "duration": 0.047472,
     "end_time": "2022-03-21T10:54:52.260176",
     "exception": false,
     "start_time": "2022-03-21T10:54:52.212704",
     "status": "completed"
    },
    "tags": []
   },
   "outputs": [],
   "source": [
    "# add_dataset(\n",
    "#     labels=list(range(19)),\n",
    "#     domains = [0,1,2],\n",
    "#     num_examples_per_domain_per_label=100,\n",
    "#     pickle_path=os.path.join(get_datasets_base_path(), \"metehan.stratified_ds.2022A.pkl\"),\n",
    "#     source_or_target_dataset=\"target\",\n",
    "#     x_transform_func=global_x_transform_func,\n",
    "#     domain_modifier=lambda u: f\"met_{u}\"\n",
    "# )"
   ]
  },
  {
   "cell_type": "code",
   "execution_count": 18,
   "id": "86a863c3",
   "metadata": {
    "execution": {
     "iopub.execute_input": "2022-03-21T10:54:52.315043Z",
     "iopub.status.busy": "2022-03-21T10:54:52.314196Z",
     "iopub.status.idle": "2022-03-21T10:54:52.336820Z",
     "shell.execute_reply": "2022-03-21T10:54:52.336117Z"
    },
    "papermill": {
     "duration": 0.046905,
     "end_time": "2022-03-21T10:54:52.336972",
     "exception": false,
     "start_time": "2022-03-21T10:54:52.290067",
     "status": "completed"
    },
    "tags": []
   },
   "outputs": [],
   "source": [
    "# # from steves_utils.wisig.utils import (\n",
    "# #     ALL_NODES_MINIMUM_100_EXAMPLES,\n",
    "# #     ALL_NODES_MINIMUM_500_EXAMPLES,\n",
    "# #     ALL_NODES_MINIMUM_1000_EXAMPLES,\n",
    "# #     ALL_DAYS\n",
    "# # )\n",
    "\n",
    "# import steves_utils.wisig.utils as wisig\n",
    "\n",
    "\n",
    "# add_dataset(\n",
    "#     labels=wisig.ALL_NODES_MINIMUM_100_EXAMPLES,\n",
    "#     domains = wisig.ALL_DAYS,\n",
    "#     num_examples_per_domain_per_label=100,\n",
    "#     pickle_path=os.path.join(get_datasets_base_path(), \"wisig.node3-19.stratified_ds.2022A.pkl\"),\n",
    "#     source_or_target_dataset=\"target\",\n",
    "#     x_transform_func=global_x_transform_func,\n",
    "#     domain_modifier=lambda u: f\"wisig_{u}\"\n",
    "# )"
   ]
  },
  {
   "cell_type": "code",
   "execution_count": 19,
   "id": "fd5442bc",
   "metadata": {
    "execution": {
     "iopub.execute_input": "2022-03-21T10:54:52.394209Z",
     "iopub.status.busy": "2022-03-21T10:54:52.393293Z",
     "iopub.status.idle": "2022-03-21T10:54:52.414430Z",
     "shell.execute_reply": "2022-03-21T10:54:52.413633Z"
    },
    "papermill": {
     "duration": 0.047526,
     "end_time": "2022-03-21T10:54:52.414586",
     "exception": false,
     "start_time": "2022-03-21T10:54:52.367060",
     "status": "completed"
    },
    "tags": []
   },
   "outputs": [],
   "source": [
    "###################################\n",
    "# Build the dataset\n",
    "###################################\n",
    "train_original_source = Iterable_Aggregator(train_original_source, p.seed)\n",
    "val_original_source = Iterable_Aggregator(val_original_source, p.seed)\n",
    "test_original_source = Iterable_Aggregator(test_original_source, p.seed)\n",
    "\n",
    "\n",
    "train_original_target = Iterable_Aggregator(train_original_target, p.seed)\n",
    "val_original_target = Iterable_Aggregator(val_original_target, p.seed)\n",
    "test_original_target = Iterable_Aggregator(test_original_target, p.seed)\n",
    "\n",
    "# For CNN We only use X and Y. And we only train on the source.\n",
    "# Properly form the data using a transform lambda and Lazy_Iterable_Wrapper. Finally wrap them in a dataloader\n",
    "\n",
    "transform_lambda = lambda ex: ex[1] # Original is (<domain>, <episode>) so we strip down to episode only\n",
    "\n",
    "train_processed_source = Lazy_Iterable_Wrapper(train_original_source, transform_lambda)\n",
    "val_processed_source   = Lazy_Iterable_Wrapper(val_original_source, transform_lambda)\n",
    "test_processed_source  = Lazy_Iterable_Wrapper(test_original_source, transform_lambda)\n",
    "\n",
    "train_processed_target = Lazy_Iterable_Wrapper(train_original_target, transform_lambda)\n",
    "val_processed_target   = Lazy_Iterable_Wrapper(val_original_target, transform_lambda)\n",
    "test_processed_target  = Lazy_Iterable_Wrapper(test_original_target, transform_lambda)\n",
    "\n",
    "datasets = EasyDict({\n",
    "    \"source\": {\n",
    "        \"original\": {\"train\":train_original_source, \"val\":val_original_source, \"test\":test_original_source},\n",
    "        \"processed\": {\"train\":train_processed_source, \"val\":val_processed_source, \"test\":test_processed_source}\n",
    "    },\n",
    "    \"target\": {\n",
    "        \"original\": {\"train\":train_original_target, \"val\":val_original_target, \"test\":test_original_target},\n",
    "        \"processed\": {\"train\":train_processed_target, \"val\":val_processed_target, \"test\":test_processed_target}\n",
    "    },\n",
    "})"
   ]
  },
  {
   "cell_type": "code",
   "execution_count": 20,
   "id": "5b3c01fc",
   "metadata": {
    "execution": {
     "iopub.execute_input": "2022-03-21T10:54:52.469009Z",
     "iopub.status.busy": "2022-03-21T10:54:52.467728Z",
     "iopub.status.idle": "2022-03-21T10:55:08.027129Z",
     "shell.execute_reply": "2022-03-21T10:55:08.026269Z"
    },
    "papermill": {
     "duration": 15.585641,
     "end_time": "2022-03-21T10:55:08.027307",
     "exception": false,
     "start_time": "2022-03-21T10:54:52.441666",
     "status": "completed"
    },
    "tags": []
   },
   "outputs": [
    {
     "name": "stdout",
     "output_type": "stream",
     "text": [
      "{'ORACLE.run1_20', 'ORACLE.run1_26', 'ORACLE.run1_50', 'ORACLE.run1_32', 'ORACLE.run1_14', 'ORACLE.run1_8', 'ORACLE.run1_38', 'ORACLE.run1_44'}\n"
     ]
    },
    {
     "name": "stdout",
     "output_type": "stream",
     "text": [
      "{'ORACLE.run2_26', 'ORACLE.run2_8', 'ORACLE.run2_20', 'ORACLE.run2_44', 'ORACLE.run2_32', 'ORACLE.run2_14', 'ORACLE.run2_50', 'ORACLE.run2_38'}\n"
     ]
    },
    {
     "name": "stdout",
     "output_type": "stream",
     "text": [
      "tensor([[[ 0.6700,  0.3303, -1.0098,  ..., -0.2831,  1.4250,  0.4907],\n",
      "         [ 0.1604,  1.2551, -0.3209,  ..., -1.0947, -0.1793, -0.7266]],\n",
      "\n",
      "        [[-0.6870,  0.5439,  0.5630,  ..., -0.5630, -1.2500, -0.7920],\n",
      "         [-0.5153, -1.0687,  0.9828,  ...,  1.0782, -0.8110,  0.2958]],\n",
      "\n",
      "        [[-0.0381,  1.1716, -0.2381,  ..., -1.1240, -0.1619, -0.7620],\n",
      "         [-0.6001, -0.1715,  1.0478,  ..., -0.0191, -1.5050, -0.5715]],\n",
      "\n",
      "        ...,\n",
      "\n",
      "        [[ 0.7217,  0.1620, -0.9721,  ..., -0.2725,  1.3845,  0.4050],\n",
      "         [ 0.1694,  1.1046, -0.4198,  ..., -1.1267, -0.1473, -0.9647]],\n",
      "\n",
      "        [[ 1.0139,  0.3104, -1.3243,  ..., -0.1104,  1.0622, -0.7725],\n",
      "         [ 0.1035,  0.8622, -0.1242,  ..., -0.9794, -0.8415, -0.9794]],\n",
      "\n",
      "        [[ 0.9075,  0.5601, -1.0351,  ..., -0.8012, -0.2127, -1.3897],\n",
      "         [-0.7303,  0.5530,  0.9642,  ..., -0.8437, -1.2478,  0.2552]]])\n"
     ]
    }
   ],
   "source": [
    "from steves_utils.transforms import get_average_magnitude, get_average_power\n",
    "\n",
    "print(set([u for u,_ in val_original_source]))\n",
    "print(set([u for u,_ in val_original_target]))\n",
    "\n",
    "s_x, s_y, q_x, q_y, _ = next(iter(train_processed_source))\n",
    "print(s_x)\n",
    "\n",
    "# for ds in [\n",
    "#     train_processed_source,\n",
    "#     val_processed_source,\n",
    "#     test_processed_source,\n",
    "#     train_processed_target,\n",
    "#     val_processed_target,\n",
    "#     test_processed_target\n",
    "# ]:\n",
    "#     for s_x, s_y, q_x, q_y, _ in ds:\n",
    "#         for X in (s_x, q_x):\n",
    "#             for x in X:\n",
    "#                 assert np.isclose(get_average_magnitude(x.numpy()), 1.0)\n",
    "#                 assert np.isclose(get_average_power(x.numpy()), 1.0)\n",
    "                "
   ]
  },
  {
   "cell_type": "code",
   "execution_count": 21,
   "id": "bbdacba1",
   "metadata": {
    "execution": {
     "iopub.execute_input": "2022-03-21T10:55:08.079323Z",
     "iopub.status.busy": "2022-03-21T10:55:08.078948Z",
     "iopub.status.idle": "2022-03-21T10:55:08.253108Z",
     "shell.execute_reply": "2022-03-21T10:55:08.253789Z"
    },
    "papermill": {
     "duration": 0.201417,
     "end_time": "2022-03-21T10:55:08.254029",
     "exception": false,
     "start_time": "2022-03-21T10:55:08.052612",
     "status": "completed"
    },
    "tags": []
   },
   "outputs": [
    {
     "name": "stdout",
     "output_type": "stream",
     "text": [
      "(2, 256)\n"
     ]
    }
   ],
   "source": [
    "###################################\n",
    "# Build the model\n",
    "###################################\n",
    "# easfsl only wants a tuple for the shape\n",
    "model = Steves_Prototypical_Network(x_net, device=p.device, x_shape=tuple(p.x_shape))\n",
    "optimizer = Adam(params=model.parameters(), lr=p.lr)"
   ]
  },
  {
   "cell_type": "code",
   "execution_count": 22,
   "id": "22b39ac5",
   "metadata": {
    "execution": {
     "iopub.execute_input": "2022-03-21T10:55:08.317363Z",
     "iopub.status.busy": "2022-03-21T10:55:08.316562Z",
     "iopub.status.idle": "2022-03-21T11:52:19.349664Z",
     "shell.execute_reply": "2022-03-21T11:52:19.349314Z"
    },
    "papermill": {
     "duration": 3431.065473,
     "end_time": "2022-03-21T11:52:19.349760",
     "exception": false,
     "start_time": "2022-03-21T10:55:08.284287",
     "status": "completed"
    },
    "tags": []
   },
   "outputs": [
    {
     "name": "stdout",
     "output_type": "stream",
     "text": [
      "epoch: 1, [batch: 1 / 6720], examples_per_second: 32.3836, train_label_loss: 3.0194, \n"
     ]
    },
    {
     "name": "stdout",
     "output_type": "stream",
     "text": [
      "epoch: 1, [batch: 672 / 6720], examples_per_second: 2935.0038, train_label_loss: 0.9365, \n"
     ]
    },
    {
     "name": "stdout",
     "output_type": "stream",
     "text": [
      "epoch: 1, [batch: 1344 / 6720], examples_per_second: 2902.1045, train_label_loss: 0.6428, \n"
     ]
    },
    {
     "name": "stdout",
     "output_type": "stream",
     "text": [
      "epoch: 1, [batch: 2016 / 6720], examples_per_second: 2955.3688, train_label_loss: 0.9551, \n"
     ]
    },
    {
     "name": "stdout",
     "output_type": "stream",
     "text": [
      "epoch: 1, [batch: 2688 / 6720], examples_per_second: 2978.8234, train_label_loss: 0.6521, \n"
     ]
    },
    {
     "name": "stdout",
     "output_type": "stream",
     "text": [
      "epoch: 1, [batch: 3360 / 6720], examples_per_second: 2937.2895, train_label_loss: 0.8198, \n"
     ]
    },
    {
     "name": "stdout",
     "output_type": "stream",
     "text": [
      "epoch: 1, [batch: 4032 / 6720], examples_per_second: 2745.9887, train_label_loss: 0.4345, \n"
     ]
    },
    {
     "name": "stdout",
     "output_type": "stream",
     "text": [
      "epoch: 1, [batch: 4704 / 6720], examples_per_second: 2364.9032, train_label_loss: 0.5576, \n"
     ]
    },
    {
     "name": "stdout",
     "output_type": "stream",
     "text": [
      "epoch: 1, [batch: 5376 / 6720], examples_per_second: 2578.5915, train_label_loss: 1.0136, \n"
     ]
    },
    {
     "name": "stdout",
     "output_type": "stream",
     "text": [
      "epoch: 1, [batch: 6048 / 6720], examples_per_second: 2587.5300, train_label_loss: 0.3670, \n"
     ]
    },
    {
     "name": "stdout",
     "output_type": "stream",
     "text": [
      "=============================================================\n",
      "epoch: 1, source_val_acc_label: 0.7771, target_val_acc_label: 0.7565, source_val_label_loss: 4.8270, target_val_label_loss: 9.2071, \n",
      "=============================================================\n"
     ]
    },
    {
     "name": "stdout",
     "output_type": "stream",
     "text": [
      "New best\n"
     ]
    },
    {
     "name": "stdout",
     "output_type": "stream",
     "text": [
      "epoch: 2, [batch: 1 / 6720], examples_per_second: 2.0342, train_label_loss: 0.5795, \n"
     ]
    },
    {
     "name": "stdout",
     "output_type": "stream",
     "text": [
      "epoch: 2, [batch: 672 / 6720], examples_per_second: 2307.7339, train_label_loss: 0.5264, \n"
     ]
    },
    {
     "name": "stdout",
     "output_type": "stream",
     "text": [
      "epoch: 2, [batch: 1344 / 6720], examples_per_second: 2296.5395, train_label_loss: 0.5794, \n"
     ]
    },
    {
     "name": "stdout",
     "output_type": "stream",
     "text": [
      "epoch: 2, [batch: 2016 / 6720], examples_per_second: 2324.3992, train_label_loss: 0.2109, \n"
     ]
    },
    {
     "name": "stdout",
     "output_type": "stream",
     "text": [
      "epoch: 2, [batch: 2688 / 6720], examples_per_second: 2547.3504, train_label_loss: 0.6824, \n"
     ]
    },
    {
     "name": "stdout",
     "output_type": "stream",
     "text": [
      "epoch: 2, [batch: 3360 / 6720], examples_per_second: 2580.4788, train_label_loss: 0.5296, \n"
     ]
    },
    {
     "name": "stdout",
     "output_type": "stream",
     "text": [
      "epoch: 2, [batch: 4032 / 6720], examples_per_second: 2644.3574, train_label_loss: 0.3780, \n"
     ]
    },
    {
     "name": "stdout",
     "output_type": "stream",
     "text": [
      "epoch: 2, [batch: 4704 / 6720], examples_per_second: 2401.7064, train_label_loss: 0.5027, \n"
     ]
    },
    {
     "name": "stdout",
     "output_type": "stream",
     "text": [
      "epoch: 2, [batch: 5376 / 6720], examples_per_second: 2631.9599, train_label_loss: 0.6985, \n"
     ]
    },
    {
     "name": "stdout",
     "output_type": "stream",
     "text": [
      "epoch: 2, [batch: 6048 / 6720], examples_per_second: 2601.0228, train_label_loss: 0.2011, \n"
     ]
    },
    {
     "name": "stdout",
     "output_type": "stream",
     "text": [
      "=============================================================\n",
      "epoch: 2, source_val_acc_label: 0.8056, target_val_acc_label: 0.7884, source_val_label_loss: 0.5296, target_val_label_loss: 0.6411, \n",
      "=============================================================\n"
     ]
    },
    {
     "name": "stdout",
     "output_type": "stream",
     "text": [
      "New best\n"
     ]
    },
    {
     "name": "stdout",
     "output_type": "stream",
     "text": [
      "epoch: 3, [batch: 1 / 6720], examples_per_second: 2.0439, train_label_loss: 0.2968, \n"
     ]
    },
    {
     "name": "stdout",
     "output_type": "stream",
     "text": [
      "epoch: 3, [batch: 672 / 6720], examples_per_second: 2346.4391, train_label_loss: 0.4454, \n"
     ]
    },
    {
     "name": "stdout",
     "output_type": "stream",
     "text": [
      "epoch: 3, [batch: 1344 / 6720], examples_per_second: 2297.0193, train_label_loss: 0.9419, \n"
     ]
    },
    {
     "name": "stdout",
     "output_type": "stream",
     "text": [
      "epoch: 3, [batch: 2016 / 6720], examples_per_second: 2317.4299, train_label_loss: 0.2213, \n"
     ]
    },
    {
     "name": "stdout",
     "output_type": "stream",
     "text": [
      "epoch: 3, [batch: 2688 / 6720], examples_per_second: 2495.7238, train_label_loss: 0.5947, \n"
     ]
    },
    {
     "name": "stdout",
     "output_type": "stream",
     "text": [
      "epoch: 3, [batch: 3360 / 6720], examples_per_second: 2617.7363, train_label_loss: 0.5359, \n"
     ]
    },
    {
     "name": "stdout",
     "output_type": "stream",
     "text": [
      "epoch: 3, [batch: 4032 / 6720], examples_per_second: 2687.4935, train_label_loss: 0.3936, \n"
     ]
    },
    {
     "name": "stdout",
     "output_type": "stream",
     "text": [
      "epoch: 3, [batch: 4704 / 6720], examples_per_second: 2485.2739, train_label_loss: 0.3245, \n"
     ]
    },
    {
     "name": "stdout",
     "output_type": "stream",
     "text": [
      "epoch: 3, [batch: 5376 / 6720], examples_per_second: 2585.9832, train_label_loss: 0.4488, \n"
     ]
    },
    {
     "name": "stdout",
     "output_type": "stream",
     "text": [
      "epoch: 3, [batch: 6048 / 6720], examples_per_second: 2631.7137, train_label_loss: 0.3347, \n"
     ]
    },
    {
     "name": "stdout",
     "output_type": "stream",
     "text": [
      "=============================================================\n",
      "epoch: 3, source_val_acc_label: 0.8470, target_val_acc_label: 0.8250, source_val_label_loss: 0.4185, target_val_label_loss: 0.7001, \n",
      "=============================================================\n"
     ]
    },
    {
     "name": "stdout",
     "output_type": "stream",
     "text": [
      "New best\n"
     ]
    },
    {
     "name": "stdout",
     "output_type": "stream",
     "text": [
      "epoch: 4, [batch: 1 / 6720], examples_per_second: 2.0250, train_label_loss: 0.3826, \n"
     ]
    },
    {
     "name": "stdout",
     "output_type": "stream",
     "text": [
      "epoch: 4, [batch: 672 / 6720], examples_per_second: 2369.8523, train_label_loss: 0.3581, \n"
     ]
    },
    {
     "name": "stdout",
     "output_type": "stream",
     "text": [
      "epoch: 4, [batch: 1344 / 6720], examples_per_second: 2632.2231, train_label_loss: 0.2074, \n"
     ]
    },
    {
     "name": "stdout",
     "output_type": "stream",
     "text": [
      "epoch: 4, [batch: 2016 / 6720], examples_per_second: 2583.0464, train_label_loss: 0.1961, \n"
     ]
    },
    {
     "name": "stdout",
     "output_type": "stream",
     "text": [
      "epoch: 4, [batch: 2688 / 6720], examples_per_second: 2779.8937, train_label_loss: 0.4575, \n"
     ]
    },
    {
     "name": "stdout",
     "output_type": "stream",
     "text": [
      "epoch: 4, [batch: 3360 / 6720], examples_per_second: 2957.3954, train_label_loss: 0.8903, \n"
     ]
    },
    {
     "name": "stdout",
     "output_type": "stream",
     "text": [
      "epoch: 4, [batch: 4032 / 6720], examples_per_second: 2995.2906, train_label_loss: 0.2218, \n"
     ]
    },
    {
     "name": "stdout",
     "output_type": "stream",
     "text": [
      "epoch: 4, [batch: 4704 / 6720], examples_per_second: 2940.9014, train_label_loss: 0.3403, \n"
     ]
    },
    {
     "name": "stdout",
     "output_type": "stream",
     "text": [
      "epoch: 4, [batch: 5376 / 6720], examples_per_second: 2953.2112, train_label_loss: 0.3184, \n"
     ]
    },
    {
     "name": "stdout",
     "output_type": "stream",
     "text": [
      "epoch: 4, [batch: 6048 / 6720], examples_per_second: 3579.0832, train_label_loss: 0.2637, \n"
     ]
    },
    {
     "name": "stdout",
     "output_type": "stream",
     "text": [
      "=============================================================\n",
      "epoch: 4, source_val_acc_label: 0.8497, target_val_acc_label: 0.8298, source_val_label_loss: 0.4084, target_val_label_loss: 0.8683, \n",
      "=============================================================\n"
     ]
    },
    {
     "name": "stdout",
     "output_type": "stream",
     "text": [
      "New best\n"
     ]
    },
    {
     "name": "stdout",
     "output_type": "stream",
     "text": [
      "epoch: 5, [batch: 1 / 6720], examples_per_second: 2.1112, train_label_loss: 0.2670, \n"
     ]
    },
    {
     "name": "stdout",
     "output_type": "stream",
     "text": [
      "epoch: 5, [batch: 672 / 6720], examples_per_second: 2336.6924, train_label_loss: 0.7017, \n"
     ]
    },
    {
     "name": "stdout",
     "output_type": "stream",
     "text": [
      "epoch: 5, [batch: 1344 / 6720], examples_per_second: 2313.3455, train_label_loss: 0.3118, \n"
     ]
    },
    {
     "name": "stdout",
     "output_type": "stream",
     "text": [
      "epoch: 5, [batch: 2016 / 6720], examples_per_second: 2301.1683, train_label_loss: 0.4160, \n"
     ]
    },
    {
     "name": "stdout",
     "output_type": "stream",
     "text": [
      "epoch: 5, [batch: 2688 / 6720], examples_per_second: 2390.2085, train_label_loss: 0.4666, \n"
     ]
    },
    {
     "name": "stdout",
     "output_type": "stream",
     "text": [
      "epoch: 5, [batch: 3360 / 6720], examples_per_second: 2591.5942, train_label_loss: 0.3216, \n"
     ]
    },
    {
     "name": "stdout",
     "output_type": "stream",
     "text": [
      "epoch: 5, [batch: 4032 / 6720], examples_per_second: 2602.2455, train_label_loss: 0.3987, \n"
     ]
    },
    {
     "name": "stdout",
     "output_type": "stream",
     "text": [
      "epoch: 5, [batch: 4704 / 6720], examples_per_second: 2685.6012, train_label_loss: 0.2856, \n"
     ]
    },
    {
     "name": "stdout",
     "output_type": "stream",
     "text": [
      "epoch: 5, [batch: 5376 / 6720], examples_per_second: 2656.4388, train_label_loss: 0.2542, \n"
     ]
    },
    {
     "name": "stdout",
     "output_type": "stream",
     "text": [
      "epoch: 5, [batch: 6048 / 6720], examples_per_second: 2654.3728, train_label_loss: 0.1001, \n"
     ]
    },
    {
     "name": "stdout",
     "output_type": "stream",
     "text": [
      "=============================================================\n",
      "epoch: 5, source_val_acc_label: 0.8914, target_val_acc_label: 0.8672, source_val_label_loss: 0.3072, target_val_label_loss: 1.0945, \n",
      "=============================================================\n"
     ]
    },
    {
     "name": "stdout",
     "output_type": "stream",
     "text": [
      "New best\n"
     ]
    },
    {
     "name": "stdout",
     "output_type": "stream",
     "text": [
      "epoch: 6, [batch: 1 / 6720], examples_per_second: 1.9967, train_label_loss: 0.2079, \n"
     ]
    },
    {
     "name": "stdout",
     "output_type": "stream",
     "text": [
      "epoch: 6, [batch: 672 / 6720], examples_per_second: 2321.6473, train_label_loss: 0.1120, \n"
     ]
    },
    {
     "name": "stdout",
     "output_type": "stream",
     "text": [
      "epoch: 6, [batch: 1344 / 6720], examples_per_second: 2302.8865, train_label_loss: 0.4098, \n"
     ]
    },
    {
     "name": "stdout",
     "output_type": "stream",
     "text": [
      "epoch: 6, [batch: 2016 / 6720], examples_per_second: 2323.4354, train_label_loss: 0.8664, \n"
     ]
    },
    {
     "name": "stdout",
     "output_type": "stream",
     "text": [
      "epoch: 6, [batch: 2688 / 6720], examples_per_second: 2390.9015, train_label_loss: 0.1228, \n"
     ]
    },
    {
     "name": "stdout",
     "output_type": "stream",
     "text": [
      "epoch: 6, [batch: 3360 / 6720], examples_per_second: 2645.0846, train_label_loss: 0.1737, \n"
     ]
    },
    {
     "name": "stdout",
     "output_type": "stream",
     "text": [
      "epoch: 6, [batch: 4032 / 6720], examples_per_second: 2634.9357, train_label_loss: 0.2642, \n"
     ]
    },
    {
     "name": "stdout",
     "output_type": "stream",
     "text": [
      "epoch: 6, [batch: 4704 / 6720], examples_per_second: 2845.9564, train_label_loss: 0.3628, \n"
     ]
    },
    {
     "name": "stdout",
     "output_type": "stream",
     "text": [
      "epoch: 6, [batch: 5376 / 6720], examples_per_second: 2974.2923, train_label_loss: 0.4864, \n"
     ]
    },
    {
     "name": "stdout",
     "output_type": "stream",
     "text": [
      "epoch: 6, [batch: 6048 / 6720], examples_per_second: 3125.2253, train_label_loss: 0.5538, \n"
     ]
    },
    {
     "name": "stdout",
     "output_type": "stream",
     "text": [
      "=============================================================\n",
      "epoch: 6, source_val_acc_label: 0.8979, target_val_acc_label: 0.8750, source_val_label_loss: 0.2911, target_val_label_loss: 0.8740, \n",
      "=============================================================\n"
     ]
    },
    {
     "name": "stdout",
     "output_type": "stream",
     "text": [
      "New best\n"
     ]
    },
    {
     "name": "stdout",
     "output_type": "stream",
     "text": [
      "epoch: 7, [batch: 1 / 6720], examples_per_second: 2.2751, train_label_loss: 0.1310, \n"
     ]
    },
    {
     "name": "stdout",
     "output_type": "stream",
     "text": [
      "epoch: 7, [batch: 672 / 6720], examples_per_second: 2556.5821, train_label_loss: 0.3308, \n"
     ]
    },
    {
     "name": "stdout",
     "output_type": "stream",
     "text": [
      "epoch: 7, [batch: 1344 / 6720], examples_per_second: 2595.5099, train_label_loss: 0.0356, \n"
     ]
    },
    {
     "name": "stdout",
     "output_type": "stream",
     "text": [
      "epoch: 7, [batch: 2016 / 6720], examples_per_second: 2613.0363, train_label_loss: 0.2417, \n"
     ]
    },
    {
     "name": "stdout",
     "output_type": "stream",
     "text": [
      "epoch: 7, [batch: 2688 / 6720], examples_per_second: 2961.4593, train_label_loss: 0.1585, \n"
     ]
    },
    {
     "name": "stdout",
     "output_type": "stream",
     "text": [
      "epoch: 7, [batch: 3360 / 6720], examples_per_second: 3023.0872, train_label_loss: 0.2372, \n"
     ]
    },
    {
     "name": "stdout",
     "output_type": "stream",
     "text": [
      "epoch: 7, [batch: 4032 / 6720], examples_per_second: 2997.0343, train_label_loss: 0.2969, \n"
     ]
    },
    {
     "name": "stdout",
     "output_type": "stream",
     "text": [
      "epoch: 7, [batch: 4704 / 6720], examples_per_second: 3278.6458, train_label_loss: 0.6149, \n"
     ]
    },
    {
     "name": "stdout",
     "output_type": "stream",
     "text": [
      "epoch: 7, [batch: 5376 / 6720], examples_per_second: 3400.8701, train_label_loss: 0.2390, \n"
     ]
    },
    {
     "name": "stdout",
     "output_type": "stream",
     "text": [
      "epoch: 7, [batch: 6048 / 6720], examples_per_second: 3322.9420, train_label_loss: 0.1860, \n"
     ]
    },
    {
     "name": "stdout",
     "output_type": "stream",
     "text": [
      "=============================================================\n",
      "epoch: 7, source_val_acc_label: 0.8912, target_val_acc_label: 0.8631, source_val_label_loss: 0.3062, target_val_label_loss: 1.1365, \n",
      "=============================================================\n"
     ]
    },
    {
     "name": "stdout",
     "output_type": "stream",
     "text": [
      "epoch: 8, [batch: 1 / 6720], examples_per_second: 2.1392, train_label_loss: 0.0970, \n"
     ]
    },
    {
     "name": "stdout",
     "output_type": "stream",
     "text": [
      "epoch: 8, [batch: 672 / 6720], examples_per_second: 2288.0029, train_label_loss: 0.1657, \n"
     ]
    },
    {
     "name": "stdout",
     "output_type": "stream",
     "text": [
      "epoch: 8, [batch: 1344 / 6720], examples_per_second: 2307.8048, train_label_loss: 0.0544, \n"
     ]
    },
    {
     "name": "stdout",
     "output_type": "stream",
     "text": [
      "epoch: 8, [batch: 2016 / 6720], examples_per_second: 2318.0264, train_label_loss: 0.2632, \n"
     ]
    },
    {
     "name": "stdout",
     "output_type": "stream",
     "text": [
      "epoch: 8, [batch: 2688 / 6720], examples_per_second: 2294.7029, train_label_loss: 0.1168, \n"
     ]
    },
    {
     "name": "stdout",
     "output_type": "stream",
     "text": [
      "epoch: 8, [batch: 3360 / 6720], examples_per_second: 2327.1240, train_label_loss: 0.0629, \n"
     ]
    },
    {
     "name": "stdout",
     "output_type": "stream",
     "text": [
      "epoch: 8, [batch: 4032 / 6720], examples_per_second: 2363.2193, train_label_loss: 0.1085, \n"
     ]
    },
    {
     "name": "stdout",
     "output_type": "stream",
     "text": [
      "epoch: 8, [batch: 4704 / 6720], examples_per_second: 2558.7981, train_label_loss: 0.3887, \n"
     ]
    },
    {
     "name": "stdout",
     "output_type": "stream",
     "text": [
      "epoch: 8, [batch: 5376 / 6720], examples_per_second: 2788.9420, train_label_loss: 0.0508, \n"
     ]
    },
    {
     "name": "stdout",
     "output_type": "stream",
     "text": [
      "epoch: 8, [batch: 6048 / 6720], examples_per_second: 3197.5609, train_label_loss: 0.2021, \n"
     ]
    },
    {
     "name": "stdout",
     "output_type": "stream",
     "text": [
      "=============================================================\n",
      "epoch: 8, source_val_acc_label: 0.8991, target_val_acc_label: 0.8707, source_val_label_loss: 0.2828, target_val_label_loss: 1.1352, \n",
      "=============================================================\n"
     ]
    },
    {
     "name": "stdout",
     "output_type": "stream",
     "text": [
      "epoch: 9, [batch: 1 / 6720], examples_per_second: 2.7697, train_label_loss: 0.5368, \n"
     ]
    },
    {
     "name": "stdout",
     "output_type": "stream",
     "text": [
      "epoch: 9, [batch: 672 / 6720], examples_per_second: 2954.2114, train_label_loss: 0.3752, \n"
     ]
    },
    {
     "name": "stdout",
     "output_type": "stream",
     "text": [
      "epoch: 9, [batch: 1344 / 6720], examples_per_second: 3008.4076, train_label_loss: 0.3273, \n"
     ]
    },
    {
     "name": "stdout",
     "output_type": "stream",
     "text": [
      "epoch: 9, [batch: 2016 / 6720], examples_per_second: 2971.9825, train_label_loss: 0.4563, \n"
     ]
    },
    {
     "name": "stdout",
     "output_type": "stream",
     "text": [
      "epoch: 9, [batch: 2688 / 6720], examples_per_second: 2909.7699, train_label_loss: 0.1647, \n"
     ]
    },
    {
     "name": "stdout",
     "output_type": "stream",
     "text": [
      "epoch: 9, [batch: 3360 / 6720], examples_per_second: 3237.3691, train_label_loss: 0.7386, \n"
     ]
    },
    {
     "name": "stdout",
     "output_type": "stream",
     "text": [
      "epoch: 9, [batch: 4032 / 6720], examples_per_second: 3414.1821, train_label_loss: 0.3864, \n"
     ]
    },
    {
     "name": "stdout",
     "output_type": "stream",
     "text": [
      "epoch: 9, [batch: 4704 / 6720], examples_per_second: 3372.9146, train_label_loss: 0.2443, \n"
     ]
    },
    {
     "name": "stdout",
     "output_type": "stream",
     "text": [
      "epoch: 9, [batch: 5376 / 6720], examples_per_second: 3466.7700, train_label_loss: 0.0160, \n"
     ]
    },
    {
     "name": "stdout",
     "output_type": "stream",
     "text": [
      "epoch: 9, [batch: 6048 / 6720], examples_per_second: 4038.3886, train_label_loss: 0.3585, \n"
     ]
    },
    {
     "name": "stdout",
     "output_type": "stream",
     "text": [
      "=============================================================\n",
      "epoch: 9, source_val_acc_label: 0.9031, target_val_acc_label: 0.8731, source_val_label_loss: 0.2782, target_val_label_loss: 0.8536, \n",
      "=============================================================\n"
     ]
    },
    {
     "name": "stdout",
     "output_type": "stream",
     "text": [
      "epoch: 10, [batch: 1 / 6720], examples_per_second: 3.3581, train_label_loss: 0.1515, \n"
     ]
    },
    {
     "name": "stdout",
     "output_type": "stream",
     "text": [
      "epoch: 10, [batch: 672 / 6720], examples_per_second: 3425.9871, train_label_loss: 0.2483, \n"
     ]
    },
    {
     "name": "stdout",
     "output_type": "stream",
     "text": [
      "epoch: 10, [batch: 1344 / 6720], examples_per_second: 3457.9313, train_label_loss: 0.1204, \n"
     ]
    },
    {
     "name": "stdout",
     "output_type": "stream",
     "text": [
      "epoch: 10, [batch: 2016 / 6720], examples_per_second: 3064.2259, train_label_loss: 0.2048, \n"
     ]
    },
    {
     "name": "stdout",
     "output_type": "stream",
     "text": [
      "epoch: 10, [batch: 2688 / 6720], examples_per_second: 2594.1922, train_label_loss: 0.0943, \n"
     ]
    },
    {
     "name": "stdout",
     "output_type": "stream",
     "text": [
      "epoch: 10, [batch: 3360 / 6720], examples_per_second: 2562.8621, train_label_loss: 0.2943, \n"
     ]
    },
    {
     "name": "stdout",
     "output_type": "stream",
     "text": [
      "epoch: 10, [batch: 4032 / 6720], examples_per_second: 2581.6948, train_label_loss: 0.1304, \n"
     ]
    },
    {
     "name": "stdout",
     "output_type": "stream",
     "text": [
      "epoch: 10, [batch: 4704 / 6720], examples_per_second: 2569.7524, train_label_loss: 0.2145, \n"
     ]
    },
    {
     "name": "stdout",
     "output_type": "stream",
     "text": [
      "epoch: 10, [batch: 5376 / 6720], examples_per_second: 2627.4164, train_label_loss: 0.1074, \n"
     ]
    },
    {
     "name": "stdout",
     "output_type": "stream",
     "text": [
      "epoch: 10, [batch: 6048 / 6720], examples_per_second: 2917.9004, train_label_loss: 0.1612, \n"
     ]
    },
    {
     "name": "stdout",
     "output_type": "stream",
     "text": [
      "=============================================================\n",
      "epoch: 10, source_val_acc_label: 0.9063, target_val_acc_label: 0.8781, source_val_label_loss: 0.2640, target_val_label_loss: 0.8972, \n",
      "=============================================================\n"
     ]
    },
    {
     "name": "stdout",
     "output_type": "stream",
     "text": [
      "New best\n"
     ]
    },
    {
     "name": "stdout",
     "output_type": "stream",
     "text": [
      "epoch: 11, [batch: 1 / 6720], examples_per_second: 2.4584, train_label_loss: 0.2951, \n"
     ]
    },
    {
     "name": "stdout",
     "output_type": "stream",
     "text": [
      "epoch: 11, [batch: 672 / 6720], examples_per_second: 2951.0925, train_label_loss: 0.1958, \n"
     ]
    },
    {
     "name": "stdout",
     "output_type": "stream",
     "text": [
      "epoch: 11, [batch: 1344 / 6720], examples_per_second: 2972.6655, train_label_loss: 0.2099, \n"
     ]
    },
    {
     "name": "stdout",
     "output_type": "stream",
     "text": [
      "epoch: 11, [batch: 2016 / 6720], examples_per_second: 2834.4906, train_label_loss: 0.3877, \n"
     ]
    },
    {
     "name": "stdout",
     "output_type": "stream",
     "text": [
      "epoch: 11, [batch: 2688 / 6720], examples_per_second: 2672.3310, train_label_loss: 0.0344, \n"
     ]
    },
    {
     "name": "stdout",
     "output_type": "stream",
     "text": [
      "epoch: 11, [batch: 3360 / 6720], examples_per_second: 3010.9145, train_label_loss: 0.3742, \n"
     ]
    },
    {
     "name": "stdout",
     "output_type": "stream",
     "text": [
      "epoch: 11, [batch: 4032 / 6720], examples_per_second: 3019.2825, train_label_loss: 0.3169, \n"
     ]
    },
    {
     "name": "stdout",
     "output_type": "stream",
     "text": [
      "epoch: 11, [batch: 4704 / 6720], examples_per_second: 2983.8206, train_label_loss: 0.3528, \n"
     ]
    },
    {
     "name": "stdout",
     "output_type": "stream",
     "text": [
      "epoch: 11, [batch: 5376 / 6720], examples_per_second: 3030.1404, train_label_loss: 0.0563, \n"
     ]
    },
    {
     "name": "stdout",
     "output_type": "stream",
     "text": [
      "epoch: 11, [batch: 6048 / 6720], examples_per_second: 3362.7305, train_label_loss: 0.0055, \n"
     ]
    },
    {
     "name": "stdout",
     "output_type": "stream",
     "text": [
      "=============================================================\n",
      "epoch: 11, source_val_acc_label: 0.9012, target_val_acc_label: 0.8724, source_val_label_loss: 0.2828, target_val_label_loss: 1.3898, \n",
      "=============================================================\n"
     ]
    },
    {
     "name": "stdout",
     "output_type": "stream",
     "text": [
      "epoch: 12, [batch: 1 / 6720], examples_per_second: 3.1168, train_label_loss: 0.2054, \n"
     ]
    },
    {
     "name": "stdout",
     "output_type": "stream",
     "text": [
      "epoch: 12, [batch: 672 / 6720], examples_per_second: 3436.5689, train_label_loss: 0.4714, \n"
     ]
    },
    {
     "name": "stdout",
     "output_type": "stream",
     "text": [
      "epoch: 12, [batch: 1344 / 6720], examples_per_second: 3432.9385, train_label_loss: 0.0771, \n"
     ]
    },
    {
     "name": "stdout",
     "output_type": "stream",
     "text": [
      "epoch: 12, [batch: 2016 / 6720], examples_per_second: 3329.1241, train_label_loss: 0.3785, \n"
     ]
    },
    {
     "name": "stdout",
     "output_type": "stream",
     "text": [
      "epoch: 12, [batch: 2688 / 6720], examples_per_second: 2964.1429, train_label_loss: 0.1372, \n"
     ]
    },
    {
     "name": "stdout",
     "output_type": "stream",
     "text": [
      "epoch: 12, [batch: 3360 / 6720], examples_per_second: 2999.1470, train_label_loss: 0.4285, \n"
     ]
    },
    {
     "name": "stdout",
     "output_type": "stream",
     "text": [
      "epoch: 12, [batch: 4032 / 6720], examples_per_second: 3018.1170, train_label_loss: 0.4797, \n"
     ]
    },
    {
     "name": "stdout",
     "output_type": "stream",
     "text": [
      "epoch: 12, [batch: 4704 / 6720], examples_per_second: 3015.6527, train_label_loss: 0.0716, \n"
     ]
    },
    {
     "name": "stdout",
     "output_type": "stream",
     "text": [
      "epoch: 12, [batch: 5376 / 6720], examples_per_second: 2969.4539, train_label_loss: 0.2129, \n"
     ]
    },
    {
     "name": "stdout",
     "output_type": "stream",
     "text": [
      "epoch: 12, [batch: 6048 / 6720], examples_per_second: 3182.3449, train_label_loss: 0.3950, \n"
     ]
    },
    {
     "name": "stdout",
     "output_type": "stream",
     "text": [
      "=============================================================\n",
      "epoch: 12, source_val_acc_label: 0.9001, target_val_acc_label: 0.8692, source_val_label_loss: 0.2767, target_val_label_loss: 1.3499, \n",
      "=============================================================\n"
     ]
    },
    {
     "name": "stdout",
     "output_type": "stream",
     "text": [
      "epoch: 13, [batch: 1 / 6720], examples_per_second: 3.1282, train_label_loss: 0.0905, \n"
     ]
    },
    {
     "name": "stdout",
     "output_type": "stream",
     "text": [
      "epoch: 13, [batch: 672 / 6720], examples_per_second: 3441.3241, train_label_loss: 0.2103, \n"
     ]
    },
    {
     "name": "stdout",
     "output_type": "stream",
     "text": [
      "epoch: 13, [batch: 1344 / 6720], examples_per_second: 3516.9135, train_label_loss: 0.1527, \n"
     ]
    },
    {
     "name": "stdout",
     "output_type": "stream",
     "text": [
      "epoch: 13, [batch: 2016 / 6720], examples_per_second: 3424.3314, train_label_loss: 0.2479, \n"
     ]
    },
    {
     "name": "stdout",
     "output_type": "stream",
     "text": [
      "epoch: 13, [batch: 2688 / 6720], examples_per_second: 3022.7878, train_label_loss: 0.2926, \n"
     ]
    },
    {
     "name": "stdout",
     "output_type": "stream",
     "text": [
      "epoch: 13, [batch: 3360 / 6720], examples_per_second: 2989.1723, train_label_loss: 0.3178, \n"
     ]
    },
    {
     "name": "stdout",
     "output_type": "stream",
     "text": [
      "epoch: 13, [batch: 4032 / 6720], examples_per_second: 3093.1891, train_label_loss: 0.2343, \n"
     ]
    },
    {
     "name": "stdout",
     "output_type": "stream",
     "text": [
      "epoch: 13, [batch: 4704 / 6720], examples_per_second: 3000.3347, train_label_loss: 0.0388, \n"
     ]
    },
    {
     "name": "stdout",
     "output_type": "stream",
     "text": [
      "epoch: 13, [batch: 5376 / 6720], examples_per_second: 2578.6539, train_label_loss: 0.2001, \n"
     ]
    },
    {
     "name": "stdout",
     "output_type": "stream",
     "text": [
      "epoch: 13, [batch: 6048 / 6720], examples_per_second: 2319.7517, train_label_loss: 0.1292, \n"
     ]
    },
    {
     "name": "stdout",
     "output_type": "stream",
     "text": [
      "=============================================================\n",
      "epoch: 13, source_val_acc_label: 0.9064, target_val_acc_label: 0.8720, source_val_label_loss: 0.2706, target_val_label_loss: 1.4580, \n",
      "=============================================================\n"
     ]
    },
    {
     "name": "stdout",
     "output_type": "stream",
     "text": [
      "epoch: 14, [batch: 1 / 6720], examples_per_second: 2.2647, train_label_loss: 0.1947, \n"
     ]
    },
    {
     "name": "stdout",
     "output_type": "stream",
     "text": [
      "epoch: 14, [batch: 672 / 6720], examples_per_second: 2577.6440, train_label_loss: 0.0455, \n"
     ]
    },
    {
     "name": "stdout",
     "output_type": "stream",
     "text": [
      "epoch: 14, [batch: 1344 / 6720], examples_per_second: 2582.3858, train_label_loss: 0.2207, \n"
     ]
    },
    {
     "name": "stdout",
     "output_type": "stream",
     "text": [
      "epoch: 14, [batch: 2016 / 6720], examples_per_second: 2529.0089, train_label_loss: 0.0806, \n"
     ]
    },
    {
     "name": "stdout",
     "output_type": "stream",
     "text": [
      "epoch: 14, [batch: 2688 / 6720], examples_per_second: 2326.5955, train_label_loss: 0.1734, \n"
     ]
    },
    {
     "name": "stdout",
     "output_type": "stream",
     "text": [
      "epoch: 14, [batch: 3360 / 6720], examples_per_second: 2312.8786, train_label_loss: 0.4384, \n"
     ]
    },
    {
     "name": "stdout",
     "output_type": "stream",
     "text": [
      "epoch: 14, [batch: 4032 / 6720], examples_per_second: 2309.4053, train_label_loss: 0.1347, \n"
     ]
    },
    {
     "name": "stdout",
     "output_type": "stream",
     "text": [
      "epoch: 14, [batch: 4704 / 6720], examples_per_second: 2321.5658, train_label_loss: 0.1381, \n"
     ]
    },
    {
     "name": "stdout",
     "output_type": "stream",
     "text": [
      "epoch: 14, [batch: 5376 / 6720], examples_per_second: 2310.2281, train_label_loss: 0.2211, \n"
     ]
    },
    {
     "name": "stdout",
     "output_type": "stream",
     "text": [
      "epoch: 14, [batch: 6048 / 6720], examples_per_second: 2313.5736, train_label_loss: 0.3551, \n"
     ]
    },
    {
     "name": "stdout",
     "output_type": "stream",
     "text": [
      "=============================================================\n",
      "epoch: 14, source_val_acc_label: 0.9114, target_val_acc_label: 0.8760, source_val_label_loss: 0.2546, target_val_label_loss: 1.8824, \n",
      "=============================================================\n"
     ]
    },
    {
     "name": "stdout",
     "output_type": "stream",
     "text": [
      "Patience (3) exhausted\n"
     ]
    }
   ],
   "source": [
    "###################################\n",
    "# train\n",
    "###################################\n",
    "jig = PTN_Train_Eval_Test_Jig(model, p.BEST_MODEL_PATH, p.device)\n",
    "\n",
    "jig.train(\n",
    "    train_iterable=datasets.source.processed.train,\n",
    "    source_val_iterable=datasets.source.processed.val,\n",
    "    target_val_iterable=datasets.target.processed.val,\n",
    "    num_epochs=p.n_epoch,\n",
    "    num_logs_per_epoch=p.NUM_LOGS_PER_EPOCH,\n",
    "    patience=p.patience,\n",
    "    optimizer=optimizer,\n",
    "    criteria_for_best=p.criteria_for_best,\n",
    ")"
   ]
  },
  {
   "cell_type": "code",
   "execution_count": 23,
   "id": "31e8fabf",
   "metadata": {
    "execution": {
     "iopub.execute_input": "2022-03-21T11:52:19.485295Z",
     "iopub.status.busy": "2022-03-21T11:52:19.484918Z",
     "iopub.status.idle": "2022-03-21T11:52:19.517298Z",
     "shell.execute_reply": "2022-03-21T11:52:19.516526Z"
    },
    "papermill": {
     "duration": 0.101648,
     "end_time": "2022-03-21T11:52:19.517472",
     "exception": false,
     "start_time": "2022-03-21T11:52:19.415824",
     "status": "completed"
    },
    "tags": []
   },
   "outputs": [],
   "source": [
    "total_experiment_time_secs = time.time() - start_time_secs"
   ]
  },
  {
   "cell_type": "code",
   "execution_count": 24,
   "id": "87b9595b",
   "metadata": {
    "execution": {
     "iopub.execute_input": "2022-03-21T11:52:19.661818Z",
     "iopub.status.busy": "2022-03-21T11:52:19.660941Z",
     "iopub.status.idle": "2022-03-21T11:56:29.136317Z",
     "shell.execute_reply": "2022-03-21T11:56:29.136984Z"
    },
    "papermill": {
     "duration": 249.547832,
     "end_time": "2022-03-21T11:56:29.137221",
     "exception": false,
     "start_time": "2022-03-21T11:52:19.589389",
     "status": "completed"
    },
    "tags": []
   },
   "outputs": [],
   "source": [
    "###################################\n",
    "# Evaluate the model\n",
    "###################################\n",
    "source_test_label_accuracy, source_test_label_loss = jig.test(datasets.source.processed.test)\n",
    "target_test_label_accuracy, target_test_label_loss = jig.test(datasets.target.processed.test)\n",
    "\n",
    "source_val_label_accuracy, source_val_label_loss = jig.test(datasets.source.processed.val)\n",
    "target_val_label_accuracy, target_val_label_loss = jig.test(datasets.target.processed.val)\n",
    "\n",
    "history = jig.get_history()\n",
    "\n",
    "total_epochs_trained = len(history[\"epoch_indices\"])\n",
    "\n",
    "val_dl = Iterable_Aggregator((datasets.source.original.val,datasets.target.original.val))\n",
    "\n",
    "confusion = ptn_confusion_by_domain_over_dataloader(model, p.device, val_dl)\n",
    "per_domain_accuracy = per_domain_accuracy_from_confusion(confusion)\n",
    "\n",
    "# Add a key to per_domain_accuracy for if it was a source domain\n",
    "for domain, accuracy in per_domain_accuracy.items():\n",
    "    per_domain_accuracy[domain] = {\n",
    "        \"accuracy\": accuracy,\n",
    "        \"source?\": domain in p.domains_source\n",
    "    }\n",
    "\n",
    "# Do an independent accuracy assesment JUST TO BE SURE!\n",
    "# _source_test_label_accuracy = independent_accuracy_assesment(model, datasets.source.processed.test, p.device)\n",
    "# _target_test_label_accuracy = independent_accuracy_assesment(model, datasets.target.processed.test, p.device)\n",
    "# _source_val_label_accuracy = independent_accuracy_assesment(model, datasets.source.processed.val, p.device)\n",
    "# _target_val_label_accuracy = independent_accuracy_assesment(model, datasets.target.processed.val, p.device)\n",
    "\n",
    "# assert(_source_test_label_accuracy == source_test_label_accuracy)\n",
    "# assert(_target_test_label_accuracy == target_test_label_accuracy)\n",
    "# assert(_source_val_label_accuracy == source_val_label_accuracy)\n",
    "# assert(_target_val_label_accuracy == target_val_label_accuracy)\n",
    "\n",
    "experiment = {\n",
    "    \"experiment_name\": p.experiment_name,\n",
    "    \"parameters\": dict(p),\n",
    "    \"results\": {\n",
    "        \"source_test_label_accuracy\": source_test_label_accuracy,\n",
    "        \"source_test_label_loss\": source_test_label_loss,\n",
    "        \"target_test_label_accuracy\": target_test_label_accuracy,\n",
    "        \"target_test_label_loss\": target_test_label_loss,\n",
    "        \"source_val_label_accuracy\": source_val_label_accuracy,\n",
    "        \"source_val_label_loss\": source_val_label_loss,\n",
    "        \"target_val_label_accuracy\": target_val_label_accuracy,\n",
    "        \"target_val_label_loss\": target_val_label_loss,\n",
    "        \"total_epochs_trained\": total_epochs_trained,\n",
    "        \"total_experiment_time_secs\": total_experiment_time_secs,\n",
    "        \"confusion\": confusion,\n",
    "        \"per_domain_accuracy\": per_domain_accuracy,\n",
    "    },\n",
    "    \"history\": history,\n",
    "    \"dataset_metrics\": get_dataset_metrics(datasets, \"ptn\"),\n",
    "}"
   ]
  },
  {
   "cell_type": "code",
   "execution_count": 25,
   "id": "54a21829",
   "metadata": {
    "execution": {
     "iopub.execute_input": "2022-03-21T11:56:29.278134Z",
     "iopub.status.busy": "2022-03-21T11:56:29.277759Z",
     "iopub.status.idle": "2022-03-21T11:56:29.500702Z",
     "shell.execute_reply": "2022-03-21T11:56:29.501376Z"
    },
    "papermill": {
     "duration": 0.294273,
     "end_time": "2022-03-21T11:56:29.501593",
     "exception": false,
     "start_time": "2022-03-21T11:56:29.207320",
     "status": "completed"
    },
    "tags": []
   },
   "outputs": [
    {
     "data": {
      "image/png": "[encoded data removed]",
      "text/plain": [
       "<Figure size 1080x504 with 1 Axes>"
      ]
     },
     "metadata": {
      "needs_background": "light"
     },
     "output_type": "display_data"
    }
   ],
   "source": [
    "ax = get_loss_curve(experiment)\n",
    "plt.show()"
   ]
  },
  {
   "cell_type": "code",
   "execution_count": 26,
   "id": "fd8a0f60",
   "metadata": {
    "execution": {
     "iopub.execute_input": "2022-03-21T11:56:29.645788Z",
     "iopub.status.busy": "2022-03-21T11:56:29.645161Z",
     "iopub.status.idle": "2022-03-21T11:56:29.990734Z",
     "shell.execute_reply": "2022-03-21T11:56:29.989956Z"
    },
    "papermill": {
     "duration": 0.415646,
     "end_time": "2022-03-21T11:56:29.990908",
     "exception": false,
     "start_time": "2022-03-21T11:56:29.575262",
     "status": "completed"
    },
    "tags": []
   },
   "outputs": [
    {
     "data": {
      "text/plain": [
       "<AxesSubplot:title={'center':'Results'}>"
      ]
     },
     "execution_count": 26,
     "metadata": {},
     "output_type": "execute_result"
    },
    {
     "data": {
      "image/png": "[encoded data removed]",
      "text/plain": [
       "<Figure size 1080x504 with 1 Axes>"
      ]
     },
     "metadata": {
      "needs_background": "light"
     },
     "output_type": "display_data"
    }
   ],
   "source": [
    "get_results_table(experiment)"
   ]
  },
  {
   "cell_type": "code",
   "execution_count": 27,
   "id": "cf8dc689",
   "metadata": {
    "execution": {
     "iopub.execute_input": "2022-03-21T11:56:30.133823Z",
     "iopub.status.busy": "2022-03-21T11:56:30.133452Z",
     "iopub.status.idle": "2022-03-21T11:56:30.425604Z",
     "shell.execute_reply": "2022-03-21T11:56:30.426274Z"
    },
    "papermill": {
     "duration": 0.363788,
     "end_time": "2022-03-21T11:56:30.426508",
     "exception": false,
     "start_time": "2022-03-21T11:56:30.062720",
     "status": "completed"
    },
    "tags": []
   },
   "outputs": [
    {
     "data": {
      "text/plain": [
       "<AxesSubplot:title={'center':'Per Domain Validation Accuracy'}, xlabel='domain'>"
      ]
     },
     "execution_count": 27,
     "metadata": {},
     "output_type": "execute_result"
    },
    {
     "data": {
      "image/png": "[encoded data removed]",
      "text/plain": [
       "<Figure size 1080x504 with 1 Axes>"
      ]
     },
     "metadata": {
      "needs_background": "light"
     },
     "output_type": "display_data"
    }
   ],
   "source": [
    "get_domain_accuracies(experiment)"
   ]
  },
  {
   "cell_type": "code",
   "execution_count": 28,
   "id": "a74ae082",
   "metadata": {
    "execution": {
     "iopub.execute_input": "2022-03-21T11:56:30.570055Z",
     "iopub.status.busy": "2022-03-21T11:56:30.569649Z",
     "iopub.status.idle": "2022-03-21T11:56:30.596735Z",
     "shell.execute_reply": "2022-03-21T11:56:30.596039Z"
    },
    "papermill": {
     "duration": 0.098731,
     "end_time": "2022-03-21T11:56:30.596898",
     "exception": false,
     "start_time": "2022-03-21T11:56:30.498167",
     "status": "completed"
    },
    "tags": []
   },
   "outputs": [
    {
     "name": "stdout",
     "output_type": "stream",
     "text": [
      "Source Test Label Accuracy: 0.9081380208333333 Target Test Label Accuracy: 0.87822265625\n",
      "Source Val Label Accuracy: 0.90634765625 Target Val Label Accuracy: 0.8780924479166666\n"
     ]
    }
   ],
   "source": [
    "print(\"Source Test Label Accuracy:\", experiment[\"results\"][\"source_test_label_accuracy\"], \"Target Test Label Accuracy:\", experiment[\"results\"][\"target_test_label_accuracy\"])\n",
    "print(\"Source Val Label Accuracy:\", experiment[\"results\"][\"source_val_label_accuracy\"], \"Target Val Label Accuracy:\", experiment[\"results\"][\"target_val_label_accuracy\"])"
   ]
  },
  {
   "cell_type": "code",
   "execution_count": 29,
   "id": "dacca602",
   "metadata": {
    "execution": {
     "iopub.execute_input": "2022-03-21T11:56:30.755418Z",
     "iopub.status.busy": "2022-03-21T11:56:30.755045Z",
     "iopub.status.idle": "2022-03-21T11:56:30.781673Z",
     "shell.execute_reply": "2022-03-21T11:56:30.780963Z"
    },
    "papermill": {
     "duration": 0.099563,
     "end_time": "2022-03-21T11:56:30.781835",
     "exception": false,
     "start_time": "2022-03-21T11:56:30.682272",
     "status": "completed"
    },
    "tags": [
     "experiment_json"
    ]
   },
   "outputs": [
    {
     "data": {
      "text/plain": [
       "'{\"experiment_name\": \"tl_1v2:oracle.run1.framed-oracle.run2.framed\", \"parameters\": {\"experiment_name\": \"tl_1v2:oracle.run1.framed-oracle.run2.framed\", \"device\": \"cuda\", \"lr\": 0.0001, \"n_shot\": 3, \"n_query\": 2, \"train_k_factor\": 3, \"val_k_factor\": 2, \"test_k_factor\": 2, \"torch_default_dtype\": \"torch.float32\", \"n_epoch\": 50, \"patience\": 3, \"criteria_for_best\": \"target_accuracy\", \"x_net\": [{\"class\": \"nnReshape\", \"kargs\": {\"shape\": [-1, 1, 2, 256]}}, {\"class\": \"Conv2d\", \"kargs\": {\"in_channels\": 1, \"out_channels\": 256, \"kernel_size\": [1, 7], \"bias\": false, \"padding\": [0, 3]}}, {\"class\": \"ReLU\", \"kargs\": {\"inplace\": true}}, {\"class\": \"BatchNorm2d\", \"kargs\": {\"num_features\": 256}}, {\"class\": \"Conv2d\", \"kargs\": {\"in_channels\": 256, \"out_channels\": 80, \"kernel_size\": [2, 7], \"bias\": true, \"padding\": [0, 3]}}, {\"class\": \"ReLU\", \"kargs\": {\"inplace\": true}}, {\"class\": \"BatchNorm2d\", \"kargs\": {\"num_features\": 80}}, {\"class\": \"Flatten\", \"kargs\": {}}, {\"class\": \"Linear\", \"kargs\": {\"in_features\": 20480, \"out_features\": 256}}, {\"class\": \"ReLU\", \"kargs\": {\"inplace\": true}}, {\"class\": \"BatchNorm1d\", \"kargs\": {\"num_features\": 256}}, {\"class\": \"Linear\", \"kargs\": {\"in_features\": 256, \"out_features\": 256}}], \"NUM_LOGS_PER_EPOCH\": 10, \"BEST_MODEL_PATH\": \"./best_model.pth\", \"n_way\": 16, \"datasets\": [{\"labels\": [\"3123D52\", \"3123D65\", \"3123D79\", \"3123D80\", \"3123D54\", \"3123D70\", \"3123D7B\", \"3123D89\", \"3123D58\", \"3123D76\", \"3123D7D\", \"3123EFE\", \"3123D64\", \"3123D78\", \"3123D7E\", \"3124E4A\"], \"domains\": [32, 38, 8, 44, 14, 50, 20, 26], \"num_examples_per_domain_per_label\": 2000, \"pickle_path\": \"/root/csc500-main/datasets/oracle.Run1_framed_2000Examples_stratified_ds.2022A.pkl\", \"source_or_target_dataset\": \"source\", \"x_transforms\": [\"unit_mag\"], \"episode_transforms\": [], \"domain_prefix\": \"ORACLE.run1_\"}, {\"labels\": [\"3123D52\", \"3123D65\", \"3123D79\", \"3123D80\", \"3123D54\", \"3123D70\", \"3123D7B\", \"3123D89\", \"3123D58\", \"3123D76\", \"3123D7D\", \"3123EFE\", \"3123D64\", \"3123D78\", \"3123D7E\", \"3124E4A\"], \"domains\": [32, 38, 8, 44, 14, 50, 20, 26], \"num_examples_per_domain_per_label\": 2000, \"pickle_path\": \"/root/csc500-main/datasets/oracle.Run2_framed_2000Examples_stratified_ds.2022A.pkl\", \"source_or_target_dataset\": \"target\", \"x_transforms\": [\"unit_mag\"], \"episode_transforms\": [], \"domain_prefix\": \"ORACLE.run2_\"}], \"dataset_seed\": 420, \"seed\": 420, \"x_shape\": [2, 256], \"domains_source\": [\"ORACLE.run1_32\", \"ORACLE.run1_38\", \"ORACLE.run1_8\", \"ORACLE.run1_44\", \"ORACLE.run1_14\", \"ORACLE.run1_50\", \"ORACLE.run1_20\", \"ORACLE.run1_26\"], \"domains_target\": [\"ORACLE.run2_32\", \"ORACLE.run2_38\", \"ORACLE.run2_8\", \"ORACLE.run2_44\", \"ORACLE.run2_14\", \"ORACLE.run2_50\", \"ORACLE.run2_20\", \"ORACLE.run2_26\"]}, \"results\": {\"source_test_label_accuracy\": 0.9081380208333333, \"source_test_label_loss\": 0.2614193260669708, \"target_test_label_accuracy\": 0.87822265625, \"target_test_label_loss\": 1.1580419540405273, \"source_val_label_accuracy\": 0.90634765625, \"source_val_label_loss\": 0.26398298144340515, \"target_val_label_accuracy\": 0.8780924479166666, \"target_val_label_loss\": 0.8971967697143555, \"total_epochs_trained\": 14, \"total_experiment_time_secs\": 3489.504763364792, \"confusion\": {\"ORACLE.run1_14\": {\"15\": {\"15\": 240}, \"5\": {\"5\": 212, \"1\": 5, \"3\": 3, \"7\": 1, \"4\": 14, \"2\": 5}, \"7\": {\"7\": 240}, \"4\": {\"4\": 237, \"5\": 3}, \"10\": {\"10\": 240}, \"11\": {\"11\": 236, \"9\": 3, \"0\": 1}, \"12\": {\"12\": 240}, \"0\": {\"0\": 239, \"10\": 1}, \"14\": {\"14\": 225, \"2\": 12, \"13\": 2, \"6\": 1}, \"8\": {\"8\": 240}, \"13\": {\"6\": 52, \"13\": 182, \"2\": 3, \"14\": 1, \"5\": 2}, \"6\": {\"6\": 219, \"13\": 19, \"2\": 1, \"14\": 1}, \"1\": {\"1\": 238, \"5\": 2}, \"3\": {\"3\": 234, \"2\": 4, \"14\": 2}, \"9\": {\"9\": 240}, \"2\": {\"2\": 178, \"6\": 3, \"14\": 41, \"5\": 10, \"3\": 5, \"13\": 3}}, \"ORACLE.run1_20\": {\"4\": {\"4\": 237, \"8\": 3}, \"10\": {\"10\": 240}, \"15\": {\"15\": 228, \"5\": 6, \"1\": 3, \"0\": 3}, \"0\": {\"0\": 211, \"5\": 22, \"15\": 6, \"8\": 1}, \"6\": {\"6\": 234, \"14\": 6}, \"3\": {\"3\": 195, \"9\": 15, \"12\": 25, \"2\": 3, \"4\": 1, \"7\": 1}, \"7\": {\"7\": 234, \"9\": 2, \"2\": 2, \"8\": 1, \"3\": 1}, \"2\": {\"2\": 189, \"3\": 6, \"12\": 14, \"9\": 26, \"13\": 3, \"7\": 2}, \"8\": {\"8\": 236, \"4\": 3, \"7\": 1}, \"11\": {\"11\": 240}, \"14\": {\"14\": 236, \"6\": 3, \"10\": 1}, \"12\": {\"12\": 191, \"3\": 23, \"1\": 22, \"9\": 3, \"2\": 1}, \"13\": {\"13\": 238, \"2\": 2}, \"9\": {\"9\": 209, \"3\": 10, \"2\": 20, \"12\": 1}, \"5\": {\"5\": 226, \"15\": 9, \"0\": 5}, \"1\": {\"1\": 212, \"12\": 18, \"15\": 6, \"3\": 2, \"9\": 2}}, \"ORACLE.run1_50\": {\"5\": {\"5\": 187, \"13\": 7, \"7\": 9, \"4\": 30, \"1\": 6, \"15\": 1}, \"12\": {\"12\": 236, \"11\": 3, \"9\": 1}, \"14\": {\"14\": 240}, \"4\": {\"4\": 187, \"7\": 4, \"6\": 1, \"5\": 29, \"11\": 1, \"15\": 17, \"1\": 1}, \"13\": {\"13\": 231, \"5\": 5, \"10\": 1, \"7\": 3}, \"10\": {\"10\": 236, \"13\": 1, \"8\": 1, \"0\": 2}, \"9\": {\"9\": 235, \"11\": 2, \"12\": 3}, \"15\": {\"15\": 229, \"4\": 4, \"1\": 3, \"6\": 2, \"11\": 1, \"5\": 1}, \"6\": {\"6\": 235, \"7\": 2, \"4\": 1, \"1\": 2}, \"2\": {\"2\": 231, \"0\": 9}, \"0\": {\"0\": 221, \"10\": 7, \"2\": 12}, \"11\": {\"11\": 230, \"1\": 1, \"15\": 8, \"12\": 1}, \"3\": {\"3\": 240}, \"8\": {\"8\": 238, \"10\": 2}, \"7\": {\"7\": 211, \"13\": 6, \"4\": 1, \"6\": 9, \"5\": 13}, \"1\": {\"1\": 220, \"5\": 5, \"15\": 14, \"4\": 1}}, \"ORACLE.run1_26\": {\"7\": {\"7\": 204, \"4\": 7, \"3\": 12, \"2\": 14, \"8\": 3}, \"6\": {\"6\": 233, \"10\": 3, \"15\": 3, \"9\": 1}, \"14\": {\"14\": 182, \"0\": 25, \"4\": 16, \"10\": 10, \"1\": 5, \"7\": 1, \"8\": 1}, \"15\": {\"15\": 209, \"13\": 4, \"7\": 4, \"10\": 2, \"9\": 12, \"8\": 3, \"5\": 2, \"2\": 1, \"6\": 3}, \"5\": {\"5\": 228, \"2\": 8, \"13\": 4}, \"10\": {\"10\": 140, \"0\": 66, \"14\": 19, \"8\": 14, \"6\": 1}, \"4\": {\"4\": 206, \"14\": 15, \"7\": 8, \"8\": 5, \"0\": 6}, \"11\": {\"11\": 240}, \"13\": {\"13\": 213, \"7\": 1, \"5\": 20, \"2\": 4, \"9\": 1, \"15\": 1}, \"2\": {\"13\": 4, \"5\": 15, \"2\": 139, \"3\": 55, \"7\": 24, \"15\": 3}, \"0\": {\"8\": 14, \"0\": 130, \"14\": 26, \"10\": 60, \"4\": 8, \"1\": 1, \"15\": 1}, \"12\": {\"12\": 240}, \"3\": {\"3\": 199, \"2\": 35, \"7\": 6}, \"9\": {\"9\": 218, \"13\": 4, \"15\": 13, \"8\": 3, \"6\": 1, \"10\": 1}, \"8\": {\"8\": 155, \"0\": 17, \"7\": 15, \"4\": 19, \"10\": 28, \"15\": 1, \"14\": 5}, \"1\": {\"1\": 227, \"14\": 12, \"4\": 1}}, \"ORACLE.run1_32\": {\"7\": {\"7\": 200, \"5\": 27, \"4\": 3, \"13\": 4, \"14\": 4, \"2\": 1, \"11\": 1}, \"2\": {\"2\": 211, \"4\": 28, \"5\": 1}, \"5\": {\"5\": 168, \"7\": 46, \"4\": 9, \"3\": 1, \"8\": 6, \"13\": 8, \"14\": 2}, \"6\": {\"6\": 240}, \"13\": {\"13\": 195, \"3\": 15, \"8\": 7, \"4\": 9, \"7\": 3, \"5\": 11}, \"4\": {\"4\": 204, \"2\": 28, \"7\": 5, \"5\": 1, \"13\": 2}, \"3\": {\"3\": 236, \"11\": 2, \"13\": 2}, \"0\": {\"0\": 220, \"7\": 1, \"8\": 9, \"5\": 3, \"14\": 7}, \"9\": {\"9\": 240}, \"12\": {\"12\": 240}, \"8\": {\"8\": 222, \"0\": 14, \"13\": 3, \"5\": 1}, \"14\": {\"14\": 215, \"0\": 9, \"11\": 11, \"7\": 3, \"8\": 1, \"5\": 1}, \"15\": {\"15\": 240}, \"11\": {\"11\": 240}, \"10\": {\"10\": 240}, \"1\": {\"1\": 240}}, \"ORACLE.run1_44\": {\"11\": {\"11\": 240}, \"7\": {\"7\": 185, \"9\": 38, \"2\": 14, \"6\": 3}, \"6\": {\"13\": 35, \"6\": 187, \"9\": 14, \"7\": 4}, \"12\": {\"12\": 233, \"1\": 6, \"3\": 1}, \"4\": {\"4\": 179, \"14\": 60, \"15\": 1}, \"13\": {\"13\": 200, \"6\": 21, \"9\": 15, \"11\": 3, \"7\": 1}, \"8\": {\"8\": 184, \"0\": 53, \"5\": 3}, \"5\": {\"5\": 220, \"0\": 6, \"14\": 7, \"15\": 6, \"8\": 1}, \"14\": {\"14\": 167, \"4\": 68, \"5\": 1, \"15\": 4}, \"3\": {\"1\": 6, \"3\": 232, \"12\": 1, \"2\": 1}, \"10\": {\"10\": 217, \"2\": 9, \"12\": 2, \"1\": 12}, \"1\": {\"1\": 194, \"12\": 17, \"10\": 5, \"2\": 9, \"3\": 15}, \"2\": {\"2\": 218, \"7\": 17, \"1\": 4, \"10\": 1}, \"15\": {\"15\": 214, \"14\": 12, \"0\": 5, \"8\": 4, \"4\": 3, \"5\": 2}, \"9\": {\"9\": 158, \"2\": 1, \"6\": 22, \"13\": 28, \"7\": 31}, \"0\": {\"8\": 55, \"0\": 177, \"15\": 6, \"5\": 2}}, \"ORACLE.run1_8\": {\"10\": {\"10\": 225, \"13\": 7, \"14\": 7, \"4\": 1}, \"6\": {\"6\": 211, \"4\": 7, \"7\": 19, \"13\": 3}, \"13\": {\"13\": 151, \"10\": 30, \"0\": 24, \"4\": 25, \"6\": 8, \"7\": 1, \"14\": 1}, \"3\": {\"3\": 240}, \"9\": {\"9\": 240}, \"1\": {\"1\": 240}, \"5\": {\"5\": 234, \"10\": 6}, \"11\": {\"11\": 233, \"1\": 7}, \"4\": {\"4\": 222, \"13\": 14, \"6\": 1, \"14\": 3}, \"14\": {\"14\": 221, \"5\": 2, \"4\": 6, \"10\": 10, \"13\": 1}, \"12\": {\"12\": 206, \"8\": 5, \"15\": 25, \"3\": 4}, \"7\": {\"7\": 207, \"6\": 32, \"3\": 1}, \"0\": {\"0\": 207, \"7\": 8, \"13\": 21, \"4\": 1, \"10\": 1, \"6\": 2}, \"15\": {\"15\": 231, \"12\": 9}, \"2\": {\"2\": 236, \"3\": 2, \"7\": 2}, \"8\": {\"8\": 240}}, \"ORACLE.run1_38\": {\"4\": {\"4\": 240}, \"7\": {\"7\": 214, \"0\": 8, \"5\": 12, \"8\": 6}, \"12\": {\"12\": 240}, \"10\": {\"7\": 2, \"10\": 225, \"0\": 2, \"13\": 11}, \"0\": {\"0\": 211, \"7\": 4, \"5\": 2, \"8\": 18, \"3\": 3, \"10\": 1, \"13\": 1}, \"1\": {\"1\": 237, \"15\": 3}, \"5\": {\"7\": 23, \"5\": 161, \"0\": 5, \"8\": 40, \"13\": 3, \"9\": 4, \"10\": 2, \"6\": 2}, \"15\": {\"15\": 209, \"13\": 6, \"8\": 9, \"1\": 8, \"5\": 8}, \"9\": {\"9\": 236, \"6\": 2, \"5\": 2}, \"11\": {\"11\": 238, \"10\": 1, \"0\": 1}, \"14\": {\"14\": 234, \"2\": 6}, \"6\": {\"6\": 240}, \"8\": {\"8\": 193, \"0\": 9, \"5\": 31, \"15\": 3, \"7\": 2, \"13\": 1, \"10\": 1}, \"3\": {\"3\": 237, \"0\": 3}, \"2\": {\"2\": 234, \"14\": 4, \"13\": 2}, \"13\": {\"13\": 228, \"0\": 4, \"10\": 4, \"8\": 2, \"2\": 2}}, \"ORACLE.run2_14\": {\"15\": {\"15\": 240}, \"5\": {\"5\": 207, \"4\": 11, \"2\": 14, \"1\": 2, \"3\": 6}, \"7\": {\"7\": 240}, \"4\": {\"4\": 232, \"5\": 7, \"1\": 1}, \"10\": {\"10\": 239, \"6\": 1}, \"11\": {\"11\": 240}, \"12\": {\"11\": 55, \"12\": 128, \"1\": 1, \"9\": 36, \"0\": 12, \"10\": 6, \"8\": 2}, \"0\": {\"0\": 240}, \"14\": {\"14\": 199, \"2\": 40, \"6\": 1}, \"8\": {\"8\": 240}, \"13\": {\"13\": 203, \"6\": 37}, \"6\": {\"6\": 213, \"13\": 26, \"14\": 1}, \"1\": {\"1\": 239, \"5\": 1}, \"3\": {\"3\": 224, \"5\": 9, \"14\": 2, \"2\": 5}, \"9\": {\"9\": 240}, \"2\": {\"2\": 150, \"14\": 56, \"5\": 24, \"3\": 8, \"13\": 2}}, \"ORACLE.run2_20\": {\"4\": {\"4\": 240}, \"10\": {\"10\": 240}, \"15\": {\"15\": 188, \"13\": 32, \"5\": 9, \"12\": 3, \"0\": 1, \"2\": 4, \"1\": 3}, \"0\": {\"0\": 232, \"15\": 6, \"5\": 2}, \"6\": {\"6\": 239, \"14\": 1}, \"3\": {\"3\": 199, \"2\": 19, \"9\": 16, \"12\": 2, \"4\": 1, \"7\": 3}, \"7\": {\"7\": 233, \"8\": 4, \"2\": 1, \"3\": 2}, \"2\": {\"2\": 178, \"3\": 27, \"9\": 16, \"12\": 10, \"1\": 1, \"5\": 7, \"13\": 1}, \"8\": {\"8\": 221, \"7\": 3, \"14\": 14, \"4\": 2}, \"11\": {\"11\": 240}, \"14\": {\"14\": 227, \"6\": 4, \"8\": 9}, \"12\": {\"12\": 195, \"1\": 36, \"9\": 4, \"5\": 2, \"2\": 3}, \"13\": {\"13\": 221, \"15\": 19}, \"9\": {\"9\": 203, \"2\": 18, \"12\": 9, \"3\": 9, \"1\": 1}, \"5\": {\"2\": 14, \"0\": 12, \"5\": 194, \"12\": 7, \"15\": 9, \"7\": 2, \"4\": 1, \"13\": 1}, \"1\": {\"1\": 191, \"12\": 44, \"15\": 3, \"9\": 2}}, \"ORACLE.run2_50\": {\"5\": {\"5\": 155, \"4\": 58, \"7\": 10, \"6\": 6, \"13\": 11}, \"12\": {\"12\": 238, \"11\": 2}, \"14\": {\"14\": 240}, \"4\": {\"4\": 186, \"5\": 49, \"6\": 3, \"1\": 2}, \"13\": {\"13\": 211, \"10\": 18, \"7\": 9, \"5\": 2}, \"10\": {\"13\": 20, \"10\": 218, \"0\": 1, \"5\": 1}, \"9\": {\"9\": 240}, \"15\": {\"15\": 236, \"1\": 3, \"11\": 1}, \"6\": {\"6\": 228, \"4\": 5, \"15\": 3, \"5\": 3, \"1\": 1}, \"2\": {\"2\": 233, \"0\": 7}, \"0\": {\"0\": 230, \"10\": 3, \"2\": 7}, \"11\": {\"11\": 232, \"15\": 6, \"12\": 1, \"9\": 1}, \"3\": {\"3\": 238, \"8\": 2}, \"8\": {\"8\": 238, \"3\": 2}, \"7\": {\"7\": 209, \"5\": 20, \"13\": 8, \"4\": 2, \"6\": 1}, \"1\": {\"1\": 221, \"4\": 10, \"5\": 4, \"15\": 4, \"6\": 1}}, \"ORACLE.run2_26\": {\"7\": {\"2\": 76, \"7\": 139, \"4\": 8, \"3\": 9, \"8\": 4, \"15\": 3, \"5\": 1}, \"6\": {\"6\": 228, \"10\": 5, \"9\": 7}, \"14\": {\"14\": 151, \"10\": 19, \"0\": 39, \"1\": 18, \"4\": 2, \"8\": 11}, \"15\": {\"15\": 206, \"2\": 15, \"7\": 12, \"3\": 3, \"4\": 4}, \"5\": {\"13\": 52, \"5\": 173, \"7\": 3, \"3\": 3, \"2\": 7, \"15\": 1, \"8\": 1}, \"10\": {\"6\": 10, \"14\": 33, \"10\": 119, \"0\": 62, \"8\": 12, \"15\": 2, \"4\": 2}, \"4\": {\"4\": 209, \"8\": 4, \"14\": 2, \"2\": 4, \"7\": 13, \"0\": 5, \"3\": 3}, \"11\": {\"11\": 240}, \"13\": {\"13\": 223, \"5\": 11, \"9\": 5, \"7\": 1}, \"2\": {\"7\": 69, \"2\": 129, \"4\": 9, \"3\": 18, \"8\": 6, \"15\": 9}, \"0\": {\"0\": 129, \"10\": 42, \"14\": 36, \"8\": 16, \"7\": 2, \"4\": 13, \"15\": 1, \"1\": 1}, \"12\": {\"12\": 240}, \"3\": {\"3\": 203, \"2\": 24, \"4\": 1, \"7\": 9, \"15\": 3}, \"9\": {\"9\": 226, \"13\": 7, \"5\": 2, \"6\": 4, \"15\": 1}, \"8\": {\"8\": 173, \"7\": 8, \"14\": 14, \"2\": 13, \"10\": 14, \"0\": 12, \"4\": 5, \"15\": 1}, \"1\": {\"1\": 231, \"14\": 7, \"4\": 1, \"10\": 1}}, \"ORACLE.run2_32\": {\"7\": {\"5\": 6, \"7\": 212, \"4\": 11, \"11\": 10, \"13\": 1}, \"2\": {\"2\": 233, \"7\": 1, \"4\": 2, \"5\": 4}, \"5\": {\"5\": 204, \"4\": 6, \"14\": 5, \"8\": 10, \"2\": 6, \"0\": 1, \"7\": 8}, \"6\": {\"6\": 240}, \"13\": {\"13\": 208, \"4\": 24, \"7\": 4, \"11\": 2, \"8\": 1, \"0\": 1}, \"4\": {\"4\": 179, \"13\": 40, \"7\": 16, \"2\": 2, \"5\": 2, \"8\": 1}, \"3\": {\"3\": 234, \"13\": 6}, \"0\": {\"0\": 206, \"11\": 11, \"8\": 10, \"5\": 3, \"13\": 2, \"4\": 1, \"14\": 5, \"7\": 2}, \"9\": {\"9\": 239, \"12\": 1}, \"12\": {\"12\": 240}, \"8\": {\"0\": 23, \"8\": 211, \"5\": 1, \"3\": 3, \"13\": 1, \"4\": 1}, \"14\": {\"14\": 235, \"0\": 2, \"11\": 1, \"5\": 2}, \"15\": {\"15\": 240}, \"11\": {\"11\": 202, \"4\": 2, \"0\": 10, \"7\": 20, \"8\": 2, \"13\": 3, \"5\": 1}, \"10\": {\"10\": 240}, \"1\": {\"1\": 240}}, \"ORACLE.run2_44\": {\"11\": {\"11\": 239, \"6\": 1}, \"7\": {\"7\": 150, \"9\": 74, \"2\": 13, \"6\": 3}, \"6\": {\"6\": 232, \"9\": 3, \"13\": 4, \"7\": 1}, \"12\": {\"12\": 205, \"1\": 27, \"3\": 8}, \"4\": {\"4\": 234, \"14\": 3, \"13\": 1, \"15\": 2}, \"13\": {\"13\": 238, \"6\": 2}, \"8\": {\"8\": 152, \"0\": 86, \"5\": 2}, \"5\": {\"5\": 227, \"14\": 12, \"15\": 1}, \"14\": {\"5\": 12, \"14\": 198, \"15\": 21, \"4\": 9}, \"3\": {\"3\": 227, \"12\": 7, \"1\": 6}, \"10\": {\"10\": 239, \"1\": 1}, \"1\": {\"1\": 199, \"12\": 34, \"3\": 7}, \"2\": {\"2\": 216, \"9\": 17, \"7\": 7}, \"15\": {\"15\": 212, \"4\": 5, \"14\": 18, \"8\": 4, \"0\": 1}, \"9\": {\"9\": 147, \"7\": 68, \"6\": 5, \"2\": 20}, \"0\": {\"0\": 159, \"8\": 80, \"5\": 1}}, \"ORACLE.run2_8\": {\"10\": {\"10\": 221, \"5\": 12, \"0\": 3, \"14\": 3, \"13\": 1}, \"6\": {\"6\": 198, \"4\": 37, \"7\": 5}, \"13\": {\"13\": 231, \"1\": 1, \"14\": 6, \"10\": 2}, \"3\": {\"3\": 240}, \"9\": {\"9\": 240}, \"1\": {\"1\": 237, \"13\": 3}, \"5\": {\"5\": 228, \"10\": 12}, \"11\": {\"11\": 191, \"8\": 31, \"12\": 18}, \"4\": {\"4\": 140, \"7\": 48, \"6\": 52}, \"14\": {\"14\": 224, \"13\": 5, \"0\": 9, \"10\": 2}, \"12\": {\"12\": 237, \"15\": 3}, \"7\": {\"4\": 77, \"7\": 152, \"6\": 11}, \"0\": {\"0\": 222, \"10\": 10, \"14\": 8}, \"15\": {\"15\": 209, \"12\": 25, \"8\": 6}, \"2\": {\"2\": 236, \"4\": 3, \"7\": 1}, \"8\": {\"8\": 237, \"11\": 2, \"15\": 1}}, \"ORACLE.run2_38\": {\"4\": {\"4\": 240}, \"7\": {\"7\": 162, \"5\": 24, \"10\": 32, \"8\": 22}, \"12\": {\"12\": 238, \"14\": 2}, \"10\": {\"10\": 203, \"7\": 31, \"4\": 1, \"13\": 2, \"0\": 1, \"5\": 1, \"3\": 1}, \"0\": {\"0\": 229, \"3\": 11}, \"1\": {\"1\": 226, \"15\": 13, \"5\": 1}, \"5\": {\"5\": 147, \"8\": 64, \"7\": 17, \"15\": 10, \"10\": 2}, \"15\": {\"15\": 194, \"5\": 20, \"1\": 16, \"8\": 9, \"0\": 1}, \"9\": {\"9\": 234, \"6\": 6}, \"11\": {\"11\": 237, \"10\": 2, \"14\": 1}, \"14\": {\"5\": 7, \"14\": 169, \"2\": 40, \"7\": 12, \"8\": 8, \"12\": 3, \"4\": 1}, \"6\": {\"6\": 231, \"9\": 9}, \"8\": {\"8\": 139, \"5\": 68, \"15\": 4, \"7\": 25, \"0\": 4}, \"3\": {\"9\": 2, \"3\": 169, \"10\": 4, \"0\": 13, \"13\": 51, \"8\": 1}, \"2\": {\"2\": 227, \"14\": 13}, \"13\": {\"13\": 163, \"3\": 68, \"8\": 2, \"10\": 5, \"7\": 1, \"0\": 1}}}, \"per_domain_accuracy\": {\"ORACLE.run1_14\": {\"accuracy\": 0.9479166666666666, \"source?\": true}, \"ORACLE.run1_20\": {\"accuracy\": 0.9260416666666667, \"source?\": true}, \"ORACLE.run1_50\": {\"accuracy\": 0.9393229166666667, \"source?\": true}, \"ORACLE.run1_26\": {\"accuracy\": 0.8236979166666667, \"source?\": true}, \"ORACLE.run1_32\": {\"accuracy\": 0.9247395833333333, \"source?\": true}, \"ORACLE.run1_44\": {\"accuracy\": 0.8346354166666666, \"source?\": true}, \"ORACLE.run1_8\": {\"accuracy\": 0.9229166666666667, \"source?\": true}, \"ORACLE.run1_38\": {\"accuracy\": 0.9315104166666667, \"source?\": true}, \"ORACLE.run2_14\": {\"accuracy\": 0.9046875, \"source?\": false}, \"ORACLE.run2_20\": {\"accuracy\": 0.89609375, \"source?\": false}, \"ORACLE.run2_50\": {\"accuracy\": 0.9252604166666667, \"source?\": false}, \"ORACLE.run2_26\": {\"accuracy\": 0.7861979166666667, \"source?\": false}, \"ORACLE.run2_32\": {\"accuracy\": 0.9278645833333333, \"source?\": false}, \"ORACLE.run2_44\": {\"accuracy\": 0.8526041666666667, \"source?\": false}, \"ORACLE.run2_8\": {\"accuracy\": 0.8966145833333333, \"source?\": false}, \"ORACLE.run2_38\": {\"accuracy\": 0.8354166666666667, \"source?\": false}}}, \"history\": {\"epoch_indices\": [1, 2, 3, 4, 5, 6, 7, 8, 9, 10, 11, 12, 13, 14], \"train_label_loss\": [0.7847182609007827, 0.617198962555267, 0.42097976628131056, 0.35189229642814357, 0.3120490147328902, 0.2834556999116709, 0.26264683112666326, 0.24781461622721204, 0.2562560290030974, 0.24124433365636616, 0.2095190565977689, 0.20032678642576987, 0.18644987789590406, 0.17990130027510098], \"source_val_label_loss\": [4.826997756958008, 0.5296034216880798, 0.41848668456077576, 0.40839114785194397, 0.3072110116481781, 0.2910935878753662, 0.3062184154987335, 0.28281745314598083, 0.27818650007247925, 0.26398298144340515, 0.28284963965415955, 0.2766842842102051, 0.2705918550491333, 0.25464558601379395], \"target_val_label_loss\": [9.207118034362793, 0.6411417722702026, 0.7001178860664368, 0.8683019280433655, 1.0944738388061523, 0.8739830851554871, 1.1364622116088867, 1.1351591348648071, 0.8535658717155457, 0.8971967697143555, 1.3897995948791504, 1.349873423576355, 1.4579894542694092, 1.8824372291564941], \"source_val_acc_label\": [0.77705078125, 0.8055989583333333, 0.8470052083333334, 0.8496744791666667, 0.8914388020833334, 0.89794921875, 0.8912109375, 0.8990559895833333, 0.9030924479166667, 0.90634765625, 0.9012044270833334, 0.9000651041666666, 0.9064453125, 0.9113606770833333], \"target_val_acc_label\": [0.7565104166666666, 0.78837890625, 0.825, 0.82978515625, 0.8672200520833333, 0.8749674479166667, 0.8631184895833334, 0.8707356770833333, 0.87314453125, 0.8780924479166666, 0.87236328125, 0.8692057291666667, 0.8720377604166667, 0.8760091145833333]}, \"dataset_metrics\": {\"source\": {\"train\": {\"n_unique_x\": 179200, \"n_unique_y\": 16, \"n_batch/episode\": 6720}, \"val\": {\"n_unique_x\": 38400, \"n_unique_y\": 16, \"n_batch/episode\": 960}, \"test\": {\"n_unique_x\": 38400, \"n_unique_y\": 16, \"n_batch/episode\": 960}}, \"target\": {\"train\": {\"n_unique_x\": 179200, \"n_unique_y\": 16, \"n_batch/episode\": 6720}, \"val\": {\"n_unique_x\": 38400, \"n_unique_y\": 16, \"n_batch/episode\": 960}, \"test\": {\"n_unique_x\": 38400, \"n_unique_y\": 16, \"n_batch/episode\": 960}}}}'"
      ]
     },
     "execution_count": 29,
     "metadata": {},
     "output_type": "execute_result"
    }
   ],
   "source": [
    "json.dumps(experiment)"
   ]
  }
 ],
 "metadata": {
  "celltoolbar": "Tags",
  "kernelspec": {
   "display_name": "Python 3 (ipykernel)",
   "language": "python",
   "name": "python3"
  },
  "language_info": {
   "codemirror_mode": {
    "name": "ipython",
    "version": 3
   },
   "file_extension": ".py",
   "mimetype": "text/x-python",
   "name": "python",
   "nbconvert_exporter": "python",
   "pygments_lexer": "ipython3",
   "version": "3.8.12"
  },
  "papermill": {
   "default_parameters": {},
   "duration": 3747.621877,
   "end_time": "2022-03-21T11:56:34.045898",
   "environment_variables": {},
   "exception": null,
   "input_path": "/root/csc500-main/csc500-notebooks/templates/tl_ptn_template.ipynb",
   "output_path": "trial.ipynb",
   "parameters": {
    "parameters": {
     "BEST_MODEL_PATH": "./best_model.pth",
     "NUM_LOGS_PER_EPOCH": 10,
     "criteria_for_best": "target_accuracy",
     "dataset_seed": 420,
     "datasets": [
      {
       "domain_prefix": "ORACLE.run1_",
       "domains": [
        32,
        38,
        8,
        44,
        14,
        50,
        20,
        26
       ],
       "episode_transforms": [],
       "labels": [
        "3123D52",
        "3123D65",
        "3123D79",
        "3123D80",
        "3123D54",
        "3123D70",
        "3123D7B",
        "3123D89",
        "3123D58",
        "3123D76",
        "3123D7D",
        "3123EFE",
        "3123D64",
        "3123D78",
        "3123D7E",
        "3124E4A"
       ],
       "num_examples_per_domain_per_label": 2000,
       "pickle_path": "/root/csc500-main/datasets/oracle.Run1_framed_2000Examples_stratified_ds.2022A.pkl",
       "source_or_target_dataset": "source",
       "x_transforms": [
        "unit_mag"
       ]
      },
      {
       "domain_prefix": "ORACLE.run2_",
       "domains": [
        32,
        38,
        8,
        44,
        14,
        50,
        20,
        26
       ],
       "episode_transforms": [],
       "labels": [
        "3123D52",
        "3123D65",
        "3123D79",
        "3123D80",
        "3123D54",
        "3123D70",
        "3123D7B",
        "3123D89",
        "3123D58",
        "3123D76",
        "3123D7D",
        "3123EFE",
        "3123D64",
        "3123D78",
        "3123D7E",
        "3124E4A"
       ],
       "num_examples_per_domain_per_label": 2000,
       "pickle_path": "/root/csc500-main/datasets/oracle.Run2_framed_2000Examples_stratified_ds.2022A.pkl",
       "source_or_target_dataset": "target",
       "x_transforms": [
        "unit_mag"
       ]
      }
     ],
     "device": "cuda",
     "experiment_name": "tl_1v2:oracle.run1.framed-oracle.run2.framed",
     "lr": 0.0001,
     "n_epoch": 50,
     "n_query": 2,
     "n_shot": 3,
     "n_way": 16,
     "patience": 3,
     "seed": 420,
     "test_k_factor": 2,
     "torch_default_dtype": "torch.float32",
     "train_k_factor": 3,
     "val_k_factor": 2,
     "x_net": [
      {
       "class": "nnReshape",
       "kargs": {
        "shape": [
         -1,
         1,
         2,
         256
        ]
       }
      },
      {
       "class": "Conv2d",
       "kargs": {
        "bias": false,
        "in_channels": 1,
        "kernel_size": [
         1,
         7
        ],
        "out_channels": 256,
        "padding": [
         0,
         3
        ]
       }
      },
      {
       "class": "ReLU",
       "kargs": {
        "inplace": true
       }
      },
      {
       "class": "BatchNorm2d",
       "kargs": {
        "num_features": 256
       }
      },
      {
       "class": "Conv2d",
       "kargs": {
        "bias": true,
        "in_channels": 256,
        "kernel_size": [
         2,
         7
        ],
        "out_channels": 80,
        "padding": [
         0,
         3
        ]
       }
      },
      {
       "class": "ReLU",
       "kargs": {
        "inplace": true
       }
      },
      {
       "class": "BatchNorm2d",
       "kargs": {
        "num_features": 80
       }
      },
      {
       "class": "Flatten",
       "kargs": {}
      },
      {
       "class": "Linear",
       "kargs": {
        "in_features": 20480,
        "out_features": 256
       }
      },
      {
       "class": "ReLU",
       "kargs": {
        "inplace": true
       }
      },
      {
       "class": "BatchNorm1d",
       "kargs": {
        "num_features": 256
       }
      },
      {
       "class": "Linear",
       "kargs": {
        "in_features": 256,
        "out_features": 256
       }
      }
     ]
    }
   },
   "start_time": "2022-03-21T10:54:06.424021",
   "version": "2.3.4"
  }
 },
 "nbformat": 4,
 "nbformat_minor": 5
}