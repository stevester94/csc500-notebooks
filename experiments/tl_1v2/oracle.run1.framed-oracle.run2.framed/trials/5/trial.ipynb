{
 "cells": [
  {
   "cell_type": "markdown",
   "id": "9fea5f46",
   "metadata": {
    "papermill": {
     "duration": 0.024655,
     "end_time": "2022-03-21T08:42:01.519795",
     "exception": false,
     "start_time": "2022-03-21T08:42:01.495140",
     "status": "completed"
    },
    "tags": []
   },
   "source": [
    "# Transfer Learning Template"
   ]
  },
  {
   "cell_type": "code",
   "execution_count": 1,
   "id": "0902182a",
   "metadata": {
    "execution": {
     "iopub.execute_input": "2022-03-21T08:42:01.577737Z",
     "iopub.status.busy": "2022-03-21T08:42:01.576910Z",
     "iopub.status.idle": "2022-03-21T08:42:03.431402Z",
     "shell.execute_reply": "2022-03-21T08:42:03.430535Z"
    },
    "papermill": {
     "duration": 1.892671,
     "end_time": "2022-03-21T08:42:03.431617",
     "exception": false,
     "start_time": "2022-03-21T08:42:01.538946",
     "status": "completed"
    },
    "tags": []
   },
   "outputs": [],
   "source": [
    "%load_ext autoreload\n",
    "%autoreload 2\n",
    "%matplotlib inline\n",
    "\n",
    "    \n",
    "import os, json, sys, time, random\n",
    "import numpy as np\n",
    "import torch\n",
    "from torch.optim import Adam\n",
    "from  easydict import EasyDict\n",
    "import matplotlib.pyplot as plt\n",
    "\n",
    "from steves_models.steves_ptn import Steves_Prototypical_Network\n",
    "\n",
    "from steves_utils.lazy_iterable_wrapper import Lazy_Iterable_Wrapper\n",
    "from steves_utils.iterable_aggregator import Iterable_Aggregator\n",
    "from steves_utils.ptn_train_eval_test_jig import  PTN_Train_Eval_Test_Jig\n",
    "from steves_utils.torch_sequential_builder import build_sequential\n",
    "from steves_utils.torch_utils import get_dataset_metrics, ptn_confusion_by_domain_over_dataloader\n",
    "from steves_utils.utils_v2 import (per_domain_accuracy_from_confusion, get_datasets_base_path)\n",
    "from steves_utils.PTN.utils import independent_accuracy_assesment\n",
    "\n",
    "from torch.utils.data import DataLoader\n",
    "\n",
    "from steves_utils.stratified_dataset.episodic_accessor import Episodic_Accessor_Factory\n",
    "\n",
    "from steves_utils.ptn_do_report import (\n",
    "    get_loss_curve,\n",
    "    get_results_table,\n",
    "    get_parameters_table,\n",
    "    get_domain_accuracies,\n",
    ")\n",
    "\n",
    "from steves_utils.transforms import get_chained_transform"
   ]
  },
  {
   "cell_type": "markdown",
   "id": "41c840b4",
   "metadata": {
    "papermill": {
     "duration": 0.019493,
     "end_time": "2022-03-21T08:42:03.475856",
     "exception": false,
     "start_time": "2022-03-21T08:42:03.456363",
     "status": "completed"
    },
    "tags": []
   },
   "source": [
    "# Allowed Parameters\n",
    "These are allowed parameters, not defaults\n",
    "Each of these values need to be present in the injected parameters (the notebook will raise an exception if they are not present)\n",
    "\n",
    "Papermill uses the cell tag \"parameters\" to inject the real parameters below this cell.\n",
    "Enable tags to see what I mean"
   ]
  },
  {
   "cell_type": "code",
   "execution_count": 2,
   "id": "fd44eb83",
   "metadata": {
    "execution": {
     "iopub.execute_input": "2022-03-21T08:42:03.518619Z",
     "iopub.status.busy": "2022-03-21T08:42:03.518236Z",
     "iopub.status.idle": "2022-03-21T08:42:03.540207Z",
     "shell.execute_reply": "2022-03-21T08:42:03.539450Z"
    },
    "papermill": {
     "duration": 0.045099,
     "end_time": "2022-03-21T08:42:03.540378",
     "exception": false,
     "start_time": "2022-03-21T08:42:03.495279",
     "status": "completed"
    },
    "tags": []
   },
   "outputs": [],
   "source": [
    "required_parameters = {\n",
    "    \"experiment_name\",\n",
    "    \"lr\",\n",
    "    \"device\",\n",
    "    \"seed\",\n",
    "    \"dataset_seed\",\n",
    "    \"n_shot\",\n",
    "    \"n_query\",\n",
    "    \"n_way\",\n",
    "    \"train_k_factor\",\n",
    "    \"val_k_factor\",\n",
    "    \"test_k_factor\",\n",
    "    \"n_epoch\",\n",
    "    \"patience\",\n",
    "    \"criteria_for_best\",\n",
    "    \"x_net\",\n",
    "    \"datasets\",\n",
    "    \"torch_default_dtype\",\n",
    "    \"NUM_LOGS_PER_EPOCH\",\n",
    "    \"BEST_MODEL_PATH\",\n",
    "    \"x_shape\",\n",
    "}"
   ]
  },
  {
   "cell_type": "code",
   "execution_count": 3,
   "id": "fa3f0049",
   "metadata": {
    "execution": {
     "iopub.execute_input": "2022-03-21T08:42:03.597111Z",
     "iopub.status.busy": "2022-03-21T08:42:03.596398Z",
     "iopub.status.idle": "2022-03-21T08:42:03.619372Z",
     "shell.execute_reply": "2022-03-21T08:42:03.620022Z"
    },
    "papermill": {
     "duration": 0.053384,
     "end_time": "2022-03-21T08:42:03.620242",
     "exception": false,
     "start_time": "2022-03-21T08:42:03.566858",
     "status": "completed"
    },
    "tags": [
     "parameters"
    ]
   },
   "outputs": [],
   "source": [
    "from steves_utils.CORES.utils import (\n",
    "    ALL_NODES,\n",
    "    ALL_NODES_MINIMUM_1000_EXAMPLES,\n",
    "    ALL_DAYS\n",
    ")\n",
    "\n",
    "from steves_utils.ORACLE.utils_v2 import (\n",
    "    ALL_DISTANCES_FEET_NARROWED,\n",
    "    ALL_RUNS,\n",
    "    ALL_SERIAL_NUMBERS,\n",
    ")\n",
    "\n",
    "standalone_parameters = {}\n",
    "standalone_parameters[\"experiment_name\"] = \"STANDALONE PTN\"\n",
    "standalone_parameters[\"lr\"] = 0.001\n",
    "standalone_parameters[\"device\"] = \"cuda\"\n",
    "\n",
    "standalone_parameters[\"seed\"] = 1337\n",
    "standalone_parameters[\"dataset_seed\"] = 1337\n",
    "\n",
    "standalone_parameters[\"n_way\"] = 8\n",
    "standalone_parameters[\"n_shot\"] = 3\n",
    "standalone_parameters[\"n_query\"]  = 2\n",
    "standalone_parameters[\"train_k_factor\"] = 1\n",
    "standalone_parameters[\"val_k_factor\"] = 2\n",
    "standalone_parameters[\"test_k_factor\"] = 2\n",
    "\n",
    "\n",
    "standalone_parameters[\"n_epoch\"] = 50\n",
    "\n",
    "standalone_parameters[\"patience\"] = 10\n",
    "standalone_parameters[\"criteria_for_best\"] = \"source_loss\"\n",
    "\n",
    "standalone_parameters[\"datasets\"] = [\n",
    "    {\n",
    "        \"labels\": ALL_SERIAL_NUMBERS,\n",
    "        \"domains\": ALL_DISTANCES_FEET_NARROWED,\n",
    "        \"num_examples_per_domain_per_label\": 100,\n",
    "        \"pickle_path\": os.path.join(get_datasets_base_path(), \"oracle.Run1_framed_2000Examples_stratified_ds.2022A.pkl\"),\n",
    "        \"source_or_target_dataset\": \"source\",\n",
    "        \"x_transforms\": [\"unit_mag\", \"minus_two\"],\n",
    "        \"episode_transforms\": [],\n",
    "        \"domain_prefix\": \"ORACLE_\"\n",
    "    },\n",
    "    {\n",
    "        \"labels\": ALL_NODES,\n",
    "        \"domains\": ALL_DAYS,\n",
    "        \"num_examples_per_domain_per_label\": 100,\n",
    "        \"pickle_path\": os.path.join(get_datasets_base_path(), \"cores.stratified_ds.2022A.pkl\"),\n",
    "        \"source_or_target_dataset\": \"target\",\n",
    "        \"x_transforms\": [\"unit_power\", \"times_zero\"],\n",
    "        \"episode_transforms\": [],\n",
    "        \"domain_prefix\": \"CORES_\"\n",
    "    }   \n",
    "]\n",
    "\n",
    "standalone_parameters[\"torch_default_dtype\"] = \"torch.float32\" \n",
    "\n",
    "\n",
    "\n",
    "standalone_parameters[\"x_net\"] =     [\n",
    "    {\"class\": \"nnReshape\", \"kargs\": {\"shape\":[-1, 1, 2, 256]}},\n",
    "    {\"class\": \"Conv2d\", \"kargs\": { \"in_channels\":1, \"out_channels\":256, \"kernel_size\":(1,7), \"bias\":False, \"padding\":(0,3), },},\n",
    "    {\"class\": \"ReLU\", \"kargs\": {\"inplace\": True}},\n",
    "    {\"class\": \"BatchNorm2d\", \"kargs\": {\"num_features\":256}},\n",
    "\n",
    "    {\"class\": \"Conv2d\", \"kargs\": { \"in_channels\":256, \"out_channels\":80, \"kernel_size\":(2,7), \"bias\":True, \"padding\":(0,3), },},\n",
    "    {\"class\": \"ReLU\", \"kargs\": {\"inplace\": True}},\n",
    "    {\"class\": \"BatchNorm2d\", \"kargs\": {\"num_features\":80}},\n",
    "    {\"class\": \"Flatten\", \"kargs\": {}},\n",
    "\n",
    "    {\"class\": \"Linear\", \"kargs\": {\"in_features\": 80*256, \"out_features\": 256}}, # 80 units per IQ pair\n",
    "    {\"class\": \"ReLU\", \"kargs\": {\"inplace\": True}},\n",
    "    {\"class\": \"BatchNorm1d\", \"kargs\": {\"num_features\":256}},\n",
    "\n",
    "    {\"class\": \"Linear\", \"kargs\": {\"in_features\": 256, \"out_features\": 256}},\n",
    "]\n",
    "\n",
    "# Parameters relevant to results\n",
    "# These parameters will basically never need to change\n",
    "standalone_parameters[\"NUM_LOGS_PER_EPOCH\"] = 10\n",
    "standalone_parameters[\"BEST_MODEL_PATH\"] = \"./best_model.pth\"\n",
    "\n",
    "\n",
    "\n",
    "\n"
   ]
  },
  {
   "cell_type": "code",
   "execution_count": 4,
   "id": "75a9edc2",
   "metadata": {
    "execution": {
     "iopub.execute_input": "2022-03-21T08:42:03.675204Z",
     "iopub.status.busy": "2022-03-21T08:42:03.674770Z",
     "iopub.status.idle": "2022-03-21T08:42:03.697325Z",
     "shell.execute_reply": "2022-03-21T08:42:03.696491Z"
    },
    "papermill": {
     "duration": 0.050392,
     "end_time": "2022-03-21T08:42:03.697497",
     "exception": false,
     "start_time": "2022-03-21T08:42:03.647105",
     "status": "completed"
    },
    "tags": [
     "injected-parameters"
    ]
   },
   "outputs": [],
   "source": [
    "# Parameters\n",
    "parameters = {\n",
    "    \"experiment_name\": \"tl_1v2:oracle.run1.framed-oracle.run2.framed\",\n",
    "    \"device\": \"cuda\",\n",
    "    \"lr\": 0.0001,\n",
    "    \"n_shot\": 3,\n",
    "    \"n_query\": 2,\n",
    "    \"train_k_factor\": 3,\n",
    "    \"val_k_factor\": 2,\n",
    "    \"test_k_factor\": 2,\n",
    "    \"torch_default_dtype\": \"torch.float32\",\n",
    "    \"n_epoch\": 50,\n",
    "    \"patience\": 3,\n",
    "    \"criteria_for_best\": \"target_accuracy\",\n",
    "    \"x_net\": [\n",
    "        {\"class\": \"nnReshape\", \"kargs\": {\"shape\": [-1, 1, 2, 256]}},\n",
    "        {\n",
    "            \"class\": \"Conv2d\",\n",
    "            \"kargs\": {\n",
    "                \"in_channels\": 1,\n",
    "                \"out_channels\": 256,\n",
    "                \"kernel_size\": [1, 7],\n",
    "                \"bias\": False,\n",
    "                \"padding\": [0, 3],\n",
    "            },\n",
    "        },\n",
    "        {\"class\": \"ReLU\", \"kargs\": {\"inplace\": True}},\n",
    "        {\"class\": \"BatchNorm2d\", \"kargs\": {\"num_features\": 256}},\n",
    "        {\n",
    "            \"class\": \"Conv2d\",\n",
    "            \"kargs\": {\n",
    "                \"in_channels\": 256,\n",
    "                \"out_channels\": 80,\n",
    "                \"kernel_size\": [2, 7],\n",
    "                \"bias\": True,\n",
    "                \"padding\": [0, 3],\n",
    "            },\n",
    "        },\n",
    "        {\"class\": \"ReLU\", \"kargs\": {\"inplace\": True}},\n",
    "        {\"class\": \"BatchNorm2d\", \"kargs\": {\"num_features\": 80}},\n",
    "        {\"class\": \"Flatten\", \"kargs\": {}},\n",
    "        {\"class\": \"Linear\", \"kargs\": {\"in_features\": 20480, \"out_features\": 256}},\n",
    "        {\"class\": \"ReLU\", \"kargs\": {\"inplace\": True}},\n",
    "        {\"class\": \"BatchNorm1d\", \"kargs\": {\"num_features\": 256}},\n",
    "        {\"class\": \"Linear\", \"kargs\": {\"in_features\": 256, \"out_features\": 256}},\n",
    "    ],\n",
    "    \"NUM_LOGS_PER_EPOCH\": 10,\n",
    "    \"BEST_MODEL_PATH\": \"./best_model.pth\",\n",
    "    \"n_way\": 16,\n",
    "    \"datasets\": [\n",
    "        {\n",
    "            \"labels\": [\n",
    "                \"3123D52\",\n",
    "                \"3123D65\",\n",
    "                \"3123D79\",\n",
    "                \"3123D80\",\n",
    "                \"3123D54\",\n",
    "                \"3123D70\",\n",
    "                \"3123D7B\",\n",
    "                \"3123D89\",\n",
    "                \"3123D58\",\n",
    "                \"3123D76\",\n",
    "                \"3123D7D\",\n",
    "                \"3123EFE\",\n",
    "                \"3123D64\",\n",
    "                \"3123D78\",\n",
    "                \"3123D7E\",\n",
    "                \"3124E4A\",\n",
    "            ],\n",
    "            \"domains\": [32, 38, 8, 44, 14, 50, 20, 26],\n",
    "            \"num_examples_per_domain_per_label\": 2000,\n",
    "            \"pickle_path\": \"/root/csc500-main/datasets/oracle.Run1_framed_2000Examples_stratified_ds.2022A.pkl\",\n",
    "            \"source_or_target_dataset\": \"target\",\n",
    "            \"x_transforms\": [],\n",
    "            \"episode_transforms\": [],\n",
    "            \"domain_prefix\": \"ORACLE.run1_\",\n",
    "        },\n",
    "        {\n",
    "            \"labels\": [\n",
    "                \"3123D52\",\n",
    "                \"3123D65\",\n",
    "                \"3123D79\",\n",
    "                \"3123D80\",\n",
    "                \"3123D54\",\n",
    "                \"3123D70\",\n",
    "                \"3123D7B\",\n",
    "                \"3123D89\",\n",
    "                \"3123D58\",\n",
    "                \"3123D76\",\n",
    "                \"3123D7D\",\n",
    "                \"3123EFE\",\n",
    "                \"3123D64\",\n",
    "                \"3123D78\",\n",
    "                \"3123D7E\",\n",
    "                \"3124E4A\",\n",
    "            ],\n",
    "            \"domains\": [32, 38, 8, 44, 14, 50, 20, 26],\n",
    "            \"num_examples_per_domain_per_label\": 2000,\n",
    "            \"pickle_path\": \"/root/csc500-main/datasets/oracle.Run2_framed_2000Examples_stratified_ds.2022A.pkl\",\n",
    "            \"source_or_target_dataset\": \"source\",\n",
    "            \"x_transforms\": [],\n",
    "            \"episode_transforms\": [],\n",
    "            \"domain_prefix\": \"ORACLE.run2_\",\n",
    "        },\n",
    "    ],\n",
    "    \"dataset_seed\": 1337,\n",
    "    \"seed\": 1337,\n",
    "}\n"
   ]
  },
  {
   "cell_type": "code",
   "execution_count": 5,
   "id": "8fa1cc33",
   "metadata": {
    "execution": {
     "iopub.execute_input": "2022-03-21T08:42:03.748901Z",
     "iopub.status.busy": "2022-03-21T08:42:03.748261Z",
     "iopub.status.idle": "2022-03-21T08:42:03.770223Z",
     "shell.execute_reply": "2022-03-21T08:42:03.769443Z"
    },
    "papermill": {
     "duration": 0.04626,
     "end_time": "2022-03-21T08:42:03.770453",
     "exception": false,
     "start_time": "2022-03-21T08:42:03.724193",
     "status": "completed"
    },
    "tags": []
   },
   "outputs": [],
   "source": [
    "# Set this to True if you want to run this template directly\n",
    "STANDALONE = False\n",
    "if STANDALONE:\n",
    "    print(\"parameters not injected, running with standalone_parameters\")\n",
    "    parameters = standalone_parameters\n",
    "\n",
    "if not 'parameters' in locals() and not 'parameters' in globals():\n",
    "    raise Exception(\"Parameter injection failed\")\n",
    "\n",
    "#Use an easy dict for all the parameters\n",
    "p = EasyDict(parameters)\n",
    "\n",
    "if \"x_shape\" not in p:\n",
    "    p.x_shape = [2,256] # Default to this if we dont supply x_shape\n",
    "\n",
    "\n",
    "supplied_keys = set(p.keys())\n",
    "\n",
    "if  supplied_keys != required_parameters:\n",
    "    print(\"Parameters are incorrect\")\n",
    "    if len(supplied_keys - required_parameters)>0: print(\"Shouldn't have:\", str(supplied_keys - required_parameters))\n",
    "    if len(required_parameters - supplied_keys)>0: print(\"Need to have:\", str(required_parameters - supplied_keys))\n",
    "    raise RuntimeError(\"Parameters are incorrect\")"
   ]
  },
  {
   "cell_type": "code",
   "execution_count": 6,
   "id": "3a028d58",
   "metadata": {
    "execution": {
     "iopub.execute_input": "2022-03-21T08:42:03.817863Z",
     "iopub.status.busy": "2022-03-21T08:42:03.817487Z",
     "iopub.status.idle": "2022-03-21T08:42:03.839515Z",
     "shell.execute_reply": "2022-03-21T08:42:03.838681Z"
    },
    "papermill": {
     "duration": 0.044557,
     "end_time": "2022-03-21T08:42:03.839718",
     "exception": false,
     "start_time": "2022-03-21T08:42:03.795161",
     "status": "completed"
    },
    "tags": []
   },
   "outputs": [],
   "source": [
    "###################################\n",
    "# Set the RNGs and make it all deterministic\n",
    "###################################\n",
    "np.random.seed(p.seed)\n",
    "random.seed(p.seed)\n",
    "torch.manual_seed(p.seed)\n",
    "\n",
    "torch.use_deterministic_algorithms(True) "
   ]
  },
  {
   "cell_type": "code",
   "execution_count": 7,
   "id": "b691acf6",
   "metadata": {
    "execution": {
     "iopub.execute_input": "2022-03-21T08:42:03.890090Z",
     "iopub.status.busy": "2022-03-21T08:42:03.889720Z",
     "iopub.status.idle": "2022-03-21T08:42:03.910449Z",
     "shell.execute_reply": "2022-03-21T08:42:03.909630Z"
    },
    "papermill": {
     "duration": 0.043771,
     "end_time": "2022-03-21T08:42:03.910618",
     "exception": false,
     "start_time": "2022-03-21T08:42:03.866847",
     "status": "completed"
    },
    "tags": []
   },
   "outputs": [],
   "source": [
    "###########################################\n",
    "# The stratified datasets honor this\n",
    "###########################################\n",
    "torch.set_default_dtype(eval(p.torch_default_dtype))"
   ]
  },
  {
   "cell_type": "code",
   "execution_count": 8,
   "id": "b5fba671",
   "metadata": {
    "execution": {
     "iopub.execute_input": "2022-03-21T08:42:03.961008Z",
     "iopub.status.busy": "2022-03-21T08:42:03.960639Z",
     "iopub.status.idle": "2022-03-21T08:42:04.015767Z",
     "shell.execute_reply": "2022-03-21T08:42:04.014995Z"
    },
    "papermill": {
     "duration": 0.077913,
     "end_time": "2022-03-21T08:42:04.015944",
     "exception": false,
     "start_time": "2022-03-21T08:42:03.938031",
     "status": "completed"
    },
    "tags": []
   },
   "outputs": [],
   "source": [
    "###################################\n",
    "# Build the network(s)\n",
    "# Note: It's critical to do this AFTER setting the RNG\n",
    "###################################\n",
    "x_net = build_sequential(p.x_net)"
   ]
  },
  {
   "cell_type": "code",
   "execution_count": 9,
   "id": "5d7e61cc",
   "metadata": {
    "execution": {
     "iopub.execute_input": "2022-03-21T08:42:04.066884Z",
     "iopub.status.busy": "2022-03-21T08:42:04.066516Z",
     "iopub.status.idle": "2022-03-21T08:42:04.090663Z",
     "shell.execute_reply": "2022-03-21T08:42:04.091303Z"
    },
    "papermill": {
     "duration": 0.048869,
     "end_time": "2022-03-21T08:42:04.091519",
     "exception": false,
     "start_time": "2022-03-21T08:42:04.042650",
     "status": "completed"
    },
    "tags": []
   },
   "outputs": [],
   "source": [
    "start_time_secs = time.time()"
   ]
  },
  {
   "cell_type": "code",
   "execution_count": 10,
   "id": "c6b67dfd",
   "metadata": {
    "execution": {
     "iopub.execute_input": "2022-03-21T08:42:04.141887Z",
     "iopub.status.busy": "2022-03-21T08:42:04.141173Z",
     "iopub.status.idle": "2022-03-21T08:42:04.163386Z",
     "shell.execute_reply": "2022-03-21T08:42:04.164064Z"
    },
    "papermill": {
     "duration": 0.047419,
     "end_time": "2022-03-21T08:42:04.164273",
     "exception": false,
     "start_time": "2022-03-21T08:42:04.116854",
     "status": "completed"
    },
    "tags": []
   },
   "outputs": [],
   "source": [
    "p.domains_source = []\n",
    "p.domains_target = []\n",
    "\n",
    "\n",
    "train_original_source = []\n",
    "val_original_source   = []\n",
    "test_original_source  = []\n",
    "\n",
    "train_original_target = []\n",
    "val_original_target   = []\n",
    "test_original_target  = []"
   ]
  },
  {
   "cell_type": "code",
   "execution_count": 11,
   "id": "e3d9c3d3",
   "metadata": {
    "execution": {
     "iopub.execute_input": "2022-03-21T08:42:04.219869Z",
     "iopub.status.busy": "2022-03-21T08:42:04.219483Z",
     "iopub.status.idle": "2022-03-21T08:42:04.244901Z",
     "shell.execute_reply": "2022-03-21T08:42:04.244181Z"
    },
    "papermill": {
     "duration": 0.049366,
     "end_time": "2022-03-21T08:42:04.245074",
     "exception": false,
     "start_time": "2022-03-21T08:42:04.195708",
     "status": "completed"
    },
    "tags": []
   },
   "outputs": [],
   "source": [
    "# global_x_transform_func = lambda x: normalize(x.to(torch.get_default_dtype()), \"unit_power\") # unit_power, unit_mag\n",
    "# global_x_transform_func = lambda x: normalize(x, \"unit_power\") # unit_power, unit_mag"
   ]
  },
  {
   "cell_type": "code",
   "execution_count": 12,
   "id": "acb78fd2",
   "metadata": {
    "execution": {
     "iopub.execute_input": "2022-03-21T08:42:04.311645Z",
     "iopub.status.busy": "2022-03-21T08:42:04.310748Z",
     "iopub.status.idle": "2022-03-21T08:42:04.332725Z",
     "shell.execute_reply": "2022-03-21T08:42:04.331994Z"
    },
    "papermill": {
     "duration": 0.054458,
     "end_time": "2022-03-21T08:42:04.332890",
     "exception": false,
     "start_time": "2022-03-21T08:42:04.278432",
     "status": "completed"
    },
    "tags": []
   },
   "outputs": [],
   "source": [
    "def add_dataset(\n",
    "    labels,\n",
    "    domains,\n",
    "    pickle_path,\n",
    "    x_transforms,\n",
    "    episode_transforms,\n",
    "    domain_prefix,\n",
    "    num_examples_per_domain_per_label,\n",
    "    source_or_target_dataset:str,\n",
    "    iterator_seed=p.seed,\n",
    "    dataset_seed=p.dataset_seed,\n",
    "    n_shot=p.n_shot,\n",
    "    n_way=p.n_way,\n",
    "    n_query=p.n_query,\n",
    "    train_val_test_k_factors=(p.train_k_factor,p.val_k_factor,p.test_k_factor),\n",
    "):\n",
    "   \n",
    "    if x_transforms == []: x_transform = None\n",
    "    else: x_transform = get_chained_transform(x_transforms)\n",
    "    \n",
    "    if episode_transforms == []: episode_transform = None\n",
    "    else: raise Exception(\"episode_transforms not implemented\")\n",
    "    \n",
    "    episode_transform = lambda tup, _prefix=domain_prefix: (_prefix + str(tup[0]), tup[1])\n",
    "\n",
    "\n",
    "    eaf = Episodic_Accessor_Factory(\n",
    "        labels=labels,\n",
    "        domains=domains,\n",
    "        num_examples_per_domain_per_label=num_examples_per_domain_per_label,\n",
    "        iterator_seed=iterator_seed,\n",
    "        dataset_seed=dataset_seed,\n",
    "        n_shot=n_shot,\n",
    "        n_way=n_way,\n",
    "        n_query=n_query,\n",
    "        train_val_test_k_factors=train_val_test_k_factors,\n",
    "        pickle_path=pickle_path,\n",
    "        x_transform_func=x_transform,\n",
    "    )\n",
    "\n",
    "    train, val, test = eaf.get_train(), eaf.get_val(), eaf.get_test()\n",
    "    train = Lazy_Iterable_Wrapper(train, episode_transform)\n",
    "    val = Lazy_Iterable_Wrapper(val, episode_transform)\n",
    "    test = Lazy_Iterable_Wrapper(test, episode_transform)\n",
    "\n",
    "    if source_or_target_dataset==\"source\":\n",
    "        train_original_source.append(train)\n",
    "        val_original_source.append(val)\n",
    "        test_original_source.append(test)\n",
    "\n",
    "        p.domains_source.extend(\n",
    "            [domain_prefix + str(u) for u in domains]\n",
    "        )\n",
    "    elif source_or_target_dataset==\"target\":\n",
    "        train_original_target.append(train)\n",
    "        val_original_target.append(val)\n",
    "        test_original_target.append(test)\n",
    "        p.domains_target.extend(\n",
    "            [domain_prefix + str(u) for u in domains]\n",
    "        )\n",
    "    else:\n",
    "        raise Exception(f\"invalid source_or_target_dataset: {source_or_target_dataset}\")\n",
    "    "
   ]
  },
  {
   "cell_type": "code",
   "execution_count": 13,
   "id": "fe266617",
   "metadata": {
    "execution": {
     "iopub.execute_input": "2022-03-21T08:42:04.386535Z",
     "iopub.status.busy": "2022-03-21T08:42:04.386165Z",
     "iopub.status.idle": "2022-03-21T08:42:07.900610Z",
     "shell.execute_reply": "2022-03-21T08:42:07.899842Z"
    },
    "papermill": {
     "duration": 3.538932,
     "end_time": "2022-03-21T08:42:07.900791",
     "exception": false,
     "start_time": "2022-03-21T08:42:04.361859",
     "status": "completed"
    },
    "tags": []
   },
   "outputs": [],
   "source": [
    "for ds in p.datasets:\n",
    "    add_dataset(**ds)"
   ]
  },
  {
   "cell_type": "code",
   "execution_count": 14,
   "id": "b90d65ac",
   "metadata": {
    "execution": {
     "iopub.execute_input": "2022-03-21T08:42:07.950591Z",
     "iopub.status.busy": "2022-03-21T08:42:07.950090Z",
     "iopub.status.idle": "2022-03-21T08:42:07.973944Z",
     "shell.execute_reply": "2022-03-21T08:42:07.973145Z"
    },
    "papermill": {
     "duration": 0.048384,
     "end_time": "2022-03-21T08:42:07.974105",
     "exception": false,
     "start_time": "2022-03-21T08:42:07.925721",
     "status": "completed"
    },
    "tags": []
   },
   "outputs": [],
   "source": [
    "# from steves_utils.CORES.utils import (\n",
    "#     ALL_NODES,\n",
    "#     ALL_NODES_MINIMUM_1000_EXAMPLES,\n",
    "#     ALL_DAYS\n",
    "# )\n",
    "\n",
    "# add_dataset(\n",
    "#     labels=ALL_NODES,\n",
    "#     domains = ALL_DAYS,\n",
    "#     num_examples_per_domain_per_label=100,\n",
    "#     pickle_path=os.path.join(get_datasets_base_path(), \"cores.stratified_ds.2022A.pkl\"),\n",
    "#     source_or_target_dataset=\"target\",\n",
    "#     x_transform_func=global_x_transform_func,\n",
    "#     domain_modifier=lambda u: f\"cores_{u}\"\n",
    "# )"
   ]
  },
  {
   "cell_type": "code",
   "execution_count": 15,
   "id": "76db484d",
   "metadata": {
    "execution": {
     "iopub.execute_input": "2022-03-21T08:42:08.033333Z",
     "iopub.status.busy": "2022-03-21T08:42:08.026000Z",
     "iopub.status.idle": "2022-03-21T08:42:08.045817Z",
     "shell.execute_reply": "2022-03-21T08:42:08.045122Z"
    },
    "papermill": {
     "duration": 0.044676,
     "end_time": "2022-03-21T08:42:08.045975",
     "exception": false,
     "start_time": "2022-03-21T08:42:08.001299",
     "status": "completed"
    },
    "tags": []
   },
   "outputs": [],
   "source": [
    "# from steves_utils.ORACLE.utils_v2 import (\n",
    "#     ALL_DISTANCES_FEET,\n",
    "#     ALL_RUNS,\n",
    "#     ALL_SERIAL_NUMBERS,\n",
    "# )\n",
    "\n",
    "\n",
    "# add_dataset(\n",
    "#     labels=ALL_SERIAL_NUMBERS,\n",
    "#     domains = list(set(ALL_DISTANCES_FEET) - {2,62}),\n",
    "#     num_examples_per_domain_per_label=100,\n",
    "#     pickle_path=os.path.join(get_datasets_base_path(), \"oracle.Run2_framed_2000Examples_stratified_ds.2022A.pkl\"),\n",
    "#     source_or_target_dataset=\"source\",\n",
    "#     x_transform_func=global_x_transform_func,\n",
    "#     domain_modifier=lambda u: f\"oracle1_{u}\"\n",
    "# )\n"
   ]
  },
  {
   "cell_type": "code",
   "execution_count": 16,
   "id": "97dea9d2",
   "metadata": {
    "execution": {
     "iopub.execute_input": "2022-03-21T08:42:08.100384Z",
     "iopub.status.busy": "2022-03-21T08:42:08.099610Z",
     "iopub.status.idle": "2022-03-21T08:42:08.121155Z",
     "shell.execute_reply": "2022-03-21T08:42:08.121820Z"
    },
    "papermill": {
     "duration": 0.046675,
     "end_time": "2022-03-21T08:42:08.122008",
     "exception": false,
     "start_time": "2022-03-21T08:42:08.075333",
     "status": "completed"
    },
    "tags": []
   },
   "outputs": [],
   "source": [
    "# from steves_utils.ORACLE.utils_v2 import (\n",
    "#     ALL_DISTANCES_FEET,\n",
    "#     ALL_RUNS,\n",
    "#     ALL_SERIAL_NUMBERS,\n",
    "# )\n",
    "\n",
    "\n",
    "# add_dataset(\n",
    "#     labels=ALL_SERIAL_NUMBERS,\n",
    "#     domains = list(set(ALL_DISTANCES_FEET) - {2,62,56}),\n",
    "#     num_examples_per_domain_per_label=100,\n",
    "#     pickle_path=os.path.join(get_datasets_base_path(), \"oracle.Run2_framed_2000Examples_stratified_ds.2022A.pkl\"),\n",
    "#     source_or_target_dataset=\"source\",\n",
    "#     x_transform_func=global_x_transform_func,\n",
    "#     domain_modifier=lambda u: f\"oracle2_{u}\"\n",
    "# )"
   ]
  },
  {
   "cell_type": "code",
   "execution_count": 17,
   "id": "6f289866",
   "metadata": {
    "execution": {
     "iopub.execute_input": "2022-03-21T08:42:08.174517Z",
     "iopub.status.busy": "2022-03-21T08:42:08.174143Z",
     "iopub.status.idle": "2022-03-21T08:42:08.197689Z",
     "shell.execute_reply": "2022-03-21T08:42:08.196971Z"
    },
    "papermill": {
     "duration": 0.048392,
     "end_time": "2022-03-21T08:42:08.197853",
     "exception": false,
     "start_time": "2022-03-21T08:42:08.149461",
     "status": "completed"
    },
    "tags": []
   },
   "outputs": [],
   "source": [
    "# add_dataset(\n",
    "#     labels=list(range(19)),\n",
    "#     domains = [0,1,2],\n",
    "#     num_examples_per_domain_per_label=100,\n",
    "#     pickle_path=os.path.join(get_datasets_base_path(), \"metehan.stratified_ds.2022A.pkl\"),\n",
    "#     source_or_target_dataset=\"target\",\n",
    "#     x_transform_func=global_x_transform_func,\n",
    "#     domain_modifier=lambda u: f\"met_{u}\"\n",
    "# )"
   ]
  },
  {
   "cell_type": "code",
   "execution_count": 18,
   "id": "86a863c3",
   "metadata": {
    "execution": {
     "iopub.execute_input": "2022-03-21T08:42:08.252739Z",
     "iopub.status.busy": "2022-03-21T08:42:08.252369Z",
     "iopub.status.idle": "2022-03-21T08:42:08.274978Z",
     "shell.execute_reply": "2022-03-21T08:42:08.274284Z"
    },
    "papermill": {
     "duration": 0.047443,
     "end_time": "2022-03-21T08:42:08.275139",
     "exception": false,
     "start_time": "2022-03-21T08:42:08.227696",
     "status": "completed"
    },
    "tags": []
   },
   "outputs": [],
   "source": [
    "# # from steves_utils.wisig.utils import (\n",
    "# #     ALL_NODES_MINIMUM_100_EXAMPLES,\n",
    "# #     ALL_NODES_MINIMUM_500_EXAMPLES,\n",
    "# #     ALL_NODES_MINIMUM_1000_EXAMPLES,\n",
    "# #     ALL_DAYS\n",
    "# # )\n",
    "\n",
    "# import steves_utils.wisig.utils as wisig\n",
    "\n",
    "\n",
    "# add_dataset(\n",
    "#     labels=wisig.ALL_NODES_MINIMUM_100_EXAMPLES,\n",
    "#     domains = wisig.ALL_DAYS,\n",
    "#     num_examples_per_domain_per_label=100,\n",
    "#     pickle_path=os.path.join(get_datasets_base_path(), \"wisig.node3-19.stratified_ds.2022A.pkl\"),\n",
    "#     source_or_target_dataset=\"target\",\n",
    "#     x_transform_func=global_x_transform_func,\n",
    "#     domain_modifier=lambda u: f\"wisig_{u}\"\n",
    "# )"
   ]
  },
  {
   "cell_type": "code",
   "execution_count": 19,
   "id": "fd5442bc",
   "metadata": {
    "execution": {
     "iopub.execute_input": "2022-03-21T08:42:08.332629Z",
     "iopub.status.busy": "2022-03-21T08:42:08.331075Z",
     "iopub.status.idle": "2022-03-21T08:42:08.360933Z",
     "shell.execute_reply": "2022-03-21T08:42:08.360157Z"
    },
    "papermill": {
     "duration": 0.057814,
     "end_time": "2022-03-21T08:42:08.361116",
     "exception": false,
     "start_time": "2022-03-21T08:42:08.303302",
     "status": "completed"
    },
    "tags": []
   },
   "outputs": [],
   "source": [
    "###################################\n",
    "# Build the dataset\n",
    "###################################\n",
    "train_original_source = Iterable_Aggregator(train_original_source, p.seed)\n",
    "val_original_source = Iterable_Aggregator(val_original_source, p.seed)\n",
    "test_original_source = Iterable_Aggregator(test_original_source, p.seed)\n",
    "\n",
    "\n",
    "train_original_target = Iterable_Aggregator(train_original_target, p.seed)\n",
    "val_original_target = Iterable_Aggregator(val_original_target, p.seed)\n",
    "test_original_target = Iterable_Aggregator(test_original_target, p.seed)\n",
    "\n",
    "# For CNN We only use X and Y. And we only train on the source.\n",
    "# Properly form the data using a transform lambda and Lazy_Iterable_Wrapper. Finally wrap them in a dataloader\n",
    "\n",
    "transform_lambda = lambda ex: ex[1] # Original is (<domain>, <episode>) so we strip down to episode only\n",
    "\n",
    "train_processed_source = Lazy_Iterable_Wrapper(train_original_source, transform_lambda)\n",
    "val_processed_source   = Lazy_Iterable_Wrapper(val_original_source, transform_lambda)\n",
    "test_processed_source  = Lazy_Iterable_Wrapper(test_original_source, transform_lambda)\n",
    "\n",
    "train_processed_target = Lazy_Iterable_Wrapper(train_original_target, transform_lambda)\n",
    "val_processed_target   = Lazy_Iterable_Wrapper(val_original_target, transform_lambda)\n",
    "test_processed_target  = Lazy_Iterable_Wrapper(test_original_target, transform_lambda)\n",
    "\n",
    "datasets = EasyDict({\n",
    "    \"source\": {\n",
    "        \"original\": {\"train\":train_original_source, \"val\":val_original_source, \"test\":test_original_source},\n",
    "        \"processed\": {\"train\":train_processed_source, \"val\":val_processed_source, \"test\":test_processed_source}\n",
    "    },\n",
    "    \"target\": {\n",
    "        \"original\": {\"train\":train_original_target, \"val\":val_original_target, \"test\":test_original_target},\n",
    "        \"processed\": {\"train\":train_processed_target, \"val\":val_processed_target, \"test\":test_processed_target}\n",
    "    },\n",
    "})"
   ]
  },
  {
   "cell_type": "code",
   "execution_count": 20,
   "id": "5b3c01fc",
   "metadata": {
    "execution": {
     "iopub.execute_input": "2022-03-21T08:42:08.421071Z",
     "iopub.status.busy": "2022-03-21T08:42:08.420482Z",
     "iopub.status.idle": "2022-03-21T08:42:24.192978Z",
     "shell.execute_reply": "2022-03-21T08:42:24.193781Z"
    },
    "papermill": {
     "duration": 15.798545,
     "end_time": "2022-03-21T08:42:24.194002",
     "exception": false,
     "start_time": "2022-03-21T08:42:08.395457",
     "status": "completed"
    },
    "tags": []
   },
   "outputs": [
    {
     "name": "stdout",
     "output_type": "stream",
     "text": [
      "{'ORACLE.run2_26', 'ORACLE.run2_32', 'ORACLE.run2_14', 'ORACLE.run2_20', 'ORACLE.run2_44', 'ORACLE.run2_50', 'ORACLE.run2_38', 'ORACLE.run2_8'}\n"
     ]
    },
    {
     "name": "stdout",
     "output_type": "stream",
     "text": [
      "{'ORACLE.run1_20', 'ORACLE.run1_44', 'ORACLE.run1_8', 'ORACLE.run1_38', 'ORACLE.run1_32', 'ORACLE.run1_50', 'ORACLE.run1_14', 'ORACLE.run1_26'}\n"
     ]
    },
    {
     "name": "stdout",
     "output_type": "stream",
     "text": [
      "tensor([[[ 0.0030,  0.0003, -0.0034,  ...,  0.0009,  0.0046,  0.0005],\n",
      "         [ 0.0013,  0.0038, -0.0016,  ..., -0.0031, -0.0002, -0.0034]],\n",
      "\n",
      "        [[ 0.0032,  0.0012, -0.0037,  ..., -0.0008,  0.0040, -0.0012],\n",
      "         [ 0.0002,  0.0033, -0.0003,  ..., -0.0040, -0.0022, -0.0033]],\n",
      "\n",
      "        [[ 0.0007,  0.0036, -0.0019,  ..., -0.0040,  0.0024,  0.0007],\n",
      "         [-0.0018,  0.0013,  0.0023,  ..., -0.0017, -0.0035, -0.0030]],\n",
      "\n",
      "        ...,\n",
      "\n",
      "        [[ 0.0002, -0.0060,  0.0011,  ...,  0.0057, -0.0016,  0.0004],\n",
      "         [ 0.0031, -0.0003, -0.0038,  ...,  0.0000,  0.0061,  0.0048]],\n",
      "\n",
      "        [[ 0.0035, -0.0027, -0.0044,  ...,  0.0052,  0.0043, -0.0018],\n",
      "         [ 0.0045,  0.0021, -0.0048,  ..., -0.0026, -0.0018, -0.0061]],\n",
      "\n",
      "        [[ 0.0018, -0.0033, -0.0020,  ...,  0.0052,  0.0054,  0.0034],\n",
      "         [ 0.0051,  0.0024, -0.0060,  ..., -0.0015,  0.0033, -0.0051]]])\n"
     ]
    }
   ],
   "source": [
    "from steves_utils.transforms import get_average_magnitude, get_average_power\n",
    "\n",
    "print(set([u for u,_ in val_original_source]))\n",
    "print(set([u for u,_ in val_original_target]))\n",
    "\n",
    "s_x, s_y, q_x, q_y, _ = next(iter(train_processed_source))\n",
    "print(s_x)\n",
    "\n",
    "# for ds in [\n",
    "#     train_processed_source,\n",
    "#     val_processed_source,\n",
    "#     test_processed_source,\n",
    "#     train_processed_target,\n",
    "#     val_processed_target,\n",
    "#     test_processed_target\n",
    "# ]:\n",
    "#     for s_x, s_y, q_x, q_y, _ in ds:\n",
    "#         for X in (s_x, q_x):\n",
    "#             for x in X:\n",
    "#                 assert np.isclose(get_average_magnitude(x.numpy()), 1.0)\n",
    "#                 assert np.isclose(get_average_power(x.numpy()), 1.0)\n",
    "                "
   ]
  },
  {
   "cell_type": "code",
   "execution_count": 21,
   "id": "bbdacba1",
   "metadata": {
    "execution": {
     "iopub.execute_input": "2022-03-21T08:42:24.250800Z",
     "iopub.status.busy": "2022-03-21T08:42:24.250426Z",
     "iopub.status.idle": "2022-03-21T08:42:24.480717Z",
     "shell.execute_reply": "2022-03-21T08:42:24.481405Z"
    },
    "papermill": {
     "duration": 0.257489,
     "end_time": "2022-03-21T08:42:24.481636",
     "exception": false,
     "start_time": "2022-03-21T08:42:24.224147",
     "status": "completed"
    },
    "tags": []
   },
   "outputs": [
    {
     "name": "stdout",
     "output_type": "stream",
     "text": [
      "(2, 256)\n"
     ]
    }
   ],
   "source": [
    "###################################\n",
    "# Build the model\n",
    "###################################\n",
    "# easfsl only wants a tuple for the shape\n",
    "model = Steves_Prototypical_Network(x_net, device=p.device, x_shape=tuple(p.x_shape))\n",
    "optimizer = Adam(params=model.parameters(), lr=p.lr)"
   ]
  },
  {
   "cell_type": "code",
   "execution_count": 22,
   "id": "22b39ac5",
   "metadata": {
    "execution": {
     "iopub.execute_input": "2022-03-21T08:42:24.560558Z",
     "iopub.status.busy": "2022-03-21T08:42:24.559933Z",
     "iopub.status.idle": "2022-03-21T09:44:47.817709Z",
     "shell.execute_reply": "2022-03-21T09:44:47.817369Z"
    },
    "papermill": {
     "duration": 3743.286156,
     "end_time": "2022-03-21T09:44:47.817791",
     "exception": false,
     "start_time": "2022-03-21T08:42:24.531635",
     "status": "completed"
    },
    "tags": []
   },
   "outputs": [
    {
     "name": "stdout",
     "output_type": "stream",
     "text": [
      "epoch: 1, [batch: 1 / 6720], examples_per_second: 32.8500, train_label_loss: 2.6383, \n"
     ]
    },
    {
     "name": "stdout",
     "output_type": "stream",
     "text": [
      "epoch: 1, [batch: 672 / 6720], examples_per_second: 3368.2194, train_label_loss: 0.7554, \n"
     ]
    },
    {
     "name": "stdout",
     "output_type": "stream",
     "text": [
      "epoch: 1, [batch: 1344 / 6720], examples_per_second: 3283.5242, train_label_loss: 0.1908, \n"
     ]
    },
    {
     "name": "stdout",
     "output_type": "stream",
     "text": [
      "epoch: 1, [batch: 2016 / 6720], examples_per_second: 2981.2202, train_label_loss: 0.1921, \n"
     ]
    },
    {
     "name": "stdout",
     "output_type": "stream",
     "text": [
      "epoch: 1, [batch: 2688 / 6720], examples_per_second: 2967.3836, train_label_loss: 0.3901, \n"
     ]
    },
    {
     "name": "stdout",
     "output_type": "stream",
     "text": [
      "epoch: 1, [batch: 3360 / 6720], examples_per_second: 2904.3531, train_label_loss: 0.2714, \n"
     ]
    },
    {
     "name": "stdout",
     "output_type": "stream",
     "text": [
      "epoch: 1, [batch: 4032 / 6720], examples_per_second: 2925.0435, train_label_loss: 0.4778, \n"
     ]
    },
    {
     "name": "stdout",
     "output_type": "stream",
     "text": [
      "epoch: 1, [batch: 4704 / 6720], examples_per_second: 2317.4064, train_label_loss: 0.3684, \n"
     ]
    },
    {
     "name": "stdout",
     "output_type": "stream",
     "text": [
      "epoch: 1, [batch: 5376 / 6720], examples_per_second: 2311.3082, train_label_loss: 0.0549, \n"
     ]
    },
    {
     "name": "stdout",
     "output_type": "stream",
     "text": [
      "epoch: 1, [batch: 6048 / 6720], examples_per_second: 2314.9069, train_label_loss: 0.5555, \n"
     ]
    },
    {
     "name": "stdout",
     "output_type": "stream",
     "text": [
      "=============================================================\n",
      "epoch: 1, source_val_acc_label: 0.5375, target_val_acc_label: 0.5477, source_val_label_loss: 59.4339, target_val_label_loss: 56.0915, \n",
      "=============================================================\n"
     ]
    },
    {
     "name": "stdout",
     "output_type": "stream",
     "text": [
      "New best\n"
     ]
    },
    {
     "name": "stdout",
     "output_type": "stream",
     "text": [
      "epoch: 2, [batch: 1 / 6720], examples_per_second: 2.0727, train_label_loss: 55.1856, \n"
     ]
    },
    {
     "name": "stdout",
     "output_type": "stream",
     "text": [
      "epoch: 2, [batch: 672 / 6720], examples_per_second: 2578.2033, train_label_loss: 0.2307, \n"
     ]
    },
    {
     "name": "stdout",
     "output_type": "stream",
     "text": [
      "epoch: 2, [batch: 1344 / 6720], examples_per_second: 2573.0554, train_label_loss: 0.3648, \n"
     ]
    },
    {
     "name": "stdout",
     "output_type": "stream",
     "text": [
      "epoch: 2, [batch: 2016 / 6720], examples_per_second: 2336.8261, train_label_loss: 0.1278, \n"
     ]
    },
    {
     "name": "stdout",
     "output_type": "stream",
     "text": [
      "epoch: 2, [batch: 2688 / 6720], examples_per_second: 2450.6499, train_label_loss: 0.2653, \n"
     ]
    },
    {
     "name": "stdout",
     "output_type": "stream",
     "text": [
      "epoch: 2, [batch: 3360 / 6720], examples_per_second: 2622.2878, train_label_loss: 0.1814, \n"
     ]
    },
    {
     "name": "stdout",
     "output_type": "stream",
     "text": [
      "epoch: 2, [batch: 4032 / 6720], examples_per_second: 2661.3533, train_label_loss: 0.3809, \n"
     ]
    },
    {
     "name": "stdout",
     "output_type": "stream",
     "text": [
      "epoch: 2, [batch: 4704 / 6720], examples_per_second: 2334.9886, train_label_loss: 0.3469, \n"
     ]
    },
    {
     "name": "stdout",
     "output_type": "stream",
     "text": [
      "epoch: 2, [batch: 5376 / 6720], examples_per_second: 2297.5625, train_label_loss: 0.2620, \n"
     ]
    },
    {
     "name": "stdout",
     "output_type": "stream",
     "text": [
      "epoch: 2, [batch: 6048 / 6720], examples_per_second: 2324.4525, train_label_loss: 0.0473, \n"
     ]
    },
    {
     "name": "stdout",
     "output_type": "stream",
     "text": [
      "=============================================================\n",
      "epoch: 2, source_val_acc_label: 0.9171, target_val_acc_label: 0.8984, source_val_label_loss: 0.2734, target_val_label_loss: 0.3263, \n",
      "=============================================================\n"
     ]
    },
    {
     "name": "stdout",
     "output_type": "stream",
     "text": [
      "New best\n"
     ]
    },
    {
     "name": "stdout",
     "output_type": "stream",
     "text": [
      "epoch: 3, [batch: 1 / 6720], examples_per_second: 2.0739, train_label_loss: 0.3676, \n"
     ]
    },
    {
     "name": "stdout",
     "output_type": "stream",
     "text": [
      "epoch: 3, [batch: 672 / 6720], examples_per_second: 2648.1483, train_label_loss: 0.0908, \n"
     ]
    },
    {
     "name": "stdout",
     "output_type": "stream",
     "text": [
      "epoch: 3, [batch: 1344 / 6720], examples_per_second: 2642.3843, train_label_loss: 0.2815, \n"
     ]
    },
    {
     "name": "stdout",
     "output_type": "stream",
     "text": [
      "epoch: 3, [batch: 2016 / 6720], examples_per_second: 2622.9665, train_label_loss: 0.1405, \n"
     ]
    },
    {
     "name": "stdout",
     "output_type": "stream",
     "text": [
      "epoch: 3, [batch: 2688 / 6720], examples_per_second: 2844.2086, train_label_loss: 0.1671, \n"
     ]
    },
    {
     "name": "stdout",
     "output_type": "stream",
     "text": [
      "epoch: 3, [batch: 3360 / 6720], examples_per_second: 2948.5450, train_label_loss: 0.1989, \n"
     ]
    },
    {
     "name": "stdout",
     "output_type": "stream",
     "text": [
      "epoch: 3, [batch: 4032 / 6720], examples_per_second: 3014.9534, train_label_loss: 0.2866, \n"
     ]
    },
    {
     "name": "stdout",
     "output_type": "stream",
     "text": [
      "epoch: 3, [batch: 4704 / 6720], examples_per_second: 2599.4690, train_label_loss: 0.0338, \n"
     ]
    },
    {
     "name": "stdout",
     "output_type": "stream",
     "text": [
      "epoch: 3, [batch: 5376 / 6720], examples_per_second: 2558.3526, train_label_loss: 0.1459, \n"
     ]
    },
    {
     "name": "stdout",
     "output_type": "stream",
     "text": [
      "epoch: 3, [batch: 6048 / 6720], examples_per_second: 2645.1951, train_label_loss: 0.0686, \n"
     ]
    },
    {
     "name": "stdout",
     "output_type": "stream",
     "text": [
      "=============================================================\n",
      "epoch: 3, source_val_acc_label: 0.9211, target_val_acc_label: 0.9014, source_val_label_loss: 0.2428, target_val_label_loss: 0.3025, \n",
      "=============================================================\n"
     ]
    },
    {
     "name": "stdout",
     "output_type": "stream",
     "text": [
      "New best\n"
     ]
    },
    {
     "name": "stdout",
     "output_type": "stream",
     "text": [
      "epoch: 4, [batch: 1 / 6720], examples_per_second: 2.5099, train_label_loss: 0.0627, \n"
     ]
    },
    {
     "name": "stdout",
     "output_type": "stream",
     "text": [
      "epoch: 4, [batch: 672 / 6720], examples_per_second: 3417.5040, train_label_loss: 0.1032, \n"
     ]
    },
    {
     "name": "stdout",
     "output_type": "stream",
     "text": [
      "epoch: 4, [batch: 1344 / 6720], examples_per_second: 3443.5816, train_label_loss: 0.2816, \n"
     ]
    },
    {
     "name": "stdout",
     "output_type": "stream",
     "text": [
      "epoch: 4, [batch: 2016 / 6720], examples_per_second: 3456.0133, train_label_loss: 0.3140, \n"
     ]
    },
    {
     "name": "stdout",
     "output_type": "stream",
     "text": [
      "epoch: 4, [batch: 2688 / 6720], examples_per_second: 3605.9402, train_label_loss: 0.1071, \n"
     ]
    },
    {
     "name": "stdout",
     "output_type": "stream",
     "text": [
      "epoch: 4, [batch: 3360 / 6720], examples_per_second: 3794.2812, train_label_loss: 0.0428, \n"
     ]
    },
    {
     "name": "stdout",
     "output_type": "stream",
     "text": [
      "epoch: 4, [batch: 4032 / 6720], examples_per_second: 3910.1522, train_label_loss: 0.3078, \n"
     ]
    },
    {
     "name": "stdout",
     "output_type": "stream",
     "text": [
      "epoch: 4, [batch: 4704 / 6720], examples_per_second: 3859.6620, train_label_loss: 0.1590, \n"
     ]
    },
    {
     "name": "stdout",
     "output_type": "stream",
     "text": [
      "epoch: 4, [batch: 5376 / 6720], examples_per_second: 3791.4910, train_label_loss: 0.0988, \n"
     ]
    },
    {
     "name": "stdout",
     "output_type": "stream",
     "text": [
      "epoch: 4, [batch: 6048 / 6720], examples_per_second: 3003.8450, train_label_loss: 0.0557, \n"
     ]
    },
    {
     "name": "stdout",
     "output_type": "stream",
     "text": [
      "=============================================================\n",
      "epoch: 4, source_val_acc_label: 0.9356, target_val_acc_label: 0.9137, source_val_label_loss: 0.2136, target_val_label_loss: 0.2828, \n",
      "=============================================================\n"
     ]
    },
    {
     "name": "stdout",
     "output_type": "stream",
     "text": [
      "New best\n"
     ]
    },
    {
     "name": "stdout",
     "output_type": "stream",
     "text": [
      "epoch: 5, [batch: 1 / 6720], examples_per_second: 2.0362, train_label_loss: 0.3245, \n"
     ]
    },
    {
     "name": "stdout",
     "output_type": "stream",
     "text": [
      "epoch: 5, [batch: 672 / 6720], examples_per_second: 2340.3309, train_label_loss: 0.0796, \n"
     ]
    },
    {
     "name": "stdout",
     "output_type": "stream",
     "text": [
      "epoch: 5, [batch: 1344 / 6720], examples_per_second: 2299.3947, train_label_loss: 0.1166, \n"
     ]
    },
    {
     "name": "stdout",
     "output_type": "stream",
     "text": [
      "epoch: 5, [batch: 2016 / 6720], examples_per_second: 2323.6943, train_label_loss: 0.1501, \n"
     ]
    },
    {
     "name": "stdout",
     "output_type": "stream",
     "text": [
      "epoch: 5, [batch: 2688 / 6720], examples_per_second: 2564.2394, train_label_loss: 0.1272, \n"
     ]
    },
    {
     "name": "stdout",
     "output_type": "stream",
     "text": [
      "epoch: 5, [batch: 3360 / 6720], examples_per_second: 2606.4948, train_label_loss: 0.1741, \n"
     ]
    },
    {
     "name": "stdout",
     "output_type": "stream",
     "text": [
      "epoch: 5, [batch: 4032 / 6720], examples_per_second: 2582.2434, train_label_loss: 0.3923, \n"
     ]
    },
    {
     "name": "stdout",
     "output_type": "stream",
     "text": [
      "epoch: 5, [batch: 4704 / 6720], examples_per_second: 2451.4203, train_label_loss: 0.0539, \n"
     ]
    },
    {
     "name": "stdout",
     "output_type": "stream",
     "text": [
      "epoch: 5, [batch: 5376 / 6720], examples_per_second: 2610.9588, train_label_loss: 0.2508, \n"
     ]
    },
    {
     "name": "stdout",
     "output_type": "stream",
     "text": [
      "epoch: 5, [batch: 6048 / 6720], examples_per_second: 2626.0595, train_label_loss: 0.1503, \n"
     ]
    },
    {
     "name": "stdout",
     "output_type": "stream",
     "text": [
      "=============================================================\n",
      "epoch: 5, source_val_acc_label: 0.9403, target_val_acc_label: 0.9184, source_val_label_loss: 0.1892, target_val_label_loss: 0.2762, \n",
      "=============================================================\n"
     ]
    },
    {
     "name": "stdout",
     "output_type": "stream",
     "text": [
      "New best\n"
     ]
    },
    {
     "name": "stdout",
     "output_type": "stream",
     "text": [
      "epoch: 6, [batch: 1 / 6720], examples_per_second: 2.0435, train_label_loss: 0.3063, \n"
     ]
    },
    {
     "name": "stdout",
     "output_type": "stream",
     "text": [
      "epoch: 6, [batch: 672 / 6720], examples_per_second: 2326.9066, train_label_loss: 0.2545, \n"
     ]
    },
    {
     "name": "stdout",
     "output_type": "stream",
     "text": [
      "epoch: 6, [batch: 1344 / 6720], examples_per_second: 2322.7487, train_label_loss: 0.1343, \n"
     ]
    },
    {
     "name": "stdout",
     "output_type": "stream",
     "text": [
      "epoch: 6, [batch: 2016 / 6720], examples_per_second: 2349.9626, train_label_loss: 0.1057, \n"
     ]
    },
    {
     "name": "stdout",
     "output_type": "stream",
     "text": [
      "epoch: 6, [batch: 2688 / 6720], examples_per_second: 2590.3337, train_label_loss: 0.0631, \n"
     ]
    },
    {
     "name": "stdout",
     "output_type": "stream",
     "text": [
      "epoch: 6, [batch: 3360 / 6720], examples_per_second: 2564.0727, train_label_loss: 0.4161, \n"
     ]
    },
    {
     "name": "stdout",
     "output_type": "stream",
     "text": [
      "epoch: 6, [batch: 4032 / 6720], examples_per_second: 2509.1915, train_label_loss: 0.0632, \n"
     ]
    },
    {
     "name": "stdout",
     "output_type": "stream",
     "text": [
      "epoch: 6, [batch: 4704 / 6720], examples_per_second: 2450.4877, train_label_loss: 0.0743, \n"
     ]
    },
    {
     "name": "stdout",
     "output_type": "stream",
     "text": [
      "epoch: 6, [batch: 5376 / 6720], examples_per_second: 2612.9432, train_label_loss: 0.0318, \n"
     ]
    },
    {
     "name": "stdout",
     "output_type": "stream",
     "text": [
      "epoch: 6, [batch: 6048 / 6720], examples_per_second: 2662.1401, train_label_loss: 0.0940, \n"
     ]
    },
    {
     "name": "stdout",
     "output_type": "stream",
     "text": [
      "=============================================================\n",
      "epoch: 6, source_val_acc_label: 0.9432, target_val_acc_label: 0.9218, source_val_label_loss: 0.1713, target_val_label_loss: 0.2437, \n",
      "=============================================================\n"
     ]
    },
    {
     "name": "stdout",
     "output_type": "stream",
     "text": [
      "New best\n"
     ]
    },
    {
     "name": "stdout",
     "output_type": "stream",
     "text": [
      "epoch: 7, [batch: 1 / 6720], examples_per_second: 2.0393, train_label_loss: 0.1494, \n"
     ]
    },
    {
     "name": "stdout",
     "output_type": "stream",
     "text": [
      "epoch: 7, [batch: 672 / 6720], examples_per_second: 2315.9439, train_label_loss: 0.2118, \n"
     ]
    },
    {
     "name": "stdout",
     "output_type": "stream",
     "text": [
      "epoch: 7, [batch: 1344 / 6720], examples_per_second: 2300.9455, train_label_loss: 0.0709, \n"
     ]
    },
    {
     "name": "stdout",
     "output_type": "stream",
     "text": [
      "epoch: 7, [batch: 2016 / 6720], examples_per_second: 2383.8401, train_label_loss: 0.1896, \n"
     ]
    },
    {
     "name": "stdout",
     "output_type": "stream",
     "text": [
      "epoch: 7, [batch: 2688 / 6720], examples_per_second: 2641.4839, train_label_loss: 0.0113, \n"
     ]
    },
    {
     "name": "stdout",
     "output_type": "stream",
     "text": [
      "epoch: 7, [batch: 3360 / 6720], examples_per_second: 2600.8760, train_label_loss: 0.3295, \n"
     ]
    },
    {
     "name": "stdout",
     "output_type": "stream",
     "text": [
      "epoch: 7, [batch: 4032 / 6720], examples_per_second: 2473.0567, train_label_loss: 0.1553, \n"
     ]
    },
    {
     "name": "stdout",
     "output_type": "stream",
     "text": [
      "epoch: 7, [batch: 4704 / 6720], examples_per_second: 2434.0915, train_label_loss: 0.2060, \n"
     ]
    },
    {
     "name": "stdout",
     "output_type": "stream",
     "text": [
      "epoch: 7, [batch: 5376 / 6720], examples_per_second: 2689.7644, train_label_loss: 0.0426, \n"
     ]
    },
    {
     "name": "stdout",
     "output_type": "stream",
     "text": [
      "epoch: 7, [batch: 6048 / 6720], examples_per_second: 2628.7348, train_label_loss: 0.0003, \n"
     ]
    },
    {
     "name": "stdout",
     "output_type": "stream",
     "text": [
      "=============================================================\n",
      "epoch: 7, source_val_acc_label: 0.9407, target_val_acc_label: 0.9181, source_val_label_loss: 0.1660, target_val_label_loss: 0.2545, \n",
      "=============================================================\n"
     ]
    },
    {
     "name": "stdout",
     "output_type": "stream",
     "text": [
      "epoch: 8, [batch: 1 / 6720], examples_per_second: 2.0659, train_label_loss: 0.1715, \n"
     ]
    },
    {
     "name": "stdout",
     "output_type": "stream",
     "text": [
      "epoch: 8, [batch: 672 / 6720], examples_per_second: 2321.8177, train_label_loss: 0.2688, \n"
     ]
    },
    {
     "name": "stdout",
     "output_type": "stream",
     "text": [
      "epoch: 8, [batch: 1344 / 6720], examples_per_second: 2330.7517, train_label_loss: 0.2855, \n"
     ]
    },
    {
     "name": "stdout",
     "output_type": "stream",
     "text": [
      "epoch: 8, [batch: 2016 / 6720], examples_per_second: 2444.3566, train_label_loss: 0.8321, \n"
     ]
    },
    {
     "name": "stdout",
     "output_type": "stream",
     "text": [
      "epoch: 8, [batch: 2688 / 6720], examples_per_second: 2595.3660, train_label_loss: 0.0654, \n"
     ]
    },
    {
     "name": "stdout",
     "output_type": "stream",
     "text": [
      "epoch: 8, [batch: 3360 / 6720], examples_per_second: 2581.7847, train_label_loss: 0.0207, \n"
     ]
    },
    {
     "name": "stdout",
     "output_type": "stream",
     "text": [
      "epoch: 8, [batch: 4032 / 6720], examples_per_second: 2604.8341, train_label_loss: 0.3564, \n"
     ]
    },
    {
     "name": "stdout",
     "output_type": "stream",
     "text": [
      "epoch: 8, [batch: 4704 / 6720], examples_per_second: 2732.7905, train_label_loss: 0.0398, \n"
     ]
    },
    {
     "name": "stdout",
     "output_type": "stream",
     "text": [
      "epoch: 8, [batch: 5376 / 6720], examples_per_second: 3226.2187, train_label_loss: 0.0280, \n"
     ]
    },
    {
     "name": "stdout",
     "output_type": "stream",
     "text": [
      "epoch: 8, [batch: 6048 / 6720], examples_per_second: 3208.1208, train_label_loss: 0.0725, \n"
     ]
    },
    {
     "name": "stdout",
     "output_type": "stream",
     "text": [
      "=============================================================\n",
      "epoch: 8, source_val_acc_label: 0.9410, target_val_acc_label: 0.9187, source_val_label_loss: 0.1678, target_val_label_loss: 0.2560, \n",
      "=============================================================\n"
     ]
    },
    {
     "name": "stdout",
     "output_type": "stream",
     "text": [
      "epoch: 9, [batch: 1 / 6720], examples_per_second: 2.6613, train_label_loss: 0.1795, \n"
     ]
    },
    {
     "name": "stdout",
     "output_type": "stream",
     "text": [
      "epoch: 9, [batch: 672 / 6720], examples_per_second: 2983.4564, train_label_loss: 0.0908, \n"
     ]
    },
    {
     "name": "stdout",
     "output_type": "stream",
     "text": [
      "epoch: 9, [batch: 1344 / 6720], examples_per_second: 3744.7471, train_label_loss: 0.0890, \n"
     ]
    },
    {
     "name": "stdout",
     "output_type": "stream",
     "text": [
      "epoch: 9, [batch: 2016 / 6720], examples_per_second: 3917.7837, train_label_loss: 0.0988, \n"
     ]
    },
    {
     "name": "stdout",
     "output_type": "stream",
     "text": [
      "epoch: 9, [batch: 2688 / 6720], examples_per_second: 3169.0146, train_label_loss: 0.0945, \n"
     ]
    },
    {
     "name": "stdout",
     "output_type": "stream",
     "text": [
      "epoch: 9, [batch: 3360 / 6720], examples_per_second: 3035.5960, train_label_loss: 0.2319, \n"
     ]
    },
    {
     "name": "stdout",
     "output_type": "stream",
     "text": [
      "epoch: 9, [batch: 4032 / 6720], examples_per_second: 3085.6489, train_label_loss: 0.2514, \n"
     ]
    },
    {
     "name": "stdout",
     "output_type": "stream",
     "text": [
      "epoch: 9, [batch: 4704 / 6720], examples_per_second: 3058.9815, train_label_loss: 0.0282, \n"
     ]
    },
    {
     "name": "stdout",
     "output_type": "stream",
     "text": [
      "epoch: 9, [batch: 5376 / 6720], examples_per_second: 3501.4464, train_label_loss: 0.0631, \n"
     ]
    },
    {
     "name": "stdout",
     "output_type": "stream",
     "text": [
      "epoch: 9, [batch: 6048 / 6720], examples_per_second: 3440.0509, train_label_loss: 0.0435, \n"
     ]
    },
    {
     "name": "stdout",
     "output_type": "stream",
     "text": [
      "=============================================================\n",
      "epoch: 9, source_val_acc_label: 0.9487, target_val_acc_label: 0.9261, source_val_label_loss: 0.1485, target_val_label_loss: 0.2465, \n",
      "=============================================================\n"
     ]
    },
    {
     "name": "stdout",
     "output_type": "stream",
     "text": [
      "New best\n"
     ]
    },
    {
     "name": "stdout",
     "output_type": "stream",
     "text": [
      "epoch: 10, [batch: 1 / 6720], examples_per_second: 2.7678, train_label_loss: 0.2341, \n"
     ]
    },
    {
     "name": "stdout",
     "output_type": "stream",
     "text": [
      "epoch: 10, [batch: 672 / 6720], examples_per_second: 2590.1061, train_label_loss: 0.0597, \n"
     ]
    },
    {
     "name": "stdout",
     "output_type": "stream",
     "text": [
      "epoch: 10, [batch: 1344 / 6720], examples_per_second: 2623.7965, train_label_loss: 0.1129, \n"
     ]
    },
    {
     "name": "stdout",
     "output_type": "stream",
     "text": [
      "epoch: 10, [batch: 2016 / 6720], examples_per_second: 2574.3455, train_label_loss: 0.1620, \n"
     ]
    },
    {
     "name": "stdout",
     "output_type": "stream",
     "text": [
      "epoch: 10, [batch: 2688 / 6720], examples_per_second: 2539.9620, train_label_loss: 0.0525, \n"
     ]
    },
    {
     "name": "stdout",
     "output_type": "stream",
     "text": [
      "epoch: 10, [batch: 3360 / 6720], examples_per_second: 2556.2044, train_label_loss: 0.0062, \n"
     ]
    },
    {
     "name": "stdout",
     "output_type": "stream",
     "text": [
      "epoch: 10, [batch: 4032 / 6720], examples_per_second: 2641.5187, train_label_loss: 0.2318, \n"
     ]
    },
    {
     "name": "stdout",
     "output_type": "stream",
     "text": [
      "epoch: 10, [batch: 4704 / 6720], examples_per_second: 2968.5733, train_label_loss: 0.0995, \n"
     ]
    },
    {
     "name": "stdout",
     "output_type": "stream",
     "text": [
      "epoch: 10, [batch: 5376 / 6720], examples_per_second: 3075.8737, train_label_loss: 0.2764, \n"
     ]
    },
    {
     "name": "stdout",
     "output_type": "stream",
     "text": [
      "epoch: 10, [batch: 6048 / 6720], examples_per_second: 3450.6535, train_label_loss: 0.0685, \n"
     ]
    },
    {
     "name": "stdout",
     "output_type": "stream",
     "text": [
      "=============================================================\n",
      "epoch: 10, source_val_acc_label: 0.9442, target_val_acc_label: 0.9202, source_val_label_loss: 0.1554, target_val_label_loss: 0.2573, \n",
      "=============================================================\n"
     ]
    },
    {
     "name": "stdout",
     "output_type": "stream",
     "text": [
      "epoch: 11, [batch: 1 / 6720], examples_per_second: 2.9855, train_label_loss: 0.1450, \n"
     ]
    },
    {
     "name": "stdout",
     "output_type": "stream",
     "text": [
      "epoch: 11, [batch: 672 / 6720], examples_per_second: 2978.7255, train_label_loss: 0.3255, \n"
     ]
    },
    {
     "name": "stdout",
     "output_type": "stream",
     "text": [
      "epoch: 11, [batch: 1344 / 6720], examples_per_second: 3027.7064, train_label_loss: 0.0015, \n"
     ]
    },
    {
     "name": "stdout",
     "output_type": "stream",
     "text": [
      "epoch: 11, [batch: 2016 / 6720], examples_per_second: 2951.4856, train_label_loss: 0.0405, \n"
     ]
    },
    {
     "name": "stdout",
     "output_type": "stream",
     "text": [
      "epoch: 11, [batch: 2688 / 6720], examples_per_second: 2504.0178, train_label_loss: 0.1454, \n"
     ]
    },
    {
     "name": "stdout",
     "output_type": "stream",
     "text": [
      "epoch: 11, [batch: 3360 / 6720], examples_per_second: 2306.2092, train_label_loss: 0.0059, \n"
     ]
    },
    {
     "name": "stdout",
     "output_type": "stream",
     "text": [
      "epoch: 11, [batch: 4032 / 6720], examples_per_second: 2318.2606, train_label_loss: 0.1058, \n"
     ]
    },
    {
     "name": "stdout",
     "output_type": "stream",
     "text": [
      "epoch: 11, [batch: 4704 / 6720], examples_per_second: 2297.3907, train_label_loss: 0.0679, \n"
     ]
    },
    {
     "name": "stdout",
     "output_type": "stream",
     "text": [
      "epoch: 11, [batch: 5376 / 6720], examples_per_second: 2551.5666, train_label_loss: 0.0394, \n"
     ]
    },
    {
     "name": "stdout",
     "output_type": "stream",
     "text": [
      "epoch: 11, [batch: 6048 / 6720], examples_per_second: 2608.1219, train_label_loss: 0.0979, \n"
     ]
    },
    {
     "name": "stdout",
     "output_type": "stream",
     "text": [
      "=============================================================\n",
      "epoch: 11, source_val_acc_label: 0.9518, target_val_acc_label: 0.9309, source_val_label_loss: 0.1370, target_val_label_loss: 0.2285, \n",
      "=============================================================\n"
     ]
    },
    {
     "name": "stdout",
     "output_type": "stream",
     "text": [
      "New best\n"
     ]
    },
    {
     "name": "stdout",
     "output_type": "stream",
     "text": [
      "epoch: 12, [batch: 1 / 6720], examples_per_second: 2.1130, train_label_loss: 0.2764, \n"
     ]
    },
    {
     "name": "stdout",
     "output_type": "stream",
     "text": [
      "epoch: 12, [batch: 672 / 6720], examples_per_second: 2360.1606, train_label_loss: 0.0011, \n"
     ]
    },
    {
     "name": "stdout",
     "output_type": "stream",
     "text": [
      "epoch: 12, [batch: 1344 / 6720], examples_per_second: 2566.8590, train_label_loss: 0.0104, \n"
     ]
    },
    {
     "name": "stdout",
     "output_type": "stream",
     "text": [
      "epoch: 12, [batch: 2016 / 6720], examples_per_second: 2615.4638, train_label_loss: 0.1472, \n"
     ]
    },
    {
     "name": "stdout",
     "output_type": "stream",
     "text": [
      "epoch: 12, [batch: 2688 / 6720], examples_per_second: 2596.4357, train_label_loss: 0.1580, \n"
     ]
    },
    {
     "name": "stdout",
     "output_type": "stream",
     "text": [
      "epoch: 12, [batch: 3360 / 6720], examples_per_second: 2319.8868, train_label_loss: 0.0007, \n"
     ]
    },
    {
     "name": "stdout",
     "output_type": "stream",
     "text": [
      "epoch: 12, [batch: 4032 / 6720], examples_per_second: 2308.0686, train_label_loss: 0.0129, \n"
     ]
    },
    {
     "name": "stdout",
     "output_type": "stream",
     "text": [
      "epoch: 12, [batch: 4704 / 6720], examples_per_second: 2414.7661, train_label_loss: 0.2538, \n"
     ]
    },
    {
     "name": "stdout",
     "output_type": "stream",
     "text": [
      "epoch: 12, [batch: 5376 / 6720], examples_per_second: 2622.3354, train_label_loss: 0.1358, \n"
     ]
    },
    {
     "name": "stdout",
     "output_type": "stream",
     "text": [
      "epoch: 12, [batch: 6048 / 6720], examples_per_second: 2597.9994, train_label_loss: 0.0700, \n"
     ]
    },
    {
     "name": "stdout",
     "output_type": "stream",
     "text": [
      "=============================================================\n",
      "epoch: 12, source_val_acc_label: 0.9527, target_val_acc_label: 0.9281, source_val_label_loss: 0.1361, target_val_label_loss: 0.2489, \n",
      "=============================================================\n"
     ]
    },
    {
     "name": "stdout",
     "output_type": "stream",
     "text": [
      "epoch: 13, [batch: 1 / 6720], examples_per_second: 2.0344, train_label_loss: 0.1192, \n"
     ]
    },
    {
     "name": "stdout",
     "output_type": "stream",
     "text": [
      "epoch: 13, [batch: 672 / 6720], examples_per_second: 2375.9484, train_label_loss: 0.1850, \n"
     ]
    },
    {
     "name": "stdout",
     "output_type": "stream",
     "text": [
      "epoch: 13, [batch: 1344 / 6720], examples_per_second: 2582.5068, train_label_loss: 0.0014, \n"
     ]
    },
    {
     "name": "stdout",
     "output_type": "stream",
     "text": [
      "epoch: 13, [batch: 2016 / 6720], examples_per_second: 2585.4918, train_label_loss: 0.0066, \n"
     ]
    },
    {
     "name": "stdout",
     "output_type": "stream",
     "text": [
      "epoch: 13, [batch: 2688 / 6720], examples_per_second: 2906.7233, train_label_loss: 0.1513, \n"
     ]
    },
    {
     "name": "stdout",
     "output_type": "stream",
     "text": [
      "epoch: 13, [batch: 3360 / 6720], examples_per_second: 2550.8663, train_label_loss: 0.0618, \n"
     ]
    },
    {
     "name": "stdout",
     "output_type": "stream",
     "text": [
      "epoch: 13, [batch: 4032 / 6720], examples_per_second: 2647.1909, train_label_loss: 0.1196, \n"
     ]
    },
    {
     "name": "stdout",
     "output_type": "stream",
     "text": [
      "epoch: 13, [batch: 4704 / 6720], examples_per_second: 2941.4495, train_label_loss: 0.1355, \n"
     ]
    },
    {
     "name": "stdout",
     "output_type": "stream",
     "text": [
      "epoch: 13, [batch: 5376 / 6720], examples_per_second: 2886.5008, train_label_loss: 0.0088, \n"
     ]
    },
    {
     "name": "stdout",
     "output_type": "stream",
     "text": [
      "epoch: 13, [batch: 6048 / 6720], examples_per_second: 2941.8278, train_label_loss: 0.1837, \n"
     ]
    },
    {
     "name": "stdout",
     "output_type": "stream",
     "text": [
      "=============================================================\n",
      "epoch: 13, source_val_acc_label: 0.9510, target_val_acc_label: 0.9262, source_val_label_loss: 0.1455, target_val_label_loss: 0.2568, \n",
      "=============================================================\n"
     ]
    },
    {
     "name": "stdout",
     "output_type": "stream",
     "text": [
      "epoch: 14, [batch: 1 / 6720], examples_per_second: 2.4279, train_label_loss: 0.0253, \n"
     ]
    },
    {
     "name": "stdout",
     "output_type": "stream",
     "text": [
      "epoch: 14, [batch: 672 / 6720], examples_per_second: 2348.7951, train_label_loss: 0.1197, \n"
     ]
    },
    {
     "name": "stdout",
     "output_type": "stream",
     "text": [
      "epoch: 14, [batch: 1344 / 6720], examples_per_second: 2641.5164, train_label_loss: 0.0361, \n"
     ]
    },
    {
     "name": "stdout",
     "output_type": "stream",
     "text": [
      "epoch: 14, [batch: 2016 / 6720], examples_per_second: 2639.9268, train_label_loss: 0.2905, \n"
     ]
    },
    {
     "name": "stdout",
     "output_type": "stream",
     "text": [
      "epoch: 14, [batch: 2688 / 6720], examples_per_second: 2626.1736, train_label_loss: 0.1298, \n"
     ]
    },
    {
     "name": "stdout",
     "output_type": "stream",
     "text": [
      "epoch: 14, [batch: 3360 / 6720], examples_per_second: 2326.0536, train_label_loss: 0.0344, \n"
     ]
    },
    {
     "name": "stdout",
     "output_type": "stream",
     "text": [
      "epoch: 14, [batch: 4032 / 6720], examples_per_second: 2484.7247, train_label_loss: 0.0868, \n"
     ]
    },
    {
     "name": "stdout",
     "output_type": "stream",
     "text": [
      "epoch: 14, [batch: 4704 / 6720], examples_per_second: 2608.5105, train_label_loss: 0.1057, \n"
     ]
    },
    {
     "name": "stdout",
     "output_type": "stream",
     "text": [
      "epoch: 14, [batch: 5376 / 6720], examples_per_second: 2627.6578, train_label_loss: 0.0504, \n"
     ]
    },
    {
     "name": "stdout",
     "output_type": "stream",
     "text": [
      "epoch: 14, [batch: 6048 / 6720], examples_per_second: 2638.6626, train_label_loss: 0.0379, \n"
     ]
    },
    {
     "name": "stdout",
     "output_type": "stream",
     "text": [
      "=============================================================\n",
      "epoch: 14, source_val_acc_label: 0.9568, target_val_acc_label: 0.9302, source_val_label_loss: 0.1295, target_val_label_loss: 0.2456, \n",
      "=============================================================\n"
     ]
    },
    {
     "name": "stdout",
     "output_type": "stream",
     "text": [
      "epoch: 15, [batch: 1 / 6720], examples_per_second: 2.2821, train_label_loss: 0.1618, \n"
     ]
    },
    {
     "name": "stdout",
     "output_type": "stream",
     "text": [
      "epoch: 15, [batch: 672 / 6720], examples_per_second: 2637.1224, train_label_loss: 0.2200, \n"
     ]
    },
    {
     "name": "stdout",
     "output_type": "stream",
     "text": [
      "epoch: 15, [batch: 1344 / 6720], examples_per_second: 2928.6796, train_label_loss: 0.3426, \n"
     ]
    },
    {
     "name": "stdout",
     "output_type": "stream",
     "text": [
      "epoch: 15, [batch: 2016 / 6720], examples_per_second: 3036.0751, train_label_loss: 0.0616, \n"
     ]
    },
    {
     "name": "stdout",
     "output_type": "stream",
     "text": [
      "epoch: 15, [batch: 2688 / 6720], examples_per_second: 2986.4282, train_label_loss: 0.0338, \n"
     ]
    },
    {
     "name": "stdout",
     "output_type": "stream",
     "text": [
      "epoch: 15, [batch: 3360 / 6720], examples_per_second: 2951.3966, train_label_loss: 0.0109, \n"
     ]
    },
    {
     "name": "stdout",
     "output_type": "stream",
     "text": [
      "epoch: 15, [batch: 4032 / 6720], examples_per_second: 2977.6237, train_label_loss: 0.1177, \n"
     ]
    },
    {
     "name": "stdout",
     "output_type": "stream",
     "text": [
      "epoch: 15, [batch: 4704 / 6720], examples_per_second: 2969.6519, train_label_loss: 0.0993, \n"
     ]
    },
    {
     "name": "stdout",
     "output_type": "stream",
     "text": [
      "epoch: 15, [batch: 5376 / 6720], examples_per_second: 3008.5394, train_label_loss: 0.0829, \n"
     ]
    },
    {
     "name": "stdout",
     "output_type": "stream",
     "text": [
      "epoch: 15, [batch: 6048 / 6720], examples_per_second: 3011.5319, train_label_loss: 0.0989, \n"
     ]
    },
    {
     "name": "stdout",
     "output_type": "stream",
     "text": [
      "=============================================================\n",
      "epoch: 15, source_val_acc_label: 0.9564, target_val_acc_label: 0.9291, source_val_label_loss: 0.1290, target_val_label_loss: 0.2605, \n",
      "=============================================================\n"
     ]
    },
    {
     "name": "stdout",
     "output_type": "stream",
     "text": [
      "Patience (3) exhausted\n"
     ]
    }
   ],
   "source": [
    "###################################\n",
    "# train\n",
    "###################################\n",
    "jig = PTN_Train_Eval_Test_Jig(model, p.BEST_MODEL_PATH, p.device)\n",
    "\n",
    "jig.train(\n",
    "    train_iterable=datasets.source.processed.train,\n",
    "    source_val_iterable=datasets.source.processed.val,\n",
    "    target_val_iterable=datasets.target.processed.val,\n",
    "    num_epochs=p.n_epoch,\n",
    "    num_logs_per_epoch=p.NUM_LOGS_PER_EPOCH,\n",
    "    patience=p.patience,\n",
    "    optimizer=optimizer,\n",
    "    criteria_for_best=p.criteria_for_best,\n",
    ")"
   ]
  },
  {
   "cell_type": "code",
   "execution_count": 23,
   "id": "31e8fabf",
   "metadata": {
    "execution": {
     "iopub.execute_input": "2022-03-21T09:44:47.960000Z",
     "iopub.status.busy": "2022-03-21T09:44:47.959626Z",
     "iopub.status.idle": "2022-03-21T09:44:47.988804Z",
     "shell.execute_reply": "2022-03-21T09:44:47.988103Z"
    },
    "papermill": {
     "duration": 0.099655,
     "end_time": "2022-03-21T09:44:47.988985",
     "exception": false,
     "start_time": "2022-03-21T09:44:47.889330",
     "status": "completed"
    },
    "tags": []
   },
   "outputs": [],
   "source": [
    "total_experiment_time_secs = time.time() - start_time_secs"
   ]
  },
  {
   "cell_type": "code",
   "execution_count": 24,
   "id": "87b9595b",
   "metadata": {
    "execution": {
     "iopub.execute_input": "2022-03-21T09:44:48.206564Z",
     "iopub.status.busy": "2022-03-21T09:44:48.205606Z",
     "iopub.status.idle": "2022-03-21T09:49:03.606951Z",
     "shell.execute_reply": "2022-03-21T09:49:03.607484Z"
    },
    "papermill": {
     "duration": 255.547859,
     "end_time": "2022-03-21T09:49:03.607778",
     "exception": false,
     "start_time": "2022-03-21T09:44:48.059919",
     "status": "completed"
    },
    "tags": []
   },
   "outputs": [],
   "source": [
    "###################################\n",
    "# Evaluate the model\n",
    "###################################\n",
    "source_test_label_accuracy, source_test_label_loss = jig.test(datasets.source.processed.test)\n",
    "target_test_label_accuracy, target_test_label_loss = jig.test(datasets.target.processed.test)\n",
    "\n",
    "source_val_label_accuracy, source_val_label_loss = jig.test(datasets.source.processed.val)\n",
    "target_val_label_accuracy, target_val_label_loss = jig.test(datasets.target.processed.val)\n",
    "\n",
    "history = jig.get_history()\n",
    "\n",
    "total_epochs_trained = len(history[\"epoch_indices\"])\n",
    "\n",
    "val_dl = Iterable_Aggregator((datasets.source.original.val,datasets.target.original.val))\n",
    "\n",
    "confusion = ptn_confusion_by_domain_over_dataloader(model, p.device, val_dl)\n",
    "per_domain_accuracy = per_domain_accuracy_from_confusion(confusion)\n",
    "\n",
    "# Add a key to per_domain_accuracy for if it was a source domain\n",
    "for domain, accuracy in per_domain_accuracy.items():\n",
    "    per_domain_accuracy[domain] = {\n",
    "        \"accuracy\": accuracy,\n",
    "        \"source?\": domain in p.domains_source\n",
    "    }\n",
    "\n",
    "# Do an independent accuracy assesment JUST TO BE SURE!\n",
    "# _source_test_label_accuracy = independent_accuracy_assesment(model, datasets.source.processed.test, p.device)\n",
    "# _target_test_label_accuracy = independent_accuracy_assesment(model, datasets.target.processed.test, p.device)\n",
    "# _source_val_label_accuracy = independent_accuracy_assesment(model, datasets.source.processed.val, p.device)\n",
    "# _target_val_label_accuracy = independent_accuracy_assesment(model, datasets.target.processed.val, p.device)\n",
    "\n",
    "# assert(_source_test_label_accuracy == source_test_label_accuracy)\n",
    "# assert(_target_test_label_accuracy == target_test_label_accuracy)\n",
    "# assert(_source_val_label_accuracy == source_val_label_accuracy)\n",
    "# assert(_target_val_label_accuracy == target_val_label_accuracy)\n",
    "\n",
    "experiment = {\n",
    "    \"experiment_name\": p.experiment_name,\n",
    "    \"parameters\": dict(p),\n",
    "    \"results\": {\n",
    "        \"source_test_label_accuracy\": source_test_label_accuracy,\n",
    "        \"source_test_label_loss\": source_test_label_loss,\n",
    "        \"target_test_label_accuracy\": target_test_label_accuracy,\n",
    "        \"target_test_label_loss\": target_test_label_loss,\n",
    "        \"source_val_label_accuracy\": source_val_label_accuracy,\n",
    "        \"source_val_label_loss\": source_val_label_loss,\n",
    "        \"target_val_label_accuracy\": target_val_label_accuracy,\n",
    "        \"target_val_label_loss\": target_val_label_loss,\n",
    "        \"total_epochs_trained\": total_epochs_trained,\n",
    "        \"total_experiment_time_secs\": total_experiment_time_secs,\n",
    "        \"confusion\": confusion,\n",
    "        \"per_domain_accuracy\": per_domain_accuracy,\n",
    "    },\n",
    "    \"history\": history,\n",
    "    \"dataset_metrics\": get_dataset_metrics(datasets, \"ptn\"),\n",
    "}"
   ]
  },
  {
   "cell_type": "code",
   "execution_count": 25,
   "id": "54a21829",
   "metadata": {
    "execution": {
     "iopub.execute_input": "2022-03-21T09:49:03.761731Z",
     "iopub.status.busy": "2022-03-21T09:49:03.761352Z",
     "iopub.status.idle": "2022-03-21T09:49:03.980036Z",
     "shell.execute_reply": "2022-03-21T09:49:03.979510Z"
    },
    "papermill": {
     "duration": 0.291034,
     "end_time": "2022-03-21T09:49:03.980191",
     "exception": false,
     "start_time": "2022-03-21T09:49:03.689157",
     "status": "completed"
    },
    "tags": []
   },
   "outputs": [
    {
     "data": {
      "image/png": "[encoded data removed]",
      "text/plain": [
       "<Figure size 1080x504 with 1 Axes>"
      ]
     },
     "metadata": {
      "needs_background": "light"
     },
     "output_type": "display_data"
    }
   ],
   "source": [
    "ax = get_loss_curve(experiment)\n",
    "plt.show()"
   ]
  },
  {
   "cell_type": "code",
   "execution_count": 26,
   "id": "fd8a0f60",
   "metadata": {
    "execution": {
     "iopub.execute_input": "2022-03-21T09:49:04.153834Z",
     "iopub.status.busy": "2022-03-21T09:49:04.153455Z",
     "iopub.status.idle": "2022-03-21T09:49:04.464695Z",
     "shell.execute_reply": "2022-03-21T09:49:04.465317Z"
    },
    "papermill": {
     "duration": 0.387059,
     "end_time": "2022-03-21T09:49:04.465559",
     "exception": false,
     "start_time": "2022-03-21T09:49:04.078500",
     "status": "completed"
    },
    "tags": []
   },
   "outputs": [
    {
     "data": {
      "text/plain": [
       "<AxesSubplot:title={'center':'Results'}>"
      ]
     },
     "execution_count": 26,
     "metadata": {},
     "output_type": "execute_result"
    },
    {
     "data": {
      "image/png": "[encoded data removed]",
      "text/plain": [
       "<Figure size 1080x504 with 1 Axes>"
      ]
     },
     "metadata": {
      "needs_background": "light"
     },
     "output_type": "display_data"
    }
   ],
   "source": [
    "get_results_table(experiment)"
   ]
  },
  {
   "cell_type": "code",
   "execution_count": 27,
   "id": "cf8dc689",
   "metadata": {
    "execution": {
     "iopub.execute_input": "2022-03-21T09:49:04.618453Z",
     "iopub.status.busy": "2022-03-21T09:49:04.618068Z",
     "iopub.status.idle": "2022-03-21T09:49:04.910724Z",
     "shell.execute_reply": "2022-03-21T09:49:04.909986Z"
    },
    "papermill": {
     "duration": 0.36835,
     "end_time": "2022-03-21T09:49:04.910917",
     "exception": false,
     "start_time": "2022-03-21T09:49:04.542567",
     "status": "completed"
    },
    "tags": []
   },
   "outputs": [
    {
     "data": {
      "text/plain": [
       "<AxesSubplot:title={'center':'Per Domain Validation Accuracy'}, xlabel='domain'>"
      ]
     },
     "execution_count": 27,
     "metadata": {},
     "output_type": "execute_result"
    },
    {
     "data": {
      "image/png": "[encoded data removed]",
      "text/plain": [
       "<Figure size 1080x504 with 1 Axes>"
      ]
     },
     "metadata": {
      "needs_background": "light"
     },
     "output_type": "display_data"
    }
   ],
   "source": [
    "get_domain_accuracies(experiment)"
   ]
  },
  {
   "cell_type": "code",
   "execution_count": 28,
   "id": "a74ae082",
   "metadata": {
    "execution": {
     "iopub.execute_input": "2022-03-21T09:49:05.066059Z",
     "iopub.status.busy": "2022-03-21T09:49:05.065387Z",
     "iopub.status.idle": "2022-03-21T09:49:05.093334Z",
     "shell.execute_reply": "2022-03-21T09:49:05.092750Z"
    },
    "papermill": {
     "duration": 0.106037,
     "end_time": "2022-03-21T09:49:05.093462",
     "exception": false,
     "start_time": "2022-03-21T09:49:04.987425",
     "status": "completed"
    },
    "tags": []
   },
   "outputs": [
    {
     "name": "stdout",
     "output_type": "stream",
     "text": [
      "Source Test Label Accuracy: 0.95458984375 Target Test Label Accuracy: 0.9294596354166667\n",
      "Source Val Label Accuracy: 0.9517578125 Target Val Label Accuracy: 0.9309244791666667\n"
     ]
    }
   ],
   "source": [
    "print(\"Source Test Label Accuracy:\", experiment[\"results\"][\"source_test_label_accuracy\"], \"Target Test Label Accuracy:\", experiment[\"results\"][\"target_test_label_accuracy\"])\n",
    "print(\"Source Val Label Accuracy:\", experiment[\"results\"][\"source_val_label_accuracy\"], \"Target Val Label Accuracy:\", experiment[\"results\"][\"target_val_label_accuracy\"])"
   ]
  },
  {
   "cell_type": "code",
   "execution_count": 29,
   "id": "dacca602",
   "metadata": {
    "execution": {
     "iopub.execute_input": "2022-03-21T09:49:05.244327Z",
     "iopub.status.busy": "2022-03-21T09:49:05.243943Z",
     "iopub.status.idle": "2022-03-21T09:49:05.272061Z",
     "shell.execute_reply": "2022-03-21T09:49:05.272749Z"
    },
    "papermill": {
     "duration": 0.104546,
     "end_time": "2022-03-21T09:49:05.272965",
     "exception": false,
     "start_time": "2022-03-21T09:49:05.168419",
     "status": "completed"
    },
    "tags": [
     "experiment_json"
    ]
   },
   "outputs": [
    {
     "data": {
      "text/plain": [
       "'{\"experiment_name\": \"tl_1v2:oracle.run1.framed-oracle.run2.framed\", \"parameters\": {\"experiment_name\": \"tl_1v2:oracle.run1.framed-oracle.run2.framed\", \"device\": \"cuda\", \"lr\": 0.0001, \"n_shot\": 3, \"n_query\": 2, \"train_k_factor\": 3, \"val_k_factor\": 2, \"test_k_factor\": 2, \"torch_default_dtype\": \"torch.float32\", \"n_epoch\": 50, \"patience\": 3, \"criteria_for_best\": \"target_accuracy\", \"x_net\": [{\"class\": \"nnReshape\", \"kargs\": {\"shape\": [-1, 1, 2, 256]}}, {\"class\": \"Conv2d\", \"kargs\": {\"in_channels\": 1, \"out_channels\": 256, \"kernel_size\": [1, 7], \"bias\": false, \"padding\": [0, 3]}}, {\"class\": \"ReLU\", \"kargs\": {\"inplace\": true}}, {\"class\": \"BatchNorm2d\", \"kargs\": {\"num_features\": 256}}, {\"class\": \"Conv2d\", \"kargs\": {\"in_channels\": 256, \"out_channels\": 80, \"kernel_size\": [2, 7], \"bias\": true, \"padding\": [0, 3]}}, {\"class\": \"ReLU\", \"kargs\": {\"inplace\": true}}, {\"class\": \"BatchNorm2d\", \"kargs\": {\"num_features\": 80}}, {\"class\": \"Flatten\", \"kargs\": {}}, {\"class\": \"Linear\", \"kargs\": {\"in_features\": 20480, \"out_features\": 256}}, {\"class\": \"ReLU\", \"kargs\": {\"inplace\": true}}, {\"class\": \"BatchNorm1d\", \"kargs\": {\"num_features\": 256}}, {\"class\": \"Linear\", \"kargs\": {\"in_features\": 256, \"out_features\": 256}}], \"NUM_LOGS_PER_EPOCH\": 10, \"BEST_MODEL_PATH\": \"./best_model.pth\", \"n_way\": 16, \"datasets\": [{\"labels\": [\"3123D52\", \"3123D65\", \"3123D79\", \"3123D80\", \"3123D54\", \"3123D70\", \"3123D7B\", \"3123D89\", \"3123D58\", \"3123D76\", \"3123D7D\", \"3123EFE\", \"3123D64\", \"3123D78\", \"3123D7E\", \"3124E4A\"], \"domains\": [32, 38, 8, 44, 14, 50, 20, 26], \"num_examples_per_domain_per_label\": 2000, \"pickle_path\": \"/root/csc500-main/datasets/oracle.Run1_framed_2000Examples_stratified_ds.2022A.pkl\", \"source_or_target_dataset\": \"target\", \"x_transforms\": [], \"episode_transforms\": [], \"domain_prefix\": \"ORACLE.run1_\"}, {\"labels\": [\"3123D52\", \"3123D65\", \"3123D79\", \"3123D80\", \"3123D54\", \"3123D70\", \"3123D7B\", \"3123D89\", \"3123D58\", \"3123D76\", \"3123D7D\", \"3123EFE\", \"3123D64\", \"3123D78\", \"3123D7E\", \"3124E4A\"], \"domains\": [32, 38, 8, 44, 14, 50, 20, 26], \"num_examples_per_domain_per_label\": 2000, \"pickle_path\": \"/root/csc500-main/datasets/oracle.Run2_framed_2000Examples_stratified_ds.2022A.pkl\", \"source_or_target_dataset\": \"source\", \"x_transforms\": [], \"episode_transforms\": [], \"domain_prefix\": \"ORACLE.run2_\"}], \"dataset_seed\": 1337, \"seed\": 1337, \"x_shape\": [2, 256], \"domains_source\": [\"ORACLE.run2_32\", \"ORACLE.run2_38\", \"ORACLE.run2_8\", \"ORACLE.run2_44\", \"ORACLE.run2_14\", \"ORACLE.run2_50\", \"ORACLE.run2_20\", \"ORACLE.run2_26\"], \"domains_target\": [\"ORACLE.run1_32\", \"ORACLE.run1_38\", \"ORACLE.run1_8\", \"ORACLE.run1_44\", \"ORACLE.run1_14\", \"ORACLE.run1_50\", \"ORACLE.run1_20\", \"ORACLE.run1_26\"]}, \"results\": {\"source_test_label_accuracy\": 0.95458984375, \"source_test_label_loss\": 0.12983159720897675, \"target_test_label_accuracy\": 0.9294596354166667, \"target_test_label_loss\": 0.24133644998073578, \"source_val_label_accuracy\": 0.9517578125, \"source_val_label_loss\": 0.13698193430900574, \"target_val_label_accuracy\": 0.9309244791666667, \"target_val_label_loss\": 0.22846388816833496, \"total_epochs_trained\": 15, \"total_experiment_time_secs\": 3763.89760017395, \"confusion\": {\"ORACLE.run2_14\": {\"15\": {\"15\": 240}, \"3\": {\"3\": 238, \"5\": 2}, \"6\": {\"6\": 233, \"13\": 7}, \"1\": {\"1\": 240}, \"8\": {\"8\": 240}, \"10\": {\"10\": 240}, \"9\": {\"9\": 240}, \"13\": {\"13\": 227, \"6\": 13}, \"12\": {\"12\": 223, \"11\": 3, \"2\": 1, \"0\": 6, \"3\": 3, \"14\": 2, \"9\": 2}, \"5\": {\"5\": 232, \"2\": 8}, \"0\": {\"0\": 240}, \"2\": {\"14\": 42, \"2\": 163, \"5\": 26, \"3\": 8, \"12\": 1}, \"11\": {\"11\": 240}, \"14\": {\"2\": 20, \"14\": 220}, \"7\": {\"7\": 240}, \"4\": {\"4\": 240}}, \"ORACLE.run2_20\": {\"3\": {\"2\": 20, \"3\": 200, \"9\": 15, \"7\": 4, \"4\": 1}, \"15\": {\"15\": 223, \"12\": 3, \"9\": 4, \"2\": 5, \"5\": 3, \"3\": 1, \"13\": 1}, \"8\": {\"8\": 233, \"14\": 7}, \"4\": {\"3\": 2, \"4\": 236, \"5\": 2}, \"14\": {\"14\": 235, \"8\": 5}, \"0\": {\"0\": 240}, \"7\": {\"7\": 238, \"3\": 2}, \"6\": {\"6\": 238, \"7\": 1, \"10\": 1}, \"10\": {\"10\": 239, \"6\": 1}, \"5\": {\"5\": 214, \"2\": 14, \"1\": 6, \"15\": 3, \"0\": 1, \"3\": 1, \"8\": 1}, \"2\": {\"2\": 195, \"9\": 24, \"5\": 9, \"3\": 11, \"15\": 1}, \"12\": {\"12\": 239, \"13\": 1}, \"9\": {\"9\": 197, \"2\": 26, \"3\": 17}, \"1\": {\"1\": 237, \"5\": 3}, \"11\": {\"11\": 239, \"0\": 1}, \"13\": {\"13\": 238, \"12\": 2}}, \"ORACLE.run2_38\": {\"5\": {\"8\": 71, \"5\": 166, \"7\": 3}, \"8\": {\"8\": 221, \"5\": 18, \"7\": 1}, \"11\": {\"11\": 239, \"13\": 1}, \"1\": {\"1\": 234, \"15\": 6}, \"10\": {\"10\": 239, \"3\": 1}, \"15\": {\"1\": 31, \"15\": 202, \"5\": 6, \"6\": 1}, \"3\": {\"3\": 170, \"13\": 61, \"10\": 8, \"0\": 1}, \"7\": {\"7\": 240}, \"4\": {\"4\": 240}, \"14\": {\"14\": 203, \"2\": 31, \"12\": 2, \"7\": 3, \"4\": 1}, \"9\": {\"9\": 240}, \"12\": {\"12\": 240}, \"6\": {\"6\": 240}, \"2\": {\"2\": 238, \"14\": 2}, \"0\": {\"0\": 240}, \"13\": {\"13\": 209, \"3\": 29, \"10\": 2}}, \"ORACLE.run2_8\": {\"9\": {\"9\": 240}, \"10\": {\"10\": 231, \"13\": 3, \"5\": 6}, \"13\": {\"13\": 240}, \"0\": {\"0\": 240}, \"1\": {\"1\": 238, \"5\": 1, \"13\": 1}, \"15\": {\"15\": 238, \"12\": 2}, \"5\": {\"5\": 236, \"10\": 4}, \"3\": {\"3\": 240}, \"6\": {\"6\": 240}, \"11\": {\"11\": 229, \"8\": 11}, \"8\": {\"8\": 238, \"11\": 2}, \"4\": {\"4\": 218, \"7\": 22}, \"12\": {\"12\": 238, \"15\": 2}, \"14\": {\"14\": 239, \"6\": 1}, \"2\": {\"2\": 240}, \"7\": {\"7\": 230, \"4\": 10}}, \"ORACLE.run2_50\": {\"7\": {\"7\": 235, \"5\": 3, \"4\": 2}, \"3\": {\"3\": 240}, \"8\": {\"8\": 240}, \"2\": {\"2\": 239, \"0\": 1}, \"14\": {\"14\": 240}, \"4\": {\"4\": 203, \"5\": 37}, \"6\": {\"6\": 236, \"5\": 2, \"4\": 2}, \"15\": {\"15\": 238, \"5\": 1, \"4\": 1}, \"10\": {\"10\": 238, \"13\": 2}, \"11\": {\"11\": 239, \"1\": 1}, \"13\": {\"13\": 237, \"8\": 1, \"10\": 1, \"1\": 1}, \"9\": {\"9\": 240}, \"0\": {\"0\": 238, \"2\": 2}, \"1\": {\"1\": 240}, \"12\": {\"12\": 240}, \"5\": {\"6\": 11, \"5\": 174, \"4\": 46, \"7\": 9}}, \"ORACLE.run2_32\": {\"8\": {\"8\": 229, \"0\": 11}, \"14\": {\"14\": 231, \"2\": 1, \"5\": 2, \"0\": 6}, \"2\": {\"2\": 239, \"7\": 1}, \"0\": {\"0\": 230, \"8\": 8, \"14\": 1, \"4\": 1}, \"1\": {\"1\": 240}, \"10\": {\"10\": 240}, \"11\": {\"11\": 224, \"13\": 4, \"0\": 4, \"4\": 5, \"7\": 3}, \"5\": {\"5\": 230, \"2\": 4, \"7\": 2, \"8\": 2, \"14\": 2}, \"15\": {\"15\": 240}, \"3\": {\"3\": 238, \"13\": 2}, \"12\": {\"12\": 240}, \"7\": {\"7\": 234, \"2\": 2, \"8\": 2, \"0\": 2}, \"13\": {\"13\": 228, \"11\": 5, \"4\": 4, \"3\": 3}, \"6\": {\"6\": 240}, \"4\": {\"4\": 233, \"13\": 5, \"0\": 1, \"11\": 1}, \"9\": {\"9\": 240}}, \"ORACLE.run2_26\": {\"4\": {\"4\": 240}, \"12\": {\"12\": 240}, \"10\": {\"14\": 33, \"8\": 15, \"10\": 122, \"0\": 65, \"6\": 3, \"15\": 2}, \"0\": {\"10\": 33, \"0\": 177, \"14\": 28, \"8\": 2}, \"13\": {\"13\": 240}, \"9\": {\"9\": 232, \"13\": 7, \"8\": 1}, \"3\": {\"3\": 230, \"7\": 10}, \"2\": {\"2\": 223, \"8\": 11, \"7\": 6}, \"5\": {\"5\": 233, \"15\": 1, \"1\": 1, \"6\": 4, \"11\": 1}, \"14\": {\"14\": 211, \"10\": 7, \"0\": 18, \"1\": 4}, \"8\": {\"8\": 228, \"2\": 10, \"10\": 1, \"9\": 1}, \"7\": {\"3\": 17, \"7\": 187, \"2\": 35, \"8\": 1}, \"6\": {\"6\": 239, \"5\": 1}, \"11\": {\"11\": 240}, \"15\": {\"15\": 237, \"0\": 1, \"8\": 1, \"9\": 1}, \"1\": {\"1\": 238, \"14\": 2}}, \"ORACLE.run2_44\": {\"12\": {\"12\": 235, \"3\": 5}, \"7\": {\"9\": 56, \"7\": 184}, \"5\": {\"5\": 236, \"14\": 2, \"15\": 2}, \"15\": {\"15\": 237, \"5\": 2, \"14\": 1}, \"8\": {\"0\": 36, \"8\": 203, \"5\": 1}, \"2\": {\"2\": 240}, \"13\": {\"13\": 234, \"6\": 2, \"4\": 4}, \"4\": {\"4\": 230, \"14\": 10}, \"0\": {\"0\": 187, \"8\": 53}, \"6\": {\"6\": 238, \"7\": 2}, \"9\": {\"7\": 71, \"9\": 169}, \"11\": {\"11\": 239, \"13\": 1}, \"10\": {\"10\": 240}, \"14\": {\"14\": 228, \"5\": 2, \"4\": 10}, \"1\": {\"1\": 240}, \"3\": {\"3\": 235, \"12\": 5}}, \"ORACLE.run1_14\": {\"15\": {\"15\": 240}, \"3\": {\"3\": 240}, \"6\": {\"6\": 163, \"13\": 59, \"2\": 9, \"14\": 9}, \"1\": {\"1\": 240}, \"8\": {\"8\": 240}, \"10\": {\"10\": 240}, \"9\": {\"9\": 240}, \"13\": {\"14\": 39, \"13\": 99, \"2\": 17, \"6\": 65, \"15\": 20}, \"12\": {\"12\": 240}, \"5\": {\"5\": 239, \"14\": 1}, \"0\": {\"0\": 235, \"3\": 5}, \"2\": {\"6\": 17, \"2\": 119, \"14\": 65, \"13\": 17, \"5\": 20, \"4\": 2}, \"11\": {\"11\": 235, \"12\": 5}, \"14\": {\"14\": 224, \"2\": 15, \"13\": 1}, \"7\": {\"7\": 240}, \"4\": {\"4\": 238, \"5\": 2}}, \"ORACLE.run1_20\": {\"3\": {\"3\": 221, \"1\": 10, \"9\": 7, \"5\": 2}, \"15\": {\"15\": 233, \"1\": 6, \"12\": 1}, \"8\": {\"8\": 239, \"5\": 1}, \"4\": {\"4\": 240}, \"14\": {\"14\": 240}, \"0\": {\"0\": 240}, \"7\": {\"7\": 228, \"2\": 12}, \"6\": {\"6\": 240}, \"10\": {\"10\": 240}, \"5\": {\"5\": 237, \"1\": 3}, \"2\": {\"2\": 196, \"12\": 21, \"7\": 17, \"9\": 6}, \"12\": {\"12\": 218, \"2\": 18, \"7\": 2, \"9\": 1, \"15\": 1}, \"9\": {\"9\": 230, \"1\": 4, \"12\": 2, \"3\": 4}, \"1\": {\"1\": 224, \"5\": 6, \"3\": 9, \"9\": 1}, \"11\": {\"11\": 240}, \"13\": {\"13\": 240}}, \"ORACLE.run1_38\": {\"5\": {\"8\": 76, \"7\": 13, \"5\": 137, \"15\": 3, \"9\": 10, \"13\": 1}, \"8\": {\"8\": 180, \"7\": 5, \"5\": 48, \"0\": 1, \"15\": 6}, \"11\": {\"11\": 237, \"3\": 3}, \"1\": {\"1\": 240}, \"10\": {\"10\": 234, \"13\": 6}, \"15\": {\"15\": 237, \"1\": 1, \"5\": 1, \"8\": 1}, \"3\": {\"3\": 240}, \"7\": {\"7\": 238, \"5\": 2}, \"4\": {\"4\": 240}, \"14\": {\"14\": 239, \"2\": 1}, \"9\": {\"9\": 239, \"5\": 1}, \"12\": {\"12\": 240}, \"6\": {\"6\": 240}, \"2\": {\"2\": 235, \"14\": 5}, \"0\": {\"8\": 3, \"7\": 16, \"0\": 189, \"3\": 11, \"11\": 2, \"13\": 8, \"10\": 10, \"5\": 1}, \"13\": {\"13\": 235, \"0\": 1, \"10\": 2, \"2\": 2}}, \"ORACLE.run1_8\": {\"9\": {\"9\": 240}, \"10\": {\"10\": 226, \"13\": 14}, \"13\": {\"13\": 211, \"7\": 11, \"10\": 15, \"6\": 3}, \"0\": {\"0\": 240}, \"1\": {\"1\": 239, \"5\": 1}, \"15\": {\"15\": 229, \"12\": 11}, \"5\": {\"5\": 226, \"1\": 5, \"10\": 9}, \"3\": {\"3\": 240}, \"6\": {\"6\": 237, \"7\": 3}, \"11\": {\"11\": 221, \"1\": 18, \"5\": 1}, \"8\": {\"8\": 240}, \"4\": {\"4\": 238, \"6\": 2}, \"12\": {\"12\": 187, \"15\": 53}, \"14\": {\"14\": 231, \"5\": 3, \"11\": 1, \"4\": 5}, \"2\": {\"2\": 216, \"3\": 21, \"9\": 1, \"12\": 2}, \"7\": {\"7\": 238, \"13\": 1, \"6\": 1}}, \"ORACLE.run1_50\": {\"7\": {\"7\": 237, \"5\": 3}, \"3\": {\"3\": 240}, \"8\": {\"8\": 240}, \"2\": {\"2\": 233, \"0\": 7}, \"14\": {\"14\": 240}, \"4\": {\"4\": 207, \"5\": 23, \"15\": 5, \"7\": 5}, \"6\": {\"6\": 235, \"15\": 2, \"5\": 3}, \"15\": {\"15\": 236, \"6\": 4}, \"10\": {\"10\": 238, \"0\": 1, \"8\": 1}, \"11\": {\"11\": 237, \"12\": 3}, \"13\": {\"13\": 240}, \"9\": {\"9\": 221, \"12\": 6, \"11\": 13}, \"0\": {\"0\": 233, \"10\": 2, \"2\": 5}, \"1\": {\"1\": 238, \"13\": 2}, \"12\": {\"12\": 237, \"9\": 2, \"11\": 1}, \"5\": {\"5\": 154, \"4\": 17, \"7\": 38, \"6\": 14, \"13\": 14, \"15\": 3}}, \"ORACLE.run1_32\": {\"8\": {\"8\": 221, \"0\": 16, \"14\": 3}, \"14\": {\"14\": 213, \"7\": 9, \"8\": 2, \"3\": 2, \"0\": 12, \"5\": 2}, \"2\": {\"2\": 220, \"4\": 20}, \"0\": {\"0\": 221, \"8\": 13, \"14\": 4, \"5\": 1, \"7\": 1}, \"1\": {\"1\": 240}, \"10\": {\"10\": 240}, \"11\": {\"11\": 240}, \"5\": {\"7\": 63, \"5\": 171, \"8\": 4, \"0\": 1, \"14\": 1}, \"15\": {\"15\": 240}, \"3\": {\"3\": 238, \"13\": 2}, \"12\": {\"12\": 240}, \"7\": {\"7\": 211, \"5\": 25, \"14\": 2, \"0\": 2}, \"13\": {\"13\": 210, \"3\": 19, \"4\": 11}, \"6\": {\"6\": 240}, \"4\": {\"2\": 19, \"4\": 220, \"13\": 1}, \"9\": {\"9\": 239, \"12\": 1}}, \"ORACLE.run1_26\": {\"4\": {\"4\": 240}, \"12\": {\"12\": 240}, \"10\": {\"14\": 16, \"10\": 206, \"15\": 2, \"0\": 12, \"6\": 4}, \"0\": {\"0\": 178, \"10\": 40, \"14\": 22}, \"13\": {\"2\": 15, \"13\": 223, \"7\": 1, \"9\": 1}, \"9\": {\"9\": 220, \"13\": 8, \"2\": 4, \"15\": 3, \"8\": 4, \"6\": 1}, \"3\": {\"3\": 236, \"7\": 3, \"2\": 1}, \"2\": {\"2\": 178, \"3\": 16, \"15\": 3, \"7\": 26, \"0\": 2, \"8\": 6, \"10\": 6, \"14\": 1, \"9\": 2}, \"5\": {\"5\": 236, \"15\": 4}, \"14\": {\"10\": 27, \"14\": 206, \"0\": 5, \"1\": 1, \"6\": 1}, \"8\": {\"8\": 214, \"7\": 23, \"9\": 2, \"2\": 1}, \"7\": {\"7\": 222, \"8\": 11, \"2\": 6, \"3\": 1}, \"6\": {\"6\": 223, \"15\": 14, \"10\": 3}, \"11\": {\"11\": 240}, \"15\": {\"15\": 222, \"6\": 13, \"10\": 3, \"5\": 2}, \"1\": {\"1\": 223, \"14\": 15, \"10\": 2}}, \"ORACLE.run1_44\": {\"12\": {\"12\": 239, \"3\": 1}, \"7\": {\"7\": 223, \"9\": 17}, \"5\": {\"5\": 231, \"14\": 4, \"15\": 5}, \"15\": {\"15\": 226, \"8\": 7, \"14\": 4, \"5\": 1, \"0\": 2}, \"8\": {\"0\": 41, \"8\": 187, \"15\": 6, \"5\": 6}, \"2\": {\"2\": 233, \"1\": 7}, \"13\": {\"13\": 206, \"6\": 27, \"9\": 7}, \"4\": {\"4\": 165, \"14\": 75}, \"0\": {\"0\": 218, \"8\": 22}, \"6\": {\"6\": 208, \"9\": 10, \"13\": 22}, \"9\": {\"7\": 65, \"9\": 126, \"6\": 24, \"13\": 23, \"4\": 1, \"2\": 1}, \"11\": {\"11\": 240}, \"10\": {\"10\": 225, \"1\": 11, \"7\": 1, \"2\": 3}, \"14\": {\"14\": 181, \"4\": 49, \"15\": 5, \"5\": 5}, \"1\": {\"1\": 236, \"2\": 4}, \"3\": {\"3\": 240}}}, \"per_domain_accuracy\": {\"ORACLE.run2_14\": {\"accuracy\": 0.9625, \"source?\": true}, \"ORACLE.run2_20\": {\"accuracy\": 0.9481770833333333, \"source?\": true}, \"ORACLE.run2_38\": {\"accuracy\": 0.92734375, \"source?\": true}, \"ORACLE.run2_8\": {\"accuracy\": 0.9830729166666666, \"source?\": true}, \"ORACLE.run2_50\": {\"accuracy\": 0.96796875, \"source?\": true}, \"ORACLE.run2_32\": {\"accuracy\": 0.978125, \"source?\": true}, \"ORACLE.run2_26\": {\"accuracy\": 0.9158854166666667, \"source?\": true}, \"ORACLE.run2_44\": {\"accuracy\": 0.9309895833333334, \"source?\": true}, \"ORACLE.run1_14\": {\"accuracy\": 0.9041666666666667, \"source?\": false}, \"ORACLE.run1_20\": {\"accuracy\": 0.9651041666666667, \"source?\": false}, \"ORACLE.run1_38\": {\"accuracy\": 0.9375, \"source?\": false}, \"ORACLE.run1_8\": {\"accuracy\": 0.9528645833333333, \"source?\": false}, \"ORACLE.run1_50\": {\"accuracy\": 0.9546875, \"source?\": false}, \"ORACLE.run1_32\": {\"accuracy\": 0.9385416666666667, \"source?\": false}, \"ORACLE.run1_26\": {\"accuracy\": 0.91328125, \"source?\": false}, \"ORACLE.run1_44\": {\"accuracy\": 0.88125, \"source?\": false}}}, \"history\": {\"epoch_indices\": [1, 2, 3, 4, 5, 6, 7, 8, 9, 10, 11, 12, 13, 14, 15], \"train_label_loss\": [0.46780571297553947, 0.44951360416799574, 0.2554030914654764, 0.19879355035730745, 0.17685518003065573, 0.16098734471605505, 0.1494526101977369, 0.14255492885423077, 0.13493423324864254, 0.13139387293526744, 0.12412585459113426, 0.11961765904648884, 0.1168385215853797, 0.11554319507665047, 0.11131299163905028], \"source_val_label_loss\": [59.433895111083984, 0.27340608835220337, 0.2428320199251175, 0.213607519865036, 0.18918263912200928, 0.17125742137432098, 0.16598646342754364, 0.167794331908226, 0.14852376282215118, 0.155356302857399, 0.13698193430900574, 0.1361384093761444, 0.1455000936985016, 0.12948305904865265, 0.1289571076631546], \"target_val_label_loss\": [56.091453552246094, 0.32627806067466736, 0.3025141954421997, 0.2827762961387634, 0.2762378752231598, 0.2437034547328949, 0.25449439883232117, 0.2559526562690735, 0.24649429321289062, 0.25734394788742065, 0.22846388816833496, 0.24886366724967957, 0.25681251287460327, 0.24562862515449524, 0.2605108618736267], \"source_val_acc_label\": [0.5375, 0.9170572916666667, 0.92109375, 0.93564453125, 0.9402994791666667, 0.9432291666666667, 0.94072265625, 0.9409830729166667, 0.94873046875, 0.9442057291666667, 0.9517578125, 0.9526692708333333, 0.9509765625, 0.9567708333333333, 0.9563802083333334], \"target_val_acc_label\": [0.5477213541666667, 0.8984375, 0.9013997395833333, 0.9137044270833333, 0.9183919270833333, 0.9218098958333333, 0.91806640625, 0.91875, 0.9261393229166667, 0.9202473958333334, 0.9309244791666667, 0.9280924479166667, 0.9262369791666667, 0.9302408854166667, 0.9291015625]}, \"dataset_metrics\": {\"source\": {\"train\": {\"n_unique_x\": 179200, \"n_unique_y\": 16, \"n_batch/episode\": 6720}, \"val\": {\"n_unique_x\": 38400, \"n_unique_y\": 16, \"n_batch/episode\": 960}, \"test\": {\"n_unique_x\": 38400, \"n_unique_y\": 16, \"n_batch/episode\": 960}}, \"target\": {\"train\": {\"n_unique_x\": 179200, \"n_unique_y\": 16, \"n_batch/episode\": 6720}, \"val\": {\"n_unique_x\": 38400, \"n_unique_y\": 16, \"n_batch/episode\": 960}, \"test\": {\"n_unique_x\": 38400, \"n_unique_y\": 16, \"n_batch/episode\": 960}}}}'"
      ]
     },
     "execution_count": 29,
     "metadata": {},
     "output_type": "execute_result"
    }
   ],
   "source": [
    "json.dumps(experiment)"
   ]
  }
 ],
 "metadata": {
  "celltoolbar": "Tags",
  "kernelspec": {
   "display_name": "Python 3 (ipykernel)",
   "language": "python",
   "name": "python3"
  },
  "language_info": {
   "codemirror_mode": {
    "name": "ipython",
    "version": 3
   },
   "file_extension": ".py",
   "mimetype": "text/x-python",
   "name": "python",
   "nbconvert_exporter": "python",
   "pygments_lexer": "ipython3",
   "version": "3.8.12"
  },
  "papermill": {
   "default_parameters": {},
   "duration": 4026.559951,
   "end_time": "2022-03-21T09:49:07.276225",
   "environment_variables": {},
   "exception": null,
   "input_path": "/root/csc500-main/csc500-notebooks/templates/tl_ptn_template.ipynb",
   "output_path": "trial.ipynb",
   "parameters": {
    "parameters": {
     "BEST_MODEL_PATH": "./best_model.pth",
     "NUM_LOGS_PER_EPOCH": 10,
     "criteria_for_best": "target_accuracy",
     "dataset_seed": 1337,
     "datasets": [
      {
       "domain_prefix": "ORACLE.run1_",
       "domains": [
        32,
        38,
        8,
        44,
        14,
        50,
        20,
        26
       ],
       "episode_transforms": [],
       "labels": [
        "3123D52",
        "3123D65",
        "3123D79",
        "3123D80",
        "3123D54",
        "3123D70",
        "3123D7B",
        "3123D89",
        "3123D58",
        "3123D76",
        "3123D7D",
        "3123EFE",
        "3123D64",
        "3123D78",
        "3123D7E",
        "3124E4A"
       ],
       "num_examples_per_domain_per_label": 2000,
       "pickle_path": "/root/csc500-main/datasets/oracle.Run1_framed_2000Examples_stratified_ds.2022A.pkl",
       "source_or_target_dataset": "target",
       "x_transforms": []
      },
      {
       "domain_prefix": "ORACLE.run2_",
       "domains": [
        32,
        38,
        8,
        44,
        14,
        50,
        20,
        26
       ],
       "episode_transforms": [],
       "labels": [
        "3123D52",
        "3123D65",
        "3123D79",
        "3123D80",
        "3123D54",
        "3123D70",
        "3123D7B",
        "3123D89",
        "3123D58",
        "3123D76",
        "3123D7D",
        "3123EFE",
        "3123D64",
        "3123D78",
        "3123D7E",
        "3124E4A"
       ],
       "num_examples_per_domain_per_label": 2000,
       "pickle_path": "/root/csc500-main/datasets/oracle.Run2_framed_2000Examples_stratified_ds.2022A.pkl",
       "source_or_target_dataset": "source",
       "x_transforms": []
      }
     ],
     "device": "cuda",
     "experiment_name": "tl_1v2:oracle.run1.framed-oracle.run2.framed",
     "lr": 0.0001,
     "n_epoch": 50,
     "n_query": 2,
     "n_shot": 3,
     "n_way": 16,
     "patience": 3,
     "seed": 1337,
     "test_k_factor": 2,
     "torch_default_dtype": "torch.float32",
     "train_k_factor": 3,
     "val_k_factor": 2,
     "x_net": [
      {
       "class": "nnReshape",
       "kargs": {
        "shape": [
         -1,
         1,
         2,
         256
        ]
       }
      },
      {
       "class": "Conv2d",
       "kargs": {
        "bias": false,
        "in_channels": 1,
        "kernel_size": [
         1,
         7
        ],
        "out_channels": 256,
        "padding": [
         0,
         3
        ]
       }
      },
      {
       "class": "ReLU",
       "kargs": {
        "inplace": true
       }
      },
      {
       "class": "BatchNorm2d",
       "kargs": {
        "num_features": 256
       }
      },
      {
       "class": "Conv2d",
       "kargs": {
        "bias": true,
        "in_channels": 256,
        "kernel_size": [
         2,
         7
        ],
        "out_channels": 80,
        "padding": [
         0,
         3
        ]
       }
      },
      {
       "class": "ReLU",
       "kargs": {
        "inplace": true
       }
      },
      {
       "class": "BatchNorm2d",
       "kargs": {
        "num_features": 80
       }
      },
      {
       "class": "Flatten",
       "kargs": {}
      },
      {
       "class": "Linear",
       "kargs": {
        "in_features": 20480,
        "out_features": 256
       }
      },
      {
       "class": "ReLU",
       "kargs": {
        "inplace": true
       }
      },
      {
       "class": "BatchNorm1d",
       "kargs": {
        "num_features": 256
       }
      },
      {
       "class": "Linear",
       "kargs": {
        "in_features": 256,
        "out_features": 256
       }
      }
     ]
    }
   },
   "start_time": "2022-03-21T08:42:00.716274",
   "version": "2.3.4"
  }
 },
 "nbformat": 4,
 "nbformat_minor": 5
}