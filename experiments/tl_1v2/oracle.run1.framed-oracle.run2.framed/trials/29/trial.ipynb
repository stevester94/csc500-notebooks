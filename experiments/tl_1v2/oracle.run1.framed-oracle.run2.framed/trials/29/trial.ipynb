{
 "cells": [
  {
   "cell_type": "markdown",
   "id": "9fea5f46",
   "metadata": {
    "papermill": {
     "duration": 0.029616,
     "end_time": "2022-03-22T10:29:17.322458",
     "exception": false,
     "start_time": "2022-03-22T10:29:17.292842",
     "status": "completed"
    },
    "tags": []
   },
   "source": [
    "# Transfer Learning Template"
   ]
  },
  {
   "cell_type": "code",
   "execution_count": 1,
   "id": "0902182a",
   "metadata": {
    "execution": {
     "iopub.execute_input": "2022-03-22T10:29:17.384540Z",
     "iopub.status.busy": "2022-03-22T10:29:17.382751Z",
     "iopub.status.idle": "2022-03-22T10:29:19.219394Z",
     "shell.execute_reply": "2022-03-22T10:29:19.218562Z"
    },
    "papermill": {
     "duration": 1.874935,
     "end_time": "2022-03-22T10:29:19.219612",
     "exception": false,
     "start_time": "2022-03-22T10:29:17.344677",
     "status": "completed"
    },
    "tags": []
   },
   "outputs": [],
   "source": [
    "%load_ext autoreload\n",
    "%autoreload 2\n",
    "%matplotlib inline\n",
    "\n",
    "    \n",
    "import os, json, sys, time, random\n",
    "import numpy as np\n",
    "import torch\n",
    "from torch.optim import Adam\n",
    "from  easydict import EasyDict\n",
    "import matplotlib.pyplot as plt\n",
    "\n",
    "from steves_models.steves_ptn import Steves_Prototypical_Network\n",
    "\n",
    "from steves_utils.lazy_iterable_wrapper import Lazy_Iterable_Wrapper\n",
    "from steves_utils.iterable_aggregator import Iterable_Aggregator\n",
    "from steves_utils.ptn_train_eval_test_jig import  PTN_Train_Eval_Test_Jig\n",
    "from steves_utils.torch_sequential_builder import build_sequential\n",
    "from steves_utils.torch_utils import get_dataset_metrics, ptn_confusion_by_domain_over_dataloader\n",
    "from steves_utils.utils_v2 import (per_domain_accuracy_from_confusion, get_datasets_base_path)\n",
    "from steves_utils.PTN.utils import independent_accuracy_assesment\n",
    "\n",
    "from torch.utils.data import DataLoader\n",
    "\n",
    "from steves_utils.stratified_dataset.episodic_accessor import Episodic_Accessor_Factory\n",
    "\n",
    "from steves_utils.ptn_do_report import (\n",
    "    get_loss_curve,\n",
    "    get_results_table,\n",
    "    get_parameters_table,\n",
    "    get_domain_accuracies,\n",
    ")\n",
    "\n",
    "from steves_utils.transforms import get_chained_transform"
   ]
  },
  {
   "cell_type": "markdown",
   "id": "41c840b4",
   "metadata": {
    "papermill": {
     "duration": 0.019348,
     "end_time": "2022-03-22T10:29:19.263715",
     "exception": false,
     "start_time": "2022-03-22T10:29:19.244367",
     "status": "completed"
    },
    "tags": []
   },
   "source": [
    "# Allowed Parameters\n",
    "These are allowed parameters, not defaults\n",
    "Each of these values need to be present in the injected parameters (the notebook will raise an exception if they are not present)\n",
    "\n",
    "Papermill uses the cell tag \"parameters\" to inject the real parameters below this cell.\n",
    "Enable tags to see what I mean"
   ]
  },
  {
   "cell_type": "code",
   "execution_count": 2,
   "id": "fd44eb83",
   "metadata": {
    "execution": {
     "iopub.execute_input": "2022-03-22T10:29:19.307774Z",
     "iopub.status.busy": "2022-03-22T10:29:19.307188Z",
     "iopub.status.idle": "2022-03-22T10:29:19.333868Z",
     "shell.execute_reply": "2022-03-22T10:29:19.333158Z"
    },
    "papermill": {
     "duration": 0.051347,
     "end_time": "2022-03-22T10:29:19.334023",
     "exception": false,
     "start_time": "2022-03-22T10:29:19.282676",
     "status": "completed"
    },
    "tags": []
   },
   "outputs": [],
   "source": [
    "required_parameters = {\n",
    "    \"experiment_name\",\n",
    "    \"lr\",\n",
    "    \"device\",\n",
    "    \"seed\",\n",
    "    \"dataset_seed\",\n",
    "    \"n_shot\",\n",
    "    \"n_query\",\n",
    "    \"n_way\",\n",
    "    \"train_k_factor\",\n",
    "    \"val_k_factor\",\n",
    "    \"test_k_factor\",\n",
    "    \"n_epoch\",\n",
    "    \"patience\",\n",
    "    \"criteria_for_best\",\n",
    "    \"x_net\",\n",
    "    \"datasets\",\n",
    "    \"torch_default_dtype\",\n",
    "    \"NUM_LOGS_PER_EPOCH\",\n",
    "    \"BEST_MODEL_PATH\",\n",
    "    \"x_shape\",\n",
    "}"
   ]
  },
  {
   "cell_type": "code",
   "execution_count": 3,
   "id": "fa3f0049",
   "metadata": {
    "execution": {
     "iopub.execute_input": "2022-03-22T10:29:19.393708Z",
     "iopub.status.busy": "2022-03-22T10:29:19.393043Z",
     "iopub.status.idle": "2022-03-22T10:29:19.416454Z",
     "shell.execute_reply": "2022-03-22T10:29:19.415640Z"
    },
    "papermill": {
     "duration": 0.057289,
     "end_time": "2022-03-22T10:29:19.416606",
     "exception": false,
     "start_time": "2022-03-22T10:29:19.359317",
     "status": "completed"
    },
    "tags": [
     "parameters"
    ]
   },
   "outputs": [],
   "source": [
    "from steves_utils.CORES.utils import (\n",
    "    ALL_NODES,\n",
    "    ALL_NODES_MINIMUM_1000_EXAMPLES,\n",
    "    ALL_DAYS\n",
    ")\n",
    "\n",
    "from steves_utils.ORACLE.utils_v2 import (\n",
    "    ALL_DISTANCES_FEET_NARROWED,\n",
    "    ALL_RUNS,\n",
    "    ALL_SERIAL_NUMBERS,\n",
    ")\n",
    "\n",
    "standalone_parameters = {}\n",
    "standalone_parameters[\"experiment_name\"] = \"STANDALONE PTN\"\n",
    "standalone_parameters[\"lr\"] = 0.001\n",
    "standalone_parameters[\"device\"] = \"cuda\"\n",
    "\n",
    "standalone_parameters[\"seed\"] = 1337\n",
    "standalone_parameters[\"dataset_seed\"] = 1337\n",
    "\n",
    "standalone_parameters[\"n_way\"] = 8\n",
    "standalone_parameters[\"n_shot\"] = 3\n",
    "standalone_parameters[\"n_query\"]  = 2\n",
    "standalone_parameters[\"train_k_factor\"] = 1\n",
    "standalone_parameters[\"val_k_factor\"] = 2\n",
    "standalone_parameters[\"test_k_factor\"] = 2\n",
    "\n",
    "\n",
    "standalone_parameters[\"n_epoch\"] = 50\n",
    "\n",
    "standalone_parameters[\"patience\"] = 10\n",
    "standalone_parameters[\"criteria_for_best\"] = \"source_loss\"\n",
    "\n",
    "standalone_parameters[\"datasets\"] = [\n",
    "    {\n",
    "        \"labels\": ALL_SERIAL_NUMBERS,\n",
    "        \"domains\": ALL_DISTANCES_FEET_NARROWED,\n",
    "        \"num_examples_per_domain_per_label\": 100,\n",
    "        \"pickle_path\": os.path.join(get_datasets_base_path(), \"oracle.Run1_framed_2000Examples_stratified_ds.2022A.pkl\"),\n",
    "        \"source_or_target_dataset\": \"source\",\n",
    "        \"x_transforms\": [\"unit_mag\", \"minus_two\"],\n",
    "        \"episode_transforms\": [],\n",
    "        \"domain_prefix\": \"ORACLE_\"\n",
    "    },\n",
    "    {\n",
    "        \"labels\": ALL_NODES,\n",
    "        \"domains\": ALL_DAYS,\n",
    "        \"num_examples_per_domain_per_label\": 100,\n",
    "        \"pickle_path\": os.path.join(get_datasets_base_path(), \"cores.stratified_ds.2022A.pkl\"),\n",
    "        \"source_or_target_dataset\": \"target\",\n",
    "        \"x_transforms\": [\"unit_power\", \"times_zero\"],\n",
    "        \"episode_transforms\": [],\n",
    "        \"domain_prefix\": \"CORES_\"\n",
    "    }   \n",
    "]\n",
    "\n",
    "standalone_parameters[\"torch_default_dtype\"] = \"torch.float32\" \n",
    "\n",
    "\n",
    "\n",
    "standalone_parameters[\"x_net\"] =     [\n",
    "    {\"class\": \"nnReshape\", \"kargs\": {\"shape\":[-1, 1, 2, 256]}},\n",
    "    {\"class\": \"Conv2d\", \"kargs\": { \"in_channels\":1, \"out_channels\":256, \"kernel_size\":(1,7), \"bias\":False, \"padding\":(0,3), },},\n",
    "    {\"class\": \"ReLU\", \"kargs\": {\"inplace\": True}},\n",
    "    {\"class\": \"BatchNorm2d\", \"kargs\": {\"num_features\":256}},\n",
    "\n",
    "    {\"class\": \"Conv2d\", \"kargs\": { \"in_channels\":256, \"out_channels\":80, \"kernel_size\":(2,7), \"bias\":True, \"padding\":(0,3), },},\n",
    "    {\"class\": \"ReLU\", \"kargs\": {\"inplace\": True}},\n",
    "    {\"class\": \"BatchNorm2d\", \"kargs\": {\"num_features\":80}},\n",
    "    {\"class\": \"Flatten\", \"kargs\": {}},\n",
    "\n",
    "    {\"class\": \"Linear\", \"kargs\": {\"in_features\": 80*256, \"out_features\": 256}}, # 80 units per IQ pair\n",
    "    {\"class\": \"ReLU\", \"kargs\": {\"inplace\": True}},\n",
    "    {\"class\": \"BatchNorm1d\", \"kargs\": {\"num_features\":256}},\n",
    "\n",
    "    {\"class\": \"Linear\", \"kargs\": {\"in_features\": 256, \"out_features\": 256}},\n",
    "]\n",
    "\n",
    "# Parameters relevant to results\n",
    "# These parameters will basically never need to change\n",
    "standalone_parameters[\"NUM_LOGS_PER_EPOCH\"] = 10\n",
    "standalone_parameters[\"BEST_MODEL_PATH\"] = \"./best_model.pth\"\n",
    "\n",
    "\n",
    "\n",
    "\n"
   ]
  },
  {
   "cell_type": "code",
   "execution_count": 4,
   "id": "28211056",
   "metadata": {
    "execution": {
     "iopub.execute_input": "2022-03-22T10:29:19.474650Z",
     "iopub.status.busy": "2022-03-22T10:29:19.473852Z",
     "iopub.status.idle": "2022-03-22T10:29:19.496867Z",
     "shell.execute_reply": "2022-03-22T10:29:19.496212Z"
    },
    "papermill": {
     "duration": 0.056958,
     "end_time": "2022-03-22T10:29:19.497020",
     "exception": false,
     "start_time": "2022-03-22T10:29:19.440062",
     "status": "completed"
    },
    "tags": [
     "injected-parameters"
    ]
   },
   "outputs": [],
   "source": [
    "# Parameters\n",
    "parameters = {\n",
    "    \"experiment_name\": \"tl_1v2:oracle.run1.framed-oracle.run2.framed\",\n",
    "    \"device\": \"cuda\",\n",
    "    \"lr\": 0.0001,\n",
    "    \"n_shot\": 3,\n",
    "    \"n_query\": 2,\n",
    "    \"train_k_factor\": 3,\n",
    "    \"val_k_factor\": 2,\n",
    "    \"test_k_factor\": 2,\n",
    "    \"torch_default_dtype\": \"torch.float32\",\n",
    "    \"n_epoch\": 50,\n",
    "    \"patience\": 3,\n",
    "    \"criteria_for_best\": \"target_accuracy\",\n",
    "    \"x_net\": [\n",
    "        {\"class\": \"nnReshape\", \"kargs\": {\"shape\": [-1, 1, 2, 256]}},\n",
    "        {\n",
    "            \"class\": \"Conv2d\",\n",
    "            \"kargs\": {\n",
    "                \"in_channels\": 1,\n",
    "                \"out_channels\": 256,\n",
    "                \"kernel_size\": [1, 7],\n",
    "                \"bias\": False,\n",
    "                \"padding\": [0, 3],\n",
    "            },\n",
    "        },\n",
    "        {\"class\": \"ReLU\", \"kargs\": {\"inplace\": True}},\n",
    "        {\"class\": \"BatchNorm2d\", \"kargs\": {\"num_features\": 256}},\n",
    "        {\n",
    "            \"class\": \"Conv2d\",\n",
    "            \"kargs\": {\n",
    "                \"in_channels\": 256,\n",
    "                \"out_channels\": 80,\n",
    "                \"kernel_size\": [2, 7],\n",
    "                \"bias\": True,\n",
    "                \"padding\": [0, 3],\n",
    "            },\n",
    "        },\n",
    "        {\"class\": \"ReLU\", \"kargs\": {\"inplace\": True}},\n",
    "        {\"class\": \"BatchNorm2d\", \"kargs\": {\"num_features\": 80}},\n",
    "        {\"class\": \"Flatten\", \"kargs\": {}},\n",
    "        {\"class\": \"Linear\", \"kargs\": {\"in_features\": 20480, \"out_features\": 256}},\n",
    "        {\"class\": \"ReLU\", \"kargs\": {\"inplace\": True}},\n",
    "        {\"class\": \"BatchNorm1d\", \"kargs\": {\"num_features\": 256}},\n",
    "        {\"class\": \"Linear\", \"kargs\": {\"in_features\": 256, \"out_features\": 256}},\n",
    "    ],\n",
    "    \"NUM_LOGS_PER_EPOCH\": 10,\n",
    "    \"BEST_MODEL_PATH\": \"./best_model.pth\",\n",
    "    \"n_way\": 16,\n",
    "    \"datasets\": [\n",
    "        {\n",
    "            \"labels\": [\n",
    "                \"3123D52\",\n",
    "                \"3123D65\",\n",
    "                \"3123D79\",\n",
    "                \"3123D80\",\n",
    "                \"3123D54\",\n",
    "                \"3123D70\",\n",
    "                \"3123D7B\",\n",
    "                \"3123D89\",\n",
    "                \"3123D58\",\n",
    "                \"3123D76\",\n",
    "                \"3123D7D\",\n",
    "                \"3123EFE\",\n",
    "                \"3123D64\",\n",
    "                \"3123D78\",\n",
    "                \"3123D7E\",\n",
    "                \"3124E4A\",\n",
    "            ],\n",
    "            \"domains\": [32, 38, 8, 44, 14, 50, 20, 26],\n",
    "            \"num_examples_per_domain_per_label\": 2000,\n",
    "            \"pickle_path\": \"/root/csc500-main/datasets/oracle.Run1_framed_2000Examples_stratified_ds.2022A.pkl\",\n",
    "            \"source_or_target_dataset\": \"target\",\n",
    "            \"x_transforms\": [],\n",
    "            \"episode_transforms\": [],\n",
    "            \"domain_prefix\": \"ORACLE.run1_\",\n",
    "        },\n",
    "        {\n",
    "            \"labels\": [\n",
    "                \"3123D52\",\n",
    "                \"3123D65\",\n",
    "                \"3123D79\",\n",
    "                \"3123D80\",\n",
    "                \"3123D54\",\n",
    "                \"3123D70\",\n",
    "                \"3123D7B\",\n",
    "                \"3123D89\",\n",
    "                \"3123D58\",\n",
    "                \"3123D76\",\n",
    "                \"3123D7D\",\n",
    "                \"3123EFE\",\n",
    "                \"3123D64\",\n",
    "                \"3123D78\",\n",
    "                \"3123D7E\",\n",
    "                \"3124E4A\",\n",
    "            ],\n",
    "            \"domains\": [32, 38, 8, 44, 14, 50, 20, 26],\n",
    "            \"num_examples_per_domain_per_label\": 2000,\n",
    "            \"pickle_path\": \"/root/csc500-main/datasets/oracle.Run2_framed_2000Examples_stratified_ds.2022A.pkl\",\n",
    "            \"source_or_target_dataset\": \"source\",\n",
    "            \"x_transforms\": [],\n",
    "            \"episode_transforms\": [],\n",
    "            \"domain_prefix\": \"ORACLE.run2_\",\n",
    "        },\n",
    "    ],\n",
    "    \"dataset_seed\": 500,\n",
    "    \"seed\": 500,\n",
    "}\n"
   ]
  },
  {
   "cell_type": "code",
   "execution_count": 5,
   "id": "8fa1cc33",
   "metadata": {
    "execution": {
     "iopub.execute_input": "2022-03-22T10:29:19.546531Z",
     "iopub.status.busy": "2022-03-22T10:29:19.545969Z",
     "iopub.status.idle": "2022-03-22T10:29:19.569437Z",
     "shell.execute_reply": "2022-03-22T10:29:19.568735Z"
    },
    "papermill": {
     "duration": 0.048919,
     "end_time": "2022-03-22T10:29:19.569587",
     "exception": false,
     "start_time": "2022-03-22T10:29:19.520668",
     "status": "completed"
    },
    "tags": []
   },
   "outputs": [],
   "source": [
    "# Set this to True if you want to run this template directly\n",
    "STANDALONE = False\n",
    "if STANDALONE:\n",
    "    print(\"parameters not injected, running with standalone_parameters\")\n",
    "    parameters = standalone_parameters\n",
    "\n",
    "if not 'parameters' in locals() and not 'parameters' in globals():\n",
    "    raise Exception(\"Parameter injection failed\")\n",
    "\n",
    "#Use an easy dict for all the parameters\n",
    "p = EasyDict(parameters)\n",
    "\n",
    "if \"x_shape\" not in p:\n",
    "    p.x_shape = [2,256] # Default to this if we dont supply x_shape\n",
    "\n",
    "\n",
    "supplied_keys = set(p.keys())\n",
    "\n",
    "if  supplied_keys != required_parameters:\n",
    "    print(\"Parameters are incorrect\")\n",
    "    if len(supplied_keys - required_parameters)>0: print(\"Shouldn't have:\", str(supplied_keys - required_parameters))\n",
    "    if len(required_parameters - supplied_keys)>0: print(\"Need to have:\", str(required_parameters - supplied_keys))\n",
    "    raise RuntimeError(\"Parameters are incorrect\")"
   ]
  },
  {
   "cell_type": "code",
   "execution_count": 6,
   "id": "3a028d58",
   "metadata": {
    "execution": {
     "iopub.execute_input": "2022-03-22T10:29:19.621527Z",
     "iopub.status.busy": "2022-03-22T10:29:19.621161Z",
     "iopub.status.idle": "2022-03-22T10:29:19.642922Z",
     "shell.execute_reply": "2022-03-22T10:29:19.642227Z"
    },
    "papermill": {
     "duration": 0.045939,
     "end_time": "2022-03-22T10:29:19.643074",
     "exception": false,
     "start_time": "2022-03-22T10:29:19.597135",
     "status": "completed"
    },
    "tags": []
   },
   "outputs": [],
   "source": [
    "###################################\n",
    "# Set the RNGs and make it all deterministic\n",
    "###################################\n",
    "np.random.seed(p.seed)\n",
    "random.seed(p.seed)\n",
    "torch.manual_seed(p.seed)\n",
    "\n",
    "torch.use_deterministic_algorithms(True) "
   ]
  },
  {
   "cell_type": "code",
   "execution_count": 7,
   "id": "b691acf6",
   "metadata": {
    "execution": {
     "iopub.execute_input": "2022-03-22T10:29:19.693691Z",
     "iopub.status.busy": "2022-03-22T10:29:19.693334Z",
     "iopub.status.idle": "2022-03-22T10:29:19.713597Z",
     "shell.execute_reply": "2022-03-22T10:29:19.714251Z"
    },
    "papermill": {
     "duration": 0.044318,
     "end_time": "2022-03-22T10:29:19.714425",
     "exception": false,
     "start_time": "2022-03-22T10:29:19.670107",
     "status": "completed"
    },
    "tags": []
   },
   "outputs": [],
   "source": [
    "###########################################\n",
    "# The stratified datasets honor this\n",
    "###########################################\n",
    "torch.set_default_dtype(eval(p.torch_default_dtype))"
   ]
  },
  {
   "cell_type": "code",
   "execution_count": 8,
   "id": "b5fba671",
   "metadata": {
    "execution": {
     "iopub.execute_input": "2022-03-22T10:29:19.768817Z",
     "iopub.status.busy": "2022-03-22T10:29:19.767779Z",
     "iopub.status.idle": "2022-03-22T10:29:19.819337Z",
     "shell.execute_reply": "2022-03-22T10:29:19.818531Z"
    },
    "papermill": {
     "duration": 0.077702,
     "end_time": "2022-03-22T10:29:19.819519",
     "exception": false,
     "start_time": "2022-03-22T10:29:19.741817",
     "status": "completed"
    },
    "tags": []
   },
   "outputs": [],
   "source": [
    "###################################\n",
    "# Build the network(s)\n",
    "# Note: It's critical to do this AFTER setting the RNG\n",
    "###################################\n",
    "x_net = build_sequential(p.x_net)"
   ]
  },
  {
   "cell_type": "code",
   "execution_count": 9,
   "id": "5d7e61cc",
   "metadata": {
    "execution": {
     "iopub.execute_input": "2022-03-22T10:29:19.868138Z",
     "iopub.status.busy": "2022-03-22T10:29:19.867774Z",
     "iopub.status.idle": "2022-03-22T10:29:19.907171Z",
     "shell.execute_reply": "2022-03-22T10:29:19.906363Z"
    },
    "papermill": {
     "duration": 0.063693,
     "end_time": "2022-03-22T10:29:19.907327",
     "exception": false,
     "start_time": "2022-03-22T10:29:19.843634",
     "status": "completed"
    },
    "tags": []
   },
   "outputs": [],
   "source": [
    "start_time_secs = time.time()"
   ]
  },
  {
   "cell_type": "code",
   "execution_count": 10,
   "id": "c6b67dfd",
   "metadata": {
    "execution": {
     "iopub.execute_input": "2022-03-22T10:29:19.958997Z",
     "iopub.status.busy": "2022-03-22T10:29:19.958454Z",
     "iopub.status.idle": "2022-03-22T10:29:19.983779Z",
     "shell.execute_reply": "2022-03-22T10:29:19.983053Z"
    },
    "papermill": {
     "duration": 0.049587,
     "end_time": "2022-03-22T10:29:19.983930",
     "exception": false,
     "start_time": "2022-03-22T10:29:19.934343",
     "status": "completed"
    },
    "tags": []
   },
   "outputs": [],
   "source": [
    "p.domains_source = []\n",
    "p.domains_target = []\n",
    "\n",
    "\n",
    "train_original_source = []\n",
    "val_original_source   = []\n",
    "test_original_source  = []\n",
    "\n",
    "train_original_target = []\n",
    "val_original_target   = []\n",
    "test_original_target  = []"
   ]
  },
  {
   "cell_type": "code",
   "execution_count": 11,
   "id": "e3d9c3d3",
   "metadata": {
    "execution": {
     "iopub.execute_input": "2022-03-22T10:29:20.033846Z",
     "iopub.status.busy": "2022-03-22T10:29:20.033487Z",
     "iopub.status.idle": "2022-03-22T10:29:20.054123Z",
     "shell.execute_reply": "2022-03-22T10:29:20.053328Z"
    },
    "papermill": {
     "duration": 0.04387,
     "end_time": "2022-03-22T10:29:20.054274",
     "exception": false,
     "start_time": "2022-03-22T10:29:20.010404",
     "status": "completed"
    },
    "tags": []
   },
   "outputs": [],
   "source": [
    "# global_x_transform_func = lambda x: normalize(x.to(torch.get_default_dtype()), \"unit_power\") # unit_power, unit_mag\n",
    "# global_x_transform_func = lambda x: normalize(x, \"unit_power\") # unit_power, unit_mag"
   ]
  },
  {
   "cell_type": "code",
   "execution_count": 12,
   "id": "acb78fd2",
   "metadata": {
    "execution": {
     "iopub.execute_input": "2022-03-22T10:29:20.111545Z",
     "iopub.status.busy": "2022-03-22T10:29:20.110694Z",
     "iopub.status.idle": "2022-03-22T10:29:20.128517Z",
     "shell.execute_reply": "2022-03-22T10:29:20.127792Z"
    },
    "papermill": {
     "duration": 0.049442,
     "end_time": "2022-03-22T10:29:20.128668",
     "exception": false,
     "start_time": "2022-03-22T10:29:20.079226",
     "status": "completed"
    },
    "tags": []
   },
   "outputs": [],
   "source": [
    "def add_dataset(\n",
    "    labels,\n",
    "    domains,\n",
    "    pickle_path,\n",
    "    x_transforms,\n",
    "    episode_transforms,\n",
    "    domain_prefix,\n",
    "    num_examples_per_domain_per_label,\n",
    "    source_or_target_dataset:str,\n",
    "    iterator_seed=p.seed,\n",
    "    dataset_seed=p.dataset_seed,\n",
    "    n_shot=p.n_shot,\n",
    "    n_way=p.n_way,\n",
    "    n_query=p.n_query,\n",
    "    train_val_test_k_factors=(p.train_k_factor,p.val_k_factor,p.test_k_factor),\n",
    "):\n",
    "   \n",
    "    if x_transforms == []: x_transform = None\n",
    "    else: x_transform = get_chained_transform(x_transforms)\n",
    "    \n",
    "    if episode_transforms == []: episode_transform = None\n",
    "    else: raise Exception(\"episode_transforms not implemented\")\n",
    "    \n",
    "    episode_transform = lambda tup, _prefix=domain_prefix: (_prefix + str(tup[0]), tup[1])\n",
    "\n",
    "\n",
    "    eaf = Episodic_Accessor_Factory(\n",
    "        labels=labels,\n",
    "        domains=domains,\n",
    "        num_examples_per_domain_per_label=num_examples_per_domain_per_label,\n",
    "        iterator_seed=iterator_seed,\n",
    "        dataset_seed=dataset_seed,\n",
    "        n_shot=n_shot,\n",
    "        n_way=n_way,\n",
    "        n_query=n_query,\n",
    "        train_val_test_k_factors=train_val_test_k_factors,\n",
    "        pickle_path=pickle_path,\n",
    "        x_transform_func=x_transform,\n",
    "    )\n",
    "\n",
    "    train, val, test = eaf.get_train(), eaf.get_val(), eaf.get_test()\n",
    "    train = Lazy_Iterable_Wrapper(train, episode_transform)\n",
    "    val = Lazy_Iterable_Wrapper(val, episode_transform)\n",
    "    test = Lazy_Iterable_Wrapper(test, episode_transform)\n",
    "\n",
    "    if source_or_target_dataset==\"source\":\n",
    "        train_original_source.append(train)\n",
    "        val_original_source.append(val)\n",
    "        test_original_source.append(test)\n",
    "\n",
    "        p.domains_source.extend(\n",
    "            [domain_prefix + str(u) for u in domains]\n",
    "        )\n",
    "    elif source_or_target_dataset==\"target\":\n",
    "        train_original_target.append(train)\n",
    "        val_original_target.append(val)\n",
    "        test_original_target.append(test)\n",
    "        p.domains_target.extend(\n",
    "            [domain_prefix + str(u) for u in domains]\n",
    "        )\n",
    "    else:\n",
    "        raise Exception(f\"invalid source_or_target_dataset: {source_or_target_dataset}\")\n",
    "    "
   ]
  },
  {
   "cell_type": "code",
   "execution_count": 13,
   "id": "fe266617",
   "metadata": {
    "execution": {
     "iopub.execute_input": "2022-03-22T10:29:20.180986Z",
     "iopub.status.busy": "2022-03-22T10:29:20.177145Z",
     "iopub.status.idle": "2022-03-22T10:29:23.720147Z",
     "shell.execute_reply": "2022-03-22T10:29:23.719286Z"
    },
    "papermill": {
     "duration": 3.568304,
     "end_time": "2022-03-22T10:29:23.720321",
     "exception": false,
     "start_time": "2022-03-22T10:29:20.152017",
     "status": "completed"
    },
    "tags": []
   },
   "outputs": [],
   "source": [
    "for ds in p.datasets:\n",
    "    add_dataset(**ds)"
   ]
  },
  {
   "cell_type": "code",
   "execution_count": 14,
   "id": "b90d65ac",
   "metadata": {
    "execution": {
     "iopub.execute_input": "2022-03-22T10:29:23.768959Z",
     "iopub.status.busy": "2022-03-22T10:29:23.768591Z",
     "iopub.status.idle": "2022-03-22T10:29:23.795056Z",
     "shell.execute_reply": "2022-03-22T10:29:23.794268Z"
    },
    "papermill": {
     "duration": 0.050344,
     "end_time": "2022-03-22T10:29:23.795209",
     "exception": false,
     "start_time": "2022-03-22T10:29:23.744865",
     "status": "completed"
    },
    "tags": []
   },
   "outputs": [],
   "source": [
    "# from steves_utils.CORES.utils import (\n",
    "#     ALL_NODES,\n",
    "#     ALL_NODES_MINIMUM_1000_EXAMPLES,\n",
    "#     ALL_DAYS\n",
    "# )\n",
    "\n",
    "# add_dataset(\n",
    "#     labels=ALL_NODES,\n",
    "#     domains = ALL_DAYS,\n",
    "#     num_examples_per_domain_per_label=100,\n",
    "#     pickle_path=os.path.join(get_datasets_base_path(), \"cores.stratified_ds.2022A.pkl\"),\n",
    "#     source_or_target_dataset=\"target\",\n",
    "#     x_transform_func=global_x_transform_func,\n",
    "#     domain_modifier=lambda u: f\"cores_{u}\"\n",
    "# )"
   ]
  },
  {
   "cell_type": "code",
   "execution_count": 15,
   "id": "76db484d",
   "metadata": {
    "execution": {
     "iopub.execute_input": "2022-03-22T10:29:23.855288Z",
     "iopub.status.busy": "2022-03-22T10:29:23.854737Z",
     "iopub.status.idle": "2022-03-22T10:29:23.867604Z",
     "shell.execute_reply": "2022-03-22T10:29:23.866776Z"
    },
    "papermill": {
     "duration": 0.043438,
     "end_time": "2022-03-22T10:29:23.867756",
     "exception": false,
     "start_time": "2022-03-22T10:29:23.824318",
     "status": "completed"
    },
    "tags": []
   },
   "outputs": [],
   "source": [
    "# from steves_utils.ORACLE.utils_v2 import (\n",
    "#     ALL_DISTANCES_FEET,\n",
    "#     ALL_RUNS,\n",
    "#     ALL_SERIAL_NUMBERS,\n",
    "# )\n",
    "\n",
    "\n",
    "# add_dataset(\n",
    "#     labels=ALL_SERIAL_NUMBERS,\n",
    "#     domains = list(set(ALL_DISTANCES_FEET) - {2,62}),\n",
    "#     num_examples_per_domain_per_label=100,\n",
    "#     pickle_path=os.path.join(get_datasets_base_path(), \"oracle.Run2_framed_2000Examples_stratified_ds.2022A.pkl\"),\n",
    "#     source_or_target_dataset=\"source\",\n",
    "#     x_transform_func=global_x_transform_func,\n",
    "#     domain_modifier=lambda u: f\"oracle1_{u}\"\n",
    "# )\n"
   ]
  },
  {
   "cell_type": "code",
   "execution_count": 16,
   "id": "97dea9d2",
   "metadata": {
    "execution": {
     "iopub.execute_input": "2022-03-22T10:29:23.916899Z",
     "iopub.status.busy": "2022-03-22T10:29:23.916388Z",
     "iopub.status.idle": "2022-03-22T10:29:23.938136Z",
     "shell.execute_reply": "2022-03-22T10:29:23.937352Z"
    },
    "papermill": {
     "duration": 0.044348,
     "end_time": "2022-03-22T10:29:23.938286",
     "exception": false,
     "start_time": "2022-03-22T10:29:23.893938",
     "status": "completed"
    },
    "tags": []
   },
   "outputs": [],
   "source": [
    "# from steves_utils.ORACLE.utils_v2 import (\n",
    "#     ALL_DISTANCES_FEET,\n",
    "#     ALL_RUNS,\n",
    "#     ALL_SERIAL_NUMBERS,\n",
    "# )\n",
    "\n",
    "\n",
    "# add_dataset(\n",
    "#     labels=ALL_SERIAL_NUMBERS,\n",
    "#     domains = list(set(ALL_DISTANCES_FEET) - {2,62,56}),\n",
    "#     num_examples_per_domain_per_label=100,\n",
    "#     pickle_path=os.path.join(get_datasets_base_path(), \"oracle.Run2_framed_2000Examples_stratified_ds.2022A.pkl\"),\n",
    "#     source_or_target_dataset=\"source\",\n",
    "#     x_transform_func=global_x_transform_func,\n",
    "#     domain_modifier=lambda u: f\"oracle2_{u}\"\n",
    "# )"
   ]
  },
  {
   "cell_type": "code",
   "execution_count": 17,
   "id": "6f289866",
   "metadata": {
    "execution": {
     "iopub.execute_input": "2022-03-22T10:29:23.986815Z",
     "iopub.status.busy": "2022-03-22T10:29:23.984926Z",
     "iopub.status.idle": "2022-03-22T10:29:24.010370Z",
     "shell.execute_reply": "2022-03-22T10:29:24.009581Z"
    },
    "papermill": {
     "duration": 0.047367,
     "end_time": "2022-03-22T10:29:24.010521",
     "exception": false,
     "start_time": "2022-03-22T10:29:23.963154",
     "status": "completed"
    },
    "tags": []
   },
   "outputs": [],
   "source": [
    "# add_dataset(\n",
    "#     labels=list(range(19)),\n",
    "#     domains = [0,1,2],\n",
    "#     num_examples_per_domain_per_label=100,\n",
    "#     pickle_path=os.path.join(get_datasets_base_path(), \"metehan.stratified_ds.2022A.pkl\"),\n",
    "#     source_or_target_dataset=\"target\",\n",
    "#     x_transform_func=global_x_transform_func,\n",
    "#     domain_modifier=lambda u: f\"met_{u}\"\n",
    "# )"
   ]
  },
  {
   "cell_type": "code",
   "execution_count": 18,
   "id": "86a863c3",
   "metadata": {
    "execution": {
     "iopub.execute_input": "2022-03-22T10:29:24.066079Z",
     "iopub.status.busy": "2022-03-22T10:29:24.059054Z",
     "iopub.status.idle": "2022-03-22T10:29:24.079901Z",
     "shell.execute_reply": "2022-03-22T10:29:24.079083Z"
    },
    "papermill": {
     "duration": 0.044005,
     "end_time": "2022-03-22T10:29:24.080054",
     "exception": false,
     "start_time": "2022-03-22T10:29:24.036049",
     "status": "completed"
    },
    "tags": []
   },
   "outputs": [],
   "source": [
    "# # from steves_utils.wisig.utils import (\n",
    "# #     ALL_NODES_MINIMUM_100_EXAMPLES,\n",
    "# #     ALL_NODES_MINIMUM_500_EXAMPLES,\n",
    "# #     ALL_NODES_MINIMUM_1000_EXAMPLES,\n",
    "# #     ALL_DAYS\n",
    "# # )\n",
    "\n",
    "# import steves_utils.wisig.utils as wisig\n",
    "\n",
    "\n",
    "# add_dataset(\n",
    "#     labels=wisig.ALL_NODES_MINIMUM_100_EXAMPLES,\n",
    "#     domains = wisig.ALL_DAYS,\n",
    "#     num_examples_per_domain_per_label=100,\n",
    "#     pickle_path=os.path.join(get_datasets_base_path(), \"wisig.node3-19.stratified_ds.2022A.pkl\"),\n",
    "#     source_or_target_dataset=\"target\",\n",
    "#     x_transform_func=global_x_transform_func,\n",
    "#     domain_modifier=lambda u: f\"wisig_{u}\"\n",
    "# )"
   ]
  },
  {
   "cell_type": "code",
   "execution_count": 19,
   "id": "fd5442bc",
   "metadata": {
    "execution": {
     "iopub.execute_input": "2022-03-22T10:29:24.134885Z",
     "iopub.status.busy": "2022-03-22T10:29:24.133122Z",
     "iopub.status.idle": "2022-03-22T10:29:24.152340Z",
     "shell.execute_reply": "2022-03-22T10:29:24.151527Z"
    },
    "papermill": {
     "duration": 0.047484,
     "end_time": "2022-03-22T10:29:24.152491",
     "exception": false,
     "start_time": "2022-03-22T10:29:24.105007",
     "status": "completed"
    },
    "tags": []
   },
   "outputs": [],
   "source": [
    "###################################\n",
    "# Build the dataset\n",
    "###################################\n",
    "train_original_source = Iterable_Aggregator(train_original_source, p.seed)\n",
    "val_original_source = Iterable_Aggregator(val_original_source, p.seed)\n",
    "test_original_source = Iterable_Aggregator(test_original_source, p.seed)\n",
    "\n",
    "\n",
    "train_original_target = Iterable_Aggregator(train_original_target, p.seed)\n",
    "val_original_target = Iterable_Aggregator(val_original_target, p.seed)\n",
    "test_original_target = Iterable_Aggregator(test_original_target, p.seed)\n",
    "\n",
    "# For CNN We only use X and Y. And we only train on the source.\n",
    "# Properly form the data using a transform lambda and Lazy_Iterable_Wrapper. Finally wrap them in a dataloader\n",
    "\n",
    "transform_lambda = lambda ex: ex[1] # Original is (<domain>, <episode>) so we strip down to episode only\n",
    "\n",
    "train_processed_source = Lazy_Iterable_Wrapper(train_original_source, transform_lambda)\n",
    "val_processed_source   = Lazy_Iterable_Wrapper(val_original_source, transform_lambda)\n",
    "test_processed_source  = Lazy_Iterable_Wrapper(test_original_source, transform_lambda)\n",
    "\n",
    "train_processed_target = Lazy_Iterable_Wrapper(train_original_target, transform_lambda)\n",
    "val_processed_target   = Lazy_Iterable_Wrapper(val_original_target, transform_lambda)\n",
    "test_processed_target  = Lazy_Iterable_Wrapper(test_original_target, transform_lambda)\n",
    "\n",
    "datasets = EasyDict({\n",
    "    \"source\": {\n",
    "        \"original\": {\"train\":train_original_source, \"val\":val_original_source, \"test\":test_original_source},\n",
    "        \"processed\": {\"train\":train_processed_source, \"val\":val_processed_source, \"test\":test_processed_source}\n",
    "    },\n",
    "    \"target\": {\n",
    "        \"original\": {\"train\":train_original_target, \"val\":val_original_target, \"test\":test_original_target},\n",
    "        \"processed\": {\"train\":train_processed_target, \"val\":val_processed_target, \"test\":test_processed_target}\n",
    "    },\n",
    "})"
   ]
  },
  {
   "cell_type": "code",
   "execution_count": 20,
   "id": "5b3c01fc",
   "metadata": {
    "execution": {
     "iopub.execute_input": "2022-03-22T10:29:24.208248Z",
     "iopub.status.busy": "2022-03-22T10:29:24.206352Z",
     "iopub.status.idle": "2022-03-22T10:29:39.318434Z",
     "shell.execute_reply": "2022-03-22T10:29:39.317665Z"
    },
    "papermill": {
     "duration": 15.13738,
     "end_time": "2022-03-22T10:29:39.318607",
     "exception": false,
     "start_time": "2022-03-22T10:29:24.181227",
     "status": "completed"
    },
    "tags": []
   },
   "outputs": [
    {
     "name": "stdout",
     "output_type": "stream",
     "text": [
      "{'ORACLE.run2_38', 'ORACLE.run2_14', 'ORACLE.run2_8', 'ORACLE.run2_32', 'ORACLE.run2_50', 'ORACLE.run2_26', 'ORACLE.run2_20', 'ORACLE.run2_44'}\n"
     ]
    },
    {
     "name": "stdout",
     "output_type": "stream",
     "text": [
      "{'ORACLE.run1_44', 'ORACLE.run1_14', 'ORACLE.run1_20', 'ORACLE.run1_38', 'ORACLE.run1_50', 'ORACLE.run1_32', 'ORACLE.run1_26', 'ORACLE.run1_8'}\n"
     ]
    },
    {
     "name": "stdout",
     "output_type": "stream",
     "text": [
      "tensor([[[ 3.3570e-04,  4.8830e-04, -1.6785e-03,  ..., -8.5452e-04,\n",
      "           2.3804e-03,  1.2818e-03],\n",
      "         [ 0.0000e+00,  1.5259e-03, -4.5778e-04,  ..., -1.5564e-03,\n",
      "          -5.4933e-04, -1.9837e-03]],\n",
      "\n",
      "        [[-5.7985e-04, -1.7396e-03,  1.0681e-03,  ...,  1.6480e-03,\n",
      "          -1.5564e-03, -4.5778e-04],\n",
      "         [-3.0519e-05, -1.0987e-03, -5.7985e-04,  ...,  6.7141e-04,\n",
      "           1.4649e-03,  2.1668e-03]],\n",
      "\n",
      "        [[ 6.1037e-05, -5.4933e-04, -7.0193e-04,  ...,  5.1881e-04,\n",
      "           1.6785e-03,  1.0376e-03],\n",
      "         [ 7.3244e-04,  1.7090e-03, -1.7701e-03,  ..., -1.1292e-03,\n",
      "           1.0071e-03, -2.1363e-03]],\n",
      "\n",
      "        ...,\n",
      "\n",
      "        [[ 2.1668e-03,  1.0987e-03, -2.3194e-03,  ..., -9.4607e-04,\n",
      "           4.5778e-04, -2.6246e-03],\n",
      "         [-9.1556e-04,  1.0987e-03,  1.0071e-03,  ..., -1.7090e-03,\n",
      "          -2.3499e-03, -7.6296e-04]],\n",
      "\n",
      "        [[-2.7467e-04,  1.4039e-03,  2.7467e-04,  ..., -2.0753e-03,\n",
      "          -1.0987e-03, -1.8311e-03],\n",
      "         [-1.9837e-03, -9.1556e-04,  2.5636e-03,  ...,  5.7985e-04,\n",
      "          -1.9837e-03,  1.0376e-03]],\n",
      "\n",
      "        [[-5.7985e-04, -2.0142e-03,  3.0519e-04,  ...,  2.1058e-03,\n",
      "           1.8311e-03,  2.0753e-03],\n",
      "         [ 1.8311e-03,  4.2726e-04, -2.3194e-03,  ..., -3.0519e-05,\n",
      "           1.9532e-03, -1.7396e-03]]])\n"
     ]
    }
   ],
   "source": [
    "from steves_utils.transforms import get_average_magnitude, get_average_power\n",
    "\n",
    "print(set([u for u,_ in val_original_source]))\n",
    "print(set([u for u,_ in val_original_target]))\n",
    "\n",
    "s_x, s_y, q_x, q_y, _ = next(iter(train_processed_source))\n",
    "print(s_x)\n",
    "\n",
    "# for ds in [\n",
    "#     train_processed_source,\n",
    "#     val_processed_source,\n",
    "#     test_processed_source,\n",
    "#     train_processed_target,\n",
    "#     val_processed_target,\n",
    "#     test_processed_target\n",
    "# ]:\n",
    "#     for s_x, s_y, q_x, q_y, _ in ds:\n",
    "#         for X in (s_x, q_x):\n",
    "#             for x in X:\n",
    "#                 assert np.isclose(get_average_magnitude(x.numpy()), 1.0)\n",
    "#                 assert np.isclose(get_average_power(x.numpy()), 1.0)\n",
    "                "
   ]
  },
  {
   "cell_type": "code",
   "execution_count": 21,
   "id": "bbdacba1",
   "metadata": {
    "execution": {
     "iopub.execute_input": "2022-03-22T10:29:39.371814Z",
     "iopub.status.busy": "2022-03-22T10:29:39.371423Z",
     "iopub.status.idle": "2022-03-22T10:29:39.580090Z",
     "shell.execute_reply": "2022-03-22T10:29:39.579365Z"
    },
    "papermill": {
     "duration": 0.235976,
     "end_time": "2022-03-22T10:29:39.580276",
     "exception": false,
     "start_time": "2022-03-22T10:29:39.344300",
     "status": "completed"
    },
    "tags": []
   },
   "outputs": [
    {
     "name": "stdout",
     "output_type": "stream",
     "text": [
      "(2, 256)\n"
     ]
    }
   ],
   "source": [
    "###################################\n",
    "# Build the model\n",
    "###################################\n",
    "# easfsl only wants a tuple for the shape\n",
    "model = Steves_Prototypical_Network(x_net, device=p.device, x_shape=tuple(p.x_shape))\n",
    "optimizer = Adam(params=model.parameters(), lr=p.lr)"
   ]
  },
  {
   "cell_type": "code",
   "execution_count": 22,
   "id": "22b39ac5",
   "metadata": {
    "execution": {
     "iopub.execute_input": "2022-03-22T10:29:39.633547Z",
     "iopub.status.busy": "2022-03-22T10:29:39.633178Z",
     "iopub.status.idle": "2022-03-22T11:07:48.631894Z",
     "shell.execute_reply": "2022-03-22T11:07:48.631546Z"
    },
    "papermill": {
     "duration": 2289.024692,
     "end_time": "2022-03-22T11:07:48.631990",
     "exception": false,
     "start_time": "2022-03-22T10:29:39.607298",
     "status": "completed"
    },
    "tags": []
   },
   "outputs": [
    {
     "name": "stdout",
     "output_type": "stream",
     "text": [
      "epoch: 1, [batch: 1 / 6720], examples_per_second: 34.1040, train_label_loss: 2.7343, \n"
     ]
    },
    {
     "name": "stdout",
     "output_type": "stream",
     "text": [
      "epoch: 1, [batch: 672 / 6720], examples_per_second: 2967.7430, train_label_loss: 0.9145, \n"
     ]
    },
    {
     "name": "stdout",
     "output_type": "stream",
     "text": [
      "epoch: 1, [batch: 1344 / 6720], examples_per_second: 3344.6173, train_label_loss: 0.3856, \n"
     ]
    },
    {
     "name": "stdout",
     "output_type": "stream",
     "text": [
      "epoch: 1, [batch: 2016 / 6720], examples_per_second: 3455.6461, train_label_loss: 0.3014, \n"
     ]
    },
    {
     "name": "stdout",
     "output_type": "stream",
     "text": [
      "epoch: 1, [batch: 2688 / 6720], examples_per_second: 3436.6844, train_label_loss: 0.2893, \n"
     ]
    },
    {
     "name": "stdout",
     "output_type": "stream",
     "text": [
      "epoch: 1, [batch: 3360 / 6720], examples_per_second: 2946.4844, train_label_loss: 0.2920, \n"
     ]
    },
    {
     "name": "stdout",
     "output_type": "stream",
     "text": [
      "epoch: 1, [batch: 4032 / 6720], examples_per_second: 2949.7765, train_label_loss: 0.3857, \n"
     ]
    },
    {
     "name": "stdout",
     "output_type": "stream",
     "text": [
      "epoch: 1, [batch: 4704 / 6720], examples_per_second: 2927.4428, train_label_loss: 0.3823, \n"
     ]
    },
    {
     "name": "stdout",
     "output_type": "stream",
     "text": [
      "epoch: 1, [batch: 5376 / 6720], examples_per_second: 3086.4987, train_label_loss: 0.1247, \n"
     ]
    },
    {
     "name": "stdout",
     "output_type": "stream",
     "text": [
      "epoch: 1, [batch: 6048 / 6720], examples_per_second: 3394.2131, train_label_loss: 0.0400, \n"
     ]
    },
    {
     "name": "stdout",
     "output_type": "stream",
     "text": [
      "=============================================================\n",
      "epoch: 1, source_val_acc_label: 0.6366, target_val_acc_label: 0.6049, source_val_label_loss: 242.6913, target_val_label_loss: 255.2215, \n",
      "=============================================================\n"
     ]
    },
    {
     "name": "stdout",
     "output_type": "stream",
     "text": [
      "New best\n"
     ]
    },
    {
     "name": "stdout",
     "output_type": "stream",
     "text": [
      "epoch: 2, [batch: 1 / 6720], examples_per_second: 3.1248, train_label_loss: 216.9095, \n"
     ]
    },
    {
     "name": "stdout",
     "output_type": "stream",
     "text": [
      "epoch: 2, [batch: 672 / 6720], examples_per_second: 3378.6891, train_label_loss: 10.3531, \n"
     ]
    },
    {
     "name": "stdout",
     "output_type": "stream",
     "text": [
      "epoch: 2, [batch: 1344 / 6720], examples_per_second: 3761.6238, train_label_loss: 5.3035, \n"
     ]
    },
    {
     "name": "stdout",
     "output_type": "stream",
     "text": [
      "epoch: 2, [batch: 2016 / 6720], examples_per_second: 3714.9435, train_label_loss: 0.1194, \n"
     ]
    },
    {
     "name": "stdout",
     "output_type": "stream",
     "text": [
      "epoch: 2, [batch: 2688 / 6720], examples_per_second: 3678.6032, train_label_loss: 1.7097, \n"
     ]
    },
    {
     "name": "stdout",
     "output_type": "stream",
     "text": [
      "epoch: 2, [batch: 3360 / 6720], examples_per_second: 3409.6744, train_label_loss: 0.9297, \n"
     ]
    },
    {
     "name": "stdout",
     "output_type": "stream",
     "text": [
      "epoch: 2, [batch: 4032 / 6720], examples_per_second: 3394.9203, train_label_loss: 0.8254, \n"
     ]
    },
    {
     "name": "stdout",
     "output_type": "stream",
     "text": [
      "epoch: 2, [batch: 4704 / 6720], examples_per_second: 3392.2182, train_label_loss: 0.5333, \n"
     ]
    },
    {
     "name": "stdout",
     "output_type": "stream",
     "text": [
      "epoch: 2, [batch: 5376 / 6720], examples_per_second: 3518.5389, train_label_loss: 0.1519, \n"
     ]
    },
    {
     "name": "stdout",
     "output_type": "stream",
     "text": [
      "epoch: 2, [batch: 6048 / 6720], examples_per_second: 3430.3629, train_label_loss: 0.2287, \n"
     ]
    },
    {
     "name": "stdout",
     "output_type": "stream",
     "text": [
      "=============================================================\n",
      "epoch: 2, source_val_acc_label: 0.9116, target_val_acc_label: 0.9032, source_val_label_loss: 0.2717, target_val_label_loss: 0.2889, \n",
      "=============================================================\n"
     ]
    },
    {
     "name": "stdout",
     "output_type": "stream",
     "text": [
      "New best\n"
     ]
    },
    {
     "name": "stdout",
     "output_type": "stream",
     "text": [
      "epoch: 3, [batch: 1 / 6720], examples_per_second: 3.1145, train_label_loss: 0.5063, \n"
     ]
    },
    {
     "name": "stdout",
     "output_type": "stream",
     "text": [
      "epoch: 3, [batch: 672 / 6720], examples_per_second: 3414.3143, train_label_loss: 0.2576, \n"
     ]
    },
    {
     "name": "stdout",
     "output_type": "stream",
     "text": [
      "epoch: 3, [batch: 1344 / 6720], examples_per_second: 3872.6756, train_label_loss: 0.1737, \n"
     ]
    },
    {
     "name": "stdout",
     "output_type": "stream",
     "text": [
      "epoch: 3, [batch: 2016 / 6720], examples_per_second: 3749.8372, train_label_loss: 1.8025, \n"
     ]
    },
    {
     "name": "stdout",
     "output_type": "stream",
     "text": [
      "epoch: 3, [batch: 2688 / 6720], examples_per_second: 3488.8061, train_label_loss: 0.1387, \n"
     ]
    },
    {
     "name": "stdout",
     "output_type": "stream",
     "text": [
      "epoch: 3, [batch: 3360 / 6720], examples_per_second: 3369.6688, train_label_loss: 0.4291, \n"
     ]
    },
    {
     "name": "stdout",
     "output_type": "stream",
     "text": [
      "epoch: 3, [batch: 4032 / 6720], examples_per_second: 3413.0929, train_label_loss: 0.0964, \n"
     ]
    },
    {
     "name": "stdout",
     "output_type": "stream",
     "text": [
      "epoch: 3, [batch: 4704 / 6720], examples_per_second: 3345.9181, train_label_loss: 0.1717, \n"
     ]
    },
    {
     "name": "stdout",
     "output_type": "stream",
     "text": [
      "epoch: 3, [batch: 5376 / 6720], examples_per_second: 3432.3427, train_label_loss: 0.5084, \n"
     ]
    },
    {
     "name": "stdout",
     "output_type": "stream",
     "text": [
      "epoch: 3, [batch: 6048 / 6720], examples_per_second: 3439.8715, train_label_loss: 0.1695, \n"
     ]
    },
    {
     "name": "stdout",
     "output_type": "stream",
     "text": [
      "=============================================================\n",
      "epoch: 3, source_val_acc_label: 0.9270, target_val_acc_label: 0.9061, source_val_label_loss: 0.2528, target_val_label_loss: 0.3176, \n",
      "=============================================================\n"
     ]
    },
    {
     "name": "stdout",
     "output_type": "stream",
     "text": [
      "New best\n"
     ]
    },
    {
     "name": "stdout",
     "output_type": "stream",
     "text": [
      "epoch: 4, [batch: 1 / 6720], examples_per_second: 3.1546, train_label_loss: 0.1672, \n"
     ]
    },
    {
     "name": "stdout",
     "output_type": "stream",
     "text": [
      "epoch: 4, [batch: 672 / 6720], examples_per_second: 3937.3613, train_label_loss: 0.2591, \n"
     ]
    },
    {
     "name": "stdout",
     "output_type": "stream",
     "text": [
      "epoch: 4, [batch: 1344 / 6720], examples_per_second: 4289.3950, train_label_loss: 0.1062, \n"
     ]
    },
    {
     "name": "stdout",
     "output_type": "stream",
     "text": [
      "epoch: 4, [batch: 2016 / 6720], examples_per_second: 4697.0461, train_label_loss: 0.0409, \n"
     ]
    },
    {
     "name": "stdout",
     "output_type": "stream",
     "text": [
      "epoch: 4, [batch: 2688 / 6720], examples_per_second: 3919.8900, train_label_loss: 0.4735, \n"
     ]
    },
    {
     "name": "stdout",
     "output_type": "stream",
     "text": [
      "epoch: 4, [batch: 3360 / 6720], examples_per_second: 4016.9432, train_label_loss: 0.5313, \n"
     ]
    },
    {
     "name": "stdout",
     "output_type": "stream",
     "text": [
      "epoch: 4, [batch: 4032 / 6720], examples_per_second: 3966.7252, train_label_loss: 0.2949, \n"
     ]
    },
    {
     "name": "stdout",
     "output_type": "stream",
     "text": [
      "epoch: 4, [batch: 4704 / 6720], examples_per_second: 3982.0101, train_label_loss: 0.4376, \n"
     ]
    },
    {
     "name": "stdout",
     "output_type": "stream",
     "text": [
      "epoch: 4, [batch: 5376 / 6720], examples_per_second: 4006.0816, train_label_loss: 0.2113, \n"
     ]
    },
    {
     "name": "stdout",
     "output_type": "stream",
     "text": [
      "epoch: 4, [batch: 6048 / 6720], examples_per_second: 4004.8019, train_label_loss: 0.0616, \n"
     ]
    },
    {
     "name": "stdout",
     "output_type": "stream",
     "text": [
      "=============================================================\n",
      "epoch: 4, source_val_acc_label: 0.9335, target_val_acc_label: 0.9142, source_val_label_loss: 0.2055, target_val_label_loss: 0.2769, \n",
      "=============================================================\n"
     ]
    },
    {
     "name": "stdout",
     "output_type": "stream",
     "text": [
      "New best\n"
     ]
    },
    {
     "name": "stdout",
     "output_type": "stream",
     "text": [
      "epoch: 5, [batch: 1 / 6720], examples_per_second: 3.9362, train_label_loss: 0.0870, \n"
     ]
    },
    {
     "name": "stdout",
     "output_type": "stream",
     "text": [
      "epoch: 5, [batch: 672 / 6720], examples_per_second: 4062.3667, train_label_loss: 0.0633, \n"
     ]
    },
    {
     "name": "stdout",
     "output_type": "stream",
     "text": [
      "epoch: 5, [batch: 1344 / 6720], examples_per_second: 4412.2984, train_label_loss: 0.0699, \n"
     ]
    },
    {
     "name": "stdout",
     "output_type": "stream",
     "text": [
      "epoch: 5, [batch: 2016 / 6720], examples_per_second: 4737.5104, train_label_loss: 0.1617, \n"
     ]
    },
    {
     "name": "stdout",
     "output_type": "stream",
     "text": [
      "epoch: 5, [batch: 2688 / 6720], examples_per_second: 4063.4278, train_label_loss: 0.1144, \n"
     ]
    },
    {
     "name": "stdout",
     "output_type": "stream",
     "text": [
      "epoch: 5, [batch: 3360 / 6720], examples_per_second: 4001.3159, train_label_loss: 0.1366, \n"
     ]
    },
    {
     "name": "stdout",
     "output_type": "stream",
     "text": [
      "epoch: 5, [batch: 4032 / 6720], examples_per_second: 4001.9607, train_label_loss: 0.0568, \n"
     ]
    },
    {
     "name": "stdout",
     "output_type": "stream",
     "text": [
      "epoch: 5, [batch: 4704 / 6720], examples_per_second: 3934.4711, train_label_loss: 0.1267, \n"
     ]
    },
    {
     "name": "stdout",
     "output_type": "stream",
     "text": [
      "epoch: 5, [batch: 5376 / 6720], examples_per_second: 3913.5324, train_label_loss: 0.1856, \n"
     ]
    },
    {
     "name": "stdout",
     "output_type": "stream",
     "text": [
      "epoch: 5, [batch: 6048 / 6720], examples_per_second: 3878.5448, train_label_loss: 0.0274, \n"
     ]
    },
    {
     "name": "stdout",
     "output_type": "stream",
     "text": [
      "=============================================================\n",
      "epoch: 5, source_val_acc_label: 0.9398, target_val_acc_label: 0.9163, source_val_label_loss: 0.1854, target_val_label_loss: 0.2870, \n",
      "=============================================================\n"
     ]
    },
    {
     "name": "stdout",
     "output_type": "stream",
     "text": [
      "New best\n"
     ]
    },
    {
     "name": "stdout",
     "output_type": "stream",
     "text": [
      "epoch: 6, [batch: 1 / 6720], examples_per_second: 3.9612, train_label_loss: 0.1739, \n"
     ]
    },
    {
     "name": "stdout",
     "output_type": "stream",
     "text": [
      "epoch: 6, [batch: 672 / 6720], examples_per_second: 4057.2751, train_label_loss: 0.1712, \n"
     ]
    },
    {
     "name": "stdout",
     "output_type": "stream",
     "text": [
      "epoch: 6, [batch: 1344 / 6720], examples_per_second: 4347.5709, train_label_loss: 0.0696, \n"
     ]
    },
    {
     "name": "stdout",
     "output_type": "stream",
     "text": [
      "epoch: 6, [batch: 2016 / 6720], examples_per_second: 4623.6484, train_label_loss: 0.1731, \n"
     ]
    },
    {
     "name": "stdout",
     "output_type": "stream",
     "text": [
      "epoch: 6, [batch: 2688 / 6720], examples_per_second: 3831.3725, train_label_loss: 0.0257, \n"
     ]
    },
    {
     "name": "stdout",
     "output_type": "stream",
     "text": [
      "epoch: 6, [batch: 3360 / 6720], examples_per_second: 3942.0849, train_label_loss: 0.0636, \n"
     ]
    },
    {
     "name": "stdout",
     "output_type": "stream",
     "text": [
      "epoch: 6, [batch: 4032 / 6720], examples_per_second: 3938.1038, train_label_loss: 0.1424, \n"
     ]
    },
    {
     "name": "stdout",
     "output_type": "stream",
     "text": [
      "epoch: 6, [batch: 4704 / 6720], examples_per_second: 3796.6098, train_label_loss: 0.1565, \n"
     ]
    },
    {
     "name": "stdout",
     "output_type": "stream",
     "text": [
      "epoch: 6, [batch: 5376 / 6720], examples_per_second: 3913.2185, train_label_loss: 0.1739, \n"
     ]
    },
    {
     "name": "stdout",
     "output_type": "stream",
     "text": [
      "epoch: 6, [batch: 6048 / 6720], examples_per_second: 3920.4657, train_label_loss: 0.1287, \n"
     ]
    },
    {
     "name": "stdout",
     "output_type": "stream",
     "text": [
      "=============================================================\n",
      "epoch: 6, source_val_acc_label: 0.9487, target_val_acc_label: 0.9245, source_val_label_loss: 0.1661, target_val_label_loss: 0.2679, \n",
      "=============================================================\n"
     ]
    },
    {
     "name": "stdout",
     "output_type": "stream",
     "text": [
      "New best\n"
     ]
    },
    {
     "name": "stdout",
     "output_type": "stream",
     "text": [
      "epoch: 7, [batch: 1 / 6720], examples_per_second: 2.8251, train_label_loss: 0.1386, \n"
     ]
    },
    {
     "name": "stdout",
     "output_type": "stream",
     "text": [
      "epoch: 7, [batch: 672 / 6720], examples_per_second: 3267.7440, train_label_loss: 0.0476, \n"
     ]
    },
    {
     "name": "stdout",
     "output_type": "stream",
     "text": [
      "epoch: 7, [batch: 1344 / 6720], examples_per_second: 3416.2439, train_label_loss: 0.3583, \n"
     ]
    },
    {
     "name": "stdout",
     "output_type": "stream",
     "text": [
      "epoch: 7, [batch: 2016 / 6720], examples_per_second: 3445.1642, train_label_loss: 0.1590, \n"
     ]
    },
    {
     "name": "stdout",
     "output_type": "stream",
     "text": [
      "epoch: 7, [batch: 2688 / 6720], examples_per_second: 2992.6906, train_label_loss: 0.2317, \n"
     ]
    },
    {
     "name": "stdout",
     "output_type": "stream",
     "text": [
      "epoch: 7, [batch: 3360 / 6720], examples_per_second: 3006.8906, train_label_loss: 0.1297, \n"
     ]
    },
    {
     "name": "stdout",
     "output_type": "stream",
     "text": [
      "epoch: 7, [batch: 4032 / 6720], examples_per_second: 2943.5691, train_label_loss: 0.0812, \n"
     ]
    },
    {
     "name": "stdout",
     "output_type": "stream",
     "text": [
      "epoch: 7, [batch: 4704 / 6720], examples_per_second: 3367.3351, train_label_loss: 0.1983, \n"
     ]
    },
    {
     "name": "stdout",
     "output_type": "stream",
     "text": [
      "epoch: 7, [batch: 5376 / 6720], examples_per_second: 3456.8848, train_label_loss: 0.1141, \n"
     ]
    },
    {
     "name": "stdout",
     "output_type": "stream",
     "text": [
      "epoch: 7, [batch: 6048 / 6720], examples_per_second: 3420.3093, train_label_loss: 0.0533, \n"
     ]
    },
    {
     "name": "stdout",
     "output_type": "stream",
     "text": [
      "=============================================================\n",
      "epoch: 7, source_val_acc_label: 0.9385, target_val_acc_label: 0.9137, source_val_label_loss: 0.1929, target_val_label_loss: 0.3034, \n",
      "=============================================================\n"
     ]
    },
    {
     "name": "stdout",
     "output_type": "stream",
     "text": [
      "epoch: 8, [batch: 1 / 6720], examples_per_second: 3.1220, train_label_loss: 0.0989, \n"
     ]
    },
    {
     "name": "stdout",
     "output_type": "stream",
     "text": [
      "epoch: 8, [batch: 672 / 6720], examples_per_second: 3778.8801, train_label_loss: 0.3914, \n"
     ]
    },
    {
     "name": "stdout",
     "output_type": "stream",
     "text": [
      "epoch: 8, [batch: 1344 / 6720], examples_per_second: 3478.1632, train_label_loss: 0.0837, \n"
     ]
    },
    {
     "name": "stdout",
     "output_type": "stream",
     "text": [
      "epoch: 8, [batch: 2016 / 6720], examples_per_second: 3390.7510, train_label_loss: 0.3125, \n"
     ]
    },
    {
     "name": "stdout",
     "output_type": "stream",
     "text": [
      "epoch: 8, [batch: 2688 / 6720], examples_per_second: 2998.0571, train_label_loss: 0.1407, \n"
     ]
    },
    {
     "name": "stdout",
     "output_type": "stream",
     "text": [
      "epoch: 8, [batch: 3360 / 6720], examples_per_second: 2995.2983, train_label_loss: 0.2011, \n"
     ]
    },
    {
     "name": "stdout",
     "output_type": "stream",
     "text": [
      "epoch: 8, [batch: 4032 / 6720], examples_per_second: 2991.4432, train_label_loss: 0.3984, \n"
     ]
    },
    {
     "name": "stdout",
     "output_type": "stream",
     "text": [
      "epoch: 8, [batch: 4704 / 6720], examples_per_second: 2953.7594, train_label_loss: 0.1270, \n"
     ]
    },
    {
     "name": "stdout",
     "output_type": "stream",
     "text": [
      "epoch: 8, [batch: 5376 / 6720], examples_per_second: 2984.4905, train_label_loss: 0.0291, \n"
     ]
    },
    {
     "name": "stdout",
     "output_type": "stream",
     "text": [
      "epoch: 8, [batch: 6048 / 6720], examples_per_second: 2956.2915, train_label_loss: 0.0265, \n"
     ]
    },
    {
     "name": "stdout",
     "output_type": "stream",
     "text": [
      "=============================================================\n",
      "epoch: 8, source_val_acc_label: 0.9514, target_val_acc_label: 0.9300, source_val_label_loss: 0.1472, target_val_label_loss: 0.2390, \n",
      "=============================================================\n"
     ]
    },
    {
     "name": "stdout",
     "output_type": "stream",
     "text": [
      "New best\n"
     ]
    },
    {
     "name": "stdout",
     "output_type": "stream",
     "text": [
      "epoch: 9, [batch: 1 / 6720], examples_per_second: 3.0615, train_label_loss: 0.0433, \n"
     ]
    },
    {
     "name": "stdout",
     "output_type": "stream",
     "text": [
      "epoch: 9, [batch: 672 / 6720], examples_per_second: 3778.5357, train_label_loss: 0.0416, \n"
     ]
    },
    {
     "name": "stdout",
     "output_type": "stream",
     "text": [
      "epoch: 9, [batch: 1344 / 6720], examples_per_second: 3684.7276, train_label_loss: 0.0435, \n"
     ]
    },
    {
     "name": "stdout",
     "output_type": "stream",
     "text": [
      "epoch: 9, [batch: 2016 / 6720], examples_per_second: 3716.7376, train_label_loss: 0.0565, \n"
     ]
    },
    {
     "name": "stdout",
     "output_type": "stream",
     "text": [
      "epoch: 9, [batch: 2688 / 6720], examples_per_second: 3585.3079, train_label_loss: 0.1393, \n"
     ]
    },
    {
     "name": "stdout",
     "output_type": "stream",
     "text": [
      "epoch: 9, [batch: 3360 / 6720], examples_per_second: 2981.5198, train_label_loss: 0.0628, \n"
     ]
    },
    {
     "name": "stdout",
     "output_type": "stream",
     "text": [
      "epoch: 9, [batch: 4032 / 6720], examples_per_second: 2981.8825, train_label_loss: 0.0845, \n"
     ]
    },
    {
     "name": "stdout",
     "output_type": "stream",
     "text": [
      "epoch: 9, [batch: 4704 / 6720], examples_per_second: 2951.2127, train_label_loss: 0.1548, \n"
     ]
    },
    {
     "name": "stdout",
     "output_type": "stream",
     "text": [
      "epoch: 9, [batch: 5376 / 6720], examples_per_second: 2966.2223, train_label_loss: 0.1183, \n"
     ]
    },
    {
     "name": "stdout",
     "output_type": "stream",
     "text": [
      "epoch: 9, [batch: 6048 / 6720], examples_per_second: 2984.5019, train_label_loss: 0.1174, \n"
     ]
    },
    {
     "name": "stdout",
     "output_type": "stream",
     "text": [
      "=============================================================\n",
      "epoch: 9, source_val_acc_label: 0.9526, target_val_acc_label: 0.9283, source_val_label_loss: 0.1452, target_val_label_loss: 0.2558, \n",
      "=============================================================\n"
     ]
    },
    {
     "name": "stdout",
     "output_type": "stream",
     "text": [
      "epoch: 10, [batch: 1 / 6720], examples_per_second: 2.7488, train_label_loss: 0.0453, \n"
     ]
    },
    {
     "name": "stdout",
     "output_type": "stream",
     "text": [
      "epoch: 10, [batch: 672 / 6720], examples_per_second: 3577.7186, train_label_loss: 0.0787, \n"
     ]
    },
    {
     "name": "stdout",
     "output_type": "stream",
     "text": [
      "epoch: 10, [batch: 1344 / 6720], examples_per_second: 3955.8390, train_label_loss: 0.0369, \n"
     ]
    },
    {
     "name": "stdout",
     "output_type": "stream",
     "text": [
      "epoch: 10, [batch: 2016 / 6720], examples_per_second: 3510.4200, train_label_loss: 0.0580, \n"
     ]
    },
    {
     "name": "stdout",
     "output_type": "stream",
     "text": [
      "epoch: 10, [batch: 2688 / 6720], examples_per_second: 3457.2340, train_label_loss: 0.1271, \n"
     ]
    },
    {
     "name": "stdout",
     "output_type": "stream",
     "text": [
      "epoch: 10, [batch: 3360 / 6720], examples_per_second: 3409.7433, train_label_loss: 0.0311, \n"
     ]
    },
    {
     "name": "stdout",
     "output_type": "stream",
     "text": [
      "epoch: 10, [batch: 4032 / 6720], examples_per_second: 3355.8415, train_label_loss: 0.2132, \n"
     ]
    },
    {
     "name": "stdout",
     "output_type": "stream",
     "text": [
      "epoch: 10, [batch: 4704 / 6720], examples_per_second: 3566.0825, train_label_loss: 0.0182, \n"
     ]
    },
    {
     "name": "stdout",
     "output_type": "stream",
     "text": [
      "epoch: 10, [batch: 5376 / 6720], examples_per_second: 3212.7383, train_label_loss: 0.0082, \n"
     ]
    },
    {
     "name": "stdout",
     "output_type": "stream",
     "text": [
      "epoch: 10, [batch: 6048 / 6720], examples_per_second: 2992.1277, train_label_loss: 0.1587, \n"
     ]
    },
    {
     "name": "stdout",
     "output_type": "stream",
     "text": [
      "=============================================================\n",
      "epoch: 10, source_val_acc_label: 0.9532, target_val_acc_label: 0.9279, source_val_label_loss: 0.1433, target_val_label_loss: 0.2688, \n",
      "=============================================================\n"
     ]
    },
    {
     "name": "stdout",
     "output_type": "stream",
     "text": [
      "epoch: 11, [batch: 1 / 6720], examples_per_second: 2.7836, train_label_loss: 0.0272, \n"
     ]
    },
    {
     "name": "stdout",
     "output_type": "stream",
     "text": [
      "epoch: 11, [batch: 672 / 6720], examples_per_second: 3396.1394, train_label_loss: 0.0116, \n"
     ]
    },
    {
     "name": "stdout",
     "output_type": "stream",
     "text": [
      "epoch: 11, [batch: 1344 / 6720], examples_per_second: 3493.3183, train_label_loss: 0.1760, \n"
     ]
    },
    {
     "name": "stdout",
     "output_type": "stream",
     "text": [
      "epoch: 11, [batch: 2016 / 6720], examples_per_second: 2926.7178, train_label_loss: 0.0026, \n"
     ]
    },
    {
     "name": "stdout",
     "output_type": "stream",
     "text": [
      "epoch: 11, [batch: 2688 / 6720], examples_per_second: 2979.5264, train_label_loss: 0.1059, \n"
     ]
    },
    {
     "name": "stdout",
     "output_type": "stream",
     "text": [
      "epoch: 11, [batch: 3360 / 6720], examples_per_second: 3483.7924, train_label_loss: 0.0703, \n"
     ]
    },
    {
     "name": "stdout",
     "output_type": "stream",
     "text": [
      "epoch: 11, [batch: 4032 / 6720], examples_per_second: 3509.9593, train_label_loss: 0.2453, \n"
     ]
    },
    {
     "name": "stdout",
     "output_type": "stream",
     "text": [
      "epoch: 11, [batch: 4704 / 6720], examples_per_second: 3383.8767, train_label_loss: 0.0037, \n"
     ]
    },
    {
     "name": "stdout",
     "output_type": "stream",
     "text": [
      "epoch: 11, [batch: 5376 / 6720], examples_per_second: 3418.2791, train_label_loss: 0.0300, \n"
     ]
    },
    {
     "name": "stdout",
     "output_type": "stream",
     "text": [
      "epoch: 11, [batch: 6048 / 6720], examples_per_second: 3456.8818, train_label_loss: 0.0401, \n"
     ]
    },
    {
     "name": "stdout",
     "output_type": "stream",
     "text": [
      "=============================================================\n",
      "epoch: 11, source_val_acc_label: 0.9571, target_val_acc_label: 0.9287, source_val_label_loss: 0.1297, target_val_label_loss: 0.2579, \n",
      "=============================================================\n"
     ]
    },
    {
     "name": "stdout",
     "output_type": "stream",
     "text": [
      "epoch: 12, [batch: 1 / 6720], examples_per_second: 3.2228, train_label_loss: 0.0776, \n"
     ]
    },
    {
     "name": "stdout",
     "output_type": "stream",
     "text": [
      "epoch: 12, [batch: 672 / 6720], examples_per_second: 3450.2797, train_label_loss: 0.2212, \n"
     ]
    },
    {
     "name": "stdout",
     "output_type": "stream",
     "text": [
      "epoch: 12, [batch: 1344 / 6720], examples_per_second: 3615.1536, train_label_loss: 0.0184, \n"
     ]
    },
    {
     "name": "stdout",
     "output_type": "stream",
     "text": [
      "epoch: 12, [batch: 2016 / 6720], examples_per_second: 3011.3715, train_label_loss: 0.1428, \n"
     ]
    },
    {
     "name": "stdout",
     "output_type": "stream",
     "text": [
      "epoch: 12, [batch: 2688 / 6720], examples_per_second: 2976.4943, train_label_loss: 0.1962, \n"
     ]
    },
    {
     "name": "stdout",
     "output_type": "stream",
     "text": [
      "epoch: 12, [batch: 3360 / 6720], examples_per_second: 2978.9540, train_label_loss: 0.0079, \n"
     ]
    },
    {
     "name": "stdout",
     "output_type": "stream",
     "text": [
      "epoch: 12, [batch: 4032 / 6720], examples_per_second: 3042.2593, train_label_loss: 0.0219, \n"
     ]
    },
    {
     "name": "stdout",
     "output_type": "stream",
     "text": [
      "epoch: 12, [batch: 4704 / 6720], examples_per_second: 2995.2818, train_label_loss: 0.0777, \n"
     ]
    },
    {
     "name": "stdout",
     "output_type": "stream",
     "text": [
      "epoch: 12, [batch: 5376 / 6720], examples_per_second: 3015.6729, train_label_loss: 0.1421, \n"
     ]
    },
    {
     "name": "stdout",
     "output_type": "stream",
     "text": [
      "epoch: 12, [batch: 6048 / 6720], examples_per_second: 3385.6060, train_label_loss: 0.0497, \n"
     ]
    },
    {
     "name": "stdout",
     "output_type": "stream",
     "text": [
      "=============================================================\n",
      "epoch: 12, source_val_acc_label: 0.9538, target_val_acc_label: 0.9287, source_val_label_loss: 0.1396, target_val_label_loss: 0.2453, \n",
      "=============================================================\n"
     ]
    },
    {
     "name": "stdout",
     "output_type": "stream",
     "text": [
      "Patience (3) exhausted\n"
     ]
    }
   ],
   "source": [
    "###################################\n",
    "# train\n",
    "###################################\n",
    "jig = PTN_Train_Eval_Test_Jig(model, p.BEST_MODEL_PATH, p.device)\n",
    "\n",
    "jig.train(\n",
    "    train_iterable=datasets.source.processed.train,\n",
    "    source_val_iterable=datasets.source.processed.val,\n",
    "    target_val_iterable=datasets.target.processed.val,\n",
    "    num_epochs=p.n_epoch,\n",
    "    num_logs_per_epoch=p.NUM_LOGS_PER_EPOCH,\n",
    "    patience=p.patience,\n",
    "    optimizer=optimizer,\n",
    "    criteria_for_best=p.criteria_for_best,\n",
    ")"
   ]
  },
  {
   "cell_type": "code",
   "execution_count": 23,
   "id": "31e8fabf",
   "metadata": {
    "execution": {
     "iopub.execute_input": "2022-03-22T11:07:48.754603Z",
     "iopub.status.busy": "2022-03-22T11:07:48.754239Z",
     "iopub.status.idle": "2022-03-22T11:07:48.788120Z",
     "shell.execute_reply": "2022-03-22T11:07:48.787287Z"
    },
    "papermill": {
     "duration": 0.097964,
     "end_time": "2022-03-22T11:07:48.788279",
     "exception": false,
     "start_time": "2022-03-22T11:07:48.690315",
     "status": "completed"
    },
    "tags": []
   },
   "outputs": [],
   "source": [
    "total_experiment_time_secs = time.time() - start_time_secs"
   ]
  },
  {
   "cell_type": "code",
   "execution_count": 24,
   "id": "87b9595b",
   "metadata": {
    "execution": {
     "iopub.execute_input": "2022-03-22T11:07:48.922708Z",
     "iopub.status.busy": "2022-03-22T11:07:48.922312Z",
     "iopub.status.idle": "2022-03-22T11:11:15.939439Z",
     "shell.execute_reply": "2022-03-22T11:11:15.940215Z"
    },
    "papermill": {
     "duration": 207.087223,
     "end_time": "2022-03-22T11:11:15.940440",
     "exception": false,
     "start_time": "2022-03-22T11:07:48.853217",
     "status": "completed"
    },
    "tags": []
   },
   "outputs": [],
   "source": [
    "###################################\n",
    "# Evaluate the model\n",
    "###################################\n",
    "source_test_label_accuracy, source_test_label_loss = jig.test(datasets.source.processed.test)\n",
    "target_test_label_accuracy, target_test_label_loss = jig.test(datasets.target.processed.test)\n",
    "\n",
    "source_val_label_accuracy, source_val_label_loss = jig.test(datasets.source.processed.val)\n",
    "target_val_label_accuracy, target_val_label_loss = jig.test(datasets.target.processed.val)\n",
    "\n",
    "history = jig.get_history()\n",
    "\n",
    "total_epochs_trained = len(history[\"epoch_indices\"])\n",
    "\n",
    "val_dl = Iterable_Aggregator((datasets.source.original.val,datasets.target.original.val))\n",
    "\n",
    "confusion = ptn_confusion_by_domain_over_dataloader(model, p.device, val_dl)\n",
    "per_domain_accuracy = per_domain_accuracy_from_confusion(confusion)\n",
    "\n",
    "# Add a key to per_domain_accuracy for if it was a source domain\n",
    "for domain, accuracy in per_domain_accuracy.items():\n",
    "    per_domain_accuracy[domain] = {\n",
    "        \"accuracy\": accuracy,\n",
    "        \"source?\": domain in p.domains_source\n",
    "    }\n",
    "\n",
    "# Do an independent accuracy assesment JUST TO BE SURE!\n",
    "# _source_test_label_accuracy = independent_accuracy_assesment(model, datasets.source.processed.test, p.device)\n",
    "# _target_test_label_accuracy = independent_accuracy_assesment(model, datasets.target.processed.test, p.device)\n",
    "# _source_val_label_accuracy = independent_accuracy_assesment(model, datasets.source.processed.val, p.device)\n",
    "# _target_val_label_accuracy = independent_accuracy_assesment(model, datasets.target.processed.val, p.device)\n",
    "\n",
    "# assert(_source_test_label_accuracy == source_test_label_accuracy)\n",
    "# assert(_target_test_label_accuracy == target_test_label_accuracy)\n",
    "# assert(_source_val_label_accuracy == source_val_label_accuracy)\n",
    "# assert(_target_val_label_accuracy == target_val_label_accuracy)\n",
    "\n",
    "experiment = {\n",
    "    \"experiment_name\": p.experiment_name,\n",
    "    \"parameters\": dict(p),\n",
    "    \"results\": {\n",
    "        \"source_test_label_accuracy\": source_test_label_accuracy,\n",
    "        \"source_test_label_loss\": source_test_label_loss,\n",
    "        \"target_test_label_accuracy\": target_test_label_accuracy,\n",
    "        \"target_test_label_loss\": target_test_label_loss,\n",
    "        \"source_val_label_accuracy\": source_val_label_accuracy,\n",
    "        \"source_val_label_loss\": source_val_label_loss,\n",
    "        \"target_val_label_accuracy\": target_val_label_accuracy,\n",
    "        \"target_val_label_loss\": target_val_label_loss,\n",
    "        \"total_epochs_trained\": total_epochs_trained,\n",
    "        \"total_experiment_time_secs\": total_experiment_time_secs,\n",
    "        \"confusion\": confusion,\n",
    "        \"per_domain_accuracy\": per_domain_accuracy,\n",
    "    },\n",
    "    \"history\": history,\n",
    "    \"dataset_metrics\": get_dataset_metrics(datasets, \"ptn\"),\n",
    "}"
   ]
  },
  {
   "cell_type": "code",
   "execution_count": 25,
   "id": "54a21829",
   "metadata": {
    "execution": {
     "iopub.execute_input": "2022-03-22T11:11:16.062456Z",
     "iopub.status.busy": "2022-03-22T11:11:16.062089Z",
     "iopub.status.idle": "2022-03-22T11:11:16.274568Z",
     "shell.execute_reply": "2022-03-22T11:11:16.275247Z"
    },
    "papermill": {
     "duration": 0.273072,
     "end_time": "2022-03-22T11:11:16.275434",
     "exception": false,
     "start_time": "2022-03-22T11:11:16.002362",
     "status": "completed"
    },
    "tags": []
   },
   "outputs": [
    {
     "data": {
      "image/png": "[encoded data removed]",
      "text/plain": [
       "<Figure size 1080x504 with 1 Axes>"
      ]
     },
     "metadata": {
      "needs_background": "light"
     },
     "output_type": "display_data"
    }
   ],
   "source": [
    "ax = get_loss_curve(experiment)\n",
    "plt.show()"
   ]
  },
  {
   "cell_type": "code",
   "execution_count": 26,
   "id": "fd8a0f60",
   "metadata": {
    "execution": {
     "iopub.execute_input": "2022-03-22T11:11:16.401878Z",
     "iopub.status.busy": "2022-03-22T11:11:16.401429Z",
     "iopub.status.idle": "2022-03-22T11:11:16.781452Z",
     "shell.execute_reply": "2022-03-22T11:11:16.782120Z"
    },
    "papermill": {
     "duration": 0.440776,
     "end_time": "2022-03-22T11:11:16.782313",
     "exception": false,
     "start_time": "2022-03-22T11:11:16.341537",
     "status": "completed"
    },
    "tags": []
   },
   "outputs": [
    {
     "data": {
      "text/plain": [
       "<AxesSubplot:title={'center':'Results'}>"
      ]
     },
     "execution_count": 26,
     "metadata": {},
     "output_type": "execute_result"
    },
    {
     "data": {
      "image/png": "[encoded data removed]",
      "text/plain": [
       "<Figure size 1080x504 with 1 Axes>"
      ]
     },
     "metadata": {
      "needs_background": "light"
     },
     "output_type": "display_data"
    }
   ],
   "source": [
    "get_results_table(experiment)"
   ]
  },
  {
   "cell_type": "code",
   "execution_count": 27,
   "id": "cf8dc689",
   "metadata": {
    "execution": {
     "iopub.execute_input": "2022-03-22T11:11:16.910564Z",
     "iopub.status.busy": "2022-03-22T11:11:16.909949Z",
     "iopub.status.idle": "2022-03-22T11:11:17.203775Z",
     "shell.execute_reply": "2022-03-22T11:11:17.203004Z"
    },
    "papermill": {
     "duration": 0.35699,
     "end_time": "2022-03-22T11:11:17.203952",
     "exception": false,
     "start_time": "2022-03-22T11:11:16.846962",
     "status": "completed"
    },
    "tags": []
   },
   "outputs": [
    {
     "data": {
      "text/plain": [
       "<AxesSubplot:title={'center':'Per Domain Validation Accuracy'}, xlabel='domain'>"
      ]
     },
     "execution_count": 27,
     "metadata": {},
     "output_type": "execute_result"
    },
    {
     "data": {
      "image/png": "[encoded data removed]",
      "text/plain": [
       "<Figure size 1080x504 with 1 Axes>"
      ]
     },
     "metadata": {
      "needs_background": "light"
     },
     "output_type": "display_data"
    }
   ],
   "source": [
    "get_domain_accuracies(experiment)"
   ]
  },
  {
   "cell_type": "code",
   "execution_count": 28,
   "id": "a74ae082",
   "metadata": {
    "execution": {
     "iopub.execute_input": "2022-03-22T11:11:17.336918Z",
     "iopub.status.busy": "2022-03-22T11:11:17.336454Z",
     "iopub.status.idle": "2022-03-22T11:11:17.361395Z",
     "shell.execute_reply": "2022-03-22T11:11:17.360677Z"
    },
    "papermill": {
     "duration": 0.088474,
     "end_time": "2022-03-22T11:11:17.361546",
     "exception": false,
     "start_time": "2022-03-22T11:11:17.273072",
     "status": "completed"
    },
    "tags": []
   },
   "outputs": [
    {
     "name": "stdout",
     "output_type": "stream",
     "text": [
      "Source Test Label Accuracy: 0.950390625 Target Test Label Accuracy: 0.9314127604166667\n",
      "Source Val Label Accuracy: 0.9513997395833333 Target Val Label Accuracy: 0.9300455729166667\n"
     ]
    }
   ],
   "source": [
    "print(\"Source Test Label Accuracy:\", experiment[\"results\"][\"source_test_label_accuracy\"], \"Target Test Label Accuracy:\", experiment[\"results\"][\"target_test_label_accuracy\"])\n",
    "print(\"Source Val Label Accuracy:\", experiment[\"results\"][\"source_val_label_accuracy\"], \"Target Val Label Accuracy:\", experiment[\"results\"][\"target_val_label_accuracy\"])"
   ]
  },
  {
   "cell_type": "code",
   "execution_count": 29,
   "id": "dacca602",
   "metadata": {
    "execution": {
     "iopub.execute_input": "2022-03-22T11:11:17.494360Z",
     "iopub.status.busy": "2022-03-22T11:11:17.494002Z",
     "iopub.status.idle": "2022-03-22T11:11:17.517007Z",
     "shell.execute_reply": "2022-03-22T11:11:17.517674Z"
    },
    "papermill": {
     "duration": 0.088683,
     "end_time": "2022-03-22T11:11:17.517854",
     "exception": false,
     "start_time": "2022-03-22T11:11:17.429171",
     "status": "completed"
    },
    "tags": [
     "experiment_json"
    ]
   },
   "outputs": [
    {
     "data": {
      "text/plain": [
       "'{\"experiment_name\": \"tl_1v2:oracle.run1.framed-oracle.run2.framed\", \"parameters\": {\"experiment_name\": \"tl_1v2:oracle.run1.framed-oracle.run2.framed\", \"device\": \"cuda\", \"lr\": 0.0001, \"n_shot\": 3, \"n_query\": 2, \"train_k_factor\": 3, \"val_k_factor\": 2, \"test_k_factor\": 2, \"torch_default_dtype\": \"torch.float32\", \"n_epoch\": 50, \"patience\": 3, \"criteria_for_best\": \"target_accuracy\", \"x_net\": [{\"class\": \"nnReshape\", \"kargs\": {\"shape\": [-1, 1, 2, 256]}}, {\"class\": \"Conv2d\", \"kargs\": {\"in_channels\": 1, \"out_channels\": 256, \"kernel_size\": [1, 7], \"bias\": false, \"padding\": [0, 3]}}, {\"class\": \"ReLU\", \"kargs\": {\"inplace\": true}}, {\"class\": \"BatchNorm2d\", \"kargs\": {\"num_features\": 256}}, {\"class\": \"Conv2d\", \"kargs\": {\"in_channels\": 256, \"out_channels\": 80, \"kernel_size\": [2, 7], \"bias\": true, \"padding\": [0, 3]}}, {\"class\": \"ReLU\", \"kargs\": {\"inplace\": true}}, {\"class\": \"BatchNorm2d\", \"kargs\": {\"num_features\": 80}}, {\"class\": \"Flatten\", \"kargs\": {}}, {\"class\": \"Linear\", \"kargs\": {\"in_features\": 20480, \"out_features\": 256}}, {\"class\": \"ReLU\", \"kargs\": {\"inplace\": true}}, {\"class\": \"BatchNorm1d\", \"kargs\": {\"num_features\": 256}}, {\"class\": \"Linear\", \"kargs\": {\"in_features\": 256, \"out_features\": 256}}], \"NUM_LOGS_PER_EPOCH\": 10, \"BEST_MODEL_PATH\": \"./best_model.pth\", \"n_way\": 16, \"datasets\": [{\"labels\": [\"3123D52\", \"3123D65\", \"3123D79\", \"3123D80\", \"3123D54\", \"3123D70\", \"3123D7B\", \"3123D89\", \"3123D58\", \"3123D76\", \"3123D7D\", \"3123EFE\", \"3123D64\", \"3123D78\", \"3123D7E\", \"3124E4A\"], \"domains\": [32, 38, 8, 44, 14, 50, 20, 26], \"num_examples_per_domain_per_label\": 2000, \"pickle_path\": \"/root/csc500-main/datasets/oracle.Run1_framed_2000Examples_stratified_ds.2022A.pkl\", \"source_or_target_dataset\": \"target\", \"x_transforms\": [], \"episode_transforms\": [], \"domain_prefix\": \"ORACLE.run1_\"}, {\"labels\": [\"3123D52\", \"3123D65\", \"3123D79\", \"3123D80\", \"3123D54\", \"3123D70\", \"3123D7B\", \"3123D89\", \"3123D58\", \"3123D76\", \"3123D7D\", \"3123EFE\", \"3123D64\", \"3123D78\", \"3123D7E\", \"3124E4A\"], \"domains\": [32, 38, 8, 44, 14, 50, 20, 26], \"num_examples_per_domain_per_label\": 2000, \"pickle_path\": \"/root/csc500-main/datasets/oracle.Run2_framed_2000Examples_stratified_ds.2022A.pkl\", \"source_or_target_dataset\": \"source\", \"x_transforms\": [], \"episode_transforms\": [], \"domain_prefix\": \"ORACLE.run2_\"}], \"dataset_seed\": 500, \"seed\": 500, \"x_shape\": [2, 256], \"domains_source\": [\"ORACLE.run2_32\", \"ORACLE.run2_38\", \"ORACLE.run2_8\", \"ORACLE.run2_44\", \"ORACLE.run2_14\", \"ORACLE.run2_50\", \"ORACLE.run2_20\", \"ORACLE.run2_26\"], \"domains_target\": [\"ORACLE.run1_32\", \"ORACLE.run1_38\", \"ORACLE.run1_8\", \"ORACLE.run1_44\", \"ORACLE.run1_14\", \"ORACLE.run1_50\", \"ORACLE.run1_20\", \"ORACLE.run1_26\"]}, \"results\": {\"source_test_label_accuracy\": 0.950390625, \"source_test_label_loss\": 0.14674851298332214, \"target_test_label_accuracy\": 0.9314127604166667, \"target_test_label_loss\": 0.23025695979595184, \"source_val_label_accuracy\": 0.9513997395833333, \"source_val_label_loss\": 0.14723971486091614, \"target_val_label_accuracy\": 0.9300455729166667, \"target_val_label_loss\": 0.2390161007642746, \"total_epochs_trained\": 12, \"total_experiment_time_secs\": 2308.8803362846375, \"confusion\": {\"ORACLE.run2_50\": {\"7\": {\"7\": 240}, \"10\": {\"10\": 240}, \"0\": {\"0\": 237, \"2\": 2, \"10\": 1}, \"11\": {\"11\": 239, \"12\": 1}, \"2\": {\"2\": 238, \"0\": 2}, \"14\": {\"14\": 240}, \"9\": {\"9\": 240}, \"13\": {\"13\": 240}, \"8\": {\"8\": 239, \"13\": 1}, \"15\": {\"15\": 238, \"4\": 2}, \"4\": {\"4\": 197, \"5\": 41, \"7\": 2}, \"5\": {\"5\": 196, \"4\": 38, \"7\": 4, \"6\": 2}, \"3\": {\"3\": 240}, \"1\": {\"1\": 240}, \"6\": {\"6\": 237, \"5\": 3}, \"12\": {\"12\": 239, \"9\": 1}}, \"ORACLE.run2_14\": {\"14\": {\"14\": 218, \"2\": 22}, \"6\": {\"6\": 236, \"13\": 4}, \"5\": {\"5\": 234, \"2\": 6}, \"15\": {\"15\": 240}, \"11\": {\"11\": 240}, \"8\": {\"8\": 240}, \"12\": {\"12\": 177, \"9\": 39, \"0\": 16, \"11\": 8}, \"1\": {\"1\": 240}, \"2\": {\"5\": 38, \"14\": 36, \"2\": 159, \"3\": 7}, \"13\": {\"13\": 222, \"6\": 18}, \"3\": {\"3\": 240}, \"0\": {\"0\": 240}, \"9\": {\"9\": 240}, \"4\": {\"4\": 240}, \"7\": {\"7\": 240}, \"10\": {\"10\": 239, \"14\": 1}}, \"ORACLE.run2_32\": {\"4\": {\"4\": 235, \"0\": 1, \"13\": 2, \"11\": 2}, \"14\": {\"14\": 235, \"5\": 1, \"2\": 3, \"0\": 1}, \"5\": {\"5\": 240}, \"10\": {\"10\": 240}, \"13\": {\"13\": 227, \"3\": 3, \"4\": 7, \"11\": 3}, \"9\": {\"9\": 240}, \"6\": {\"6\": 240}, \"3\": {\"3\": 239, \"13\": 1}, \"15\": {\"15\": 240}, \"7\": {\"7\": 234, \"2\": 3, \"4\": 1, \"0\": 2}, \"12\": {\"12\": 240}, \"8\": {\"8\": 234, \"0\": 6}, \"11\": {\"11\": 223, \"0\": 4, \"13\": 7, \"4\": 5, \"7\": 1}, \"2\": {\"2\": 239, \"14\": 1}, \"1\": {\"1\": 240}, \"0\": {\"0\": 221, \"8\": 13, \"14\": 4, \"7\": 2}}, \"ORACLE.run2_44\": {\"8\": {\"8\": 221, \"0\": 19}, \"11\": {\"11\": 240}, \"14\": {\"14\": 235, \"4\": 5}, \"10\": {\"10\": 240}, \"3\": {\"3\": 237, \"12\": 3}, \"15\": {\"15\": 234, \"8\": 3, \"0\": 1, \"5\": 1, \"14\": 1}, \"2\": {\"2\": 240}, \"12\": {\"12\": 237, \"3\": 3}, \"4\": {\"4\": 230, \"14\": 10}, \"1\": {\"1\": 240}, \"0\": {\"0\": 197, \"8\": 43}, \"9\": {\"9\": 189, \"7\": 50, \"6\": 1}, \"5\": {\"5\": 235, \"15\": 2, \"14\": 3}, \"6\": {\"6\": 238, \"13\": 2}, \"7\": {\"7\": 199, \"9\": 41}, \"13\": {\"13\": 236, \"4\": 3, \"6\": 1}}, \"ORACLE.run2_8\": {\"13\": {\"13\": 238, \"10\": 2}, \"3\": {\"3\": 240}, \"15\": {\"15\": 234, \"12\": 6}, \"4\": {\"4\": 201, \"7\": 36, \"6\": 3}, \"7\": {\"7\": 224, \"4\": 16}, \"2\": {\"2\": 240}, \"1\": {\"1\": 240}, \"0\": {\"0\": 240}, \"12\": {\"12\": 238, \"15\": 2}, \"6\": {\"6\": 238, \"14\": 2}, \"11\": {\"11\": 185, \"8\": 50, \"12\": 4, \"1\": 1}, \"9\": {\"9\": 240}, \"5\": {\"5\": 230, \"10\": 9, \"1\": 1}, \"10\": {\"10\": 237, \"5\": 2, \"13\": 1}, \"14\": {\"14\": 239, \"6\": 1}, \"8\": {\"8\": 239, \"11\": 1}}, \"ORACLE.run2_20\": {\"6\": {\"6\": 240}, \"11\": {\"11\": 240}, \"5\": {\"5\": 210, \"2\": 10, \"15\": 15, \"0\": 4, \"1\": 1}, \"14\": {\"14\": 237, \"8\": 3}, \"2\": {\"2\": 191, \"9\": 27, \"3\": 16, \"5\": 5, \"15\": 1}, \"7\": {\"7\": 235, \"3\": 2, \"5\": 2, \"2\": 1}, \"3\": {\"2\": 23, \"3\": 195, \"9\": 17, \"7\": 4, \"4\": 1}, \"4\": {\"4\": 240}, \"9\": {\"3\": 14, \"9\": 209, \"2\": 16, \"12\": 1}, \"12\": {\"12\": 240}, \"0\": {\"0\": 240}, \"10\": {\"10\": 240}, \"8\": {\"8\": 232, \"14\": 8}, \"13\": {\"13\": 237, \"15\": 1, \"2\": 2}, \"1\": {\"1\": 238, \"2\": 1, \"15\": 1}, \"15\": {\"13\": 6, \"15\": 212, \"1\": 2, \"5\": 13, \"12\": 1, \"2\": 4, \"9\": 2}}, \"ORACLE.run2_38\": {\"3\": {\"13\": 52, \"3\": 187, \"10\": 1}, \"8\": {\"8\": 226, \"5\": 14}, \"0\": {\"0\": 236, \"7\": 3, \"8\": 1}, \"2\": {\"2\": 232, \"14\": 8}, \"4\": {\"4\": 239, \"14\": 1}, \"7\": {\"7\": 239, \"14\": 1}, \"12\": {\"12\": 240}, \"6\": {\"6\": 240}, \"15\": {\"15\": 224, \"1\": 12, \"6\": 2, \"5\": 2}, \"11\": {\"11\": 239, \"3\": 1}, \"9\": {\"9\": 240}, \"14\": {\"14\": 193, \"2\": 44, \"8\": 1, \"12\": 1, \"7\": 1}, \"10\": {\"10\": 238, \"13\": 1, \"3\": 1}, \"5\": {\"5\": 176, \"8\": 63, \"7\": 1}, \"1\": {\"1\": 234, \"15\": 6}, \"13\": {\"13\": 201, \"3\": 34, \"10\": 5}}, \"ORACLE.run2_26\": {\"5\": {\"5\": 232, \"6\": 6, \"15\": 2}, \"8\": {\"8\": 227, \"7\": 1, \"2\": 10, \"9\": 2}, \"4\": {\"4\": 239, \"3\": 1}, \"12\": {\"12\": 240}, \"6\": {\"6\": 238, \"10\": 2}, \"7\": {\"7\": 204, \"2\": 23, \"3\": 11, \"13\": 2}, \"10\": {\"10\": 115, \"6\": 6, \"0\": 64, \"14\": 38, \"8\": 15, \"15\": 2}, \"0\": {\"0\": 171, \"8\": 4, \"14\": 25, \"10\": 36, \"15\": 4}, \"15\": {\"15\": 239, \"9\": 1}, \"9\": {\"9\": 240}, \"11\": {\"11\": 240}, \"14\": {\"14\": 191, \"0\": 32, \"10\": 13, \"1\": 4}, \"2\": {\"2\": 220, \"7\": 11, \"8\": 7, \"15\": 2}, \"13\": {\"13\": 237, \"7\": 2, \"9\": 1}, \"3\": {\"3\": 231, \"7\": 9}, \"1\": {\"1\": 240}}, \"ORACLE.run1_50\": {\"7\": {\"7\": 238, \"5\": 2}, \"10\": {\"10\": 238, \"8\": 1, \"0\": 1}, \"0\": {\"0\": 235, \"2\": 5}, \"11\": {\"11\": 240}, \"2\": {\"2\": 238, \"0\": 2}, \"14\": {\"14\": 240}, \"9\": {\"11\": 7, \"9\": 230, \"12\": 3}, \"13\": {\"13\": 240}, \"8\": {\"8\": 240}, \"15\": {\"15\": 238, \"6\": 2}, \"4\": {\"4\": 203, \"7\": 18, \"5\": 17, \"6\": 1, \"15\": 1}, \"5\": {\"5\": 155, \"7\": 38, \"6\": 11, \"13\": 20, \"4\": 12, \"15\": 4}, \"3\": {\"3\": 240}, \"1\": {\"1\": 236, \"0\": 1, \"13\": 2, \"11\": 1}, \"6\": {\"6\": 240}, \"12\": {\"12\": 235, \"11\": 5}}, \"ORACLE.run1_14\": {\"14\": {\"14\": 230, \"2\": 9, \"13\": 1}, \"6\": {\"6\": 179, \"13\": 52, \"14\": 6, \"2\": 3}, \"5\": {\"5\": 235, \"2\": 5}, \"15\": {\"15\": 240}, \"11\": {\"11\": 240}, \"8\": {\"8\": 240}, \"12\": {\"12\": 240}, \"1\": {\"1\": 240}, \"2\": {\"3\": 25, \"2\": 124, \"14\": 52, \"13\": 7, \"6\": 11, \"5\": 20, \"4\": 1}, \"13\": {\"14\": 41, \"13\": 75, \"6\": 82, \"2\": 22, \"15\": 15, \"3\": 1, \"10\": 2, \"4\": 2}, \"3\": {\"3\": 240}, \"0\": {\"0\": 238, \"3\": 2}, \"9\": {\"9\": 240}, \"4\": {\"4\": 239, \"5\": 1}, \"7\": {\"7\": 240}, \"10\": {\"10\": 240}}, \"ORACLE.run1_32\": {\"4\": {\"4\": 220, \"2\": 19, \"13\": 1}, \"14\": {\"14\": 202, \"7\": 8, \"5\": 6, \"0\": 17, \"8\": 5, \"2\": 1, \"13\": 1}, \"5\": {\"5\": 170, \"7\": 59, \"14\": 2, \"0\": 4, \"8\": 5}, \"10\": {\"10\": 240}, \"13\": {\"4\": 19, \"13\": 197, \"3\": 24}, \"9\": {\"9\": 236, \"12\": 4}, \"6\": {\"6\": 240}, \"3\": {\"3\": 238, \"13\": 2}, \"15\": {\"15\": 240}, \"7\": {\"7\": 211, \"5\": 25, \"0\": 2, \"14\": 2}, \"12\": {\"12\": 240}, \"8\": {\"8\": 229, \"7\": 1, \"0\": 7, \"5\": 3}, \"11\": {\"11\": 240}, \"2\": {\"2\": 218, \"4\": 22}, \"1\": {\"1\": 240}, \"0\": {\"0\": 224, \"14\": 4, \"8\": 9, \"7\": 3}}, \"ORACLE.run1_44\": {\"8\": {\"0\": 61, \"8\": 166, \"5\": 8, \"15\": 5}, \"11\": {\"11\": 239, \"13\": 1}, \"14\": {\"14\": 207, \"4\": 29, \"5\": 2, \"15\": 2}, \"10\": {\"10\": 233, \"1\": 3, \"7\": 4}, \"3\": {\"3\": 239, \"12\": 1}, \"15\": {\"15\": 207, \"8\": 8, \"14\": 20, \"5\": 5}, \"2\": {\"2\": 236, \"1\": 4}, \"12\": {\"12\": 238, \"3\": 2}, \"4\": {\"14\": 98, \"4\": 138, \"15\": 4}, \"1\": {\"1\": 235, \"2\": 5}, \"0\": {\"0\": 219, \"8\": 21}, \"9\": {\"6\": 38, \"7\": 87, \"9\": 95, \"13\": 17, \"2\": 3}, \"5\": {\"5\": 218, \"8\": 2, \"15\": 12, \"14\": 6, \"4\": 2}, \"6\": {\"6\": 217, \"13\": 17, \"9\": 6}, \"7\": {\"7\": 225, \"9\": 15}, \"13\": {\"13\": 216, \"6\": 18, \"11\": 4, \"9\": 2}}, \"ORACLE.run1_8\": {\"13\": {\"13\": 213, \"10\": 15, \"7\": 10, \"6\": 2}, \"3\": {\"3\": 240}, \"15\": {\"15\": 228, \"12\": 12}, \"4\": {\"4\": 240}, \"7\": {\"7\": 225, \"6\": 15}, \"2\": {\"2\": 226, \"3\": 12, \"12\": 1, \"15\": 1}, \"1\": {\"1\": 239, \"10\": 1}, \"0\": {\"0\": 240}, \"12\": {\"15\": 52, \"12\": 188}, \"6\": {\"6\": 218, \"7\": 20, \"13\": 2}, \"11\": {\"11\": 231, \"1\": 8, \"14\": 1}, \"9\": {\"9\": 240}, \"5\": {\"5\": 219, \"1\": 8, \"14\": 7, \"10\": 6}, \"10\": {\"10\": 228, \"13\": 12}, \"14\": {\"14\": 233, \"4\": 6, \"5\": 1}, \"8\": {\"8\": 240}}, \"ORACLE.run1_20\": {\"6\": {\"6\": 240}, \"11\": {\"11\": 240}, \"5\": {\"5\": 239, \"3\": 1}, \"14\": {\"14\": 238, \"6\": 2}, \"2\": {\"2\": 217, \"7\": 9, \"9\": 3, \"12\": 10, \"13\": 1}, \"7\": {\"7\": 231, \"2\": 9}, \"3\": {\"3\": 222, \"1\": 7, \"9\": 9, \"12\": 2}, \"4\": {\"4\": 240}, \"9\": {\"9\": 221, \"2\": 11, \"3\": 6, \"12\": 2}, \"12\": {\"12\": 220, \"2\": 13, \"9\": 3, \"1\": 3, \"3\": 1}, \"0\": {\"0\": 239, \"5\": 1}, \"10\": {\"10\": 240}, \"8\": {\"8\": 239, \"14\": 1}, \"13\": {\"13\": 238, \"2\": 2}, \"1\": {\"1\": 231, \"15\": 5, \"5\": 2, \"3\": 2}, \"15\": {\"15\": 227, \"1\": 6, \"13\": 2, \"5\": 5}}, \"ORACLE.run1_38\": {\"3\": {\"3\": 240}, \"8\": {\"8\": 144, \"5\": 64, \"7\": 19, \"15\": 8, \"13\": 2, \"0\": 3}, \"0\": {\"0\": 201, \"10\": 10, \"3\": 11, \"7\": 5, \"13\": 12, \"8\": 1}, \"2\": {\"2\": 237, \"14\": 3}, \"4\": {\"4\": 240}, \"7\": {\"7\": 238, \"8\": 1, \"5\": 1}, \"12\": {\"12\": 240}, \"6\": {\"6\": 240}, \"15\": {\"15\": 236, \"8\": 2, \"5\": 1, \"1\": 1}, \"11\": {\"11\": 235, \"3\": 5}, \"9\": {\"9\": 240}, \"14\": {\"14\": 238, \"2\": 2}, \"10\": {\"10\": 222, \"13\": 13, \"0\": 5}, \"5\": {\"5\": 133, \"8\": 68, \"7\": 23, \"9\": 6, \"15\": 9, \"13\": 1}, \"1\": {\"1\": 240}, \"13\": {\"13\": 228, \"0\": 3, \"10\": 8, \"2\": 1}}, \"ORACLE.run1_26\": {\"5\": {\"5\": 238, \"15\": 2}, \"8\": {\"8\": 223, \"7\": 14, \"0\": 3}, \"4\": {\"4\": 240}, \"12\": {\"12\": 240}, \"6\": {\"6\": 232, \"15\": 8}, \"7\": {\"7\": 231, \"2\": 6, \"8\": 3}, \"10\": {\"10\": 184, \"14\": 30, \"0\": 25, \"15\": 1}, \"0\": {\"0\": 191, \"10\": 31, \"14\": 18}, \"15\": {\"15\": 225, \"6\": 12, \"5\": 1, \"10\": 2}, \"9\": {\"9\": 216, \"13\": 10, \"8\": 8, \"2\": 5, \"7\": 1}, \"11\": {\"11\": 240}, \"14\": {\"14\": 212, \"10\": 17, \"0\": 9, \"1\": 2}, \"2\": {\"2\": 200, \"3\": 9, \"8\": 9, \"15\": 2, \"7\": 15, \"5\": 2, \"10\": 2, \"9\": 1}, \"13\": {\"13\": 227, \"2\": 8, \"9\": 4, \"3\": 1}, \"3\": {\"3\": 238, \"7\": 2}, \"1\": {\"1\": 233, \"14\": 7}}}, \"per_domain_accuracy\": {\"ORACLE.run2_50\": {\"accuracy\": 0.9739583333333334, \"source?\": true}, \"ORACLE.run2_14\": {\"accuracy\": 0.94921875, \"source?\": true}, \"ORACLE.run2_32\": {\"accuracy\": 0.9809895833333333, \"source?\": true}, \"ORACLE.run2_44\": {\"accuracy\": 0.95, \"source?\": true}, \"ORACLE.run2_8\": {\"accuracy\": 0.9643229166666667, \"source?\": true}, \"ORACLE.run2_20\": {\"accuracy\": 0.946875, \"source?\": true}, \"ORACLE.run2_38\": {\"accuracy\": 0.9333333333333333, \"source?\": true}, \"ORACLE.run2_26\": {\"accuracy\": 0.9125, \"source?\": true}, \"ORACLE.run1_50\": {\"accuracy\": 0.9598958333333333, \"source?\": false}, \"ORACLE.run1_14\": {\"accuracy\": 0.90625, \"source?\": false}, \"ORACLE.run1_32\": {\"accuracy\": 0.93359375, \"source?\": false}, \"ORACLE.run1_44\": {\"accuracy\": 0.8666666666666667, \"source?\": false}, \"ORACLE.run1_8\": {\"accuracy\": 0.95, \"source?\": false}, \"ORACLE.run1_20\": {\"accuracy\": 0.9692708333333333, \"source?\": false}, \"ORACLE.run1_38\": {\"accuracy\": 0.925, \"source?\": false}, \"ORACLE.run1_26\": {\"accuracy\": 0.9296875, \"source?\": false}}}, \"history\": {\"epoch_indices\": [1, 2, 3, 4, 5, 6, 7, 8, 9, 10, 11, 12], \"train_label_loss\": [0.42795197872827495, 4.049375729549456, 0.2363108241865467, 0.213027326751104, 0.181981105945098, 0.22680474879633125, 0.1515946874555777, 0.16672154004254913, 0.13974948896667186, 0.12846047734714203, 0.13384368189166534, 0.11740138294335338], \"source_val_label_loss\": [242.69125366210938, 0.2716866135597229, 0.25275081396102905, 0.20545010268688202, 0.18535116314888, 0.16612717509269714, 0.19285070896148682, 0.14723971486091614, 0.14522340893745422, 0.14331693947315216, 0.12969635426998138, 0.1396351456642151], \"target_val_label_loss\": [255.2215118408203, 0.28889188170433044, 0.31762388348579407, 0.27691951394081116, 0.28704512119293213, 0.26787707209587097, 0.303355872631073, 0.2390161007642746, 0.2558005452156067, 0.26881882548332214, 0.25792229175567627, 0.24530017375946045], \"source_val_acc_label\": [0.63662109375, 0.9115559895833333, 0.926953125, 0.9335286458333333, 0.9397786458333334, 0.94873046875, 0.9384765625, 0.9513997395833333, 0.9525716145833333, 0.9531575520833333, 0.95712890625, 0.95380859375], \"target_val_acc_label\": [0.6048828125, 0.9031575520833334, 0.9060872395833334, 0.91416015625, 0.9162760416666667, 0.92451171875, 0.9137044270833333, 0.9300455729166667, 0.9282552083333333, 0.9279296875, 0.9286783854166667, 0.9287109375]}, \"dataset_metrics\": {\"source\": {\"train\": {\"n_unique_x\": 179200, \"n_unique_y\": 16, \"n_batch/episode\": 6720}, \"val\": {\"n_unique_x\": 38400, \"n_unique_y\": 16, \"n_batch/episode\": 960}, \"test\": {\"n_unique_x\": 38400, \"n_unique_y\": 16, \"n_batch/episode\": 960}}, \"target\": {\"train\": {\"n_unique_x\": 179200, \"n_unique_y\": 16, \"n_batch/episode\": 6720}, \"val\": {\"n_unique_x\": 38400, \"n_unique_y\": 16, \"n_batch/episode\": 960}, \"test\": {\"n_unique_x\": 38400, \"n_unique_y\": 16, \"n_batch/episode\": 960}}}}'"
      ]
     },
     "execution_count": 29,
     "metadata": {},
     "output_type": "execute_result"
    }
   ],
   "source": [
    "json.dumps(experiment)"
   ]
  }
 ],
 "metadata": {
  "celltoolbar": "Tags",
  "kernelspec": {
   "display_name": "Python 3 (ipykernel)",
   "language": "python",
   "name": "python3"
  },
  "language_info": {
   "codemirror_mode": {
    "name": "ipython",
    "version": 3
   },
   "file_extension": ".py",
   "mimetype": "text/x-python",
   "name": "python",
   "nbconvert_exporter": "python",
   "pygments_lexer": "ipython3",
   "version": "3.8.12"
  },
  "papermill": {
   "default_parameters": {},
   "duration": 2523.049173,
   "end_time": "2022-03-22T11:11:19.607461",
   "environment_variables": {},
   "exception": null,
   "input_path": "/root/csc500-main/csc500-notebooks/templates/tl_ptn_template.ipynb",
   "output_path": "trial.ipynb",
   "parameters": {
    "parameters": {
     "BEST_MODEL_PATH": "./best_model.pth",
     "NUM_LOGS_PER_EPOCH": 10,
     "criteria_for_best": "target_accuracy",
     "dataset_seed": 500,
     "datasets": [
      {
       "domain_prefix": "ORACLE.run1_",
       "domains": [
        32,
        38,
        8,
        44,
        14,
        50,
        20,
        26
       ],
       "episode_transforms": [],
       "labels": [
        "3123D52",
        "3123D65",
        "3123D79",
        "3123D80",
        "3123D54",
        "3123D70",
        "3123D7B",
        "3123D89",
        "3123D58",
        "3123D76",
        "3123D7D",
        "3123EFE",
        "3123D64",
        "3123D78",
        "3123D7E",
        "3124E4A"
       ],
       "num_examples_per_domain_per_label": 2000,
       "pickle_path": "/root/csc500-main/datasets/oracle.Run1_framed_2000Examples_stratified_ds.2022A.pkl",
       "source_or_target_dataset": "target",
       "x_transforms": []
      },
      {
       "domain_prefix": "ORACLE.run2_",
       "domains": [
        32,
        38,
        8,
        44,
        14,
        50,
        20,
        26
       ],
       "episode_transforms": [],
       "labels": [
        "3123D52",
        "3123D65",
        "3123D79",
        "3123D80",
        "3123D54",
        "3123D70",
        "3123D7B",
        "3123D89",
        "3123D58",
        "3123D76",
        "3123D7D",
        "3123EFE",
        "3123D64",
        "3123D78",
        "3123D7E",
        "3124E4A"
       ],
       "num_examples_per_domain_per_label": 2000,
       "pickle_path": "/root/csc500-main/datasets/oracle.Run2_framed_2000Examples_stratified_ds.2022A.pkl",
       "source_or_target_dataset": "source",
       "x_transforms": []
      }
     ],
     "device": "cuda",
     "experiment_name": "tl_1v2:oracle.run1.framed-oracle.run2.framed",
     "lr": 0.0001,
     "n_epoch": 50,
     "n_query": 2,
     "n_shot": 3,
     "n_way": 16,
     "patience": 3,
     "seed": 500,
     "test_k_factor": 2,
     "torch_default_dtype": "torch.float32",
     "train_k_factor": 3,
     "val_k_factor": 2,
     "x_net": [
      {
       "class": "nnReshape",
       "kargs": {
        "shape": [
         -1,
         1,
         2,
         256
        ]
       }
      },
      {
       "class": "Conv2d",
       "kargs": {
        "bias": false,
        "in_channels": 1,
        "kernel_size": [
         1,
         7
        ],
        "out_channels": 256,
        "padding": [
         0,
         3
        ]
       }
      },
      {
       "class": "ReLU",
       "kargs": {
        "inplace": true
       }
      },
      {
       "class": "BatchNorm2d",
       "kargs": {
        "num_features": 256
       }
      },
      {
       "class": "Conv2d",
       "kargs": {
        "bias": true,
        "in_channels": 256,
        "kernel_size": [
         2,
         7
        ],
        "out_channels": 80,
        "padding": [
         0,
         3
        ]
       }
      },
      {
       "class": "ReLU",
       "kargs": {
        "inplace": true
       }
      },
      {
       "class": "BatchNorm2d",
       "kargs": {
        "num_features": 80
       }
      },
      {
       "class": "Flatten",
       "kargs": {}
      },
      {
       "class": "Linear",
       "kargs": {
        "in_features": 20480,
        "out_features": 256
       }
      },
      {
       "class": "ReLU",
       "kargs": {
        "inplace": true
       }
      },
      {
       "class": "BatchNorm1d",
       "kargs": {
        "num_features": 256
       }
      },
      {
       "class": "Linear",
       "kargs": {
        "in_features": 256,
        "out_features": 256
       }
      }
     ]
    }
   },
   "start_time": "2022-03-22T10:29:16.558288",
   "version": "2.3.4"
  }
 },
 "nbformat": 4,
 "nbformat_minor": 5
}