{
 "cells": [
  {
   "cell_type": "markdown",
   "id": "9fea5f46",
   "metadata": {
    "papermill": {
     "duration": 0.028804,
     "end_time": "2022-03-21T05:45:07.087261",
     "exception": false,
     "start_time": "2022-03-21T05:45:07.058457",
     "status": "completed"
    },
    "tags": []
   },
   "source": [
    "# Transfer Learning Template"
   ]
  },
  {
   "cell_type": "code",
   "execution_count": 1,
   "id": "0902182a",
   "metadata": {
    "execution": {
     "iopub.execute_input": "2022-03-21T05:45:07.150355Z",
     "iopub.status.busy": "2022-03-21T05:45:07.149460Z",
     "iopub.status.idle": "2022-03-21T05:45:09.131281Z",
     "shell.execute_reply": "2022-03-21T05:45:09.130412Z"
    },
    "papermill": {
     "duration": 2.021,
     "end_time": "2022-03-21T05:45:09.131474",
     "exception": false,
     "start_time": "2022-03-21T05:45:07.110474",
     "status": "completed"
    },
    "tags": []
   },
   "outputs": [],
   "source": [
    "%load_ext autoreload\n",
    "%autoreload 2\n",
    "%matplotlib inline\n",
    "\n",
    "    \n",
    "import os, json, sys, time, random\n",
    "import numpy as np\n",
    "import torch\n",
    "from torch.optim import Adam\n",
    "from  easydict import EasyDict\n",
    "import matplotlib.pyplot as plt\n",
    "\n",
    "from steves_models.steves_ptn import Steves_Prototypical_Network\n",
    "\n",
    "from steves_utils.lazy_iterable_wrapper import Lazy_Iterable_Wrapper\n",
    "from steves_utils.iterable_aggregator import Iterable_Aggregator\n",
    "from steves_utils.ptn_train_eval_test_jig import  PTN_Train_Eval_Test_Jig\n",
    "from steves_utils.torch_sequential_builder import build_sequential\n",
    "from steves_utils.torch_utils import get_dataset_metrics, ptn_confusion_by_domain_over_dataloader\n",
    "from steves_utils.utils_v2 import (per_domain_accuracy_from_confusion, get_datasets_base_path)\n",
    "from steves_utils.PTN.utils import independent_accuracy_assesment\n",
    "\n",
    "from torch.utils.data import DataLoader\n",
    "\n",
    "from steves_utils.stratified_dataset.episodic_accessor import Episodic_Accessor_Factory\n",
    "\n",
    "from steves_utils.ptn_do_report import (\n",
    "    get_loss_curve,\n",
    "    get_results_table,\n",
    "    get_parameters_table,\n",
    "    get_domain_accuracies,\n",
    ")\n",
    "\n",
    "from steves_utils.transforms import get_chained_transform"
   ]
  },
  {
   "cell_type": "markdown",
   "id": "41c840b4",
   "metadata": {
    "papermill": {
     "duration": 0.018797,
     "end_time": "2022-03-21T05:45:09.176986",
     "exception": false,
     "start_time": "2022-03-21T05:45:09.158189",
     "status": "completed"
    },
    "tags": []
   },
   "source": [
    "# Allowed Parameters\n",
    "These are allowed parameters, not defaults\n",
    "Each of these values need to be present in the injected parameters (the notebook will raise an exception if they are not present)\n",
    "\n",
    "Papermill uses the cell tag \"parameters\" to inject the real parameters below this cell.\n",
    "Enable tags to see what I mean"
   ]
  },
  {
   "cell_type": "code",
   "execution_count": 2,
   "id": "fd44eb83",
   "metadata": {
    "execution": {
     "iopub.execute_input": "2022-03-21T05:45:09.219635Z",
     "iopub.status.busy": "2022-03-21T05:45:09.219228Z",
     "iopub.status.idle": "2022-03-21T05:45:09.241292Z",
     "shell.execute_reply": "2022-03-21T05:45:09.240485Z"
    },
    "papermill": {
     "duration": 0.04572,
     "end_time": "2022-03-21T05:45:09.241454",
     "exception": false,
     "start_time": "2022-03-21T05:45:09.195734",
     "status": "completed"
    },
    "tags": []
   },
   "outputs": [],
   "source": [
    "required_parameters = {\n",
    "    \"experiment_name\",\n",
    "    \"lr\",\n",
    "    \"device\",\n",
    "    \"seed\",\n",
    "    \"dataset_seed\",\n",
    "    \"n_shot\",\n",
    "    \"n_query\",\n",
    "    \"n_way\",\n",
    "    \"train_k_factor\",\n",
    "    \"val_k_factor\",\n",
    "    \"test_k_factor\",\n",
    "    \"n_epoch\",\n",
    "    \"patience\",\n",
    "    \"criteria_for_best\",\n",
    "    \"x_net\",\n",
    "    \"datasets\",\n",
    "    \"torch_default_dtype\",\n",
    "    \"NUM_LOGS_PER_EPOCH\",\n",
    "    \"BEST_MODEL_PATH\",\n",
    "    \"x_shape\",\n",
    "}"
   ]
  },
  {
   "cell_type": "code",
   "execution_count": 3,
   "id": "fa3f0049",
   "metadata": {
    "execution": {
     "iopub.execute_input": "2022-03-21T05:45:09.300189Z",
     "iopub.status.busy": "2022-03-21T05:45:09.299268Z",
     "iopub.status.idle": "2022-03-21T05:45:09.321650Z",
     "shell.execute_reply": "2022-03-21T05:45:09.320842Z"
    },
    "papermill": {
     "duration": 0.054066,
     "end_time": "2022-03-21T05:45:09.321812",
     "exception": false,
     "start_time": "2022-03-21T05:45:09.267746",
     "status": "completed"
    },
    "tags": [
     "parameters"
    ]
   },
   "outputs": [],
   "source": [
    "from steves_utils.CORES.utils import (\n",
    "    ALL_NODES,\n",
    "    ALL_NODES_MINIMUM_1000_EXAMPLES,\n",
    "    ALL_DAYS\n",
    ")\n",
    "\n",
    "from steves_utils.ORACLE.utils_v2 import (\n",
    "    ALL_DISTANCES_FEET_NARROWED,\n",
    "    ALL_RUNS,\n",
    "    ALL_SERIAL_NUMBERS,\n",
    ")\n",
    "\n",
    "standalone_parameters = {}\n",
    "standalone_parameters[\"experiment_name\"] = \"STANDALONE PTN\"\n",
    "standalone_parameters[\"lr\"] = 0.001\n",
    "standalone_parameters[\"device\"] = \"cuda\"\n",
    "\n",
    "standalone_parameters[\"seed\"] = 1337\n",
    "standalone_parameters[\"dataset_seed\"] = 1337\n",
    "\n",
    "standalone_parameters[\"n_way\"] = 8\n",
    "standalone_parameters[\"n_shot\"] = 3\n",
    "standalone_parameters[\"n_query\"]  = 2\n",
    "standalone_parameters[\"train_k_factor\"] = 1\n",
    "standalone_parameters[\"val_k_factor\"] = 2\n",
    "standalone_parameters[\"test_k_factor\"] = 2\n",
    "\n",
    "\n",
    "standalone_parameters[\"n_epoch\"] = 50\n",
    "\n",
    "standalone_parameters[\"patience\"] = 10\n",
    "standalone_parameters[\"criteria_for_best\"] = \"source_loss\"\n",
    "\n",
    "standalone_parameters[\"datasets\"] = [\n",
    "    {\n",
    "        \"labels\": ALL_SERIAL_NUMBERS,\n",
    "        \"domains\": ALL_DISTANCES_FEET_NARROWED,\n",
    "        \"num_examples_per_domain_per_label\": 100,\n",
    "        \"pickle_path\": os.path.join(get_datasets_base_path(), \"oracle.Run1_framed_2000Examples_stratified_ds.2022A.pkl\"),\n",
    "        \"source_or_target_dataset\": \"source\",\n",
    "        \"x_transforms\": [\"unit_mag\", \"minus_two\"],\n",
    "        \"episode_transforms\": [],\n",
    "        \"domain_prefix\": \"ORACLE_\"\n",
    "    },\n",
    "    {\n",
    "        \"labels\": ALL_NODES,\n",
    "        \"domains\": ALL_DAYS,\n",
    "        \"num_examples_per_domain_per_label\": 100,\n",
    "        \"pickle_path\": os.path.join(get_datasets_base_path(), \"cores.stratified_ds.2022A.pkl\"),\n",
    "        \"source_or_target_dataset\": \"target\",\n",
    "        \"x_transforms\": [\"unit_power\", \"times_zero\"],\n",
    "        \"episode_transforms\": [],\n",
    "        \"domain_prefix\": \"CORES_\"\n",
    "    }   \n",
    "]\n",
    "\n",
    "standalone_parameters[\"torch_default_dtype\"] = \"torch.float32\" \n",
    "\n",
    "\n",
    "\n",
    "standalone_parameters[\"x_net\"] =     [\n",
    "    {\"class\": \"nnReshape\", \"kargs\": {\"shape\":[-1, 1, 2, 256]}},\n",
    "    {\"class\": \"Conv2d\", \"kargs\": { \"in_channels\":1, \"out_channels\":256, \"kernel_size\":(1,7), \"bias\":False, \"padding\":(0,3), },},\n",
    "    {\"class\": \"ReLU\", \"kargs\": {\"inplace\": True}},\n",
    "    {\"class\": \"BatchNorm2d\", \"kargs\": {\"num_features\":256}},\n",
    "\n",
    "    {\"class\": \"Conv2d\", \"kargs\": { \"in_channels\":256, \"out_channels\":80, \"kernel_size\":(2,7), \"bias\":True, \"padding\":(0,3), },},\n",
    "    {\"class\": \"ReLU\", \"kargs\": {\"inplace\": True}},\n",
    "    {\"class\": \"BatchNorm2d\", \"kargs\": {\"num_features\":80}},\n",
    "    {\"class\": \"Flatten\", \"kargs\": {}},\n",
    "\n",
    "    {\"class\": \"Linear\", \"kargs\": {\"in_features\": 80*256, \"out_features\": 256}}, # 80 units per IQ pair\n",
    "    {\"class\": \"ReLU\", \"kargs\": {\"inplace\": True}},\n",
    "    {\"class\": \"BatchNorm1d\", \"kargs\": {\"num_features\":256}},\n",
    "\n",
    "    {\"class\": \"Linear\", \"kargs\": {\"in_features\": 256, \"out_features\": 256}},\n",
    "]\n",
    "\n",
    "# Parameters relevant to results\n",
    "# These parameters will basically never need to change\n",
    "standalone_parameters[\"NUM_LOGS_PER_EPOCH\"] = 10\n",
    "standalone_parameters[\"BEST_MODEL_PATH\"] = \"./best_model.pth\"\n",
    "\n",
    "\n",
    "\n",
    "\n"
   ]
  },
  {
   "cell_type": "code",
   "execution_count": 4,
   "id": "8af1d1fb",
   "metadata": {
    "execution": {
     "iopub.execute_input": "2022-03-21T05:45:09.382662Z",
     "iopub.status.busy": "2022-03-21T05:45:09.381802Z",
     "iopub.status.idle": "2022-03-21T05:45:09.402292Z",
     "shell.execute_reply": "2022-03-21T05:45:09.401469Z"
    },
    "papermill": {
     "duration": 0.055241,
     "end_time": "2022-03-21T05:45:09.402460",
     "exception": false,
     "start_time": "2022-03-21T05:45:09.347219",
     "status": "completed"
    },
    "tags": [
     "injected-parameters"
    ]
   },
   "outputs": [],
   "source": [
    "# Parameters\n",
    "parameters = {\n",
    "    \"experiment_name\": \"tl_1v2:oracle.run1.framed-oracle.run2.framed\",\n",
    "    \"device\": \"cuda\",\n",
    "    \"lr\": 0.0001,\n",
    "    \"n_shot\": 3,\n",
    "    \"n_query\": 2,\n",
    "    \"train_k_factor\": 3,\n",
    "    \"val_k_factor\": 2,\n",
    "    \"test_k_factor\": 2,\n",
    "    \"torch_default_dtype\": \"torch.float32\",\n",
    "    \"n_epoch\": 50,\n",
    "    \"patience\": 3,\n",
    "    \"criteria_for_best\": \"target_accuracy\",\n",
    "    \"x_net\": [\n",
    "        {\"class\": \"nnReshape\", \"kargs\": {\"shape\": [-1, 1, 2, 256]}},\n",
    "        {\n",
    "            \"class\": \"Conv2d\",\n",
    "            \"kargs\": {\n",
    "                \"in_channels\": 1,\n",
    "                \"out_channels\": 256,\n",
    "                \"kernel_size\": [1, 7],\n",
    "                \"bias\": False,\n",
    "                \"padding\": [0, 3],\n",
    "            },\n",
    "        },\n",
    "        {\"class\": \"ReLU\", \"kargs\": {\"inplace\": True}},\n",
    "        {\"class\": \"BatchNorm2d\", \"kargs\": {\"num_features\": 256}},\n",
    "        {\n",
    "            \"class\": \"Conv2d\",\n",
    "            \"kargs\": {\n",
    "                \"in_channels\": 256,\n",
    "                \"out_channels\": 80,\n",
    "                \"kernel_size\": [2, 7],\n",
    "                \"bias\": True,\n",
    "                \"padding\": [0, 3],\n",
    "            },\n",
    "        },\n",
    "        {\"class\": \"ReLU\", \"kargs\": {\"inplace\": True}},\n",
    "        {\"class\": \"BatchNorm2d\", \"kargs\": {\"num_features\": 80}},\n",
    "        {\"class\": \"Flatten\", \"kargs\": {}},\n",
    "        {\"class\": \"Linear\", \"kargs\": {\"in_features\": 20480, \"out_features\": 256}},\n",
    "        {\"class\": \"ReLU\", \"kargs\": {\"inplace\": True}},\n",
    "        {\"class\": \"BatchNorm1d\", \"kargs\": {\"num_features\": 256}},\n",
    "        {\"class\": \"Linear\", \"kargs\": {\"in_features\": 256, \"out_features\": 256}},\n",
    "    ],\n",
    "    \"NUM_LOGS_PER_EPOCH\": 10,\n",
    "    \"BEST_MODEL_PATH\": \"./best_model.pth\",\n",
    "    \"n_way\": 16,\n",
    "    \"datasets\": [\n",
    "        {\n",
    "            \"labels\": [\n",
    "                \"3123D52\",\n",
    "                \"3123D65\",\n",
    "                \"3123D79\",\n",
    "                \"3123D80\",\n",
    "                \"3123D54\",\n",
    "                \"3123D70\",\n",
    "                \"3123D7B\",\n",
    "                \"3123D89\",\n",
    "                \"3123D58\",\n",
    "                \"3123D76\",\n",
    "                \"3123D7D\",\n",
    "                \"3123EFE\",\n",
    "                \"3123D64\",\n",
    "                \"3123D78\",\n",
    "                \"3123D7E\",\n",
    "                \"3124E4A\",\n",
    "            ],\n",
    "            \"domains\": [32, 38, 8, 44, 14, 50, 20, 26],\n",
    "            \"num_examples_per_domain_per_label\": 2000,\n",
    "            \"pickle_path\": \"/root/csc500-main/datasets/oracle.Run1_framed_2000Examples_stratified_ds.2022A.pkl\",\n",
    "            \"source_or_target_dataset\": \"target\",\n",
    "            \"x_transforms\": [\"unit_power\"],\n",
    "            \"episode_transforms\": [],\n",
    "            \"domain_prefix\": \"ORACLE.run1_\",\n",
    "        },\n",
    "        {\n",
    "            \"labels\": [\n",
    "                \"3123D52\",\n",
    "                \"3123D65\",\n",
    "                \"3123D79\",\n",
    "                \"3123D80\",\n",
    "                \"3123D54\",\n",
    "                \"3123D70\",\n",
    "                \"3123D7B\",\n",
    "                \"3123D89\",\n",
    "                \"3123D58\",\n",
    "                \"3123D76\",\n",
    "                \"3123D7D\",\n",
    "                \"3123EFE\",\n",
    "                \"3123D64\",\n",
    "                \"3123D78\",\n",
    "                \"3123D7E\",\n",
    "                \"3124E4A\",\n",
    "            ],\n",
    "            \"domains\": [32, 38, 8, 44, 14, 50, 20, 26],\n",
    "            \"num_examples_per_domain_per_label\": 2000,\n",
    "            \"pickle_path\": \"/root/csc500-main/datasets/oracle.Run2_framed_2000Examples_stratified_ds.2022A.pkl\",\n",
    "            \"source_or_target_dataset\": \"source\",\n",
    "            \"x_transforms\": [\"unit_power\"],\n",
    "            \"episode_transforms\": [],\n",
    "            \"domain_prefix\": \"ORACLE.run2_\",\n",
    "        },\n",
    "    ],\n",
    "    \"dataset_seed\": 1337,\n",
    "    \"seed\": 1337,\n",
    "}\n"
   ]
  },
  {
   "cell_type": "code",
   "execution_count": 5,
   "id": "8fa1cc33",
   "metadata": {
    "execution": {
     "iopub.execute_input": "2022-03-21T05:45:09.460287Z",
     "iopub.status.busy": "2022-03-21T05:45:09.459698Z",
     "iopub.status.idle": "2022-03-21T05:45:09.482014Z",
     "shell.execute_reply": "2022-03-21T05:45:09.481189Z"
    },
    "papermill": {
     "duration": 0.049806,
     "end_time": "2022-03-21T05:45:09.482178",
     "exception": false,
     "start_time": "2022-03-21T05:45:09.432372",
     "status": "completed"
    },
    "tags": []
   },
   "outputs": [],
   "source": [
    "# Set this to True if you want to run this template directly\n",
    "STANDALONE = False\n",
    "if STANDALONE:\n",
    "    print(\"parameters not injected, running with standalone_parameters\")\n",
    "    parameters = standalone_parameters\n",
    "\n",
    "if not 'parameters' in locals() and not 'parameters' in globals():\n",
    "    raise Exception(\"Parameter injection failed\")\n",
    "\n",
    "#Use an easy dict for all the parameters\n",
    "p = EasyDict(parameters)\n",
    "\n",
    "if \"x_shape\" not in p:\n",
    "    p.x_shape = [2,256] # Default to this if we dont supply x_shape\n",
    "\n",
    "\n",
    "supplied_keys = set(p.keys())\n",
    "\n",
    "if  supplied_keys != required_parameters:\n",
    "    print(\"Parameters are incorrect\")\n",
    "    if len(supplied_keys - required_parameters)>0: print(\"Shouldn't have:\", str(supplied_keys - required_parameters))\n",
    "    if len(required_parameters - supplied_keys)>0: print(\"Need to have:\", str(required_parameters - supplied_keys))\n",
    "    raise RuntimeError(\"Parameters are incorrect\")"
   ]
  },
  {
   "cell_type": "code",
   "execution_count": 6,
   "id": "3a028d58",
   "metadata": {
    "execution": {
     "iopub.execute_input": "2022-03-21T05:45:09.536412Z",
     "iopub.status.busy": "2022-03-21T05:45:09.529591Z",
     "iopub.status.idle": "2022-03-21T05:45:09.551937Z",
     "shell.execute_reply": "2022-03-21T05:45:09.551218Z"
    },
    "papermill": {
     "duration": 0.045184,
     "end_time": "2022-03-21T05:45:09.552093",
     "exception": false,
     "start_time": "2022-03-21T05:45:09.506909",
     "status": "completed"
    },
    "tags": []
   },
   "outputs": [],
   "source": [
    "###################################\n",
    "# Set the RNGs and make it all deterministic\n",
    "###################################\n",
    "np.random.seed(p.seed)\n",
    "random.seed(p.seed)\n",
    "torch.manual_seed(p.seed)\n",
    "\n",
    "torch.use_deterministic_algorithms(True) "
   ]
  },
  {
   "cell_type": "code",
   "execution_count": 7,
   "id": "b691acf6",
   "metadata": {
    "execution": {
     "iopub.execute_input": "2022-03-21T05:45:09.605224Z",
     "iopub.status.busy": "2022-03-21T05:45:09.604671Z",
     "iopub.status.idle": "2022-03-21T05:45:09.629240Z",
     "shell.execute_reply": "2022-03-21T05:45:09.628430Z"
    },
    "papermill": {
     "duration": 0.04896,
     "end_time": "2022-03-21T05:45:09.629396",
     "exception": false,
     "start_time": "2022-03-21T05:45:09.580436",
     "status": "completed"
    },
    "tags": []
   },
   "outputs": [],
   "source": [
    "###########################################\n",
    "# The stratified datasets honor this\n",
    "###########################################\n",
    "torch.set_default_dtype(eval(p.torch_default_dtype))"
   ]
  },
  {
   "cell_type": "code",
   "execution_count": 8,
   "id": "b5fba671",
   "metadata": {
    "execution": {
     "iopub.execute_input": "2022-03-21T05:45:09.678287Z",
     "iopub.status.busy": "2022-03-21T05:45:09.677923Z",
     "iopub.status.idle": "2022-03-21T05:45:09.732915Z",
     "shell.execute_reply": "2022-03-21T05:45:09.732210Z"
    },
    "papermill": {
     "duration": 0.078445,
     "end_time": "2022-03-21T05:45:09.733068",
     "exception": false,
     "start_time": "2022-03-21T05:45:09.654623",
     "status": "completed"
    },
    "tags": []
   },
   "outputs": [],
   "source": [
    "###################################\n",
    "# Build the network(s)\n",
    "# Note: It's critical to do this AFTER setting the RNG\n",
    "###################################\n",
    "x_net = build_sequential(p.x_net)"
   ]
  },
  {
   "cell_type": "code",
   "execution_count": 9,
   "id": "5d7e61cc",
   "metadata": {
    "execution": {
     "iopub.execute_input": "2022-03-21T05:45:09.780213Z",
     "iopub.status.busy": "2022-03-21T05:45:09.779847Z",
     "iopub.status.idle": "2022-03-21T05:45:09.805617Z",
     "shell.execute_reply": "2022-03-21T05:45:09.804807Z"
    },
    "papermill": {
     "duration": 0.049035,
     "end_time": "2022-03-21T05:45:09.805771",
     "exception": false,
     "start_time": "2022-03-21T05:45:09.756736",
     "status": "completed"
    },
    "tags": []
   },
   "outputs": [],
   "source": [
    "start_time_secs = time.time()"
   ]
  },
  {
   "cell_type": "code",
   "execution_count": 10,
   "id": "c6b67dfd",
   "metadata": {
    "execution": {
     "iopub.execute_input": "2022-03-21T05:45:09.855468Z",
     "iopub.status.busy": "2022-03-21T05:45:09.854729Z",
     "iopub.status.idle": "2022-03-21T05:45:09.878629Z",
     "shell.execute_reply": "2022-03-21T05:45:09.877923Z"
    },
    "papermill": {
     "duration": 0.04713,
     "end_time": "2022-03-21T05:45:09.878783",
     "exception": false,
     "start_time": "2022-03-21T05:45:09.831653",
     "status": "completed"
    },
    "tags": []
   },
   "outputs": [],
   "source": [
    "p.domains_source = []\n",
    "p.domains_target = []\n",
    "\n",
    "\n",
    "train_original_source = []\n",
    "val_original_source   = []\n",
    "test_original_source  = []\n",
    "\n",
    "train_original_target = []\n",
    "val_original_target   = []\n",
    "test_original_target  = []"
   ]
  },
  {
   "cell_type": "code",
   "execution_count": 11,
   "id": "e3d9c3d3",
   "metadata": {
    "execution": {
     "iopub.execute_input": "2022-03-21T05:45:09.928873Z",
     "iopub.status.busy": "2022-03-21T05:45:09.928510Z",
     "iopub.status.idle": "2022-03-21T05:45:09.946452Z",
     "shell.execute_reply": "2022-03-21T05:45:09.945646Z"
    },
    "papermill": {
     "duration": 0.040389,
     "end_time": "2022-03-21T05:45:09.946606",
     "exception": false,
     "start_time": "2022-03-21T05:45:09.906217",
     "status": "completed"
    },
    "tags": []
   },
   "outputs": [],
   "source": [
    "# global_x_transform_func = lambda x: normalize(x.to(torch.get_default_dtype()), \"unit_power\") # unit_power, unit_mag\n",
    "# global_x_transform_func = lambda x: normalize(x, \"unit_power\") # unit_power, unit_mag"
   ]
  },
  {
   "cell_type": "code",
   "execution_count": 12,
   "id": "acb78fd2",
   "metadata": {
    "execution": {
     "iopub.execute_input": "2022-03-21T05:45:10.001408Z",
     "iopub.status.busy": "2022-03-21T05:45:10.001028Z",
     "iopub.status.idle": "2022-03-21T05:45:10.020425Z",
     "shell.execute_reply": "2022-03-21T05:45:10.019619Z"
    },
    "papermill": {
     "duration": 0.046734,
     "end_time": "2022-03-21T05:45:10.020578",
     "exception": false,
     "start_time": "2022-03-21T05:45:09.973844",
     "status": "completed"
    },
    "tags": []
   },
   "outputs": [],
   "source": [
    "def add_dataset(\n",
    "    labels,\n",
    "    domains,\n",
    "    pickle_path,\n",
    "    x_transforms,\n",
    "    episode_transforms,\n",
    "    domain_prefix,\n",
    "    num_examples_per_domain_per_label,\n",
    "    source_or_target_dataset:str,\n",
    "    iterator_seed=p.seed,\n",
    "    dataset_seed=p.dataset_seed,\n",
    "    n_shot=p.n_shot,\n",
    "    n_way=p.n_way,\n",
    "    n_query=p.n_query,\n",
    "    train_val_test_k_factors=(p.train_k_factor,p.val_k_factor,p.test_k_factor),\n",
    "):\n",
    "   \n",
    "    if x_transforms == []: x_transform = None\n",
    "    else: x_transform = get_chained_transform(x_transforms)\n",
    "    \n",
    "    if episode_transforms == []: episode_transform = None\n",
    "    else: raise Exception(\"episode_transforms not implemented\")\n",
    "    \n",
    "    episode_transform = lambda tup, _prefix=domain_prefix: (_prefix + str(tup[0]), tup[1])\n",
    "\n",
    "\n",
    "    eaf = Episodic_Accessor_Factory(\n",
    "        labels=labels,\n",
    "        domains=domains,\n",
    "        num_examples_per_domain_per_label=num_examples_per_domain_per_label,\n",
    "        iterator_seed=iterator_seed,\n",
    "        dataset_seed=dataset_seed,\n",
    "        n_shot=n_shot,\n",
    "        n_way=n_way,\n",
    "        n_query=n_query,\n",
    "        train_val_test_k_factors=train_val_test_k_factors,\n",
    "        pickle_path=pickle_path,\n",
    "        x_transform_func=x_transform,\n",
    "    )\n",
    "\n",
    "    train, val, test = eaf.get_train(), eaf.get_val(), eaf.get_test()\n",
    "    train = Lazy_Iterable_Wrapper(train, episode_transform)\n",
    "    val = Lazy_Iterable_Wrapper(val, episode_transform)\n",
    "    test = Lazy_Iterable_Wrapper(test, episode_transform)\n",
    "\n",
    "    if source_or_target_dataset==\"source\":\n",
    "        train_original_source.append(train)\n",
    "        val_original_source.append(val)\n",
    "        test_original_source.append(test)\n",
    "\n",
    "        p.domains_source.extend(\n",
    "            [domain_prefix + str(u) for u in domains]\n",
    "        )\n",
    "    elif source_or_target_dataset==\"target\":\n",
    "        train_original_target.append(train)\n",
    "        val_original_target.append(val)\n",
    "        test_original_target.append(test)\n",
    "        p.domains_target.extend(\n",
    "            [domain_prefix + str(u) for u in domains]\n",
    "        )\n",
    "    else:\n",
    "        raise Exception(f\"invalid source_or_target_dataset: {source_or_target_dataset}\")\n",
    "    "
   ]
  },
  {
   "cell_type": "code",
   "execution_count": 13,
   "id": "fe266617",
   "metadata": {
    "execution": {
     "iopub.execute_input": "2022-03-21T05:45:10.073631Z",
     "iopub.status.busy": "2022-03-21T05:45:10.072826Z",
     "iopub.status.idle": "2022-03-21T05:45:52.962679Z",
     "shell.execute_reply": "2022-03-21T05:45:52.961915Z"
    },
    "papermill": {
     "duration": 42.913772,
     "end_time": "2022-03-21T05:45:52.962875",
     "exception": false,
     "start_time": "2022-03-21T05:45:10.049103",
     "status": "completed"
    },
    "tags": []
   },
   "outputs": [],
   "source": [
    "for ds in p.datasets:\n",
    "    add_dataset(**ds)"
   ]
  },
  {
   "cell_type": "code",
   "execution_count": 14,
   "id": "b90d65ac",
   "metadata": {
    "execution": {
     "iopub.execute_input": "2022-03-21T05:45:53.017024Z",
     "iopub.status.busy": "2022-03-21T05:45:53.016632Z",
     "iopub.status.idle": "2022-03-21T05:45:53.043278Z",
     "shell.execute_reply": "2022-03-21T05:45:53.042662Z"
    },
    "papermill": {
     "duration": 0.052319,
     "end_time": "2022-03-21T05:45:53.043410",
     "exception": false,
     "start_time": "2022-03-21T05:45:52.991091",
     "status": "completed"
    },
    "tags": []
   },
   "outputs": [],
   "source": [
    "# from steves_utils.CORES.utils import (\n",
    "#     ALL_NODES,\n",
    "#     ALL_NODES_MINIMUM_1000_EXAMPLES,\n",
    "#     ALL_DAYS\n",
    "# )\n",
    "\n",
    "# add_dataset(\n",
    "#     labels=ALL_NODES,\n",
    "#     domains = ALL_DAYS,\n",
    "#     num_examples_per_domain_per_label=100,\n",
    "#     pickle_path=os.path.join(get_datasets_base_path(), \"cores.stratified_ds.2022A.pkl\"),\n",
    "#     source_or_target_dataset=\"target\",\n",
    "#     x_transform_func=global_x_transform_func,\n",
    "#     domain_modifier=lambda u: f\"cores_{u}\"\n",
    "# )"
   ]
  },
  {
   "cell_type": "code",
   "execution_count": 15,
   "id": "76db484d",
   "metadata": {
    "execution": {
     "iopub.execute_input": "2022-03-21T05:45:53.102791Z",
     "iopub.status.busy": "2022-03-21T05:45:53.101829Z",
     "iopub.status.idle": "2022-03-21T05:45:53.115179Z",
     "shell.execute_reply": "2022-03-21T05:45:53.114185Z"
    },
    "papermill": {
     "duration": 0.046347,
     "end_time": "2022-03-21T05:45:53.115372",
     "exception": false,
     "start_time": "2022-03-21T05:45:53.069025",
     "status": "completed"
    },
    "tags": []
   },
   "outputs": [],
   "source": [
    "# from steves_utils.ORACLE.utils_v2 import (\n",
    "#     ALL_DISTANCES_FEET,\n",
    "#     ALL_RUNS,\n",
    "#     ALL_SERIAL_NUMBERS,\n",
    "# )\n",
    "\n",
    "\n",
    "# add_dataset(\n",
    "#     labels=ALL_SERIAL_NUMBERS,\n",
    "#     domains = list(set(ALL_DISTANCES_FEET) - {2,62}),\n",
    "#     num_examples_per_domain_per_label=100,\n",
    "#     pickle_path=os.path.join(get_datasets_base_path(), \"oracle.Run2_framed_2000Examples_stratified_ds.2022A.pkl\"),\n",
    "#     source_or_target_dataset=\"source\",\n",
    "#     x_transform_func=global_x_transform_func,\n",
    "#     domain_modifier=lambda u: f\"oracle1_{u}\"\n",
    "# )\n"
   ]
  },
  {
   "cell_type": "code",
   "execution_count": 16,
   "id": "97dea9d2",
   "metadata": {
    "execution": {
     "iopub.execute_input": "2022-03-21T05:45:53.171137Z",
     "iopub.status.busy": "2022-03-21T05:45:53.170748Z",
     "iopub.status.idle": "2022-03-21T05:45:53.187866Z",
     "shell.execute_reply": "2022-03-21T05:45:53.187260Z"
    },
    "papermill": {
     "duration": 0.042509,
     "end_time": "2022-03-21T05:45:53.188006",
     "exception": false,
     "start_time": "2022-03-21T05:45:53.145497",
     "status": "completed"
    },
    "tags": []
   },
   "outputs": [],
   "source": [
    "# from steves_utils.ORACLE.utils_v2 import (\n",
    "#     ALL_DISTANCES_FEET,\n",
    "#     ALL_RUNS,\n",
    "#     ALL_SERIAL_NUMBERS,\n",
    "# )\n",
    "\n",
    "\n",
    "# add_dataset(\n",
    "#     labels=ALL_SERIAL_NUMBERS,\n",
    "#     domains = list(set(ALL_DISTANCES_FEET) - {2,62,56}),\n",
    "#     num_examples_per_domain_per_label=100,\n",
    "#     pickle_path=os.path.join(get_datasets_base_path(), \"oracle.Run2_framed_2000Examples_stratified_ds.2022A.pkl\"),\n",
    "#     source_or_target_dataset=\"source\",\n",
    "#     x_transform_func=global_x_transform_func,\n",
    "#     domain_modifier=lambda u: f\"oracle2_{u}\"\n",
    "# )"
   ]
  },
  {
   "cell_type": "code",
   "execution_count": 17,
   "id": "6f289866",
   "metadata": {
    "execution": {
     "iopub.execute_input": "2022-03-21T05:45:53.242173Z",
     "iopub.status.busy": "2022-03-21T05:45:53.241786Z",
     "iopub.status.idle": "2022-03-21T05:45:53.262382Z",
     "shell.execute_reply": "2022-03-21T05:45:53.261557Z"
    },
    "papermill": {
     "duration": 0.046648,
     "end_time": "2022-03-21T05:45:53.262575",
     "exception": false,
     "start_time": "2022-03-21T05:45:53.215927",
     "status": "completed"
    },
    "tags": []
   },
   "outputs": [],
   "source": [
    "# add_dataset(\n",
    "#     labels=list(range(19)),\n",
    "#     domains = [0,1,2],\n",
    "#     num_examples_per_domain_per_label=100,\n",
    "#     pickle_path=os.path.join(get_datasets_base_path(), \"metehan.stratified_ds.2022A.pkl\"),\n",
    "#     source_or_target_dataset=\"target\",\n",
    "#     x_transform_func=global_x_transform_func,\n",
    "#     domain_modifier=lambda u: f\"met_{u}\"\n",
    "# )"
   ]
  },
  {
   "cell_type": "code",
   "execution_count": 18,
   "id": "86a863c3",
   "metadata": {
    "execution": {
     "iopub.execute_input": "2022-03-21T05:45:53.318540Z",
     "iopub.status.busy": "2022-03-21T05:45:53.316919Z",
     "iopub.status.idle": "2022-03-21T05:45:53.338388Z",
     "shell.execute_reply": "2022-03-21T05:45:53.337615Z"
    },
    "papermill": {
     "duration": 0.047431,
     "end_time": "2022-03-21T05:45:53.338562",
     "exception": false,
     "start_time": "2022-03-21T05:45:53.291131",
     "status": "completed"
    },
    "tags": []
   },
   "outputs": [],
   "source": [
    "# # from steves_utils.wisig.utils import (\n",
    "# #     ALL_NODES_MINIMUM_100_EXAMPLES,\n",
    "# #     ALL_NODES_MINIMUM_500_EXAMPLES,\n",
    "# #     ALL_NODES_MINIMUM_1000_EXAMPLES,\n",
    "# #     ALL_DAYS\n",
    "# # )\n",
    "\n",
    "# import steves_utils.wisig.utils as wisig\n",
    "\n",
    "\n",
    "# add_dataset(\n",
    "#     labels=wisig.ALL_NODES_MINIMUM_100_EXAMPLES,\n",
    "#     domains = wisig.ALL_DAYS,\n",
    "#     num_examples_per_domain_per_label=100,\n",
    "#     pickle_path=os.path.join(get_datasets_base_path(), \"wisig.node3-19.stratified_ds.2022A.pkl\"),\n",
    "#     source_or_target_dataset=\"target\",\n",
    "#     x_transform_func=global_x_transform_func,\n",
    "#     domain_modifier=lambda u: f\"wisig_{u}\"\n",
    "# )"
   ]
  },
  {
   "cell_type": "code",
   "execution_count": 19,
   "id": "fd5442bc",
   "metadata": {
    "execution": {
     "iopub.execute_input": "2022-03-21T05:45:53.401829Z",
     "iopub.status.busy": "2022-03-21T05:45:53.401088Z",
     "iopub.status.idle": "2022-03-21T05:45:53.419864Z",
     "shell.execute_reply": "2022-03-21T05:45:53.419230Z"
    },
    "papermill": {
     "duration": 0.053159,
     "end_time": "2022-03-21T05:45:53.420002",
     "exception": false,
     "start_time": "2022-03-21T05:45:53.366843",
     "status": "completed"
    },
    "tags": []
   },
   "outputs": [],
   "source": [
    "###################################\n",
    "# Build the dataset\n",
    "###################################\n",
    "train_original_source = Iterable_Aggregator(train_original_source, p.seed)\n",
    "val_original_source = Iterable_Aggregator(val_original_source, p.seed)\n",
    "test_original_source = Iterable_Aggregator(test_original_source, p.seed)\n",
    "\n",
    "\n",
    "train_original_target = Iterable_Aggregator(train_original_target, p.seed)\n",
    "val_original_target = Iterable_Aggregator(val_original_target, p.seed)\n",
    "test_original_target = Iterable_Aggregator(test_original_target, p.seed)\n",
    "\n",
    "# For CNN We only use X and Y. And we only train on the source.\n",
    "# Properly form the data using a transform lambda and Lazy_Iterable_Wrapper. Finally wrap them in a dataloader\n",
    "\n",
    "transform_lambda = lambda ex: ex[1] # Original is (<domain>, <episode>) so we strip down to episode only\n",
    "\n",
    "train_processed_source = Lazy_Iterable_Wrapper(train_original_source, transform_lambda)\n",
    "val_processed_source   = Lazy_Iterable_Wrapper(val_original_source, transform_lambda)\n",
    "test_processed_source  = Lazy_Iterable_Wrapper(test_original_source, transform_lambda)\n",
    "\n",
    "train_processed_target = Lazy_Iterable_Wrapper(train_original_target, transform_lambda)\n",
    "val_processed_target   = Lazy_Iterable_Wrapper(val_original_target, transform_lambda)\n",
    "test_processed_target  = Lazy_Iterable_Wrapper(test_original_target, transform_lambda)\n",
    "\n",
    "datasets = EasyDict({\n",
    "    \"source\": {\n",
    "        \"original\": {\"train\":train_original_source, \"val\":val_original_source, \"test\":test_original_source},\n",
    "        \"processed\": {\"train\":train_processed_source, \"val\":val_processed_source, \"test\":test_processed_source}\n",
    "    },\n",
    "    \"target\": {\n",
    "        \"original\": {\"train\":train_original_target, \"val\":val_original_target, \"test\":test_original_target},\n",
    "        \"processed\": {\"train\":train_processed_target, \"val\":val_processed_target, \"test\":test_processed_target}\n",
    "    },\n",
    "})"
   ]
  },
  {
   "cell_type": "code",
   "execution_count": 20,
   "id": "5b3c01fc",
   "metadata": {
    "execution": {
     "iopub.execute_input": "2022-03-21T05:45:53.480926Z",
     "iopub.status.busy": "2022-03-21T05:45:53.480341Z",
     "iopub.status.idle": "2022-03-21T05:46:08.567859Z",
     "shell.execute_reply": "2022-03-21T05:46:08.568556Z"
    },
    "papermill": {
     "duration": 15.120348,
     "end_time": "2022-03-21T05:46:08.568819",
     "exception": false,
     "start_time": "2022-03-21T05:45:53.448471",
     "status": "completed"
    },
    "tags": []
   },
   "outputs": [
    {
     "name": "stdout",
     "output_type": "stream",
     "text": [
      "{'ORACLE.run2_50', 'ORACLE.run2_20', 'ORACLE.run2_44', 'ORACLE.run2_8', 'ORACLE.run2_32', 'ORACLE.run2_38', 'ORACLE.run2_14', 'ORACLE.run2_26'}\n"
     ]
    },
    {
     "name": "stdout",
     "output_type": "stream",
     "text": [
      "{'ORACLE.run1_20', 'ORACLE.run1_8', 'ORACLE.run1_50', 'ORACLE.run1_14', 'ORACLE.run1_32', 'ORACLE.run1_26', 'ORACLE.run1_44', 'ORACLE.run1_38'}\n"
     ]
    },
    {
     "name": "stdout",
     "output_type": "stream",
     "text": [
      "tensor([[[ 0.8991,  0.0908, -1.0172,  ...,  0.2816,  1.3714,  0.1453],\n",
      "         [ 0.3815,  1.1444, -0.4632,  ..., -0.9264, -0.0727, -1.0263]],\n",
      "\n",
      "        [[ 0.9651,  0.3642, -1.1107,  ..., -0.2458,  1.2018, -0.3551],\n",
      "         [ 0.0546,  0.9833, -0.1001,  ..., -1.1927, -0.6555, -0.9924]],\n",
      "\n",
      "        [[ 0.2039,  1.0937, -0.5654,  ..., -1.2235,  0.7322,  0.2225],\n",
      "         [-0.5561,  0.3986,  0.7044,  ..., -0.5191, -1.0752, -0.8991]],\n",
      "\n",
      "        ...,\n",
      "\n",
      "        [[ 0.0504, -1.2349,  0.2331,  ...,  1.1845, -0.3213,  0.0819],\n",
      "         [ 0.6490, -0.0693, -0.7876,  ...,  0.0000,  1.2665,  0.9892]],\n",
      "\n",
      "        [[ 0.7104, -0.5484, -0.8973,  ...,  1.0718,  0.8849, -0.3677],\n",
      "         [ 0.9222,  0.4237, -0.9721,  ..., -0.5297, -0.3739, -1.2400]],\n",
      "\n",
      "        [[ 0.3635, -0.6768, -0.4199,  ...,  1.0653,  1.1029,  0.7019],\n",
      "         [ 1.0402,  0.4951, -1.2408,  ..., -0.3133,  0.6768, -1.0402]]])\n"
     ]
    }
   ],
   "source": [
    "from steves_utils.transforms import get_average_magnitude, get_average_power\n",
    "\n",
    "print(set([u for u,_ in val_original_source]))\n",
    "print(set([u for u,_ in val_original_target]))\n",
    "\n",
    "s_x, s_y, q_x, q_y, _ = next(iter(train_processed_source))\n",
    "print(s_x)\n",
    "\n",
    "# for ds in [\n",
    "#     train_processed_source,\n",
    "#     val_processed_source,\n",
    "#     test_processed_source,\n",
    "#     train_processed_target,\n",
    "#     val_processed_target,\n",
    "#     test_processed_target\n",
    "# ]:\n",
    "#     for s_x, s_y, q_x, q_y, _ in ds:\n",
    "#         for X in (s_x, q_x):\n",
    "#             for x in X:\n",
    "#                 assert np.isclose(get_average_magnitude(x.numpy()), 1.0)\n",
    "#                 assert np.isclose(get_average_power(x.numpy()), 1.0)\n",
    "                "
   ]
  },
  {
   "cell_type": "code",
   "execution_count": 21,
   "id": "bbdacba1",
   "metadata": {
    "execution": {
     "iopub.execute_input": "2022-03-21T05:46:08.626026Z",
     "iopub.status.busy": "2022-03-21T05:46:08.625649Z",
     "iopub.status.idle": "2022-03-21T05:46:08.782589Z",
     "shell.execute_reply": "2022-03-21T05:46:08.782232Z"
    },
    "papermill": {
     "duration": 0.185608,
     "end_time": "2022-03-21T05:46:08.782689",
     "exception": false,
     "start_time": "2022-03-21T05:46:08.597081",
     "status": "completed"
    },
    "tags": []
   },
   "outputs": [
    {
     "name": "stdout",
     "output_type": "stream",
     "text": [
      "(2, 256)\n"
     ]
    }
   ],
   "source": [
    "###################################\n",
    "# Build the model\n",
    "###################################\n",
    "# easfsl only wants a tuple for the shape\n",
    "model = Steves_Prototypical_Network(x_net, device=p.device, x_shape=tuple(p.x_shape))\n",
    "optimizer = Adam(params=model.parameters(), lr=p.lr)"
   ]
  },
  {
   "cell_type": "code",
   "execution_count": 22,
   "id": "22b39ac5",
   "metadata": {
    "execution": {
     "iopub.execute_input": "2022-03-21T05:46:08.876222Z",
     "iopub.status.busy": "2022-03-21T05:46:08.875859Z",
     "iopub.status.idle": "2022-03-21T07:15:43.759255Z",
     "shell.execute_reply": "2022-03-21T07:15:43.758904Z"
    },
    "papermill": {
     "duration": 5374.908929,
     "end_time": "2022-03-21T07:15:43.759341",
     "exception": false,
     "start_time": "2022-03-21T05:46:08.850412",
     "status": "completed"
    },
    "tags": []
   },
   "outputs": [
    {
     "name": "stdout",
     "output_type": "stream",
     "text": [
      "epoch: 1, [batch: 1 / 6720], examples_per_second: 33.6595, train_label_loss: 2.7355, \n"
     ]
    },
    {
     "name": "stdout",
     "output_type": "stream",
     "text": [
      "epoch: 1, [batch: 672 / 6720], examples_per_second: 2560.5716, train_label_loss: 0.9748, \n"
     ]
    },
    {
     "name": "stdout",
     "output_type": "stream",
     "text": [
      "epoch: 1, [batch: 1344 / 6720], examples_per_second: 2580.0438, train_label_loss: 0.5424, \n"
     ]
    },
    {
     "name": "stdout",
     "output_type": "stream",
     "text": [
      "epoch: 1, [batch: 2016 / 6720], examples_per_second: 2574.9773, train_label_loss: 0.4687, \n"
     ]
    },
    {
     "name": "stdout",
     "output_type": "stream",
     "text": [
      "epoch: 1, [batch: 2688 / 6720], examples_per_second: 2928.0423, train_label_loss: 0.8362, \n"
     ]
    },
    {
     "name": "stdout",
     "output_type": "stream",
     "text": [
      "epoch: 1, [batch: 3360 / 6720], examples_per_second: 2948.9873, train_label_loss: 0.7832, \n"
     ]
    },
    {
     "name": "stdout",
     "output_type": "stream",
     "text": [
      "epoch: 1, [batch: 4032 / 6720], examples_per_second: 2918.3485, train_label_loss: 0.5755, \n"
     ]
    },
    {
     "name": "stdout",
     "output_type": "stream",
     "text": [
      "epoch: 1, [batch: 4704 / 6720], examples_per_second: 2946.3025, train_label_loss: 0.3927, \n"
     ]
    },
    {
     "name": "stdout",
     "output_type": "stream",
     "text": [
      "epoch: 1, [batch: 5376 / 6720], examples_per_second: 2937.9741, train_label_loss: 0.3533, \n"
     ]
    },
    {
     "name": "stdout",
     "output_type": "stream",
     "text": [
      "epoch: 1, [batch: 6048 / 6720], examples_per_second: 3058.5628, train_label_loss: 0.5949, \n"
     ]
    },
    {
     "name": "stdout",
     "output_type": "stream",
     "text": [
      "=============================================================\n",
      "epoch: 1, source_val_acc_label: 0.6667, target_val_acc_label: 0.6627, source_val_label_loss: 94.2920, target_val_label_loss: 110.6359, \n",
      "=============================================================\n"
     ]
    },
    {
     "name": "stdout",
     "output_type": "stream",
     "text": [
      "New best\n"
     ]
    },
    {
     "name": "stdout",
     "output_type": "stream",
     "text": [
      "epoch: 2, [batch: 1 / 6720], examples_per_second: 3.1562, train_label_loss: 258.0537, \n"
     ]
    },
    {
     "name": "stdout",
     "output_type": "stream",
     "text": [
      "epoch: 2, [batch: 672 / 6720], examples_per_second: 2377.9894, train_label_loss: 0.5423, \n"
     ]
    },
    {
     "name": "stdout",
     "output_type": "stream",
     "text": [
      "epoch: 2, [batch: 1344 / 6720], examples_per_second: 2286.6228, train_label_loss: 0.4591, \n"
     ]
    },
    {
     "name": "stdout",
     "output_type": "stream",
     "text": [
      "epoch: 2, [batch: 2016 / 6720], examples_per_second: 2316.9194, train_label_loss: 0.4375, \n"
     ]
    },
    {
     "name": "stdout",
     "output_type": "stream",
     "text": [
      "epoch: 2, [batch: 2688 / 6720], examples_per_second: 2304.7844, train_label_loss: 0.5198, \n"
     ]
    },
    {
     "name": "stdout",
     "output_type": "stream",
     "text": [
      "epoch: 2, [batch: 3360 / 6720], examples_per_second: 2298.7473, train_label_loss: 0.7354, \n"
     ]
    },
    {
     "name": "stdout",
     "output_type": "stream",
     "text": [
      "epoch: 2, [batch: 4032 / 6720], examples_per_second: 2293.6261, train_label_loss: 0.9421, \n"
     ]
    },
    {
     "name": "stdout",
     "output_type": "stream",
     "text": [
      "epoch: 2, [batch: 4704 / 6720], examples_per_second: 2293.0507, train_label_loss: 0.5057, \n"
     ]
    },
    {
     "name": "stdout",
     "output_type": "stream",
     "text": [
      "epoch: 2, [batch: 5376 / 6720], examples_per_second: 2304.5739, train_label_loss: 1.1968, \n"
     ]
    },
    {
     "name": "stdout",
     "output_type": "stream",
     "text": [
      "epoch: 2, [batch: 6048 / 6720], examples_per_second: 2552.9233, train_label_loss: 0.4919, \n"
     ]
    },
    {
     "name": "stdout",
     "output_type": "stream",
     "text": [
      "=============================================================\n",
      "epoch: 2, source_val_acc_label: 0.8258, target_val_acc_label: 0.8221, source_val_label_loss: 0.5049, target_val_label_loss: 0.4951, \n",
      "=============================================================\n"
     ]
    },
    {
     "name": "stdout",
     "output_type": "stream",
     "text": [
      "New best\n"
     ]
    },
    {
     "name": "stdout",
     "output_type": "stream",
     "text": [
      "epoch: 3, [batch: 1 / 6720], examples_per_second: 2.3841, train_label_loss: 0.6475, \n"
     ]
    },
    {
     "name": "stdout",
     "output_type": "stream",
     "text": [
      "epoch: 3, [batch: 672 / 6720], examples_per_second: 2388.7596, train_label_loss: 0.3903, \n"
     ]
    },
    {
     "name": "stdout",
     "output_type": "stream",
     "text": [
      "epoch: 3, [batch: 1344 / 6720], examples_per_second: 2346.1520, train_label_loss: 0.3082, \n"
     ]
    },
    {
     "name": "stdout",
     "output_type": "stream",
     "text": [
      "epoch: 3, [batch: 2016 / 6720], examples_per_second: 2322.4548, train_label_loss: 0.4064, \n"
     ]
    },
    {
     "name": "stdout",
     "output_type": "stream",
     "text": [
      "epoch: 3, [batch: 2688 / 6720], examples_per_second: 2312.2672, train_label_loss: 0.4174, \n"
     ]
    },
    {
     "name": "stdout",
     "output_type": "stream",
     "text": [
      "epoch: 3, [batch: 3360 / 6720], examples_per_second: 2311.5435, train_label_loss: 0.7595, \n"
     ]
    },
    {
     "name": "stdout",
     "output_type": "stream",
     "text": [
      "epoch: 3, [batch: 4032 / 6720], examples_per_second: 2309.7094, train_label_loss: 0.6812, \n"
     ]
    },
    {
     "name": "stdout",
     "output_type": "stream",
     "text": [
      "epoch: 3, [batch: 4704 / 6720], examples_per_second: 2290.2514, train_label_loss: 0.2476, \n"
     ]
    },
    {
     "name": "stdout",
     "output_type": "stream",
     "text": [
      "epoch: 3, [batch: 5376 / 6720], examples_per_second: 2438.8939, train_label_loss: 0.2981, \n"
     ]
    },
    {
     "name": "stdout",
     "output_type": "stream",
     "text": [
      "epoch: 3, [batch: 6048 / 6720], examples_per_second: 2599.1572, train_label_loss: 0.1376, \n"
     ]
    },
    {
     "name": "stdout",
     "output_type": "stream",
     "text": [
      "=============================================================\n",
      "epoch: 3, source_val_acc_label: 0.8344, target_val_acc_label: 0.8339, source_val_label_loss: 0.5223, target_val_label_loss: 0.4633, \n",
      "=============================================================\n"
     ]
    },
    {
     "name": "stdout",
     "output_type": "stream",
     "text": [
      "New best\n"
     ]
    },
    {
     "name": "stdout",
     "output_type": "stream",
     "text": [
      "epoch: 4, [batch: 1 / 6720], examples_per_second: 2.3007, train_label_loss: 0.1285, \n"
     ]
    },
    {
     "name": "stdout",
     "output_type": "stream",
     "text": [
      "epoch: 4, [batch: 672 / 6720], examples_per_second: 2376.1442, train_label_loss: 0.1779, \n"
     ]
    },
    {
     "name": "stdout",
     "output_type": "stream",
     "text": [
      "epoch: 4, [batch: 1344 / 6720], examples_per_second: 2308.5209, train_label_loss: 0.7825, \n"
     ]
    },
    {
     "name": "stdout",
     "output_type": "stream",
     "text": [
      "epoch: 4, [batch: 2016 / 6720], examples_per_second: 2326.1305, train_label_loss: 0.5437, \n"
     ]
    },
    {
     "name": "stdout",
     "output_type": "stream",
     "text": [
      "epoch: 4, [batch: 2688 / 6720], examples_per_second: 2311.2863, train_label_loss: 0.2668, \n"
     ]
    },
    {
     "name": "stdout",
     "output_type": "stream",
     "text": [
      "epoch: 4, [batch: 3360 / 6720], examples_per_second: 2310.0167, train_label_loss: 0.1799, \n"
     ]
    },
    {
     "name": "stdout",
     "output_type": "stream",
     "text": [
      "epoch: 4, [batch: 4032 / 6720], examples_per_second: 2493.2607, train_label_loss: 0.6445, \n"
     ]
    },
    {
     "name": "stdout",
     "output_type": "stream",
     "text": [
      "epoch: 4, [batch: 4704 / 6720], examples_per_second: 2679.7703, train_label_loss: 0.4256, \n"
     ]
    },
    {
     "name": "stdout",
     "output_type": "stream",
     "text": [
      "epoch: 4, [batch: 5376 / 6720], examples_per_second: 2937.2267, train_label_loss: 0.5066, \n"
     ]
    },
    {
     "name": "stdout",
     "output_type": "stream",
     "text": [
      "epoch: 4, [batch: 6048 / 6720], examples_per_second: 2944.5526, train_label_loss: 0.4988, \n"
     ]
    },
    {
     "name": "stdout",
     "output_type": "stream",
     "text": [
      "=============================================================\n",
      "epoch: 4, source_val_acc_label: 0.8562, target_val_acc_label: 0.8460, source_val_label_loss: 0.4047, target_val_label_loss: 0.4269, \n",
      "=============================================================\n"
     ]
    },
    {
     "name": "stdout",
     "output_type": "stream",
     "text": [
      "New best\n"
     ]
    },
    {
     "name": "stdout",
     "output_type": "stream",
     "text": [
      "epoch: 5, [batch: 1 / 6720], examples_per_second: 2.5513, train_label_loss: 0.2524, \n"
     ]
    },
    {
     "name": "stdout",
     "output_type": "stream",
     "text": [
      "epoch: 5, [batch: 672 / 6720], examples_per_second: 2997.9447, train_label_loss: 0.1060, \n"
     ]
    },
    {
     "name": "stdout",
     "output_type": "stream",
     "text": [
      "epoch: 5, [batch: 1344 / 6720], examples_per_second: 2378.1968, train_label_loss: 0.5150, \n"
     ]
    },
    {
     "name": "stdout",
     "output_type": "stream",
     "text": [
      "epoch: 5, [batch: 2016 / 6720], examples_per_second: 2300.0043, train_label_loss: 0.4325, \n"
     ]
    },
    {
     "name": "stdout",
     "output_type": "stream",
     "text": [
      "epoch: 5, [batch: 2688 / 6720], examples_per_second: 2304.5365, train_label_loss: 0.2642, \n"
     ]
    },
    {
     "name": "stdout",
     "output_type": "stream",
     "text": [
      "epoch: 5, [batch: 3360 / 6720], examples_per_second: 2328.1447, train_label_loss: 0.2535, \n"
     ]
    },
    {
     "name": "stdout",
     "output_type": "stream",
     "text": [
      "epoch: 5, [batch: 4032 / 6720], examples_per_second: 2401.5060, train_label_loss: 0.5079, \n"
     ]
    },
    {
     "name": "stdout",
     "output_type": "stream",
     "text": [
      "epoch: 5, [batch: 4704 / 6720], examples_per_second: 2581.2785, train_label_loss: 0.1798, \n"
     ]
    },
    {
     "name": "stdout",
     "output_type": "stream",
     "text": [
      "epoch: 5, [batch: 5376 / 6720], examples_per_second: 2624.0711, train_label_loss: 0.6455, \n"
     ]
    },
    {
     "name": "stdout",
     "output_type": "stream",
     "text": [
      "epoch: 5, [batch: 6048 / 6720], examples_per_second: 2563.6697, train_label_loss: 0.2573, \n"
     ]
    },
    {
     "name": "stdout",
     "output_type": "stream",
     "text": [
      "=============================================================\n",
      "epoch: 5, source_val_acc_label: 0.8682, target_val_acc_label: 0.8624, source_val_label_loss: 0.3695, target_val_label_loss: 0.3841, \n",
      "=============================================================\n"
     ]
    },
    {
     "name": "stdout",
     "output_type": "stream",
     "text": [
      "New best\n"
     ]
    },
    {
     "name": "stdout",
     "output_type": "stream",
     "text": [
      "epoch: 6, [batch: 1 / 6720], examples_per_second: 2.1924, train_label_loss: 0.2936, \n"
     ]
    },
    {
     "name": "stdout",
     "output_type": "stream",
     "text": [
      "epoch: 6, [batch: 672 / 6720], examples_per_second: 2326.9451, train_label_loss: 0.5029, \n"
     ]
    },
    {
     "name": "stdout",
     "output_type": "stream",
     "text": [
      "epoch: 6, [batch: 1344 / 6720], examples_per_second: 2305.5808, train_label_loss: 0.3348, \n"
     ]
    },
    {
     "name": "stdout",
     "output_type": "stream",
     "text": [
      "epoch: 6, [batch: 2016 / 6720], examples_per_second: 2329.8926, train_label_loss: 0.2516, \n"
     ]
    },
    {
     "name": "stdout",
     "output_type": "stream",
     "text": [
      "epoch: 6, [batch: 2688 / 6720], examples_per_second: 2289.3324, train_label_loss: 0.6354, \n"
     ]
    },
    {
     "name": "stdout",
     "output_type": "stream",
     "text": [
      "epoch: 6, [batch: 3360 / 6720], examples_per_second: 2339.9499, train_label_loss: 0.4884, \n"
     ]
    },
    {
     "name": "stdout",
     "output_type": "stream",
     "text": [
      "epoch: 6, [batch: 4032 / 6720], examples_per_second: 2577.7223, train_label_loss: 0.3830, \n"
     ]
    },
    {
     "name": "stdout",
     "output_type": "stream",
     "text": [
      "epoch: 6, [batch: 4704 / 6720], examples_per_second: 2612.3872, train_label_loss: 0.2409, \n"
     ]
    },
    {
     "name": "stdout",
     "output_type": "stream",
     "text": [
      "epoch: 6, [batch: 5376 / 6720], examples_per_second: 2620.4046, train_label_loss: 0.1130, \n"
     ]
    },
    {
     "name": "stdout",
     "output_type": "stream",
     "text": [
      "epoch: 6, [batch: 6048 / 6720], examples_per_second: 2309.1240, train_label_loss: 0.1442, \n"
     ]
    },
    {
     "name": "stdout",
     "output_type": "stream",
     "text": [
      "=============================================================\n",
      "epoch: 6, source_val_acc_label: 0.8639, target_val_acc_label: 0.8539, source_val_label_loss: 0.3897, target_val_label_loss: 0.4123, \n",
      "=============================================================\n"
     ]
    },
    {
     "name": "stdout",
     "output_type": "stream",
     "text": [
      "epoch: 7, [batch: 1 / 6720], examples_per_second: 2.2048, train_label_loss: 0.2782, \n"
     ]
    },
    {
     "name": "stdout",
     "output_type": "stream",
     "text": [
      "epoch: 7, [batch: 672 / 6720], examples_per_second: 2363.4090, train_label_loss: 0.5662, \n"
     ]
    },
    {
     "name": "stdout",
     "output_type": "stream",
     "text": [
      "epoch: 7, [batch: 1344 / 6720], examples_per_second: 2314.0405, train_label_loss: 0.2059, \n"
     ]
    },
    {
     "name": "stdout",
     "output_type": "stream",
     "text": [
      "epoch: 7, [batch: 2016 / 6720], examples_per_second: 2323.2083, train_label_loss: 0.1929, \n"
     ]
    },
    {
     "name": "stdout",
     "output_type": "stream",
     "text": [
      "epoch: 7, [batch: 2688 / 6720], examples_per_second: 2281.2955, train_label_loss: 0.2655, \n"
     ]
    },
    {
     "name": "stdout",
     "output_type": "stream",
     "text": [
      "epoch: 7, [batch: 3360 / 6720], examples_per_second: 2468.9286, train_label_loss: 0.4581, \n"
     ]
    },
    {
     "name": "stdout",
     "output_type": "stream",
     "text": [
      "epoch: 7, [batch: 4032 / 6720], examples_per_second: 2603.0169, train_label_loss: 0.1577, \n"
     ]
    },
    {
     "name": "stdout",
     "output_type": "stream",
     "text": [
      "epoch: 7, [batch: 4704 / 6720], examples_per_second: 2627.0653, train_label_loss: 0.3164, \n"
     ]
    },
    {
     "name": "stdout",
     "output_type": "stream",
     "text": [
      "epoch: 7, [batch: 5376 / 6720], examples_per_second: 2581.1739, train_label_loss: 0.1350, \n"
     ]
    },
    {
     "name": "stdout",
     "output_type": "stream",
     "text": [
      "epoch: 7, [batch: 6048 / 6720], examples_per_second: 2529.1755, train_label_loss: 0.1544, \n"
     ]
    },
    {
     "name": "stdout",
     "output_type": "stream",
     "text": [
      "=============================================================\n",
      "epoch: 7, source_val_acc_label: 0.8578, target_val_acc_label: 0.8499, source_val_label_loss: 0.3976, target_val_label_loss: 0.4307, \n",
      "=============================================================\n"
     ]
    },
    {
     "name": "stdout",
     "output_type": "stream",
     "text": [
      "epoch: 8, [batch: 1 / 6720], examples_per_second: 2.5341, train_label_loss: 0.6123, \n"
     ]
    },
    {
     "name": "stdout",
     "output_type": "stream",
     "text": [
      "epoch: 8, [batch: 672 / 6720], examples_per_second: 2612.4933, train_label_loss: 0.5636, \n"
     ]
    },
    {
     "name": "stdout",
     "output_type": "stream",
     "text": [
      "epoch: 8, [batch: 1344 / 6720], examples_per_second: 2522.3235, train_label_loss: 0.4122, \n"
     ]
    },
    {
     "name": "stdout",
     "output_type": "stream",
     "text": [
      "epoch: 8, [batch: 2016 / 6720], examples_per_second: 2588.7066, train_label_loss: 0.2590, \n"
     ]
    },
    {
     "name": "stdout",
     "output_type": "stream",
     "text": [
      "epoch: 8, [batch: 2688 / 6720], examples_per_second: 2969.6402, train_label_loss: 0.0275, \n"
     ]
    },
    {
     "name": "stdout",
     "output_type": "stream",
     "text": [
      "epoch: 8, [batch: 3360 / 6720], examples_per_second: 2948.9125, train_label_loss: 0.3417, \n"
     ]
    },
    {
     "name": "stdout",
     "output_type": "stream",
     "text": [
      "epoch: 8, [batch: 4032 / 6720], examples_per_second: 2976.9961, train_label_loss: 0.5675, \n"
     ]
    },
    {
     "name": "stdout",
     "output_type": "stream",
     "text": [
      "epoch: 8, [batch: 4704 / 6720], examples_per_second: 2977.0118, train_label_loss: 0.3218, \n"
     ]
    },
    {
     "name": "stdout",
     "output_type": "stream",
     "text": [
      "epoch: 8, [batch: 5376 / 6720], examples_per_second: 2950.7663, train_label_loss: 0.0601, \n"
     ]
    },
    {
     "name": "stdout",
     "output_type": "stream",
     "text": [
      "epoch: 8, [batch: 6048 / 6720], examples_per_second: 2995.7608, train_label_loss: 0.1274, \n"
     ]
    },
    {
     "name": "stdout",
     "output_type": "stream",
     "text": [
      "=============================================================\n",
      "epoch: 8, source_val_acc_label: 0.8887, target_val_acc_label: 0.8761, source_val_label_loss: 0.3068, target_val_label_loss: 0.3479, \n",
      "=============================================================\n"
     ]
    },
    {
     "name": "stdout",
     "output_type": "stream",
     "text": [
      "New best\n"
     ]
    },
    {
     "name": "stdout",
     "output_type": "stream",
     "text": [
      "epoch: 9, [batch: 1 / 6720], examples_per_second: 2.9077, train_label_loss: 0.2041, \n"
     ]
    },
    {
     "name": "stdout",
     "output_type": "stream",
     "text": [
      "epoch: 9, [batch: 672 / 6720], examples_per_second: 2542.9621, train_label_loss: 0.1565, \n"
     ]
    },
    {
     "name": "stdout",
     "output_type": "stream",
     "text": [
      "epoch: 9, [batch: 1344 / 6720], examples_per_second: 2588.3024, train_label_loss: 0.2997, \n"
     ]
    },
    {
     "name": "stdout",
     "output_type": "stream",
     "text": [
      "epoch: 9, [batch: 2016 / 6720], examples_per_second: 2602.2184, train_label_loss: 0.1162, \n"
     ]
    },
    {
     "name": "stdout",
     "output_type": "stream",
     "text": [
      "epoch: 9, [batch: 2688 / 6720], examples_per_second: 2546.8655, train_label_loss: 0.0504, \n"
     ]
    },
    {
     "name": "stdout",
     "output_type": "stream",
     "text": [
      "epoch: 9, [batch: 3360 / 6720], examples_per_second: 2565.6600, train_label_loss: 0.3221, \n"
     ]
    },
    {
     "name": "stdout",
     "output_type": "stream",
     "text": [
      "epoch: 9, [batch: 4032 / 6720], examples_per_second: 2530.7019, train_label_loss: 0.6311, \n"
     ]
    },
    {
     "name": "stdout",
     "output_type": "stream",
     "text": [
      "epoch: 9, [batch: 4704 / 6720], examples_per_second: 2670.6177, train_label_loss: 0.0253, \n"
     ]
    },
    {
     "name": "stdout",
     "output_type": "stream",
     "text": [
      "epoch: 9, [batch: 5376 / 6720], examples_per_second: 2729.3114, train_label_loss: 0.0440, \n"
     ]
    },
    {
     "name": "stdout",
     "output_type": "stream",
     "text": [
      "epoch: 9, [batch: 6048 / 6720], examples_per_second: 2988.3229, train_label_loss: 0.1306, \n"
     ]
    },
    {
     "name": "stdout",
     "output_type": "stream",
     "text": [
      "=============================================================\n",
      "epoch: 9, source_val_acc_label: 0.8891, target_val_acc_label: 0.8772, source_val_label_loss: 0.3440, target_val_label_loss: 0.3504, \n",
      "=============================================================\n"
     ]
    },
    {
     "name": "stdout",
     "output_type": "stream",
     "text": [
      "New best\n"
     ]
    },
    {
     "name": "stdout",
     "output_type": "stream",
     "text": [
      "epoch: 10, [batch: 1 / 6720], examples_per_second: 2.4615, train_label_loss: 0.4813, \n"
     ]
    },
    {
     "name": "stdout",
     "output_type": "stream",
     "text": [
      "epoch: 10, [batch: 672 / 6720], examples_per_second: 2293.8402, train_label_loss: 0.0511, \n"
     ]
    },
    {
     "name": "stdout",
     "output_type": "stream",
     "text": [
      "epoch: 10, [batch: 1344 / 6720], examples_per_second: 2319.3138, train_label_loss: 0.1735, \n"
     ]
    },
    {
     "name": "stdout",
     "output_type": "stream",
     "text": [
      "epoch: 10, [batch: 2016 / 6720], examples_per_second: 2316.3011, train_label_loss: 0.2960, \n"
     ]
    },
    {
     "name": "stdout",
     "output_type": "stream",
     "text": [
      "epoch: 10, [batch: 2688 / 6720], examples_per_second: 2322.7903, train_label_loss: 0.2265, \n"
     ]
    },
    {
     "name": "stdout",
     "output_type": "stream",
     "text": [
      "epoch: 10, [batch: 3360 / 6720], examples_per_second: 2311.9882, train_label_loss: 0.1854, \n"
     ]
    },
    {
     "name": "stdout",
     "output_type": "stream",
     "text": [
      "epoch: 10, [batch: 4032 / 6720], examples_per_second: 2321.5553, train_label_loss: 0.2443, \n"
     ]
    },
    {
     "name": "stdout",
     "output_type": "stream",
     "text": [
      "epoch: 10, [batch: 4704 / 6720], examples_per_second: 2298.0188, train_label_loss: 0.3598, \n"
     ]
    },
    {
     "name": "stdout",
     "output_type": "stream",
     "text": [
      "epoch: 10, [batch: 5376 / 6720], examples_per_second: 2294.6010, train_label_loss: 0.3139, \n"
     ]
    },
    {
     "name": "stdout",
     "output_type": "stream",
     "text": [
      "epoch: 10, [batch: 6048 / 6720], examples_per_second: 2545.4141, train_label_loss: 0.0960, \n"
     ]
    },
    {
     "name": "stdout",
     "output_type": "stream",
     "text": [
      "=============================================================\n",
      "epoch: 10, source_val_acc_label: 0.8844, target_val_acc_label: 0.8673, source_val_label_loss: 0.3171, target_val_label_loss: 0.3727, \n",
      "=============================================================\n"
     ]
    },
    {
     "name": "stdout",
     "output_type": "stream",
     "text": [
      "epoch: 11, [batch: 1 / 6720], examples_per_second: 2.4504, train_label_loss: 0.1872, \n"
     ]
    },
    {
     "name": "stdout",
     "output_type": "stream",
     "text": [
      "epoch: 11, [batch: 672 / 6720], examples_per_second: 2658.1297, train_label_loss: 0.1383, \n"
     ]
    },
    {
     "name": "stdout",
     "output_type": "stream",
     "text": [
      "epoch: 11, [batch: 1344 / 6720], examples_per_second: 2587.4558, train_label_loss: 0.1511, \n"
     ]
    },
    {
     "name": "stdout",
     "output_type": "stream",
     "text": [
      "epoch: 11, [batch: 2016 / 6720], examples_per_second: 2611.1884, train_label_loss: 0.2163, \n"
     ]
    },
    {
     "name": "stdout",
     "output_type": "stream",
     "text": [
      "epoch: 11, [batch: 2688 / 6720], examples_per_second: 2604.4517, train_label_loss: 0.2675, \n"
     ]
    },
    {
     "name": "stdout",
     "output_type": "stream",
     "text": [
      "epoch: 11, [batch: 3360 / 6720], examples_per_second: 2544.5330, train_label_loss: 0.1712, \n"
     ]
    },
    {
     "name": "stdout",
     "output_type": "stream",
     "text": [
      "epoch: 11, [batch: 4032 / 6720], examples_per_second: 2587.8722, train_label_loss: 0.0891, \n"
     ]
    },
    {
     "name": "stdout",
     "output_type": "stream",
     "text": [
      "epoch: 11, [batch: 4704 / 6720], examples_per_second: 2607.2477, train_label_loss: 0.0231, \n"
     ]
    },
    {
     "name": "stdout",
     "output_type": "stream",
     "text": [
      "epoch: 11, [batch: 5376 / 6720], examples_per_second: 2735.0490, train_label_loss: 0.0259, \n"
     ]
    },
    {
     "name": "stdout",
     "output_type": "stream",
     "text": [
      "epoch: 11, [batch: 6048 / 6720], examples_per_second: 2968.0838, train_label_loss: 0.0880, \n"
     ]
    },
    {
     "name": "stdout",
     "output_type": "stream",
     "text": [
      "=============================================================\n",
      "epoch: 11, source_val_acc_label: 0.8941, target_val_acc_label: 0.8780, source_val_label_loss: 0.2952, target_val_label_loss: 0.3546, \n",
      "=============================================================\n"
     ]
    },
    {
     "name": "stdout",
     "output_type": "stream",
     "text": [
      "New best\n"
     ]
    },
    {
     "name": "stdout",
     "output_type": "stream",
     "text": [
      "epoch: 12, [batch: 1 / 6720], examples_per_second: 2.9646, train_label_loss: 0.3493, \n"
     ]
    },
    {
     "name": "stdout",
     "output_type": "stream",
     "text": [
      "epoch: 12, [batch: 672 / 6720], examples_per_second: 2953.7704, train_label_loss: 0.2863, \n"
     ]
    },
    {
     "name": "stdout",
     "output_type": "stream",
     "text": [
      "epoch: 12, [batch: 1344 / 6720], examples_per_second: 3102.0444, train_label_loss: 0.1449, \n"
     ]
    },
    {
     "name": "stdout",
     "output_type": "stream",
     "text": [
      "epoch: 12, [batch: 2016 / 6720], examples_per_second: 2954.5709, train_label_loss: 0.3297, \n"
     ]
    },
    {
     "name": "stdout",
     "output_type": "stream",
     "text": [
      "epoch: 12, [batch: 2688 / 6720], examples_per_second: 2956.7281, train_label_loss: 0.1170, \n"
     ]
    },
    {
     "name": "stdout",
     "output_type": "stream",
     "text": [
      "epoch: 12, [batch: 3360 / 6720], examples_per_second: 3035.6578, train_label_loss: 0.0645, \n"
     ]
    },
    {
     "name": "stdout",
     "output_type": "stream",
     "text": [
      "epoch: 12, [batch: 4032 / 6720], examples_per_second: 2950.0354, train_label_loss: 0.0226, \n"
     ]
    },
    {
     "name": "stdout",
     "output_type": "stream",
     "text": [
      "epoch: 12, [batch: 4704 / 6720], examples_per_second: 2511.6813, train_label_loss: 0.2822, \n"
     ]
    },
    {
     "name": "stdout",
     "output_type": "stream",
     "text": [
      "epoch: 12, [batch: 5376 / 6720], examples_per_second: 2536.3334, train_label_loss: 0.1321, \n"
     ]
    },
    {
     "name": "stdout",
     "output_type": "stream",
     "text": [
      "epoch: 12, [batch: 6048 / 6720], examples_per_second: 2580.7211, train_label_loss: 0.0338, \n"
     ]
    },
    {
     "name": "stdout",
     "output_type": "stream",
     "text": [
      "=============================================================\n",
      "epoch: 12, source_val_acc_label: 0.8986, target_val_acc_label: 0.8777, source_val_label_loss: 0.2907, target_val_label_loss: 0.3571, \n",
      "=============================================================\n"
     ]
    },
    {
     "name": "stdout",
     "output_type": "stream",
     "text": [
      "epoch: 13, [batch: 1 / 6720], examples_per_second: 2.0754, train_label_loss: 0.1356, \n"
     ]
    },
    {
     "name": "stdout",
     "output_type": "stream",
     "text": [
      "epoch: 13, [batch: 672 / 6720], examples_per_second: 2307.1316, train_label_loss: 0.2093, \n"
     ]
    },
    {
     "name": "stdout",
     "output_type": "stream",
     "text": [
      "epoch: 13, [batch: 1344 / 6720], examples_per_second: 2315.6203, train_label_loss: 0.3011, \n"
     ]
    },
    {
     "name": "stdout",
     "output_type": "stream",
     "text": [
      "epoch: 13, [batch: 2016 / 6720], examples_per_second: 2297.8442, train_label_loss: 0.0386, \n"
     ]
    },
    {
     "name": "stdout",
     "output_type": "stream",
     "text": [
      "epoch: 13, [batch: 2688 / 6720], examples_per_second: 2384.8267, train_label_loss: 0.1326, \n"
     ]
    },
    {
     "name": "stdout",
     "output_type": "stream",
     "text": [
      "epoch: 13, [batch: 3360 / 6720], examples_per_second: 2619.0066, train_label_loss: 0.0626, \n"
     ]
    },
    {
     "name": "stdout",
     "output_type": "stream",
     "text": [
      "epoch: 13, [batch: 4032 / 6720], examples_per_second: 2571.6053, train_label_loss: 0.1617, \n"
     ]
    },
    {
     "name": "stdout",
     "output_type": "stream",
     "text": [
      "epoch: 13, [batch: 4704 / 6720], examples_per_second: 2741.4494, train_label_loss: 0.0594, \n"
     ]
    },
    {
     "name": "stdout",
     "output_type": "stream",
     "text": [
      "epoch: 13, [batch: 5376 / 6720], examples_per_second: 2561.6896, train_label_loss: 0.0517, \n"
     ]
    },
    {
     "name": "stdout",
     "output_type": "stream",
     "text": [
      "epoch: 13, [batch: 6048 / 6720], examples_per_second: 2865.6998, train_label_loss: 0.3771, \n"
     ]
    },
    {
     "name": "stdout",
     "output_type": "stream",
     "text": [
      "=============================================================\n",
      "epoch: 13, source_val_acc_label: 0.8974, target_val_acc_label: 0.8834, source_val_label_loss: 0.2866, target_val_label_loss: 0.3334, \n",
      "=============================================================\n"
     ]
    },
    {
     "name": "stdout",
     "output_type": "stream",
     "text": [
      "New best\n"
     ]
    },
    {
     "name": "stdout",
     "output_type": "stream",
     "text": [
      "epoch: 14, [batch: 1 / 6720], examples_per_second: 2.2691, train_label_loss: 0.1107, \n"
     ]
    },
    {
     "name": "stdout",
     "output_type": "stream",
     "text": [
      "epoch: 14, [batch: 672 / 6720], examples_per_second: 2659.7184, train_label_loss: 0.1139, \n"
     ]
    },
    {
     "name": "stdout",
     "output_type": "stream",
     "text": [
      "epoch: 14, [batch: 1344 / 6720], examples_per_second: 2701.3344, train_label_loss: 0.1739, \n"
     ]
    },
    {
     "name": "stdout",
     "output_type": "stream",
     "text": [
      "epoch: 14, [batch: 2016 / 6720], examples_per_second: 2644.6205, train_label_loss: 0.0637, \n"
     ]
    },
    {
     "name": "stdout",
     "output_type": "stream",
     "text": [
      "epoch: 14, [batch: 2688 / 6720], examples_per_second: 3110.9866, train_label_loss: 0.1661, \n"
     ]
    },
    {
     "name": "stdout",
     "output_type": "stream",
     "text": [
      "epoch: 14, [batch: 3360 / 6720], examples_per_second: 2837.0492, train_label_loss: 0.1924, \n"
     ]
    },
    {
     "name": "stdout",
     "output_type": "stream",
     "text": [
      "epoch: 14, [batch: 4032 / 6720], examples_per_second: 2733.4403, train_label_loss: 0.2753, \n"
     ]
    },
    {
     "name": "stdout",
     "output_type": "stream",
     "text": [
      "epoch: 14, [batch: 4704 / 6720], examples_per_second: 2824.6879, train_label_loss: 0.1486, \n"
     ]
    },
    {
     "name": "stdout",
     "output_type": "stream",
     "text": [
      "epoch: 14, [batch: 5376 / 6720], examples_per_second: 2630.2211, train_label_loss: 0.0169, \n"
     ]
    },
    {
     "name": "stdout",
     "output_type": "stream",
     "text": [
      "epoch: 14, [batch: 6048 / 6720], examples_per_second: 2395.6385, train_label_loss: 0.2986, \n"
     ]
    },
    {
     "name": "stdout",
     "output_type": "stream",
     "text": [
      "=============================================================\n",
      "epoch: 14, source_val_acc_label: 0.8927, target_val_acc_label: 0.8762, source_val_label_loss: 0.3036, target_val_label_loss: 0.3606, \n",
      "=============================================================\n"
     ]
    },
    {
     "name": "stdout",
     "output_type": "stream",
     "text": [
      "epoch: 15, [batch: 1 / 6720], examples_per_second: 2.0102, train_label_loss: 0.0824, \n"
     ]
    },
    {
     "name": "stdout",
     "output_type": "stream",
     "text": [
      "epoch: 15, [batch: 672 / 6720], examples_per_second: 2292.5812, train_label_loss: 0.1582, \n"
     ]
    },
    {
     "name": "stdout",
     "output_type": "stream",
     "text": [
      "epoch: 15, [batch: 1344 / 6720], examples_per_second: 2318.6478, train_label_loss: 0.1833, \n"
     ]
    },
    {
     "name": "stdout",
     "output_type": "stream",
     "text": [
      "epoch: 15, [batch: 2016 / 6720], examples_per_second: 2317.1592, train_label_loss: 0.1191, \n"
     ]
    },
    {
     "name": "stdout",
     "output_type": "stream",
     "text": [
      "epoch: 15, [batch: 2688 / 6720], examples_per_second: 2379.9644, train_label_loss: 0.1486, \n"
     ]
    },
    {
     "name": "stdout",
     "output_type": "stream",
     "text": [
      "epoch: 15, [batch: 3360 / 6720], examples_per_second: 2664.9247, train_label_loss: 0.0519, \n"
     ]
    },
    {
     "name": "stdout",
     "output_type": "stream",
     "text": [
      "epoch: 15, [batch: 4032 / 6720], examples_per_second: 2951.5231, train_label_loss: 0.3948, \n"
     ]
    },
    {
     "name": "stdout",
     "output_type": "stream",
     "text": [
      "epoch: 15, [batch: 4704 / 6720], examples_per_second: 2774.5172, train_label_loss: 0.1332, \n"
     ]
    },
    {
     "name": "stdout",
     "output_type": "stream",
     "text": [
      "epoch: 15, [batch: 5376 / 6720], examples_per_second: 2564.2164, train_label_loss: 0.0734, \n"
     ]
    },
    {
     "name": "stdout",
     "output_type": "stream",
     "text": [
      "epoch: 15, [batch: 6048 / 6720], examples_per_second: 2574.5867, train_label_loss: 0.0965, \n"
     ]
    },
    {
     "name": "stdout",
     "output_type": "stream",
     "text": [
      "=============================================================\n",
      "epoch: 15, source_val_acc_label: 0.8976, target_val_acc_label: 0.8809, source_val_label_loss: 0.6896, target_val_label_loss: 0.3719, \n",
      "=============================================================\n"
     ]
    },
    {
     "name": "stdout",
     "output_type": "stream",
     "text": [
      "epoch: 16, [batch: 1 / 6720], examples_per_second: 2.2712, train_label_loss: 0.0892, \n"
     ]
    },
    {
     "name": "stdout",
     "output_type": "stream",
     "text": [
      "epoch: 16, [batch: 672 / 6720], examples_per_second: 2527.1912, train_label_loss: 0.1398, \n"
     ]
    },
    {
     "name": "stdout",
     "output_type": "stream",
     "text": [
      "epoch: 16, [batch: 1344 / 6720], examples_per_second: 2545.3219, train_label_loss: 0.0628, \n"
     ]
    },
    {
     "name": "stdout",
     "output_type": "stream",
     "text": [
      "epoch: 16, [batch: 2016 / 6720], examples_per_second: 2553.4472, train_label_loss: 0.2075, \n"
     ]
    },
    {
     "name": "stdout",
     "output_type": "stream",
     "text": [
      "epoch: 16, [batch: 2688 / 6720], examples_per_second: 3121.9771, train_label_loss: 0.2510, \n"
     ]
    },
    {
     "name": "stdout",
     "output_type": "stream",
     "text": [
      "epoch: 16, [batch: 3360 / 6720], examples_per_second: 3508.9797, train_label_loss: 0.2262, \n"
     ]
    },
    {
     "name": "stdout",
     "output_type": "stream",
     "text": [
      "epoch: 16, [batch: 4032 / 6720], examples_per_second: 3581.9906, train_label_loss: 0.2633, \n"
     ]
    },
    {
     "name": "stdout",
     "output_type": "stream",
     "text": [
      "epoch: 16, [batch: 4704 / 6720], examples_per_second: 3038.0452, train_label_loss: 0.1224, \n"
     ]
    },
    {
     "name": "stdout",
     "output_type": "stream",
     "text": [
      "epoch: 16, [batch: 5376 / 6720], examples_per_second: 3001.4063, train_label_loss: 0.3022, \n"
     ]
    },
    {
     "name": "stdout",
     "output_type": "stream",
     "text": [
      "epoch: 16, [batch: 6048 / 6720], examples_per_second: 2952.3892, train_label_loss: 0.0419, \n"
     ]
    },
    {
     "name": "stdout",
     "output_type": "stream",
     "text": [
      "=============================================================\n",
      "epoch: 16, source_val_acc_label: 0.9014, target_val_acc_label: 0.8775, source_val_label_loss: 0.2855, target_val_label_loss: 0.3632, \n",
      "=============================================================\n"
     ]
    },
    {
     "name": "stdout",
     "output_type": "stream",
     "text": [
      "epoch: 17, [batch: 1 / 6720], examples_per_second: 2.2708, train_label_loss: 0.1370, \n"
     ]
    },
    {
     "name": "stdout",
     "output_type": "stream",
     "text": [
      "epoch: 17, [batch: 672 / 6720], examples_per_second: 2300.1158, train_label_loss: 0.0764, \n"
     ]
    },
    {
     "name": "stdout",
     "output_type": "stream",
     "text": [
      "epoch: 17, [batch: 1344 / 6720], examples_per_second: 2293.1647, train_label_loss: 0.0659, \n"
     ]
    },
    {
     "name": "stdout",
     "output_type": "stream",
     "text": [
      "epoch: 17, [batch: 2016 / 6720], examples_per_second: 2288.7482, train_label_loss: 0.4298, \n"
     ]
    },
    {
     "name": "stdout",
     "output_type": "stream",
     "text": [
      "epoch: 17, [batch: 2688 / 6720], examples_per_second: 2446.0782, train_label_loss: 0.0656, \n"
     ]
    },
    {
     "name": "stdout",
     "output_type": "stream",
     "text": [
      "epoch: 17, [batch: 3360 / 6720], examples_per_second: 2624.6653, train_label_loss: 0.3406, \n"
     ]
    },
    {
     "name": "stdout",
     "output_type": "stream",
     "text": [
      "epoch: 17, [batch: 4032 / 6720], examples_per_second: 2646.0742, train_label_loss: 0.1335, \n"
     ]
    },
    {
     "name": "stdout",
     "output_type": "stream",
     "text": [
      "epoch: 17, [batch: 4704 / 6720], examples_per_second: 2387.5752, train_label_loss: 0.0583, \n"
     ]
    },
    {
     "name": "stdout",
     "output_type": "stream",
     "text": [
      "epoch: 17, [batch: 5376 / 6720], examples_per_second: 2508.6474, train_label_loss: 0.1807, \n"
     ]
    },
    {
     "name": "stdout",
     "output_type": "stream",
     "text": [
      "epoch: 17, [batch: 6048 / 6720], examples_per_second: 2594.4180, train_label_loss: 0.3367, \n"
     ]
    },
    {
     "name": "stdout",
     "output_type": "stream",
     "text": [
      "=============================================================\n",
      "epoch: 17, source_val_acc_label: 0.9041, target_val_acc_label: 0.8862, source_val_label_loss: 0.2828, target_val_label_loss: 0.3436, \n",
      "=============================================================\n"
     ]
    },
    {
     "name": "stdout",
     "output_type": "stream",
     "text": [
      "New best\n"
     ]
    },
    {
     "name": "stdout",
     "output_type": "stream",
     "text": [
      "epoch: 18, [batch: 1 / 6720], examples_per_second: 2.0950, train_label_loss: 0.2617, \n"
     ]
    },
    {
     "name": "stdout",
     "output_type": "stream",
     "text": [
      "epoch: 18, [batch: 672 / 6720], examples_per_second: 2300.7044, train_label_loss: 0.0228, \n"
     ]
    },
    {
     "name": "stdout",
     "output_type": "stream",
     "text": [
      "epoch: 18, [batch: 1344 / 6720], examples_per_second: 2327.7241, train_label_loss: 0.0997, \n"
     ]
    },
    {
     "name": "stdout",
     "output_type": "stream",
     "text": [
      "epoch: 18, [batch: 2016 / 6720], examples_per_second: 2297.7758, train_label_loss: 0.2989, \n"
     ]
    },
    {
     "name": "stdout",
     "output_type": "stream",
     "text": [
      "epoch: 18, [batch: 2688 / 6720], examples_per_second: 2633.2074, train_label_loss: 0.2431, \n"
     ]
    },
    {
     "name": "stdout",
     "output_type": "stream",
     "text": [
      "epoch: 18, [batch: 3360 / 6720], examples_per_second: 2928.9967, train_label_loss: 0.1095, \n"
     ]
    },
    {
     "name": "stdout",
     "output_type": "stream",
     "text": [
      "epoch: 18, [batch: 4032 / 6720], examples_per_second: 3016.2364, train_label_loss: 0.0823, \n"
     ]
    },
    {
     "name": "stdout",
     "output_type": "stream",
     "text": [
      "epoch: 18, [batch: 4704 / 6720], examples_per_second: 2730.1511, train_label_loss: 0.1398, \n"
     ]
    },
    {
     "name": "stdout",
     "output_type": "stream",
     "text": [
      "epoch: 18, [batch: 5376 / 6720], examples_per_second: 2958.7372, train_label_loss: 0.1084, \n"
     ]
    },
    {
     "name": "stdout",
     "output_type": "stream",
     "text": [
      "epoch: 18, [batch: 6048 / 6720], examples_per_second: 3008.4365, train_label_loss: 0.2169, \n"
     ]
    },
    {
     "name": "stdout",
     "output_type": "stream",
     "text": [
      "=============================================================\n",
      "epoch: 18, source_val_acc_label: 0.9000, target_val_acc_label: 0.8783, source_val_label_loss: 0.2901, target_val_label_loss: 0.3585, \n",
      "=============================================================\n"
     ]
    },
    {
     "name": "stdout",
     "output_type": "stream",
     "text": [
      "epoch: 19, [batch: 1 / 6720], examples_per_second: 2.5642, train_label_loss: 0.2125, \n"
     ]
    },
    {
     "name": "stdout",
     "output_type": "stream",
     "text": [
      "epoch: 19, [batch: 672 / 6720], examples_per_second: 2299.8262, train_label_loss: 0.0493, \n"
     ]
    },
    {
     "name": "stdout",
     "output_type": "stream",
     "text": [
      "epoch: 19, [batch: 1344 / 6720], examples_per_second: 2308.3431, train_label_loss: 0.1661, \n"
     ]
    },
    {
     "name": "stdout",
     "output_type": "stream",
     "text": [
      "epoch: 19, [batch: 2016 / 6720], examples_per_second: 2329.8955, train_label_loss: 0.1294, \n"
     ]
    },
    {
     "name": "stdout",
     "output_type": "stream",
     "text": [
      "epoch: 19, [batch: 2688 / 6720], examples_per_second: 2461.0648, train_label_loss: 0.1361, \n"
     ]
    },
    {
     "name": "stdout",
     "output_type": "stream",
     "text": [
      "epoch: 19, [batch: 3360 / 6720], examples_per_second: 2616.6938, train_label_loss: 0.0199, \n"
     ]
    },
    {
     "name": "stdout",
     "output_type": "stream",
     "text": [
      "epoch: 19, [batch: 4032 / 6720], examples_per_second: 2637.9617, train_label_loss: 0.1142, \n"
     ]
    },
    {
     "name": "stdout",
     "output_type": "stream",
     "text": [
      "epoch: 19, [batch: 4704 / 6720], examples_per_second: 2894.6057, train_label_loss: 0.2006, \n"
     ]
    },
    {
     "name": "stdout",
     "output_type": "stream",
     "text": [
      "epoch: 19, [batch: 5376 / 6720], examples_per_second: 2953.2641, train_label_loss: 0.1402, \n"
     ]
    },
    {
     "name": "stdout",
     "output_type": "stream",
     "text": [
      "epoch: 19, [batch: 6048 / 6720], examples_per_second: 3012.5337, train_label_loss: 0.2582, \n"
     ]
    },
    {
     "name": "stdout",
     "output_type": "stream",
     "text": [
      "=============================================================\n",
      "epoch: 19, source_val_acc_label: 0.9044, target_val_acc_label: 0.8819, source_val_label_loss: 0.2753, target_val_label_loss: 0.3492, \n",
      "=============================================================\n"
     ]
    },
    {
     "name": "stdout",
     "output_type": "stream",
     "text": [
      "epoch: 20, [batch: 1 / 6720], examples_per_second: 2.2939, train_label_loss: 0.2327, \n"
     ]
    },
    {
     "name": "stdout",
     "output_type": "stream",
     "text": [
      "epoch: 20, [batch: 672 / 6720], examples_per_second: 2529.8697, train_label_loss: 0.1423, \n"
     ]
    },
    {
     "name": "stdout",
     "output_type": "stream",
     "text": [
      "epoch: 20, [batch: 1344 / 6720], examples_per_second: 2524.0604, train_label_loss: 0.0318, \n"
     ]
    },
    {
     "name": "stdout",
     "output_type": "stream",
     "text": [
      "epoch: 20, [batch: 2016 / 6720], examples_per_second: 2684.8159, train_label_loss: 0.3771, \n"
     ]
    },
    {
     "name": "stdout",
     "output_type": "stream",
     "text": [
      "epoch: 20, [batch: 2688 / 6720], examples_per_second: 2958.4289, train_label_loss: 0.2030, \n"
     ]
    },
    {
     "name": "stdout",
     "output_type": "stream",
     "text": [
      "epoch: 20, [batch: 3360 / 6720], examples_per_second: 2971.4152, train_label_loss: 0.1067, \n"
     ]
    },
    {
     "name": "stdout",
     "output_type": "stream",
     "text": [
      "epoch: 20, [batch: 4032 / 6720], examples_per_second: 3231.5062, train_label_loss: 0.1185, \n"
     ]
    },
    {
     "name": "stdout",
     "output_type": "stream",
     "text": [
      "epoch: 20, [batch: 4704 / 6720], examples_per_second: 3342.8687, train_label_loss: 0.1328, \n"
     ]
    },
    {
     "name": "stdout",
     "output_type": "stream",
     "text": [
      "epoch: 20, [batch: 5376 / 6720], examples_per_second: 3304.5788, train_label_loss: 0.2629, \n"
     ]
    },
    {
     "name": "stdout",
     "output_type": "stream",
     "text": [
      "epoch: 20, [batch: 6048 / 6720], examples_per_second: 2920.9346, train_label_loss: 0.0527, \n"
     ]
    },
    {
     "name": "stdout",
     "output_type": "stream",
     "text": [
      "=============================================================\n",
      "epoch: 20, source_val_acc_label: 0.8999, target_val_acc_label: 0.8779, source_val_label_loss: 0.2947, target_val_label_loss: 0.3650, \n",
      "=============================================================\n"
     ]
    },
    {
     "name": "stdout",
     "output_type": "stream",
     "text": [
      "epoch: 21, [batch: 1 / 6720], examples_per_second: 2.1033, train_label_loss: 0.0520, \n"
     ]
    },
    {
     "name": "stdout",
     "output_type": "stream",
     "text": [
      "epoch: 21, [batch: 672 / 6720], examples_per_second: 2303.2606, train_label_loss: 0.1051, \n"
     ]
    },
    {
     "name": "stdout",
     "output_type": "stream",
     "text": [
      "epoch: 21, [batch: 1344 / 6720], examples_per_second: 2282.5742, train_label_loss: 0.0792, \n"
     ]
    },
    {
     "name": "stdout",
     "output_type": "stream",
     "text": [
      "epoch: 21, [batch: 2016 / 6720], examples_per_second: 2317.1346, train_label_loss: 0.1225, \n"
     ]
    },
    {
     "name": "stdout",
     "output_type": "stream",
     "text": [
      "epoch: 21, [batch: 2688 / 6720], examples_per_second: 2268.2503, train_label_loss: 0.1246, \n"
     ]
    },
    {
     "name": "stdout",
     "output_type": "stream",
     "text": [
      "epoch: 21, [batch: 3360 / 6720], examples_per_second: 2437.7375, train_label_loss: 0.3949, \n"
     ]
    },
    {
     "name": "stdout",
     "output_type": "stream",
     "text": [
      "epoch: 21, [batch: 4032 / 6720], examples_per_second: 2541.8964, train_label_loss: 0.0144, \n"
     ]
    },
    {
     "name": "stdout",
     "output_type": "stream",
     "text": [
      "epoch: 21, [batch: 4704 / 6720], examples_per_second: 2666.6960, train_label_loss: 0.1312, \n"
     ]
    },
    {
     "name": "stdout",
     "output_type": "stream",
     "text": [
      "epoch: 21, [batch: 5376 / 6720], examples_per_second: 2642.7647, train_label_loss: 0.1789, \n"
     ]
    },
    {
     "name": "stdout",
     "output_type": "stream",
     "text": [
      "epoch: 21, [batch: 6048 / 6720], examples_per_second: 2594.9031, train_label_loss: 0.1854, \n"
     ]
    },
    {
     "name": "stdout",
     "output_type": "stream",
     "text": [
      "=============================================================\n",
      "epoch: 21, source_val_acc_label: 0.9048, target_val_acc_label: 0.8812, source_val_label_loss: 0.2846, target_val_label_loss: 0.3657, \n",
      "=============================================================\n"
     ]
    },
    {
     "name": "stdout",
     "output_type": "stream",
     "text": [
      "Patience (3) exhausted\n"
     ]
    }
   ],
   "source": [
    "###################################\n",
    "# train\n",
    "###################################\n",
    "jig = PTN_Train_Eval_Test_Jig(model, p.BEST_MODEL_PATH, p.device)\n",
    "\n",
    "jig.train(\n",
    "    train_iterable=datasets.source.processed.train,\n",
    "    source_val_iterable=datasets.source.processed.val,\n",
    "    target_val_iterable=datasets.target.processed.val,\n",
    "    num_epochs=p.n_epoch,\n",
    "    num_logs_per_epoch=p.NUM_LOGS_PER_EPOCH,\n",
    "    patience=p.patience,\n",
    "    optimizer=optimizer,\n",
    "    criteria_for_best=p.criteria_for_best,\n",
    ")"
   ]
  },
  {
   "cell_type": "code",
   "execution_count": 23,
   "id": "31e8fabf",
   "metadata": {
    "execution": {
     "iopub.execute_input": "2022-03-21T07:15:43.938516Z",
     "iopub.status.busy": "2022-03-21T07:15:43.938140Z",
     "iopub.status.idle": "2022-03-21T07:15:43.971996Z",
     "shell.execute_reply": "2022-03-21T07:15:43.971244Z"
    },
    "papermill": {
     "duration": 0.12586,
     "end_time": "2022-03-21T07:15:43.972170",
     "exception": false,
     "start_time": "2022-03-21T07:15:43.846310",
     "status": "completed"
    },
    "tags": []
   },
   "outputs": [],
   "source": [
    "total_experiment_time_secs = time.time() - start_time_secs"
   ]
  },
  {
   "cell_type": "code",
   "execution_count": 24,
   "id": "87b9595b",
   "metadata": {
    "execution": {
     "iopub.execute_input": "2022-03-21T07:15:44.168301Z",
     "iopub.status.busy": "2022-03-21T07:15:44.167690Z",
     "iopub.status.idle": "2022-03-21T07:20:09.546088Z",
     "shell.execute_reply": "2022-03-21T07:20:09.546545Z"
    },
    "papermill": {
     "duration": 265.477718,
     "end_time": "2022-03-21T07:20:09.546729",
     "exception": false,
     "start_time": "2022-03-21T07:15:44.069011",
     "status": "completed"
    },
    "tags": []
   },
   "outputs": [],
   "source": [
    "###################################\n",
    "# Evaluate the model\n",
    "###################################\n",
    "source_test_label_accuracy, source_test_label_loss = jig.test(datasets.source.processed.test)\n",
    "target_test_label_accuracy, target_test_label_loss = jig.test(datasets.target.processed.test)\n",
    "\n",
    "source_val_label_accuracy, source_val_label_loss = jig.test(datasets.source.processed.val)\n",
    "target_val_label_accuracy, target_val_label_loss = jig.test(datasets.target.processed.val)\n",
    "\n",
    "history = jig.get_history()\n",
    "\n",
    "total_epochs_trained = len(history[\"epoch_indices\"])\n",
    "\n",
    "val_dl = Iterable_Aggregator((datasets.source.original.val,datasets.target.original.val))\n",
    "\n",
    "confusion = ptn_confusion_by_domain_over_dataloader(model, p.device, val_dl)\n",
    "per_domain_accuracy = per_domain_accuracy_from_confusion(confusion)\n",
    "\n",
    "# Add a key to per_domain_accuracy for if it was a source domain\n",
    "for domain, accuracy in per_domain_accuracy.items():\n",
    "    per_domain_accuracy[domain] = {\n",
    "        \"accuracy\": accuracy,\n",
    "        \"source?\": domain in p.domains_source\n",
    "    }\n",
    "\n",
    "# Do an independent accuracy assesment JUST TO BE SURE!\n",
    "# _source_test_label_accuracy = independent_accuracy_assesment(model, datasets.source.processed.test, p.device)\n",
    "# _target_test_label_accuracy = independent_accuracy_assesment(model, datasets.target.processed.test, p.device)\n",
    "# _source_val_label_accuracy = independent_accuracy_assesment(model, datasets.source.processed.val, p.device)\n",
    "# _target_val_label_accuracy = independent_accuracy_assesment(model, datasets.target.processed.val, p.device)\n",
    "\n",
    "# assert(_source_test_label_accuracy == source_test_label_accuracy)\n",
    "# assert(_target_test_label_accuracy == target_test_label_accuracy)\n",
    "# assert(_source_val_label_accuracy == source_val_label_accuracy)\n",
    "# assert(_target_val_label_accuracy == target_val_label_accuracy)\n",
    "\n",
    "experiment = {\n",
    "    \"experiment_name\": p.experiment_name,\n",
    "    \"parameters\": dict(p),\n",
    "    \"results\": {\n",
    "        \"source_test_label_accuracy\": source_test_label_accuracy,\n",
    "        \"source_test_label_loss\": source_test_label_loss,\n",
    "        \"target_test_label_accuracy\": target_test_label_accuracy,\n",
    "        \"target_test_label_loss\": target_test_label_loss,\n",
    "        \"source_val_label_accuracy\": source_val_label_accuracy,\n",
    "        \"source_val_label_loss\": source_val_label_loss,\n",
    "        \"target_val_label_accuracy\": target_val_label_accuracy,\n",
    "        \"target_val_label_loss\": target_val_label_loss,\n",
    "        \"total_epochs_trained\": total_epochs_trained,\n",
    "        \"total_experiment_time_secs\": total_experiment_time_secs,\n",
    "        \"confusion\": confusion,\n",
    "        \"per_domain_accuracy\": per_domain_accuracy,\n",
    "    },\n",
    "    \"history\": history,\n",
    "    \"dataset_metrics\": get_dataset_metrics(datasets, \"ptn\"),\n",
    "}"
   ]
  },
  {
   "cell_type": "code",
   "execution_count": 25,
   "id": "54a21829",
   "metadata": {
    "execution": {
     "iopub.execute_input": "2022-03-21T07:20:09.738199Z",
     "iopub.status.busy": "2022-03-21T07:20:09.737653Z",
     "iopub.status.idle": "2022-03-21T07:20:09.974488Z",
     "shell.execute_reply": "2022-03-21T07:20:09.973707Z"
    },
    "papermill": {
     "duration": 0.325207,
     "end_time": "2022-03-21T07:20:09.974657",
     "exception": false,
     "start_time": "2022-03-21T07:20:09.649450",
     "status": "completed"
    },
    "tags": []
   },
   "outputs": [
    {
     "data": {
      "image/png": "[encoded data removed]",
      "text/plain": [
       "<Figure size 1080x504 with 1 Axes>"
      ]
     },
     "metadata": {
      "needs_background": "light"
     },
     "output_type": "display_data"
    }
   ],
   "source": [
    "ax = get_loss_curve(experiment)\n",
    "plt.show()"
   ]
  },
  {
   "cell_type": "code",
   "execution_count": 26,
   "id": "fd8a0f60",
   "metadata": {
    "execution": {
     "iopub.execute_input": "2022-03-21T07:20:10.155432Z",
     "iopub.status.busy": "2022-03-21T07:20:10.155072Z",
     "iopub.status.idle": "2022-03-21T07:20:10.494906Z",
     "shell.execute_reply": "2022-03-21T07:20:10.494112Z"
    },
    "papermill": {
     "duration": 0.427428,
     "end_time": "2022-03-21T07:20:10.495078",
     "exception": false,
     "start_time": "2022-03-21T07:20:10.067650",
     "status": "completed"
    },
    "tags": []
   },
   "outputs": [
    {
     "data": {
      "text/plain": [
       "<AxesSubplot:title={'center':'Results'}>"
      ]
     },
     "execution_count": 26,
     "metadata": {},
     "output_type": "execute_result"
    },
    {
     "data": {
      "image/png": "[encoded data removed]",
      "text/plain": [
       "<Figure size 1080x504 with 1 Axes>"
      ]
     },
     "metadata": {
      "needs_background": "light"
     },
     "output_type": "display_data"
    }
   ],
   "source": [
    "get_results_table(experiment)"
   ]
  },
  {
   "cell_type": "code",
   "execution_count": 27,
   "id": "cf8dc689",
   "metadata": {
    "execution": {
     "iopub.execute_input": "2022-03-21T07:20:10.690932Z",
     "iopub.status.busy": "2022-03-21T07:20:10.690555Z",
     "iopub.status.idle": "2022-03-21T07:20:11.001642Z",
     "shell.execute_reply": "2022-03-21T07:20:11.000943Z"
    },
    "papermill": {
     "duration": 0.412811,
     "end_time": "2022-03-21T07:20:11.001814",
     "exception": false,
     "start_time": "2022-03-21T07:20:10.589003",
     "status": "completed"
    },
    "tags": []
   },
   "outputs": [
    {
     "data": {
      "text/plain": [
       "<AxesSubplot:title={'center':'Per Domain Validation Accuracy'}, xlabel='domain'>"
      ]
     },
     "execution_count": 27,
     "metadata": {},
     "output_type": "execute_result"
    },
    {
     "data": {
      "image/png": "[encoded data removed]",
      "text/plain": [
       "<Figure size 1080x504 with 1 Axes>"
      ]
     },
     "metadata": {
      "needs_background": "light"
     },
     "output_type": "display_data"
    }
   ],
   "source": [
    "get_domain_accuracies(experiment)"
   ]
  },
  {
   "cell_type": "code",
   "execution_count": 28,
   "id": "a74ae082",
   "metadata": {
    "execution": {
     "iopub.execute_input": "2022-03-21T07:20:11.195006Z",
     "iopub.status.busy": "2022-03-21T07:20:11.194633Z",
     "iopub.status.idle": "2022-03-21T07:20:11.223660Z",
     "shell.execute_reply": "2022-03-21T07:20:11.222911Z"
    },
    "papermill": {
     "duration": 0.124747,
     "end_time": "2022-03-21T07:20:11.223822",
     "exception": false,
     "start_time": "2022-03-21T07:20:11.099075",
     "status": "completed"
    },
    "tags": []
   },
   "outputs": [
    {
     "name": "stdout",
     "output_type": "stream",
     "text": [
      "Source Test Label Accuracy: 0.9074544270833333 Target Test Label Accuracy: 0.8904296875\n",
      "Source Val Label Accuracy: 0.9041015625 Target Val Label Accuracy: 0.8861653645833333\n"
     ]
    }
   ],
   "source": [
    "print(\"Source Test Label Accuracy:\", experiment[\"results\"][\"source_test_label_accuracy\"], \"Target Test Label Accuracy:\", experiment[\"results\"][\"target_test_label_accuracy\"])\n",
    "print(\"Source Val Label Accuracy:\", experiment[\"results\"][\"source_val_label_accuracy\"], \"Target Val Label Accuracy:\", experiment[\"results\"][\"target_val_label_accuracy\"])"
   ]
  },
  {
   "cell_type": "code",
   "execution_count": 29,
   "id": "dacca602",
   "metadata": {
    "execution": {
     "iopub.execute_input": "2022-03-21T07:20:11.413553Z",
     "iopub.status.busy": "2022-03-21T07:20:11.412823Z",
     "iopub.status.idle": "2022-03-21T07:20:11.439091Z",
     "shell.execute_reply": "2022-03-21T07:20:11.439807Z"
    },
    "papermill": {
     "duration": 0.120277,
     "end_time": "2022-03-21T07:20:11.439975",
     "exception": false,
     "start_time": "2022-03-21T07:20:11.319698",
     "status": "completed"
    },
    "tags": [
     "experiment_json"
    ]
   },
   "outputs": [
    {
     "data": {
      "text/plain": [
       "'{\"experiment_name\": \"tl_1v2:oracle.run1.framed-oracle.run2.framed\", \"parameters\": {\"experiment_name\": \"tl_1v2:oracle.run1.framed-oracle.run2.framed\", \"device\": \"cuda\", \"lr\": 0.0001, \"n_shot\": 3, \"n_query\": 2, \"train_k_factor\": 3, \"val_k_factor\": 2, \"test_k_factor\": 2, \"torch_default_dtype\": \"torch.float32\", \"n_epoch\": 50, \"patience\": 3, \"criteria_for_best\": \"target_accuracy\", \"x_net\": [{\"class\": \"nnReshape\", \"kargs\": {\"shape\": [-1, 1, 2, 256]}}, {\"class\": \"Conv2d\", \"kargs\": {\"in_channels\": 1, \"out_channels\": 256, \"kernel_size\": [1, 7], \"bias\": false, \"padding\": [0, 3]}}, {\"class\": \"ReLU\", \"kargs\": {\"inplace\": true}}, {\"class\": \"BatchNorm2d\", \"kargs\": {\"num_features\": 256}}, {\"class\": \"Conv2d\", \"kargs\": {\"in_channels\": 256, \"out_channels\": 80, \"kernel_size\": [2, 7], \"bias\": true, \"padding\": [0, 3]}}, {\"class\": \"ReLU\", \"kargs\": {\"inplace\": true}}, {\"class\": \"BatchNorm2d\", \"kargs\": {\"num_features\": 80}}, {\"class\": \"Flatten\", \"kargs\": {}}, {\"class\": \"Linear\", \"kargs\": {\"in_features\": 20480, \"out_features\": 256}}, {\"class\": \"ReLU\", \"kargs\": {\"inplace\": true}}, {\"class\": \"BatchNorm1d\", \"kargs\": {\"num_features\": 256}}, {\"class\": \"Linear\", \"kargs\": {\"in_features\": 256, \"out_features\": 256}}], \"NUM_LOGS_PER_EPOCH\": 10, \"BEST_MODEL_PATH\": \"./best_model.pth\", \"n_way\": 16, \"datasets\": [{\"labels\": [\"3123D52\", \"3123D65\", \"3123D79\", \"3123D80\", \"3123D54\", \"3123D70\", \"3123D7B\", \"3123D89\", \"3123D58\", \"3123D76\", \"3123D7D\", \"3123EFE\", \"3123D64\", \"3123D78\", \"3123D7E\", \"3124E4A\"], \"domains\": [32, 38, 8, 44, 14, 50, 20, 26], \"num_examples_per_domain_per_label\": 2000, \"pickle_path\": \"/root/csc500-main/datasets/oracle.Run1_framed_2000Examples_stratified_ds.2022A.pkl\", \"source_or_target_dataset\": \"target\", \"x_transforms\": [\"unit_power\"], \"episode_transforms\": [], \"domain_prefix\": \"ORACLE.run1_\"}, {\"labels\": [\"3123D52\", \"3123D65\", \"3123D79\", \"3123D80\", \"3123D54\", \"3123D70\", \"3123D7B\", \"3123D89\", \"3123D58\", \"3123D76\", \"3123D7D\", \"3123EFE\", \"3123D64\", \"3123D78\", \"3123D7E\", \"3124E4A\"], \"domains\": [32, 38, 8, 44, 14, 50, 20, 26], \"num_examples_per_domain_per_label\": 2000, \"pickle_path\": \"/root/csc500-main/datasets/oracle.Run2_framed_2000Examples_stratified_ds.2022A.pkl\", \"source_or_target_dataset\": \"source\", \"x_transforms\": [\"unit_power\"], \"episode_transforms\": [], \"domain_prefix\": \"ORACLE.run2_\"}], \"dataset_seed\": 1337, \"seed\": 1337, \"x_shape\": [2, 256], \"domains_source\": [\"ORACLE.run2_32\", \"ORACLE.run2_38\", \"ORACLE.run2_8\", \"ORACLE.run2_44\", \"ORACLE.run2_14\", \"ORACLE.run2_50\", \"ORACLE.run2_20\", \"ORACLE.run2_26\"], \"domains_target\": [\"ORACLE.run1_32\", \"ORACLE.run1_38\", \"ORACLE.run1_8\", \"ORACLE.run1_44\", \"ORACLE.run1_14\", \"ORACLE.run1_50\", \"ORACLE.run1_20\", \"ORACLE.run1_26\"]}, \"results\": {\"source_test_label_accuracy\": 0.9074544270833333, \"source_test_label_loss\": 0.42994195222854614, \"target_test_label_accuracy\": 0.8904296875, \"target_test_label_loss\": 0.385906845331192, \"source_val_label_accuracy\": 0.9041015625, \"source_val_label_loss\": 0.2827586829662323, \"target_val_label_accuracy\": 0.8861653645833333, \"target_val_label_loss\": 0.3436216413974762, \"total_epochs_trained\": 21, \"total_experiment_time_secs\": 5434.165887832642, \"confusion\": {\"ORACLE.run2_14\": {\"15\": {\"15\": 240}, \"3\": {\"3\": 230, \"14\": 2, \"2\": 3, \"5\": 4, \"4\": 1}, \"6\": {\"6\": 224, \"13\": 15, \"14\": 1}, \"1\": {\"1\": 238, \"5\": 2}, \"8\": {\"8\": 240}, \"10\": {\"10\": 240}, \"9\": {\"9\": 240}, \"13\": {\"13\": 220, \"6\": 18, \"14\": 2}, \"12\": {\"12\": 220, \"9\": 6, \"11\": 2, \"0\": 11, \"8\": 1}, \"5\": {\"5\": 213, \"2\": 14, \"4\": 8, \"1\": 4, \"3\": 1}, \"0\": {\"0\": 240}, \"2\": {\"14\": 59, \"2\": 136, \"5\": 28, \"3\": 14, \"4\": 1, \"15\": 1, \"13\": 1}, \"11\": {\"11\": 240}, \"14\": {\"2\": 21, \"14\": 218, \"3\": 1}, \"7\": {\"7\": 240}, \"4\": {\"4\": 235, \"5\": 5}}, \"ORACLE.run2_20\": {\"3\": {\"2\": 22, \"3\": 205, \"7\": 5, \"9\": 6, \"12\": 1, \"4\": 1}, \"15\": {\"13\": 20, \"15\": 201, \"5\": 5, \"1\": 7, \"2\": 3, \"9\": 1, \"12\": 1, \"0\": 2}, \"8\": {\"8\": 222, \"14\": 14, \"7\": 1, \"5\": 1, \"4\": 2}, \"4\": {\"4\": 236, \"12\": 2, \"5\": 2}, \"14\": {\"14\": 223, \"6\": 9, \"8\": 8}, \"0\": {\"0\": 229, \"15\": 7, \"13\": 1, \"5\": 3}, \"7\": {\"7\": 238, \"8\": 1, \"5\": 1}, \"6\": {\"6\": 236, \"14\": 4}, \"10\": {\"10\": 240}, \"5\": {\"5\": 201, \"0\": 7, \"15\": 7, \"2\": 8, \"7\": 9, \"3\": 2, \"12\": 4, \"4\": 1, \"13\": 1}, \"2\": {\"2\": 193, \"5\": 3, \"12\": 11, \"3\": 22, \"9\": 8, \"15\": 2, \"1\": 1}, \"12\": {\"12\": 204, \"1\": 19, \"2\": 11, \"9\": 4, \"5\": 2}, \"9\": {\"9\": 206, \"2\": 18, \"3\": 9, \"1\": 1, \"12\": 5, \"15\": 1}, \"1\": {\"1\": 195, \"9\": 2, \"12\": 43}, \"11\": {\"11\": 240}, \"13\": {\"13\": 229, \"15\": 8, \"1\": 1, \"2\": 1, \"5\": 1}}, \"ORACLE.run2_38\": {\"5\": {\"5\": 155, \"8\": 59, \"7\": 18, \"15\": 8}, \"8\": {\"8\": 173, \"5\": 54, \"7\": 12, \"13\": 1}, \"11\": {\"11\": 232, \"13\": 2, \"4\": 2, \"14\": 1, \"3\": 1, \"10\": 2}, \"1\": {\"1\": 234, \"15\": 6}, \"10\": {\"7\": 22, \"10\": 216, \"3\": 1, \"13\": 1}, \"15\": {\"15\": 197, \"5\": 17, \"1\": 18, \"6\": 4, \"8\": 4}, \"3\": {\"3\": 176, \"13\": 54, \"0\": 6, \"9\": 1, \"10\": 3}, \"7\": {\"7\": 194, \"5\": 23, \"8\": 10, \"10\": 13}, \"4\": {\"4\": 240}, \"14\": {\"14\": 208, \"2\": 29, \"7\": 1, \"11\": 2}, \"9\": {\"9\": 236, \"6\": 4}, \"12\": {\"12\": 239, \"14\": 1}, \"6\": {\"6\": 239, \"9\": 1}, \"2\": {\"2\": 232, \"14\": 8}, \"0\": {\"0\": 234, \"10\": 1, \"3\": 1, \"8\": 1, \"7\": 3}, \"13\": {\"13\": 203, \"8\": 2, \"3\": 34, \"10\": 1}}, \"ORACLE.run2_8\": {\"9\": {\"9\": 240}, \"10\": {\"10\": 215, \"5\": 13, \"0\": 10, \"13\": 2}, \"13\": {\"13\": 235, \"1\": 1, \"14\": 2, \"0\": 1, \"8\": 1}, \"0\": {\"0\": 234, \"10\": 3, \"14\": 3}, \"1\": {\"1\": 239, \"5\": 1}, \"15\": {\"15\": 223, \"12\": 9, \"8\": 7, \"11\": 1}, \"5\": {\"5\": 230, \"10\": 10}, \"3\": {\"3\": 240}, \"6\": {\"6\": 195, \"7\": 13, \"4\": 32}, \"11\": {\"11\": 234, \"15\": 1, \"8\": 5}, \"8\": {\"8\": 238, \"11\": 2}, \"4\": {\"7\": 37, \"4\": 164, \"6\": 38, \"2\": 1}, \"12\": {\"12\": 232, \"15\": 8}, \"14\": {\"14\": 231, \"0\": 9}, \"2\": {\"2\": 237, \"7\": 3}, \"7\": {\"7\": 191, \"4\": 45, \"6\": 4}}, \"ORACLE.run2_50\": {\"7\": {\"7\": 220, \"4\": 1, \"5\": 14, \"13\": 5}, \"3\": {\"3\": 238, \"8\": 2}, \"8\": {\"8\": 239, \"3\": 1}, \"2\": {\"2\": 238, \"0\": 2}, \"14\": {\"14\": 240}, \"4\": {\"4\": 172, \"5\": 62, \"6\": 5, \"1\": 1}, \"6\": {\"6\": 221, \"5\": 7, \"1\": 4, \"7\": 1, \"4\": 6, \"15\": 1}, \"15\": {\"15\": 236, \"5\": 1, \"4\": 1, \"11\": 1, \"1\": 1}, \"10\": {\"10\": 212, \"13\": 23, \"0\": 5}, \"11\": {\"11\": 236, \"15\": 4}, \"13\": {\"13\": 220, \"7\": 4, \"10\": 13, \"5\": 3}, \"9\": {\"9\": 239, \"12\": 1}, \"0\": {\"0\": 228, \"10\": 3, \"2\": 9}, \"1\": {\"1\": 236, \"4\": 1, \"15\": 2, \"5\": 1}, \"12\": {\"12\": 236, \"11\": 4}, \"5\": {\"6\": 7, \"5\": 166, \"4\": 43, \"13\": 5, \"7\": 16, \"10\": 2, \"1\": 1}}, \"ORACLE.run2_32\": {\"8\": {\"8\": 216, \"0\": 18, \"5\": 3, \"3\": 2, \"14\": 1}, \"14\": {\"14\": 227, \"0\": 10, \"5\": 2, \"11\": 1}, \"2\": {\"2\": 230, \"4\": 5, \"5\": 3, \"7\": 1, \"11\": 1}, \"0\": {\"0\": 219, \"13\": 1, \"4\": 3, \"11\": 5, \"14\": 7, \"8\": 4, \"5\": 1}, \"1\": {\"1\": 240}, \"10\": {\"10\": 240}, \"11\": {\"11\": 225, \"0\": 6, \"7\": 6, \"4\": 2, \"13\": 1}, \"5\": {\"5\": 203, \"4\": 6, \"7\": 4, \"8\": 12, \"0\": 3, \"14\": 7, \"2\": 4, \"11\": 1}, \"15\": {\"15\": 240}, \"3\": {\"3\": 238, \"8\": 1, \"13\": 1}, \"12\": {\"12\": 240}, \"7\": {\"7\": 208, \"4\": 11, \"11\": 12, \"2\": 4, \"5\": 4, \"13\": 1}, \"13\": {\"4\": 24, \"13\": 215, \"0\": 1}, \"6\": {\"6\": 240}, \"4\": {\"4\": 199, \"13\": 31, \"7\": 6, \"2\": 3, \"11\": 1}, \"9\": {\"9\": 240}}, \"ORACLE.run2_26\": {\"4\": {\"4\": 222, \"0\": 7, \"7\": 6, \"3\": 2, \"14\": 1, \"2\": 2}, \"12\": {\"12\": 240}, \"10\": {\"10\": 116, \"1\": 1, \"0\": 60, \"8\": 28, \"15\": 2, \"14\": 23, \"6\": 5, \"4\": 5}, \"0\": {\"10\": 35, \"0\": 134, \"14\": 46, \"7\": 2, \"4\": 7, \"8\": 16}, \"13\": {\"13\": 228, \"9\": 5, \"5\": 7}, \"9\": {\"9\": 227, \"6\": 2, \"13\": 8, \"5\": 2, \"8\": 1}, \"3\": {\"3\": 217, \"2\": 11, \"4\": 3, \"7\": 7, \"15\": 2}, \"2\": {\"2\": 137, \"7\": 75, \"3\": 9, \"5\": 3, \"8\": 3, \"15\": 6, \"4\": 6, \"13\": 1}, \"5\": {\"5\": 202, \"13\": 18, \"2\": 11, \"3\": 6, \"7\": 2, \"6\": 1}, \"14\": {\"14\": 160, \"8\": 14, \"10\": 16, \"0\": 30, \"1\": 18, \"4\": 2}, \"8\": {\"8\": 188, \"10\": 10, \"14\": 13, \"4\": 5, \"0\": 10, \"2\": 7, \"7\": 3, \"13\": 1, \"5\": 1, \"15\": 1, \"9\": 1}, \"7\": {\"7\": 145, \"2\": 72, \"4\": 12, \"3\": 4, \"5\": 2, \"8\": 4, \"15\": 1}, \"6\": {\"6\": 224, \"9\": 13, \"13\": 1, \"10\": 1, \"5\": 1}, \"11\": {\"11\": 240}, \"15\": {\"15\": 215, \"7\": 12, \"2\": 9, \"3\": 3, \"4\": 1}, \"1\": {\"1\": 228, \"14\": 9, \"8\": 2, \"2\": 1}}, \"ORACLE.run2_44\": {\"12\": {\"12\": 211, \"1\": 20, \"3\": 9}, \"7\": {\"9\": 72, \"6\": 2, \"7\": 163, \"2\": 3}, \"5\": {\"5\": 229, \"14\": 11}, \"15\": {\"15\": 222, \"14\": 14, \"4\": 4}, \"8\": {\"8\": 175, \"0\": 65}, \"2\": {\"2\": 226, \"9\": 11, \"7\": 3}, \"13\": {\"13\": 230, \"6\": 4, \"4\": 6}, \"4\": {\"4\": 234, \"14\": 6}, \"0\": {\"0\": 153, \"8\": 87}, \"6\": {\"6\": 234, \"7\": 2, \"13\": 1, \"9\": 3}, \"9\": {\"9\": 158, \"7\": 64, \"2\": 14, \"6\": 4}, \"11\": {\"11\": 240}, \"10\": {\"10\": 240}, \"14\": {\"14\": 202, \"5\": 10, \"4\": 10, \"15\": 17, \"8\": 1}, \"1\": {\"1\": 212, \"12\": 18, \"3\": 10}, \"3\": {\"3\": 227, \"2\": 1, \"1\": 6, \"12\": 6}}, \"ORACLE.run1_14\": {\"15\": {\"15\": 240}, \"3\": {\"3\": 236, \"2\": 3, \"14\": 1}, \"6\": {\"6\": 185, \"13\": 51, \"2\": 1, \"14\": 3}, \"1\": {\"1\": 237, \"5\": 3}, \"8\": {\"8\": 240}, \"10\": {\"10\": 240}, \"9\": {\"9\": 239, \"12\": 1}, \"13\": {\"13\": 139, \"6\": 83, \"5\": 9, \"14\": 1, \"4\": 2, \"2\": 6}, \"12\": {\"12\": 240}, \"5\": {\"5\": 218, \"1\": 9, \"3\": 2, \"4\": 9, \"2\": 2}, \"0\": {\"0\": 239, \"3\": 1}, \"2\": {\"2\": 161, \"14\": 48, \"3\": 7, \"13\": 4, \"5\": 18, \"6\": 2}, \"11\": {\"11\": 199, \"12\": 24, \"9\": 17}, \"14\": {\"14\": 218, \"2\": 20, \"6\": 1, \"13\": 1}, \"7\": {\"7\": 240}, \"4\": {\"4\": 232, \"5\": 8}}, \"ORACLE.run1_20\": {\"3\": {\"3\": 191, \"12\": 29, \"9\": 7, \"2\": 11, \"4\": 2}, \"15\": {\"15\": 227, \"1\": 9, \"0\": 1, \"5\": 3}, \"8\": {\"8\": 236, \"4\": 4}, \"4\": {\"4\": 236, \"8\": 3, \"3\": 1}, \"14\": {\"6\": 6, \"14\": 231, \"10\": 3}, \"0\": {\"5\": 16, \"15\": 6, \"0\": 217, \"8\": 1}, \"7\": {\"7\": 234, \"3\": 1, \"2\": 3, \"9\": 2}, \"6\": {\"6\": 236, \"14\": 4}, \"10\": {\"10\": 240}, \"5\": {\"5\": 225, \"0\": 9, \"15\": 4, \"12\": 1, \"1\": 1}, \"2\": {\"2\": 196, \"13\": 4, \"9\": 17, \"3\": 9, \"7\": 7, \"12\": 6, \"1\": 1}, \"12\": {\"12\": 187, \"1\": 24, \"3\": 19, \"9\": 4, \"2\": 6}, \"9\": {\"9\": 207, \"12\": 5, \"2\": 15, \"3\": 13}, \"1\": {\"1\": 220, \"12\": 16, \"15\": 4}, \"11\": {\"11\": 240}, \"13\": {\"13\": 240}}, \"ORACLE.run1_38\": {\"5\": {\"8\": 75, \"0\": 4, \"5\": 135, \"15\": 3, \"7\": 12, \"9\": 6, \"6\": 4, \"13\": 1}, \"8\": {\"0\": 10, \"8\": 184, \"15\": 11, \"5\": 27, \"7\": 7, \"10\": 1}, \"11\": {\"11\": 238, \"14\": 1, \"10\": 1}, \"1\": {\"1\": 239, \"15\": 1}, \"10\": {\"10\": 203, \"13\": 18, \"7\": 11, \"14\": 4, \"0\": 3, \"8\": 1}, \"15\": {\"15\": 211, \"8\": 14, \"1\": 7, \"5\": 7, \"13\": 1}, \"3\": {\"3\": 240}, \"7\": {\"5\": 8, \"8\": 9, \"7\": 214, \"0\": 8, \"10\": 1}, \"4\": {\"4\": 239, \"12\": 1}, \"14\": {\"14\": 230, \"2\": 10}, \"9\": {\"9\": 238, \"5\": 2}, \"12\": {\"12\": 240}, \"6\": {\"6\": 240}, \"2\": {\"2\": 230, \"13\": 2, \"14\": 8}, \"0\": {\"8\": 16, \"0\": 194, \"3\": 12, \"10\": 6, \"13\": 5, \"7\": 3, \"5\": 4}, \"13\": {\"13\": 224, \"0\": 3, \"8\": 2, \"10\": 7, \"5\": 2, \"7\": 1, \"2\": 1}}, \"ORACLE.run1_8\": {\"9\": {\"9\": 240}, \"10\": {\"10\": 232, \"13\": 4, \"14\": 3, \"4\": 1}, \"13\": {\"13\": 146, \"14\": 2, \"6\": 7, \"0\": 28, \"4\": 23, \"10\": 34}, \"0\": {\"0\": 218, \"7\": 8, \"13\": 12, \"10\": 1, \"6\": 1}, \"1\": {\"1\": 235, \"5\": 1, \"11\": 3, \"14\": 1}, \"15\": {\"15\": 229, \"8\": 1, \"12\": 10}, \"5\": {\"5\": 231, \"1\": 3, \"10\": 4, \"14\": 2}, \"3\": {\"3\": 239, \"2\": 1}, \"6\": {\"6\": 221, \"7\": 13, \"13\": 3, \"4\": 3}, \"11\": {\"11\": 235, \"1\": 5}, \"8\": {\"8\": 240}, \"4\": {\"4\": 201, \"6\": 4, \"13\": 29, \"14\": 4, \"10\": 1, \"0\": 1}, \"12\": {\"12\": 186, \"8\": 9, \"15\": 40, \"3\": 5}, \"14\": {\"14\": 217, \"1\": 6, \"4\": 10, \"10\": 6, \"11\": 1}, \"2\": {\"7\": 9, \"2\": 226, \"3\": 5}, \"7\": {\"7\": 228, \"6\": 12}}, \"ORACLE.run1_50\": {\"7\": {\"7\": 231, \"13\": 3, \"5\": 4, \"6\": 2}, \"3\": {\"3\": 239, \"8\": 1}, \"8\": {\"8\": 237, \"10\": 3}, \"2\": {\"2\": 233, \"0\": 7}, \"14\": {\"14\": 240}, \"4\": {\"4\": 183, \"15\": 24, \"5\": 24, \"6\": 3, \"7\": 5, \"1\": 1}, \"6\": {\"6\": 229, \"5\": 5, \"7\": 2, \"4\": 2, \"13\": 1, \"15\": 1}, \"15\": {\"15\": 219, \"4\": 12, \"1\": 7, \"11\": 2}, \"10\": {\"10\": 232, \"0\": 3, \"8\": 5}, \"11\": {\"11\": 228, \"9\": 1, \"12\": 4, \"15\": 6, \"4\": 1}, \"13\": {\"13\": 224, \"5\": 8, \"0\": 2, \"10\": 4, \"6\": 1, \"7\": 1}, \"9\": {\"9\": 217, \"11\": 19, \"12\": 4}, \"0\": {\"0\": 216, \"10\": 8, \"2\": 16}, \"1\": {\"1\": 225, \"15\": 7, \"4\": 3, \"2\": 3, \"5\": 1, \"13\": 1}, \"12\": {\"12\": 236, \"9\": 2, \"11\": 2}, \"5\": {\"5\": 139, \"4\": 28, \"7\": 35, \"1\": 12, \"13\": 22, \"6\": 2, \"15\": 2}}, \"ORACLE.run1_32\": {\"8\": {\"8\": 217, \"13\": 4, \"0\": 15, \"14\": 1, \"5\": 2, \"3\": 1}, \"14\": {\"14\": 186, \"11\": 15, \"0\": 25, \"5\": 2, \"7\": 4, \"8\": 2, \"3\": 6}, \"2\": {\"2\": 199, \"4\": 40, \"7\": 1}, \"0\": {\"0\": 224, \"8\": 12, \"14\": 4}, \"1\": {\"1\": 240}, \"10\": {\"10\": 240}, \"11\": {\"11\": 238, \"14\": 2}, \"5\": {\"5\": 146, \"7\": 64, \"3\": 7, \"13\": 9, \"14\": 4, \"8\": 6, \"4\": 4}, \"15\": {\"15\": 240}, \"3\": {\"3\": 236, \"13\": 2, \"5\": 2}, \"12\": {\"12\": 240}, \"7\": {\"7\": 203, \"5\": 25, \"4\": 7, \"0\": 1, \"14\": 2, \"2\": 2}, \"13\": {\"13\": 214, \"3\": 8, \"4\": 12, \"7\": 2, \"5\": 3, \"8\": 1}, \"6\": {\"6\": 240}, \"4\": {\"4\": 191, \"2\": 41, \"13\": 3, \"7\": 3, \"5\": 2}, \"9\": {\"9\": 240}}, \"ORACLE.run1_26\": {\"4\": {\"14\": 12, \"4\": 205, \"8\": 13, \"7\": 5, \"0\": 3, \"1\": 2}, \"12\": {\"12\": 240}, \"10\": {\"14\": 15, \"10\": 151, \"8\": 30, \"6\": 1, \"0\": 40, \"15\": 1, \"4\": 1, \"9\": 1}, \"0\": {\"0\": 101, \"8\": 28, \"14\": 40, \"10\": 53, \"4\": 18}, \"13\": {\"5\": 21, \"13\": 212, \"7\": 1, \"2\": 4, \"9\": 2}, \"9\": {\"9\": 212, \"13\": 6, \"15\": 15, \"6\": 5, \"5\": 2}, \"3\": {\"3\": 205, \"2\": 25, \"7\": 10}, \"2\": {\"5\": 24, \"3\": 72, \"2\": 122, \"7\": 12, \"13\": 3, \"15\": 7}, \"5\": {\"5\": 227, \"2\": 4, \"13\": 9}, \"14\": {\"0\": 30, \"14\": 171, \"4\": 18, \"10\": 10, \"1\": 6, \"8\": 5}, \"8\": {\"0\": 21, \"7\": 13, \"8\": 153, \"14\": 4, \"10\": 26, \"4\": 19, \"15\": 4}, \"7\": {\"7\": 208, \"2\": 15, \"8\": 6, \"14\": 1, \"4\": 4, \"10\": 1, \"3\": 5}, \"6\": {\"6\": 224, \"15\": 9, \"10\": 3, \"9\": 3, \"8\": 1}, \"11\": {\"11\": 240}, \"15\": {\"15\": 210, \"10\": 4, \"13\": 3, \"8\": 3, \"9\": 15, \"6\": 3, \"0\": 1, \"5\": 1}, \"1\": {\"1\": 227, \"14\": 11, \"4\": 2}}, \"ORACLE.run1_44\": {\"12\": {\"12\": 229, \"1\": 11}, \"7\": {\"7\": 173, \"2\": 33, \"9\": 34}, \"5\": {\"5\": 211, \"0\": 16, \"14\": 4, \"15\": 6, \"8\": 3}, \"15\": {\"15\": 216, \"14\": 3, \"5\": 1, \"0\": 14, \"8\": 6}, \"8\": {\"8\": 123, \"0\": 112, \"15\": 5}, \"2\": {\"2\": 194, \"7\": 37, \"1\": 6, \"10\": 3}, \"13\": {\"13\": 166, \"9\": 32, \"6\": 38, \"11\": 2, \"4\": 1, \"7\": 1}, \"4\": {\"14\": 58, \"4\": 180, \"15\": 2}, \"0\": {\"0\": 150, \"8\": 84, \"15\": 3, \"5\": 3}, \"6\": {\"9\": 15, \"6\": 183, \"13\": 37, \"7\": 5}, \"9\": {\"13\": 25, \"9\": 148, \"7\": 51, \"6\": 14, \"4\": 1, \"3\": 1}, \"11\": {\"13\": 3, \"11\": 236, \"6\": 1}, \"10\": {\"10\": 217, \"1\": 13, \"2\": 5, \"12\": 2, \"7\": 3}, \"14\": {\"14\": 162, \"4\": 58, \"15\": 17, \"5\": 3}, \"1\": {\"2\": 16, \"1\": 181, \"12\": 24, \"10\": 12, \"3\": 7}, \"3\": {\"3\": 235, \"1\": 4, \"2\": 1}}}, \"per_domain_accuracy\": {\"ORACLE.run2_14\": {\"accuracy\": 0.9411458333333333, \"source?\": true}, \"ORACLE.run2_20\": {\"accuracy\": 0.9109375, \"source?\": true}, \"ORACLE.run2_38\": {\"accuracy\": 0.8875, \"source?\": true}, \"ORACLE.run2_8\": {\"accuracy\": 0.9317708333333333, \"source?\": true}, \"ORACLE.run2_50\": {\"accuracy\": 0.9315104166666667, \"source?\": true}, \"ORACLE.run2_32\": {\"accuracy\": 0.9427083333333334, \"source?\": true}, \"ORACLE.run2_26\": {\"accuracy\": 0.81328125, \"source?\": true}, \"ORACLE.run2_44\": {\"accuracy\": 0.8739583333333333, \"source?\": true}, \"ORACLE.run1_14\": {\"accuracy\": 0.9122395833333333, \"source?\": false}, \"ORACLE.run1_20\": {\"accuracy\": 0.9278645833333333, \"source?\": false}, \"ORACLE.run1_38\": {\"accuracy\": 0.9111979166666667, \"source?\": false}, \"ORACLE.run1_8\": {\"accuracy\": 0.9177083333333333, \"source?\": false}, \"ORACLE.run1_50\": {\"accuracy\": 0.91875, \"source?\": false}, \"ORACLE.run1_32\": {\"accuracy\": 0.9098958333333333, \"source?\": false}, \"ORACLE.run1_26\": {\"accuracy\": 0.809375, \"source?\": false}, \"ORACLE.run1_44\": {\"accuracy\": 0.7822916666666667, \"source?\": false}}}, \"history\": {\"epoch_indices\": [1, 2, 3, 4, 5, 6, 7, 8, 9, 10, 11, 12, 13, 14, 15, 16, 17, 18, 19, 20, 21], \"train_label_loss\": [0.8468450413861622, 0.9796544717580434, 0.4712460585758977, 0.39509064684888084, 0.34657392225316946, 0.3139974187618853, 0.28921620863534153, 0.26999348979789783, 0.25945648072055993, 0.25056467472791805, 0.22669344403957006, 0.21708267557509575, 0.21023743452879856, 0.19689810013771333, 0.18646853243948758, 0.18918385300982793, 0.17256470819594966, 0.16624419539439259, 0.17643970526788463, 0.16733571112736606, 0.1463089640089969], \"source_val_label_loss\": [94.29203033447266, 0.5048778057098389, 0.5222756266593933, 0.4046560227870941, 0.36951062083244324, 0.3897155225276947, 0.39756718277931213, 0.3068002760410309, 0.34395191073417664, 0.31708550453186035, 0.29524853825569153, 0.29069966077804565, 0.28663134574890137, 0.3035937547683716, 0.6896253228187561, 0.2854715585708618, 0.2827586829662323, 0.2900732457637787, 0.27530527114868164, 0.2946871519088745, 0.28455445170402527], \"target_val_label_loss\": [110.63592529296875, 0.49508488178253174, 0.4633484482765198, 0.426887184381485, 0.38409197330474854, 0.41232040524482727, 0.4306950569152832, 0.34794408082962036, 0.3504469692707062, 0.37267330288887024, 0.3545886278152466, 0.35706162452697754, 0.33336034417152405, 0.3606455624103546, 0.3719152510166168, 0.36317893862724304, 0.3436216413974762, 0.3584641218185425, 0.3492337465286255, 0.36496400833129883, 0.3657110929489136], \"source_val_acc_label\": [0.6667317708333333, 0.8258138020833333, 0.8344075520833333, 0.8562174479166667, 0.8682291666666667, 0.8638671875, 0.8578125, 0.888671875, 0.8890625, 0.8844075520833333, 0.8940755208333333, 0.8985677083333333, 0.8973958333333333, 0.8927083333333333, 0.8976236979166666, 0.9013671875, 0.9041015625, 0.9000325520833333, 0.9044270833333333, 0.8999348958333333, 0.9047526041666667], \"target_val_acc_label\": [0.6626953125, 0.8221028645833334, 0.8339192708333333, 0.84599609375, 0.86240234375, 0.8538736979166667, 0.8499348958333334, 0.87607421875, 0.8771809895833333, 0.8672526041666667, 0.8779622395833333, 0.8777018229166667, 0.8833658854166667, 0.876171875, 0.880859375, 0.8775065104166667, 0.8861653645833333, 0.8783203125, 0.8818684895833333, 0.8778645833333333, 0.88115234375]}, \"dataset_metrics\": {\"source\": {\"train\": {\"n_unique_x\": 179200, \"n_unique_y\": 16, \"n_batch/episode\": 6720}, \"val\": {\"n_unique_x\": 38400, \"n_unique_y\": 16, \"n_batch/episode\": 960}, \"test\": {\"n_unique_x\": 38400, \"n_unique_y\": 16, \"n_batch/episode\": 960}}, \"target\": {\"train\": {\"n_unique_x\": 179200, \"n_unique_y\": 16, \"n_batch/episode\": 6720}, \"val\": {\"n_unique_x\": 38400, \"n_unique_y\": 16, \"n_batch/episode\": 960}, \"test\": {\"n_unique_x\": 38400, \"n_unique_y\": 16, \"n_batch/episode\": 960}}}}'"
      ]
     },
     "execution_count": 29,
     "metadata": {},
     "output_type": "execute_result"
    }
   ],
   "source": [
    "json.dumps(experiment)"
   ]
  }
 ],
 "metadata": {
  "celltoolbar": "Tags",
  "kernelspec": {
   "display_name": "Python 3 (ipykernel)",
   "language": "python",
   "name": "python3"
  },
  "language_info": {
   "codemirror_mode": {
    "name": "ipython",
    "version": 3
   },
   "file_extension": ".py",
   "mimetype": "text/x-python",
   "name": "python",
   "nbconvert_exporter": "python",
   "pygments_lexer": "ipython3",
   "version": "3.8.12"
  },
  "papermill": {
   "default_parameters": {},
   "duration": 5708.145785,
   "end_time": "2022-03-21T07:20:14.255207",
   "environment_variables": {},
   "exception": null,
   "input_path": "/root/csc500-main/csc500-notebooks/templates/tl_ptn_template.ipynb",
   "output_path": "trial.ipynb",
   "parameters": {
    "parameters": {
     "BEST_MODEL_PATH": "./best_model.pth",
     "NUM_LOGS_PER_EPOCH": 10,
     "criteria_for_best": "target_accuracy",
     "dataset_seed": 1337,
     "datasets": [
      {
       "domain_prefix": "ORACLE.run1_",
       "domains": [
        32,
        38,
        8,
        44,
        14,
        50,
        20,
        26
       ],
       "episode_transforms": [],
       "labels": [
        "3123D52",
        "3123D65",
        "3123D79",
        "3123D80",
        "3123D54",
        "3123D70",
        "3123D7B",
        "3123D89",
        "3123D58",
        "3123D76",
        "3123D7D",
        "3123EFE",
        "3123D64",
        "3123D78",
        "3123D7E",
        "3124E4A"
       ],
       "num_examples_per_domain_per_label": 2000,
       "pickle_path": "/root/csc500-main/datasets/oracle.Run1_framed_2000Examples_stratified_ds.2022A.pkl",
       "source_or_target_dataset": "target",
       "x_transforms": [
        "unit_power"
       ]
      },
      {
       "domain_prefix": "ORACLE.run2_",
       "domains": [
        32,
        38,
        8,
        44,
        14,
        50,
        20,
        26
       ],
       "episode_transforms": [],
       "labels": [
        "3123D52",
        "3123D65",
        "3123D79",
        "3123D80",
        "3123D54",
        "3123D70",
        "3123D7B",
        "3123D89",
        "3123D58",
        "3123D76",
        "3123D7D",
        "3123EFE",
        "3123D64",
        "3123D78",
        "3123D7E",
        "3124E4A"
       ],
       "num_examples_per_domain_per_label": 2000,
       "pickle_path": "/root/csc500-main/datasets/oracle.Run2_framed_2000Examples_stratified_ds.2022A.pkl",
       "source_or_target_dataset": "source",
       "x_transforms": [
        "unit_power"
       ]
      }
     ],
     "device": "cuda",
     "experiment_name": "tl_1v2:oracle.run1.framed-oracle.run2.framed",
     "lr": 0.0001,
     "n_epoch": 50,
     "n_query": 2,
     "n_shot": 3,
     "n_way": 16,
     "patience": 3,
     "seed": 1337,
     "test_k_factor": 2,
     "torch_default_dtype": "torch.float32",
     "train_k_factor": 3,
     "val_k_factor": 2,
     "x_net": [
      {
       "class": "nnReshape",
       "kargs": {
        "shape": [
         -1,
         1,
         2,
         256
        ]
       }
      },
      {
       "class": "Conv2d",
       "kargs": {
        "bias": false,
        "in_channels": 1,
        "kernel_size": [
         1,
         7
        ],
        "out_channels": 256,
        "padding": [
         0,
         3
        ]
       }
      },
      {
       "class": "ReLU",
       "kargs": {
        "inplace": true
       }
      },
      {
       "class": "BatchNorm2d",
       "kargs": {
        "num_features": 256
       }
      },
      {
       "class": "Conv2d",
       "kargs": {
        "bias": true,
        "in_channels": 256,
        "kernel_size": [
         2,
         7
        ],
        "out_channels": 80,
        "padding": [
         0,
         3
        ]
       }
      },
      {
       "class": "ReLU",
       "kargs": {
        "inplace": true
       }
      },
      {
       "class": "BatchNorm2d",
       "kargs": {
        "num_features": 80
       }
      },
      {
       "class": "Flatten",
       "kargs": {}
      },
      {
       "class": "Linear",
       "kargs": {
        "in_features": 20480,
        "out_features": 256
       }
      },
      {
       "class": "ReLU",
       "kargs": {
        "inplace": true
       }
      },
      {
       "class": "BatchNorm1d",
       "kargs": {
        "num_features": 256
       }
      },
      {
       "class": "Linear",
       "kargs": {
        "in_features": 256,
        "out_features": 256
       }
      }
     ]
    }
   },
   "start_time": "2022-03-21T05:45:06.109422",
   "version": "2.3.4"
  }
 },
 "nbformat": 4,
 "nbformat_minor": 5
}