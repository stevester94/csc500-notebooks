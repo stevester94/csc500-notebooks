{
 "cells": [
  {
   "cell_type": "markdown",
   "id": "9fea5f46",
   "metadata": {
    "papermill": {
     "duration": 0.025849,
     "end_time": "2022-03-22T01:29:15.035516",
     "exception": false,
     "start_time": "2022-03-22T01:29:15.009667",
     "status": "completed"
    },
    "tags": []
   },
   "source": [
    "# Transfer Learning Template"
   ]
  },
  {
   "cell_type": "code",
   "execution_count": 1,
   "id": "0902182a",
   "metadata": {
    "execution": {
     "iopub.execute_input": "2022-03-22T01:29:15.094764Z",
     "iopub.status.busy": "2022-03-22T01:29:15.093914Z",
     "iopub.status.idle": "2022-03-22T01:29:16.937820Z",
     "shell.execute_reply": "2022-03-22T01:29:16.937006Z"
    },
    "papermill": {
     "duration": 1.88323,
     "end_time": "2022-03-22T01:29:16.938018",
     "exception": false,
     "start_time": "2022-03-22T01:29:15.054788",
     "status": "completed"
    },
    "tags": []
   },
   "outputs": [],
   "source": [
    "%load_ext autoreload\n",
    "%autoreload 2\n",
    "%matplotlib inline\n",
    "\n",
    "    \n",
    "import os, json, sys, time, random\n",
    "import numpy as np\n",
    "import torch\n",
    "from torch.optim import Adam\n",
    "from  easydict import EasyDict\n",
    "import matplotlib.pyplot as plt\n",
    "\n",
    "from steves_models.steves_ptn import Steves_Prototypical_Network\n",
    "\n",
    "from steves_utils.lazy_iterable_wrapper import Lazy_Iterable_Wrapper\n",
    "from steves_utils.iterable_aggregator import Iterable_Aggregator\n",
    "from steves_utils.ptn_train_eval_test_jig import  PTN_Train_Eval_Test_Jig\n",
    "from steves_utils.torch_sequential_builder import build_sequential\n",
    "from steves_utils.torch_utils import get_dataset_metrics, ptn_confusion_by_domain_over_dataloader\n",
    "from steves_utils.utils_v2 import (per_domain_accuracy_from_confusion, get_datasets_base_path)\n",
    "from steves_utils.PTN.utils import independent_accuracy_assesment\n",
    "\n",
    "from torch.utils.data import DataLoader\n",
    "\n",
    "from steves_utils.stratified_dataset.episodic_accessor import Episodic_Accessor_Factory\n",
    "\n",
    "from steves_utils.ptn_do_report import (\n",
    "    get_loss_curve,\n",
    "    get_results_table,\n",
    "    get_parameters_table,\n",
    "    get_domain_accuracies,\n",
    ")\n",
    "\n",
    "from steves_utils.transforms import get_chained_transform"
   ]
  },
  {
   "cell_type": "markdown",
   "id": "41c840b4",
   "metadata": {
    "papermill": {
     "duration": 0.0189,
     "end_time": "2022-03-22T01:29:16.982399",
     "exception": false,
     "start_time": "2022-03-22T01:29:16.963499",
     "status": "completed"
    },
    "tags": []
   },
   "source": [
    "# Allowed Parameters\n",
    "These are allowed parameters, not defaults\n",
    "Each of these values need to be present in the injected parameters (the notebook will raise an exception if they are not present)\n",
    "\n",
    "Papermill uses the cell tag \"parameters\" to inject the real parameters below this cell.\n",
    "Enable tags to see what I mean"
   ]
  },
  {
   "cell_type": "code",
   "execution_count": 2,
   "id": "fd44eb83",
   "metadata": {
    "execution": {
     "iopub.execute_input": "2022-03-22T01:29:17.026147Z",
     "iopub.status.busy": "2022-03-22T01:29:17.025575Z",
     "iopub.status.idle": "2022-03-22T01:29:17.049500Z",
     "shell.execute_reply": "2022-03-22T01:29:17.048797Z"
    },
    "papermill": {
     "duration": 0.048331,
     "end_time": "2022-03-22T01:29:17.049666",
     "exception": false,
     "start_time": "2022-03-22T01:29:17.001335",
     "status": "completed"
    },
    "tags": []
   },
   "outputs": [],
   "source": [
    "required_parameters = {\n",
    "    \"experiment_name\",\n",
    "    \"lr\",\n",
    "    \"device\",\n",
    "    \"seed\",\n",
    "    \"dataset_seed\",\n",
    "    \"n_shot\",\n",
    "    \"n_query\",\n",
    "    \"n_way\",\n",
    "    \"train_k_factor\",\n",
    "    \"val_k_factor\",\n",
    "    \"test_k_factor\",\n",
    "    \"n_epoch\",\n",
    "    \"patience\",\n",
    "    \"criteria_for_best\",\n",
    "    \"x_net\",\n",
    "    \"datasets\",\n",
    "    \"torch_default_dtype\",\n",
    "    \"NUM_LOGS_PER_EPOCH\",\n",
    "    \"BEST_MODEL_PATH\",\n",
    "    \"x_shape\",\n",
    "}"
   ]
  },
  {
   "cell_type": "code",
   "execution_count": 3,
   "id": "fa3f0049",
   "metadata": {
    "execution": {
     "iopub.execute_input": "2022-03-22T01:29:17.108363Z",
     "iopub.status.busy": "2022-03-22T01:29:17.097387Z",
     "iopub.status.idle": "2022-03-22T01:29:17.138996Z",
     "shell.execute_reply": "2022-03-22T01:29:17.138302Z"
    },
    "papermill": {
     "duration": 0.063804,
     "end_time": "2022-03-22T01:29:17.139150",
     "exception": false,
     "start_time": "2022-03-22T01:29:17.075346",
     "status": "completed"
    },
    "tags": [
     "parameters"
    ]
   },
   "outputs": [],
   "source": [
    "from steves_utils.CORES.utils import (\n",
    "    ALL_NODES,\n",
    "    ALL_NODES_MINIMUM_1000_EXAMPLES,\n",
    "    ALL_DAYS\n",
    ")\n",
    "\n",
    "from steves_utils.ORACLE.utils_v2 import (\n",
    "    ALL_DISTANCES_FEET_NARROWED,\n",
    "    ALL_RUNS,\n",
    "    ALL_SERIAL_NUMBERS,\n",
    ")\n",
    "\n",
    "standalone_parameters = {}\n",
    "standalone_parameters[\"experiment_name\"] = \"STANDALONE PTN\"\n",
    "standalone_parameters[\"lr\"] = 0.001\n",
    "standalone_parameters[\"device\"] = \"cuda\"\n",
    "\n",
    "standalone_parameters[\"seed\"] = 1337\n",
    "standalone_parameters[\"dataset_seed\"] = 1337\n",
    "\n",
    "standalone_parameters[\"n_way\"] = 8\n",
    "standalone_parameters[\"n_shot\"] = 3\n",
    "standalone_parameters[\"n_query\"]  = 2\n",
    "standalone_parameters[\"train_k_factor\"] = 1\n",
    "standalone_parameters[\"val_k_factor\"] = 2\n",
    "standalone_parameters[\"test_k_factor\"] = 2\n",
    "\n",
    "\n",
    "standalone_parameters[\"n_epoch\"] = 50\n",
    "\n",
    "standalone_parameters[\"patience\"] = 10\n",
    "standalone_parameters[\"criteria_for_best\"] = \"source_loss\"\n",
    "\n",
    "standalone_parameters[\"datasets\"] = [\n",
    "    {\n",
    "        \"labels\": ALL_SERIAL_NUMBERS,\n",
    "        \"domains\": ALL_DISTANCES_FEET_NARROWED,\n",
    "        \"num_examples_per_domain_per_label\": 100,\n",
    "        \"pickle_path\": os.path.join(get_datasets_base_path(), \"oracle.Run1_framed_2000Examples_stratified_ds.2022A.pkl\"),\n",
    "        \"source_or_target_dataset\": \"source\",\n",
    "        \"x_transforms\": [\"unit_mag\", \"minus_two\"],\n",
    "        \"episode_transforms\": [],\n",
    "        \"domain_prefix\": \"ORACLE_\"\n",
    "    },\n",
    "    {\n",
    "        \"labels\": ALL_NODES,\n",
    "        \"domains\": ALL_DAYS,\n",
    "        \"num_examples_per_domain_per_label\": 100,\n",
    "        \"pickle_path\": os.path.join(get_datasets_base_path(), \"cores.stratified_ds.2022A.pkl\"),\n",
    "        \"source_or_target_dataset\": \"target\",\n",
    "        \"x_transforms\": [\"unit_power\", \"times_zero\"],\n",
    "        \"episode_transforms\": [],\n",
    "        \"domain_prefix\": \"CORES_\"\n",
    "    }   \n",
    "]\n",
    "\n",
    "standalone_parameters[\"torch_default_dtype\"] = \"torch.float32\" \n",
    "\n",
    "\n",
    "\n",
    "standalone_parameters[\"x_net\"] =     [\n",
    "    {\"class\": \"nnReshape\", \"kargs\": {\"shape\":[-1, 1, 2, 256]}},\n",
    "    {\"class\": \"Conv2d\", \"kargs\": { \"in_channels\":1, \"out_channels\":256, \"kernel_size\":(1,7), \"bias\":False, \"padding\":(0,3), },},\n",
    "    {\"class\": \"ReLU\", \"kargs\": {\"inplace\": True}},\n",
    "    {\"class\": \"BatchNorm2d\", \"kargs\": {\"num_features\":256}},\n",
    "\n",
    "    {\"class\": \"Conv2d\", \"kargs\": { \"in_channels\":256, \"out_channels\":80, \"kernel_size\":(2,7), \"bias\":True, \"padding\":(0,3), },},\n",
    "    {\"class\": \"ReLU\", \"kargs\": {\"inplace\": True}},\n",
    "    {\"class\": \"BatchNorm2d\", \"kargs\": {\"num_features\":80}},\n",
    "    {\"class\": \"Flatten\", \"kargs\": {}},\n",
    "\n",
    "    {\"class\": \"Linear\", \"kargs\": {\"in_features\": 80*256, \"out_features\": 256}}, # 80 units per IQ pair\n",
    "    {\"class\": \"ReLU\", \"kargs\": {\"inplace\": True}},\n",
    "    {\"class\": \"BatchNorm1d\", \"kargs\": {\"num_features\":256}},\n",
    "\n",
    "    {\"class\": \"Linear\", \"kargs\": {\"in_features\": 256, \"out_features\": 256}},\n",
    "]\n",
    "\n",
    "# Parameters relevant to results\n",
    "# These parameters will basically never need to change\n",
    "standalone_parameters[\"NUM_LOGS_PER_EPOCH\"] = 10\n",
    "standalone_parameters[\"BEST_MODEL_PATH\"] = \"./best_model.pth\"\n",
    "\n",
    "\n",
    "\n",
    "\n"
   ]
  },
  {
   "cell_type": "code",
   "execution_count": 4,
   "id": "68a51167",
   "metadata": {
    "execution": {
     "iopub.execute_input": "2022-03-22T01:29:17.198724Z",
     "iopub.status.busy": "2022-03-22T01:29:17.193097Z",
     "iopub.status.idle": "2022-03-22T01:29:17.224323Z",
     "shell.execute_reply": "2022-03-22T01:29:17.223626Z"
    },
    "papermill": {
     "duration": 0.058588,
     "end_time": "2022-03-22T01:29:17.224475",
     "exception": false,
     "start_time": "2022-03-22T01:29:17.165887",
     "status": "completed"
    },
    "tags": [
     "injected-parameters"
    ]
   },
   "outputs": [],
   "source": [
    "# Parameters\n",
    "parameters = {\n",
    "    \"experiment_name\": \"tl_1v2:oracle.run1.framed-oracle.run2.framed\",\n",
    "    \"device\": \"cuda\",\n",
    "    \"lr\": 0.0001,\n",
    "    \"n_shot\": 3,\n",
    "    \"n_query\": 2,\n",
    "    \"train_k_factor\": 3,\n",
    "    \"val_k_factor\": 2,\n",
    "    \"test_k_factor\": 2,\n",
    "    \"torch_default_dtype\": \"torch.float32\",\n",
    "    \"n_epoch\": 50,\n",
    "    \"patience\": 3,\n",
    "    \"criteria_for_best\": \"target_accuracy\",\n",
    "    \"x_net\": [\n",
    "        {\"class\": \"nnReshape\", \"kargs\": {\"shape\": [-1, 1, 2, 256]}},\n",
    "        {\n",
    "            \"class\": \"Conv2d\",\n",
    "            \"kargs\": {\n",
    "                \"in_channels\": 1,\n",
    "                \"out_channels\": 256,\n",
    "                \"kernel_size\": [1, 7],\n",
    "                \"bias\": False,\n",
    "                \"padding\": [0, 3],\n",
    "            },\n",
    "        },\n",
    "        {\"class\": \"ReLU\", \"kargs\": {\"inplace\": True}},\n",
    "        {\"class\": \"BatchNorm2d\", \"kargs\": {\"num_features\": 256}},\n",
    "        {\n",
    "            \"class\": \"Conv2d\",\n",
    "            \"kargs\": {\n",
    "                \"in_channels\": 256,\n",
    "                \"out_channels\": 80,\n",
    "                \"kernel_size\": [2, 7],\n",
    "                \"bias\": True,\n",
    "                \"padding\": [0, 3],\n",
    "            },\n",
    "        },\n",
    "        {\"class\": \"ReLU\", \"kargs\": {\"inplace\": True}},\n",
    "        {\"class\": \"BatchNorm2d\", \"kargs\": {\"num_features\": 80}},\n",
    "        {\"class\": \"Flatten\", \"kargs\": {}},\n",
    "        {\"class\": \"Linear\", \"kargs\": {\"in_features\": 20480, \"out_features\": 256}},\n",
    "        {\"class\": \"ReLU\", \"kargs\": {\"inplace\": True}},\n",
    "        {\"class\": \"BatchNorm1d\", \"kargs\": {\"num_features\": 256}},\n",
    "        {\"class\": \"Linear\", \"kargs\": {\"in_features\": 256, \"out_features\": 256}},\n",
    "    ],\n",
    "    \"NUM_LOGS_PER_EPOCH\": 10,\n",
    "    \"BEST_MODEL_PATH\": \"./best_model.pth\",\n",
    "    \"n_way\": 16,\n",
    "    \"datasets\": [\n",
    "        {\n",
    "            \"labels\": [\n",
    "                \"3123D52\",\n",
    "                \"3123D65\",\n",
    "                \"3123D79\",\n",
    "                \"3123D80\",\n",
    "                \"3123D54\",\n",
    "                \"3123D70\",\n",
    "                \"3123D7B\",\n",
    "                \"3123D89\",\n",
    "                \"3123D58\",\n",
    "                \"3123D76\",\n",
    "                \"3123D7D\",\n",
    "                \"3123EFE\",\n",
    "                \"3123D64\",\n",
    "                \"3123D78\",\n",
    "                \"3123D7E\",\n",
    "                \"3124E4A\",\n",
    "            ],\n",
    "            \"domains\": [32, 38, 8, 44, 14, 50, 20, 26],\n",
    "            \"num_examples_per_domain_per_label\": 2000,\n",
    "            \"pickle_path\": \"/root/csc500-main/datasets/oracle.Run1_framed_2000Examples_stratified_ds.2022A.pkl\",\n",
    "            \"source_or_target_dataset\": \"target\",\n",
    "            \"x_transforms\": [\"unit_power\"],\n",
    "            \"episode_transforms\": [],\n",
    "            \"domain_prefix\": \"ORACLE.run1_\",\n",
    "        },\n",
    "        {\n",
    "            \"labels\": [\n",
    "                \"3123D52\",\n",
    "                \"3123D65\",\n",
    "                \"3123D79\",\n",
    "                \"3123D80\",\n",
    "                \"3123D54\",\n",
    "                \"3123D70\",\n",
    "                \"3123D7B\",\n",
    "                \"3123D89\",\n",
    "                \"3123D58\",\n",
    "                \"3123D76\",\n",
    "                \"3123D7D\",\n",
    "                \"3123EFE\",\n",
    "                \"3123D64\",\n",
    "                \"3123D78\",\n",
    "                \"3123D7E\",\n",
    "                \"3124E4A\",\n",
    "            ],\n",
    "            \"domains\": [32, 38, 8, 44, 14, 50, 20, 26],\n",
    "            \"num_examples_per_domain_per_label\": 2000,\n",
    "            \"pickle_path\": \"/root/csc500-main/datasets/oracle.Run2_framed_2000Examples_stratified_ds.2022A.pkl\",\n",
    "            \"source_or_target_dataset\": \"source\",\n",
    "            \"x_transforms\": [\"unit_power\"],\n",
    "            \"episode_transforms\": [],\n",
    "            \"domain_prefix\": \"ORACLE.run2_\",\n",
    "        },\n",
    "    ],\n",
    "    \"dataset_seed\": 7,\n",
    "    \"seed\": 7,\n",
    "}\n"
   ]
  },
  {
   "cell_type": "code",
   "execution_count": 5,
   "id": "8fa1cc33",
   "metadata": {
    "execution": {
     "iopub.execute_input": "2022-03-22T01:29:17.276408Z",
     "iopub.status.busy": "2022-03-22T01:29:17.275649Z",
     "iopub.status.idle": "2022-03-22T01:29:17.300730Z",
     "shell.execute_reply": "2022-03-22T01:29:17.301378Z"
    },
    "papermill": {
     "duration": 0.051263,
     "end_time": "2022-03-22T01:29:17.301553",
     "exception": false,
     "start_time": "2022-03-22T01:29:17.250290",
     "status": "completed"
    },
    "tags": []
   },
   "outputs": [],
   "source": [
    "# Set this to True if you want to run this template directly\n",
    "STANDALONE = False\n",
    "if STANDALONE:\n",
    "    print(\"parameters not injected, running with standalone_parameters\")\n",
    "    parameters = standalone_parameters\n",
    "\n",
    "if not 'parameters' in locals() and not 'parameters' in globals():\n",
    "    raise Exception(\"Parameter injection failed\")\n",
    "\n",
    "#Use an easy dict for all the parameters\n",
    "p = EasyDict(parameters)\n",
    "\n",
    "if \"x_shape\" not in p:\n",
    "    p.x_shape = [2,256] # Default to this if we dont supply x_shape\n",
    "\n",
    "\n",
    "supplied_keys = set(p.keys())\n",
    "\n",
    "if  supplied_keys != required_parameters:\n",
    "    print(\"Parameters are incorrect\")\n",
    "    if len(supplied_keys - required_parameters)>0: print(\"Shouldn't have:\", str(supplied_keys - required_parameters))\n",
    "    if len(required_parameters - supplied_keys)>0: print(\"Need to have:\", str(required_parameters - supplied_keys))\n",
    "    raise RuntimeError(\"Parameters are incorrect\")"
   ]
  },
  {
   "cell_type": "code",
   "execution_count": 6,
   "id": "3a028d58",
   "metadata": {
    "execution": {
     "iopub.execute_input": "2022-03-22T01:29:17.351501Z",
     "iopub.status.busy": "2022-03-22T01:29:17.351139Z",
     "iopub.status.idle": "2022-03-22T01:29:17.377985Z",
     "shell.execute_reply": "2022-03-22T01:29:17.377294Z"
    },
    "papermill": {
     "duration": 0.051178,
     "end_time": "2022-03-22T01:29:17.378136",
     "exception": false,
     "start_time": "2022-03-22T01:29:17.326958",
     "status": "completed"
    },
    "tags": []
   },
   "outputs": [],
   "source": [
    "###################################\n",
    "# Set the RNGs and make it all deterministic\n",
    "###################################\n",
    "np.random.seed(p.seed)\n",
    "random.seed(p.seed)\n",
    "torch.manual_seed(p.seed)\n",
    "\n",
    "torch.use_deterministic_algorithms(True) "
   ]
  },
  {
   "cell_type": "code",
   "execution_count": 7,
   "id": "b691acf6",
   "metadata": {
    "execution": {
     "iopub.execute_input": "2022-03-22T01:29:17.428125Z",
     "iopub.status.busy": "2022-03-22T01:29:17.427570Z",
     "iopub.status.idle": "2022-03-22T01:29:17.453880Z",
     "shell.execute_reply": "2022-03-22T01:29:17.454504Z"
    },
    "papermill": {
     "duration": 0.050952,
     "end_time": "2022-03-22T01:29:17.454684",
     "exception": false,
     "start_time": "2022-03-22T01:29:17.403732",
     "status": "completed"
    },
    "tags": []
   },
   "outputs": [],
   "source": [
    "###########################################\n",
    "# The stratified datasets honor this\n",
    "###########################################\n",
    "torch.set_default_dtype(eval(p.torch_default_dtype))"
   ]
  },
  {
   "cell_type": "code",
   "execution_count": 8,
   "id": "b5fba671",
   "metadata": {
    "execution": {
     "iopub.execute_input": "2022-03-22T01:29:17.504197Z",
     "iopub.status.busy": "2022-03-22T01:29:17.503829Z",
     "iopub.status.idle": "2022-03-22T01:29:17.563450Z",
     "shell.execute_reply": "2022-03-22T01:29:17.562728Z"
    },
    "papermill": {
     "duration": 0.083622,
     "end_time": "2022-03-22T01:29:17.563639",
     "exception": false,
     "start_time": "2022-03-22T01:29:17.480017",
     "status": "completed"
    },
    "tags": []
   },
   "outputs": [],
   "source": [
    "###################################\n",
    "# Build the network(s)\n",
    "# Note: It's critical to do this AFTER setting the RNG\n",
    "###################################\n",
    "x_net = build_sequential(p.x_net)"
   ]
  },
  {
   "cell_type": "code",
   "execution_count": 9,
   "id": "5d7e61cc",
   "metadata": {
    "execution": {
     "iopub.execute_input": "2022-03-22T01:29:17.613976Z",
     "iopub.status.busy": "2022-03-22T01:29:17.613425Z",
     "iopub.status.idle": "2022-03-22T01:29:17.639042Z",
     "shell.execute_reply": "2022-03-22T01:29:17.638237Z"
    },
    "papermill": {
     "duration": 0.049744,
     "end_time": "2022-03-22T01:29:17.639198",
     "exception": false,
     "start_time": "2022-03-22T01:29:17.589454",
     "status": "completed"
    },
    "tags": []
   },
   "outputs": [],
   "source": [
    "start_time_secs = time.time()"
   ]
  },
  {
   "cell_type": "code",
   "execution_count": 10,
   "id": "c6b67dfd",
   "metadata": {
    "execution": {
     "iopub.execute_input": "2022-03-22T01:29:17.693032Z",
     "iopub.status.busy": "2022-03-22T01:29:17.692072Z",
     "iopub.status.idle": "2022-03-22T01:29:17.716363Z",
     "shell.execute_reply": "2022-03-22T01:29:17.715666Z"
    },
    "papermill": {
     "duration": 0.048296,
     "end_time": "2022-03-22T01:29:17.716517",
     "exception": false,
     "start_time": "2022-03-22T01:29:17.668221",
     "status": "completed"
    },
    "tags": []
   },
   "outputs": [],
   "source": [
    "p.domains_source = []\n",
    "p.domains_target = []\n",
    "\n",
    "\n",
    "train_original_source = []\n",
    "val_original_source   = []\n",
    "test_original_source  = []\n",
    "\n",
    "train_original_target = []\n",
    "val_original_target   = []\n",
    "test_original_target  = []"
   ]
  },
  {
   "cell_type": "code",
   "execution_count": 11,
   "id": "e3d9c3d3",
   "metadata": {
    "execution": {
     "iopub.execute_input": "2022-03-22T01:29:17.768155Z",
     "iopub.status.busy": "2022-03-22T01:29:17.767793Z",
     "iopub.status.idle": "2022-03-22T01:29:17.789778Z",
     "shell.execute_reply": "2022-03-22T01:29:17.788974Z"
    },
    "papermill": {
     "duration": 0.044953,
     "end_time": "2022-03-22T01:29:17.789933",
     "exception": false,
     "start_time": "2022-03-22T01:29:17.744980",
     "status": "completed"
    },
    "tags": []
   },
   "outputs": [],
   "source": [
    "# global_x_transform_func = lambda x: normalize(x.to(torch.get_default_dtype()), \"unit_power\") # unit_power, unit_mag\n",
    "# global_x_transform_func = lambda x: normalize(x, \"unit_power\") # unit_power, unit_mag"
   ]
  },
  {
   "cell_type": "code",
   "execution_count": 12,
   "id": "acb78fd2",
   "metadata": {
    "execution": {
     "iopub.execute_input": "2022-03-22T01:29:17.843409Z",
     "iopub.status.busy": "2022-03-22T01:29:17.842833Z",
     "iopub.status.idle": "2022-03-22T01:29:17.866345Z",
     "shell.execute_reply": "2022-03-22T01:29:17.865648Z"
    },
    "papermill": {
     "duration": 0.050842,
     "end_time": "2022-03-22T01:29:17.866497",
     "exception": false,
     "start_time": "2022-03-22T01:29:17.815655",
     "status": "completed"
    },
    "tags": []
   },
   "outputs": [],
   "source": [
    "def add_dataset(\n",
    "    labels,\n",
    "    domains,\n",
    "    pickle_path,\n",
    "    x_transforms,\n",
    "    episode_transforms,\n",
    "    domain_prefix,\n",
    "    num_examples_per_domain_per_label,\n",
    "    source_or_target_dataset:str,\n",
    "    iterator_seed=p.seed,\n",
    "    dataset_seed=p.dataset_seed,\n",
    "    n_shot=p.n_shot,\n",
    "    n_way=p.n_way,\n",
    "    n_query=p.n_query,\n",
    "    train_val_test_k_factors=(p.train_k_factor,p.val_k_factor,p.test_k_factor),\n",
    "):\n",
    "   \n",
    "    if x_transforms == []: x_transform = None\n",
    "    else: x_transform = get_chained_transform(x_transforms)\n",
    "    \n",
    "    if episode_transforms == []: episode_transform = None\n",
    "    else: raise Exception(\"episode_transforms not implemented\")\n",
    "    \n",
    "    episode_transform = lambda tup, _prefix=domain_prefix: (_prefix + str(tup[0]), tup[1])\n",
    "\n",
    "\n",
    "    eaf = Episodic_Accessor_Factory(\n",
    "        labels=labels,\n",
    "        domains=domains,\n",
    "        num_examples_per_domain_per_label=num_examples_per_domain_per_label,\n",
    "        iterator_seed=iterator_seed,\n",
    "        dataset_seed=dataset_seed,\n",
    "        n_shot=n_shot,\n",
    "        n_way=n_way,\n",
    "        n_query=n_query,\n",
    "        train_val_test_k_factors=train_val_test_k_factors,\n",
    "        pickle_path=pickle_path,\n",
    "        x_transform_func=x_transform,\n",
    "    )\n",
    "\n",
    "    train, val, test = eaf.get_train(), eaf.get_val(), eaf.get_test()\n",
    "    train = Lazy_Iterable_Wrapper(train, episode_transform)\n",
    "    val = Lazy_Iterable_Wrapper(val, episode_transform)\n",
    "    test = Lazy_Iterable_Wrapper(test, episode_transform)\n",
    "\n",
    "    if source_or_target_dataset==\"source\":\n",
    "        train_original_source.append(train)\n",
    "        val_original_source.append(val)\n",
    "        test_original_source.append(test)\n",
    "\n",
    "        p.domains_source.extend(\n",
    "            [domain_prefix + str(u) for u in domains]\n",
    "        )\n",
    "    elif source_or_target_dataset==\"target\":\n",
    "        train_original_target.append(train)\n",
    "        val_original_target.append(val)\n",
    "        test_original_target.append(test)\n",
    "        p.domains_target.extend(\n",
    "            [domain_prefix + str(u) for u in domains]\n",
    "        )\n",
    "    else:\n",
    "        raise Exception(f\"invalid source_or_target_dataset: {source_or_target_dataset}\")\n",
    "    "
   ]
  },
  {
   "cell_type": "code",
   "execution_count": 13,
   "id": "fe266617",
   "metadata": {
    "execution": {
     "iopub.execute_input": "2022-03-22T01:29:17.916920Z",
     "iopub.status.busy": "2022-03-22T01:29:17.916326Z",
     "iopub.status.idle": "2022-03-22T01:30:03.441524Z",
     "shell.execute_reply": "2022-03-22T01:30:03.440767Z"
    },
    "papermill": {
     "duration": 45.549206,
     "end_time": "2022-03-22T01:30:03.441703",
     "exception": false,
     "start_time": "2022-03-22T01:29:17.892497",
     "status": "completed"
    },
    "tags": []
   },
   "outputs": [],
   "source": [
    "for ds in p.datasets:\n",
    "    add_dataset(**ds)"
   ]
  },
  {
   "cell_type": "code",
   "execution_count": 14,
   "id": "b90d65ac",
   "metadata": {
    "execution": {
     "iopub.execute_input": "2022-03-22T01:30:03.491088Z",
     "iopub.status.busy": "2022-03-22T01:30:03.490714Z",
     "iopub.status.idle": "2022-03-22T01:30:03.515855Z",
     "shell.execute_reply": "2022-03-22T01:30:03.515044Z"
    },
    "papermill": {
     "duration": 0.049607,
     "end_time": "2022-03-22T01:30:03.516012",
     "exception": false,
     "start_time": "2022-03-22T01:30:03.466405",
     "status": "completed"
    },
    "tags": []
   },
   "outputs": [],
   "source": [
    "# from steves_utils.CORES.utils import (\n",
    "#     ALL_NODES,\n",
    "#     ALL_NODES_MINIMUM_1000_EXAMPLES,\n",
    "#     ALL_DAYS\n",
    "# )\n",
    "\n",
    "# add_dataset(\n",
    "#     labels=ALL_NODES,\n",
    "#     domains = ALL_DAYS,\n",
    "#     num_examples_per_domain_per_label=100,\n",
    "#     pickle_path=os.path.join(get_datasets_base_path(), \"cores.stratified_ds.2022A.pkl\"),\n",
    "#     source_or_target_dataset=\"target\",\n",
    "#     x_transform_func=global_x_transform_func,\n",
    "#     domain_modifier=lambda u: f\"cores_{u}\"\n",
    "# )"
   ]
  },
  {
   "cell_type": "code",
   "execution_count": 15,
   "id": "76db484d",
   "metadata": {
    "execution": {
     "iopub.execute_input": "2022-03-22T01:30:03.569940Z",
     "iopub.status.busy": "2022-03-22T01:30:03.569381Z",
     "iopub.status.idle": "2022-03-22T01:30:03.592236Z",
     "shell.execute_reply": "2022-03-22T01:30:03.591423Z"
    },
    "papermill": {
     "duration": 0.047148,
     "end_time": "2022-03-22T01:30:03.592389",
     "exception": false,
     "start_time": "2022-03-22T01:30:03.545241",
     "status": "completed"
    },
    "tags": []
   },
   "outputs": [],
   "source": [
    "# from steves_utils.ORACLE.utils_v2 import (\n",
    "#     ALL_DISTANCES_FEET,\n",
    "#     ALL_RUNS,\n",
    "#     ALL_SERIAL_NUMBERS,\n",
    "# )\n",
    "\n",
    "\n",
    "# add_dataset(\n",
    "#     labels=ALL_SERIAL_NUMBERS,\n",
    "#     domains = list(set(ALL_DISTANCES_FEET) - {2,62}),\n",
    "#     num_examples_per_domain_per_label=100,\n",
    "#     pickle_path=os.path.join(get_datasets_base_path(), \"oracle.Run2_framed_2000Examples_stratified_ds.2022A.pkl\"),\n",
    "#     source_or_target_dataset=\"source\",\n",
    "#     x_transform_func=global_x_transform_func,\n",
    "#     domain_modifier=lambda u: f\"oracle1_{u}\"\n",
    "# )\n"
   ]
  },
  {
   "cell_type": "code",
   "execution_count": 16,
   "id": "97dea9d2",
   "metadata": {
    "execution": {
     "iopub.execute_input": "2022-03-22T01:30:03.645957Z",
     "iopub.status.busy": "2022-03-22T01:30:03.645591Z",
     "iopub.status.idle": "2022-03-22T01:30:03.668312Z",
     "shell.execute_reply": "2022-03-22T01:30:03.667509Z"
    },
    "papermill": {
     "duration": 0.046843,
     "end_time": "2022-03-22T01:30:03.668465",
     "exception": false,
     "start_time": "2022-03-22T01:30:03.621622",
     "status": "completed"
    },
    "tags": []
   },
   "outputs": [],
   "source": [
    "# from steves_utils.ORACLE.utils_v2 import (\n",
    "#     ALL_DISTANCES_FEET,\n",
    "#     ALL_RUNS,\n",
    "#     ALL_SERIAL_NUMBERS,\n",
    "# )\n",
    "\n",
    "\n",
    "# add_dataset(\n",
    "#     labels=ALL_SERIAL_NUMBERS,\n",
    "#     domains = list(set(ALL_DISTANCES_FEET) - {2,62,56}),\n",
    "#     num_examples_per_domain_per_label=100,\n",
    "#     pickle_path=os.path.join(get_datasets_base_path(), \"oracle.Run2_framed_2000Examples_stratified_ds.2022A.pkl\"),\n",
    "#     source_or_target_dataset=\"source\",\n",
    "#     x_transform_func=global_x_transform_func,\n",
    "#     domain_modifier=lambda u: f\"oracle2_{u}\"\n",
    "# )"
   ]
  },
  {
   "cell_type": "code",
   "execution_count": 17,
   "id": "6f289866",
   "metadata": {
    "execution": {
     "iopub.execute_input": "2022-03-22T01:30:03.722815Z",
     "iopub.status.busy": "2022-03-22T01:30:03.722170Z",
     "iopub.status.idle": "2022-03-22T01:30:03.741385Z",
     "shell.execute_reply": "2022-03-22T01:30:03.740503Z"
    },
    "papermill": {
     "duration": 0.043212,
     "end_time": "2022-03-22T01:30:03.741576",
     "exception": false,
     "start_time": "2022-03-22T01:30:03.698364",
     "status": "completed"
    },
    "tags": []
   },
   "outputs": [],
   "source": [
    "# add_dataset(\n",
    "#     labels=list(range(19)),\n",
    "#     domains = [0,1,2],\n",
    "#     num_examples_per_domain_per_label=100,\n",
    "#     pickle_path=os.path.join(get_datasets_base_path(), \"metehan.stratified_ds.2022A.pkl\"),\n",
    "#     source_or_target_dataset=\"target\",\n",
    "#     x_transform_func=global_x_transform_func,\n",
    "#     domain_modifier=lambda u: f\"met_{u}\"\n",
    "# )"
   ]
  },
  {
   "cell_type": "code",
   "execution_count": 18,
   "id": "86a863c3",
   "metadata": {
    "execution": {
     "iopub.execute_input": "2022-03-22T01:30:03.790721Z",
     "iopub.status.busy": "2022-03-22T01:30:03.790357Z",
     "iopub.status.idle": "2022-03-22T01:30:03.811940Z",
     "shell.execute_reply": "2022-03-22T01:30:03.811217Z"
    },
    "papermill": {
     "duration": 0.044944,
     "end_time": "2022-03-22T01:30:03.812101",
     "exception": false,
     "start_time": "2022-03-22T01:30:03.767157",
     "status": "completed"
    },
    "tags": []
   },
   "outputs": [],
   "source": [
    "# # from steves_utils.wisig.utils import (\n",
    "# #     ALL_NODES_MINIMUM_100_EXAMPLES,\n",
    "# #     ALL_NODES_MINIMUM_500_EXAMPLES,\n",
    "# #     ALL_NODES_MINIMUM_1000_EXAMPLES,\n",
    "# #     ALL_DAYS\n",
    "# # )\n",
    "\n",
    "# import steves_utils.wisig.utils as wisig\n",
    "\n",
    "\n",
    "# add_dataset(\n",
    "#     labels=wisig.ALL_NODES_MINIMUM_100_EXAMPLES,\n",
    "#     domains = wisig.ALL_DAYS,\n",
    "#     num_examples_per_domain_per_label=100,\n",
    "#     pickle_path=os.path.join(get_datasets_base_path(), \"wisig.node3-19.stratified_ds.2022A.pkl\"),\n",
    "#     source_or_target_dataset=\"target\",\n",
    "#     x_transform_func=global_x_transform_func,\n",
    "#     domain_modifier=lambda u: f\"wisig_{u}\"\n",
    "# )"
   ]
  },
  {
   "cell_type": "code",
   "execution_count": 19,
   "id": "fd5442bc",
   "metadata": {
    "execution": {
     "iopub.execute_input": "2022-03-22T01:30:03.868625Z",
     "iopub.status.busy": "2022-03-22T01:30:03.867889Z",
     "iopub.status.idle": "2022-03-22T01:30:03.890664Z",
     "shell.execute_reply": "2022-03-22T01:30:03.889877Z"
    },
    "papermill": {
     "duration": 0.051632,
     "end_time": "2022-03-22T01:30:03.890821",
     "exception": false,
     "start_time": "2022-03-22T01:30:03.839189",
     "status": "completed"
    },
    "tags": []
   },
   "outputs": [],
   "source": [
    "###################################\n",
    "# Build the dataset\n",
    "###################################\n",
    "train_original_source = Iterable_Aggregator(train_original_source, p.seed)\n",
    "val_original_source = Iterable_Aggregator(val_original_source, p.seed)\n",
    "test_original_source = Iterable_Aggregator(test_original_source, p.seed)\n",
    "\n",
    "\n",
    "train_original_target = Iterable_Aggregator(train_original_target, p.seed)\n",
    "val_original_target = Iterable_Aggregator(val_original_target, p.seed)\n",
    "test_original_target = Iterable_Aggregator(test_original_target, p.seed)\n",
    "\n",
    "# For CNN We only use X and Y. And we only train on the source.\n",
    "# Properly form the data using a transform lambda and Lazy_Iterable_Wrapper. Finally wrap them in a dataloader\n",
    "\n",
    "transform_lambda = lambda ex: ex[1] # Original is (<domain>, <episode>) so we strip down to episode only\n",
    "\n",
    "train_processed_source = Lazy_Iterable_Wrapper(train_original_source, transform_lambda)\n",
    "val_processed_source   = Lazy_Iterable_Wrapper(val_original_source, transform_lambda)\n",
    "test_processed_source  = Lazy_Iterable_Wrapper(test_original_source, transform_lambda)\n",
    "\n",
    "train_processed_target = Lazy_Iterable_Wrapper(train_original_target, transform_lambda)\n",
    "val_processed_target   = Lazy_Iterable_Wrapper(val_original_target, transform_lambda)\n",
    "test_processed_target  = Lazy_Iterable_Wrapper(test_original_target, transform_lambda)\n",
    "\n",
    "datasets = EasyDict({\n",
    "    \"source\": {\n",
    "        \"original\": {\"train\":train_original_source, \"val\":val_original_source, \"test\":test_original_source},\n",
    "        \"processed\": {\"train\":train_processed_source, \"val\":val_processed_source, \"test\":test_processed_source}\n",
    "    },\n",
    "    \"target\": {\n",
    "        \"original\": {\"train\":train_original_target, \"val\":val_original_target, \"test\":test_original_target},\n",
    "        \"processed\": {\"train\":train_processed_target, \"val\":val_processed_target, \"test\":test_processed_target}\n",
    "    },\n",
    "})"
   ]
  },
  {
   "cell_type": "code",
   "execution_count": 20,
   "id": "5b3c01fc",
   "metadata": {
    "execution": {
     "iopub.execute_input": "2022-03-22T01:30:03.945137Z",
     "iopub.status.busy": "2022-03-22T01:30:03.944773Z",
     "iopub.status.idle": "2022-03-22T01:30:19.486497Z",
     "shell.execute_reply": "2022-03-22T01:30:19.487185Z"
    },
    "papermill": {
     "duration": 15.56812,
     "end_time": "2022-03-22T01:30:19.487437",
     "exception": false,
     "start_time": "2022-03-22T01:30:03.919317",
     "status": "completed"
    },
    "tags": []
   },
   "outputs": [
    {
     "name": "stdout",
     "output_type": "stream",
     "text": [
      "{'ORACLE.run2_32', 'ORACLE.run2_20', 'ORACLE.run2_38', 'ORACLE.run2_50', 'ORACLE.run2_8', 'ORACLE.run2_14', 'ORACLE.run2_26', 'ORACLE.run2_44'}\n"
     ]
    },
    {
     "name": "stdout",
     "output_type": "stream",
     "text": [
      "{'ORACLE.run1_44', 'ORACLE.run1_14', 'ORACLE.run1_20', 'ORACLE.run1_32', 'ORACLE.run1_8', 'ORACLE.run1_50', 'ORACLE.run1_38', 'ORACLE.run1_26'}\n"
     ]
    },
    {
     "name": "stdout",
     "output_type": "stream",
     "text": [
      "tensor([[[ 0.8844,  0.4295, -1.0949,  ..., -0.2611,  1.1960, -0.5222],\n",
      "         [-0.0505,  0.7243, -0.0674,  ..., -0.9181, -0.9012, -1.0276]],\n",
      "\n",
      "        [[-0.3908,  0.5437,  0.5437,  ..., -0.9006, -1.2659, -0.5437],\n",
      "         [-0.8496, -0.7136,  1.0280,  ...,  0.5097, -0.4503,  1.2319]],\n",
      "\n",
      "        [[-0.4844, -0.7016,  0.2756,  ...,  1.0106,  0.9271,  1.0607],\n",
      "         [ 1.0858, -0.0668, -1.2445,  ...,  0.3508,  0.8352, -0.8686]],\n",
      "\n",
      "        ...,\n",
      "\n",
      "        [[-1.2732, -0.0881,  1.2331,  ...,  0.0000, -0.1361,  1.2492],\n",
      "         [ 0.1361, -0.7127, -0.2723,  ...,  0.9929,  1.0089,  0.0961]],\n",
      "\n",
      "        [[ 0.5569, -0.2387, -0.5967,  ...,  0.0239,  1.2889,  0.9388],\n",
      "         [ 0.1432,  1.0900, -0.5012,  ..., -1.0741,  0.4058, -0.2387]],\n",
      "\n",
      "        [[-0.6301, -0.9890,  0.9411,  ...,  0.9013, -0.6301,  0.7098],\n",
      "         [ 0.3031, -0.4387, -0.5902,  ...,  0.4387,  1.1964,  0.7418]]])\n"
     ]
    }
   ],
   "source": [
    "from steves_utils.transforms import get_average_magnitude, get_average_power\n",
    "\n",
    "print(set([u for u,_ in val_original_source]))\n",
    "print(set([u for u,_ in val_original_target]))\n",
    "\n",
    "s_x, s_y, q_x, q_y, _ = next(iter(train_processed_source))\n",
    "print(s_x)\n",
    "\n",
    "# for ds in [\n",
    "#     train_processed_source,\n",
    "#     val_processed_source,\n",
    "#     test_processed_source,\n",
    "#     train_processed_target,\n",
    "#     val_processed_target,\n",
    "#     test_processed_target\n",
    "# ]:\n",
    "#     for s_x, s_y, q_x, q_y, _ in ds:\n",
    "#         for X in (s_x, q_x):\n",
    "#             for x in X:\n",
    "#                 assert np.isclose(get_average_magnitude(x.numpy()), 1.0)\n",
    "#                 assert np.isclose(get_average_power(x.numpy()), 1.0)\n",
    "                "
   ]
  },
  {
   "cell_type": "code",
   "execution_count": 21,
   "id": "bbdacba1",
   "metadata": {
    "execution": {
     "iopub.execute_input": "2022-03-22T01:30:19.541956Z",
     "iopub.status.busy": "2022-03-22T01:30:19.541402Z",
     "iopub.status.idle": "2022-03-22T01:30:19.735298Z",
     "shell.execute_reply": "2022-03-22T01:30:19.734566Z"
    },
    "papermill": {
     "duration": 0.221258,
     "end_time": "2022-03-22T01:30:19.735479",
     "exception": false,
     "start_time": "2022-03-22T01:30:19.514221",
     "status": "completed"
    },
    "tags": []
   },
   "outputs": [
    {
     "name": "stdout",
     "output_type": "stream",
     "text": [
      "(2, 256)\n"
     ]
    }
   ],
   "source": [
    "###################################\n",
    "# Build the model\n",
    "###################################\n",
    "# easfsl only wants a tuple for the shape\n",
    "model = Steves_Prototypical_Network(x_net, device=p.device, x_shape=tuple(p.x_shape))\n",
    "optimizer = Adam(params=model.parameters(), lr=p.lr)"
   ]
  },
  {
   "cell_type": "code",
   "execution_count": 22,
   "id": "22b39ac5",
   "metadata": {
    "execution": {
     "iopub.execute_input": "2022-03-22T01:30:19.791288Z",
     "iopub.status.busy": "2022-03-22T01:30:19.790912Z",
     "iopub.status.idle": "2022-03-22T02:47:12.875881Z",
     "shell.execute_reply": "2022-03-22T02:47:12.875244Z"
    },
    "papermill": {
     "duration": 4613.114512,
     "end_time": "2022-03-22T02:47:12.877865",
     "exception": false,
     "start_time": "2022-03-22T01:30:19.763353",
     "status": "completed"
    },
    "tags": []
   },
   "outputs": [
    {
     "name": "stdout",
     "output_type": "stream",
     "text": [
      "epoch: 1, [batch: 1 / 6720], examples_per_second: 32.2219, train_label_loss: 2.7886, \n"
     ]
    },
    {
     "name": "stdout",
     "output_type": "stream",
     "text": [
      "epoch: 1, [batch: 672 / 6720], examples_per_second: 3772.9264, train_label_loss: 1.9346, \n"
     ]
    },
    {
     "name": "stdout",
     "output_type": "stream",
     "text": [
      "epoch: 1, [batch: 1344 / 6720], examples_per_second: 3402.2555, train_label_loss: 1.3320, \n"
     ]
    },
    {
     "name": "stdout",
     "output_type": "stream",
     "text": [
      "epoch: 1, [batch: 2016 / 6720], examples_per_second: 2924.4522, train_label_loss: 0.4032, \n"
     ]
    },
    {
     "name": "stdout",
     "output_type": "stream",
     "text": [
      "epoch: 1, [batch: 2688 / 6720], examples_per_second: 2291.4372, train_label_loss: 0.5702, \n"
     ]
    },
    {
     "name": "stdout",
     "output_type": "stream",
     "text": [
      "epoch: 1, [batch: 3360 / 6720], examples_per_second: 2294.9907, train_label_loss: 0.6114, \n"
     ]
    },
    {
     "name": "stdout",
     "output_type": "stream",
     "text": [
      "epoch: 1, [batch: 4032 / 6720], examples_per_second: 2282.6754, train_label_loss: 0.4552, \n"
     ]
    },
    {
     "name": "stdout",
     "output_type": "stream",
     "text": [
      "epoch: 1, [batch: 4704 / 6720], examples_per_second: 2309.6470, train_label_loss: 1.1465, \n"
     ]
    },
    {
     "name": "stdout",
     "output_type": "stream",
     "text": [
      "epoch: 1, [batch: 5376 / 6720], examples_per_second: 2307.0048, train_label_loss: 0.9232, \n"
     ]
    },
    {
     "name": "stdout",
     "output_type": "stream",
     "text": [
      "epoch: 1, [batch: 6048 / 6720], examples_per_second: 2322.7378, train_label_loss: 0.2929, \n"
     ]
    },
    {
     "name": "stdout",
     "output_type": "stream",
     "text": [
      "=============================================================\n",
      "epoch: 1, source_val_acc_label: 0.7769, target_val_acc_label: 0.7883, source_val_label_loss: 7.9819, target_val_label_loss: 5.6050, \n",
      "=============================================================\n"
     ]
    },
    {
     "name": "stdout",
     "output_type": "stream",
     "text": [
      "New best\n"
     ]
    },
    {
     "name": "stdout",
     "output_type": "stream",
     "text": [
      "epoch: 2, [batch: 1 / 6720], examples_per_second: 1.9960, train_label_loss: 0.9081, \n"
     ]
    },
    {
     "name": "stdout",
     "output_type": "stream",
     "text": [
      "epoch: 2, [batch: 672 / 6720], examples_per_second: 2569.8762, train_label_loss: 0.9080, \n"
     ]
    },
    {
     "name": "stdout",
     "output_type": "stream",
     "text": [
      "epoch: 2, [batch: 1344 / 6720], examples_per_second: 2611.7610, train_label_loss: 0.8458, \n"
     ]
    },
    {
     "name": "stdout",
     "output_type": "stream",
     "text": [
      "epoch: 2, [batch: 2016 / 6720], examples_per_second: 2400.4981, train_label_loss: 0.2799, \n"
     ]
    },
    {
     "name": "stdout",
     "output_type": "stream",
     "text": [
      "epoch: 2, [batch: 2688 / 6720], examples_per_second: 2304.1942, train_label_loss: 0.6519, \n"
     ]
    },
    {
     "name": "stdout",
     "output_type": "stream",
     "text": [
      "epoch: 2, [batch: 3360 / 6720], examples_per_second: 2289.0818, train_label_loss: 0.4829, \n"
     ]
    },
    {
     "name": "stdout",
     "output_type": "stream",
     "text": [
      "epoch: 2, [batch: 4032 / 6720], examples_per_second: 2335.9598, train_label_loss: 0.4082, \n"
     ]
    },
    {
     "name": "stdout",
     "output_type": "stream",
     "text": [
      "epoch: 2, [batch: 4704 / 6720], examples_per_second: 2291.9704, train_label_loss: 0.7298, \n"
     ]
    },
    {
     "name": "stdout",
     "output_type": "stream",
     "text": [
      "epoch: 2, [batch: 5376 / 6720], examples_per_second: 2319.4807, train_label_loss: 0.2357, \n"
     ]
    },
    {
     "name": "stdout",
     "output_type": "stream",
     "text": [
      "epoch: 2, [batch: 6048 / 6720], examples_per_second: 2325.3629, train_label_loss: 0.4905, \n"
     ]
    },
    {
     "name": "stdout",
     "output_type": "stream",
     "text": [
      "=============================================================\n",
      "epoch: 2, source_val_acc_label: 0.8257, target_val_acc_label: 0.8279, source_val_label_loss: 0.5059, target_val_label_loss: 0.4804, \n",
      "=============================================================\n"
     ]
    },
    {
     "name": "stdout",
     "output_type": "stream",
     "text": [
      "New best\n"
     ]
    },
    {
     "name": "stdout",
     "output_type": "stream",
     "text": [
      "epoch: 3, [batch: 1 / 6720], examples_per_second: 2.2603, train_label_loss: 0.1807, \n"
     ]
    },
    {
     "name": "stdout",
     "output_type": "stream",
     "text": [
      "epoch: 3, [batch: 672 / 6720], examples_per_second: 2894.9430, train_label_loss: 0.4909, \n"
     ]
    },
    {
     "name": "stdout",
     "output_type": "stream",
     "text": [
      "epoch: 3, [batch: 1344 / 6720], examples_per_second: 2856.9456, train_label_loss: 0.3991, \n"
     ]
    },
    {
     "name": "stdout",
     "output_type": "stream",
     "text": [
      "epoch: 3, [batch: 2016 / 6720], examples_per_second: 2614.5391, train_label_loss: 0.3787, \n"
     ]
    },
    {
     "name": "stdout",
     "output_type": "stream",
     "text": [
      "epoch: 3, [batch: 2688 / 6720], examples_per_second: 2641.7362, train_label_loss: 0.6234, \n"
     ]
    },
    {
     "name": "stdout",
     "output_type": "stream",
     "text": [
      "epoch: 3, [batch: 3360 / 6720], examples_per_second: 2841.7363, train_label_loss: 0.3102, \n"
     ]
    },
    {
     "name": "stdout",
     "output_type": "stream",
     "text": [
      "epoch: 3, [batch: 4032 / 6720], examples_per_second: 2837.7636, train_label_loss: 0.4232, \n"
     ]
    },
    {
     "name": "stdout",
     "output_type": "stream",
     "text": [
      "epoch: 3, [batch: 4704 / 6720], examples_per_second: 2325.3597, train_label_loss: 0.5269, \n"
     ]
    },
    {
     "name": "stdout",
     "output_type": "stream",
     "text": [
      "epoch: 3, [batch: 5376 / 6720], examples_per_second: 2315.5268, train_label_loss: 0.3101, \n"
     ]
    },
    {
     "name": "stdout",
     "output_type": "stream",
     "text": [
      "epoch: 3, [batch: 6048 / 6720], examples_per_second: 2300.5307, train_label_loss: 0.3688, \n"
     ]
    },
    {
     "name": "stdout",
     "output_type": "stream",
     "text": [
      "=============================================================\n",
      "epoch: 3, source_val_acc_label: 0.8399, target_val_acc_label: 0.8353, source_val_label_loss: 0.4562, target_val_label_loss: 0.4456, \n",
      "=============================================================\n"
     ]
    },
    {
     "name": "stdout",
     "output_type": "stream",
     "text": [
      "New best\n"
     ]
    },
    {
     "name": "stdout",
     "output_type": "stream",
     "text": [
      "epoch: 4, [batch: 1 / 6720], examples_per_second: 2.1331, train_label_loss: 0.5396, \n"
     ]
    },
    {
     "name": "stdout",
     "output_type": "stream",
     "text": [
      "epoch: 4, [batch: 672 / 6720], examples_per_second: 2541.2876, train_label_loss: 0.2887, \n"
     ]
    },
    {
     "name": "stdout",
     "output_type": "stream",
     "text": [
      "epoch: 4, [batch: 1344 / 6720], examples_per_second: 2313.8604, train_label_loss: 0.2572, \n"
     ]
    },
    {
     "name": "stdout",
     "output_type": "stream",
     "text": [
      "epoch: 4, [batch: 2016 / 6720], examples_per_second: 2308.1085, train_label_loss: 0.1205, \n"
     ]
    },
    {
     "name": "stdout",
     "output_type": "stream",
     "text": [
      "epoch: 4, [batch: 2688 / 6720], examples_per_second: 2276.3164, train_label_loss: 0.2033, \n"
     ]
    },
    {
     "name": "stdout",
     "output_type": "stream",
     "text": [
      "epoch: 4, [batch: 3360 / 6720], examples_per_second: 2281.2167, train_label_loss: 0.3297, \n"
     ]
    },
    {
     "name": "stdout",
     "output_type": "stream",
     "text": [
      "epoch: 4, [batch: 4032 / 6720], examples_per_second: 2302.2975, train_label_loss: 0.4791, \n"
     ]
    },
    {
     "name": "stdout",
     "output_type": "stream",
     "text": [
      "epoch: 4, [batch: 4704 / 6720], examples_per_second: 2303.6046, train_label_loss: 0.6598, \n"
     ]
    },
    {
     "name": "stdout",
     "output_type": "stream",
     "text": [
      "epoch: 4, [batch: 5376 / 6720], examples_per_second: 2294.2188, train_label_loss: 0.2722, \n"
     ]
    },
    {
     "name": "stdout",
     "output_type": "stream",
     "text": [
      "epoch: 4, [batch: 6048 / 6720], examples_per_second: 2308.6287, train_label_loss: 0.4848, \n"
     ]
    },
    {
     "name": "stdout",
     "output_type": "stream",
     "text": [
      "=============================================================\n",
      "epoch: 4, source_val_acc_label: 0.8651, target_val_acc_label: 0.8563, source_val_label_loss: 0.3765, target_val_label_loss: 0.3974, \n",
      "=============================================================\n"
     ]
    },
    {
     "name": "stdout",
     "output_type": "stream",
     "text": [
      "New best\n"
     ]
    },
    {
     "name": "stdout",
     "output_type": "stream",
     "text": [
      "epoch: 5, [batch: 1 / 6720], examples_per_second: 2.2439, train_label_loss: 0.4946, \n"
     ]
    },
    {
     "name": "stdout",
     "output_type": "stream",
     "text": [
      "epoch: 5, [batch: 672 / 6720], examples_per_second: 2446.9130, train_label_loss: 0.1344, \n"
     ]
    },
    {
     "name": "stdout",
     "output_type": "stream",
     "text": [
      "epoch: 5, [batch: 1344 / 6720], examples_per_second: 2589.5647, train_label_loss: 0.5746, \n"
     ]
    },
    {
     "name": "stdout",
     "output_type": "stream",
     "text": [
      "epoch: 5, [batch: 2016 / 6720], examples_per_second: 2566.1438, train_label_loss: 0.1323, \n"
     ]
    },
    {
     "name": "stdout",
     "output_type": "stream",
     "text": [
      "epoch: 5, [batch: 2688 / 6720], examples_per_second: 2554.8359, train_label_loss: 0.1229, \n"
     ]
    },
    {
     "name": "stdout",
     "output_type": "stream",
     "text": [
      "epoch: 5, [batch: 3360 / 6720], examples_per_second: 2597.7114, train_label_loss: 0.2823, \n"
     ]
    },
    {
     "name": "stdout",
     "output_type": "stream",
     "text": [
      "epoch: 5, [batch: 4032 / 6720], examples_per_second: 2586.7905, train_label_loss: 0.2362, \n"
     ]
    },
    {
     "name": "stdout",
     "output_type": "stream",
     "text": [
      "epoch: 5, [batch: 4704 / 6720], examples_per_second: 2653.2076, train_label_loss: 0.2822, \n"
     ]
    },
    {
     "name": "stdout",
     "output_type": "stream",
     "text": [
      "epoch: 5, [batch: 5376 / 6720], examples_per_second: 2653.7053, train_label_loss: 0.1323, \n"
     ]
    },
    {
     "name": "stdout",
     "output_type": "stream",
     "text": [
      "epoch: 5, [batch: 6048 / 6720], examples_per_second: 2986.4439, train_label_loss: 0.1680, \n"
     ]
    },
    {
     "name": "stdout",
     "output_type": "stream",
     "text": [
      "=============================================================\n",
      "epoch: 5, source_val_acc_label: 0.8815, target_val_acc_label: 0.8705, source_val_label_loss: 0.3442, target_val_label_loss: 0.3664, \n",
      "=============================================================\n"
     ]
    },
    {
     "name": "stdout",
     "output_type": "stream",
     "text": [
      "New best\n"
     ]
    },
    {
     "name": "stdout",
     "output_type": "stream",
     "text": [
      "epoch: 6, [batch: 1 / 6720], examples_per_second: 2.2999, train_label_loss: 0.2112, \n"
     ]
    },
    {
     "name": "stdout",
     "output_type": "stream",
     "text": [
      "epoch: 6, [batch: 672 / 6720], examples_per_second: 2307.5960, train_label_loss: 0.2975, \n"
     ]
    },
    {
     "name": "stdout",
     "output_type": "stream",
     "text": [
      "epoch: 6, [batch: 1344 / 6720], examples_per_second: 2325.6519, train_label_loss: 0.3122, \n"
     ]
    },
    {
     "name": "stdout",
     "output_type": "stream",
     "text": [
      "epoch: 6, [batch: 2016 / 6720], examples_per_second: 2305.8588, train_label_loss: 0.2600, \n"
     ]
    },
    {
     "name": "stdout",
     "output_type": "stream",
     "text": [
      "epoch: 6, [batch: 2688 / 6720], examples_per_second: 2292.9114, train_label_loss: 0.1067, \n"
     ]
    },
    {
     "name": "stdout",
     "output_type": "stream",
     "text": [
      "epoch: 6, [batch: 3360 / 6720], examples_per_second: 2299.0757, train_label_loss: 0.3373, \n"
     ]
    },
    {
     "name": "stdout",
     "output_type": "stream",
     "text": [
      "epoch: 6, [batch: 4032 / 6720], examples_per_second: 2311.9283, train_label_loss: 0.3912, \n"
     ]
    },
    {
     "name": "stdout",
     "output_type": "stream",
     "text": [
      "epoch: 6, [batch: 4704 / 6720], examples_per_second: 2290.9437, train_label_loss: 0.2599, \n"
     ]
    },
    {
     "name": "stdout",
     "output_type": "stream",
     "text": [
      "epoch: 6, [batch: 5376 / 6720], examples_per_second: 2304.9558, train_label_loss: 0.1658, \n"
     ]
    },
    {
     "name": "stdout",
     "output_type": "stream",
     "text": [
      "epoch: 6, [batch: 6048 / 6720], examples_per_second: 2399.1165, train_label_loss: 0.3149, \n"
     ]
    },
    {
     "name": "stdout",
     "output_type": "stream",
     "text": [
      "=============================================================\n",
      "epoch: 6, source_val_acc_label: 0.8744, target_val_acc_label: 0.8682, source_val_label_loss: 0.3509, target_val_label_loss: 0.3743, \n",
      "=============================================================\n"
     ]
    },
    {
     "name": "stdout",
     "output_type": "stream",
     "text": [
      "epoch: 7, [batch: 1 / 6720], examples_per_second: 2.2169, train_label_loss: 0.3188, \n"
     ]
    },
    {
     "name": "stdout",
     "output_type": "stream",
     "text": [
      "epoch: 7, [batch: 672 / 6720], examples_per_second: 2316.9473, train_label_loss: 0.1674, \n"
     ]
    },
    {
     "name": "stdout",
     "output_type": "stream",
     "text": [
      "epoch: 7, [batch: 1344 / 6720], examples_per_second: 2318.7583, train_label_loss: 0.2499, \n"
     ]
    },
    {
     "name": "stdout",
     "output_type": "stream",
     "text": [
      "epoch: 7, [batch: 2016 / 6720], examples_per_second: 2315.5813, train_label_loss: 0.4681, \n"
     ]
    },
    {
     "name": "stdout",
     "output_type": "stream",
     "text": [
      "epoch: 7, [batch: 2688 / 6720], examples_per_second: 2276.9124, train_label_loss: 0.2466, \n"
     ]
    },
    {
     "name": "stdout",
     "output_type": "stream",
     "text": [
      "epoch: 7, [batch: 3360 / 6720], examples_per_second: 2366.5673, train_label_loss: 0.4243, \n"
     ]
    },
    {
     "name": "stdout",
     "output_type": "stream",
     "text": [
      "epoch: 7, [batch: 4032 / 6720], examples_per_second: 2604.7444, train_label_loss: 0.2369, \n"
     ]
    },
    {
     "name": "stdout",
     "output_type": "stream",
     "text": [
      "epoch: 7, [batch: 4704 / 6720], examples_per_second: 2583.4128, train_label_loss: 0.2542, \n"
     ]
    },
    {
     "name": "stdout",
     "output_type": "stream",
     "text": [
      "epoch: 7, [batch: 5376 / 6720], examples_per_second: 2588.4351, train_label_loss: 0.3963, \n"
     ]
    },
    {
     "name": "stdout",
     "output_type": "stream",
     "text": [
      "epoch: 7, [batch: 6048 / 6720], examples_per_second: 2871.8716, train_label_loss: 0.3056, \n"
     ]
    },
    {
     "name": "stdout",
     "output_type": "stream",
     "text": [
      "=============================================================\n",
      "epoch: 7, source_val_acc_label: 0.8807, target_val_acc_label: 0.8683, source_val_label_loss: 0.3430, target_val_label_loss: 0.3696, \n",
      "=============================================================\n"
     ]
    },
    {
     "name": "stdout",
     "output_type": "stream",
     "text": [
      "epoch: 8, [batch: 1 / 6720], examples_per_second: 2.5838, train_label_loss: 0.3297, \n"
     ]
    },
    {
     "name": "stdout",
     "output_type": "stream",
     "text": [
      "epoch: 8, [batch: 672 / 6720], examples_per_second: 2825.3493, train_label_loss: 0.1323, \n"
     ]
    },
    {
     "name": "stdout",
     "output_type": "stream",
     "text": [
      "epoch: 8, [batch: 1344 / 6720], examples_per_second: 2322.4829, train_label_loss: 0.0847, \n"
     ]
    },
    {
     "name": "stdout",
     "output_type": "stream",
     "text": [
      "epoch: 8, [batch: 2016 / 6720], examples_per_second: 2295.7497, train_label_loss: 0.1511, \n"
     ]
    },
    {
     "name": "stdout",
     "output_type": "stream",
     "text": [
      "epoch: 8, [batch: 2688 / 6720], examples_per_second: 2291.8828, train_label_loss: 0.0983, \n"
     ]
    },
    {
     "name": "stdout",
     "output_type": "stream",
     "text": [
      "epoch: 8, [batch: 3360 / 6720], examples_per_second: 2322.1272, train_label_loss: 0.2179, \n"
     ]
    },
    {
     "name": "stdout",
     "output_type": "stream",
     "text": [
      "epoch: 8, [batch: 4032 / 6720], examples_per_second: 2349.1735, train_label_loss: 0.1169, \n"
     ]
    },
    {
     "name": "stdout",
     "output_type": "stream",
     "text": [
      "epoch: 8, [batch: 4704 / 6720], examples_per_second: 2332.3937, train_label_loss: 0.3674, \n"
     ]
    },
    {
     "name": "stdout",
     "output_type": "stream",
     "text": [
      "epoch: 8, [batch: 5376 / 6720], examples_per_second: 2542.1235, train_label_loss: 0.3633, \n"
     ]
    },
    {
     "name": "stdout",
     "output_type": "stream",
     "text": [
      "epoch: 8, [batch: 6048 / 6720], examples_per_second: 2622.3388, train_label_loss: 0.4582, \n"
     ]
    },
    {
     "name": "stdout",
     "output_type": "stream",
     "text": [
      "=============================================================\n",
      "epoch: 8, source_val_acc_label: 0.8909, target_val_acc_label: 0.8775, source_val_label_loss: 0.3044, target_val_label_loss: 0.3498, \n",
      "=============================================================\n"
     ]
    },
    {
     "name": "stdout",
     "output_type": "stream",
     "text": [
      "New best\n"
     ]
    },
    {
     "name": "stdout",
     "output_type": "stream",
     "text": [
      "epoch: 9, [batch: 1 / 6720], examples_per_second: 2.0856, train_label_loss: 0.1885, \n"
     ]
    },
    {
     "name": "stdout",
     "output_type": "stream",
     "text": [
      "epoch: 9, [batch: 672 / 6720], examples_per_second: 2315.1960, train_label_loss: 0.0253, \n"
     ]
    },
    {
     "name": "stdout",
     "output_type": "stream",
     "text": [
      "epoch: 9, [batch: 1344 / 6720], examples_per_second: 2292.7121, train_label_loss: 0.3767, \n"
     ]
    },
    {
     "name": "stdout",
     "output_type": "stream",
     "text": [
      "epoch: 9, [batch: 2016 / 6720], examples_per_second: 2293.2061, train_label_loss: 0.2480, \n"
     ]
    },
    {
     "name": "stdout",
     "output_type": "stream",
     "text": [
      "epoch: 9, [batch: 2688 / 6720], examples_per_second: 2304.1790, train_label_loss: 0.1267, \n"
     ]
    },
    {
     "name": "stdout",
     "output_type": "stream",
     "text": [
      "epoch: 9, [batch: 3360 / 6720], examples_per_second: 2337.1527, train_label_loss: 0.1665, \n"
     ]
    },
    {
     "name": "stdout",
     "output_type": "stream",
     "text": [
      "epoch: 9, [batch: 4032 / 6720], examples_per_second: 2291.1049, train_label_loss: 0.0867, \n"
     ]
    },
    {
     "name": "stdout",
     "output_type": "stream",
     "text": [
      "epoch: 9, [batch: 4704 / 6720], examples_per_second: 2414.6990, train_label_loss: 0.0742, \n"
     ]
    },
    {
     "name": "stdout",
     "output_type": "stream",
     "text": [
      "epoch: 9, [batch: 5376 / 6720], examples_per_second: 2575.7051, train_label_loss: 0.1031, \n"
     ]
    },
    {
     "name": "stdout",
     "output_type": "stream",
     "text": [
      "epoch: 9, [batch: 6048 / 6720], examples_per_second: 2840.1871, train_label_loss: 0.2391, \n"
     ]
    },
    {
     "name": "stdout",
     "output_type": "stream",
     "text": [
      "=============================================================\n",
      "epoch: 9, source_val_acc_label: 0.8933, target_val_acc_label: 0.8786, source_val_label_loss: 0.3030, target_val_label_loss: 0.3511, \n",
      "=============================================================\n"
     ]
    },
    {
     "name": "stdout",
     "output_type": "stream",
     "text": [
      "New best\n"
     ]
    },
    {
     "name": "stdout",
     "output_type": "stream",
     "text": [
      "epoch: 10, [batch: 1 / 6720], examples_per_second: 2.2812, train_label_loss: 0.2736, \n"
     ]
    },
    {
     "name": "stdout",
     "output_type": "stream",
     "text": [
      "epoch: 10, [batch: 672 / 6720], examples_per_second: 2532.2714, train_label_loss: 0.4027, \n"
     ]
    },
    {
     "name": "stdout",
     "output_type": "stream",
     "text": [
      "epoch: 10, [batch: 1344 / 6720], examples_per_second: 2626.8961, train_label_loss: 0.2266, \n"
     ]
    },
    {
     "name": "stdout",
     "output_type": "stream",
     "text": [
      "epoch: 10, [batch: 2016 / 6720], examples_per_second: 2693.4837, train_label_loss: 0.2335, \n"
     ]
    },
    {
     "name": "stdout",
     "output_type": "stream",
     "text": [
      "epoch: 10, [batch: 2688 / 6720], examples_per_second: 2982.2835, train_label_loss: 0.2313, \n"
     ]
    },
    {
     "name": "stdout",
     "output_type": "stream",
     "text": [
      "epoch: 10, [batch: 3360 / 6720], examples_per_second: 2378.8721, train_label_loss: 0.1810, \n"
     ]
    },
    {
     "name": "stdout",
     "output_type": "stream",
     "text": [
      "epoch: 10, [batch: 4032 / 6720], examples_per_second: 2394.9362, train_label_loss: 0.2940, \n"
     ]
    },
    {
     "name": "stdout",
     "output_type": "stream",
     "text": [
      "epoch: 10, [batch: 4704 / 6720], examples_per_second: 2586.0468, train_label_loss: 0.1721, \n"
     ]
    },
    {
     "name": "stdout",
     "output_type": "stream",
     "text": [
      "epoch: 10, [batch: 5376 / 6720], examples_per_second: 2577.5697, train_label_loss: 0.0832, \n"
     ]
    },
    {
     "name": "stdout",
     "output_type": "stream",
     "text": [
      "epoch: 10, [batch: 6048 / 6720], examples_per_second: 2521.0016, train_label_loss: 0.0575, \n"
     ]
    },
    {
     "name": "stdout",
     "output_type": "stream",
     "text": [
      "=============================================================\n",
      "epoch: 10, source_val_acc_label: 0.8867, target_val_acc_label: 0.8715, source_val_label_loss: 0.3118, target_val_label_loss: 0.3604, \n",
      "=============================================================\n"
     ]
    },
    {
     "name": "stdout",
     "output_type": "stream",
     "text": [
      "epoch: 11, [batch: 1 / 6720], examples_per_second: 2.0123, train_label_loss: 0.0663, \n"
     ]
    },
    {
     "name": "stdout",
     "output_type": "stream",
     "text": [
      "epoch: 11, [batch: 672 / 6720], examples_per_second: 2287.2060, train_label_loss: 0.1225, \n"
     ]
    },
    {
     "name": "stdout",
     "output_type": "stream",
     "text": [
      "epoch: 11, [batch: 1344 / 6720], examples_per_second: 2323.1677, train_label_loss: 0.3335, \n"
     ]
    },
    {
     "name": "stdout",
     "output_type": "stream",
     "text": [
      "epoch: 11, [batch: 2016 / 6720], examples_per_second: 2323.3827, train_label_loss: 0.1867, \n"
     ]
    },
    {
     "name": "stdout",
     "output_type": "stream",
     "text": [
      "epoch: 11, [batch: 2688 / 6720], examples_per_second: 2316.6191, train_label_loss: 0.5221, \n"
     ]
    },
    {
     "name": "stdout",
     "output_type": "stream",
     "text": [
      "epoch: 11, [batch: 3360 / 6720], examples_per_second: 2335.1388, train_label_loss: 0.1744, \n"
     ]
    },
    {
     "name": "stdout",
     "output_type": "stream",
     "text": [
      "epoch: 11, [batch: 4032 / 6720], examples_per_second: 2600.9645, train_label_loss: 0.5227, \n"
     ]
    },
    {
     "name": "stdout",
     "output_type": "stream",
     "text": [
      "epoch: 11, [batch: 4704 / 6720], examples_per_second: 2661.9015, train_label_loss: 0.1640, \n"
     ]
    },
    {
     "name": "stdout",
     "output_type": "stream",
     "text": [
      "epoch: 11, [batch: 5376 / 6720], examples_per_second: 2608.3726, train_label_loss: 0.1937, \n"
     ]
    },
    {
     "name": "stdout",
     "output_type": "stream",
     "text": [
      "epoch: 11, [batch: 6048 / 6720], examples_per_second: 2316.1468, train_label_loss: 0.0420, \n"
     ]
    },
    {
     "name": "stdout",
     "output_type": "stream",
     "text": [
      "=============================================================\n",
      "epoch: 11, source_val_acc_label: 0.8867, target_val_acc_label: 0.8738, source_val_label_loss: 0.3231, target_val_label_loss: 0.3620, \n",
      "=============================================================\n"
     ]
    },
    {
     "name": "stdout",
     "output_type": "stream",
     "text": [
      "epoch: 12, [batch: 1 / 6720], examples_per_second: 1.9889, train_label_loss: 0.4588, \n"
     ]
    },
    {
     "name": "stdout",
     "output_type": "stream",
     "text": [
      "epoch: 12, [batch: 672 / 6720], examples_per_second: 2518.3264, train_label_loss: 0.1066, \n"
     ]
    },
    {
     "name": "stdout",
     "output_type": "stream",
     "text": [
      "epoch: 12, [batch: 1344 / 6720], examples_per_second: 2613.8575, train_label_loss: 0.3682, \n"
     ]
    },
    {
     "name": "stdout",
     "output_type": "stream",
     "text": [
      "epoch: 12, [batch: 2016 / 6720], examples_per_second: 2567.9804, train_label_loss: 0.0542, \n"
     ]
    },
    {
     "name": "stdout",
     "output_type": "stream",
     "text": [
      "epoch: 12, [batch: 2688 / 6720], examples_per_second: 2521.2005, train_label_loss: 0.0619, \n"
     ]
    },
    {
     "name": "stdout",
     "output_type": "stream",
     "text": [
      "epoch: 12, [batch: 3360 / 6720], examples_per_second: 2828.3087, train_label_loss: 0.1852, \n"
     ]
    },
    {
     "name": "stdout",
     "output_type": "stream",
     "text": [
      "epoch: 12, [batch: 4032 / 6720], examples_per_second: 3110.7614, train_label_loss: 0.1341, \n"
     ]
    },
    {
     "name": "stdout",
     "output_type": "stream",
     "text": [
      "epoch: 12, [batch: 4704 / 6720], examples_per_second: 2994.3396, train_label_loss: 0.2507, \n"
     ]
    },
    {
     "name": "stdout",
     "output_type": "stream",
     "text": [
      "epoch: 12, [batch: 5376 / 6720], examples_per_second: 2581.6855, train_label_loss: 0.0906, \n"
     ]
    },
    {
     "name": "stdout",
     "output_type": "stream",
     "text": [
      "epoch: 12, [batch: 6048 / 6720], examples_per_second: 2566.0089, train_label_loss: 0.3211, \n"
     ]
    },
    {
     "name": "stdout",
     "output_type": "stream",
     "text": [
      "=============================================================\n",
      "epoch: 12, source_val_acc_label: 0.8950, target_val_acc_label: 0.8778, source_val_label_loss: 0.3024, target_val_label_loss: 0.3562, \n",
      "=============================================================\n"
     ]
    },
    {
     "name": "stdout",
     "output_type": "stream",
     "text": [
      "epoch: 13, [batch: 1 / 6720], examples_per_second: 2.2621, train_label_loss: 0.1836, \n"
     ]
    },
    {
     "name": "stdout",
     "output_type": "stream",
     "text": [
      "epoch: 13, [batch: 672 / 6720], examples_per_second: 2662.8839, train_label_loss: 0.2279, \n"
     ]
    },
    {
     "name": "stdout",
     "output_type": "stream",
     "text": [
      "epoch: 13, [batch: 1344 / 6720], examples_per_second: 2619.7597, train_label_loss: 0.0572, \n"
     ]
    },
    {
     "name": "stdout",
     "output_type": "stream",
     "text": [
      "epoch: 13, [batch: 2016 / 6720], examples_per_second: 2608.7968, train_label_loss: 0.0854, \n"
     ]
    },
    {
     "name": "stdout",
     "output_type": "stream",
     "text": [
      "epoch: 13, [batch: 2688 / 6720], examples_per_second: 2702.5075, train_label_loss: 0.1118, \n"
     ]
    },
    {
     "name": "stdout",
     "output_type": "stream",
     "text": [
      "epoch: 13, [batch: 3360 / 6720], examples_per_second: 2906.9506, train_label_loss: 0.1449, \n"
     ]
    },
    {
     "name": "stdout",
     "output_type": "stream",
     "text": [
      "epoch: 13, [batch: 4032 / 6720], examples_per_second: 2901.1865, train_label_loss: 0.2973, \n"
     ]
    },
    {
     "name": "stdout",
     "output_type": "stream",
     "text": [
      "epoch: 13, [batch: 4704 / 6720], examples_per_second: 2878.8089, train_label_loss: 0.2542, \n"
     ]
    },
    {
     "name": "stdout",
     "output_type": "stream",
     "text": [
      "epoch: 13, [batch: 5376 / 6720], examples_per_second: 3062.1548, train_label_loss: 0.2318, \n"
     ]
    },
    {
     "name": "stdout",
     "output_type": "stream",
     "text": [
      "epoch: 13, [batch: 6048 / 6720], examples_per_second: 3018.7076, train_label_loss: 0.1602, \n"
     ]
    },
    {
     "name": "stdout",
     "output_type": "stream",
     "text": [
      "=============================================================\n",
      "epoch: 13, source_val_acc_label: 0.8934, target_val_acc_label: 0.8787, source_val_label_loss: 0.3046, target_val_label_loss: 0.3574, \n",
      "=============================================================\n"
     ]
    },
    {
     "name": "stdout",
     "output_type": "stream",
     "text": [
      "New best\n"
     ]
    },
    {
     "name": "stdout",
     "output_type": "stream",
     "text": [
      "epoch: 14, [batch: 1 / 6720], examples_per_second: 2.5948, train_label_loss: 0.0223, \n"
     ]
    },
    {
     "name": "stdout",
     "output_type": "stream",
     "text": [
      "epoch: 14, [batch: 672 / 6720], examples_per_second: 2884.3332, train_label_loss: 0.1907, \n"
     ]
    },
    {
     "name": "stdout",
     "output_type": "stream",
     "text": [
      "epoch: 14, [batch: 1344 / 6720], examples_per_second: 2929.0174, train_label_loss: 0.1989, \n"
     ]
    },
    {
     "name": "stdout",
     "output_type": "stream",
     "text": [
      "epoch: 14, [batch: 2016 / 6720], examples_per_second: 3322.1800, train_label_loss: 0.1156, \n"
     ]
    },
    {
     "name": "stdout",
     "output_type": "stream",
     "text": [
      "epoch: 14, [batch: 2688 / 6720], examples_per_second: 3518.3252, train_label_loss: 0.3579, \n"
     ]
    },
    {
     "name": "stdout",
     "output_type": "stream",
     "text": [
      "epoch: 14, [batch: 3360 / 6720], examples_per_second: 3679.1519, train_label_loss: 0.0743, \n"
     ]
    },
    {
     "name": "stdout",
     "output_type": "stream",
     "text": [
      "epoch: 14, [batch: 4032 / 6720], examples_per_second: 3671.0371, train_label_loss: 0.0702, \n"
     ]
    },
    {
     "name": "stdout",
     "output_type": "stream",
     "text": [
      "epoch: 14, [batch: 4704 / 6720], examples_per_second: 3835.6938, train_label_loss: 0.2868, \n"
     ]
    },
    {
     "name": "stdout",
     "output_type": "stream",
     "text": [
      "epoch: 14, [batch: 5376 / 6720], examples_per_second: 3641.4157, train_label_loss: 0.3582, \n"
     ]
    },
    {
     "name": "stdout",
     "output_type": "stream",
     "text": [
      "epoch: 14, [batch: 6048 / 6720], examples_per_second: 4416.2872, train_label_loss: 0.1484, \n"
     ]
    },
    {
     "name": "stdout",
     "output_type": "stream",
     "text": [
      "=============================================================\n",
      "epoch: 14, source_val_acc_label: 0.9033, target_val_acc_label: 0.8864, source_val_label_loss: 0.2719, target_val_label_loss: 0.3355, \n",
      "=============================================================\n"
     ]
    },
    {
     "name": "stdout",
     "output_type": "stream",
     "text": [
      "New best\n"
     ]
    },
    {
     "name": "stdout",
     "output_type": "stream",
     "text": [
      "epoch: 15, [batch: 1 / 6720], examples_per_second: 5.2838, train_label_loss: 0.1283, \n"
     ]
    },
    {
     "name": "stdout",
     "output_type": "stream",
     "text": [
      "epoch: 15, [batch: 672 / 6720], examples_per_second: 3846.4001, train_label_loss: 0.2562, \n"
     ]
    },
    {
     "name": "stdout",
     "output_type": "stream",
     "text": [
      "epoch: 15, [batch: 1344 / 6720], examples_per_second: 3815.1482, train_label_loss: 0.0774, \n"
     ]
    },
    {
     "name": "stdout",
     "output_type": "stream",
     "text": [
      "epoch: 15, [batch: 2016 / 6720], examples_per_second: 3347.5770, train_label_loss: 0.0843, \n"
     ]
    },
    {
     "name": "stdout",
     "output_type": "stream",
     "text": [
      "epoch: 15, [batch: 2688 / 6720], examples_per_second: 2961.6535, train_label_loss: 0.3532, \n"
     ]
    },
    {
     "name": "stdout",
     "output_type": "stream",
     "text": [
      "epoch: 15, [batch: 3360 / 6720], examples_per_second: 2981.8736, train_label_loss: 0.3322, \n"
     ]
    },
    {
     "name": "stdout",
     "output_type": "stream",
     "text": [
      "epoch: 15, [batch: 4032 / 6720], examples_per_second: 2930.8503, train_label_loss: 0.1741, \n"
     ]
    },
    {
     "name": "stdout",
     "output_type": "stream",
     "text": [
      "epoch: 15, [batch: 4704 / 6720], examples_per_second: 2958.7068, train_label_loss: 0.1509, \n"
     ]
    },
    {
     "name": "stdout",
     "output_type": "stream",
     "text": [
      "epoch: 15, [batch: 5376 / 6720], examples_per_second: 2955.7541, train_label_loss: 0.1993, \n"
     ]
    },
    {
     "name": "stdout",
     "output_type": "stream",
     "text": [
      "epoch: 15, [batch: 6048 / 6720], examples_per_second: 2996.5836, train_label_loss: 0.1856, \n"
     ]
    },
    {
     "name": "stdout",
     "output_type": "stream",
     "text": [
      "=============================================================\n",
      "epoch: 15, source_val_acc_label: 0.9033, target_val_acc_label: 0.8854, source_val_label_loss: 0.2714, target_val_label_loss: 0.3412, \n",
      "=============================================================\n"
     ]
    },
    {
     "name": "stdout",
     "output_type": "stream",
     "text": [
      "epoch: 16, [batch: 1 / 6720], examples_per_second: 2.7578, train_label_loss: 0.3318, \n"
     ]
    },
    {
     "name": "stdout",
     "output_type": "stream",
     "text": [
      "epoch: 16, [batch: 672 / 6720], examples_per_second: 3354.6640, train_label_loss: 0.0538, \n"
     ]
    },
    {
     "name": "stdout",
     "output_type": "stream",
     "text": [
      "epoch: 16, [batch: 1344 / 6720], examples_per_second: 3244.3129, train_label_loss: 0.0973, \n"
     ]
    },
    {
     "name": "stdout",
     "output_type": "stream",
     "text": [
      "epoch: 16, [batch: 2016 / 6720], examples_per_second: 2984.2012, train_label_loss: 0.4537, \n"
     ]
    },
    {
     "name": "stdout",
     "output_type": "stream",
     "text": [
      "epoch: 16, [batch: 2688 / 6720], examples_per_second: 3031.5256, train_label_loss: 0.1399, \n"
     ]
    },
    {
     "name": "stdout",
     "output_type": "stream",
     "text": [
      "epoch: 16, [batch: 3360 / 6720], examples_per_second: 2981.1047, train_label_loss: 0.0966, \n"
     ]
    },
    {
     "name": "stdout",
     "output_type": "stream",
     "text": [
      "epoch: 16, [batch: 4032 / 6720], examples_per_second: 2950.4956, train_label_loss: 0.1723, \n"
     ]
    },
    {
     "name": "stdout",
     "output_type": "stream",
     "text": [
      "epoch: 16, [batch: 4704 / 6720], examples_per_second: 2966.1916, train_label_loss: 0.0608, \n"
     ]
    },
    {
     "name": "stdout",
     "output_type": "stream",
     "text": [
      "epoch: 16, [batch: 5376 / 6720], examples_per_second: 3002.4946, train_label_loss: 0.1085, \n"
     ]
    },
    {
     "name": "stdout",
     "output_type": "stream",
     "text": [
      "epoch: 16, [batch: 6048 / 6720], examples_per_second: 2940.6376, train_label_loss: 0.6106, \n"
     ]
    },
    {
     "name": "stdout",
     "output_type": "stream",
     "text": [
      "=============================================================\n",
      "epoch: 16, source_val_acc_label: 0.8989, target_val_acc_label: 0.8830, source_val_label_loss: 0.2875, target_val_label_loss: 0.3496, \n",
      "=============================================================\n"
     ]
    },
    {
     "name": "stdout",
     "output_type": "stream",
     "text": [
      "epoch: 17, [batch: 1 / 6720], examples_per_second: 2.8969, train_label_loss: 0.0631, \n"
     ]
    },
    {
     "name": "stdout",
     "output_type": "stream",
     "text": [
      "epoch: 17, [batch: 672 / 6720], examples_per_second: 2536.5964, train_label_loss: 0.0540, \n"
     ]
    },
    {
     "name": "stdout",
     "output_type": "stream",
     "text": [
      "epoch: 17, [batch: 1344 / 6720], examples_per_second: 2284.2130, train_label_loss: 0.1792, \n"
     ]
    },
    {
     "name": "stdout",
     "output_type": "stream",
     "text": [
      "epoch: 17, [batch: 2016 / 6720], examples_per_second: 2278.8916, train_label_loss: 0.0918, \n"
     ]
    },
    {
     "name": "stdout",
     "output_type": "stream",
     "text": [
      "epoch: 17, [batch: 2688 / 6720], examples_per_second: 2304.2833, train_label_loss: 0.1482, \n"
     ]
    },
    {
     "name": "stdout",
     "output_type": "stream",
     "text": [
      "epoch: 17, [batch: 3360 / 6720], examples_per_second: 2296.4676, train_label_loss: 0.4103, \n"
     ]
    },
    {
     "name": "stdout",
     "output_type": "stream",
     "text": [
      "epoch: 17, [batch: 4032 / 6720], examples_per_second: 2296.5853, train_label_loss: 0.0612, \n"
     ]
    },
    {
     "name": "stdout",
     "output_type": "stream",
     "text": [
      "epoch: 17, [batch: 4704 / 6720], examples_per_second: 2322.5758, train_label_loss: 0.1261, \n"
     ]
    },
    {
     "name": "stdout",
     "output_type": "stream",
     "text": [
      "epoch: 17, [batch: 5376 / 6720], examples_per_second: 2304.9791, train_label_loss: 0.1584, \n"
     ]
    },
    {
     "name": "stdout",
     "output_type": "stream",
     "text": [
      "epoch: 17, [batch: 6048 / 6720], examples_per_second: 2312.3635, train_label_loss: 0.3881, \n"
     ]
    },
    {
     "name": "stdout",
     "output_type": "stream",
     "text": [
      "=============================================================\n",
      "epoch: 17, source_val_acc_label: 0.9038, target_val_acc_label: 0.8841, source_val_label_loss: 0.2735, target_val_label_loss: 0.3445, \n",
      "=============================================================\n"
     ]
    },
    {
     "name": "stdout",
     "output_type": "stream",
     "text": [
      "epoch: 18, [batch: 1 / 6720], examples_per_second: 2.2167, train_label_loss: 0.2735, \n"
     ]
    },
    {
     "name": "stdout",
     "output_type": "stream",
     "text": [
      "epoch: 18, [batch: 672 / 6720], examples_per_second: 2270.6753, train_label_loss: 0.1011, \n"
     ]
    },
    {
     "name": "stdout",
     "output_type": "stream",
     "text": [
      "epoch: 18, [batch: 1344 / 6720], examples_per_second: 2287.9762, train_label_loss: 0.0960, \n"
     ]
    },
    {
     "name": "stdout",
     "output_type": "stream",
     "text": [
      "epoch: 18, [batch: 2016 / 6720], examples_per_second: 2283.6616, train_label_loss: 0.1489, \n"
     ]
    },
    {
     "name": "stdout",
     "output_type": "stream",
     "text": [
      "epoch: 18, [batch: 2688 / 6720], examples_per_second: 2292.5874, train_label_loss: 0.0450, \n"
     ]
    },
    {
     "name": "stdout",
     "output_type": "stream",
     "text": [
      "epoch: 18, [batch: 3360 / 6720], examples_per_second: 2291.2692, train_label_loss: 0.0805, \n"
     ]
    },
    {
     "name": "stdout",
     "output_type": "stream",
     "text": [
      "epoch: 18, [batch: 4032 / 6720], examples_per_second: 2294.5011, train_label_loss: 0.2965, \n"
     ]
    },
    {
     "name": "stdout",
     "output_type": "stream",
     "text": [
      "epoch: 18, [batch: 4704 / 6720], examples_per_second: 2285.0613, train_label_loss: 0.0442, \n"
     ]
    },
    {
     "name": "stdout",
     "output_type": "stream",
     "text": [
      "epoch: 18, [batch: 5376 / 6720], examples_per_second: 2312.6225, train_label_loss: 0.0808, \n"
     ]
    },
    {
     "name": "stdout",
     "output_type": "stream",
     "text": [
      "epoch: 18, [batch: 6048 / 6720], examples_per_second: 2282.1958, train_label_loss: 0.6217, \n"
     ]
    },
    {
     "name": "stdout",
     "output_type": "stream",
     "text": [
      "=============================================================\n",
      "epoch: 18, source_val_acc_label: 0.8994, target_val_acc_label: 0.8801, source_val_label_loss: 0.2853, target_val_label_loss: 0.3552, \n",
      "=============================================================\n"
     ]
    },
    {
     "name": "stdout",
     "output_type": "stream",
     "text": [
      "Patience (3) exhausted\n"
     ]
    }
   ],
   "source": [
    "###################################\n",
    "# train\n",
    "###################################\n",
    "jig = PTN_Train_Eval_Test_Jig(model, p.BEST_MODEL_PATH, p.device)\n",
    "\n",
    "jig.train(\n",
    "    train_iterable=datasets.source.processed.train,\n",
    "    source_val_iterable=datasets.source.processed.val,\n",
    "    target_val_iterable=datasets.target.processed.val,\n",
    "    num_epochs=p.n_epoch,\n",
    "    num_logs_per_epoch=p.NUM_LOGS_PER_EPOCH,\n",
    "    patience=p.patience,\n",
    "    optimizer=optimizer,\n",
    "    criteria_for_best=p.criteria_for_best,\n",
    ")"
   ]
  },
  {
   "cell_type": "code",
   "execution_count": 23,
   "id": "31e8fabf",
   "metadata": {
    "execution": {
     "iopub.execute_input": "2022-03-22T02:47:13.054033Z",
     "iopub.status.busy": "2022-03-22T02:47:13.053199Z",
     "iopub.status.idle": "2022-03-22T02:47:13.088327Z",
     "shell.execute_reply": "2022-03-22T02:47:13.089070Z"
    },
    "papermill": {
     "duration": 0.128514,
     "end_time": "2022-03-22T02:47:13.089293",
     "exception": false,
     "start_time": "2022-03-22T02:47:12.960779",
     "status": "completed"
    },
    "tags": []
   },
   "outputs": [],
   "source": [
    "total_experiment_time_secs = time.time() - start_time_secs"
   ]
  },
  {
   "cell_type": "code",
   "execution_count": 24,
   "id": "87b9595b",
   "metadata": {
    "execution": {
     "iopub.execute_input": "2022-03-22T02:47:13.256165Z",
     "iopub.status.busy": "2022-03-22T02:47:13.255770Z",
     "iopub.status.idle": "2022-03-22T02:51:32.120414Z",
     "shell.execute_reply": "2022-03-22T02:51:32.121077Z"
    },
    "papermill": {
     "duration": 258.950648,
     "end_time": "2022-03-22T02:51:32.121314",
     "exception": false,
     "start_time": "2022-03-22T02:47:13.170666",
     "status": "completed"
    },
    "tags": []
   },
   "outputs": [],
   "source": [
    "###################################\n",
    "# Evaluate the model\n",
    "###################################\n",
    "source_test_label_accuracy, source_test_label_loss = jig.test(datasets.source.processed.test)\n",
    "target_test_label_accuracy, target_test_label_loss = jig.test(datasets.target.processed.test)\n",
    "\n",
    "source_val_label_accuracy, source_val_label_loss = jig.test(datasets.source.processed.val)\n",
    "target_val_label_accuracy, target_val_label_loss = jig.test(datasets.target.processed.val)\n",
    "\n",
    "history = jig.get_history()\n",
    "\n",
    "total_epochs_trained = len(history[\"epoch_indices\"])\n",
    "\n",
    "val_dl = Iterable_Aggregator((datasets.source.original.val,datasets.target.original.val))\n",
    "\n",
    "confusion = ptn_confusion_by_domain_over_dataloader(model, p.device, val_dl)\n",
    "per_domain_accuracy = per_domain_accuracy_from_confusion(confusion)\n",
    "\n",
    "# Add a key to per_domain_accuracy for if it was a source domain\n",
    "for domain, accuracy in per_domain_accuracy.items():\n",
    "    per_domain_accuracy[domain] = {\n",
    "        \"accuracy\": accuracy,\n",
    "        \"source?\": domain in p.domains_source\n",
    "    }\n",
    "\n",
    "# Do an independent accuracy assesment JUST TO BE SURE!\n",
    "# _source_test_label_accuracy = independent_accuracy_assesment(model, datasets.source.processed.test, p.device)\n",
    "# _target_test_label_accuracy = independent_accuracy_assesment(model, datasets.target.processed.test, p.device)\n",
    "# _source_val_label_accuracy = independent_accuracy_assesment(model, datasets.source.processed.val, p.device)\n",
    "# _target_val_label_accuracy = independent_accuracy_assesment(model, datasets.target.processed.val, p.device)\n",
    "\n",
    "# assert(_source_test_label_accuracy == source_test_label_accuracy)\n",
    "# assert(_target_test_label_accuracy == target_test_label_accuracy)\n",
    "# assert(_source_val_label_accuracy == source_val_label_accuracy)\n",
    "# assert(_target_val_label_accuracy == target_val_label_accuracy)\n",
    "\n",
    "experiment = {\n",
    "    \"experiment_name\": p.experiment_name,\n",
    "    \"parameters\": dict(p),\n",
    "    \"results\": {\n",
    "        \"source_test_label_accuracy\": source_test_label_accuracy,\n",
    "        \"source_test_label_loss\": source_test_label_loss,\n",
    "        \"target_test_label_accuracy\": target_test_label_accuracy,\n",
    "        \"target_test_label_loss\": target_test_label_loss,\n",
    "        \"source_val_label_accuracy\": source_val_label_accuracy,\n",
    "        \"source_val_label_loss\": source_val_label_loss,\n",
    "        \"target_val_label_accuracy\": target_val_label_accuracy,\n",
    "        \"target_val_label_loss\": target_val_label_loss,\n",
    "        \"total_epochs_trained\": total_epochs_trained,\n",
    "        \"total_experiment_time_secs\": total_experiment_time_secs,\n",
    "        \"confusion\": confusion,\n",
    "        \"per_domain_accuracy\": per_domain_accuracy,\n",
    "    },\n",
    "    \"history\": history,\n",
    "    \"dataset_metrics\": get_dataset_metrics(datasets, \"ptn\"),\n",
    "}"
   ]
  },
  {
   "cell_type": "code",
   "execution_count": 25,
   "id": "54a21829",
   "metadata": {
    "execution": {
     "iopub.execute_input": "2022-03-22T02:51:32.282686Z",
     "iopub.status.busy": "2022-03-22T02:51:32.282307Z",
     "iopub.status.idle": "2022-03-22T02:51:32.515876Z",
     "shell.execute_reply": "2022-03-22T02:51:32.516556Z"
    },
    "papermill": {
     "duration": 0.314791,
     "end_time": "2022-03-22T02:51:32.516779",
     "exception": false,
     "start_time": "2022-03-22T02:51:32.201988",
     "status": "completed"
    },
    "tags": []
   },
   "outputs": [
    {
     "data": {
      "image/png": "[encoded data removed]",
      "text/plain": [
       "<Figure size 1080x504 with 1 Axes>"
      ]
     },
     "metadata": {
      "needs_background": "light"
     },
     "output_type": "display_data"
    }
   ],
   "source": [
    "ax = get_loss_curve(experiment)\n",
    "plt.show()"
   ]
  },
  {
   "cell_type": "code",
   "execution_count": 26,
   "id": "fd8a0f60",
   "metadata": {
    "execution": {
     "iopub.execute_input": "2022-03-22T02:51:32.686895Z",
     "iopub.status.busy": "2022-03-22T02:51:32.686521Z",
     "iopub.status.idle": "2022-03-22T02:51:33.071685Z",
     "shell.execute_reply": "2022-03-22T02:51:33.071337Z"
    },
    "papermill": {
     "duration": 0.465656,
     "end_time": "2022-03-22T02:51:33.071770",
     "exception": false,
     "start_time": "2022-03-22T02:51:32.606114",
     "status": "completed"
    },
    "tags": []
   },
   "outputs": [
    {
     "data": {
      "text/plain": [
       "<AxesSubplot:title={'center':'Results'}>"
      ]
     },
     "execution_count": 26,
     "metadata": {},
     "output_type": "execute_result"
    },
    {
     "data": {
      "image/png": "[encoded data removed]",
      "text/plain": [
       "<Figure size 1080x504 with 1 Axes>"
      ]
     },
     "metadata": {
      "needs_background": "light"
     },
     "output_type": "display_data"
    }
   ],
   "source": [
    "get_results_table(experiment)"
   ]
  },
  {
   "cell_type": "code",
   "execution_count": 27,
   "id": "cf8dc689",
   "metadata": {
    "execution": {
     "iopub.execute_input": "2022-03-22T02:51:33.235039Z",
     "iopub.status.busy": "2022-03-22T02:51:33.234675Z",
     "iopub.status.idle": "2022-03-22T02:51:33.534363Z",
     "shell.execute_reply": "2022-03-22T02:51:33.533658Z"
    },
    "papermill": {
     "duration": 0.382892,
     "end_time": "2022-03-22T02:51:33.534524",
     "exception": false,
     "start_time": "2022-03-22T02:51:33.151632",
     "status": "completed"
    },
    "tags": []
   },
   "outputs": [
    {
     "data": {
      "text/plain": [
       "<AxesSubplot:title={'center':'Per Domain Validation Accuracy'}, xlabel='domain'>"
      ]
     },
     "execution_count": 27,
     "metadata": {},
     "output_type": "execute_result"
    },
    {
     "data": {
      "image/png": "[encoded data removed]",
      "text/plain": [
       "<Figure size 1080x504 with 1 Axes>"
      ]
     },
     "metadata": {
      "needs_background": "light"
     },
     "output_type": "display_data"
    }
   ],
   "source": [
    "get_domain_accuracies(experiment)"
   ]
  },
  {
   "cell_type": "code",
   "execution_count": 28,
   "id": "a74ae082",
   "metadata": {
    "execution": {
     "iopub.execute_input": "2022-03-22T02:51:33.705831Z",
     "iopub.status.busy": "2022-03-22T02:51:33.705454Z",
     "iopub.status.idle": "2022-03-22T02:51:33.732280Z",
     "shell.execute_reply": "2022-03-22T02:51:33.731475Z"
    },
    "papermill": {
     "duration": 0.11232,
     "end_time": "2022-03-22T02:51:33.732436",
     "exception": false,
     "start_time": "2022-03-22T02:51:33.620116",
     "status": "completed"
    },
    "tags": []
   },
   "outputs": [
    {
     "name": "stdout",
     "output_type": "stream",
     "text": [
      "Source Test Label Accuracy: 0.9036458333333334 Target Test Label Accuracy: 0.8903645833333333\n",
      "Source Val Label Accuracy: 0.9033203125 Target Val Label Accuracy: 0.88642578125\n"
     ]
    }
   ],
   "source": [
    "print(\"Source Test Label Accuracy:\", experiment[\"results\"][\"source_test_label_accuracy\"], \"Target Test Label Accuracy:\", experiment[\"results\"][\"target_test_label_accuracy\"])\n",
    "print(\"Source Val Label Accuracy:\", experiment[\"results\"][\"source_val_label_accuracy\"], \"Target Val Label Accuracy:\", experiment[\"results\"][\"target_val_label_accuracy\"])"
   ]
  },
  {
   "cell_type": "code",
   "execution_count": 29,
   "id": "dacca602",
   "metadata": {
    "execution": {
     "iopub.execute_input": "2022-03-22T02:51:34.011734Z",
     "iopub.status.busy": "2022-03-22T02:51:34.011353Z",
     "iopub.status.idle": "2022-03-22T02:51:34.034655Z",
     "shell.execute_reply": "2022-03-22T02:51:34.035335Z"
    },
    "papermill": {
     "duration": 0.217218,
     "end_time": "2022-03-22T02:51:34.035526",
     "exception": false,
     "start_time": "2022-03-22T02:51:33.818308",
     "status": "completed"
    },
    "tags": [
     "experiment_json"
    ]
   },
   "outputs": [
    {
     "data": {
      "text/plain": [
       "'{\"experiment_name\": \"tl_1v2:oracle.run1.framed-oracle.run2.framed\", \"parameters\": {\"experiment_name\": \"tl_1v2:oracle.run1.framed-oracle.run2.framed\", \"device\": \"cuda\", \"lr\": 0.0001, \"n_shot\": 3, \"n_query\": 2, \"train_k_factor\": 3, \"val_k_factor\": 2, \"test_k_factor\": 2, \"torch_default_dtype\": \"torch.float32\", \"n_epoch\": 50, \"patience\": 3, \"criteria_for_best\": \"target_accuracy\", \"x_net\": [{\"class\": \"nnReshape\", \"kargs\": {\"shape\": [-1, 1, 2, 256]}}, {\"class\": \"Conv2d\", \"kargs\": {\"in_channels\": 1, \"out_channels\": 256, \"kernel_size\": [1, 7], \"bias\": false, \"padding\": [0, 3]}}, {\"class\": \"ReLU\", \"kargs\": {\"inplace\": true}}, {\"class\": \"BatchNorm2d\", \"kargs\": {\"num_features\": 256}}, {\"class\": \"Conv2d\", \"kargs\": {\"in_channels\": 256, \"out_channels\": 80, \"kernel_size\": [2, 7], \"bias\": true, \"padding\": [0, 3]}}, {\"class\": \"ReLU\", \"kargs\": {\"inplace\": true}}, {\"class\": \"BatchNorm2d\", \"kargs\": {\"num_features\": 80}}, {\"class\": \"Flatten\", \"kargs\": {}}, {\"class\": \"Linear\", \"kargs\": {\"in_features\": 20480, \"out_features\": 256}}, {\"class\": \"ReLU\", \"kargs\": {\"inplace\": true}}, {\"class\": \"BatchNorm1d\", \"kargs\": {\"num_features\": 256}}, {\"class\": \"Linear\", \"kargs\": {\"in_features\": 256, \"out_features\": 256}}], \"NUM_LOGS_PER_EPOCH\": 10, \"BEST_MODEL_PATH\": \"./best_model.pth\", \"n_way\": 16, \"datasets\": [{\"labels\": [\"3123D52\", \"3123D65\", \"3123D79\", \"3123D80\", \"3123D54\", \"3123D70\", \"3123D7B\", \"3123D89\", \"3123D58\", \"3123D76\", \"3123D7D\", \"3123EFE\", \"3123D64\", \"3123D78\", \"3123D7E\", \"3124E4A\"], \"domains\": [32, 38, 8, 44, 14, 50, 20, 26], \"num_examples_per_domain_per_label\": 2000, \"pickle_path\": \"/root/csc500-main/datasets/oracle.Run1_framed_2000Examples_stratified_ds.2022A.pkl\", \"source_or_target_dataset\": \"target\", \"x_transforms\": [\"unit_power\"], \"episode_transforms\": [], \"domain_prefix\": \"ORACLE.run1_\"}, {\"labels\": [\"3123D52\", \"3123D65\", \"3123D79\", \"3123D80\", \"3123D54\", \"3123D70\", \"3123D7B\", \"3123D89\", \"3123D58\", \"3123D76\", \"3123D7D\", \"3123EFE\", \"3123D64\", \"3123D78\", \"3123D7E\", \"3124E4A\"], \"domains\": [32, 38, 8, 44, 14, 50, 20, 26], \"num_examples_per_domain_per_label\": 2000, \"pickle_path\": \"/root/csc500-main/datasets/oracle.Run2_framed_2000Examples_stratified_ds.2022A.pkl\", \"source_or_target_dataset\": \"source\", \"x_transforms\": [\"unit_power\"], \"episode_transforms\": [], \"domain_prefix\": \"ORACLE.run2_\"}], \"dataset_seed\": 7, \"seed\": 7, \"x_shape\": [2, 256], \"domains_source\": [\"ORACLE.run2_32\", \"ORACLE.run2_38\", \"ORACLE.run2_8\", \"ORACLE.run2_44\", \"ORACLE.run2_14\", \"ORACLE.run2_50\", \"ORACLE.run2_20\", \"ORACLE.run2_26\"], \"domains_target\": [\"ORACLE.run1_32\", \"ORACLE.run1_38\", \"ORACLE.run1_8\", \"ORACLE.run1_44\", \"ORACLE.run1_14\", \"ORACLE.run1_50\", \"ORACLE.run1_20\", \"ORACLE.run1_26\"]}, \"results\": {\"source_test_label_accuracy\": 0.9036458333333334, \"source_test_label_loss\": 0.26816993951797485, \"target_test_label_accuracy\": 0.8903645833333333, \"target_test_label_loss\": 0.32493332028388977, \"source_val_label_accuracy\": 0.9033203125, \"source_val_label_loss\": 0.2719140946865082, \"target_val_label_accuracy\": 0.88642578125, \"target_val_label_loss\": 0.33550751209259033, \"total_epochs_trained\": 18, \"total_experiment_time_secs\": 4675.449417114258, \"confusion\": {\"ORACLE.run2_26\": {\"0\": {\"0\": 124, \"14\": 50, \"10\": 43, \"8\": 14, \"4\": 9}, \"4\": {\"0\": 10, \"4\": 208, \"7\": 6, \"2\": 5, \"8\": 8, \"15\": 1, \"3\": 1, \"14\": 1}, \"14\": {\"0\": 36, \"14\": 176, \"10\": 12, \"1\": 11, \"8\": 5}, \"12\": {\"12\": 240}, \"8\": {\"8\": 193, \"10\": 10, \"14\": 11, \"0\": 7, \"2\": 6, \"7\": 11, \"4\": 2}, \"7\": {\"2\": 58, \"7\": 147, \"4\": 9, \"8\": 13, \"9\": 2, \"5\": 1, \"3\": 6, \"15\": 3, \"13\": 1}, \"13\": {\"13\": 227, \"5\": 8, \"9\": 3, \"6\": 1, \"7\": 1}, \"5\": {\"5\": 200, \"13\": 25, \"2\": 12, \"7\": 2, \"3\": 1}, \"15\": {\"15\": 213, \"3\": 4, \"7\": 9, \"2\": 12, \"8\": 1, \"0\": 1}, \"10\": {\"4\": 8, \"0\": 71, \"10\": 112, \"8\": 21, \"14\": 23, \"15\": 1, \"6\": 3, \"2\": 1}, \"3\": {\"3\": 222, \"2\": 12, \"7\": 3, \"15\": 3}, \"9\": {\"9\": 224, \"6\": 9, \"7\": 1, \"13\": 4, \"5\": 1, \"8\": 1}, \"6\": {\"6\": 233, \"9\": 5, \"8\": 1, \"10\": 1}, \"1\": {\"1\": 224, \"14\": 15, \"8\": 1}, \"11\": {\"11\": 240}, \"2\": {\"2\": 153, \"7\": 67, \"3\": 9, \"15\": 3, \"4\": 3, \"5\": 3, \"8\": 2}}, \"ORACLE.run2_44\": {\"1\": {\"1\": 211, \"12\": 25, \"3\": 3, \"2\": 1}, \"11\": {\"11\": 237, \"13\": 3}, \"3\": {\"3\": 232, \"1\": 4, \"12\": 4}, \"6\": {\"6\": 233, \"13\": 3, \"7\": 1, \"9\": 3}, \"7\": {\"7\": 161, \"9\": 75, \"2\": 4}, \"5\": {\"5\": 230, \"14\": 7, \"8\": 3}, \"2\": {\"2\": 227, \"9\": 8, \"7\": 5}, \"15\": {\"15\": 215, \"14\": 20, \"8\": 3, \"4\": 2}, \"10\": {\"10\": 239, \"12\": 1}, \"13\": {\"13\": 237, \"6\": 1, \"4\": 2}, \"8\": {\"8\": 157, \"0\": 83}, \"4\": {\"4\": 236, \"14\": 3, \"13\": 1}, \"9\": {\"7\": 66, \"9\": 152, \"2\": 19, \"6\": 3}, \"14\": {\"14\": 213, \"4\": 7, \"15\": 15, \"5\": 5}, \"0\": {\"0\": 171, \"8\": 69}, \"12\": {\"12\": 201, \"1\": 35, \"3\": 4}}, \"ORACLE.run2_50\": {\"15\": {\"15\": 234, \"11\": 4, \"6\": 1, \"1\": 1}, \"4\": {\"4\": 184, \"5\": 50, \"1\": 3, \"6\": 1, \"7\": 2}, \"6\": {\"6\": 224, \"5\": 1, \"4\": 11, \"1\": 3, \"15\": 1}, \"2\": {\"2\": 236, \"0\": 4}, \"5\": {\"5\": 141, \"4\": 77, \"13\": 6, \"6\": 5, \"1\": 2, \"7\": 7, \"10\": 2}, \"9\": {\"9\": 240}, \"8\": {\"8\": 239, \"3\": 1}, \"12\": {\"12\": 240}, \"10\": {\"10\": 228, \"13\": 11, \"0\": 1}, \"1\": {\"1\": 231, \"15\": 4, \"4\": 3, \"6\": 2}, \"0\": {\"0\": 228, \"2\": 12}, \"3\": {\"3\": 240}, \"13\": {\"13\": 204, \"10\": 30, \"5\": 3, \"7\": 3}, \"11\": {\"11\": 235, \"15\": 5}, \"7\": {\"7\": 226, \"5\": 6, \"13\": 8}, \"14\": {\"14\": 240}}, \"ORACLE.run2_38\": {\"15\": {\"15\": 209, \"5\": 13, \"8\": 6, \"1\": 12}, \"11\": {\"11\": 235, \"13\": 2, \"14\": 2, \"10\": 1}, \"10\": {\"10\": 217, \"3\": 2, \"7\": 19, \"13\": 2}, \"14\": {\"14\": 217, \"2\": 21, \"8\": 1, \"7\": 1}, \"6\": {\"6\": 236, \"9\": 2, \"1\": 2}, \"4\": {\"4\": 239, \"12\": 1}, \"13\": {\"13\": 188, \"3\": 50, \"2\": 1, \"8\": 1}, \"3\": {\"3\": 187, \"0\": 5, \"13\": 43, \"8\": 2, \"7\": 2, \"10\": 1}, \"7\": {\"7\": 181, \"8\": 15, \"10\": 28, \"5\": 15, \"0\": 1}, \"8\": {\"8\": 179, \"5\": 48, \"15\": 4, \"0\": 1, \"7\": 8}, \"1\": {\"1\": 232, \"15\": 8}, \"5\": {\"8\": 60, \"5\": 159, \"7\": 15, \"15\": 6}, \"0\": {\"0\": 229, \"7\": 4, \"3\": 6, \"10\": 1}, \"2\": {\"2\": 230, \"14\": 10}, \"12\": {\"12\": 240}, \"9\": {\"9\": 235, \"6\": 5}}, \"ORACLE.run2_20\": {\"10\": {\"10\": 240}, \"7\": {\"7\": 232, \"3\": 1, \"8\": 5, \"5\": 2}, \"4\": {\"4\": 239, \"3\": 1}, \"13\": {\"13\": 231, \"15\": 9}, \"1\": {\"12\": 30, \"1\": 207, \"15\": 3}, \"0\": {\"0\": 234, \"15\": 3, \"5\": 2, \"12\": 1}, \"12\": {\"12\": 193, \"1\": 32, \"2\": 9, \"9\": 2, \"3\": 4}, \"5\": {\"5\": 198, \"0\": 10, \"2\": 8, \"7\": 13, \"12\": 7, \"13\": 1, \"15\": 2, \"3\": 1}, \"6\": {\"14\": 9, \"6\": 230, \"8\": 1}, \"2\": {\"2\": 186, \"12\": 14, \"3\": 19, \"5\": 8, \"1\": 2, \"9\": 10, \"13\": 1}, \"8\": {\"8\": 223, \"7\": 4, \"14\": 12, \"5\": 1}, \"11\": {\"11\": 240}, \"9\": {\"9\": 211, \"2\": 8, \"3\": 10, \"1\": 6, \"12\": 5}, \"14\": {\"14\": 215, \"8\": 18, \"6\": 7}, \"15\": {\"15\": 203, \"0\": 4, \"5\": 6, \"13\": 20, \"1\": 5, \"2\": 1, \"12\": 1}, \"3\": {\"3\": 202, \"9\": 12, \"2\": 21, \"12\": 1, \"5\": 2, \"7\": 2}}, \"ORACLE.run2_14\": {\"14\": {\"14\": 204, \"2\": 35, \"3\": 1}, \"0\": {\"0\": 240}, \"4\": {\"4\": 233, \"5\": 7}, \"11\": {\"11\": 240}, \"13\": {\"13\": 221, \"6\": 19}, \"9\": {\"9\": 240}, \"3\": {\"3\": 231, \"2\": 6, \"5\": 3}, \"6\": {\"6\": 226, \"13\": 14}, \"1\": {\"1\": 237, \"5\": 3}, \"5\": {\"5\": 212, \"4\": 5, \"3\": 6, \"1\": 8, \"2\": 9}, \"12\": {\"12\": 218, \"9\": 11, \"0\": 8, \"11\": 3}, \"10\": {\"10\": 240}, \"8\": {\"8\": 240}, \"7\": {\"7\": 240}, \"15\": {\"15\": 238, \"13\": 2}, \"2\": {\"2\": 152, \"5\": 21, \"14\": 52, \"13\": 3, \"3\": 11, \"4\": 1}}, \"ORACLE.run2_32\": {\"11\": {\"11\": 216, \"7\": 11, \"4\": 3, \"0\": 6, \"13\": 4}, \"1\": {\"1\": 240}, \"2\": {\"2\": 236, \"5\": 3, \"4\": 1}, \"0\": {\"11\": 10, \"0\": 205, \"8\": 11, \"14\": 7, \"4\": 6, \"5\": 1}, \"3\": {\"3\": 240}, \"8\": {\"8\": 229, \"0\": 6, \"3\": 2, \"4\": 1, \"15\": 2}, \"12\": {\"12\": 240}, \"5\": {\"5\": 206, \"7\": 8, \"2\": 8, \"8\": 10, \"4\": 4, \"0\": 3, \"14\": 1}, \"15\": {\"15\": 240}, \"7\": {\"7\": 220, \"4\": 10, \"11\": 6, \"5\": 3, \"13\": 1}, \"4\": {\"4\": 199, \"13\": 33, \"7\": 4, \"8\": 1, \"5\": 2, \"2\": 1}, \"14\": {\"14\": 229, \"0\": 8, \"5\": 3}, \"10\": {\"10\": 240}, \"6\": {\"6\": 240}, \"13\": {\"13\": 195, \"4\": 36, \"7\": 4, \"8\": 1, \"3\": 3, \"11\": 1}, \"9\": {\"9\": 240}}, \"ORACLE.run2_8\": {\"9\": {\"9\": 240}, \"11\": {\"11\": 230, \"15\": 1, \"8\": 5, \"12\": 4}, \"8\": {\"8\": 236, \"15\": 2, \"11\": 2}, \"4\": {\"4\": 154, \"7\": 39, \"6\": 47}, \"13\": {\"13\": 226, \"1\": 6, \"14\": 5, \"10\": 2, \"8\": 1}, \"14\": {\"14\": 231, \"0\": 7, \"6\": 1, \"13\": 1}, \"2\": {\"2\": 235, \"4\": 3, \"7\": 2}, \"3\": {\"3\": 239, \"12\": 1}, \"1\": {\"1\": 240}, \"0\": {\"0\": 237, \"14\": 1, \"10\": 2}, \"5\": {\"5\": 234, \"10\": 6}, \"15\": {\"15\": 227, \"8\": 6, \"12\": 6, \"11\": 1}, \"10\": {\"10\": 216, \"0\": 10, \"5\": 14}, \"12\": {\"12\": 235, \"15\": 5}, \"6\": {\"6\": 183, \"7\": 13, \"4\": 44}, \"7\": {\"7\": 205, \"4\": 27, \"6\": 7, \"2\": 1}}, \"ORACLE.run1_26\": {\"0\": {\"0\": 113, \"10\": 52, \"14\": 41, \"7\": 4, \"4\": 10, \"8\": 19, \"1\": 1}, \"4\": {\"14\": 11, \"4\": 206, \"0\": 5, \"7\": 8, \"10\": 4, \"8\": 6}, \"14\": {\"14\": 179, \"10\": 18, \"0\": 22, \"1\": 8, \"4\": 12, \"8\": 1}, \"12\": {\"12\": 240}, \"8\": {\"8\": 162, \"14\": 7, \"4\": 13, \"0\": 20, \"7\": 9, \"10\": 27, \"15\": 2}, \"7\": {\"7\": 190, \"2\": 13, \"4\": 18, \"3\": 12, \"8\": 4, \"0\": 1, \"10\": 2}, \"13\": {\"13\": 207, \"5\": 21, \"15\": 4, \"9\": 2, \"2\": 6}, \"5\": {\"5\": 231, \"13\": 5, \"2\": 3, \"15\": 1}, \"15\": {\"15\": 198, \"9\": 20, \"6\": 11, \"8\": 1, \"5\": 2, \"13\": 5, \"10\": 2, \"0\": 1}, \"10\": {\"10\": 126, \"0\": 65, \"14\": 22, \"8\": 23, \"15\": 2, \"1\": 1, \"6\": 1}, \"3\": {\"3\": 199, \"2\": 35, \"7\": 6}, \"9\": {\"9\": 201, \"15\": 27, \"13\": 8, \"6\": 3, \"5\": 1}, \"6\": {\"6\": 218, \"15\": 8, \"9\": 7, \"10\": 5, \"0\": 2}, \"1\": {\"1\": 227, \"14\": 10, \"4\": 1, \"3\": 1, \"7\": 1}, \"11\": {\"11\": 240}, \"2\": {\"2\": 100, \"5\": 28, \"3\": 75, \"7\": 20, \"8\": 6, \"9\": 1, \"15\": 6, \"13\": 4}}, \"ORACLE.run1_44\": {\"1\": {\"10\": 7, \"2\": 13, \"1\": 203, \"3\": 4, \"12\": 13}, \"11\": {\"11\": 239, \"13\": 1}, \"3\": {\"3\": 237, \"1\": 3}, \"6\": {\"9\": 12, \"13\": 28, \"6\": 196, \"7\": 4}, \"7\": {\"9\": 34, \"7\": 190, \"2\": 14, \"6\": 2}, \"5\": {\"5\": 221, \"0\": 5, \"8\": 2, \"14\": 7, \"15\": 5}, \"2\": {\"7\": 15, \"2\": 214, \"10\": 4, \"1\": 6, \"3\": 1}, \"15\": {\"15\": 208, \"14\": 15, \"0\": 8, \"8\": 4, \"5\": 4, \"4\": 1}, \"10\": {\"10\": 212, \"2\": 4, \"1\": 21, \"12\": 3}, \"13\": {\"13\": 181, \"9\": 19, \"6\": 38, \"11\": 2}, \"8\": {\"0\": 99, \"15\": 5, \"8\": 133, \"5\": 3}, \"4\": {\"4\": 191, \"14\": 49}, \"9\": {\"13\": 30, \"9\": 137, \"7\": 51, \"6\": 22}, \"14\": {\"14\": 158, \"4\": 57, \"15\": 20, \"5\": 5}, \"0\": {\"0\": 140, \"8\": 94, \"5\": 5, \"15\": 1}, \"12\": {\"12\": 230, \"1\": 10}}, \"ORACLE.run1_50\": {\"15\": {\"15\": 217, \"6\": 1, \"11\": 6, \"1\": 9, \"4\": 7}, \"4\": {\"4\": 169, \"5\": 30, \"15\": 27, \"1\": 9, \"7\": 4, \"6\": 1}, \"6\": {\"6\": 218, \"4\": 5, \"13\": 3, \"7\": 5, \"15\": 3, \"5\": 4, \"1\": 2}, \"2\": {\"2\": 233, \"0\": 7}, \"5\": {\"5\": 135, \"7\": 33, \"1\": 24, \"6\": 2, \"4\": 25, \"13\": 21}, \"9\": {\"9\": 228, \"11\": 10, \"12\": 1, \"4\": 1}, \"8\": {\"8\": 236, \"10\": 4}, \"12\": {\"12\": 238, \"9\": 2}, \"10\": {\"10\": 227, \"8\": 6, \"0\": 6, \"13\": 1}, \"1\": {\"1\": 227, \"6\": 2, \"15\": 11}, \"0\": {\"0\": 222, \"2\": 15, \"10\": 3}, \"3\": {\"3\": 240}, \"13\": {\"13\": 227, \"7\": 3, \"10\": 2, \"5\": 7, \"1\": 1}, \"11\": {\"11\": 230, \"9\": 2, \"12\": 1, \"15\": 5, \"4\": 2}, \"7\": {\"7\": 226, \"5\": 4, \"6\": 3, \"13\": 6, \"8\": 1}, \"14\": {\"14\": 240}}, \"ORACLE.run1_38\": {\"15\": {\"8\": 13, \"15\": 218, \"1\": 5, \"5\": 4}, \"11\": {\"11\": 237, \"10\": 1, \"3\": 1, \"4\": 1}, \"10\": {\"10\": 219, \"14\": 1, \"13\": 16, \"5\": 1, \"7\": 3}, \"14\": {\"14\": 236, \"2\": 4}, \"6\": {\"6\": 239, \"9\": 1}, \"4\": {\"4\": 240}, \"13\": {\"13\": 223, \"0\": 4, \"15\": 2, \"2\": 5, \"10\": 4, \"8\": 2}, \"3\": {\"3\": 238, \"2\": 2}, \"7\": {\"7\": 212, \"10\": 1, \"8\": 4, \"5\": 18, \"0\": 5}, \"8\": {\"8\": 177, \"5\": 48, \"15\": 3, \"7\": 7, \"0\": 4, \"10\": 1}, \"1\": {\"1\": 240}, \"5\": {\"5\": 140, \"8\": 64, \"7\": 25, \"15\": 4, \"0\": 3, \"9\": 3, \"13\": 1}, \"0\": {\"0\": 193, \"3\": 19, \"7\": 10, \"10\": 8, \"8\": 9, \"5\": 1}, \"2\": {\"2\": 236, \"14\": 4}, \"12\": {\"12\": 240}, \"9\": {\"9\": 231, \"6\": 4, \"5\": 5}}, \"ORACLE.run1_20\": {\"10\": {\"10\": 240}, \"7\": {\"7\": 230, \"2\": 7, \"8\": 2, \"4\": 1}, \"4\": {\"4\": 237, \"8\": 3}, \"13\": {\"13\": 239, \"2\": 1}, \"1\": {\"1\": 219, \"15\": 6, \"12\": 13, \"5\": 2}, \"0\": {\"0\": 218, \"5\": 10, \"15\": 11, \"8\": 1}, \"12\": {\"12\": 195, \"9\": 2, \"3\": 12, \"1\": 26, \"5\": 1, \"2\": 4}, \"5\": {\"5\": 217, \"12\": 1, \"15\": 10, \"0\": 11, \"4\": 1}, \"6\": {\"6\": 231, \"14\": 8, \"8\": 1}, \"2\": {\"3\": 8, \"2\": 194, \"7\": 11, \"12\": 11, \"13\": 3, \"9\": 13}, \"8\": {\"8\": 234, \"14\": 1, \"7\": 2, \"4\": 3}, \"11\": {\"11\": 240}, \"9\": {\"9\": 199, \"3\": 16, \"2\": 21, \"12\": 4}, \"14\": {\"14\": 231, \"6\": 6, \"4\": 1, \"8\": 1, \"10\": 1}, \"15\": {\"15\": 225, \"0\": 6, \"1\": 4, \"5\": 5}, \"3\": {\"3\": 186, \"2\": 11, \"12\": 25, \"9\": 15, \"10\": 1, \"4\": 1, \"1\": 1}}, \"ORACLE.run1_14\": {\"14\": {\"14\": 225, \"2\": 14, \"6\": 1}, \"0\": {\"0\": 238, \"3\": 1, \"11\": 1}, \"4\": {\"4\": 231, \"5\": 9}, \"11\": {\"11\": 225, \"9\": 6, \"12\": 9}, \"13\": {\"13\": 130, \"6\": 88, \"2\": 6, \"5\": 6, \"14\": 6, \"4\": 2, \"3\": 2}, \"9\": {\"9\": 238, \"12\": 2}, \"3\": {\"3\": 238, \"2\": 2}, \"6\": {\"6\": 202, \"13\": 35, \"14\": 3}, \"1\": {\"1\": 235, \"5\": 5}, \"5\": {\"5\": 206, \"4\": 19, \"1\": 10, \"2\": 3, \"3\": 2}, \"12\": {\"12\": 240}, \"10\": {\"10\": 240}, \"8\": {\"8\": 240}, \"7\": {\"7\": 240}, \"15\": {\"15\": 240}, \"2\": {\"2\": 153, \"13\": 12, \"14\": 44, \"5\": 14, \"3\": 4, \"6\": 13}}, \"ORACLE.run1_32\": {\"11\": {\"11\": 239, \"3\": 1}, \"1\": {\"1\": 240}, \"2\": {\"2\": 213, \"4\": 25, \"7\": 1, \"5\": 1}, \"0\": {\"0\": 219, \"5\": 1, \"8\": 10, \"14\": 7, \"7\": 3}, \"3\": {\"3\": 240}, \"8\": {\"8\": 231, \"0\": 9}, \"12\": {\"12\": 240}, \"5\": {\"5\": 150, \"7\": 70, \"13\": 7, \"3\": 5, \"4\": 4, \"8\": 2, \"0\": 1, \"14\": 1}, \"15\": {\"15\": 239, \"8\": 1}, \"7\": {\"7\": 180, \"5\": 47, \"4\": 9, \"13\": 2, \"11\": 2}, \"4\": {\"2\": 32, \"4\": 201, \"13\": 4, \"5\": 1, \"7\": 2}, \"14\": {\"14\": 174, \"0\": 22, \"11\": 26, \"7\": 9, \"3\": 4, \"5\": 1, \"8\": 3, \"13\": 1}, \"10\": {\"10\": 240}, \"6\": {\"6\": 240}, \"13\": {\"13\": 205, \"5\": 2, \"4\": 16, \"3\": 14, \"11\": 1, \"7\": 2}, \"9\": {\"9\": 240}}, \"ORACLE.run1_8\": {\"9\": {\"9\": 240}, \"11\": {\"11\": 230, \"1\": 10}, \"8\": {\"8\": 239, \"15\": 1}, \"4\": {\"4\": 220, \"13\": 12, \"14\": 3, \"6\": 4, \"10\": 1}, \"13\": {\"13\": 151, \"6\": 13, \"10\": 18, \"14\": 4, \"4\": 22, \"0\": 31, \"7\": 1}, \"14\": {\"14\": 204, \"10\": 10, \"4\": 16, \"5\": 2, \"1\": 5, \"13\": 3}, \"2\": {\"2\": 228, \"7\": 8, \"3\": 3, \"12\": 1}, \"3\": {\"3\": 236, \"2\": 2, \"12\": 2}, \"1\": {\"1\": 238, \"11\": 2}, \"0\": {\"0\": 220, \"13\": 14, \"7\": 6}, \"5\": {\"5\": 229, \"10\": 4, \"1\": 5, \"14\": 2}, \"15\": {\"15\": 234, \"12\": 6}, \"10\": {\"10\": 230, \"14\": 5, \"13\": 5}, \"12\": {\"12\": 187, \"15\": 40, \"8\": 8, \"3\": 5}, \"6\": {\"6\": 222, \"0\": 1, \"4\": 4, \"7\": 12, \"13\": 1}, \"7\": {\"7\": 217, \"6\": 21, \"9\": 1, \"0\": 1}}}, \"per_domain_accuracy\": {\"ORACLE.run2_26\": {\"accuracy\": 0.8166666666666667, \"source?\": true}, \"ORACLE.run2_44\": {\"accuracy\": 0.8729166666666667, \"source?\": true}, \"ORACLE.run2_50\": {\"accuracy\": 0.9296875, \"source?\": true}, \"ORACLE.run2_38\": {\"accuracy\": 0.8888020833333333, \"source?\": true}, \"ORACLE.run2_20\": {\"accuracy\": 0.9072916666666667, \"source?\": true}, \"ORACLE.run2_14\": {\"accuracy\": 0.940625, \"source?\": true}, \"ORACLE.run2_32\": {\"accuracy\": 0.94140625, \"source?\": true}, \"ORACLE.run2_8\": {\"accuracy\": 0.9291666666666667, \"source?\": true}, \"ORACLE.run1_26\": {\"accuracy\": 0.7908854166666667, \"source?\": false}, \"ORACLE.run1_44\": {\"accuracy\": 0.8046875, \"source?\": false}, \"ORACLE.run1_50\": {\"accuracy\": 0.91484375, \"source?\": false}, \"ORACLE.run1_38\": {\"accuracy\": 0.91640625, \"source?\": false}, \"ORACLE.run1_20\": {\"accuracy\": 0.9205729166666666, \"source?\": false}, \"ORACLE.run1_14\": {\"accuracy\": 0.9169270833333333, \"source?\": false}, \"ORACLE.run1_32\": {\"accuracy\": 0.9091145833333333, \"source?\": false}, \"ORACLE.run1_8\": {\"accuracy\": 0.91796875, \"source?\": false}}}, \"history\": {\"epoch_indices\": [1, 2, 3, 4, 5, 6, 7, 8, 9, 10, 11, 12, 13, 14, 15, 16, 17, 18], \"train_label_loss\": [0.8251990365596222, 0.6588349505904175, 0.4366711099232946, 0.37614308180248673, 0.3397361411094954, 0.30710167295903723, 0.28293024589379673, 0.26266337649763694, 0.2461724266344737, 0.23359489414585932, 0.2192691190377532, 0.2114269030376038, 0.1981833087049641, 0.1920515946860611, 0.18051047944494972, 0.17372638979324534, 0.1657929742409795, 0.17134824553896102], \"source_val_label_loss\": [7.981876373291016, 0.5059114694595337, 0.45618540048599243, 0.37649643421173096, 0.34424757957458496, 0.3509361445903778, 0.3429749011993408, 0.3044264018535614, 0.3030116558074951, 0.3118390738964081, 0.3230949938297272, 0.3023950457572937, 0.30464062094688416, 0.2719140946865082, 0.27140939235687256, 0.28745150566101074, 0.27345481514930725, 0.28526169061660767], \"target_val_label_loss\": [5.604952812194824, 0.4803534150123596, 0.44560885429382324, 0.39742907881736755, 0.366408109664917, 0.37425726652145386, 0.36959898471832275, 0.34978029131889343, 0.3511403203010559, 0.3603755831718445, 0.36204156279563904, 0.3562210500240326, 0.35738980770111084, 0.33550751209259033, 0.341202050447464, 0.3495868742465973, 0.3445409834384918, 0.355183869600296], \"source_val_acc_label\": [0.7769205729166667, 0.8257486979166667, 0.83994140625, 0.8651041666666667, 0.8815104166666666, 0.8743815104166667, 0.8806640625, 0.8908854166666667, 0.8932942708333333, 0.8866861979166667, 0.8866536458333333, 0.8949869791666667, 0.8933919270833334, 0.9033203125, 0.9032877604166667, 0.89892578125, 0.9037760416666667, 0.8993815104166667], \"target_val_acc_label\": [0.78828125, 0.8278971354166667, 0.8353190104166667, 0.85634765625, 0.8705403645833333, 0.8682291666666667, 0.8683268229166666, 0.8774739583333333, 0.8785807291666666, 0.8715494791666667, 0.873828125, 0.87783203125, 0.8787109375, 0.88642578125, 0.8853515625, 0.8830403645833333, 0.8841471354166667, 0.8801432291666667]}, \"dataset_metrics\": {\"source\": {\"train\": {\"n_unique_x\": 179200, \"n_unique_y\": 16, \"n_batch/episode\": 6720}, \"val\": {\"n_unique_x\": 38400, \"n_unique_y\": 16, \"n_batch/episode\": 960}, \"test\": {\"n_unique_x\": 38400, \"n_unique_y\": 16, \"n_batch/episode\": 960}}, \"target\": {\"train\": {\"n_unique_x\": 179200, \"n_unique_y\": 16, \"n_batch/episode\": 6720}, \"val\": {\"n_unique_x\": 38400, \"n_unique_y\": 16, \"n_batch/episode\": 960}, \"test\": {\"n_unique_x\": 38400, \"n_unique_y\": 16, \"n_batch/episode\": 960}}}}'"
      ]
     },
     "execution_count": 29,
     "metadata": {},
     "output_type": "execute_result"
    }
   ],
   "source": [
    "json.dumps(experiment)"
   ]
  }
 ],
 "metadata": {
  "celltoolbar": "Tags",
  "kernelspec": {
   "display_name": "Python 3 (ipykernel)",
   "language": "python",
   "name": "python3"
  },
  "language_info": {
   "codemirror_mode": {
    "name": "ipython",
    "version": 3
   },
   "file_extension": ".py",
   "mimetype": "text/x-python",
   "name": "python",
   "nbconvert_exporter": "python",
   "pygments_lexer": "ipython3",
   "version": "3.8.12"
  },
  "papermill": {
   "default_parameters": {},
   "duration": 4942.716089,
   "end_time": "2022-03-22T02:51:36.945232",
   "environment_variables": {},
   "exception": null,
   "input_path": "/root/csc500-main/csc500-notebooks/templates/tl_ptn_template.ipynb",
   "output_path": "trial.ipynb",
   "parameters": {
    "parameters": {
     "BEST_MODEL_PATH": "./best_model.pth",
     "NUM_LOGS_PER_EPOCH": 10,
     "criteria_for_best": "target_accuracy",
     "dataset_seed": 7,
     "datasets": [
      {
       "domain_prefix": "ORACLE.run1_",
       "domains": [
        32,
        38,
        8,
        44,
        14,
        50,
        20,
        26
       ],
       "episode_transforms": [],
       "labels": [
        "3123D52",
        "3123D65",
        "3123D79",
        "3123D80",
        "3123D54",
        "3123D70",
        "3123D7B",
        "3123D89",
        "3123D58",
        "3123D76",
        "3123D7D",
        "3123EFE",
        "3123D64",
        "3123D78",
        "3123D7E",
        "3124E4A"
       ],
       "num_examples_per_domain_per_label": 2000,
       "pickle_path": "/root/csc500-main/datasets/oracle.Run1_framed_2000Examples_stratified_ds.2022A.pkl",
       "source_or_target_dataset": "target",
       "x_transforms": [
        "unit_power"
       ]
      },
      {
       "domain_prefix": "ORACLE.run2_",
       "domains": [
        32,
        38,
        8,
        44,
        14,
        50,
        20,
        26
       ],
       "episode_transforms": [],
       "labels": [
        "3123D52",
        "3123D65",
        "3123D79",
        "3123D80",
        "3123D54",
        "3123D70",
        "3123D7B",
        "3123D89",
        "3123D58",
        "3123D76",
        "3123D7D",
        "3123EFE",
        "3123D64",
        "3123D78",
        "3123D7E",
        "3124E4A"
       ],
       "num_examples_per_domain_per_label": 2000,
       "pickle_path": "/root/csc500-main/datasets/oracle.Run2_framed_2000Examples_stratified_ds.2022A.pkl",
       "source_or_target_dataset": "source",
       "x_transforms": [
        "unit_power"
       ]
      }
     ],
     "device": "cuda",
     "experiment_name": "tl_1v2:oracle.run1.framed-oracle.run2.framed",
     "lr": 0.0001,
     "n_epoch": 50,
     "n_query": 2,
     "n_shot": 3,
     "n_way": 16,
     "patience": 3,
     "seed": 7,
     "test_k_factor": 2,
     "torch_default_dtype": "torch.float32",
     "train_k_factor": 3,
     "val_k_factor": 2,
     "x_net": [
      {
       "class": "nnReshape",
       "kargs": {
        "shape": [
         -1,
         1,
         2,
         256
        ]
       }
      },
      {
       "class": "Conv2d",
       "kargs": {
        "bias": false,
        "in_channels": 1,
        "kernel_size": [
         1,
         7
        ],
        "out_channels": 256,
        "padding": [
         0,
         3
        ]
       }
      },
      {
       "class": "ReLU",
       "kargs": {
        "inplace": true
       }
      },
      {
       "class": "BatchNorm2d",
       "kargs": {
        "num_features": 256
       }
      },
      {
       "class": "Conv2d",
       "kargs": {
        "bias": true,
        "in_channels": 256,
        "kernel_size": [
         2,
         7
        ],
        "out_channels": 80,
        "padding": [
         0,
         3
        ]
       }
      },
      {
       "class": "ReLU",
       "kargs": {
        "inplace": true
       }
      },
      {
       "class": "BatchNorm2d",
       "kargs": {
        "num_features": 80
       }
      },
      {
       "class": "Flatten",
       "kargs": {}
      },
      {
       "class": "Linear",
       "kargs": {
        "in_features": 20480,
        "out_features": 256
       }
      },
      {
       "class": "ReLU",
       "kargs": {
        "inplace": true
       }
      },
      {
       "class": "BatchNorm1d",
       "kargs": {
        "num_features": 256
       }
      },
      {
       "class": "Linear",
       "kargs": {
        "in_features": 256,
        "out_features": 256
       }
      }
     ]
    }
   },
   "start_time": "2022-03-22T01:29:14.229143",
   "version": "2.3.4"
  }
 },
 "nbformat": 4,
 "nbformat_minor": 5
}