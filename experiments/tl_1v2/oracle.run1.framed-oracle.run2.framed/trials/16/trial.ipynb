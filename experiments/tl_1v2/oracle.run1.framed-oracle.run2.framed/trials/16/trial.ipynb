{
 "cells": [
  {
   "cell_type": "markdown",
   "id": "9fea5f46",
   "metadata": {
    "papermill": {
     "duration": 0.027937,
     "end_time": "2022-03-21T21:04:42.447375",
     "exception": false,
     "start_time": "2022-03-21T21:04:42.419438",
     "status": "completed"
    },
    "tags": []
   },
   "source": [
    "# Transfer Learning Template"
   ]
  },
  {
   "cell_type": "code",
   "execution_count": 1,
   "id": "0902182a",
   "metadata": {
    "execution": {
     "iopub.execute_input": "2022-03-21T21:04:42.497593Z",
     "iopub.status.busy": "2022-03-21T21:04:42.497209Z",
     "iopub.status.idle": "2022-03-21T21:04:44.320773Z",
     "shell.execute_reply": "2022-03-21T21:04:44.319938Z"
    },
    "papermill": {
     "duration": 1.850167,
     "end_time": "2022-03-21T21:04:44.320975",
     "exception": false,
     "start_time": "2022-03-21T21:04:42.470808",
     "status": "completed"
    },
    "tags": []
   },
   "outputs": [],
   "source": [
    "%load_ext autoreload\n",
    "%autoreload 2\n",
    "%matplotlib inline\n",
    "\n",
    "    \n",
    "import os, json, sys, time, random\n",
    "import numpy as np\n",
    "import torch\n",
    "from torch.optim import Adam\n",
    "from  easydict import EasyDict\n",
    "import matplotlib.pyplot as plt\n",
    "\n",
    "from steves_models.steves_ptn import Steves_Prototypical_Network\n",
    "\n",
    "from steves_utils.lazy_iterable_wrapper import Lazy_Iterable_Wrapper\n",
    "from steves_utils.iterable_aggregator import Iterable_Aggregator\n",
    "from steves_utils.ptn_train_eval_test_jig import  PTN_Train_Eval_Test_Jig\n",
    "from steves_utils.torch_sequential_builder import build_sequential\n",
    "from steves_utils.torch_utils import get_dataset_metrics, ptn_confusion_by_domain_over_dataloader\n",
    "from steves_utils.utils_v2 import (per_domain_accuracy_from_confusion, get_datasets_base_path)\n",
    "from steves_utils.PTN.utils import independent_accuracy_assesment\n",
    "\n",
    "from torch.utils.data import DataLoader\n",
    "\n",
    "from steves_utils.stratified_dataset.episodic_accessor import Episodic_Accessor_Factory\n",
    "\n",
    "from steves_utils.ptn_do_report import (\n",
    "    get_loss_curve,\n",
    "    get_results_table,\n",
    "    get_parameters_table,\n",
    "    get_domain_accuracies,\n",
    ")\n",
    "\n",
    "from steves_utils.transforms import get_chained_transform"
   ]
  },
  {
   "cell_type": "markdown",
   "id": "41c840b4",
   "metadata": {
    "papermill": {
     "duration": 0.019185,
     "end_time": "2022-03-21T21:04:44.363661",
     "exception": false,
     "start_time": "2022-03-21T21:04:44.344476",
     "status": "completed"
    },
    "tags": []
   },
   "source": [
    "# Allowed Parameters\n",
    "These are allowed parameters, not defaults\n",
    "Each of these values need to be present in the injected parameters (the notebook will raise an exception if they are not present)\n",
    "\n",
    "Papermill uses the cell tag \"parameters\" to inject the real parameters below this cell.\n",
    "Enable tags to see what I mean"
   ]
  },
  {
   "cell_type": "code",
   "execution_count": 2,
   "id": "fd44eb83",
   "metadata": {
    "execution": {
     "iopub.execute_input": "2022-03-21T21:04:44.407618Z",
     "iopub.status.busy": "2022-03-21T21:04:44.406961Z",
     "iopub.status.idle": "2022-03-21T21:04:44.430720Z",
     "shell.execute_reply": "2022-03-21T21:04:44.429939Z"
    },
    "papermill": {
     "duration": 0.048161,
     "end_time": "2022-03-21T21:04:44.430875",
     "exception": false,
     "start_time": "2022-03-21T21:04:44.382714",
     "status": "completed"
    },
    "tags": []
   },
   "outputs": [],
   "source": [
    "required_parameters = {\n",
    "    \"experiment_name\",\n",
    "    \"lr\",\n",
    "    \"device\",\n",
    "    \"seed\",\n",
    "    \"dataset_seed\",\n",
    "    \"n_shot\",\n",
    "    \"n_query\",\n",
    "    \"n_way\",\n",
    "    \"train_k_factor\",\n",
    "    \"val_k_factor\",\n",
    "    \"test_k_factor\",\n",
    "    \"n_epoch\",\n",
    "    \"patience\",\n",
    "    \"criteria_for_best\",\n",
    "    \"x_net\",\n",
    "    \"datasets\",\n",
    "    \"torch_default_dtype\",\n",
    "    \"NUM_LOGS_PER_EPOCH\",\n",
    "    \"BEST_MODEL_PATH\",\n",
    "    \"x_shape\",\n",
    "}"
   ]
  },
  {
   "cell_type": "code",
   "execution_count": 3,
   "id": "fa3f0049",
   "metadata": {
    "execution": {
     "iopub.execute_input": "2022-03-21T21:04:44.490826Z",
     "iopub.status.busy": "2022-03-21T21:04:44.484809Z",
     "iopub.status.idle": "2022-03-21T21:04:44.512967Z",
     "shell.execute_reply": "2022-03-21T21:04:44.512263Z"
    },
    "papermill": {
     "duration": 0.055591,
     "end_time": "2022-03-21T21:04:44.513125",
     "exception": false,
     "start_time": "2022-03-21T21:04:44.457534",
     "status": "completed"
    },
    "tags": [
     "parameters"
    ]
   },
   "outputs": [],
   "source": [
    "from steves_utils.CORES.utils import (\n",
    "    ALL_NODES,\n",
    "    ALL_NODES_MINIMUM_1000_EXAMPLES,\n",
    "    ALL_DAYS\n",
    ")\n",
    "\n",
    "from steves_utils.ORACLE.utils_v2 import (\n",
    "    ALL_DISTANCES_FEET_NARROWED,\n",
    "    ALL_RUNS,\n",
    "    ALL_SERIAL_NUMBERS,\n",
    ")\n",
    "\n",
    "standalone_parameters = {}\n",
    "standalone_parameters[\"experiment_name\"] = \"STANDALONE PTN\"\n",
    "standalone_parameters[\"lr\"] = 0.001\n",
    "standalone_parameters[\"device\"] = \"cuda\"\n",
    "\n",
    "standalone_parameters[\"seed\"] = 1337\n",
    "standalone_parameters[\"dataset_seed\"] = 1337\n",
    "\n",
    "standalone_parameters[\"n_way\"] = 8\n",
    "standalone_parameters[\"n_shot\"] = 3\n",
    "standalone_parameters[\"n_query\"]  = 2\n",
    "standalone_parameters[\"train_k_factor\"] = 1\n",
    "standalone_parameters[\"val_k_factor\"] = 2\n",
    "standalone_parameters[\"test_k_factor\"] = 2\n",
    "\n",
    "\n",
    "standalone_parameters[\"n_epoch\"] = 50\n",
    "\n",
    "standalone_parameters[\"patience\"] = 10\n",
    "standalone_parameters[\"criteria_for_best\"] = \"source_loss\"\n",
    "\n",
    "standalone_parameters[\"datasets\"] = [\n",
    "    {\n",
    "        \"labels\": ALL_SERIAL_NUMBERS,\n",
    "        \"domains\": ALL_DISTANCES_FEET_NARROWED,\n",
    "        \"num_examples_per_domain_per_label\": 100,\n",
    "        \"pickle_path\": os.path.join(get_datasets_base_path(), \"oracle.Run1_framed_2000Examples_stratified_ds.2022A.pkl\"),\n",
    "        \"source_or_target_dataset\": \"source\",\n",
    "        \"x_transforms\": [\"unit_mag\", \"minus_two\"],\n",
    "        \"episode_transforms\": [],\n",
    "        \"domain_prefix\": \"ORACLE_\"\n",
    "    },\n",
    "    {\n",
    "        \"labels\": ALL_NODES,\n",
    "        \"domains\": ALL_DAYS,\n",
    "        \"num_examples_per_domain_per_label\": 100,\n",
    "        \"pickle_path\": os.path.join(get_datasets_base_path(), \"cores.stratified_ds.2022A.pkl\"),\n",
    "        \"source_or_target_dataset\": \"target\",\n",
    "        \"x_transforms\": [\"unit_power\", \"times_zero\"],\n",
    "        \"episode_transforms\": [],\n",
    "        \"domain_prefix\": \"CORES_\"\n",
    "    }   \n",
    "]\n",
    "\n",
    "standalone_parameters[\"torch_default_dtype\"] = \"torch.float32\" \n",
    "\n",
    "\n",
    "\n",
    "standalone_parameters[\"x_net\"] =     [\n",
    "    {\"class\": \"nnReshape\", \"kargs\": {\"shape\":[-1, 1, 2, 256]}},\n",
    "    {\"class\": \"Conv2d\", \"kargs\": { \"in_channels\":1, \"out_channels\":256, \"kernel_size\":(1,7), \"bias\":False, \"padding\":(0,3), },},\n",
    "    {\"class\": \"ReLU\", \"kargs\": {\"inplace\": True}},\n",
    "    {\"class\": \"BatchNorm2d\", \"kargs\": {\"num_features\":256}},\n",
    "\n",
    "    {\"class\": \"Conv2d\", \"kargs\": { \"in_channels\":256, \"out_channels\":80, \"kernel_size\":(2,7), \"bias\":True, \"padding\":(0,3), },},\n",
    "    {\"class\": \"ReLU\", \"kargs\": {\"inplace\": True}},\n",
    "    {\"class\": \"BatchNorm2d\", \"kargs\": {\"num_features\":80}},\n",
    "    {\"class\": \"Flatten\", \"kargs\": {}},\n",
    "\n",
    "    {\"class\": \"Linear\", \"kargs\": {\"in_features\": 80*256, \"out_features\": 256}}, # 80 units per IQ pair\n",
    "    {\"class\": \"ReLU\", \"kargs\": {\"inplace\": True}},\n",
    "    {\"class\": \"BatchNorm1d\", \"kargs\": {\"num_features\":256}},\n",
    "\n",
    "    {\"class\": \"Linear\", \"kargs\": {\"in_features\": 256, \"out_features\": 256}},\n",
    "]\n",
    "\n",
    "# Parameters relevant to results\n",
    "# These parameters will basically never need to change\n",
    "standalone_parameters[\"NUM_LOGS_PER_EPOCH\"] = 10\n",
    "standalone_parameters[\"BEST_MODEL_PATH\"] = \"./best_model.pth\"\n",
    "\n",
    "\n",
    "\n",
    "\n"
   ]
  },
  {
   "cell_type": "code",
   "execution_count": 4,
   "id": "e91f2125",
   "metadata": {
    "execution": {
     "iopub.execute_input": "2022-03-21T21:04:44.574454Z",
     "iopub.status.busy": "2022-03-21T21:04:44.573543Z",
     "iopub.status.idle": "2022-03-21T21:04:44.594498Z",
     "shell.execute_reply": "2022-03-21T21:04:44.593703Z"
    },
    "papermill": {
     "duration": 0.056038,
     "end_time": "2022-03-21T21:04:44.594653",
     "exception": false,
     "start_time": "2022-03-21T21:04:44.538615",
     "status": "completed"
    },
    "tags": [
     "injected-parameters"
    ]
   },
   "outputs": [],
   "source": [
    "# Parameters\n",
    "parameters = {\n",
    "    \"experiment_name\": \"tl_1v2:oracle.run1.framed-oracle.run2.framed\",\n",
    "    \"device\": \"cuda\",\n",
    "    \"lr\": 0.0001,\n",
    "    \"n_shot\": 3,\n",
    "    \"n_query\": 2,\n",
    "    \"train_k_factor\": 3,\n",
    "    \"val_k_factor\": 2,\n",
    "    \"test_k_factor\": 2,\n",
    "    \"torch_default_dtype\": \"torch.float32\",\n",
    "    \"n_epoch\": 50,\n",
    "    \"patience\": 3,\n",
    "    \"criteria_for_best\": \"target_accuracy\",\n",
    "    \"x_net\": [\n",
    "        {\"class\": \"nnReshape\", \"kargs\": {\"shape\": [-1, 1, 2, 256]}},\n",
    "        {\n",
    "            \"class\": \"Conv2d\",\n",
    "            \"kargs\": {\n",
    "                \"in_channels\": 1,\n",
    "                \"out_channels\": 256,\n",
    "                \"kernel_size\": [1, 7],\n",
    "                \"bias\": False,\n",
    "                \"padding\": [0, 3],\n",
    "            },\n",
    "        },\n",
    "        {\"class\": \"ReLU\", \"kargs\": {\"inplace\": True}},\n",
    "        {\"class\": \"BatchNorm2d\", \"kargs\": {\"num_features\": 256}},\n",
    "        {\n",
    "            \"class\": \"Conv2d\",\n",
    "            \"kargs\": {\n",
    "                \"in_channels\": 256,\n",
    "                \"out_channels\": 80,\n",
    "                \"kernel_size\": [2, 7],\n",
    "                \"bias\": True,\n",
    "                \"padding\": [0, 3],\n",
    "            },\n",
    "        },\n",
    "        {\"class\": \"ReLU\", \"kargs\": {\"inplace\": True}},\n",
    "        {\"class\": \"BatchNorm2d\", \"kargs\": {\"num_features\": 80}},\n",
    "        {\"class\": \"Flatten\", \"kargs\": {}},\n",
    "        {\"class\": \"Linear\", \"kargs\": {\"in_features\": 20480, \"out_features\": 256}},\n",
    "        {\"class\": \"ReLU\", \"kargs\": {\"inplace\": True}},\n",
    "        {\"class\": \"BatchNorm1d\", \"kargs\": {\"num_features\": 256}},\n",
    "        {\"class\": \"Linear\", \"kargs\": {\"in_features\": 256, \"out_features\": 256}},\n",
    "    ],\n",
    "    \"NUM_LOGS_PER_EPOCH\": 10,\n",
    "    \"BEST_MODEL_PATH\": \"./best_model.pth\",\n",
    "    \"n_way\": 16,\n",
    "    \"datasets\": [\n",
    "        {\n",
    "            \"labels\": [\n",
    "                \"3123D52\",\n",
    "                \"3123D65\",\n",
    "                \"3123D79\",\n",
    "                \"3123D80\",\n",
    "                \"3123D54\",\n",
    "                \"3123D70\",\n",
    "                \"3123D7B\",\n",
    "                \"3123D89\",\n",
    "                \"3123D58\",\n",
    "                \"3123D76\",\n",
    "                \"3123D7D\",\n",
    "                \"3123EFE\",\n",
    "                \"3123D64\",\n",
    "                \"3123D78\",\n",
    "                \"3123D7E\",\n",
    "                \"3124E4A\",\n",
    "            ],\n",
    "            \"domains\": [32, 38, 8, 44, 14, 50, 20, 26],\n",
    "            \"num_examples_per_domain_per_label\": 2000,\n",
    "            \"pickle_path\": \"/root/csc500-main/datasets/oracle.Run1_framed_2000Examples_stratified_ds.2022A.pkl\",\n",
    "            \"source_or_target_dataset\": \"target\",\n",
    "            \"x_transforms\": [\"unit_mag\"],\n",
    "            \"episode_transforms\": [],\n",
    "            \"domain_prefix\": \"ORACLE.run1_\",\n",
    "        },\n",
    "        {\n",
    "            \"labels\": [\n",
    "                \"3123D52\",\n",
    "                \"3123D65\",\n",
    "                \"3123D79\",\n",
    "                \"3123D80\",\n",
    "                \"3123D54\",\n",
    "                \"3123D70\",\n",
    "                \"3123D7B\",\n",
    "                \"3123D89\",\n",
    "                \"3123D58\",\n",
    "                \"3123D76\",\n",
    "                \"3123D7D\",\n",
    "                \"3123EFE\",\n",
    "                \"3123D64\",\n",
    "                \"3123D78\",\n",
    "                \"3123D7E\",\n",
    "                \"3124E4A\",\n",
    "            ],\n",
    "            \"domains\": [32, 38, 8, 44, 14, 50, 20, 26],\n",
    "            \"num_examples_per_domain_per_label\": 2000,\n",
    "            \"pickle_path\": \"/root/csc500-main/datasets/oracle.Run2_framed_2000Examples_stratified_ds.2022A.pkl\",\n",
    "            \"source_or_target_dataset\": \"source\",\n",
    "            \"x_transforms\": [\"unit_mag\"],\n",
    "            \"episode_transforms\": [],\n",
    "            \"domain_prefix\": \"ORACLE.run2_\",\n",
    "        },\n",
    "    ],\n",
    "    \"dataset_seed\": 154325,\n",
    "    \"seed\": 154325,\n",
    "}\n"
   ]
  },
  {
   "cell_type": "code",
   "execution_count": 5,
   "id": "8fa1cc33",
   "metadata": {
    "execution": {
     "iopub.execute_input": "2022-03-21T21:04:44.643343Z",
     "iopub.status.busy": "2022-03-21T21:04:44.642970Z",
     "iopub.status.idle": "2022-03-21T21:04:44.663246Z",
     "shell.execute_reply": "2022-03-21T21:04:44.662583Z"
    },
    "papermill": {
     "duration": 0.043859,
     "end_time": "2022-03-21T21:04:44.663405",
     "exception": false,
     "start_time": "2022-03-21T21:04:44.619546",
     "status": "completed"
    },
    "tags": []
   },
   "outputs": [],
   "source": [
    "# Set this to True if you want to run this template directly\n",
    "STANDALONE = False\n",
    "if STANDALONE:\n",
    "    print(\"parameters not injected, running with standalone_parameters\")\n",
    "    parameters = standalone_parameters\n",
    "\n",
    "if not 'parameters' in locals() and not 'parameters' in globals():\n",
    "    raise Exception(\"Parameter injection failed\")\n",
    "\n",
    "#Use an easy dict for all the parameters\n",
    "p = EasyDict(parameters)\n",
    "\n",
    "if \"x_shape\" not in p:\n",
    "    p.x_shape = [2,256] # Default to this if we dont supply x_shape\n",
    "\n",
    "\n",
    "supplied_keys = set(p.keys())\n",
    "\n",
    "if  supplied_keys != required_parameters:\n",
    "    print(\"Parameters are incorrect\")\n",
    "    if len(supplied_keys - required_parameters)>0: print(\"Shouldn't have:\", str(supplied_keys - required_parameters))\n",
    "    if len(required_parameters - supplied_keys)>0: print(\"Need to have:\", str(required_parameters - supplied_keys))\n",
    "    raise RuntimeError(\"Parameters are incorrect\")"
   ]
  },
  {
   "cell_type": "code",
   "execution_count": 6,
   "id": "3a028d58",
   "metadata": {
    "execution": {
     "iopub.execute_input": "2022-03-21T21:04:44.712104Z",
     "iopub.status.busy": "2022-03-21T21:04:44.711464Z",
     "iopub.status.idle": "2022-03-21T21:04:44.733557Z",
     "shell.execute_reply": "2022-03-21T21:04:44.732760Z"
    },
    "papermill": {
     "duration": 0.045922,
     "end_time": "2022-03-21T21:04:44.733711",
     "exception": false,
     "start_time": "2022-03-21T21:04:44.687789",
     "status": "completed"
    },
    "tags": []
   },
   "outputs": [],
   "source": [
    "###################################\n",
    "# Set the RNGs and make it all deterministic\n",
    "###################################\n",
    "np.random.seed(p.seed)\n",
    "random.seed(p.seed)\n",
    "torch.manual_seed(p.seed)\n",
    "\n",
    "torch.use_deterministic_algorithms(True) "
   ]
  },
  {
   "cell_type": "code",
   "execution_count": 7,
   "id": "b691acf6",
   "metadata": {
    "execution": {
     "iopub.execute_input": "2022-03-21T21:04:44.782904Z",
     "iopub.status.busy": "2022-03-21T21:04:44.781956Z",
     "iopub.status.idle": "2022-03-21T21:04:44.804350Z",
     "shell.execute_reply": "2022-03-21T21:04:44.803554Z"
    },
    "papermill": {
     "duration": 0.045434,
     "end_time": "2022-03-21T21:04:44.804503",
     "exception": false,
     "start_time": "2022-03-21T21:04:44.759069",
     "status": "completed"
    },
    "tags": []
   },
   "outputs": [],
   "source": [
    "###########################################\n",
    "# The stratified datasets honor this\n",
    "###########################################\n",
    "torch.set_default_dtype(eval(p.torch_default_dtype))"
   ]
  },
  {
   "cell_type": "code",
   "execution_count": 8,
   "id": "b5fba671",
   "metadata": {
    "execution": {
     "iopub.execute_input": "2022-03-21T21:04:44.855345Z",
     "iopub.status.busy": "2022-03-21T21:04:44.854982Z",
     "iopub.status.idle": "2022-03-21T21:04:44.912722Z",
     "shell.execute_reply": "2022-03-21T21:04:44.911987Z"
    },
    "papermill": {
     "duration": 0.08057,
     "end_time": "2022-03-21T21:04:44.912900",
     "exception": false,
     "start_time": "2022-03-21T21:04:44.832330",
     "status": "completed"
    },
    "tags": []
   },
   "outputs": [],
   "source": [
    "###################################\n",
    "# Build the network(s)\n",
    "# Note: It's critical to do this AFTER setting the RNG\n",
    "###################################\n",
    "x_net = build_sequential(p.x_net)"
   ]
  },
  {
   "cell_type": "code",
   "execution_count": 9,
   "id": "5d7e61cc",
   "metadata": {
    "execution": {
     "iopub.execute_input": "2022-03-21T21:04:44.960021Z",
     "iopub.status.busy": "2022-03-21T21:04:44.959525Z",
     "iopub.status.idle": "2022-03-21T21:04:44.982492Z",
     "shell.execute_reply": "2022-03-21T21:04:44.981695Z"
    },
    "papermill": {
     "duration": 0.045468,
     "end_time": "2022-03-21T21:04:44.982646",
     "exception": false,
     "start_time": "2022-03-21T21:04:44.937178",
     "status": "completed"
    },
    "tags": []
   },
   "outputs": [],
   "source": [
    "start_time_secs = time.time()"
   ]
  },
  {
   "cell_type": "code",
   "execution_count": 10,
   "id": "c6b67dfd",
   "metadata": {
    "execution": {
     "iopub.execute_input": "2022-03-21T21:04:45.032153Z",
     "iopub.status.busy": "2022-03-21T21:04:45.031789Z",
     "iopub.status.idle": "2022-03-21T21:04:45.055067Z",
     "shell.execute_reply": "2022-03-21T21:04:45.054275Z"
    },
    "papermill": {
     "duration": 0.047611,
     "end_time": "2022-03-21T21:04:45.055218",
     "exception": false,
     "start_time": "2022-03-21T21:04:45.007607",
     "status": "completed"
    },
    "tags": []
   },
   "outputs": [],
   "source": [
    "p.domains_source = []\n",
    "p.domains_target = []\n",
    "\n",
    "\n",
    "train_original_source = []\n",
    "val_original_source   = []\n",
    "test_original_source  = []\n",
    "\n",
    "train_original_target = []\n",
    "val_original_target   = []\n",
    "test_original_target  = []"
   ]
  },
  {
   "cell_type": "code",
   "execution_count": 11,
   "id": "e3d9c3d3",
   "metadata": {
    "execution": {
     "iopub.execute_input": "2022-03-21T21:04:45.106119Z",
     "iopub.status.busy": "2022-03-21T21:04:45.105324Z",
     "iopub.status.idle": "2022-03-21T21:04:45.130137Z",
     "shell.execute_reply": "2022-03-21T21:04:45.129343Z"
    },
    "papermill": {
     "duration": 0.04782,
     "end_time": "2022-03-21T21:04:45.130292",
     "exception": false,
     "start_time": "2022-03-21T21:04:45.082472",
     "status": "completed"
    },
    "tags": []
   },
   "outputs": [],
   "source": [
    "# global_x_transform_func = lambda x: normalize(x.to(torch.get_default_dtype()), \"unit_power\") # unit_power, unit_mag\n",
    "# global_x_transform_func = lambda x: normalize(x, \"unit_power\") # unit_power, unit_mag"
   ]
  },
  {
   "cell_type": "code",
   "execution_count": 12,
   "id": "acb78fd2",
   "metadata": {
    "execution": {
     "iopub.execute_input": "2022-03-21T21:04:45.183040Z",
     "iopub.status.busy": "2022-03-21T21:04:45.182655Z",
     "iopub.status.idle": "2022-03-21T21:04:45.203249Z",
     "shell.execute_reply": "2022-03-21T21:04:45.202553Z"
    },
    "papermill": {
     "duration": 0.047662,
     "end_time": "2022-03-21T21:04:45.203405",
     "exception": false,
     "start_time": "2022-03-21T21:04:45.155743",
     "status": "completed"
    },
    "tags": []
   },
   "outputs": [],
   "source": [
    "def add_dataset(\n",
    "    labels,\n",
    "    domains,\n",
    "    pickle_path,\n",
    "    x_transforms,\n",
    "    episode_transforms,\n",
    "    domain_prefix,\n",
    "    num_examples_per_domain_per_label,\n",
    "    source_or_target_dataset:str,\n",
    "    iterator_seed=p.seed,\n",
    "    dataset_seed=p.dataset_seed,\n",
    "    n_shot=p.n_shot,\n",
    "    n_way=p.n_way,\n",
    "    n_query=p.n_query,\n",
    "    train_val_test_k_factors=(p.train_k_factor,p.val_k_factor,p.test_k_factor),\n",
    "):\n",
    "   \n",
    "    if x_transforms == []: x_transform = None\n",
    "    else: x_transform = get_chained_transform(x_transforms)\n",
    "    \n",
    "    if episode_transforms == []: episode_transform = None\n",
    "    else: raise Exception(\"episode_transforms not implemented\")\n",
    "    \n",
    "    episode_transform = lambda tup, _prefix=domain_prefix: (_prefix + str(tup[0]), tup[1])\n",
    "\n",
    "\n",
    "    eaf = Episodic_Accessor_Factory(\n",
    "        labels=labels,\n",
    "        domains=domains,\n",
    "        num_examples_per_domain_per_label=num_examples_per_domain_per_label,\n",
    "        iterator_seed=iterator_seed,\n",
    "        dataset_seed=dataset_seed,\n",
    "        n_shot=n_shot,\n",
    "        n_way=n_way,\n",
    "        n_query=n_query,\n",
    "        train_val_test_k_factors=train_val_test_k_factors,\n",
    "        pickle_path=pickle_path,\n",
    "        x_transform_func=x_transform,\n",
    "    )\n",
    "\n",
    "    train, val, test = eaf.get_train(), eaf.get_val(), eaf.get_test()\n",
    "    train = Lazy_Iterable_Wrapper(train, episode_transform)\n",
    "    val = Lazy_Iterable_Wrapper(val, episode_transform)\n",
    "    test = Lazy_Iterable_Wrapper(test, episode_transform)\n",
    "\n",
    "    if source_or_target_dataset==\"source\":\n",
    "        train_original_source.append(train)\n",
    "        val_original_source.append(val)\n",
    "        test_original_source.append(test)\n",
    "\n",
    "        p.domains_source.extend(\n",
    "            [domain_prefix + str(u) for u in domains]\n",
    "        )\n",
    "    elif source_or_target_dataset==\"target\":\n",
    "        train_original_target.append(train)\n",
    "        val_original_target.append(val)\n",
    "        test_original_target.append(test)\n",
    "        p.domains_target.extend(\n",
    "            [domain_prefix + str(u) for u in domains]\n",
    "        )\n",
    "    else:\n",
    "        raise Exception(f\"invalid source_or_target_dataset: {source_or_target_dataset}\")\n",
    "    "
   ]
  },
  {
   "cell_type": "code",
   "execution_count": 13,
   "id": "fe266617",
   "metadata": {
    "execution": {
     "iopub.execute_input": "2022-03-21T21:04:45.253006Z",
     "iopub.status.busy": "2022-03-21T21:04:45.252457Z",
     "iopub.status.idle": "2022-03-21T21:05:28.237101Z",
     "shell.execute_reply": "2022-03-21T21:05:28.236366Z"
    },
    "papermill": {
     "duration": 43.008718,
     "end_time": "2022-03-21T21:05:28.237292",
     "exception": false,
     "start_time": "2022-03-21T21:04:45.228574",
     "status": "completed"
    },
    "tags": []
   },
   "outputs": [],
   "source": [
    "for ds in p.datasets:\n",
    "    add_dataset(**ds)"
   ]
  },
  {
   "cell_type": "code",
   "execution_count": 14,
   "id": "b90d65ac",
   "metadata": {
    "execution": {
     "iopub.execute_input": "2022-03-21T21:05:28.286963Z",
     "iopub.status.busy": "2022-03-21T21:05:28.286584Z",
     "iopub.status.idle": "2022-03-21T21:05:28.312055Z",
     "shell.execute_reply": "2022-03-21T21:05:28.311222Z"
    },
    "papermill": {
     "duration": 0.04981,
     "end_time": "2022-03-21T21:05:28.312228",
     "exception": false,
     "start_time": "2022-03-21T21:05:28.262418",
     "status": "completed"
    },
    "tags": []
   },
   "outputs": [],
   "source": [
    "# from steves_utils.CORES.utils import (\n",
    "#     ALL_NODES,\n",
    "#     ALL_NODES_MINIMUM_1000_EXAMPLES,\n",
    "#     ALL_DAYS\n",
    "# )\n",
    "\n",
    "# add_dataset(\n",
    "#     labels=ALL_NODES,\n",
    "#     domains = ALL_DAYS,\n",
    "#     num_examples_per_domain_per_label=100,\n",
    "#     pickle_path=os.path.join(get_datasets_base_path(), \"cores.stratified_ds.2022A.pkl\"),\n",
    "#     source_or_target_dataset=\"target\",\n",
    "#     x_transform_func=global_x_transform_func,\n",
    "#     domain_modifier=lambda u: f\"cores_{u}\"\n",
    "# )"
   ]
  },
  {
   "cell_type": "code",
   "execution_count": 15,
   "id": "76db484d",
   "metadata": {
    "execution": {
     "iopub.execute_input": "2022-03-21T21:05:28.363786Z",
     "iopub.status.busy": "2022-03-21T21:05:28.363154Z",
     "iopub.status.idle": "2022-03-21T21:05:28.386043Z",
     "shell.execute_reply": "2022-03-21T21:05:28.385349Z"
    },
    "papermill": {
     "duration": 0.046697,
     "end_time": "2022-03-21T21:05:28.386201",
     "exception": false,
     "start_time": "2022-03-21T21:05:28.339504",
     "status": "completed"
    },
    "tags": []
   },
   "outputs": [],
   "source": [
    "# from steves_utils.ORACLE.utils_v2 import (\n",
    "#     ALL_DISTANCES_FEET,\n",
    "#     ALL_RUNS,\n",
    "#     ALL_SERIAL_NUMBERS,\n",
    "# )\n",
    "\n",
    "\n",
    "# add_dataset(\n",
    "#     labels=ALL_SERIAL_NUMBERS,\n",
    "#     domains = list(set(ALL_DISTANCES_FEET) - {2,62}),\n",
    "#     num_examples_per_domain_per_label=100,\n",
    "#     pickle_path=os.path.join(get_datasets_base_path(), \"oracle.Run2_framed_2000Examples_stratified_ds.2022A.pkl\"),\n",
    "#     source_or_target_dataset=\"source\",\n",
    "#     x_transform_func=global_x_transform_func,\n",
    "#     domain_modifier=lambda u: f\"oracle1_{u}\"\n",
    "# )\n"
   ]
  },
  {
   "cell_type": "code",
   "execution_count": 16,
   "id": "97dea9d2",
   "metadata": {
    "execution": {
     "iopub.execute_input": "2022-03-21T21:05:28.436810Z",
     "iopub.status.busy": "2022-03-21T21:05:28.436021Z",
     "iopub.status.idle": "2022-03-21T21:05:28.459275Z",
     "shell.execute_reply": "2022-03-21T21:05:28.458475Z"
    },
    "papermill": {
     "duration": 0.04713,
     "end_time": "2022-03-21T21:05:28.459433",
     "exception": false,
     "start_time": "2022-03-21T21:05:28.412303",
     "status": "completed"
    },
    "tags": []
   },
   "outputs": [],
   "source": [
    "# from steves_utils.ORACLE.utils_v2 import (\n",
    "#     ALL_DISTANCES_FEET,\n",
    "#     ALL_RUNS,\n",
    "#     ALL_SERIAL_NUMBERS,\n",
    "# )\n",
    "\n",
    "\n",
    "# add_dataset(\n",
    "#     labels=ALL_SERIAL_NUMBERS,\n",
    "#     domains = list(set(ALL_DISTANCES_FEET) - {2,62,56}),\n",
    "#     num_examples_per_domain_per_label=100,\n",
    "#     pickle_path=os.path.join(get_datasets_base_path(), \"oracle.Run2_framed_2000Examples_stratified_ds.2022A.pkl\"),\n",
    "#     source_or_target_dataset=\"source\",\n",
    "#     x_transform_func=global_x_transform_func,\n",
    "#     domain_modifier=lambda u: f\"oracle2_{u}\"\n",
    "# )"
   ]
  },
  {
   "cell_type": "code",
   "execution_count": 17,
   "id": "6f289866",
   "metadata": {
    "execution": {
     "iopub.execute_input": "2022-03-21T21:05:28.512165Z",
     "iopub.status.busy": "2022-03-21T21:05:28.511452Z",
     "iopub.status.idle": "2022-03-21T21:05:28.534961Z",
     "shell.execute_reply": "2022-03-21T21:05:28.534171Z"
    },
    "papermill": {
     "duration": 0.047848,
     "end_time": "2022-03-21T21:05:28.535117",
     "exception": false,
     "start_time": "2022-03-21T21:05:28.487269",
     "status": "completed"
    },
    "tags": []
   },
   "outputs": [],
   "source": [
    "# add_dataset(\n",
    "#     labels=list(range(19)),\n",
    "#     domains = [0,1,2],\n",
    "#     num_examples_per_domain_per_label=100,\n",
    "#     pickle_path=os.path.join(get_datasets_base_path(), \"metehan.stratified_ds.2022A.pkl\"),\n",
    "#     source_or_target_dataset=\"target\",\n",
    "#     x_transform_func=global_x_transform_func,\n",
    "#     domain_modifier=lambda u: f\"met_{u}\"\n",
    "# )"
   ]
  },
  {
   "cell_type": "code",
   "execution_count": 18,
   "id": "86a863c3",
   "metadata": {
    "execution": {
     "iopub.execute_input": "2022-03-21T21:05:28.584566Z",
     "iopub.status.busy": "2022-03-21T21:05:28.584198Z",
     "iopub.status.idle": "2022-03-21T21:05:28.602990Z",
     "shell.execute_reply": "2022-03-21T21:05:28.602219Z"
    },
    "papermill": {
     "duration": 0.041837,
     "end_time": "2022-03-21T21:05:28.603147",
     "exception": false,
     "start_time": "2022-03-21T21:05:28.561310",
     "status": "completed"
    },
    "tags": []
   },
   "outputs": [],
   "source": [
    "# # from steves_utils.wisig.utils import (\n",
    "# #     ALL_NODES_MINIMUM_100_EXAMPLES,\n",
    "# #     ALL_NODES_MINIMUM_500_EXAMPLES,\n",
    "# #     ALL_NODES_MINIMUM_1000_EXAMPLES,\n",
    "# #     ALL_DAYS\n",
    "# # )\n",
    "\n",
    "# import steves_utils.wisig.utils as wisig\n",
    "\n",
    "\n",
    "# add_dataset(\n",
    "#     labels=wisig.ALL_NODES_MINIMUM_100_EXAMPLES,\n",
    "#     domains = wisig.ALL_DAYS,\n",
    "#     num_examples_per_domain_per_label=100,\n",
    "#     pickle_path=os.path.join(get_datasets_base_path(), \"wisig.node3-19.stratified_ds.2022A.pkl\"),\n",
    "#     source_or_target_dataset=\"target\",\n",
    "#     x_transform_func=global_x_transform_func,\n",
    "#     domain_modifier=lambda u: f\"wisig_{u}\"\n",
    "# )"
   ]
  },
  {
   "cell_type": "code",
   "execution_count": 19,
   "id": "fd5442bc",
   "metadata": {
    "execution": {
     "iopub.execute_input": "2022-03-21T21:05:28.658144Z",
     "iopub.status.busy": "2022-03-21T21:05:28.657492Z",
     "iopub.status.idle": "2022-03-21T21:05:28.677054Z",
     "shell.execute_reply": "2022-03-21T21:05:28.677709Z"
    },
    "papermill": {
     "duration": 0.04667,
     "end_time": "2022-03-21T21:05:28.677893",
     "exception": false,
     "start_time": "2022-03-21T21:05:28.631223",
     "status": "completed"
    },
    "tags": []
   },
   "outputs": [],
   "source": [
    "###################################\n",
    "# Build the dataset\n",
    "###################################\n",
    "train_original_source = Iterable_Aggregator(train_original_source, p.seed)\n",
    "val_original_source = Iterable_Aggregator(val_original_source, p.seed)\n",
    "test_original_source = Iterable_Aggregator(test_original_source, p.seed)\n",
    "\n",
    "\n",
    "train_original_target = Iterable_Aggregator(train_original_target, p.seed)\n",
    "val_original_target = Iterable_Aggregator(val_original_target, p.seed)\n",
    "test_original_target = Iterable_Aggregator(test_original_target, p.seed)\n",
    "\n",
    "# For CNN We only use X and Y. And we only train on the source.\n",
    "# Properly form the data using a transform lambda and Lazy_Iterable_Wrapper. Finally wrap them in a dataloader\n",
    "\n",
    "transform_lambda = lambda ex: ex[1] # Original is (<domain>, <episode>) so we strip down to episode only\n",
    "\n",
    "train_processed_source = Lazy_Iterable_Wrapper(train_original_source, transform_lambda)\n",
    "val_processed_source   = Lazy_Iterable_Wrapper(val_original_source, transform_lambda)\n",
    "test_processed_source  = Lazy_Iterable_Wrapper(test_original_source, transform_lambda)\n",
    "\n",
    "train_processed_target = Lazy_Iterable_Wrapper(train_original_target, transform_lambda)\n",
    "val_processed_target   = Lazy_Iterable_Wrapper(val_original_target, transform_lambda)\n",
    "test_processed_target  = Lazy_Iterable_Wrapper(test_original_target, transform_lambda)\n",
    "\n",
    "datasets = EasyDict({\n",
    "    \"source\": {\n",
    "        \"original\": {\"train\":train_original_source, \"val\":val_original_source, \"test\":test_original_source},\n",
    "        \"processed\": {\"train\":train_processed_source, \"val\":val_processed_source, \"test\":test_processed_source}\n",
    "    },\n",
    "    \"target\": {\n",
    "        \"original\": {\"train\":train_original_target, \"val\":val_original_target, \"test\":test_original_target},\n",
    "        \"processed\": {\"train\":train_processed_target, \"val\":val_processed_target, \"test\":test_processed_target}\n",
    "    },\n",
    "})"
   ]
  },
  {
   "cell_type": "code",
   "execution_count": 20,
   "id": "5b3c01fc",
   "metadata": {
    "execution": {
     "iopub.execute_input": "2022-03-21T21:05:28.729065Z",
     "iopub.status.busy": "2022-03-21T21:05:28.728696Z",
     "iopub.status.idle": "2022-03-21T21:05:42.733705Z",
     "shell.execute_reply": "2022-03-21T21:05:42.732874Z"
    },
    "papermill": {
     "duration": 14.029176,
     "end_time": "2022-03-21T21:05:42.733880",
     "exception": false,
     "start_time": "2022-03-21T21:05:28.704704",
     "status": "completed"
    },
    "tags": []
   },
   "outputs": [
    {
     "name": "stdout",
     "output_type": "stream",
     "text": [
      "{'ORACLE.run2_38', 'ORACLE.run2_8', 'ORACLE.run2_20', 'ORACLE.run2_26', 'ORACLE.run2_44', 'ORACLE.run2_32', 'ORACLE.run2_50', 'ORACLE.run2_14'}\n"
     ]
    },
    {
     "name": "stdout",
     "output_type": "stream",
     "text": [
      "{'ORACLE.run1_32', 'ORACLE.run1_50', 'ORACLE.run1_14', 'ORACLE.run1_8', 'ORACLE.run1_20', 'ORACLE.run1_38', 'ORACLE.run1_26', 'ORACLE.run1_44'}\n"
     ]
    },
    {
     "name": "stdout",
     "output_type": "stream",
     "text": [
      "tensor([[[-1.0766, -0.3126,  1.2850,  ...,  0.1836, -0.6599,  1.1312],\n",
      "         [ 0.0149, -0.5904, -0.1240,  ...,  0.8286,  1.1362,  0.7591]],\n",
      "\n",
      "        [[-0.8391,  0.1648,  1.0988,  ..., -0.5744, -1.0488,  0.7242],\n",
      "         [-0.7642, -0.5744,  0.7192,  ...,  0.7691,  0.5044,  1.3185]],\n",
      "\n",
      "        [[-0.1688,  1.1118, -0.1390,  ..., -0.9976,  0.3425,  0.1241],\n",
      "         [-0.2879,  0.1886,  0.5609,  ...,  0.1439, -1.1068, -1.1763]],\n",
      "\n",
      "        ...,\n",
      "\n",
      "        [[ 0.9548, -0.4579, -1.0665,  ...,  0.7538,  0.9828, -0.7036],\n",
      "         [ 0.7482,  0.5137, -0.6421,  ..., -0.7762, -0.5360, -1.2954]],\n",
      "\n",
      "        [[-0.2101, -1.1502,  0.5696,  ...,  1.0451, -0.7686, -0.1327],\n",
      "         [ 0.3263, -0.5143, -0.4977,  ...,  0.3428,  1.0617,  1.0230]],\n",
      "\n",
      "        [[-0.1846,  0.8503,  0.2573,  ..., -0.6210, -0.8168, -1.0350],\n",
      "         [-0.4196, -1.0294,  0.7832,  ...,  0.7105, -1.0797, -0.1622]]])\n"
     ]
    }
   ],
   "source": [
    "from steves_utils.transforms import get_average_magnitude, get_average_power\n",
    "\n",
    "print(set([u for u,_ in val_original_source]))\n",
    "print(set([u for u,_ in val_original_target]))\n",
    "\n",
    "s_x, s_y, q_x, q_y, _ = next(iter(train_processed_source))\n",
    "print(s_x)\n",
    "\n",
    "# for ds in [\n",
    "#     train_processed_source,\n",
    "#     val_processed_source,\n",
    "#     test_processed_source,\n",
    "#     train_processed_target,\n",
    "#     val_processed_target,\n",
    "#     test_processed_target\n",
    "# ]:\n",
    "#     for s_x, s_y, q_x, q_y, _ in ds:\n",
    "#         for X in (s_x, q_x):\n",
    "#             for x in X:\n",
    "#                 assert np.isclose(get_average_magnitude(x.numpy()), 1.0)\n",
    "#                 assert np.isclose(get_average_power(x.numpy()), 1.0)\n",
    "                "
   ]
  },
  {
   "cell_type": "code",
   "execution_count": 21,
   "id": "bbdacba1",
   "metadata": {
    "execution": {
     "iopub.execute_input": "2022-03-21T21:05:42.787341Z",
     "iopub.status.busy": "2022-03-21T21:05:42.786968Z",
     "iopub.status.idle": "2022-03-21T21:05:42.952189Z",
     "shell.execute_reply": "2022-03-21T21:05:42.952817Z"
    },
    "papermill": {
     "duration": 0.192889,
     "end_time": "2022-03-21T21:05:42.953028",
     "exception": false,
     "start_time": "2022-03-21T21:05:42.760139",
     "status": "completed"
    },
    "tags": []
   },
   "outputs": [
    {
     "name": "stdout",
     "output_type": "stream",
     "text": [
      "(2, 256)\n"
     ]
    }
   ],
   "source": [
    "###################################\n",
    "# Build the model\n",
    "###################################\n",
    "# easfsl only wants a tuple for the shape\n",
    "model = Steves_Prototypical_Network(x_net, device=p.device, x_shape=tuple(p.x_shape))\n",
    "optimizer = Adam(params=model.parameters(), lr=p.lr)"
   ]
  },
  {
   "cell_type": "code",
   "execution_count": 22,
   "id": "22b39ac5",
   "metadata": {
    "execution": {
     "iopub.execute_input": "2022-03-21T21:05:43.026151Z",
     "iopub.status.busy": "2022-03-21T21:05:43.025355Z",
     "iopub.status.idle": "2022-03-21T21:38:17.229007Z",
     "shell.execute_reply": "2022-03-21T21:38:17.228636Z"
    },
    "papermill": {
     "duration": 1954.249398,
     "end_time": "2022-03-21T21:38:17.229110",
     "exception": false,
     "start_time": "2022-03-21T21:05:42.979712",
     "status": "completed"
    },
    "tags": []
   },
   "outputs": [
    {
     "name": "stdout",
     "output_type": "stream",
     "text": [
      "epoch: 1, [batch: 1 / 6720], examples_per_second: 34.2040, train_label_loss: 2.7920, \n"
     ]
    },
    {
     "name": "stdout",
     "output_type": "stream",
     "text": [
      "epoch: 1, [batch: 672 / 6720], examples_per_second: 3019.6450, train_label_loss: 1.4379, \n"
     ]
    },
    {
     "name": "stdout",
     "output_type": "stream",
     "text": [
      "epoch: 1, [batch: 1344 / 6720], examples_per_second: 2988.2545, train_label_loss: 0.8269, \n"
     ]
    },
    {
     "name": "stdout",
     "output_type": "stream",
     "text": [
      "epoch: 1, [batch: 2016 / 6720], examples_per_second: 3022.3557, train_label_loss: 1.2360, \n"
     ]
    },
    {
     "name": "stdout",
     "output_type": "stream",
     "text": [
      "epoch: 1, [batch: 2688 / 6720], examples_per_second: 2937.0243, train_label_loss: 0.4823, \n"
     ]
    },
    {
     "name": "stdout",
     "output_type": "stream",
     "text": [
      "epoch: 1, [batch: 3360 / 6720], examples_per_second: 2938.7711, train_label_loss: 0.4208, \n"
     ]
    },
    {
     "name": "stdout",
     "output_type": "stream",
     "text": [
      "epoch: 1, [batch: 4032 / 6720], examples_per_second: 2924.8038, train_label_loss: 0.4293, \n"
     ]
    },
    {
     "name": "stdout",
     "output_type": "stream",
     "text": [
      "epoch: 1, [batch: 4704 / 6720], examples_per_second: 2889.1370, train_label_loss: 0.6858, \n"
     ]
    },
    {
     "name": "stdout",
     "output_type": "stream",
     "text": [
      "epoch: 1, [batch: 5376 / 6720], examples_per_second: 2927.6794, train_label_loss: 0.2310, \n"
     ]
    },
    {
     "name": "stdout",
     "output_type": "stream",
     "text": [
      "epoch: 1, [batch: 6048 / 6720], examples_per_second: 2943.9046, train_label_loss: 0.3064, \n"
     ]
    },
    {
     "name": "stdout",
     "output_type": "stream",
     "text": [
      "=============================================================\n",
      "epoch: 1, source_val_acc_label: 0.7386, target_val_acc_label: 0.7478, source_val_label_loss: 0.8926, target_val_label_loss: 0.9471, \n",
      "=============================================================\n"
     ]
    },
    {
     "name": "stdout",
     "output_type": "stream",
     "text": [
      "New best\n"
     ]
    },
    {
     "name": "stdout",
     "output_type": "stream",
     "text": [
      "epoch: 2, [batch: 1 / 6720], examples_per_second: 3.0070, train_label_loss: 1.1960, \n"
     ]
    },
    {
     "name": "stdout",
     "output_type": "stream",
     "text": [
      "epoch: 2, [batch: 672 / 6720], examples_per_second: 3394.6444, train_label_loss: 0.2900, \n"
     ]
    },
    {
     "name": "stdout",
     "output_type": "stream",
     "text": [
      "epoch: 2, [batch: 1344 / 6720], examples_per_second: 3378.9597, train_label_loss: 1.0889, \n"
     ]
    },
    {
     "name": "stdout",
     "output_type": "stream",
     "text": [
      "epoch: 2, [batch: 2016 / 6720], examples_per_second: 3365.7927, train_label_loss: 0.3166, \n"
     ]
    },
    {
     "name": "stdout",
     "output_type": "stream",
     "text": [
      "epoch: 2, [batch: 2688 / 6720], examples_per_second: 3632.6254, train_label_loss: 0.3304, \n"
     ]
    },
    {
     "name": "stdout",
     "output_type": "stream",
     "text": [
      "epoch: 2, [batch: 3360 / 6720], examples_per_second: 3269.6493, train_label_loss: 0.4065, \n"
     ]
    },
    {
     "name": "stdout",
     "output_type": "stream",
     "text": [
      "epoch: 2, [batch: 4032 / 6720], examples_per_second: 2966.5711, train_label_loss: 0.1127, \n"
     ]
    },
    {
     "name": "stdout",
     "output_type": "stream",
     "text": [
      "epoch: 2, [batch: 4704 / 6720], examples_per_second: 3009.6415, train_label_loss: 1.1293, \n"
     ]
    },
    {
     "name": "stdout",
     "output_type": "stream",
     "text": [
      "epoch: 2, [batch: 5376 / 6720], examples_per_second: 3016.9770, train_label_loss: 0.9027, \n"
     ]
    },
    {
     "name": "stdout",
     "output_type": "stream",
     "text": [
      "epoch: 2, [batch: 6048 / 6720], examples_per_second: 3028.1837, train_label_loss: 0.3548, \n"
     ]
    },
    {
     "name": "stdout",
     "output_type": "stream",
     "text": [
      "=============================================================\n",
      "epoch: 2, source_val_acc_label: 0.8171, target_val_acc_label: 0.8188, source_val_label_loss: 0.5154, target_val_label_loss: 0.5024, \n",
      "=============================================================\n"
     ]
    },
    {
     "name": "stdout",
     "output_type": "stream",
     "text": [
      "New best\n"
     ]
    },
    {
     "name": "stdout",
     "output_type": "stream",
     "text": [
      "epoch: 3, [batch: 1 / 6720], examples_per_second: 2.7787, train_label_loss: 0.6574, \n"
     ]
    },
    {
     "name": "stdout",
     "output_type": "stream",
     "text": [
      "epoch: 3, [batch: 672 / 6720], examples_per_second: 3038.7768, train_label_loss: 0.3969, \n"
     ]
    },
    {
     "name": "stdout",
     "output_type": "stream",
     "text": [
      "epoch: 3, [batch: 1344 / 6720], examples_per_second: 3055.9749, train_label_loss: 0.2565, \n"
     ]
    },
    {
     "name": "stdout",
     "output_type": "stream",
     "text": [
      "epoch: 3, [batch: 2016 / 6720], examples_per_second: 3475.4262, train_label_loss: 0.5326, \n"
     ]
    },
    {
     "name": "stdout",
     "output_type": "stream",
     "text": [
      "epoch: 3, [batch: 2688 / 6720], examples_per_second: 3463.9349, train_label_loss: 0.1359, \n"
     ]
    },
    {
     "name": "stdout",
     "output_type": "stream",
     "text": [
      "epoch: 3, [batch: 3360 / 6720], examples_per_second: 3400.3960, train_label_loss: 0.1821, \n"
     ]
    },
    {
     "name": "stdout",
     "output_type": "stream",
     "text": [
      "epoch: 3, [batch: 4032 / 6720], examples_per_second: 3384.6552, train_label_loss: 0.3736, \n"
     ]
    },
    {
     "name": "stdout",
     "output_type": "stream",
     "text": [
      "epoch: 3, [batch: 4704 / 6720], examples_per_second: 3359.2015, train_label_loss: 0.3987, \n"
     ]
    },
    {
     "name": "stdout",
     "output_type": "stream",
     "text": [
      "epoch: 3, [batch: 5376 / 6720], examples_per_second: 3356.8446, train_label_loss: 0.6733, \n"
     ]
    },
    {
     "name": "stdout",
     "output_type": "stream",
     "text": [
      "epoch: 3, [batch: 6048 / 6720], examples_per_second: 3659.0830, train_label_loss: 0.3999, \n"
     ]
    },
    {
     "name": "stdout",
     "output_type": "stream",
     "text": [
      "=============================================================\n",
      "epoch: 3, source_val_acc_label: 0.8592, target_val_acc_label: 0.8572, source_val_label_loss: 0.3892, target_val_label_loss: 0.4001, \n",
      "=============================================================\n"
     ]
    },
    {
     "name": "stdout",
     "output_type": "stream",
     "text": [
      "New best\n"
     ]
    },
    {
     "name": "stdout",
     "output_type": "stream",
     "text": [
      "epoch: 4, [batch: 1 / 6720], examples_per_second: 2.7534, train_label_loss: 0.1353, \n"
     ]
    },
    {
     "name": "stdout",
     "output_type": "stream",
     "text": [
      "epoch: 4, [batch: 672 / 6720], examples_per_second: 2993.0754, train_label_loss: 0.1269, \n"
     ]
    },
    {
     "name": "stdout",
     "output_type": "stream",
     "text": [
      "epoch: 4, [batch: 1344 / 6720], examples_per_second: 3002.3788, train_label_loss: 0.5861, \n"
     ]
    },
    {
     "name": "stdout",
     "output_type": "stream",
     "text": [
      "epoch: 4, [batch: 2016 / 6720], examples_per_second: 2975.6701, train_label_loss: 0.0608, \n"
     ]
    },
    {
     "name": "stdout",
     "output_type": "stream",
     "text": [
      "epoch: 4, [batch: 2688 / 6720], examples_per_second: 2968.2500, train_label_loss: 0.3752, \n"
     ]
    },
    {
     "name": "stdout",
     "output_type": "stream",
     "text": [
      "epoch: 4, [batch: 3360 / 6720], examples_per_second: 2970.1540, train_label_loss: 0.1491, \n"
     ]
    },
    {
     "name": "stdout",
     "output_type": "stream",
     "text": [
      "epoch: 4, [batch: 4032 / 6720], examples_per_second: 3001.3323, train_label_loss: 0.4323, \n"
     ]
    },
    {
     "name": "stdout",
     "output_type": "stream",
     "text": [
      "epoch: 4, [batch: 4704 / 6720], examples_per_second: 3162.3982, train_label_loss: 0.4741, \n"
     ]
    },
    {
     "name": "stdout",
     "output_type": "stream",
     "text": [
      "epoch: 4, [batch: 5376 / 6720], examples_per_second: 3431.2569, train_label_loss: 0.1564, \n"
     ]
    },
    {
     "name": "stdout",
     "output_type": "stream",
     "text": [
      "epoch: 4, [batch: 6048 / 6720], examples_per_second: 3400.8994, train_label_loss: 0.2556, \n"
     ]
    },
    {
     "name": "stdout",
     "output_type": "stream",
     "text": [
      "=============================================================\n",
      "epoch: 4, source_val_acc_label: 0.8781, target_val_acc_label: 0.8737, source_val_label_loss: 0.3346, target_val_label_loss: 0.3542, \n",
      "=============================================================\n"
     ]
    },
    {
     "name": "stdout",
     "output_type": "stream",
     "text": [
      "New best\n"
     ]
    },
    {
     "name": "stdout",
     "output_type": "stream",
     "text": [
      "epoch: 5, [batch: 1 / 6720], examples_per_second: 3.1254, train_label_loss: 0.2489, \n"
     ]
    },
    {
     "name": "stdout",
     "output_type": "stream",
     "text": [
      "epoch: 5, [batch: 672 / 6720], examples_per_second: 3844.8648, train_label_loss: 0.3797, \n"
     ]
    },
    {
     "name": "stdout",
     "output_type": "stream",
     "text": [
      "epoch: 5, [batch: 1344 / 6720], examples_per_second: 3348.1193, train_label_loss: 0.1765, \n"
     ]
    },
    {
     "name": "stdout",
     "output_type": "stream",
     "text": [
      "epoch: 5, [batch: 2016 / 6720], examples_per_second: 3433.5495, train_label_loss: 0.4973, \n"
     ]
    },
    {
     "name": "stdout",
     "output_type": "stream",
     "text": [
      "epoch: 5, [batch: 2688 / 6720], examples_per_second: 3431.1716, train_label_loss: 0.4236, \n"
     ]
    },
    {
     "name": "stdout",
     "output_type": "stream",
     "text": [
      "epoch: 5, [batch: 3360 / 6720], examples_per_second: 3615.4474, train_label_loss: 0.5277, \n"
     ]
    },
    {
     "name": "stdout",
     "output_type": "stream",
     "text": [
      "epoch: 5, [batch: 4032 / 6720], examples_per_second: 3637.7979, train_label_loss: 0.1953, \n"
     ]
    },
    {
     "name": "stdout",
     "output_type": "stream",
     "text": [
      "epoch: 5, [batch: 4704 / 6720], examples_per_second: 3874.6483, train_label_loss: 0.2783, \n"
     ]
    },
    {
     "name": "stdout",
     "output_type": "stream",
     "text": [
      "epoch: 5, [batch: 5376 / 6720], examples_per_second: 3361.8615, train_label_loss: 0.0462, \n"
     ]
    },
    {
     "name": "stdout",
     "output_type": "stream",
     "text": [
      "epoch: 5, [batch: 6048 / 6720], examples_per_second: 3067.4273, train_label_loss: 0.2118, \n"
     ]
    },
    {
     "name": "stdout",
     "output_type": "stream",
     "text": [
      "=============================================================\n",
      "epoch: 5, source_val_acc_label: 0.8856, target_val_acc_label: 0.8770, source_val_label_loss: 0.3177, target_val_label_loss: 0.3532, \n",
      "=============================================================\n"
     ]
    },
    {
     "name": "stdout",
     "output_type": "stream",
     "text": [
      "New best\n"
     ]
    },
    {
     "name": "stdout",
     "output_type": "stream",
     "text": [
      "epoch: 6, [batch: 1 / 6720], examples_per_second: 2.9638, train_label_loss: 0.3027, \n"
     ]
    },
    {
     "name": "stdout",
     "output_type": "stream",
     "text": [
      "epoch: 6, [batch: 672 / 6720], examples_per_second: 3484.7526, train_label_loss: 0.0556, \n"
     ]
    },
    {
     "name": "stdout",
     "output_type": "stream",
     "text": [
      "epoch: 6, [batch: 1344 / 6720], examples_per_second: 3445.0810, train_label_loss: 0.1704, \n"
     ]
    },
    {
     "name": "stdout",
     "output_type": "stream",
     "text": [
      "epoch: 6, [batch: 2016 / 6720], examples_per_second: 3393.2705, train_label_loss: 0.2787, \n"
     ]
    },
    {
     "name": "stdout",
     "output_type": "stream",
     "text": [
      "epoch: 6, [batch: 2688 / 6720], examples_per_second: 3372.4731, train_label_loss: 0.1334, \n"
     ]
    },
    {
     "name": "stdout",
     "output_type": "stream",
     "text": [
      "epoch: 6, [batch: 3360 / 6720], examples_per_second: 3623.5956, train_label_loss: 0.0273, \n"
     ]
    },
    {
     "name": "stdout",
     "output_type": "stream",
     "text": [
      "epoch: 6, [batch: 4032 / 6720], examples_per_second: 3310.2179, train_label_loss: 0.4842, \n"
     ]
    },
    {
     "name": "stdout",
     "output_type": "stream",
     "text": [
      "epoch: 6, [batch: 4704 / 6720], examples_per_second: 3005.3144, train_label_loss: 0.2443, \n"
     ]
    },
    {
     "name": "stdout",
     "output_type": "stream",
     "text": [
      "epoch: 6, [batch: 5376 / 6720], examples_per_second: 3028.1653, train_label_loss: 0.1644, \n"
     ]
    },
    {
     "name": "stdout",
     "output_type": "stream",
     "text": [
      "epoch: 6, [batch: 6048 / 6720], examples_per_second: 2954.8651, train_label_loss: 0.1849, \n"
     ]
    },
    {
     "name": "stdout",
     "output_type": "stream",
     "text": [
      "=============================================================\n",
      "epoch: 6, source_val_acc_label: 0.8896, target_val_acc_label: 0.8813, source_val_label_loss: 0.3076, target_val_label_loss: 0.3388, \n",
      "=============================================================\n"
     ]
    },
    {
     "name": "stdout",
     "output_type": "stream",
     "text": [
      "New best\n"
     ]
    },
    {
     "name": "stdout",
     "output_type": "stream",
     "text": [
      "epoch: 7, [batch: 1 / 6720], examples_per_second: 2.7884, train_label_loss: 0.1114, \n"
     ]
    },
    {
     "name": "stdout",
     "output_type": "stream",
     "text": [
      "epoch: 7, [batch: 672 / 6720], examples_per_second: 2982.8835, train_label_loss: 0.1432, \n"
     ]
    },
    {
     "name": "stdout",
     "output_type": "stream",
     "text": [
      "epoch: 7, [batch: 1344 / 6720], examples_per_second: 2999.6070, train_label_loss: 0.4197, \n"
     ]
    },
    {
     "name": "stdout",
     "output_type": "stream",
     "text": [
      "epoch: 7, [batch: 2016 / 6720], examples_per_second: 3043.5850, train_label_loss: 0.4100, \n"
     ]
    },
    {
     "name": "stdout",
     "output_type": "stream",
     "text": [
      "epoch: 7, [batch: 2688 / 6720], examples_per_second: 3369.9626, train_label_loss: 0.0596, \n"
     ]
    },
    {
     "name": "stdout",
     "output_type": "stream",
     "text": [
      "epoch: 7, [batch: 3360 / 6720], examples_per_second: 3403.2374, train_label_loss: 0.1379, \n"
     ]
    },
    {
     "name": "stdout",
     "output_type": "stream",
     "text": [
      "epoch: 7, [batch: 4032 / 6720], examples_per_second: 3381.7902, train_label_loss: 0.0728, \n"
     ]
    },
    {
     "name": "stdout",
     "output_type": "stream",
     "text": [
      "epoch: 7, [batch: 4704 / 6720], examples_per_second: 3451.7354, train_label_loss: 0.0964, \n"
     ]
    },
    {
     "name": "stdout",
     "output_type": "stream",
     "text": [
      "epoch: 7, [batch: 5376 / 6720], examples_per_second: 3386.4335, train_label_loss: 0.1937, \n"
     ]
    },
    {
     "name": "stdout",
     "output_type": "stream",
     "text": [
      "epoch: 7, [batch: 6048 / 6720], examples_per_second: 3455.8888, train_label_loss: 0.1358, \n"
     ]
    },
    {
     "name": "stdout",
     "output_type": "stream",
     "text": [
      "=============================================================\n",
      "epoch: 7, source_val_acc_label: 0.8868, target_val_acc_label: 0.8738, source_val_label_loss: 0.3060, target_val_label_loss: 0.3511, \n",
      "=============================================================\n"
     ]
    },
    {
     "name": "stdout",
     "output_type": "stream",
     "text": [
      "epoch: 8, [batch: 1 / 6720], examples_per_second: 3.2279, train_label_loss: 0.3336, \n"
     ]
    },
    {
     "name": "stdout",
     "output_type": "stream",
     "text": [
      "epoch: 8, [batch: 672 / 6720], examples_per_second: 3436.1073, train_label_loss: 0.2794, \n"
     ]
    },
    {
     "name": "stdout",
     "output_type": "stream",
     "text": [
      "epoch: 8, [batch: 1344 / 6720], examples_per_second: 3453.4876, train_label_loss: 0.1867, \n"
     ]
    },
    {
     "name": "stdout",
     "output_type": "stream",
     "text": [
      "epoch: 8, [batch: 2016 / 6720], examples_per_second: 3464.9346, train_label_loss: 0.2802, \n"
     ]
    },
    {
     "name": "stdout",
     "output_type": "stream",
     "text": [
      "epoch: 8, [batch: 2688 / 6720], examples_per_second: 3568.3043, train_label_loss: 0.1866, \n"
     ]
    },
    {
     "name": "stdout",
     "output_type": "stream",
     "text": [
      "epoch: 8, [batch: 3360 / 6720], examples_per_second: 3420.5104, train_label_loss: 0.6355, \n"
     ]
    },
    {
     "name": "stdout",
     "output_type": "stream",
     "text": [
      "epoch: 8, [batch: 4032 / 6720], examples_per_second: 3445.4338, train_label_loss: 0.0969, \n"
     ]
    },
    {
     "name": "stdout",
     "output_type": "stream",
     "text": [
      "epoch: 8, [batch: 4704 / 6720], examples_per_second: 3405.6968, train_label_loss: 0.2471, \n"
     ]
    },
    {
     "name": "stdout",
     "output_type": "stream",
     "text": [
      "epoch: 8, [batch: 5376 / 6720], examples_per_second: 3460.8557, train_label_loss: 0.1372, \n"
     ]
    },
    {
     "name": "stdout",
     "output_type": "stream",
     "text": [
      "epoch: 8, [batch: 6048 / 6720], examples_per_second: 3451.3156, train_label_loss: 0.3120, \n"
     ]
    },
    {
     "name": "stdout",
     "output_type": "stream",
     "text": [
      "=============================================================\n",
      "epoch: 8, source_val_acc_label: 0.8936, target_val_acc_label: 0.8785, source_val_label_loss: 0.2914, target_val_label_loss: 0.3439, \n",
      "=============================================================\n"
     ]
    },
    {
     "name": "stdout",
     "output_type": "stream",
     "text": [
      "epoch: 9, [batch: 1 / 6720], examples_per_second: 3.2861, train_label_loss: 0.1957, \n"
     ]
    },
    {
     "name": "stdout",
     "output_type": "stream",
     "text": [
      "epoch: 9, [batch: 672 / 6720], examples_per_second: 3372.1297, train_label_loss: 0.5521, \n"
     ]
    },
    {
     "name": "stdout",
     "output_type": "stream",
     "text": [
      "epoch: 9, [batch: 1344 / 6720], examples_per_second: 3353.3369, train_label_loss: 0.1694, \n"
     ]
    },
    {
     "name": "stdout",
     "output_type": "stream",
     "text": [
      "epoch: 9, [batch: 2016 / 6720], examples_per_second: 3365.7143, train_label_loss: 0.0648, \n"
     ]
    },
    {
     "name": "stdout",
     "output_type": "stream",
     "text": [
      "epoch: 9, [batch: 2688 / 6720], examples_per_second: 3337.0240, train_label_loss: 0.3626, \n"
     ]
    },
    {
     "name": "stdout",
     "output_type": "stream",
     "text": [
      "epoch: 9, [batch: 3360 / 6720], examples_per_second: 3419.7164, train_label_loss: 0.1464, \n"
     ]
    },
    {
     "name": "stdout",
     "output_type": "stream",
     "text": [
      "epoch: 9, [batch: 4032 / 6720], examples_per_second: 3415.7763, train_label_loss: 0.4120, \n"
     ]
    },
    {
     "name": "stdout",
     "output_type": "stream",
     "text": [
      "epoch: 9, [batch: 4704 / 6720], examples_per_second: 3428.1027, train_label_loss: 0.0516, \n"
     ]
    },
    {
     "name": "stdout",
     "output_type": "stream",
     "text": [
      "epoch: 9, [batch: 5376 / 6720], examples_per_second: 3543.6421, train_label_loss: 0.1930, \n"
     ]
    },
    {
     "name": "stdout",
     "output_type": "stream",
     "text": [
      "epoch: 9, [batch: 6048 / 6720], examples_per_second: 3738.4853, train_label_loss: 0.1418, \n"
     ]
    },
    {
     "name": "stdout",
     "output_type": "stream",
     "text": [
      "=============================================================\n",
      "epoch: 9, source_val_acc_label: 0.8919, target_val_acc_label: 0.8771, source_val_label_loss: 0.2945, target_val_label_loss: 0.3518, \n",
      "=============================================================\n"
     ]
    },
    {
     "name": "stdout",
     "output_type": "stream",
     "text": [
      "epoch: 10, [batch: 1 / 6720], examples_per_second: 4.1120, train_label_loss: 0.1679, \n"
     ]
    },
    {
     "name": "stdout",
     "output_type": "stream",
     "text": [
      "epoch: 10, [batch: 672 / 6720], examples_per_second: 4558.3209, train_label_loss: 0.2113, \n"
     ]
    },
    {
     "name": "stdout",
     "output_type": "stream",
     "text": [
      "epoch: 10, [batch: 1344 / 6720], examples_per_second: 5256.2225, train_label_loss: 0.1385, \n"
     ]
    },
    {
     "name": "stdout",
     "output_type": "stream",
     "text": [
      "epoch: 10, [batch: 2016 / 6720], examples_per_second: 5049.0460, train_label_loss: 0.1043, \n"
     ]
    },
    {
     "name": "stdout",
     "output_type": "stream",
     "text": [
      "epoch: 10, [batch: 2688 / 6720], examples_per_second: 3913.3512, train_label_loss: 0.1907, \n"
     ]
    },
    {
     "name": "stdout",
     "output_type": "stream",
     "text": [
      "epoch: 10, [batch: 3360 / 6720], examples_per_second: 3989.7546, train_label_loss: 0.1949, \n"
     ]
    },
    {
     "name": "stdout",
     "output_type": "stream",
     "text": [
      "epoch: 10, [batch: 4032 / 6720], examples_per_second: 3944.9050, train_label_loss: 0.1701, \n"
     ]
    },
    {
     "name": "stdout",
     "output_type": "stream",
     "text": [
      "epoch: 10, [batch: 4704 / 6720], examples_per_second: 3959.2440, train_label_loss: 0.2144, \n"
     ]
    },
    {
     "name": "stdout",
     "output_type": "stream",
     "text": [
      "epoch: 10, [batch: 5376 / 6720], examples_per_second: 3925.8043, train_label_loss: 0.1464, \n"
     ]
    },
    {
     "name": "stdout",
     "output_type": "stream",
     "text": [
      "epoch: 10, [batch: 6048 / 6720], examples_per_second: 3946.2038, train_label_loss: 0.0315, \n"
     ]
    },
    {
     "name": "stdout",
     "output_type": "stream",
     "text": [
      "=============================================================\n",
      "epoch: 10, source_val_acc_label: 0.8910, target_val_acc_label: 0.8776, source_val_label_loss: 0.2976, target_val_label_loss: 0.3517, \n",
      "=============================================================\n"
     ]
    },
    {
     "name": "stdout",
     "output_type": "stream",
     "text": [
      "Patience (3) exhausted\n"
     ]
    }
   ],
   "source": [
    "###################################\n",
    "# train\n",
    "###################################\n",
    "jig = PTN_Train_Eval_Test_Jig(model, p.BEST_MODEL_PATH, p.device)\n",
    "\n",
    "jig.train(\n",
    "    train_iterable=datasets.source.processed.train,\n",
    "    source_val_iterable=datasets.source.processed.val,\n",
    "    target_val_iterable=datasets.target.processed.val,\n",
    "    num_epochs=p.n_epoch,\n",
    "    num_logs_per_epoch=p.NUM_LOGS_PER_EPOCH,\n",
    "    patience=p.patience,\n",
    "    optimizer=optimizer,\n",
    "    criteria_for_best=p.criteria_for_best,\n",
    ")"
   ]
  },
  {
   "cell_type": "code",
   "execution_count": 23,
   "id": "31e8fabf",
   "metadata": {
    "execution": {
     "iopub.execute_input": "2022-03-21T21:38:17.340031Z",
     "iopub.status.busy": "2022-03-21T21:38:17.339666Z",
     "iopub.status.idle": "2022-03-21T21:38:17.373244Z",
     "shell.execute_reply": "2022-03-21T21:38:17.372549Z"
    },
    "papermill": {
     "duration": 0.091374,
     "end_time": "2022-03-21T21:38:17.373419",
     "exception": false,
     "start_time": "2022-03-21T21:38:17.282045",
     "status": "completed"
    },
    "tags": []
   },
   "outputs": [],
   "source": [
    "total_experiment_time_secs = time.time() - start_time_secs"
   ]
  },
  {
   "cell_type": "code",
   "execution_count": 24,
   "id": "87b9595b",
   "metadata": {
    "execution": {
     "iopub.execute_input": "2022-03-21T21:38:17.492276Z",
     "iopub.status.busy": "2022-03-21T21:38:17.491676Z",
     "iopub.status.idle": "2022-03-21T21:41:09.127433Z",
     "shell.execute_reply": "2022-03-21T21:41:09.126652Z"
    },
    "papermill": {
     "duration": 171.697955,
     "end_time": "2022-03-21T21:41:09.127657",
     "exception": false,
     "start_time": "2022-03-21T21:38:17.429702",
     "status": "completed"
    },
    "tags": []
   },
   "outputs": [],
   "source": [
    "###################################\n",
    "# Evaluate the model\n",
    "###################################\n",
    "source_test_label_accuracy, source_test_label_loss = jig.test(datasets.source.processed.test)\n",
    "target_test_label_accuracy, target_test_label_loss = jig.test(datasets.target.processed.test)\n",
    "\n",
    "source_val_label_accuracy, source_val_label_loss = jig.test(datasets.source.processed.val)\n",
    "target_val_label_accuracy, target_val_label_loss = jig.test(datasets.target.processed.val)\n",
    "\n",
    "history = jig.get_history()\n",
    "\n",
    "total_epochs_trained = len(history[\"epoch_indices\"])\n",
    "\n",
    "val_dl = Iterable_Aggregator((datasets.source.original.val,datasets.target.original.val))\n",
    "\n",
    "confusion = ptn_confusion_by_domain_over_dataloader(model, p.device, val_dl)\n",
    "per_domain_accuracy = per_domain_accuracy_from_confusion(confusion)\n",
    "\n",
    "# Add a key to per_domain_accuracy for if it was a source domain\n",
    "for domain, accuracy in per_domain_accuracy.items():\n",
    "    per_domain_accuracy[domain] = {\n",
    "        \"accuracy\": accuracy,\n",
    "        \"source?\": domain in p.domains_source\n",
    "    }\n",
    "\n",
    "# Do an independent accuracy assesment JUST TO BE SURE!\n",
    "# _source_test_label_accuracy = independent_accuracy_assesment(model, datasets.source.processed.test, p.device)\n",
    "# _target_test_label_accuracy = independent_accuracy_assesment(model, datasets.target.processed.test, p.device)\n",
    "# _source_val_label_accuracy = independent_accuracy_assesment(model, datasets.source.processed.val, p.device)\n",
    "# _target_val_label_accuracy = independent_accuracy_assesment(model, datasets.target.processed.val, p.device)\n",
    "\n",
    "# assert(_source_test_label_accuracy == source_test_label_accuracy)\n",
    "# assert(_target_test_label_accuracy == target_test_label_accuracy)\n",
    "# assert(_source_val_label_accuracy == source_val_label_accuracy)\n",
    "# assert(_target_val_label_accuracy == target_val_label_accuracy)\n",
    "\n",
    "experiment = {\n",
    "    \"experiment_name\": p.experiment_name,\n",
    "    \"parameters\": dict(p),\n",
    "    \"results\": {\n",
    "        \"source_test_label_accuracy\": source_test_label_accuracy,\n",
    "        \"source_test_label_loss\": source_test_label_loss,\n",
    "        \"target_test_label_accuracy\": target_test_label_accuracy,\n",
    "        \"target_test_label_loss\": target_test_label_loss,\n",
    "        \"source_val_label_accuracy\": source_val_label_accuracy,\n",
    "        \"source_val_label_loss\": source_val_label_loss,\n",
    "        \"target_val_label_accuracy\": target_val_label_accuracy,\n",
    "        \"target_val_label_loss\": target_val_label_loss,\n",
    "        \"total_epochs_trained\": total_epochs_trained,\n",
    "        \"total_experiment_time_secs\": total_experiment_time_secs,\n",
    "        \"confusion\": confusion,\n",
    "        \"per_domain_accuracy\": per_domain_accuracy,\n",
    "    },\n",
    "    \"history\": history,\n",
    "    \"dataset_metrics\": get_dataset_metrics(datasets, \"ptn\"),\n",
    "}"
   ]
  },
  {
   "cell_type": "code",
   "execution_count": 25,
   "id": "54a21829",
   "metadata": {
    "execution": {
     "iopub.execute_input": "2022-03-21T21:41:09.246949Z",
     "iopub.status.busy": "2022-03-21T21:41:09.246579Z",
     "iopub.status.idle": "2022-03-21T21:41:09.482899Z",
     "shell.execute_reply": "2022-03-21T21:41:09.482126Z"
    },
    "papermill": {
     "duration": 0.294022,
     "end_time": "2022-03-21T21:41:09.483059",
     "exception": false,
     "start_time": "2022-03-21T21:41:09.189037",
     "status": "completed"
    },
    "tags": []
   },
   "outputs": [
    {
     "data": {
      "image/png": "[encoded data removed]",
      "text/plain": [
       "<Figure size 1080x504 with 1 Axes>"
      ]
     },
     "metadata": {
      "needs_background": "light"
     },
     "output_type": "display_data"
    }
   ],
   "source": [
    "ax = get_loss_curve(experiment)\n",
    "plt.show()"
   ]
  },
  {
   "cell_type": "code",
   "execution_count": 26,
   "id": "fd8a0f60",
   "metadata": {
    "execution": {
     "iopub.execute_input": "2022-03-21T21:41:09.602867Z",
     "iopub.status.busy": "2022-03-21T21:41:09.602465Z",
     "iopub.status.idle": "2022-03-21T21:41:09.979389Z",
     "shell.execute_reply": "2022-03-21T21:41:09.979714Z"
    },
    "papermill": {
     "duration": 0.43602,
     "end_time": "2022-03-21T21:41:09.979801",
     "exception": false,
     "start_time": "2022-03-21T21:41:09.543781",
     "status": "completed"
    },
    "tags": []
   },
   "outputs": [
    {
     "data": {
      "text/plain": [
       "<AxesSubplot:title={'center':'Results'}>"
      ]
     },
     "execution_count": 26,
     "metadata": {},
     "output_type": "execute_result"
    },
    {
     "data": {
      "image/png": "[encoded data removed]",
      "text/plain": [
       "<Figure size 1080x504 with 1 Axes>"
      ]
     },
     "metadata": {
      "needs_background": "light"
     },
     "output_type": "display_data"
    }
   ],
   "source": [
    "get_results_table(experiment)"
   ]
  },
  {
   "cell_type": "code",
   "execution_count": 27,
   "id": "cf8dc689",
   "metadata": {
    "execution": {
     "iopub.execute_input": "2022-03-21T21:41:10.096860Z",
     "iopub.status.busy": "2022-03-21T21:41:10.096493Z",
     "iopub.status.idle": "2022-03-21T21:41:10.392090Z",
     "shell.execute_reply": "2022-03-21T21:41:10.391780Z"
    },
    "papermill": {
     "duration": 0.355845,
     "end_time": "2022-03-21T21:41:10.392166",
     "exception": false,
     "start_time": "2022-03-21T21:41:10.036321",
     "status": "completed"
    },
    "tags": []
   },
   "outputs": [
    {
     "data": {
      "text/plain": [
       "<AxesSubplot:title={'center':'Per Domain Validation Accuracy'}, xlabel='domain'>"
      ]
     },
     "execution_count": 27,
     "metadata": {},
     "output_type": "execute_result"
    },
    {
     "data": {
      "image/png": "[encoded data removed]",
      "text/plain": [
       "<Figure size 1080x504 with 1 Axes>"
      ]
     },
     "metadata": {
      "needs_background": "light"
     },
     "output_type": "display_data"
    }
   ],
   "source": [
    "get_domain_accuracies(experiment)"
   ]
  },
  {
   "cell_type": "code",
   "execution_count": 28,
   "id": "a74ae082",
   "metadata": {
    "execution": {
     "iopub.execute_input": "2022-03-21T21:41:10.511445Z",
     "iopub.status.busy": "2022-03-21T21:41:10.510884Z",
     "iopub.status.idle": "2022-03-21T21:41:10.538726Z",
     "shell.execute_reply": "2022-03-21T21:41:10.538022Z"
    },
    "papermill": {
     "duration": 0.089501,
     "end_time": "2022-03-21T21:41:10.538885",
     "exception": false,
     "start_time": "2022-03-21T21:41:10.449384",
     "status": "completed"
    },
    "tags": []
   },
   "outputs": [
    {
     "name": "stdout",
     "output_type": "stream",
     "text": [
      "Source Test Label Accuracy: 0.8861002604166667 Target Test Label Accuracy: 0.8820638020833333\n",
      "Source Val Label Accuracy: 0.8896158854166667 Target Val Label Accuracy: 0.88134765625\n"
     ]
    }
   ],
   "source": [
    "print(\"Source Test Label Accuracy:\", experiment[\"results\"][\"source_test_label_accuracy\"], \"Target Test Label Accuracy:\", experiment[\"results\"][\"target_test_label_accuracy\"])\n",
    "print(\"Source Val Label Accuracy:\", experiment[\"results\"][\"source_val_label_accuracy\"], \"Target Val Label Accuracy:\", experiment[\"results\"][\"target_val_label_accuracy\"])"
   ]
  },
  {
   "cell_type": "code",
   "execution_count": 29,
   "id": "dacca602",
   "metadata": {
    "execution": {
     "iopub.execute_input": "2022-03-21T21:41:10.661888Z",
     "iopub.status.busy": "2022-03-21T21:41:10.661528Z",
     "iopub.status.idle": "2022-03-21T21:41:10.689051Z",
     "shell.execute_reply": "2022-03-21T21:41:10.689722Z"
    },
    "papermill": {
     "duration": 0.0893,
     "end_time": "2022-03-21T21:41:10.689904",
     "exception": false,
     "start_time": "2022-03-21T21:41:10.600604",
     "status": "completed"
    },
    "tags": [
     "experiment_json"
    ]
   },
   "outputs": [
    {
     "data": {
      "text/plain": [
       "'{\"experiment_name\": \"tl_1v2:oracle.run1.framed-oracle.run2.framed\", \"parameters\": {\"experiment_name\": \"tl_1v2:oracle.run1.framed-oracle.run2.framed\", \"device\": \"cuda\", \"lr\": 0.0001, \"n_shot\": 3, \"n_query\": 2, \"train_k_factor\": 3, \"val_k_factor\": 2, \"test_k_factor\": 2, \"torch_default_dtype\": \"torch.float32\", \"n_epoch\": 50, \"patience\": 3, \"criteria_for_best\": \"target_accuracy\", \"x_net\": [{\"class\": \"nnReshape\", \"kargs\": {\"shape\": [-1, 1, 2, 256]}}, {\"class\": \"Conv2d\", \"kargs\": {\"in_channels\": 1, \"out_channels\": 256, \"kernel_size\": [1, 7], \"bias\": false, \"padding\": [0, 3]}}, {\"class\": \"ReLU\", \"kargs\": {\"inplace\": true}}, {\"class\": \"BatchNorm2d\", \"kargs\": {\"num_features\": 256}}, {\"class\": \"Conv2d\", \"kargs\": {\"in_channels\": 256, \"out_channels\": 80, \"kernel_size\": [2, 7], \"bias\": true, \"padding\": [0, 3]}}, {\"class\": \"ReLU\", \"kargs\": {\"inplace\": true}}, {\"class\": \"BatchNorm2d\", \"kargs\": {\"num_features\": 80}}, {\"class\": \"Flatten\", \"kargs\": {}}, {\"class\": \"Linear\", \"kargs\": {\"in_features\": 20480, \"out_features\": 256}}, {\"class\": \"ReLU\", \"kargs\": {\"inplace\": true}}, {\"class\": \"BatchNorm1d\", \"kargs\": {\"num_features\": 256}}, {\"class\": \"Linear\", \"kargs\": {\"in_features\": 256, \"out_features\": 256}}], \"NUM_LOGS_PER_EPOCH\": 10, \"BEST_MODEL_PATH\": \"./best_model.pth\", \"n_way\": 16, \"datasets\": [{\"labels\": [\"3123D52\", \"3123D65\", \"3123D79\", \"3123D80\", \"3123D54\", \"3123D70\", \"3123D7B\", \"3123D89\", \"3123D58\", \"3123D76\", \"3123D7D\", \"3123EFE\", \"3123D64\", \"3123D78\", \"3123D7E\", \"3124E4A\"], \"domains\": [32, 38, 8, 44, 14, 50, 20, 26], \"num_examples_per_domain_per_label\": 2000, \"pickle_path\": \"/root/csc500-main/datasets/oracle.Run1_framed_2000Examples_stratified_ds.2022A.pkl\", \"source_or_target_dataset\": \"target\", \"x_transforms\": [\"unit_mag\"], \"episode_transforms\": [], \"domain_prefix\": \"ORACLE.run1_\"}, {\"labels\": [\"3123D52\", \"3123D65\", \"3123D79\", \"3123D80\", \"3123D54\", \"3123D70\", \"3123D7B\", \"3123D89\", \"3123D58\", \"3123D76\", \"3123D7D\", \"3123EFE\", \"3123D64\", \"3123D78\", \"3123D7E\", \"3124E4A\"], \"domains\": [32, 38, 8, 44, 14, 50, 20, 26], \"num_examples_per_domain_per_label\": 2000, \"pickle_path\": \"/root/csc500-main/datasets/oracle.Run2_framed_2000Examples_stratified_ds.2022A.pkl\", \"source_or_target_dataset\": \"source\", \"x_transforms\": [\"unit_mag\"], \"episode_transforms\": [], \"domain_prefix\": \"ORACLE.run2_\"}], \"dataset_seed\": 154325, \"seed\": 154325, \"x_shape\": [2, 256], \"domains_source\": [\"ORACLE.run2_32\", \"ORACLE.run2_38\", \"ORACLE.run2_8\", \"ORACLE.run2_44\", \"ORACLE.run2_14\", \"ORACLE.run2_50\", \"ORACLE.run2_20\", \"ORACLE.run2_26\"], \"domains_target\": [\"ORACLE.run1_32\", \"ORACLE.run1_38\", \"ORACLE.run1_8\", \"ORACLE.run1_44\", \"ORACLE.run1_14\", \"ORACLE.run1_50\", \"ORACLE.run1_20\", \"ORACLE.run1_26\"]}, \"results\": {\"source_test_label_accuracy\": 0.8861002604166667, \"source_test_label_loss\": 0.3112183213233948, \"target_test_label_accuracy\": 0.8820638020833333, \"target_test_label_loss\": 0.34094321727752686, \"source_val_label_accuracy\": 0.8896158854166667, \"source_val_label_loss\": 0.30762457847595215, \"target_val_label_accuracy\": 0.88134765625, \"target_val_label_loss\": 0.33875131607055664, \"total_epochs_trained\": 10, \"total_experiment_time_secs\": 2012.3908376693726, \"confusion\": {\"ORACLE.run2_8\": {\"13\": {\"1\": 7, \"13\": 228, \"6\": 4, \"10\": 1}, \"9\": {\"9\": 240}, \"15\": {\"15\": 226, \"12\": 9, \"8\": 5}, \"2\": {\"2\": 237, \"7\": 2, \"4\": 1}, \"3\": {\"3\": 240}, \"8\": {\"8\": 236, \"15\": 2, \"11\": 2}, \"5\": {\"5\": 225, \"10\": 15}, \"14\": {\"14\": 215, \"0\": 15, \"6\": 2, \"10\": 5, \"13\": 3}, \"1\": {\"1\": 238, \"5\": 1, \"13\": 1}, \"0\": {\"0\": 217, \"14\": 13, \"10\": 10}, \"10\": {\"10\": 205, \"0\": 12, \"5\": 15, \"14\": 7, \"13\": 1}, \"6\": {\"6\": 172, \"4\": 48, \"7\": 20}, \"11\": {\"11\": 223, \"12\": 4, \"8\": 11, \"15\": 2}, \"7\": {\"7\": 170, \"6\": 20, \"4\": 48, \"2\": 2}, \"4\": {\"4\": 129, \"6\": 62, \"7\": 48, \"2\": 1}, \"12\": {\"12\": 235, \"15\": 5}}, \"ORACLE.run2_38\": {\"13\": {\"13\": 199, \"3\": 34, \"8\": 3, \"10\": 1, \"7\": 3}, \"12\": {\"12\": 239, \"4\": 1}, \"2\": {\"2\": 222, \"14\": 18}, \"9\": {\"9\": 230, \"6\": 9, \"8\": 1}, \"15\": {\"15\": 207, \"1\": 12, \"8\": 8, \"5\": 13}, \"5\": {\"5\": 148, \"8\": 62, \"7\": 16, \"15\": 12, \"10\": 2}, \"14\": {\"14\": 203, \"2\": 30, \"11\": 2, \"7\": 4, \"12\": 1}, \"0\": {\"0\": 234, \"3\": 3, \"7\": 2, \"5\": 1}, \"3\": {\"3\": 180, \"13\": 38, \"0\": 15, \"10\": 5, \"8\": 1, \"9\": 1}, \"1\": {\"1\": 234, \"15\": 6}, \"11\": {\"11\": 239, \"14\": 1}, \"7\": {\"7\": 189, \"10\": 25, \"5\": 14, \"8\": 12}, \"8\": {\"8\": 159, \"5\": 63, \"7\": 9, \"0\": 2, \"15\": 5, \"13\": 2}, \"4\": {\"4\": 234, \"12\": 4, \"14\": 1, \"11\": 1}, \"10\": {\"10\": 200, \"13\": 2, \"5\": 2, \"7\": 33, \"0\": 2, \"3\": 1}, \"6\": {\"6\": 233, \"9\": 7}}, \"ORACLE.run2_26\": {\"10\": {\"15\": 1, \"14\": 36, \"10\": 110, \"8\": 14, \"0\": 61, \"4\": 7, \"1\": 3, \"6\": 8}, \"12\": {\"12\": 240}, \"1\": {\"1\": 222, \"14\": 17, \"2\": 1}, \"0\": {\"0\": 143, \"14\": 25, \"8\": 13, \"10\": 46, \"4\": 7, \"7\": 2, \"15\": 4}, \"15\": {\"15\": 213, \"3\": 9, \"7\": 6, \"9\": 1, \"2\": 8, \"8\": 2, \"4\": 1}, \"13\": {\"13\": 211, \"9\": 5, \"5\": 24}, \"8\": {\"2\": 13, \"8\": 180, \"7\": 8, \"4\": 3, \"14\": 15, \"0\": 11, \"15\": 1, \"10\": 9}, \"3\": {\"3\": 209, \"4\": 5, \"7\": 8, \"15\": 4, \"2\": 14}, \"11\": {\"11\": 240}, \"4\": {\"4\": 214, \"0\": 8, \"14\": 3, \"7\": 6, \"8\": 3, \"3\": 3, \"2\": 1, \"15\": 1, \"10\": 1}, \"6\": {\"6\": 229, \"9\": 5, \"8\": 1, \"10\": 4, \"13\": 1}, \"7\": {\"7\": 151, \"2\": 53, \"4\": 12, \"3\": 8, \"8\": 5, \"15\": 8, \"5\": 2, \"13\": 1}, \"14\": {\"14\": 161, \"1\": 16, \"0\": 37, \"8\": 10, \"10\": 11, \"4\": 5}, \"2\": {\"2\": 147, \"7\": 59, \"3\": 12, \"8\": 8, \"5\": 5, \"15\": 8, \"4\": 1}, \"5\": {\"13\": 36, \"5\": 186, \"7\": 6, \"2\": 5, \"3\": 4, \"9\": 3}, \"9\": {\"9\": 226, \"13\": 6, \"6\": 5, \"5\": 2, \"8\": 1}}, \"ORACLE.run2_20\": {\"5\": {\"5\": 201, \"0\": 7, \"2\": 9, \"12\": 9, \"13\": 1, \"1\": 1, \"7\": 4, \"15\": 5, \"3\": 3}, \"15\": {\"15\": 197, \"12\": 2, \"13\": 22, \"5\": 7, \"1\": 7, \"0\": 4, \"2\": 1}, \"9\": {\"9\": 206, \"3\": 13, \"2\": 15, \"12\": 5, \"1\": 1}, \"7\": {\"7\": 236, \"8\": 2, \"3\": 2}, \"3\": {\"3\": 198, \"2\": 22, \"9\": 14, \"7\": 4, \"12\": 2}, \"8\": {\"14\": 4, \"8\": 230, \"7\": 3, \"4\": 3}, \"4\": {\"4\": 237, \"12\": 2, \"7\": 1}, \"6\": {\"6\": 240}, \"2\": {\"2\": 183, \"3\": 21, \"5\": 2, \"12\": 11, \"9\": 23}, \"12\": {\"12\": 190, \"1\": 33, \"3\": 2, \"2\": 9, \"5\": 5, \"15\": 1}, \"0\": {\"0\": 236, \"5\": 4}, \"13\": {\"13\": 205, \"15\": 33, \"5\": 2}, \"10\": {\"10\": 240}, \"11\": {\"11\": 240}, \"14\": {\"14\": 226, \"8\": 6, \"6\": 8}, \"1\": {\"1\": 184, \"12\": 48, \"9\": 1, \"2\": 4, \"15\": 3}}, \"ORACLE.run2_50\": {\"1\": {\"1\": 236, \"4\": 2, \"6\": 2}, \"2\": {\"2\": 231, \"0\": 9}, \"8\": {\"8\": 239, \"3\": 1}, \"7\": {\"7\": 221, \"5\": 5, \"13\": 14}, \"14\": {\"14\": 240}, \"6\": {\"6\": 229, \"4\": 4, \"5\": 5, \"1\": 2}, \"3\": {\"3\": 239, \"8\": 1}, \"4\": {\"4\": 184, \"7\": 1, \"5\": 46, \"6\": 6, \"1\": 3}, \"12\": {\"12\": 237, \"11\": 2, \"9\": 1}, \"15\": {\"15\": 229, \"11\": 9, \"6\": 1, \"1\": 1}, \"11\": {\"11\": 232, \"15\": 4, \"12\": 4}, \"0\": {\"0\": 225, \"2\": 14, \"10\": 1}, \"9\": {\"9\": 238, \"12\": 1, \"11\": 1}, \"10\": {\"10\": 215, \"5\": 1, \"13\": 24}, \"5\": {\"6\": 9, \"5\": 154, \"4\": 57, \"7\": 11, \"13\": 9}, \"13\": {\"13\": 208, \"10\": 24, \"7\": 6, \"5\": 2}}, \"ORACLE.run2_32\": {\"2\": {\"2\": 234, \"5\": 3, \"7\": 1, \"4\": 1, \"14\": 1}, \"6\": {\"6\": 240}, \"5\": {\"5\": 207, \"2\": 12, \"8\": 7, \"4\": 4, \"7\": 5, \"14\": 3, \"0\": 2}, \"12\": {\"12\": 240}, \"13\": {\"13\": 203, \"4\": 34, \"7\": 2, \"11\": 1}, \"9\": {\"9\": 240}, \"11\": {\"11\": 224, \"7\": 4, \"0\": 7, \"4\": 4, \"13\": 1}, \"1\": {\"1\": 240}, \"3\": {\"3\": 240}, \"7\": {\"7\": 207, \"4\": 8, \"13\": 4, \"2\": 4, \"11\": 14, \"5\": 3}, \"14\": {\"14\": 230, \"5\": 2, \"2\": 1, \"0\": 7}, \"8\": {\"8\": 227, \"0\": 10, \"5\": 3}, \"4\": {\"7\": 16, \"4\": 200, \"13\": 20, \"5\": 2, \"11\": 2}, \"0\": {\"0\": 208, \"8\": 15, \"11\": 9, \"5\": 6, \"13\": 1, \"4\": 1}, \"10\": {\"10\": 240}, \"15\": {\"15\": 240}}, \"ORACLE.run2_44\": {\"13\": {\"13\": 240}, \"4\": {\"4\": 226, \"14\": 8, \"15\": 5, \"13\": 1}, \"6\": {\"6\": 224, \"9\": 8, \"7\": 4, \"13\": 4}, \"0\": {\"0\": 154, \"8\": 86}, \"10\": {\"10\": 240}, \"7\": {\"7\": 153, \"9\": 78, \"6\": 2, \"1\": 1, \"2\": 6}, \"14\": {\"14\": 218, \"15\": 10, \"4\": 5, \"5\": 7}, \"15\": {\"15\": 215, \"14\": 19, \"4\": 5, \"8\": 1}, \"5\": {\"5\": 221, \"14\": 18, \"15\": 1}, \"2\": {\"2\": 225, \"9\": 9, \"7\": 6}, \"9\": {\"9\": 141, \"6\": 2, \"7\": 74, \"2\": 23}, \"12\": {\"12\": 207, \"1\": 19, \"3\": 14}, \"8\": {\"8\": 149, \"0\": 86, \"14\": 2, \"5\": 2, \"15\": 1}, \"3\": {\"3\": 231, \"12\": 7, \"1\": 1, \"2\": 1}, \"1\": {\"1\": 187, \"12\": 42, \"3\": 10, \"2\": 1}, \"11\": {\"11\": 240}}, \"ORACLE.run2_14\": {\"1\": {\"1\": 238, \"5\": 2}, \"15\": {\"15\": 240}, \"10\": {\"10\": 240}, \"2\": {\"13\": 4, \"2\": 156, \"3\": 13, \"14\": 35, \"5\": 31, \"6\": 1}, \"9\": {\"9\": 240}, \"5\": {\"5\": 202, \"4\": 15, \"3\": 7, \"2\": 13, \"1\": 3}, \"7\": {\"7\": 240}, \"13\": {\"13\": 217, \"6\": 23}, \"8\": {\"8\": 240}, \"6\": {\"6\": 216, \"13\": 23, \"14\": 1}, \"3\": {\"3\": 230, \"5\": 2, \"2\": 6, \"4\": 1, \"14\": 1}, \"12\": {\"12\": 190, \"0\": 10, \"11\": 11, \"9\": 28, \"8\": 1}, \"0\": {\"0\": 240}, \"4\": {\"4\": 231, \"5\": 9}, \"14\": {\"3\": 3, \"14\": 204, \"2\": 33}, \"11\": {\"11\": 240}}, \"ORACLE.run1_8\": {\"13\": {\"10\": 29, \"13\": 125, \"0\": 34, \"4\": 34, \"14\": 7, \"6\": 10, \"7\": 1}, \"9\": {\"9\": 240}, \"15\": {\"15\": 236, \"12\": 2, \"8\": 2}, \"2\": {\"2\": 233, \"7\": 5, \"3\": 2}, \"3\": {\"3\": 239, \"2\": 1}, \"8\": {\"8\": 238, \"15\": 1, \"12\": 1}, \"5\": {\"5\": 232, \"1\": 5, \"10\": 2, \"14\": 1}, \"14\": {\"4\": 25, \"14\": 192, \"10\": 15, \"5\": 2, \"1\": 5, \"13\": 1}, \"1\": {\"1\": 229, \"14\": 2, \"11\": 9}, \"0\": {\"0\": 217, \"13\": 19, \"7\": 4}, \"10\": {\"10\": 212, \"14\": 14, \"13\": 10, \"4\": 4}, \"6\": {\"6\": 197, \"7\": 28, \"4\": 11, \"13\": 3, \"0\": 1}, \"11\": {\"11\": 230, \"1\": 9, \"5\": 1}, \"7\": {\"6\": 27, \"7\": 212, \"0\": 1}, \"4\": {\"4\": 195, \"13\": 23, \"6\": 9, \"14\": 11, \"10\": 2}, \"12\": {\"12\": 173, \"15\": 52, \"8\": 8, \"3\": 7}}, \"ORACLE.run1_38\": {\"13\": {\"13\": 224, \"10\": 9, \"15\": 3, \"5\": 1, \"2\": 3}, \"12\": {\"12\": 240}, \"2\": {\"2\": 232, \"14\": 8}, \"9\": {\"9\": 233, \"6\": 5, \"5\": 2}, \"15\": {\"15\": 218, \"1\": 13, \"8\": 6, \"5\": 2, \"13\": 1}, \"5\": {\"5\": 147, \"8\": 53, \"7\": 24, \"6\": 3, \"15\": 8, \"13\": 1, \"9\": 3, \"1\": 1}, \"14\": {\"14\": 236, \"2\": 4}, \"0\": {\"5\": 1, \"0\": 178, \"8\": 27, \"3\": 14, \"10\": 10, \"7\": 6, \"13\": 4}, \"3\": {\"3\": 239, \"0\": 1}, \"1\": {\"1\": 239, \"15\": 1}, \"11\": {\"11\": 240}, \"7\": {\"7\": 217, \"0\": 5, \"5\": 9, \"8\": 9}, \"8\": {\"8\": 170, \"15\": 10, \"5\": 41, \"0\": 12, \"7\": 6, \"13\": 1}, \"4\": {\"4\": 240}, \"10\": {\"10\": 233, \"13\": 4, \"2\": 1, \"11\": 1, \"8\": 1}, \"6\": {\"6\": 240}}, \"ORACLE.run1_26\": {\"10\": {\"0\": 70, \"10\": 118, \"14\": 18, \"8\": 27, \"15\": 2, \"1\": 2, \"6\": 1, \"4\": 2}, \"12\": {\"12\": 240}, \"1\": {\"1\": 220, \"4\": 5, \"14\": 12, \"8\": 1, \"7\": 1, \"10\": 1}, \"0\": {\"0\": 114, \"10\": 54, \"14\": 41, \"4\": 17, \"8\": 13, \"7\": 1}, \"15\": {\"9\": 31, \"6\": 4, \"15\": 191, \"8\": 7, \"10\": 3, \"13\": 3, \"7\": 1}, \"13\": {\"13\": 204, \"15\": 2, \"5\": 27, \"9\": 1, \"2\": 6}, \"8\": {\"8\": 145, \"0\": 23, \"10\": 38, \"14\": 7, \"4\": 15, \"7\": 10, \"15\": 2}, \"3\": {\"2\": 23, \"3\": 210, \"7\": 7}, \"11\": {\"11\": 240}, \"4\": {\"4\": 205, \"0\": 6, \"10\": 3, \"7\": 9, \"8\": 6, \"14\": 10, \"1\": 1}, \"6\": {\"6\": 223, \"9\": 9, \"15\": 6, \"10\": 2}, \"7\": {\"7\": 209, \"8\": 4, \"2\": 11, \"4\": 8, \"3\": 6, \"0\": 1, \"1\": 1}, \"14\": {\"0\": 27, \"14\": 156, \"1\": 15, \"10\": 12, \"4\": 22, \"8\": 8}, \"2\": {\"2\": 119, \"3\": 68, \"5\": 22, \"8\": 7, \"7\": 15, \"13\": 5, \"9\": 1, \"15\": 3}, \"5\": {\"5\": 227, \"13\": 8, \"2\": 5}, \"9\": {\"9\": 207, \"15\": 23, \"13\": 7, \"6\": 3}}, \"ORACLE.run1_20\": {\"5\": {\"5\": 217, \"7\": 1, \"0\": 14, \"15\": 6, \"12\": 1, \"4\": 1}, \"15\": {\"15\": 221, \"13\": 1, \"1\": 8, \"0\": 10}, \"9\": {\"9\": 201, \"2\": 23, \"3\": 12, \"12\": 4}, \"7\": {\"7\": 232, \"2\": 7, \"3\": 1}, \"3\": {\"3\": 178, \"2\": 13, \"12\": 32, \"9\": 9, \"10\": 2, \"4\": 3, \"7\": 3}, \"8\": {\"8\": 226, \"4\": 13, \"7\": 1}, \"4\": {\"4\": 236, \"8\": 4}, \"6\": {\"6\": 236, \"14\": 4}, \"2\": {\"2\": 190, \"12\": 5, \"13\": 2, \"9\": 30, \"3\": 6, \"7\": 7}, \"12\": {\"12\": 178, \"3\": 29, \"9\": 2, \"2\": 6, \"1\": 25}, \"0\": {\"0\": 212, \"5\": 19, \"15\": 9}, \"13\": {\"13\": 238, \"15\": 2}, \"10\": {\"10\": 240}, \"11\": {\"11\": 240}, \"14\": {\"14\": 236, \"6\": 4}, \"1\": {\"1\": 212, \"12\": 26, \"15\": 2}}, \"ORACLE.run1_50\": {\"1\": {\"1\": 224, \"15\": 11, \"4\": 3, \"6\": 1, \"11\": 1}, \"2\": {\"2\": 232, \"0\": 8}, \"8\": {\"8\": 239, \"3\": 1}, \"7\": {\"7\": 225, \"13\": 6, \"5\": 7, \"10\": 1, \"6\": 1}, \"14\": {\"14\": 240}, \"6\": {\"6\": 235, \"15\": 2, \"5\": 3}, \"3\": {\"3\": 239, \"8\": 1}, \"4\": {\"4\": 180, \"6\": 3, \"5\": 29, \"1\": 4, \"15\": 18, \"7\": 6}, \"12\": {\"12\": 235, \"9\": 5}, \"15\": {\"15\": 205, \"1\": 16, \"11\": 5, \"4\": 13, \"6\": 1}, \"11\": {\"11\": 234, \"15\": 3, \"9\": 2, \"12\": 1}, \"0\": {\"0\": 216, \"10\": 6, \"2\": 17, \"13\": 1}, \"9\": {\"11\": 14, \"9\": 220, \"12\": 6}, \"10\": {\"10\": 234, \"0\": 1, \"13\": 2, \"8\": 3}, \"5\": {\"1\": 12, \"13\": 15, \"4\": 20, \"5\": 155, \"7\": 35, \"6\": 2, \"15\": 1}, \"13\": {\"7\": 2, \"13\": 217, \"6\": 8, \"10\": 5, \"5\": 8}}, \"ORACLE.run1_32\": {\"2\": {\"2\": 204, \"4\": 35, \"7\": 1}, \"6\": {\"6\": 240}, \"5\": {\"5\": 165, \"7\": 49, \"3\": 9, \"0\": 2, \"13\": 7, \"8\": 2, \"4\": 4, \"2\": 2}, \"12\": {\"12\": 240}, \"13\": {\"13\": 202, \"4\": 12, \"3\": 18, \"11\": 1, \"7\": 2, \"5\": 4, \"8\": 1}, \"9\": {\"9\": 240}, \"11\": {\"11\": 232, \"14\": 6, \"3\": 1, \"13\": 1}, \"1\": {\"1\": 240}, \"3\": {\"3\": 238, \"8\": 1, \"13\": 1}, \"7\": {\"7\": 174, \"5\": 44, \"4\": 11, \"8\": 1, \"2\": 3, \"14\": 6, \"13\": 1}, \"14\": {\"14\": 166, \"0\": 25, \"7\": 11, \"11\": 26, \"5\": 3, \"8\": 5, \"13\": 1, \"3\": 3}, \"8\": {\"8\": 226, \"0\": 10, \"3\": 1, \"14\": 1, \"13\": 1, \"5\": 1}, \"4\": {\"4\": 204, \"2\": 29, \"5\": 1, \"7\": 4, \"13\": 2}, \"0\": {\"0\": 215, \"8\": 14, \"14\": 9, \"7\": 1, \"5\": 1}, \"10\": {\"10\": 236, \"1\": 4}, \"15\": {\"15\": 240}}, \"ORACLE.run1_44\": {\"13\": {\"13\": 178, \"6\": 41, \"9\": 21}, \"4\": {\"4\": 170, \"14\": 69, \"15\": 1}, \"6\": {\"6\": 184, \"13\": 37, \"9\": 12, \"7\": 7}, \"0\": {\"0\": 159, \"8\": 66, \"14\": 1, \"15\": 11, \"5\": 3}, \"10\": {\"10\": 213, \"1\": 18, \"2\": 5, \"12\": 3, \"7\": 1}, \"7\": {\"7\": 181, \"2\": 30, \"9\": 27, \"6\": 2}, \"14\": {\"14\": 160, \"4\": 61, \"15\": 17, \"5\": 2}, \"15\": {\"15\": 214, \"14\": 12, \"8\": 2, \"0\": 11, \"5\": 1}, \"5\": {\"5\": 221, \"8\": 3, \"14\": 8, \"15\": 4, \"0\": 4}, \"2\": {\"2\": 207, \"1\": 4, \"10\": 8, \"7\": 21}, \"9\": {\"9\": 162, \"13\": 13, \"7\": 46, \"6\": 19}, \"12\": {\"12\": 228, \"1\": 11, \"10\": 1}, \"8\": {\"8\": 143, \"0\": 80, \"5\": 6, \"15\": 11}, \"3\": {\"3\": 237, \"1\": 3}, \"1\": {\"1\": 201, \"3\": 7, \"12\": 13, \"10\": 9, \"2\": 10}, \"11\": {\"11\": 237, \"13\": 3}}, \"ORACLE.run1_14\": {\"1\": {\"1\": 233, \"5\": 7}, \"15\": {\"15\": 240}, \"10\": {\"10\": 240}, \"2\": {\"3\": 6, \"2\": 159, \"14\": 44, \"5\": 17, \"6\": 8, \"13\": 5, \"4\": 1}, \"9\": {\"9\": 240}, \"5\": {\"5\": 212, \"2\": 4, \"3\": 4, \"4\": 11, \"1\": 9}, \"7\": {\"7\": 240}, \"13\": {\"13\": 134, \"5\": 3, \"6\": 78, \"14\": 14, \"2\": 7, \"4\": 3, \"3\": 1}, \"8\": {\"8\": 240}, \"6\": {\"13\": 37, \"6\": 201, \"14\": 2}, \"3\": {\"3\": 234, \"2\": 4, \"14\": 1, \"4\": 1}, \"12\": {\"12\": 240}, \"0\": {\"0\": 238, \"3\": 2}, \"4\": {\"4\": 230, \"5\": 9, \"2\": 1}, \"14\": {\"14\": 226, \"2\": 12, \"13\": 1, \"6\": 1}, \"11\": {\"11\": 234, \"9\": 6}}}, \"per_domain_accuracy\": {\"ORACLE.run2_8\": {\"accuracy\": 0.8947916666666667, \"source?\": true}, \"ORACLE.run2_38\": {\"accuracy\": 0.8723958333333334, \"source?\": true}, \"ORACLE.run2_26\": {\"accuracy\": 0.8026041666666667, \"source?\": true}, \"ORACLE.run2_20\": {\"accuracy\": 0.8981770833333333, \"source?\": true}, \"ORACLE.run2_50\": {\"accuracy\": 0.9263020833333333, \"source?\": true}, \"ORACLE.run2_32\": {\"accuracy\": 0.9427083333333334, \"source?\": true}, \"ORACLE.run2_44\": {\"accuracy\": 0.8518229166666667, \"source?\": true}, \"ORACLE.run2_14\": {\"accuracy\": 0.928125, \"source?\": true}, \"ORACLE.run1_8\": {\"accuracy\": 0.8854166666666666, \"source?\": false}, \"ORACLE.run1_38\": {\"accuracy\": 0.9182291666666667, \"source?\": false}, \"ORACLE.run1_26\": {\"accuracy\": 0.7885416666666667, \"source?\": false}, \"ORACLE.run1_20\": {\"accuracy\": 0.9096354166666667, \"source?\": false}, \"ORACLE.run1_50\": {\"accuracy\": 0.9192708333333334, \"source?\": false}, \"ORACLE.run1_32\": {\"accuracy\": 0.9015625, \"source?\": false}, \"ORACLE.run1_44\": {\"accuracy\": 0.8059895833333334, \"source?\": false}, \"ORACLE.run1_14\": {\"accuracy\": 0.9221354166666667, \"source?\": false}}}, \"history\": {\"epoch_indices\": [1, 2, 3, 4, 5, 6, 7, 8, 9, 10], \"train_label_loss\": [0.8224136488090846, 0.5063052218091408, 0.40132753584046094, 0.34119469167642474, 0.3021227586335347, 0.27591879015339404, 0.25308670172027115, 0.233928941849791, 0.2202062727024202, 0.20475639982978464], \"source_val_label_loss\": [0.8925833702087402, 0.5154021978378296, 0.3891710937023163, 0.3346448242664337, 0.31773868203163147, 0.30762457847595215, 0.30604004859924316, 0.29136624932289124, 0.29447034001350403, 0.29760032892227173], \"target_val_label_loss\": [0.9470804929733276, 0.5024360418319702, 0.4001259207725525, 0.35422447323799133, 0.3532004654407501, 0.33875131607055664, 0.3510786294937134, 0.34388092160224915, 0.3518238663673401, 0.35168173909187317], \"source_val_acc_label\": [0.7386067708333334, 0.8171223958333333, 0.8592447916666667, 0.8780598958333333, 0.88564453125, 0.8896158854166667, 0.8867513020833333, 0.8935872395833333, 0.89189453125, 0.891015625], \"target_val_acc_label\": [0.74775390625, 0.81884765625, 0.8571940104166667, 0.8736653645833333, 0.8770182291666667, 0.88134765625, 0.8737955729166667, 0.8784830729166667, 0.8771158854166666, 0.8775716145833333]}, \"dataset_metrics\": {\"source\": {\"train\": {\"n_unique_x\": 179200, \"n_unique_y\": 16, \"n_batch/episode\": 6720}, \"val\": {\"n_unique_x\": 38400, \"n_unique_y\": 16, \"n_batch/episode\": 960}, \"test\": {\"n_unique_x\": 38400, \"n_unique_y\": 16, \"n_batch/episode\": 960}}, \"target\": {\"train\": {\"n_unique_x\": 179200, \"n_unique_y\": 16, \"n_batch/episode\": 6720}, \"val\": {\"n_unique_x\": 38400, \"n_unique_y\": 16, \"n_batch/episode\": 960}, \"test\": {\"n_unique_x\": 38400, \"n_unique_y\": 16, \"n_batch/episode\": 960}}}}'"
      ]
     },
     "execution_count": 29,
     "metadata": {},
     "output_type": "execute_result"
    }
   ],
   "source": [
    "json.dumps(experiment)"
   ]
  }
 ],
 "metadata": {
  "celltoolbar": "Tags",
  "kernelspec": {
   "display_name": "Python 3 (ipykernel)",
   "language": "python",
   "name": "python3"
  },
  "language_info": {
   "codemirror_mode": {
    "name": "ipython",
    "version": 3
   },
   "file_extension": ".py",
   "mimetype": "text/x-python",
   "name": "python",
   "nbconvert_exporter": "python",
   "pygments_lexer": "ipython3",
   "version": "3.8.12"
  },
  "papermill": {
   "default_parameters": {},
   "duration": 2191.761492,
   "end_time": "2022-03-21T21:41:13.173911",
   "environment_variables": {},
   "exception": null,
   "input_path": "/root/csc500-main/csc500-notebooks/templates/tl_ptn_template.ipynb",
   "output_path": "trial.ipynb",
   "parameters": {
    "parameters": {
     "BEST_MODEL_PATH": "./best_model.pth",
     "NUM_LOGS_PER_EPOCH": 10,
     "criteria_for_best": "target_accuracy",
     "dataset_seed": 154325,
     "datasets": [
      {
       "domain_prefix": "ORACLE.run1_",
       "domains": [
        32,
        38,
        8,
        44,
        14,
        50,
        20,
        26
       ],
       "episode_transforms": [],
       "labels": [
        "3123D52",
        "3123D65",
        "3123D79",
        "3123D80",
        "3123D54",
        "3123D70",
        "3123D7B",
        "3123D89",
        "3123D58",
        "3123D76",
        "3123D7D",
        "3123EFE",
        "3123D64",
        "3123D78",
        "3123D7E",
        "3124E4A"
       ],
       "num_examples_per_domain_per_label": 2000,
       "pickle_path": "/root/csc500-main/datasets/oracle.Run1_framed_2000Examples_stratified_ds.2022A.pkl",
       "source_or_target_dataset": "target",
       "x_transforms": [
        "unit_mag"
       ]
      },
      {
       "domain_prefix": "ORACLE.run2_",
       "domains": [
        32,
        38,
        8,
        44,
        14,
        50,
        20,
        26
       ],
       "episode_transforms": [],
       "labels": [
        "3123D52",
        "3123D65",
        "3123D79",
        "3123D80",
        "3123D54",
        "3123D70",
        "3123D7B",
        "3123D89",
        "3123D58",
        "3123D76",
        "3123D7D",
        "3123EFE",
        "3123D64",
        "3123D78",
        "3123D7E",
        "3124E4A"
       ],
       "num_examples_per_domain_per_label": 2000,
       "pickle_path": "/root/csc500-main/datasets/oracle.Run2_framed_2000Examples_stratified_ds.2022A.pkl",
       "source_or_target_dataset": "source",
       "x_transforms": [
        "unit_mag"
       ]
      }
     ],
     "device": "cuda",
     "experiment_name": "tl_1v2:oracle.run1.framed-oracle.run2.framed",
     "lr": 0.0001,
     "n_epoch": 50,
     "n_query": 2,
     "n_shot": 3,
     "n_way": 16,
     "patience": 3,
     "seed": 154325,
     "test_k_factor": 2,
     "torch_default_dtype": "torch.float32",
     "train_k_factor": 3,
     "val_k_factor": 2,
     "x_net": [
      {
       "class": "nnReshape",
       "kargs": {
        "shape": [
         -1,
         1,
         2,
         256
        ]
       }
      },
      {
       "class": "Conv2d",
       "kargs": {
        "bias": false,
        "in_channels": 1,
        "kernel_size": [
         1,
         7
        ],
        "out_channels": 256,
        "padding": [
         0,
         3
        ]
       }
      },
      {
       "class": "ReLU",
       "kargs": {
        "inplace": true
       }
      },
      {
       "class": "BatchNorm2d",
       "kargs": {
        "num_features": 256
       }
      },
      {
       "class": "Conv2d",
       "kargs": {
        "bias": true,
        "in_channels": 256,
        "kernel_size": [
         2,
         7
        ],
        "out_channels": 80,
        "padding": [
         0,
         3
        ]
       }
      },
      {
       "class": "ReLU",
       "kargs": {
        "inplace": true
       }
      },
      {
       "class": "BatchNorm2d",
       "kargs": {
        "num_features": 80
       }
      },
      {
       "class": "Flatten",
       "kargs": {}
      },
      {
       "class": "Linear",
       "kargs": {
        "in_features": 20480,
        "out_features": 256
       }
      },
      {
       "class": "ReLU",
       "kargs": {
        "inplace": true
       }
      },
      {
       "class": "BatchNorm1d",
       "kargs": {
        "num_features": 256
       }
      },
      {
       "class": "Linear",
       "kargs": {
        "in_features": 256,
        "out_features": 256
       }
      }
     ]
    }
   },
   "start_time": "2022-03-21T21:04:41.412419",
   "version": "2.3.4"
  }
 },
 "nbformat": 4,
 "nbformat_minor": 5
}