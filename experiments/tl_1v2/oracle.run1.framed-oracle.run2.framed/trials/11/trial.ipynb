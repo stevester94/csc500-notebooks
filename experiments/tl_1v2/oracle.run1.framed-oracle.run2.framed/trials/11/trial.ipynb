{
 "cells": [
  {
   "cell_type": "markdown",
   "id": "9fea5f46",
   "metadata": {
    "papermill": {
     "duration": 0.028936,
     "end_time": "2022-03-21T15:10:49.900504",
     "exception": false,
     "start_time": "2022-03-21T15:10:49.871568",
     "status": "completed"
    },
    "tags": []
   },
   "source": [
    "# Transfer Learning Template"
   ]
  },
  {
   "cell_type": "code",
   "execution_count": 1,
   "id": "0902182a",
   "metadata": {
    "execution": {
     "iopub.execute_input": "2022-03-21T15:10:49.961921Z",
     "iopub.status.busy": "2022-03-21T15:10:49.961077Z",
     "iopub.status.idle": "2022-03-21T15:10:51.819876Z",
     "shell.execute_reply": "2022-03-21T15:10:51.819362Z"
    },
    "papermill": {
     "duration": 1.89769,
     "end_time": "2022-03-21T15:10:51.820002",
     "exception": false,
     "start_time": "2022-03-21T15:10:49.922312",
     "status": "completed"
    },
    "tags": []
   },
   "outputs": [],
   "source": [
    "%load_ext autoreload\n",
    "%autoreload 2\n",
    "%matplotlib inline\n",
    "\n",
    "    \n",
    "import os, json, sys, time, random\n",
    "import numpy as np\n",
    "import torch\n",
    "from torch.optim import Adam\n",
    "from  easydict import EasyDict\n",
    "import matplotlib.pyplot as plt\n",
    "\n",
    "from steves_models.steves_ptn import Steves_Prototypical_Network\n",
    "\n",
    "from steves_utils.lazy_iterable_wrapper import Lazy_Iterable_Wrapper\n",
    "from steves_utils.iterable_aggregator import Iterable_Aggregator\n",
    "from steves_utils.ptn_train_eval_test_jig import  PTN_Train_Eval_Test_Jig\n",
    "from steves_utils.torch_sequential_builder import build_sequential\n",
    "from steves_utils.torch_utils import get_dataset_metrics, ptn_confusion_by_domain_over_dataloader\n",
    "from steves_utils.utils_v2 import (per_domain_accuracy_from_confusion, get_datasets_base_path)\n",
    "from steves_utils.PTN.utils import independent_accuracy_assesment\n",
    "\n",
    "from torch.utils.data import DataLoader\n",
    "\n",
    "from steves_utils.stratified_dataset.episodic_accessor import Episodic_Accessor_Factory\n",
    "\n",
    "from steves_utils.ptn_do_report import (\n",
    "    get_loss_curve,\n",
    "    get_results_table,\n",
    "    get_parameters_table,\n",
    "    get_domain_accuracies,\n",
    ")\n",
    "\n",
    "from steves_utils.transforms import get_chained_transform"
   ]
  },
  {
   "cell_type": "markdown",
   "id": "41c840b4",
   "metadata": {
    "papermill": {
     "duration": 0.019076,
     "end_time": "2022-03-21T15:10:51.858912",
     "exception": false,
     "start_time": "2022-03-21T15:10:51.839836",
     "status": "completed"
    },
    "tags": []
   },
   "source": [
    "# Allowed Parameters\n",
    "These are allowed parameters, not defaults\n",
    "Each of these values need to be present in the injected parameters (the notebook will raise an exception if they are not present)\n",
    "\n",
    "Papermill uses the cell tag \"parameters\" to inject the real parameters below this cell.\n",
    "Enable tags to see what I mean"
   ]
  },
  {
   "cell_type": "code",
   "execution_count": 2,
   "id": "fd44eb83",
   "metadata": {
    "execution": {
     "iopub.execute_input": "2022-03-21T15:10:51.901171Z",
     "iopub.status.busy": "2022-03-21T15:10:51.900775Z",
     "iopub.status.idle": "2022-03-21T15:10:51.918978Z",
     "shell.execute_reply": "2022-03-21T15:10:51.918607Z"
    },
    "papermill": {
     "duration": 0.041096,
     "end_time": "2022-03-21T15:10:51.919082",
     "exception": false,
     "start_time": "2022-03-21T15:10:51.877986",
     "status": "completed"
    },
    "tags": []
   },
   "outputs": [],
   "source": [
    "required_parameters = {\n",
    "    \"experiment_name\",\n",
    "    \"lr\",\n",
    "    \"device\",\n",
    "    \"seed\",\n",
    "    \"dataset_seed\",\n",
    "    \"n_shot\",\n",
    "    \"n_query\",\n",
    "    \"n_way\",\n",
    "    \"train_k_factor\",\n",
    "    \"val_k_factor\",\n",
    "    \"test_k_factor\",\n",
    "    \"n_epoch\",\n",
    "    \"patience\",\n",
    "    \"criteria_for_best\",\n",
    "    \"x_net\",\n",
    "    \"datasets\",\n",
    "    \"torch_default_dtype\",\n",
    "    \"NUM_LOGS_PER_EPOCH\",\n",
    "    \"BEST_MODEL_PATH\",\n",
    "    \"x_shape\",\n",
    "}"
   ]
  },
  {
   "cell_type": "code",
   "execution_count": 3,
   "id": "fa3f0049",
   "metadata": {
    "execution": {
     "iopub.execute_input": "2022-03-21T15:10:51.968170Z",
     "iopub.status.busy": "2022-03-21T15:10:51.967727Z",
     "iopub.status.idle": "2022-03-21T15:10:51.987875Z",
     "shell.execute_reply": "2022-03-21T15:10:51.987474Z"
    },
    "papermill": {
     "duration": 0.049202,
     "end_time": "2022-03-21T15:10:51.987985",
     "exception": false,
     "start_time": "2022-03-21T15:10:51.938783",
     "status": "completed"
    },
    "tags": [
     "parameters"
    ]
   },
   "outputs": [],
   "source": [
    "from steves_utils.CORES.utils import (\n",
    "    ALL_NODES,\n",
    "    ALL_NODES_MINIMUM_1000_EXAMPLES,\n",
    "    ALL_DAYS\n",
    ")\n",
    "\n",
    "from steves_utils.ORACLE.utils_v2 import (\n",
    "    ALL_DISTANCES_FEET_NARROWED,\n",
    "    ALL_RUNS,\n",
    "    ALL_SERIAL_NUMBERS,\n",
    ")\n",
    "\n",
    "standalone_parameters = {}\n",
    "standalone_parameters[\"experiment_name\"] = \"STANDALONE PTN\"\n",
    "standalone_parameters[\"lr\"] = 0.001\n",
    "standalone_parameters[\"device\"] = \"cuda\"\n",
    "\n",
    "standalone_parameters[\"seed\"] = 1337\n",
    "standalone_parameters[\"dataset_seed\"] = 1337\n",
    "\n",
    "standalone_parameters[\"n_way\"] = 8\n",
    "standalone_parameters[\"n_shot\"] = 3\n",
    "standalone_parameters[\"n_query\"]  = 2\n",
    "standalone_parameters[\"train_k_factor\"] = 1\n",
    "standalone_parameters[\"val_k_factor\"] = 2\n",
    "standalone_parameters[\"test_k_factor\"] = 2\n",
    "\n",
    "\n",
    "standalone_parameters[\"n_epoch\"] = 50\n",
    "\n",
    "standalone_parameters[\"patience\"] = 10\n",
    "standalone_parameters[\"criteria_for_best\"] = \"source_loss\"\n",
    "\n",
    "standalone_parameters[\"datasets\"] = [\n",
    "    {\n",
    "        \"labels\": ALL_SERIAL_NUMBERS,\n",
    "        \"domains\": ALL_DISTANCES_FEET_NARROWED,\n",
    "        \"num_examples_per_domain_per_label\": 100,\n",
    "        \"pickle_path\": os.path.join(get_datasets_base_path(), \"oracle.Run1_framed_2000Examples_stratified_ds.2022A.pkl\"),\n",
    "        \"source_or_target_dataset\": \"source\",\n",
    "        \"x_transforms\": [\"unit_mag\", \"minus_two\"],\n",
    "        \"episode_transforms\": [],\n",
    "        \"domain_prefix\": \"ORACLE_\"\n",
    "    },\n",
    "    {\n",
    "        \"labels\": ALL_NODES,\n",
    "        \"domains\": ALL_DAYS,\n",
    "        \"num_examples_per_domain_per_label\": 100,\n",
    "        \"pickle_path\": os.path.join(get_datasets_base_path(), \"cores.stratified_ds.2022A.pkl\"),\n",
    "        \"source_or_target_dataset\": \"target\",\n",
    "        \"x_transforms\": [\"unit_power\", \"times_zero\"],\n",
    "        \"episode_transforms\": [],\n",
    "        \"domain_prefix\": \"CORES_\"\n",
    "    }   \n",
    "]\n",
    "\n",
    "standalone_parameters[\"torch_default_dtype\"] = \"torch.float32\" \n",
    "\n",
    "\n",
    "\n",
    "standalone_parameters[\"x_net\"] =     [\n",
    "    {\"class\": \"nnReshape\", \"kargs\": {\"shape\":[-1, 1, 2, 256]}},\n",
    "    {\"class\": \"Conv2d\", \"kargs\": { \"in_channels\":1, \"out_channels\":256, \"kernel_size\":(1,7), \"bias\":False, \"padding\":(0,3), },},\n",
    "    {\"class\": \"ReLU\", \"kargs\": {\"inplace\": True}},\n",
    "    {\"class\": \"BatchNorm2d\", \"kargs\": {\"num_features\":256}},\n",
    "\n",
    "    {\"class\": \"Conv2d\", \"kargs\": { \"in_channels\":256, \"out_channels\":80, \"kernel_size\":(2,7), \"bias\":True, \"padding\":(0,3), },},\n",
    "    {\"class\": \"ReLU\", \"kargs\": {\"inplace\": True}},\n",
    "    {\"class\": \"BatchNorm2d\", \"kargs\": {\"num_features\":80}},\n",
    "    {\"class\": \"Flatten\", \"kargs\": {}},\n",
    "\n",
    "    {\"class\": \"Linear\", \"kargs\": {\"in_features\": 80*256, \"out_features\": 256}}, # 80 units per IQ pair\n",
    "    {\"class\": \"ReLU\", \"kargs\": {\"inplace\": True}},\n",
    "    {\"class\": \"BatchNorm1d\", \"kargs\": {\"num_features\":256}},\n",
    "\n",
    "    {\"class\": \"Linear\", \"kargs\": {\"in_features\": 256, \"out_features\": 256}},\n",
    "]\n",
    "\n",
    "# Parameters relevant to results\n",
    "# These parameters will basically never need to change\n",
    "standalone_parameters[\"NUM_LOGS_PER_EPOCH\"] = 10\n",
    "standalone_parameters[\"BEST_MODEL_PATH\"] = \"./best_model.pth\"\n",
    "\n",
    "\n",
    "\n",
    "\n"
   ]
  },
  {
   "cell_type": "code",
   "execution_count": 4,
   "id": "d89bd2a1",
   "metadata": {
    "execution": {
     "iopub.execute_input": "2022-03-21T15:10:52.036207Z",
     "iopub.status.busy": "2022-03-21T15:10:52.035654Z",
     "iopub.status.idle": "2022-03-21T15:10:52.066488Z",
     "shell.execute_reply": "2022-03-21T15:10:52.066093Z"
    },
    "papermill": {
     "duration": 0.058421,
     "end_time": "2022-03-21T15:10:52.066601",
     "exception": false,
     "start_time": "2022-03-21T15:10:52.008180",
     "status": "completed"
    },
    "tags": [
     "injected-parameters"
    ]
   },
   "outputs": [],
   "source": [
    "# Parameters\n",
    "parameters = {\n",
    "    \"experiment_name\": \"tl_1v2:oracle.run1.framed-oracle.run2.framed\",\n",
    "    \"device\": \"cuda\",\n",
    "    \"lr\": 0.0001,\n",
    "    \"n_shot\": 3,\n",
    "    \"n_query\": 2,\n",
    "    \"train_k_factor\": 3,\n",
    "    \"val_k_factor\": 2,\n",
    "    \"test_k_factor\": 2,\n",
    "    \"torch_default_dtype\": \"torch.float32\",\n",
    "    \"n_epoch\": 50,\n",
    "    \"patience\": 3,\n",
    "    \"criteria_for_best\": \"target_accuracy\",\n",
    "    \"x_net\": [\n",
    "        {\"class\": \"nnReshape\", \"kargs\": {\"shape\": [-1, 1, 2, 256]}},\n",
    "        {\n",
    "            \"class\": \"Conv2d\",\n",
    "            \"kargs\": {\n",
    "                \"in_channels\": 1,\n",
    "                \"out_channels\": 256,\n",
    "                \"kernel_size\": [1, 7],\n",
    "                \"bias\": False,\n",
    "                \"padding\": [0, 3],\n",
    "            },\n",
    "        },\n",
    "        {\"class\": \"ReLU\", \"kargs\": {\"inplace\": True}},\n",
    "        {\"class\": \"BatchNorm2d\", \"kargs\": {\"num_features\": 256}},\n",
    "        {\n",
    "            \"class\": \"Conv2d\",\n",
    "            \"kargs\": {\n",
    "                \"in_channels\": 256,\n",
    "                \"out_channels\": 80,\n",
    "                \"kernel_size\": [2, 7],\n",
    "                \"bias\": True,\n",
    "                \"padding\": [0, 3],\n",
    "            },\n",
    "        },\n",
    "        {\"class\": \"ReLU\", \"kargs\": {\"inplace\": True}},\n",
    "        {\"class\": \"BatchNorm2d\", \"kargs\": {\"num_features\": 80}},\n",
    "        {\"class\": \"Flatten\", \"kargs\": {}},\n",
    "        {\"class\": \"Linear\", \"kargs\": {\"in_features\": 20480, \"out_features\": 256}},\n",
    "        {\"class\": \"ReLU\", \"kargs\": {\"inplace\": True}},\n",
    "        {\"class\": \"BatchNorm1d\", \"kargs\": {\"num_features\": 256}},\n",
    "        {\"class\": \"Linear\", \"kargs\": {\"in_features\": 256, \"out_features\": 256}},\n",
    "    ],\n",
    "    \"NUM_LOGS_PER_EPOCH\": 10,\n",
    "    \"BEST_MODEL_PATH\": \"./best_model.pth\",\n",
    "    \"n_way\": 16,\n",
    "    \"datasets\": [\n",
    "        {\n",
    "            \"labels\": [\n",
    "                \"3123D52\",\n",
    "                \"3123D65\",\n",
    "                \"3123D79\",\n",
    "                \"3123D80\",\n",
    "                \"3123D54\",\n",
    "                \"3123D70\",\n",
    "                \"3123D7B\",\n",
    "                \"3123D89\",\n",
    "                \"3123D58\",\n",
    "                \"3123D76\",\n",
    "                \"3123D7D\",\n",
    "                \"3123EFE\",\n",
    "                \"3123D64\",\n",
    "                \"3123D78\",\n",
    "                \"3123D7E\",\n",
    "                \"3124E4A\",\n",
    "            ],\n",
    "            \"domains\": [32, 38, 8, 44, 14, 50, 20, 26],\n",
    "            \"num_examples_per_domain_per_label\": 2000,\n",
    "            \"pickle_path\": \"/root/csc500-main/datasets/oracle.Run1_framed_2000Examples_stratified_ds.2022A.pkl\",\n",
    "            \"source_or_target_dataset\": \"target\",\n",
    "            \"x_transforms\": [],\n",
    "            \"episode_transforms\": [],\n",
    "            \"domain_prefix\": \"ORACLE.run1_\",\n",
    "        },\n",
    "        {\n",
    "            \"labels\": [\n",
    "                \"3123D52\",\n",
    "                \"3123D65\",\n",
    "                \"3123D79\",\n",
    "                \"3123D80\",\n",
    "                \"3123D54\",\n",
    "                \"3123D70\",\n",
    "                \"3123D7B\",\n",
    "                \"3123D89\",\n",
    "                \"3123D58\",\n",
    "                \"3123D76\",\n",
    "                \"3123D7D\",\n",
    "                \"3123EFE\",\n",
    "                \"3123D64\",\n",
    "                \"3123D78\",\n",
    "                \"3123D7E\",\n",
    "                \"3124E4A\",\n",
    "            ],\n",
    "            \"domains\": [32, 38, 8, 44, 14, 50, 20, 26],\n",
    "            \"num_examples_per_domain_per_label\": 2000,\n",
    "            \"pickle_path\": \"/root/csc500-main/datasets/oracle.Run2_framed_2000Examples_stratified_ds.2022A.pkl\",\n",
    "            \"source_or_target_dataset\": \"source\",\n",
    "            \"x_transforms\": [],\n",
    "            \"episode_transforms\": [],\n",
    "            \"domain_prefix\": \"ORACLE.run2_\",\n",
    "        },\n",
    "    ],\n",
    "    \"dataset_seed\": 420,\n",
    "    \"seed\": 420,\n",
    "}\n"
   ]
  },
  {
   "cell_type": "code",
   "execution_count": 5,
   "id": "8fa1cc33",
   "metadata": {
    "execution": {
     "iopub.execute_input": "2022-03-21T15:10:52.114456Z",
     "iopub.status.busy": "2022-03-21T15:10:52.113806Z",
     "iopub.status.idle": "2022-03-21T15:10:52.142652Z",
     "shell.execute_reply": "2022-03-21T15:10:52.141882Z"
    },
    "papermill": {
     "duration": 0.056329,
     "end_time": "2022-03-21T15:10:52.142844",
     "exception": false,
     "start_time": "2022-03-21T15:10:52.086515",
     "status": "completed"
    },
    "tags": []
   },
   "outputs": [],
   "source": [
    "# Set this to True if you want to run this template directly\n",
    "STANDALONE = False\n",
    "if STANDALONE:\n",
    "    print(\"parameters not injected, running with standalone_parameters\")\n",
    "    parameters = standalone_parameters\n",
    "\n",
    "if not 'parameters' in locals() and not 'parameters' in globals():\n",
    "    raise Exception(\"Parameter injection failed\")\n",
    "\n",
    "#Use an easy dict for all the parameters\n",
    "p = EasyDict(parameters)\n",
    "\n",
    "if \"x_shape\" not in p:\n",
    "    p.x_shape = [2,256] # Default to this if we dont supply x_shape\n",
    "\n",
    "\n",
    "supplied_keys = set(p.keys())\n",
    "\n",
    "if  supplied_keys != required_parameters:\n",
    "    print(\"Parameters are incorrect\")\n",
    "    if len(supplied_keys - required_parameters)>0: print(\"Shouldn't have:\", str(supplied_keys - required_parameters))\n",
    "    if len(required_parameters - supplied_keys)>0: print(\"Need to have:\", str(required_parameters - supplied_keys))\n",
    "    raise RuntimeError(\"Parameters are incorrect\")"
   ]
  },
  {
   "cell_type": "code",
   "execution_count": 6,
   "id": "3a028d58",
   "metadata": {
    "execution": {
     "iopub.execute_input": "2022-03-21T15:10:52.248832Z",
     "iopub.status.busy": "2022-03-21T15:10:52.248011Z",
     "iopub.status.idle": "2022-03-21T15:10:52.278045Z",
     "shell.execute_reply": "2022-03-21T15:10:52.277326Z"
    },
    "papermill": {
     "duration": 0.109298,
     "end_time": "2022-03-21T15:10:52.278218",
     "exception": false,
     "start_time": "2022-03-21T15:10:52.168920",
     "status": "completed"
    },
    "tags": []
   },
   "outputs": [],
   "source": [
    "###################################\n",
    "# Set the RNGs and make it all deterministic\n",
    "###################################\n",
    "np.random.seed(p.seed)\n",
    "random.seed(p.seed)\n",
    "torch.manual_seed(p.seed)\n",
    "\n",
    "torch.use_deterministic_algorithms(True) "
   ]
  },
  {
   "cell_type": "code",
   "execution_count": 7,
   "id": "b691acf6",
   "metadata": {
    "execution": {
     "iopub.execute_input": "2022-03-21T15:10:52.326970Z",
     "iopub.status.busy": "2022-03-21T15:10:52.326606Z",
     "iopub.status.idle": "2022-03-21T15:10:52.354310Z",
     "shell.execute_reply": "2022-03-21T15:10:52.353613Z"
    },
    "papermill": {
     "duration": 0.051255,
     "end_time": "2022-03-21T15:10:52.354465",
     "exception": false,
     "start_time": "2022-03-21T15:10:52.303210",
     "status": "completed"
    },
    "tags": []
   },
   "outputs": [],
   "source": [
    "###########################################\n",
    "# The stratified datasets honor this\n",
    "###########################################\n",
    "torch.set_default_dtype(eval(p.torch_default_dtype))"
   ]
  },
  {
   "cell_type": "code",
   "execution_count": 8,
   "id": "b5fba671",
   "metadata": {
    "execution": {
     "iopub.execute_input": "2022-03-21T15:10:52.402427Z",
     "iopub.status.busy": "2022-03-21T15:10:52.402029Z",
     "iopub.status.idle": "2022-03-21T15:10:52.463089Z",
     "shell.execute_reply": "2022-03-21T15:10:52.462392Z"
    },
    "papermill": {
     "duration": 0.084088,
     "end_time": "2022-03-21T15:10:52.463241",
     "exception": false,
     "start_time": "2022-03-21T15:10:52.379153",
     "status": "completed"
    },
    "tags": []
   },
   "outputs": [],
   "source": [
    "###################################\n",
    "# Build the network(s)\n",
    "# Note: It's critical to do this AFTER setting the RNG\n",
    "###################################\n",
    "x_net = build_sequential(p.x_net)"
   ]
  },
  {
   "cell_type": "code",
   "execution_count": 9,
   "id": "5d7e61cc",
   "metadata": {
    "execution": {
     "iopub.execute_input": "2022-03-21T15:10:52.511570Z",
     "iopub.status.busy": "2022-03-21T15:10:52.511088Z",
     "iopub.status.idle": "2022-03-21T15:10:52.535656Z",
     "shell.execute_reply": "2022-03-21T15:10:52.534841Z"
    },
    "papermill": {
     "duration": 0.048287,
     "end_time": "2022-03-21T15:10:52.535809",
     "exception": false,
     "start_time": "2022-03-21T15:10:52.487522",
     "status": "completed"
    },
    "tags": []
   },
   "outputs": [],
   "source": [
    "start_time_secs = time.time()"
   ]
  },
  {
   "cell_type": "code",
   "execution_count": 10,
   "id": "c6b67dfd",
   "metadata": {
    "execution": {
     "iopub.execute_input": "2022-03-21T15:10:52.583370Z",
     "iopub.status.busy": "2022-03-21T15:10:52.582853Z",
     "iopub.status.idle": "2022-03-21T15:10:52.609658Z",
     "shell.execute_reply": "2022-03-21T15:10:52.608958Z"
    },
    "papermill": {
     "duration": 0.050099,
     "end_time": "2022-03-21T15:10:52.609809",
     "exception": false,
     "start_time": "2022-03-21T15:10:52.559710",
     "status": "completed"
    },
    "tags": []
   },
   "outputs": [],
   "source": [
    "p.domains_source = []\n",
    "p.domains_target = []\n",
    "\n",
    "\n",
    "train_original_source = []\n",
    "val_original_source   = []\n",
    "test_original_source  = []\n",
    "\n",
    "train_original_target = []\n",
    "val_original_target   = []\n",
    "test_original_target  = []"
   ]
  },
  {
   "cell_type": "code",
   "execution_count": 11,
   "id": "e3d9c3d3",
   "metadata": {
    "execution": {
     "iopub.execute_input": "2022-03-21T15:10:52.660553Z",
     "iopub.status.busy": "2022-03-21T15:10:52.660193Z",
     "iopub.status.idle": "2022-03-21T15:10:52.686716Z",
     "shell.execute_reply": "2022-03-21T15:10:52.685919Z"
    },
    "papermill": {
     "duration": 0.049734,
     "end_time": "2022-03-21T15:10:52.686868",
     "exception": false,
     "start_time": "2022-03-21T15:10:52.637134",
     "status": "completed"
    },
    "tags": []
   },
   "outputs": [],
   "source": [
    "# global_x_transform_func = lambda x: normalize(x.to(torch.get_default_dtype()), \"unit_power\") # unit_power, unit_mag\n",
    "# global_x_transform_func = lambda x: normalize(x, \"unit_power\") # unit_power, unit_mag"
   ]
  },
  {
   "cell_type": "code",
   "execution_count": 12,
   "id": "acb78fd2",
   "metadata": {
    "execution": {
     "iopub.execute_input": "2022-03-21T15:10:52.742142Z",
     "iopub.status.busy": "2022-03-21T15:10:52.741565Z",
     "iopub.status.idle": "2022-03-21T15:10:52.766181Z",
     "shell.execute_reply": "2022-03-21T15:10:52.766845Z"
    },
    "papermill": {
     "duration": 0.055405,
     "end_time": "2022-03-21T15:10:52.767023",
     "exception": false,
     "start_time": "2022-03-21T15:10:52.711618",
     "status": "completed"
    },
    "tags": []
   },
   "outputs": [],
   "source": [
    "def add_dataset(\n",
    "    labels,\n",
    "    domains,\n",
    "    pickle_path,\n",
    "    x_transforms,\n",
    "    episode_transforms,\n",
    "    domain_prefix,\n",
    "    num_examples_per_domain_per_label,\n",
    "    source_or_target_dataset:str,\n",
    "    iterator_seed=p.seed,\n",
    "    dataset_seed=p.dataset_seed,\n",
    "    n_shot=p.n_shot,\n",
    "    n_way=p.n_way,\n",
    "    n_query=p.n_query,\n",
    "    train_val_test_k_factors=(p.train_k_factor,p.val_k_factor,p.test_k_factor),\n",
    "):\n",
    "   \n",
    "    if x_transforms == []: x_transform = None\n",
    "    else: x_transform = get_chained_transform(x_transforms)\n",
    "    \n",
    "    if episode_transforms == []: episode_transform = None\n",
    "    else: raise Exception(\"episode_transforms not implemented\")\n",
    "    \n",
    "    episode_transform = lambda tup, _prefix=domain_prefix: (_prefix + str(tup[0]), tup[1])\n",
    "\n",
    "\n",
    "    eaf = Episodic_Accessor_Factory(\n",
    "        labels=labels,\n",
    "        domains=domains,\n",
    "        num_examples_per_domain_per_label=num_examples_per_domain_per_label,\n",
    "        iterator_seed=iterator_seed,\n",
    "        dataset_seed=dataset_seed,\n",
    "        n_shot=n_shot,\n",
    "        n_way=n_way,\n",
    "        n_query=n_query,\n",
    "        train_val_test_k_factors=train_val_test_k_factors,\n",
    "        pickle_path=pickle_path,\n",
    "        x_transform_func=x_transform,\n",
    "    )\n",
    "\n",
    "    train, val, test = eaf.get_train(), eaf.get_val(), eaf.get_test()\n",
    "    train = Lazy_Iterable_Wrapper(train, episode_transform)\n",
    "    val = Lazy_Iterable_Wrapper(val, episode_transform)\n",
    "    test = Lazy_Iterable_Wrapper(test, episode_transform)\n",
    "\n",
    "    if source_or_target_dataset==\"source\":\n",
    "        train_original_source.append(train)\n",
    "        val_original_source.append(val)\n",
    "        test_original_source.append(test)\n",
    "\n",
    "        p.domains_source.extend(\n",
    "            [domain_prefix + str(u) for u in domains]\n",
    "        )\n",
    "    elif source_or_target_dataset==\"target\":\n",
    "        train_original_target.append(train)\n",
    "        val_original_target.append(val)\n",
    "        test_original_target.append(test)\n",
    "        p.domains_target.extend(\n",
    "            [domain_prefix + str(u) for u in domains]\n",
    "        )\n",
    "    else:\n",
    "        raise Exception(f\"invalid source_or_target_dataset: {source_or_target_dataset}\")\n",
    "    "
   ]
  },
  {
   "cell_type": "code",
   "execution_count": 13,
   "id": "fe266617",
   "metadata": {
    "execution": {
     "iopub.execute_input": "2022-03-21T15:10:52.816545Z",
     "iopub.status.busy": "2022-03-21T15:10:52.815951Z",
     "iopub.status.idle": "2022-03-21T15:10:56.308820Z",
     "shell.execute_reply": "2022-03-21T15:10:56.308086Z"
    },
    "papermill": {
     "duration": 3.517022,
     "end_time": "2022-03-21T15:10:56.308994",
     "exception": false,
     "start_time": "2022-03-21T15:10:52.791972",
     "status": "completed"
    },
    "tags": []
   },
   "outputs": [],
   "source": [
    "for ds in p.datasets:\n",
    "    add_dataset(**ds)"
   ]
  },
  {
   "cell_type": "code",
   "execution_count": 14,
   "id": "b90d65ac",
   "metadata": {
    "execution": {
     "iopub.execute_input": "2022-03-21T15:10:56.358205Z",
     "iopub.status.busy": "2022-03-21T15:10:56.357833Z",
     "iopub.status.idle": "2022-03-21T15:10:56.384282Z",
     "shell.execute_reply": "2022-03-21T15:10:56.383468Z"
    },
    "papermill": {
     "duration": 0.050868,
     "end_time": "2022-03-21T15:10:56.384437",
     "exception": false,
     "start_time": "2022-03-21T15:10:56.333569",
     "status": "completed"
    },
    "tags": []
   },
   "outputs": [],
   "source": [
    "# from steves_utils.CORES.utils import (\n",
    "#     ALL_NODES,\n",
    "#     ALL_NODES_MINIMUM_1000_EXAMPLES,\n",
    "#     ALL_DAYS\n",
    "# )\n",
    "\n",
    "# add_dataset(\n",
    "#     labels=ALL_NODES,\n",
    "#     domains = ALL_DAYS,\n",
    "#     num_examples_per_domain_per_label=100,\n",
    "#     pickle_path=os.path.join(get_datasets_base_path(), \"cores.stratified_ds.2022A.pkl\"),\n",
    "#     source_or_target_dataset=\"target\",\n",
    "#     x_transform_func=global_x_transform_func,\n",
    "#     domain_modifier=lambda u: f\"cores_{u}\"\n",
    "# )"
   ]
  },
  {
   "cell_type": "code",
   "execution_count": 15,
   "id": "76db484d",
   "metadata": {
    "execution": {
     "iopub.execute_input": "2022-03-21T15:10:56.438026Z",
     "iopub.status.busy": "2022-03-21T15:10:56.437656Z",
     "iopub.status.idle": "2022-03-21T15:10:56.462765Z",
     "shell.execute_reply": "2022-03-21T15:10:56.461972Z"
    },
    "papermill": {
     "duration": 0.049394,
     "end_time": "2022-03-21T15:10:56.462923",
     "exception": false,
     "start_time": "2022-03-21T15:10:56.413529",
     "status": "completed"
    },
    "tags": []
   },
   "outputs": [],
   "source": [
    "# from steves_utils.ORACLE.utils_v2 import (\n",
    "#     ALL_DISTANCES_FEET,\n",
    "#     ALL_RUNS,\n",
    "#     ALL_SERIAL_NUMBERS,\n",
    "# )\n",
    "\n",
    "\n",
    "# add_dataset(\n",
    "#     labels=ALL_SERIAL_NUMBERS,\n",
    "#     domains = list(set(ALL_DISTANCES_FEET) - {2,62}),\n",
    "#     num_examples_per_domain_per_label=100,\n",
    "#     pickle_path=os.path.join(get_datasets_base_path(), \"oracle.Run2_framed_2000Examples_stratified_ds.2022A.pkl\"),\n",
    "#     source_or_target_dataset=\"source\",\n",
    "#     x_transform_func=global_x_transform_func,\n",
    "#     domain_modifier=lambda u: f\"oracle1_{u}\"\n",
    "# )\n"
   ]
  },
  {
   "cell_type": "code",
   "execution_count": 16,
   "id": "97dea9d2",
   "metadata": {
    "execution": {
     "iopub.execute_input": "2022-03-21T15:10:56.515136Z",
     "iopub.status.busy": "2022-03-21T15:10:56.514769Z",
     "iopub.status.idle": "2022-03-21T15:10:56.541001Z",
     "shell.execute_reply": "2022-03-21T15:10:56.540197Z"
    },
    "papermill": {
     "duration": 0.050261,
     "end_time": "2022-03-21T15:10:56.541155",
     "exception": false,
     "start_time": "2022-03-21T15:10:56.490894",
     "status": "completed"
    },
    "tags": []
   },
   "outputs": [],
   "source": [
    "# from steves_utils.ORACLE.utils_v2 import (\n",
    "#     ALL_DISTANCES_FEET,\n",
    "#     ALL_RUNS,\n",
    "#     ALL_SERIAL_NUMBERS,\n",
    "# )\n",
    "\n",
    "\n",
    "# add_dataset(\n",
    "#     labels=ALL_SERIAL_NUMBERS,\n",
    "#     domains = list(set(ALL_DISTANCES_FEET) - {2,62,56}),\n",
    "#     num_examples_per_domain_per_label=100,\n",
    "#     pickle_path=os.path.join(get_datasets_base_path(), \"oracle.Run2_framed_2000Examples_stratified_ds.2022A.pkl\"),\n",
    "#     source_or_target_dataset=\"source\",\n",
    "#     x_transform_func=global_x_transform_func,\n",
    "#     domain_modifier=lambda u: f\"oracle2_{u}\"\n",
    "# )"
   ]
  },
  {
   "cell_type": "code",
   "execution_count": 17,
   "id": "6f289866",
   "metadata": {
    "execution": {
     "iopub.execute_input": "2022-03-21T15:10:56.594690Z",
     "iopub.status.busy": "2022-03-21T15:10:56.594323Z",
     "iopub.status.idle": "2022-03-21T15:10:56.617990Z",
     "shell.execute_reply": "2022-03-21T15:10:56.617192Z"
    },
    "papermill": {
     "duration": 0.047848,
     "end_time": "2022-03-21T15:10:56.618144",
     "exception": false,
     "start_time": "2022-03-21T15:10:56.570296",
     "status": "completed"
    },
    "tags": []
   },
   "outputs": [],
   "source": [
    "# add_dataset(\n",
    "#     labels=list(range(19)),\n",
    "#     domains = [0,1,2],\n",
    "#     num_examples_per_domain_per_label=100,\n",
    "#     pickle_path=os.path.join(get_datasets_base_path(), \"metehan.stratified_ds.2022A.pkl\"),\n",
    "#     source_or_target_dataset=\"target\",\n",
    "#     x_transform_func=global_x_transform_func,\n",
    "#     domain_modifier=lambda u: f\"met_{u}\"\n",
    "# )"
   ]
  },
  {
   "cell_type": "code",
   "execution_count": 18,
   "id": "86a863c3",
   "metadata": {
    "execution": {
     "iopub.execute_input": "2022-03-21T15:10:56.667465Z",
     "iopub.status.busy": "2022-03-21T15:10:56.667062Z",
     "iopub.status.idle": "2022-03-21T15:10:56.692346Z",
     "shell.execute_reply": "2022-03-21T15:10:56.691527Z"
    },
    "papermill": {
     "duration": 0.048737,
     "end_time": "2022-03-21T15:10:56.692499",
     "exception": false,
     "start_time": "2022-03-21T15:10:56.643762",
     "status": "completed"
    },
    "tags": []
   },
   "outputs": [],
   "source": [
    "# # from steves_utils.wisig.utils import (\n",
    "# #     ALL_NODES_MINIMUM_100_EXAMPLES,\n",
    "# #     ALL_NODES_MINIMUM_500_EXAMPLES,\n",
    "# #     ALL_NODES_MINIMUM_1000_EXAMPLES,\n",
    "# #     ALL_DAYS\n",
    "# # )\n",
    "\n",
    "# import steves_utils.wisig.utils as wisig\n",
    "\n",
    "\n",
    "# add_dataset(\n",
    "#     labels=wisig.ALL_NODES_MINIMUM_100_EXAMPLES,\n",
    "#     domains = wisig.ALL_DAYS,\n",
    "#     num_examples_per_domain_per_label=100,\n",
    "#     pickle_path=os.path.join(get_datasets_base_path(), \"wisig.node3-19.stratified_ds.2022A.pkl\"),\n",
    "#     source_or_target_dataset=\"target\",\n",
    "#     x_transform_func=global_x_transform_func,\n",
    "#     domain_modifier=lambda u: f\"wisig_{u}\"\n",
    "# )"
   ]
  },
  {
   "cell_type": "code",
   "execution_count": 19,
   "id": "fd5442bc",
   "metadata": {
    "execution": {
     "iopub.execute_input": "2022-03-21T15:10:56.747337Z",
     "iopub.status.busy": "2022-03-21T15:10:56.740077Z",
     "iopub.status.idle": "2022-03-21T15:10:56.769475Z",
     "shell.execute_reply": "2022-03-21T15:10:56.768667Z"
    },
    "papermill": {
     "duration": 0.052229,
     "end_time": "2022-03-21T15:10:56.769630",
     "exception": false,
     "start_time": "2022-03-21T15:10:56.717401",
     "status": "completed"
    },
    "tags": []
   },
   "outputs": [],
   "source": [
    "###################################\n",
    "# Build the dataset\n",
    "###################################\n",
    "train_original_source = Iterable_Aggregator(train_original_source, p.seed)\n",
    "val_original_source = Iterable_Aggregator(val_original_source, p.seed)\n",
    "test_original_source = Iterable_Aggregator(test_original_source, p.seed)\n",
    "\n",
    "\n",
    "train_original_target = Iterable_Aggregator(train_original_target, p.seed)\n",
    "val_original_target = Iterable_Aggregator(val_original_target, p.seed)\n",
    "test_original_target = Iterable_Aggregator(test_original_target, p.seed)\n",
    "\n",
    "# For CNN We only use X and Y. And we only train on the source.\n",
    "# Properly form the data using a transform lambda and Lazy_Iterable_Wrapper. Finally wrap them in a dataloader\n",
    "\n",
    "transform_lambda = lambda ex: ex[1] # Original is (<domain>, <episode>) so we strip down to episode only\n",
    "\n",
    "train_processed_source = Lazy_Iterable_Wrapper(train_original_source, transform_lambda)\n",
    "val_processed_source   = Lazy_Iterable_Wrapper(val_original_source, transform_lambda)\n",
    "test_processed_source  = Lazy_Iterable_Wrapper(test_original_source, transform_lambda)\n",
    "\n",
    "train_processed_target = Lazy_Iterable_Wrapper(train_original_target, transform_lambda)\n",
    "val_processed_target   = Lazy_Iterable_Wrapper(val_original_target, transform_lambda)\n",
    "test_processed_target  = Lazy_Iterable_Wrapper(test_original_target, transform_lambda)\n",
    "\n",
    "datasets = EasyDict({\n",
    "    \"source\": {\n",
    "        \"original\": {\"train\":train_original_source, \"val\":val_original_source, \"test\":test_original_source},\n",
    "        \"processed\": {\"train\":train_processed_source, \"val\":val_processed_source, \"test\":test_processed_source}\n",
    "    },\n",
    "    \"target\": {\n",
    "        \"original\": {\"train\":train_original_target, \"val\":val_original_target, \"test\":test_original_target},\n",
    "        \"processed\": {\"train\":train_processed_target, \"val\":val_processed_target, \"test\":test_processed_target}\n",
    "    },\n",
    "})"
   ]
  },
  {
   "cell_type": "code",
   "execution_count": 20,
   "id": "5b3c01fc",
   "metadata": {
    "execution": {
     "iopub.execute_input": "2022-03-21T15:10:56.821185Z",
     "iopub.status.busy": "2022-03-21T15:10:56.820817Z",
     "iopub.status.idle": "2022-03-21T15:11:12.481584Z",
     "shell.execute_reply": "2022-03-21T15:11:12.480868Z"
    },
    "papermill": {
     "duration": 15.68602,
     "end_time": "2022-03-21T15:11:12.481771",
     "exception": false,
     "start_time": "2022-03-21T15:10:56.795751",
     "status": "completed"
    },
    "tags": []
   },
   "outputs": [
    {
     "name": "stdout",
     "output_type": "stream",
     "text": [
      "{'ORACLE.run2_44', 'ORACLE.run2_20', 'ORACLE.run2_38', 'ORACLE.run2_32', 'ORACLE.run2_8', 'ORACLE.run2_14', 'ORACLE.run2_26', 'ORACLE.run2_50'}\n"
     ]
    },
    {
     "name": "stdout",
     "output_type": "stream",
     "text": [
      "{'ORACLE.run1_32', 'ORACLE.run1_38', 'ORACLE.run1_14', 'ORACLE.run1_50', 'ORACLE.run1_20', 'ORACLE.run1_26', 'ORACLE.run1_8', 'ORACLE.run1_44'}\n"
     ]
    },
    {
     "name": "stdout",
     "output_type": "stream",
     "text": [
      "tensor([[[ 0.0015, -0.0039,  0.0000,  ...,  0.0040, -0.0003, -0.0005],\n",
      "         [ 0.0022, -0.0002, -0.0024,  ..., -0.0005,  0.0038,  0.0029]],\n",
      "\n",
      "        [[-0.0034,  0.0002,  0.0043,  ..., -0.0014, -0.0028,  0.0030],\n",
      "         [-0.0010, -0.0021,  0.0016,  ...,  0.0037,  0.0025,  0.0027]],\n",
      "\n",
      "        [[-0.0035, -0.0016,  0.0033,  ...,  0.0019,  0.0007,  0.0036],\n",
      "         [ 0.0021, -0.0023, -0.0025,  ...,  0.0041,  0.0027, -0.0005]],\n",
      "\n",
      "        ...,\n",
      "\n",
      "        [[-0.0028,  0.0019,  0.0031,  ..., -0.0005, -0.0051, -0.0042],\n",
      "         [ 0.0003, -0.0049,  0.0020,  ...,  0.0051, -0.0025, -0.0013]],\n",
      "\n",
      "        [[ 0.0012, -0.0049,  0.0003,  ...,  0.0048,  0.0017,  0.0032],\n",
      "         [ 0.0028,  0.0020, -0.0043,  ..., -0.0022,  0.0057,  0.0023]],\n",
      "\n",
      "        [[-0.0013, -0.0036,  0.0008,  ...,  0.0051,  0.0038,  0.0033],\n",
      "         [ 0.0053, -0.0001, -0.0060,  ...,  0.0012,  0.0023, -0.0048]]])\n"
     ]
    }
   ],
   "source": [
    "from steves_utils.transforms import get_average_magnitude, get_average_power\n",
    "\n",
    "print(set([u for u,_ in val_original_source]))\n",
    "print(set([u for u,_ in val_original_target]))\n",
    "\n",
    "s_x, s_y, q_x, q_y, _ = next(iter(train_processed_source))\n",
    "print(s_x)\n",
    "\n",
    "# for ds in [\n",
    "#     train_processed_source,\n",
    "#     val_processed_source,\n",
    "#     test_processed_source,\n",
    "#     train_processed_target,\n",
    "#     val_processed_target,\n",
    "#     test_processed_target\n",
    "# ]:\n",
    "#     for s_x, s_y, q_x, q_y, _ in ds:\n",
    "#         for X in (s_x, q_x):\n",
    "#             for x in X:\n",
    "#                 assert np.isclose(get_average_magnitude(x.numpy()), 1.0)\n",
    "#                 assert np.isclose(get_average_power(x.numpy()), 1.0)\n",
    "                "
   ]
  },
  {
   "cell_type": "code",
   "execution_count": 21,
   "id": "bbdacba1",
   "metadata": {
    "execution": {
     "iopub.execute_input": "2022-03-21T15:11:12.535010Z",
     "iopub.status.busy": "2022-03-21T15:11:12.534610Z",
     "iopub.status.idle": "2022-03-21T15:11:12.773120Z",
     "shell.execute_reply": "2022-03-21T15:11:12.772737Z"
    },
    "papermill": {
     "duration": 0.265275,
     "end_time": "2022-03-21T15:11:12.773230",
     "exception": false,
     "start_time": "2022-03-21T15:11:12.507955",
     "status": "completed"
    },
    "tags": []
   },
   "outputs": [
    {
     "name": "stdout",
     "output_type": "stream",
     "text": [
      "(2, 256)\n"
     ]
    }
   ],
   "source": [
    "###################################\n",
    "# Build the model\n",
    "###################################\n",
    "# easfsl only wants a tuple for the shape\n",
    "model = Steves_Prototypical_Network(x_net, device=p.device, x_shape=tuple(p.x_shape))\n",
    "optimizer = Adam(params=model.parameters(), lr=p.lr)"
   ]
  },
  {
   "cell_type": "code",
   "execution_count": 22,
   "id": "22b39ac5",
   "metadata": {
    "execution": {
     "iopub.execute_input": "2022-03-21T15:11:12.822935Z",
     "iopub.status.busy": "2022-03-21T15:11:12.822559Z",
     "iopub.status.idle": "2022-03-21T16:10:43.413689Z",
     "shell.execute_reply": "2022-03-21T16:10:43.413341Z"
    },
    "papermill": {
     "duration": 3570.617555,
     "end_time": "2022-03-21T16:10:43.413781",
     "exception": false,
     "start_time": "2022-03-21T15:11:12.796226",
     "status": "completed"
    },
    "tags": []
   },
   "outputs": [
    {
     "name": "stdout",
     "output_type": "stream",
     "text": [
      "epoch: 1, [batch: 1 / 6720], examples_per_second: 33.4858, train_label_loss: 2.6894, \n"
     ]
    },
    {
     "name": "stdout",
     "output_type": "stream",
     "text": [
      "epoch: 1, [batch: 672 / 6720], examples_per_second: 2972.0780, train_label_loss: 0.3520, \n"
     ]
    },
    {
     "name": "stdout",
     "output_type": "stream",
     "text": [
      "epoch: 1, [batch: 1344 / 6720], examples_per_second: 2940.1692, train_label_loss: 0.3099, \n"
     ]
    },
    {
     "name": "stdout",
     "output_type": "stream",
     "text": [
      "epoch: 1, [batch: 2016 / 6720], examples_per_second: 2957.3163, train_label_loss: 1.0444, \n"
     ]
    },
    {
     "name": "stdout",
     "output_type": "stream",
     "text": [
      "epoch: 1, [batch: 2688 / 6720], examples_per_second: 3121.2242, train_label_loss: 0.4006, \n"
     ]
    },
    {
     "name": "stdout",
     "output_type": "stream",
     "text": [
      "epoch: 1, [batch: 3360 / 6720], examples_per_second: 3342.7382, train_label_loss: 0.2098, \n"
     ]
    },
    {
     "name": "stdout",
     "output_type": "stream",
     "text": [
      "epoch: 1, [batch: 4032 / 6720], examples_per_second: 3544.7988, train_label_loss: 0.4105, \n"
     ]
    },
    {
     "name": "stdout",
     "output_type": "stream",
     "text": [
      "epoch: 1, [batch: 4704 / 6720], examples_per_second: 2981.3587, train_label_loss: 0.1339, \n"
     ]
    },
    {
     "name": "stdout",
     "output_type": "stream",
     "text": [
      "epoch: 1, [batch: 5376 / 6720], examples_per_second: 2907.8978, train_label_loss: 0.3080, \n"
     ]
    },
    {
     "name": "stdout",
     "output_type": "stream",
     "text": [
      "epoch: 1, [batch: 6048 / 6720], examples_per_second: 2838.3328, train_label_loss: 0.2140, \n"
     ]
    },
    {
     "name": "stdout",
     "output_type": "stream",
     "text": [
      "=============================================================\n",
      "epoch: 1, source_val_acc_label: 0.7639, target_val_acc_label: 0.7419, source_val_label_loss: 5.8744, target_val_label_loss: 6.7539, \n",
      "=============================================================\n"
     ]
    },
    {
     "name": "stdout",
     "output_type": "stream",
     "text": [
      "New best\n"
     ]
    },
    {
     "name": "stdout",
     "output_type": "stream",
     "text": [
      "epoch: 2, [batch: 1 / 6720], examples_per_second: 2.2349, train_label_loss: 0.4072, \n"
     ]
    },
    {
     "name": "stdout",
     "output_type": "stream",
     "text": [
      "epoch: 2, [batch: 672 / 6720], examples_per_second: 2635.0432, train_label_loss: 0.5338, \n"
     ]
    },
    {
     "name": "stdout",
     "output_type": "stream",
     "text": [
      "epoch: 2, [batch: 1344 / 6720], examples_per_second: 2589.6355, train_label_loss: 0.2525, \n"
     ]
    },
    {
     "name": "stdout",
     "output_type": "stream",
     "text": [
      "epoch: 2, [batch: 2016 / 6720], examples_per_second: 2690.9104, train_label_loss: 0.3825, \n"
     ]
    },
    {
     "name": "stdout",
     "output_type": "stream",
     "text": [
      "epoch: 2, [batch: 2688 / 6720], examples_per_second: 2873.7826, train_label_loss: 0.3239, \n"
     ]
    },
    {
     "name": "stdout",
     "output_type": "stream",
     "text": [
      "epoch: 2, [batch: 3360 / 6720], examples_per_second: 3353.5726, train_label_loss: 0.2242, \n"
     ]
    },
    {
     "name": "stdout",
     "output_type": "stream",
     "text": [
      "epoch: 2, [batch: 4032 / 6720], examples_per_second: 2899.0013, train_label_loss: 0.3685, \n"
     ]
    },
    {
     "name": "stdout",
     "output_type": "stream",
     "text": [
      "epoch: 2, [batch: 4704 / 6720], examples_per_second: 2513.5723, train_label_loss: 0.3311, \n"
     ]
    },
    {
     "name": "stdout",
     "output_type": "stream",
     "text": [
      "epoch: 2, [batch: 5376 / 6720], examples_per_second: 2593.8683, train_label_loss: 0.1162, \n"
     ]
    },
    {
     "name": "stdout",
     "output_type": "stream",
     "text": [
      "epoch: 2, [batch: 6048 / 6720], examples_per_second: 2703.3259, train_label_loss: 0.2943, \n"
     ]
    },
    {
     "name": "stdout",
     "output_type": "stream",
     "text": [
      "=============================================================\n",
      "epoch: 2, source_val_acc_label: 0.9102, target_val_acc_label: 0.8923, source_val_label_loss: 0.2778, target_val_label_loss: 0.3498, \n",
      "=============================================================\n"
     ]
    },
    {
     "name": "stdout",
     "output_type": "stream",
     "text": [
      "New best\n"
     ]
    },
    {
     "name": "stdout",
     "output_type": "stream",
     "text": [
      "epoch: 3, [batch: 1 / 6720], examples_per_second: 2.0156, train_label_loss: 1.0991, \n"
     ]
    },
    {
     "name": "stdout",
     "output_type": "stream",
     "text": [
      "epoch: 3, [batch: 672 / 6720], examples_per_second: 2307.7678, train_label_loss: 0.1158, \n"
     ]
    },
    {
     "name": "stdout",
     "output_type": "stream",
     "text": [
      "epoch: 3, [batch: 1344 / 6720], examples_per_second: 2307.8830, train_label_loss: 0.3178, \n"
     ]
    },
    {
     "name": "stdout",
     "output_type": "stream",
     "text": [
      "epoch: 3, [batch: 2016 / 6720], examples_per_second: 2342.7529, train_label_loss: 0.2813, \n"
     ]
    },
    {
     "name": "stdout",
     "output_type": "stream",
     "text": [
      "epoch: 3, [batch: 2688 / 6720], examples_per_second: 2568.0589, train_label_loss: 0.0548, \n"
     ]
    },
    {
     "name": "stdout",
     "output_type": "stream",
     "text": [
      "epoch: 3, [batch: 3360 / 6720], examples_per_second: 2650.0223, train_label_loss: 0.0617, \n"
     ]
    },
    {
     "name": "stdout",
     "output_type": "stream",
     "text": [
      "epoch: 3, [batch: 4032 / 6720], examples_per_second: 2597.9336, train_label_loss: 0.2035, \n"
     ]
    },
    {
     "name": "stdout",
     "output_type": "stream",
     "text": [
      "epoch: 3, [batch: 4704 / 6720], examples_per_second: 2478.5450, train_label_loss: 0.1407, \n"
     ]
    },
    {
     "name": "stdout",
     "output_type": "stream",
     "text": [
      "epoch: 3, [batch: 5376 / 6720], examples_per_second: 2631.5224, train_label_loss: 0.0258, \n"
     ]
    },
    {
     "name": "stdout",
     "output_type": "stream",
     "text": [
      "epoch: 3, [batch: 6048 / 6720], examples_per_second: 2699.9994, train_label_loss: 0.2314, \n"
     ]
    },
    {
     "name": "stdout",
     "output_type": "stream",
     "text": [
      "=============================================================\n",
      "epoch: 3, source_val_acc_label: 0.9177, target_val_acc_label: 0.8973, source_val_label_loss: 0.2534, target_val_label_loss: 0.3550, \n",
      "=============================================================\n"
     ]
    },
    {
     "name": "stdout",
     "output_type": "stream",
     "text": [
      "New best\n"
     ]
    },
    {
     "name": "stdout",
     "output_type": "stream",
     "text": [
      "epoch: 4, [batch: 1 / 6720], examples_per_second: 2.0196, train_label_loss: 0.0474, \n"
     ]
    },
    {
     "name": "stdout",
     "output_type": "stream",
     "text": [
      "epoch: 4, [batch: 672 / 6720], examples_per_second: 2300.6050, train_label_loss: 0.2246, \n"
     ]
    },
    {
     "name": "stdout",
     "output_type": "stream",
     "text": [
      "epoch: 4, [batch: 1344 / 6720], examples_per_second: 2304.3254, train_label_loss: 1.1333, \n"
     ]
    },
    {
     "name": "stdout",
     "output_type": "stream",
     "text": [
      "epoch: 4, [batch: 2016 / 6720], examples_per_second: 2323.5113, train_label_loss: 0.0601, \n"
     ]
    },
    {
     "name": "stdout",
     "output_type": "stream",
     "text": [
      "epoch: 4, [batch: 2688 / 6720], examples_per_second: 2576.5240, train_label_loss: 0.2244, \n"
     ]
    },
    {
     "name": "stdout",
     "output_type": "stream",
     "text": [
      "epoch: 4, [batch: 3360 / 6720], examples_per_second: 2617.6244, train_label_loss: 0.3621, \n"
     ]
    },
    {
     "name": "stdout",
     "output_type": "stream",
     "text": [
      "epoch: 4, [batch: 4032 / 6720], examples_per_second: 2558.0248, train_label_loss: 0.0879, \n"
     ]
    },
    {
     "name": "stdout",
     "output_type": "stream",
     "text": [
      "epoch: 4, [batch: 4704 / 6720], examples_per_second: 2533.2622, train_label_loss: 0.0717, \n"
     ]
    },
    {
     "name": "stdout",
     "output_type": "stream",
     "text": [
      "epoch: 4, [batch: 5376 / 6720], examples_per_second: 2614.7241, train_label_loss: 0.2816, \n"
     ]
    },
    {
     "name": "stdout",
     "output_type": "stream",
     "text": [
      "epoch: 4, [batch: 6048 / 6720], examples_per_second: 2698.8442, train_label_loss: 0.0962, \n"
     ]
    },
    {
     "name": "stdout",
     "output_type": "stream",
     "text": [
      "=============================================================\n",
      "epoch: 4, source_val_acc_label: 0.9262, target_val_acc_label: 0.9046, source_val_label_loss: 0.2327, target_val_label_loss: 0.3362, \n",
      "=============================================================\n"
     ]
    },
    {
     "name": "stdout",
     "output_type": "stream",
     "text": [
      "New best\n"
     ]
    },
    {
     "name": "stdout",
     "output_type": "stream",
     "text": [
      "epoch: 5, [batch: 1 / 6720], examples_per_second: 2.0216, train_label_loss: 0.0959, \n"
     ]
    },
    {
     "name": "stdout",
     "output_type": "stream",
     "text": [
      "epoch: 5, [batch: 672 / 6720], examples_per_second: 2337.5602, train_label_loss: 0.4630, \n"
     ]
    },
    {
     "name": "stdout",
     "output_type": "stream",
     "text": [
      "epoch: 5, [batch: 1344 / 6720], examples_per_second: 2327.2050, train_label_loss: 0.0867, \n"
     ]
    },
    {
     "name": "stdout",
     "output_type": "stream",
     "text": [
      "epoch: 5, [batch: 2016 / 6720], examples_per_second: 2378.1166, train_label_loss: 0.1557, \n"
     ]
    },
    {
     "name": "stdout",
     "output_type": "stream",
     "text": [
      "epoch: 5, [batch: 2688 / 6720], examples_per_second: 2535.1916, train_label_loss: 0.1762, \n"
     ]
    },
    {
     "name": "stdout",
     "output_type": "stream",
     "text": [
      "epoch: 5, [batch: 3360 / 6720], examples_per_second: 2606.9903, train_label_loss: 0.1044, \n"
     ]
    },
    {
     "name": "stdout",
     "output_type": "stream",
     "text": [
      "epoch: 5, [batch: 4032 / 6720], examples_per_second: 2585.0615, train_label_loss: 0.2359, \n"
     ]
    },
    {
     "name": "stdout",
     "output_type": "stream",
     "text": [
      "epoch: 5, [batch: 4704 / 6720], examples_per_second: 2471.8507, train_label_loss: 0.2301, \n"
     ]
    },
    {
     "name": "stdout",
     "output_type": "stream",
     "text": [
      "epoch: 5, [batch: 5376 / 6720], examples_per_second: 2579.0150, train_label_loss: 0.1024, \n"
     ]
    },
    {
     "name": "stdout",
     "output_type": "stream",
     "text": [
      "epoch: 5, [batch: 6048 / 6720], examples_per_second: 2682.4566, train_label_loss: 0.0264, \n"
     ]
    },
    {
     "name": "stdout",
     "output_type": "stream",
     "text": [
      "=============================================================\n",
      "epoch: 5, source_val_acc_label: 0.9411, target_val_acc_label: 0.9173, source_val_label_loss: 0.1777, target_val_label_loss: 0.2946, \n",
      "=============================================================\n"
     ]
    },
    {
     "name": "stdout",
     "output_type": "stream",
     "text": [
      "New best\n"
     ]
    },
    {
     "name": "stdout",
     "output_type": "stream",
     "text": [
      "epoch: 6, [batch: 1 / 6720], examples_per_second: 2.0222, train_label_loss: 1.5202, \n"
     ]
    },
    {
     "name": "stdout",
     "output_type": "stream",
     "text": [
      "epoch: 6, [batch: 672 / 6720], examples_per_second: 2346.8762, train_label_loss: 0.1483, \n"
     ]
    },
    {
     "name": "stdout",
     "output_type": "stream",
     "text": [
      "epoch: 6, [batch: 1344 / 6720], examples_per_second: 2320.9724, train_label_loss: 0.0987, \n"
     ]
    },
    {
     "name": "stdout",
     "output_type": "stream",
     "text": [
      "epoch: 6, [batch: 2016 / 6720], examples_per_second: 2357.1429, train_label_loss: 0.2334, \n"
     ]
    },
    {
     "name": "stdout",
     "output_type": "stream",
     "text": [
      "epoch: 6, [batch: 2688 / 6720], examples_per_second: 2584.8743, train_label_loss: 0.0159, \n"
     ]
    },
    {
     "name": "stdout",
     "output_type": "stream",
     "text": [
      "epoch: 6, [batch: 3360 / 6720], examples_per_second: 2735.0254, train_label_loss: 0.0594, \n"
     ]
    },
    {
     "name": "stdout",
     "output_type": "stream",
     "text": [
      "epoch: 6, [batch: 4032 / 6720], examples_per_second: 2941.0877, train_label_loss: 0.1206, \n"
     ]
    },
    {
     "name": "stdout",
     "output_type": "stream",
     "text": [
      "epoch: 6, [batch: 4704 / 6720], examples_per_second: 3115.0124, train_label_loss: 0.3543, \n"
     ]
    },
    {
     "name": "stdout",
     "output_type": "stream",
     "text": [
      "epoch: 6, [batch: 5376 / 6720], examples_per_second: 3278.5813, train_label_loss: 0.3338, \n"
     ]
    },
    {
     "name": "stdout",
     "output_type": "stream",
     "text": [
      "epoch: 6, [batch: 6048 / 6720], examples_per_second: 3355.0355, train_label_loss: 0.4523, \n"
     ]
    },
    {
     "name": "stdout",
     "output_type": "stream",
     "text": [
      "=============================================================\n",
      "epoch: 6, source_val_acc_label: 0.9449, target_val_acc_label: 0.9194, source_val_label_loss: 0.1580, target_val_label_loss: 0.2956, \n",
      "=============================================================\n"
     ]
    },
    {
     "name": "stdout",
     "output_type": "stream",
     "text": [
      "New best\n"
     ]
    },
    {
     "name": "stdout",
     "output_type": "stream",
     "text": [
      "epoch: 7, [batch: 1 / 6720], examples_per_second: 3.2420, train_label_loss: 0.2489, \n"
     ]
    },
    {
     "name": "stdout",
     "output_type": "stream",
     "text": [
      "epoch: 7, [batch: 672 / 6720], examples_per_second: 3596.3031, train_label_loss: 0.1780, \n"
     ]
    },
    {
     "name": "stdout",
     "output_type": "stream",
     "text": [
      "epoch: 7, [batch: 1344 / 6720], examples_per_second: 3391.9143, train_label_loss: 0.4542, \n"
     ]
    },
    {
     "name": "stdout",
     "output_type": "stream",
     "text": [
      "epoch: 7, [batch: 2016 / 6720], examples_per_second: 3427.5319, train_label_loss: 0.0207, \n"
     ]
    },
    {
     "name": "stdout",
     "output_type": "stream",
     "text": [
      "epoch: 7, [batch: 2688 / 6720], examples_per_second: 3391.3058, train_label_loss: 0.3674, \n"
     ]
    },
    {
     "name": "stdout",
     "output_type": "stream",
     "text": [
      "epoch: 7, [batch: 3360 / 6720], examples_per_second: 3731.6276, train_label_loss: 0.1179, \n"
     ]
    },
    {
     "name": "stdout",
     "output_type": "stream",
     "text": [
      "epoch: 7, [batch: 4032 / 6720], examples_per_second: 3999.7101, train_label_loss: 0.0560, \n"
     ]
    },
    {
     "name": "stdout",
     "output_type": "stream",
     "text": [
      "epoch: 7, [batch: 4704 / 6720], examples_per_second: 3901.3253, train_label_loss: 0.1947, \n"
     ]
    },
    {
     "name": "stdout",
     "output_type": "stream",
     "text": [
      "epoch: 7, [batch: 5376 / 6720], examples_per_second: 4035.0467, train_label_loss: 0.2263, \n"
     ]
    },
    {
     "name": "stdout",
     "output_type": "stream",
     "text": [
      "epoch: 7, [batch: 6048 / 6720], examples_per_second: 3960.6297, train_label_loss: 0.0117, \n"
     ]
    },
    {
     "name": "stdout",
     "output_type": "stream",
     "text": [
      "=============================================================\n",
      "epoch: 7, source_val_acc_label: 0.9450, target_val_acc_label: 0.9197, source_val_label_loss: 0.1594, target_val_label_loss: 0.2783, \n",
      "=============================================================\n"
     ]
    },
    {
     "name": "stdout",
     "output_type": "stream",
     "text": [
      "New best\n"
     ]
    },
    {
     "name": "stdout",
     "output_type": "stream",
     "text": [
      "epoch: 8, [batch: 1 / 6720], examples_per_second: 3.8502, train_label_loss: 0.0494, \n"
     ]
    },
    {
     "name": "stdout",
     "output_type": "stream",
     "text": [
      "epoch: 8, [batch: 672 / 6720], examples_per_second: 2966.6538, train_label_loss: 0.0858, \n"
     ]
    },
    {
     "name": "stdout",
     "output_type": "stream",
     "text": [
      "epoch: 8, [batch: 1344 / 6720], examples_per_second: 3051.9823, train_label_loss: 0.0419, \n"
     ]
    },
    {
     "name": "stdout",
     "output_type": "stream",
     "text": [
      "epoch: 8, [batch: 2016 / 6720], examples_per_second: 2922.1096, train_label_loss: 0.2972, \n"
     ]
    },
    {
     "name": "stdout",
     "output_type": "stream",
     "text": [
      "epoch: 8, [batch: 2688 / 6720], examples_per_second: 2497.8030, train_label_loss: 0.1181, \n"
     ]
    },
    {
     "name": "stdout",
     "output_type": "stream",
     "text": [
      "epoch: 8, [batch: 3360 / 6720], examples_per_second: 2301.7439, train_label_loss: 0.0797, \n"
     ]
    },
    {
     "name": "stdout",
     "output_type": "stream",
     "text": [
      "epoch: 8, [batch: 4032 / 6720], examples_per_second: 2339.9461, train_label_loss: 0.1024, \n"
     ]
    },
    {
     "name": "stdout",
     "output_type": "stream",
     "text": [
      "epoch: 8, [batch: 4704 / 6720], examples_per_second: 2327.3440, train_label_loss: 0.1791, \n"
     ]
    },
    {
     "name": "stdout",
     "output_type": "stream",
     "text": [
      "epoch: 8, [batch: 5376 / 6720], examples_per_second: 2311.3021, train_label_loss: 0.0544, \n"
     ]
    },
    {
     "name": "stdout",
     "output_type": "stream",
     "text": [
      "epoch: 8, [batch: 6048 / 6720], examples_per_second: 2318.8083, train_label_loss: 0.0510, \n"
     ]
    },
    {
     "name": "stdout",
     "output_type": "stream",
     "text": [
      "=============================================================\n",
      "epoch: 8, source_val_acc_label: 0.9440, target_val_acc_label: 0.9244, source_val_label_loss: 0.1561, target_val_label_loss: 0.2519, \n",
      "=============================================================\n"
     ]
    },
    {
     "name": "stdout",
     "output_type": "stream",
     "text": [
      "New best\n"
     ]
    },
    {
     "name": "stdout",
     "output_type": "stream",
     "text": [
      "epoch: 9, [batch: 1 / 6720], examples_per_second: 2.2595, train_label_loss: 0.1312, \n"
     ]
    },
    {
     "name": "stdout",
     "output_type": "stream",
     "text": [
      "epoch: 9, [batch: 672 / 6720], examples_per_second: 2426.0273, train_label_loss: 0.1409, \n"
     ]
    },
    {
     "name": "stdout",
     "output_type": "stream",
     "text": [
      "epoch: 9, [batch: 1344 / 6720], examples_per_second: 2589.4829, train_label_loss: 0.1928, \n"
     ]
    },
    {
     "name": "stdout",
     "output_type": "stream",
     "text": [
      "epoch: 9, [batch: 2016 / 6720], examples_per_second: 2549.8396, train_label_loss: 0.1046, \n"
     ]
    },
    {
     "name": "stdout",
     "output_type": "stream",
     "text": [
      "epoch: 9, [batch: 2688 / 6720], examples_per_second: 2542.0736, train_label_loss: 0.2900, \n"
     ]
    },
    {
     "name": "stdout",
     "output_type": "stream",
     "text": [
      "epoch: 9, [batch: 3360 / 6720], examples_per_second: 2310.4706, train_label_loss: 0.1836, \n"
     ]
    },
    {
     "name": "stdout",
     "output_type": "stream",
     "text": [
      "epoch: 9, [batch: 4032 / 6720], examples_per_second: 2309.1730, train_label_loss: 0.0387, \n"
     ]
    },
    {
     "name": "stdout",
     "output_type": "stream",
     "text": [
      "epoch: 9, [batch: 4704 / 6720], examples_per_second: 2311.9898, train_label_loss: 0.0709, \n"
     ]
    },
    {
     "name": "stdout",
     "output_type": "stream",
     "text": [
      "epoch: 9, [batch: 5376 / 6720], examples_per_second: 2291.7857, train_label_loss: 0.2568, \n"
     ]
    },
    {
     "name": "stdout",
     "output_type": "stream",
     "text": [
      "epoch: 9, [batch: 6048 / 6720], examples_per_second: 2304.0185, train_label_loss: 0.0775, \n"
     ]
    },
    {
     "name": "stdout",
     "output_type": "stream",
     "text": [
      "=============================================================\n",
      "epoch: 9, source_val_acc_label: 0.9484, target_val_acc_label: 0.9206, source_val_label_loss: 0.1419, target_val_label_loss: 0.2896, \n",
      "=============================================================\n"
     ]
    },
    {
     "name": "stdout",
     "output_type": "stream",
     "text": [
      "epoch: 10, [batch: 1 / 6720], examples_per_second: 2.2758, train_label_loss: 0.0509, \n"
     ]
    },
    {
     "name": "stdout",
     "output_type": "stream",
     "text": [
      "epoch: 10, [batch: 672 / 6720], examples_per_second: 2352.7501, train_label_loss: 0.1245, \n"
     ]
    },
    {
     "name": "stdout",
     "output_type": "stream",
     "text": [
      "epoch: 10, [batch: 1344 / 6720], examples_per_second: 2564.5462, train_label_loss: 0.0528, \n"
     ]
    },
    {
     "name": "stdout",
     "output_type": "stream",
     "text": [
      "epoch: 10, [batch: 2016 / 6720], examples_per_second: 2615.7743, train_label_loss: 0.1291, \n"
     ]
    },
    {
     "name": "stdout",
     "output_type": "stream",
     "text": [
      "epoch: 10, [batch: 2688 / 6720], examples_per_second: 2544.0854, train_label_loss: 0.1918, \n"
     ]
    },
    {
     "name": "stdout",
     "output_type": "stream",
     "text": [
      "epoch: 10, [batch: 3360 / 6720], examples_per_second: 2306.1006, train_label_loss: 0.0777, \n"
     ]
    },
    {
     "name": "stdout",
     "output_type": "stream",
     "text": [
      "epoch: 10, [batch: 4032 / 6720], examples_per_second: 2304.4383, train_label_loss: 0.0345, \n"
     ]
    },
    {
     "name": "stdout",
     "output_type": "stream",
     "text": [
      "epoch: 10, [batch: 4704 / 6720], examples_per_second: 2307.6069, train_label_loss: 0.0427, \n"
     ]
    },
    {
     "name": "stdout",
     "output_type": "stream",
     "text": [
      "epoch: 10, [batch: 5376 / 6720], examples_per_second: 2319.7550, train_label_loss: 0.0030, \n"
     ]
    },
    {
     "name": "stdout",
     "output_type": "stream",
     "text": [
      "epoch: 10, [batch: 6048 / 6720], examples_per_second: 2314.9757, train_label_loss: 0.0228, \n"
     ]
    },
    {
     "name": "stdout",
     "output_type": "stream",
     "text": [
      "=============================================================\n",
      "epoch: 10, source_val_acc_label: 0.9540, target_val_acc_label: 0.9276, source_val_label_loss: 0.1280, target_val_label_loss: 0.2755, \n",
      "=============================================================\n"
     ]
    },
    {
     "name": "stdout",
     "output_type": "stream",
     "text": [
      "New best\n"
     ]
    },
    {
     "name": "stdout",
     "output_type": "stream",
     "text": [
      "epoch: 11, [batch: 1 / 6720], examples_per_second: 2.2867, train_label_loss: 0.3607, \n"
     ]
    },
    {
     "name": "stdout",
     "output_type": "stream",
     "text": [
      "epoch: 11, [batch: 672 / 6720], examples_per_second: 2452.2466, train_label_loss: 0.0478, \n"
     ]
    },
    {
     "name": "stdout",
     "output_type": "stream",
     "text": [
      "epoch: 11, [batch: 1344 / 6720], examples_per_second: 2863.2728, train_label_loss: 0.0225, \n"
     ]
    },
    {
     "name": "stdout",
     "output_type": "stream",
     "text": [
      "epoch: 11, [batch: 2016 / 6720], examples_per_second: 2995.5987, train_label_loss: 0.1314, \n"
     ]
    },
    {
     "name": "stdout",
     "output_type": "stream",
     "text": [
      "epoch: 11, [batch: 2688 / 6720], examples_per_second: 3019.5505, train_label_loss: 0.2634, \n"
     ]
    },
    {
     "name": "stdout",
     "output_type": "stream",
     "text": [
      "epoch: 11, [batch: 3360 / 6720], examples_per_second: 2623.9556, train_label_loss: 0.2720, \n"
     ]
    },
    {
     "name": "stdout",
     "output_type": "stream",
     "text": [
      "epoch: 11, [batch: 4032 / 6720], examples_per_second: 2619.2940, train_label_loss: 0.0099, \n"
     ]
    },
    {
     "name": "stdout",
     "output_type": "stream",
     "text": [
      "epoch: 11, [batch: 4704 / 6720], examples_per_second: 2656.1217, train_label_loss: 0.0984, \n"
     ]
    },
    {
     "name": "stdout",
     "output_type": "stream",
     "text": [
      "epoch: 11, [batch: 5376 / 6720], examples_per_second: 2581.6038, train_label_loss: 0.0745, \n"
     ]
    },
    {
     "name": "stdout",
     "output_type": "stream",
     "text": [
      "epoch: 11, [batch: 6048 / 6720], examples_per_second: 2987.3387, train_label_loss: 0.5054, \n"
     ]
    },
    {
     "name": "stdout",
     "output_type": "stream",
     "text": [
      "=============================================================\n",
      "epoch: 11, source_val_acc_label: 0.9484, target_val_acc_label: 0.9201, source_val_label_loss: 0.1512, target_val_label_loss: 0.2907, \n",
      "=============================================================\n"
     ]
    },
    {
     "name": "stdout",
     "output_type": "stream",
     "text": [
      "epoch: 12, [batch: 1 / 6720], examples_per_second: 2.3241, train_label_loss: 0.2455, \n"
     ]
    },
    {
     "name": "stdout",
     "output_type": "stream",
     "text": [
      "epoch: 12, [batch: 672 / 6720], examples_per_second: 2335.8586, train_label_loss: 0.1001, \n"
     ]
    },
    {
     "name": "stdout",
     "output_type": "stream",
     "text": [
      "epoch: 12, [batch: 1344 / 6720], examples_per_second: 2537.5588, train_label_loss: 0.3011, \n"
     ]
    },
    {
     "name": "stdout",
     "output_type": "stream",
     "text": [
      "epoch: 12, [batch: 2016 / 6720], examples_per_second: 2610.6762, train_label_loss: 0.0697, \n"
     ]
    },
    {
     "name": "stdout",
     "output_type": "stream",
     "text": [
      "epoch: 12, [batch: 2688 / 6720], examples_per_second: 2583.7065, train_label_loss: 0.1094, \n"
     ]
    },
    {
     "name": "stdout",
     "output_type": "stream",
     "text": [
      "epoch: 12, [batch: 3360 / 6720], examples_per_second: 2299.6530, train_label_loss: 0.1623, \n"
     ]
    },
    {
     "name": "stdout",
     "output_type": "stream",
     "text": [
      "epoch: 12, [batch: 4032 / 6720], examples_per_second: 2294.9415, train_label_loss: 0.1254, \n"
     ]
    },
    {
     "name": "stdout",
     "output_type": "stream",
     "text": [
      "epoch: 12, [batch: 4704 / 6720], examples_per_second: 2297.9341, train_label_loss: 0.0378, \n"
     ]
    },
    {
     "name": "stdout",
     "output_type": "stream",
     "text": [
      "epoch: 12, [batch: 5376 / 6720], examples_per_second: 2308.5307, train_label_loss: 0.1300, \n"
     ]
    },
    {
     "name": "stdout",
     "output_type": "stream",
     "text": [
      "epoch: 12, [batch: 6048 / 6720], examples_per_second: 2308.3237, train_label_loss: 0.2795, \n"
     ]
    },
    {
     "name": "stdout",
     "output_type": "stream",
     "text": [
      "=============================================================\n",
      "epoch: 12, source_val_acc_label: 0.9447, target_val_acc_label: 0.9160, source_val_label_loss: 0.1624, target_val_label_loss: 0.3019, \n",
      "=============================================================\n"
     ]
    },
    {
     "name": "stdout",
     "output_type": "stream",
     "text": [
      "epoch: 13, [batch: 1 / 6720], examples_per_second: 2.2553, train_label_loss: 0.0467, \n"
     ]
    },
    {
     "name": "stdout",
     "output_type": "stream",
     "text": [
      "epoch: 13, [batch: 672 / 6720], examples_per_second: 2353.7246, train_label_loss: 0.1797, \n"
     ]
    },
    {
     "name": "stdout",
     "output_type": "stream",
     "text": [
      "epoch: 13, [batch: 1344 / 6720], examples_per_second: 2587.1506, train_label_loss: 0.0089, \n"
     ]
    },
    {
     "name": "stdout",
     "output_type": "stream",
     "text": [
      "epoch: 13, [batch: 2016 / 6720], examples_per_second: 2610.2611, train_label_loss: 0.0019, \n"
     ]
    },
    {
     "name": "stdout",
     "output_type": "stream",
     "text": [
      "epoch: 13, [batch: 2688 / 6720], examples_per_second: 2594.0386, train_label_loss: 0.0531, \n"
     ]
    },
    {
     "name": "stdout",
     "output_type": "stream",
     "text": [
      "epoch: 13, [batch: 3360 / 6720], examples_per_second: 2304.4164, train_label_loss: 0.1875, \n"
     ]
    },
    {
     "name": "stdout",
     "output_type": "stream",
     "text": [
      "epoch: 13, [batch: 4032 / 6720], examples_per_second: 2312.7152, train_label_loss: 0.2546, \n"
     ]
    },
    {
     "name": "stdout",
     "output_type": "stream",
     "text": [
      "epoch: 13, [batch: 4704 / 6720], examples_per_second: 2307.7555, train_label_loss: 0.1305, \n"
     ]
    },
    {
     "name": "stdout",
     "output_type": "stream",
     "text": [
      "epoch: 13, [batch: 5376 / 6720], examples_per_second: 2308.8888, train_label_loss: 0.1741, \n"
     ]
    },
    {
     "name": "stdout",
     "output_type": "stream",
     "text": [
      "epoch: 13, [batch: 6048 / 6720], examples_per_second: 2324.8592, train_label_loss: 0.1744, \n"
     ]
    },
    {
     "name": "stdout",
     "output_type": "stream",
     "text": [
      "=============================================================\n",
      "epoch: 13, source_val_acc_label: 0.9590, target_val_acc_label: 0.9271, source_val_label_loss: 0.1311, target_val_label_loss: 0.2803, \n",
      "=============================================================\n"
     ]
    },
    {
     "name": "stdout",
     "output_type": "stream",
     "text": [
      "epoch: 14, [batch: 1 / 6720], examples_per_second: 2.2814, train_label_loss: 0.0227, \n"
     ]
    },
    {
     "name": "stdout",
     "output_type": "stream",
     "text": [
      "epoch: 14, [batch: 672 / 6720], examples_per_second: 2303.1600, train_label_loss: 0.0528, \n"
     ]
    },
    {
     "name": "stdout",
     "output_type": "stream",
     "text": [
      "epoch: 14, [batch: 1344 / 6720], examples_per_second: 2627.1023, train_label_loss: 0.1599, \n"
     ]
    },
    {
     "name": "stdout",
     "output_type": "stream",
     "text": [
      "epoch: 14, [batch: 2016 / 6720], examples_per_second: 2645.0848, train_label_loss: 0.0881, \n"
     ]
    },
    {
     "name": "stdout",
     "output_type": "stream",
     "text": [
      "epoch: 14, [batch: 2688 / 6720], examples_per_second: 2619.2119, train_label_loss: 0.1249, \n"
     ]
    },
    {
     "name": "stdout",
     "output_type": "stream",
     "text": [
      "epoch: 14, [batch: 3360 / 6720], examples_per_second: 2319.2773, train_label_loss: 0.1835, \n"
     ]
    },
    {
     "name": "stdout",
     "output_type": "stream",
     "text": [
      "epoch: 14, [batch: 4032 / 6720], examples_per_second: 2321.0686, train_label_loss: 0.0003, \n"
     ]
    },
    {
     "name": "stdout",
     "output_type": "stream",
     "text": [
      "epoch: 14, [batch: 4704 / 6720], examples_per_second: 2296.4986, train_label_loss: 0.0513, \n"
     ]
    },
    {
     "name": "stdout",
     "output_type": "stream",
     "text": [
      "epoch: 14, [batch: 5376 / 6720], examples_per_second: 2301.3338, train_label_loss: 0.0526, \n"
     ]
    },
    {
     "name": "stdout",
     "output_type": "stream",
     "text": [
      "epoch: 14, [batch: 6048 / 6720], examples_per_second: 2328.6736, train_label_loss: 0.0353, \n"
     ]
    },
    {
     "name": "stdout",
     "output_type": "stream",
     "text": [
      "=============================================================\n",
      "epoch: 14, source_val_acc_label: 0.9554, target_val_acc_label: 0.9227, source_val_label_loss: 0.1365, target_val_label_loss: 0.3072, \n",
      "=============================================================\n"
     ]
    },
    {
     "name": "stdout",
     "output_type": "stream",
     "text": [
      "Patience (3) exhausted\n"
     ]
    }
   ],
   "source": [
    "###################################\n",
    "# train\n",
    "###################################\n",
    "jig = PTN_Train_Eval_Test_Jig(model, p.BEST_MODEL_PATH, p.device)\n",
    "\n",
    "jig.train(\n",
    "    train_iterable=datasets.source.processed.train,\n",
    "    source_val_iterable=datasets.source.processed.val,\n",
    "    target_val_iterable=datasets.target.processed.val,\n",
    "    num_epochs=p.n_epoch,\n",
    "    num_logs_per_epoch=p.NUM_LOGS_PER_EPOCH,\n",
    "    patience=p.patience,\n",
    "    optimizer=optimizer,\n",
    "    criteria_for_best=p.criteria_for_best,\n",
    ")"
   ]
  },
  {
   "cell_type": "code",
   "execution_count": 23,
   "id": "31e8fabf",
   "metadata": {
    "execution": {
     "iopub.execute_input": "2022-03-21T16:10:43.548301Z",
     "iopub.status.busy": "2022-03-21T16:10:43.547925Z",
     "iopub.status.idle": "2022-03-21T16:10:43.584869Z",
     "shell.execute_reply": "2022-03-21T16:10:43.585541Z"
    },
    "papermill": {
     "duration": 0.108371,
     "end_time": "2022-03-21T16:10:43.585763",
     "exception": false,
     "start_time": "2022-03-21T16:10:43.477392",
     "status": "completed"
    },
    "tags": []
   },
   "outputs": [],
   "source": [
    "total_experiment_time_secs = time.time() - start_time_secs"
   ]
  },
  {
   "cell_type": "code",
   "execution_count": 24,
   "id": "87b9595b",
   "metadata": {
    "execution": {
     "iopub.execute_input": "2022-03-21T16:10:43.747477Z",
     "iopub.status.busy": "2022-03-21T16:10:43.746873Z",
     "iopub.status.idle": "2022-03-21T16:15:06.755157Z",
     "shell.execute_reply": "2022-03-21T16:15:06.755935Z"
    },
    "papermill": {
     "duration": 263.08722,
     "end_time": "2022-03-21T16:15:06.756189",
     "exception": false,
     "start_time": "2022-03-21T16:10:43.668969",
     "status": "completed"
    },
    "tags": []
   },
   "outputs": [],
   "source": [
    "###################################\n",
    "# Evaluate the model\n",
    "###################################\n",
    "source_test_label_accuracy, source_test_label_loss = jig.test(datasets.source.processed.test)\n",
    "target_test_label_accuracy, target_test_label_loss = jig.test(datasets.target.processed.test)\n",
    "\n",
    "source_val_label_accuracy, source_val_label_loss = jig.test(datasets.source.processed.val)\n",
    "target_val_label_accuracy, target_val_label_loss = jig.test(datasets.target.processed.val)\n",
    "\n",
    "history = jig.get_history()\n",
    "\n",
    "total_epochs_trained = len(history[\"epoch_indices\"])\n",
    "\n",
    "val_dl = Iterable_Aggregator((datasets.source.original.val,datasets.target.original.val))\n",
    "\n",
    "confusion = ptn_confusion_by_domain_over_dataloader(model, p.device, val_dl)\n",
    "per_domain_accuracy = per_domain_accuracy_from_confusion(confusion)\n",
    "\n",
    "# Add a key to per_domain_accuracy for if it was a source domain\n",
    "for domain, accuracy in per_domain_accuracy.items():\n",
    "    per_domain_accuracy[domain] = {\n",
    "        \"accuracy\": accuracy,\n",
    "        \"source?\": domain in p.domains_source\n",
    "    }\n",
    "\n",
    "# Do an independent accuracy assesment JUST TO BE SURE!\n",
    "# _source_test_label_accuracy = independent_accuracy_assesment(model, datasets.source.processed.test, p.device)\n",
    "# _target_test_label_accuracy = independent_accuracy_assesment(model, datasets.target.processed.test, p.device)\n",
    "# _source_val_label_accuracy = independent_accuracy_assesment(model, datasets.source.processed.val, p.device)\n",
    "# _target_val_label_accuracy = independent_accuracy_assesment(model, datasets.target.processed.val, p.device)\n",
    "\n",
    "# assert(_source_test_label_accuracy == source_test_label_accuracy)\n",
    "# assert(_target_test_label_accuracy == target_test_label_accuracy)\n",
    "# assert(_source_val_label_accuracy == source_val_label_accuracy)\n",
    "# assert(_target_val_label_accuracy == target_val_label_accuracy)\n",
    "\n",
    "experiment = {\n",
    "    \"experiment_name\": p.experiment_name,\n",
    "    \"parameters\": dict(p),\n",
    "    \"results\": {\n",
    "        \"source_test_label_accuracy\": source_test_label_accuracy,\n",
    "        \"source_test_label_loss\": source_test_label_loss,\n",
    "        \"target_test_label_accuracy\": target_test_label_accuracy,\n",
    "        \"target_test_label_loss\": target_test_label_loss,\n",
    "        \"source_val_label_accuracy\": source_val_label_accuracy,\n",
    "        \"source_val_label_loss\": source_val_label_loss,\n",
    "        \"target_val_label_accuracy\": target_val_label_accuracy,\n",
    "        \"target_val_label_loss\": target_val_label_loss,\n",
    "        \"total_epochs_trained\": total_epochs_trained,\n",
    "        \"total_experiment_time_secs\": total_experiment_time_secs,\n",
    "        \"confusion\": confusion,\n",
    "        \"per_domain_accuracy\": per_domain_accuracy,\n",
    "    },\n",
    "    \"history\": history,\n",
    "    \"dataset_metrics\": get_dataset_metrics(datasets, \"ptn\"),\n",
    "}"
   ]
  },
  {
   "cell_type": "code",
   "execution_count": 25,
   "id": "54a21829",
   "metadata": {
    "execution": {
     "iopub.execute_input": "2022-03-21T16:15:06.897709Z",
     "iopub.status.busy": "2022-03-21T16:15:06.897333Z",
     "iopub.status.idle": "2022-03-21T16:15:07.118140Z",
     "shell.execute_reply": "2022-03-21T16:15:07.118815Z"
    },
    "papermill": {
     "duration": 0.289914,
     "end_time": "2022-03-21T16:15:07.119041",
     "exception": false,
     "start_time": "2022-03-21T16:15:06.829127",
     "status": "completed"
    },
    "tags": []
   },
   "outputs": [
    {
     "data": {
      "image/png": "[encoded data removed]",
      "text/plain": [
       "<Figure size 1080x504 with 1 Axes>"
      ]
     },
     "metadata": {
      "needs_background": "light"
     },
     "output_type": "display_data"
    }
   ],
   "source": [
    "ax = get_loss_curve(experiment)\n",
    "plt.show()"
   ]
  },
  {
   "cell_type": "code",
   "execution_count": 26,
   "id": "fd8a0f60",
   "metadata": {
    "execution": {
     "iopub.execute_input": "2022-03-21T16:15:07.259923Z",
     "iopub.status.busy": "2022-03-21T16:15:07.259556Z",
     "iopub.status.idle": "2022-03-21T16:15:07.590527Z",
     "shell.execute_reply": "2022-03-21T16:15:07.590846Z"
    },
    "papermill": {
     "duration": 0.400335,
     "end_time": "2022-03-21T16:15:07.590976",
     "exception": false,
     "start_time": "2022-03-21T16:15:07.190641",
     "status": "completed"
    },
    "tags": []
   },
   "outputs": [
    {
     "data": {
      "text/plain": [
       "<AxesSubplot:title={'center':'Results'}>"
      ]
     },
     "execution_count": 26,
     "metadata": {},
     "output_type": "execute_result"
    },
    {
     "data": {
      "image/png": "[encoded data removed]",
      "text/plain": [
       "<Figure size 1080x504 with 1 Axes>"
      ]
     },
     "metadata": {
      "needs_background": "light"
     },
     "output_type": "display_data"
    }
   ],
   "source": [
    "get_results_table(experiment)"
   ]
  },
  {
   "cell_type": "code",
   "execution_count": 27,
   "id": "cf8dc689",
   "metadata": {
    "execution": {
     "iopub.execute_input": "2022-03-21T16:15:07.731370Z",
     "iopub.status.busy": "2022-03-21T16:15:07.731008Z",
     "iopub.status.idle": "2022-03-21T16:15:08.013404Z",
     "shell.execute_reply": "2022-03-21T16:15:08.014071Z"
    },
    "papermill": {
     "duration": 0.352641,
     "end_time": "2022-03-21T16:15:08.014296",
     "exception": false,
     "start_time": "2022-03-21T16:15:07.661655",
     "status": "completed"
    },
    "tags": []
   },
   "outputs": [
    {
     "data": {
      "text/plain": [
       "<AxesSubplot:title={'center':'Per Domain Validation Accuracy'}, xlabel='domain'>"
      ]
     },
     "execution_count": 27,
     "metadata": {},
     "output_type": "execute_result"
    },
    {
     "data": {
      "image/png": "[encoded data removed]",
      "text/plain": [
       "<Figure size 1080x504 with 1 Axes>"
      ]
     },
     "metadata": {
      "needs_background": "light"
     },
     "output_type": "display_data"
    }
   ],
   "source": [
    "get_domain_accuracies(experiment)"
   ]
  },
  {
   "cell_type": "code",
   "execution_count": 28,
   "id": "a74ae082",
   "metadata": {
    "execution": {
     "iopub.execute_input": "2022-03-21T16:15:08.161925Z",
     "iopub.status.busy": "2022-03-21T16:15:08.161553Z",
     "iopub.status.idle": "2022-03-21T16:15:08.189937Z",
     "shell.execute_reply": "2022-03-21T16:15:08.190599Z"
    },
    "papermill": {
     "duration": 0.101753,
     "end_time": "2022-03-21T16:15:08.190803",
     "exception": false,
     "start_time": "2022-03-21T16:15:08.089050",
     "status": "completed"
    },
    "tags": []
   },
   "outputs": [
    {
     "name": "stdout",
     "output_type": "stream",
     "text": [
      "Source Test Label Accuracy: 0.9533854166666667 Target Test Label Accuracy: 0.9293619791666666\n",
      "Source Val Label Accuracy: 0.9540364583333333 Target Val Label Accuracy: 0.9276041666666667\n"
     ]
    }
   ],
   "source": [
    "print(\"Source Test Label Accuracy:\", experiment[\"results\"][\"source_test_label_accuracy\"], \"Target Test Label Accuracy:\", experiment[\"results\"][\"target_test_label_accuracy\"])\n",
    "print(\"Source Val Label Accuracy:\", experiment[\"results\"][\"source_val_label_accuracy\"], \"Target Val Label Accuracy:\", experiment[\"results\"][\"target_val_label_accuracy\"])"
   ]
  },
  {
   "cell_type": "code",
   "execution_count": 29,
   "id": "dacca602",
   "metadata": {
    "execution": {
     "iopub.execute_input": "2022-03-21T16:15:08.338814Z",
     "iopub.status.busy": "2022-03-21T16:15:08.338449Z",
     "iopub.status.idle": "2022-03-21T16:15:08.366943Z",
     "shell.execute_reply": "2022-03-21T16:15:08.367647Z"
    },
    "papermill": {
     "duration": 0.102459,
     "end_time": "2022-03-21T16:15:08.367862",
     "exception": false,
     "start_time": "2022-03-21T16:15:08.265403",
     "status": "completed"
    },
    "tags": [
     "experiment_json"
    ]
   },
   "outputs": [
    {
     "data": {
      "text/plain": [
       "'{\"experiment_name\": \"tl_1v2:oracle.run1.framed-oracle.run2.framed\", \"parameters\": {\"experiment_name\": \"tl_1v2:oracle.run1.framed-oracle.run2.framed\", \"device\": \"cuda\", \"lr\": 0.0001, \"n_shot\": 3, \"n_query\": 2, \"train_k_factor\": 3, \"val_k_factor\": 2, \"test_k_factor\": 2, \"torch_default_dtype\": \"torch.float32\", \"n_epoch\": 50, \"patience\": 3, \"criteria_for_best\": \"target_accuracy\", \"x_net\": [{\"class\": \"nnReshape\", \"kargs\": {\"shape\": [-1, 1, 2, 256]}}, {\"class\": \"Conv2d\", \"kargs\": {\"in_channels\": 1, \"out_channels\": 256, \"kernel_size\": [1, 7], \"bias\": false, \"padding\": [0, 3]}}, {\"class\": \"ReLU\", \"kargs\": {\"inplace\": true}}, {\"class\": \"BatchNorm2d\", \"kargs\": {\"num_features\": 256}}, {\"class\": \"Conv2d\", \"kargs\": {\"in_channels\": 256, \"out_channels\": 80, \"kernel_size\": [2, 7], \"bias\": true, \"padding\": [0, 3]}}, {\"class\": \"ReLU\", \"kargs\": {\"inplace\": true}}, {\"class\": \"BatchNorm2d\", \"kargs\": {\"num_features\": 80}}, {\"class\": \"Flatten\", \"kargs\": {}}, {\"class\": \"Linear\", \"kargs\": {\"in_features\": 20480, \"out_features\": 256}}, {\"class\": \"ReLU\", \"kargs\": {\"inplace\": true}}, {\"class\": \"BatchNorm1d\", \"kargs\": {\"num_features\": 256}}, {\"class\": \"Linear\", \"kargs\": {\"in_features\": 256, \"out_features\": 256}}], \"NUM_LOGS_PER_EPOCH\": 10, \"BEST_MODEL_PATH\": \"./best_model.pth\", \"n_way\": 16, \"datasets\": [{\"labels\": [\"3123D52\", \"3123D65\", \"3123D79\", \"3123D80\", \"3123D54\", \"3123D70\", \"3123D7B\", \"3123D89\", \"3123D58\", \"3123D76\", \"3123D7D\", \"3123EFE\", \"3123D64\", \"3123D78\", \"3123D7E\", \"3124E4A\"], \"domains\": [32, 38, 8, 44, 14, 50, 20, 26], \"num_examples_per_domain_per_label\": 2000, \"pickle_path\": \"/root/csc500-main/datasets/oracle.Run1_framed_2000Examples_stratified_ds.2022A.pkl\", \"source_or_target_dataset\": \"target\", \"x_transforms\": [], \"episode_transforms\": [], \"domain_prefix\": \"ORACLE.run1_\"}, {\"labels\": [\"3123D52\", \"3123D65\", \"3123D79\", \"3123D80\", \"3123D54\", \"3123D70\", \"3123D7B\", \"3123D89\", \"3123D58\", \"3123D76\", \"3123D7D\", \"3123EFE\", \"3123D64\", \"3123D78\", \"3123D7E\", \"3124E4A\"], \"domains\": [32, 38, 8, 44, 14, 50, 20, 26], \"num_examples_per_domain_per_label\": 2000, \"pickle_path\": \"/root/csc500-main/datasets/oracle.Run2_framed_2000Examples_stratified_ds.2022A.pkl\", \"source_or_target_dataset\": \"source\", \"x_transforms\": [], \"episode_transforms\": [], \"domain_prefix\": \"ORACLE.run2_\"}], \"dataset_seed\": 420, \"seed\": 420, \"x_shape\": [2, 256], \"domains_source\": [\"ORACLE.run2_32\", \"ORACLE.run2_38\", \"ORACLE.run2_8\", \"ORACLE.run2_44\", \"ORACLE.run2_14\", \"ORACLE.run2_50\", \"ORACLE.run2_20\", \"ORACLE.run2_26\"], \"domains_target\": [\"ORACLE.run1_32\", \"ORACLE.run1_38\", \"ORACLE.run1_8\", \"ORACLE.run1_44\", \"ORACLE.run1_14\", \"ORACLE.run1_50\", \"ORACLE.run1_20\", \"ORACLE.run1_26\"]}, \"results\": {\"source_test_label_accuracy\": 0.9533854166666667, \"source_test_label_loss\": 0.15298418700695038, \"target_test_label_accuracy\": 0.9293619791666666, \"target_test_label_loss\": 0.26446259021759033, \"source_val_label_accuracy\": 0.9540364583333333, \"source_val_label_loss\": 0.12801150977611542, \"target_val_label_accuracy\": 0.9276041666666667, \"target_val_label_loss\": 0.27553871273994446, \"total_epochs_trained\": 14, \"total_experiment_time_secs\": 3591.049693584442, \"confusion\": {\"ORACLE.run2_14\": {\"15\": {\"15\": 240}, \"5\": {\"5\": 233, \"2\": 7}, \"7\": {\"7\": 240}, \"4\": {\"4\": 240}, \"10\": {\"10\": 237, \"0\": 2, \"14\": 1}, \"11\": {\"11\": 240}, \"12\": {\"12\": 222, \"9\": 8, \"11\": 2, \"0\": 7, \"8\": 1}, \"0\": {\"0\": 240}, \"14\": {\"14\": 215, \"2\": 25}, \"8\": {\"8\": 240}, \"13\": {\"13\": 217, \"6\": 23}, \"6\": {\"6\": 232, \"13\": 8}, \"1\": {\"1\": 240}, \"3\": {\"3\": 240}, \"9\": {\"9\": 240}, \"2\": {\"2\": 171, \"14\": 41, \"5\": 24, \"6\": 1, \"3\": 3}}, \"ORACLE.run2_20\": {\"4\": {\"4\": 240}, \"10\": {\"10\": 240}, \"15\": {\"15\": 219, \"5\": 5, \"2\": 11, \"9\": 3, \"13\": 2}, \"0\": {\"0\": 240}, \"6\": {\"6\": 240}, \"3\": {\"3\": 203, \"15\": 1, \"2\": 16, \"9\": 16, \"7\": 3, \"5\": 1}, \"7\": {\"7\": 235, \"3\": 5}, \"2\": {\"2\": 197, \"9\": 23, \"15\": 4, \"5\": 8, \"3\": 8}, \"8\": {\"8\": 233, \"14\": 7}, \"11\": {\"11\": 240}, \"14\": {\"14\": 234, \"8\": 6}, \"12\": {\"12\": 238, \"13\": 2}, \"13\": {\"13\": 239, \"12\": 1}, \"9\": {\"9\": 211, \"2\": 19, \"3\": 10}, \"5\": {\"2\": 13, \"5\": 216, \"1\": 2, \"0\": 3, \"15\": 6}, \"1\": {\"1\": 240}}, \"ORACLE.run2_50\": {\"5\": {\"4\": 46, \"5\": 186, \"6\": 5, \"7\": 3}, \"12\": {\"12\": 239, \"11\": 1}, \"14\": {\"14\": 240}, \"4\": {\"4\": 205, \"5\": 34, \"7\": 1}, \"13\": {\"13\": 240}, \"10\": {\"10\": 239, \"13\": 1}, \"9\": {\"9\": 240}, \"15\": {\"15\": 239, \"6\": 1}, \"6\": {\"6\": 234, \"5\": 4, \"15\": 2}, \"2\": {\"2\": 239, \"0\": 1}, \"0\": {\"0\": 237, \"2\": 3}, \"11\": {\"11\": 239, \"12\": 1}, \"3\": {\"3\": 240}, \"8\": {\"8\": 240}, \"7\": {\"7\": 237, \"5\": 1, \"4\": 2}, \"1\": {\"1\": 240}}, \"ORACLE.run2_26\": {\"7\": {\"7\": 209, \"2\": 24, \"3\": 5, \"13\": 2}, \"6\": {\"6\": 239, \"5\": 1}, \"14\": {\"14\": 202, \"10\": 16, \"0\": 19, \"1\": 3}, \"15\": {\"0\": 2, \"15\": 236, \"10\": 1, \"2\": 1}, \"5\": {\"5\": 237, \"6\": 1, \"15\": 2}, \"10\": {\"10\": 119, \"14\": 57, \"0\": 54, \"1\": 1, \"8\": 3, \"15\": 5, \"6\": 1}, \"4\": {\"4\": 240}, \"11\": {\"11\": 240}, \"13\": {\"13\": 238, \"9\": 2}, \"2\": {\"2\": 220, \"8\": 17, \"7\": 3}, \"0\": {\"0\": 180, \"10\": 43, \"14\": 15, \"15\": 2}, \"12\": {\"12\": 240}, \"3\": {\"3\": 234, \"7\": 6}, \"9\": {\"9\": 237, \"13\": 3}, \"8\": {\"8\": 227, \"2\": 10, \"0\": 1, \"10\": 2}, \"1\": {\"1\": 240}}, \"ORACLE.run2_32\": {\"7\": {\"7\": 240}, \"2\": {\"2\": 240}, \"5\": {\"5\": 234, \"14\": 5, \"2\": 1}, \"6\": {\"6\": 240}, \"13\": {\"13\": 233, \"11\": 3, \"3\": 3, \"4\": 1}, \"4\": {\"4\": 238, \"11\": 1, \"13\": 1}, \"3\": {\"3\": 240}, \"0\": {\"0\": 231, \"8\": 5, \"14\": 3, \"7\": 1}, \"9\": {\"9\": 239, \"12\": 1}, \"12\": {\"12\": 240}, \"8\": {\"8\": 230, \"0\": 10}, \"14\": {\"14\": 239, \"0\": 1}, \"15\": {\"15\": 240}, \"11\": {\"11\": 229, \"13\": 1, \"4\": 8, \"0\": 2}, \"10\": {\"10\": 240}, \"1\": {\"1\": 240}}, \"ORACLE.run2_44\": {\"11\": {\"11\": 240}, \"7\": {\"7\": 181, \"9\": 59}, \"6\": {\"6\": 238, \"13\": 2}, \"12\": {\"12\": 231, \"3\": 9}, \"4\": {\"4\": 238, \"14\": 2}, \"13\": {\"13\": 235, \"4\": 4, \"6\": 1}, \"8\": {\"8\": 214, \"0\": 24, \"5\": 2}, \"5\": {\"5\": 235, \"8\": 1, \"14\": 4}, \"14\": {\"14\": 230, \"4\": 9, \"5\": 1}, \"3\": {\"3\": 232, \"12\": 8}, \"10\": {\"10\": 240}, \"1\": {\"1\": 240}, \"2\": {\"2\": 240}, \"15\": {\"15\": 232, \"5\": 2, \"14\": 2, \"8\": 4}, \"9\": {\"6\": 3, \"7\": 86, \"9\": 151}, \"0\": {\"0\": 196, \"8\": 44}}, \"ORACLE.run2_8\": {\"10\": {\"10\": 237, \"5\": 1, \"13\": 2}, \"6\": {\"6\": 239, \"14\": 1}, \"13\": {\"13\": 238, \"10\": 2}, \"3\": {\"3\": 238, \"0\": 2}, \"9\": {\"9\": 240}, \"1\": {\"1\": 234, \"13\": 4, \"10\": 1, \"14\": 1}, \"5\": {\"5\": 233, \"10\": 5, \"1\": 2}, \"11\": {\"11\": 224, \"8\": 16}, \"4\": {\"4\": 219, \"6\": 3, \"7\": 18}, \"14\": {\"14\": 238, \"6\": 2}, \"12\": {\"12\": 239, \"15\": 1}, \"7\": {\"7\": 232, \"4\": 8}, \"0\": {\"0\": 240}, \"15\": {\"15\": 240}, \"2\": {\"2\": 240}, \"8\": {\"8\": 239, \"11\": 1}}, \"ORACLE.run2_38\": {\"4\": {\"4\": 240}, \"7\": {\"7\": 239, \"0\": 1}, \"12\": {\"12\": 240}, \"10\": {\"10\": 239, \"13\": 1}, \"0\": {\"0\": 238, \"7\": 2}, \"1\": {\"1\": 232, \"15\": 8}, \"5\": {\"5\": 174, \"8\": 65, \"7\": 1}, \"15\": {\"1\": 18, \"15\": 218, \"6\": 3, \"5\": 1}, \"9\": {\"9\": 240}, \"11\": {\"11\": 238, \"3\": 2}, \"14\": {\"14\": 166, \"2\": 58, \"7\": 8, \"8\": 1, \"4\": 5, \"12\": 2}, \"6\": {\"6\": 240}, \"8\": {\"8\": 230, \"5\": 10}, \"3\": {\"13\": 48, \"3\": 186, \"10\": 6}, \"2\": {\"2\": 233, \"14\": 7}, \"13\": {\"13\": 195, \"3\": 40, \"10\": 5}}, \"ORACLE.run1_14\": {\"15\": {\"15\": 240}, \"5\": {\"5\": 235, \"7\": 3, \"2\": 2}, \"7\": {\"7\": 240}, \"4\": {\"4\": 238, \"5\": 2}, \"10\": {\"10\": 240}, \"11\": {\"11\": 234, \"12\": 6}, \"12\": {\"12\": 240}, \"0\": {\"0\": 227, \"14\": 4, \"3\": 6, \"2\": 3}, \"14\": {\"14\": 215, \"13\": 2, \"2\": 23}, \"8\": {\"8\": 240}, \"13\": {\"2\": 28, \"13\": 58, \"6\": 80, \"14\": 57, \"15\": 17}, \"6\": {\"6\": 129, \"13\": 69, \"14\": 20, \"2\": 22}, \"1\": {\"1\": 240}, \"3\": {\"3\": 240}, \"9\": {\"9\": 238, \"12\": 2}, \"2\": {\"2\": 101, \"13\": 15, \"14\": 82, \"5\": 13, \"6\": 23, \"3\": 6}}, \"ORACLE.run1_20\": {\"4\": {\"4\": 240}, \"10\": {\"10\": 240}, \"15\": {\"15\": 234, \"1\": 4, \"9\": 1, \"12\": 1}, \"0\": {\"0\": 235, \"5\": 5}, \"6\": {\"6\": 239, \"7\": 1}, \"3\": {\"3\": 225, \"9\": 4, \"1\": 10, \"5\": 1}, \"7\": {\"7\": 232, \"2\": 8}, \"2\": {\"2\": 222, \"12\": 14, \"7\": 3, \"15\": 1}, \"8\": {\"8\": 238, \"0\": 1, \"14\": 1}, \"11\": {\"11\": 240}, \"14\": {\"14\": 239, \"8\": 1}, \"12\": {\"12\": 234, \"2\": 6}, \"13\": {\"13\": 240}, \"9\": {\"9\": 230, \"3\": 7, \"1\": 3}, \"5\": {\"5\": 232, \"3\": 4, \"1\": 3, \"15\": 1}, \"1\": {\"1\": 235, \"3\": 2, \"9\": 3}}, \"ORACLE.run1_50\": {\"5\": {\"5\": 165, \"7\": 33, \"4\": 14, \"6\": 9, \"13\": 15, \"1\": 2, \"15\": 2}, \"12\": {\"12\": 237, \"9\": 2, \"11\": 1}, \"14\": {\"14\": 240}, \"4\": {\"4\": 205, \"7\": 15, \"15\": 12, \"6\": 2, \"5\": 6}, \"13\": {\"13\": 240}, \"10\": {\"10\": 240}, \"9\": {\"9\": 226, \"12\": 7, \"11\": 7}, \"15\": {\"15\": 236, \"6\": 4}, \"6\": {\"6\": 238, \"15\": 2}, \"2\": {\"2\": 239, \"0\": 1}, \"0\": {\"0\": 233, \"2\": 5, \"10\": 2}, \"11\": {\"11\": 237, \"12\": 2, \"9\": 1}, \"3\": {\"3\": 240}, \"8\": {\"8\": 240}, \"7\": {\"7\": 237, \"5\": 3}, \"1\": {\"1\": 240}}, \"ORACLE.run1_26\": {\"7\": {\"8\": 6, \"7\": 229, \"2\": 5}, \"6\": {\"6\": 223, \"15\": 17}, \"14\": {\"14\": 209, \"10\": 22, \"0\": 9}, \"15\": {\"15\": 202, \"6\": 32, \"5\": 4, \"10\": 2}, \"5\": {\"5\": 239, \"15\": 1}, \"10\": {\"10\": 201, \"0\": 17, \"14\": 20, \"15\": 2}, \"4\": {\"4\": 240}, \"11\": {\"11\": 240}, \"13\": {\"13\": 224, \"9\": 4, \"2\": 7, \"3\": 5}, \"2\": {\"7\": 35, \"2\": 168, \"3\": 13, \"0\": 4, \"9\": 9, \"10\": 5, \"8\": 4, \"13\": 1, \"15\": 1}, \"0\": {\"10\": 30, \"0\": 193, \"14\": 17}, \"12\": {\"12\": 240}, \"3\": {\"3\": 237, \"7\": 3}, \"9\": {\"13\": 17, \"9\": 197, \"8\": 11, \"15\": 9, \"2\": 5, \"6\": 1}, \"8\": {\"8\": 216, \"7\": 22, \"9\": 2}, \"1\": {\"1\": 226, \"14\": 14}}, \"ORACLE.run1_32\": {\"7\": {\"7\": 213, \"5\": 27}, \"2\": {\"2\": 231, \"4\": 9}, \"5\": {\"5\": 168, \"7\": 60, \"0\": 1, \"8\": 7, \"14\": 4}, \"6\": {\"6\": 240}, \"13\": {\"13\": 204, \"3\": 28, \"4\": 8}, \"4\": {\"4\": 223, \"2\": 17}, \"3\": {\"3\": 237, \"13\": 3}, \"0\": {\"0\": 226, \"8\": 10, \"7\": 2, \"14\": 2}, \"9\": {\"9\": 240}, \"12\": {\"12\": 240}, \"8\": {\"8\": 225, \"5\": 2, \"0\": 13}, \"14\": {\"14\": 209, \"0\": 16, \"7\": 9, \"2\": 1, \"11\": 1, \"8\": 2, \"5\": 2}, \"15\": {\"15\": 240}, \"11\": {\"11\": 240}, \"10\": {\"10\": 240}, \"1\": {\"1\": 240}}, \"ORACLE.run1_44\": {\"11\": {\"11\": 240}, \"7\": {\"7\": 227, \"9\": 13}, \"6\": {\"6\": 215, \"13\": 18, \"9\": 7}, \"12\": {\"12\": 239, \"3\": 1}, \"4\": {\"4\": 154, \"14\": 85, \"15\": 1}, \"13\": {\"6\": 27, \"13\": 206, \"9\": 7}, \"8\": {\"0\": 38, \"8\": 189, \"15\": 5, \"5\": 8}, \"5\": {\"5\": 232, \"14\": 3, \"15\": 4, \"8\": 1}, \"14\": {\"14\": 187, \"4\": 50, \"15\": 3}, \"3\": {\"3\": 240}, \"10\": {\"10\": 227, \"2\": 4, \"1\": 6, \"7\": 3}, \"1\": {\"1\": 236, \"2\": 4}, \"2\": {\"2\": 240}, \"15\": {\"15\": 209, \"14\": 15, \"8\": 8, \"0\": 1, \"5\": 6, \"4\": 1}, \"9\": {\"9\": 133, \"6\": 27, \"7\": 58, \"13\": 22}, \"0\": {\"8\": 21, \"0\": 219}}, \"ORACLE.run1_8\": {\"10\": {\"10\": 226, \"13\": 14}, \"6\": {\"6\": 234, \"7\": 5, \"13\": 1}, \"13\": {\"13\": 224, \"10\": 12, \"7\": 3, \"6\": 1}, \"3\": {\"3\": 240}, \"9\": {\"9\": 240}, \"1\": {\"1\": 237, \"11\": 1, \"5\": 2}, \"5\": {\"5\": 206, \"10\": 13, \"1\": 14, \"14\": 7}, \"11\": {\"1\": 21, \"11\": 218, \"14\": 1}, \"4\": {\"4\": 238, \"14\": 2}, \"14\": {\"14\": 235, \"4\": 4, \"1\": 1}, \"12\": {\"12\": 201, \"15\": 39}, \"7\": {\"7\": 231, \"6\": 7, \"13\": 2}, \"0\": {\"0\": 240}, \"15\": {\"15\": 226, \"12\": 14}, \"2\": {\"2\": 212, \"3\": 9, \"12\": 13, \"9\": 5, \"15\": 1}, \"8\": {\"8\": 240}}, \"ORACLE.run1_38\": {\"4\": {\"4\": 240}, \"7\": {\"7\": 240}, \"12\": {\"12\": 240}, \"10\": {\"0\": 3, \"10\": 232, \"13\": 5}, \"0\": {\"0\": 193, \"7\": 9, \"10\": 11, \"3\": 12, \"13\": 12, \"8\": 2, \"5\": 1}, \"1\": {\"1\": 240}, \"5\": {\"8\": 83, \"7\": 21, \"5\": 120, \"9\": 9, \"13\": 2, \"15\": 5}, \"15\": {\"15\": 229, \"8\": 5, \"5\": 6}, \"9\": {\"9\": 239, \"5\": 1}, \"11\": {\"11\": 238, \"3\": 2}, \"14\": {\"14\": 236, \"2\": 4}, \"6\": {\"6\": 240}, \"8\": {\"8\": 156, \"5\": 57, \"15\": 4, \"7\": 22, \"0\": 1}, \"3\": {\"3\": 237, \"11\": 3}, \"2\": {\"2\": 236, \"14\": 4}, \"13\": {\"13\": 236, \"10\": 1, \"2\": 2, \"0\": 1}}}, \"per_domain_accuracy\": {\"ORACLE.run2_14\": {\"accuracy\": 0.96015625, \"source?\": true}, \"ORACLE.run2_20\": {\"accuracy\": 0.9544270833333334, \"source?\": true}, \"ORACLE.run2_50\": {\"accuracy\": 0.9723958333333333, \"source?\": true}, \"ORACLE.run2_26\": {\"accuracy\": 0.9213541666666667, \"source?\": true}, \"ORACLE.run2_32\": {\"accuracy\": 0.9877604166666667, \"source?\": true}, \"ORACLE.run2_44\": {\"accuracy\": 0.93046875, \"source?\": true}, \"ORACLE.run2_8\": {\"accuracy\": 0.9817708333333334, \"source?\": true}, \"ORACLE.run2_38\": {\"accuracy\": 0.9239583333333333, \"source?\": true}, \"ORACLE.run1_14\": {\"accuracy\": 0.8736979166666666, \"source?\": false}, \"ORACLE.run1_20\": {\"accuracy\": 0.9778645833333334, \"source?\": false}, \"ORACLE.run1_50\": {\"accuracy\": 0.96171875, \"source?\": false}, \"ORACLE.run1_26\": {\"accuracy\": 0.9072916666666667, \"source?\": false}, \"ORACLE.run1_32\": {\"accuracy\": 0.9416666666666667, \"source?\": false}, \"ORACLE.run1_44\": {\"accuracy\": 0.88359375, \"source?\": false}, \"ORACLE.run1_8\": {\"accuracy\": 0.95, \"source?\": false}, \"ORACLE.run1_38\": {\"accuracy\": 0.925, \"source?\": false}}}, \"history\": {\"epoch_indices\": [1, 2, 3, 4, 5, 6, 7, 8, 9, 10, 11, 12, 13, 14], \"train_label_loss\": [0.42325179235666016, 0.5074134100888235, 0.24034623653022294, 0.23530152747719382, 0.17183194654914716, 0.15822738897719058, 0.14735670373520407, 0.1363987092597329, 0.13109069107794355, 0.12778546695622242, 0.12035099614939836, 0.11774573815681552, 0.11212660528779322, 0.10830545668354283], \"source_val_label_loss\": [5.874413967132568, 0.27778974175453186, 0.2534143030643463, 0.2326931208372116, 0.17774824798107147, 0.1580141931772232, 0.15943102538585663, 0.15611141920089722, 0.1419273018836975, 0.12801150977611542, 0.15121129155158997, 0.1623912751674652, 0.13105469942092896, 0.13652615249156952], \"target_val_label_loss\": [6.753860950469971, 0.34981006383895874, 0.3549630045890808, 0.33618786931037903, 0.2946290671825409, 0.295592337846756, 0.2782553434371948, 0.2519221901893616, 0.2895600199699402, 0.27553871273994446, 0.29067713022232056, 0.30192092061042786, 0.28032103180885315, 0.3072011172771454], \"source_val_acc_label\": [0.7638997395833333, 0.91015625, 0.9177408854166667, 0.926171875, 0.9411458333333333, 0.9448567708333333, 0.94501953125, 0.9440104166666666, 0.9483723958333333, 0.9540364583333333, 0.9484375, 0.9447265625, 0.9590494791666667, 0.9554036458333334], \"target_val_acc_label\": [0.74189453125, 0.8923177083333333, 0.897265625, 0.9045572916666667, 0.91728515625, 0.91943359375, 0.9196940104166667, 0.9244140625, 0.92060546875, 0.9276041666666667, 0.9201497395833333, 0.9159830729166667, 0.9271158854166667, 0.9227213541666667]}, \"dataset_metrics\": {\"source\": {\"train\": {\"n_unique_x\": 179200, \"n_unique_y\": 16, \"n_batch/episode\": 6720}, \"val\": {\"n_unique_x\": 38400, \"n_unique_y\": 16, \"n_batch/episode\": 960}, \"test\": {\"n_unique_x\": 38400, \"n_unique_y\": 16, \"n_batch/episode\": 960}}, \"target\": {\"train\": {\"n_unique_x\": 179200, \"n_unique_y\": 16, \"n_batch/episode\": 6720}, \"val\": {\"n_unique_x\": 38400, \"n_unique_y\": 16, \"n_batch/episode\": 960}, \"test\": {\"n_unique_x\": 38400, \"n_unique_y\": 16, \"n_batch/episode\": 960}}}}'"
      ]
     },
     "execution_count": 29,
     "metadata": {},
     "output_type": "execute_result"
    }
   ],
   "source": [
    "json.dumps(experiment)"
   ]
  }
 ],
 "metadata": {
  "celltoolbar": "Tags",
  "kernelspec": {
   "display_name": "Python 3 (ipykernel)",
   "language": "python",
   "name": "python3"
  },
  "language_info": {
   "codemirror_mode": {
    "name": "ipython",
    "version": 3
   },
   "file_extension": ".py",
   "mimetype": "text/x-python",
   "name": "python",
   "nbconvert_exporter": "python",
   "pygments_lexer": "ipython3",
   "version": "3.8.12"
  },
  "papermill": {
   "default_parameters": {},
   "duration": 3861.516756,
   "end_time": "2022-03-21T16:15:10.568515",
   "environment_variables": {},
   "exception": null,
   "input_path": "/root/csc500-main/csc500-notebooks/templates/tl_ptn_template.ipynb",
   "output_path": "trial.ipynb",
   "parameters": {
    "parameters": {
     "BEST_MODEL_PATH": "./best_model.pth",
     "NUM_LOGS_PER_EPOCH": 10,
     "criteria_for_best": "target_accuracy",
     "dataset_seed": 420,
     "datasets": [
      {
       "domain_prefix": "ORACLE.run1_",
       "domains": [
        32,
        38,
        8,
        44,
        14,
        50,
        20,
        26
       ],
       "episode_transforms": [],
       "labels": [
        "3123D52",
        "3123D65",
        "3123D79",
        "3123D80",
        "3123D54",
        "3123D70",
        "3123D7B",
        "3123D89",
        "3123D58",
        "3123D76",
        "3123D7D",
        "3123EFE",
        "3123D64",
        "3123D78",
        "3123D7E",
        "3124E4A"
       ],
       "num_examples_per_domain_per_label": 2000,
       "pickle_path": "/root/csc500-main/datasets/oracle.Run1_framed_2000Examples_stratified_ds.2022A.pkl",
       "source_or_target_dataset": "target",
       "x_transforms": []
      },
      {
       "domain_prefix": "ORACLE.run2_",
       "domains": [
        32,
        38,
        8,
        44,
        14,
        50,
        20,
        26
       ],
       "episode_transforms": [],
       "labels": [
        "3123D52",
        "3123D65",
        "3123D79",
        "3123D80",
        "3123D54",
        "3123D70",
        "3123D7B",
        "3123D89",
        "3123D58",
        "3123D76",
        "3123D7D",
        "3123EFE",
        "3123D64",
        "3123D78",
        "3123D7E",
        "3124E4A"
       ],
       "num_examples_per_domain_per_label": 2000,
       "pickle_path": "/root/csc500-main/datasets/oracle.Run2_framed_2000Examples_stratified_ds.2022A.pkl",
       "source_or_target_dataset": "source",
       "x_transforms": []
      }
     ],
     "device": "cuda",
     "experiment_name": "tl_1v2:oracle.run1.framed-oracle.run2.framed",
     "lr": 0.0001,
     "n_epoch": 50,
     "n_query": 2,
     "n_shot": 3,
     "n_way": 16,
     "patience": 3,
     "seed": 420,
     "test_k_factor": 2,
     "torch_default_dtype": "torch.float32",
     "train_k_factor": 3,
     "val_k_factor": 2,
     "x_net": [
      {
       "class": "nnReshape",
       "kargs": {
        "shape": [
         -1,
         1,
         2,
         256
        ]
       }
      },
      {
       "class": "Conv2d",
       "kargs": {
        "bias": false,
        "in_channels": 1,
        "kernel_size": [
         1,
         7
        ],
        "out_channels": 256,
        "padding": [
         0,
         3
        ]
       }
      },
      {
       "class": "ReLU",
       "kargs": {
        "inplace": true
       }
      },
      {
       "class": "BatchNorm2d",
       "kargs": {
        "num_features": 256
       }
      },
      {
       "class": "Conv2d",
       "kargs": {
        "bias": true,
        "in_channels": 256,
        "kernel_size": [
         2,
         7
        ],
        "out_channels": 80,
        "padding": [
         0,
         3
        ]
       }
      },
      {
       "class": "ReLU",
       "kargs": {
        "inplace": true
       }
      },
      {
       "class": "BatchNorm2d",
       "kargs": {
        "num_features": 80
       }
      },
      {
       "class": "Flatten",
       "kargs": {}
      },
      {
       "class": "Linear",
       "kargs": {
        "in_features": 20480,
        "out_features": 256
       }
      },
      {
       "class": "ReLU",
       "kargs": {
        "inplace": true
       }
      },
      {
       "class": "BatchNorm1d",
       "kargs": {
        "num_features": 256
       }
      },
      {
       "class": "Linear",
       "kargs": {
        "in_features": 256,
        "out_features": 256
       }
      }
     ]
    }
   },
   "start_time": "2022-03-21T15:10:49.051759",
   "version": "2.3.4"
  }
 },
 "nbformat": 4,
 "nbformat_minor": 5
}