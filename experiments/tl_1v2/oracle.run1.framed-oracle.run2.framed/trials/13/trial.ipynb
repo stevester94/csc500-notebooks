{
 "cells": [
  {
   "cell_type": "markdown",
   "id": "9fea5f46",
   "metadata": {
    "papermill": {
     "duration": 0.030537,
     "end_time": "2022-03-21T17:02:37.304421",
     "exception": false,
     "start_time": "2022-03-21T17:02:37.273884",
     "status": "completed"
    },
    "tags": []
   },
   "source": [
    "# Transfer Learning Template"
   ]
  },
  {
   "cell_type": "code",
   "execution_count": 1,
   "id": "0902182a",
   "metadata": {
    "execution": {
     "iopub.execute_input": "2022-03-21T17:02:37.365710Z",
     "iopub.status.busy": "2022-03-21T17:02:37.360862Z",
     "iopub.status.idle": "2022-03-21T17:02:39.229938Z",
     "shell.execute_reply": "2022-03-21T17:02:39.230660Z"
    },
    "papermill": {
     "duration": 1.903443,
     "end_time": "2022-03-21T17:02:39.230997",
     "exception": false,
     "start_time": "2022-03-21T17:02:37.327554",
     "status": "completed"
    },
    "tags": []
   },
   "outputs": [],
   "source": [
    "%load_ext autoreload\n",
    "%autoreload 2\n",
    "%matplotlib inline\n",
    "\n",
    "    \n",
    "import os, json, sys, time, random\n",
    "import numpy as np\n",
    "import torch\n",
    "from torch.optim import Adam\n",
    "from  easydict import EasyDict\n",
    "import matplotlib.pyplot as plt\n",
    "\n",
    "from steves_models.steves_ptn import Steves_Prototypical_Network\n",
    "\n",
    "from steves_utils.lazy_iterable_wrapper import Lazy_Iterable_Wrapper\n",
    "from steves_utils.iterable_aggregator import Iterable_Aggregator\n",
    "from steves_utils.ptn_train_eval_test_jig import  PTN_Train_Eval_Test_Jig\n",
    "from steves_utils.torch_sequential_builder import build_sequential\n",
    "from steves_utils.torch_utils import get_dataset_metrics, ptn_confusion_by_domain_over_dataloader\n",
    "from steves_utils.utils_v2 import (per_domain_accuracy_from_confusion, get_datasets_base_path)\n",
    "from steves_utils.PTN.utils import independent_accuracy_assesment\n",
    "\n",
    "from torch.utils.data import DataLoader\n",
    "\n",
    "from steves_utils.stratified_dataset.episodic_accessor import Episodic_Accessor_Factory\n",
    "\n",
    "from steves_utils.ptn_do_report import (\n",
    "    get_loss_curve,\n",
    "    get_results_table,\n",
    "    get_parameters_table,\n",
    "    get_domain_accuracies,\n",
    ")\n",
    "\n",
    "from steves_utils.transforms import get_chained_transform"
   ]
  },
  {
   "cell_type": "markdown",
   "id": "41c840b4",
   "metadata": {
    "papermill": {
     "duration": 0.018302,
     "end_time": "2022-03-21T17:02:39.273848",
     "exception": false,
     "start_time": "2022-03-21T17:02:39.255546",
     "status": "completed"
    },
    "tags": []
   },
   "source": [
    "# Allowed Parameters\n",
    "These are allowed parameters, not defaults\n",
    "Each of these values need to be present in the injected parameters (the notebook will raise an exception if they are not present)\n",
    "\n",
    "Papermill uses the cell tag \"parameters\" to inject the real parameters below this cell.\n",
    "Enable tags to see what I mean"
   ]
  },
  {
   "cell_type": "code",
   "execution_count": 2,
   "id": "fd44eb83",
   "metadata": {
    "execution": {
     "iopub.execute_input": "2022-03-21T17:02:39.315468Z",
     "iopub.status.busy": "2022-03-21T17:02:39.315004Z",
     "iopub.status.idle": "2022-03-21T17:02:39.337426Z",
     "shell.execute_reply": "2022-03-21T17:02:39.336627Z"
    },
    "papermill": {
     "duration": 0.045141,
     "end_time": "2022-03-21T17:02:39.337577",
     "exception": false,
     "start_time": "2022-03-21T17:02:39.292436",
     "status": "completed"
    },
    "tags": []
   },
   "outputs": [],
   "source": [
    "required_parameters = {\n",
    "    \"experiment_name\",\n",
    "    \"lr\",\n",
    "    \"device\",\n",
    "    \"seed\",\n",
    "    \"dataset_seed\",\n",
    "    \"n_shot\",\n",
    "    \"n_query\",\n",
    "    \"n_way\",\n",
    "    \"train_k_factor\",\n",
    "    \"val_k_factor\",\n",
    "    \"test_k_factor\",\n",
    "    \"n_epoch\",\n",
    "    \"patience\",\n",
    "    \"criteria_for_best\",\n",
    "    \"x_net\",\n",
    "    \"datasets\",\n",
    "    \"torch_default_dtype\",\n",
    "    \"NUM_LOGS_PER_EPOCH\",\n",
    "    \"BEST_MODEL_PATH\",\n",
    "    \"x_shape\",\n",
    "}"
   ]
  },
  {
   "cell_type": "code",
   "execution_count": 3,
   "id": "fa3f0049",
   "metadata": {
    "execution": {
     "iopub.execute_input": "2022-03-21T17:02:39.396644Z",
     "iopub.status.busy": "2022-03-21T17:02:39.383845Z",
     "iopub.status.idle": "2022-03-21T17:02:39.422074Z",
     "shell.execute_reply": "2022-03-21T17:02:39.421270Z"
    },
    "papermill": {
     "duration": 0.059992,
     "end_time": "2022-03-21T17:02:39.422261",
     "exception": false,
     "start_time": "2022-03-21T17:02:39.362269",
     "status": "completed"
    },
    "tags": [
     "parameters"
    ]
   },
   "outputs": [],
   "source": [
    "from steves_utils.CORES.utils import (\n",
    "    ALL_NODES,\n",
    "    ALL_NODES_MINIMUM_1000_EXAMPLES,\n",
    "    ALL_DAYS\n",
    ")\n",
    "\n",
    "from steves_utils.ORACLE.utils_v2 import (\n",
    "    ALL_DISTANCES_FEET_NARROWED,\n",
    "    ALL_RUNS,\n",
    "    ALL_SERIAL_NUMBERS,\n",
    ")\n",
    "\n",
    "standalone_parameters = {}\n",
    "standalone_parameters[\"experiment_name\"] = \"STANDALONE PTN\"\n",
    "standalone_parameters[\"lr\"] = 0.001\n",
    "standalone_parameters[\"device\"] = \"cuda\"\n",
    "\n",
    "standalone_parameters[\"seed\"] = 1337\n",
    "standalone_parameters[\"dataset_seed\"] = 1337\n",
    "\n",
    "standalone_parameters[\"n_way\"] = 8\n",
    "standalone_parameters[\"n_shot\"] = 3\n",
    "standalone_parameters[\"n_query\"]  = 2\n",
    "standalone_parameters[\"train_k_factor\"] = 1\n",
    "standalone_parameters[\"val_k_factor\"] = 2\n",
    "standalone_parameters[\"test_k_factor\"] = 2\n",
    "\n",
    "\n",
    "standalone_parameters[\"n_epoch\"] = 50\n",
    "\n",
    "standalone_parameters[\"patience\"] = 10\n",
    "standalone_parameters[\"criteria_for_best\"] = \"source_loss\"\n",
    "\n",
    "standalone_parameters[\"datasets\"] = [\n",
    "    {\n",
    "        \"labels\": ALL_SERIAL_NUMBERS,\n",
    "        \"domains\": ALL_DISTANCES_FEET_NARROWED,\n",
    "        \"num_examples_per_domain_per_label\": 100,\n",
    "        \"pickle_path\": os.path.join(get_datasets_base_path(), \"oracle.Run1_framed_2000Examples_stratified_ds.2022A.pkl\"),\n",
    "        \"source_or_target_dataset\": \"source\",\n",
    "        \"x_transforms\": [\"unit_mag\", \"minus_two\"],\n",
    "        \"episode_transforms\": [],\n",
    "        \"domain_prefix\": \"ORACLE_\"\n",
    "    },\n",
    "    {\n",
    "        \"labels\": ALL_NODES,\n",
    "        \"domains\": ALL_DAYS,\n",
    "        \"num_examples_per_domain_per_label\": 100,\n",
    "        \"pickle_path\": os.path.join(get_datasets_base_path(), \"cores.stratified_ds.2022A.pkl\"),\n",
    "        \"source_or_target_dataset\": \"target\",\n",
    "        \"x_transforms\": [\"unit_power\", \"times_zero\"],\n",
    "        \"episode_transforms\": [],\n",
    "        \"domain_prefix\": \"CORES_\"\n",
    "    }   \n",
    "]\n",
    "\n",
    "standalone_parameters[\"torch_default_dtype\"] = \"torch.float32\" \n",
    "\n",
    "\n",
    "\n",
    "standalone_parameters[\"x_net\"] =     [\n",
    "    {\"class\": \"nnReshape\", \"kargs\": {\"shape\":[-1, 1, 2, 256]}},\n",
    "    {\"class\": \"Conv2d\", \"kargs\": { \"in_channels\":1, \"out_channels\":256, \"kernel_size\":(1,7), \"bias\":False, \"padding\":(0,3), },},\n",
    "    {\"class\": \"ReLU\", \"kargs\": {\"inplace\": True}},\n",
    "    {\"class\": \"BatchNorm2d\", \"kargs\": {\"num_features\":256}},\n",
    "\n",
    "    {\"class\": \"Conv2d\", \"kargs\": { \"in_channels\":256, \"out_channels\":80, \"kernel_size\":(2,7), \"bias\":True, \"padding\":(0,3), },},\n",
    "    {\"class\": \"ReLU\", \"kargs\": {\"inplace\": True}},\n",
    "    {\"class\": \"BatchNorm2d\", \"kargs\": {\"num_features\":80}},\n",
    "    {\"class\": \"Flatten\", \"kargs\": {}},\n",
    "\n",
    "    {\"class\": \"Linear\", \"kargs\": {\"in_features\": 80*256, \"out_features\": 256}}, # 80 units per IQ pair\n",
    "    {\"class\": \"ReLU\", \"kargs\": {\"inplace\": True}},\n",
    "    {\"class\": \"BatchNorm1d\", \"kargs\": {\"num_features\":256}},\n",
    "\n",
    "    {\"class\": \"Linear\", \"kargs\": {\"in_features\": 256, \"out_features\": 256}},\n",
    "]\n",
    "\n",
    "# Parameters relevant to results\n",
    "# These parameters will basically never need to change\n",
    "standalone_parameters[\"NUM_LOGS_PER_EPOCH\"] = 10\n",
    "standalone_parameters[\"BEST_MODEL_PATH\"] = \"./best_model.pth\"\n",
    "\n",
    "\n",
    "\n",
    "\n"
   ]
  },
  {
   "cell_type": "code",
   "execution_count": 4,
   "id": "1f0ba9ea",
   "metadata": {
    "execution": {
     "iopub.execute_input": "2022-03-21T17:02:39.479220Z",
     "iopub.status.busy": "2022-03-21T17:02:39.467650Z",
     "iopub.status.idle": "2022-03-21T17:02:39.503031Z",
     "shell.execute_reply": "2022-03-21T17:02:39.502413Z"
    },
    "papermill": {
     "duration": 0.057602,
     "end_time": "2022-03-21T17:02:39.503207",
     "exception": false,
     "start_time": "2022-03-21T17:02:39.445605",
     "status": "completed"
    },
    "tags": [
     "injected-parameters"
    ]
   },
   "outputs": [],
   "source": [
    "# Parameters\n",
    "parameters = {\n",
    "    \"experiment_name\": \"tl_1v2:oracle.run1.framed-oracle.run2.framed\",\n",
    "    \"device\": \"cuda\",\n",
    "    \"lr\": 0.0001,\n",
    "    \"n_shot\": 3,\n",
    "    \"n_query\": 2,\n",
    "    \"train_k_factor\": 3,\n",
    "    \"val_k_factor\": 2,\n",
    "    \"test_k_factor\": 2,\n",
    "    \"torch_default_dtype\": \"torch.float32\",\n",
    "    \"n_epoch\": 50,\n",
    "    \"patience\": 3,\n",
    "    \"criteria_for_best\": \"target_accuracy\",\n",
    "    \"x_net\": [\n",
    "        {\"class\": \"nnReshape\", \"kargs\": {\"shape\": [-1, 1, 2, 256]}},\n",
    "        {\n",
    "            \"class\": \"Conv2d\",\n",
    "            \"kargs\": {\n",
    "                \"in_channels\": 1,\n",
    "                \"out_channels\": 256,\n",
    "                \"kernel_size\": [1, 7],\n",
    "                \"bias\": False,\n",
    "                \"padding\": [0, 3],\n",
    "            },\n",
    "        },\n",
    "        {\"class\": \"ReLU\", \"kargs\": {\"inplace\": True}},\n",
    "        {\"class\": \"BatchNorm2d\", \"kargs\": {\"num_features\": 256}},\n",
    "        {\n",
    "            \"class\": \"Conv2d\",\n",
    "            \"kargs\": {\n",
    "                \"in_channels\": 256,\n",
    "                \"out_channels\": 80,\n",
    "                \"kernel_size\": [2, 7],\n",
    "                \"bias\": True,\n",
    "                \"padding\": [0, 3],\n",
    "            },\n",
    "        },\n",
    "        {\"class\": \"ReLU\", \"kargs\": {\"inplace\": True}},\n",
    "        {\"class\": \"BatchNorm2d\", \"kargs\": {\"num_features\": 80}},\n",
    "        {\"class\": \"Flatten\", \"kargs\": {}},\n",
    "        {\"class\": \"Linear\", \"kargs\": {\"in_features\": 20480, \"out_features\": 256}},\n",
    "        {\"class\": \"ReLU\", \"kargs\": {\"inplace\": True}},\n",
    "        {\"class\": \"BatchNorm1d\", \"kargs\": {\"num_features\": 256}},\n",
    "        {\"class\": \"Linear\", \"kargs\": {\"in_features\": 256, \"out_features\": 256}},\n",
    "    ],\n",
    "    \"NUM_LOGS_PER_EPOCH\": 10,\n",
    "    \"BEST_MODEL_PATH\": \"./best_model.pth\",\n",
    "    \"n_way\": 16,\n",
    "    \"datasets\": [\n",
    "        {\n",
    "            \"labels\": [\n",
    "                \"3123D52\",\n",
    "                \"3123D65\",\n",
    "                \"3123D79\",\n",
    "                \"3123D80\",\n",
    "                \"3123D54\",\n",
    "                \"3123D70\",\n",
    "                \"3123D7B\",\n",
    "                \"3123D89\",\n",
    "                \"3123D58\",\n",
    "                \"3123D76\",\n",
    "                \"3123D7D\",\n",
    "                \"3123EFE\",\n",
    "                \"3123D64\",\n",
    "                \"3123D78\",\n",
    "                \"3123D7E\",\n",
    "                \"3124E4A\",\n",
    "            ],\n",
    "            \"domains\": [32, 38, 8, 44, 14, 50, 20, 26],\n",
    "            \"num_examples_per_domain_per_label\": 2000,\n",
    "            \"pickle_path\": \"/root/csc500-main/datasets/oracle.Run1_framed_2000Examples_stratified_ds.2022A.pkl\",\n",
    "            \"source_or_target_dataset\": \"source\",\n",
    "            \"x_transforms\": [\"unit_mag\"],\n",
    "            \"episode_transforms\": [],\n",
    "            \"domain_prefix\": \"ORACLE.run1_\",\n",
    "        },\n",
    "        {\n",
    "            \"labels\": [\n",
    "                \"3123D52\",\n",
    "                \"3123D65\",\n",
    "                \"3123D79\",\n",
    "                \"3123D80\",\n",
    "                \"3123D54\",\n",
    "                \"3123D70\",\n",
    "                \"3123D7B\",\n",
    "                \"3123D89\",\n",
    "                \"3123D58\",\n",
    "                \"3123D76\",\n",
    "                \"3123D7D\",\n",
    "                \"3123EFE\",\n",
    "                \"3123D64\",\n",
    "                \"3123D78\",\n",
    "                \"3123D7E\",\n",
    "                \"3124E4A\",\n",
    "            ],\n",
    "            \"domains\": [32, 38, 8, 44, 14, 50, 20, 26],\n",
    "            \"num_examples_per_domain_per_label\": 2000,\n",
    "            \"pickle_path\": \"/root/csc500-main/datasets/oracle.Run2_framed_2000Examples_stratified_ds.2022A.pkl\",\n",
    "            \"source_or_target_dataset\": \"target\",\n",
    "            \"x_transforms\": [\"unit_mag\"],\n",
    "            \"episode_transforms\": [],\n",
    "            \"domain_prefix\": \"ORACLE.run2_\",\n",
    "        },\n",
    "    ],\n",
    "    \"dataset_seed\": 154325,\n",
    "    \"seed\": 154325,\n",
    "}\n"
   ]
  },
  {
   "cell_type": "code",
   "execution_count": 5,
   "id": "8fa1cc33",
   "metadata": {
    "execution": {
     "iopub.execute_input": "2022-03-21T17:02:39.563919Z",
     "iopub.status.busy": "2022-03-21T17:02:39.563386Z",
     "iopub.status.idle": "2022-03-21T17:02:39.586528Z",
     "shell.execute_reply": "2022-03-21T17:02:39.587159Z"
    },
    "papermill": {
     "duration": 0.054268,
     "end_time": "2022-03-21T17:02:39.587389",
     "exception": false,
     "start_time": "2022-03-21T17:02:39.533121",
     "status": "completed"
    },
    "tags": []
   },
   "outputs": [],
   "source": [
    "# Set this to True if you want to run this template directly\n",
    "STANDALONE = False\n",
    "if STANDALONE:\n",
    "    print(\"parameters not injected, running with standalone_parameters\")\n",
    "    parameters = standalone_parameters\n",
    "\n",
    "if not 'parameters' in locals() and not 'parameters' in globals():\n",
    "    raise Exception(\"Parameter injection failed\")\n",
    "\n",
    "#Use an easy dict for all the parameters\n",
    "p = EasyDict(parameters)\n",
    "\n",
    "if \"x_shape\" not in p:\n",
    "    p.x_shape = [2,256] # Default to this if we dont supply x_shape\n",
    "\n",
    "\n",
    "supplied_keys = set(p.keys())\n",
    "\n",
    "if  supplied_keys != required_parameters:\n",
    "    print(\"Parameters are incorrect\")\n",
    "    if len(supplied_keys - required_parameters)>0: print(\"Shouldn't have:\", str(supplied_keys - required_parameters))\n",
    "    if len(required_parameters - supplied_keys)>0: print(\"Need to have:\", str(required_parameters - supplied_keys))\n",
    "    raise RuntimeError(\"Parameters are incorrect\")"
   ]
  },
  {
   "cell_type": "code",
   "execution_count": 6,
   "id": "3a028d58",
   "metadata": {
    "execution": {
     "iopub.execute_input": "2022-03-21T17:02:39.646859Z",
     "iopub.status.busy": "2022-03-21T17:02:39.646459Z",
     "iopub.status.idle": "2022-03-21T17:02:39.670269Z",
     "shell.execute_reply": "2022-03-21T17:02:39.670594Z"
    },
    "papermill": {
     "duration": 0.056274,
     "end_time": "2022-03-21T17:02:39.670722",
     "exception": false,
     "start_time": "2022-03-21T17:02:39.614448",
     "status": "completed"
    },
    "tags": []
   },
   "outputs": [],
   "source": [
    "###################################\n",
    "# Set the RNGs and make it all deterministic\n",
    "###################################\n",
    "np.random.seed(p.seed)\n",
    "random.seed(p.seed)\n",
    "torch.manual_seed(p.seed)\n",
    "\n",
    "torch.use_deterministic_algorithms(True) "
   ]
  },
  {
   "cell_type": "code",
   "execution_count": 7,
   "id": "b691acf6",
   "metadata": {
    "execution": {
     "iopub.execute_input": "2022-03-21T17:02:39.718931Z",
     "iopub.status.busy": "2022-03-21T17:02:39.718554Z",
     "iopub.status.idle": "2022-03-21T17:02:39.742483Z",
     "shell.execute_reply": "2022-03-21T17:02:39.743133Z"
    },
    "papermill": {
     "duration": 0.048692,
     "end_time": "2022-03-21T17:02:39.743345",
     "exception": false,
     "start_time": "2022-03-21T17:02:39.694653",
     "status": "completed"
    },
    "tags": []
   },
   "outputs": [],
   "source": [
    "###########################################\n",
    "# The stratified datasets honor this\n",
    "###########################################\n",
    "torch.set_default_dtype(eval(p.torch_default_dtype))"
   ]
  },
  {
   "cell_type": "code",
   "execution_count": 8,
   "id": "b5fba671",
   "metadata": {
    "execution": {
     "iopub.execute_input": "2022-03-21T17:02:39.791579Z",
     "iopub.status.busy": "2022-03-21T17:02:39.791177Z",
     "iopub.status.idle": "2022-03-21T17:02:39.843465Z",
     "shell.execute_reply": "2022-03-21T17:02:39.844166Z"
    },
    "papermill": {
     "duration": 0.075578,
     "end_time": "2022-03-21T17:02:39.844409",
     "exception": false,
     "start_time": "2022-03-21T17:02:39.768831",
     "status": "completed"
    },
    "tags": []
   },
   "outputs": [],
   "source": [
    "###################################\n",
    "# Build the network(s)\n",
    "# Note: It's critical to do this AFTER setting the RNG\n",
    "###################################\n",
    "x_net = build_sequential(p.x_net)"
   ]
  },
  {
   "cell_type": "code",
   "execution_count": 9,
   "id": "5d7e61cc",
   "metadata": {
    "execution": {
     "iopub.execute_input": "2022-03-21T17:02:39.893478Z",
     "iopub.status.busy": "2022-03-21T17:02:39.893098Z",
     "iopub.status.idle": "2022-03-21T17:02:39.920718Z",
     "shell.execute_reply": "2022-03-21T17:02:39.919783Z"
    },
    "papermill": {
     "duration": 0.051297,
     "end_time": "2022-03-21T17:02:39.920900",
     "exception": false,
     "start_time": "2022-03-21T17:02:39.869603",
     "status": "completed"
    },
    "tags": []
   },
   "outputs": [],
   "source": [
    "start_time_secs = time.time()"
   ]
  },
  {
   "cell_type": "code",
   "execution_count": 10,
   "id": "c6b67dfd",
   "metadata": {
    "execution": {
     "iopub.execute_input": "2022-03-21T17:02:39.970435Z",
     "iopub.status.busy": "2022-03-21T17:02:39.969976Z",
     "iopub.status.idle": "2022-03-21T17:02:39.987355Z",
     "shell.execute_reply": "2022-03-21T17:02:39.986651Z"
    },
    "papermill": {
     "duration": 0.039625,
     "end_time": "2022-03-21T17:02:39.987525",
     "exception": false,
     "start_time": "2022-03-21T17:02:39.947900",
     "status": "completed"
    },
    "tags": []
   },
   "outputs": [],
   "source": [
    "p.domains_source = []\n",
    "p.domains_target = []\n",
    "\n",
    "\n",
    "train_original_source = []\n",
    "val_original_source   = []\n",
    "test_original_source  = []\n",
    "\n",
    "train_original_target = []\n",
    "val_original_target   = []\n",
    "test_original_target  = []"
   ]
  },
  {
   "cell_type": "code",
   "execution_count": 11,
   "id": "e3d9c3d3",
   "metadata": {
    "execution": {
     "iopub.execute_input": "2022-03-21T17:02:40.039067Z",
     "iopub.status.busy": "2022-03-21T17:02:40.038692Z",
     "iopub.status.idle": "2022-03-21T17:02:40.061683Z",
     "shell.execute_reply": "2022-03-21T17:02:40.062358Z"
    },
    "papermill": {
     "duration": 0.046671,
     "end_time": "2022-03-21T17:02:40.062577",
     "exception": false,
     "start_time": "2022-03-21T17:02:40.015906",
     "status": "completed"
    },
    "tags": []
   },
   "outputs": [],
   "source": [
    "# global_x_transform_func = lambda x: normalize(x.to(torch.get_default_dtype()), \"unit_power\") # unit_power, unit_mag\n",
    "# global_x_transform_func = lambda x: normalize(x, \"unit_power\") # unit_power, unit_mag"
   ]
  },
  {
   "cell_type": "code",
   "execution_count": 12,
   "id": "acb78fd2",
   "metadata": {
    "execution": {
     "iopub.execute_input": "2022-03-21T17:02:40.116114Z",
     "iopub.status.busy": "2022-03-21T17:02:40.115432Z",
     "iopub.status.idle": "2022-03-21T17:02:40.133317Z",
     "shell.execute_reply": "2022-03-21T17:02:40.134311Z"
    },
    "papermill": {
     "duration": 0.045971,
     "end_time": "2022-03-21T17:02:40.134602",
     "exception": false,
     "start_time": "2022-03-21T17:02:40.088631",
     "status": "completed"
    },
    "tags": []
   },
   "outputs": [],
   "source": [
    "def add_dataset(\n",
    "    labels,\n",
    "    domains,\n",
    "    pickle_path,\n",
    "    x_transforms,\n",
    "    episode_transforms,\n",
    "    domain_prefix,\n",
    "    num_examples_per_domain_per_label,\n",
    "    source_or_target_dataset:str,\n",
    "    iterator_seed=p.seed,\n",
    "    dataset_seed=p.dataset_seed,\n",
    "    n_shot=p.n_shot,\n",
    "    n_way=p.n_way,\n",
    "    n_query=p.n_query,\n",
    "    train_val_test_k_factors=(p.train_k_factor,p.val_k_factor,p.test_k_factor),\n",
    "):\n",
    "   \n",
    "    if x_transforms == []: x_transform = None\n",
    "    else: x_transform = get_chained_transform(x_transforms)\n",
    "    \n",
    "    if episode_transforms == []: episode_transform = None\n",
    "    else: raise Exception(\"episode_transforms not implemented\")\n",
    "    \n",
    "    episode_transform = lambda tup, _prefix=domain_prefix: (_prefix + str(tup[0]), tup[1])\n",
    "\n",
    "\n",
    "    eaf = Episodic_Accessor_Factory(\n",
    "        labels=labels,\n",
    "        domains=domains,\n",
    "        num_examples_per_domain_per_label=num_examples_per_domain_per_label,\n",
    "        iterator_seed=iterator_seed,\n",
    "        dataset_seed=dataset_seed,\n",
    "        n_shot=n_shot,\n",
    "        n_way=n_way,\n",
    "        n_query=n_query,\n",
    "        train_val_test_k_factors=train_val_test_k_factors,\n",
    "        pickle_path=pickle_path,\n",
    "        x_transform_func=x_transform,\n",
    "    )\n",
    "\n",
    "    train, val, test = eaf.get_train(), eaf.get_val(), eaf.get_test()\n",
    "    train = Lazy_Iterable_Wrapper(train, episode_transform)\n",
    "    val = Lazy_Iterable_Wrapper(val, episode_transform)\n",
    "    test = Lazy_Iterable_Wrapper(test, episode_transform)\n",
    "\n",
    "    if source_or_target_dataset==\"source\":\n",
    "        train_original_source.append(train)\n",
    "        val_original_source.append(val)\n",
    "        test_original_source.append(test)\n",
    "\n",
    "        p.domains_source.extend(\n",
    "            [domain_prefix + str(u) for u in domains]\n",
    "        )\n",
    "    elif source_or_target_dataset==\"target\":\n",
    "        train_original_target.append(train)\n",
    "        val_original_target.append(val)\n",
    "        test_original_target.append(test)\n",
    "        p.domains_target.extend(\n",
    "            [domain_prefix + str(u) for u in domains]\n",
    "        )\n",
    "    else:\n",
    "        raise Exception(f\"invalid source_or_target_dataset: {source_or_target_dataset}\")\n",
    "    "
   ]
  },
  {
   "cell_type": "code",
   "execution_count": 13,
   "id": "fe266617",
   "metadata": {
    "execution": {
     "iopub.execute_input": "2022-03-21T17:02:40.184109Z",
     "iopub.status.busy": "2022-03-21T17:02:40.183735Z",
     "iopub.status.idle": "2022-03-21T17:03:22.719047Z",
     "shell.execute_reply": "2022-03-21T17:03:22.718032Z"
    },
    "papermill": {
     "duration": 42.557918,
     "end_time": "2022-03-21T17:03:22.719247",
     "exception": false,
     "start_time": "2022-03-21T17:02:40.161329",
     "status": "completed"
    },
    "tags": []
   },
   "outputs": [],
   "source": [
    "for ds in p.datasets:\n",
    "    add_dataset(**ds)"
   ]
  },
  {
   "cell_type": "code",
   "execution_count": 14,
   "id": "b90d65ac",
   "metadata": {
    "execution": {
     "iopub.execute_input": "2022-03-21T17:03:22.769574Z",
     "iopub.status.busy": "2022-03-21T17:03:22.769198Z",
     "iopub.status.idle": "2022-03-21T17:03:22.793952Z",
     "shell.execute_reply": "2022-03-21T17:03:22.793260Z"
    },
    "papermill": {
     "duration": 0.04847,
     "end_time": "2022-03-21T17:03:22.794124",
     "exception": false,
     "start_time": "2022-03-21T17:03:22.745654",
     "status": "completed"
    },
    "tags": []
   },
   "outputs": [],
   "source": [
    "# from steves_utils.CORES.utils import (\n",
    "#     ALL_NODES,\n",
    "#     ALL_NODES_MINIMUM_1000_EXAMPLES,\n",
    "#     ALL_DAYS\n",
    "# )\n",
    "\n",
    "# add_dataset(\n",
    "#     labels=ALL_NODES,\n",
    "#     domains = ALL_DAYS,\n",
    "#     num_examples_per_domain_per_label=100,\n",
    "#     pickle_path=os.path.join(get_datasets_base_path(), \"cores.stratified_ds.2022A.pkl\"),\n",
    "#     source_or_target_dataset=\"target\",\n",
    "#     x_transform_func=global_x_transform_func,\n",
    "#     domain_modifier=lambda u: f\"cores_{u}\"\n",
    "# )"
   ]
  },
  {
   "cell_type": "code",
   "execution_count": 15,
   "id": "76db484d",
   "metadata": {
    "execution": {
     "iopub.execute_input": "2022-03-21T17:03:22.844236Z",
     "iopub.status.busy": "2022-03-21T17:03:22.843865Z",
     "iopub.status.idle": "2022-03-21T17:03:22.860713Z",
     "shell.execute_reply": "2022-03-21T17:03:22.860176Z"
    },
    "papermill": {
     "duration": 0.040248,
     "end_time": "2022-03-21T17:03:22.860879",
     "exception": false,
     "start_time": "2022-03-21T17:03:22.820631",
     "status": "completed"
    },
    "tags": []
   },
   "outputs": [],
   "source": [
    "# from steves_utils.ORACLE.utils_v2 import (\n",
    "#     ALL_DISTANCES_FEET,\n",
    "#     ALL_RUNS,\n",
    "#     ALL_SERIAL_NUMBERS,\n",
    "# )\n",
    "\n",
    "\n",
    "# add_dataset(\n",
    "#     labels=ALL_SERIAL_NUMBERS,\n",
    "#     domains = list(set(ALL_DISTANCES_FEET) - {2,62}),\n",
    "#     num_examples_per_domain_per_label=100,\n",
    "#     pickle_path=os.path.join(get_datasets_base_path(), \"oracle.Run2_framed_2000Examples_stratified_ds.2022A.pkl\"),\n",
    "#     source_or_target_dataset=\"source\",\n",
    "#     x_transform_func=global_x_transform_func,\n",
    "#     domain_modifier=lambda u: f\"oracle1_{u}\"\n",
    "# )\n"
   ]
  },
  {
   "cell_type": "code",
   "execution_count": 16,
   "id": "97dea9d2",
   "metadata": {
    "execution": {
     "iopub.execute_input": "2022-03-21T17:03:22.909364Z",
     "iopub.status.busy": "2022-03-21T17:03:22.908987Z",
     "iopub.status.idle": "2022-03-21T17:03:22.925493Z",
     "shell.execute_reply": "2022-03-21T17:03:22.924678Z"
    },
    "papermill": {
     "duration": 0.039503,
     "end_time": "2022-03-21T17:03:22.925659",
     "exception": false,
     "start_time": "2022-03-21T17:03:22.886156",
     "status": "completed"
    },
    "tags": []
   },
   "outputs": [],
   "source": [
    "# from steves_utils.ORACLE.utils_v2 import (\n",
    "#     ALL_DISTANCES_FEET,\n",
    "#     ALL_RUNS,\n",
    "#     ALL_SERIAL_NUMBERS,\n",
    "# )\n",
    "\n",
    "\n",
    "# add_dataset(\n",
    "#     labels=ALL_SERIAL_NUMBERS,\n",
    "#     domains = list(set(ALL_DISTANCES_FEET) - {2,62,56}),\n",
    "#     num_examples_per_domain_per_label=100,\n",
    "#     pickle_path=os.path.join(get_datasets_base_path(), \"oracle.Run2_framed_2000Examples_stratified_ds.2022A.pkl\"),\n",
    "#     source_or_target_dataset=\"source\",\n",
    "#     x_transform_func=global_x_transform_func,\n",
    "#     domain_modifier=lambda u: f\"oracle2_{u}\"\n",
    "# )"
   ]
  },
  {
   "cell_type": "code",
   "execution_count": 17,
   "id": "6f289866",
   "metadata": {
    "execution": {
     "iopub.execute_input": "2022-03-21T17:03:22.976358Z",
     "iopub.status.busy": "2022-03-21T17:03:22.975989Z",
     "iopub.status.idle": "2022-03-21T17:03:23.001737Z",
     "shell.execute_reply": "2022-03-21T17:03:23.001023Z"
    },
    "papermill": {
     "duration": 0.049127,
     "end_time": "2022-03-21T17:03:23.001900",
     "exception": false,
     "start_time": "2022-03-21T17:03:22.952773",
     "status": "completed"
    },
    "tags": []
   },
   "outputs": [],
   "source": [
    "# add_dataset(\n",
    "#     labels=list(range(19)),\n",
    "#     domains = [0,1,2],\n",
    "#     num_examples_per_domain_per_label=100,\n",
    "#     pickle_path=os.path.join(get_datasets_base_path(), \"metehan.stratified_ds.2022A.pkl\"),\n",
    "#     source_or_target_dataset=\"target\",\n",
    "#     x_transform_func=global_x_transform_func,\n",
    "#     domain_modifier=lambda u: f\"met_{u}\"\n",
    "# )"
   ]
  },
  {
   "cell_type": "code",
   "execution_count": 18,
   "id": "86a863c3",
   "metadata": {
    "execution": {
     "iopub.execute_input": "2022-03-21T17:03:23.061182Z",
     "iopub.status.busy": "2022-03-21T17:03:23.060802Z",
     "iopub.status.idle": "2022-03-21T17:03:23.087268Z",
     "shell.execute_reply": "2022-03-21T17:03:23.086555Z"
    },
    "papermill": {
     "duration": 0.058245,
     "end_time": "2022-03-21T17:03:23.087434",
     "exception": false,
     "start_time": "2022-03-21T17:03:23.029189",
     "status": "completed"
    },
    "tags": []
   },
   "outputs": [],
   "source": [
    "# # from steves_utils.wisig.utils import (\n",
    "# #     ALL_NODES_MINIMUM_100_EXAMPLES,\n",
    "# #     ALL_NODES_MINIMUM_500_EXAMPLES,\n",
    "# #     ALL_NODES_MINIMUM_1000_EXAMPLES,\n",
    "# #     ALL_DAYS\n",
    "# # )\n",
    "\n",
    "# import steves_utils.wisig.utils as wisig\n",
    "\n",
    "\n",
    "# add_dataset(\n",
    "#     labels=wisig.ALL_NODES_MINIMUM_100_EXAMPLES,\n",
    "#     domains = wisig.ALL_DAYS,\n",
    "#     num_examples_per_domain_per_label=100,\n",
    "#     pickle_path=os.path.join(get_datasets_base_path(), \"wisig.node3-19.stratified_ds.2022A.pkl\"),\n",
    "#     source_or_target_dataset=\"target\",\n",
    "#     x_transform_func=global_x_transform_func,\n",
    "#     domain_modifier=lambda u: f\"wisig_{u}\"\n",
    "# )"
   ]
  },
  {
   "cell_type": "code",
   "execution_count": 19,
   "id": "fd5442bc",
   "metadata": {
    "execution": {
     "iopub.execute_input": "2022-03-21T17:03:23.142235Z",
     "iopub.status.busy": "2022-03-21T17:03:23.141849Z",
     "iopub.status.idle": "2022-03-21T17:03:23.167046Z",
     "shell.execute_reply": "2022-03-21T17:03:23.167743Z"
    },
    "papermill": {
     "duration": 0.054412,
     "end_time": "2022-03-21T17:03:23.167941",
     "exception": false,
     "start_time": "2022-03-21T17:03:23.113529",
     "status": "completed"
    },
    "tags": []
   },
   "outputs": [],
   "source": [
    "###################################\n",
    "# Build the dataset\n",
    "###################################\n",
    "train_original_source = Iterable_Aggregator(train_original_source, p.seed)\n",
    "val_original_source = Iterable_Aggregator(val_original_source, p.seed)\n",
    "test_original_source = Iterable_Aggregator(test_original_source, p.seed)\n",
    "\n",
    "\n",
    "train_original_target = Iterable_Aggregator(train_original_target, p.seed)\n",
    "val_original_target = Iterable_Aggregator(val_original_target, p.seed)\n",
    "test_original_target = Iterable_Aggregator(test_original_target, p.seed)\n",
    "\n",
    "# For CNN We only use X and Y. And we only train on the source.\n",
    "# Properly form the data using a transform lambda and Lazy_Iterable_Wrapper. Finally wrap them in a dataloader\n",
    "\n",
    "transform_lambda = lambda ex: ex[1] # Original is (<domain>, <episode>) so we strip down to episode only\n",
    "\n",
    "train_processed_source = Lazy_Iterable_Wrapper(train_original_source, transform_lambda)\n",
    "val_processed_source   = Lazy_Iterable_Wrapper(val_original_source, transform_lambda)\n",
    "test_processed_source  = Lazy_Iterable_Wrapper(test_original_source, transform_lambda)\n",
    "\n",
    "train_processed_target = Lazy_Iterable_Wrapper(train_original_target, transform_lambda)\n",
    "val_processed_target   = Lazy_Iterable_Wrapper(val_original_target, transform_lambda)\n",
    "test_processed_target  = Lazy_Iterable_Wrapper(test_original_target, transform_lambda)\n",
    "\n",
    "datasets = EasyDict({\n",
    "    \"source\": {\n",
    "        \"original\": {\"train\":train_original_source, \"val\":val_original_source, \"test\":test_original_source},\n",
    "        \"processed\": {\"train\":train_processed_source, \"val\":val_processed_source, \"test\":test_processed_source}\n",
    "    },\n",
    "    \"target\": {\n",
    "        \"original\": {\"train\":train_original_target, \"val\":val_original_target, \"test\":test_original_target},\n",
    "        \"processed\": {\"train\":train_processed_target, \"val\":val_processed_target, \"test\":test_processed_target}\n",
    "    },\n",
    "})"
   ]
  },
  {
   "cell_type": "code",
   "execution_count": 20,
   "id": "5b3c01fc",
   "metadata": {
    "execution": {
     "iopub.execute_input": "2022-03-21T17:03:23.224287Z",
     "iopub.status.busy": "2022-03-21T17:03:23.223911Z",
     "iopub.status.idle": "2022-03-21T17:03:39.113249Z",
     "shell.execute_reply": "2022-03-21T17:03:39.112400Z"
    },
    "papermill": {
     "duration": 15.91522,
     "end_time": "2022-03-21T17:03:39.113429",
     "exception": false,
     "start_time": "2022-03-21T17:03:23.198209",
     "status": "completed"
    },
    "tags": []
   },
   "outputs": [
    {
     "name": "stdout",
     "output_type": "stream",
     "text": [
      "{'ORACLE.run1_44', 'ORACLE.run1_38', 'ORACLE.run1_50', 'ORACLE.run1_32', 'ORACLE.run1_8', 'ORACLE.run1_14', 'ORACLE.run1_26', 'ORACLE.run1_20'}\n"
     ]
    },
    {
     "name": "stdout",
     "output_type": "stream",
     "text": [
      "{'ORACLE.run2_32', 'ORACLE.run2_50', 'ORACLE.run2_14', 'ORACLE.run2_38', 'ORACLE.run2_26', 'ORACLE.run2_20', 'ORACLE.run2_8', 'ORACLE.run2_44'}\n"
     ]
    },
    {
     "name": "stdout",
     "output_type": "stream",
     "text": [
      "tensor([[[-0.2017,  1.0708, -0.1873,  ..., -1.0900,  0.4802,  0.5762],\n",
      "         [-0.4225,  0.3697,  0.5234,  ..., -0.0528, -0.9699, -1.0756]],\n",
      "\n",
      "        [[ 0.0526,  1.1818, -0.3014,  ..., -0.9282, -0.0431, -0.7369],\n",
      "         [-0.4019, -0.3014,  0.6220,  ...,  0.3254, -1.2871, -0.8469]],\n",
      "\n",
      "        [[-0.6893, -0.1605,  0.9112,  ..., -0.0614, -1.3455,  0.0236],\n",
      "         [-0.4202, -0.9301,  0.6137,  ...,  0.8262,  0.3116,  1.3691]],\n",
      "\n",
      "        ...,\n",
      "\n",
      "        [[ 0.1071,  0.6820, -0.1071,  ..., -0.8567, -0.8961, -1.0709],\n",
      "         [-0.9243, -0.2818,  1.3414,  ...,  0.0958, -1.0596,  0.8511]],\n",
      "\n",
      "        [[-0.2684,  1.1422,  0.0228,  ..., -1.0851,  0.1999,  0.3027],\n",
      "         [-0.5026,  0.0343,  0.6625,  ...,  0.2627, -1.1079, -1.0794]],\n",
      "\n",
      "        [[-0.7840, -0.8071,  1.0550,  ...,  0.6399, -0.2133,  1.3605],\n",
      "         [ 0.5534, -0.1729, -0.7840,  ...,  0.5592,  1.3432,  0.2421]]])\n"
     ]
    }
   ],
   "source": [
    "from steves_utils.transforms import get_average_magnitude, get_average_power\n",
    "\n",
    "print(set([u for u,_ in val_original_source]))\n",
    "print(set([u for u,_ in val_original_target]))\n",
    "\n",
    "s_x, s_y, q_x, q_y, _ = next(iter(train_processed_source))\n",
    "print(s_x)\n",
    "\n",
    "# for ds in [\n",
    "#     train_processed_source,\n",
    "#     val_processed_source,\n",
    "#     test_processed_source,\n",
    "#     train_processed_target,\n",
    "#     val_processed_target,\n",
    "#     test_processed_target\n",
    "# ]:\n",
    "#     for s_x, s_y, q_x, q_y, _ in ds:\n",
    "#         for X in (s_x, q_x):\n",
    "#             for x in X:\n",
    "#                 assert np.isclose(get_average_magnitude(x.numpy()), 1.0)\n",
    "#                 assert np.isclose(get_average_power(x.numpy()), 1.0)\n",
    "                "
   ]
  },
  {
   "cell_type": "code",
   "execution_count": 21,
   "id": "bbdacba1",
   "metadata": {
    "execution": {
     "iopub.execute_input": "2022-03-21T17:03:39.171242Z",
     "iopub.status.busy": "2022-03-21T17:03:39.170866Z",
     "iopub.status.idle": "2022-03-21T17:03:39.372781Z",
     "shell.execute_reply": "2022-03-21T17:03:39.372107Z"
    },
    "papermill": {
     "duration": 0.229235,
     "end_time": "2022-03-21T17:03:39.372947",
     "exception": false,
     "start_time": "2022-03-21T17:03:39.143712",
     "status": "completed"
    },
    "tags": []
   },
   "outputs": [
    {
     "name": "stdout",
     "output_type": "stream",
     "text": [
      "(2, 256)\n"
     ]
    }
   ],
   "source": [
    "###################################\n",
    "# Build the model\n",
    "###################################\n",
    "# easfsl only wants a tuple for the shape\n",
    "model = Steves_Prototypical_Network(x_net, device=p.device, x_shape=tuple(p.x_shape))\n",
    "optimizer = Adam(params=model.parameters(), lr=p.lr)"
   ]
  },
  {
   "cell_type": "code",
   "execution_count": 22,
   "id": "22b39ac5",
   "metadata": {
    "execution": {
     "iopub.execute_input": "2022-03-21T17:03:39.425271Z",
     "iopub.status.busy": "2022-03-21T17:03:39.424603Z",
     "iopub.status.idle": "2022-03-21T18:15:35.222788Z",
     "shell.execute_reply": "2022-03-21T18:15:35.222449Z"
    },
    "papermill": {
     "duration": 4315.823814,
     "end_time": "2022-03-21T18:15:35.222871",
     "exception": false,
     "start_time": "2022-03-21T17:03:39.399057",
     "status": "completed"
    },
    "tags": []
   },
   "outputs": [
    {
     "name": "stdout",
     "output_type": "stream",
     "text": [
      "epoch: 1, [batch: 1 / 6720], examples_per_second: 33.2954, train_label_loss: 2.9394, \n"
     ]
    },
    {
     "name": "stdout",
     "output_type": "stream",
     "text": [
      "epoch: 1, [batch: 672 / 6720], examples_per_second: 2566.6056, train_label_loss: 0.9610, \n"
     ]
    },
    {
     "name": "stdout",
     "output_type": "stream",
     "text": [
      "epoch: 1, [batch: 1344 / 6720], examples_per_second: 2646.1648, train_label_loss: 0.7227, \n"
     ]
    },
    {
     "name": "stdout",
     "output_type": "stream",
     "text": [
      "epoch: 1, [batch: 2016 / 6720], examples_per_second: 2411.4039, train_label_loss: 0.4542, \n"
     ]
    },
    {
     "name": "stdout",
     "output_type": "stream",
     "text": [
      "epoch: 1, [batch: 2688 / 6720], examples_per_second: 2590.1970, train_label_loss: 0.3084, \n"
     ]
    },
    {
     "name": "stdout",
     "output_type": "stream",
     "text": [
      "epoch: 1, [batch: 3360 / 6720], examples_per_second: 2644.6684, train_label_loss: 0.4438, \n"
     ]
    },
    {
     "name": "stdout",
     "output_type": "stream",
     "text": [
      "epoch: 1, [batch: 4032 / 6720], examples_per_second: 2531.3315, train_label_loss: 0.5627, \n"
     ]
    },
    {
     "name": "stdout",
     "output_type": "stream",
     "text": [
      "epoch: 1, [batch: 4704 / 6720], examples_per_second: 2282.2656, train_label_loss: 0.3059, \n"
     ]
    },
    {
     "name": "stdout",
     "output_type": "stream",
     "text": [
      "epoch: 1, [batch: 5376 / 6720], examples_per_second: 2300.4461, train_label_loss: 0.4149, \n"
     ]
    },
    {
     "name": "stdout",
     "output_type": "stream",
     "text": [
      "epoch: 1, [batch: 6048 / 6720], examples_per_second: 2304.7921, train_label_loss: 0.4789, \n"
     ]
    },
    {
     "name": "stdout",
     "output_type": "stream",
     "text": [
      "=============================================================\n",
      "epoch: 1, source_val_acc_label: 0.7684, target_val_acc_label: 0.7544, source_val_label_loss: 0.6833, target_val_label_loss: 0.7251, \n",
      "=============================================================\n"
     ]
    },
    {
     "name": "stdout",
     "output_type": "stream",
     "text": [
      "New best\n"
     ]
    },
    {
     "name": "stdout",
     "output_type": "stream",
     "text": [
      "epoch: 2, [batch: 1 / 6720], examples_per_second: 2.0162, train_label_loss: 0.5684, \n"
     ]
    },
    {
     "name": "stdout",
     "output_type": "stream",
     "text": [
      "epoch: 2, [batch: 672 / 6720], examples_per_second: 2603.4250, train_label_loss: 0.4576, \n"
     ]
    },
    {
     "name": "stdout",
     "output_type": "stream",
     "text": [
      "epoch: 2, [batch: 1344 / 6720], examples_per_second: 2620.1921, train_label_loss: 0.9588, \n"
     ]
    },
    {
     "name": "stdout",
     "output_type": "stream",
     "text": [
      "epoch: 2, [batch: 2016 / 6720], examples_per_second: 2793.3794, train_label_loss: 0.3411, \n"
     ]
    },
    {
     "name": "stdout",
     "output_type": "stream",
     "text": [
      "epoch: 2, [batch: 2688 / 6720], examples_per_second: 2856.7373, train_label_loss: 0.5462, \n"
     ]
    },
    {
     "name": "stdout",
     "output_type": "stream",
     "text": [
      "epoch: 2, [batch: 3360 / 6720], examples_per_second: 3004.9684, train_label_loss: 0.4429, \n"
     ]
    },
    {
     "name": "stdout",
     "output_type": "stream",
     "text": [
      "epoch: 2, [batch: 4032 / 6720], examples_per_second: 2585.8414, train_label_loss: 0.2872, \n"
     ]
    },
    {
     "name": "stdout",
     "output_type": "stream",
     "text": [
      "epoch: 2, [batch: 4704 / 6720], examples_per_second: 2560.9309, train_label_loss: 0.2286, \n"
     ]
    },
    {
     "name": "stdout",
     "output_type": "stream",
     "text": [
      "epoch: 2, [batch: 5376 / 6720], examples_per_second: 2526.7174, train_label_loss: 1.1701, \n"
     ]
    },
    {
     "name": "stdout",
     "output_type": "stream",
     "text": [
      "epoch: 2, [batch: 6048 / 6720], examples_per_second: 2613.2972, train_label_loss: 0.3868, \n"
     ]
    },
    {
     "name": "stdout",
     "output_type": "stream",
     "text": [
      "=============================================================\n",
      "epoch: 2, source_val_acc_label: 0.8493, target_val_acc_label: 0.8304, source_val_label_loss: 0.4254, target_val_label_loss: 0.4937, \n",
      "=============================================================\n"
     ]
    },
    {
     "name": "stdout",
     "output_type": "stream",
     "text": [
      "New best\n"
     ]
    },
    {
     "name": "stdout",
     "output_type": "stream",
     "text": [
      "epoch: 3, [batch: 1 / 6720], examples_per_second: 2.5625, train_label_loss: 0.4738, \n"
     ]
    },
    {
     "name": "stdout",
     "output_type": "stream",
     "text": [
      "epoch: 3, [batch: 672 / 6720], examples_per_second: 2605.1725, train_label_loss: 0.3983, \n"
     ]
    },
    {
     "name": "stdout",
     "output_type": "stream",
     "text": [
      "epoch: 3, [batch: 1344 / 6720], examples_per_second: 2766.0151, train_label_loss: 0.8034, \n"
     ]
    },
    {
     "name": "stdout",
     "output_type": "stream",
     "text": [
      "epoch: 3, [batch: 2016 / 6720], examples_per_second: 2976.7368, train_label_loss: 0.4650, \n"
     ]
    },
    {
     "name": "stdout",
     "output_type": "stream",
     "text": [
      "epoch: 3, [batch: 2688 / 6720], examples_per_second: 2988.2256, train_label_loss: 0.3078, \n"
     ]
    },
    {
     "name": "stdout",
     "output_type": "stream",
     "text": [
      "epoch: 3, [batch: 3360 / 6720], examples_per_second: 2840.0976, train_label_loss: 0.2166, \n"
     ]
    },
    {
     "name": "stdout",
     "output_type": "stream",
     "text": [
      "epoch: 3, [batch: 4032 / 6720], examples_per_second: 2696.7907, train_label_loss: 0.3495, \n"
     ]
    },
    {
     "name": "stdout",
     "output_type": "stream",
     "text": [
      "epoch: 3, [batch: 4704 / 6720], examples_per_second: 2687.6108, train_label_loss: 0.3001, \n"
     ]
    },
    {
     "name": "stdout",
     "output_type": "stream",
     "text": [
      "epoch: 3, [batch: 5376 / 6720], examples_per_second: 2646.3759, train_label_loss: 0.1892, \n"
     ]
    },
    {
     "name": "stdout",
     "output_type": "stream",
     "text": [
      "epoch: 3, [batch: 6048 / 6720], examples_per_second: 2601.7011, train_label_loss: 0.3673, \n"
     ]
    },
    {
     "name": "stdout",
     "output_type": "stream",
     "text": [
      "=============================================================\n",
      "epoch: 3, source_val_acc_label: 0.8674, target_val_acc_label: 0.8450, source_val_label_loss: 0.3769, target_val_label_loss: 0.4524, \n",
      "=============================================================\n"
     ]
    },
    {
     "name": "stdout",
     "output_type": "stream",
     "text": [
      "New best\n"
     ]
    },
    {
     "name": "stdout",
     "output_type": "stream",
     "text": [
      "epoch: 4, [batch: 1 / 6720], examples_per_second: 2.3590, train_label_loss: 0.1930, \n"
     ]
    },
    {
     "name": "stdout",
     "output_type": "stream",
     "text": [
      "epoch: 4, [batch: 672 / 6720], examples_per_second: 3005.5684, train_label_loss: 0.2273, \n"
     ]
    },
    {
     "name": "stdout",
     "output_type": "stream",
     "text": [
      "epoch: 4, [batch: 1344 / 6720], examples_per_second: 3273.4254, train_label_loss: 0.2419, \n"
     ]
    },
    {
     "name": "stdout",
     "output_type": "stream",
     "text": [
      "epoch: 4, [batch: 2016 / 6720], examples_per_second: 3474.2582, train_label_loss: 0.2500, \n"
     ]
    },
    {
     "name": "stdout",
     "output_type": "stream",
     "text": [
      "epoch: 4, [batch: 2688 / 6720], examples_per_second: 3515.8054, train_label_loss: 0.4245, \n"
     ]
    },
    {
     "name": "stdout",
     "output_type": "stream",
     "text": [
      "epoch: 4, [batch: 3360 / 6720], examples_per_second: 3016.2385, train_label_loss: 0.1335, \n"
     ]
    },
    {
     "name": "stdout",
     "output_type": "stream",
     "text": [
      "epoch: 4, [batch: 4032 / 6720], examples_per_second: 2988.2153, train_label_loss: 0.3494, \n"
     ]
    },
    {
     "name": "stdout",
     "output_type": "stream",
     "text": [
      "epoch: 4, [batch: 4704 / 6720], examples_per_second: 3077.9281, train_label_loss: 0.1787, \n"
     ]
    },
    {
     "name": "stdout",
     "output_type": "stream",
     "text": [
      "epoch: 4, [batch: 5376 / 6720], examples_per_second: 2973.1104, train_label_loss: 0.1018, \n"
     ]
    },
    {
     "name": "stdout",
     "output_type": "stream",
     "text": [
      "epoch: 4, [batch: 6048 / 6720], examples_per_second: 2926.6116, train_label_loss: 0.1698, \n"
     ]
    },
    {
     "name": "stdout",
     "output_type": "stream",
     "text": [
      "=============================================================\n",
      "epoch: 4, source_val_acc_label: 0.8845, target_val_acc_label: 0.8659, source_val_label_loss: 0.3258, target_val_label_loss: 0.4013, \n",
      "=============================================================\n"
     ]
    },
    {
     "name": "stdout",
     "output_type": "stream",
     "text": [
      "New best\n"
     ]
    },
    {
     "name": "stdout",
     "output_type": "stream",
     "text": [
      "epoch: 5, [batch: 1 / 6720], examples_per_second: 2.0037, train_label_loss: 0.3518, \n"
     ]
    },
    {
     "name": "stdout",
     "output_type": "stream",
     "text": [
      "epoch: 5, [batch: 672 / 6720], examples_per_second: 2476.8272, train_label_loss: 0.7208, \n"
     ]
    },
    {
     "name": "stdout",
     "output_type": "stream",
     "text": [
      "epoch: 5, [batch: 1344 / 6720], examples_per_second: 2612.7087, train_label_loss: 0.1906, \n"
     ]
    },
    {
     "name": "stdout",
     "output_type": "stream",
     "text": [
      "epoch: 5, [batch: 2016 / 6720], examples_per_second: 2611.3391, train_label_loss: 0.8887, \n"
     ]
    },
    {
     "name": "stdout",
     "output_type": "stream",
     "text": [
      "epoch: 5, [batch: 2688 / 6720], examples_per_second: 2593.7402, train_label_loss: 0.3010, \n"
     ]
    },
    {
     "name": "stdout",
     "output_type": "stream",
     "text": [
      "epoch: 5, [batch: 3360 / 6720], examples_per_second: 2609.5110, train_label_loss: 0.7310, \n"
     ]
    },
    {
     "name": "stdout",
     "output_type": "stream",
     "text": [
      "epoch: 5, [batch: 4032 / 6720], examples_per_second: 2657.9937, train_label_loss: 0.1436, \n"
     ]
    },
    {
     "name": "stdout",
     "output_type": "stream",
     "text": [
      "epoch: 5, [batch: 4704 / 6720], examples_per_second: 2794.7780, train_label_loss: 0.3889, \n"
     ]
    },
    {
     "name": "stdout",
     "output_type": "stream",
     "text": [
      "epoch: 5, [batch: 5376 / 6720], examples_per_second: 3030.3603, train_label_loss: 0.1011, \n"
     ]
    },
    {
     "name": "stdout",
     "output_type": "stream",
     "text": [
      "epoch: 5, [batch: 6048 / 6720], examples_per_second: 2966.2638, train_label_loss: 0.3592, \n"
     ]
    },
    {
     "name": "stdout",
     "output_type": "stream",
     "text": [
      "=============================================================\n",
      "epoch: 5, source_val_acc_label: 0.8915, target_val_acc_label: 0.8666, source_val_label_loss: 0.3027, target_val_label_loss: 0.3870, \n",
      "=============================================================\n"
     ]
    },
    {
     "name": "stdout",
     "output_type": "stream",
     "text": [
      "New best\n"
     ]
    },
    {
     "name": "stdout",
     "output_type": "stream",
     "text": [
      "epoch: 6, [batch: 1 / 6720], examples_per_second: 2.3712, train_label_loss: 0.1860, \n"
     ]
    },
    {
     "name": "stdout",
     "output_type": "stream",
     "text": [
      "epoch: 6, [batch: 672 / 6720], examples_per_second: 2987.2739, train_label_loss: 0.1805, \n"
     ]
    },
    {
     "name": "stdout",
     "output_type": "stream",
     "text": [
      "epoch: 6, [batch: 1344 / 6720], examples_per_second: 2995.5612, train_label_loss: 0.1768, \n"
     ]
    },
    {
     "name": "stdout",
     "output_type": "stream",
     "text": [
      "epoch: 6, [batch: 2016 / 6720], examples_per_second: 3011.2491, train_label_loss: 0.2603, \n"
     ]
    },
    {
     "name": "stdout",
     "output_type": "stream",
     "text": [
      "epoch: 6, [batch: 2688 / 6720], examples_per_second: 3044.7888, train_label_loss: 0.3587, \n"
     ]
    },
    {
     "name": "stdout",
     "output_type": "stream",
     "text": [
      "epoch: 6, [batch: 3360 / 6720], examples_per_second: 2968.2356, train_label_loss: 0.2738, \n"
     ]
    },
    {
     "name": "stdout",
     "output_type": "stream",
     "text": [
      "epoch: 6, [batch: 4032 / 6720], examples_per_second: 2965.4420, train_label_loss: 0.2198, \n"
     ]
    },
    {
     "name": "stdout",
     "output_type": "stream",
     "text": [
      "epoch: 6, [batch: 4704 / 6720], examples_per_second: 3105.6772, train_label_loss: 0.3552, \n"
     ]
    },
    {
     "name": "stdout",
     "output_type": "stream",
     "text": [
      "epoch: 6, [batch: 5376 / 6720], examples_per_second: 3350.3315, train_label_loss: 0.3626, \n"
     ]
    },
    {
     "name": "stdout",
     "output_type": "stream",
     "text": [
      "epoch: 6, [batch: 6048 / 6720], examples_per_second: 2866.4642, train_label_loss: 0.2974, \n"
     ]
    },
    {
     "name": "stdout",
     "output_type": "stream",
     "text": [
      "=============================================================\n",
      "epoch: 6, source_val_acc_label: 0.8903, target_val_acc_label: 0.8674, source_val_label_loss: 0.3076, target_val_label_loss: 0.3901, \n",
      "=============================================================\n"
     ]
    },
    {
     "name": "stdout",
     "output_type": "stream",
     "text": [
      "New best\n"
     ]
    },
    {
     "name": "stdout",
     "output_type": "stream",
     "text": [
      "epoch: 7, [batch: 1 / 6720], examples_per_second: 2.1112, train_label_loss: 0.1219, \n"
     ]
    },
    {
     "name": "stdout",
     "output_type": "stream",
     "text": [
      "epoch: 7, [batch: 672 / 6720], examples_per_second: 2598.9111, train_label_loss: 0.1111, \n"
     ]
    },
    {
     "name": "stdout",
     "output_type": "stream",
     "text": [
      "epoch: 7, [batch: 1344 / 6720], examples_per_second: 2542.6336, train_label_loss: 0.2785, \n"
     ]
    },
    {
     "name": "stdout",
     "output_type": "stream",
     "text": [
      "epoch: 7, [batch: 2016 / 6720], examples_per_second: 2621.7719, train_label_loss: 0.0685, \n"
     ]
    },
    {
     "name": "stdout",
     "output_type": "stream",
     "text": [
      "epoch: 7, [batch: 2688 / 6720], examples_per_second: 2585.7328, train_label_loss: 0.0099, \n"
     ]
    },
    {
     "name": "stdout",
     "output_type": "stream",
     "text": [
      "epoch: 7, [batch: 3360 / 6720], examples_per_second: 2650.5812, train_label_loss: 0.0437, \n"
     ]
    },
    {
     "name": "stdout",
     "output_type": "stream",
     "text": [
      "epoch: 7, [batch: 4032 / 6720], examples_per_second: 2962.9671, train_label_loss: 0.1594, \n"
     ]
    },
    {
     "name": "stdout",
     "output_type": "stream",
     "text": [
      "epoch: 7, [batch: 4704 / 6720], examples_per_second: 3547.8616, train_label_loss: 0.1386, \n"
     ]
    },
    {
     "name": "stdout",
     "output_type": "stream",
     "text": [
      "epoch: 7, [batch: 5376 / 6720], examples_per_second: 3607.8604, train_label_loss: 0.2428, \n"
     ]
    },
    {
     "name": "stdout",
     "output_type": "stream",
     "text": [
      "epoch: 7, [batch: 6048 / 6720], examples_per_second: 2652.3836, train_label_loss: 0.2599, \n"
     ]
    },
    {
     "name": "stdout",
     "output_type": "stream",
     "text": [
      "=============================================================\n",
      "epoch: 7, source_val_acc_label: 0.9010, target_val_acc_label: 0.8735, source_val_label_loss: 0.2776, target_val_label_loss: 0.3722, \n",
      "=============================================================\n"
     ]
    },
    {
     "name": "stdout",
     "output_type": "stream",
     "text": [
      "New best\n"
     ]
    },
    {
     "name": "stdout",
     "output_type": "stream",
     "text": [
      "epoch: 8, [batch: 1 / 6720], examples_per_second: 2.0305, train_label_loss: 0.0773, \n"
     ]
    },
    {
     "name": "stdout",
     "output_type": "stream",
     "text": [
      "epoch: 8, [batch: 672 / 6720], examples_per_second: 2312.3921, train_label_loss: 0.1418, \n"
     ]
    },
    {
     "name": "stdout",
     "output_type": "stream",
     "text": [
      "epoch: 8, [batch: 1344 / 6720], examples_per_second: 2313.6475, train_label_loss: 0.0312, \n"
     ]
    },
    {
     "name": "stdout",
     "output_type": "stream",
     "text": [
      "epoch: 8, [batch: 2016 / 6720], examples_per_second: 2327.8188, train_label_loss: 0.3933, \n"
     ]
    },
    {
     "name": "stdout",
     "output_type": "stream",
     "text": [
      "epoch: 8, [batch: 2688 / 6720], examples_per_second: 2308.0254, train_label_loss: 0.1149, \n"
     ]
    },
    {
     "name": "stdout",
     "output_type": "stream",
     "text": [
      "epoch: 8, [batch: 3360 / 6720], examples_per_second: 2527.0513, train_label_loss: 0.6438, \n"
     ]
    },
    {
     "name": "stdout",
     "output_type": "stream",
     "text": [
      "epoch: 8, [batch: 4032 / 6720], examples_per_second: 2565.5171, train_label_loss: 0.3477, \n"
     ]
    },
    {
     "name": "stdout",
     "output_type": "stream",
     "text": [
      "epoch: 8, [batch: 4704 / 6720], examples_per_second: 2766.9067, train_label_loss: 0.1281, \n"
     ]
    },
    {
     "name": "stdout",
     "output_type": "stream",
     "text": [
      "epoch: 8, [batch: 5376 / 6720], examples_per_second: 2573.9199, train_label_loss: 0.1045, \n"
     ]
    },
    {
     "name": "stdout",
     "output_type": "stream",
     "text": [
      "epoch: 8, [batch: 6048 / 6720], examples_per_second: 2567.7171, train_label_loss: 0.1433, \n"
     ]
    },
    {
     "name": "stdout",
     "output_type": "stream",
     "text": [
      "=============================================================\n",
      "epoch: 8, source_val_acc_label: 0.8984, target_val_acc_label: 0.8698, source_val_label_loss: 0.2830, target_val_label_loss: 0.3738, \n",
      "=============================================================\n"
     ]
    },
    {
     "name": "stdout",
     "output_type": "stream",
     "text": [
      "epoch: 9, [batch: 1 / 6720], examples_per_second: 2.0450, train_label_loss: 0.3682, \n"
     ]
    },
    {
     "name": "stdout",
     "output_type": "stream",
     "text": [
      "epoch: 9, [batch: 672 / 6720], examples_per_second: 2331.8230, train_label_loss: 0.3685, \n"
     ]
    },
    {
     "name": "stdout",
     "output_type": "stream",
     "text": [
      "epoch: 9, [batch: 1344 / 6720], examples_per_second: 2326.5092, train_label_loss: 0.2194, \n"
     ]
    },
    {
     "name": "stdout",
     "output_type": "stream",
     "text": [
      "epoch: 9, [batch: 2016 / 6720], examples_per_second: 2328.9505, train_label_loss: 0.2939, \n"
     ]
    },
    {
     "name": "stdout",
     "output_type": "stream",
     "text": [
      "epoch: 9, [batch: 2688 / 6720], examples_per_second: 2492.0587, train_label_loss: 0.2804, \n"
     ]
    },
    {
     "name": "stdout",
     "output_type": "stream",
     "text": [
      "epoch: 9, [batch: 3360 / 6720], examples_per_second: 2588.9393, train_label_loss: 0.4754, \n"
     ]
    },
    {
     "name": "stdout",
     "output_type": "stream",
     "text": [
      "epoch: 9, [batch: 4032 / 6720], examples_per_second: 2683.1435, train_label_loss: 0.2891, \n"
     ]
    },
    {
     "name": "stdout",
     "output_type": "stream",
     "text": [
      "epoch: 9, [batch: 4704 / 6720], examples_per_second: 2403.4614, train_label_loss: 0.1189, \n"
     ]
    },
    {
     "name": "stdout",
     "output_type": "stream",
     "text": [
      "epoch: 9, [batch: 5376 / 6720], examples_per_second: 2599.3636, train_label_loss: 0.1527, \n"
     ]
    },
    {
     "name": "stdout",
     "output_type": "stream",
     "text": [
      "epoch: 9, [batch: 6048 / 6720], examples_per_second: 2580.5513, train_label_loss: 0.2883, \n"
     ]
    },
    {
     "name": "stdout",
     "output_type": "stream",
     "text": [
      "=============================================================\n",
      "epoch: 9, source_val_acc_label: 0.9033, target_val_acc_label: 0.8733, source_val_label_loss: 0.2732, target_val_label_loss: 0.3759, \n",
      "=============================================================\n"
     ]
    },
    {
     "name": "stdout",
     "output_type": "stream",
     "text": [
      "epoch: 10, [batch: 1 / 6720], examples_per_second: 2.3074, train_label_loss: 0.2417, \n"
     ]
    },
    {
     "name": "stdout",
     "output_type": "stream",
     "text": [
      "epoch: 10, [batch: 672 / 6720], examples_per_second: 2600.6662, train_label_loss: 0.1054, \n"
     ]
    },
    {
     "name": "stdout",
     "output_type": "stream",
     "text": [
      "epoch: 10, [batch: 1344 / 6720], examples_per_second: 2610.3074, train_label_loss: 0.1010, \n"
     ]
    },
    {
     "name": "stdout",
     "output_type": "stream",
     "text": [
      "epoch: 10, [batch: 2016 / 6720], examples_per_second: 2736.3376, train_label_loss: 0.0642, \n"
     ]
    },
    {
     "name": "stdout",
     "output_type": "stream",
     "text": [
      "epoch: 10, [batch: 2688 / 6720], examples_per_second: 2984.2907, train_label_loss: 0.0178, \n"
     ]
    },
    {
     "name": "stdout",
     "output_type": "stream",
     "text": [
      "epoch: 10, [batch: 3360 / 6720], examples_per_second: 2924.7664, train_label_loss: 0.1003, \n"
     ]
    },
    {
     "name": "stdout",
     "output_type": "stream",
     "text": [
      "epoch: 10, [batch: 4032 / 6720], examples_per_second: 2783.8604, train_label_loss: 0.1852, \n"
     ]
    },
    {
     "name": "stdout",
     "output_type": "stream",
     "text": [
      "epoch: 10, [batch: 4704 / 6720], examples_per_second: 2991.0221, train_label_loss: 0.1791, \n"
     ]
    },
    {
     "name": "stdout",
     "output_type": "stream",
     "text": [
      "epoch: 10, [batch: 5376 / 6720], examples_per_second: 3005.9037, train_label_loss: 0.0700, \n"
     ]
    },
    {
     "name": "stdout",
     "output_type": "stream",
     "text": [
      "epoch: 10, [batch: 6048 / 6720], examples_per_second: 2998.8585, train_label_loss: 0.0469, \n"
     ]
    },
    {
     "name": "stdout",
     "output_type": "stream",
     "text": [
      "=============================================================\n",
      "epoch: 10, source_val_acc_label: 0.9007, target_val_acc_label: 0.8714, source_val_label_loss: 0.2778, target_val_label_loss: 0.3836, \n",
      "=============================================================\n"
     ]
    },
    {
     "name": "stdout",
     "output_type": "stream",
     "text": [
      "epoch: 11, [batch: 1 / 6720], examples_per_second: 2.7613, train_label_loss: 0.1164, \n"
     ]
    },
    {
     "name": "stdout",
     "output_type": "stream",
     "text": [
      "epoch: 11, [batch: 672 / 6720], examples_per_second: 2812.0968, train_label_loss: 0.3034, \n"
     ]
    },
    {
     "name": "stdout",
     "output_type": "stream",
     "text": [
      "epoch: 11, [batch: 1344 / 6720], examples_per_second: 2321.2557, train_label_loss: 0.1823, \n"
     ]
    },
    {
     "name": "stdout",
     "output_type": "stream",
     "text": [
      "epoch: 11, [batch: 2016 / 6720], examples_per_second: 2531.7653, train_label_loss: 0.4369, \n"
     ]
    },
    {
     "name": "stdout",
     "output_type": "stream",
     "text": [
      "epoch: 11, [batch: 2688 / 6720], examples_per_second: 2562.6341, train_label_loss: 0.1040, \n"
     ]
    },
    {
     "name": "stdout",
     "output_type": "stream",
     "text": [
      "epoch: 11, [batch: 3360 / 6720], examples_per_second: 2580.4906, train_label_loss: 0.3705, \n"
     ]
    },
    {
     "name": "stdout",
     "output_type": "stream",
     "text": [
      "epoch: 11, [batch: 4032 / 6720], examples_per_second: 2306.2552, train_label_loss: 0.2133, \n"
     ]
    },
    {
     "name": "stdout",
     "output_type": "stream",
     "text": [
      "epoch: 11, [batch: 4704 / 6720], examples_per_second: 2348.5057, train_label_loss: 0.1143, \n"
     ]
    },
    {
     "name": "stdout",
     "output_type": "stream",
     "text": [
      "epoch: 11, [batch: 5376 / 6720], examples_per_second: 2574.7175, train_label_loss: 0.0751, \n"
     ]
    },
    {
     "name": "stdout",
     "output_type": "stream",
     "text": [
      "epoch: 11, [batch: 6048 / 6720], examples_per_second: 2568.9543, train_label_loss: 0.5038, \n"
     ]
    },
    {
     "name": "stdout",
     "output_type": "stream",
     "text": [
      "=============================================================\n",
      "epoch: 11, source_val_acc_label: 0.9010, target_val_acc_label: 0.8744, source_val_label_loss: 0.2764, target_val_label_loss: 0.3752, \n",
      "=============================================================\n"
     ]
    },
    {
     "name": "stdout",
     "output_type": "stream",
     "text": [
      "New best\n"
     ]
    },
    {
     "name": "stdout",
     "output_type": "stream",
     "text": [
      "epoch: 12, [batch: 1 / 6720], examples_per_second: 2.3986, train_label_loss: 0.3234, \n"
     ]
    },
    {
     "name": "stdout",
     "output_type": "stream",
     "text": [
      "epoch: 12, [batch: 672 / 6720], examples_per_second: 3042.5944, train_label_loss: 0.0548, \n"
     ]
    },
    {
     "name": "stdout",
     "output_type": "stream",
     "text": [
      "epoch: 12, [batch: 1344 / 6720], examples_per_second: 3208.7867, train_label_loss: 0.2065, \n"
     ]
    },
    {
     "name": "stdout",
     "output_type": "stream",
     "text": [
      "epoch: 12, [batch: 2016 / 6720], examples_per_second: 3273.4456, train_label_loss: 0.0832, \n"
     ]
    },
    {
     "name": "stdout",
     "output_type": "stream",
     "text": [
      "epoch: 12, [batch: 2688 / 6720], examples_per_second: 2685.9853, train_label_loss: 0.1534, \n"
     ]
    },
    {
     "name": "stdout",
     "output_type": "stream",
     "text": [
      "epoch: 12, [batch: 3360 / 6720], examples_per_second: 2311.4918, train_label_loss: 0.1906, \n"
     ]
    },
    {
     "name": "stdout",
     "output_type": "stream",
     "text": [
      "epoch: 12, [batch: 4032 / 6720], examples_per_second: 2348.8931, train_label_loss: 0.1166, \n"
     ]
    },
    {
     "name": "stdout",
     "output_type": "stream",
     "text": [
      "epoch: 12, [batch: 4704 / 6720], examples_per_second: 2322.2203, train_label_loss: 0.2413, \n"
     ]
    },
    {
     "name": "stdout",
     "output_type": "stream",
     "text": [
      "epoch: 12, [batch: 5376 / 6720], examples_per_second: 2301.2278, train_label_loss: 0.2094, \n"
     ]
    },
    {
     "name": "stdout",
     "output_type": "stream",
     "text": [
      "epoch: 12, [batch: 6048 / 6720], examples_per_second: 2305.0435, train_label_loss: 0.0485, \n"
     ]
    },
    {
     "name": "stdout",
     "output_type": "stream",
     "text": [
      "=============================================================\n",
      "epoch: 12, source_val_acc_label: 0.9015, target_val_acc_label: 0.8707, source_val_label_loss: 0.2774, target_val_label_loss: 0.3892, \n",
      "=============================================================\n"
     ]
    },
    {
     "name": "stdout",
     "output_type": "stream",
     "text": [
      "epoch: 13, [batch: 1 / 6720], examples_per_second: 2.1271, train_label_loss: 0.0177, \n"
     ]
    },
    {
     "name": "stdout",
     "output_type": "stream",
     "text": [
      "epoch: 13, [batch: 672 / 6720], examples_per_second: 2856.3041, train_label_loss: 0.4266, \n"
     ]
    },
    {
     "name": "stdout",
     "output_type": "stream",
     "text": [
      "epoch: 13, [batch: 1344 / 6720], examples_per_second: 2644.1531, train_label_loss: 0.1613, \n"
     ]
    },
    {
     "name": "stdout",
     "output_type": "stream",
     "text": [
      "epoch: 13, [batch: 2016 / 6720], examples_per_second: 2621.1377, train_label_loss: 0.2911, \n"
     ]
    },
    {
     "name": "stdout",
     "output_type": "stream",
     "text": [
      "epoch: 13, [batch: 2688 / 6720], examples_per_second: 2482.9124, train_label_loss: 0.0766, \n"
     ]
    },
    {
     "name": "stdout",
     "output_type": "stream",
     "text": [
      "epoch: 13, [batch: 3360 / 6720], examples_per_second: 2303.4683, train_label_loss: 0.0490, \n"
     ]
    },
    {
     "name": "stdout",
     "output_type": "stream",
     "text": [
      "epoch: 13, [batch: 4032 / 6720], examples_per_second: 2313.4147, train_label_loss: 0.1981, \n"
     ]
    },
    {
     "name": "stdout",
     "output_type": "stream",
     "text": [
      "epoch: 13, [batch: 4704 / 6720], examples_per_second: 2351.6967, train_label_loss: 0.1968, \n"
     ]
    },
    {
     "name": "stdout",
     "output_type": "stream",
     "text": [
      "epoch: 13, [batch: 5376 / 6720], examples_per_second: 2304.8756, train_label_loss: 0.0435, \n"
     ]
    },
    {
     "name": "stdout",
     "output_type": "stream",
     "text": [
      "epoch: 13, [batch: 6048 / 6720], examples_per_second: 2310.7605, train_label_loss: 0.1365, \n"
     ]
    },
    {
     "name": "stdout",
     "output_type": "stream",
     "text": [
      "=============================================================\n",
      "epoch: 13, source_val_acc_label: 0.9066, target_val_acc_label: 0.8781, source_val_label_loss: 0.2679, target_val_label_loss: 0.3807, \n",
      "=============================================================\n"
     ]
    },
    {
     "name": "stdout",
     "output_type": "stream",
     "text": [
      "New best\n"
     ]
    },
    {
     "name": "stdout",
     "output_type": "stream",
     "text": [
      "epoch: 14, [batch: 1 / 6720], examples_per_second: 2.0893, train_label_loss: 0.1718, \n"
     ]
    },
    {
     "name": "stdout",
     "output_type": "stream",
     "text": [
      "epoch: 14, [batch: 672 / 6720], examples_per_second: 3030.6940, train_label_loss: 0.1687, \n"
     ]
    },
    {
     "name": "stdout",
     "output_type": "stream",
     "text": [
      "epoch: 14, [batch: 1344 / 6720], examples_per_second: 2752.0403, train_label_loss: 0.3102, \n"
     ]
    },
    {
     "name": "stdout",
     "output_type": "stream",
     "text": [
      "epoch: 14, [batch: 2016 / 6720], examples_per_second: 2558.8445, train_label_loss: 0.0467, \n"
     ]
    },
    {
     "name": "stdout",
     "output_type": "stream",
     "text": [
      "epoch: 14, [batch: 2688 / 6720], examples_per_second: 2292.5033, train_label_loss: 0.0823, \n"
     ]
    },
    {
     "name": "stdout",
     "output_type": "stream",
     "text": [
      "epoch: 14, [batch: 3360 / 6720], examples_per_second: 2336.4713, train_label_loss: 0.0944, \n"
     ]
    },
    {
     "name": "stdout",
     "output_type": "stream",
     "text": [
      "epoch: 14, [batch: 4032 / 6720], examples_per_second: 2319.3046, train_label_loss: 0.1949, \n"
     ]
    },
    {
     "name": "stdout",
     "output_type": "stream",
     "text": [
      "epoch: 14, [batch: 4704 / 6720], examples_per_second: 2323.3924, train_label_loss: 0.1002, \n"
     ]
    },
    {
     "name": "stdout",
     "output_type": "stream",
     "text": [
      "epoch: 14, [batch: 5376 / 6720], examples_per_second: 2299.1058, train_label_loss: 0.1393, \n"
     ]
    },
    {
     "name": "stdout",
     "output_type": "stream",
     "text": [
      "epoch: 14, [batch: 6048 / 6720], examples_per_second: 2327.7518, train_label_loss: 0.0795, \n"
     ]
    },
    {
     "name": "stdout",
     "output_type": "stream",
     "text": [
      "=============================================================\n",
      "epoch: 14, source_val_acc_label: 0.9078, target_val_acc_label: 0.8781, source_val_label_loss: 0.2658, target_val_label_loss: 0.3828, \n",
      "=============================================================\n"
     ]
    },
    {
     "name": "stdout",
     "output_type": "stream",
     "text": [
      "epoch: 15, [batch: 1 / 6720], examples_per_second: 2.1292, train_label_loss: 0.2681, \n"
     ]
    },
    {
     "name": "stdout",
     "output_type": "stream",
     "text": [
      "epoch: 15, [batch: 672 / 6720], examples_per_second: 2927.5429, train_label_loss: 0.1474, \n"
     ]
    },
    {
     "name": "stdout",
     "output_type": "stream",
     "text": [
      "epoch: 15, [batch: 1344 / 6720], examples_per_second: 2855.4027, train_label_loss: 0.0634, \n"
     ]
    },
    {
     "name": "stdout",
     "output_type": "stream",
     "text": [
      "epoch: 15, [batch: 2016 / 6720], examples_per_second: 2620.0639, train_label_loss: 0.1987, \n"
     ]
    },
    {
     "name": "stdout",
     "output_type": "stream",
     "text": [
      "epoch: 15, [batch: 2688 / 6720], examples_per_second: 2590.3105, train_label_loss: 0.0796, \n"
     ]
    },
    {
     "name": "stdout",
     "output_type": "stream",
     "text": [
      "epoch: 15, [batch: 3360 / 6720], examples_per_second: 2611.6661, train_label_loss: 0.1052, \n"
     ]
    },
    {
     "name": "stdout",
     "output_type": "stream",
     "text": [
      "epoch: 15, [batch: 4032 / 6720], examples_per_second: 2602.8396, train_label_loss: 0.0656, \n"
     ]
    },
    {
     "name": "stdout",
     "output_type": "stream",
     "text": [
      "epoch: 15, [batch: 4704 / 6720], examples_per_second: 2599.9247, train_label_loss: 0.0920, \n"
     ]
    },
    {
     "name": "stdout",
     "output_type": "stream",
     "text": [
      "epoch: 15, [batch: 5376 / 6720], examples_per_second: 2578.8807, train_label_loss: 0.0314, \n"
     ]
    },
    {
     "name": "stdout",
     "output_type": "stream",
     "text": [
      "epoch: 15, [batch: 6048 / 6720], examples_per_second: 2564.5736, train_label_loss: 0.1536, \n"
     ]
    },
    {
     "name": "stdout",
     "output_type": "stream",
     "text": [
      "=============================================================\n",
      "epoch: 15, source_val_acc_label: 0.9070, target_val_acc_label: 0.8711, source_val_label_loss: 0.2761, target_val_label_loss: 0.4040, \n",
      "=============================================================\n"
     ]
    },
    {
     "name": "stdout",
     "output_type": "stream",
     "text": [
      "epoch: 16, [batch: 1 / 6720], examples_per_second: 2.5692, train_label_loss: 0.0372, \n"
     ]
    },
    {
     "name": "stdout",
     "output_type": "stream",
     "text": [
      "epoch: 16, [batch: 672 / 6720], examples_per_second: 3407.4550, train_label_loss: 0.0756, \n"
     ]
    },
    {
     "name": "stdout",
     "output_type": "stream",
     "text": [
      "epoch: 16, [batch: 1344 / 6720], examples_per_second: 3375.0117, train_label_loss: 0.2666, \n"
     ]
    },
    {
     "name": "stdout",
     "output_type": "stream",
     "text": [
      "epoch: 16, [batch: 2016 / 6720], examples_per_second: 3360.5979, train_label_loss: 0.0809, \n"
     ]
    },
    {
     "name": "stdout",
     "output_type": "stream",
     "text": [
      "epoch: 16, [batch: 2688 / 6720], examples_per_second: 3268.0379, train_label_loss: 0.2843, \n"
     ]
    },
    {
     "name": "stdout",
     "output_type": "stream",
     "text": [
      "epoch: 16, [batch: 3360 / 6720], examples_per_second: 3371.9803, train_label_loss: 0.1132, \n"
     ]
    },
    {
     "name": "stdout",
     "output_type": "stream",
     "text": [
      "epoch: 16, [batch: 4032 / 6720], examples_per_second: 3023.2884, train_label_loss: 0.0707, \n"
     ]
    },
    {
     "name": "stdout",
     "output_type": "stream",
     "text": [
      "epoch: 16, [batch: 4704 / 6720], examples_per_second: 2591.5202, train_label_loss: 0.0927, \n"
     ]
    },
    {
     "name": "stdout",
     "output_type": "stream",
     "text": [
      "epoch: 16, [batch: 5376 / 6720], examples_per_second: 2665.9189, train_label_loss: 0.0533, \n"
     ]
    },
    {
     "name": "stdout",
     "output_type": "stream",
     "text": [
      "epoch: 16, [batch: 6048 / 6720], examples_per_second: 2740.0848, train_label_loss: 0.0075, \n"
     ]
    },
    {
     "name": "stdout",
     "output_type": "stream",
     "text": [
      "=============================================================\n",
      "epoch: 16, source_val_acc_label: 0.9089, target_val_acc_label: 0.8748, source_val_label_loss: 0.2706, target_val_label_loss: 0.4059, \n",
      "=============================================================\n"
     ]
    },
    {
     "name": "stdout",
     "output_type": "stream",
     "text": [
      "epoch: 17, [batch: 1 / 6720], examples_per_second: 2.2213, train_label_loss: 0.0938, \n"
     ]
    },
    {
     "name": "stdout",
     "output_type": "stream",
     "text": [
      "epoch: 17, [batch: 672 / 6720], examples_per_second: 2578.1695, train_label_loss: 0.0051, \n"
     ]
    },
    {
     "name": "stdout",
     "output_type": "stream",
     "text": [
      "epoch: 17, [batch: 1344 / 6720], examples_per_second: 2543.4779, train_label_loss: 0.1472, \n"
     ]
    },
    {
     "name": "stdout",
     "output_type": "stream",
     "text": [
      "epoch: 17, [batch: 2016 / 6720], examples_per_second: 2505.1199, train_label_loss: 0.0210, \n"
     ]
    },
    {
     "name": "stdout",
     "output_type": "stream",
     "text": [
      "epoch: 17, [batch: 2688 / 6720], examples_per_second: 2627.4714, train_label_loss: 0.0889, \n"
     ]
    },
    {
     "name": "stdout",
     "output_type": "stream",
     "text": [
      "epoch: 17, [batch: 3360 / 6720], examples_per_second: 2711.1781, train_label_loss: 0.1630, \n"
     ]
    },
    {
     "name": "stdout",
     "output_type": "stream",
     "text": [
      "epoch: 17, [batch: 4032 / 6720], examples_per_second: 2307.8430, train_label_loss: 0.1975, \n"
     ]
    },
    {
     "name": "stdout",
     "output_type": "stream",
     "text": [
      "epoch: 17, [batch: 4704 / 6720], examples_per_second: 2304.2737, train_label_loss: 0.0420, \n"
     ]
    },
    {
     "name": "stdout",
     "output_type": "stream",
     "text": [
      "epoch: 17, [batch: 5376 / 6720], examples_per_second: 2296.2514, train_label_loss: 0.2407, \n"
     ]
    },
    {
     "name": "stdout",
     "output_type": "stream",
     "text": [
      "epoch: 17, [batch: 6048 / 6720], examples_per_second: 2332.4000, train_label_loss: 0.0289, \n"
     ]
    },
    {
     "name": "stdout",
     "output_type": "stream",
     "text": [
      "=============================================================\n",
      "epoch: 17, source_val_acc_label: 0.9126, target_val_acc_label: 0.8760, source_val_label_loss: 0.2621, target_val_label_loss: 0.4048, \n",
      "=============================================================\n"
     ]
    },
    {
     "name": "stdout",
     "output_type": "stream",
     "text": [
      "Patience (3) exhausted\n"
     ]
    }
   ],
   "source": [
    "###################################\n",
    "# train\n",
    "###################################\n",
    "jig = PTN_Train_Eval_Test_Jig(model, p.BEST_MODEL_PATH, p.device)\n",
    "\n",
    "jig.train(\n",
    "    train_iterable=datasets.source.processed.train,\n",
    "    source_val_iterable=datasets.source.processed.val,\n",
    "    target_val_iterable=datasets.target.processed.val,\n",
    "    num_epochs=p.n_epoch,\n",
    "    num_logs_per_epoch=p.NUM_LOGS_PER_EPOCH,\n",
    "    patience=p.patience,\n",
    "    optimizer=optimizer,\n",
    "    criteria_for_best=p.criteria_for_best,\n",
    ")"
   ]
  },
  {
   "cell_type": "code",
   "execution_count": 23,
   "id": "31e8fabf",
   "metadata": {
    "execution": {
     "iopub.execute_input": "2022-03-21T18:15:35.371604Z",
     "iopub.status.busy": "2022-03-21T18:15:35.370980Z",
     "iopub.status.idle": "2022-03-21T18:15:35.403119Z",
     "shell.execute_reply": "2022-03-21T18:15:35.403898Z"
    },
    "papermill": {
     "duration": 0.108655,
     "end_time": "2022-03-21T18:15:35.404091",
     "exception": false,
     "start_time": "2022-03-21T18:15:35.295436",
     "status": "completed"
    },
    "tags": []
   },
   "outputs": [],
   "source": [
    "total_experiment_time_secs = time.time() - start_time_secs"
   ]
  },
  {
   "cell_type": "code",
   "execution_count": 24,
   "id": "87b9595b",
   "metadata": {
    "execution": {
     "iopub.execute_input": "2022-03-21T18:15:35.565338Z",
     "iopub.status.busy": "2022-03-21T18:15:35.562554Z",
     "iopub.status.idle": "2022-03-21T18:19:47.963450Z",
     "shell.execute_reply": "2022-03-21T18:19:47.964173Z"
    },
    "papermill": {
     "duration": 252.479936,
     "end_time": "2022-03-21T18:19:47.964404",
     "exception": false,
     "start_time": "2022-03-21T18:15:35.484468",
     "status": "completed"
    },
    "tags": []
   },
   "outputs": [],
   "source": [
    "###################################\n",
    "# Evaluate the model\n",
    "###################################\n",
    "source_test_label_accuracy, source_test_label_loss = jig.test(datasets.source.processed.test)\n",
    "target_test_label_accuracy, target_test_label_loss = jig.test(datasets.target.processed.test)\n",
    "\n",
    "source_val_label_accuracy, source_val_label_loss = jig.test(datasets.source.processed.val)\n",
    "target_val_label_accuracy, target_val_label_loss = jig.test(datasets.target.processed.val)\n",
    "\n",
    "history = jig.get_history()\n",
    "\n",
    "total_epochs_trained = len(history[\"epoch_indices\"])\n",
    "\n",
    "val_dl = Iterable_Aggregator((datasets.source.original.val,datasets.target.original.val))\n",
    "\n",
    "confusion = ptn_confusion_by_domain_over_dataloader(model, p.device, val_dl)\n",
    "per_domain_accuracy = per_domain_accuracy_from_confusion(confusion)\n",
    "\n",
    "# Add a key to per_domain_accuracy for if it was a source domain\n",
    "for domain, accuracy in per_domain_accuracy.items():\n",
    "    per_domain_accuracy[domain] = {\n",
    "        \"accuracy\": accuracy,\n",
    "        \"source?\": domain in p.domains_source\n",
    "    }\n",
    "\n",
    "# Do an independent accuracy assesment JUST TO BE SURE!\n",
    "# _source_test_label_accuracy = independent_accuracy_assesment(model, datasets.source.processed.test, p.device)\n",
    "# _target_test_label_accuracy = independent_accuracy_assesment(model, datasets.target.processed.test, p.device)\n",
    "# _source_val_label_accuracy = independent_accuracy_assesment(model, datasets.source.processed.val, p.device)\n",
    "# _target_val_label_accuracy = independent_accuracy_assesment(model, datasets.target.processed.val, p.device)\n",
    "\n",
    "# assert(_source_test_label_accuracy == source_test_label_accuracy)\n",
    "# assert(_target_test_label_accuracy == target_test_label_accuracy)\n",
    "# assert(_source_val_label_accuracy == source_val_label_accuracy)\n",
    "# assert(_target_val_label_accuracy == target_val_label_accuracy)\n",
    "\n",
    "experiment = {\n",
    "    \"experiment_name\": p.experiment_name,\n",
    "    \"parameters\": dict(p),\n",
    "    \"results\": {\n",
    "        \"source_test_label_accuracy\": source_test_label_accuracy,\n",
    "        \"source_test_label_loss\": source_test_label_loss,\n",
    "        \"target_test_label_accuracy\": target_test_label_accuracy,\n",
    "        \"target_test_label_loss\": target_test_label_loss,\n",
    "        \"source_val_label_accuracy\": source_val_label_accuracy,\n",
    "        \"source_val_label_loss\": source_val_label_loss,\n",
    "        \"target_val_label_accuracy\": target_val_label_accuracy,\n",
    "        \"target_val_label_loss\": target_val_label_loss,\n",
    "        \"total_epochs_trained\": total_epochs_trained,\n",
    "        \"total_experiment_time_secs\": total_experiment_time_secs,\n",
    "        \"confusion\": confusion,\n",
    "        \"per_domain_accuracy\": per_domain_accuracy,\n",
    "    },\n",
    "    \"history\": history,\n",
    "    \"dataset_metrics\": get_dataset_metrics(datasets, \"ptn\"),\n",
    "}"
   ]
  },
  {
   "cell_type": "code",
   "execution_count": 25,
   "id": "54a21829",
   "metadata": {
    "execution": {
     "iopub.execute_input": "2022-03-21T18:19:48.120631Z",
     "iopub.status.busy": "2022-03-21T18:19:48.120257Z",
     "iopub.status.idle": "2022-03-21T18:19:48.354172Z",
     "shell.execute_reply": "2022-03-21T18:19:48.354849Z"
    },
    "papermill": {
     "duration": 0.310328,
     "end_time": "2022-03-21T18:19:48.355075",
     "exception": false,
     "start_time": "2022-03-21T18:19:48.044747",
     "status": "completed"
    },
    "tags": []
   },
   "outputs": [
    {
     "data": {
      "image/png": "[encoded data removed]",
      "text/plain": [
       "<Figure size 1080x504 with 1 Axes>"
      ]
     },
     "metadata": {
      "needs_background": "light"
     },
     "output_type": "display_data"
    }
   ],
   "source": [
    "ax = get_loss_curve(experiment)\n",
    "plt.show()"
   ]
  },
  {
   "cell_type": "code",
   "execution_count": 26,
   "id": "fd8a0f60",
   "metadata": {
    "execution": {
     "iopub.execute_input": "2022-03-21T18:19:48.511942Z",
     "iopub.status.busy": "2022-03-21T18:19:48.511571Z",
     "iopub.status.idle": "2022-03-21T18:19:48.875755Z",
     "shell.execute_reply": "2022-03-21T18:19:48.876420Z"
    },
    "papermill": {
     "duration": 0.443042,
     "end_time": "2022-03-21T18:19:48.876625",
     "exception": false,
     "start_time": "2022-03-21T18:19:48.433583",
     "status": "completed"
    },
    "tags": []
   },
   "outputs": [
    {
     "data": {
      "text/plain": [
       "<AxesSubplot:title={'center':'Results'}>"
      ]
     },
     "execution_count": 26,
     "metadata": {},
     "output_type": "execute_result"
    },
    {
     "data": {
      "image/png": "[encoded data removed]",
      "text/plain": [
       "<Figure size 1080x504 with 1 Axes>"
      ]
     },
     "metadata": {
      "needs_background": "light"
     },
     "output_type": "display_data"
    }
   ],
   "source": [
    "get_results_table(experiment)"
   ]
  },
  {
   "cell_type": "code",
   "execution_count": 27,
   "id": "cf8dc689",
   "metadata": {
    "execution": {
     "iopub.execute_input": "2022-03-21T18:19:49.038003Z",
     "iopub.status.busy": "2022-03-21T18:19:49.037638Z",
     "iopub.status.idle": "2022-03-21T18:19:49.321978Z",
     "shell.execute_reply": "2022-03-21T18:19:49.322643Z"
    },
    "papermill": {
     "duration": 0.36377,
     "end_time": "2022-03-21T18:19:49.322827",
     "exception": false,
     "start_time": "2022-03-21T18:19:48.959057",
     "status": "completed"
    },
    "tags": []
   },
   "outputs": [
    {
     "data": {
      "text/plain": [
       "<AxesSubplot:title={'center':'Per Domain Validation Accuracy'}, xlabel='domain'>"
      ]
     },
     "execution_count": 27,
     "metadata": {},
     "output_type": "execute_result"
    },
    {
     "data": {
      "image/png": "[encoded data removed]",
      "text/plain": [
       "<Figure size 1080x504 with 1 Axes>"
      ]
     },
     "metadata": {
      "needs_background": "light"
     },
     "output_type": "display_data"
    }
   ],
   "source": [
    "get_domain_accuracies(experiment)"
   ]
  },
  {
   "cell_type": "code",
   "execution_count": 28,
   "id": "a74ae082",
   "metadata": {
    "execution": {
     "iopub.execute_input": "2022-03-21T18:19:49.488936Z",
     "iopub.status.busy": "2022-03-21T18:19:49.488461Z",
     "iopub.status.idle": "2022-03-21T18:19:49.518017Z",
     "shell.execute_reply": "2022-03-21T18:19:49.517295Z"
    },
    "papermill": {
     "duration": 0.113496,
     "end_time": "2022-03-21T18:19:49.518190",
     "exception": false,
     "start_time": "2022-03-21T18:19:49.404694",
     "status": "completed"
    },
    "tags": []
   },
   "outputs": [
    {
     "name": "stdout",
     "output_type": "stream",
     "text": [
      "Source Test Label Accuracy: 0.9081705729166667 Target Test Label Accuracy: 0.8802408854166667\n",
      "Source Val Label Accuracy: 0.9065755208333334 Target Val Label Accuracy: 0.8780598958333333\n"
     ]
    }
   ],
   "source": [
    "print(\"Source Test Label Accuracy:\", experiment[\"results\"][\"source_test_label_accuracy\"], \"Target Test Label Accuracy:\", experiment[\"results\"][\"target_test_label_accuracy\"])\n",
    "print(\"Source Val Label Accuracy:\", experiment[\"results\"][\"source_val_label_accuracy\"], \"Target Val Label Accuracy:\", experiment[\"results\"][\"target_val_label_accuracy\"])"
   ]
  },
  {
   "cell_type": "code",
   "execution_count": 29,
   "id": "dacca602",
   "metadata": {
    "execution": {
     "iopub.execute_input": "2022-03-21T18:19:49.684128Z",
     "iopub.status.busy": "2022-03-21T18:19:49.683553Z",
     "iopub.status.idle": "2022-03-21T18:19:49.709562Z",
     "shell.execute_reply": "2022-03-21T18:19:49.710225Z"
    },
    "papermill": {
     "duration": 0.107307,
     "end_time": "2022-03-21T18:19:49.710422",
     "exception": false,
     "start_time": "2022-03-21T18:19:49.603115",
     "status": "completed"
    },
    "tags": [
     "experiment_json"
    ]
   },
   "outputs": [
    {
     "data": {
      "text/plain": [
       "'{\"experiment_name\": \"tl_1v2:oracle.run1.framed-oracle.run2.framed\", \"parameters\": {\"experiment_name\": \"tl_1v2:oracle.run1.framed-oracle.run2.framed\", \"device\": \"cuda\", \"lr\": 0.0001, \"n_shot\": 3, \"n_query\": 2, \"train_k_factor\": 3, \"val_k_factor\": 2, \"test_k_factor\": 2, \"torch_default_dtype\": \"torch.float32\", \"n_epoch\": 50, \"patience\": 3, \"criteria_for_best\": \"target_accuracy\", \"x_net\": [{\"class\": \"nnReshape\", \"kargs\": {\"shape\": [-1, 1, 2, 256]}}, {\"class\": \"Conv2d\", \"kargs\": {\"in_channels\": 1, \"out_channels\": 256, \"kernel_size\": [1, 7], \"bias\": false, \"padding\": [0, 3]}}, {\"class\": \"ReLU\", \"kargs\": {\"inplace\": true}}, {\"class\": \"BatchNorm2d\", \"kargs\": {\"num_features\": 256}}, {\"class\": \"Conv2d\", \"kargs\": {\"in_channels\": 256, \"out_channels\": 80, \"kernel_size\": [2, 7], \"bias\": true, \"padding\": [0, 3]}}, {\"class\": \"ReLU\", \"kargs\": {\"inplace\": true}}, {\"class\": \"BatchNorm2d\", \"kargs\": {\"num_features\": 80}}, {\"class\": \"Flatten\", \"kargs\": {}}, {\"class\": \"Linear\", \"kargs\": {\"in_features\": 20480, \"out_features\": 256}}, {\"class\": \"ReLU\", \"kargs\": {\"inplace\": true}}, {\"class\": \"BatchNorm1d\", \"kargs\": {\"num_features\": 256}}, {\"class\": \"Linear\", \"kargs\": {\"in_features\": 256, \"out_features\": 256}}], \"NUM_LOGS_PER_EPOCH\": 10, \"BEST_MODEL_PATH\": \"./best_model.pth\", \"n_way\": 16, \"datasets\": [{\"labels\": [\"3123D52\", \"3123D65\", \"3123D79\", \"3123D80\", \"3123D54\", \"3123D70\", \"3123D7B\", \"3123D89\", \"3123D58\", \"3123D76\", \"3123D7D\", \"3123EFE\", \"3123D64\", \"3123D78\", \"3123D7E\", \"3124E4A\"], \"domains\": [32, 38, 8, 44, 14, 50, 20, 26], \"num_examples_per_domain_per_label\": 2000, \"pickle_path\": \"/root/csc500-main/datasets/oracle.Run1_framed_2000Examples_stratified_ds.2022A.pkl\", \"source_or_target_dataset\": \"source\", \"x_transforms\": [\"unit_mag\"], \"episode_transforms\": [], \"domain_prefix\": \"ORACLE.run1_\"}, {\"labels\": [\"3123D52\", \"3123D65\", \"3123D79\", \"3123D80\", \"3123D54\", \"3123D70\", \"3123D7B\", \"3123D89\", \"3123D58\", \"3123D76\", \"3123D7D\", \"3123EFE\", \"3123D64\", \"3123D78\", \"3123D7E\", \"3124E4A\"], \"domains\": [32, 38, 8, 44, 14, 50, 20, 26], \"num_examples_per_domain_per_label\": 2000, \"pickle_path\": \"/root/csc500-main/datasets/oracle.Run2_framed_2000Examples_stratified_ds.2022A.pkl\", \"source_or_target_dataset\": \"target\", \"x_transforms\": [\"unit_mag\"], \"episode_transforms\": [], \"domain_prefix\": \"ORACLE.run2_\"}], \"dataset_seed\": 154325, \"seed\": 154325, \"x_shape\": [2, 256], \"domains_source\": [\"ORACLE.run1_32\", \"ORACLE.run1_38\", \"ORACLE.run1_8\", \"ORACLE.run1_44\", \"ORACLE.run1_14\", \"ORACLE.run1_50\", \"ORACLE.run1_20\", \"ORACLE.run1_26\"], \"domains_target\": [\"ORACLE.run2_32\", \"ORACLE.run2_38\", \"ORACLE.run2_8\", \"ORACLE.run2_44\", \"ORACLE.run2_14\", \"ORACLE.run2_50\", \"ORACLE.run2_20\", \"ORACLE.run2_26\"]}, \"results\": {\"source_test_label_accuracy\": 0.9081705729166667, \"source_test_label_loss\": 0.27103567123413086, \"target_test_label_accuracy\": 0.8802408854166667, \"target_test_label_loss\": 0.39330586791038513, \"source_val_label_accuracy\": 0.9065755208333334, \"source_val_label_loss\": 0.2679068148136139, \"target_val_label_accuracy\": 0.8780598958333333, \"target_val_label_loss\": 0.3807259500026703, \"total_epochs_trained\": 17, \"total_experiment_time_secs\": 4375.48313999176, \"confusion\": {\"ORACLE.run1_8\": {\"13\": {\"4\": 25, \"13\": 157, \"10\": 31, \"6\": 9, \"0\": 17, \"14\": 1}, \"9\": {\"9\": 240}, \"15\": {\"15\": 226, \"12\": 14}, \"2\": {\"2\": 234, \"7\": 3, \"3\": 3}, \"3\": {\"3\": 239, \"2\": 1}, \"8\": {\"8\": 239, \"15\": 1}, \"5\": {\"5\": 235, \"10\": 2, \"1\": 3}, \"14\": {\"4\": 16, \"14\": 209, \"10\": 12, \"13\": 1, \"1\": 2}, \"1\": {\"1\": 239, \"11\": 1}, \"0\": {\"0\": 227, \"13\": 10, \"7\": 2, \"10\": 1}, \"10\": {\"10\": 232, \"13\": 7, \"5\": 1}, \"6\": {\"6\": 212, \"7\": 15, \"4\": 5, \"13\": 8}, \"11\": {\"11\": 234, \"1\": 6}, \"7\": {\"6\": 20, \"7\": 219, \"0\": 1}, \"4\": {\"4\": 211, \"13\": 18, \"14\": 7, \"6\": 3, \"10\": 1}, \"12\": {\"12\": 209, \"15\": 29, \"8\": 1, \"3\": 1}}, \"ORACLE.run1_38\": {\"13\": {\"13\": 232, \"2\": 2, \"10\": 4, \"15\": 1, \"8\": 1}, \"12\": {\"12\": 240}, \"2\": {\"2\": 231, \"13\": 6, \"14\": 3}, \"9\": {\"9\": 237, \"6\": 2, \"5\": 1}, \"15\": {\"15\": 216, \"1\": 12, \"8\": 6, \"5\": 4, \"13\": 2}, \"5\": {\"5\": 174, \"8\": 46, \"7\": 13, \"0\": 1, \"6\": 3, \"9\": 3}, \"14\": {\"14\": 237, \"2\": 3}, \"0\": {\"0\": 216, \"3\": 6, \"8\": 10, \"7\": 6, \"5\": 2}, \"3\": {\"3\": 239, \"0\": 1}, \"1\": {\"1\": 237, \"15\": 3}, \"11\": {\"11\": 238, \"10\": 2}, \"7\": {\"7\": 219, \"0\": 4, \"8\": 11, \"5\": 6}, \"8\": {\"8\": 189, \"5\": 34, \"15\": 1, \"0\": 10, \"7\": 6}, \"4\": {\"4\": 240}, \"10\": {\"10\": 232, \"13\": 7, \"8\": 1}, \"6\": {\"6\": 240}}, \"ORACLE.run1_26\": {\"10\": {\"0\": 53, \"10\": 138, \"14\": 21, \"8\": 24, \"15\": 1, \"6\": 1, \"4\": 2}, \"12\": {\"12\": 240}, \"1\": {\"1\": 230, \"4\": 1, \"14\": 8, \"10\": 1}, \"0\": {\"0\": 109, \"14\": 51, \"8\": 18, \"10\": 52, \"4\": 10}, \"15\": {\"15\": 215, \"9\": 9, \"8\": 5, \"10\": 5, \"6\": 2, \"7\": 4}, \"13\": {\"13\": 225, \"15\": 1, \"9\": 2, \"5\": 8, \"2\": 3, \"3\": 1}, \"8\": {\"8\": 147, \"0\": 25, \"14\": 10, \"4\": 11, \"10\": 25, \"7\": 18, \"15\": 3, \"2\": 1}, \"3\": {\"2\": 27, \"3\": 203, \"7\": 9, \"5\": 1}, \"11\": {\"11\": 240}, \"4\": {\"4\": 198, \"0\": 6, \"8\": 14, \"10\": 5, \"7\": 6, \"14\": 11}, \"6\": {\"6\": 226, \"8\": 2, \"15\": 7, \"10\": 4, \"9\": 1}, \"7\": {\"7\": 219, \"2\": 8, \"3\": 2, \"8\": 6, \"4\": 4, \"0\": 1}, \"14\": {\"0\": 30, \"14\": 176, \"10\": 12, \"1\": 8, \"4\": 8, \"8\": 6}, \"2\": {\"2\": 140, \"3\": 52, \"5\": 15, \"8\": 5, \"7\": 22, \"13\": 4, \"9\": 2}, \"5\": {\"5\": 218, \"13\": 11, \"2\": 11}, \"9\": {\"9\": 210, \"15\": 17, \"13\": 10, \"5\": 1, \"6\": 2}}, \"ORACLE.run1_20\": {\"5\": {\"5\": 228, \"0\": 7, \"1\": 2, \"15\": 3}, \"15\": {\"15\": 233, \"0\": 4, \"1\": 3}, \"9\": {\"9\": 209, \"2\": 17, \"3\": 10, \"12\": 4}, \"7\": {\"7\": 232, \"2\": 7, \"8\": 1}, \"3\": {\"3\": 193, \"12\": 33, \"9\": 7, \"4\": 2, \"2\": 5}, \"8\": {\"8\": 235, \"14\": 1, \"4\": 3, \"7\": 1}, \"4\": {\"4\": 239, \"8\": 1}, \"6\": {\"6\": 239, \"14\": 1}, \"2\": {\"2\": 206, \"9\": 22, \"12\": 3, \"3\": 1, \"7\": 5, \"13\": 3}, \"12\": {\"12\": 182, \"3\": 29, \"1\": 24, \"2\": 4, \"9\": 1}, \"0\": {\"0\": 223, \"5\": 11, \"15\": 6}, \"13\": {\"13\": 237, \"15\": 1, \"2\": 2}, \"10\": {\"10\": 240}, \"11\": {\"11\": 240}, \"14\": {\"14\": 236, \"6\": 4}, \"1\": {\"1\": 215, \"12\": 21, \"15\": 4}}, \"ORACLE.run1_50\": {\"1\": {\"1\": 230, \"15\": 8, \"13\": 1, \"4\": 1}, \"2\": {\"2\": 235, \"0\": 5}, \"8\": {\"8\": 239, \"3\": 1}, \"7\": {\"7\": 216, \"6\": 3, \"13\": 7, \"5\": 13, \"4\": 1}, \"14\": {\"14\": 240}, \"6\": {\"6\": 230, \"15\": 4, \"13\": 2, \"1\": 1, \"5\": 1, \"7\": 1, \"4\": 1}, \"3\": {\"3\": 240}, \"4\": {\"4\": 191, \"6\": 3, \"5\": 28, \"15\": 13, \"11\": 1, \"7\": 3, \"1\": 1}, \"12\": {\"12\": 231, \"9\": 6, \"11\": 2, \"14\": 1}, \"15\": {\"15\": 218, \"11\": 4, \"4\": 13, \"1\": 4, \"6\": 1}, \"11\": {\"11\": 232, \"15\": 5, \"9\": 2, \"12\": 1}, \"0\": {\"0\": 229, \"10\": 3, \"2\": 8}, \"9\": {\"9\": 237, \"11\": 1, \"12\": 2}, \"10\": {\"10\": 236, \"0\": 4}, \"5\": {\"13\": 7, \"5\": 192, \"1\": 6, \"4\": 24, \"7\": 7, \"3\": 2, \"6\": 2}, \"13\": {\"7\": 5, \"13\": 226, \"6\": 2, \"5\": 7}}, \"ORACLE.run1_32\": {\"2\": {\"2\": 208, \"4\": 31, \"5\": 1}, \"6\": {\"6\": 240}, \"5\": {\"5\": 169, \"7\": 48, \"13\": 9, \"3\": 3, \"8\": 4, \"4\": 6, \"14\": 1}, \"12\": {\"12\": 240}, \"13\": {\"13\": 205, \"7\": 7, \"4\": 12, \"8\": 4, \"3\": 9, \"5\": 3}, \"9\": {\"9\": 240}, \"11\": {\"11\": 238, \"14\": 2}, \"1\": {\"1\": 240}, \"3\": {\"3\": 236, \"13\": 2, \"8\": 2}, \"7\": {\"7\": 175, \"5\": 42, \"13\": 2, \"4\": 13, \"14\": 7, \"11\": 1}, \"14\": {\"14\": 198, \"0\": 17, \"7\": 12, \"8\": 4, \"11\": 5, \"5\": 4}, \"8\": {\"8\": 210, \"0\": 18, \"5\": 11, \"14\": 1}, \"4\": {\"4\": 201, \"5\": 2, \"13\": 4, \"2\": 26, \"7\": 7}, \"0\": {\"0\": 210, \"14\": 16, \"8\": 10, \"7\": 1, \"5\": 2, \"4\": 1}, \"10\": {\"10\": 239, \"1\": 1}, \"15\": {\"15\": 240}}, \"ORACLE.run1_44\": {\"13\": {\"13\": 198, \"6\": 22, \"9\": 20}, \"4\": {\"4\": 191, \"14\": 45, \"15\": 2, \"13\": 2}, \"6\": {\"6\": 180, \"13\": 34, \"9\": 21, \"7\": 5}, \"0\": {\"0\": 187, \"8\": 46, \"15\": 6, \"5\": 1}, \"10\": {\"10\": 215, \"1\": 11, \"12\": 3, \"2\": 11}, \"7\": {\"7\": 185, \"2\": 17, \"9\": 37, \"13\": 1}, \"14\": {\"14\": 177, \"4\": 54, \"15\": 9}, \"15\": {\"15\": 217, \"14\": 10, \"0\": 7, \"8\": 4, \"5\": 2}, \"5\": {\"5\": 209, \"0\": 12, \"8\": 5, \"15\": 6, \"14\": 8}, \"2\": {\"2\": 217, \"10\": 8, \"7\": 12, \"1\": 3}, \"9\": {\"9\": 172, \"7\": 30, \"6\": 18, \"13\": 20}, \"12\": {\"12\": 229, \"1\": 9, \"3\": 2}, \"8\": {\"8\": 167, \"15\": 5, \"0\": 64, \"5\": 4}, \"3\": {\"3\": 228, \"12\": 1, \"1\": 11}, \"1\": {\"1\": 209, \"12\": 11, \"10\": 7, \"3\": 7, \"2\": 6}, \"11\": {\"11\": 238, \"13\": 2}}, \"ORACLE.run1_14\": {\"1\": {\"1\": 237, \"5\": 3}, \"15\": {\"15\": 240}, \"10\": {\"10\": 240}, \"2\": {\"3\": 5, \"2\": 186, \"14\": 39, \"6\": 4, \"5\": 5, \"13\": 1}, \"9\": {\"9\": 240}, \"5\": {\"5\": 211, \"2\": 6, \"1\": 14, \"4\": 9}, \"7\": {\"7\": 240}, \"13\": {\"13\": 183, \"14\": 5, \"6\": 45, \"5\": 2, \"4\": 1, \"2\": 4}, \"8\": {\"8\": 240}, \"6\": {\"6\": 206, \"13\": 28, \"2\": 5, \"14\": 1}, \"3\": {\"3\": 234, \"2\": 5, \"5\": 1}, \"12\": {\"12\": 240}, \"0\": {\"0\": 237, \"3\": 3}, \"4\": {\"4\": 233, \"5\": 4, \"1\": 2, \"2\": 1}, \"14\": {\"14\": 216, \"2\": 22, \"3\": 1, \"13\": 1}, \"11\": {\"11\": 237, \"9\": 3}}, \"ORACLE.run2_8\": {\"13\": {\"13\": 226, \"1\": 7, \"14\": 6, \"10\": 1}, \"9\": {\"9\": 240}, \"15\": {\"15\": 222, \"12\": 14, \"8\": 4}, \"2\": {\"2\": 239, \"4\": 1}, \"3\": {\"3\": 240}, \"8\": {\"8\": 236, \"15\": 2, \"11\": 2}, \"5\": {\"5\": 228, \"10\": 12}, \"14\": {\"14\": 219, \"13\": 6, \"0\": 11, \"10\": 4}, \"1\": {\"1\": 238, \"13\": 2}, \"0\": {\"0\": 230, \"14\": 5, \"10\": 5}, \"10\": {\"10\": 225, \"5\": 8, \"14\": 2, \"0\": 5}, \"6\": {\"6\": 179, \"4\": 51, \"7\": 10}, \"11\": {\"11\": 194, \"12\": 15, \"15\": 1, \"8\": 30}, \"7\": {\"7\": 179, \"6\": 5, \"2\": 2, \"4\": 54}, \"4\": {\"7\": 56, \"6\": 72, \"4\": 112}, \"12\": {\"12\": 237, \"15\": 3}}, \"ORACLE.run2_38\": {\"13\": {\"3\": 74, \"13\": 155, \"10\": 4, \"0\": 1, \"7\": 3, \"2\": 1, \"8\": 2}, \"12\": {\"12\": 238, \"4\": 2}, \"2\": {\"2\": 226, \"14\": 14}, \"9\": {\"9\": 230, \"6\": 9, \"8\": 1}, \"15\": {\"15\": 201, \"5\": 13, \"8\": 13, \"1\": 13}, \"5\": {\"5\": 148, \"8\": 69, \"15\": 10, \"10\": 2, \"7\": 11}, \"14\": {\"14\": 201, \"2\": 26, \"7\": 8, \"11\": 2, \"12\": 1, \"13\": 2}, \"0\": {\"0\": 232, \"7\": 2, \"3\": 4, \"13\": 1, \"10\": 1}, \"3\": {\"3\": 168, \"13\": 50, \"9\": 2, \"10\": 9, \"0\": 11}, \"1\": {\"1\": 231, \"15\": 8, \"8\": 1}, \"11\": {\"11\": 238, \"4\": 2}, \"7\": {\"10\": 33, \"7\": 182, \"5\": 14, \"8\": 11}, \"8\": {\"8\": 156, \"5\": 58, \"13\": 3, \"7\": 15, \"0\": 4, \"15\": 4}, \"4\": {\"4\": 237, \"12\": 1, \"11\": 1, \"10\": 1}, \"10\": {\"10\": 201, \"13\": 2, \"7\": 35, \"0\": 1, \"4\": 1}, \"6\": {\"6\": 231, \"9\": 9}}, \"ORACLE.run2_26\": {\"10\": {\"7\": 1, \"14\": 30, \"0\": 66, \"10\": 113, \"8\": 16, \"6\": 8, \"4\": 6}, \"12\": {\"12\": 240}, \"1\": {\"1\": 232, \"14\": 8}, \"0\": {\"0\": 127, \"10\": 48, \"14\": 30, \"4\": 14, \"8\": 15, \"15\": 4, \"7\": 2}, \"15\": {\"15\": 195, \"3\": 6, \"7\": 14, \"2\": 21, \"4\": 1, \"9\": 1, \"8\": 2}, \"13\": {\"13\": 223, \"5\": 14, \"7\": 1, \"9\": 2}, \"8\": {\"2\": 11, \"8\": 178, \"10\": 13, \"4\": 4, \"14\": 9, \"7\": 13, \"15\": 2, \"0\": 10}, \"3\": {\"3\": 199, \"7\": 17, \"2\": 19, \"4\": 3, \"5\": 2}, \"11\": {\"11\": 240}, \"4\": {\"4\": 212, \"14\": 5, \"0\": 5, \"2\": 4, \"8\": 4, \"7\": 8, \"3\": 2}, \"6\": {\"6\": 235, \"9\": 4, \"10\": 1}, \"7\": {\"8\": 4, \"7\": 129, \"2\": 78, \"15\": 3, \"4\": 7, \"3\": 13, \"5\": 3, \"13\": 3}, \"14\": {\"14\": 162, \"8\": 7, \"0\": 41, \"1\": 13, \"10\": 15, \"4\": 2}, \"2\": {\"7\": 71, \"2\": 134, \"15\": 13, \"3\": 12, \"8\": 3, \"4\": 4, \"5\": 2, \"13\": 1}, \"5\": {\"13\": 35, \"5\": 188, \"7\": 2, \"3\": 2, \"1\": 1, \"2\": 8, \"9\": 2, \"6\": 1, \"15\": 1}, \"9\": {\"9\": 231, \"15\": 1, \"13\": 2, \"5\": 2, \"6\": 4}}, \"ORACLE.run2_20\": {\"5\": {\"5\": 208, \"2\": 13, \"4\": 1, \"1\": 2, \"0\": 3, \"7\": 2, \"12\": 4, \"13\": 1, \"15\": 2, \"3\": 4}, \"15\": {\"15\": 203, \"1\": 6, \"13\": 22, \"5\": 5, \"0\": 3, \"2\": 1}, \"9\": {\"9\": 219, \"3\": 4, \"1\": 2, \"2\": 12, \"12\": 3}, \"7\": {\"7\": 236, \"5\": 1, \"3\": 2, \"8\": 1}, \"3\": {\"3\": 191, \"2\": 34, \"9\": 9, \"7\": 4, \"12\": 2}, \"8\": {\"8\": 221, \"7\": 7, \"14\": 10, \"6\": 1, \"4\": 1}, \"4\": {\"4\": 236, \"12\": 4}, \"6\": {\"6\": 235, \"14\": 5}, \"2\": {\"2\": 185, \"3\": 28, \"12\": 8, \"5\": 4, \"9\": 13, \"1\": 2}, \"12\": {\"12\": 207, \"1\": 21, \"3\": 2, \"2\": 6, \"15\": 2, \"9\": 1, \"5\": 1}, \"0\": {\"0\": 234, \"5\": 6}, \"13\": {\"13\": 213, \"15\": 27}, \"10\": {\"10\": 240}, \"11\": {\"11\": 240}, \"14\": {\"14\": 224, \"6\": 11, \"8\": 5}, \"1\": {\"1\": 186, \"12\": 46, \"15\": 5, \"9\": 1, \"2\": 2}}, \"ORACLE.run2_50\": {\"1\": {\"1\": 229, \"6\": 4, \"4\": 4, \"5\": 2, \"15\": 1}, \"2\": {\"2\": 232, \"0\": 8}, \"8\": {\"8\": 239, \"3\": 1}, \"7\": {\"7\": 214, \"5\": 10, \"4\": 2, \"13\": 13, \"6\": 1}, \"14\": {\"14\": 240}, \"6\": {\"6\": 230, \"4\": 6, \"5\": 2, \"15\": 1, \"1\": 1}, \"3\": {\"3\": 236, \"8\": 4}, \"4\": {\"4\": 171, \"5\": 63, \"7\": 1, \"6\": 5}, \"12\": {\"12\": 237, \"11\": 2, \"9\": 1}, \"15\": {\"15\": 234, \"1\": 3, \"11\": 3}, \"11\": {\"11\": 229, \"15\": 6, \"12\": 4, \"9\": 1}, \"0\": {\"0\": 227, \"2\": 8, \"10\": 5}, \"9\": {\"9\": 239, \"11\": 1}, \"10\": {\"10\": 206, \"13\": 33, \"0\": 1}, \"5\": {\"5\": 163, \"6\": 5, \"4\": 55, \"13\": 4, \"7\": 10, \"10\": 3}, \"13\": {\"13\": 207, \"10\": 28, \"7\": 3, \"5\": 2}}, \"ORACLE.run2_32\": {\"2\": {\"2\": 231, \"5\": 3, \"4\": 5, \"7\": 1}, \"6\": {\"6\": 240}, \"5\": {\"5\": 207, \"2\": 8, \"8\": 5, \"7\": 6, \"4\": 7, \"14\": 6, \"0\": 1}, \"12\": {\"12\": 240}, \"13\": {\"13\": 176, \"4\": 59, \"8\": 1, \"11\": 2, \"7\": 2}, \"9\": {\"9\": 240}, \"11\": {\"11\": 201, \"0\": 6, \"7\": 26, \"13\": 3, \"4\": 3, \"14\": 1}, \"1\": {\"1\": 240}, \"3\": {\"3\": 231, \"4\": 1, \"8\": 3, \"13\": 5}, \"7\": {\"7\": 203, \"11\": 16, \"2\": 2, \"5\": 6, \"4\": 10, \"13\": 2, \"0\": 1}, \"14\": {\"14\": 229, \"0\": 10, \"11\": 1}, \"8\": {\"8\": 216, \"0\": 18, \"5\": 3, \"15\": 1, \"3\": 1, \"13\": 1}, \"4\": {\"7\": 18, \"4\": 184, \"13\": 32, \"5\": 4, \"8\": 1, \"11\": 1}, \"0\": {\"0\": 206, \"8\": 15, \"5\": 6, \"14\": 5, \"11\": 8}, \"10\": {\"10\": 240}, \"15\": {\"15\": 239, \"8\": 1}}, \"ORACLE.run2_44\": {\"13\": {\"13\": 234, \"4\": 3, \"6\": 3}, \"4\": {\"4\": 220, \"15\": 5, \"13\": 7, \"14\": 8}, \"6\": {\"6\": 216, \"13\": 14, \"9\": 10}, \"0\": {\"0\": 144, \"8\": 96}, \"10\": {\"10\": 240}, \"7\": {\"7\": 137, \"9\": 85, \"6\": 3, \"2\": 14, \"1\": 1}, \"14\": {\"14\": 200, \"4\": 11, \"15\": 21, \"5\": 8}, \"15\": {\"15\": 227, \"14\": 10, \"4\": 2, \"8\": 1}, \"5\": {\"8\": 2, \"14\": 18, \"5\": 216, \"0\": 1, \"15\": 3}, \"2\": {\"2\": 209, \"9\": 22, \"7\": 9}, \"9\": {\"9\": 142, \"7\": 73, \"6\": 7, \"2\": 18}, \"12\": {\"12\": 204, \"1\": 25, \"3\": 11}, \"8\": {\"8\": 148, \"0\": 91, \"14\": 1}, \"3\": {\"3\": 217, \"12\": 12, \"1\": 11}, \"1\": {\"1\": 190, \"3\": 12, \"12\": 38}, \"11\": {\"11\": 240}}, \"ORACLE.run2_14\": {\"1\": {\"1\": 237, \"5\": 3}, \"15\": {\"15\": 240}, \"10\": {\"10\": 239, \"14\": 1}, \"2\": {\"2\": 158, \"14\": 36, \"5\": 34, \"6\": 1, \"3\": 10, \"13\": 1}, \"9\": {\"9\": 240}, \"5\": {\"5\": 211, \"2\": 9, \"1\": 9, \"4\": 8, \"3\": 3}, \"7\": {\"7\": 240}, \"13\": {\"13\": 198, \"6\": 41, \"2\": 1}, \"8\": {\"8\": 240}, \"6\": {\"13\": 32, \"6\": 208}, \"3\": {\"3\": 223, \"5\": 8, \"1\": 1, \"2\": 4, \"14\": 2, \"4\": 1, \"6\": 1}, \"12\": {\"12\": 161, \"0\": 14, \"11\": 30, \"9\": 30, \"13\": 1, \"15\": 3, \"8\": 1}, \"0\": {\"0\": 240}, \"4\": {\"4\": 231, \"5\": 7, \"1\": 2}, \"14\": {\"3\": 2, \"14\": 193, \"2\": 45}, \"11\": {\"11\": 240}}}, \"per_domain_accuracy\": {\"ORACLE.run1_8\": {\"accuracy\": 0.9276041666666667, \"source?\": true}, \"ORACLE.run1_38\": {\"accuracy\": 0.9419270833333333, \"source?\": true}, \"ORACLE.run1_26\": {\"accuracy\": 0.8161458333333333, \"source?\": true}, \"ORACLE.run1_20\": {\"accuracy\": 0.9341145833333333, \"source?\": true}, \"ORACLE.run1_50\": {\"accuracy\": 0.9432291666666667, \"source?\": true}, \"ORACLE.run1_32\": {\"accuracy\": 0.90859375, \"source?\": true}, \"ORACLE.run1_44\": {\"accuracy\": 0.83828125, \"source?\": true}, \"ORACLE.run1_14\": {\"accuracy\": 0.9427083333333334, \"source?\": true}, \"ORACLE.run2_8\": {\"accuracy\": 0.896875, \"source?\": false}, \"ORACLE.run2_38\": {\"accuracy\": 0.8528645833333334, \"source?\": false}, \"ORACLE.run2_26\": {\"accuracy\": 0.7911458333333333, \"source?\": false}, \"ORACLE.run2_20\": {\"accuracy\": 0.9057291666666667, \"source?\": false}, \"ORACLE.run2_50\": {\"accuracy\": 0.9200520833333333, \"source?\": false}, \"ORACLE.run2_32\": {\"accuracy\": 0.9174479166666667, \"source?\": false}, \"ORACLE.run2_44\": {\"accuracy\": 0.8291666666666667, \"source?\": false}, \"ORACLE.run2_14\": {\"accuracy\": 0.9111979166666667, \"source?\": false}}}, \"history\": {\"epoch_indices\": [1, 2, 3, 4, 5, 6, 7, 8, 9, 10, 11, 12, 13, 14, 15, 16, 17], \"train_label_loss\": [0.7670667858816506, 0.4954499306484303, 0.39187113115857797, 0.3319668067814616, 0.2931198256075038, 0.26592781732996673, 0.24605511413205283, 0.22791995615996366, 0.21068796118381128, 0.19613719567451404, 0.18512049701374572, 0.1747624683334531, 0.1629578492476174, 0.15383345633095555, 0.14440849650570833, 0.13544316877870144, 0.12830603781241648], \"source_val_label_loss\": [0.6832687854766846, 0.4253719747066498, 0.37685906887054443, 0.3258414566516876, 0.30267950892448425, 0.30763623118400574, 0.27755069732666016, 0.28304529190063477, 0.2731763422489166, 0.27779409289360046, 0.27635014057159424, 0.27740156650543213, 0.2679068148136139, 0.2657566964626312, 0.2760559618473053, 0.2705738842487335, 0.2620757222175598], \"target_val_label_loss\": [0.7250850200653076, 0.49374645948410034, 0.4523637890815735, 0.40128010511398315, 0.38704124093055725, 0.3901073634624481, 0.3721823990345001, 0.3737845718860626, 0.3759201467037201, 0.38355883955955505, 0.3751554787158966, 0.3892471194267273, 0.3807259500026703, 0.38279783725738525, 0.4039677381515503, 0.4059101641178131, 0.4048477113246918], \"source_val_acc_label\": [0.7684244791666667, 0.8493489583333333, 0.8674479166666667, 0.8845052083333333, 0.8914713541666667, 0.89033203125, 0.9009765625, 0.8983723958333333, 0.9032552083333333, 0.9007486979166667, 0.9009765625, 0.9015299479166666, 0.9065755208333334, 0.9078450520833333, 0.9069986979166667, 0.9088541666666666, 0.91259765625], \"target_val_acc_label\": [0.7543619791666667, 0.83037109375, 0.84501953125, 0.8658528645833333, 0.8666341145833333, 0.8673828125, 0.8734700520833333, 0.8697916666666666, 0.8733072916666667, 0.8713541666666667, 0.8744140625, 0.8707356770833333, 0.8780598958333333, 0.8780598958333333, 0.87109375, 0.8747721354166667, 0.8760091145833333]}, \"dataset_metrics\": {\"source\": {\"train\": {\"n_unique_x\": 179200, \"n_unique_y\": 16, \"n_batch/episode\": 6720}, \"val\": {\"n_unique_x\": 38400, \"n_unique_y\": 16, \"n_batch/episode\": 960}, \"test\": {\"n_unique_x\": 38400, \"n_unique_y\": 16, \"n_batch/episode\": 960}}, \"target\": {\"train\": {\"n_unique_x\": 179200, \"n_unique_y\": 16, \"n_batch/episode\": 6720}, \"val\": {\"n_unique_x\": 38400, \"n_unique_y\": 16, \"n_batch/episode\": 960}, \"test\": {\"n_unique_x\": 38400, \"n_unique_y\": 16, \"n_batch/episode\": 960}}}}'"
      ]
     },
     "execution_count": 29,
     "metadata": {},
     "output_type": "execute_result"
    }
   ],
   "source": [
    "json.dumps(experiment)"
   ]
  }
 ],
 "metadata": {
  "celltoolbar": "Tags",
  "kernelspec": {
   "display_name": "Python 3 (ipykernel)",
   "language": "python",
   "name": "python3"
  },
  "language_info": {
   "codemirror_mode": {
    "name": "ipython",
    "version": 3
   },
   "file_extension": ".py",
   "mimetype": "text/x-python",
   "name": "python",
   "nbconvert_exporter": "python",
   "pygments_lexer": "ipython3",
   "version": "3.8.12"
  },
  "papermill": {
   "default_parameters": {},
   "duration": 4635.670371,
   "end_time": "2022-03-21T18:19:52.219014",
   "environment_variables": {},
   "exception": null,
   "input_path": "/root/csc500-main/csc500-notebooks/templates/tl_ptn_template.ipynb",
   "output_path": "trial.ipynb",
   "parameters": {
    "parameters": {
     "BEST_MODEL_PATH": "./best_model.pth",
     "NUM_LOGS_PER_EPOCH": 10,
     "criteria_for_best": "target_accuracy",
     "dataset_seed": 154325,
     "datasets": [
      {
       "domain_prefix": "ORACLE.run1_",
       "domains": [
        32,
        38,
        8,
        44,
        14,
        50,
        20,
        26
       ],
       "episode_transforms": [],
       "labels": [
        "3123D52",
        "3123D65",
        "3123D79",
        "3123D80",
        "3123D54",
        "3123D70",
        "3123D7B",
        "3123D89",
        "3123D58",
        "3123D76",
        "3123D7D",
        "3123EFE",
        "3123D64",
        "3123D78",
        "3123D7E",
        "3124E4A"
       ],
       "num_examples_per_domain_per_label": 2000,
       "pickle_path": "/root/csc500-main/datasets/oracle.Run1_framed_2000Examples_stratified_ds.2022A.pkl",
       "source_or_target_dataset": "source",
       "x_transforms": [
        "unit_mag"
       ]
      },
      {
       "domain_prefix": "ORACLE.run2_",
       "domains": [
        32,
        38,
        8,
        44,
        14,
        50,
        20,
        26
       ],
       "episode_transforms": [],
       "labels": [
        "3123D52",
        "3123D65",
        "3123D79",
        "3123D80",
        "3123D54",
        "3123D70",
        "3123D7B",
        "3123D89",
        "3123D58",
        "3123D76",
        "3123D7D",
        "3123EFE",
        "3123D64",
        "3123D78",
        "3123D7E",
        "3124E4A"
       ],
       "num_examples_per_domain_per_label": 2000,
       "pickle_path": "/root/csc500-main/datasets/oracle.Run2_framed_2000Examples_stratified_ds.2022A.pkl",
       "source_or_target_dataset": "target",
       "x_transforms": [
        "unit_mag"
       ]
      }
     ],
     "device": "cuda",
     "experiment_name": "tl_1v2:oracle.run1.framed-oracle.run2.framed",
     "lr": 0.0001,
     "n_epoch": 50,
     "n_query": 2,
     "n_shot": 3,
     "n_way": 16,
     "patience": 3,
     "seed": 154325,
     "test_k_factor": 2,
     "torch_default_dtype": "torch.float32",
     "train_k_factor": 3,
     "val_k_factor": 2,
     "x_net": [
      {
       "class": "nnReshape",
       "kargs": {
        "shape": [
         -1,
         1,
         2,
         256
        ]
       }
      },
      {
       "class": "Conv2d",
       "kargs": {
        "bias": false,
        "in_channels": 1,
        "kernel_size": [
         1,
         7
        ],
        "out_channels": 256,
        "padding": [
         0,
         3
        ]
       }
      },
      {
       "class": "ReLU",
       "kargs": {
        "inplace": true
       }
      },
      {
       "class": "BatchNorm2d",
       "kargs": {
        "num_features": 256
       }
      },
      {
       "class": "Conv2d",
       "kargs": {
        "bias": true,
        "in_channels": 256,
        "kernel_size": [
         2,
         7
        ],
        "out_channels": 80,
        "padding": [
         0,
         3
        ]
       }
      },
      {
       "class": "ReLU",
       "kargs": {
        "inplace": true
       }
      },
      {
       "class": "BatchNorm2d",
       "kargs": {
        "num_features": 80
       }
      },
      {
       "class": "Flatten",
       "kargs": {}
      },
      {
       "class": "Linear",
       "kargs": {
        "in_features": 20480,
        "out_features": 256
       }
      },
      {
       "class": "ReLU",
       "kargs": {
        "inplace": true
       }
      },
      {
       "class": "BatchNorm1d",
       "kargs": {
        "num_features": 256
       }
      },
      {
       "class": "Linear",
       "kargs": {
        "in_features": 256,
        "out_features": 256
       }
      }
     ]
    }
   },
   "start_time": "2022-03-21T17:02:36.548643",
   "version": "2.3.4"
  }
 },
 "nbformat": 4,
 "nbformat_minor": 5
}