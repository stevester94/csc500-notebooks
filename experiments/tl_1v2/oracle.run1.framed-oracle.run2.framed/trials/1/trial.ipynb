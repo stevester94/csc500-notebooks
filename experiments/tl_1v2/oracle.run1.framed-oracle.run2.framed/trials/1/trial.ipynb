{
 "cells": [
  {
   "cell_type": "markdown",
   "id": "9fea5f46",
   "metadata": {
    "papermill": {
     "duration": 0.028915,
     "end_time": "2022-03-21T03:30:21.834888",
     "exception": false,
     "start_time": "2022-03-21T03:30:21.805973",
     "status": "completed"
    },
    "tags": []
   },
   "source": [
    "# Transfer Learning Template"
   ]
  },
  {
   "cell_type": "code",
   "execution_count": 1,
   "id": "0902182a",
   "metadata": {
    "execution": {
     "iopub.execute_input": "2022-03-21T03:30:21.899874Z",
     "iopub.status.busy": "2022-03-21T03:30:21.898989Z",
     "iopub.status.idle": "2022-03-21T03:30:23.840892Z",
     "shell.execute_reply": "2022-03-21T03:30:23.839993Z"
    },
    "papermill": {
     "duration": 1.982483,
     "end_time": "2022-03-21T03:30:23.841080",
     "exception": false,
     "start_time": "2022-03-21T03:30:21.858597",
     "status": "completed"
    },
    "tags": []
   },
   "outputs": [],
   "source": [
    "%load_ext autoreload\n",
    "%autoreload 2\n",
    "%matplotlib inline\n",
    "\n",
    "    \n",
    "import os, json, sys, time, random\n",
    "import numpy as np\n",
    "import torch\n",
    "from torch.optim import Adam\n",
    "from  easydict import EasyDict\n",
    "import matplotlib.pyplot as plt\n",
    "\n",
    "from steves_models.steves_ptn import Steves_Prototypical_Network\n",
    "\n",
    "from steves_utils.lazy_iterable_wrapper import Lazy_Iterable_Wrapper\n",
    "from steves_utils.iterable_aggregator import Iterable_Aggregator\n",
    "from steves_utils.ptn_train_eval_test_jig import  PTN_Train_Eval_Test_Jig\n",
    "from steves_utils.torch_sequential_builder import build_sequential\n",
    "from steves_utils.torch_utils import get_dataset_metrics, ptn_confusion_by_domain_over_dataloader\n",
    "from steves_utils.utils_v2 import (per_domain_accuracy_from_confusion, get_datasets_base_path)\n",
    "from steves_utils.PTN.utils import independent_accuracy_assesment\n",
    "\n",
    "from torch.utils.data import DataLoader\n",
    "\n",
    "from steves_utils.stratified_dataset.episodic_accessor import Episodic_Accessor_Factory\n",
    "\n",
    "from steves_utils.ptn_do_report import (\n",
    "    get_loss_curve,\n",
    "    get_results_table,\n",
    "    get_parameters_table,\n",
    "    get_domain_accuracies,\n",
    ")\n",
    "\n",
    "from steves_utils.transforms import get_chained_transform"
   ]
  },
  {
   "cell_type": "markdown",
   "id": "41c840b4",
   "metadata": {
    "papermill": {
     "duration": 0.020663,
     "end_time": "2022-03-21T03:30:23.886824",
     "exception": false,
     "start_time": "2022-03-21T03:30:23.866161",
     "status": "completed"
    },
    "tags": []
   },
   "source": [
    "# Allowed Parameters\n",
    "These are allowed parameters, not defaults\n",
    "Each of these values need to be present in the injected parameters (the notebook will raise an exception if they are not present)\n",
    "\n",
    "Papermill uses the cell tag \"parameters\" to inject the real parameters below this cell.\n",
    "Enable tags to see what I mean"
   ]
  },
  {
   "cell_type": "code",
   "execution_count": 2,
   "id": "fd44eb83",
   "metadata": {
    "execution": {
     "iopub.execute_input": "2022-03-21T03:30:23.997997Z",
     "iopub.status.busy": "2022-03-21T03:30:23.997411Z",
     "iopub.status.idle": "2022-03-21T03:30:24.022819Z",
     "shell.execute_reply": "2022-03-21T03:30:24.022060Z"
    },
    "papermill": {
     "duration": 0.05636,
     "end_time": "2022-03-21T03:30:24.022999",
     "exception": false,
     "start_time": "2022-03-21T03:30:23.966639",
     "status": "completed"
    },
    "tags": []
   },
   "outputs": [],
   "source": [
    "required_parameters = {\n",
    "    \"experiment_name\",\n",
    "    \"lr\",\n",
    "    \"device\",\n",
    "    \"seed\",\n",
    "    \"dataset_seed\",\n",
    "    \"n_shot\",\n",
    "    \"n_query\",\n",
    "    \"n_way\",\n",
    "    \"train_k_factor\",\n",
    "    \"val_k_factor\",\n",
    "    \"test_k_factor\",\n",
    "    \"n_epoch\",\n",
    "    \"patience\",\n",
    "    \"criteria_for_best\",\n",
    "    \"x_net\",\n",
    "    \"datasets\",\n",
    "    \"torch_default_dtype\",\n",
    "    \"NUM_LOGS_PER_EPOCH\",\n",
    "    \"BEST_MODEL_PATH\",\n",
    "    \"x_shape\",\n",
    "}"
   ]
  },
  {
   "cell_type": "code",
   "execution_count": 3,
   "id": "fa3f0049",
   "metadata": {
    "execution": {
     "iopub.execute_input": "2022-03-21T03:30:24.082523Z",
     "iopub.status.busy": "2022-03-21T03:30:24.081597Z",
     "iopub.status.idle": "2022-03-21T03:30:24.105879Z",
     "shell.execute_reply": "2022-03-21T03:30:24.105168Z"
    },
    "papermill": {
     "duration": 0.054046,
     "end_time": "2022-03-21T03:30:24.106046",
     "exception": false,
     "start_time": "2022-03-21T03:30:24.052000",
     "status": "completed"
    },
    "tags": [
     "parameters"
    ]
   },
   "outputs": [],
   "source": [
    "from steves_utils.CORES.utils import (\n",
    "    ALL_NODES,\n",
    "    ALL_NODES_MINIMUM_1000_EXAMPLES,\n",
    "    ALL_DAYS\n",
    ")\n",
    "\n",
    "from steves_utils.ORACLE.utils_v2 import (\n",
    "    ALL_DISTANCES_FEET_NARROWED,\n",
    "    ALL_RUNS,\n",
    "    ALL_SERIAL_NUMBERS,\n",
    ")\n",
    "\n",
    "standalone_parameters = {}\n",
    "standalone_parameters[\"experiment_name\"] = \"STANDALONE PTN\"\n",
    "standalone_parameters[\"lr\"] = 0.001\n",
    "standalone_parameters[\"device\"] = \"cuda\"\n",
    "\n",
    "standalone_parameters[\"seed\"] = 1337\n",
    "standalone_parameters[\"dataset_seed\"] = 1337\n",
    "\n",
    "standalone_parameters[\"n_way\"] = 8\n",
    "standalone_parameters[\"n_shot\"] = 3\n",
    "standalone_parameters[\"n_query\"]  = 2\n",
    "standalone_parameters[\"train_k_factor\"] = 1\n",
    "standalone_parameters[\"val_k_factor\"] = 2\n",
    "standalone_parameters[\"test_k_factor\"] = 2\n",
    "\n",
    "\n",
    "standalone_parameters[\"n_epoch\"] = 50\n",
    "\n",
    "standalone_parameters[\"patience\"] = 10\n",
    "standalone_parameters[\"criteria_for_best\"] = \"source_loss\"\n",
    "\n",
    "standalone_parameters[\"datasets\"] = [\n",
    "    {\n",
    "        \"labels\": ALL_SERIAL_NUMBERS,\n",
    "        \"domains\": ALL_DISTANCES_FEET_NARROWED,\n",
    "        \"num_examples_per_domain_per_label\": 100,\n",
    "        \"pickle_path\": os.path.join(get_datasets_base_path(), \"oracle.Run1_framed_2000Examples_stratified_ds.2022A.pkl\"),\n",
    "        \"source_or_target_dataset\": \"source\",\n",
    "        \"x_transforms\": [\"unit_mag\", \"minus_two\"],\n",
    "        \"episode_transforms\": [],\n",
    "        \"domain_prefix\": \"ORACLE_\"\n",
    "    },\n",
    "    {\n",
    "        \"labels\": ALL_NODES,\n",
    "        \"domains\": ALL_DAYS,\n",
    "        \"num_examples_per_domain_per_label\": 100,\n",
    "        \"pickle_path\": os.path.join(get_datasets_base_path(), \"cores.stratified_ds.2022A.pkl\"),\n",
    "        \"source_or_target_dataset\": \"target\",\n",
    "        \"x_transforms\": [\"unit_power\", \"times_zero\"],\n",
    "        \"episode_transforms\": [],\n",
    "        \"domain_prefix\": \"CORES_\"\n",
    "    }   \n",
    "]\n",
    "\n",
    "standalone_parameters[\"torch_default_dtype\"] = \"torch.float32\" \n",
    "\n",
    "\n",
    "\n",
    "standalone_parameters[\"x_net\"] =     [\n",
    "    {\"class\": \"nnReshape\", \"kargs\": {\"shape\":[-1, 1, 2, 256]}},\n",
    "    {\"class\": \"Conv2d\", \"kargs\": { \"in_channels\":1, \"out_channels\":256, \"kernel_size\":(1,7), \"bias\":False, \"padding\":(0,3), },},\n",
    "    {\"class\": \"ReLU\", \"kargs\": {\"inplace\": True}},\n",
    "    {\"class\": \"BatchNorm2d\", \"kargs\": {\"num_features\":256}},\n",
    "\n",
    "    {\"class\": \"Conv2d\", \"kargs\": { \"in_channels\":256, \"out_channels\":80, \"kernel_size\":(2,7), \"bias\":True, \"padding\":(0,3), },},\n",
    "    {\"class\": \"ReLU\", \"kargs\": {\"inplace\": True}},\n",
    "    {\"class\": \"BatchNorm2d\", \"kargs\": {\"num_features\":80}},\n",
    "    {\"class\": \"Flatten\", \"kargs\": {}},\n",
    "\n",
    "    {\"class\": \"Linear\", \"kargs\": {\"in_features\": 80*256, \"out_features\": 256}}, # 80 units per IQ pair\n",
    "    {\"class\": \"ReLU\", \"kargs\": {\"inplace\": True}},\n",
    "    {\"class\": \"BatchNorm1d\", \"kargs\": {\"num_features\":256}},\n",
    "\n",
    "    {\"class\": \"Linear\", \"kargs\": {\"in_features\": 256, \"out_features\": 256}},\n",
    "]\n",
    "\n",
    "# Parameters relevant to results\n",
    "# These parameters will basically never need to change\n",
    "standalone_parameters[\"NUM_LOGS_PER_EPOCH\"] = 10\n",
    "standalone_parameters[\"BEST_MODEL_PATH\"] = \"./best_model.pth\"\n",
    "\n",
    "\n",
    "\n",
    "\n"
   ]
  },
  {
   "cell_type": "code",
   "execution_count": 4,
   "id": "3df3f3de",
   "metadata": {
    "execution": {
     "iopub.execute_input": "2022-03-21T03:30:24.165317Z",
     "iopub.status.busy": "2022-03-21T03:30:24.164395Z",
     "iopub.status.idle": "2022-03-21T03:30:24.183305Z",
     "shell.execute_reply": "2022-03-21T03:30:24.182597Z"
    },
    "papermill": {
     "duration": 0.051675,
     "end_time": "2022-03-21T03:30:24.183460",
     "exception": false,
     "start_time": "2022-03-21T03:30:24.131785",
     "status": "completed"
    },
    "tags": [
     "injected-parameters"
    ]
   },
   "outputs": [],
   "source": [
    "# Parameters\n",
    "parameters = {\n",
    "    \"experiment_name\": \"tl_1v2:oracle.run1.framed-oracle.run2.framed\",\n",
    "    \"device\": \"cuda\",\n",
    "    \"lr\": 0.0001,\n",
    "    \"n_shot\": 3,\n",
    "    \"n_query\": 2,\n",
    "    \"train_k_factor\": 3,\n",
    "    \"val_k_factor\": 2,\n",
    "    \"test_k_factor\": 2,\n",
    "    \"torch_default_dtype\": \"torch.float32\",\n",
    "    \"n_epoch\": 50,\n",
    "    \"patience\": 3,\n",
    "    \"criteria_for_best\": \"target_accuracy\",\n",
    "    \"x_net\": [\n",
    "        {\"class\": \"nnReshape\", \"kargs\": {\"shape\": [-1, 1, 2, 256]}},\n",
    "        {\n",
    "            \"class\": \"Conv2d\",\n",
    "            \"kargs\": {\n",
    "                \"in_channels\": 1,\n",
    "                \"out_channels\": 256,\n",
    "                \"kernel_size\": [1, 7],\n",
    "                \"bias\": False,\n",
    "                \"padding\": [0, 3],\n",
    "            },\n",
    "        },\n",
    "        {\"class\": \"ReLU\", \"kargs\": {\"inplace\": True}},\n",
    "        {\"class\": \"BatchNorm2d\", \"kargs\": {\"num_features\": 256}},\n",
    "        {\n",
    "            \"class\": \"Conv2d\",\n",
    "            \"kargs\": {\n",
    "                \"in_channels\": 256,\n",
    "                \"out_channels\": 80,\n",
    "                \"kernel_size\": [2, 7],\n",
    "                \"bias\": True,\n",
    "                \"padding\": [0, 3],\n",
    "            },\n",
    "        },\n",
    "        {\"class\": \"ReLU\", \"kargs\": {\"inplace\": True}},\n",
    "        {\"class\": \"BatchNorm2d\", \"kargs\": {\"num_features\": 80}},\n",
    "        {\"class\": \"Flatten\", \"kargs\": {}},\n",
    "        {\"class\": \"Linear\", \"kargs\": {\"in_features\": 20480, \"out_features\": 256}},\n",
    "        {\"class\": \"ReLU\", \"kargs\": {\"inplace\": True}},\n",
    "        {\"class\": \"BatchNorm1d\", \"kargs\": {\"num_features\": 256}},\n",
    "        {\"class\": \"Linear\", \"kargs\": {\"in_features\": 256, \"out_features\": 256}},\n",
    "    ],\n",
    "    \"NUM_LOGS_PER_EPOCH\": 10,\n",
    "    \"BEST_MODEL_PATH\": \"./best_model.pth\",\n",
    "    \"n_way\": 16,\n",
    "    \"datasets\": [\n",
    "        {\n",
    "            \"labels\": [\n",
    "                \"3123D52\",\n",
    "                \"3123D65\",\n",
    "                \"3123D79\",\n",
    "                \"3123D80\",\n",
    "                \"3123D54\",\n",
    "                \"3123D70\",\n",
    "                \"3123D7B\",\n",
    "                \"3123D89\",\n",
    "                \"3123D58\",\n",
    "                \"3123D76\",\n",
    "                \"3123D7D\",\n",
    "                \"3123EFE\",\n",
    "                \"3123D64\",\n",
    "                \"3123D78\",\n",
    "                \"3123D7E\",\n",
    "                \"3124E4A\",\n",
    "            ],\n",
    "            \"domains\": [32, 38, 8, 44, 14, 50, 20, 26],\n",
    "            \"num_examples_per_domain_per_label\": 2000,\n",
    "            \"pickle_path\": \"/root/csc500-main/datasets/oracle.Run1_framed_2000Examples_stratified_ds.2022A.pkl\",\n",
    "            \"source_or_target_dataset\": \"source\",\n",
    "            \"x_transforms\": [\"unit_mag\"],\n",
    "            \"episode_transforms\": [],\n",
    "            \"domain_prefix\": \"ORACLE.run1_\",\n",
    "        },\n",
    "        {\n",
    "            \"labels\": [\n",
    "                \"3123D52\",\n",
    "                \"3123D65\",\n",
    "                \"3123D79\",\n",
    "                \"3123D80\",\n",
    "                \"3123D54\",\n",
    "                \"3123D70\",\n",
    "                \"3123D7B\",\n",
    "                \"3123D89\",\n",
    "                \"3123D58\",\n",
    "                \"3123D76\",\n",
    "                \"3123D7D\",\n",
    "                \"3123EFE\",\n",
    "                \"3123D64\",\n",
    "                \"3123D78\",\n",
    "                \"3123D7E\",\n",
    "                \"3124E4A\",\n",
    "            ],\n",
    "            \"domains\": [32, 38, 8, 44, 14, 50, 20, 26],\n",
    "            \"num_examples_per_domain_per_label\": 2000,\n",
    "            \"pickle_path\": \"/root/csc500-main/datasets/oracle.Run2_framed_2000Examples_stratified_ds.2022A.pkl\",\n",
    "            \"source_or_target_dataset\": \"target\",\n",
    "            \"x_transforms\": [\"unit_mag\"],\n",
    "            \"episode_transforms\": [],\n",
    "            \"domain_prefix\": \"ORACLE.run2_\",\n",
    "        },\n",
    "    ],\n",
    "    \"dataset_seed\": 1337,\n",
    "    \"seed\": 1337,\n",
    "}\n"
   ]
  },
  {
   "cell_type": "code",
   "execution_count": 5,
   "id": "8fa1cc33",
   "metadata": {
    "execution": {
     "iopub.execute_input": "2022-03-21T03:30:24.235214Z",
     "iopub.status.busy": "2022-03-21T03:30:24.234653Z",
     "iopub.status.idle": "2022-03-21T03:30:24.255863Z",
     "shell.execute_reply": "2022-03-21T03:30:24.255103Z"
    },
    "papermill": {
     "duration": 0.046328,
     "end_time": "2022-03-21T03:30:24.256015",
     "exception": false,
     "start_time": "2022-03-21T03:30:24.209687",
     "status": "completed"
    },
    "tags": []
   },
   "outputs": [],
   "source": [
    "# Set this to True if you want to run this template directly\n",
    "STANDALONE = False\n",
    "if STANDALONE:\n",
    "    print(\"parameters not injected, running with standalone_parameters\")\n",
    "    parameters = standalone_parameters\n",
    "\n",
    "if not 'parameters' in locals() and not 'parameters' in globals():\n",
    "    raise Exception(\"Parameter injection failed\")\n",
    "\n",
    "#Use an easy dict for all the parameters\n",
    "p = EasyDict(parameters)\n",
    "\n",
    "if \"x_shape\" not in p:\n",
    "    p.x_shape = [2,256] # Default to this if we dont supply x_shape\n",
    "\n",
    "\n",
    "supplied_keys = set(p.keys())\n",
    "\n",
    "if  supplied_keys != required_parameters:\n",
    "    print(\"Parameters are incorrect\")\n",
    "    if len(supplied_keys - required_parameters)>0: print(\"Shouldn't have:\", str(supplied_keys - required_parameters))\n",
    "    if len(required_parameters - supplied_keys)>0: print(\"Need to have:\", str(required_parameters - supplied_keys))\n",
    "    raise RuntimeError(\"Parameters are incorrect\")"
   ]
  },
  {
   "cell_type": "code",
   "execution_count": 6,
   "id": "3a028d58",
   "metadata": {
    "execution": {
     "iopub.execute_input": "2022-03-21T03:30:24.307514Z",
     "iopub.status.busy": "2022-03-21T03:30:24.307146Z",
     "iopub.status.idle": "2022-03-21T03:30:24.332075Z",
     "shell.execute_reply": "2022-03-21T03:30:24.331223Z"
    },
    "papermill": {
     "duration": 0.048424,
     "end_time": "2022-03-21T03:30:24.332312",
     "exception": false,
     "start_time": "2022-03-21T03:30:24.283888",
     "status": "completed"
    },
    "tags": []
   },
   "outputs": [],
   "source": [
    "###################################\n",
    "# Set the RNGs and make it all deterministic\n",
    "###################################\n",
    "np.random.seed(p.seed)\n",
    "random.seed(p.seed)\n",
    "torch.manual_seed(p.seed)\n",
    "\n",
    "torch.use_deterministic_algorithms(True) "
   ]
  },
  {
   "cell_type": "code",
   "execution_count": 7,
   "id": "b691acf6",
   "metadata": {
    "execution": {
     "iopub.execute_input": "2022-03-21T03:30:24.382493Z",
     "iopub.status.busy": "2022-03-21T03:30:24.382124Z",
     "iopub.status.idle": "2022-03-21T03:30:24.404946Z",
     "shell.execute_reply": "2022-03-21T03:30:24.404237Z"
    },
    "papermill": {
     "duration": 0.046382,
     "end_time": "2022-03-21T03:30:24.405106",
     "exception": false,
     "start_time": "2022-03-21T03:30:24.358724",
     "status": "completed"
    },
    "tags": []
   },
   "outputs": [],
   "source": [
    "###########################################\n",
    "# The stratified datasets honor this\n",
    "###########################################\n",
    "torch.set_default_dtype(eval(p.torch_default_dtype))"
   ]
  },
  {
   "cell_type": "code",
   "execution_count": 8,
   "id": "b5fba671",
   "metadata": {
    "execution": {
     "iopub.execute_input": "2022-03-21T03:30:24.456950Z",
     "iopub.status.busy": "2022-03-21T03:30:24.456016Z",
     "iopub.status.idle": "2022-03-21T03:30:24.515121Z",
     "shell.execute_reply": "2022-03-21T03:30:24.515770Z"
    },
    "papermill": {
     "duration": 0.083214,
     "end_time": "2022-03-21T03:30:24.515962",
     "exception": false,
     "start_time": "2022-03-21T03:30:24.432748",
     "status": "completed"
    },
    "tags": []
   },
   "outputs": [],
   "source": [
    "###################################\n",
    "# Build the network(s)\n",
    "# Note: It's critical to do this AFTER setting the RNG\n",
    "###################################\n",
    "x_net = build_sequential(p.x_net)"
   ]
  },
  {
   "cell_type": "code",
   "execution_count": 9,
   "id": "5d7e61cc",
   "metadata": {
    "execution": {
     "iopub.execute_input": "2022-03-21T03:30:24.563240Z",
     "iopub.status.busy": "2022-03-21T03:30:24.562874Z",
     "iopub.status.idle": "2022-03-21T03:30:24.588309Z",
     "shell.execute_reply": "2022-03-21T03:30:24.587493Z"
    },
    "papermill": {
     "duration": 0.048251,
     "end_time": "2022-03-21T03:30:24.588466",
     "exception": false,
     "start_time": "2022-03-21T03:30:24.540215",
     "status": "completed"
    },
    "tags": []
   },
   "outputs": [],
   "source": [
    "start_time_secs = time.time()"
   ]
  },
  {
   "cell_type": "code",
   "execution_count": 10,
   "id": "c6b67dfd",
   "metadata": {
    "execution": {
     "iopub.execute_input": "2022-03-21T03:30:24.640955Z",
     "iopub.status.busy": "2022-03-21T03:30:24.639872Z",
     "iopub.status.idle": "2022-03-21T03:30:24.661919Z",
     "shell.execute_reply": "2022-03-21T03:30:24.661214Z"
    },
    "papermill": {
     "duration": 0.045463,
     "end_time": "2022-03-21T03:30:24.662071",
     "exception": false,
     "start_time": "2022-03-21T03:30:24.616608",
     "status": "completed"
    },
    "tags": []
   },
   "outputs": [],
   "source": [
    "p.domains_source = []\n",
    "p.domains_target = []\n",
    "\n",
    "\n",
    "train_original_source = []\n",
    "val_original_source   = []\n",
    "test_original_source  = []\n",
    "\n",
    "train_original_target = []\n",
    "val_original_target   = []\n",
    "test_original_target  = []"
   ]
  },
  {
   "cell_type": "code",
   "execution_count": 11,
   "id": "e3d9c3d3",
   "metadata": {
    "execution": {
     "iopub.execute_input": "2022-03-21T03:30:24.711977Z",
     "iopub.status.busy": "2022-03-21T03:30:24.711521Z",
     "iopub.status.idle": "2022-03-21T03:30:24.730415Z",
     "shell.execute_reply": "2022-03-21T03:30:24.729614Z"
    },
    "papermill": {
     "duration": 0.043082,
     "end_time": "2022-03-21T03:30:24.730568",
     "exception": false,
     "start_time": "2022-03-21T03:30:24.687486",
     "status": "completed"
    },
    "tags": []
   },
   "outputs": [],
   "source": [
    "# global_x_transform_func = lambda x: normalize(x.to(torch.get_default_dtype()), \"unit_power\") # unit_power, unit_mag\n",
    "# global_x_transform_func = lambda x: normalize(x, \"unit_power\") # unit_power, unit_mag"
   ]
  },
  {
   "cell_type": "code",
   "execution_count": 12,
   "id": "acb78fd2",
   "metadata": {
    "execution": {
     "iopub.execute_input": "2022-03-21T03:30:24.788926Z",
     "iopub.status.busy": "2022-03-21T03:30:24.787946Z",
     "iopub.status.idle": "2022-03-21T03:30:24.806873Z",
     "shell.execute_reply": "2022-03-21T03:30:24.806160Z"
    },
    "papermill": {
     "duration": 0.051153,
     "end_time": "2022-03-21T03:30:24.807028",
     "exception": false,
     "start_time": "2022-03-21T03:30:24.755875",
     "status": "completed"
    },
    "tags": []
   },
   "outputs": [],
   "source": [
    "def add_dataset(\n",
    "    labels,\n",
    "    domains,\n",
    "    pickle_path,\n",
    "    x_transforms,\n",
    "    episode_transforms,\n",
    "    domain_prefix,\n",
    "    num_examples_per_domain_per_label,\n",
    "    source_or_target_dataset:str,\n",
    "    iterator_seed=p.seed,\n",
    "    dataset_seed=p.dataset_seed,\n",
    "    n_shot=p.n_shot,\n",
    "    n_way=p.n_way,\n",
    "    n_query=p.n_query,\n",
    "    train_val_test_k_factors=(p.train_k_factor,p.val_k_factor,p.test_k_factor),\n",
    "):\n",
    "   \n",
    "    if x_transforms == []: x_transform = None\n",
    "    else: x_transform = get_chained_transform(x_transforms)\n",
    "    \n",
    "    if episode_transforms == []: episode_transform = None\n",
    "    else: raise Exception(\"episode_transforms not implemented\")\n",
    "    \n",
    "    episode_transform = lambda tup, _prefix=domain_prefix: (_prefix + str(tup[0]), tup[1])\n",
    "\n",
    "\n",
    "    eaf = Episodic_Accessor_Factory(\n",
    "        labels=labels,\n",
    "        domains=domains,\n",
    "        num_examples_per_domain_per_label=num_examples_per_domain_per_label,\n",
    "        iterator_seed=iterator_seed,\n",
    "        dataset_seed=dataset_seed,\n",
    "        n_shot=n_shot,\n",
    "        n_way=n_way,\n",
    "        n_query=n_query,\n",
    "        train_val_test_k_factors=train_val_test_k_factors,\n",
    "        pickle_path=pickle_path,\n",
    "        x_transform_func=x_transform,\n",
    "    )\n",
    "\n",
    "    train, val, test = eaf.get_train(), eaf.get_val(), eaf.get_test()\n",
    "    train = Lazy_Iterable_Wrapper(train, episode_transform)\n",
    "    val = Lazy_Iterable_Wrapper(val, episode_transform)\n",
    "    test = Lazy_Iterable_Wrapper(test, episode_transform)\n",
    "\n",
    "    if source_or_target_dataset==\"source\":\n",
    "        train_original_source.append(train)\n",
    "        val_original_source.append(val)\n",
    "        test_original_source.append(test)\n",
    "\n",
    "        p.domains_source.extend(\n",
    "            [domain_prefix + str(u) for u in domains]\n",
    "        )\n",
    "    elif source_or_target_dataset==\"target\":\n",
    "        train_original_target.append(train)\n",
    "        val_original_target.append(val)\n",
    "        test_original_target.append(test)\n",
    "        p.domains_target.extend(\n",
    "            [domain_prefix + str(u) for u in domains]\n",
    "        )\n",
    "    else:\n",
    "        raise Exception(f\"invalid source_or_target_dataset: {source_or_target_dataset}\")\n",
    "    "
   ]
  },
  {
   "cell_type": "code",
   "execution_count": 13,
   "id": "fe266617",
   "metadata": {
    "execution": {
     "iopub.execute_input": "2022-03-21T03:30:24.857326Z",
     "iopub.status.busy": "2022-03-21T03:30:24.856967Z",
     "iopub.status.idle": "2022-03-21T03:31:06.199457Z",
     "shell.execute_reply": "2022-03-21T03:31:06.198666Z"
    },
    "papermill": {
     "duration": 41.365295,
     "end_time": "2022-03-21T03:31:06.199665",
     "exception": false,
     "start_time": "2022-03-21T03:30:24.834370",
     "status": "completed"
    },
    "tags": []
   },
   "outputs": [],
   "source": [
    "for ds in p.datasets:\n",
    "    add_dataset(**ds)"
   ]
  },
  {
   "cell_type": "code",
   "execution_count": 14,
   "id": "b90d65ac",
   "metadata": {
    "execution": {
     "iopub.execute_input": "2022-03-21T03:31:06.248133Z",
     "iopub.status.busy": "2022-03-21T03:31:06.247746Z",
     "iopub.status.idle": "2022-03-21T03:31:06.271568Z",
     "shell.execute_reply": "2022-03-21T03:31:06.270833Z"
    },
    "papermill": {
     "duration": 0.046688,
     "end_time": "2022-03-21T03:31:06.271729",
     "exception": false,
     "start_time": "2022-03-21T03:31:06.225041",
     "status": "completed"
    },
    "tags": []
   },
   "outputs": [],
   "source": [
    "# from steves_utils.CORES.utils import (\n",
    "#     ALL_NODES,\n",
    "#     ALL_NODES_MINIMUM_1000_EXAMPLES,\n",
    "#     ALL_DAYS\n",
    "# )\n",
    "\n",
    "# add_dataset(\n",
    "#     labels=ALL_NODES,\n",
    "#     domains = ALL_DAYS,\n",
    "#     num_examples_per_domain_per_label=100,\n",
    "#     pickle_path=os.path.join(get_datasets_base_path(), \"cores.stratified_ds.2022A.pkl\"),\n",
    "#     source_or_target_dataset=\"target\",\n",
    "#     x_transform_func=global_x_transform_func,\n",
    "#     domain_modifier=lambda u: f\"cores_{u}\"\n",
    "# )"
   ]
  },
  {
   "cell_type": "code",
   "execution_count": 15,
   "id": "76db484d",
   "metadata": {
    "execution": {
     "iopub.execute_input": "2022-03-21T03:31:06.319721Z",
     "iopub.status.busy": "2022-03-21T03:31:06.319322Z",
     "iopub.status.idle": "2022-03-21T03:31:06.343446Z",
     "shell.execute_reply": "2022-03-21T03:31:06.342690Z"
    },
    "papermill": {
     "duration": 0.047226,
     "end_time": "2022-03-21T03:31:06.343625",
     "exception": false,
     "start_time": "2022-03-21T03:31:06.296399",
     "status": "completed"
    },
    "tags": []
   },
   "outputs": [],
   "source": [
    "# from steves_utils.ORACLE.utils_v2 import (\n",
    "#     ALL_DISTANCES_FEET,\n",
    "#     ALL_RUNS,\n",
    "#     ALL_SERIAL_NUMBERS,\n",
    "# )\n",
    "\n",
    "\n",
    "# add_dataset(\n",
    "#     labels=ALL_SERIAL_NUMBERS,\n",
    "#     domains = list(set(ALL_DISTANCES_FEET) - {2,62}),\n",
    "#     num_examples_per_domain_per_label=100,\n",
    "#     pickle_path=os.path.join(get_datasets_base_path(), \"oracle.Run2_framed_2000Examples_stratified_ds.2022A.pkl\"),\n",
    "#     source_or_target_dataset=\"source\",\n",
    "#     x_transform_func=global_x_transform_func,\n",
    "#     domain_modifier=lambda u: f\"oracle1_{u}\"\n",
    "# )\n"
   ]
  },
  {
   "cell_type": "code",
   "execution_count": 16,
   "id": "97dea9d2",
   "metadata": {
    "execution": {
     "iopub.execute_input": "2022-03-21T03:31:06.397122Z",
     "iopub.status.busy": "2022-03-21T03:31:06.396550Z",
     "iopub.status.idle": "2022-03-21T03:31:06.413061Z",
     "shell.execute_reply": "2022-03-21T03:31:06.412346Z"
    },
    "papermill": {
     "duration": 0.040222,
     "end_time": "2022-03-21T03:31:06.413219",
     "exception": false,
     "start_time": "2022-03-21T03:31:06.372997",
     "status": "completed"
    },
    "tags": []
   },
   "outputs": [],
   "source": [
    "# from steves_utils.ORACLE.utils_v2 import (\n",
    "#     ALL_DISTANCES_FEET,\n",
    "#     ALL_RUNS,\n",
    "#     ALL_SERIAL_NUMBERS,\n",
    "# )\n",
    "\n",
    "\n",
    "# add_dataset(\n",
    "#     labels=ALL_SERIAL_NUMBERS,\n",
    "#     domains = list(set(ALL_DISTANCES_FEET) - {2,62,56}),\n",
    "#     num_examples_per_domain_per_label=100,\n",
    "#     pickle_path=os.path.join(get_datasets_base_path(), \"oracle.Run2_framed_2000Examples_stratified_ds.2022A.pkl\"),\n",
    "#     source_or_target_dataset=\"source\",\n",
    "#     x_transform_func=global_x_transform_func,\n",
    "#     domain_modifier=lambda u: f\"oracle2_{u}\"\n",
    "# )"
   ]
  },
  {
   "cell_type": "code",
   "execution_count": 17,
   "id": "6f289866",
   "metadata": {
    "execution": {
     "iopub.execute_input": "2022-03-21T03:31:06.465707Z",
     "iopub.status.busy": "2022-03-21T03:31:06.465339Z",
     "iopub.status.idle": "2022-03-21T03:31:06.488271Z",
     "shell.execute_reply": "2022-03-21T03:31:06.488987Z"
    },
    "papermill": {
     "duration": 0.047289,
     "end_time": "2022-03-21T03:31:06.489178",
     "exception": false,
     "start_time": "2022-03-21T03:31:06.441889",
     "status": "completed"
    },
    "tags": []
   },
   "outputs": [],
   "source": [
    "# add_dataset(\n",
    "#     labels=list(range(19)),\n",
    "#     domains = [0,1,2],\n",
    "#     num_examples_per_domain_per_label=100,\n",
    "#     pickle_path=os.path.join(get_datasets_base_path(), \"metehan.stratified_ds.2022A.pkl\"),\n",
    "#     source_or_target_dataset=\"target\",\n",
    "#     x_transform_func=global_x_transform_func,\n",
    "#     domain_modifier=lambda u: f\"met_{u}\"\n",
    "# )"
   ]
  },
  {
   "cell_type": "code",
   "execution_count": 18,
   "id": "86a863c3",
   "metadata": {
    "execution": {
     "iopub.execute_input": "2022-03-21T03:31:06.542684Z",
     "iopub.status.busy": "2022-03-21T03:31:06.542310Z",
     "iopub.status.idle": "2022-03-21T03:31:06.565250Z",
     "shell.execute_reply": "2022-03-21T03:31:06.565930Z"
    },
    "papermill": {
     "duration": 0.048192,
     "end_time": "2022-03-21T03:31:06.566115",
     "exception": false,
     "start_time": "2022-03-21T03:31:06.517923",
     "status": "completed"
    },
    "tags": []
   },
   "outputs": [],
   "source": [
    "# # from steves_utils.wisig.utils import (\n",
    "# #     ALL_NODES_MINIMUM_100_EXAMPLES,\n",
    "# #     ALL_NODES_MINIMUM_500_EXAMPLES,\n",
    "# #     ALL_NODES_MINIMUM_1000_EXAMPLES,\n",
    "# #     ALL_DAYS\n",
    "# # )\n",
    "\n",
    "# import steves_utils.wisig.utils as wisig\n",
    "\n",
    "\n",
    "# add_dataset(\n",
    "#     labels=wisig.ALL_NODES_MINIMUM_100_EXAMPLES,\n",
    "#     domains = wisig.ALL_DAYS,\n",
    "#     num_examples_per_domain_per_label=100,\n",
    "#     pickle_path=os.path.join(get_datasets_base_path(), \"wisig.node3-19.stratified_ds.2022A.pkl\"),\n",
    "#     source_or_target_dataset=\"target\",\n",
    "#     x_transform_func=global_x_transform_func,\n",
    "#     domain_modifier=lambda u: f\"wisig_{u}\"\n",
    "# )"
   ]
  },
  {
   "cell_type": "code",
   "execution_count": 19,
   "id": "fd5442bc",
   "metadata": {
    "execution": {
     "iopub.execute_input": "2022-03-21T03:31:06.622929Z",
     "iopub.status.busy": "2022-03-21T03:31:06.622343Z",
     "iopub.status.idle": "2022-03-21T03:31:06.645665Z",
     "shell.execute_reply": "2022-03-21T03:31:06.644950Z"
    },
    "papermill": {
     "duration": 0.053518,
     "end_time": "2022-03-21T03:31:06.645824",
     "exception": false,
     "start_time": "2022-03-21T03:31:06.592306",
     "status": "completed"
    },
    "tags": []
   },
   "outputs": [],
   "source": [
    "###################################\n",
    "# Build the dataset\n",
    "###################################\n",
    "train_original_source = Iterable_Aggregator(train_original_source, p.seed)\n",
    "val_original_source = Iterable_Aggregator(val_original_source, p.seed)\n",
    "test_original_source = Iterable_Aggregator(test_original_source, p.seed)\n",
    "\n",
    "\n",
    "train_original_target = Iterable_Aggregator(train_original_target, p.seed)\n",
    "val_original_target = Iterable_Aggregator(val_original_target, p.seed)\n",
    "test_original_target = Iterable_Aggregator(test_original_target, p.seed)\n",
    "\n",
    "# For CNN We only use X and Y. And we only train on the source.\n",
    "# Properly form the data using a transform lambda and Lazy_Iterable_Wrapper. Finally wrap them in a dataloader\n",
    "\n",
    "transform_lambda = lambda ex: ex[1] # Original is (<domain>, <episode>) so we strip down to episode only\n",
    "\n",
    "train_processed_source = Lazy_Iterable_Wrapper(train_original_source, transform_lambda)\n",
    "val_processed_source   = Lazy_Iterable_Wrapper(val_original_source, transform_lambda)\n",
    "test_processed_source  = Lazy_Iterable_Wrapper(test_original_source, transform_lambda)\n",
    "\n",
    "train_processed_target = Lazy_Iterable_Wrapper(train_original_target, transform_lambda)\n",
    "val_processed_target   = Lazy_Iterable_Wrapper(val_original_target, transform_lambda)\n",
    "test_processed_target  = Lazy_Iterable_Wrapper(test_original_target, transform_lambda)\n",
    "\n",
    "datasets = EasyDict({\n",
    "    \"source\": {\n",
    "        \"original\": {\"train\":train_original_source, \"val\":val_original_source, \"test\":test_original_source},\n",
    "        \"processed\": {\"train\":train_processed_source, \"val\":val_processed_source, \"test\":test_processed_source}\n",
    "    },\n",
    "    \"target\": {\n",
    "        \"original\": {\"train\":train_original_target, \"val\":val_original_target, \"test\":test_original_target},\n",
    "        \"processed\": {\"train\":train_processed_target, \"val\":val_processed_target, \"test\":test_processed_target}\n",
    "    },\n",
    "})"
   ]
  },
  {
   "cell_type": "code",
   "execution_count": 20,
   "id": "5b3c01fc",
   "metadata": {
    "execution": {
     "iopub.execute_input": "2022-03-21T03:31:06.701232Z",
     "iopub.status.busy": "2022-03-21T03:31:06.700637Z",
     "iopub.status.idle": "2022-03-21T03:31:22.502013Z",
     "shell.execute_reply": "2022-03-21T03:31:22.502680Z"
    },
    "papermill": {
     "duration": 15.828553,
     "end_time": "2022-03-21T03:31:22.502910",
     "exception": false,
     "start_time": "2022-03-21T03:31:06.674357",
     "status": "completed"
    },
    "tags": []
   },
   "outputs": [
    {
     "name": "stdout",
     "output_type": "stream",
     "text": [
      "{'ORACLE.run1_50', 'ORACLE.run1_8', 'ORACLE.run1_26', 'ORACLE.run1_14', 'ORACLE.run1_44', 'ORACLE.run1_38', 'ORACLE.run1_20', 'ORACLE.run1_32'}\n"
     ]
    },
    {
     "name": "stdout",
     "output_type": "stream",
     "text": [
      "{'ORACLE.run2_20', 'ORACLE.run2_50', 'ORACLE.run2_26', 'ORACLE.run2_38', 'ORACLE.run2_44', 'ORACLE.run2_32', 'ORACLE.run2_8', 'ORACLE.run2_14'}\n"
     ]
    },
    {
     "name": "stdout",
     "output_type": "stream",
     "text": [
      "tensor([[[-0.0955,  1.1942, -0.1146,  ..., -0.9840, -0.2675, -0.5732],\n",
      "         [-0.6592, -0.3057,  1.0891,  ...,  0.2484, -1.4617, -0.4872]],\n",
      "\n",
      "        [[-0.4662,  0.7090,  0.5730,  ..., -1.3014, -1.2237, -0.1165],\n",
      "         [-1.1752, -0.3302,  1.1558,  ...,  0.4273, -0.1554,  1.2626]],\n",
      "\n",
      "        [[ 0.6763, -0.3671, -0.7922,  ...,  0.8212,  1.4202,  0.3381],\n",
      "         [ 0.8598,  0.7053, -0.9178,  ..., -0.7826,  0.4831, -1.1980]],\n",
      "\n",
      "        ...,\n",
      "\n",
      "        [[ 1.0255, -0.2498, -1.2227,  ...,  0.6639,  1.0255, -0.6771],\n",
      "         [ 0.5785,  0.7428, -0.3878,  ..., -1.0123, -0.6376, -1.1701]],\n",
      "\n",
      "        [[ 0.0260, -1.0137,  0.2924,  ...,  0.9227,  0.4808,  1.0981],\n",
      "         [ 0.8122,  0.4354, -1.1631,  ..., -0.1235,  1.2996, -0.2339]],\n",
      "\n",
      "        [[ 0.4980,  0.3408, -0.7471,  ..., -0.4718,  1.2779,  1.0616],\n",
      "         [-0.4260,  1.1468, -0.0328,  ..., -1.1141, -0.0590, -0.2556]]])\n"
     ]
    }
   ],
   "source": [
    "from steves_utils.transforms import get_average_magnitude, get_average_power\n",
    "\n",
    "print(set([u for u,_ in val_original_source]))\n",
    "print(set([u for u,_ in val_original_target]))\n",
    "\n",
    "s_x, s_y, q_x, q_y, _ = next(iter(train_processed_source))\n",
    "print(s_x)\n",
    "\n",
    "# for ds in [\n",
    "#     train_processed_source,\n",
    "#     val_processed_source,\n",
    "#     test_processed_source,\n",
    "#     train_processed_target,\n",
    "#     val_processed_target,\n",
    "#     test_processed_target\n",
    "# ]:\n",
    "#     for s_x, s_y, q_x, q_y, _ in ds:\n",
    "#         for X in (s_x, q_x):\n",
    "#             for x in X:\n",
    "#                 assert np.isclose(get_average_magnitude(x.numpy()), 1.0)\n",
    "#                 assert np.isclose(get_average_power(x.numpy()), 1.0)\n",
    "                "
   ]
  },
  {
   "cell_type": "code",
   "execution_count": 21,
   "id": "bbdacba1",
   "metadata": {
    "execution": {
     "iopub.execute_input": "2022-03-21T03:31:22.561975Z",
     "iopub.status.busy": "2022-03-21T03:31:22.561412Z",
     "iopub.status.idle": "2022-03-21T03:31:22.771341Z",
     "shell.execute_reply": "2022-03-21T03:31:22.771672Z"
    },
    "papermill": {
     "duration": 0.238514,
     "end_time": "2022-03-21T03:31:22.771795",
     "exception": false,
     "start_time": "2022-03-21T03:31:22.533281",
     "status": "completed"
    },
    "tags": []
   },
   "outputs": [
    {
     "name": "stdout",
     "output_type": "stream",
     "text": [
      "(2, 256)\n"
     ]
    }
   ],
   "source": [
    "###################################\n",
    "# Build the model\n",
    "###################################\n",
    "# easfsl only wants a tuple for the shape\n",
    "model = Steves_Prototypical_Network(x_net, device=p.device, x_shape=tuple(p.x_shape))\n",
    "optimizer = Adam(params=model.parameters(), lr=p.lr)"
   ]
  },
  {
   "cell_type": "code",
   "execution_count": 22,
   "id": "22b39ac5",
   "metadata": {
    "execution": {
     "iopub.execute_input": "2022-03-21T03:31:22.820558Z",
     "iopub.status.busy": "2022-03-21T03:31:22.820098Z",
     "iopub.status.idle": "2022-03-21T04:29:12.098200Z",
     "shell.execute_reply": "2022-03-21T04:29:12.097856Z"
    },
    "papermill": {
     "duration": 3469.303759,
     "end_time": "2022-03-21T04:29:12.098285",
     "exception": false,
     "start_time": "2022-03-21T03:31:22.794526",
     "status": "completed"
    },
    "tags": []
   },
   "outputs": [
    {
     "name": "stdout",
     "output_type": "stream",
     "text": [
      "epoch: 1, [batch: 1 / 6720], examples_per_second: 33.2242, train_label_loss: 2.9752, \n"
     ]
    },
    {
     "name": "stdout",
     "output_type": "stream",
     "text": [
      "epoch: 1, [batch: 672 / 6720], examples_per_second: 3097.7698, train_label_loss: 1.2066, \n"
     ]
    },
    {
     "name": "stdout",
     "output_type": "stream",
     "text": [
      "epoch: 1, [batch: 1344 / 6720], examples_per_second: 3378.9223, train_label_loss: 0.7028, \n"
     ]
    },
    {
     "name": "stdout",
     "output_type": "stream",
     "text": [
      "epoch: 1, [batch: 2016 / 6720], examples_per_second: 3120.8508, train_label_loss: 0.6098, \n"
     ]
    },
    {
     "name": "stdout",
     "output_type": "stream",
     "text": [
      "epoch: 1, [batch: 2688 / 6720], examples_per_second: 2944.5528, train_label_loss: 0.7252, \n"
     ]
    },
    {
     "name": "stdout",
     "output_type": "stream",
     "text": [
      "epoch: 1, [batch: 3360 / 6720], examples_per_second: 3426.8345, train_label_loss: 0.7617, \n"
     ]
    },
    {
     "name": "stdout",
     "output_type": "stream",
     "text": [
      "epoch: 1, [batch: 4032 / 6720], examples_per_second: 3496.2147, train_label_loss: 0.5823, \n"
     ]
    },
    {
     "name": "stdout",
     "output_type": "stream",
     "text": [
      "epoch: 1, [batch: 4704 / 6720], examples_per_second: 3228.4346, train_label_loss: 0.3169, \n"
     ]
    },
    {
     "name": "stdout",
     "output_type": "stream",
     "text": [
      "epoch: 1, [batch: 5376 / 6720], examples_per_second: 2995.9251, train_label_loss: 0.7134, \n"
     ]
    },
    {
     "name": "stdout",
     "output_type": "stream",
     "text": [
      "epoch: 1, [batch: 6048 / 6720], examples_per_second: 2613.5108, train_label_loss: 0.4008, \n"
     ]
    },
    {
     "name": "stdout",
     "output_type": "stream",
     "text": [
      "=============================================================\n",
      "epoch: 1, source_val_acc_label: 0.6384, target_val_acc_label: 0.6283, source_val_label_loss: 50.2479, target_val_label_loss: 50.2380, \n",
      "=============================================================\n"
     ]
    },
    {
     "name": "stdout",
     "output_type": "stream",
     "text": [
      "New best\n"
     ]
    },
    {
     "name": "stdout",
     "output_type": "stream",
     "text": [
      "epoch: 2, [batch: 1 / 6720], examples_per_second: 2.1892, train_label_loss: 71.1804, \n"
     ]
    },
    {
     "name": "stdout",
     "output_type": "stream",
     "text": [
      "epoch: 2, [batch: 672 / 6720], examples_per_second: 2694.9222, train_label_loss: 0.4903, \n"
     ]
    },
    {
     "name": "stdout",
     "output_type": "stream",
     "text": [
      "epoch: 2, [batch: 1344 / 6720], examples_per_second: 2653.6277, train_label_loss: 0.3579, \n"
     ]
    },
    {
     "name": "stdout",
     "output_type": "stream",
     "text": [
      "epoch: 2, [batch: 2016 / 6720], examples_per_second: 2661.4710, train_label_loss: 1.0303, \n"
     ]
    },
    {
     "name": "stdout",
     "output_type": "stream",
     "text": [
      "epoch: 2, [batch: 2688 / 6720], examples_per_second: 2918.7015, train_label_loss: 0.8005, \n"
     ]
    },
    {
     "name": "stdout",
     "output_type": "stream",
     "text": [
      "epoch: 2, [batch: 3360 / 6720], examples_per_second: 3032.3531, train_label_loss: 0.3773, \n"
     ]
    },
    {
     "name": "stdout",
     "output_type": "stream",
     "text": [
      "epoch: 2, [batch: 4032 / 6720], examples_per_second: 3411.3573, train_label_loss: 0.9030, \n"
     ]
    },
    {
     "name": "stdout",
     "output_type": "stream",
     "text": [
      "epoch: 2, [batch: 4704 / 6720], examples_per_second: 3278.9093, train_label_loss: 0.5715, \n"
     ]
    },
    {
     "name": "stdout",
     "output_type": "stream",
     "text": [
      "epoch: 2, [batch: 5376 / 6720], examples_per_second: 2902.1191, train_label_loss: 0.6734, \n"
     ]
    },
    {
     "name": "stdout",
     "output_type": "stream",
     "text": [
      "epoch: 2, [batch: 6048 / 6720], examples_per_second: 2626.9182, train_label_loss: 0.4504, \n"
     ]
    },
    {
     "name": "stdout",
     "output_type": "stream",
     "text": [
      "=============================================================\n",
      "epoch: 2, source_val_acc_label: 0.8188, target_val_acc_label: 0.8089, source_val_label_loss: 0.5055, target_val_label_loss: 0.5588, \n",
      "=============================================================\n"
     ]
    },
    {
     "name": "stdout",
     "output_type": "stream",
     "text": [
      "New best\n"
     ]
    },
    {
     "name": "stdout",
     "output_type": "stream",
     "text": [
      "epoch: 3, [batch: 1 / 6720], examples_per_second: 2.4295, train_label_loss: 0.6363, \n"
     ]
    },
    {
     "name": "stdout",
     "output_type": "stream",
     "text": [
      "epoch: 3, [batch: 672 / 6720], examples_per_second: 2764.4189, train_label_loss: 0.1827, \n"
     ]
    },
    {
     "name": "stdout",
     "output_type": "stream",
     "text": [
      "epoch: 3, [batch: 1344 / 6720], examples_per_second: 3004.1779, train_label_loss: 0.4586, \n"
     ]
    },
    {
     "name": "stdout",
     "output_type": "stream",
     "text": [
      "epoch: 3, [batch: 2016 / 6720], examples_per_second: 2946.7593, train_label_loss: 0.2593, \n"
     ]
    },
    {
     "name": "stdout",
     "output_type": "stream",
     "text": [
      "epoch: 3, [batch: 2688 / 6720], examples_per_second: 3028.7825, train_label_loss: 0.4283, \n"
     ]
    },
    {
     "name": "stdout",
     "output_type": "stream",
     "text": [
      "epoch: 3, [batch: 3360 / 6720], examples_per_second: 3380.0372, train_label_loss: 0.9415, \n"
     ]
    },
    {
     "name": "stdout",
     "output_type": "stream",
     "text": [
      "epoch: 3, [batch: 4032 / 6720], examples_per_second: 3341.8799, train_label_loss: 0.6835, \n"
     ]
    },
    {
     "name": "stdout",
     "output_type": "stream",
     "text": [
      "epoch: 3, [batch: 4704 / 6720], examples_per_second: 3393.9941, train_label_loss: 0.2133, \n"
     ]
    },
    {
     "name": "stdout",
     "output_type": "stream",
     "text": [
      "epoch: 3, [batch: 5376 / 6720], examples_per_second: 3759.8919, train_label_loss: 0.3164, \n"
     ]
    },
    {
     "name": "stdout",
     "output_type": "stream",
     "text": [
      "epoch: 3, [batch: 6048 / 6720], examples_per_second: 4042.6674, train_label_loss: 0.0990, \n"
     ]
    },
    {
     "name": "stdout",
     "output_type": "stream",
     "text": [
      "=============================================================\n",
      "epoch: 3, source_val_acc_label: 0.8543, target_val_acc_label: 0.8450, source_val_label_loss: 0.4060, target_val_label_loss: 0.4724, \n",
      "=============================================================\n"
     ]
    },
    {
     "name": "stdout",
     "output_type": "stream",
     "text": [
      "New best\n"
     ]
    },
    {
     "name": "stdout",
     "output_type": "stream",
     "text": [
      "epoch: 4, [batch: 1 / 6720], examples_per_second: 3.0201, train_label_loss: 0.1271, \n"
     ]
    },
    {
     "name": "stdout",
     "output_type": "stream",
     "text": [
      "epoch: 4, [batch: 672 / 6720], examples_per_second: 3860.6943, train_label_loss: 0.1536, \n"
     ]
    },
    {
     "name": "stdout",
     "output_type": "stream",
     "text": [
      "epoch: 4, [batch: 1344 / 6720], examples_per_second: 2881.3112, train_label_loss: 0.8748, \n"
     ]
    },
    {
     "name": "stdout",
     "output_type": "stream",
     "text": [
      "epoch: 4, [batch: 2016 / 6720], examples_per_second: 2846.6036, train_label_loss: 0.5233, \n"
     ]
    },
    {
     "name": "stdout",
     "output_type": "stream",
     "text": [
      "epoch: 4, [batch: 2688 / 6720], examples_per_second: 2936.8414, train_label_loss: 0.4475, \n"
     ]
    },
    {
     "name": "stdout",
     "output_type": "stream",
     "text": [
      "epoch: 4, [batch: 3360 / 6720], examples_per_second: 3207.5941, train_label_loss: 0.2698, \n"
     ]
    },
    {
     "name": "stdout",
     "output_type": "stream",
     "text": [
      "epoch: 4, [batch: 4032 / 6720], examples_per_second: 2636.6033, train_label_loss: 0.5863, \n"
     ]
    },
    {
     "name": "stdout",
     "output_type": "stream",
     "text": [
      "epoch: 4, [batch: 4704 / 6720], examples_per_second: 2306.5532, train_label_loss: 0.4775, \n"
     ]
    },
    {
     "name": "stdout",
     "output_type": "stream",
     "text": [
      "epoch: 4, [batch: 5376 / 6720], examples_per_second: 2287.4558, train_label_loss: 0.2324, \n"
     ]
    },
    {
     "name": "stdout",
     "output_type": "stream",
     "text": [
      "epoch: 4, [batch: 6048 / 6720], examples_per_second: 2550.6828, train_label_loss: 0.3597, \n"
     ]
    },
    {
     "name": "stdout",
     "output_type": "stream",
     "text": [
      "=============================================================\n",
      "epoch: 4, source_val_acc_label: 0.8443, target_val_acc_label: 0.8263, source_val_label_loss: 0.4247, target_val_label_loss: 0.5090, \n",
      "=============================================================\n"
     ]
    },
    {
     "name": "stdout",
     "output_type": "stream",
     "text": [
      "epoch: 5, [batch: 1 / 6720], examples_per_second: 2.6048, train_label_loss: 0.0885, \n"
     ]
    },
    {
     "name": "stdout",
     "output_type": "stream",
     "text": [
      "epoch: 5, [batch: 672 / 6720], examples_per_second: 3293.5491, train_label_loss: 0.1943, \n"
     ]
    },
    {
     "name": "stdout",
     "output_type": "stream",
     "text": [
      "epoch: 5, [batch: 1344 / 6720], examples_per_second: 3379.5962, train_label_loss: 0.4985, \n"
     ]
    },
    {
     "name": "stdout",
     "output_type": "stream",
     "text": [
      "epoch: 5, [batch: 2016 / 6720], examples_per_second: 3411.7422, train_label_loss: 0.6764, \n"
     ]
    },
    {
     "name": "stdout",
     "output_type": "stream",
     "text": [
      "epoch: 5, [batch: 2688 / 6720], examples_per_second: 3648.9222, train_label_loss: 0.3034, \n"
     ]
    },
    {
     "name": "stdout",
     "output_type": "stream",
     "text": [
      "epoch: 5, [batch: 3360 / 6720], examples_per_second: 3031.9207, train_label_loss: 0.1060, \n"
     ]
    },
    {
     "name": "stdout",
     "output_type": "stream",
     "text": [
      "epoch: 5, [batch: 4032 / 6720], examples_per_second: 2472.0358, train_label_loss: 0.1997, \n"
     ]
    },
    {
     "name": "stdout",
     "output_type": "stream",
     "text": [
      "epoch: 5, [batch: 4704 / 6720], examples_per_second: 2303.8226, train_label_loss: 0.1060, \n"
     ]
    },
    {
     "name": "stdout",
     "output_type": "stream",
     "text": [
      "epoch: 5, [batch: 5376 / 6720], examples_per_second: 2333.5073, train_label_loss: 0.5855, \n"
     ]
    },
    {
     "name": "stdout",
     "output_type": "stream",
     "text": [
      "epoch: 5, [batch: 6048 / 6720], examples_per_second: 2592.2627, train_label_loss: 0.3096, \n"
     ]
    },
    {
     "name": "stdout",
     "output_type": "stream",
     "text": [
      "=============================================================\n",
      "epoch: 5, source_val_acc_label: 0.8573, target_val_acc_label: 0.8435, source_val_label_loss: 0.4001, target_val_label_loss: 0.4927, \n",
      "=============================================================\n"
     ]
    },
    {
     "name": "stdout",
     "output_type": "stream",
     "text": [
      "epoch: 6, [batch: 1 / 6720], examples_per_second: 1.9974, train_label_loss: 0.2942, \n"
     ]
    },
    {
     "name": "stdout",
     "output_type": "stream",
     "text": [
      "epoch: 6, [batch: 672 / 6720], examples_per_second: 2460.5885, train_label_loss: 0.6309, \n"
     ]
    },
    {
     "name": "stdout",
     "output_type": "stream",
     "text": [
      "epoch: 6, [batch: 1344 / 6720], examples_per_second: 2581.5139, train_label_loss: 0.4930, \n"
     ]
    },
    {
     "name": "stdout",
     "output_type": "stream",
     "text": [
      "epoch: 6, [batch: 2016 / 6720], examples_per_second: 2645.8137, train_label_loss: 0.1450, \n"
     ]
    },
    {
     "name": "stdout",
     "output_type": "stream",
     "text": [
      "epoch: 6, [batch: 2688 / 6720], examples_per_second: 2787.2038, train_label_loss: 0.1076, \n"
     ]
    },
    {
     "name": "stdout",
     "output_type": "stream",
     "text": [
      "epoch: 6, [batch: 3360 / 6720], examples_per_second: 3246.7372, train_label_loss: 0.1274, \n"
     ]
    },
    {
     "name": "stdout",
     "output_type": "stream",
     "text": [
      "epoch: 6, [batch: 4032 / 6720], examples_per_second: 3142.8293, train_label_loss: 0.4782, \n"
     ]
    },
    {
     "name": "stdout",
     "output_type": "stream",
     "text": [
      "epoch: 6, [batch: 4704 / 6720], examples_per_second: 2895.2265, train_label_loss: 0.2840, \n"
     ]
    },
    {
     "name": "stdout",
     "output_type": "stream",
     "text": [
      "epoch: 6, [batch: 5376 / 6720], examples_per_second: 3403.8106, train_label_loss: 0.3669, \n"
     ]
    },
    {
     "name": "stdout",
     "output_type": "stream",
     "text": [
      "epoch: 6, [batch: 6048 / 6720], examples_per_second: 3145.3435, train_label_loss: 0.1377, \n"
     ]
    },
    {
     "name": "stdout",
     "output_type": "stream",
     "text": [
      "=============================================================\n",
      "epoch: 6, source_val_acc_label: 0.8843, target_val_acc_label: 0.8657, source_val_label_loss: 0.3239, target_val_label_loss: 0.4153, \n",
      "=============================================================\n"
     ]
    },
    {
     "name": "stdout",
     "output_type": "stream",
     "text": [
      "New best\n"
     ]
    },
    {
     "name": "stdout",
     "output_type": "stream",
     "text": [
      "epoch: 7, [batch: 1 / 6720], examples_per_second: 2.1017, train_label_loss: 0.0688, \n"
     ]
    },
    {
     "name": "stdout",
     "output_type": "stream",
     "text": [
      "epoch: 7, [batch: 672 / 6720], examples_per_second: 2443.2292, train_label_loss: 0.4461, \n"
     ]
    },
    {
     "name": "stdout",
     "output_type": "stream",
     "text": [
      "epoch: 7, [batch: 1344 / 6720], examples_per_second: 2576.7472, train_label_loss: 0.1728, \n"
     ]
    },
    {
     "name": "stdout",
     "output_type": "stream",
     "text": [
      "epoch: 7, [batch: 2016 / 6720], examples_per_second: 2442.1515, train_label_loss: 0.3303, \n"
     ]
    },
    {
     "name": "stdout",
     "output_type": "stream",
     "text": [
      "epoch: 7, [batch: 2688 / 6720], examples_per_second: 2598.5250, train_label_loss: 0.4765, \n"
     ]
    },
    {
     "name": "stdout",
     "output_type": "stream",
     "text": [
      "epoch: 7, [batch: 3360 / 6720], examples_per_second: 2591.2822, train_label_loss: 0.6996, \n"
     ]
    },
    {
     "name": "stdout",
     "output_type": "stream",
     "text": [
      "epoch: 7, [batch: 4032 / 6720], examples_per_second: 3200.9043, train_label_loss: 0.1322, \n"
     ]
    },
    {
     "name": "stdout",
     "output_type": "stream",
     "text": [
      "epoch: 7, [batch: 4704 / 6720], examples_per_second: 2685.5083, train_label_loss: 0.2001, \n"
     ]
    },
    {
     "name": "stdout",
     "output_type": "stream",
     "text": [
      "epoch: 7, [batch: 5376 / 6720], examples_per_second: 2598.5187, train_label_loss: 0.2023, \n"
     ]
    },
    {
     "name": "stdout",
     "output_type": "stream",
     "text": [
      "epoch: 7, [batch: 6048 / 6720], examples_per_second: 2570.4065, train_label_loss: 0.1613, \n"
     ]
    },
    {
     "name": "stdout",
     "output_type": "stream",
     "text": [
      "=============================================================\n",
      "epoch: 7, source_val_acc_label: 0.8799, target_val_acc_label: 0.8600, source_val_label_loss: 0.3302, target_val_label_loss: 0.4444, \n",
      "=============================================================\n"
     ]
    },
    {
     "name": "stdout",
     "output_type": "stream",
     "text": [
      "epoch: 8, [batch: 1 / 6720], examples_per_second: 2.6152, train_label_loss: 0.3750, \n"
     ]
    },
    {
     "name": "stdout",
     "output_type": "stream",
     "text": [
      "epoch: 8, [batch: 672 / 6720], examples_per_second: 3001.5209, train_label_loss: 0.5207, \n"
     ]
    },
    {
     "name": "stdout",
     "output_type": "stream",
     "text": [
      "epoch: 8, [batch: 1344 / 6720], examples_per_second: 2987.4508, train_label_loss: 0.3621, \n"
     ]
    },
    {
     "name": "stdout",
     "output_type": "stream",
     "text": [
      "epoch: 8, [batch: 2016 / 6720], examples_per_second: 3019.1744, train_label_loss: 0.0820, \n"
     ]
    },
    {
     "name": "stdout",
     "output_type": "stream",
     "text": [
      "epoch: 8, [batch: 2688 / 6720], examples_per_second: 3395.6909, train_label_loss: 0.0524, \n"
     ]
    },
    {
     "name": "stdout",
     "output_type": "stream",
     "text": [
      "epoch: 8, [batch: 3360 / 6720], examples_per_second: 3330.2058, train_label_loss: 0.3420, \n"
     ]
    },
    {
     "name": "stdout",
     "output_type": "stream",
     "text": [
      "epoch: 8, [batch: 4032 / 6720], examples_per_second: 2510.9584, train_label_loss: 0.4997, \n"
     ]
    },
    {
     "name": "stdout",
     "output_type": "stream",
     "text": [
      "epoch: 8, [batch: 4704 / 6720], examples_per_second: 2483.4578, train_label_loss: 0.3127, \n"
     ]
    },
    {
     "name": "stdout",
     "output_type": "stream",
     "text": [
      "epoch: 8, [batch: 5376 / 6720], examples_per_second: 2358.8012, train_label_loss: 0.2214, \n"
     ]
    },
    {
     "name": "stdout",
     "output_type": "stream",
     "text": [
      "epoch: 8, [batch: 6048 / 6720], examples_per_second: 2448.2126, train_label_loss: 0.1730, \n"
     ]
    },
    {
     "name": "stdout",
     "output_type": "stream",
     "text": [
      "=============================================================\n",
      "epoch: 8, source_val_acc_label: 0.8988, target_val_acc_label: 0.8743, source_val_label_loss: 0.2875, target_val_label_loss: 0.4095, \n",
      "=============================================================\n"
     ]
    },
    {
     "name": "stdout",
     "output_type": "stream",
     "text": [
      "New best\n"
     ]
    },
    {
     "name": "stdout",
     "output_type": "stream",
     "text": [
      "epoch: 9, [batch: 1 / 6720], examples_per_second: 2.4719, train_label_loss: 0.1154, \n"
     ]
    },
    {
     "name": "stdout",
     "output_type": "stream",
     "text": [
      "epoch: 9, [batch: 672 / 6720], examples_per_second: 2878.0485, train_label_loss: 0.4663, \n"
     ]
    },
    {
     "name": "stdout",
     "output_type": "stream",
     "text": [
      "epoch: 9, [batch: 1344 / 6720], examples_per_second: 3137.5794, train_label_loss: 0.3485, \n"
     ]
    },
    {
     "name": "stdout",
     "output_type": "stream",
     "text": [
      "epoch: 9, [batch: 2016 / 6720], examples_per_second: 3396.8909, train_label_loss: 0.2276, \n"
     ]
    },
    {
     "name": "stdout",
     "output_type": "stream",
     "text": [
      "epoch: 9, [batch: 2688 / 6720], examples_per_second: 4028.8836, train_label_loss: 0.1392, \n"
     ]
    },
    {
     "name": "stdout",
     "output_type": "stream",
     "text": [
      "epoch: 9, [batch: 3360 / 6720], examples_per_second: 3524.6560, train_label_loss: 0.4642, \n"
     ]
    },
    {
     "name": "stdout",
     "output_type": "stream",
     "text": [
      "epoch: 9, [batch: 4032 / 6720], examples_per_second: 3036.7892, train_label_loss: 0.4059, \n"
     ]
    },
    {
     "name": "stdout",
     "output_type": "stream",
     "text": [
      "epoch: 9, [batch: 4704 / 6720], examples_per_second: 2519.9138, train_label_loss: 0.1852, \n"
     ]
    },
    {
     "name": "stdout",
     "output_type": "stream",
     "text": [
      "epoch: 9, [batch: 5376 / 6720], examples_per_second: 2343.6678, train_label_loss: 0.2340, \n"
     ]
    },
    {
     "name": "stdout",
     "output_type": "stream",
     "text": [
      "epoch: 9, [batch: 6048 / 6720], examples_per_second: 2548.4032, train_label_loss: 0.0413, \n"
     ]
    },
    {
     "name": "stdout",
     "output_type": "stream",
     "text": [
      "=============================================================\n",
      "epoch: 9, source_val_acc_label: 0.8964, target_val_acc_label: 0.8735, source_val_label_loss: 0.2851, target_val_label_loss: 0.5186, \n",
      "=============================================================\n"
     ]
    },
    {
     "name": "stdout",
     "output_type": "stream",
     "text": [
      "epoch: 10, [batch: 1 / 6720], examples_per_second: 2.1201, train_label_loss: 0.2146, \n"
     ]
    },
    {
     "name": "stdout",
     "output_type": "stream",
     "text": [
      "epoch: 10, [batch: 672 / 6720], examples_per_second: 2755.9091, train_label_loss: 0.1784, \n"
     ]
    },
    {
     "name": "stdout",
     "output_type": "stream",
     "text": [
      "epoch: 10, [batch: 1344 / 6720], examples_per_second: 3020.3430, train_label_loss: 0.3466, \n"
     ]
    },
    {
     "name": "stdout",
     "output_type": "stream",
     "text": [
      "epoch: 10, [batch: 2016 / 6720], examples_per_second: 3126.0273, train_label_loss: 0.1848, \n"
     ]
    },
    {
     "name": "stdout",
     "output_type": "stream",
     "text": [
      "epoch: 10, [batch: 2688 / 6720], examples_per_second: 3687.6064, train_label_loss: 0.1495, \n"
     ]
    },
    {
     "name": "stdout",
     "output_type": "stream",
     "text": [
      "epoch: 10, [batch: 3360 / 6720], examples_per_second: 3912.7030, train_label_loss: 0.1266, \n"
     ]
    },
    {
     "name": "stdout",
     "output_type": "stream",
     "text": [
      "epoch: 10, [batch: 4032 / 6720], examples_per_second: 3042.1191, train_label_loss: 0.1649, \n"
     ]
    },
    {
     "name": "stdout",
     "output_type": "stream",
     "text": [
      "epoch: 10, [batch: 4704 / 6720], examples_per_second: 2555.1255, train_label_loss: 0.2186, \n"
     ]
    },
    {
     "name": "stdout",
     "output_type": "stream",
     "text": [
      "epoch: 10, [batch: 5376 / 6720], examples_per_second: 2966.7696, train_label_loss: 0.2701, \n"
     ]
    },
    {
     "name": "stdout",
     "output_type": "stream",
     "text": [
      "epoch: 10, [batch: 6048 / 6720], examples_per_second: 2588.5158, train_label_loss: 0.0288, \n"
     ]
    },
    {
     "name": "stdout",
     "output_type": "stream",
     "text": [
      "=============================================================\n",
      "epoch: 10, source_val_acc_label: 0.9042, target_val_acc_label: 0.8771, source_val_label_loss: 0.2739, target_val_label_loss: 0.6228, \n",
      "=============================================================\n"
     ]
    },
    {
     "name": "stdout",
     "output_type": "stream",
     "text": [
      "New best\n"
     ]
    },
    {
     "name": "stdout",
     "output_type": "stream",
     "text": [
      "epoch: 11, [batch: 1 / 6720], examples_per_second: 2.4433, train_label_loss: 0.2505, \n"
     ]
    },
    {
     "name": "stdout",
     "output_type": "stream",
     "text": [
      "epoch: 11, [batch: 672 / 6720], examples_per_second: 2950.8238, train_label_loss: 0.1494, \n"
     ]
    },
    {
     "name": "stdout",
     "output_type": "stream",
     "text": [
      "epoch: 11, [batch: 1344 / 6720], examples_per_second: 3052.7042, train_label_loss: 0.3285, \n"
     ]
    },
    {
     "name": "stdout",
     "output_type": "stream",
     "text": [
      "epoch: 11, [batch: 2016 / 6720], examples_per_second: 3619.9055, train_label_loss: 0.1583, \n"
     ]
    },
    {
     "name": "stdout",
     "output_type": "stream",
     "text": [
      "epoch: 11, [batch: 2688 / 6720], examples_per_second: 3758.7743, train_label_loss: 0.6379, \n"
     ]
    },
    {
     "name": "stdout",
     "output_type": "stream",
     "text": [
      "epoch: 11, [batch: 3360 / 6720], examples_per_second: 3733.7921, train_label_loss: 0.2736, \n"
     ]
    },
    {
     "name": "stdout",
     "output_type": "stream",
     "text": [
      "epoch: 11, [batch: 4032 / 6720], examples_per_second: 3319.2388, train_label_loss: 0.1702, \n"
     ]
    },
    {
     "name": "stdout",
     "output_type": "stream",
     "text": [
      "epoch: 11, [batch: 4704 / 6720], examples_per_second: 3313.6897, train_label_loss: 0.0143, \n"
     ]
    },
    {
     "name": "stdout",
     "output_type": "stream",
     "text": [
      "epoch: 11, [batch: 5376 / 6720], examples_per_second: 2736.0991, train_label_loss: 0.2233, \n"
     ]
    },
    {
     "name": "stdout",
     "output_type": "stream",
     "text": [
      "epoch: 11, [batch: 6048 / 6720], examples_per_second: 2552.1058, train_label_loss: 0.1316, \n"
     ]
    },
    {
     "name": "stdout",
     "output_type": "stream",
     "text": [
      "=============================================================\n",
      "epoch: 11, source_val_acc_label: 0.9058, target_val_acc_label: 0.8816, source_val_label_loss: 0.2690, target_val_label_loss: 0.8750, \n",
      "=============================================================\n"
     ]
    },
    {
     "name": "stdout",
     "output_type": "stream",
     "text": [
      "New best\n"
     ]
    },
    {
     "name": "stdout",
     "output_type": "stream",
     "text": [
      "epoch: 12, [batch: 1 / 6720], examples_per_second: 2.3697, train_label_loss: 0.3221, \n"
     ]
    },
    {
     "name": "stdout",
     "output_type": "stream",
     "text": [
      "epoch: 12, [batch: 672 / 6720], examples_per_second: 2548.2186, train_label_loss: 0.4055, \n"
     ]
    },
    {
     "name": "stdout",
     "output_type": "stream",
     "text": [
      "epoch: 12, [batch: 1344 / 6720], examples_per_second: 2581.1470, train_label_loss: 0.0777, \n"
     ]
    },
    {
     "name": "stdout",
     "output_type": "stream",
     "text": [
      "epoch: 12, [batch: 2016 / 6720], examples_per_second: 2950.8975, train_label_loss: 0.2966, \n"
     ]
    },
    {
     "name": "stdout",
     "output_type": "stream",
     "text": [
      "epoch: 12, [batch: 2688 / 6720], examples_per_second: 3137.9621, train_label_loss: 0.0502, \n"
     ]
    },
    {
     "name": "stdout",
     "output_type": "stream",
     "text": [
      "epoch: 12, [batch: 3360 / 6720], examples_per_second: 2812.8619, train_label_loss: 0.1908, \n"
     ]
    },
    {
     "name": "stdout",
     "output_type": "stream",
     "text": [
      "epoch: 12, [batch: 4032 / 6720], examples_per_second: 2585.8834, train_label_loss: 0.1537, \n"
     ]
    },
    {
     "name": "stdout",
     "output_type": "stream",
     "text": [
      "epoch: 12, [batch: 4704 / 6720], examples_per_second: 2553.5476, train_label_loss: 0.0937, \n"
     ]
    },
    {
     "name": "stdout",
     "output_type": "stream",
     "text": [
      "epoch: 12, [batch: 5376 / 6720], examples_per_second: 2868.4686, train_label_loss: 0.0386, \n"
     ]
    },
    {
     "name": "stdout",
     "output_type": "stream",
     "text": [
      "epoch: 12, [batch: 6048 / 6720], examples_per_second: 3293.7110, train_label_loss: 0.1455, \n"
     ]
    },
    {
     "name": "stdout",
     "output_type": "stream",
     "text": [
      "=============================================================\n",
      "epoch: 12, source_val_acc_label: 0.9049, target_val_acc_label: 0.8790, source_val_label_loss: 0.2702, target_val_label_loss: 1.0058, \n",
      "=============================================================\n"
     ]
    },
    {
     "name": "stdout",
     "output_type": "stream",
     "text": [
      "epoch: 13, [batch: 1 / 6720], examples_per_second: 3.6764, train_label_loss: 0.3652, \n"
     ]
    },
    {
     "name": "stdout",
     "output_type": "stream",
     "text": [
      "epoch: 13, [batch: 672 / 6720], examples_per_second: 3916.7723, train_label_loss: 0.2264, \n"
     ]
    },
    {
     "name": "stdout",
     "output_type": "stream",
     "text": [
      "epoch: 13, [batch: 1344 / 6720], examples_per_second: 4015.1432, train_label_loss: 0.0880, \n"
     ]
    },
    {
     "name": "stdout",
     "output_type": "stream",
     "text": [
      "epoch: 13, [batch: 2016 / 6720], examples_per_second: 4071.4602, train_label_loss: 0.1914, \n"
     ]
    },
    {
     "name": "stdout",
     "output_type": "stream",
     "text": [
      "epoch: 13, [batch: 2688 / 6720], examples_per_second: 4374.0927, train_label_loss: 0.0181, \n"
     ]
    },
    {
     "name": "stdout",
     "output_type": "stream",
     "text": [
      "epoch: 13, [batch: 3360 / 6720], examples_per_second: 3293.3813, train_label_loss: 0.1608, \n"
     ]
    },
    {
     "name": "stdout",
     "output_type": "stream",
     "text": [
      "epoch: 13, [batch: 4032 / 6720], examples_per_second: 2822.6625, train_label_loss: 0.2439, \n"
     ]
    },
    {
     "name": "stdout",
     "output_type": "stream",
     "text": [
      "epoch: 13, [batch: 4704 / 6720], examples_per_second: 2912.9143, train_label_loss: 0.0105, \n"
     ]
    },
    {
     "name": "stdout",
     "output_type": "stream",
     "text": [
      "epoch: 13, [batch: 5376 / 6720], examples_per_second: 3178.6546, train_label_loss: 0.0583, \n"
     ]
    },
    {
     "name": "stdout",
     "output_type": "stream",
     "text": [
      "epoch: 13, [batch: 6048 / 6720], examples_per_second: 3059.4454, train_label_loss: 0.0723, \n"
     ]
    },
    {
     "name": "stdout",
     "output_type": "stream",
     "text": [
      "=============================================================\n",
      "epoch: 13, source_val_acc_label: 0.9057, target_val_acc_label: 0.8775, source_val_label_loss: 0.2696, target_val_label_loss: 0.7549, \n",
      "=============================================================\n"
     ]
    },
    {
     "name": "stdout",
     "output_type": "stream",
     "text": [
      "epoch: 14, [batch: 1 / 6720], examples_per_second: 2.7744, train_label_loss: 0.2030, \n"
     ]
    },
    {
     "name": "stdout",
     "output_type": "stream",
     "text": [
      "epoch: 14, [batch: 672 / 6720], examples_per_second: 2842.7943, train_label_loss: 0.2666, \n"
     ]
    },
    {
     "name": "stdout",
     "output_type": "stream",
     "text": [
      "epoch: 14, [batch: 1344 / 6720], examples_per_second: 2832.9563, train_label_loss: 0.1091, \n"
     ]
    },
    {
     "name": "stdout",
     "output_type": "stream",
     "text": [
      "epoch: 14, [batch: 2016 / 6720], examples_per_second: 3243.9694, train_label_loss: 0.0401, \n"
     ]
    },
    {
     "name": "stdout",
     "output_type": "stream",
     "text": [
      "epoch: 14, [batch: 2688 / 6720], examples_per_second: 3826.7001, train_label_loss: 0.0235, \n"
     ]
    },
    {
     "name": "stdout",
     "output_type": "stream",
     "text": [
      "epoch: 14, [batch: 3360 / 6720], examples_per_second: 2747.9522, train_label_loss: 0.1153, \n"
     ]
    },
    {
     "name": "stdout",
     "output_type": "stream",
     "text": [
      "epoch: 14, [batch: 4032 / 6720], examples_per_second: 2575.7416, train_label_loss: 0.3584, \n"
     ]
    },
    {
     "name": "stdout",
     "output_type": "stream",
     "text": [
      "epoch: 14, [batch: 4704 / 6720], examples_per_second: 2954.4839, train_label_loss: 0.1364, \n"
     ]
    },
    {
     "name": "stdout",
     "output_type": "stream",
     "text": [
      "epoch: 14, [batch: 5376 / 6720], examples_per_second: 2884.8659, train_label_loss: 0.0707, \n"
     ]
    },
    {
     "name": "stdout",
     "output_type": "stream",
     "text": [
      "epoch: 14, [batch: 6048 / 6720], examples_per_second: 2504.8336, train_label_loss: 0.0500, \n"
     ]
    },
    {
     "name": "stdout",
     "output_type": "stream",
     "text": [
      "=============================================================\n",
      "epoch: 14, source_val_acc_label: 0.9074, target_val_acc_label: 0.8761, source_val_label_loss: 0.2642, target_val_label_loss: 0.9156, \n",
      "=============================================================\n"
     ]
    },
    {
     "name": "stdout",
     "output_type": "stream",
     "text": [
      "epoch: 15, [batch: 1 / 6720], examples_per_second: 2.0147, train_label_loss: 0.1670, \n"
     ]
    },
    {
     "name": "stdout",
     "output_type": "stream",
     "text": [
      "epoch: 15, [batch: 672 / 6720], examples_per_second: 2484.7747, train_label_loss: 0.0348, \n"
     ]
    },
    {
     "name": "stdout",
     "output_type": "stream",
     "text": [
      "epoch: 15, [batch: 1344 / 6720], examples_per_second: 2779.9326, train_label_loss: 0.1601, \n"
     ]
    },
    {
     "name": "stdout",
     "output_type": "stream",
     "text": [
      "epoch: 15, [batch: 2016 / 6720], examples_per_second: 2811.4881, train_label_loss: 0.1733, \n"
     ]
    },
    {
     "name": "stdout",
     "output_type": "stream",
     "text": [
      "epoch: 15, [batch: 2688 / 6720], examples_per_second: 3010.2602, train_label_loss: 0.1750, \n"
     ]
    },
    {
     "name": "stdout",
     "output_type": "stream",
     "text": [
      "epoch: 15, [batch: 3360 / 6720], examples_per_second: 2897.1857, train_label_loss: 0.0754, \n"
     ]
    },
    {
     "name": "stdout",
     "output_type": "stream",
     "text": [
      "epoch: 15, [batch: 4032 / 6720], examples_per_second: 2547.1061, train_label_loss: 0.1930, \n"
     ]
    },
    {
     "name": "stdout",
     "output_type": "stream",
     "text": [
      "epoch: 15, [batch: 4704 / 6720], examples_per_second: 2568.4240, train_label_loss: 0.0986, \n"
     ]
    },
    {
     "name": "stdout",
     "output_type": "stream",
     "text": [
      "epoch: 15, [batch: 5376 / 6720], examples_per_second: 2630.1797, train_label_loss: 0.0685, \n"
     ]
    },
    {
     "name": "stdout",
     "output_type": "stream",
     "text": [
      "epoch: 15, [batch: 6048 / 6720], examples_per_second: 2559.3594, train_label_loss: 0.0738, \n"
     ]
    },
    {
     "name": "stdout",
     "output_type": "stream",
     "text": [
      "=============================================================\n",
      "epoch: 15, source_val_acc_label: 0.9003, target_val_acc_label: 0.8688, source_val_label_loss: 0.2887, target_val_label_loss: 1.6377, \n",
      "=============================================================\n"
     ]
    },
    {
     "name": "stdout",
     "output_type": "stream",
     "text": [
      "Patience (3) exhausted\n"
     ]
    }
   ],
   "source": [
    "###################################\n",
    "# train\n",
    "###################################\n",
    "jig = PTN_Train_Eval_Test_Jig(model, p.BEST_MODEL_PATH, p.device)\n",
    "\n",
    "jig.train(\n",
    "    train_iterable=datasets.source.processed.train,\n",
    "    source_val_iterable=datasets.source.processed.val,\n",
    "    target_val_iterable=datasets.target.processed.val,\n",
    "    num_epochs=p.n_epoch,\n",
    "    num_logs_per_epoch=p.NUM_LOGS_PER_EPOCH,\n",
    "    patience=p.patience,\n",
    "    optimizer=optimizer,\n",
    "    criteria_for_best=p.criteria_for_best,\n",
    ")"
   ]
  },
  {
   "cell_type": "code",
   "execution_count": 23,
   "id": "31e8fabf",
   "metadata": {
    "execution": {
     "iopub.execute_input": "2022-03-21T04:29:12.237115Z",
     "iopub.status.busy": "2022-03-21T04:29:12.236756Z",
     "iopub.status.idle": "2022-03-21T04:29:12.269514Z",
     "shell.execute_reply": "2022-03-21T04:29:12.268782Z"
    },
    "papermill": {
     "duration": 0.104733,
     "end_time": "2022-03-21T04:29:12.269669",
     "exception": false,
     "start_time": "2022-03-21T04:29:12.164936",
     "status": "completed"
    },
    "tags": []
   },
   "outputs": [],
   "source": [
    "total_experiment_time_secs = time.time() - start_time_secs"
   ]
  },
  {
   "cell_type": "code",
   "execution_count": 24,
   "id": "87b9595b",
   "metadata": {
    "execution": {
     "iopub.execute_input": "2022-03-21T04:29:12.416255Z",
     "iopub.status.busy": "2022-03-21T04:29:12.414743Z",
     "iopub.status.idle": "2022-03-21T04:33:01.792238Z",
     "shell.execute_reply": "2022-03-21T04:33:01.791440Z"
    },
    "papermill": {
     "duration": 229.452,
     "end_time": "2022-03-21T04:33:01.792416",
     "exception": false,
     "start_time": "2022-03-21T04:29:12.340416",
     "status": "completed"
    },
    "tags": []
   },
   "outputs": [],
   "source": [
    "###################################\n",
    "# Evaluate the model\n",
    "###################################\n",
    "source_test_label_accuracy, source_test_label_loss = jig.test(datasets.source.processed.test)\n",
    "target_test_label_accuracy, target_test_label_loss = jig.test(datasets.target.processed.test)\n",
    "\n",
    "source_val_label_accuracy, source_val_label_loss = jig.test(datasets.source.processed.val)\n",
    "target_val_label_accuracy, target_val_label_loss = jig.test(datasets.target.processed.val)\n",
    "\n",
    "history = jig.get_history()\n",
    "\n",
    "total_epochs_trained = len(history[\"epoch_indices\"])\n",
    "\n",
    "val_dl = Iterable_Aggregator((datasets.source.original.val,datasets.target.original.val))\n",
    "\n",
    "confusion = ptn_confusion_by_domain_over_dataloader(model, p.device, val_dl)\n",
    "per_domain_accuracy = per_domain_accuracy_from_confusion(confusion)\n",
    "\n",
    "# Add a key to per_domain_accuracy for if it was a source domain\n",
    "for domain, accuracy in per_domain_accuracy.items():\n",
    "    per_domain_accuracy[domain] = {\n",
    "        \"accuracy\": accuracy,\n",
    "        \"source?\": domain in p.domains_source\n",
    "    }\n",
    "\n",
    "# Do an independent accuracy assesment JUST TO BE SURE!\n",
    "# _source_test_label_accuracy = independent_accuracy_assesment(model, datasets.source.processed.test, p.device)\n",
    "# _target_test_label_accuracy = independent_accuracy_assesment(model, datasets.target.processed.test, p.device)\n",
    "# _source_val_label_accuracy = independent_accuracy_assesment(model, datasets.source.processed.val, p.device)\n",
    "# _target_val_label_accuracy = independent_accuracy_assesment(model, datasets.target.processed.val, p.device)\n",
    "\n",
    "# assert(_source_test_label_accuracy == source_test_label_accuracy)\n",
    "# assert(_target_test_label_accuracy == target_test_label_accuracy)\n",
    "# assert(_source_val_label_accuracy == source_val_label_accuracy)\n",
    "# assert(_target_val_label_accuracy == target_val_label_accuracy)\n",
    "\n",
    "experiment = {\n",
    "    \"experiment_name\": p.experiment_name,\n",
    "    \"parameters\": dict(p),\n",
    "    \"results\": {\n",
    "        \"source_test_label_accuracy\": source_test_label_accuracy,\n",
    "        \"source_test_label_loss\": source_test_label_loss,\n",
    "        \"target_test_label_accuracy\": target_test_label_accuracy,\n",
    "        \"target_test_label_loss\": target_test_label_loss,\n",
    "        \"source_val_label_accuracy\": source_val_label_accuracy,\n",
    "        \"source_val_label_loss\": source_val_label_loss,\n",
    "        \"target_val_label_accuracy\": target_val_label_accuracy,\n",
    "        \"target_val_label_loss\": target_val_label_loss,\n",
    "        \"total_epochs_trained\": total_epochs_trained,\n",
    "        \"total_experiment_time_secs\": total_experiment_time_secs,\n",
    "        \"confusion\": confusion,\n",
    "        \"per_domain_accuracy\": per_domain_accuracy,\n",
    "    },\n",
    "    \"history\": history,\n",
    "    \"dataset_metrics\": get_dataset_metrics(datasets, \"ptn\"),\n",
    "}"
   ]
  },
  {
   "cell_type": "code",
   "execution_count": 25,
   "id": "54a21829",
   "metadata": {
    "execution": {
     "iopub.execute_input": "2022-03-21T04:33:01.940724Z",
     "iopub.status.busy": "2022-03-21T04:33:01.940348Z",
     "iopub.status.idle": "2022-03-21T04:33:02.158386Z",
     "shell.execute_reply": "2022-03-21T04:33:02.159077Z"
    },
    "papermill": {
     "duration": 0.293195,
     "end_time": "2022-03-21T04:33:02.159305",
     "exception": false,
     "start_time": "2022-03-21T04:33:01.866110",
     "status": "completed"
    },
    "tags": []
   },
   "outputs": [
    {
     "data": {
      "image/png": "[encoded data removed]",
      "text/plain": [
       "<Figure size 1080x504 with 1 Axes>"
      ]
     },
     "metadata": {
      "needs_background": "light"
     },
     "output_type": "display_data"
    }
   ],
   "source": [
    "ax = get_loss_curve(experiment)\n",
    "plt.show()"
   ]
  },
  {
   "cell_type": "code",
   "execution_count": 26,
   "id": "fd8a0f60",
   "metadata": {
    "execution": {
     "iopub.execute_input": "2022-03-21T04:33:02.306497Z",
     "iopub.status.busy": "2022-03-21T04:33:02.306128Z",
     "iopub.status.idle": "2022-03-21T04:33:02.697182Z",
     "shell.execute_reply": "2022-03-21T04:33:02.697864Z"
    },
    "papermill": {
     "duration": 0.463894,
     "end_time": "2022-03-21T04:33:02.698080",
     "exception": false,
     "start_time": "2022-03-21T04:33:02.234186",
     "status": "completed"
    },
    "tags": []
   },
   "outputs": [
    {
     "data": {
      "text/plain": [
       "<AxesSubplot:title={'center':'Results'}>"
      ]
     },
     "execution_count": 26,
     "metadata": {},
     "output_type": "execute_result"
    },
    {
     "data": {
      "image/png": "[encoded data removed]",
      "text/plain": [
       "<Figure size 1080x504 with 1 Axes>"
      ]
     },
     "metadata": {
      "needs_background": "light"
     },
     "output_type": "display_data"
    }
   ],
   "source": [
    "get_results_table(experiment)"
   ]
  },
  {
   "cell_type": "code",
   "execution_count": 27,
   "id": "cf8dc689",
   "metadata": {
    "execution": {
     "iopub.execute_input": "2022-03-21T04:33:02.845863Z",
     "iopub.status.busy": "2022-03-21T04:33:02.845493Z",
     "iopub.status.idle": "2022-03-21T04:33:03.134044Z",
     "shell.execute_reply": "2022-03-21T04:33:03.134724Z"
    },
    "papermill": {
     "duration": 0.363139,
     "end_time": "2022-03-21T04:33:03.134970",
     "exception": false,
     "start_time": "2022-03-21T04:33:02.771831",
     "status": "completed"
    },
    "tags": []
   },
   "outputs": [
    {
     "data": {
      "text/plain": [
       "<AxesSubplot:title={'center':'Per Domain Validation Accuracy'}, xlabel='domain'>"
      ]
     },
     "execution_count": 27,
     "metadata": {},
     "output_type": "execute_result"
    },
    {
     "data": {
      "image/png": "[encoded data removed]",
      "text/plain": [
       "<Figure size 1080x504 with 1 Axes>"
      ]
     },
     "metadata": {
      "needs_background": "light"
     },
     "output_type": "display_data"
    }
   ],
   "source": [
    "get_domain_accuracies(experiment)"
   ]
  },
  {
   "cell_type": "code",
   "execution_count": 28,
   "id": "a74ae082",
   "metadata": {
    "execution": {
     "iopub.execute_input": "2022-03-21T04:33:03.286933Z",
     "iopub.status.busy": "2022-03-21T04:33:03.286366Z",
     "iopub.status.idle": "2022-03-21T04:33:03.313884Z",
     "shell.execute_reply": "2022-03-21T04:33:03.313073Z"
    },
    "papermill": {
     "duration": 0.104069,
     "end_time": "2022-03-21T04:33:03.314047",
     "exception": false,
     "start_time": "2022-03-21T04:33:03.209978",
     "status": "completed"
    },
    "tags": []
   },
   "outputs": [
    {
     "name": "stdout",
     "output_type": "stream",
     "text": [
      "Source Test Label Accuracy: 0.90625 Target Test Label Accuracy: 0.8819661458333333\n",
      "Source Val Label Accuracy: 0.90576171875 Target Val Label Accuracy: 0.8815755208333333\n"
     ]
    }
   ],
   "source": [
    "print(\"Source Test Label Accuracy:\", experiment[\"results\"][\"source_test_label_accuracy\"], \"Target Test Label Accuracy:\", experiment[\"results\"][\"target_test_label_accuracy\"])\n",
    "print(\"Source Val Label Accuracy:\", experiment[\"results\"][\"source_val_label_accuracy\"], \"Target Val Label Accuracy:\", experiment[\"results\"][\"target_val_label_accuracy\"])"
   ]
  },
  {
   "cell_type": "code",
   "execution_count": 29,
   "id": "dacca602",
   "metadata": {
    "execution": {
     "iopub.execute_input": "2022-03-21T04:33:03.465368Z",
     "iopub.status.busy": "2022-03-21T04:33:03.465000Z",
     "iopub.status.idle": "2022-03-21T04:33:03.490374Z",
     "shell.execute_reply": "2022-03-21T04:33:03.491062Z"
    },
    "papermill": {
     "duration": 0.100312,
     "end_time": "2022-03-21T04:33:03.491260",
     "exception": false,
     "start_time": "2022-03-21T04:33:03.390948",
     "status": "completed"
    },
    "tags": [
     "experiment_json"
    ]
   },
   "outputs": [
    {
     "data": {
      "text/plain": [
       "'{\"experiment_name\": \"tl_1v2:oracle.run1.framed-oracle.run2.framed\", \"parameters\": {\"experiment_name\": \"tl_1v2:oracle.run1.framed-oracle.run2.framed\", \"device\": \"cuda\", \"lr\": 0.0001, \"n_shot\": 3, \"n_query\": 2, \"train_k_factor\": 3, \"val_k_factor\": 2, \"test_k_factor\": 2, \"torch_default_dtype\": \"torch.float32\", \"n_epoch\": 50, \"patience\": 3, \"criteria_for_best\": \"target_accuracy\", \"x_net\": [{\"class\": \"nnReshape\", \"kargs\": {\"shape\": [-1, 1, 2, 256]}}, {\"class\": \"Conv2d\", \"kargs\": {\"in_channels\": 1, \"out_channels\": 256, \"kernel_size\": [1, 7], \"bias\": false, \"padding\": [0, 3]}}, {\"class\": \"ReLU\", \"kargs\": {\"inplace\": true}}, {\"class\": \"BatchNorm2d\", \"kargs\": {\"num_features\": 256}}, {\"class\": \"Conv2d\", \"kargs\": {\"in_channels\": 256, \"out_channels\": 80, \"kernel_size\": [2, 7], \"bias\": true, \"padding\": [0, 3]}}, {\"class\": \"ReLU\", \"kargs\": {\"inplace\": true}}, {\"class\": \"BatchNorm2d\", \"kargs\": {\"num_features\": 80}}, {\"class\": \"Flatten\", \"kargs\": {}}, {\"class\": \"Linear\", \"kargs\": {\"in_features\": 20480, \"out_features\": 256}}, {\"class\": \"ReLU\", \"kargs\": {\"inplace\": true}}, {\"class\": \"BatchNorm1d\", \"kargs\": {\"num_features\": 256}}, {\"class\": \"Linear\", \"kargs\": {\"in_features\": 256, \"out_features\": 256}}], \"NUM_LOGS_PER_EPOCH\": 10, \"BEST_MODEL_PATH\": \"./best_model.pth\", \"n_way\": 16, \"datasets\": [{\"labels\": [\"3123D52\", \"3123D65\", \"3123D79\", \"3123D80\", \"3123D54\", \"3123D70\", \"3123D7B\", \"3123D89\", \"3123D58\", \"3123D76\", \"3123D7D\", \"3123EFE\", \"3123D64\", \"3123D78\", \"3123D7E\", \"3124E4A\"], \"domains\": [32, 38, 8, 44, 14, 50, 20, 26], \"num_examples_per_domain_per_label\": 2000, \"pickle_path\": \"/root/csc500-main/datasets/oracle.Run1_framed_2000Examples_stratified_ds.2022A.pkl\", \"source_or_target_dataset\": \"source\", \"x_transforms\": [\"unit_mag\"], \"episode_transforms\": [], \"domain_prefix\": \"ORACLE.run1_\"}, {\"labels\": [\"3123D52\", \"3123D65\", \"3123D79\", \"3123D80\", \"3123D54\", \"3123D70\", \"3123D7B\", \"3123D89\", \"3123D58\", \"3123D76\", \"3123D7D\", \"3123EFE\", \"3123D64\", \"3123D78\", \"3123D7E\", \"3124E4A\"], \"domains\": [32, 38, 8, 44, 14, 50, 20, 26], \"num_examples_per_domain_per_label\": 2000, \"pickle_path\": \"/root/csc500-main/datasets/oracle.Run2_framed_2000Examples_stratified_ds.2022A.pkl\", \"source_or_target_dataset\": \"target\", \"x_transforms\": [\"unit_mag\"], \"episode_transforms\": [], \"domain_prefix\": \"ORACLE.run2_\"}], \"dataset_seed\": 1337, \"seed\": 1337, \"x_shape\": [2, 256], \"domains_source\": [\"ORACLE.run1_32\", \"ORACLE.run1_38\", \"ORACLE.run1_8\", \"ORACLE.run1_44\", \"ORACLE.run1_14\", \"ORACLE.run1_50\", \"ORACLE.run1_20\", \"ORACLE.run1_26\"], \"domains_target\": [\"ORACLE.run2_32\", \"ORACLE.run2_38\", \"ORACLE.run2_8\", \"ORACLE.run2_44\", \"ORACLE.run2_14\", \"ORACLE.run2_50\", \"ORACLE.run2_20\", \"ORACLE.run2_26\"]}, \"results\": {\"source_test_label_accuracy\": 0.90625, \"source_test_label_loss\": 0.3107525706291199, \"target_test_label_accuracy\": 0.8819661458333333, \"target_test_label_loss\": 1.2590620517730713, \"source_val_label_accuracy\": 0.90576171875, \"source_val_label_loss\": 0.26896223425865173, \"target_val_label_accuracy\": 0.8815755208333333, \"target_val_label_loss\": 0.8750098347663879, \"total_epochs_trained\": 15, \"total_experiment_time_secs\": 3527.6807782649994, \"confusion\": {\"ORACLE.run1_14\": {\"15\": {\"15\": 240}, \"3\": {\"3\": 236, \"5\": 1, \"2\": 3}, \"6\": {\"6\": 209, \"13\": 30, \"2\": 1}, \"1\": {\"1\": 239, \"5\": 1}, \"8\": {\"8\": 240}, \"10\": {\"10\": 240}, \"9\": {\"9\": 240}, \"13\": {\"6\": 36, \"13\": 194, \"5\": 3, \"14\": 2, \"2\": 4, \"4\": 1}, \"12\": {\"12\": 240}, \"5\": {\"5\": 208, \"4\": 16, \"1\": 6, \"3\": 5, \"2\": 5}, \"0\": {\"0\": 239, \"3\": 1}, \"2\": {\"2\": 173, \"3\": 4, \"5\": 18, \"14\": 39, \"13\": 1, \"6\": 4, \"15\": 1}, \"11\": {\"11\": 234, \"9\": 6}, \"14\": {\"14\": 217, \"2\": 19, \"13\": 2, \"6\": 1, \"3\": 1}, \"7\": {\"7\": 240}, \"4\": {\"4\": 232, \"5\": 8}}, \"ORACLE.run1_20\": {\"3\": {\"12\": 26, \"3\": 186, \"9\": 9, \"4\": 3, \"2\": 13, \"1\": 3}, \"15\": {\"15\": 222, \"1\": 8, \"5\": 6, \"0\": 3, \"13\": 1}, \"8\": {\"8\": 234, \"14\": 1, \"4\": 3, \"7\": 2}, \"4\": {\"4\": 239, \"8\": 1}, \"14\": {\"6\": 7, \"14\": 232, \"10\": 1}, \"0\": {\"5\": 15, \"15\": 2, \"0\": 222, \"8\": 1}, \"7\": {\"7\": 233, \"2\": 3, \"9\": 2, \"8\": 2}, \"6\": {\"6\": 233, \"14\": 7}, \"10\": {\"10\": 240}, \"5\": {\"5\": 228, \"15\": 4, \"12\": 4, \"0\": 4}, \"2\": {\"2\": 195, \"7\": 7, \"9\": 23, \"12\": 4, \"1\": 2, \"13\": 2, \"3\": 7}, \"12\": {\"12\": 190, \"3\": 18, \"1\": 24, \"9\": 4, \"2\": 4}, \"9\": {\"9\": 206, \"2\": 22, \"12\": 3, \"3\": 8, \"7\": 1}, \"1\": {\"1\": 204, \"5\": 4, \"12\": 29, \"15\": 3}, \"11\": {\"11\": 240}, \"13\": {\"13\": 239, \"2\": 1}}, \"ORACLE.run1_38\": {\"5\": {\"5\": 167, \"8\": 49, \"7\": 10, \"9\": 8, \"6\": 2, \"15\": 3, \"0\": 1}, \"8\": {\"8\": 193, \"5\": 29, \"0\": 9, \"7\": 7, \"13\": 1, \"15\": 1}, \"11\": {\"11\": 239, \"4\": 1}, \"1\": {\"1\": 235, \"15\": 5}, \"10\": {\"10\": 225, \"13\": 11, \"7\": 3, \"0\": 1}, \"15\": {\"15\": 228, \"1\": 8, \"8\": 1, \"5\": 3}, \"3\": {\"3\": 239, \"0\": 1}, \"7\": {\"5\": 7, \"8\": 5, \"7\": 220, \"0\": 8}, \"4\": {\"4\": 239, \"10\": 1}, \"14\": {\"14\": 234, \"2\": 6}, \"9\": {\"9\": 236, \"3\": 2, \"5\": 1, \"6\": 1}, \"12\": {\"12\": 240}, \"6\": {\"6\": 239, \"9\": 1}, \"2\": {\"14\": 8, \"2\": 229, \"13\": 3}, \"0\": {\"8\": 14, \"0\": 205, \"3\": 8, \"7\": 7, \"10\": 2, \"13\": 2, \"5\": 2}, \"13\": {\"13\": 230, \"15\": 1, \"10\": 5, \"0\": 3, \"8\": 1}}, \"ORACLE.run1_8\": {\"9\": {\"9\": 240}, \"10\": {\"10\": 223, \"14\": 4, \"13\": 13}, \"13\": {\"13\": 179, \"4\": 26, \"0\": 7, \"10\": 21, \"6\": 7}, \"0\": {\"0\": 224, \"7\": 5, \"13\": 6, \"10\": 4, \"6\": 1}, \"1\": {\"1\": 236, \"11\": 3, \"14\": 1}, \"15\": {\"15\": 229, \"12\": 11}, \"5\": {\"5\": 230, \"1\": 2, \"10\": 7, \"14\": 1}, \"3\": {\"3\": 239, \"12\": 1}, \"6\": {\"6\": 221, \"7\": 15, \"13\": 2, \"4\": 2}, \"11\": {\"11\": 234, \"1\": 6}, \"8\": {\"8\": 240}, \"4\": {\"4\": 203, \"13\": 24, \"6\": 4, \"14\": 9}, \"12\": {\"12\": 202, \"15\": 34, \"3\": 4}, \"14\": {\"14\": 212, \"4\": 17, \"10\": 8, \"1\": 3}, \"2\": {\"2\": 235, \"3\": 3, \"7\": 2}, \"7\": {\"7\": 225, \"6\": 15}}, \"ORACLE.run1_50\": {\"7\": {\"7\": 226, \"13\": 7, \"4\": 1, \"10\": 1, \"5\": 4, \"6\": 1}, \"3\": {\"3\": 239, \"8\": 1}, \"8\": {\"8\": 238, \"10\": 2}, \"2\": {\"2\": 233, \"0\": 7}, \"14\": {\"14\": 240}, \"4\": {\"4\": 195, \"5\": 23, \"15\": 17, \"11\": 2, \"6\": 1, \"7\": 1, \"1\": 1}, \"6\": {\"6\": 230, \"15\": 3, \"13\": 2, \"7\": 3, \"5\": 2}, \"15\": {\"15\": 224, \"4\": 8, \"11\": 1, \"1\": 6, \"6\": 1}, \"10\": {\"10\": 239, \"0\": 1}, \"11\": {\"11\": 228, \"15\": 7, \"12\": 4, \"1\": 1}, \"13\": {\"13\": 236, \"6\": 1, \"7\": 3}, \"9\": {\"9\": 228, \"11\": 9, \"12\": 3}, \"0\": {\"0\": 219, \"2\": 19, \"10\": 2}, \"1\": {\"1\": 229, \"15\": 6, \"5\": 1, \"6\": 1, \"2\": 1, \"4\": 2}, \"12\": {\"12\": 237, \"9\": 2, \"14\": 1}, \"5\": {\"5\": 166, \"4\": 35, \"7\": 11, \"1\": 10, \"13\": 17, \"15\": 1}}, \"ORACLE.run1_32\": {\"8\": {\"8\": 212, \"14\": 2, \"13\": 2, \"0\": 20, \"5\": 3, \"3\": 1}, \"14\": {\"14\": 212, \"11\": 10, \"0\": 12, \"7\": 4, \"5\": 1, \"8\": 1}, \"2\": {\"2\": 211, \"4\": 29}, \"0\": {\"0\": 203, \"7\": 1, \"14\": 20, \"8\": 16}, \"1\": {\"1\": 240}, \"10\": {\"10\": 240}, \"11\": {\"11\": 237, \"13\": 2, \"14\": 1}, \"5\": {\"5\": 159, \"13\": 6, \"0\": 2, \"7\": 60, \"8\": 5, \"3\": 3, \"14\": 1, \"4\": 4}, \"15\": {\"15\": 240}, \"3\": {\"3\": 235, \"13\": 1, \"11\": 2, \"5\": 2}, \"12\": {\"12\": 240}, \"7\": {\"5\": 30, \"7\": 198, \"14\": 3, \"4\": 8, \"2\": 1}, \"13\": {\"13\": 218, \"14\": 1, \"7\": 3, \"4\": 8, \"3\": 2, \"5\": 7, \"8\": 1}, \"6\": {\"6\": 240}, \"4\": {\"4\": 205, \"2\": 24, \"5\": 5, \"7\": 3, \"13\": 3}, \"9\": {\"9\": 240}}, \"ORACLE.run1_26\": {\"4\": {\"4\": 211, \"7\": 7, \"8\": 11, \"0\": 4, \"14\": 7}, \"12\": {\"12\": 240}, \"10\": {\"14\": 12, \"10\": 150, \"8\": 24, \"0\": 51, \"15\": 1, \"6\": 1, \"9\": 1}, \"0\": {\"0\": 117, \"10\": 55, \"8\": 30, \"4\": 11, \"6\": 2, \"14\": 24, \"7\": 1}, \"13\": {\"13\": 224, \"5\": 10, \"9\": 2, \"2\": 4}, \"9\": {\"9\": 227, \"15\": 10, \"6\": 2, \"13\": 1}, \"3\": {\"3\": 207, \"2\": 30, \"7\": 3}, \"2\": {\"2\": 128, \"3\": 63, \"7\": 23, \"5\": 18, \"9\": 1, \"15\": 2, \"13\": 4, \"8\": 1}, \"5\": {\"5\": 223, \"2\": 7, \"3\": 1, \"13\": 9}, \"14\": {\"14\": 167, \"10\": 18, \"0\": 25, \"1\": 8, \"8\": 7, \"4\": 14, \"15\": 1}, \"8\": {\"7\": 19, \"8\": 170, \"14\": 5, \"0\": 15, \"4\": 14, \"10\": 15, \"15\": 2}, \"7\": {\"7\": 209, \"8\": 7, \"2\": 14, \"4\": 6, \"3\": 4}, \"6\": {\"6\": 227, \"15\": 10, \"10\": 2, \"9\": 1}, \"11\": {\"11\": 240}, \"15\": {\"15\": 216, \"8\": 4, \"9\": 8, \"2\": 1, \"10\": 3, \"0\": 2, \"6\": 4, \"5\": 2}, \"1\": {\"1\": 227, \"14\": 8, \"4\": 3, \"10\": 1, \"7\": 1}}, \"ORACLE.run1_44\": {\"12\": {\"12\": 219, \"1\": 18, \"3\": 3}, \"7\": {\"7\": 193, \"2\": 12, \"9\": 34, \"6\": 1}, \"5\": {\"5\": 211, \"14\": 6, \"15\": 9, \"0\": 6, \"8\": 8}, \"15\": {\"15\": 217, \"14\": 9, \"5\": 3, \"8\": 5, \"0\": 6}, \"8\": {\"8\": 160, \"0\": 63, \"15\": 11, \"5\": 6}, \"2\": {\"2\": 217, \"10\": 3, \"7\": 17, \"1\": 3}, \"13\": {\"13\": 176, \"6\": 32, \"9\": 30, \"11\": 1, \"7\": 1}, \"4\": {\"4\": 195, \"14\": 45}, \"0\": {\"8\": 51, \"0\": 178, \"15\": 6, \"5\": 5}, \"6\": {\"6\": 176, \"13\": 40, \"9\": 21, \"7\": 3}, \"9\": {\"13\": 29, \"7\": 45, \"9\": 158, \"6\": 8}, \"11\": {\"11\": 234, \"13\": 6}, \"10\": {\"1\": 12, \"10\": 221, \"2\": 6, \"12\": 1}, \"14\": {\"14\": 176, \"4\": 57, \"15\": 4, \"5\": 3}, \"1\": {\"2\": 6, \"1\": 207, \"3\": 6, \"12\": 14, \"10\": 7}, \"3\": {\"3\": 233, \"2\": 2, \"1\": 4, \"12\": 1}}, \"ORACLE.run2_14\": {\"15\": {\"15\": 240}, \"3\": {\"3\": 228, \"5\": 3, \"14\": 3, \"2\": 3, \"4\": 3}, \"6\": {\"6\": 211, \"13\": 29}, \"1\": {\"1\": 238, \"5\": 2}, \"8\": {\"8\": 240}, \"10\": {\"10\": 240}, \"9\": {\"9\": 240}, \"13\": {\"13\": 202, \"6\": 38}, \"12\": {\"12\": 156, \"9\": 42, \"11\": 23, \"0\": 17, \"8\": 2}, \"5\": {\"5\": 212, \"2\": 11, \"1\": 4, \"3\": 4, \"4\": 9}, \"0\": {\"0\": 240}, \"2\": {\"14\": 46, \"2\": 143, \"5\": 36, \"3\": 11, \"4\": 2, \"6\": 1, \"13\": 1}, \"11\": {\"11\": 240}, \"14\": {\"2\": 40, \"14\": 196, \"3\": 4}, \"7\": {\"7\": 240}, \"4\": {\"4\": 234, \"5\": 6}}, \"ORACLE.run2_20\": {\"3\": {\"2\": 29, \"3\": 196, \"9\": 9, \"7\": 4, \"12\": 2}, \"15\": {\"15\": 192, \"1\": 7, \"13\": 26, \"5\": 9, \"2\": 3, \"12\": 2, \"0\": 1}, \"8\": {\"8\": 221, \"14\": 12, \"5\": 1, \"4\": 4, \"7\": 2}, \"4\": {\"3\": 1, \"4\": 239}, \"14\": {\"14\": 224, \"6\": 7, \"8\": 9}, \"0\": {\"0\": 234, \"15\": 5, \"5\": 1}, \"7\": {\"7\": 236, \"5\": 1, \"3\": 3}, \"6\": {\"6\": 238, \"14\": 2}, \"10\": {\"10\": 238, \"6\": 2}, \"5\": {\"2\": 9, \"5\": 196, \"3\": 3, \"0\": 9, \"8\": 2, \"7\": 5, \"12\": 9, \"1\": 2, \"15\": 3, \"4\": 2}, \"2\": {\"2\": 180, \"5\": 11, \"3\": 29, \"12\": 11, \"9\": 8, \"15\": 1}, \"12\": {\"2\": 11, \"12\": 179, \"1\": 35, \"5\": 6, \"3\": 1, \"9\": 6, \"15\": 2}, \"9\": {\"2\": 23, \"9\": 191, \"5\": 2, \"12\": 8, \"3\": 14, \"1\": 2}, \"1\": {\"1\": 184, \"9\": 4, \"12\": 47, \"15\": 4, \"13\": 1}, \"11\": {\"11\": 240}, \"13\": {\"15\": 29, \"13\": 210, \"5\": 1}}, \"ORACLE.run2_38\": {\"5\": {\"5\": 150, \"8\": 64, \"7\": 19, \"15\": 6, \"10\": 1}, \"8\": {\"8\": 162, \"5\": 60, \"15\": 3, \"7\": 12, \"0\": 1, \"13\": 1, \"10\": 1}, \"11\": {\"11\": 233, \"1\": 1, \"4\": 5, \"10\": 1}, \"1\": {\"1\": 229, \"15\": 11}, \"10\": {\"7\": 43, \"10\": 193, \"3\": 1, \"13\": 1, \"5\": 2}, \"15\": {\"5\": 22, \"8\": 11, \"15\": 187, \"1\": 20}, \"3\": {\"3\": 172, \"0\": 14, \"10\": 5, \"13\": 46, \"7\": 2, \"9\": 1}, \"7\": {\"7\": 189, \"5\": 14, \"8\": 14, \"10\": 23}, \"4\": {\"4\": 240}, \"14\": {\"14\": 185, \"4\": 2, \"7\": 3, \"2\": 37, \"8\": 4, \"12\": 6, \"5\": 2, \"11\": 1}, \"9\": {\"9\": 239, \"6\": 1}, \"12\": {\"12\": 240}, \"6\": {\"6\": 234, \"9\": 6}, \"2\": {\"2\": 233, \"14\": 7}, \"0\": {\"0\": 235, \"7\": 4, \"3\": 1}, \"13\": {\"13\": 182, \"5\": 1, \"8\": 3, \"3\": 47, \"0\": 4, \"10\": 3}}, \"ORACLE.run2_8\": {\"9\": {\"9\": 240}, \"10\": {\"10\": 225, \"5\": 14, \"0\": 1}, \"13\": {\"13\": 232, \"10\": 2, \"14\": 5, \"6\": 1}, \"0\": {\"0\": 228, \"10\": 6, \"14\": 6}, \"1\": {\"1\": 239, \"13\": 1}, \"15\": {\"15\": 211, \"12\": 13, \"8\": 16}, \"5\": {\"5\": 221, \"10\": 19}, \"3\": {\"3\": 240}, \"6\": {\"6\": 175, \"7\": 18, \"4\": 46, \"13\": 1}, \"11\": {\"11\": 191, \"8\": 39, \"15\": 5, \"12\": 5}, \"8\": {\"8\": 239, \"15\": 1}, \"4\": {\"6\": 46, \"4\": 146, \"7\": 45, \"2\": 3}, \"12\": {\"12\": 235, \"15\": 5}, \"14\": {\"14\": 221, \"0\": 15, \"13\": 3, \"10\": 1}, \"2\": {\"2\": 236, \"7\": 2, \"4\": 2}, \"7\": {\"7\": 166, \"4\": 59, \"6\": 12, \"2\": 3}}, \"ORACLE.run2_50\": {\"7\": {\"7\": 220, \"13\": 10, \"5\": 9, \"4\": 1}, \"3\": {\"3\": 234, \"8\": 6}, \"8\": {\"8\": 239, \"3\": 1}, \"2\": {\"2\": 237, \"0\": 3}, \"14\": {\"14\": 240}, \"4\": {\"5\": 57, \"4\": 173, \"6\": 6, \"1\": 2, \"10\": 1, \"15\": 1}, \"6\": {\"6\": 228, \"4\": 6, \"5\": 4, \"1\": 2}, \"15\": {\"15\": 240}, \"10\": {\"10\": 196, \"13\": 43, \"0\": 1}, \"11\": {\"11\": 233, \"15\": 5, \"12\": 2}, \"13\": {\"13\": 207, \"10\": 27, \"7\": 4, \"5\": 1, \"6\": 1}, \"9\": {\"9\": 240}, \"0\": {\"0\": 232, \"10\": 2, \"2\": 6}, \"1\": {\"1\": 234, \"4\": 3, \"6\": 3}, \"12\": {\"12\": 236, \"11\": 4}, \"5\": {\"6\": 6, \"5\": 154, \"4\": 64, \"7\": 9, \"13\": 4, \"1\": 2, \"10\": 1}}, \"ORACLE.run2_32\": {\"8\": {\"8\": 216, \"0\": 17, \"7\": 1, \"5\": 3, \"3\": 1, \"4\": 1, \"14\": 1}, \"14\": {\"14\": 229, \"0\": 9, \"5\": 1, \"11\": 1}, \"2\": {\"2\": 233, \"4\": 2, \"5\": 3, \"7\": 2}, \"0\": {\"0\": 209, \"11\": 10, \"14\": 8, \"8\": 7, \"5\": 2, \"7\": 2, \"4\": 1, \"13\": 1}, \"1\": {\"1\": 240}, \"10\": {\"10\": 240}, \"11\": {\"11\": 211, \"0\": 6, \"7\": 15, \"4\": 5, \"13\": 2, \"5\": 1}, \"5\": {\"5\": 196, \"4\": 7, \"8\": 13, \"7\": 6, \"14\": 10, \"0\": 3, \"2\": 5}, \"15\": {\"15\": 240}, \"3\": {\"3\": 237, \"8\": 1, \"13\": 1, \"11\": 1}, \"12\": {\"12\": 240}, \"7\": {\"11\": 19, \"7\": 201, \"4\": 11, \"13\": 3, \"2\": 1, \"5\": 5}, \"13\": {\"13\": 201, \"11\": 4, \"4\": 34, \"7\": 1}, \"6\": {\"6\": 240}, \"4\": {\"4\": 199, \"13\": 36, \"11\": 2, \"8\": 2, \"7\": 1}, \"9\": {\"9\": 240}}, \"ORACLE.run2_26\": {\"4\": {\"4\": 221, \"10\": 1, \"7\": 5, \"0\": 4, \"14\": 1, \"8\": 3, \"2\": 4, \"3\": 1}, \"12\": {\"12\": 240}, \"10\": {\"10\": 127, \"6\": 10, \"0\": 64, \"8\": 14, \"4\": 7, \"14\": 16, \"1\": 1, \"7\": 1}, \"0\": {\"10\": 37, \"0\": 137, \"14\": 40, \"7\": 1, \"4\": 8, \"8\": 16, \"1\": 1}, \"13\": {\"13\": 220, \"5\": 15, \"9\": 5}, \"9\": {\"9\": 225, \"6\": 6, \"13\": 6, \"15\": 2, \"5\": 1}, \"3\": {\"3\": 207, \"2\": 22, \"7\": 7, \"4\": 4}, \"2\": {\"2\": 128, \"15\": 15, \"7\": 75, \"5\": 1, \"3\": 13, \"8\": 4, \"4\": 4}, \"5\": {\"5\": 183, \"13\": 32, \"9\": 2, \"2\": 10, \"6\": 3, \"3\": 6, \"7\": 4}, \"14\": {\"14\": 163, \"10\": 19, \"4\": 4, \"0\": 33, \"1\": 14, \"8\": 7}, \"8\": {\"8\": 171, \"14\": 14, \"2\": 9, \"7\": 9, \"0\": 18, \"4\": 11, \"10\": 6, \"15\": 2}, \"7\": {\"7\": 128, \"2\": 78, \"3\": 5, \"8\": 7, \"15\": 5, \"4\": 17}, \"6\": {\"6\": 232, \"10\": 2, \"9\": 4, \"13\": 1, \"5\": 1}, \"11\": {\"11\": 240}, \"15\": {\"15\": 205, \"7\": 14, \"2\": 17, \"3\": 3, \"4\": 1}, \"1\": {\"1\": 227, \"14\": 13}}, \"ORACLE.run2_44\": {\"12\": {\"3\": 14, \"12\": 198, \"1\": 28}, \"7\": {\"9\": 82, \"7\": 146, \"2\": 12}, \"5\": {\"5\": 228, \"14\": 11, \"15\": 1}, \"15\": {\"15\": 208, \"14\": 25, \"8\": 3, \"4\": 4}, \"8\": {\"0\": 77, \"8\": 159, \"5\": 2, \"15\": 2}, \"2\": {\"2\": 220, \"7\": 7, \"9\": 13}, \"13\": {\"13\": 238, \"4\": 2}, \"4\": {\"4\": 226, \"14\": 12, \"13\": 2}, \"0\": {\"0\": 146, \"8\": 94}, \"6\": {\"6\": 231, \"9\": 3, \"13\": 6}, \"9\": {\"9\": 156, \"2\": 15, \"7\": 66, \"6\": 3}, \"11\": {\"11\": 239, \"13\": 1}, \"10\": {\"10\": 240}, \"14\": {\"14\": 203, \"15\": 21, \"5\": 6, \"4\": 10}, \"1\": {\"1\": 203, \"3\": 10, \"12\": 27}, \"3\": {\"3\": 226, \"2\": 1, \"12\": 9, \"1\": 4}}}, \"per_domain_accuracy\": {\"ORACLE.run1_14\": {\"accuracy\": 0.94296875, \"source?\": true}, \"ORACLE.run1_20\": {\"accuracy\": 0.92265625, \"source?\": true}, \"ORACLE.run1_38\": {\"accuracy\": 0.9369791666666667, \"source?\": true}, \"ORACLE.run1_8\": {\"accuracy\": 0.9302083333333333, \"source?\": true}, \"ORACLE.run1_50\": {\"accuracy\": 0.9393229166666667, \"source?\": true}, \"ORACLE.run1_32\": {\"accuracy\": 0.9192708333333334, \"source?\": true}, \"ORACLE.run1_26\": {\"accuracy\": 0.82890625, \"source?\": true}, \"ORACLE.run1_44\": {\"accuracy\": 0.82578125, \"source?\": true}, \"ORACLE.run2_14\": {\"accuracy\": 0.9114583333333334, \"source?\": false}, \"ORACLE.run2_20\": {\"accuracy\": 0.8848958333333333, \"source?\": false}, \"ORACLE.run2_38\": {\"accuracy\": 0.86015625, \"source?\": false}, \"ORACLE.run2_8\": {\"accuracy\": 0.8971354166666666, \"source?\": false}, \"ORACLE.run2_50\": {\"accuracy\": 0.92265625, \"source?\": false}, \"ORACLE.run2_32\": {\"accuracy\": 0.9302083333333333, \"source?\": false}, \"ORACLE.run2_26\": {\"accuracy\": 0.7953125, \"source?\": false}, \"ORACLE.run2_44\": {\"accuracy\": 0.85078125, \"source?\": false}}}, \"history\": {\"epoch_indices\": [1, 2, 3, 4, 5, 6, 7, 8, 9, 10, 11, 12, 13, 14, 15], \"train_label_loss\": [0.7857889641519813, 0.7147335038531483, 0.42784910788925895, 0.3684090298655931, 0.32424066612314034, 0.2980372122726597, 0.26705246469770955, 0.24795857798710044, 0.2326619023706631, 0.21591521290420565, 0.2019487224998773, 0.18795039920809187, 0.18002247974131716, 0.1691519143919972, 0.1605788066743636], \"source_val_label_loss\": [50.24793243408203, 0.5055316090583801, 0.4060022532939911, 0.42473703622817993, 0.40012770891189575, 0.32392463088035583, 0.3302375078201294, 0.2875433564186096, 0.28508415818214417, 0.27392005920410156, 0.26896223425865173, 0.2701698839664459, 0.26964518427848816, 0.2641838788986206, 0.28867992758750916], \"target_val_label_loss\": [50.23796463012695, 0.5587559938430786, 0.4724317789077759, 0.5089905261993408, 0.4927223324775696, 0.41526249051094055, 0.4444020092487335, 0.4094812273979187, 0.5185933113098145, 0.6227813959121704, 0.8750098347663879, 1.0057905912399292, 0.7549129724502563, 0.915590226650238, 1.6376734972000122], \"source_val_acc_label\": [0.6384440104166667, 0.81884765625, 0.8543294270833334, 0.8442708333333333, 0.8572916666666667, 0.8843098958333333, 0.8799153645833333, 0.8987630208333334, 0.8964192708333333, 0.90419921875, 0.90576171875, 0.9048828125, 0.9057291666666667, 0.907421875, 0.9002604166666667], \"target_val_acc_label\": [0.6282877604166667, 0.80888671875, 0.84501953125, 0.82626953125, 0.8434895833333333, 0.8656575520833333, 0.8599609375, 0.8742513020833333, 0.87353515625, 0.8771484375, 0.8815755208333333, 0.87900390625, 0.8774739583333333, 0.87607421875, 0.86884765625]}, \"dataset_metrics\": {\"source\": {\"train\": {\"n_unique_x\": 179200, \"n_unique_y\": 16, \"n_batch/episode\": 6720}, \"val\": {\"n_unique_x\": 38400, \"n_unique_y\": 16, \"n_batch/episode\": 960}, \"test\": {\"n_unique_x\": 38400, \"n_unique_y\": 16, \"n_batch/episode\": 960}}, \"target\": {\"train\": {\"n_unique_x\": 179200, \"n_unique_y\": 16, \"n_batch/episode\": 6720}, \"val\": {\"n_unique_x\": 38400, \"n_unique_y\": 16, \"n_batch/episode\": 960}, \"test\": {\"n_unique_x\": 38400, \"n_unique_y\": 16, \"n_batch/episode\": 960}}}}'"
      ]
     },
     "execution_count": 29,
     "metadata": {},
     "output_type": "execute_result"
    }
   ],
   "source": [
    "json.dumps(experiment)"
   ]
  }
 ],
 "metadata": {
  "celltoolbar": "Tags",
  "kernelspec": {
   "display_name": "Python 3 (ipykernel)",
   "language": "python",
   "name": "python3"
  },
  "language_info": {
   "codemirror_mode": {
    "name": "ipython",
    "version": 3
   },
   "file_extension": ".py",
   "mimetype": "text/x-python",
   "name": "python",
   "nbconvert_exporter": "python",
   "pygments_lexer": "ipython3",
   "version": "3.8.12"
  },
  "papermill": {
   "default_parameters": {},
   "duration": 3765.075198,
   "end_time": "2022-03-21T04:33:06.144377",
   "environment_variables": {},
   "exception": null,
   "input_path": "/root/csc500-main/csc500-notebooks/templates/tl_ptn_template.ipynb",
   "output_path": "trial.ipynb",
   "parameters": {
    "parameters": {
     "BEST_MODEL_PATH": "./best_model.pth",
     "NUM_LOGS_PER_EPOCH": 10,
     "criteria_for_best": "target_accuracy",
     "dataset_seed": 1337,
     "datasets": [
      {
       "domain_prefix": "ORACLE.run1_",
       "domains": [
        32,
        38,
        8,
        44,
        14,
        50,
        20,
        26
       ],
       "episode_transforms": [],
       "labels": [
        "3123D52",
        "3123D65",
        "3123D79",
        "3123D80",
        "3123D54",
        "3123D70",
        "3123D7B",
        "3123D89",
        "3123D58",
        "3123D76",
        "3123D7D",
        "3123EFE",
        "3123D64",
        "3123D78",
        "3123D7E",
        "3124E4A"
       ],
       "num_examples_per_domain_per_label": 2000,
       "pickle_path": "/root/csc500-main/datasets/oracle.Run1_framed_2000Examples_stratified_ds.2022A.pkl",
       "source_or_target_dataset": "source",
       "x_transforms": [
        "unit_mag"
       ]
      },
      {
       "domain_prefix": "ORACLE.run2_",
       "domains": [
        32,
        38,
        8,
        44,
        14,
        50,
        20,
        26
       ],
       "episode_transforms": [],
       "labels": [
        "3123D52",
        "3123D65",
        "3123D79",
        "3123D80",
        "3123D54",
        "3123D70",
        "3123D7B",
        "3123D89",
        "3123D58",
        "3123D76",
        "3123D7D",
        "3123EFE",
        "3123D64",
        "3123D78",
        "3123D7E",
        "3124E4A"
       ],
       "num_examples_per_domain_per_label": 2000,
       "pickle_path": "/root/csc500-main/datasets/oracle.Run2_framed_2000Examples_stratified_ds.2022A.pkl",
       "source_or_target_dataset": "target",
       "x_transforms": [
        "unit_mag"
       ]
      }
     ],
     "device": "cuda",
     "experiment_name": "tl_1v2:oracle.run1.framed-oracle.run2.framed",
     "lr": 0.0001,
     "n_epoch": 50,
     "n_query": 2,
     "n_shot": 3,
     "n_way": 16,
     "patience": 3,
     "seed": 1337,
     "test_k_factor": 2,
     "torch_default_dtype": "torch.float32",
     "train_k_factor": 3,
     "val_k_factor": 2,
     "x_net": [
      {
       "class": "nnReshape",
       "kargs": {
        "shape": [
         -1,
         1,
         2,
         256
        ]
       }
      },
      {
       "class": "Conv2d",
       "kargs": {
        "bias": false,
        "in_channels": 1,
        "kernel_size": [
         1,
         7
        ],
        "out_channels": 256,
        "padding": [
         0,
         3
        ]
       }
      },
      {
       "class": "ReLU",
       "kargs": {
        "inplace": true
       }
      },
      {
       "class": "BatchNorm2d",
       "kargs": {
        "num_features": 256
       }
      },
      {
       "class": "Conv2d",
       "kargs": {
        "bias": true,
        "in_channels": 256,
        "kernel_size": [
         2,
         7
        ],
        "out_channels": 80,
        "padding": [
         0,
         3
        ]
       }
      },
      {
       "class": "ReLU",
       "kargs": {
        "inplace": true
       }
      },
      {
       "class": "BatchNorm2d",
       "kargs": {
        "num_features": 80
       }
      },
      {
       "class": "Flatten",
       "kargs": {}
      },
      {
       "class": "Linear",
       "kargs": {
        "in_features": 20480,
        "out_features": 256
       }
      },
      {
       "class": "ReLU",
       "kargs": {
        "inplace": true
       }
      },
      {
       "class": "BatchNorm1d",
       "kargs": {
        "num_features": 256
       }
      },
      {
       "class": "Linear",
       "kargs": {
        "in_features": 256,
        "out_features": 256
       }
      }
     ]
    }
   },
   "start_time": "2022-03-21T03:30:21.069179",
   "version": "2.3.4"
  }
 },
 "nbformat": 4,
 "nbformat_minor": 5
}