{
 "cells": [
  {
   "cell_type": "markdown",
   "id": "9fea5f46",
   "metadata": {
    "papermill": {
     "duration": 0.032075,
     "end_time": "2022-03-21T02:16:31.058311",
     "exception": false,
     "start_time": "2022-03-21T02:16:31.026236",
     "status": "completed"
    },
    "tags": []
   },
   "source": [
    "# Transfer Learning Template"
   ]
  },
  {
   "cell_type": "code",
   "execution_count": 1,
   "id": "0902182a",
   "metadata": {
    "execution": {
     "iopub.execute_input": "2022-03-21T02:16:31.121235Z",
     "iopub.status.busy": "2022-03-21T02:16:31.109266Z",
     "iopub.status.idle": "2022-03-21T02:16:33.853136Z",
     "shell.execute_reply": "2022-03-21T02:16:33.852004Z"
    },
    "papermill": {
     "duration": 2.772047,
     "end_time": "2022-03-21T02:16:33.853411",
     "exception": false,
     "start_time": "2022-03-21T02:16:31.081364",
     "status": "completed"
    },
    "tags": []
   },
   "outputs": [],
   "source": [
    "%load_ext autoreload\n",
    "%autoreload 2\n",
    "%matplotlib inline\n",
    "\n",
    "    \n",
    "import os, json, sys, time, random\n",
    "import numpy as np\n",
    "import torch\n",
    "from torch.optim import Adam\n",
    "from  easydict import EasyDict\n",
    "import matplotlib.pyplot as plt\n",
    "\n",
    "from steves_models.steves_ptn import Steves_Prototypical_Network\n",
    "\n",
    "from steves_utils.lazy_iterable_wrapper import Lazy_Iterable_Wrapper\n",
    "from steves_utils.iterable_aggregator import Iterable_Aggregator\n",
    "from steves_utils.ptn_train_eval_test_jig import  PTN_Train_Eval_Test_Jig\n",
    "from steves_utils.torch_sequential_builder import build_sequential\n",
    "from steves_utils.torch_utils import get_dataset_metrics, ptn_confusion_by_domain_over_dataloader\n",
    "from steves_utils.utils_v2 import (per_domain_accuracy_from_confusion, get_datasets_base_path)\n",
    "from steves_utils.PTN.utils import independent_accuracy_assesment\n",
    "\n",
    "from torch.utils.data import DataLoader\n",
    "\n",
    "from steves_utils.stratified_dataset.episodic_accessor import Episodic_Accessor_Factory\n",
    "\n",
    "from steves_utils.ptn_do_report import (\n",
    "    get_loss_curve,\n",
    "    get_results_table,\n",
    "    get_parameters_table,\n",
    "    get_domain_accuracies,\n",
    ")\n",
    "\n",
    "from steves_utils.transforms import get_chained_transform"
   ]
  },
  {
   "cell_type": "markdown",
   "id": "41c840b4",
   "metadata": {
    "papermill": {
     "duration": 0.020208,
     "end_time": "2022-03-21T02:16:33.898545",
     "exception": false,
     "start_time": "2022-03-21T02:16:33.878337",
     "status": "completed"
    },
    "tags": []
   },
   "source": [
    "# Allowed Parameters\n",
    "These are allowed parameters, not defaults\n",
    "Each of these values need to be present in the injected parameters (the notebook will raise an exception if they are not present)\n",
    "\n",
    "Papermill uses the cell tag \"parameters\" to inject the real parameters below this cell.\n",
    "Enable tags to see what I mean"
   ]
  },
  {
   "cell_type": "code",
   "execution_count": 2,
   "id": "fd44eb83",
   "metadata": {
    "execution": {
     "iopub.execute_input": "2022-03-21T02:16:33.943654Z",
     "iopub.status.busy": "2022-03-21T02:16:33.943041Z",
     "iopub.status.idle": "2022-03-21T02:16:33.965094Z",
     "shell.execute_reply": "2022-03-21T02:16:33.964298Z"
    },
    "papermill": {
     "duration": 0.04649,
     "end_time": "2022-03-21T02:16:33.965268",
     "exception": false,
     "start_time": "2022-03-21T02:16:33.918778",
     "status": "completed"
    },
    "tags": []
   },
   "outputs": [],
   "source": [
    "required_parameters = {\n",
    "    \"experiment_name\",\n",
    "    \"lr\",\n",
    "    \"device\",\n",
    "    \"seed\",\n",
    "    \"dataset_seed\",\n",
    "    \"n_shot\",\n",
    "    \"n_query\",\n",
    "    \"n_way\",\n",
    "    \"train_k_factor\",\n",
    "    \"val_k_factor\",\n",
    "    \"test_k_factor\",\n",
    "    \"n_epoch\",\n",
    "    \"patience\",\n",
    "    \"criteria_for_best\",\n",
    "    \"x_net\",\n",
    "    \"datasets\",\n",
    "    \"torch_default_dtype\",\n",
    "    \"NUM_LOGS_PER_EPOCH\",\n",
    "    \"BEST_MODEL_PATH\",\n",
    "    \"x_shape\",\n",
    "}"
   ]
  },
  {
   "cell_type": "code",
   "execution_count": 3,
   "id": "fa3f0049",
   "metadata": {
    "execution": {
     "iopub.execute_input": "2022-03-21T02:16:34.020351Z",
     "iopub.status.busy": "2022-03-21T02:16:34.019510Z",
     "iopub.status.idle": "2022-03-21T02:16:34.041903Z",
     "shell.execute_reply": "2022-03-21T02:16:34.041052Z"
    },
    "papermill": {
     "duration": 0.051838,
     "end_time": "2022-03-21T02:16:34.042070",
     "exception": false,
     "start_time": "2022-03-21T02:16:33.990232",
     "status": "completed"
    },
    "tags": [
     "parameters"
    ]
   },
   "outputs": [],
   "source": [
    "from steves_utils.CORES.utils import (\n",
    "    ALL_NODES,\n",
    "    ALL_NODES_MINIMUM_1000_EXAMPLES,\n",
    "    ALL_DAYS\n",
    ")\n",
    "\n",
    "from steves_utils.ORACLE.utils_v2 import (\n",
    "    ALL_DISTANCES_FEET_NARROWED,\n",
    "    ALL_RUNS,\n",
    "    ALL_SERIAL_NUMBERS,\n",
    ")\n",
    "\n",
    "standalone_parameters = {}\n",
    "standalone_parameters[\"experiment_name\"] = \"STANDALONE PTN\"\n",
    "standalone_parameters[\"lr\"] = 0.001\n",
    "standalone_parameters[\"device\"] = \"cuda\"\n",
    "\n",
    "standalone_parameters[\"seed\"] = 1337\n",
    "standalone_parameters[\"dataset_seed\"] = 1337\n",
    "\n",
    "standalone_parameters[\"n_way\"] = 8\n",
    "standalone_parameters[\"n_shot\"] = 3\n",
    "standalone_parameters[\"n_query\"]  = 2\n",
    "standalone_parameters[\"train_k_factor\"] = 1\n",
    "standalone_parameters[\"val_k_factor\"] = 2\n",
    "standalone_parameters[\"test_k_factor\"] = 2\n",
    "\n",
    "\n",
    "standalone_parameters[\"n_epoch\"] = 50\n",
    "\n",
    "standalone_parameters[\"patience\"] = 10\n",
    "standalone_parameters[\"criteria_for_best\"] = \"source_loss\"\n",
    "\n",
    "standalone_parameters[\"datasets\"] = [\n",
    "    {\n",
    "        \"labels\": ALL_SERIAL_NUMBERS,\n",
    "        \"domains\": ALL_DISTANCES_FEET_NARROWED,\n",
    "        \"num_examples_per_domain_per_label\": 100,\n",
    "        \"pickle_path\": os.path.join(get_datasets_base_path(), \"oracle.Run1_framed_2000Examples_stratified_ds.2022A.pkl\"),\n",
    "        \"source_or_target_dataset\": \"source\",\n",
    "        \"x_transforms\": [\"unit_mag\", \"minus_two\"],\n",
    "        \"episode_transforms\": [],\n",
    "        \"domain_prefix\": \"ORACLE_\"\n",
    "    },\n",
    "    {\n",
    "        \"labels\": ALL_NODES,\n",
    "        \"domains\": ALL_DAYS,\n",
    "        \"num_examples_per_domain_per_label\": 100,\n",
    "        \"pickle_path\": os.path.join(get_datasets_base_path(), \"cores.stratified_ds.2022A.pkl\"),\n",
    "        \"source_or_target_dataset\": \"target\",\n",
    "        \"x_transforms\": [\"unit_power\", \"times_zero\"],\n",
    "        \"episode_transforms\": [],\n",
    "        \"domain_prefix\": \"CORES_\"\n",
    "    }   \n",
    "]\n",
    "\n",
    "standalone_parameters[\"torch_default_dtype\"] = \"torch.float32\" \n",
    "\n",
    "\n",
    "\n",
    "standalone_parameters[\"x_net\"] =     [\n",
    "    {\"class\": \"nnReshape\", \"kargs\": {\"shape\":[-1, 1, 2, 256]}},\n",
    "    {\"class\": \"Conv2d\", \"kargs\": { \"in_channels\":1, \"out_channels\":256, \"kernel_size\":(1,7), \"bias\":False, \"padding\":(0,3), },},\n",
    "    {\"class\": \"ReLU\", \"kargs\": {\"inplace\": True}},\n",
    "    {\"class\": \"BatchNorm2d\", \"kargs\": {\"num_features\":256}},\n",
    "\n",
    "    {\"class\": \"Conv2d\", \"kargs\": { \"in_channels\":256, \"out_channels\":80, \"kernel_size\":(2,7), \"bias\":True, \"padding\":(0,3), },},\n",
    "    {\"class\": \"ReLU\", \"kargs\": {\"inplace\": True}},\n",
    "    {\"class\": \"BatchNorm2d\", \"kargs\": {\"num_features\":80}},\n",
    "    {\"class\": \"Flatten\", \"kargs\": {}},\n",
    "\n",
    "    {\"class\": \"Linear\", \"kargs\": {\"in_features\": 80*256, \"out_features\": 256}}, # 80 units per IQ pair\n",
    "    {\"class\": \"ReLU\", \"kargs\": {\"inplace\": True}},\n",
    "    {\"class\": \"BatchNorm1d\", \"kargs\": {\"num_features\":256}},\n",
    "\n",
    "    {\"class\": \"Linear\", \"kargs\": {\"in_features\": 256, \"out_features\": 256}},\n",
    "]\n",
    "\n",
    "# Parameters relevant to results\n",
    "# These parameters will basically never need to change\n",
    "standalone_parameters[\"NUM_LOGS_PER_EPOCH\"] = 10\n",
    "standalone_parameters[\"BEST_MODEL_PATH\"] = \"./best_model.pth\"\n",
    "\n",
    "\n",
    "\n",
    "\n"
   ]
  },
  {
   "cell_type": "code",
   "execution_count": 4,
   "id": "a7a419e4",
   "metadata": {
    "execution": {
     "iopub.execute_input": "2022-03-21T02:16:34.096332Z",
     "iopub.status.busy": "2022-03-21T02:16:34.095784Z",
     "iopub.status.idle": "2022-03-21T02:16:34.117176Z",
     "shell.execute_reply": "2022-03-21T02:16:34.116314Z"
    },
    "papermill": {
     "duration": 0.049509,
     "end_time": "2022-03-21T02:16:34.117353",
     "exception": false,
     "start_time": "2022-03-21T02:16:34.067844",
     "status": "completed"
    },
    "tags": [
     "injected-parameters"
    ]
   },
   "outputs": [],
   "source": [
    "# Parameters\n",
    "parameters = {\n",
    "    \"experiment_name\": \"tl_1v2:oracle.run1.framed-oracle.run2.framed\",\n",
    "    \"device\": \"cuda\",\n",
    "    \"lr\": 0.0001,\n",
    "    \"n_shot\": 3,\n",
    "    \"n_query\": 2,\n",
    "    \"train_k_factor\": 3,\n",
    "    \"val_k_factor\": 2,\n",
    "    \"test_k_factor\": 2,\n",
    "    \"torch_default_dtype\": \"torch.float32\",\n",
    "    \"n_epoch\": 50,\n",
    "    \"patience\": 3,\n",
    "    \"criteria_for_best\": \"target_accuracy\",\n",
    "    \"x_net\": [\n",
    "        {\"class\": \"nnReshape\", \"kargs\": {\"shape\": [-1, 1, 2, 256]}},\n",
    "        {\n",
    "            \"class\": \"Conv2d\",\n",
    "            \"kargs\": {\n",
    "                \"in_channels\": 1,\n",
    "                \"out_channels\": 256,\n",
    "                \"kernel_size\": [1, 7],\n",
    "                \"bias\": False,\n",
    "                \"padding\": [0, 3],\n",
    "            },\n",
    "        },\n",
    "        {\"class\": \"ReLU\", \"kargs\": {\"inplace\": True}},\n",
    "        {\"class\": \"BatchNorm2d\", \"kargs\": {\"num_features\": 256}},\n",
    "        {\n",
    "            \"class\": \"Conv2d\",\n",
    "            \"kargs\": {\n",
    "                \"in_channels\": 256,\n",
    "                \"out_channels\": 80,\n",
    "                \"kernel_size\": [2, 7],\n",
    "                \"bias\": True,\n",
    "                \"padding\": [0, 3],\n",
    "            },\n",
    "        },\n",
    "        {\"class\": \"ReLU\", \"kargs\": {\"inplace\": True}},\n",
    "        {\"class\": \"BatchNorm2d\", \"kargs\": {\"num_features\": 80}},\n",
    "        {\"class\": \"Flatten\", \"kargs\": {}},\n",
    "        {\"class\": \"Linear\", \"kargs\": {\"in_features\": 20480, \"out_features\": 256}},\n",
    "        {\"class\": \"ReLU\", \"kargs\": {\"inplace\": True}},\n",
    "        {\"class\": \"BatchNorm1d\", \"kargs\": {\"num_features\": 256}},\n",
    "        {\"class\": \"Linear\", \"kargs\": {\"in_features\": 256, \"out_features\": 256}},\n",
    "    ],\n",
    "    \"NUM_LOGS_PER_EPOCH\": 10,\n",
    "    \"BEST_MODEL_PATH\": \"./best_model.pth\",\n",
    "    \"n_way\": 16,\n",
    "    \"datasets\": [\n",
    "        {\n",
    "            \"labels\": [\n",
    "                \"3123D52\",\n",
    "                \"3123D65\",\n",
    "                \"3123D79\",\n",
    "                \"3123D80\",\n",
    "                \"3123D54\",\n",
    "                \"3123D70\",\n",
    "                \"3123D7B\",\n",
    "                \"3123D89\",\n",
    "                \"3123D58\",\n",
    "                \"3123D76\",\n",
    "                \"3123D7D\",\n",
    "                \"3123EFE\",\n",
    "                \"3123D64\",\n",
    "                \"3123D78\",\n",
    "                \"3123D7E\",\n",
    "                \"3124E4A\",\n",
    "            ],\n",
    "            \"domains\": [32, 38, 8, 44, 14, 50, 20, 26],\n",
    "            \"num_examples_per_domain_per_label\": 2000,\n",
    "            \"pickle_path\": \"/root/csc500-main/datasets/oracle.Run1_framed_2000Examples_stratified_ds.2022A.pkl\",\n",
    "            \"source_or_target_dataset\": \"source\",\n",
    "            \"x_transforms\": [\"unit_power\"],\n",
    "            \"episode_transforms\": [],\n",
    "            \"domain_prefix\": \"ORACLE.run1_\",\n",
    "        },\n",
    "        {\n",
    "            \"labels\": [\n",
    "                \"3123D52\",\n",
    "                \"3123D65\",\n",
    "                \"3123D79\",\n",
    "                \"3123D80\",\n",
    "                \"3123D54\",\n",
    "                \"3123D70\",\n",
    "                \"3123D7B\",\n",
    "                \"3123D89\",\n",
    "                \"3123D58\",\n",
    "                \"3123D76\",\n",
    "                \"3123D7D\",\n",
    "                \"3123EFE\",\n",
    "                \"3123D64\",\n",
    "                \"3123D78\",\n",
    "                \"3123D7E\",\n",
    "                \"3124E4A\",\n",
    "            ],\n",
    "            \"domains\": [32, 38, 8, 44, 14, 50, 20, 26],\n",
    "            \"num_examples_per_domain_per_label\": 2000,\n",
    "            \"pickle_path\": \"/root/csc500-main/datasets/oracle.Run2_framed_2000Examples_stratified_ds.2022A.pkl\",\n",
    "            \"source_or_target_dataset\": \"target\",\n",
    "            \"x_transforms\": [\"unit_power\"],\n",
    "            \"episode_transforms\": [],\n",
    "            \"domain_prefix\": \"ORACLE.run2_\",\n",
    "        },\n",
    "    ],\n",
    "    \"dataset_seed\": 1337,\n",
    "    \"seed\": 1337,\n",
    "}\n"
   ]
  },
  {
   "cell_type": "code",
   "execution_count": 5,
   "id": "8fa1cc33",
   "metadata": {
    "execution": {
     "iopub.execute_input": "2022-03-21T02:16:34.169881Z",
     "iopub.status.busy": "2022-03-21T02:16:34.169191Z",
     "iopub.status.idle": "2022-03-21T02:16:34.189014Z",
     "shell.execute_reply": "2022-03-21T02:16:34.188224Z"
    },
    "papermill": {
     "duration": 0.044631,
     "end_time": "2022-03-21T02:16:34.189188",
     "exception": false,
     "start_time": "2022-03-21T02:16:34.144557",
     "status": "completed"
    },
    "tags": []
   },
   "outputs": [],
   "source": [
    "# Set this to True if you want to run this template directly\n",
    "STANDALONE = False\n",
    "if STANDALONE:\n",
    "    print(\"parameters not injected, running with standalone_parameters\")\n",
    "    parameters = standalone_parameters\n",
    "\n",
    "if not 'parameters' in locals() and not 'parameters' in globals():\n",
    "    raise Exception(\"Parameter injection failed\")\n",
    "\n",
    "#Use an easy dict for all the parameters\n",
    "p = EasyDict(parameters)\n",
    "\n",
    "if \"x_shape\" not in p:\n",
    "    p.x_shape = [2,256] # Default to this if we dont supply x_shape\n",
    "\n",
    "\n",
    "supplied_keys = set(p.keys())\n",
    "\n",
    "if  supplied_keys != required_parameters:\n",
    "    print(\"Parameters are incorrect\")\n",
    "    if len(supplied_keys - required_parameters)>0: print(\"Shouldn't have:\", str(supplied_keys - required_parameters))\n",
    "    if len(required_parameters - supplied_keys)>0: print(\"Need to have:\", str(required_parameters - supplied_keys))\n",
    "    raise RuntimeError(\"Parameters are incorrect\")"
   ]
  },
  {
   "cell_type": "code",
   "execution_count": 6,
   "id": "3a028d58",
   "metadata": {
    "execution": {
     "iopub.execute_input": "2022-03-21T02:16:34.240099Z",
     "iopub.status.busy": "2022-03-21T02:16:34.239555Z",
     "iopub.status.idle": "2022-03-21T02:16:34.259520Z",
     "shell.execute_reply": "2022-03-21T02:16:34.258695Z"
    },
    "papermill": {
     "duration": 0.043598,
     "end_time": "2022-03-21T02:16:34.259707",
     "exception": false,
     "start_time": "2022-03-21T02:16:34.216109",
     "status": "completed"
    },
    "tags": []
   },
   "outputs": [],
   "source": [
    "###################################\n",
    "# Set the RNGs and make it all deterministic\n",
    "###################################\n",
    "np.random.seed(p.seed)\n",
    "random.seed(p.seed)\n",
    "torch.manual_seed(p.seed)\n",
    "\n",
    "torch.use_deterministic_algorithms(True) "
   ]
  },
  {
   "cell_type": "code",
   "execution_count": 7,
   "id": "b691acf6",
   "metadata": {
    "execution": {
     "iopub.execute_input": "2022-03-21T02:16:34.314808Z",
     "iopub.status.busy": "2022-03-21T02:16:34.314421Z",
     "iopub.status.idle": "2022-03-21T02:16:34.336514Z",
     "shell.execute_reply": "2022-03-21T02:16:34.335567Z"
    },
    "papermill": {
     "duration": 0.045854,
     "end_time": "2022-03-21T02:16:34.336735",
     "exception": false,
     "start_time": "2022-03-21T02:16:34.290881",
     "status": "completed"
    },
    "tags": []
   },
   "outputs": [],
   "source": [
    "###########################################\n",
    "# The stratified datasets honor this\n",
    "###########################################\n",
    "torch.set_default_dtype(eval(p.torch_default_dtype))"
   ]
  },
  {
   "cell_type": "code",
   "execution_count": 8,
   "id": "b5fba671",
   "metadata": {
    "execution": {
     "iopub.execute_input": "2022-03-21T02:16:34.392294Z",
     "iopub.status.busy": "2022-03-21T02:16:34.391869Z",
     "iopub.status.idle": "2022-03-21T02:16:34.446012Z",
     "shell.execute_reply": "2022-03-21T02:16:34.445180Z"
    },
    "papermill": {
     "duration": 0.077973,
     "end_time": "2022-03-21T02:16:34.446176",
     "exception": false,
     "start_time": "2022-03-21T02:16:34.368203",
     "status": "completed"
    },
    "tags": []
   },
   "outputs": [],
   "source": [
    "###################################\n",
    "# Build the network(s)\n",
    "# Note: It's critical to do this AFTER setting the RNG\n",
    "###################################\n",
    "x_net = build_sequential(p.x_net)"
   ]
  },
  {
   "cell_type": "code",
   "execution_count": 9,
   "id": "5d7e61cc",
   "metadata": {
    "execution": {
     "iopub.execute_input": "2022-03-21T02:16:34.494087Z",
     "iopub.status.busy": "2022-03-21T02:16:34.493720Z",
     "iopub.status.idle": "2022-03-21T02:16:34.515060Z",
     "shell.execute_reply": "2022-03-21T02:16:34.514245Z"
    },
    "papermill": {
     "duration": 0.044132,
     "end_time": "2022-03-21T02:16:34.515216",
     "exception": false,
     "start_time": "2022-03-21T02:16:34.471084",
     "status": "completed"
    },
    "tags": []
   },
   "outputs": [],
   "source": [
    "start_time_secs = time.time()"
   ]
  },
  {
   "cell_type": "code",
   "execution_count": 10,
   "id": "c6b67dfd",
   "metadata": {
    "execution": {
     "iopub.execute_input": "2022-03-21T02:16:34.575487Z",
     "iopub.status.busy": "2022-03-21T02:16:34.575120Z",
     "iopub.status.idle": "2022-03-21T02:16:34.600075Z",
     "shell.execute_reply": "2022-03-21T02:16:34.599241Z"
    },
    "papermill": {
     "duration": 0.05564,
     "end_time": "2022-03-21T02:16:34.600231",
     "exception": false,
     "start_time": "2022-03-21T02:16:34.544591",
     "status": "completed"
    },
    "tags": []
   },
   "outputs": [],
   "source": [
    "p.domains_source = []\n",
    "p.domains_target = []\n",
    "\n",
    "\n",
    "train_original_source = []\n",
    "val_original_source   = []\n",
    "test_original_source  = []\n",
    "\n",
    "train_original_target = []\n",
    "val_original_target   = []\n",
    "test_original_target  = []"
   ]
  },
  {
   "cell_type": "code",
   "execution_count": 11,
   "id": "e3d9c3d3",
   "metadata": {
    "execution": {
     "iopub.execute_input": "2022-03-21T02:16:34.650834Z",
     "iopub.status.busy": "2022-03-21T02:16:34.649574Z",
     "iopub.status.idle": "2022-03-21T02:16:34.671857Z",
     "shell.execute_reply": "2022-03-21T02:16:34.671016Z"
    },
    "papermill": {
     "duration": 0.046011,
     "end_time": "2022-03-21T02:16:34.672014",
     "exception": false,
     "start_time": "2022-03-21T02:16:34.626003",
     "status": "completed"
    },
    "tags": []
   },
   "outputs": [],
   "source": [
    "# global_x_transform_func = lambda x: normalize(x.to(torch.get_default_dtype()), \"unit_power\") # unit_power, unit_mag\n",
    "# global_x_transform_func = lambda x: normalize(x, \"unit_power\") # unit_power, unit_mag"
   ]
  },
  {
   "cell_type": "code",
   "execution_count": 12,
   "id": "acb78fd2",
   "metadata": {
    "execution": {
     "iopub.execute_input": "2022-03-21T02:16:34.727734Z",
     "iopub.status.busy": "2022-03-21T02:16:34.727124Z",
     "iopub.status.idle": "2022-03-21T02:16:34.747252Z",
     "shell.execute_reply": "2022-03-21T02:16:34.746427Z"
    },
    "papermill": {
     "duration": 0.046663,
     "end_time": "2022-03-21T02:16:34.747406",
     "exception": false,
     "start_time": "2022-03-21T02:16:34.700743",
     "status": "completed"
    },
    "tags": []
   },
   "outputs": [],
   "source": [
    "def add_dataset(\n",
    "    labels,\n",
    "    domains,\n",
    "    pickle_path,\n",
    "    x_transforms,\n",
    "    episode_transforms,\n",
    "    domain_prefix,\n",
    "    num_examples_per_domain_per_label,\n",
    "    source_or_target_dataset:str,\n",
    "    iterator_seed=p.seed,\n",
    "    dataset_seed=p.dataset_seed,\n",
    "    n_shot=p.n_shot,\n",
    "    n_way=p.n_way,\n",
    "    n_query=p.n_query,\n",
    "    train_val_test_k_factors=(p.train_k_factor,p.val_k_factor,p.test_k_factor),\n",
    "):\n",
    "   \n",
    "    if x_transforms == []: x_transform = None\n",
    "    else: x_transform = get_chained_transform(x_transforms)\n",
    "    \n",
    "    if episode_transforms == []: episode_transform = None\n",
    "    else: raise Exception(\"episode_transforms not implemented\")\n",
    "    \n",
    "    episode_transform = lambda tup, _prefix=domain_prefix: (_prefix + str(tup[0]), tup[1])\n",
    "\n",
    "\n",
    "    eaf = Episodic_Accessor_Factory(\n",
    "        labels=labels,\n",
    "        domains=domains,\n",
    "        num_examples_per_domain_per_label=num_examples_per_domain_per_label,\n",
    "        iterator_seed=iterator_seed,\n",
    "        dataset_seed=dataset_seed,\n",
    "        n_shot=n_shot,\n",
    "        n_way=n_way,\n",
    "        n_query=n_query,\n",
    "        train_val_test_k_factors=train_val_test_k_factors,\n",
    "        pickle_path=pickle_path,\n",
    "        x_transform_func=x_transform,\n",
    "    )\n",
    "\n",
    "    train, val, test = eaf.get_train(), eaf.get_val(), eaf.get_test()\n",
    "    train = Lazy_Iterable_Wrapper(train, episode_transform)\n",
    "    val = Lazy_Iterable_Wrapper(val, episode_transform)\n",
    "    test = Lazy_Iterable_Wrapper(test, episode_transform)\n",
    "\n",
    "    if source_or_target_dataset==\"source\":\n",
    "        train_original_source.append(train)\n",
    "        val_original_source.append(val)\n",
    "        test_original_source.append(test)\n",
    "\n",
    "        p.domains_source.extend(\n",
    "            [domain_prefix + str(u) for u in domains]\n",
    "        )\n",
    "    elif source_or_target_dataset==\"target\":\n",
    "        train_original_target.append(train)\n",
    "        val_original_target.append(val)\n",
    "        test_original_target.append(test)\n",
    "        p.domains_target.extend(\n",
    "            [domain_prefix + str(u) for u in domains]\n",
    "        )\n",
    "    else:\n",
    "        raise Exception(f\"invalid source_or_target_dataset: {source_or_target_dataset}\")\n",
    "    "
   ]
  },
  {
   "cell_type": "code",
   "execution_count": 13,
   "id": "fe266617",
   "metadata": {
    "execution": {
     "iopub.execute_input": "2022-03-21T02:16:34.801578Z",
     "iopub.status.busy": "2022-03-21T02:16:34.801203Z",
     "iopub.status.idle": "2022-03-21T02:17:18.266261Z",
     "shell.execute_reply": "2022-03-21T02:17:18.265478Z"
    },
    "papermill": {
     "duration": 43.489645,
     "end_time": "2022-03-21T02:17:18.266442",
     "exception": false,
     "start_time": "2022-03-21T02:16:34.776797",
     "status": "completed"
    },
    "tags": []
   },
   "outputs": [],
   "source": [
    "for ds in p.datasets:\n",
    "    add_dataset(**ds)"
   ]
  },
  {
   "cell_type": "code",
   "execution_count": 14,
   "id": "b90d65ac",
   "metadata": {
    "execution": {
     "iopub.execute_input": "2022-03-21T02:17:18.317489Z",
     "iopub.status.busy": "2022-03-21T02:17:18.317101Z",
     "iopub.status.idle": "2022-03-21T02:17:18.342119Z",
     "shell.execute_reply": "2022-03-21T02:17:18.341295Z"
    },
    "papermill": {
     "duration": 0.049005,
     "end_time": "2022-03-21T02:17:18.342275",
     "exception": false,
     "start_time": "2022-03-21T02:17:18.293270",
     "status": "completed"
    },
    "tags": []
   },
   "outputs": [],
   "source": [
    "# from steves_utils.CORES.utils import (\n",
    "#     ALL_NODES,\n",
    "#     ALL_NODES_MINIMUM_1000_EXAMPLES,\n",
    "#     ALL_DAYS\n",
    "# )\n",
    "\n",
    "# add_dataset(\n",
    "#     labels=ALL_NODES,\n",
    "#     domains = ALL_DAYS,\n",
    "#     num_examples_per_domain_per_label=100,\n",
    "#     pickle_path=os.path.join(get_datasets_base_path(), \"cores.stratified_ds.2022A.pkl\"),\n",
    "#     source_or_target_dataset=\"target\",\n",
    "#     x_transform_func=global_x_transform_func,\n",
    "#     domain_modifier=lambda u: f\"cores_{u}\"\n",
    "# )"
   ]
  },
  {
   "cell_type": "code",
   "execution_count": 15,
   "id": "76db484d",
   "metadata": {
    "execution": {
     "iopub.execute_input": "2022-03-21T02:17:18.397341Z",
     "iopub.status.busy": "2022-03-21T02:17:18.392123Z",
     "iopub.status.idle": "2022-03-21T02:17:18.417905Z",
     "shell.execute_reply": "2022-03-21T02:17:18.417072Z"
    },
    "papermill": {
     "duration": 0.050243,
     "end_time": "2022-03-21T02:17:18.418062",
     "exception": false,
     "start_time": "2022-03-21T02:17:18.367819",
     "status": "completed"
    },
    "tags": []
   },
   "outputs": [],
   "source": [
    "# from steves_utils.ORACLE.utils_v2 import (\n",
    "#     ALL_DISTANCES_FEET,\n",
    "#     ALL_RUNS,\n",
    "#     ALL_SERIAL_NUMBERS,\n",
    "# )\n",
    "\n",
    "\n",
    "# add_dataset(\n",
    "#     labels=ALL_SERIAL_NUMBERS,\n",
    "#     domains = list(set(ALL_DISTANCES_FEET) - {2,62}),\n",
    "#     num_examples_per_domain_per_label=100,\n",
    "#     pickle_path=os.path.join(get_datasets_base_path(), \"oracle.Run2_framed_2000Examples_stratified_ds.2022A.pkl\"),\n",
    "#     source_or_target_dataset=\"source\",\n",
    "#     x_transform_func=global_x_transform_func,\n",
    "#     domain_modifier=lambda u: f\"oracle1_{u}\"\n",
    "# )\n"
   ]
  },
  {
   "cell_type": "code",
   "execution_count": 16,
   "id": "97dea9d2",
   "metadata": {
    "execution": {
     "iopub.execute_input": "2022-03-21T02:17:18.469523Z",
     "iopub.status.busy": "2022-03-21T02:17:18.468311Z",
     "iopub.status.idle": "2022-03-21T02:17:18.492388Z",
     "shell.execute_reply": "2022-03-21T02:17:18.491553Z"
    },
    "papermill": {
     "duration": 0.047704,
     "end_time": "2022-03-21T02:17:18.492549",
     "exception": false,
     "start_time": "2022-03-21T02:17:18.444845",
     "status": "completed"
    },
    "tags": []
   },
   "outputs": [],
   "source": [
    "# from steves_utils.ORACLE.utils_v2 import (\n",
    "#     ALL_DISTANCES_FEET,\n",
    "#     ALL_RUNS,\n",
    "#     ALL_SERIAL_NUMBERS,\n",
    "# )\n",
    "\n",
    "\n",
    "# add_dataset(\n",
    "#     labels=ALL_SERIAL_NUMBERS,\n",
    "#     domains = list(set(ALL_DISTANCES_FEET) - {2,62,56}),\n",
    "#     num_examples_per_domain_per_label=100,\n",
    "#     pickle_path=os.path.join(get_datasets_base_path(), \"oracle.Run2_framed_2000Examples_stratified_ds.2022A.pkl\"),\n",
    "#     source_or_target_dataset=\"source\",\n",
    "#     x_transform_func=global_x_transform_func,\n",
    "#     domain_modifier=lambda u: f\"oracle2_{u}\"\n",
    "# )"
   ]
  },
  {
   "cell_type": "code",
   "execution_count": 17,
   "id": "6f289866",
   "metadata": {
    "execution": {
     "iopub.execute_input": "2022-03-21T02:17:18.547494Z",
     "iopub.status.busy": "2022-03-21T02:17:18.546916Z",
     "iopub.status.idle": "2022-03-21T02:17:18.571976Z",
     "shell.execute_reply": "2022-03-21T02:17:18.571125Z"
    },
    "papermill": {
     "duration": 0.050254,
     "end_time": "2022-03-21T02:17:18.572133",
     "exception": false,
     "start_time": "2022-03-21T02:17:18.521879",
     "status": "completed"
    },
    "tags": []
   },
   "outputs": [],
   "source": [
    "# add_dataset(\n",
    "#     labels=list(range(19)),\n",
    "#     domains = [0,1,2],\n",
    "#     num_examples_per_domain_per_label=100,\n",
    "#     pickle_path=os.path.join(get_datasets_base_path(), \"metehan.stratified_ds.2022A.pkl\"),\n",
    "#     source_or_target_dataset=\"target\",\n",
    "#     x_transform_func=global_x_transform_func,\n",
    "#     domain_modifier=lambda u: f\"met_{u}\"\n",
    "# )"
   ]
  },
  {
   "cell_type": "code",
   "execution_count": 18,
   "id": "86a863c3",
   "metadata": {
    "execution": {
     "iopub.execute_input": "2022-03-21T02:17:18.624232Z",
     "iopub.status.busy": "2022-03-21T02:17:18.623854Z",
     "iopub.status.idle": "2022-03-21T02:17:18.647132Z",
     "shell.execute_reply": "2022-03-21T02:17:18.646421Z"
    },
    "papermill": {
     "duration": 0.047515,
     "end_time": "2022-03-21T02:17:18.647289",
     "exception": false,
     "start_time": "2022-03-21T02:17:18.599774",
     "status": "completed"
    },
    "tags": []
   },
   "outputs": [],
   "source": [
    "# # from steves_utils.wisig.utils import (\n",
    "# #     ALL_NODES_MINIMUM_100_EXAMPLES,\n",
    "# #     ALL_NODES_MINIMUM_500_EXAMPLES,\n",
    "# #     ALL_NODES_MINIMUM_1000_EXAMPLES,\n",
    "# #     ALL_DAYS\n",
    "# # )\n",
    "\n",
    "# import steves_utils.wisig.utils as wisig\n",
    "\n",
    "\n",
    "# add_dataset(\n",
    "#     labels=wisig.ALL_NODES_MINIMUM_100_EXAMPLES,\n",
    "#     domains = wisig.ALL_DAYS,\n",
    "#     num_examples_per_domain_per_label=100,\n",
    "#     pickle_path=os.path.join(get_datasets_base_path(), \"wisig.node3-19.stratified_ds.2022A.pkl\"),\n",
    "#     source_or_target_dataset=\"target\",\n",
    "#     x_transform_func=global_x_transform_func,\n",
    "#     domain_modifier=lambda u: f\"wisig_{u}\"\n",
    "# )"
   ]
  },
  {
   "cell_type": "code",
   "execution_count": 19,
   "id": "fd5442bc",
   "metadata": {
    "execution": {
     "iopub.execute_input": "2022-03-21T02:17:18.705314Z",
     "iopub.status.busy": "2022-03-21T02:17:18.703147Z",
     "iopub.status.idle": "2022-03-21T02:17:18.727332Z",
     "shell.execute_reply": "2022-03-21T02:17:18.726512Z"
    },
    "papermill": {
     "duration": 0.052555,
     "end_time": "2022-03-21T02:17:18.727492",
     "exception": false,
     "start_time": "2022-03-21T02:17:18.674937",
     "status": "completed"
    },
    "tags": []
   },
   "outputs": [],
   "source": [
    "###################################\n",
    "# Build the dataset\n",
    "###################################\n",
    "train_original_source = Iterable_Aggregator(train_original_source, p.seed)\n",
    "val_original_source = Iterable_Aggregator(val_original_source, p.seed)\n",
    "test_original_source = Iterable_Aggregator(test_original_source, p.seed)\n",
    "\n",
    "\n",
    "train_original_target = Iterable_Aggregator(train_original_target, p.seed)\n",
    "val_original_target = Iterable_Aggregator(val_original_target, p.seed)\n",
    "test_original_target = Iterable_Aggregator(test_original_target, p.seed)\n",
    "\n",
    "# For CNN We only use X and Y. And we only train on the source.\n",
    "# Properly form the data using a transform lambda and Lazy_Iterable_Wrapper. Finally wrap them in a dataloader\n",
    "\n",
    "transform_lambda = lambda ex: ex[1] # Original is (<domain>, <episode>) so we strip down to episode only\n",
    "\n",
    "train_processed_source = Lazy_Iterable_Wrapper(train_original_source, transform_lambda)\n",
    "val_processed_source   = Lazy_Iterable_Wrapper(val_original_source, transform_lambda)\n",
    "test_processed_source  = Lazy_Iterable_Wrapper(test_original_source, transform_lambda)\n",
    "\n",
    "train_processed_target = Lazy_Iterable_Wrapper(train_original_target, transform_lambda)\n",
    "val_processed_target   = Lazy_Iterable_Wrapper(val_original_target, transform_lambda)\n",
    "test_processed_target  = Lazy_Iterable_Wrapper(test_original_target, transform_lambda)\n",
    "\n",
    "datasets = EasyDict({\n",
    "    \"source\": {\n",
    "        \"original\": {\"train\":train_original_source, \"val\":val_original_source, \"test\":test_original_source},\n",
    "        \"processed\": {\"train\":train_processed_source, \"val\":val_processed_source, \"test\":test_processed_source}\n",
    "    },\n",
    "    \"target\": {\n",
    "        \"original\": {\"train\":train_original_target, \"val\":val_original_target, \"test\":test_original_target},\n",
    "        \"processed\": {\"train\":train_processed_target, \"val\":val_processed_target, \"test\":test_processed_target}\n",
    "    },\n",
    "})"
   ]
  },
  {
   "cell_type": "code",
   "execution_count": 20,
   "id": "5b3c01fc",
   "metadata": {
    "execution": {
     "iopub.execute_input": "2022-03-21T02:17:18.784339Z",
     "iopub.status.busy": "2022-03-21T02:17:18.783427Z",
     "iopub.status.idle": "2022-03-21T02:17:35.174833Z",
     "shell.execute_reply": "2022-03-21T02:17:35.175549Z"
    },
    "papermill": {
     "duration": 16.418173,
     "end_time": "2022-03-21T02:17:35.175778",
     "exception": false,
     "start_time": "2022-03-21T02:17:18.757605",
     "status": "completed"
    },
    "tags": []
   },
   "outputs": [
    {
     "name": "stdout",
     "output_type": "stream",
     "text": [
      "{'ORACLE.run1_44', 'ORACLE.run1_14', 'ORACLE.run1_50', 'ORACLE.run1_26', 'ORACLE.run1_8', 'ORACLE.run1_20', 'ORACLE.run1_38', 'ORACLE.run1_32'}\n"
     ]
    },
    {
     "name": "stdout",
     "output_type": "stream",
     "text": [
      "{'ORACLE.run2_14', 'ORACLE.run2_44', 'ORACLE.run2_38', 'ORACLE.run2_26', 'ORACLE.run2_20', 'ORACLE.run2_8', 'ORACLE.run2_50', 'ORACLE.run2_32'}\n"
     ]
    },
    {
     "name": "stdout",
     "output_type": "stream",
     "text": [
      "tensor([[[-0.0924,  1.1552, -0.1109,  ..., -0.9518, -0.2588, -0.5545],\n",
      "         [-0.6376, -0.2957,  1.0535,  ...,  0.2403, -1.4139, -0.4713]],\n",
      "\n",
      "        [[-0.4449,  0.6767,  0.5469,  ..., -1.2421, -1.1679, -0.1112],\n",
      "         [-1.1216, -0.3152,  1.1030,  ...,  0.4078, -0.1483,  1.2050]],\n",
      "\n",
      "        [[ 0.6507, -0.3532, -0.7623,  ...,  0.7901,  1.3665,  0.3254],\n",
      "         [ 0.8273,  0.6786, -0.8831,  ..., -0.7530,  0.4648, -1.1527]],\n",
      "\n",
      "        ...,\n",
      "\n",
      "        [[ 0.9828, -0.2394, -1.1718,  ...,  0.6363,  0.9828, -0.6489],\n",
      "         [ 0.5544,  0.7119, -0.3717,  ..., -0.9702, -0.6111, -1.1214]],\n",
      "\n",
      "        [[ 0.0252, -0.9847,  0.2840,  ...,  0.8963,  0.4671,  1.0667],\n",
      "         [ 0.7890,  0.4229, -1.1298,  ..., -0.1199,  1.2624, -0.2272]],\n",
      "\n",
      "        [[ 0.4796,  0.3281, -0.7194,  ..., -0.4544,  1.2306,  1.0223],\n",
      "         [-0.4102,  1.1043, -0.0316,  ..., -1.0728, -0.0568, -0.2461]]])\n"
     ]
    }
   ],
   "source": [
    "from steves_utils.transforms import get_average_magnitude, get_average_power\n",
    "\n",
    "print(set([u for u,_ in val_original_source]))\n",
    "print(set([u for u,_ in val_original_target]))\n",
    "\n",
    "s_x, s_y, q_x, q_y, _ = next(iter(train_processed_source))\n",
    "print(s_x)\n",
    "\n",
    "# for ds in [\n",
    "#     train_processed_source,\n",
    "#     val_processed_source,\n",
    "#     test_processed_source,\n",
    "#     train_processed_target,\n",
    "#     val_processed_target,\n",
    "#     test_processed_target\n",
    "# ]:\n",
    "#     for s_x, s_y, q_x, q_y, _ in ds:\n",
    "#         for X in (s_x, q_x):\n",
    "#             for x in X:\n",
    "#                 assert np.isclose(get_average_magnitude(x.numpy()), 1.0)\n",
    "#                 assert np.isclose(get_average_power(x.numpy()), 1.0)\n",
    "                "
   ]
  },
  {
   "cell_type": "code",
   "execution_count": 21,
   "id": "bbdacba1",
   "metadata": {
    "execution": {
     "iopub.execute_input": "2022-03-21T02:17:35.227485Z",
     "iopub.status.busy": "2022-03-21T02:17:35.227094Z",
     "iopub.status.idle": "2022-03-21T02:17:35.372841Z",
     "shell.execute_reply": "2022-03-21T02:17:35.373156Z"
    },
    "papermill": {
     "duration": 0.172653,
     "end_time": "2022-03-21T02:17:35.373300",
     "exception": false,
     "start_time": "2022-03-21T02:17:35.200647",
     "status": "completed"
    },
    "tags": []
   },
   "outputs": [
    {
     "name": "stdout",
     "output_type": "stream",
     "text": [
      "(2, 256)\n"
     ]
    }
   ],
   "source": [
    "###################################\n",
    "# Build the model\n",
    "###################################\n",
    "# easfsl only wants a tuple for the shape\n",
    "model = Steves_Prototypical_Network(x_net, device=p.device, x_shape=tuple(p.x_shape))\n",
    "optimizer = Adam(params=model.parameters(), lr=p.lr)"
   ]
  },
  {
   "cell_type": "code",
   "execution_count": 22,
   "id": "22b39ac5",
   "metadata": {
    "execution": {
     "iopub.execute_input": "2022-03-21T02:17:35.423626Z",
     "iopub.status.busy": "2022-03-21T02:17:35.423234Z",
     "iopub.status.idle": "2022-03-21T03:26:03.452683Z",
     "shell.execute_reply": "2022-03-21T03:26:03.452341Z"
    },
    "papermill": {
     "duration": 4108.056921,
     "end_time": "2022-03-21T03:26:03.452768",
     "exception": false,
     "start_time": "2022-03-21T02:17:35.395847",
     "status": "completed"
    },
    "tags": []
   },
   "outputs": [
    {
     "name": "stdout",
     "output_type": "stream",
     "text": [
      "epoch: 1, [batch: 1 / 6720], examples_per_second: 32.1853, train_label_loss: 2.9737, \n"
     ]
    },
    {
     "name": "stdout",
     "output_type": "stream",
     "text": [
      "epoch: 1, [batch: 672 / 6720], examples_per_second: 3346.6653, train_label_loss: 1.3705, \n"
     ]
    },
    {
     "name": "stdout",
     "output_type": "stream",
     "text": [
      "epoch: 1, [batch: 1344 / 6720], examples_per_second: 3000.0684, train_label_loss: 0.6519, \n"
     ]
    },
    {
     "name": "stdout",
     "output_type": "stream",
     "text": [
      "epoch: 1, [batch: 2016 / 6720], examples_per_second: 3001.0816, train_label_loss: 0.6388, \n"
     ]
    },
    {
     "name": "stdout",
     "output_type": "stream",
     "text": [
      "epoch: 1, [batch: 2688 / 6720], examples_per_second: 2923.9189, train_label_loss: 0.8008, \n"
     ]
    },
    {
     "name": "stdout",
     "output_type": "stream",
     "text": [
      "epoch: 1, [batch: 3360 / 6720], examples_per_second: 2420.4912, train_label_loss: 0.8381, \n"
     ]
    },
    {
     "name": "stdout",
     "output_type": "stream",
     "text": [
      "epoch: 1, [batch: 4032 / 6720], examples_per_second: 2360.2928, train_label_loss: 0.5642, \n"
     ]
    },
    {
     "name": "stdout",
     "output_type": "stream",
     "text": [
      "epoch: 1, [batch: 4704 / 6720], examples_per_second: 2321.3080, train_label_loss: 0.3418, \n"
     ]
    },
    {
     "name": "stdout",
     "output_type": "stream",
     "text": [
      "epoch: 1, [batch: 5376 / 6720], examples_per_second: 2352.7435, train_label_loss: 0.6847, \n"
     ]
    },
    {
     "name": "stdout",
     "output_type": "stream",
     "text": [
      "epoch: 1, [batch: 6048 / 6720], examples_per_second: 2556.8009, train_label_loss: 0.4238, \n"
     ]
    },
    {
     "name": "stdout",
     "output_type": "stream",
     "text": [
      "=============================================================\n",
      "epoch: 1, source_val_acc_label: 0.6687, target_val_acc_label: 0.6628, source_val_label_loss: 31.3708, target_val_label_loss: 32.3150, \n",
      "=============================================================\n"
     ]
    },
    {
     "name": "stdout",
     "output_type": "stream",
     "text": [
      "New best\n"
     ]
    },
    {
     "name": "stdout",
     "output_type": "stream",
     "text": [
      "epoch: 2, [batch: 1 / 6720], examples_per_second: 2.4780, train_label_loss: 24.5370, \n"
     ]
    },
    {
     "name": "stdout",
     "output_type": "stream",
     "text": [
      "epoch: 2, [batch: 672 / 6720], examples_per_second: 2729.1451, train_label_loss: 0.6052, \n"
     ]
    },
    {
     "name": "stdout",
     "output_type": "stream",
     "text": [
      "epoch: 2, [batch: 1344 / 6720], examples_per_second: 2577.7853, train_label_loss: 0.3991, \n"
     ]
    },
    {
     "name": "stdout",
     "output_type": "stream",
     "text": [
      "epoch: 2, [batch: 2016 / 6720], examples_per_second: 2600.9173, train_label_loss: 1.0733, \n"
     ]
    },
    {
     "name": "stdout",
     "output_type": "stream",
     "text": [
      "epoch: 2, [batch: 2688 / 6720], examples_per_second: 2699.0926, train_label_loss: 0.7240, \n"
     ]
    },
    {
     "name": "stdout",
     "output_type": "stream",
     "text": [
      "epoch: 2, [batch: 3360 / 6720], examples_per_second: 2695.9956, train_label_loss: 0.4031, \n"
     ]
    },
    {
     "name": "stdout",
     "output_type": "stream",
     "text": [
      "epoch: 2, [batch: 4032 / 6720], examples_per_second: 2649.0322, train_label_loss: 0.8458, \n"
     ]
    },
    {
     "name": "stdout",
     "output_type": "stream",
     "text": [
      "epoch: 2, [batch: 4704 / 6720], examples_per_second: 2581.0429, train_label_loss: 0.5968, \n"
     ]
    },
    {
     "name": "stdout",
     "output_type": "stream",
     "text": [
      "epoch: 2, [batch: 5376 / 6720], examples_per_second: 2983.6886, train_label_loss: 0.6397, \n"
     ]
    },
    {
     "name": "stdout",
     "output_type": "stream",
     "text": [
      "epoch: 2, [batch: 6048 / 6720], examples_per_second: 2862.5368, train_label_loss: 0.4534, \n"
     ]
    },
    {
     "name": "stdout",
     "output_type": "stream",
     "text": [
      "=============================================================\n",
      "epoch: 2, source_val_acc_label: 0.7992, target_val_acc_label: 0.7944, source_val_label_loss: 0.5489, target_val_label_loss: 0.6007, \n",
      "=============================================================\n"
     ]
    },
    {
     "name": "stdout",
     "output_type": "stream",
     "text": [
      "New best\n"
     ]
    },
    {
     "name": "stdout",
     "output_type": "stream",
     "text": [
      "epoch: 3, [batch: 1 / 6720], examples_per_second: 2.3101, train_label_loss: 0.6888, \n"
     ]
    },
    {
     "name": "stdout",
     "output_type": "stream",
     "text": [
      "epoch: 3, [batch: 672 / 6720], examples_per_second: 2965.7765, train_label_loss: 0.2027, \n"
     ]
    },
    {
     "name": "stdout",
     "output_type": "stream",
     "text": [
      "epoch: 3, [batch: 1344 / 6720], examples_per_second: 2850.1201, train_label_loss: 0.3707, \n"
     ]
    },
    {
     "name": "stdout",
     "output_type": "stream",
     "text": [
      "epoch: 3, [batch: 2016 / 6720], examples_per_second: 2821.0643, train_label_loss: 0.1958, \n"
     ]
    },
    {
     "name": "stdout",
     "output_type": "stream",
     "text": [
      "epoch: 3, [batch: 2688 / 6720], examples_per_second: 2825.1331, train_label_loss: 0.3846, \n"
     ]
    },
    {
     "name": "stdout",
     "output_type": "stream",
     "text": [
      "epoch: 3, [batch: 3360 / 6720], examples_per_second: 3035.0432, train_label_loss: 1.0251, \n"
     ]
    },
    {
     "name": "stdout",
     "output_type": "stream",
     "text": [
      "epoch: 3, [batch: 4032 / 6720], examples_per_second: 2946.6829, train_label_loss: 0.5501, \n"
     ]
    },
    {
     "name": "stdout",
     "output_type": "stream",
     "text": [
      "epoch: 3, [batch: 4704 / 6720], examples_per_second: 2743.8749, train_label_loss: 0.2123, \n"
     ]
    },
    {
     "name": "stdout",
     "output_type": "stream",
     "text": [
      "epoch: 3, [batch: 5376 / 6720], examples_per_second: 3161.2235, train_label_loss: 0.3079, \n"
     ]
    },
    {
     "name": "stdout",
     "output_type": "stream",
     "text": [
      "epoch: 3, [batch: 6048 / 6720], examples_per_second: 3219.2202, train_label_loss: 0.1517, \n"
     ]
    },
    {
     "name": "stdout",
     "output_type": "stream",
     "text": [
      "=============================================================\n",
      "epoch: 3, source_val_acc_label: 0.8458, target_val_acc_label: 0.8355, source_val_label_loss: 0.4280, target_val_label_loss: 0.4870, \n",
      "=============================================================\n"
     ]
    },
    {
     "name": "stdout",
     "output_type": "stream",
     "text": [
      "New best\n"
     ]
    },
    {
     "name": "stdout",
     "output_type": "stream",
     "text": [
      "epoch: 4, [batch: 1 / 6720], examples_per_second: 3.3875, train_label_loss: 0.2347, \n"
     ]
    },
    {
     "name": "stdout",
     "output_type": "stream",
     "text": [
      "epoch: 4, [batch: 672 / 6720], examples_per_second: 3804.0957, train_label_loss: 0.1486, \n"
     ]
    },
    {
     "name": "stdout",
     "output_type": "stream",
     "text": [
      "epoch: 4, [batch: 1344 / 6720], examples_per_second: 3809.7056, train_label_loss: 0.8034, \n"
     ]
    },
    {
     "name": "stdout",
     "output_type": "stream",
     "text": [
      "epoch: 4, [batch: 2016 / 6720], examples_per_second: 4004.8226, train_label_loss: 0.6152, \n"
     ]
    },
    {
     "name": "stdout",
     "output_type": "stream",
     "text": [
      "epoch: 4, [batch: 2688 / 6720], examples_per_second: 3906.6330, train_label_loss: 0.5013, \n"
     ]
    },
    {
     "name": "stdout",
     "output_type": "stream",
     "text": [
      "epoch: 4, [batch: 3360 / 6720], examples_per_second: 3536.9165, train_label_loss: 0.2682, \n"
     ]
    },
    {
     "name": "stdout",
     "output_type": "stream",
     "text": [
      "epoch: 4, [batch: 4032 / 6720], examples_per_second: 3176.9505, train_label_loss: 0.6595, \n"
     ]
    },
    {
     "name": "stdout",
     "output_type": "stream",
     "text": [
      "epoch: 4, [batch: 4704 / 6720], examples_per_second: 2887.0236, train_label_loss: 0.4421, \n"
     ]
    },
    {
     "name": "stdout",
     "output_type": "stream",
     "text": [
      "epoch: 4, [batch: 5376 / 6720], examples_per_second: 2587.3106, train_label_loss: 0.2826, \n"
     ]
    },
    {
     "name": "stdout",
     "output_type": "stream",
     "text": [
      "epoch: 4, [batch: 6048 / 6720], examples_per_second: 2845.2463, train_label_loss: 0.3187, \n"
     ]
    },
    {
     "name": "stdout",
     "output_type": "stream",
     "text": [
      "=============================================================\n",
      "epoch: 4, source_val_acc_label: 0.8498, target_val_acc_label: 0.8335, source_val_label_loss: 0.4146, target_val_label_loss: 0.4999, \n",
      "=============================================================\n"
     ]
    },
    {
     "name": "stdout",
     "output_type": "stream",
     "text": [
      "epoch: 5, [batch: 1 / 6720], examples_per_second: 2.5523, train_label_loss: 0.1345, \n"
     ]
    },
    {
     "name": "stdout",
     "output_type": "stream",
     "text": [
      "epoch: 5, [batch: 672 / 6720], examples_per_second: 2660.5884, train_label_loss: 0.1707, \n"
     ]
    },
    {
     "name": "stdout",
     "output_type": "stream",
     "text": [
      "epoch: 5, [batch: 1344 / 6720], examples_per_second: 2955.6193, train_label_loss: 0.4789, \n"
     ]
    },
    {
     "name": "stdout",
     "output_type": "stream",
     "text": [
      "epoch: 5, [batch: 2016 / 6720], examples_per_second: 2996.4966, train_label_loss: 0.6024, \n"
     ]
    },
    {
     "name": "stdout",
     "output_type": "stream",
     "text": [
      "epoch: 5, [batch: 2688 / 6720], examples_per_second: 3449.7602, train_label_loss: 0.2807, \n"
     ]
    },
    {
     "name": "stdout",
     "output_type": "stream",
     "text": [
      "epoch: 5, [batch: 3360 / 6720], examples_per_second: 3454.4071, train_label_loss: 0.0976, \n"
     ]
    },
    {
     "name": "stdout",
     "output_type": "stream",
     "text": [
      "epoch: 5, [batch: 4032 / 6720], examples_per_second: 3104.1531, train_label_loss: 0.2367, \n"
     ]
    },
    {
     "name": "stdout",
     "output_type": "stream",
     "text": [
      "epoch: 5, [batch: 4704 / 6720], examples_per_second: 2312.8419, train_label_loss: 0.1255, \n"
     ]
    },
    {
     "name": "stdout",
     "output_type": "stream",
     "text": [
      "epoch: 5, [batch: 5376 / 6720], examples_per_second: 2496.5144, train_label_loss: 0.4833, \n"
     ]
    },
    {
     "name": "stdout",
     "output_type": "stream",
     "text": [
      "epoch: 5, [batch: 6048 / 6720], examples_per_second: 2371.4439, train_label_loss: 0.2191, \n"
     ]
    },
    {
     "name": "stdout",
     "output_type": "stream",
     "text": [
      "=============================================================\n",
      "epoch: 5, source_val_acc_label: 0.8622, target_val_acc_label: 0.8486, source_val_label_loss: 0.3849, target_val_label_loss: 0.4595, \n",
      "=============================================================\n"
     ]
    },
    {
     "name": "stdout",
     "output_type": "stream",
     "text": [
      "New best\n"
     ]
    },
    {
     "name": "stdout",
     "output_type": "stream",
     "text": [
      "epoch: 6, [batch: 1 / 6720], examples_per_second: 2.3921, train_label_loss: 0.3296, \n"
     ]
    },
    {
     "name": "stdout",
     "output_type": "stream",
     "text": [
      "epoch: 6, [batch: 672 / 6720], examples_per_second: 2914.9910, train_label_loss: 0.5889, \n"
     ]
    },
    {
     "name": "stdout",
     "output_type": "stream",
     "text": [
      "epoch: 6, [batch: 1344 / 6720], examples_per_second: 2899.5699, train_label_loss: 0.4667, \n"
     ]
    },
    {
     "name": "stdout",
     "output_type": "stream",
     "text": [
      "epoch: 6, [batch: 2016 / 6720], examples_per_second: 3612.9907, train_label_loss: 0.1172, \n"
     ]
    },
    {
     "name": "stdout",
     "output_type": "stream",
     "text": [
      "epoch: 6, [batch: 2688 / 6720], examples_per_second: 3928.8548, train_label_loss: 0.0741, \n"
     ]
    },
    {
     "name": "stdout",
     "output_type": "stream",
     "text": [
      "epoch: 6, [batch: 3360 / 6720], examples_per_second: 2908.3096, train_label_loss: 0.1806, \n"
     ]
    },
    {
     "name": "stdout",
     "output_type": "stream",
     "text": [
      "epoch: 6, [batch: 4032 / 6720], examples_per_second: 2330.5388, train_label_loss: 0.4615, \n"
     ]
    },
    {
     "name": "stdout",
     "output_type": "stream",
     "text": [
      "epoch: 6, [batch: 4704 / 6720], examples_per_second: 2504.3240, train_label_loss: 0.3955, \n"
     ]
    },
    {
     "name": "stdout",
     "output_type": "stream",
     "text": [
      "epoch: 6, [batch: 5376 / 6720], examples_per_second: 2344.7337, train_label_loss: 0.3707, \n"
     ]
    },
    {
     "name": "stdout",
     "output_type": "stream",
     "text": [
      "epoch: 6, [batch: 6048 / 6720], examples_per_second: 2428.7902, train_label_loss: 0.1388, \n"
     ]
    },
    {
     "name": "stdout",
     "output_type": "stream",
     "text": [
      "=============================================================\n",
      "epoch: 6, source_val_acc_label: 0.8814, target_val_acc_label: 0.8650, source_val_label_loss: 0.3268, target_val_label_loss: 0.4236, \n",
      "=============================================================\n"
     ]
    },
    {
     "name": "stdout",
     "output_type": "stream",
     "text": [
      "New best\n"
     ]
    },
    {
     "name": "stdout",
     "output_type": "stream",
     "text": [
      "epoch: 7, [batch: 1 / 6720], examples_per_second: 2.1936, train_label_loss: 0.0750, \n"
     ]
    },
    {
     "name": "stdout",
     "output_type": "stream",
     "text": [
      "epoch: 7, [batch: 672 / 6720], examples_per_second: 2807.3075, train_label_loss: 0.4636, \n"
     ]
    },
    {
     "name": "stdout",
     "output_type": "stream",
     "text": [
      "epoch: 7, [batch: 1344 / 6720], examples_per_second: 3663.3982, train_label_loss: 0.1798, \n"
     ]
    },
    {
     "name": "stdout",
     "output_type": "stream",
     "text": [
      "epoch: 7, [batch: 2016 / 6720], examples_per_second: 3810.3967, train_label_loss: 0.3048, \n"
     ]
    },
    {
     "name": "stdout",
     "output_type": "stream",
     "text": [
      "epoch: 7, [batch: 2688 / 6720], examples_per_second: 3451.6530, train_label_loss: 0.5140, \n"
     ]
    },
    {
     "name": "stdout",
     "output_type": "stream",
     "text": [
      "epoch: 7, [batch: 3360 / 6720], examples_per_second: 3382.7081, train_label_loss: 0.7919, \n"
     ]
    },
    {
     "name": "stdout",
     "output_type": "stream",
     "text": [
      "epoch: 7, [batch: 4032 / 6720], examples_per_second: 3367.6595, train_label_loss: 0.1454, \n"
     ]
    },
    {
     "name": "stdout",
     "output_type": "stream",
     "text": [
      "epoch: 7, [batch: 4704 / 6720], examples_per_second: 3009.6823, train_label_loss: 0.3021, \n"
     ]
    },
    {
     "name": "stdout",
     "output_type": "stream",
     "text": [
      "epoch: 7, [batch: 5376 / 6720], examples_per_second: 2341.4032, train_label_loss: 0.1171, \n"
     ]
    },
    {
     "name": "stdout",
     "output_type": "stream",
     "text": [
      "epoch: 7, [batch: 6048 / 6720], examples_per_second: 2358.0671, train_label_loss: 0.1785, \n"
     ]
    },
    {
     "name": "stdout",
     "output_type": "stream",
     "text": [
      "=============================================================\n",
      "epoch: 7, source_val_acc_label: 0.8703, target_val_acc_label: 0.8499, source_val_label_loss: 0.3529, target_val_label_loss: 0.4523, \n",
      "=============================================================\n"
     ]
    },
    {
     "name": "stdout",
     "output_type": "stream",
     "text": [
      "epoch: 8, [batch: 1 / 6720], examples_per_second: 2.1215, train_label_loss: 0.3725, \n"
     ]
    },
    {
     "name": "stdout",
     "output_type": "stream",
     "text": [
      "epoch: 8, [batch: 672 / 6720], examples_per_second: 2621.9989, train_label_loss: 0.4671, \n"
     ]
    },
    {
     "name": "stdout",
     "output_type": "stream",
     "text": [
      "epoch: 8, [batch: 1344 / 6720], examples_per_second: 2634.0829, train_label_loss: 0.4314, \n"
     ]
    },
    {
     "name": "stdout",
     "output_type": "stream",
     "text": [
      "epoch: 8, [batch: 2016 / 6720], examples_per_second: 2678.2054, train_label_loss: 0.1543, \n"
     ]
    },
    {
     "name": "stdout",
     "output_type": "stream",
     "text": [
      "epoch: 8, [batch: 2688 / 6720], examples_per_second: 2416.0868, train_label_loss: 0.0271, \n"
     ]
    },
    {
     "name": "stdout",
     "output_type": "stream",
     "text": [
      "epoch: 8, [batch: 3360 / 6720], examples_per_second: 2612.4158, train_label_loss: 0.4238, \n"
     ]
    },
    {
     "name": "stdout",
     "output_type": "stream",
     "text": [
      "epoch: 8, [batch: 4032 / 6720], examples_per_second: 2625.6259, train_label_loss: 0.4087, \n"
     ]
    },
    {
     "name": "stdout",
     "output_type": "stream",
     "text": [
      "epoch: 8, [batch: 4704 / 6720], examples_per_second: 2753.7717, train_label_loss: 0.2722, \n"
     ]
    },
    {
     "name": "stdout",
     "output_type": "stream",
     "text": [
      "epoch: 8, [batch: 5376 / 6720], examples_per_second: 2958.8318, train_label_loss: 0.2466, \n"
     ]
    },
    {
     "name": "stdout",
     "output_type": "stream",
     "text": [
      "epoch: 8, [batch: 6048 / 6720], examples_per_second: 2965.2837, train_label_loss: 0.2236, \n"
     ]
    },
    {
     "name": "stdout",
     "output_type": "stream",
     "text": [
      "=============================================================\n",
      "epoch: 8, source_val_acc_label: 0.8931, target_val_acc_label: 0.8705, source_val_label_loss: 0.2980, target_val_label_loss: 0.3979, \n",
      "=============================================================\n"
     ]
    },
    {
     "name": "stdout",
     "output_type": "stream",
     "text": [
      "New best\n"
     ]
    },
    {
     "name": "stdout",
     "output_type": "stream",
     "text": [
      "epoch: 9, [batch: 1 / 6720], examples_per_second: 3.1331, train_label_loss: 0.1320, \n"
     ]
    },
    {
     "name": "stdout",
     "output_type": "stream",
     "text": [
      "epoch: 9, [batch: 672 / 6720], examples_per_second: 3415.2627, train_label_loss: 0.4305, \n"
     ]
    },
    {
     "name": "stdout",
     "output_type": "stream",
     "text": [
      "epoch: 9, [batch: 1344 / 6720], examples_per_second: 3337.7846, train_label_loss: 0.3806, \n"
     ]
    },
    {
     "name": "stdout",
     "output_type": "stream",
     "text": [
      "epoch: 9, [batch: 2016 / 6720], examples_per_second: 2690.9257, train_label_loss: 0.2365, \n"
     ]
    },
    {
     "name": "stdout",
     "output_type": "stream",
     "text": [
      "epoch: 9, [batch: 2688 / 6720], examples_per_second: 2317.0860, train_label_loss: 0.1701, \n"
     ]
    },
    {
     "name": "stdout",
     "output_type": "stream",
     "text": [
      "epoch: 9, [batch: 3360 / 6720], examples_per_second: 2334.8432, train_label_loss: 0.3771, \n"
     ]
    },
    {
     "name": "stdout",
     "output_type": "stream",
     "text": [
      "epoch: 9, [batch: 4032 / 6720], examples_per_second: 2300.7239, train_label_loss: 0.4281, \n"
     ]
    },
    {
     "name": "stdout",
     "output_type": "stream",
     "text": [
      "epoch: 9, [batch: 4704 / 6720], examples_per_second: 2502.9577, train_label_loss: 0.1717, \n"
     ]
    },
    {
     "name": "stdout",
     "output_type": "stream",
     "text": [
      "epoch: 9, [batch: 5376 / 6720], examples_per_second: 2405.5079, train_label_loss: 0.1616, \n"
     ]
    },
    {
     "name": "stdout",
     "output_type": "stream",
     "text": [
      "epoch: 9, [batch: 6048 / 6720], examples_per_second: 2520.4428, train_label_loss: 0.0628, \n"
     ]
    },
    {
     "name": "stdout",
     "output_type": "stream",
     "text": [
      "=============================================================\n",
      "epoch: 9, source_val_acc_label: 0.8977, target_val_acc_label: 0.8727, source_val_label_loss: 0.2872, target_val_label_loss: 0.4069, \n",
      "=============================================================\n"
     ]
    },
    {
     "name": "stdout",
     "output_type": "stream",
     "text": [
      "New best\n"
     ]
    },
    {
     "name": "stdout",
     "output_type": "stream",
     "text": [
      "epoch: 10, [batch: 1 / 6720], examples_per_second: 2.5184, train_label_loss: 0.2472, \n"
     ]
    },
    {
     "name": "stdout",
     "output_type": "stream",
     "text": [
      "epoch: 10, [batch: 672 / 6720], examples_per_second: 2782.4201, train_label_loss: 0.0964, \n"
     ]
    },
    {
     "name": "stdout",
     "output_type": "stream",
     "text": [
      "epoch: 10, [batch: 1344 / 6720], examples_per_second: 2580.6675, train_label_loss: 0.3156, \n"
     ]
    },
    {
     "name": "stdout",
     "output_type": "stream",
     "text": [
      "epoch: 10, [batch: 2016 / 6720], examples_per_second: 2861.2315, train_label_loss: 0.2760, \n"
     ]
    },
    {
     "name": "stdout",
     "output_type": "stream",
     "text": [
      "epoch: 10, [batch: 2688 / 6720], examples_per_second: 2602.9441, train_label_loss: 0.2466, \n"
     ]
    },
    {
     "name": "stdout",
     "output_type": "stream",
     "text": [
      "epoch: 10, [batch: 3360 / 6720], examples_per_second: 2590.2642, train_label_loss: 0.1515, \n"
     ]
    },
    {
     "name": "stdout",
     "output_type": "stream",
     "text": [
      "epoch: 10, [batch: 4032 / 6720], examples_per_second: 2693.4359, train_label_loss: 0.1730, \n"
     ]
    },
    {
     "name": "stdout",
     "output_type": "stream",
     "text": [
      "epoch: 10, [batch: 4704 / 6720], examples_per_second: 2955.3025, train_label_loss: 0.2459, \n"
     ]
    },
    {
     "name": "stdout",
     "output_type": "stream",
     "text": [
      "epoch: 10, [batch: 5376 / 6720], examples_per_second: 2893.4194, train_label_loss: 0.2155, \n"
     ]
    },
    {
     "name": "stdout",
     "output_type": "stream",
     "text": [
      "epoch: 10, [batch: 6048 / 6720], examples_per_second: 2340.8530, train_label_loss: 0.0257, \n"
     ]
    },
    {
     "name": "stdout",
     "output_type": "stream",
     "text": [
      "=============================================================\n",
      "epoch: 10, source_val_acc_label: 0.9007, target_val_acc_label: 0.8759, source_val_label_loss: 0.2792, target_val_label_loss: 0.3991, \n",
      "=============================================================\n"
     ]
    },
    {
     "name": "stdout",
     "output_type": "stream",
     "text": [
      "New best\n"
     ]
    },
    {
     "name": "stdout",
     "output_type": "stream",
     "text": [
      "epoch: 11, [batch: 1 / 6720], examples_per_second: 2.2979, train_label_loss: 0.3376, \n"
     ]
    },
    {
     "name": "stdout",
     "output_type": "stream",
     "text": [
      "epoch: 11, [batch: 672 / 6720], examples_per_second: 2540.6122, train_label_loss: 0.0798, \n"
     ]
    },
    {
     "name": "stdout",
     "output_type": "stream",
     "text": [
      "epoch: 11, [batch: 1344 / 6720], examples_per_second: 2574.5452, train_label_loss: 0.3132, \n"
     ]
    },
    {
     "name": "stdout",
     "output_type": "stream",
     "text": [
      "epoch: 11, [batch: 2016 / 6720], examples_per_second: 2603.1801, train_label_loss: 0.2214, \n"
     ]
    },
    {
     "name": "stdout",
     "output_type": "stream",
     "text": [
      "epoch: 11, [batch: 2688 / 6720], examples_per_second: 2794.6788, train_label_loss: 0.6196, \n"
     ]
    },
    {
     "name": "stdout",
     "output_type": "stream",
     "text": [
      "epoch: 11, [batch: 3360 / 6720], examples_per_second: 2661.2448, train_label_loss: 0.2078, \n"
     ]
    },
    {
     "name": "stdout",
     "output_type": "stream",
     "text": [
      "epoch: 11, [batch: 4032 / 6720], examples_per_second: 2548.6719, train_label_loss: 0.2107, \n"
     ]
    },
    {
     "name": "stdout",
     "output_type": "stream",
     "text": [
      "epoch: 11, [batch: 4704 / 6720], examples_per_second: 2606.4836, train_label_loss: 0.0237, \n"
     ]
    },
    {
     "name": "stdout",
     "output_type": "stream",
     "text": [
      "epoch: 11, [batch: 5376 / 6720], examples_per_second: 2343.7874, train_label_loss: 0.2550, \n"
     ]
    },
    {
     "name": "stdout",
     "output_type": "stream",
     "text": [
      "epoch: 11, [batch: 6048 / 6720], examples_per_second: 2590.3744, train_label_loss: 0.1715, \n"
     ]
    },
    {
     "name": "stdout",
     "output_type": "stream",
     "text": [
      "=============================================================\n",
      "epoch: 11, source_val_acc_label: 0.8991, target_val_acc_label: 0.8741, source_val_label_loss: 0.2818, target_val_label_loss: 0.5462, \n",
      "=============================================================\n"
     ]
    },
    {
     "name": "stdout",
     "output_type": "stream",
     "text": [
      "epoch: 12, [batch: 1 / 6720], examples_per_second: 2.8428, train_label_loss: 0.3688, \n"
     ]
    },
    {
     "name": "stdout",
     "output_type": "stream",
     "text": [
      "epoch: 12, [batch: 672 / 6720], examples_per_second: 2943.7693, train_label_loss: 0.3299, \n"
     ]
    },
    {
     "name": "stdout",
     "output_type": "stream",
     "text": [
      "epoch: 12, [batch: 1344 / 6720], examples_per_second: 3035.7900, train_label_loss: 0.0997, \n"
     ]
    },
    {
     "name": "stdout",
     "output_type": "stream",
     "text": [
      "epoch: 12, [batch: 2016 / 6720], examples_per_second: 2988.1900, train_label_loss: 0.2507, \n"
     ]
    },
    {
     "name": "stdout",
     "output_type": "stream",
     "text": [
      "epoch: 12, [batch: 2688 / 6720], examples_per_second: 2567.9532, train_label_loss: 0.0733, \n"
     ]
    },
    {
     "name": "stdout",
     "output_type": "stream",
     "text": [
      "epoch: 12, [batch: 3360 / 6720], examples_per_second: 2714.3357, train_label_loss: 0.2421, \n"
     ]
    },
    {
     "name": "stdout",
     "output_type": "stream",
     "text": [
      "epoch: 12, [batch: 4032 / 6720], examples_per_second: 2811.0294, train_label_loss: 0.3399, \n"
     ]
    },
    {
     "name": "stdout",
     "output_type": "stream",
     "text": [
      "epoch: 12, [batch: 4704 / 6720], examples_per_second: 2615.6883, train_label_loss: 0.2716, \n"
     ]
    },
    {
     "name": "stdout",
     "output_type": "stream",
     "text": [
      "epoch: 12, [batch: 5376 / 6720], examples_per_second: 2845.4755, train_label_loss: 0.0642, \n"
     ]
    },
    {
     "name": "stdout",
     "output_type": "stream",
     "text": [
      "epoch: 12, [batch: 6048 / 6720], examples_per_second: 2706.6491, train_label_loss: 0.1482, \n"
     ]
    },
    {
     "name": "stdout",
     "output_type": "stream",
     "text": [
      "=============================================================\n",
      "epoch: 12, source_val_acc_label: 0.9051, target_val_acc_label: 0.8796, source_val_label_loss: 0.2670, target_val_label_loss: 0.5310, \n",
      "=============================================================\n"
     ]
    },
    {
     "name": "stdout",
     "output_type": "stream",
     "text": [
      "New best\n"
     ]
    },
    {
     "name": "stdout",
     "output_type": "stream",
     "text": [
      "epoch: 13, [batch: 1 / 6720], examples_per_second: 3.0324, train_label_loss: 0.3559, \n"
     ]
    },
    {
     "name": "stdout",
     "output_type": "stream",
     "text": [
      "epoch: 13, [batch: 672 / 6720], examples_per_second: 3306.4518, train_label_loss: 0.2495, \n"
     ]
    },
    {
     "name": "stdout",
     "output_type": "stream",
     "text": [
      "epoch: 13, [batch: 1344 / 6720], examples_per_second: 3425.3095, train_label_loss: 0.0999, \n"
     ]
    },
    {
     "name": "stdout",
     "output_type": "stream",
     "text": [
      "epoch: 13, [batch: 2016 / 6720], examples_per_second: 3389.0012, train_label_loss: 0.1926, \n"
     ]
    },
    {
     "name": "stdout",
     "output_type": "stream",
     "text": [
      "epoch: 13, [batch: 2688 / 6720], examples_per_second: 3268.3719, train_label_loss: 0.0408, \n"
     ]
    },
    {
     "name": "stdout",
     "output_type": "stream",
     "text": [
      "epoch: 13, [batch: 3360 / 6720], examples_per_second: 2933.0999, train_label_loss: 0.3443, \n"
     ]
    },
    {
     "name": "stdout",
     "output_type": "stream",
     "text": [
      "epoch: 13, [batch: 4032 / 6720], examples_per_second: 2624.8974, train_label_loss: 0.2647, \n"
     ]
    },
    {
     "name": "stdout",
     "output_type": "stream",
     "text": [
      "epoch: 13, [batch: 4704 / 6720], examples_per_second: 3170.2568, train_label_loss: 0.0124, \n"
     ]
    },
    {
     "name": "stdout",
     "output_type": "stream",
     "text": [
      "epoch: 13, [batch: 5376 / 6720], examples_per_second: 2917.3626, train_label_loss: 0.1005, \n"
     ]
    },
    {
     "name": "stdout",
     "output_type": "stream",
     "text": [
      "epoch: 13, [batch: 6048 / 6720], examples_per_second: 3549.3440, train_label_loss: 0.1374, \n"
     ]
    },
    {
     "name": "stdout",
     "output_type": "stream",
     "text": [
      "=============================================================\n",
      "epoch: 13, source_val_acc_label: 0.9012, target_val_acc_label: 0.8782, source_val_label_loss: 0.2774, target_val_label_loss: 0.7076, \n",
      "=============================================================\n"
     ]
    },
    {
     "name": "stdout",
     "output_type": "stream",
     "text": [
      "epoch: 14, [batch: 1 / 6720], examples_per_second: 3.4526, train_label_loss: 0.2128, \n"
     ]
    },
    {
     "name": "stdout",
     "output_type": "stream",
     "text": [
      "epoch: 14, [batch: 672 / 6720], examples_per_second: 4087.5551, train_label_loss: 0.1613, \n"
     ]
    },
    {
     "name": "stdout",
     "output_type": "stream",
     "text": [
      "epoch: 14, [batch: 1344 / 6720], examples_per_second: 4458.6636, train_label_loss: 0.1095, \n"
     ]
    },
    {
     "name": "stdout",
     "output_type": "stream",
     "text": [
      "epoch: 14, [batch: 2016 / 6720], examples_per_second: 3348.6453, train_label_loss: 0.1822, \n"
     ]
    },
    {
     "name": "stdout",
     "output_type": "stream",
     "text": [
      "epoch: 14, [batch: 2688 / 6720], examples_per_second: 2582.8284, train_label_loss: 0.1374, \n"
     ]
    },
    {
     "name": "stdout",
     "output_type": "stream",
     "text": [
      "epoch: 14, [batch: 3360 / 6720], examples_per_second: 2769.6809, train_label_loss: 0.0867, \n"
     ]
    },
    {
     "name": "stdout",
     "output_type": "stream",
     "text": [
      "epoch: 14, [batch: 4032 / 6720], examples_per_second: 2717.3016, train_label_loss: 0.3481, \n"
     ]
    },
    {
     "name": "stdout",
     "output_type": "stream",
     "text": [
      "epoch: 14, [batch: 4704 / 6720], examples_per_second: 2654.2883, train_label_loss: 0.1741, \n"
     ]
    },
    {
     "name": "stdout",
     "output_type": "stream",
     "text": [
      "epoch: 14, [batch: 5376 / 6720], examples_per_second: 2775.5900, train_label_loss: 0.1307, \n"
     ]
    },
    {
     "name": "stdout",
     "output_type": "stream",
     "text": [
      "epoch: 14, [batch: 6048 / 6720], examples_per_second: 2690.5205, train_label_loss: 0.0180, \n"
     ]
    },
    {
     "name": "stdout",
     "output_type": "stream",
     "text": [
      "=============================================================\n",
      "epoch: 14, source_val_acc_label: 0.9093, target_val_acc_label: 0.8838, source_val_label_loss: 0.2558, target_val_label_loss: 0.6442, \n",
      "=============================================================\n"
     ]
    },
    {
     "name": "stdout",
     "output_type": "stream",
     "text": [
      "New best\n"
     ]
    },
    {
     "name": "stdout",
     "output_type": "stream",
     "text": [
      "epoch: 15, [batch: 1 / 6720], examples_per_second: 2.7297, train_label_loss: 0.0788, \n"
     ]
    },
    {
     "name": "stdout",
     "output_type": "stream",
     "text": [
      "epoch: 15, [batch: 672 / 6720], examples_per_second: 3779.5286, train_label_loss: 0.0613, \n"
     ]
    },
    {
     "name": "stdout",
     "output_type": "stream",
     "text": [
      "epoch: 15, [batch: 1344 / 6720], examples_per_second: 3552.5603, train_label_loss: 0.0477, \n"
     ]
    },
    {
     "name": "stdout",
     "output_type": "stream",
     "text": [
      "epoch: 15, [batch: 2016 / 6720], examples_per_second: 3421.3032, train_label_loss: 0.1470, \n"
     ]
    },
    {
     "name": "stdout",
     "output_type": "stream",
     "text": [
      "epoch: 15, [batch: 2688 / 6720], examples_per_second: 3428.3743, train_label_loss: 0.2205, \n"
     ]
    },
    {
     "name": "stdout",
     "output_type": "stream",
     "text": [
      "epoch: 15, [batch: 3360 / 6720], examples_per_second: 3044.1260, train_label_loss: 0.1475, \n"
     ]
    },
    {
     "name": "stdout",
     "output_type": "stream",
     "text": [
      "epoch: 15, [batch: 4032 / 6720], examples_per_second: 2602.6798, train_label_loss: 0.1289, \n"
     ]
    },
    {
     "name": "stdout",
     "output_type": "stream",
     "text": [
      "epoch: 15, [batch: 4704 / 6720], examples_per_second: 2562.1020, train_label_loss: 0.2748, \n"
     ]
    },
    {
     "name": "stdout",
     "output_type": "stream",
     "text": [
      "epoch: 15, [batch: 5376 / 6720], examples_per_second: 2558.3165, train_label_loss: 0.0194, \n"
     ]
    },
    {
     "name": "stdout",
     "output_type": "stream",
     "text": [
      "epoch: 15, [batch: 6048 / 6720], examples_per_second: 2794.7383, train_label_loss: 0.1561, \n"
     ]
    },
    {
     "name": "stdout",
     "output_type": "stream",
     "text": [
      "=============================================================\n",
      "epoch: 15, source_val_acc_label: 0.9022, target_val_acc_label: 0.8741, source_val_label_loss: 0.2763, target_val_label_loss: 0.9112, \n",
      "=============================================================\n"
     ]
    },
    {
     "name": "stdout",
     "output_type": "stream",
     "text": [
      "epoch: 16, [batch: 1 / 6720], examples_per_second: 2.4950, train_label_loss: 0.1004, \n"
     ]
    },
    {
     "name": "stdout",
     "output_type": "stream",
     "text": [
      "epoch: 16, [batch: 672 / 6720], examples_per_second: 3048.0916, train_label_loss: 0.0425, \n"
     ]
    },
    {
     "name": "stdout",
     "output_type": "stream",
     "text": [
      "epoch: 16, [batch: 1344 / 6720], examples_per_second: 2719.5949, train_label_loss: 0.0987, \n"
     ]
    },
    {
     "name": "stdout",
     "output_type": "stream",
     "text": [
      "epoch: 16, [batch: 2016 / 6720], examples_per_second: 2826.1740, train_label_loss: 0.0196, \n"
     ]
    },
    {
     "name": "stdout",
     "output_type": "stream",
     "text": [
      "epoch: 16, [batch: 2688 / 6720], examples_per_second: 2915.0255, train_label_loss: 0.1939, \n"
     ]
    },
    {
     "name": "stdout",
     "output_type": "stream",
     "text": [
      "epoch: 16, [batch: 3360 / 6720], examples_per_second: 3347.3678, train_label_loss: 0.2082, \n"
     ]
    },
    {
     "name": "stdout",
     "output_type": "stream",
     "text": [
      "epoch: 16, [batch: 4032 / 6720], examples_per_second: 3444.5905, train_label_loss: 0.4936, \n"
     ]
    },
    {
     "name": "stdout",
     "output_type": "stream",
     "text": [
      "epoch: 16, [batch: 4704 / 6720], examples_per_second: 3278.6550, train_label_loss: 0.1093, \n"
     ]
    },
    {
     "name": "stdout",
     "output_type": "stream",
     "text": [
      "epoch: 16, [batch: 5376 / 6720], examples_per_second: 3866.8889, train_label_loss: 0.1085, \n"
     ]
    },
    {
     "name": "stdout",
     "output_type": "stream",
     "text": [
      "epoch: 16, [batch: 6048 / 6720], examples_per_second: 3741.7452, train_label_loss: 0.0984, \n"
     ]
    },
    {
     "name": "stdout",
     "output_type": "stream",
     "text": [
      "=============================================================\n",
      "epoch: 16, source_val_acc_label: 0.9012, target_val_acc_label: 0.8740, source_val_label_loss: 0.2853, target_val_label_loss: 0.9595, \n",
      "=============================================================\n"
     ]
    },
    {
     "name": "stdout",
     "output_type": "stream",
     "text": [
      "epoch: 17, [batch: 1 / 6720], examples_per_second: 4.4283, train_label_loss: 0.0414, \n"
     ]
    },
    {
     "name": "stdout",
     "output_type": "stream",
     "text": [
      "epoch: 17, [batch: 672 / 6720], examples_per_second: 3778.6677, train_label_loss: 0.2736, \n"
     ]
    },
    {
     "name": "stdout",
     "output_type": "stream",
     "text": [
      "epoch: 17, [batch: 1344 / 6720], examples_per_second: 3103.6694, train_label_loss: 0.0757, \n"
     ]
    },
    {
     "name": "stdout",
     "output_type": "stream",
     "text": [
      "epoch: 17, [batch: 2016 / 6720], examples_per_second: 2827.5142, train_label_loss: 0.2837, \n"
     ]
    },
    {
     "name": "stdout",
     "output_type": "stream",
     "text": [
      "epoch: 17, [batch: 2688 / 6720], examples_per_second: 2804.9632, train_label_loss: 0.1687, \n"
     ]
    },
    {
     "name": "stdout",
     "output_type": "stream",
     "text": [
      "epoch: 17, [batch: 3360 / 6720], examples_per_second: 3126.7980, train_label_loss: 0.2569, \n"
     ]
    },
    {
     "name": "stdout",
     "output_type": "stream",
     "text": [
      "epoch: 17, [batch: 4032 / 6720], examples_per_second: 3124.5812, train_label_loss: 0.2822, \n"
     ]
    },
    {
     "name": "stdout",
     "output_type": "stream",
     "text": [
      "epoch: 17, [batch: 4704 / 6720], examples_per_second: 2839.8790, train_label_loss: 0.0800, \n"
     ]
    },
    {
     "name": "stdout",
     "output_type": "stream",
     "text": [
      "epoch: 17, [batch: 5376 / 6720], examples_per_second: 2937.2160, train_label_loss: 0.1716, \n"
     ]
    },
    {
     "name": "stdout",
     "output_type": "stream",
     "text": [
      "epoch: 17, [batch: 6048 / 6720], examples_per_second: 3190.5762, train_label_loss: 0.0553, \n"
     ]
    },
    {
     "name": "stdout",
     "output_type": "stream",
     "text": [
      "=============================================================\n",
      "epoch: 17, source_val_acc_label: 0.9098, target_val_acc_label: 0.8793, source_val_label_loss: 0.2634, target_val_label_loss: 1.3058, \n",
      "=============================================================\n"
     ]
    },
    {
     "name": "stdout",
     "output_type": "stream",
     "text": [
      "epoch: 18, [batch: 1 / 6720], examples_per_second: 3.1040, train_label_loss: 0.0461, \n"
     ]
    },
    {
     "name": "stdout",
     "output_type": "stream",
     "text": [
      "epoch: 18, [batch: 672 / 6720], examples_per_second: 3289.8062, train_label_loss: 0.0721, \n"
     ]
    },
    {
     "name": "stdout",
     "output_type": "stream",
     "text": [
      "epoch: 18, [batch: 1344 / 6720], examples_per_second: 3480.4734, train_label_loss: 0.1152, \n"
     ]
    },
    {
     "name": "stdout",
     "output_type": "stream",
     "text": [
      "epoch: 18, [batch: 2016 / 6720], examples_per_second: 3323.7701, train_label_loss: 0.1252, \n"
     ]
    },
    {
     "name": "stdout",
     "output_type": "stream",
     "text": [
      "epoch: 18, [batch: 2688 / 6720], examples_per_second: 3917.4798, train_label_loss: 0.3079, \n"
     ]
    },
    {
     "name": "stdout",
     "output_type": "stream",
     "text": [
      "epoch: 18, [batch: 3360 / 6720], examples_per_second: 3853.0746, train_label_loss: 0.0905, \n"
     ]
    },
    {
     "name": "stdout",
     "output_type": "stream",
     "text": [
      "epoch: 18, [batch: 4032 / 6720], examples_per_second: 3216.9561, train_label_loss: 0.0049, \n"
     ]
    },
    {
     "name": "stdout",
     "output_type": "stream",
     "text": [
      "epoch: 18, [batch: 4704 / 6720], examples_per_second: 2335.8459, train_label_loss: 0.0407, \n"
     ]
    },
    {
     "name": "stdout",
     "output_type": "stream",
     "text": [
      "epoch: 18, [batch: 5376 / 6720], examples_per_second: 2270.3021, train_label_loss: 0.0734, \n"
     ]
    },
    {
     "name": "stdout",
     "output_type": "stream",
     "text": [
      "epoch: 18, [batch: 6048 / 6720], examples_per_second: 2505.5899, train_label_loss: 0.2799, \n"
     ]
    },
    {
     "name": "stdout",
     "output_type": "stream",
     "text": [
      "=============================================================\n",
      "epoch: 18, source_val_acc_label: 0.9029, target_val_acc_label: 0.8791, source_val_label_loss: 0.2860, target_val_label_loss: 1.3215, \n",
      "=============================================================\n"
     ]
    },
    {
     "name": "stdout",
     "output_type": "stream",
     "text": [
      "Patience (3) exhausted\n"
     ]
    }
   ],
   "source": [
    "###################################\n",
    "# train\n",
    "###################################\n",
    "jig = PTN_Train_Eval_Test_Jig(model, p.BEST_MODEL_PATH, p.device)\n",
    "\n",
    "jig.train(\n",
    "    train_iterable=datasets.source.processed.train,\n",
    "    source_val_iterable=datasets.source.processed.val,\n",
    "    target_val_iterable=datasets.target.processed.val,\n",
    "    num_epochs=p.n_epoch,\n",
    "    num_logs_per_epoch=p.NUM_LOGS_PER_EPOCH,\n",
    "    patience=p.patience,\n",
    "    optimizer=optimizer,\n",
    "    criteria_for_best=p.criteria_for_best,\n",
    ")"
   ]
  },
  {
   "cell_type": "code",
   "execution_count": 23,
   "id": "31e8fabf",
   "metadata": {
    "execution": {
     "iopub.execute_input": "2022-03-21T03:26:03.670293Z",
     "iopub.status.busy": "2022-03-21T03:26:03.669899Z",
     "iopub.status.idle": "2022-03-21T03:26:03.701326Z",
     "shell.execute_reply": "2022-03-21T03:26:03.700569Z"
    },
    "papermill": {
     "duration": 0.110472,
     "end_time": "2022-03-21T03:26:03.701491",
     "exception": false,
     "start_time": "2022-03-21T03:26:03.591019",
     "status": "completed"
    },
    "tags": []
   },
   "outputs": [],
   "source": [
    "total_experiment_time_secs = time.time() - start_time_secs"
   ]
  },
  {
   "cell_type": "code",
   "execution_count": 24,
   "id": "87b9595b",
   "metadata": {
    "execution": {
     "iopub.execute_input": "2022-03-21T03:26:03.868658Z",
     "iopub.status.busy": "2022-03-21T03:26:03.867771Z",
     "iopub.status.idle": "2022-03-21T03:30:16.247064Z",
     "shell.execute_reply": "2022-03-21T03:30:16.245970Z"
    },
    "papermill": {
     "duration": 252.465081,
     "end_time": "2022-03-21T03:30:16.247339",
     "exception": false,
     "start_time": "2022-03-21T03:26:03.782258",
     "status": "completed"
    },
    "tags": []
   },
   "outputs": [],
   "source": [
    "###################################\n",
    "# Evaluate the model\n",
    "###################################\n",
    "source_test_label_accuracy, source_test_label_loss = jig.test(datasets.source.processed.test)\n",
    "target_test_label_accuracy, target_test_label_loss = jig.test(datasets.target.processed.test)\n",
    "\n",
    "source_val_label_accuracy, source_val_label_loss = jig.test(datasets.source.processed.val)\n",
    "target_val_label_accuracy, target_val_label_loss = jig.test(datasets.target.processed.val)\n",
    "\n",
    "history = jig.get_history()\n",
    "\n",
    "total_epochs_trained = len(history[\"epoch_indices\"])\n",
    "\n",
    "val_dl = Iterable_Aggregator((datasets.source.original.val,datasets.target.original.val))\n",
    "\n",
    "confusion = ptn_confusion_by_domain_over_dataloader(model, p.device, val_dl)\n",
    "per_domain_accuracy = per_domain_accuracy_from_confusion(confusion)\n",
    "\n",
    "# Add a key to per_domain_accuracy for if it was a source domain\n",
    "for domain, accuracy in per_domain_accuracy.items():\n",
    "    per_domain_accuracy[domain] = {\n",
    "        \"accuracy\": accuracy,\n",
    "        \"source?\": domain in p.domains_source\n",
    "    }\n",
    "\n",
    "# Do an independent accuracy assesment JUST TO BE SURE!\n",
    "# _source_test_label_accuracy = independent_accuracy_assesment(model, datasets.source.processed.test, p.device)\n",
    "# _target_test_label_accuracy = independent_accuracy_assesment(model, datasets.target.processed.test, p.device)\n",
    "# _source_val_label_accuracy = independent_accuracy_assesment(model, datasets.source.processed.val, p.device)\n",
    "# _target_val_label_accuracy = independent_accuracy_assesment(model, datasets.target.processed.val, p.device)\n",
    "\n",
    "# assert(_source_test_label_accuracy == source_test_label_accuracy)\n",
    "# assert(_target_test_label_accuracy == target_test_label_accuracy)\n",
    "# assert(_source_val_label_accuracy == source_val_label_accuracy)\n",
    "# assert(_target_val_label_accuracy == target_val_label_accuracy)\n",
    "\n",
    "experiment = {\n",
    "    \"experiment_name\": p.experiment_name,\n",
    "    \"parameters\": dict(p),\n",
    "    \"results\": {\n",
    "        \"source_test_label_accuracy\": source_test_label_accuracy,\n",
    "        \"source_test_label_loss\": source_test_label_loss,\n",
    "        \"target_test_label_accuracy\": target_test_label_accuracy,\n",
    "        \"target_test_label_loss\": target_test_label_loss,\n",
    "        \"source_val_label_accuracy\": source_val_label_accuracy,\n",
    "        \"source_val_label_loss\": source_val_label_loss,\n",
    "        \"target_val_label_accuracy\": target_val_label_accuracy,\n",
    "        \"target_val_label_loss\": target_val_label_loss,\n",
    "        \"total_epochs_trained\": total_epochs_trained,\n",
    "        \"total_experiment_time_secs\": total_experiment_time_secs,\n",
    "        \"confusion\": confusion,\n",
    "        \"per_domain_accuracy\": per_domain_accuracy,\n",
    "    },\n",
    "    \"history\": history,\n",
    "    \"dataset_metrics\": get_dataset_metrics(datasets, \"ptn\"),\n",
    "}"
   ]
  },
  {
   "cell_type": "code",
   "execution_count": 25,
   "id": "54a21829",
   "metadata": {
    "execution": {
     "iopub.execute_input": "2022-03-21T03:30:16.410960Z",
     "iopub.status.busy": "2022-03-21T03:30:16.410587Z",
     "iopub.status.idle": "2022-03-21T03:30:16.623793Z",
     "shell.execute_reply": "2022-03-21T03:30:16.624496Z"
    },
    "papermill": {
     "duration": 0.293546,
     "end_time": "2022-03-21T03:30:16.624719",
     "exception": false,
     "start_time": "2022-03-21T03:30:16.331173",
     "status": "completed"
    },
    "tags": []
   },
   "outputs": [
    {
     "data": {
      "image/png": "[encoded data removed]",
      "text/plain": [
       "<Figure size 1080x504 with 1 Axes>"
      ]
     },
     "metadata": {
      "needs_background": "light"
     },
     "output_type": "display_data"
    }
   ],
   "source": [
    "ax = get_loss_curve(experiment)\n",
    "plt.show()"
   ]
  },
  {
   "cell_type": "code",
   "execution_count": 26,
   "id": "fd8a0f60",
   "metadata": {
    "execution": {
     "iopub.execute_input": "2022-03-21T03:30:16.789714Z",
     "iopub.status.busy": "2022-03-21T03:30:16.789329Z",
     "iopub.status.idle": "2022-03-21T03:30:17.166477Z",
     "shell.execute_reply": "2022-03-21T03:30:17.167145Z"
    },
    "papermill": {
     "duration": 0.459174,
     "end_time": "2022-03-21T03:30:17.167370",
     "exception": false,
     "start_time": "2022-03-21T03:30:16.708196",
     "status": "completed"
    },
    "tags": []
   },
   "outputs": [
    {
     "data": {
      "text/plain": [
       "<AxesSubplot:title={'center':'Results'}>"
      ]
     },
     "execution_count": 26,
     "metadata": {},
     "output_type": "execute_result"
    },
    {
     "data": {
      "image/png": "[encoded data removed]",
      "text/plain": [
       "<Figure size 1080x504 with 1 Axes>"
      ]
     },
     "metadata": {
      "needs_background": "light"
     },
     "output_type": "display_data"
    }
   ],
   "source": [
    "get_results_table(experiment)"
   ]
  },
  {
   "cell_type": "code",
   "execution_count": 27,
   "id": "cf8dc689",
   "metadata": {
    "execution": {
     "iopub.execute_input": "2022-03-21T03:30:17.335247Z",
     "iopub.status.busy": "2022-03-21T03:30:17.334875Z",
     "iopub.status.idle": "2022-03-21T03:30:17.623204Z",
     "shell.execute_reply": "2022-03-21T03:30:17.623927Z"
    },
    "papermill": {
     "duration": 0.372069,
     "end_time": "2022-03-21T03:30:17.624169",
     "exception": false,
     "start_time": "2022-03-21T03:30:17.252100",
     "status": "completed"
    },
    "tags": []
   },
   "outputs": [
    {
     "data": {
      "text/plain": [
       "<AxesSubplot:title={'center':'Per Domain Validation Accuracy'}, xlabel='domain'>"
      ]
     },
     "execution_count": 27,
     "metadata": {},
     "output_type": "execute_result"
    },
    {
     "data": {
      "image/png": "[encoded data removed]",
      "text/plain": [
       "<Figure size 1080x504 with 1 Axes>"
      ]
     },
     "metadata": {
      "needs_background": "light"
     },
     "output_type": "display_data"
    }
   ],
   "source": [
    "get_domain_accuracies(experiment)"
   ]
  },
  {
   "cell_type": "code",
   "execution_count": 28,
   "id": "a74ae082",
   "metadata": {
    "execution": {
     "iopub.execute_input": "2022-03-21T03:30:17.809176Z",
     "iopub.status.busy": "2022-03-21T03:30:17.808787Z",
     "iopub.status.idle": "2022-03-21T03:30:17.832347Z",
     "shell.execute_reply": "2022-03-21T03:30:17.831613Z"
    },
    "papermill": {
     "duration": 0.106685,
     "end_time": "2022-03-21T03:30:17.832527",
     "exception": false,
     "start_time": "2022-03-21T03:30:17.725842",
     "status": "completed"
    },
    "tags": []
   },
   "outputs": [
    {
     "name": "stdout",
     "output_type": "stream",
     "text": [
      "Source Test Label Accuracy: 0.9107096354166667 Target Test Label Accuracy: 0.8849609375\n",
      "Source Val Label Accuracy: 0.90927734375 Target Val Label Accuracy: 0.8838216145833333\n"
     ]
    }
   ],
   "source": [
    "print(\"Source Test Label Accuracy:\", experiment[\"results\"][\"source_test_label_accuracy\"], \"Target Test Label Accuracy:\", experiment[\"results\"][\"target_test_label_accuracy\"])\n",
    "print(\"Source Val Label Accuracy:\", experiment[\"results\"][\"source_val_label_accuracy\"], \"Target Val Label Accuracy:\", experiment[\"results\"][\"target_val_label_accuracy\"])"
   ]
  },
  {
   "cell_type": "code",
   "execution_count": 29,
   "id": "dacca602",
   "metadata": {
    "execution": {
     "iopub.execute_input": "2022-03-21T03:30:18.005707Z",
     "iopub.status.busy": "2022-03-21T03:30:18.005320Z",
     "iopub.status.idle": "2022-03-21T03:30:18.033174Z",
     "shell.execute_reply": "2022-03-21T03:30:18.034190Z"
    },
    "papermill": {
     "duration": 0.114216,
     "end_time": "2022-03-21T03:30:18.034471",
     "exception": false,
     "start_time": "2022-03-21T03:30:17.920255",
     "status": "completed"
    },
    "tags": [
     "experiment_json"
    ]
   },
   "outputs": [
    {
     "data": {
      "text/plain": [
       "'{\"experiment_name\": \"tl_1v2:oracle.run1.framed-oracle.run2.framed\", \"parameters\": {\"experiment_name\": \"tl_1v2:oracle.run1.framed-oracle.run2.framed\", \"device\": \"cuda\", \"lr\": 0.0001, \"n_shot\": 3, \"n_query\": 2, \"train_k_factor\": 3, \"val_k_factor\": 2, \"test_k_factor\": 2, \"torch_default_dtype\": \"torch.float32\", \"n_epoch\": 50, \"patience\": 3, \"criteria_for_best\": \"target_accuracy\", \"x_net\": [{\"class\": \"nnReshape\", \"kargs\": {\"shape\": [-1, 1, 2, 256]}}, {\"class\": \"Conv2d\", \"kargs\": {\"in_channels\": 1, \"out_channels\": 256, \"kernel_size\": [1, 7], \"bias\": false, \"padding\": [0, 3]}}, {\"class\": \"ReLU\", \"kargs\": {\"inplace\": true}}, {\"class\": \"BatchNorm2d\", \"kargs\": {\"num_features\": 256}}, {\"class\": \"Conv2d\", \"kargs\": {\"in_channels\": 256, \"out_channels\": 80, \"kernel_size\": [2, 7], \"bias\": true, \"padding\": [0, 3]}}, {\"class\": \"ReLU\", \"kargs\": {\"inplace\": true}}, {\"class\": \"BatchNorm2d\", \"kargs\": {\"num_features\": 80}}, {\"class\": \"Flatten\", \"kargs\": {}}, {\"class\": \"Linear\", \"kargs\": {\"in_features\": 20480, \"out_features\": 256}}, {\"class\": \"ReLU\", \"kargs\": {\"inplace\": true}}, {\"class\": \"BatchNorm1d\", \"kargs\": {\"num_features\": 256}}, {\"class\": \"Linear\", \"kargs\": {\"in_features\": 256, \"out_features\": 256}}], \"NUM_LOGS_PER_EPOCH\": 10, \"BEST_MODEL_PATH\": \"./best_model.pth\", \"n_way\": 16, \"datasets\": [{\"labels\": [\"3123D52\", \"3123D65\", \"3123D79\", \"3123D80\", \"3123D54\", \"3123D70\", \"3123D7B\", \"3123D89\", \"3123D58\", \"3123D76\", \"3123D7D\", \"3123EFE\", \"3123D64\", \"3123D78\", \"3123D7E\", \"3124E4A\"], \"domains\": [32, 38, 8, 44, 14, 50, 20, 26], \"num_examples_per_domain_per_label\": 2000, \"pickle_path\": \"/root/csc500-main/datasets/oracle.Run1_framed_2000Examples_stratified_ds.2022A.pkl\", \"source_or_target_dataset\": \"source\", \"x_transforms\": [\"unit_power\"], \"episode_transforms\": [], \"domain_prefix\": \"ORACLE.run1_\"}, {\"labels\": [\"3123D52\", \"3123D65\", \"3123D79\", \"3123D80\", \"3123D54\", \"3123D70\", \"3123D7B\", \"3123D89\", \"3123D58\", \"3123D76\", \"3123D7D\", \"3123EFE\", \"3123D64\", \"3123D78\", \"3123D7E\", \"3124E4A\"], \"domains\": [32, 38, 8, 44, 14, 50, 20, 26], \"num_examples_per_domain_per_label\": 2000, \"pickle_path\": \"/root/csc500-main/datasets/oracle.Run2_framed_2000Examples_stratified_ds.2022A.pkl\", \"source_or_target_dataset\": \"target\", \"x_transforms\": [\"unit_power\"], \"episode_transforms\": [], \"domain_prefix\": \"ORACLE.run2_\"}], \"dataset_seed\": 1337, \"seed\": 1337, \"x_shape\": [2, 256], \"domains_source\": [\"ORACLE.run1_32\", \"ORACLE.run1_38\", \"ORACLE.run1_8\", \"ORACLE.run1_44\", \"ORACLE.run1_14\", \"ORACLE.run1_50\", \"ORACLE.run1_20\", \"ORACLE.run1_26\"], \"domains_target\": [\"ORACLE.run2_32\", \"ORACLE.run2_38\", \"ORACLE.run2_8\", \"ORACLE.run2_44\", \"ORACLE.run2_14\", \"ORACLE.run2_50\", \"ORACLE.run2_20\", \"ORACLE.run2_26\"]}, \"results\": {\"source_test_label_accuracy\": 0.9107096354166667, \"source_test_label_loss\": 0.2747921645641327, \"target_test_label_accuracy\": 0.8849609375, \"target_test_label_loss\": 0.848694384098053, \"source_val_label_accuracy\": 0.90927734375, \"source_val_label_loss\": 0.2557871341705322, \"target_val_label_accuracy\": 0.8838216145833333, \"target_val_label_loss\": 0.6442234516143799, \"total_epochs_trained\": 18, \"total_experiment_time_secs\": 4169.186188220978, \"confusion\": {\"ORACLE.run1_14\": {\"15\": {\"15\": 240}, \"3\": {\"3\": 232, \"2\": 4, \"5\": 1, \"14\": 2, \"4\": 1}, \"6\": {\"6\": 204, \"13\": 32, \"2\": 2, \"14\": 2}, \"1\": {\"1\": 238, \"5\": 2}, \"8\": {\"8\": 240}, \"10\": {\"10\": 240}, \"9\": {\"9\": 240}, \"13\": {\"13\": 192, \"6\": 39, \"14\": 2, \"3\": 1, \"2\": 2, \"5\": 2, \"4\": 2}, \"12\": {\"12\": 240}, \"5\": {\"5\": 211, \"4\": 15, \"1\": 6, \"2\": 5, \"3\": 3}, \"0\": {\"0\": 238, \"3\": 2}, \"2\": {\"2\": 179, \"5\": 12, \"14\": 42, \"3\": 2, \"6\": 5}, \"11\": {\"11\": 237, \"9\": 3}, \"14\": {\"14\": 214, \"2\": 24, \"13\": 1, \"6\": 1}, \"7\": {\"7\": 240}, \"4\": {\"4\": 237, \"5\": 3}}, \"ORACLE.run1_20\": {\"3\": {\"3\": 203, \"1\": 2, \"9\": 12, \"12\": 18, \"2\": 3, \"4\": 2}, \"15\": {\"5\": 5, \"15\": 227, \"0\": 2, \"1\": 6}, \"8\": {\"8\": 235, \"4\": 3, \"7\": 2}, \"4\": {\"4\": 236, \"8\": 4}, \"14\": {\"6\": 6, \"14\": 234}, \"0\": {\"5\": 21, \"0\": 214, \"15\": 5}, \"7\": {\"7\": 232, \"3\": 1, \"2\": 5, \"9\": 1, \"8\": 1}, \"6\": {\"6\": 237, \"14\": 3}, \"10\": {\"10\": 240}, \"5\": {\"5\": 232, \"15\": 1, \"0\": 5, \"12\": 2}, \"2\": {\"2\": 194, \"1\": 1, \"7\": 7, \"9\": 21, \"12\": 13, \"3\": 4}, \"12\": {\"12\": 193, \"1\": 19, \"3\": 20, \"9\": 2, \"2\": 5, \"5\": 1}, \"9\": {\"9\": 205, \"2\": 19, \"12\": 5, \"3\": 10, \"7\": 1}, \"1\": {\"1\": 210, \"5\": 2, \"12\": 24, \"15\": 4}, \"11\": {\"11\": 240}, \"13\": {\"13\": 240}}, \"ORACLE.run1_38\": {\"5\": {\"8\": 58, \"7\": 15, \"5\": 162, \"9\": 4, \"13\": 1}, \"8\": {\"8\": 208, \"5\": 21, \"0\": 6, \"7\": 4, \"15\": 1}, \"11\": {\"11\": 238, \"14\": 2}, \"1\": {\"1\": 235, \"15\": 5}, \"10\": {\"10\": 223, \"0\": 2, \"7\": 1, \"8\": 1, \"13\": 10, \"14\": 1, \"5\": 2}, \"15\": {\"15\": 232, \"1\": 3, \"5\": 3, \"13\": 1, \"8\": 1}, \"3\": {\"3\": 239, \"0\": 1}, \"7\": {\"7\": 227, \"8\": 4, \"5\": 5, \"0\": 4}, \"4\": {\"4\": 240}, \"14\": {\"14\": 231, \"2\": 9}, \"9\": {\"9\": 240}, \"12\": {\"12\": 239, \"4\": 1}, \"6\": {\"6\": 240}, \"2\": {\"2\": 227, \"13\": 7, \"15\": 2, \"14\": 4}, \"0\": {\"8\": 14, \"0\": 209, \"7\": 7, \"3\": 5, \"10\": 3, \"13\": 1, \"5\": 1}, \"13\": {\"13\": 234, \"15\": 2, \"10\": 2, \"0\": 2}}, \"ORACLE.run1_8\": {\"9\": {\"9\": 240}, \"10\": {\"10\": 217, \"13\": 17, \"14\": 6}, \"13\": {\"13\": 188, \"6\": 5, \"0\": 6, \"4\": 19, \"10\": 20, \"14\": 2}, \"0\": {\"0\": 232, \"7\": 2, \"4\": 1, \"13\": 4, \"10\": 1}, \"1\": {\"1\": 238, \"11\": 1, \"14\": 1}, \"15\": {\"15\": 222, \"12\": 18}, \"5\": {\"5\": 232, \"14\": 3, \"1\": 1, \"10\": 4}, \"3\": {\"3\": 240}, \"6\": {\"6\": 209, \"7\": 23, \"4\": 5, \"13\": 3}, \"11\": {\"11\": 237, \"1\": 3}, \"8\": {\"8\": 240}, \"4\": {\"4\": 201, \"13\": 24, \"6\": 7, \"14\": 8}, \"12\": {\"12\": 209, \"15\": 26, \"3\": 4, \"8\": 1}, \"14\": {\"14\": 215, \"10\": 7, \"1\": 8, \"4\": 10}, \"2\": {\"2\": 235, \"7\": 2, \"3\": 3}, \"7\": {\"7\": 228, \"6\": 11, \"0\": 1}}, \"ORACLE.run1_50\": {\"7\": {\"7\": 234, \"5\": 3, \"6\": 2, \"4\": 1}, \"3\": {\"3\": 239, \"8\": 1}, \"8\": {\"8\": 237, \"10\": 2, \"3\": 1}, \"2\": {\"2\": 230, \"0\": 10}, \"14\": {\"14\": 240}, \"4\": {\"4\": 194, \"5\": 24, \"7\": 3, \"15\": 17, \"11\": 1, \"6\": 1}, \"6\": {\"6\": 232, \"13\": 6, \"1\": 1, \"5\": 1}, \"15\": {\"15\": 226, \"4\": 8, \"1\": 5, \"6\": 1}, \"10\": {\"10\": 235, \"0\": 4, \"8\": 1}, \"11\": {\"11\": 230, \"15\": 7, \"12\": 3}, \"13\": {\"13\": 228, \"5\": 4, \"7\": 7, \"10\": 1}, \"9\": {\"9\": 227, \"12\": 2, \"11\": 11}, \"0\": {\"0\": 224, \"2\": 13, \"10\": 3}, \"1\": {\"1\": 228, \"15\": 6, \"5\": 3, \"4\": 3}, \"12\": {\"12\": 234, \"9\": 3, \"11\": 3}, \"5\": {\"4\": 30, \"5\": 180, \"7\": 11, \"1\": 3, \"13\": 14, \"15\": 1, \"6\": 1}}, \"ORACLE.run1_32\": {\"8\": {\"8\": 223, \"5\": 4, \"13\": 3, \"0\": 9, \"14\": 1}, \"14\": {\"14\": 207, \"11\": 10, \"0\": 15, \"7\": 5, \"3\": 1, \"5\": 2}, \"2\": {\"2\": 202, \"4\": 36, \"7\": 2}, \"0\": {\"0\": 220, \"14\": 10, \"5\": 1, \"8\": 9}, \"1\": {\"1\": 240}, \"10\": {\"10\": 240}, \"11\": {\"11\": 233, \"14\": 6, \"3\": 1}, \"5\": {\"5\": 171, \"13\": 3, \"7\": 55, \"8\": 3, \"3\": 3, \"14\": 1, \"4\": 4}, \"15\": {\"15\": 239, \"8\": 1}, \"3\": {\"3\": 234, \"13\": 3, \"11\": 2, \"5\": 1}, \"12\": {\"12\": 240}, \"7\": {\"7\": 196, \"5\": 24, \"4\": 16, \"2\": 1, \"11\": 1, \"14\": 2}, \"13\": {\"13\": 216, \"0\": 1, \"3\": 7, \"4\": 12, \"5\": 3, \"8\": 1}, \"6\": {\"6\": 240}, \"4\": {\"4\": 201, \"2\": 24, \"5\": 5, \"7\": 4, \"13\": 6}, \"9\": {\"9\": 240}}, \"ORACLE.run1_26\": {\"4\": {\"4\": 218, \"7\": 6, \"0\": 4, \"14\": 6, \"8\": 6}, \"12\": {\"12\": 240}, \"10\": {\"14\": 14, \"10\": 146, \"8\": 25, \"0\": 54, \"4\": 1}, \"0\": {\"0\": 108, \"10\": 57, \"14\": 28, \"8\": 29, \"4\": 17, \"7\": 1}, \"13\": {\"13\": 225, \"5\": 10, \"9\": 1, \"2\": 4}, \"9\": {\"9\": 225, \"13\": 3, \"15\": 9, \"6\": 2, \"5\": 1}, \"3\": {\"3\": 203, \"2\": 32, \"7\": 5}, \"2\": {\"2\": 134, \"3\": 58, \"13\": 7, \"7\": 22, \"5\": 15, \"15\": 4}, \"5\": {\"5\": 222, \"2\": 10, \"13\": 7, \"15\": 1}, \"14\": {\"4\": 5, \"14\": 194, \"8\": 4, \"10\": 8, \"0\": 21, \"1\": 6, \"7\": 1, \"6\": 1}, \"8\": {\"7\": 21, \"8\": 152, \"0\": 21, \"4\": 18, \"10\": 23, \"15\": 3, \"14\": 2}, \"7\": {\"7\": 212, \"8\": 8, \"2\": 10, \"3\": 3, \"4\": 7}, \"6\": {\"6\": 222, \"15\": 13, \"10\": 4, \"9\": 1}, \"11\": {\"11\": 240}, \"15\": {\"15\": 211, \"9\": 7, \"13\": 3, \"10\": 4, \"7\": 1, \"5\": 3, \"2\": 2, \"6\": 5, \"8\": 4}, \"1\": {\"1\": 231, \"14\": 7, \"10\": 1, \"7\": 1}}, \"ORACLE.run1_44\": {\"12\": {\"12\": 219, \"1\": 20, \"3\": 1}, \"7\": {\"7\": 198, \"2\": 16, \"9\": 24, \"6\": 2}, \"5\": {\"5\": 227, \"14\": 4, \"0\": 4, \"8\": 1, \"15\": 4}, \"15\": {\"15\": 214, \"14\": 8, \"5\": 6, \"8\": 6, \"0\": 6}, \"8\": {\"8\": 164, \"0\": 69, \"15\": 6, \"5\": 1}, \"2\": {\"2\": 206, \"7\": 20, \"10\": 6, \"1\": 8}, \"13\": {\"13\": 183, \"6\": 30, \"9\": 26, \"11\": 1}, \"4\": {\"14\": 43, \"4\": 196, \"15\": 1}, \"0\": {\"0\": 182, \"8\": 53, \"15\": 3, \"5\": 2}, \"6\": {\"6\": 192, \"13\": 32, \"9\": 14, \"7\": 2}, \"9\": {\"13\": 21, \"7\": 52, \"9\": 150, \"6\": 17}, \"11\": {\"11\": 236, \"13\": 4}, \"10\": {\"1\": 10, \"10\": 223, \"12\": 1, \"2\": 6}, \"14\": {\"14\": 170, \"4\": 64, \"5\": 3, \"15\": 3}, \"1\": {\"3\": 10, \"2\": 9, \"1\": 195, \"10\": 9, \"12\": 17}, \"3\": {\"3\": 234, \"2\": 3, \"1\": 2, \"12\": 1}}, \"ORACLE.run2_14\": {\"15\": {\"15\": 240}, \"3\": {\"3\": 229, \"4\": 1, \"5\": 7, \"14\": 1, \"2\": 2}, \"6\": {\"6\": 222, \"13\": 16, \"14\": 2}, \"1\": {\"1\": 238, \"5\": 2}, \"8\": {\"8\": 240}, \"10\": {\"10\": 240}, \"9\": {\"9\": 240}, \"13\": {\"13\": 208, \"6\": 30, \"14\": 1, \"2\": 1}, \"12\": {\"12\": 145, \"9\": 36, \"11\": 35, \"8\": 7, \"0\": 17}, \"5\": {\"5\": 212, \"2\": 14, \"3\": 3, \"4\": 10, \"1\": 1}, \"0\": {\"0\": 240}, \"2\": {\"14\": 54, \"2\": 146, \"3\": 11, \"5\": 27, \"6\": 2}, \"11\": {\"11\": 240}, \"14\": {\"2\": 29, \"14\": 210, \"13\": 1}, \"7\": {\"7\": 240}, \"4\": {\"4\": 235, \"5\": 5}}, \"ORACLE.run2_20\": {\"3\": {\"2\": 24, \"3\": 196, \"9\": 14, \"7\": 5, \"12\": 1}, \"15\": {\"13\": 28, \"1\": 7, \"15\": 188, \"0\": 4, \"12\": 4, \"2\": 5, \"5\": 4}, \"8\": {\"8\": 214, \"7\": 4, \"4\": 5, \"14\": 17}, \"4\": {\"4\": 238, \"12\": 1, \"5\": 1}, \"14\": {\"14\": 228, \"6\": 5, \"8\": 7}, \"0\": {\"0\": 236, \"15\": 3, \"5\": 1}, \"7\": {\"7\": 237, \"8\": 3}, \"6\": {\"6\": 237, \"14\": 3}, \"10\": {\"10\": 240}, \"5\": {\"2\": 14, \"5\": 203, \"0\": 7, \"12\": 7, \"3\": 3, \"15\": 2, \"7\": 3, \"4\": 1}, \"2\": {\"9\": 9, \"2\": 179, \"12\": 10, \"3\": 31, \"5\": 9, \"15\": 1, \"1\": 1}, \"12\": {\"12\": 210, \"5\": 4, \"1\": 17, \"2\": 5, \"9\": 2, \"15\": 1, \"4\": 1}, \"9\": {\"9\": 202, \"3\": 11, \"2\": 25, \"12\": 2}, \"1\": {\"1\": 194, \"12\": 43, \"9\": 1, \"15\": 2}, \"11\": {\"11\": 240}, \"13\": {\"13\": 217, \"15\": 20, \"5\": 2, \"1\": 1}}, \"ORACLE.run2_38\": {\"5\": {\"5\": 162, \"8\": 52, \"10\": 1, \"7\": 16, \"15\": 9}, \"8\": {\"5\": 56, \"8\": 169, \"7\": 10, \"13\": 2, \"15\": 1, \"10\": 1, \"0\": 1}, \"11\": {\"11\": 231, \"9\": 2, \"2\": 1, \"10\": 3, \"13\": 1, \"3\": 1, \"4\": 1}, \"1\": {\"1\": 228, \"15\": 12}, \"10\": {\"7\": 33, \"10\": 204, \"3\": 1, \"13\": 1, \"5\": 1}, \"15\": {\"5\": 25, \"15\": 186, \"1\": 21, \"8\": 7, \"0\": 1}, \"3\": {\"3\": 170, \"0\": 10, \"13\": 53, \"10\": 5, \"9\": 1, \"7\": 1}, \"7\": {\"7\": 161, \"0\": 1, \"5\": 23, \"10\": 37, \"8\": 18}, \"4\": {\"4\": 236, \"12\": 2, \"7\": 1, \"10\": 1}, \"14\": {\"14\": 174, \"5\": 4, \"8\": 14, \"2\": 36, \"7\": 4, \"13\": 1, \"12\": 6, \"11\": 1}, \"9\": {\"9\": 235, \"6\": 5}, \"12\": {\"12\": 240}, \"6\": {\"6\": 234, \"9\": 6}, \"2\": {\"2\": 237, \"14\": 3}, \"0\": {\"0\": 228, \"10\": 2, \"3\": 5, \"7\": 4, \"8\": 1}, \"13\": {\"13\": 170, \"8\": 3, \"3\": 59, \"0\": 3, \"10\": 4, \"7\": 1}}, \"ORACLE.run2_8\": {\"9\": {\"9\": 240}, \"10\": {\"10\": 223, \"5\": 12, \"0\": 5}, \"13\": {\"13\": 233, \"1\": 4, \"14\": 3}, \"0\": {\"0\": 229, \"14\": 5, \"10\": 6}, \"1\": {\"1\": 239, \"13\": 1}, \"15\": {\"15\": 206, \"12\": 17, \"8\": 15, \"11\": 2}, \"5\": {\"5\": 221, \"10\": 19}, \"3\": {\"3\": 239, \"12\": 1}, \"6\": {\"6\": 182, \"7\": 9, \"4\": 49}, \"11\": {\"11\": 191, \"8\": 35, \"12\": 12, \"15\": 2}, \"8\": {\"8\": 240}, \"4\": {\"4\": 146, \"7\": 53, \"6\": 40, \"2\": 1}, \"12\": {\"12\": 235, \"15\": 4, \"3\": 1}, \"14\": {\"14\": 231, \"10\": 1, \"13\": 4, \"0\": 4}, \"2\": {\"2\": 233, \"4\": 2, \"7\": 5}, \"7\": {\"7\": 173, \"4\": 57, \"6\": 10}}, \"ORACLE.run2_50\": {\"7\": {\"7\": 218, \"5\": 6, \"13\": 12, \"4\": 3, \"6\": 1}, \"3\": {\"3\": 236, \"8\": 4}, \"8\": {\"8\": 240}, \"2\": {\"2\": 235, \"0\": 5}, \"14\": {\"14\": 240}, \"4\": {\"5\": 53, \"4\": 176, \"6\": 7, \"1\": 3, \"7\": 1}, \"6\": {\"6\": 230, \"4\": 4, \"5\": 5, \"15\": 1}, \"15\": {\"15\": 237, \"4\": 1, \"1\": 2}, \"10\": {\"10\": 205, \"13\": 34, \"5\": 1}, \"11\": {\"11\": 232, \"15\": 4, \"9\": 3, \"12\": 1}, \"13\": {\"13\": 212, \"5\": 3, \"10\": 22, \"7\": 3}, \"9\": {\"9\": 239, \"12\": 1}, \"0\": {\"0\": 232, \"2\": 7, \"10\": 1}, \"1\": {\"1\": 232, \"4\": 3, \"5\": 1, \"15\": 2, \"6\": 2}, \"12\": {\"12\": 236, \"9\": 1, \"11\": 3}, \"5\": {\"6\": 9, \"5\": 141, \"1\": 3, \"7\": 13, \"4\": 70, \"13\": 4}}, \"ORACLE.run2_32\": {\"8\": {\"8\": 222, \"0\": 12, \"7\": 1, \"5\": 3, \"4\": 1, \"3\": 1}, \"14\": {\"14\": 229, \"0\": 10, \"11\": 1}, \"2\": {\"2\": 226, \"4\": 5, \"5\": 5, \"7\": 4}, \"0\": {\"0\": 204, \"8\": 13, \"14\": 12, \"11\": 8, \"4\": 1, \"13\": 1, \"5\": 1}, \"1\": {\"1\": 240}, \"10\": {\"10\": 240}, \"11\": {\"11\": 204, \"0\": 15, \"7\": 13, \"4\": 3, \"13\": 4, \"5\": 1}, \"5\": {\"5\": 201, \"4\": 7, \"8\": 12, \"7\": 3, \"0\": 6, \"2\": 6, \"3\": 1, \"14\": 4}, \"15\": {\"15\": 240}, \"3\": {\"3\": 237, \"8\": 2, \"13\": 1}, \"12\": {\"12\": 240}, \"7\": {\"11\": 18, \"7\": 204, \"4\": 9, \"13\": 2, \"5\": 7}, \"13\": {\"4\": 33, \"13\": 202, \"11\": 3, \"8\": 2}, \"6\": {\"6\": 240}, \"4\": {\"4\": 195, \"13\": 34, \"11\": 3, \"7\": 5, \"8\": 2, \"5\": 1}, \"9\": {\"9\": 240}}, \"ORACLE.run2_26\": {\"4\": {\"4\": 223, \"0\": 2, \"2\": 6, \"3\": 1, \"14\": 1, \"8\": 2, \"7\": 5}, \"12\": {\"12\": 240}, \"10\": {\"10\": 120, \"6\": 8, \"0\": 68, \"8\": 14, \"14\": 20, \"2\": 1, \"15\": 2, \"4\": 6, \"1\": 1}, \"0\": {\"0\": 138, \"10\": 30, \"14\": 44, \"4\": 11, \"8\": 16, \"1\": 1}, \"13\": {\"13\": 220, \"5\": 15, \"9\": 5}, \"9\": {\"9\": 225, \"13\": 9, \"6\": 5, \"15\": 1}, \"3\": {\"3\": 214, \"2\": 16, \"7\": 7, \"4\": 3}, \"2\": {\"2\": 135, \"7\": 68, \"3\": 15, \"15\": 10, \"8\": 6, \"4\": 6}, \"5\": {\"5\": 176, \"13\": 41, \"2\": 13, \"7\": 4, \"8\": 1, \"6\": 2, \"3\": 2, \"9\": 1}, \"14\": {\"14\": 161, \"10\": 20, \"8\": 5, \"0\": 36, \"1\": 15, \"4\": 3}, \"8\": {\"8\": 163, \"10\": 14, \"14\": 13, \"2\": 12, \"7\": 10, \"0\": 17, \"4\": 9, \"15\": 2}, \"7\": {\"3\": 10, \"2\": 74, \"7\": 132, \"4\": 12, \"8\": 3, \"13\": 1, \"15\": 8}, \"6\": {\"6\": 237, \"9\": 2, \"13\": 1}, \"11\": {\"11\": 240}, \"15\": {\"15\": 215, \"2\": 12, \"7\": 12, \"3\": 1}, \"1\": {\"1\": 233, \"14\": 7}}, \"ORACLE.run2_44\": {\"12\": {\"12\": 196, \"3\": 8, \"1\": 36}, \"7\": {\"9\": 77, \"7\": 150, \"2\": 12, \"6\": 1}, \"5\": {\"5\": 229, \"14\": 10, \"15\": 1}, \"15\": {\"15\": 214, \"14\": 21, \"4\": 3, \"8\": 2}, \"8\": {\"8\": 154, \"0\": 83, \"5\": 2, \"15\": 1}, \"2\": {\"2\": 218, \"9\": 15, \"7\": 7}, \"13\": {\"13\": 238, \"6\": 2}, \"4\": {\"4\": 229, \"14\": 9, \"13\": 2}, \"0\": {\"8\": 90, \"0\": 150}, \"6\": {\"6\": 230, \"9\": 4, \"13\": 6}, \"9\": {\"9\": 160, \"7\": 56, \"2\": 18, \"6\": 6}, \"11\": {\"11\": 239, \"13\": 1}, \"10\": {\"10\": 230, \"1\": 9, \"12\": 1}, \"14\": {\"14\": 199, \"15\": 18, \"5\": 10, \"4\": 13}, \"1\": {\"1\": 195, \"12\": 35, \"3\": 10}, \"3\": {\"3\": 233, \"2\": 1, \"12\": 4, \"1\": 2}}}, \"per_domain_accuracy\": {\"ORACLE.run1_14\": {\"accuracy\": 0.9432291666666667, \"source?\": true}, \"ORACLE.run1_20\": {\"accuracy\": 0.9302083333333333, \"source?\": true}, \"ORACLE.run1_38\": {\"accuracy\": 0.94375, \"source?\": true}, \"ORACLE.run1_8\": {\"accuracy\": 0.9330729166666667, \"source?\": true}, \"ORACLE.run1_50\": {\"accuracy\": 0.9421875, \"source?\": true}, \"ORACLE.run1_32\": {\"accuracy\": 0.9223958333333333, \"source?\": true}, \"ORACLE.run1_26\": {\"accuracy\": 0.82890625, \"source?\": true}, \"ORACLE.run1_44\": {\"accuracy\": 0.83046875, \"source?\": true}, \"ORACLE.run2_14\": {\"accuracy\": 0.91796875, \"source?\": false}, \"ORACLE.run2_20\": {\"accuracy\": 0.90078125, \"source?\": false}, \"ORACLE.run2_38\": {\"accuracy\": 0.8502604166666666, \"source?\": false}, \"ORACLE.run2_8\": {\"accuracy\": 0.9013020833333333, \"source?\": false}, \"ORACLE.run2_50\": {\"accuracy\": 0.9221354166666667, \"source?\": false}, \"ORACLE.run2_32\": {\"accuracy\": 0.928125, \"source?\": false}, \"ORACLE.run2_26\": {\"accuracy\": 0.8, \"source?\": false}, \"ORACLE.run2_44\": {\"accuracy\": 0.85, \"source?\": false}}}, \"history\": {\"epoch_indices\": [1, 2, 3, 4, 5, 6, 7, 8, 9, 10, 11, 12, 13, 14, 15, 16, 17, 18], \"train_label_loss\": [0.824178370660437, 0.7133893916006422, 0.44091047028334635, 0.36873471123052737, 0.3272864814211581, 0.296614451992805, 0.2746609314814989, 0.25490166079329185, 0.24014496416240858, 0.23293529305464333, 0.21492412539248887, 0.20336457542019032, 0.19635875150453927, 0.18807015174205022, 0.17608952489620908, 0.16663119363779733, 0.15890984241294584, 0.15200929624003212], \"source_val_label_loss\": [31.370849609375, 0.5488840341567993, 0.4280388057231903, 0.41457778215408325, 0.3849393427371979, 0.3267950117588043, 0.35294675827026367, 0.2980000674724579, 0.28718695044517517, 0.2791801989078522, 0.2818475365638733, 0.26696711778640747, 0.2774308919906616, 0.2557871341705322, 0.27631092071533203, 0.2852512001991272, 0.26341232657432556, 0.28604164719581604], \"target_val_label_loss\": [32.315032958984375, 0.6007397174835205, 0.4870034456253052, 0.49990761280059814, 0.45950159430503845, 0.4236319661140442, 0.4523019790649414, 0.3978901505470276, 0.4069307744503021, 0.39913755655288696, 0.546196460723877, 0.530968189239502, 0.7076421976089478, 0.6442234516143799, 0.9112462401390076, 0.9595072865486145, 1.3058229684829712, 1.3215436935424805], \"source_val_acc_label\": [0.66875, 0.7991861979166667, 0.8458333333333333, 0.8498046875, 0.86220703125, 0.8813802083333333, 0.8703450520833333, 0.8931315104166667, 0.8977213541666667, 0.90068359375, 0.8990559895833333, 0.905078125, 0.9012369791666667, 0.90927734375, 0.9021809895833334, 0.9012369791666667, 0.9098307291666666, 0.9028971354166667], \"target_val_acc_label\": [0.6628255208333333, 0.79443359375, 0.8354817708333333, 0.83349609375, 0.8486328125, 0.8649739583333333, 0.8499348958333334, 0.8704752604166667, 0.8726888020833333, 0.8759440104166667, 0.8740885416666667, 0.8795572916666666, 0.8781575520833333, 0.8838216145833333, 0.8740885416666667, 0.8739583333333333, 0.8792643229166667, 0.8791015625]}, \"dataset_metrics\": {\"source\": {\"train\": {\"n_unique_x\": 179200, \"n_unique_y\": 16, \"n_batch/episode\": 6720}, \"val\": {\"n_unique_x\": 38400, \"n_unique_y\": 16, \"n_batch/episode\": 960}, \"test\": {\"n_unique_x\": 38400, \"n_unique_y\": 16, \"n_batch/episode\": 960}}, \"target\": {\"train\": {\"n_unique_x\": 179200, \"n_unique_y\": 16, \"n_batch/episode\": 6720}, \"val\": {\"n_unique_x\": 38400, \"n_unique_y\": 16, \"n_batch/episode\": 960}, \"test\": {\"n_unique_x\": 38400, \"n_unique_y\": 16, \"n_batch/episode\": 960}}}}'"
      ]
     },
     "execution_count": 29,
     "metadata": {},
     "output_type": "execute_result"
    }
   ],
   "source": [
    "json.dumps(experiment)"
   ]
  }
 ],
 "metadata": {
  "celltoolbar": "Tags",
  "kernelspec": {
   "display_name": "Python 3 (ipykernel)",
   "language": "python",
   "name": "python3"
  },
  "language_info": {
   "codemirror_mode": {
    "name": "ipython",
    "version": 3
   },
   "file_extension": ".py",
   "mimetype": "text/x-python",
   "name": "python",
   "nbconvert_exporter": "python",
   "pygments_lexer": "ipython3",
   "version": "3.8.12"
  },
  "papermill": {
   "default_parameters": {},
   "duration": 4431.256089,
   "end_time": "2022-03-21T03:30:20.842240",
   "environment_variables": {},
   "exception": null,
   "input_path": "/root/csc500-main/csc500-notebooks/templates/tl_ptn_template.ipynb",
   "output_path": "trial.ipynb",
   "parameters": {
    "parameters": {
     "BEST_MODEL_PATH": "./best_model.pth",
     "NUM_LOGS_PER_EPOCH": 10,
     "criteria_for_best": "target_accuracy",
     "dataset_seed": 1337,
     "datasets": [
      {
       "domain_prefix": "ORACLE.run1_",
       "domains": [
        32,
        38,
        8,
        44,
        14,
        50,
        20,
        26
       ],
       "episode_transforms": [],
       "labels": [
        "3123D52",
        "3123D65",
        "3123D79",
        "3123D80",
        "3123D54",
        "3123D70",
        "3123D7B",
        "3123D89",
        "3123D58",
        "3123D76",
        "3123D7D",
        "3123EFE",
        "3123D64",
        "3123D78",
        "3123D7E",
        "3124E4A"
       ],
       "num_examples_per_domain_per_label": 2000,
       "pickle_path": "/root/csc500-main/datasets/oracle.Run1_framed_2000Examples_stratified_ds.2022A.pkl",
       "source_or_target_dataset": "source",
       "x_transforms": [
        "unit_power"
       ]
      },
      {
       "domain_prefix": "ORACLE.run2_",
       "domains": [
        32,
        38,
        8,
        44,
        14,
        50,
        20,
        26
       ],
       "episode_transforms": [],
       "labels": [
        "3123D52",
        "3123D65",
        "3123D79",
        "3123D80",
        "3123D54",
        "3123D70",
        "3123D7B",
        "3123D89",
        "3123D58",
        "3123D76",
        "3123D7D",
        "3123EFE",
        "3123D64",
        "3123D78",
        "3123D7E",
        "3124E4A"
       ],
       "num_examples_per_domain_per_label": 2000,
       "pickle_path": "/root/csc500-main/datasets/oracle.Run2_framed_2000Examples_stratified_ds.2022A.pkl",
       "source_or_target_dataset": "target",
       "x_transforms": [
        "unit_power"
       ]
      }
     ],
     "device": "cuda",
     "experiment_name": "tl_1v2:oracle.run1.framed-oracle.run2.framed",
     "lr": 0.0001,
     "n_epoch": 50,
     "n_query": 2,
     "n_shot": 3,
     "n_way": 16,
     "patience": 3,
     "seed": 1337,
     "test_k_factor": 2,
     "torch_default_dtype": "torch.float32",
     "train_k_factor": 3,
     "val_k_factor": 2,
     "x_net": [
      {
       "class": "nnReshape",
       "kargs": {
        "shape": [
         -1,
         1,
         2,
         256
        ]
       }
      },
      {
       "class": "Conv2d",
       "kargs": {
        "bias": false,
        "in_channels": 1,
        "kernel_size": [
         1,
         7
        ],
        "out_channels": 256,
        "padding": [
         0,
         3
        ]
       }
      },
      {
       "class": "ReLU",
       "kargs": {
        "inplace": true
       }
      },
      {
       "class": "BatchNorm2d",
       "kargs": {
        "num_features": 256
       }
      },
      {
       "class": "Conv2d",
       "kargs": {
        "bias": true,
        "in_channels": 256,
        "kernel_size": [
         2,
         7
        ],
        "out_channels": 80,
        "padding": [
         0,
         3
        ]
       }
      },
      {
       "class": "ReLU",
       "kargs": {
        "inplace": true
       }
      },
      {
       "class": "BatchNorm2d",
       "kargs": {
        "num_features": 80
       }
      },
      {
       "class": "Flatten",
       "kargs": {}
      },
      {
       "class": "Linear",
       "kargs": {
        "in_features": 20480,
        "out_features": 256
       }
      },
      {
       "class": "ReLU",
       "kargs": {
        "inplace": true
       }
      },
      {
       "class": "BatchNorm1d",
       "kargs": {
        "num_features": 256
       }
      },
      {
       "class": "Linear",
       "kargs": {
        "in_features": 256,
        "out_features": 256
       }
      }
     ]
    }
   },
   "start_time": "2022-03-21T02:16:29.586151",
   "version": "2.3.4"
  }
 },
 "nbformat": 4,
 "nbformat_minor": 5
}