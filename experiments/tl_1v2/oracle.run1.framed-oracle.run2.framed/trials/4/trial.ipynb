{
 "cells": [
  {
   "cell_type": "markdown",
   "id": "9fea5f46",
   "metadata": {
    "papermill": {
     "duration": 0.028192,
     "end_time": "2022-03-21T07:20:15.389121",
     "exception": false,
     "start_time": "2022-03-21T07:20:15.360929",
     "status": "completed"
    },
    "tags": []
   },
   "source": [
    "# Transfer Learning Template"
   ]
  },
  {
   "cell_type": "code",
   "execution_count": 1,
   "id": "0902182a",
   "metadata": {
    "execution": {
     "iopub.execute_input": "2022-03-21T07:20:15.449712Z",
     "iopub.status.busy": "2022-03-21T07:20:15.448867Z",
     "iopub.status.idle": "2022-03-21T07:20:17.431768Z",
     "shell.execute_reply": "2022-03-21T07:20:17.432435Z"
    },
    "papermill": {
     "duration": 2.02164,
     "end_time": "2022-03-21T07:20:17.432772",
     "exception": false,
     "start_time": "2022-03-21T07:20:15.411132",
     "status": "completed"
    },
    "tags": []
   },
   "outputs": [],
   "source": [
    "%load_ext autoreload\n",
    "%autoreload 2\n",
    "%matplotlib inline\n",
    "\n",
    "    \n",
    "import os, json, sys, time, random\n",
    "import numpy as np\n",
    "import torch\n",
    "from torch.optim import Adam\n",
    "from  easydict import EasyDict\n",
    "import matplotlib.pyplot as plt\n",
    "\n",
    "from steves_models.steves_ptn import Steves_Prototypical_Network\n",
    "\n",
    "from steves_utils.lazy_iterable_wrapper import Lazy_Iterable_Wrapper\n",
    "from steves_utils.iterable_aggregator import Iterable_Aggregator\n",
    "from steves_utils.ptn_train_eval_test_jig import  PTN_Train_Eval_Test_Jig\n",
    "from steves_utils.torch_sequential_builder import build_sequential\n",
    "from steves_utils.torch_utils import get_dataset_metrics, ptn_confusion_by_domain_over_dataloader\n",
    "from steves_utils.utils_v2 import (per_domain_accuracy_from_confusion, get_datasets_base_path)\n",
    "from steves_utils.PTN.utils import independent_accuracy_assesment\n",
    "\n",
    "from torch.utils.data import DataLoader\n",
    "\n",
    "from steves_utils.stratified_dataset.episodic_accessor import Episodic_Accessor_Factory\n",
    "\n",
    "from steves_utils.ptn_do_report import (\n",
    "    get_loss_curve,\n",
    "    get_results_table,\n",
    "    get_parameters_table,\n",
    "    get_domain_accuracies,\n",
    ")\n",
    "\n",
    "from steves_utils.transforms import get_chained_transform"
   ]
  },
  {
   "cell_type": "markdown",
   "id": "41c840b4",
   "metadata": {
    "papermill": {
     "duration": 0.019143,
     "end_time": "2022-03-21T07:20:17.477766",
     "exception": false,
     "start_time": "2022-03-21T07:20:17.458623",
     "status": "completed"
    },
    "tags": []
   },
   "source": [
    "# Allowed Parameters\n",
    "These are allowed parameters, not defaults\n",
    "Each of these values need to be present in the injected parameters (the notebook will raise an exception if they are not present)\n",
    "\n",
    "Papermill uses the cell tag \"parameters\" to inject the real parameters below this cell.\n",
    "Enable tags to see what I mean"
   ]
  },
  {
   "cell_type": "code",
   "execution_count": 2,
   "id": "fd44eb83",
   "metadata": {
    "execution": {
     "iopub.execute_input": "2022-03-21T07:20:17.523315Z",
     "iopub.status.busy": "2022-03-21T07:20:17.522676Z",
     "iopub.status.idle": "2022-03-21T07:20:17.548255Z",
     "shell.execute_reply": "2022-03-21T07:20:17.547442Z"
    },
    "papermill": {
     "duration": 0.051231,
     "end_time": "2022-03-21T07:20:17.548410",
     "exception": false,
     "start_time": "2022-03-21T07:20:17.497179",
     "status": "completed"
    },
    "tags": []
   },
   "outputs": [],
   "source": [
    "required_parameters = {\n",
    "    \"experiment_name\",\n",
    "    \"lr\",\n",
    "    \"device\",\n",
    "    \"seed\",\n",
    "    \"dataset_seed\",\n",
    "    \"n_shot\",\n",
    "    \"n_query\",\n",
    "    \"n_way\",\n",
    "    \"train_k_factor\",\n",
    "    \"val_k_factor\",\n",
    "    \"test_k_factor\",\n",
    "    \"n_epoch\",\n",
    "    \"patience\",\n",
    "    \"criteria_for_best\",\n",
    "    \"x_net\",\n",
    "    \"datasets\",\n",
    "    \"torch_default_dtype\",\n",
    "    \"NUM_LOGS_PER_EPOCH\",\n",
    "    \"BEST_MODEL_PATH\",\n",
    "    \"x_shape\",\n",
    "}"
   ]
  },
  {
   "cell_type": "code",
   "execution_count": 3,
   "id": "fa3f0049",
   "metadata": {
    "execution": {
     "iopub.execute_input": "2022-03-21T07:20:17.609771Z",
     "iopub.status.busy": "2022-03-21T07:20:17.608868Z",
     "iopub.status.idle": "2022-03-21T07:20:17.629061Z",
     "shell.execute_reply": "2022-03-21T07:20:17.628276Z"
    },
    "papermill": {
     "duration": 0.052543,
     "end_time": "2022-03-21T07:20:17.629216",
     "exception": false,
     "start_time": "2022-03-21T07:20:17.576673",
     "status": "completed"
    },
    "tags": [
     "parameters"
    ]
   },
   "outputs": [],
   "source": [
    "from steves_utils.CORES.utils import (\n",
    "    ALL_NODES,\n",
    "    ALL_NODES_MINIMUM_1000_EXAMPLES,\n",
    "    ALL_DAYS\n",
    ")\n",
    "\n",
    "from steves_utils.ORACLE.utils_v2 import (\n",
    "    ALL_DISTANCES_FEET_NARROWED,\n",
    "    ALL_RUNS,\n",
    "    ALL_SERIAL_NUMBERS,\n",
    ")\n",
    "\n",
    "standalone_parameters = {}\n",
    "standalone_parameters[\"experiment_name\"] = \"STANDALONE PTN\"\n",
    "standalone_parameters[\"lr\"] = 0.001\n",
    "standalone_parameters[\"device\"] = \"cuda\"\n",
    "\n",
    "standalone_parameters[\"seed\"] = 1337\n",
    "standalone_parameters[\"dataset_seed\"] = 1337\n",
    "\n",
    "standalone_parameters[\"n_way\"] = 8\n",
    "standalone_parameters[\"n_shot\"] = 3\n",
    "standalone_parameters[\"n_query\"]  = 2\n",
    "standalone_parameters[\"train_k_factor\"] = 1\n",
    "standalone_parameters[\"val_k_factor\"] = 2\n",
    "standalone_parameters[\"test_k_factor\"] = 2\n",
    "\n",
    "\n",
    "standalone_parameters[\"n_epoch\"] = 50\n",
    "\n",
    "standalone_parameters[\"patience\"] = 10\n",
    "standalone_parameters[\"criteria_for_best\"] = \"source_loss\"\n",
    "\n",
    "standalone_parameters[\"datasets\"] = [\n",
    "    {\n",
    "        \"labels\": ALL_SERIAL_NUMBERS,\n",
    "        \"domains\": ALL_DISTANCES_FEET_NARROWED,\n",
    "        \"num_examples_per_domain_per_label\": 100,\n",
    "        \"pickle_path\": os.path.join(get_datasets_base_path(), \"oracle.Run1_framed_2000Examples_stratified_ds.2022A.pkl\"),\n",
    "        \"source_or_target_dataset\": \"source\",\n",
    "        \"x_transforms\": [\"unit_mag\", \"minus_two\"],\n",
    "        \"episode_transforms\": [],\n",
    "        \"domain_prefix\": \"ORACLE_\"\n",
    "    },\n",
    "    {\n",
    "        \"labels\": ALL_NODES,\n",
    "        \"domains\": ALL_DAYS,\n",
    "        \"num_examples_per_domain_per_label\": 100,\n",
    "        \"pickle_path\": os.path.join(get_datasets_base_path(), \"cores.stratified_ds.2022A.pkl\"),\n",
    "        \"source_or_target_dataset\": \"target\",\n",
    "        \"x_transforms\": [\"unit_power\", \"times_zero\"],\n",
    "        \"episode_transforms\": [],\n",
    "        \"domain_prefix\": \"CORES_\"\n",
    "    }   \n",
    "]\n",
    "\n",
    "standalone_parameters[\"torch_default_dtype\"] = \"torch.float32\" \n",
    "\n",
    "\n",
    "\n",
    "standalone_parameters[\"x_net\"] =     [\n",
    "    {\"class\": \"nnReshape\", \"kargs\": {\"shape\":[-1, 1, 2, 256]}},\n",
    "    {\"class\": \"Conv2d\", \"kargs\": { \"in_channels\":1, \"out_channels\":256, \"kernel_size\":(1,7), \"bias\":False, \"padding\":(0,3), },},\n",
    "    {\"class\": \"ReLU\", \"kargs\": {\"inplace\": True}},\n",
    "    {\"class\": \"BatchNorm2d\", \"kargs\": {\"num_features\":256}},\n",
    "\n",
    "    {\"class\": \"Conv2d\", \"kargs\": { \"in_channels\":256, \"out_channels\":80, \"kernel_size\":(2,7), \"bias\":True, \"padding\":(0,3), },},\n",
    "    {\"class\": \"ReLU\", \"kargs\": {\"inplace\": True}},\n",
    "    {\"class\": \"BatchNorm2d\", \"kargs\": {\"num_features\":80}},\n",
    "    {\"class\": \"Flatten\", \"kargs\": {}},\n",
    "\n",
    "    {\"class\": \"Linear\", \"kargs\": {\"in_features\": 80*256, \"out_features\": 256}}, # 80 units per IQ pair\n",
    "    {\"class\": \"ReLU\", \"kargs\": {\"inplace\": True}},\n",
    "    {\"class\": \"BatchNorm1d\", \"kargs\": {\"num_features\":256}},\n",
    "\n",
    "    {\"class\": \"Linear\", \"kargs\": {\"in_features\": 256, \"out_features\": 256}},\n",
    "]\n",
    "\n",
    "# Parameters relevant to results\n",
    "# These parameters will basically never need to change\n",
    "standalone_parameters[\"NUM_LOGS_PER_EPOCH\"] = 10\n",
    "standalone_parameters[\"BEST_MODEL_PATH\"] = \"./best_model.pth\"\n",
    "\n",
    "\n",
    "\n",
    "\n"
   ]
  },
  {
   "cell_type": "code",
   "execution_count": 4,
   "id": "cd157922",
   "metadata": {
    "execution": {
     "iopub.execute_input": "2022-03-21T07:20:17.681464Z",
     "iopub.status.busy": "2022-03-21T07:20:17.675438Z",
     "iopub.status.idle": "2022-03-21T07:20:17.710384Z",
     "shell.execute_reply": "2022-03-21T07:20:17.709581Z"
    },
    "papermill": {
     "duration": 0.056425,
     "end_time": "2022-03-21T07:20:17.710539",
     "exception": false,
     "start_time": "2022-03-21T07:20:17.654114",
     "status": "completed"
    },
    "tags": [
     "injected-parameters"
    ]
   },
   "outputs": [],
   "source": [
    "# Parameters\n",
    "parameters = {\n",
    "    \"experiment_name\": \"tl_1v2:oracle.run1.framed-oracle.run2.framed\",\n",
    "    \"device\": \"cuda\",\n",
    "    \"lr\": 0.0001,\n",
    "    \"n_shot\": 3,\n",
    "    \"n_query\": 2,\n",
    "    \"train_k_factor\": 3,\n",
    "    \"val_k_factor\": 2,\n",
    "    \"test_k_factor\": 2,\n",
    "    \"torch_default_dtype\": \"torch.float32\",\n",
    "    \"n_epoch\": 50,\n",
    "    \"patience\": 3,\n",
    "    \"criteria_for_best\": \"target_accuracy\",\n",
    "    \"x_net\": [\n",
    "        {\"class\": \"nnReshape\", \"kargs\": {\"shape\": [-1, 1, 2, 256]}},\n",
    "        {\n",
    "            \"class\": \"Conv2d\",\n",
    "            \"kargs\": {\n",
    "                \"in_channels\": 1,\n",
    "                \"out_channels\": 256,\n",
    "                \"kernel_size\": [1, 7],\n",
    "                \"bias\": False,\n",
    "                \"padding\": [0, 3],\n",
    "            },\n",
    "        },\n",
    "        {\"class\": \"ReLU\", \"kargs\": {\"inplace\": True}},\n",
    "        {\"class\": \"BatchNorm2d\", \"kargs\": {\"num_features\": 256}},\n",
    "        {\n",
    "            \"class\": \"Conv2d\",\n",
    "            \"kargs\": {\n",
    "                \"in_channels\": 256,\n",
    "                \"out_channels\": 80,\n",
    "                \"kernel_size\": [2, 7],\n",
    "                \"bias\": True,\n",
    "                \"padding\": [0, 3],\n",
    "            },\n",
    "        },\n",
    "        {\"class\": \"ReLU\", \"kargs\": {\"inplace\": True}},\n",
    "        {\"class\": \"BatchNorm2d\", \"kargs\": {\"num_features\": 80}},\n",
    "        {\"class\": \"Flatten\", \"kargs\": {}},\n",
    "        {\"class\": \"Linear\", \"kargs\": {\"in_features\": 20480, \"out_features\": 256}},\n",
    "        {\"class\": \"ReLU\", \"kargs\": {\"inplace\": True}},\n",
    "        {\"class\": \"BatchNorm1d\", \"kargs\": {\"num_features\": 256}},\n",
    "        {\"class\": \"Linear\", \"kargs\": {\"in_features\": 256, \"out_features\": 256}},\n",
    "    ],\n",
    "    \"NUM_LOGS_PER_EPOCH\": 10,\n",
    "    \"BEST_MODEL_PATH\": \"./best_model.pth\",\n",
    "    \"n_way\": 16,\n",
    "    \"datasets\": [\n",
    "        {\n",
    "            \"labels\": [\n",
    "                \"3123D52\",\n",
    "                \"3123D65\",\n",
    "                \"3123D79\",\n",
    "                \"3123D80\",\n",
    "                \"3123D54\",\n",
    "                \"3123D70\",\n",
    "                \"3123D7B\",\n",
    "                \"3123D89\",\n",
    "                \"3123D58\",\n",
    "                \"3123D76\",\n",
    "                \"3123D7D\",\n",
    "                \"3123EFE\",\n",
    "                \"3123D64\",\n",
    "                \"3123D78\",\n",
    "                \"3123D7E\",\n",
    "                \"3124E4A\",\n",
    "            ],\n",
    "            \"domains\": [32, 38, 8, 44, 14, 50, 20, 26],\n",
    "            \"num_examples_per_domain_per_label\": 2000,\n",
    "            \"pickle_path\": \"/root/csc500-main/datasets/oracle.Run1_framed_2000Examples_stratified_ds.2022A.pkl\",\n",
    "            \"source_or_target_dataset\": \"target\",\n",
    "            \"x_transforms\": [\"unit_mag\"],\n",
    "            \"episode_transforms\": [],\n",
    "            \"domain_prefix\": \"ORACLE.run1_\",\n",
    "        },\n",
    "        {\n",
    "            \"labels\": [\n",
    "                \"3123D52\",\n",
    "                \"3123D65\",\n",
    "                \"3123D79\",\n",
    "                \"3123D80\",\n",
    "                \"3123D54\",\n",
    "                \"3123D70\",\n",
    "                \"3123D7B\",\n",
    "                \"3123D89\",\n",
    "                \"3123D58\",\n",
    "                \"3123D76\",\n",
    "                \"3123D7D\",\n",
    "                \"3123EFE\",\n",
    "                \"3123D64\",\n",
    "                \"3123D78\",\n",
    "                \"3123D7E\",\n",
    "                \"3124E4A\",\n",
    "            ],\n",
    "            \"domains\": [32, 38, 8, 44, 14, 50, 20, 26],\n",
    "            \"num_examples_per_domain_per_label\": 2000,\n",
    "            \"pickle_path\": \"/root/csc500-main/datasets/oracle.Run2_framed_2000Examples_stratified_ds.2022A.pkl\",\n",
    "            \"source_or_target_dataset\": \"source\",\n",
    "            \"x_transforms\": [\"unit_mag\"],\n",
    "            \"episode_transforms\": [],\n",
    "            \"domain_prefix\": \"ORACLE.run2_\",\n",
    "        },\n",
    "    ],\n",
    "    \"dataset_seed\": 1337,\n",
    "    \"seed\": 1337,\n",
    "}\n"
   ]
  },
  {
   "cell_type": "code",
   "execution_count": 5,
   "id": "8fa1cc33",
   "metadata": {
    "execution": {
     "iopub.execute_input": "2022-03-21T07:20:17.772704Z",
     "iopub.status.busy": "2022-03-21T07:20:17.772174Z",
     "iopub.status.idle": "2022-03-21T07:20:17.793162Z",
     "shell.execute_reply": "2022-03-21T07:20:17.792338Z"
    },
    "papermill": {
     "duration": 0.057878,
     "end_time": "2022-03-21T07:20:17.793326",
     "exception": false,
     "start_time": "2022-03-21T07:20:17.735448",
     "status": "completed"
    },
    "tags": []
   },
   "outputs": [],
   "source": [
    "# Set this to True if you want to run this template directly\n",
    "STANDALONE = False\n",
    "if STANDALONE:\n",
    "    print(\"parameters not injected, running with standalone_parameters\")\n",
    "    parameters = standalone_parameters\n",
    "\n",
    "if not 'parameters' in locals() and not 'parameters' in globals():\n",
    "    raise Exception(\"Parameter injection failed\")\n",
    "\n",
    "#Use an easy dict for all the parameters\n",
    "p = EasyDict(parameters)\n",
    "\n",
    "if \"x_shape\" not in p:\n",
    "    p.x_shape = [2,256] # Default to this if we dont supply x_shape\n",
    "\n",
    "\n",
    "supplied_keys = set(p.keys())\n",
    "\n",
    "if  supplied_keys != required_parameters:\n",
    "    print(\"Parameters are incorrect\")\n",
    "    if len(supplied_keys - required_parameters)>0: print(\"Shouldn't have:\", str(supplied_keys - required_parameters))\n",
    "    if len(required_parameters - supplied_keys)>0: print(\"Need to have:\", str(required_parameters - supplied_keys))\n",
    "    raise RuntimeError(\"Parameters are incorrect\")"
   ]
  },
  {
   "cell_type": "code",
   "execution_count": 6,
   "id": "3a028d58",
   "metadata": {
    "execution": {
     "iopub.execute_input": "2022-03-21T07:20:17.840978Z",
     "iopub.status.busy": "2022-03-21T07:20:17.840147Z",
     "iopub.status.idle": "2022-03-21T07:20:17.863835Z",
     "shell.execute_reply": "2022-03-21T07:20:17.862993Z"
    },
    "papermill": {
     "duration": 0.046849,
     "end_time": "2022-03-21T07:20:17.863992",
     "exception": false,
     "start_time": "2022-03-21T07:20:17.817143",
     "status": "completed"
    },
    "tags": []
   },
   "outputs": [],
   "source": [
    "###################################\n",
    "# Set the RNGs and make it all deterministic\n",
    "###################################\n",
    "np.random.seed(p.seed)\n",
    "random.seed(p.seed)\n",
    "torch.manual_seed(p.seed)\n",
    "\n",
    "torch.use_deterministic_algorithms(True) "
   ]
  },
  {
   "cell_type": "code",
   "execution_count": 7,
   "id": "b691acf6",
   "metadata": {
    "execution": {
     "iopub.execute_input": "2022-03-21T07:20:17.913771Z",
     "iopub.status.busy": "2022-03-21T07:20:17.913408Z",
     "iopub.status.idle": "2022-03-21T07:20:17.935815Z",
     "shell.execute_reply": "2022-03-21T07:20:17.934965Z"
    },
    "papermill": {
     "duration": 0.045537,
     "end_time": "2022-03-21T07:20:17.935971",
     "exception": false,
     "start_time": "2022-03-21T07:20:17.890434",
     "status": "completed"
    },
    "tags": []
   },
   "outputs": [],
   "source": [
    "###########################################\n",
    "# The stratified datasets honor this\n",
    "###########################################\n",
    "torch.set_default_dtype(eval(p.torch_default_dtype))"
   ]
  },
  {
   "cell_type": "code",
   "execution_count": 8,
   "id": "b5fba671",
   "metadata": {
    "execution": {
     "iopub.execute_input": "2022-03-21T07:20:17.984744Z",
     "iopub.status.busy": "2022-03-21T07:20:17.984380Z",
     "iopub.status.idle": "2022-03-21T07:20:18.036253Z",
     "shell.execute_reply": "2022-03-21T07:20:18.035526Z"
    },
    "papermill": {
     "duration": 0.074014,
     "end_time": "2022-03-21T07:20:18.036406",
     "exception": false,
     "start_time": "2022-03-21T07:20:17.962392",
     "status": "completed"
    },
    "tags": []
   },
   "outputs": [],
   "source": [
    "###################################\n",
    "# Build the network(s)\n",
    "# Note: It's critical to do this AFTER setting the RNG\n",
    "###################################\n",
    "x_net = build_sequential(p.x_net)"
   ]
  },
  {
   "cell_type": "code",
   "execution_count": 9,
   "id": "5d7e61cc",
   "metadata": {
    "execution": {
     "iopub.execute_input": "2022-03-21T07:20:18.084865Z",
     "iopub.status.busy": "2022-03-21T07:20:18.083703Z",
     "iopub.status.idle": "2022-03-21T07:20:18.107580Z",
     "shell.execute_reply": "2022-03-21T07:20:18.106757Z"
    },
    "papermill": {
     "duration": 0.04692,
     "end_time": "2022-03-21T07:20:18.107735",
     "exception": false,
     "start_time": "2022-03-21T07:20:18.060815",
     "status": "completed"
    },
    "tags": []
   },
   "outputs": [],
   "source": [
    "start_time_secs = time.time()"
   ]
  },
  {
   "cell_type": "code",
   "execution_count": 10,
   "id": "c6b67dfd",
   "metadata": {
    "execution": {
     "iopub.execute_input": "2022-03-21T07:20:18.161985Z",
     "iopub.status.busy": "2022-03-21T07:20:18.161616Z",
     "iopub.status.idle": "2022-03-21T07:20:18.185639Z",
     "shell.execute_reply": "2022-03-21T07:20:18.184816Z"
    },
    "papermill": {
     "duration": 0.049,
     "end_time": "2022-03-21T07:20:18.185804",
     "exception": false,
     "start_time": "2022-03-21T07:20:18.136804",
     "status": "completed"
    },
    "tags": []
   },
   "outputs": [],
   "source": [
    "p.domains_source = []\n",
    "p.domains_target = []\n",
    "\n",
    "\n",
    "train_original_source = []\n",
    "val_original_source   = []\n",
    "test_original_source  = []\n",
    "\n",
    "train_original_target = []\n",
    "val_original_target   = []\n",
    "test_original_target  = []"
   ]
  },
  {
   "cell_type": "code",
   "execution_count": 11,
   "id": "e3d9c3d3",
   "metadata": {
    "execution": {
     "iopub.execute_input": "2022-03-21T07:20:18.236978Z",
     "iopub.status.busy": "2022-03-21T07:20:18.235445Z",
     "iopub.status.idle": "2022-03-21T07:20:18.257720Z",
     "shell.execute_reply": "2022-03-21T07:20:18.256901Z"
    },
    "papermill": {
     "duration": 0.045816,
     "end_time": "2022-03-21T07:20:18.257879",
     "exception": false,
     "start_time": "2022-03-21T07:20:18.212063",
     "status": "completed"
    },
    "tags": []
   },
   "outputs": [],
   "source": [
    "# global_x_transform_func = lambda x: normalize(x.to(torch.get_default_dtype()), \"unit_power\") # unit_power, unit_mag\n",
    "# global_x_transform_func = lambda x: normalize(x, \"unit_power\") # unit_power, unit_mag"
   ]
  },
  {
   "cell_type": "code",
   "execution_count": 12,
   "id": "acb78fd2",
   "metadata": {
    "execution": {
     "iopub.execute_input": "2022-03-21T07:20:18.313045Z",
     "iopub.status.busy": "2022-03-21T07:20:18.312663Z",
     "iopub.status.idle": "2022-03-21T07:20:18.333561Z",
     "shell.execute_reply": "2022-03-21T07:20:18.332751Z"
    },
    "papermill": {
     "duration": 0.047834,
     "end_time": "2022-03-21T07:20:18.333716",
     "exception": false,
     "start_time": "2022-03-21T07:20:18.285882",
     "status": "completed"
    },
    "tags": []
   },
   "outputs": [],
   "source": [
    "def add_dataset(\n",
    "    labels,\n",
    "    domains,\n",
    "    pickle_path,\n",
    "    x_transforms,\n",
    "    episode_transforms,\n",
    "    domain_prefix,\n",
    "    num_examples_per_domain_per_label,\n",
    "    source_or_target_dataset:str,\n",
    "    iterator_seed=p.seed,\n",
    "    dataset_seed=p.dataset_seed,\n",
    "    n_shot=p.n_shot,\n",
    "    n_way=p.n_way,\n",
    "    n_query=p.n_query,\n",
    "    train_val_test_k_factors=(p.train_k_factor,p.val_k_factor,p.test_k_factor),\n",
    "):\n",
    "   \n",
    "    if x_transforms == []: x_transform = None\n",
    "    else: x_transform = get_chained_transform(x_transforms)\n",
    "    \n",
    "    if episode_transforms == []: episode_transform = None\n",
    "    else: raise Exception(\"episode_transforms not implemented\")\n",
    "    \n",
    "    episode_transform = lambda tup, _prefix=domain_prefix: (_prefix + str(tup[0]), tup[1])\n",
    "\n",
    "\n",
    "    eaf = Episodic_Accessor_Factory(\n",
    "        labels=labels,\n",
    "        domains=domains,\n",
    "        num_examples_per_domain_per_label=num_examples_per_domain_per_label,\n",
    "        iterator_seed=iterator_seed,\n",
    "        dataset_seed=dataset_seed,\n",
    "        n_shot=n_shot,\n",
    "        n_way=n_way,\n",
    "        n_query=n_query,\n",
    "        train_val_test_k_factors=train_val_test_k_factors,\n",
    "        pickle_path=pickle_path,\n",
    "        x_transform_func=x_transform,\n",
    "    )\n",
    "\n",
    "    train, val, test = eaf.get_train(), eaf.get_val(), eaf.get_test()\n",
    "    train = Lazy_Iterable_Wrapper(train, episode_transform)\n",
    "    val = Lazy_Iterable_Wrapper(val, episode_transform)\n",
    "    test = Lazy_Iterable_Wrapper(test, episode_transform)\n",
    "\n",
    "    if source_or_target_dataset==\"source\":\n",
    "        train_original_source.append(train)\n",
    "        val_original_source.append(val)\n",
    "        test_original_source.append(test)\n",
    "\n",
    "        p.domains_source.extend(\n",
    "            [domain_prefix + str(u) for u in domains]\n",
    "        )\n",
    "    elif source_or_target_dataset==\"target\":\n",
    "        train_original_target.append(train)\n",
    "        val_original_target.append(val)\n",
    "        test_original_target.append(test)\n",
    "        p.domains_target.extend(\n",
    "            [domain_prefix + str(u) for u in domains]\n",
    "        )\n",
    "    else:\n",
    "        raise Exception(f\"invalid source_or_target_dataset: {source_or_target_dataset}\")\n",
    "    "
   ]
  },
  {
   "cell_type": "code",
   "execution_count": 13,
   "id": "fe266617",
   "metadata": {
    "execution": {
     "iopub.execute_input": "2022-03-21T07:20:18.385462Z",
     "iopub.status.busy": "2022-03-21T07:20:18.385095Z",
     "iopub.status.idle": "2022-03-21T07:21:01.122397Z",
     "shell.execute_reply": "2022-03-21T07:21:01.123059Z"
    },
    "papermill": {
     "duration": 42.761211,
     "end_time": "2022-03-21T07:21:01.123300",
     "exception": false,
     "start_time": "2022-03-21T07:20:18.362089",
     "status": "completed"
    },
    "tags": []
   },
   "outputs": [],
   "source": [
    "for ds in p.datasets:\n",
    "    add_dataset(**ds)"
   ]
  },
  {
   "cell_type": "code",
   "execution_count": 14,
   "id": "b90d65ac",
   "metadata": {
    "execution": {
     "iopub.execute_input": "2022-03-21T07:21:01.173884Z",
     "iopub.status.busy": "2022-03-21T07:21:01.173247Z",
     "iopub.status.idle": "2022-03-21T07:21:01.195345Z",
     "shell.execute_reply": "2022-03-21T07:21:01.194563Z"
    },
    "papermill": {
     "duration": 0.045874,
     "end_time": "2022-03-21T07:21:01.195510",
     "exception": false,
     "start_time": "2022-03-21T07:21:01.149636",
     "status": "completed"
    },
    "tags": []
   },
   "outputs": [],
   "source": [
    "# from steves_utils.CORES.utils import (\n",
    "#     ALL_NODES,\n",
    "#     ALL_NODES_MINIMUM_1000_EXAMPLES,\n",
    "#     ALL_DAYS\n",
    "# )\n",
    "\n",
    "# add_dataset(\n",
    "#     labels=ALL_NODES,\n",
    "#     domains = ALL_DAYS,\n",
    "#     num_examples_per_domain_per_label=100,\n",
    "#     pickle_path=os.path.join(get_datasets_base_path(), \"cores.stratified_ds.2022A.pkl\"),\n",
    "#     source_or_target_dataset=\"target\",\n",
    "#     x_transform_func=global_x_transform_func,\n",
    "#     domain_modifier=lambda u: f\"cores_{u}\"\n",
    "# )"
   ]
  },
  {
   "cell_type": "code",
   "execution_count": 15,
   "id": "76db484d",
   "metadata": {
    "execution": {
     "iopub.execute_input": "2022-03-21T07:21:01.249232Z",
     "iopub.status.busy": "2022-03-21T07:21:01.248664Z",
     "iopub.status.idle": "2022-03-21T07:21:01.269524Z",
     "shell.execute_reply": "2022-03-21T07:21:01.270179Z"
    },
    "papermill": {
     "duration": 0.04533,
     "end_time": "2022-03-21T07:21:01.270381",
     "exception": false,
     "start_time": "2022-03-21T07:21:01.225051",
     "status": "completed"
    },
    "tags": []
   },
   "outputs": [],
   "source": [
    "# from steves_utils.ORACLE.utils_v2 import (\n",
    "#     ALL_DISTANCES_FEET,\n",
    "#     ALL_RUNS,\n",
    "#     ALL_SERIAL_NUMBERS,\n",
    "# )\n",
    "\n",
    "\n",
    "# add_dataset(\n",
    "#     labels=ALL_SERIAL_NUMBERS,\n",
    "#     domains = list(set(ALL_DISTANCES_FEET) - {2,62}),\n",
    "#     num_examples_per_domain_per_label=100,\n",
    "#     pickle_path=os.path.join(get_datasets_base_path(), \"oracle.Run2_framed_2000Examples_stratified_ds.2022A.pkl\"),\n",
    "#     source_or_target_dataset=\"source\",\n",
    "#     x_transform_func=global_x_transform_func,\n",
    "#     domain_modifier=lambda u: f\"oracle1_{u}\"\n",
    "# )\n"
   ]
  },
  {
   "cell_type": "code",
   "execution_count": 16,
   "id": "97dea9d2",
   "metadata": {
    "execution": {
     "iopub.execute_input": "2022-03-21T07:21:01.324642Z",
     "iopub.status.busy": "2022-03-21T07:21:01.324001Z",
     "iopub.status.idle": "2022-03-21T07:21:01.340713Z",
     "shell.execute_reply": "2022-03-21T07:21:01.340003Z"
    },
    "papermill": {
     "duration": 0.044199,
     "end_time": "2022-03-21T07:21:01.340877",
     "exception": false,
     "start_time": "2022-03-21T07:21:01.296678",
     "status": "completed"
    },
    "tags": []
   },
   "outputs": [],
   "source": [
    "# from steves_utils.ORACLE.utils_v2 import (\n",
    "#     ALL_DISTANCES_FEET,\n",
    "#     ALL_RUNS,\n",
    "#     ALL_SERIAL_NUMBERS,\n",
    "# )\n",
    "\n",
    "\n",
    "# add_dataset(\n",
    "#     labels=ALL_SERIAL_NUMBERS,\n",
    "#     domains = list(set(ALL_DISTANCES_FEET) - {2,62,56}),\n",
    "#     num_examples_per_domain_per_label=100,\n",
    "#     pickle_path=os.path.join(get_datasets_base_path(), \"oracle.Run2_framed_2000Examples_stratified_ds.2022A.pkl\"),\n",
    "#     source_or_target_dataset=\"source\",\n",
    "#     x_transform_func=global_x_transform_func,\n",
    "#     domain_modifier=lambda u: f\"oracle2_{u}\"\n",
    "# )"
   ]
  },
  {
   "cell_type": "code",
   "execution_count": 17,
   "id": "6f289866",
   "metadata": {
    "execution": {
     "iopub.execute_input": "2022-03-21T07:21:01.401278Z",
     "iopub.status.busy": "2022-03-21T07:21:01.393625Z",
     "iopub.status.idle": "2022-03-21T07:21:01.414062Z",
     "shell.execute_reply": "2022-03-21T07:21:01.413257Z"
    },
    "papermill": {
     "duration": 0.04357,
     "end_time": "2022-03-21T07:21:01.414223",
     "exception": false,
     "start_time": "2022-03-21T07:21:01.370653",
     "status": "completed"
    },
    "tags": []
   },
   "outputs": [],
   "source": [
    "# add_dataset(\n",
    "#     labels=list(range(19)),\n",
    "#     domains = [0,1,2],\n",
    "#     num_examples_per_domain_per_label=100,\n",
    "#     pickle_path=os.path.join(get_datasets_base_path(), \"metehan.stratified_ds.2022A.pkl\"),\n",
    "#     source_or_target_dataset=\"target\",\n",
    "#     x_transform_func=global_x_transform_func,\n",
    "#     domain_modifier=lambda u: f\"met_{u}\"\n",
    "# )"
   ]
  },
  {
   "cell_type": "code",
   "execution_count": 18,
   "id": "86a863c3",
   "metadata": {
    "execution": {
     "iopub.execute_input": "2022-03-21T07:21:01.464987Z",
     "iopub.status.busy": "2022-03-21T07:21:01.464429Z",
     "iopub.status.idle": "2022-03-21T07:21:01.485992Z",
     "shell.execute_reply": "2022-03-21T07:21:01.485283Z"
    },
    "papermill": {
     "duration": 0.045527,
     "end_time": "2022-03-21T07:21:01.486155",
     "exception": false,
     "start_time": "2022-03-21T07:21:01.440628",
     "status": "completed"
    },
    "tags": []
   },
   "outputs": [],
   "source": [
    "# # from steves_utils.wisig.utils import (\n",
    "# #     ALL_NODES_MINIMUM_100_EXAMPLES,\n",
    "# #     ALL_NODES_MINIMUM_500_EXAMPLES,\n",
    "# #     ALL_NODES_MINIMUM_1000_EXAMPLES,\n",
    "# #     ALL_DAYS\n",
    "# # )\n",
    "\n",
    "# import steves_utils.wisig.utils as wisig\n",
    "\n",
    "\n",
    "# add_dataset(\n",
    "#     labels=wisig.ALL_NODES_MINIMUM_100_EXAMPLES,\n",
    "#     domains = wisig.ALL_DAYS,\n",
    "#     num_examples_per_domain_per_label=100,\n",
    "#     pickle_path=os.path.join(get_datasets_base_path(), \"wisig.node3-19.stratified_ds.2022A.pkl\"),\n",
    "#     source_or_target_dataset=\"target\",\n",
    "#     x_transform_func=global_x_transform_func,\n",
    "#     domain_modifier=lambda u: f\"wisig_{u}\"\n",
    "# )"
   ]
  },
  {
   "cell_type": "code",
   "execution_count": 19,
   "id": "fd5442bc",
   "metadata": {
    "execution": {
     "iopub.execute_input": "2022-03-21T07:21:01.543980Z",
     "iopub.status.busy": "2022-03-21T07:21:01.543305Z",
     "iopub.status.idle": "2022-03-21T07:21:01.561165Z",
     "shell.execute_reply": "2022-03-21T07:21:01.560361Z"
    },
    "papermill": {
     "duration": 0.048699,
     "end_time": "2022-03-21T07:21:01.561332",
     "exception": false,
     "start_time": "2022-03-21T07:21:01.512633",
     "status": "completed"
    },
    "tags": []
   },
   "outputs": [],
   "source": [
    "###################################\n",
    "# Build the dataset\n",
    "###################################\n",
    "train_original_source = Iterable_Aggregator(train_original_source, p.seed)\n",
    "val_original_source = Iterable_Aggregator(val_original_source, p.seed)\n",
    "test_original_source = Iterable_Aggregator(test_original_source, p.seed)\n",
    "\n",
    "\n",
    "train_original_target = Iterable_Aggregator(train_original_target, p.seed)\n",
    "val_original_target = Iterable_Aggregator(val_original_target, p.seed)\n",
    "test_original_target = Iterable_Aggregator(test_original_target, p.seed)\n",
    "\n",
    "# For CNN We only use X and Y. And we only train on the source.\n",
    "# Properly form the data using a transform lambda and Lazy_Iterable_Wrapper. Finally wrap them in a dataloader\n",
    "\n",
    "transform_lambda = lambda ex: ex[1] # Original is (<domain>, <episode>) so we strip down to episode only\n",
    "\n",
    "train_processed_source = Lazy_Iterable_Wrapper(train_original_source, transform_lambda)\n",
    "val_processed_source   = Lazy_Iterable_Wrapper(val_original_source, transform_lambda)\n",
    "test_processed_source  = Lazy_Iterable_Wrapper(test_original_source, transform_lambda)\n",
    "\n",
    "train_processed_target = Lazy_Iterable_Wrapper(train_original_target, transform_lambda)\n",
    "val_processed_target   = Lazy_Iterable_Wrapper(val_original_target, transform_lambda)\n",
    "test_processed_target  = Lazy_Iterable_Wrapper(test_original_target, transform_lambda)\n",
    "\n",
    "datasets = EasyDict({\n",
    "    \"source\": {\n",
    "        \"original\": {\"train\":train_original_source, \"val\":val_original_source, \"test\":test_original_source},\n",
    "        \"processed\": {\"train\":train_processed_source, \"val\":val_processed_source, \"test\":test_processed_source}\n",
    "    },\n",
    "    \"target\": {\n",
    "        \"original\": {\"train\":train_original_target, \"val\":val_original_target, \"test\":test_original_target},\n",
    "        \"processed\": {\"train\":train_processed_target, \"val\":val_processed_target, \"test\":test_processed_target}\n",
    "    },\n",
    "})"
   ]
  },
  {
   "cell_type": "code",
   "execution_count": 20,
   "id": "5b3c01fc",
   "metadata": {
    "execution": {
     "iopub.execute_input": "2022-03-21T07:21:01.614959Z",
     "iopub.status.busy": "2022-03-21T07:21:01.614578Z",
     "iopub.status.idle": "2022-03-21T07:21:16.512217Z",
     "shell.execute_reply": "2022-03-21T07:21:16.511355Z"
    },
    "papermill": {
     "duration": 14.923083,
     "end_time": "2022-03-21T07:21:16.512386",
     "exception": false,
     "start_time": "2022-03-21T07:21:01.589303",
     "status": "completed"
    },
    "tags": []
   },
   "outputs": [
    {
     "name": "stdout",
     "output_type": "stream",
     "text": [
      "{'ORACLE.run2_20', 'ORACLE.run2_32', 'ORACLE.run2_26', 'ORACLE.run2_14', 'ORACLE.run2_44', 'ORACLE.run2_8', 'ORACLE.run2_50', 'ORACLE.run2_38'}\n"
     ]
    },
    {
     "name": "stdout",
     "output_type": "stream",
     "text": [
      "{'ORACLE.run1_8', 'ORACLE.run1_50', 'ORACLE.run1_32', 'ORACLE.run1_38', 'ORACLE.run1_44', 'ORACLE.run1_14', 'ORACLE.run1_26', 'ORACLE.run1_20'}\n"
     ]
    },
    {
     "name": "stdout",
     "output_type": "stream",
     "text": [
      "tensor([[[ 0.9296,  0.0939, -1.0517,  ...,  0.2911,  1.4179,  0.1502],\n",
      "         [ 0.3944,  1.1831, -0.4789,  ..., -0.9578, -0.0751, -1.0610]],\n",
      "\n",
      "        [[ 0.9965,  0.3760, -1.1469,  ..., -0.2538,  1.2410, -0.3666],\n",
      "         [ 0.0564,  1.0153, -0.1034,  ..., -1.2316, -0.6769, -1.0247]],\n",
      "\n",
      "        [[ 0.2116,  1.1347, -0.5866,  ..., -1.2694,  0.7597,  0.2308],\n",
      "         [-0.5770,  0.4135,  0.7309,  ..., -0.5385, -1.1155, -0.9328]],\n",
      "\n",
      "        ...,\n",
      "\n",
      "        [[ 0.0523, -1.2806,  0.2417,  ...,  1.2283, -0.3332,  0.0849],\n",
      "         [ 0.6729, -0.0719, -0.8167,  ...,  0.0000,  1.3132,  1.0258]],\n",
      "\n",
      "        [[ 0.7392, -0.5706, -0.9337,  ...,  1.1152,  0.9207, -0.3825],\n",
      "         [ 0.9596,  0.4409, -1.0115,  ..., -0.5511, -0.3890, -1.2903]],\n",
      "\n",
      "        [[ 0.3781, -0.7040, -0.4367,  ...,  1.1081,  1.1473,  0.7301],\n",
      "         [ 1.0821,  0.5150, -1.2907,  ..., -0.3259,  0.7040, -1.0821]]])\n"
     ]
    }
   ],
   "source": [
    "from steves_utils.transforms import get_average_magnitude, get_average_power\n",
    "\n",
    "print(set([u for u,_ in val_original_source]))\n",
    "print(set([u for u,_ in val_original_target]))\n",
    "\n",
    "s_x, s_y, q_x, q_y, _ = next(iter(train_processed_source))\n",
    "print(s_x)\n",
    "\n",
    "# for ds in [\n",
    "#     train_processed_source,\n",
    "#     val_processed_source,\n",
    "#     test_processed_source,\n",
    "#     train_processed_target,\n",
    "#     val_processed_target,\n",
    "#     test_processed_target\n",
    "# ]:\n",
    "#     for s_x, s_y, q_x, q_y, _ in ds:\n",
    "#         for X in (s_x, q_x):\n",
    "#             for x in X:\n",
    "#                 assert np.isclose(get_average_magnitude(x.numpy()), 1.0)\n",
    "#                 assert np.isclose(get_average_power(x.numpy()), 1.0)\n",
    "                "
   ]
  },
  {
   "cell_type": "code",
   "execution_count": 21,
   "id": "bbdacba1",
   "metadata": {
    "execution": {
     "iopub.execute_input": "2022-03-21T07:21:16.567585Z",
     "iopub.status.busy": "2022-03-21T07:21:16.567193Z",
     "iopub.status.idle": "2022-03-21T07:21:16.766233Z",
     "shell.execute_reply": "2022-03-21T07:21:16.765504Z"
    },
    "papermill": {
     "duration": 0.227573,
     "end_time": "2022-03-21T07:21:16.766411",
     "exception": false,
     "start_time": "2022-03-21T07:21:16.538838",
     "status": "completed"
    },
    "tags": []
   },
   "outputs": [
    {
     "name": "stdout",
     "output_type": "stream",
     "text": [
      "(2, 256)\n"
     ]
    }
   ],
   "source": [
    "###################################\n",
    "# Build the model\n",
    "###################################\n",
    "# easfsl only wants a tuple for the shape\n",
    "model = Steves_Prototypical_Network(x_net, device=p.device, x_shape=tuple(p.x_shape))\n",
    "optimizer = Adam(params=model.parameters(), lr=p.lr)"
   ]
  },
  {
   "cell_type": "code",
   "execution_count": 22,
   "id": "22b39ac5",
   "metadata": {
    "execution": {
     "iopub.execute_input": "2022-03-21T07:21:16.822198Z",
     "iopub.status.busy": "2022-03-21T07:21:16.821831Z",
     "iopub.status.idle": "2022-03-21T08:37:50.911129Z",
     "shell.execute_reply": "2022-03-21T08:37:50.910778Z"
    },
    "papermill": {
     "duration": 4594.11685,
     "end_time": "2022-03-21T08:37:50.911216",
     "exception": false,
     "start_time": "2022-03-21T07:21:16.794366",
     "status": "completed"
    },
    "tags": []
   },
   "outputs": [
    {
     "name": "stdout",
     "output_type": "stream",
     "text": [
      "epoch: 1, [batch: 1 / 6720], examples_per_second: 32.8377, train_label_loss: 2.7303, \n"
     ]
    },
    {
     "name": "stdout",
     "output_type": "stream",
     "text": [
      "epoch: 1, [batch: 672 / 6720], examples_per_second: 2972.6581, train_label_loss: 0.7059, \n"
     ]
    },
    {
     "name": "stdout",
     "output_type": "stream",
     "text": [
      "epoch: 1, [batch: 1344 / 6720], examples_per_second: 3004.2387, train_label_loss: 0.5059, \n"
     ]
    },
    {
     "name": "stdout",
     "output_type": "stream",
     "text": [
      "epoch: 1, [batch: 2016 / 6720], examples_per_second: 2924.4518, train_label_loss: 0.5016, \n"
     ]
    },
    {
     "name": "stdout",
     "output_type": "stream",
     "text": [
      "epoch: 1, [batch: 2688 / 6720], examples_per_second: 2869.6885, train_label_loss: 0.8305, \n"
     ]
    },
    {
     "name": "stdout",
     "output_type": "stream",
     "text": [
      "epoch: 1, [batch: 3360 / 6720], examples_per_second: 2299.6485, train_label_loss: 0.8049, \n"
     ]
    },
    {
     "name": "stdout",
     "output_type": "stream",
     "text": [
      "epoch: 1, [batch: 4032 / 6720], examples_per_second: 2298.9101, train_label_loss: 0.4389, \n"
     ]
    },
    {
     "name": "stdout",
     "output_type": "stream",
     "text": [
      "epoch: 1, [batch: 4704 / 6720], examples_per_second: 2281.2346, train_label_loss: 0.3914, \n"
     ]
    },
    {
     "name": "stdout",
     "output_type": "stream",
     "text": [
      "epoch: 1, [batch: 5376 / 6720], examples_per_second: 2300.7623, train_label_loss: 0.3085, \n"
     ]
    },
    {
     "name": "stdout",
     "output_type": "stream",
     "text": [
      "epoch: 1, [batch: 6048 / 6720], examples_per_second: 2277.0666, train_label_loss: 0.6171, \n"
     ]
    },
    {
     "name": "stdout",
     "output_type": "stream",
     "text": [
      "=============================================================\n",
      "epoch: 1, source_val_acc_label: 0.6420, target_val_acc_label: 0.6381, source_val_label_loss: 64.1830, target_val_label_loss: 71.8609, \n",
      "=============================================================\n"
     ]
    },
    {
     "name": "stdout",
     "output_type": "stream",
     "text": [
      "New best\n"
     ]
    },
    {
     "name": "stdout",
     "output_type": "stream",
     "text": [
      "epoch: 2, [batch: 1 / 6720], examples_per_second: 2.1912, train_label_loss: 240.9635, \n"
     ]
    },
    {
     "name": "stdout",
     "output_type": "stream",
     "text": [
      "epoch: 2, [batch: 672 / 6720], examples_per_second: 2324.4688, train_label_loss: 0.4996, \n"
     ]
    },
    {
     "name": "stdout",
     "output_type": "stream",
     "text": [
      "epoch: 2, [batch: 1344 / 6720], examples_per_second: 2584.5772, train_label_loss: 0.4402, \n"
     ]
    },
    {
     "name": "stdout",
     "output_type": "stream",
     "text": [
      "epoch: 2, [batch: 2016 / 6720], examples_per_second: 2638.9696, train_label_loss: 0.4520, \n"
     ]
    },
    {
     "name": "stdout",
     "output_type": "stream",
     "text": [
      "epoch: 2, [batch: 2688 / 6720], examples_per_second: 2693.7546, train_label_loss: 0.5293, \n"
     ]
    },
    {
     "name": "stdout",
     "output_type": "stream",
     "text": [
      "epoch: 2, [batch: 3360 / 6720], examples_per_second: 2333.0778, train_label_loss: 0.7630, \n"
     ]
    },
    {
     "name": "stdout",
     "output_type": "stream",
     "text": [
      "epoch: 2, [batch: 4032 / 6720], examples_per_second: 2330.7591, train_label_loss: 0.8401, \n"
     ]
    },
    {
     "name": "stdout",
     "output_type": "stream",
     "text": [
      "epoch: 2, [batch: 4704 / 6720], examples_per_second: 2302.1446, train_label_loss: 0.5479, \n"
     ]
    },
    {
     "name": "stdout",
     "output_type": "stream",
     "text": [
      "epoch: 2, [batch: 5376 / 6720], examples_per_second: 2326.9575, train_label_loss: 1.3325, \n"
     ]
    },
    {
     "name": "stdout",
     "output_type": "stream",
     "text": [
      "epoch: 2, [batch: 6048 / 6720], examples_per_second: 2309.3667, train_label_loss: 0.4892, \n"
     ]
    },
    {
     "name": "stdout",
     "output_type": "stream",
     "text": [
      "=============================================================\n",
      "epoch: 2, source_val_acc_label: 0.8229, target_val_acc_label: 0.8212, source_val_label_loss: 0.5068, target_val_label_loss: 0.4983, \n",
      "=============================================================\n"
     ]
    },
    {
     "name": "stdout",
     "output_type": "stream",
     "text": [
      "New best\n"
     ]
    },
    {
     "name": "stdout",
     "output_type": "stream",
     "text": [
      "epoch: 3, [batch: 1 / 6720], examples_per_second: 2.1946, train_label_loss: 0.6081, \n"
     ]
    },
    {
     "name": "stdout",
     "output_type": "stream",
     "text": [
      "epoch: 3, [batch: 672 / 6720], examples_per_second: 2611.2621, train_label_loss: 0.3485, \n"
     ]
    },
    {
     "name": "stdout",
     "output_type": "stream",
     "text": [
      "epoch: 3, [batch: 1344 / 6720], examples_per_second: 2847.1079, train_label_loss: 0.1946, \n"
     ]
    },
    {
     "name": "stdout",
     "output_type": "stream",
     "text": [
      "epoch: 3, [batch: 2016 / 6720], examples_per_second: 2957.5150, train_label_loss: 0.4492, \n"
     ]
    },
    {
     "name": "stdout",
     "output_type": "stream",
     "text": [
      "epoch: 3, [batch: 2688 / 6720], examples_per_second: 2955.0145, train_label_loss: 0.3531, \n"
     ]
    },
    {
     "name": "stdout",
     "output_type": "stream",
     "text": [
      "epoch: 3, [batch: 3360 / 6720], examples_per_second: 2603.4969, train_label_loss: 0.7799, \n"
     ]
    },
    {
     "name": "stdout",
     "output_type": "stream",
     "text": [
      "epoch: 3, [batch: 4032 / 6720], examples_per_second: 2603.7824, train_label_loss: 0.7735, \n"
     ]
    },
    {
     "name": "stdout",
     "output_type": "stream",
     "text": [
      "epoch: 3, [batch: 4704 / 6720], examples_per_second: 2613.9434, train_label_loss: 0.2470, \n"
     ]
    },
    {
     "name": "stdout",
     "output_type": "stream",
     "text": [
      "epoch: 3, [batch: 5376 / 6720], examples_per_second: 2600.3544, train_label_loss: 0.3104, \n"
     ]
    },
    {
     "name": "stdout",
     "output_type": "stream",
     "text": [
      "epoch: 3, [batch: 6048 / 6720], examples_per_second: 2600.0991, train_label_loss: 0.1933, \n"
     ]
    },
    {
     "name": "stdout",
     "output_type": "stream",
     "text": [
      "=============================================================\n",
      "epoch: 3, source_val_acc_label: 0.8444, target_val_acc_label: 0.8418, source_val_label_loss: 0.4357, target_val_label_loss: 0.4399, \n",
      "=============================================================\n"
     ]
    },
    {
     "name": "stdout",
     "output_type": "stream",
     "text": [
      "New best\n"
     ]
    },
    {
     "name": "stdout",
     "output_type": "stream",
     "text": [
      "epoch: 4, [batch: 1 / 6720], examples_per_second: 2.7620, train_label_loss: 0.1185, \n"
     ]
    },
    {
     "name": "stdout",
     "output_type": "stream",
     "text": [
      "epoch: 4, [batch: 672 / 6720], examples_per_second: 2969.5990, train_label_loss: 0.1691, \n"
     ]
    },
    {
     "name": "stdout",
     "output_type": "stream",
     "text": [
      "epoch: 4, [batch: 1344 / 6720], examples_per_second: 3351.7106, train_label_loss: 0.8475, \n"
     ]
    },
    {
     "name": "stdout",
     "output_type": "stream",
     "text": [
      "epoch: 4, [batch: 2016 / 6720], examples_per_second: 3381.7998, train_label_loss: 0.5792, \n"
     ]
    },
    {
     "name": "stdout",
     "output_type": "stream",
     "text": [
      "epoch: 4, [batch: 2688 / 6720], examples_per_second: 3476.7676, train_label_loss: 0.1927, \n"
     ]
    },
    {
     "name": "stdout",
     "output_type": "stream",
     "text": [
      "epoch: 4, [batch: 3360 / 6720], examples_per_second: 3060.3016, train_label_loss: 0.1094, \n"
     ]
    },
    {
     "name": "stdout",
     "output_type": "stream",
     "text": [
      "epoch: 4, [batch: 4032 / 6720], examples_per_second: 2962.0287, train_label_loss: 0.6094, \n"
     ]
    },
    {
     "name": "stdout",
     "output_type": "stream",
     "text": [
      "epoch: 4, [batch: 4704 / 6720], examples_per_second: 2494.5260, train_label_loss: 0.3351, \n"
     ]
    },
    {
     "name": "stdout",
     "output_type": "stream",
     "text": [
      "epoch: 4, [batch: 5376 / 6720], examples_per_second: 2302.4717, train_label_loss: 0.3894, \n"
     ]
    },
    {
     "name": "stdout",
     "output_type": "stream",
     "text": [
      "epoch: 4, [batch: 6048 / 6720], examples_per_second: 2289.5790, train_label_loss: 0.4565, \n"
     ]
    },
    {
     "name": "stdout",
     "output_type": "stream",
     "text": [
      "=============================================================\n",
      "epoch: 4, source_val_acc_label: 0.8329, target_val_acc_label: 0.8233, source_val_label_loss: 0.4561, target_val_label_loss: 0.4865, \n",
      "=============================================================\n"
     ]
    },
    {
     "name": "stdout",
     "output_type": "stream",
     "text": [
      "epoch: 5, [batch: 1 / 6720], examples_per_second: 2.1907, train_label_loss: 0.2784, \n"
     ]
    },
    {
     "name": "stdout",
     "output_type": "stream",
     "text": [
      "epoch: 5, [batch: 672 / 6720], examples_per_second: 2598.5616, train_label_loss: 0.1050, \n"
     ]
    },
    {
     "name": "stdout",
     "output_type": "stream",
     "text": [
      "epoch: 5, [batch: 1344 / 6720], examples_per_second: 2898.2233, train_label_loss: 0.4434, \n"
     ]
    },
    {
     "name": "stdout",
     "output_type": "stream",
     "text": [
      "epoch: 5, [batch: 2016 / 6720], examples_per_second: 2980.6225, train_label_loss: 0.4316, \n"
     ]
    },
    {
     "name": "stdout",
     "output_type": "stream",
     "text": [
      "epoch: 5, [batch: 2688 / 6720], examples_per_second: 3045.5071, train_label_loss: 0.3022, \n"
     ]
    },
    {
     "name": "stdout",
     "output_type": "stream",
     "text": [
      "epoch: 5, [batch: 3360 / 6720], examples_per_second: 3189.2242, train_label_loss: 0.1983, \n"
     ]
    },
    {
     "name": "stdout",
     "output_type": "stream",
     "text": [
      "epoch: 5, [batch: 4032 / 6720], examples_per_second: 3327.5930, train_label_loss: 0.4143, \n"
     ]
    },
    {
     "name": "stdout",
     "output_type": "stream",
     "text": [
      "epoch: 5, [batch: 4704 / 6720], examples_per_second: 2543.2852, train_label_loss: 0.1006, \n"
     ]
    },
    {
     "name": "stdout",
     "output_type": "stream",
     "text": [
      "epoch: 5, [batch: 5376 / 6720], examples_per_second: 2314.8087, train_label_loss: 0.6862, \n"
     ]
    },
    {
     "name": "stdout",
     "output_type": "stream",
     "text": [
      "epoch: 5, [batch: 6048 / 6720], examples_per_second: 2315.7843, train_label_loss: 0.3496, \n"
     ]
    },
    {
     "name": "stdout",
     "output_type": "stream",
     "text": [
      "=============================================================\n",
      "epoch: 5, source_val_acc_label: 0.8714, target_val_acc_label: 0.8596, source_val_label_loss: 0.3567, target_val_label_loss: 0.3890, \n",
      "=============================================================\n"
     ]
    },
    {
     "name": "stdout",
     "output_type": "stream",
     "text": [
      "New best\n"
     ]
    },
    {
     "name": "stdout",
     "output_type": "stream",
     "text": [
      "epoch: 6, [batch: 1 / 6720], examples_per_second: 2.0240, train_label_loss: 0.2578, \n"
     ]
    },
    {
     "name": "stdout",
     "output_type": "stream",
     "text": [
      "epoch: 6, [batch: 672 / 6720], examples_per_second: 2320.3578, train_label_loss: 0.5377, \n"
     ]
    },
    {
     "name": "stdout",
     "output_type": "stream",
     "text": [
      "epoch: 6, [batch: 1344 / 6720], examples_per_second: 2600.5940, train_label_loss: 0.3076, \n"
     ]
    },
    {
     "name": "stdout",
     "output_type": "stream",
     "text": [
      "epoch: 6, [batch: 2016 / 6720], examples_per_second: 2592.9565, train_label_loss: 0.2469, \n"
     ]
    },
    {
     "name": "stdout",
     "output_type": "stream",
     "text": [
      "epoch: 6, [batch: 2688 / 6720], examples_per_second: 2621.3839, train_label_loss: 0.5629, \n"
     ]
    },
    {
     "name": "stdout",
     "output_type": "stream",
     "text": [
      "epoch: 6, [batch: 3360 / 6720], examples_per_second: 2917.9402, train_label_loss: 0.3849, \n"
     ]
    },
    {
     "name": "stdout",
     "output_type": "stream",
     "text": [
      "epoch: 6, [batch: 4032 / 6720], examples_per_second: 2922.5283, train_label_loss: 0.3651, \n"
     ]
    },
    {
     "name": "stdout",
     "output_type": "stream",
     "text": [
      "epoch: 6, [batch: 4704 / 6720], examples_per_second: 2909.8330, train_label_loss: 0.1986, \n"
     ]
    },
    {
     "name": "stdout",
     "output_type": "stream",
     "text": [
      "epoch: 6, [batch: 5376 / 6720], examples_per_second: 2616.4915, train_label_loss: 0.0946, \n"
     ]
    },
    {
     "name": "stdout",
     "output_type": "stream",
     "text": [
      "epoch: 6, [batch: 6048 / 6720], examples_per_second: 2636.2521, train_label_loss: 0.1074, \n"
     ]
    },
    {
     "name": "stdout",
     "output_type": "stream",
     "text": [
      "=============================================================\n",
      "epoch: 6, source_val_acc_label: 0.8771, target_val_acc_label: 0.8659, source_val_label_loss: 0.3443, target_val_label_loss: 0.3821, \n",
      "=============================================================\n"
     ]
    },
    {
     "name": "stdout",
     "output_type": "stream",
     "text": [
      "New best\n"
     ]
    },
    {
     "name": "stdout",
     "output_type": "stream",
     "text": [
      "epoch: 7, [batch: 1 / 6720], examples_per_second: 2.2946, train_label_loss: 0.2374, \n"
     ]
    },
    {
     "name": "stdout",
     "output_type": "stream",
     "text": [
      "epoch: 7, [batch: 672 / 6720], examples_per_second: 2961.4243, train_label_loss: 0.4927, \n"
     ]
    },
    {
     "name": "stdout",
     "output_type": "stream",
     "text": [
      "epoch: 7, [batch: 1344 / 6720], examples_per_second: 2981.6392, train_label_loss: 0.1794, \n"
     ]
    },
    {
     "name": "stdout",
     "output_type": "stream",
     "text": [
      "epoch: 7, [batch: 2016 / 6720], examples_per_second: 3005.1339, train_label_loss: 0.1310, \n"
     ]
    },
    {
     "name": "stdout",
     "output_type": "stream",
     "text": [
      "epoch: 7, [batch: 2688 / 6720], examples_per_second: 2977.6192, train_label_loss: 0.3099, \n"
     ]
    },
    {
     "name": "stdout",
     "output_type": "stream",
     "text": [
      "epoch: 7, [batch: 3360 / 6720], examples_per_second: 3255.1915, train_label_loss: 0.3472, \n"
     ]
    },
    {
     "name": "stdout",
     "output_type": "stream",
     "text": [
      "epoch: 7, [batch: 4032 / 6720], examples_per_second: 3396.6525, train_label_loss: 0.1629, \n"
     ]
    },
    {
     "name": "stdout",
     "output_type": "stream",
     "text": [
      "epoch: 7, [batch: 4704 / 6720], examples_per_second: 3467.0178, train_label_loss: 0.3134, \n"
     ]
    },
    {
     "name": "stdout",
     "output_type": "stream",
     "text": [
      "epoch: 7, [batch: 5376 / 6720], examples_per_second: 2929.9311, train_label_loss: 0.0850, \n"
     ]
    },
    {
     "name": "stdout",
     "output_type": "stream",
     "text": [
      "epoch: 7, [batch: 6048 / 6720], examples_per_second: 2825.9801, train_label_loss: 0.1401, \n"
     ]
    },
    {
     "name": "stdout",
     "output_type": "stream",
     "text": [
      "=============================================================\n",
      "epoch: 7, source_val_acc_label: 0.8774, target_val_acc_label: 0.8663, source_val_label_loss: 0.3430, target_val_label_loss: 0.3858, \n",
      "=============================================================\n"
     ]
    },
    {
     "name": "stdout",
     "output_type": "stream",
     "text": [
      "New best\n"
     ]
    },
    {
     "name": "stdout",
     "output_type": "stream",
     "text": [
      "epoch: 8, [batch: 1 / 6720], examples_per_second: 2.0042, train_label_loss: 0.4939, \n"
     ]
    },
    {
     "name": "stdout",
     "output_type": "stream",
     "text": [
      "epoch: 8, [batch: 672 / 6720], examples_per_second: 2308.3651, train_label_loss: 0.4668, \n"
     ]
    },
    {
     "name": "stdout",
     "output_type": "stream",
     "text": [
      "epoch: 8, [batch: 1344 / 6720], examples_per_second: 2330.0582, train_label_loss: 0.8947, \n"
     ]
    },
    {
     "name": "stdout",
     "output_type": "stream",
     "text": [
      "epoch: 8, [batch: 2016 / 6720], examples_per_second: 2315.9677, train_label_loss: 0.3678, \n"
     ]
    },
    {
     "name": "stdout",
     "output_type": "stream",
     "text": [
      "epoch: 8, [batch: 2688 / 6720], examples_per_second: 2296.2267, train_label_loss: 0.0773, \n"
     ]
    },
    {
     "name": "stdout",
     "output_type": "stream",
     "text": [
      "epoch: 8, [batch: 3360 / 6720], examples_per_second: 2572.8811, train_label_loss: 0.3519, \n"
     ]
    },
    {
     "name": "stdout",
     "output_type": "stream",
     "text": [
      "epoch: 8, [batch: 4032 / 6720], examples_per_second: 2598.6024, train_label_loss: 0.5646, \n"
     ]
    },
    {
     "name": "stdout",
     "output_type": "stream",
     "text": [
      "epoch: 8, [batch: 4704 / 6720], examples_per_second: 2984.9984, train_label_loss: 0.2853, \n"
     ]
    },
    {
     "name": "stdout",
     "output_type": "stream",
     "text": [
      "epoch: 8, [batch: 5376 / 6720], examples_per_second: 2569.3685, train_label_loss: 0.0283, \n"
     ]
    },
    {
     "name": "stdout",
     "output_type": "stream",
     "text": [
      "epoch: 8, [batch: 6048 / 6720], examples_per_second: 2545.1511, train_label_loss: 0.1074, \n"
     ]
    },
    {
     "name": "stdout",
     "output_type": "stream",
     "text": [
      "=============================================================\n",
      "epoch: 8, source_val_acc_label: 0.8873, target_val_acc_label: 0.8743, source_val_label_loss: 0.3079, target_val_label_loss: 0.3556, \n",
      "=============================================================\n"
     ]
    },
    {
     "name": "stdout",
     "output_type": "stream",
     "text": [
      "New best\n"
     ]
    },
    {
     "name": "stdout",
     "output_type": "stream",
     "text": [
      "epoch: 9, [batch: 1 / 6720], examples_per_second: 2.0087, train_label_loss: 0.1932, \n"
     ]
    },
    {
     "name": "stdout",
     "output_type": "stream",
     "text": [
      "epoch: 9, [batch: 672 / 6720], examples_per_second: 2304.1500, train_label_loss: 0.1226, \n"
     ]
    },
    {
     "name": "stdout",
     "output_type": "stream",
     "text": [
      "epoch: 9, [batch: 1344 / 6720], examples_per_second: 2287.7261, train_label_loss: 0.2333, \n"
     ]
    },
    {
     "name": "stdout",
     "output_type": "stream",
     "text": [
      "epoch: 9, [batch: 2016 / 6720], examples_per_second: 2333.4003, train_label_loss: 0.0577, \n"
     ]
    },
    {
     "name": "stdout",
     "output_type": "stream",
     "text": [
      "epoch: 9, [batch: 2688 / 6720], examples_per_second: 2315.0505, train_label_loss: 0.0747, \n"
     ]
    },
    {
     "name": "stdout",
     "output_type": "stream",
     "text": [
      "epoch: 9, [batch: 3360 / 6720], examples_per_second: 2497.4108, train_label_loss: 0.3315, \n"
     ]
    },
    {
     "name": "stdout",
     "output_type": "stream",
     "text": [
      "epoch: 9, [batch: 4032 / 6720], examples_per_second: 3013.8240, train_label_loss: 0.5560, \n"
     ]
    },
    {
     "name": "stdout",
     "output_type": "stream",
     "text": [
      "epoch: 9, [batch: 4704 / 6720], examples_per_second: 3286.9640, train_label_loss: 0.0599, \n"
     ]
    },
    {
     "name": "stdout",
     "output_type": "stream",
     "text": [
      "epoch: 9, [batch: 5376 / 6720], examples_per_second: 3253.9224, train_label_loss: 0.0311, \n"
     ]
    },
    {
     "name": "stdout",
     "output_type": "stream",
     "text": [
      "epoch: 9, [batch: 6048 / 6720], examples_per_second: 3184.6835, train_label_loss: 0.0791, \n"
     ]
    },
    {
     "name": "stdout",
     "output_type": "stream",
     "text": [
      "=============================================================\n",
      "epoch: 9, source_val_acc_label: 0.8889, target_val_acc_label: 0.8700, source_val_label_loss: 0.3079, target_val_label_loss: 0.3750, \n",
      "=============================================================\n"
     ]
    },
    {
     "name": "stdout",
     "output_type": "stream",
     "text": [
      "epoch: 10, [batch: 1 / 6720], examples_per_second: 2.7527, train_label_loss: 0.8391, \n"
     ]
    },
    {
     "name": "stdout",
     "output_type": "stream",
     "text": [
      "epoch: 10, [batch: 672 / 6720], examples_per_second: 3261.4142, train_label_loss: 0.0901, \n"
     ]
    },
    {
     "name": "stdout",
     "output_type": "stream",
     "text": [
      "epoch: 10, [batch: 1344 / 6720], examples_per_second: 2574.0363, train_label_loss: 0.2126, \n"
     ]
    },
    {
     "name": "stdout",
     "output_type": "stream",
     "text": [
      "epoch: 10, [batch: 2016 / 6720], examples_per_second: 2640.3720, train_label_loss: 0.1954, \n"
     ]
    },
    {
     "name": "stdout",
     "output_type": "stream",
     "text": [
      "epoch: 10, [batch: 2688 / 6720], examples_per_second: 2911.5472, train_label_loss: 0.1992, \n"
     ]
    },
    {
     "name": "stdout",
     "output_type": "stream",
     "text": [
      "epoch: 10, [batch: 3360 / 6720], examples_per_second: 2994.1486, train_label_loss: 0.1596, \n"
     ]
    },
    {
     "name": "stdout",
     "output_type": "stream",
     "text": [
      "epoch: 10, [batch: 4032 / 6720], examples_per_second: 3021.3663, train_label_loss: 0.3545, \n"
     ]
    },
    {
     "name": "stdout",
     "output_type": "stream",
     "text": [
      "epoch: 10, [batch: 4704 / 6720], examples_per_second: 3390.4080, train_label_loss: 0.2951, \n"
     ]
    },
    {
     "name": "stdout",
     "output_type": "stream",
     "text": [
      "epoch: 10, [batch: 5376 / 6720], examples_per_second: 3423.0551, train_label_loss: 0.2382, \n"
     ]
    },
    {
     "name": "stdout",
     "output_type": "stream",
     "text": [
      "epoch: 10, [batch: 6048 / 6720], examples_per_second: 3163.4859, train_label_loss: 0.0915, \n"
     ]
    },
    {
     "name": "stdout",
     "output_type": "stream",
     "text": [
      "=============================================================\n",
      "epoch: 10, source_val_acc_label: 0.8830, target_val_acc_label: 0.8627, source_val_label_loss: 0.3249, target_val_label_loss: 0.3875, \n",
      "=============================================================\n"
     ]
    },
    {
     "name": "stdout",
     "output_type": "stream",
     "text": [
      "epoch: 11, [batch: 1 / 6720], examples_per_second: 2.7672, train_label_loss: 0.1983, \n"
     ]
    },
    {
     "name": "stdout",
     "output_type": "stream",
     "text": [
      "epoch: 11, [batch: 672 / 6720], examples_per_second: 2519.7626, train_label_loss: 0.1403, \n"
     ]
    },
    {
     "name": "stdout",
     "output_type": "stream",
     "text": [
      "epoch: 11, [batch: 1344 / 6720], examples_per_second: 2337.6499, train_label_loss: 0.1628, \n"
     ]
    },
    {
     "name": "stdout",
     "output_type": "stream",
     "text": [
      "epoch: 11, [batch: 2016 / 6720], examples_per_second: 2351.7365, train_label_loss: 0.2372, \n"
     ]
    },
    {
     "name": "stdout",
     "output_type": "stream",
     "text": [
      "epoch: 11, [batch: 2688 / 6720], examples_per_second: 2318.3757, train_label_loss: 0.3283, \n"
     ]
    },
    {
     "name": "stdout",
     "output_type": "stream",
     "text": [
      "epoch: 11, [batch: 3360 / 6720], examples_per_second: 2321.2408, train_label_loss: 0.1457, \n"
     ]
    },
    {
     "name": "stdout",
     "output_type": "stream",
     "text": [
      "epoch: 11, [batch: 4032 / 6720], examples_per_second: 2356.7552, train_label_loss: 0.0569, \n"
     ]
    },
    {
     "name": "stdout",
     "output_type": "stream",
     "text": [
      "epoch: 11, [batch: 4704 / 6720], examples_per_second: 2575.8790, train_label_loss: 0.0481, \n"
     ]
    },
    {
     "name": "stdout",
     "output_type": "stream",
     "text": [
      "epoch: 11, [batch: 5376 / 6720], examples_per_second: 2559.8812, train_label_loss: 0.0216, \n"
     ]
    },
    {
     "name": "stdout",
     "output_type": "stream",
     "text": [
      "epoch: 11, [batch: 6048 / 6720], examples_per_second: 2518.7747, train_label_loss: 0.0841, \n"
     ]
    },
    {
     "name": "stdout",
     "output_type": "stream",
     "text": [
      "=============================================================\n",
      "epoch: 11, source_val_acc_label: 0.9003, target_val_acc_label: 0.8798, source_val_label_loss: 0.2766, target_val_label_loss: 0.3484, \n",
      "=============================================================\n"
     ]
    },
    {
     "name": "stdout",
     "output_type": "stream",
     "text": [
      "New best\n"
     ]
    },
    {
     "name": "stdout",
     "output_type": "stream",
     "text": [
      "epoch: 12, [batch: 1 / 6720], examples_per_second: 2.1756, train_label_loss: 0.4124, \n"
     ]
    },
    {
     "name": "stdout",
     "output_type": "stream",
     "text": [
      "epoch: 12, [batch: 672 / 6720], examples_per_second: 2590.5086, train_label_loss: 0.2115, \n"
     ]
    },
    {
     "name": "stdout",
     "output_type": "stream",
     "text": [
      "epoch: 12, [batch: 1344 / 6720], examples_per_second: 2322.5018, train_label_loss: 0.2066, \n"
     ]
    },
    {
     "name": "stdout",
     "output_type": "stream",
     "text": [
      "epoch: 12, [batch: 2016 / 6720], examples_per_second: 2325.7594, train_label_loss: 0.3807, \n"
     ]
    },
    {
     "name": "stdout",
     "output_type": "stream",
     "text": [
      "epoch: 12, [batch: 2688 / 6720], examples_per_second: 2307.7896, train_label_loss: 0.1012, \n"
     ]
    },
    {
     "name": "stdout",
     "output_type": "stream",
     "text": [
      "epoch: 12, [batch: 3360 / 6720], examples_per_second: 2302.5441, train_label_loss: 0.1139, \n"
     ]
    },
    {
     "name": "stdout",
     "output_type": "stream",
     "text": [
      "epoch: 12, [batch: 4032 / 6720], examples_per_second: 2391.4001, train_label_loss: 0.0304, \n"
     ]
    },
    {
     "name": "stdout",
     "output_type": "stream",
     "text": [
      "epoch: 12, [batch: 4704 / 6720], examples_per_second: 2568.8480, train_label_loss: 0.0909, \n"
     ]
    },
    {
     "name": "stdout",
     "output_type": "stream",
     "text": [
      "epoch: 12, [batch: 5376 / 6720], examples_per_second: 2604.6132, train_label_loss: 0.1160, \n"
     ]
    },
    {
     "name": "stdout",
     "output_type": "stream",
     "text": [
      "epoch: 12, [batch: 6048 / 6720], examples_per_second: 2525.9442, train_label_loss: 0.0917, \n"
     ]
    },
    {
     "name": "stdout",
     "output_type": "stream",
     "text": [
      "=============================================================\n",
      "epoch: 12, source_val_acc_label: 0.9044, target_val_acc_label: 0.8835, source_val_label_loss: 0.2806, target_val_label_loss: 0.3435, \n",
      "=============================================================\n"
     ]
    },
    {
     "name": "stdout",
     "output_type": "stream",
     "text": [
      "New best\n"
     ]
    },
    {
     "name": "stdout",
     "output_type": "stream",
     "text": [
      "epoch: 13, [batch: 1 / 6720], examples_per_second: 2.1464, train_label_loss: 0.0692, \n"
     ]
    },
    {
     "name": "stdout",
     "output_type": "stream",
     "text": [
      "epoch: 13, [batch: 672 / 6720], examples_per_second: 2662.9723, train_label_loss: 0.0981, \n"
     ]
    },
    {
     "name": "stdout",
     "output_type": "stream",
     "text": [
      "epoch: 13, [batch: 1344 / 6720], examples_per_second: 2313.4790, train_label_loss: 0.3727, \n"
     ]
    },
    {
     "name": "stdout",
     "output_type": "stream",
     "text": [
      "epoch: 13, [batch: 2016 / 6720], examples_per_second: 2283.4555, train_label_loss: 0.0815, \n"
     ]
    },
    {
     "name": "stdout",
     "output_type": "stream",
     "text": [
      "epoch: 13, [batch: 2688 / 6720], examples_per_second: 2324.4377, train_label_loss: 0.1073, \n"
     ]
    },
    {
     "name": "stdout",
     "output_type": "stream",
     "text": [
      "epoch: 13, [batch: 3360 / 6720], examples_per_second: 2351.1297, train_label_loss: 0.0345, \n"
     ]
    },
    {
     "name": "stdout",
     "output_type": "stream",
     "text": [
      "epoch: 13, [batch: 4032 / 6720], examples_per_second: 2392.2993, train_label_loss: 0.1487, \n"
     ]
    },
    {
     "name": "stdout",
     "output_type": "stream",
     "text": [
      "epoch: 13, [batch: 4704 / 6720], examples_per_second: 2609.1767, train_label_loss: 0.0424, \n"
     ]
    },
    {
     "name": "stdout",
     "output_type": "stream",
     "text": [
      "epoch: 13, [batch: 5376 / 6720], examples_per_second: 2617.3430, train_label_loss: 0.0653, \n"
     ]
    },
    {
     "name": "stdout",
     "output_type": "stream",
     "text": [
      "epoch: 13, [batch: 6048 / 6720], examples_per_second: 2477.0465, train_label_loss: 0.1888, \n"
     ]
    },
    {
     "name": "stdout",
     "output_type": "stream",
     "text": [
      "=============================================================\n",
      "epoch: 13, source_val_acc_label: 0.8958, target_val_acc_label: 0.8777, source_val_label_loss: 0.2896, target_val_label_loss: 0.3544, \n",
      "=============================================================\n"
     ]
    },
    {
     "name": "stdout",
     "output_type": "stream",
     "text": [
      "epoch: 14, [batch: 1 / 6720], examples_per_second: 2.1005, train_label_loss: 0.1783, \n"
     ]
    },
    {
     "name": "stdout",
     "output_type": "stream",
     "text": [
      "epoch: 14, [batch: 672 / 6720], examples_per_second: 3005.2337, train_label_loss: 0.1676, \n"
     ]
    },
    {
     "name": "stdout",
     "output_type": "stream",
     "text": [
      "epoch: 14, [batch: 1344 / 6720], examples_per_second: 2653.8198, train_label_loss: 0.0819, \n"
     ]
    },
    {
     "name": "stdout",
     "output_type": "stream",
     "text": [
      "epoch: 14, [batch: 2016 / 6720], examples_per_second: 2608.5501, train_label_loss: 0.0517, \n"
     ]
    },
    {
     "name": "stdout",
     "output_type": "stream",
     "text": [
      "epoch: 14, [batch: 2688 / 6720], examples_per_second: 2593.4477, train_label_loss: 0.1013, \n"
     ]
    },
    {
     "name": "stdout",
     "output_type": "stream",
     "text": [
      "epoch: 14, [batch: 3360 / 6720], examples_per_second: 2577.2816, train_label_loss: 0.2283, \n"
     ]
    },
    {
     "name": "stdout",
     "output_type": "stream",
     "text": [
      "epoch: 14, [batch: 4032 / 6720], examples_per_second: 2675.3724, train_label_loss: 0.2763, \n"
     ]
    },
    {
     "name": "stdout",
     "output_type": "stream",
     "text": [
      "epoch: 14, [batch: 4704 / 6720], examples_per_second: 3011.6806, train_label_loss: 0.0829, \n"
     ]
    },
    {
     "name": "stdout",
     "output_type": "stream",
     "text": [
      "epoch: 14, [batch: 5376 / 6720], examples_per_second: 3161.3043, train_label_loss: 0.0199, \n"
     ]
    },
    {
     "name": "stdout",
     "output_type": "stream",
     "text": [
      "epoch: 14, [batch: 6048 / 6720], examples_per_second: 3151.5347, train_label_loss: 0.2623, \n"
     ]
    },
    {
     "name": "stdout",
     "output_type": "stream",
     "text": [
      "=============================================================\n",
      "epoch: 14, source_val_acc_label: 0.9053, target_val_acc_label: 0.8848, source_val_label_loss: 0.2720, target_val_label_loss: 0.3400, \n",
      "=============================================================\n"
     ]
    },
    {
     "name": "stdout",
     "output_type": "stream",
     "text": [
      "New best\n"
     ]
    },
    {
     "name": "stdout",
     "output_type": "stream",
     "text": [
      "epoch: 15, [batch: 1 / 6720], examples_per_second: 2.1048, train_label_loss: 0.1033, \n"
     ]
    },
    {
     "name": "stdout",
     "output_type": "stream",
     "text": [
      "epoch: 15, [batch: 672 / 6720], examples_per_second: 2654.6419, train_label_loss: 0.1180, \n"
     ]
    },
    {
     "name": "stdout",
     "output_type": "stream",
     "text": [
      "epoch: 15, [batch: 1344 / 6720], examples_per_second: 2404.7982, train_label_loss: 0.1807, \n"
     ]
    },
    {
     "name": "stdout",
     "output_type": "stream",
     "text": [
      "epoch: 15, [batch: 2016 / 6720], examples_per_second: 2316.3496, train_label_loss: 0.0725, \n"
     ]
    },
    {
     "name": "stdout",
     "output_type": "stream",
     "text": [
      "epoch: 15, [batch: 2688 / 6720], examples_per_second: 2312.0558, train_label_loss: 0.1683, \n"
     ]
    },
    {
     "name": "stdout",
     "output_type": "stream",
     "text": [
      "epoch: 15, [batch: 3360 / 6720], examples_per_second: 2311.9981, train_label_loss: 0.0594, \n"
     ]
    },
    {
     "name": "stdout",
     "output_type": "stream",
     "text": [
      "epoch: 15, [batch: 4032 / 6720], examples_per_second: 2498.2545, train_label_loss: 0.3002, \n"
     ]
    },
    {
     "name": "stdout",
     "output_type": "stream",
     "text": [
      "epoch: 15, [batch: 4704 / 6720], examples_per_second: 2587.0492, train_label_loss: 0.1952, \n"
     ]
    },
    {
     "name": "stdout",
     "output_type": "stream",
     "text": [
      "epoch: 15, [batch: 5376 / 6720], examples_per_second: 2671.3088, train_label_loss: 0.0235, \n"
     ]
    },
    {
     "name": "stdout",
     "output_type": "stream",
     "text": [
      "epoch: 15, [batch: 6048 / 6720], examples_per_second: 2312.9621, train_label_loss: 0.0377, \n"
     ]
    },
    {
     "name": "stdout",
     "output_type": "stream",
     "text": [
      "=============================================================\n",
      "epoch: 15, source_val_acc_label: 0.9040, target_val_acc_label: 0.8845, source_val_label_loss: 0.2932, target_val_label_loss: 0.3428, \n",
      "=============================================================\n"
     ]
    },
    {
     "name": "stdout",
     "output_type": "stream",
     "text": [
      "epoch: 16, [batch: 1 / 6720], examples_per_second: 2.0756, train_label_loss: 0.1947, \n"
     ]
    },
    {
     "name": "stdout",
     "output_type": "stream",
     "text": [
      "epoch: 16, [batch: 672 / 6720], examples_per_second: 2613.3307, train_label_loss: 0.1358, \n"
     ]
    },
    {
     "name": "stdout",
     "output_type": "stream",
     "text": [
      "epoch: 16, [batch: 1344 / 6720], examples_per_second: 2631.6505, train_label_loss: 0.0722, \n"
     ]
    },
    {
     "name": "stdout",
     "output_type": "stream",
     "text": [
      "epoch: 16, [batch: 2016 / 6720], examples_per_second: 2589.8126, train_label_loss: 0.1114, \n"
     ]
    },
    {
     "name": "stdout",
     "output_type": "stream",
     "text": [
      "epoch: 16, [batch: 2688 / 6720], examples_per_second: 2620.8461, train_label_loss: 0.2105, \n"
     ]
    },
    {
     "name": "stdout",
     "output_type": "stream",
     "text": [
      "epoch: 16, [batch: 3360 / 6720], examples_per_second: 2579.2672, train_label_loss: 0.2138, \n"
     ]
    },
    {
     "name": "stdout",
     "output_type": "stream",
     "text": [
      "epoch: 16, [batch: 4032 / 6720], examples_per_second: 2865.5256, train_label_loss: 0.4418, \n"
     ]
    },
    {
     "name": "stdout",
     "output_type": "stream",
     "text": [
      "epoch: 16, [batch: 4704 / 6720], examples_per_second: 3012.0383, train_label_loss: 0.1012, \n"
     ]
    },
    {
     "name": "stdout",
     "output_type": "stream",
     "text": [
      "epoch: 16, [batch: 5376 / 6720], examples_per_second: 3026.5604, train_label_loss: 0.4388, \n"
     ]
    },
    {
     "name": "stdout",
     "output_type": "stream",
     "text": [
      "epoch: 16, [batch: 6048 / 6720], examples_per_second: 2583.8978, train_label_loss: 0.0228, \n"
     ]
    },
    {
     "name": "stdout",
     "output_type": "stream",
     "text": [
      "=============================================================\n",
      "epoch: 16, source_val_acc_label: 0.9015, target_val_acc_label: 0.8752, source_val_label_loss: 0.2876, target_val_label_loss: 0.3624, \n",
      "=============================================================\n"
     ]
    },
    {
     "name": "stdout",
     "output_type": "stream",
     "text": [
      "epoch: 17, [batch: 1 / 6720], examples_per_second: 2.5401, train_label_loss: 0.2283, \n"
     ]
    },
    {
     "name": "stdout",
     "output_type": "stream",
     "text": [
      "epoch: 17, [batch: 672 / 6720], examples_per_second: 3000.7312, train_label_loss: 0.0509, \n"
     ]
    },
    {
     "name": "stdout",
     "output_type": "stream",
     "text": [
      "epoch: 17, [batch: 1344 / 6720], examples_per_second: 3066.6665, train_label_loss: 0.0680, \n"
     ]
    },
    {
     "name": "stdout",
     "output_type": "stream",
     "text": [
      "epoch: 17, [batch: 2016 / 6720], examples_per_second: 3098.4496, train_label_loss: 0.3557, \n"
     ]
    },
    {
     "name": "stdout",
     "output_type": "stream",
     "text": [
      "epoch: 17, [batch: 2688 / 6720], examples_per_second: 2965.6168, train_label_loss: 0.0725, \n"
     ]
    },
    {
     "name": "stdout",
     "output_type": "stream",
     "text": [
      "epoch: 17, [batch: 3360 / 6720], examples_per_second: 2922.5839, train_label_loss: 0.3270, \n"
     ]
    },
    {
     "name": "stdout",
     "output_type": "stream",
     "text": [
      "epoch: 17, [batch: 4032 / 6720], examples_per_second: 2640.1248, train_label_loss: 0.1260, \n"
     ]
    },
    {
     "name": "stdout",
     "output_type": "stream",
     "text": [
      "epoch: 17, [batch: 4704 / 6720], examples_per_second: 2589.4378, train_label_loss: 0.0776, \n"
     ]
    },
    {
     "name": "stdout",
     "output_type": "stream",
     "text": [
      "epoch: 17, [batch: 5376 / 6720], examples_per_second: 2674.5006, train_label_loss: 0.0845, \n"
     ]
    },
    {
     "name": "stdout",
     "output_type": "stream",
     "text": [
      "epoch: 17, [batch: 6048 / 6720], examples_per_second: 2294.4176, train_label_loss: 0.4034, \n"
     ]
    },
    {
     "name": "stdout",
     "output_type": "stream",
     "text": [
      "=============================================================\n",
      "epoch: 17, source_val_acc_label: 0.9067, target_val_acc_label: 0.8845, source_val_label_loss: 0.3159, target_val_label_loss: 0.3562, \n",
      "=============================================================\n"
     ]
    },
    {
     "name": "stdout",
     "output_type": "stream",
     "text": [
      "epoch: 18, [batch: 1 / 6720], examples_per_second: 2.0087, train_label_loss: 0.3801, \n"
     ]
    },
    {
     "name": "stdout",
     "output_type": "stream",
     "text": [
      "epoch: 18, [batch: 672 / 6720], examples_per_second: 2316.3477, train_label_loss: 0.0556, \n"
     ]
    },
    {
     "name": "stdout",
     "output_type": "stream",
     "text": [
      "epoch: 18, [batch: 1344 / 6720], examples_per_second: 2325.9363, train_label_loss: 0.0785, \n"
     ]
    },
    {
     "name": "stdout",
     "output_type": "stream",
     "text": [
      "epoch: 18, [batch: 2016 / 6720], examples_per_second: 2399.4572, train_label_loss: 0.1666, \n"
     ]
    },
    {
     "name": "stdout",
     "output_type": "stream",
     "text": [
      "epoch: 18, [batch: 2688 / 6720], examples_per_second: 2603.3739, train_label_loss: 0.1795, \n"
     ]
    },
    {
     "name": "stdout",
     "output_type": "stream",
     "text": [
      "epoch: 18, [batch: 3360 / 6720], examples_per_second: 2548.4730, train_label_loss: 0.1005, \n"
     ]
    },
    {
     "name": "stdout",
     "output_type": "stream",
     "text": [
      "epoch: 18, [batch: 4032 / 6720], examples_per_second: 2757.5487, train_label_loss: 0.1822, \n"
     ]
    },
    {
     "name": "stdout",
     "output_type": "stream",
     "text": [
      "epoch: 18, [batch: 4704 / 6720], examples_per_second: 2627.5843, train_label_loss: 0.0789, \n"
     ]
    },
    {
     "name": "stdout",
     "output_type": "stream",
     "text": [
      "epoch: 18, [batch: 5376 / 6720], examples_per_second: 2658.3779, train_label_loss: 0.1970, \n"
     ]
    },
    {
     "name": "stdout",
     "output_type": "stream",
     "text": [
      "epoch: 18, [batch: 6048 / 6720], examples_per_second: 2480.3964, train_label_loss: 0.2543, \n"
     ]
    },
    {
     "name": "stdout",
     "output_type": "stream",
     "text": [
      "=============================================================\n",
      "epoch: 18, source_val_acc_label: 0.9043, target_val_acc_label: 0.8813, source_val_label_loss: 0.2893, target_val_label_loss: 0.3616, \n",
      "=============================================================\n"
     ]
    },
    {
     "name": "stdout",
     "output_type": "stream",
     "text": [
      "Patience (3) exhausted\n"
     ]
    }
   ],
   "source": [
    "###################################\n",
    "# train\n",
    "###################################\n",
    "jig = PTN_Train_Eval_Test_Jig(model, p.BEST_MODEL_PATH, p.device)\n",
    "\n",
    "jig.train(\n",
    "    train_iterable=datasets.source.processed.train,\n",
    "    source_val_iterable=datasets.source.processed.val,\n",
    "    target_val_iterable=datasets.target.processed.val,\n",
    "    num_epochs=p.n_epoch,\n",
    "    num_logs_per_epoch=p.NUM_LOGS_PER_EPOCH,\n",
    "    patience=p.patience,\n",
    "    optimizer=optimizer,\n",
    "    criteria_for_best=p.criteria_for_best,\n",
    ")"
   ]
  },
  {
   "cell_type": "code",
   "execution_count": 23,
   "id": "31e8fabf",
   "metadata": {
    "execution": {
     "iopub.execute_input": "2022-03-21T08:37:51.073400Z",
     "iopub.status.busy": "2022-03-21T08:37:51.073029Z",
     "iopub.status.idle": "2022-03-21T08:37:51.104576Z",
     "shell.execute_reply": "2022-03-21T08:37:51.103848Z"
    },
    "papermill": {
     "duration": 0.115091,
     "end_time": "2022-03-21T08:37:51.104750",
     "exception": false,
     "start_time": "2022-03-21T08:37:50.989659",
     "status": "completed"
    },
    "tags": []
   },
   "outputs": [],
   "source": [
    "total_experiment_time_secs = time.time() - start_time_secs"
   ]
  },
  {
   "cell_type": "code",
   "execution_count": 24,
   "id": "87b9595b",
   "metadata": {
    "execution": {
     "iopub.execute_input": "2022-03-21T08:37:51.274361Z",
     "iopub.status.busy": "2022-03-21T08:37:51.273497Z",
     "iopub.status.idle": "2022-03-21T08:41:55.182315Z",
     "shell.execute_reply": "2022-03-21T08:41:55.183000Z"
    },
    "papermill": {
     "duration": 243.995516,
     "end_time": "2022-03-21T08:41:55.183240",
     "exception": false,
     "start_time": "2022-03-21T08:37:51.187724",
     "status": "completed"
    },
    "tags": []
   },
   "outputs": [],
   "source": [
    "###################################\n",
    "# Evaluate the model\n",
    "###################################\n",
    "source_test_label_accuracy, source_test_label_loss = jig.test(datasets.source.processed.test)\n",
    "target_test_label_accuracy, target_test_label_loss = jig.test(datasets.target.processed.test)\n",
    "\n",
    "source_val_label_accuracy, source_val_label_loss = jig.test(datasets.source.processed.val)\n",
    "target_val_label_accuracy, target_val_label_loss = jig.test(datasets.target.processed.val)\n",
    "\n",
    "history = jig.get_history()\n",
    "\n",
    "total_epochs_trained = len(history[\"epoch_indices\"])\n",
    "\n",
    "val_dl = Iterable_Aggregator((datasets.source.original.val,datasets.target.original.val))\n",
    "\n",
    "confusion = ptn_confusion_by_domain_over_dataloader(model, p.device, val_dl)\n",
    "per_domain_accuracy = per_domain_accuracy_from_confusion(confusion)\n",
    "\n",
    "# Add a key to per_domain_accuracy for if it was a source domain\n",
    "for domain, accuracy in per_domain_accuracy.items():\n",
    "    per_domain_accuracy[domain] = {\n",
    "        \"accuracy\": accuracy,\n",
    "        \"source?\": domain in p.domains_source\n",
    "    }\n",
    "\n",
    "# Do an independent accuracy assesment JUST TO BE SURE!\n",
    "# _source_test_label_accuracy = independent_accuracy_assesment(model, datasets.source.processed.test, p.device)\n",
    "# _target_test_label_accuracy = independent_accuracy_assesment(model, datasets.target.processed.test, p.device)\n",
    "# _source_val_label_accuracy = independent_accuracy_assesment(model, datasets.source.processed.val, p.device)\n",
    "# _target_val_label_accuracy = independent_accuracy_assesment(model, datasets.target.processed.val, p.device)\n",
    "\n",
    "# assert(_source_test_label_accuracy == source_test_label_accuracy)\n",
    "# assert(_target_test_label_accuracy == target_test_label_accuracy)\n",
    "# assert(_source_val_label_accuracy == source_val_label_accuracy)\n",
    "# assert(_target_val_label_accuracy == target_val_label_accuracy)\n",
    "\n",
    "experiment = {\n",
    "    \"experiment_name\": p.experiment_name,\n",
    "    \"parameters\": dict(p),\n",
    "    \"results\": {\n",
    "        \"source_test_label_accuracy\": source_test_label_accuracy,\n",
    "        \"source_test_label_loss\": source_test_label_loss,\n",
    "        \"target_test_label_accuracy\": target_test_label_accuracy,\n",
    "        \"target_test_label_loss\": target_test_label_loss,\n",
    "        \"source_val_label_accuracy\": source_val_label_accuracy,\n",
    "        \"source_val_label_loss\": source_val_label_loss,\n",
    "        \"target_val_label_accuracy\": target_val_label_accuracy,\n",
    "        \"target_val_label_loss\": target_val_label_loss,\n",
    "        \"total_epochs_trained\": total_epochs_trained,\n",
    "        \"total_experiment_time_secs\": total_experiment_time_secs,\n",
    "        \"confusion\": confusion,\n",
    "        \"per_domain_accuracy\": per_domain_accuracy,\n",
    "    },\n",
    "    \"history\": history,\n",
    "    \"dataset_metrics\": get_dataset_metrics(datasets, \"ptn\"),\n",
    "}"
   ]
  },
  {
   "cell_type": "code",
   "execution_count": 25,
   "id": "54a21829",
   "metadata": {
    "execution": {
     "iopub.execute_input": "2022-03-21T08:41:55.355687Z",
     "iopub.status.busy": "2022-03-21T08:41:55.355205Z",
     "iopub.status.idle": "2022-03-21T08:41:55.588863Z",
     "shell.execute_reply": "2022-03-21T08:41:55.566281Z"
    },
    "papermill": {
     "duration": 0.321933,
     "end_time": "2022-03-21T08:41:55.589002",
     "exception": false,
     "start_time": "2022-03-21T08:41:55.267069",
     "status": "completed"
    },
    "tags": []
   },
   "outputs": [
    {
     "data": {
      "image/png": "[encoded data removed]",
      "text/plain": [
       "<Figure size 1080x504 with 1 Axes>"
      ]
     },
     "metadata": {
      "needs_background": "light"
     },
     "output_type": "display_data"
    }
   ],
   "source": [
    "ax = get_loss_curve(experiment)\n",
    "plt.show()"
   ]
  },
  {
   "cell_type": "code",
   "execution_count": 26,
   "id": "fd8a0f60",
   "metadata": {
    "execution": {
     "iopub.execute_input": "2022-03-21T08:41:55.777224Z",
     "iopub.status.busy": "2022-03-21T08:41:55.776653Z",
     "iopub.status.idle": "2022-03-21T08:41:56.125556Z",
     "shell.execute_reply": "2022-03-21T08:41:56.124805Z"
    },
    "papermill": {
     "duration": 0.431289,
     "end_time": "2022-03-21T08:41:56.125733",
     "exception": false,
     "start_time": "2022-03-21T08:41:55.694444",
     "status": "completed"
    },
    "tags": []
   },
   "outputs": [
    {
     "data": {
      "text/plain": [
       "<AxesSubplot:title={'center':'Results'}>"
      ]
     },
     "execution_count": 26,
     "metadata": {},
     "output_type": "execute_result"
    },
    {
     "data": {
      "image/png": "[encoded data removed]",
      "text/plain": [
       "<Figure size 1080x504 with 1 Axes>"
      ]
     },
     "metadata": {
      "needs_background": "light"
     },
     "output_type": "display_data"
    }
   ],
   "source": [
    "get_results_table(experiment)"
   ]
  },
  {
   "cell_type": "code",
   "execution_count": 27,
   "id": "cf8dc689",
   "metadata": {
    "execution": {
     "iopub.execute_input": "2022-03-21T08:41:56.295058Z",
     "iopub.status.busy": "2022-03-21T08:41:56.294684Z",
     "iopub.status.idle": "2022-03-21T08:41:56.589718Z",
     "shell.execute_reply": "2022-03-21T08:41:56.589192Z"
    },
    "papermill": {
     "duration": 0.377133,
     "end_time": "2022-03-21T08:41:56.589848",
     "exception": false,
     "start_time": "2022-03-21T08:41:56.212715",
     "status": "completed"
    },
    "tags": []
   },
   "outputs": [
    {
     "data": {
      "text/plain": [
       "<AxesSubplot:title={'center':'Per Domain Validation Accuracy'}, xlabel='domain'>"
      ]
     },
     "execution_count": 27,
     "metadata": {},
     "output_type": "execute_result"
    },
    {
     "data": {
      "image/png": "[encoded data removed]",
      "text/plain": [
       "<Figure size 1080x504 with 1 Axes>"
      ]
     },
     "metadata": {
      "needs_background": "light"
     },
     "output_type": "display_data"
    }
   ],
   "source": [
    "get_domain_accuracies(experiment)"
   ]
  },
  {
   "cell_type": "code",
   "execution_count": 28,
   "id": "a74ae082",
   "metadata": {
    "execution": {
     "iopub.execute_input": "2022-03-21T08:41:56.757327Z",
     "iopub.status.busy": "2022-03-21T08:41:56.756742Z",
     "iopub.status.idle": "2022-03-21T08:41:56.782085Z",
     "shell.execute_reply": "2022-03-21T08:41:56.781738Z"
    },
    "papermill": {
     "duration": 0.108495,
     "end_time": "2022-03-21T08:41:56.782176",
     "exception": false,
     "start_time": "2022-03-21T08:41:56.673681",
     "status": "completed"
    },
    "tags": []
   },
   "outputs": [
    {
     "name": "stdout",
     "output_type": "stream",
     "text": [
      "Source Test Label Accuracy: 0.9058268229166667 Target Test Label Accuracy: 0.883984375\n",
      "Source Val Label Accuracy: 0.9053385416666667 Target Val Label Accuracy: 0.884765625\n"
     ]
    }
   ],
   "source": [
    "print(\"Source Test Label Accuracy:\", experiment[\"results\"][\"source_test_label_accuracy\"], \"Target Test Label Accuracy:\", experiment[\"results\"][\"target_test_label_accuracy\"])\n",
    "print(\"Source Val Label Accuracy:\", experiment[\"results\"][\"source_val_label_accuracy\"], \"Target Val Label Accuracy:\", experiment[\"results\"][\"target_val_label_accuracy\"])"
   ]
  },
  {
   "cell_type": "code",
   "execution_count": 29,
   "id": "dacca602",
   "metadata": {
    "execution": {
     "iopub.execute_input": "2022-03-21T08:41:56.955753Z",
     "iopub.status.busy": "2022-03-21T08:41:56.955157Z",
     "iopub.status.idle": "2022-03-21T08:41:56.980503Z",
     "shell.execute_reply": "2022-03-21T08:41:56.980096Z"
    },
    "papermill": {
     "duration": 0.109189,
     "end_time": "2022-03-21T08:41:56.980593",
     "exception": false,
     "start_time": "2022-03-21T08:41:56.871404",
     "status": "completed"
    },
    "tags": [
     "experiment_json"
    ]
   },
   "outputs": [
    {
     "data": {
      "text/plain": [
       "'{\"experiment_name\": \"tl_1v2:oracle.run1.framed-oracle.run2.framed\", \"parameters\": {\"experiment_name\": \"tl_1v2:oracle.run1.framed-oracle.run2.framed\", \"device\": \"cuda\", \"lr\": 0.0001, \"n_shot\": 3, \"n_query\": 2, \"train_k_factor\": 3, \"val_k_factor\": 2, \"test_k_factor\": 2, \"torch_default_dtype\": \"torch.float32\", \"n_epoch\": 50, \"patience\": 3, \"criteria_for_best\": \"target_accuracy\", \"x_net\": [{\"class\": \"nnReshape\", \"kargs\": {\"shape\": [-1, 1, 2, 256]}}, {\"class\": \"Conv2d\", \"kargs\": {\"in_channels\": 1, \"out_channels\": 256, \"kernel_size\": [1, 7], \"bias\": false, \"padding\": [0, 3]}}, {\"class\": \"ReLU\", \"kargs\": {\"inplace\": true}}, {\"class\": \"BatchNorm2d\", \"kargs\": {\"num_features\": 256}}, {\"class\": \"Conv2d\", \"kargs\": {\"in_channels\": 256, \"out_channels\": 80, \"kernel_size\": [2, 7], \"bias\": true, \"padding\": [0, 3]}}, {\"class\": \"ReLU\", \"kargs\": {\"inplace\": true}}, {\"class\": \"BatchNorm2d\", \"kargs\": {\"num_features\": 80}}, {\"class\": \"Flatten\", \"kargs\": {}}, {\"class\": \"Linear\", \"kargs\": {\"in_features\": 20480, \"out_features\": 256}}, {\"class\": \"ReLU\", \"kargs\": {\"inplace\": true}}, {\"class\": \"BatchNorm1d\", \"kargs\": {\"num_features\": 256}}, {\"class\": \"Linear\", \"kargs\": {\"in_features\": 256, \"out_features\": 256}}], \"NUM_LOGS_PER_EPOCH\": 10, \"BEST_MODEL_PATH\": \"./best_model.pth\", \"n_way\": 16, \"datasets\": [{\"labels\": [\"3123D52\", \"3123D65\", \"3123D79\", \"3123D80\", \"3123D54\", \"3123D70\", \"3123D7B\", \"3123D89\", \"3123D58\", \"3123D76\", \"3123D7D\", \"3123EFE\", \"3123D64\", \"3123D78\", \"3123D7E\", \"3124E4A\"], \"domains\": [32, 38, 8, 44, 14, 50, 20, 26], \"num_examples_per_domain_per_label\": 2000, \"pickle_path\": \"/root/csc500-main/datasets/oracle.Run1_framed_2000Examples_stratified_ds.2022A.pkl\", \"source_or_target_dataset\": \"target\", \"x_transforms\": [\"unit_mag\"], \"episode_transforms\": [], \"domain_prefix\": \"ORACLE.run1_\"}, {\"labels\": [\"3123D52\", \"3123D65\", \"3123D79\", \"3123D80\", \"3123D54\", \"3123D70\", \"3123D7B\", \"3123D89\", \"3123D58\", \"3123D76\", \"3123D7D\", \"3123EFE\", \"3123D64\", \"3123D78\", \"3123D7E\", \"3124E4A\"], \"domains\": [32, 38, 8, 44, 14, 50, 20, 26], \"num_examples_per_domain_per_label\": 2000, \"pickle_path\": \"/root/csc500-main/datasets/oracle.Run2_framed_2000Examples_stratified_ds.2022A.pkl\", \"source_or_target_dataset\": \"source\", \"x_transforms\": [\"unit_mag\"], \"episode_transforms\": [], \"domain_prefix\": \"ORACLE.run2_\"}], \"dataset_seed\": 1337, \"seed\": 1337, \"x_shape\": [2, 256], \"domains_source\": [\"ORACLE.run2_32\", \"ORACLE.run2_38\", \"ORACLE.run2_8\", \"ORACLE.run2_44\", \"ORACLE.run2_14\", \"ORACLE.run2_50\", \"ORACLE.run2_20\", \"ORACLE.run2_26\"], \"domains_target\": [\"ORACLE.run1_32\", \"ORACLE.run1_38\", \"ORACLE.run1_8\", \"ORACLE.run1_44\", \"ORACLE.run1_14\", \"ORACLE.run1_50\", \"ORACLE.run1_20\", \"ORACLE.run1_26\"]}, \"results\": {\"source_test_label_accuracy\": 0.9058268229166667, \"source_test_label_loss\": 0.2967756986618042, \"target_test_label_accuracy\": 0.883984375, \"target_test_label_loss\": 0.34412747621536255, \"source_val_label_accuracy\": 0.9053385416666667, \"source_val_label_loss\": 0.27204006910324097, \"target_val_label_accuracy\": 0.884765625, \"target_val_label_loss\": 0.3400310277938843, \"total_epochs_trained\": 18, \"total_experiment_time_secs\": 4652.996618747711, \"confusion\": {\"ORACLE.run2_14\": {\"15\": {\"15\": 240}, \"3\": {\"3\": 230, \"5\": 6, \"2\": 2, \"14\": 2}, \"6\": {\"6\": 230, \"13\": 10}, \"1\": {\"1\": 237, \"5\": 3}, \"8\": {\"8\": 240}, \"10\": {\"10\": 240}, \"9\": {\"9\": 240}, \"13\": {\"13\": 217, \"6\": 22, \"2\": 1}, \"12\": {\"12\": 219, \"9\": 5, \"0\": 11, \"8\": 2, \"11\": 3}, \"5\": {\"5\": 214, \"2\": 12, \"4\": 7, \"3\": 5, \"1\": 2}, \"0\": {\"0\": 240}, \"2\": {\"14\": 51, \"2\": 153, \"5\": 25, \"3\": 10, \"4\": 1}, \"11\": {\"11\": 240}, \"14\": {\"2\": 24, \"14\": 215, \"3\": 1}, \"7\": {\"7\": 240}, \"4\": {\"4\": 233, \"5\": 7}}, \"ORACLE.run2_20\": {\"3\": {\"2\": 24, \"9\": 16, \"3\": 194, \"7\": 6}, \"15\": {\"15\": 211, \"13\": 11, \"0\": 4, \"1\": 2, \"12\": 5, \"2\": 2, \"5\": 5}, \"8\": {\"8\": 223, \"14\": 15, \"7\": 1, \"5\": 1}, \"4\": {\"4\": 238, \"12\": 1, \"5\": 1}, \"14\": {\"14\": 233, \"6\": 4, \"8\": 3}, \"0\": {\"0\": 230, \"15\": 6, \"5\": 4}, \"7\": {\"7\": 237, \"8\": 3}, \"6\": {\"6\": 236, \"14\": 4}, \"10\": {\"10\": 240}, \"5\": {\"5\": 209, \"0\": 7, \"2\": 7, \"15\": 6, \"3\": 2, \"12\": 3, \"7\": 5, \"4\": 1}, \"2\": {\"2\": 200, \"5\": 1, \"9\": 10, \"3\": 19, \"12\": 8, \"7\": 1, \"15\": 1}, \"12\": {\"2\": 11, \"12\": 201, \"1\": 21, \"15\": 1, \"5\": 4, \"9\": 2}, \"9\": {\"9\": 202, \"2\": 21, \"3\": 13, \"1\": 1, \"12\": 3}, \"1\": {\"1\": 199, \"2\": 2, \"9\": 2, \"12\": 36, \"15\": 1}, \"11\": {\"11\": 240}, \"13\": {\"13\": 219, \"15\": 19, \"5\": 2}}, \"ORACLE.run2_38\": {\"5\": {\"5\": 151, \"8\": 64, \"7\": 20, \"15\": 4, \"10\": 1}, \"8\": {\"8\": 174, \"5\": 50, \"7\": 14, \"10\": 1, \"13\": 1}, \"11\": {\"11\": 237, \"3\": 1, \"10\": 2}, \"1\": {\"1\": 229, \"15\": 11}, \"10\": {\"10\": 211, \"7\": 27, \"13\": 1, \"3\": 1}, \"15\": {\"15\": 207, \"5\": 13, \"1\": 15, \"6\": 3, \"8\": 2}, \"3\": {\"3\": 179, \"13\": 52, \"10\": 5, \"0\": 4}, \"7\": {\"7\": 192, \"5\": 19, \"10\": 16, \"8\": 13}, \"4\": {\"4\": 240}, \"14\": {\"14\": 211, \"2\": 26, \"8\": 1, \"11\": 1, \"5\": 1}, \"9\": {\"9\": 234, \"6\": 5, \"3\": 1}, \"12\": {\"12\": 235, \"14\": 2, \"4\": 3}, \"6\": {\"6\": 239, \"9\": 1}, \"2\": {\"2\": 229, \"14\": 11}, \"0\": {\"0\": 236, \"8\": 1, \"7\": 3}, \"13\": {\"13\": 210, \"3\": 27, \"10\": 1, \"8\": 2}}, \"ORACLE.run2_8\": {\"9\": {\"9\": 240}, \"10\": {\"10\": 210, \"5\": 21, \"0\": 6, \"13\": 3}, \"13\": {\"13\": 232, \"1\": 4, \"10\": 2, \"8\": 1, \"14\": 1}, \"0\": {\"0\": 228, \"10\": 4, \"14\": 8}, \"1\": {\"1\": 238, \"13\": 2}, \"15\": {\"15\": 225, \"8\": 9, \"12\": 6}, \"5\": {\"10\": 16, \"5\": 224}, \"3\": {\"3\": 240}, \"6\": {\"6\": 170, \"7\": 17, \"4\": 53}, \"11\": {\"11\": 236, \"15\": 1, \"8\": 2, \"12\": 1}, \"8\": {\"8\": 238, \"11\": 2}, \"4\": {\"4\": 153, \"6\": 40, \"7\": 44, \"2\": 3}, \"12\": {\"12\": 233, \"15\": 7}, \"14\": {\"14\": 225, \"0\": 11, \"10\": 2, \"13\": 1, \"6\": 1}, \"2\": {\"2\": 235, \"4\": 2, \"7\": 3}, \"7\": {\"7\": 194, \"4\": 34, \"6\": 11, \"2\": 1}}, \"ORACLE.run2_50\": {\"7\": {\"7\": 225, \"13\": 6, \"5\": 9}, \"3\": {\"3\": 237, \"8\": 2, \"7\": 1}, \"8\": {\"8\": 239, \"3\": 1}, \"2\": {\"2\": 237, \"0\": 3}, \"14\": {\"14\": 240}, \"4\": {\"5\": 52, \"4\": 178, \"6\": 5, \"1\": 5}, \"6\": {\"6\": 223, \"1\": 4, \"5\": 7, \"4\": 4, \"15\": 1, \"7\": 1}, \"15\": {\"15\": 237, \"4\": 1, \"11\": 1, \"1\": 1}, \"10\": {\"10\": 209, \"13\": 26, \"0\": 5}, \"11\": {\"11\": 239, \"15\": 1}, \"13\": {\"13\": 216, \"7\": 3, \"10\": 17, \"5\": 4}, \"9\": {\"9\": 239, \"12\": 1}, \"0\": {\"0\": 228, \"2\": 8, \"10\": 4}, \"1\": {\"1\": 238, \"15\": 1, \"5\": 1}, \"12\": {\"12\": 239, \"11\": 1}, \"5\": {\"6\": 7, \"5\": 153, \"4\": 61, \"7\": 13, \"13\": 4, \"1\": 1, \"10\": 1}}, \"ORACLE.run2_32\": {\"8\": {\"8\": 215, \"0\": 17, \"5\": 4, \"13\": 1, \"3\": 2, \"4\": 1}, \"14\": {\"14\": 232, \"0\": 6, \"2\": 1, \"11\": 1}, \"2\": {\"2\": 235, \"5\": 2, \"4\": 2, \"7\": 1}, \"0\": {\"0\": 217, \"8\": 8, \"11\": 7, \"4\": 3, \"5\": 2, \"14\": 3}, \"1\": {\"1\": 240}, \"10\": {\"10\": 240}, \"11\": {\"11\": 219, \"0\": 5, \"7\": 10, \"4\": 3, \"13\": 3}, \"5\": {\"5\": 212, \"4\": 5, \"7\": 8, \"14\": 4, \"8\": 6, \"2\": 3, \"0\": 2}, \"15\": {\"15\": 239, \"8\": 1}, \"3\": {\"3\": 237, \"8\": 1, \"13\": 2}, \"12\": {\"12\": 240}, \"7\": {\"7\": 216, \"4\": 10, \"11\": 8, \"5\": 3, \"13\": 1, \"2\": 2}, \"13\": {\"13\": 210, \"4\": 25, \"3\": 3, \"0\": 1, \"7\": 1}, \"6\": {\"6\": 240}, \"4\": {\"4\": 203, \"13\": 27, \"7\": 6, \"0\": 1, \"2\": 2, \"11\": 1}, \"9\": {\"9\": 240}}, \"ORACLE.run2_26\": {\"4\": {\"4\": 218, \"0\": 5, \"3\": 2, \"7\": 6, \"8\": 2, \"14\": 4, \"2\": 3}, \"12\": {\"12\": 240}, \"10\": {\"10\": 125, \"6\": 3, \"14\": 19, \"8\": 29, \"0\": 56, \"4\": 6, \"15\": 2}, \"0\": {\"10\": 26, \"0\": 134, \"14\": 57, \"7\": 1, \"4\": 7, \"8\": 15}, \"13\": {\"13\": 229, \"5\": 8, \"9\": 3}, \"9\": {\"9\": 231, \"13\": 4, \"6\": 3, \"15\": 1, \"5\": 1}, \"3\": {\"3\": 214, \"7\": 11, \"2\": 10, \"4\": 5}, \"2\": {\"2\": 150, \"7\": 65, \"5\": 1, \"3\": 10, \"8\": 7, \"15\": 5, \"4\": 2}, \"5\": {\"5\": 199, \"13\": 18, \"7\": 8, \"2\": 9, \"3\": 2, \"6\": 2, \"9\": 1, \"8\": 1}, \"14\": {\"14\": 180, \"10\": 13, \"0\": 23, \"1\": 13, \"8\": 10, \"4\": 1}, \"8\": {\"8\": 185, \"10\": 4, \"14\": 14, \"0\": 14, \"2\": 7, \"7\": 10, \"4\": 4, \"5\": 1, \"15\": 1}, \"7\": {\"7\": 155, \"3\": 5, \"2\": 63, \"4\": 11, \"5\": 1, \"8\": 4, \"15\": 1}, \"6\": {\"6\": 229, \"9\": 10, \"10\": 1}, \"11\": {\"11\": 240}, \"15\": {\"15\": 221, \"2\": 7, \"7\": 10, \"3\": 2}, \"1\": {\"1\": 226, \"14\": 12, \"4\": 1, \"8\": 1}}, \"ORACLE.run2_44\": {\"12\": {\"12\": 214, \"1\": 21, \"3\": 5}, \"7\": {\"9\": 79, \"7\": 155, \"2\": 6}, \"5\": {\"5\": 228, \"14\": 10, \"0\": 1, \"15\": 1}, \"15\": {\"15\": 220, \"14\": 16, \"4\": 4}, \"8\": {\"8\": 179, \"0\": 60, \"5\": 1}, \"2\": {\"2\": 223, \"9\": 13, \"7\": 4}, \"13\": {\"13\": 239, \"6\": 1}, \"4\": {\"4\": 233, \"13\": 3, \"14\": 4}, \"0\": {\"0\": 158, \"8\": 82}, \"6\": {\"6\": 231, \"13\": 3, \"7\": 4, \"9\": 2}, \"9\": {\"7\": 71, \"9\": 151, \"2\": 14, \"6\": 3, \"13\": 1}, \"11\": {\"11\": 239, \"5\": 1}, \"10\": {\"10\": 239, \"1\": 1}, \"14\": {\"14\": 201, \"5\": 12, \"4\": 13, \"15\": 14}, \"1\": {\"1\": 211, \"3\": 8, \"12\": 20, \"2\": 1}, \"3\": {\"3\": 228, \"2\": 1, \"1\": 4, \"12\": 7}}, \"ORACLE.run1_14\": {\"15\": {\"15\": 240}, \"3\": {\"3\": 238, \"2\": 1, \"14\": 1}, \"6\": {\"6\": 187, \"13\": 49, \"2\": 2, \"14\": 2}, \"1\": {\"1\": 236, \"5\": 3, \"4\": 1}, \"8\": {\"8\": 240}, \"10\": {\"10\": 240}, \"9\": {\"9\": 240}, \"13\": {\"13\": 136, \"6\": 80, \"5\": 6, \"4\": 3, \"14\": 4, \"2\": 10, \"7\": 1}, \"12\": {\"12\": 240}, \"5\": {\"5\": 211, \"3\": 2, \"2\": 5, \"1\": 10, \"4\": 11, \"13\": 1}, \"0\": {\"0\": 237, \"3\": 2, \"10\": 1}, \"2\": {\"2\": 161, \"14\": 46, \"13\": 7, \"5\": 16, \"3\": 5, \"6\": 5}, \"11\": {\"11\": 209, \"12\": 18, \"9\": 13}, \"14\": {\"14\": 214, \"2\": 22, \"13\": 2, \"6\": 2}, \"7\": {\"7\": 240}, \"4\": {\"4\": 235, \"5\": 5}}, \"ORACLE.run1_20\": {\"3\": {\"3\": 192, \"9\": 15, \"12\": 21, \"2\": 9, \"4\": 2, \"1\": 1}, \"15\": {\"5\": 5, \"15\": 226, \"0\": 3, \"12\": 1, \"1\": 5}, \"8\": {\"8\": 237, \"4\": 3}, \"4\": {\"4\": 236, \"8\": 4}, \"14\": {\"6\": 4, \"14\": 233, \"10\": 3}, \"0\": {\"5\": 19, \"15\": 9, \"0\": 212}, \"7\": {\"7\": 232, \"3\": 1, \"8\": 2, \"2\": 3, \"9\": 2}, \"6\": {\"6\": 236, \"14\": 4}, \"10\": {\"10\": 240}, \"5\": {\"5\": 219, \"15\": 4, \"0\": 15, \"12\": 2}, \"2\": {\"2\": 196, \"3\": 12, \"9\": 20, \"7\": 7, \"12\": 4, \"1\": 1}, \"12\": {\"12\": 181, \"3\": 22, \"1\": 28, \"2\": 6, \"9\": 3}, \"9\": {\"9\": 207, \"2\": 16, \"3\": 16, \"12\": 1}, \"1\": {\"1\": 216, \"5\": 1, \"12\": 19, \"15\": 3, \"3\": 1}, \"11\": {\"11\": 240}, \"13\": {\"13\": 240}}, \"ORACLE.run1_38\": {\"5\": {\"8\": 65, \"5\": 135, \"7\": 22, \"15\": 8, \"9\": 5, \"6\": 4, \"13\": 1}, \"8\": {\"0\": 8, \"5\": 32, \"8\": 186, \"15\": 8, \"7\": 6}, \"11\": {\"11\": 234, \"10\": 6}, \"1\": {\"1\": 238, \"15\": 2}, \"10\": {\"10\": 201, \"13\": 22, \"7\": 9, \"0\": 5, \"14\": 2, \"11\": 1}, \"15\": {\"15\": 224, \"8\": 5, \"1\": 4, \"5\": 6, \"13\": 1}, \"3\": {\"3\": 238, \"0\": 2}, \"7\": {\"5\": 7, \"8\": 9, \"7\": 218, \"0\": 4, \"13\": 1, \"10\": 1}, \"4\": {\"4\": 237, \"10\": 1, \"12\": 2}, \"14\": {\"14\": 226, \"2\": 13, \"12\": 1}, \"9\": {\"9\": 231, \"6\": 2, \"5\": 7}, \"12\": {\"12\": 236, \"14\": 1, \"4\": 3}, \"6\": {\"6\": 240}, \"2\": {\"2\": 229, \"14\": 8, \"13\": 3}, \"0\": {\"8\": 17, \"0\": 190, \"7\": 5, \"3\": 11, \"10\": 4, \"13\": 11, \"5\": 1, \"11\": 1}, \"13\": {\"13\": 233, \"2\": 1, \"10\": 2, \"5\": 1, \"0\": 1, \"8\": 2}}, \"ORACLE.run1_8\": {\"9\": {\"9\": 240}, \"10\": {\"10\": 229, \"14\": 5, \"13\": 5, \"4\": 1}, \"13\": {\"13\": 143, \"10\": 30, \"6\": 8, \"0\": 26, \"4\": 29, \"14\": 4}, \"0\": {\"0\": 223, \"7\": 6, \"13\": 10, \"6\": 1}, \"1\": {\"1\": 237, \"11\": 3}, \"15\": {\"15\": 225, \"8\": 1, \"12\": 14}, \"5\": {\"5\": 230, \"10\": 7, \"1\": 1, \"14\": 2}, \"3\": {\"3\": 240}, \"6\": {\"6\": 196, \"7\": 28, \"4\": 14, \"13\": 2}, \"11\": {\"11\": 231, \"1\": 9}, \"8\": {\"8\": 240}, \"4\": {\"4\": 191, \"6\": 8, \"13\": 32, \"14\": 8, \"0\": 1}, \"12\": {\"12\": 194, \"8\": 6, \"15\": 35, \"3\": 5}, \"14\": {\"14\": 200, \"4\": 17, \"10\": 11, \"1\": 10, \"13\": 2}, \"2\": {\"7\": 12, \"2\": 226, \"3\": 2}, \"7\": {\"7\": 221, \"6\": 19}}, \"ORACLE.run1_50\": {\"7\": {\"7\": 227, \"13\": 3, \"5\": 6, \"6\": 3, \"4\": 1}, \"3\": {\"3\": 238, \"8\": 2}, \"8\": {\"8\": 238, \"10\": 2}, \"2\": {\"2\": 234, \"0\": 6}, \"14\": {\"14\": 240}, \"4\": {\"4\": 178, \"5\": 31, \"15\": 24, \"6\": 2, \"7\": 5}, \"6\": {\"6\": 234, \"7\": 1, \"5\": 1, \"13\": 3, \"15\": 1}, \"15\": {\"15\": 213, \"4\": 12, \"1\": 7, \"6\": 3, \"5\": 1, \"11\": 4}, \"10\": {\"10\": 229, \"0\": 5, \"8\": 3, \"13\": 3}, \"11\": {\"11\": 229, \"15\": 2, \"1\": 1, \"4\": 1, \"12\": 5, \"9\": 2}, \"13\": {\"13\": 222, \"5\": 10, \"6\": 3, \"10\": 2, \"7\": 3}, \"9\": {\"9\": 217, \"11\": 22, \"12\": 1}, \"0\": {\"2\": 15, \"0\": 214, \"10\": 11}, \"1\": {\"1\": 226, \"15\": 8, \"4\": 3, \"5\": 1, \"2\": 2}, \"12\": {\"12\": 237, \"9\": 2, \"14\": 1}, \"5\": {\"5\": 134, \"4\": 36, \"7\": 34, \"1\": 13, \"13\": 21, \"15\": 1, \"6\": 1}}, \"ORACLE.run1_32\": {\"8\": {\"8\": 218, \"5\": 3, \"13\": 2, \"0\": 13, \"14\": 3, \"3\": 1}, \"14\": {\"14\": 182, \"11\": 16, \"0\": 22, \"8\": 4, \"7\": 9, \"3\": 4, \"5\": 3}, \"2\": {\"2\": 205, \"4\": 33, \"5\": 1, \"7\": 1}, \"0\": {\"0\": 222, \"8\": 12, \"14\": 5, \"5\": 1}, \"1\": {\"1\": 240}, \"10\": {\"10\": 240}, \"11\": {\"11\": 236, \"13\": 1, \"3\": 1, \"14\": 2}, \"5\": {\"5\": 145, \"7\": 67, \"3\": 4, \"13\": 11, \"8\": 4, \"4\": 8, \"14\": 1}, \"15\": {\"15\": 240}, \"3\": {\"3\": 238, \"13\": 2}, \"12\": {\"12\": 240}, \"7\": {\"7\": 193, \"5\": 34, \"14\": 3, \"4\": 8, \"2\": 2}, \"13\": {\"13\": 211, \"3\": 9, \"4\": 14, \"14\": 1, \"8\": 2, \"5\": 2, \"7\": 1}, \"6\": {\"6\": 240}, \"4\": {\"4\": 197, \"2\": 31, \"7\": 8, \"5\": 2, \"13\": 2}, \"9\": {\"9\": 240}}, \"ORACLE.run1_26\": {\"4\": {\"4\": 217, \"7\": 4, \"8\": 8, \"14\": 8, \"0\": 2, \"10\": 1}, \"12\": {\"12\": 240}, \"10\": {\"14\": 12, \"10\": 137, \"8\": 33, \"0\": 53, \"6\": 2, \"9\": 1, \"15\": 1, \"4\": 1}, \"0\": {\"0\": 115, \"8\": 25, \"14\": 30, \"10\": 53, \"4\": 16, \"6\": 1}, \"13\": {\"5\": 24, \"13\": 212, \"2\": 2, \"9\": 2}, \"9\": {\"9\": 211, \"15\": 19, \"6\": 6, \"13\": 3, \"5\": 1}, \"3\": {\"3\": 207, \"2\": 26, \"7\": 7}, \"2\": {\"2\": 117, \"3\": 74, \"7\": 20, \"5\": 16, \"8\": 3, \"13\": 4, \"15\": 6}, \"5\": {\"5\": 227, \"2\": 3, \"15\": 1, \"13\": 9}, \"14\": {\"4\": 10, \"14\": 183, \"0\": 25, \"1\": 8, \"8\": 5, \"10\": 8, \"6\": 1}, \"8\": {\"8\": 171, \"0\": 19, \"10\": 18, \"14\": 8, \"4\": 13, \"7\": 10, \"15\": 1}, \"7\": {\"2\": 15, \"7\": 197, \"8\": 10, \"3\": 10, \"4\": 6, \"10\": 1, \"15\": 1}, \"6\": {\"6\": 227, \"15\": 9, \"10\": 2, \"9\": 2}, \"11\": {\"11\": 240}, \"15\": {\"6\": 9, \"15\": 200, \"9\": 20, \"10\": 5, \"13\": 5, \"5\": 1}, \"1\": {\"1\": 228, \"14\": 10, \"4\": 2}}, \"ORACLE.run1_44\": {\"12\": {\"12\": 232, \"1\": 8}, \"7\": {\"7\": 179, \"2\": 26, \"6\": 3, \"9\": 31, \"13\": 1}, \"5\": {\"5\": 219, \"14\": 7, \"8\": 4, \"15\": 5, \"0\": 5}, \"15\": {\"15\": 219, \"14\": 6, \"5\": 3, \"0\": 8, \"8\": 4}, \"8\": {\"0\": 102, \"8\": 131, \"15\": 6, \"14\": 1}, \"2\": {\"2\": 197, \"7\": 33, \"1\": 6, \"10\": 4}, \"13\": {\"13\": 180, \"6\": 37, \"9\": 23}, \"4\": {\"14\": 56, \"4\": 183, \"15\": 1}, \"0\": {\"8\": 80, \"0\": 155, \"15\": 4, \"5\": 1}, \"6\": {\"6\": 179, \"13\": 42, \"9\": 16, \"7\": 3}, \"9\": {\"13\": 27, \"7\": 57, \"9\": 142, \"6\": 14}, \"11\": {\"11\": 238, \"13\": 2}, \"10\": {\"10\": 210, \"12\": 3, \"1\": 18, \"2\": 4, \"7\": 5}, \"14\": {\"14\": 165, \"4\": 61, \"15\": 10, \"5\": 4}, \"1\": {\"2\": 17, \"1\": 180, \"3\": 5, \"12\": 23, \"10\": 15}, \"3\": {\"3\": 236, \"2\": 2, \"1\": 2}}}, \"per_domain_accuracy\": {\"ORACLE.run2_14\": {\"accuracy\": 0.9447916666666667, \"source?\": true}, \"ORACLE.run2_20\": {\"accuracy\": 0.9145833333333333, \"source?\": true}, \"ORACLE.run2_38\": {\"accuracy\": 0.8890625, \"source?\": true}, \"ORACLE.run2_8\": {\"accuracy\": 0.9169270833333333, \"source?\": true}, \"ORACLE.run2_50\": {\"accuracy\": 0.9315104166666667, \"source?\": true}, \"ORACLE.run2_32\": {\"accuracy\": 0.9466145833333334, \"source?\": true}, \"ORACLE.run2_26\": {\"accuracy\": 0.8270833333333333, \"source?\": true}, \"ORACLE.run2_44\": {\"accuracy\": 0.8721354166666667, \"source?\": true}, \"ORACLE.run1_14\": {\"accuracy\": 0.9125, \"source?\": false}, \"ORACLE.run1_20\": {\"accuracy\": 0.92265625, \"source?\": false}, \"ORACLE.run1_38\": {\"accuracy\": 0.9104166666666667, \"source?\": false}, \"ORACLE.run1_8\": {\"accuracy\": 0.9026041666666667, \"source?\": false}, \"ORACLE.run1_50\": {\"accuracy\": 0.9140625, \"source?\": false}, \"ORACLE.run1_32\": {\"accuracy\": 0.9080729166666667, \"source?\": false}, \"ORACLE.run1_26\": {\"accuracy\": 0.81484375, \"source?\": false}, \"ORACLE.run1_44\": {\"accuracy\": 0.79296875, \"source?\": false}}}, \"history\": {\"epoch_indices\": [1, 2, 3, 4, 5, 6, 7, 8, 9, 10, 11, 12, 13, 14, 15, 16, 17, 18], \"train_label_loss\": [0.8253959331506242, 0.9480934582251523, 0.4580557537719696, 0.3738011628539035, 0.32882928059414207, 0.2972532565920292, 0.2932089859231686, 0.2608548025574973, 0.24285837880646188, 0.2314332394495501, 0.2174999185948677, 0.2049135333112818, 0.19632890750188034, 0.18670975456206224, 0.1748260987427784, 0.1696975593812697, 0.1605409569180795, 0.1537298433076839], \"source_val_label_loss\": [64.18299865722656, 0.5068408250808716, 0.4356921911239624, 0.4560685455799103, 0.3567250072956085, 0.34427952766418457, 0.34303605556488037, 0.30793502926826477, 0.30793827772140503, 0.324872225522995, 0.2766122817993164, 0.28062933683395386, 0.2895912528038025, 0.27204006910324097, 0.29323896765708923, 0.2876351475715637, 0.31590792536735535, 0.2892810106277466], \"target_val_label_loss\": [71.86089324951172, 0.4983043670654297, 0.4398827850818634, 0.4864981770515442, 0.38895705342292786, 0.3820909559726715, 0.3857618570327759, 0.35560092329978943, 0.3750183880329132, 0.3875199854373932, 0.34844017028808594, 0.3434547781944275, 0.3543642461299896, 0.3400310277938843, 0.34282785654067993, 0.36240914463996887, 0.35616979002952576, 0.36158061027526855], \"source_val_acc_label\": [0.6420247395833333, 0.8229166666666666, 0.8443684895833333, 0.83291015625, 0.8713541666666667, 0.87705078125, 0.87744140625, 0.8873372395833333, 0.8889322916666667, 0.8829752604166666, 0.90029296875, 0.90439453125, 0.8958333333333334, 0.9053385416666667, 0.9040364583333333, 0.90146484375, 0.9067057291666667, 0.9043294270833333], \"target_val_acc_label\": [0.6380859375, 0.82119140625, 0.8418294270833333, 0.82333984375, 0.8596354166666667, 0.8658528645833333, 0.8663411458333333, 0.8743489583333334, 0.8699544270833334, 0.8626953125, 0.8797526041666667, 0.8835286458333333, 0.8777018229166667, 0.884765625, 0.88447265625, 0.8752278645833333, 0.88447265625, 0.8813151041666667]}, \"dataset_metrics\": {\"source\": {\"train\": {\"n_unique_x\": 179200, \"n_unique_y\": 16, \"n_batch/episode\": 6720}, \"val\": {\"n_unique_x\": 38400, \"n_unique_y\": 16, \"n_batch/episode\": 960}, \"test\": {\"n_unique_x\": 38400, \"n_unique_y\": 16, \"n_batch/episode\": 960}}, \"target\": {\"train\": {\"n_unique_x\": 179200, \"n_unique_y\": 16, \"n_batch/episode\": 6720}, \"val\": {\"n_unique_x\": 38400, \"n_unique_y\": 16, \"n_batch/episode\": 960}, \"test\": {\"n_unique_x\": 38400, \"n_unique_y\": 16, \"n_batch/episode\": 960}}}}'"
      ]
     },
     "execution_count": 29,
     "metadata": {},
     "output_type": "execute_result"
    }
   ],
   "source": [
    "json.dumps(experiment)"
   ]
  }
 ],
 "metadata": {
  "celltoolbar": "Tags",
  "kernelspec": {
   "display_name": "Python 3 (ipykernel)",
   "language": "python",
   "name": "python3"
  },
  "language_info": {
   "codemirror_mode": {
    "name": "ipython",
    "version": 3
   },
   "file_extension": ".py",
   "mimetype": "text/x-python",
   "name": "python",
   "nbconvert_exporter": "python",
   "pygments_lexer": "ipython3",
   "version": "3.8.12"
  },
  "papermill": {
   "default_parameters": {},
   "duration": 4906.01058,
   "end_time": "2022-03-21T08:42:00.504718",
   "environment_variables": {},
   "exception": null,
   "input_path": "/root/csc500-main/csc500-notebooks/templates/tl_ptn_template.ipynb",
   "output_path": "trial.ipynb",
   "parameters": {
    "parameters": {
     "BEST_MODEL_PATH": "./best_model.pth",
     "NUM_LOGS_PER_EPOCH": 10,
     "criteria_for_best": "target_accuracy",
     "dataset_seed": 1337,
     "datasets": [
      {
       "domain_prefix": "ORACLE.run1_",
       "domains": [
        32,
        38,
        8,
        44,
        14,
        50,
        20,
        26
       ],
       "episode_transforms": [],
       "labels": [
        "3123D52",
        "3123D65",
        "3123D79",
        "3123D80",
        "3123D54",
        "3123D70",
        "3123D7B",
        "3123D89",
        "3123D58",
        "3123D76",
        "3123D7D",
        "3123EFE",
        "3123D64",
        "3123D78",
        "3123D7E",
        "3124E4A"
       ],
       "num_examples_per_domain_per_label": 2000,
       "pickle_path": "/root/csc500-main/datasets/oracle.Run1_framed_2000Examples_stratified_ds.2022A.pkl",
       "source_or_target_dataset": "target",
       "x_transforms": [
        "unit_mag"
       ]
      },
      {
       "domain_prefix": "ORACLE.run2_",
       "domains": [
        32,
        38,
        8,
        44,
        14,
        50,
        20,
        26
       ],
       "episode_transforms": [],
       "labels": [
        "3123D52",
        "3123D65",
        "3123D79",
        "3123D80",
        "3123D54",
        "3123D70",
        "3123D7B",
        "3123D89",
        "3123D58",
        "3123D76",
        "3123D7D",
        "3123EFE",
        "3123D64",
        "3123D78",
        "3123D7E",
        "3124E4A"
       ],
       "num_examples_per_domain_per_label": 2000,
       "pickle_path": "/root/csc500-main/datasets/oracle.Run2_framed_2000Examples_stratified_ds.2022A.pkl",
       "source_or_target_dataset": "source",
       "x_transforms": [
        "unit_mag"
       ]
      }
     ],
     "device": "cuda",
     "experiment_name": "tl_1v2:oracle.run1.framed-oracle.run2.framed",
     "lr": 0.0001,
     "n_epoch": 50,
     "n_query": 2,
     "n_shot": 3,
     "n_way": 16,
     "patience": 3,
     "seed": 1337,
     "test_k_factor": 2,
     "torch_default_dtype": "torch.float32",
     "train_k_factor": 3,
     "val_k_factor": 2,
     "x_net": [
      {
       "class": "nnReshape",
       "kargs": {
        "shape": [
         -1,
         1,
         2,
         256
        ]
       }
      },
      {
       "class": "Conv2d",
       "kargs": {
        "bias": false,
        "in_channels": 1,
        "kernel_size": [
         1,
         7
        ],
        "out_channels": 256,
        "padding": [
         0,
         3
        ]
       }
      },
      {
       "class": "ReLU",
       "kargs": {
        "inplace": true
       }
      },
      {
       "class": "BatchNorm2d",
       "kargs": {
        "num_features": 256
       }
      },
      {
       "class": "Conv2d",
       "kargs": {
        "bias": true,
        "in_channels": 256,
        "kernel_size": [
         2,
         7
        ],
        "out_channels": 80,
        "padding": [
         0,
         3
        ]
       }
      },
      {
       "class": "ReLU",
       "kargs": {
        "inplace": true
       }
      },
      {
       "class": "BatchNorm2d",
       "kargs": {
        "num_features": 80
       }
      },
      {
       "class": "Flatten",
       "kargs": {}
      },
      {
       "class": "Linear",
       "kargs": {
        "in_features": 20480,
        "out_features": 256
       }
      },
      {
       "class": "ReLU",
       "kargs": {
        "inplace": true
       }
      },
      {
       "class": "BatchNorm1d",
       "kargs": {
        "num_features": 256
       }
      },
      {
       "class": "Linear",
       "kargs": {
        "in_features": 256,
        "out_features": 256
       }
      }
     ]
    }
   },
   "start_time": "2022-03-21T07:20:14.494138",
   "version": "2.3.4"
  }
 },
 "nbformat": 4,
 "nbformat_minor": 5
}