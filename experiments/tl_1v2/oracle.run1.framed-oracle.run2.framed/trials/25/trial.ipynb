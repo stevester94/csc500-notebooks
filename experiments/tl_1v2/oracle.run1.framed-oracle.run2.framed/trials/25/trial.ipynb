{
 "cells": [
  {
   "cell_type": "markdown",
   "id": "9fea5f46",
   "metadata": {
    "papermill": {
     "duration": 0.028627,
     "end_time": "2022-03-22T06:36:25.367045",
     "exception": false,
     "start_time": "2022-03-22T06:36:25.338418",
     "status": "completed"
    },
    "tags": []
   },
   "source": [
    "# Transfer Learning Template"
   ]
  },
  {
   "cell_type": "code",
   "execution_count": 1,
   "id": "0902182a",
   "metadata": {
    "execution": {
     "iopub.execute_input": "2022-03-22T06:36:25.433462Z",
     "iopub.status.busy": "2022-03-22T06:36:25.432624Z",
     "iopub.status.idle": "2022-03-22T06:36:27.905706Z",
     "shell.execute_reply": "2022-03-22T06:36:27.906390Z"
    },
    "papermill": {
     "duration": 2.510796,
     "end_time": "2022-03-22T06:36:27.906724",
     "exception": false,
     "start_time": "2022-03-22T06:36:25.395928",
     "status": "completed"
    },
    "tags": []
   },
   "outputs": [],
   "source": [
    "%load_ext autoreload\n",
    "%autoreload 2\n",
    "%matplotlib inline\n",
    "\n",
    "    \n",
    "import os, json, sys, time, random\n",
    "import numpy as np\n",
    "import torch\n",
    "from torch.optim import Adam\n",
    "from  easydict import EasyDict\n",
    "import matplotlib.pyplot as plt\n",
    "\n",
    "from steves_models.steves_ptn import Steves_Prototypical_Network\n",
    "\n",
    "from steves_utils.lazy_iterable_wrapper import Lazy_Iterable_Wrapper\n",
    "from steves_utils.iterable_aggregator import Iterable_Aggregator\n",
    "from steves_utils.ptn_train_eval_test_jig import  PTN_Train_Eval_Test_Jig\n",
    "from steves_utils.torch_sequential_builder import build_sequential\n",
    "from steves_utils.torch_utils import get_dataset_metrics, ptn_confusion_by_domain_over_dataloader\n",
    "from steves_utils.utils_v2 import (per_domain_accuracy_from_confusion, get_datasets_base_path)\n",
    "from steves_utils.PTN.utils import independent_accuracy_assesment\n",
    "\n",
    "from torch.utils.data import DataLoader\n",
    "\n",
    "from steves_utils.stratified_dataset.episodic_accessor import Episodic_Accessor_Factory\n",
    "\n",
    "from steves_utils.ptn_do_report import (\n",
    "    get_loss_curve,\n",
    "    get_results_table,\n",
    "    get_parameters_table,\n",
    "    get_domain_accuracies,\n",
    ")\n",
    "\n",
    "from steves_utils.transforms import get_chained_transform"
   ]
  },
  {
   "cell_type": "markdown",
   "id": "41c840b4",
   "metadata": {
    "papermill": {
     "duration": 0.018898,
     "end_time": "2022-03-22T06:36:27.950268",
     "exception": false,
     "start_time": "2022-03-22T06:36:27.931370",
     "status": "completed"
    },
    "tags": []
   },
   "source": [
    "# Allowed Parameters\n",
    "These are allowed parameters, not defaults\n",
    "Each of these values need to be present in the injected parameters (the notebook will raise an exception if they are not present)\n",
    "\n",
    "Papermill uses the cell tag \"parameters\" to inject the real parameters below this cell.\n",
    "Enable tags to see what I mean"
   ]
  },
  {
   "cell_type": "code",
   "execution_count": 2,
   "id": "fd44eb83",
   "metadata": {
    "execution": {
     "iopub.execute_input": "2022-03-22T06:36:27.993518Z",
     "iopub.status.busy": "2022-03-22T06:36:27.992946Z",
     "iopub.status.idle": "2022-03-22T06:36:28.015140Z",
     "shell.execute_reply": "2022-03-22T06:36:28.015842Z"
    },
    "papermill": {
     "duration": 0.046785,
     "end_time": "2022-03-22T06:36:28.016027",
     "exception": false,
     "start_time": "2022-03-22T06:36:27.969242",
     "status": "completed"
    },
    "tags": []
   },
   "outputs": [],
   "source": [
    "required_parameters = {\n",
    "    \"experiment_name\",\n",
    "    \"lr\",\n",
    "    \"device\",\n",
    "    \"seed\",\n",
    "    \"dataset_seed\",\n",
    "    \"n_shot\",\n",
    "    \"n_query\",\n",
    "    \"n_way\",\n",
    "    \"train_k_factor\",\n",
    "    \"val_k_factor\",\n",
    "    \"test_k_factor\",\n",
    "    \"n_epoch\",\n",
    "    \"patience\",\n",
    "    \"criteria_for_best\",\n",
    "    \"x_net\",\n",
    "    \"datasets\",\n",
    "    \"torch_default_dtype\",\n",
    "    \"NUM_LOGS_PER_EPOCH\",\n",
    "    \"BEST_MODEL_PATH\",\n",
    "    \"x_shape\",\n",
    "}"
   ]
  },
  {
   "cell_type": "code",
   "execution_count": 3,
   "id": "fa3f0049",
   "metadata": {
    "execution": {
     "iopub.execute_input": "2022-03-22T06:36:28.069667Z",
     "iopub.status.busy": "2022-03-22T06:36:28.064309Z",
     "iopub.status.idle": "2022-03-22T06:36:28.096139Z",
     "shell.execute_reply": "2022-03-22T06:36:28.096807Z"
    },
    "papermill": {
     "duration": 0.05501,
     "end_time": "2022-03-22T06:36:28.096986",
     "exception": false,
     "start_time": "2022-03-22T06:36:28.041976",
     "status": "completed"
    },
    "tags": [
     "parameters"
    ]
   },
   "outputs": [],
   "source": [
    "from steves_utils.CORES.utils import (\n",
    "    ALL_NODES,\n",
    "    ALL_NODES_MINIMUM_1000_EXAMPLES,\n",
    "    ALL_DAYS\n",
    ")\n",
    "\n",
    "from steves_utils.ORACLE.utils_v2 import (\n",
    "    ALL_DISTANCES_FEET_NARROWED,\n",
    "    ALL_RUNS,\n",
    "    ALL_SERIAL_NUMBERS,\n",
    ")\n",
    "\n",
    "standalone_parameters = {}\n",
    "standalone_parameters[\"experiment_name\"] = \"STANDALONE PTN\"\n",
    "standalone_parameters[\"lr\"] = 0.001\n",
    "standalone_parameters[\"device\"] = \"cuda\"\n",
    "\n",
    "standalone_parameters[\"seed\"] = 1337\n",
    "standalone_parameters[\"dataset_seed\"] = 1337\n",
    "\n",
    "standalone_parameters[\"n_way\"] = 8\n",
    "standalone_parameters[\"n_shot\"] = 3\n",
    "standalone_parameters[\"n_query\"]  = 2\n",
    "standalone_parameters[\"train_k_factor\"] = 1\n",
    "standalone_parameters[\"val_k_factor\"] = 2\n",
    "standalone_parameters[\"test_k_factor\"] = 2\n",
    "\n",
    "\n",
    "standalone_parameters[\"n_epoch\"] = 50\n",
    "\n",
    "standalone_parameters[\"patience\"] = 10\n",
    "standalone_parameters[\"criteria_for_best\"] = \"source_loss\"\n",
    "\n",
    "standalone_parameters[\"datasets\"] = [\n",
    "    {\n",
    "        \"labels\": ALL_SERIAL_NUMBERS,\n",
    "        \"domains\": ALL_DISTANCES_FEET_NARROWED,\n",
    "        \"num_examples_per_domain_per_label\": 100,\n",
    "        \"pickle_path\": os.path.join(get_datasets_base_path(), \"oracle.Run1_framed_2000Examples_stratified_ds.2022A.pkl\"),\n",
    "        \"source_or_target_dataset\": \"source\",\n",
    "        \"x_transforms\": [\"unit_mag\", \"minus_two\"],\n",
    "        \"episode_transforms\": [],\n",
    "        \"domain_prefix\": \"ORACLE_\"\n",
    "    },\n",
    "    {\n",
    "        \"labels\": ALL_NODES,\n",
    "        \"domains\": ALL_DAYS,\n",
    "        \"num_examples_per_domain_per_label\": 100,\n",
    "        \"pickle_path\": os.path.join(get_datasets_base_path(), \"cores.stratified_ds.2022A.pkl\"),\n",
    "        \"source_or_target_dataset\": \"target\",\n",
    "        \"x_transforms\": [\"unit_power\", \"times_zero\"],\n",
    "        \"episode_transforms\": [],\n",
    "        \"domain_prefix\": \"CORES_\"\n",
    "    }   \n",
    "]\n",
    "\n",
    "standalone_parameters[\"torch_default_dtype\"] = \"torch.float32\" \n",
    "\n",
    "\n",
    "\n",
    "standalone_parameters[\"x_net\"] =     [\n",
    "    {\"class\": \"nnReshape\", \"kargs\": {\"shape\":[-1, 1, 2, 256]}},\n",
    "    {\"class\": \"Conv2d\", \"kargs\": { \"in_channels\":1, \"out_channels\":256, \"kernel_size\":(1,7), \"bias\":False, \"padding\":(0,3), },},\n",
    "    {\"class\": \"ReLU\", \"kargs\": {\"inplace\": True}},\n",
    "    {\"class\": \"BatchNorm2d\", \"kargs\": {\"num_features\":256}},\n",
    "\n",
    "    {\"class\": \"Conv2d\", \"kargs\": { \"in_channels\":256, \"out_channels\":80, \"kernel_size\":(2,7), \"bias\":True, \"padding\":(0,3), },},\n",
    "    {\"class\": \"ReLU\", \"kargs\": {\"inplace\": True}},\n",
    "    {\"class\": \"BatchNorm2d\", \"kargs\": {\"num_features\":80}},\n",
    "    {\"class\": \"Flatten\", \"kargs\": {}},\n",
    "\n",
    "    {\"class\": \"Linear\", \"kargs\": {\"in_features\": 80*256, \"out_features\": 256}}, # 80 units per IQ pair\n",
    "    {\"class\": \"ReLU\", \"kargs\": {\"inplace\": True}},\n",
    "    {\"class\": \"BatchNorm1d\", \"kargs\": {\"num_features\":256}},\n",
    "\n",
    "    {\"class\": \"Linear\", \"kargs\": {\"in_features\": 256, \"out_features\": 256}},\n",
    "]\n",
    "\n",
    "# Parameters relevant to results\n",
    "# These parameters will basically never need to change\n",
    "standalone_parameters[\"NUM_LOGS_PER_EPOCH\"] = 10\n",
    "standalone_parameters[\"BEST_MODEL_PATH\"] = \"./best_model.pth\"\n",
    "\n",
    "\n",
    "\n",
    "\n"
   ]
  },
  {
   "cell_type": "code",
   "execution_count": 4,
   "id": "7e732b5a",
   "metadata": {
    "execution": {
     "iopub.execute_input": "2022-03-22T06:36:28.159978Z",
     "iopub.status.busy": "2022-03-22T06:36:28.155948Z",
     "iopub.status.idle": "2022-03-22T06:36:28.175450Z",
     "shell.execute_reply": "2022-03-22T06:36:28.174746Z"
    },
    "papermill": {
     "duration": 0.051445,
     "end_time": "2022-03-22T06:36:28.175636",
     "exception": false,
     "start_time": "2022-03-22T06:36:28.124191",
     "status": "completed"
    },
    "tags": [
     "injected-parameters"
    ]
   },
   "outputs": [],
   "source": [
    "# Parameters\n",
    "parameters = {\n",
    "    \"experiment_name\": \"tl_1v2:oracle.run1.framed-oracle.run2.framed\",\n",
    "    \"device\": \"cuda\",\n",
    "    \"lr\": 0.0001,\n",
    "    \"n_shot\": 3,\n",
    "    \"n_query\": 2,\n",
    "    \"train_k_factor\": 3,\n",
    "    \"val_k_factor\": 2,\n",
    "    \"test_k_factor\": 2,\n",
    "    \"torch_default_dtype\": \"torch.float32\",\n",
    "    \"n_epoch\": 50,\n",
    "    \"patience\": 3,\n",
    "    \"criteria_for_best\": \"target_accuracy\",\n",
    "    \"x_net\": [\n",
    "        {\"class\": \"nnReshape\", \"kargs\": {\"shape\": [-1, 1, 2, 256]}},\n",
    "        {\n",
    "            \"class\": \"Conv2d\",\n",
    "            \"kargs\": {\n",
    "                \"in_channels\": 1,\n",
    "                \"out_channels\": 256,\n",
    "                \"kernel_size\": [1, 7],\n",
    "                \"bias\": False,\n",
    "                \"padding\": [0, 3],\n",
    "            },\n",
    "        },\n",
    "        {\"class\": \"ReLU\", \"kargs\": {\"inplace\": True}},\n",
    "        {\"class\": \"BatchNorm2d\", \"kargs\": {\"num_features\": 256}},\n",
    "        {\n",
    "            \"class\": \"Conv2d\",\n",
    "            \"kargs\": {\n",
    "                \"in_channels\": 256,\n",
    "                \"out_channels\": 80,\n",
    "                \"kernel_size\": [2, 7],\n",
    "                \"bias\": True,\n",
    "                \"padding\": [0, 3],\n",
    "            },\n",
    "        },\n",
    "        {\"class\": \"ReLU\", \"kargs\": {\"inplace\": True}},\n",
    "        {\"class\": \"BatchNorm2d\", \"kargs\": {\"num_features\": 80}},\n",
    "        {\"class\": \"Flatten\", \"kargs\": {}},\n",
    "        {\"class\": \"Linear\", \"kargs\": {\"in_features\": 20480, \"out_features\": 256}},\n",
    "        {\"class\": \"ReLU\", \"kargs\": {\"inplace\": True}},\n",
    "        {\"class\": \"BatchNorm1d\", \"kargs\": {\"num_features\": 256}},\n",
    "        {\"class\": \"Linear\", \"kargs\": {\"in_features\": 256, \"out_features\": 256}},\n",
    "    ],\n",
    "    \"NUM_LOGS_PER_EPOCH\": 10,\n",
    "    \"BEST_MODEL_PATH\": \"./best_model.pth\",\n",
    "    \"n_way\": 16,\n",
    "    \"datasets\": [\n",
    "        {\n",
    "            \"labels\": [\n",
    "                \"3123D52\",\n",
    "                \"3123D65\",\n",
    "                \"3123D79\",\n",
    "                \"3123D80\",\n",
    "                \"3123D54\",\n",
    "                \"3123D70\",\n",
    "                \"3123D7B\",\n",
    "                \"3123D89\",\n",
    "                \"3123D58\",\n",
    "                \"3123D76\",\n",
    "                \"3123D7D\",\n",
    "                \"3123EFE\",\n",
    "                \"3123D64\",\n",
    "                \"3123D78\",\n",
    "                \"3123D7E\",\n",
    "                \"3124E4A\",\n",
    "            ],\n",
    "            \"domains\": [32, 38, 8, 44, 14, 50, 20, 26],\n",
    "            \"num_examples_per_domain_per_label\": 2000,\n",
    "            \"pickle_path\": \"/root/csc500-main/datasets/oracle.Run1_framed_2000Examples_stratified_ds.2022A.pkl\",\n",
    "            \"source_or_target_dataset\": \"source\",\n",
    "            \"x_transforms\": [\"unit_mag\"],\n",
    "            \"episode_transforms\": [],\n",
    "            \"domain_prefix\": \"ORACLE.run1_\",\n",
    "        },\n",
    "        {\n",
    "            \"labels\": [\n",
    "                \"3123D52\",\n",
    "                \"3123D65\",\n",
    "                \"3123D79\",\n",
    "                \"3123D80\",\n",
    "                \"3123D54\",\n",
    "                \"3123D70\",\n",
    "                \"3123D7B\",\n",
    "                \"3123D89\",\n",
    "                \"3123D58\",\n",
    "                \"3123D76\",\n",
    "                \"3123D7D\",\n",
    "                \"3123EFE\",\n",
    "                \"3123D64\",\n",
    "                \"3123D78\",\n",
    "                \"3123D7E\",\n",
    "                \"3124E4A\",\n",
    "            ],\n",
    "            \"domains\": [32, 38, 8, 44, 14, 50, 20, 26],\n",
    "            \"num_examples_per_domain_per_label\": 2000,\n",
    "            \"pickle_path\": \"/root/csc500-main/datasets/oracle.Run2_framed_2000Examples_stratified_ds.2022A.pkl\",\n",
    "            \"source_or_target_dataset\": \"target\",\n",
    "            \"x_transforms\": [\"unit_mag\"],\n",
    "            \"episode_transforms\": [],\n",
    "            \"domain_prefix\": \"ORACLE.run2_\",\n",
    "        },\n",
    "    ],\n",
    "    \"dataset_seed\": 500,\n",
    "    \"seed\": 500,\n",
    "}\n"
   ]
  },
  {
   "cell_type": "code",
   "execution_count": 5,
   "id": "8fa1cc33",
   "metadata": {
    "execution": {
     "iopub.execute_input": "2022-03-22T06:36:28.228902Z",
     "iopub.status.busy": "2022-03-22T06:36:28.227790Z",
     "iopub.status.idle": "2022-03-22T06:36:28.248413Z",
     "shell.execute_reply": "2022-03-22T06:36:28.249081Z"
    },
    "papermill": {
     "duration": 0.047368,
     "end_time": "2022-03-22T06:36:28.249261",
     "exception": false,
     "start_time": "2022-03-22T06:36:28.201893",
     "status": "completed"
    },
    "tags": []
   },
   "outputs": [],
   "source": [
    "# Set this to True if you want to run this template directly\n",
    "STANDALONE = False\n",
    "if STANDALONE:\n",
    "    print(\"parameters not injected, running with standalone_parameters\")\n",
    "    parameters = standalone_parameters\n",
    "\n",
    "if not 'parameters' in locals() and not 'parameters' in globals():\n",
    "    raise Exception(\"Parameter injection failed\")\n",
    "\n",
    "#Use an easy dict for all the parameters\n",
    "p = EasyDict(parameters)\n",
    "\n",
    "if \"x_shape\" not in p:\n",
    "    p.x_shape = [2,256] # Default to this if we dont supply x_shape\n",
    "\n",
    "\n",
    "supplied_keys = set(p.keys())\n",
    "\n",
    "if  supplied_keys != required_parameters:\n",
    "    print(\"Parameters are incorrect\")\n",
    "    if len(supplied_keys - required_parameters)>0: print(\"Shouldn't have:\", str(supplied_keys - required_parameters))\n",
    "    if len(required_parameters - supplied_keys)>0: print(\"Need to have:\", str(required_parameters - supplied_keys))\n",
    "    raise RuntimeError(\"Parameters are incorrect\")"
   ]
  },
  {
   "cell_type": "code",
   "execution_count": 6,
   "id": "3a028d58",
   "metadata": {
    "execution": {
     "iopub.execute_input": "2022-03-22T06:36:28.304344Z",
     "iopub.status.busy": "2022-03-22T06:36:28.303515Z",
     "iopub.status.idle": "2022-03-22T06:36:28.318783Z",
     "shell.execute_reply": "2022-03-22T06:36:28.319416Z"
    },
    "papermill": {
     "duration": 0.045,
     "end_time": "2022-03-22T06:36:28.319618",
     "exception": false,
     "start_time": "2022-03-22T06:36:28.274618",
     "status": "completed"
    },
    "tags": []
   },
   "outputs": [],
   "source": [
    "###################################\n",
    "# Set the RNGs and make it all deterministic\n",
    "###################################\n",
    "np.random.seed(p.seed)\n",
    "random.seed(p.seed)\n",
    "torch.manual_seed(p.seed)\n",
    "\n",
    "torch.use_deterministic_algorithms(True) "
   ]
  },
  {
   "cell_type": "code",
   "execution_count": 7,
   "id": "b691acf6",
   "metadata": {
    "execution": {
     "iopub.execute_input": "2022-03-22T06:36:28.367809Z",
     "iopub.status.busy": "2022-03-22T06:36:28.366856Z",
     "iopub.status.idle": "2022-03-22T06:36:28.389383Z",
     "shell.execute_reply": "2022-03-22T06:36:28.388582Z"
    },
    "papermill": {
     "duration": 0.045607,
     "end_time": "2022-03-22T06:36:28.389536",
     "exception": false,
     "start_time": "2022-03-22T06:36:28.343929",
     "status": "completed"
    },
    "tags": []
   },
   "outputs": [],
   "source": [
    "###########################################\n",
    "# The stratified datasets honor this\n",
    "###########################################\n",
    "torch.set_default_dtype(eval(p.torch_default_dtype))"
   ]
  },
  {
   "cell_type": "code",
   "execution_count": 8,
   "id": "b5fba671",
   "metadata": {
    "execution": {
     "iopub.execute_input": "2022-03-22T06:36:28.437560Z",
     "iopub.status.busy": "2022-03-22T06:36:28.437199Z",
     "iopub.status.idle": "2022-03-22T06:36:28.488296Z",
     "shell.execute_reply": "2022-03-22T06:36:28.487468Z"
    },
    "papermill": {
     "duration": 0.073433,
     "end_time": "2022-03-22T06:36:28.488450",
     "exception": false,
     "start_time": "2022-03-22T06:36:28.415017",
     "status": "completed"
    },
    "tags": []
   },
   "outputs": [],
   "source": [
    "###################################\n",
    "# Build the network(s)\n",
    "# Note: It's critical to do this AFTER setting the RNG\n",
    "###################################\n",
    "x_net = build_sequential(p.x_net)"
   ]
  },
  {
   "cell_type": "code",
   "execution_count": 9,
   "id": "5d7e61cc",
   "metadata": {
    "execution": {
     "iopub.execute_input": "2022-03-22T06:36:28.538110Z",
     "iopub.status.busy": "2022-03-22T06:36:28.537563Z",
     "iopub.status.idle": "2022-03-22T06:36:28.564600Z",
     "shell.execute_reply": "2022-03-22T06:36:28.565261Z"
    },
    "papermill": {
     "duration": 0.051462,
     "end_time": "2022-03-22T06:36:28.565439",
     "exception": false,
     "start_time": "2022-03-22T06:36:28.513977",
     "status": "completed"
    },
    "tags": []
   },
   "outputs": [],
   "source": [
    "start_time_secs = time.time()"
   ]
  },
  {
   "cell_type": "code",
   "execution_count": 10,
   "id": "c6b67dfd",
   "metadata": {
    "execution": {
     "iopub.execute_input": "2022-03-22T06:36:28.617136Z",
     "iopub.status.busy": "2022-03-22T06:36:28.616775Z",
     "iopub.status.idle": "2022-03-22T06:36:28.642028Z",
     "shell.execute_reply": "2022-03-22T06:36:28.641335Z"
    },
    "papermill": {
     "duration": 0.04925,
     "end_time": "2022-03-22T06:36:28.642181",
     "exception": false,
     "start_time": "2022-03-22T06:36:28.592931",
     "status": "completed"
    },
    "tags": []
   },
   "outputs": [],
   "source": [
    "p.domains_source = []\n",
    "p.domains_target = []\n",
    "\n",
    "\n",
    "train_original_source = []\n",
    "val_original_source   = []\n",
    "test_original_source  = []\n",
    "\n",
    "train_original_target = []\n",
    "val_original_target   = []\n",
    "test_original_target  = []"
   ]
  },
  {
   "cell_type": "code",
   "execution_count": 11,
   "id": "e3d9c3d3",
   "metadata": {
    "execution": {
     "iopub.execute_input": "2022-03-22T06:36:28.692425Z",
     "iopub.status.busy": "2022-03-22T06:36:28.692067Z",
     "iopub.status.idle": "2022-03-22T06:36:28.718754Z",
     "shell.execute_reply": "2022-03-22T06:36:28.717957Z"
    },
    "papermill": {
     "duration": 0.049488,
     "end_time": "2022-03-22T06:36:28.718908",
     "exception": false,
     "start_time": "2022-03-22T06:36:28.669420",
     "status": "completed"
    },
    "tags": []
   },
   "outputs": [],
   "source": [
    "# global_x_transform_func = lambda x: normalize(x.to(torch.get_default_dtype()), \"unit_power\") # unit_power, unit_mag\n",
    "# global_x_transform_func = lambda x: normalize(x, \"unit_power\") # unit_power, unit_mag"
   ]
  },
  {
   "cell_type": "code",
   "execution_count": 12,
   "id": "acb78fd2",
   "metadata": {
    "execution": {
     "iopub.execute_input": "2022-03-22T06:36:28.778801Z",
     "iopub.status.busy": "2022-03-22T06:36:28.778226Z",
     "iopub.status.idle": "2022-03-22T06:36:28.797422Z",
     "shell.execute_reply": "2022-03-22T06:36:28.796621Z"
    },
    "papermill": {
     "duration": 0.051411,
     "end_time": "2022-03-22T06:36:28.797577",
     "exception": false,
     "start_time": "2022-03-22T06:36:28.746166",
     "status": "completed"
    },
    "tags": []
   },
   "outputs": [],
   "source": [
    "def add_dataset(\n",
    "    labels,\n",
    "    domains,\n",
    "    pickle_path,\n",
    "    x_transforms,\n",
    "    episode_transforms,\n",
    "    domain_prefix,\n",
    "    num_examples_per_domain_per_label,\n",
    "    source_or_target_dataset:str,\n",
    "    iterator_seed=p.seed,\n",
    "    dataset_seed=p.dataset_seed,\n",
    "    n_shot=p.n_shot,\n",
    "    n_way=p.n_way,\n",
    "    n_query=p.n_query,\n",
    "    train_val_test_k_factors=(p.train_k_factor,p.val_k_factor,p.test_k_factor),\n",
    "):\n",
    "   \n",
    "    if x_transforms == []: x_transform = None\n",
    "    else: x_transform = get_chained_transform(x_transforms)\n",
    "    \n",
    "    if episode_transforms == []: episode_transform = None\n",
    "    else: raise Exception(\"episode_transforms not implemented\")\n",
    "    \n",
    "    episode_transform = lambda tup, _prefix=domain_prefix: (_prefix + str(tup[0]), tup[1])\n",
    "\n",
    "\n",
    "    eaf = Episodic_Accessor_Factory(\n",
    "        labels=labels,\n",
    "        domains=domains,\n",
    "        num_examples_per_domain_per_label=num_examples_per_domain_per_label,\n",
    "        iterator_seed=iterator_seed,\n",
    "        dataset_seed=dataset_seed,\n",
    "        n_shot=n_shot,\n",
    "        n_way=n_way,\n",
    "        n_query=n_query,\n",
    "        train_val_test_k_factors=train_val_test_k_factors,\n",
    "        pickle_path=pickle_path,\n",
    "        x_transform_func=x_transform,\n",
    "    )\n",
    "\n",
    "    train, val, test = eaf.get_train(), eaf.get_val(), eaf.get_test()\n",
    "    train = Lazy_Iterable_Wrapper(train, episode_transform)\n",
    "    val = Lazy_Iterable_Wrapper(val, episode_transform)\n",
    "    test = Lazy_Iterable_Wrapper(test, episode_transform)\n",
    "\n",
    "    if source_or_target_dataset==\"source\":\n",
    "        train_original_source.append(train)\n",
    "        val_original_source.append(val)\n",
    "        test_original_source.append(test)\n",
    "\n",
    "        p.domains_source.extend(\n",
    "            [domain_prefix + str(u) for u in domains]\n",
    "        )\n",
    "    elif source_or_target_dataset==\"target\":\n",
    "        train_original_target.append(train)\n",
    "        val_original_target.append(val)\n",
    "        test_original_target.append(test)\n",
    "        p.domains_target.extend(\n",
    "            [domain_prefix + str(u) for u in domains]\n",
    "        )\n",
    "    else:\n",
    "        raise Exception(f\"invalid source_or_target_dataset: {source_or_target_dataset}\")\n",
    "    "
   ]
  },
  {
   "cell_type": "code",
   "execution_count": 13,
   "id": "fe266617",
   "metadata": {
    "execution": {
     "iopub.execute_input": "2022-03-22T06:36:28.848115Z",
     "iopub.status.busy": "2022-03-22T06:36:28.847373Z",
     "iopub.status.idle": "2022-03-22T06:37:12.376279Z",
     "shell.execute_reply": "2022-03-22T06:37:12.375486Z"
    },
    "papermill": {
     "duration": 43.553,
     "end_time": "2022-03-22T06:37:12.376463",
     "exception": false,
     "start_time": "2022-03-22T06:36:28.823463",
     "status": "completed"
    },
    "tags": []
   },
   "outputs": [],
   "source": [
    "for ds in p.datasets:\n",
    "    add_dataset(**ds)"
   ]
  },
  {
   "cell_type": "code",
   "execution_count": 14,
   "id": "b90d65ac",
   "metadata": {
    "execution": {
     "iopub.execute_input": "2022-03-22T06:37:12.425082Z",
     "iopub.status.busy": "2022-03-22T06:37:12.424266Z",
     "iopub.status.idle": "2022-03-22T06:37:12.447153Z",
     "shell.execute_reply": "2022-03-22T06:37:12.446369Z"
    },
    "papermill": {
     "duration": 0.045724,
     "end_time": "2022-03-22T06:37:12.447307",
     "exception": false,
     "start_time": "2022-03-22T06:37:12.401583",
     "status": "completed"
    },
    "tags": []
   },
   "outputs": [],
   "source": [
    "# from steves_utils.CORES.utils import (\n",
    "#     ALL_NODES,\n",
    "#     ALL_NODES_MINIMUM_1000_EXAMPLES,\n",
    "#     ALL_DAYS\n",
    "# )\n",
    "\n",
    "# add_dataset(\n",
    "#     labels=ALL_NODES,\n",
    "#     domains = ALL_DAYS,\n",
    "#     num_examples_per_domain_per_label=100,\n",
    "#     pickle_path=os.path.join(get_datasets_base_path(), \"cores.stratified_ds.2022A.pkl\"),\n",
    "#     source_or_target_dataset=\"target\",\n",
    "#     x_transform_func=global_x_transform_func,\n",
    "#     domain_modifier=lambda u: f\"cores_{u}\"\n",
    "# )"
   ]
  },
  {
   "cell_type": "code",
   "execution_count": 15,
   "id": "76db484d",
   "metadata": {
    "execution": {
     "iopub.execute_input": "2022-03-22T06:37:12.506699Z",
     "iopub.status.busy": "2022-03-22T06:37:12.506145Z",
     "iopub.status.idle": "2022-03-22T06:37:12.519601Z",
     "shell.execute_reply": "2022-03-22T06:37:12.518778Z"
    },
    "papermill": {
     "duration": 0.043537,
     "end_time": "2022-03-22T06:37:12.519757",
     "exception": false,
     "start_time": "2022-03-22T06:37:12.476220",
     "status": "completed"
    },
    "tags": []
   },
   "outputs": [],
   "source": [
    "# from steves_utils.ORACLE.utils_v2 import (\n",
    "#     ALL_DISTANCES_FEET,\n",
    "#     ALL_RUNS,\n",
    "#     ALL_SERIAL_NUMBERS,\n",
    "# )\n",
    "\n",
    "\n",
    "# add_dataset(\n",
    "#     labels=ALL_SERIAL_NUMBERS,\n",
    "#     domains = list(set(ALL_DISTANCES_FEET) - {2,62}),\n",
    "#     num_examples_per_domain_per_label=100,\n",
    "#     pickle_path=os.path.join(get_datasets_base_path(), \"oracle.Run2_framed_2000Examples_stratified_ds.2022A.pkl\"),\n",
    "#     source_or_target_dataset=\"source\",\n",
    "#     x_transform_func=global_x_transform_func,\n",
    "#     domain_modifier=lambda u: f\"oracle1_{u}\"\n",
    "# )\n"
   ]
  },
  {
   "cell_type": "code",
   "execution_count": 16,
   "id": "97dea9d2",
   "metadata": {
    "execution": {
     "iopub.execute_input": "2022-03-22T06:37:12.567140Z",
     "iopub.status.busy": "2022-03-22T06:37:12.566778Z",
     "iopub.status.idle": "2022-03-22T06:37:12.583397Z",
     "shell.execute_reply": "2022-03-22T06:37:12.582703Z"
    },
    "papermill": {
     "duration": 0.039029,
     "end_time": "2022-03-22T06:37:12.583562",
     "exception": false,
     "start_time": "2022-03-22T06:37:12.544533",
     "status": "completed"
    },
    "tags": []
   },
   "outputs": [],
   "source": [
    "# from steves_utils.ORACLE.utils_v2 import (\n",
    "#     ALL_DISTANCES_FEET,\n",
    "#     ALL_RUNS,\n",
    "#     ALL_SERIAL_NUMBERS,\n",
    "# )\n",
    "\n",
    "\n",
    "# add_dataset(\n",
    "#     labels=ALL_SERIAL_NUMBERS,\n",
    "#     domains = list(set(ALL_DISTANCES_FEET) - {2,62,56}),\n",
    "#     num_examples_per_domain_per_label=100,\n",
    "#     pickle_path=os.path.join(get_datasets_base_path(), \"oracle.Run2_framed_2000Examples_stratified_ds.2022A.pkl\"),\n",
    "#     source_or_target_dataset=\"source\",\n",
    "#     x_transform_func=global_x_transform_func,\n",
    "#     domain_modifier=lambda u: f\"oracle2_{u}\"\n",
    "# )"
   ]
  },
  {
   "cell_type": "code",
   "execution_count": 17,
   "id": "6f289866",
   "metadata": {
    "execution": {
     "iopub.execute_input": "2022-03-22T06:37:12.635770Z",
     "iopub.status.busy": "2022-03-22T06:37:12.635400Z",
     "iopub.status.idle": "2022-03-22T06:37:12.655471Z",
     "shell.execute_reply": "2022-03-22T06:37:12.654777Z"
    },
    "papermill": {
     "duration": 0.043042,
     "end_time": "2022-03-22T06:37:12.655638",
     "exception": false,
     "start_time": "2022-03-22T06:37:12.612596",
     "status": "completed"
    },
    "tags": []
   },
   "outputs": [],
   "source": [
    "# add_dataset(\n",
    "#     labels=list(range(19)),\n",
    "#     domains = [0,1,2],\n",
    "#     num_examples_per_domain_per_label=100,\n",
    "#     pickle_path=os.path.join(get_datasets_base_path(), \"metehan.stratified_ds.2022A.pkl\"),\n",
    "#     source_or_target_dataset=\"target\",\n",
    "#     x_transform_func=global_x_transform_func,\n",
    "#     domain_modifier=lambda u: f\"met_{u}\"\n",
    "# )"
   ]
  },
  {
   "cell_type": "code",
   "execution_count": 18,
   "id": "86a863c3",
   "metadata": {
    "execution": {
     "iopub.execute_input": "2022-03-22T06:37:12.709138Z",
     "iopub.status.busy": "2022-03-22T06:37:12.708589Z",
     "iopub.status.idle": "2022-03-22T06:37:12.729673Z",
     "shell.execute_reply": "2022-03-22T06:37:12.728984Z"
    },
    "papermill": {
     "duration": 0.044948,
     "end_time": "2022-03-22T06:37:12.729825",
     "exception": false,
     "start_time": "2022-03-22T06:37:12.684877",
     "status": "completed"
    },
    "tags": []
   },
   "outputs": [],
   "source": [
    "# # from steves_utils.wisig.utils import (\n",
    "# #     ALL_NODES_MINIMUM_100_EXAMPLES,\n",
    "# #     ALL_NODES_MINIMUM_500_EXAMPLES,\n",
    "# #     ALL_NODES_MINIMUM_1000_EXAMPLES,\n",
    "# #     ALL_DAYS\n",
    "# # )\n",
    "\n",
    "# import steves_utils.wisig.utils as wisig\n",
    "\n",
    "\n",
    "# add_dataset(\n",
    "#     labels=wisig.ALL_NODES_MINIMUM_100_EXAMPLES,\n",
    "#     domains = wisig.ALL_DAYS,\n",
    "#     num_examples_per_domain_per_label=100,\n",
    "#     pickle_path=os.path.join(get_datasets_base_path(), \"wisig.node3-19.stratified_ds.2022A.pkl\"),\n",
    "#     source_or_target_dataset=\"target\",\n",
    "#     x_transform_func=global_x_transform_func,\n",
    "#     domain_modifier=lambda u: f\"wisig_{u}\"\n",
    "# )"
   ]
  },
  {
   "cell_type": "code",
   "execution_count": 19,
   "id": "fd5442bc",
   "metadata": {
    "execution": {
     "iopub.execute_input": "2022-03-22T06:37:12.784244Z",
     "iopub.status.busy": "2022-03-22T06:37:12.783873Z",
     "iopub.status.idle": "2022-03-22T06:37:12.804768Z",
     "shell.execute_reply": "2022-03-22T06:37:12.803974Z"
    },
    "papermill": {
     "duration": 0.049058,
     "end_time": "2022-03-22T06:37:12.804920",
     "exception": false,
     "start_time": "2022-03-22T06:37:12.755862",
     "status": "completed"
    },
    "tags": []
   },
   "outputs": [],
   "source": [
    "###################################\n",
    "# Build the dataset\n",
    "###################################\n",
    "train_original_source = Iterable_Aggregator(train_original_source, p.seed)\n",
    "val_original_source = Iterable_Aggregator(val_original_source, p.seed)\n",
    "test_original_source = Iterable_Aggregator(test_original_source, p.seed)\n",
    "\n",
    "\n",
    "train_original_target = Iterable_Aggregator(train_original_target, p.seed)\n",
    "val_original_target = Iterable_Aggregator(val_original_target, p.seed)\n",
    "test_original_target = Iterable_Aggregator(test_original_target, p.seed)\n",
    "\n",
    "# For CNN We only use X and Y. And we only train on the source.\n",
    "# Properly form the data using a transform lambda and Lazy_Iterable_Wrapper. Finally wrap them in a dataloader\n",
    "\n",
    "transform_lambda = lambda ex: ex[1] # Original is (<domain>, <episode>) so we strip down to episode only\n",
    "\n",
    "train_processed_source = Lazy_Iterable_Wrapper(train_original_source, transform_lambda)\n",
    "val_processed_source   = Lazy_Iterable_Wrapper(val_original_source, transform_lambda)\n",
    "test_processed_source  = Lazy_Iterable_Wrapper(test_original_source, transform_lambda)\n",
    "\n",
    "train_processed_target = Lazy_Iterable_Wrapper(train_original_target, transform_lambda)\n",
    "val_processed_target   = Lazy_Iterable_Wrapper(val_original_target, transform_lambda)\n",
    "test_processed_target  = Lazy_Iterable_Wrapper(test_original_target, transform_lambda)\n",
    "\n",
    "datasets = EasyDict({\n",
    "    \"source\": {\n",
    "        \"original\": {\"train\":train_original_source, \"val\":val_original_source, \"test\":test_original_source},\n",
    "        \"processed\": {\"train\":train_processed_source, \"val\":val_processed_source, \"test\":test_processed_source}\n",
    "    },\n",
    "    \"target\": {\n",
    "        \"original\": {\"train\":train_original_target, \"val\":val_original_target, \"test\":test_original_target},\n",
    "        \"processed\": {\"train\":train_processed_target, \"val\":val_processed_target, \"test\":test_processed_target}\n",
    "    },\n",
    "})"
   ]
  },
  {
   "cell_type": "code",
   "execution_count": 20,
   "id": "5b3c01fc",
   "metadata": {
    "execution": {
     "iopub.execute_input": "2022-03-22T06:37:12.859445Z",
     "iopub.status.busy": "2022-03-22T06:37:12.859078Z",
     "iopub.status.idle": "2022-03-22T06:37:29.656047Z",
     "shell.execute_reply": "2022-03-22T06:37:29.656976Z"
    },
    "papermill": {
     "duration": 16.823707,
     "end_time": "2022-03-22T06:37:29.657245",
     "exception": false,
     "start_time": "2022-03-22T06:37:12.833538",
     "status": "completed"
    },
    "tags": []
   },
   "outputs": [
    {
     "name": "stdout",
     "output_type": "stream",
     "text": [
      "{'ORACLE.run1_20', 'ORACLE.run1_32', 'ORACLE.run1_8', 'ORACLE.run1_14', 'ORACLE.run1_38', 'ORACLE.run1_26', 'ORACLE.run1_44', 'ORACLE.run1_50'}\n"
     ]
    },
    {
     "name": "stdout",
     "output_type": "stream",
     "text": [
      "{'ORACLE.run2_32', 'ORACLE.run2_38', 'ORACLE.run2_20', 'ORACLE.run2_26', 'ORACLE.run2_44', 'ORACLE.run2_14', 'ORACLE.run2_8', 'ORACLE.run2_50'}\n"
     ]
    },
    {
     "name": "stdout",
     "output_type": "stream",
     "text": [
      "tensor([[[ 0.5430,  0.9459, -0.9634,  ..., -0.7357,  0.5080, -0.8058],\n",
      "         [-0.4204,  0.3854,  0.1226,  ..., -0.4204, -1.1386, -0.9284]],\n",
      "\n",
      "        [[ 0.1073,  1.2338, -0.4828,  ..., -0.9477,  0.3576, -0.9835],\n",
      "         [-0.6795,  0.0894,  0.5901,  ..., -0.1073, -1.0729, -0.6080]],\n",
      "\n",
      "        [[-1.0279,  0.4508,  1.4246,  ..., -0.5049,  0.1984,  1.2623],\n",
      "         [-0.3066, -0.2525,  0.0361,  ...,  1.1722,  1.0459,  0.1803]],\n",
      "\n",
      "        ...,\n",
      "\n",
      "        [[-0.3467,  0.2836,  0.3782,  ..., -0.4412, -1.4339, -1.0242],\n",
      "         [-0.2836, -1.1345,  0.5988,  ...,  0.9770, -0.5673,  0.3624]],\n",
      "\n",
      "        [[ 0.5706, -0.4935, -0.6014,  ...,  0.2776,  1.3416,  0.6477],\n",
      "         [ 0.9098,  0.9252, -1.0486,  ..., -0.7710,  0.4163, -0.9561]],\n",
      "\n",
      "        [[ 0.4556, -0.7542, -0.5656,  ...,  0.8956,  1.0841,  0.3928],\n",
      "         [ 1.0684,  0.8013, -1.1627,  ..., -0.4871,  0.4714, -1.2098]]])\n"
     ]
    }
   ],
   "source": [
    "from steves_utils.transforms import get_average_magnitude, get_average_power\n",
    "\n",
    "print(set([u for u,_ in val_original_source]))\n",
    "print(set([u for u,_ in val_original_target]))\n",
    "\n",
    "s_x, s_y, q_x, q_y, _ = next(iter(train_processed_source))\n",
    "print(s_x)\n",
    "\n",
    "# for ds in [\n",
    "#     train_processed_source,\n",
    "#     val_processed_source,\n",
    "#     test_processed_source,\n",
    "#     train_processed_target,\n",
    "#     val_processed_target,\n",
    "#     test_processed_target\n",
    "# ]:\n",
    "#     for s_x, s_y, q_x, q_y, _ in ds:\n",
    "#         for X in (s_x, q_x):\n",
    "#             for x in X:\n",
    "#                 assert np.isclose(get_average_magnitude(x.numpy()), 1.0)\n",
    "#                 assert np.isclose(get_average_power(x.numpy()), 1.0)\n",
    "                "
   ]
  },
  {
   "cell_type": "code",
   "execution_count": 21,
   "id": "bbdacba1",
   "metadata": {
    "execution": {
     "iopub.execute_input": "2022-03-22T06:37:29.725359Z",
     "iopub.status.busy": "2022-03-22T06:37:29.724717Z",
     "iopub.status.idle": "2022-03-22T06:37:29.880947Z",
     "shell.execute_reply": "2022-03-22T06:37:29.881269Z"
    },
    "papermill": {
     "duration": 0.193317,
     "end_time": "2022-03-22T06:37:29.881411",
     "exception": false,
     "start_time": "2022-03-22T06:37:29.688094",
     "status": "completed"
    },
    "tags": []
   },
   "outputs": [
    {
     "name": "stdout",
     "output_type": "stream",
     "text": [
      "(2, 256)\n"
     ]
    }
   ],
   "source": [
    "###################################\n",
    "# Build the model\n",
    "###################################\n",
    "# easfsl only wants a tuple for the shape\n",
    "model = Steves_Prototypical_Network(x_net, device=p.device, x_shape=tuple(p.x_shape))\n",
    "optimizer = Adam(params=model.parameters(), lr=p.lr)"
   ]
  },
  {
   "cell_type": "code",
   "execution_count": 22,
   "id": "22b39ac5",
   "metadata": {
    "execution": {
     "iopub.execute_input": "2022-03-22T06:37:29.946965Z",
     "iopub.status.busy": "2022-03-22T06:37:29.946590Z",
     "iopub.status.idle": "2022-03-22T07:40:30.383363Z",
     "shell.execute_reply": "2022-03-22T07:40:30.383019Z"
    },
    "papermill": {
     "duration": 3780.47862,
     "end_time": "2022-03-22T07:40:30.383455",
     "exception": false,
     "start_time": "2022-03-22T06:37:29.904835",
     "status": "completed"
    },
    "tags": []
   },
   "outputs": [
    {
     "name": "stdout",
     "output_type": "stream",
     "text": [
      "epoch: 1, [batch: 1 / 6720], examples_per_second: 33.5605, train_label_loss: 2.9187, \n"
     ]
    },
    {
     "name": "stdout",
     "output_type": "stream",
     "text": [
      "epoch: 1, [batch: 672 / 6720], examples_per_second: 2303.8429, train_label_loss: 1.6592, \n"
     ]
    },
    {
     "name": "stdout",
     "output_type": "stream",
     "text": [
      "epoch: 1, [batch: 1344 / 6720], examples_per_second: 2302.3410, train_label_loss: 0.7357, \n"
     ]
    },
    {
     "name": "stdout",
     "output_type": "stream",
     "text": [
      "epoch: 1, [batch: 2016 / 6720], examples_per_second: 2302.9664, train_label_loss: 0.7290, \n"
     ]
    },
    {
     "name": "stdout",
     "output_type": "stream",
     "text": [
      "epoch: 1, [batch: 2688 / 6720], examples_per_second: 2299.7224, train_label_loss: 0.5670, \n"
     ]
    },
    {
     "name": "stdout",
     "output_type": "stream",
     "text": [
      "epoch: 1, [batch: 3360 / 6720], examples_per_second: 2304.2478, train_label_loss: 0.5410, \n"
     ]
    },
    {
     "name": "stdout",
     "output_type": "stream",
     "text": [
      "epoch: 1, [batch: 4032 / 6720], examples_per_second: 2295.2119, train_label_loss: 0.6328, \n"
     ]
    },
    {
     "name": "stdout",
     "output_type": "stream",
     "text": [
      "epoch: 1, [batch: 4704 / 6720], examples_per_second: 2292.7273, train_label_loss: 0.4294, \n"
     ]
    },
    {
     "name": "stdout",
     "output_type": "stream",
     "text": [
      "epoch: 1, [batch: 5376 / 6720], examples_per_second: 2295.6622, train_label_loss: 0.5701, \n"
     ]
    },
    {
     "name": "stdout",
     "output_type": "stream",
     "text": [
      "epoch: 1, [batch: 6048 / 6720], examples_per_second: 2420.0334, train_label_loss: 0.6145, \n"
     ]
    },
    {
     "name": "stdout",
     "output_type": "stream",
     "text": [
      "=============================================================\n",
      "epoch: 1, source_val_acc_label: 0.7296, target_val_acc_label: 0.7140, source_val_label_loss: 0.9710, target_val_label_loss: 0.9883, \n",
      "=============================================================\n"
     ]
    },
    {
     "name": "stdout",
     "output_type": "stream",
     "text": [
      "New best\n"
     ]
    },
    {
     "name": "stdout",
     "output_type": "stream",
     "text": [
      "epoch: 2, [batch: 1 / 6720], examples_per_second: 2.2018, train_label_loss: 0.8352, \n"
     ]
    },
    {
     "name": "stdout",
     "output_type": "stream",
     "text": [
      "epoch: 2, [batch: 672 / 6720], examples_per_second: 2313.8409, train_label_loss: 0.8532, \n"
     ]
    },
    {
     "name": "stdout",
     "output_type": "stream",
     "text": [
      "epoch: 2, [batch: 1344 / 6720], examples_per_second: 2303.4614, train_label_loss: 0.3959, \n"
     ]
    },
    {
     "name": "stdout",
     "output_type": "stream",
     "text": [
      "epoch: 2, [batch: 2016 / 6720], examples_per_second: 2474.2823, train_label_loss: 0.7818, \n"
     ]
    },
    {
     "name": "stdout",
     "output_type": "stream",
     "text": [
      "epoch: 2, [batch: 2688 / 6720], examples_per_second: 2599.7399, train_label_loss: 0.4742, \n"
     ]
    },
    {
     "name": "stdout",
     "output_type": "stream",
     "text": [
      "epoch: 2, [batch: 3360 / 6720], examples_per_second: 2625.1443, train_label_loss: 0.3738, \n"
     ]
    },
    {
     "name": "stdout",
     "output_type": "stream",
     "text": [
      "epoch: 2, [batch: 4032 / 6720], examples_per_second: 2621.9544, train_label_loss: 0.5970, \n"
     ]
    },
    {
     "name": "stdout",
     "output_type": "stream",
     "text": [
      "epoch: 2, [batch: 4704 / 6720], examples_per_second: 2572.8218, train_label_loss: 0.4815, \n"
     ]
    },
    {
     "name": "stdout",
     "output_type": "stream",
     "text": [
      "epoch: 2, [batch: 5376 / 6720], examples_per_second: 2630.5708, train_label_loss: 0.8795, \n"
     ]
    },
    {
     "name": "stdout",
     "output_type": "stream",
     "text": [
      "epoch: 2, [batch: 6048 / 6720], examples_per_second: 2862.9477, train_label_loss: 0.2338, \n"
     ]
    },
    {
     "name": "stdout",
     "output_type": "stream",
     "text": [
      "=============================================================\n",
      "epoch: 2, source_val_acc_label: 0.8402, target_val_acc_label: 0.8206, source_val_label_loss: 0.4440, target_val_label_loss: 0.5137, \n",
      "=============================================================\n"
     ]
    },
    {
     "name": "stdout",
     "output_type": "stream",
     "text": [
      "New best\n"
     ]
    },
    {
     "name": "stdout",
     "output_type": "stream",
     "text": [
      "epoch: 3, [batch: 1 / 6720], examples_per_second: 2.7863, train_label_loss: 0.7545, \n"
     ]
    },
    {
     "name": "stdout",
     "output_type": "stream",
     "text": [
      "epoch: 3, [batch: 672 / 6720], examples_per_second: 2325.9333, train_label_loss: 0.4987, \n"
     ]
    },
    {
     "name": "stdout",
     "output_type": "stream",
     "text": [
      "epoch: 3, [batch: 1344 / 6720], examples_per_second: 2319.1965, train_label_loss: 0.2043, \n"
     ]
    },
    {
     "name": "stdout",
     "output_type": "stream",
     "text": [
      "epoch: 3, [batch: 2016 / 6720], examples_per_second: 2334.3347, train_label_loss: 0.1544, \n"
     ]
    },
    {
     "name": "stdout",
     "output_type": "stream",
     "text": [
      "epoch: 3, [batch: 2688 / 6720], examples_per_second: 2308.0681, train_label_loss: 0.4949, \n"
     ]
    },
    {
     "name": "stdout",
     "output_type": "stream",
     "text": [
      "epoch: 3, [batch: 3360 / 6720], examples_per_second: 2320.8993, train_label_loss: 0.3224, \n"
     ]
    },
    {
     "name": "stdout",
     "output_type": "stream",
     "text": [
      "epoch: 3, [batch: 4032 / 6720], examples_per_second: 2326.3158, train_label_loss: 0.4204, \n"
     ]
    },
    {
     "name": "stdout",
     "output_type": "stream",
     "text": [
      "epoch: 3, [batch: 4704 / 6720], examples_per_second: 2296.6997, train_label_loss: 0.5051, \n"
     ]
    },
    {
     "name": "stdout",
     "output_type": "stream",
     "text": [
      "epoch: 3, [batch: 5376 / 6720], examples_per_second: 2312.3508, train_label_loss: 0.4802, \n"
     ]
    },
    {
     "name": "stdout",
     "output_type": "stream",
     "text": [
      "epoch: 3, [batch: 6048 / 6720], examples_per_second: 2402.9341, train_label_loss: 0.5212, \n"
     ]
    },
    {
     "name": "stdout",
     "output_type": "stream",
     "text": [
      "=============================================================\n",
      "epoch: 3, source_val_acc_label: 0.8712, target_val_acc_label: 0.8539, source_val_label_loss: 0.3616, target_val_label_loss: 0.4345, \n",
      "=============================================================\n"
     ]
    },
    {
     "name": "stdout",
     "output_type": "stream",
     "text": [
      "New best\n"
     ]
    },
    {
     "name": "stdout",
     "output_type": "stream",
     "text": [
      "epoch: 4, [batch: 1 / 6720], examples_per_second: 2.2909, train_label_loss: 0.2961, \n"
     ]
    },
    {
     "name": "stdout",
     "output_type": "stream",
     "text": [
      "epoch: 4, [batch: 672 / 6720], examples_per_second: 2585.1205, train_label_loss: 0.2564, \n"
     ]
    },
    {
     "name": "stdout",
     "output_type": "stream",
     "text": [
      "epoch: 4, [batch: 1344 / 6720], examples_per_second: 2587.8413, train_label_loss: 0.3279, \n"
     ]
    },
    {
     "name": "stdout",
     "output_type": "stream",
     "text": [
      "epoch: 4, [batch: 2016 / 6720], examples_per_second: 2591.8648, train_label_loss: 0.1659, \n"
     ]
    },
    {
     "name": "stdout",
     "output_type": "stream",
     "text": [
      "epoch: 4, [batch: 2688 / 6720], examples_per_second: 2622.7307, train_label_loss: 0.3081, \n"
     ]
    },
    {
     "name": "stdout",
     "output_type": "stream",
     "text": [
      "epoch: 4, [batch: 3360 / 6720], examples_per_second: 2586.7059, train_label_loss: 0.5380, \n"
     ]
    },
    {
     "name": "stdout",
     "output_type": "stream",
     "text": [
      "epoch: 4, [batch: 4032 / 6720], examples_per_second: 2614.8506, train_label_loss: 0.2818, \n"
     ]
    },
    {
     "name": "stdout",
     "output_type": "stream",
     "text": [
      "epoch: 4, [batch: 4704 / 6720], examples_per_second: 2596.9710, train_label_loss: 0.8330, \n"
     ]
    },
    {
     "name": "stdout",
     "output_type": "stream",
     "text": [
      "epoch: 4, [batch: 5376 / 6720], examples_per_second: 3138.1737, train_label_loss: 0.4068, \n"
     ]
    },
    {
     "name": "stdout",
     "output_type": "stream",
     "text": [
      "epoch: 4, [batch: 6048 / 6720], examples_per_second: 3433.8320, train_label_loss: 0.2773, \n"
     ]
    },
    {
     "name": "stdout",
     "output_type": "stream",
     "text": [
      "=============================================================\n",
      "epoch: 4, source_val_acc_label: 0.8857, target_val_acc_label: 0.8634, source_val_label_loss: 0.3130, target_val_label_loss: 0.4011, \n",
      "=============================================================\n"
     ]
    },
    {
     "name": "stdout",
     "output_type": "stream",
     "text": [
      "New best\n"
     ]
    },
    {
     "name": "stdout",
     "output_type": "stream",
     "text": [
      "epoch: 5, [batch: 1 / 6720], examples_per_second: 3.1600, train_label_loss: 0.2810, \n"
     ]
    },
    {
     "name": "stdout",
     "output_type": "stream",
     "text": [
      "epoch: 5, [batch: 672 / 6720], examples_per_second: 3512.2302, train_label_loss: 0.3614, \n"
     ]
    },
    {
     "name": "stdout",
     "output_type": "stream",
     "text": [
      "epoch: 5, [batch: 1344 / 6720], examples_per_second: 3942.9255, train_label_loss: 0.2825, \n"
     ]
    },
    {
     "name": "stdout",
     "output_type": "stream",
     "text": [
      "epoch: 5, [batch: 2016 / 6720], examples_per_second: 3530.7111, train_label_loss: 0.0800, \n"
     ]
    },
    {
     "name": "stdout",
     "output_type": "stream",
     "text": [
      "epoch: 5, [batch: 2688 / 6720], examples_per_second: 2963.9906, train_label_loss: 0.3461, \n"
     ]
    },
    {
     "name": "stdout",
     "output_type": "stream",
     "text": [
      "epoch: 5, [batch: 3360 / 6720], examples_per_second: 2945.6141, train_label_loss: 0.1377, \n"
     ]
    },
    {
     "name": "stdout",
     "output_type": "stream",
     "text": [
      "epoch: 5, [batch: 4032 / 6720], examples_per_second: 2725.5016, train_label_loss: 0.1241, \n"
     ]
    },
    {
     "name": "stdout",
     "output_type": "stream",
     "text": [
      "epoch: 5, [batch: 4704 / 6720], examples_per_second: 2303.1573, train_label_loss: 0.1714, \n"
     ]
    },
    {
     "name": "stdout",
     "output_type": "stream",
     "text": [
      "epoch: 5, [batch: 5376 / 6720], examples_per_second: 2325.4350, train_label_loss: 0.1025, \n"
     ]
    },
    {
     "name": "stdout",
     "output_type": "stream",
     "text": [
      "epoch: 5, [batch: 6048 / 6720], examples_per_second: 2306.7530, train_label_loss: 0.3062, \n"
     ]
    },
    {
     "name": "stdout",
     "output_type": "stream",
     "text": [
      "=============================================================\n",
      "epoch: 5, source_val_acc_label: 0.8926, target_val_acc_label: 0.8682, source_val_label_loss: 0.2995, target_val_label_loss: 0.3894, \n",
      "=============================================================\n"
     ]
    },
    {
     "name": "stdout",
     "output_type": "stream",
     "text": [
      "New best\n"
     ]
    },
    {
     "name": "stdout",
     "output_type": "stream",
     "text": [
      "epoch: 6, [batch: 1 / 6720], examples_per_second: 1.9954, train_label_loss: 0.4842, \n"
     ]
    },
    {
     "name": "stdout",
     "output_type": "stream",
     "text": [
      "epoch: 6, [batch: 672 / 6720], examples_per_second: 2310.3606, train_label_loss: 0.3366, \n"
     ]
    },
    {
     "name": "stdout",
     "output_type": "stream",
     "text": [
      "epoch: 6, [batch: 1344 / 6720], examples_per_second: 2318.3870, train_label_loss: 0.1961, \n"
     ]
    },
    {
     "name": "stdout",
     "output_type": "stream",
     "text": [
      "epoch: 6, [batch: 2016 / 6720], examples_per_second: 2467.1124, train_label_loss: 0.1616, \n"
     ]
    },
    {
     "name": "stdout",
     "output_type": "stream",
     "text": [
      "epoch: 6, [batch: 2688 / 6720], examples_per_second: 2617.8973, train_label_loss: 0.2420, \n"
     ]
    },
    {
     "name": "stdout",
     "output_type": "stream",
     "text": [
      "epoch: 6, [batch: 3360 / 6720], examples_per_second: 2714.8651, train_label_loss: 0.1401, \n"
     ]
    },
    {
     "name": "stdout",
     "output_type": "stream",
     "text": [
      "epoch: 6, [batch: 4032 / 6720], examples_per_second: 2373.2739, train_label_loss: 0.2901, \n"
     ]
    },
    {
     "name": "stdout",
     "output_type": "stream",
     "text": [
      "epoch: 6, [batch: 4704 / 6720], examples_per_second: 2355.5532, train_label_loss: 0.3309, \n"
     ]
    },
    {
     "name": "stdout",
     "output_type": "stream",
     "text": [
      "epoch: 6, [batch: 5376 / 6720], examples_per_second: 2318.1422, train_label_loss: 0.0286, \n"
     ]
    },
    {
     "name": "stdout",
     "output_type": "stream",
     "text": [
      "epoch: 6, [batch: 6048 / 6720], examples_per_second: 2325.6694, train_label_loss: 0.6663, \n"
     ]
    },
    {
     "name": "stdout",
     "output_type": "stream",
     "text": [
      "=============================================================\n",
      "epoch: 6, source_val_acc_label: 0.8931, target_val_acc_label: 0.8653, source_val_label_loss: 0.2995, target_val_label_loss: 0.4035, \n",
      "=============================================================\n"
     ]
    },
    {
     "name": "stdout",
     "output_type": "stream",
     "text": [
      "epoch: 7, [batch: 1 / 6720], examples_per_second: 0.5576, train_label_loss: 0.2677, \n"
     ]
    },
    {
     "name": "stdout",
     "output_type": "stream",
     "text": [
      "epoch: 7, [batch: 672 / 6720], examples_per_second: 3489.1586, train_label_loss: 0.2097, \n"
     ]
    },
    {
     "name": "stdout",
     "output_type": "stream",
     "text": [
      "epoch: 7, [batch: 1344 / 6720], examples_per_second: 3389.0403, train_label_loss: 0.5243, \n"
     ]
    },
    {
     "name": "stdout",
     "output_type": "stream",
     "text": [
      "epoch: 7, [batch: 2016 / 6720], examples_per_second: 3798.5199, train_label_loss: 0.2547, \n"
     ]
    },
    {
     "name": "stdout",
     "output_type": "stream",
     "text": [
      "epoch: 7, [batch: 2688 / 6720], examples_per_second: 3950.2389, train_label_loss: 0.1610, \n"
     ]
    },
    {
     "name": "stdout",
     "output_type": "stream",
     "text": [
      "epoch: 7, [batch: 3360 / 6720], examples_per_second: 4083.8759, train_label_loss: 0.2249, \n"
     ]
    },
    {
     "name": "stdout",
     "output_type": "stream",
     "text": [
      "epoch: 7, [batch: 4032 / 6720], examples_per_second: 3999.5370, train_label_loss: 0.1825, \n"
     ]
    },
    {
     "name": "stdout",
     "output_type": "stream",
     "text": [
      "epoch: 7, [batch: 4704 / 6720], examples_per_second: 3340.4159, train_label_loss: 0.2193, \n"
     ]
    },
    {
     "name": "stdout",
     "output_type": "stream",
     "text": [
      "epoch: 7, [batch: 5376 / 6720], examples_per_second: 3005.9646, train_label_loss: 0.1758, \n"
     ]
    },
    {
     "name": "stdout",
     "output_type": "stream",
     "text": [
      "epoch: 7, [batch: 6048 / 6720], examples_per_second: 3026.7691, train_label_loss: 0.1486, \n"
     ]
    },
    {
     "name": "stdout",
     "output_type": "stream",
     "text": [
      "=============================================================\n",
      "epoch: 7, source_val_acc_label: 0.8944, target_val_acc_label: 0.8646, source_val_label_loss: 0.2975, target_val_label_loss: 0.4348, \n",
      "=============================================================\n"
     ]
    },
    {
     "name": "stdout",
     "output_type": "stream",
     "text": [
      "epoch: 8, [batch: 1 / 6720], examples_per_second: 2.7833, train_label_loss: 0.2653, \n"
     ]
    },
    {
     "name": "stdout",
     "output_type": "stream",
     "text": [
      "epoch: 8, [batch: 672 / 6720], examples_per_second: 3000.2379, train_label_loss: 0.2710, \n"
     ]
    },
    {
     "name": "stdout",
     "output_type": "stream",
     "text": [
      "epoch: 8, [batch: 1344 / 6720], examples_per_second: 3258.7910, train_label_loss: 0.0797, \n"
     ]
    },
    {
     "name": "stdout",
     "output_type": "stream",
     "text": [
      "epoch: 8, [batch: 2016 / 6720], examples_per_second: 3437.1719, train_label_loss: 0.3282, \n"
     ]
    },
    {
     "name": "stdout",
     "output_type": "stream",
     "text": [
      "epoch: 8, [batch: 2688 / 6720], examples_per_second: 3488.9146, train_label_loss: 0.1241, \n"
     ]
    },
    {
     "name": "stdout",
     "output_type": "stream",
     "text": [
      "epoch: 8, [batch: 3360 / 6720], examples_per_second: 3024.7555, train_label_loss: 0.1441, \n"
     ]
    },
    {
     "name": "stdout",
     "output_type": "stream",
     "text": [
      "epoch: 8, [batch: 4032 / 6720], examples_per_second: 2993.5545, train_label_loss: 0.4717, \n"
     ]
    },
    {
     "name": "stdout",
     "output_type": "stream",
     "text": [
      "epoch: 8, [batch: 4704 / 6720], examples_per_second: 2948.0155, train_label_loss: 0.1092, \n"
     ]
    },
    {
     "name": "stdout",
     "output_type": "stream",
     "text": [
      "epoch: 8, [batch: 5376 / 6720], examples_per_second: 3004.4154, train_label_loss: 0.2250, \n"
     ]
    },
    {
     "name": "stdout",
     "output_type": "stream",
     "text": [
      "epoch: 8, [batch: 6048 / 6720], examples_per_second: 3013.3500, train_label_loss: 0.2639, \n"
     ]
    },
    {
     "name": "stdout",
     "output_type": "stream",
     "text": [
      "=============================================================\n",
      "epoch: 8, source_val_acc_label: 0.9106, target_val_acc_label: 0.8778, source_val_label_loss: 0.2523, target_val_label_loss: 0.4202, \n",
      "=============================================================\n"
     ]
    },
    {
     "name": "stdout",
     "output_type": "stream",
     "text": [
      "New best\n"
     ]
    },
    {
     "name": "stdout",
     "output_type": "stream",
     "text": [
      "epoch: 9, [batch: 1 / 6720], examples_per_second: 2.7959, train_label_loss: 0.0663, \n"
     ]
    },
    {
     "name": "stdout",
     "output_type": "stream",
     "text": [
      "epoch: 9, [batch: 672 / 6720], examples_per_second: 3051.4664, train_label_loss: 0.1620, \n"
     ]
    },
    {
     "name": "stdout",
     "output_type": "stream",
     "text": [
      "epoch: 9, [batch: 1344 / 6720], examples_per_second: 3507.1918, train_label_loss: 0.1600, \n"
     ]
    },
    {
     "name": "stdout",
     "output_type": "stream",
     "text": [
      "epoch: 9, [batch: 2016 / 6720], examples_per_second: 3459.8430, train_label_loss: 0.4715, \n"
     ]
    },
    {
     "name": "stdout",
     "output_type": "stream",
     "text": [
      "epoch: 9, [batch: 2688 / 6720], examples_per_second: 3227.7836, train_label_loss: 0.1265, \n"
     ]
    },
    {
     "name": "stdout",
     "output_type": "stream",
     "text": [
      "epoch: 9, [batch: 3360 / 6720], examples_per_second: 3017.9413, train_label_loss: 0.3901, \n"
     ]
    },
    {
     "name": "stdout",
     "output_type": "stream",
     "text": [
      "epoch: 9, [batch: 4032 / 6720], examples_per_second: 2974.5417, train_label_loss: 0.0840, \n"
     ]
    },
    {
     "name": "stdout",
     "output_type": "stream",
     "text": [
      "epoch: 9, [batch: 4704 / 6720], examples_per_second: 2957.5001, train_label_loss: 0.1849, \n"
     ]
    },
    {
     "name": "stdout",
     "output_type": "stream",
     "text": [
      "epoch: 9, [batch: 5376 / 6720], examples_per_second: 3084.5765, train_label_loss: 0.0375, \n"
     ]
    },
    {
     "name": "stdout",
     "output_type": "stream",
     "text": [
      "epoch: 9, [batch: 6048 / 6720], examples_per_second: 3003.9245, train_label_loss: 0.2020, \n"
     ]
    },
    {
     "name": "stdout",
     "output_type": "stream",
     "text": [
      "=============================================================\n",
      "epoch: 9, source_val_acc_label: 0.9049, target_val_acc_label: 0.8724, source_val_label_loss: 0.2670, target_val_label_loss: 0.4528, \n",
      "=============================================================\n"
     ]
    },
    {
     "name": "stdout",
     "output_type": "stream",
     "text": [
      "epoch: 10, [batch: 1 / 6720], examples_per_second: 2.7821, train_label_loss: 0.0673, \n"
     ]
    },
    {
     "name": "stdout",
     "output_type": "stream",
     "text": [
      "epoch: 10, [batch: 672 / 6720], examples_per_second: 3316.9660, train_label_loss: 0.0293, \n"
     ]
    },
    {
     "name": "stdout",
     "output_type": "stream",
     "text": [
      "epoch: 10, [batch: 1344 / 6720], examples_per_second: 3427.9217, train_label_loss: 0.1034, \n"
     ]
    },
    {
     "name": "stdout",
     "output_type": "stream",
     "text": [
      "epoch: 10, [batch: 2016 / 6720], examples_per_second: 3492.9448, train_label_loss: 0.0969, \n"
     ]
    },
    {
     "name": "stdout",
     "output_type": "stream",
     "text": [
      "epoch: 10, [batch: 2688 / 6720], examples_per_second: 2965.5248, train_label_loss: 0.2377, \n"
     ]
    },
    {
     "name": "stdout",
     "output_type": "stream",
     "text": [
      "epoch: 10, [batch: 3360 / 6720], examples_per_second: 3004.6138, train_label_loss: 0.0790, \n"
     ]
    },
    {
     "name": "stdout",
     "output_type": "stream",
     "text": [
      "epoch: 10, [batch: 4032 / 6720], examples_per_second: 2976.3987, train_label_loss: 0.3219, \n"
     ]
    },
    {
     "name": "stdout",
     "output_type": "stream",
     "text": [
      "epoch: 10, [batch: 4704 / 6720], examples_per_second: 2992.0628, train_label_loss: 0.0932, \n"
     ]
    },
    {
     "name": "stdout",
     "output_type": "stream",
     "text": [
      "epoch: 10, [batch: 5376 / 6720], examples_per_second: 2981.6044, train_label_loss: 0.0120, \n"
     ]
    },
    {
     "name": "stdout",
     "output_type": "stream",
     "text": [
      "epoch: 10, [batch: 6048 / 6720], examples_per_second: 2961.4626, train_label_loss: 0.5243, \n"
     ]
    },
    {
     "name": "stdout",
     "output_type": "stream",
     "text": [
      "=============================================================\n",
      "epoch: 10, source_val_acc_label: 0.8872, target_val_acc_label: 0.8561, source_val_label_loss: 0.3291, target_val_label_loss: 0.4717, \n",
      "=============================================================\n"
     ]
    },
    {
     "name": "stdout",
     "output_type": "stream",
     "text": [
      "epoch: 11, [batch: 1 / 6720], examples_per_second: 2.8090, train_label_loss: 0.0822, \n"
     ]
    },
    {
     "name": "stdout",
     "output_type": "stream",
     "text": [
      "epoch: 11, [batch: 672 / 6720], examples_per_second: 3418.3013, train_label_loss: 0.1222, \n"
     ]
    },
    {
     "name": "stdout",
     "output_type": "stream",
     "text": [
      "epoch: 11, [batch: 1344 / 6720], examples_per_second: 3641.8909, train_label_loss: 0.4485, \n"
     ]
    },
    {
     "name": "stdout",
     "output_type": "stream",
     "text": [
      "epoch: 11, [batch: 2016 / 6720], examples_per_second: 2975.5715, train_label_loss: 0.0745, \n"
     ]
    },
    {
     "name": "stdout",
     "output_type": "stream",
     "text": [
      "epoch: 11, [batch: 2688 / 6720], examples_per_second: 2950.0287, train_label_loss: 0.3635, \n"
     ]
    },
    {
     "name": "stdout",
     "output_type": "stream",
     "text": [
      "epoch: 11, [batch: 3360 / 6720], examples_per_second: 2968.3287, train_label_loss: 0.1169, \n"
     ]
    },
    {
     "name": "stdout",
     "output_type": "stream",
     "text": [
      "epoch: 11, [batch: 4032 / 6720], examples_per_second: 2962.0480, train_label_loss: 0.2830, \n"
     ]
    },
    {
     "name": "stdout",
     "output_type": "stream",
     "text": [
      "epoch: 11, [batch: 4704 / 6720], examples_per_second: 3301.4096, train_label_loss: 0.0350, \n"
     ]
    },
    {
     "name": "stdout",
     "output_type": "stream",
     "text": [
      "epoch: 11, [batch: 5376 / 6720], examples_per_second: 3386.4492, train_label_loss: 0.1133, \n"
     ]
    },
    {
     "name": "stdout",
     "output_type": "stream",
     "text": [
      "epoch: 11, [batch: 6048 / 6720], examples_per_second: 3353.4150, train_label_loss: 0.0810, \n"
     ]
    },
    {
     "name": "stdout",
     "output_type": "stream",
     "text": [
      "=============================================================\n",
      "epoch: 11, source_val_acc_label: 0.9077, target_val_acc_label: 0.8746, source_val_label_loss: 0.2704, target_val_label_loss: 0.4206, \n",
      "=============================================================\n"
     ]
    },
    {
     "name": "stdout",
     "output_type": "stream",
     "text": [
      "epoch: 12, [batch: 1 / 6720], examples_per_second: 3.3450, train_label_loss: 0.2367, \n"
     ]
    },
    {
     "name": "stdout",
     "output_type": "stream",
     "text": [
      "epoch: 12, [batch: 672 / 6720], examples_per_second: 4556.2137, train_label_loss: 0.2796, \n"
     ]
    },
    {
     "name": "stdout",
     "output_type": "stream",
     "text": [
      "epoch: 12, [batch: 1344 / 6720], examples_per_second: 3960.6725, train_label_loss: 0.0622, \n"
     ]
    },
    {
     "name": "stdout",
     "output_type": "stream",
     "text": [
      "epoch: 12, [batch: 2016 / 6720], examples_per_second: 2984.9885, train_label_loss: 0.2845, \n"
     ]
    },
    {
     "name": "stdout",
     "output_type": "stream",
     "text": [
      "epoch: 12, [batch: 2688 / 6720], examples_per_second: 3013.6237, train_label_loss: 0.2637, \n"
     ]
    },
    {
     "name": "stdout",
     "output_type": "stream",
     "text": [
      "epoch: 12, [batch: 3360 / 6720], examples_per_second: 3027.7713, train_label_loss: 0.1215, \n"
     ]
    },
    {
     "name": "stdout",
     "output_type": "stream",
     "text": [
      "epoch: 12, [batch: 4032 / 6720], examples_per_second: 3023.9778, train_label_loss: 0.5887, \n"
     ]
    },
    {
     "name": "stdout",
     "output_type": "stream",
     "text": [
      "epoch: 12, [batch: 4704 / 6720], examples_per_second: 3016.5976, train_label_loss: 0.2725, \n"
     ]
    },
    {
     "name": "stdout",
     "output_type": "stream",
     "text": [
      "epoch: 12, [batch: 5376 / 6720], examples_per_second: 3031.1996, train_label_loss: 0.2016, \n"
     ]
    },
    {
     "name": "stdout",
     "output_type": "stream",
     "text": [
      "epoch: 12, [batch: 6048 / 6720], examples_per_second: 2982.0891, train_label_loss: 0.2613, \n"
     ]
    },
    {
     "name": "stdout",
     "output_type": "stream",
     "text": [
      "=============================================================\n",
      "epoch: 12, source_val_acc_label: 0.9104, target_val_acc_label: 0.8780, source_val_label_loss: 0.2552, target_val_label_loss: 0.4188, \n",
      "=============================================================\n"
     ]
    },
    {
     "name": "stdout",
     "output_type": "stream",
     "text": [
      "New best\n"
     ]
    },
    {
     "name": "stdout",
     "output_type": "stream",
     "text": [
      "epoch: 13, [batch: 1 / 6720], examples_per_second: 2.9709, train_label_loss: 0.4883, \n"
     ]
    },
    {
     "name": "stdout",
     "output_type": "stream",
     "text": [
      "epoch: 13, [batch: 672 / 6720], examples_per_second: 3062.6197, train_label_loss: 0.0477, \n"
     ]
    },
    {
     "name": "stdout",
     "output_type": "stream",
     "text": [
      "epoch: 13, [batch: 1344 / 6720], examples_per_second: 3030.6668, train_label_loss: 0.2396, \n"
     ]
    },
    {
     "name": "stdout",
     "output_type": "stream",
     "text": [
      "epoch: 13, [batch: 2016 / 6720], examples_per_second: 3009.7508, train_label_loss: 0.1343, \n"
     ]
    },
    {
     "name": "stdout",
     "output_type": "stream",
     "text": [
      "epoch: 13, [batch: 2688 / 6720], examples_per_second: 3018.1501, train_label_loss: 0.1056, \n"
     ]
    },
    {
     "name": "stdout",
     "output_type": "stream",
     "text": [
      "epoch: 13, [batch: 3360 / 6720], examples_per_second: 3036.0526, train_label_loss: 0.0535, \n"
     ]
    },
    {
     "name": "stdout",
     "output_type": "stream",
     "text": [
      "epoch: 13, [batch: 4032 / 6720], examples_per_second: 2971.5525, train_label_loss: 0.0394, \n"
     ]
    },
    {
     "name": "stdout",
     "output_type": "stream",
     "text": [
      "epoch: 13, [batch: 4704 / 6720], examples_per_second: 2997.0138, train_label_loss: 0.2980, \n"
     ]
    },
    {
     "name": "stdout",
     "output_type": "stream",
     "text": [
      "epoch: 13, [batch: 5376 / 6720], examples_per_second: 3023.5845, train_label_loss: 0.0946, \n"
     ]
    },
    {
     "name": "stdout",
     "output_type": "stream",
     "text": [
      "epoch: 13, [batch: 6048 / 6720], examples_per_second: 2999.1491, train_label_loss: 0.2024, \n"
     ]
    },
    {
     "name": "stdout",
     "output_type": "stream",
     "text": [
      "=============================================================\n",
      "epoch: 13, source_val_acc_label: 0.9086, target_val_acc_label: 0.8731, source_val_label_loss: 0.2658, target_val_label_loss: 0.4450, \n",
      "=============================================================\n"
     ]
    },
    {
     "name": "stdout",
     "output_type": "stream",
     "text": [
      "epoch: 14, [batch: 1 / 6720], examples_per_second: 3.1483, train_label_loss: 0.2541, \n"
     ]
    },
    {
     "name": "stdout",
     "output_type": "stream",
     "text": [
      "epoch: 14, [batch: 672 / 6720], examples_per_second: 3426.6459, train_label_loss: 0.0675, \n"
     ]
    },
    {
     "name": "stdout",
     "output_type": "stream",
     "text": [
      "epoch: 14, [batch: 1344 / 6720], examples_per_second: 3431.5537, train_label_loss: 0.1160, \n"
     ]
    },
    {
     "name": "stdout",
     "output_type": "stream",
     "text": [
      "epoch: 14, [batch: 2016 / 6720], examples_per_second: 3484.3929, train_label_loss: 0.1056, \n"
     ]
    },
    {
     "name": "stdout",
     "output_type": "stream",
     "text": [
      "epoch: 14, [batch: 2688 / 6720], examples_per_second: 3498.7693, train_label_loss: 0.0339, \n"
     ]
    },
    {
     "name": "stdout",
     "output_type": "stream",
     "text": [
      "epoch: 14, [batch: 3360 / 6720], examples_per_second: 3456.7937, train_label_loss: 0.1747, \n"
     ]
    },
    {
     "name": "stdout",
     "output_type": "stream",
     "text": [
      "epoch: 14, [batch: 4032 / 6720], examples_per_second: 3421.3766, train_label_loss: 0.1617, \n"
     ]
    },
    {
     "name": "stdout",
     "output_type": "stream",
     "text": [
      "epoch: 14, [batch: 4704 / 6720], examples_per_second: 3437.7109, train_label_loss: 0.0054, \n"
     ]
    },
    {
     "name": "stdout",
     "output_type": "stream",
     "text": [
      "epoch: 14, [batch: 5376 / 6720], examples_per_second: 3785.1896, train_label_loss: 0.0330, \n"
     ]
    },
    {
     "name": "stdout",
     "output_type": "stream",
     "text": [
      "epoch: 14, [batch: 6048 / 6720], examples_per_second: 3877.8863, train_label_loss: 0.0127, \n"
     ]
    },
    {
     "name": "stdout",
     "output_type": "stream",
     "text": [
      "=============================================================\n",
      "epoch: 14, source_val_acc_label: 0.9046, target_val_acc_label: 0.8739, source_val_label_loss: 0.2800, target_val_label_loss: 0.4719, \n",
      "=============================================================\n"
     ]
    },
    {
     "name": "stdout",
     "output_type": "stream",
     "text": [
      "epoch: 15, [batch: 1 / 6720], examples_per_second: 3.9540, train_label_loss: 0.1207, \n"
     ]
    },
    {
     "name": "stdout",
     "output_type": "stream",
     "text": [
      "epoch: 15, [batch: 672 / 6720], examples_per_second: 3881.3520, train_label_loss: 0.1234, \n"
     ]
    },
    {
     "name": "stdout",
     "output_type": "stream",
     "text": [
      "epoch: 15, [batch: 1344 / 6720], examples_per_second: 3908.0391, train_label_loss: 0.3047, \n"
     ]
    },
    {
     "name": "stdout",
     "output_type": "stream",
     "text": [
      "epoch: 15, [batch: 2016 / 6720], examples_per_second: 3825.0686, train_label_loss: 0.0144, \n"
     ]
    },
    {
     "name": "stdout",
     "output_type": "stream",
     "text": [
      "epoch: 15, [batch: 2688 / 6720], examples_per_second: 3807.6947, train_label_loss: 0.1576, \n"
     ]
    },
    {
     "name": "stdout",
     "output_type": "stream",
     "text": [
      "epoch: 15, [batch: 3360 / 6720], examples_per_second: 4096.3407, train_label_loss: 0.1251, \n"
     ]
    },
    {
     "name": "stdout",
     "output_type": "stream",
     "text": [
      "epoch: 15, [batch: 4032 / 6720], examples_per_second: 3942.9180, train_label_loss: 0.1299, \n"
     ]
    },
    {
     "name": "stdout",
     "output_type": "stream",
     "text": [
      "epoch: 15, [batch: 4704 / 6720], examples_per_second: 3856.4494, train_label_loss: 0.2512, \n"
     ]
    },
    {
     "name": "stdout",
     "output_type": "stream",
     "text": [
      "epoch: 15, [batch: 5376 / 6720], examples_per_second: 3256.1053, train_label_loss: 0.0277, \n"
     ]
    },
    {
     "name": "stdout",
     "output_type": "stream",
     "text": [
      "epoch: 15, [batch: 6048 / 6720], examples_per_second: 2970.4018, train_label_loss: 0.0620, \n"
     ]
    },
    {
     "name": "stdout",
     "output_type": "stream",
     "text": [
      "=============================================================\n",
      "epoch: 15, source_val_acc_label: 0.9092, target_val_acc_label: 0.8728, source_val_label_loss: 0.2675, target_val_label_loss: 0.4877, \n",
      "=============================================================\n"
     ]
    },
    {
     "name": "stdout",
     "output_type": "stream",
     "text": [
      "epoch: 16, [batch: 1 / 6720], examples_per_second: 2.7535, train_label_loss: 0.0783, \n"
     ]
    },
    {
     "name": "stdout",
     "output_type": "stream",
     "text": [
      "epoch: 16, [batch: 672 / 6720], examples_per_second: 2958.1588, train_label_loss: 0.3918, \n"
     ]
    },
    {
     "name": "stdout",
     "output_type": "stream",
     "text": [
      "epoch: 16, [batch: 1344 / 6720], examples_per_second: 2980.7408, train_label_loss: 0.1300, \n"
     ]
    },
    {
     "name": "stdout",
     "output_type": "stream",
     "text": [
      "epoch: 16, [batch: 2016 / 6720], examples_per_second: 3244.3410, train_label_loss: 0.0796, \n"
     ]
    },
    {
     "name": "stdout",
     "output_type": "stream",
     "text": [
      "epoch: 16, [batch: 2688 / 6720], examples_per_second: 3333.6875, train_label_loss: 0.2639, \n"
     ]
    },
    {
     "name": "stdout",
     "output_type": "stream",
     "text": [
      "epoch: 16, [batch: 3360 / 6720], examples_per_second: 3652.6863, train_label_loss: 0.0087, \n"
     ]
    },
    {
     "name": "stdout",
     "output_type": "stream",
     "text": [
      "epoch: 16, [batch: 4032 / 6720], examples_per_second: 3859.1498, train_label_loss: 0.2982, \n"
     ]
    },
    {
     "name": "stdout",
     "output_type": "stream",
     "text": [
      "epoch: 16, [batch: 4704 / 6720], examples_per_second: 3677.1447, train_label_loss: 0.0112, \n"
     ]
    },
    {
     "name": "stdout",
     "output_type": "stream",
     "text": [
      "epoch: 16, [batch: 5376 / 6720], examples_per_second: 3493.6276, train_label_loss: 0.1174, \n"
     ]
    },
    {
     "name": "stdout",
     "output_type": "stream",
     "text": [
      "epoch: 16, [batch: 6048 / 6720], examples_per_second: 3414.7195, train_label_loss: 0.1550, \n"
     ]
    },
    {
     "name": "stdout",
     "output_type": "stream",
     "text": [
      "=============================================================\n",
      "epoch: 16, source_val_acc_label: 0.9137, target_val_acc_label: 0.8765, source_val_label_loss: 0.2636, target_val_label_loss: 0.4877, \n",
      "=============================================================\n"
     ]
    },
    {
     "name": "stdout",
     "output_type": "stream",
     "text": [
      "Patience (3) exhausted\n"
     ]
    }
   ],
   "source": [
    "###################################\n",
    "# train\n",
    "###################################\n",
    "jig = PTN_Train_Eval_Test_Jig(model, p.BEST_MODEL_PATH, p.device)\n",
    "\n",
    "jig.train(\n",
    "    train_iterable=datasets.source.processed.train,\n",
    "    source_val_iterable=datasets.source.processed.val,\n",
    "    target_val_iterable=datasets.target.processed.val,\n",
    "    num_epochs=p.n_epoch,\n",
    "    num_logs_per_epoch=p.NUM_LOGS_PER_EPOCH,\n",
    "    patience=p.patience,\n",
    "    optimizer=optimizer,\n",
    "    criteria_for_best=p.criteria_for_best,\n",
    ")"
   ]
  },
  {
   "cell_type": "code",
   "execution_count": 23,
   "id": "31e8fabf",
   "metadata": {
    "execution": {
     "iopub.execute_input": "2022-03-22T07:40:30.528539Z",
     "iopub.status.busy": "2022-03-22T07:40:30.528171Z",
     "iopub.status.idle": "2022-03-22T07:40:30.560918Z",
     "shell.execute_reply": "2022-03-22T07:40:30.560225Z"
    },
    "papermill": {
     "duration": 0.107476,
     "end_time": "2022-03-22T07:40:30.561077",
     "exception": false,
     "start_time": "2022-03-22T07:40:30.453601",
     "status": "completed"
    },
    "tags": []
   },
   "outputs": [],
   "source": [
    "total_experiment_time_secs = time.time() - start_time_secs"
   ]
  },
  {
   "cell_type": "code",
   "execution_count": 24,
   "id": "87b9595b",
   "metadata": {
    "execution": {
     "iopub.execute_input": "2022-03-22T07:40:30.734695Z",
     "iopub.status.busy": "2022-03-22T07:40:30.734091Z",
     "iopub.status.idle": "2022-03-22T07:43:42.587126Z",
     "shell.execute_reply": "2022-03-22T07:43:42.587818Z"
    },
    "papermill": {
     "duration": 191.938363,
     "end_time": "2022-03-22T07:43:42.588061",
     "exception": false,
     "start_time": "2022-03-22T07:40:30.649698",
     "status": "completed"
    },
    "tags": []
   },
   "outputs": [],
   "source": [
    "###################################\n",
    "# Evaluate the model\n",
    "###################################\n",
    "source_test_label_accuracy, source_test_label_loss = jig.test(datasets.source.processed.test)\n",
    "target_test_label_accuracy, target_test_label_loss = jig.test(datasets.target.processed.test)\n",
    "\n",
    "source_val_label_accuracy, source_val_label_loss = jig.test(datasets.source.processed.val)\n",
    "target_val_label_accuracy, target_val_label_loss = jig.test(datasets.target.processed.val)\n",
    "\n",
    "history = jig.get_history()\n",
    "\n",
    "total_epochs_trained = len(history[\"epoch_indices\"])\n",
    "\n",
    "val_dl = Iterable_Aggregator((datasets.source.original.val,datasets.target.original.val))\n",
    "\n",
    "confusion = ptn_confusion_by_domain_over_dataloader(model, p.device, val_dl)\n",
    "per_domain_accuracy = per_domain_accuracy_from_confusion(confusion)\n",
    "\n",
    "# Add a key to per_domain_accuracy for if it was a source domain\n",
    "for domain, accuracy in per_domain_accuracy.items():\n",
    "    per_domain_accuracy[domain] = {\n",
    "        \"accuracy\": accuracy,\n",
    "        \"source?\": domain in p.domains_source\n",
    "    }\n",
    "\n",
    "# Do an independent accuracy assesment JUST TO BE SURE!\n",
    "# _source_test_label_accuracy = independent_accuracy_assesment(model, datasets.source.processed.test, p.device)\n",
    "# _target_test_label_accuracy = independent_accuracy_assesment(model, datasets.target.processed.test, p.device)\n",
    "# _source_val_label_accuracy = independent_accuracy_assesment(model, datasets.source.processed.val, p.device)\n",
    "# _target_val_label_accuracy = independent_accuracy_assesment(model, datasets.target.processed.val, p.device)\n",
    "\n",
    "# assert(_source_test_label_accuracy == source_test_label_accuracy)\n",
    "# assert(_target_test_label_accuracy == target_test_label_accuracy)\n",
    "# assert(_source_val_label_accuracy == source_val_label_accuracy)\n",
    "# assert(_target_val_label_accuracy == target_val_label_accuracy)\n",
    "\n",
    "experiment = {\n",
    "    \"experiment_name\": p.experiment_name,\n",
    "    \"parameters\": dict(p),\n",
    "    \"results\": {\n",
    "        \"source_test_label_accuracy\": source_test_label_accuracy,\n",
    "        \"source_test_label_loss\": source_test_label_loss,\n",
    "        \"target_test_label_accuracy\": target_test_label_accuracy,\n",
    "        \"target_test_label_loss\": target_test_label_loss,\n",
    "        \"source_val_label_accuracy\": source_val_label_accuracy,\n",
    "        \"source_val_label_loss\": source_val_label_loss,\n",
    "        \"target_val_label_accuracy\": target_val_label_accuracy,\n",
    "        \"target_val_label_loss\": target_val_label_loss,\n",
    "        \"total_epochs_trained\": total_epochs_trained,\n",
    "        \"total_experiment_time_secs\": total_experiment_time_secs,\n",
    "        \"confusion\": confusion,\n",
    "        \"per_domain_accuracy\": per_domain_accuracy,\n",
    "    },\n",
    "    \"history\": history,\n",
    "    \"dataset_metrics\": get_dataset_metrics(datasets, \"ptn\"),\n",
    "}"
   ]
  },
  {
   "cell_type": "code",
   "execution_count": 25,
   "id": "54a21829",
   "metadata": {
    "execution": {
     "iopub.execute_input": "2022-03-22T07:43:42.739917Z",
     "iopub.status.busy": "2022-03-22T07:43:42.739543Z",
     "iopub.status.idle": "2022-03-22T07:43:42.975783Z",
     "shell.execute_reply": "2022-03-22T07:43:42.976460Z"
    },
    "papermill": {
     "duration": 0.311979,
     "end_time": "2022-03-22T07:43:42.976666",
     "exception": false,
     "start_time": "2022-03-22T07:43:42.664687",
     "status": "completed"
    },
    "tags": []
   },
   "outputs": [
    {
     "data": {
      "image/png": "[encoded data removed]",
      "text/plain": [
       "<Figure size 1080x504 with 1 Axes>"
      ]
     },
     "metadata": {
      "needs_background": "light"
     },
     "output_type": "display_data"
    }
   ],
   "source": [
    "ax = get_loss_curve(experiment)\n",
    "plt.show()"
   ]
  },
  {
   "cell_type": "code",
   "execution_count": 26,
   "id": "fd8a0f60",
   "metadata": {
    "execution": {
     "iopub.execute_input": "2022-03-22T07:43:43.142260Z",
     "iopub.status.busy": "2022-03-22T07:43:43.141883Z",
     "iopub.status.idle": "2022-03-22T07:43:43.477589Z",
     "shell.execute_reply": "2022-03-22T07:43:43.477207Z"
    },
    "papermill": {
     "duration": 0.420174,
     "end_time": "2022-03-22T07:43:43.477669",
     "exception": false,
     "start_time": "2022-03-22T07:43:43.057495",
     "status": "completed"
    },
    "tags": []
   },
   "outputs": [
    {
     "data": {
      "text/plain": [
       "<AxesSubplot:title={'center':'Results'}>"
      ]
     },
     "execution_count": 26,
     "metadata": {},
     "output_type": "execute_result"
    },
    {
     "data": {
      "image/png": "[encoded data removed]",
      "text/plain": [
       "<Figure size 1080x504 with 1 Axes>"
      ]
     },
     "metadata": {
      "needs_background": "light"
     },
     "output_type": "display_data"
    }
   ],
   "source": [
    "get_results_table(experiment)"
   ]
  },
  {
   "cell_type": "code",
   "execution_count": 27,
   "id": "cf8dc689",
   "metadata": {
    "execution": {
     "iopub.execute_input": "2022-03-22T07:43:43.627483Z",
     "iopub.status.busy": "2022-03-22T07:43:43.627104Z",
     "iopub.status.idle": "2022-03-22T07:43:43.916941Z",
     "shell.execute_reply": "2022-03-22T07:43:43.916263Z"
    },
    "papermill": {
     "duration": 0.36491,
     "end_time": "2022-03-22T07:43:43.917106",
     "exception": false,
     "start_time": "2022-03-22T07:43:43.552196",
     "status": "completed"
    },
    "tags": []
   },
   "outputs": [
    {
     "data": {
      "text/plain": [
       "<AxesSubplot:title={'center':'Per Domain Validation Accuracy'}, xlabel='domain'>"
      ]
     },
     "execution_count": 27,
     "metadata": {},
     "output_type": "execute_result"
    },
    {
     "data": {
      "image/png": "[encoded data removed]",
      "text/plain": [
       "<Figure size 1080x504 with 1 Axes>"
      ]
     },
     "metadata": {
      "needs_background": "light"
     },
     "output_type": "display_data"
    }
   ],
   "source": [
    "get_domain_accuracies(experiment)"
   ]
  },
  {
   "cell_type": "code",
   "execution_count": 28,
   "id": "a74ae082",
   "metadata": {
    "execution": {
     "iopub.execute_input": "2022-03-22T07:43:44.095022Z",
     "iopub.status.busy": "2022-03-22T07:43:44.094536Z",
     "iopub.status.idle": "2022-03-22T07:43:44.118696Z",
     "shell.execute_reply": "2022-03-22T07:43:44.118363Z"
    },
    "papermill": {
     "duration": 0.121845,
     "end_time": "2022-03-22T07:43:44.118776",
     "exception": false,
     "start_time": "2022-03-22T07:43:43.996931",
     "status": "completed"
    },
    "tags": []
   },
   "outputs": [
    {
     "name": "stdout",
     "output_type": "stream",
     "text": [
      "Source Test Label Accuracy: 0.9133463541666667 Target Test Label Accuracy: 0.8783854166666667\n",
      "Source Val Label Accuracy: 0.9104166666666667 Target Val Label Accuracy: 0.87802734375\n"
     ]
    }
   ],
   "source": [
    "print(\"Source Test Label Accuracy:\", experiment[\"results\"][\"source_test_label_accuracy\"], \"Target Test Label Accuracy:\", experiment[\"results\"][\"target_test_label_accuracy\"])\n",
    "print(\"Source Val Label Accuracy:\", experiment[\"results\"][\"source_val_label_accuracy\"], \"Target Val Label Accuracy:\", experiment[\"results\"][\"target_val_label_accuracy\"])"
   ]
  },
  {
   "cell_type": "code",
   "execution_count": 29,
   "id": "dacca602",
   "metadata": {
    "execution": {
     "iopub.execute_input": "2022-03-22T07:43:44.273937Z",
     "iopub.status.busy": "2022-03-22T07:43:44.273571Z",
     "iopub.status.idle": "2022-03-22T07:43:44.293939Z",
     "shell.execute_reply": "2022-03-22T07:43:44.293576Z"
    },
    "papermill": {
     "duration": 0.099055,
     "end_time": "2022-03-22T07:43:44.294010",
     "exception": false,
     "start_time": "2022-03-22T07:43:44.194955",
     "status": "completed"
    },
    "tags": [
     "experiment_json"
    ]
   },
   "outputs": [
    {
     "data": {
      "text/plain": [
       "'{\"experiment_name\": \"tl_1v2:oracle.run1.framed-oracle.run2.framed\", \"parameters\": {\"experiment_name\": \"tl_1v2:oracle.run1.framed-oracle.run2.framed\", \"device\": \"cuda\", \"lr\": 0.0001, \"n_shot\": 3, \"n_query\": 2, \"train_k_factor\": 3, \"val_k_factor\": 2, \"test_k_factor\": 2, \"torch_default_dtype\": \"torch.float32\", \"n_epoch\": 50, \"patience\": 3, \"criteria_for_best\": \"target_accuracy\", \"x_net\": [{\"class\": \"nnReshape\", \"kargs\": {\"shape\": [-1, 1, 2, 256]}}, {\"class\": \"Conv2d\", \"kargs\": {\"in_channels\": 1, \"out_channels\": 256, \"kernel_size\": [1, 7], \"bias\": false, \"padding\": [0, 3]}}, {\"class\": \"ReLU\", \"kargs\": {\"inplace\": true}}, {\"class\": \"BatchNorm2d\", \"kargs\": {\"num_features\": 256}}, {\"class\": \"Conv2d\", \"kargs\": {\"in_channels\": 256, \"out_channels\": 80, \"kernel_size\": [2, 7], \"bias\": true, \"padding\": [0, 3]}}, {\"class\": \"ReLU\", \"kargs\": {\"inplace\": true}}, {\"class\": \"BatchNorm2d\", \"kargs\": {\"num_features\": 80}}, {\"class\": \"Flatten\", \"kargs\": {}}, {\"class\": \"Linear\", \"kargs\": {\"in_features\": 20480, \"out_features\": 256}}, {\"class\": \"ReLU\", \"kargs\": {\"inplace\": true}}, {\"class\": \"BatchNorm1d\", \"kargs\": {\"num_features\": 256}}, {\"class\": \"Linear\", \"kargs\": {\"in_features\": 256, \"out_features\": 256}}], \"NUM_LOGS_PER_EPOCH\": 10, \"BEST_MODEL_PATH\": \"./best_model.pth\", \"n_way\": 16, \"datasets\": [{\"labels\": [\"3123D52\", \"3123D65\", \"3123D79\", \"3123D80\", \"3123D54\", \"3123D70\", \"3123D7B\", \"3123D89\", \"3123D58\", \"3123D76\", \"3123D7D\", \"3123EFE\", \"3123D64\", \"3123D78\", \"3123D7E\", \"3124E4A\"], \"domains\": [32, 38, 8, 44, 14, 50, 20, 26], \"num_examples_per_domain_per_label\": 2000, \"pickle_path\": \"/root/csc500-main/datasets/oracle.Run1_framed_2000Examples_stratified_ds.2022A.pkl\", \"source_or_target_dataset\": \"source\", \"x_transforms\": [\"unit_mag\"], \"episode_transforms\": [], \"domain_prefix\": \"ORACLE.run1_\"}, {\"labels\": [\"3123D52\", \"3123D65\", \"3123D79\", \"3123D80\", \"3123D54\", \"3123D70\", \"3123D7B\", \"3123D89\", \"3123D58\", \"3123D76\", \"3123D7D\", \"3123EFE\", \"3123D64\", \"3123D78\", \"3123D7E\", \"3124E4A\"], \"domains\": [32, 38, 8, 44, 14, 50, 20, 26], \"num_examples_per_domain_per_label\": 2000, \"pickle_path\": \"/root/csc500-main/datasets/oracle.Run2_framed_2000Examples_stratified_ds.2022A.pkl\", \"source_or_target_dataset\": \"target\", \"x_transforms\": [\"unit_mag\"], \"episode_transforms\": [], \"domain_prefix\": \"ORACLE.run2_\"}], \"dataset_seed\": 500, \"seed\": 500, \"x_shape\": [2, 256], \"domains_source\": [\"ORACLE.run1_32\", \"ORACLE.run1_38\", \"ORACLE.run1_8\", \"ORACLE.run1_44\", \"ORACLE.run1_14\", \"ORACLE.run1_50\", \"ORACLE.run1_20\", \"ORACLE.run1_26\"], \"domains_target\": [\"ORACLE.run2_32\", \"ORACLE.run2_38\", \"ORACLE.run2_8\", \"ORACLE.run2_44\", \"ORACLE.run2_14\", \"ORACLE.run2_50\", \"ORACLE.run2_20\", \"ORACLE.run2_26\"]}, \"results\": {\"source_test_label_accuracy\": 0.9133463541666667, \"source_test_label_loss\": 0.2517799139022827, \"target_test_label_accuracy\": 0.8783854166666667, \"target_test_label_loss\": 0.42893755435943604, \"source_val_label_accuracy\": 0.9104166666666667, \"source_val_label_loss\": 0.25522494316101074, \"target_val_label_accuracy\": 0.87802734375, \"target_val_label_loss\": 0.4187782406806946, \"total_epochs_trained\": 16, \"total_experiment_time_secs\": 3841.995279312134, \"confusion\": {\"ORACLE.run1_50\": {\"7\": {\"6\": 4, \"7\": 219, \"5\": 10, \"4\": 3, \"13\": 4}, \"10\": {\"10\": 235, \"8\": 2, \"0\": 2, \"13\": 1}, \"0\": {\"0\": 226, \"10\": 4, \"2\": 10}, \"11\": {\"11\": 239, \"9\": 1}, \"2\": {\"2\": 231, \"0\": 9}, \"14\": {\"14\": 240}, \"9\": {\"9\": 236, \"11\": 4}, \"13\": {\"13\": 219, \"5\": 11, \"7\": 4, \"10\": 3, \"6\": 3}, \"8\": {\"8\": 238, \"10\": 2}, \"15\": {\"15\": 230, \"6\": 2, \"4\": 3, \"1\": 5}, \"4\": {\"4\": 182, \"15\": 15, \"6\": 3, \"5\": 37, \"1\": 2, \"11\": 1}, \"5\": {\"4\": 25, \"5\": 184, \"7\": 12, \"6\": 4, \"13\": 10, \"1\": 5}, \"3\": {\"3\": 240}, \"1\": {\"1\": 212, \"5\": 6, \"15\": 17, \"13\": 2, \"4\": 3}, \"6\": {\"6\": 230, \"13\": 4, \"15\": 1, \"4\": 2, \"7\": 2, \"1\": 1}, \"12\": {\"12\": 230, \"11\": 3, \"9\": 7}}, \"ORACLE.run1_14\": {\"14\": {\"14\": 223, \"2\": 15, \"13\": 2}, \"6\": {\"6\": 211, \"13\": 24, \"14\": 3, \"2\": 2}, \"5\": {\"5\": 213, \"2\": 7, \"4\": 16, \"1\": 3, \"13\": 1}, \"15\": {\"15\": 240}, \"11\": {\"11\": 238, \"9\": 2}, \"8\": {\"8\": 240}, \"12\": {\"12\": 240}, \"1\": {\"1\": 232, \"5\": 8}, \"2\": {\"2\": 172, \"6\": 4, \"14\": 40, \"5\": 19, \"3\": 2, \"13\": 3}, \"13\": {\"13\": 201, \"6\": 35, \"14\": 3, \"2\": 1}, \"3\": {\"3\": 231, \"14\": 2, \"2\": 3, \"5\": 2, \"4\": 2}, \"0\": {\"0\": 239, \"3\": 1}, \"9\": {\"9\": 240}, \"4\": {\"4\": 231, \"5\": 9}, \"7\": {\"7\": 240}, \"10\": {\"10\": 240}}, \"ORACLE.run1_32\": {\"4\": {\"4\": 209, \"2\": 21, \"13\": 4, \"7\": 4, \"5\": 2}, \"14\": {\"14\": 213, \"8\": 3, \"11\": 3, \"0\": 18, \"7\": 2, \"13\": 1}, \"5\": {\"5\": 174, \"7\": 44, \"8\": 6, \"13\": 9, \"14\": 2, \"0\": 2, \"3\": 1, \"4\": 1, \"2\": 1}, \"10\": {\"10\": 240}, \"13\": {\"13\": 208, \"3\": 6, \"4\": 13, \"7\": 3, \"8\": 5, \"5\": 4, \"0\": 1}, \"9\": {\"9\": 240}, \"6\": {\"6\": 240}, \"3\": {\"3\": 231, \"13\": 6, \"5\": 1, \"8\": 1, \"11\": 1}, \"15\": {\"15\": 240}, \"7\": {\"7\": 189, \"5\": 35, \"4\": 10, \"0\": 1, \"14\": 4, \"13\": 1}, \"12\": {\"12\": 240}, \"8\": {\"8\": 219, \"0\": 13, \"13\": 2, \"5\": 5, \"14\": 1}, \"11\": {\"11\": 232, \"13\": 3, \"14\": 4, \"5\": 1}, \"2\": {\"2\": 212, \"4\": 25, \"0\": 1, \"7\": 2}, \"1\": {\"1\": 240}, \"0\": {\"0\": 219, \"8\": 13, \"7\": 2, \"14\": 6}}, \"ORACLE.run1_44\": {\"8\": {\"0\": 73, \"8\": 156, \"5\": 7, \"15\": 4}, \"11\": {\"11\": 236, \"13\": 4}, \"14\": {\"14\": 195, \"15\": 5, \"4\": 39, \"5\": 1}, \"10\": {\"10\": 226, \"1\": 9, \"2\": 5}, \"3\": {\"3\": 234, \"1\": 2, \"12\": 4}, \"15\": {\"15\": 212, \"8\": 2, \"14\": 12, \"0\": 10, \"5\": 3, \"4\": 1}, \"2\": {\"2\": 220, \"7\": 12, \"3\": 1, \"10\": 7}, \"12\": {\"12\": 228, \"1\": 10, \"3\": 2}, \"4\": {\"14\": 46, \"4\": 193, \"9\": 1}, \"1\": {\"1\": 207, \"10\": 13, \"3\": 9, \"12\": 5, \"2\": 6}, \"0\": {\"0\": 181, \"15\": 7, \"8\": 47, \"5\": 5}, \"9\": {\"6\": 17, \"9\": 153, \"13\": 21, \"7\": 48, \"2\": 1}, \"5\": {\"5\": 216, \"8\": 4, \"14\": 4, \"0\": 8, \"15\": 8}, \"6\": {\"6\": 192, \"13\": 28, \"9\": 18, \"7\": 2}, \"7\": {\"7\": 179, \"9\": 43, \"2\": 17, \"6\": 1}, \"13\": {\"13\": 192, \"9\": 18, \"6\": 30}}, \"ORACLE.run1_8\": {\"13\": {\"13\": 168, \"6\": 7, \"10\": 27, \"4\": 27, \"0\": 9, \"14\": 2}, \"3\": {\"3\": 240}, \"15\": {\"15\": 226, \"12\": 14}, \"4\": {\"4\": 215, \"6\": 6, \"13\": 14, \"14\": 5}, \"7\": {\"6\": 27, \"7\": 213}, \"2\": {\"2\": 231, \"7\": 3, \"8\": 1, \"3\": 3, \"12\": 2}, \"1\": {\"1\": 236, \"14\": 2, \"5\": 2}, \"0\": {\"0\": 232, \"13\": 3, \"10\": 1, \"6\": 1, \"7\": 2, \"4\": 1}, \"12\": {\"12\": 209, \"15\": 25, \"8\": 2, \"3\": 4}, \"6\": {\"6\": 211, \"7\": 16, \"4\": 11, \"13\": 2}, \"11\": {\"11\": 240}, \"9\": {\"9\": 240}, \"5\": {\"5\": 233, \"1\": 1, \"14\": 3, \"10\": 3}, \"10\": {\"10\": 225, \"13\": 10, \"14\": 3, \"4\": 2}, \"14\": {\"14\": 211, \"10\": 9, \"4\": 14, \"1\": 6}, \"8\": {\"8\": 239, \"15\": 1}}, \"ORACLE.run1_20\": {\"6\": {\"6\": 236, \"14\": 4}, \"11\": {\"11\": 240}, \"5\": {\"5\": 227, \"15\": 6, \"0\": 3, \"12\": 2, \"1\": 2}, \"14\": {\"14\": 237, \"6\": 3}, \"2\": {\"2\": 206, \"7\": 10, \"13\": 4, \"12\": 9, \"9\": 6, \"3\": 5}, \"7\": {\"7\": 233, \"2\": 7}, \"3\": {\"3\": 194, \"2\": 6, \"4\": 2, \"7\": 3, \"12\": 27, \"1\": 1, \"9\": 7}, \"4\": {\"4\": 236, \"3\": 2, \"8\": 2}, \"9\": {\"9\": 203, \"3\": 16, \"2\": 20, \"12\": 1}, \"12\": {\"12\": 179, \"3\": 25, \"1\": 25, \"2\": 3, \"9\": 6, \"5\": 2}, \"0\": {\"0\": 225, \"5\": 10, \"15\": 5}, \"10\": {\"10\": 240}, \"8\": {\"8\": 235, \"4\": 5}, \"13\": {\"13\": 237, \"2\": 3}, \"1\": {\"1\": 209, \"12\": 25, \"15\": 5, \"3\": 1}, \"15\": {\"15\": 226, \"1\": 8, \"0\": 3, \"5\": 2, \"12\": 1}}, \"ORACLE.run1_38\": {\"3\": {\"3\": 236, \"0\": 4}, \"8\": {\"5\": 33, \"8\": 193, \"0\": 11, \"7\": 2, \"10\": 1}, \"0\": {\"0\": 213, \"7\": 8, \"10\": 3, \"8\": 12, \"13\": 3, \"5\": 1}, \"2\": {\"2\": 223, \"14\": 11, \"13\": 4, \"15\": 1, \"8\": 1}, \"4\": {\"4\": 240}, \"7\": {\"7\": 222, \"0\": 5, \"5\": 8, \"8\": 5}, \"12\": {\"12\": 240}, \"6\": {\"6\": 240}, \"15\": {\"15\": 219, \"8\": 7, \"1\": 8, \"13\": 2, \"5\": 4}, \"11\": {\"11\": 237, \"4\": 3}, \"9\": {\"9\": 238, \"6\": 2}, \"14\": {\"14\": 237, \"2\": 3}, \"10\": {\"10\": 232, \"13\": 5, \"4\": 1, \"7\": 2}, \"5\": {\"8\": 39, \"5\": 173, \"7\": 15, \"9\": 6, \"15\": 4, \"6\": 1, \"0\": 2}, \"1\": {\"1\": 238, \"15\": 2}, \"13\": {\"13\": 231, \"8\": 2, \"2\": 1, \"10\": 3, \"0\": 2, \"5\": 1}}, \"ORACLE.run1_26\": {\"5\": {\"5\": 224, \"13\": 4, \"2\": 10, \"15\": 2}, \"8\": {\"8\": 160, \"0\": 21, \"10\": 30, \"7\": 13, \"15\": 1, \"4\": 10, \"14\": 5}, \"4\": {\"4\": 205, \"8\": 10, \"0\": 7, \"14\": 12, \"7\": 6}, \"12\": {\"12\": 240}, \"6\": {\"6\": 232, \"15\": 1, \"10\": 7}, \"7\": {\"7\": 210, \"8\": 3, \"4\": 5, \"3\": 15, \"2\": 7}, \"10\": {\"8\": 22, \"10\": 139, \"14\": 12, \"0\": 62, \"6\": 5}, \"0\": {\"4\": 17, \"0\": 122, \"14\": 26, \"10\": 51, \"8\": 20, \"7\": 4}, \"15\": {\"15\": 213, \"6\": 5, \"8\": 4, \"9\": 11, \"13\": 2, \"2\": 3, \"5\": 1, \"10\": 1}, \"9\": {\"9\": 230, \"6\": 2, \"10\": 1, \"15\": 5, \"13\": 1, \"8\": 1}, \"11\": {\"11\": 240}, \"14\": {\"8\": 5, \"14\": 193, \"0\": 24, \"4\": 6, \"1\": 7, \"10\": 5}, \"2\": {\"2\": 159, \"3\": 50, \"15\": 5, \"7\": 13, \"5\": 6, \"8\": 1, \"13\": 6}, \"13\": {\"13\": 227, \"5\": 8, \"2\": 2, \"15\": 1, \"9\": 2}, \"3\": {\"3\": 211, \"2\": 24, \"7\": 5}, \"1\": {\"1\": 231, \"4\": 1, \"14\": 8}}, \"ORACLE.run2_50\": {\"7\": {\"5\": 16, \"7\": 218, \"13\": 5, \"6\": 1}, \"10\": {\"10\": 215, \"13\": 24, \"0\": 1}, \"0\": {\"0\": 230, \"2\": 8, \"10\": 2}, \"11\": {\"11\": 232, \"15\": 5, \"9\": 3}, \"2\": {\"2\": 234, \"0\": 6}, \"14\": {\"14\": 240}, \"9\": {\"9\": 240}, \"13\": {\"13\": 191, \"7\": 11, \"10\": 38}, \"8\": {\"8\": 239, \"3\": 1}, \"15\": {\"15\": 228, \"1\": 9, \"4\": 3}, \"4\": {\"4\": 175, \"5\": 57, \"6\": 7, \"1\": 1}, \"5\": {\"5\": 159, \"4\": 61, \"13\": 5, \"7\": 6, \"6\": 8, \"10\": 1}, \"3\": {\"3\": 234, \"8\": 6}, \"1\": {\"1\": 232, \"15\": 3, \"6\": 3, \"5\": 1, \"4\": 1}, \"6\": {\"6\": 221, \"5\": 9, \"15\": 3, \"4\": 7}, \"12\": {\"12\": 236, \"9\": 1, \"11\": 3}}, \"ORACLE.run2_14\": {\"14\": {\"14\": 200, \"2\": 36, \"6\": 2, \"3\": 2}, \"6\": {\"6\": 222, \"13\": 18}, \"5\": {\"5\": 202, \"2\": 22, \"4\": 14, \"3\": 2}, \"15\": {\"15\": 240}, \"11\": {\"11\": 240}, \"8\": {\"8\": 240}, \"12\": {\"11\": 32, \"12\": 138, \"9\": 35, \"0\": 18, \"8\": 6, \"15\": 8, \"10\": 1, \"14\": 2}, \"1\": {\"1\": 236, \"5\": 4}, \"2\": {\"2\": 177, \"14\": 29, \"3\": 15, \"5\": 19}, \"13\": {\"13\": 213, \"6\": 26, \"2\": 1}, \"3\": {\"3\": 218, \"5\": 11, \"2\": 9, \"4\": 2}, \"0\": {\"0\": 240}, \"9\": {\"9\": 240}, \"4\": {\"4\": 232, \"5\": 8}, \"7\": {\"7\": 240}, \"10\": {\"10\": 239, \"14\": 1}}, \"ORACLE.run2_32\": {\"4\": {\"13\": 40, \"4\": 185, \"8\": 1, \"0\": 2, \"7\": 9, \"5\": 2, \"11\": 1}, \"14\": {\"14\": 216, \"0\": 18, \"5\": 6}, \"5\": {\"5\": 189, \"8\": 11, \"3\": 1, \"2\": 4, \"14\": 12, \"0\": 10, \"11\": 1, \"7\": 7, \"4\": 5}, \"10\": {\"10\": 240}, \"13\": {\"13\": 190, \"4\": 42, \"11\": 2, \"7\": 4, \"8\": 1, \"3\": 1}, \"9\": {\"9\": 240}, \"6\": {\"6\": 240}, \"3\": {\"3\": 234, \"8\": 1, \"13\": 4, \"11\": 1}, \"15\": {\"15\": 240}, \"7\": {\"4\": 10, \"5\": 5, \"7\": 211, \"11\": 13, \"0\": 1}, \"12\": {\"12\": 240}, \"8\": {\"8\": 203, \"4\": 2, \"0\": 30, \"5\": 4, \"3\": 1}, \"11\": {\"7\": 27, \"11\": 191, \"0\": 15, \"4\": 4, \"13\": 3}, \"2\": {\"2\": 237, \"4\": 1, \"5\": 1, \"7\": 1}, \"1\": {\"1\": 240}, \"0\": {\"0\": 209, \"8\": 15, \"11\": 5, \"14\": 10, \"4\": 1}}, \"ORACLE.run2_44\": {\"8\": {\"0\": 81, \"8\": 156, \"5\": 2, \"14\": 1}, \"11\": {\"11\": 239, \"6\": 1}, \"14\": {\"4\": 15, \"14\": 197, \"5\": 5, \"15\": 23}, \"10\": {\"10\": 239, \"1\": 1}, \"3\": {\"3\": 225, \"1\": 9, \"12\": 6}, \"15\": {\"15\": 215, \"4\": 4, \"14\": 18, \"8\": 2, \"0\": 1}, \"2\": {\"2\": 215, \"9\": 17, \"7\": 8}, \"12\": {\"12\": 198, \"3\": 3, \"1\": 39}, \"4\": {\"4\": 227, \"14\": 12, \"15\": 1}, \"1\": {\"1\": 196, \"3\": 14, \"12\": 30}, \"0\": {\"0\": 142, \"8\": 98}, \"9\": {\"9\": 146, \"7\": 71, \"2\": 16, \"6\": 7}, \"5\": {\"5\": 230, \"14\": 8, \"8\": 2}, \"6\": {\"6\": 231, \"9\": 5, \"13\": 3, \"7\": 1}, \"7\": {\"9\": 75, \"7\": 152, \"2\": 12, \"6\": 1}, \"13\": {\"13\": 239, \"6\": 1}}, \"ORACLE.run2_8\": {\"13\": {\"13\": 230, \"10\": 2, \"6\": 1, \"1\": 3, \"14\": 4}, \"3\": {\"3\": 238, \"12\": 2}, \"15\": {\"15\": 218, \"12\": 18, \"8\": 4}, \"4\": {\"4\": 139, \"7\": 55, \"6\": 46}, \"7\": {\"7\": 181, \"6\": 10, \"4\": 48, \"2\": 1}, \"2\": {\"2\": 233, \"7\": 5, \"4\": 2}, \"1\": {\"1\": 240}, \"0\": {\"0\": 226, \"14\": 10, \"10\": 4}, \"12\": {\"15\": 3, \"12\": 237}, \"6\": {\"6\": 171, \"4\": 59, \"7\": 10}, \"11\": {\"11\": 202, \"8\": 31, \"12\": 5, \"15\": 2}, \"9\": {\"9\": 240}, \"5\": {\"5\": 216, \"10\": 24}, \"10\": {\"10\": 215, \"5\": 15, \"14\": 5, \"13\": 2, \"0\": 3}, \"14\": {\"14\": 224, \"0\": 15, \"13\": 1}, \"8\": {\"8\": 239, \"11\": 1}}, \"ORACLE.run2_20\": {\"6\": {\"6\": 235, \"14\": 5}, \"11\": {\"11\": 240}, \"5\": {\"5\": 191, \"7\": 6, \"2\": 13, \"12\": 5, \"0\": 10, \"15\": 6, \"3\": 2, \"13\": 3, \"4\": 3, \"1\": 1}, \"14\": {\"14\": 229, \"6\": 5, \"8\": 5, \"10\": 1}, \"2\": {\"12\": 13, \"2\": 181, \"9\": 19, \"5\": 9, \"3\": 16, \"15\": 1, \"1\": 1}, \"7\": {\"7\": 233, \"3\": 4, \"5\": 1, \"8\": 1, \"2\": 1}, \"3\": {\"2\": 36, \"3\": 178, \"9\": 14, \"1\": 1, \"7\": 9, \"12\": 2}, \"4\": {\"4\": 237, \"8\": 1, \"3\": 1, \"14\": 1}, \"9\": {\"9\": 210, \"2\": 13, \"3\": 10, \"12\": 6, \"15\": 1}, \"12\": {\"12\": 196, \"1\": 28, \"2\": 5, \"3\": 2, \"5\": 7, \"9\": 2}, \"0\": {\"0\": 231, \"5\": 4, \"15\": 5}, \"10\": {\"10\": 240}, \"8\": {\"8\": 214, \"14\": 22, \"7\": 4}, \"13\": {\"15\": 15, \"13\": 216, \"2\": 2, \"5\": 7}, \"1\": {\"12\": 41, \"1\": 193, \"2\": 2, \"9\": 2, \"15\": 2}, \"15\": {\"15\": 187, \"5\": 10, \"0\": 6, \"13\": 24, \"12\": 8, \"2\": 4, \"1\": 1}}, \"ORACLE.run2_38\": {\"3\": {\"3\": 167, \"13\": 50, \"0\": 14, \"10\": 6, \"9\": 2, \"8\": 1}, \"8\": {\"8\": 164, \"7\": 18, \"5\": 57, \"15\": 1}, \"0\": {\"0\": 227, \"7\": 7, \"3\": 3, \"8\": 2, \"10\": 1}, \"2\": {\"2\": 228, \"14\": 12}, \"4\": {\"4\": 238, \"10\": 2}, \"7\": {\"7\": 172, \"10\": 31, \"8\": 14, \"5\": 21, \"0\": 1, \"13\": 1}, \"12\": {\"12\": 240}, \"6\": {\"6\": 235, \"9\": 5}, \"15\": {\"5\": 29, \"1\": 12, \"15\": 187, \"8\": 11, \"0\": 1}, \"11\": {\"11\": 240}, \"9\": {\"9\": 236, \"6\": 4}, \"14\": {\"14\": 178, \"2\": 47, \"7\": 8, \"8\": 2, \"10\": 2, \"12\": 2, \"5\": 1}, \"10\": {\"10\": 198, \"13\": 1, \"7\": 35, \"3\": 3, \"0\": 2, \"5\": 1}, \"5\": {\"5\": 166, \"7\": 19, \"8\": 51, \"15\": 4}, \"1\": {\"1\": 230, \"5\": 3, \"2\": 1, \"15\": 6}, \"13\": {\"3\": 56, \"13\": 174, \"7\": 2, \"14\": 2, \"10\": 3, \"8\": 2, \"0\": 1}}, \"ORACLE.run2_26\": {\"5\": {\"5\": 176, \"13\": 32, \"2\": 12, \"3\": 6, \"9\": 5, \"1\": 1, \"15\": 2, \"7\": 5, \"6\": 1}, \"8\": {\"8\": 184, \"10\": 12, \"7\": 11, \"2\": 7, \"14\": 8, \"0\": 14, \"4\": 3, \"1\": 1}, \"4\": {\"4\": 210, \"3\": 4, \"14\": 5, \"8\": 6, \"10\": 1, \"7\": 8, \"2\": 2, \"0\": 4}, \"12\": {\"12\": 240}, \"6\": {\"6\": 232, \"9\": 5, \"10\": 3}, \"7\": {\"8\": 6, \"7\": 128, \"2\": 64, \"3\": 13, \"13\": 2, \"4\": 14, \"15\": 13}, \"10\": {\"10\": 127, \"8\": 24, \"0\": 52, \"14\": 22, \"4\": 3, \"6\": 11, \"15\": 1}, \"0\": {\"0\": 128, \"14\": 55, \"8\": 15, \"4\": 9, \"10\": 31, \"15\": 2}, \"15\": {\"15\": 207, \"7\": 15, \"2\": 12, \"5\": 1, \"4\": 2, \"3\": 1, \"0\": 1, \"8\": 1}, \"9\": {\"9\": 232, \"13\": 5, \"5\": 1, \"6\": 2}, \"11\": {\"11\": 240}, \"14\": {\"0\": 52, \"14\": 156, \"10\": 13, \"1\": 10, \"8\": 7, \"4\": 2}, \"2\": {\"3\": 21, \"2\": 130, \"15\": 13, \"7\": 61, \"8\": 7, \"5\": 5, \"13\": 3}, \"13\": {\"13\": 210, \"5\": 25, \"7\": 1, \"9\": 4}, \"3\": {\"2\": 14, \"3\": 211, \"7\": 13, \"15\": 2}, \"1\": {\"1\": 229, \"14\": 11}}}, \"per_domain_accuracy\": {\"ORACLE.run1_50\": {\"accuracy\": 0.93515625, \"source?\": true}, \"ORACLE.run1_14\": {\"accuracy\": 0.9455729166666667, \"source?\": true}, \"ORACLE.run1_32\": {\"accuracy\": 0.9234375, \"source?\": true}, \"ORACLE.run1_44\": {\"accuracy\": 0.8385416666666666, \"source?\": true}, \"ORACLE.run1_8\": {\"accuracy\": 0.9294270833333333, \"source?\": true}, \"ORACLE.run1_20\": {\"accuracy\": 0.9278645833333333, \"source?\": true}, \"ORACLE.run1_38\": {\"accuracy\": 0.940625, \"source?\": true}, \"ORACLE.run1_26\": {\"accuracy\": 0.8427083333333333, \"source?\": true}, \"ORACLE.run2_50\": {\"accuracy\": 0.9177083333333333, \"source?\": false}, \"ORACLE.run2_14\": {\"accuracy\": 0.9158854166666667, \"source?\": false}, \"ORACLE.run2_32\": {\"accuracy\": 0.9127604166666666, \"source?\": false}, \"ORACLE.run2_44\": {\"accuracy\": 0.8455729166666667, \"source?\": false}, \"ORACLE.run2_8\": {\"accuracy\": 0.8981770833333333, \"source?\": false}, \"ORACLE.run2_20\": {\"accuracy\": 0.88828125, \"source?\": false}, \"ORACLE.run2_38\": {\"accuracy\": 0.8541666666666666, \"source?\": false}, \"ORACLE.run2_26\": {\"accuracy\": 0.7916666666666666, \"source?\": false}}}, \"history\": {\"epoch_indices\": [1, 2, 3, 4, 5, 6, 7, 8, 9, 10, 11, 12, 13, 14, 15, 16], \"train_label_loss\": [0.8144337526456054, 0.5013450959082028, 0.3892083858325523, 0.3340566241154669, 0.29275095491701947, 0.2606963626706385, 0.24106201114108053, 0.22397065838851546, 0.20846847372678376, 0.19349754876748193, 0.18131798513509456, 0.17031576434268833, 0.15798688376403117, 0.14932656050448367, 0.13998545552870686, 0.13254605948580622], \"source_val_label_loss\": [0.970952570438385, 0.44400086998939514, 0.36159729957580566, 0.31300607323646545, 0.29950910806655884, 0.29950690269470215, 0.29748648405075073, 0.25228431820869446, 0.2670486867427826, 0.3291011452674866, 0.27041274309158325, 0.25522494316101074, 0.2657901346683502, 0.28004419803619385, 0.26746881008148193, 0.2636359632015228], \"target_val_label_loss\": [0.9882957339286804, 0.5137194991111755, 0.434464693069458, 0.401062548160553, 0.3893521726131439, 0.4034981429576874, 0.4347720444202423, 0.4202078580856323, 0.452762246131897, 0.47174856066703796, 0.4206206798553467, 0.4187782406806946, 0.44498348236083984, 0.47186407446861267, 0.4876672029495239, 0.4876878559589386], \"source_val_acc_label\": [0.7296223958333333, 0.840234375, 0.8711588541666667, 0.8857421875, 0.8926432291666667, 0.8930989583333333, 0.89443359375, 0.9105794270833333, 0.9049153645833333, 0.8871744791666667, 0.9077473958333333, 0.9104166666666667, 0.9085611979166667, 0.9045572916666667, 0.9092447916666667, 0.9137369791666666], \"target_val_acc_label\": [0.7139973958333333, 0.82060546875, 0.8538736979166667, 0.8634114583333333, 0.8681966145833333, 0.86533203125, 0.8646484375, 0.87783203125, 0.8724283854166667, 0.8560546875, 0.8745768229166667, 0.87802734375, 0.8731119791666667, 0.8738932291666667, 0.8728190104166667, 0.8764973958333333]}, \"dataset_metrics\": {\"source\": {\"train\": {\"n_unique_x\": 179200, \"n_unique_y\": 16, \"n_batch/episode\": 6720}, \"val\": {\"n_unique_x\": 38400, \"n_unique_y\": 16, \"n_batch/episode\": 960}, \"test\": {\"n_unique_x\": 38400, \"n_unique_y\": 16, \"n_batch/episode\": 960}}, \"target\": {\"train\": {\"n_unique_x\": 179200, \"n_unique_y\": 16, \"n_batch/episode\": 6720}, \"val\": {\"n_unique_x\": 38400, \"n_unique_y\": 16, \"n_batch/episode\": 960}, \"test\": {\"n_unique_x\": 38400, \"n_unique_y\": 16, \"n_batch/episode\": 960}}}}'"
      ]
     },
     "execution_count": 29,
     "metadata": {},
     "output_type": "execute_result"
    }
   ],
   "source": [
    "json.dumps(experiment)"
   ]
  }
 ],
 "metadata": {
  "celltoolbar": "Tags",
  "kernelspec": {
   "display_name": "Python 3 (ipykernel)",
   "language": "python",
   "name": "python3"
  },
  "language_info": {
   "codemirror_mode": {
    "name": "ipython",
    "version": 3
   },
   "file_extension": ".py",
   "mimetype": "text/x-python",
   "name": "python",
   "nbconvert_exporter": "python",
   "pygments_lexer": "ipython3",
   "version": "3.8.12"
  },
  "papermill": {
   "default_parameters": {},
   "duration": 4043.764058,
   "end_time": "2022-03-22T07:43:47.955400",
   "environment_variables": {},
   "exception": null,
   "input_path": "/root/csc500-main/csc500-notebooks/templates/tl_ptn_template.ipynb",
   "output_path": "trial.ipynb",
   "parameters": {
    "parameters": {
     "BEST_MODEL_PATH": "./best_model.pth",
     "NUM_LOGS_PER_EPOCH": 10,
     "criteria_for_best": "target_accuracy",
     "dataset_seed": 500,
     "datasets": [
      {
       "domain_prefix": "ORACLE.run1_",
       "domains": [
        32,
        38,
        8,
        44,
        14,
        50,
        20,
        26
       ],
       "episode_transforms": [],
       "labels": [
        "3123D52",
        "3123D65",
        "3123D79",
        "3123D80",
        "3123D54",
        "3123D70",
        "3123D7B",
        "3123D89",
        "3123D58",
        "3123D76",
        "3123D7D",
        "3123EFE",
        "3123D64",
        "3123D78",
        "3123D7E",
        "3124E4A"
       ],
       "num_examples_per_domain_per_label": 2000,
       "pickle_path": "/root/csc500-main/datasets/oracle.Run1_framed_2000Examples_stratified_ds.2022A.pkl",
       "source_or_target_dataset": "source",
       "x_transforms": [
        "unit_mag"
       ]
      },
      {
       "domain_prefix": "ORACLE.run2_",
       "domains": [
        32,
        38,
        8,
        44,
        14,
        50,
        20,
        26
       ],
       "episode_transforms": [],
       "labels": [
        "3123D52",
        "3123D65",
        "3123D79",
        "3123D80",
        "3123D54",
        "3123D70",
        "3123D7B",
        "3123D89",
        "3123D58",
        "3123D76",
        "3123D7D",
        "3123EFE",
        "3123D64",
        "3123D78",
        "3123D7E",
        "3124E4A"
       ],
       "num_examples_per_domain_per_label": 2000,
       "pickle_path": "/root/csc500-main/datasets/oracle.Run2_framed_2000Examples_stratified_ds.2022A.pkl",
       "source_or_target_dataset": "target",
       "x_transforms": [
        "unit_mag"
       ]
      }
     ],
     "device": "cuda",
     "experiment_name": "tl_1v2:oracle.run1.framed-oracle.run2.framed",
     "lr": 0.0001,
     "n_epoch": 50,
     "n_query": 2,
     "n_shot": 3,
     "n_way": 16,
     "patience": 3,
     "seed": 500,
     "test_k_factor": 2,
     "torch_default_dtype": "torch.float32",
     "train_k_factor": 3,
     "val_k_factor": 2,
     "x_net": [
      {
       "class": "nnReshape",
       "kargs": {
        "shape": [
         -1,
         1,
         2,
         256
        ]
       }
      },
      {
       "class": "Conv2d",
       "kargs": {
        "bias": false,
        "in_channels": 1,
        "kernel_size": [
         1,
         7
        ],
        "out_channels": 256,
        "padding": [
         0,
         3
        ]
       }
      },
      {
       "class": "ReLU",
       "kargs": {
        "inplace": true
       }
      },
      {
       "class": "BatchNorm2d",
       "kargs": {
        "num_features": 256
       }
      },
      {
       "class": "Conv2d",
       "kargs": {
        "bias": true,
        "in_channels": 256,
        "kernel_size": [
         2,
         7
        ],
        "out_channels": 80,
        "padding": [
         0,
         3
        ]
       }
      },
      {
       "class": "ReLU",
       "kargs": {
        "inplace": true
       }
      },
      {
       "class": "BatchNorm2d",
       "kargs": {
        "num_features": 80
       }
      },
      {
       "class": "Flatten",
       "kargs": {}
      },
      {
       "class": "Linear",
       "kargs": {
        "in_features": 20480,
        "out_features": 256
       }
      },
      {
       "class": "ReLU",
       "kargs": {
        "inplace": true
       }
      },
      {
       "class": "BatchNorm1d",
       "kargs": {
        "num_features": 256
       }
      },
      {
       "class": "Linear",
       "kargs": {
        "in_features": 256,
        "out_features": 256
       }
      }
     ]
    }
   },
   "start_time": "2022-03-22T06:36:24.191342",
   "version": "2.3.4"
  }
 },
 "nbformat": 4,
 "nbformat_minor": 5
}