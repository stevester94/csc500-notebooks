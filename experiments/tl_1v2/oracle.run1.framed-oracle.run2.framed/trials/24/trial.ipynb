{
 "cells": [
  {
   "cell_type": "markdown",
   "id": "9fea5f46",
   "metadata": {
    "papermill": {
     "duration": 0.029249,
     "end_time": "2022-03-22T05:18:46.205781",
     "exception": false,
     "start_time": "2022-03-22T05:18:46.176532",
     "status": "completed"
    },
    "tags": []
   },
   "source": [
    "# Transfer Learning Template"
   ]
  },
  {
   "cell_type": "code",
   "execution_count": 1,
   "id": "0902182a",
   "metadata": {
    "execution": {
     "iopub.execute_input": "2022-03-22T05:18:46.261921Z",
     "iopub.status.busy": "2022-03-22T05:18:46.250458Z",
     "iopub.status.idle": "2022-03-22T05:18:48.752596Z",
     "shell.execute_reply": "2022-03-22T05:18:48.753322Z"
    },
    "papermill": {
     "duration": 2.529265,
     "end_time": "2022-03-22T05:18:48.753658",
     "exception": false,
     "start_time": "2022-03-22T05:18:46.224393",
     "status": "completed"
    },
    "tags": []
   },
   "outputs": [],
   "source": [
    "%load_ext autoreload\n",
    "%autoreload 2\n",
    "%matplotlib inline\n",
    "\n",
    "    \n",
    "import os, json, sys, time, random\n",
    "import numpy as np\n",
    "import torch\n",
    "from torch.optim import Adam\n",
    "from  easydict import EasyDict\n",
    "import matplotlib.pyplot as plt\n",
    "\n",
    "from steves_models.steves_ptn import Steves_Prototypical_Network\n",
    "\n",
    "from steves_utils.lazy_iterable_wrapper import Lazy_Iterable_Wrapper\n",
    "from steves_utils.iterable_aggregator import Iterable_Aggregator\n",
    "from steves_utils.ptn_train_eval_test_jig import  PTN_Train_Eval_Test_Jig\n",
    "from steves_utils.torch_sequential_builder import build_sequential\n",
    "from steves_utils.torch_utils import get_dataset_metrics, ptn_confusion_by_domain_over_dataloader\n",
    "from steves_utils.utils_v2 import (per_domain_accuracy_from_confusion, get_datasets_base_path)\n",
    "from steves_utils.PTN.utils import independent_accuracy_assesment\n",
    "\n",
    "from torch.utils.data import DataLoader\n",
    "\n",
    "from steves_utils.stratified_dataset.episodic_accessor import Episodic_Accessor_Factory\n",
    "\n",
    "from steves_utils.ptn_do_report import (\n",
    "    get_loss_curve,\n",
    "    get_results_table,\n",
    "    get_parameters_table,\n",
    "    get_domain_accuracies,\n",
    ")\n",
    "\n",
    "from steves_utils.transforms import get_chained_transform"
   ]
  },
  {
   "cell_type": "markdown",
   "id": "41c840b4",
   "metadata": {
    "papermill": {
     "duration": 0.019775,
     "end_time": "2022-03-22T05:18:48.801381",
     "exception": false,
     "start_time": "2022-03-22T05:18:48.781606",
     "status": "completed"
    },
    "tags": []
   },
   "source": [
    "# Allowed Parameters\n",
    "These are allowed parameters, not defaults\n",
    "Each of these values need to be present in the injected parameters (the notebook will raise an exception if they are not present)\n",
    "\n",
    "Papermill uses the cell tag \"parameters\" to inject the real parameters below this cell.\n",
    "Enable tags to see what I mean"
   ]
  },
  {
   "cell_type": "code",
   "execution_count": 2,
   "id": "fd44eb83",
   "metadata": {
    "execution": {
     "iopub.execute_input": "2022-03-22T05:18:48.845664Z",
     "iopub.status.busy": "2022-03-22T05:18:48.845276Z",
     "iopub.status.idle": "2022-03-22T05:18:48.869275Z",
     "shell.execute_reply": "2022-03-22T05:18:48.868575Z"
    },
    "papermill": {
     "duration": 0.048645,
     "end_time": "2022-03-22T05:18:48.869454",
     "exception": false,
     "start_time": "2022-03-22T05:18:48.820809",
     "status": "completed"
    },
    "tags": []
   },
   "outputs": [],
   "source": [
    "required_parameters = {\n",
    "    \"experiment_name\",\n",
    "    \"lr\",\n",
    "    \"device\",\n",
    "    \"seed\",\n",
    "    \"dataset_seed\",\n",
    "    \"n_shot\",\n",
    "    \"n_query\",\n",
    "    \"n_way\",\n",
    "    \"train_k_factor\",\n",
    "    \"val_k_factor\",\n",
    "    \"test_k_factor\",\n",
    "    \"n_epoch\",\n",
    "    \"patience\",\n",
    "    \"criteria_for_best\",\n",
    "    \"x_net\",\n",
    "    \"datasets\",\n",
    "    \"torch_default_dtype\",\n",
    "    \"NUM_LOGS_PER_EPOCH\",\n",
    "    \"BEST_MODEL_PATH\",\n",
    "    \"x_shape\",\n",
    "}"
   ]
  },
  {
   "cell_type": "code",
   "execution_count": 3,
   "id": "fa3f0049",
   "metadata": {
    "execution": {
     "iopub.execute_input": "2022-03-22T05:18:48.931907Z",
     "iopub.status.busy": "2022-03-22T05:18:48.931154Z",
     "iopub.status.idle": "2022-03-22T05:18:48.954491Z",
     "shell.execute_reply": "2022-03-22T05:18:48.953783Z"
    },
    "papermill": {
     "duration": 0.054874,
     "end_time": "2022-03-22T05:18:48.954662",
     "exception": false,
     "start_time": "2022-03-22T05:18:48.899788",
     "status": "completed"
    },
    "tags": [
     "parameters"
    ]
   },
   "outputs": [],
   "source": [
    "from steves_utils.CORES.utils import (\n",
    "    ALL_NODES,\n",
    "    ALL_NODES_MINIMUM_1000_EXAMPLES,\n",
    "    ALL_DAYS\n",
    ")\n",
    "\n",
    "from steves_utils.ORACLE.utils_v2 import (\n",
    "    ALL_DISTANCES_FEET_NARROWED,\n",
    "    ALL_RUNS,\n",
    "    ALL_SERIAL_NUMBERS,\n",
    ")\n",
    "\n",
    "standalone_parameters = {}\n",
    "standalone_parameters[\"experiment_name\"] = \"STANDALONE PTN\"\n",
    "standalone_parameters[\"lr\"] = 0.001\n",
    "standalone_parameters[\"device\"] = \"cuda\"\n",
    "\n",
    "standalone_parameters[\"seed\"] = 1337\n",
    "standalone_parameters[\"dataset_seed\"] = 1337\n",
    "\n",
    "standalone_parameters[\"n_way\"] = 8\n",
    "standalone_parameters[\"n_shot\"] = 3\n",
    "standalone_parameters[\"n_query\"]  = 2\n",
    "standalone_parameters[\"train_k_factor\"] = 1\n",
    "standalone_parameters[\"val_k_factor\"] = 2\n",
    "standalone_parameters[\"test_k_factor\"] = 2\n",
    "\n",
    "\n",
    "standalone_parameters[\"n_epoch\"] = 50\n",
    "\n",
    "standalone_parameters[\"patience\"] = 10\n",
    "standalone_parameters[\"criteria_for_best\"] = \"source_loss\"\n",
    "\n",
    "standalone_parameters[\"datasets\"] = [\n",
    "    {\n",
    "        \"labels\": ALL_SERIAL_NUMBERS,\n",
    "        \"domains\": ALL_DISTANCES_FEET_NARROWED,\n",
    "        \"num_examples_per_domain_per_label\": 100,\n",
    "        \"pickle_path\": os.path.join(get_datasets_base_path(), \"oracle.Run1_framed_2000Examples_stratified_ds.2022A.pkl\"),\n",
    "        \"source_or_target_dataset\": \"source\",\n",
    "        \"x_transforms\": [\"unit_mag\", \"minus_two\"],\n",
    "        \"episode_transforms\": [],\n",
    "        \"domain_prefix\": \"ORACLE_\"\n",
    "    },\n",
    "    {\n",
    "        \"labels\": ALL_NODES,\n",
    "        \"domains\": ALL_DAYS,\n",
    "        \"num_examples_per_domain_per_label\": 100,\n",
    "        \"pickle_path\": os.path.join(get_datasets_base_path(), \"cores.stratified_ds.2022A.pkl\"),\n",
    "        \"source_or_target_dataset\": \"target\",\n",
    "        \"x_transforms\": [\"unit_power\", \"times_zero\"],\n",
    "        \"episode_transforms\": [],\n",
    "        \"domain_prefix\": \"CORES_\"\n",
    "    }   \n",
    "]\n",
    "\n",
    "standalone_parameters[\"torch_default_dtype\"] = \"torch.float32\" \n",
    "\n",
    "\n",
    "\n",
    "standalone_parameters[\"x_net\"] =     [\n",
    "    {\"class\": \"nnReshape\", \"kargs\": {\"shape\":[-1, 1, 2, 256]}},\n",
    "    {\"class\": \"Conv2d\", \"kargs\": { \"in_channels\":1, \"out_channels\":256, \"kernel_size\":(1,7), \"bias\":False, \"padding\":(0,3), },},\n",
    "    {\"class\": \"ReLU\", \"kargs\": {\"inplace\": True}},\n",
    "    {\"class\": \"BatchNorm2d\", \"kargs\": {\"num_features\":256}},\n",
    "\n",
    "    {\"class\": \"Conv2d\", \"kargs\": { \"in_channels\":256, \"out_channels\":80, \"kernel_size\":(2,7), \"bias\":True, \"padding\":(0,3), },},\n",
    "    {\"class\": \"ReLU\", \"kargs\": {\"inplace\": True}},\n",
    "    {\"class\": \"BatchNorm2d\", \"kargs\": {\"num_features\":80}},\n",
    "    {\"class\": \"Flatten\", \"kargs\": {}},\n",
    "\n",
    "    {\"class\": \"Linear\", \"kargs\": {\"in_features\": 80*256, \"out_features\": 256}}, # 80 units per IQ pair\n",
    "    {\"class\": \"ReLU\", \"kargs\": {\"inplace\": True}},\n",
    "    {\"class\": \"BatchNorm1d\", \"kargs\": {\"num_features\":256}},\n",
    "\n",
    "    {\"class\": \"Linear\", \"kargs\": {\"in_features\": 256, \"out_features\": 256}},\n",
    "]\n",
    "\n",
    "# Parameters relevant to results\n",
    "# These parameters will basically never need to change\n",
    "standalone_parameters[\"NUM_LOGS_PER_EPOCH\"] = 10\n",
    "standalone_parameters[\"BEST_MODEL_PATH\"] = \"./best_model.pth\"\n",
    "\n",
    "\n",
    "\n",
    "\n"
   ]
  },
  {
   "cell_type": "code",
   "execution_count": 4,
   "id": "635eb98a",
   "metadata": {
    "execution": {
     "iopub.execute_input": "2022-03-22T05:18:49.012576Z",
     "iopub.status.busy": "2022-03-22T05:18:49.011631Z",
     "iopub.status.idle": "2022-03-22T05:18:49.034803Z",
     "shell.execute_reply": "2022-03-22T05:18:49.034100Z"
    },
    "papermill": {
     "duration": 0.05579,
     "end_time": "2022-03-22T05:18:49.034987",
     "exception": false,
     "start_time": "2022-03-22T05:18:48.979197",
     "status": "completed"
    },
    "tags": [
     "injected-parameters"
    ]
   },
   "outputs": [],
   "source": [
    "# Parameters\n",
    "parameters = {\n",
    "    \"experiment_name\": \"tl_1v2:oracle.run1.framed-oracle.run2.framed\",\n",
    "    \"device\": \"cuda\",\n",
    "    \"lr\": 0.0001,\n",
    "    \"n_shot\": 3,\n",
    "    \"n_query\": 2,\n",
    "    \"train_k_factor\": 3,\n",
    "    \"val_k_factor\": 2,\n",
    "    \"test_k_factor\": 2,\n",
    "    \"torch_default_dtype\": \"torch.float32\",\n",
    "    \"n_epoch\": 50,\n",
    "    \"patience\": 3,\n",
    "    \"criteria_for_best\": \"target_accuracy\",\n",
    "    \"x_net\": [\n",
    "        {\"class\": \"nnReshape\", \"kargs\": {\"shape\": [-1, 1, 2, 256]}},\n",
    "        {\n",
    "            \"class\": \"Conv2d\",\n",
    "            \"kargs\": {\n",
    "                \"in_channels\": 1,\n",
    "                \"out_channels\": 256,\n",
    "                \"kernel_size\": [1, 7],\n",
    "                \"bias\": False,\n",
    "                \"padding\": [0, 3],\n",
    "            },\n",
    "        },\n",
    "        {\"class\": \"ReLU\", \"kargs\": {\"inplace\": True}},\n",
    "        {\"class\": \"BatchNorm2d\", \"kargs\": {\"num_features\": 256}},\n",
    "        {\n",
    "            \"class\": \"Conv2d\",\n",
    "            \"kargs\": {\n",
    "                \"in_channels\": 256,\n",
    "                \"out_channels\": 80,\n",
    "                \"kernel_size\": [2, 7],\n",
    "                \"bias\": True,\n",
    "                \"padding\": [0, 3],\n",
    "            },\n",
    "        },\n",
    "        {\"class\": \"ReLU\", \"kargs\": {\"inplace\": True}},\n",
    "        {\"class\": \"BatchNorm2d\", \"kargs\": {\"num_features\": 80}},\n",
    "        {\"class\": \"Flatten\", \"kargs\": {}},\n",
    "        {\"class\": \"Linear\", \"kargs\": {\"in_features\": 20480, \"out_features\": 256}},\n",
    "        {\"class\": \"ReLU\", \"kargs\": {\"inplace\": True}},\n",
    "        {\"class\": \"BatchNorm1d\", \"kargs\": {\"num_features\": 256}},\n",
    "        {\"class\": \"Linear\", \"kargs\": {\"in_features\": 256, \"out_features\": 256}},\n",
    "    ],\n",
    "    \"NUM_LOGS_PER_EPOCH\": 10,\n",
    "    \"BEST_MODEL_PATH\": \"./best_model.pth\",\n",
    "    \"n_way\": 16,\n",
    "    \"datasets\": [\n",
    "        {\n",
    "            \"labels\": [\n",
    "                \"3123D52\",\n",
    "                \"3123D65\",\n",
    "                \"3123D79\",\n",
    "                \"3123D80\",\n",
    "                \"3123D54\",\n",
    "                \"3123D70\",\n",
    "                \"3123D7B\",\n",
    "                \"3123D89\",\n",
    "                \"3123D58\",\n",
    "                \"3123D76\",\n",
    "                \"3123D7D\",\n",
    "                \"3123EFE\",\n",
    "                \"3123D64\",\n",
    "                \"3123D78\",\n",
    "                \"3123D7E\",\n",
    "                \"3124E4A\",\n",
    "            ],\n",
    "            \"domains\": [32, 38, 8, 44, 14, 50, 20, 26],\n",
    "            \"num_examples_per_domain_per_label\": 2000,\n",
    "            \"pickle_path\": \"/root/csc500-main/datasets/oracle.Run1_framed_2000Examples_stratified_ds.2022A.pkl\",\n",
    "            \"source_or_target_dataset\": \"source\",\n",
    "            \"x_transforms\": [\"unit_power\"],\n",
    "            \"episode_transforms\": [],\n",
    "            \"domain_prefix\": \"ORACLE.run1_\",\n",
    "        },\n",
    "        {\n",
    "            \"labels\": [\n",
    "                \"3123D52\",\n",
    "                \"3123D65\",\n",
    "                \"3123D79\",\n",
    "                \"3123D80\",\n",
    "                \"3123D54\",\n",
    "                \"3123D70\",\n",
    "                \"3123D7B\",\n",
    "                \"3123D89\",\n",
    "                \"3123D58\",\n",
    "                \"3123D76\",\n",
    "                \"3123D7D\",\n",
    "                \"3123EFE\",\n",
    "                \"3123D64\",\n",
    "                \"3123D78\",\n",
    "                \"3123D7E\",\n",
    "                \"3124E4A\",\n",
    "            ],\n",
    "            \"domains\": [32, 38, 8, 44, 14, 50, 20, 26],\n",
    "            \"num_examples_per_domain_per_label\": 2000,\n",
    "            \"pickle_path\": \"/root/csc500-main/datasets/oracle.Run2_framed_2000Examples_stratified_ds.2022A.pkl\",\n",
    "            \"source_or_target_dataset\": \"target\",\n",
    "            \"x_transforms\": [\"unit_power\"],\n",
    "            \"episode_transforms\": [],\n",
    "            \"domain_prefix\": \"ORACLE.run2_\",\n",
    "        },\n",
    "    ],\n",
    "    \"dataset_seed\": 500,\n",
    "    \"seed\": 500,\n",
    "}\n"
   ]
  },
  {
   "cell_type": "code",
   "execution_count": 5,
   "id": "8fa1cc33",
   "metadata": {
    "execution": {
     "iopub.execute_input": "2022-03-22T05:18:49.293705Z",
     "iopub.status.busy": "2022-03-22T05:18:49.293316Z",
     "iopub.status.idle": "2022-03-22T05:18:49.318889Z",
     "shell.execute_reply": "2022-03-22T05:18:49.318160Z"
    },
    "papermill": {
     "duration": 0.052453,
     "end_time": "2022-03-22T05:18:49.319063",
     "exception": false,
     "start_time": "2022-03-22T05:18:49.266610",
     "status": "completed"
    },
    "tags": []
   },
   "outputs": [],
   "source": [
    "# Set this to True if you want to run this template directly\n",
    "STANDALONE = False\n",
    "if STANDALONE:\n",
    "    print(\"parameters not injected, running with standalone_parameters\")\n",
    "    parameters = standalone_parameters\n",
    "\n",
    "if not 'parameters' in locals() and not 'parameters' in globals():\n",
    "    raise Exception(\"Parameter injection failed\")\n",
    "\n",
    "#Use an easy dict for all the parameters\n",
    "p = EasyDict(parameters)\n",
    "\n",
    "if \"x_shape\" not in p:\n",
    "    p.x_shape = [2,256] # Default to this if we dont supply x_shape\n",
    "\n",
    "\n",
    "supplied_keys = set(p.keys())\n",
    "\n",
    "if  supplied_keys != required_parameters:\n",
    "    print(\"Parameters are incorrect\")\n",
    "    if len(supplied_keys - required_parameters)>0: print(\"Shouldn't have:\", str(supplied_keys - required_parameters))\n",
    "    if len(required_parameters - supplied_keys)>0: print(\"Need to have:\", str(required_parameters - supplied_keys))\n",
    "    raise RuntimeError(\"Parameters are incorrect\")"
   ]
  },
  {
   "cell_type": "code",
   "execution_count": 6,
   "id": "3a028d58",
   "metadata": {
    "execution": {
     "iopub.execute_input": "2022-03-22T05:18:49.369441Z",
     "iopub.status.busy": "2022-03-22T05:18:49.369061Z",
     "iopub.status.idle": "2022-03-22T05:18:49.394396Z",
     "shell.execute_reply": "2022-03-22T05:18:49.393561Z"
    },
    "papermill": {
     "duration": 0.048601,
     "end_time": "2022-03-22T05:18:49.394567",
     "exception": false,
     "start_time": "2022-03-22T05:18:49.345966",
     "status": "completed"
    },
    "tags": []
   },
   "outputs": [],
   "source": [
    "###################################\n",
    "# Set the RNGs and make it all deterministic\n",
    "###################################\n",
    "np.random.seed(p.seed)\n",
    "random.seed(p.seed)\n",
    "torch.manual_seed(p.seed)\n",
    "\n",
    "torch.use_deterministic_algorithms(True) "
   ]
  },
  {
   "cell_type": "code",
   "execution_count": 7,
   "id": "b691acf6",
   "metadata": {
    "execution": {
     "iopub.execute_input": "2022-03-22T05:18:49.443412Z",
     "iopub.status.busy": "2022-03-22T05:18:49.443042Z",
     "iopub.status.idle": "2022-03-22T05:18:49.467949Z",
     "shell.execute_reply": "2022-03-22T05:18:49.467189Z"
    },
    "papermill": {
     "duration": 0.048365,
     "end_time": "2022-03-22T05:18:49.468121",
     "exception": false,
     "start_time": "2022-03-22T05:18:49.419756",
     "status": "completed"
    },
    "tags": []
   },
   "outputs": [],
   "source": [
    "###########################################\n",
    "# The stratified datasets honor this\n",
    "###########################################\n",
    "torch.set_default_dtype(eval(p.torch_default_dtype))"
   ]
  },
  {
   "cell_type": "code",
   "execution_count": 8,
   "id": "b5fba671",
   "metadata": {
    "execution": {
     "iopub.execute_input": "2022-03-22T05:18:49.517974Z",
     "iopub.status.busy": "2022-03-22T05:18:49.517595Z",
     "iopub.status.idle": "2022-03-22T05:18:49.572945Z",
     "shell.execute_reply": "2022-03-22T05:18:49.572196Z"
    },
    "papermill": {
     "duration": 0.078036,
     "end_time": "2022-03-22T05:18:49.573126",
     "exception": false,
     "start_time": "2022-03-22T05:18:49.495090",
     "status": "completed"
    },
    "tags": []
   },
   "outputs": [],
   "source": [
    "###################################\n",
    "# Build the network(s)\n",
    "# Note: It's critical to do this AFTER setting the RNG\n",
    "###################################\n",
    "x_net = build_sequential(p.x_net)"
   ]
  },
  {
   "cell_type": "code",
   "execution_count": 9,
   "id": "5d7e61cc",
   "metadata": {
    "execution": {
     "iopub.execute_input": "2022-03-22T05:18:49.622319Z",
     "iopub.status.busy": "2022-03-22T05:18:49.621689Z",
     "iopub.status.idle": "2022-03-22T05:18:49.647164Z",
     "shell.execute_reply": "2022-03-22T05:18:49.646378Z"
    },
    "papermill": {
     "duration": 0.04963,
     "end_time": "2022-03-22T05:18:49.647348",
     "exception": false,
     "start_time": "2022-03-22T05:18:49.597718",
     "status": "completed"
    },
    "tags": []
   },
   "outputs": [],
   "source": [
    "start_time_secs = time.time()"
   ]
  },
  {
   "cell_type": "code",
   "execution_count": 10,
   "id": "c6b67dfd",
   "metadata": {
    "execution": {
     "iopub.execute_input": "2022-03-22T05:18:49.698700Z",
     "iopub.status.busy": "2022-03-22T05:18:49.698335Z",
     "iopub.status.idle": "2022-03-22T05:18:49.723447Z",
     "shell.execute_reply": "2022-03-22T05:18:49.722722Z"
    },
    "papermill": {
     "duration": 0.048967,
     "end_time": "2022-03-22T05:18:49.723630",
     "exception": false,
     "start_time": "2022-03-22T05:18:49.674663",
     "status": "completed"
    },
    "tags": []
   },
   "outputs": [],
   "source": [
    "p.domains_source = []\n",
    "p.domains_target = []\n",
    "\n",
    "\n",
    "train_original_source = []\n",
    "val_original_source   = []\n",
    "test_original_source  = []\n",
    "\n",
    "train_original_target = []\n",
    "val_original_target   = []\n",
    "test_original_target  = []"
   ]
  },
  {
   "cell_type": "code",
   "execution_count": 11,
   "id": "e3d9c3d3",
   "metadata": {
    "execution": {
     "iopub.execute_input": "2022-03-22T05:18:49.773167Z",
     "iopub.status.busy": "2022-03-22T05:18:49.772615Z",
     "iopub.status.idle": "2022-03-22T05:18:49.794023Z",
     "shell.execute_reply": "2022-03-22T05:18:49.793257Z"
    },
    "papermill": {
     "duration": 0.043306,
     "end_time": "2022-03-22T05:18:49.794179",
     "exception": false,
     "start_time": "2022-03-22T05:18:49.750873",
     "status": "completed"
    },
    "tags": []
   },
   "outputs": [],
   "source": [
    "# global_x_transform_func = lambda x: normalize(x.to(torch.get_default_dtype()), \"unit_power\") # unit_power, unit_mag\n",
    "# global_x_transform_func = lambda x: normalize(x, \"unit_power\") # unit_power, unit_mag"
   ]
  },
  {
   "cell_type": "code",
   "execution_count": 12,
   "id": "acb78fd2",
   "metadata": {
    "execution": {
     "iopub.execute_input": "2022-03-22T05:18:49.845836Z",
     "iopub.status.busy": "2022-03-22T05:18:49.845189Z",
     "iopub.status.idle": "2022-03-22T05:18:49.864032Z",
     "shell.execute_reply": "2022-03-22T05:18:49.863311Z"
    },
    "papermill": {
     "duration": 0.045098,
     "end_time": "2022-03-22T05:18:49.864188",
     "exception": false,
     "start_time": "2022-03-22T05:18:49.819090",
     "status": "completed"
    },
    "tags": []
   },
   "outputs": [],
   "source": [
    "def add_dataset(\n",
    "    labels,\n",
    "    domains,\n",
    "    pickle_path,\n",
    "    x_transforms,\n",
    "    episode_transforms,\n",
    "    domain_prefix,\n",
    "    num_examples_per_domain_per_label,\n",
    "    source_or_target_dataset:str,\n",
    "    iterator_seed=p.seed,\n",
    "    dataset_seed=p.dataset_seed,\n",
    "    n_shot=p.n_shot,\n",
    "    n_way=p.n_way,\n",
    "    n_query=p.n_query,\n",
    "    train_val_test_k_factors=(p.train_k_factor,p.val_k_factor,p.test_k_factor),\n",
    "):\n",
    "   \n",
    "    if x_transforms == []: x_transform = None\n",
    "    else: x_transform = get_chained_transform(x_transforms)\n",
    "    \n",
    "    if episode_transforms == []: episode_transform = None\n",
    "    else: raise Exception(\"episode_transforms not implemented\")\n",
    "    \n",
    "    episode_transform = lambda tup, _prefix=domain_prefix: (_prefix + str(tup[0]), tup[1])\n",
    "\n",
    "\n",
    "    eaf = Episodic_Accessor_Factory(\n",
    "        labels=labels,\n",
    "        domains=domains,\n",
    "        num_examples_per_domain_per_label=num_examples_per_domain_per_label,\n",
    "        iterator_seed=iterator_seed,\n",
    "        dataset_seed=dataset_seed,\n",
    "        n_shot=n_shot,\n",
    "        n_way=n_way,\n",
    "        n_query=n_query,\n",
    "        train_val_test_k_factors=train_val_test_k_factors,\n",
    "        pickle_path=pickle_path,\n",
    "        x_transform_func=x_transform,\n",
    "    )\n",
    "\n",
    "    train, val, test = eaf.get_train(), eaf.get_val(), eaf.get_test()\n",
    "    train = Lazy_Iterable_Wrapper(train, episode_transform)\n",
    "    val = Lazy_Iterable_Wrapper(val, episode_transform)\n",
    "    test = Lazy_Iterable_Wrapper(test, episode_transform)\n",
    "\n",
    "    if source_or_target_dataset==\"source\":\n",
    "        train_original_source.append(train)\n",
    "        val_original_source.append(val)\n",
    "        test_original_source.append(test)\n",
    "\n",
    "        p.domains_source.extend(\n",
    "            [domain_prefix + str(u) for u in domains]\n",
    "        )\n",
    "    elif source_or_target_dataset==\"target\":\n",
    "        train_original_target.append(train)\n",
    "        val_original_target.append(val)\n",
    "        test_original_target.append(test)\n",
    "        p.domains_target.extend(\n",
    "            [domain_prefix + str(u) for u in domains]\n",
    "        )\n",
    "    else:\n",
    "        raise Exception(f\"invalid source_or_target_dataset: {source_or_target_dataset}\")\n",
    "    "
   ]
  },
  {
   "cell_type": "code",
   "execution_count": 13,
   "id": "fe266617",
   "metadata": {
    "execution": {
     "iopub.execute_input": "2022-03-22T05:18:49.913985Z",
     "iopub.status.busy": "2022-03-22T05:18:49.913626Z",
     "iopub.status.idle": "2022-03-22T05:19:33.669189Z",
     "shell.execute_reply": "2022-03-22T05:19:33.668396Z"
    },
    "papermill": {
     "duration": 43.778944,
     "end_time": "2022-03-22T05:19:33.669376",
     "exception": false,
     "start_time": "2022-03-22T05:18:49.890432",
     "status": "completed"
    },
    "tags": []
   },
   "outputs": [],
   "source": [
    "for ds in p.datasets:\n",
    "    add_dataset(**ds)"
   ]
  },
  {
   "cell_type": "code",
   "execution_count": 14,
   "id": "b90d65ac",
   "metadata": {
    "execution": {
     "iopub.execute_input": "2022-03-22T05:19:33.719466Z",
     "iopub.status.busy": "2022-03-22T05:19:33.718945Z",
     "iopub.status.idle": "2022-03-22T05:19:33.742349Z",
     "shell.execute_reply": "2022-03-22T05:19:33.741946Z"
    },
    "papermill": {
     "duration": 0.047726,
     "end_time": "2022-03-22T05:19:33.742440",
     "exception": false,
     "start_time": "2022-03-22T05:19:33.694714",
     "status": "completed"
    },
    "tags": []
   },
   "outputs": [],
   "source": [
    "# from steves_utils.CORES.utils import (\n",
    "#     ALL_NODES,\n",
    "#     ALL_NODES_MINIMUM_1000_EXAMPLES,\n",
    "#     ALL_DAYS\n",
    "# )\n",
    "\n",
    "# add_dataset(\n",
    "#     labels=ALL_NODES,\n",
    "#     domains = ALL_DAYS,\n",
    "#     num_examples_per_domain_per_label=100,\n",
    "#     pickle_path=os.path.join(get_datasets_base_path(), \"cores.stratified_ds.2022A.pkl\"),\n",
    "#     source_or_target_dataset=\"target\",\n",
    "#     x_transform_func=global_x_transform_func,\n",
    "#     domain_modifier=lambda u: f\"cores_{u}\"\n",
    "# )"
   ]
  },
  {
   "cell_type": "code",
   "execution_count": 15,
   "id": "76db484d",
   "metadata": {
    "execution": {
     "iopub.execute_input": "2022-03-22T05:19:33.789542Z",
     "iopub.status.busy": "2022-03-22T05:19:33.788973Z",
     "iopub.status.idle": "2022-03-22T05:19:33.808874Z",
     "shell.execute_reply": "2022-03-22T05:19:33.808526Z"
    },
    "papermill": {
     "duration": 0.043411,
     "end_time": "2022-03-22T05:19:33.808960",
     "exception": false,
     "start_time": "2022-03-22T05:19:33.765549",
     "status": "completed"
    },
    "tags": []
   },
   "outputs": [],
   "source": [
    "# from steves_utils.ORACLE.utils_v2 import (\n",
    "#     ALL_DISTANCES_FEET,\n",
    "#     ALL_RUNS,\n",
    "#     ALL_SERIAL_NUMBERS,\n",
    "# )\n",
    "\n",
    "\n",
    "# add_dataset(\n",
    "#     labels=ALL_SERIAL_NUMBERS,\n",
    "#     domains = list(set(ALL_DISTANCES_FEET) - {2,62}),\n",
    "#     num_examples_per_domain_per_label=100,\n",
    "#     pickle_path=os.path.join(get_datasets_base_path(), \"oracle.Run2_framed_2000Examples_stratified_ds.2022A.pkl\"),\n",
    "#     source_or_target_dataset=\"source\",\n",
    "#     x_transform_func=global_x_transform_func,\n",
    "#     domain_modifier=lambda u: f\"oracle1_{u}\"\n",
    "# )\n"
   ]
  },
  {
   "cell_type": "code",
   "execution_count": 16,
   "id": "97dea9d2",
   "metadata": {
    "execution": {
     "iopub.execute_input": "2022-03-22T05:19:33.854492Z",
     "iopub.status.busy": "2022-03-22T05:19:33.853635Z",
     "iopub.status.idle": "2022-03-22T05:19:33.875652Z",
     "shell.execute_reply": "2022-03-22T05:19:33.875295Z"
    },
    "papermill": {
     "duration": 0.045458,
     "end_time": "2022-03-22T05:19:33.875747",
     "exception": false,
     "start_time": "2022-03-22T05:19:33.830289",
     "status": "completed"
    },
    "tags": []
   },
   "outputs": [],
   "source": [
    "# from steves_utils.ORACLE.utils_v2 import (\n",
    "#     ALL_DISTANCES_FEET,\n",
    "#     ALL_RUNS,\n",
    "#     ALL_SERIAL_NUMBERS,\n",
    "# )\n",
    "\n",
    "\n",
    "# add_dataset(\n",
    "#     labels=ALL_SERIAL_NUMBERS,\n",
    "#     domains = list(set(ALL_DISTANCES_FEET) - {2,62,56}),\n",
    "#     num_examples_per_domain_per_label=100,\n",
    "#     pickle_path=os.path.join(get_datasets_base_path(), \"oracle.Run2_framed_2000Examples_stratified_ds.2022A.pkl\"),\n",
    "#     source_or_target_dataset=\"source\",\n",
    "#     x_transform_func=global_x_transform_func,\n",
    "#     domain_modifier=lambda u: f\"oracle2_{u}\"\n",
    "# )"
   ]
  },
  {
   "cell_type": "code",
   "execution_count": 17,
   "id": "6f289866",
   "metadata": {
    "execution": {
     "iopub.execute_input": "2022-03-22T05:19:33.920494Z",
     "iopub.status.busy": "2022-03-22T05:19:33.919932Z",
     "iopub.status.idle": "2022-03-22T05:19:33.940806Z",
     "shell.execute_reply": "2022-03-22T05:19:33.940455Z"
    },
    "papermill": {
     "duration": 0.04422,
     "end_time": "2022-03-22T05:19:33.940895",
     "exception": false,
     "start_time": "2022-03-22T05:19:33.896675",
     "status": "completed"
    },
    "tags": []
   },
   "outputs": [],
   "source": [
    "# add_dataset(\n",
    "#     labels=list(range(19)),\n",
    "#     domains = [0,1,2],\n",
    "#     num_examples_per_domain_per_label=100,\n",
    "#     pickle_path=os.path.join(get_datasets_base_path(), \"metehan.stratified_ds.2022A.pkl\"),\n",
    "#     source_or_target_dataset=\"target\",\n",
    "#     x_transform_func=global_x_transform_func,\n",
    "#     domain_modifier=lambda u: f\"met_{u}\"\n",
    "# )"
   ]
  },
  {
   "cell_type": "code",
   "execution_count": 18,
   "id": "86a863c3",
   "metadata": {
    "execution": {
     "iopub.execute_input": "2022-03-22T05:19:33.985551Z",
     "iopub.status.busy": "2022-03-22T05:19:33.985129Z",
     "iopub.status.idle": "2022-03-22T05:19:34.014586Z",
     "shell.execute_reply": "2022-03-22T05:19:34.013779Z"
    },
    "papermill": {
     "duration": 0.052669,
     "end_time": "2022-03-22T05:19:34.014742",
     "exception": false,
     "start_time": "2022-03-22T05:19:33.962073",
     "status": "completed"
    },
    "tags": []
   },
   "outputs": [],
   "source": [
    "# # from steves_utils.wisig.utils import (\n",
    "# #     ALL_NODES_MINIMUM_100_EXAMPLES,\n",
    "# #     ALL_NODES_MINIMUM_500_EXAMPLES,\n",
    "# #     ALL_NODES_MINIMUM_1000_EXAMPLES,\n",
    "# #     ALL_DAYS\n",
    "# # )\n",
    "\n",
    "# import steves_utils.wisig.utils as wisig\n",
    "\n",
    "\n",
    "# add_dataset(\n",
    "#     labels=wisig.ALL_NODES_MINIMUM_100_EXAMPLES,\n",
    "#     domains = wisig.ALL_DAYS,\n",
    "#     num_examples_per_domain_per_label=100,\n",
    "#     pickle_path=os.path.join(get_datasets_base_path(), \"wisig.node3-19.stratified_ds.2022A.pkl\"),\n",
    "#     source_or_target_dataset=\"target\",\n",
    "#     x_transform_func=global_x_transform_func,\n",
    "#     domain_modifier=lambda u: f\"wisig_{u}\"\n",
    "# )"
   ]
  },
  {
   "cell_type": "code",
   "execution_count": 19,
   "id": "fd5442bc",
   "metadata": {
    "execution": {
     "iopub.execute_input": "2022-03-22T05:19:34.070392Z",
     "iopub.status.busy": "2022-03-22T05:19:34.069372Z",
     "iopub.status.idle": "2022-03-22T05:19:34.091969Z",
     "shell.execute_reply": "2022-03-22T05:19:34.091121Z"
    },
    "papermill": {
     "duration": 0.051058,
     "end_time": "2022-03-22T05:19:34.092126",
     "exception": false,
     "start_time": "2022-03-22T05:19:34.041068",
     "status": "completed"
    },
    "tags": []
   },
   "outputs": [],
   "source": [
    "###################################\n",
    "# Build the dataset\n",
    "###################################\n",
    "train_original_source = Iterable_Aggregator(train_original_source, p.seed)\n",
    "val_original_source = Iterable_Aggregator(val_original_source, p.seed)\n",
    "test_original_source = Iterable_Aggregator(test_original_source, p.seed)\n",
    "\n",
    "\n",
    "train_original_target = Iterable_Aggregator(train_original_target, p.seed)\n",
    "val_original_target = Iterable_Aggregator(val_original_target, p.seed)\n",
    "test_original_target = Iterable_Aggregator(test_original_target, p.seed)\n",
    "\n",
    "# For CNN We only use X and Y. And we only train on the source.\n",
    "# Properly form the data using a transform lambda and Lazy_Iterable_Wrapper. Finally wrap them in a dataloader\n",
    "\n",
    "transform_lambda = lambda ex: ex[1] # Original is (<domain>, <episode>) so we strip down to episode only\n",
    "\n",
    "train_processed_source = Lazy_Iterable_Wrapper(train_original_source, transform_lambda)\n",
    "val_processed_source   = Lazy_Iterable_Wrapper(val_original_source, transform_lambda)\n",
    "test_processed_source  = Lazy_Iterable_Wrapper(test_original_source, transform_lambda)\n",
    "\n",
    "train_processed_target = Lazy_Iterable_Wrapper(train_original_target, transform_lambda)\n",
    "val_processed_target   = Lazy_Iterable_Wrapper(val_original_target, transform_lambda)\n",
    "test_processed_target  = Lazy_Iterable_Wrapper(test_original_target, transform_lambda)\n",
    "\n",
    "datasets = EasyDict({\n",
    "    \"source\": {\n",
    "        \"original\": {\"train\":train_original_source, \"val\":val_original_source, \"test\":test_original_source},\n",
    "        \"processed\": {\"train\":train_processed_source, \"val\":val_processed_source, \"test\":test_processed_source}\n",
    "    },\n",
    "    \"target\": {\n",
    "        \"original\": {\"train\":train_original_target, \"val\":val_original_target, \"test\":test_original_target},\n",
    "        \"processed\": {\"train\":train_processed_target, \"val\":val_processed_target, \"test\":test_processed_target}\n",
    "    },\n",
    "})"
   ]
  },
  {
   "cell_type": "code",
   "execution_count": 20,
   "id": "5b3c01fc",
   "metadata": {
    "execution": {
     "iopub.execute_input": "2022-03-22T05:19:34.147231Z",
     "iopub.status.busy": "2022-03-22T05:19:34.146413Z",
     "iopub.status.idle": "2022-03-22T05:19:50.406908Z",
     "shell.execute_reply": "2022-03-22T05:19:50.406073Z"
    },
    "papermill": {
     "duration": 16.287027,
     "end_time": "2022-03-22T05:19:50.407086",
     "exception": false,
     "start_time": "2022-03-22T05:19:34.120059",
     "status": "completed"
    },
    "tags": []
   },
   "outputs": [
    {
     "name": "stdout",
     "output_type": "stream",
     "text": [
      "{'ORACLE.run1_32', 'ORACLE.run1_44', 'ORACLE.run1_20', 'ORACLE.run1_14', 'ORACLE.run1_50', 'ORACLE.run1_8', 'ORACLE.run1_38', 'ORACLE.run1_26'}\n"
     ]
    },
    {
     "name": "stdout",
     "output_type": "stream",
     "text": [
      "{'ORACLE.run2_14', 'ORACLE.run2_32', 'ORACLE.run2_20', 'ORACLE.run2_50', 'ORACLE.run2_38', 'ORACLE.run2_8', 'ORACLE.run2_26', 'ORACLE.run2_44'}\n"
     ]
    },
    {
     "name": "stdout",
     "output_type": "stream",
     "text": [
      "tensor([[[ 0.5241,  0.9130, -0.9299,  ..., -0.7101,  0.4903, -0.7777],\n",
      "         [-0.4058,  0.3719,  0.1183,  ..., -0.4058, -1.0989, -0.8961]],\n",
      "\n",
      "        [[ 0.1035,  1.1901, -0.4657,  ..., -0.9142,  0.3450, -0.9487],\n",
      "         [-0.6554,  0.0862,  0.5692,  ..., -0.1035, -1.0349, -0.5865]],\n",
      "\n",
      "        [[-0.9837,  0.4315,  1.3634,  ..., -0.4832,  0.1898,  1.2081],\n",
      "         [-0.2934, -0.2416,  0.0345,  ...,  1.1218,  1.0010,  0.1726]],\n",
      "\n",
      "        ...,\n",
      "\n",
      "        [[-0.3340,  0.2733,  0.3644,  ..., -0.4251, -1.3816, -0.9869],\n",
      "         [-0.2733, -1.0932,  0.5769,  ...,  0.9413, -0.5466,  0.3492]],\n",
      "\n",
      "        [[ 0.5510, -0.4765, -0.5808,  ...,  0.2681,  1.2956,  0.6255],\n",
      "         [ 0.8786,  0.8935, -1.0126,  ..., -0.7446,  0.4021, -0.9233]],\n",
      "\n",
      "        [[ 0.4354, -0.7207, -0.5405,  ...,  0.8558,  1.0360,  0.3754],\n",
      "         [ 1.0210,  0.7658, -1.1111,  ..., -0.4655,  0.4504, -1.1561]]])\n"
     ]
    }
   ],
   "source": [
    "from steves_utils.transforms import get_average_magnitude, get_average_power\n",
    "\n",
    "print(set([u for u,_ in val_original_source]))\n",
    "print(set([u for u,_ in val_original_target]))\n",
    "\n",
    "s_x, s_y, q_x, q_y, _ = next(iter(train_processed_source))\n",
    "print(s_x)\n",
    "\n",
    "# for ds in [\n",
    "#     train_processed_source,\n",
    "#     val_processed_source,\n",
    "#     test_processed_source,\n",
    "#     train_processed_target,\n",
    "#     val_processed_target,\n",
    "#     test_processed_target\n",
    "# ]:\n",
    "#     for s_x, s_y, q_x, q_y, _ in ds:\n",
    "#         for X in (s_x, q_x):\n",
    "#             for x in X:\n",
    "#                 assert np.isclose(get_average_magnitude(x.numpy()), 1.0)\n",
    "#                 assert np.isclose(get_average_power(x.numpy()), 1.0)\n",
    "                "
   ]
  },
  {
   "cell_type": "code",
   "execution_count": 21,
   "id": "bbdacba1",
   "metadata": {
    "execution": {
     "iopub.execute_input": "2022-03-22T05:19:50.463041Z",
     "iopub.status.busy": "2022-03-22T05:19:50.462666Z",
     "iopub.status.idle": "2022-03-22T05:19:50.576840Z",
     "shell.execute_reply": "2022-03-22T05:19:50.576336Z"
    },
    "papermill": {
     "duration": 0.142812,
     "end_time": "2022-03-22T05:19:50.576964",
     "exception": false,
     "start_time": "2022-03-22T05:19:50.434152",
     "status": "completed"
    },
    "tags": []
   },
   "outputs": [
    {
     "name": "stdout",
     "output_type": "stream",
     "text": [
      "(2, 256)\n"
     ]
    }
   ],
   "source": [
    "###################################\n",
    "# Build the model\n",
    "###################################\n",
    "# easfsl only wants a tuple for the shape\n",
    "model = Steves_Prototypical_Network(x_net, device=p.device, x_shape=tuple(p.x_shape))\n",
    "optimizer = Adam(params=model.parameters(), lr=p.lr)"
   ]
  },
  {
   "cell_type": "code",
   "execution_count": 22,
   "id": "22b39ac5",
   "metadata": {
    "execution": {
     "iopub.execute_input": "2022-03-22T05:19:50.632176Z",
     "iopub.status.busy": "2022-03-22T05:19:50.631802Z",
     "iopub.status.idle": "2022-03-22T06:31:49.961177Z",
     "shell.execute_reply": "2022-03-22T06:31:49.960833Z"
    },
    "papermill": {
     "duration": 4319.35617,
     "end_time": "2022-03-22T06:31:49.961264",
     "exception": false,
     "start_time": "2022-03-22T05:19:50.605094",
     "status": "completed"
    },
    "tags": []
   },
   "outputs": [
    {
     "name": "stdout",
     "output_type": "stream",
     "text": [
      "epoch: 1, [batch: 1 / 6720], examples_per_second: 32.5949, train_label_loss: 2.9158, \n"
     ]
    },
    {
     "name": "stdout",
     "output_type": "stream",
     "text": [
      "epoch: 1, [batch: 672 / 6720], examples_per_second: 2292.1230, train_label_loss: 1.6906, \n"
     ]
    },
    {
     "name": "stdout",
     "output_type": "stream",
     "text": [
      "epoch: 1, [batch: 1344 / 6720], examples_per_second: 2299.7397, train_label_loss: 0.7525, \n"
     ]
    },
    {
     "name": "stdout",
     "output_type": "stream",
     "text": [
      "epoch: 1, [batch: 2016 / 6720], examples_per_second: 2297.9331, train_label_loss: 0.7658, \n"
     ]
    },
    {
     "name": "stdout",
     "output_type": "stream",
     "text": [
      "epoch: 1, [batch: 2688 / 6720], examples_per_second: 2300.7117, train_label_loss: 0.5707, \n"
     ]
    },
    {
     "name": "stdout",
     "output_type": "stream",
     "text": [
      "epoch: 1, [batch: 3360 / 6720], examples_per_second: 2513.1558, train_label_loss: 0.4608, \n"
     ]
    },
    {
     "name": "stdout",
     "output_type": "stream",
     "text": [
      "epoch: 1, [batch: 4032 / 6720], examples_per_second: 2900.9188, train_label_loss: 0.6100, \n"
     ]
    },
    {
     "name": "stdout",
     "output_type": "stream",
     "text": [
      "epoch: 1, [batch: 4704 / 6720], examples_per_second: 2887.8327, train_label_loss: 0.4145, \n"
     ]
    },
    {
     "name": "stdout",
     "output_type": "stream",
     "text": [
      "epoch: 1, [batch: 5376 / 6720], examples_per_second: 2836.0339, train_label_loss: 0.6067, \n"
     ]
    },
    {
     "name": "stdout",
     "output_type": "stream",
     "text": [
      "epoch: 1, [batch: 6048 / 6720], examples_per_second: 2566.7706, train_label_loss: 0.6282, \n"
     ]
    },
    {
     "name": "stdout",
     "output_type": "stream",
     "text": [
      "=============================================================\n",
      "epoch: 1, source_val_acc_label: 0.7371, target_val_acc_label: 0.7239, source_val_label_loss: 0.8605, target_val_label_loss: 0.8883, \n",
      "=============================================================\n"
     ]
    },
    {
     "name": "stdout",
     "output_type": "stream",
     "text": [
      "New best\n"
     ]
    },
    {
     "name": "stdout",
     "output_type": "stream",
     "text": [
      "epoch: 2, [batch: 1 / 6720], examples_per_second: 2.3989, train_label_loss: 0.8821, \n"
     ]
    },
    {
     "name": "stdout",
     "output_type": "stream",
     "text": [
      "epoch: 2, [batch: 672 / 6720], examples_per_second: 2501.9717, train_label_loss: 0.7944, \n"
     ]
    },
    {
     "name": "stdout",
     "output_type": "stream",
     "text": [
      "epoch: 2, [batch: 1344 / 6720], examples_per_second: 2315.7051, train_label_loss: 0.4800, \n"
     ]
    },
    {
     "name": "stdout",
     "output_type": "stream",
     "text": [
      "epoch: 2, [batch: 2016 / 6720], examples_per_second: 2291.2188, train_label_loss: 0.5196, \n"
     ]
    },
    {
     "name": "stdout",
     "output_type": "stream",
     "text": [
      "epoch: 2, [batch: 2688 / 6720], examples_per_second: 2314.2426, train_label_loss: 0.5800, \n"
     ]
    },
    {
     "name": "stdout",
     "output_type": "stream",
     "text": [
      "epoch: 2, [batch: 3360 / 6720], examples_per_second: 2411.1922, train_label_loss: 0.2681, \n"
     ]
    },
    {
     "name": "stdout",
     "output_type": "stream",
     "text": [
      "epoch: 2, [batch: 4032 / 6720], examples_per_second: 2618.3796, train_label_loss: 0.5249, \n"
     ]
    },
    {
     "name": "stdout",
     "output_type": "stream",
     "text": [
      "epoch: 2, [batch: 4704 / 6720], examples_per_second: 2582.8688, train_label_loss: 0.4382, \n"
     ]
    },
    {
     "name": "stdout",
     "output_type": "stream",
     "text": [
      "epoch: 2, [batch: 5376 / 6720], examples_per_second: 2481.2872, train_label_loss: 0.8692, \n"
     ]
    },
    {
     "name": "stdout",
     "output_type": "stream",
     "text": [
      "epoch: 2, [batch: 6048 / 6720], examples_per_second: 2321.2966, train_label_loss: 0.1643, \n"
     ]
    },
    {
     "name": "stdout",
     "output_type": "stream",
     "text": [
      "=============================================================\n",
      "epoch: 2, source_val_acc_label: 0.8493, target_val_acc_label: 0.8358, source_val_label_loss: 0.4192, target_val_label_loss: 0.4825, \n",
      "=============================================================\n"
     ]
    },
    {
     "name": "stdout",
     "output_type": "stream",
     "text": [
      "New best\n"
     ]
    },
    {
     "name": "stdout",
     "output_type": "stream",
     "text": [
      "epoch: 3, [batch: 1 / 6720], examples_per_second: 2.0050, train_label_loss: 0.7303, \n"
     ]
    },
    {
     "name": "stdout",
     "output_type": "stream",
     "text": [
      "epoch: 3, [batch: 672 / 6720], examples_per_second: 2287.3115, train_label_loss: 0.3095, \n"
     ]
    },
    {
     "name": "stdout",
     "output_type": "stream",
     "text": [
      "epoch: 3, [batch: 1344 / 6720], examples_per_second: 2313.1368, train_label_loss: 0.1463, \n"
     ]
    },
    {
     "name": "stdout",
     "output_type": "stream",
     "text": [
      "epoch: 3, [batch: 2016 / 6720], examples_per_second: 2332.4447, train_label_loss: 0.1486, \n"
     ]
    },
    {
     "name": "stdout",
     "output_type": "stream",
     "text": [
      "epoch: 3, [batch: 2688 / 6720], examples_per_second: 2308.3319, train_label_loss: 0.5604, \n"
     ]
    },
    {
     "name": "stdout",
     "output_type": "stream",
     "text": [
      "epoch: 3, [batch: 3360 / 6720], examples_per_second: 2493.1227, train_label_loss: 0.3632, \n"
     ]
    },
    {
     "name": "stdout",
     "output_type": "stream",
     "text": [
      "epoch: 3, [batch: 4032 / 6720], examples_per_second: 2623.1906, train_label_loss: 0.3847, \n"
     ]
    },
    {
     "name": "stdout",
     "output_type": "stream",
     "text": [
      "epoch: 3, [batch: 4704 / 6720], examples_per_second: 2651.1275, train_label_loss: 0.5121, \n"
     ]
    },
    {
     "name": "stdout",
     "output_type": "stream",
     "text": [
      "epoch: 3, [batch: 5376 / 6720], examples_per_second: 2412.0165, train_label_loss: 0.4388, \n"
     ]
    },
    {
     "name": "stdout",
     "output_type": "stream",
     "text": [
      "epoch: 3, [batch: 6048 / 6720], examples_per_second: 2609.5368, train_label_loss: 0.5540, \n"
     ]
    },
    {
     "name": "stdout",
     "output_type": "stream",
     "text": [
      "=============================================================\n",
      "epoch: 3, source_val_acc_label: 0.8705, target_val_acc_label: 0.8554, source_val_label_loss: 0.3597, target_val_label_loss: 0.4281, \n",
      "=============================================================\n"
     ]
    },
    {
     "name": "stdout",
     "output_type": "stream",
     "text": [
      "New best\n"
     ]
    },
    {
     "name": "stdout",
     "output_type": "stream",
     "text": [
      "epoch: 4, [batch: 1 / 6720], examples_per_second: 2.2757, train_label_loss: 0.3347, \n"
     ]
    },
    {
     "name": "stdout",
     "output_type": "stream",
     "text": [
      "epoch: 4, [batch: 672 / 6720], examples_per_second: 2575.4512, train_label_loss: 0.2674, \n"
     ]
    },
    {
     "name": "stdout",
     "output_type": "stream",
     "text": [
      "epoch: 4, [batch: 1344 / 6720], examples_per_second: 2682.0226, train_label_loss: 0.4443, \n"
     ]
    },
    {
     "name": "stdout",
     "output_type": "stream",
     "text": [
      "epoch: 4, [batch: 2016 / 6720], examples_per_second: 2804.8250, train_label_loss: 0.2160, \n"
     ]
    },
    {
     "name": "stdout",
     "output_type": "stream",
     "text": [
      "epoch: 4, [batch: 2688 / 6720], examples_per_second: 2872.4780, train_label_loss: 0.2914, \n"
     ]
    },
    {
     "name": "stdout",
     "output_type": "stream",
     "text": [
      "epoch: 4, [batch: 3360 / 6720], examples_per_second: 2484.8780, train_label_loss: 0.5004, \n"
     ]
    },
    {
     "name": "stdout",
     "output_type": "stream",
     "text": [
      "epoch: 4, [batch: 4032 / 6720], examples_per_second: 2604.3701, train_label_loss: 0.2522, \n"
     ]
    },
    {
     "name": "stdout",
     "output_type": "stream",
     "text": [
      "epoch: 4, [batch: 4704 / 6720], examples_per_second: 2675.8269, train_label_loss: 0.7549, \n"
     ]
    },
    {
     "name": "stdout",
     "output_type": "stream",
     "text": [
      "epoch: 4, [batch: 5376 / 6720], examples_per_second: 2355.9660, train_label_loss: 0.4467, \n"
     ]
    },
    {
     "name": "stdout",
     "output_type": "stream",
     "text": [
      "epoch: 4, [batch: 6048 / 6720], examples_per_second: 2335.7983, train_label_loss: 0.2767, \n"
     ]
    },
    {
     "name": "stdout",
     "output_type": "stream",
     "text": [
      "=============================================================\n",
      "epoch: 4, source_val_acc_label: 0.8868, target_val_acc_label: 0.8648, source_val_label_loss: 0.3174, target_val_label_loss: 0.3927, \n",
      "=============================================================\n"
     ]
    },
    {
     "name": "stdout",
     "output_type": "stream",
     "text": [
      "New best\n"
     ]
    },
    {
     "name": "stdout",
     "output_type": "stream",
     "text": [
      "epoch: 5, [batch: 1 / 6720], examples_per_second: 2.0031, train_label_loss: 0.2611, \n"
     ]
    },
    {
     "name": "stdout",
     "output_type": "stream",
     "text": [
      "epoch: 5, [batch: 672 / 6720], examples_per_second: 2312.7159, train_label_loss: 0.3036, \n"
     ]
    },
    {
     "name": "stdout",
     "output_type": "stream",
     "text": [
      "epoch: 5, [batch: 1344 / 6720], examples_per_second: 2330.2864, train_label_loss: 0.3091, \n"
     ]
    },
    {
     "name": "stdout",
     "output_type": "stream",
     "text": [
      "epoch: 5, [batch: 2016 / 6720], examples_per_second: 2344.6191, train_label_loss: 0.0568, \n"
     ]
    },
    {
     "name": "stdout",
     "output_type": "stream",
     "text": [
      "epoch: 5, [batch: 2688 / 6720], examples_per_second: 2315.9383, train_label_loss: 0.3404, \n"
     ]
    },
    {
     "name": "stdout",
     "output_type": "stream",
     "text": [
      "epoch: 5, [batch: 3360 / 6720], examples_per_second: 2476.1528, train_label_loss: 0.1583, \n"
     ]
    },
    {
     "name": "stdout",
     "output_type": "stream",
     "text": [
      "epoch: 5, [batch: 4032 / 6720], examples_per_second: 2596.4689, train_label_loss: 0.1846, \n"
     ]
    },
    {
     "name": "stdout",
     "output_type": "stream",
     "text": [
      "epoch: 5, [batch: 4704 / 6720], examples_per_second: 2704.9598, train_label_loss: 0.2212, \n"
     ]
    },
    {
     "name": "stdout",
     "output_type": "stream",
     "text": [
      "epoch: 5, [batch: 5376 / 6720], examples_per_second: 2393.5482, train_label_loss: 0.1144, \n"
     ]
    },
    {
     "name": "stdout",
     "output_type": "stream",
     "text": [
      "epoch: 5, [batch: 6048 / 6720], examples_per_second: 2332.5864, train_label_loss: 0.2895, \n"
     ]
    },
    {
     "name": "stdout",
     "output_type": "stream",
     "text": [
      "=============================================================\n",
      "epoch: 5, source_val_acc_label: 0.8902, target_val_acc_label: 0.8677, source_val_label_loss: 0.3055, target_val_label_loss: 0.3861, \n",
      "=============================================================\n"
     ]
    },
    {
     "name": "stdout",
     "output_type": "stream",
     "text": [
      "New best\n"
     ]
    },
    {
     "name": "stdout",
     "output_type": "stream",
     "text": [
      "epoch: 6, [batch: 1 / 6720], examples_per_second: 2.0247, train_label_loss: 0.4987, \n"
     ]
    },
    {
     "name": "stdout",
     "output_type": "stream",
     "text": [
      "epoch: 6, [batch: 672 / 6720], examples_per_second: 2601.5140, train_label_loss: 0.3811, \n"
     ]
    },
    {
     "name": "stdout",
     "output_type": "stream",
     "text": [
      "epoch: 6, [batch: 1344 / 6720], examples_per_second: 2632.5953, train_label_loss: 0.2110, \n"
     ]
    },
    {
     "name": "stdout",
     "output_type": "stream",
     "text": [
      "epoch: 6, [batch: 2016 / 6720], examples_per_second: 2578.1023, train_label_loss: 0.2234, \n"
     ]
    },
    {
     "name": "stdout",
     "output_type": "stream",
     "text": [
      "epoch: 6, [batch: 2688 / 6720], examples_per_second: 2526.0104, train_label_loss: 0.2814, \n"
     ]
    },
    {
     "name": "stdout",
     "output_type": "stream",
     "text": [
      "epoch: 6, [batch: 3360 / 6720], examples_per_second: 2814.3329, train_label_loss: 0.2072, \n"
     ]
    },
    {
     "name": "stdout",
     "output_type": "stream",
     "text": [
      "epoch: 6, [batch: 4032 / 6720], examples_per_second: 3012.6300, train_label_loss: 0.3780, \n"
     ]
    },
    {
     "name": "stdout",
     "output_type": "stream",
     "text": [
      "epoch: 6, [batch: 4704 / 6720], examples_per_second: 3135.6449, train_label_loss: 0.3745, \n"
     ]
    },
    {
     "name": "stdout",
     "output_type": "stream",
     "text": [
      "epoch: 6, [batch: 5376 / 6720], examples_per_second: 2996.5305, train_label_loss: 0.0484, \n"
     ]
    },
    {
     "name": "stdout",
     "output_type": "stream",
     "text": [
      "epoch: 6, [batch: 6048 / 6720], examples_per_second: 2343.2759, train_label_loss: 0.6538, \n"
     ]
    },
    {
     "name": "stdout",
     "output_type": "stream",
     "text": [
      "=============================================================\n",
      "epoch: 6, source_val_acc_label: 0.8889, target_val_acc_label: 0.8656, source_val_label_loss: 0.3091, target_val_label_loss: 0.3888, \n",
      "=============================================================\n"
     ]
    },
    {
     "name": "stdout",
     "output_type": "stream",
     "text": [
      "epoch: 7, [batch: 1 / 6720], examples_per_second: 2.0121, train_label_loss: 0.3358, \n"
     ]
    },
    {
     "name": "stdout",
     "output_type": "stream",
     "text": [
      "epoch: 7, [batch: 672 / 6720], examples_per_second: 2305.6074, train_label_loss: 0.3341, \n"
     ]
    },
    {
     "name": "stdout",
     "output_type": "stream",
     "text": [
      "epoch: 7, [batch: 1344 / 6720], examples_per_second: 2323.2137, train_label_loss: 0.4012, \n"
     ]
    },
    {
     "name": "stdout",
     "output_type": "stream",
     "text": [
      "epoch: 7, [batch: 2016 / 6720], examples_per_second: 2313.0607, train_label_loss: 0.2015, \n"
     ]
    },
    {
     "name": "stdout",
     "output_type": "stream",
     "text": [
      "epoch: 7, [batch: 2688 / 6720], examples_per_second: 2323.5649, train_label_loss: 0.2513, \n"
     ]
    },
    {
     "name": "stdout",
     "output_type": "stream",
     "text": [
      "epoch: 7, [batch: 3360 / 6720], examples_per_second: 2563.5357, train_label_loss: 0.1640, \n"
     ]
    },
    {
     "name": "stdout",
     "output_type": "stream",
     "text": [
      "epoch: 7, [batch: 4032 / 6720], examples_per_second: 2612.3826, train_label_loss: 0.3126, \n"
     ]
    },
    {
     "name": "stdout",
     "output_type": "stream",
     "text": [
      "epoch: 7, [batch: 4704 / 6720], examples_per_second: 2576.9589, train_label_loss: 0.1593, \n"
     ]
    },
    {
     "name": "stdout",
     "output_type": "stream",
     "text": [
      "epoch: 7, [batch: 5376 / 6720], examples_per_second: 2315.3343, train_label_loss: 0.1819, \n"
     ]
    },
    {
     "name": "stdout",
     "output_type": "stream",
     "text": [
      "epoch: 7, [batch: 6048 / 6720], examples_per_second: 2314.4422, train_label_loss: 0.1576, \n"
     ]
    },
    {
     "name": "stdout",
     "output_type": "stream",
     "text": [
      "=============================================================\n",
      "epoch: 7, source_val_acc_label: 0.8978, target_val_acc_label: 0.8742, source_val_label_loss: 0.2881, target_val_label_loss: 0.3744, \n",
      "=============================================================\n"
     ]
    },
    {
     "name": "stdout",
     "output_type": "stream",
     "text": [
      "New best\n"
     ]
    },
    {
     "name": "stdout",
     "output_type": "stream",
     "text": [
      "epoch: 8, [batch: 1 / 6720], examples_per_second: 2.0262, train_label_loss: 0.3155, \n"
     ]
    },
    {
     "name": "stdout",
     "output_type": "stream",
     "text": [
      "epoch: 8, [batch: 672 / 6720], examples_per_second: 2306.0118, train_label_loss: 0.3783, \n"
     ]
    },
    {
     "name": "stdout",
     "output_type": "stream",
     "text": [
      "epoch: 8, [batch: 1344 / 6720], examples_per_second: 2323.7415, train_label_loss: 0.0596, \n"
     ]
    },
    {
     "name": "stdout",
     "output_type": "stream",
     "text": [
      "epoch: 8, [batch: 2016 / 6720], examples_per_second: 2381.9410, train_label_loss: 0.3147, \n"
     ]
    },
    {
     "name": "stdout",
     "output_type": "stream",
     "text": [
      "epoch: 8, [batch: 2688 / 6720], examples_per_second: 2597.6309, train_label_loss: 0.1448, \n"
     ]
    },
    {
     "name": "stdout",
     "output_type": "stream",
     "text": [
      "epoch: 8, [batch: 3360 / 6720], examples_per_second: 2907.9778, train_label_loss: 0.1888, \n"
     ]
    },
    {
     "name": "stdout",
     "output_type": "stream",
     "text": [
      "epoch: 8, [batch: 4032 / 6720], examples_per_second: 2946.1972, train_label_loss: 0.5211, \n"
     ]
    },
    {
     "name": "stdout",
     "output_type": "stream",
     "text": [
      "epoch: 8, [batch: 4704 / 6720], examples_per_second: 2854.7826, train_label_loss: 0.1383, \n"
     ]
    },
    {
     "name": "stdout",
     "output_type": "stream",
     "text": [
      "epoch: 8, [batch: 5376 / 6720], examples_per_second: 2570.7628, train_label_loss: 0.2663, \n"
     ]
    },
    {
     "name": "stdout",
     "output_type": "stream",
     "text": [
      "epoch: 8, [batch: 6048 / 6720], examples_per_second: 2633.3427, train_label_loss: 0.1763, \n"
     ]
    },
    {
     "name": "stdout",
     "output_type": "stream",
     "text": [
      "=============================================================\n",
      "epoch: 8, source_val_acc_label: 0.9070, target_val_acc_label: 0.8795, source_val_label_loss: 0.2611, target_val_label_loss: 0.3640, \n",
      "=============================================================\n"
     ]
    },
    {
     "name": "stdout",
     "output_type": "stream",
     "text": [
      "New best\n"
     ]
    },
    {
     "name": "stdout",
     "output_type": "stream",
     "text": [
      "epoch: 9, [batch: 1 / 6720], examples_per_second: 2.4164, train_label_loss: 0.0395, \n"
     ]
    },
    {
     "name": "stdout",
     "output_type": "stream",
     "text": [
      "epoch: 9, [batch: 672 / 6720], examples_per_second: 2292.2696, train_label_loss: 0.1648, \n"
     ]
    },
    {
     "name": "stdout",
     "output_type": "stream",
     "text": [
      "epoch: 9, [batch: 1344 / 6720], examples_per_second: 2307.7438, train_label_loss: 0.1868, \n"
     ]
    },
    {
     "name": "stdout",
     "output_type": "stream",
     "text": [
      "epoch: 9, [batch: 2016 / 6720], examples_per_second: 2314.9115, train_label_loss: 0.5120, \n"
     ]
    },
    {
     "name": "stdout",
     "output_type": "stream",
     "text": [
      "epoch: 9, [batch: 2688 / 6720], examples_per_second: 2340.3028, train_label_loss: 0.1380, \n"
     ]
    },
    {
     "name": "stdout",
     "output_type": "stream",
     "text": [
      "epoch: 9, [batch: 3360 / 6720], examples_per_second: 2572.2520, train_label_loss: 0.2376, \n"
     ]
    },
    {
     "name": "stdout",
     "output_type": "stream",
     "text": [
      "epoch: 9, [batch: 4032 / 6720], examples_per_second: 2604.3052, train_label_loss: 0.1000, \n"
     ]
    },
    {
     "name": "stdout",
     "output_type": "stream",
     "text": [
      "epoch: 9, [batch: 4704 / 6720], examples_per_second: 2536.1634, train_label_loss: 0.0660, \n"
     ]
    },
    {
     "name": "stdout",
     "output_type": "stream",
     "text": [
      "epoch: 9, [batch: 5376 / 6720], examples_per_second: 2319.4693, train_label_loss: 0.0671, \n"
     ]
    },
    {
     "name": "stdout",
     "output_type": "stream",
     "text": [
      "epoch: 9, [batch: 6048 / 6720], examples_per_second: 2318.4419, train_label_loss: 0.2356, \n"
     ]
    },
    {
     "name": "stdout",
     "output_type": "stream",
     "text": [
      "=============================================================\n",
      "epoch: 9, source_val_acc_label: 0.9065, target_val_acc_label: 0.8793, source_val_label_loss: 0.2677, target_val_label_loss: 0.3590, \n",
      "=============================================================\n"
     ]
    },
    {
     "name": "stdout",
     "output_type": "stream",
     "text": [
      "epoch: 10, [batch: 1 / 6720], examples_per_second: 2.0009, train_label_loss: 0.0660, \n"
     ]
    },
    {
     "name": "stdout",
     "output_type": "stream",
     "text": [
      "epoch: 10, [batch: 672 / 6720], examples_per_second: 2296.1484, train_label_loss: 0.0565, \n"
     ]
    },
    {
     "name": "stdout",
     "output_type": "stream",
     "text": [
      "epoch: 10, [batch: 1344 / 6720], examples_per_second: 2315.9231, train_label_loss: 0.1466, \n"
     ]
    },
    {
     "name": "stdout",
     "output_type": "stream",
     "text": [
      "epoch: 10, [batch: 2016 / 6720], examples_per_second: 2335.9448, train_label_loss: 0.0963, \n"
     ]
    },
    {
     "name": "stdout",
     "output_type": "stream",
     "text": [
      "epoch: 10, [batch: 2688 / 6720], examples_per_second: 2373.8924, train_label_loss: 0.2373, \n"
     ]
    },
    {
     "name": "stdout",
     "output_type": "stream",
     "text": [
      "epoch: 10, [batch: 3360 / 6720], examples_per_second: 2609.0287, train_label_loss: 0.1487, \n"
     ]
    },
    {
     "name": "stdout",
     "output_type": "stream",
     "text": [
      "epoch: 10, [batch: 4032 / 6720], examples_per_second: 2602.5781, train_label_loss: 0.4253, \n"
     ]
    },
    {
     "name": "stdout",
     "output_type": "stream",
     "text": [
      "epoch: 10, [batch: 4704 / 6720], examples_per_second: 2507.2406, train_label_loss: 0.0580, \n"
     ]
    },
    {
     "name": "stdout",
     "output_type": "stream",
     "text": [
      "epoch: 10, [batch: 5376 / 6720], examples_per_second: 2483.2643, train_label_loss: 0.0157, \n"
     ]
    },
    {
     "name": "stdout",
     "output_type": "stream",
     "text": [
      "epoch: 10, [batch: 6048 / 6720], examples_per_second: 2595.1239, train_label_loss: 0.5134, \n"
     ]
    },
    {
     "name": "stdout",
     "output_type": "stream",
     "text": [
      "=============================================================\n",
      "epoch: 10, source_val_acc_label: 0.8974, target_val_acc_label: 0.8655, source_val_label_loss: 0.2951, target_val_label_loss: 0.4006, \n",
      "=============================================================\n"
     ]
    },
    {
     "name": "stdout",
     "output_type": "stream",
     "text": [
      "epoch: 11, [batch: 1 / 6720], examples_per_second: 2.2568, train_label_loss: 0.1074, \n"
     ]
    },
    {
     "name": "stdout",
     "output_type": "stream",
     "text": [
      "epoch: 11, [batch: 672 / 6720], examples_per_second: 2673.8373, train_label_loss: 0.2074, \n"
     ]
    },
    {
     "name": "stdout",
     "output_type": "stream",
     "text": [
      "epoch: 11, [batch: 1344 / 6720], examples_per_second: 2756.9771, train_label_loss: 0.4179, \n"
     ]
    },
    {
     "name": "stdout",
     "output_type": "stream",
     "text": [
      "epoch: 11, [batch: 2016 / 6720], examples_per_second: 2967.1735, train_label_loss: 0.0666, \n"
     ]
    },
    {
     "name": "stdout",
     "output_type": "stream",
     "text": [
      "epoch: 11, [batch: 2688 / 6720], examples_per_second: 2377.0407, train_label_loss: 0.2390, \n"
     ]
    },
    {
     "name": "stdout",
     "output_type": "stream",
     "text": [
      "epoch: 11, [batch: 3360 / 6720], examples_per_second: 2592.8037, train_label_loss: 0.0817, \n"
     ]
    },
    {
     "name": "stdout",
     "output_type": "stream",
     "text": [
      "epoch: 11, [batch: 4032 / 6720], examples_per_second: 2606.5909, train_label_loss: 0.1870, \n"
     ]
    },
    {
     "name": "stdout",
     "output_type": "stream",
     "text": [
      "epoch: 11, [batch: 4704 / 6720], examples_per_second: 2451.1851, train_label_loss: 0.0269, \n"
     ]
    },
    {
     "name": "stdout",
     "output_type": "stream",
     "text": [
      "epoch: 11, [batch: 5376 / 6720], examples_per_second: 2299.0583, train_label_loss: 0.1661, \n"
     ]
    },
    {
     "name": "stdout",
     "output_type": "stream",
     "text": [
      "epoch: 11, [batch: 6048 / 6720], examples_per_second: 2293.3615, train_label_loss: 0.0678, \n"
     ]
    },
    {
     "name": "stdout",
     "output_type": "stream",
     "text": [
      "=============================================================\n",
      "epoch: 11, source_val_acc_label: 0.9016, target_val_acc_label: 0.8737, source_val_label_loss: 0.2856, target_val_label_loss: 0.3963, \n",
      "=============================================================\n"
     ]
    },
    {
     "name": "stdout",
     "output_type": "stream",
     "text": [
      "epoch: 12, [batch: 1 / 6720], examples_per_second: 2.0099, train_label_loss: 0.2891, \n"
     ]
    },
    {
     "name": "stdout",
     "output_type": "stream",
     "text": [
      "epoch: 12, [batch: 672 / 6720], examples_per_second: 2303.1583, train_label_loss: 0.1918, \n"
     ]
    },
    {
     "name": "stdout",
     "output_type": "stream",
     "text": [
      "epoch: 12, [batch: 1344 / 6720], examples_per_second: 2300.3060, train_label_loss: 0.0704, \n"
     ]
    },
    {
     "name": "stdout",
     "output_type": "stream",
     "text": [
      "epoch: 12, [batch: 2016 / 6720], examples_per_second: 2305.9555, train_label_loss: 0.3033, \n"
     ]
    },
    {
     "name": "stdout",
     "output_type": "stream",
     "text": [
      "epoch: 12, [batch: 2688 / 6720], examples_per_second: 2449.0532, train_label_loss: 0.2712, \n"
     ]
    },
    {
     "name": "stdout",
     "output_type": "stream",
     "text": [
      "epoch: 12, [batch: 3360 / 6720], examples_per_second: 2636.2515, train_label_loss: 0.0602, \n"
     ]
    },
    {
     "name": "stdout",
     "output_type": "stream",
     "text": [
      "epoch: 12, [batch: 4032 / 6720], examples_per_second: 2664.1809, train_label_loss: 0.4320, \n"
     ]
    },
    {
     "name": "stdout",
     "output_type": "stream",
     "text": [
      "epoch: 12, [batch: 4704 / 6720], examples_per_second: 2350.7352, train_label_loss: 0.2867, \n"
     ]
    },
    {
     "name": "stdout",
     "output_type": "stream",
     "text": [
      "epoch: 12, [batch: 5376 / 6720], examples_per_second: 2302.4576, train_label_loss: 0.1663, \n"
     ]
    },
    {
     "name": "stdout",
     "output_type": "stream",
     "text": [
      "epoch: 12, [batch: 6048 / 6720], examples_per_second: 2312.2630, train_label_loss: 0.1742, \n"
     ]
    },
    {
     "name": "stdout",
     "output_type": "stream",
     "text": [
      "=============================================================\n",
      "epoch: 12, source_val_acc_label: 0.9098, target_val_acc_label: 0.8810, source_val_label_loss: 0.2590, target_val_label_loss: 0.3740, \n",
      "=============================================================\n"
     ]
    },
    {
     "name": "stdout",
     "output_type": "stream",
     "text": [
      "New best\n"
     ]
    },
    {
     "name": "stdout",
     "output_type": "stream",
     "text": [
      "epoch: 13, [batch: 1 / 6720], examples_per_second: 2.1570, train_label_loss: 0.3249, \n"
     ]
    },
    {
     "name": "stdout",
     "output_type": "stream",
     "text": [
      "epoch: 13, [batch: 672 / 6720], examples_per_second: 2562.5124, train_label_loss: 0.0083, \n"
     ]
    },
    {
     "name": "stdout",
     "output_type": "stream",
     "text": [
      "epoch: 13, [batch: 1344 / 6720], examples_per_second: 2605.5559, train_label_loss: 0.3094, \n"
     ]
    },
    {
     "name": "stdout",
     "output_type": "stream",
     "text": [
      "epoch: 13, [batch: 2016 / 6720], examples_per_second: 2624.1456, train_label_loss: 0.1679, \n"
     ]
    },
    {
     "name": "stdout",
     "output_type": "stream",
     "text": [
      "epoch: 13, [batch: 2688 / 6720], examples_per_second: 2892.2752, train_label_loss: 0.0620, \n"
     ]
    },
    {
     "name": "stdout",
     "output_type": "stream",
     "text": [
      "epoch: 13, [batch: 3360 / 6720], examples_per_second: 2950.0040, train_label_loss: 0.0539, \n"
     ]
    },
    {
     "name": "stdout",
     "output_type": "stream",
     "text": [
      "epoch: 13, [batch: 4032 / 6720], examples_per_second: 3582.3116, train_label_loss: 0.1032, \n"
     ]
    },
    {
     "name": "stdout",
     "output_type": "stream",
     "text": [
      "epoch: 13, [batch: 4704 / 6720], examples_per_second: 2725.6897, train_label_loss: 0.2866, \n"
     ]
    },
    {
     "name": "stdout",
     "output_type": "stream",
     "text": [
      "epoch: 13, [batch: 5376 / 6720], examples_per_second: 2306.3022, train_label_loss: 0.1200, \n"
     ]
    },
    {
     "name": "stdout",
     "output_type": "stream",
     "text": [
      "epoch: 13, [batch: 6048 / 6720], examples_per_second: 2289.4897, train_label_loss: 0.1465, \n"
     ]
    },
    {
     "name": "stdout",
     "output_type": "stream",
     "text": [
      "=============================================================\n",
      "epoch: 13, source_val_acc_label: 0.9000, target_val_acc_label: 0.8671, source_val_label_loss: 0.2863, target_val_label_loss: 0.4077, \n",
      "=============================================================\n"
     ]
    },
    {
     "name": "stdout",
     "output_type": "stream",
     "text": [
      "epoch: 14, [batch: 1 / 6720], examples_per_second: 2.0231, train_label_loss: 0.1938, \n"
     ]
    },
    {
     "name": "stdout",
     "output_type": "stream",
     "text": [
      "epoch: 14, [batch: 672 / 6720], examples_per_second: 2279.7749, train_label_loss: 0.0344, \n"
     ]
    },
    {
     "name": "stdout",
     "output_type": "stream",
     "text": [
      "epoch: 14, [batch: 1344 / 6720], examples_per_second: 2331.7832, train_label_loss: 0.0989, \n"
     ]
    },
    {
     "name": "stdout",
     "output_type": "stream",
     "text": [
      "epoch: 14, [batch: 2016 / 6720], examples_per_second: 2327.4096, train_label_loss: 0.1643, \n"
     ]
    },
    {
     "name": "stdout",
     "output_type": "stream",
     "text": [
      "epoch: 14, [batch: 2688 / 6720], examples_per_second: 2496.4452, train_label_loss: 0.0201, \n"
     ]
    },
    {
     "name": "stdout",
     "output_type": "stream",
     "text": [
      "epoch: 14, [batch: 3360 / 6720], examples_per_second: 2624.2380, train_label_loss: 0.2486, \n"
     ]
    },
    {
     "name": "stdout",
     "output_type": "stream",
     "text": [
      "epoch: 14, [batch: 4032 / 6720], examples_per_second: 2685.9576, train_label_loss: 0.0741, \n"
     ]
    },
    {
     "name": "stdout",
     "output_type": "stream",
     "text": [
      "epoch: 14, [batch: 4704 / 6720], examples_per_second: 2300.9140, train_label_loss: 0.0394, \n"
     ]
    },
    {
     "name": "stdout",
     "output_type": "stream",
     "text": [
      "epoch: 14, [batch: 5376 / 6720], examples_per_second: 2296.6196, train_label_loss: 0.0335, \n"
     ]
    },
    {
     "name": "stdout",
     "output_type": "stream",
     "text": [
      "epoch: 14, [batch: 6048 / 6720], examples_per_second: 2296.1709, train_label_loss: 0.0354, \n"
     ]
    },
    {
     "name": "stdout",
     "output_type": "stream",
     "text": [
      "=============================================================\n",
      "epoch: 14, source_val_acc_label: 0.9092, target_val_acc_label: 0.8760, source_val_label_loss: 0.2668, target_val_label_loss: 0.3960, \n",
      "=============================================================\n"
     ]
    },
    {
     "name": "stdout",
     "output_type": "stream",
     "text": [
      "epoch: 15, [batch: 1 / 6720], examples_per_second: 1.9958, train_label_loss: 0.1889, \n"
     ]
    },
    {
     "name": "stdout",
     "output_type": "stream",
     "text": [
      "epoch: 15, [batch: 672 / 6720], examples_per_second: 2319.2660, train_label_loss: 0.1395, \n"
     ]
    },
    {
     "name": "stdout",
     "output_type": "stream",
     "text": [
      "epoch: 15, [batch: 1344 / 6720], examples_per_second: 2381.8771, train_label_loss: 0.3248, \n"
     ]
    },
    {
     "name": "stdout",
     "output_type": "stream",
     "text": [
      "epoch: 15, [batch: 2016 / 6720], examples_per_second: 2595.5044, train_label_loss: 0.0111, \n"
     ]
    },
    {
     "name": "stdout",
     "output_type": "stream",
     "text": [
      "epoch: 15, [batch: 2688 / 6720], examples_per_second: 2887.3156, train_label_loss: 0.1964, \n"
     ]
    },
    {
     "name": "stdout",
     "output_type": "stream",
     "text": [
      "epoch: 15, [batch: 3360 / 6720], examples_per_second: 2958.5121, train_label_loss: 0.1163, \n"
     ]
    },
    {
     "name": "stdout",
     "output_type": "stream",
     "text": [
      "epoch: 15, [batch: 4032 / 6720], examples_per_second: 3011.3539, train_label_loss: 0.1835, \n"
     ]
    },
    {
     "name": "stdout",
     "output_type": "stream",
     "text": [
      "epoch: 15, [batch: 4704 / 6720], examples_per_second: 2548.8276, train_label_loss: 0.2873, \n"
     ]
    },
    {
     "name": "stdout",
     "output_type": "stream",
     "text": [
      "epoch: 15, [batch: 5376 / 6720], examples_per_second: 2605.8505, train_label_loss: 0.0887, \n"
     ]
    },
    {
     "name": "stdout",
     "output_type": "stream",
     "text": [
      "epoch: 15, [batch: 6048 / 6720], examples_per_second: 2621.8637, train_label_loss: 0.0231, \n"
     ]
    },
    {
     "name": "stdout",
     "output_type": "stream",
     "text": [
      "=============================================================\n",
      "epoch: 15, source_val_acc_label: 0.9105, target_val_acc_label: 0.8765, source_val_label_loss: 0.2588, target_val_label_loss: 0.3941, \n",
      "=============================================================\n"
     ]
    },
    {
     "name": "stdout",
     "output_type": "stream",
     "text": [
      "epoch: 16, [batch: 1 / 6720], examples_per_second: 2.2388, train_label_loss: 0.0892, \n"
     ]
    },
    {
     "name": "stdout",
     "output_type": "stream",
     "text": [
      "epoch: 16, [batch: 672 / 6720], examples_per_second: 2298.6495, train_label_loss: 0.3417, \n"
     ]
    },
    {
     "name": "stdout",
     "output_type": "stream",
     "text": [
      "epoch: 16, [batch: 1344 / 6720], examples_per_second: 2313.8891, train_label_loss: 0.1821, \n"
     ]
    },
    {
     "name": "stdout",
     "output_type": "stream",
     "text": [
      "epoch: 16, [batch: 2016 / 6720], examples_per_second: 2328.8920, train_label_loss: 0.1819, \n"
     ]
    },
    {
     "name": "stdout",
     "output_type": "stream",
     "text": [
      "epoch: 16, [batch: 2688 / 6720], examples_per_second: 2520.5652, train_label_loss: 0.0582, \n"
     ]
    },
    {
     "name": "stdout",
     "output_type": "stream",
     "text": [
      "epoch: 16, [batch: 3360 / 6720], examples_per_second: 2592.2813, train_label_loss: 0.0331, \n"
     ]
    },
    {
     "name": "stdout",
     "output_type": "stream",
     "text": [
      "epoch: 16, [batch: 4032 / 6720], examples_per_second: 2583.4591, train_label_loss: 0.1551, \n"
     ]
    },
    {
     "name": "stdout",
     "output_type": "stream",
     "text": [
      "epoch: 16, [batch: 4704 / 6720], examples_per_second: 2329.9335, train_label_loss: 0.0062, \n"
     ]
    },
    {
     "name": "stdout",
     "output_type": "stream",
     "text": [
      "epoch: 16, [batch: 5376 / 6720], examples_per_second: 2313.6413, train_label_loss: 0.1479, \n"
     ]
    },
    {
     "name": "stdout",
     "output_type": "stream",
     "text": [
      "epoch: 16, [batch: 6048 / 6720], examples_per_second: 2294.9214, train_label_loss: 0.1789, \n"
     ]
    },
    {
     "name": "stdout",
     "output_type": "stream",
     "text": [
      "=============================================================\n",
      "epoch: 16, source_val_acc_label: 0.9124, target_val_acc_label: 0.8770, source_val_label_loss: 0.2606, target_val_label_loss: 0.4052, \n",
      "=============================================================\n"
     ]
    },
    {
     "name": "stdout",
     "output_type": "stream",
     "text": [
      "Patience (3) exhausted\n"
     ]
    }
   ],
   "source": [
    "###################################\n",
    "# train\n",
    "###################################\n",
    "jig = PTN_Train_Eval_Test_Jig(model, p.BEST_MODEL_PATH, p.device)\n",
    "\n",
    "jig.train(\n",
    "    train_iterable=datasets.source.processed.train,\n",
    "    source_val_iterable=datasets.source.processed.val,\n",
    "    target_val_iterable=datasets.target.processed.val,\n",
    "    num_epochs=p.n_epoch,\n",
    "    num_logs_per_epoch=p.NUM_LOGS_PER_EPOCH,\n",
    "    patience=p.patience,\n",
    "    optimizer=optimizer,\n",
    "    criteria_for_best=p.criteria_for_best,\n",
    ")"
   ]
  },
  {
   "cell_type": "code",
   "execution_count": 23,
   "id": "31e8fabf",
   "metadata": {
    "execution": {
     "iopub.execute_input": "2022-03-22T06:31:50.114104Z",
     "iopub.status.busy": "2022-03-22T06:31:50.113670Z",
     "iopub.status.idle": "2022-03-22T06:31:50.148211Z",
     "shell.execute_reply": "2022-03-22T06:31:50.148862Z"
    },
    "papermill": {
     "duration": 0.109982,
     "end_time": "2022-03-22T06:31:50.149085",
     "exception": false,
     "start_time": "2022-03-22T06:31:50.039103",
     "status": "completed"
    },
    "tags": []
   },
   "outputs": [],
   "source": [
    "total_experiment_time_secs = time.time() - start_time_secs"
   ]
  },
  {
   "cell_type": "code",
   "execution_count": 24,
   "id": "87b9595b",
   "metadata": {
    "execution": {
     "iopub.execute_input": "2022-03-22T06:31:50.300597Z",
     "iopub.status.busy": "2022-03-22T06:31:50.300199Z",
     "iopub.status.idle": "2022-03-22T06:36:19.188283Z",
     "shell.execute_reply": "2022-03-22T06:36:19.188964Z"
    },
    "papermill": {
     "duration": 268.964463,
     "end_time": "2022-03-22T06:36:19.189206",
     "exception": false,
     "start_time": "2022-03-22T06:31:50.224743",
     "status": "completed"
    },
    "tags": []
   },
   "outputs": [],
   "source": [
    "###################################\n",
    "# Evaluate the model\n",
    "###################################\n",
    "source_test_label_accuracy, source_test_label_loss = jig.test(datasets.source.processed.test)\n",
    "target_test_label_accuracy, target_test_label_loss = jig.test(datasets.target.processed.test)\n",
    "\n",
    "source_val_label_accuracy, source_val_label_loss = jig.test(datasets.source.processed.val)\n",
    "target_val_label_accuracy, target_val_label_loss = jig.test(datasets.target.processed.val)\n",
    "\n",
    "history = jig.get_history()\n",
    "\n",
    "total_epochs_trained = len(history[\"epoch_indices\"])\n",
    "\n",
    "val_dl = Iterable_Aggregator((datasets.source.original.val,datasets.target.original.val))\n",
    "\n",
    "confusion = ptn_confusion_by_domain_over_dataloader(model, p.device, val_dl)\n",
    "per_domain_accuracy = per_domain_accuracy_from_confusion(confusion)\n",
    "\n",
    "# Add a key to per_domain_accuracy for if it was a source domain\n",
    "for domain, accuracy in per_domain_accuracy.items():\n",
    "    per_domain_accuracy[domain] = {\n",
    "        \"accuracy\": accuracy,\n",
    "        \"source?\": domain in p.domains_source\n",
    "    }\n",
    "\n",
    "# Do an independent accuracy assesment JUST TO BE SURE!\n",
    "# _source_test_label_accuracy = independent_accuracy_assesment(model, datasets.source.processed.test, p.device)\n",
    "# _target_test_label_accuracy = independent_accuracy_assesment(model, datasets.target.processed.test, p.device)\n",
    "# _source_val_label_accuracy = independent_accuracy_assesment(model, datasets.source.processed.val, p.device)\n",
    "# _target_val_label_accuracy = independent_accuracy_assesment(model, datasets.target.processed.val, p.device)\n",
    "\n",
    "# assert(_source_test_label_accuracy == source_test_label_accuracy)\n",
    "# assert(_target_test_label_accuracy == target_test_label_accuracy)\n",
    "# assert(_source_val_label_accuracy == source_val_label_accuracy)\n",
    "# assert(_target_val_label_accuracy == target_val_label_accuracy)\n",
    "\n",
    "experiment = {\n",
    "    \"experiment_name\": p.experiment_name,\n",
    "    \"parameters\": dict(p),\n",
    "    \"results\": {\n",
    "        \"source_test_label_accuracy\": source_test_label_accuracy,\n",
    "        \"source_test_label_loss\": source_test_label_loss,\n",
    "        \"target_test_label_accuracy\": target_test_label_accuracy,\n",
    "        \"target_test_label_loss\": target_test_label_loss,\n",
    "        \"source_val_label_accuracy\": source_val_label_accuracy,\n",
    "        \"source_val_label_loss\": source_val_label_loss,\n",
    "        \"target_val_label_accuracy\": target_val_label_accuracy,\n",
    "        \"target_val_label_loss\": target_val_label_loss,\n",
    "        \"total_epochs_trained\": total_epochs_trained,\n",
    "        \"total_experiment_time_secs\": total_experiment_time_secs,\n",
    "        \"confusion\": confusion,\n",
    "        \"per_domain_accuracy\": per_domain_accuracy,\n",
    "    },\n",
    "    \"history\": history,\n",
    "    \"dataset_metrics\": get_dataset_metrics(datasets, \"ptn\"),\n",
    "}"
   ]
  },
  {
   "cell_type": "code",
   "execution_count": 25,
   "id": "54a21829",
   "metadata": {
    "execution": {
     "iopub.execute_input": "2022-03-22T06:36:19.346294Z",
     "iopub.status.busy": "2022-03-22T06:36:19.344490Z",
     "iopub.status.idle": "2022-03-22T06:36:19.603291Z",
     "shell.execute_reply": "2022-03-22T06:36:19.604020Z"
    },
    "papermill": {
     "duration": 0.335439,
     "end_time": "2022-03-22T06:36:19.604244",
     "exception": false,
     "start_time": "2022-03-22T06:36:19.268805",
     "status": "completed"
    },
    "tags": []
   },
   "outputs": [
    {
     "data": {
      "image/png": "[encoded data removed]",
      "text/plain": [
       "<Figure size 1080x504 with 1 Axes>"
      ]
     },
     "metadata": {
      "needs_background": "light"
     },
     "output_type": "display_data"
    }
   ],
   "source": [
    "ax = get_loss_curve(experiment)\n",
    "plt.show()"
   ]
  },
  {
   "cell_type": "code",
   "execution_count": 26,
   "id": "fd8a0f60",
   "metadata": {
    "execution": {
     "iopub.execute_input": "2022-03-22T06:36:19.762199Z",
     "iopub.status.busy": "2022-03-22T06:36:19.761822Z",
     "iopub.status.idle": "2022-03-22T06:36:20.081333Z",
     "shell.execute_reply": "2022-03-22T06:36:20.081802Z"
    },
    "papermill": {
     "duration": 0.39651,
     "end_time": "2022-03-22T06:36:20.081983",
     "exception": false,
     "start_time": "2022-03-22T06:36:19.685473",
     "status": "completed"
    },
    "tags": []
   },
   "outputs": [
    {
     "data": {
      "text/plain": [
       "<AxesSubplot:title={'center':'Results'}>"
      ]
     },
     "execution_count": 26,
     "metadata": {},
     "output_type": "execute_result"
    },
    {
     "data": {
      "image/png": "[encoded data removed]",
      "text/plain": [
       "<Figure size 1080x504 with 1 Axes>"
      ]
     },
     "metadata": {
      "needs_background": "light"
     },
     "output_type": "display_data"
    }
   ],
   "source": [
    "get_results_table(experiment)"
   ]
  },
  {
   "cell_type": "code",
   "execution_count": 27,
   "id": "cf8dc689",
   "metadata": {
    "execution": {
     "iopub.execute_input": "2022-03-22T06:36:20.237726Z",
     "iopub.status.busy": "2022-03-22T06:36:20.237355Z",
     "iopub.status.idle": "2022-03-22T06:36:20.547873Z",
     "shell.execute_reply": "2022-03-22T06:36:20.548566Z"
    },
    "papermill": {
     "duration": 0.388634,
     "end_time": "2022-03-22T06:36:20.548787",
     "exception": false,
     "start_time": "2022-03-22T06:36:20.160153",
     "status": "completed"
    },
    "tags": []
   },
   "outputs": [
    {
     "data": {
      "text/plain": [
       "<AxesSubplot:title={'center':'Per Domain Validation Accuracy'}, xlabel='domain'>"
      ]
     },
     "execution_count": 27,
     "metadata": {},
     "output_type": "execute_result"
    },
    {
     "data": {
      "image/png": "[encoded data removed]",
      "text/plain": [
       "<Figure size 1080x504 with 1 Axes>"
      ]
     },
     "metadata": {
      "needs_background": "light"
     },
     "output_type": "display_data"
    }
   ],
   "source": [
    "get_domain_accuracies(experiment)"
   ]
  },
  {
   "cell_type": "code",
   "execution_count": 28,
   "id": "a74ae082",
   "metadata": {
    "execution": {
     "iopub.execute_input": "2022-03-22T06:36:20.706223Z",
     "iopub.status.busy": "2022-03-22T06:36:20.705846Z",
     "iopub.status.idle": "2022-03-22T06:36:20.729156Z",
     "shell.execute_reply": "2022-03-22T06:36:20.729795Z"
    },
    "papermill": {
     "duration": 0.10137,
     "end_time": "2022-03-22T06:36:20.729999",
     "exception": false,
     "start_time": "2022-03-22T06:36:20.628629",
     "status": "completed"
    },
    "tags": []
   },
   "outputs": [
    {
     "name": "stdout",
     "output_type": "stream",
     "text": [
      "Source Test Label Accuracy: 0.91005859375 Target Test Label Accuracy: 0.8782877604166667\n",
      "Source Val Label Accuracy: 0.909765625 Target Val Label Accuracy: 0.8809895833333333\n"
     ]
    }
   ],
   "source": [
    "print(\"Source Test Label Accuracy:\", experiment[\"results\"][\"source_test_label_accuracy\"], \"Target Test Label Accuracy:\", experiment[\"results\"][\"target_test_label_accuracy\"])\n",
    "print(\"Source Val Label Accuracy:\", experiment[\"results\"][\"source_val_label_accuracy\"], \"Target Val Label Accuracy:\", experiment[\"results\"][\"target_val_label_accuracy\"])"
   ]
  },
  {
   "cell_type": "code",
   "execution_count": 29,
   "id": "dacca602",
   "metadata": {
    "execution": {
     "iopub.execute_input": "2022-03-22T06:36:20.896503Z",
     "iopub.status.busy": "2022-03-22T06:36:20.895942Z",
     "iopub.status.idle": "2022-03-22T06:36:20.926912Z",
     "shell.execute_reply": "2022-03-22T06:36:20.927613Z"
    },
    "papermill": {
     "duration": 0.11157,
     "end_time": "2022-03-22T06:36:20.927821",
     "exception": false,
     "start_time": "2022-03-22T06:36:20.816251",
     "status": "completed"
    },
    "tags": [
     "experiment_json"
    ]
   },
   "outputs": [
    {
     "data": {
      "text/plain": [
       "'{\"experiment_name\": \"tl_1v2:oracle.run1.framed-oracle.run2.framed\", \"parameters\": {\"experiment_name\": \"tl_1v2:oracle.run1.framed-oracle.run2.framed\", \"device\": \"cuda\", \"lr\": 0.0001, \"n_shot\": 3, \"n_query\": 2, \"train_k_factor\": 3, \"val_k_factor\": 2, \"test_k_factor\": 2, \"torch_default_dtype\": \"torch.float32\", \"n_epoch\": 50, \"patience\": 3, \"criteria_for_best\": \"target_accuracy\", \"x_net\": [{\"class\": \"nnReshape\", \"kargs\": {\"shape\": [-1, 1, 2, 256]}}, {\"class\": \"Conv2d\", \"kargs\": {\"in_channels\": 1, \"out_channels\": 256, \"kernel_size\": [1, 7], \"bias\": false, \"padding\": [0, 3]}}, {\"class\": \"ReLU\", \"kargs\": {\"inplace\": true}}, {\"class\": \"BatchNorm2d\", \"kargs\": {\"num_features\": 256}}, {\"class\": \"Conv2d\", \"kargs\": {\"in_channels\": 256, \"out_channels\": 80, \"kernel_size\": [2, 7], \"bias\": true, \"padding\": [0, 3]}}, {\"class\": \"ReLU\", \"kargs\": {\"inplace\": true}}, {\"class\": \"BatchNorm2d\", \"kargs\": {\"num_features\": 80}}, {\"class\": \"Flatten\", \"kargs\": {}}, {\"class\": \"Linear\", \"kargs\": {\"in_features\": 20480, \"out_features\": 256}}, {\"class\": \"ReLU\", \"kargs\": {\"inplace\": true}}, {\"class\": \"BatchNorm1d\", \"kargs\": {\"num_features\": 256}}, {\"class\": \"Linear\", \"kargs\": {\"in_features\": 256, \"out_features\": 256}}], \"NUM_LOGS_PER_EPOCH\": 10, \"BEST_MODEL_PATH\": \"./best_model.pth\", \"n_way\": 16, \"datasets\": [{\"labels\": [\"3123D52\", \"3123D65\", \"3123D79\", \"3123D80\", \"3123D54\", \"3123D70\", \"3123D7B\", \"3123D89\", \"3123D58\", \"3123D76\", \"3123D7D\", \"3123EFE\", \"3123D64\", \"3123D78\", \"3123D7E\", \"3124E4A\"], \"domains\": [32, 38, 8, 44, 14, 50, 20, 26], \"num_examples_per_domain_per_label\": 2000, \"pickle_path\": \"/root/csc500-main/datasets/oracle.Run1_framed_2000Examples_stratified_ds.2022A.pkl\", \"source_or_target_dataset\": \"source\", \"x_transforms\": [\"unit_power\"], \"episode_transforms\": [], \"domain_prefix\": \"ORACLE.run1_\"}, {\"labels\": [\"3123D52\", \"3123D65\", \"3123D79\", \"3123D80\", \"3123D54\", \"3123D70\", \"3123D7B\", \"3123D89\", \"3123D58\", \"3123D76\", \"3123D7D\", \"3123EFE\", \"3123D64\", \"3123D78\", \"3123D7E\", \"3124E4A\"], \"domains\": [32, 38, 8, 44, 14, 50, 20, 26], \"num_examples_per_domain_per_label\": 2000, \"pickle_path\": \"/root/csc500-main/datasets/oracle.Run2_framed_2000Examples_stratified_ds.2022A.pkl\", \"source_or_target_dataset\": \"target\", \"x_transforms\": [\"unit_power\"], \"episode_transforms\": [], \"domain_prefix\": \"ORACLE.run2_\"}], \"dataset_seed\": 500, \"seed\": 500, \"x_shape\": [2, 256], \"domains_source\": [\"ORACLE.run1_32\", \"ORACLE.run1_38\", \"ORACLE.run1_8\", \"ORACLE.run1_44\", \"ORACLE.run1_14\", \"ORACLE.run1_50\", \"ORACLE.run1_20\", \"ORACLE.run1_26\"], \"domains_target\": [\"ORACLE.run2_32\", \"ORACLE.run2_38\", \"ORACLE.run2_8\", \"ORACLE.run2_44\", \"ORACLE.run2_14\", \"ORACLE.run2_50\", \"ORACLE.run2_20\", \"ORACLE.run2_26\"]}, \"results\": {\"source_test_label_accuracy\": 0.91005859375, \"source_test_label_loss\": 0.25562727451324463, \"target_test_label_accuracy\": 0.8782877604166667, \"target_test_label_loss\": 0.3749351501464844, \"source_val_label_accuracy\": 0.909765625, \"source_val_label_loss\": 0.259029746055603, \"target_val_label_accuracy\": 0.8809895833333333, \"target_val_label_loss\": 0.37396278977394104, \"total_epochs_trained\": 16, \"total_experiment_time_secs\": 4380.501846313477, \"confusion\": {\"ORACLE.run1_50\": {\"7\": {\"7\": 218, \"5\": 13, \"6\": 5, \"4\": 2, \"13\": 2}, \"10\": {\"10\": 232, \"13\": 2, \"8\": 4, \"0\": 2}, \"0\": {\"0\": 223, \"2\": 13, \"10\": 4}, \"11\": {\"11\": 235, \"15\": 5}, \"2\": {\"2\": 233, \"0\": 7}, \"14\": {\"14\": 240}, \"9\": {\"9\": 238, \"12\": 1, \"11\": 1}, \"13\": {\"13\": 220, \"5\": 11, \"7\": 2, \"10\": 3, \"6\": 4}, \"8\": {\"8\": 239, \"3\": 1}, \"15\": {\"15\": 229, \"6\": 4, \"4\": 4, \"1\": 3}, \"4\": {\"4\": 187, \"15\": 14, \"6\": 3, \"5\": 32, \"7\": 3, \"11\": 1}, \"5\": {\"4\": 25, \"5\": 188, \"6\": 4, \"13\": 8, \"1\": 5, \"7\": 10}, \"3\": {\"3\": 238, \"8\": 2}, \"1\": {\"1\": 210, \"5\": 5, \"15\": 20, \"4\": 3, \"13\": 2}, \"6\": {\"6\": 233, \"13\": 3, \"4\": 2, \"7\": 1, \"5\": 1}, \"12\": {\"12\": 231, \"11\": 4, \"9\": 5}}, \"ORACLE.run1_14\": {\"14\": {\"14\": 221, \"2\": 17, \"13\": 2}, \"6\": {\"6\": 211, \"13\": 27, \"2\": 2}, \"5\": {\"5\": 215, \"4\": 12, \"13\": 1, \"1\": 6, \"2\": 6}, \"15\": {\"15\": 240}, \"11\": {\"11\": 236, \"9\": 4}, \"8\": {\"8\": 240}, \"12\": {\"12\": 240}, \"1\": {\"1\": 235, \"5\": 5}, \"2\": {\"2\": 179, \"6\": 3, \"14\": 32, \"5\": 21, \"13\": 4, \"3\": 1}, \"13\": {\"13\": 192, \"6\": 40, \"14\": 5, \"2\": 3}, \"3\": {\"3\": 237, \"2\": 1, \"5\": 1, \"4\": 1}, \"0\": {\"0\": 239, \"3\": 1}, \"9\": {\"9\": 240}, \"4\": {\"4\": 232, \"5\": 7, \"1\": 1}, \"7\": {\"7\": 240}, \"10\": {\"10\": 240}}, \"ORACLE.run1_32\": {\"4\": {\"4\": 198, \"13\": 9, \"2\": 26, \"7\": 5, \"5\": 2}, \"14\": {\"14\": 204, \"0\": 17, \"5\": 2, \"11\": 10, \"7\": 3, \"8\": 3, \"13\": 1}, \"5\": {\"5\": 166, \"7\": 49, \"3\": 4, \"8\": 2, \"4\": 4, \"13\": 9, \"0\": 4, \"14\": 1, \"2\": 1}, \"10\": {\"10\": 240}, \"13\": {\"13\": 205, \"4\": 13, \"11\": 2, \"3\": 7, \"7\": 5, \"8\": 2, \"5\": 5, \"0\": 1}, \"9\": {\"9\": 240}, \"6\": {\"6\": 240}, \"3\": {\"3\": 235, \"11\": 1, \"13\": 4}, \"15\": {\"15\": 240}, \"7\": {\"7\": 188, \"5\": 38, \"4\": 8, \"14\": 4, \"8\": 1, \"0\": 1}, \"12\": {\"12\": 240}, \"8\": {\"8\": 220, \"0\": 14, \"5\": 6}, \"11\": {\"11\": 232, \"13\": 3, \"14\": 5}, \"2\": {\"2\": 207, \"4\": 30, \"7\": 2, \"13\": 1}, \"1\": {\"1\": 240}, \"0\": {\"0\": 219, \"8\": 13, \"14\": 7, \"13\": 1}}, \"ORACLE.run1_44\": {\"8\": {\"0\": 68, \"8\": 161, \"5\": 6, \"15\": 5}, \"11\": {\"11\": 237, \"13\": 3}, \"14\": {\"14\": 189, \"4\": 42, \"15\": 9}, \"10\": {\"10\": 215, \"1\": 16, \"2\": 8, \"7\": 1}, \"3\": {\"3\": 236, \"1\": 2, \"12\": 2}, \"15\": {\"15\": 212, \"14\": 15, \"0\": 10, \"5\": 2, \"8\": 1}, \"2\": {\"2\": 217, \"7\": 11, \"1\": 6, \"10\": 5, \"3\": 1}, \"12\": {\"12\": 225, \"1\": 13, \"3\": 2}, \"4\": {\"14\": 52, \"4\": 188}, \"1\": {\"1\": 196, \"10\": 16, \"3\": 9, \"12\": 14, \"2\": 5}, \"0\": {\"0\": 180, \"15\": 7, \"8\": 50, \"5\": 3}, \"9\": {\"6\": 15, \"7\": 60, \"9\": 144, \"13\": 21}, \"5\": {\"5\": 221, \"0\": 6, \"14\": 4, \"15\": 7, \"8\": 2}, \"6\": {\"6\": 186, \"13\": 35, \"9\": 17, \"7\": 2}, \"7\": {\"7\": 183, \"9\": 46, \"2\": 11}, \"13\": {\"13\": 199, \"9\": 13, \"6\": 26, \"7\": 1, \"11\": 1}}, \"ORACLE.run1_8\": {\"13\": {\"13\": 169, \"6\": 6, \"10\": 24, \"4\": 28, \"0\": 9, \"14\": 3, \"7\": 1}, \"3\": {\"3\": 240}, \"15\": {\"15\": 219, \"12\": 21}, \"4\": {\"4\": 214, \"6\": 8, \"13\": 14, \"14\": 3, \"10\": 1}, \"7\": {\"6\": 20, \"7\": 220}, \"2\": {\"2\": 234, \"3\": 2, \"7\": 3, \"12\": 1}, \"1\": {\"1\": 237, \"14\": 2, \"5\": 1}, \"0\": {\"0\": 234, \"13\": 3, \"7\": 3}, \"12\": {\"12\": 213, \"15\": 25, \"3\": 2}, \"6\": {\"6\": 214, \"7\": 16, \"4\": 9, \"13\": 1}, \"11\": {\"11\": 239, \"1\": 1}, \"9\": {\"9\": 240}, \"5\": {\"5\": 232, \"10\": 4, \"14\": 4}, \"10\": {\"10\": 228, \"4\": 4, \"13\": 6, \"14\": 2}, \"14\": {\"14\": 213, \"10\": 7, \"4\": 16, \"1\": 4}, \"8\": {\"8\": 240}}, \"ORACLE.run1_20\": {\"6\": {\"6\": 233, \"14\": 7}, \"11\": {\"11\": 240}, \"5\": {\"5\": 229, \"15\": 3, \"12\": 3, \"0\": 4, \"4\": 1}, \"14\": {\"14\": 237, \"6\": 3}, \"2\": {\"2\": 203, \"7\": 8, \"13\": 2, \"12\": 8, \"9\": 11, \"3\": 7, \"1\": 1}, \"7\": {\"7\": 233, \"2\": 7}, \"3\": {\"3\": 197, \"2\": 7, \"12\": 23, \"9\": 10, \"1\": 1, \"7\": 1, \"4\": 1}, \"4\": {\"4\": 239, \"3\": 1}, \"9\": {\"9\": 206, \"3\": 17, \"2\": 16, \"12\": 1}, \"12\": {\"12\": 177, \"1\": 29, \"3\": 21, \"2\": 2, \"9\": 10, \"5\": 1}, \"0\": {\"0\": 227, \"5\": 8, \"15\": 5}, \"10\": {\"10\": 240}, \"8\": {\"8\": 236, \"4\": 3, \"7\": 1}, \"13\": {\"13\": 237, \"7\": 1, \"2\": 2}, \"1\": {\"12\": 25, \"1\": 206, \"15\": 5, \"3\": 4}, \"15\": {\"15\": 227, \"1\": 5, \"0\": 4, \"5\": 3, \"12\": 1}}, \"ORACLE.run1_38\": {\"3\": {\"3\": 237, \"0\": 3}, \"8\": {\"5\": 35, \"8\": 189, \"0\": 10, \"7\": 6}, \"0\": {\"0\": 211, \"7\": 7, \"4\": 1, \"8\": 15, \"10\": 4, \"13\": 2}, \"2\": {\"2\": 226, \"14\": 7, \"13\": 5, \"15\": 2}, \"4\": {\"4\": 239, \"12\": 1}, \"7\": {\"7\": 230, \"5\": 2, \"10\": 1, \"8\": 5, \"0\": 2}, \"12\": {\"12\": 240}, \"6\": {\"6\": 239, \"5\": 1}, \"15\": {\"15\": 218, \"1\": 8, \"8\": 8, \"5\": 5, \"13\": 1}, \"11\": {\"11\": 237, \"10\": 1, \"4\": 1, \"14\": 1}, \"9\": {\"9\": 238, \"6\": 2}, \"14\": {\"14\": 237, \"2\": 3}, \"10\": {\"10\": 234, \"13\": 5, \"0\": 1}, \"5\": {\"5\": 166, \"8\": 45, \"7\": 16, \"9\": 5, \"15\": 6, \"13\": 1, \"6\": 1}, \"1\": {\"1\": 239, \"15\": 1}, \"13\": {\"13\": 232, \"8\": 2, \"2\": 1, \"10\": 2, \"15\": 1, \"0\": 2}}, \"ORACLE.run1_26\": {\"5\": {\"5\": 228, \"2\": 8, \"13\": 3, \"9\": 1}, \"8\": {\"8\": 156, \"10\": 31, \"0\": 27, \"4\": 12, \"14\": 3, \"7\": 9, \"15\": 2}, \"4\": {\"4\": 208, \"0\": 6, \"7\": 4, \"14\": 14, \"8\": 7, \"10\": 1}, \"12\": {\"12\": 240}, \"6\": {\"6\": 232, \"15\": 2, \"10\": 5, \"0\": 1}, \"7\": {\"7\": 204, \"0\": 1, \"4\": 8, \"3\": 15, \"2\": 9, \"8\": 3}, \"10\": {\"8\": 20, \"10\": 142, \"6\": 7, \"0\": 57, \"14\": 14}, \"0\": {\"4\": 18, \"0\": 120, \"10\": 52, \"14\": 33, \"7\": 2, \"8\": 15}, \"15\": {\"15\": 211, \"6\": 9, \"9\": 14, \"2\": 3, \"8\": 2, \"10\": 1}, \"9\": {\"9\": 228, \"15\": 7, \"6\": 3, \"10\": 1, \"8\": 1}, \"11\": {\"11\": 240}, \"14\": {\"0\": 28, \"14\": 195, \"10\": 5, \"1\": 7, \"4\": 2, \"8\": 3}, \"2\": {\"2\": 169, \"3\": 46, \"7\": 11, \"5\": 6, \"8\": 3, \"15\": 2, \"13\": 3}, \"13\": {\"13\": 234, \"5\": 4, \"2\": 2}, \"3\": {\"3\": 214, \"7\": 4, \"2\": 22}, \"1\": {\"1\": 228, \"14\": 12}}, \"ORACLE.run2_50\": {\"7\": {\"7\": 217, \"5\": 16, \"13\": 6, \"6\": 1}, \"10\": {\"10\": 210, \"13\": 27, \"0\": 2, \"7\": 1}, \"0\": {\"2\": 11, \"0\": 227, \"10\": 2}, \"11\": {\"11\": 228, \"15\": 6, \"1\": 1, \"12\": 2, \"9\": 3}, \"2\": {\"2\": 236, \"0\": 4}, \"14\": {\"14\": 240}, \"9\": {\"9\": 239, \"12\": 1}, \"13\": {\"13\": 192, \"7\": 9, \"10\": 36, \"5\": 3}, \"8\": {\"8\": 237, \"3\": 3}, \"15\": {\"15\": 226, \"4\": 3, \"1\": 8, \"11\": 2, \"6\": 1}, \"4\": {\"4\": 180, \"5\": 55, \"6\": 3, \"1\": 2}, \"5\": {\"5\": 168, \"4\": 58, \"7\": 2, \"6\": 7, \"13\": 5}, \"3\": {\"3\": 238, \"8\": 2}, \"1\": {\"1\": 236, \"15\": 3, \"4\": 1}, \"6\": {\"6\": 221, \"4\": 7, \"5\": 8, \"15\": 4}, \"12\": {\"12\": 236, \"11\": 3, \"9\": 1}}, \"ORACLE.run2_14\": {\"14\": {\"14\": 203, \"2\": 33, \"3\": 1, \"6\": 2, \"0\": 1}, \"6\": {\"6\": 229, \"13\": 10, \"2\": 1}, \"5\": {\"5\": 210, \"2\": 17, \"4\": 11, \"3\": 2}, \"15\": {\"15\": 240}, \"11\": {\"11\": 240}, \"8\": {\"8\": 240}, \"12\": {\"11\": 34, \"12\": 146, \"9\": 28, \"0\": 18, \"8\": 8, \"13\": 2, \"10\": 1, \"14\": 2, \"6\": 1}, \"1\": {\"1\": 237, \"5\": 3}, \"2\": {\"2\": 167, \"14\": 31, \"5\": 29, \"3\": 12, \"13\": 1}, \"13\": {\"13\": 209, \"6\": 31}, \"3\": {\"3\": 221, \"5\": 13, \"2\": 6}, \"0\": {\"0\": 240}, \"9\": {\"9\": 240}, \"4\": {\"4\": 236, \"5\": 1, \"6\": 2, \"2\": 1}, \"7\": {\"7\": 240}, \"10\": {\"10\": 237, \"6\": 1, \"14\": 2}}, \"ORACLE.run2_32\": {\"4\": {\"13\": 46, \"4\": 178, \"7\": 11, \"2\": 2, \"5\": 2, \"8\": 1}, \"14\": {\"14\": 224, \"2\": 1, \"0\": 12, \"5\": 3}, \"5\": {\"5\": 191, \"4\": 7, \"8\": 7, \"3\": 2, \"2\": 4, \"14\": 9, \"0\": 8, \"11\": 1, \"7\": 11}, \"10\": {\"10\": 240}, \"13\": {\"8\": 2, \"13\": 187, \"4\": 42, \"11\": 3, \"7\": 5, \"3\": 1}, \"9\": {\"9\": 240}, \"6\": {\"6\": 240}, \"3\": {\"3\": 235, \"13\": 3, \"11\": 1, \"8\": 1}, \"15\": {\"15\": 240}, \"7\": {\"4\": 11, \"5\": 9, \"7\": 211, \"2\": 1, \"11\": 8}, \"12\": {\"12\": 240}, \"8\": {\"8\": 217, \"3\": 1, \"0\": 15, \"5\": 5, \"13\": 1, \"4\": 1}, \"11\": {\"11\": 210, \"0\": 10, \"7\": 17, \"13\": 2, \"4\": 1}, \"2\": {\"5\": 3, \"2\": 235, \"4\": 2}, \"1\": {\"1\": 240}, \"0\": {\"0\": 204, \"11\": 6, \"8\": 13, \"14\": 14, \"7\": 1, \"5\": 1, \"4\": 1}}, \"ORACLE.run2_44\": {\"8\": {\"8\": 158, \"0\": 79, \"5\": 3}, \"11\": {\"11\": 240}, \"14\": {\"14\": 200, \"5\": 11, \"4\": 13, \"15\": 16}, \"10\": {\"10\": 239, \"1\": 1}, \"3\": {\"3\": 218, \"12\": 13, \"1\": 9}, \"15\": {\"15\": 218, \"14\": 16, \"4\": 5, \"8\": 1}, \"2\": {\"2\": 206, \"9\": 23, \"7\": 11}, \"12\": {\"12\": 196, \"1\": 37, \"3\": 7}, \"4\": {\"4\": 231, \"14\": 8, \"15\": 1}, \"1\": {\"1\": 194, \"12\": 34, \"3\": 12}, \"0\": {\"0\": 142, \"8\": 98}, \"9\": {\"9\": 136, \"7\": 76, \"2\": 17, \"6\": 11}, \"5\": {\"5\": 230, \"14\": 9, \"8\": 1}, \"6\": {\"6\": 233, \"9\": 4, \"13\": 1, \"7\": 2}, \"7\": {\"9\": 83, \"7\": 146, \"2\": 10, \"6\": 1}, \"13\": {\"13\": 238, \"6\": 2}}, \"ORACLE.run2_8\": {\"13\": {\"13\": 230, \"14\": 4, \"10\": 3, \"6\": 1, \"1\": 2}, \"3\": {\"3\": 240}, \"15\": {\"15\": 208, \"12\": 27, \"8\": 5}, \"4\": {\"4\": 134, \"7\": 62, \"6\": 43, \"2\": 1}, \"7\": {\"7\": 164, \"4\": 63, \"6\": 13}, \"2\": {\"2\": 228, \"4\": 6, \"7\": 4, \"6\": 2}, \"1\": {\"13\": 1, \"1\": 239}, \"0\": {\"0\": 226, \"14\": 10, \"10\": 4}, \"12\": {\"15\": 1, \"12\": 239}, \"6\": {\"6\": 181, \"4\": 52, \"7\": 7}, \"11\": {\"11\": 211, \"8\": 24, \"12\": 4, \"15\": 1}, \"9\": {\"9\": 240}, \"5\": {\"5\": 218, \"10\": 21, \"1\": 1}, \"10\": {\"10\": 221, \"5\": 11, \"14\": 5, \"0\": 2, \"13\": 1}, \"14\": {\"14\": 226, \"0\": 10, \"10\": 2, \"13\": 2}, \"8\": {\"8\": 239, \"11\": 1}}, \"ORACLE.run2_20\": {\"6\": {\"6\": 233, \"14\": 7}, \"11\": {\"11\": 240}, \"5\": {\"5\": 202, \"7\": 5, \"2\": 9, \"12\": 7, \"0\": 6, \"3\": 3, \"13\": 3, \"15\": 3, \"4\": 2}, \"14\": {\"14\": 232, \"6\": 2, \"8\": 5, \"10\": 1}, \"2\": {\"1\": 2, \"2\": 176, \"9\": 19, \"12\": 12, \"3\": 25, \"5\": 4, \"15\": 2}, \"7\": {\"7\": 233, \"8\": 3, \"3\": 2, \"5\": 1, \"2\": 1}, \"3\": {\"3\": 186, \"2\": 31, \"9\": 10, \"12\": 5, \"7\": 7, \"5\": 1}, \"4\": {\"4\": 239, \"14\": 1}, \"9\": {\"9\": 211, \"2\": 16, \"3\": 8, \"12\": 4, \"1\": 1}, \"12\": {\"12\": 202, \"1\": 28, \"3\": 1, \"5\": 3, \"2\": 4, \"9\": 2}, \"0\": {\"0\": 232, \"5\": 4, \"15\": 4}, \"10\": {\"10\": 240}, \"8\": {\"8\": 220, \"14\": 15, \"7\": 3, \"4\": 2}, \"13\": {\"15\": 16, \"13\": 220, \"5\": 4}, \"1\": {\"12\": 38, \"1\": 198, \"15\": 2, \"9\": 1, \"2\": 1}, \"15\": {\"15\": 196, \"5\": 8, \"0\": 5, \"1\": 1, \"13\": 23, \"12\": 4, \"2\": 3}}, \"ORACLE.run2_38\": {\"3\": {\"3\": 165, \"13\": 56, \"10\": 5, \"0\": 11, \"9\": 1, \"7\": 1, \"8\": 1}, \"8\": {\"8\": 163, \"5\": 57, \"3\": 1, \"15\": 3, \"7\": 16}, \"0\": {\"0\": 228, \"7\": 5, \"3\": 3, \"8\": 1, \"13\": 1, \"10\": 2}, \"2\": {\"2\": 226, \"14\": 14}, \"4\": {\"4\": 237, \"10\": 2, \"7\": 1}, \"7\": {\"7\": 178, \"8\": 17, \"10\": 26, \"5\": 18, \"13\": 1}, \"12\": {\"12\": 240}, \"6\": {\"6\": 235, \"9\": 5}, \"15\": {\"5\": 30, \"1\": 14, \"15\": 187, \"8\": 8, \"0\": 1}, \"11\": {\"11\": 238, \"4\": 2}, \"9\": {\"9\": 235, \"6\": 5}, \"14\": {\"14\": 170, \"2\": 53, \"7\": 6, \"8\": 2, \"10\": 2, \"11\": 2, \"13\": 1, \"12\": 2, \"5\": 2}, \"10\": {\"10\": 197, \"13\": 1, \"4\": 4, \"7\": 31, \"3\": 4, \"0\": 3}, \"5\": {\"5\": 177, \"8\": 45, \"7\": 15, \"15\": 3}, \"1\": {\"1\": 232, \"5\": 3, \"2\": 1, \"15\": 3, \"8\": 1}, \"13\": {\"3\": 53, \"13\": 180, \"10\": 5, \"8\": 2}}, \"ORACLE.run2_26\": {\"5\": {\"5\": 180, \"13\": 31, \"9\": 4, \"3\": 6, \"2\": 13, \"1\": 1, \"7\": 3, \"15\": 1, \"6\": 1}, \"8\": {\"8\": 190, \"7\": 6, \"2\": 9, \"14\": 8, \"10\": 11, \"0\": 10, \"4\": 4, \"15\": 1, \"6\": 1}, \"4\": {\"4\": 211, \"7\": 9, \"3\": 5, \"14\": 3, \"8\": 7, \"2\": 3, \"0\": 2}, \"12\": {\"12\": 240}, \"6\": {\"6\": 230, \"9\": 5, \"10\": 5}, \"7\": {\"7\": 137, \"2\": 62, \"8\": 5, \"3\": 11, \"15\": 9, \"4\": 15, \"13\": 1}, \"10\": {\"10\": 133, \"14\": 21, \"8\": 24, \"0\": 49, \"4\": 3, \"6\": 9, \"15\": 1}, \"0\": {\"0\": 127, \"4\": 9, \"14\": 54, \"10\": 37, \"8\": 11, \"2\": 1, \"15\": 1}, \"15\": {\"15\": 199, \"7\": 18, \"2\": 13, \"4\": 4, \"3\": 3, \"0\": 1, \"8\": 2}, \"9\": {\"9\": 234, \"13\": 4, \"6\": 1, \"5\": 1}, \"11\": {\"11\": 240}, \"14\": {\"14\": 152, \"0\": 50, \"8\": 9, \"10\": 11, \"1\": 16, \"4\": 2}, \"2\": {\"3\": 21, \"2\": 130, \"15\": 8, \"7\": 65, \"8\": 6, \"4\": 1, \"5\": 8, \"13\": 1}, \"13\": {\"13\": 215, \"5\": 22, \"7\": 1, \"9\": 1, \"2\": 1}, \"3\": {\"2\": 19, \"3\": 203, \"7\": 11, \"15\": 2, \"4\": 3, \"5\": 2}, \"1\": {\"1\": 228, \"14\": 12}}}, \"per_domain_accuracy\": {\"ORACLE.run1_50\": {\"accuracy\": 0.9359375, \"source?\": true}, \"ORACLE.run1_14\": {\"accuracy\": 0.9471354166666667, \"source?\": true}, \"ORACLE.run1_32\": {\"accuracy\": 0.9151041666666667, \"source?\": true}, \"ORACLE.run1_44\": {\"accuracy\": 0.83046875, \"source?\": true}, \"ORACLE.run1_8\": {\"accuracy\": 0.9338541666666667, \"source?\": true}, \"ORACLE.run1_20\": {\"accuracy\": 0.92890625, \"source?\": true}, \"ORACLE.run1_38\": {\"accuracy\": 0.940625, \"source?\": true}, \"ORACLE.run1_26\": {\"accuracy\": 0.84609375, \"source?\": true}, \"ORACLE.run2_50\": {\"accuracy\": 0.91953125, \"source?\": false}, \"ORACLE.run2_14\": {\"accuracy\": 0.9205729166666666, \"source?\": false}, \"ORACLE.run2_32\": {\"accuracy\": 0.9197916666666667, \"source?\": false}, \"ORACLE.run2_44\": {\"accuracy\": 0.83984375, \"source?\": false}, \"ORACLE.run2_8\": {\"accuracy\": 0.896875, \"source?\": false}, \"ORACLE.run2_20\": {\"accuracy\": 0.9010416666666666, \"source?\": false}, \"ORACLE.run2_38\": {\"accuracy\": 0.85625, \"source?\": false}, \"ORACLE.run2_26\": {\"accuracy\": 0.7940104166666667, \"source?\": false}}}, \"history\": {\"epoch_indices\": [1, 2, 3, 4, 5, 6, 7, 8, 9, 10, 11, 12, 13, 14, 15, 16], \"train_label_loss\": [0.7876654366031289, 0.48083027662276956, 0.3847535903490747, 0.33062082959901695, 0.2936192553193818, 0.2640758523039126, 0.2443495281609579, 0.22775694029350277, 0.21310852374722128, 0.1985513178670815, 0.185471108299784, 0.17324630925643197, 0.16208895637383172, 0.1548155130846204, 0.1447141356547772, 0.1378973207989648], \"source_val_label_loss\": [0.8605479001998901, 0.4192086458206177, 0.3597303032875061, 0.31742408871650696, 0.30548232793807983, 0.30907145142555237, 0.2881496250629425, 0.26112139225006104, 0.2677031457424164, 0.2951173484325409, 0.2856369912624359, 0.259029746055603, 0.28625017404556274, 0.2668003439903259, 0.2588299810886383, 0.260641872882843], \"target_val_label_loss\": [0.8883439302444458, 0.48252320289611816, 0.4280887246131897, 0.3927033841609955, 0.3860636055469513, 0.38876932859420776, 0.37436720728874207, 0.36404311656951904, 0.3590393662452698, 0.400556743144989, 0.39632976055145264, 0.37396278977394104, 0.40770888328552246, 0.39598390460014343, 0.3940921425819397, 0.405241459608078], \"source_val_acc_label\": [0.7371419270833334, 0.8493489583333333, 0.8705078125, 0.8868489583333333, 0.890234375, 0.8888997395833333, 0.8978190104166667, 0.9069986979166667, 0.9064778645833333, 0.8974283854166667, 0.9015625, 0.909765625, 0.9, 0.9091796875, 0.9104817708333334, 0.9123697916666667], \"target_val_acc_label\": [0.7238932291666667, 0.8357747395833334, 0.85537109375, 0.8648111979166667, 0.8677408854166667, 0.8655598958333334, 0.8741536458333333, 0.8794596354166667, 0.8793294270833333, 0.86552734375, 0.8736979166666666, 0.8809895833333333, 0.8671223958333333, 0.8760091145833333, 0.8765299479166667, 0.8770182291666667]}, \"dataset_metrics\": {\"source\": {\"train\": {\"n_unique_x\": 179200, \"n_unique_y\": 16, \"n_batch/episode\": 6720}, \"val\": {\"n_unique_x\": 38400, \"n_unique_y\": 16, \"n_batch/episode\": 960}, \"test\": {\"n_unique_x\": 38400, \"n_unique_y\": 16, \"n_batch/episode\": 960}}, \"target\": {\"train\": {\"n_unique_x\": 179200, \"n_unique_y\": 16, \"n_batch/episode\": 6720}, \"val\": {\"n_unique_x\": 38400, \"n_unique_y\": 16, \"n_batch/episode\": 960}, \"test\": {\"n_unique_x\": 38400, \"n_unique_y\": 16, \"n_batch/episode\": 960}}}}'"
      ]
     },
     "execution_count": 29,
     "metadata": {},
     "output_type": "execute_result"
    }
   ],
   "source": [
    "json.dumps(experiment)"
   ]
  }
 ],
 "metadata": {
  "celltoolbar": "Tags",
  "kernelspec": {
   "display_name": "Python 3 (ipykernel)",
   "language": "python",
   "name": "python3"
  },
  "language_info": {
   "codemirror_mode": {
    "name": "ipython",
    "version": 3
   },
   "file_extension": ".py",
   "mimetype": "text/x-python",
   "name": "python",
   "nbconvert_exporter": "python",
   "pygments_lexer": "ipython3",
   "version": "3.8.12"
  },
  "papermill": {
   "default_parameters": {},
   "duration": 4658.739023,
   "end_time": "2022-03-22T06:36:23.930144",
   "environment_variables": {},
   "exception": null,
   "input_path": "/root/csc500-main/csc500-notebooks/templates/tl_ptn_template.ipynb",
   "output_path": "trial.ipynb",
   "parameters": {
    "parameters": {
     "BEST_MODEL_PATH": "./best_model.pth",
     "NUM_LOGS_PER_EPOCH": 10,
     "criteria_for_best": "target_accuracy",
     "dataset_seed": 500,
     "datasets": [
      {
       "domain_prefix": "ORACLE.run1_",
       "domains": [
        32,
        38,
        8,
        44,
        14,
        50,
        20,
        26
       ],
       "episode_transforms": [],
       "labels": [
        "3123D52",
        "3123D65",
        "3123D79",
        "3123D80",
        "3123D54",
        "3123D70",
        "3123D7B",
        "3123D89",
        "3123D58",
        "3123D76",
        "3123D7D",
        "3123EFE",
        "3123D64",
        "3123D78",
        "3123D7E",
        "3124E4A"
       ],
       "num_examples_per_domain_per_label": 2000,
       "pickle_path": "/root/csc500-main/datasets/oracle.Run1_framed_2000Examples_stratified_ds.2022A.pkl",
       "source_or_target_dataset": "source",
       "x_transforms": [
        "unit_power"
       ]
      },
      {
       "domain_prefix": "ORACLE.run2_",
       "domains": [
        32,
        38,
        8,
        44,
        14,
        50,
        20,
        26
       ],
       "episode_transforms": [],
       "labels": [
        "3123D52",
        "3123D65",
        "3123D79",
        "3123D80",
        "3123D54",
        "3123D70",
        "3123D7B",
        "3123D89",
        "3123D58",
        "3123D76",
        "3123D7D",
        "3123EFE",
        "3123D64",
        "3123D78",
        "3123D7E",
        "3124E4A"
       ],
       "num_examples_per_domain_per_label": 2000,
       "pickle_path": "/root/csc500-main/datasets/oracle.Run2_framed_2000Examples_stratified_ds.2022A.pkl",
       "source_or_target_dataset": "target",
       "x_transforms": [
        "unit_power"
       ]
      }
     ],
     "device": "cuda",
     "experiment_name": "tl_1v2:oracle.run1.framed-oracle.run2.framed",
     "lr": 0.0001,
     "n_epoch": 50,
     "n_query": 2,
     "n_shot": 3,
     "n_way": 16,
     "patience": 3,
     "seed": 500,
     "test_k_factor": 2,
     "torch_default_dtype": "torch.float32",
     "train_k_factor": 3,
     "val_k_factor": 2,
     "x_net": [
      {
       "class": "nnReshape",
       "kargs": {
        "shape": [
         -1,
         1,
         2,
         256
        ]
       }
      },
      {
       "class": "Conv2d",
       "kargs": {
        "bias": false,
        "in_channels": 1,
        "kernel_size": [
         1,
         7
        ],
        "out_channels": 256,
        "padding": [
         0,
         3
        ]
       }
      },
      {
       "class": "ReLU",
       "kargs": {
        "inplace": true
       }
      },
      {
       "class": "BatchNorm2d",
       "kargs": {
        "num_features": 256
       }
      },
      {
       "class": "Conv2d",
       "kargs": {
        "bias": true,
        "in_channels": 256,
        "kernel_size": [
         2,
         7
        ],
        "out_channels": 80,
        "padding": [
         0,
         3
        ]
       }
      },
      {
       "class": "ReLU",
       "kargs": {
        "inplace": true
       }
      },
      {
       "class": "BatchNorm2d",
       "kargs": {
        "num_features": 80
       }
      },
      {
       "class": "Flatten",
       "kargs": {}
      },
      {
       "class": "Linear",
       "kargs": {
        "in_features": 20480,
        "out_features": 256
       }
      },
      {
       "class": "ReLU",
       "kargs": {
        "inplace": true
       }
      },
      {
       "class": "BatchNorm1d",
       "kargs": {
        "num_features": 256
       }
      },
      {
       "class": "Linear",
       "kargs": {
        "in_features": 256,
        "out_features": 256
       }
      }
     ]
    }
   },
   "start_time": "2022-03-22T05:18:45.191121",
   "version": "2.3.4"
  }
 },
 "nbformat": 4,
 "nbformat_minor": 5
}