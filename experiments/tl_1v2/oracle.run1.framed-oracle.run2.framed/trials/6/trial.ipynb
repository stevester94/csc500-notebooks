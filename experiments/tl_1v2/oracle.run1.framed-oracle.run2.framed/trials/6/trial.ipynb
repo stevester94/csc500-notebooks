{
 "cells": [
  {
   "cell_type": "markdown",
   "id": "9fea5f46",
   "metadata": {
    "papermill": {
     "duration": 0.025184,
     "end_time": "2022-03-21T09:49:08.231747",
     "exception": false,
     "start_time": "2022-03-21T09:49:08.206563",
     "status": "completed"
    },
    "tags": []
   },
   "source": [
    "# Transfer Learning Template"
   ]
  },
  {
   "cell_type": "code",
   "execution_count": 1,
   "id": "0902182a",
   "metadata": {
    "execution": {
     "iopub.execute_input": "2022-03-21T09:49:08.290503Z",
     "iopub.status.busy": "2022-03-21T09:49:08.289650Z",
     "iopub.status.idle": "2022-03-21T09:49:10.111160Z",
     "shell.execute_reply": "2022-03-21T09:49:10.110751Z"
    },
    "papermill": {
     "duration": 1.860367,
     "end_time": "2022-03-21T09:49:10.111267",
     "exception": false,
     "start_time": "2022-03-21T09:49:08.250900",
     "status": "completed"
    },
    "tags": []
   },
   "outputs": [],
   "source": [
    "%load_ext autoreload\n",
    "%autoreload 2\n",
    "%matplotlib inline\n",
    "\n",
    "    \n",
    "import os, json, sys, time, random\n",
    "import numpy as np\n",
    "import torch\n",
    "from torch.optim import Adam\n",
    "from  easydict import EasyDict\n",
    "import matplotlib.pyplot as plt\n",
    "\n",
    "from steves_models.steves_ptn import Steves_Prototypical_Network\n",
    "\n",
    "from steves_utils.lazy_iterable_wrapper import Lazy_Iterable_Wrapper\n",
    "from steves_utils.iterable_aggregator import Iterable_Aggregator\n",
    "from steves_utils.ptn_train_eval_test_jig import  PTN_Train_Eval_Test_Jig\n",
    "from steves_utils.torch_sequential_builder import build_sequential\n",
    "from steves_utils.torch_utils import get_dataset_metrics, ptn_confusion_by_domain_over_dataloader\n",
    "from steves_utils.utils_v2 import (per_domain_accuracy_from_confusion, get_datasets_base_path)\n",
    "from steves_utils.PTN.utils import independent_accuracy_assesment\n",
    "\n",
    "from torch.utils.data import DataLoader\n",
    "\n",
    "from steves_utils.stratified_dataset.episodic_accessor import Episodic_Accessor_Factory\n",
    "\n",
    "from steves_utils.ptn_do_report import (\n",
    "    get_loss_curve,\n",
    "    get_results_table,\n",
    "    get_parameters_table,\n",
    "    get_domain_accuracies,\n",
    ")\n",
    "\n",
    "from steves_utils.transforms import get_chained_transform"
   ]
  },
  {
   "cell_type": "markdown",
   "id": "41c840b4",
   "metadata": {
    "papermill": {
     "duration": 0.018428,
     "end_time": "2022-03-21T09:49:10.149213",
     "exception": false,
     "start_time": "2022-03-21T09:49:10.130785",
     "status": "completed"
    },
    "tags": []
   },
   "source": [
    "# Allowed Parameters\n",
    "These are allowed parameters, not defaults\n",
    "Each of these values need to be present in the injected parameters (the notebook will raise an exception if they are not present)\n",
    "\n",
    "Papermill uses the cell tag \"parameters\" to inject the real parameters below this cell.\n",
    "Enable tags to see what I mean"
   ]
  },
  {
   "cell_type": "code",
   "execution_count": 2,
   "id": "fd44eb83",
   "metadata": {
    "execution": {
     "iopub.execute_input": "2022-03-21T09:49:10.191720Z",
     "iopub.status.busy": "2022-03-21T09:49:10.191261Z",
     "iopub.status.idle": "2022-03-21T09:49:10.217814Z",
     "shell.execute_reply": "2022-03-21T09:49:10.218471Z"
    },
    "papermill": {
     "duration": 0.051042,
     "end_time": "2022-03-21T09:49:10.218659",
     "exception": false,
     "start_time": "2022-03-21T09:49:10.167617",
     "status": "completed"
    },
    "tags": []
   },
   "outputs": [],
   "source": [
    "required_parameters = {\n",
    "    \"experiment_name\",\n",
    "    \"lr\",\n",
    "    \"device\",\n",
    "    \"seed\",\n",
    "    \"dataset_seed\",\n",
    "    \"n_shot\",\n",
    "    \"n_query\",\n",
    "    \"n_way\",\n",
    "    \"train_k_factor\",\n",
    "    \"val_k_factor\",\n",
    "    \"test_k_factor\",\n",
    "    \"n_epoch\",\n",
    "    \"patience\",\n",
    "    \"criteria_for_best\",\n",
    "    \"x_net\",\n",
    "    \"datasets\",\n",
    "    \"torch_default_dtype\",\n",
    "    \"NUM_LOGS_PER_EPOCH\",\n",
    "    \"BEST_MODEL_PATH\",\n",
    "    \"x_shape\",\n",
    "}"
   ]
  },
  {
   "cell_type": "code",
   "execution_count": 3,
   "id": "fa3f0049",
   "metadata": {
    "execution": {
     "iopub.execute_input": "2022-03-21T09:49:10.277334Z",
     "iopub.status.busy": "2022-03-21T09:49:10.276452Z",
     "iopub.status.idle": "2022-03-21T09:49:10.301232Z",
     "shell.execute_reply": "2022-03-21T09:49:10.301888Z"
    },
    "papermill": {
     "duration": 0.059193,
     "end_time": "2022-03-21T09:49:10.302061",
     "exception": false,
     "start_time": "2022-03-21T09:49:10.242868",
     "status": "completed"
    },
    "tags": [
     "parameters"
    ]
   },
   "outputs": [],
   "source": [
    "from steves_utils.CORES.utils import (\n",
    "    ALL_NODES,\n",
    "    ALL_NODES_MINIMUM_1000_EXAMPLES,\n",
    "    ALL_DAYS\n",
    ")\n",
    "\n",
    "from steves_utils.ORACLE.utils_v2 import (\n",
    "    ALL_DISTANCES_FEET_NARROWED,\n",
    "    ALL_RUNS,\n",
    "    ALL_SERIAL_NUMBERS,\n",
    ")\n",
    "\n",
    "standalone_parameters = {}\n",
    "standalone_parameters[\"experiment_name\"] = \"STANDALONE PTN\"\n",
    "standalone_parameters[\"lr\"] = 0.001\n",
    "standalone_parameters[\"device\"] = \"cuda\"\n",
    "\n",
    "standalone_parameters[\"seed\"] = 1337\n",
    "standalone_parameters[\"dataset_seed\"] = 1337\n",
    "\n",
    "standalone_parameters[\"n_way\"] = 8\n",
    "standalone_parameters[\"n_shot\"] = 3\n",
    "standalone_parameters[\"n_query\"]  = 2\n",
    "standalone_parameters[\"train_k_factor\"] = 1\n",
    "standalone_parameters[\"val_k_factor\"] = 2\n",
    "standalone_parameters[\"test_k_factor\"] = 2\n",
    "\n",
    "\n",
    "standalone_parameters[\"n_epoch\"] = 50\n",
    "\n",
    "standalone_parameters[\"patience\"] = 10\n",
    "standalone_parameters[\"criteria_for_best\"] = \"source_loss\"\n",
    "\n",
    "standalone_parameters[\"datasets\"] = [\n",
    "    {\n",
    "        \"labels\": ALL_SERIAL_NUMBERS,\n",
    "        \"domains\": ALL_DISTANCES_FEET_NARROWED,\n",
    "        \"num_examples_per_domain_per_label\": 100,\n",
    "        \"pickle_path\": os.path.join(get_datasets_base_path(), \"oracle.Run1_framed_2000Examples_stratified_ds.2022A.pkl\"),\n",
    "        \"source_or_target_dataset\": \"source\",\n",
    "        \"x_transforms\": [\"unit_mag\", \"minus_two\"],\n",
    "        \"episode_transforms\": [],\n",
    "        \"domain_prefix\": \"ORACLE_\"\n",
    "    },\n",
    "    {\n",
    "        \"labels\": ALL_NODES,\n",
    "        \"domains\": ALL_DAYS,\n",
    "        \"num_examples_per_domain_per_label\": 100,\n",
    "        \"pickle_path\": os.path.join(get_datasets_base_path(), \"cores.stratified_ds.2022A.pkl\"),\n",
    "        \"source_or_target_dataset\": \"target\",\n",
    "        \"x_transforms\": [\"unit_power\", \"times_zero\"],\n",
    "        \"episode_transforms\": [],\n",
    "        \"domain_prefix\": \"CORES_\"\n",
    "    }   \n",
    "]\n",
    "\n",
    "standalone_parameters[\"torch_default_dtype\"] = \"torch.float32\" \n",
    "\n",
    "\n",
    "\n",
    "standalone_parameters[\"x_net\"] =     [\n",
    "    {\"class\": \"nnReshape\", \"kargs\": {\"shape\":[-1, 1, 2, 256]}},\n",
    "    {\"class\": \"Conv2d\", \"kargs\": { \"in_channels\":1, \"out_channels\":256, \"kernel_size\":(1,7), \"bias\":False, \"padding\":(0,3), },},\n",
    "    {\"class\": \"ReLU\", \"kargs\": {\"inplace\": True}},\n",
    "    {\"class\": \"BatchNorm2d\", \"kargs\": {\"num_features\":256}},\n",
    "\n",
    "    {\"class\": \"Conv2d\", \"kargs\": { \"in_channels\":256, \"out_channels\":80, \"kernel_size\":(2,7), \"bias\":True, \"padding\":(0,3), },},\n",
    "    {\"class\": \"ReLU\", \"kargs\": {\"inplace\": True}},\n",
    "    {\"class\": \"BatchNorm2d\", \"kargs\": {\"num_features\":80}},\n",
    "    {\"class\": \"Flatten\", \"kargs\": {}},\n",
    "\n",
    "    {\"class\": \"Linear\", \"kargs\": {\"in_features\": 80*256, \"out_features\": 256}}, # 80 units per IQ pair\n",
    "    {\"class\": \"ReLU\", \"kargs\": {\"inplace\": True}},\n",
    "    {\"class\": \"BatchNorm1d\", \"kargs\": {\"num_features\":256}},\n",
    "\n",
    "    {\"class\": \"Linear\", \"kargs\": {\"in_features\": 256, \"out_features\": 256}},\n",
    "]\n",
    "\n",
    "# Parameters relevant to results\n",
    "# These parameters will basically never need to change\n",
    "standalone_parameters[\"NUM_LOGS_PER_EPOCH\"] = 10\n",
    "standalone_parameters[\"BEST_MODEL_PATH\"] = \"./best_model.pth\"\n",
    "\n",
    "\n",
    "\n",
    "\n"
   ]
  },
  {
   "cell_type": "code",
   "execution_count": 4,
   "id": "30dda9c9",
   "metadata": {
    "execution": {
     "iopub.execute_input": "2022-03-21T09:49:10.360797Z",
     "iopub.status.busy": "2022-03-21T09:49:10.350119Z",
     "iopub.status.idle": "2022-03-21T09:49:10.385678Z",
     "shell.execute_reply": "2022-03-21T09:49:10.385238Z"
    },
    "papermill": {
     "duration": 0.057057,
     "end_time": "2022-03-21T09:49:10.385749",
     "exception": false,
     "start_time": "2022-03-21T09:49:10.328692",
     "status": "completed"
    },
    "tags": [
     "injected-parameters"
    ]
   },
   "outputs": [],
   "source": [
    "# Parameters\n",
    "parameters = {\n",
    "    \"experiment_name\": \"tl_1v2:oracle.run1.framed-oracle.run2.framed\",\n",
    "    \"device\": \"cuda\",\n",
    "    \"lr\": 0.0001,\n",
    "    \"n_shot\": 3,\n",
    "    \"n_query\": 2,\n",
    "    \"train_k_factor\": 3,\n",
    "    \"val_k_factor\": 2,\n",
    "    \"test_k_factor\": 2,\n",
    "    \"torch_default_dtype\": \"torch.float32\",\n",
    "    \"n_epoch\": 50,\n",
    "    \"patience\": 3,\n",
    "    \"criteria_for_best\": \"target_accuracy\",\n",
    "    \"x_net\": [\n",
    "        {\"class\": \"nnReshape\", \"kargs\": {\"shape\": [-1, 1, 2, 256]}},\n",
    "        {\n",
    "            \"class\": \"Conv2d\",\n",
    "            \"kargs\": {\n",
    "                \"in_channels\": 1,\n",
    "                \"out_channels\": 256,\n",
    "                \"kernel_size\": [1, 7],\n",
    "                \"bias\": False,\n",
    "                \"padding\": [0, 3],\n",
    "            },\n",
    "        },\n",
    "        {\"class\": \"ReLU\", \"kargs\": {\"inplace\": True}},\n",
    "        {\"class\": \"BatchNorm2d\", \"kargs\": {\"num_features\": 256}},\n",
    "        {\n",
    "            \"class\": \"Conv2d\",\n",
    "            \"kargs\": {\n",
    "                \"in_channels\": 256,\n",
    "                \"out_channels\": 80,\n",
    "                \"kernel_size\": [2, 7],\n",
    "                \"bias\": True,\n",
    "                \"padding\": [0, 3],\n",
    "            },\n",
    "        },\n",
    "        {\"class\": \"ReLU\", \"kargs\": {\"inplace\": True}},\n",
    "        {\"class\": \"BatchNorm2d\", \"kargs\": {\"num_features\": 80}},\n",
    "        {\"class\": \"Flatten\", \"kargs\": {}},\n",
    "        {\"class\": \"Linear\", \"kargs\": {\"in_features\": 20480, \"out_features\": 256}},\n",
    "        {\"class\": \"ReLU\", \"kargs\": {\"inplace\": True}},\n",
    "        {\"class\": \"BatchNorm1d\", \"kargs\": {\"num_features\": 256}},\n",
    "        {\"class\": \"Linear\", \"kargs\": {\"in_features\": 256, \"out_features\": 256}},\n",
    "    ],\n",
    "    \"NUM_LOGS_PER_EPOCH\": 10,\n",
    "    \"BEST_MODEL_PATH\": \"./best_model.pth\",\n",
    "    \"n_way\": 16,\n",
    "    \"datasets\": [\n",
    "        {\n",
    "            \"labels\": [\n",
    "                \"3123D52\",\n",
    "                \"3123D65\",\n",
    "                \"3123D79\",\n",
    "                \"3123D80\",\n",
    "                \"3123D54\",\n",
    "                \"3123D70\",\n",
    "                \"3123D7B\",\n",
    "                \"3123D89\",\n",
    "                \"3123D58\",\n",
    "                \"3123D76\",\n",
    "                \"3123D7D\",\n",
    "                \"3123EFE\",\n",
    "                \"3123D64\",\n",
    "                \"3123D78\",\n",
    "                \"3123D7E\",\n",
    "                \"3124E4A\",\n",
    "            ],\n",
    "            \"domains\": [32, 38, 8, 44, 14, 50, 20, 26],\n",
    "            \"num_examples_per_domain_per_label\": 2000,\n",
    "            \"pickle_path\": \"/root/csc500-main/datasets/oracle.Run1_framed_2000Examples_stratified_ds.2022A.pkl\",\n",
    "            \"source_or_target_dataset\": \"source\",\n",
    "            \"x_transforms\": [\"unit_power\"],\n",
    "            \"episode_transforms\": [],\n",
    "            \"domain_prefix\": \"ORACLE.run1_\",\n",
    "        },\n",
    "        {\n",
    "            \"labels\": [\n",
    "                \"3123D52\",\n",
    "                \"3123D65\",\n",
    "                \"3123D79\",\n",
    "                \"3123D80\",\n",
    "                \"3123D54\",\n",
    "                \"3123D70\",\n",
    "                \"3123D7B\",\n",
    "                \"3123D89\",\n",
    "                \"3123D58\",\n",
    "                \"3123D76\",\n",
    "                \"3123D7D\",\n",
    "                \"3123EFE\",\n",
    "                \"3123D64\",\n",
    "                \"3123D78\",\n",
    "                \"3123D7E\",\n",
    "                \"3124E4A\",\n",
    "            ],\n",
    "            \"domains\": [32, 38, 8, 44, 14, 50, 20, 26],\n",
    "            \"num_examples_per_domain_per_label\": 2000,\n",
    "            \"pickle_path\": \"/root/csc500-main/datasets/oracle.Run2_framed_2000Examples_stratified_ds.2022A.pkl\",\n",
    "            \"source_or_target_dataset\": \"target\",\n",
    "            \"x_transforms\": [\"unit_power\"],\n",
    "            \"episode_transforms\": [],\n",
    "            \"domain_prefix\": \"ORACLE.run2_\",\n",
    "        },\n",
    "    ],\n",
    "    \"dataset_seed\": 420,\n",
    "    \"seed\": 420,\n",
    "}\n"
   ]
  },
  {
   "cell_type": "code",
   "execution_count": 5,
   "id": "8fa1cc33",
   "metadata": {
    "execution": {
     "iopub.execute_input": "2022-03-21T09:49:10.434034Z",
     "iopub.status.busy": "2022-03-21T09:49:10.433661Z",
     "iopub.status.idle": "2022-03-21T09:49:10.457572Z",
     "shell.execute_reply": "2022-03-21T09:49:10.456882Z"
    },
    "papermill": {
     "duration": 0.047683,
     "end_time": "2022-03-21T09:49:10.457723",
     "exception": false,
     "start_time": "2022-03-21T09:49:10.410040",
     "status": "completed"
    },
    "tags": []
   },
   "outputs": [],
   "source": [
    "# Set this to True if you want to run this template directly\n",
    "STANDALONE = False\n",
    "if STANDALONE:\n",
    "    print(\"parameters not injected, running with standalone_parameters\")\n",
    "    parameters = standalone_parameters\n",
    "\n",
    "if not 'parameters' in locals() and not 'parameters' in globals():\n",
    "    raise Exception(\"Parameter injection failed\")\n",
    "\n",
    "#Use an easy dict for all the parameters\n",
    "p = EasyDict(parameters)\n",
    "\n",
    "if \"x_shape\" not in p:\n",
    "    p.x_shape = [2,256] # Default to this if we dont supply x_shape\n",
    "\n",
    "\n",
    "supplied_keys = set(p.keys())\n",
    "\n",
    "if  supplied_keys != required_parameters:\n",
    "    print(\"Parameters are incorrect\")\n",
    "    if len(supplied_keys - required_parameters)>0: print(\"Shouldn't have:\", str(supplied_keys - required_parameters))\n",
    "    if len(required_parameters - supplied_keys)>0: print(\"Need to have:\", str(required_parameters - supplied_keys))\n",
    "    raise RuntimeError(\"Parameters are incorrect\")"
   ]
  },
  {
   "cell_type": "code",
   "execution_count": 6,
   "id": "3a028d58",
   "metadata": {
    "execution": {
     "iopub.execute_input": "2022-03-21T09:49:10.510288Z",
     "iopub.status.busy": "2022-03-21T09:49:10.509735Z",
     "iopub.status.idle": "2022-03-21T09:49:10.536400Z",
     "shell.execute_reply": "2022-03-21T09:49:10.535699Z"
    },
    "papermill": {
     "duration": 0.050776,
     "end_time": "2022-03-21T09:49:10.536578",
     "exception": false,
     "start_time": "2022-03-21T09:49:10.485802",
     "status": "completed"
    },
    "tags": []
   },
   "outputs": [],
   "source": [
    "###################################\n",
    "# Set the RNGs and make it all deterministic\n",
    "###################################\n",
    "np.random.seed(p.seed)\n",
    "random.seed(p.seed)\n",
    "torch.manual_seed(p.seed)\n",
    "\n",
    "torch.use_deterministic_algorithms(True) "
   ]
  },
  {
   "cell_type": "code",
   "execution_count": 7,
   "id": "b691acf6",
   "metadata": {
    "execution": {
     "iopub.execute_input": "2022-03-21T09:49:10.586704Z",
     "iopub.status.busy": "2022-03-21T09:49:10.586335Z",
     "iopub.status.idle": "2022-03-21T09:49:10.613788Z",
     "shell.execute_reply": "2022-03-21T09:49:10.613085Z"
    },
    "papermill": {
     "duration": 0.050978,
     "end_time": "2022-03-21T09:49:10.613942",
     "exception": false,
     "start_time": "2022-03-21T09:49:10.562964",
     "status": "completed"
    },
    "tags": []
   },
   "outputs": [],
   "source": [
    "###########################################\n",
    "# The stratified datasets honor this\n",
    "###########################################\n",
    "torch.set_default_dtype(eval(p.torch_default_dtype))"
   ]
  },
  {
   "cell_type": "code",
   "execution_count": 8,
   "id": "b5fba671",
   "metadata": {
    "execution": {
     "iopub.execute_input": "2022-03-21T09:49:10.661703Z",
     "iopub.status.busy": "2022-03-21T09:49:10.661339Z",
     "iopub.status.idle": "2022-03-21T09:49:10.718718Z",
     "shell.execute_reply": "2022-03-21T09:49:10.719396Z"
    },
    "papermill": {
     "duration": 0.080205,
     "end_time": "2022-03-21T09:49:10.719618",
     "exception": false,
     "start_time": "2022-03-21T09:49:10.639413",
     "status": "completed"
    },
    "tags": []
   },
   "outputs": [],
   "source": [
    "###################################\n",
    "# Build the network(s)\n",
    "# Note: It's critical to do this AFTER setting the RNG\n",
    "###################################\n",
    "x_net = build_sequential(p.x_net)"
   ]
  },
  {
   "cell_type": "code",
   "execution_count": 9,
   "id": "5d7e61cc",
   "metadata": {
    "execution": {
     "iopub.execute_input": "2022-03-21T09:49:10.770600Z",
     "iopub.status.busy": "2022-03-21T09:49:10.770241Z",
     "iopub.status.idle": "2022-03-21T09:49:10.794721Z",
     "shell.execute_reply": "2022-03-21T09:49:10.795398Z"
    },
    "papermill": {
     "duration": 0.048869,
     "end_time": "2022-03-21T09:49:10.795615",
     "exception": false,
     "start_time": "2022-03-21T09:49:10.746746",
     "status": "completed"
    },
    "tags": []
   },
   "outputs": [],
   "source": [
    "start_time_secs = time.time()"
   ]
  },
  {
   "cell_type": "code",
   "execution_count": 10,
   "id": "c6b67dfd",
   "metadata": {
    "execution": {
     "iopub.execute_input": "2022-03-21T09:49:10.847519Z",
     "iopub.status.busy": "2022-03-21T09:49:10.847154Z",
     "iopub.status.idle": "2022-03-21T09:49:10.871194Z",
     "shell.execute_reply": "2022-03-21T09:49:10.870474Z"
    },
    "papermill": {
     "duration": 0.0485,
     "end_time": "2022-03-21T09:49:10.871351",
     "exception": false,
     "start_time": "2022-03-21T09:49:10.822851",
     "status": "completed"
    },
    "tags": []
   },
   "outputs": [],
   "source": [
    "p.domains_source = []\n",
    "p.domains_target = []\n",
    "\n",
    "\n",
    "train_original_source = []\n",
    "val_original_source   = []\n",
    "test_original_source  = []\n",
    "\n",
    "train_original_target = []\n",
    "val_original_target   = []\n",
    "test_original_target  = []"
   ]
  },
  {
   "cell_type": "code",
   "execution_count": 11,
   "id": "e3d9c3d3",
   "metadata": {
    "execution": {
     "iopub.execute_input": "2022-03-21T09:49:10.922303Z",
     "iopub.status.busy": "2022-03-21T09:49:10.921937Z",
     "iopub.status.idle": "2022-03-21T09:49:10.945622Z",
     "shell.execute_reply": "2022-03-21T09:49:10.944888Z"
    },
    "papermill": {
     "duration": 0.046685,
     "end_time": "2022-03-21T09:49:10.945780",
     "exception": false,
     "start_time": "2022-03-21T09:49:10.899095",
     "status": "completed"
    },
    "tags": []
   },
   "outputs": [],
   "source": [
    "# global_x_transform_func = lambda x: normalize(x.to(torch.get_default_dtype()), \"unit_power\") # unit_power, unit_mag\n",
    "# global_x_transform_func = lambda x: normalize(x, \"unit_power\") # unit_power, unit_mag"
   ]
  },
  {
   "cell_type": "code",
   "execution_count": 12,
   "id": "acb78fd2",
   "metadata": {
    "execution": {
     "iopub.execute_input": "2022-03-21T09:49:11.002997Z",
     "iopub.status.busy": "2022-03-21T09:49:11.002138Z",
     "iopub.status.idle": "2022-03-21T09:49:11.024302Z",
     "shell.execute_reply": "2022-03-21T09:49:11.023570Z"
    },
    "papermill": {
     "duration": 0.052474,
     "end_time": "2022-03-21T09:49:11.024479",
     "exception": false,
     "start_time": "2022-03-21T09:49:10.972005",
     "status": "completed"
    },
    "tags": []
   },
   "outputs": [],
   "source": [
    "def add_dataset(\n",
    "    labels,\n",
    "    domains,\n",
    "    pickle_path,\n",
    "    x_transforms,\n",
    "    episode_transforms,\n",
    "    domain_prefix,\n",
    "    num_examples_per_domain_per_label,\n",
    "    source_or_target_dataset:str,\n",
    "    iterator_seed=p.seed,\n",
    "    dataset_seed=p.dataset_seed,\n",
    "    n_shot=p.n_shot,\n",
    "    n_way=p.n_way,\n",
    "    n_query=p.n_query,\n",
    "    train_val_test_k_factors=(p.train_k_factor,p.val_k_factor,p.test_k_factor),\n",
    "):\n",
    "   \n",
    "    if x_transforms == []: x_transform = None\n",
    "    else: x_transform = get_chained_transform(x_transforms)\n",
    "    \n",
    "    if episode_transforms == []: episode_transform = None\n",
    "    else: raise Exception(\"episode_transforms not implemented\")\n",
    "    \n",
    "    episode_transform = lambda tup, _prefix=domain_prefix: (_prefix + str(tup[0]), tup[1])\n",
    "\n",
    "\n",
    "    eaf = Episodic_Accessor_Factory(\n",
    "        labels=labels,\n",
    "        domains=domains,\n",
    "        num_examples_per_domain_per_label=num_examples_per_domain_per_label,\n",
    "        iterator_seed=iterator_seed,\n",
    "        dataset_seed=dataset_seed,\n",
    "        n_shot=n_shot,\n",
    "        n_way=n_way,\n",
    "        n_query=n_query,\n",
    "        train_val_test_k_factors=train_val_test_k_factors,\n",
    "        pickle_path=pickle_path,\n",
    "        x_transform_func=x_transform,\n",
    "    )\n",
    "\n",
    "    train, val, test = eaf.get_train(), eaf.get_val(), eaf.get_test()\n",
    "    train = Lazy_Iterable_Wrapper(train, episode_transform)\n",
    "    val = Lazy_Iterable_Wrapper(val, episode_transform)\n",
    "    test = Lazy_Iterable_Wrapper(test, episode_transform)\n",
    "\n",
    "    if source_or_target_dataset==\"source\":\n",
    "        train_original_source.append(train)\n",
    "        val_original_source.append(val)\n",
    "        test_original_source.append(test)\n",
    "\n",
    "        p.domains_source.extend(\n",
    "            [domain_prefix + str(u) for u in domains]\n",
    "        )\n",
    "    elif source_or_target_dataset==\"target\":\n",
    "        train_original_target.append(train)\n",
    "        val_original_target.append(val)\n",
    "        test_original_target.append(test)\n",
    "        p.domains_target.extend(\n",
    "            [domain_prefix + str(u) for u in domains]\n",
    "        )\n",
    "    else:\n",
    "        raise Exception(f\"invalid source_or_target_dataset: {source_or_target_dataset}\")\n",
    "    "
   ]
  },
  {
   "cell_type": "code",
   "execution_count": 13,
   "id": "fe266617",
   "metadata": {
    "execution": {
     "iopub.execute_input": "2022-03-21T09:49:11.078336Z",
     "iopub.status.busy": "2022-03-21T09:49:11.077778Z",
     "iopub.status.idle": "2022-03-21T09:49:54.473000Z",
     "shell.execute_reply": "2022-03-21T09:49:54.473676Z"
    },
    "papermill": {
     "duration": 43.420331,
     "end_time": "2022-03-21T09:49:54.473920",
     "exception": false,
     "start_time": "2022-03-21T09:49:11.053589",
     "status": "completed"
    },
    "tags": []
   },
   "outputs": [],
   "source": [
    "for ds in p.datasets:\n",
    "    add_dataset(**ds)"
   ]
  },
  {
   "cell_type": "code",
   "execution_count": 14,
   "id": "b90d65ac",
   "metadata": {
    "execution": {
     "iopub.execute_input": "2022-03-21T09:49:54.524714Z",
     "iopub.status.busy": "2022-03-21T09:49:54.524207Z",
     "iopub.status.idle": "2022-03-21T09:49:54.552887Z",
     "shell.execute_reply": "2022-03-21T09:49:54.553568Z"
    },
    "papermill": {
     "duration": 0.052888,
     "end_time": "2022-03-21T09:49:54.553757",
     "exception": false,
     "start_time": "2022-03-21T09:49:54.500869",
     "status": "completed"
    },
    "tags": []
   },
   "outputs": [],
   "source": [
    "# from steves_utils.CORES.utils import (\n",
    "#     ALL_NODES,\n",
    "#     ALL_NODES_MINIMUM_1000_EXAMPLES,\n",
    "#     ALL_DAYS\n",
    "# )\n",
    "\n",
    "# add_dataset(\n",
    "#     labels=ALL_NODES,\n",
    "#     domains = ALL_DAYS,\n",
    "#     num_examples_per_domain_per_label=100,\n",
    "#     pickle_path=os.path.join(get_datasets_base_path(), \"cores.stratified_ds.2022A.pkl\"),\n",
    "#     source_or_target_dataset=\"target\",\n",
    "#     x_transform_func=global_x_transform_func,\n",
    "#     domain_modifier=lambda u: f\"cores_{u}\"\n",
    "# )"
   ]
  },
  {
   "cell_type": "code",
   "execution_count": 15,
   "id": "76db484d",
   "metadata": {
    "execution": {
     "iopub.execute_input": "2022-03-21T09:49:54.603236Z",
     "iopub.status.busy": "2022-03-21T09:49:54.602864Z",
     "iopub.status.idle": "2022-03-21T09:49:54.623968Z",
     "shell.execute_reply": "2022-03-21T09:49:54.624631Z"
    },
    "papermill": {
     "duration": 0.044967,
     "end_time": "2022-03-21T09:49:54.624811",
     "exception": false,
     "start_time": "2022-03-21T09:49:54.579844",
     "status": "completed"
    },
    "tags": []
   },
   "outputs": [],
   "source": [
    "# from steves_utils.ORACLE.utils_v2 import (\n",
    "#     ALL_DISTANCES_FEET,\n",
    "#     ALL_RUNS,\n",
    "#     ALL_SERIAL_NUMBERS,\n",
    "# )\n",
    "\n",
    "\n",
    "# add_dataset(\n",
    "#     labels=ALL_SERIAL_NUMBERS,\n",
    "#     domains = list(set(ALL_DISTANCES_FEET) - {2,62}),\n",
    "#     num_examples_per_domain_per_label=100,\n",
    "#     pickle_path=os.path.join(get_datasets_base_path(), \"oracle.Run2_framed_2000Examples_stratified_ds.2022A.pkl\"),\n",
    "#     source_or_target_dataset=\"source\",\n",
    "#     x_transform_func=global_x_transform_func,\n",
    "#     domain_modifier=lambda u: f\"oracle1_{u}\"\n",
    "# )\n"
   ]
  },
  {
   "cell_type": "code",
   "execution_count": 16,
   "id": "97dea9d2",
   "metadata": {
    "execution": {
     "iopub.execute_input": "2022-03-21T09:49:54.675394Z",
     "iopub.status.busy": "2022-03-21T09:49:54.675025Z",
     "iopub.status.idle": "2022-03-21T09:49:54.696110Z",
     "shell.execute_reply": "2022-03-21T09:49:54.696778Z"
    },
    "papermill": {
     "duration": 0.0451,
     "end_time": "2022-03-21T09:49:54.696963",
     "exception": false,
     "start_time": "2022-03-21T09:49:54.651863",
     "status": "completed"
    },
    "tags": []
   },
   "outputs": [],
   "source": [
    "# from steves_utils.ORACLE.utils_v2 import (\n",
    "#     ALL_DISTANCES_FEET,\n",
    "#     ALL_RUNS,\n",
    "#     ALL_SERIAL_NUMBERS,\n",
    "# )\n",
    "\n",
    "\n",
    "# add_dataset(\n",
    "#     labels=ALL_SERIAL_NUMBERS,\n",
    "#     domains = list(set(ALL_DISTANCES_FEET) - {2,62,56}),\n",
    "#     num_examples_per_domain_per_label=100,\n",
    "#     pickle_path=os.path.join(get_datasets_base_path(), \"oracle.Run2_framed_2000Examples_stratified_ds.2022A.pkl\"),\n",
    "#     source_or_target_dataset=\"source\",\n",
    "#     x_transform_func=global_x_transform_func,\n",
    "#     domain_modifier=lambda u: f\"oracle2_{u}\"\n",
    "# )"
   ]
  },
  {
   "cell_type": "code",
   "execution_count": 17,
   "id": "6f289866",
   "metadata": {
    "execution": {
     "iopub.execute_input": "2022-03-21T09:49:54.748853Z",
     "iopub.status.busy": "2022-03-21T09:49:54.748487Z",
     "iopub.status.idle": "2022-03-21T09:49:54.764835Z",
     "shell.execute_reply": "2022-03-21T09:49:54.764126Z"
    },
    "papermill": {
     "duration": 0.038904,
     "end_time": "2022-03-21T09:49:54.764990",
     "exception": false,
     "start_time": "2022-03-21T09:49:54.726086",
     "status": "completed"
    },
    "tags": []
   },
   "outputs": [],
   "source": [
    "# add_dataset(\n",
    "#     labels=list(range(19)),\n",
    "#     domains = [0,1,2],\n",
    "#     num_examples_per_domain_per_label=100,\n",
    "#     pickle_path=os.path.join(get_datasets_base_path(), \"metehan.stratified_ds.2022A.pkl\"),\n",
    "#     source_or_target_dataset=\"target\",\n",
    "#     x_transform_func=global_x_transform_func,\n",
    "#     domain_modifier=lambda u: f\"met_{u}\"\n",
    "# )"
   ]
  },
  {
   "cell_type": "code",
   "execution_count": 18,
   "id": "86a863c3",
   "metadata": {
    "execution": {
     "iopub.execute_input": "2022-03-21T09:49:54.817613Z",
     "iopub.status.busy": "2022-03-21T09:49:54.817054Z",
     "iopub.status.idle": "2022-03-21T09:49:54.842560Z",
     "shell.execute_reply": "2022-03-21T09:49:54.843244Z"
    },
    "papermill": {
     "duration": 0.051482,
     "end_time": "2022-03-21T09:49:54.843453",
     "exception": false,
     "start_time": "2022-03-21T09:49:54.791971",
     "status": "completed"
    },
    "tags": []
   },
   "outputs": [],
   "source": [
    "# # from steves_utils.wisig.utils import (\n",
    "# #     ALL_NODES_MINIMUM_100_EXAMPLES,\n",
    "# #     ALL_NODES_MINIMUM_500_EXAMPLES,\n",
    "# #     ALL_NODES_MINIMUM_1000_EXAMPLES,\n",
    "# #     ALL_DAYS\n",
    "# # )\n",
    "\n",
    "# import steves_utils.wisig.utils as wisig\n",
    "\n",
    "\n",
    "# add_dataset(\n",
    "#     labels=wisig.ALL_NODES_MINIMUM_100_EXAMPLES,\n",
    "#     domains = wisig.ALL_DAYS,\n",
    "#     num_examples_per_domain_per_label=100,\n",
    "#     pickle_path=os.path.join(get_datasets_base_path(), \"wisig.node3-19.stratified_ds.2022A.pkl\"),\n",
    "#     source_or_target_dataset=\"target\",\n",
    "#     x_transform_func=global_x_transform_func,\n",
    "#     domain_modifier=lambda u: f\"wisig_{u}\"\n",
    "# )"
   ]
  },
  {
   "cell_type": "code",
   "execution_count": 19,
   "id": "fd5442bc",
   "metadata": {
    "execution": {
     "iopub.execute_input": "2022-03-21T09:49:54.902943Z",
     "iopub.status.busy": "2022-03-21T09:49:54.902367Z",
     "iopub.status.idle": "2022-03-21T09:49:54.925417Z",
     "shell.execute_reply": "2022-03-21T09:49:54.926090Z"
    },
    "papermill": {
     "duration": 0.054487,
     "end_time": "2022-03-21T09:49:54.926295",
     "exception": false,
     "start_time": "2022-03-21T09:49:54.871808",
     "status": "completed"
    },
    "tags": []
   },
   "outputs": [],
   "source": [
    "###################################\n",
    "# Build the dataset\n",
    "###################################\n",
    "train_original_source = Iterable_Aggregator(train_original_source, p.seed)\n",
    "val_original_source = Iterable_Aggregator(val_original_source, p.seed)\n",
    "test_original_source = Iterable_Aggregator(test_original_source, p.seed)\n",
    "\n",
    "\n",
    "train_original_target = Iterable_Aggregator(train_original_target, p.seed)\n",
    "val_original_target = Iterable_Aggregator(val_original_target, p.seed)\n",
    "test_original_target = Iterable_Aggregator(test_original_target, p.seed)\n",
    "\n",
    "# For CNN We only use X and Y. And we only train on the source.\n",
    "# Properly form the data using a transform lambda and Lazy_Iterable_Wrapper. Finally wrap them in a dataloader\n",
    "\n",
    "transform_lambda = lambda ex: ex[1] # Original is (<domain>, <episode>) so we strip down to episode only\n",
    "\n",
    "train_processed_source = Lazy_Iterable_Wrapper(train_original_source, transform_lambda)\n",
    "val_processed_source   = Lazy_Iterable_Wrapper(val_original_source, transform_lambda)\n",
    "test_processed_source  = Lazy_Iterable_Wrapper(test_original_source, transform_lambda)\n",
    "\n",
    "train_processed_target = Lazy_Iterable_Wrapper(train_original_target, transform_lambda)\n",
    "val_processed_target   = Lazy_Iterable_Wrapper(val_original_target, transform_lambda)\n",
    "test_processed_target  = Lazy_Iterable_Wrapper(test_original_target, transform_lambda)\n",
    "\n",
    "datasets = EasyDict({\n",
    "    \"source\": {\n",
    "        \"original\": {\"train\":train_original_source, \"val\":val_original_source, \"test\":test_original_source},\n",
    "        \"processed\": {\"train\":train_processed_source, \"val\":val_processed_source, \"test\":test_processed_source}\n",
    "    },\n",
    "    \"target\": {\n",
    "        \"original\": {\"train\":train_original_target, \"val\":val_original_target, \"test\":test_original_target},\n",
    "        \"processed\": {\"train\":train_processed_target, \"val\":val_processed_target, \"test\":test_processed_target}\n",
    "    },\n",
    "})"
   ]
  },
  {
   "cell_type": "code",
   "execution_count": 20,
   "id": "5b3c01fc",
   "metadata": {
    "execution": {
     "iopub.execute_input": "2022-03-21T09:49:54.980074Z",
     "iopub.status.busy": "2022-03-21T09:49:54.979708Z",
     "iopub.status.idle": "2022-03-21T09:50:11.212512Z",
     "shell.execute_reply": "2022-03-21T09:50:11.211670Z"
    },
    "papermill": {
     "duration": 16.258006,
     "end_time": "2022-03-21T09:50:11.212689",
     "exception": false,
     "start_time": "2022-03-21T09:49:54.954683",
     "status": "completed"
    },
    "tags": []
   },
   "outputs": [
    {
     "name": "stdout",
     "output_type": "stream",
     "text": [
      "{'ORACLE.run1_26', 'ORACLE.run1_8', 'ORACLE.run1_44', 'ORACLE.run1_50', 'ORACLE.run1_20', 'ORACLE.run1_38', 'ORACLE.run1_32', 'ORACLE.run1_14'}\n"
     ]
    },
    {
     "name": "stdout",
     "output_type": "stream",
     "text": [
      "{'ORACLE.run2_14', 'ORACLE.run2_38', 'ORACLE.run2_44', 'ORACLE.run2_32', 'ORACLE.run2_50', 'ORACLE.run2_20', 'ORACLE.run2_8', 'ORACLE.run2_26'}\n"
     ]
    },
    {
     "name": "stdout",
     "output_type": "stream",
     "text": [
      "tensor([[[ 0.6495,  0.3202, -0.9787,  ..., -0.2744,  1.3812,  0.4757],\n",
      "         [ 0.1555,  1.2166, -0.3110,  ..., -1.0611, -0.1738, -0.7043]],\n",
      "\n",
      "        [[-0.6653,  0.5267,  0.5452,  ..., -0.5452, -1.2104, -0.7669],\n",
      "         [-0.4990, -1.0349,  0.9517,  ...,  1.0441, -0.7854,  0.2864]],\n",
      "\n",
      "        [[-0.0370,  1.1380, -0.2313,  ..., -1.0917, -0.1573, -0.7402],\n",
      "         [-0.5829, -0.1665,  1.0177,  ..., -0.0185, -1.4618, -0.5551]],\n",
      "\n",
      "        ...,\n",
      "\n",
      "        [[ 0.7020,  0.1576, -0.9455,  ..., -0.2650,  1.3467,  0.3940],\n",
      "         [ 0.1648,  1.0745, -0.4083,  ..., -1.0960, -0.1433, -0.9384]],\n",
      "\n",
      "        [[ 0.9806,  0.3002, -1.2808,  ..., -0.1067,  1.0273, -0.7472],\n",
      "         [ 0.1001,  0.8339, -0.1201,  ..., -0.9473, -0.8139, -0.9473]],\n",
      "\n",
      "        [[ 0.8709,  0.5375, -0.9934,  ..., -0.7689, -0.2041, -1.3336],\n",
      "         [-0.7008,  0.5307,  0.9254,  ..., -0.8097, -1.1976,  0.2450]]])\n"
     ]
    }
   ],
   "source": [
    "from steves_utils.transforms import get_average_magnitude, get_average_power\n",
    "\n",
    "print(set([u for u,_ in val_original_source]))\n",
    "print(set([u for u,_ in val_original_target]))\n",
    "\n",
    "s_x, s_y, q_x, q_y, _ = next(iter(train_processed_source))\n",
    "print(s_x)\n",
    "\n",
    "# for ds in [\n",
    "#     train_processed_source,\n",
    "#     val_processed_source,\n",
    "#     test_processed_source,\n",
    "#     train_processed_target,\n",
    "#     val_processed_target,\n",
    "#     test_processed_target\n",
    "# ]:\n",
    "#     for s_x, s_y, q_x, q_y, _ in ds:\n",
    "#         for X in (s_x, q_x):\n",
    "#             for x in X:\n",
    "#                 assert np.isclose(get_average_magnitude(x.numpy()), 1.0)\n",
    "#                 assert np.isclose(get_average_power(x.numpy()), 1.0)\n",
    "                "
   ]
  },
  {
   "cell_type": "code",
   "execution_count": 21,
   "id": "bbdacba1",
   "metadata": {
    "execution": {
     "iopub.execute_input": "2022-03-21T09:50:11.267582Z",
     "iopub.status.busy": "2022-03-21T09:50:11.267202Z",
     "iopub.status.idle": "2022-03-21T09:50:11.477748Z",
     "shell.execute_reply": "2022-03-21T09:50:11.477048Z"
    },
    "papermill": {
     "duration": 0.238893,
     "end_time": "2022-03-21T09:50:11.477920",
     "exception": false,
     "start_time": "2022-03-21T09:50:11.239027",
     "status": "completed"
    },
    "tags": []
   },
   "outputs": [
    {
     "name": "stdout",
     "output_type": "stream",
     "text": [
      "(2, 256)\n"
     ]
    }
   ],
   "source": [
    "###################################\n",
    "# Build the model\n",
    "###################################\n",
    "# easfsl only wants a tuple for the shape\n",
    "model = Steves_Prototypical_Network(x_net, device=p.device, x_shape=tuple(p.x_shape))\n",
    "optimizer = Adam(params=model.parameters(), lr=p.lr)"
   ]
  },
  {
   "cell_type": "code",
   "execution_count": 22,
   "id": "22b39ac5",
   "metadata": {
    "execution": {
     "iopub.execute_input": "2022-03-21T09:50:11.532755Z",
     "iopub.status.busy": "2022-03-21T09:50:11.532095Z",
     "iopub.status.idle": "2022-03-21T10:50:04.286421Z",
     "shell.execute_reply": "2022-03-21T10:50:04.286078Z"
    },
    "papermill": {
     "duration": 3592.781054,
     "end_time": "2022-03-21T10:50:04.286509",
     "exception": false,
     "start_time": "2022-03-21T09:50:11.505455",
     "status": "completed"
    },
    "tags": []
   },
   "outputs": [
    {
     "name": "stdout",
     "output_type": "stream",
     "text": [
      "epoch: 1, [batch: 1 / 6720], examples_per_second: 32.2849, train_label_loss: 3.0184, \n"
     ]
    },
    {
     "name": "stdout",
     "output_type": "stream",
     "text": [
      "epoch: 1, [batch: 672 / 6720], examples_per_second: 2625.2860, train_label_loss: 0.9097, \n"
     ]
    },
    {
     "name": "stdout",
     "output_type": "stream",
     "text": [
      "epoch: 1, [batch: 1344 / 6720], examples_per_second: 2455.9626, train_label_loss: 0.6771, \n"
     ]
    },
    {
     "name": "stdout",
     "output_type": "stream",
     "text": [
      "epoch: 1, [batch: 2016 / 6720], examples_per_second: 2572.0208, train_label_loss: 0.8936, \n"
     ]
    },
    {
     "name": "stdout",
     "output_type": "stream",
     "text": [
      "epoch: 1, [batch: 2688 / 6720], examples_per_second: 2765.2503, train_label_loss: 0.5017, \n"
     ]
    },
    {
     "name": "stdout",
     "output_type": "stream",
     "text": [
      "epoch: 1, [batch: 3360 / 6720], examples_per_second: 2577.8931, train_label_loss: 0.8468, \n"
     ]
    },
    {
     "name": "stdout",
     "output_type": "stream",
     "text": [
      "epoch: 1, [batch: 4032 / 6720], examples_per_second: 2554.8925, train_label_loss: 0.4590, \n"
     ]
    },
    {
     "name": "stdout",
     "output_type": "stream",
     "text": [
      "epoch: 1, [batch: 4704 / 6720], examples_per_second: 2531.5157, train_label_loss: 0.4310, \n"
     ]
    },
    {
     "name": "stdout",
     "output_type": "stream",
     "text": [
      "epoch: 1, [batch: 5376 / 6720], examples_per_second: 2571.3470, train_label_loss: 0.7015, \n"
     ]
    },
    {
     "name": "stdout",
     "output_type": "stream",
     "text": [
      "epoch: 1, [batch: 6048 / 6720], examples_per_second: 2587.3995, train_label_loss: 0.3798, \n"
     ]
    },
    {
     "name": "stdout",
     "output_type": "stream",
     "text": [
      "=============================================================\n",
      "epoch: 1, source_val_acc_label: 0.7799, target_val_acc_label: 0.7603, source_val_label_loss: 7.1634, target_val_label_loss: 12.7713, \n",
      "=============================================================\n"
     ]
    },
    {
     "name": "stdout",
     "output_type": "stream",
     "text": [
      "New best\n"
     ]
    },
    {
     "name": "stdout",
     "output_type": "stream",
     "text": [
      "epoch: 2, [batch: 1 / 6720], examples_per_second: 2.6664, train_label_loss: 0.5487, \n"
     ]
    },
    {
     "name": "stdout",
     "output_type": "stream",
     "text": [
      "epoch: 2, [batch: 672 / 6720], examples_per_second: 2504.0719, train_label_loss: 0.6204, \n"
     ]
    },
    {
     "name": "stdout",
     "output_type": "stream",
     "text": [
      "epoch: 2, [batch: 1344 / 6720], examples_per_second: 2631.2707, train_label_loss: 0.5185, \n"
     ]
    },
    {
     "name": "stdout",
     "output_type": "stream",
     "text": [
      "epoch: 2, [batch: 2016 / 6720], examples_per_second: 2600.5264, train_label_loss: 0.2307, \n"
     ]
    },
    {
     "name": "stdout",
     "output_type": "stream",
     "text": [
      "epoch: 2, [batch: 2688 / 6720], examples_per_second: 2467.7641, train_label_loss: 0.5807, \n"
     ]
    },
    {
     "name": "stdout",
     "output_type": "stream",
     "text": [
      "epoch: 2, [batch: 3360 / 6720], examples_per_second: 2311.6838, train_label_loss: 0.4704, \n"
     ]
    },
    {
     "name": "stdout",
     "output_type": "stream",
     "text": [
      "epoch: 2, [batch: 4032 / 6720], examples_per_second: 2291.2524, train_label_loss: 0.3779, \n"
     ]
    },
    {
     "name": "stdout",
     "output_type": "stream",
     "text": [
      "epoch: 2, [batch: 4704 / 6720], examples_per_second: 2291.2567, train_label_loss: 0.5043, \n"
     ]
    },
    {
     "name": "stdout",
     "output_type": "stream",
     "text": [
      "epoch: 2, [batch: 5376 / 6720], examples_per_second: 2343.7198, train_label_loss: 0.6888, \n"
     ]
    },
    {
     "name": "stdout",
     "output_type": "stream",
     "text": [
      "epoch: 2, [batch: 6048 / 6720], examples_per_second: 2285.3426, train_label_loss: 0.1998, \n"
     ]
    },
    {
     "name": "stdout",
     "output_type": "stream",
     "text": [
      "=============================================================\n",
      "epoch: 2, source_val_acc_label: 0.8053, target_val_acc_label: 0.7900, source_val_label_loss: 0.5305, target_val_label_loss: 0.8642, \n",
      "=============================================================\n"
     ]
    },
    {
     "name": "stdout",
     "output_type": "stream",
     "text": [
      "New best\n"
     ]
    },
    {
     "name": "stdout",
     "output_type": "stream",
     "text": [
      "epoch: 3, [batch: 1 / 6720], examples_per_second: 2.1734, train_label_loss: 0.3085, \n"
     ]
    },
    {
     "name": "stdout",
     "output_type": "stream",
     "text": [
      "epoch: 3, [batch: 672 / 6720], examples_per_second: 2593.6518, train_label_loss: 0.5682, \n"
     ]
    },
    {
     "name": "stdout",
     "output_type": "stream",
     "text": [
      "epoch: 3, [batch: 1344 / 6720], examples_per_second: 2533.7821, train_label_loss: 0.9622, \n"
     ]
    },
    {
     "name": "stdout",
     "output_type": "stream",
     "text": [
      "epoch: 3, [batch: 2016 / 6720], examples_per_second: 2510.6840, train_label_loss: 0.2045, \n"
     ]
    },
    {
     "name": "stdout",
     "output_type": "stream",
     "text": [
      "epoch: 3, [batch: 2688 / 6720], examples_per_second: 2292.4762, train_label_loss: 0.5913, \n"
     ]
    },
    {
     "name": "stdout",
     "output_type": "stream",
     "text": [
      "epoch: 3, [batch: 3360 / 6720], examples_per_second: 2294.1610, train_label_loss: 0.6173, \n"
     ]
    },
    {
     "name": "stdout",
     "output_type": "stream",
     "text": [
      "epoch: 3, [batch: 4032 / 6720], examples_per_second: 2318.2330, train_label_loss: 0.4030, \n"
     ]
    },
    {
     "name": "stdout",
     "output_type": "stream",
     "text": [
      "epoch: 3, [batch: 4704 / 6720], examples_per_second: 2300.1545, train_label_loss: 0.2875, \n"
     ]
    },
    {
     "name": "stdout",
     "output_type": "stream",
     "text": [
      "epoch: 3, [batch: 5376 / 6720], examples_per_second: 2310.4487, train_label_loss: 0.5294, \n"
     ]
    },
    {
     "name": "stdout",
     "output_type": "stream",
     "text": [
      "epoch: 3, [batch: 6048 / 6720], examples_per_second: 2325.1315, train_label_loss: 0.2600, \n"
     ]
    },
    {
     "name": "stdout",
     "output_type": "stream",
     "text": [
      "=============================================================\n",
      "epoch: 3, source_val_acc_label: 0.8492, target_val_acc_label: 0.8317, source_val_label_loss: 0.4118, target_val_label_loss: 1.0312, \n",
      "=============================================================\n"
     ]
    },
    {
     "name": "stdout",
     "output_type": "stream",
     "text": [
      "New best\n"
     ]
    },
    {
     "name": "stdout",
     "output_type": "stream",
     "text": [
      "epoch: 4, [batch: 1 / 6720], examples_per_second: 2.2350, train_label_loss: 0.3357, \n"
     ]
    },
    {
     "name": "stdout",
     "output_type": "stream",
     "text": [
      "epoch: 4, [batch: 672 / 6720], examples_per_second: 2507.2040, train_label_loss: 0.3497, \n"
     ]
    },
    {
     "name": "stdout",
     "output_type": "stream",
     "text": [
      "epoch: 4, [batch: 1344 / 6720], examples_per_second: 2566.3223, train_label_loss: 0.1919, \n"
     ]
    },
    {
     "name": "stdout",
     "output_type": "stream",
     "text": [
      "epoch: 4, [batch: 2016 / 6720], examples_per_second: 2335.9229, train_label_loss: 0.1855, \n"
     ]
    },
    {
     "name": "stdout",
     "output_type": "stream",
     "text": [
      "epoch: 4, [batch: 2688 / 6720], examples_per_second: 2327.4385, train_label_loss: 0.4039, \n"
     ]
    },
    {
     "name": "stdout",
     "output_type": "stream",
     "text": [
      "epoch: 4, [batch: 3360 / 6720], examples_per_second: 2317.2309, train_label_loss: 0.9648, \n"
     ]
    },
    {
     "name": "stdout",
     "output_type": "stream",
     "text": [
      "epoch: 4, [batch: 4032 / 6720], examples_per_second: 2307.6079, train_label_loss: 0.2556, \n"
     ]
    },
    {
     "name": "stdout",
     "output_type": "stream",
     "text": [
      "epoch: 4, [batch: 4704 / 6720], examples_per_second: 2303.4993, train_label_loss: 0.3620, \n"
     ]
    },
    {
     "name": "stdout",
     "output_type": "stream",
     "text": [
      "epoch: 4, [batch: 5376 / 6720], examples_per_second: 2325.0511, train_label_loss: 0.4411, \n"
     ]
    },
    {
     "name": "stdout",
     "output_type": "stream",
     "text": [
      "epoch: 4, [batch: 6048 / 6720], examples_per_second: 2310.1884, train_label_loss: 0.2412, \n"
     ]
    },
    {
     "name": "stdout",
     "output_type": "stream",
     "text": [
      "=============================================================\n",
      "epoch: 4, source_val_acc_label: 0.8562, target_val_acc_label: 0.8365, source_val_label_loss: 0.3917, target_val_label_loss: 1.2497, \n",
      "=============================================================\n"
     ]
    },
    {
     "name": "stdout",
     "output_type": "stream",
     "text": [
      "New best\n"
     ]
    },
    {
     "name": "stdout",
     "output_type": "stream",
     "text": [
      "epoch: 5, [batch: 1 / 6720], examples_per_second: 2.3223, train_label_loss: 0.2215, \n"
     ]
    },
    {
     "name": "stdout",
     "output_type": "stream",
     "text": [
      "epoch: 5, [batch: 672 / 6720], examples_per_second: 2606.2772, train_label_loss: 0.6836, \n"
     ]
    },
    {
     "name": "stdout",
     "output_type": "stream",
     "text": [
      "epoch: 5, [batch: 1344 / 6720], examples_per_second: 2526.9566, train_label_loss: 0.4045, \n"
     ]
    },
    {
     "name": "stdout",
     "output_type": "stream",
     "text": [
      "epoch: 5, [batch: 2016 / 6720], examples_per_second: 2580.2388, train_label_loss: 0.4292, \n"
     ]
    },
    {
     "name": "stdout",
     "output_type": "stream",
     "text": [
      "epoch: 5, [batch: 2688 / 6720], examples_per_second: 2586.6922, train_label_loss: 0.4604, \n"
     ]
    },
    {
     "name": "stdout",
     "output_type": "stream",
     "text": [
      "epoch: 5, [batch: 3360 / 6720], examples_per_second: 2567.6285, train_label_loss: 0.3248, \n"
     ]
    },
    {
     "name": "stdout",
     "output_type": "stream",
     "text": [
      "epoch: 5, [batch: 4032 / 6720], examples_per_second: 2536.2351, train_label_loss: 0.3782, \n"
     ]
    },
    {
     "name": "stdout",
     "output_type": "stream",
     "text": [
      "epoch: 5, [batch: 4704 / 6720], examples_per_second: 2590.7854, train_label_loss: 0.2240, \n"
     ]
    },
    {
     "name": "stdout",
     "output_type": "stream",
     "text": [
      "epoch: 5, [batch: 5376 / 6720], examples_per_second: 2584.7498, train_label_loss: 0.3000, \n"
     ]
    },
    {
     "name": "stdout",
     "output_type": "stream",
     "text": [
      "epoch: 5, [batch: 6048 / 6720], examples_per_second: 2558.3828, train_label_loss: 0.1333, \n"
     ]
    },
    {
     "name": "stdout",
     "output_type": "stream",
     "text": [
      "=============================================================\n",
      "epoch: 5, source_val_acc_label: 0.8862, target_val_acc_label: 0.8632, source_val_label_loss: 0.3164, target_val_label_loss: 1.2219, \n",
      "=============================================================\n"
     ]
    },
    {
     "name": "stdout",
     "output_type": "stream",
     "text": [
      "New best\n"
     ]
    },
    {
     "name": "stdout",
     "output_type": "stream",
     "text": [
      "epoch: 6, [batch: 1 / 6720], examples_per_second: 3.1332, train_label_loss: 0.1691, \n"
     ]
    },
    {
     "name": "stdout",
     "output_type": "stream",
     "text": [
      "epoch: 6, [batch: 672 / 6720], examples_per_second: 3307.8759, train_label_loss: 0.1484, \n"
     ]
    },
    {
     "name": "stdout",
     "output_type": "stream",
     "text": [
      "epoch: 6, [batch: 1344 / 6720], examples_per_second: 3372.4576, train_label_loss: 0.4391, \n"
     ]
    },
    {
     "name": "stdout",
     "output_type": "stream",
     "text": [
      "epoch: 6, [batch: 2016 / 6720], examples_per_second: 3362.7416, train_label_loss: 0.6888, \n"
     ]
    },
    {
     "name": "stdout",
     "output_type": "stream",
     "text": [
      "epoch: 6, [batch: 2688 / 6720], examples_per_second: 3424.5685, train_label_loss: 0.1435, \n"
     ]
    },
    {
     "name": "stdout",
     "output_type": "stream",
     "text": [
      "epoch: 6, [batch: 3360 / 6720], examples_per_second: 3423.1007, train_label_loss: 0.1891, \n"
     ]
    },
    {
     "name": "stdout",
     "output_type": "stream",
     "text": [
      "epoch: 6, [batch: 4032 / 6720], examples_per_second: 3011.3444, train_label_loss: 0.2553, \n"
     ]
    },
    {
     "name": "stdout",
     "output_type": "stream",
     "text": [
      "epoch: 6, [batch: 4704 / 6720], examples_per_second: 2472.6696, train_label_loss: 0.3380, \n"
     ]
    },
    {
     "name": "stdout",
     "output_type": "stream",
     "text": [
      "epoch: 6, [batch: 5376 / 6720], examples_per_second: 2301.3344, train_label_loss: 0.5373, \n"
     ]
    },
    {
     "name": "stdout",
     "output_type": "stream",
     "text": [
      "epoch: 6, [batch: 6048 / 6720], examples_per_second: 2308.0164, train_label_loss: 0.5674, \n"
     ]
    },
    {
     "name": "stdout",
     "output_type": "stream",
     "text": [
      "=============================================================\n",
      "epoch: 6, source_val_acc_label: 0.8964, target_val_acc_label: 0.8731, source_val_label_loss: 0.2987, target_val_label_loss: 0.9830, \n",
      "=============================================================\n"
     ]
    },
    {
     "name": "stdout",
     "output_type": "stream",
     "text": [
      "New best\n"
     ]
    },
    {
     "name": "stdout",
     "output_type": "stream",
     "text": [
      "epoch: 7, [batch: 1 / 6720], examples_per_second: 2.2600, train_label_loss: 0.1956, \n"
     ]
    },
    {
     "name": "stdout",
     "output_type": "stream",
     "text": [
      "epoch: 7, [batch: 672 / 6720], examples_per_second: 2304.8791, train_label_loss: 0.3626, \n"
     ]
    },
    {
     "name": "stdout",
     "output_type": "stream",
     "text": [
      "epoch: 7, [batch: 1344 / 6720], examples_per_second: 2384.7157, train_label_loss: 0.0484, \n"
     ]
    },
    {
     "name": "stdout",
     "output_type": "stream",
     "text": [
      "epoch: 7, [batch: 2016 / 6720], examples_per_second: 2560.2929, train_label_loss: 0.2627, \n"
     ]
    },
    {
     "name": "stdout",
     "output_type": "stream",
     "text": [
      "epoch: 7, [batch: 2688 / 6720], examples_per_second: 2565.5436, train_label_loss: 0.1289, \n"
     ]
    },
    {
     "name": "stdout",
     "output_type": "stream",
     "text": [
      "epoch: 7, [batch: 3360 / 6720], examples_per_second: 2484.9154, train_label_loss: 0.2244, \n"
     ]
    },
    {
     "name": "stdout",
     "output_type": "stream",
     "text": [
      "epoch: 7, [batch: 4032 / 6720], examples_per_second: 2331.4098, train_label_loss: 0.2436, \n"
     ]
    },
    {
     "name": "stdout",
     "output_type": "stream",
     "text": [
      "epoch: 7, [batch: 4704 / 6720], examples_per_second: 2321.5917, train_label_loss: 0.7082, \n"
     ]
    },
    {
     "name": "stdout",
     "output_type": "stream",
     "text": [
      "epoch: 7, [batch: 5376 / 6720], examples_per_second: 2333.9570, train_label_loss: 0.1949, \n"
     ]
    },
    {
     "name": "stdout",
     "output_type": "stream",
     "text": [
      "epoch: 7, [batch: 6048 / 6720], examples_per_second: 2352.1027, train_label_loss: 0.1801, \n"
     ]
    },
    {
     "name": "stdout",
     "output_type": "stream",
     "text": [
      "=============================================================\n",
      "epoch: 7, source_val_acc_label: 0.8906, target_val_acc_label: 0.8644, source_val_label_loss: 0.3036, target_val_label_loss: 1.0867, \n",
      "=============================================================\n"
     ]
    },
    {
     "name": "stdout",
     "output_type": "stream",
     "text": [
      "epoch: 8, [batch: 1 / 6720], examples_per_second: 2.2925, train_label_loss: 0.0948, \n"
     ]
    },
    {
     "name": "stdout",
     "output_type": "stream",
     "text": [
      "epoch: 8, [batch: 672 / 6720], examples_per_second: 2304.6211, train_label_loss: 0.1130, \n"
     ]
    },
    {
     "name": "stdout",
     "output_type": "stream",
     "text": [
      "epoch: 8, [batch: 1344 / 6720], examples_per_second: 2549.8108, train_label_loss: 0.0464, \n"
     ]
    },
    {
     "name": "stdout",
     "output_type": "stream",
     "text": [
      "epoch: 8, [batch: 2016 / 6720], examples_per_second: 2568.3111, train_label_loss: 0.3415, \n"
     ]
    },
    {
     "name": "stdout",
     "output_type": "stream",
     "text": [
      "epoch: 8, [batch: 2688 / 6720], examples_per_second: 2545.2648, train_label_loss: 0.1260, \n"
     ]
    },
    {
     "name": "stdout",
     "output_type": "stream",
     "text": [
      "epoch: 8, [batch: 3360 / 6720], examples_per_second: 2293.8527, train_label_loss: 0.0440, \n"
     ]
    },
    {
     "name": "stdout",
     "output_type": "stream",
     "text": [
      "epoch: 8, [batch: 4032 / 6720], examples_per_second: 2309.1321, train_label_loss: 0.1188, \n"
     ]
    },
    {
     "name": "stdout",
     "output_type": "stream",
     "text": [
      "epoch: 8, [batch: 4704 / 6720], examples_per_second: 2305.3951, train_label_loss: 0.4945, \n"
     ]
    },
    {
     "name": "stdout",
     "output_type": "stream",
     "text": [
      "epoch: 8, [batch: 5376 / 6720], examples_per_second: 2307.9299, train_label_loss: 0.0591, \n"
     ]
    },
    {
     "name": "stdout",
     "output_type": "stream",
     "text": [
      "epoch: 8, [batch: 6048 / 6720], examples_per_second: 2308.9638, train_label_loss: 0.1372, \n"
     ]
    },
    {
     "name": "stdout",
     "output_type": "stream",
     "text": [
      "=============================================================\n",
      "epoch: 8, source_val_acc_label: 0.8908, target_val_acc_label: 0.8641, source_val_label_loss: 0.3044, target_val_label_loss: 0.9599, \n",
      "=============================================================\n"
     ]
    },
    {
     "name": "stdout",
     "output_type": "stream",
     "text": [
      "epoch: 9, [batch: 1 / 6720], examples_per_second: 2.2421, train_label_loss: 0.5826, \n"
     ]
    },
    {
     "name": "stdout",
     "output_type": "stream",
     "text": [
      "epoch: 9, [batch: 672 / 6720], examples_per_second: 2775.5181, train_label_loss: 0.3695, \n"
     ]
    },
    {
     "name": "stdout",
     "output_type": "stream",
     "text": [
      "epoch: 9, [batch: 1344 / 6720], examples_per_second: 2947.6009, train_label_loss: 0.3236, \n"
     ]
    },
    {
     "name": "stdout",
     "output_type": "stream",
     "text": [
      "epoch: 9, [batch: 2016 / 6720], examples_per_second: 3066.9785, train_label_loss: 0.3357, \n"
     ]
    },
    {
     "name": "stdout",
     "output_type": "stream",
     "text": [
      "epoch: 9, [batch: 2688 / 6720], examples_per_second: 2570.6791, train_label_loss: 0.1287, \n"
     ]
    },
    {
     "name": "stdout",
     "output_type": "stream",
     "text": [
      "epoch: 9, [batch: 3360 / 6720], examples_per_second: 2622.9370, train_label_loss: 0.7278, \n"
     ]
    },
    {
     "name": "stdout",
     "output_type": "stream",
     "text": [
      "epoch: 9, [batch: 4032 / 6720], examples_per_second: 2575.3632, train_label_loss: 0.3256, \n"
     ]
    },
    {
     "name": "stdout",
     "output_type": "stream",
     "text": [
      "epoch: 9, [batch: 4704 / 6720], examples_per_second: 2553.4815, train_label_loss: 0.2845, \n"
     ]
    },
    {
     "name": "stdout",
     "output_type": "stream",
     "text": [
      "epoch: 9, [batch: 5376 / 6720], examples_per_second: 2585.8703, train_label_loss: 0.0227, \n"
     ]
    },
    {
     "name": "stdout",
     "output_type": "stream",
     "text": [
      "epoch: 9, [batch: 6048 / 6720], examples_per_second: 2691.5172, train_label_loss: 0.4526, \n"
     ]
    },
    {
     "name": "stdout",
     "output_type": "stream",
     "text": [
      "=============================================================\n",
      "epoch: 9, source_val_acc_label: 0.9006, target_val_acc_label: 0.8735, source_val_label_loss: 0.2880, target_val_label_loss: 1.7554, \n",
      "=============================================================\n"
     ]
    },
    {
     "name": "stdout",
     "output_type": "stream",
     "text": [
      "New best\n"
     ]
    },
    {
     "name": "stdout",
     "output_type": "stream",
     "text": [
      "epoch: 10, [batch: 1 / 6720], examples_per_second: 2.7616, train_label_loss: 0.0713, \n"
     ]
    },
    {
     "name": "stdout",
     "output_type": "stream",
     "text": [
      "epoch: 10, [batch: 672 / 6720], examples_per_second: 3446.6873, train_label_loss: 0.2630, \n"
     ]
    },
    {
     "name": "stdout",
     "output_type": "stream",
     "text": [
      "epoch: 10, [batch: 1344 / 6720], examples_per_second: 3510.3394, train_label_loss: 0.0646, \n"
     ]
    },
    {
     "name": "stdout",
     "output_type": "stream",
     "text": [
      "epoch: 10, [batch: 2016 / 6720], examples_per_second: 2994.4652, train_label_loss: 0.2208, \n"
     ]
    },
    {
     "name": "stdout",
     "output_type": "stream",
     "text": [
      "epoch: 10, [batch: 2688 / 6720], examples_per_second: 2961.4269, train_label_loss: 0.1034, \n"
     ]
    },
    {
     "name": "stdout",
     "output_type": "stream",
     "text": [
      "epoch: 10, [batch: 3360 / 6720], examples_per_second: 2923.6045, train_label_loss: 0.2631, \n"
     ]
    },
    {
     "name": "stdout",
     "output_type": "stream",
     "text": [
      "epoch: 10, [batch: 4032 / 6720], examples_per_second: 3149.8886, train_label_loss: 0.0773, \n"
     ]
    },
    {
     "name": "stdout",
     "output_type": "stream",
     "text": [
      "epoch: 10, [batch: 4704 / 6720], examples_per_second: 2575.3165, train_label_loss: 0.2048, \n"
     ]
    },
    {
     "name": "stdout",
     "output_type": "stream",
     "text": [
      "epoch: 10, [batch: 5376 / 6720], examples_per_second: 2576.1675, train_label_loss: 0.0996, \n"
     ]
    },
    {
     "name": "stdout",
     "output_type": "stream",
     "text": [
      "epoch: 10, [batch: 6048 / 6720], examples_per_second: 2501.9912, train_label_loss: 0.0781, \n"
     ]
    },
    {
     "name": "stdout",
     "output_type": "stream",
     "text": [
      "=============================================================\n",
      "epoch: 10, source_val_acc_label: 0.9081, target_val_acc_label: 0.8782, source_val_label_loss: 0.2695, target_val_label_loss: 1.2560, \n",
      "=============================================================\n"
     ]
    },
    {
     "name": "stdout",
     "output_type": "stream",
     "text": [
      "New best\n"
     ]
    },
    {
     "name": "stdout",
     "output_type": "stream",
     "text": [
      "epoch: 11, [batch: 1 / 6720], examples_per_second: 2.3952, train_label_loss: 0.1652, \n"
     ]
    },
    {
     "name": "stdout",
     "output_type": "stream",
     "text": [
      "epoch: 11, [batch: 672 / 6720], examples_per_second: 3463.2256, train_label_loss: 0.1627, \n"
     ]
    },
    {
     "name": "stdout",
     "output_type": "stream",
     "text": [
      "epoch: 11, [batch: 1344 / 6720], examples_per_second: 2535.9180, train_label_loss: 0.1782, \n"
     ]
    },
    {
     "name": "stdout",
     "output_type": "stream",
     "text": [
      "epoch: 11, [batch: 2016 / 6720], examples_per_second: 2298.5355, train_label_loss: 0.3548, \n"
     ]
    },
    {
     "name": "stdout",
     "output_type": "stream",
     "text": [
      "epoch: 11, [batch: 2688 / 6720], examples_per_second: 2428.4846, train_label_loss: 0.0512, \n"
     ]
    },
    {
     "name": "stdout",
     "output_type": "stream",
     "text": [
      "epoch: 11, [batch: 3360 / 6720], examples_per_second: 2569.9625, train_label_loss: 0.4502, \n"
     ]
    },
    {
     "name": "stdout",
     "output_type": "stream",
     "text": [
      "epoch: 11, [batch: 4032 / 6720], examples_per_second: 2620.2370, train_label_loss: 0.3420, \n"
     ]
    },
    {
     "name": "stdout",
     "output_type": "stream",
     "text": [
      "epoch: 11, [batch: 4704 / 6720], examples_per_second: 2429.0635, train_label_loss: 0.3790, \n"
     ]
    },
    {
     "name": "stdout",
     "output_type": "stream",
     "text": [
      "epoch: 11, [batch: 5376 / 6720], examples_per_second: 2323.3491, train_label_loss: 0.0518, \n"
     ]
    },
    {
     "name": "stdout",
     "output_type": "stream",
     "text": [
      "epoch: 11, [batch: 6048 / 6720], examples_per_second: 2325.7643, train_label_loss: 0.0067, \n"
     ]
    },
    {
     "name": "stdout",
     "output_type": "stream",
     "text": [
      "=============================================================\n",
      "epoch: 11, source_val_acc_label: 0.9007, target_val_acc_label: 0.8688, source_val_label_loss: 0.3069, target_val_label_loss: 2.0493, \n",
      "=============================================================\n"
     ]
    },
    {
     "name": "stdout",
     "output_type": "stream",
     "text": [
      "epoch: 12, [batch: 1 / 6720], examples_per_second: 2.1673, train_label_loss: 0.1365, \n"
     ]
    },
    {
     "name": "stdout",
     "output_type": "stream",
     "text": [
      "epoch: 12, [batch: 672 / 6720], examples_per_second: 2391.2353, train_label_loss: 0.4122, \n"
     ]
    },
    {
     "name": "stdout",
     "output_type": "stream",
     "text": [
      "epoch: 12, [batch: 1344 / 6720], examples_per_second: 2310.7155, train_label_loss: 0.0292, \n"
     ]
    },
    {
     "name": "stdout",
     "output_type": "stream",
     "text": [
      "epoch: 12, [batch: 2016 / 6720], examples_per_second: 2306.6107, train_label_loss: 0.3354, \n"
     ]
    },
    {
     "name": "stdout",
     "output_type": "stream",
     "text": [
      "epoch: 12, [batch: 2688 / 6720], examples_per_second: 2388.2931, train_label_loss: 0.0598, \n"
     ]
    },
    {
     "name": "stdout",
     "output_type": "stream",
     "text": [
      "epoch: 12, [batch: 3360 / 6720], examples_per_second: 2566.3923, train_label_loss: 0.4546, \n"
     ]
    },
    {
     "name": "stdout",
     "output_type": "stream",
     "text": [
      "epoch: 12, [batch: 4032 / 6720], examples_per_second: 2549.4456, train_label_loss: 0.5240, \n"
     ]
    },
    {
     "name": "stdout",
     "output_type": "stream",
     "text": [
      "epoch: 12, [batch: 4704 / 6720], examples_per_second: 2508.8030, train_label_loss: 0.0801, \n"
     ]
    },
    {
     "name": "stdout",
     "output_type": "stream",
     "text": [
      "epoch: 12, [batch: 5376 / 6720], examples_per_second: 2330.2608, train_label_loss: 0.2488, \n"
     ]
    },
    {
     "name": "stdout",
     "output_type": "stream",
     "text": [
      "epoch: 12, [batch: 6048 / 6720], examples_per_second: 2342.9227, train_label_loss: 0.4611, \n"
     ]
    },
    {
     "name": "stdout",
     "output_type": "stream",
     "text": [
      "=============================================================\n",
      "epoch: 12, source_val_acc_label: 0.9038, target_val_acc_label: 0.8715, source_val_label_loss: 0.3045, target_val_label_loss: 2.2834, \n",
      "=============================================================\n"
     ]
    },
    {
     "name": "stdout",
     "output_type": "stream",
     "text": [
      "epoch: 13, [batch: 1 / 6720], examples_per_second: 2.2519, train_label_loss: 0.1503, \n"
     ]
    },
    {
     "name": "stdout",
     "output_type": "stream",
     "text": [
      "epoch: 13, [batch: 672 / 6720], examples_per_second: 2539.3603, train_label_loss: 0.1799, \n"
     ]
    },
    {
     "name": "stdout",
     "output_type": "stream",
     "text": [
      "epoch: 13, [batch: 1344 / 6720], examples_per_second: 2584.7925, train_label_loss: 0.0969, \n"
     ]
    },
    {
     "name": "stdout",
     "output_type": "stream",
     "text": [
      "epoch: 13, [batch: 2016 / 6720], examples_per_second: 2639.3713, train_label_loss: 0.2097, \n"
     ]
    },
    {
     "name": "stdout",
     "output_type": "stream",
     "text": [
      "epoch: 13, [batch: 2688 / 6720], examples_per_second: 2715.2287, train_label_loss: 0.1456, \n"
     ]
    },
    {
     "name": "stdout",
     "output_type": "stream",
     "text": [
      "epoch: 13, [batch: 3360 / 6720], examples_per_second: 2975.7833, train_label_loss: 0.5708, \n"
     ]
    },
    {
     "name": "stdout",
     "output_type": "stream",
     "text": [
      "epoch: 13, [batch: 4032 / 6720], examples_per_second: 2913.9984, train_label_loss: 0.2236, \n"
     ]
    },
    {
     "name": "stdout",
     "output_type": "stream",
     "text": [
      "epoch: 13, [batch: 4704 / 6720], examples_per_second: 2933.9425, train_label_loss: 0.0435, \n"
     ]
    },
    {
     "name": "stdout",
     "output_type": "stream",
     "text": [
      "epoch: 13, [batch: 5376 / 6720], examples_per_second: 2599.1039, train_label_loss: 0.3283, \n"
     ]
    },
    {
     "name": "stdout",
     "output_type": "stream",
     "text": [
      "epoch: 13, [batch: 6048 / 6720], examples_per_second: 2954.5534, train_label_loss: 0.1751, \n"
     ]
    },
    {
     "name": "stdout",
     "output_type": "stream",
     "text": [
      "=============================================================\n",
      "epoch: 13, source_val_acc_label: 0.9083, target_val_acc_label: 0.8780, source_val_label_loss: 0.2651, target_val_label_loss: 3.9890, \n",
      "=============================================================\n"
     ]
    },
    {
     "name": "stdout",
     "output_type": "stream",
     "text": [
      "epoch: 14, [batch: 1 / 6720], examples_per_second: 2.7661, train_label_loss: 0.1261, \n"
     ]
    },
    {
     "name": "stdout",
     "output_type": "stream",
     "text": [
      "epoch: 14, [batch: 672 / 6720], examples_per_second: 2901.5698, train_label_loss: 0.0694, \n"
     ]
    },
    {
     "name": "stdout",
     "output_type": "stream",
     "text": [
      "epoch: 14, [batch: 1344 / 6720], examples_per_second: 2971.8514, train_label_loss: 0.2180, \n"
     ]
    },
    {
     "name": "stdout",
     "output_type": "stream",
     "text": [
      "epoch: 14, [batch: 2016 / 6720], examples_per_second: 3012.2914, train_label_loss: 0.1573, \n"
     ]
    },
    {
     "name": "stdout",
     "output_type": "stream",
     "text": [
      "epoch: 14, [batch: 2688 / 6720], examples_per_second: 2954.9062, train_label_loss: 0.2242, \n"
     ]
    },
    {
     "name": "stdout",
     "output_type": "stream",
     "text": [
      "epoch: 14, [batch: 3360 / 6720], examples_per_second: 2755.9746, train_label_loss: 0.4425, \n"
     ]
    },
    {
     "name": "stdout",
     "output_type": "stream",
     "text": [
      "epoch: 14, [batch: 4032 / 6720], examples_per_second: 2593.8169, train_label_loss: 0.0987, \n"
     ]
    },
    {
     "name": "stdout",
     "output_type": "stream",
     "text": [
      "epoch: 14, [batch: 4704 / 6720], examples_per_second: 2696.7648, train_label_loss: 0.1507, \n"
     ]
    },
    {
     "name": "stdout",
     "output_type": "stream",
     "text": [
      "epoch: 14, [batch: 5376 / 6720], examples_per_second: 2317.2954, train_label_loss: 0.2114, \n"
     ]
    },
    {
     "name": "stdout",
     "output_type": "stream",
     "text": [
      "epoch: 14, [batch: 6048 / 6720], examples_per_second: 2302.9409, train_label_loss: 0.2808, \n"
     ]
    },
    {
     "name": "stdout",
     "output_type": "stream",
     "text": [
      "=============================================================\n",
      "epoch: 14, source_val_acc_label: 0.9096, target_val_acc_label: 0.8780, source_val_label_loss: 0.2587, target_val_label_loss: 8.7422, \n",
      "=============================================================\n"
     ]
    },
    {
     "name": "stdout",
     "output_type": "stream",
     "text": [
      "Patience (3) exhausted\n"
     ]
    }
   ],
   "source": [
    "###################################\n",
    "# train\n",
    "###################################\n",
    "jig = PTN_Train_Eval_Test_Jig(model, p.BEST_MODEL_PATH, p.device)\n",
    "\n",
    "jig.train(\n",
    "    train_iterable=datasets.source.processed.train,\n",
    "    source_val_iterable=datasets.source.processed.val,\n",
    "    target_val_iterable=datasets.target.processed.val,\n",
    "    num_epochs=p.n_epoch,\n",
    "    num_logs_per_epoch=p.NUM_LOGS_PER_EPOCH,\n",
    "    patience=p.patience,\n",
    "    optimizer=optimizer,\n",
    "    criteria_for_best=p.criteria_for_best,\n",
    ")"
   ]
  },
  {
   "cell_type": "code",
   "execution_count": 23,
   "id": "31e8fabf",
   "metadata": {
    "execution": {
     "iopub.execute_input": "2022-03-21T10:50:04.422604Z",
     "iopub.status.busy": "2022-03-21T10:50:04.422234Z",
     "iopub.status.idle": "2022-03-21T10:50:04.455707Z",
     "shell.execute_reply": "2022-03-21T10:50:04.454915Z"
    },
    "papermill": {
     "duration": 0.103457,
     "end_time": "2022-03-21T10:50:04.455885",
     "exception": false,
     "start_time": "2022-03-21T10:50:04.352428",
     "status": "completed"
    },
    "tags": []
   },
   "outputs": [],
   "source": [
    "total_experiment_time_secs = time.time() - start_time_secs"
   ]
  },
  {
   "cell_type": "code",
   "execution_count": 24,
   "id": "87b9595b",
   "metadata": {
    "execution": {
     "iopub.execute_input": "2022-03-21T10:50:04.603080Z",
     "iopub.status.busy": "2022-03-21T10:50:04.602210Z",
     "iopub.status.idle": "2022-03-21T10:54:00.932666Z",
     "shell.execute_reply": "2022-03-21T10:54:00.933338Z"
    },
    "papermill": {
     "duration": 236.406269,
     "end_time": "2022-03-21T10:54:00.933559",
     "exception": false,
     "start_time": "2022-03-21T10:50:04.527290",
     "status": "completed"
    },
    "tags": []
   },
   "outputs": [],
   "source": [
    "###################################\n",
    "# Evaluate the model\n",
    "###################################\n",
    "source_test_label_accuracy, source_test_label_loss = jig.test(datasets.source.processed.test)\n",
    "target_test_label_accuracy, target_test_label_loss = jig.test(datasets.target.processed.test)\n",
    "\n",
    "source_val_label_accuracy, source_val_label_loss = jig.test(datasets.source.processed.val)\n",
    "target_val_label_accuracy, target_val_label_loss = jig.test(datasets.target.processed.val)\n",
    "\n",
    "history = jig.get_history()\n",
    "\n",
    "total_epochs_trained = len(history[\"epoch_indices\"])\n",
    "\n",
    "val_dl = Iterable_Aggregator((datasets.source.original.val,datasets.target.original.val))\n",
    "\n",
    "confusion = ptn_confusion_by_domain_over_dataloader(model, p.device, val_dl)\n",
    "per_domain_accuracy = per_domain_accuracy_from_confusion(confusion)\n",
    "\n",
    "# Add a key to per_domain_accuracy for if it was a source domain\n",
    "for domain, accuracy in per_domain_accuracy.items():\n",
    "    per_domain_accuracy[domain] = {\n",
    "        \"accuracy\": accuracy,\n",
    "        \"source?\": domain in p.domains_source\n",
    "    }\n",
    "\n",
    "# Do an independent accuracy assesment JUST TO BE SURE!\n",
    "# _source_test_label_accuracy = independent_accuracy_assesment(model, datasets.source.processed.test, p.device)\n",
    "# _target_test_label_accuracy = independent_accuracy_assesment(model, datasets.target.processed.test, p.device)\n",
    "# _source_val_label_accuracy = independent_accuracy_assesment(model, datasets.source.processed.val, p.device)\n",
    "# _target_val_label_accuracy = independent_accuracy_assesment(model, datasets.target.processed.val, p.device)\n",
    "\n",
    "# assert(_source_test_label_accuracy == source_test_label_accuracy)\n",
    "# assert(_target_test_label_accuracy == target_test_label_accuracy)\n",
    "# assert(_source_val_label_accuracy == source_val_label_accuracy)\n",
    "# assert(_target_val_label_accuracy == target_val_label_accuracy)\n",
    "\n",
    "experiment = {\n",
    "    \"experiment_name\": p.experiment_name,\n",
    "    \"parameters\": dict(p),\n",
    "    \"results\": {\n",
    "        \"source_test_label_accuracy\": source_test_label_accuracy,\n",
    "        \"source_test_label_loss\": source_test_label_loss,\n",
    "        \"target_test_label_accuracy\": target_test_label_accuracy,\n",
    "        \"target_test_label_loss\": target_test_label_loss,\n",
    "        \"source_val_label_accuracy\": source_val_label_accuracy,\n",
    "        \"source_val_label_loss\": source_val_label_loss,\n",
    "        \"target_val_label_accuracy\": target_val_label_accuracy,\n",
    "        \"target_val_label_loss\": target_val_label_loss,\n",
    "        \"total_epochs_trained\": total_epochs_trained,\n",
    "        \"total_experiment_time_secs\": total_experiment_time_secs,\n",
    "        \"confusion\": confusion,\n",
    "        \"per_domain_accuracy\": per_domain_accuracy,\n",
    "    },\n",
    "    \"history\": history,\n",
    "    \"dataset_metrics\": get_dataset_metrics(datasets, \"ptn\"),\n",
    "}"
   ]
  },
  {
   "cell_type": "code",
   "execution_count": 25,
   "id": "54a21829",
   "metadata": {
    "execution": {
     "iopub.execute_input": "2022-03-21T10:54:01.076750Z",
     "iopub.status.busy": "2022-03-21T10:54:01.076117Z",
     "iopub.status.idle": "2022-03-21T10:54:01.299497Z",
     "shell.execute_reply": "2022-03-21T10:54:01.300184Z"
    },
    "papermill": {
     "duration": 0.294446,
     "end_time": "2022-03-21T10:54:01.300395",
     "exception": false,
     "start_time": "2022-03-21T10:54:01.005949",
     "status": "completed"
    },
    "tags": []
   },
   "outputs": [
    {
     "data": {
      "image/png": "[encoded data removed]",
      "text/plain": [
       "<Figure size 1080x504 with 1 Axes>"
      ]
     },
     "metadata": {
      "needs_background": "light"
     },
     "output_type": "display_data"
    }
   ],
   "source": [
    "ax = get_loss_curve(experiment)\n",
    "plt.show()"
   ]
  },
  {
   "cell_type": "code",
   "execution_count": 26,
   "id": "fd8a0f60",
   "metadata": {
    "execution": {
     "iopub.execute_input": "2022-03-21T10:54:01.446355Z",
     "iopub.status.busy": "2022-03-21T10:54:01.445931Z",
     "iopub.status.idle": "2022-03-21T10:54:01.788524Z",
     "shell.execute_reply": "2022-03-21T10:54:01.789200Z"
    },
    "papermill": {
     "duration": 0.414346,
     "end_time": "2022-03-21T10:54:01.789411",
     "exception": false,
     "start_time": "2022-03-21T10:54:01.375065",
     "status": "completed"
    },
    "tags": []
   },
   "outputs": [
    {
     "data": {
      "text/plain": [
       "<AxesSubplot:title={'center':'Results'}>"
      ]
     },
     "execution_count": 26,
     "metadata": {},
     "output_type": "execute_result"
    },
    {
     "data": {
      "image/png": "[encoded data removed]",
      "text/plain": [
       "<Figure size 1080x504 with 1 Axes>"
      ]
     },
     "metadata": {
      "needs_background": "light"
     },
     "output_type": "display_data"
    }
   ],
   "source": [
    "get_results_table(experiment)"
   ]
  },
  {
   "cell_type": "code",
   "execution_count": 27,
   "id": "cf8dc689",
   "metadata": {
    "execution": {
     "iopub.execute_input": "2022-03-21T10:54:01.935934Z",
     "iopub.status.busy": "2022-03-21T10:54:01.935562Z",
     "iopub.status.idle": "2022-03-21T10:54:02.239292Z",
     "shell.execute_reply": "2022-03-21T10:54:02.239990Z"
    },
    "papermill": {
     "duration": 0.378357,
     "end_time": "2022-03-21T10:54:02.240203",
     "exception": false,
     "start_time": "2022-03-21T10:54:01.861846",
     "status": "completed"
    },
    "tags": []
   },
   "outputs": [
    {
     "data": {
      "text/plain": [
       "<AxesSubplot:title={'center':'Per Domain Validation Accuracy'}, xlabel='domain'>"
      ]
     },
     "execution_count": 27,
     "metadata": {},
     "output_type": "execute_result"
    },
    {
     "data": {
      "image/png": "[encoded data removed]",
      "text/plain": [
       "<Figure size 1080x504 with 1 Axes>"
      ]
     },
     "metadata": {
      "needs_background": "light"
     },
     "output_type": "display_data"
    }
   ],
   "source": [
    "get_domain_accuracies(experiment)"
   ]
  },
  {
   "cell_type": "code",
   "execution_count": 28,
   "id": "a74ae082",
   "metadata": {
    "execution": {
     "iopub.execute_input": "2022-03-21T10:54:02.391268Z",
     "iopub.status.busy": "2022-03-21T10:54:02.390606Z",
     "iopub.status.idle": "2022-03-21T10:54:02.415691Z",
     "shell.execute_reply": "2022-03-21T10:54:02.414851Z"
    },
    "papermill": {
     "duration": 0.100013,
     "end_time": "2022-03-21T10:54:02.415864",
     "exception": false,
     "start_time": "2022-03-21T10:54:02.315851",
     "status": "completed"
    },
    "tags": []
   },
   "outputs": [
    {
     "name": "stdout",
     "output_type": "stream",
     "text": [
      "Source Test Label Accuracy: 0.9042643229166667 Target Test Label Accuracy: 0.8783528645833333\n",
      "Source Val Label Accuracy: 0.9080729166666667 Target Val Label Accuracy: 0.8781575520833333\n"
     ]
    }
   ],
   "source": [
    "print(\"Source Test Label Accuracy:\", experiment[\"results\"][\"source_test_label_accuracy\"], \"Target Test Label Accuracy:\", experiment[\"results\"][\"target_test_label_accuracy\"])\n",
    "print(\"Source Val Label Accuracy:\", experiment[\"results\"][\"source_val_label_accuracy\"], \"Target Val Label Accuracy:\", experiment[\"results\"][\"target_val_label_accuracy\"])"
   ]
  },
  {
   "cell_type": "code",
   "execution_count": 29,
   "id": "dacca602",
   "metadata": {
    "execution": {
     "iopub.execute_input": "2022-03-21T10:54:02.563410Z",
     "iopub.status.busy": "2022-03-21T10:54:02.563046Z",
     "iopub.status.idle": "2022-03-21T10:54:02.588281Z",
     "shell.execute_reply": "2022-03-21T10:54:02.588939Z"
    },
    "papermill": {
     "duration": 0.098321,
     "end_time": "2022-03-21T10:54:02.589144",
     "exception": false,
     "start_time": "2022-03-21T10:54:02.490823",
     "status": "completed"
    },
    "tags": [
     "experiment_json"
    ]
   },
   "outputs": [
    {
     "data": {
      "text/plain": [
       "'{\"experiment_name\": \"tl_1v2:oracle.run1.framed-oracle.run2.framed\", \"parameters\": {\"experiment_name\": \"tl_1v2:oracle.run1.framed-oracle.run2.framed\", \"device\": \"cuda\", \"lr\": 0.0001, \"n_shot\": 3, \"n_query\": 2, \"train_k_factor\": 3, \"val_k_factor\": 2, \"test_k_factor\": 2, \"torch_default_dtype\": \"torch.float32\", \"n_epoch\": 50, \"patience\": 3, \"criteria_for_best\": \"target_accuracy\", \"x_net\": [{\"class\": \"nnReshape\", \"kargs\": {\"shape\": [-1, 1, 2, 256]}}, {\"class\": \"Conv2d\", \"kargs\": {\"in_channels\": 1, \"out_channels\": 256, \"kernel_size\": [1, 7], \"bias\": false, \"padding\": [0, 3]}}, {\"class\": \"ReLU\", \"kargs\": {\"inplace\": true}}, {\"class\": \"BatchNorm2d\", \"kargs\": {\"num_features\": 256}}, {\"class\": \"Conv2d\", \"kargs\": {\"in_channels\": 256, \"out_channels\": 80, \"kernel_size\": [2, 7], \"bias\": true, \"padding\": [0, 3]}}, {\"class\": \"ReLU\", \"kargs\": {\"inplace\": true}}, {\"class\": \"BatchNorm2d\", \"kargs\": {\"num_features\": 80}}, {\"class\": \"Flatten\", \"kargs\": {}}, {\"class\": \"Linear\", \"kargs\": {\"in_features\": 20480, \"out_features\": 256}}, {\"class\": \"ReLU\", \"kargs\": {\"inplace\": true}}, {\"class\": \"BatchNorm1d\", \"kargs\": {\"num_features\": 256}}, {\"class\": \"Linear\", \"kargs\": {\"in_features\": 256, \"out_features\": 256}}], \"NUM_LOGS_PER_EPOCH\": 10, \"BEST_MODEL_PATH\": \"./best_model.pth\", \"n_way\": 16, \"datasets\": [{\"labels\": [\"3123D52\", \"3123D65\", \"3123D79\", \"3123D80\", \"3123D54\", \"3123D70\", \"3123D7B\", \"3123D89\", \"3123D58\", \"3123D76\", \"3123D7D\", \"3123EFE\", \"3123D64\", \"3123D78\", \"3123D7E\", \"3124E4A\"], \"domains\": [32, 38, 8, 44, 14, 50, 20, 26], \"num_examples_per_domain_per_label\": 2000, \"pickle_path\": \"/root/csc500-main/datasets/oracle.Run1_framed_2000Examples_stratified_ds.2022A.pkl\", \"source_or_target_dataset\": \"source\", \"x_transforms\": [\"unit_power\"], \"episode_transforms\": [], \"domain_prefix\": \"ORACLE.run1_\"}, {\"labels\": [\"3123D52\", \"3123D65\", \"3123D79\", \"3123D80\", \"3123D54\", \"3123D70\", \"3123D7B\", \"3123D89\", \"3123D58\", \"3123D76\", \"3123D7D\", \"3123EFE\", \"3123D64\", \"3123D78\", \"3123D7E\", \"3124E4A\"], \"domains\": [32, 38, 8, 44, 14, 50, 20, 26], \"num_examples_per_domain_per_label\": 2000, \"pickle_path\": \"/root/csc500-main/datasets/oracle.Run2_framed_2000Examples_stratified_ds.2022A.pkl\", \"source_or_target_dataset\": \"target\", \"x_transforms\": [\"unit_power\"], \"episode_transforms\": [], \"domain_prefix\": \"ORACLE.run2_\"}], \"dataset_seed\": 420, \"seed\": 420, \"x_shape\": [2, 256], \"domains_source\": [\"ORACLE.run1_32\", \"ORACLE.run1_38\", \"ORACLE.run1_8\", \"ORACLE.run1_44\", \"ORACLE.run1_14\", \"ORACLE.run1_50\", \"ORACLE.run1_20\", \"ORACLE.run1_26\"], \"domains_target\": [\"ORACLE.run2_32\", \"ORACLE.run2_38\", \"ORACLE.run2_8\", \"ORACLE.run2_44\", \"ORACLE.run2_14\", \"ORACLE.run2_50\", \"ORACLE.run2_20\", \"ORACLE.run2_26\"]}, \"results\": {\"source_test_label_accuracy\": 0.9042643229166667, \"source_test_label_loss\": 0.2695445120334625, \"target_test_label_accuracy\": 0.8783528645833333, \"target_test_label_loss\": 1.9735480546951294, \"source_val_label_accuracy\": 0.9080729166666667, \"source_val_label_loss\": 0.26945772767066956, \"target_val_label_accuracy\": 0.8781575520833333, \"target_val_label_loss\": 1.2559692859649658, \"total_epochs_trained\": 14, \"total_experiment_time_secs\": 3653.6593823432922, \"confusion\": {\"ORACLE.run1_14\": {\"15\": {\"15\": 240}, \"5\": {\"5\": 213, \"1\": 7, \"3\": 4, \"4\": 13, \"7\": 1, \"2\": 2}, \"7\": {\"7\": 240}, \"4\": {\"4\": 236, \"5\": 4}, \"10\": {\"10\": 239, \"0\": 1}, \"11\": {\"11\": 237, \"9\": 2, \"0\": 1}, \"12\": {\"12\": 240}, \"0\": {\"0\": 238, \"10\": 1, \"3\": 1}, \"14\": {\"14\": 225, \"2\": 12, \"6\": 2, \"13\": 1}, \"8\": {\"8\": 240}, \"13\": {\"6\": 48, \"13\": 186, \"2\": 4, \"4\": 1, \"5\": 1}, \"6\": {\"6\": 222, \"2\": 2, \"13\": 14, \"14\": 2}, \"1\": {\"1\": 238, \"5\": 2}, \"3\": {\"3\": 236, \"2\": 3, \"14\": 1}, \"9\": {\"9\": 240}, \"2\": {\"2\": 174, \"13\": 3, \"5\": 11, \"14\": 42, \"6\": 4, \"3\": 6}}, \"ORACLE.run1_20\": {\"4\": {\"4\": 235, \"8\": 3, \"3\": 1, \"7\": 1}, \"10\": {\"10\": 240}, \"15\": {\"15\": 232, \"1\": 4, \"5\": 2, \"0\": 2}, \"0\": {\"0\": 215, \"5\": 19, \"15\": 5, \"8\": 1}, \"6\": {\"6\": 235, \"14\": 5}, \"3\": {\"3\": 201, \"9\": 11, \"12\": 20, \"1\": 2, \"4\": 2, \"7\": 2, \"2\": 2}, \"7\": {\"7\": 234, \"2\": 4, \"9\": 1, \"8\": 1}, \"2\": {\"2\": 204, \"12\": 7, \"3\": 3, \"7\": 6, \"9\": 16, \"1\": 1, \"13\": 3}, \"8\": {\"8\": 235, \"7\": 3, \"4\": 2}, \"11\": {\"11\": 240}, \"14\": {\"14\": 237, \"6\": 3}, \"12\": {\"12\": 202, \"1\": 15, \"3\": 15, \"9\": 4, \"2\": 4}, \"13\": {\"13\": 239, \"2\": 1}, \"9\": {\"9\": 200, \"3\": 17, \"2\": 20, \"12\": 3}, \"5\": {\"5\": 226, \"0\": 8, \"15\": 5, \"1\": 1}, \"1\": {\"1\": 215, \"12\": 17, \"15\": 3, \"3\": 5}}, \"ORACLE.run1_50\": {\"5\": {\"5\": 190, \"7\": 7, \"1\": 7, \"4\": 26, \"13\": 9, \"6\": 1}, \"12\": {\"12\": 235, \"11\": 4, \"9\": 1}, \"14\": {\"14\": 240}, \"4\": {\"4\": 195, \"7\": 2, \"5\": 25, \"15\": 16, \"6\": 1, \"1\": 1}, \"13\": {\"13\": 235, \"5\": 3, \"7\": 2}, \"10\": {\"10\": 234, \"13\": 2, \"8\": 3, \"0\": 1}, \"9\": {\"9\": 229, \"11\": 8, \"12\": 3}, \"15\": {\"15\": 225, \"4\": 5, \"1\": 6, \"6\": 2, \"11\": 1, \"5\": 1}, \"6\": {\"6\": 232, \"13\": 2, \"15\": 2, \"4\": 1, \"7\": 3}, \"2\": {\"2\": 231, \"0\": 9}, \"0\": {\"0\": 220, \"2\": 15, \"10\": 5}, \"11\": {\"11\": 229, \"9\": 3, \"15\": 7, \"12\": 1}, \"3\": {\"3\": 239, \"8\": 1}, \"8\": {\"8\": 237, \"10\": 2, \"3\": 1}, \"7\": {\"7\": 213, \"6\": 14, \"13\": 4, \"5\": 8, \"4\": 1}, \"1\": {\"1\": 228, \"15\": 7, \"4\": 2, \"5\": 3}}, \"ORACLE.run1_26\": {\"7\": {\"7\": 201, \"4\": 4, \"3\": 16, \"2\": 16, \"8\": 2, \"0\": 1}, \"6\": {\"6\": 234, \"15\": 3, \"10\": 2, \"0\": 1}, \"14\": {\"14\": 178, \"0\": 19, \"4\": 19, \"1\": 9, \"10\": 12, \"7\": 1, \"8\": 2}, \"15\": {\"15\": 217, \"13\": 1, \"9\": 10, \"8\": 3, \"5\": 3, \"14\": 1, \"2\": 3, \"6\": 2}, \"5\": {\"5\": 218, \"2\": 12, \"13\": 8, \"9\": 1, \"15\": 1}, \"10\": {\"10\": 142, \"8\": 19, \"0\": 60, \"14\": 14, \"4\": 3, \"1\": 1, \"6\": 1}, \"4\": {\"4\": 206, \"7\": 6, \"0\": 9, \"8\": 7, \"14\": 12}, \"11\": {\"11\": 240}, \"13\": {\"13\": 218, \"2\": 4, \"5\": 17, \"9\": 1}, \"2\": {\"5\": 19, \"2\": 143, \"3\": 54, \"7\": 16, \"15\": 3, \"13\": 4, \"8\": 1}, \"0\": {\"8\": 9, \"0\": 128, \"10\": 61, \"14\": 32, \"6\": 1, \"4\": 6, \"7\": 1, \"1\": 1, \"15\": 1}, \"12\": {\"12\": 240}, \"3\": {\"3\": 202, \"2\": 30, \"7\": 8}, \"9\": {\"9\": 224, \"15\": 7, \"5\": 1, \"8\": 2, \"6\": 2, \"13\": 3, \"10\": 1}, \"8\": {\"8\": 149, \"0\": 24, \"4\": 19, \"10\": 26, \"7\": 15, \"15\": 4, \"14\": 3}, \"1\": {\"1\": 226, \"14\": 12, \"4\": 1, \"7\": 1}}, \"ORACLE.run1_32\": {\"7\": {\"7\": 199, \"5\": 34, \"4\": 4, \"14\": 3}, \"2\": {\"2\": 217, \"4\": 23}, \"5\": {\"5\": 161, \"7\": 50, \"4\": 10, \"8\": 7, \"13\": 10, \"14\": 2}, \"6\": {\"6\": 240}, \"13\": {\"13\": 206, \"3\": 12, \"8\": 5, \"4\": 8, \"7\": 3, \"5\": 6}, \"4\": {\"4\": 209, \"2\": 21, \"7\": 8, \"13\": 2}, \"3\": {\"3\": 235, \"11\": 2, \"13\": 2, \"8\": 1}, \"0\": {\"0\": 210, \"14\": 18, \"8\": 8, \"5\": 2, \"13\": 1, \"7\": 1}, \"9\": {\"9\": 240}, \"12\": {\"12\": 240}, \"8\": {\"8\": 222, \"5\": 6, \"0\": 9, \"14\": 1, \"13\": 2}, \"14\": {\"14\": 223, \"0\": 8, \"11\": 6, \"8\": 1, \"5\": 1, \"7\": 1}, \"15\": {\"15\": 240}, \"11\": {\"11\": 238, \"14\": 2}, \"10\": {\"10\": 240}, \"1\": {\"1\": 240}}, \"ORACLE.run1_44\": {\"11\": {\"11\": 239, \"13\": 1}, \"7\": {\"7\": 185, \"9\": 36, \"2\": 13, \"6\": 6}, \"6\": {\"6\": 196, \"9\": 16, \"13\": 26, \"7\": 2}, \"12\": {\"12\": 227, \"1\": 12, \"3\": 1}, \"4\": {\"4\": 181, \"14\": 58, \"15\": 1}, \"13\": {\"13\": 189, \"6\": 27, \"9\": 22, \"7\": 1, \"11\": 1}, \"8\": {\"8\": 184, \"0\": 53, \"5\": 3}, \"5\": {\"5\": 223, \"0\": 5, \"14\": 6, \"4\": 1, \"15\": 4, \"8\": 1}, \"14\": {\"15\": 6, \"14\": 166, \"4\": 67, \"5\": 1}, \"3\": {\"1\": 7, \"3\": 233}, \"10\": {\"10\": 212, \"2\": 11, \"1\": 14, \"12\": 3}, \"1\": {\"1\": 194, \"12\": 18, \"10\": 7, \"2\": 7, \"3\": 14}, \"2\": {\"2\": 220, \"7\": 15, \"10\": 2, \"1\": 3}, \"15\": {\"15\": 205, \"0\": 10, \"14\": 11, \"8\": 10, \"5\": 2, \"4\": 2}, \"9\": {\"9\": 156, \"2\": 1, \"7\": 41, \"13\": 19, \"6\": 23}, \"0\": {\"8\": 60, \"0\": 173, \"5\": 4, \"15\": 3}}, \"ORACLE.run1_8\": {\"10\": {\"10\": 226, \"14\": 9, \"4\": 2, \"13\": 3}, \"6\": {\"6\": 214, \"7\": 13, \"13\": 7, \"4\": 6}, \"13\": {\"13\": 160, \"10\": 32, \"4\": 27, \"6\": 4, \"0\": 16, \"7\": 1}, \"3\": {\"3\": 240}, \"9\": {\"9\": 240}, \"1\": {\"1\": 240}, \"5\": {\"5\": 233, \"10\": 6, \"1\": 1}, \"11\": {\"11\": 232, \"1\": 8}, \"4\": {\"4\": 220, \"6\": 2, \"13\": 14, \"14\": 4}, \"14\": {\"14\": 214, \"5\": 3, \"10\": 10, \"4\": 10, \"1\": 2, \"13\": 1}, \"12\": {\"12\": 214, \"15\": 20, \"3\": 4, \"8\": 2}, \"7\": {\"7\": 212, \"6\": 25, \"0\": 2, \"3\": 1}, \"0\": {\"0\": 216, \"7\": 9, \"13\": 9, \"10\": 4, \"4\": 2}, \"15\": {\"15\": 231, \"12\": 9}, \"2\": {\"3\": 4, \"2\": 233, \"7\": 3}, \"8\": {\"8\": 240}}, \"ORACLE.run1_38\": {\"4\": {\"4\": 240}, \"7\": {\"7\": 221, \"0\": 5, \"5\": 11, \"8\": 2, \"10\": 1}, \"12\": {\"12\": 240}, \"10\": {\"7\": 2, \"10\": 228, \"0\": 2, \"13\": 7, \"8\": 1}, \"0\": {\"0\": 201, \"7\": 8, \"8\": 20, \"5\": 4, \"4\": 1, \"3\": 4, \"10\": 1, \"13\": 1}, \"1\": {\"1\": 239, \"15\": 1}, \"5\": {\"7\": 27, \"5\": 156, \"8\": 44, \"9\": 5, \"0\": 3, \"6\": 2, \"13\": 1, \"3\": 1, \"15\": 1}, \"15\": {\"15\": 211, \"8\": 12, \"13\": 3, \"1\": 10, \"5\": 4}, \"9\": {\"9\": 237, \"6\": 1, \"5\": 1, \"3\": 1}, \"11\": {\"11\": 234, \"10\": 4, \"0\": 1, \"3\": 1}, \"14\": {\"14\": 234, \"2\": 6}, \"6\": {\"6\": 239, \"5\": 1}, \"8\": {\"8\": 198, \"0\": 6, \"5\": 26, \"15\": 2, \"7\": 5, \"13\": 3}, \"3\": {\"3\": 239, \"11\": 1}, \"2\": {\"2\": 232, \"13\": 3, \"14\": 5}, \"13\": {\"13\": 227, \"10\": 7, \"0\": 3, \"15\": 1, \"8\": 1, \"2\": 1}}, \"ORACLE.run2_14\": {\"15\": {\"15\": 240}, \"5\": {\"5\": 217, \"4\": 9, \"2\": 6, \"3\": 6, \"1\": 2}, \"7\": {\"7\": 240}, \"4\": {\"4\": 232, \"5\": 7, \"1\": 1}, \"10\": {\"10\": 239, \"6\": 1}, \"11\": {\"11\": 240}, \"12\": {\"11\": 57, \"12\": 139, \"8\": 5, \"9\": 31, \"0\": 8}, \"0\": {\"0\": 240}, \"14\": {\"14\": 199, \"2\": 40, \"6\": 1}, \"8\": {\"8\": 240}, \"13\": {\"6\": 35, \"13\": 205}, \"6\": {\"6\": 216, \"13\": 24}, \"1\": {\"1\": 239, \"5\": 1}, \"3\": {\"3\": 229, \"14\": 1, \"5\": 4, \"2\": 6}, \"9\": {\"9\": 240}, \"2\": {\"2\": 142, \"14\": 57, \"5\": 31, \"3\": 10}}, \"ORACLE.run2_20\": {\"4\": {\"4\": 238, \"3\": 1, \"5\": 1}, \"10\": {\"10\": 240}, \"15\": {\"15\": 187, \"13\": 28, \"2\": 5, \"5\": 10, \"1\": 6, \"9\": 2, \"0\": 2}, \"0\": {\"0\": 232, \"15\": 4, \"5\": 4}, \"6\": {\"6\": 238, \"14\": 2}, \"3\": {\"3\": 201, \"9\": 11, \"2\": 23, \"12\": 1, \"4\": 2, \"7\": 2}, \"7\": {\"7\": 233, \"8\": 5, \"2\": 1, \"3\": 1}, \"2\": {\"2\": 169, \"3\": 31, \"9\": 20, \"12\": 9, \"5\": 7, \"1\": 1, \"15\": 1, \"13\": 2}, \"8\": {\"8\": 215, \"14\": 17, \"4\": 3, \"7\": 3, \"6\": 1, \"5\": 1}, \"11\": {\"11\": 240}, \"14\": {\"14\": 224, \"6\": 3, \"8\": 13}, \"12\": {\"12\": 191, \"2\": 7, \"9\": 5, \"3\": 1, \"1\": 33, \"5\": 3}, \"13\": {\"13\": 221, \"15\": 19}, \"9\": {\"9\": 205, \"2\": 19, \"12\": 9, \"3\": 6, \"1\": 1}, \"5\": {\"2\": 14, \"0\": 10, \"5\": 193, \"7\": 5, \"12\": 10, \"15\": 7, \"13\": 1}, \"1\": {\"1\": 202, \"12\": 33, \"15\": 3, \"2\": 1, \"9\": 1}}, \"ORACLE.run2_50\": {\"5\": {\"5\": 158, \"4\": 61, \"7\": 7, \"6\": 6, \"10\": 1, \"13\": 7}, \"12\": {\"12\": 236, \"11\": 4}, \"14\": {\"14\": 240}, \"4\": {\"4\": 176, \"5\": 58, \"13\": 1, \"6\": 4, \"1\": 1}, \"13\": {\"13\": 202, \"10\": 27, \"7\": 10, \"5\": 1}, \"10\": {\"13\": 17, \"10\": 222, \"0\": 1}, \"9\": {\"9\": 239, \"12\": 1}, \"15\": {\"15\": 232, \"1\": 6, \"11\": 2}, \"6\": {\"6\": 226, \"4\": 5, \"5\": 8, \"15\": 1}, \"2\": {\"2\": 234, \"0\": 6}, \"0\": {\"0\": 231, \"10\": 2, \"2\": 7}, \"11\": {\"11\": 234, \"15\": 5, \"9\": 1}, \"3\": {\"3\": 239, \"8\": 1}, \"8\": {\"8\": 240}, \"7\": {\"7\": 212, \"5\": 18, \"13\": 6, \"6\": 2, \"4\": 2}, \"1\": {\"1\": 223, \"5\": 6, \"4\": 5, \"15\": 5, \"6\": 1}}, \"ORACLE.run2_26\": {\"7\": {\"2\": 79, \"7\": 126, \"4\": 6, \"3\": 16, \"8\": 6, \"15\": 7}, \"6\": {\"6\": 227, \"10\": 5, \"13\": 1, \"9\": 7}, \"14\": {\"14\": 166, \"10\": 15, \"1\": 19, \"4\": 2, \"0\": 27, \"8\": 11}, \"15\": {\"4\": 5, \"15\": 205, \"2\": 13, \"7\": 13, \"3\": 3, \"8\": 1}, \"5\": {\"13\": 56, \"5\": 167, \"3\": 3, \"7\": 2, \"2\": 10, \"6\": 1, \"8\": 1}, \"10\": {\"14\": 35, \"10\": 119, \"0\": 57, \"4\": 1, \"6\": 10, \"8\": 14, \"15\": 3, \"7\": 1}, \"4\": {\"4\": 215, \"8\": 6, \"0\": 3, \"2\": 5, \"7\": 9, \"3\": 1, \"14\": 1}, \"11\": {\"11\": 240}, \"13\": {\"13\": 226, \"5\": 11, \"9\": 3}, \"2\": {\"7\": 70, \"2\": 125, \"3\": 29, \"15\": 2, \"8\": 4, \"4\": 10}, \"0\": {\"0\": 138, \"10\": 33, \"8\": 16, \"7\": 1, \"4\": 13, \"14\": 36, \"15\": 3}, \"12\": {\"12\": 240}, \"3\": {\"3\": 197, \"2\": 24, \"7\": 16, \"15\": 3}, \"9\": {\"9\": 227, \"13\": 6, \"5\": 3, \"6\": 3, \"7\": 1}, \"8\": {\"2\": 10, \"8\": 173, \"7\": 8, \"10\": 14, \"6\": 2, \"14\": 14, \"0\": 12, \"4\": 6, \"15\": 1}, \"1\": {\"1\": 231, \"14\": 9}}, \"ORACLE.run2_32\": {\"7\": {\"5\": 7, \"7\": 209, \"11\": 11, \"4\": 11, \"13\": 1, \"0\": 1}, \"2\": {\"2\": 230, \"7\": 1, \"4\": 6, \"5\": 3}, \"5\": {\"5\": 189, \"4\": 9, \"7\": 12, \"14\": 7, \"8\": 8, \"2\": 12, \"0\": 3}, \"6\": {\"6\": 240}, \"13\": {\"13\": 202, \"4\": 29, \"7\": 4, \"11\": 3, \"0\": 2}, \"4\": {\"13\": 41, \"4\": 176, \"7\": 17, \"2\": 3, \"5\": 2, \"11\": 1}, \"3\": {\"3\": 237, \"13\": 3}, \"0\": {\"0\": 207, \"5\": 3, \"11\": 8, \"8\": 8, \"13\": 2, \"4\": 1, \"14\": 9, \"7\": 2}, \"9\": {\"9\": 240}, \"12\": {\"12\": 240}, \"8\": {\"0\": 21, \"8\": 217, \"3\": 2}, \"14\": {\"14\": 235, \"0\": 4, \"5\": 1}, \"15\": {\"15\": 240}, \"11\": {\"11\": 202, \"4\": 5, \"7\": 21, \"0\": 10, \"5\": 1, \"2\": 1}, \"10\": {\"10\": 240}, \"1\": {\"1\": 239, \"10\": 1}}, \"ORACLE.run2_44\": {\"11\": {\"11\": 239, \"13\": 1}, \"7\": {\"7\": 160, \"9\": 65, \"2\": 14, \"6\": 1}, \"6\": {\"6\": 233, \"13\": 3, \"7\": 1, \"9\": 3}, \"12\": {\"12\": 208, \"1\": 23, \"3\": 9}, \"4\": {\"4\": 235, \"14\": 2, \"13\": 1, \"15\": 2}, \"13\": {\"13\": 238, \"6\": 2}, \"8\": {\"8\": 159, \"0\": 78, \"5\": 2, \"15\": 1}, \"5\": {\"5\": 229, \"14\": 11}, \"14\": {\"5\": 7, \"14\": 211, \"4\": 8, \"15\": 14}, \"3\": {\"3\": 222, \"12\": 8, \"1\": 10}, \"10\": {\"10\": 239, \"1\": 1}, \"1\": {\"1\": 198, \"12\": 32, \"3\": 10}, \"2\": {\"9\": 28, \"2\": 201, \"7\": 11}, \"15\": {\"15\": 209, \"4\": 6, \"14\": 23, \"8\": 2}, \"9\": {\"9\": 145, \"7\": 70, \"6\": 4, \"2\": 21}, \"0\": {\"0\": 158, \"8\": 81, \"5\": 1}}, \"ORACLE.run2_8\": {\"10\": {\"0\": 7, \"10\": 215, \"5\": 14, \"14\": 3, \"13\": 1}, \"6\": {\"6\": 196, \"7\": 7, \"4\": 36, \"13\": 1}, \"13\": {\"13\": 225, \"14\": 7, \"1\": 6, \"10\": 2}, \"3\": {\"3\": 239, \"15\": 1}, \"9\": {\"9\": 240}, \"1\": {\"1\": 234, \"13\": 6}, \"5\": {\"5\": 227, \"10\": 12, \"13\": 1}, \"11\": {\"11\": 184, \"8\": 32, \"12\": 24}, \"4\": {\"7\": 61, \"4\": 128, \"6\": 51}, \"14\": {\"14\": 227, \"10\": 2, \"13\": 7, \"0\": 4}, \"12\": {\"12\": 238, \"15\": 2}, \"7\": {\"4\": 72, \"7\": 156, \"6\": 11, \"2\": 1}, \"0\": {\"0\": 225, \"10\": 10, \"14\": 5}, \"15\": {\"15\": 211, \"12\": 21, \"8\": 8}, \"2\": {\"2\": 237, \"7\": 1, \"4\": 2}, \"8\": {\"8\": 233, \"11\": 4, \"15\": 3}}, \"ORACLE.run2_38\": {\"4\": {\"4\": 240}, \"7\": {\"7\": 164, \"10\": 29, \"5\": 24, \"3\": 2, \"8\": 20, \"0\": 1}, \"12\": {\"12\": 238, \"14\": 2}, \"10\": {\"10\": 216, \"13\": 5, \"7\": 18, \"0\": 1}, \"0\": {\"0\": 232, \"3\": 6, \"8\": 1, \"7\": 1}, \"1\": {\"1\": 228, \"15\": 10, \"5\": 1, \"8\": 1}, \"5\": {\"5\": 145, \"8\": 73, \"7\": 16, \"15\": 5, \"3\": 1}, \"15\": {\"15\": 193, \"8\": 11, \"5\": 18, \"1\": 16, \"0\": 2}, \"9\": {\"9\": 237, \"6\": 3}, \"11\": {\"11\": 236, \"10\": 2, \"3\": 1, \"4\": 1}, \"14\": {\"5\": 8, \"14\": 162, \"2\": 43, \"7\": 18, \"8\": 5, \"10\": 1, \"12\": 2, \"4\": 1}, \"6\": {\"6\": 233, \"9\": 7}, \"8\": {\"8\": 140, \"5\": 68, \"7\": 25, \"0\": 1, \"13\": 1, \"15\": 3, \"14\": 1, \"10\": 1}, \"3\": {\"0\": 10, \"3\": 178, \"13\": 46, \"10\": 5, \"9\": 1}, \"2\": {\"2\": 230, \"14\": 10}, \"13\": {\"13\": 171, \"3\": 57, \"10\": 5, \"7\": 3, \"2\": 1, \"8\": 3}}}, \"per_domain_accuracy\": {\"ORACLE.run1_14\": {\"accuracy\": 0.9489583333333333, \"source?\": true}, \"ORACLE.run1_20\": {\"accuracy\": 0.9348958333333334, \"source?\": true}, \"ORACLE.run1_50\": {\"accuracy\": 0.940625, \"source?\": true}, \"ORACLE.run1_26\": {\"accuracy\": 0.8244791666666667, \"source?\": true}, \"ORACLE.run1_32\": {\"accuracy\": 0.9270833333333334, \"source?\": true}, \"ORACLE.run1_44\": {\"accuracy\": 0.82890625, \"source?\": true}, \"ORACLE.run1_8\": {\"accuracy\": 0.9283854166666666, \"source?\": true}, \"ORACLE.run1_38\": {\"accuracy\": 0.93125, \"source?\": true}, \"ORACLE.run2_14\": {\"accuracy\": 0.9106770833333333, \"source?\": false}, \"ORACLE.run2_20\": {\"accuracy\": 0.89296875, \"source?\": false}, \"ORACLE.run2_50\": {\"accuracy\": 0.9229166666666667, \"source?\": false}, \"ORACLE.run2_26\": {\"accuracy\": 0.7869791666666667, \"source?\": false}, \"ORACLE.run2_32\": {\"accuracy\": 0.92265625, \"source?\": false}, \"ORACLE.run2_44\": {\"accuracy\": 0.8552083333333333, \"source?\": false}, \"ORACLE.run2_8\": {\"accuracy\": 0.8893229166666666, \"source?\": false}, \"ORACLE.run2_38\": {\"accuracy\": 0.84453125, \"source?\": false}}}, \"history\": {\"epoch_indices\": [1, 2, 3, 4, 5, 6, 7, 8, 9, 10, 11, 12, 13, 14], \"train_label_loss\": [0.7585159232729071, 0.6564759118948131, 0.42434425953487376, 0.36336227976273566, 0.3165750056453925, 0.290644853796056, 0.26666415963797285, 0.25433419649856487, 0.23584600449259077, 0.22834927821313614, 0.21245874584939364, 0.21208520855288954, 0.19093673396732594, 0.1841523345471138], \"source_val_label_loss\": [7.163368225097656, 0.5305345058441162, 0.41181379556655884, 0.3917390704154968, 0.3163532614707947, 0.29871466755867004, 0.30361872911453247, 0.30443328619003296, 0.2879857122898102, 0.26945772767066956, 0.3069436550140381, 0.30454522371292114, 0.26514899730682373, 0.25872617959976196], \"target_val_label_loss\": [12.771272659301758, 0.8641549348831177, 1.0311564207077026, 1.249691367149353, 1.2219412326812744, 0.9829514622688293, 1.086660623550415, 0.9599133729934692, 1.7554004192352295, 1.2559692859649658, 2.049276828765869, 2.28344988822937, 3.989013195037842, 8.742166519165039], \"source_val_acc_label\": [0.7799153645833333, 0.8053385416666666, 0.84921875, 0.85615234375, 0.88623046875, 0.8964192708333333, 0.890625, 0.8908203125, 0.9006184895833333, 0.9080729166666667, 0.9006510416666667, 0.90380859375, 0.9083333333333333, 0.9096354166666667], \"target_val_acc_label\": [0.7602864583333333, 0.7900390625, 0.83173828125, 0.8364583333333333, 0.86318359375, 0.87314453125, 0.86435546875, 0.8640625, 0.87353515625, 0.8781575520833333, 0.8688151041666666, 0.8715169270833333, 0.8779947916666667, 0.8779947916666667]}, \"dataset_metrics\": {\"source\": {\"train\": {\"n_unique_x\": 179200, \"n_unique_y\": 16, \"n_batch/episode\": 6720}, \"val\": {\"n_unique_x\": 38400, \"n_unique_y\": 16, \"n_batch/episode\": 960}, \"test\": {\"n_unique_x\": 38400, \"n_unique_y\": 16, \"n_batch/episode\": 960}}, \"target\": {\"train\": {\"n_unique_x\": 179200, \"n_unique_y\": 16, \"n_batch/episode\": 6720}, \"val\": {\"n_unique_x\": 38400, \"n_unique_y\": 16, \"n_batch/episode\": 960}, \"test\": {\"n_unique_x\": 38400, \"n_unique_y\": 16, \"n_batch/episode\": 960}}}}'"
      ]
     },
     "execution_count": 29,
     "metadata": {},
     "output_type": "execute_result"
    }
   ],
   "source": [
    "json.dumps(experiment)"
   ]
  }
 ],
 "metadata": {
  "celltoolbar": "Tags",
  "kernelspec": {
   "display_name": "Python 3 (ipykernel)",
   "language": "python",
   "name": "python3"
  },
  "language_info": {
   "codemirror_mode": {
    "name": "ipython",
    "version": 3
   },
   "file_extension": ".py",
   "mimetype": "text/x-python",
   "name": "python",
   "nbconvert_exporter": "python",
   "pygments_lexer": "ipython3",
   "version": "3.8.12"
  },
  "papermill": {
   "default_parameters": {},
   "duration": 3898.691565,
   "end_time": "2022-03-21T10:54:06.169474",
   "environment_variables": {},
   "exception": null,
   "input_path": "/root/csc500-main/csc500-notebooks/templates/tl_ptn_template.ipynb",
   "output_path": "trial.ipynb",
   "parameters": {
    "parameters": {
     "BEST_MODEL_PATH": "./best_model.pth",
     "NUM_LOGS_PER_EPOCH": 10,
     "criteria_for_best": "target_accuracy",
     "dataset_seed": 420,
     "datasets": [
      {
       "domain_prefix": "ORACLE.run1_",
       "domains": [
        32,
        38,
        8,
        44,
        14,
        50,
        20,
        26
       ],
       "episode_transforms": [],
       "labels": [
        "3123D52",
        "3123D65",
        "3123D79",
        "3123D80",
        "3123D54",
        "3123D70",
        "3123D7B",
        "3123D89",
        "3123D58",
        "3123D76",
        "3123D7D",
        "3123EFE",
        "3123D64",
        "3123D78",
        "3123D7E",
        "3124E4A"
       ],
       "num_examples_per_domain_per_label": 2000,
       "pickle_path": "/root/csc500-main/datasets/oracle.Run1_framed_2000Examples_stratified_ds.2022A.pkl",
       "source_or_target_dataset": "source",
       "x_transforms": [
        "unit_power"
       ]
      },
      {
       "domain_prefix": "ORACLE.run2_",
       "domains": [
        32,
        38,
        8,
        44,
        14,
        50,
        20,
        26
       ],
       "episode_transforms": [],
       "labels": [
        "3123D52",
        "3123D65",
        "3123D79",
        "3123D80",
        "3123D54",
        "3123D70",
        "3123D7B",
        "3123D89",
        "3123D58",
        "3123D76",
        "3123D7D",
        "3123EFE",
        "3123D64",
        "3123D78",
        "3123D7E",
        "3124E4A"
       ],
       "num_examples_per_domain_per_label": 2000,
       "pickle_path": "/root/csc500-main/datasets/oracle.Run2_framed_2000Examples_stratified_ds.2022A.pkl",
       "source_or_target_dataset": "target",
       "x_transforms": [
        "unit_power"
       ]
      }
     ],
     "device": "cuda",
     "experiment_name": "tl_1v2:oracle.run1.framed-oracle.run2.framed",
     "lr": 0.0001,
     "n_epoch": 50,
     "n_query": 2,
     "n_shot": 3,
     "n_way": 16,
     "patience": 3,
     "seed": 420,
     "test_k_factor": 2,
     "torch_default_dtype": "torch.float32",
     "train_k_factor": 3,
     "val_k_factor": 2,
     "x_net": [
      {
       "class": "nnReshape",
       "kargs": {
        "shape": [
         -1,
         1,
         2,
         256
        ]
       }
      },
      {
       "class": "Conv2d",
       "kargs": {
        "bias": false,
        "in_channels": 1,
        "kernel_size": [
         1,
         7
        ],
        "out_channels": 256,
        "padding": [
         0,
         3
        ]
       }
      },
      {
       "class": "ReLU",
       "kargs": {
        "inplace": true
       }
      },
      {
       "class": "BatchNorm2d",
       "kargs": {
        "num_features": 256
       }
      },
      {
       "class": "Conv2d",
       "kargs": {
        "bias": true,
        "in_channels": 256,
        "kernel_size": [
         2,
         7
        ],
        "out_channels": 80,
        "padding": [
         0,
         3
        ]
       }
      },
      {
       "class": "ReLU",
       "kargs": {
        "inplace": true
       }
      },
      {
       "class": "BatchNorm2d",
       "kargs": {
        "num_features": 80
       }
      },
      {
       "class": "Flatten",
       "kargs": {}
      },
      {
       "class": "Linear",
       "kargs": {
        "in_features": 20480,
        "out_features": 256
       }
      },
      {
       "class": "ReLU",
       "kargs": {
        "inplace": true
       }
      },
      {
       "class": "BatchNorm1d",
       "kargs": {
        "num_features": 256
       }
      },
      {
       "class": "Linear",
       "kargs": {
        "in_features": 256,
        "out_features": 256
       }
      }
     ]
    }
   },
   "start_time": "2022-03-21T09:49:07.477909",
   "version": "2.3.4"
  }
 },
 "nbformat": 4,
 "nbformat_minor": 5
}