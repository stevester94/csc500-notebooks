{
 "cells": [
  {
   "cell_type": "markdown",
   "id": "9fea5f46",
   "metadata": {
    "papermill": {
     "duration": 0.03247,
     "end_time": "2022-03-21T22:15:56.351242",
     "exception": false,
     "start_time": "2022-03-21T22:15:56.318772",
     "status": "completed"
    },
    "tags": []
   },
   "source": [
    "# Transfer Learning Template"
   ]
  },
  {
   "cell_type": "code",
   "execution_count": 1,
   "id": "0902182a",
   "metadata": {
    "execution": {
     "iopub.execute_input": "2022-03-21T22:15:56.413344Z",
     "iopub.status.busy": "2022-03-21T22:15:56.412502Z",
     "iopub.status.idle": "2022-03-21T22:15:58.315756Z",
     "shell.execute_reply": "2022-03-21T22:15:58.315288Z"
    },
    "papermill": {
     "duration": 1.942673,
     "end_time": "2022-03-21T22:15:58.315863",
     "exception": false,
     "start_time": "2022-03-21T22:15:56.373190",
     "status": "completed"
    },
    "tags": []
   },
   "outputs": [],
   "source": [
    "%load_ext autoreload\n",
    "%autoreload 2\n",
    "%matplotlib inline\n",
    "\n",
    "    \n",
    "import os, json, sys, time, random\n",
    "import numpy as np\n",
    "import torch\n",
    "from torch.optim import Adam\n",
    "from  easydict import EasyDict\n",
    "import matplotlib.pyplot as plt\n",
    "\n",
    "from steves_models.steves_ptn import Steves_Prototypical_Network\n",
    "\n",
    "from steves_utils.lazy_iterable_wrapper import Lazy_Iterable_Wrapper\n",
    "from steves_utils.iterable_aggregator import Iterable_Aggregator\n",
    "from steves_utils.ptn_train_eval_test_jig import  PTN_Train_Eval_Test_Jig\n",
    "from steves_utils.torch_sequential_builder import build_sequential\n",
    "from steves_utils.torch_utils import get_dataset_metrics, ptn_confusion_by_domain_over_dataloader\n",
    "from steves_utils.utils_v2 import (per_domain_accuracy_from_confusion, get_datasets_base_path)\n",
    "from steves_utils.PTN.utils import independent_accuracy_assesment\n",
    "\n",
    "from torch.utils.data import DataLoader\n",
    "\n",
    "from steves_utils.stratified_dataset.episodic_accessor import Episodic_Accessor_Factory\n",
    "\n",
    "from steves_utils.ptn_do_report import (\n",
    "    get_loss_curve,\n",
    "    get_results_table,\n",
    "    get_parameters_table,\n",
    "    get_domain_accuracies,\n",
    ")\n",
    "\n",
    "from steves_utils.transforms import get_chained_transform"
   ]
  },
  {
   "cell_type": "markdown",
   "id": "41c840b4",
   "metadata": {
    "papermill": {
     "duration": 0.018889,
     "end_time": "2022-03-21T22:15:58.354437",
     "exception": false,
     "start_time": "2022-03-21T22:15:58.335548",
     "status": "completed"
    },
    "tags": []
   },
   "source": [
    "# Allowed Parameters\n",
    "These are allowed parameters, not defaults\n",
    "Each of these values need to be present in the injected parameters (the notebook will raise an exception if they are not present)\n",
    "\n",
    "Papermill uses the cell tag \"parameters\" to inject the real parameters below this cell.\n",
    "Enable tags to see what I mean"
   ]
  },
  {
   "cell_type": "code",
   "execution_count": 2,
   "id": "fd44eb83",
   "metadata": {
    "execution": {
     "iopub.execute_input": "2022-03-21T22:15:58.397931Z",
     "iopub.status.busy": "2022-03-21T22:15:58.397552Z",
     "iopub.status.idle": "2022-03-21T22:15:58.420491Z",
     "shell.execute_reply": "2022-03-21T22:15:58.419763Z"
    },
    "papermill": {
     "duration": 0.047276,
     "end_time": "2022-03-21T22:15:58.420642",
     "exception": false,
     "start_time": "2022-03-21T22:15:58.373366",
     "status": "completed"
    },
    "tags": []
   },
   "outputs": [],
   "source": [
    "required_parameters = {\n",
    "    \"experiment_name\",\n",
    "    \"lr\",\n",
    "    \"device\",\n",
    "    \"seed\",\n",
    "    \"dataset_seed\",\n",
    "    \"n_shot\",\n",
    "    \"n_query\",\n",
    "    \"n_way\",\n",
    "    \"train_k_factor\",\n",
    "    \"val_k_factor\",\n",
    "    \"test_k_factor\",\n",
    "    \"n_epoch\",\n",
    "    \"patience\",\n",
    "    \"criteria_for_best\",\n",
    "    \"x_net\",\n",
    "    \"datasets\",\n",
    "    \"torch_default_dtype\",\n",
    "    \"NUM_LOGS_PER_EPOCH\",\n",
    "    \"BEST_MODEL_PATH\",\n",
    "    \"x_shape\",\n",
    "}"
   ]
  },
  {
   "cell_type": "code",
   "execution_count": 3,
   "id": "fa3f0049",
   "metadata": {
    "execution": {
     "iopub.execute_input": "2022-03-21T22:15:58.476481Z",
     "iopub.status.busy": "2022-03-21T22:15:58.475489Z",
     "iopub.status.idle": "2022-03-21T22:15:58.498498Z",
     "shell.execute_reply": "2022-03-21T22:15:58.497697Z"
    },
    "papermill": {
     "duration": 0.05225,
     "end_time": "2022-03-21T22:15:58.498652",
     "exception": false,
     "start_time": "2022-03-21T22:15:58.446402",
     "status": "completed"
    },
    "tags": [
     "parameters"
    ]
   },
   "outputs": [],
   "source": [
    "from steves_utils.CORES.utils import (\n",
    "    ALL_NODES,\n",
    "    ALL_NODES_MINIMUM_1000_EXAMPLES,\n",
    "    ALL_DAYS\n",
    ")\n",
    "\n",
    "from steves_utils.ORACLE.utils_v2 import (\n",
    "    ALL_DISTANCES_FEET_NARROWED,\n",
    "    ALL_RUNS,\n",
    "    ALL_SERIAL_NUMBERS,\n",
    ")\n",
    "\n",
    "standalone_parameters = {}\n",
    "standalone_parameters[\"experiment_name\"] = \"STANDALONE PTN\"\n",
    "standalone_parameters[\"lr\"] = 0.001\n",
    "standalone_parameters[\"device\"] = \"cuda\"\n",
    "\n",
    "standalone_parameters[\"seed\"] = 1337\n",
    "standalone_parameters[\"dataset_seed\"] = 1337\n",
    "\n",
    "standalone_parameters[\"n_way\"] = 8\n",
    "standalone_parameters[\"n_shot\"] = 3\n",
    "standalone_parameters[\"n_query\"]  = 2\n",
    "standalone_parameters[\"train_k_factor\"] = 1\n",
    "standalone_parameters[\"val_k_factor\"] = 2\n",
    "standalone_parameters[\"test_k_factor\"] = 2\n",
    "\n",
    "\n",
    "standalone_parameters[\"n_epoch\"] = 50\n",
    "\n",
    "standalone_parameters[\"patience\"] = 10\n",
    "standalone_parameters[\"criteria_for_best\"] = \"source_loss\"\n",
    "\n",
    "standalone_parameters[\"datasets\"] = [\n",
    "    {\n",
    "        \"labels\": ALL_SERIAL_NUMBERS,\n",
    "        \"domains\": ALL_DISTANCES_FEET_NARROWED,\n",
    "        \"num_examples_per_domain_per_label\": 100,\n",
    "        \"pickle_path\": os.path.join(get_datasets_base_path(), \"oracle.Run1_framed_2000Examples_stratified_ds.2022A.pkl\"),\n",
    "        \"source_or_target_dataset\": \"source\",\n",
    "        \"x_transforms\": [\"unit_mag\", \"minus_two\"],\n",
    "        \"episode_transforms\": [],\n",
    "        \"domain_prefix\": \"ORACLE_\"\n",
    "    },\n",
    "    {\n",
    "        \"labels\": ALL_NODES,\n",
    "        \"domains\": ALL_DAYS,\n",
    "        \"num_examples_per_domain_per_label\": 100,\n",
    "        \"pickle_path\": os.path.join(get_datasets_base_path(), \"cores.stratified_ds.2022A.pkl\"),\n",
    "        \"source_or_target_dataset\": \"target\",\n",
    "        \"x_transforms\": [\"unit_power\", \"times_zero\"],\n",
    "        \"episode_transforms\": [],\n",
    "        \"domain_prefix\": \"CORES_\"\n",
    "    }   \n",
    "]\n",
    "\n",
    "standalone_parameters[\"torch_default_dtype\"] = \"torch.float32\" \n",
    "\n",
    "\n",
    "\n",
    "standalone_parameters[\"x_net\"] =     [\n",
    "    {\"class\": \"nnReshape\", \"kargs\": {\"shape\":[-1, 1, 2, 256]}},\n",
    "    {\"class\": \"Conv2d\", \"kargs\": { \"in_channels\":1, \"out_channels\":256, \"kernel_size\":(1,7), \"bias\":False, \"padding\":(0,3), },},\n",
    "    {\"class\": \"ReLU\", \"kargs\": {\"inplace\": True}},\n",
    "    {\"class\": \"BatchNorm2d\", \"kargs\": {\"num_features\":256}},\n",
    "\n",
    "    {\"class\": \"Conv2d\", \"kargs\": { \"in_channels\":256, \"out_channels\":80, \"kernel_size\":(2,7), \"bias\":True, \"padding\":(0,3), },},\n",
    "    {\"class\": \"ReLU\", \"kargs\": {\"inplace\": True}},\n",
    "    {\"class\": \"BatchNorm2d\", \"kargs\": {\"num_features\":80}},\n",
    "    {\"class\": \"Flatten\", \"kargs\": {}},\n",
    "\n",
    "    {\"class\": \"Linear\", \"kargs\": {\"in_features\": 80*256, \"out_features\": 256}}, # 80 units per IQ pair\n",
    "    {\"class\": \"ReLU\", \"kargs\": {\"inplace\": True}},\n",
    "    {\"class\": \"BatchNorm1d\", \"kargs\": {\"num_features\":256}},\n",
    "\n",
    "    {\"class\": \"Linear\", \"kargs\": {\"in_features\": 256, \"out_features\": 256}},\n",
    "]\n",
    "\n",
    "# Parameters relevant to results\n",
    "# These parameters will basically never need to change\n",
    "standalone_parameters[\"NUM_LOGS_PER_EPOCH\"] = 10\n",
    "standalone_parameters[\"BEST_MODEL_PATH\"] = \"./best_model.pth\"\n",
    "\n",
    "\n",
    "\n",
    "\n"
   ]
  },
  {
   "cell_type": "code",
   "execution_count": 4,
   "id": "b43fd1be",
   "metadata": {
    "execution": {
     "iopub.execute_input": "2022-03-21T22:15:58.560167Z",
     "iopub.status.busy": "2022-03-21T22:15:58.559233Z",
     "iopub.status.idle": "2022-03-21T22:15:58.579419Z",
     "shell.execute_reply": "2022-03-21T22:15:58.578716Z"
    },
    "papermill": {
     "duration": 0.054105,
     "end_time": "2022-03-21T22:15:58.579588",
     "exception": false,
     "start_time": "2022-03-21T22:15:58.525483",
     "status": "completed"
    },
    "tags": [
     "injected-parameters"
    ]
   },
   "outputs": [],
   "source": [
    "# Parameters\n",
    "parameters = {\n",
    "    \"experiment_name\": \"tl_1v2:oracle.run1.framed-oracle.run2.framed\",\n",
    "    \"device\": \"cuda\",\n",
    "    \"lr\": 0.0001,\n",
    "    \"n_shot\": 3,\n",
    "    \"n_query\": 2,\n",
    "    \"train_k_factor\": 3,\n",
    "    \"val_k_factor\": 2,\n",
    "    \"test_k_factor\": 2,\n",
    "    \"torch_default_dtype\": \"torch.float32\",\n",
    "    \"n_epoch\": 50,\n",
    "    \"patience\": 3,\n",
    "    \"criteria_for_best\": \"target_accuracy\",\n",
    "    \"x_net\": [\n",
    "        {\"class\": \"nnReshape\", \"kargs\": {\"shape\": [-1, 1, 2, 256]}},\n",
    "        {\n",
    "            \"class\": \"Conv2d\",\n",
    "            \"kargs\": {\n",
    "                \"in_channels\": 1,\n",
    "                \"out_channels\": 256,\n",
    "                \"kernel_size\": [1, 7],\n",
    "                \"bias\": False,\n",
    "                \"padding\": [0, 3],\n",
    "            },\n",
    "        },\n",
    "        {\"class\": \"ReLU\", \"kargs\": {\"inplace\": True}},\n",
    "        {\"class\": \"BatchNorm2d\", \"kargs\": {\"num_features\": 256}},\n",
    "        {\n",
    "            \"class\": \"Conv2d\",\n",
    "            \"kargs\": {\n",
    "                \"in_channels\": 256,\n",
    "                \"out_channels\": 80,\n",
    "                \"kernel_size\": [2, 7],\n",
    "                \"bias\": True,\n",
    "                \"padding\": [0, 3],\n",
    "            },\n",
    "        },\n",
    "        {\"class\": \"ReLU\", \"kargs\": {\"inplace\": True}},\n",
    "        {\"class\": \"BatchNorm2d\", \"kargs\": {\"num_features\": 80}},\n",
    "        {\"class\": \"Flatten\", \"kargs\": {}},\n",
    "        {\"class\": \"Linear\", \"kargs\": {\"in_features\": 20480, \"out_features\": 256}},\n",
    "        {\"class\": \"ReLU\", \"kargs\": {\"inplace\": True}},\n",
    "        {\"class\": \"BatchNorm1d\", \"kargs\": {\"num_features\": 256}},\n",
    "        {\"class\": \"Linear\", \"kargs\": {\"in_features\": 256, \"out_features\": 256}},\n",
    "    ],\n",
    "    \"NUM_LOGS_PER_EPOCH\": 10,\n",
    "    \"BEST_MODEL_PATH\": \"./best_model.pth\",\n",
    "    \"n_way\": 16,\n",
    "    \"datasets\": [\n",
    "        {\n",
    "            \"labels\": [\n",
    "                \"3123D52\",\n",
    "                \"3123D65\",\n",
    "                \"3123D79\",\n",
    "                \"3123D80\",\n",
    "                \"3123D54\",\n",
    "                \"3123D70\",\n",
    "                \"3123D7B\",\n",
    "                \"3123D89\",\n",
    "                \"3123D58\",\n",
    "                \"3123D76\",\n",
    "                \"3123D7D\",\n",
    "                \"3123EFE\",\n",
    "                \"3123D64\",\n",
    "                \"3123D78\",\n",
    "                \"3123D7E\",\n",
    "                \"3124E4A\",\n",
    "            ],\n",
    "            \"domains\": [32, 38, 8, 44, 14, 50, 20, 26],\n",
    "            \"num_examples_per_domain_per_label\": 2000,\n",
    "            \"pickle_path\": \"/root/csc500-main/datasets/oracle.Run1_framed_2000Examples_stratified_ds.2022A.pkl\",\n",
    "            \"source_or_target_dataset\": \"source\",\n",
    "            \"x_transforms\": [\"unit_power\"],\n",
    "            \"episode_transforms\": [],\n",
    "            \"domain_prefix\": \"ORACLE.run1_\",\n",
    "        },\n",
    "        {\n",
    "            \"labels\": [\n",
    "                \"3123D52\",\n",
    "                \"3123D65\",\n",
    "                \"3123D79\",\n",
    "                \"3123D80\",\n",
    "                \"3123D54\",\n",
    "                \"3123D70\",\n",
    "                \"3123D7B\",\n",
    "                \"3123D89\",\n",
    "                \"3123D58\",\n",
    "                \"3123D76\",\n",
    "                \"3123D7D\",\n",
    "                \"3123EFE\",\n",
    "                \"3123D64\",\n",
    "                \"3123D78\",\n",
    "                \"3123D7E\",\n",
    "                \"3124E4A\",\n",
    "            ],\n",
    "            \"domains\": [32, 38, 8, 44, 14, 50, 20, 26],\n",
    "            \"num_examples_per_domain_per_label\": 2000,\n",
    "            \"pickle_path\": \"/root/csc500-main/datasets/oracle.Run2_framed_2000Examples_stratified_ds.2022A.pkl\",\n",
    "            \"source_or_target_dataset\": \"target\",\n",
    "            \"x_transforms\": [\"unit_power\"],\n",
    "            \"episode_transforms\": [],\n",
    "            \"domain_prefix\": \"ORACLE.run2_\",\n",
    "        },\n",
    "    ],\n",
    "    \"dataset_seed\": 7,\n",
    "    \"seed\": 7,\n",
    "}\n"
   ]
  },
  {
   "cell_type": "code",
   "execution_count": 5,
   "id": "8fa1cc33",
   "metadata": {
    "execution": {
     "iopub.execute_input": "2022-03-21T22:15:58.633017Z",
     "iopub.status.busy": "2022-03-21T22:15:58.632336Z",
     "iopub.status.idle": "2022-03-21T22:15:58.650872Z",
     "shell.execute_reply": "2022-03-21T22:15:58.650174Z"
    },
    "papermill": {
     "duration": 0.041569,
     "end_time": "2022-03-21T22:15:58.651024",
     "exception": false,
     "start_time": "2022-03-21T22:15:58.609455",
     "status": "completed"
    },
    "tags": []
   },
   "outputs": [],
   "source": [
    "# Set this to True if you want to run this template directly\n",
    "STANDALONE = False\n",
    "if STANDALONE:\n",
    "    print(\"parameters not injected, running with standalone_parameters\")\n",
    "    parameters = standalone_parameters\n",
    "\n",
    "if not 'parameters' in locals() and not 'parameters' in globals():\n",
    "    raise Exception(\"Parameter injection failed\")\n",
    "\n",
    "#Use an easy dict for all the parameters\n",
    "p = EasyDict(parameters)\n",
    "\n",
    "if \"x_shape\" not in p:\n",
    "    p.x_shape = [2,256] # Default to this if we dont supply x_shape\n",
    "\n",
    "\n",
    "supplied_keys = set(p.keys())\n",
    "\n",
    "if  supplied_keys != required_parameters:\n",
    "    print(\"Parameters are incorrect\")\n",
    "    if len(supplied_keys - required_parameters)>0: print(\"Shouldn't have:\", str(supplied_keys - required_parameters))\n",
    "    if len(required_parameters - supplied_keys)>0: print(\"Need to have:\", str(required_parameters - supplied_keys))\n",
    "    raise RuntimeError(\"Parameters are incorrect\")"
   ]
  },
  {
   "cell_type": "code",
   "execution_count": 6,
   "id": "3a028d58",
   "metadata": {
    "execution": {
     "iopub.execute_input": "2022-03-21T22:15:58.700078Z",
     "iopub.status.busy": "2022-03-21T22:15:58.699707Z",
     "iopub.status.idle": "2022-03-21T22:15:58.718121Z",
     "shell.execute_reply": "2022-03-21T22:15:58.717459Z"
    },
    "papermill": {
     "duration": 0.040431,
     "end_time": "2022-03-21T22:15:58.718278",
     "exception": false,
     "start_time": "2022-03-21T22:15:58.677847",
     "status": "completed"
    },
    "tags": []
   },
   "outputs": [],
   "source": [
    "###################################\n",
    "# Set the RNGs and make it all deterministic\n",
    "###################################\n",
    "np.random.seed(p.seed)\n",
    "random.seed(p.seed)\n",
    "torch.manual_seed(p.seed)\n",
    "\n",
    "torch.use_deterministic_algorithms(True) "
   ]
  },
  {
   "cell_type": "code",
   "execution_count": 7,
   "id": "b691acf6",
   "metadata": {
    "execution": {
     "iopub.execute_input": "2022-03-21T22:15:58.767039Z",
     "iopub.status.busy": "2022-03-21T22:15:58.766674Z",
     "iopub.status.idle": "2022-03-21T22:15:58.787656Z",
     "shell.execute_reply": "2022-03-21T22:15:58.786943Z"
    },
    "papermill": {
     "duration": 0.044321,
     "end_time": "2022-03-21T22:15:58.787811",
     "exception": false,
     "start_time": "2022-03-21T22:15:58.743490",
     "status": "completed"
    },
    "tags": []
   },
   "outputs": [],
   "source": [
    "###########################################\n",
    "# The stratified datasets honor this\n",
    "###########################################\n",
    "torch.set_default_dtype(eval(p.torch_default_dtype))"
   ]
  },
  {
   "cell_type": "code",
   "execution_count": 8,
   "id": "b5fba671",
   "metadata": {
    "execution": {
     "iopub.execute_input": "2022-03-21T22:15:58.835616Z",
     "iopub.status.busy": "2022-03-21T22:15:58.835219Z",
     "iopub.status.idle": "2022-03-21T22:15:58.886808Z",
     "shell.execute_reply": "2022-03-21T22:15:58.886109Z"
    },
    "papermill": {
     "duration": 0.0733,
     "end_time": "2022-03-21T22:15:58.886961",
     "exception": false,
     "start_time": "2022-03-21T22:15:58.813661",
     "status": "completed"
    },
    "tags": []
   },
   "outputs": [],
   "source": [
    "###################################\n",
    "# Build the network(s)\n",
    "# Note: It's critical to do this AFTER setting the RNG\n",
    "###################################\n",
    "x_net = build_sequential(p.x_net)"
   ]
  },
  {
   "cell_type": "code",
   "execution_count": 9,
   "id": "5d7e61cc",
   "metadata": {
    "execution": {
     "iopub.execute_input": "2022-03-21T22:15:58.935875Z",
     "iopub.status.busy": "2022-03-21T22:15:58.935506Z",
     "iopub.status.idle": "2022-03-21T22:15:58.963603Z",
     "shell.execute_reply": "2022-03-21T22:15:58.962887Z"
    },
    "papermill": {
     "duration": 0.051729,
     "end_time": "2022-03-21T22:15:58.963755",
     "exception": false,
     "start_time": "2022-03-21T22:15:58.912026",
     "status": "completed"
    },
    "tags": []
   },
   "outputs": [],
   "source": [
    "start_time_secs = time.time()"
   ]
  },
  {
   "cell_type": "code",
   "execution_count": 10,
   "id": "c6b67dfd",
   "metadata": {
    "execution": {
     "iopub.execute_input": "2022-03-21T22:15:59.015077Z",
     "iopub.status.busy": "2022-03-21T22:15:59.014717Z",
     "iopub.status.idle": "2022-03-21T22:15:59.037551Z",
     "shell.execute_reply": "2022-03-21T22:15:59.036740Z"
    },
    "papermill": {
     "duration": 0.04648,
     "end_time": "2022-03-21T22:15:59.037705",
     "exception": false,
     "start_time": "2022-03-21T22:15:58.991225",
     "status": "completed"
    },
    "tags": []
   },
   "outputs": [],
   "source": [
    "p.domains_source = []\n",
    "p.domains_target = []\n",
    "\n",
    "\n",
    "train_original_source = []\n",
    "val_original_source   = []\n",
    "test_original_source  = []\n",
    "\n",
    "train_original_target = []\n",
    "val_original_target   = []\n",
    "test_original_target  = []"
   ]
  },
  {
   "cell_type": "code",
   "execution_count": 11,
   "id": "e3d9c3d3",
   "metadata": {
    "execution": {
     "iopub.execute_input": "2022-03-21T22:15:59.085885Z",
     "iopub.status.busy": "2022-03-21T22:15:59.085523Z",
     "iopub.status.idle": "2022-03-21T22:15:59.106252Z",
     "shell.execute_reply": "2022-03-21T22:15:59.105468Z"
    },
    "papermill": {
     "duration": 0.04318,
     "end_time": "2022-03-21T22:15:59.106404",
     "exception": false,
     "start_time": "2022-03-21T22:15:59.063224",
     "status": "completed"
    },
    "tags": []
   },
   "outputs": [],
   "source": [
    "# global_x_transform_func = lambda x: normalize(x.to(torch.get_default_dtype()), \"unit_power\") # unit_power, unit_mag\n",
    "# global_x_transform_func = lambda x: normalize(x, \"unit_power\") # unit_power, unit_mag"
   ]
  },
  {
   "cell_type": "code",
   "execution_count": 12,
   "id": "acb78fd2",
   "metadata": {
    "execution": {
     "iopub.execute_input": "2022-03-21T22:15:59.164552Z",
     "iopub.status.busy": "2022-03-21T22:15:59.163878Z",
     "iopub.status.idle": "2022-03-21T22:15:59.189070Z",
     "shell.execute_reply": "2022-03-21T22:15:59.189724Z"
    },
    "papermill": {
     "duration": 0.058416,
     "end_time": "2022-03-21T22:15:59.189900",
     "exception": false,
     "start_time": "2022-03-21T22:15:59.131484",
     "status": "completed"
    },
    "tags": []
   },
   "outputs": [],
   "source": [
    "def add_dataset(\n",
    "    labels,\n",
    "    domains,\n",
    "    pickle_path,\n",
    "    x_transforms,\n",
    "    episode_transforms,\n",
    "    domain_prefix,\n",
    "    num_examples_per_domain_per_label,\n",
    "    source_or_target_dataset:str,\n",
    "    iterator_seed=p.seed,\n",
    "    dataset_seed=p.dataset_seed,\n",
    "    n_shot=p.n_shot,\n",
    "    n_way=p.n_way,\n",
    "    n_query=p.n_query,\n",
    "    train_val_test_k_factors=(p.train_k_factor,p.val_k_factor,p.test_k_factor),\n",
    "):\n",
    "   \n",
    "    if x_transforms == []: x_transform = None\n",
    "    else: x_transform = get_chained_transform(x_transforms)\n",
    "    \n",
    "    if episode_transforms == []: episode_transform = None\n",
    "    else: raise Exception(\"episode_transforms not implemented\")\n",
    "    \n",
    "    episode_transform = lambda tup, _prefix=domain_prefix: (_prefix + str(tup[0]), tup[1])\n",
    "\n",
    "\n",
    "    eaf = Episodic_Accessor_Factory(\n",
    "        labels=labels,\n",
    "        domains=domains,\n",
    "        num_examples_per_domain_per_label=num_examples_per_domain_per_label,\n",
    "        iterator_seed=iterator_seed,\n",
    "        dataset_seed=dataset_seed,\n",
    "        n_shot=n_shot,\n",
    "        n_way=n_way,\n",
    "        n_query=n_query,\n",
    "        train_val_test_k_factors=train_val_test_k_factors,\n",
    "        pickle_path=pickle_path,\n",
    "        x_transform_func=x_transform,\n",
    "    )\n",
    "\n",
    "    train, val, test = eaf.get_train(), eaf.get_val(), eaf.get_test()\n",
    "    train = Lazy_Iterable_Wrapper(train, episode_transform)\n",
    "    val = Lazy_Iterable_Wrapper(val, episode_transform)\n",
    "    test = Lazy_Iterable_Wrapper(test, episode_transform)\n",
    "\n",
    "    if source_or_target_dataset==\"source\":\n",
    "        train_original_source.append(train)\n",
    "        val_original_source.append(val)\n",
    "        test_original_source.append(test)\n",
    "\n",
    "        p.domains_source.extend(\n",
    "            [domain_prefix + str(u) for u in domains]\n",
    "        )\n",
    "    elif source_or_target_dataset==\"target\":\n",
    "        train_original_target.append(train)\n",
    "        val_original_target.append(val)\n",
    "        test_original_target.append(test)\n",
    "        p.domains_target.extend(\n",
    "            [domain_prefix + str(u) for u in domains]\n",
    "        )\n",
    "    else:\n",
    "        raise Exception(f\"invalid source_or_target_dataset: {source_or_target_dataset}\")\n",
    "    "
   ]
  },
  {
   "cell_type": "code",
   "execution_count": 13,
   "id": "fe266617",
   "metadata": {
    "execution": {
     "iopub.execute_input": "2022-03-21T22:15:59.241255Z",
     "iopub.status.busy": "2022-03-21T22:15:59.240899Z",
     "iopub.status.idle": "2022-03-21T22:16:42.048037Z",
     "shell.execute_reply": "2022-03-21T22:16:42.047277Z"
    },
    "papermill": {
     "duration": 42.830467,
     "end_time": "2022-03-21T22:16:42.048226",
     "exception": false,
     "start_time": "2022-03-21T22:15:59.217759",
     "status": "completed"
    },
    "tags": []
   },
   "outputs": [],
   "source": [
    "for ds in p.datasets:\n",
    "    add_dataset(**ds)"
   ]
  },
  {
   "cell_type": "code",
   "execution_count": 14,
   "id": "b90d65ac",
   "metadata": {
    "execution": {
     "iopub.execute_input": "2022-03-21T22:16:42.100154Z",
     "iopub.status.busy": "2022-03-21T22:16:42.099776Z",
     "iopub.status.idle": "2022-03-21T22:16:42.120378Z",
     "shell.execute_reply": "2022-03-21T22:16:42.119224Z"
    },
    "papermill": {
     "duration": 0.045489,
     "end_time": "2022-03-21T22:16:42.120616",
     "exception": false,
     "start_time": "2022-03-21T22:16:42.075127",
     "status": "completed"
    },
    "tags": []
   },
   "outputs": [],
   "source": [
    "# from steves_utils.CORES.utils import (\n",
    "#     ALL_NODES,\n",
    "#     ALL_NODES_MINIMUM_1000_EXAMPLES,\n",
    "#     ALL_DAYS\n",
    "# )\n",
    "\n",
    "# add_dataset(\n",
    "#     labels=ALL_NODES,\n",
    "#     domains = ALL_DAYS,\n",
    "#     num_examples_per_domain_per_label=100,\n",
    "#     pickle_path=os.path.join(get_datasets_base_path(), \"cores.stratified_ds.2022A.pkl\"),\n",
    "#     source_or_target_dataset=\"target\",\n",
    "#     x_transform_func=global_x_transform_func,\n",
    "#     domain_modifier=lambda u: f\"cores_{u}\"\n",
    "# )"
   ]
  },
  {
   "cell_type": "code",
   "execution_count": 15,
   "id": "76db484d",
   "metadata": {
    "execution": {
     "iopub.execute_input": "2022-03-21T22:16:42.168988Z",
     "iopub.status.busy": "2022-03-21T22:16:42.168224Z",
     "iopub.status.idle": "2022-03-21T22:16:42.186026Z",
     "shell.execute_reply": "2022-03-21T22:16:42.185477Z"
    },
    "papermill": {
     "duration": 0.040118,
     "end_time": "2022-03-21T22:16:42.186134",
     "exception": false,
     "start_time": "2022-03-21T22:16:42.146016",
     "status": "completed"
    },
    "tags": []
   },
   "outputs": [],
   "source": [
    "# from steves_utils.ORACLE.utils_v2 import (\n",
    "#     ALL_DISTANCES_FEET,\n",
    "#     ALL_RUNS,\n",
    "#     ALL_SERIAL_NUMBERS,\n",
    "# )\n",
    "\n",
    "\n",
    "# add_dataset(\n",
    "#     labels=ALL_SERIAL_NUMBERS,\n",
    "#     domains = list(set(ALL_DISTANCES_FEET) - {2,62}),\n",
    "#     num_examples_per_domain_per_label=100,\n",
    "#     pickle_path=os.path.join(get_datasets_base_path(), \"oracle.Run2_framed_2000Examples_stratified_ds.2022A.pkl\"),\n",
    "#     source_or_target_dataset=\"source\",\n",
    "#     x_transform_func=global_x_transform_func,\n",
    "#     domain_modifier=lambda u: f\"oracle1_{u}\"\n",
    "# )\n"
   ]
  },
  {
   "cell_type": "code",
   "execution_count": 16,
   "id": "97dea9d2",
   "metadata": {
    "execution": {
     "iopub.execute_input": "2022-03-21T22:16:42.238275Z",
     "iopub.status.busy": "2022-03-21T22:16:42.234578Z",
     "iopub.status.idle": "2022-03-21T22:16:42.254175Z",
     "shell.execute_reply": "2022-03-21T22:16:42.253627Z"
    },
    "papermill": {
     "duration": 0.044457,
     "end_time": "2022-03-21T22:16:42.254282",
     "exception": false,
     "start_time": "2022-03-21T22:16:42.209825",
     "status": "completed"
    },
    "tags": []
   },
   "outputs": [],
   "source": [
    "# from steves_utils.ORACLE.utils_v2 import (\n",
    "#     ALL_DISTANCES_FEET,\n",
    "#     ALL_RUNS,\n",
    "#     ALL_SERIAL_NUMBERS,\n",
    "# )\n",
    "\n",
    "\n",
    "# add_dataset(\n",
    "#     labels=ALL_SERIAL_NUMBERS,\n",
    "#     domains = list(set(ALL_DISTANCES_FEET) - {2,62,56}),\n",
    "#     num_examples_per_domain_per_label=100,\n",
    "#     pickle_path=os.path.join(get_datasets_base_path(), \"oracle.Run2_framed_2000Examples_stratified_ds.2022A.pkl\"),\n",
    "#     source_or_target_dataset=\"source\",\n",
    "#     x_transform_func=global_x_transform_func,\n",
    "#     domain_modifier=lambda u: f\"oracle2_{u}\"\n",
    "# )"
   ]
  },
  {
   "cell_type": "code",
   "execution_count": 17,
   "id": "6f289866",
   "metadata": {
    "execution": {
     "iopub.execute_input": "2022-03-21T22:16:42.299872Z",
     "iopub.status.busy": "2022-03-21T22:16:42.299491Z",
     "iopub.status.idle": "2022-03-21T22:16:42.316090Z",
     "shell.execute_reply": "2022-03-21T22:16:42.315523Z"
    },
    "papermill": {
     "duration": 0.038363,
     "end_time": "2022-03-21T22:16:42.316197",
     "exception": false,
     "start_time": "2022-03-21T22:16:42.277834",
     "status": "completed"
    },
    "tags": []
   },
   "outputs": [],
   "source": [
    "# add_dataset(\n",
    "#     labels=list(range(19)),\n",
    "#     domains = [0,1,2],\n",
    "#     num_examples_per_domain_per_label=100,\n",
    "#     pickle_path=os.path.join(get_datasets_base_path(), \"metehan.stratified_ds.2022A.pkl\"),\n",
    "#     source_or_target_dataset=\"target\",\n",
    "#     x_transform_func=global_x_transform_func,\n",
    "#     domain_modifier=lambda u: f\"met_{u}\"\n",
    "# )"
   ]
  },
  {
   "cell_type": "code",
   "execution_count": 18,
   "id": "86a863c3",
   "metadata": {
    "execution": {
     "iopub.execute_input": "2022-03-21T22:16:42.366861Z",
     "iopub.status.busy": "2022-03-21T22:16:42.362620Z",
     "iopub.status.idle": "2022-03-21T22:16:42.382690Z",
     "shell.execute_reply": "2022-03-21T22:16:42.382144Z"
    },
    "papermill": {
     "duration": 0.043414,
     "end_time": "2022-03-21T22:16:42.382795",
     "exception": false,
     "start_time": "2022-03-21T22:16:42.339381",
     "status": "completed"
    },
    "tags": []
   },
   "outputs": [],
   "source": [
    "# # from steves_utils.wisig.utils import (\n",
    "# #     ALL_NODES_MINIMUM_100_EXAMPLES,\n",
    "# #     ALL_NODES_MINIMUM_500_EXAMPLES,\n",
    "# #     ALL_NODES_MINIMUM_1000_EXAMPLES,\n",
    "# #     ALL_DAYS\n",
    "# # )\n",
    "\n",
    "# import steves_utils.wisig.utils as wisig\n",
    "\n",
    "\n",
    "# add_dataset(\n",
    "#     labels=wisig.ALL_NODES_MINIMUM_100_EXAMPLES,\n",
    "#     domains = wisig.ALL_DAYS,\n",
    "#     num_examples_per_domain_per_label=100,\n",
    "#     pickle_path=os.path.join(get_datasets_base_path(), \"wisig.node3-19.stratified_ds.2022A.pkl\"),\n",
    "#     source_or_target_dataset=\"target\",\n",
    "#     x_transform_func=global_x_transform_func,\n",
    "#     domain_modifier=lambda u: f\"wisig_{u}\"\n",
    "# )"
   ]
  },
  {
   "cell_type": "code",
   "execution_count": 19,
   "id": "fd5442bc",
   "metadata": {
    "execution": {
     "iopub.execute_input": "2022-03-21T22:16:42.440623Z",
     "iopub.status.busy": "2022-03-21T22:16:42.438376Z",
     "iopub.status.idle": "2022-03-21T22:16:42.459267Z",
     "shell.execute_reply": "2022-03-21T22:16:42.458453Z"
    },
    "papermill": {
     "duration": 0.051252,
     "end_time": "2022-03-21T22:16:42.459426",
     "exception": false,
     "start_time": "2022-03-21T22:16:42.408174",
     "status": "completed"
    },
    "tags": []
   },
   "outputs": [],
   "source": [
    "###################################\n",
    "# Build the dataset\n",
    "###################################\n",
    "train_original_source = Iterable_Aggregator(train_original_source, p.seed)\n",
    "val_original_source = Iterable_Aggregator(val_original_source, p.seed)\n",
    "test_original_source = Iterable_Aggregator(test_original_source, p.seed)\n",
    "\n",
    "\n",
    "train_original_target = Iterable_Aggregator(train_original_target, p.seed)\n",
    "val_original_target = Iterable_Aggregator(val_original_target, p.seed)\n",
    "test_original_target = Iterable_Aggregator(test_original_target, p.seed)\n",
    "\n",
    "# For CNN We only use X and Y. And we only train on the source.\n",
    "# Properly form the data using a transform lambda and Lazy_Iterable_Wrapper. Finally wrap them in a dataloader\n",
    "\n",
    "transform_lambda = lambda ex: ex[1] # Original is (<domain>, <episode>) so we strip down to episode only\n",
    "\n",
    "train_processed_source = Lazy_Iterable_Wrapper(train_original_source, transform_lambda)\n",
    "val_processed_source   = Lazy_Iterable_Wrapper(val_original_source, transform_lambda)\n",
    "test_processed_source  = Lazy_Iterable_Wrapper(test_original_source, transform_lambda)\n",
    "\n",
    "train_processed_target = Lazy_Iterable_Wrapper(train_original_target, transform_lambda)\n",
    "val_processed_target   = Lazy_Iterable_Wrapper(val_original_target, transform_lambda)\n",
    "test_processed_target  = Lazy_Iterable_Wrapper(test_original_target, transform_lambda)\n",
    "\n",
    "datasets = EasyDict({\n",
    "    \"source\": {\n",
    "        \"original\": {\"train\":train_original_source, \"val\":val_original_source, \"test\":test_original_source},\n",
    "        \"processed\": {\"train\":train_processed_source, \"val\":val_processed_source, \"test\":test_processed_source}\n",
    "    },\n",
    "    \"target\": {\n",
    "        \"original\": {\"train\":train_original_target, \"val\":val_original_target, \"test\":test_original_target},\n",
    "        \"processed\": {\"train\":train_processed_target, \"val\":val_processed_target, \"test\":test_processed_target}\n",
    "    },\n",
    "})"
   ]
  },
  {
   "cell_type": "code",
   "execution_count": 20,
   "id": "5b3c01fc",
   "metadata": {
    "execution": {
     "iopub.execute_input": "2022-03-21T22:16:42.516051Z",
     "iopub.status.busy": "2022-03-21T22:16:42.515479Z",
     "iopub.status.idle": "2022-03-21T22:16:57.052218Z",
     "shell.execute_reply": "2022-03-21T22:16:57.053027Z"
    },
    "papermill": {
     "duration": 14.56396,
     "end_time": "2022-03-21T22:16:57.053250",
     "exception": false,
     "start_time": "2022-03-21T22:16:42.489290",
     "status": "completed"
    },
    "tags": []
   },
   "outputs": [
    {
     "name": "stdout",
     "output_type": "stream",
     "text": [
      "{'ORACLE.run1_44', 'ORACLE.run1_20', 'ORACLE.run1_32', 'ORACLE.run1_50', 'ORACLE.run1_38', 'ORACLE.run1_8', 'ORACLE.run1_26', 'ORACLE.run1_14'}\n"
     ]
    },
    {
     "name": "stdout",
     "output_type": "stream",
     "text": [
      "{'ORACLE.run2_50', 'ORACLE.run2_38', 'ORACLE.run2_14', 'ORACLE.run2_20', 'ORACLE.run2_8', 'ORACLE.run2_26', 'ORACLE.run2_44', 'ORACLE.run2_32'}\n"
     ]
    },
    {
     "name": "stdout",
     "output_type": "stream",
     "text": [
      "tensor([[[ 0.8613,  0.6522, -0.8613,  ..., -0.7191,  0.0084, -1.1790],\n",
      "         [-0.5435,  0.4264,  0.8863,  ..., -0.7358, -1.3044, -0.0334]],\n",
      "\n",
      "        [[ 0.4337,  1.0374, -0.6973,  ..., -0.7568,  0.8758, -0.0255],\n",
      "         [-0.3656,  0.6207,  0.3316,  ..., -0.5017, -0.9779, -0.9354]],\n",
      "\n",
      "        [[-0.3375, -0.6666,  0.8438,  ...,  0.7172, -1.0548, -0.3628],\n",
      "         [ 0.2531, -0.9029, -0.1856,  ...,  0.7594,  0.6835,  0.7848]],\n",
      "\n",
      "        ...,\n",
      "\n",
      "        [[-0.4226, -0.9694,  0.4143,  ...,  0.9694,  0.4060,  1.0771],\n",
      "         [ 1.0026,  0.0663, -1.1517,  ...,  0.0580,  1.2014, -0.2651]],\n",
      "\n",
      "        [[ 0.5145,  0.0083, -0.7385,  ..., -0.0747,  1.2446,  0.7551],\n",
      "         [ 0.0000,  1.1119, -0.4149,  ..., -0.8795,  0.1494, -0.5808]],\n",
      "\n",
      "        [[ 0.9155,  0.4773, -0.9859,  ..., -0.6495,  0.0078, -1.3146],\n",
      "         [-0.5164,  0.4930,  0.7355,  ..., -0.8060, -1.1502,  0.1252]]])\n"
     ]
    }
   ],
   "source": [
    "from steves_utils.transforms import get_average_magnitude, get_average_power\n",
    "\n",
    "print(set([u for u,_ in val_original_source]))\n",
    "print(set([u for u,_ in val_original_target]))\n",
    "\n",
    "s_x, s_y, q_x, q_y, _ = next(iter(train_processed_source))\n",
    "print(s_x)\n",
    "\n",
    "# for ds in [\n",
    "#     train_processed_source,\n",
    "#     val_processed_source,\n",
    "#     test_processed_source,\n",
    "#     train_processed_target,\n",
    "#     val_processed_target,\n",
    "#     test_processed_target\n",
    "# ]:\n",
    "#     for s_x, s_y, q_x, q_y, _ in ds:\n",
    "#         for X in (s_x, q_x):\n",
    "#             for x in X:\n",
    "#                 assert np.isclose(get_average_magnitude(x.numpy()), 1.0)\n",
    "#                 assert np.isclose(get_average_power(x.numpy()), 1.0)\n",
    "                "
   ]
  },
  {
   "cell_type": "code",
   "execution_count": 21,
   "id": "bbdacba1",
   "metadata": {
    "execution": {
     "iopub.execute_input": "2022-03-21T22:16:57.111738Z",
     "iopub.status.busy": "2022-03-21T22:16:57.111022Z",
     "iopub.status.idle": "2022-03-21T22:16:57.367982Z",
     "shell.execute_reply": "2022-03-21T22:16:57.368321Z"
    },
    "papermill": {
     "duration": 0.284651,
     "end_time": "2022-03-21T22:16:57.368477",
     "exception": false,
     "start_time": "2022-03-21T22:16:57.083826",
     "status": "completed"
    },
    "tags": []
   },
   "outputs": [
    {
     "name": "stdout",
     "output_type": "stream",
     "text": [
      "(2, 256)\n"
     ]
    }
   ],
   "source": [
    "###################################\n",
    "# Build the model\n",
    "###################################\n",
    "# easfsl only wants a tuple for the shape\n",
    "model = Steves_Prototypical_Network(x_net, device=p.device, x_shape=tuple(p.x_shape))\n",
    "optimizer = Adam(params=model.parameters(), lr=p.lr)"
   ]
  },
  {
   "cell_type": "code",
   "execution_count": 22,
   "id": "22b39ac5",
   "metadata": {
    "execution": {
     "iopub.execute_input": "2022-03-21T22:16:57.416804Z",
     "iopub.status.busy": "2022-03-21T22:16:57.416422Z",
     "iopub.status.idle": "2022-03-21T23:24:54.237158Z",
     "shell.execute_reply": "2022-03-21T23:24:54.236823Z"
    },
    "papermill": {
     "duration": 4076.84585,
     "end_time": "2022-03-21T23:24:54.237242",
     "exception": false,
     "start_time": "2022-03-21T22:16:57.391392",
     "status": "completed"
    },
    "tags": []
   },
   "outputs": [
    {
     "name": "stdout",
     "output_type": "stream",
     "text": [
      "epoch: 1, [batch: 1 / 6720], examples_per_second: 33.0368, train_label_loss: 3.1050, \n"
     ]
    },
    {
     "name": "stdout",
     "output_type": "stream",
     "text": [
      "epoch: 1, [batch: 672 / 6720], examples_per_second: 4537.6911, train_label_loss: 1.5277, \n"
     ]
    },
    {
     "name": "stdout",
     "output_type": "stream",
     "text": [
      "epoch: 1, [batch: 1344 / 6720], examples_per_second: 4864.4390, train_label_loss: 0.7470, \n"
     ]
    },
    {
     "name": "stdout",
     "output_type": "stream",
     "text": [
      "epoch: 1, [batch: 2016 / 6720], examples_per_second: 4891.5248, train_label_loss: 0.7994, \n"
     ]
    },
    {
     "name": "stdout",
     "output_type": "stream",
     "text": [
      "epoch: 1, [batch: 2688 / 6720], examples_per_second: 4992.6789, train_label_loss: 0.6936, \n"
     ]
    },
    {
     "name": "stdout",
     "output_type": "stream",
     "text": [
      "epoch: 1, [batch: 3360 / 6720], examples_per_second: 5098.9990, train_label_loss: 0.4978, \n"
     ]
    },
    {
     "name": "stdout",
     "output_type": "stream",
     "text": [
      "epoch: 1, [batch: 4032 / 6720], examples_per_second: 5168.2491, train_label_loss: 0.7208, \n"
     ]
    },
    {
     "name": "stdout",
     "output_type": "stream",
     "text": [
      "epoch: 1, [batch: 4704 / 6720], examples_per_second: 4831.1243, train_label_loss: 0.5575, \n"
     ]
    },
    {
     "name": "stdout",
     "output_type": "stream",
     "text": [
      "epoch: 1, [batch: 5376 / 6720], examples_per_second: 5123.6066, train_label_loss: 0.9458, \n"
     ]
    },
    {
     "name": "stdout",
     "output_type": "stream",
     "text": [
      "epoch: 1, [batch: 6048 / 6720], examples_per_second: 3998.2062, train_label_loss: 0.4591, \n"
     ]
    },
    {
     "name": "stdout",
     "output_type": "stream",
     "text": [
      "=============================================================\n",
      "epoch: 1, source_val_acc_label: 0.7646, target_val_acc_label: 0.7481, source_val_label_loss: 7.3736, target_val_label_loss: 10.7537, \n",
      "=============================================================\n"
     ]
    },
    {
     "name": "stdout",
     "output_type": "stream",
     "text": [
      "New best\n"
     ]
    },
    {
     "name": "stdout",
     "output_type": "stream",
     "text": [
      "epoch: 2, [batch: 1 / 6720], examples_per_second: 3.8879, train_label_loss: 0.8920, \n"
     ]
    },
    {
     "name": "stdout",
     "output_type": "stream",
     "text": [
      "epoch: 2, [batch: 672 / 6720], examples_per_second: 3705.1126, train_label_loss: 0.8884, \n"
     ]
    },
    {
     "name": "stdout",
     "output_type": "stream",
     "text": [
      "epoch: 2, [batch: 1344 / 6720], examples_per_second: 3852.6256, train_label_loss: 0.7650, \n"
     ]
    },
    {
     "name": "stdout",
     "output_type": "stream",
     "text": [
      "epoch: 2, [batch: 2016 / 6720], examples_per_second: 3925.0293, train_label_loss: 0.3636, \n"
     ]
    },
    {
     "name": "stdout",
     "output_type": "stream",
     "text": [
      "epoch: 2, [batch: 2688 / 6720], examples_per_second: 3948.8178, train_label_loss: 0.7663, \n"
     ]
    },
    {
     "name": "stdout",
     "output_type": "stream",
     "text": [
      "epoch: 2, [batch: 3360 / 6720], examples_per_second: 3304.4880, train_label_loss: 0.4928, \n"
     ]
    },
    {
     "name": "stdout",
     "output_type": "stream",
     "text": [
      "epoch: 2, [batch: 4032 / 6720], examples_per_second: 3375.2749, train_label_loss: 0.2621, \n"
     ]
    },
    {
     "name": "stdout",
     "output_type": "stream",
     "text": [
      "epoch: 2, [batch: 4704 / 6720], examples_per_second: 3471.8644, train_label_loss: 0.4555, \n"
     ]
    },
    {
     "name": "stdout",
     "output_type": "stream",
     "text": [
      "epoch: 2, [batch: 5376 / 6720], examples_per_second: 3352.2794, train_label_loss: 0.0987, \n"
     ]
    },
    {
     "name": "stdout",
     "output_type": "stream",
     "text": [
      "epoch: 2, [batch: 6048 / 6720], examples_per_second: 3402.6722, train_label_loss: 0.5000, \n"
     ]
    },
    {
     "name": "stdout",
     "output_type": "stream",
     "text": [
      "=============================================================\n",
      "epoch: 2, source_val_acc_label: 0.8206, target_val_acc_label: 0.8054, source_val_label_loss: 0.4962, target_val_label_loss: 0.6423, \n",
      "=============================================================\n"
     ]
    },
    {
     "name": "stdout",
     "output_type": "stream",
     "text": [
      "New best\n"
     ]
    },
    {
     "name": "stdout",
     "output_type": "stream",
     "text": [
      "epoch: 3, [batch: 1 / 6720], examples_per_second: 3.2952, train_label_loss: 0.1139, \n"
     ]
    },
    {
     "name": "stdout",
     "output_type": "stream",
     "text": [
      "epoch: 3, [batch: 672 / 6720], examples_per_second: 3034.9167, train_label_loss: 0.4876, \n"
     ]
    },
    {
     "name": "stdout",
     "output_type": "stream",
     "text": [
      "epoch: 3, [batch: 1344 / 6720], examples_per_second: 3034.4555, train_label_loss: 0.1805, \n"
     ]
    },
    {
     "name": "stdout",
     "output_type": "stream",
     "text": [
      "epoch: 3, [batch: 2016 / 6720], examples_per_second: 2994.3376, train_label_loss: 0.5671, \n"
     ]
    },
    {
     "name": "stdout",
     "output_type": "stream",
     "text": [
      "epoch: 3, [batch: 2688 / 6720], examples_per_second: 2932.0632, train_label_loss: 0.4447, \n"
     ]
    },
    {
     "name": "stdout",
     "output_type": "stream",
     "text": [
      "epoch: 3, [batch: 3360 / 6720], examples_per_second: 2959.5313, train_label_loss: 0.5799, \n"
     ]
    },
    {
     "name": "stdout",
     "output_type": "stream",
     "text": [
      "epoch: 3, [batch: 4032 / 6720], examples_per_second: 2952.8736, train_label_loss: 0.3489, \n"
     ]
    },
    {
     "name": "stdout",
     "output_type": "stream",
     "text": [
      "epoch: 3, [batch: 4704 / 6720], examples_per_second: 2975.5307, train_label_loss: 0.2814, \n"
     ]
    },
    {
     "name": "stdout",
     "output_type": "stream",
     "text": [
      "epoch: 3, [batch: 5376 / 6720], examples_per_second: 2977.7095, train_label_loss: 0.5323, \n"
     ]
    },
    {
     "name": "stdout",
     "output_type": "stream",
     "text": [
      "epoch: 3, [batch: 6048 / 6720], examples_per_second: 3018.4766, train_label_loss: 0.4794, \n"
     ]
    },
    {
     "name": "stdout",
     "output_type": "stream",
     "text": [
      "=============================================================\n",
      "epoch: 3, source_val_acc_label: 0.8446, target_val_acc_label: 0.8296, source_val_label_loss: 0.4325, target_val_label_loss: 0.6566, \n",
      "=============================================================\n"
     ]
    },
    {
     "name": "stdout",
     "output_type": "stream",
     "text": [
      "New best\n"
     ]
    },
    {
     "name": "stdout",
     "output_type": "stream",
     "text": [
      "epoch: 4, [batch: 1 / 6720], examples_per_second: 3.1367, train_label_loss: 0.3977, \n"
     ]
    },
    {
     "name": "stdout",
     "output_type": "stream",
     "text": [
      "epoch: 4, [batch: 672 / 6720], examples_per_second: 3383.7231, train_label_loss: 0.1709, \n"
     ]
    },
    {
     "name": "stdout",
     "output_type": "stream",
     "text": [
      "epoch: 4, [batch: 1344 / 6720], examples_per_second: 3347.9296, train_label_loss: 0.5366, \n"
     ]
    },
    {
     "name": "stdout",
     "output_type": "stream",
     "text": [
      "epoch: 4, [batch: 2016 / 6720], examples_per_second: 3515.6611, train_label_loss: 0.3582, \n"
     ]
    },
    {
     "name": "stdout",
     "output_type": "stream",
     "text": [
      "epoch: 4, [batch: 2688 / 6720], examples_per_second: 3126.9875, train_label_loss: 0.2229, \n"
     ]
    },
    {
     "name": "stdout",
     "output_type": "stream",
     "text": [
      "epoch: 4, [batch: 3360 / 6720], examples_per_second: 2951.8871, train_label_loss: 0.3152, \n"
     ]
    },
    {
     "name": "stdout",
     "output_type": "stream",
     "text": [
      "epoch: 4, [batch: 4032 / 6720], examples_per_second: 2934.2659, train_label_loss: 0.1392, \n"
     ]
    },
    {
     "name": "stdout",
     "output_type": "stream",
     "text": [
      "epoch: 4, [batch: 4704 / 6720], examples_per_second: 2939.5506, train_label_loss: 0.7958, \n"
     ]
    },
    {
     "name": "stdout",
     "output_type": "stream",
     "text": [
      "epoch: 4, [batch: 5376 / 6720], examples_per_second: 2912.1243, train_label_loss: 0.1374, \n"
     ]
    },
    {
     "name": "stdout",
     "output_type": "stream",
     "text": [
      "epoch: 4, [batch: 6048 / 6720], examples_per_second: 2926.5280, train_label_loss: 0.2004, \n"
     ]
    },
    {
     "name": "stdout",
     "output_type": "stream",
     "text": [
      "=============================================================\n",
      "epoch: 4, source_val_acc_label: 0.8778, target_val_acc_label: 0.8644, source_val_label_loss: 0.3381, target_val_label_loss: 0.6201, \n",
      "=============================================================\n"
     ]
    },
    {
     "name": "stdout",
     "output_type": "stream",
     "text": [
      "New best\n"
     ]
    },
    {
     "name": "stdout",
     "output_type": "stream",
     "text": [
      "epoch: 5, [batch: 1 / 6720], examples_per_second: 2.7369, train_label_loss: 0.6681, \n"
     ]
    },
    {
     "name": "stdout",
     "output_type": "stream",
     "text": [
      "epoch: 5, [batch: 672 / 6720], examples_per_second: 3370.1573, train_label_loss: 0.3071, \n"
     ]
    },
    {
     "name": "stdout",
     "output_type": "stream",
     "text": [
      "epoch: 5, [batch: 1344 / 6720], examples_per_second: 3337.8375, train_label_loss: 0.2888, \n"
     ]
    },
    {
     "name": "stdout",
     "output_type": "stream",
     "text": [
      "epoch: 5, [batch: 2016 / 6720], examples_per_second: 3391.2885, train_label_loss: 0.2177, \n"
     ]
    },
    {
     "name": "stdout",
     "output_type": "stream",
     "text": [
      "epoch: 5, [batch: 2688 / 6720], examples_per_second: 3313.8061, train_label_loss: 0.1591, \n"
     ]
    },
    {
     "name": "stdout",
     "output_type": "stream",
     "text": [
      "epoch: 5, [batch: 3360 / 6720], examples_per_second: 3334.7243, train_label_loss: 0.4246, \n"
     ]
    },
    {
     "name": "stdout",
     "output_type": "stream",
     "text": [
      "epoch: 5, [batch: 4032 / 6720], examples_per_second: 3374.0708, train_label_loss: 0.3289, \n"
     ]
    },
    {
     "name": "stdout",
     "output_type": "stream",
     "text": [
      "epoch: 5, [batch: 4704 / 6720], examples_per_second: 3424.2041, train_label_loss: 0.2481, \n"
     ]
    },
    {
     "name": "stdout",
     "output_type": "stream",
     "text": [
      "epoch: 5, [batch: 5376 / 6720], examples_per_second: 2949.1428, train_label_loss: 0.1643, \n"
     ]
    },
    {
     "name": "stdout",
     "output_type": "stream",
     "text": [
      "epoch: 5, [batch: 6048 / 6720], examples_per_second: 2948.0483, train_label_loss: 0.0763, \n"
     ]
    },
    {
     "name": "stdout",
     "output_type": "stream",
     "text": [
      "=============================================================\n",
      "epoch: 5, source_val_acc_label: 0.8834, target_val_acc_label: 0.8666, source_val_label_loss: 0.3353, target_val_label_loss: 0.6798, \n",
      "=============================================================\n"
     ]
    },
    {
     "name": "stdout",
     "output_type": "stream",
     "text": [
      "New best\n"
     ]
    },
    {
     "name": "stdout",
     "output_type": "stream",
     "text": [
      "epoch: 6, [batch: 1 / 6720], examples_per_second: 2.7302, train_label_loss: 0.2102, \n"
     ]
    },
    {
     "name": "stdout",
     "output_type": "stream",
     "text": [
      "epoch: 6, [batch: 672 / 6720], examples_per_second: 2944.7333, train_label_loss: 0.3779, \n"
     ]
    },
    {
     "name": "stdout",
     "output_type": "stream",
     "text": [
      "epoch: 6, [batch: 1344 / 6720], examples_per_second: 2963.4559, train_label_loss: 0.1516, \n"
     ]
    },
    {
     "name": "stdout",
     "output_type": "stream",
     "text": [
      "epoch: 6, [batch: 2016 / 6720], examples_per_second: 2923.3633, train_label_loss: 0.3059, \n"
     ]
    },
    {
     "name": "stdout",
     "output_type": "stream",
     "text": [
      "epoch: 6, [batch: 2688 / 6720], examples_per_second: 3205.5433, train_label_loss: 0.0208, \n"
     ]
    },
    {
     "name": "stdout",
     "output_type": "stream",
     "text": [
      "epoch: 6, [batch: 3360 / 6720], examples_per_second: 3488.0505, train_label_loss: 0.3127, \n"
     ]
    },
    {
     "name": "stdout",
     "output_type": "stream",
     "text": [
      "epoch: 6, [batch: 4032 / 6720], examples_per_second: 3757.2010, train_label_loss: 0.1181, \n"
     ]
    },
    {
     "name": "stdout",
     "output_type": "stream",
     "text": [
      "epoch: 6, [batch: 4704 / 6720], examples_per_second: 3672.3198, train_label_loss: 0.1907, \n"
     ]
    },
    {
     "name": "stdout",
     "output_type": "stream",
     "text": [
      "epoch: 6, [batch: 5376 / 6720], examples_per_second: 3690.4528, train_label_loss: 0.3010, \n"
     ]
    },
    {
     "name": "stdout",
     "output_type": "stream",
     "text": [
      "epoch: 6, [batch: 6048 / 6720], examples_per_second: 3740.7682, train_label_loss: 0.2537, \n"
     ]
    },
    {
     "name": "stdout",
     "output_type": "stream",
     "text": [
      "=============================================================\n",
      "epoch: 6, source_val_acc_label: 0.8759, target_val_acc_label: 0.8551, source_val_label_loss: 0.3459, target_val_label_loss: 0.7339, \n",
      "=============================================================\n"
     ]
    },
    {
     "name": "stdout",
     "output_type": "stream",
     "text": [
      "epoch: 7, [batch: 1 / 6720], examples_per_second: 3.7992, train_label_loss: 0.0416, \n"
     ]
    },
    {
     "name": "stdout",
     "output_type": "stream",
     "text": [
      "epoch: 7, [batch: 672 / 6720], examples_per_second: 3335.5575, train_label_loss: 0.2025, \n"
     ]
    },
    {
     "name": "stdout",
     "output_type": "stream",
     "text": [
      "epoch: 7, [batch: 1344 / 6720], examples_per_second: 3007.1372, train_label_loss: 0.5715, \n"
     ]
    },
    {
     "name": "stdout",
     "output_type": "stream",
     "text": [
      "epoch: 7, [batch: 2016 / 6720], examples_per_second: 2972.2369, train_label_loss: 0.2227, \n"
     ]
    },
    {
     "name": "stdout",
     "output_type": "stream",
     "text": [
      "epoch: 7, [batch: 2688 / 6720], examples_per_second: 2957.6287, train_label_loss: 0.0217, \n"
     ]
    },
    {
     "name": "stdout",
     "output_type": "stream",
     "text": [
      "epoch: 7, [batch: 3360 / 6720], examples_per_second: 2990.0182, train_label_loss: 0.4004, \n"
     ]
    },
    {
     "name": "stdout",
     "output_type": "stream",
     "text": [
      "epoch: 7, [batch: 4032 / 6720], examples_per_second: 2998.8962, train_label_loss: 0.1959, \n"
     ]
    },
    {
     "name": "stdout",
     "output_type": "stream",
     "text": [
      "epoch: 7, [batch: 4704 / 6720], examples_per_second: 2973.9994, train_label_loss: 0.2958, \n"
     ]
    },
    {
     "name": "stdout",
     "output_type": "stream",
     "text": [
      "epoch: 7, [batch: 5376 / 6720], examples_per_second: 3233.1213, train_label_loss: 0.3797, \n"
     ]
    },
    {
     "name": "stdout",
     "output_type": "stream",
     "text": [
      "epoch: 7, [batch: 6048 / 6720], examples_per_second: 3383.3696, train_label_loss: 0.2697, \n"
     ]
    },
    {
     "name": "stdout",
     "output_type": "stream",
     "text": [
      "=============================================================\n",
      "epoch: 7, source_val_acc_label: 0.8919, target_val_acc_label: 0.8730, source_val_label_loss: 0.3018, target_val_label_loss: 0.7768, \n",
      "=============================================================\n"
     ]
    },
    {
     "name": "stdout",
     "output_type": "stream",
     "text": [
      "New best\n"
     ]
    },
    {
     "name": "stdout",
     "output_type": "stream",
     "text": [
      "epoch: 8, [batch: 1 / 6720], examples_per_second: 3.0949, train_label_loss: 0.1681, \n"
     ]
    },
    {
     "name": "stdout",
     "output_type": "stream",
     "text": [
      "epoch: 8, [batch: 672 / 6720], examples_per_second: 3552.2196, train_label_loss: 0.2074, \n"
     ]
    },
    {
     "name": "stdout",
     "output_type": "stream",
     "text": [
      "epoch: 8, [batch: 1344 / 6720], examples_per_second: 3192.0503, train_label_loss: 0.1902, \n"
     ]
    },
    {
     "name": "stdout",
     "output_type": "stream",
     "text": [
      "epoch: 8, [batch: 2016 / 6720], examples_per_second: 3005.5919, train_label_loss: 0.7268, \n"
     ]
    },
    {
     "name": "stdout",
     "output_type": "stream",
     "text": [
      "epoch: 8, [batch: 2688 / 6720], examples_per_second: 2974.1302, train_label_loss: 0.5914, \n"
     ]
    },
    {
     "name": "stdout",
     "output_type": "stream",
     "text": [
      "epoch: 8, [batch: 3360 / 6720], examples_per_second: 2982.9944, train_label_loss: 0.1839, \n"
     ]
    },
    {
     "name": "stdout",
     "output_type": "stream",
     "text": [
      "epoch: 8, [batch: 4032 / 6720], examples_per_second: 2945.5188, train_label_loss: 0.1689, \n"
     ]
    },
    {
     "name": "stdout",
     "output_type": "stream",
     "text": [
      "epoch: 8, [batch: 4704 / 6720], examples_per_second: 2940.7232, train_label_loss: 0.1512, \n"
     ]
    },
    {
     "name": "stdout",
     "output_type": "stream",
     "text": [
      "epoch: 8, [batch: 5376 / 6720], examples_per_second: 2988.1505, train_label_loss: 0.1870, \n"
     ]
    },
    {
     "name": "stdout",
     "output_type": "stream",
     "text": [
      "epoch: 8, [batch: 6048 / 6720], examples_per_second: 3034.4827, train_label_loss: 0.6729, \n"
     ]
    },
    {
     "name": "stdout",
     "output_type": "stream",
     "text": [
      "=============================================================\n",
      "epoch: 8, source_val_acc_label: 0.8950, target_val_acc_label: 0.8744, source_val_label_loss: 0.2968, target_val_label_loss: 0.8419, \n",
      "=============================================================\n"
     ]
    },
    {
     "name": "stdout",
     "output_type": "stream",
     "text": [
      "New best\n"
     ]
    },
    {
     "name": "stdout",
     "output_type": "stream",
     "text": [
      "epoch: 9, [batch: 1 / 6720], examples_per_second: 2.9678, train_label_loss: 0.0756, \n"
     ]
    },
    {
     "name": "stdout",
     "output_type": "stream",
     "text": [
      "epoch: 9, [batch: 672 / 6720], examples_per_second: 3386.7912, train_label_loss: 0.1825, \n"
     ]
    },
    {
     "name": "stdout",
     "output_type": "stream",
     "text": [
      "epoch: 9, [batch: 1344 / 6720], examples_per_second: 3495.5725, train_label_loss: 0.1275, \n"
     ]
    },
    {
     "name": "stdout",
     "output_type": "stream",
     "text": [
      "epoch: 9, [batch: 2016 / 6720], examples_per_second: 3483.4725, train_label_loss: 0.1822, \n"
     ]
    },
    {
     "name": "stdout",
     "output_type": "stream",
     "text": [
      "epoch: 9, [batch: 2688 / 6720], examples_per_second: 3362.2337, train_label_loss: 0.2110, \n"
     ]
    },
    {
     "name": "stdout",
     "output_type": "stream",
     "text": [
      "epoch: 9, [batch: 3360 / 6720], examples_per_second: 3569.7665, train_label_loss: 0.1083, \n"
     ]
    },
    {
     "name": "stdout",
     "output_type": "stream",
     "text": [
      "epoch: 9, [batch: 4032 / 6720], examples_per_second: 2923.4988, train_label_loss: 0.1523, \n"
     ]
    },
    {
     "name": "stdout",
     "output_type": "stream",
     "text": [
      "epoch: 9, [batch: 4704 / 6720], examples_per_second: 2957.4408, train_label_loss: 0.0097, \n"
     ]
    },
    {
     "name": "stdout",
     "output_type": "stream",
     "text": [
      "epoch: 9, [batch: 5376 / 6720], examples_per_second: 2993.4022, train_label_loss: 0.1999, \n"
     ]
    },
    {
     "name": "stdout",
     "output_type": "stream",
     "text": [
      "epoch: 9, [batch: 6048 / 6720], examples_per_second: 3035.0271, train_label_loss: 0.3300, \n"
     ]
    },
    {
     "name": "stdout",
     "output_type": "stream",
     "text": [
      "=============================================================\n",
      "epoch: 9, source_val_acc_label: 0.9042, target_val_acc_label: 0.8805, source_val_label_loss: 0.2804, target_val_label_loss: 1.0104, \n",
      "=============================================================\n"
     ]
    },
    {
     "name": "stdout",
     "output_type": "stream",
     "text": [
      "New best\n"
     ]
    },
    {
     "name": "stdout",
     "output_type": "stream",
     "text": [
      "epoch: 10, [batch: 1 / 6720], examples_per_second: 2.7520, train_label_loss: 0.1932, \n"
     ]
    },
    {
     "name": "stdout",
     "output_type": "stream",
     "text": [
      "epoch: 10, [batch: 672 / 6720], examples_per_second: 2916.7863, train_label_loss: 0.8523, \n"
     ]
    },
    {
     "name": "stdout",
     "output_type": "stream",
     "text": [
      "epoch: 10, [batch: 1344 / 6720], examples_per_second: 3110.2430, train_label_loss: 0.1766, \n"
     ]
    },
    {
     "name": "stdout",
     "output_type": "stream",
     "text": [
      "epoch: 10, [batch: 2016 / 6720], examples_per_second: 3356.0993, train_label_loss: 0.2219, \n"
     ]
    },
    {
     "name": "stdout",
     "output_type": "stream",
     "text": [
      "epoch: 10, [batch: 2688 / 6720], examples_per_second: 3298.8525, train_label_loss: 0.3142, \n"
     ]
    },
    {
     "name": "stdout",
     "output_type": "stream",
     "text": [
      "epoch: 10, [batch: 3360 / 6720], examples_per_second: 3450.0006, train_label_loss: 0.1161, \n"
     ]
    },
    {
     "name": "stdout",
     "output_type": "stream",
     "text": [
      "epoch: 10, [batch: 4032 / 6720], examples_per_second: 3413.6287, train_label_loss: 0.3548, \n"
     ]
    },
    {
     "name": "stdout",
     "output_type": "stream",
     "text": [
      "epoch: 10, [batch: 4704 / 6720], examples_per_second: 3361.7419, train_label_loss: 0.0946, \n"
     ]
    },
    {
     "name": "stdout",
     "output_type": "stream",
     "text": [
      "epoch: 10, [batch: 5376 / 6720], examples_per_second: 3456.4049, train_label_loss: 0.1665, \n"
     ]
    },
    {
     "name": "stdout",
     "output_type": "stream",
     "text": [
      "epoch: 10, [batch: 6048 / 6720], examples_per_second: 3459.8635, train_label_loss: 0.0434, \n"
     ]
    },
    {
     "name": "stdout",
     "output_type": "stream",
     "text": [
      "=============================================================\n",
      "epoch: 10, source_val_acc_label: 0.8981, target_val_acc_label: 0.8731, source_val_label_loss: 0.3143, target_val_label_loss: 1.0475, \n",
      "=============================================================\n"
     ]
    },
    {
     "name": "stdout",
     "output_type": "stream",
     "text": [
      "epoch: 11, [batch: 1 / 6720], examples_per_second: 3.1362, train_label_loss: 0.1735, \n"
     ]
    },
    {
     "name": "stdout",
     "output_type": "stream",
     "text": [
      "epoch: 11, [batch: 672 / 6720], examples_per_second: 3579.0496, train_label_loss: 0.0729, \n"
     ]
    },
    {
     "name": "stdout",
     "output_type": "stream",
     "text": [
      "epoch: 11, [batch: 1344 / 6720], examples_per_second: 3909.0426, train_label_loss: 0.6327, \n"
     ]
    },
    {
     "name": "stdout",
     "output_type": "stream",
     "text": [
      "epoch: 11, [batch: 2016 / 6720], examples_per_second: 3739.9300, train_label_loss: 0.0566, \n"
     ]
    },
    {
     "name": "stdout",
     "output_type": "stream",
     "text": [
      "epoch: 11, [batch: 2688 / 6720], examples_per_second: 3696.6976, train_label_loss: 0.2208, \n"
     ]
    },
    {
     "name": "stdout",
     "output_type": "stream",
     "text": [
      "epoch: 11, [batch: 3360 / 6720], examples_per_second: 3711.8343, train_label_loss: 0.0469, \n"
     ]
    },
    {
     "name": "stdout",
     "output_type": "stream",
     "text": [
      "epoch: 11, [batch: 4032 / 6720], examples_per_second: 3954.9415, train_label_loss: 0.5407, \n"
     ]
    },
    {
     "name": "stdout",
     "output_type": "stream",
     "text": [
      "epoch: 11, [batch: 4704 / 6720], examples_per_second: 3959.4003, train_label_loss: 0.2561, \n"
     ]
    },
    {
     "name": "stdout",
     "output_type": "stream",
     "text": [
      "epoch: 11, [batch: 5376 / 6720], examples_per_second: 4679.6234, train_label_loss: 0.0368, \n"
     ]
    },
    {
     "name": "stdout",
     "output_type": "stream",
     "text": [
      "epoch: 11, [batch: 6048 / 6720], examples_per_second: 3973.3367, train_label_loss: 0.1397, \n"
     ]
    },
    {
     "name": "stdout",
     "output_type": "stream",
     "text": [
      "=============================================================\n",
      "epoch: 11, source_val_acc_label: 0.9027, target_val_acc_label: 0.8754, source_val_label_loss: 0.3338, target_val_label_loss: 1.1484, \n",
      "=============================================================\n"
     ]
    },
    {
     "name": "stdout",
     "output_type": "stream",
     "text": [
      "epoch: 12, [batch: 1 / 6720], examples_per_second: 3.1533, train_label_loss: 0.1066, \n"
     ]
    },
    {
     "name": "stdout",
     "output_type": "stream",
     "text": [
      "epoch: 12, [batch: 672 / 6720], examples_per_second: 3358.1002, train_label_loss: 0.0390, \n"
     ]
    },
    {
     "name": "stdout",
     "output_type": "stream",
     "text": [
      "epoch: 12, [batch: 1344 / 6720], examples_per_second: 3323.2391, train_label_loss: 0.2582, \n"
     ]
    },
    {
     "name": "stdout",
     "output_type": "stream",
     "text": [
      "epoch: 12, [batch: 2016 / 6720], examples_per_second: 3423.9541, train_label_loss: 0.0260, \n"
     ]
    },
    {
     "name": "stdout",
     "output_type": "stream",
     "text": [
      "epoch: 12, [batch: 2688 / 6720], examples_per_second: 3373.1782, train_label_loss: 0.1239, \n"
     ]
    },
    {
     "name": "stdout",
     "output_type": "stream",
     "text": [
      "epoch: 12, [batch: 3360 / 6720], examples_per_second: 3382.1617, train_label_loss: 0.0404, \n"
     ]
    },
    {
     "name": "stdout",
     "output_type": "stream",
     "text": [
      "epoch: 12, [batch: 4032 / 6720], examples_per_second: 3441.6597, train_label_loss: 0.2511, \n"
     ]
    },
    {
     "name": "stdout",
     "output_type": "stream",
     "text": [
      "epoch: 12, [batch: 4704 / 6720], examples_per_second: 3599.0065, train_label_loss: 0.1946, \n"
     ]
    },
    {
     "name": "stdout",
     "output_type": "stream",
     "text": [
      "epoch: 12, [batch: 5376 / 6720], examples_per_second: 3837.8267, train_label_loss: 0.1699, \n"
     ]
    },
    {
     "name": "stdout",
     "output_type": "stream",
     "text": [
      "epoch: 12, [batch: 6048 / 6720], examples_per_second: 3922.9484, train_label_loss: 0.1180, \n"
     ]
    },
    {
     "name": "stdout",
     "output_type": "stream",
     "text": [
      "=============================================================\n",
      "epoch: 12, source_val_acc_label: 0.9057, target_val_acc_label: 0.8808, source_val_label_loss: 0.3268, target_val_label_loss: 1.2659, \n",
      "=============================================================\n"
     ]
    },
    {
     "name": "stdout",
     "output_type": "stream",
     "text": [
      "New best\n"
     ]
    },
    {
     "name": "stdout",
     "output_type": "stream",
     "text": [
      "epoch: 13, [batch: 1 / 6720], examples_per_second: 3.9197, train_label_loss: 0.2448, \n"
     ]
    },
    {
     "name": "stdout",
     "output_type": "stream",
     "text": [
      "epoch: 13, [batch: 672 / 6720], examples_per_second: 3927.4521, train_label_loss: 0.0873, \n"
     ]
    },
    {
     "name": "stdout",
     "output_type": "stream",
     "text": [
      "epoch: 13, [batch: 1344 / 6720], examples_per_second: 4030.6778, train_label_loss: 0.0657, \n"
     ]
    },
    {
     "name": "stdout",
     "output_type": "stream",
     "text": [
      "epoch: 13, [batch: 2016 / 6720], examples_per_second: 3851.0446, train_label_loss: 0.0702, \n"
     ]
    },
    {
     "name": "stdout",
     "output_type": "stream",
     "text": [
      "epoch: 13, [batch: 2688 / 6720], examples_per_second: 3754.9304, train_label_loss: 0.2617, \n"
     ]
    },
    {
     "name": "stdout",
     "output_type": "stream",
     "text": [
      "epoch: 13, [batch: 3360 / 6720], examples_per_second: 3872.5808, train_label_loss: 0.1899, \n"
     ]
    },
    {
     "name": "stdout",
     "output_type": "stream",
     "text": [
      "epoch: 13, [batch: 4032 / 6720], examples_per_second: 3980.2900, train_label_loss: 0.5664, \n"
     ]
    },
    {
     "name": "stdout",
     "output_type": "stream",
     "text": [
      "epoch: 13, [batch: 4704 / 6720], examples_per_second: 3986.0513, train_label_loss: 0.1690, \n"
     ]
    },
    {
     "name": "stdout",
     "output_type": "stream",
     "text": [
      "epoch: 13, [batch: 5376 / 6720], examples_per_second: 3989.9645, train_label_loss: 0.3798, \n"
     ]
    },
    {
     "name": "stdout",
     "output_type": "stream",
     "text": [
      "epoch: 13, [batch: 6048 / 6720], examples_per_second: 3921.2766, train_label_loss: 0.2405, \n"
     ]
    },
    {
     "name": "stdout",
     "output_type": "stream",
     "text": [
      "=============================================================\n",
      "epoch: 13, source_val_acc_label: 0.8986, target_val_acc_label: 0.8701, source_val_label_loss: 0.3224, target_val_label_loss: 1.2688, \n",
      "=============================================================\n"
     ]
    },
    {
     "name": "stdout",
     "output_type": "stream",
     "text": [
      "epoch: 14, [batch: 1 / 6720], examples_per_second: 3.8633, train_label_loss: 0.0539, \n"
     ]
    },
    {
     "name": "stdout",
     "output_type": "stream",
     "text": [
      "epoch: 14, [batch: 672 / 6720], examples_per_second: 3906.5228, train_label_loss: 0.2107, \n"
     ]
    },
    {
     "name": "stdout",
     "output_type": "stream",
     "text": [
      "epoch: 14, [batch: 1344 / 6720], examples_per_second: 3982.0012, train_label_loss: 0.2337, \n"
     ]
    },
    {
     "name": "stdout",
     "output_type": "stream",
     "text": [
      "epoch: 14, [batch: 2016 / 6720], examples_per_second: 3905.8712, train_label_loss: 0.0400, \n"
     ]
    },
    {
     "name": "stdout",
     "output_type": "stream",
     "text": [
      "epoch: 14, [batch: 2688 / 6720], examples_per_second: 3876.6430, train_label_loss: 0.2339, \n"
     ]
    },
    {
     "name": "stdout",
     "output_type": "stream",
     "text": [
      "epoch: 14, [batch: 3360 / 6720], examples_per_second: 3869.1444, train_label_loss: 0.1811, \n"
     ]
    },
    {
     "name": "stdout",
     "output_type": "stream",
     "text": [
      "epoch: 14, [batch: 4032 / 6720], examples_per_second: 3779.7674, train_label_loss: 0.0452, \n"
     ]
    },
    {
     "name": "stdout",
     "output_type": "stream",
     "text": [
      "epoch: 14, [batch: 4704 / 6720], examples_per_second: 3814.2565, train_label_loss: 0.2085, \n"
     ]
    },
    {
     "name": "stdout",
     "output_type": "stream",
     "text": [
      "epoch: 14, [batch: 5376 / 6720], examples_per_second: 3788.3110, train_label_loss: 0.1361, \n"
     ]
    },
    {
     "name": "stdout",
     "output_type": "stream",
     "text": [
      "epoch: 14, [batch: 6048 / 6720], examples_per_second: 3778.0424, train_label_loss: 0.0473, \n"
     ]
    },
    {
     "name": "stdout",
     "output_type": "stream",
     "text": [
      "=============================================================\n",
      "epoch: 14, source_val_acc_label: 0.9034, target_val_acc_label: 0.8743, source_val_label_loss: 0.3407, target_val_label_loss: 1.3132, \n",
      "=============================================================\n"
     ]
    },
    {
     "name": "stdout",
     "output_type": "stream",
     "text": [
      "epoch: 15, [batch: 1 / 6720], examples_per_second: 3.8158, train_label_loss: 0.2057, \n"
     ]
    },
    {
     "name": "stdout",
     "output_type": "stream",
     "text": [
      "epoch: 15, [batch: 672 / 6720], examples_per_second: 3886.1557, train_label_loss: 0.1456, \n"
     ]
    },
    {
     "name": "stdout",
     "output_type": "stream",
     "text": [
      "epoch: 15, [batch: 1344 / 6720], examples_per_second: 3954.3638, train_label_loss: 0.1683, \n"
     ]
    },
    {
     "name": "stdout",
     "output_type": "stream",
     "text": [
      "epoch: 15, [batch: 2016 / 6720], examples_per_second: 3270.0297, train_label_loss: 0.3604, \n"
     ]
    },
    {
     "name": "stdout",
     "output_type": "stream",
     "text": [
      "epoch: 15, [batch: 2688 / 6720], examples_per_second: 2968.7129, train_label_loss: 0.4224, \n"
     ]
    },
    {
     "name": "stdout",
     "output_type": "stream",
     "text": [
      "epoch: 15, [batch: 3360 / 6720], examples_per_second: 2993.8059, train_label_loss: 0.1986, \n"
     ]
    },
    {
     "name": "stdout",
     "output_type": "stream",
     "text": [
      "epoch: 15, [batch: 4032 / 6720], examples_per_second: 3013.4317, train_label_loss: 0.0792, \n"
     ]
    },
    {
     "name": "stdout",
     "output_type": "stream",
     "text": [
      "epoch: 15, [batch: 4704 / 6720], examples_per_second: 2944.3336, train_label_loss: 0.0762, \n"
     ]
    },
    {
     "name": "stdout",
     "output_type": "stream",
     "text": [
      "epoch: 15, [batch: 5376 / 6720], examples_per_second: 2958.4454, train_label_loss: 0.3411, \n"
     ]
    },
    {
     "name": "stdout",
     "output_type": "stream",
     "text": [
      "epoch: 15, [batch: 6048 / 6720], examples_per_second: 2949.3216, train_label_loss: 0.3288, \n"
     ]
    },
    {
     "name": "stdout",
     "output_type": "stream",
     "text": [
      "=============================================================\n",
      "epoch: 15, source_val_acc_label: 0.9049, target_val_acc_label: 0.8768, source_val_label_loss: 0.3328, target_val_label_loss: 1.6204, \n",
      "=============================================================\n"
     ]
    },
    {
     "name": "stdout",
     "output_type": "stream",
     "text": [
      "epoch: 16, [batch: 1 / 6720], examples_per_second: 3.0834, train_label_loss: 0.1703, \n"
     ]
    },
    {
     "name": "stdout",
     "output_type": "stream",
     "text": [
      "epoch: 16, [batch: 672 / 6720], examples_per_second: 3639.7522, train_label_loss: 0.0803, \n"
     ]
    },
    {
     "name": "stdout",
     "output_type": "stream",
     "text": [
      "epoch: 16, [batch: 1344 / 6720], examples_per_second: 3765.8752, train_label_loss: 0.1012, \n"
     ]
    },
    {
     "name": "stdout",
     "output_type": "stream",
     "text": [
      "epoch: 16, [batch: 2016 / 6720], examples_per_second: 3904.3403, train_label_loss: 0.1120, \n"
     ]
    },
    {
     "name": "stdout",
     "output_type": "stream",
     "text": [
      "epoch: 16, [batch: 2688 / 6720], examples_per_second: 4209.0936, train_label_loss: 0.2051, \n"
     ]
    },
    {
     "name": "stdout",
     "output_type": "stream",
     "text": [
      "epoch: 16, [batch: 3360 / 6720], examples_per_second: 4180.2268, train_label_loss: 0.1764, \n"
     ]
    },
    {
     "name": "stdout",
     "output_type": "stream",
     "text": [
      "epoch: 16, [batch: 4032 / 6720], examples_per_second: 3007.1912, train_label_loss: 0.0227, \n"
     ]
    },
    {
     "name": "stdout",
     "output_type": "stream",
     "text": [
      "epoch: 16, [batch: 4704 / 6720], examples_per_second: 2971.4156, train_label_loss: 0.0148, \n"
     ]
    },
    {
     "name": "stdout",
     "output_type": "stream",
     "text": [
      "epoch: 16, [batch: 5376 / 6720], examples_per_second: 2977.0724, train_label_loss: 0.0090, \n"
     ]
    },
    {
     "name": "stdout",
     "output_type": "stream",
     "text": [
      "epoch: 16, [batch: 6048 / 6720], examples_per_second: 2986.5841, train_label_loss: 0.2884, \n"
     ]
    },
    {
     "name": "stdout",
     "output_type": "stream",
     "text": [
      "=============================================================\n",
      "epoch: 16, source_val_acc_label: 0.9102, target_val_acc_label: 0.8809, source_val_label_loss: 0.2826, target_val_label_loss: 1.5479, \n",
      "=============================================================\n"
     ]
    },
    {
     "name": "stdout",
     "output_type": "stream",
     "text": [
      "New best\n"
     ]
    },
    {
     "name": "stdout",
     "output_type": "stream",
     "text": [
      "epoch: 17, [batch: 1 / 6720], examples_per_second: 2.7799, train_label_loss: 0.0730, \n"
     ]
    },
    {
     "name": "stdout",
     "output_type": "stream",
     "text": [
      "epoch: 17, [batch: 672 / 6720], examples_per_second: 2956.9641, train_label_loss: 0.1720, \n"
     ]
    },
    {
     "name": "stdout",
     "output_type": "stream",
     "text": [
      "epoch: 17, [batch: 1344 / 6720], examples_per_second: 2986.8439, train_label_loss: 0.2087, \n"
     ]
    },
    {
     "name": "stdout",
     "output_type": "stream",
     "text": [
      "epoch: 17, [batch: 2016 / 6720], examples_per_second: 3412.3897, train_label_loss: 0.1020, \n"
     ]
    },
    {
     "name": "stdout",
     "output_type": "stream",
     "text": [
      "epoch: 17, [batch: 2688 / 6720], examples_per_second: 3395.2980, train_label_loss: 0.3543, \n"
     ]
    },
    {
     "name": "stdout",
     "output_type": "stream",
     "text": [
      "epoch: 17, [batch: 3360 / 6720], examples_per_second: 3412.9740, train_label_loss: 0.3023, \n"
     ]
    },
    {
     "name": "stdout",
     "output_type": "stream",
     "text": [
      "epoch: 17, [batch: 4032 / 6720], examples_per_second: 3420.4230, train_label_loss: 0.3044, \n"
     ]
    },
    {
     "name": "stdout",
     "output_type": "stream",
     "text": [
      "epoch: 17, [batch: 4704 / 6720], examples_per_second: 3391.4504, train_label_loss: 0.2182, \n"
     ]
    },
    {
     "name": "stdout",
     "output_type": "stream",
     "text": [
      "epoch: 17, [batch: 5376 / 6720], examples_per_second: 3423.9602, train_label_loss: 0.0606, \n"
     ]
    },
    {
     "name": "stdout",
     "output_type": "stream",
     "text": [
      "epoch: 17, [batch: 6048 / 6720], examples_per_second: 3652.8020, train_label_loss: 0.2039, \n"
     ]
    },
    {
     "name": "stdout",
     "output_type": "stream",
     "text": [
      "=============================================================\n",
      "epoch: 17, source_val_acc_label: 0.9093, target_val_acc_label: 0.8813, source_val_label_loss: 0.2662, target_val_label_loss: 0.8302, \n",
      "=============================================================\n"
     ]
    },
    {
     "name": "stdout",
     "output_type": "stream",
     "text": [
      "New best\n"
     ]
    },
    {
     "name": "stdout",
     "output_type": "stream",
     "text": [
      "epoch: 18, [batch: 1 / 6720], examples_per_second: 2.7726, train_label_loss: 0.2919, \n"
     ]
    },
    {
     "name": "stdout",
     "output_type": "stream",
     "text": [
      "epoch: 18, [batch: 672 / 6720], examples_per_second: 2982.4041, train_label_loss: 0.2962, \n"
     ]
    },
    {
     "name": "stdout",
     "output_type": "stream",
     "text": [
      "epoch: 18, [batch: 1344 / 6720], examples_per_second: 3026.1925, train_label_loss: 0.1088, \n"
     ]
    },
    {
     "name": "stdout",
     "output_type": "stream",
     "text": [
      "epoch: 18, [batch: 2016 / 6720], examples_per_second: 2987.4059, train_label_loss: 0.0549, \n"
     ]
    },
    {
     "name": "stdout",
     "output_type": "stream",
     "text": [
      "epoch: 18, [batch: 2688 / 6720], examples_per_second: 2923.5382, train_label_loss: 0.0327, \n"
     ]
    },
    {
     "name": "stdout",
     "output_type": "stream",
     "text": [
      "epoch: 18, [batch: 3360 / 6720], examples_per_second: 2988.1819, train_label_loss: 0.1133, \n"
     ]
    },
    {
     "name": "stdout",
     "output_type": "stream",
     "text": [
      "epoch: 18, [batch: 4032 / 6720], examples_per_second: 3161.8885, train_label_loss: 0.0731, \n"
     ]
    },
    {
     "name": "stdout",
     "output_type": "stream",
     "text": [
      "epoch: 18, [batch: 4704 / 6720], examples_per_second: 3411.0452, train_label_loss: 0.1130, \n"
     ]
    },
    {
     "name": "stdout",
     "output_type": "stream",
     "text": [
      "epoch: 18, [batch: 5376 / 6720], examples_per_second: 3401.4572, train_label_loss: 0.0190, \n"
     ]
    },
    {
     "name": "stdout",
     "output_type": "stream",
     "text": [
      "epoch: 18, [batch: 6048 / 6720], examples_per_second: 3398.4635, train_label_loss: 0.1129, \n"
     ]
    },
    {
     "name": "stdout",
     "output_type": "stream",
     "text": [
      "=============================================================\n",
      "epoch: 18, source_val_acc_label: 0.9077, target_val_acc_label: 0.8788, source_val_label_loss: 0.2866, target_val_label_loss: 1.4995, \n",
      "=============================================================\n"
     ]
    },
    {
     "name": "stdout",
     "output_type": "stream",
     "text": [
      "epoch: 19, [batch: 1 / 6720], examples_per_second: 3.1678, train_label_loss: 0.0303, \n"
     ]
    },
    {
     "name": "stdout",
     "output_type": "stream",
     "text": [
      "epoch: 19, [batch: 672 / 6720], examples_per_second: 2993.3518, train_label_loss: 0.2078, \n"
     ]
    },
    {
     "name": "stdout",
     "output_type": "stream",
     "text": [
      "epoch: 19, [batch: 1344 / 6720], examples_per_second: 2934.2871, train_label_loss: 0.1517, \n"
     ]
    },
    {
     "name": "stdout",
     "output_type": "stream",
     "text": [
      "epoch: 19, [batch: 2016 / 6720], examples_per_second: 2931.2231, train_label_loss: 0.1844, \n"
     ]
    },
    {
     "name": "stdout",
     "output_type": "stream",
     "text": [
      "epoch: 19, [batch: 2688 / 6720], examples_per_second: 2929.4187, train_label_loss: 0.0205, \n"
     ]
    },
    {
     "name": "stdout",
     "output_type": "stream",
     "text": [
      "epoch: 19, [batch: 3360 / 6720], examples_per_second: 2943.0441, train_label_loss: 0.0993, \n"
     ]
    },
    {
     "name": "stdout",
     "output_type": "stream",
     "text": [
      "epoch: 19, [batch: 4032 / 6720], examples_per_second: 2946.4997, train_label_loss: 0.0446, \n"
     ]
    },
    {
     "name": "stdout",
     "output_type": "stream",
     "text": [
      "epoch: 19, [batch: 4704 / 6720], examples_per_second: 2956.5571, train_label_loss: 0.0745, \n"
     ]
    },
    {
     "name": "stdout",
     "output_type": "stream",
     "text": [
      "epoch: 19, [batch: 5376 / 6720], examples_per_second: 2980.5230, train_label_loss: 0.1307, \n"
     ]
    },
    {
     "name": "stdout",
     "output_type": "stream",
     "text": [
      "epoch: 19, [batch: 6048 / 6720], examples_per_second: 2928.7462, train_label_loss: 0.1397, \n"
     ]
    },
    {
     "name": "stdout",
     "output_type": "stream",
     "text": [
      "=============================================================\n",
      "epoch: 19, source_val_acc_label: 0.9096, target_val_acc_label: 0.8793, source_val_label_loss: 0.3053, target_val_label_loss: 1.8740, \n",
      "=============================================================\n"
     ]
    },
    {
     "name": "stdout",
     "output_type": "stream",
     "text": [
      "epoch: 20, [batch: 1 / 6720], examples_per_second: 3.1241, train_label_loss: 0.0464, \n"
     ]
    },
    {
     "name": "stdout",
     "output_type": "stream",
     "text": [
      "epoch: 20, [batch: 672 / 6720], examples_per_second: 3350.1930, train_label_loss: 0.0476, \n"
     ]
    },
    {
     "name": "stdout",
     "output_type": "stream",
     "text": [
      "epoch: 20, [batch: 1344 / 6720], examples_per_second: 3378.0182, train_label_loss: 0.1071, \n"
     ]
    },
    {
     "name": "stdout",
     "output_type": "stream",
     "text": [
      "epoch: 20, [batch: 2016 / 6720], examples_per_second: 3498.6613, train_label_loss: 0.4594, \n"
     ]
    },
    {
     "name": "stdout",
     "output_type": "stream",
     "text": [
      "epoch: 20, [batch: 2688 / 6720], examples_per_second: 3091.8786, train_label_loss: 0.0246, \n"
     ]
    },
    {
     "name": "stdout",
     "output_type": "stream",
     "text": [
      "epoch: 20, [batch: 3360 / 6720], examples_per_second: 3237.0748, train_label_loss: 0.2601, \n"
     ]
    },
    {
     "name": "stdout",
     "output_type": "stream",
     "text": [
      "epoch: 20, [batch: 4032 / 6720], examples_per_second: 3383.9123, train_label_loss: 0.1892, \n"
     ]
    },
    {
     "name": "stdout",
     "output_type": "stream",
     "text": [
      "epoch: 20, [batch: 4704 / 6720], examples_per_second: 3455.3370, train_label_loss: 0.1687, \n"
     ]
    },
    {
     "name": "stdout",
     "output_type": "stream",
     "text": [
      "epoch: 20, [batch: 5376 / 6720], examples_per_second: 3419.7407, train_label_loss: 0.0737, \n"
     ]
    },
    {
     "name": "stdout",
     "output_type": "stream",
     "text": [
      "epoch: 20, [batch: 6048 / 6720], examples_per_second: 3389.8788, train_label_loss: 0.0033, \n"
     ]
    },
    {
     "name": "stdout",
     "output_type": "stream",
     "text": [
      "=============================================================\n",
      "epoch: 20, source_val_acc_label: 0.9084, target_val_acc_label: 0.8774, source_val_label_loss: 0.3195, target_val_label_loss: 2.0445, \n",
      "=============================================================\n"
     ]
    },
    {
     "name": "stdout",
     "output_type": "stream",
     "text": [
      "epoch: 21, [batch: 1 / 6720], examples_per_second: 3.5128, train_label_loss: 0.0402, \n"
     ]
    },
    {
     "name": "stdout",
     "output_type": "stream",
     "text": [
      "epoch: 21, [batch: 672 / 6720], examples_per_second: 3749.3404, train_label_loss: 0.1637, \n"
     ]
    },
    {
     "name": "stdout",
     "output_type": "stream",
     "text": [
      "epoch: 21, [batch: 1344 / 6720], examples_per_second: 3434.2828, train_label_loss: 0.0369, \n"
     ]
    },
    {
     "name": "stdout",
     "output_type": "stream",
     "text": [
      "epoch: 21, [batch: 2016 / 6720], examples_per_second: 3372.9382, train_label_loss: 0.4575, \n"
     ]
    },
    {
     "name": "stdout",
     "output_type": "stream",
     "text": [
      "epoch: 21, [batch: 2688 / 6720], examples_per_second: 3364.5412, train_label_loss: 0.0246, \n"
     ]
    },
    {
     "name": "stdout",
     "output_type": "stream",
     "text": [
      "epoch: 21, [batch: 3360 / 6720], examples_per_second: 3416.5448, train_label_loss: 0.2219, \n"
     ]
    },
    {
     "name": "stdout",
     "output_type": "stream",
     "text": [
      "epoch: 21, [batch: 4032 / 6720], examples_per_second: 3418.1767, train_label_loss: 0.1220, \n"
     ]
    },
    {
     "name": "stdout",
     "output_type": "stream",
     "text": [
      "epoch: 21, [batch: 4704 / 6720], examples_per_second: 3612.8028, train_label_loss: 0.4204, \n"
     ]
    },
    {
     "name": "stdout",
     "output_type": "stream",
     "text": [
      "epoch: 21, [batch: 5376 / 6720], examples_per_second: 2996.3139, train_label_loss: 0.0446, \n"
     ]
    },
    {
     "name": "stdout",
     "output_type": "stream",
     "text": [
      "epoch: 21, [batch: 6048 / 6720], examples_per_second: 2988.0626, train_label_loss: 0.0913, \n"
     ]
    },
    {
     "name": "stdout",
     "output_type": "stream",
     "text": [
      "=============================================================\n",
      "epoch: 21, source_val_acc_label: 0.9096, target_val_acc_label: 0.8785, source_val_label_loss: 0.2865, target_val_label_loss: 1.8113, \n",
      "=============================================================\n"
     ]
    },
    {
     "name": "stdout",
     "output_type": "stream",
     "text": [
      "Patience (3) exhausted\n"
     ]
    }
   ],
   "source": [
    "###################################\n",
    "# train\n",
    "###################################\n",
    "jig = PTN_Train_Eval_Test_Jig(model, p.BEST_MODEL_PATH, p.device)\n",
    "\n",
    "jig.train(\n",
    "    train_iterable=datasets.source.processed.train,\n",
    "    source_val_iterable=datasets.source.processed.val,\n",
    "    target_val_iterable=datasets.target.processed.val,\n",
    "    num_epochs=p.n_epoch,\n",
    "    num_logs_per_epoch=p.NUM_LOGS_PER_EPOCH,\n",
    "    patience=p.patience,\n",
    "    optimizer=optimizer,\n",
    "    criteria_for_best=p.criteria_for_best,\n",
    ")"
   ]
  },
  {
   "cell_type": "code",
   "execution_count": 23,
   "id": "31e8fabf",
   "metadata": {
    "execution": {
     "iopub.execute_input": "2022-03-21T23:24:54.410800Z",
     "iopub.status.busy": "2022-03-21T23:24:54.410434Z",
     "iopub.status.idle": "2022-03-21T23:24:54.442512Z",
     "shell.execute_reply": "2022-03-21T23:24:54.441709Z"
    },
    "papermill": {
     "duration": 0.120737,
     "end_time": "2022-03-21T23:24:54.442666",
     "exception": false,
     "start_time": "2022-03-21T23:24:54.321929",
     "status": "completed"
    },
    "tags": []
   },
   "outputs": [],
   "source": [
    "total_experiment_time_secs = time.time() - start_time_secs"
   ]
  },
  {
   "cell_type": "code",
   "execution_count": 24,
   "id": "87b9595b",
   "metadata": {
    "execution": {
     "iopub.execute_input": "2022-03-21T23:24:54.626213Z",
     "iopub.status.busy": "2022-03-21T23:24:54.625822Z",
     "iopub.status.idle": "2022-03-21T23:28:27.228514Z",
     "shell.execute_reply": "2022-03-21T23:28:27.227789Z"
    },
    "papermill": {
     "duration": 212.693675,
     "end_time": "2022-03-21T23:28:27.228705",
     "exception": false,
     "start_time": "2022-03-21T23:24:54.535030",
     "status": "completed"
    },
    "tags": []
   },
   "outputs": [],
   "source": [
    "###################################\n",
    "# Evaluate the model\n",
    "###################################\n",
    "source_test_label_accuracy, source_test_label_loss = jig.test(datasets.source.processed.test)\n",
    "target_test_label_accuracy, target_test_label_loss = jig.test(datasets.target.processed.test)\n",
    "\n",
    "source_val_label_accuracy, source_val_label_loss = jig.test(datasets.source.processed.val)\n",
    "target_val_label_accuracy, target_val_label_loss = jig.test(datasets.target.processed.val)\n",
    "\n",
    "history = jig.get_history()\n",
    "\n",
    "total_epochs_trained = len(history[\"epoch_indices\"])\n",
    "\n",
    "val_dl = Iterable_Aggregator((datasets.source.original.val,datasets.target.original.val))\n",
    "\n",
    "confusion = ptn_confusion_by_domain_over_dataloader(model, p.device, val_dl)\n",
    "per_domain_accuracy = per_domain_accuracy_from_confusion(confusion)\n",
    "\n",
    "# Add a key to per_domain_accuracy for if it was a source domain\n",
    "for domain, accuracy in per_domain_accuracy.items():\n",
    "    per_domain_accuracy[domain] = {\n",
    "        \"accuracy\": accuracy,\n",
    "        \"source?\": domain in p.domains_source\n",
    "    }\n",
    "\n",
    "# Do an independent accuracy assesment JUST TO BE SURE!\n",
    "# _source_test_label_accuracy = independent_accuracy_assesment(model, datasets.source.processed.test, p.device)\n",
    "# _target_test_label_accuracy = independent_accuracy_assesment(model, datasets.target.processed.test, p.device)\n",
    "# _source_val_label_accuracy = independent_accuracy_assesment(model, datasets.source.processed.val, p.device)\n",
    "# _target_val_label_accuracy = independent_accuracy_assesment(model, datasets.target.processed.val, p.device)\n",
    "\n",
    "# assert(_source_test_label_accuracy == source_test_label_accuracy)\n",
    "# assert(_target_test_label_accuracy == target_test_label_accuracy)\n",
    "# assert(_source_val_label_accuracy == source_val_label_accuracy)\n",
    "# assert(_target_val_label_accuracy == target_val_label_accuracy)\n",
    "\n",
    "experiment = {\n",
    "    \"experiment_name\": p.experiment_name,\n",
    "    \"parameters\": dict(p),\n",
    "    \"results\": {\n",
    "        \"source_test_label_accuracy\": source_test_label_accuracy,\n",
    "        \"source_test_label_loss\": source_test_label_loss,\n",
    "        \"target_test_label_accuracy\": target_test_label_accuracy,\n",
    "        \"target_test_label_loss\": target_test_label_loss,\n",
    "        \"source_val_label_accuracy\": source_val_label_accuracy,\n",
    "        \"source_val_label_loss\": source_val_label_loss,\n",
    "        \"target_val_label_accuracy\": target_val_label_accuracy,\n",
    "        \"target_val_label_loss\": target_val_label_loss,\n",
    "        \"total_epochs_trained\": total_epochs_trained,\n",
    "        \"total_experiment_time_secs\": total_experiment_time_secs,\n",
    "        \"confusion\": confusion,\n",
    "        \"per_domain_accuracy\": per_domain_accuracy,\n",
    "    },\n",
    "    \"history\": history,\n",
    "    \"dataset_metrics\": get_dataset_metrics(datasets, \"ptn\"),\n",
    "}"
   ]
  },
  {
   "cell_type": "code",
   "execution_count": 25,
   "id": "54a21829",
   "metadata": {
    "execution": {
     "iopub.execute_input": "2022-03-21T23:28:27.414317Z",
     "iopub.status.busy": "2022-03-21T23:28:27.413501Z",
     "iopub.status.idle": "2022-03-21T23:28:27.631732Z",
     "shell.execute_reply": "2022-03-21T23:28:27.631013Z"
    },
    "papermill": {
     "duration": 0.310924,
     "end_time": "2022-03-21T23:28:27.631913",
     "exception": false,
     "start_time": "2022-03-21T23:28:27.320989",
     "status": "completed"
    },
    "tags": []
   },
   "outputs": [
    {
     "data": {
      "image/png": "[encoded data removed]",
      "text/plain": [
       "<Figure size 1080x504 with 1 Axes>"
      ]
     },
     "metadata": {
      "needs_background": "light"
     },
     "output_type": "display_data"
    }
   ],
   "source": [
    "ax = get_loss_curve(experiment)\n",
    "plt.show()"
   ]
  },
  {
   "cell_type": "code",
   "execution_count": 26,
   "id": "fd8a0f60",
   "metadata": {
    "execution": {
     "iopub.execute_input": "2022-03-21T23:28:27.814844Z",
     "iopub.status.busy": "2022-03-21T23:28:27.814477Z",
     "iopub.status.idle": "2022-03-21T23:28:28.176774Z",
     "shell.execute_reply": "2022-03-21T23:28:28.177087Z"
    },
    "papermill": {
     "duration": 0.451692,
     "end_time": "2022-03-21T23:28:28.177209",
     "exception": false,
     "start_time": "2022-03-21T23:28:27.725517",
     "status": "completed"
    },
    "tags": []
   },
   "outputs": [
    {
     "data": {
      "text/plain": [
       "<AxesSubplot:title={'center':'Results'}>"
      ]
     },
     "execution_count": 26,
     "metadata": {},
     "output_type": "execute_result"
    },
    {
     "data": {
      "image/png": "[encoded data removed]",
      "text/plain": [
       "<Figure size 1080x504 with 1 Axes>"
      ]
     },
     "metadata": {
      "needs_background": "light"
     },
     "output_type": "display_data"
    }
   ],
   "source": [
    "get_results_table(experiment)"
   ]
  },
  {
   "cell_type": "code",
   "execution_count": 27,
   "id": "cf8dc689",
   "metadata": {
    "execution": {
     "iopub.execute_input": "2022-03-21T23:28:28.360622Z",
     "iopub.status.busy": "2022-03-21T23:28:28.360255Z",
     "iopub.status.idle": "2022-03-21T23:28:28.646385Z",
     "shell.execute_reply": "2022-03-21T23:28:28.647023Z"
    },
    "papermill": {
     "duration": 0.380222,
     "end_time": "2022-03-21T23:28:28.647246",
     "exception": false,
     "start_time": "2022-03-21T23:28:28.267024",
     "status": "completed"
    },
    "tags": []
   },
   "outputs": [
    {
     "data": {
      "text/plain": [
       "<AxesSubplot:title={'center':'Per Domain Validation Accuracy'}, xlabel='domain'>"
      ]
     },
     "execution_count": 27,
     "metadata": {},
     "output_type": "execute_result"
    },
    {
     "data": {
      "image/png": "[encoded data removed]",
      "text/plain": [
       "<Figure size 1080x504 with 1 Axes>"
      ]
     },
     "metadata": {
      "needs_background": "light"
     },
     "output_type": "display_data"
    }
   ],
   "source": [
    "get_domain_accuracies(experiment)"
   ]
  },
  {
   "cell_type": "code",
   "execution_count": 28,
   "id": "a74ae082",
   "metadata": {
    "execution": {
     "iopub.execute_input": "2022-03-21T23:28:28.833882Z",
     "iopub.status.busy": "2022-03-21T23:28:28.833484Z",
     "iopub.status.idle": "2022-03-21T23:28:28.861249Z",
     "shell.execute_reply": "2022-03-21T23:28:28.860536Z"
    },
    "papermill": {
     "duration": 0.120696,
     "end_time": "2022-03-21T23:28:28.861416",
     "exception": false,
     "start_time": "2022-03-21T23:28:28.740720",
     "status": "completed"
    },
    "tags": []
   },
   "outputs": [
    {
     "name": "stdout",
     "output_type": "stream",
     "text": [
      "Source Test Label Accuracy: 0.9126627604166667 Target Test Label Accuracy: 0.87841796875\n",
      "Source Val Label Accuracy: 0.90927734375 Target Val Label Accuracy: 0.8812825520833333\n"
     ]
    }
   ],
   "source": [
    "print(\"Source Test Label Accuracy:\", experiment[\"results\"][\"source_test_label_accuracy\"], \"Target Test Label Accuracy:\", experiment[\"results\"][\"target_test_label_accuracy\"])\n",
    "print(\"Source Val Label Accuracy:\", experiment[\"results\"][\"source_val_label_accuracy\"], \"Target Val Label Accuracy:\", experiment[\"results\"][\"target_val_label_accuracy\"])"
   ]
  },
  {
   "cell_type": "code",
   "execution_count": 29,
   "id": "dacca602",
   "metadata": {
    "execution": {
     "iopub.execute_input": "2022-03-21T23:28:29.051136Z",
     "iopub.status.busy": "2022-03-21T23:28:29.050772Z",
     "iopub.status.idle": "2022-03-21T23:28:29.076554Z",
     "shell.execute_reply": "2022-03-21T23:28:29.077229Z"
    },
    "papermill": {
     "duration": 0.122083,
     "end_time": "2022-03-21T23:28:29.077438",
     "exception": false,
     "start_time": "2022-03-21T23:28:28.955355",
     "status": "completed"
    },
    "tags": [
     "experiment_json"
    ]
   },
   "outputs": [
    {
     "data": {
      "text/plain": [
       "'{\"experiment_name\": \"tl_1v2:oracle.run1.framed-oracle.run2.framed\", \"parameters\": {\"experiment_name\": \"tl_1v2:oracle.run1.framed-oracle.run2.framed\", \"device\": \"cuda\", \"lr\": 0.0001, \"n_shot\": 3, \"n_query\": 2, \"train_k_factor\": 3, \"val_k_factor\": 2, \"test_k_factor\": 2, \"torch_default_dtype\": \"torch.float32\", \"n_epoch\": 50, \"patience\": 3, \"criteria_for_best\": \"target_accuracy\", \"x_net\": [{\"class\": \"nnReshape\", \"kargs\": {\"shape\": [-1, 1, 2, 256]}}, {\"class\": \"Conv2d\", \"kargs\": {\"in_channels\": 1, \"out_channels\": 256, \"kernel_size\": [1, 7], \"bias\": false, \"padding\": [0, 3]}}, {\"class\": \"ReLU\", \"kargs\": {\"inplace\": true}}, {\"class\": \"BatchNorm2d\", \"kargs\": {\"num_features\": 256}}, {\"class\": \"Conv2d\", \"kargs\": {\"in_channels\": 256, \"out_channels\": 80, \"kernel_size\": [2, 7], \"bias\": true, \"padding\": [0, 3]}}, {\"class\": \"ReLU\", \"kargs\": {\"inplace\": true}}, {\"class\": \"BatchNorm2d\", \"kargs\": {\"num_features\": 80}}, {\"class\": \"Flatten\", \"kargs\": {}}, {\"class\": \"Linear\", \"kargs\": {\"in_features\": 20480, \"out_features\": 256}}, {\"class\": \"ReLU\", \"kargs\": {\"inplace\": true}}, {\"class\": \"BatchNorm1d\", \"kargs\": {\"num_features\": 256}}, {\"class\": \"Linear\", \"kargs\": {\"in_features\": 256, \"out_features\": 256}}], \"NUM_LOGS_PER_EPOCH\": 10, \"BEST_MODEL_PATH\": \"./best_model.pth\", \"n_way\": 16, \"datasets\": [{\"labels\": [\"3123D52\", \"3123D65\", \"3123D79\", \"3123D80\", \"3123D54\", \"3123D70\", \"3123D7B\", \"3123D89\", \"3123D58\", \"3123D76\", \"3123D7D\", \"3123EFE\", \"3123D64\", \"3123D78\", \"3123D7E\", \"3124E4A\"], \"domains\": [32, 38, 8, 44, 14, 50, 20, 26], \"num_examples_per_domain_per_label\": 2000, \"pickle_path\": \"/root/csc500-main/datasets/oracle.Run1_framed_2000Examples_stratified_ds.2022A.pkl\", \"source_or_target_dataset\": \"source\", \"x_transforms\": [\"unit_power\"], \"episode_transforms\": [], \"domain_prefix\": \"ORACLE.run1_\"}, {\"labels\": [\"3123D52\", \"3123D65\", \"3123D79\", \"3123D80\", \"3123D54\", \"3123D70\", \"3123D7B\", \"3123D89\", \"3123D58\", \"3123D76\", \"3123D7D\", \"3123EFE\", \"3123D64\", \"3123D78\", \"3123D7E\", \"3124E4A\"], \"domains\": [32, 38, 8, 44, 14, 50, 20, 26], \"num_examples_per_domain_per_label\": 2000, \"pickle_path\": \"/root/csc500-main/datasets/oracle.Run2_framed_2000Examples_stratified_ds.2022A.pkl\", \"source_or_target_dataset\": \"target\", \"x_transforms\": [\"unit_power\"], \"episode_transforms\": [], \"domain_prefix\": \"ORACLE.run2_\"}], \"dataset_seed\": 7, \"seed\": 7, \"x_shape\": [2, 256], \"domains_source\": [\"ORACLE.run1_32\", \"ORACLE.run1_38\", \"ORACLE.run1_8\", \"ORACLE.run1_44\", \"ORACLE.run1_14\", \"ORACLE.run1_50\", \"ORACLE.run1_20\", \"ORACLE.run1_26\"], \"domains_target\": [\"ORACLE.run2_32\", \"ORACLE.run2_38\", \"ORACLE.run2_8\", \"ORACLE.run2_44\", \"ORACLE.run2_14\", \"ORACLE.run2_50\", \"ORACLE.run2_20\", \"ORACLE.run2_26\"]}, \"results\": {\"source_test_label_accuracy\": 0.9126627604166667, \"source_test_label_loss\": 0.26649209856987, \"target_test_label_accuracy\": 0.87841796875, \"target_test_label_loss\": 1.3167213201522827, \"source_val_label_accuracy\": 0.90927734375, \"source_val_label_loss\": 0.2661901116371155, \"target_val_label_accuracy\": 0.8812825520833333, \"target_val_label_loss\": 0.8301647901535034, \"total_epochs_trained\": 21, \"total_experiment_time_secs\": 4135.4783980846405, \"confusion\": {\"ORACLE.run1_26\": {\"0\": {\"10\": 53, \"8\": 26, \"14\": 36, \"4\": 10, \"0\": 114, \"7\": 1}, \"4\": {\"14\": 6, \"4\": 207, \"8\": 14, \"7\": 6, \"0\": 5, \"10\": 1, \"1\": 1}, \"14\": {\"14\": 188, \"0\": 25, \"4\": 9, \"10\": 9, \"1\": 7, \"8\": 2}, \"12\": {\"12\": 240}, \"8\": {\"8\": 169, \"14\": 6, \"0\": 23, \"4\": 8, \"10\": 17, \"2\": 1, \"7\": 15, \"15\": 1}, \"7\": {\"7\": 203, \"2\": 8, \"3\": 10, \"0\": 2, \"8\": 6, \"4\": 11}, \"13\": {\"13\": 221, \"5\": 13, \"9\": 1, \"15\": 2, \"2\": 3}, \"5\": {\"5\": 229, \"13\": 5, \"2\": 6}, \"15\": {\"15\": 217, \"9\": 6, \"6\": 11, \"2\": 2, \"13\": 1, \"8\": 1, \"7\": 1, \"10\": 1}, \"10\": {\"14\": 9, \"10\": 149, \"0\": 61, \"8\": 16, \"6\": 4, \"15\": 1}, \"3\": {\"3\": 186, \"7\": 11, \"2\": 42, \"5\": 1}, \"9\": {\"9\": 224, \"15\": 11, \"5\": 1, \"6\": 1, \"8\": 1, \"13\": 2}, \"6\": {\"6\": 227, \"15\": 4, \"10\": 6, \"9\": 2, \"8\": 1}, \"1\": {\"1\": 228, \"14\": 10, \"4\": 1, \"7\": 1}, \"11\": {\"11\": 240}, \"2\": {\"2\": 138, \"3\": 52, \"7\": 19, \"9\": 2, \"5\": 15, \"15\": 5, \"8\": 4, \"13\": 5}}, \"ORACLE.run1_44\": {\"1\": {\"10\": 10, \"1\": 210, \"12\": 14, \"3\": 4, \"7\": 1, \"2\": 1}, \"11\": {\"11\": 235, \"13\": 4, \"6\": 1}, \"3\": {\"3\": 234, \"1\": 5, \"12\": 1}, \"6\": {\"9\": 22, \"6\": 181, \"13\": 35, \"7\": 2}, \"7\": {\"7\": 182, \"9\": 41, \"2\": 14, \"6\": 3}, \"5\": {\"5\": 224, \"0\": 6, \"8\": 3, \"14\": 4, \"15\": 3}, \"2\": {\"2\": 212, \"10\": 4, \"7\": 18, \"1\": 5, \"3\": 1}, \"15\": {\"15\": 213, \"0\": 5, \"14\": 12, \"8\": 4, \"5\": 5, \"4\": 1}, \"10\": {\"10\": 224, \"2\": 5, \"1\": 10, \"12\": 1}, \"13\": {\"13\": 194, \"6\": 30, \"9\": 16}, \"8\": {\"0\": 72, \"8\": 162, \"5\": 1, \"15\": 5}, \"4\": {\"4\": 200, \"14\": 40}, \"9\": {\"9\": 145, \"13\": 20, \"7\": 53, \"6\": 22}, \"14\": {\"14\": 177, \"4\": 45, \"15\": 13, \"5\": 5}, \"0\": {\"0\": 186, \"8\": 44, \"5\": 8, \"15\": 2}, \"12\": {\"12\": 227, \"1\": 9, \"3\": 4}}, \"ORACLE.run1_50\": {\"15\": {\"15\": 232, \"1\": 5, \"4\": 3}, \"4\": {\"4\": 188, \"15\": 17, \"5\": 29, \"7\": 4, \"1\": 2}, \"6\": {\"6\": 218, \"15\": 6, \"7\": 4, \"13\": 6, \"1\": 1, \"5\": 3, \"4\": 2}, \"2\": {\"2\": 225, \"0\": 15}, \"5\": {\"5\": 180, \"7\": 15, \"4\": 21, \"6\": 2, \"13\": 13, \"1\": 9}, \"9\": {\"9\": 236, \"11\": 3, \"12\": 1}, \"8\": {\"8\": 238, \"10\": 2}, \"12\": {\"12\": 237, \"9\": 3}, \"10\": {\"10\": 237, \"0\": 2, \"13\": 1}, \"1\": {\"1\": 226, \"5\": 2, \"15\": 9, \"6\": 1, \"4\": 2}, \"0\": {\"0\": 225, \"2\": 11, \"10\": 4}, \"3\": {\"3\": 240}, \"13\": {\"13\": 226, \"5\": 7, \"10\": 4, \"7\": 3}, \"11\": {\"11\": 232, \"12\": 4, \"15\": 4}, \"7\": {\"6\": 5, \"7\": 220, \"5\": 8, \"13\": 3, \"4\": 4}, \"14\": {\"14\": 240}}, \"ORACLE.run1_38\": {\"15\": {\"15\": 232, \"8\": 5, \"1\": 3}, \"11\": {\"11\": 239, \"10\": 1}, \"10\": {\"10\": 226, \"0\": 2, \"13\": 10, \"8\": 1, \"7\": 1}, \"14\": {\"14\": 236, \"2\": 2, \"8\": 1, \"15\": 1}, \"6\": {\"6\": 239, \"9\": 1}, \"4\": {\"4\": 240}, \"13\": {\"13\": 226, \"2\": 5, \"0\": 5, \"8\": 1, \"10\": 2, \"15\": 1}, \"3\": {\"3\": 238, \"0\": 2}, \"7\": {\"7\": 219, \"5\": 11, \"8\": 7, \"0\": 3}, \"8\": {\"8\": 190, \"7\": 6, \"5\": 29, \"0\": 12, \"10\": 1, \"15\": 1, \"13\": 1}, \"1\": {\"1\": 240}, \"5\": {\"5\": 167, \"8\": 51, \"7\": 12, \"15\": 7, \"9\": 3}, \"0\": {\"0\": 220, \"3\": 7, \"7\": 6, \"8\": 7}, \"2\": {\"2\": 234, \"14\": 4, \"15\": 1, \"13\": 1}, \"12\": {\"12\": 238, \"4\": 2}, \"9\": {\"9\": 238, \"6\": 2}}, \"ORACLE.run1_20\": {\"10\": {\"10\": 239, \"14\": 1}, \"7\": {\"7\": 234, \"2\": 5, \"3\": 1}, \"4\": {\"4\": 237, \"8\": 2, \"10\": 1}, \"13\": {\"13\": 238, \"2\": 2}, \"1\": {\"1\": 214, \"3\": 1, \"12\": 20, \"15\": 4, \"5\": 1}, \"0\": {\"0\": 223, \"15\": 11, \"5\": 6}, \"12\": {\"12\": 199, \"9\": 2, \"1\": 18, \"3\": 18, \"5\": 1, \"2\": 2}, \"5\": {\"5\": 223, \"15\": 3, \"0\": 8, \"1\": 2, \"12\": 3, \"3\": 1}, \"6\": {\"6\": 234, \"14\": 6}, \"2\": {\"12\": 10, \"2\": 194, \"3\": 6, \"9\": 15, \"13\": 4, \"7\": 10, \"1\": 1}, \"8\": {\"8\": 233, \"14\": 1, \"7\": 2, \"4\": 4}, \"11\": {\"11\": 240}, \"9\": {\"9\": 206, \"3\": 9, \"12\": 7, \"2\": 18}, \"14\": {\"14\": 231, \"6\": 8, \"10\": 1}, \"15\": {\"15\": 228, \"0\": 2, \"1\": 5, \"5\": 5}, \"3\": {\"3\": 195, \"12\": 19, \"9\": 14, \"2\": 9, \"10\": 1, \"4\": 1, \"1\": 1}}, \"ORACLE.run1_14\": {\"14\": {\"14\": 217, \"3\": 1, \"2\": 18, \"13\": 1, \"6\": 3}, \"0\": {\"0\": 239, \"10\": 1}, \"4\": {\"4\": 233, \"5\": 7}, \"11\": {\"11\": 240}, \"13\": {\"13\": 177, \"6\": 58, \"5\": 1, \"4\": 1, \"2\": 1, \"0\": 1, \"14\": 1}, \"9\": {\"9\": 240}, \"3\": {\"3\": 235, \"2\": 4, \"5\": 1}, \"6\": {\"6\": 210, \"13\": 28, \"2\": 2}, \"1\": {\"1\": 237, \"5\": 3}, \"5\": {\"5\": 218, \"1\": 4, \"2\": 2, \"4\": 15, \"3\": 1}, \"12\": {\"12\": 240}, \"10\": {\"10\": 240}, \"8\": {\"8\": 240}, \"7\": {\"7\": 240}, \"15\": {\"15\": 240}, \"2\": {\"2\": 185, \"14\": 31, \"5\": 13, \"3\": 4, \"6\": 7}}, \"ORACLE.run1_32\": {\"11\": {\"11\": 236, \"3\": 2, \"14\": 2}, \"1\": {\"1\": 240}, \"2\": {\"2\": 219, \"4\": 20, \"7\": 1}, \"0\": {\"0\": 209, \"5\": 3, \"14\": 15, \"8\": 10, \"7\": 3}, \"3\": {\"3\": 234, \"11\": 1, \"13\": 4, \"7\": 1}, \"8\": {\"8\": 222, \"0\": 16, \"14\": 1, \"13\": 1}, \"12\": {\"12\": 240}, \"5\": {\"5\": 169, \"7\": 58, \"13\": 4, \"3\": 4, \"4\": 4, \"0\": 1}, \"15\": {\"15\": 239, \"8\": 1}, \"7\": {\"7\": 173, \"5\": 48, \"4\": 9, \"14\": 4, \"11\": 4, \"13\": 2}, \"4\": {\"2\": 26, \"4\": 206, \"7\": 3, \"13\": 3, \"5\": 2}, \"14\": {\"5\": 3, \"0\": 16, \"14\": 208, \"11\": 11, \"7\": 1, \"8\": 1}, \"10\": {\"10\": 240}, \"6\": {\"6\": 240}, \"13\": {\"13\": 212, \"5\": 7, \"8\": 3, \"4\": 6, \"3\": 11, \"7\": 1}, \"9\": {\"9\": 240}}, \"ORACLE.run1_8\": {\"9\": {\"9\": 240}, \"11\": {\"11\": 237, \"1\": 3}, \"8\": {\"8\": 238, \"15\": 2}, \"4\": {\"4\": 219, \"13\": 13, \"14\": 4, \"6\": 4}, \"13\": {\"13\": 189, \"4\": 18, \"10\": 15, \"6\": 4, \"0\": 11, \"14\": 3}, \"14\": {\"14\": 220, \"4\": 8, \"1\": 3, \"5\": 1, \"10\": 8}, \"2\": {\"2\": 236, \"7\": 3, \"3\": 1}, \"3\": {\"3\": 238, \"15\": 1, \"12\": 1}, \"1\": {\"1\": 237, \"14\": 2, \"11\": 1}, \"0\": {\"13\": 12, \"0\": 222, \"7\": 2, \"10\": 1, \"4\": 2, \"14\": 1}, \"5\": {\"5\": 226, \"14\": 3, \"10\": 5, \"1\": 6}, \"15\": {\"15\": 225, \"12\": 15}, \"10\": {\"10\": 232, \"13\": 5, \"14\": 3}, \"12\": {\"12\": 215, \"15\": 22, \"3\": 3}, \"6\": {\"0\": 1, \"6\": 202, \"13\": 2, \"7\": 24, \"4\": 11}, \"7\": {\"7\": 223, \"6\": 16, \"12\": 1}}, \"ORACLE.run2_26\": {\"0\": {\"0\": 112, \"10\": 49, \"14\": 47, \"4\": 8, \"8\": 22, \"15\": 1, \"1\": 1}, \"4\": {\"4\": 211, \"7\": 9, \"0\": 7, \"14\": 2, \"8\": 8, \"2\": 2, \"10\": 1}, \"14\": {\"0\": 38, \"8\": 8, \"14\": 178, \"10\": 11, \"1\": 4, \"4\": 1}, \"12\": {\"12\": 240}, \"8\": {\"8\": 181, \"0\": 15, \"10\": 15, \"4\": 2, \"7\": 13, \"2\": 7, \"14\": 6, \"15\": 1}, \"7\": {\"2\": 55, \"7\": 148, \"4\": 9, \"15\": 9, \"3\": 5, \"8\": 10, \"5\": 3, \"13\": 1}, \"13\": {\"13\": 219, \"2\": 2, \"5\": 16, \"8\": 1, \"7\": 1, \"9\": 1}, \"5\": {\"5\": 188, \"13\": 28, \"2\": 11, \"6\": 4, \"8\": 1, \"9\": 6, \"7\": 1, \"3\": 1}, \"15\": {\"15\": 205, \"2\": 16, \"7\": 14, \"3\": 3, \"8\": 1, \"9\": 1}, \"10\": {\"7\": 2, \"8\": 14, \"6\": 10, \"10\": 110, \"0\": 75, \"14\": 26, \"15\": 2, \"4\": 1}, \"3\": {\"3\": 215, \"7\": 9, \"2\": 15, \"4\": 1}, \"9\": {\"9\": 230, \"6\": 4, \"13\": 4, \"15\": 1, \"8\": 1}, \"6\": {\"6\": 237, \"9\": 2, \"10\": 1}, \"1\": {\"1\": 223, \"14\": 14, \"10\": 1, \"0\": 2}, \"11\": {\"11\": 240}, \"2\": {\"7\": 86, \"2\": 121, \"8\": 6, \"3\": 15, \"15\": 10, \"5\": 1, \"4\": 1}}, \"ORACLE.run2_44\": {\"1\": {\"1\": 204, \"3\": 7, \"12\": 29}, \"11\": {\"11\": 233, \"6\": 4, \"13\": 3}, \"3\": {\"3\": 228, \"12\": 8, \"1\": 4}, \"6\": {\"6\": 228, \"13\": 9, \"7\": 1, \"9\": 2}, \"7\": {\"7\": 155, \"2\": 18, \"9\": 67}, \"5\": {\"5\": 228, \"14\": 11, \"8\": 1}, \"2\": {\"2\": 217, \"7\": 8, \"9\": 15}, \"15\": {\"15\": 220, \"14\": 16, \"8\": 2, \"4\": 2}, \"10\": {\"10\": 240}, \"13\": {\"13\": 240}, \"8\": {\"0\": 81, \"8\": 155, \"5\": 4}, \"4\": {\"4\": 234, \"14\": 5, \"15\": 1}, \"9\": {\"7\": 72, \"9\": 145, \"6\": 4, \"2\": 19}, \"14\": {\"14\": 198, \"4\": 15, \"5\": 13, \"15\": 14}, \"0\": {\"0\": 143, \"8\": 97}, \"12\": {\"12\": 199, \"1\": 30, \"3\": 11}}, \"ORACLE.run2_50\": {\"15\": {\"15\": 233, \"4\": 2, \"1\": 1, \"11\": 3, \"6\": 1}, \"4\": {\"4\": 167, \"5\": 62, \"1\": 4, \"6\": 5, \"7\": 2}, \"6\": {\"6\": 229, \"1\": 3, \"4\": 6, \"5\": 1, \"15\": 1}, \"2\": {\"2\": 233, \"0\": 7}, \"5\": {\"7\": 6, \"5\": 134, \"13\": 6, \"4\": 88, \"6\": 5, \"1\": 1}, \"9\": {\"9\": 240}, \"8\": {\"8\": 237, \"3\": 3}, \"12\": {\"12\": 240}, \"10\": {\"10\": 215, \"13\": 23, \"0\": 2}, \"1\": {\"1\": 229, \"4\": 5, \"5\": 2, \"6\": 4}, \"0\": {\"0\": 233, \"2\": 7}, \"3\": {\"3\": 236, \"8\": 4}, \"13\": {\"5\": 7, \"13\": 197, \"10\": 34, \"7\": 2}, \"11\": {\"11\": 237, \"15\": 3}, \"7\": {\"7\": 221, \"5\": 13, \"13\": 6}, \"14\": {\"14\": 240}}, \"ORACLE.run2_38\": {\"15\": {\"15\": 202, \"5\": 17, \"1\": 17, \"8\": 4}, \"11\": {\"11\": 240}, \"10\": {\"10\": 207, \"7\": 31, \"4\": 1, \"3\": 1}, \"14\": {\"14\": 166, \"2\": 34, \"5\": 5, \"7\": 17, \"8\": 12, \"12\": 4, \"10\": 1, \"4\": 1}, \"6\": {\"6\": 235, \"9\": 5}, \"4\": {\"4\": 237, \"10\": 3}, \"13\": {\"13\": 162, \"3\": 73, \"0\": 2, \"10\": 1, \"8\": 2}, \"3\": {\"3\": 173, \"13\": 41, \"0\": 18, \"10\": 7, \"7\": 1}, \"7\": {\"7\": 166, \"8\": 21, \"10\": 37, \"5\": 14, \"3\": 2}, \"8\": {\"8\": 175, \"7\": 11, \"5\": 49, \"15\": 1, \"0\": 3, \"13\": 1}, \"1\": {\"1\": 231, \"15\": 7, \"5\": 1, \"6\": 1}, \"5\": {\"8\": 51, \"5\": 170, \"7\": 14, \"15\": 4, \"1\": 1}, \"0\": {\"0\": 233, \"7\": 3, \"9\": 1, \"3\": 3}, \"2\": {\"2\": 223, \"14\": 17}, \"12\": {\"12\": 240}, \"9\": {\"9\": 238, \"6\": 2}}, \"ORACLE.run2_20\": {\"10\": {\"10\": 239, \"4\": 1}, \"7\": {\"7\": 234, \"3\": 2, \"5\": 3, \"8\": 1}, \"4\": {\"4\": 240}, \"13\": {\"13\": 216, \"15\": 18, \"5\": 5, \"2\": 1}, \"1\": {\"12\": 35, \"1\": 201, \"15\": 4}, \"0\": {\"0\": 231, \"15\": 3, \"5\": 6}, \"12\": {\"12\": 203, \"1\": 24, \"2\": 9, \"3\": 2, \"15\": 2}, \"5\": {\"5\": 207, \"0\": 9, \"15\": 3, \"2\": 9, \"12\": 7, \"7\": 4, \"3\": 1}, \"6\": {\"6\": 235, \"14\": 5}, \"2\": {\"2\": 180, \"3\": 28, \"12\": 9, \"9\": 18, \"5\": 5}, \"8\": {\"8\": 224, \"14\": 13, \"6\": 2, \"7\": 1}, \"11\": {\"11\": 240}, \"9\": {\"9\": 207, \"2\": 12, \"3\": 10, \"12\": 8, \"1\": 3}, \"14\": {\"14\": 228, \"8\": 9, \"6\": 2, \"10\": 1}, \"15\": {\"15\": 192, \"13\": 26, \"1\": 10, \"5\": 5, \"12\": 1, \"0\": 4, \"9\": 1, \"2\": 1}, \"3\": {\"3\": 189, \"9\": 10, \"2\": 31, \"12\": 5, \"7\": 2, \"4\": 2, \"5\": 1}}, \"ORACLE.run2_14\": {\"14\": {\"14\": 184, \"2\": 53, \"6\": 2, \"3\": 1}, \"0\": {\"0\": 240}, \"4\": {\"4\": 232, \"5\": 7, \"6\": 1}, \"11\": {\"11\": 240}, \"13\": {\"13\": 206, \"6\": 34}, \"9\": {\"9\": 240}, \"3\": {\"3\": 233, \"2\": 6, \"5\": 1}, \"6\": {\"6\": 218, \"13\": 22}, \"1\": {\"1\": 235, \"5\": 4, \"4\": 1}, \"5\": {\"5\": 217, \"2\": 9, \"4\": 4, \"1\": 4, \"3\": 6}, \"12\": {\"12\": 137, \"9\": 35, \"11\": 47, \"0\": 13, \"8\": 5, \"15\": 3}, \"10\": {\"10\": 237, \"14\": 1, \"0\": 1, \"3\": 1}, \"8\": {\"8\": 240}, \"7\": {\"7\": 240}, \"15\": {\"15\": 238, \"13\": 2}, \"2\": {\"2\": 159, \"14\": 45, \"5\": 30, \"3\": 6}}, \"ORACLE.run2_32\": {\"11\": {\"11\": 217, \"4\": 3, \"0\": 5, \"13\": 7, \"7\": 8}, \"1\": {\"1\": 240}, \"2\": {\"2\": 233, \"4\": 3, \"7\": 2, \"5\": 2}, \"0\": {\"0\": 201, \"14\": 3, \"11\": 14, \"8\": 18, \"5\": 3, \"4\": 1}, \"3\": {\"3\": 235, \"13\": 4, \"7\": 1}, \"8\": {\"8\": 220, \"0\": 13, \"13\": 1, \"5\": 4, \"4\": 1, \"15\": 1}, \"12\": {\"12\": 240}, \"5\": {\"5\": 197, \"7\": 7, \"14\": 4, \"2\": 11, \"8\": 12, \"4\": 4, \"0\": 5}, \"15\": {\"15\": 240}, \"7\": {\"7\": 207, \"4\": 16, \"2\": 1, \"11\": 10, \"5\": 3, \"13\": 2, \"0\": 1}, \"4\": {\"4\": 185, \"13\": 38, \"7\": 11, \"8\": 3, \"11\": 3}, \"14\": {\"14\": 224, \"0\": 16}, \"10\": {\"10\": 240}, \"6\": {\"6\": 240}, \"13\": {\"13\": 201, \"4\": 35, \"8\": 1, \"7\": 1, \"3\": 2}, \"9\": {\"9\": 239, \"2\": 1}}, \"ORACLE.run2_8\": {\"9\": {\"9\": 240}, \"11\": {\"12\": 16, \"11\": 193, \"8\": 29, \"15\": 2}, \"8\": {\"8\": 236, \"11\": 2, \"15\": 2}, \"4\": {\"4\": 123, \"7\": 58, \"6\": 57, \"2\": 2}, \"13\": {\"13\": 203, \"14\": 21, \"1\": 11, \"6\": 2, \"10\": 3}, \"14\": {\"14\": 222, \"13\": 7, \"0\": 7, \"10\": 3, \"6\": 1}, \"2\": {\"2\": 230, \"7\": 5, \"4\": 5}, \"3\": {\"3\": 240}, \"1\": {\"1\": 239, \"13\": 1}, \"0\": {\"0\": 229, \"10\": 8, \"14\": 3}, \"5\": {\"5\": 222, \"10\": 18}, \"15\": {\"15\": 218, \"12\": 16, \"8\": 4, \"11\": 2}, \"10\": {\"10\": 218, \"5\": 13, \"0\": 9}, \"12\": {\"12\": 235, \"15\": 5}, \"6\": {\"6\": 175, \"4\": 53, \"7\": 11, \"14\": 1}, \"7\": {\"4\": 49, \"7\": 185, \"6\": 6}}}, \"per_domain_accuracy\": {\"ORACLE.run1_26\": {\"accuracy\": 0.828125, \"source?\": true}, \"ORACLE.run1_44\": {\"accuracy\": 0.8348958333333333, \"source?\": true}, \"ORACLE.run1_50\": {\"accuracy\": 0.9375, \"source?\": true}, \"ORACLE.run1_38\": {\"accuracy\": 0.9432291666666667, \"source?\": true}, \"ORACLE.run1_20\": {\"accuracy\": 0.9291666666666667, \"source?\": true}, \"ORACLE.run1_14\": {\"accuracy\": 0.9455729166666667, \"source?\": true}, \"ORACLE.run1_32\": {\"accuracy\": 0.9184895833333333, \"source?\": true}, \"ORACLE.run1_8\": {\"accuracy\": 0.9372395833333333, \"source?\": true}, \"ORACLE.run2_26\": {\"accuracy\": 0.7963541666666667, \"source?\": false}, \"ORACLE.run2_44\": {\"accuracy\": 0.85078125, \"source?\": false}, \"ORACLE.run2_50\": {\"accuracy\": 0.9169270833333333, \"source?\": false}, \"ORACLE.run2_38\": {\"accuracy\": 0.8588541666666667, \"source?\": false}, \"ORACLE.run2_20\": {\"accuracy\": 0.9026041666666667, \"source?\": false}, \"ORACLE.run2_14\": {\"accuracy\": 0.9104166666666667, \"source?\": false}, \"ORACLE.run2_32\": {\"accuracy\": 0.9268229166666667, \"source?\": false}, \"ORACLE.run2_8\": {\"accuracy\": 0.8875, \"source?\": false}}}, \"history\": {\"epoch_indices\": [1, 2, 3, 4, 5, 6, 7, 8, 9, 10, 11, 12, 13, 14, 15, 16, 17, 18, 19, 20, 21], \"train_label_loss\": [0.7293899878438207, 0.6721274609644232, 0.4246873108531526, 0.3611502299160098, 0.3161520073704499, 0.29039524599959676, 0.2706552493845742, 0.25007142231112256, 0.23835601155781963, 0.22105386600863616, 0.2080169478543255, 0.1987409710893449, 0.20050812171986243, 0.17690914125397242, 0.16768817322833154, 0.15871088545370315, 0.1926493712864959, 0.14592210087015528, 0.1384747178345909, 0.13269273161678852, 0.12716821413810284], \"source_val_label_loss\": [7.373579502105713, 0.4962250292301178, 0.432508647441864, 0.33811941742897034, 0.33529213070869446, 0.34589025378227234, 0.30179235339164734, 0.2967899739742279, 0.2804194390773773, 0.3143080770969391, 0.33383339643478394, 0.3268418610095978, 0.32244250178337097, 0.340717077255249, 0.33279740810394287, 0.28258296847343445, 0.2661901116371155, 0.28659793734550476, 0.3052840828895569, 0.3195134997367859, 0.2864532768726349], \"target_val_label_loss\": [10.753710746765137, 0.642264723777771, 0.6566358208656311, 0.6200644969940186, 0.6798357367515564, 0.7338768839836121, 0.7768380045890808, 0.8418508768081665, 1.0104484558105469, 1.0474956035614014, 1.1483888626098633, 1.265911340713501, 1.268801212310791, 1.31322181224823, 1.6203556060791016, 1.5478519201278687, 0.8301647901535034, 1.4995121955871582, 1.8739919662475586, 2.044510841369629, 1.8113234043121338], \"source_val_acc_label\": [0.7645833333333333, 0.82060546875, 0.8445638020833334, 0.87783203125, 0.8834309895833333, 0.8759440104166667, 0.8918619791666667, 0.89501953125, 0.9041666666666667, 0.8980794270833333, 0.9026692708333334, 0.9057291666666667, 0.8985677083333333, 0.9033854166666667, 0.9048502604166667, 0.91015625, 0.90927734375, 0.90771484375, 0.9095703125, 0.9084309895833333, 0.9096028645833333], \"target_val_acc_label\": [0.7481119791666667, 0.8054036458333333, 0.8296223958333333, 0.8643880208333333, 0.8665690104166667, 0.8551106770833333, 0.873046875, 0.8743815104166667, 0.88046875, 0.8731119791666667, 0.8753580729166667, 0.8807942708333333, 0.8701171875, 0.8742513020833333, 0.8767578125, 0.8808919270833333, 0.8812825520833333, 0.87880859375, 0.8792643229166667, 0.8774088541666667, 0.878515625]}, \"dataset_metrics\": {\"source\": {\"train\": {\"n_unique_x\": 179200, \"n_unique_y\": 16, \"n_batch/episode\": 6720}, \"val\": {\"n_unique_x\": 38400, \"n_unique_y\": 16, \"n_batch/episode\": 960}, \"test\": {\"n_unique_x\": 38400, \"n_unique_y\": 16, \"n_batch/episode\": 960}}, \"target\": {\"train\": {\"n_unique_x\": 179200, \"n_unique_y\": 16, \"n_batch/episode\": 6720}, \"val\": {\"n_unique_x\": 38400, \"n_unique_y\": 16, \"n_batch/episode\": 960}, \"test\": {\"n_unique_x\": 38400, \"n_unique_y\": 16, \"n_batch/episode\": 960}}}}'"
      ]
     },
     "execution_count": 29,
     "metadata": {},
     "output_type": "execute_result"
    }
   ],
   "source": [
    "json.dumps(experiment)"
   ]
  }
 ],
 "metadata": {
  "celltoolbar": "Tags",
  "kernelspec": {
   "display_name": "Python 3 (ipykernel)",
   "language": "python",
   "name": "python3"
  },
  "language_info": {
   "codemirror_mode": {
    "name": "ipython",
    "version": 3
   },
   "file_extension": ".py",
   "mimetype": "text/x-python",
   "name": "python",
   "nbconvert_exporter": "python",
   "pygments_lexer": "ipython3",
   "version": "3.8.12"
  },
  "papermill": {
   "default_parameters": {},
   "duration": 4356.392975,
   "end_time": "2022-03-21T23:28:31.894185",
   "environment_variables": {},
   "exception": null,
   "input_path": "/root/csc500-main/csc500-notebooks/templates/tl_ptn_template.ipynb",
   "output_path": "trial.ipynb",
   "parameters": {
    "parameters": {
     "BEST_MODEL_PATH": "./best_model.pth",
     "NUM_LOGS_PER_EPOCH": 10,
     "criteria_for_best": "target_accuracy",
     "dataset_seed": 7,
     "datasets": [
      {
       "domain_prefix": "ORACLE.run1_",
       "domains": [
        32,
        38,
        8,
        44,
        14,
        50,
        20,
        26
       ],
       "episode_transforms": [],
       "labels": [
        "3123D52",
        "3123D65",
        "3123D79",
        "3123D80",
        "3123D54",
        "3123D70",
        "3123D7B",
        "3123D89",
        "3123D58",
        "3123D76",
        "3123D7D",
        "3123EFE",
        "3123D64",
        "3123D78",
        "3123D7E",
        "3124E4A"
       ],
       "num_examples_per_domain_per_label": 2000,
       "pickle_path": "/root/csc500-main/datasets/oracle.Run1_framed_2000Examples_stratified_ds.2022A.pkl",
       "source_or_target_dataset": "source",
       "x_transforms": [
        "unit_power"
       ]
      },
      {
       "domain_prefix": "ORACLE.run2_",
       "domains": [
        32,
        38,
        8,
        44,
        14,
        50,
        20,
        26
       ],
       "episode_transforms": [],
       "labels": [
        "3123D52",
        "3123D65",
        "3123D79",
        "3123D80",
        "3123D54",
        "3123D70",
        "3123D7B",
        "3123D89",
        "3123D58",
        "3123D76",
        "3123D7D",
        "3123EFE",
        "3123D64",
        "3123D78",
        "3123D7E",
        "3124E4A"
       ],
       "num_examples_per_domain_per_label": 2000,
       "pickle_path": "/root/csc500-main/datasets/oracle.Run2_framed_2000Examples_stratified_ds.2022A.pkl",
       "source_or_target_dataset": "target",
       "x_transforms": [
        "unit_power"
       ]
      }
     ],
     "device": "cuda",
     "experiment_name": "tl_1v2:oracle.run1.framed-oracle.run2.framed",
     "lr": 0.0001,
     "n_epoch": 50,
     "n_query": 2,
     "n_shot": 3,
     "n_way": 16,
     "patience": 3,
     "seed": 7,
     "test_k_factor": 2,
     "torch_default_dtype": "torch.float32",
     "train_k_factor": 3,
     "val_k_factor": 2,
     "x_net": [
      {
       "class": "nnReshape",
       "kargs": {
        "shape": [
         -1,
         1,
         2,
         256
        ]
       }
      },
      {
       "class": "Conv2d",
       "kargs": {
        "bias": false,
        "in_channels": 1,
        "kernel_size": [
         1,
         7
        ],
        "out_channels": 256,
        "padding": [
         0,
         3
        ]
       }
      },
      {
       "class": "ReLU",
       "kargs": {
        "inplace": true
       }
      },
      {
       "class": "BatchNorm2d",
       "kargs": {
        "num_features": 256
       }
      },
      {
       "class": "Conv2d",
       "kargs": {
        "bias": true,
        "in_channels": 256,
        "kernel_size": [
         2,
         7
        ],
        "out_channels": 80,
        "padding": [
         0,
         3
        ]
       }
      },
      {
       "class": "ReLU",
       "kargs": {
        "inplace": true
       }
      },
      {
       "class": "BatchNorm2d",
       "kargs": {
        "num_features": 80
       }
      },
      {
       "class": "Flatten",
       "kargs": {}
      },
      {
       "class": "Linear",
       "kargs": {
        "in_features": 20480,
        "out_features": 256
       }
      },
      {
       "class": "ReLU",
       "kargs": {
        "inplace": true
       }
      },
      {
       "class": "BatchNorm1d",
       "kargs": {
        "num_features": 256
       }
      },
      {
       "class": "Linear",
       "kargs": {
        "in_features": 256,
        "out_features": 256
       }
      }
     ]
    }
   },
   "start_time": "2022-03-21T22:15:55.501210",
   "version": "2.3.4"
  }
 },
 "nbformat": 4,
 "nbformat_minor": 5
}