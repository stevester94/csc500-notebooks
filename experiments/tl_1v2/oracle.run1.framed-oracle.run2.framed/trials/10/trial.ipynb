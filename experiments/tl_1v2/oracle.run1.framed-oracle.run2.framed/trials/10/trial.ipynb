{
 "cells": [
  {
   "cell_type": "markdown",
   "id": "9fea5f46",
   "metadata": {
    "papermill": {
     "duration": 0.028899,
     "end_time": "2022-03-21T13:48:42.746708",
     "exception": false,
     "start_time": "2022-03-21T13:48:42.717809",
     "status": "completed"
    },
    "tags": []
   },
   "source": [
    "# Transfer Learning Template"
   ]
  },
  {
   "cell_type": "code",
   "execution_count": 1,
   "id": "0902182a",
   "metadata": {
    "execution": {
     "iopub.execute_input": "2022-03-21T13:48:42.809084Z",
     "iopub.status.busy": "2022-03-21T13:48:42.808223Z",
     "iopub.status.idle": "2022-03-21T13:48:44.733625Z",
     "shell.execute_reply": "2022-03-21T13:48:44.732397Z"
    },
    "papermill": {
     "duration": 1.964897,
     "end_time": "2022-03-21T13:48:44.733913",
     "exception": false,
     "start_time": "2022-03-21T13:48:42.769016",
     "status": "completed"
    },
    "tags": []
   },
   "outputs": [],
   "source": [
    "%load_ext autoreload\n",
    "%autoreload 2\n",
    "%matplotlib inline\n",
    "\n",
    "    \n",
    "import os, json, sys, time, random\n",
    "import numpy as np\n",
    "import torch\n",
    "from torch.optim import Adam\n",
    "from  easydict import EasyDict\n",
    "import matplotlib.pyplot as plt\n",
    "\n",
    "from steves_models.steves_ptn import Steves_Prototypical_Network\n",
    "\n",
    "from steves_utils.lazy_iterable_wrapper import Lazy_Iterable_Wrapper\n",
    "from steves_utils.iterable_aggregator import Iterable_Aggregator\n",
    "from steves_utils.ptn_train_eval_test_jig import  PTN_Train_Eval_Test_Jig\n",
    "from steves_utils.torch_sequential_builder import build_sequential\n",
    "from steves_utils.torch_utils import get_dataset_metrics, ptn_confusion_by_domain_over_dataloader\n",
    "from steves_utils.utils_v2 import (per_domain_accuracy_from_confusion, get_datasets_base_path)\n",
    "from steves_utils.PTN.utils import independent_accuracy_assesment\n",
    "\n",
    "from torch.utils.data import DataLoader\n",
    "\n",
    "from steves_utils.stratified_dataset.episodic_accessor import Episodic_Accessor_Factory\n",
    "\n",
    "from steves_utils.ptn_do_report import (\n",
    "    get_loss_curve,\n",
    "    get_results_table,\n",
    "    get_parameters_table,\n",
    "    get_domain_accuracies,\n",
    ")\n",
    "\n",
    "from steves_utils.transforms import get_chained_transform"
   ]
  },
  {
   "cell_type": "markdown",
   "id": "41c840b4",
   "metadata": {
    "papermill": {
     "duration": 0.023084,
     "end_time": "2022-03-21T13:48:44.792612",
     "exception": false,
     "start_time": "2022-03-21T13:48:44.769528",
     "status": "completed"
    },
    "tags": []
   },
   "source": [
    "# Allowed Parameters\n",
    "These are allowed parameters, not defaults\n",
    "Each of these values need to be present in the injected parameters (the notebook will raise an exception if they are not present)\n",
    "\n",
    "Papermill uses the cell tag \"parameters\" to inject the real parameters below this cell.\n",
    "Enable tags to see what I mean"
   ]
  },
  {
   "cell_type": "code",
   "execution_count": 2,
   "id": "fd44eb83",
   "metadata": {
    "execution": {
     "iopub.execute_input": "2022-03-21T13:48:44.843995Z",
     "iopub.status.busy": "2022-03-21T13:48:44.843611Z",
     "iopub.status.idle": "2022-03-21T13:48:44.869660Z",
     "shell.execute_reply": "2022-03-21T13:48:44.868947Z"
    },
    "papermill": {
     "duration": 0.057034,
     "end_time": "2022-03-21T13:48:44.869822",
     "exception": false,
     "start_time": "2022-03-21T13:48:44.812788",
     "status": "completed"
    },
    "tags": []
   },
   "outputs": [],
   "source": [
    "required_parameters = {\n",
    "    \"experiment_name\",\n",
    "    \"lr\",\n",
    "    \"device\",\n",
    "    \"seed\",\n",
    "    \"dataset_seed\",\n",
    "    \"n_shot\",\n",
    "    \"n_query\",\n",
    "    \"n_way\",\n",
    "    \"train_k_factor\",\n",
    "    \"val_k_factor\",\n",
    "    \"test_k_factor\",\n",
    "    \"n_epoch\",\n",
    "    \"patience\",\n",
    "    \"criteria_for_best\",\n",
    "    \"x_net\",\n",
    "    \"datasets\",\n",
    "    \"torch_default_dtype\",\n",
    "    \"NUM_LOGS_PER_EPOCH\",\n",
    "    \"BEST_MODEL_PATH\",\n",
    "    \"x_shape\",\n",
    "}"
   ]
  },
  {
   "cell_type": "code",
   "execution_count": 3,
   "id": "fa3f0049",
   "metadata": {
    "execution": {
     "iopub.execute_input": "2022-03-21T13:48:44.925247Z",
     "iopub.status.busy": "2022-03-21T13:48:44.924331Z",
     "iopub.status.idle": "2022-03-21T13:48:44.948159Z",
     "shell.execute_reply": "2022-03-21T13:48:44.947429Z"
    },
    "papermill": {
     "duration": 0.053368,
     "end_time": "2022-03-21T13:48:44.948315",
     "exception": false,
     "start_time": "2022-03-21T13:48:44.894947",
     "status": "completed"
    },
    "tags": [
     "parameters"
    ]
   },
   "outputs": [],
   "source": [
    "from steves_utils.CORES.utils import (\n",
    "    ALL_NODES,\n",
    "    ALL_NODES_MINIMUM_1000_EXAMPLES,\n",
    "    ALL_DAYS\n",
    ")\n",
    "\n",
    "from steves_utils.ORACLE.utils_v2 import (\n",
    "    ALL_DISTANCES_FEET_NARROWED,\n",
    "    ALL_RUNS,\n",
    "    ALL_SERIAL_NUMBERS,\n",
    ")\n",
    "\n",
    "standalone_parameters = {}\n",
    "standalone_parameters[\"experiment_name\"] = \"STANDALONE PTN\"\n",
    "standalone_parameters[\"lr\"] = 0.001\n",
    "standalone_parameters[\"device\"] = \"cuda\"\n",
    "\n",
    "standalone_parameters[\"seed\"] = 1337\n",
    "standalone_parameters[\"dataset_seed\"] = 1337\n",
    "\n",
    "standalone_parameters[\"n_way\"] = 8\n",
    "standalone_parameters[\"n_shot\"] = 3\n",
    "standalone_parameters[\"n_query\"]  = 2\n",
    "standalone_parameters[\"train_k_factor\"] = 1\n",
    "standalone_parameters[\"val_k_factor\"] = 2\n",
    "standalone_parameters[\"test_k_factor\"] = 2\n",
    "\n",
    "\n",
    "standalone_parameters[\"n_epoch\"] = 50\n",
    "\n",
    "standalone_parameters[\"patience\"] = 10\n",
    "standalone_parameters[\"criteria_for_best\"] = \"source_loss\"\n",
    "\n",
    "standalone_parameters[\"datasets\"] = [\n",
    "    {\n",
    "        \"labels\": ALL_SERIAL_NUMBERS,\n",
    "        \"domains\": ALL_DISTANCES_FEET_NARROWED,\n",
    "        \"num_examples_per_domain_per_label\": 100,\n",
    "        \"pickle_path\": os.path.join(get_datasets_base_path(), \"oracle.Run1_framed_2000Examples_stratified_ds.2022A.pkl\"),\n",
    "        \"source_or_target_dataset\": \"source\",\n",
    "        \"x_transforms\": [\"unit_mag\", \"minus_two\"],\n",
    "        \"episode_transforms\": [],\n",
    "        \"domain_prefix\": \"ORACLE_\"\n",
    "    },\n",
    "    {\n",
    "        \"labels\": ALL_NODES,\n",
    "        \"domains\": ALL_DAYS,\n",
    "        \"num_examples_per_domain_per_label\": 100,\n",
    "        \"pickle_path\": os.path.join(get_datasets_base_path(), \"cores.stratified_ds.2022A.pkl\"),\n",
    "        \"source_or_target_dataset\": \"target\",\n",
    "        \"x_transforms\": [\"unit_power\", \"times_zero\"],\n",
    "        \"episode_transforms\": [],\n",
    "        \"domain_prefix\": \"CORES_\"\n",
    "    }   \n",
    "]\n",
    "\n",
    "standalone_parameters[\"torch_default_dtype\"] = \"torch.float32\" \n",
    "\n",
    "\n",
    "\n",
    "standalone_parameters[\"x_net\"] =     [\n",
    "    {\"class\": \"nnReshape\", \"kargs\": {\"shape\":[-1, 1, 2, 256]}},\n",
    "    {\"class\": \"Conv2d\", \"kargs\": { \"in_channels\":1, \"out_channels\":256, \"kernel_size\":(1,7), \"bias\":False, \"padding\":(0,3), },},\n",
    "    {\"class\": \"ReLU\", \"kargs\": {\"inplace\": True}},\n",
    "    {\"class\": \"BatchNorm2d\", \"kargs\": {\"num_features\":256}},\n",
    "\n",
    "    {\"class\": \"Conv2d\", \"kargs\": { \"in_channels\":256, \"out_channels\":80, \"kernel_size\":(2,7), \"bias\":True, \"padding\":(0,3), },},\n",
    "    {\"class\": \"ReLU\", \"kargs\": {\"inplace\": True}},\n",
    "    {\"class\": \"BatchNorm2d\", \"kargs\": {\"num_features\":80}},\n",
    "    {\"class\": \"Flatten\", \"kargs\": {}},\n",
    "\n",
    "    {\"class\": \"Linear\", \"kargs\": {\"in_features\": 80*256, \"out_features\": 256}}, # 80 units per IQ pair\n",
    "    {\"class\": \"ReLU\", \"kargs\": {\"inplace\": True}},\n",
    "    {\"class\": \"BatchNorm1d\", \"kargs\": {\"num_features\":256}},\n",
    "\n",
    "    {\"class\": \"Linear\", \"kargs\": {\"in_features\": 256, \"out_features\": 256}},\n",
    "]\n",
    "\n",
    "# Parameters relevant to results\n",
    "# These parameters will basically never need to change\n",
    "standalone_parameters[\"NUM_LOGS_PER_EPOCH\"] = 10\n",
    "standalone_parameters[\"BEST_MODEL_PATH\"] = \"./best_model.pth\"\n",
    "\n",
    "\n",
    "\n",
    "\n"
   ]
  },
  {
   "cell_type": "code",
   "execution_count": 4,
   "id": "a98e2b41",
   "metadata": {
    "execution": {
     "iopub.execute_input": "2022-03-21T13:48:45.010507Z",
     "iopub.status.busy": "2022-03-21T13:48:44.997862Z",
     "iopub.status.idle": "2022-03-21T13:48:45.031886Z",
     "shell.execute_reply": "2022-03-21T13:48:45.032589Z"
    },
    "papermill": {
     "duration": 0.056699,
     "end_time": "2022-03-21T13:48:45.032769",
     "exception": false,
     "start_time": "2022-03-21T13:48:44.976070",
     "status": "completed"
    },
    "tags": [
     "injected-parameters"
    ]
   },
   "outputs": [],
   "source": [
    "# Parameters\n",
    "parameters = {\n",
    "    \"experiment_name\": \"tl_1v2:oracle.run1.framed-oracle.run2.framed\",\n",
    "    \"device\": \"cuda\",\n",
    "    \"lr\": 0.0001,\n",
    "    \"n_shot\": 3,\n",
    "    \"n_query\": 2,\n",
    "    \"train_k_factor\": 3,\n",
    "    \"val_k_factor\": 2,\n",
    "    \"test_k_factor\": 2,\n",
    "    \"torch_default_dtype\": \"torch.float32\",\n",
    "    \"n_epoch\": 50,\n",
    "    \"patience\": 3,\n",
    "    \"criteria_for_best\": \"target_accuracy\",\n",
    "    \"x_net\": [\n",
    "        {\"class\": \"nnReshape\", \"kargs\": {\"shape\": [-1, 1, 2, 256]}},\n",
    "        {\n",
    "            \"class\": \"Conv2d\",\n",
    "            \"kargs\": {\n",
    "                \"in_channels\": 1,\n",
    "                \"out_channels\": 256,\n",
    "                \"kernel_size\": [1, 7],\n",
    "                \"bias\": False,\n",
    "                \"padding\": [0, 3],\n",
    "            },\n",
    "        },\n",
    "        {\"class\": \"ReLU\", \"kargs\": {\"inplace\": True}},\n",
    "        {\"class\": \"BatchNorm2d\", \"kargs\": {\"num_features\": 256}},\n",
    "        {\n",
    "            \"class\": \"Conv2d\",\n",
    "            \"kargs\": {\n",
    "                \"in_channels\": 256,\n",
    "                \"out_channels\": 80,\n",
    "                \"kernel_size\": [2, 7],\n",
    "                \"bias\": True,\n",
    "                \"padding\": [0, 3],\n",
    "            },\n",
    "        },\n",
    "        {\"class\": \"ReLU\", \"kargs\": {\"inplace\": True}},\n",
    "        {\"class\": \"BatchNorm2d\", \"kargs\": {\"num_features\": 80}},\n",
    "        {\"class\": \"Flatten\", \"kargs\": {}},\n",
    "        {\"class\": \"Linear\", \"kargs\": {\"in_features\": 20480, \"out_features\": 256}},\n",
    "        {\"class\": \"ReLU\", \"kargs\": {\"inplace\": True}},\n",
    "        {\"class\": \"BatchNorm1d\", \"kargs\": {\"num_features\": 256}},\n",
    "        {\"class\": \"Linear\", \"kargs\": {\"in_features\": 256, \"out_features\": 256}},\n",
    "    ],\n",
    "    \"NUM_LOGS_PER_EPOCH\": 10,\n",
    "    \"BEST_MODEL_PATH\": \"./best_model.pth\",\n",
    "    \"n_way\": 16,\n",
    "    \"datasets\": [\n",
    "        {\n",
    "            \"labels\": [\n",
    "                \"3123D52\",\n",
    "                \"3123D65\",\n",
    "                \"3123D79\",\n",
    "                \"3123D80\",\n",
    "                \"3123D54\",\n",
    "                \"3123D70\",\n",
    "                \"3123D7B\",\n",
    "                \"3123D89\",\n",
    "                \"3123D58\",\n",
    "                \"3123D76\",\n",
    "                \"3123D7D\",\n",
    "                \"3123EFE\",\n",
    "                \"3123D64\",\n",
    "                \"3123D78\",\n",
    "                \"3123D7E\",\n",
    "                \"3124E4A\",\n",
    "            ],\n",
    "            \"domains\": [32, 38, 8, 44, 14, 50, 20, 26],\n",
    "            \"num_examples_per_domain_per_label\": 2000,\n",
    "            \"pickle_path\": \"/root/csc500-main/datasets/oracle.Run1_framed_2000Examples_stratified_ds.2022A.pkl\",\n",
    "            \"source_or_target_dataset\": \"target\",\n",
    "            \"x_transforms\": [\"unit_mag\"],\n",
    "            \"episode_transforms\": [],\n",
    "            \"domain_prefix\": \"ORACLE.run1_\",\n",
    "        },\n",
    "        {\n",
    "            \"labels\": [\n",
    "                \"3123D52\",\n",
    "                \"3123D65\",\n",
    "                \"3123D79\",\n",
    "                \"3123D80\",\n",
    "                \"3123D54\",\n",
    "                \"3123D70\",\n",
    "                \"3123D7B\",\n",
    "                \"3123D89\",\n",
    "                \"3123D58\",\n",
    "                \"3123D76\",\n",
    "                \"3123D7D\",\n",
    "                \"3123EFE\",\n",
    "                \"3123D64\",\n",
    "                \"3123D78\",\n",
    "                \"3123D7E\",\n",
    "                \"3124E4A\",\n",
    "            ],\n",
    "            \"domains\": [32, 38, 8, 44, 14, 50, 20, 26],\n",
    "            \"num_examples_per_domain_per_label\": 2000,\n",
    "            \"pickle_path\": \"/root/csc500-main/datasets/oracle.Run2_framed_2000Examples_stratified_ds.2022A.pkl\",\n",
    "            \"source_or_target_dataset\": \"source\",\n",
    "            \"x_transforms\": [\"unit_mag\"],\n",
    "            \"episode_transforms\": [],\n",
    "            \"domain_prefix\": \"ORACLE.run2_\",\n",
    "        },\n",
    "    ],\n",
    "    \"dataset_seed\": 420,\n",
    "    \"seed\": 420,\n",
    "}\n"
   ]
  },
  {
   "cell_type": "code",
   "execution_count": 5,
   "id": "8fa1cc33",
   "metadata": {
    "execution": {
     "iopub.execute_input": "2022-03-21T13:48:45.086282Z",
     "iopub.status.busy": "2022-03-21T13:48:45.085714Z",
     "iopub.status.idle": "2022-03-21T13:48:45.111414Z",
     "shell.execute_reply": "2022-03-21T13:48:45.112109Z"
    },
    "papermill": {
     "duration": 0.053808,
     "end_time": "2022-03-21T13:48:45.112301",
     "exception": false,
     "start_time": "2022-03-21T13:48:45.058493",
     "status": "completed"
    },
    "tags": []
   },
   "outputs": [],
   "source": [
    "# Set this to True if you want to run this template directly\n",
    "STANDALONE = False\n",
    "if STANDALONE:\n",
    "    print(\"parameters not injected, running with standalone_parameters\")\n",
    "    parameters = standalone_parameters\n",
    "\n",
    "if not 'parameters' in locals() and not 'parameters' in globals():\n",
    "    raise Exception(\"Parameter injection failed\")\n",
    "\n",
    "#Use an easy dict for all the parameters\n",
    "p = EasyDict(parameters)\n",
    "\n",
    "if \"x_shape\" not in p:\n",
    "    p.x_shape = [2,256] # Default to this if we dont supply x_shape\n",
    "\n",
    "\n",
    "supplied_keys = set(p.keys())\n",
    "\n",
    "if  supplied_keys != required_parameters:\n",
    "    print(\"Parameters are incorrect\")\n",
    "    if len(supplied_keys - required_parameters)>0: print(\"Shouldn't have:\", str(supplied_keys - required_parameters))\n",
    "    if len(required_parameters - supplied_keys)>0: print(\"Need to have:\", str(required_parameters - supplied_keys))\n",
    "    raise RuntimeError(\"Parameters are incorrect\")"
   ]
  },
  {
   "cell_type": "code",
   "execution_count": 6,
   "id": "3a028d58",
   "metadata": {
    "execution": {
     "iopub.execute_input": "2022-03-21T13:48:45.165184Z",
     "iopub.status.busy": "2022-03-21T13:48:45.164390Z",
     "iopub.status.idle": "2022-03-21T13:48:45.191217Z",
     "shell.execute_reply": "2022-03-21T13:48:45.190397Z"
    },
    "papermill": {
     "duration": 0.050954,
     "end_time": "2022-03-21T13:48:45.191373",
     "exception": false,
     "start_time": "2022-03-21T13:48:45.140419",
     "status": "completed"
    },
    "tags": []
   },
   "outputs": [],
   "source": [
    "###################################\n",
    "# Set the RNGs and make it all deterministic\n",
    "###################################\n",
    "np.random.seed(p.seed)\n",
    "random.seed(p.seed)\n",
    "torch.manual_seed(p.seed)\n",
    "\n",
    "torch.use_deterministic_algorithms(True) "
   ]
  },
  {
   "cell_type": "code",
   "execution_count": 7,
   "id": "b691acf6",
   "metadata": {
    "execution": {
     "iopub.execute_input": "2022-03-21T13:48:45.241705Z",
     "iopub.status.busy": "2022-03-21T13:48:45.241340Z",
     "iopub.status.idle": "2022-03-21T13:48:45.266735Z",
     "shell.execute_reply": "2022-03-21T13:48:45.265927Z"
    },
    "papermill": {
     "duration": 0.048706,
     "end_time": "2022-03-21T13:48:45.266889",
     "exception": false,
     "start_time": "2022-03-21T13:48:45.218183",
     "status": "completed"
    },
    "tags": []
   },
   "outputs": [],
   "source": [
    "###########################################\n",
    "# The stratified datasets honor this\n",
    "###########################################\n",
    "torch.set_default_dtype(eval(p.torch_default_dtype))"
   ]
  },
  {
   "cell_type": "code",
   "execution_count": 8,
   "id": "b5fba671",
   "metadata": {
    "execution": {
     "iopub.execute_input": "2022-03-21T13:48:45.315195Z",
     "iopub.status.busy": "2022-03-21T13:48:45.314831Z",
     "iopub.status.idle": "2022-03-21T13:48:45.373528Z",
     "shell.execute_reply": "2022-03-21T13:48:45.372763Z"
    },
    "papermill": {
     "duration": 0.081895,
     "end_time": "2022-03-21T13:48:45.373688",
     "exception": false,
     "start_time": "2022-03-21T13:48:45.291793",
     "status": "completed"
    },
    "tags": []
   },
   "outputs": [],
   "source": [
    "###################################\n",
    "# Build the network(s)\n",
    "# Note: It's critical to do this AFTER setting the RNG\n",
    "###################################\n",
    "x_net = build_sequential(p.x_net)"
   ]
  },
  {
   "cell_type": "code",
   "execution_count": 9,
   "id": "5d7e61cc",
   "metadata": {
    "execution": {
     "iopub.execute_input": "2022-03-21T13:48:45.423971Z",
     "iopub.status.busy": "2022-03-21T13:48:45.423604Z",
     "iopub.status.idle": "2022-03-21T13:48:45.449559Z",
     "shell.execute_reply": "2022-03-21T13:48:45.448748Z"
    },
    "papermill": {
     "duration": 0.049665,
     "end_time": "2022-03-21T13:48:45.449717",
     "exception": false,
     "start_time": "2022-03-21T13:48:45.400052",
     "status": "completed"
    },
    "tags": []
   },
   "outputs": [],
   "source": [
    "start_time_secs = time.time()"
   ]
  },
  {
   "cell_type": "code",
   "execution_count": 10,
   "id": "c6b67dfd",
   "metadata": {
    "execution": {
     "iopub.execute_input": "2022-03-21T13:48:45.499621Z",
     "iopub.status.busy": "2022-03-21T13:48:45.499239Z",
     "iopub.status.idle": "2022-03-21T13:48:45.523394Z",
     "shell.execute_reply": "2022-03-21T13:48:45.522572Z"
    },
    "papermill": {
     "duration": 0.048231,
     "end_time": "2022-03-21T13:48:45.523567",
     "exception": false,
     "start_time": "2022-03-21T13:48:45.475336",
     "status": "completed"
    },
    "tags": []
   },
   "outputs": [],
   "source": [
    "p.domains_source = []\n",
    "p.domains_target = []\n",
    "\n",
    "\n",
    "train_original_source = []\n",
    "val_original_source   = []\n",
    "test_original_source  = []\n",
    "\n",
    "train_original_target = []\n",
    "val_original_target   = []\n",
    "test_original_target  = []"
   ]
  },
  {
   "cell_type": "code",
   "execution_count": 11,
   "id": "e3d9c3d3",
   "metadata": {
    "execution": {
     "iopub.execute_input": "2022-03-21T13:48:45.573253Z",
     "iopub.status.busy": "2022-03-21T13:48:45.572409Z",
     "iopub.status.idle": "2022-03-21T13:48:45.597382Z",
     "shell.execute_reply": "2022-03-21T13:48:45.596561Z"
    },
    "papermill": {
     "duration": 0.048501,
     "end_time": "2022-03-21T13:48:45.597540",
     "exception": false,
     "start_time": "2022-03-21T13:48:45.549039",
     "status": "completed"
    },
    "tags": []
   },
   "outputs": [],
   "source": [
    "# global_x_transform_func = lambda x: normalize(x.to(torch.get_default_dtype()), \"unit_power\") # unit_power, unit_mag\n",
    "# global_x_transform_func = lambda x: normalize(x, \"unit_power\") # unit_power, unit_mag"
   ]
  },
  {
   "cell_type": "code",
   "execution_count": 12,
   "id": "acb78fd2",
   "metadata": {
    "execution": {
     "iopub.execute_input": "2022-03-21T13:48:45.659029Z",
     "iopub.status.busy": "2022-03-21T13:48:45.658017Z",
     "iopub.status.idle": "2022-03-21T13:48:45.678828Z",
     "shell.execute_reply": "2022-03-21T13:48:45.679460Z"
    },
    "papermill": {
     "duration": 0.056069,
     "end_time": "2022-03-21T13:48:45.679674",
     "exception": false,
     "start_time": "2022-03-21T13:48:45.623605",
     "status": "completed"
    },
    "tags": []
   },
   "outputs": [],
   "source": [
    "def add_dataset(\n",
    "    labels,\n",
    "    domains,\n",
    "    pickle_path,\n",
    "    x_transforms,\n",
    "    episode_transforms,\n",
    "    domain_prefix,\n",
    "    num_examples_per_domain_per_label,\n",
    "    source_or_target_dataset:str,\n",
    "    iterator_seed=p.seed,\n",
    "    dataset_seed=p.dataset_seed,\n",
    "    n_shot=p.n_shot,\n",
    "    n_way=p.n_way,\n",
    "    n_query=p.n_query,\n",
    "    train_val_test_k_factors=(p.train_k_factor,p.val_k_factor,p.test_k_factor),\n",
    "):\n",
    "   \n",
    "    if x_transforms == []: x_transform = None\n",
    "    else: x_transform = get_chained_transform(x_transforms)\n",
    "    \n",
    "    if episode_transforms == []: episode_transform = None\n",
    "    else: raise Exception(\"episode_transforms not implemented\")\n",
    "    \n",
    "    episode_transform = lambda tup, _prefix=domain_prefix: (_prefix + str(tup[0]), tup[1])\n",
    "\n",
    "\n",
    "    eaf = Episodic_Accessor_Factory(\n",
    "        labels=labels,\n",
    "        domains=domains,\n",
    "        num_examples_per_domain_per_label=num_examples_per_domain_per_label,\n",
    "        iterator_seed=iterator_seed,\n",
    "        dataset_seed=dataset_seed,\n",
    "        n_shot=n_shot,\n",
    "        n_way=n_way,\n",
    "        n_query=n_query,\n",
    "        train_val_test_k_factors=train_val_test_k_factors,\n",
    "        pickle_path=pickle_path,\n",
    "        x_transform_func=x_transform,\n",
    "    )\n",
    "\n",
    "    train, val, test = eaf.get_train(), eaf.get_val(), eaf.get_test()\n",
    "    train = Lazy_Iterable_Wrapper(train, episode_transform)\n",
    "    val = Lazy_Iterable_Wrapper(val, episode_transform)\n",
    "    test = Lazy_Iterable_Wrapper(test, episode_transform)\n",
    "\n",
    "    if source_or_target_dataset==\"source\":\n",
    "        train_original_source.append(train)\n",
    "        val_original_source.append(val)\n",
    "        test_original_source.append(test)\n",
    "\n",
    "        p.domains_source.extend(\n",
    "            [domain_prefix + str(u) for u in domains]\n",
    "        )\n",
    "    elif source_or_target_dataset==\"target\":\n",
    "        train_original_target.append(train)\n",
    "        val_original_target.append(val)\n",
    "        test_original_target.append(test)\n",
    "        p.domains_target.extend(\n",
    "            [domain_prefix + str(u) for u in domains]\n",
    "        )\n",
    "    else:\n",
    "        raise Exception(f\"invalid source_or_target_dataset: {source_or_target_dataset}\")\n",
    "    "
   ]
  },
  {
   "cell_type": "code",
   "execution_count": 13,
   "id": "fe266617",
   "metadata": {
    "execution": {
     "iopub.execute_input": "2022-03-21T13:48:45.727989Z",
     "iopub.status.busy": "2022-03-21T13:48:45.727617Z",
     "iopub.status.idle": "2022-03-21T13:49:27.785819Z",
     "shell.execute_reply": "2022-03-21T13:49:27.785069Z"
    },
    "papermill": {
     "duration": 42.081677,
     "end_time": "2022-03-21T13:49:27.785997",
     "exception": false,
     "start_time": "2022-03-21T13:48:45.704320",
     "status": "completed"
    },
    "tags": []
   },
   "outputs": [],
   "source": [
    "for ds in p.datasets:\n",
    "    add_dataset(**ds)"
   ]
  },
  {
   "cell_type": "code",
   "execution_count": 14,
   "id": "b90d65ac",
   "metadata": {
    "execution": {
     "iopub.execute_input": "2022-03-21T13:49:27.839472Z",
     "iopub.status.busy": "2022-03-21T13:49:27.838941Z",
     "iopub.status.idle": "2022-03-21T13:49:27.867035Z",
     "shell.execute_reply": "2022-03-21T13:49:27.866213Z"
    },
    "papermill": {
     "duration": 0.052098,
     "end_time": "2022-03-21T13:49:27.867211",
     "exception": false,
     "start_time": "2022-03-21T13:49:27.815113",
     "status": "completed"
    },
    "tags": []
   },
   "outputs": [],
   "source": [
    "# from steves_utils.CORES.utils import (\n",
    "#     ALL_NODES,\n",
    "#     ALL_NODES_MINIMUM_1000_EXAMPLES,\n",
    "#     ALL_DAYS\n",
    "# )\n",
    "\n",
    "# add_dataset(\n",
    "#     labels=ALL_NODES,\n",
    "#     domains = ALL_DAYS,\n",
    "#     num_examples_per_domain_per_label=100,\n",
    "#     pickle_path=os.path.join(get_datasets_base_path(), \"cores.stratified_ds.2022A.pkl\"),\n",
    "#     source_or_target_dataset=\"target\",\n",
    "#     x_transform_func=global_x_transform_func,\n",
    "#     domain_modifier=lambda u: f\"cores_{u}\"\n",
    "# )"
   ]
  },
  {
   "cell_type": "code",
   "execution_count": 15,
   "id": "76db484d",
   "metadata": {
    "execution": {
     "iopub.execute_input": "2022-03-21T13:49:27.916184Z",
     "iopub.status.busy": "2022-03-21T13:49:27.915259Z",
     "iopub.status.idle": "2022-03-21T13:49:27.936912Z",
     "shell.execute_reply": "2022-03-21T13:49:27.936094Z"
    },
    "papermill": {
     "duration": 0.044478,
     "end_time": "2022-03-21T13:49:27.937084",
     "exception": false,
     "start_time": "2022-03-21T13:49:27.892606",
     "status": "completed"
    },
    "tags": []
   },
   "outputs": [],
   "source": [
    "# from steves_utils.ORACLE.utils_v2 import (\n",
    "#     ALL_DISTANCES_FEET,\n",
    "#     ALL_RUNS,\n",
    "#     ALL_SERIAL_NUMBERS,\n",
    "# )\n",
    "\n",
    "\n",
    "# add_dataset(\n",
    "#     labels=ALL_SERIAL_NUMBERS,\n",
    "#     domains = list(set(ALL_DISTANCES_FEET) - {2,62}),\n",
    "#     num_examples_per_domain_per_label=100,\n",
    "#     pickle_path=os.path.join(get_datasets_base_path(), \"oracle.Run2_framed_2000Examples_stratified_ds.2022A.pkl\"),\n",
    "#     source_or_target_dataset=\"source\",\n",
    "#     x_transform_func=global_x_transform_func,\n",
    "#     domain_modifier=lambda u: f\"oracle1_{u}\"\n",
    "# )\n"
   ]
  },
  {
   "cell_type": "code",
   "execution_count": 16,
   "id": "97dea9d2",
   "metadata": {
    "execution": {
     "iopub.execute_input": "2022-03-21T13:49:27.985384Z",
     "iopub.status.busy": "2022-03-21T13:49:27.985014Z",
     "iopub.status.idle": "2022-03-21T13:49:28.002420Z",
     "shell.execute_reply": "2022-03-21T13:49:28.001625Z"
    },
    "papermill": {
     "duration": 0.040695,
     "end_time": "2022-03-21T13:49:28.002583",
     "exception": false,
     "start_time": "2022-03-21T13:49:27.961888",
     "status": "completed"
    },
    "tags": []
   },
   "outputs": [],
   "source": [
    "# from steves_utils.ORACLE.utils_v2 import (\n",
    "#     ALL_DISTANCES_FEET,\n",
    "#     ALL_RUNS,\n",
    "#     ALL_SERIAL_NUMBERS,\n",
    "# )\n",
    "\n",
    "\n",
    "# add_dataset(\n",
    "#     labels=ALL_SERIAL_NUMBERS,\n",
    "#     domains = list(set(ALL_DISTANCES_FEET) - {2,62,56}),\n",
    "#     num_examples_per_domain_per_label=100,\n",
    "#     pickle_path=os.path.join(get_datasets_base_path(), \"oracle.Run2_framed_2000Examples_stratified_ds.2022A.pkl\"),\n",
    "#     source_or_target_dataset=\"source\",\n",
    "#     x_transform_func=global_x_transform_func,\n",
    "#     domain_modifier=lambda u: f\"oracle2_{u}\"\n",
    "# )"
   ]
  },
  {
   "cell_type": "code",
   "execution_count": 17,
   "id": "6f289866",
   "metadata": {
    "execution": {
     "iopub.execute_input": "2022-03-21T13:49:28.051766Z",
     "iopub.status.busy": "2022-03-21T13:49:28.051284Z",
     "iopub.status.idle": "2022-03-21T13:49:28.068704Z",
     "shell.execute_reply": "2022-03-21T13:49:28.067899Z"
    },
    "papermill": {
     "duration": 0.040249,
     "end_time": "2022-03-21T13:49:28.068871",
     "exception": false,
     "start_time": "2022-03-21T13:49:28.028622",
     "status": "completed"
    },
    "tags": []
   },
   "outputs": [],
   "source": [
    "# add_dataset(\n",
    "#     labels=list(range(19)),\n",
    "#     domains = [0,1,2],\n",
    "#     num_examples_per_domain_per_label=100,\n",
    "#     pickle_path=os.path.join(get_datasets_base_path(), \"metehan.stratified_ds.2022A.pkl\"),\n",
    "#     source_or_target_dataset=\"target\",\n",
    "#     x_transform_func=global_x_transform_func,\n",
    "#     domain_modifier=lambda u: f\"met_{u}\"\n",
    "# )"
   ]
  },
  {
   "cell_type": "code",
   "execution_count": 18,
   "id": "86a863c3",
   "metadata": {
    "execution": {
     "iopub.execute_input": "2022-03-21T13:49:28.137803Z",
     "iopub.status.busy": "2022-03-21T13:49:28.129919Z",
     "iopub.status.idle": "2022-03-21T13:49:28.149179Z",
     "shell.execute_reply": "2022-03-21T13:49:28.148377Z"
    },
    "papermill": {
     "duration": 0.055221,
     "end_time": "2022-03-21T13:49:28.149344",
     "exception": false,
     "start_time": "2022-03-21T13:49:28.094123",
     "status": "completed"
    },
    "tags": []
   },
   "outputs": [],
   "source": [
    "# # from steves_utils.wisig.utils import (\n",
    "# #     ALL_NODES_MINIMUM_100_EXAMPLES,\n",
    "# #     ALL_NODES_MINIMUM_500_EXAMPLES,\n",
    "# #     ALL_NODES_MINIMUM_1000_EXAMPLES,\n",
    "# #     ALL_DAYS\n",
    "# # )\n",
    "\n",
    "# import steves_utils.wisig.utils as wisig\n",
    "\n",
    "\n",
    "# add_dataset(\n",
    "#     labels=wisig.ALL_NODES_MINIMUM_100_EXAMPLES,\n",
    "#     domains = wisig.ALL_DAYS,\n",
    "#     num_examples_per_domain_per_label=100,\n",
    "#     pickle_path=os.path.join(get_datasets_base_path(), \"wisig.node3-19.stratified_ds.2022A.pkl\"),\n",
    "#     source_or_target_dataset=\"target\",\n",
    "#     x_transform_func=global_x_transform_func,\n",
    "#     domain_modifier=lambda u: f\"wisig_{u}\"\n",
    "# )"
   ]
  },
  {
   "cell_type": "code",
   "execution_count": 19,
   "id": "fd5442bc",
   "metadata": {
    "execution": {
     "iopub.execute_input": "2022-03-21T13:49:28.207065Z",
     "iopub.status.busy": "2022-03-21T13:49:28.206213Z",
     "iopub.status.idle": "2022-03-21T13:49:28.224654Z",
     "shell.execute_reply": "2022-03-21T13:49:28.223948Z"
    },
    "papermill": {
     "duration": 0.048964,
     "end_time": "2022-03-21T13:49:28.224812",
     "exception": false,
     "start_time": "2022-03-21T13:49:28.175848",
     "status": "completed"
    },
    "tags": []
   },
   "outputs": [],
   "source": [
    "###################################\n",
    "# Build the dataset\n",
    "###################################\n",
    "train_original_source = Iterable_Aggregator(train_original_source, p.seed)\n",
    "val_original_source = Iterable_Aggregator(val_original_source, p.seed)\n",
    "test_original_source = Iterable_Aggregator(test_original_source, p.seed)\n",
    "\n",
    "\n",
    "train_original_target = Iterable_Aggregator(train_original_target, p.seed)\n",
    "val_original_target = Iterable_Aggregator(val_original_target, p.seed)\n",
    "test_original_target = Iterable_Aggregator(test_original_target, p.seed)\n",
    "\n",
    "# For CNN We only use X and Y. And we only train on the source.\n",
    "# Properly form the data using a transform lambda and Lazy_Iterable_Wrapper. Finally wrap them in a dataloader\n",
    "\n",
    "transform_lambda = lambda ex: ex[1] # Original is (<domain>, <episode>) so we strip down to episode only\n",
    "\n",
    "train_processed_source = Lazy_Iterable_Wrapper(train_original_source, transform_lambda)\n",
    "val_processed_source   = Lazy_Iterable_Wrapper(val_original_source, transform_lambda)\n",
    "test_processed_source  = Lazy_Iterable_Wrapper(test_original_source, transform_lambda)\n",
    "\n",
    "train_processed_target = Lazy_Iterable_Wrapper(train_original_target, transform_lambda)\n",
    "val_processed_target   = Lazy_Iterable_Wrapper(val_original_target, transform_lambda)\n",
    "test_processed_target  = Lazy_Iterable_Wrapper(test_original_target, transform_lambda)\n",
    "\n",
    "datasets = EasyDict({\n",
    "    \"source\": {\n",
    "        \"original\": {\"train\":train_original_source, \"val\":val_original_source, \"test\":test_original_source},\n",
    "        \"processed\": {\"train\":train_processed_source, \"val\":val_processed_source, \"test\":test_processed_source}\n",
    "    },\n",
    "    \"target\": {\n",
    "        \"original\": {\"train\":train_original_target, \"val\":val_original_target, \"test\":test_original_target},\n",
    "        \"processed\": {\"train\":train_processed_target, \"val\":val_processed_target, \"test\":test_processed_target}\n",
    "    },\n",
    "})"
   ]
  },
  {
   "cell_type": "code",
   "execution_count": 20,
   "id": "5b3c01fc",
   "metadata": {
    "execution": {
     "iopub.execute_input": "2022-03-21T13:49:28.281029Z",
     "iopub.status.busy": "2022-03-21T13:49:28.274861Z",
     "iopub.status.idle": "2022-03-21T13:49:44.387372Z",
     "shell.execute_reply": "2022-03-21T13:49:44.386652Z"
    },
    "papermill": {
     "duration": 16.137312,
     "end_time": "2022-03-21T13:49:44.387559",
     "exception": false,
     "start_time": "2022-03-21T13:49:28.250247",
     "status": "completed"
    },
    "tags": []
   },
   "outputs": [
    {
     "name": "stdout",
     "output_type": "stream",
     "text": [
      "{'ORACLE.run2_44', 'ORACLE.run2_20', 'ORACLE.run2_8', 'ORACLE.run2_26', 'ORACLE.run2_32', 'ORACLE.run2_50', 'ORACLE.run2_38', 'ORACLE.run2_14'}\n"
     ]
    },
    {
     "name": "stdout",
     "output_type": "stream",
     "text": [
      "{'ORACLE.run1_26', 'ORACLE.run1_20', 'ORACLE.run1_44', 'ORACLE.run1_38', 'ORACLE.run1_32', 'ORACLE.run1_8', 'ORACLE.run1_14', 'ORACLE.run1_50'}\n"
     ]
    },
    {
     "name": "stdout",
     "output_type": "stream",
     "text": [
      "tensor([[[ 0.4766, -1.2546,  0.0000,  ...,  1.2741, -0.0875, -0.1751],\n",
      "         [ 0.6905, -0.0584, -0.7781,  ..., -0.1653,  1.2157,  0.9239]],\n",
      "\n",
      "        [[-1.0768,  0.0679,  1.3678,  ..., -0.4559, -0.8828,  0.9604],\n",
      "         [-0.3298, -0.6596,  0.5141,  ...,  1.1738,  0.7954,  0.8731]],\n",
      "\n",
      "        [[-1.1073, -0.5051,  1.0490,  ...,  0.5925,  0.2331,  1.1559],\n",
      "         [ 0.6605, -0.7479, -0.7965,  ...,  1.3016,  0.8450, -0.1457]],\n",
      "\n",
      "        ...,\n",
      "\n",
      "        [[-0.6568,  0.4450,  0.7133,  ..., -0.1201, -1.1724, -0.9605],\n",
      "         [ 0.0636, -1.1230,  0.4520,  ...,  1.1865, -0.5791, -0.2896]],\n",
      "\n",
      "        [[ 0.2753, -1.1363,  0.0635,  ...,  1.1152,  0.4023,  0.7340],\n",
      "         [ 0.6423,  0.4658, -1.0022,  ..., -0.5152,  1.3199,  0.5364]],\n",
      "\n",
      "        [[-0.3049, -0.8297,  0.1773,  ...,  1.1772,  0.8864,  0.7659],\n",
      "         [ 1.2410, -0.0284, -1.3828,  ...,  0.2766,  0.5248, -1.1204]]])\n"
     ]
    }
   ],
   "source": [
    "from steves_utils.transforms import get_average_magnitude, get_average_power\n",
    "\n",
    "print(set([u for u,_ in val_original_source]))\n",
    "print(set([u for u,_ in val_original_target]))\n",
    "\n",
    "s_x, s_y, q_x, q_y, _ = next(iter(train_processed_source))\n",
    "print(s_x)\n",
    "\n",
    "# for ds in [\n",
    "#     train_processed_source,\n",
    "#     val_processed_source,\n",
    "#     test_processed_source,\n",
    "#     train_processed_target,\n",
    "#     val_processed_target,\n",
    "#     test_processed_target\n",
    "# ]:\n",
    "#     for s_x, s_y, q_x, q_y, _ in ds:\n",
    "#         for X in (s_x, q_x):\n",
    "#             for x in X:\n",
    "#                 assert np.isclose(get_average_magnitude(x.numpy()), 1.0)\n",
    "#                 assert np.isclose(get_average_power(x.numpy()), 1.0)\n",
    "                "
   ]
  },
  {
   "cell_type": "code",
   "execution_count": 21,
   "id": "bbdacba1",
   "metadata": {
    "execution": {
     "iopub.execute_input": "2022-03-21T13:49:44.446804Z",
     "iopub.status.busy": "2022-03-21T13:49:44.446433Z",
     "iopub.status.idle": "2022-03-21T13:49:44.583336Z",
     "shell.execute_reply": "2022-03-21T13:49:44.583706Z"
    },
    "papermill": {
     "duration": 0.164539,
     "end_time": "2022-03-21T13:49:44.583842",
     "exception": false,
     "start_time": "2022-03-21T13:49:44.419303",
     "status": "completed"
    },
    "tags": []
   },
   "outputs": [
    {
     "name": "stdout",
     "output_type": "stream",
     "text": [
      "(2, 256)\n"
     ]
    }
   ],
   "source": [
    "###################################\n",
    "# Build the model\n",
    "###################################\n",
    "# easfsl only wants a tuple for the shape\n",
    "model = Steves_Prototypical_Network(x_net, device=p.device, x_shape=tuple(p.x_shape))\n",
    "optimizer = Adam(params=model.parameters(), lr=p.lr)"
   ]
  },
  {
   "cell_type": "code",
   "execution_count": 22,
   "id": "22b39ac5",
   "metadata": {
    "execution": {
     "iopub.execute_input": "2022-03-21T13:49:44.662133Z",
     "iopub.status.busy": "2022-03-21T13:49:44.661768Z",
     "iopub.status.idle": "2022-03-21T15:06:04.592484Z",
     "shell.execute_reply": "2022-03-21T15:06:04.592052Z"
    },
    "papermill": {
     "duration": 4579.957976,
     "end_time": "2022-03-21T15:06:04.592622",
     "exception": false,
     "start_time": "2022-03-21T13:49:44.634646",
     "status": "completed"
    },
    "tags": []
   },
   "outputs": [
    {
     "name": "stdout",
     "output_type": "stream",
     "text": [
      "epoch: 1, [batch: 1 / 6720], examples_per_second: 31.0732, train_label_loss: 2.7889, \n"
     ]
    },
    {
     "name": "stdout",
     "output_type": "stream",
     "text": [
      "epoch: 1, [batch: 672 / 6720], examples_per_second: 2325.3878, train_label_loss: 0.7924, \n"
     ]
    },
    {
     "name": "stdout",
     "output_type": "stream",
     "text": [
      "epoch: 1, [batch: 1344 / 6720], examples_per_second: 2308.6747, train_label_loss: 0.5772, \n"
     ]
    },
    {
     "name": "stdout",
     "output_type": "stream",
     "text": [
      "epoch: 1, [batch: 2016 / 6720], examples_per_second: 2287.0939, train_label_loss: 1.3805, \n"
     ]
    },
    {
     "name": "stdout",
     "output_type": "stream",
     "text": [
      "epoch: 1, [batch: 2688 / 6720], examples_per_second: 2344.4286, train_label_loss: 0.3809, \n"
     ]
    },
    {
     "name": "stdout",
     "output_type": "stream",
     "text": [
      "epoch: 1, [batch: 3360 / 6720], examples_per_second: 2638.2615, train_label_loss: 0.6284, \n"
     ]
    },
    {
     "name": "stdout",
     "output_type": "stream",
     "text": [
      "epoch: 1, [batch: 4032 / 6720], examples_per_second: 2599.3919, train_label_loss: 0.5316, \n"
     ]
    },
    {
     "name": "stdout",
     "output_type": "stream",
     "text": [
      "epoch: 1, [batch: 4704 / 6720], examples_per_second: 2569.1202, train_label_loss: 0.4816, \n"
     ]
    },
    {
     "name": "stdout",
     "output_type": "stream",
     "text": [
      "epoch: 1, [batch: 5376 / 6720], examples_per_second: 2582.2273, train_label_loss: 0.9202, \n"
     ]
    },
    {
     "name": "stdout",
     "output_type": "stream",
     "text": [
      "epoch: 1, [batch: 6048 / 6720], examples_per_second: 2620.2550, train_label_loss: 0.3657, \n"
     ]
    },
    {
     "name": "stdout",
     "output_type": "stream",
     "text": [
      "=============================================================\n",
      "epoch: 1, source_val_acc_label: 0.7781, target_val_acc_label: 0.7912, source_val_label_loss: 8.3007, target_val_label_loss: 4.6781, \n",
      "=============================================================\n"
     ]
    },
    {
     "name": "stdout",
     "output_type": "stream",
     "text": [
      "New best\n"
     ]
    },
    {
     "name": "stdout",
     "output_type": "stream",
     "text": [
      "epoch: 2, [batch: 1 / 6720], examples_per_second: 2.0753, train_label_loss: 0.6730, \n"
     ]
    },
    {
     "name": "stdout",
     "output_type": "stream",
     "text": [
      "epoch: 2, [batch: 672 / 6720], examples_per_second: 2298.3149, train_label_loss: 0.7370, \n"
     ]
    },
    {
     "name": "stdout",
     "output_type": "stream",
     "text": [
      "epoch: 2, [batch: 1344 / 6720], examples_per_second: 2307.4984, train_label_loss: 0.6338, \n"
     ]
    },
    {
     "name": "stdout",
     "output_type": "stream",
     "text": [
      "epoch: 2, [batch: 2016 / 6720], examples_per_second: 2299.4739, train_label_loss: 0.6058, \n"
     ]
    },
    {
     "name": "stdout",
     "output_type": "stream",
     "text": [
      "epoch: 2, [batch: 2688 / 6720], examples_per_second: 2296.2419, train_label_loss: 0.5767, \n"
     ]
    },
    {
     "name": "stdout",
     "output_type": "stream",
     "text": [
      "epoch: 2, [batch: 3360 / 6720], examples_per_second: 2554.5376, train_label_loss: 0.3439, \n"
     ]
    },
    {
     "name": "stdout",
     "output_type": "stream",
     "text": [
      "epoch: 2, [batch: 4032 / 6720], examples_per_second: 2628.0808, train_label_loss: 0.6642, \n"
     ]
    },
    {
     "name": "stdout",
     "output_type": "stream",
     "text": [
      "epoch: 2, [batch: 4704 / 6720], examples_per_second: 2914.0789, train_label_loss: 0.4847, \n"
     ]
    },
    {
     "name": "stdout",
     "output_type": "stream",
     "text": [
      "epoch: 2, [batch: 5376 / 6720], examples_per_second: 2581.7918, train_label_loss: 0.3378, \n"
     ]
    },
    {
     "name": "stdout",
     "output_type": "stream",
     "text": [
      "epoch: 2, [batch: 6048 / 6720], examples_per_second: 2953.6364, train_label_loss: 0.8287, \n"
     ]
    },
    {
     "name": "stdout",
     "output_type": "stream",
     "text": [
      "=============================================================\n",
      "epoch: 2, source_val_acc_label: 0.8029, target_val_acc_label: 0.8125, source_val_label_loss: 0.5415, target_val_label_loss: 0.5197, \n",
      "=============================================================\n"
     ]
    },
    {
     "name": "stdout",
     "output_type": "stream",
     "text": [
      "New best\n"
     ]
    },
    {
     "name": "stdout",
     "output_type": "stream",
     "text": [
      "epoch: 3, [batch: 1 / 6720], examples_per_second: 2.2534, train_label_loss: 0.3510, \n"
     ]
    },
    {
     "name": "stdout",
     "output_type": "stream",
     "text": [
      "epoch: 3, [batch: 672 / 6720], examples_per_second: 2598.4617, train_label_loss: 0.5065, \n"
     ]
    },
    {
     "name": "stdout",
     "output_type": "stream",
     "text": [
      "epoch: 3, [batch: 1344 / 6720], examples_per_second: 2702.9127, train_label_loss: 0.8106, \n"
     ]
    },
    {
     "name": "stdout",
     "output_type": "stream",
     "text": [
      "epoch: 3, [batch: 2016 / 6720], examples_per_second: 2713.4240, train_label_loss: 0.5087, \n"
     ]
    },
    {
     "name": "stdout",
     "output_type": "stream",
     "text": [
      "epoch: 3, [batch: 2688 / 6720], examples_per_second: 2992.4550, train_label_loss: 0.3567, \n"
     ]
    },
    {
     "name": "stdout",
     "output_type": "stream",
     "text": [
      "epoch: 3, [batch: 3360 / 6720], examples_per_second: 2591.9017, train_label_loss: 0.2205, \n"
     ]
    },
    {
     "name": "stdout",
     "output_type": "stream",
     "text": [
      "epoch: 3, [batch: 4032 / 6720], examples_per_second: 2766.1124, train_label_loss: 0.3038, \n"
     ]
    },
    {
     "name": "stdout",
     "output_type": "stream",
     "text": [
      "epoch: 3, [batch: 4704 / 6720], examples_per_second: 3003.1959, train_label_loss: 0.3348, \n"
     ]
    },
    {
     "name": "stdout",
     "output_type": "stream",
     "text": [
      "epoch: 3, [batch: 5376 / 6720], examples_per_second: 2690.5435, train_label_loss: 0.4171, \n"
     ]
    },
    {
     "name": "stdout",
     "output_type": "stream",
     "text": [
      "epoch: 3, [batch: 6048 / 6720], examples_per_second: 2568.7052, train_label_loss: 0.2522, \n"
     ]
    },
    {
     "name": "stdout",
     "output_type": "stream",
     "text": [
      "=============================================================\n",
      "epoch: 3, source_val_acc_label: 0.8365, target_val_acc_label: 0.8436, source_val_label_loss: 0.4694, target_val_label_loss: 0.4494, \n",
      "=============================================================\n"
     ]
    },
    {
     "name": "stdout",
     "output_type": "stream",
     "text": [
      "New best\n"
     ]
    },
    {
     "name": "stdout",
     "output_type": "stream",
     "text": [
      "epoch: 4, [batch: 1 / 6720], examples_per_second: 2.2786, train_label_loss: 0.4215, \n"
     ]
    },
    {
     "name": "stdout",
     "output_type": "stream",
     "text": [
      "epoch: 4, [batch: 672 / 6720], examples_per_second: 2608.8261, train_label_loss: 0.5460, \n"
     ]
    },
    {
     "name": "stdout",
     "output_type": "stream",
     "text": [
      "epoch: 4, [batch: 1344 / 6720], examples_per_second: 2682.3994, train_label_loss: 0.6481, \n"
     ]
    },
    {
     "name": "stdout",
     "output_type": "stream",
     "text": [
      "epoch: 4, [batch: 2016 / 6720], examples_per_second: 2609.6575, train_label_loss: 0.1404, \n"
     ]
    },
    {
     "name": "stdout",
     "output_type": "stream",
     "text": [
      "epoch: 4, [batch: 2688 / 6720], examples_per_second: 2596.9698, train_label_loss: 0.7197, \n"
     ]
    },
    {
     "name": "stdout",
     "output_type": "stream",
     "text": [
      "epoch: 4, [batch: 3360 / 6720], examples_per_second: 3008.1064, train_label_loss: 0.8084, \n"
     ]
    },
    {
     "name": "stdout",
     "output_type": "stream",
     "text": [
      "epoch: 4, [batch: 4032 / 6720], examples_per_second: 3436.7340, train_label_loss: 0.2324, \n"
     ]
    },
    {
     "name": "stdout",
     "output_type": "stream",
     "text": [
      "epoch: 4, [batch: 4704 / 6720], examples_per_second: 3520.3675, train_label_loss: 0.2469, \n"
     ]
    },
    {
     "name": "stdout",
     "output_type": "stream",
     "text": [
      "epoch: 4, [batch: 5376 / 6720], examples_per_second: 3252.8804, train_label_loss: 0.1239, \n"
     ]
    },
    {
     "name": "stdout",
     "output_type": "stream",
     "text": [
      "epoch: 4, [batch: 6048 / 6720], examples_per_second: 3047.4693, train_label_loss: 0.2808, \n"
     ]
    },
    {
     "name": "stdout",
     "output_type": "stream",
     "text": [
      "=============================================================\n",
      "epoch: 4, source_val_acc_label: 0.8647, target_val_acc_label: 0.8567, source_val_label_loss: 0.3767, target_val_label_loss: 0.3971, \n",
      "=============================================================\n"
     ]
    },
    {
     "name": "stdout",
     "output_type": "stream",
     "text": [
      "New best\n"
     ]
    },
    {
     "name": "stdout",
     "output_type": "stream",
     "text": [
      "epoch: 5, [batch: 1 / 6720], examples_per_second: 2.4958, train_label_loss: 0.2169, \n"
     ]
    },
    {
     "name": "stdout",
     "output_type": "stream",
     "text": [
      "epoch: 5, [batch: 672 / 6720], examples_per_second: 2303.8566, train_label_loss: 0.6394, \n"
     ]
    },
    {
     "name": "stdout",
     "output_type": "stream",
     "text": [
      "epoch: 5, [batch: 1344 / 6720], examples_per_second: 2289.3947, train_label_loss: 0.3004, \n"
     ]
    },
    {
     "name": "stdout",
     "output_type": "stream",
     "text": [
      "epoch: 5, [batch: 2016 / 6720], examples_per_second: 2303.2063, train_label_loss: 0.4665, \n"
     ]
    },
    {
     "name": "stdout",
     "output_type": "stream",
     "text": [
      "epoch: 5, [batch: 2688 / 6720], examples_per_second: 2299.7245, train_label_loss: 0.4792, \n"
     ]
    },
    {
     "name": "stdout",
     "output_type": "stream",
     "text": [
      "epoch: 5, [batch: 3360 / 6720], examples_per_second: 2349.6104, train_label_loss: 0.0920, \n"
     ]
    },
    {
     "name": "stdout",
     "output_type": "stream",
     "text": [
      "epoch: 5, [batch: 4032 / 6720], examples_per_second: 2564.3972, train_label_loss: 0.2679, \n"
     ]
    },
    {
     "name": "stdout",
     "output_type": "stream",
     "text": [
      "epoch: 5, [batch: 4704 / 6720], examples_per_second: 2651.1798, train_label_loss: 0.3604, \n"
     ]
    },
    {
     "name": "stdout",
     "output_type": "stream",
     "text": [
      "epoch: 5, [batch: 5376 / 6720], examples_per_second: 2599.6393, train_label_loss: 0.2453, \n"
     ]
    },
    {
     "name": "stdout",
     "output_type": "stream",
     "text": [
      "epoch: 5, [batch: 6048 / 6720], examples_per_second: 2793.5858, train_label_loss: 0.0450, \n"
     ]
    },
    {
     "name": "stdout",
     "output_type": "stream",
     "text": [
      "=============================================================\n",
      "epoch: 5, source_val_acc_label: 0.8731, target_val_acc_label: 0.8668, source_val_label_loss: 0.3519, target_val_label_loss: 0.3681, \n",
      "=============================================================\n"
     ]
    },
    {
     "name": "stdout",
     "output_type": "stream",
     "text": [
      "New best\n"
     ]
    },
    {
     "name": "stdout",
     "output_type": "stream",
     "text": [
      "epoch: 6, [batch: 1 / 6720], examples_per_second: 2.5533, train_label_loss: 1.2592, \n"
     ]
    },
    {
     "name": "stdout",
     "output_type": "stream",
     "text": [
      "epoch: 6, [batch: 672 / 6720], examples_per_second: 2583.9560, train_label_loss: 0.2237, \n"
     ]
    },
    {
     "name": "stdout",
     "output_type": "stream",
     "text": [
      "epoch: 6, [batch: 1344 / 6720], examples_per_second: 2629.1886, train_label_loss: 0.2195, \n"
     ]
    },
    {
     "name": "stdout",
     "output_type": "stream",
     "text": [
      "epoch: 6, [batch: 2016 / 6720], examples_per_second: 2583.8710, train_label_loss: 0.4986, \n"
     ]
    },
    {
     "name": "stdout",
     "output_type": "stream",
     "text": [
      "epoch: 6, [batch: 2688 / 6720], examples_per_second: 2602.7770, train_label_loss: 0.0554, \n"
     ]
    },
    {
     "name": "stdout",
     "output_type": "stream",
     "text": [
      "epoch: 6, [batch: 3360 / 6720], examples_per_second: 2907.6461, train_label_loss: 0.2355, \n"
     ]
    },
    {
     "name": "stdout",
     "output_type": "stream",
     "text": [
      "epoch: 6, [batch: 4032 / 6720], examples_per_second: 3026.8167, train_label_loss: 0.2164, \n"
     ]
    },
    {
     "name": "stdout",
     "output_type": "stream",
     "text": [
      "epoch: 6, [batch: 4704 / 6720], examples_per_second: 2994.0033, train_label_loss: 0.3874, \n"
     ]
    },
    {
     "name": "stdout",
     "output_type": "stream",
     "text": [
      "epoch: 6, [batch: 5376 / 6720], examples_per_second: 3122.5495, train_label_loss: 0.8588, \n"
     ]
    },
    {
     "name": "stdout",
     "output_type": "stream",
     "text": [
      "epoch: 6, [batch: 6048 / 6720], examples_per_second: 3428.5169, train_label_loss: 0.4212, \n"
     ]
    },
    {
     "name": "stdout",
     "output_type": "stream",
     "text": [
      "=============================================================\n",
      "epoch: 6, source_val_acc_label: 0.8840, target_val_acc_label: 0.8749, source_val_label_loss: 0.3206, target_val_label_loss: 0.3582, \n",
      "=============================================================\n"
     ]
    },
    {
     "name": "stdout",
     "output_type": "stream",
     "text": [
      "New best\n"
     ]
    },
    {
     "name": "stdout",
     "output_type": "stream",
     "text": [
      "epoch: 7, [batch: 1 / 6720], examples_per_second: 2.9898, train_label_loss: 0.4777, \n"
     ]
    },
    {
     "name": "stdout",
     "output_type": "stream",
     "text": [
      "epoch: 7, [batch: 672 / 6720], examples_per_second: 2909.0565, train_label_loss: 0.5264, \n"
     ]
    },
    {
     "name": "stdout",
     "output_type": "stream",
     "text": [
      "epoch: 7, [batch: 1344 / 6720], examples_per_second: 2691.7005, train_label_loss: 0.5397, \n"
     ]
    },
    {
     "name": "stdout",
     "output_type": "stream",
     "text": [
      "epoch: 7, [batch: 2016 / 6720], examples_per_second: 2316.2028, train_label_loss: 0.0616, \n"
     ]
    },
    {
     "name": "stdout",
     "output_type": "stream",
     "text": [
      "epoch: 7, [batch: 2688 / 6720], examples_per_second: 2362.5593, train_label_loss: 0.6692, \n"
     ]
    },
    {
     "name": "stdout",
     "output_type": "stream",
     "text": [
      "epoch: 7, [batch: 3360 / 6720], examples_per_second: 2597.6702, train_label_loss: 0.1477, \n"
     ]
    },
    {
     "name": "stdout",
     "output_type": "stream",
     "text": [
      "epoch: 7, [batch: 4032 / 6720], examples_per_second: 2608.5695, train_label_loss: 0.1644, \n"
     ]
    },
    {
     "name": "stdout",
     "output_type": "stream",
     "text": [
      "epoch: 7, [batch: 4704 / 6720], examples_per_second: 2556.8227, train_label_loss: 0.3427, \n"
     ]
    },
    {
     "name": "stdout",
     "output_type": "stream",
     "text": [
      "epoch: 7, [batch: 5376 / 6720], examples_per_second: 2833.8084, train_label_loss: 0.4137, \n"
     ]
    },
    {
     "name": "stdout",
     "output_type": "stream",
     "text": [
      "epoch: 7, [batch: 6048 / 6720], examples_per_second: 2894.6521, train_label_loss: 0.1876, \n"
     ]
    },
    {
     "name": "stdout",
     "output_type": "stream",
     "text": [
      "=============================================================\n",
      "epoch: 7, source_val_acc_label: 0.8858, target_val_acc_label: 0.8812, source_val_label_loss: 0.3076, target_val_label_loss: 0.3385, \n",
      "=============================================================\n"
     ]
    },
    {
     "name": "stdout",
     "output_type": "stream",
     "text": [
      "New best\n"
     ]
    },
    {
     "name": "stdout",
     "output_type": "stream",
     "text": [
      "epoch: 8, [batch: 1 / 6720], examples_per_second: 2.6194, train_label_loss: 0.0748, \n"
     ]
    },
    {
     "name": "stdout",
     "output_type": "stream",
     "text": [
      "epoch: 8, [batch: 672 / 6720], examples_per_second: 2593.2968, train_label_loss: 0.2174, \n"
     ]
    },
    {
     "name": "stdout",
     "output_type": "stream",
     "text": [
      "epoch: 8, [batch: 1344 / 6720], examples_per_second: 2547.1031, train_label_loss: 0.1384, \n"
     ]
    },
    {
     "name": "stdout",
     "output_type": "stream",
     "text": [
      "epoch: 8, [batch: 2016 / 6720], examples_per_second: 2324.0087, train_label_loss: 0.2645, \n"
     ]
    },
    {
     "name": "stdout",
     "output_type": "stream",
     "text": [
      "epoch: 8, [batch: 2688 / 6720], examples_per_second: 2324.4313, train_label_loss: 0.0785, \n"
     ]
    },
    {
     "name": "stdout",
     "output_type": "stream",
     "text": [
      "epoch: 8, [batch: 3360 / 6720], examples_per_second: 2316.0059, train_label_loss: 0.1980, \n"
     ]
    },
    {
     "name": "stdout",
     "output_type": "stream",
     "text": [
      "epoch: 8, [batch: 4032 / 6720], examples_per_second: 2323.7428, train_label_loss: 0.2516, \n"
     ]
    },
    {
     "name": "stdout",
     "output_type": "stream",
     "text": [
      "epoch: 8, [batch: 4704 / 6720], examples_per_second: 2442.9207, train_label_loss: 0.1742, \n"
     ]
    },
    {
     "name": "stdout",
     "output_type": "stream",
     "text": [
      "epoch: 8, [batch: 5376 / 6720], examples_per_second: 2641.1796, train_label_loss: 0.0887, \n"
     ]
    },
    {
     "name": "stdout",
     "output_type": "stream",
     "text": [
      "epoch: 8, [batch: 6048 / 6720], examples_per_second: 2664.8728, train_label_loss: 0.0903, \n"
     ]
    },
    {
     "name": "stdout",
     "output_type": "stream",
     "text": [
      "=============================================================\n",
      "epoch: 8, source_val_acc_label: 0.8820, target_val_acc_label: 0.8664, source_val_label_loss: 0.3206, target_val_label_loss: 0.3739, \n",
      "=============================================================\n"
     ]
    },
    {
     "name": "stdout",
     "output_type": "stream",
     "text": [
      "epoch: 9, [batch: 1 / 6720], examples_per_second: 2.0547, train_label_loss: 0.5817, \n"
     ]
    },
    {
     "name": "stdout",
     "output_type": "stream",
     "text": [
      "epoch: 9, [batch: 672 / 6720], examples_per_second: 2570.7001, train_label_loss: 0.1132, \n"
     ]
    },
    {
     "name": "stdout",
     "output_type": "stream",
     "text": [
      "epoch: 9, [batch: 1344 / 6720], examples_per_second: 2617.1588, train_label_loss: 0.2332, \n"
     ]
    },
    {
     "name": "stdout",
     "output_type": "stream",
     "text": [
      "epoch: 9, [batch: 2016 / 6720], examples_per_second: 2354.2504, train_label_loss: 0.2233, \n"
     ]
    },
    {
     "name": "stdout",
     "output_type": "stream",
     "text": [
      "epoch: 9, [batch: 2688 / 6720], examples_per_second: 2336.7029, train_label_loss: 0.3383, \n"
     ]
    },
    {
     "name": "stdout",
     "output_type": "stream",
     "text": [
      "epoch: 9, [batch: 3360 / 6720], examples_per_second: 2333.8266, train_label_loss: 0.6256, \n"
     ]
    },
    {
     "name": "stdout",
     "output_type": "stream",
     "text": [
      "epoch: 9, [batch: 4032 / 6720], examples_per_second: 2410.1224, train_label_loss: 0.2306, \n"
     ]
    },
    {
     "name": "stdout",
     "output_type": "stream",
     "text": [
      "epoch: 9, [batch: 4704 / 6720], examples_per_second: 2601.9669, train_label_loss: 0.1478, \n"
     ]
    },
    {
     "name": "stdout",
     "output_type": "stream",
     "text": [
      "epoch: 9, [batch: 5376 / 6720], examples_per_second: 2546.8625, train_label_loss: 0.2494, \n"
     ]
    },
    {
     "name": "stdout",
     "output_type": "stream",
     "text": [
      "epoch: 9, [batch: 6048 / 6720], examples_per_second: 2447.7148, train_label_loss: 0.0544, \n"
     ]
    },
    {
     "name": "stdout",
     "output_type": "stream",
     "text": [
      "=============================================================\n",
      "epoch: 9, source_val_acc_label: 0.8914, target_val_acc_label: 0.8770, source_val_label_loss: 0.2979, target_val_label_loss: 0.3590, \n",
      "=============================================================\n"
     ]
    },
    {
     "name": "stdout",
     "output_type": "stream",
     "text": [
      "epoch: 10, [batch: 1 / 6720], examples_per_second: 2.0275, train_label_loss: 0.1867, \n"
     ]
    },
    {
     "name": "stdout",
     "output_type": "stream",
     "text": [
      "epoch: 10, [batch: 672 / 6720], examples_per_second: 2585.1363, train_label_loss: 0.4458, \n"
     ]
    },
    {
     "name": "stdout",
     "output_type": "stream",
     "text": [
      "epoch: 10, [batch: 1344 / 6720], examples_per_second: 2649.1457, train_label_loss: 0.1136, \n"
     ]
    },
    {
     "name": "stdout",
     "output_type": "stream",
     "text": [
      "epoch: 10, [batch: 2016 / 6720], examples_per_second: 2310.9719, train_label_loss: 0.2251, \n"
     ]
    },
    {
     "name": "stdout",
     "output_type": "stream",
     "text": [
      "epoch: 10, [batch: 2688 / 6720], examples_per_second: 2326.5236, train_label_loss: 0.2413, \n"
     ]
    },
    {
     "name": "stdout",
     "output_type": "stream",
     "text": [
      "epoch: 10, [batch: 3360 / 6720], examples_per_second: 2384.2460, train_label_loss: 0.2826, \n"
     ]
    },
    {
     "name": "stdout",
     "output_type": "stream",
     "text": [
      "epoch: 10, [batch: 4032 / 6720], examples_per_second: 2609.4218, train_label_loss: 0.0206, \n"
     ]
    },
    {
     "name": "stdout",
     "output_type": "stream",
     "text": [
      "epoch: 10, [batch: 4704 / 6720], examples_per_second: 2564.2323, train_label_loss: 0.1762, \n"
     ]
    },
    {
     "name": "stdout",
     "output_type": "stream",
     "text": [
      "epoch: 10, [batch: 5376 / 6720], examples_per_second: 2532.8150, train_label_loss: 0.1460, \n"
     ]
    },
    {
     "name": "stdout",
     "output_type": "stream",
     "text": [
      "epoch: 10, [batch: 6048 / 6720], examples_per_second: 2301.3864, train_label_loss: 0.0587, \n"
     ]
    },
    {
     "name": "stdout",
     "output_type": "stream",
     "text": [
      "=============================================================\n",
      "epoch: 10, source_val_acc_label: 0.8936, target_val_acc_label: 0.8797, source_val_label_loss: 0.2947, target_val_label_loss: 0.3459, \n",
      "=============================================================\n"
     ]
    },
    {
     "name": "stdout",
     "output_type": "stream",
     "text": [
      "epoch: 11, [batch: 1 / 6720], examples_per_second: 2.0362, train_label_loss: 0.0891, \n"
     ]
    },
    {
     "name": "stdout",
     "output_type": "stream",
     "text": [
      "epoch: 11, [batch: 672 / 6720], examples_per_second: 2629.7701, train_label_loss: 0.1785, \n"
     ]
    },
    {
     "name": "stdout",
     "output_type": "stream",
     "text": [
      "epoch: 11, [batch: 1344 / 6720], examples_per_second: 2730.3040, train_label_loss: 0.1393, \n"
     ]
    },
    {
     "name": "stdout",
     "output_type": "stream",
     "text": [
      "epoch: 11, [batch: 2016 / 6720], examples_per_second: 2303.1192, train_label_loss: 0.1959, \n"
     ]
    },
    {
     "name": "stdout",
     "output_type": "stream",
     "text": [
      "epoch: 11, [batch: 2688 / 6720], examples_per_second: 2344.1080, train_label_loss: 0.5243, \n"
     ]
    },
    {
     "name": "stdout",
     "output_type": "stream",
     "text": [
      "epoch: 11, [batch: 3360 / 6720], examples_per_second: 2583.8338, train_label_loss: 0.5873, \n"
     ]
    },
    {
     "name": "stdout",
     "output_type": "stream",
     "text": [
      "epoch: 11, [batch: 4032 / 6720], examples_per_second: 2660.2263, train_label_loss: 0.1065, \n"
     ]
    },
    {
     "name": "stdout",
     "output_type": "stream",
     "text": [
      "epoch: 11, [batch: 4704 / 6720], examples_per_second: 2542.7352, train_label_loss: 0.4145, \n"
     ]
    },
    {
     "name": "stdout",
     "output_type": "stream",
     "text": [
      "epoch: 11, [batch: 5376 / 6720], examples_per_second: 2318.1416, train_label_loss: 0.2197, \n"
     ]
    },
    {
     "name": "stdout",
     "output_type": "stream",
     "text": [
      "epoch: 11, [batch: 6048 / 6720], examples_per_second: 2305.9921, train_label_loss: 0.0728, \n"
     ]
    },
    {
     "name": "stdout",
     "output_type": "stream",
     "text": [
      "=============================================================\n",
      "epoch: 11, source_val_acc_label: 0.8962, target_val_acc_label: 0.8831, source_val_label_loss: 0.2875, target_val_label_loss: 0.3427, \n",
      "=============================================================\n"
     ]
    },
    {
     "name": "stdout",
     "output_type": "stream",
     "text": [
      "New best\n"
     ]
    },
    {
     "name": "stdout",
     "output_type": "stream",
     "text": [
      "epoch: 12, [batch: 1 / 6720], examples_per_second: 2.0729, train_label_loss: 0.3154, \n"
     ]
    },
    {
     "name": "stdout",
     "output_type": "stream",
     "text": [
      "epoch: 12, [batch: 672 / 6720], examples_per_second: 2973.3104, train_label_loss: 0.1579, \n"
     ]
    },
    {
     "name": "stdout",
     "output_type": "stream",
     "text": [
      "epoch: 12, [batch: 1344 / 6720], examples_per_second: 3039.3592, train_label_loss: 0.0059, \n"
     ]
    },
    {
     "name": "stdout",
     "output_type": "stream",
     "text": [
      "epoch: 12, [batch: 2016 / 6720], examples_per_second: 2678.2482, train_label_loss: 0.1722, \n"
     ]
    },
    {
     "name": "stdout",
     "output_type": "stream",
     "text": [
      "epoch: 12, [batch: 2688 / 6720], examples_per_second: 2913.0557, train_label_loss: 0.0508, \n"
     ]
    },
    {
     "name": "stdout",
     "output_type": "stream",
     "text": [
      "epoch: 12, [batch: 3360 / 6720], examples_per_second: 3064.8121, train_label_loss: 0.3194, \n"
     ]
    },
    {
     "name": "stdout",
     "output_type": "stream",
     "text": [
      "epoch: 12, [batch: 4032 / 6720], examples_per_second: 2994.6012, train_label_loss: 0.2972, \n"
     ]
    },
    {
     "name": "stdout",
     "output_type": "stream",
     "text": [
      "epoch: 12, [batch: 4704 / 6720], examples_per_second: 2967.0502, train_label_loss: 0.1248, \n"
     ]
    },
    {
     "name": "stdout",
     "output_type": "stream",
     "text": [
      "epoch: 12, [batch: 5376 / 6720], examples_per_second: 2501.8803, train_label_loss: 0.1910, \n"
     ]
    },
    {
     "name": "stdout",
     "output_type": "stream",
     "text": [
      "epoch: 12, [batch: 6048 / 6720], examples_per_second: 2335.4525, train_label_loss: 0.4928, \n"
     ]
    },
    {
     "name": "stdout",
     "output_type": "stream",
     "text": [
      "=============================================================\n",
      "epoch: 12, source_val_acc_label: 0.8964, target_val_acc_label: 0.8820, source_val_label_loss: 0.2823, target_val_label_loss: 0.3463, \n",
      "=============================================================\n"
     ]
    },
    {
     "name": "stdout",
     "output_type": "stream",
     "text": [
      "epoch: 13, [batch: 1 / 6720], examples_per_second: 2.0104, train_label_loss: 0.0413, \n"
     ]
    },
    {
     "name": "stdout",
     "output_type": "stream",
     "text": [
      "epoch: 13, [batch: 672 / 6720], examples_per_second: 2604.0305, train_label_loss: 0.2053, \n"
     ]
    },
    {
     "name": "stdout",
     "output_type": "stream",
     "text": [
      "epoch: 13, [batch: 1344 / 6720], examples_per_second: 2615.1756, train_label_loss: 0.0644, \n"
     ]
    },
    {
     "name": "stdout",
     "output_type": "stream",
     "text": [
      "epoch: 13, [batch: 2016 / 6720], examples_per_second: 2852.8668, train_label_loss: 0.1380, \n"
     ]
    },
    {
     "name": "stdout",
     "output_type": "stream",
     "text": [
      "epoch: 13, [batch: 2688 / 6720], examples_per_second: 2958.2388, train_label_loss: 0.1741, \n"
     ]
    },
    {
     "name": "stdout",
     "output_type": "stream",
     "text": [
      "epoch: 13, [batch: 3360 / 6720], examples_per_second: 2997.4125, train_label_loss: 0.1323, \n"
     ]
    },
    {
     "name": "stdout",
     "output_type": "stream",
     "text": [
      "epoch: 13, [batch: 4032 / 6720], examples_per_second: 2963.0099, train_label_loss: 0.1601, \n"
     ]
    },
    {
     "name": "stdout",
     "output_type": "stream",
     "text": [
      "epoch: 13, [batch: 4704 / 6720], examples_per_second: 2963.5887, train_label_loss: 0.2149, \n"
     ]
    },
    {
     "name": "stdout",
     "output_type": "stream",
     "text": [
      "epoch: 13, [batch: 5376 / 6720], examples_per_second: 2907.8315, train_label_loss: 0.3449, \n"
     ]
    },
    {
     "name": "stdout",
     "output_type": "stream",
     "text": [
      "epoch: 13, [batch: 6048 / 6720], examples_per_second: 2939.2253, train_label_loss: 0.3132, \n"
     ]
    },
    {
     "name": "stdout",
     "output_type": "stream",
     "text": [
      "=============================================================\n",
      "epoch: 13, source_val_acc_label: 0.8958, target_val_acc_label: 0.8833, source_val_label_loss: 0.3089, target_val_label_loss: 0.3488, \n",
      "=============================================================\n"
     ]
    },
    {
     "name": "stdout",
     "output_type": "stream",
     "text": [
      "New best\n"
     ]
    },
    {
     "name": "stdout",
     "output_type": "stream",
     "text": [
      "epoch: 14, [batch: 1 / 6720], examples_per_second: 2.7535, train_label_loss: 0.1897, \n"
     ]
    },
    {
     "name": "stdout",
     "output_type": "stream",
     "text": [
      "epoch: 14, [batch: 672 / 6720], examples_per_second: 3696.5203, train_label_loss: 0.1224, \n"
     ]
    },
    {
     "name": "stdout",
     "output_type": "stream",
     "text": [
      "epoch: 14, [batch: 1344 / 6720], examples_per_second: 3946.3032, train_label_loss: 0.3496, \n"
     ]
    },
    {
     "name": "stdout",
     "output_type": "stream",
     "text": [
      "epoch: 14, [batch: 2016 / 6720], examples_per_second: 3951.8089, train_label_loss: 0.1355, \n"
     ]
    },
    {
     "name": "stdout",
     "output_type": "stream",
     "text": [
      "epoch: 14, [batch: 2688 / 6720], examples_per_second: 3900.4220, train_label_loss: 0.0431, \n"
     ]
    },
    {
     "name": "stdout",
     "output_type": "stream",
     "text": [
      "epoch: 14, [batch: 3360 / 6720], examples_per_second: 3866.3065, train_label_loss: 0.6066, \n"
     ]
    },
    {
     "name": "stdout",
     "output_type": "stream",
     "text": [
      "epoch: 14, [batch: 4032 / 6720], examples_per_second: 3827.3499, train_label_loss: 0.1242, \n"
     ]
    },
    {
     "name": "stdout",
     "output_type": "stream",
     "text": [
      "epoch: 14, [batch: 4704 / 6720], examples_per_second: 3798.6386, train_label_loss: 0.0423, \n"
     ]
    },
    {
     "name": "stdout",
     "output_type": "stream",
     "text": [
      "epoch: 14, [batch: 5376 / 6720], examples_per_second: 3492.2676, train_label_loss: 0.2155, \n"
     ]
    },
    {
     "name": "stdout",
     "output_type": "stream",
     "text": [
      "epoch: 14, [batch: 6048 / 6720], examples_per_second: 3034.1319, train_label_loss: 0.0800, \n"
     ]
    },
    {
     "name": "stdout",
     "output_type": "stream",
     "text": [
      "=============================================================\n",
      "epoch: 14, source_val_acc_label: 0.9013, target_val_acc_label: 0.8855, source_val_label_loss: 0.2802, target_val_label_loss: 0.3489, \n",
      "=============================================================\n"
     ]
    },
    {
     "name": "stdout",
     "output_type": "stream",
     "text": [
      "New best\n"
     ]
    },
    {
     "name": "stdout",
     "output_type": "stream",
     "text": [
      "epoch: 15, [batch: 1 / 6720], examples_per_second: 2.3813, train_label_loss: 0.1346, \n"
     ]
    },
    {
     "name": "stdout",
     "output_type": "stream",
     "text": [
      "epoch: 15, [batch: 672 / 6720], examples_per_second: 2317.4487, train_label_loss: 0.1527, \n"
     ]
    },
    {
     "name": "stdout",
     "output_type": "stream",
     "text": [
      "epoch: 15, [batch: 1344 / 6720], examples_per_second: 2336.4660, train_label_loss: 0.1374, \n"
     ]
    },
    {
     "name": "stdout",
     "output_type": "stream",
     "text": [
      "epoch: 15, [batch: 2016 / 6720], examples_per_second: 2321.4716, train_label_loss: 0.2498, \n"
     ]
    },
    {
     "name": "stdout",
     "output_type": "stream",
     "text": [
      "epoch: 15, [batch: 2688 / 6720], examples_per_second: 2301.0832, train_label_loss: 0.3693, \n"
     ]
    },
    {
     "name": "stdout",
     "output_type": "stream",
     "text": [
      "epoch: 15, [batch: 3360 / 6720], examples_per_second: 2314.3132, train_label_loss: 0.0962, \n"
     ]
    },
    {
     "name": "stdout",
     "output_type": "stream",
     "text": [
      "epoch: 15, [batch: 4032 / 6720], examples_per_second: 2505.1448, train_label_loss: 0.1155, \n"
     ]
    },
    {
     "name": "stdout",
     "output_type": "stream",
     "text": [
      "epoch: 15, [batch: 4704 / 6720], examples_per_second: 2613.8036, train_label_loss: 0.1706, \n"
     ]
    },
    {
     "name": "stdout",
     "output_type": "stream",
     "text": [
      "epoch: 15, [batch: 5376 / 6720], examples_per_second: 2680.1156, train_label_loss: 0.1843, \n"
     ]
    },
    {
     "name": "stdout",
     "output_type": "stream",
     "text": [
      "epoch: 15, [batch: 6048 / 6720], examples_per_second: 2474.0554, train_label_loss: 0.2678, \n"
     ]
    },
    {
     "name": "stdout",
     "output_type": "stream",
     "text": [
      "=============================================================\n",
      "epoch: 15, source_val_acc_label: 0.8997, target_val_acc_label: 0.8831, source_val_label_loss: 0.2840, target_val_label_loss: 0.3528, \n",
      "=============================================================\n"
     ]
    },
    {
     "name": "stdout",
     "output_type": "stream",
     "text": [
      "epoch: 16, [batch: 1 / 6720], examples_per_second: 2.1923, train_label_loss: 0.2783, \n"
     ]
    },
    {
     "name": "stdout",
     "output_type": "stream",
     "text": [
      "epoch: 16, [batch: 672 / 6720], examples_per_second: 2323.8026, train_label_loss: 0.1126, \n"
     ]
    },
    {
     "name": "stdout",
     "output_type": "stream",
     "text": [
      "epoch: 16, [batch: 1344 / 6720], examples_per_second: 2283.2374, train_label_loss: 0.1801, \n"
     ]
    },
    {
     "name": "stdout",
     "output_type": "stream",
     "text": [
      "epoch: 16, [batch: 2016 / 6720], examples_per_second: 2321.6684, train_label_loss: 0.3001, \n"
     ]
    },
    {
     "name": "stdout",
     "output_type": "stream",
     "text": [
      "epoch: 16, [batch: 2688 / 6720], examples_per_second: 2312.6847, train_label_loss: 0.0648, \n"
     ]
    },
    {
     "name": "stdout",
     "output_type": "stream",
     "text": [
      "epoch: 16, [batch: 3360 / 6720], examples_per_second: 2311.7274, train_label_loss: 0.0847, \n"
     ]
    },
    {
     "name": "stdout",
     "output_type": "stream",
     "text": [
      "epoch: 16, [batch: 4032 / 6720], examples_per_second: 2459.3447, train_label_loss: 0.3191, \n"
     ]
    },
    {
     "name": "stdout",
     "output_type": "stream",
     "text": [
      "epoch: 16, [batch: 4704 / 6720], examples_per_second: 2699.7489, train_label_loss: 0.1442, \n"
     ]
    },
    {
     "name": "stdout",
     "output_type": "stream",
     "text": [
      "epoch: 16, [batch: 5376 / 6720], examples_per_second: 2971.3237, train_label_loss: 0.0814, \n"
     ]
    },
    {
     "name": "stdout",
     "output_type": "stream",
     "text": [
      "epoch: 16, [batch: 6048 / 6720], examples_per_second: 2920.6493, train_label_loss: 0.1572, \n"
     ]
    },
    {
     "name": "stdout",
     "output_type": "stream",
     "text": [
      "=============================================================\n",
      "epoch: 16, source_val_acc_label: 0.9009, target_val_acc_label: 0.8810, source_val_label_loss: 0.2751, target_val_label_loss: 0.3570, \n",
      "=============================================================\n"
     ]
    },
    {
     "name": "stdout",
     "output_type": "stream",
     "text": [
      "epoch: 17, [batch: 1 / 6720], examples_per_second: 2.5334, train_label_loss: 0.1850, \n"
     ]
    },
    {
     "name": "stdout",
     "output_type": "stream",
     "text": [
      "epoch: 17, [batch: 672 / 6720], examples_per_second: 2612.5606, train_label_loss: 0.0112, \n"
     ]
    },
    {
     "name": "stdout",
     "output_type": "stream",
     "text": [
      "epoch: 17, [batch: 1344 / 6720], examples_per_second: 2998.5473, train_label_loss: 0.1115, \n"
     ]
    },
    {
     "name": "stdout",
     "output_type": "stream",
     "text": [
      "epoch: 17, [batch: 2016 / 6720], examples_per_second: 2503.6034, train_label_loss: 0.6315, \n"
     ]
    },
    {
     "name": "stdout",
     "output_type": "stream",
     "text": [
      "epoch: 17, [batch: 2688 / 6720], examples_per_second: 2308.4228, train_label_loss: 0.0392, \n"
     ]
    },
    {
     "name": "stdout",
     "output_type": "stream",
     "text": [
      "epoch: 17, [batch: 3360 / 6720], examples_per_second: 2303.5898, train_label_loss: 0.0570, \n"
     ]
    },
    {
     "name": "stdout",
     "output_type": "stream",
     "text": [
      "epoch: 17, [batch: 4032 / 6720], examples_per_second: 2407.5115, train_label_loss: 0.2442, \n"
     ]
    },
    {
     "name": "stdout",
     "output_type": "stream",
     "text": [
      "epoch: 17, [batch: 4704 / 6720], examples_per_second: 2599.4650, train_label_loss: 0.0465, \n"
     ]
    },
    {
     "name": "stdout",
     "output_type": "stream",
     "text": [
      "epoch: 17, [batch: 5376 / 6720], examples_per_second: 2592.5306, train_label_loss: 0.0508, \n"
     ]
    },
    {
     "name": "stdout",
     "output_type": "stream",
     "text": [
      "epoch: 17, [batch: 6048 / 6720], examples_per_second: 2713.5411, train_label_loss: 0.0317, \n"
     ]
    },
    {
     "name": "stdout",
     "output_type": "stream",
     "text": [
      "=============================================================\n",
      "epoch: 17, source_val_acc_label: 0.9008, target_val_acc_label: 0.8834, source_val_label_loss: 0.2854, target_val_label_loss: 0.3577, \n",
      "=============================================================\n"
     ]
    },
    {
     "name": "stdout",
     "output_type": "stream",
     "text": [
      "epoch: 18, [batch: 1 / 6720], examples_per_second: 2.2089, train_label_loss: 0.1366, \n"
     ]
    },
    {
     "name": "stdout",
     "output_type": "stream",
     "text": [
      "epoch: 18, [batch: 672 / 6720], examples_per_second: 2317.1303, train_label_loss: 0.1374, \n"
     ]
    },
    {
     "name": "stdout",
     "output_type": "stream",
     "text": [
      "epoch: 18, [batch: 1344 / 6720], examples_per_second: 2313.1437, train_label_loss: 0.0244, \n"
     ]
    },
    {
     "name": "stdout",
     "output_type": "stream",
     "text": [
      "epoch: 18, [batch: 2016 / 6720], examples_per_second: 2330.0395, train_label_loss: 0.1885, \n"
     ]
    },
    {
     "name": "stdout",
     "output_type": "stream",
     "text": [
      "epoch: 18, [batch: 2688 / 6720], examples_per_second: 2305.2046, train_label_loss: 0.0061, \n"
     ]
    },
    {
     "name": "stdout",
     "output_type": "stream",
     "text": [
      "epoch: 18, [batch: 3360 / 6720], examples_per_second: 2312.5302, train_label_loss: 0.1466, \n"
     ]
    },
    {
     "name": "stdout",
     "output_type": "stream",
     "text": [
      "epoch: 18, [batch: 4032 / 6720], examples_per_second: 2358.5560, train_label_loss: 0.3962, \n"
     ]
    },
    {
     "name": "stdout",
     "output_type": "stream",
     "text": [
      "epoch: 18, [batch: 4704 / 6720], examples_per_second: 2627.4467, train_label_loss: 0.3556, \n"
     ]
    },
    {
     "name": "stdout",
     "output_type": "stream",
     "text": [
      "epoch: 18, [batch: 5376 / 6720], examples_per_second: 2648.8984, train_label_loss: 0.1032, \n"
     ]
    },
    {
     "name": "stdout",
     "output_type": "stream",
     "text": [
      "epoch: 18, [batch: 6048 / 6720], examples_per_second: 2864.6759, train_label_loss: 0.1360, \n"
     ]
    },
    {
     "name": "stdout",
     "output_type": "stream",
     "text": [
      "=============================================================\n",
      "epoch: 18, source_val_acc_label: 0.8996, target_val_acc_label: 0.8779, source_val_label_loss: 0.2864, target_val_label_loss: 0.3666, \n",
      "=============================================================\n"
     ]
    },
    {
     "name": "stdout",
     "output_type": "stream",
     "text": [
      "Patience (3) exhausted\n"
     ]
    }
   ],
   "source": [
    "###################################\n",
    "# train\n",
    "###################################\n",
    "jig = PTN_Train_Eval_Test_Jig(model, p.BEST_MODEL_PATH, p.device)\n",
    "\n",
    "jig.train(\n",
    "    train_iterable=datasets.source.processed.train,\n",
    "    source_val_iterable=datasets.source.processed.val,\n",
    "    target_val_iterable=datasets.target.processed.val,\n",
    "    num_epochs=p.n_epoch,\n",
    "    num_logs_per_epoch=p.NUM_LOGS_PER_EPOCH,\n",
    "    patience=p.patience,\n",
    "    optimizer=optimizer,\n",
    "    criteria_for_best=p.criteria_for_best,\n",
    ")"
   ]
  },
  {
   "cell_type": "code",
   "execution_count": 23,
   "id": "31e8fabf",
   "metadata": {
    "execution": {
     "iopub.execute_input": "2022-03-21T15:06:04.756040Z",
     "iopub.status.busy": "2022-03-21T15:06:04.755655Z",
     "iopub.status.idle": "2022-03-21T15:06:04.787807Z",
     "shell.execute_reply": "2022-03-21T15:06:04.786950Z"
    },
    "papermill": {
     "duration": 0.112677,
     "end_time": "2022-03-21T15:06:04.787983",
     "exception": false,
     "start_time": "2022-03-21T15:06:04.675306",
     "status": "completed"
    },
    "tags": []
   },
   "outputs": [],
   "source": [
    "total_experiment_time_secs = time.time() - start_time_secs"
   ]
  },
  {
   "cell_type": "code",
   "execution_count": 24,
   "id": "87b9595b",
   "metadata": {
    "execution": {
     "iopub.execute_input": "2022-03-21T15:06:04.960405Z",
     "iopub.status.busy": "2022-03-21T15:06:04.959476Z",
     "iopub.status.idle": "2022-03-21T15:10:43.350996Z",
     "shell.execute_reply": "2022-03-21T15:10:43.350281Z"
    },
    "papermill": {
     "duration": 278.477871,
     "end_time": "2022-03-21T15:10:43.351180",
     "exception": false,
     "start_time": "2022-03-21T15:06:04.873309",
     "status": "completed"
    },
    "tags": []
   },
   "outputs": [],
   "source": [
    "###################################\n",
    "# Evaluate the model\n",
    "###################################\n",
    "source_test_label_accuracy, source_test_label_loss = jig.test(datasets.source.processed.test)\n",
    "target_test_label_accuracy, target_test_label_loss = jig.test(datasets.target.processed.test)\n",
    "\n",
    "source_val_label_accuracy, source_val_label_loss = jig.test(datasets.source.processed.val)\n",
    "target_val_label_accuracy, target_val_label_loss = jig.test(datasets.target.processed.val)\n",
    "\n",
    "history = jig.get_history()\n",
    "\n",
    "total_epochs_trained = len(history[\"epoch_indices\"])\n",
    "\n",
    "val_dl = Iterable_Aggregator((datasets.source.original.val,datasets.target.original.val))\n",
    "\n",
    "confusion = ptn_confusion_by_domain_over_dataloader(model, p.device, val_dl)\n",
    "per_domain_accuracy = per_domain_accuracy_from_confusion(confusion)\n",
    "\n",
    "# Add a key to per_domain_accuracy for if it was a source domain\n",
    "for domain, accuracy in per_domain_accuracy.items():\n",
    "    per_domain_accuracy[domain] = {\n",
    "        \"accuracy\": accuracy,\n",
    "        \"source?\": domain in p.domains_source\n",
    "    }\n",
    "\n",
    "# Do an independent accuracy assesment JUST TO BE SURE!\n",
    "# _source_test_label_accuracy = independent_accuracy_assesment(model, datasets.source.processed.test, p.device)\n",
    "# _target_test_label_accuracy = independent_accuracy_assesment(model, datasets.target.processed.test, p.device)\n",
    "# _source_val_label_accuracy = independent_accuracy_assesment(model, datasets.source.processed.val, p.device)\n",
    "# _target_val_label_accuracy = independent_accuracy_assesment(model, datasets.target.processed.val, p.device)\n",
    "\n",
    "# assert(_source_test_label_accuracy == source_test_label_accuracy)\n",
    "# assert(_target_test_label_accuracy == target_test_label_accuracy)\n",
    "# assert(_source_val_label_accuracy == source_val_label_accuracy)\n",
    "# assert(_target_val_label_accuracy == target_val_label_accuracy)\n",
    "\n",
    "experiment = {\n",
    "    \"experiment_name\": p.experiment_name,\n",
    "    \"parameters\": dict(p),\n",
    "    \"results\": {\n",
    "        \"source_test_label_accuracy\": source_test_label_accuracy,\n",
    "        \"source_test_label_loss\": source_test_label_loss,\n",
    "        \"target_test_label_accuracy\": target_test_label_accuracy,\n",
    "        \"target_test_label_loss\": target_test_label_loss,\n",
    "        \"source_val_label_accuracy\": source_val_label_accuracy,\n",
    "        \"source_val_label_loss\": source_val_label_loss,\n",
    "        \"target_val_label_accuracy\": target_val_label_accuracy,\n",
    "        \"target_val_label_loss\": target_val_label_loss,\n",
    "        \"total_epochs_trained\": total_epochs_trained,\n",
    "        \"total_experiment_time_secs\": total_experiment_time_secs,\n",
    "        \"confusion\": confusion,\n",
    "        \"per_domain_accuracy\": per_domain_accuracy,\n",
    "    },\n",
    "    \"history\": history,\n",
    "    \"dataset_metrics\": get_dataset_metrics(datasets, \"ptn\"),\n",
    "}"
   ]
  },
  {
   "cell_type": "code",
   "execution_count": 25,
   "id": "54a21829",
   "metadata": {
    "execution": {
     "iopub.execute_input": "2022-03-21T15:10:43.538697Z",
     "iopub.status.busy": "2022-03-21T15:10:43.538320Z",
     "iopub.status.idle": "2022-03-21T15:10:43.754534Z",
     "shell.execute_reply": "2022-03-21T15:10:43.753705Z"
    },
    "papermill": {
     "duration": 0.312652,
     "end_time": "2022-03-21T15:10:43.754702",
     "exception": false,
     "start_time": "2022-03-21T15:10:43.442050",
     "status": "completed"
    },
    "tags": []
   },
   "outputs": [
    {
     "data": {
      "image/png": "[encoded data removed]",
      "text/plain": [
       "<Figure size 1080x504 with 1 Axes>"
      ]
     },
     "metadata": {
      "needs_background": "light"
     },
     "output_type": "display_data"
    }
   ],
   "source": [
    "ax = get_loss_curve(experiment)\n",
    "plt.show()"
   ]
  },
  {
   "cell_type": "code",
   "execution_count": 26,
   "id": "fd8a0f60",
   "metadata": {
    "execution": {
     "iopub.execute_input": "2022-03-21T15:10:43.926740Z",
     "iopub.status.busy": "2022-03-21T15:10:43.926373Z",
     "iopub.status.idle": "2022-03-21T15:10:44.277464Z",
     "shell.execute_reply": "2022-03-21T15:10:44.278134Z"
    },
    "papermill": {
     "duration": 0.437751,
     "end_time": "2022-03-21T15:10:44.278318",
     "exception": false,
     "start_time": "2022-03-21T15:10:43.840567",
     "status": "completed"
    },
    "tags": []
   },
   "outputs": [
    {
     "data": {
      "text/plain": [
       "<AxesSubplot:title={'center':'Results'}>"
      ]
     },
     "execution_count": 26,
     "metadata": {},
     "output_type": "execute_result"
    },
    {
     "data": {
      "image/png": "[encoded data removed]",
      "text/plain": [
       "<Figure size 1080x504 with 1 Axes>"
      ]
     },
     "metadata": {
      "needs_background": "light"
     },
     "output_type": "display_data"
    }
   ],
   "source": [
    "get_results_table(experiment)"
   ]
  },
  {
   "cell_type": "code",
   "execution_count": 27,
   "id": "cf8dc689",
   "metadata": {
    "execution": {
     "iopub.execute_input": "2022-03-21T15:10:44.454335Z",
     "iopub.status.busy": "2022-03-21T15:10:44.453780Z",
     "iopub.status.idle": "2022-03-21T15:10:44.742041Z",
     "shell.execute_reply": "2022-03-21T15:10:44.742709Z"
    },
    "papermill": {
     "duration": 0.37699,
     "end_time": "2022-03-21T15:10:44.742893",
     "exception": false,
     "start_time": "2022-03-21T15:10:44.365903",
     "status": "completed"
    },
    "tags": []
   },
   "outputs": [
    {
     "data": {
      "text/plain": [
       "<AxesSubplot:title={'center':'Per Domain Validation Accuracy'}, xlabel='domain'>"
      ]
     },
     "execution_count": 27,
     "metadata": {},
     "output_type": "execute_result"
    },
    {
     "data": {
      "image/png": "[encoded data removed]",
      "text/plain": [
       "<Figure size 1080x504 with 1 Axes>"
      ]
     },
     "metadata": {
      "needs_background": "light"
     },
     "output_type": "display_data"
    }
   ],
   "source": [
    "get_domain_accuracies(experiment)"
   ]
  },
  {
   "cell_type": "code",
   "execution_count": 28,
   "id": "a74ae082",
   "metadata": {
    "execution": {
     "iopub.execute_input": "2022-03-21T15:10:44.922476Z",
     "iopub.status.busy": "2022-03-21T15:10:44.922104Z",
     "iopub.status.idle": "2022-03-21T15:10:44.951123Z",
     "shell.execute_reply": "2022-03-21T15:10:44.950415Z"
    },
    "papermill": {
     "duration": 0.120032,
     "end_time": "2022-03-21T15:10:44.951281",
     "exception": false,
     "start_time": "2022-03-21T15:10:44.831249",
     "status": "completed"
    },
    "tags": []
   },
   "outputs": [
    {
     "name": "stdout",
     "output_type": "stream",
     "text": [
      "Source Test Label Accuracy: 0.9011067708333333 Target Test Label Accuracy: 0.8856770833333333\n",
      "Source Val Label Accuracy: 0.90126953125 Target Val Label Accuracy: 0.8854817708333333\n"
     ]
    }
   ],
   "source": [
    "print(\"Source Test Label Accuracy:\", experiment[\"results\"][\"source_test_label_accuracy\"], \"Target Test Label Accuracy:\", experiment[\"results\"][\"target_test_label_accuracy\"])\n",
    "print(\"Source Val Label Accuracy:\", experiment[\"results\"][\"source_val_label_accuracy\"], \"Target Val Label Accuracy:\", experiment[\"results\"][\"target_val_label_accuracy\"])"
   ]
  },
  {
   "cell_type": "code",
   "execution_count": 29,
   "id": "dacca602",
   "metadata": {
    "execution": {
     "iopub.execute_input": "2022-03-21T15:10:45.126447Z",
     "iopub.status.busy": "2022-03-21T15:10:45.126078Z",
     "iopub.status.idle": "2022-03-21T15:10:45.150661Z",
     "shell.execute_reply": "2022-03-21T15:10:45.149896Z"
    },
    "papermill": {
     "duration": 0.111719,
     "end_time": "2022-03-21T15:10:45.150822",
     "exception": false,
     "start_time": "2022-03-21T15:10:45.039103",
     "status": "completed"
    },
    "tags": [
     "experiment_json"
    ]
   },
   "outputs": [
    {
     "data": {
      "text/plain": [
       "'{\"experiment_name\": \"tl_1v2:oracle.run1.framed-oracle.run2.framed\", \"parameters\": {\"experiment_name\": \"tl_1v2:oracle.run1.framed-oracle.run2.framed\", \"device\": \"cuda\", \"lr\": 0.0001, \"n_shot\": 3, \"n_query\": 2, \"train_k_factor\": 3, \"val_k_factor\": 2, \"test_k_factor\": 2, \"torch_default_dtype\": \"torch.float32\", \"n_epoch\": 50, \"patience\": 3, \"criteria_for_best\": \"target_accuracy\", \"x_net\": [{\"class\": \"nnReshape\", \"kargs\": {\"shape\": [-1, 1, 2, 256]}}, {\"class\": \"Conv2d\", \"kargs\": {\"in_channels\": 1, \"out_channels\": 256, \"kernel_size\": [1, 7], \"bias\": false, \"padding\": [0, 3]}}, {\"class\": \"ReLU\", \"kargs\": {\"inplace\": true}}, {\"class\": \"BatchNorm2d\", \"kargs\": {\"num_features\": 256}}, {\"class\": \"Conv2d\", \"kargs\": {\"in_channels\": 256, \"out_channels\": 80, \"kernel_size\": [2, 7], \"bias\": true, \"padding\": [0, 3]}}, {\"class\": \"ReLU\", \"kargs\": {\"inplace\": true}}, {\"class\": \"BatchNorm2d\", \"kargs\": {\"num_features\": 80}}, {\"class\": \"Flatten\", \"kargs\": {}}, {\"class\": \"Linear\", \"kargs\": {\"in_features\": 20480, \"out_features\": 256}}, {\"class\": \"ReLU\", \"kargs\": {\"inplace\": true}}, {\"class\": \"BatchNorm1d\", \"kargs\": {\"num_features\": 256}}, {\"class\": \"Linear\", \"kargs\": {\"in_features\": 256, \"out_features\": 256}}], \"NUM_LOGS_PER_EPOCH\": 10, \"BEST_MODEL_PATH\": \"./best_model.pth\", \"n_way\": 16, \"datasets\": [{\"labels\": [\"3123D52\", \"3123D65\", \"3123D79\", \"3123D80\", \"3123D54\", \"3123D70\", \"3123D7B\", \"3123D89\", \"3123D58\", \"3123D76\", \"3123D7D\", \"3123EFE\", \"3123D64\", \"3123D78\", \"3123D7E\", \"3124E4A\"], \"domains\": [32, 38, 8, 44, 14, 50, 20, 26], \"num_examples_per_domain_per_label\": 2000, \"pickle_path\": \"/root/csc500-main/datasets/oracle.Run1_framed_2000Examples_stratified_ds.2022A.pkl\", \"source_or_target_dataset\": \"target\", \"x_transforms\": [\"unit_mag\"], \"episode_transforms\": [], \"domain_prefix\": \"ORACLE.run1_\"}, {\"labels\": [\"3123D52\", \"3123D65\", \"3123D79\", \"3123D80\", \"3123D54\", \"3123D70\", \"3123D7B\", \"3123D89\", \"3123D58\", \"3123D76\", \"3123D7D\", \"3123EFE\", \"3123D64\", \"3123D78\", \"3123D7E\", \"3124E4A\"], \"domains\": [32, 38, 8, 44, 14, 50, 20, 26], \"num_examples_per_domain_per_label\": 2000, \"pickle_path\": \"/root/csc500-main/datasets/oracle.Run2_framed_2000Examples_stratified_ds.2022A.pkl\", \"source_or_target_dataset\": \"source\", \"x_transforms\": [\"unit_mag\"], \"episode_transforms\": [], \"domain_prefix\": \"ORACLE.run2_\"}], \"dataset_seed\": 420, \"seed\": 420, \"x_shape\": [2, 256], \"domains_source\": [\"ORACLE.run2_32\", \"ORACLE.run2_38\", \"ORACLE.run2_8\", \"ORACLE.run2_44\", \"ORACLE.run2_14\", \"ORACLE.run2_50\", \"ORACLE.run2_20\", \"ORACLE.run2_26\"], \"domains_target\": [\"ORACLE.run1_32\", \"ORACLE.run1_38\", \"ORACLE.run1_8\", \"ORACLE.run1_44\", \"ORACLE.run1_14\", \"ORACLE.run1_50\", \"ORACLE.run1_20\", \"ORACLE.run1_26\"]}, \"results\": {\"source_test_label_accuracy\": 0.9011067708333333, \"source_test_label_loss\": 0.2836110293865204, \"target_test_label_accuracy\": 0.8856770833333333, \"target_test_label_loss\": 0.33983349800109863, \"source_val_label_accuracy\": 0.90126953125, \"source_val_label_loss\": 0.28015100955963135, \"target_val_label_accuracy\": 0.8854817708333333, \"target_val_label_loss\": 0.3488619029521942, \"total_epochs_trained\": 18, \"total_experiment_time_secs\": 4639.337986469269, \"confusion\": {\"ORACLE.run2_14\": {\"15\": {\"15\": 240}, \"5\": {\"5\": 208, \"4\": 18, \"2\": 8, \"1\": 5, \"3\": 1}, \"7\": {\"7\": 240}, \"4\": {\"4\": 229, \"5\": 8, \"1\": 3}, \"10\": {\"10\": 240}, \"11\": {\"11\": 240}, \"12\": {\"12\": 213, \"9\": 19, \"11\": 4, \"0\": 3, \"14\": 1}, \"0\": {\"0\": 240}, \"14\": {\"14\": 206, \"2\": 33, \"6\": 1}, \"8\": {\"8\": 240}, \"13\": {\"13\": 210, \"6\": 29, \"2\": 1}, \"6\": {\"13\": 19, \"6\": 220, \"14\": 1}, \"1\": {\"1\": 239, \"5\": 1}, \"3\": {\"3\": 225, \"2\": 7, \"5\": 6, \"4\": 2}, \"9\": {\"9\": 240}, \"2\": {\"2\": 160, \"14\": 44, \"5\": 27, \"3\": 7, \"13\": 2}}, \"ORACLE.run2_20\": {\"4\": {\"4\": 239, \"3\": 1}, \"10\": {\"10\": 240}, \"15\": {\"15\": 198, \"5\": 5, \"13\": 27, \"1\": 7, \"12\": 1, \"2\": 1, \"0\": 1}, \"0\": {\"0\": 231, \"15\": 5, \"5\": 3, \"13\": 1}, \"6\": {\"6\": 239, \"8\": 1}, \"3\": {\"3\": 201, \"2\": 29, \"9\": 9, \"7\": 1}, \"7\": {\"7\": 233, \"8\": 5, \"3\": 2}, \"2\": {\"2\": 187, \"9\": 14, \"3\": 21, \"12\": 8, \"5\": 9, \"13\": 1}, \"8\": {\"8\": 227, \"14\": 9, \"4\": 3, \"7\": 1}, \"11\": {\"11\": 240}, \"14\": {\"14\": 221, \"6\": 4, \"8\": 15}, \"12\": {\"12\": 198, \"1\": 27, \"3\": 2, \"9\": 3, \"2\": 6, \"15\": 2, \"5\": 1, \"13\": 1}, \"13\": {\"13\": 217, \"15\": 21, \"1\": 1, \"2\": 1}, \"9\": {\"9\": 210, \"2\": 21, \"12\": 6, \"3\": 3}, \"5\": {\"2\": 12, \"0\": 15, \"5\": 196, \"12\": 6, \"13\": 4, \"7\": 2, \"15\": 4, \"3\": 1}, \"1\": {\"1\": 217, \"12\": 20, \"15\": 2, \"9\": 1}}, \"ORACLE.run2_50\": {\"5\": {\"5\": 157, \"4\": 60, \"13\": 8, \"7\": 7, \"6\": 7, \"10\": 1}, \"12\": {\"12\": 238, \"11\": 1, \"9\": 1}, \"14\": {\"14\": 239, \"2\": 1}, \"4\": {\"4\": 172, \"6\": 4, \"5\": 61, \"1\": 2, \"15\": 1}, \"13\": {\"13\": 219, \"10\": 14, \"7\": 6, \"5\": 1}, \"10\": {\"10\": 222, \"13\": 16, \"0\": 1, \"5\": 1}, \"9\": {\"9\": 239, \"12\": 1}, \"15\": {\"15\": 233, \"11\": 2, \"1\": 5}, \"6\": {\"6\": 222, \"4\": 5, \"5\": 11, \"15\": 1, \"1\": 1}, \"2\": {\"2\": 230, \"0\": 8, \"14\": 2}, \"0\": {\"0\": 235, \"2\": 5}, \"11\": {\"11\": 236, \"15\": 4}, \"3\": {\"3\": 239, \"8\": 1}, \"8\": {\"8\": 238, \"3\": 2}, \"7\": {\"7\": 216, \"5\": 17, \"13\": 7}, \"1\": {\"1\": 238, \"4\": 2}}, \"ORACLE.run2_26\": {\"7\": {\"2\": 70, \"7\": 148, \"5\": 2, \"4\": 6, \"3\": 9, \"15\": 3, \"8\": 2}, \"6\": {\"9\": 16, \"6\": 222, \"10\": 2}, \"14\": {\"14\": 171, \"0\": 32, \"4\": 2, \"8\": 14, \"10\": 7, \"1\": 14}, \"15\": {\"7\": 12, \"15\": 215, \"2\": 8, \"3\": 3, \"0\": 1, \"4\": 1}, \"5\": {\"5\": 206, \"13\": 23, \"7\": 3, \"3\": 2, \"2\": 6}, \"10\": {\"10\": 125, \"14\": 25, \"0\": 62, \"8\": 15, \"15\": 3, \"6\": 3, \"1\": 5, \"2\": 1, \"4\": 1}, \"4\": {\"4\": 219, \"0\": 2, \"7\": 7, \"2\": 5, \"8\": 3, \"3\": 3, \"14\": 1}, \"11\": {\"11\": 240}, \"13\": {\"13\": 230, \"5\": 6, \"9\": 4}, \"2\": {\"7\": 58, \"2\": 141, \"4\": 6, \"3\": 20, \"8\": 10, \"15\": 3, \"14\": 2}, \"0\": {\"0\": 130, \"10\": 42, \"4\": 16, \"14\": 37, \"8\": 14, \"15\": 1}, \"12\": {\"12\": 240}, \"3\": {\"7\": 7, \"3\": 211, \"2\": 18, \"15\": 3, \"5\": 1}, \"9\": {\"9\": 224, \"13\": 11, \"6\": 3, \"5\": 2}, \"8\": {\"2\": 11, \"8\": 180, \"7\": 9, \"10\": 10, \"0\": 13, \"14\": 11, \"4\": 5, \"9\": 1}, \"1\": {\"1\": 233, \"14\": 7}}, \"ORACLE.run2_32\": {\"7\": {\"7\": 217, \"4\": 13, \"11\": 5, \"13\": 1, \"5\": 3, \"0\": 1}, \"2\": {\"2\": 235, \"4\": 4, \"5\": 1}, \"5\": {\"5\": 197, \"4\": 4, \"14\": 9, \"8\": 12, \"2\": 7, \"0\": 4, \"7\": 7}, \"6\": {\"6\": 240}, \"13\": {\"13\": 202, \"4\": 31, \"8\": 2, \"7\": 2, \"11\": 2, \"0\": 1}, \"4\": {\"4\": 184, \"7\": 12, \"13\": 38, \"11\": 1, \"2\": 2, \"5\": 3}, \"3\": {\"3\": 238, \"8\": 2}, \"0\": {\"11\": 11, \"0\": 206, \"14\": 8, \"8\": 7, \"5\": 4, \"13\": 1, \"4\": 3}, \"9\": {\"9\": 240}, \"12\": {\"12\": 240}, \"8\": {\"8\": 213, \"3\": 4, \"0\": 19, \"13\": 1, \"5\": 3}, \"14\": {\"14\": 233, \"0\": 7}, \"15\": {\"15\": 240}, \"11\": {\"11\": 210, \"7\": 15, \"8\": 2, \"0\": 9, \"13\": 2, \"4\": 2}, \"10\": {\"10\": 240}, \"1\": {\"1\": 240}}, \"ORACLE.run2_44\": {\"11\": {\"11\": 240}, \"7\": {\"7\": 172, \"9\": 59, \"2\": 7, \"6\": 2}, \"6\": {\"6\": 224, \"13\": 4, \"9\": 5, \"7\": 7}, \"12\": {\"12\": 213, \"1\": 22, \"3\": 5}, \"4\": {\"4\": 224, \"14\": 10, \"15\": 5, \"13\": 1}, \"13\": {\"13\": 240}, \"8\": {\"8\": 171, \"0\": 65, \"14\": 2, \"15\": 1, \"5\": 1}, \"5\": {\"5\": 222, \"14\": 16, \"0\": 1, \"8\": 1}, \"14\": {\"14\": 217, \"5\": 5, \"4\": 10, \"15\": 8}, \"3\": {\"3\": 229, \"1\": 3, \"12\": 6, \"2\": 2}, \"10\": {\"10\": 238, \"1\": 2}, \"1\": {\"1\": 206, \"12\": 27, \"3\": 7}, \"2\": {\"2\": 228, \"9\": 6, \"7\": 6}, \"15\": {\"15\": 221, \"4\": 2, \"14\": 14, \"8\": 3}, \"9\": {\"9\": 141, \"7\": 75, \"2\": 20, \"6\": 3, \"1\": 1}, \"0\": {\"0\": 171, \"8\": 69}}, \"ORACLE.run2_8\": {\"10\": {\"0\": 8, \"10\": 220, \"5\": 7, \"14\": 4, \"13\": 1}, \"6\": {\"6\": 191, \"4\": 40, \"7\": 8, \"14\": 1}, \"13\": {\"13\": 234, \"1\": 2, \"14\": 4}, \"3\": {\"3\": 238, \"9\": 1, \"2\": 1}, \"9\": {\"9\": 240}, \"1\": {\"1\": 238, \"13\": 2}, \"5\": {\"5\": 230, \"10\": 10}, \"11\": {\"11\": 233, \"12\": 3, \"8\": 4}, \"4\": {\"4\": 156, \"6\": 43, \"7\": 40, \"2\": 1}, \"14\": {\"14\": 225, \"13\": 2, \"0\": 13}, \"12\": {\"12\": 237, \"8\": 1, \"15\": 2}, \"7\": {\"6\": 11, \"7\": 179, \"4\": 48, \"2\": 2}, \"0\": {\"0\": 232, \"10\": 6, \"14\": 2}, \"15\": {\"15\": 227, \"12\": 10, \"8\": 3}, \"2\": {\"2\": 238, \"4\": 2}, \"8\": {\"8\": 239, \"15\": 1}}, \"ORACLE.run2_38\": {\"4\": {\"4\": 238, \"12\": 1, \"14\": 1}, \"7\": {\"10\": 20, \"7\": 187, \"8\": 17, \"5\": 16}, \"12\": {\"12\": 239, \"14\": 1}, \"10\": {\"10\": 211, \"13\": 2, \"7\": 25, \"3\": 2}, \"0\": {\"0\": 230, \"8\": 6, \"7\": 1, \"3\": 2, \"5\": 1}, \"1\": {\"1\": 228, \"15\": 11, \"6\": 1}, \"5\": {\"5\": 158, \"8\": 64, \"7\": 16, \"15\": 1, \"0\": 1}, \"15\": {\"15\": 216, \"1\": 10, \"5\": 12, \"8\": 2}, \"9\": {\"9\": 238, \"6\": 2}, \"11\": {\"11\": 240}, \"14\": {\"14\": 206, \"2\": 30, \"8\": 1, \"10\": 1, \"7\": 1, \"12\": 1}, \"6\": {\"6\": 239, \"1\": 1}, \"8\": {\"8\": 164, \"5\": 58, \"7\": 11, \"15\": 5, \"0\": 1, \"13\": 1}, \"3\": {\"3\": 200, \"13\": 33, \"10\": 4, \"7\": 1, \"0\": 2}, \"2\": {\"2\": 228, \"14\": 12}, \"13\": {\"13\": 184, \"3\": 50, \"10\": 2, \"7\": 2, \"8\": 1, \"11\": 1}}, \"ORACLE.run1_14\": {\"15\": {\"15\": 240}, \"5\": {\"5\": 210, \"1\": 4, \"4\": 19, \"7\": 2, \"3\": 2, \"2\": 3}, \"7\": {\"7\": 239, \"5\": 1}, \"4\": {\"4\": 229, \"5\": 9, \"1\": 1, \"13\": 1}, \"10\": {\"10\": 240}, \"11\": {\"11\": 214, \"12\": 19, \"9\": 7}, \"12\": {\"12\": 240}, \"0\": {\"0\": 238, \"3\": 2}, \"14\": {\"14\": 227, \"13\": 2, \"2\": 10, \"6\": 1}, \"8\": {\"8\": 240}, \"13\": {\"6\": 84, \"13\": 141, \"15\": 2, \"4\": 1, \"2\": 8, \"5\": 4}, \"6\": {\"13\": 50, \"6\": 186, \"14\": 3, \"2\": 1}, \"1\": {\"1\": 236, \"5\": 4}, \"3\": {\"3\": 238, \"14\": 2}, \"9\": {\"9\": 240}, \"2\": {\"2\": 163, \"13\": 8, \"14\": 49, \"3\": 7, \"5\": 9, \"6\": 3, \"4\": 1}}, \"ORACLE.run1_20\": {\"4\": {\"4\": 235, \"8\": 3, \"7\": 2}, \"10\": {\"10\": 240}, \"15\": {\"15\": 220, \"5\": 5, \"0\": 9, \"1\": 6}, \"0\": {\"0\": 212, \"5\": 15, \"15\": 13}, \"6\": {\"6\": 235, \"14\": 4, \"7\": 1}, \"3\": {\"3\": 200, \"9\": 8, \"12\": 25, \"4\": 1, \"2\": 4, \"7\": 2}, \"7\": {\"7\": 234, \"2\": 3, \"3\": 2, \"9\": 1}, \"2\": {\"2\": 197, \"12\": 8, \"1\": 2, \"3\": 6, \"7\": 8, \"9\": 17, \"13\": 2}, \"8\": {\"8\": 234, \"7\": 2, \"4\": 4}, \"11\": {\"11\": 240}, \"14\": {\"14\": 225, \"6\": 12, \"10\": 3}, \"12\": {\"2\": 4, \"12\": 179, \"3\": 29, \"1\": 25, \"9\": 3}, \"13\": {\"13\": 239, \"2\": 1}, \"9\": {\"9\": 204, \"3\": 15, \"2\": 19, \"12\": 2}, \"5\": {\"0\": 12, \"5\": 221, \"15\": 6, \"1\": 1}, \"1\": {\"15\": 7, \"1\": 213, \"12\": 17, \"3\": 3}}, \"ORACLE.run1_50\": {\"5\": {\"5\": 148, \"7\": 36, \"4\": 34, \"13\": 8, \"1\": 9, \"15\": 1, \"6\": 4}, \"12\": {\"12\": 234, \"11\": 5, \"9\": 1}, \"14\": {\"14\": 240}, \"4\": {\"4\": 171, \"7\": 10, \"15\": 27, \"11\": 1, \"5\": 27, \"6\": 1, \"9\": 1, \"1\": 2}, \"13\": {\"13\": 229, \"5\": 5, \"10\": 3, \"7\": 1, \"0\": 1, \"6\": 1}, \"10\": {\"10\": 219, \"8\": 8, \"0\": 10, \"13\": 3}, \"9\": {\"9\": 228, \"11\": 7, \"12\": 5}, \"15\": {\"15\": 226, \"4\": 5, \"1\": 8, \"11\": 1}, \"6\": {\"6\": 223, \"7\": 3, \"5\": 5, \"1\": 1, \"15\": 2, \"4\": 2, \"13\": 4}, \"2\": {\"2\": 227, \"0\": 12, \"14\": 1}, \"0\": {\"0\": 228, \"2\": 10, \"10\": 2}, \"11\": {\"11\": 225, \"15\": 10, \"12\": 2, \"1\": 1, \"9\": 2}, \"3\": {\"3\": 240}, \"8\": {\"8\": 237, \"10\": 3}, \"7\": {\"7\": 225, \"5\": 8, \"12\": 2, \"13\": 4, \"6\": 1}, \"1\": {\"1\": 232, \"15\": 7, \"5\": 1}}, \"ORACLE.run1_26\": {\"7\": {\"8\": 4, \"7\": 190, \"3\": 17, \"2\": 17, \"4\": 11, \"0\": 1}, \"6\": {\"6\": 232, \"15\": 6, \"10\": 1, \"9\": 1}, \"14\": {\"14\": 181, \"0\": 29, \"4\": 12, \"1\": 10, \"10\": 5, \"7\": 2, \"8\": 1}, \"15\": {\"15\": 197, \"8\": 3, \"13\": 3, \"9\": 24, \"5\": 3, \"6\": 4, \"2\": 4, \"10\": 2}, \"5\": {\"5\": 233, \"13\": 4, \"2\": 2, \"15\": 1}, \"10\": {\"10\": 129, \"0\": 67, \"8\": 26, \"14\": 15, \"4\": 1, \"1\": 2}, \"4\": {\"4\": 219, \"14\": 5, \"0\": 5, \"8\": 6, \"7\": 5}, \"11\": {\"11\": 240}, \"13\": {\"13\": 219, \"9\": 4, \"5\": 12, \"2\": 4, \"15\": 1}, \"2\": {\"7\": 22, \"2\": 126, \"3\": 64, \"5\": 15, \"13\": 5, \"1\": 1, \"15\": 5, \"9\": 1, \"8\": 1}, \"0\": {\"0\": 123, \"8\": 14, \"14\": 35, \"10\": 61, \"1\": 1, \"4\": 5, \"6\": 1}, \"12\": {\"12\": 240}, \"3\": {\"3\": 207, \"2\": 24, \"7\": 9}, \"9\": {\"9\": 215, \"15\": 15, \"6\": 1, \"13\": 6, \"8\": 2, \"10\": 1}, \"8\": {\"8\": 171, \"0\": 13, \"10\": 25, \"4\": 11, \"7\": 12, \"15\": 2, \"14\": 5, \"2\": 1}, \"1\": {\"1\": 227, \"14\": 11, \"8\": 1, \"4\": 1}}, \"ORACLE.run1_32\": {\"7\": {\"7\": 186, \"5\": 34, \"14\": 6, \"2\": 4, \"13\": 3, \"4\": 6, \"11\": 1}, \"2\": {\"2\": 211, \"4\": 27, \"7\": 2}, \"5\": {\"3\": 7, \"8\": 6, \"5\": 147, \"7\": 50, \"4\": 17, \"13\": 9, \"14\": 2, \"2\": 1, \"0\": 1}, \"6\": {\"6\": 240}, \"13\": {\"13\": 196, \"3\": 16, \"8\": 4, \"4\": 19, \"7\": 2, \"11\": 2, \"14\": 1}, \"4\": {\"2\": 37, \"4\": 196, \"7\": 6, \"5\": 1}, \"3\": {\"3\": 237, \"13\": 1, \"11\": 1, \"8\": 1}, \"0\": {\"0\": 222, \"14\": 6, \"8\": 10, \"7\": 2}, \"9\": {\"9\": 240}, \"12\": {\"12\": 240}, \"8\": {\"8\": 226, \"5\": 3, \"0\": 10, \"13\": 1}, \"14\": {\"14\": 190, \"0\": 21, \"8\": 3, \"11\": 20, \"7\": 3, \"5\": 3}, \"15\": {\"15\": 240}, \"11\": {\"11\": 238, \"14\": 2}, \"10\": {\"10\": 240}, \"1\": {\"1\": 240}}, \"ORACLE.run1_44\": {\"11\": {\"11\": 239, \"6\": 1}, \"7\": {\"7\": 165, \"9\": 51, \"2\": 16, \"6\": 8}, \"6\": {\"13\": 33, \"6\": 190, \"9\": 14, \"7\": 3}, \"12\": {\"12\": 231, \"1\": 8, \"3\": 1}, \"4\": {\"4\": 172, \"14\": 61, \"15\": 7}, \"13\": {\"13\": 166, \"6\": 40, \"9\": 28, \"11\": 5, \"7\": 1}, \"8\": {\"8\": 135, \"0\": 99, \"5\": 4, \"15\": 2}, \"5\": {\"5\": 220, \"0\": 7, \"14\": 7, \"8\": 5, \"4\": 1}, \"14\": {\"14\": 164, \"4\": 66, \"15\": 10}, \"3\": {\"3\": 237, \"1\": 3}, \"10\": {\"10\": 203, \"12\": 3, \"1\": 16, \"2\": 17, \"7\": 1}, \"1\": {\"10\": 10, \"1\": 198, \"12\": 18, \"2\": 10, \"3\": 3, \"7\": 1}, \"2\": {\"10\": 8, \"7\": 34, \"2\": 184, \"1\": 14}, \"15\": {\"15\": 203, \"14\": 12, \"0\": 15, \"8\": 5, \"4\": 1, \"5\": 4}, \"9\": {\"9\": 149, \"7\": 42, \"13\": 24, \"6\": 25}, \"0\": {\"0\": 143, \"8\": 93, \"5\": 1, \"15\": 3}}, \"ORACLE.run1_8\": {\"10\": {\"10\": 228, \"13\": 7, \"4\": 2, \"14\": 3}, \"6\": {\"6\": 218, \"7\": 15, \"13\": 3, \"0\": 1, \"4\": 3}, \"13\": {\"6\": 9, \"13\": 131, \"10\": 32, \"4\": 33, \"0\": 28, \"14\": 6, \"7\": 1}, \"3\": {\"3\": 240}, \"9\": {\"9\": 240}, \"1\": {\"1\": 239, \"11\": 1}, \"5\": {\"5\": 235, \"14\": 2, \"1\": 2, \"10\": 1}, \"11\": {\"11\": 228, \"1\": 12}, \"4\": {\"4\": 209, \"13\": 26, \"14\": 4, \"10\": 1}, \"14\": {\"14\": 218, \"10\": 14, \"4\": 4, \"1\": 2, \"13\": 2}, \"12\": {\"12\": 196, \"8\": 16, \"15\": 26, \"3\": 2}, \"7\": {\"7\": 218, \"6\": 20, \"0\": 1, \"9\": 1}, \"0\": {\"0\": 211, \"13\": 16, \"7\": 9, \"10\": 1, \"4\": 1, \"6\": 2}, \"15\": {\"15\": 230, \"12\": 8, \"8\": 2}, \"2\": {\"2\": 230, \"3\": 3, \"7\": 7}, \"8\": {\"8\": 239, \"15\": 1}}, \"ORACLE.run1_38\": {\"4\": {\"4\": 240}, \"7\": {\"7\": 211, \"0\": 7, \"8\": 9, \"5\": 11, \"10\": 2}, \"12\": {\"12\": 240}, \"10\": {\"7\": 9, \"10\": 206, \"8\": 2, \"0\": 6, \"13\": 16, \"14\": 1}, \"0\": {\"0\": 177, \"10\": 7, \"5\": 6, \"7\": 6, \"3\": 20, \"8\": 22, \"13\": 2}, \"1\": {\"1\": 240}, \"5\": {\"8\": 71, \"7\": 20, \"5\": 138, \"0\": 4, \"6\": 4, \"15\": 3}, \"15\": {\"15\": 192, \"8\": 24, \"5\": 10, \"1\": 13, \"13\": 1}, \"9\": {\"9\": 235, \"6\": 2, \"5\": 1, \"7\": 1, \"0\": 1}, \"11\": {\"11\": 240}, \"14\": {\"14\": 232, \"2\": 8}, \"6\": {\"6\": 240}, \"8\": {\"8\": 175, \"5\": 41, \"15\": 7, \"7\": 10, \"0\": 5, \"10\": 1, \"13\": 1}, \"3\": {\"3\": 239, \"10\": 1}, \"2\": {\"2\": 236, \"14\": 4}, \"13\": {\"13\": 233, \"9\": 1, \"0\": 2, \"5\": 1, \"10\": 1, \"8\": 1, \"2\": 1}}}, \"per_domain_accuracy\": {\"ORACLE.run2_14\": {\"accuracy\": 0.9348958333333334, \"source?\": true}, \"ORACLE.run2_20\": {\"accuracy\": 0.9098958333333333, \"source?\": true}, \"ORACLE.run2_50\": {\"accuracy\": 0.93046875, \"source?\": true}, \"ORACLE.run2_26\": {\"accuracy\": 0.81640625, \"source?\": true}, \"ORACLE.run2_32\": {\"accuracy\": 0.9309895833333334, \"source?\": true}, \"ORACLE.run2_44\": {\"accuracy\": 0.87421875, \"source?\": true}, \"ORACLE.run2_8\": {\"accuracy\": 0.9263020833333333, \"source?\": true}, \"ORACLE.run2_38\": {\"accuracy\": 0.8869791666666667, \"source?\": true}, \"ORACLE.run1_14\": {\"accuracy\": 0.9169270833333333, \"source?\": false}, \"ORACLE.run1_20\": {\"accuracy\": 0.91875, \"source?\": false}, \"ORACLE.run1_50\": {\"accuracy\": 0.9197916666666667, \"source?\": false}, \"ORACLE.run1_26\": {\"accuracy\": 0.8200520833333333, \"source?\": false}, \"ORACLE.run1_32\": {\"accuracy\": 0.90859375, \"source?\": false}, \"ORACLE.run1_44\": {\"accuracy\": 0.7809895833333333, \"source?\": false}, \"ORACLE.run1_8\": {\"accuracy\": 0.9140625, \"source?\": false}, \"ORACLE.run1_38\": {\"accuracy\": 0.9046875, \"source?\": false}}}, \"history\": {\"epoch_indices\": [1, 2, 3, 4, 5, 6, 7, 8, 9, 10, 11, 12, 13, 14, 15, 16, 17, 18], \"train_label_loss\": [0.8216549331011872, 0.6299832356916297, 0.43982550275755955, 0.3771040878236471, 0.3311671364298534, 0.29638978921270576, 0.2760459030762182, 0.2598950759245781, 0.24230191833367348, 0.22935038289599885, 0.21229854405239512, 0.20139028138264187, 0.18874029003816845, 0.18261092397737055, 0.17048027232134094, 0.16252249318470907, 0.15496089865264367, 0.15251249871972028], \"source_val_label_loss\": [8.300686836242676, 0.5414556860923767, 0.4694404602050781, 0.3767087757587433, 0.35193613171577454, 0.32059863209724426, 0.30761897563934326, 0.3205515146255493, 0.2979138195514679, 0.2946542203426361, 0.28750258684158325, 0.2822902202606201, 0.30886349081993103, 0.28015100955963135, 0.2840176522731781, 0.2751081585884094, 0.2853909432888031, 0.2864372134208679], \"target_val_label_loss\": [4.678082466125488, 0.5197399854660034, 0.44944238662719727, 0.3970937728881836, 0.36808308959007263, 0.3582306504249573, 0.3385428786277771, 0.3739008605480194, 0.3590046763420105, 0.3458973467350006, 0.34268054366111755, 0.3463371992111206, 0.34883102774620056, 0.3488619029521942, 0.3528050184249878, 0.356953889131546, 0.35771799087524414, 0.3666146397590637], \"source_val_acc_label\": [0.778125, 0.8028645833333333, 0.8364583333333333, 0.8647135416666667, 0.8730794270833333, 0.8840169270833333, 0.8857747395833333, 0.8819661458333333, 0.89140625, 0.8935546875, 0.8961588541666666, 0.89638671875, 0.89580078125, 0.90126953125, 0.89970703125, 0.9009440104166667, 0.9008463541666667, 0.899609375], \"target_val_acc_label\": [0.7912109375, 0.8125, 0.8435546875, 0.8567057291666667, 0.8667643229166667, 0.87490234375, 0.88115234375, 0.8664388020833333, 0.876953125, 0.8796875, 0.8831380208333334, 0.88203125, 0.8832682291666667, 0.8854817708333333, 0.8830729166666667, 0.8810221354166666, 0.8833658854166667, 0.8778645833333333]}, \"dataset_metrics\": {\"source\": {\"train\": {\"n_unique_x\": 179200, \"n_unique_y\": 16, \"n_batch/episode\": 6720}, \"val\": {\"n_unique_x\": 38400, \"n_unique_y\": 16, \"n_batch/episode\": 960}, \"test\": {\"n_unique_x\": 38400, \"n_unique_y\": 16, \"n_batch/episode\": 960}}, \"target\": {\"train\": {\"n_unique_x\": 179200, \"n_unique_y\": 16, \"n_batch/episode\": 6720}, \"val\": {\"n_unique_x\": 38400, \"n_unique_y\": 16, \"n_batch/episode\": 960}, \"test\": {\"n_unique_x\": 38400, \"n_unique_y\": 16, \"n_batch/episode\": 960}}}}'"
      ]
     },
     "execution_count": 29,
     "metadata": {},
     "output_type": "execute_result"
    }
   ],
   "source": [
    "json.dumps(experiment)"
   ]
  }
 ],
 "metadata": {
  "celltoolbar": "Tags",
  "kernelspec": {
   "display_name": "Python 3 (ipykernel)",
   "language": "python",
   "name": "python3"
  },
  "language_info": {
   "codemirror_mode": {
    "name": "ipython",
    "version": 3
   },
   "file_extension": ".py",
   "mimetype": "text/x-python",
   "name": "python",
   "nbconvert_exporter": "python",
   "pygments_lexer": "ipython3",
   "version": "3.8.12"
  },
  "papermill": {
   "default_parameters": {},
   "duration": 4927.060798,
   "end_time": "2022-03-21T15:10:48.833725",
   "environment_variables": {},
   "exception": null,
   "input_path": "/root/csc500-main/csc500-notebooks/templates/tl_ptn_template.ipynb",
   "output_path": "trial.ipynb",
   "parameters": {
    "parameters": {
     "BEST_MODEL_PATH": "./best_model.pth",
     "NUM_LOGS_PER_EPOCH": 10,
     "criteria_for_best": "target_accuracy",
     "dataset_seed": 420,
     "datasets": [
      {
       "domain_prefix": "ORACLE.run1_",
       "domains": [
        32,
        38,
        8,
        44,
        14,
        50,
        20,
        26
       ],
       "episode_transforms": [],
       "labels": [
        "3123D52",
        "3123D65",
        "3123D79",
        "3123D80",
        "3123D54",
        "3123D70",
        "3123D7B",
        "3123D89",
        "3123D58",
        "3123D76",
        "3123D7D",
        "3123EFE",
        "3123D64",
        "3123D78",
        "3123D7E",
        "3124E4A"
       ],
       "num_examples_per_domain_per_label": 2000,
       "pickle_path": "/root/csc500-main/datasets/oracle.Run1_framed_2000Examples_stratified_ds.2022A.pkl",
       "source_or_target_dataset": "target",
       "x_transforms": [
        "unit_mag"
       ]
      },
      {
       "domain_prefix": "ORACLE.run2_",
       "domains": [
        32,
        38,
        8,
        44,
        14,
        50,
        20,
        26
       ],
       "episode_transforms": [],
       "labels": [
        "3123D52",
        "3123D65",
        "3123D79",
        "3123D80",
        "3123D54",
        "3123D70",
        "3123D7B",
        "3123D89",
        "3123D58",
        "3123D76",
        "3123D7D",
        "3123EFE",
        "3123D64",
        "3123D78",
        "3123D7E",
        "3124E4A"
       ],
       "num_examples_per_domain_per_label": 2000,
       "pickle_path": "/root/csc500-main/datasets/oracle.Run2_framed_2000Examples_stratified_ds.2022A.pkl",
       "source_or_target_dataset": "source",
       "x_transforms": [
        "unit_mag"
       ]
      }
     ],
     "device": "cuda",
     "experiment_name": "tl_1v2:oracle.run1.framed-oracle.run2.framed",
     "lr": 0.0001,
     "n_epoch": 50,
     "n_query": 2,
     "n_shot": 3,
     "n_way": 16,
     "patience": 3,
     "seed": 420,
     "test_k_factor": 2,
     "torch_default_dtype": "torch.float32",
     "train_k_factor": 3,
     "val_k_factor": 2,
     "x_net": [
      {
       "class": "nnReshape",
       "kargs": {
        "shape": [
         -1,
         1,
         2,
         256
        ]
       }
      },
      {
       "class": "Conv2d",
       "kargs": {
        "bias": false,
        "in_channels": 1,
        "kernel_size": [
         1,
         7
        ],
        "out_channels": 256,
        "padding": [
         0,
         3
        ]
       }
      },
      {
       "class": "ReLU",
       "kargs": {
        "inplace": true
       }
      },
      {
       "class": "BatchNorm2d",
       "kargs": {
        "num_features": 256
       }
      },
      {
       "class": "Conv2d",
       "kargs": {
        "bias": true,
        "in_channels": 256,
        "kernel_size": [
         2,
         7
        ],
        "out_channels": 80,
        "padding": [
         0,
         3
        ]
       }
      },
      {
       "class": "ReLU",
       "kargs": {
        "inplace": true
       }
      },
      {
       "class": "BatchNorm2d",
       "kargs": {
        "num_features": 80
       }
      },
      {
       "class": "Flatten",
       "kargs": {}
      },
      {
       "class": "Linear",
       "kargs": {
        "in_features": 20480,
        "out_features": 256
       }
      },
      {
       "class": "ReLU",
       "kargs": {
        "inplace": true
       }
      },
      {
       "class": "BatchNorm1d",
       "kargs": {
        "num_features": 256
       }
      },
      {
       "class": "Linear",
       "kargs": {
        "in_features": 256,
        "out_features": 256
       }
      }
     ]
    }
   },
   "start_time": "2022-03-21T13:48:41.772927",
   "version": "2.3.4"
  }
 },
 "nbformat": 4,
 "nbformat_minor": 5
}